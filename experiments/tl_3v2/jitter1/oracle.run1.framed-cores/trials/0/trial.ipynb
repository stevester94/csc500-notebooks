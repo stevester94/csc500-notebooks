{
 "cells": [
  {
   "cell_type": "markdown",
   "id": "9fea5f46",
   "metadata": {
    "papermill": {
     "duration": 0.031083,
     "end_time": "2022-03-28T01:12:51.128603",
     "exception": false,
     "start_time": "2022-03-28T01:12:51.097520",
     "status": "completed"
    },
    "tags": []
   },
   "source": [
    "# Transfer Learning Template"
   ]
  },
  {
   "cell_type": "code",
   "execution_count": 1,
   "id": "0902182a",
   "metadata": {
    "execution": {
     "iopub.execute_input": "2022-03-28T01:12:51.190055Z",
     "iopub.status.busy": "2022-03-28T01:12:51.188527Z",
     "iopub.status.idle": "2022-03-28T01:12:53.316410Z",
     "shell.execute_reply": "2022-03-28T01:12:53.315517Z"
    },
    "papermill": {
     "duration": 2.165105,
     "end_time": "2022-03-28T01:12:53.316613",
     "exception": false,
     "start_time": "2022-03-28T01:12:51.151508",
     "status": "completed"
    },
    "tags": []
   },
   "outputs": [],
   "source": [
    "%load_ext autoreload\n",
    "%autoreload 2\n",
    "%matplotlib inline\n",
    "\n",
    "    \n",
    "import os, json, sys, time, random\n",
    "import numpy as np\n",
    "import torch\n",
    "from torch.optim import Adam\n",
    "from  easydict import EasyDict\n",
    "import matplotlib.pyplot as plt\n",
    "\n",
    "from steves_models.steves_ptn import Steves_Prototypical_Network\n",
    "\n",
    "from steves_utils.lazy_iterable_wrapper import Lazy_Iterable_Wrapper\n",
    "from steves_utils.iterable_aggregator import Iterable_Aggregator\n",
    "from steves_utils.ptn_train_eval_test_jig import  PTN_Train_Eval_Test_Jig\n",
    "from steves_utils.torch_sequential_builder import build_sequential\n",
    "from steves_utils.torch_utils import get_dataset_metrics, ptn_confusion_by_domain_over_dataloader\n",
    "from steves_utils.utils_v2 import (per_domain_accuracy_from_confusion, get_datasets_base_path)\n",
    "from steves_utils.PTN.utils import independent_accuracy_assesment\n",
    "\n",
    "from torch.utils.data import DataLoader\n",
    "\n",
    "from steves_utils.stratified_dataset.episodic_accessor import Episodic_Accessor_Factory\n",
    "\n",
    "from steves_utils.ptn_do_report import (\n",
    "    get_loss_curve,\n",
    "    get_results_table,\n",
    "    get_parameters_table,\n",
    "    get_domain_accuracies,\n",
    ")\n",
    "\n",
    "from steves_utils.transforms import get_chained_transform"
   ]
  },
  {
   "cell_type": "markdown",
   "id": "41c840b4",
   "metadata": {
    "papermill": {
     "duration": 0.018554,
     "end_time": "2022-03-28T01:12:53.359266",
     "exception": false,
     "start_time": "2022-03-28T01:12:53.340712",
     "status": "completed"
    },
    "tags": []
   },
   "source": [
    "# Allowed Parameters\n",
    "These are allowed parameters, not defaults\n",
    "Each of these values need to be present in the injected parameters (the notebook will raise an exception if they are not present)\n",
    "\n",
    "Papermill uses the cell tag \"parameters\" to inject the real parameters below this cell.\n",
    "Enable tags to see what I mean"
   ]
  },
  {
   "cell_type": "code",
   "execution_count": 2,
   "id": "fd44eb83",
   "metadata": {
    "execution": {
     "iopub.execute_input": "2022-03-28T01:12:53.403393Z",
     "iopub.status.busy": "2022-03-28T01:12:53.402999Z",
     "iopub.status.idle": "2022-03-28T01:12:53.426297Z",
     "shell.execute_reply": "2022-03-28T01:12:53.426997Z"
    },
    "papermill": {
     "duration": 0.049281,
     "end_time": "2022-03-28T01:12:53.427222",
     "exception": false,
     "start_time": "2022-03-28T01:12:53.377941",
     "status": "completed"
    },
    "tags": []
   },
   "outputs": [],
   "source": [
    "required_parameters = {\n",
    "    \"experiment_name\",\n",
    "    \"lr\",\n",
    "    \"device\",\n",
    "    \"seed\",\n",
    "    \"dataset_seed\",\n",
    "    \"n_shot\",\n",
    "    \"n_query\",\n",
    "    \"n_way\",\n",
    "    \"train_k_factor\",\n",
    "    \"val_k_factor\",\n",
    "    \"test_k_factor\",\n",
    "    \"n_epoch\",\n",
    "    \"patience\",\n",
    "    \"criteria_for_best\",\n",
    "    \"x_net\",\n",
    "    \"datasets\",\n",
    "    \"torch_default_dtype\",\n",
    "    \"NUM_LOGS_PER_EPOCH\",\n",
    "    \"BEST_MODEL_PATH\",\n",
    "    \"x_shape\",\n",
    "}"
   ]
  },
  {
   "cell_type": "code",
   "execution_count": 3,
   "id": "fa3f0049",
   "metadata": {
    "execution": {
     "iopub.execute_input": "2022-03-28T01:12:53.474814Z",
     "iopub.status.busy": "2022-03-28T01:12:53.474398Z",
     "iopub.status.idle": "2022-03-28T01:12:53.512230Z",
     "shell.execute_reply": "2022-03-28T01:12:53.511451Z"
    },
    "papermill": {
     "duration": 0.059975,
     "end_time": "2022-03-28T01:12:53.512394",
     "exception": false,
     "start_time": "2022-03-28T01:12:53.452419",
     "status": "completed"
    },
    "tags": [
     "parameters"
    ]
   },
   "outputs": [],
   "source": [
    "from steves_utils.CORES.utils import (\n",
    "    ALL_NODES,\n",
    "    ALL_NODES_MINIMUM_1000_EXAMPLES,\n",
    "    ALL_DAYS\n",
    ")\n",
    "\n",
    "from steves_utils.ORACLE.utils_v2 import (\n",
    "    ALL_DISTANCES_FEET_NARROWED,\n",
    "    ALL_RUNS,\n",
    "    ALL_SERIAL_NUMBERS,\n",
    ")\n",
    "\n",
    "standalone_parameters = {}\n",
    "standalone_parameters[\"experiment_name\"] = \"STANDALONE PTN\"\n",
    "standalone_parameters[\"lr\"] = 0.001\n",
    "standalone_parameters[\"device\"] = \"cuda\"\n",
    "\n",
    "standalone_parameters[\"seed\"] = 1337\n",
    "standalone_parameters[\"dataset_seed\"] = 1337\n",
    "\n",
    "standalone_parameters[\"n_way\"] = 8\n",
    "standalone_parameters[\"n_shot\"] = 3\n",
    "standalone_parameters[\"n_query\"]  = 2\n",
    "standalone_parameters[\"train_k_factor\"] = 1\n",
    "standalone_parameters[\"val_k_factor\"] = 2\n",
    "standalone_parameters[\"test_k_factor\"] = 2\n",
    "\n",
    "\n",
    "standalone_parameters[\"n_epoch\"] = 50\n",
    "\n",
    "standalone_parameters[\"patience\"] = 10\n",
    "standalone_parameters[\"criteria_for_best\"] = \"source_loss\"\n",
    "\n",
    "standalone_parameters[\"datasets\"] = [\n",
    "    {\n",
    "        \"labels\": ALL_SERIAL_NUMBERS,\n",
    "        \"domains\": ALL_DISTANCES_FEET_NARROWED,\n",
    "        \"num_examples_per_domain_per_label\": 100,\n",
    "        \"pickle_path\": os.path.join(get_datasets_base_path(), \"oracle.Run1_framed_2000Examples_stratified_ds.2022A.pkl\"),\n",
    "        \"source_or_target_dataset\": \"source\",\n",
    "        \"x_transforms\": [\"unit_mag\", \"minus_two\"],\n",
    "        \"episode_transforms\": [],\n",
    "        \"domain_prefix\": \"ORACLE_\"\n",
    "    },\n",
    "    {\n",
    "        \"labels\": ALL_NODES,\n",
    "        \"domains\": ALL_DAYS,\n",
    "        \"num_examples_per_domain_per_label\": 100,\n",
    "        \"pickle_path\": os.path.join(get_datasets_base_path(), \"cores.stratified_ds.2022A.pkl\"),\n",
    "        \"source_or_target_dataset\": \"target\",\n",
    "        \"x_transforms\": [\"unit_power\", \"times_zero\"],\n",
    "        \"episode_transforms\": [],\n",
    "        \"domain_prefix\": \"CORES_\"\n",
    "    }   \n",
    "]\n",
    "\n",
    "standalone_parameters[\"torch_default_dtype\"] = \"torch.float32\" \n",
    "\n",
    "\n",
    "\n",
    "standalone_parameters[\"x_net\"] =     [\n",
    "    {\"class\": \"nnReshape\", \"kargs\": {\"shape\":[-1, 1, 2, 256]}},\n",
    "    {\"class\": \"Conv2d\", \"kargs\": { \"in_channels\":1, \"out_channels\":256, \"kernel_size\":(1,7), \"bias\":False, \"padding\":(0,3), },},\n",
    "    {\"class\": \"ReLU\", \"kargs\": {\"inplace\": True}},\n",
    "    {\"class\": \"BatchNorm2d\", \"kargs\": {\"num_features\":256}},\n",
    "\n",
    "    {\"class\": \"Conv2d\", \"kargs\": { \"in_channels\":256, \"out_channels\":80, \"kernel_size\":(2,7), \"bias\":True, \"padding\":(0,3), },},\n",
    "    {\"class\": \"ReLU\", \"kargs\": {\"inplace\": True}},\n",
    "    {\"class\": \"BatchNorm2d\", \"kargs\": {\"num_features\":80}},\n",
    "    {\"class\": \"Flatten\", \"kargs\": {}},\n",
    "\n",
    "    {\"class\": \"Linear\", \"kargs\": {\"in_features\": 80*256, \"out_features\": 256}}, # 80 units per IQ pair\n",
    "    {\"class\": \"ReLU\", \"kargs\": {\"inplace\": True}},\n",
    "    {\"class\": \"BatchNorm1d\", \"kargs\": {\"num_features\":256}},\n",
    "\n",
    "    {\"class\": \"Linear\", \"kargs\": {\"in_features\": 256, \"out_features\": 256}},\n",
    "]\n",
    "\n",
    "# Parameters relevant to results\n",
    "# These parameters will basically never need to change\n",
    "standalone_parameters[\"NUM_LOGS_PER_EPOCH\"] = 10\n",
    "standalone_parameters[\"BEST_MODEL_PATH\"] = \"./best_model.pth\"\n",
    "\n",
    "\n",
    "\n",
    "\n"
   ]
  },
  {
   "cell_type": "code",
   "execution_count": 4,
   "id": "53caac22",
   "metadata": {
    "execution": {
     "iopub.execute_input": "2022-03-28T01:12:53.573380Z",
     "iopub.status.busy": "2022-03-28T01:12:53.559914Z",
     "iopub.status.idle": "2022-03-28T01:12:53.595827Z",
     "shell.execute_reply": "2022-03-28T01:12:53.595125Z"
    },
    "papermill": {
     "duration": 0.057665,
     "end_time": "2022-03-28T01:12:53.595985",
     "exception": false,
     "start_time": "2022-03-28T01:12:53.538320",
     "status": "completed"
    },
    "tags": [
     "injected-parameters"
    ]
   },
   "outputs": [],
   "source": [
    "# Parameters\n",
    "parameters = {\n",
    "    \"experiment_name\": \"tl_3-jitter1v2:oracle.run1.framed -> cores\",\n",
    "    \"device\": \"cuda\",\n",
    "    \"lr\": 0.0001,\n",
    "    \"x_shape\": [2, 256],\n",
    "    \"n_shot\": 3,\n",
    "    \"n_query\": 2,\n",
    "    \"train_k_factor\": 3,\n",
    "    \"val_k_factor\": 2,\n",
    "    \"test_k_factor\": 2,\n",
    "    \"torch_default_dtype\": \"torch.float32\",\n",
    "    \"n_epoch\": 50,\n",
    "    \"patience\": 3,\n",
    "    \"criteria_for_best\": \"target_accuracy\",\n",
    "    \"x_net\": [\n",
    "        {\"class\": \"nnReshape\", \"kargs\": {\"shape\": [-1, 1, 2, 256]}},\n",
    "        {\n",
    "            \"class\": \"Conv2d\",\n",
    "            \"kargs\": {\n",
    "                \"in_channels\": 1,\n",
    "                \"out_channels\": 256,\n",
    "                \"kernel_size\": [1, 7],\n",
    "                \"bias\": False,\n",
    "                \"padding\": [0, 3],\n",
    "            },\n",
    "        },\n",
    "        {\"class\": \"ReLU\", \"kargs\": {\"inplace\": True}},\n",
    "        {\"class\": \"BatchNorm2d\", \"kargs\": {\"num_features\": 256}},\n",
    "        {\n",
    "            \"class\": \"Conv2d\",\n",
    "            \"kargs\": {\n",
    "                \"in_channels\": 256,\n",
    "                \"out_channels\": 80,\n",
    "                \"kernel_size\": [2, 7],\n",
    "                \"bias\": True,\n",
    "                \"padding\": [0, 3],\n",
    "            },\n",
    "        },\n",
    "        {\"class\": \"ReLU\", \"kargs\": {\"inplace\": True}},\n",
    "        {\"class\": \"BatchNorm2d\", \"kargs\": {\"num_features\": 80}},\n",
    "        {\"class\": \"Flatten\", \"kargs\": {}},\n",
    "        {\"class\": \"Linear\", \"kargs\": {\"in_features\": 20480, \"out_features\": 256}},\n",
    "        {\"class\": \"ReLU\", \"kargs\": {\"inplace\": True}},\n",
    "        {\"class\": \"BatchNorm1d\", \"kargs\": {\"num_features\": 256}},\n",
    "        {\"class\": \"Linear\", \"kargs\": {\"in_features\": 256, \"out_features\": 256}},\n",
    "    ],\n",
    "    \"NUM_LOGS_PER_EPOCH\": 10,\n",
    "    \"BEST_MODEL_PATH\": \"./best_model.pth\",\n",
    "    \"n_way\": 16,\n",
    "    \"datasets\": [\n",
    "        {\n",
    "            \"labels\": [\n",
    "                \"1-10.\",\n",
    "                \"1-11.\",\n",
    "                \"1-15.\",\n",
    "                \"1-16.\",\n",
    "                \"1-17.\",\n",
    "                \"1-18.\",\n",
    "                \"1-19.\",\n",
    "                \"10-4.\",\n",
    "                \"10-7.\",\n",
    "                \"11-1.\",\n",
    "                \"11-14.\",\n",
    "                \"11-17.\",\n",
    "                \"11-20.\",\n",
    "                \"11-7.\",\n",
    "                \"13-20.\",\n",
    "                \"13-8.\",\n",
    "                \"14-10.\",\n",
    "                \"14-11.\",\n",
    "                \"14-14.\",\n",
    "                \"14-7.\",\n",
    "                \"15-1.\",\n",
    "                \"15-20.\",\n",
    "                \"16-1.\",\n",
    "                \"16-16.\",\n",
    "                \"17-10.\",\n",
    "                \"17-11.\",\n",
    "                \"17-2.\",\n",
    "                \"19-1.\",\n",
    "                \"19-16.\",\n",
    "                \"19-19.\",\n",
    "                \"19-20.\",\n",
    "                \"19-3.\",\n",
    "                \"2-10.\",\n",
    "                \"2-11.\",\n",
    "                \"2-17.\",\n",
    "                \"2-18.\",\n",
    "                \"2-20.\",\n",
    "                \"2-3.\",\n",
    "                \"2-4.\",\n",
    "                \"2-5.\",\n",
    "                \"2-6.\",\n",
    "                \"2-7.\",\n",
    "                \"2-8.\",\n",
    "                \"3-13.\",\n",
    "                \"3-18.\",\n",
    "                \"3-3.\",\n",
    "                \"4-1.\",\n",
    "                \"4-10.\",\n",
    "                \"4-11.\",\n",
    "                \"4-19.\",\n",
    "                \"5-5.\",\n",
    "                \"6-15.\",\n",
    "                \"7-10.\",\n",
    "                \"7-14.\",\n",
    "                \"8-18.\",\n",
    "                \"8-20.\",\n",
    "                \"8-3.\",\n",
    "                \"8-8.\",\n",
    "            ],\n",
    "            \"domains\": [1, 2, 3, 4, 5],\n",
    "            \"num_examples_per_domain_per_label\": -1,\n",
    "            \"pickle_path\": \"/root/csc500-main/datasets/cores.stratified_ds.2022A.pkl\",\n",
    "            \"source_or_target_dataset\": \"target\",\n",
    "            \"x_transforms\": [\n",
    "                \"unit_power\",\n",
    "                \"jitter_256_1\",\n",
    "                \"lowpass_+/-10MHz\",\n",
    "                \"take_200\",\n",
    "            ],\n",
    "            \"episode_transforms\": [],\n",
    "            \"domain_prefix\": \"C_\",\n",
    "        },\n",
    "        {\n",
    "            \"labels\": [\n",
    "                \"3123D52\",\n",
    "                \"3123D65\",\n",
    "                \"3123D79\",\n",
    "                \"3123D80\",\n",
    "                \"3123D54\",\n",
    "                \"3123D70\",\n",
    "                \"3123D7B\",\n",
    "                \"3123D89\",\n",
    "                \"3123D58\",\n",
    "                \"3123D76\",\n",
    "                \"3123D7D\",\n",
    "                \"3123EFE\",\n",
    "                \"3123D64\",\n",
    "                \"3123D78\",\n",
    "                \"3123D7E\",\n",
    "                \"3124E4A\",\n",
    "            ],\n",
    "            \"domains\": [32, 38, 8, 44, 14, 50, 20, 26],\n",
    "            \"num_examples_per_domain_per_label\": 2000,\n",
    "            \"pickle_path\": \"/root/csc500-main/datasets/oracle.Run1_framed_2000Examples_stratified_ds.2022A.pkl\",\n",
    "            \"source_or_target_dataset\": \"source\",\n",
    "            \"x_transforms\": [\n",
    "                \"unit_power\",\n",
    "                \"jitter_256_1\",\n",
    "                \"take_200\",\n",
    "                \"resample_20Msps_to_25Msps\",\n",
    "            ],\n",
    "            \"episode_transforms\": [],\n",
    "            \"domain_prefix\": \"O_\",\n",
    "        },\n",
    "    ],\n",
    "    \"seed\": 1337,\n",
    "    \"dataset_seed\": 1337,\n",
    "}\n"
   ]
  },
  {
   "cell_type": "code",
   "execution_count": 5,
   "id": "8fa1cc33",
   "metadata": {
    "execution": {
     "iopub.execute_input": "2022-03-28T01:12:53.645669Z",
     "iopub.status.busy": "2022-03-28T01:12:53.645093Z",
     "iopub.status.idle": "2022-03-28T01:12:53.667035Z",
     "shell.execute_reply": "2022-03-28T01:12:53.666104Z"
    },
    "papermill": {
     "duration": 0.047673,
     "end_time": "2022-03-28T01:12:53.667196",
     "exception": false,
     "start_time": "2022-03-28T01:12:53.619523",
     "status": "completed"
    },
    "tags": []
   },
   "outputs": [],
   "source": [
    "# Set this to True if you want to run this template directly\n",
    "STANDALONE = False\n",
    "if STANDALONE:\n",
    "    print(\"parameters not injected, running with standalone_parameters\")\n",
    "    parameters = standalone_parameters\n",
    "\n",
    "if not 'parameters' in locals() and not 'parameters' in globals():\n",
    "    raise Exception(\"Parameter injection failed\")\n",
    "\n",
    "#Use an easy dict for all the parameters\n",
    "p = EasyDict(parameters)\n",
    "\n",
    "if \"x_shape\" not in p:\n",
    "    p.x_shape = [2,256] # Default to this if we dont supply x_shape\n",
    "\n",
    "\n",
    "supplied_keys = set(p.keys())\n",
    "\n",
    "if  supplied_keys != required_parameters:\n",
    "    print(\"Parameters are incorrect\")\n",
    "    if len(supplied_keys - required_parameters)>0: print(\"Shouldn't have:\", str(supplied_keys - required_parameters))\n",
    "    if len(required_parameters - supplied_keys)>0: print(\"Need to have:\", str(required_parameters - supplied_keys))\n",
    "    raise RuntimeError(\"Parameters are incorrect\")"
   ]
  },
  {
   "cell_type": "code",
   "execution_count": 6,
   "id": "3a028d58",
   "metadata": {
    "execution": {
     "iopub.execute_input": "2022-03-28T01:12:53.717834Z",
     "iopub.status.busy": "2022-03-28T01:12:53.717273Z",
     "iopub.status.idle": "2022-03-28T01:12:53.742534Z",
     "shell.execute_reply": "2022-03-28T01:12:53.741845Z"
    },
    "papermill": {
     "duration": 0.048585,
     "end_time": "2022-03-28T01:12:53.742693",
     "exception": false,
     "start_time": "2022-03-28T01:12:53.694108",
     "status": "completed"
    },
    "tags": []
   },
   "outputs": [],
   "source": [
    "###################################\n",
    "# Set the RNGs and make it all deterministic\n",
    "###################################\n",
    "np.random.seed(p.seed)\n",
    "random.seed(p.seed)\n",
    "torch.manual_seed(p.seed)\n",
    "\n",
    "torch.use_deterministic_algorithms(True) "
   ]
  },
  {
   "cell_type": "code",
   "execution_count": 7,
   "id": "b691acf6",
   "metadata": {
    "execution": {
     "iopub.execute_input": "2022-03-28T01:12:53.791110Z",
     "iopub.status.busy": "2022-03-28T01:12:53.790742Z",
     "iopub.status.idle": "2022-03-28T01:12:53.813919Z",
     "shell.execute_reply": "2022-03-28T01:12:53.814593Z"
    },
    "papermill": {
     "duration": 0.046653,
     "end_time": "2022-03-28T01:12:53.814770",
     "exception": false,
     "start_time": "2022-03-28T01:12:53.768117",
     "status": "completed"
    },
    "tags": []
   },
   "outputs": [],
   "source": [
    "###########################################\n",
    "# The stratified datasets honor this\n",
    "###########################################\n",
    "torch.set_default_dtype(eval(p.torch_default_dtype))"
   ]
  },
  {
   "cell_type": "code",
   "execution_count": 8,
   "id": "b5fba671",
   "metadata": {
    "execution": {
     "iopub.execute_input": "2022-03-28T01:12:53.862058Z",
     "iopub.status.busy": "2022-03-28T01:12:53.861682Z",
     "iopub.status.idle": "2022-03-28T01:12:53.921074Z",
     "shell.execute_reply": "2022-03-28T01:12:53.921721Z"
    },
    "papermill": {
     "duration": 0.082464,
     "end_time": "2022-03-28T01:12:53.921906",
     "exception": false,
     "start_time": "2022-03-28T01:12:53.839442",
     "status": "completed"
    },
    "tags": []
   },
   "outputs": [],
   "source": [
    "###################################\n",
    "# Build the network(s)\n",
    "# Note: It's critical to do this AFTER setting the RNG\n",
    "###################################\n",
    "x_net = build_sequential(p.x_net)"
   ]
  },
  {
   "cell_type": "code",
   "execution_count": 9,
   "id": "5d7e61cc",
   "metadata": {
    "execution": {
     "iopub.execute_input": "2022-03-28T01:12:53.969728Z",
     "iopub.status.busy": "2022-03-28T01:12:53.969360Z",
     "iopub.status.idle": "2022-03-28T01:12:53.991123Z",
     "shell.execute_reply": "2022-03-28T01:12:53.991817Z"
    },
    "papermill": {
     "duration": 0.044872,
     "end_time": "2022-03-28T01:12:53.992001",
     "exception": false,
     "start_time": "2022-03-28T01:12:53.947129",
     "status": "completed"
    },
    "tags": []
   },
   "outputs": [],
   "source": [
    "start_time_secs = time.time()"
   ]
  },
  {
   "cell_type": "code",
   "execution_count": 10,
   "id": "c6b67dfd",
   "metadata": {
    "execution": {
     "iopub.execute_input": "2022-03-28T01:12:54.042263Z",
     "iopub.status.busy": "2022-03-28T01:12:54.041701Z",
     "iopub.status.idle": "2022-03-28T01:12:54.067179Z",
     "shell.execute_reply": "2022-03-28T01:12:54.067868Z"
    },
    "papermill": {
     "duration": 0.050036,
     "end_time": "2022-03-28T01:12:54.068064",
     "exception": false,
     "start_time": "2022-03-28T01:12:54.018028",
     "status": "completed"
    },
    "tags": []
   },
   "outputs": [],
   "source": [
    "p.domains_source = []\n",
    "p.domains_target = []\n",
    "\n",
    "\n",
    "train_original_source = []\n",
    "val_original_source   = []\n",
    "test_original_source  = []\n",
    "\n",
    "train_original_target = []\n",
    "val_original_target   = []\n",
    "test_original_target  = []"
   ]
  },
  {
   "cell_type": "code",
   "execution_count": 11,
   "id": "e3d9c3d3",
   "metadata": {
    "execution": {
     "iopub.execute_input": "2022-03-28T01:12:54.117178Z",
     "iopub.status.busy": "2022-03-28T01:12:54.116794Z",
     "iopub.status.idle": "2022-03-28T01:12:54.138134Z",
     "shell.execute_reply": "2022-03-28T01:12:54.138822Z"
    },
    "papermill": {
     "duration": 0.044268,
     "end_time": "2022-03-28T01:12:54.139028",
     "exception": false,
     "start_time": "2022-03-28T01:12:54.094760",
     "status": "completed"
    },
    "tags": []
   },
   "outputs": [],
   "source": [
    "# global_x_transform_func = lambda x: normalize(x.to(torch.get_default_dtype()), \"unit_power\") # unit_power, unit_mag\n",
    "# global_x_transform_func = lambda x: normalize(x, \"unit_power\") # unit_power, unit_mag"
   ]
  },
  {
   "cell_type": "code",
   "execution_count": 12,
   "id": "acb78fd2",
   "metadata": {
    "execution": {
     "iopub.execute_input": "2022-03-28T01:12:54.197245Z",
     "iopub.status.busy": "2022-03-28T01:12:54.196462Z",
     "iopub.status.idle": "2022-03-28T01:12:54.216784Z",
     "shell.execute_reply": "2022-03-28T01:12:54.217432Z"
    },
    "papermill": {
     "duration": 0.053389,
     "end_time": "2022-03-28T01:12:54.217619",
     "exception": false,
     "start_time": "2022-03-28T01:12:54.164230",
     "status": "completed"
    },
    "tags": []
   },
   "outputs": [],
   "source": [
    "def add_dataset(\n",
    "    labels,\n",
    "    domains,\n",
    "    pickle_path,\n",
    "    x_transforms,\n",
    "    episode_transforms,\n",
    "    domain_prefix,\n",
    "    num_examples_per_domain_per_label,\n",
    "    source_or_target_dataset:str,\n",
    "    iterator_seed=p.seed,\n",
    "    dataset_seed=p.dataset_seed,\n",
    "    n_shot=p.n_shot,\n",
    "    n_way=p.n_way,\n",
    "    n_query=p.n_query,\n",
    "    train_val_test_k_factors=(p.train_k_factor,p.val_k_factor,p.test_k_factor),\n",
    "):\n",
    "   \n",
    "    if x_transforms == []: x_transform = None\n",
    "    else: x_transform = get_chained_transform(x_transforms)\n",
    "    \n",
    "    if episode_transforms == []: episode_transform = None\n",
    "    else: raise Exception(\"episode_transforms not implemented\")\n",
    "    \n",
    "    episode_transform = lambda tup, _prefix=domain_prefix: (_prefix + str(tup[0]), tup[1])\n",
    "\n",
    "\n",
    "    eaf = Episodic_Accessor_Factory(\n",
    "        labels=labels,\n",
    "        domains=domains,\n",
    "        num_examples_per_domain_per_label=num_examples_per_domain_per_label,\n",
    "        iterator_seed=iterator_seed,\n",
    "        dataset_seed=dataset_seed,\n",
    "        n_shot=n_shot,\n",
    "        n_way=n_way,\n",
    "        n_query=n_query,\n",
    "        train_val_test_k_factors=train_val_test_k_factors,\n",
    "        pickle_path=pickle_path,\n",
    "        x_transform_func=x_transform,\n",
    "    )\n",
    "\n",
    "    train, val, test = eaf.get_train(), eaf.get_val(), eaf.get_test()\n",
    "    train = Lazy_Iterable_Wrapper(train, episode_transform)\n",
    "    val = Lazy_Iterable_Wrapper(val, episode_transform)\n",
    "    test = Lazy_Iterable_Wrapper(test, episode_transform)\n",
    "\n",
    "    if source_or_target_dataset==\"source\":\n",
    "        train_original_source.append(train)\n",
    "        val_original_source.append(val)\n",
    "        test_original_source.append(test)\n",
    "\n",
    "        p.domains_source.extend(\n",
    "            [domain_prefix + str(u) for u in domains]\n",
    "        )\n",
    "    elif source_or_target_dataset==\"target\":\n",
    "        train_original_target.append(train)\n",
    "        val_original_target.append(val)\n",
    "        test_original_target.append(test)\n",
    "        p.domains_target.extend(\n",
    "            [domain_prefix + str(u) for u in domains]\n",
    "        )\n",
    "    else:\n",
    "        raise Exception(f\"invalid source_or_target_dataset: {source_or_target_dataset}\")\n",
    "    "
   ]
  },
  {
   "cell_type": "code",
   "execution_count": 13,
   "id": "fe266617",
   "metadata": {
    "execution": {
     "iopub.execute_input": "2022-03-28T01:12:54.266195Z",
     "iopub.status.busy": "2022-03-28T01:12:54.265828Z",
     "iopub.status.idle": "2022-03-28T01:14:46.905037Z",
     "shell.execute_reply": "2022-03-28T01:14:46.904281Z"
    },
    "papermill": {
     "duration": 112.661903,
     "end_time": "2022-03-28T01:14:46.905226",
     "exception": false,
     "start_time": "2022-03-28T01:12:54.243323",
     "status": "completed"
    },
    "tags": []
   },
   "outputs": [],
   "source": [
    "for ds in p.datasets:\n",
    "    add_dataset(**ds)"
   ]
  },
  {
   "cell_type": "code",
   "execution_count": 14,
   "id": "b90d65ac",
   "metadata": {
    "execution": {
     "iopub.execute_input": "2022-03-28T01:14:46.953091Z",
     "iopub.status.busy": "2022-03-28T01:14:46.952491Z",
     "iopub.status.idle": "2022-03-28T01:14:46.973725Z",
     "shell.execute_reply": "2022-03-28T01:14:46.974375Z"
    },
    "papermill": {
     "duration": 0.04468,
     "end_time": "2022-03-28T01:14:46.974565",
     "exception": false,
     "start_time": "2022-03-28T01:14:46.929885",
     "status": "completed"
    },
    "tags": []
   },
   "outputs": [],
   "source": [
    "# from steves_utils.CORES.utils import (\n",
    "#     ALL_NODES,\n",
    "#     ALL_NODES_MINIMUM_1000_EXAMPLES,\n",
    "#     ALL_DAYS\n",
    "# )\n",
    "\n",
    "# add_dataset(\n",
    "#     labels=ALL_NODES,\n",
    "#     domains = ALL_DAYS,\n",
    "#     num_examples_per_domain_per_label=100,\n",
    "#     pickle_path=os.path.join(get_datasets_base_path(), \"cores.stratified_ds.2022A.pkl\"),\n",
    "#     source_or_target_dataset=\"target\",\n",
    "#     x_transform_func=global_x_transform_func,\n",
    "#     domain_modifier=lambda u: f\"cores_{u}\"\n",
    "# )"
   ]
  },
  {
   "cell_type": "code",
   "execution_count": 15,
   "id": "76db484d",
   "metadata": {
    "execution": {
     "iopub.execute_input": "2022-03-28T01:14:47.024802Z",
     "iopub.status.busy": "2022-03-28T01:14:47.024422Z",
     "iopub.status.idle": "2022-03-28T01:14:47.041829Z",
     "shell.execute_reply": "2022-03-28T01:14:47.041076Z"
    },
    "papermill": {
     "duration": 0.039533,
     "end_time": "2022-03-28T01:14:47.041981",
     "exception": false,
     "start_time": "2022-03-28T01:14:47.002448",
     "status": "completed"
    },
    "tags": []
   },
   "outputs": [],
   "source": [
    "# from steves_utils.ORACLE.utils_v2 import (\n",
    "#     ALL_DISTANCES_FEET,\n",
    "#     ALL_RUNS,\n",
    "#     ALL_SERIAL_NUMBERS,\n",
    "# )\n",
    "\n",
    "\n",
    "# add_dataset(\n",
    "#     labels=ALL_SERIAL_NUMBERS,\n",
    "#     domains = list(set(ALL_DISTANCES_FEET) - {2,62}),\n",
    "#     num_examples_per_domain_per_label=100,\n",
    "#     pickle_path=os.path.join(get_datasets_base_path(), \"oracle.Run2_framed_2000Examples_stratified_ds.2022A.pkl\"),\n",
    "#     source_or_target_dataset=\"source\",\n",
    "#     x_transform_func=global_x_transform_func,\n",
    "#     domain_modifier=lambda u: f\"oracle1_{u}\"\n",
    "# )\n"
   ]
  },
  {
   "cell_type": "code",
   "execution_count": 16,
   "id": "97dea9d2",
   "metadata": {
    "execution": {
     "iopub.execute_input": "2022-03-28T01:14:47.091484Z",
     "iopub.status.busy": "2022-03-28T01:14:47.091103Z",
     "iopub.status.idle": "2022-03-28T01:14:47.116396Z",
     "shell.execute_reply": "2022-03-28T01:14:47.115681Z"
    },
    "papermill": {
     "duration": 0.048495,
     "end_time": "2022-03-28T01:14:47.116551",
     "exception": false,
     "start_time": "2022-03-28T01:14:47.068056",
     "status": "completed"
    },
    "tags": []
   },
   "outputs": [],
   "source": [
    "# from steves_utils.ORACLE.utils_v2 import (\n",
    "#     ALL_DISTANCES_FEET,\n",
    "#     ALL_RUNS,\n",
    "#     ALL_SERIAL_NUMBERS,\n",
    "# )\n",
    "\n",
    "\n",
    "# add_dataset(\n",
    "#     labels=ALL_SERIAL_NUMBERS,\n",
    "#     domains = list(set(ALL_DISTANCES_FEET) - {2,62,56}),\n",
    "#     num_examples_per_domain_per_label=100,\n",
    "#     pickle_path=os.path.join(get_datasets_base_path(), \"oracle.Run2_framed_2000Examples_stratified_ds.2022A.pkl\"),\n",
    "#     source_or_target_dataset=\"source\",\n",
    "#     x_transform_func=global_x_transform_func,\n",
    "#     domain_modifier=lambda u: f\"oracle2_{u}\"\n",
    "# )"
   ]
  },
  {
   "cell_type": "code",
   "execution_count": 17,
   "id": "6f289866",
   "metadata": {
    "execution": {
     "iopub.execute_input": "2022-03-28T01:14:47.164333Z",
     "iopub.status.busy": "2022-03-28T01:14:47.163961Z",
     "iopub.status.idle": "2022-03-28T01:14:47.184644Z",
     "shell.execute_reply": "2022-03-28T01:14:47.185320Z"
    },
    "papermill": {
     "duration": 0.04449,
     "end_time": "2022-03-28T01:14:47.185504",
     "exception": false,
     "start_time": "2022-03-28T01:14:47.141014",
     "status": "completed"
    },
    "tags": []
   },
   "outputs": [],
   "source": [
    "# add_dataset(\n",
    "#     labels=list(range(19)),\n",
    "#     domains = [0,1,2],\n",
    "#     num_examples_per_domain_per_label=100,\n",
    "#     pickle_path=os.path.join(get_datasets_base_path(), \"metehan.stratified_ds.2022A.pkl\"),\n",
    "#     source_or_target_dataset=\"target\",\n",
    "#     x_transform_func=global_x_transform_func,\n",
    "#     domain_modifier=lambda u: f\"met_{u}\"\n",
    "# )"
   ]
  },
  {
   "cell_type": "code",
   "execution_count": 18,
   "id": "86a863c3",
   "metadata": {
    "execution": {
     "iopub.execute_input": "2022-03-28T01:14:47.235972Z",
     "iopub.status.busy": "2022-03-28T01:14:47.235580Z",
     "iopub.status.idle": "2022-03-28T01:14:47.257201Z",
     "shell.execute_reply": "2022-03-28T01:14:47.256496Z"
    },
    "papermill": {
     "duration": 0.045159,
     "end_time": "2022-03-28T01:14:47.257354",
     "exception": false,
     "start_time": "2022-03-28T01:14:47.212195",
     "status": "completed"
    },
    "tags": []
   },
   "outputs": [],
   "source": [
    "# # from steves_utils.wisig.utils import (\n",
    "# #     ALL_NODES_MINIMUM_100_EXAMPLES,\n",
    "# #     ALL_NODES_MINIMUM_500_EXAMPLES,\n",
    "# #     ALL_NODES_MINIMUM_1000_EXAMPLES,\n",
    "# #     ALL_DAYS\n",
    "# # )\n",
    "\n",
    "# import steves_utils.wisig.utils as wisig\n",
    "\n",
    "\n",
    "# add_dataset(\n",
    "#     labels=wisig.ALL_NODES_MINIMUM_100_EXAMPLES,\n",
    "#     domains = wisig.ALL_DAYS,\n",
    "#     num_examples_per_domain_per_label=100,\n",
    "#     pickle_path=os.path.join(get_datasets_base_path(), \"wisig.node3-19.stratified_ds.2022A.pkl\"),\n",
    "#     source_or_target_dataset=\"target\",\n",
    "#     x_transform_func=global_x_transform_func,\n",
    "#     domain_modifier=lambda u: f\"wisig_{u}\"\n",
    "# )"
   ]
  },
  {
   "cell_type": "code",
   "execution_count": 19,
   "id": "fd5442bc",
   "metadata": {
    "execution": {
     "iopub.execute_input": "2022-03-28T01:14:47.312922Z",
     "iopub.status.busy": "2022-03-28T01:14:47.311684Z",
     "iopub.status.idle": "2022-03-28T01:14:47.333440Z",
     "shell.execute_reply": "2022-03-28T01:14:47.332727Z"
    },
    "papermill": {
     "duration": 0.049847,
     "end_time": "2022-03-28T01:14:47.333594",
     "exception": false,
     "start_time": "2022-03-28T01:14:47.283747",
     "status": "completed"
    },
    "tags": []
   },
   "outputs": [],
   "source": [
    "###################################\n",
    "# Build the dataset\n",
    "###################################\n",
    "train_original_source = Iterable_Aggregator(train_original_source, p.seed)\n",
    "val_original_source = Iterable_Aggregator(val_original_source, p.seed)\n",
    "test_original_source = Iterable_Aggregator(test_original_source, p.seed)\n",
    "\n",
    "\n",
    "train_original_target = Iterable_Aggregator(train_original_target, p.seed)\n",
    "val_original_target = Iterable_Aggregator(val_original_target, p.seed)\n",
    "test_original_target = Iterable_Aggregator(test_original_target, p.seed)\n",
    "\n",
    "# For CNN We only use X and Y. And we only train on the source.\n",
    "# Properly form the data using a transform lambda and Lazy_Iterable_Wrapper. Finally wrap them in a dataloader\n",
    "\n",
    "transform_lambda = lambda ex: ex[1] # Original is (<domain>, <episode>) so we strip down to episode only\n",
    "\n",
    "train_processed_source = Lazy_Iterable_Wrapper(train_original_source, transform_lambda)\n",
    "val_processed_source   = Lazy_Iterable_Wrapper(val_original_source, transform_lambda)\n",
    "test_processed_source  = Lazy_Iterable_Wrapper(test_original_source, transform_lambda)\n",
    "\n",
    "train_processed_target = Lazy_Iterable_Wrapper(train_original_target, transform_lambda)\n",
    "val_processed_target   = Lazy_Iterable_Wrapper(val_original_target, transform_lambda)\n",
    "test_processed_target  = Lazy_Iterable_Wrapper(test_original_target, transform_lambda)\n",
    "\n",
    "datasets = EasyDict({\n",
    "    \"source\": {\n",
    "        \"original\": {\"train\":train_original_source, \"val\":val_original_source, \"test\":test_original_source},\n",
    "        \"processed\": {\"train\":train_processed_source, \"val\":val_processed_source, \"test\":test_processed_source}\n",
    "    },\n",
    "    \"target\": {\n",
    "        \"original\": {\"train\":train_original_target, \"val\":val_original_target, \"test\":test_original_target},\n",
    "        \"processed\": {\"train\":train_processed_target, \"val\":val_processed_target, \"test\":test_processed_target}\n",
    "    },\n",
    "})"
   ]
  },
  {
   "cell_type": "code",
   "execution_count": 20,
   "id": "5b3c01fc",
   "metadata": {
    "execution": {
     "iopub.execute_input": "2022-03-28T01:14:47.387134Z",
     "iopub.status.busy": "2022-03-28T01:14:47.386765Z",
     "iopub.status.idle": "2022-03-28T01:15:03.396568Z",
     "shell.execute_reply": "2022-03-28T01:15:03.397267Z"
    },
    "papermill": {
     "duration": 16.034941,
     "end_time": "2022-03-28T01:15:03.397482",
     "exception": false,
     "start_time": "2022-03-28T01:14:47.362541",
     "status": "completed"
    },
    "tags": []
   },
   "outputs": [
    {
     "name": "stdout",
     "output_type": "stream",
     "text": [
      "{'O_50', 'O_44', 'O_14', 'O_20', 'O_32', 'O_38', 'O_26', 'O_8'}\n"
     ]
    },
    {
     "name": "stdout",
     "output_type": "stream",
     "text": [
      "{'C_2', 'C_4', 'C_3', 'C_1', 'C_5'}\n"
     ]
    },
    {
     "name": "stdout",
     "output_type": "stream",
     "text": [
      "tensor([[[0., 0., 0.,  ..., 0., 0., 0.],\n",
      "         [0., 0., 0.,  ..., 0., 0., 0.]],\n",
      "\n",
      "        [[0., 0., 0.,  ..., 0., 0., 0.],\n",
      "         [0., 0., 0.,  ..., 0., 0., 0.]],\n",
      "\n",
      "        [[0., 0., 0.,  ..., 0., 0., 0.],\n",
      "         [0., 0., 0.,  ..., 0., 0., 0.]],\n",
      "\n",
      "        ...,\n",
      "\n",
      "        [[0., 0., 0.,  ..., 0., 0., 0.],\n",
      "         [0., 0., 0.,  ..., 0., 0., 0.]],\n",
      "\n",
      "        [[0., 0., 0.,  ..., 0., 0., 0.],\n",
      "         [0., 0., 0.,  ..., 0., 0., 0.]],\n",
      "\n",
      "        [[0., 0., 0.,  ..., 0., 0., 0.],\n",
      "         [0., 0., 0.,  ..., 0., 0., 0.]]])\n"
     ]
    }
   ],
   "source": [
    "from steves_utils.transforms import get_average_magnitude, get_average_power\n",
    "\n",
    "print(set([u for u,_ in val_original_source]))\n",
    "print(set([u for u,_ in val_original_target]))\n",
    "\n",
    "s_x, s_y, q_x, q_y, _ = next(iter(train_processed_source))\n",
    "print(s_x)\n",
    "\n",
    "# for ds in [\n",
    "#     train_processed_source,\n",
    "#     val_processed_source,\n",
    "#     test_processed_source,\n",
    "#     train_processed_target,\n",
    "#     val_processed_target,\n",
    "#     test_processed_target\n",
    "# ]:\n",
    "#     for s_x, s_y, q_x, q_y, _ in ds:\n",
    "#         for X in (s_x, q_x):\n",
    "#             for x in X:\n",
    "#                 assert np.isclose(get_average_magnitude(x.numpy()), 1.0)\n",
    "#                 assert np.isclose(get_average_power(x.numpy()), 1.0)\n",
    "                "
   ]
  },
  {
   "cell_type": "code",
   "execution_count": 21,
   "id": "bbdacba1",
   "metadata": {
    "execution": {
     "iopub.execute_input": "2022-03-28T01:15:03.467286Z",
     "iopub.status.busy": "2022-03-28T01:15:03.466431Z",
     "iopub.status.idle": "2022-03-28T01:15:03.637709Z",
     "shell.execute_reply": "2022-03-28T01:15:03.638401Z"
    },
    "papermill": {
     "duration": 0.215212,
     "end_time": "2022-03-28T01:15:03.638607",
     "exception": false,
     "start_time": "2022-03-28T01:15:03.423395",
     "status": "completed"
    },
    "tags": []
   },
   "outputs": [
    {
     "name": "stdout",
     "output_type": "stream",
     "text": [
      "(2, 256)\n"
     ]
    }
   ],
   "source": [
    "###################################\n",
    "# Build the model\n",
    "###################################\n",
    "# easfsl only wants a tuple for the shape\n",
    "model = Steves_Prototypical_Network(x_net, device=p.device, x_shape=tuple(p.x_shape))\n",
    "optimizer = Adam(params=model.parameters(), lr=p.lr)"
   ]
  },
  {
   "cell_type": "code",
   "execution_count": 22,
   "id": "22b39ac5",
   "metadata": {
    "execution": {
     "iopub.execute_input": "2022-03-28T01:15:03.693088Z",
     "iopub.status.busy": "2022-03-28T01:15:03.692618Z",
     "iopub.status.idle": "2022-03-28T02:12:39.621343Z",
     "shell.execute_reply": "2022-03-28T02:12:39.617775Z"
    },
    "papermill": {
     "duration": 3455.957363,
     "end_time": "2022-03-28T02:12:39.623924",
     "exception": false,
     "start_time": "2022-03-28T01:15:03.666561",
     "status": "completed"
    },
    "tags": []
   },
   "outputs": [
    {
     "name": "stdout",
     "output_type": "stream",
     "text": [
      "epoch: 1, [batch: 1 / 6720], examples_per_second: 32.6920, train_label_loss: 2.9034, \n"
     ]
    },
    {
     "name": "stdout",
     "output_type": "stream",
     "text": [
      "epoch: 1, [batch: 672 / 6720], examples_per_second: 1799.8330, train_label_loss: 1.1766, \n"
     ]
    },
    {
     "name": "stdout",
     "output_type": "stream",
     "text": [
      "epoch: 1, [batch: 1344 / 6720], examples_per_second: 1891.9162, train_label_loss: 0.8776, \n"
     ]
    },
    {
     "name": "stdout",
     "output_type": "stream",
     "text": [
      "epoch: 1, [batch: 2016 / 6720], examples_per_second: 1662.1576, train_label_loss: 0.8428, \n"
     ]
    },
    {
     "name": "stdout",
     "output_type": "stream",
     "text": [
      "epoch: 1, [batch: 2688 / 6720], examples_per_second: 1688.8181, train_label_loss: 1.1789, \n"
     ]
    },
    {
     "name": "stdout",
     "output_type": "stream",
     "text": [
      "epoch: 1, [batch: 3360 / 6720], examples_per_second: 1994.2172, train_label_loss: 1.3093, \n"
     ]
    },
    {
     "name": "stdout",
     "output_type": "stream",
     "text": [
      "epoch: 1, [batch: 4032 / 6720], examples_per_second: 1823.3001, train_label_loss: 1.0961, \n"
     ]
    },
    {
     "name": "stdout",
     "output_type": "stream",
     "text": [
      "epoch: 1, [batch: 4704 / 6720], examples_per_second: 1827.6201, train_label_loss: 0.7951, \n"
     ]
    },
    {
     "name": "stdout",
     "output_type": "stream",
     "text": [
      "epoch: 1, [batch: 5376 / 6720], examples_per_second: 2252.4715, train_label_loss: 0.8937, \n"
     ]
    },
    {
     "name": "stdout",
     "output_type": "stream",
     "text": [
      "epoch: 1, [batch: 6048 / 6720], examples_per_second: 1667.9055, train_label_loss: 0.7279, \n"
     ]
    },
    {
     "name": "stdout",
     "output_type": "stream",
     "text": [
      "=============================================================\n",
      "epoch: 1, source_val_acc_label: 0.5757, target_val_acc_label: 0.6322, source_val_label_loss: 8.8097, target_val_label_loss: 357.9233, \n",
      "=============================================================\n"
     ]
    },
    {
     "name": "stdout",
     "output_type": "stream",
     "text": [
      "New best\n"
     ]
    },
    {
     "name": "stdout",
     "output_type": "stream",
     "text": [
      "epoch: 2, [batch: 1 / 6720], examples_per_second: 1.8303, train_label_loss: 5.6781, \n"
     ]
    },
    {
     "name": "stdout",
     "output_type": "stream",
     "text": [
      "epoch: 2, [batch: 672 / 6720], examples_per_second: 3286.6337, train_label_loss: 0.8069, \n"
     ]
    },
    {
     "name": "stdout",
     "output_type": "stream",
     "text": [
      "epoch: 2, [batch: 1344 / 6720], examples_per_second: 4025.0832, train_label_loss: 0.7708, \n"
     ]
    },
    {
     "name": "stdout",
     "output_type": "stream",
     "text": [
      "epoch: 2, [batch: 2016 / 6720], examples_per_second: 3871.8488, train_label_loss: 1.3591, \n"
     ]
    },
    {
     "name": "stdout",
     "output_type": "stream",
     "text": [
      "epoch: 2, [batch: 2688 / 6720], examples_per_second: 3847.9736, train_label_loss: 1.0448, \n"
     ]
    },
    {
     "name": "stdout",
     "output_type": "stream",
     "text": [
      "epoch: 2, [batch: 3360 / 6720], examples_per_second: 4198.5911, train_label_loss: 1.7562, \n"
     ]
    },
    {
     "name": "stdout",
     "output_type": "stream",
     "text": [
      "epoch: 2, [batch: 4032 / 6720], examples_per_second: 4327.4302, train_label_loss: 1.0145, \n"
     ]
    },
    {
     "name": "stdout",
     "output_type": "stream",
     "text": [
      "epoch: 2, [batch: 4704 / 6720], examples_per_second: 4293.0870, train_label_loss: 1.0918, \n"
     ]
    },
    {
     "name": "stdout",
     "output_type": "stream",
     "text": [
      "epoch: 2, [batch: 5376 / 6720], examples_per_second: 3846.6015, train_label_loss: 1.2303, \n"
     ]
    },
    {
     "name": "stdout",
     "output_type": "stream",
     "text": [
      "epoch: 2, [batch: 6048 / 6720], examples_per_second: 3828.6139, train_label_loss: 0.7235, \n"
     ]
    },
    {
     "name": "stdout",
     "output_type": "stream",
     "text": [
      "=============================================================\n",
      "epoch: 2, source_val_acc_label: 0.6452, target_val_acc_label: 0.5504, source_val_label_loss: 0.9664, target_val_label_loss: 96.2498, \n",
      "=============================================================\n"
     ]
    },
    {
     "name": "stdout",
     "output_type": "stream",
     "text": [
      "epoch: 3, [batch: 1 / 6720], examples_per_second: 1.6234, train_label_loss: 1.2019, \n"
     ]
    },
    {
     "name": "stdout",
     "output_type": "stream",
     "text": [
      "epoch: 3, [batch: 672 / 6720], examples_per_second: 1697.2452, train_label_loss: 0.5202, \n"
     ]
    },
    {
     "name": "stdout",
     "output_type": "stream",
     "text": [
      "epoch: 3, [batch: 1344 / 6720], examples_per_second: 1696.7863, train_label_loss: 0.7156, \n"
     ]
    },
    {
     "name": "stdout",
     "output_type": "stream",
     "text": [
      "epoch: 3, [batch: 2016 / 6720], examples_per_second: 1905.5393, train_label_loss: 0.6921, \n"
     ]
    },
    {
     "name": "stdout",
     "output_type": "stream",
     "text": [
      "epoch: 3, [batch: 2688 / 6720], examples_per_second: 1959.7312, train_label_loss: 0.7862, \n"
     ]
    },
    {
     "name": "stdout",
     "output_type": "stream",
     "text": [
      "epoch: 3, [batch: 3360 / 6720], examples_per_second: 1845.0493, train_label_loss: 1.2906, \n"
     ]
    },
    {
     "name": "stdout",
     "output_type": "stream",
     "text": [
      "epoch: 3, [batch: 4032 / 6720], examples_per_second: 1944.7450, train_label_loss: 1.0678, \n"
     ]
    },
    {
     "name": "stdout",
     "output_type": "stream",
     "text": [
      "epoch: 3, [batch: 4704 / 6720], examples_per_second: 1921.8103, train_label_loss: 0.6322, \n"
     ]
    },
    {
     "name": "stdout",
     "output_type": "stream",
     "text": [
      "epoch: 3, [batch: 5376 / 6720], examples_per_second: 1686.7847, train_label_loss: 0.7509, \n"
     ]
    },
    {
     "name": "stdout",
     "output_type": "stream",
     "text": [
      "epoch: 3, [batch: 6048 / 6720], examples_per_second: 1694.8675, train_label_loss: 0.6260, \n"
     ]
    },
    {
     "name": "stdout",
     "output_type": "stream",
     "text": [
      "=============================================================\n",
      "epoch: 3, source_val_acc_label: 0.6859, target_val_acc_label: 0.6114, source_val_label_loss: 0.8523, target_val_label_loss: 189.8117, \n",
      "=============================================================\n"
     ]
    },
    {
     "name": "stdout",
     "output_type": "stream",
     "text": [
      "epoch: 4, [batch: 1 / 6720], examples_per_second: 1.5194, train_label_loss: 0.9208, \n"
     ]
    },
    {
     "name": "stdout",
     "output_type": "stream",
     "text": [
      "epoch: 4, [batch: 672 / 6720], examples_per_second: 1681.5446, train_label_loss: 0.4838, \n"
     ]
    },
    {
     "name": "stdout",
     "output_type": "stream",
     "text": [
      "epoch: 4, [batch: 1344 / 6720], examples_per_second: 1679.6889, train_label_loss: 1.2354, \n"
     ]
    },
    {
     "name": "stdout",
     "output_type": "stream",
     "text": [
      "epoch: 4, [batch: 2016 / 6720], examples_per_second: 1968.7589, train_label_loss: 0.8015, \n"
     ]
    },
    {
     "name": "stdout",
     "output_type": "stream",
     "text": [
      "epoch: 4, [batch: 2688 / 6720], examples_per_second: 1931.4139, train_label_loss: 0.6297, \n"
     ]
    },
    {
     "name": "stdout",
     "output_type": "stream",
     "text": [
      "epoch: 4, [batch: 3360 / 6720], examples_per_second: 1832.4055, train_label_loss: 0.3764, \n"
     ]
    },
    {
     "name": "stdout",
     "output_type": "stream",
     "text": [
      "epoch: 4, [batch: 4032 / 6720], examples_per_second: 1857.0795, train_label_loss: 1.1832, \n"
     ]
    },
    {
     "name": "stdout",
     "output_type": "stream",
     "text": [
      "epoch: 4, [batch: 4704 / 6720], examples_per_second: 1905.0525, train_label_loss: 0.6494, \n"
     ]
    },
    {
     "name": "stdout",
     "output_type": "stream",
     "text": [
      "epoch: 4, [batch: 5376 / 6720], examples_per_second: 1666.4375, train_label_loss: 0.8093, \n"
     ]
    },
    {
     "name": "stdout",
     "output_type": "stream",
     "text": [
      "epoch: 4, [batch: 6048 / 6720], examples_per_second: 1683.3834, train_label_loss: 0.7407, \n"
     ]
    },
    {
     "name": "stdout",
     "output_type": "stream",
     "text": [
      "=============================================================\n",
      "epoch: 4, source_val_acc_label: 0.7249, target_val_acc_label: 0.6578, source_val_label_loss: 0.7540, target_val_label_loss: 132.1422, \n",
      "=============================================================\n"
     ]
    },
    {
     "name": "stdout",
     "output_type": "stream",
     "text": [
      "New best\n"
     ]
    },
    {
     "name": "stdout",
     "output_type": "stream",
     "text": [
      "epoch: 5, [batch: 1 / 6720], examples_per_second: 1.5360, train_label_loss: 0.5394, \n"
     ]
    },
    {
     "name": "stdout",
     "output_type": "stream",
     "text": [
      "epoch: 5, [batch: 672 / 6720], examples_per_second: 1674.6832, train_label_loss: 0.3979, \n"
     ]
    },
    {
     "name": "stdout",
     "output_type": "stream",
     "text": [
      "epoch: 5, [batch: 1344 / 6720], examples_per_second: 1709.0344, train_label_loss: 0.6332, \n"
     ]
    },
    {
     "name": "stdout",
     "output_type": "stream",
     "text": [
      "epoch: 5, [batch: 2016 / 6720], examples_per_second: 2090.6805, train_label_loss: 1.1170, \n"
     ]
    },
    {
     "name": "stdout",
     "output_type": "stream",
     "text": [
      "epoch: 5, [batch: 2688 / 6720], examples_per_second: 1856.0960, train_label_loss: 0.6217, \n"
     ]
    },
    {
     "name": "stdout",
     "output_type": "stream",
     "text": [
      "epoch: 5, [batch: 3360 / 6720], examples_per_second: 1799.5163, train_label_loss: 0.3666, \n"
     ]
    },
    {
     "name": "stdout",
     "output_type": "stream",
     "text": [
      "epoch: 5, [batch: 4032 / 6720], examples_per_second: 1839.3393, train_label_loss: 0.4570, \n"
     ]
    },
    {
     "name": "stdout",
     "output_type": "stream",
     "text": [
      "epoch: 5, [batch: 4704 / 6720], examples_per_second: 1850.0568, train_label_loss: 0.4825, \n"
     ]
    },
    {
     "name": "stdout",
     "output_type": "stream",
     "text": [
      "epoch: 5, [batch: 5376 / 6720], examples_per_second: 1676.4925, train_label_loss: 0.8274, \n"
     ]
    },
    {
     "name": "stdout",
     "output_type": "stream",
     "text": [
      "epoch: 5, [batch: 6048 / 6720], examples_per_second: 1716.3392, train_label_loss: 0.4544, \n"
     ]
    },
    {
     "name": "stdout",
     "output_type": "stream",
     "text": [
      "=============================================================\n",
      "epoch: 5, source_val_acc_label: 0.7637, target_val_acc_label: 0.6638, source_val_label_loss: 0.6378, target_val_label_loss: 142.9450, \n",
      "=============================================================\n"
     ]
    },
    {
     "name": "stdout",
     "output_type": "stream",
     "text": [
      "New best\n"
     ]
    },
    {
     "name": "stdout",
     "output_type": "stream",
     "text": [
      "epoch: 6, [batch: 1 / 6720], examples_per_second: 1.5254, train_label_loss: 0.3968, \n"
     ]
    },
    {
     "name": "stdout",
     "output_type": "stream",
     "text": [
      "epoch: 6, [batch: 672 / 6720], examples_per_second: 1656.9864, train_label_loss: 0.8186, \n"
     ]
    },
    {
     "name": "stdout",
     "output_type": "stream",
     "text": [
      "epoch: 6, [batch: 1344 / 6720], examples_per_second: 1801.7331, train_label_loss: 0.8951, \n"
     ]
    },
    {
     "name": "stdout",
     "output_type": "stream",
     "text": [
      "epoch: 6, [batch: 2016 / 6720], examples_per_second: 2154.9886, train_label_loss: 0.4992, \n"
     ]
    },
    {
     "name": "stdout",
     "output_type": "stream",
     "text": [
      "epoch: 6, [batch: 2688 / 6720], examples_per_second: 1847.3708, train_label_loss: 0.3149, \n"
     ]
    },
    {
     "name": "stdout",
     "output_type": "stream",
     "text": [
      "epoch: 6, [batch: 3360 / 6720], examples_per_second: 1678.3330, train_label_loss: 0.3224, \n"
     ]
    },
    {
     "name": "stdout",
     "output_type": "stream",
     "text": [
      "epoch: 6, [batch: 4032 / 6720], examples_per_second: 1896.2084, train_label_loss: 0.5510, \n"
     ]
    },
    {
     "name": "stdout",
     "output_type": "stream",
     "text": [
      "epoch: 6, [batch: 4704 / 6720], examples_per_second: 1766.6186, train_label_loss: 0.5574, \n"
     ]
    },
    {
     "name": "stdout",
     "output_type": "stream",
     "text": [
      "epoch: 6, [batch: 5376 / 6720], examples_per_second: 1664.0089, train_label_loss: 0.4478, \n"
     ]
    },
    {
     "name": "stdout",
     "output_type": "stream",
     "text": [
      "epoch: 6, [batch: 6048 / 6720], examples_per_second: 1792.1207, train_label_loss: 0.3940, \n"
     ]
    },
    {
     "name": "stdout",
     "output_type": "stream",
     "text": [
      "=============================================================\n",
      "epoch: 6, source_val_acc_label: 0.7238, target_val_acc_label: 0.7070, source_val_label_loss: 0.7555, target_val_label_loss: 106.4477, \n",
      "=============================================================\n"
     ]
    },
    {
     "name": "stdout",
     "output_type": "stream",
     "text": [
      "New best\n"
     ]
    },
    {
     "name": "stdout",
     "output_type": "stream",
     "text": [
      "epoch: 7, [batch: 1 / 6720], examples_per_second: 1.5323, train_label_loss: 0.3830, \n"
     ]
    },
    {
     "name": "stdout",
     "output_type": "stream",
     "text": [
      "epoch: 7, [batch: 672 / 6720], examples_per_second: 2567.9798, train_label_loss: 0.8503, \n"
     ]
    },
    {
     "name": "stdout",
     "output_type": "stream",
     "text": [
      "epoch: 7, [batch: 1344 / 6720], examples_per_second: 3640.1489, train_label_loss: 0.3944, \n"
     ]
    },
    {
     "name": "stdout",
     "output_type": "stream",
     "text": [
      "epoch: 7, [batch: 2016 / 6720], examples_per_second: 4382.2545, train_label_loss: 0.7545, \n"
     ]
    },
    {
     "name": "stdout",
     "output_type": "stream",
     "text": [
      "epoch: 7, [batch: 2688 / 6720], examples_per_second: 4297.5532, train_label_loss: 0.6338, \n"
     ]
    },
    {
     "name": "stdout",
     "output_type": "stream",
     "text": [
      "epoch: 7, [batch: 3360 / 6720], examples_per_second: 4264.4429, train_label_loss: 0.9531, \n"
     ]
    },
    {
     "name": "stdout",
     "output_type": "stream",
     "text": [
      "epoch: 7, [batch: 4032 / 6720], examples_per_second: 4201.3014, train_label_loss: 0.2914, \n"
     ]
    },
    {
     "name": "stdout",
     "output_type": "stream",
     "text": [
      "epoch: 7, [batch: 4704 / 6720], examples_per_second: 4235.1544, train_label_loss: 0.6242, \n"
     ]
    },
    {
     "name": "stdout",
     "output_type": "stream",
     "text": [
      "epoch: 7, [batch: 5376 / 6720], examples_per_second: 4126.3500, train_label_loss: 0.2818, \n"
     ]
    },
    {
     "name": "stdout",
     "output_type": "stream",
     "text": [
      "epoch: 7, [batch: 6048 / 6720], examples_per_second: 4193.6623, train_label_loss: 0.3338, \n"
     ]
    },
    {
     "name": "stdout",
     "output_type": "stream",
     "text": [
      "=============================================================\n",
      "epoch: 7, source_val_acc_label: 0.8078, target_val_acc_label: 0.7500, source_val_label_loss: 0.5253, target_val_label_loss: 76.5191, \n",
      "=============================================================\n"
     ]
    },
    {
     "name": "stdout",
     "output_type": "stream",
     "text": [
      "New best\n"
     ]
    },
    {
     "name": "stdout",
     "output_type": "stream",
     "text": [
      "epoch: 8, [batch: 1 / 6720], examples_per_second: 5.4294, train_label_loss: 0.7841, \n"
     ]
    },
    {
     "name": "stdout",
     "output_type": "stream",
     "text": [
      "epoch: 8, [batch: 672 / 6720], examples_per_second: 2788.2679, train_label_loss: 0.7382, \n"
     ]
    },
    {
     "name": "stdout",
     "output_type": "stream",
     "text": [
      "epoch: 8, [batch: 1344 / 6720], examples_per_second: 2215.0317, train_label_loss: 0.7650, \n"
     ]
    },
    {
     "name": "stdout",
     "output_type": "stream",
     "text": [
      "epoch: 8, [batch: 2016 / 6720], examples_per_second: 2200.6483, train_label_loss: 0.2197, \n"
     ]
    },
    {
     "name": "stdout",
     "output_type": "stream",
     "text": [
      "epoch: 8, [batch: 2688 / 6720], examples_per_second: 2924.0166, train_label_loss: 0.4347, \n"
     ]
    },
    {
     "name": "stdout",
     "output_type": "stream",
     "text": [
      "epoch: 8, [batch: 3360 / 6720], examples_per_second: 2282.7770, train_label_loss: 0.5449, \n"
     ]
    },
    {
     "name": "stdout",
     "output_type": "stream",
     "text": [
      "epoch: 8, [batch: 4032 / 6720], examples_per_second: 2231.7591, train_label_loss: 0.6053, \n"
     ]
    },
    {
     "name": "stdout",
     "output_type": "stream",
     "text": [
      "epoch: 8, [batch: 4704 / 6720], examples_per_second: 2255.7913, train_label_loss: 0.4879, \n"
     ]
    },
    {
     "name": "stdout",
     "output_type": "stream",
     "text": [
      "epoch: 8, [batch: 5376 / 6720], examples_per_second: 2767.5749, train_label_loss: 0.7899, \n"
     ]
    },
    {
     "name": "stdout",
     "output_type": "stream",
     "text": [
      "epoch: 8, [batch: 6048 / 6720], examples_per_second: 2167.9796, train_label_loss: 0.5991, \n"
     ]
    },
    {
     "name": "stdout",
     "output_type": "stream",
     "text": [
      "=============================================================\n",
      "epoch: 8, source_val_acc_label: 0.8215, target_val_acc_label: 0.7268, source_val_label_loss: 0.4910, target_val_label_loss: 88.3952, \n",
      "=============================================================\n"
     ]
    },
    {
     "name": "stdout",
     "output_type": "stream",
     "text": [
      "epoch: 9, [batch: 1 / 6720], examples_per_second: 1.5130, train_label_loss: 0.2441, \n"
     ]
    },
    {
     "name": "stdout",
     "output_type": "stream",
     "text": [
      "epoch: 9, [batch: 672 / 6720], examples_per_second: 1710.4089, train_label_loss: 0.8159, \n"
     ]
    },
    {
     "name": "stdout",
     "output_type": "stream",
     "text": [
      "epoch: 9, [batch: 1344 / 6720], examples_per_second: 2005.7887, train_label_loss: 0.6542, \n"
     ]
    },
    {
     "name": "stdout",
     "output_type": "stream",
     "text": [
      "epoch: 9, [batch: 2016 / 6720], examples_per_second: 1670.8134, train_label_loss: 0.4538, \n"
     ]
    },
    {
     "name": "stdout",
     "output_type": "stream",
     "text": [
      "epoch: 9, [batch: 2688 / 6720], examples_per_second: 1665.8879, train_label_loss: 0.2861, \n"
     ]
    },
    {
     "name": "stdout",
     "output_type": "stream",
     "text": [
      "epoch: 9, [batch: 3360 / 6720], examples_per_second: 2040.3740, train_label_loss: 0.8621, \n"
     ]
    },
    {
     "name": "stdout",
     "output_type": "stream",
     "text": [
      "epoch: 9, [batch: 4032 / 6720], examples_per_second: 1674.8232, train_label_loss: 0.7134, \n"
     ]
    },
    {
     "name": "stdout",
     "output_type": "stream",
     "text": [
      "epoch: 9, [batch: 4704 / 6720], examples_per_second: 1740.1624, train_label_loss: 0.4101, \n"
     ]
    },
    {
     "name": "stdout",
     "output_type": "stream",
     "text": [
      "epoch: 9, [batch: 5376 / 6720], examples_per_second: 2227.6258, train_label_loss: 0.3440, \n"
     ]
    },
    {
     "name": "stdout",
     "output_type": "stream",
     "text": [
      "epoch: 9, [batch: 6048 / 6720], examples_per_second: 1825.3133, train_label_loss: 0.2679, \n"
     ]
    },
    {
     "name": "stdout",
     "output_type": "stream",
     "text": [
      "=============================================================\n",
      "epoch: 9, source_val_acc_label: 0.8172, target_val_acc_label: 0.7120, source_val_label_loss: 0.4966, target_val_label_loss: 96.2512, \n",
      "=============================================================\n"
     ]
    },
    {
     "name": "stdout",
     "output_type": "stream",
     "text": [
      "epoch: 10, [batch: 1 / 6720], examples_per_second: 1.4982, train_label_loss: 0.3206, \n"
     ]
    },
    {
     "name": "stdout",
     "output_type": "stream",
     "text": [
      "epoch: 10, [batch: 672 / 6720], examples_per_second: 1688.0580, train_label_loss: 0.2952, \n"
     ]
    },
    {
     "name": "stdout",
     "output_type": "stream",
     "text": [
      "epoch: 10, [batch: 1344 / 6720], examples_per_second: 2042.3740, train_label_loss: 0.5834, \n"
     ]
    },
    {
     "name": "stdout",
     "output_type": "stream",
     "text": [
      "epoch: 10, [batch: 2016 / 6720], examples_per_second: 1682.6415, train_label_loss: 0.0695, \n"
     ]
    },
    {
     "name": "stdout",
     "output_type": "stream",
     "text": [
      "epoch: 10, [batch: 2688 / 6720], examples_per_second: 1667.8468, train_label_loss: 0.7549, \n"
     ]
    },
    {
     "name": "stdout",
     "output_type": "stream",
     "text": [
      "epoch: 10, [batch: 3360 / 6720], examples_per_second: 2239.3748, train_label_loss: 0.2491, \n"
     ]
    },
    {
     "name": "stdout",
     "output_type": "stream",
     "text": [
      "epoch: 10, [batch: 4032 / 6720], examples_per_second: 2382.0679, train_label_loss: 0.5276, \n"
     ]
    },
    {
     "name": "stdout",
     "output_type": "stream",
     "text": [
      "epoch: 10, [batch: 4704 / 6720], examples_per_second: 3316.8886, train_label_loss: 0.8400, \n"
     ]
    },
    {
     "name": "stdout",
     "output_type": "stream",
     "text": [
      "epoch: 10, [batch: 5376 / 6720], examples_per_second: 3960.7773, train_label_loss: 0.6832, \n"
     ]
    },
    {
     "name": "stdout",
     "output_type": "stream",
     "text": [
      "epoch: 10, [batch: 6048 / 6720], examples_per_second: 4430.0016, train_label_loss: 0.1646, \n"
     ]
    },
    {
     "name": "stdout",
     "output_type": "stream",
     "text": [
      "=============================================================\n",
      "epoch: 10, source_val_acc_label: 0.8176, target_val_acc_label: 0.7016, source_val_label_loss: 0.4941, target_val_label_loss: 106.6865, \n",
      "=============================================================\n"
     ]
    },
    {
     "name": "stdout",
     "output_type": "stream",
     "text": [
      "epoch: 11, [batch: 1 / 6720], examples_per_second: 3.9524, train_label_loss: 0.4442, \n"
     ]
    },
    {
     "name": "stdout",
     "output_type": "stream",
     "text": [
      "epoch: 11, [batch: 672 / 6720], examples_per_second: 3876.4321, train_label_loss: 0.6017, \n"
     ]
    },
    {
     "name": "stdout",
     "output_type": "stream",
     "text": [
      "epoch: 11, [batch: 1344 / 6720], examples_per_second: 4012.2143, train_label_loss: 0.5560, \n"
     ]
    },
    {
     "name": "stdout",
     "output_type": "stream",
     "text": [
      "epoch: 11, [batch: 2016 / 6720], examples_per_second: 4052.9318, train_label_loss: 0.2964, \n"
     ]
    },
    {
     "name": "stdout",
     "output_type": "stream",
     "text": [
      "epoch: 11, [batch: 2688 / 6720], examples_per_second: 3936.5494, train_label_loss: 0.6157, \n"
     ]
    },
    {
     "name": "stdout",
     "output_type": "stream",
     "text": [
      "epoch: 11, [batch: 3360 / 6720], examples_per_second: 2001.5253, train_label_loss: 0.4348, \n"
     ]
    },
    {
     "name": "stdout",
     "output_type": "stream",
     "text": [
      "epoch: 11, [batch: 4032 / 6720], examples_per_second: 1681.5966, train_label_loss: 0.2419, \n"
     ]
    },
    {
     "name": "stdout",
     "output_type": "stream",
     "text": [
      "epoch: 11, [batch: 4704 / 6720], examples_per_second: 1817.3504, train_label_loss: 0.2055, \n"
     ]
    },
    {
     "name": "stdout",
     "output_type": "stream",
     "text": [
      "epoch: 11, [batch: 5376 / 6720], examples_per_second: 2179.8434, train_label_loss: 0.5750, \n"
     ]
    },
    {
     "name": "stdout",
     "output_type": "stream",
     "text": [
      "epoch: 11, [batch: 6048 / 6720], examples_per_second: 1840.1342, train_label_loss: 0.2565, \n"
     ]
    },
    {
     "name": "stdout",
     "output_type": "stream",
     "text": [
      "=============================================================\n",
      "epoch: 11, source_val_acc_label: 0.8188, target_val_acc_label: 0.6764, source_val_label_loss: 0.4919, target_val_label_loss: 127.2214, \n",
      "=============================================================\n"
     ]
    },
    {
     "name": "stdout",
     "output_type": "stream",
     "text": [
      "Patience (3) exhausted\n"
     ]
    }
   ],
   "source": [
    "###################################\n",
    "# train\n",
    "###################################\n",
    "jig = PTN_Train_Eval_Test_Jig(model, p.BEST_MODEL_PATH, p.device)\n",
    "\n",
    "jig.train(\n",
    "    train_iterable=datasets.source.processed.train,\n",
    "    source_val_iterable=datasets.source.processed.val,\n",
    "    target_val_iterable=datasets.target.processed.val,\n",
    "    num_epochs=p.n_epoch,\n",
    "    num_logs_per_epoch=p.NUM_LOGS_PER_EPOCH,\n",
    "    patience=p.patience,\n",
    "    optimizer=optimizer,\n",
    "    criteria_for_best=p.criteria_for_best,\n",
    ")"
   ]
  },
  {
   "cell_type": "code",
   "execution_count": 23,
   "id": "31e8fabf",
   "metadata": {
    "execution": {
     "iopub.execute_input": "2022-03-28T02:12:39.775862Z",
     "iopub.status.busy": "2022-03-28T02:12:39.772603Z",
     "iopub.status.idle": "2022-03-28T02:12:39.958803Z",
     "shell.execute_reply": "2022-03-28T02:12:39.958078Z"
    },
    "papermill": {
     "duration": 0.268866,
     "end_time": "2022-03-28T02:12:39.958957",
     "exception": false,
     "start_time": "2022-03-28T02:12:39.690091",
     "status": "completed"
    },
    "tags": []
   },
   "outputs": [],
   "source": [
    "total_experiment_time_secs = time.time() - start_time_secs"
   ]
  },
  {
   "cell_type": "code",
   "execution_count": 24,
   "id": "87b9595b",
   "metadata": {
    "execution": {
     "iopub.execute_input": "2022-03-28T02:12:40.088135Z",
     "iopub.status.busy": "2022-03-28T02:12:40.087226Z",
     "iopub.status.idle": "2022-03-28T02:18:35.325064Z",
     "shell.execute_reply": "2022-03-28T02:18:35.325550Z"
    },
    "papermill": {
     "duration": 355.307322,
     "end_time": "2022-03-28T02:18:35.325764",
     "exception": false,
     "start_time": "2022-03-28T02:12:40.018442",
     "status": "completed"
    },
    "tags": []
   },
   "outputs": [],
   "source": [
    "###################################\n",
    "# Evaluate the model\n",
    "###################################\n",
    "source_test_label_accuracy, source_test_label_loss = jig.test(datasets.source.processed.test)\n",
    "target_test_label_accuracy, target_test_label_loss = jig.test(datasets.target.processed.test)\n",
    "\n",
    "source_val_label_accuracy, source_val_label_loss = jig.test(datasets.source.processed.val)\n",
    "target_val_label_accuracy, target_val_label_loss = jig.test(datasets.target.processed.val)\n",
    "\n",
    "history = jig.get_history()\n",
    "\n",
    "total_epochs_trained = len(history[\"epoch_indices\"])\n",
    "\n",
    "val_dl = Iterable_Aggregator((datasets.source.original.val,datasets.target.original.val))\n",
    "\n",
    "confusion = ptn_confusion_by_domain_over_dataloader(model, p.device, val_dl)\n",
    "per_domain_accuracy = per_domain_accuracy_from_confusion(confusion)\n",
    "\n",
    "# Add a key to per_domain_accuracy for if it was a source domain\n",
    "for domain, accuracy in per_domain_accuracy.items():\n",
    "    per_domain_accuracy[domain] = {\n",
    "        \"accuracy\": accuracy,\n",
    "        \"source?\": domain in p.domains_source\n",
    "    }\n",
    "\n",
    "# Do an independent accuracy assesment JUST TO BE SURE!\n",
    "# _source_test_label_accuracy = independent_accuracy_assesment(model, datasets.source.processed.test, p.device)\n",
    "# _target_test_label_accuracy = independent_accuracy_assesment(model, datasets.target.processed.test, p.device)\n",
    "# _source_val_label_accuracy = independent_accuracy_assesment(model, datasets.source.processed.val, p.device)\n",
    "# _target_val_label_accuracy = independent_accuracy_assesment(model, datasets.target.processed.val, p.device)\n",
    "\n",
    "# assert(_source_test_label_accuracy == source_test_label_accuracy)\n",
    "# assert(_target_test_label_accuracy == target_test_label_accuracy)\n",
    "# assert(_source_val_label_accuracy == source_val_label_accuracy)\n",
    "# assert(_target_val_label_accuracy == target_val_label_accuracy)\n",
    "\n",
    "experiment = {\n",
    "    \"experiment_name\": p.experiment_name,\n",
    "    \"parameters\": dict(p),\n",
    "    \"results\": {\n",
    "        \"source_test_label_accuracy\": source_test_label_accuracy,\n",
    "        \"source_test_label_loss\": source_test_label_loss,\n",
    "        \"target_test_label_accuracy\": target_test_label_accuracy,\n",
    "        \"target_test_label_loss\": target_test_label_loss,\n",
    "        \"source_val_label_accuracy\": source_val_label_accuracy,\n",
    "        \"source_val_label_loss\": source_val_label_loss,\n",
    "        \"target_val_label_accuracy\": target_val_label_accuracy,\n",
    "        \"target_val_label_loss\": target_val_label_loss,\n",
    "        \"total_epochs_trained\": total_epochs_trained,\n",
    "        \"total_experiment_time_secs\": total_experiment_time_secs,\n",
    "        \"confusion\": confusion,\n",
    "        \"per_domain_accuracy\": per_domain_accuracy,\n",
    "    },\n",
    "    \"history\": history,\n",
    "    \"dataset_metrics\": get_dataset_metrics(datasets, \"ptn\"),\n",
    "}"
   ]
  },
  {
   "cell_type": "code",
   "execution_count": 25,
   "id": "54a21829",
   "metadata": {
    "execution": {
     "iopub.execute_input": "2022-03-28T02:18:35.463708Z",
     "iopub.status.busy": "2022-03-28T02:18:35.463302Z",
     "iopub.status.idle": "2022-03-28T02:18:35.937404Z",
     "shell.execute_reply": "2022-03-28T02:18:35.938113Z"
    },
    "papermill": {
     "duration": 0.537772,
     "end_time": "2022-03-28T02:18:35.938311",
     "exception": false,
     "start_time": "2022-03-28T02:18:35.400539",
     "status": "completed"
    },
    "tags": []
   },
   "outputs": [
    {
     "data": {
      "image/png": "[encoded data removed]",
      "text/plain": [
       "<Figure size 1080x504 with 1 Axes>"
      ]
     },
     "metadata": {
      "needs_background": "light"
     },
     "output_type": "display_data"
    }
   ],
   "source": [
    "ax = get_loss_curve(experiment)\n",
    "plt.show()"
   ]
  },
  {
   "cell_type": "code",
   "execution_count": 26,
   "id": "fd8a0f60",
   "metadata": {
    "execution": {
     "iopub.execute_input": "2022-03-28T02:18:36.064970Z",
     "iopub.status.busy": "2022-03-28T02:18:36.064429Z",
     "iopub.status.idle": "2022-03-28T02:18:36.398074Z",
     "shell.execute_reply": "2022-03-28T02:18:36.397681Z"
    },
    "papermill": {
     "duration": 0.396598,
     "end_time": "2022-03-28T02:18:36.398158",
     "exception": false,
     "start_time": "2022-03-28T02:18:36.001560",
     "status": "completed"
    },
    "tags": []
   },
   "outputs": [
    {
     "data": {
      "text/plain": [
       "<AxesSubplot:title={'center':'Results'}>"
      ]
     },
     "execution_count": 26,
     "metadata": {},
     "output_type": "execute_result"
    },
    {
     "data": {
      "image/png": "[encoded data removed]",
      "text/plain": [
       "<Figure size 1080x504 with 1 Axes>"
      ]
     },
     "metadata": {
      "needs_background": "light"
     },
     "output_type": "display_data"
    }
   ],
   "source": [
    "get_results_table(experiment)"
   ]
  },
  {
   "cell_type": "code",
   "execution_count": 27,
   "id": "cf8dc689",
   "metadata": {
    "execution": {
     "iopub.execute_input": "2022-03-28T02:18:36.522456Z",
     "iopub.status.busy": "2022-03-28T02:18:36.522078Z",
     "iopub.status.idle": "2022-03-28T02:18:36.853654Z",
     "shell.execute_reply": "2022-03-28T02:18:36.854372Z"
    },
    "papermill": {
     "duration": 0.396512,
     "end_time": "2022-03-28T02:18:36.854592",
     "exception": false,
     "start_time": "2022-03-28T02:18:36.458080",
     "status": "completed"
    },
    "tags": []
   },
   "outputs": [
    {
     "data": {
      "text/plain": [
       "<AxesSubplot:title={'center':'Per Domain Validation Accuracy'}, xlabel='domain'>"
      ]
     },
     "execution_count": 27,
     "metadata": {},
     "output_type": "execute_result"
    },
    {
     "data": {
      "image/png": "[encoded data removed]",
      "text/plain": [
       "<Figure size 1080x504 with 1 Axes>"
      ]
     },
     "metadata": {
      "needs_background": "light"
     },
     "output_type": "display_data"
    }
   ],
   "source": [
    "get_domain_accuracies(experiment)"
   ]
  },
  {
   "cell_type": "code",
   "execution_count": 28,
   "id": "a74ae082",
   "metadata": {
    "execution": {
     "iopub.execute_input": "2022-03-28T02:18:36.985618Z",
     "iopub.status.busy": "2022-03-28T02:18:36.985219Z",
     "iopub.status.idle": "2022-03-28T02:18:37.010870Z",
     "shell.execute_reply": "2022-03-28T02:18:37.010042Z"
    },
    "papermill": {
     "duration": 0.09201,
     "end_time": "2022-03-28T02:18:37.011033",
     "exception": false,
     "start_time": "2022-03-28T02:18:36.919023",
     "status": "completed"
    },
    "tags": []
   },
   "outputs": [
    {
     "name": "stdout",
     "output_type": "stream",
     "text": [
      "Source Test Label Accuracy: 0.81171875 Target Test Label Accuracy: 0.75\n",
      "Source Val Label Accuracy: 0.8077799479166666 Target Val Label Accuracy: 0.7500356735159818\n"
     ]
    }
   ],
   "source": [
    "print(\"Source Test Label Accuracy:\", experiment[\"results\"][\"source_test_label_accuracy\"], \"Target Test Label Accuracy:\", experiment[\"results\"][\"target_test_label_accuracy\"])\n",
    "print(\"Source Val Label Accuracy:\", experiment[\"results\"][\"source_val_label_accuracy\"], \"Target Val Label Accuracy:\", experiment[\"results\"][\"target_val_label_accuracy\"])"
   ]
  },
  {
   "cell_type": "code",
   "execution_count": 29,
   "id": "dacca602",
   "metadata": {
    "execution": {
     "iopub.execute_input": "2022-03-28T02:18:37.140341Z",
     "iopub.status.busy": "2022-03-28T02:18:37.139963Z",
     "iopub.status.idle": "2022-03-28T02:18:37.170294Z",
     "shell.execute_reply": "2022-03-28T02:18:37.170970Z"
    },
    "papermill": {
     "duration": 0.095868,
     "end_time": "2022-03-28T02:18:37.171159",
     "exception": false,
     "start_time": "2022-03-28T02:18:37.075291",
     "status": "completed"
    },
    "tags": [
     "experiment_json"
    ]
   },
   "outputs": [
    {
     "data": {
      "text/plain": [
       "'{\"experiment_name\": \"tl_3-jitter1v2:oracle.run1.framed -> cores\", \"parameters\": {\"experiment_name\": \"tl_3-jitter1v2:oracle.run1.framed -> cores\", \"device\": \"cuda\", \"lr\": 0.0001, \"x_shape\": [2, 256], \"n_shot\": 3, \"n_query\": 2, \"train_k_factor\": 3, \"val_k_factor\": 2, \"test_k_factor\": 2, \"torch_default_dtype\": \"torch.float32\", \"n_epoch\": 50, \"patience\": 3, \"criteria_for_best\": \"target_accuracy\", \"x_net\": [{\"class\": \"nnReshape\", \"kargs\": {\"shape\": [-1, 1, 2, 256]}}, {\"class\": \"Conv2d\", \"kargs\": {\"in_channels\": 1, \"out_channels\": 256, \"kernel_size\": [1, 7], \"bias\": false, \"padding\": [0, 3]}}, {\"class\": \"ReLU\", \"kargs\": {\"inplace\": true}}, {\"class\": \"BatchNorm2d\", \"kargs\": {\"num_features\": 256}}, {\"class\": \"Conv2d\", \"kargs\": {\"in_channels\": 256, \"out_channels\": 80, \"kernel_size\": [2, 7], \"bias\": true, \"padding\": [0, 3]}}, {\"class\": \"ReLU\", \"kargs\": {\"inplace\": true}}, {\"class\": \"BatchNorm2d\", \"kargs\": {\"num_features\": 80}}, {\"class\": \"Flatten\", \"kargs\": {}}, {\"class\": \"Linear\", \"kargs\": {\"in_features\": 20480, \"out_features\": 256}}, {\"class\": \"ReLU\", \"kargs\": {\"inplace\": true}}, {\"class\": \"BatchNorm1d\", \"kargs\": {\"num_features\": 256}}, {\"class\": \"Linear\", \"kargs\": {\"in_features\": 256, \"out_features\": 256}}], \"NUM_LOGS_PER_EPOCH\": 10, \"BEST_MODEL_PATH\": \"./best_model.pth\", \"n_way\": 16, \"datasets\": [{\"labels\": [\"1-10.\", \"1-11.\", \"1-15.\", \"1-16.\", \"1-17.\", \"1-18.\", \"1-19.\", \"10-4.\", \"10-7.\", \"11-1.\", \"11-14.\", \"11-17.\", \"11-20.\", \"11-7.\", \"13-20.\", \"13-8.\", \"14-10.\", \"14-11.\", \"14-14.\", \"14-7.\", \"15-1.\", \"15-20.\", \"16-1.\", \"16-16.\", \"17-10.\", \"17-11.\", \"17-2.\", \"19-1.\", \"19-16.\", \"19-19.\", \"19-20.\", \"19-3.\", \"2-10.\", \"2-11.\", \"2-17.\", \"2-18.\", \"2-20.\", \"2-3.\", \"2-4.\", \"2-5.\", \"2-6.\", \"2-7.\", \"2-8.\", \"3-13.\", \"3-18.\", \"3-3.\", \"4-1.\", \"4-10.\", \"4-11.\", \"4-19.\", \"5-5.\", \"6-15.\", \"7-10.\", \"7-14.\", \"8-18.\", \"8-20.\", \"8-3.\", \"8-8.\"], \"domains\": [1, 2, 3, 4, 5], \"num_examples_per_domain_per_label\": -1, \"pickle_path\": \"/root/csc500-main/datasets/cores.stratified_ds.2022A.pkl\", \"source_or_target_dataset\": \"target\", \"x_transforms\": [\"unit_power\", \"jitter_256_1\", \"lowpass_+/-10MHz\", \"take_200\"], \"episode_transforms\": [], \"domain_prefix\": \"C_\"}, {\"labels\": [\"3123D52\", \"3123D65\", \"3123D79\", \"3123D80\", \"3123D54\", \"3123D70\", \"3123D7B\", \"3123D89\", \"3123D58\", \"3123D76\", \"3123D7D\", \"3123EFE\", \"3123D64\", \"3123D78\", \"3123D7E\", \"3124E4A\"], \"domains\": [32, 38, 8, 44, 14, 50, 20, 26], \"num_examples_per_domain_per_label\": 2000, \"pickle_path\": \"/root/csc500-main/datasets/oracle.Run1_framed_2000Examples_stratified_ds.2022A.pkl\", \"source_or_target_dataset\": \"source\", \"x_transforms\": [\"unit_power\", \"jitter_256_1\", \"take_200\", \"resample_20Msps_to_25Msps\"], \"episode_transforms\": [], \"domain_prefix\": \"O_\"}], \"seed\": 1337, \"dataset_seed\": 1337, \"domains_source\": [\"O_32\", \"O_38\", \"O_8\", \"O_44\", \"O_14\", \"O_50\", \"O_20\", \"O_26\"], \"domains_target\": [\"C_1\", \"C_2\", \"C_3\", \"C_4\", \"C_5\"]}, \"results\": {\"source_test_label_accuracy\": 0.81171875, \"source_test_label_loss\": 0.5205925703048706, \"target_test_label_accuracy\": 0.75, \"target_test_label_loss\": 73.98571014404297, \"source_val_label_accuracy\": 0.8077799479166666, \"source_val_label_loss\": 0.525259792804718, \"target_val_label_accuracy\": 0.7500356735159818, \"target_val_label_loss\": 76.51905822753906, \"total_epochs_trained\": 11, \"total_experiment_time_secs\": 3585.965759754181, \"confusion\": {\"O_14\": {\"15\": {\"15\": 239, \"7\": 1}, \"3\": {\"3\": 229, \"4\": 5, \"2\": 2, \"14\": 3, \"5\": 1}, \"6\": {\"6\": 169, \"13\": 65, \"14\": 5, \"2\": 1}, \"1\": {\"1\": 225, \"4\": 2, \"5\": 13}, \"8\": {\"8\": 240}, \"10\": {\"10\": 238, \"0\": 2}, \"9\": {\"9\": 239, \"11\": 1}, \"13\": {\"14\": 44, \"6\": 79, \"13\": 95, \"2\": 18, \"5\": 3, \"7\": 1}, \"12\": {\"12\": 240}, \"5\": {\"5\": 168, \"1\": 25, \"2\": 9, \"4\": 34, \"3\": 4}, \"0\": {\"0\": 234, \"11\": 1, \"10\": 3, \"3\": 2}, \"2\": {\"2\": 127, \"6\": 14, \"5\": 26, \"3\": 12, \"14\": 43, \"13\": 14, \"15\": 1, \"4\": 3}, \"11\": {\"11\": 224, \"9\": 16}, \"14\": {\"14\": 202, \"2\": 21, \"13\": 9, \"6\": 3, \"3\": 5}, \"7\": {\"7\": 240}, \"4\": {\"4\": 208, \"5\": 27, \"3\": 3, \"2\": 1, \"1\": 1}}, \"O_20\": {\"3\": {\"3\": 140, \"9\": 40, \"2\": 17, \"12\": 35, \"4\": 4, \"7\": 1, \"5\": 2, \"0\": 1}, \"15\": {\"15\": 165, \"5\": 10, \"1\": 38, \"12\": 3, \"0\": 18, \"13\": 6}, \"8\": {\"8\": 219, \"4\": 13, \"7\": 6, \"14\": 1, \"3\": 1}, \"4\": {\"4\": 212, \"3\": 11, \"10\": 1, \"8\": 15, \"5\": 1}, \"14\": {\"6\": 19, \"14\": 213, \"10\": 6, \"8\": 2}, \"0\": {\"5\": 51, \"0\": 159, \"7\": 2, \"15\": 20, \"1\": 2, \"2\": 1, \"8\": 3, \"12\": 1, \"13\": 1}, \"7\": {\"7\": 208, \"2\": 20, \"3\": 3, \"8\": 2, \"9\": 7}, \"6\": {\"6\": 230, \"14\": 10}, \"10\": {\"10\": 232, \"14\": 8}, \"5\": {\"5\": 150, \"1\": 24, \"12\": 19, \"0\": 35, \"3\": 5, \"15\": 6, \"4\": 1}, \"2\": {\"2\": 119, \"9\": 81, \"13\": 9, \"7\": 12, \"3\": 9, \"12\": 9, \"5\": 1}, \"12\": {\"12\": 147, \"3\": 38, \"1\": 34, \"9\": 10, \"2\": 3, \"5\": 7, \"13\": 1}, \"9\": {\"9\": 134, \"2\": 70, \"3\": 26, \"12\": 3, \"7\": 6, \"13\": 1}, \"1\": {\"1\": 150, \"5\": 25, \"12\": 37, \"15\": 24, \"3\": 1, \"0\": 2, \"13\": 1}, \"11\": {\"11\": 240}, \"13\": {\"13\": 224, \"9\": 3, \"2\": 9, \"5\": 1, \"15\": 1, \"3\": 1, \"7\": 1}}, \"O_38\": {\"5\": {\"8\": 75, \"5\": 112, \"9\": 8, \"15\": 9, \"13\": 2, \"7\": 29, \"6\": 5}, \"8\": {\"8\": 175, \"7\": 10, \"0\": 12, \"5\": 37, \"13\": 2, \"10\": 3, \"15\": 1}, \"11\": {\"11\": 235, \"10\": 3, \"14\": 1, \"3\": 1}, \"1\": {\"1\": 232, \"15\": 8}, \"10\": {\"10\": 198, \"13\": 28, \"0\": 2, \"7\": 3, \"14\": 2, \"4\": 2, \"8\": 4, \"5\": 1}, \"15\": {\"15\": 215, \"8\": 4, \"1\": 17, \"13\": 2, \"5\": 1, \"2\": 1}, \"3\": {\"3\": 238, \"0\": 2}, \"7\": {\"7\": 199, \"5\": 12, \"0\": 18, \"8\": 10, \"10\": 1}, \"4\": {\"4\": 238, \"12\": 2}, \"14\": {\"14\": 213, \"2\": 26, \"10\": 1}, \"9\": {\"9\": 230, \"6\": 7, \"7\": 1, \"5\": 2}, \"12\": {\"12\": 238, \"4\": 2}, \"6\": {\"6\": 239, \"9\": 1}, \"2\": {\"14\": 15, \"2\": 223, \"13\": 2}, \"0\": {\"8\": 20, \"0\": 169, \"13\": 6, \"7\": 12, \"3\": 10, \"5\": 6, \"11\": 1, \"15\": 2, \"10\": 13, \"4\": 1}, \"13\": {\"13\": 209, \"15\": 6, \"10\": 17, \"2\": 8}}, \"O_8\": {\"9\": {\"9\": 240}, \"10\": {\"10\": 208, \"13\": 9, \"14\": 20, \"4\": 1, \"5\": 2}, \"13\": {\"13\": 126, \"0\": 33, \"4\": 37, \"14\": 10, \"10\": 25, \"6\": 9}, \"0\": {\"13\": 28, \"0\": 195, \"7\": 9, \"6\": 3, \"4\": 3, \"10\": 1, \"14\": 1}, \"1\": {\"1\": 223, \"11\": 10, \"14\": 4, \"5\": 3}, \"15\": {\"15\": 216, \"8\": 4, \"12\": 20}, \"5\": {\"5\": 222, \"1\": 6, \"10\": 9, \"14\": 2, \"8\": 1}, \"3\": {\"3\": 232, \"2\": 5, \"12\": 2, \"15\": 1}, \"6\": {\"7\": 47, \"6\": 172, \"4\": 14, \"0\": 2, \"13\": 5}, \"11\": {\"11\": 217, \"1\": 22, \"5\": 1}, \"8\": {\"8\": 239, \"15\": 1}, \"4\": {\"13\": 49, \"4\": 164, \"6\": 10, \"14\": 15, \"0\": 2}, \"12\": {\"12\": 155, \"15\": 63, \"3\": 19, \"8\": 3}, \"14\": {\"14\": 159, \"13\": 13, \"10\": 38, \"4\": 23, \"1\": 7}, \"2\": {\"2\": 212, \"3\": 20, \"7\": 7, \"15\": 1}, \"7\": {\"7\": 203, \"6\": 36, \"0\": 1}}, \"O_50\": {\"7\": {\"7\": 197, \"13\": 14, \"5\": 22, \"6\": 5, \"10\": 1, \"4\": 1}, \"3\": {\"3\": 238, \"8\": 2}, \"8\": {\"8\": 233, \"10\": 6, \"3\": 1}, \"2\": {\"2\": 216, \"0\": 24}, \"14\": {\"14\": 239, \"12\": 1}, \"4\": {\"15\": 25, \"4\": 171, \"7\": 6, \"6\": 9, \"5\": 27, \"1\": 2}, \"6\": {\"6\": 196, \"13\": 19, \"5\": 5, \"4\": 4, \"1\": 6, \"7\": 5, \"15\": 5}, \"15\": {\"15\": 194, \"11\": 8, \"4\": 14, \"6\": 5, \"1\": 17, \"5\": 1, \"9\": 1}, \"10\": {\"10\": 222, \"13\": 8, \"0\": 9, \"8\": 1}, \"11\": {\"11\": 216, \"9\": 9, \"15\": 9, \"12\": 4, \"1\": 2}, \"13\": {\"13\": 205, \"7\": 10, \"10\": 4, \"6\": 10, \"5\": 10, \"0\": 1}, \"9\": {\"11\": 15, \"9\": 213, \"12\": 12}, \"0\": {\"0\": 193, \"10\": 13, \"2\": 33, \"13\": 1}, \"1\": {\"15\": 16, \"1\": 217, \"6\": 4, \"13\": 1, \"5\": 2}, \"12\": {\"12\": 227, \"9\": 6, \"11\": 7}, \"5\": {\"5\": 140, \"4\": 38, \"7\": 27, \"15\": 2, \"13\": 15, \"1\": 13, \"6\": 5}}, \"O_32\": {\"8\": {\"8\": 190, \"14\": 4, \"5\": 8, \"13\": 11, \"0\": 24, \"3\": 2, \"7\": 1}, \"14\": {\"14\": 154, \"11\": 39, \"5\": 3, \"0\": 22, \"3\": 3, \"7\": 13, \"8\": 5, \"13\": 1}, \"2\": {\"2\": 188, \"4\": 49, \"7\": 3}, \"0\": {\"0\": 205, \"8\": 20, \"14\": 10, \"7\": 4, \"2\": 1}, \"1\": {\"1\": 239, \"10\": 1}, \"10\": {\"10\": 240}, \"11\": {\"11\": 225, \"14\": 9, \"7\": 2, \"3\": 4}, \"5\": {\"5\": 125, \"7\": 53, \"3\": 15, \"8\": 12, \"13\": 13, \"4\": 13, \"0\": 2, \"11\": 1, \"2\": 1, \"14\": 5}, \"15\": {\"15\": 240}, \"3\": {\"3\": 229, \"5\": 1, \"11\": 4, \"13\": 4, \"14\": 1, \"8\": 1}, \"12\": {\"12\": 240}, \"7\": {\"5\": 45, \"7\": 157, \"4\": 13, \"13\": 6, \"0\": 6, \"2\": 3, \"14\": 9, \"8\": 1}, \"13\": {\"13\": 193, \"4\": 15, \"7\": 7, \"11\": 2, \"5\": 7, \"3\": 9, \"14\": 1, \"8\": 4, \"0\": 2}, \"6\": {\"6\": 240}, \"4\": {\"4\": 180, \"2\": 44, \"13\": 7, \"5\": 4, \"7\": 5}, \"9\": {\"9\": 239, \"12\": 1}}, \"O_26\": {\"4\": {\"4\": 154, \"8\": 30, \"14\": 17, \"10\": 7, \"7\": 15, \"0\": 14, \"1\": 3}, \"12\": {\"12\": 240}, \"10\": {\"14\": 26, \"10\": 113, \"8\": 26, \"0\": 55, \"6\": 10, \"9\": 2, \"4\": 4, \"1\": 1, \"15\": 3}, \"0\": {\"9\": 1, \"10\": 48, \"14\": 35, \"0\": 91, \"4\": 24, \"6\": 6, \"8\": 29, \"7\": 5, \"1\": 1}, \"13\": {\"5\": 33, \"13\": 180, \"2\": 4, \"9\": 17, \"15\": 6}, \"9\": {\"15\": 53, \"9\": 153, \"7\": 1, \"6\": 14, \"13\": 8, \"2\": 2, \"5\": 5, \"10\": 1, \"8\": 3}, \"3\": {\"3\": 164, \"2\": 60, \"7\": 13, \"4\": 2, \"5\": 1}, \"2\": {\"5\": 20, \"3\": 74, \"2\": 100, \"7\": 30, \"15\": 8, \"9\": 3, \"8\": 1, \"4\": 2, \"13\": 2}, \"5\": {\"5\": 200, \"9\": 5, \"15\": 13, \"2\": 8, \"13\": 11, \"3\": 1, \"8\": 2}, \"14\": {\"4\": 17, \"14\": 138, \"1\": 29, \"0\": 21, \"10\": 23, \"6\": 2, \"8\": 9, \"7\": 1}, \"8\": {\"8\": 114, \"7\": 18, \"1\": 2, \"4\": 33, \"0\": 14, \"10\": 36, \"15\": 9, \"5\": 1, \"14\": 3, \"9\": 7, \"2\": 1, \"6\": 2}, \"7\": {\"7\": 158, \"8\": 15, \"3\": 16, \"2\": 23, \"4\": 21, \"15\": 5, \"9\": 1, \"5\": 1}, \"6\": {\"6\": 193, \"10\": 16, \"15\": 12, \"0\": 1, \"9\": 16, \"8\": 2}, \"11\": {\"11\": 240}, \"15\": {\"8\": 18, \"15\": 137, \"5\": 13, \"9\": 45, \"0\": 4, \"13\": 8, \"7\": 2, \"2\": 3, \"6\": 8, \"10\": 2}, \"1\": {\"1\": 189, \"14\": 37, \"10\": 4, \"4\": 4, \"8\": 2, \"0\": 1, \"7\": 3}}, \"O_44\": {\"12\": {\"12\": 220, \"1\": 18, \"10\": 1, \"3\": 1}, \"7\": {\"7\": 167, \"2\": 29, \"9\": 35, \"6\": 5, \"13\": 1, \"1\": 2, \"10\": 1}, \"5\": {\"5\": 191, \"4\": 4, \"0\": 18, \"14\": 10, \"8\": 6, \"15\": 11}, \"15\": {\"14\": 20, \"15\": 181, \"8\": 5, \"4\": 2, \"0\": 18, \"5\": 14}, \"8\": {\"0\": 73, \"8\": 155, \"15\": 7, \"5\": 5}, \"2\": {\"2\": 191, \"1\": 11, \"7\": 22, \"10\": 16}, \"13\": {\"13\": 166, \"6\": 38, \"9\": 32, \"7\": 3, \"11\": 1}, \"4\": {\"14\": 67, \"4\": 170, \"13\": 1, \"5\": 1, \"15\": 1}, \"0\": {\"0\": 148, \"5\": 21, \"8\": 63, \"15\": 8}, \"6\": {\"9\": 40, \"6\": 148, \"13\": 44, \"7\": 7, \"11\": 1}, \"9\": {\"13\": 26, \"7\": 49, \"9\": 135, \"6\": 27, \"1\": 1, \"2\": 2}, \"11\": {\"11\": 235, \"13\": 4, \"6\": 1}, \"10\": {\"1\": 23, \"10\": 202, \"2\": 13, \"12\": 2}, \"14\": {\"4\": 71, \"14\": 143, \"15\": 18, \"5\": 8}, \"1\": {\"1\": 163, \"3\": 15, \"10\": 10, \"2\": 21, \"12\": 31}, \"3\": {\"3\": 230, \"1\": 9, \"12\": 1}}, \"C_3\": {\"43\": {\"43\": 125, \"24\": 1, \"56\": 1, \"5\": 1}, \"9\": {\"9\": 125, \"38\": 1, \"17\": 4, \"29\": 9, \"48\": 2, \"27\": 1, \"57\": 4, \"8\": 2, \"12\": 1, \"50\": 1}, \"6\": {\"6\": 69, \"41\": 1, \"42\": 1, \"20\": 2, \"46\": 5, \"48\": 1, \"18\": 3, \"54\": 1, \"17\": 3, \"30\": 1, \"16\": 1}, \"3\": {\"3\": 74, \"8\": 3, \"5\": 4, \"26\": 3, \"9\": 1, \"49\": 1, \"30\": 1, \"37\": 1, \"45\": 1, \"18\": 3, \"21\": 2, \"47\": 3, \"46\": 5, \"36\": 2, \"50\": 8, \"1\": 2, \"4\": 1, \"13\": 3, \"27\": 10, \"53\": 2, \"17\": 3, \"51\": 3, \"20\": 1, \"29\": 1, \"28\": 2, \"10\": 1, \"16\": 1, \"48\": 1, \"23\": 1}, \"16\": {\"16\": 110, \"23\": 7, \"18\": 3, \"46\": 7, \"5\": 2, \"11\": 1, \"20\": 2, \"30\": 2}, \"51\": {\"8\": 8, \"51\": 81, \"27\": 2, \"25\": 1, \"21\": 6, \"17\": 5, \"30\": 2, \"53\": 5, \"13\": 6, \"46\": 1, \"20\": 4, \"50\": 1, \"52\": 1, \"12\": 2, \"3\": 1, \"16\": 1, \"44\": 1}, \"31\": {\"31\": 28}, \"46\": {\"6\": 7, \"16\": 11, \"46\": 76, \"30\": 5, \"41\": 1, \"50\": 6, \"20\": 7, \"5\": 1, \"43\": 1, \"23\": 6, \"3\": 3, \"52\": 1, \"48\": 3, \"47\": 2, \"26\": 3, \"0\": 1}, \"19\": {\"9\": 10, \"37\": 1, \"19\": 61, \"48\": 2, \"4\": 16, \"13\": 1, \"29\": 12, \"17\": 1, \"53\": 1, \"3\": 3, \"50\": 3, \"8\": 4, \"25\": 2, \"34\": 2, \"45\": 1, \"27\": 2, \"57\": 2}, \"8\": {\"8\": 142, \"36\": 3, \"50\": 5, \"27\": 1, \"17\": 1}, \"18\": {\"18\": 74, \"30\": 8, \"50\": 1, \"23\": 1}, \"37\": {\"31\": 1, \"37\": 21, \"38\": 1, \"54\": 1, \"50\": 1, \"21\": 2, \"51\": 1}, \"24\": {\"24\": 101, \"43\": 3}, \"10\": {\"10\": 24, \"16\": 1, \"24\": 8, \"34\": 1, \"15\": 4, \"49\": 1, \"11\": 3, \"20\": 2, \"56\": 5, \"55\": 1, \"43\": 11, \"52\": 2, \"22\": 1}, \"44\": {\"44\": 60, \"14\": 1, \"56\": 8, \"22\": 2, \"40\": 6, \"10\": 3, \"19\": 1, \"5\": 1, \"55\": 4, \"24\": 2}, \"14\": {\"14\": 10, \"21\": 2, \"56\": 6, \"49\": 3, \"29\": 3, \"7\": 4, \"55\": 4, \"51\": 1, \"22\": 1, \"24\": 2, \"28\": 1, \"4\": 2, \"19\": 1}, \"38\": {\"20\": 3, \"48\": 3, \"53\": 1, \"38\": 6, \"12\": 3, \"46\": 3, \"13\": 1, \"21\": 1, \"17\": 4, \"54\": 1, \"51\": 1, \"36\": 1}, \"53\": {\"53\": 32, \"8\": 10, \"36\": 6, \"12\": 5, \"21\": 10, \"13\": 3, \"55\": 2, \"18\": 3, \"51\": 12, \"50\": 21, \"45\": 2, \"17\": 13, \"46\": 3, \"20\": 7, \"9\": 1, \"25\": 4, \"37\": 1, \"52\": 1, \"3\": 3, \"48\": 1}, \"20\": {\"20\": 126, \"18\": 3, \"23\": 1, \"48\": 1, \"46\": 1}, \"32\": {\"32\": 27, \"17\": 1}, \"36\": {\"36\": 100}, \"33\": {\"33\": 28}, \"56\": {\"56\": 136}, \"23\": {\"23\": 128, \"5\": 1, \"39\": 1}, \"54\": {\"54\": 100}, \"21\": {\"21\": 64, \"20\": 4, \"13\": 4, \"46\": 4, \"48\": 3, \"12\": 1, \"50\": 8, \"53\": 7, \"3\": 5, \"45\": 1, \"52\": 3, \"6\": 2, \"51\": 9, \"36\": 3, \"17\": 2, \"8\": 2, \"18\": 2, \"25\": 1, \"16\": 1}, \"28\": {\"28\": 27, \"5\": 1}, \"26\": {\"26\": 24}, \"48\": {\"48\": 111, \"46\": 2, \"1\": 2, \"17\": 1}, \"52\": {\"52\": 114, \"46\": 1, \"15\": 2, \"20\": 1}, \"39\": {\"39\": 16}, \"22\": {\"22\": 128, \"56\": 10, \"49\": 1, \"43\": 1}, \"13\": {\"39\": 1, \"13\": 26, \"24\": 7, \"31\": 2, \"49\": 1, \"21\": 9, \"28\": 2, \"43\": 18, \"53\": 3, \"55\": 10, \"9\": 1, \"3\": 5, \"51\": 5, \"10\": 2, \"54\": 1, \"19\": 1, \"36\": 1, \"12\": 1, \"5\": 9, \"6\": 2, \"22\": 2, \"23\": 1, \"56\": 3, \"25\": 2, \"50\": 3, \"37\": 3, \"7\": 2, \"46\": 3, \"41\": 1, \"40\": 1}, \"2\": {\"45\": 2, \"2\": 21, \"41\": 2, \"55\": 3, \"7\": 2, \"6\": 2}, \"34\": {\"34\": 31, \"22\": 1}, \"27\": {\"27\": 107, \"48\": 1, \"50\": 9, \"3\": 2, \"5\": 1, \"17\": 2, \"29\": 2, \"9\": 5, \"57\": 1, \"8\": 2}, \"45\": {\"2\": 3, \"27\": 1, \"33\": 1, \"19\": 4, \"54\": 8, \"45\": 14, \"42\": 1, \"50\": 3, \"3\": 2, \"12\": 2, \"29\": 1, \"55\": 4, \"6\": 2, \"17\": 5, \"32\": 1, \"4\": 8}, \"35\": {\"35\": 28}, \"29\": {\"29\": 95, \"9\": 22, \"5\": 1, \"57\": 7, \"3\": 1, \"47\": 1, \"27\": 1}, \"25\": {\"35\": 8, \"25\": 39, \"31\": 2, \"6\": 8, \"3\": 18, \"57\": 1, \"45\": 2, \"50\": 6, \"36\": 6, \"21\": 3, \"51\": 2, \"46\": 9, \"53\": 6, \"13\": 6, \"29\": 7, \"54\": 3, \"19\": 1, \"8\": 2, \"55\": 2, \"37\": 1, \"28\": 3, \"26\": 3, \"27\": 3, \"30\": 2, \"43\": 1}, \"0\": {\"0\": 120, \"23\": 2, \"26\": 1, \"43\": 1}, \"41\": {\"41\": 28}, \"11\": {\"11\": 122, \"52\": 4, \"16\": 4, \"43\": 2, \"15\": 9, \"23\": 1}, \"5\": {\"5\": 97, \"39\": 2, \"23\": 3, \"16\": 2, \"46\": 1, \"31\": 1, \"1\": 1, \"0\": 1}, \"1\": {\"1\": 98, \"5\": 1, \"34\": 1}, \"57\": {\"1\": 6, \"57\": 105, \"0\": 1, \"34\": 1, \"29\": 2, \"22\": 1}, \"17\": {\"17\": 105, \"10\": 1, \"53\": 1, \"24\": 1}, \"7\": {\"7\": 36}, \"12\": {\"12\": 83, \"54\": 4, \"17\": 4, \"36\": 1}, \"47\": {\"47\": 62, \"0\": 8, \"23\": 1, \"42\": 1, \"55\": 2, \"46\": 5, \"1\": 9, \"34\": 1, \"57\": 3}, \"40\": {\"37\": 2, \"33\": 1, \"25\": 7, \"3\": 2, \"40\": 69, \"14\": 1, \"20\": 1, \"44\": 7, \"53\": 5, \"45\": 3, \"13\": 3, \"36\": 1, \"19\": 4, \"22\": 10, \"4\": 3, \"55\": 7, \"56\": 5, \"50\": 1, \"38\": 1, \"24\": 1, \"29\": 1, \"27\": 1}, \"15\": {\"15\": 131, \"23\": 1, \"24\": 1, \"11\": 6, \"52\": 1, \"55\": 1, \"47\": 1}, \"42\": {\"42\": 28}, \"55\": {\"42\": 3, \"55\": 142, \"7\": 2, \"14\": 2, \"45\": 1}, \"49\": {\"49\": 19, \"24\": 1}, \"30\": {\"30\": 105, \"18\": 7, \"7\": 2, \"8\": 2, \"46\": 1, \"50\": 1, \"6\": 1, \"3\": 1}, \"50\": {\"50\": 72, \"3\": 8, \"27\": 7, \"8\": 11, \"32\": 1, \"6\": 7, \"36\": 2, \"30\": 4, \"18\": 1, \"17\": 4, \"47\": 1, \"46\": 3, \"48\": 1, \"25\": 1, \"55\": 3, \"42\": 1, \"53\": 3, \"54\": 1, \"4\": 1, \"52\": 1, \"16\": 1}, \"4\": {\"14\": 1, \"4\": 86, \"19\": 16, \"17\": 4, \"55\": 2, \"27\": 14, \"13\": 1, \"8\": 1, \"53\": 1, \"9\": 4, \"37\": 2, \"29\": 2, \"12\": 1, \"50\": 1}}, \"C_4\": {\"35\": {\"35\": 40}, \"25\": {\"51\": 6, \"35\": 5, \"3\": 15, \"25\": 38, \"53\": 10, \"50\": 5, \"54\": 7, \"8\": 3, \"21\": 7, \"31\": 1, \"33\": 2, \"42\": 3, \"19\": 4, \"36\": 4, \"6\": 5, \"47\": 1, \"27\": 5, \"40\": 1, \"9\": 3, \"4\": 1, \"5\": 1, \"18\": 1, \"17\": 1, \"12\": 1, \"23\": 2, \"15\": 2}, \"24\": {\"24\": 46, \"7\": 2, \"22\": 1, \"43\": 4, \"2\": 1, \"13\": 2}, \"48\": {\"48\": 136, \"54\": 1, \"53\": 1}, \"51\": {\"30\": 7, \"21\": 20, \"8\": 17, \"51\": 47, \"16\": 1, \"20\": 14, \"17\": 2, \"18\": 6, \"53\": 11, \"25\": 3, \"27\": 3, \"12\": 2, \"3\": 2, \"37\": 1, \"50\": 3, \"26\": 1, \"48\": 1, \"23\": 2, \"15\": 1}, \"13\": {\"24\": 7, \"13\": 75, \"22\": 5, \"43\": 11, \"19\": 1, \"10\": 4, \"5\": 2, \"25\": 2, \"55\": 3, \"3\": 1, \"33\": 1, \"2\": 2, \"53\": 1, \"40\": 1, \"4\": 1, \"52\": 1, \"56\": 2}, \"14\": {\"35\": 5, \"38\": 2, \"14\": 1, \"19\": 2, \"50\": 1, \"26\": 2, \"56\": 3}, \"32\": {\"32\": 21, \"46\": 1, \"24\": 1, \"49\": 1}, \"30\": {\"30\": 41, \"8\": 3}, \"34\": {\"34\": 24}, \"9\": {\"9\": 82, \"27\": 15, \"50\": 5, \"4\": 8, \"17\": 11, \"19\": 1, \"45\": 1, \"25\": 2, \"29\": 2, \"48\": 1, \"13\": 3, \"3\": 1, \"57\": 1, \"6\": 1, \"55\": 1, \"8\": 1}, \"1\": {\"1\": 39, \"32\": 1}, \"0\": {\"0\": 73, \"32\": 1, \"38\": 1, \"43\": 1, \"5\": 1, \"1\": 1, \"46\": 2}, \"38\": {\"38\": 40}, \"22\": {\"22\": 124, \"38\": 1, \"13\": 2, \"24\": 1}, \"40\": {\"40\": 57, \"14\": 2, \"50\": 2, \"44\": 14, \"21\": 1, \"9\": 2, \"4\": 3, \"56\": 4, \"45\": 3, \"51\": 4, \"12\": 2, \"25\": 6, \"22\": 1, \"13\": 1, \"55\": 9, \"19\": 5, \"42\": 1, \"33\": 1, \"37\": 1, \"53\": 1}, \"6\": {\"6\": 83, \"17\": 1, \"54\": 8, \"35\": 1, \"48\": 5, \"36\": 5, \"20\": 1, \"3\": 3, \"39\": 1, \"53\": 1, \"18\": 1, \"46\": 2}, \"16\": {\"16\": 85, \"11\": 1, \"23\": 2, \"17\": 1, \"5\": 4, \"52\": 3}, \"11\": {\"11\": 81, \"16\": 2, \"15\": 10, \"52\": 10, \"43\": 1}, \"20\": {\"20\": 111, \"18\": 3, \"48\": 1, \"53\": 3, \"8\": 2, \"23\": 1, \"16\": 1}, \"17\": {\"17\": 57, \"27\": 6, \"50\": 4, \"9\": 4, \"4\": 3, \"48\": 2, \"30\": 1, \"51\": 1, \"3\": 1, \"12\": 1}, \"26\": {\"26\": 23, \"3\": 1}, \"54\": {\"54\": 107, \"3\": 1}, \"55\": {\"55\": 117, \"28\": 2, \"34\": 3, \"14\": 1, \"26\": 3, \"29\": 1, \"56\": 15, \"3\": 3, \"4\": 2, \"48\": 1, \"54\": 3, \"13\": 1, \"5\": 2}, \"50\": {\"17\": 8, \"26\": 2, \"50\": 41, \"48\": 4, \"54\": 9, \"53\": 4, \"21\": 4, \"36\": 4, \"35\": 1, \"9\": 8, \"55\": 4, \"3\": 17, \"4\": 2, \"12\": 1, \"27\": 7, \"6\": 5, \"28\": 1, \"8\": 5, \"42\": 1, \"30\": 1, \"18\": 1, \"23\": 1, \"56\": 1}, \"19\": {\"40\": 1, \"26\": 1, \"50\": 2, \"19\": 84, \"4\": 16, \"29\": 10, \"57\": 1, \"33\": 2, \"9\": 9, \"22\": 1, \"53\": 1, \"3\": 1, \"13\": 2, \"34\": 1, \"55\": 3, \"8\": 1, \"51\": 1, \"56\": 2, \"27\": 1, \"48\": 1, \"44\": 1}, \"44\": {\"44\": 54, \"19\": 13, \"33\": 1, \"4\": 17, \"50\": 3, \"56\": 6, \"45\": 4, \"55\": 7, \"9\": 4, \"10\": 1, \"40\": 4, \"42\": 1, \"29\": 5, \"48\": 1, \"57\": 1}, \"47\": {\"47\": 106, \"7\": 1, \"43\": 1, \"5\": 3, \"41\": 1, \"57\": 3, \"46\": 2, \"23\": 2, \"16\": 1}, \"33\": {\"33\": 22, \"27\": 1, \"14\": 1, \"4\": 2, \"29\": 3, \"35\": 1, \"25\": 1, \"42\": 5}, \"5\": {\"5\": 69, \"47\": 2, \"49\": 1, \"20\": 1, \"23\": 12, \"7\": 1, \"46\": 3, \"6\": 3, \"55\": 3, \"16\": 2, \"54\": 2, \"3\": 2, \"18\": 2, \"52\": 2, \"43\": 2, \"15\": 1}, \"18\": {\"18\": 96, \"20\": 3, \"23\": 4, \"5\": 1, \"25\": 1, \"3\": 2, \"19\": 1}, \"21\": {\"33\": 2, \"51\": 13, \"30\": 6, \"53\": 13, \"27\": 1, \"21\": 60, \"12\": 3, \"17\": 2, \"3\": 1, \"20\": 4, \"8\": 8, \"50\": 2, \"6\": 1, \"18\": 2, \"25\": 2, \"23\": 1, \"9\": 3}, \"41\": {\"41\": 36}, \"23\": {\"23\": 121, \"5\": 5, \"18\": 2}, \"39\": {\"39\": 20}, \"37\": {\"37\": 18, \"21\": 2, \"33\": 1, \"25\": 1, \"53\": 1, \"51\": 1}, \"8\": {\"8\": 139, \"30\": 1, \"9\": 4}, \"49\": {\"49\": 20}, \"53\": {\"53\": 48, \"25\": 5, \"48\": 3, \"21\": 11, \"20\": 20, \"27\": 1, \"8\": 15, \"17\": 2, \"36\": 4, \"16\": 4, \"6\": 2, \"30\": 1, \"50\": 1, \"23\": 7, \"51\": 6, \"9\": 4, \"18\": 1, \"12\": 1, \"54\": 2, \"28\": 1, \"3\": 1}, \"31\": {\"31\": 25, \"6\": 2, \"20\": 1}, \"28\": {\"28\": 30, \"55\": 1, \"3\": 1}, \"3\": {\"54\": 6, \"53\": 3, \"3\": 102, \"6\": 3, \"44\": 2, \"27\": 1, \"26\": 1, \"19\": 1, \"51\": 1, \"48\": 2, \"8\": 1, \"5\": 1}, \"27\": {\"27\": 121, \"9\": 8, \"4\": 1, \"50\": 3, \"48\": 2, \"8\": 1, \"17\": 2}, \"46\": {\"32\": 2, \"46\": 82, \"1\": 3, \"11\": 1, \"49\": 2, \"47\": 10, \"7\": 2, \"16\": 3, \"43\": 11, \"5\": 2, \"54\": 1, \"31\": 2, \"38\": 2, \"52\": 2, \"6\": 1, \"0\": 1, \"56\": 1}, \"12\": {\"12\": 82, \"50\": 1, \"45\": 1, \"8\": 1, \"36\": 1, \"17\": 4, \"27\": 2}, \"7\": {\"43\": 1, \"7\": 22, \"13\": 1}, \"4\": {\"4\": 83, \"19\": 5, \"27\": 14, \"17\": 5, \"33\": 2, \"9\": 11, \"3\": 1, \"44\": 2, \"56\": 1, \"55\": 1, \"42\": 2, \"50\": 2, \"28\": 1, \"29\": 2}, \"42\": {\"42\": 32}, \"43\": {\"43\": 127, \"24\": 1, \"5\": 1, \"38\": 1}, \"29\": {\"29\": 112, \"57\": 2, \"54\": 1, \"28\": 2, \"56\": 2, \"43\": 1}, \"57\": {\"57\": 93, \"29\": 2, \"43\": 1, \"56\": 1, \"47\": 2, \"23\": 1}, \"52\": {\"52\": 100, \"16\": 2, \"23\": 1, \"46\": 1}, \"45\": {\"45\": 30, \"12\": 4, \"34\": 3, \"4\": 11, \"27\": 7, \"30\": 3, \"21\": 1, \"17\": 8, \"19\": 2, \"9\": 5, \"29\": 1, \"35\": 1, \"3\": 3, \"53\": 2, \"28\": 1, \"26\": 2, \"25\": 1, \"50\": 5, \"51\": 1, \"55\": 2, \"48\": 1, \"44\": 2}, \"36\": {\"36\": 92}, \"10\": {\"16\": 3, \"10\": 102, \"18\": 1, \"22\": 9, \"11\": 1, \"15\": 3, \"43\": 3, \"2\": 1, \"0\": 1, \"23\": 2}, \"15\": {\"15\": 117, \"11\": 5, \"16\": 6, \"52\": 6}, \"56\": {\"1\": 2, \"56\": 117, \"55\": 1, \"22\": 1, \"57\": 2, \"13\": 1}, \"2\": {\"2\": 36}}, \"C_5\": {\"47\": {\"47\": 85, \"39\": 1, \"54\": 2, \"57\": 4, \"46\": 2, \"43\": 2, \"3\": 3, \"36\": 1}, \"53\": {\"17\": 10, \"53\": 61, \"14\": 2, \"51\": 7, \"8\": 21, \"20\": 8, \"48\": 8, \"30\": 1, \"18\": 4, \"9\": 2, \"6\": 8, \"1\": 8, \"50\": 2, \"25\": 2, \"7\": 1, \"23\": 2, \"21\": 3}, \"29\": {\"29\": 121, \"28\": 1, \"44\": 2, \"36\": 1, \"47\": 1}, \"52\": {\"52\": 127, \"24\": 1, \"46\": 1, \"11\": 1}, \"55\": {\"55\": 90, \"4\": 3, \"26\": 1, \"48\": 10, \"28\": 1, \"45\": 14, \"54\": 1, \"50\": 3, \"6\": 6, \"40\": 1, \"1\": 2, \"19\": 3, \"27\": 3, \"36\": 1, \"17\": 1, \"35\": 1, \"23\": 1, \"5\": 1, \"9\": 1}, \"17\": {\"17\": 106, \"26\": 1, \"9\": 2, \"6\": 2, \"1\": 1, \"27\": 1, \"48\": 3}, \"42\": {\"42\": 40}, \"33\": {\"33\": 31, \"28\": 1}, \"11\": {\"11\": 126, \"23\": 2, \"15\": 13, \"52\": 2, \"3\": 1, \"16\": 3, \"43\": 1}, \"19\": {\"33\": 3, \"19\": 84, \"50\": 1, \"32\": 2, \"9\": 9, \"45\": 2, \"23\": 1, \"27\": 7, \"29\": 3, \"44\": 3, \"48\": 1, \"17\": 2}, \"1\": {\"1\": 128, \"27\": 1, \"6\": 2, \"17\": 3, \"53\": 4, \"48\": 3, \"8\": 2, \"54\": 1}, \"44\": {\"29\": 15, \"33\": 3, \"34\": 6, \"44\": 76, \"28\": 5, \"32\": 2, \"5\": 3, \"40\": 5, \"14\": 2, \"19\": 7, \"3\": 1, \"1\": 1, \"27\": 7, \"47\": 1, \"17\": 1, \"50\": 1, \"56\": 4, \"9\": 1, \"48\": 1}, \"49\": {\"49\": 36}, \"4\": {\"33\": 1, \"4\": 47, \"5\": 3, \"45\": 10, \"29\": 1, \"32\": 4, \"27\": 2, \"19\": 4, \"44\": 4, \"9\": 1, \"48\": 1, \"17\": 2, \"40\": 3, \"25\": 1, \"50\": 2, \"22\": 3, \"28\": 1, \"6\": 1, \"12\": 2, \"55\": 6, \"56\": 1}, \"6\": {\"1\": 9, \"30\": 14, \"8\": 11, \"6\": 54, \"26\": 2, \"20\": 4, \"54\": 3, \"53\": 2, \"17\": 5, \"48\": 5, \"38\": 1, \"36\": 1, \"50\": 2, \"45\": 3}, \"39\": {\"39\": 20}, \"50\": {\"50\": 64, \"28\": 3, \"19\": 1, \"12\": 2, \"45\": 12, \"35\": 3, \"51\": 1, \"48\": 3, \"9\": 12, \"8\": 4, \"55\": 6, \"53\": 6, \"17\": 4, \"54\": 8, \"27\": 3, \"36\": 2, \"21\": 5, \"1\": 2, \"6\": 2, \"25\": 3, \"3\": 1, \"29\": 1}, \"56\": {\"56\": 130}, \"25\": {\"39\": 1, \"25\": 60, \"42\": 9, \"53\": 4, \"36\": 5, \"54\": 15, \"50\": 17, \"57\": 3, \"47\": 3, \"9\": 4, \"21\": 7, \"29\": 1, \"8\": 1, \"1\": 1, \"20\": 1, \"6\": 6, \"43\": 1, \"51\": 2, \"31\": 1, \"12\": 2}, \"28\": {\"28\": 28, \"33\": 3, \"29\": 1}, \"35\": {\"35\": 36}, \"24\": {\"24\": 72, \"35\": 1, \"3\": 2, \"13\": 4, \"56\": 1}, \"21\": {\"50\": 3, \"16\": 7, \"43\": 4, \"12\": 10, \"51\": 20, \"23\": 8, \"21\": 53, \"7\": 1, \"18\": 1, \"25\": 3, \"53\": 12, \"20\": 3, \"1\": 1, \"8\": 3, \"9\": 1, \"10\": 1, \"52\": 1}, \"45\": {\"45\": 74, \"17\": 8, \"55\": 9, \"33\": 1, \"6\": 3, \"48\": 5, \"42\": 1, \"50\": 3, \"12\": 1, \"19\": 1, \"40\": 1, \"9\": 4, \"27\": 6, \"1\": 2, \"54\": 2, \"26\": 2, \"51\": 1}, \"16\": {\"16\": 117, \"3\": 1, \"23\": 9, \"46\": 7, \"55\": 1, \"11\": 5, \"43\": 1, \"56\": 1, \"50\": 1, \"0\": 1}, \"37\": {\"37\": 13, \"3\": 1, \"54\": 2, \"36\": 2, \"6\": 1, \"45\": 1, \"51\": 1, \"43\": 2, \"42\": 1}, \"57\": {\"57\": 125, \"3\": 3, \"47\": 2, \"54\": 1, \"43\": 1}, \"34\": {\"34\": 33, \"3\": 1, \"27\": 2}, \"38\": {\"38\": 27, \"17\": 2, \"27\": 2, \"51\": 1}, \"48\": {\"48\": 120, \"17\": 2, \"53\": 1, \"1\": 4, \"6\": 3}, \"26\": {\"26\": 24}, \"9\": {\"48\": 7, \"9\": 92, \"1\": 9, \"17\": 12, \"57\": 1, \"27\": 8, \"25\": 2, \"6\": 4, \"30\": 8, \"53\": 1, \"8\": 2, \"45\": 1, \"50\": 1, \"19\": 1, \"29\": 1, \"55\": 1, \"21\": 1}, \"18\": {\"18\": 64}, \"3\": {\"3\": 54, \"46\": 12, \"35\": 4, \"0\": 3, \"14\": 3, \"31\": 2, \"43\": 5, \"24\": 2, \"47\": 3, \"49\": 1, \"36\": 2, \"13\": 2, \"57\": 1, \"52\": 2, \"16\": 2, \"23\": 2}, \"23\": {\"23\": 124}, \"15\": {\"15\": 142, \"11\": 10, \"43\": 1, \"24\": 1}, \"10\": {\"10\": 43, \"56\": 3, \"3\": 2, \"24\": 8, \"15\": 5, \"11\": 3, \"46\": 1, \"13\": 1, \"39\": 1, \"25\": 1}, \"46\": {\"46\": 107, \"49\": 1, \"36\": 2, \"56\": 2, \"3\": 16, \"57\": 2, \"15\": 1, \"0\": 3, \"54\": 1, \"23\": 3, \"47\": 4, \"24\": 1, \"43\": 1, \"16\": 3, \"11\": 1}, \"22\": {\"34\": 3, \"22\": 16, \"56\": 3, \"2\": 1, \"33\": 1, \"43\": 1, \"14\": 1, \"44\": 2}, \"54\": {\"54\": 112}, \"27\": {\"27\": 139, \"17\": 3, \"32\": 5, \"1\": 3, \"30\": 2, \"9\": 5, \"6\": 1, \"19\": 1, \"23\": 1}, \"41\": {\"41\": 28}, \"31\": {\"31\": 36}, \"0\": {\"0\": 116, \"24\": 1, \"15\": 1, \"56\": 1, \"3\": 2, \"46\": 2, \"43\": 1}, \"7\": {\"48\": 3, \"7\": 8, \"53\": 7, \"30\": 1, \"51\": 4, \"9\": 3, \"25\": 1, \"12\": 1, \"32\": 1, \"17\": 1, \"8\": 2}, \"2\": {\"2\": 28}, \"14\": {\"49\": 4, \"14\": 21, \"28\": 4, \"27\": 1, \"3\": 1, \"12\": 1, \"46\": 1, \"4\": 1, \"36\": 2, \"19\": 3, \"29\": 1, \"57\": 1, \"43\": 3}, \"40\": {\"38\": 1, \"40\": 51, \"44\": 6, \"5\": 15, \"33\": 5, \"4\": 6, \"55\": 7, \"19\": 5, \"29\": 6, \"45\": 5, \"51\": 1, \"12\": 1, \"43\": 1, \"21\": 1, \"25\": 2, \"37\": 2, \"22\": 1, \"42\": 1, \"49\": 1, \"34\": 1, \"50\": 1, \"36\": 1, \"56\": 1, \"9\": 1, \"27\": 1}, \"5\": {\"5\": 72, \"40\": 10, \"22\": 3, \"44\": 14, \"32\": 1, \"4\": 8, \"29\": 5, \"56\": 1, \"19\": 3, \"25\": 1, \"55\": 1, \"33\": 1, \"28\": 2, \"34\": 1, \"45\": 2, \"12\": 1, \"21\": 1, \"27\": 1}, \"12\": {\"12\": 36, \"9\": 4, \"17\": 4, \"6\": 7, \"51\": 6, \"53\": 3, \"30\": 8, \"21\": 3, \"7\": 3, \"50\": 3, \"48\": 2, \"4\": 1, \"45\": 3, \"55\": 3, \"25\": 2, \"38\": 3, \"27\": 2, \"1\": 1, \"8\": 1, \"40\": 1}, \"43\": {\"43\": 140, \"13\": 2}, \"13\": {\"43\": 19, \"13\": 105, \"36\": 1, \"10\": 1, \"25\": 1, \"14\": 1, \"24\": 10, \"50\": 1, \"56\": 4, \"15\": 2, \"49\": 1, \"52\": 2}, \"36\": {\"36\": 92}, \"8\": {\"8\": 133, \"30\": 2, \"9\": 1, \"32\": 1, \"1\": 8, \"18\": 1, \"20\": 1, \"43\": 1, \"13\": 1, \"6\": 1}, \"32\": {\"32\": 26, \"19\": 1, \"17\": 2, \"28\": 1, \"45\": 1, \"30\": 1}, \"30\": {\"30\": 113, \"17\": 5, \"20\": 1, \"9\": 2, \"1\": 2, \"8\": 1, \"27\": 2, \"48\": 1, \"53\": 1}, \"51\": {\"51\": 57, \"20\": 18, \"16\": 3, \"53\": 8, \"21\": 14, \"8\": 13, \"12\": 9, \"18\": 2, \"1\": 3, \"50\": 2, \"25\": 2, \"6\": 4, \"9\": 1, \"55\": 1, \"30\": 1}, \"20\": {\"20\": 101, \"53\": 6, \"16\": 5, \"1\": 4, \"51\": 2, \"8\": 7, \"18\": 7, \"6\": 3, \"30\": 1, \"50\": 1, \"23\": 1}}, \"C_1\": {\"46\": {\"1\": 2, \"26\": 2, \"50\": 7, \"46\": 44, \"6\": 10, \"34\": 1, \"55\": 3, \"5\": 23, \"17\": 2, \"8\": 4, \"2\": 9, \"48\": 17, \"44\": 2, \"4\": 4, \"45\": 2, \"20\": 1, \"53\": 1, \"29\": 3, \"30\": 2, \"51\": 1}, \"16\": {\"16\": 128, \"36\": 2, \"18\": 1, \"54\": 1, \"45\": 1, \"23\": 1}, \"26\": {\"26\": 24}, \"10\": {\"10\": 65, \"24\": 2, \"11\": 6, \"22\": 2, \"15\": 12, \"21\": 4, \"23\": 2, \"43\": 3}, \"9\": {\"9\": 152, \"18\": 3, \"30\": 1}, \"28\": {\"28\": 26, \"55\": 2}, \"51\": {\"51\": 53, \"9\": 20, \"18\": 12, \"30\": 4, \"53\": 11, \"41\": 3, \"7\": 1, \"42\": 1, \"14\": 1, \"46\": 1, \"8\": 7, \"13\": 9, \"16\": 11, \"12\": 3, \"20\": 6, \"19\": 1, \"45\": 4, \"6\": 1, \"36\": 2, \"25\": 1, \"3\": 3, \"29\": 1}, \"1\": {\"1\": 71, \"35\": 2, \"45\": 1, \"57\": 6, \"44\": 5, \"42\": 1, \"19\": 3, \"56\": 8, \"55\": 1, \"5\": 1, \"54\": 1}, \"55\": {\"55\": 140, \"42\": 1, \"38\": 2, \"45\": 1, \"24\": 1, \"39\": 1, \"54\": 1, \"50\": 1}, \"27\": {\"27\": 124}, \"22\": {\"22\": 111, \"54\": 1, \"24\": 8, \"23\": 2, \"27\": 2}, \"52\": {\"52\": 123, \"31\": 1, \"23\": 1, \"22\": 1}, \"3\": {\"1\": 3, \"51\": 5, \"33\": 1, \"41\": 1, \"29\": 3, \"6\": 1, \"32\": 2, \"3\": 64, \"45\": 3, \"35\": 3, \"46\": 3, \"13\": 10, \"56\": 2, \"4\": 1, \"24\": 1, \"55\": 12, \"47\": 3, \"20\": 4, \"25\": 5, \"53\": 2, \"30\": 1, \"19\": 4, \"27\": 1, \"57\": 1, \"26\": 1, \"22\": 1, \"54\": 1, \"44\": 1}, \"33\": {\"33\": 32}, \"47\": {\"47\": 117, \"40\": 1, \"52\": 1, \"55\": 1}, \"42\": {\"42\": 39, \"45\": 1}, \"12\": {\"7\": 5, \"12\": 49, \"42\": 2, \"53\": 11, \"16\": 12, \"25\": 2, \"5\": 6, \"51\": 4, \"18\": 4, \"11\": 2, \"30\": 1, \"36\": 5, \"20\": 5, \"46\": 1, \"54\": 5, \"9\": 1, \"57\": 1}, \"23\": {\"23\": 132}, \"49\": {\"49\": 29, \"24\": 2, \"39\": 1}, \"7\": {\"7\": 28}, \"4\": {\"46\": 8, \"4\": 68, \"1\": 1, \"48\": 7, \"29\": 9, \"5\": 3, \"17\": 1, \"19\": 6, \"44\": 3, \"50\": 13, \"57\": 3, \"25\": 1, \"45\": 1, \"55\": 3, \"37\": 1, \"20\": 1, \"2\": 1, \"9\": 1, \"13\": 1}, \"50\": {\"50\": 100, \"46\": 2, \"48\": 19, \"3\": 2, \"51\": 1, \"8\": 1, \"5\": 2, \"14\": 2, \"6\": 1, \"17\": 2, \"2\": 2}, \"19\": {\"56\": 17, \"19\": 112, \"17\": 2, \"53\": 1, \"8\": 1, \"1\": 2, \"57\": 9, \"44\": 1, \"42\": 2, \"54\": 1, \"9\": 1, \"46\": 1, \"25\": 1, \"48\": 2, \"45\": 1}, \"11\": {\"11\": 124, \"24\": 1, \"15\": 6, \"21\": 6, \"10\": 2, \"23\": 1}, \"31\": {\"31\": 21, \"24\": 3, \"22\": 1, \"15\": 1, \"0\": 1, \"28\": 1}, \"41\": {\"9\": 1, \"41\": 14, \"30\": 2, \"51\": 4, \"8\": 1, \"20\": 2}, \"56\": {\"56\": 85, \"1\": 11, \"19\": 18, \"54\": 4, \"45\": 2, \"55\": 1, \"57\": 7, \"47\": 3, \"44\": 6, \"42\": 1}, \"0\": {\"0\": 145, \"23\": 2, \"54\": 1}, \"57\": {\"19\": 13, \"57\": 55, \"1\": 8, \"50\": 2, \"44\": 17, \"56\": 23, \"17\": 1, \"27\": 1, \"54\": 3, \"14\": 1, \"46\": 2, \"47\": 1, \"29\": 1}, \"53\": {\"53\": 32, \"51\": 13, \"13\": 2, \"17\": 3, \"36\": 2, \"12\": 8, \"8\": 10, \"6\": 1, \"18\": 17, \"30\": 12, \"9\": 16, \"20\": 8, \"25\": 2, \"16\": 7, \"45\": 2, \"5\": 2, \"46\": 1, \"48\": 1, \"29\": 1}, \"43\": {\"52\": 6, \"43\": 76, \"21\": 3, \"39\": 1, \"0\": 2, \"24\": 10, \"22\": 8, \"10\": 12, \"11\": 4, \"27\": 17, \"23\": 3, \"54\": 1, \"15\": 1}, \"37\": {\"37\": 25, \"26\": 2, \"55\": 3, \"35\": 1, \"25\": 1}, \"2\": {\"2\": 36}, \"6\": {\"6\": 82, \"14\": 1, \"48\": 5, \"5\": 3, \"8\": 3, \"50\": 1, \"2\": 1}, \"13\": {\"13\": 53, \"17\": 3, \"41\": 1, \"50\": 3, \"56\": 1, \"53\": 2, \"7\": 3, \"42\": 4, \"3\": 15, \"5\": 5, \"30\": 3, \"16\": 3, \"6\": 2, \"51\": 4, \"23\": 1, \"20\": 5, \"45\": 11, \"12\": 6, \"57\": 1, \"55\": 8, \"19\": 4, \"43\": 2, \"27\": 4, \"29\": 1, \"1\": 1, \"14\": 1, \"8\": 1, \"46\": 1, \"54\": 1}, \"18\": {\"18\": 68, \"9\": 1, \"45\": 1, \"42\": 1, \"30\": 1}, \"36\": {\"36\": 60, \"16\": 2, \"23\": 2}, \"29\": {\"29\": 53, \"3\": 1, \"35\": 7, \"14\": 2, \"1\": 3, \"44\": 23, \"17\": 1, \"19\": 12, \"20\": 1, \"56\": 14, \"47\": 6, \"4\": 2, \"57\": 7, \"12\": 1, \"50\": 1, \"46\": 1, \"54\": 2, \"55\": 1, \"45\": 2}, \"39\": {\"39\": 28}, \"17\": {\"17\": 64}, \"21\": {\"21\": 114, \"11\": 3, \"23\": 1, \"15\": 6}, \"25\": {\"25\": 77, \"50\": 1, \"37\": 2, \"46\": 3, \"14\": 2, \"32\": 5, \"30\": 7, \"8\": 1, \"5\": 11, \"51\": 1, \"54\": 7, \"6\": 2, \"45\": 2, \"56\": 2, \"9\": 1, \"33\": 2, \"19\": 1, \"12\": 1, \"1\": 1, \"55\": 1, \"57\": 2}, \"45\": {\"45\": 140, \"42\": 2}, \"38\": {\"38\": 21, \"24\": 1, \"32\": 1, \"28\": 1}, \"30\": {\"30\": 107, \"8\": 3, \"18\": 4, \"9\": 5, \"14\": 1}, \"24\": {\"24\": 87, \"31\": 2, \"22\": 16, \"23\": 1, \"39\": 2}, \"20\": {\"18\": 9, \"20\": 47, \"53\": 9, \"16\": 15, \"0\": 2, \"12\": 3, \"13\": 4, \"19\": 2, \"6\": 1, \"36\": 1, \"3\": 3, \"51\": 13, \"54\": 4, \"30\": 4, \"9\": 6, \"45\": 4, \"25\": 2, \"56\": 2, \"5\": 1, \"41\": 1, \"43\": 2, \"1\": 2, \"46\": 1, \"8\": 2}, \"8\": {\"8\": 131, \"30\": 6, \"6\": 3}, \"35\": {\"35\": 36}, \"54\": {\"54\": 104}, \"5\": {\"5\": 148}, \"48\": {\"48\": 132, \"2\": 3, \"46\": 1, \"6\": 1, \"50\": 4, \"5\": 3}, \"15\": {\"15\": 111, \"10\": 6, \"21\": 16, \"23\": 4, \"11\": 4, \"52\": 1}, \"34\": {\"34\": 24}, \"14\": {\"19\": 1, \"42\": 1, \"5\": 1, \"26\": 2, \"12\": 1, \"14\": 9, \"17\": 1, \"30\": 2, \"18\": 1, \"51\": 1, \"8\": 2, \"45\": 1, \"46\": 1}, \"32\": {\"32\": 28, \"54\": 4}, \"40\": {\"51\": 3, \"40\": 76, \"29\": 19, \"4\": 9, \"35\": 2, \"12\": 2, \"3\": 5, \"20\": 2, \"55\": 3, \"44\": 7, \"57\": 3, \"13\": 5, \"24\": 2, \"47\": 3, \"27\": 2, \"46\": 2, \"19\": 1, \"45\": 1, \"50\": 1}, \"44\": {\"44\": 101, \"35\": 2, \"54\": 4, \"4\": 1, \"24\": 1, \"19\": 5, \"47\": 5, \"56\": 5, \"57\": 5, \"29\": 1, \"45\": 3, \"1\": 2, \"55\": 1}}, \"C_2\": {\"36\": {\"36\": 116}, \"5\": {\"5\": 111, \"14\": 1, \"55\": 2, \"43\": 3, \"23\": 2, \"46\": 1}, \"45\": {\"41\": 2, \"4\": 14, \"34\": 1, \"45\": 41, \"17\": 9, \"26\": 6, \"54\": 11, \"55\": 9, \"50\": 5, \"53\": 1, \"9\": 7, \"19\": 3, \"2\": 2, \"3\": 3, \"20\": 1, \"12\": 6, \"29\": 1, \"13\": 1, \"25\": 1, \"22\": 1, \"27\": 1, \"51\": 1, \"6\": 1}, \"49\": {\"49\": 23, \"36\": 1}, \"50\": {\"50\": 82, \"32\": 2, \"8\": 8, \"53\": 6, \"17\": 2, \"2\": 3, \"31\": 1, \"3\": 1, \"48\": 3, \"27\": 12, \"6\": 5, \"30\": 3, \"18\": 2, \"46\": 1, \"36\": 1, \"5\": 1, \"23\": 1, \"55\": 1, \"54\": 1}, \"4\": {\"14\": 1, \"4\": 72, \"17\": 7, \"29\": 5, \"12\": 1, \"19\": 13, \"53\": 1, \"27\": 14, \"50\": 3, \"9\": 12, \"45\": 4, \"26\": 3, \"46\": 1, \"55\": 1}, \"43\": {\"43\": 145, \"24\": 3}, \"41\": {\"41\": 20}, \"37\": {\"37\": 31, \"21\": 3, \"20\": 2}, \"12\": {\"12\": 90, \"54\": 2}, \"33\": {\"33\": 15, \"19\": 1, \"9\": 1, \"17\": 1, \"2\": 2, \"36\": 2, \"27\": 1, \"29\": 3, \"3\": 2}, \"7\": {\"7\": 36}, \"56\": {\"56\": 129, \"22\": 11}, \"14\": {\"56\": 7, \"24\": 2, \"28\": 3, \"4\": 1, \"14\": 5, \"43\": 2, \"42\": 1, \"55\": 3}, \"52\": {\"52\": 124}, \"44\": {\"44\": 67, \"19\": 5, \"35\": 1, \"40\": 10, \"4\": 3, \"45\": 4, \"33\": 1, \"22\": 2, \"9\": 2, \"56\": 1}, \"48\": {\"48\": 142, \"46\": 1, \"6\": 1}, \"20\": {\"20\": 40, \"8\": 36, \"21\": 9, \"18\": 7, \"17\": 3, \"30\": 4, \"36\": 5, \"25\": 2, \"3\": 1, \"50\": 4, \"51\": 9, \"32\": 2, \"27\": 1, \"48\": 1, \"53\": 3, \"16\": 1}, \"55\": {\"55\": 127, \"45\": 1, \"56\": 5, \"4\": 2, \"19\": 1, \"22\": 2, \"34\": 2, \"41\": 1, \"28\": 1, \"5\": 2}, \"32\": {\"32\": 27, \"9\": 1}, \"40\": {\"44\": 6, \"55\": 3, \"40\": 57, \"35\": 4, \"34\": 1, \"33\": 1, \"22\": 6, \"19\": 7, \"21\": 3, \"13\": 6, \"20\": 2, \"29\": 5, \"25\": 3, \"4\": 6, \"45\": 4, \"51\": 3, \"9\": 5, \"56\": 5, \"10\": 1, \"8\": 1, \"1\": 1, \"14\": 1, \"31\": 1, \"5\": 2, \"36\": 1, \"53\": 1}, \"54\": {\"54\": 108}, \"17\": {\"48\": 10, \"17\": 82, \"9\": 1, \"12\": 1, \"54\": 1, \"29\": 1, \"50\": 3, \"42\": 1, \"19\": 1, \"3\": 1, \"36\": 1, \"23\": 1}, \"38\": {\"38\": 20}, \"24\": {\"24\": 87, \"43\": 9}, \"1\": {\"1\": 108, \"57\": 1, \"23\": 1, \"55\": 1, \"47\": 1}, \"6\": {\"41\": 1, \"6\": 92, \"54\": 6, \"16\": 2, \"30\": 5, \"46\": 9, \"17\": 1, \"48\": 5, \"42\": 1, \"12\": 2}, \"34\": {\"34\": 28}, \"11\": {\"11\": 116, \"15\": 12, \"23\": 1, \"52\": 5, \"16\": 2}, \"9\": {\"9\": 81, \"17\": 9, \"40\": 1, \"19\": 18, \"29\": 17, \"57\": 5, \"3\": 1, \"27\": 3, \"4\": 8, \"1\": 2, \"32\": 2, \"36\": 1, \"8\": 2}, \"8\": {\"8\": 139, \"36\": 4, \"27\": 7, \"50\": 2}, \"22\": {\"22\": 128, \"56\": 8}, \"26\": {\"26\": 24}, \"23\": {\"23\": 144, \"16\": 1, \"5\": 1}, \"10\": {\"10\": 59, \"56\": 4, \"22\": 2, \"15\": 3, \"29\": 2, \"43\": 13, \"24\": 3, \"16\": 3, \"11\": 15, \"30\": 1, \"38\": 2, \"5\": 2, \"18\": 1, \"20\": 2}, \"18\": {\"18\": 44, \"23\": 1, \"30\": 3}, \"13\": {\"13\": 29, \"24\": 10, \"5\": 13, \"53\": 8, \"43\": 11, \"29\": 3, \"56\": 3, \"38\": 2, \"31\": 2, \"37\": 2, \"6\": 1, \"55\": 4, \"21\": 6, \"51\": 3, \"3\": 3, \"25\": 5, \"47\": 1, \"23\": 3, \"40\": 1, \"2\": 2, \"41\": 1, \"20\": 1, \"33\": 1, \"46\": 1}, \"30\": {\"18\": 6, \"30\": 119, \"23\": 2, \"46\": 1}, \"42\": {\"42\": 35, \"55\": 1}, \"31\": {\"31\": 25, \"43\": 1, \"5\": 1, \"42\": 1}, \"46\": {\"46\": 85, \"23\": 13, \"6\": 12, \"7\": 2, \"18\": 1, \"16\": 11, \"43\": 1, \"48\": 2, \"3\": 1}, \"57\": {\"57\": 135, \"5\": 2, \"47\": 4, \"0\": 1}, \"47\": {\"5\": 1, \"7\": 1, \"47\": 119, \"42\": 2, \"46\": 4, \"57\": 5, \"23\": 2, \"1\": 4}, \"35\": {\"40\": 5, \"35\": 16, \"45\": 6, \"22\": 3, \"56\": 1, \"34\": 1}, \"15\": {\"15\": 122, \"11\": 4, \"52\": 3, \"16\": 2, \"50\": 1}, \"25\": {\"47\": 4, \"51\": 3, \"3\": 13, \"25\": 39, \"21\": 3, \"17\": 2, \"39\": 2, \"50\": 5, \"36\": 11, \"2\": 1, \"13\": 3, \"31\": 1, \"54\": 9, \"53\": 7, \"30\": 3, \"27\": 4, \"20\": 3, \"46\": 7, \"19\": 1, \"8\": 2, \"4\": 2, \"49\": 1, \"45\": 2, \"57\": 1, \"29\": 1, \"9\": 3, \"6\": 2, \"40\": 1}, \"19\": {\"19\": 72, \"55\": 3, \"45\": 1, \"31\": 1, \"5\": 1, \"29\": 7, \"21\": 1, \"17\": 7, \"13\": 3, \"4\": 12, \"57\": 1, \"27\": 2, \"10\": 1, \"9\": 17, \"48\": 1, \"3\": 1, \"53\": 1, \"50\": 1, \"25\": 1, \"40\": 2}, \"51\": {\"51\": 51, \"25\": 3, \"50\": 5, \"21\": 9, \"53\": 11, \"3\": 3, \"6\": 1, \"8\": 15, \"27\": 6, \"37\": 2, \"17\": 6, \"30\": 5, \"13\": 2, \"36\": 2, \"9\": 1, \"19\": 1, \"18\": 1, \"20\": 3, \"57\": 1}, \"53\": {\"17\": 16, \"53\": 37, \"25\": 3, \"48\": 8, \"18\": 3, \"6\": 6, \"51\": 8, \"50\": 17, \"8\": 9, \"20\": 3, \"36\": 3, \"3\": 3, \"21\": 3, \"27\": 6, \"37\": 2, \"12\": 4, \"9\": 1, \"16\": 1, \"55\": 1}, \"21\": {\"16\": 13, \"48\": 1, \"51\": 14, \"21\": 52, \"20\": 14, \"54\": 1, \"23\": 2, \"8\": 1, \"6\": 2, \"53\": 4, \"46\": 3, \"11\": 3, \"3\": 2, \"52\": 7, \"18\": 1}, \"39\": {\"39\": 27, \"34\": 1}, \"2\": {\"2\": 30, \"42\": 1, \"34\": 1}, \"16\": {\"16\": 121, \"23\": 17, \"46\": 3, \"30\": 2, \"5\": 2, \"47\": 1, \"15\": 1, \"43\": 1, \"48\": 2}, \"0\": {\"0\": 45, \"31\": 1, \"23\": 2}, \"3\": {\"3\": 49, \"49\": 2, \"37\": 1, \"39\": 2, \"45\": 1, \"53\": 4, \"19\": 1, \"17\": 1, \"46\": 2, \"36\": 4, \"23\": 2, \"55\": 2, \"6\": 2, \"27\": 1, \"50\": 7, \"9\": 1, \"51\": 2, \"21\": 2, \"13\": 1, \"42\": 1, \"54\": 2, \"22\": 1, \"48\": 1}, \"27\": {\"27\": 133, \"4\": 1, \"54\": 1, \"8\": 4, \"17\": 1, \"36\": 1, \"30\": 1}, \"28\": {\"28\": 27, \"41\": 1}, \"29\": {\"29\": 84, \"9\": 14, \"32\": 1, \"4\": 1, \"57\": 5, \"23\": 2, \"19\": 6, \"48\": 3, \"17\": 3, \"1\": 5, \"47\": 2, \"33\": 1, \"5\": 1}}}, \"per_domain_accuracy\": {\"O_14\": {\"accuracy\": 0.8638020833333333, \"source?\": true}, \"O_20\": {\"accuracy\": 0.7661458333333333, \"source?\": true}, \"O_38\": {\"accuracy\": 0.87578125, \"source?\": true}, \"O_8\": {\"accuracy\": 0.82890625, \"source?\": true}, \"O_50\": {\"accuracy\": 0.8638020833333333, \"source?\": true}, \"O_32\": {\"accuracy\": 0.8552083333333333, \"source?\": true}, \"O_26\": {\"accuracy\": 0.6677083333333333, \"source?\": true}, \"O_44\": {\"accuracy\": 0.7408854166666666, \"source?\": true}, \"C_3\": {\"accuracy\": 0.7661700581395349, \"source?\": false}, \"C_4\": {\"accuracy\": 0.7551136363636364, \"source?\": false}, \"C_5\": {\"accuracy\": 0.744413407821229, \"source?\": false}, \"C_1\": {\"accuracy\": 0.741974043715847, \"source?\": false}, \"C_2\": {\"accuracy\": 0.7436440677966102, \"source?\": false}}}, \"history\": {\"epoch_indices\": [1, 2, 3, 4, 5, 6, 7, 8, 9, 10, 11], \"train_label_loss\": [1.0612219059928543, 0.9902596919753012, 0.8652887715691967, 0.7275224015094517, 0.626016961864107, 0.566593463095792, 0.5410502883688812, 0.4874439190967851, 0.46076089910070767, 0.4410287569859065, 0.42796334432925853], \"source_val_label_loss\": [8.809673309326172, 0.9663656949996948, 0.8523312211036682, 0.7540478110313416, 0.6377784013748169, 0.7554618716239929, 0.525259792804718, 0.49103987216949463, 0.4966306984424591, 0.4941309988498688, 0.49187612533569336], \"target_val_label_loss\": [357.9233093261719, 96.24977111816406, 189.81167602539062, 132.1422119140625, 142.9450225830078, 106.44774627685547, 76.51905822753906, 88.3951644897461, 96.2512435913086, 106.68651580810547, 127.22136688232422], \"source_val_acc_label\": [0.57568359375, 0.64521484375, 0.6859049479166667, 0.7249348958333334, 0.763671875, 0.723828125, 0.8077799479166666, 0.8215169270833333, 0.8171875, 0.8176432291666667, 0.8188151041666667], \"target_val_acc_label\": [0.6322060502283106, 0.5504066780821918, 0.611408390410959, 0.6578196347031964, 0.6638484589041096, 0.7070490867579908, 0.7500356735159818, 0.7268122146118722, 0.7120433789954338, 0.7015553652968036, 0.6764055365296804]}, \"dataset_metrics\": {\"source\": {\"train\": {\"n_unique_x\": 179200, \"n_unique_y\": 16, \"n_batch/episode\": 6720}, \"val\": {\"n_unique_x\": 38400, \"n_unique_y\": 16, \"n_batch/episode\": 960}, \"test\": {\"n_unique_x\": 38400, \"n_unique_y\": 16, \"n_batch/episode\": 960}}, \"target\": {\"train\": {\"n_unique_x\": 175212, \"n_unique_y\": 58, \"n_batch/episode\": 6322}, \"val\": {\"n_unique_x\": 37196, \"n_unique_y\": 58, \"n_batch/episode\": 876}, \"test\": {\"n_unique_x\": 37634, \"n_unique_y\": 58, \"n_batch/episode\": 891}}}}'"
      ]
     },
     "execution_count": 29,
     "metadata": {},
     "output_type": "execute_result"
    }
   ],
   "source": [
    "json.dumps(experiment)"
   ]
  }
 ],
 "metadata": {
  "celltoolbar": "Tags",
  "kernelspec": {
   "display_name": "Python 3 (ipykernel)",
   "language": "python",
   "name": "python3"
  },
  "language_info": {
   "codemirror_mode": {
    "name": "ipython",
    "version": 3
   },
   "file_extension": ".py",
   "mimetype": "text/x-python",
   "name": "python",
   "nbconvert_exporter": "python",
   "pygments_lexer": "ipython3",
   "version": "3.8.12"
  },
  "papermill": {
   "default_parameters": {},
   "duration": 3950.669752,
   "end_time": "2022-03-28T02:18:40.378043",
   "environment_variables": {},
   "exception": null,
   "input_path": "/root/csc500-main/csc500-notebooks/templates/tl_ptn_template.ipynb",
   "output_path": "trial.ipynb",
   "parameters": {
    "parameters": {
     "BEST_MODEL_PATH": "./best_model.pth",
     "NUM_LOGS_PER_EPOCH": 10,
     "criteria_for_best": "target_accuracy",
     "dataset_seed": 1337,
     "datasets": [
      {
       "domain_prefix": "C_",
       "domains": [
        1,
        2,
        3,
        4,
        5
       ],
       "episode_transforms": [],
       "labels": [
        "1-10.",
        "1-11.",
        "1-15.",
        "1-16.",
        "1-17.",
        "1-18.",
        "1-19.",
        "10-4.",
        "10-7.",
        "11-1.",
        "11-14.",
        "11-17.",
        "11-20.",
        "11-7.",
        "13-20.",
        "13-8.",
        "14-10.",
        "14-11.",
        "14-14.",
        "14-7.",
        "15-1.",
        "15-20.",
        "16-1.",
        "16-16.",
        "17-10.",
        "17-11.",
        "17-2.",
        "19-1.",
        "19-16.",
        "19-19.",
        "19-20.",
        "19-3.",
        "2-10.",
        "2-11.",
        "2-17.",
        "2-18.",
        "2-20.",
        "2-3.",
        "2-4.",
        "2-5.",
        "2-6.",
        "2-7.",
        "2-8.",
        "3-13.",
        "3-18.",
        "3-3.",
        "4-1.",
        "4-10.",
        "4-11.",
        "4-19.",
        "5-5.",
        "6-15.",
        "7-10.",
        "7-14.",
        "8-18.",
        "8-20.",
        "8-3.",
        "8-8."
       ],
       "num_examples_per_domain_per_label": -1,
       "pickle_path": "/root/csc500-main/datasets/cores.stratified_ds.2022A.pkl",
       "source_or_target_dataset": "target",
       "x_transforms": [
        "unit_power",
        "jitter_256_1",
        "lowpass_+/-10MHz",
        "take_200"
       ]
      },
      {
       "domain_prefix": "O_",
       "domains": [
        32,
        38,
        8,
        44,
        14,
        50,
        20,
        26
       ],
       "episode_transforms": [],
       "labels": [
        "3123D52",
        "3123D65",
        "3123D79",
        "3123D80",
        "3123D54",
        "3123D70",
        "3123D7B",
        "3123D89",
        "3123D58",
        "3123D76",
        "3123D7D",
        "3123EFE",
        "3123D64",
        "3123D78",
        "3123D7E",
        "3124E4A"
       ],
       "num_examples_per_domain_per_label": 2000,
       "pickle_path": "/root/csc500-main/datasets/oracle.Run1_framed_2000Examples_stratified_ds.2022A.pkl",
       "source_or_target_dataset": "source",
       "x_transforms": [
        "unit_power",
        "jitter_256_1",
        "take_200",
        "resample_20Msps_to_25Msps"
       ]
      }
     ],
     "device": "cuda",
     "experiment_name": "tl_3-jitter1v2:oracle.run1.framed -> cores",
     "lr": 0.0001,
     "n_epoch": 50,
     "n_query": 2,
     "n_shot": 3,
     "n_way": 16,
     "patience": 3,
     "seed": 1337,
     "test_k_factor": 2,
     "torch_default_dtype": "torch.float32",
     "train_k_factor": 3,
     "val_k_factor": 2,
     "x_net": [
      {
       "class": "nnReshape",
       "kargs": {
        "shape": [
         -1,
         1,
         2,
         256
        ]
       }
      },
      {
       "class": "Conv2d",
       "kargs": {
        "bias": false,
        "in_channels": 1,
        "kernel_size": [
         1,
         7
        ],
        "out_channels": 256,
        "padding": [
         0,
         3
        ]
       }
      },
      {
       "class": "ReLU",
       "kargs": {
        "inplace": true
       }
      },
      {
       "class": "BatchNorm2d",
       "kargs": {
        "num_features": 256
       }
      },
      {
       "class": "Conv2d",
       "kargs": {
        "bias": true,
        "in_channels": 256,
        "kernel_size": [
         2,
         7
        ],
        "out_channels": 80,
        "padding": [
         0,
         3
        ]
       }
      },
      {
       "class": "ReLU",
       "kargs": {
        "inplace": true
       }
      },
      {
       "class": "BatchNorm2d",
       "kargs": {
        "num_features": 80
       }
      },
      {
       "class": "Flatten",
       "kargs": {}
      },
      {
       "class": "Linear",
       "kargs": {
        "in_features": 20480,
        "out_features": 256
       }
      },
      {
       "class": "ReLU",
       "kargs": {
        "inplace": true
       }
      },
      {
       "class": "BatchNorm1d",
       "kargs": {
        "num_features": 256
       }
      },
      {
       "class": "Linear",
       "kargs": {
        "in_features": 256,
        "out_features": 256
       }
      }
     ],
     "x_shape": [
      2,
      256
     ]
    }
   },
   "start_time": "2022-03-28T01:12:49.708291",
   "version": "2.3.4"
  }
 },
 "nbformat": 4,
 "nbformat_minor": 5
}