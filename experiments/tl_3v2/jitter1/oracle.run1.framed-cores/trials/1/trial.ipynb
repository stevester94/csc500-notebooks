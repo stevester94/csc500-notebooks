{
 "cells": [
  {
   "cell_type": "markdown",
   "id": "9fea5f46",
   "metadata": {
    "papermill": {
     "duration": 0.032066,
     "end_time": "2022-03-28T01:53:21.317057",
     "exception": false,
     "start_time": "2022-03-28T01:53:21.284991",
     "status": "completed"
    },
    "tags": []
   },
   "source": [
    "# Transfer Learning Template"
   ]
  },
  {
   "cell_type": "code",
   "execution_count": 1,
   "id": "0902182a",
   "metadata": {
    "execution": {
     "iopub.execute_input": "2022-03-28T01:53:21.381648Z",
     "iopub.status.busy": "2022-03-28T01:53:21.380740Z",
     "iopub.status.idle": "2022-03-28T01:53:23.364515Z",
     "shell.execute_reply": "2022-03-28T01:53:23.364031Z"
    },
    "papermill": {
     "duration": 2.021905,
     "end_time": "2022-03-28T01:53:23.364625",
     "exception": false,
     "start_time": "2022-03-28T01:53:21.342720",
     "status": "completed"
    },
    "tags": []
   },
   "outputs": [],
   "source": [
    "%load_ext autoreload\n",
    "%autoreload 2\n",
    "%matplotlib inline\n",
    "\n",
    "    \n",
    "import os, json, sys, time, random\n",
    "import numpy as np\n",
    "import torch\n",
    "from torch.optim import Adam\n",
    "from  easydict import EasyDict\n",
    "import matplotlib.pyplot as plt\n",
    "\n",
    "from steves_models.steves_ptn import Steves_Prototypical_Network\n",
    "\n",
    "from steves_utils.lazy_iterable_wrapper import Lazy_Iterable_Wrapper\n",
    "from steves_utils.iterable_aggregator import Iterable_Aggregator\n",
    "from steves_utils.ptn_train_eval_test_jig import  PTN_Train_Eval_Test_Jig\n",
    "from steves_utils.torch_sequential_builder import build_sequential\n",
    "from steves_utils.torch_utils import get_dataset_metrics, ptn_confusion_by_domain_over_dataloader\n",
    "from steves_utils.utils_v2 import (per_domain_accuracy_from_confusion, get_datasets_base_path)\n",
    "from steves_utils.PTN.utils import independent_accuracy_assesment\n",
    "\n",
    "from torch.utils.data import DataLoader\n",
    "\n",
    "from steves_utils.stratified_dataset.episodic_accessor import Episodic_Accessor_Factory\n",
    "\n",
    "from steves_utils.ptn_do_report import (\n",
    "    get_loss_curve,\n",
    "    get_results_table,\n",
    "    get_parameters_table,\n",
    "    get_domain_accuracies,\n",
    ")\n",
    "\n",
    "from steves_utils.transforms import get_chained_transform"
   ]
  },
  {
   "cell_type": "markdown",
   "id": "41c840b4",
   "metadata": {
    "papermill": {
     "duration": 0.019583,
     "end_time": "2022-03-28T01:53:23.404999",
     "exception": false,
     "start_time": "2022-03-28T01:53:23.385416",
     "status": "completed"
    },
    "tags": []
   },
   "source": [
    "# Allowed Parameters\n",
    "These are allowed parameters, not defaults\n",
    "Each of these values need to be present in the injected parameters (the notebook will raise an exception if they are not present)\n",
    "\n",
    "Papermill uses the cell tag \"parameters\" to inject the real parameters below this cell.\n",
    "Enable tags to see what I mean"
   ]
  },
  {
   "cell_type": "code",
   "execution_count": 2,
   "id": "fd44eb83",
   "metadata": {
    "execution": {
     "iopub.execute_input": "2022-03-28T01:53:23.449701Z",
     "iopub.status.busy": "2022-03-28T01:53:23.449311Z",
     "iopub.status.idle": "2022-03-28T01:53:23.471720Z",
     "shell.execute_reply": "2022-03-28T01:53:23.471313Z"
    },
    "papermill": {
     "duration": 0.047237,
     "end_time": "2022-03-28T01:53:23.471796",
     "exception": false,
     "start_time": "2022-03-28T01:53:23.424559",
     "status": "completed"
    },
    "tags": []
   },
   "outputs": [],
   "source": [
    "required_parameters = {\n",
    "    \"experiment_name\",\n",
    "    \"lr\",\n",
    "    \"device\",\n",
    "    \"seed\",\n",
    "    \"dataset_seed\",\n",
    "    \"n_shot\",\n",
    "    \"n_query\",\n",
    "    \"n_way\",\n",
    "    \"train_k_factor\",\n",
    "    \"val_k_factor\",\n",
    "    \"test_k_factor\",\n",
    "    \"n_epoch\",\n",
    "    \"patience\",\n",
    "    \"criteria_for_best\",\n",
    "    \"x_net\",\n",
    "    \"datasets\",\n",
    "    \"torch_default_dtype\",\n",
    "    \"NUM_LOGS_PER_EPOCH\",\n",
    "    \"BEST_MODEL_PATH\",\n",
    "    \"x_shape\",\n",
    "}"
   ]
  },
  {
   "cell_type": "code",
   "execution_count": 3,
   "id": "fa3f0049",
   "metadata": {
    "execution": {
     "iopub.execute_input": "2022-03-28T01:53:23.524517Z",
     "iopub.status.busy": "2022-03-28T01:53:23.519227Z",
     "iopub.status.idle": "2022-03-28T01:53:23.545368Z",
     "shell.execute_reply": "2022-03-28T01:53:23.544996Z"
    },
    "papermill": {
     "duration": 0.053763,
     "end_time": "2022-03-28T01:53:23.545438",
     "exception": false,
     "start_time": "2022-03-28T01:53:23.491675",
     "status": "completed"
    },
    "tags": [
     "parameters"
    ]
   },
   "outputs": [],
   "source": [
    "from steves_utils.CORES.utils import (\n",
    "    ALL_NODES,\n",
    "    ALL_NODES_MINIMUM_1000_EXAMPLES,\n",
    "    ALL_DAYS\n",
    ")\n",
    "\n",
    "from steves_utils.ORACLE.utils_v2 import (\n",
    "    ALL_DISTANCES_FEET_NARROWED,\n",
    "    ALL_RUNS,\n",
    "    ALL_SERIAL_NUMBERS,\n",
    ")\n",
    "\n",
    "standalone_parameters = {}\n",
    "standalone_parameters[\"experiment_name\"] = \"STANDALONE PTN\"\n",
    "standalone_parameters[\"lr\"] = 0.001\n",
    "standalone_parameters[\"device\"] = \"cuda\"\n",
    "\n",
    "standalone_parameters[\"seed\"] = 1337\n",
    "standalone_parameters[\"dataset_seed\"] = 1337\n",
    "\n",
    "standalone_parameters[\"n_way\"] = 8\n",
    "standalone_parameters[\"n_shot\"] = 3\n",
    "standalone_parameters[\"n_query\"]  = 2\n",
    "standalone_parameters[\"train_k_factor\"] = 1\n",
    "standalone_parameters[\"val_k_factor\"] = 2\n",
    "standalone_parameters[\"test_k_factor\"] = 2\n",
    "\n",
    "\n",
    "standalone_parameters[\"n_epoch\"] = 50\n",
    "\n",
    "standalone_parameters[\"patience\"] = 10\n",
    "standalone_parameters[\"criteria_for_best\"] = \"source_loss\"\n",
    "\n",
    "standalone_parameters[\"datasets\"] = [\n",
    "    {\n",
    "        \"labels\": ALL_SERIAL_NUMBERS,\n",
    "        \"domains\": ALL_DISTANCES_FEET_NARROWED,\n",
    "        \"num_examples_per_domain_per_label\": 100,\n",
    "        \"pickle_path\": os.path.join(get_datasets_base_path(), \"oracle.Run1_framed_2000Examples_stratified_ds.2022A.pkl\"),\n",
    "        \"source_or_target_dataset\": \"source\",\n",
    "        \"x_transforms\": [\"unit_mag\", \"minus_two\"],\n",
    "        \"episode_transforms\": [],\n",
    "        \"domain_prefix\": \"ORACLE_\"\n",
    "    },\n",
    "    {\n",
    "        \"labels\": ALL_NODES,\n",
    "        \"domains\": ALL_DAYS,\n",
    "        \"num_examples_per_domain_per_label\": 100,\n",
    "        \"pickle_path\": os.path.join(get_datasets_base_path(), \"cores.stratified_ds.2022A.pkl\"),\n",
    "        \"source_or_target_dataset\": \"target\",\n",
    "        \"x_transforms\": [\"unit_power\", \"times_zero\"],\n",
    "        \"episode_transforms\": [],\n",
    "        \"domain_prefix\": \"CORES_\"\n",
    "    }   \n",
    "]\n",
    "\n",
    "standalone_parameters[\"torch_default_dtype\"] = \"torch.float32\" \n",
    "\n",
    "\n",
    "\n",
    "standalone_parameters[\"x_net\"] =     [\n",
    "    {\"class\": \"nnReshape\", \"kargs\": {\"shape\":[-1, 1, 2, 256]}},\n",
    "    {\"class\": \"Conv2d\", \"kargs\": { \"in_channels\":1, \"out_channels\":256, \"kernel_size\":(1,7), \"bias\":False, \"padding\":(0,3), },},\n",
    "    {\"class\": \"ReLU\", \"kargs\": {\"inplace\": True}},\n",
    "    {\"class\": \"BatchNorm2d\", \"kargs\": {\"num_features\":256}},\n",
    "\n",
    "    {\"class\": \"Conv2d\", \"kargs\": { \"in_channels\":256, \"out_channels\":80, \"kernel_size\":(2,7), \"bias\":True, \"padding\":(0,3), },},\n",
    "    {\"class\": \"ReLU\", \"kargs\": {\"inplace\": True}},\n",
    "    {\"class\": \"BatchNorm2d\", \"kargs\": {\"num_features\":80}},\n",
    "    {\"class\": \"Flatten\", \"kargs\": {}},\n",
    "\n",
    "    {\"class\": \"Linear\", \"kargs\": {\"in_features\": 80*256, \"out_features\": 256}}, # 80 units per IQ pair\n",
    "    {\"class\": \"ReLU\", \"kargs\": {\"inplace\": True}},\n",
    "    {\"class\": \"BatchNorm1d\", \"kargs\": {\"num_features\":256}},\n",
    "\n",
    "    {\"class\": \"Linear\", \"kargs\": {\"in_features\": 256, \"out_features\": 256}},\n",
    "]\n",
    "\n",
    "# Parameters relevant to results\n",
    "# These parameters will basically never need to change\n",
    "standalone_parameters[\"NUM_LOGS_PER_EPOCH\"] = 10\n",
    "standalone_parameters[\"BEST_MODEL_PATH\"] = \"./best_model.pth\"\n",
    "\n",
    "\n",
    "\n",
    "\n"
   ]
  },
  {
   "cell_type": "code",
   "execution_count": 4,
   "id": "90cdd3f4",
   "metadata": {
    "execution": {
     "iopub.execute_input": "2022-03-28T01:53:23.598771Z",
     "iopub.status.busy": "2022-03-28T01:53:23.587650Z",
     "iopub.status.idle": "2022-03-28T01:53:23.623283Z",
     "shell.execute_reply": "2022-03-28T01:53:23.622464Z"
    },
    "papermill": {
     "duration": 0.058293,
     "end_time": "2022-03-28T01:53:23.623436",
     "exception": false,
     "start_time": "2022-03-28T01:53:23.565143",
     "status": "completed"
    },
    "tags": [
     "injected-parameters"
    ]
   },
   "outputs": [],
   "source": [
    "# Parameters\n",
    "parameters = {\n",
    "    \"experiment_name\": \"tl_3-jitter1v2:oracle.run1.framed -> cores\",\n",
    "    \"device\": \"cuda\",\n",
    "    \"lr\": 0.0001,\n",
    "    \"x_shape\": [2, 256],\n",
    "    \"n_shot\": 3,\n",
    "    \"n_query\": 2,\n",
    "    \"train_k_factor\": 3,\n",
    "    \"val_k_factor\": 2,\n",
    "    \"test_k_factor\": 2,\n",
    "    \"torch_default_dtype\": \"torch.float32\",\n",
    "    \"n_epoch\": 50,\n",
    "    \"patience\": 3,\n",
    "    \"criteria_for_best\": \"target_accuracy\",\n",
    "    \"x_net\": [\n",
    "        {\"class\": \"nnReshape\", \"kargs\": {\"shape\": [-1, 1, 2, 256]}},\n",
    "        {\n",
    "            \"class\": \"Conv2d\",\n",
    "            \"kargs\": {\n",
    "                \"in_channels\": 1,\n",
    "                \"out_channels\": 256,\n",
    "                \"kernel_size\": [1, 7],\n",
    "                \"bias\": False,\n",
    "                \"padding\": [0, 3],\n",
    "            },\n",
    "        },\n",
    "        {\"class\": \"ReLU\", \"kargs\": {\"inplace\": True}},\n",
    "        {\"class\": \"BatchNorm2d\", \"kargs\": {\"num_features\": 256}},\n",
    "        {\n",
    "            \"class\": \"Conv2d\",\n",
    "            \"kargs\": {\n",
    "                \"in_channels\": 256,\n",
    "                \"out_channels\": 80,\n",
    "                \"kernel_size\": [2, 7],\n",
    "                \"bias\": True,\n",
    "                \"padding\": [0, 3],\n",
    "            },\n",
    "        },\n",
    "        {\"class\": \"ReLU\", \"kargs\": {\"inplace\": True}},\n",
    "        {\"class\": \"BatchNorm2d\", \"kargs\": {\"num_features\": 80}},\n",
    "        {\"class\": \"Flatten\", \"kargs\": {}},\n",
    "        {\"class\": \"Linear\", \"kargs\": {\"in_features\": 20480, \"out_features\": 256}},\n",
    "        {\"class\": \"ReLU\", \"kargs\": {\"inplace\": True}},\n",
    "        {\"class\": \"BatchNorm1d\", \"kargs\": {\"num_features\": 256}},\n",
    "        {\"class\": \"Linear\", \"kargs\": {\"in_features\": 256, \"out_features\": 256}},\n",
    "    ],\n",
    "    \"NUM_LOGS_PER_EPOCH\": 10,\n",
    "    \"BEST_MODEL_PATH\": \"./best_model.pth\",\n",
    "    \"n_way\": 16,\n",
    "    \"datasets\": [\n",
    "        {\n",
    "            \"labels\": [\n",
    "                \"1-10.\",\n",
    "                \"1-11.\",\n",
    "                \"1-15.\",\n",
    "                \"1-16.\",\n",
    "                \"1-17.\",\n",
    "                \"1-18.\",\n",
    "                \"1-19.\",\n",
    "                \"10-4.\",\n",
    "                \"10-7.\",\n",
    "                \"11-1.\",\n",
    "                \"11-14.\",\n",
    "                \"11-17.\",\n",
    "                \"11-20.\",\n",
    "                \"11-7.\",\n",
    "                \"13-20.\",\n",
    "                \"13-8.\",\n",
    "                \"14-10.\",\n",
    "                \"14-11.\",\n",
    "                \"14-14.\",\n",
    "                \"14-7.\",\n",
    "                \"15-1.\",\n",
    "                \"15-20.\",\n",
    "                \"16-1.\",\n",
    "                \"16-16.\",\n",
    "                \"17-10.\",\n",
    "                \"17-11.\",\n",
    "                \"17-2.\",\n",
    "                \"19-1.\",\n",
    "                \"19-16.\",\n",
    "                \"19-19.\",\n",
    "                \"19-20.\",\n",
    "                \"19-3.\",\n",
    "                \"2-10.\",\n",
    "                \"2-11.\",\n",
    "                \"2-17.\",\n",
    "                \"2-18.\",\n",
    "                \"2-20.\",\n",
    "                \"2-3.\",\n",
    "                \"2-4.\",\n",
    "                \"2-5.\",\n",
    "                \"2-6.\",\n",
    "                \"2-7.\",\n",
    "                \"2-8.\",\n",
    "                \"3-13.\",\n",
    "                \"3-18.\",\n",
    "                \"3-3.\",\n",
    "                \"4-1.\",\n",
    "                \"4-10.\",\n",
    "                \"4-11.\",\n",
    "                \"4-19.\",\n",
    "                \"5-5.\",\n",
    "                \"6-15.\",\n",
    "                \"7-10.\",\n",
    "                \"7-14.\",\n",
    "                \"8-18.\",\n",
    "                \"8-20.\",\n",
    "                \"8-3.\",\n",
    "                \"8-8.\",\n",
    "            ],\n",
    "            \"domains\": [1, 2, 3, 4, 5],\n",
    "            \"num_examples_per_domain_per_label\": -1,\n",
    "            \"pickle_path\": \"/root/csc500-main/datasets/cores.stratified_ds.2022A.pkl\",\n",
    "            \"source_or_target_dataset\": \"target\",\n",
    "            \"x_transforms\": [\n",
    "                \"unit_mag\",\n",
    "                \"jitter_256_1\",\n",
    "                \"lowpass_+/-10MHz\",\n",
    "                \"take_200\",\n",
    "            ],\n",
    "            \"episode_transforms\": [],\n",
    "            \"domain_prefix\": \"C_\",\n",
    "        },\n",
    "        {\n",
    "            \"labels\": [\n",
    "                \"3123D52\",\n",
    "                \"3123D65\",\n",
    "                \"3123D79\",\n",
    "                \"3123D80\",\n",
    "                \"3123D54\",\n",
    "                \"3123D70\",\n",
    "                \"3123D7B\",\n",
    "                \"3123D89\",\n",
    "                \"3123D58\",\n",
    "                \"3123D76\",\n",
    "                \"3123D7D\",\n",
    "                \"3123EFE\",\n",
    "                \"3123D64\",\n",
    "                \"3123D78\",\n",
    "                \"3123D7E\",\n",
    "                \"3124E4A\",\n",
    "            ],\n",
    "            \"domains\": [32, 38, 8, 44, 14, 50, 20, 26],\n",
    "            \"num_examples_per_domain_per_label\": 2000,\n",
    "            \"pickle_path\": \"/root/csc500-main/datasets/oracle.Run1_framed_2000Examples_stratified_ds.2022A.pkl\",\n",
    "            \"source_or_target_dataset\": \"source\",\n",
    "            \"x_transforms\": [\n",
    "                \"unit_mag\",\n",
    "                \"jitter_256_1\",\n",
    "                \"take_200\",\n",
    "                \"resample_20Msps_to_25Msps\",\n",
    "            ],\n",
    "            \"episode_transforms\": [],\n",
    "            \"domain_prefix\": \"O_\",\n",
    "        },\n",
    "    ],\n",
    "    \"seed\": 1337,\n",
    "    \"dataset_seed\": 1337,\n",
    "}\n"
   ]
  },
  {
   "cell_type": "code",
   "execution_count": 5,
   "id": "8fa1cc33",
   "metadata": {
    "execution": {
     "iopub.execute_input": "2022-03-28T01:53:23.679976Z",
     "iopub.status.busy": "2022-03-28T01:53:23.676334Z",
     "iopub.status.idle": "2022-03-28T01:53:23.696570Z",
     "shell.execute_reply": "2022-03-28T01:53:23.695754Z"
    },
    "papermill": {
     "duration": 0.046405,
     "end_time": "2022-03-28T01:53:23.696721",
     "exception": false,
     "start_time": "2022-03-28T01:53:23.650316",
     "status": "completed"
    },
    "tags": []
   },
   "outputs": [],
   "source": [
    "# Set this to True if you want to run this template directly\n",
    "STANDALONE = False\n",
    "if STANDALONE:\n",
    "    print(\"parameters not injected, running with standalone_parameters\")\n",
    "    parameters = standalone_parameters\n",
    "\n",
    "if not 'parameters' in locals() and not 'parameters' in globals():\n",
    "    raise Exception(\"Parameter injection failed\")\n",
    "\n",
    "#Use an easy dict for all the parameters\n",
    "p = EasyDict(parameters)\n",
    "\n",
    "if \"x_shape\" not in p:\n",
    "    p.x_shape = [2,256] # Default to this if we dont supply x_shape\n",
    "\n",
    "\n",
    "supplied_keys = set(p.keys())\n",
    "\n",
    "if  supplied_keys != required_parameters:\n",
    "    print(\"Parameters are incorrect\")\n",
    "    if len(supplied_keys - required_parameters)>0: print(\"Shouldn't have:\", str(supplied_keys - required_parameters))\n",
    "    if len(required_parameters - supplied_keys)>0: print(\"Need to have:\", str(required_parameters - supplied_keys))\n",
    "    raise RuntimeError(\"Parameters are incorrect\")"
   ]
  },
  {
   "cell_type": "code",
   "execution_count": 6,
   "id": "3a028d58",
   "metadata": {
    "execution": {
     "iopub.execute_input": "2022-03-28T01:53:23.754997Z",
     "iopub.status.busy": "2022-03-28T01:53:23.751777Z",
     "iopub.status.idle": "2022-03-28T01:53:23.770156Z",
     "shell.execute_reply": "2022-03-28T01:53:23.769349Z"
    },
    "papermill": {
     "duration": 0.045491,
     "end_time": "2022-03-28T01:53:23.770308",
     "exception": false,
     "start_time": "2022-03-28T01:53:23.724817",
     "status": "completed"
    },
    "tags": []
   },
   "outputs": [],
   "source": [
    "###################################\n",
    "# Set the RNGs and make it all deterministic\n",
    "###################################\n",
    "np.random.seed(p.seed)\n",
    "random.seed(p.seed)\n",
    "torch.manual_seed(p.seed)\n",
    "\n",
    "torch.use_deterministic_algorithms(True) "
   ]
  },
  {
   "cell_type": "code",
   "execution_count": 7,
   "id": "b691acf6",
   "metadata": {
    "execution": {
     "iopub.execute_input": "2022-03-28T01:53:23.819795Z",
     "iopub.status.busy": "2022-03-28T01:53:23.817901Z",
     "iopub.status.idle": "2022-03-28T01:53:23.842235Z",
     "shell.execute_reply": "2022-03-28T01:53:23.841421Z"
    },
    "papermill": {
     "duration": 0.046639,
     "end_time": "2022-03-28T01:53:23.842389",
     "exception": false,
     "start_time": "2022-03-28T01:53:23.795750",
     "status": "completed"
    },
    "tags": []
   },
   "outputs": [],
   "source": [
    "###########################################\n",
    "# The stratified datasets honor this\n",
    "###########################################\n",
    "torch.set_default_dtype(eval(p.torch_default_dtype))"
   ]
  },
  {
   "cell_type": "code",
   "execution_count": 8,
   "id": "b5fba671",
   "metadata": {
    "execution": {
     "iopub.execute_input": "2022-03-28T01:53:23.891484Z",
     "iopub.status.busy": "2022-03-28T01:53:23.891114Z",
     "iopub.status.idle": "2022-03-28T01:53:23.947369Z",
     "shell.execute_reply": "2022-03-28T01:53:23.946557Z"
    },
    "papermill": {
     "duration": 0.079603,
     "end_time": "2022-03-28T01:53:23.947521",
     "exception": false,
     "start_time": "2022-03-28T01:53:23.867918",
     "status": "completed"
    },
    "tags": []
   },
   "outputs": [],
   "source": [
    "###################################\n",
    "# Build the network(s)\n",
    "# Note: It's critical to do this AFTER setting the RNG\n",
    "###################################\n",
    "x_net = build_sequential(p.x_net)"
   ]
  },
  {
   "cell_type": "code",
   "execution_count": 9,
   "id": "5d7e61cc",
   "metadata": {
    "execution": {
     "iopub.execute_input": "2022-03-28T01:53:23.995403Z",
     "iopub.status.busy": "2022-03-28T01:53:23.995031Z",
     "iopub.status.idle": "2022-03-28T01:53:24.016283Z",
     "shell.execute_reply": "2022-03-28T01:53:24.015461Z"
    },
    "papermill": {
     "duration": 0.04395,
     "end_time": "2022-03-28T01:53:24.016437",
     "exception": false,
     "start_time": "2022-03-28T01:53:23.972487",
     "status": "completed"
    },
    "tags": []
   },
   "outputs": [],
   "source": [
    "start_time_secs = time.time()"
   ]
  },
  {
   "cell_type": "code",
   "execution_count": 10,
   "id": "c6b67dfd",
   "metadata": {
    "execution": {
     "iopub.execute_input": "2022-03-28T01:53:24.062925Z",
     "iopub.status.busy": "2022-03-28T01:53:24.062529Z",
     "iopub.status.idle": "2022-03-28T01:53:24.081312Z",
     "shell.execute_reply": "2022-03-28T01:53:24.080513Z"
    },
    "papermill": {
     "duration": 0.041129,
     "end_time": "2022-03-28T01:53:24.081460",
     "exception": false,
     "start_time": "2022-03-28T01:53:24.040331",
     "status": "completed"
    },
    "tags": []
   },
   "outputs": [],
   "source": [
    "p.domains_source = []\n",
    "p.domains_target = []\n",
    "\n",
    "\n",
    "train_original_source = []\n",
    "val_original_source   = []\n",
    "test_original_source  = []\n",
    "\n",
    "train_original_target = []\n",
    "val_original_target   = []\n",
    "test_original_target  = []"
   ]
  },
  {
   "cell_type": "code",
   "execution_count": 11,
   "id": "e3d9c3d3",
   "metadata": {
    "execution": {
     "iopub.execute_input": "2022-03-28T01:53:24.130977Z",
     "iopub.status.busy": "2022-03-28T01:53:24.130589Z",
     "iopub.status.idle": "2022-03-28T01:53:24.151666Z",
     "shell.execute_reply": "2022-03-28T01:53:24.150850Z"
    },
    "papermill": {
     "duration": 0.044478,
     "end_time": "2022-03-28T01:53:24.151817",
     "exception": false,
     "start_time": "2022-03-28T01:53:24.107339",
     "status": "completed"
    },
    "tags": []
   },
   "outputs": [],
   "source": [
    "# global_x_transform_func = lambda x: normalize(x.to(torch.get_default_dtype()), \"unit_power\") # unit_power, unit_mag\n",
    "# global_x_transform_func = lambda x: normalize(x, \"unit_power\") # unit_power, unit_mag"
   ]
  },
  {
   "cell_type": "code",
   "execution_count": 12,
   "id": "acb78fd2",
   "metadata": {
    "execution": {
     "iopub.execute_input": "2022-03-28T01:53:24.207461Z",
     "iopub.status.busy": "2022-03-28T01:53:24.206826Z",
     "iopub.status.idle": "2022-03-28T01:53:24.226340Z",
     "shell.execute_reply": "2022-03-28T01:53:24.225544Z"
    },
    "papermill": {
     "duration": 0.045978,
     "end_time": "2022-03-28T01:53:24.226489",
     "exception": false,
     "start_time": "2022-03-28T01:53:24.180511",
     "status": "completed"
    },
    "tags": []
   },
   "outputs": [],
   "source": [
    "def add_dataset(\n",
    "    labels,\n",
    "    domains,\n",
    "    pickle_path,\n",
    "    x_transforms,\n",
    "    episode_transforms,\n",
    "    domain_prefix,\n",
    "    num_examples_per_domain_per_label,\n",
    "    source_or_target_dataset:str,\n",
    "    iterator_seed=p.seed,\n",
    "    dataset_seed=p.dataset_seed,\n",
    "    n_shot=p.n_shot,\n",
    "    n_way=p.n_way,\n",
    "    n_query=p.n_query,\n",
    "    train_val_test_k_factors=(p.train_k_factor,p.val_k_factor,p.test_k_factor),\n",
    "):\n",
    "   \n",
    "    if x_transforms == []: x_transform = None\n",
    "    else: x_transform = get_chained_transform(x_transforms)\n",
    "    \n",
    "    if episode_transforms == []: episode_transform = None\n",
    "    else: raise Exception(\"episode_transforms not implemented\")\n",
    "    \n",
    "    episode_transform = lambda tup, _prefix=domain_prefix: (_prefix + str(tup[0]), tup[1])\n",
    "\n",
    "\n",
    "    eaf = Episodic_Accessor_Factory(\n",
    "        labels=labels,\n",
    "        domains=domains,\n",
    "        num_examples_per_domain_per_label=num_examples_per_domain_per_label,\n",
    "        iterator_seed=iterator_seed,\n",
    "        dataset_seed=dataset_seed,\n",
    "        n_shot=n_shot,\n",
    "        n_way=n_way,\n",
    "        n_query=n_query,\n",
    "        train_val_test_k_factors=train_val_test_k_factors,\n",
    "        pickle_path=pickle_path,\n",
    "        x_transform_func=x_transform,\n",
    "    )\n",
    "\n",
    "    train, val, test = eaf.get_train(), eaf.get_val(), eaf.get_test()\n",
    "    train = Lazy_Iterable_Wrapper(train, episode_transform)\n",
    "    val = Lazy_Iterable_Wrapper(val, episode_transform)\n",
    "    test = Lazy_Iterable_Wrapper(test, episode_transform)\n",
    "\n",
    "    if source_or_target_dataset==\"source\":\n",
    "        train_original_source.append(train)\n",
    "        val_original_source.append(val)\n",
    "        test_original_source.append(test)\n",
    "\n",
    "        p.domains_source.extend(\n",
    "            [domain_prefix + str(u) for u in domains]\n",
    "        )\n",
    "    elif source_or_target_dataset==\"target\":\n",
    "        train_original_target.append(train)\n",
    "        val_original_target.append(val)\n",
    "        test_original_target.append(test)\n",
    "        p.domains_target.extend(\n",
    "            [domain_prefix + str(u) for u in domains]\n",
    "        )\n",
    "    else:\n",
    "        raise Exception(f\"invalid source_or_target_dataset: {source_or_target_dataset}\")\n",
    "    "
   ]
  },
  {
   "cell_type": "code",
   "execution_count": 13,
   "id": "fe266617",
   "metadata": {
    "execution": {
     "iopub.execute_input": "2022-03-28T01:53:24.277624Z",
     "iopub.status.busy": "2022-03-28T01:53:24.276321Z",
     "iopub.status.idle": "2022-03-28T01:55:15.374442Z",
     "shell.execute_reply": "2022-03-28T01:55:15.373699Z"
    },
    "papermill": {
     "duration": 111.122629,
     "end_time": "2022-03-28T01:55:15.374629",
     "exception": false,
     "start_time": "2022-03-28T01:53:24.252000",
     "status": "completed"
    },
    "tags": []
   },
   "outputs": [],
   "source": [
    "for ds in p.datasets:\n",
    "    add_dataset(**ds)"
   ]
  },
  {
   "cell_type": "code",
   "execution_count": 14,
   "id": "b90d65ac",
   "metadata": {
    "execution": {
     "iopub.execute_input": "2022-03-28T01:55:15.426081Z",
     "iopub.status.busy": "2022-03-28T01:55:15.425697Z",
     "iopub.status.idle": "2022-03-28T01:55:15.450648Z",
     "shell.execute_reply": "2022-03-28T01:55:15.449831Z"
    },
    "papermill": {
     "duration": 0.049581,
     "end_time": "2022-03-28T01:55:15.450809",
     "exception": false,
     "start_time": "2022-03-28T01:55:15.401228",
     "status": "completed"
    },
    "tags": []
   },
   "outputs": [],
   "source": [
    "# from steves_utils.CORES.utils import (\n",
    "#     ALL_NODES,\n",
    "#     ALL_NODES_MINIMUM_1000_EXAMPLES,\n",
    "#     ALL_DAYS\n",
    "# )\n",
    "\n",
    "# add_dataset(\n",
    "#     labels=ALL_NODES,\n",
    "#     domains = ALL_DAYS,\n",
    "#     num_examples_per_domain_per_label=100,\n",
    "#     pickle_path=os.path.join(get_datasets_base_path(), \"cores.stratified_ds.2022A.pkl\"),\n",
    "#     source_or_target_dataset=\"target\",\n",
    "#     x_transform_func=global_x_transform_func,\n",
    "#     domain_modifier=lambda u: f\"cores_{u}\"\n",
    "# )"
   ]
  },
  {
   "cell_type": "code",
   "execution_count": 15,
   "id": "76db484d",
   "metadata": {
    "execution": {
     "iopub.execute_input": "2022-03-28T01:55:15.504084Z",
     "iopub.status.busy": "2022-03-28T01:55:15.501676Z",
     "iopub.status.idle": "2022-03-28T01:55:15.525505Z",
     "shell.execute_reply": "2022-03-28T01:55:15.524675Z"
    },
    "papermill": {
     "duration": 0.046976,
     "end_time": "2022-03-28T01:55:15.525670",
     "exception": false,
     "start_time": "2022-03-28T01:55:15.478694",
     "status": "completed"
    },
    "tags": []
   },
   "outputs": [],
   "source": [
    "# from steves_utils.ORACLE.utils_v2 import (\n",
    "#     ALL_DISTANCES_FEET,\n",
    "#     ALL_RUNS,\n",
    "#     ALL_SERIAL_NUMBERS,\n",
    "# )\n",
    "\n",
    "\n",
    "# add_dataset(\n",
    "#     labels=ALL_SERIAL_NUMBERS,\n",
    "#     domains = list(set(ALL_DISTANCES_FEET) - {2,62}),\n",
    "#     num_examples_per_domain_per_label=100,\n",
    "#     pickle_path=os.path.join(get_datasets_base_path(), \"oracle.Run2_framed_2000Examples_stratified_ds.2022A.pkl\"),\n",
    "#     source_or_target_dataset=\"source\",\n",
    "#     x_transform_func=global_x_transform_func,\n",
    "#     domain_modifier=lambda u: f\"oracle1_{u}\"\n",
    "# )\n"
   ]
  },
  {
   "cell_type": "code",
   "execution_count": 16,
   "id": "97dea9d2",
   "metadata": {
    "execution": {
     "iopub.execute_input": "2022-03-28T01:55:15.579006Z",
     "iopub.status.busy": "2022-03-28T01:55:15.577965Z",
     "iopub.status.idle": "2022-03-28T01:55:15.599411Z",
     "shell.execute_reply": "2022-03-28T01:55:15.598590Z"
    },
    "papermill": {
     "duration": 0.047035,
     "end_time": "2022-03-28T01:55:15.599620",
     "exception": false,
     "start_time": "2022-03-28T01:55:15.552585",
     "status": "completed"
    },
    "tags": []
   },
   "outputs": [],
   "source": [
    "# from steves_utils.ORACLE.utils_v2 import (\n",
    "#     ALL_DISTANCES_FEET,\n",
    "#     ALL_RUNS,\n",
    "#     ALL_SERIAL_NUMBERS,\n",
    "# )\n",
    "\n",
    "\n",
    "# add_dataset(\n",
    "#     labels=ALL_SERIAL_NUMBERS,\n",
    "#     domains = list(set(ALL_DISTANCES_FEET) - {2,62,56}),\n",
    "#     num_examples_per_domain_per_label=100,\n",
    "#     pickle_path=os.path.join(get_datasets_base_path(), \"oracle.Run2_framed_2000Examples_stratified_ds.2022A.pkl\"),\n",
    "#     source_or_target_dataset=\"source\",\n",
    "#     x_transform_func=global_x_transform_func,\n",
    "#     domain_modifier=lambda u: f\"oracle2_{u}\"\n",
    "# )"
   ]
  },
  {
   "cell_type": "code",
   "execution_count": 17,
   "id": "6f289866",
   "metadata": {
    "execution": {
     "iopub.execute_input": "2022-03-28T01:55:15.653877Z",
     "iopub.status.busy": "2022-03-28T01:55:15.651648Z",
     "iopub.status.idle": "2022-03-28T01:55:15.674650Z",
     "shell.execute_reply": "2022-03-28T01:55:15.673827Z"
    },
    "papermill": {
     "duration": 0.04715,
     "end_time": "2022-03-28T01:55:15.674816",
     "exception": false,
     "start_time": "2022-03-28T01:55:15.627666",
     "status": "completed"
    },
    "tags": []
   },
   "outputs": [],
   "source": [
    "# add_dataset(\n",
    "#     labels=list(range(19)),\n",
    "#     domains = [0,1,2],\n",
    "#     num_examples_per_domain_per_label=100,\n",
    "#     pickle_path=os.path.join(get_datasets_base_path(), \"metehan.stratified_ds.2022A.pkl\"),\n",
    "#     source_or_target_dataset=\"target\",\n",
    "#     x_transform_func=global_x_transform_func,\n",
    "#     domain_modifier=lambda u: f\"met_{u}\"\n",
    "# )"
   ]
  },
  {
   "cell_type": "code",
   "execution_count": 18,
   "id": "86a863c3",
   "metadata": {
    "execution": {
     "iopub.execute_input": "2022-03-28T01:55:15.727266Z",
     "iopub.status.busy": "2022-03-28T01:55:15.726884Z",
     "iopub.status.idle": "2022-03-28T01:55:15.745288Z",
     "shell.execute_reply": "2022-03-28T01:55:15.744452Z"
    },
    "papermill": {
     "duration": 0.041932,
     "end_time": "2022-03-28T01:55:15.745454",
     "exception": false,
     "start_time": "2022-03-28T01:55:15.703522",
     "status": "completed"
    },
    "tags": []
   },
   "outputs": [],
   "source": [
    "# # from steves_utils.wisig.utils import (\n",
    "# #     ALL_NODES_MINIMUM_100_EXAMPLES,\n",
    "# #     ALL_NODES_MINIMUM_500_EXAMPLES,\n",
    "# #     ALL_NODES_MINIMUM_1000_EXAMPLES,\n",
    "# #     ALL_DAYS\n",
    "# # )\n",
    "\n",
    "# import steves_utils.wisig.utils as wisig\n",
    "\n",
    "\n",
    "# add_dataset(\n",
    "#     labels=wisig.ALL_NODES_MINIMUM_100_EXAMPLES,\n",
    "#     domains = wisig.ALL_DAYS,\n",
    "#     num_examples_per_domain_per_label=100,\n",
    "#     pickle_path=os.path.join(get_datasets_base_path(), \"wisig.node3-19.stratified_ds.2022A.pkl\"),\n",
    "#     source_or_target_dataset=\"target\",\n",
    "#     x_transform_func=global_x_transform_func,\n",
    "#     domain_modifier=lambda u: f\"wisig_{u}\"\n",
    "# )"
   ]
  },
  {
   "cell_type": "code",
   "execution_count": 19,
   "id": "fd5442bc",
   "metadata": {
    "execution": {
     "iopub.execute_input": "2022-03-28T01:55:15.805121Z",
     "iopub.status.busy": "2022-03-28T01:55:15.804253Z",
     "iopub.status.idle": "2022-03-28T01:55:15.822232Z",
     "shell.execute_reply": "2022-03-28T01:55:15.821393Z"
    },
    "papermill": {
     "duration": 0.049813,
     "end_time": "2022-03-28T01:55:15.822400",
     "exception": false,
     "start_time": "2022-03-28T01:55:15.772587",
     "status": "completed"
    },
    "tags": []
   },
   "outputs": [],
   "source": [
    "###################################\n",
    "# Build the dataset\n",
    "###################################\n",
    "train_original_source = Iterable_Aggregator(train_original_source, p.seed)\n",
    "val_original_source = Iterable_Aggregator(val_original_source, p.seed)\n",
    "test_original_source = Iterable_Aggregator(test_original_source, p.seed)\n",
    "\n",
    "\n",
    "train_original_target = Iterable_Aggregator(train_original_target, p.seed)\n",
    "val_original_target = Iterable_Aggregator(val_original_target, p.seed)\n",
    "test_original_target = Iterable_Aggregator(test_original_target, p.seed)\n",
    "\n",
    "# For CNN We only use X and Y. And we only train on the source.\n",
    "# Properly form the data using a transform lambda and Lazy_Iterable_Wrapper. Finally wrap them in a dataloader\n",
    "\n",
    "transform_lambda = lambda ex: ex[1] # Original is (<domain>, <episode>) so we strip down to episode only\n",
    "\n",
    "train_processed_source = Lazy_Iterable_Wrapper(train_original_source, transform_lambda)\n",
    "val_processed_source   = Lazy_Iterable_Wrapper(val_original_source, transform_lambda)\n",
    "test_processed_source  = Lazy_Iterable_Wrapper(test_original_source, transform_lambda)\n",
    "\n",
    "train_processed_target = Lazy_Iterable_Wrapper(train_original_target, transform_lambda)\n",
    "val_processed_target   = Lazy_Iterable_Wrapper(val_original_target, transform_lambda)\n",
    "test_processed_target  = Lazy_Iterable_Wrapper(test_original_target, transform_lambda)\n",
    "\n",
    "datasets = EasyDict({\n",
    "    \"source\": {\n",
    "        \"original\": {\"train\":train_original_source, \"val\":val_original_source, \"test\":test_original_source},\n",
    "        \"processed\": {\"train\":train_processed_source, \"val\":val_processed_source, \"test\":test_processed_source}\n",
    "    },\n",
    "    \"target\": {\n",
    "        \"original\": {\"train\":train_original_target, \"val\":val_original_target, \"test\":test_original_target},\n",
    "        \"processed\": {\"train\":train_processed_target, \"val\":val_processed_target, \"test\":test_processed_target}\n",
    "    },\n",
    "})"
   ]
  },
  {
   "cell_type": "code",
   "execution_count": 20,
   "id": "5b3c01fc",
   "metadata": {
    "execution": {
     "iopub.execute_input": "2022-03-28T01:55:15.876715Z",
     "iopub.status.busy": "2022-03-28T01:55:15.876328Z",
     "iopub.status.idle": "2022-03-28T01:55:31.393067Z",
     "shell.execute_reply": "2022-03-28T01:55:31.392273Z"
    },
    "papermill": {
     "duration": 15.541778,
     "end_time": "2022-03-28T01:55:31.393249",
     "exception": false,
     "start_time": "2022-03-28T01:55:15.851471",
     "status": "completed"
    },
    "tags": []
   },
   "outputs": [
    {
     "name": "stdout",
     "output_type": "stream",
     "text": [
      "{'O_32', 'O_8', 'O_26', 'O_50', 'O_14', 'O_38', 'O_44', 'O_20'}\n"
     ]
    },
    {
     "name": "stdout",
     "output_type": "stream",
     "text": [
      "{'C_5', 'C_2', 'C_1', 'C_3', 'C_4'}\n"
     ]
    },
    {
     "name": "stdout",
     "output_type": "stream",
     "text": [
      "tensor([[[0., 0., 0.,  ..., 0., 0., 0.],\n",
      "         [0., 0., 0.,  ..., 0., 0., 0.]],\n",
      "\n",
      "        [[0., 0., 0.,  ..., 0., 0., 0.],\n",
      "         [0., 0., 0.,  ..., 0., 0., 0.]],\n",
      "\n",
      "        [[0., 0., 0.,  ..., 0., 0., 0.],\n",
      "         [0., 0., 0.,  ..., 0., 0., 0.]],\n",
      "\n",
      "        ...,\n",
      "\n",
      "        [[0., 0., 0.,  ..., 0., 0., 0.],\n",
      "         [0., 0., 0.,  ..., 0., 0., 0.]],\n",
      "\n",
      "        [[0., 0., 0.,  ..., 0., 0., 0.],\n",
      "         [0., 0., 0.,  ..., 0., 0., 0.]],\n",
      "\n",
      "        [[0., 0., 0.,  ..., 0., 0., 0.],\n",
      "         [0., 0., 0.,  ..., 0., 0., 0.]]])\n"
     ]
    }
   ],
   "source": [
    "from steves_utils.transforms import get_average_magnitude, get_average_power\n",
    "\n",
    "print(set([u for u,_ in val_original_source]))\n",
    "print(set([u for u,_ in val_original_target]))\n",
    "\n",
    "s_x, s_y, q_x, q_y, _ = next(iter(train_processed_source))\n",
    "print(s_x)\n",
    "\n",
    "# for ds in [\n",
    "#     train_processed_source,\n",
    "#     val_processed_source,\n",
    "#     test_processed_source,\n",
    "#     train_processed_target,\n",
    "#     val_processed_target,\n",
    "#     test_processed_target\n",
    "# ]:\n",
    "#     for s_x, s_y, q_x, q_y, _ in ds:\n",
    "#         for X in (s_x, q_x):\n",
    "#             for x in X:\n",
    "#                 assert np.isclose(get_average_magnitude(x.numpy()), 1.0)\n",
    "#                 assert np.isclose(get_average_power(x.numpy()), 1.0)\n",
    "                "
   ]
  },
  {
   "cell_type": "code",
   "execution_count": 21,
   "id": "bbdacba1",
   "metadata": {
    "execution": {
     "iopub.execute_input": "2022-03-28T01:55:31.456594Z",
     "iopub.status.busy": "2022-03-28T01:55:31.456086Z",
     "iopub.status.idle": "2022-03-28T01:55:31.584724Z",
     "shell.execute_reply": "2022-03-28T01:55:31.584365Z"
    },
    "papermill": {
     "duration": 0.159962,
     "end_time": "2022-03-28T01:55:31.584823",
     "exception": false,
     "start_time": "2022-03-28T01:55:31.424861",
     "status": "completed"
    },
    "tags": []
   },
   "outputs": [
    {
     "name": "stdout",
     "output_type": "stream",
     "text": [
      "(2, 256)\n"
     ]
    }
   ],
   "source": [
    "###################################\n",
    "# Build the model\n",
    "###################################\n",
    "# easfsl only wants a tuple for the shape\n",
    "model = Steves_Prototypical_Network(x_net, device=p.device, x_shape=tuple(p.x_shape))\n",
    "optimizer = Adam(params=model.parameters(), lr=p.lr)"
   ]
  },
  {
   "cell_type": "code",
   "execution_count": 22,
   "id": "22b39ac5",
   "metadata": {
    "execution": {
     "iopub.execute_input": "2022-03-28T01:55:31.650073Z",
     "iopub.status.busy": "2022-03-28T01:55:31.649495Z",
     "iopub.status.idle": "2022-03-28T02:55:14.796335Z",
     "shell.execute_reply": "2022-03-28T02:55:14.792748Z"
    },
    "papermill": {
     "duration": 3583.191049,
     "end_time": "2022-03-28T02:55:14.798894",
     "exception": false,
     "start_time": "2022-03-28T01:55:31.607845",
     "status": "completed"
    },
    "tags": []
   },
   "outputs": [
    {
     "name": "stdout",
     "output_type": "stream",
     "text": [
      "epoch: 1, [batch: 1 / 6720], examples_per_second: 34.1351, train_label_loss: 2.8368, \n"
     ]
    },
    {
     "name": "stdout",
     "output_type": "stream",
     "text": [
      "epoch: 1, [batch: 672 / 6720], examples_per_second: 1690.2808, train_label_loss: 1.3130, \n"
     ]
    },
    {
     "name": "stdout",
     "output_type": "stream",
     "text": [
      "epoch: 1, [batch: 1344 / 6720], examples_per_second: 2169.6851, train_label_loss: 0.9790, \n"
     ]
    },
    {
     "name": "stdout",
     "output_type": "stream",
     "text": [
      "epoch: 1, [batch: 2016 / 6720], examples_per_second: 1845.9900, train_label_loss: 0.6974, \n"
     ]
    },
    {
     "name": "stdout",
     "output_type": "stream",
     "text": [
      "epoch: 1, [batch: 2688 / 6720], examples_per_second: 1836.8205, train_label_loss: 1.1303, \n"
     ]
    },
    {
     "name": "stdout",
     "output_type": "stream",
     "text": [
      "epoch: 1, [batch: 3360 / 6720], examples_per_second: 1936.4565, train_label_loss: 1.1516, \n"
     ]
    },
    {
     "name": "stdout",
     "output_type": "stream",
     "text": [
      "epoch: 1, [batch: 4032 / 6720], examples_per_second: 1757.1505, train_label_loss: 1.0191, \n"
     ]
    },
    {
     "name": "stdout",
     "output_type": "stream",
     "text": [
      "epoch: 1, [batch: 4704 / 6720], examples_per_second: 1660.9451, train_label_loss: 0.6827, \n"
     ]
    },
    {
     "name": "stdout",
     "output_type": "stream",
     "text": [
      "epoch: 1, [batch: 5376 / 6720], examples_per_second: 1790.6935, train_label_loss: 0.8487, \n"
     ]
    },
    {
     "name": "stdout",
     "output_type": "stream",
     "text": [
      "epoch: 1, [batch: 6048 / 6720], examples_per_second: 1874.0931, train_label_loss: 1.0879, \n"
     ]
    },
    {
     "name": "stdout",
     "output_type": "stream",
     "text": [
      "=============================================================\n",
      "epoch: 1, source_val_acc_label: 0.5625, target_val_acc_label: 0.4146, source_val_label_loss: 62.6357, target_val_label_loss: 868.7131, \n",
      "=============================================================\n"
     ]
    },
    {
     "name": "stdout",
     "output_type": "stream",
     "text": [
      "New best\n"
     ]
    },
    {
     "name": "stdout",
     "output_type": "stream",
     "text": [
      "epoch: 2, [batch: 1 / 6720], examples_per_second: 1.4703, train_label_loss: 94.0742, \n"
     ]
    },
    {
     "name": "stdout",
     "output_type": "stream",
     "text": [
      "epoch: 2, [batch: 672 / 6720], examples_per_second: 1699.8957, train_label_loss: 0.7969, \n"
     ]
    },
    {
     "name": "stdout",
     "output_type": "stream",
     "text": [
      "epoch: 2, [batch: 1344 / 6720], examples_per_second: 2220.6226, train_label_loss: 0.8470, \n"
     ]
    },
    {
     "name": "stdout",
     "output_type": "stream",
     "text": [
      "epoch: 2, [batch: 2016 / 6720], examples_per_second: 1836.6830, train_label_loss: 1.2913, \n"
     ]
    },
    {
     "name": "stdout",
     "output_type": "stream",
     "text": [
      "epoch: 2, [batch: 2688 / 6720], examples_per_second: 1781.6736, train_label_loss: 1.1230, \n"
     ]
    },
    {
     "name": "stdout",
     "output_type": "stream",
     "text": [
      "epoch: 2, [batch: 3360 / 6720], examples_per_second: 1947.5807, train_label_loss: 1.6767, \n"
     ]
    },
    {
     "name": "stdout",
     "output_type": "stream",
     "text": [
      "epoch: 2, [batch: 4032 / 6720], examples_per_second: 1788.0219, train_label_loss: 0.9124, \n"
     ]
    },
    {
     "name": "stdout",
     "output_type": "stream",
     "text": [
      "epoch: 2, [batch: 4704 / 6720], examples_per_second: 1680.1020, train_label_loss: 1.1792, \n"
     ]
    },
    {
     "name": "stdout",
     "output_type": "stream",
     "text": [
      "epoch: 2, [batch: 5376 / 6720], examples_per_second: 1790.7099, train_label_loss: 1.2330, \n"
     ]
    },
    {
     "name": "stdout",
     "output_type": "stream",
     "text": [
      "epoch: 2, [batch: 6048 / 6720], examples_per_second: 2418.3458, train_label_loss: 0.7138, \n"
     ]
    },
    {
     "name": "stdout",
     "output_type": "stream",
     "text": [
      "=============================================================\n",
      "epoch: 2, source_val_acc_label: 0.6568, target_val_acc_label: 0.5923, source_val_label_loss: 0.9388, target_val_label_loss: 71.3041, \n",
      "=============================================================\n"
     ]
    },
    {
     "name": "stdout",
     "output_type": "stream",
     "text": [
      "New best\n"
     ]
    },
    {
     "name": "stdout",
     "output_type": "stream",
     "text": [
      "epoch: 3, [batch: 1 / 6720], examples_per_second: 3.0461, train_label_loss: 1.1498, \n"
     ]
    },
    {
     "name": "stdout",
     "output_type": "stream",
     "text": [
      "epoch: 3, [batch: 672 / 6720], examples_per_second: 3843.0862, train_label_loss: 0.4965, \n"
     ]
    },
    {
     "name": "stdout",
     "output_type": "stream",
     "text": [
      "epoch: 3, [batch: 1344 / 6720], examples_per_second: 4247.7099, train_label_loss: 0.8174, \n"
     ]
    },
    {
     "name": "stdout",
     "output_type": "stream",
     "text": [
      "epoch: 3, [batch: 2016 / 6720], examples_per_second: 4608.5764, train_label_loss: 0.6179, \n"
     ]
    },
    {
     "name": "stdout",
     "output_type": "stream",
     "text": [
      "epoch: 3, [batch: 2688 / 6720], examples_per_second: 4468.5777, train_label_loss: 0.7034, \n"
     ]
    },
    {
     "name": "stdout",
     "output_type": "stream",
     "text": [
      "epoch: 3, [batch: 3360 / 6720], examples_per_second: 3872.6299, train_label_loss: 1.2301, \n"
     ]
    },
    {
     "name": "stdout",
     "output_type": "stream",
     "text": [
      "epoch: 3, [batch: 4032 / 6720], examples_per_second: 4050.9577, train_label_loss: 1.1510, \n"
     ]
    },
    {
     "name": "stdout",
     "output_type": "stream",
     "text": [
      "epoch: 3, [batch: 4704 / 6720], examples_per_second: 4038.0887, train_label_loss: 0.5575, \n"
     ]
    },
    {
     "name": "stdout",
     "output_type": "stream",
     "text": [
      "epoch: 3, [batch: 5376 / 6720], examples_per_second: 2954.3801, train_label_loss: 0.8471, \n"
     ]
    },
    {
     "name": "stdout",
     "output_type": "stream",
     "text": [
      "epoch: 3, [batch: 6048 / 6720], examples_per_second: 1683.5343, train_label_loss: 0.6867, \n"
     ]
    },
    {
     "name": "stdout",
     "output_type": "stream",
     "text": [
      "=============================================================\n",
      "epoch: 3, source_val_acc_label: 0.6829, target_val_acc_label: 0.6333, source_val_label_loss: 0.8590, target_val_label_loss: 113.7628, \n",
      "=============================================================\n"
     ]
    },
    {
     "name": "stdout",
     "output_type": "stream",
     "text": [
      "New best\n"
     ]
    },
    {
     "name": "stdout",
     "output_type": "stream",
     "text": [
      "epoch: 4, [batch: 1 / 6720], examples_per_second: 1.5328, train_label_loss: 0.8550, \n"
     ]
    },
    {
     "name": "stdout",
     "output_type": "stream",
     "text": [
      "epoch: 4, [batch: 672 / 6720], examples_per_second: 1746.0400, train_label_loss: 0.5022, \n"
     ]
    },
    {
     "name": "stdout",
     "output_type": "stream",
     "text": [
      "epoch: 4, [batch: 1344 / 6720], examples_per_second: 2118.4916, train_label_loss: 1.2393, \n"
     ]
    },
    {
     "name": "stdout",
     "output_type": "stream",
     "text": [
      "epoch: 4, [batch: 2016 / 6720], examples_per_second: 1853.9168, train_label_loss: 0.8592, \n"
     ]
    },
    {
     "name": "stdout",
     "output_type": "stream",
     "text": [
      "epoch: 4, [batch: 2688 / 6720], examples_per_second: 1837.5630, train_label_loss: 0.6807, \n"
     ]
    },
    {
     "name": "stdout",
     "output_type": "stream",
     "text": [
      "epoch: 4, [batch: 3360 / 6720], examples_per_second: 2285.7186, train_label_loss: 0.4497, \n"
     ]
    },
    {
     "name": "stdout",
     "output_type": "stream",
     "text": [
      "epoch: 4, [batch: 4032 / 6720], examples_per_second: 1854.8326, train_label_loss: 1.2500, \n"
     ]
    },
    {
     "name": "stdout",
     "output_type": "stream",
     "text": [
      "epoch: 4, [batch: 4704 / 6720], examples_per_second: 1825.1883, train_label_loss: 0.8260, \n"
     ]
    },
    {
     "name": "stdout",
     "output_type": "stream",
     "text": [
      "epoch: 4, [batch: 5376 / 6720], examples_per_second: 2248.2523, train_label_loss: 0.8691, \n"
     ]
    },
    {
     "name": "stdout",
     "output_type": "stream",
     "text": [
      "epoch: 4, [batch: 6048 / 6720], examples_per_second: 1840.8756, train_label_loss: 0.5627, \n"
     ]
    },
    {
     "name": "stdout",
     "output_type": "stream",
     "text": [
      "=============================================================\n",
      "epoch: 4, source_val_acc_label: 0.7288, target_val_acc_label: 0.6315, source_val_label_loss: 0.7294, target_val_label_loss: 132.8474, \n",
      "=============================================================\n"
     ]
    },
    {
     "name": "stdout",
     "output_type": "stream",
     "text": [
      "epoch: 5, [batch: 1 / 6720], examples_per_second: 1.6301, train_label_loss: 0.4122, \n"
     ]
    },
    {
     "name": "stdout",
     "output_type": "stream",
     "text": [
      "epoch: 5, [batch: 672 / 6720], examples_per_second: 1991.6620, train_label_loss: 0.5174, \n"
     ]
    },
    {
     "name": "stdout",
     "output_type": "stream",
     "text": [
      "epoch: 5, [batch: 1344 / 6720], examples_per_second: 2684.7285, train_label_loss: 0.7023, \n"
     ]
    },
    {
     "name": "stdout",
     "output_type": "stream",
     "text": [
      "epoch: 5, [batch: 2016 / 6720], examples_per_second: 2194.4409, train_label_loss: 1.0362, \n"
     ]
    },
    {
     "name": "stdout",
     "output_type": "stream",
     "text": [
      "epoch: 5, [batch: 2688 / 6720], examples_per_second: 2180.9205, train_label_loss: 0.6534, \n"
     ]
    },
    {
     "name": "stdout",
     "output_type": "stream",
     "text": [
      "epoch: 5, [batch: 3360 / 6720], examples_per_second: 2607.7512, train_label_loss: 0.4762, \n"
     ]
    },
    {
     "name": "stdout",
     "output_type": "stream",
     "text": [
      "epoch: 5, [batch: 4032 / 6720], examples_per_second: 2316.9281, train_label_loss: 0.5402, \n"
     ]
    },
    {
     "name": "stdout",
     "output_type": "stream",
     "text": [
      "epoch: 5, [batch: 4704 / 6720], examples_per_second: 2207.1337, train_label_loss: 0.3653, \n"
     ]
    },
    {
     "name": "stdout",
     "output_type": "stream",
     "text": [
      "epoch: 5, [batch: 5376 / 6720], examples_per_second: 2137.1944, train_label_loss: 0.8818, \n"
     ]
    },
    {
     "name": "stdout",
     "output_type": "stream",
     "text": [
      "epoch: 5, [batch: 6048 / 6720], examples_per_second: 2283.6331, train_label_loss: 0.4025, \n"
     ]
    },
    {
     "name": "stdout",
     "output_type": "stream",
     "text": [
      "=============================================================\n",
      "epoch: 5, source_val_acc_label: 0.7838, target_val_acc_label: 0.6321, source_val_label_loss: 0.5884, target_val_label_loss: 135.6937, \n",
      "=============================================================\n"
     ]
    },
    {
     "name": "stdout",
     "output_type": "stream",
     "text": [
      "epoch: 6, [batch: 1 / 6720], examples_per_second: 1.4703, train_label_loss: 0.3975, \n"
     ]
    },
    {
     "name": "stdout",
     "output_type": "stream",
     "text": [
      "epoch: 6, [batch: 672 / 6720], examples_per_second: 1672.5009, train_label_loss: 0.9399, \n"
     ]
    },
    {
     "name": "stdout",
     "output_type": "stream",
     "text": [
      "epoch: 6, [batch: 1344 / 6720], examples_per_second: 1874.8694, train_label_loss: 0.9036, \n"
     ]
    },
    {
     "name": "stdout",
     "output_type": "stream",
     "text": [
      "epoch: 6, [batch: 2016 / 6720], examples_per_second: 1796.7909, train_label_loss: 0.4386, \n"
     ]
    },
    {
     "name": "stdout",
     "output_type": "stream",
     "text": [
      "epoch: 6, [batch: 2688 / 6720], examples_per_second: 1670.2161, train_label_loss: 0.2529, \n"
     ]
    },
    {
     "name": "stdout",
     "output_type": "stream",
     "text": [
      "epoch: 6, [batch: 3360 / 6720], examples_per_second: 1765.2390, train_label_loss: 0.3770, \n"
     ]
    },
    {
     "name": "stdout",
     "output_type": "stream",
     "text": [
      "epoch: 6, [batch: 4032 / 6720], examples_per_second: 2002.4477, train_label_loss: 0.6216, \n"
     ]
    },
    {
     "name": "stdout",
     "output_type": "stream",
     "text": [
      "epoch: 6, [batch: 4704 / 6720], examples_per_second: 1809.7856, train_label_loss: 0.6608, \n"
     ]
    },
    {
     "name": "stdout",
     "output_type": "stream",
     "text": [
      "epoch: 6, [batch: 5376 / 6720], examples_per_second: 1843.7741, train_label_loss: 0.4185, \n"
     ]
    },
    {
     "name": "stdout",
     "output_type": "stream",
     "text": [
      "epoch: 6, [batch: 6048 / 6720], examples_per_second: 2280.2002, train_label_loss: 0.2910, \n"
     ]
    },
    {
     "name": "stdout",
     "output_type": "stream",
     "text": [
      "=============================================================\n",
      "epoch: 6, source_val_acc_label: 0.8000, target_val_acc_label: 0.6261, source_val_label_loss: 0.5444, target_val_label_loss: 197.7093, \n",
      "=============================================================\n"
     ]
    },
    {
     "name": "stdout",
     "output_type": "stream",
     "text": [
      "epoch: 7, [batch: 1 / 6720], examples_per_second: 1.4860, train_label_loss: 0.2494, \n"
     ]
    },
    {
     "name": "stdout",
     "output_type": "stream",
     "text": [
      "epoch: 7, [batch: 672 / 6720], examples_per_second: 1685.6419, train_label_loss: 0.9154, \n"
     ]
    },
    {
     "name": "stdout",
     "output_type": "stream",
     "text": [
      "epoch: 7, [batch: 1344 / 6720], examples_per_second: 1847.9702, train_label_loss: 0.3674, \n"
     ]
    },
    {
     "name": "stdout",
     "output_type": "stream",
     "text": [
      "epoch: 7, [batch: 2016 / 6720], examples_per_second: 1873.5978, train_label_loss: 0.6923, \n"
     ]
    },
    {
     "name": "stdout",
     "output_type": "stream",
     "text": [
      "epoch: 7, [batch: 2688 / 6720], examples_per_second: 1672.1575, train_label_loss: 0.5189, \n"
     ]
    },
    {
     "name": "stdout",
     "output_type": "stream",
     "text": [
      "epoch: 7, [batch: 3360 / 6720], examples_per_second: 1714.4655, train_label_loss: 1.0386, \n"
     ]
    },
    {
     "name": "stdout",
     "output_type": "stream",
     "text": [
      "epoch: 7, [batch: 4032 / 6720], examples_per_second: 2008.2703, train_label_loss: 0.2886, \n"
     ]
    },
    {
     "name": "stdout",
     "output_type": "stream",
     "text": [
      "epoch: 7, [batch: 4704 / 6720], examples_per_second: 1803.8479, train_label_loss: 0.6236, \n"
     ]
    },
    {
     "name": "stdout",
     "output_type": "stream",
     "text": [
      "epoch: 7, [batch: 5376 / 6720], examples_per_second: 1819.2709, train_label_loss: 0.3270, \n"
     ]
    },
    {
     "name": "stdout",
     "output_type": "stream",
     "text": [
      "epoch: 7, [batch: 6048 / 6720], examples_per_second: 2272.5491, train_label_loss: 0.3541, \n"
     ]
    },
    {
     "name": "stdout",
     "output_type": "stream",
     "text": [
      "=============================================================\n",
      "epoch: 7, source_val_acc_label: 0.8085, target_val_acc_label: 0.6894, source_val_label_loss: 0.5195, target_val_label_loss: 119.1173, \n",
      "=============================================================\n"
     ]
    },
    {
     "name": "stdout",
     "output_type": "stream",
     "text": [
      "New best\n"
     ]
    },
    {
     "name": "stdout",
     "output_type": "stream",
     "text": [
      "epoch: 8, [batch: 1 / 6720], examples_per_second: 1.6000, train_label_loss: 0.7037, \n"
     ]
    },
    {
     "name": "stdout",
     "output_type": "stream",
     "text": [
      "epoch: 8, [batch: 672 / 6720], examples_per_second: 2898.1105, train_label_loss: 0.7954, \n"
     ]
    },
    {
     "name": "stdout",
     "output_type": "stream",
     "text": [
      "epoch: 8, [batch: 1344 / 6720], examples_per_second: 3420.2874, train_label_loss: 0.6529, \n"
     ]
    },
    {
     "name": "stdout",
     "output_type": "stream",
     "text": [
      "epoch: 8, [batch: 2016 / 6720], examples_per_second: 4078.6544, train_label_loss: 0.3122, \n"
     ]
    },
    {
     "name": "stdout",
     "output_type": "stream",
     "text": [
      "epoch: 8, [batch: 2688 / 6720], examples_per_second: 3875.8687, train_label_loss: 0.3472, \n"
     ]
    },
    {
     "name": "stdout",
     "output_type": "stream",
     "text": [
      "epoch: 8, [batch: 3360 / 6720], examples_per_second: 3785.5316, train_label_loss: 0.6225, \n"
     ]
    },
    {
     "name": "stdout",
     "output_type": "stream",
     "text": [
      "epoch: 8, [batch: 4032 / 6720], examples_per_second: 3779.6393, train_label_loss: 0.6270, \n"
     ]
    },
    {
     "name": "stdout",
     "output_type": "stream",
     "text": [
      "epoch: 8, [batch: 4704 / 6720], examples_per_second: 4368.1658, train_label_loss: 0.4474, \n"
     ]
    },
    {
     "name": "stdout",
     "output_type": "stream",
     "text": [
      "epoch: 8, [batch: 5376 / 6720], examples_per_second: 4523.5560, train_label_loss: 0.7986, \n"
     ]
    },
    {
     "name": "stdout",
     "output_type": "stream",
     "text": [
      "epoch: 8, [batch: 6048 / 6720], examples_per_second: 2380.3231, train_label_loss: 0.5057, \n"
     ]
    },
    {
     "name": "stdout",
     "output_type": "stream",
     "text": [
      "=============================================================\n",
      "epoch: 8, source_val_acc_label: 0.8160, target_val_acc_label: 0.6631, source_val_label_loss: 0.4997, target_val_label_loss: 181.9880, \n",
      "=============================================================\n"
     ]
    },
    {
     "name": "stdout",
     "output_type": "stream",
     "text": [
      "epoch: 9, [batch: 1 / 6720], examples_per_second: 1.5371, train_label_loss: 0.1866, \n"
     ]
    },
    {
     "name": "stdout",
     "output_type": "stream",
     "text": [
      "epoch: 9, [batch: 672 / 6720], examples_per_second: 1806.2629, train_label_loss: 0.7017, \n"
     ]
    },
    {
     "name": "stdout",
     "output_type": "stream",
     "text": [
      "epoch: 9, [batch: 1344 / 6720], examples_per_second: 1751.0869, train_label_loss: 0.6095, \n"
     ]
    },
    {
     "name": "stdout",
     "output_type": "stream",
     "text": [
      "epoch: 9, [batch: 2016 / 6720], examples_per_second: 1831.2397, train_label_loss: 0.4871, \n"
     ]
    },
    {
     "name": "stdout",
     "output_type": "stream",
     "text": [
      "epoch: 9, [batch: 2688 / 6720], examples_per_second: 1738.0931, train_label_loss: 0.2963, \n"
     ]
    },
    {
     "name": "stdout",
     "output_type": "stream",
     "text": [
      "epoch: 9, [batch: 3360 / 6720], examples_per_second: 1815.8547, train_label_loss: 0.9977, \n"
     ]
    },
    {
     "name": "stdout",
     "output_type": "stream",
     "text": [
      "epoch: 9, [batch: 4032 / 6720], examples_per_second: 1827.4395, train_label_loss: 0.7706, \n"
     ]
    },
    {
     "name": "stdout",
     "output_type": "stream",
     "text": [
      "epoch: 9, [batch: 4704 / 6720], examples_per_second: 1919.5866, train_label_loss: 0.4117, \n"
     ]
    },
    {
     "name": "stdout",
     "output_type": "stream",
     "text": [
      "epoch: 9, [batch: 5376 / 6720], examples_per_second: 1973.6854, train_label_loss: 0.3355, \n"
     ]
    },
    {
     "name": "stdout",
     "output_type": "stream",
     "text": [
      "epoch: 9, [batch: 6048 / 6720], examples_per_second: 1870.8588, train_label_loss: 0.3960, \n"
     ]
    },
    {
     "name": "stdout",
     "output_type": "stream",
     "text": [
      "=============================================================\n",
      "epoch: 9, source_val_acc_label: 0.8197, target_val_acc_label: 0.6577, source_val_label_loss: 0.4875, target_val_label_loss: 224.0339, \n",
      "=============================================================\n"
     ]
    },
    {
     "name": "stdout",
     "output_type": "stream",
     "text": [
      "epoch: 10, [batch: 1 / 6720], examples_per_second: 1.5083, train_label_loss: 0.4885, \n"
     ]
    },
    {
     "name": "stdout",
     "output_type": "stream",
     "text": [
      "epoch: 10, [batch: 672 / 6720], examples_per_second: 1794.8023, train_label_loss: 0.4242, \n"
     ]
    },
    {
     "name": "stdout",
     "output_type": "stream",
     "text": [
      "epoch: 10, [batch: 1344 / 6720], examples_per_second: 3229.9476, train_label_loss: 0.7116, \n"
     ]
    },
    {
     "name": "stdout",
     "output_type": "stream",
     "text": [
      "epoch: 10, [batch: 2016 / 6720], examples_per_second: 4038.3407, train_label_loss: 0.0501, \n"
     ]
    },
    {
     "name": "stdout",
     "output_type": "stream",
     "text": [
      "epoch: 10, [batch: 2688 / 6720], examples_per_second: 3900.2017, train_label_loss: 0.4438, \n"
     ]
    },
    {
     "name": "stdout",
     "output_type": "stream",
     "text": [
      "epoch: 10, [batch: 3360 / 6720], examples_per_second: 1909.1077, train_label_loss: 0.2723, \n"
     ]
    },
    {
     "name": "stdout",
     "output_type": "stream",
     "text": [
      "epoch: 10, [batch: 4032 / 6720], examples_per_second: 1848.9889, train_label_loss: 0.4717, \n"
     ]
    },
    {
     "name": "stdout",
     "output_type": "stream",
     "text": [
      "epoch: 10, [batch: 4704 / 6720], examples_per_second: 1970.3917, train_label_loss: 0.9486, \n"
     ]
    },
    {
     "name": "stdout",
     "output_type": "stream",
     "text": [
      "epoch: 10, [batch: 5376 / 6720], examples_per_second: 1954.3569, train_label_loss: 0.7449, \n"
     ]
    },
    {
     "name": "stdout",
     "output_type": "stream",
     "text": [
      "epoch: 10, [batch: 6048 / 6720], examples_per_second: 1856.5101, train_label_loss: 0.1585, \n"
     ]
    },
    {
     "name": "stdout",
     "output_type": "stream",
     "text": [
      "=============================================================\n",
      "epoch: 10, source_val_acc_label: 0.8397, target_val_acc_label: 0.6403, source_val_label_loss: 0.4407, target_val_label_loss: 285.5051, \n",
      "=============================================================\n"
     ]
    },
    {
     "name": "stdout",
     "output_type": "stream",
     "text": [
      "epoch: 11, [batch: 1 / 6720], examples_per_second: 1.5184, train_label_loss: 0.5030, \n"
     ]
    },
    {
     "name": "stdout",
     "output_type": "stream",
     "text": [
      "epoch: 11, [batch: 672 / 6720], examples_per_second: 1790.2762, train_label_loss: 0.5319, \n"
     ]
    },
    {
     "name": "stdout",
     "output_type": "stream",
     "text": [
      "epoch: 11, [batch: 1344 / 6720], examples_per_second: 3181.6632, train_label_loss: 0.6385, \n"
     ]
    },
    {
     "name": "stdout",
     "output_type": "stream",
     "text": [
      "epoch: 11, [batch: 2016 / 6720], examples_per_second: 3888.3188, train_label_loss: 0.1907, \n"
     ]
    },
    {
     "name": "stdout",
     "output_type": "stream",
     "text": [
      "epoch: 11, [batch: 2688 / 6720], examples_per_second: 3930.1763, train_label_loss: 0.5460, \n"
     ]
    },
    {
     "name": "stdout",
     "output_type": "stream",
     "text": [
      "epoch: 11, [batch: 3360 / 6720], examples_per_second: 1867.2533, train_label_loss: 0.4481, \n"
     ]
    },
    {
     "name": "stdout",
     "output_type": "stream",
     "text": [
      "epoch: 11, [batch: 4032 / 6720], examples_per_second: 1855.3501, train_label_loss: 0.2497, \n"
     ]
    },
    {
     "name": "stdout",
     "output_type": "stream",
     "text": [
      "epoch: 11, [batch: 4704 / 6720], examples_per_second: 1927.5330, train_label_loss: 0.3212, \n"
     ]
    },
    {
     "name": "stdout",
     "output_type": "stream",
     "text": [
      "epoch: 11, [batch: 5376 / 6720], examples_per_second: 1961.7142, train_label_loss: 0.2819, \n"
     ]
    },
    {
     "name": "stdout",
     "output_type": "stream",
     "text": [
      "epoch: 11, [batch: 6048 / 6720], examples_per_second: 1858.8924, train_label_loss: 0.3149, \n"
     ]
    },
    {
     "name": "stdout",
     "output_type": "stream",
     "text": [
      "=============================================================\n",
      "epoch: 11, source_val_acc_label: 0.8155, target_val_acc_label: 0.6165, source_val_label_loss: 0.4975, target_val_label_loss: 333.3593, \n",
      "=============================================================\n"
     ]
    },
    {
     "name": "stdout",
     "output_type": "stream",
     "text": [
      "Patience (3) exhausted\n"
     ]
    }
   ],
   "source": [
    "###################################\n",
    "# train\n",
    "###################################\n",
    "jig = PTN_Train_Eval_Test_Jig(model, p.BEST_MODEL_PATH, p.device)\n",
    "\n",
    "jig.train(\n",
    "    train_iterable=datasets.source.processed.train,\n",
    "    source_val_iterable=datasets.source.processed.val,\n",
    "    target_val_iterable=datasets.target.processed.val,\n",
    "    num_epochs=p.n_epoch,\n",
    "    num_logs_per_epoch=p.NUM_LOGS_PER_EPOCH,\n",
    "    patience=p.patience,\n",
    "    optimizer=optimizer,\n",
    "    criteria_for_best=p.criteria_for_best,\n",
    ")"
   ]
  },
  {
   "cell_type": "code",
   "execution_count": 23,
   "id": "31e8fabf",
   "metadata": {
    "execution": {
     "iopub.execute_input": "2022-03-28T02:55:14.958038Z",
     "iopub.status.busy": "2022-03-28T02:55:14.956693Z",
     "iopub.status.idle": "2022-03-28T02:55:15.177088Z",
     "shell.execute_reply": "2022-03-28T02:55:15.177786Z"
    },
    "papermill": {
     "duration": 0.308959,
     "end_time": "2022-03-28T02:55:15.177996",
     "exception": false,
     "start_time": "2022-03-28T02:55:14.869037",
     "status": "completed"
    },
    "tags": []
   },
   "outputs": [],
   "source": [
    "total_experiment_time_secs = time.time() - start_time_secs"
   ]
  },
  {
   "cell_type": "code",
   "execution_count": 24,
   "id": "87b9595b",
   "metadata": {
    "execution": {
     "iopub.execute_input": "2022-03-28T02:55:15.313809Z",
     "iopub.status.busy": "2022-03-28T02:55:15.312939Z",
     "iopub.status.idle": "2022-03-28T02:59:38.691688Z",
     "shell.execute_reply": "2022-03-28T02:59:38.692115Z"
    },
    "papermill": {
     "duration": 263.450689,
     "end_time": "2022-03-28T02:59:38.692293",
     "exception": false,
     "start_time": "2022-03-28T02:55:15.241604",
     "status": "completed"
    },
    "tags": []
   },
   "outputs": [],
   "source": [
    "###################################\n",
    "# Evaluate the model\n",
    "###################################\n",
    "source_test_label_accuracy, source_test_label_loss = jig.test(datasets.source.processed.test)\n",
    "target_test_label_accuracy, target_test_label_loss = jig.test(datasets.target.processed.test)\n",
    "\n",
    "source_val_label_accuracy, source_val_label_loss = jig.test(datasets.source.processed.val)\n",
    "target_val_label_accuracy, target_val_label_loss = jig.test(datasets.target.processed.val)\n",
    "\n",
    "history = jig.get_history()\n",
    "\n",
    "total_epochs_trained = len(history[\"epoch_indices\"])\n",
    "\n",
    "val_dl = Iterable_Aggregator((datasets.source.original.val,datasets.target.original.val))\n",
    "\n",
    "confusion = ptn_confusion_by_domain_over_dataloader(model, p.device, val_dl)\n",
    "per_domain_accuracy = per_domain_accuracy_from_confusion(confusion)\n",
    "\n",
    "# Add a key to per_domain_accuracy for if it was a source domain\n",
    "for domain, accuracy in per_domain_accuracy.items():\n",
    "    per_domain_accuracy[domain] = {\n",
    "        \"accuracy\": accuracy,\n",
    "        \"source?\": domain in p.domains_source\n",
    "    }\n",
    "\n",
    "# Do an independent accuracy assesment JUST TO BE SURE!\n",
    "# _source_test_label_accuracy = independent_accuracy_assesment(model, datasets.source.processed.test, p.device)\n",
    "# _target_test_label_accuracy = independent_accuracy_assesment(model, datasets.target.processed.test, p.device)\n",
    "# _source_val_label_accuracy = independent_accuracy_assesment(model, datasets.source.processed.val, p.device)\n",
    "# _target_val_label_accuracy = independent_accuracy_assesment(model, datasets.target.processed.val, p.device)\n",
    "\n",
    "# assert(_source_test_label_accuracy == source_test_label_accuracy)\n",
    "# assert(_target_test_label_accuracy == target_test_label_accuracy)\n",
    "# assert(_source_val_label_accuracy == source_val_label_accuracy)\n",
    "# assert(_target_val_label_accuracy == target_val_label_accuracy)\n",
    "\n",
    "experiment = {\n",
    "    \"experiment_name\": p.experiment_name,\n",
    "    \"parameters\": dict(p),\n",
    "    \"results\": {\n",
    "        \"source_test_label_accuracy\": source_test_label_accuracy,\n",
    "        \"source_test_label_loss\": source_test_label_loss,\n",
    "        \"target_test_label_accuracy\": target_test_label_accuracy,\n",
    "        \"target_test_label_loss\": target_test_label_loss,\n",
    "        \"source_val_label_accuracy\": source_val_label_accuracy,\n",
    "        \"source_val_label_loss\": source_val_label_loss,\n",
    "        \"target_val_label_accuracy\": target_val_label_accuracy,\n",
    "        \"target_val_label_loss\": target_val_label_loss,\n",
    "        \"total_epochs_trained\": total_epochs_trained,\n",
    "        \"total_experiment_time_secs\": total_experiment_time_secs,\n",
    "        \"confusion\": confusion,\n",
    "        \"per_domain_accuracy\": per_domain_accuracy,\n",
    "    },\n",
    "    \"history\": history,\n",
    "    \"dataset_metrics\": get_dataset_metrics(datasets, \"ptn\"),\n",
    "}"
   ]
  },
  {
   "cell_type": "code",
   "execution_count": 25,
   "id": "54a21829",
   "metadata": {
    "execution": {
     "iopub.execute_input": "2022-03-28T02:59:38.828124Z",
     "iopub.status.busy": "2022-03-28T02:59:38.827522Z",
     "iopub.status.idle": "2022-03-28T02:59:39.298235Z",
     "shell.execute_reply": "2022-03-28T02:59:39.298722Z"
    },
    "papermill": {
     "duration": 0.532153,
     "end_time": "2022-03-28T02:59:39.298889",
     "exception": false,
     "start_time": "2022-03-28T02:59:38.766736",
     "status": "completed"
    },
    "tags": []
   },
   "outputs": [
    {
     "data": {
      "image/png": "[encoded data removed]",
      "text/plain": [
       "<Figure size 1080x504 with 1 Axes>"
      ]
     },
     "metadata": {
      "needs_background": "light"
     },
     "output_type": "display_data"
    }
   ],
   "source": [
    "ax = get_loss_curve(experiment)\n",
    "plt.show()"
   ]
  },
  {
   "cell_type": "code",
   "execution_count": 26,
   "id": "fd8a0f60",
   "metadata": {
    "execution": {
     "iopub.execute_input": "2022-03-28T02:59:39.424822Z",
     "iopub.status.busy": "2022-03-28T02:59:39.424445Z",
     "iopub.status.idle": "2022-03-28T02:59:39.795320Z",
     "shell.execute_reply": "2022-03-28T02:59:39.796024Z"
    },
    "papermill": {
     "duration": 0.434312,
     "end_time": "2022-03-28T02:59:39.796239",
     "exception": false,
     "start_time": "2022-03-28T02:59:39.361927",
     "status": "completed"
    },
    "tags": []
   },
   "outputs": [
    {
     "data": {
      "text/plain": [
       "<AxesSubplot:title={'center':'Results'}>"
      ]
     },
     "execution_count": 26,
     "metadata": {},
     "output_type": "execute_result"
    },
    {
     "data": {
      "image/png": "[encoded data removed]",
      "text/plain": [
       "<Figure size 1080x504 with 1 Axes>"
      ]
     },
     "metadata": {
      "needs_background": "light"
     },
     "output_type": "display_data"
    }
   ],
   "source": [
    "get_results_table(experiment)"
   ]
  },
  {
   "cell_type": "code",
   "execution_count": 27,
   "id": "cf8dc689",
   "metadata": {
    "execution": {
     "iopub.execute_input": "2022-03-28T02:59:39.924903Z",
     "iopub.status.busy": "2022-03-28T02:59:39.924525Z",
     "iopub.status.idle": "2022-03-28T02:59:40.250180Z",
     "shell.execute_reply": "2022-03-28T02:59:40.250970Z"
    },
    "papermill": {
     "duration": 0.391656,
     "end_time": "2022-03-28T02:59:40.251213",
     "exception": false,
     "start_time": "2022-03-28T02:59:39.859557",
     "status": "completed"
    },
    "tags": []
   },
   "outputs": [
    {
     "data": {
      "text/plain": [
       "<AxesSubplot:title={'center':'Per Domain Validation Accuracy'}, xlabel='domain'>"
      ]
     },
     "execution_count": 27,
     "metadata": {},
     "output_type": "execute_result"
    },
    {
     "data": {
      "image/png": "[encoded data removed]",
      "text/plain": [
       "<Figure size 1080x504 with 1 Axes>"
      ]
     },
     "metadata": {
      "needs_background": "light"
     },
     "output_type": "display_data"
    }
   ],
   "source": [
    "get_domain_accuracies(experiment)"
   ]
  },
  {
   "cell_type": "code",
   "execution_count": 28,
   "id": "a74ae082",
   "metadata": {
    "execution": {
     "iopub.execute_input": "2022-03-28T02:59:40.387562Z",
     "iopub.status.busy": "2022-03-28T02:59:40.387133Z",
     "iopub.status.idle": "2022-03-28T02:59:40.412683Z",
     "shell.execute_reply": "2022-03-28T02:59:40.411835Z"
    },
    "papermill": {
     "duration": 0.094724,
     "end_time": "2022-03-28T02:59:40.412868",
     "exception": false,
     "start_time": "2022-03-28T02:59:40.318144",
     "status": "completed"
    },
    "tags": []
   },
   "outputs": [
    {
     "name": "stdout",
     "output_type": "stream",
     "text": [
      "Source Test Label Accuracy: 0.8078125 Target Test Label Accuracy: 0.6860970819304153\n",
      "Source Val Label Accuracy: 0.80849609375 Target Val Label Accuracy: 0.6894263698630136\n"
     ]
    }
   ],
   "source": [
    "print(\"Source Test Label Accuracy:\", experiment[\"results\"][\"source_test_label_accuracy\"], \"Target Test Label Accuracy:\", experiment[\"results\"][\"target_test_label_accuracy\"])\n",
    "print(\"Source Val Label Accuracy:\", experiment[\"results\"][\"source_val_label_accuracy\"], \"Target Val Label Accuracy:\", experiment[\"results\"][\"target_val_label_accuracy\"])"
   ]
  },
  {
   "cell_type": "code",
   "execution_count": 29,
   "id": "dacca602",
   "metadata": {
    "execution": {
     "iopub.execute_input": "2022-03-28T02:59:40.552147Z",
     "iopub.status.busy": "2022-03-28T02:59:40.551775Z",
     "iopub.status.idle": "2022-03-28T02:59:40.580499Z",
     "shell.execute_reply": "2022-03-28T02:59:40.581202Z"
    },
    "papermill": {
     "duration": 0.097701,
     "end_time": "2022-03-28T02:59:40.581397",
     "exception": false,
     "start_time": "2022-03-28T02:59:40.483696",
     "status": "completed"
    },
    "tags": [
     "experiment_json"
    ]
   },
   "outputs": [
    {
     "data": {
      "text/plain": [
       "'{\"experiment_name\": \"tl_3-jitter1v2:oracle.run1.framed -> cores\", \"parameters\": {\"experiment_name\": \"tl_3-jitter1v2:oracle.run1.framed -> cores\", \"device\": \"cuda\", \"lr\": 0.0001, \"x_shape\": [2, 256], \"n_shot\": 3, \"n_query\": 2, \"train_k_factor\": 3, \"val_k_factor\": 2, \"test_k_factor\": 2, \"torch_default_dtype\": \"torch.float32\", \"n_epoch\": 50, \"patience\": 3, \"criteria_for_best\": \"target_accuracy\", \"x_net\": [{\"class\": \"nnReshape\", \"kargs\": {\"shape\": [-1, 1, 2, 256]}}, {\"class\": \"Conv2d\", \"kargs\": {\"in_channels\": 1, \"out_channels\": 256, \"kernel_size\": [1, 7], \"bias\": false, \"padding\": [0, 3]}}, {\"class\": \"ReLU\", \"kargs\": {\"inplace\": true}}, {\"class\": \"BatchNorm2d\", \"kargs\": {\"num_features\": 256}}, {\"class\": \"Conv2d\", \"kargs\": {\"in_channels\": 256, \"out_channels\": 80, \"kernel_size\": [2, 7], \"bias\": true, \"padding\": [0, 3]}}, {\"class\": \"ReLU\", \"kargs\": {\"inplace\": true}}, {\"class\": \"BatchNorm2d\", \"kargs\": {\"num_features\": 80}}, {\"class\": \"Flatten\", \"kargs\": {}}, {\"class\": \"Linear\", \"kargs\": {\"in_features\": 20480, \"out_features\": 256}}, {\"class\": \"ReLU\", \"kargs\": {\"inplace\": true}}, {\"class\": \"BatchNorm1d\", \"kargs\": {\"num_features\": 256}}, {\"class\": \"Linear\", \"kargs\": {\"in_features\": 256, \"out_features\": 256}}], \"NUM_LOGS_PER_EPOCH\": 10, \"BEST_MODEL_PATH\": \"./best_model.pth\", \"n_way\": 16, \"datasets\": [{\"labels\": [\"1-10.\", \"1-11.\", \"1-15.\", \"1-16.\", \"1-17.\", \"1-18.\", \"1-19.\", \"10-4.\", \"10-7.\", \"11-1.\", \"11-14.\", \"11-17.\", \"11-20.\", \"11-7.\", \"13-20.\", \"13-8.\", \"14-10.\", \"14-11.\", \"14-14.\", \"14-7.\", \"15-1.\", \"15-20.\", \"16-1.\", \"16-16.\", \"17-10.\", \"17-11.\", \"17-2.\", \"19-1.\", \"19-16.\", \"19-19.\", \"19-20.\", \"19-3.\", \"2-10.\", \"2-11.\", \"2-17.\", \"2-18.\", \"2-20.\", \"2-3.\", \"2-4.\", \"2-5.\", \"2-6.\", \"2-7.\", \"2-8.\", \"3-13.\", \"3-18.\", \"3-3.\", \"4-1.\", \"4-10.\", \"4-11.\", \"4-19.\", \"5-5.\", \"6-15.\", \"7-10.\", \"7-14.\", \"8-18.\", \"8-20.\", \"8-3.\", \"8-8.\"], \"domains\": [1, 2, 3, 4, 5], \"num_examples_per_domain_per_label\": -1, \"pickle_path\": \"/root/csc500-main/datasets/cores.stratified_ds.2022A.pkl\", \"source_or_target_dataset\": \"target\", \"x_transforms\": [\"unit_mag\", \"jitter_256_1\", \"lowpass_+/-10MHz\", \"take_200\"], \"episode_transforms\": [], \"domain_prefix\": \"C_\"}, {\"labels\": [\"3123D52\", \"3123D65\", \"3123D79\", \"3123D80\", \"3123D54\", \"3123D70\", \"3123D7B\", \"3123D89\", \"3123D58\", \"3123D76\", \"3123D7D\", \"3123EFE\", \"3123D64\", \"3123D78\", \"3123D7E\", \"3124E4A\"], \"domains\": [32, 38, 8, 44, 14, 50, 20, 26], \"num_examples_per_domain_per_label\": 2000, \"pickle_path\": \"/root/csc500-main/datasets/oracle.Run1_framed_2000Examples_stratified_ds.2022A.pkl\", \"source_or_target_dataset\": \"source\", \"x_transforms\": [\"unit_mag\", \"jitter_256_1\", \"take_200\", \"resample_20Msps_to_25Msps\"], \"episode_transforms\": [], \"domain_prefix\": \"O_\"}], \"seed\": 1337, \"dataset_seed\": 1337, \"domains_source\": [\"O_32\", \"O_38\", \"O_8\", \"O_44\", \"O_14\", \"O_50\", \"O_20\", \"O_26\"], \"domains_target\": [\"C_1\", \"C_2\", \"C_3\", \"C_4\", \"C_5\"]}, \"results\": {\"source_test_label_accuracy\": 0.8078125, \"source_test_label_loss\": 0.5267058610916138, \"target_test_label_accuracy\": 0.6860970819304153, \"target_test_label_loss\": 124.74089813232422, \"source_val_label_accuracy\": 0.80849609375, \"source_val_label_loss\": 0.5194891095161438, \"target_val_label_accuracy\": 0.6894263698630136, \"target_val_label_loss\": 119.1172866821289, \"total_epochs_trained\": 11, \"total_experiment_time_secs\": 3711.160737991333, \"confusion\": {\"O_14\": {\"15\": {\"15\": 240}, \"3\": {\"3\": 233, \"14\": 3, \"4\": 3, \"2\": 1}, \"6\": {\"13\": 59, \"6\": 175, \"2\": 3, \"14\": 3}, \"1\": {\"1\": 222, \"5\": 14, \"4\": 4}, \"8\": {\"8\": 240}, \"10\": {\"10\": 237, \"0\": 3}, \"9\": {\"9\": 239, \"11\": 1}, \"13\": {\"13\": 105, \"14\": 30, \"6\": 82, \"2\": 16, \"5\": 4, \"3\": 1, \"4\": 1, \"7\": 1}, \"12\": {\"12\": 239, \"9\": 1}, \"5\": {\"5\": 164, \"1\": 29, \"4\": 34, \"2\": 10, \"3\": 3}, \"0\": {\"0\": 234, \"11\": 1, \"10\": 4, \"3\": 1}, \"2\": {\"2\": 137, \"3\": 9, \"14\": 45, \"13\": 10, \"6\": 10, \"15\": 1, \"5\": 26, \"4\": 2}, \"11\": {\"11\": 228, \"0\": 4, \"9\": 8}, \"14\": {\"14\": 195, \"2\": 19, \"6\": 5, \"13\": 17, \"3\": 4}, \"7\": {\"7\": 240}, \"4\": {\"4\": 210, \"5\": 26, \"1\": 3, \"2\": 1}}, \"O_20\": {\"3\": {\"3\": 145, \"4\": 5, \"2\": 15, \"9\": 32, \"1\": 2, \"12\": 39, \"7\": 2}, \"15\": {\"15\": 164, \"5\": 17, \"1\": 33, \"0\": 20, \"13\": 6}, \"8\": {\"8\": 223, \"4\": 11, \"7\": 5, \"3\": 1}, \"4\": {\"4\": 210, \"5\": 2, \"3\": 14, \"8\": 11, \"7\": 1, \"2\": 1, \"12\": 1}, \"14\": {\"6\": 22, \"14\": 212, \"10\": 5, \"8\": 1}, \"0\": {\"5\": 50, \"4\": 2, \"0\": 157, \"15\": 26, \"8\": 1, \"7\": 2, \"12\": 1, \"13\": 1}, \"7\": {\"7\": 206, \"2\": 21, \"9\": 5, \"3\": 6, \"8\": 2}, \"6\": {\"6\": 226, \"14\": 14}, \"10\": {\"10\": 237, \"14\": 3}, \"5\": {\"5\": 163, \"15\": 9, \"0\": 37, \"1\": 20, \"12\": 11}, \"2\": {\"2\": 120, \"9\": 64, \"13\": 8, \"7\": 25, \"12\": 14, \"3\": 9}, \"12\": {\"12\": 145, \"1\": 38, \"3\": 41, \"9\": 9, \"2\": 4, \"5\": 3}, \"9\": {\"9\": 159, \"13\": 2, \"3\": 27, \"2\": 43, \"7\": 5, \"12\": 4}, \"1\": {\"1\": 158, \"12\": 44, \"5\": 20, \"15\": 14, \"13\": 2, \"3\": 1, \"9\": 1}, \"11\": {\"11\": 240}, \"13\": {\"13\": 230, \"2\": 7, \"12\": 1, \"9\": 1, \"3\": 1}}, \"O_38\": {\"5\": {\"8\": 77, \"5\": 115, \"9\": 7, \"7\": 26, \"13\": 2, \"15\": 6, \"6\": 5, \"0\": 1, \"10\": 1}, \"8\": {\"8\": 181, \"7\": 13, \"0\": 5, \"5\": 34, \"13\": 2, \"10\": 2, \"15\": 3}, \"11\": {\"11\": 237, \"4\": 1, \"10\": 2}, \"1\": {\"1\": 231, \"15\": 9}, \"10\": {\"10\": 202, \"13\": 28, \"0\": 2, \"8\": 3, \"7\": 2, \"14\": 2, \"2\": 1}, \"15\": {\"15\": 216, \"8\": 7, \"1\": 14, \"0\": 1, \"5\": 1, \"13\": 1}, \"3\": {\"3\": 235, \"0\": 5}, \"7\": {\"7\": 191, \"0\": 17, \"5\": 22, \"8\": 9, \"10\": 1}, \"4\": {\"4\": 238, \"0\": 1, \"12\": 1}, \"14\": {\"14\": 215, \"2\": 21, \"10\": 2, \"12\": 2}, \"9\": {\"9\": 228, \"6\": 9, \"7\": 1, \"5\": 2}, \"12\": {\"12\": 237, \"4\": 2, \"14\": 1}, \"6\": {\"6\": 240}, \"2\": {\"2\": 224, \"14\": 12, \"13\": 4}, \"0\": {\"8\": 28, \"0\": 172, \"10\": 11, \"3\": 11, \"7\": 7, \"13\": 6, \"5\": 4, \"9\": 1}, \"13\": {\"13\": 211, \"10\": 15, \"2\": 7, \"15\": 6, \"8\": 1}}, \"O_8\": {\"9\": {\"9\": 240}, \"10\": {\"10\": 201, \"13\": 10, \"14\": 27, \"4\": 1, \"5\": 1}, \"13\": {\"13\": 117, \"0\": 41, \"6\": 5, \"4\": 44, \"10\": 23, \"14\": 10}, \"0\": {\"0\": 198, \"7\": 10, \"13\": 24, \"4\": 5, \"6\": 3}, \"1\": {\"1\": 224, \"11\": 11, \"14\": 5}, \"15\": {\"15\": 218, \"12\": 21, \"8\": 1}, \"5\": {\"5\": 225, \"1\": 6, \"10\": 5, \"14\": 4}, \"3\": {\"3\": 233, \"2\": 4, \"12\": 3}, \"6\": {\"7\": 39, \"6\": 186, \"4\": 8, \"13\": 4, \"0\": 3}, \"11\": {\"11\": 225, \"1\": 14, \"5\": 1}, \"8\": {\"8\": 238, \"15\": 2}, \"4\": {\"4\": 155, \"0\": 4, \"13\": 61, \"14\": 11, \"6\": 9}, \"12\": {\"12\": 161, \"15\": 58, \"3\": 17, \"2\": 2, \"8\": 2}, \"14\": {\"14\": 171, \"13\": 9, \"10\": 32, \"4\": 20, \"1\": 8}, \"2\": {\"15\": 3, \"2\": 216, \"3\": 13, \"7\": 8}, \"7\": {\"6\": 25, \"7\": 211, \"0\": 4}}, \"O_50\": {\"7\": {\"7\": 203, \"13\": 13, \"5\": 15, \"6\": 9}, \"3\": {\"3\": 237, \"8\": 3}, \"8\": {\"8\": 231, \"10\": 8, \"3\": 1}, \"2\": {\"2\": 218, \"0\": 22}, \"14\": {\"14\": 239, \"12\": 1}, \"4\": {\"4\": 164, \"15\": 31, \"7\": 4, \"5\": 27, \"1\": 5, \"6\": 9}, \"6\": {\"6\": 204, \"15\": 2, \"13\": 22, \"4\": 4, \"7\": 5, \"5\": 1, \"1\": 2}, \"15\": {\"15\": 185, \"1\": 21, \"6\": 6, \"4\": 19, \"11\": 9}, \"10\": {\"10\": 218, \"13\": 9, \"8\": 6, \"0\": 7}, \"11\": {\"11\": 212, \"9\": 13, \"15\": 8, \"12\": 4, \"4\": 1, \"1\": 2}, \"13\": {\"13\": 217, \"7\": 10, \"5\": 4, \"10\": 3, \"6\": 4, \"0\": 1, \"1\": 1}, \"9\": {\"9\": 222, \"12\": 6, \"11\": 12}, \"0\": {\"0\": 194, \"10\": 14, \"2\": 31, \"13\": 1}, \"1\": {\"1\": 204, \"15\": 25, \"6\": 5, \"5\": 4, \"4\": 2}, \"12\": {\"12\": 227, \"9\": 8, \"11\": 5}, \"5\": {\"5\": 148, \"4\": 36, \"7\": 18, \"13\": 19, \"1\": 15, \"15\": 3, \"6\": 1}}, \"O_32\": {\"8\": {\"8\": 192, \"0\": 30, \"5\": 5, \"13\": 8, \"14\": 1, \"7\": 3, \"3\": 1}, \"14\": {\"14\": 156, \"11\": 45, \"0\": 18, \"3\": 5, \"7\": 8, \"8\": 6, \"5\": 2}, \"2\": {\"2\": 192, \"4\": 47, \"7\": 1}, \"0\": {\"8\": 30, \"0\": 194, \"5\": 4, \"14\": 10, \"7\": 2}, \"1\": {\"1\": 239, \"10\": 1}, \"10\": {\"10\": 240}, \"11\": {\"11\": 218, \"13\": 2, \"14\": 16, \"7\": 3, \"3\": 1}, \"5\": {\"5\": 120, \"7\": 57, \"3\": 16, \"8\": 13, \"13\": 16, \"4\": 11, \"0\": 1, \"14\": 6}, \"15\": {\"15\": 239, \"8\": 1}, \"3\": {\"3\": 227, \"5\": 3, \"14\": 2, \"13\": 5, \"11\": 2, \"8\": 1}, \"12\": {\"12\": 240}, \"7\": {\"7\": 154, \"13\": 8, \"5\": 38, \"4\": 13, \"11\": 4, \"14\": 9, \"2\": 6, \"8\": 4, \"3\": 1, \"0\": 3}, \"13\": {\"13\": 179, \"3\": 10, \"4\": 19, \"11\": 3, \"5\": 13, \"7\": 8, \"14\": 1, \"8\": 6, \"0\": 1}, \"6\": {\"6\": 240}, \"4\": {\"4\": 180, \"13\": 5, \"2\": 41, \"5\": 6, \"7\": 8}, \"9\": {\"9\": 239, \"12\": 1}}, \"O_26\": {\"4\": {\"4\": 146, \"8\": 31, \"14\": 21, \"0\": 17, \"7\": 17, \"1\": 4, \"10\": 4}, \"12\": {\"12\": 240}, \"10\": {\"14\": 25, \"0\": 57, \"10\": 115, \"8\": 32, \"4\": 4, \"9\": 2, \"15\": 3, \"6\": 2}, \"0\": {\"9\": 1, \"0\": 89, \"14\": 34, \"10\": 58, \"8\": 29, \"4\": 23, \"6\": 2, \"7\": 2, \"15\": 1, \"1\": 1}, \"13\": {\"13\": 182, \"5\": 35, \"2\": 4, \"9\": 15, \"15\": 4}, \"9\": {\"5\": 6, \"9\": 144, \"15\": 64, \"7\": 1, \"6\": 14, \"13\": 6, \"2\": 1, \"8\": 4}, \"3\": {\"3\": 170, \"2\": 51, \"7\": 18, \"5\": 1}, \"2\": {\"5\": 29, \"3\": 73, \"2\": 95, \"7\": 33, \"8\": 3, \"15\": 3, \"9\": 1, \"4\": 2, \"13\": 1}, \"5\": {\"5\": 191, \"9\": 7, \"15\": 13, \"8\": 4, \"13\": 12, \"2\": 11, \"7\": 2}, \"14\": {\"4\": 19, \"14\": 136, \"0\": 26, \"1\": 26, \"10\": 23, \"8\": 9, \"7\": 1}, \"8\": {\"8\": 117, \"7\": 27, \"10\": 41, \"4\": 26, \"0\": 15, \"2\": 3, \"9\": 5, \"14\": 3, \"15\": 1, \"5\": 2}, \"7\": {\"7\": 162, \"4\": 23, \"8\": 13, \"2\": 23, \"3\": 13, \"15\": 3, \"1\": 1, \"0\": 2}, \"6\": {\"6\": 196, \"0\": 3, \"15\": 10, \"8\": 2, \"10\": 11, \"9\": 17, \"13\": 1}, \"11\": {\"11\": 240}, \"15\": {\"8\": 13, \"15\": 138, \"9\": 56, \"0\": 3, \"13\": 8, \"5\": 7, \"7\": 2, \"2\": 4, \"6\": 5, \"10\": 4}, \"1\": {\"1\": 197, \"14\": 32, \"4\": 5, \"10\": 1, \"8\": 1, \"0\": 2, \"7\": 2}}, \"O_44\": {\"12\": {\"12\": 202, \"1\": 34, \"10\": 2, \"3\": 2}, \"7\": {\"7\": 160, \"2\": 31, \"9\": 42, \"13\": 2, \"1\": 2, \"6\": 3}, \"5\": {\"5\": 196, \"15\": 16, \"14\": 11, \"8\": 5, \"4\": 2, \"0\": 10}, \"15\": {\"14\": 18, \"15\": 183, \"5\": 10, \"4\": 5, \"8\": 6, \"0\": 18}, \"8\": {\"0\": 85, \"8\": 139, \"15\": 7, \"5\": 9}, \"2\": {\"2\": 186, \"7\": 31, \"10\": 9, \"1\": 13, \"9\": 1}, \"13\": {\"6\": 42, \"13\": 166, \"9\": 29, \"11\": 2, \"7\": 1}, \"4\": {\"14\": 67, \"4\": 170, \"15\": 2, \"13\": 1}, \"0\": {\"8\": 63, \"0\": 156, \"5\": 14, \"15\": 7}, \"6\": {\"9\": 32, \"6\": 140, \"13\": 59, \"7\": 7, \"11\": 2}, \"9\": {\"13\": 19, \"7\": 57, \"9\": 141, \"6\": 21, \"1\": 1, \"2\": 1}, \"11\": {\"11\": 233, \"13\": 5, \"6\": 2}, \"10\": {\"1\": 26, \"10\": 189, \"12\": 7, \"2\": 16, \"7\": 2}, \"14\": {\"4\": 74, \"14\": 143, \"15\": 18, \"5\": 5}, \"1\": {\"3\": 14, \"1\": 152, \"10\": 7, \"12\": 50, \"2\": 17}, \"3\": {\"3\": 226, \"1\": 12, \"12\": 2}}, \"C_3\": {\"43\": {\"43\": 124, \"47\": 2, \"31\": 1, \"36\": 1}, \"9\": {\"9\": 122, \"20\": 1, \"27\": 3, \"1\": 8, \"57\": 8, \"29\": 1, \"48\": 3, \"51\": 1, \"17\": 1, \"23\": 1, \"53\": 1}, \"6\": {\"46\": 8, \"6\": 33, \"41\": 2, \"48\": 5, \"42\": 3, \"11\": 1, \"26\": 2, \"50\": 3, \"24\": 1, \"18\": 3, \"55\": 4, \"12\": 1, \"20\": 1, \"51\": 1, \"52\": 1, \"3\": 4, \"57\": 1, \"43\": 2, \"25\": 1, \"2\": 2, \"17\": 3, \"53\": 1, \"30\": 2, \"16\": 2, \"23\": 1}, \"3\": {\"46\": 10, \"3\": 45, \"53\": 4, \"5\": 5, \"26\": 3, \"57\": 3, \"23\": 1, \"30\": 3, \"37\": 1, \"2\": 1, \"27\": 2, \"51\": 2, \"47\": 3, \"6\": 7, \"55\": 1, \"50\": 15, \"17\": 3, \"1\": 1, \"36\": 3, \"29\": 2, \"48\": 6, \"25\": 3, \"16\": 3, \"9\": 6, \"20\": 1, \"31\": 1, \"28\": 2, \"32\": 1, \"54\": 1, \"8\": 3, \"21\": 1, \"43\": 1}, \"16\": {\"16\": 115, \"23\": 12, \"5\": 3, \"46\": 1, \"30\": 1, \"20\": 1, \"11\": 1}, \"51\": {\"51\": 66, \"17\": 3, \"27\": 5, \"50\": 2, \"20\": 16, \"21\": 10, \"54\": 2, \"53\": 17, \"13\": 1, \"8\": 5, \"6\": 1}, \"31\": {\"31\": 27, \"47\": 1}, \"46\": {\"6\": 5, \"16\": 8, \"46\": 62, \"20\": 7, \"41\": 3, \"50\": 10, \"18\": 5, \"27\": 2, \"30\": 4, \"43\": 2, \"3\": 4, \"47\": 3, \"23\": 4, \"5\": 2, \"48\": 5, \"21\": 1, \"24\": 1, \"26\": 3, \"0\": 3}, \"19\": {\"44\": 1, \"19\": 98, \"32\": 1, \"4\": 10, \"48\": 1, \"13\": 1, \"25\": 5, \"55\": 4, \"40\": 1, \"53\": 1, \"27\": 1}, \"8\": {\"8\": 142, \"20\": 2, \"36\": 1, \"30\": 1, \"50\": 4, \"27\": 1, \"53\": 1}, \"18\": {\"18\": 83, \"30\": 1}, \"37\": {\"37\": 16, \"31\": 4, \"13\": 1, \"3\": 2, \"41\": 2, \"28\": 1, \"29\": 1, \"42\": 1}, \"24\": {\"31\": 1, \"24\": 100, \"14\": 1, \"49\": 2}, \"10\": {\"10\": 56, \"50\": 1, \"56\": 5, \"22\": 2}, \"44\": {\"44\": 49, \"8\": 1, \"35\": 3, \"25\": 7, \"14\": 1, \"32\": 2, \"2\": 1, \"40\": 8, \"45\": 1, \"53\": 1, \"19\": 3, \"54\": 1, \"47\": 2, \"4\": 2, \"5\": 1, \"6\": 1, \"12\": 1, \"36\": 1, \"55\": 1, \"48\": 1}, \"14\": {\"44\": 1, \"14\": 12, \"7\": 6, \"4\": 2, \"24\": 8, \"36\": 1, \"25\": 1, \"53\": 1, \"38\": 2, \"32\": 1, \"2\": 1, \"56\": 3, \"43\": 1}, \"38\": {\"53\": 3, \"38\": 10, \"54\": 3, \"14\": 1, \"37\": 1, \"33\": 1, \"20\": 1, \"2\": 2, \"17\": 1, \"51\": 3, \"28\": 1, \"27\": 1}, \"53\": {\"9\": 1, \"53\": 66, \"21\": 14, \"38\": 2, \"4\": 1, \"18\": 2, \"51\": 14, \"8\": 11, \"20\": 2, \"50\": 9, \"3\": 1, \"17\": 2, \"36\": 3, \"30\": 2, \"54\": 3, \"19\": 2, \"46\": 3, \"27\": 1, \"55\": 1}, \"20\": {\"20\": 125, \"30\": 2, \"18\": 3, \"23\": 1, \"46\": 1}, \"32\": {\"8\": 1, \"32\": 25, \"12\": 1, \"3\": 1}, \"36\": {\"36\": 48, \"46\": 10, \"26\": 3, \"6\": 4, \"41\": 2, \"12\": 1, \"3\": 5, \"29\": 1, \"50\": 6, \"8\": 7, \"54\": 1, \"30\": 4, \"27\": 4, \"49\": 1, \"2\": 1, \"25\": 1, \"57\": 1}, \"33\": {\"33\": 16, \"46\": 1, \"38\": 1, \"41\": 4, \"54\": 1, \"42\": 1, \"53\": 1, \"5\": 1, \"37\": 1, \"26\": 1}, \"56\": {\"56\": 132, \"29\": 1, \"9\": 1, \"22\": 2}, \"23\": {\"23\": 126, \"18\": 3, \"16\": 1}, \"54\": {\"36\": 8, \"33\": 1, \"6\": 8, \"54\": 32, \"42\": 4, \"48\": 2, \"2\": 1, \"55\": 5, \"13\": 2, \"51\": 4, \"46\": 5, \"3\": 2, \"50\": 12, \"57\": 1, \"30\": 3, \"27\": 2, \"19\": 1, \"38\": 1, \"26\": 2, \"8\": 1, \"21\": 1, \"9\": 1, \"53\": 1}, \"21\": {\"48\": 2, \"21\": 74, \"55\": 2, \"38\": 2, \"2\": 1, \"50\": 7, \"35\": 1, \"53\": 7, \"18\": 2, \"51\": 8, \"30\": 1, \"52\": 4, \"20\": 6, \"17\": 2, \"54\": 1, \"6\": 2, \"27\": 3, \"46\": 1}, \"28\": {\"28\": 11, \"39\": 2, \"5\": 1, \"26\": 6, \"47\": 2, \"41\": 1, \"31\": 1, \"3\": 2, \"6\": 1, \"13\": 1}, \"26\": {\"26\": 23, \"6\": 1}, \"48\": {\"48\": 103, \"16\": 2, \"1\": 2, \"23\": 2, \"21\": 1, \"19\": 1, \"46\": 3, \"6\": 2}, \"52\": {\"52\": 113, \"16\": 2, \"46\": 1, \"15\": 1, \"23\": 1}, \"39\": {\"39\": 16}, \"22\": {\"22\": 136, \"56\": 4}, \"13\": {\"13\": 98, \"24\": 7, \"31\": 3, \"28\": 1, \"3\": 1, \"1\": 1, \"43\": 4, \"22\": 1, \"46\": 4, \"50\": 1, \"5\": 1, \"42\": 2, \"26\": 2, \"55\": 1, \"6\": 1}, \"2\": {\"2\": 16, \"41\": 2, \"42\": 1, \"38\": 2, \"3\": 3, \"36\": 1, \"6\": 1, \"5\": 2, \"55\": 1, \"10\": 1, \"53\": 2}, \"34\": {\"34\": 31, \"43\": 1}, \"27\": {\"5\": 1, \"27\": 109, \"28\": 1, \"53\": 2, \"50\": 8, \"21\": 1, \"9\": 3, \"46\": 1, \"17\": 1, \"20\": 1, \"52\": 2, \"8\": 1, \"57\": 1}, \"45\": {\"45\": 41, \"33\": 1, \"12\": 4, \"13\": 1, \"25\": 1, \"53\": 1, \"4\": 6, \"40\": 1, \"32\": 1, \"3\": 1, \"19\": 1, \"9\": 1}, \"35\": {\"31\": 3, \"35\": 16, \"33\": 1, \"42\": 3, \"5\": 1, \"36\": 1, \"6\": 1, \"10\": 1, \"55\": 1}, \"29\": {\"34\": 2, \"29\": 60, \"43\": 1, \"17\": 7, \"21\": 3, \"3\": 5, \"36\": 3, \"47\": 3, \"6\": 2, \"1\": 8, \"55\": 2, \"27\": 3, \"57\": 5, \"9\": 11, \"46\": 1, \"48\": 2, \"5\": 1, \"37\": 4, \"0\": 2, \"16\": 1, \"20\": 2}, \"25\": {\"25\": 47, \"2\": 1, \"12\": 7, \"35\": 1, \"17\": 4, \"19\": 12, \"40\": 4, \"32\": 4, \"36\": 2, \"57\": 8, \"29\": 3, \"9\": 2, \"46\": 3, \"21\": 1, \"10\": 1, \"53\": 5, \"13\": 2, \"4\": 6, \"48\": 2, \"30\": 2, \"8\": 3, \"50\": 3, \"41\": 3, \"37\": 2, \"3\": 7, \"51\": 1, \"6\": 2, \"44\": 2, \"26\": 2, \"45\": 1, \"0\": 1}, \"0\": {\"0\": 120, \"43\": 4}, \"41\": {\"41\": 27, \"33\": 1}, \"11\": {\"11\": 112, \"52\": 1, \"23\": 4, \"15\": 17, \"43\": 5, \"0\": 2, \"16\": 1}, \"5\": {\"5\": 98, \"39\": 1, \"0\": 1, \"43\": 2, \"47\": 1, \"23\": 5}, \"1\": {\"1\": 96, \"48\": 1, \"56\": 1, \"13\": 2}, \"57\": {\"57\": 59, \"47\": 3, \"9\": 20, \"34\": 1, \"1\": 17, \"17\": 1, \"29\": 5, \"0\": 3, \"16\": 2, \"21\": 1, \"5\": 1, \"46\": 2, \"20\": 1}, \"17\": {\"17\": 51, \"20\": 4, \"46\": 1, \"21\": 1, \"25\": 2, \"10\": 1, \"54\": 1, \"8\": 2, \"50\": 4, \"48\": 2, \"51\": 5, \"29\": 2, \"36\": 3, \"27\": 10, \"4\": 1, \"19\": 1, \"28\": 1, \"47\": 1, \"9\": 6, \"3\": 1, \"23\": 1, \"30\": 1, \"18\": 2, \"56\": 1, \"57\": 1, \"12\": 1, \"53\": 1}, \"7\": {\"7\": 36}, \"12\": {\"17\": 6, \"12\": 31, \"54\": 4, \"37\": 1, \"8\": 2, \"40\": 1, \"25\": 6, \"38\": 1, \"2\": 1, \"30\": 1, \"21\": 3, \"50\": 4, \"36\": 7, \"55\": 4, \"45\": 1, \"53\": 2, \"6\": 5, \"19\": 2, \"48\": 1, \"52\": 1, \"29\": 2, \"4\": 3, \"27\": 2, \"57\": 1}, \"47\": {\"47\": 73, \"23\": 2, \"44\": 1, \"55\": 1, \"46\": 3, \"22\": 1, \"1\": 6, \"0\": 2, \"16\": 1, \"31\": 1, \"54\": 1}, \"40\": {\"40\": 90, \"44\": 6, \"4\": 14, \"45\": 6, \"12\": 2, \"25\": 3, \"19\": 6, \"29\": 2, \"53\": 1, \"32\": 1, \"36\": 1, \"13\": 2, \"9\": 1, \"21\": 1}, \"15\": {\"15\": 129, \"24\": 1, \"11\": 9, \"0\": 1, \"13\": 1, \"6\": 1}, \"42\": {\"42\": 28}, \"55\": {\"55\": 67, \"6\": 8, \"42\": 2, \"7\": 5, \"2\": 1, \"53\": 3, \"24\": 7, \"22\": 7, \"54\": 5, \"13\": 5, \"29\": 1, \"48\": 3, \"56\": 6, \"21\": 3, \"46\": 8, \"50\": 4, \"3\": 3, \"5\": 3, \"34\": 1, \"31\": 1, \"10\": 1, \"51\": 2, \"12\": 2, \"26\": 1, \"43\": 1}, \"49\": {\"49\": 16, \"24\": 4}, \"30\": {\"30\": 110, \"16\": 2, \"7\": 1, \"8\": 2, \"36\": 1, \"18\": 3, \"45\": 1}, \"50\": {\"50\": 75, \"3\": 8, \"8\": 12, \"37\": 1, \"36\": 4, \"46\": 6, \"17\": 2, \"27\": 16, \"21\": 1, \"19\": 1, \"48\": 1, \"6\": 2, \"42\": 1, \"53\": 2, \"51\": 1, \"25\": 1}, \"4\": {\"4\": 123, \"45\": 4, \"19\": 5, \"40\": 2, \"53\": 1, \"12\": 1}}, \"C_4\": {\"35\": {\"35\": 32, \"55\": 1, \"6\": 1, \"24\": 1, \"54\": 4, \"14\": 1}, \"25\": {\"25\": 30, \"8\": 3, \"9\": 6, \"4\": 4, \"12\": 4, \"36\": 3, \"54\": 6, \"27\": 13, \"26\": 1, \"50\": 9, \"45\": 1, \"31\": 1, \"35\": 1, \"18\": 3, \"42\": 1, \"44\": 5, \"57\": 5, \"29\": 3, \"48\": 4, \"19\": 7, \"3\": 7, \"21\": 4, \"51\": 2, \"55\": 2, \"33\": 1, \"28\": 1, \"30\": 3, \"5\": 1, \"17\": 1, \"23\": 1, \"56\": 1}, \"24\": {\"0\": 2, \"24\": 48, \"43\": 2, \"7\": 2, \"41\": 1, \"1\": 1}, \"48\": {\"48\": 121, \"51\": 2, \"36\": 3, \"18\": 4, \"3\": 2, \"23\": 1, \"57\": 1, \"54\": 1, \"6\": 2, \"10\": 1}, \"51\": {\"51\": 55, \"27\": 6, \"8\": 25, \"53\": 23, \"20\": 18, \"18\": 3, \"4\": 1, \"6\": 2, \"55\": 3, \"48\": 3, \"52\": 1, \"42\": 1, \"17\": 1, \"23\": 1, \"21\": 1}, \"13\": {\"13\": 115, \"47\": 1, \"22\": 2, \"36\": 1, \"27\": 1}, \"14\": {\"14\": 3, \"38\": 2, \"55\": 2, \"37\": 2, \"26\": 1, \"10\": 1, \"22\": 3, \"30\": 1, \"8\": 1}, \"32\": {\"32\": 19, \"24\": 2, \"49\": 3}, \"30\": {\"48\": 3, \"30\": 13, \"8\": 7, \"25\": 3, \"6\": 1, \"27\": 1, \"53\": 1, \"50\": 2, \"4\": 2, \"3\": 1, \"20\": 3, \"33\": 4, \"42\": 1, \"51\": 2}, \"34\": {\"34\": 24}, \"9\": {\"9\": 59, \"31\": 2, \"19\": 8, \"55\": 2, \"4\": 22, \"17\": 8, \"25\": 8, \"30\": 1, \"27\": 2, \"44\": 5, \"12\": 5, \"50\": 6, \"45\": 1, \"51\": 2, \"40\": 1, \"53\": 3, \"6\": 1}, \"1\": {\"1\": 36, \"43\": 2, \"47\": 1, \"24\": 1}, \"0\": {\"32\": 3, \"0\": 70, \"14\": 1, \"24\": 1, \"46\": 1, \"41\": 1, \"1\": 1, \"39\": 1, \"5\": 1}, \"38\": {\"38\": 39, \"13\": 1}, \"22\": {\"22\": 121, \"38\": 1, \"10\": 3, \"13\": 2, \"2\": 1}, \"40\": {\"40\": 65, \"6\": 2, \"44\": 14, \"4\": 4, \"12\": 1, \"10\": 1, \"56\": 1, \"19\": 15, \"9\": 12, \"55\": 1, \"25\": 1, \"51\": 1, \"50\": 1, \"57\": 1}, \"6\": {\"55\": 2, \"48\": 14, \"54\": 13, \"28\": 1, \"6\": 37, \"34\": 3, \"9\": 1, \"18\": 3, \"19\": 1, \"42\": 1, \"36\": 10, \"46\": 3, \"20\": 2, \"51\": 3, \"30\": 1, \"3\": 8, \"27\": 1, \"23\": 1, \"24\": 1, \"25\": 1, \"57\": 1, \"21\": 1, \"5\": 2, \"53\": 1}, \"16\": {\"16\": 76, \"52\": 3, \"11\": 1, \"38\": 1, \"43\": 3, \"23\": 4, \"5\": 5, \"15\": 2, \"46\": 1}, \"11\": {\"11\": 78, \"16\": 5, \"15\": 14, \"52\": 6, \"46\": 1}, \"20\": {\"20\": 111, \"18\": 1, \"48\": 3, \"5\": 1, \"36\": 1, \"23\": 2, \"51\": 2, \"8\": 1}, \"17\": {\"17\": 33, \"19\": 9, \"12\": 6, \"25\": 2, \"28\": 1, \"50\": 4, \"9\": 11, \"4\": 9, \"40\": 2, \"44\": 1, \"57\": 1, \"3\": 1}, \"26\": {\"26\": 15, \"31\": 1, \"28\": 2, \"53\": 2, \"3\": 1, \"48\": 1, \"42\": 2}, \"54\": {\"54\": 83, \"31\": 1, \"42\": 2, \"51\": 2, \"3\": 4, \"55\": 3, \"21\": 1, \"36\": 6, \"6\": 3, \"34\": 1, \"26\": 1, \"47\": 1}, \"55\": {\"34\": 3, \"55\": 65, \"14\": 2, \"31\": 2, \"24\": 2, \"28\": 6, \"49\": 1, \"54\": 6, \"13\": 8, \"51\": 10, \"6\": 5, \"48\": 8, \"53\": 4, \"47\": 2, \"3\": 5, \"5\": 5, \"21\": 3, \"29\": 2, \"36\": 2, \"27\": 1, \"38\": 1, \"46\": 1, \"2\": 2, \"26\": 2, \"22\": 1, \"56\": 4, \"43\": 1}, \"50\": {\"26\": 2, \"34\": 2, \"54\": 6, \"19\": 8, \"17\": 5, \"27\": 11, \"53\": 6, \"50\": 19, \"30\": 2, \"36\": 1, \"9\": 11, \"29\": 1, \"8\": 12, \"4\": 6, \"21\": 5, \"40\": 1, \"3\": 6, \"13\": 1, \"48\": 5, \"28\": 1, \"42\": 1, \"33\": 1, \"25\": 7, \"35\": 1, \"12\": 4, \"6\": 2, \"18\": 2, \"45\": 2, \"44\": 1}, \"19\": {\"19\": 79, \"31\": 1, \"12\": 4, \"9\": 12, \"25\": 8, \"17\": 4, \"50\": 7, \"4\": 4, \"44\": 9, \"40\": 5, \"53\": 1, \"6\": 2, \"27\": 1, \"20\": 1, \"30\": 2, \"13\": 1, \"29\": 1}, \"44\": {\"44\": 40, \"40\": 11, \"33\": 2, \"19\": 10, \"17\": 4, \"32\": 1, \"9\": 11, \"4\": 13, \"56\": 1, \"25\": 7, \"29\": 2, \"50\": 8, \"12\": 5, \"20\": 1, \"27\": 2, \"21\": 1, \"13\": 1, \"51\": 1, \"54\": 1}, \"47\": {\"47\": 114, \"1\": 1, \"46\": 5}, \"33\": {\"33\": 12, \"50\": 2, \"12\": 1, \"17\": 1, \"29\": 2, \"9\": 1, \"57\": 3, \"25\": 2, \"30\": 1, \"4\": 3, \"42\": 2, \"28\": 1, \"32\": 1, \"31\": 1, \"6\": 1, \"27\": 2}, \"5\": {\"5\": 62, \"47\": 5, \"39\": 1, \"23\": 10, \"46\": 2, \"42\": 1, \"3\": 3, \"52\": 7, \"55\": 2, \"16\": 4, \"54\": 3, \"41\": 2, \"43\": 3, \"6\": 1, \"15\": 2}, \"18\": {\"18\": 94, \"20\": 4, \"23\": 5, \"16\": 2, \"50\": 2, \"31\": 1}, \"21\": {\"21\": 34, \"50\": 4, \"27\": 5, \"33\": 1, \"30\": 3, \"51\": 13, \"53\": 10, \"55\": 8, \"42\": 3, \"17\": 2, \"4\": 1, \"20\": 4, \"8\": 13, \"23\": 1, \"48\": 1, \"29\": 2, \"57\": 2, \"36\": 1, \"12\": 2, \"6\": 3, \"3\": 3, \"19\": 1, \"35\": 1, \"18\": 2, \"54\": 1, \"9\": 1, \"25\": 1, \"10\": 1}, \"41\": {\"41\": 36}, \"23\": {\"23\": 125, \"5\": 1, \"18\": 2}, \"39\": {\"39\": 20}, \"37\": {\"54\": 1, \"37\": 16, \"31\": 1, \"34\": 1, \"3\": 1, \"35\": 2, \"30\": 1, \"55\": 1}, \"8\": {\"8\": 136, \"3\": 3, \"53\": 3, \"27\": 1, \"55\": 1}, \"49\": {\"49\": 13, \"1\": 2, \"11\": 1, \"0\": 2, \"32\": 2}, \"53\": {\"8\": 16, \"53\": 82, \"48\": 4, \"31\": 1, \"6\": 3, \"20\": 6, \"51\": 19, \"36\": 1, \"3\": 2, \"27\": 1, \"25\": 1, \"26\": 1, \"28\": 1, \"55\": 2}, \"31\": {\"28\": 2, \"31\": 14, \"6\": 3, \"55\": 1, \"54\": 2, \"47\": 1, \"37\": 1, \"7\": 2, \"38\": 1, \"10\": 1}, \"28\": {\"28\": 30, \"55\": 1, \"48\": 1}, \"3\": {\"3\": 60, \"20\": 3, \"34\": 3, \"24\": 1, \"8\": 2, \"55\": 2, \"18\": 1, \"42\": 2, \"2\": 1, \"54\": 9, \"51\": 3, \"6\": 2, \"47\": 2, \"36\": 11, \"48\": 6, \"50\": 1, \"23\": 1, \"53\": 2, \"26\": 2, \"33\": 2, \"28\": 2, \"21\": 2, \"5\": 2, \"27\": 2}, \"27\": {\"27\": 50, \"55\": 2, \"8\": 31, \"48\": 3, \"4\": 2, \"26\": 1, \"53\": 7, \"25\": 3, \"30\": 3, \"19\": 1, \"20\": 6, \"54\": 1, \"50\": 4, \"18\": 5, \"29\": 4, \"3\": 4, \"44\": 1, \"36\": 3, \"51\": 1, \"33\": 2, \"34\": 1, \"23\": 2, \"57\": 1}, \"46\": {\"32\": 4, \"46\": 68, \"52\": 6, \"11\": 2, \"39\": 1, \"24\": 1, \"5\": 4, \"13\": 5, \"16\": 7, \"43\": 6, \"0\": 5, \"15\": 1, \"47\": 10, \"38\": 2, \"1\": 4, \"22\": 1, \"23\": 1}, \"12\": {\"12\": 30, \"17\": 4, \"27\": 5, \"25\": 8, \"4\": 6, \"19\": 3, \"30\": 4, \"50\": 5, \"54\": 1, \"9\": 10, \"45\": 1, \"29\": 4, \"55\": 1, \"44\": 3, \"21\": 2, \"35\": 1, \"26\": 1, \"36\": 1, \"3\": 1, \"13\": 1}, \"7\": {\"7\": 23, \"55\": 1}, \"4\": {\"4\": 69, \"25\": 3, \"9\": 18, \"48\": 3, \"50\": 11, \"17\": 8, \"19\": 5, \"12\": 6, \"44\": 5, \"33\": 1, \"36\": 1, \"27\": 1, \"53\": 1}, \"42\": {\"42\": 32}, \"43\": {\"43\": 124, \"5\": 1, \"46\": 3, \"54\": 1, \"38\": 1}, \"29\": {\"29\": 62, \"46\": 4, \"20\": 3, \"1\": 1, \"28\": 1, \"56\": 5, \"27\": 4, \"36\": 2, \"5\": 2, \"47\": 9, \"57\": 13, \"48\": 7, \"3\": 3, \"26\": 1, \"54\": 1, \"18\": 1, \"21\": 1}, \"57\": {\"47\": 9, \"1\": 2, \"57\": 66, \"49\": 1, \"29\": 6, \"16\": 3, \"46\": 5, \"5\": 1, \"11\": 1, \"18\": 1, \"43\": 1, \"39\": 1, \"42\": 1, \"48\": 1, \"20\": 1}, \"52\": {\"52\": 100, \"16\": 1, \"23\": 1, \"46\": 1, \"15\": 1}, \"45\": {\"45\": 88, \"4\": 2, \"30\": 1, \"12\": 3, \"25\": 1, \"40\": 1}, \"36\": {\"36\": 92}, \"10\": {\"10\": 109, \"2\": 1, \"22\": 5, \"11\": 1, \"46\": 2, \"21\": 2, \"15\": 2, \"43\": 3, \"56\": 1}, \"15\": {\"15\": 120, \"16\": 5, \"11\": 2, \"5\": 2, \"52\": 5}, \"56\": {\"1\": 5, \"56\": 53, \"29\": 10, \"38\": 3, \"2\": 2, \"18\": 1, \"22\": 9, \"50\": 1, \"57\": 5, \"46\": 11, \"0\": 4, \"27\": 3, \"55\": 2, \"43\": 5, \"31\": 1, \"49\": 1, \"39\": 1, \"47\": 5, \"33\": 1, \"13\": 1}, \"2\": {\"2\": 36}}, \"C_5\": {\"47\": {\"47\": 92, \"49\": 1, \"14\": 1, \"54\": 2, \"3\": 2, \"46\": 1, \"43\": 1}, \"53\": {\"53\": 111, \"1\": 7, \"51\": 5, \"48\": 5, \"27\": 1, \"7\": 1, \"8\": 11, \"6\": 5, \"12\": 1, \"32\": 1, \"20\": 1, \"50\": 1}, \"29\": {\"17\": 2, \"29\": 50, \"28\": 1, \"14\": 2, \"24\": 1, \"25\": 7, \"1\": 3, \"43\": 3, \"47\": 3, \"48\": 3, \"44\": 14, \"50\": 3, \"46\": 2, \"40\": 1, \"54\": 5, \"13\": 5, \"19\": 6, \"36\": 3, \"6\": 2, \"57\": 5, \"56\": 2, \"3\": 1, \"0\": 1, \"27\": 1}, \"52\": {\"52\": 127, \"54\": 1, \"46\": 1, \"11\": 1}, \"55\": {\"6\": 3, \"55\": 51, \"48\": 4, \"38\": 2, \"32\": 1, \"30\": 5, \"17\": 8, \"4\": 2, \"25\": 7, \"12\": 4, \"9\": 23, \"45\": 6, \"53\": 2, \"27\": 8, \"44\": 2, \"50\": 8, \"19\": 3, \"5\": 1, \"26\": 1, \"7\": 1, \"13\": 1, \"52\": 1}, \"17\": {\"55\": 4, \"42\": 1, \"17\": 45, \"48\": 3, \"50\": 3, \"12\": 5, \"38\": 2, \"30\": 6, \"32\": 1, \"9\": 11, \"27\": 7, \"19\": 3, \"6\": 4, \"25\": 6, \"54\": 2, \"8\": 1, \"45\": 6, \"40\": 1, \"18\": 1, \"53\": 2, \"44\": 1, \"1\": 1}, \"42\": {\"42\": 40}, \"33\": {\"33\": 13, \"42\": 1, \"28\": 4, \"6\": 1, \"32\": 6, \"47\": 1, \"41\": 1, \"48\": 2, \"53\": 1, \"21\": 1, \"1\": 1}, \"11\": {\"11\": 110, \"16\": 5, \"52\": 8, \"15\": 16, \"3\": 4, \"0\": 1, \"46\": 1, \"43\": 1, \"23\": 1, \"56\": 1}, \"19\": {\"6\": 2, \"17\": 9, \"19\": 37, \"30\": 12, \"45\": 4, \"27\": 10, \"48\": 4, \"9\": 9, \"25\": 10, \"1\": 2, \"51\": 1, \"54\": 3, \"50\": 5, \"44\": 2, \"55\": 2, \"32\": 1, \"38\": 1, \"36\": 1, \"57\": 1, \"4\": 1, \"53\": 1}, \"1\": {\"1\": 120, \"34\": 1, \"27\": 4, \"53\": 3, \"8\": 1, \"48\": 9, \"57\": 3, \"55\": 1, \"50\": 2}, \"44\": {\"44\": 50, \"29\": 18, \"34\": 4, \"56\": 8, \"22\": 3, \"33\": 2, \"25\": 1, \"1\": 9, \"2\": 1, \"47\": 4, \"36\": 7, \"10\": 3, \"57\": 3, \"14\": 2, \"52\": 2, \"50\": 6, \"40\": 3, \"48\": 8, \"21\": 2, \"28\": 1, \"13\": 2, \"32\": 1, \"43\": 1, \"54\": 1}, \"49\": {\"49\": 36}, \"4\": {\"4\": 81, \"12\": 2, \"53\": 2, \"9\": 5, \"52\": 1, \"55\": 3, \"17\": 1, \"5\": 1, \"26\": 1, \"46\": 1, \"30\": 1, \"50\": 1}, \"6\": {\"53\": 8, \"6\": 15, \"8\": 11, \"51\": 3, \"9\": 6, \"33\": 1, \"23\": 2, \"20\": 12, \"45\": 4, \"52\": 2, \"5\": 2, \"1\": 5, \"50\": 5, \"21\": 8, \"44\": 1, \"48\": 5, \"27\": 4, \"25\": 2, \"30\": 5, \"17\": 2, \"40\": 1, \"36\": 2, \"10\": 1, \"19\": 1, \"18\": 1, \"55\": 1, \"47\": 2, \"16\": 1, \"54\": 2, \"12\": 1}, \"39\": {\"39\": 20}, \"50\": {\"21\": 5, \"28\": 3, \"27\": 3, \"53\": 15, \"19\": 4, \"1\": 13, \"42\": 2, \"35\": 2, \"8\": 4, \"50\": 32, \"25\": 3, \"7\": 1, \"43\": 2, \"48\": 10, \"13\": 2, \"24\": 1, \"18\": 1, \"17\": 3, \"54\": 13, \"23\": 1, \"9\": 6, \"20\": 4, \"36\": 3, \"45\": 4, \"30\": 4, \"6\": 1, \"32\": 1, \"14\": 1, \"47\": 3, \"3\": 1}, \"56\": {\"56\": 125, \"13\": 1, \"24\": 1, \"3\": 1, \"0\": 2}, \"25\": {\"17\": 8, \"39\": 3, \"6\": 5, \"30\": 5, \"19\": 6, \"45\": 5, \"42\": 2, \"27\": 13, \"12\": 3, \"25\": 26, \"53\": 3, \"50\": 12, \"29\": 2, \"36\": 1, \"9\": 6, \"48\": 6, \"47\": 1, \"54\": 7, \"1\": 4, \"55\": 5, \"57\": 6, \"13\": 2, \"21\": 2, \"4\": 2, \"5\": 1, \"8\": 2, \"43\": 1, \"37\": 2, \"34\": 1, \"41\": 1, \"40\": 1}, \"28\": {\"28\": 27, \"54\": 2, \"33\": 2, \"14\": 1}, \"35\": {\"35\": 36}, \"24\": {\"24\": 68, \"56\": 3, \"14\": 1, \"35\": 1, \"3\": 3, \"43\": 1, \"49\": 2, \"0\": 1}, \"21\": {\"21\": 118, \"8\": 4, \"1\": 2, \"43\": 1, \"16\": 1, \"23\": 2, \"53\": 1, \"20\": 3}, \"45\": {\"17\": 8, \"48\": 2, \"9\": 11, \"45\": 35, \"55\": 6, \"33\": 1, \"21\": 1, \"12\": 7, \"13\": 3, \"29\": 1, \"1\": 2, \"25\": 7, \"54\": 2, \"50\": 4, \"53\": 4, \"7\": 1, \"36\": 2, \"10\": 1, \"30\": 4, \"19\": 8, \"4\": 2, \"26\": 1, \"38\": 1, \"42\": 1, \"5\": 1, \"27\": 2, \"57\": 1, \"6\": 3, \"47\": 1, \"52\": 1}, \"16\": {\"16\": 120, \"23\": 6, \"3\": 4, \"55\": 1, \"43\": 5, \"52\": 3, \"30\": 1, \"57\": 1, \"11\": 1, \"21\": 2}, \"37\": {\"28\": 2, \"37\": 11, \"7\": 1, \"29\": 2, \"36\": 1, \"17\": 1, \"21\": 1, \"26\": 2, \"20\": 1, \"10\": 1, \"43\": 1}, \"57\": {\"57\": 122, \"52\": 1, \"43\": 4, \"23\": 1, \"34\": 2, \"16\": 2}, \"34\": {\"34\": 31, \"1\": 2, \"3\": 1, \"46\": 2}, \"38\": {\"45\": 6, \"38\": 14, \"55\": 1, \"9\": 1, \"30\": 4, \"25\": 1, \"17\": 3, \"19\": 2}, \"48\": {\"53\": 14, \"34\": 1, \"48\": 54, \"8\": 8, \"33\": 1, \"27\": 4, \"57\": 1, \"50\": 7, \"12\": 1, \"1\": 23, \"54\": 1, \"17\": 1, \"21\": 2, \"55\": 2, \"32\": 2, \"18\": 1, \"30\": 1, \"25\": 5, \"6\": 1}, \"26\": {\"48\": 3, \"26\": 6, \"54\": 2, \"33\": 1, \"17\": 3, \"1\": 1, \"32\": 1, \"6\": 2, \"41\": 2, \"30\": 2, \"20\": 1}, \"9\": {\"48\": 1, \"45\": 10, \"55\": 5, \"38\": 1, \"9\": 95, \"12\": 4, \"17\": 7, \"53\": 2, \"13\": 1, \"1\": 1, \"40\": 1, \"5\": 1, \"30\": 4, \"20\": 1, \"50\": 1, \"25\": 3, \"19\": 6, \"4\": 2, \"6\": 5, \"54\": 1}, \"18\": {\"18\": 61, \"23\": 1, \"8\": 2}, \"3\": {\"3\": 43, \"23\": 3, \"35\": 3, \"46\": 14, \"52\": 4, \"57\": 4, \"11\": 6, \"43\": 2, \"24\": 2, \"16\": 1, \"56\": 3, \"49\": 1, \"13\": 3, \"14\": 1, \"36\": 2, \"47\": 2, \"0\": 4, \"41\": 2}, \"23\": {\"23\": 123, \"41\": 1}, \"15\": {\"15\": 136, \"23\": 1, \"11\": 13, \"3\": 1, \"13\": 1, \"36\": 1, \"52\": 1}, \"10\": {\"10\": 67, \"56\": 1}, \"46\": {\"3\": 12, \"46\": 98, \"49\": 2, \"0\": 8, \"52\": 3, \"43\": 3, \"11\": 5, \"54\": 1, \"23\": 8, \"36\": 1, \"56\": 2, \"16\": 2, \"57\": 2, \"47\": 1}, \"22\": {\"22\": 13, \"34\": 1, \"44\": 1, \"56\": 2, \"29\": 1, \"14\": 2, \"2\": 1, \"24\": 1, \"27\": 1, \"48\": 1, \"36\": 3, \"49\": 1}, \"54\": {\"54\": 95, \"7\": 1, \"53\": 3, \"43\": 3, \"48\": 2, \"56\": 1, \"47\": 5, \"36\": 2}, \"27\": {\"34\": 3, \"27\": 45, \"50\": 3, \"1\": 22, \"17\": 4, \"6\": 8, \"30\": 3, \"42\": 2, \"53\": 21, \"32\": 4, \"48\": 14, \"8\": 7, \"21\": 4, \"20\": 3, \"43\": 1, \"25\": 4, \"57\": 3, \"55\": 1, \"41\": 2, \"28\": 1, \"36\": 2, \"51\": 1, \"7\": 1, \"18\": 1}, \"41\": {\"41\": 28}, \"31\": {\"31\": 36}, \"0\": {\"0\": 112, \"3\": 2, \"24\": 3, \"43\": 2, \"46\": 4, \"11\": 1}, \"7\": {\"34\": 1, \"7\": 7, \"21\": 2, \"53\": 9, \"9\": 1, \"48\": 1, \"8\": 4, \"12\": 2, \"25\": 1, \"32\": 1, \"18\": 2, \"1\": 1}, \"2\": {\"2\": 28}, \"14\": {\"14\": 17, \"49\": 2, \"24\": 4, \"28\": 2, \"54\": 4, \"53\": 1, \"3\": 4, \"1\": 1, \"47\": 2, \"36\": 3, \"46\": 1, \"27\": 1, \"56\": 1, \"50\": 1}, \"40\": {\"38\": 1, \"40\": 57, \"5\": 10, \"45\": 1, \"33\": 2, \"12\": 4, \"21\": 1, \"10\": 1, \"7\": 2, \"19\": 4, \"44\": 2, \"53\": 3, \"55\": 2, \"9\": 6, \"13\": 5, \"17\": 3, \"30\": 3, \"25\": 4, \"52\": 2, \"50\": 4, \"32\": 1, \"22\": 1, \"36\": 1, \"3\": 1, \"29\": 2, \"6\": 1}, \"5\": {\"17\": 1, \"21\": 1, \"9\": 10, \"37\": 1, \"5\": 65, \"45\": 3, \"26\": 1, \"30\": 5, \"12\": 10, \"13\": 1, \"52\": 2, \"40\": 8, \"50\": 3, \"25\": 1, \"29\": 1, \"6\": 3, \"55\": 2, \"10\": 3, \"19\": 3, \"44\": 2, \"4\": 1, \"54\": 1}, \"12\": {\"21\": 5, \"9\": 6, \"37\": 1, \"53\": 13, \"17\": 1, \"1\": 2, \"50\": 4, \"45\": 6, \"6\": 1, \"12\": 15, \"33\": 1, \"7\": 4, \"32\": 1, \"4\": 4, \"8\": 3, \"10\": 2, \"27\": 2, \"51\": 4, \"30\": 5, \"55\": 1, \"20\": 2, \"40\": 1, \"25\": 2, \"39\": 1, \"38\": 1, \"5\": 3, \"36\": 1, \"52\": 2, \"48\": 1, \"19\": 1}, \"43\": {\"36\": 3, \"43\": 136, \"15\": 1, \"54\": 1, \"27\": 1}, \"13\": {\"13\": 132, \"49\": 1, \"24\": 6, \"29\": 3, \"50\": 1, \"25\": 1, \"22\": 1, \"54\": 1, \"56\": 1, \"27\": 1}, \"36\": {\"36\": 91, \"14\": 1}, \"8\": {\"8\": 141, \"18\": 3, \"1\": 2, \"20\": 1, \"45\": 1, \"17\": 1, \"27\": 1}, \"32\": {\"1\": 4, \"32\": 13, \"50\": 1, \"38\": 1, \"25\": 1, \"27\": 1, \"48\": 5, \"33\": 1, \"34\": 1, \"45\": 1, \"42\": 1, \"12\": 1, \"28\": 1}, \"30\": {\"30\": 58, \"6\": 8, \"17\": 8, \"19\": 9, \"25\": 7, \"53\": 2, \"50\": 3, \"1\": 3, \"9\": 7, \"48\": 3, \"12\": 2, \"27\": 7, \"45\": 4, \"54\": 2, \"38\": 1, \"36\": 1, \"7\": 1, \"47\": 1, \"55\": 1}, \"51\": {\"51\": 100, \"8\": 12, \"20\": 15, \"53\": 4, \"21\": 2, \"9\": 1, \"18\": 1, \"38\": 1, \"6\": 1, \"1\": 1}, \"20\": {\"20\": 128, \"18\": 5, \"8\": 2, \"16\": 1, \"51\": 1, \"48\": 1}}, \"C_1\": {\"46\": {\"46\": 71, \"10\": 2, \"4\": 8, \"25\": 6, \"1\": 1, \"50\": 12, \"40\": 4, \"55\": 2, \"57\": 3, \"48\": 13, \"29\": 1, \"20\": 1, \"30\": 1, \"5\": 5, \"13\": 3, \"53\": 3, \"41\": 1, \"51\": 2, \"6\": 1}, \"16\": {\"16\": 117, \"36\": 4, \"32\": 1, \"9\": 1, \"51\": 3, \"45\": 4, \"18\": 3, \"54\": 1}, \"26\": {\"26\": 24}, \"10\": {\"10\": 84, \"15\": 3, \"27\": 2, \"11\": 4, \"21\": 3}, \"9\": {\"9\": 151, \"18\": 3, \"51\": 2}, \"28\": {\"52\": 1, \"28\": 27}, \"51\": {\"51\": 101, \"8\": 4, \"36\": 1, \"2\": 1, \"15\": 1, \"42\": 1, \"5\": 1, \"53\": 13, \"30\": 2, \"18\": 3, \"12\": 1, \"9\": 10, \"45\": 4, \"16\": 7, \"20\": 5, \"41\": 1}, \"1\": {\"1\": 39, \"19\": 11, \"47\": 9, \"56\": 11, \"37\": 2, \"44\": 2, \"7\": 2, \"42\": 1, \"5\": 3, \"32\": 1, \"20\": 6, \"54\": 1, \"30\": 3, \"14\": 1, \"16\": 3, \"45\": 1, \"24\": 1, \"25\": 2, \"55\": 1}, \"55\": {\"55\": 119, \"39\": 1, \"22\": 4, \"49\": 1, \"37\": 5, \"24\": 2, \"27\": 1, \"52\": 3, \"26\": 1, \"12\": 2, \"2\": 1, \"54\": 3, \"20\": 1, \"5\": 2, \"13\": 1, \"45\": 1}, \"27\": {\"27\": 116, \"32\": 2, \"10\": 1, \"47\": 1, \"24\": 2, \"43\": 1, \"52\": 1}, \"22\": {\"28\": 2, \"22\": 101, \"39\": 1, \"24\": 16, \"54\": 1, \"0\": 1, \"27\": 2}, \"52\": {\"52\": 125, \"31\": 1}, \"3\": {\"3\": 84, \"10\": 1, \"33\": 1, \"35\": 1, \"13\": 19, \"55\": 5, \"12\": 3, \"24\": 3, \"6\": 1, \"43\": 4, \"19\": 2, \"5\": 5, \"25\": 2, \"46\": 1, \"29\": 2, \"52\": 1, \"47\": 1, \"49\": 1, \"20\": 1, \"57\": 1, \"44\": 1}, \"33\": {\"33\": 32}, \"47\": {\"47\": 115, \"52\": 1, \"44\": 1, \"27\": 3}, \"42\": {\"42\": 39, \"45\": 1}, \"12\": {\"12\": 59, \"7\": 1, \"42\": 2, \"36\": 3, \"16\": 10, \"5\": 2, \"30\": 1, \"20\": 11, \"45\": 8, \"51\": 5, \"43\": 3, \"9\": 1, \"41\": 2, \"13\": 1, \"54\": 1, \"2\": 3, \"11\": 1, \"53\": 1, \"18\": 1}, \"23\": {\"23\": 132}, \"49\": {\"49\": 27, \"24\": 2, \"22\": 1, \"39\": 1, \"52\": 1}, \"7\": {\"7\": 28}, \"4\": {\"4\": 120, \"48\": 2, \"50\": 2, \"40\": 5, \"13\": 1, \"3\": 1, \"56\": 1}, \"50\": {\"46\": 11, \"50\": 80, \"6\": 8, \"17\": 1, \"25\": 7, \"48\": 17, \"29\": 2, \"40\": 3, \"57\": 1, \"56\": 1, \"5\": 2, \"55\": 1}, \"19\": {\"19\": 59, \"57\": 4, \"45\": 15, \"8\": 8, \"26\": 1, \"1\": 7, \"56\": 19, \"35\": 3, \"44\": 5, \"51\": 3, \"30\": 2, \"53\": 1, \"6\": 2, \"20\": 6, \"47\": 4, \"27\": 1, \"16\": 3, \"25\": 2, \"14\": 1, \"7\": 1, \"54\": 2, \"32\": 1, \"5\": 1, \"42\": 2, \"9\": 1}, \"11\": {\"11\": 110, \"21\": 17, \"52\": 1, \"15\": 6, \"0\": 1, \"23\": 4, \"10\": 1}, \"31\": {\"31\": 19, \"38\": 1, \"24\": 3, \"22\": 1, \"15\": 1, \"0\": 1, \"28\": 1, \"52\": 1}, \"41\": {\"41\": 8, \"45\": 2, \"13\": 1, \"8\": 2, \"51\": 6, \"53\": 2, \"12\": 2, \"20\": 1}, \"56\": {\"7\": 2, \"19\": 16, \"56\": 53, \"26\": 1, \"1\": 8, \"44\": 9, \"25\": 1, \"27\": 1, \"45\": 14, \"20\": 5, \"30\": 1, \"16\": 3, \"47\": 16, \"12\": 1, \"57\": 2, \"54\": 1, \"51\": 2, \"42\": 1, \"0\": 1}, \"0\": {\"0\": 144, \"23\": 1, \"54\": 3}, \"57\": {\"2\": 2, \"57\": 50, \"29\": 1, \"13\": 2, \"1\": 10, \"14\": 1, \"35\": 3, \"55\": 2, \"56\": 6, \"19\": 9, \"5\": 1, \"45\": 6, \"46\": 1, \"44\": 8, \"47\": 5, \"20\": 9, \"53\": 3, \"0\": 1, \"3\": 1, \"37\": 1, \"25\": 3, \"16\": 1, \"12\": 1, \"30\": 1}, \"53\": {\"53\": 100, \"8\": 8, \"51\": 11, \"30\": 5, \"5\": 2, \"9\": 2, \"6\": 2, \"20\": 2, \"16\": 1, \"41\": 3, \"18\": 2, \"45\": 2}, \"43\": {\"43\": 99, \"11\": 4, \"47\": 4, \"22\": 2, \"27\": 16, \"24\": 1, \"10\": 8, \"52\": 4, \"39\": 2, \"28\": 1, \"20\": 1, \"54\": 1, \"12\": 1}, \"37\": {\"26\": 1, \"33\": 3, \"37\": 17, \"1\": 2, \"56\": 1, \"22\": 1, \"24\": 2, \"54\": 1, \"32\": 1, \"25\": 1, \"55\": 2}, \"2\": {\"56\": 1, \"2\": 11, \"8\": 3, \"26\": 1, \"36\": 1, \"6\": 1, \"37\": 1, \"13\": 1, \"30\": 5, \"12\": 1, \"17\": 3, \"25\": 1, \"43\": 1, \"53\": 1, \"51\": 1, \"1\": 1, \"5\": 1, \"19\": 1}, \"6\": {\"6\": 24, \"53\": 8, \"18\": 4, \"13\": 1, \"41\": 1, \"19\": 5, \"17\": 3, \"30\": 10, \"5\": 5, \"1\": 1, \"14\": 1, \"8\": 12, \"48\": 3, \"25\": 4, \"29\": 1, \"50\": 5, \"46\": 1, \"56\": 1, \"2\": 1, \"9\": 2, \"43\": 1, \"40\": 1, \"12\": 1}, \"13\": {\"13\": 84, \"20\": 11, \"53\": 12, \"56\": 1, \"14\": 2, \"16\": 3, \"3\": 7, \"51\": 7, \"19\": 4, \"12\": 6, \"5\": 4, \"30\": 1, \"55\": 1, \"43\": 2, \"26\": 1, \"32\": 1, \"2\": 1, \"45\": 1, \"44\": 1}, \"18\": {\"18\": 67, \"16\": 3, \"8\": 1, \"30\": 1}, \"36\": {\"36\": 60, \"16\": 2, \"23\": 1, \"42\": 1}, \"29\": {\"13\": 8, \"29\": 59, \"51\": 3, \"5\": 6, \"52\": 2, \"17\": 2, \"3\": 8, \"6\": 3, \"25\": 6, \"46\": 8, \"40\": 5, \"12\": 1, \"19\": 2, \"1\": 1, \"35\": 1, \"48\": 8, \"53\": 3, \"44\": 2, \"57\": 3, \"26\": 1, \"45\": 2, \"55\": 1, \"43\": 2, \"50\": 3}, \"39\": {\"39\": 26, \"52\": 2}, \"17\": {\"6\": 5, \"17\": 33, \"48\": 3, \"25\": 2, \"14\": 2, \"5\": 4, \"30\": 2, \"50\": 2, \"9\": 2, \"19\": 2, \"53\": 3, \"8\": 2, \"1\": 1, \"45\": 1}, \"21\": {\"21\": 96, \"11\": 11, \"15\": 16, \"23\": 1}, \"25\": {\"25\": 48, \"50\": 10, \"8\": 3, \"1\": 6, \"33\": 1, \"37\": 2, \"48\": 19, \"6\": 4, \"32\": 1, \"17\": 2, \"5\": 5, \"53\": 2, \"46\": 8, \"20\": 2, \"56\": 3, \"30\": 4, \"19\": 1, \"29\": 1, \"16\": 3, \"0\": 2, \"55\": 1, \"9\": 2, \"45\": 1, \"2\": 1}, \"45\": {\"45\": 141, \"42\": 1}, \"38\": {\"38\": 21, \"54\": 1, \"24\": 2}, \"30\": {\"30\": 114, \"8\": 2, \"45\": 2, \"18\": 2}, \"24\": {\"24\": 97, \"22\": 9, \"49\": 2}, \"20\": {\"20\": 88, \"12\": 4, \"16\": 10, \"19\": 1, \"51\": 11, \"18\": 2, \"53\": 2, \"45\": 9, \"11\": 1, \"41\": 1, \"36\": 2, \"33\": 1, \"14\": 1, \"42\": 2, \"30\": 2, \"10\": 1, \"13\": 1, \"9\": 1}, \"8\": {\"8\": 128, \"30\": 8, \"53\": 3, \"6\": 1}, \"35\": {\"54\": 2, \"35\": 12, \"26\": 4, \"1\": 3, \"42\": 3, \"57\": 2, \"5\": 1, \"44\": 5, \"56\": 1, \"37\": 1, \"45\": 1, \"19\": 1}, \"54\": {\"54\": 104}, \"5\": {\"51\": 5, \"5\": 25, \"50\": 3, \"53\": 6, \"30\": 19, \"17\": 4, \"7\": 2, \"33\": 1, \"12\": 5, \"55\": 6, \"6\": 3, \"48\": 9, \"8\": 13, \"54\": 4, \"13\": 3, \"20\": 5, \"25\": 8, \"29\": 2, \"9\": 1, \"16\": 8, \"45\": 7, \"56\": 1, \"37\": 1, \"2\": 1, \"19\": 2, \"43\": 1, \"1\": 1, \"0\": 1, \"22\": 1}, \"48\": {\"48\": 64, \"50\": 14, \"25\": 16, \"6\": 8, \"17\": 6, \"29\": 3, \"46\": 14, \"19\": 3, \"56\": 6, \"8\": 1, \"5\": 5, \"57\": 1, \"1\": 1, \"47\": 2}, \"15\": {\"23\": 3, \"21\": 15, \"15\": 111, \"11\": 11, \"10\": 1, \"22\": 1}, \"34\": {\"34\": 24}, \"14\": {\"14\": 18, \"45\": 2, \"30\": 2, \"18\": 2}, \"32\": {\"32\": 26, \"54\": 5, \"55\": 1}, \"40\": {\"40\": 109, \"29\": 4, \"5\": 1, \"35\": 1, \"46\": 13, \"13\": 2, \"17\": 1, \"4\": 6, \"3\": 3, \"48\": 2, \"57\": 1, \"6\": 2, \"50\": 2, \"44\": 1}, \"44\": {\"44\": 37, \"7\": 1, \"42\": 4, \"54\": 16, \"56\": 9, \"19\": 5, \"47\": 25, \"32\": 1, \"43\": 2, \"16\": 2, \"24\": 2, \"22\": 1, \"27\": 2, \"25\": 2, \"20\": 5, \"12\": 2, \"17\": 1, \"45\": 4, \"10\": 2, \"57\": 5, \"35\": 2, \"0\": 2, \"37\": 1, \"1\": 2, \"55\": 1}}, \"C_2\": {\"36\": {\"50\": 14, \"36\": 59, \"42\": 2, \"32\": 1, \"48\": 1, \"2\": 1, \"49\": 2, \"25\": 4, \"27\": 4, \"12\": 2, \"54\": 2, \"9\": 3, \"46\": 7, \"3\": 1, \"57\": 1, \"6\": 3, \"33\": 1, \"34\": 2, \"8\": 3, \"20\": 1, \"53\": 2}, \"5\": {\"5\": 111, \"28\": 1, \"47\": 1, \"1\": 1, \"46\": 1, \"43\": 5}, \"45\": {\"36\": 2, \"4\": 7, \"40\": 13, \"45\": 59, \"35\": 8, \"29\": 2, \"19\": 7, \"17\": 3, \"9\": 11, \"25\": 4, \"20\": 1, \"24\": 1, \"1\": 1, \"44\": 4, \"37\": 1, \"27\": 1, \"48\": 1, \"51\": 2}, \"49\": {\"41\": 1, \"49\": 21, \"36\": 2}, \"50\": {\"50\": 83, \"36\": 8, \"26\": 1, \"2\": 3, \"34\": 1, \"23\": 2, \"46\": 5, \"27\": 15, \"53\": 7, \"40\": 1, \"21\": 1, \"18\": 2, \"8\": 4, \"48\": 1, \"5\": 1, \"55\": 1}, \"4\": {\"45\": 8, \"4\": 112, \"25\": 2, \"19\": 4, \"40\": 5, \"53\": 2, \"9\": 4, \"12\": 1}, \"43\": {\"43\": 147, \"5\": 1}, \"41\": {\"41\": 18, \"34\": 2}, \"37\": {\"37\": 21, \"49\": 3, \"55\": 2, \"42\": 1, \"2\": 1, \"31\": 2, \"46\": 2, \"24\": 1, \"13\": 2, \"34\": 1}, \"12\": {\"36\": 3, \"12\": 17, \"6\": 7, \"48\": 4, \"51\": 4, \"14\": 2, \"8\": 1, \"17\": 2, \"53\": 12, \"9\": 2, \"21\": 5, \"4\": 2, \"50\": 6, \"55\": 3, \"3\": 2, \"40\": 2, \"24\": 1, \"29\": 1, \"19\": 3, \"27\": 7, \"46\": 1, \"54\": 2, \"25\": 3}, \"33\": {\"36\": 2, \"33\": 2, \"26\": 1, \"34\": 2, \"51\": 3, \"2\": 6, \"55\": 2, \"53\": 2, \"29\": 1, \"57\": 1, \"37\": 1, \"27\": 1, \"8\": 2, \"12\": 2}, \"7\": {\"7\": 36}, \"56\": {\"56\": 127, \"22\": 11, \"24\": 2}, \"14\": {\"56\": 5, \"24\": 4, \"28\": 5, \"14\": 4, \"43\": 2, \"12\": 1, \"47\": 2, \"55\": 1}, \"52\": {\"52\": 124}, \"44\": {\"4\": 4, \"14\": 2, \"12\": 5, \"44\": 50, \"9\": 4, \"32\": 1, \"19\": 5, \"26\": 1, \"54\": 3, \"55\": 7, \"53\": 4, \"10\": 1, \"50\": 2, \"51\": 2, \"45\": 2, \"17\": 1, \"13\": 1, \"25\": 1}, \"48\": {\"48\": 132, \"34\": 1, \"5\": 1, \"2\": 2, \"55\": 1, \"6\": 1, \"1\": 2, \"46\": 3, \"50\": 1}, \"20\": {\"54\": 1, \"20\": 96, \"8\": 8, \"50\": 2, \"18\": 2, \"19\": 1, \"51\": 8, \"30\": 2, \"27\": 3, \"21\": 1, \"53\": 2, \"16\": 1, \"48\": 1}, \"55\": {\"55\": 68, \"5\": 6, \"31\": 3, \"2\": 3, \"42\": 2, \"28\": 2, \"13\": 8, \"24\": 6, \"56\": 9, \"53\": 2, \"37\": 1, \"21\": 2, \"47\": 6, \"22\": 5, \"1\": 1, \"46\": 5, \"48\": 1, \"43\": 3, \"57\": 3, \"20\": 1, \"34\": 2, \"12\": 1, \"14\": 1, \"54\": 1, \"50\": 2}, \"32\": {\"17\": 2, \"48\": 1, \"32\": 11, \"26\": 1, \"49\": 1, \"6\": 1, \"36\": 1, \"27\": 2, \"12\": 3, \"29\": 1, \"9\": 1, \"33\": 2, \"25\": 1}, \"40\": {\"40\": 88, \"35\": 2, \"26\": 1, \"45\": 12, \"19\": 6, \"4\": 16, \"25\": 4, \"9\": 3, \"6\": 1, \"55\": 1, \"51\": 1, \"29\": 1}, \"54\": {\"36\": 5, \"54\": 44, \"2\": 2, \"49\": 3, \"42\": 3, \"46\": 15, \"6\": 5, \"12\": 1, \"8\": 4, \"53\": 5, \"21\": 1, \"3\": 2, \"50\": 6, \"48\": 2, \"55\": 3, \"9\": 1, \"34\": 3, \"10\": 1, \"47\": 1, \"25\": 1}, \"17\": {\"32\": 1, \"48\": 8, \"9\": 4, \"51\": 3, \"20\": 5, \"36\": 4, \"17\": 33, \"18\": 3, \"53\": 6, \"8\": 2, \"39\": 1, \"50\": 7, \"6\": 2, \"49\": 1, \"19\": 3, \"12\": 2, \"3\": 1, \"21\": 3, \"27\": 5, \"26\": 1, \"29\": 3, \"30\": 1, \"25\": 3, \"57\": 1, \"55\": 1}, \"38\": {\"38\": 20}, \"24\": {\"38\": 1, \"24\": 91, \"43\": 4}, \"1\": {\"1\": 107, \"5\": 1, \"57\": 1, \"13\": 2, \"25\": 1}, \"6\": {\"54\": 7, \"6\": 53, \"28\": 1, \"18\": 2, \"46\": 13, \"16\": 2, \"21\": 6, \"52\": 1, \"25\": 1, \"48\": 10, \"29\": 1, \"50\": 7, \"12\": 1, \"13\": 1, \"30\": 11, \"23\": 2, \"9\": 1, \"55\": 1, \"42\": 1, \"34\": 1, \"27\": 1}, \"34\": {\"34\": 28}, \"11\": {\"11\": 112, \"52\": 5, \"15\": 12, \"43\": 2, \"16\": 5}, \"9\": {\"9\": 98, \"19\": 16, \"25\": 17, \"32\": 5, \"36\": 2, \"4\": 5, \"3\": 1, \"29\": 1, \"12\": 3, \"54\": 1, \"57\": 1}, \"8\": {\"8\": 131, \"50\": 4, \"27\": 15, \"20\": 2}, \"22\": {\"22\": 128, \"56\": 8}, \"26\": {\"14\": 2, \"34\": 1, \"51\": 1, \"12\": 2, \"26\": 11, \"2\": 2, \"27\": 1, \"17\": 1, \"36\": 1, \"49\": 1, \"53\": 1}, \"23\": {\"23\": 144, \"16\": 1, \"18\": 1}, \"10\": {\"10\": 99, \"46\": 1, \"43\": 5, \"22\": 4, \"11\": 1, \"24\": 1, \"48\": 1}, \"18\": {\"18\": 42, \"30\": 4, \"23\": 2}, \"13\": {\"13\": 106, \"24\": 5, \"22\": 1, \"47\": 1, \"17\": 1, \"32\": 1, \"21\": 1}, \"30\": {\"18\": 3, \"30\": 121, \"23\": 3, \"46\": 1}, \"42\": {\"46\": 1, \"42\": 33, \"39\": 1, \"54\": 1}, \"31\": {\"31\": 27, \"5\": 1}, \"46\": {\"46\": 68, \"47\": 8, \"16\": 11, \"2\": 1, \"50\": 3, \"23\": 6, \"7\": 3, \"24\": 3, \"30\": 2, \"6\": 3, \"43\": 1, \"48\": 13, \"27\": 1, \"49\": 1, \"39\": 1, \"21\": 1, \"5\": 1, \"54\": 1}, \"57\": {\"57\": 111, \"42\": 1, \"1\": 5, \"5\": 1, \"16\": 8, \"30\": 2, \"23\": 2, \"47\": 6, \"11\": 2, \"29\": 1, \"50\": 1, \"48\": 2}, \"47\": {\"7\": 1, \"47\": 134, \"43\": 2, \"28\": 1}, \"35\": {\"40\": 1, \"35\": 25, \"36\": 1, \"12\": 2, \"45\": 1, \"4\": 2}, \"15\": {\"15\": 120, \"50\": 1, \"52\": 5, \"16\": 1, \"11\": 4, \"23\": 1}, \"25\": {\"17\": 6, \"19\": 11, \"51\": 3, \"29\": 7, \"12\": 3, \"25\": 32, \"45\": 6, \"9\": 18, \"40\": 3, \"47\": 3, \"46\": 5, \"36\": 2, \"4\": 7, \"3\": 3, \"57\": 8, \"6\": 3, \"55\": 2, \"53\": 5, \"8\": 1, \"20\": 3, \"5\": 1, \"32\": 1, \"21\": 1, \"27\": 1, \"50\": 1}, \"19\": {\"25\": 13, \"19\": 78, \"54\": 1, \"12\": 1, \"29\": 1, \"9\": 24, \"17\": 3, \"4\": 6, \"55\": 2, \"46\": 1, \"50\": 1, \"32\": 1, \"3\": 1, \"36\": 1, \"53\": 1, \"44\": 1}, \"51\": {\"51\": 66, \"50\": 2, \"53\": 10, \"8\": 11, \"21\": 10, \"27\": 7, \"20\": 17, \"55\": 1, \"16\": 1, \"18\": 1, \"17\": 1, \"10\": 1}, \"53\": {\"53\": 75, \"6\": 2, \"27\": 11, \"50\": 9, \"55\": 1, \"2\": 1, \"8\": 8, \"52\": 1, \"20\": 4, \"21\": 2, \"51\": 12, \"3\": 1, \"45\": 1, \"34\": 1, \"54\": 3, \"36\": 1, \"40\": 1}, \"21\": {\"16\": 7, \"21\": 86, \"48\": 2, \"46\": 1, \"2\": 1, \"12\": 1, \"52\": 8, \"17\": 4, \"55\": 1, \"13\": 1, \"18\": 2, \"51\": 4, \"6\": 1, \"50\": 1}, \"39\": {\"39\": 27, \"3\": 1}, \"2\": {\"2\": 31, \"34\": 1}, \"16\": {\"16\": 122, \"23\": 17, \"15\": 4, \"46\": 1, \"11\": 3, \"5\": 3}, \"0\": {\"0\": 43, \"43\": 1, \"23\": 1, \"5\": 1, \"15\": 1, \"47\": 1}, \"3\": {\"34\": 2, \"3\": 18, \"36\": 6, \"41\": 2, \"21\": 5, \"54\": 4, \"33\": 1, \"53\": 3, \"19\": 2, \"50\": 11, \"47\": 3, \"48\": 1, \"46\": 2, \"6\": 4, \"12\": 1, \"8\": 4, \"43\": 2, \"29\": 3, \"23\": 1, \"10\": 1, \"17\": 1, \"9\": 1, \"26\": 1, \"2\": 2, \"51\": 1, \"55\": 1, \"45\": 1, \"42\": 2, \"57\": 1, \"32\": 1, \"5\": 2, \"16\": 2}, \"27\": {\"27\": 122, \"18\": 1, \"30\": 2, \"8\": 10, \"54\": 1, \"50\": 3, \"6\": 2, \"12\": 1}, \"28\": {\"28\": 25, \"43\": 2, \"55\": 1}, \"29\": {\"1\": 17, \"29\": 68, \"48\": 3, \"47\": 5, \"55\": 1, \"42\": 1, \"30\": 2, \"50\": 2, \"53\": 2, \"0\": 1, \"5\": 2, \"36\": 2, \"46\": 2, \"25\": 2, \"12\": 1, \"57\": 8, \"33\": 1, \"51\": 1, \"22\": 1, \"6\": 1, \"3\": 5}}}, \"per_domain_accuracy\": {\"O_14\": {\"accuracy\": 0.8692708333333333, \"source?\": true}, \"O_20\": {\"accuracy\": 0.7799479166666666, \"source?\": true}, \"O_38\": {\"accuracy\": 0.8783854166666667, \"source?\": true}, \"O_8\": {\"accuracy\": 0.83828125, \"source?\": true}, \"O_50\": {\"accuracy\": 0.8653645833333333, \"source?\": true}, \"O_32\": {\"accuracy\": 0.84609375, \"source?\": true}, \"O_26\": {\"accuracy\": 0.6661458333333333, \"source?\": true}, \"O_44\": {\"accuracy\": 0.7244791666666667, \"source?\": true}, \"C_3\": {\"accuracy\": 0.7203851744186046, \"source?\": false}, \"C_4\": {\"accuracy\": 0.6545454545454545, \"source?\": false}, \"C_5\": {\"accuracy\": 0.6569483240223464, \"source?\": false}, \"C_1\": {\"accuracy\": 0.6962090163934426, \"source?\": false}, \"C_2\": {\"accuracy\": 0.7176906779661016, \"source?\": false}}}, \"history\": {\"epoch_indices\": [1, 2, 3, 4, 5, 6, 7, 8, 9, 10, 11], \"train_label_loss\": [1.0565585902359869, 1.0327680349749113, 0.8549564241830792, 0.740568046577807, 0.6300318477597708, 0.561784986048449, 0.5177738783548453, 0.48142546421814975, 0.45296238163580366, 0.433759340386106, 0.41842144165448625], \"source_val_label_loss\": [62.635738372802734, 0.9387983679771423, 0.8589915633201599, 0.7293590307235718, 0.5883651375770569, 0.5443731546401978, 0.5194891095161438, 0.49970921874046326, 0.48747947812080383, 0.4407077729701996, 0.4975294768810272], \"target_val_label_loss\": [868.713134765625, 71.3041000366211, 113.7628402709961, 132.84735107421875, 135.69374084472656, 197.70928955078125, 119.1172866821289, 181.98802185058594, 224.03392028808594, 285.50506591796875, 333.3592834472656], \"source_val_acc_label\": [0.5624674479166667, 0.6568033854166667, 0.68291015625, 0.7288411458333334, 0.7837890625, 0.8, 0.80849609375, 0.8159505208333333, 0.8196614583333334, 0.8396809895833334, 0.8154947916666667], \"target_val_acc_label\": [0.4145619292237443, 0.5922517123287672, 0.633347602739726, 0.6315282534246576, 0.632134703196347, 0.626070205479452, 0.6894263698630136, 0.6630636415525114, 0.6577482876712328, 0.6403396118721462, 0.6165453767123288]}, \"dataset_metrics\": {\"source\": {\"train\": {\"n_unique_x\": 179200, \"n_unique_y\": 16, \"n_batch/episode\": 6720}, \"val\": {\"n_unique_x\": 38400, \"n_unique_y\": 16, \"n_batch/episode\": 960}, \"test\": {\"n_unique_x\": 38400, \"n_unique_y\": 16, \"n_batch/episode\": 960}}, \"target\": {\"train\": {\"n_unique_x\": 175212, \"n_unique_y\": 58, \"n_batch/episode\": 6322}, \"val\": {\"n_unique_x\": 37196, \"n_unique_y\": 58, \"n_batch/episode\": 876}, \"test\": {\"n_unique_x\": 37634, \"n_unique_y\": 58, \"n_batch/episode\": 891}}}}'"
      ]
     },
     "execution_count": 29,
     "metadata": {},
     "output_type": "execute_result"
    }
   ],
   "source": [
    "json.dumps(experiment)"
   ]
  }
 ],
 "metadata": {
  "celltoolbar": "Tags",
  "kernelspec": {
   "display_name": "Python 3 (ipykernel)",
   "language": "python",
   "name": "python3"
  },
  "language_info": {
   "codemirror_mode": {
    "name": "ipython",
    "version": 3
   },
   "file_extension": ".py",
   "mimetype": "text/x-python",
   "name": "python",
   "nbconvert_exporter": "python",
   "pygments_lexer": "ipython3",
   "version": "3.8.12"
  },
  "papermill": {
   "default_parameters": {},
   "duration": 3983.974281,
   "end_time": "2022-03-28T02:59:43.891517",
   "environment_variables": {},
   "exception": null,
   "input_path": "/root/csc500-main/csc500-notebooks/templates/tl_ptn_template.ipynb",
   "output_path": "trial.ipynb",
   "parameters": {
    "parameters": {
     "BEST_MODEL_PATH": "./best_model.pth",
     "NUM_LOGS_PER_EPOCH": 10,
     "criteria_for_best": "target_accuracy",
     "dataset_seed": 1337,
     "datasets": [
      {
       "domain_prefix": "C_",
       "domains": [
        1,
        2,
        3,
        4,
        5
       ],
       "episode_transforms": [],
       "labels": [
        "1-10.",
        "1-11.",
        "1-15.",
        "1-16.",
        "1-17.",
        "1-18.",
        "1-19.",
        "10-4.",
        "10-7.",
        "11-1.",
        "11-14.",
        "11-17.",
        "11-20.",
        "11-7.",
        "13-20.",
        "13-8.",
        "14-10.",
        "14-11.",
        "14-14.",
        "14-7.",
        "15-1.",
        "15-20.",
        "16-1.",
        "16-16.",
        "17-10.",
        "17-11.",
        "17-2.",
        "19-1.",
        "19-16.",
        "19-19.",
        "19-20.",
        "19-3.",
        "2-10.",
        "2-11.",
        "2-17.",
        "2-18.",
        "2-20.",
        "2-3.",
        "2-4.",
        "2-5.",
        "2-6.",
        "2-7.",
        "2-8.",
        "3-13.",
        "3-18.",
        "3-3.",
        "4-1.",
        "4-10.",
        "4-11.",
        "4-19.",
        "5-5.",
        "6-15.",
        "7-10.",
        "7-14.",
        "8-18.",
        "8-20.",
        "8-3.",
        "8-8."
       ],
       "num_examples_per_domain_per_label": -1,
       "pickle_path": "/root/csc500-main/datasets/cores.stratified_ds.2022A.pkl",
       "source_or_target_dataset": "target",
       "x_transforms": [
        "unit_mag",
        "jitter_256_1",
        "lowpass_+/-10MHz",
        "take_200"
       ]
      },
      {
       "domain_prefix": "O_",
       "domains": [
        32,
        38,
        8,
        44,
        14,
        50,
        20,
        26
       ],
       "episode_transforms": [],
       "labels": [
        "3123D52",
        "3123D65",
        "3123D79",
        "3123D80",
        "3123D54",
        "3123D70",
        "3123D7B",
        "3123D89",
        "3123D58",
        "3123D76",
        "3123D7D",
        "3123EFE",
        "3123D64",
        "3123D78",
        "3123D7E",
        "3124E4A"
       ],
       "num_examples_per_domain_per_label": 2000,
       "pickle_path": "/root/csc500-main/datasets/oracle.Run1_framed_2000Examples_stratified_ds.2022A.pkl",
       "source_or_target_dataset": "source",
       "x_transforms": [
        "unit_mag",
        "jitter_256_1",
        "take_200",
        "resample_20Msps_to_25Msps"
       ]
      }
     ],
     "device": "cuda",
     "experiment_name": "tl_3-jitter1v2:oracle.run1.framed -> cores",
     "lr": 0.0001,
     "n_epoch": 50,
     "n_query": 2,
     "n_shot": 3,
     "n_way": 16,
     "patience": 3,
     "seed": 1337,
     "test_k_factor": 2,
     "torch_default_dtype": "torch.float32",
     "train_k_factor": 3,
     "val_k_factor": 2,
     "x_net": [
      {
       "class": "nnReshape",
       "kargs": {
        "shape": [
         -1,
         1,
         2,
         256
        ]
       }
      },
      {
       "class": "Conv2d",
       "kargs": {
        "bias": false,
        "in_channels": 1,
        "kernel_size": [
         1,
         7
        ],
        "out_channels": 256,
        "padding": [
         0,
         3
        ]
       }
      },
      {
       "class": "ReLU",
       "kargs": {
        "inplace": true
       }
      },
      {
       "class": "BatchNorm2d",
       "kargs": {
        "num_features": 256
       }
      },
      {
       "class": "Conv2d",
       "kargs": {
        "bias": true,
        "in_channels": 256,
        "kernel_size": [
         2,
         7
        ],
        "out_channels": 80,
        "padding": [
         0,
         3
        ]
       }
      },
      {
       "class": "ReLU",
       "kargs": {
        "inplace": true
       }
      },
      {
       "class": "BatchNorm2d",
       "kargs": {
        "num_features": 80
       }
      },
      {
       "class": "Flatten",
       "kargs": {}
      },
      {
       "class": "Linear",
       "kargs": {
        "in_features": 20480,
        "out_features": 256
       }
      },
      {
       "class": "ReLU",
       "kargs": {
        "inplace": true
       }
      },
      {
       "class": "BatchNorm1d",
       "kargs": {
        "num_features": 256
       }
      },
      {
       "class": "Linear",
       "kargs": {
        "in_features": 256,
        "out_features": 256
       }
      }
     ],
     "x_shape": [
      2,
      256
     ]
    }
   },
   "start_time": "2022-03-28T01:53:19.917236",
   "version": "2.3.4"
  }
 },
 "nbformat": 4,
 "nbformat_minor": 5
}