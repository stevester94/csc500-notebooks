{
 "cells": [
  {
   "cell_type": "markdown",
   "id": "9fea5f46",
   "metadata": {
    "papermill": {
     "duration": 0.031064,
     "end_time": "2022-03-28T02:59:45.491945",
     "exception": false,
     "start_time": "2022-03-28T02:59:45.460881",
     "status": "completed"
    },
    "tags": []
   },
   "source": [
    "# Transfer Learning Template"
   ]
  },
  {
   "cell_type": "code",
   "execution_count": 1,
   "id": "0902182a",
   "metadata": {
    "execution": {
     "iopub.execute_input": "2022-03-28T02:59:45.555747Z",
     "iopub.status.busy": "2022-03-28T02:59:45.555302Z",
     "iopub.status.idle": "2022-03-28T02:59:47.688143Z",
     "shell.execute_reply": "2022-03-28T02:59:47.688463Z"
    },
    "papermill": {
     "duration": 2.170548,
     "end_time": "2022-03-28T02:59:47.688654",
     "exception": false,
     "start_time": "2022-03-28T02:59:45.518106",
     "status": "completed"
    },
    "tags": []
   },
   "outputs": [],
   "source": [
    "%load_ext autoreload\n",
    "%autoreload 2\n",
    "%matplotlib inline\n",
    "\n",
    "    \n",
    "import os, json, sys, time, random\n",
    "import numpy as np\n",
    "import torch\n",
    "from torch.optim import Adam\n",
    "from  easydict import EasyDict\n",
    "import matplotlib.pyplot as plt\n",
    "\n",
    "from steves_models.steves_ptn import Steves_Prototypical_Network\n",
    "\n",
    "from steves_utils.lazy_iterable_wrapper import Lazy_Iterable_Wrapper\n",
    "from steves_utils.iterable_aggregator import Iterable_Aggregator\n",
    "from steves_utils.ptn_train_eval_test_jig import  PTN_Train_Eval_Test_Jig\n",
    "from steves_utils.torch_sequential_builder import build_sequential\n",
    "from steves_utils.torch_utils import get_dataset_metrics, ptn_confusion_by_domain_over_dataloader\n",
    "from steves_utils.utils_v2 import (per_domain_accuracy_from_confusion, get_datasets_base_path)\n",
    "from steves_utils.PTN.utils import independent_accuracy_assesment\n",
    "\n",
    "from torch.utils.data import DataLoader\n",
    "\n",
    "from steves_utils.stratified_dataset.episodic_accessor import Episodic_Accessor_Factory\n",
    "\n",
    "from steves_utils.ptn_do_report import (\n",
    "    get_loss_curve,\n",
    "    get_results_table,\n",
    "    get_parameters_table,\n",
    "    get_domain_accuracies,\n",
    ")\n",
    "\n",
    "from steves_utils.transforms import get_chained_transform"
   ]
  },
  {
   "cell_type": "markdown",
   "id": "41c840b4",
   "metadata": {
    "papermill": {
     "duration": 0.019434,
     "end_time": "2022-03-28T02:59:47.728388",
     "exception": false,
     "start_time": "2022-03-28T02:59:47.708954",
     "status": "completed"
    },
    "tags": []
   },
   "source": [
    "# Allowed Parameters\n",
    "These are allowed parameters, not defaults\n",
    "Each of these values need to be present in the injected parameters (the notebook will raise an exception if they are not present)\n",
    "\n",
    "Papermill uses the cell tag \"parameters\" to inject the real parameters below this cell.\n",
    "Enable tags to see what I mean"
   ]
  },
  {
   "cell_type": "code",
   "execution_count": 2,
   "id": "fd44eb83",
   "metadata": {
    "execution": {
     "iopub.execute_input": "2022-03-28T02:59:47.774750Z",
     "iopub.status.busy": "2022-03-28T02:59:47.774367Z",
     "iopub.status.idle": "2022-03-28T02:59:47.805088Z",
     "shell.execute_reply": "2022-03-28T02:59:47.804758Z"
    },
    "papermill": {
     "duration": 0.057252,
     "end_time": "2022-03-28T02:59:47.805160",
     "exception": false,
     "start_time": "2022-03-28T02:59:47.747908",
     "status": "completed"
    },
    "tags": []
   },
   "outputs": [],
   "source": [
    "required_parameters = {\n",
    "    \"experiment_name\",\n",
    "    \"lr\",\n",
    "    \"device\",\n",
    "    \"seed\",\n",
    "    \"dataset_seed\",\n",
    "    \"n_shot\",\n",
    "    \"n_query\",\n",
    "    \"n_way\",\n",
    "    \"train_k_factor\",\n",
    "    \"val_k_factor\",\n",
    "    \"test_k_factor\",\n",
    "    \"n_epoch\",\n",
    "    \"patience\",\n",
    "    \"criteria_for_best\",\n",
    "    \"x_net\",\n",
    "    \"datasets\",\n",
    "    \"torch_default_dtype\",\n",
    "    \"NUM_LOGS_PER_EPOCH\",\n",
    "    \"BEST_MODEL_PATH\",\n",
    "    \"x_shape\",\n",
    "}"
   ]
  },
  {
   "cell_type": "code",
   "execution_count": 3,
   "id": "fa3f0049",
   "metadata": {
    "execution": {
     "iopub.execute_input": "2022-03-28T02:59:47.871250Z",
     "iopub.status.busy": "2022-03-28T02:59:47.865045Z",
     "iopub.status.idle": "2022-03-28T02:59:47.897073Z",
     "shell.execute_reply": "2022-03-28T02:59:47.896749Z"
    },
    "papermill": {
     "duration": 0.072135,
     "end_time": "2022-03-28T02:59:47.897142",
     "exception": false,
     "start_time": "2022-03-28T02:59:47.825007",
     "status": "completed"
    },
    "tags": [
     "parameters"
    ]
   },
   "outputs": [],
   "source": [
    "from steves_utils.CORES.utils import (\n",
    "    ALL_NODES,\n",
    "    ALL_NODES_MINIMUM_1000_EXAMPLES,\n",
    "    ALL_DAYS\n",
    ")\n",
    "\n",
    "from steves_utils.ORACLE.utils_v2 import (\n",
    "    ALL_DISTANCES_FEET_NARROWED,\n",
    "    ALL_RUNS,\n",
    "    ALL_SERIAL_NUMBERS,\n",
    ")\n",
    "\n",
    "standalone_parameters = {}\n",
    "standalone_parameters[\"experiment_name\"] = \"STANDALONE PTN\"\n",
    "standalone_parameters[\"lr\"] = 0.001\n",
    "standalone_parameters[\"device\"] = \"cuda\"\n",
    "\n",
    "standalone_parameters[\"seed\"] = 1337\n",
    "standalone_parameters[\"dataset_seed\"] = 1337\n",
    "\n",
    "standalone_parameters[\"n_way\"] = 8\n",
    "standalone_parameters[\"n_shot\"] = 3\n",
    "standalone_parameters[\"n_query\"]  = 2\n",
    "standalone_parameters[\"train_k_factor\"] = 1\n",
    "standalone_parameters[\"val_k_factor\"] = 2\n",
    "standalone_parameters[\"test_k_factor\"] = 2\n",
    "\n",
    "\n",
    "standalone_parameters[\"n_epoch\"] = 50\n",
    "\n",
    "standalone_parameters[\"patience\"] = 10\n",
    "standalone_parameters[\"criteria_for_best\"] = \"source_loss\"\n",
    "\n",
    "standalone_parameters[\"datasets\"] = [\n",
    "    {\n",
    "        \"labels\": ALL_SERIAL_NUMBERS,\n",
    "        \"domains\": ALL_DISTANCES_FEET_NARROWED,\n",
    "        \"num_examples_per_domain_per_label\": 100,\n",
    "        \"pickle_path\": os.path.join(get_datasets_base_path(), \"oracle.Run1_framed_2000Examples_stratified_ds.2022A.pkl\"),\n",
    "        \"source_or_target_dataset\": \"source\",\n",
    "        \"x_transforms\": [\"unit_mag\", \"minus_two\"],\n",
    "        \"episode_transforms\": [],\n",
    "        \"domain_prefix\": \"ORACLE_\"\n",
    "    },\n",
    "    {\n",
    "        \"labels\": ALL_NODES,\n",
    "        \"domains\": ALL_DAYS,\n",
    "        \"num_examples_per_domain_per_label\": 100,\n",
    "        \"pickle_path\": os.path.join(get_datasets_base_path(), \"cores.stratified_ds.2022A.pkl\"),\n",
    "        \"source_or_target_dataset\": \"target\",\n",
    "        \"x_transforms\": [\"unit_power\", \"times_zero\"],\n",
    "        \"episode_transforms\": [],\n",
    "        \"domain_prefix\": \"CORES_\"\n",
    "    }   \n",
    "]\n",
    "\n",
    "standalone_parameters[\"torch_default_dtype\"] = \"torch.float32\" \n",
    "\n",
    "\n",
    "\n",
    "standalone_parameters[\"x_net\"] =     [\n",
    "    {\"class\": \"nnReshape\", \"kargs\": {\"shape\":[-1, 1, 2, 256]}},\n",
    "    {\"class\": \"Conv2d\", \"kargs\": { \"in_channels\":1, \"out_channels\":256, \"kernel_size\":(1,7), \"bias\":False, \"padding\":(0,3), },},\n",
    "    {\"class\": \"ReLU\", \"kargs\": {\"inplace\": True}},\n",
    "    {\"class\": \"BatchNorm2d\", \"kargs\": {\"num_features\":256}},\n",
    "\n",
    "    {\"class\": \"Conv2d\", \"kargs\": { \"in_channels\":256, \"out_channels\":80, \"kernel_size\":(2,7), \"bias\":True, \"padding\":(0,3), },},\n",
    "    {\"class\": \"ReLU\", \"kargs\": {\"inplace\": True}},\n",
    "    {\"class\": \"BatchNorm2d\", \"kargs\": {\"num_features\":80}},\n",
    "    {\"class\": \"Flatten\", \"kargs\": {}},\n",
    "\n",
    "    {\"class\": \"Linear\", \"kargs\": {\"in_features\": 80*256, \"out_features\": 256}}, # 80 units per IQ pair\n",
    "    {\"class\": \"ReLU\", \"kargs\": {\"inplace\": True}},\n",
    "    {\"class\": \"BatchNorm1d\", \"kargs\": {\"num_features\":256}},\n",
    "\n",
    "    {\"class\": \"Linear\", \"kargs\": {\"in_features\": 256, \"out_features\": 256}},\n",
    "]\n",
    "\n",
    "# Parameters relevant to results\n",
    "# These parameters will basically never need to change\n",
    "standalone_parameters[\"NUM_LOGS_PER_EPOCH\"] = 10\n",
    "standalone_parameters[\"BEST_MODEL_PATH\"] = \"./best_model.pth\"\n",
    "\n",
    "\n",
    "\n",
    "\n"
   ]
  },
  {
   "cell_type": "code",
   "execution_count": 4,
   "id": "64348f05",
   "metadata": {
    "execution": {
     "iopub.execute_input": "2022-03-28T02:59:47.953317Z",
     "iopub.status.busy": "2022-03-28T02:59:47.950140Z",
     "iopub.status.idle": "2022-03-28T02:59:47.972647Z",
     "shell.execute_reply": "2022-03-28T02:59:47.972277Z"
    },
    "papermill": {
     "duration": 0.055786,
     "end_time": "2022-03-28T02:59:47.972716",
     "exception": false,
     "start_time": "2022-03-28T02:59:47.916930",
     "status": "completed"
    },
    "tags": [
     "injected-parameters"
    ]
   },
   "outputs": [],
   "source": [
    "# Parameters\n",
    "parameters = {\n",
    "    \"experiment_name\": \"tl_3-jitter1v2:oracle.run1.framed -> cores\",\n",
    "    \"device\": \"cuda\",\n",
    "    \"lr\": 0.0001,\n",
    "    \"x_shape\": [2, 256],\n",
    "    \"n_shot\": 3,\n",
    "    \"n_query\": 2,\n",
    "    \"train_k_factor\": 3,\n",
    "    \"val_k_factor\": 2,\n",
    "    \"test_k_factor\": 2,\n",
    "    \"torch_default_dtype\": \"torch.float32\",\n",
    "    \"n_epoch\": 50,\n",
    "    \"patience\": 3,\n",
    "    \"criteria_for_best\": \"target_accuracy\",\n",
    "    \"x_net\": [\n",
    "        {\"class\": \"nnReshape\", \"kargs\": {\"shape\": [-1, 1, 2, 256]}},\n",
    "        {\n",
    "            \"class\": \"Conv2d\",\n",
    "            \"kargs\": {\n",
    "                \"in_channels\": 1,\n",
    "                \"out_channels\": 256,\n",
    "                \"kernel_size\": [1, 7],\n",
    "                \"bias\": False,\n",
    "                \"padding\": [0, 3],\n",
    "            },\n",
    "        },\n",
    "        {\"class\": \"ReLU\", \"kargs\": {\"inplace\": True}},\n",
    "        {\"class\": \"BatchNorm2d\", \"kargs\": {\"num_features\": 256}},\n",
    "        {\n",
    "            \"class\": \"Conv2d\",\n",
    "            \"kargs\": {\n",
    "                \"in_channels\": 256,\n",
    "                \"out_channels\": 80,\n",
    "                \"kernel_size\": [2, 7],\n",
    "                \"bias\": True,\n",
    "                \"padding\": [0, 3],\n",
    "            },\n",
    "        },\n",
    "        {\"class\": \"ReLU\", \"kargs\": {\"inplace\": True}},\n",
    "        {\"class\": \"BatchNorm2d\", \"kargs\": {\"num_features\": 80}},\n",
    "        {\"class\": \"Flatten\", \"kargs\": {}},\n",
    "        {\"class\": \"Linear\", \"kargs\": {\"in_features\": 20480, \"out_features\": 256}},\n",
    "        {\"class\": \"ReLU\", \"kargs\": {\"inplace\": True}},\n",
    "        {\"class\": \"BatchNorm1d\", \"kargs\": {\"num_features\": 256}},\n",
    "        {\"class\": \"Linear\", \"kargs\": {\"in_features\": 256, \"out_features\": 256}},\n",
    "    ],\n",
    "    \"NUM_LOGS_PER_EPOCH\": 10,\n",
    "    \"BEST_MODEL_PATH\": \"./best_model.pth\",\n",
    "    \"n_way\": 16,\n",
    "    \"datasets\": [\n",
    "        {\n",
    "            \"labels\": [\n",
    "                \"1-10.\",\n",
    "                \"1-11.\",\n",
    "                \"1-15.\",\n",
    "                \"1-16.\",\n",
    "                \"1-17.\",\n",
    "                \"1-18.\",\n",
    "                \"1-19.\",\n",
    "                \"10-4.\",\n",
    "                \"10-7.\",\n",
    "                \"11-1.\",\n",
    "                \"11-14.\",\n",
    "                \"11-17.\",\n",
    "                \"11-20.\",\n",
    "                \"11-7.\",\n",
    "                \"13-20.\",\n",
    "                \"13-8.\",\n",
    "                \"14-10.\",\n",
    "                \"14-11.\",\n",
    "                \"14-14.\",\n",
    "                \"14-7.\",\n",
    "                \"15-1.\",\n",
    "                \"15-20.\",\n",
    "                \"16-1.\",\n",
    "                \"16-16.\",\n",
    "                \"17-10.\",\n",
    "                \"17-11.\",\n",
    "                \"17-2.\",\n",
    "                \"19-1.\",\n",
    "                \"19-16.\",\n",
    "                \"19-19.\",\n",
    "                \"19-20.\",\n",
    "                \"19-3.\",\n",
    "                \"2-10.\",\n",
    "                \"2-11.\",\n",
    "                \"2-17.\",\n",
    "                \"2-18.\",\n",
    "                \"2-20.\",\n",
    "                \"2-3.\",\n",
    "                \"2-4.\",\n",
    "                \"2-5.\",\n",
    "                \"2-6.\",\n",
    "                \"2-7.\",\n",
    "                \"2-8.\",\n",
    "                \"3-13.\",\n",
    "                \"3-18.\",\n",
    "                \"3-3.\",\n",
    "                \"4-1.\",\n",
    "                \"4-10.\",\n",
    "                \"4-11.\",\n",
    "                \"4-19.\",\n",
    "                \"5-5.\",\n",
    "                \"6-15.\",\n",
    "                \"7-10.\",\n",
    "                \"7-14.\",\n",
    "                \"8-18.\",\n",
    "                \"8-20.\",\n",
    "                \"8-3.\",\n",
    "                \"8-8.\",\n",
    "            ],\n",
    "            \"domains\": [1, 2, 3, 4, 5],\n",
    "            \"num_examples_per_domain_per_label\": -1,\n",
    "            \"pickle_path\": \"/root/csc500-main/datasets/cores.stratified_ds.2022A.pkl\",\n",
    "            \"source_or_target_dataset\": \"target\",\n",
    "            \"x_transforms\": [\n",
    "                \"unit_power\",\n",
    "                \"jitter_256_1\",\n",
    "                \"lowpass_+/-10MHz\",\n",
    "                \"take_200\",\n",
    "            ],\n",
    "            \"episode_transforms\": [],\n",
    "            \"domain_prefix\": \"C_\",\n",
    "        },\n",
    "        {\n",
    "            \"labels\": [\n",
    "                \"3123D52\",\n",
    "                \"3123D65\",\n",
    "                \"3123D79\",\n",
    "                \"3123D80\",\n",
    "                \"3123D54\",\n",
    "                \"3123D70\",\n",
    "                \"3123D7B\",\n",
    "                \"3123D89\",\n",
    "                \"3123D58\",\n",
    "                \"3123D76\",\n",
    "                \"3123D7D\",\n",
    "                \"3123EFE\",\n",
    "                \"3123D64\",\n",
    "                \"3123D78\",\n",
    "                \"3123D7E\",\n",
    "                \"3124E4A\",\n",
    "            ],\n",
    "            \"domains\": [32, 38, 8, 44, 14, 50, 20, 26],\n",
    "            \"num_examples_per_domain_per_label\": 2000,\n",
    "            \"pickle_path\": \"/root/csc500-main/datasets/oracle.Run1_framed_2000Examples_stratified_ds.2022A.pkl\",\n",
    "            \"source_or_target_dataset\": \"source\",\n",
    "            \"x_transforms\": [\n",
    "                \"unit_power\",\n",
    "                \"jitter_256_1\",\n",
    "                \"take_200\",\n",
    "                \"resample_20Msps_to_25Msps\",\n",
    "            ],\n",
    "            \"episode_transforms\": [],\n",
    "            \"domain_prefix\": \"O_\",\n",
    "        },\n",
    "    ],\n",
    "    \"seed\": 420,\n",
    "    \"dataset_seed\": 420,\n",
    "}\n"
   ]
  },
  {
   "cell_type": "code",
   "execution_count": 5,
   "id": "8fa1cc33",
   "metadata": {
    "execution": {
     "iopub.execute_input": "2022-03-28T02:59:48.021474Z",
     "iopub.status.busy": "2022-03-28T02:59:48.021048Z",
     "iopub.status.idle": "2022-03-28T02:59:48.038648Z",
     "shell.execute_reply": "2022-03-28T02:59:48.038279Z"
    },
    "papermill": {
     "duration": 0.045897,
     "end_time": "2022-03-28T02:59:48.038718",
     "exception": false,
     "start_time": "2022-03-28T02:59:47.992821",
     "status": "completed"
    },
    "tags": []
   },
   "outputs": [],
   "source": [
    "# Set this to True if you want to run this template directly\n",
    "STANDALONE = False\n",
    "if STANDALONE:\n",
    "    print(\"parameters not injected, running with standalone_parameters\")\n",
    "    parameters = standalone_parameters\n",
    "\n",
    "if not 'parameters' in locals() and not 'parameters' in globals():\n",
    "    raise Exception(\"Parameter injection failed\")\n",
    "\n",
    "#Use an easy dict for all the parameters\n",
    "p = EasyDict(parameters)\n",
    "\n",
    "if \"x_shape\" not in p:\n",
    "    p.x_shape = [2,256] # Default to this if we dont supply x_shape\n",
    "\n",
    "\n",
    "supplied_keys = set(p.keys())\n",
    "\n",
    "if  supplied_keys != required_parameters:\n",
    "    print(\"Parameters are incorrect\")\n",
    "    if len(supplied_keys - required_parameters)>0: print(\"Shouldn't have:\", str(supplied_keys - required_parameters))\n",
    "    if len(required_parameters - supplied_keys)>0: print(\"Need to have:\", str(required_parameters - supplied_keys))\n",
    "    raise RuntimeError(\"Parameters are incorrect\")"
   ]
  },
  {
   "cell_type": "code",
   "execution_count": 6,
   "id": "3a028d58",
   "metadata": {
    "execution": {
     "iopub.execute_input": "2022-03-28T02:59:48.087650Z",
     "iopub.status.busy": "2022-03-28T02:59:48.084641Z",
     "iopub.status.idle": "2022-03-28T02:59:48.106352Z",
     "shell.execute_reply": "2022-03-28T02:59:48.105608Z"
    },
    "papermill": {
     "duration": 0.047835,
     "end_time": "2022-03-28T02:59:48.106503",
     "exception": false,
     "start_time": "2022-03-28T02:59:48.058668",
     "status": "completed"
    },
    "tags": []
   },
   "outputs": [],
   "source": [
    "###################################\n",
    "# Set the RNGs and make it all deterministic\n",
    "###################################\n",
    "np.random.seed(p.seed)\n",
    "random.seed(p.seed)\n",
    "torch.manual_seed(p.seed)\n",
    "\n",
    "torch.use_deterministic_algorithms(True) "
   ]
  },
  {
   "cell_type": "code",
   "execution_count": 7,
   "id": "b691acf6",
   "metadata": {
    "execution": {
     "iopub.execute_input": "2022-03-28T02:59:48.157380Z",
     "iopub.status.busy": "2022-03-28T02:59:48.156748Z",
     "iopub.status.idle": "2022-03-28T02:59:48.181687Z",
     "shell.execute_reply": "2022-03-28T02:59:48.180880Z"
    },
    "papermill": {
     "duration": 0.049127,
     "end_time": "2022-03-28T02:59:48.181841",
     "exception": false,
     "start_time": "2022-03-28T02:59:48.132714",
     "status": "completed"
    },
    "tags": []
   },
   "outputs": [],
   "source": [
    "###########################################\n",
    "# The stratified datasets honor this\n",
    "###########################################\n",
    "torch.set_default_dtype(eval(p.torch_default_dtype))"
   ]
  },
  {
   "cell_type": "code",
   "execution_count": 8,
   "id": "b5fba671",
   "metadata": {
    "execution": {
     "iopub.execute_input": "2022-03-28T02:59:48.233596Z",
     "iopub.status.busy": "2022-03-28T02:59:48.233033Z",
     "iopub.status.idle": "2022-03-28T02:59:48.290567Z",
     "shell.execute_reply": "2022-03-28T02:59:48.289773Z"
    },
    "papermill": {
     "duration": 0.082674,
     "end_time": "2022-03-28T02:59:48.290739",
     "exception": false,
     "start_time": "2022-03-28T02:59:48.208065",
     "status": "completed"
    },
    "tags": []
   },
   "outputs": [],
   "source": [
    "###################################\n",
    "# Build the network(s)\n",
    "# Note: It's critical to do this AFTER setting the RNG\n",
    "###################################\n",
    "x_net = build_sequential(p.x_net)"
   ]
  },
  {
   "cell_type": "code",
   "execution_count": 9,
   "id": "5d7e61cc",
   "metadata": {
    "execution": {
     "iopub.execute_input": "2022-03-28T02:59:48.342562Z",
     "iopub.status.busy": "2022-03-28T02:59:48.342005Z",
     "iopub.status.idle": "2022-03-28T02:59:48.367217Z",
     "shell.execute_reply": "2022-03-28T02:59:48.366396Z"
    },
    "papermill": {
     "duration": 0.050161,
     "end_time": "2022-03-28T02:59:48.367373",
     "exception": false,
     "start_time": "2022-03-28T02:59:48.317212",
     "status": "completed"
    },
    "tags": []
   },
   "outputs": [],
   "source": [
    "start_time_secs = time.time()"
   ]
  },
  {
   "cell_type": "code",
   "execution_count": 10,
   "id": "c6b67dfd",
   "metadata": {
    "execution": {
     "iopub.execute_input": "2022-03-28T02:59:48.421120Z",
     "iopub.status.busy": "2022-03-28T02:59:48.420340Z",
     "iopub.status.idle": "2022-03-28T02:59:48.442534Z",
     "shell.execute_reply": "2022-03-28T02:59:48.441718Z"
    },
    "papermill": {
     "duration": 0.047437,
     "end_time": "2022-03-28T02:59:48.442687",
     "exception": false,
     "start_time": "2022-03-28T02:59:48.395250",
     "status": "completed"
    },
    "tags": []
   },
   "outputs": [],
   "source": [
    "p.domains_source = []\n",
    "p.domains_target = []\n",
    "\n",
    "\n",
    "train_original_source = []\n",
    "val_original_source   = []\n",
    "test_original_source  = []\n",
    "\n",
    "train_original_target = []\n",
    "val_original_target   = []\n",
    "test_original_target  = []"
   ]
  },
  {
   "cell_type": "code",
   "execution_count": 11,
   "id": "e3d9c3d3",
   "metadata": {
    "execution": {
     "iopub.execute_input": "2022-03-28T02:59:48.493665Z",
     "iopub.status.busy": "2022-03-28T02:59:48.492622Z",
     "iopub.status.idle": "2022-03-28T02:59:48.516231Z",
     "shell.execute_reply": "2022-03-28T02:59:48.515387Z"
    },
    "papermill": {
     "duration": 0.04747,
     "end_time": "2022-03-28T02:59:48.516385",
     "exception": false,
     "start_time": "2022-03-28T02:59:48.468915",
     "status": "completed"
    },
    "tags": []
   },
   "outputs": [],
   "source": [
    "# global_x_transform_func = lambda x: normalize(x.to(torch.get_default_dtype()), \"unit_power\") # unit_power, unit_mag\n",
    "# global_x_transform_func = lambda x: normalize(x, \"unit_power\") # unit_power, unit_mag"
   ]
  },
  {
   "cell_type": "code",
   "execution_count": 12,
   "id": "acb78fd2",
   "metadata": {
    "execution": {
     "iopub.execute_input": "2022-03-28T02:59:48.575301Z",
     "iopub.status.busy": "2022-03-28T02:59:48.574444Z",
     "iopub.status.idle": "2022-03-28T02:59:48.591979Z",
     "shell.execute_reply": "2022-03-28T02:59:48.591199Z"
    },
    "papermill": {
     "duration": 0.050635,
     "end_time": "2022-03-28T02:59:48.592133",
     "exception": false,
     "start_time": "2022-03-28T02:59:48.541498",
     "status": "completed"
    },
    "tags": []
   },
   "outputs": [],
   "source": [
    "def add_dataset(\n",
    "    labels,\n",
    "    domains,\n",
    "    pickle_path,\n",
    "    x_transforms,\n",
    "    episode_transforms,\n",
    "    domain_prefix,\n",
    "    num_examples_per_domain_per_label,\n",
    "    source_or_target_dataset:str,\n",
    "    iterator_seed=p.seed,\n",
    "    dataset_seed=p.dataset_seed,\n",
    "    n_shot=p.n_shot,\n",
    "    n_way=p.n_way,\n",
    "    n_query=p.n_query,\n",
    "    train_val_test_k_factors=(p.train_k_factor,p.val_k_factor,p.test_k_factor),\n",
    "):\n",
    "   \n",
    "    if x_transforms == []: x_transform = None\n",
    "    else: x_transform = get_chained_transform(x_transforms)\n",
    "    \n",
    "    if episode_transforms == []: episode_transform = None\n",
    "    else: raise Exception(\"episode_transforms not implemented\")\n",
    "    \n",
    "    episode_transform = lambda tup, _prefix=domain_prefix: (_prefix + str(tup[0]), tup[1])\n",
    "\n",
    "\n",
    "    eaf = Episodic_Accessor_Factory(\n",
    "        labels=labels,\n",
    "        domains=domains,\n",
    "        num_examples_per_domain_per_label=num_examples_per_domain_per_label,\n",
    "        iterator_seed=iterator_seed,\n",
    "        dataset_seed=dataset_seed,\n",
    "        n_shot=n_shot,\n",
    "        n_way=n_way,\n",
    "        n_query=n_query,\n",
    "        train_val_test_k_factors=train_val_test_k_factors,\n",
    "        pickle_path=pickle_path,\n",
    "        x_transform_func=x_transform,\n",
    "    )\n",
    "\n",
    "    train, val, test = eaf.get_train(), eaf.get_val(), eaf.get_test()\n",
    "    train = Lazy_Iterable_Wrapper(train, episode_transform)\n",
    "    val = Lazy_Iterable_Wrapper(val, episode_transform)\n",
    "    test = Lazy_Iterable_Wrapper(test, episode_transform)\n",
    "\n",
    "    if source_or_target_dataset==\"source\":\n",
    "        train_original_source.append(train)\n",
    "        val_original_source.append(val)\n",
    "        test_original_source.append(test)\n",
    "\n",
    "        p.domains_source.extend(\n",
    "            [domain_prefix + str(u) for u in domains]\n",
    "        )\n",
    "    elif source_or_target_dataset==\"target\":\n",
    "        train_original_target.append(train)\n",
    "        val_original_target.append(val)\n",
    "        test_original_target.append(test)\n",
    "        p.domains_target.extend(\n",
    "            [domain_prefix + str(u) for u in domains]\n",
    "        )\n",
    "    else:\n",
    "        raise Exception(f\"invalid source_or_target_dataset: {source_or_target_dataset}\")\n",
    "    "
   ]
  },
  {
   "cell_type": "code",
   "execution_count": 13,
   "id": "fe266617",
   "metadata": {
    "execution": {
     "iopub.execute_input": "2022-03-28T02:59:48.646150Z",
     "iopub.status.busy": "2022-03-28T02:59:48.644580Z",
     "iopub.status.idle": "2022-03-28T03:01:40.843808Z",
     "shell.execute_reply": "2022-03-28T03:01:40.843414Z"
    },
    "papermill": {
     "duration": 112.22624,
     "end_time": "2022-03-28T03:01:40.843907",
     "exception": false,
     "start_time": "2022-03-28T02:59:48.617667",
     "status": "completed"
    },
    "tags": []
   },
   "outputs": [],
   "source": [
    "for ds in p.datasets:\n",
    "    add_dataset(**ds)"
   ]
  },
  {
   "cell_type": "code",
   "execution_count": 14,
   "id": "b90d65ac",
   "metadata": {
    "execution": {
     "iopub.execute_input": "2022-03-28T03:01:40.890751Z",
     "iopub.status.busy": "2022-03-28T03:01:40.890362Z",
     "iopub.status.idle": "2022-03-28T03:01:40.915597Z",
     "shell.execute_reply": "2022-03-28T03:01:40.915138Z"
    },
    "papermill": {
     "duration": 0.049959,
     "end_time": "2022-03-28T03:01:40.915673",
     "exception": false,
     "start_time": "2022-03-28T03:01:40.865714",
     "status": "completed"
    },
    "tags": []
   },
   "outputs": [],
   "source": [
    "# from steves_utils.CORES.utils import (\n",
    "#     ALL_NODES,\n",
    "#     ALL_NODES_MINIMUM_1000_EXAMPLES,\n",
    "#     ALL_DAYS\n",
    "# )\n",
    "\n",
    "# add_dataset(\n",
    "#     labels=ALL_NODES,\n",
    "#     domains = ALL_DAYS,\n",
    "#     num_examples_per_domain_per_label=100,\n",
    "#     pickle_path=os.path.join(get_datasets_base_path(), \"cores.stratified_ds.2022A.pkl\"),\n",
    "#     source_or_target_dataset=\"target\",\n",
    "#     x_transform_func=global_x_transform_func,\n",
    "#     domain_modifier=lambda u: f\"cores_{u}\"\n",
    "# )"
   ]
  },
  {
   "cell_type": "code",
   "execution_count": 15,
   "id": "76db484d",
   "metadata": {
    "execution": {
     "iopub.execute_input": "2022-03-28T03:01:40.971793Z",
     "iopub.status.busy": "2022-03-28T03:01:40.971385Z",
     "iopub.status.idle": "2022-03-28T03:01:40.997183Z",
     "shell.execute_reply": "2022-03-28T03:01:40.996452Z"
    },
    "papermill": {
     "duration": 0.05901,
     "end_time": "2022-03-28T03:01:40.997352",
     "exception": false,
     "start_time": "2022-03-28T03:01:40.938342",
     "status": "completed"
    },
    "tags": []
   },
   "outputs": [],
   "source": [
    "# from steves_utils.ORACLE.utils_v2 import (\n",
    "#     ALL_DISTANCES_FEET,\n",
    "#     ALL_RUNS,\n",
    "#     ALL_SERIAL_NUMBERS,\n",
    "# )\n",
    "\n",
    "\n",
    "# add_dataset(\n",
    "#     labels=ALL_SERIAL_NUMBERS,\n",
    "#     domains = list(set(ALL_DISTANCES_FEET) - {2,62}),\n",
    "#     num_examples_per_domain_per_label=100,\n",
    "#     pickle_path=os.path.join(get_datasets_base_path(), \"oracle.Run2_framed_2000Examples_stratified_ds.2022A.pkl\"),\n",
    "#     source_or_target_dataset=\"source\",\n",
    "#     x_transform_func=global_x_transform_func,\n",
    "#     domain_modifier=lambda u: f\"oracle1_{u}\"\n",
    "# )\n"
   ]
  },
  {
   "cell_type": "code",
   "execution_count": 16,
   "id": "97dea9d2",
   "metadata": {
    "execution": {
     "iopub.execute_input": "2022-03-28T03:01:41.050417Z",
     "iopub.status.busy": "2022-03-28T03:01:41.050033Z",
     "iopub.status.idle": "2022-03-28T03:01:41.077459Z",
     "shell.execute_reply": "2022-03-28T03:01:41.076733Z"
    },
    "papermill": {
     "duration": 0.053136,
     "end_time": "2022-03-28T03:01:41.077626",
     "exception": false,
     "start_time": "2022-03-28T03:01:41.024490",
     "status": "completed"
    },
    "tags": []
   },
   "outputs": [],
   "source": [
    "# from steves_utils.ORACLE.utils_v2 import (\n",
    "#     ALL_DISTANCES_FEET,\n",
    "#     ALL_RUNS,\n",
    "#     ALL_SERIAL_NUMBERS,\n",
    "# )\n",
    "\n",
    "\n",
    "# add_dataset(\n",
    "#     labels=ALL_SERIAL_NUMBERS,\n",
    "#     domains = list(set(ALL_DISTANCES_FEET) - {2,62,56}),\n",
    "#     num_examples_per_domain_per_label=100,\n",
    "#     pickle_path=os.path.join(get_datasets_base_path(), \"oracle.Run2_framed_2000Examples_stratified_ds.2022A.pkl\"),\n",
    "#     source_or_target_dataset=\"source\",\n",
    "#     x_transform_func=global_x_transform_func,\n",
    "#     domain_modifier=lambda u: f\"oracle2_{u}\"\n",
    "# )"
   ]
  },
  {
   "cell_type": "code",
   "execution_count": 17,
   "id": "6f289866",
   "metadata": {
    "execution": {
     "iopub.execute_input": "2022-03-28T03:01:41.127844Z",
     "iopub.status.busy": "2022-03-28T03:01:41.127312Z",
     "iopub.status.idle": "2022-03-28T03:01:41.151834Z",
     "shell.execute_reply": "2022-03-28T03:01:41.151086Z"
    },
    "papermill": {
     "duration": 0.048504,
     "end_time": "2022-03-28T03:01:41.152002",
     "exception": false,
     "start_time": "2022-03-28T03:01:41.103498",
     "status": "completed"
    },
    "tags": []
   },
   "outputs": [],
   "source": [
    "# add_dataset(\n",
    "#     labels=list(range(19)),\n",
    "#     domains = [0,1,2],\n",
    "#     num_examples_per_domain_per_label=100,\n",
    "#     pickle_path=os.path.join(get_datasets_base_path(), \"metehan.stratified_ds.2022A.pkl\"),\n",
    "#     source_or_target_dataset=\"target\",\n",
    "#     x_transform_func=global_x_transform_func,\n",
    "#     domain_modifier=lambda u: f\"met_{u}\"\n",
    "# )"
   ]
  },
  {
   "cell_type": "code",
   "execution_count": 18,
   "id": "86a863c3",
   "metadata": {
    "execution": {
     "iopub.execute_input": "2022-03-28T03:01:41.202701Z",
     "iopub.status.busy": "2022-03-28T03:01:41.202134Z",
     "iopub.status.idle": "2022-03-28T03:01:41.225514Z",
     "shell.execute_reply": "2022-03-28T03:01:41.226196Z"
    },
    "papermill": {
     "duration": 0.04854,
     "end_time": "2022-03-28T03:01:41.226389",
     "exception": false,
     "start_time": "2022-03-28T03:01:41.177849",
     "status": "completed"
    },
    "tags": []
   },
   "outputs": [],
   "source": [
    "# # from steves_utils.wisig.utils import (\n",
    "# #     ALL_NODES_MINIMUM_100_EXAMPLES,\n",
    "# #     ALL_NODES_MINIMUM_500_EXAMPLES,\n",
    "# #     ALL_NODES_MINIMUM_1000_EXAMPLES,\n",
    "# #     ALL_DAYS\n",
    "# # )\n",
    "\n",
    "# import steves_utils.wisig.utils as wisig\n",
    "\n",
    "\n",
    "# add_dataset(\n",
    "#     labels=wisig.ALL_NODES_MINIMUM_100_EXAMPLES,\n",
    "#     domains = wisig.ALL_DAYS,\n",
    "#     num_examples_per_domain_per_label=100,\n",
    "#     pickle_path=os.path.join(get_datasets_base_path(), \"wisig.node3-19.stratified_ds.2022A.pkl\"),\n",
    "#     source_or_target_dataset=\"target\",\n",
    "#     x_transform_func=global_x_transform_func,\n",
    "#     domain_modifier=lambda u: f\"wisig_{u}\"\n",
    "# )"
   ]
  },
  {
   "cell_type": "code",
   "execution_count": 19,
   "id": "fd5442bc",
   "metadata": {
    "execution": {
     "iopub.execute_input": "2022-03-28T03:01:41.281755Z",
     "iopub.status.busy": "2022-03-28T03:01:41.281371Z",
     "iopub.status.idle": "2022-03-28T03:01:41.308759Z",
     "shell.execute_reply": "2022-03-28T03:01:41.308054Z"
    },
    "papermill": {
     "duration": 0.057014,
     "end_time": "2022-03-28T03:01:41.308910",
     "exception": false,
     "start_time": "2022-03-28T03:01:41.251896",
     "status": "completed"
    },
    "tags": []
   },
   "outputs": [],
   "source": [
    "###################################\n",
    "# Build the dataset\n",
    "###################################\n",
    "train_original_source = Iterable_Aggregator(train_original_source, p.seed)\n",
    "val_original_source = Iterable_Aggregator(val_original_source, p.seed)\n",
    "test_original_source = Iterable_Aggregator(test_original_source, p.seed)\n",
    "\n",
    "\n",
    "train_original_target = Iterable_Aggregator(train_original_target, p.seed)\n",
    "val_original_target = Iterable_Aggregator(val_original_target, p.seed)\n",
    "test_original_target = Iterable_Aggregator(test_original_target, p.seed)\n",
    "\n",
    "# For CNN We only use X and Y. And we only train on the source.\n",
    "# Properly form the data using a transform lambda and Lazy_Iterable_Wrapper. Finally wrap them in a dataloader\n",
    "\n",
    "transform_lambda = lambda ex: ex[1] # Original is (<domain>, <episode>) so we strip down to episode only\n",
    "\n",
    "train_processed_source = Lazy_Iterable_Wrapper(train_original_source, transform_lambda)\n",
    "val_processed_source   = Lazy_Iterable_Wrapper(val_original_source, transform_lambda)\n",
    "test_processed_source  = Lazy_Iterable_Wrapper(test_original_source, transform_lambda)\n",
    "\n",
    "train_processed_target = Lazy_Iterable_Wrapper(train_original_target, transform_lambda)\n",
    "val_processed_target   = Lazy_Iterable_Wrapper(val_original_target, transform_lambda)\n",
    "test_processed_target  = Lazy_Iterable_Wrapper(test_original_target, transform_lambda)\n",
    "\n",
    "datasets = EasyDict({\n",
    "    \"source\": {\n",
    "        \"original\": {\"train\":train_original_source, \"val\":val_original_source, \"test\":test_original_source},\n",
    "        \"processed\": {\"train\":train_processed_source, \"val\":val_processed_source, \"test\":test_processed_source}\n",
    "    },\n",
    "    \"target\": {\n",
    "        \"original\": {\"train\":train_original_target, \"val\":val_original_target, \"test\":test_original_target},\n",
    "        \"processed\": {\"train\":train_processed_target, \"val\":val_processed_target, \"test\":test_processed_target}\n",
    "    },\n",
    "})"
   ]
  },
  {
   "cell_type": "code",
   "execution_count": 20,
   "id": "5b3c01fc",
   "metadata": {
    "execution": {
     "iopub.execute_input": "2022-03-28T03:01:41.359909Z",
     "iopub.status.busy": "2022-03-28T03:01:41.359500Z",
     "iopub.status.idle": "2022-03-28T03:01:57.357302Z",
     "shell.execute_reply": "2022-03-28T03:01:57.356439Z"
    },
    "papermill": {
     "duration": 16.02229,
     "end_time": "2022-03-28T03:01:57.357481",
     "exception": false,
     "start_time": "2022-03-28T03:01:41.335191",
     "status": "completed"
    },
    "tags": []
   },
   "outputs": [
    {
     "name": "stdout",
     "output_type": "stream",
     "text": [
      "{'O_14', 'O_50', 'O_26', 'O_38', 'O_32', 'O_44', 'O_8', 'O_20'}\n"
     ]
    },
    {
     "name": "stdout",
     "output_type": "stream",
     "text": [
      "{'C_5', 'C_1', 'C_4', 'C_2', 'C_3'}\n"
     ]
    },
    {
     "name": "stdout",
     "output_type": "stream",
     "text": [
      "tensor([[[0., 0., 0.,  ..., 0., 0., 0.],\n",
      "         [0., 0., 0.,  ..., 0., 0., 0.]],\n",
      "\n",
      "        [[0., 0., 0.,  ..., 0., 0., 0.],\n",
      "         [0., 0., 0.,  ..., 0., 0., 0.]],\n",
      "\n",
      "        [[0., 0., 0.,  ..., 0., 0., 0.],\n",
      "         [0., 0., 0.,  ..., 0., 0., 0.]],\n",
      "\n",
      "        ...,\n",
      "\n",
      "        [[0., 0., 0.,  ..., 0., 0., 0.],\n",
      "         [0., 0., 0.,  ..., 0., 0., 0.]],\n",
      "\n",
      "        [[0., 0., 0.,  ..., 0., 0., 0.],\n",
      "         [0., 0., 0.,  ..., 0., 0., 0.]],\n",
      "\n",
      "        [[0., 0., 0.,  ..., 0., 0., 0.],\n",
      "         [0., 0., 0.,  ..., 0., 0., 0.]]])\n"
     ]
    }
   ],
   "source": [
    "from steves_utils.transforms import get_average_magnitude, get_average_power\n",
    "\n",
    "print(set([u for u,_ in val_original_source]))\n",
    "print(set([u for u,_ in val_original_target]))\n",
    "\n",
    "s_x, s_y, q_x, q_y, _ = next(iter(train_processed_source))\n",
    "print(s_x)\n",
    "\n",
    "# for ds in [\n",
    "#     train_processed_source,\n",
    "#     val_processed_source,\n",
    "#     test_processed_source,\n",
    "#     train_processed_target,\n",
    "#     val_processed_target,\n",
    "#     test_processed_target\n",
    "# ]:\n",
    "#     for s_x, s_y, q_x, q_y, _ in ds:\n",
    "#         for X in (s_x, q_x):\n",
    "#             for x in X:\n",
    "#                 assert np.isclose(get_average_magnitude(x.numpy()), 1.0)\n",
    "#                 assert np.isclose(get_average_power(x.numpy()), 1.0)\n",
    "                "
   ]
  },
  {
   "cell_type": "code",
   "execution_count": 21,
   "id": "bbdacba1",
   "metadata": {
    "execution": {
     "iopub.execute_input": "2022-03-28T03:01:57.413148Z",
     "iopub.status.busy": "2022-03-28T03:01:57.412767Z",
     "iopub.status.idle": "2022-03-28T03:01:57.636888Z",
     "shell.execute_reply": "2022-03-28T03:01:57.636480Z"
    },
    "papermill": {
     "duration": 0.250874,
     "end_time": "2022-03-28T03:01:57.636988",
     "exception": false,
     "start_time": "2022-03-28T03:01:57.386114",
     "status": "completed"
    },
    "tags": []
   },
   "outputs": [
    {
     "name": "stdout",
     "output_type": "stream",
     "text": [
      "(2, 256)\n"
     ]
    }
   ],
   "source": [
    "###################################\n",
    "# Build the model\n",
    "###################################\n",
    "# easfsl only wants a tuple for the shape\n",
    "model = Steves_Prototypical_Network(x_net, device=p.device, x_shape=tuple(p.x_shape))\n",
    "optimizer = Adam(params=model.parameters(), lr=p.lr)"
   ]
  },
  {
   "cell_type": "code",
   "execution_count": 22,
   "id": "22b39ac5",
   "metadata": {
    "execution": {
     "iopub.execute_input": "2022-03-28T03:01:57.686758Z",
     "iopub.status.busy": "2022-03-28T03:01:57.686387Z",
     "iopub.status.idle": "2022-03-28T03:39:51.397323Z",
     "shell.execute_reply": "2022-03-28T03:39:51.396728Z"
    },
    "papermill": {
     "duration": 2273.737439,
     "end_time": "2022-03-28T03:39:51.397444",
     "exception": false,
     "start_time": "2022-03-28T03:01:57.660005",
     "status": "completed"
    },
    "tags": []
   },
   "outputs": [
    {
     "name": "stdout",
     "output_type": "stream",
     "text": [
      "epoch: 1, [batch: 1 / 6720], examples_per_second: 32.7938, train_label_loss: 2.8726, \n"
     ]
    },
    {
     "name": "stdout",
     "output_type": "stream",
     "text": [
      "epoch: 1, [batch: 672 / 6720], examples_per_second: 1843.5801, train_label_loss: 1.2895, \n"
     ]
    },
    {
     "name": "stdout",
     "output_type": "stream",
     "text": [
      "epoch: 1, [batch: 1344 / 6720], examples_per_second: 1968.1626, train_label_loss: 1.0502, \n"
     ]
    },
    {
     "name": "stdout",
     "output_type": "stream",
     "text": [
      "epoch: 1, [batch: 2016 / 6720], examples_per_second: 1990.5357, train_label_loss: 1.0255, \n"
     ]
    },
    {
     "name": "stdout",
     "output_type": "stream",
     "text": [
      "epoch: 1, [batch: 2688 / 6720], examples_per_second: 2030.5460, train_label_loss: 0.8961, \n"
     ]
    },
    {
     "name": "stdout",
     "output_type": "stream",
     "text": [
      "epoch: 1, [batch: 3360 / 6720], examples_per_second: 3676.2607, train_label_loss: 1.0227, \n"
     ]
    },
    {
     "name": "stdout",
     "output_type": "stream",
     "text": [
      "epoch: 1, [batch: 4032 / 6720], examples_per_second: 3892.0028, train_label_loss: 0.9786, \n"
     ]
    },
    {
     "name": "stdout",
     "output_type": "stream",
     "text": [
      "epoch: 1, [batch: 4704 / 6720], examples_per_second: 2809.8644, train_label_loss: 0.9312, \n"
     ]
    },
    {
     "name": "stdout",
     "output_type": "stream",
     "text": [
      "epoch: 1, [batch: 5376 / 6720], examples_per_second: 1854.6953, train_label_loss: 1.4810, \n"
     ]
    },
    {
     "name": "stdout",
     "output_type": "stream",
     "text": [
      "epoch: 1, [batch: 6048 / 6720], examples_per_second: 1816.6979, train_label_loss: 0.7101, \n"
     ]
    },
    {
     "name": "stdout",
     "output_type": "stream",
     "text": [
      "=============================================================\n",
      "epoch: 1, source_val_acc_label: 0.6495, target_val_acc_label: 0.4870, source_val_label_loss: 1.0443, target_val_label_loss: 195.8251, \n",
      "=============================================================\n"
     ]
    },
    {
     "name": "stdout",
     "output_type": "stream",
     "text": [
      "New best\n"
     ]
    },
    {
     "name": "stdout",
     "output_type": "stream",
     "text": [
      "epoch: 2, [batch: 1 / 6720], examples_per_second: 1.5011, train_label_loss: 1.2425, \n"
     ]
    },
    {
     "name": "stdout",
     "output_type": "stream",
     "text": [
      "epoch: 2, [batch: 672 / 6720], examples_per_second: 1853.4058, train_label_loss: 1.1758, \n"
     ]
    },
    {
     "name": "stdout",
     "output_type": "stream",
     "text": [
      "epoch: 2, [batch: 1344 / 6720], examples_per_second: 1943.9258, train_label_loss: 0.8971, \n"
     ]
    },
    {
     "name": "stdout",
     "output_type": "stream",
     "text": [
      "epoch: 2, [batch: 2016 / 6720], examples_per_second: 2015.5941, train_label_loss: 0.9745, \n"
     ]
    },
    {
     "name": "stdout",
     "output_type": "stream",
     "text": [
      "epoch: 2, [batch: 2688 / 6720], examples_per_second: 1823.5301, train_label_loss: 1.0866, \n"
     ]
    },
    {
     "name": "stdout",
     "output_type": "stream",
     "text": [
      "epoch: 2, [batch: 3360 / 6720], examples_per_second: 2492.8723, train_label_loss: 0.8832, \n"
     ]
    },
    {
     "name": "stdout",
     "output_type": "stream",
     "text": [
      "epoch: 2, [batch: 4032 / 6720], examples_per_second: 3861.3239, train_label_loss: 0.6311, \n"
     ]
    },
    {
     "name": "stdout",
     "output_type": "stream",
     "text": [
      "epoch: 2, [batch: 4704 / 6720], examples_per_second: 3828.1033, train_label_loss: 0.9562, \n"
     ]
    },
    {
     "name": "stdout",
     "output_type": "stream",
     "text": [
      "epoch: 2, [batch: 5376 / 6720], examples_per_second: 2105.1255, train_label_loss: 1.4015, \n"
     ]
    },
    {
     "name": "stdout",
     "output_type": "stream",
     "text": [
      "epoch: 2, [batch: 6048 / 6720], examples_per_second: 1766.2813, train_label_loss: 0.6722, \n"
     ]
    },
    {
     "name": "stdout",
     "output_type": "stream",
     "text": [
      "=============================================================\n",
      "epoch: 2, source_val_acc_label: 0.6803, target_val_acc_label: 0.5928, source_val_label_loss: 0.8552, target_val_label_loss: 72.2826, \n",
      "=============================================================\n"
     ]
    },
    {
     "name": "stdout",
     "output_type": "stream",
     "text": [
      "New best\n"
     ]
    },
    {
     "name": "stdout",
     "output_type": "stream",
     "text": [
      "epoch: 3, [batch: 1 / 6720], examples_per_second: 1.5192, train_label_loss: 0.5520, \n"
     ]
    },
    {
     "name": "stdout",
     "output_type": "stream",
     "text": [
      "epoch: 3, [batch: 672 / 6720], examples_per_second: 1903.2959, train_label_loss: 1.1060, \n"
     ]
    },
    {
     "name": "stdout",
     "output_type": "stream",
     "text": [
      "epoch: 3, [batch: 1344 / 6720], examples_per_second: 1896.3107, train_label_loss: 1.1607, \n"
     ]
    },
    {
     "name": "stdout",
     "output_type": "stream",
     "text": [
      "epoch: 3, [batch: 2016 / 6720], examples_per_second: 1971.2788, train_label_loss: 0.9567, \n"
     ]
    },
    {
     "name": "stdout",
     "output_type": "stream",
     "text": [
      "epoch: 3, [batch: 2688 / 6720], examples_per_second: 1792.2343, train_label_loss: 0.6854, \n"
     ]
    },
    {
     "name": "stdout",
     "output_type": "stream",
     "text": [
      "epoch: 3, [batch: 3360 / 6720], examples_per_second: 1822.8171, train_label_loss: 0.8272, \n"
     ]
    },
    {
     "name": "stdout",
     "output_type": "stream",
     "text": [
      "epoch: 3, [batch: 4032 / 6720], examples_per_second: 1758.5289, train_label_loss: 0.6072, \n"
     ]
    },
    {
     "name": "stdout",
     "output_type": "stream",
     "text": [
      "epoch: 3, [batch: 4704 / 6720], examples_per_second: 1813.8799, train_label_loss: 0.6191, \n"
     ]
    },
    {
     "name": "stdout",
     "output_type": "stream",
     "text": [
      "epoch: 3, [batch: 5376 / 6720], examples_per_second: 1799.7298, train_label_loss: 0.6573, \n"
     ]
    },
    {
     "name": "stdout",
     "output_type": "stream",
     "text": [
      "epoch: 3, [batch: 6048 / 6720], examples_per_second: 1783.1992, train_label_loss: 0.6047, \n"
     ]
    },
    {
     "name": "stdout",
     "output_type": "stream",
     "text": [
      "=============================================================\n",
      "epoch: 3, source_val_acc_label: 0.7122, target_val_acc_label: 0.6410, source_val_label_loss: 0.7669, target_val_label_loss: 65.6119, \n",
      "=============================================================\n"
     ]
    },
    {
     "name": "stdout",
     "output_type": "stream",
     "text": [
      "New best\n"
     ]
    },
    {
     "name": "stdout",
     "output_type": "stream",
     "text": [
      "epoch: 4, [batch: 1 / 6720], examples_per_second: 1.5223, train_label_loss: 0.6743, \n"
     ]
    },
    {
     "name": "stdout",
     "output_type": "stream",
     "text": [
      "epoch: 4, [batch: 672 / 6720], examples_per_second: 3897.1936, train_label_loss: 0.8537, \n"
     ]
    },
    {
     "name": "stdout",
     "output_type": "stream",
     "text": [
      "epoch: 4, [batch: 1344 / 6720], examples_per_second: 4363.4156, train_label_loss: 0.4254, \n"
     ]
    },
    {
     "name": "stdout",
     "output_type": "stream",
     "text": [
      "epoch: 4, [batch: 2016 / 6720], examples_per_second: 3737.4807, train_label_loss: 0.3035, \n"
     ]
    },
    {
     "name": "stdout",
     "output_type": "stream",
     "text": [
      "epoch: 4, [batch: 2688 / 6720], examples_per_second: 1808.0572, train_label_loss: 1.1389, \n"
     ]
    },
    {
     "name": "stdout",
     "output_type": "stream",
     "text": [
      "epoch: 4, [batch: 3360 / 6720], examples_per_second: 1854.3469, train_label_loss: 1.0192, \n"
     ]
    },
    {
     "name": "stdout",
     "output_type": "stream",
     "text": [
      "epoch: 4, [batch: 4032 / 6720], examples_per_second: 1773.2389, train_label_loss: 0.4414, \n"
     ]
    },
    {
     "name": "stdout",
     "output_type": "stream",
     "text": [
      "epoch: 4, [batch: 4704 / 6720], examples_per_second: 1799.9048, train_label_loss: 0.7238, \n"
     ]
    },
    {
     "name": "stdout",
     "output_type": "stream",
     "text": [
      "epoch: 4, [batch: 5376 / 6720], examples_per_second: 1741.7356, train_label_loss: 0.5766, \n"
     ]
    },
    {
     "name": "stdout",
     "output_type": "stream",
     "text": [
      "epoch: 4, [batch: 6048 / 6720], examples_per_second: 1826.8055, train_label_loss: 0.5899, \n"
     ]
    },
    {
     "name": "stdout",
     "output_type": "stream",
     "text": [
      "=============================================================\n",
      "epoch: 4, source_val_acc_label: 0.7542, target_val_acc_label: 0.5618, source_val_label_loss: 0.6557, target_val_label_loss: 117.4287, \n",
      "=============================================================\n"
     ]
    },
    {
     "name": "stdout",
     "output_type": "stream",
     "text": [
      "epoch: 5, [batch: 1 / 6720], examples_per_second: 1.5026, train_label_loss: 0.4103, \n"
     ]
    },
    {
     "name": "stdout",
     "output_type": "stream",
     "text": [
      "epoch: 5, [batch: 672 / 6720], examples_per_second: 1923.0575, train_label_loss: 0.8614, \n"
     ]
    },
    {
     "name": "stdout",
     "output_type": "stream",
     "text": [
      "epoch: 5, [batch: 1344 / 6720], examples_per_second: 1958.2311, train_label_loss: 0.7022, \n"
     ]
    },
    {
     "name": "stdout",
     "output_type": "stream",
     "text": [
      "epoch: 5, [batch: 2016 / 6720], examples_per_second: 1874.9065, train_label_loss: 0.6124, \n"
     ]
    },
    {
     "name": "stdout",
     "output_type": "stream",
     "text": [
      "epoch: 5, [batch: 2688 / 6720], examples_per_second: 1796.9697, train_label_loss: 0.8737, \n"
     ]
    },
    {
     "name": "stdout",
     "output_type": "stream",
     "text": [
      "epoch: 5, [batch: 3360 / 6720], examples_per_second: 1786.0128, train_label_loss: 0.4029, \n"
     ]
    },
    {
     "name": "stdout",
     "output_type": "stream",
     "text": [
      "epoch: 5, [batch: 4032 / 6720], examples_per_second: 1764.8031, train_label_loss: 0.3639, \n"
     ]
    },
    {
     "name": "stdout",
     "output_type": "stream",
     "text": [
      "epoch: 5, [batch: 4704 / 6720], examples_per_second: 1836.4455, train_label_loss: 0.4888, \n"
     ]
    },
    {
     "name": "stdout",
     "output_type": "stream",
     "text": [
      "epoch: 5, [batch: 5376 / 6720], examples_per_second: 3224.2259, train_label_loss: 0.5365, \n"
     ]
    },
    {
     "name": "stdout",
     "output_type": "stream",
     "text": [
      "epoch: 5, [batch: 6048 / 6720], examples_per_second: 3920.8097, train_label_loss: 0.2237, \n"
     ]
    },
    {
     "name": "stdout",
     "output_type": "stream",
     "text": [
      "=============================================================\n",
      "epoch: 5, source_val_acc_label: 0.8041, target_val_acc_label: 0.5972, source_val_label_loss: 0.5306, target_val_label_loss: 178.4922, \n",
      "=============================================================\n"
     ]
    },
    {
     "name": "stdout",
     "output_type": "stream",
     "text": [
      "epoch: 6, [batch: 1 / 6720], examples_per_second: 1.8345, train_label_loss: 0.3013, \n"
     ]
    },
    {
     "name": "stdout",
     "output_type": "stream",
     "text": [
      "epoch: 6, [batch: 672 / 6720], examples_per_second: 1908.9907, train_label_loss: 0.2295, \n"
     ]
    },
    {
     "name": "stdout",
     "output_type": "stream",
     "text": [
      "epoch: 6, [batch: 1344 / 6720], examples_per_second: 1980.6951, train_label_loss: 0.6031, \n"
     ]
    },
    {
     "name": "stdout",
     "output_type": "stream",
     "text": [
      "epoch: 6, [batch: 2016 / 6720], examples_per_second: 1855.6954, train_label_loss: 0.9477, \n"
     ]
    },
    {
     "name": "stdout",
     "output_type": "stream",
     "text": [
      "epoch: 6, [batch: 2688 / 6720], examples_per_second: 1798.9904, train_label_loss: 0.3318, \n"
     ]
    },
    {
     "name": "stdout",
     "output_type": "stream",
     "text": [
      "epoch: 6, [batch: 3360 / 6720], examples_per_second: 1807.3791, train_label_loss: 0.2694, \n"
     ]
    },
    {
     "name": "stdout",
     "output_type": "stream",
     "text": [
      "epoch: 6, [batch: 4032 / 6720], examples_per_second: 1767.8127, train_label_loss: 0.6327, \n"
     ]
    },
    {
     "name": "stdout",
     "output_type": "stream",
     "text": [
      "epoch: 6, [batch: 4704 / 6720], examples_per_second: 1798.6963, train_label_loss: 0.4411, \n"
     ]
    },
    {
     "name": "stdout",
     "output_type": "stream",
     "text": [
      "epoch: 6, [batch: 5376 / 6720], examples_per_second: 2068.0031, train_label_loss: 1.2708, \n"
     ]
    },
    {
     "name": "stdout",
     "output_type": "stream",
     "text": [
      "epoch: 6, [batch: 6048 / 6720], examples_per_second: 3729.5299, train_label_loss: 0.8281, \n"
     ]
    },
    {
     "name": "stdout",
     "output_type": "stream",
     "text": [
      "=============================================================\n",
      "epoch: 6, source_val_acc_label: 0.8177, target_val_acc_label: 0.5312, source_val_label_loss: 0.4968, target_val_label_loss: 297.9822, \n",
      "=============================================================\n"
     ]
    },
    {
     "name": "stdout",
     "output_type": "stream",
     "text": [
      "epoch: 7, [batch: 1 / 6720], examples_per_second: 2.4826, train_label_loss: 0.3385, \n"
     ]
    },
    {
     "name": "stdout",
     "output_type": "stream",
     "text": [
      "epoch: 7, [batch: 672 / 6720], examples_per_second: 1923.5553, train_label_loss: 0.9020, \n"
     ]
    },
    {
     "name": "stdout",
     "output_type": "stream",
     "text": [
      "epoch: 7, [batch: 1344 / 6720], examples_per_second: 1971.9311, train_label_loss: 0.1796, \n"
     ]
    },
    {
     "name": "stdout",
     "output_type": "stream",
     "text": [
      "epoch: 7, [batch: 2016 / 6720], examples_per_second: 1982.6179, train_label_loss: 0.2886, \n"
     ]
    },
    {
     "name": "stdout",
     "output_type": "stream",
     "text": [
      "epoch: 7, [batch: 2688 / 6720], examples_per_second: 1743.2167, train_label_loss: 0.2637, \n"
     ]
    },
    {
     "name": "stdout",
     "output_type": "stream",
     "text": [
      "epoch: 7, [batch: 3360 / 6720], examples_per_second: 1816.4606, train_label_loss: 0.3119, \n"
     ]
    },
    {
     "name": "stdout",
     "output_type": "stream",
     "text": [
      "epoch: 7, [batch: 4032 / 6720], examples_per_second: 1763.4552, train_label_loss: 0.4169, \n"
     ]
    },
    {
     "name": "stdout",
     "output_type": "stream",
     "text": [
      "epoch: 7, [batch: 4704 / 6720], examples_per_second: 1834.7483, train_label_loss: 0.9712, \n"
     ]
    },
    {
     "name": "stdout",
     "output_type": "stream",
     "text": [
      "epoch: 7, [batch: 5376 / 6720], examples_per_second: 1759.1337, train_label_loss: 0.5314, \n"
     ]
    },
    {
     "name": "stdout",
     "output_type": "stream",
     "text": [
      "epoch: 7, [batch: 6048 / 6720], examples_per_second: 2811.5869, train_label_loss: 0.5362, \n"
     ]
    },
    {
     "name": "stdout",
     "output_type": "stream",
     "text": [
      "=============================================================\n",
      "epoch: 7, source_val_acc_label: 0.8175, target_val_acc_label: 0.5767, source_val_label_loss: 0.4938, target_val_label_loss: 199.8065, \n",
      "=============================================================\n"
     ]
    },
    {
     "name": "stdout",
     "output_type": "stream",
     "text": [
      "Patience (3) exhausted\n"
     ]
    }
   ],
   "source": [
    "###################################\n",
    "# train\n",
    "###################################\n",
    "jig = PTN_Train_Eval_Test_Jig(model, p.BEST_MODEL_PATH, p.device)\n",
    "\n",
    "jig.train(\n",
    "    train_iterable=datasets.source.processed.train,\n",
    "    source_val_iterable=datasets.source.processed.val,\n",
    "    target_val_iterable=datasets.target.processed.val,\n",
    "    num_epochs=p.n_epoch,\n",
    "    num_logs_per_epoch=p.NUM_LOGS_PER_EPOCH,\n",
    "    patience=p.patience,\n",
    "    optimizer=optimizer,\n",
    "    criteria_for_best=p.criteria_for_best,\n",
    ")"
   ]
  },
  {
   "cell_type": "code",
   "execution_count": 23,
   "id": "31e8fabf",
   "metadata": {
    "execution": {
     "iopub.execute_input": "2022-03-28T03:39:51.495696Z",
     "iopub.status.busy": "2022-03-28T03:39:51.495122Z",
     "iopub.status.idle": "2022-03-28T03:39:51.526756Z",
     "shell.execute_reply": "2022-03-28T03:39:51.526084Z"
    },
    "papermill": {
     "duration": 0.080704,
     "end_time": "2022-03-28T03:39:51.526914",
     "exception": false,
     "start_time": "2022-03-28T03:39:51.446210",
     "status": "completed"
    },
    "tags": []
   },
   "outputs": [],
   "source": [
    "total_experiment_time_secs = time.time() - start_time_secs"
   ]
  },
  {
   "cell_type": "code",
   "execution_count": 24,
   "id": "87b9595b",
   "metadata": {
    "execution": {
     "iopub.execute_input": "2022-03-28T03:39:51.632285Z",
     "iopub.status.busy": "2022-03-28T03:39:51.631374Z",
     "iopub.status.idle": "2022-03-28T03:45:18.942581Z",
     "shell.execute_reply": "2022-03-28T03:45:18.941831Z"
    },
    "papermill": {
     "duration": 327.365773,
     "end_time": "2022-03-28T03:45:18.942776",
     "exception": false,
     "start_time": "2022-03-28T03:39:51.577003",
     "status": "completed"
    },
    "tags": []
   },
   "outputs": [],
   "source": [
    "###################################\n",
    "# Evaluate the model\n",
    "###################################\n",
    "source_test_label_accuracy, source_test_label_loss = jig.test(datasets.source.processed.test)\n",
    "target_test_label_accuracy, target_test_label_loss = jig.test(datasets.target.processed.test)\n",
    "\n",
    "source_val_label_accuracy, source_val_label_loss = jig.test(datasets.source.processed.val)\n",
    "target_val_label_accuracy, target_val_label_loss = jig.test(datasets.target.processed.val)\n",
    "\n",
    "history = jig.get_history()\n",
    "\n",
    "total_epochs_trained = len(history[\"epoch_indices\"])\n",
    "\n",
    "val_dl = Iterable_Aggregator((datasets.source.original.val,datasets.target.original.val))\n",
    "\n",
    "confusion = ptn_confusion_by_domain_over_dataloader(model, p.device, val_dl)\n",
    "per_domain_accuracy = per_domain_accuracy_from_confusion(confusion)\n",
    "\n",
    "# Add a key to per_domain_accuracy for if it was a source domain\n",
    "for domain, accuracy in per_domain_accuracy.items():\n",
    "    per_domain_accuracy[domain] = {\n",
    "        \"accuracy\": accuracy,\n",
    "        \"source?\": domain in p.domains_source\n",
    "    }\n",
    "\n",
    "# Do an independent accuracy assesment JUST TO BE SURE!\n",
    "# _source_test_label_accuracy = independent_accuracy_assesment(model, datasets.source.processed.test, p.device)\n",
    "# _target_test_label_accuracy = independent_accuracy_assesment(model, datasets.target.processed.test, p.device)\n",
    "# _source_val_label_accuracy = independent_accuracy_assesment(model, datasets.source.processed.val, p.device)\n",
    "# _target_val_label_accuracy = independent_accuracy_assesment(model, datasets.target.processed.val, p.device)\n",
    "\n",
    "# assert(_source_test_label_accuracy == source_test_label_accuracy)\n",
    "# assert(_target_test_label_accuracy == target_test_label_accuracy)\n",
    "# assert(_source_val_label_accuracy == source_val_label_accuracy)\n",
    "# assert(_target_val_label_accuracy == target_val_label_accuracy)\n",
    "\n",
    "experiment = {\n",
    "    \"experiment_name\": p.experiment_name,\n",
    "    \"parameters\": dict(p),\n",
    "    \"results\": {\n",
    "        \"source_test_label_accuracy\": source_test_label_accuracy,\n",
    "        \"source_test_label_loss\": source_test_label_loss,\n",
    "        \"target_test_label_accuracy\": target_test_label_accuracy,\n",
    "        \"target_test_label_loss\": target_test_label_loss,\n",
    "        \"source_val_label_accuracy\": source_val_label_accuracy,\n",
    "        \"source_val_label_loss\": source_val_label_loss,\n",
    "        \"target_val_label_accuracy\": target_val_label_accuracy,\n",
    "        \"target_val_label_loss\": target_val_label_loss,\n",
    "        \"total_epochs_trained\": total_epochs_trained,\n",
    "        \"total_experiment_time_secs\": total_experiment_time_secs,\n",
    "        \"confusion\": confusion,\n",
    "        \"per_domain_accuracy\": per_domain_accuracy,\n",
    "    },\n",
    "    \"history\": history,\n",
    "    \"dataset_metrics\": get_dataset_metrics(datasets, \"ptn\"),\n",
    "}"
   ]
  },
  {
   "cell_type": "code",
   "execution_count": 25,
   "id": "54a21829",
   "metadata": {
    "execution": {
     "iopub.execute_input": "2022-03-28T03:45:19.041336Z",
     "iopub.status.busy": "2022-03-28T03:45:19.040546Z",
     "iopub.status.idle": "2022-03-28T03:45:19.264679Z",
     "shell.execute_reply": "2022-03-28T03:45:19.265364Z"
    },
    "papermill": {
     "duration": 0.272534,
     "end_time": "2022-03-28T03:45:19.265595",
     "exception": false,
     "start_time": "2022-03-28T03:45:18.993061",
     "status": "completed"
    },
    "tags": []
   },
   "outputs": [
    {
     "data": {
      "image/png": "[encoded data removed]",
      "text/plain": [
       "<Figure size 1080x504 with 1 Axes>"
      ]
     },
     "metadata": {
      "needs_background": "light"
     },
     "output_type": "display_data"
    }
   ],
   "source": [
    "ax = get_loss_curve(experiment)\n",
    "plt.show()"
   ]
  },
  {
   "cell_type": "code",
   "execution_count": 26,
   "id": "fd8a0f60",
   "metadata": {
    "execution": {
     "iopub.execute_input": "2022-03-28T03:45:19.366356Z",
     "iopub.status.busy": "2022-03-28T03:45:19.365985Z",
     "iopub.status.idle": "2022-03-28T03:45:19.681224Z",
     "shell.execute_reply": "2022-03-28T03:45:19.681914Z"
    },
    "papermill": {
     "duration": 0.364658,
     "end_time": "2022-03-28T03:45:19.682140",
     "exception": false,
     "start_time": "2022-03-28T03:45:19.317482",
     "status": "completed"
    },
    "tags": []
   },
   "outputs": [
    {
     "data": {
      "text/plain": [
       "<AxesSubplot:title={'center':'Results'}>"
      ]
     },
     "execution_count": 26,
     "metadata": {},
     "output_type": "execute_result"
    },
    {
     "data": {
      "image/png": "[encoded data removed]",
      "text/plain": [
       "<Figure size 1080x504 with 1 Axes>"
      ]
     },
     "metadata": {
      "needs_background": "light"
     },
     "output_type": "display_data"
    }
   ],
   "source": [
    "get_results_table(experiment)"
   ]
  },
  {
   "cell_type": "code",
   "execution_count": 27,
   "id": "cf8dc689",
   "metadata": {
    "execution": {
     "iopub.execute_input": "2022-03-28T03:45:19.785110Z",
     "iopub.status.busy": "2022-03-28T03:45:19.784731Z",
     "iopub.status.idle": "2022-03-28T03:45:20.030196Z",
     "shell.execute_reply": "2022-03-28T03:45:20.029481Z"
    },
    "papermill": {
     "duration": 0.29739,
     "end_time": "2022-03-28T03:45:20.030386",
     "exception": false,
     "start_time": "2022-03-28T03:45:19.732996",
     "status": "completed"
    },
    "tags": []
   },
   "outputs": [
    {
     "data": {
      "text/plain": [
       "<AxesSubplot:title={'center':'Per Domain Validation Accuracy'}, xlabel='domain'>"
      ]
     },
     "execution_count": 27,
     "metadata": {},
     "output_type": "execute_result"
    },
    {
     "data": {
      "image/png": "[encoded data removed]",
      "text/plain": [
       "<Figure size 1080x504 with 1 Axes>"
      ]
     },
     "metadata": {
      "needs_background": "light"
     },
     "output_type": "display_data"
    }
   ],
   "source": [
    "get_domain_accuracies(experiment)"
   ]
  },
  {
   "cell_type": "code",
   "execution_count": 28,
   "id": "a74ae082",
   "metadata": {
    "execution": {
     "iopub.execute_input": "2022-03-28T03:45:20.136347Z",
     "iopub.status.busy": "2022-03-28T03:45:20.135953Z",
     "iopub.status.idle": "2022-03-28T03:45:20.163858Z",
     "shell.execute_reply": "2022-03-28T03:45:20.163026Z"
    },
    "papermill": {
     "duration": 0.081347,
     "end_time": "2022-03-28T03:45:20.164018",
     "exception": false,
     "start_time": "2022-03-28T03:45:20.082671",
     "status": "completed"
    },
    "tags": []
   },
   "outputs": [
    {
     "name": "stdout",
     "output_type": "stream",
     "text": [
      "Source Test Label Accuracy: 0.7177734375 Target Test Label Accuracy: 0.6342762415349887\n",
      "Source Val Label Accuracy: 0.7121744791666667 Target Val Label Accuracy: 0.6410357142857143\n"
     ]
    }
   ],
   "source": [
    "print(\"Source Test Label Accuracy:\", experiment[\"results\"][\"source_test_label_accuracy\"], \"Target Test Label Accuracy:\", experiment[\"results\"][\"target_test_label_accuracy\"])\n",
    "print(\"Source Val Label Accuracy:\", experiment[\"results\"][\"source_val_label_accuracy\"], \"Target Val Label Accuracy:\", experiment[\"results\"][\"target_val_label_accuracy\"])"
   ]
  },
  {
   "cell_type": "code",
   "execution_count": 29,
   "id": "dacca602",
   "metadata": {
    "execution": {
     "iopub.execute_input": "2022-03-28T03:45:20.268472Z",
     "iopub.status.busy": "2022-03-28T03:45:20.268104Z",
     "iopub.status.idle": "2022-03-28T03:45:20.290660Z",
     "shell.execute_reply": "2022-03-28T03:45:20.291340Z"
    },
    "papermill": {
     "duration": 0.073806,
     "end_time": "2022-03-28T03:45:20.291516",
     "exception": false,
     "start_time": "2022-03-28T03:45:20.217710",
     "status": "completed"
    },
    "tags": [
     "experiment_json"
    ]
   },
   "outputs": [
    {
     "data": {
      "text/plain": [
       "'{\"experiment_name\": \"tl_3-jitter1v2:oracle.run1.framed -> cores\", \"parameters\": {\"experiment_name\": \"tl_3-jitter1v2:oracle.run1.framed -> cores\", \"device\": \"cuda\", \"lr\": 0.0001, \"x_shape\": [2, 256], \"n_shot\": 3, \"n_query\": 2, \"train_k_factor\": 3, \"val_k_factor\": 2, \"test_k_factor\": 2, \"torch_default_dtype\": \"torch.float32\", \"n_epoch\": 50, \"patience\": 3, \"criteria_for_best\": \"target_accuracy\", \"x_net\": [{\"class\": \"nnReshape\", \"kargs\": {\"shape\": [-1, 1, 2, 256]}}, {\"class\": \"Conv2d\", \"kargs\": {\"in_channels\": 1, \"out_channels\": 256, \"kernel_size\": [1, 7], \"bias\": false, \"padding\": [0, 3]}}, {\"class\": \"ReLU\", \"kargs\": {\"inplace\": true}}, {\"class\": \"BatchNorm2d\", \"kargs\": {\"num_features\": 256}}, {\"class\": \"Conv2d\", \"kargs\": {\"in_channels\": 256, \"out_channels\": 80, \"kernel_size\": [2, 7], \"bias\": true, \"padding\": [0, 3]}}, {\"class\": \"ReLU\", \"kargs\": {\"inplace\": true}}, {\"class\": \"BatchNorm2d\", \"kargs\": {\"num_features\": 80}}, {\"class\": \"Flatten\", \"kargs\": {}}, {\"class\": \"Linear\", \"kargs\": {\"in_features\": 20480, \"out_features\": 256}}, {\"class\": \"ReLU\", \"kargs\": {\"inplace\": true}}, {\"class\": \"BatchNorm1d\", \"kargs\": {\"num_features\": 256}}, {\"class\": \"Linear\", \"kargs\": {\"in_features\": 256, \"out_features\": 256}}], \"NUM_LOGS_PER_EPOCH\": 10, \"BEST_MODEL_PATH\": \"./best_model.pth\", \"n_way\": 16, \"datasets\": [{\"labels\": [\"1-10.\", \"1-11.\", \"1-15.\", \"1-16.\", \"1-17.\", \"1-18.\", \"1-19.\", \"10-4.\", \"10-7.\", \"11-1.\", \"11-14.\", \"11-17.\", \"11-20.\", \"11-7.\", \"13-20.\", \"13-8.\", \"14-10.\", \"14-11.\", \"14-14.\", \"14-7.\", \"15-1.\", \"15-20.\", \"16-1.\", \"16-16.\", \"17-10.\", \"17-11.\", \"17-2.\", \"19-1.\", \"19-16.\", \"19-19.\", \"19-20.\", \"19-3.\", \"2-10.\", \"2-11.\", \"2-17.\", \"2-18.\", \"2-20.\", \"2-3.\", \"2-4.\", \"2-5.\", \"2-6.\", \"2-7.\", \"2-8.\", \"3-13.\", \"3-18.\", \"3-3.\", \"4-1.\", \"4-10.\", \"4-11.\", \"4-19.\", \"5-5.\", \"6-15.\", \"7-10.\", \"7-14.\", \"8-18.\", \"8-20.\", \"8-3.\", \"8-8.\"], \"domains\": [1, 2, 3, 4, 5], \"num_examples_per_domain_per_label\": -1, \"pickle_path\": \"/root/csc500-main/datasets/cores.stratified_ds.2022A.pkl\", \"source_or_target_dataset\": \"target\", \"x_transforms\": [\"unit_power\", \"jitter_256_1\", \"lowpass_+/-10MHz\", \"take_200\"], \"episode_transforms\": [], \"domain_prefix\": \"C_\"}, {\"labels\": [\"3123D52\", \"3123D65\", \"3123D79\", \"3123D80\", \"3123D54\", \"3123D70\", \"3123D7B\", \"3123D89\", \"3123D58\", \"3123D76\", \"3123D7D\", \"3123EFE\", \"3123D64\", \"3123D78\", \"3123D7E\", \"3124E4A\"], \"domains\": [32, 38, 8, 44, 14, 50, 20, 26], \"num_examples_per_domain_per_label\": 2000, \"pickle_path\": \"/root/csc500-main/datasets/oracle.Run1_framed_2000Examples_stratified_ds.2022A.pkl\", \"source_or_target_dataset\": \"source\", \"x_transforms\": [\"unit_power\", \"jitter_256_1\", \"take_200\", \"resample_20Msps_to_25Msps\"], \"episode_transforms\": [], \"domain_prefix\": \"O_\"}], \"seed\": 420, \"dataset_seed\": 420, \"domains_source\": [\"O_32\", \"O_38\", \"O_8\", \"O_44\", \"O_14\", \"O_50\", \"O_20\", \"O_26\"], \"domains_target\": [\"C_1\", \"C_2\", \"C_3\", \"C_4\", \"C_5\"]}, \"results\": {\"source_test_label_accuracy\": 0.7177734375, \"source_test_label_loss\": 0.7578650712966919, \"target_test_label_accuracy\": 0.6342762415349887, \"target_test_label_loss\": 65.30633544921875, \"source_val_label_accuracy\": 0.7121744791666667, \"source_val_label_loss\": 0.7668857574462891, \"target_val_label_accuracy\": 0.6410357142857143, \"target_val_label_loss\": 65.61186218261719, \"total_epochs_trained\": 7, \"total_experiment_time_secs\": 2403.1595737934113, \"confusion\": {\"O_14\": {\"15\": {\"15\": 236, \"7\": 4}, \"5\": {\"5\": 147, \"4\": 70, \"1\": 15, \"2\": 4, \"3\": 4}, \"7\": {\"7\": 238, \"15\": 2}, \"4\": {\"4\": 191, \"5\": 33, \"1\": 6, \"2\": 4, \"3\": 6}, \"10\": {\"10\": 226, \"0\": 14}, \"11\": {\"11\": 199, \"0\": 24, \"9\": 15, \"10\": 2}, \"12\": {\"12\": 239, \"9\": 1}, \"0\": {\"0\": 189, \"3\": 10, \"10\": 34, \"11\": 5, \"8\": 2}, \"14\": {\"14\": 177, \"13\": 21, \"6\": 19, \"2\": 20, \"3\": 3}, \"8\": {\"8\": 240}, \"13\": {\"6\": 83, \"14\": 51, \"13\": 83, \"2\": 18, \"5\": 3, \"15\": 1, \"10\": 1}, \"6\": {\"13\": 100, \"6\": 116, \"2\": 13, \"14\": 11}, \"1\": {\"1\": 206, \"5\": 26, \"4\": 8}, \"3\": {\"3\": 213, \"4\": 17, \"2\": 2, \"0\": 1, \"14\": 7}, \"9\": {\"9\": 235, \"11\": 5}, \"2\": {\"2\": 107, \"14\": 37, \"4\": 10, \"5\": 20, \"3\": 20, \"15\": 10, \"13\": 20, \"6\": 15, \"1\": 1}}, \"O_20\": {\"4\": {\"8\": 32, \"3\": 7, \"10\": 5, \"4\": 192, \"5\": 1, \"12\": 2, \"7\": 1}, \"10\": {\"10\": 210, \"14\": 21, \"4\": 3, \"8\": 6}, \"15\": {\"15\": 142, \"13\": 8, \"1\": 37, \"0\": 38, \"5\": 7, \"12\": 5, \"2\": 1, \"9\": 2}, \"0\": {\"7\": 1, \"15\": 40, \"0\": 101, \"5\": 67, \"1\": 23, \"12\": 7, \"3\": 1}, \"6\": {\"6\": 215, \"8\": 4, \"14\": 21}, \"3\": {\"3\": 107, \"1\": 3, \"9\": 38, \"12\": 43, \"5\": 14, \"4\": 13, \"7\": 11, \"2\": 9, \"8\": 2}, \"7\": {\"7\": 163, \"8\": 14, \"3\": 14, \"2\": 36, \"9\": 11, \"4\": 1, \"12\": 1}, \"2\": {\"9\": 64, \"7\": 32, \"2\": 107, \"3\": 11, \"13\": 14, \"12\": 9, \"1\": 2, \"5\": 1}, \"8\": {\"8\": 183, \"10\": 3, \"4\": 31, \"6\": 2, \"7\": 17, \"0\": 1, \"3\": 1, \"9\": 1, \"14\": 1}, \"11\": {\"11\": 240}, \"14\": {\"14\": 198, \"6\": 19, \"8\": 11, \"10\": 12}, \"12\": {\"5\": 39, \"12\": 98, \"1\": 28, \"3\": 40, \"0\": 7, \"9\": 20, \"2\": 4, \"15\": 4}, \"13\": {\"13\": 218, \"15\": 5, \"9\": 5, \"12\": 3, \"2\": 9}, \"9\": {\"2\": 74, \"9\": 96, \"13\": 14, \"7\": 6, \"12\": 13, \"3\": 32, \"1\": 3, \"15\": 2}, \"5\": {\"12\": 38, \"1\": 34, \"5\": 107, \"0\": 45, \"15\": 9, \"3\": 7}, \"1\": {\"12\": 44, \"15\": 43, \"5\": 36, \"1\": 97, \"9\": 5, \"0\": 12, \"13\": 1, \"3\": 2}}, \"O_50\": {\"5\": {\"13\": 45, \"7\": 39, \"5\": 104, \"4\": 34, \"6\": 11, \"1\": 6, \"10\": 1}, \"12\": {\"9\": 13, \"12\": 218, \"14\": 3, \"11\": 6}, \"14\": {\"14\": 235, \"12\": 4, \"11\": 1}, \"4\": {\"4\": 116, \"7\": 5, \"5\": 32, \"15\": 43, \"1\": 30, \"6\": 12, \"13\": 2}, \"13\": {\"10\": 4, \"7\": 43, \"13\": 138, \"5\": 37, \"6\": 16, \"0\": 1, \"4\": 1}, \"10\": {\"10\": 214, \"8\": 7, \"5\": 1, \"13\": 6, \"0\": 8, \"7\": 4}, \"9\": {\"11\": 21, \"9\": 199, \"12\": 20}, \"15\": {\"15\": 177, \"1\": 37, \"4\": 18, \"6\": 1, \"11\": 6, \"14\": 1}, \"6\": {\"6\": 162, \"13\": 26, \"5\": 11, \"4\": 15, \"15\": 5, \"1\": 16, \"7\": 4, \"10\": 1}, \"2\": {\"2\": 213, \"0\": 27}, \"0\": {\"0\": 198, \"10\": 17, \"2\": 23, \"13\": 2}, \"11\": {\"11\": 196, \"9\": 25, \"15\": 12, \"12\": 6, \"1\": 1}, \"3\": {\"3\": 235, \"8\": 5}, \"8\": {\"8\": 234, \"10\": 4, \"3\": 2}, \"7\": {\"7\": 179, \"13\": 37, \"10\": 2, \"5\": 19, \"6\": 3}, \"1\": {\"1\": 155, \"11\": 2, \"6\": 17, \"15\": 45, \"4\": 15, \"13\": 1, \"5\": 5}}, \"O_26\": {\"7\": {\"8\": 16, \"3\": 32, \"7\": 133, \"4\": 23, \"2\": 24, \"0\": 7, \"14\": 1, \"15\": 3, \"10\": 1}, \"6\": {\"6\": 173, \"8\": 15, \"0\": 4, \"9\": 21, \"10\": 16, \"13\": 4, \"15\": 7}, \"14\": {\"14\": 81, \"4\": 45, \"1\": 51, \"10\": 17, \"0\": 35, \"7\": 2, \"8\": 9}, \"15\": {\"15\": 98, \"5\": 21, \"9\": 67, \"13\": 14, \"8\": 15, \"6\": 8, \"2\": 8, \"7\": 5, \"10\": 4}, \"5\": {\"5\": 160, \"15\": 21, \"9\": 17, \"2\": 17, \"13\": 18, \"8\": 4, \"7\": 3}, \"10\": {\"10\": 98, \"8\": 33, \"0\": 40, \"4\": 20, \"6\": 10, \"14\": 31, \"1\": 4, \"7\": 2, \"2\": 1, \"15\": 1}, \"4\": {\"14\": 37, \"4\": 91, \"0\": 27, \"1\": 16, \"7\": 18, \"10\": 21, \"8\": 28, \"2\": 1, \"9\": 1}, \"11\": {\"11\": 239, \"12\": 1}, \"13\": {\"13\": 175, \"9\": 13, \"15\": 9, \"5\": 37, \"2\": 4, \"6\": 1, \"3\": 1}, \"2\": {\"9\": 4, \"5\": 28, \"2\": 76, \"3\": 86, \"7\": 28, \"0\": 1, \"4\": 1, \"15\": 13, \"8\": 3}, \"0\": {\"0\": 71, \"8\": 20, \"4\": 40, \"10\": 58, \"6\": 5, \"14\": 36, \"1\": 5, \"7\": 3, \"9\": 1, \"3\": 1}, \"12\": {\"12\": 239, \"11\": 1}, \"3\": {\"2\": 62, \"3\": 150, \"7\": 28}, \"9\": {\"9\": 105, \"8\": 9, \"6\": 22, \"13\": 19, \"15\": 67, \"7\": 1, \"5\": 12, \"2\": 2, \"10\": 3}, \"8\": {\"7\": 22, \"0\": 27, \"8\": 90, \"10\": 30, \"4\": 25, \"6\": 9, \"14\": 7, \"15\": 17, \"2\": 6, \"9\": 5, \"5\": 2}, \"1\": {\"1\": 162, \"14\": 49, \"4\": 14, \"3\": 2, \"10\": 6, \"0\": 5, \"8\": 2}}, \"O_32\": {\"7\": {\"7\": 117, \"13\": 17, \"5\": 18, \"0\": 7, \"2\": 5, \"4\": 31, \"14\": 37, \"11\": 7, \"8\": 1}, \"2\": {\"2\": 189, \"4\": 49, \"0\": 2}, \"5\": {\"3\": 21, \"5\": 61, \"13\": 38, \"8\": 36, \"7\": 31, \"0\": 16, \"4\": 20, \"11\": 3, \"14\": 13, \"2\": 1}, \"6\": {\"6\": 240}, \"13\": {\"13\": 119, \"3\": 15, \"5\": 41, \"7\": 28, \"8\": 4, \"11\": 6, \"0\": 5, \"4\": 18, \"14\": 4}, \"4\": {\"4\": 139, \"2\": 45, \"0\": 10, \"13\": 9, \"7\": 27, \"5\": 7, \"8\": 2, \"14\": 1}, \"3\": {\"3\": 230, \"13\": 4, \"11\": 3, \"5\": 3}, \"0\": {\"4\": 11, \"0\": 173, \"5\": 10, \"7\": 18, \"8\": 17, \"2\": 5, \"13\": 3, \"14\": 3}, \"9\": {\"9\": 233, \"12\": 7}, \"12\": {\"12\": 240}, \"8\": {\"8\": 150, \"14\": 5, \"5\": 31, \"0\": 24, \"13\": 20, \"3\": 4, \"7\": 5, \"4\": 1}, \"14\": {\"14\": 113, \"7\": 21, \"0\": 12, \"5\": 14, \"11\": 68, \"13\": 3, \"4\": 3, \"3\": 2, \"8\": 2, \"2\": 2}, \"15\": {\"15\": 239, \"3\": 1}, \"11\": {\"11\": 189, \"14\": 46, \"7\": 3, \"3\": 1, \"5\": 1}, \"10\": {\"10\": 236, \"1\": 4}, \"1\": {\"1\": 238, \"10\": 2}}, \"O_44\": {\"11\": {\"11\": 222, \"6\": 10, \"13\": 8}, \"7\": {\"9\": 49, \"10\": 2, \"7\": 132, \"2\": 43, \"6\": 11, \"1\": 2, \"13\": 1}, \"6\": {\"6\": 150, \"13\": 42, \"9\": 28, \"11\": 3, \"7\": 17}, \"12\": {\"12\": 176, \"1\": 46, \"10\": 16, \"3\": 2}, \"4\": {\"14\": 71, \"4\": 161, \"15\": 7, \"13\": 1}, \"13\": {\"13\": 160, \"6\": 45, \"9\": 27, \"7\": 4, \"11\": 3, \"4\": 1}, \"8\": {\"8\": 160, \"0\": 71, \"5\": 6, \"15\": 3}, \"5\": {\"5\": 212, \"15\": 5, \"14\": 10, \"8\": 4, \"0\": 9}, \"14\": {\"15\": 13, \"14\": 137, \"4\": 86, \"5\": 4}, \"3\": {\"1\": 17, \"3\": 218, \"2\": 2, \"12\": 3}, \"10\": {\"10\": 175, \"1\": 25, \"2\": 20, \"12\": 20}, \"1\": {\"1\": 149, \"12\": 44, \"10\": 12, \"3\": 24, \"2\": 11}, \"2\": {\"2\": 179, \"10\": 12, \"3\": 1, \"7\": 38, \"1\": 10}, \"15\": {\"15\": 172, \"5\": 13, \"4\": 3, \"14\": 24, \"0\": 24, \"8\": 4}, \"9\": {\"9\": 131, \"7\": 39, \"6\": 31, \"13\": 37, \"11\": 1, \"2\": 1}, \"0\": {\"8\": 71, \"0\": 143, \"15\": 11, \"5\": 15}}, \"O_8\": {\"10\": {\"10\": 159, \"14\": 61, \"13\": 10, \"1\": 3, \"5\": 3, \"4\": 3, \"11\": 1}, \"6\": {\"4\": 29, \"7\": 52, \"6\": 140, \"0\": 9, \"13\": 6, \"8\": 1, \"11\": 1, \"14\": 2}, \"13\": {\"13\": 85, \"11\": 1, \"4\": 41, \"0\": 47, \"10\": 28, \"14\": 29, \"7\": 1, \"6\": 7, \"1\": 1}, \"3\": {\"3\": 202, \"2\": 24, \"12\": 14}, \"9\": {\"9\": 240}, \"1\": {\"11\": 40, \"1\": 191, \"5\": 5, \"14\": 3, \"10\": 1}, \"5\": {\"5\": 212, \"14\": 1, \"1\": 10, \"10\": 15, \"11\": 2}, \"11\": {\"11\": 157, \"1\": 82, \"13\": 1}, \"4\": {\"4\": 135, \"13\": 47, \"0\": 7, \"14\": 25, \"6\": 21, \"10\": 3, \"11\": 1, \"1\": 1}, \"14\": {\"14\": 130, \"10\": 48, \"1\": 9, \"13\": 22, \"5\": 1, \"4\": 27, \"11\": 2, \"6\": 1}, \"12\": {\"12\": 125, \"15\": 77, \"3\": 32, \"8\": 4, \"2\": 2}, \"7\": {\"7\": 173, \"0\": 4, \"6\": 58, \"4\": 3, \"13\": 1, \"15\": 1}, \"0\": {\"0\": 172, \"13\": 46, \"4\": 5, \"7\": 8, \"6\": 3, \"14\": 5, \"10\": 1}, \"15\": {\"15\": 178, \"12\": 40, \"8\": 18, \"3\": 2, \"2\": 2}, \"2\": {\"2\": 201, \"3\": 26, \"7\": 8, \"15\": 4, \"12\": 1}, \"8\": {\"8\": 231, \"15\": 8, \"12\": 1}}, \"O_38\": {\"4\": {\"4\": 232, \"12\": 7, \"10\": 1}, \"7\": {\"0\": 30, \"7\": 176, \"5\": 23, \"8\": 8, \"3\": 2, \"10\": 1}, \"12\": {\"12\": 232, \"4\": 6, \"10\": 2}, \"10\": {\"10\": 186, \"8\": 11, \"11\": 2, \"0\": 9, \"12\": 2, \"13\": 15, \"14\": 5, \"7\": 6, \"4\": 2, \"15\": 1, \"5\": 1}, \"0\": {\"0\": 99, \"8\": 55, \"7\": 47, \"10\": 4, \"5\": 20, \"3\": 7, \"4\": 3, \"11\": 1, \"12\": 1, \"15\": 1, \"13\": 1, \"9\": 1}, \"1\": {\"1\": 230, \"13\": 1, \"15\": 7, \"6\": 1, \"8\": 1}, \"5\": {\"7\": 35, \"0\": 16, \"15\": 6, \"13\": 4, \"5\": 90, \"8\": 60, \"1\": 3, \"6\": 15, \"10\": 2, \"9\": 7, \"3\": 2}, \"15\": {\"15\": 152, \"13\": 45, \"1\": 22, \"10\": 2, \"8\": 14, \"5\": 5}, \"9\": {\"9\": 184, \"6\": 39, \"3\": 14, \"7\": 1, \"5\": 2}, \"11\": {\"11\": 201, \"14\": 24, \"10\": 6, \"4\": 7, \"12\": 2}, \"14\": {\"14\": 203, \"2\": 16, \"11\": 12, \"13\": 5, \"10\": 4}, \"6\": {\"9\": 23, \"6\": 215, \"5\": 2}, \"8\": {\"0\": 36, \"8\": 141, \"7\": 9, \"13\": 5, \"5\": 37, \"15\": 5, \"10\": 6, \"1\": 1}, \"3\": {\"3\": 219, \"9\": 8, \"7\": 6, \"0\": 6, \"6\": 1}, \"2\": {\"2\": 209, \"13\": 12, \"14\": 19}, \"13\": {\"13\": 165, \"10\": 20, \"15\": 42, \"8\": 4, \"2\": 6, \"5\": 1, \"14\": 2}}, \"C_4\": {\"42\": {\"42\": 31, \"20\": 1}, \"0\": {\"0\": 75, \"24\": 1, \"38\": 1, \"11\": 2, \"15\": 1}, \"1\": {\"32\": 1, \"1\": 35, \"5\": 1, \"14\": 1, \"52\": 1, \"46\": 1}, \"39\": {\"39\": 20}, \"28\": {\"20\": 2, \"28\": 13, \"31\": 2, \"36\": 1, \"48\": 3, \"33\": 1, \"55\": 2, \"34\": 1, \"4\": 1, \"17\": 1, \"57\": 1, \"6\": 1, \"26\": 2, \"18\": 1}, \"53\": {\"20\": 21, \"53\": 47, \"3\": 8, \"50\": 5, \"51\": 12, \"4\": 1, \"54\": 3, \"12\": 2, \"21\": 4, \"8\": 7, \"55\": 3, \"43\": 2, \"35\": 1, \"26\": 2, \"48\": 2, \"36\": 1, \"5\": 1, \"25\": 1, \"9\": 1}, \"19\": {\"33\": 1, \"28\": 1, \"48\": 6, \"19\": 56, \"29\": 9, \"44\": 14, \"17\": 6, \"4\": 8, \"45\": 5, \"51\": 3, \"36\": 1, \"56\": 10, \"27\": 3, \"40\": 7, \"9\": 9, \"42\": 1, \"57\": 2, \"21\": 1, \"35\": 1}, \"34\": {\"34\": 21, \"3\": 1, \"54\": 1, \"6\": 1}, \"33\": {\"28\": 3, \"36\": 2, \"48\": 4, \"35\": 5, \"29\": 4, \"33\": 6, \"57\": 3, \"17\": 4, \"21\": 1, \"44\": 1, \"42\": 2, \"4\": 1}, \"32\": {\"39\": 2, \"46\": 1, \"32\": 19, \"11\": 1, \"15\": 1}, \"10\": {\"46\": 6, \"0\": 5, \"38\": 2, \"2\": 6, \"43\": 20, \"10\": 45, \"24\": 3, \"11\": 7, \"16\": 4, \"15\": 12, \"56\": 4, \"13\": 14, \"22\": 4, \"55\": 1, \"47\": 1, \"52\": 2}, \"46\": {\"32\": 3, \"46\": 103, \"15\": 7, \"1\": 2, \"47\": 6, \"52\": 6, \"5\": 1, \"11\": 1, \"57\": 1, \"16\": 2, \"39\": 1, \"55\": 1}, \"20\": {\"20\": 97, \"51\": 2, \"54\": 2, \"23\": 3, \"18\": 1, \"25\": 1, \"5\": 1, \"6\": 1, \"3\": 6, \"50\": 1, \"48\": 1, \"42\": 2, \"28\": 1, \"8\": 1, \"55\": 2}, \"5\": {\"5\": 65, \"46\": 6, \"55\": 1, \"3\": 1, \"47\": 6, \"23\": 6, \"15\": 1, \"52\": 7, \"54\": 1, \"16\": 4, \"34\": 2, \"41\": 1, \"32\": 1, \"7\": 1, \"18\": 2, \"20\": 2, \"6\": 1}, \"40\": {\"19\": 7, \"40\": 65, \"56\": 10, \"57\": 2, \"9\": 5, \"54\": 2, \"21\": 6, \"4\": 10, \"45\": 2, \"44\": 8, \"29\": 3, \"14\": 1, \"48\": 1, \"36\": 1, \"51\": 1}, \"51\": {\"20\": 17, \"51\": 41, \"37\": 2, \"30\": 3, \"25\": 6, \"26\": 7, \"50\": 16, \"21\": 13, \"8\": 6, \"3\": 9, \"6\": 3, \"53\": 7, \"16\": 1, \"54\": 2, \"55\": 1, \"9\": 4, \"10\": 2, \"27\": 1, \"35\": 1, \"4\": 2}, \"37\": {\"37\": 21, \"50\": 1, \"53\": 1, \"51\": 1}, \"17\": {\"27\": 7, \"28\": 2, \"33\": 2, \"4\": 5, \"17\": 40, \"35\": 1, \"9\": 10, \"54\": 1, \"50\": 1, \"57\": 1, \"48\": 3, \"19\": 2, \"36\": 1, \"12\": 2, \"8\": 1, \"29\": 1}, \"45\": {\"44\": 10, \"17\": 1, \"45\": 34, \"8\": 2, \"27\": 4, \"9\": 6, \"48\": 4, \"4\": 6, \"19\": 5, \"29\": 10, \"40\": 3, \"6\": 2, \"50\": 1, \"21\": 2, \"14\": 1, \"33\": 1, \"53\": 1, \"30\": 1, \"56\": 1, \"54\": 1}, \"13\": {\"13\": 72, \"46\": 7, \"43\": 15, \"2\": 4, \"24\": 3, \"10\": 12, \"22\": 3, \"56\": 4, \"55\": 3, \"11\": 5, \"53\": 1, \"15\": 7, \"49\": 1, \"0\": 3, \"51\": 2}, \"27\": {\"36\": 8, \"30\": 4, \"25\": 1, \"51\": 1, \"27\": 60, \"29\": 5, \"50\": 18, \"20\": 5, \"8\": 21, \"4\": 4, \"54\": 2, \"6\": 3, \"48\": 5, \"18\": 1, \"3\": 1, \"53\": 1, \"9\": 3, \"42\": 1}, \"24\": {\"24\": 41, \"43\": 8, \"15\": 3, \"11\": 3, \"22\": 1}, \"30\": {\"30\": 40, \"8\": 4}, \"31\": {\"31\": 22, \"55\": 1, \"54\": 4, \"28\": 1}, \"41\": {\"41\": 33, \"5\": 1, \"38\": 1, \"13\": 1}, \"36\": {\"36\": 86, \"18\": 2, \"3\": 1, \"6\": 1, \"48\": 1, \"20\": 1}, \"16\": {\"16\": 76, \"15\": 4, \"41\": 1, \"52\": 3, \"5\": 6, \"54\": 1, \"7\": 1, \"46\": 1, \"11\": 2, \"3\": 1}, \"22\": {\"24\": 6, \"22\": 70, \"11\": 5, \"43\": 16, \"10\": 6, \"46\": 4, \"2\": 5, \"13\": 2, \"15\": 4, \"55\": 1, \"0\": 4, \"32\": 1, \"31\": 1, \"52\": 2, \"16\": 1}, \"44\": {\"44\": 53, \"34\": 1, \"40\": 4, \"3\": 2, \"4\": 3, \"9\": 6, \"57\": 7, \"36\": 1, \"6\": 2, \"25\": 1, \"56\": 21, \"19\": 9, \"29\": 9, \"21\": 1, \"48\": 5, \"45\": 5, \"37\": 1, \"51\": 1}, \"9\": {\"27\": 12, \"12\": 1, \"57\": 4, \"35\": 2, \"54\": 2, \"51\": 2, \"9\": 29, \"45\": 2, \"36\": 8, \"28\": 2, \"19\": 11, \"29\": 8, \"20\": 4, \"50\": 8, \"21\": 3, \"8\": 1, \"17\": 4, \"4\": 12, \"48\": 15, \"3\": 2, \"55\": 2, \"40\": 3, \"25\": 1, \"53\": 2}, \"57\": {\"57\": 66, \"1\": 4, \"4\": 1, \"47\": 6, \"36\": 6, \"16\": 1, \"54\": 3, \"29\": 5, \"5\": 2, \"9\": 1, \"55\": 1, \"32\": 2, \"17\": 1, \"56\": 1}, \"8\": {\"8\": 122, \"30\": 8, \"50\": 3, \"54\": 1, \"20\": 2, \"36\": 1, \"27\": 1}, \"23\": {\"23\": 128, \"5\": 2, \"41\": 1, \"18\": 1}, \"47\": {\"47\": 97, \"5\": 10, \"39\": 2, \"35\": 1, \"23\": 3, \"16\": 3, \"18\": 1, \"57\": 3}, \"43\": {\"24\": 11, \"43\": 98, \"11\": 15, \"38\": 2, \"15\": 6, \"13\": 1, \"0\": 2, \"10\": 2, \"22\": 1}, \"49\": {\"7\": 2, \"49\": 17, \"11\": 1}, \"3\": {\"3\": 83, \"21\": 1, \"20\": 8, \"23\": 8, \"6\": 1, \"8\": 2, \"50\": 5, \"36\": 5, \"10\": 1, \"27\": 2, \"53\": 2, \"18\": 5, \"47\": 1}, \"12\": {\"12\": 73, \"8\": 10, \"55\": 1, \"27\": 3, \"6\": 2, \"30\": 1, \"51\": 2}, \"38\": {\"38\": 38, \"0\": 1, \"43\": 1}, \"7\": {\"7\": 24}, \"14\": {\"15\": 1, \"28\": 1, \"32\": 2, \"48\": 1, \"14\": 3, \"3\": 1, \"55\": 1, \"42\": 1, \"11\": 1, \"20\": 1, \"56\": 1, \"35\": 2}, \"15\": {\"15\": 104, \"11\": 16, \"23\": 2, \"5\": 3, \"52\": 6, \"0\": 3, \"46\": 6, \"16\": 3, \"43\": 1, \"24\": 1, \"7\": 1}, \"25\": {\"25\": 47, \"3\": 1, \"36\": 1, \"8\": 23, \"37\": 1, \"51\": 5, \"20\": 17, \"27\": 8, \"18\": 4, \"23\": 2, \"53\": 6, \"40\": 1, \"30\": 1, \"21\": 4, \"19\": 2, \"10\": 1, \"43\": 1, \"50\": 2, \"47\": 1}, \"26\": {\"28\": 1, \"26\": 22, \"6\": 1}, \"21\": {\"25\": 6, \"27\": 7, \"21\": 83, \"8\": 9, \"51\": 2, \"53\": 5, \"6\": 1, \"9\": 3, \"45\": 1, \"42\": 1, \"30\": 1, \"3\": 1, \"18\": 1, \"12\": 5, \"20\": 2, \"17\": 1, \"54\": 1, \"36\": 1, \"50\": 1}, \"48\": {\"48\": 130, \"54\": 5, \"35\": 2, \"6\": 3, \"36\": 3, \"3\": 1}, \"56\": {\"56\": 80, \"55\": 11, \"1\": 8, \"31\": 2, \"46\": 6, \"57\": 2, \"11\": 2, \"9\": 1, \"22\": 1, \"15\": 4, \"29\": 1, \"10\": 3, \"52\": 7, \"39\": 1, \"5\": 1, \"32\": 1, \"13\": 1, \"19\": 1, \"47\": 1}, \"11\": {\"11\": 74, \"15\": 18, \"46\": 3, \"43\": 3, \"16\": 3, \"0\": 1, \"24\": 1, \"52\": 1}, \"2\": {\"2\": 35, \"43\": 1}, \"6\": {\"48\": 13, \"6\": 50, \"35\": 1, \"23\": 3, \"55\": 3, \"54\": 17, \"36\": 11, \"51\": 1, \"27\": 1, \"8\": 1, \"47\": 1, \"3\": 3, \"20\": 2, \"56\": 1, \"52\": 1, \"50\": 2, \"53\": 1}, \"55\": {\"55\": 115, \"26\": 1, \"54\": 12, \"34\": 1, \"23\": 1, \"52\": 4, \"5\": 1, \"6\": 2, \"48\": 2, \"57\": 1}, \"54\": {\"54\": 102, \"26\": 2, \"55\": 2, \"48\": 1, \"56\": 1}, \"29\": {\"48\": 9, \"28\": 2, \"55\": 4, \"1\": 1, \"35\": 10, \"29\": 50, \"47\": 4, \"57\": 15, \"56\": 5, \"4\": 3, \"17\": 5, \"6\": 1, \"36\": 1, \"54\": 3, \"44\": 1, \"42\": 2, \"9\": 2, \"31\": 1, \"27\": 3, \"20\": 1, \"23\": 1}, \"50\": {\"50\": 57, \"20\": 11, \"8\": 15, \"53\": 2, \"27\": 8, \"36\": 4, \"6\": 3, \"3\": 11, \"48\": 8, \"30\": 1, \"9\": 1, \"23\": 1}, \"52\": {\"52\": 111, \"16\": 1, \"23\": 1, \"5\": 1, \"18\": 1, \"46\": 1}, \"35\": {\"35\": 35, \"57\": 2, \"23\": 1, \"42\": 2}, \"4\": {\"33\": 1, \"51\": 4, \"9\": 5, \"4\": 31, \"35\": 5, \"54\": 2, \"36\": 3, \"17\": 2, \"27\": 5, \"50\": 15, \"56\": 2, \"29\": 6, \"21\": 1, \"3\": 1, \"20\": 2, \"25\": 1, \"48\": 15, \"45\": 2, \"53\": 5, \"40\": 2, \"42\": 2, \"57\": 4, \"19\": 1, \"13\": 1, \"8\": 1, \"55\": 1}, \"18\": {\"18\": 103, \"23\": 4, \"3\": 1}}, \"C_5\": {\"43\": {\"35\": 4, \"16\": 7, \"43\": 93, \"36\": 4, \"11\": 22, \"3\": 4, \"56\": 6, \"52\": 6, \"46\": 4, \"15\": 2}, \"35\": {\"35\": 36}, \"54\": {\"54\": 112}, \"22\": {\"28\": 4, \"22\": 10, \"14\": 1, \"36\": 4, \"40\": 2, \"34\": 3, \"29\": 1, \"35\": 1, \"56\": 1, \"32\": 1}, \"16\": {\"16\": 93, \"46\": 19, \"11\": 9, \"23\": 5, \"15\": 5, \"3\": 5, \"43\": 10}, \"5\": {\"5\": 50, \"4\": 12, \"50\": 2, \"44\": 14, \"29\": 12, \"19\": 8, \"9\": 5, \"48\": 2, \"55\": 4, \"51\": 2, \"17\": 1, \"40\": 5, \"22\": 2, \"33\": 1, \"14\": 2, \"34\": 2, \"12\": 1, \"21\": 1, \"1\": 2}, \"28\": {\"28\": 26, \"34\": 2, \"47\": 2, \"23\": 1, \"27\": 1}, \"14\": {\"35\": 3, \"21\": 3, \"14\": 9, \"36\": 4, \"47\": 3, \"37\": 1, \"32\": 1, \"34\": 3, \"43\": 1, \"25\": 1, \"50\": 1, \"16\": 1, \"56\": 1, \"27\": 1, \"57\": 3, \"20\": 1, \"23\": 1, \"2\": 1, \"49\": 1, \"51\": 1, \"28\": 2, \"3\": 1}, \"51\": {\"51\": 56, \"21\": 8, \"20\": 13, \"30\": 1, \"8\": 2, \"6\": 8, \"50\": 4, \"53\": 22, \"12\": 5, \"43\": 1, \"27\": 1, \"45\": 4, \"25\": 1, \"38\": 1, \"9\": 1}, \"19\": {\"9\": 9, \"28\": 3, \"33\": 2, \"19\": 58, \"29\": 5, \"32\": 1, \"17\": 4, \"34\": 2, \"6\": 2, \"44\": 8, \"48\": 9, \"45\": 3, \"27\": 10, \"1\": 9, \"5\": 1, \"21\": 2, \"50\": 2, \"55\": 2, \"40\": 1, \"4\": 2, \"57\": 1, \"53\": 2, \"54\": 1, \"30\": 1}, \"31\": {\"31\": 34, \"57\": 1, \"0\": 1}, \"10\": {\"10\": 29, \"13\": 11, \"11\": 4, \"56\": 11, \"3\": 1, \"0\": 3, \"15\": 3, \"24\": 5, \"52\": 1}, \"21\": {\"16\": 4, \"3\": 4, \"23\": 10, \"21\": 72, \"15\": 1, \"43\": 3, \"53\": 14, \"20\": 9, \"9\": 1, \"50\": 7, \"52\": 1, \"51\": 1, \"6\": 3, \"44\": 1, \"12\": 3, \"18\": 1, \"8\": 1}, \"3\": {\"3\": 39, \"52\": 7, \"36\": 3, \"47\": 7, \"16\": 14, \"46\": 8, \"11\": 7, \"39\": 1, \"23\": 3, \"43\": 6, \"57\": 2, \"15\": 1, \"56\": 1, \"0\": 1}, \"57\": {\"57\": 114, \"3\": 2, \"47\": 2, \"11\": 1, \"14\": 1, \"16\": 5, \"46\": 3, \"36\": 1, \"43\": 1, \"23\": 2}, \"9\": {\"19\": 10, \"51\": 2, \"1\": 18, \"25\": 1, \"45\": 5, \"30\": 8, \"53\": 6, \"27\": 14, \"9\": 24, \"28\": 1, \"29\": 4, \"44\": 3, \"32\": 2, \"17\": 6, \"54\": 1, \"48\": 18, \"50\": 6, \"6\": 5, \"4\": 5, \"55\": 4, \"13\": 1, \"33\": 2}, \"8\": {\"8\": 108, \"28\": 1, \"20\": 6, \"42\": 2, \"50\": 3, \"1\": 3, \"6\": 4, \"47\": 1, \"18\": 4}, \"46\": {\"23\": 3, \"46\": 109, \"39\": 2, \"31\": 1, \"47\": 7, \"52\": 1, \"3\": 1, \"57\": 2, \"16\": 9, \"11\": 4, \"43\": 1}, \"23\": {\"23\": 124}, \"37\": {\"37\": 16, \"21\": 2, \"20\": 2, \"45\": 1, \"14\": 1, \"17\": 1, \"15\": 1}, \"34\": {\"34\": 28, \"27\": 1, \"36\": 3, \"46\": 1, \"43\": 1, \"28\": 2}, \"4\": {\"44\": 8, \"4\": 38, \"5\": 3, \"12\": 6, \"9\": 1, \"51\": 1, \"7\": 1, \"36\": 3, \"1\": 1, \"27\": 4, \"45\": 7, \"48\": 4, \"34\": 1, \"17\": 4, \"29\": 1, \"40\": 2, \"19\": 3, \"55\": 3, \"28\": 1, \"33\": 2, \"50\": 3, \"8\": 1, \"6\": 1, \"21\": 1}, \"6\": {\"6\": 58, \"48\": 6, \"32\": 1, \"1\": 8, \"30\": 16, \"51\": 2, \"17\": 1, \"53\": 9, \"12\": 2, \"29\": 1, \"9\": 1, \"8\": 7, \"45\": 4, \"14\": 1, \"26\": 1, \"50\": 7, \"44\": 1, \"20\": 1, \"21\": 1}, \"48\": {\"48\": 106, \"32\": 3, \"55\": 1, \"17\": 1, \"1\": 14, \"6\": 1, \"18\": 1, \"27\": 3, \"53\": 2, \"50\": 2, \"19\": 1, \"30\": 1}, \"44\": {\"44\": 55, \"5\": 2, \"22\": 1, \"45\": 2, \"28\": 2, \"9\": 10, \"36\": 6, \"51\": 2, \"1\": 11, \"29\": 5, \"34\": 1, \"14\": 3, \"17\": 2, \"33\": 1, \"54\": 2, \"27\": 6, \"48\": 10, \"40\": 4, \"55\": 1, \"57\": 1, \"50\": 2, \"25\": 1, \"21\": 1, \"47\": 3, \"53\": 1, \"30\": 2, \"56\": 1}, \"40\": {\"44\": 10, \"33\": 1, \"12\": 2, \"28\": 2, \"40\": 45, \"9\": 10, \"1\": 4, \"5\": 14, \"29\": 10, \"34\": 4, \"27\": 1, \"53\": 2, \"21\": 1, \"55\": 3, \"19\": 4, \"22\": 1, \"32\": 1, \"48\": 4, \"4\": 3, \"54\": 2}, \"12\": {\"12\": 33, \"30\": 7, \"38\": 4, \"19\": 1, \"27\": 2, \"36\": 1, \"8\": 3, \"40\": 1, \"51\": 3, \"53\": 9, \"1\": 4, \"6\": 4, \"20\": 1, \"21\": 6, \"15\": 1, \"25\": 1, \"55\": 1, \"48\": 3, \"13\": 2, \"28\": 1, \"9\": 2, \"17\": 3, \"45\": 2, \"26\": 1}, \"30\": {\"6\": 5, \"30\": 113, \"1\": 1, \"8\": 5, \"53\": 2, \"50\": 1, \"13\": 1}, \"39\": {\"39\": 20}, \"45\": {\"27\": 3, \"48\": 10, \"45\": 31, \"26\": 3, \"7\": 5, \"53\": 16, \"36\": 2, \"32\": 2, \"44\": 2, \"6\": 7, \"50\": 9, \"8\": 4, \"55\": 11, \"20\": 4, \"23\": 2, \"1\": 5, \"19\": 2, \"5\": 1, \"30\": 1, \"51\": 1, \"34\": 1, \"12\": 1, \"29\": 1}, \"36\": {\"36\": 89, \"35\": 1, \"3\": 2}, \"27\": {\"48\": 14, \"27\": 37, \"30\": 7, \"9\": 10, \"33\": 2, \"1\": 24, \"17\": 13, \"29\": 6, \"53\": 6, \"50\": 5, \"19\": 5, \"8\": 2, \"47\": 1, \"6\": 1, \"44\": 4, \"28\": 3}, \"32\": {\"48\": 2, \"32\": 27, \"1\": 2, \"53\": 1}, \"52\": {\"52\": 113, \"46\": 5, \"3\": 2, \"16\": 1, \"23\": 1, \"43\": 8}, \"0\": {\"0\": 114, \"24\": 2, \"31\": 1, \"11\": 5, \"15\": 2}, \"26\": {\"26\": 24}, \"1\": {\"1\": 126, \"32\": 1, \"48\": 5, \"8\": 3, \"27\": 1, \"6\": 7, \"50\": 2, \"23\": 1, \"53\": 1, \"20\": 1}, \"53\": {\"53\": 102, \"20\": 3, \"32\": 4, \"45\": 3, \"12\": 1, \"54\": 1, \"6\": 7, \"48\": 1, \"50\": 5, \"1\": 9, \"7\": 1, \"51\": 3, \"49\": 1, \"18\": 1, \"30\": 1, \"8\": 2, \"27\": 1}, \"25\": {\"20\": 22, \"25\": 79, \"44\": 1, \"7\": 1, \"18\": 4, \"30\": 5, \"19\": 3, \"42\": 2, \"15\": 1, \"21\": 5, \"53\": 3, \"8\": 12, \"51\": 2, \"1\": 1, \"12\": 1, \"9\": 1, \"40\": 1}, \"24\": {\"24\": 72, \"15\": 6, \"11\": 1, \"43\": 1}, \"7\": {\"7\": 28, \"26\": 3, \"30\": 1}, \"18\": {\"18\": 62, \"20\": 2}, \"20\": {\"20\": 125, \"18\": 7, \"47\": 1, \"23\": 5, \"53\": 2, \"50\": 1, \"25\": 1, \"8\": 2}, \"33\": {\"33\": 17, \"22\": 2, \"28\": 4, \"32\": 3, \"47\": 1, \"17\": 2, \"1\": 2, \"53\": 1}, \"55\": {\"30\": 4, \"12\": 1, \"55\": 69, \"48\": 16, \"54\": 2, \"45\": 9, \"53\": 16, \"17\": 1, \"50\": 3, \"1\": 8, \"6\": 2, \"9\": 2, \"21\": 1, \"7\": 2, \"32\": 1, \"23\": 2, \"25\": 1}, \"41\": {\"42\": 2, \"41\": 26}, \"42\": {\"42\": 36, \"43\": 1, \"41\": 1, \"18\": 2}, \"49\": {\"49\": 35, \"2\": 1}, \"13\": {\"16\": 1, \"13\": 66, \"2\": 2, \"24\": 9, \"10\": 9, \"43\": 14, \"0\": 4, \"46\": 1, \"56\": 11, \"21\": 3, \"15\": 14, \"11\": 7, \"52\": 2, \"36\": 1, \"3\": 4}, \"38\": {\"38\": 29, \"8\": 1, \"30\": 2}, \"2\": {\"2\": 28}, \"47\": {\"47\": 86, \"57\": 4, \"52\": 5, \"23\": 2, \"36\": 1, \"54\": 2}, \"17\": {\"48\": 7, \"17\": 43, \"32\": 4, \"30\": 8, \"9\": 2, \"1\": 12, \"45\": 6, \"55\": 2, \"53\": 5, \"38\": 1, \"51\": 4, \"6\": 10, \"12\": 1, \"27\": 4, \"33\": 2, \"50\": 3, \"8\": 1, \"44\": 1}, \"11\": {\"3\": 5, \"11\": 105, \"43\": 15, \"15\": 14, \"16\": 2, \"56\": 1, \"46\": 7, \"52\": 4, \"0\": 1}, \"29\": {\"19\": 3, \"28\": 3, \"44\": 12, \"29\": 40, \"35\": 3, \"17\": 11, \"36\": 5, \"54\": 4, \"48\": 6, \"27\": 17, \"34\": 7, \"56\": 2, \"1\": 10, \"47\": 2, \"40\": 1, \"9\": 2, \"33\": 2, \"16\": 1, \"57\": 1}, \"50\": {\"32\": 3, \"7\": 1, \"50\": 30, \"41\": 1, \"23\": 15, \"18\": 1, \"51\": 6, \"27\": 2, \"6\": 8, \"42\": 1, \"53\": 12, \"48\": 5, \"9\": 2, \"8\": 13, \"1\": 12, \"57\": 1, \"20\": 10, \"17\": 4, \"13\": 1, \"16\": 1, \"14\": 1, \"44\": 2, \"30\": 2, \"54\": 1, \"29\": 1, \"21\": 1, \"46\": 1}, \"56\": {\"56\": 137, \"24\": 2, \"11\": 4, \"15\": 2, \"43\": 3}, \"15\": {\"15\": 122, \"11\": 12, \"56\": 1, \"0\": 3, \"24\": 2, \"43\": 2}}, \"C_2\": {\"49\": {\"30\": 2, \"49\": 20, \"8\": 2}, \"13\": {\"13\": 38, \"55\": 11, \"56\": 4, \"38\": 3, \"51\": 3, \"10\": 7, \"31\": 1, \"3\": 1, \"11\": 3, \"52\": 18, \"28\": 2, \"20\": 2, \"16\": 2, \"24\": 1, \"15\": 2, \"46\": 6, \"43\": 1, \"41\": 1, \"5\": 6, \"14\": 1, \"21\": 1, \"25\": 2}, \"37\": {\"37\": 34, \"41\": 1, \"29\": 1}, \"41\": {\"41\": 19, \"46\": 1}, \"15\": {\"15\": 125, \"16\": 5, \"46\": 3, \"11\": 5, \"23\": 4}, \"56\": {\"38\": 1, \"56\": 113, \"14\": 2, \"22\": 14, \"52\": 2, \"5\": 2, \"11\": 1, \"43\": 5, \"28\": 1, \"15\": 1}, \"14\": {\"43\": 1, \"56\": 3, \"14\": 4, \"1\": 2, \"28\": 1, \"10\": 1, \"38\": 1, \"46\": 1, \"2\": 1, \"55\": 1, \"42\": 1, \"48\": 1, \"3\": 1, \"9\": 1, \"34\": 2, \"16\": 1, \"31\": 1}, \"3\": {\"6\": 7, \"33\": 1, \"50\": 9, \"27\": 3, \"54\": 2, \"3\": 24, \"30\": 9, \"32\": 4, \"20\": 3, \"36\": 5, \"37\": 1, \"29\": 2, \"53\": 3, \"57\": 1, \"9\": 1, \"55\": 2, \"46\": 2, \"23\": 1, \"18\": 2, \"2\": 1, \"8\": 1, \"49\": 1, \"43\": 1, \"21\": 1, \"51\": 3, \"44\": 1, \"25\": 1}, \"38\": {\"38\": 20}, \"43\": {\"15\": 2, \"43\": 109, \"24\": 11, \"13\": 2, \"10\": 3, \"11\": 9, \"22\": 2}, \"33\": {\"47\": 1, \"12\": 1, \"33\": 5, \"36\": 2, \"57\": 2, \"32\": 5, \"29\": 3, \"48\": 1, \"6\": 1, \"9\": 1, \"4\": 1, \"20\": 1, \"3\": 2, \"22\": 1, \"2\": 1}, \"47\": {\"47\": 115, \"5\": 2, \"57\": 7, \"16\": 3, \"1\": 6, \"23\": 2, \"0\": 2, \"52\": 1}, \"30\": {\"30\": 138, \"2\": 1, \"18\": 2, \"46\": 2, \"23\": 1}, \"39\": {\"39\": 28}, \"12\": {\"12\": 78, \"32\": 1, \"50\": 1, \"8\": 1, \"36\": 2, \"53\": 5, \"51\": 1, \"27\": 3}, \"6\": {\"6\": 88, \"54\": 3, \"48\": 8, \"18\": 3, \"30\": 4, \"3\": 3, \"46\": 5, \"21\": 3, \"36\": 1, \"55\": 2, \"5\": 1, \"34\": 1, \"53\": 1, \"57\": 1}, \"51\": {\"51\": 42, \"21\": 11, \"2\": 2, \"26\": 4, \"13\": 3, \"20\": 8, \"25\": 5, \"8\": 3, \"3\": 6, \"50\": 18, \"53\": 16, \"6\": 4, \"54\": 6, \"45\": 1, \"10\": 1, \"18\": 1, \"27\": 2, \"12\": 1}, \"5\": {\"7\": 2, \"5\": 97, \"16\": 4, \"47\": 6, \"57\": 3, \"23\": 2, \"55\": 1, \"52\": 3, \"0\": 1, \"48\": 1}, \"34\": {\"34\": 23, \"41\": 1, \"55\": 2, \"46\": 1, \"6\": 1}, \"35\": {\"35\": 23, \"45\": 1, \"42\": 1, \"12\": 1, \"19\": 1, \"37\": 1, \"44\": 2, \"1\": 1, \"32\": 1}, \"0\": {\"0\": 44, \"15\": 2, \"47\": 2}, \"7\": {\"7\": 36}, \"24\": {\"24\": 79, \"43\": 11, \"10\": 4, \"11\": 2}, \"8\": {\"8\": 94, \"1\": 3, \"20\": 4, \"27\": 18, \"6\": 1, \"25\": 1, \"48\": 1, \"50\": 7, \"3\": 2, \"47\": 3, \"12\": 1, \"53\": 1}, \"20\": {\"20\": 53, \"8\": 19, \"50\": 10, \"21\": 1, \"27\": 9, \"53\": 9, \"13\": 1, \"6\": 7, \"25\": 5, \"46\": 1, \"3\": 3, \"18\": 1, \"51\": 2, \"54\": 1, \"12\": 2}, \"36\": {\"36\": 115, \"27\": 1}, \"42\": {\"5\": 1, \"34\": 1, \"42\": 21, \"57\": 1, \"48\": 2, \"47\": 4, \"55\": 1, \"23\": 1, \"46\": 1, \"1\": 1, \"39\": 2}, \"1\": {\"1\": 93, \"55\": 4, \"48\": 8, \"14\": 1, \"5\": 1, \"46\": 1, \"57\": 1, \"6\": 1, \"47\": 1, \"23\": 1}, \"4\": {\"4\": 48, \"54\": 7, \"3\": 5, \"20\": 1, \"55\": 2, \"42\": 2, \"14\": 1, \"29\": 5, \"53\": 9, \"48\": 7, \"9\": 7, \"57\": 2, \"1\": 9, \"17\": 2, \"45\": 7, \"47\": 2, \"36\": 8, \"25\": 1, \"12\": 6, \"40\": 2, \"27\": 2, \"19\": 7, \"8\": 1, \"51\": 1, \"32\": 2, \"33\": 1, \"50\": 1}, \"28\": {\"28\": 28}, \"50\": {\"50\": 106, \"18\": 1, \"34\": 2, \"27\": 3, \"3\": 6, \"20\": 1, \"8\": 7, \"30\": 2, \"6\": 4, \"46\": 1, \"49\": 2, \"53\": 1}, \"45\": {\"50\": 2, \"45\": 33, \"54\": 7, \"4\": 18, \"19\": 6, \"40\": 12, \"35\": 1, \"6\": 1, \"29\": 6, \"26\": 4, \"55\": 2, \"53\": 6, \"21\": 3, \"12\": 7, \"9\": 5, \"51\": 3, \"8\": 1, \"57\": 1, \"36\": 2, \"44\": 3, \"10\": 1, \"14\": 1, \"2\": 1, \"17\": 1, \"27\": 1}, \"18\": {\"18\": 39, \"30\": 9}, \"57\": {\"57\": 68, \"47\": 17, \"42\": 1, \"31\": 1, \"5\": 10, \"48\": 1, \"1\": 11, \"46\": 1, \"52\": 4, \"23\": 2, \"16\": 1, \"17\": 2, \"29\": 1}, \"46\": {\"46\": 78, \"23\": 10, \"34\": 2, \"57\": 3, \"52\": 9, \"6\": 3, \"16\": 6, \"3\": 1, \"18\": 1, \"5\": 5, \"48\": 2, \"47\": 1, \"7\": 1, \"15\": 1, \"1\": 1, \"30\": 4}, \"23\": {\"23\": 143, \"16\": 1, \"46\": 2, \"52\": 1, \"15\": 1}, \"27\": {\"27\": 120, \"36\": 1, \"50\": 7, \"8\": 10}, \"19\": {\"1\": 5, \"3\": 1, \"19\": 42, \"4\": 21, \"17\": 7, \"42\": 2, \"55\": 5, \"9\": 12, \"32\": 1, \"47\": 1, \"45\": 6, \"57\": 4, \"40\": 6, \"29\": 4, \"56\": 1, \"53\": 1, \"54\": 1, \"48\": 5, \"36\": 2, \"22\": 3, \"8\": 1, \"44\": 2, \"20\": 1}, \"22\": {\"56\": 27, \"22\": 86, \"31\": 1, \"15\": 2, \"43\": 6, \"5\": 3, \"47\": 2, \"11\": 5, \"52\": 1, \"28\": 2, \"16\": 1}, \"17\": {\"17\": 58, \"48\": 7, \"54\": 1, \"32\": 2, \"29\": 5, \"19\": 4, \"36\": 6, \"37\": 1, \"9\": 2, \"3\": 3, \"13\": 1, \"57\": 4, \"4\": 2, \"53\": 2, \"6\": 2, \"42\": 2, \"27\": 1, \"25\": 1}, \"55\": {\"55\": 99, \"34\": 4, \"23\": 3, \"2\": 3, \"46\": 6, \"1\": 4, \"48\": 11, \"21\": 1, \"52\": 3, \"13\": 1, \"15\": 1}, \"44\": {\"44\": 61, \"9\": 4, \"35\": 2, \"25\": 1, \"32\": 1, \"12\": 1, \"40\": 4, \"19\": 8, \"56\": 1, \"29\": 3, \"47\": 1, \"45\": 6, \"4\": 5, \"5\": 1, \"54\": 1}, \"26\": {\"26\": 24}, \"31\": {\"31\": 25, \"23\": 2, \"5\": 1}, \"16\": {\"11\": 4, \"16\": 97, \"15\": 9, \"31\": 1, \"23\": 12, \"46\": 2, \"7\": 1, \"52\": 2, \"5\": 2}, \"11\": {\"11\": 107, \"15\": 9, \"16\": 3, \"23\": 5, \"52\": 3, \"5\": 1}, \"25\": {\"50\": 13, \"30\": 9, \"25\": 44, \"8\": 17, \"3\": 2, \"18\": 2, \"20\": 8, \"53\": 5, \"27\": 7, \"13\": 2, \"51\": 7, \"4\": 1, \"49\": 2, \"21\": 1, \"36\": 2, \"37\": 1, \"29\": 1, \"19\": 1, \"17\": 1}, \"54\": {\"54\": 102, \"12\": 1, \"46\": 1, \"48\": 3, \"6\": 1}, \"32\": {\"32\": 23, \"36\": 3, \"48\": 2}, \"52\": {\"52\": 102, \"15\": 3, \"16\": 4, \"46\": 5, \"23\": 8, \"5\": 1, \"47\": 1}, \"40\": {\"40\": 69, \"55\": 3, \"42\": 2, \"44\": 8, \"19\": 16, \"29\": 2, \"56\": 2, \"45\": 4, \"25\": 2, \"47\": 1, \"54\": 1, \"22\": 4, \"9\": 5, \"1\": 2, \"8\": 1, \"4\": 10}, \"2\": {\"2\": 27, \"48\": 1, \"21\": 1, \"55\": 2, \"46\": 1}, \"10\": {\"43\": 18, \"10\": 49, \"23\": 1, \"11\": 7, \"22\": 7, \"5\": 1, \"24\": 11, \"13\": 8, \"15\": 4, \"14\": 1, \"56\": 3}, \"53\": {\"2\": 2, \"54\": 6, \"53\": 60, \"26\": 3, \"21\": 16, \"46\": 1, \"51\": 13, \"20\": 6, \"3\": 2, \"50\": 9, \"12\": 3, \"27\": 1, \"6\": 8, \"8\": 1, \"29\": 1, \"48\": 1, \"18\": 1, \"13\": 1, \"52\": 1}, \"9\": {\"4\": 17, \"51\": 2, \"9\": 34, \"1\": 10, \"19\": 15, \"29\": 15, \"3\": 2, \"17\": 9, \"36\": 9, \"21\": 1, \"27\": 2, \"48\": 4, \"57\": 4, \"45\": 5, \"40\": 4, \"47\": 2, \"55\": 2, \"8\": 3, \"42\": 2, \"2\": 1, \"53\": 2, \"54\": 1, \"12\": 1, \"25\": 2, \"5\": 1}, \"21\": {\"21\": 96, \"34\": 1, \"2\": 1, \"20\": 1, \"52\": 4, \"6\": 4, \"46\": 3, \"48\": 2, \"41\": 1, \"23\": 1, \"18\": 1, \"51\": 1, \"50\": 3, \"53\": 1}, \"48\": {\"48\": 123, \"55\": 5, \"6\": 5, \"2\": 1, \"1\": 2, \"54\": 2}, \"29\": {\"51\": 1, \"29\": 39, \"42\": 1, \"47\": 9, \"17\": 11, \"19\": 5, \"6\": 1, \"22\": 1, \"36\": 11, \"57\": 5, \"21\": 1, \"1\": 14, \"4\": 4, \"9\": 7, \"48\": 6, \"3\": 5, \"25\": 2, \"53\": 1, \"46\": 1, \"20\": 1, \"5\": 1, \"55\": 1}}, \"C_1\": {\"9\": {\"9\": 49, \"41\": 1, \"26\": 1, \"53\": 7, \"14\": 3, \"18\": 5, \"33\": 3, \"57\": 2, \"8\": 18, \"20\": 3, \"12\": 1, \"25\": 9, \"30\": 16, \"3\": 4, \"51\": 2, \"16\": 2, \"13\": 4, \"6\": 4, \"11\": 3, \"42\": 1, \"45\": 2, \"10\": 1, \"5\": 1}, \"25\": {\"9\": 9, \"18\": 6, \"13\": 7, \"3\": 3, \"25\": 71, \"33\": 2, \"51\": 2, \"30\": 5, \"45\": 3, \"8\": 9, \"50\": 1, \"16\": 5, \"47\": 1, \"52\": 1, \"20\": 1, \"0\": 2}, \"41\": {\"9\": 2, \"20\": 1, \"41\": 14, \"53\": 1, \"26\": 1, \"13\": 2, \"3\": 2, \"45\": 1}, \"29\": {\"57\": 17, \"17\": 3, \"56\": 6, \"29\": 45, \"35\": 2, \"19\": 6, \"12\": 4, \"44\": 15, \"47\": 12, \"1\": 6, \"3\": 2, \"45\": 1, \"5\": 2, \"40\": 1, \"8\": 1, \"46\": 3, \"7\": 3, \"4\": 5, \"42\": 1, \"53\": 2, \"51\": 1, \"13\": 1, \"55\": 1}, \"46\": {\"41\": 1, \"46\": 32, \"2\": 2, \"20\": 2, \"5\": 7, \"56\": 2, \"50\": 9, \"8\": 14, \"57\": 3, \"48\": 20, \"30\": 1, \"42\": 1, \"4\": 2, \"17\": 3, \"6\": 6, \"29\": 2, \"1\": 4, \"44\": 4, \"53\": 4, \"13\": 2, \"51\": 2, \"45\": 1, \"19\": 2, \"47\": 2}, \"4\": {\"57\": 5, \"50\": 2, \"46\": 3, \"4\": 93, \"17\": 2, \"40\": 3, \"47\": 4, \"1\": 6, \"29\": 2, \"19\": 1, \"13\": 1, \"35\": 1, \"7\": 1, \"20\": 1, \"5\": 2, \"12\": 1, \"44\": 2, \"9\": 1, \"56\": 1}, \"31\": {\"31\": 28}, \"36\": {\"23\": 2, \"36\": 55, \"32\": 2, \"16\": 1, \"54\": 3, \"22\": 1}, \"20\": {\"41\": 1, \"20\": 43, \"51\": 9, \"22\": 3, \"14\": 1, \"42\": 3, \"53\": 7, \"25\": 2, \"6\": 1, \"12\": 10, \"13\": 5, \"47\": 2, \"55\": 6, \"9\": 2, \"16\": 13, \"11\": 1, \"30\": 3, \"45\": 9, \"37\": 2, \"5\": 1, \"54\": 3, \"8\": 1}, \"7\": {\"7\": 27, \"55\": 1}, \"6\": {\"6\": 77, \"50\": 2, \"2\": 2, \"45\": 1, \"46\": 2, \"48\": 5, \"8\": 5, \"44\": 1, \"5\": 1}, \"16\": {\"16\": 114, \"55\": 5, \"32\": 1, \"18\": 6, \"36\": 2, \"54\": 6, \"45\": 2, \"33\": 1, \"30\": 1}, \"17\": {\"9\": 2, \"17\": 26, \"5\": 7, \"2\": 4, \"1\": 6, \"8\": 2, \"48\": 3, \"44\": 1, \"6\": 2, \"45\": 2, \"19\": 4, \"18\": 1, \"46\": 2, \"51\": 1, \"12\": 1}, \"50\": {\"50\": 134, \"48\": 7, \"8\": 3, \"6\": 4}, \"57\": {\"57\": 34, \"56\": 14, \"13\": 3, \"29\": 10, \"47\": 21, \"19\": 17, \"44\": 15, \"7\": 1, \"42\": 4, \"9\": 2, \"1\": 6, \"17\": 2, \"45\": 4, \"55\": 3, \"54\": 4, \"5\": 1, \"12\": 1, \"18\": 1, \"30\": 1}, \"23\": {\"23\": 131, \"22\": 3, \"24\": 1, \"15\": 1}, \"3\": {\"13\": 11, \"41\": 1, \"3\": 57, \"20\": 2, \"14\": 1, \"5\": 4, \"4\": 1, \"48\": 1, \"46\": 1, \"18\": 1, \"22\": 1, \"31\": 1, \"17\": 1, \"44\": 5, \"51\": 2, \"1\": 4, \"57\": 1, \"47\": 5, \"10\": 1, \"55\": 1, \"29\": 1, \"25\": 4, \"40\": 1, \"12\": 3, \"53\": 4, \"16\": 1, \"9\": 2, \"42\": 2, \"54\": 1, \"45\": 2, \"23\": 1, \"11\": 1, \"56\": 1}, \"53\": {\"53\": 53, \"26\": 6, \"45\": 9, \"9\": 12, \"8\": 11, \"6\": 4, \"51\": 3, \"12\": 10, \"20\": 15, \"5\": 6, \"30\": 1, \"37\": 1, \"42\": 1, \"14\": 1, \"13\": 1, \"25\": 1, \"48\": 1, \"46\": 1, \"50\": 1, \"15\": 1, \"18\": 1}, \"49\": {\"49\": 27, \"36\": 1, \"24\": 1, \"23\": 3}, \"56\": {\"56\": 55, \"45\": 7, \"1\": 5, \"47\": 27, \"57\": 9, \"44\": 13, \"19\": 20, \"7\": 1, \"35\": 1, \"46\": 2, \"55\": 1, \"51\": 1, \"20\": 1, \"5\": 2, \"54\": 3, \"42\": 1, \"9\": 1, \"30\": 2}, \"51\": {\"26\": 1, \"13\": 13, \"37\": 6, \"51\": 56, \"7\": 1, \"8\": 6, \"45\": 8, \"20\": 8, \"6\": 1, \"53\": 9, \"16\": 8, \"12\": 9, \"3\": 1, \"9\": 2, \"30\": 2, \"42\": 1, \"41\": 1, \"10\": 1, \"5\": 2, \"18\": 1, \"25\": 2, \"29\": 1, \"11\": 1, \"46\": 1}, \"26\": {\"26\": 21, \"14\": 2, \"53\": 1}, \"43\": {\"43\": 144}, \"22\": {\"22\": 64, \"49\": 1, \"15\": 19, \"23\": 13, \"24\": 5, \"11\": 11, \"0\": 3, \"16\": 2, \"21\": 9, \"52\": 5, \"31\": 1, \"39\": 2, \"10\": 1}, \"45\": {\"45\": 75, \"42\": 5, \"33\": 1, \"26\": 2, \"37\": 1, \"17\": 4, \"16\": 22, \"56\": 4, \"12\": 1, \"19\": 6, \"20\": 4, \"54\": 2, \"30\": 4, \"53\": 5, \"18\": 3, \"36\": 1, \"1\": 2, \"46\": 1, \"9\": 2, \"57\": 1}, \"13\": {\"20\": 9, \"13\": 42, \"57\": 1, \"42\": 3, \"1\": 4, \"3\": 9, \"45\": 4, \"26\": 1, \"5\": 7, \"15\": 2, \"14\": 1, \"12\": 18, \"52\": 2, \"37\": 3, \"47\": 7, \"51\": 4, \"19\": 2, \"16\": 6, \"44\": 2, \"48\": 1, \"54\": 1, \"55\": 3, \"53\": 9, \"30\": 1, \"8\": 1, \"29\": 2, \"10\": 2, \"18\": 1, \"9\": 1, \"25\": 2, \"46\": 1}, \"12\": {\"12\": 107, \"37\": 3, \"56\": 1, \"55\": 1, \"5\": 2, \"53\": 2}, \"54\": {\"54\": 104}, \"24\": {\"24\": 54, \"15\": 12, \"39\": 1, \"21\": 7, \"10\": 4, \"22\": 13, \"23\": 12, \"11\": 3, \"31\": 1, \"52\": 1}, \"44\": {\"47\": 30, \"17\": 1, \"29\": 1, \"45\": 4, \"44\": 62, \"7\": 2, \"35\": 3, \"19\": 9, \"56\": 5, \"1\": 6, \"5\": 2, \"20\": 2, \"55\": 1, \"42\": 1, \"12\": 3, \"57\": 3, \"9\": 1}, \"28\": {\"28\": 28}, \"33\": {\"34\": 3, \"33\": 29}, \"38\": {\"38\": 23, \"28\": 1}, \"0\": {\"0\": 120, \"23\": 9, \"31\": 2, \"24\": 5, \"11\": 3, \"21\": 2, \"22\": 1, \"15\": 1, \"52\": 1}, \"47\": {\"47\": 137, \"7\": 1, \"44\": 2, \"35\": 2, \"42\": 2, \"55\": 1, \"54\": 3, \"19\": 2, \"12\": 1, \"16\": 1, \"56\": 2}, \"42\": {\"17\": 2, \"42\": 27, \"12\": 2, \"32\": 1, \"37\": 1, \"16\": 1, \"45\": 1, \"18\": 1, \"26\": 2, \"33\": 1, \"20\": 1}, \"34\": {\"34\": 24}, \"48\": {\"2\": 5, \"48\": 96, \"8\": 11, \"50\": 17, \"5\": 2, \"6\": 5, \"46\": 6}, \"35\": {\"56\": 3, \"45\": 2, \"35\": 16, \"47\": 7, \"57\": 1, \"32\": 1, \"7\": 1, \"21\": 1, \"17\": 1, \"19\": 1, \"13\": 1, \"53\": 1}, \"2\": {\"2\": 31, \"5\": 2, \"6\": 2, \"46\": 1}, \"30\": {\"18\": 2, \"30\": 117, \"34\": 1}, \"18\": {\"18\": 62, \"30\": 7, \"33\": 2, \"16\": 1}, \"37\": {\"37\": 28, \"12\": 3, \"51\": 1}, \"1\": {\"1\": 44, \"7\": 1, \"19\": 8, \"47\": 10, \"56\": 6, \"44\": 9, \"45\": 8, \"57\": 4, \"5\": 4, \"54\": 1, \"46\": 1, \"17\": 3, \"12\": 1}, \"11\": {\"11\": 82, \"49\": 1, \"24\": 3, \"31\": 2, \"22\": 16, \"52\": 4, \"15\": 10, \"23\": 10, \"21\": 8, \"0\": 2}, \"55\": {\"16\": 5, \"55\": 114, \"32\": 1, \"36\": 1, \"12\": 1, \"47\": 4, \"56\": 1, \"5\": 2, \"20\": 1}, \"15\": {\"15\": 109, \"22\": 10, \"23\": 10, \"24\": 7, \"21\": 8, \"11\": 5, \"31\": 1}, \"10\": {\"23\": 9, \"10\": 47, \"24\": 12, \"39\": 2, \"27\": 2, \"11\": 4, \"52\": 5, \"22\": 2, \"21\": 6, \"0\": 2, \"15\": 5}, \"27\": {\"27\": 95, \"32\": 1, \"15\": 4, \"39\": 2, \"49\": 1, \"10\": 3, \"23\": 7, \"52\": 11, \"22\": 6, \"21\": 3, \"24\": 7, \"55\": 1, \"0\": 9, \"47\": 5, \"54\": 2, \"11\": 3}, \"19\": {\"57\": 10, \"29\": 1, \"7\": 1, \"19\": 46, \"45\": 8, \"17\": 2, \"47\": 22, \"26\": 2, \"44\": 8, \"1\": 13, \"56\": 17, \"36\": 1, \"54\": 2, \"53\": 1, \"16\": 2, \"5\": 4, \"35\": 1, \"46\": 2, \"12\": 2, \"9\": 1}, \"14\": {\"30\": 7, \"14\": 9, \"18\": 1, \"51\": 1, \"2\": 1, \"12\": 2, \"9\": 1, \"8\": 1, \"26\": 1}, \"8\": {\"8\": 138, \"6\": 1, \"5\": 1}, \"5\": {\"5\": 129, \"48\": 2, \"46\": 1, \"18\": 1, \"12\": 1, \"8\": 2}, \"39\": {\"39\": 27, \"27\": 1}, \"52\": {\"52\": 113, \"22\": 2, \"24\": 4, \"15\": 3}, \"21\": {\"21\": 108, \"24\": 2, \"23\": 5, \"11\": 2, \"22\": 2, \"52\": 1, \"15\": 3, \"27\": 1}, \"40\": {\"40\": 72, \"19\": 7, \"57\": 8, \"13\": 4, \"29\": 21, \"46\": 2, \"25\": 1, \"4\": 11, \"35\": 4, \"51\": 2, \"44\": 12, \"56\": 5, \"47\": 2, \"53\": 1}, \"32\": {\"32\": 27, \"36\": 2, \"54\": 2, \"38\": 1}}, \"C_3\": {\"56\": {\"56\": 89, \"7\": 2, \"24\": 5, \"22\": 14, \"52\": 1, \"15\": 2, \"11\": 1, \"43\": 6}, \"4\": {\"4\": 47, \"35\": 5, \"36\": 6, \"25\": 4, \"14\": 1, \"51\": 5, \"29\": 6, \"12\": 5, \"57\": 5, \"32\": 3, \"45\": 5, \"1\": 5, \"19\": 9, \"17\": 7, \"53\": 6, \"54\": 4, \"9\": 10, \"27\": 3, \"13\": 1, \"6\": 2, \"41\": 1, \"3\": 1, \"50\": 1, \"48\": 1, \"40\": 1, \"21\": 1, \"8\": 1}, \"34\": {\"34\": 29, \"1\": 2, \"47\": 1}, \"52\": {\"52\": 107, \"26\": 3, \"6\": 2, \"23\": 11, \"16\": 4, \"46\": 9}, \"32\": {\"32\": 22, \"36\": 2, \"17\": 1, \"3\": 2, \"14\": 1}, \"46\": {\"46\": 74, \"20\": 6, \"26\": 2, \"23\": 7, \"18\": 5, \"28\": 1, \"52\": 16, \"5\": 1, \"30\": 4, \"48\": 2, \"6\": 7, \"15\": 2, \"16\": 7, \"35\": 1, \"3\": 1}, \"12\": {\"12\": 66, \"32\": 2, \"50\": 1, \"2\": 2, \"36\": 6, \"8\": 7, \"54\": 5, \"53\": 2, \"20\": 1}, \"20\": {\"20\": 108, \"46\": 7, \"27\": 1, \"50\": 4, \"18\": 4, \"3\": 7, \"23\": 1}, \"54\": {\"54\": 82, \"18\": 1, \"42\": 1, \"12\": 4, \"6\": 2, \"8\": 2, \"22\": 1, \"33\": 1, \"50\": 2, \"57\": 1, \"48\": 2, \"55\": 1}, \"22\": {\"56\": 7, \"22\": 119, \"7\": 1, \"15\": 4, \"11\": 2, \"13\": 1, \"34\": 1, \"55\": 2, \"24\": 3}, \"26\": {\"26\": 21, \"23\": 1, \"15\": 1, \"46\": 1}, \"31\": {\"31\": 23, \"11\": 1, \"23\": 1, \"16\": 1, \"52\": 1, \"5\": 1}, \"10\": {\"10\": 28, \"56\": 6, \"49\": 2, \"15\": 2, \"43\": 3, \"13\": 4, \"24\": 7, \"0\": 1, \"11\": 5, \"31\": 2, \"34\": 1, \"22\": 3}, \"27\": {\"20\": 17, \"35\": 3, \"27\": 59, \"52\": 4, \"36\": 11, \"9\": 3, \"46\": 4, \"50\": 9, \"29\": 2, \"53\": 2, \"48\": 3, \"32\": 3, \"18\": 4, \"17\": 5, \"30\": 6, \"8\": 2, \"47\": 1, \"6\": 2, \"45\": 1, \"3\": 1, \"57\": 1, \"4\": 1}, \"40\": {\"40\": 76, \"17\": 1, \"44\": 11, \"4\": 10, \"9\": 7, \"37\": 1, \"19\": 11, \"25\": 1, \"29\": 5, \"22\": 2, \"54\": 1, \"45\": 2, \"21\": 3, \"51\": 2, \"57\": 2, \"55\": 1}, \"28\": {\"34\": 4, \"57\": 2, \"28\": 14, \"5\": 4, \"0\": 1, \"55\": 1, \"1\": 1, \"22\": 1}, \"5\": {\"5\": 78, \"26\": 1, \"11\": 2, \"28\": 3, \"17\": 2, \"23\": 7, \"1\": 1, \"27\": 2, \"52\": 4, \"57\": 2, \"46\": 3, \"16\": 4, \"2\": 1, \"31\": 1, \"32\": 1, \"34\": 1, \"6\": 1, \"47\": 1, \"55\": 1}, \"30\": {\"30\": 102, \"3\": 3, \"48\": 1, \"46\": 2, \"6\": 7, \"18\": 3, \"50\": 1, \"20\": 1}, \"7\": {\"7\": 36}, \"18\": {\"30\": 3, \"18\": 80, \"6\": 1}, \"39\": {\"39\": 15, \"26\": 1}, \"50\": {\"50\": 89, \"26\": 1, \"30\": 10, \"18\": 7, \"3\": 9, \"20\": 9, \"52\": 3, \"8\": 3, \"46\": 3, \"5\": 1, \"51\": 1}, \"49\": {\"49\": 18, \"11\": 1, \"46\": 1}, \"43\": {\"43\": 100, \"13\": 1, \"24\": 9, \"16\": 1, \"11\": 4, \"56\": 1, \"15\": 1, \"49\": 2, \"7\": 3}, \"29\": {\"35\": 3, \"29\": 36, \"34\": 1, \"45\": 3, \"36\": 5, \"3\": 3, \"9\": 7, \"57\": 10, \"17\": 6, \"1\": 6, \"19\": 3, \"51\": 1, \"48\": 3, \"27\": 5, \"50\": 1, \"47\": 3, \"20\": 4, \"28\": 1, \"32\": 2, \"55\": 2, \"4\": 7, \"54\": 1, \"53\": 1}, \"35\": {\"35\": 21, \"57\": 1, \"52\": 2, \"1\": 2, \"36\": 2}, \"13\": {\"13\": 37, \"52\": 7, \"46\": 2, \"47\": 1, \"5\": 10, \"7\": 1, \"51\": 6, \"31\": 3, \"21\": 10, \"55\": 15, \"11\": 7, \"22\": 6, \"37\": 1, \"16\": 1, \"56\": 2, \"3\": 2, \"38\": 2, \"33\": 1, \"24\": 1, \"23\": 3, \"43\": 1, \"48\": 1, \"53\": 2, \"25\": 2}, \"36\": {\"36\": 97, \"8\": 2, \"32\": 1}, \"11\": {\"11\": 102, \"26\": 1, \"39\": 1, \"16\": 7, \"15\": 14, \"7\": 1, \"23\": 6, \"43\": 5, \"31\": 4, \"52\": 2, \"0\": 3}, \"57\": {\"28\": 6, \"33\": 1, \"1\": 21, \"57\": 46, \"47\": 13, \"29\": 4, \"5\": 11, \"48\": 2, \"31\": 1, \"27\": 1, \"17\": 6, \"9\": 5, \"22\": 3, \"20\": 1, \"0\": 2, \"14\": 1}, \"9\": {\"9\": 34, \"32\": 4, \"27\": 9, \"1\": 9, \"36\": 10, \"3\": 6, \"19\": 6, \"57\": 10, \"29\": 9, \"21\": 2, \"17\": 8, \"4\": 7, \"47\": 3, \"55\": 2, \"48\": 1, \"35\": 3, \"20\": 2, \"51\": 1, \"45\": 1, \"25\": 1, \"53\": 2}, \"25\": {\"20\": 9, \"25\": 56, \"8\": 24, \"46\": 5, \"38\": 1, \"52\": 3, \"53\": 6, \"30\": 4, \"21\": 3, \"51\": 4, \"18\": 3, \"50\": 6, \"54\": 1, \"3\": 1, \"35\": 1, \"4\": 1, \"13\": 1, \"19\": 1}, \"16\": {\"16\": 87, \"26\": 1, \"11\": 7, \"23\": 17, \"15\": 6, \"6\": 1, \"5\": 1, \"0\": 1, \"30\": 1, \"52\": 4}, \"53\": {\"20\": 7, \"51\": 5, \"53\": 55, \"27\": 3, \"33\": 1, \"11\": 1, \"6\": 2, \"50\": 8, \"48\": 1, \"52\": 1, \"13\": 3, \"18\": 2, \"54\": 8, \"21\": 4, \"8\": 4, \"46\": 3, \"3\": 3, \"25\": 1, \"2\": 1, \"36\": 1, \"12\": 1, \"30\": 3}, \"33\": {\"52\": 5, \"6\": 1, \"51\": 1, \"33\": 10, \"41\": 7, \"50\": 1, \"21\": 1, \"48\": 1, \"42\": 1}, \"51\": {\"53\": 10, \"51\": 50, \"12\": 3, \"21\": 9, \"6\": 3, \"52\": 5, \"50\": 11, \"3\": 4, \"13\": 6, \"20\": 7, \"54\": 3, \"25\": 6, \"11\": 3, \"8\": 3, \"2\": 1, \"24\": 2, \"4\": 1, \"9\": 1}, \"44\": {\"22\": 6, \"17\": 2, \"54\": 1, \"40\": 4, \"4\": 4, \"45\": 7, \"3\": 1, \"44\": 49, \"14\": 1, \"51\": 1, \"57\": 3, \"33\": 1, \"1\": 2, \"21\": 1, \"19\": 2, \"9\": 3}, \"48\": {\"48\": 90, \"1\": 5, \"42\": 2, \"52\": 1, \"55\": 8, \"47\": 3, \"46\": 1, \"18\": 1, \"54\": 2, \"27\": 1}, \"6\": {\"6\": 60, \"41\": 2, \"54\": 1, \"18\": 4, \"52\": 2, \"20\": 2, \"16\": 2, \"23\": 1, \"30\": 7, \"46\": 3, \"50\": 1, \"48\": 1, \"38\": 1, \"3\": 1}, \"23\": {\"23\": 140, \"16\": 2, \"52\": 1, \"26\": 1}, \"1\": {\"1\": 87, \"48\": 7, \"41\": 1, \"55\": 1, \"47\": 1, \"57\": 2, \"34\": 1}, \"17\": {\"57\": 7, \"17\": 44, \"20\": 4, \"5\": 3, \"46\": 2, \"36\": 9, \"6\": 3, \"12\": 2, \"14\": 1, \"27\": 11, \"9\": 2, \"50\": 2, \"8\": 2, \"13\": 1, \"53\": 3, \"48\": 3, \"35\": 1, \"54\": 2, \"32\": 2, \"29\": 2, \"21\": 2}, \"21\": {\"3\": 3, \"6\": 6, \"38\": 3, \"21\": 47, \"50\": 7, \"35\": 1, \"30\": 1, \"52\": 4, \"53\": 13, \"48\": 2, \"27\": 1, \"51\": 12, \"18\": 2, \"5\": 1, \"20\": 6, \"9\": 2, \"46\": 3, \"12\": 1, \"54\": 1, \"2\": 1, \"32\": 1, \"8\": 1, \"13\": 3}, \"14\": {\"1\": 4, \"43\": 5, \"14\": 6, \"7\": 3, \"24\": 1, \"57\": 1, \"35\": 2, \"10\": 2, \"45\": 1, \"31\": 1, \"22\": 2, \"19\": 1, \"48\": 1, \"49\": 1, \"28\": 1, \"42\": 1, \"34\": 1, \"54\": 2, \"56\": 1, \"27\": 1, \"13\": 1, \"53\": 1}, \"55\": {\"55\": 114, \"23\": 2, \"1\": 5, \"48\": 11, \"6\": 1, \"52\": 5, \"5\": 1, \"34\": 2, \"31\": 2, \"46\": 1}, \"41\": {\"41\": 28}, \"3\": {\"6\": 3, \"1\": 6, \"18\": 10, \"27\": 8, \"35\": 2, \"50\": 8, \"32\": 1, \"3\": 39, \"53\": 6, \"52\": 7, \"30\": 12, \"20\": 6, \"17\": 3, \"51\": 5, \"23\": 5, \"36\": 3, \"48\": 1, \"46\": 3, \"57\": 1, \"21\": 2, \"16\": 1, \"37\": 1, \"47\": 1, \"54\": 1, \"29\": 1, \"4\": 1, \"13\": 1}, \"38\": {\"6\": 2, \"36\": 2, \"27\": 2, \"38\": 8, \"20\": 3, \"32\": 1, \"21\": 2, \"54\": 2, \"25\": 1, \"12\": 3, \"2\": 1, \"35\": 1}, \"2\": {\"2\": 32}, \"8\": {\"8\": 112, \"36\": 1, \"46\": 1, \"3\": 3, \"20\": 3, \"9\": 1, \"50\": 14, \"54\": 1, \"30\": 1, \"25\": 2, \"27\": 2, \"6\": 1}, \"37\": {\"37\": 17, \"20\": 1, \"46\": 1, \"3\": 1, \"11\": 1, \"50\": 2, \"13\": 1, \"52\": 2, \"38\": 2}, \"45\": {\"18\": 2, \"12\": 9, \"4\": 5, \"29\": 3, \"14\": 4, \"1\": 1, \"45\": 16, \"8\": 2, \"57\": 4, \"40\": 1, \"48\": 1, \"50\": 1, \"35\": 2, \"19\": 4, \"42\": 1, \"54\": 1, \"32\": 1, \"53\": 1, \"22\": 1}, \"42\": {\"42\": 26, \"41\": 1, \"55\": 1}, \"24\": {\"24\": 91, \"49\": 1, \"10\": 2, \"43\": 10}, \"15\": {\"11\": 7, \"15\": 123, \"16\": 2, \"23\": 4}, \"0\": {\"0\": 111, \"15\": 9, \"23\": 2, \"11\": 2}, \"47\": {\"47\": 56, \"26\": 1, \"7\": 1, \"48\": 3, \"5\": 2, \"34\": 3, \"57\": 10, \"15\": 2, \"1\": 4, \"23\": 3, \"22\": 1, \"46\": 2, \"28\": 1, \"52\": 1, \"16\": 2}, \"19\": {\"35\": 4, \"19\": 40, \"9\": 13, \"57\": 4, \"45\": 3, \"12\": 1, \"40\": 3, \"4\": 12, \"25\": 2, \"1\": 1, \"17\": 4, \"29\": 11, \"3\": 2, \"48\": 3, \"54\": 2, \"51\": 1, \"53\": 2, \"22\": 3, \"36\": 2, \"33\": 1, \"27\": 3, \"14\": 1, \"32\": 1, \"44\": 1}}}, \"per_domain_accuracy\": {\"O_14\": {\"accuracy\": 0.7921875, \"source?\": true}, \"O_20\": {\"accuracy\": 0.6442708333333333, \"source?\": true}, \"O_50\": {\"accuracy\": 0.77421875, \"source?\": true}, \"O_26\": {\"accuracy\": 0.5575520833333333, \"source?\": true}, \"O_32\": {\"accuracy\": 0.7567708333333333, \"source?\": true}, \"O_44\": {\"accuracy\": 0.6971354166666667, \"source?\": true}, \"O_8\": {\"accuracy\": 0.7111979166666667, \"source?\": true}, \"O_38\": {\"accuracy\": 0.7640625, \"source?\": true}, \"C_4\": {\"accuracy\": 0.6351047904191617, \"source?\": false}, \"C_5\": {\"accuracy\": 0.6295391061452514, \"source?\": false}, \"C_2\": {\"accuracy\": 0.6621428571428571, \"source?\": false}, \"C_1\": {\"accuracy\": 0.6440217391304348, \"source?\": false}, \"C_3\": {\"accuracy\": 0.6340073529411765, \"source?\": false}}}, \"history\": {\"epoch_indices\": [1, 2, 3, 4, 5, 6, 7], \"train_label_loss\": [1.0592714471210327, 0.9002967976965011, 0.7621195279239189, 0.6394627977694783, 0.5631897196339976, 0.5101764367305718, 0.47699648278842993], \"source_val_label_loss\": [1.0443358421325684, 0.855244517326355, 0.7668857574462891, 0.655709445476532, 0.5305542349815369, 0.496832937002182, 0.4938275218009949], \"target_val_label_loss\": [195.8251190185547, 72.28257751464844, 65.61186218261719, 117.42869567871094, 178.49224853515625, 297.9822082519531, 199.8064727783203], \"source_val_acc_label\": [0.6494791666666667, 0.6802734375, 0.7121744791666667, 0.7542317708333334, 0.8040690104166667, 0.8177083333333334, 0.8175130208333333], \"target_val_acc_label\": [0.4870357142857143, 0.5928214285714286, 0.6410357142857143, 0.5618214285714286, 0.59725, 0.5312142857142857, 0.5767142857142857]}, \"dataset_metrics\": {\"source\": {\"train\": {\"n_unique_x\": 179200, \"n_unique_y\": 16, \"n_batch/episode\": 6720}, \"val\": {\"n_unique_x\": 38400, \"n_unique_y\": 16, \"n_batch/episode\": 960}, \"test\": {\"n_unique_x\": 38400, \"n_unique_y\": 16, \"n_batch/episode\": 960}}, \"target\": {\"train\": {\"n_unique_x\": 175158, \"n_unique_y\": 58, \"n_batch/episode\": 6317}, \"val\": {\"n_unique_x\": 37216, \"n_unique_y\": 58, \"n_batch/episode\": 875}, \"test\": {\"n_unique_x\": 37596, \"n_unique_y\": 58, \"n_batch/episode\": 886}}}}'"
      ]
     },
     "execution_count": 29,
     "metadata": {},
     "output_type": "execute_result"
    }
   ],
   "source": [
    "json.dumps(experiment)"
   ]
  }
 ],
 "metadata": {
  "celltoolbar": "Tags",
  "kernelspec": {
   "display_name": "Python 3 (ipykernel)",
   "language": "python",
   "name": "python3"
  },
  "language_info": {
   "codemirror_mode": {
    "name": "ipython",
    "version": 3
   },
   "file_extension": ".py",
   "mimetype": "text/x-python",
   "name": "python",
   "nbconvert_exporter": "python",
   "pygments_lexer": "ipython3",
   "version": "3.8.12"
  },
  "papermill": {
   "default_parameters": {},
   "duration": 2738.069749,
   "end_time": "2022-03-28T03:45:22.798484",
   "environment_variables": {},
   "exception": null,
   "input_path": "/root/csc500-main/csc500-notebooks/templates/tl_ptn_template.ipynb",
   "output_path": "trial.ipynb",
   "parameters": {
    "parameters": {
     "BEST_MODEL_PATH": "./best_model.pth",
     "NUM_LOGS_PER_EPOCH": 10,
     "criteria_for_best": "target_accuracy",
     "dataset_seed": 420,
     "datasets": [
      {
       "domain_prefix": "C_",
       "domains": [
        1,
        2,
        3,
        4,
        5
       ],
       "episode_transforms": [],
       "labels": [
        "1-10.",
        "1-11.",
        "1-15.",
        "1-16.",
        "1-17.",
        "1-18.",
        "1-19.",
        "10-4.",
        "10-7.",
        "11-1.",
        "11-14.",
        "11-17.",
        "11-20.",
        "11-7.",
        "13-20.",
        "13-8.",
        "14-10.",
        "14-11.",
        "14-14.",
        "14-7.",
        "15-1.",
        "15-20.",
        "16-1.",
        "16-16.",
        "17-10.",
        "17-11.",
        "17-2.",
        "19-1.",
        "19-16.",
        "19-19.",
        "19-20.",
        "19-3.",
        "2-10.",
        "2-11.",
        "2-17.",
        "2-18.",
        "2-20.",
        "2-3.",
        "2-4.",
        "2-5.",
        "2-6.",
        "2-7.",
        "2-8.",
        "3-13.",
        "3-18.",
        "3-3.",
        "4-1.",
        "4-10.",
        "4-11.",
        "4-19.",
        "5-5.",
        "6-15.",
        "7-10.",
        "7-14.",
        "8-18.",
        "8-20.",
        "8-3.",
        "8-8."
       ],
       "num_examples_per_domain_per_label": -1,
       "pickle_path": "/root/csc500-main/datasets/cores.stratified_ds.2022A.pkl",
       "source_or_target_dataset": "target",
       "x_transforms": [
        "unit_power",
        "jitter_256_1",
        "lowpass_+/-10MHz",
        "take_200"
       ]
      },
      {
       "domain_prefix": "O_",
       "domains": [
        32,
        38,
        8,
        44,
        14,
        50,
        20,
        26
       ],
       "episode_transforms": [],
       "labels": [
        "3123D52",
        "3123D65",
        "3123D79",
        "3123D80",
        "3123D54",
        "3123D70",
        "3123D7B",
        "3123D89",
        "3123D58",
        "3123D76",
        "3123D7D",
        "3123EFE",
        "3123D64",
        "3123D78",
        "3123D7E",
        "3124E4A"
       ],
       "num_examples_per_domain_per_label": 2000,
       "pickle_path": "/root/csc500-main/datasets/oracle.Run1_framed_2000Examples_stratified_ds.2022A.pkl",
       "source_or_target_dataset": "source",
       "x_transforms": [
        "unit_power",
        "jitter_256_1",
        "take_200",
        "resample_20Msps_to_25Msps"
       ]
      }
     ],
     "device": "cuda",
     "experiment_name": "tl_3-jitter1v2:oracle.run1.framed -> cores",
     "lr": 0.0001,
     "n_epoch": 50,
     "n_query": 2,
     "n_shot": 3,
     "n_way": 16,
     "patience": 3,
     "seed": 420,
     "test_k_factor": 2,
     "torch_default_dtype": "torch.float32",
     "train_k_factor": 3,
     "val_k_factor": 2,
     "x_net": [
      {
       "class": "nnReshape",
       "kargs": {
        "shape": [
         -1,
         1,
         2,
         256
        ]
       }
      },
      {
       "class": "Conv2d",
       "kargs": {
        "bias": false,
        "in_channels": 1,
        "kernel_size": [
         1,
         7
        ],
        "out_channels": 256,
        "padding": [
         0,
         3
        ]
       }
      },
      {
       "class": "ReLU",
       "kargs": {
        "inplace": true
       }
      },
      {
       "class": "BatchNorm2d",
       "kargs": {
        "num_features": 256
       }
      },
      {
       "class": "Conv2d",
       "kargs": {
        "bias": true,
        "in_channels": 256,
        "kernel_size": [
         2,
         7
        ],
        "out_channels": 80,
        "padding": [
         0,
         3
        ]
       }
      },
      {
       "class": "ReLU",
       "kargs": {
        "inplace": true
       }
      },
      {
       "class": "BatchNorm2d",
       "kargs": {
        "num_features": 80
       }
      },
      {
       "class": "Flatten",
       "kargs": {}
      },
      {
       "class": "Linear",
       "kargs": {
        "in_features": 20480,
        "out_features": 256
       }
      },
      {
       "class": "ReLU",
       "kargs": {
        "inplace": true
       }
      },
      {
       "class": "BatchNorm1d",
       "kargs": {
        "num_features": 256
       }
      },
      {
       "class": "Linear",
       "kargs": {
        "in_features": 256,
        "out_features": 256
       }
      }
     ],
     "x_shape": [
      2,
      256
     ]
    }
   },
   "start_time": "2022-03-28T02:59:44.728735",
   "version": "2.3.4"
  }
 },
 "nbformat": 4,
 "nbformat_minor": 5
}