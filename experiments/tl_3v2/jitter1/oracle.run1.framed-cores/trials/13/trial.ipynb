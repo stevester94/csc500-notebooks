{
 "cells": [
  {
   "cell_type": "markdown",
   "id": "9fea5f46",
   "metadata": {
    "papermill": {
     "duration": 0.030376,
     "end_time": "2022-03-28T05:57:31.990263",
     "exception": false,
     "start_time": "2022-03-28T05:57:31.959887",
     "status": "completed"
    },
    "tags": []
   },
   "source": [
    "# Transfer Learning Template"
   ]
  },
  {
   "cell_type": "code",
   "execution_count": 1,
   "id": "0902182a",
   "metadata": {
    "execution": {
     "iopub.execute_input": "2022-03-28T05:57:32.051794Z",
     "iopub.status.busy": "2022-03-28T05:57:32.040476Z",
     "iopub.status.idle": "2022-03-28T05:57:33.921298Z",
     "shell.execute_reply": "2022-03-28T05:57:33.921979Z"
    },
    "papermill": {
     "duration": 1.909414,
     "end_time": "2022-03-28T05:57:33.922325",
     "exception": false,
     "start_time": "2022-03-28T05:57:32.012911",
     "status": "completed"
    },
    "tags": []
   },
   "outputs": [],
   "source": [
    "%load_ext autoreload\n",
    "%autoreload 2\n",
    "%matplotlib inline\n",
    "\n",
    "    \n",
    "import os, json, sys, time, random\n",
    "import numpy as np\n",
    "import torch\n",
    "from torch.optim import Adam\n",
    "from  easydict import EasyDict\n",
    "import matplotlib.pyplot as plt\n",
    "\n",
    "from steves_models.steves_ptn import Steves_Prototypical_Network\n",
    "\n",
    "from steves_utils.lazy_iterable_wrapper import Lazy_Iterable_Wrapper\n",
    "from steves_utils.iterable_aggregator import Iterable_Aggregator\n",
    "from steves_utils.ptn_train_eval_test_jig import  PTN_Train_Eval_Test_Jig\n",
    "from steves_utils.torch_sequential_builder import build_sequential\n",
    "from steves_utils.torch_utils import get_dataset_metrics, ptn_confusion_by_domain_over_dataloader\n",
    "from steves_utils.utils_v2 import (per_domain_accuracy_from_confusion, get_datasets_base_path)\n",
    "from steves_utils.PTN.utils import independent_accuracy_assesment\n",
    "\n",
    "from torch.utils.data import DataLoader\n",
    "\n",
    "from steves_utils.stratified_dataset.episodic_accessor import Episodic_Accessor_Factory\n",
    "\n",
    "from steves_utils.ptn_do_report import (\n",
    "    get_loss_curve,\n",
    "    get_results_table,\n",
    "    get_parameters_table,\n",
    "    get_domain_accuracies,\n",
    ")\n",
    "\n",
    "from steves_utils.transforms import get_chained_transform"
   ]
  },
  {
   "cell_type": "markdown",
   "id": "41c840b4",
   "metadata": {
    "papermill": {
     "duration": 0.019612,
     "end_time": "2022-03-28T05:57:33.967719",
     "exception": false,
     "start_time": "2022-03-28T05:57:33.948107",
     "status": "completed"
    },
    "tags": []
   },
   "source": [
    "# Allowed Parameters\n",
    "These are allowed parameters, not defaults\n",
    "Each of these values need to be present in the injected parameters (the notebook will raise an exception if they are not present)\n",
    "\n",
    "Papermill uses the cell tag \"parameters\" to inject the real parameters below this cell.\n",
    "Enable tags to see what I mean"
   ]
  },
  {
   "cell_type": "code",
   "execution_count": 2,
   "id": "fd44eb83",
   "metadata": {
    "execution": {
     "iopub.execute_input": "2022-03-28T05:57:34.012157Z",
     "iopub.status.busy": "2022-03-28T05:57:34.011777Z",
     "iopub.status.idle": "2022-03-28T05:57:34.033502Z",
     "shell.execute_reply": "2022-03-28T05:57:34.032699Z"
    },
    "papermill": {
     "duration": 0.046241,
     "end_time": "2022-03-28T05:57:34.033655",
     "exception": false,
     "start_time": "2022-03-28T05:57:33.987414",
     "status": "completed"
    },
    "tags": []
   },
   "outputs": [],
   "source": [
    "required_parameters = {\n",
    "    \"experiment_name\",\n",
    "    \"lr\",\n",
    "    \"device\",\n",
    "    \"seed\",\n",
    "    \"dataset_seed\",\n",
    "    \"n_shot\",\n",
    "    \"n_query\",\n",
    "    \"n_way\",\n",
    "    \"train_k_factor\",\n",
    "    \"val_k_factor\",\n",
    "    \"test_k_factor\",\n",
    "    \"n_epoch\",\n",
    "    \"patience\",\n",
    "    \"criteria_for_best\",\n",
    "    \"x_net\",\n",
    "    \"datasets\",\n",
    "    \"torch_default_dtype\",\n",
    "    \"NUM_LOGS_PER_EPOCH\",\n",
    "    \"BEST_MODEL_PATH\",\n",
    "    \"x_shape\",\n",
    "}"
   ]
  },
  {
   "cell_type": "code",
   "execution_count": 3,
   "id": "fa3f0049",
   "metadata": {
    "execution": {
     "iopub.execute_input": "2022-03-28T05:57:34.091617Z",
     "iopub.status.busy": "2022-03-28T05:57:34.090694Z",
     "iopub.status.idle": "2022-03-28T05:57:34.110570Z",
     "shell.execute_reply": "2022-03-28T05:57:34.109768Z"
    },
    "papermill": {
     "duration": 0.052127,
     "end_time": "2022-03-28T05:57:34.110724",
     "exception": false,
     "start_time": "2022-03-28T05:57:34.058597",
     "status": "completed"
    },
    "tags": [
     "parameters"
    ]
   },
   "outputs": [],
   "source": [
    "from steves_utils.CORES.utils import (\n",
    "    ALL_NODES,\n",
    "    ALL_NODES_MINIMUM_1000_EXAMPLES,\n",
    "    ALL_DAYS\n",
    ")\n",
    "\n",
    "from steves_utils.ORACLE.utils_v2 import (\n",
    "    ALL_DISTANCES_FEET_NARROWED,\n",
    "    ALL_RUNS,\n",
    "    ALL_SERIAL_NUMBERS,\n",
    ")\n",
    "\n",
    "standalone_parameters = {}\n",
    "standalone_parameters[\"experiment_name\"] = \"STANDALONE PTN\"\n",
    "standalone_parameters[\"lr\"] = 0.001\n",
    "standalone_parameters[\"device\"] = \"cuda\"\n",
    "\n",
    "standalone_parameters[\"seed\"] = 1337\n",
    "standalone_parameters[\"dataset_seed\"] = 1337\n",
    "\n",
    "standalone_parameters[\"n_way\"] = 8\n",
    "standalone_parameters[\"n_shot\"] = 3\n",
    "standalone_parameters[\"n_query\"]  = 2\n",
    "standalone_parameters[\"train_k_factor\"] = 1\n",
    "standalone_parameters[\"val_k_factor\"] = 2\n",
    "standalone_parameters[\"test_k_factor\"] = 2\n",
    "\n",
    "\n",
    "standalone_parameters[\"n_epoch\"] = 50\n",
    "\n",
    "standalone_parameters[\"patience\"] = 10\n",
    "standalone_parameters[\"criteria_for_best\"] = \"source_loss\"\n",
    "\n",
    "standalone_parameters[\"datasets\"] = [\n",
    "    {\n",
    "        \"labels\": ALL_SERIAL_NUMBERS,\n",
    "        \"domains\": ALL_DISTANCES_FEET_NARROWED,\n",
    "        \"num_examples_per_domain_per_label\": 100,\n",
    "        \"pickle_path\": os.path.join(get_datasets_base_path(), \"oracle.Run1_framed_2000Examples_stratified_ds.2022A.pkl\"),\n",
    "        \"source_or_target_dataset\": \"source\",\n",
    "        \"x_transforms\": [\"unit_mag\", \"minus_two\"],\n",
    "        \"episode_transforms\": [],\n",
    "        \"domain_prefix\": \"ORACLE_\"\n",
    "    },\n",
    "    {\n",
    "        \"labels\": ALL_NODES,\n",
    "        \"domains\": ALL_DAYS,\n",
    "        \"num_examples_per_domain_per_label\": 100,\n",
    "        \"pickle_path\": os.path.join(get_datasets_base_path(), \"cores.stratified_ds.2022A.pkl\"),\n",
    "        \"source_or_target_dataset\": \"target\",\n",
    "        \"x_transforms\": [\"unit_power\", \"times_zero\"],\n",
    "        \"episode_transforms\": [],\n",
    "        \"domain_prefix\": \"CORES_\"\n",
    "    }   \n",
    "]\n",
    "\n",
    "standalone_parameters[\"torch_default_dtype\"] = \"torch.float32\" \n",
    "\n",
    "\n",
    "\n",
    "standalone_parameters[\"x_net\"] =     [\n",
    "    {\"class\": \"nnReshape\", \"kargs\": {\"shape\":[-1, 1, 2, 256]}},\n",
    "    {\"class\": \"Conv2d\", \"kargs\": { \"in_channels\":1, \"out_channels\":256, \"kernel_size\":(1,7), \"bias\":False, \"padding\":(0,3), },},\n",
    "    {\"class\": \"ReLU\", \"kargs\": {\"inplace\": True}},\n",
    "    {\"class\": \"BatchNorm2d\", \"kargs\": {\"num_features\":256}},\n",
    "\n",
    "    {\"class\": \"Conv2d\", \"kargs\": { \"in_channels\":256, \"out_channels\":80, \"kernel_size\":(2,7), \"bias\":True, \"padding\":(0,3), },},\n",
    "    {\"class\": \"ReLU\", \"kargs\": {\"inplace\": True}},\n",
    "    {\"class\": \"BatchNorm2d\", \"kargs\": {\"num_features\":80}},\n",
    "    {\"class\": \"Flatten\", \"kargs\": {}},\n",
    "\n",
    "    {\"class\": \"Linear\", \"kargs\": {\"in_features\": 80*256, \"out_features\": 256}}, # 80 units per IQ pair\n",
    "    {\"class\": \"ReLU\", \"kargs\": {\"inplace\": True}},\n",
    "    {\"class\": \"BatchNorm1d\", \"kargs\": {\"num_features\":256}},\n",
    "\n",
    "    {\"class\": \"Linear\", \"kargs\": {\"in_features\": 256, \"out_features\": 256}},\n",
    "]\n",
    "\n",
    "# Parameters relevant to results\n",
    "# These parameters will basically never need to change\n",
    "standalone_parameters[\"NUM_LOGS_PER_EPOCH\"] = 10\n",
    "standalone_parameters[\"BEST_MODEL_PATH\"] = \"./best_model.pth\"\n",
    "\n",
    "\n",
    "\n",
    "\n"
   ]
  },
  {
   "cell_type": "code",
   "execution_count": 4,
   "id": "c00e57c4",
   "metadata": {
    "execution": {
     "iopub.execute_input": "2022-03-28T05:57:34.172124Z",
     "iopub.status.busy": "2022-03-28T05:57:34.157853Z",
     "iopub.status.idle": "2022-03-28T05:57:34.190770Z",
     "shell.execute_reply": "2022-03-28T05:57:34.189961Z"
    },
    "papermill": {
     "duration": 0.055275,
     "end_time": "2022-03-28T05:57:34.190921",
     "exception": false,
     "start_time": "2022-03-28T05:57:34.135646",
     "status": "completed"
    },
    "tags": [
     "injected-parameters"
    ]
   },
   "outputs": [],
   "source": [
    "# Parameters\n",
    "parameters = {\n",
    "    \"experiment_name\": \"tl_3-jitter1v2:oracle.run1.framed -> cores\",\n",
    "    \"device\": \"cuda\",\n",
    "    \"lr\": 0.0001,\n",
    "    \"x_shape\": [2, 256],\n",
    "    \"n_shot\": 3,\n",
    "    \"n_query\": 2,\n",
    "    \"train_k_factor\": 3,\n",
    "    \"val_k_factor\": 2,\n",
    "    \"test_k_factor\": 2,\n",
    "    \"torch_default_dtype\": \"torch.float32\",\n",
    "    \"n_epoch\": 50,\n",
    "    \"patience\": 3,\n",
    "    \"criteria_for_best\": \"target_accuracy\",\n",
    "    \"x_net\": [\n",
    "        {\"class\": \"nnReshape\", \"kargs\": {\"shape\": [-1, 1, 2, 256]}},\n",
    "        {\n",
    "            \"class\": \"Conv2d\",\n",
    "            \"kargs\": {\n",
    "                \"in_channels\": 1,\n",
    "                \"out_channels\": 256,\n",
    "                \"kernel_size\": [1, 7],\n",
    "                \"bias\": False,\n",
    "                \"padding\": [0, 3],\n",
    "            },\n",
    "        },\n",
    "        {\"class\": \"ReLU\", \"kargs\": {\"inplace\": True}},\n",
    "        {\"class\": \"BatchNorm2d\", \"kargs\": {\"num_features\": 256}},\n",
    "        {\n",
    "            \"class\": \"Conv2d\",\n",
    "            \"kargs\": {\n",
    "                \"in_channels\": 256,\n",
    "                \"out_channels\": 80,\n",
    "                \"kernel_size\": [2, 7],\n",
    "                \"bias\": True,\n",
    "                \"padding\": [0, 3],\n",
    "            },\n",
    "        },\n",
    "        {\"class\": \"ReLU\", \"kargs\": {\"inplace\": True}},\n",
    "        {\"class\": \"BatchNorm2d\", \"kargs\": {\"num_features\": 80}},\n",
    "        {\"class\": \"Flatten\", \"kargs\": {}},\n",
    "        {\"class\": \"Linear\", \"kargs\": {\"in_features\": 20480, \"out_features\": 256}},\n",
    "        {\"class\": \"ReLU\", \"kargs\": {\"inplace\": True}},\n",
    "        {\"class\": \"BatchNorm1d\", \"kargs\": {\"num_features\": 256}},\n",
    "        {\"class\": \"Linear\", \"kargs\": {\"in_features\": 256, \"out_features\": 256}},\n",
    "    ],\n",
    "    \"NUM_LOGS_PER_EPOCH\": 10,\n",
    "    \"BEST_MODEL_PATH\": \"./best_model.pth\",\n",
    "    \"n_way\": 16,\n",
    "    \"datasets\": [\n",
    "        {\n",
    "            \"labels\": [\n",
    "                \"1-10.\",\n",
    "                \"1-11.\",\n",
    "                \"1-15.\",\n",
    "                \"1-16.\",\n",
    "                \"1-17.\",\n",
    "                \"1-18.\",\n",
    "                \"1-19.\",\n",
    "                \"10-4.\",\n",
    "                \"10-7.\",\n",
    "                \"11-1.\",\n",
    "                \"11-14.\",\n",
    "                \"11-17.\",\n",
    "                \"11-20.\",\n",
    "                \"11-7.\",\n",
    "                \"13-20.\",\n",
    "                \"13-8.\",\n",
    "                \"14-10.\",\n",
    "                \"14-11.\",\n",
    "                \"14-14.\",\n",
    "                \"14-7.\",\n",
    "                \"15-1.\",\n",
    "                \"15-20.\",\n",
    "                \"16-1.\",\n",
    "                \"16-16.\",\n",
    "                \"17-10.\",\n",
    "                \"17-11.\",\n",
    "                \"17-2.\",\n",
    "                \"19-1.\",\n",
    "                \"19-16.\",\n",
    "                \"19-19.\",\n",
    "                \"19-20.\",\n",
    "                \"19-3.\",\n",
    "                \"2-10.\",\n",
    "                \"2-11.\",\n",
    "                \"2-17.\",\n",
    "                \"2-18.\",\n",
    "                \"2-20.\",\n",
    "                \"2-3.\",\n",
    "                \"2-4.\",\n",
    "                \"2-5.\",\n",
    "                \"2-6.\",\n",
    "                \"2-7.\",\n",
    "                \"2-8.\",\n",
    "                \"3-13.\",\n",
    "                \"3-18.\",\n",
    "                \"3-3.\",\n",
    "                \"4-1.\",\n",
    "                \"4-10.\",\n",
    "                \"4-11.\",\n",
    "                \"4-19.\",\n",
    "                \"5-5.\",\n",
    "                \"6-15.\",\n",
    "                \"7-10.\",\n",
    "                \"7-14.\",\n",
    "                \"8-18.\",\n",
    "                \"8-20.\",\n",
    "                \"8-3.\",\n",
    "                \"8-8.\",\n",
    "            ],\n",
    "            \"domains\": [1, 2, 3, 4, 5],\n",
    "            \"num_examples_per_domain_per_label\": -1,\n",
    "            \"pickle_path\": \"/root/csc500-main/datasets/cores.stratified_ds.2022A.pkl\",\n",
    "            \"source_or_target_dataset\": \"target\",\n",
    "            \"x_transforms\": [\n",
    "                \"unit_mag\",\n",
    "                \"jitter_256_1\",\n",
    "                \"lowpass_+/-10MHz\",\n",
    "                \"take_200\",\n",
    "            ],\n",
    "            \"episode_transforms\": [],\n",
    "            \"domain_prefix\": \"C_\",\n",
    "        },\n",
    "        {\n",
    "            \"labels\": [\n",
    "                \"3123D52\",\n",
    "                \"3123D65\",\n",
    "                \"3123D79\",\n",
    "                \"3123D80\",\n",
    "                \"3123D54\",\n",
    "                \"3123D70\",\n",
    "                \"3123D7B\",\n",
    "                \"3123D89\",\n",
    "                \"3123D58\",\n",
    "                \"3123D76\",\n",
    "                \"3123D7D\",\n",
    "                \"3123EFE\",\n",
    "                \"3123D64\",\n",
    "                \"3123D78\",\n",
    "                \"3123D7E\",\n",
    "                \"3124E4A\",\n",
    "            ],\n",
    "            \"domains\": [32, 38, 8, 44, 14, 50, 20, 26],\n",
    "            \"num_examples_per_domain_per_label\": 2000,\n",
    "            \"pickle_path\": \"/root/csc500-main/datasets/oracle.Run1_framed_2000Examples_stratified_ds.2022A.pkl\",\n",
    "            \"source_or_target_dataset\": \"source\",\n",
    "            \"x_transforms\": [\n",
    "                \"unit_mag\",\n",
    "                \"jitter_256_1\",\n",
    "                \"take_200\",\n",
    "                \"resample_20Msps_to_25Msps\",\n",
    "            ],\n",
    "            \"episode_transforms\": [],\n",
    "            \"domain_prefix\": \"O_\",\n",
    "        },\n",
    "    ],\n",
    "    \"seed\": 500,\n",
    "    \"dataset_seed\": 500,\n",
    "}\n"
   ]
  },
  {
   "cell_type": "code",
   "execution_count": 5,
   "id": "8fa1cc33",
   "metadata": {
    "execution": {
     "iopub.execute_input": "2022-03-28T05:57:34.246819Z",
     "iopub.status.busy": "2022-03-28T05:57:34.246251Z",
     "iopub.status.idle": "2022-03-28T05:57:34.265312Z",
     "shell.execute_reply": "2022-03-28T05:57:34.264611Z"
    },
    "papermill": {
     "duration": 0.046861,
     "end_time": "2022-03-28T05:57:34.265464",
     "exception": false,
     "start_time": "2022-03-28T05:57:34.218603",
     "status": "completed"
    },
    "tags": []
   },
   "outputs": [],
   "source": [
    "# Set this to True if you want to run this template directly\n",
    "STANDALONE = False\n",
    "if STANDALONE:\n",
    "    print(\"parameters not injected, running with standalone_parameters\")\n",
    "    parameters = standalone_parameters\n",
    "\n",
    "if not 'parameters' in locals() and not 'parameters' in globals():\n",
    "    raise Exception(\"Parameter injection failed\")\n",
    "\n",
    "#Use an easy dict for all the parameters\n",
    "p = EasyDict(parameters)\n",
    "\n",
    "if \"x_shape\" not in p:\n",
    "    p.x_shape = [2,256] # Default to this if we dont supply x_shape\n",
    "\n",
    "\n",
    "supplied_keys = set(p.keys())\n",
    "\n",
    "if  supplied_keys != required_parameters:\n",
    "    print(\"Parameters are incorrect\")\n",
    "    if len(supplied_keys - required_parameters)>0: print(\"Shouldn't have:\", str(supplied_keys - required_parameters))\n",
    "    if len(required_parameters - supplied_keys)>0: print(\"Need to have:\", str(required_parameters - supplied_keys))\n",
    "    raise RuntimeError(\"Parameters are incorrect\")"
   ]
  },
  {
   "cell_type": "code",
   "execution_count": 6,
   "id": "3a028d58",
   "metadata": {
    "execution": {
     "iopub.execute_input": "2022-03-28T05:57:34.316011Z",
     "iopub.status.busy": "2022-03-28T05:57:34.315320Z",
     "iopub.status.idle": "2022-03-28T05:57:34.337933Z",
     "shell.execute_reply": "2022-03-28T05:57:34.337139Z"
    },
    "papermill": {
     "duration": 0.046712,
     "end_time": "2022-03-28T05:57:34.338085",
     "exception": false,
     "start_time": "2022-03-28T05:57:34.291373",
     "status": "completed"
    },
    "tags": []
   },
   "outputs": [],
   "source": [
    "###################################\n",
    "# Set the RNGs and make it all deterministic\n",
    "###################################\n",
    "np.random.seed(p.seed)\n",
    "random.seed(p.seed)\n",
    "torch.manual_seed(p.seed)\n",
    "\n",
    "torch.use_deterministic_algorithms(True) "
   ]
  },
  {
   "cell_type": "code",
   "execution_count": 7,
   "id": "b691acf6",
   "metadata": {
    "execution": {
     "iopub.execute_input": "2022-03-28T05:57:34.387909Z",
     "iopub.status.busy": "2022-03-28T05:57:34.386032Z",
     "iopub.status.idle": "2022-03-28T05:57:34.409610Z",
     "shell.execute_reply": "2022-03-28T05:57:34.408813Z"
    },
    "papermill": {
     "duration": 0.046031,
     "end_time": "2022-03-28T05:57:34.409763",
     "exception": false,
     "start_time": "2022-03-28T05:57:34.363732",
     "status": "completed"
    },
    "tags": []
   },
   "outputs": [],
   "source": [
    "###########################################\n",
    "# The stratified datasets honor this\n",
    "###########################################\n",
    "torch.set_default_dtype(eval(p.torch_default_dtype))"
   ]
  },
  {
   "cell_type": "code",
   "execution_count": 8,
   "id": "b5fba671",
   "metadata": {
    "execution": {
     "iopub.execute_input": "2022-03-28T05:57:34.461294Z",
     "iopub.status.busy": "2022-03-28T05:57:34.460932Z",
     "iopub.status.idle": "2022-03-28T05:57:34.512187Z",
     "shell.execute_reply": "2022-03-28T05:57:34.511473Z"
    },
    "papermill": {
     "duration": 0.074374,
     "end_time": "2022-03-28T05:57:34.512339",
     "exception": false,
     "start_time": "2022-03-28T05:57:34.437965",
     "status": "completed"
    },
    "tags": []
   },
   "outputs": [],
   "source": [
    "###################################\n",
    "# Build the network(s)\n",
    "# Note: It's critical to do this AFTER setting the RNG\n",
    "###################################\n",
    "x_net = build_sequential(p.x_net)"
   ]
  },
  {
   "cell_type": "code",
   "execution_count": 9,
   "id": "5d7e61cc",
   "metadata": {
    "execution": {
     "iopub.execute_input": "2022-03-28T05:57:34.563219Z",
     "iopub.status.busy": "2022-03-28T05:57:34.562855Z",
     "iopub.status.idle": "2022-03-28T05:57:34.584236Z",
     "shell.execute_reply": "2022-03-28T05:57:34.583424Z"
    },
    "papermill": {
     "duration": 0.04529,
     "end_time": "2022-03-28T05:57:34.584388",
     "exception": false,
     "start_time": "2022-03-28T05:57:34.539098",
     "status": "completed"
    },
    "tags": []
   },
   "outputs": [],
   "source": [
    "start_time_secs = time.time()"
   ]
  },
  {
   "cell_type": "code",
   "execution_count": 10,
   "id": "c6b67dfd",
   "metadata": {
    "execution": {
     "iopub.execute_input": "2022-03-28T05:57:34.637395Z",
     "iopub.status.busy": "2022-03-28T05:57:34.636838Z",
     "iopub.status.idle": "2022-03-28T05:57:34.653999Z",
     "shell.execute_reply": "2022-03-28T05:57:34.653206Z"
    },
    "papermill": {
     "duration": 0.040827,
     "end_time": "2022-03-28T05:57:34.654150",
     "exception": false,
     "start_time": "2022-03-28T05:57:34.613323",
     "status": "completed"
    },
    "tags": []
   },
   "outputs": [],
   "source": [
    "p.domains_source = []\n",
    "p.domains_target = []\n",
    "\n",
    "\n",
    "train_original_source = []\n",
    "val_original_source   = []\n",
    "test_original_source  = []\n",
    "\n",
    "train_original_target = []\n",
    "val_original_target   = []\n",
    "test_original_target  = []"
   ]
  },
  {
   "cell_type": "code",
   "execution_count": 11,
   "id": "e3d9c3d3",
   "metadata": {
    "execution": {
     "iopub.execute_input": "2022-03-28T05:57:34.704473Z",
     "iopub.status.busy": "2022-03-28T05:57:34.704105Z",
     "iopub.status.idle": "2022-03-28T05:57:34.721278Z",
     "shell.execute_reply": "2022-03-28T05:57:34.720573Z"
    },
    "papermill": {
     "duration": 0.041245,
     "end_time": "2022-03-28T05:57:34.721431",
     "exception": false,
     "start_time": "2022-03-28T05:57:34.680186",
     "status": "completed"
    },
    "tags": []
   },
   "outputs": [],
   "source": [
    "# global_x_transform_func = lambda x: normalize(x.to(torch.get_default_dtype()), \"unit_power\") # unit_power, unit_mag\n",
    "# global_x_transform_func = lambda x: normalize(x, \"unit_power\") # unit_power, unit_mag"
   ]
  },
  {
   "cell_type": "code",
   "execution_count": 12,
   "id": "acb78fd2",
   "metadata": {
    "execution": {
     "iopub.execute_input": "2022-03-28T05:57:34.778918Z",
     "iopub.status.busy": "2022-03-28T05:57:34.778079Z",
     "iopub.status.idle": "2022-03-28T05:57:34.796271Z",
     "shell.execute_reply": "2022-03-28T05:57:34.795497Z"
    },
    "papermill": {
     "duration": 0.048622,
     "end_time": "2022-03-28T05:57:34.796440",
     "exception": false,
     "start_time": "2022-03-28T05:57:34.747818",
     "status": "completed"
    },
    "tags": []
   },
   "outputs": [],
   "source": [
    "def add_dataset(\n",
    "    labels,\n",
    "    domains,\n",
    "    pickle_path,\n",
    "    x_transforms,\n",
    "    episode_transforms,\n",
    "    domain_prefix,\n",
    "    num_examples_per_domain_per_label,\n",
    "    source_or_target_dataset:str,\n",
    "    iterator_seed=p.seed,\n",
    "    dataset_seed=p.dataset_seed,\n",
    "    n_shot=p.n_shot,\n",
    "    n_way=p.n_way,\n",
    "    n_query=p.n_query,\n",
    "    train_val_test_k_factors=(p.train_k_factor,p.val_k_factor,p.test_k_factor),\n",
    "):\n",
    "   \n",
    "    if x_transforms == []: x_transform = None\n",
    "    else: x_transform = get_chained_transform(x_transforms)\n",
    "    \n",
    "    if episode_transforms == []: episode_transform = None\n",
    "    else: raise Exception(\"episode_transforms not implemented\")\n",
    "    \n",
    "    episode_transform = lambda tup, _prefix=domain_prefix: (_prefix + str(tup[0]), tup[1])\n",
    "\n",
    "\n",
    "    eaf = Episodic_Accessor_Factory(\n",
    "        labels=labels,\n",
    "        domains=domains,\n",
    "        num_examples_per_domain_per_label=num_examples_per_domain_per_label,\n",
    "        iterator_seed=iterator_seed,\n",
    "        dataset_seed=dataset_seed,\n",
    "        n_shot=n_shot,\n",
    "        n_way=n_way,\n",
    "        n_query=n_query,\n",
    "        train_val_test_k_factors=train_val_test_k_factors,\n",
    "        pickle_path=pickle_path,\n",
    "        x_transform_func=x_transform,\n",
    "    )\n",
    "\n",
    "    train, val, test = eaf.get_train(), eaf.get_val(), eaf.get_test()\n",
    "    train = Lazy_Iterable_Wrapper(train, episode_transform)\n",
    "    val = Lazy_Iterable_Wrapper(val, episode_transform)\n",
    "    test = Lazy_Iterable_Wrapper(test, episode_transform)\n",
    "\n",
    "    if source_or_target_dataset==\"source\":\n",
    "        train_original_source.append(train)\n",
    "        val_original_source.append(val)\n",
    "        test_original_source.append(test)\n",
    "\n",
    "        p.domains_source.extend(\n",
    "            [domain_prefix + str(u) for u in domains]\n",
    "        )\n",
    "    elif source_or_target_dataset==\"target\":\n",
    "        train_original_target.append(train)\n",
    "        val_original_target.append(val)\n",
    "        test_original_target.append(test)\n",
    "        p.domains_target.extend(\n",
    "            [domain_prefix + str(u) for u in domains]\n",
    "        )\n",
    "    else:\n",
    "        raise Exception(f\"invalid source_or_target_dataset: {source_or_target_dataset}\")\n",
    "    "
   ]
  },
  {
   "cell_type": "code",
   "execution_count": 13,
   "id": "fe266617",
   "metadata": {
    "execution": {
     "iopub.execute_input": "2022-03-28T05:57:34.848061Z",
     "iopub.status.busy": "2022-03-28T05:57:34.847023Z",
     "iopub.status.idle": "2022-03-28T05:59:24.152024Z",
     "shell.execute_reply": "2022-03-28T05:59:24.151233Z"
    },
    "papermill": {
     "duration": 109.328372,
     "end_time": "2022-03-28T05:59:24.152203",
     "exception": false,
     "start_time": "2022-03-28T05:57:34.823831",
     "status": "completed"
    },
    "tags": []
   },
   "outputs": [],
   "source": [
    "for ds in p.datasets:\n",
    "    add_dataset(**ds)"
   ]
  },
  {
   "cell_type": "code",
   "execution_count": 14,
   "id": "b90d65ac",
   "metadata": {
    "execution": {
     "iopub.execute_input": "2022-03-28T05:59:24.203062Z",
     "iopub.status.busy": "2022-03-28T05:59:24.202684Z",
     "iopub.status.idle": "2022-03-28T05:59:24.225931Z",
     "shell.execute_reply": "2022-03-28T05:59:24.225176Z"
    },
    "papermill": {
     "duration": 0.047911,
     "end_time": "2022-03-28T05:59:24.226087",
     "exception": false,
     "start_time": "2022-03-28T05:59:24.178176",
     "status": "completed"
    },
    "tags": []
   },
   "outputs": [],
   "source": [
    "# from steves_utils.CORES.utils import (\n",
    "#     ALL_NODES,\n",
    "#     ALL_NODES_MINIMUM_1000_EXAMPLES,\n",
    "#     ALL_DAYS\n",
    "# )\n",
    "\n",
    "# add_dataset(\n",
    "#     labels=ALL_NODES,\n",
    "#     domains = ALL_DAYS,\n",
    "#     num_examples_per_domain_per_label=100,\n",
    "#     pickle_path=os.path.join(get_datasets_base_path(), \"cores.stratified_ds.2022A.pkl\"),\n",
    "#     source_or_target_dataset=\"target\",\n",
    "#     x_transform_func=global_x_transform_func,\n",
    "#     domain_modifier=lambda u: f\"cores_{u}\"\n",
    "# )"
   ]
  },
  {
   "cell_type": "code",
   "execution_count": 15,
   "id": "76db484d",
   "metadata": {
    "execution": {
     "iopub.execute_input": "2022-03-28T05:59:24.277701Z",
     "iopub.status.busy": "2022-03-28T05:59:24.276144Z",
     "iopub.status.idle": "2022-03-28T05:59:24.296798Z",
     "shell.execute_reply": "2022-03-28T05:59:24.296003Z"
    },
    "papermill": {
     "duration": 0.044362,
     "end_time": "2022-03-28T05:59:24.296953",
     "exception": false,
     "start_time": "2022-03-28T05:59:24.252591",
     "status": "completed"
    },
    "tags": []
   },
   "outputs": [],
   "source": [
    "# from steves_utils.ORACLE.utils_v2 import (\n",
    "#     ALL_DISTANCES_FEET,\n",
    "#     ALL_RUNS,\n",
    "#     ALL_SERIAL_NUMBERS,\n",
    "# )\n",
    "\n",
    "\n",
    "# add_dataset(\n",
    "#     labels=ALL_SERIAL_NUMBERS,\n",
    "#     domains = list(set(ALL_DISTANCES_FEET) - {2,62}),\n",
    "#     num_examples_per_domain_per_label=100,\n",
    "#     pickle_path=os.path.join(get_datasets_base_path(), \"oracle.Run2_framed_2000Examples_stratified_ds.2022A.pkl\"),\n",
    "#     source_or_target_dataset=\"source\",\n",
    "#     x_transform_func=global_x_transform_func,\n",
    "#     domain_modifier=lambda u: f\"oracle1_{u}\"\n",
    "# )\n"
   ]
  },
  {
   "cell_type": "code",
   "execution_count": 16,
   "id": "97dea9d2",
   "metadata": {
    "execution": {
     "iopub.execute_input": "2022-03-28T05:59:24.346861Z",
     "iopub.status.busy": "2022-03-28T05:59:24.346292Z",
     "iopub.status.idle": "2022-03-28T05:59:24.374782Z",
     "shell.execute_reply": "2022-03-28T05:59:24.375275Z"
    },
    "papermill": {
     "duration": 0.052244,
     "end_time": "2022-03-28T05:59:24.375438",
     "exception": false,
     "start_time": "2022-03-28T05:59:24.323194",
     "status": "completed"
    },
    "tags": []
   },
   "outputs": [],
   "source": [
    "# from steves_utils.ORACLE.utils_v2 import (\n",
    "#     ALL_DISTANCES_FEET,\n",
    "#     ALL_RUNS,\n",
    "#     ALL_SERIAL_NUMBERS,\n",
    "# )\n",
    "\n",
    "\n",
    "# add_dataset(\n",
    "#     labels=ALL_SERIAL_NUMBERS,\n",
    "#     domains = list(set(ALL_DISTANCES_FEET) - {2,62,56}),\n",
    "#     num_examples_per_domain_per_label=100,\n",
    "#     pickle_path=os.path.join(get_datasets_base_path(), \"oracle.Run2_framed_2000Examples_stratified_ds.2022A.pkl\"),\n",
    "#     source_or_target_dataset=\"source\",\n",
    "#     x_transform_func=global_x_transform_func,\n",
    "#     domain_modifier=lambda u: f\"oracle2_{u}\"\n",
    "# )"
   ]
  },
  {
   "cell_type": "code",
   "execution_count": 17,
   "id": "6f289866",
   "metadata": {
    "execution": {
     "iopub.execute_input": "2022-03-28T05:59:24.430199Z",
     "iopub.status.busy": "2022-03-28T05:59:24.429327Z",
     "iopub.status.idle": "2022-03-28T05:59:24.451873Z",
     "shell.execute_reply": "2022-03-28T05:59:24.452704Z"
    },
    "papermill": {
     "duration": 0.048211,
     "end_time": "2022-03-28T05:59:24.452970",
     "exception": false,
     "start_time": "2022-03-28T05:59:24.404759",
     "status": "completed"
    },
    "tags": []
   },
   "outputs": [],
   "source": [
    "# add_dataset(\n",
    "#     labels=list(range(19)),\n",
    "#     domains = [0,1,2],\n",
    "#     num_examples_per_domain_per_label=100,\n",
    "#     pickle_path=os.path.join(get_datasets_base_path(), \"metehan.stratified_ds.2022A.pkl\"),\n",
    "#     source_or_target_dataset=\"target\",\n",
    "#     x_transform_func=global_x_transform_func,\n",
    "#     domain_modifier=lambda u: f\"met_{u}\"\n",
    "# )"
   ]
  },
  {
   "cell_type": "code",
   "execution_count": 18,
   "id": "86a863c3",
   "metadata": {
    "execution": {
     "iopub.execute_input": "2022-03-28T05:59:24.506944Z",
     "iopub.status.busy": "2022-03-28T05:59:24.506556Z",
     "iopub.status.idle": "2022-03-28T05:59:24.537912Z",
     "shell.execute_reply": "2022-03-28T05:59:24.538593Z"
    },
    "papermill": {
     "duration": 0.057089,
     "end_time": "2022-03-28T05:59:24.538846",
     "exception": false,
     "start_time": "2022-03-28T05:59:24.481757",
     "status": "completed"
    },
    "tags": []
   },
   "outputs": [],
   "source": [
    "# # from steves_utils.wisig.utils import (\n",
    "# #     ALL_NODES_MINIMUM_100_EXAMPLES,\n",
    "# #     ALL_NODES_MINIMUM_500_EXAMPLES,\n",
    "# #     ALL_NODES_MINIMUM_1000_EXAMPLES,\n",
    "# #     ALL_DAYS\n",
    "# # )\n",
    "\n",
    "# import steves_utils.wisig.utils as wisig\n",
    "\n",
    "\n",
    "# add_dataset(\n",
    "#     labels=wisig.ALL_NODES_MINIMUM_100_EXAMPLES,\n",
    "#     domains = wisig.ALL_DAYS,\n",
    "#     num_examples_per_domain_per_label=100,\n",
    "#     pickle_path=os.path.join(get_datasets_base_path(), \"wisig.node3-19.stratified_ds.2022A.pkl\"),\n",
    "#     source_or_target_dataset=\"target\",\n",
    "#     x_transform_func=global_x_transform_func,\n",
    "#     domain_modifier=lambda u: f\"wisig_{u}\"\n",
    "# )"
   ]
  },
  {
   "cell_type": "code",
   "execution_count": 19,
   "id": "fd5442bc",
   "metadata": {
    "execution": {
     "iopub.execute_input": "2022-03-28T05:59:24.595580Z",
     "iopub.status.busy": "2022-03-28T05:59:24.594891Z",
     "iopub.status.idle": "2022-03-28T05:59:24.622697Z",
     "shell.execute_reply": "2022-03-28T05:59:24.621923Z"
    },
    "papermill": {
     "duration": 0.05759,
     "end_time": "2022-03-28T05:59:24.622895",
     "exception": false,
     "start_time": "2022-03-28T05:59:24.565305",
     "status": "completed"
    },
    "tags": []
   },
   "outputs": [],
   "source": [
    "###################################\n",
    "# Build the dataset\n",
    "###################################\n",
    "train_original_source = Iterable_Aggregator(train_original_source, p.seed)\n",
    "val_original_source = Iterable_Aggregator(val_original_source, p.seed)\n",
    "test_original_source = Iterable_Aggregator(test_original_source, p.seed)\n",
    "\n",
    "\n",
    "train_original_target = Iterable_Aggregator(train_original_target, p.seed)\n",
    "val_original_target = Iterable_Aggregator(val_original_target, p.seed)\n",
    "test_original_target = Iterable_Aggregator(test_original_target, p.seed)\n",
    "\n",
    "# For CNN We only use X and Y. And we only train on the source.\n",
    "# Properly form the data using a transform lambda and Lazy_Iterable_Wrapper. Finally wrap them in a dataloader\n",
    "\n",
    "transform_lambda = lambda ex: ex[1] # Original is (<domain>, <episode>) so we strip down to episode only\n",
    "\n",
    "train_processed_source = Lazy_Iterable_Wrapper(train_original_source, transform_lambda)\n",
    "val_processed_source   = Lazy_Iterable_Wrapper(val_original_source, transform_lambda)\n",
    "test_processed_source  = Lazy_Iterable_Wrapper(test_original_source, transform_lambda)\n",
    "\n",
    "train_processed_target = Lazy_Iterable_Wrapper(train_original_target, transform_lambda)\n",
    "val_processed_target   = Lazy_Iterable_Wrapper(val_original_target, transform_lambda)\n",
    "test_processed_target  = Lazy_Iterable_Wrapper(test_original_target, transform_lambda)\n",
    "\n",
    "datasets = EasyDict({\n",
    "    \"source\": {\n",
    "        \"original\": {\"train\":train_original_source, \"val\":val_original_source, \"test\":test_original_source},\n",
    "        \"processed\": {\"train\":train_processed_source, \"val\":val_processed_source, \"test\":test_processed_source}\n",
    "    },\n",
    "    \"target\": {\n",
    "        \"original\": {\"train\":train_original_target, \"val\":val_original_target, \"test\":test_original_target},\n",
    "        \"processed\": {\"train\":train_processed_target, \"val\":val_processed_target, \"test\":test_processed_target}\n",
    "    },\n",
    "})"
   ]
  },
  {
   "cell_type": "code",
   "execution_count": 20,
   "id": "5b3c01fc",
   "metadata": {
    "execution": {
     "iopub.execute_input": "2022-03-28T05:59:24.678871Z",
     "iopub.status.busy": "2022-03-28T05:59:24.678474Z",
     "iopub.status.idle": "2022-03-28T05:59:39.075268Z",
     "shell.execute_reply": "2022-03-28T05:59:39.076108Z"
    },
    "papermill": {
     "duration": 14.425382,
     "end_time": "2022-03-28T05:59:39.076326",
     "exception": false,
     "start_time": "2022-03-28T05:59:24.650944",
     "status": "completed"
    },
    "tags": []
   },
   "outputs": [
    {
     "name": "stdout",
     "output_type": "stream",
     "text": [
      "{'O_44', 'O_14', 'O_32', 'O_38', 'O_20', 'O_8', 'O_50', 'O_26'}\n"
     ]
    },
    {
     "name": "stdout",
     "output_type": "stream",
     "text": [
      "{'C_4', 'C_5', 'C_3', 'C_1', 'C_2'}\n"
     ]
    },
    {
     "name": "stdout",
     "output_type": "stream",
     "text": [
      "tensor([[[0., 0., 0.,  ..., 0., 0., 0.],\n",
      "         [0., 0., 0.,  ..., 0., 0., 0.]],\n",
      "\n",
      "        [[0., 0., 0.,  ..., 0., 0., 0.],\n",
      "         [0., 0., 0.,  ..., 0., 0., 0.]],\n",
      "\n",
      "        [[0., 0., 0.,  ..., 0., 0., 0.],\n",
      "         [0., 0., 0.,  ..., 0., 0., 0.]],\n",
      "\n",
      "        ...,\n",
      "\n",
      "        [[0., 0., 0.,  ..., 0., 0., 0.],\n",
      "         [0., 0., 0.,  ..., 0., 0., 0.]],\n",
      "\n",
      "        [[0., 0., 0.,  ..., 0., 0., 0.],\n",
      "         [0., 0., 0.,  ..., 0., 0., 0.]],\n",
      "\n",
      "        [[0., 0., 0.,  ..., 0., 0., 0.],\n",
      "         [0., 0., 0.,  ..., 0., 0., 0.]]])\n"
     ]
    }
   ],
   "source": [
    "from steves_utils.transforms import get_average_magnitude, get_average_power\n",
    "\n",
    "print(set([u for u,_ in val_original_source]))\n",
    "print(set([u for u,_ in val_original_target]))\n",
    "\n",
    "s_x, s_y, q_x, q_y, _ = next(iter(train_processed_source))\n",
    "print(s_x)\n",
    "\n",
    "# for ds in [\n",
    "#     train_processed_source,\n",
    "#     val_processed_source,\n",
    "#     test_processed_source,\n",
    "#     train_processed_target,\n",
    "#     val_processed_target,\n",
    "#     test_processed_target\n",
    "# ]:\n",
    "#     for s_x, s_y, q_x, q_y, _ in ds:\n",
    "#         for X in (s_x, q_x):\n",
    "#             for x in X:\n",
    "#                 assert np.isclose(get_average_magnitude(x.numpy()), 1.0)\n",
    "#                 assert np.isclose(get_average_power(x.numpy()), 1.0)\n",
    "                "
   ]
  },
  {
   "cell_type": "code",
   "execution_count": 21,
   "id": "bbdacba1",
   "metadata": {
    "execution": {
     "iopub.execute_input": "2022-03-28T05:59:39.139449Z",
     "iopub.status.busy": "2022-03-28T05:59:39.138858Z",
     "iopub.status.idle": "2022-03-28T05:59:39.277938Z",
     "shell.execute_reply": "2022-03-28T05:59:39.277230Z"
    },
    "papermill": {
     "duration": 0.170579,
     "end_time": "2022-03-28T05:59:39.278100",
     "exception": false,
     "start_time": "2022-03-28T05:59:39.107521",
     "status": "completed"
    },
    "tags": []
   },
   "outputs": [
    {
     "name": "stdout",
     "output_type": "stream",
     "text": [
      "(2, 256)\n"
     ]
    }
   ],
   "source": [
    "###################################\n",
    "# Build the model\n",
    "###################################\n",
    "# easfsl only wants a tuple for the shape\n",
    "model = Steves_Prototypical_Network(x_net, device=p.device, x_shape=tuple(p.x_shape))\n",
    "optimizer = Adam(params=model.parameters(), lr=p.lr)"
   ]
  },
  {
   "cell_type": "code",
   "execution_count": 22,
   "id": "22b39ac5",
   "metadata": {
    "execution": {
     "iopub.execute_input": "2022-03-28T05:59:39.336564Z",
     "iopub.status.busy": "2022-03-28T05:59:39.336192Z",
     "iopub.status.idle": "2022-03-28T06:25:31.463168Z",
     "shell.execute_reply": "2022-03-28T06:25:31.462645Z"
    },
    "papermill": {
     "duration": 1552.154376,
     "end_time": "2022-03-28T06:25:31.463293",
     "exception": false,
     "start_time": "2022-03-28T05:59:39.308917",
     "status": "completed"
    },
    "tags": []
   },
   "outputs": [
    {
     "name": "stdout",
     "output_type": "stream",
     "text": [
      "epoch: 1, [batch: 1 / 6720], examples_per_second: 33.8388, train_label_loss: 2.8774, \n"
     ]
    },
    {
     "name": "stdout",
     "output_type": "stream",
     "text": [
      "epoch: 1, [batch: 672 / 6720], examples_per_second: 3809.8941, train_label_loss: 1.7471, \n"
     ]
    },
    {
     "name": "stdout",
     "output_type": "stream",
     "text": [
      "epoch: 1, [batch: 1344 / 6720], examples_per_second: 3838.4572, train_label_loss: 0.9416, \n"
     ]
    },
    {
     "name": "stdout",
     "output_type": "stream",
     "text": [
      "epoch: 1, [batch: 2016 / 6720], examples_per_second: 3829.5437, train_label_loss: 0.8480, \n"
     ]
    },
    {
     "name": "stdout",
     "output_type": "stream",
     "text": [
      "epoch: 1, [batch: 2688 / 6720], examples_per_second: 3830.1350, train_label_loss: 0.7739, \n"
     ]
    },
    {
     "name": "stdout",
     "output_type": "stream",
     "text": [
      "epoch: 1, [batch: 3360 / 6720], examples_per_second: 3876.8968, train_label_loss: 0.8143, \n"
     ]
    },
    {
     "name": "stdout",
     "output_type": "stream",
     "text": [
      "epoch: 1, [batch: 4032 / 6720], examples_per_second: 3829.5788, train_label_loss: 0.8008, \n"
     ]
    },
    {
     "name": "stdout",
     "output_type": "stream",
     "text": [
      "epoch: 1, [batch: 4704 / 6720], examples_per_second: 3831.3951, train_label_loss: 0.7192, \n"
     ]
    },
    {
     "name": "stdout",
     "output_type": "stream",
     "text": [
      "epoch: 1, [batch: 5376 / 6720], examples_per_second: 4113.8703, train_label_loss: 0.7918, \n"
     ]
    },
    {
     "name": "stdout",
     "output_type": "stream",
     "text": [
      "epoch: 1, [batch: 6048 / 6720], examples_per_second: 4373.6861, train_label_loss: 0.9234, \n"
     ]
    },
    {
     "name": "stdout",
     "output_type": "stream",
     "text": [
      "=============================================================\n",
      "epoch: 1, source_val_acc_label: 0.5342, target_val_acc_label: 0.4582, source_val_label_loss: 4.1946, target_val_label_loss: 204.7382, \n",
      "=============================================================\n"
     ]
    },
    {
     "name": "stdout",
     "output_type": "stream",
     "text": [
      "New best\n"
     ]
    },
    {
     "name": "stdout",
     "output_type": "stream",
     "text": [
      "epoch: 2, [batch: 1 / 6720], examples_per_second: 4.1712, train_label_loss: 5.9251, \n"
     ]
    },
    {
     "name": "stdout",
     "output_type": "stream",
     "text": [
      "epoch: 2, [batch: 672 / 6720], examples_per_second: 3798.9035, train_label_loss: 1.2393, \n"
     ]
    },
    {
     "name": "stdout",
     "output_type": "stream",
     "text": [
      "epoch: 2, [batch: 1344 / 6720], examples_per_second: 3850.7824, train_label_loss: 1.2282, \n"
     ]
    },
    {
     "name": "stdout",
     "output_type": "stream",
     "text": [
      "epoch: 2, [batch: 2016 / 6720], examples_per_second: 3940.8378, train_label_loss: 0.9713, \n"
     ]
    },
    {
     "name": "stdout",
     "output_type": "stream",
     "text": [
      "epoch: 2, [batch: 2688 / 6720], examples_per_second: 3971.8600, train_label_loss: 0.6691, \n"
     ]
    },
    {
     "name": "stdout",
     "output_type": "stream",
     "text": [
      "epoch: 2, [batch: 3360 / 6720], examples_per_second: 3987.9862, train_label_loss: 0.7387, \n"
     ]
    },
    {
     "name": "stdout",
     "output_type": "stream",
     "text": [
      "epoch: 2, [batch: 4032 / 6720], examples_per_second: 3955.1974, train_label_loss: 1.1901, \n"
     ]
    },
    {
     "name": "stdout",
     "output_type": "stream",
     "text": [
      "epoch: 2, [batch: 4704 / 6720], examples_per_second: 3984.9135, train_label_loss: 0.7716, \n"
     ]
    },
    {
     "name": "stdout",
     "output_type": "stream",
     "text": [
      "epoch: 2, [batch: 5376 / 6720], examples_per_second: 4155.1775, train_label_loss: 0.9574, \n"
     ]
    },
    {
     "name": "stdout",
     "output_type": "stream",
     "text": [
      "epoch: 2, [batch: 6048 / 6720], examples_per_second: 4510.0381, train_label_loss: 0.7858, \n"
     ]
    },
    {
     "name": "stdout",
     "output_type": "stream",
     "text": [
      "=============================================================\n",
      "epoch: 2, source_val_acc_label: 0.6793, target_val_acc_label: 0.5152, source_val_label_loss: 0.8555, target_val_label_loss: 223.9107, \n",
      "=============================================================\n"
     ]
    },
    {
     "name": "stdout",
     "output_type": "stream",
     "text": [
      "New best\n"
     ]
    },
    {
     "name": "stdout",
     "output_type": "stream",
     "text": [
      "epoch: 3, [batch: 1 / 6720], examples_per_second: 4.4970, train_label_loss: 1.3274, \n"
     ]
    },
    {
     "name": "stdout",
     "output_type": "stream",
     "text": [
      "epoch: 3, [batch: 672 / 6720], examples_per_second: 4229.8852, train_label_loss: 0.5579, \n"
     ]
    },
    {
     "name": "stdout",
     "output_type": "stream",
     "text": [
      "epoch: 3, [batch: 1344 / 6720], examples_per_second: 4173.2815, train_label_loss: 0.5182, \n"
     ]
    },
    {
     "name": "stdout",
     "output_type": "stream",
     "text": [
      "epoch: 3, [batch: 2016 / 6720], examples_per_second: 4215.3080, train_label_loss: 0.6095, \n"
     ]
    },
    {
     "name": "stdout",
     "output_type": "stream",
     "text": [
      "epoch: 3, [batch: 2688 / 6720], examples_per_second: 4567.0521, train_label_loss: 0.6479, \n"
     ]
    },
    {
     "name": "stdout",
     "output_type": "stream",
     "text": [
      "epoch: 3, [batch: 3360 / 6720], examples_per_second: 5062.7568, train_label_loss: 0.5892, \n"
     ]
    },
    {
     "name": "stdout",
     "output_type": "stream",
     "text": [
      "epoch: 3, [batch: 4032 / 6720], examples_per_second: 5064.4878, train_label_loss: 1.0191, \n"
     ]
    },
    {
     "name": "stdout",
     "output_type": "stream",
     "text": [
      "epoch: 3, [batch: 4704 / 6720], examples_per_second: 4858.0438, train_label_loss: 0.8335, \n"
     ]
    },
    {
     "name": "stdout",
     "output_type": "stream",
     "text": [
      "epoch: 3, [batch: 5376 / 6720], examples_per_second: 4905.4543, train_label_loss: 1.1001, \n"
     ]
    },
    {
     "name": "stdout",
     "output_type": "stream",
     "text": [
      "epoch: 3, [batch: 6048 / 6720], examples_per_second: 4956.6920, train_label_loss: 0.7284, \n"
     ]
    },
    {
     "name": "stdout",
     "output_type": "stream",
     "text": [
      "=============================================================\n",
      "epoch: 3, source_val_acc_label: 0.6997, target_val_acc_label: 0.5576, source_val_label_loss: 0.7988, target_val_label_loss: 181.1777, \n",
      "=============================================================\n"
     ]
    },
    {
     "name": "stdout",
     "output_type": "stream",
     "text": [
      "New best\n"
     ]
    },
    {
     "name": "stdout",
     "output_type": "stream",
     "text": [
      "epoch: 4, [batch: 1 / 6720], examples_per_second: 5.2276, train_label_loss: 0.7738, \n"
     ]
    },
    {
     "name": "stdout",
     "output_type": "stream",
     "text": [
      "epoch: 4, [batch: 672 / 6720], examples_per_second: 5035.6307, train_label_loss: 0.6628, \n"
     ]
    },
    {
     "name": "stdout",
     "output_type": "stream",
     "text": [
      "epoch: 4, [batch: 1344 / 6720], examples_per_second: 4910.9813, train_label_loss: 0.6747, \n"
     ]
    },
    {
     "name": "stdout",
     "output_type": "stream",
     "text": [
      "epoch: 4, [batch: 2016 / 6720], examples_per_second: 4932.6046, train_label_loss: 0.5935, \n"
     ]
    },
    {
     "name": "stdout",
     "output_type": "stream",
     "text": [
      "epoch: 4, [batch: 2688 / 6720], examples_per_second: 4921.3697, train_label_loss: 0.8772, \n"
     ]
    },
    {
     "name": "stdout",
     "output_type": "stream",
     "text": [
      "epoch: 4, [batch: 3360 / 6720], examples_per_second: 5217.5081, train_label_loss: 1.0908, \n"
     ]
    },
    {
     "name": "stdout",
     "output_type": "stream",
     "text": [
      "epoch: 4, [batch: 4032 / 6720], examples_per_second: 5199.3239, train_label_loss: 0.9358, \n"
     ]
    },
    {
     "name": "stdout",
     "output_type": "stream",
     "text": [
      "epoch: 4, [batch: 4704 / 6720], examples_per_second: 4842.3293, train_label_loss: 1.3599, \n"
     ]
    },
    {
     "name": "stdout",
     "output_type": "stream",
     "text": [
      "epoch: 4, [batch: 5376 / 6720], examples_per_second: 5282.9782, train_label_loss: 0.9963, \n"
     ]
    },
    {
     "name": "stdout",
     "output_type": "stream",
     "text": [
      "epoch: 4, [batch: 6048 / 6720], examples_per_second: 4705.5210, train_label_loss: 0.5735, \n"
     ]
    },
    {
     "name": "stdout",
     "output_type": "stream",
     "text": [
      "=============================================================\n",
      "epoch: 4, source_val_acc_label: 0.7777, target_val_acc_label: 0.5661, source_val_label_loss: 0.6041, target_val_label_loss: 189.3732, \n",
      "=============================================================\n"
     ]
    },
    {
     "name": "stdout",
     "output_type": "stream",
     "text": [
      "New best\n"
     ]
    },
    {
     "name": "stdout",
     "output_type": "stream",
     "text": [
      "epoch: 5, [batch: 1 / 6720], examples_per_second: 3.9953, train_label_loss: 0.3380, \n"
     ]
    },
    {
     "name": "stdout",
     "output_type": "stream",
     "text": [
      "epoch: 5, [batch: 672 / 6720], examples_per_second: 3851.2412, train_label_loss: 0.7633, \n"
     ]
    },
    {
     "name": "stdout",
     "output_type": "stream",
     "text": [
      "epoch: 5, [batch: 1344 / 6720], examples_per_second: 3851.2173, train_label_loss: 0.4146, \n"
     ]
    },
    {
     "name": "stdout",
     "output_type": "stream",
     "text": [
      "epoch: 5, [batch: 2016 / 6720], examples_per_second: 3875.9108, train_label_loss: 0.3039, \n"
     ]
    },
    {
     "name": "stdout",
     "output_type": "stream",
     "text": [
      "epoch: 5, [batch: 2688 / 6720], examples_per_second: 3806.8416, train_label_loss: 0.4397, \n"
     ]
    },
    {
     "name": "stdout",
     "output_type": "stream",
     "text": [
      "epoch: 5, [batch: 3360 / 6720], examples_per_second: 3878.1968, train_label_loss: 0.5110, \n"
     ]
    },
    {
     "name": "stdout",
     "output_type": "stream",
     "text": [
      "epoch: 5, [batch: 4032 / 6720], examples_per_second: 3934.3585, train_label_loss: 0.3613, \n"
     ]
    },
    {
     "name": "stdout",
     "output_type": "stream",
     "text": [
      "epoch: 5, [batch: 4704 / 6720], examples_per_second: 4152.7389, train_label_loss: 0.3440, \n"
     ]
    },
    {
     "name": "stdout",
     "output_type": "stream",
     "text": [
      "epoch: 5, [batch: 5376 / 6720], examples_per_second: 4459.8107, train_label_loss: 0.5199, \n"
     ]
    },
    {
     "name": "stdout",
     "output_type": "stream",
     "text": [
      "epoch: 5, [batch: 6048 / 6720], examples_per_second: 4689.9324, train_label_loss: 0.6279, \n"
     ]
    },
    {
     "name": "stdout",
     "output_type": "stream",
     "text": [
      "=============================================================\n",
      "epoch: 5, source_val_acc_label: 0.7948, target_val_acc_label: 0.6072, source_val_label_loss: 0.5562, target_val_label_loss: 135.7412, \n",
      "=============================================================\n"
     ]
    },
    {
     "name": "stdout",
     "output_type": "stream",
     "text": [
      "New best\n"
     ]
    },
    {
     "name": "stdout",
     "output_type": "stream",
     "text": [
      "epoch: 6, [batch: 1 / 6720], examples_per_second: 4.0179, train_label_loss: 0.9435, \n"
     ]
    },
    {
     "name": "stdout",
     "output_type": "stream",
     "text": [
      "epoch: 6, [batch: 672 / 6720], examples_per_second: 3809.4188, train_label_loss: 0.2483, \n"
     ]
    },
    {
     "name": "stdout",
     "output_type": "stream",
     "text": [
      "epoch: 6, [batch: 1344 / 6720], examples_per_second: 3867.1515, train_label_loss: 0.5248, \n"
     ]
    },
    {
     "name": "stdout",
     "output_type": "stream",
     "text": [
      "epoch: 6, [batch: 2016 / 6720], examples_per_second: 3847.1282, train_label_loss: 0.5449, \n"
     ]
    },
    {
     "name": "stdout",
     "output_type": "stream",
     "text": [
      "epoch: 6, [batch: 2688 / 6720], examples_per_second: 3892.9720, train_label_loss: 0.4544, \n"
     ]
    },
    {
     "name": "stdout",
     "output_type": "stream",
     "text": [
      "epoch: 6, [batch: 3360 / 6720], examples_per_second: 3895.3548, train_label_loss: 0.6453, \n"
     ]
    },
    {
     "name": "stdout",
     "output_type": "stream",
     "text": [
      "epoch: 6, [batch: 4032 / 6720], examples_per_second: 3921.9396, train_label_loss: 0.5985, \n"
     ]
    },
    {
     "name": "stdout",
     "output_type": "stream",
     "text": [
      "epoch: 6, [batch: 4704 / 6720], examples_per_second: 3968.2421, train_label_loss: 0.7068, \n"
     ]
    },
    {
     "name": "stdout",
     "output_type": "stream",
     "text": [
      "epoch: 6, [batch: 5376 / 6720], examples_per_second: 4264.8286, train_label_loss: 0.1444, \n"
     ]
    },
    {
     "name": "stdout",
     "output_type": "stream",
     "text": [
      "epoch: 6, [batch: 6048 / 6720], examples_per_second: 4430.8705, train_label_loss: 0.8976, \n"
     ]
    },
    {
     "name": "stdout",
     "output_type": "stream",
     "text": [
      "=============================================================\n",
      "epoch: 6, source_val_acc_label: 0.7862, target_val_acc_label: 0.6223, source_val_label_loss: 0.5794, target_val_label_loss: 132.6338, \n",
      "=============================================================\n"
     ]
    },
    {
     "name": "stdout",
     "output_type": "stream",
     "text": [
      "New best\n"
     ]
    },
    {
     "name": "stdout",
     "output_type": "stream",
     "text": [
      "epoch: 7, [batch: 1 / 6720], examples_per_second: 4.0359, train_label_loss: 0.3771, \n"
     ]
    },
    {
     "name": "stdout",
     "output_type": "stream",
     "text": [
      "epoch: 7, [batch: 672 / 6720], examples_per_second: 3786.6246, train_label_loss: 0.4513, \n"
     ]
    },
    {
     "name": "stdout",
     "output_type": "stream",
     "text": [
      "epoch: 7, [batch: 1344 / 6720], examples_per_second: 3822.6639, train_label_loss: 0.9047, \n"
     ]
    },
    {
     "name": "stdout",
     "output_type": "stream",
     "text": [
      "epoch: 7, [batch: 2016 / 6720], examples_per_second: 3855.5722, train_label_loss: 0.3762, \n"
     ]
    },
    {
     "name": "stdout",
     "output_type": "stream",
     "text": [
      "epoch: 7, [batch: 2688 / 6720], examples_per_second: 3862.3619, train_label_loss: 0.4199, \n"
     ]
    },
    {
     "name": "stdout",
     "output_type": "stream",
     "text": [
      "epoch: 7, [batch: 3360 / 6720], examples_per_second: 3936.1190, train_label_loss: 0.5111, \n"
     ]
    },
    {
     "name": "stdout",
     "output_type": "stream",
     "text": [
      "epoch: 7, [batch: 4032 / 6720], examples_per_second: 4028.2996, train_label_loss: 0.6875, \n"
     ]
    },
    {
     "name": "stdout",
     "output_type": "stream",
     "text": [
      "epoch: 7, [batch: 4704 / 6720], examples_per_second: 4225.8472, train_label_loss: 0.6039, \n"
     ]
    },
    {
     "name": "stdout",
     "output_type": "stream",
     "text": [
      "epoch: 7, [batch: 5376 / 6720], examples_per_second: 4635.6886, train_label_loss: 0.4510, \n"
     ]
    },
    {
     "name": "stdout",
     "output_type": "stream",
     "text": [
      "epoch: 7, [batch: 6048 / 6720], examples_per_second: 4524.3675, train_label_loss: 0.2467, \n"
     ]
    },
    {
     "name": "stdout",
     "output_type": "stream",
     "text": [
      "=============================================================\n",
      "epoch: 7, source_val_acc_label: 0.8173, target_val_acc_label: 0.5944, source_val_label_loss: 0.4996, target_val_label_loss: 148.7205, \n",
      "=============================================================\n"
     ]
    },
    {
     "name": "stdout",
     "output_type": "stream",
     "text": [
      "epoch: 8, [batch: 1 / 6720], examples_per_second: 3.9567, train_label_loss: 0.8499, \n"
     ]
    },
    {
     "name": "stdout",
     "output_type": "stream",
     "text": [
      "epoch: 8, [batch: 672 / 6720], examples_per_second: 3826.3822, train_label_loss: 0.4798, \n"
     ]
    },
    {
     "name": "stdout",
     "output_type": "stream",
     "text": [
      "epoch: 8, [batch: 1344 / 6720], examples_per_second: 3859.8955, train_label_loss: 0.3268, \n"
     ]
    },
    {
     "name": "stdout",
     "output_type": "stream",
     "text": [
      "epoch: 8, [batch: 2016 / 6720], examples_per_second: 3847.3919, train_label_loss: 0.7222, \n"
     ]
    },
    {
     "name": "stdout",
     "output_type": "stream",
     "text": [
      "epoch: 8, [batch: 2688 / 6720], examples_per_second: 3873.8457, train_label_loss: 0.4259, \n"
     ]
    },
    {
     "name": "stdout",
     "output_type": "stream",
     "text": [
      "epoch: 8, [batch: 3360 / 6720], examples_per_second: 4021.6219, train_label_loss: 0.2614, \n"
     ]
    },
    {
     "name": "stdout",
     "output_type": "stream",
     "text": [
      "epoch: 8, [batch: 4032 / 6720], examples_per_second: 3935.0569, train_label_loss: 0.7844, \n"
     ]
    },
    {
     "name": "stdout",
     "output_type": "stream",
     "text": [
      "epoch: 8, [batch: 4704 / 6720], examples_per_second: 4129.4177, train_label_loss: 0.2672, \n"
     ]
    },
    {
     "name": "stdout",
     "output_type": "stream",
     "text": [
      "epoch: 8, [batch: 5376 / 6720], examples_per_second: 4330.4582, train_label_loss: 0.3986, \n"
     ]
    },
    {
     "name": "stdout",
     "output_type": "stream",
     "text": [
      "epoch: 8, [batch: 6048 / 6720], examples_per_second: 4668.3521, train_label_loss: 0.4177, \n"
     ]
    },
    {
     "name": "stdout",
     "output_type": "stream",
     "text": [
      "=============================================================\n",
      "epoch: 8, source_val_acc_label: 0.8232, target_val_acc_label: 0.6192, source_val_label_loss: 0.4799, target_val_label_loss: 129.3269, \n",
      "=============================================================\n"
     ]
    },
    {
     "name": "stdout",
     "output_type": "stream",
     "text": [
      "epoch: 9, [batch: 1 / 6720], examples_per_second: 4.0392, train_label_loss: 0.1949, \n"
     ]
    },
    {
     "name": "stdout",
     "output_type": "stream",
     "text": [
      "epoch: 9, [batch: 672 / 6720], examples_per_second: 3799.3721, train_label_loss: 0.4467, \n"
     ]
    },
    {
     "name": "stdout",
     "output_type": "stream",
     "text": [
      "epoch: 9, [batch: 1344 / 6720], examples_per_second: 3774.5915, train_label_loss: 0.4271, \n"
     ]
    },
    {
     "name": "stdout",
     "output_type": "stream",
     "text": [
      "epoch: 9, [batch: 2016 / 6720], examples_per_second: 3792.1873, train_label_loss: 0.5334, \n"
     ]
    },
    {
     "name": "stdout",
     "output_type": "stream",
     "text": [
      "epoch: 9, [batch: 2688 / 6720], examples_per_second: 3815.6519, train_label_loss: 0.2750, \n"
     ]
    },
    {
     "name": "stdout",
     "output_type": "stream",
     "text": [
      "epoch: 9, [batch: 3360 / 6720], examples_per_second: 3813.4384, train_label_loss: 0.2743, \n"
     ]
    },
    {
     "name": "stdout",
     "output_type": "stream",
     "text": [
      "epoch: 9, [batch: 4032 / 6720], examples_per_second: 3798.2602, train_label_loss: 0.2355, \n"
     ]
    },
    {
     "name": "stdout",
     "output_type": "stream",
     "text": [
      "epoch: 9, [batch: 4704 / 6720], examples_per_second: 3902.2255, train_label_loss: 0.3388, \n"
     ]
    },
    {
     "name": "stdout",
     "output_type": "stream",
     "text": [
      "epoch: 9, [batch: 5376 / 6720], examples_per_second: 4447.6035, train_label_loss: 0.3225, \n"
     ]
    },
    {
     "name": "stdout",
     "output_type": "stream",
     "text": [
      "epoch: 9, [batch: 6048 / 6720], examples_per_second: 4823.0460, train_label_loss: 0.4279, \n"
     ]
    },
    {
     "name": "stdout",
     "output_type": "stream",
     "text": [
      "=============================================================\n",
      "epoch: 9, source_val_acc_label: 0.8356, target_val_acc_label: 0.5833, source_val_label_loss: 0.4479, target_val_label_loss: 190.7432, \n",
      "=============================================================\n"
     ]
    },
    {
     "name": "stdout",
     "output_type": "stream",
     "text": [
      "epoch: 10, [batch: 1 / 6720], examples_per_second: 4.0520, train_label_loss: 0.2981, \n"
     ]
    },
    {
     "name": "stdout",
     "output_type": "stream",
     "text": [
      "epoch: 10, [batch: 672 / 6720], examples_per_second: 3957.4999, train_label_loss: 0.2289, \n"
     ]
    },
    {
     "name": "stdout",
     "output_type": "stream",
     "text": [
      "epoch: 10, [batch: 1344 / 6720], examples_per_second: 3929.6391, train_label_loss: 0.3887, \n"
     ]
    },
    {
     "name": "stdout",
     "output_type": "stream",
     "text": [
      "epoch: 10, [batch: 2016 / 6720], examples_per_second: 3895.7546, train_label_loss: 0.2371, \n"
     ]
    },
    {
     "name": "stdout",
     "output_type": "stream",
     "text": [
      "epoch: 10, [batch: 2688 / 6720], examples_per_second: 3784.1750, train_label_loss: 0.5124, \n"
     ]
    },
    {
     "name": "stdout",
     "output_type": "stream",
     "text": [
      "epoch: 10, [batch: 3360 / 6720], examples_per_second: 3866.6348, train_label_loss: 0.2022, \n"
     ]
    },
    {
     "name": "stdout",
     "output_type": "stream",
     "text": [
      "epoch: 10, [batch: 4032 / 6720], examples_per_second: 3899.5177, train_label_loss: 0.2485, \n"
     ]
    },
    {
     "name": "stdout",
     "output_type": "stream",
     "text": [
      "epoch: 10, [batch: 4704 / 6720], examples_per_second: 4013.5066, train_label_loss: 0.3191, \n"
     ]
    },
    {
     "name": "stdout",
     "output_type": "stream",
     "text": [
      "epoch: 10, [batch: 5376 / 6720], examples_per_second: 4276.1689, train_label_loss: 0.2504, \n"
     ]
    },
    {
     "name": "stdout",
     "output_type": "stream",
     "text": [
      "epoch: 10, [batch: 6048 / 6720], examples_per_second: 4522.2641, train_label_loss: 0.5040, \n"
     ]
    },
    {
     "name": "stdout",
     "output_type": "stream",
     "text": [
      "=============================================================\n",
      "epoch: 10, source_val_acc_label: 0.8289, target_val_acc_label: 0.5559, source_val_label_loss: 0.4669, target_val_label_loss: 213.3946, \n",
      "=============================================================\n"
     ]
    },
    {
     "name": "stdout",
     "output_type": "stream",
     "text": [
      "Patience (3) exhausted\n"
     ]
    }
   ],
   "source": [
    "###################################\n",
    "# train\n",
    "###################################\n",
    "jig = PTN_Train_Eval_Test_Jig(model, p.BEST_MODEL_PATH, p.device)\n",
    "\n",
    "jig.train(\n",
    "    train_iterable=datasets.source.processed.train,\n",
    "    source_val_iterable=datasets.source.processed.val,\n",
    "    target_val_iterable=datasets.target.processed.val,\n",
    "    num_epochs=p.n_epoch,\n",
    "    num_logs_per_epoch=p.NUM_LOGS_PER_EPOCH,\n",
    "    patience=p.patience,\n",
    "    optimizer=optimizer,\n",
    "    criteria_for_best=p.criteria_for_best,\n",
    ")"
   ]
  },
  {
   "cell_type": "code",
   "execution_count": 23,
   "id": "31e8fabf",
   "metadata": {
    "execution": {
     "iopub.execute_input": "2022-03-28T06:25:31.597923Z",
     "iopub.status.busy": "2022-03-28T06:25:31.597368Z",
     "iopub.status.idle": "2022-03-28T06:25:31.628769Z",
     "shell.execute_reply": "2022-03-28T06:25:31.628251Z"
    },
    "papermill": {
     "duration": 0.100789,
     "end_time": "2022-03-28T06:25:31.628903",
     "exception": false,
     "start_time": "2022-03-28T06:25:31.528114",
     "status": "completed"
    },
    "tags": []
   },
   "outputs": [],
   "source": [
    "total_experiment_time_secs = time.time() - start_time_secs"
   ]
  },
  {
   "cell_type": "code",
   "execution_count": 24,
   "id": "87b9595b",
   "metadata": {
    "execution": {
     "iopub.execute_input": "2022-03-28T06:25:31.765694Z",
     "iopub.status.busy": "2022-03-28T06:25:31.761818Z",
     "iopub.status.idle": "2022-03-28T06:28:18.828771Z",
     "shell.execute_reply": "2022-03-28T06:28:18.827873Z"
    },
    "papermill": {
     "duration": 167.135139,
     "end_time": "2022-03-28T06:28:18.828952",
     "exception": false,
     "start_time": "2022-03-28T06:25:31.693813",
     "status": "completed"
    },
    "tags": []
   },
   "outputs": [],
   "source": [
    "###################################\n",
    "# Evaluate the model\n",
    "###################################\n",
    "source_test_label_accuracy, source_test_label_loss = jig.test(datasets.source.processed.test)\n",
    "target_test_label_accuracy, target_test_label_loss = jig.test(datasets.target.processed.test)\n",
    "\n",
    "source_val_label_accuracy, source_val_label_loss = jig.test(datasets.source.processed.val)\n",
    "target_val_label_accuracy, target_val_label_loss = jig.test(datasets.target.processed.val)\n",
    "\n",
    "history = jig.get_history()\n",
    "\n",
    "total_epochs_trained = len(history[\"epoch_indices\"])\n",
    "\n",
    "val_dl = Iterable_Aggregator((datasets.source.original.val,datasets.target.original.val))\n",
    "\n",
    "confusion = ptn_confusion_by_domain_over_dataloader(model, p.device, val_dl)\n",
    "per_domain_accuracy = per_domain_accuracy_from_confusion(confusion)\n",
    "\n",
    "# Add a key to per_domain_accuracy for if it was a source domain\n",
    "for domain, accuracy in per_domain_accuracy.items():\n",
    "    per_domain_accuracy[domain] = {\n",
    "        \"accuracy\": accuracy,\n",
    "        \"source?\": domain in p.domains_source\n",
    "    }\n",
    "\n",
    "# Do an independent accuracy assesment JUST TO BE SURE!\n",
    "# _source_test_label_accuracy = independent_accuracy_assesment(model, datasets.source.processed.test, p.device)\n",
    "# _target_test_label_accuracy = independent_accuracy_assesment(model, datasets.target.processed.test, p.device)\n",
    "# _source_val_label_accuracy = independent_accuracy_assesment(model, datasets.source.processed.val, p.device)\n",
    "# _target_val_label_accuracy = independent_accuracy_assesment(model, datasets.target.processed.val, p.device)\n",
    "\n",
    "# assert(_source_test_label_accuracy == source_test_label_accuracy)\n",
    "# assert(_target_test_label_accuracy == target_test_label_accuracy)\n",
    "# assert(_source_val_label_accuracy == source_val_label_accuracy)\n",
    "# assert(_target_val_label_accuracy == target_val_label_accuracy)\n",
    "\n",
    "experiment = {\n",
    "    \"experiment_name\": p.experiment_name,\n",
    "    \"parameters\": dict(p),\n",
    "    \"results\": {\n",
    "        \"source_test_label_accuracy\": source_test_label_accuracy,\n",
    "        \"source_test_label_loss\": source_test_label_loss,\n",
    "        \"target_test_label_accuracy\": target_test_label_accuracy,\n",
    "        \"target_test_label_loss\": target_test_label_loss,\n",
    "        \"source_val_label_accuracy\": source_val_label_accuracy,\n",
    "        \"source_val_label_loss\": source_val_label_loss,\n",
    "        \"target_val_label_accuracy\": target_val_label_accuracy,\n",
    "        \"target_val_label_loss\": target_val_label_loss,\n",
    "        \"total_epochs_trained\": total_epochs_trained,\n",
    "        \"total_experiment_time_secs\": total_experiment_time_secs,\n",
    "        \"confusion\": confusion,\n",
    "        \"per_domain_accuracy\": per_domain_accuracy,\n",
    "    },\n",
    "    \"history\": history,\n",
    "    \"dataset_metrics\": get_dataset_metrics(datasets, \"ptn\"),\n",
    "}"
   ]
  },
  {
   "cell_type": "code",
   "execution_count": 25,
   "id": "54a21829",
   "metadata": {
    "execution": {
     "iopub.execute_input": "2022-03-28T06:28:18.948453Z",
     "iopub.status.busy": "2022-03-28T06:28:18.947809Z",
     "iopub.status.idle": "2022-03-28T06:28:19.160101Z",
     "shell.execute_reply": "2022-03-28T06:28:19.160792Z"
    },
    "papermill": {
     "duration": 0.27248,
     "end_time": "2022-03-28T06:28:19.160988",
     "exception": false,
     "start_time": "2022-03-28T06:28:18.888508",
     "status": "completed"
    },
    "tags": []
   },
   "outputs": [
    {
     "data": {
      "image/png": "[encoded data removed]",
      "text/plain": [
       "<Figure size 1080x504 with 1 Axes>"
      ]
     },
     "metadata": {
      "needs_background": "light"
     },
     "output_type": "display_data"
    }
   ],
   "source": [
    "ax = get_loss_curve(experiment)\n",
    "plt.show()"
   ]
  },
  {
   "cell_type": "code",
   "execution_count": 26,
   "id": "fd8a0f60",
   "metadata": {
    "execution": {
     "iopub.execute_input": "2022-03-28T06:28:19.281361Z",
     "iopub.status.busy": "2022-03-28T06:28:19.280800Z",
     "iopub.status.idle": "2022-03-28T06:28:19.613857Z",
     "shell.execute_reply": "2022-03-28T06:28:19.613472Z"
    },
    "papermill": {
     "duration": 0.393312,
     "end_time": "2022-03-28T06:28:19.613936",
     "exception": false,
     "start_time": "2022-03-28T06:28:19.220624",
     "status": "completed"
    },
    "tags": []
   },
   "outputs": [
    {
     "data": {
      "text/plain": [
       "<AxesSubplot:title={'center':'Results'}>"
      ]
     },
     "execution_count": 26,
     "metadata": {},
     "output_type": "execute_result"
    },
    {
     "data": {
      "image/png": "[encoded data removed]",
      "text/plain": [
       "<Figure size 1080x504 with 1 Axes>"
      ]
     },
     "metadata": {
      "needs_background": "light"
     },
     "output_type": "display_data"
    }
   ],
   "source": [
    "get_results_table(experiment)"
   ]
  },
  {
   "cell_type": "code",
   "execution_count": 27,
   "id": "cf8dc689",
   "metadata": {
    "execution": {
     "iopub.execute_input": "2022-03-28T06:28:19.732413Z",
     "iopub.status.busy": "2022-03-28T06:28:19.732047Z",
     "iopub.status.idle": "2022-03-28T06:28:19.969577Z",
     "shell.execute_reply": "2022-03-28T06:28:19.970260Z"
    },
    "papermill": {
     "duration": 0.298921,
     "end_time": "2022-03-28T06:28:19.970494",
     "exception": false,
     "start_time": "2022-03-28T06:28:19.671573",
     "status": "completed"
    },
    "tags": []
   },
   "outputs": [
    {
     "data": {
      "text/plain": [
       "<AxesSubplot:title={'center':'Per Domain Validation Accuracy'}, xlabel='domain'>"
      ]
     },
     "execution_count": 27,
     "metadata": {},
     "output_type": "execute_result"
    },
    {
     "data": {
      "image/png": "[encoded data removed]",
      "text/plain": [
       "<Figure size 1080x504 with 1 Axes>"
      ]
     },
     "metadata": {
      "needs_background": "light"
     },
     "output_type": "display_data"
    }
   ],
   "source": [
    "get_domain_accuracies(experiment)"
   ]
  },
  {
   "cell_type": "code",
   "execution_count": 28,
   "id": "a74ae082",
   "metadata": {
    "execution": {
     "iopub.execute_input": "2022-03-28T06:28:20.090298Z",
     "iopub.status.busy": "2022-03-28T06:28:20.089743Z",
     "iopub.status.idle": "2022-03-28T06:28:20.115292Z",
     "shell.execute_reply": "2022-03-28T06:28:20.114502Z"
    },
    "papermill": {
     "duration": 0.085312,
     "end_time": "2022-03-28T06:28:20.115443",
     "exception": false,
     "start_time": "2022-03-28T06:28:20.030131",
     "status": "completed"
    },
    "tags": []
   },
   "outputs": [
    {
     "name": "stdout",
     "output_type": "stream",
     "text": [
      "Source Test Label Accuracy: 0.78671875 Target Test Label Accuracy: 0.6183988764044944\n",
      "Source Val Label Accuracy: 0.7861979166666667 Target Val Label Accuracy: 0.6222857142857143\n"
     ]
    }
   ],
   "source": [
    "print(\"Source Test Label Accuracy:\", experiment[\"results\"][\"source_test_label_accuracy\"], \"Target Test Label Accuracy:\", experiment[\"results\"][\"target_test_label_accuracy\"])\n",
    "print(\"Source Val Label Accuracy:\", experiment[\"results\"][\"source_val_label_accuracy\"], \"Target Val Label Accuracy:\", experiment[\"results\"][\"target_val_label_accuracy\"])"
   ]
  },
  {
   "cell_type": "code",
   "execution_count": 29,
   "id": "dacca602",
   "metadata": {
    "execution": {
     "iopub.execute_input": "2022-03-28T06:28:20.235286Z",
     "iopub.status.busy": "2022-03-28T06:28:20.234922Z",
     "iopub.status.idle": "2022-03-28T06:28:20.257392Z",
     "shell.execute_reply": "2022-03-28T06:28:20.258066Z"
    },
    "papermill": {
     "duration": 0.082555,
     "end_time": "2022-03-28T06:28:20.258243",
     "exception": false,
     "start_time": "2022-03-28T06:28:20.175688",
     "status": "completed"
    },
    "tags": [
     "experiment_json"
    ]
   },
   "outputs": [
    {
     "data": {
      "text/plain": [
       "'{\"experiment_name\": \"tl_3-jitter1v2:oracle.run1.framed -> cores\", \"parameters\": {\"experiment_name\": \"tl_3-jitter1v2:oracle.run1.framed -> cores\", \"device\": \"cuda\", \"lr\": 0.0001, \"x_shape\": [2, 256], \"n_shot\": 3, \"n_query\": 2, \"train_k_factor\": 3, \"val_k_factor\": 2, \"test_k_factor\": 2, \"torch_default_dtype\": \"torch.float32\", \"n_epoch\": 50, \"patience\": 3, \"criteria_for_best\": \"target_accuracy\", \"x_net\": [{\"class\": \"nnReshape\", \"kargs\": {\"shape\": [-1, 1, 2, 256]}}, {\"class\": \"Conv2d\", \"kargs\": {\"in_channels\": 1, \"out_channels\": 256, \"kernel_size\": [1, 7], \"bias\": false, \"padding\": [0, 3]}}, {\"class\": \"ReLU\", \"kargs\": {\"inplace\": true}}, {\"class\": \"BatchNorm2d\", \"kargs\": {\"num_features\": 256}}, {\"class\": \"Conv2d\", \"kargs\": {\"in_channels\": 256, \"out_channels\": 80, \"kernel_size\": [2, 7], \"bias\": true, \"padding\": [0, 3]}}, {\"class\": \"ReLU\", \"kargs\": {\"inplace\": true}}, {\"class\": \"BatchNorm2d\", \"kargs\": {\"num_features\": 80}}, {\"class\": \"Flatten\", \"kargs\": {}}, {\"class\": \"Linear\", \"kargs\": {\"in_features\": 20480, \"out_features\": 256}}, {\"class\": \"ReLU\", \"kargs\": {\"inplace\": true}}, {\"class\": \"BatchNorm1d\", \"kargs\": {\"num_features\": 256}}, {\"class\": \"Linear\", \"kargs\": {\"in_features\": 256, \"out_features\": 256}}], \"NUM_LOGS_PER_EPOCH\": 10, \"BEST_MODEL_PATH\": \"./best_model.pth\", \"n_way\": 16, \"datasets\": [{\"labels\": [\"1-10.\", \"1-11.\", \"1-15.\", \"1-16.\", \"1-17.\", \"1-18.\", \"1-19.\", \"10-4.\", \"10-7.\", \"11-1.\", \"11-14.\", \"11-17.\", \"11-20.\", \"11-7.\", \"13-20.\", \"13-8.\", \"14-10.\", \"14-11.\", \"14-14.\", \"14-7.\", \"15-1.\", \"15-20.\", \"16-1.\", \"16-16.\", \"17-10.\", \"17-11.\", \"17-2.\", \"19-1.\", \"19-16.\", \"19-19.\", \"19-20.\", \"19-3.\", \"2-10.\", \"2-11.\", \"2-17.\", \"2-18.\", \"2-20.\", \"2-3.\", \"2-4.\", \"2-5.\", \"2-6.\", \"2-7.\", \"2-8.\", \"3-13.\", \"3-18.\", \"3-3.\", \"4-1.\", \"4-10.\", \"4-11.\", \"4-19.\", \"5-5.\", \"6-15.\", \"7-10.\", \"7-14.\", \"8-18.\", \"8-20.\", \"8-3.\", \"8-8.\"], \"domains\": [1, 2, 3, 4, 5], \"num_examples_per_domain_per_label\": -1, \"pickle_path\": \"/root/csc500-main/datasets/cores.stratified_ds.2022A.pkl\", \"source_or_target_dataset\": \"target\", \"x_transforms\": [\"unit_mag\", \"jitter_256_1\", \"lowpass_+/-10MHz\", \"take_200\"], \"episode_transforms\": [], \"domain_prefix\": \"C_\"}, {\"labels\": [\"3123D52\", \"3123D65\", \"3123D79\", \"3123D80\", \"3123D54\", \"3123D70\", \"3123D7B\", \"3123D89\", \"3123D58\", \"3123D76\", \"3123D7D\", \"3123EFE\", \"3123D64\", \"3123D78\", \"3123D7E\", \"3124E4A\"], \"domains\": [32, 38, 8, 44, 14, 50, 20, 26], \"num_examples_per_domain_per_label\": 2000, \"pickle_path\": \"/root/csc500-main/datasets/oracle.Run1_framed_2000Examples_stratified_ds.2022A.pkl\", \"source_or_target_dataset\": \"source\", \"x_transforms\": [\"unit_mag\", \"jitter_256_1\", \"take_200\", \"resample_20Msps_to_25Msps\"], \"episode_transforms\": [], \"domain_prefix\": \"O_\"}], \"seed\": 500, \"dataset_seed\": 500, \"domains_source\": [\"O_32\", \"O_38\", \"O_8\", \"O_44\", \"O_14\", \"O_50\", \"O_20\", \"O_26\"], \"domains_target\": [\"C_1\", \"C_2\", \"C_3\", \"C_4\", \"C_5\"]}, \"results\": {\"source_test_label_accuracy\": 0.78671875, \"source_test_label_loss\": 0.5828092098236084, \"target_test_label_accuracy\": 0.6183988764044944, \"target_test_label_loss\": 133.4569549560547, \"source_val_label_accuracy\": 0.7861979166666667, \"source_val_label_loss\": 0.5794394016265869, \"target_val_label_accuracy\": 0.6222857142857143, \"target_val_label_loss\": 132.63377380371094, \"total_epochs_trained\": 10, \"total_experiment_time_secs\": 1677.044847726822, \"confusion\": {\"O_50\": {\"7\": {\"7\": 203, \"5\": 16, \"10\": 2, \"13\": 14, \"6\": 5}, \"10\": {\"10\": 227, \"7\": 2, \"8\": 5, \"0\": 4, \"13\": 2}, \"0\": {\"0\": 199, \"10\": 14, \"2\": 22, \"13\": 4, \"6\": 1}, \"11\": {\"11\": 223, \"15\": 9, \"9\": 7, \"1\": 1}, \"2\": {\"2\": 226, \"0\": 13, \"1\": 1}, \"14\": {\"14\": 238, \"11\": 1, \"12\": 1}, \"9\": {\"9\": 220, \"12\": 10, \"11\": 10}, \"13\": {\"13\": 200, \"5\": 16, \"7\": 8, \"6\": 9, \"10\": 6, \"1\": 1}, \"8\": {\"8\": 236, \"3\": 2, \"10\": 2}, \"15\": {\"15\": 200, \"6\": 7, \"1\": 15, \"4\": 15, \"11\": 3}, \"4\": {\"4\": 140, \"5\": 41, \"15\": 26, \"1\": 14, \"13\": 3, \"7\": 9, \"6\": 7}, \"5\": {\"5\": 144, \"6\": 6, \"4\": 23, \"13\": 20, \"1\": 14, \"7\": 31, \"15\": 2}, \"3\": {\"3\": 239, \"8\": 1}, \"1\": {\"1\": 195, \"15\": 29, \"6\": 4, \"4\": 3, \"13\": 2, \"5\": 3, \"11\": 3, \"0\": 1}, \"6\": {\"6\": 212, \"4\": 5, \"7\": 3, \"15\": 2, \"13\": 12, \"1\": 1, \"5\": 4, \"10\": 1}, \"12\": {\"12\": 212, \"11\": 8, \"9\": 20}}, \"O_14\": {\"14\": {\"13\": 29, \"2\": 26, \"14\": 170, \"6\": 11, \"3\": 4}, \"6\": {\"6\": 163, \"13\": 63, \"2\": 8, \"14\": 6}, \"5\": {\"4\": 42, \"5\": 150, \"1\": 34, \"2\": 14}, \"15\": {\"15\": 239, \"7\": 1}, \"11\": {\"11\": 230, \"9\": 8, \"0\": 2}, \"8\": {\"8\": 240}, \"12\": {\"12\": 240}, \"1\": {\"1\": 207, \"5\": 23, \"4\": 10}, \"2\": {\"13\": 18, \"6\": 15, \"2\": 131, \"5\": 20, \"3\": 10, \"14\": 37, \"4\": 7, \"1\": 1, \"15\": 1}, \"13\": {\"13\": 79, \"6\": 81, \"14\": 57, \"2\": 16, \"5\": 3, \"3\": 3, \"4\": 1}, \"3\": {\"3\": 219, \"4\": 14, \"14\": 5, \"2\": 2}, \"0\": {\"0\": 228, \"3\": 1, \"11\": 3, \"10\": 7, \"14\": 1}, \"9\": {\"9\": 239, \"11\": 1}, \"4\": {\"4\": 196, \"5\": 30, \"13\": 2, \"3\": 4, \"2\": 3, \"1\": 5}, \"7\": {\"7\": 239, \"15\": 1}, \"10\": {\"10\": 238, \"0\": 2}}, \"O_32\": {\"4\": {\"4\": 167, \"2\": 46, \"13\": 6, \"7\": 16, \"5\": 3, \"0\": 2}, \"14\": {\"7\": 20, \"14\": 142, \"11\": 37, \"8\": 9, \"0\": 16, \"3\": 7, \"5\": 6, \"13\": 3}, \"5\": {\"5\": 106, \"7\": 66, \"0\": 6, \"3\": 11, \"4\": 13, \"13\": 22, \"14\": 8, \"8\": 7, \"2\": 1}, \"10\": {\"10\": 239, \"1\": 1}, \"13\": {\"4\": 14, \"13\": 158, \"8\": 14, \"11\": 5, \"7\": 11, \"14\": 6, \"3\": 10, \"5\": 20, \"0\": 1, \"2\": 1}, \"9\": {\"9\": 240}, \"6\": {\"6\": 240}, \"3\": {\"3\": 224, \"13\": 7, \"11\": 3, \"5\": 4, \"14\": 2}, \"15\": {\"15\": 239, \"8\": 1}, \"7\": {\"7\": 149, \"5\": 41, \"14\": 16, \"4\": 17, \"11\": 3, \"2\": 7, \"0\": 1, \"13\": 6}, \"12\": {\"12\": 240}, \"8\": {\"8\": 191, \"14\": 3, \"13\": 8, \"0\": 23, \"3\": 3, \"5\": 9, \"7\": 3}, \"11\": {\"14\": 20, \"11\": 215, \"7\": 3, \"3\": 2}, \"2\": {\"2\": 171, \"4\": 55, \"5\": 1, \"0\": 5, \"7\": 8}, \"1\": {\"1\": 240}, \"0\": {\"0\": 193, \"5\": 4, \"13\": 2, \"8\": 22, \"14\": 12, \"7\": 6, \"4\": 1}}, \"O_44\": {\"8\": {\"0\": 82, \"8\": 134, \"5\": 14, \"15\": 10}, \"11\": {\"11\": 230, \"13\": 6, \"6\": 4}, \"14\": {\"14\": 162, \"4\": 65, \"15\": 11, \"5\": 2}, \"10\": {\"10\": 203, \"1\": 16, \"2\": 16, \"7\": 2, \"12\": 3}, \"3\": {\"3\": 221, \"1\": 15, \"12\": 4}, \"15\": {\"15\": 180, \"8\": 3, \"14\": 28, \"5\": 12, \"0\": 16, \"4\": 1}, \"2\": {\"1\": 12, \"7\": 23, \"2\": 190, \"10\": 13, \"3\": 1, \"9\": 1}, \"12\": {\"12\": 207, \"1\": 26, \"3\": 4, \"10\": 3}, \"4\": {\"4\": 158, \"14\": 79, \"15\": 3}, \"1\": {\"1\": 165, \"10\": 17, \"12\": 36, \"3\": 12, \"2\": 10}, \"0\": {\"0\": 150, \"15\": 14, \"8\": 59, \"5\": 17}, \"9\": {\"13\": 19, \"9\": 122, \"7\": 69, \"6\": 30}, \"5\": {\"5\": 193, \"14\": 10, \"0\": 19, \"15\": 12, \"8\": 5, \"4\": 1}, \"6\": {\"6\": 170, \"13\": 39, \"9\": 23, \"7\": 5, \"11\": 3}, \"7\": {\"7\": 143, \"9\": 47, \"2\": 40, \"13\": 2, \"6\": 6, \"3\": 1, \"1\": 1}, \"13\": {\"13\": 166, \"6\": 46, \"11\": 3, \"9\": 22, \"4\": 2, \"7\": 1}}, \"O_8\": {\"13\": {\"4\": 47, \"13\": 92, \"6\": 4, \"14\": 21, \"0\": 51, \"10\": 24, \"7\": 1}, \"3\": {\"3\": 233, \"2\": 5, \"12\": 2}, \"15\": {\"12\": 27, \"15\": 212, \"8\": 1}, \"4\": {\"4\": 167, \"6\": 7, \"13\": 48, \"14\": 16, \"0\": 2}, \"7\": {\"7\": 197, \"6\": 37, \"0\": 4, \"13\": 2}, \"2\": {\"2\": 217, \"12\": 1, \"3\": 18, \"7\": 3, \"15\": 1}, \"1\": {\"1\": 215, \"11\": 20, \"14\": 1, \"5\": 2, \"10\": 2}, \"0\": {\"7\": 3, \"13\": 27, \"0\": 198, \"6\": 5, \"4\": 6, \"14\": 1}, \"12\": {\"12\": 153, \"3\": 19, \"15\": 66, \"8\": 2}, \"6\": {\"7\": 36, \"6\": 180, \"13\": 6, \"4\": 15, \"0\": 3}, \"11\": {\"11\": 209, \"1\": 28, \"14\": 1, \"5\": 2}, \"9\": {\"9\": 240}, \"5\": {\"5\": 219, \"10\": 12, \"1\": 9}, \"10\": {\"10\": 173, \"14\": 50, \"13\": 12, \"4\": 4, \"5\": 1}, \"14\": {\"14\": 161, \"10\": 29, \"4\": 21, \"13\": 21, \"1\": 8}, \"8\": {\"8\": 234, \"15\": 5, \"6\": 1}}, \"O_20\": {\"6\": {\"6\": 213, \"14\": 25, \"8\": 1, \"7\": 1}, \"11\": {\"11\": 240}, \"5\": {\"5\": 144, \"1\": 23, \"0\": 46, \"15\": 8, \"12\": 16, \"4\": 2, \"3\": 1}, \"14\": {\"14\": 212, \"10\": 14, \"6\": 11, \"8\": 3}, \"2\": {\"2\": 119, \"13\": 10, \"9\": 66, \"12\": 7, \"7\": 28, \"3\": 8, \"1\": 1, \"4\": 1}, \"7\": {\"3\": 6, \"7\": 201, \"2\": 17, \"4\": 3, \"9\": 9, \"8\": 4}, \"3\": {\"3\": 119, \"12\": 37, \"2\": 18, \"9\": 38, \"4\": 15, \"8\": 1, \"5\": 2, \"7\": 4, \"1\": 6}, \"4\": {\"4\": 200, \"8\": 22, \"3\": 12, \"9\": 2, \"10\": 3, \"2\": 1}, \"9\": {\"2\": 58, \"9\": 129, \"13\": 2, \"3\": 38, \"12\": 9, \"7\": 4}, \"12\": {\"3\": 30, \"1\": 43, \"5\": 16, \"2\": 16, \"12\": 112, \"9\": 21, \"13\": 1, \"4\": 1}, \"0\": {\"5\": 41, \"15\": 41, \"0\": 153, \"13\": 2, \"12\": 1, \"1\": 2}, \"10\": {\"10\": 225, \"14\": 12, \"4\": 2, \"8\": 1}, \"8\": {\"8\": 210, \"7\": 9, \"4\": 16, \"14\": 4, \"3\": 1}, \"13\": {\"13\": 209, \"7\": 2, \"2\": 17, \"15\": 4, \"9\": 7, \"12\": 1}, \"1\": {\"12\": 38, \"1\": 157, \"5\": 28, \"15\": 11, \"13\": 1, \"3\": 2, \"9\": 2, \"2\": 1}, \"15\": {\"0\": 28, \"12\": 1, \"15\": 164, \"5\": 13, \"1\": 29, \"13\": 5}}, \"O_38\": {\"3\": {\"3\": 221, \"9\": 6, \"0\": 10, \"5\": 1, \"7\": 1, \"10\": 1}, \"8\": {\"8\": 172, \"7\": 17, \"0\": 4, \"5\": 32, \"15\": 11, \"13\": 1, \"10\": 3}, \"0\": {\"0\": 169, \"8\": 31, \"7\": 18, \"3\": 7, \"15\": 1, \"10\": 5, \"5\": 5, \"12\": 1, \"13\": 2, \"4\": 1}, \"2\": {\"14\": 21, \"2\": 218, \"13\": 1}, \"4\": {\"4\": 234, \"12\": 6}, \"7\": {\"7\": 198, \"5\": 25, \"0\": 9, \"8\": 7, \"10\": 1}, \"12\": {\"12\": 237, \"4\": 2, \"14\": 1}, \"6\": {\"6\": 231, \"9\": 7, \"5\": 1, \"8\": 1}, \"15\": {\"15\": 201, \"8\": 13, \"1\": 20, \"13\": 5, \"5\": 1}, \"11\": {\"11\": 236, \"3\": 1, \"4\": 2, \"0\": 1}, \"9\": {\"9\": 220, \"6\": 14, \"5\": 6}, \"14\": {\"11\": 1, \"14\": 220, \"2\": 16, \"12\": 1, \"10\": 1, \"4\": 1}, \"10\": {\"10\": 205, \"13\": 19, \"0\": 7, \"7\": 2, \"4\": 2, \"14\": 4, \"8\": 1}, \"5\": {\"5\": 127, \"8\": 56, \"7\": 31, \"9\": 7, \"15\": 11, \"6\": 3, \"13\": 1, \"0\": 3, \"10\": 1}, \"1\": {\"1\": 234, \"15\": 6}, \"13\": {\"10\": 16, \"13\": 211, \"15\": 7, \"2\": 4, \"0\": 2}}, \"O_26\": {\"5\": {\"5\": 183, \"13\": 23, \"2\": 13, \"7\": 5, \"15\": 9, \"9\": 5, \"8\": 2}, \"8\": {\"8\": 115, \"14\": 10, \"4\": 24, \"10\": 38, \"0\": 19, \"7\": 20, \"1\": 3, \"15\": 7, \"6\": 1, \"2\": 2, \"13\": 1}, \"4\": {\"4\": 126, \"10\": 13, \"0\": 23, \"14\": 31, \"7\": 8, \"8\": 20, \"1\": 18, \"3\": 1}, \"12\": {\"12\": 240}, \"6\": {\"6\": 200, \"0\": 4, \"10\": 13, \"15\": 7, \"9\": 15, \"13\": 1}, \"7\": {\"2\": 18, \"7\": 153, \"3\": 29, \"0\": 2, \"8\": 15, \"4\": 17, \"15\": 1, \"14\": 3, \"1\": 2}, \"10\": {\"10\": 111, \"15\": 3, \"0\": 66, \"8\": 29, \"4\": 9, \"14\": 11, \"1\": 3, \"6\": 8}, \"0\": {\"4\": 22, \"0\": 94, \"8\": 23, \"10\": 51, \"14\": 38, \"7\": 5, \"6\": 3, \"1\": 3, \"15\": 1}, \"15\": {\"15\": 112, \"9\": 78, \"6\": 11, \"8\": 11, \"7\": 3, \"13\": 8, \"5\": 7, \"10\": 6, \"2\": 3, \"0\": 1}, \"9\": {\"6\": 22, \"9\": 127, \"15\": 64, \"8\": 6, \"13\": 13, \"10\": 2, \"5\": 4, \"7\": 1, \"0\": 1}, \"11\": {\"11\": 240}, \"14\": {\"14\": 121, \"4\": 23, \"0\": 38, \"1\": 43, \"10\": 12, \"8\": 3}, \"2\": {\"2\": 99, \"3\": 75, \"5\": 19, \"13\": 4, \"7\": 25, \"8\": 6, \"15\": 7, \"9\": 4, \"4\": 1}, \"13\": {\"5\": 37, \"13\": 163, \"9\": 30, \"2\": 6, \"15\": 4}, \"3\": {\"3\": 170, \"2\": 54, \"7\": 15, \"1\": 1}, \"1\": {\"4\": 11, \"1\": 187, \"14\": 36, \"0\": 2, \"10\": 2, \"8\": 2}}, \"C_4\": {\"38\": {\"38\": 38, \"5\": 1, \"16\": 1}, \"3\": {\"3\": 48, \"18\": 4, \"34\": 3, \"50\": 1, \"42\": 1, \"26\": 1, \"21\": 1, \"13\": 1, \"30\": 4, \"48\": 6, \"36\": 1, \"27\": 7, \"8\": 7, \"54\": 11, \"6\": 9, \"4\": 1, \"23\": 2, \"47\": 2, \"20\": 3, \"5\": 1, \"53\": 1, \"46\": 3, \"55\": 1, \"57\": 2, \"51\": 1, \"35\": 1, \"9\": 1}, \"24\": {\"24\": 48, \"43\": 7, \"36\": 1}, \"49\": {\"49\": 12, \"43\": 1, \"7\": 1, \"32\": 1, \"5\": 3, \"46\": 1, \"52\": 1}, \"7\": {\"7\": 23, \"47\": 1}, \"17\": {\"17\": 30, \"54\": 3, \"25\": 3, \"34\": 2, \"12\": 6, \"30\": 4, \"33\": 6, \"8\": 4, \"9\": 1, \"27\": 3, \"48\": 4, \"4\": 1, \"21\": 4, \"18\": 2, \"3\": 2, \"20\": 1, \"52\": 1, \"36\": 2, \"45\": 1}, \"43\": {\"43\": 146, \"15\": 1, \"11\": 1}, \"30\": {\"30\": 36, \"20\": 3, \"54\": 1, \"12\": 1, \"27\": 1, \"3\": 1, \"42\": 1}, \"44\": {\"44\": 76, \"19\": 21, \"45\": 6, \"40\": 3, \"29\": 15, \"50\": 3, \"4\": 4, \"55\": 1, \"53\": 1, \"3\": 1, \"35\": 1}, \"23\": {\"23\": 144}, \"37\": {\"37\": 18, \"31\": 2, \"28\": 1, \"33\": 1, \"25\": 1, \"51\": 1}, \"4\": {\"4\": 35, \"30\": 3, \"41\": 1, \"45\": 4, \"29\": 13, \"3\": 7, \"55\": 10, \"56\": 10, \"36\": 4, \"51\": 1, \"8\": 8, \"9\": 1, \"50\": 6, \"6\": 3, \"44\": 2, \"18\": 2, \"16\": 2, \"20\": 1, \"19\": 2, \"54\": 6, \"25\": 2, \"21\": 2, \"48\": 3, \"26\": 1, \"57\": 1, \"35\": 2}, \"57\": {\"20\": 8, \"38\": 2, \"57\": 39, \"36\": 8, \"39\": 3, \"47\": 17, \"43\": 3, \"12\": 1, \"18\": 1, \"46\": 1, \"48\": 1, \"5\": 3, \"55\": 1, \"8\": 1, \"29\": 1, \"1\": 4, \"42\": 2, \"16\": 2, \"56\": 2}, \"16\": {\"16\": 70, \"5\": 7, \"22\": 1, \"41\": 1, \"11\": 4, \"43\": 6, \"52\": 3, \"15\": 1, \"23\": 2, \"50\": 1}, \"18\": {\"18\": 88, \"23\": 14, \"47\": 4, \"27\": 1, \"3\": 1}, \"20\": {\"20\": 122, \"8\": 1, \"18\": 1}, \"45\": {\"56\": 9, \"19\": 6, \"45\": 28, \"4\": 12, \"50\": 6, \"21\": 3, \"17\": 2, \"44\": 4, \"55\": 6, \"40\": 2, \"54\": 1, \"25\": 3, \"29\": 3, \"9\": 2, \"27\": 2, \"3\": 2, \"48\": 1, \"35\": 2, \"13\": 1, \"18\": 1}, \"15\": {\"15\": 117, \"52\": 1, \"12\": 2, \"11\": 7, \"43\": 3, \"27\": 1, \"46\": 1}, \"52\": {\"52\": 113, \"41\": 1, \"5\": 1, \"23\": 1}, \"19\": {\"40\": 6, \"50\": 5, \"19\": 84, \"21\": 4, \"29\": 7, \"9\": 7, \"44\": 14, \"25\": 3, \"45\": 4, \"55\": 1, \"14\": 1, \"4\": 4}, \"54\": {\"54\": 104, \"47\": 4}, \"56\": {\"56\": 49, \"38\": 2, \"14\": 1, \"49\": 1, \"7\": 1, \"22\": 5, \"47\": 5, \"1\": 5, \"50\": 1, \"54\": 7, \"29\": 7, \"57\": 2, \"4\": 5, \"46\": 15, \"55\": 6, \"48\": 9, \"10\": 1, \"0\": 3, \"5\": 2, \"43\": 1, \"6\": 1, \"16\": 1}, \"40\": {\"40\": 84, \"37\": 1, \"29\": 6, \"44\": 16, \"19\": 19, \"51\": 2, \"45\": 1, \"17\": 1, \"4\": 1, \"9\": 2, \"3\": 1}, \"28\": {\"54\": 2, \"9\": 2, \"30\": 2, \"27\": 3, \"17\": 2, \"28\": 8, \"26\": 2, \"8\": 3, \"34\": 3, \"33\": 1, \"2\": 1, \"42\": 1, \"48\": 1, \"25\": 1}, \"2\": {\"2\": 36}, \"9\": {\"17\": 3, \"28\": 1, \"9\": 28, \"23\": 5, \"18\": 5, \"3\": 5, \"8\": 13, \"30\": 9, \"33\": 1, \"21\": 5, \"40\": 1, \"19\": 3, \"54\": 2, \"50\": 3, \"27\": 9, \"4\": 2, \"20\": 5, \"36\": 1, \"48\": 4, \"57\": 2, \"15\": 1, \"53\": 1, \"25\": 2, \"45\": 4, \"31\": 1, \"12\": 1, \"6\": 1, \"47\": 1, \"13\": 1}, \"0\": {\"0\": 69, \"38\": 2, \"49\": 1, \"46\": 3, \"43\": 1, \"11\": 1, \"32\": 2, \"22\": 1}, \"36\": {\"20\": 4, \"36\": 57, \"39\": 1, \"3\": 4, \"26\": 1, \"48\": 1, \"30\": 4, \"5\": 2, \"54\": 1, \"8\": 6, \"12\": 1, \"18\": 3, \"47\": 2, \"6\": 3, \"50\": 2}, \"55\": {\"54\": 13, \"52\": 1, \"6\": 9, \"55\": 33, \"26\": 1, \"3\": 8, \"35\": 1, \"5\": 8, \"48\": 6, \"9\": 2, \"4\": 1, \"18\": 3, \"23\": 10, \"47\": 2, \"50\": 2, \"46\": 3, \"8\": 4, \"27\": 4, \"56\": 4, \"19\": 2, \"29\": 3, \"34\": 2, \"24\": 2, \"14\": 1, \"38\": 2, \"36\": 1, \"43\": 1, \"44\": 1}, \"35\": {\"54\": 6, \"35\": 11, \"1\": 2, \"56\": 1, \"50\": 3, \"55\": 2, \"3\": 3, \"6\": 1, \"57\": 1, \"8\": 2, \"48\": 6, \"47\": 1, \"27\": 1}, \"39\": {\"39\": 20}, \"31\": {\"31\": 20, \"50\": 1, \"4\": 2, \"33\": 1, \"12\": 1, \"37\": 1, \"41\": 1, \"17\": 1}, \"14\": {\"38\": 3, \"44\": 2, \"14\": 5, \"45\": 1, \"24\": 2, \"22\": 1, \"26\": 1, \"56\": 1}, \"12\": {\"6\": 4, \"12\": 40, \"8\": 10, \"36\": 8, \"48\": 6, \"3\": 9, \"30\": 2, \"34\": 1, \"54\": 1, \"17\": 1, \"27\": 1, \"13\": 1, \"23\": 1, \"26\": 2, \"55\": 1, \"50\": 1, \"47\": 2, \"20\": 1}, \"6\": {\"6\": 52, \"54\": 8, \"36\": 3, \"3\": 8, \"56\": 1, \"30\": 2, \"16\": 1, \"47\": 10, \"34\": 2, \"39\": 2, \"18\": 2, \"20\": 1, \"5\": 2, \"48\": 2, \"22\": 1, \"43\": 1, \"23\": 3, \"53\": 1, \"55\": 2, \"8\": 1, \"12\": 1, \"46\": 6}, \"26\": {\"34\": 1, \"26\": 12, \"3\": 3, \"36\": 1, \"8\": 1, \"33\": 1, \"55\": 1, \"30\": 2, \"42\": 1, \"50\": 1}, \"50\": {\"26\": 2, \"4\": 3, \"42\": 2, \"48\": 12, \"50\": 23, \"56\": 3, \"8\": 14, \"34\": 4, \"12\": 3, \"35\": 3, \"30\": 3, \"55\": 4, \"27\": 8, \"36\": 6, \"54\": 7, \"5\": 2, \"51\": 1, \"6\": 9, \"57\": 3, \"3\": 11, \"20\": 1, \"53\": 1, \"21\": 1, \"23\": 1, \"18\": 1, \"22\": 1, \"10\": 1, \"13\": 1, \"25\": 1}, \"21\": {\"21\": 78, \"25\": 13, \"12\": 3, \"33\": 1, \"17\": 5, \"10\": 1, \"9\": 4, \"13\": 3, \"45\": 2, \"3\": 2, \"54\": 1, \"53\": 1, \"27\": 4, \"2\": 1, \"1\": 1, \"43\": 1, \"56\": 1}, \"46\": {\"5\": 6, \"46\": 81, \"52\": 9, \"0\": 10, \"43\": 7, \"54\": 2, \"6\": 2, \"48\": 1, \"11\": 3, \"23\": 2, \"47\": 2, \"15\": 4, \"14\": 1, \"32\": 3, \"2\": 1, \"38\": 2, \"1\": 1, \"24\": 1, \"57\": 1, \"56\": 1}, \"51\": {\"41\": 1, \"51\": 52, \"35\": 2, \"36\": 5, \"8\": 2, \"37\": 3, \"47\": 2, \"18\": 3, \"5\": 3, \"4\": 2, \"50\": 4, \"53\": 16, \"13\": 2, \"20\": 10, \"56\": 3, \"57\": 11, \"23\": 1, \"21\": 4, \"48\": 2, \"25\": 4, \"3\": 3, \"28\": 1, \"9\": 1, \"45\": 1, \"44\": 1, \"27\": 1}, \"41\": {\"41\": 32, \"5\": 4}, \"34\": {\"34\": 24}, \"47\": {\"47\": 112, \"23\": 2, \"1\": 2, \"5\": 3, \"43\": 1}, \"5\": {\"41\": 3, \"7\": 1, \"15\": 2, \"5\": 53, \"16\": 11, \"24\": 1, \"52\": 8, \"3\": 5, \"54\": 4, \"43\": 4, \"6\": 3, \"47\": 4, \"8\": 1, \"23\": 2, \"20\": 2, \"49\": 1, \"18\": 1, \"11\": 1, \"42\": 1}, \"1\": {\"1\": 33, \"43\": 1, \"47\": 3, \"46\": 3}, \"48\": {\"42\": 3, \"48\": 68, \"8\": 11, \"14\": 1, \"54\": 19, \"47\": 4, \"38\": 1, \"52\": 1, \"27\": 5, \"20\": 4, \"6\": 2, \"50\": 1, \"57\": 3, \"23\": 2, \"5\": 2, \"30\": 4, \"28\": 1, \"3\": 1, \"19\": 1}, \"29\": {\"29\": 62, \"35\": 5, \"24\": 1, \"1\": 2, \"56\": 12, \"22\": 1, \"15\": 1, \"13\": 1, \"19\": 3, \"57\": 10, \"3\": 1, \"55\": 2, \"47\": 1, \"9\": 1, \"4\": 5, \"17\": 1, \"44\": 3, \"23\": 1, \"27\": 1, \"48\": 1, \"21\": 1, \"6\": 1, \"50\": 1}, \"22\": {\"22\": 118, \"49\": 1, \"10\": 5, \"24\": 2, \"38\": 1, \"11\": 1}, \"10\": {\"10\": 123, \"22\": 3, \"2\": 1, \"11\": 3, \"43\": 1, \"56\": 1}, \"32\": {\"32\": 18, \"49\": 1, \"24\": 1, \"22\": 1, \"0\": 1, \"38\": 1, \"43\": 1}, \"13\": {\"41\": 2, \"13\": 33, \"5\": 5, \"24\": 4, \"3\": 4, \"2\": 1, \"22\": 8, \"23\": 5, \"9\": 3, \"51\": 1, \"43\": 11, \"52\": 10, \"57\": 1, \"15\": 4, \"46\": 5, \"4\": 2, \"37\": 2, \"10\": 5, \"45\": 1, \"35\": 2, \"6\": 1, \"48\": 1, \"53\": 1}, \"42\": {\"42\": 30, \"23\": 2}, \"27\": {\"26\": 1, \"27\": 51, \"8\": 37, \"28\": 3, \"3\": 2, \"1\": 2, \"48\": 5, \"9\": 3, \"12\": 3, \"21\": 3, \"36\": 3, \"23\": 5, \"15\": 1, \"53\": 1, \"10\": 1, \"25\": 3, \"33\": 1, \"54\": 3, \"31\": 1, \"35\": 1, \"50\": 1, \"4\": 1, \"43\": 2, \"6\": 1, \"47\": 1, \"18\": 2}, \"8\": {\"8\": 136, \"30\": 3, \"23\": 1, \"27\": 2}, \"33\": {\"9\": 2, \"27\": 2, \"32\": 1, \"14\": 1, \"28\": 2, \"33\": 10, \"31\": 2, \"8\": 2, \"12\": 2, \"1\": 1, \"56\": 2, \"21\": 3, \"17\": 1, \"20\": 1, \"57\": 1, \"37\": 1, \"55\": 1, \"54\": 1}, \"25\": {\"28\": 1, \"17\": 10, \"27\": 13, \"21\": 25, \"25\": 61, \"12\": 1, \"50\": 2, \"3\": 1, \"10\": 4, \"53\": 3, \"51\": 2, \"55\": 1, \"13\": 1, \"41\": 1, \"9\": 2, \"15\": 1, \"11\": 2, \"48\": 1}, \"11\": {\"11\": 78, \"43\": 8, \"15\": 11, \"54\": 1, \"16\": 1, \"52\": 2, \"0\": 2, \"5\": 1}, \"53\": {\"50\": 7, \"53\": 58, \"8\": 2, \"6\": 1, \"56\": 7, \"55\": 2, \"51\": 18, \"29\": 1, \"57\": 3, \"45\": 1, \"23\": 1, \"27\": 2, \"25\": 2, \"13\": 1, \"48\": 2, \"4\": 1, \"9\": 2, \"3\": 1}}, \"C_2\": {\"32\": {\"2\": 1, \"32\": 13, \"50\": 4, \"49\": 2, \"57\": 2, \"30\": 2, \"18\": 1, \"36\": 1, \"12\": 1, \"26\": 1}, \"17\": {\"17\": 42, \"50\": 8, \"49\": 2, \"25\": 6, \"2\": 2, \"8\": 6, \"48\": 7, \"34\": 2, \"20\": 3, \"56\": 1, \"6\": 4, \"27\": 2, \"1\": 5, \"30\": 2, \"21\": 1, \"46\": 1, \"28\": 1, \"51\": 2, \"57\": 2, \"54\": 2, \"53\": 2, \"23\": 1}, \"38\": {\"38\": 20}, \"2\": {\"49\": 2, \"23\": 1, \"46\": 1, \"2\": 16, \"36\": 1, \"50\": 2, \"33\": 1, \"30\": 1, \"27\": 2, \"3\": 1, \"41\": 1, \"5\": 1, \"32\": 2}, \"43\": {\"43\": 142, \"54\": 1, \"11\": 1}, \"56\": {\"38\": 2, \"28\": 3, \"14\": 1, \"31\": 6, \"22\": 16, \"56\": 62, \"1\": 8, \"55\": 5, \"43\": 4, \"7\": 2, \"4\": 2, \"24\": 12, \"46\": 3, \"48\": 4, \"47\": 11, \"57\": 1, \"5\": 1, \"42\": 1}, \"37\": {\"17\": 2, \"51\": 3, \"37\": 22, \"21\": 1, \"45\": 1, \"36\": 2, \"19\": 1, \"13\": 1, \"32\": 1, \"33\": 2}, \"49\": {\"49\": 17, \"12\": 2, \"50\": 2, \"47\": 2, \"42\": 1}, \"0\": {\"0\": 45, \"15\": 3}, \"29\": {\"29\": 64, \"36\": 4, \"9\": 12, \"21\": 2, \"19\": 9, \"3\": 3, \"45\": 3, \"56\": 3, \"51\": 5, \"27\": 1, \"44\": 1, \"24\": 1, \"54\": 2, \"6\": 1, \"17\": 1, \"25\": 2, \"53\": 2, \"33\": 1, \"37\": 1, \"14\": 3, \"2\": 1, \"4\": 5, \"55\": 1}, \"35\": {\"35\": 27, \"44\": 2, \"19\": 1, \"45\": 2}, \"18\": {\"18\": 48}, \"25\": {\"17\": 16, \"37\": 2, \"38\": 1, \"25\": 71, \"4\": 2, \"3\": 2, \"27\": 8, \"18\": 1, \"20\": 9, \"6\": 2, \"9\": 1, \"8\": 4, \"19\": 1, \"21\": 4, \"51\": 3, \"50\": 1, \"54\": 1, \"24\": 2, \"52\": 1, \"16\": 1, \"30\": 2, \"23\": 1}, \"23\": {\"23\": 119, \"18\": 3, \"30\": 2}, \"15\": {\"15\": 143, \"5\": 1, \"16\": 1, \"11\": 1}, \"21\": {\"32\": 1, \"17\": 3, \"30\": 2, \"52\": 15, \"18\": 1, \"21\": 54, \"20\": 3, \"42\": 1, \"43\": 4, \"46\": 4, \"27\": 4, \"33\": 1, \"50\": 5, \"16\": 13, \"23\": 4, \"12\": 1, \"8\": 2, \"2\": 1, \"22\": 1}, \"51\": {\"51\": 45, \"55\": 5, \"37\": 2, \"20\": 5, \"30\": 4, \"36\": 3, \"42\": 1, \"8\": 6, \"1\": 2, \"53\": 10, \"21\": 4, \"3\": 2, \"13\": 2, \"57\": 2, \"50\": 2, \"52\": 3, \"16\": 4, \"15\": 1, \"17\": 2, \"45\": 2, \"5\": 2, \"11\": 1, \"6\": 2, \"23\": 1, \"25\": 3, \"12\": 1, \"32\": 2, \"47\": 2, \"56\": 3, \"46\": 3, \"24\": 1}, \"20\": {\"20\": 47, \"8\": 17, \"3\": 1, \"21\": 5, \"30\": 11, \"26\": 5, \"36\": 2, \"6\": 5, \"52\": 2, \"48\": 2, \"27\": 5, \"24\": 2, \"17\": 8, \"50\": 4, \"53\": 5, \"12\": 2, \"1\": 1, \"25\": 4, \"51\": 2, \"23\": 3, \"32\": 1, \"5\": 1, \"18\": 1, \"16\": 2}, \"7\": {\"7\": 36}, \"50\": {\"50\": 78, \"8\": 25, \"46\": 2, \"27\": 8, \"12\": 2, \"3\": 1, \"48\": 2, \"30\": 5, \"18\": 4, \"6\": 3, \"52\": 4, \"23\": 2}, \"31\": {\"31\": 26, \"1\": 1, \"56\": 1}, \"30\": {\"30\": 137, \"29\": 1, \"46\": 2}, \"19\": {\"19\": 89, \"45\": 8, \"13\": 4, \"55\": 5, \"14\": 2, \"37\": 2, \"44\": 7, \"29\": 10, \"40\": 3, \"9\": 11, \"4\": 5, \"36\": 2, \"33\": 1, \"25\": 5, \"53\": 1, \"56\": 1}, \"9\": {\"9\": 64, \"4\": 15, \"3\": 2, \"29\": 14, \"45\": 4, \"13\": 3, \"44\": 1, \"55\": 7, \"19\": 8, \"56\": 9, \"57\": 2, \"36\": 1, \"53\": 3, \"48\": 1, \"40\": 1, \"17\": 2, \"25\": 2, \"22\": 1, \"54\": 1, \"51\": 3}, \"52\": {\"23\": 2, \"52\": 110, \"15\": 2, \"5\": 4, \"16\": 5, \"11\": 1}, \"45\": {\"17\": 1, \"19\": 19, \"37\": 2, \"35\": 1, \"45\": 32, \"9\": 9, \"25\": 5, \"41\": 1, \"54\": 5, \"51\": 2, \"56\": 3, \"4\": 10, \"44\": 6, \"3\": 2, \"29\": 9, \"27\": 1, \"6\": 1, \"12\": 1, \"48\": 2, \"50\": 4, \"55\": 1, \"31\": 1, \"28\": 1, \"2\": 1, \"46\": 2, \"53\": 2, \"21\": 2, \"8\": 1, \"30\": 1}, \"8\": {\"8\": 145, \"50\": 8, \"27\": 1}, \"55\": {\"32\": 1, \"9\": 3, \"34\": 3, \"55\": 54, \"41\": 2, \"27\": 5, \"22\": 10, \"2\": 4, \"1\": 1, \"56\": 4, \"12\": 5, \"54\": 4, \"29\": 4, \"45\": 5, \"6\": 8, \"19\": 1, \"30\": 1, \"4\": 6, \"47\": 5, \"50\": 3, \"48\": 12, \"5\": 1, \"53\": 2, \"14\": 1, \"46\": 6, \"43\": 1, \"42\": 2, \"3\": 1, \"24\": 2, \"52\": 1, \"57\": 1, \"23\": 1}, \"12\": {\"12\": 58, \"27\": 5, \"46\": 3, \"6\": 7, \"50\": 3, \"54\": 3, \"8\": 2, \"36\": 1, \"16\": 1, \"47\": 2, \"3\": 4, \"39\": 1, \"34\": 1, \"30\": 1}, \"40\": {\"40\": 84, \"19\": 21, \"4\": 12, \"29\": 5, \"9\": 6, \"44\": 6, \"45\": 2, \"56\": 1, \"35\": 2, \"13\": 1}, \"28\": {\"28\": 28}, \"36\": {\"36\": 69, \"57\": 1, \"32\": 2, \"48\": 6, \"50\": 5, \"30\": 1, \"8\": 8, \"46\": 7, \"55\": 2, \"3\": 3, \"12\": 3, \"54\": 1, \"6\": 1, \"2\": 1, \"53\": 1, \"24\": 1, \"16\": 2, \"23\": 2}, \"39\": {\"39\": 25, \"37\": 1, \"6\": 2}, \"46\": {\"39\": 9, \"49\": 1, \"46\": 60, \"6\": 14, \"11\": 1, \"48\": 8, \"54\": 1, \"7\": 4, \"30\": 6, \"12\": 2, \"50\": 4, \"3\": 2, \"22\": 1, \"47\": 5, \"23\": 2, \"21\": 1, \"43\": 1}, \"14\": {\"28\": 2, \"14\": 7, \"53\": 1, \"45\": 3, \"31\": 2, \"7\": 3, \"32\": 1, \"4\": 1, \"29\": 2, \"44\": 2}, \"57\": {\"57\": 103, \"54\": 1, \"16\": 2, \"30\": 10, \"0\": 2, \"23\": 4, \"1\": 9, \"22\": 2, \"47\": 2, \"39\": 2, \"48\": 1, \"27\": 1, \"5\": 1, \"17\": 1, \"8\": 1}, \"34\": {\"34\": 25, \"53\": 1, \"41\": 2}, \"1\": {\"1\": 87, \"48\": 8, \"7\": 2, \"31\": 1, \"46\": 3, \"47\": 4, \"56\": 2, \"30\": 1, \"42\": 1, \"22\": 1, \"57\": 2}, \"53\": {\"20\": 8, \"53\": 60, \"6\": 1, \"51\": 8, \"56\": 4, \"31\": 1, \"11\": 1, \"3\": 3, \"21\": 8, \"27\": 1, \"17\": 3, \"13\": 8, \"5\": 1, \"1\": 1, \"36\": 2, \"48\": 4, \"57\": 5, \"23\": 3, \"25\": 4, \"32\": 1, \"8\": 2, \"42\": 1, \"50\": 1, \"22\": 2, \"55\": 2, \"16\": 1}, \"48\": {\"48\": 77, \"1\": 9, \"12\": 2, \"3\": 3, \"46\": 6, \"6\": 7, \"27\": 1, \"23\": 4, \"30\": 3, \"54\": 1, \"5\": 3, \"57\": 2, \"22\": 1, \"47\": 5, \"41\": 1, \"39\": 1, \"49\": 2, \"8\": 1, \"56\": 1}, \"3\": {\"32\": 2, \"49\": 2, \"39\": 2, \"17\": 2, \"7\": 1, \"23\": 1, \"37\": 1, \"27\": 2, \"48\": 5, \"46\": 6, \"54\": 3, \"18\": 1, \"42\": 1, \"6\": 9, \"30\": 7, \"12\": 5, \"56\": 1, \"3\": 6, \"51\": 1, \"29\": 4, \"4\": 5, \"50\": 3, \"45\": 3, \"19\": 4, \"57\": 2, \"22\": 1, \"53\": 1, \"25\": 3, \"1\": 3, \"9\": 1, \"8\": 2, \"47\": 1, \"13\": 1}, \"16\": {\"52\": 11, \"16\": 83, \"6\": 3, \"43\": 5, \"12\": 1, \"11\": 14, \"0\": 1, \"23\": 8, \"15\": 16, \"5\": 1, \"18\": 2, \"57\": 2, \"50\": 1, \"10\": 2, \"30\": 1, \"46\": 1}, \"6\": {\"30\": 14, \"28\": 1, \"18\": 3, \"6\": 51, \"39\": 3, \"7\": 6, \"27\": 4, \"0\": 1, \"46\": 8, \"17\": 1, \"50\": 4, \"1\": 2, \"54\": 8, \"8\": 2, \"5\": 1, \"20\": 1, \"21\": 1, \"3\": 3, \"26\": 1, \"12\": 3, \"16\": 1, \"11\": 1, \"52\": 1, \"48\": 2, \"47\": 1}, \"10\": {\"10\": 97, \"52\": 3, \"24\": 4, \"11\": 4, \"43\": 3, \"5\": 1}, \"13\": {\"23\": 6, \"45\": 1, \"36\": 4, \"13\": 39, \"21\": 3, \"52\": 6, \"22\": 7, \"56\": 2, \"57\": 2, \"17\": 1, \"54\": 1, \"3\": 3, \"51\": 4, \"1\": 5, \"5\": 5, \"53\": 5, \"4\": 3, \"24\": 3, \"47\": 2, \"43\": 1, \"25\": 2, \"48\": 1, \"18\": 1, \"2\": 1, \"37\": 2, \"46\": 2, \"16\": 2, \"55\": 2}, \"26\": {\"26\": 9, \"48\": 1, \"25\": 1, \"54\": 2, \"6\": 3, \"2\": 1, \"50\": 1, \"27\": 2, \"12\": 2, \"32\": 1, \"30\": 1}, \"24\": {\"24\": 77, \"43\": 8, \"11\": 3, \"16\": 1, \"54\": 2, \"15\": 1, \"23\": 1, \"38\": 1, \"28\": 1, \"10\": 1}, \"44\": {\"44\": 63, \"45\": 8, \"36\": 2, \"35\": 3, \"19\": 16, \"40\": 3, \"29\": 3, \"34\": 1, \"9\": 1}, \"27\": {\"30\": 10, \"27\": 58, \"6\": 4, \"2\": 3, \"17\": 4, \"20\": 8, \"48\": 5, \"12\": 3, \"50\": 17, \"8\": 22, \"46\": 2, \"43\": 1, \"23\": 2, \"49\": 2, \"26\": 2, \"32\": 1, \"57\": 1, \"1\": 1, \"52\": 1, \"54\": 2, \"21\": 1}, \"22\": {\"22\": 89, \"46\": 3, \"0\": 1, \"31\": 3, \"1\": 3, \"24\": 5, \"48\": 2, \"56\": 10, \"43\": 7, \"14\": 2, \"28\": 1, \"47\": 2}, \"33\": {\"45\": 1, \"33\": 9, \"5\": 1, \"4\": 2, \"6\": 1, \"2\": 2, \"8\": 2, \"12\": 2, \"29\": 1, \"50\": 1, \"21\": 1, \"1\": 1, \"32\": 1, \"46\": 1, \"48\": 1, \"47\": 1}, \"47\": {\"47\": 97, \"22\": 3, \"1\": 2, \"5\": 2, \"6\": 1, \"23\": 2, \"16\": 1, \"57\": 3, \"43\": 1, \"39\": 2, \"48\": 2, \"28\": 1, \"46\": 1}, \"5\": {\"5\": 80, \"43\": 1, \"10\": 3, \"11\": 1, \"46\": 2, \"21\": 2, \"17\": 2, \"16\": 3, \"23\": 15, \"1\": 1, \"24\": 2, \"48\": 2, \"52\": 1, \"18\": 4, \"54\": 1}, \"4\": {\"55\": 15, \"4\": 44, \"19\": 5, \"17\": 1, \"29\": 15, \"33\": 1, \"56\": 5, \"8\": 1, \"3\": 1, \"54\": 1, \"36\": 6, \"13\": 5, \"9\": 10, \"45\": 6, \"25\": 1, \"22\": 3, \"40\": 4, \"42\": 1, \"37\": 1, \"31\": 1, \"32\": 1, \"51\": 1, \"21\": 4, \"46\": 1, \"1\": 1, \"48\": 1, \"20\": 1, \"6\": 1}, \"41\": {\"41\": 20}, \"11\": {\"11\": 133, \"16\": 1, \"0\": 1, \"5\": 1, \"15\": 8, \"43\": 5, \"52\": 1}, \"54\": {\"54\": 91, \"30\": 1, \"46\": 5, \"1\": 1, \"6\": 5, \"50\": 3, \"12\": 2}, \"42\": {\"22\": 4, \"42\": 9, \"31\": 1, \"27\": 1, \"1\": 3, \"56\": 2, \"54\": 1, \"47\": 3, \"50\": 1, \"55\": 3, \"46\": 3, \"48\": 2, \"12\": 2, \"39\": 1}}, \"C_3\": {\"5\": {\"5\": 75, \"52\": 5, \"39\": 2, \"36\": 1, \"18\": 4, \"23\": 16, \"24\": 2, \"9\": 1, \"28\": 1, \"48\": 2, \"41\": 1, \"42\": 1, \"46\": 1, \"16\": 1, \"43\": 1, \"11\": 1, \"12\": 1}, \"32\": {\"2\": 2, \"8\": 4, \"32\": 11, \"48\": 2, \"41\": 1, \"54\": 1, \"18\": 1, \"9\": 1, \"36\": 1, \"27\": 1, \"1\": 1, \"3\": 2}, \"33\": {\"33\": 16, \"17\": 1, \"56\": 1, \"37\": 1, \"3\": 2, \"42\": 2, \"28\": 1, \"48\": 1, \"25\": 2, \"51\": 1}, \"49\": {\"49\": 20}, \"39\": {\"39\": 16}, \"11\": {\"11\": 126, \"43\": 7, \"15\": 9}, \"8\": {\"8\": 105, \"50\": 8, \"54\": 1, \"20\": 1, \"30\": 1}, \"26\": {\"26\": 21, \"6\": 1, \"41\": 1, \"46\": 1}, \"51\": {\"51\": 61, \"53\": 9, \"25\": 7, \"18\": 2, \"33\": 1, \"36\": 1, \"35\": 1, \"22\": 2, \"52\": 1, \"13\": 6, \"21\": 8, \"23\": 1, \"8\": 4, \"3\": 4, \"27\": 1, \"1\": 2, \"54\": 2, \"55\": 1, \"56\": 1, \"46\": 2, \"30\": 1, \"37\": 1, \"57\": 1, \"9\": 1, \"29\": 1}, \"4\": {\"2\": 3, \"4\": 50, \"37\": 1, \"35\": 2, \"3\": 5, \"33\": 1, \"55\": 13, \"12\": 2, \"22\": 5, \"14\": 1, \"36\": 5, \"21\": 2, \"29\": 20, \"45\": 6, \"51\": 2, \"5\": 1, \"8\": 3, \"54\": 2, \"13\": 3, \"19\": 2, \"47\": 1, \"9\": 4, \"27\": 1, \"1\": 3, \"32\": 1, \"53\": 1, \"57\": 2, \"25\": 2, \"56\": 1, \"46\": 1}, \"52\": {\"52\": 110, \"23\": 1, \"16\": 2, \"18\": 2, \"5\": 3}, \"47\": {\"47\": 53, \"0\": 4, \"48\": 5, \"36\": 1, \"28\": 2, \"42\": 1, \"21\": 1, \"23\": 1, \"43\": 5, \"1\": 2, \"54\": 2, \"30\": 1, \"51\": 1, \"2\": 1, \"26\": 2, \"31\": 4, \"6\": 1, \"56\": 1, \"5\": 2, \"46\": 2}, \"17\": {\"12\": 1, \"8\": 3, \"48\": 8, \"17\": 44, \"38\": 2, \"54\": 2, \"28\": 2, \"50\": 7, \"27\": 16, \"6\": 4, \"22\": 3, \"53\": 2, \"30\": 6, \"23\": 1, \"25\": 1, \"24\": 1, \"1\": 3, \"56\": 1, \"9\": 1}, \"53\": {\"51\": 13, \"53\": 50, \"2\": 4, \"38\": 1, \"12\": 1, \"13\": 13, \"21\": 9, \"57\": 9, \"17\": 1, \"23\": 3, \"48\": 1, \"27\": 5, \"1\": 2, \"50\": 2, \"8\": 1, \"3\": 5, \"9\": 2, \"46\": 1, \"25\": 5, \"5\": 3, \"36\": 1, \"35\": 1, \"22\": 1, \"55\": 2}, \"2\": {\"2\": 26, \"12\": 2, \"27\": 3, \"6\": 1}, \"12\": {\"12\": 49, \"8\": 6, \"3\": 2, \"35\": 1, \"26\": 1, \"20\": 1, \"50\": 6, \"30\": 8, \"41\": 1, \"2\": 1, \"55\": 2, \"54\": 2, \"27\": 2, \"6\": 2, \"46\": 6, \"47\": 1, \"21\": 1}, \"37\": {\"37\": 20, \"54\": 1, \"56\": 2, \"33\": 1, \"21\": 2, \"45\": 2}, \"9\": {\"21\": 5, \"37\": 2, \"9\": 47, \"13\": 2, \"57\": 8, \"32\": 1, \"42\": 2, \"56\": 1, \"36\": 2, \"8\": 5, \"0\": 1, \"47\": 3, \"41\": 1, \"28\": 1, \"51\": 4, \"17\": 2, \"1\": 10, \"55\": 1, \"50\": 2, \"46\": 6, \"24\": 1, \"18\": 4, \"27\": 6, \"30\": 4, \"20\": 5, \"23\": 4, \"22\": 4, \"3\": 5, \"43\": 1, \"35\": 1, \"29\": 1, \"4\": 1, \"25\": 1, \"12\": 1, \"48\": 2, \"53\": 1}, \"13\": {\"32\": 1, \"13\": 42, \"36\": 2, \"14\": 1, \"53\": 12, \"57\": 5, \"24\": 2, \"21\": 5, \"28\": 1, \"3\": 6, \"54\": 4, \"51\": 6, \"55\": 3, \"19\": 3, \"52\": 1, \"23\": 7, \"9\": 4, \"1\": 1, \"25\": 2, \"22\": 2, \"16\": 1, \"45\": 1, \"35\": 2, \"27\": 3, \"33\": 1, \"34\": 1, \"40\": 1, \"5\": 3, \"43\": 2, \"12\": 1, \"20\": 1, \"48\": 1}, \"54\": {\"54\": 76, \"41\": 4, \"12\": 3, \"48\": 4, \"3\": 4, \"30\": 2, \"57\": 1, \"6\": 2, \"8\": 1, \"17\": 1, \"50\": 2}, \"31\": {\"31\": 26, \"47\": 2}, \"34\": {\"34\": 32}, \"24\": {\"24\": 75, \"7\": 6, \"15\": 6, \"43\": 10, \"23\": 1, \"5\": 1, \"48\": 1, \"39\": 2, \"11\": 2}, \"7\": {\"7\": 36}, \"50\": {\"8\": 30, \"32\": 1, \"50\": 58, \"27\": 4, \"26\": 1, \"30\": 7, \"6\": 5, \"12\": 1, \"18\": 1, \"55\": 2, \"46\": 1, \"41\": 1, \"48\": 4, \"52\": 1, \"17\": 1}, \"46\": {\"34\": 1, \"46\": 61, \"24\": 1, \"26\": 7, \"52\": 1, \"18\": 5, \"8\": 1, \"3\": 8, \"6\": 4, \"30\": 9, \"16\": 1, \"15\": 1, \"48\": 6, \"20\": 11, \"54\": 2, \"31\": 1, \"0\": 1, \"1\": 1, \"50\": 3, \"47\": 1, \"27\": 1, \"22\": 1}, \"44\": {\"44\": 55, \"40\": 4, \"29\": 8, \"14\": 3, \"4\": 2, \"19\": 11, \"45\": 2, \"51\": 1, \"25\": 1, \"30\": 1}, \"40\": {\"44\": 12, \"45\": 3, \"40\": 64, \"19\": 16, \"4\": 7, \"29\": 6, \"3\": 2, \"9\": 3, \"37\": 1, \"53\": 2}, \"21\": {\"37\": 3, \"21\": 60, \"13\": 3, \"3\": 4, \"22\": 3, \"25\": 6, \"23\": 2, \"6\": 2, \"53\": 3, \"18\": 3, \"51\": 10, \"54\": 2, \"20\": 1, \"46\": 2, \"1\": 1, \"57\": 1, \"24\": 1, \"5\": 1, \"8\": 1, \"56\": 2, \"36\": 1, \"50\": 4, \"38\": 1, \"33\": 3, \"48\": 1, \"30\": 2, \"52\": 2, \"16\": 2, \"43\": 1}, \"45\": {\"54\": 2, \"37\": 3, \"4\": 4, \"45\": 15, \"12\": 3, \"14\": 1, \"29\": 3, \"35\": 1, \"31\": 3, \"48\": 3, \"44\": 2, \"13\": 1, \"36\": 1, \"27\": 2, \"22\": 2, \"2\": 2, \"38\": 1, \"9\": 1, \"53\": 2, \"23\": 1, \"19\": 2, \"50\": 1, \"18\": 1, \"56\": 1, \"17\": 1, \"25\": 1}, \"16\": {\"16\": 58, \"24\": 1, \"43\": 7, \"52\": 14, \"23\": 13, \"5\": 4, \"15\": 8, \"11\": 7, \"1\": 1, \"18\": 5, \"46\": 1, \"20\": 4, \"48\": 2, \"10\": 1}, \"14\": {\"9\": 1, \"56\": 7, \"14\": 10, \"19\": 4, \"25\": 1, \"7\": 5, \"53\": 1, \"46\": 1, \"43\": 1, \"44\": 1, \"22\": 1, \"29\": 2, \"31\": 2, \"32\": 1, \"24\": 1, \"47\": 1}, \"36\": {\"48\": 2, \"32\": 2, \"2\": 2, \"36\": 57, \"18\": 1, \"8\": 5, \"50\": 5, \"30\": 6, \"20\": 2, \"3\": 4, \"55\": 2, \"46\": 5, \"14\": 1, \"12\": 3, \"6\": 2, \"24\": 1}, \"56\": {\"56\": 107, \"22\": 7}, \"10\": {\"24\": 2, \"10\": 52, \"15\": 4, \"43\": 2, \"49\": 2, \"39\": 2}, \"18\": {\"18\": 82, \"23\": 2}, \"48\": {\"48\": 87, \"39\": 1, \"31\": 2, \"27\": 3, \"6\": 1, \"1\": 3, \"22\": 3, \"50\": 2, \"47\": 3, \"46\": 3, \"55\": 1, \"28\": 1, \"30\": 3, \"23\": 2, \"5\": 1}, \"38\": {\"38\": 22, \"54\": 1, \"5\": 1, \"17\": 2, \"53\": 1, \"28\": 1}, \"27\": {\"27\": 72, \"8\": 10, \"50\": 14, \"28\": 2, \"41\": 1, \"12\": 1, \"5\": 2, \"43\": 2, \"1\": 3, \"48\": 5, \"6\": 1, \"23\": 4, \"57\": 2, \"17\": 4, \"30\": 1, \"32\": 1, \"0\": 1, \"52\": 1, \"47\": 1, \"22\": 2}, \"42\": {\"54\": 2, \"56\": 1, \"12\": 2, \"6\": 3, \"42\": 13, \"55\": 1, \"13\": 1, \"31\": 1, \"27\": 1, \"7\": 1, \"9\": 1, \"23\": 1}, \"15\": {\"15\": 122, \"48\": 1, \"11\": 4, \"16\": 2, \"43\": 1, \"2\": 1, \"55\": 1, \"12\": 1, \"5\": 1}, \"1\": {\"1\": 49, \"42\": 1, \"27\": 3, \"47\": 7, \"57\": 6, \"48\": 7, \"3\": 3, \"46\": 2, \"0\": 7, \"6\": 1, \"23\": 4, \"43\": 1, \"22\": 5, \"56\": 1, \"31\": 2, \"30\": 1}, \"28\": {\"42\": 2, \"28\": 20, \"5\": 2, \"0\": 3, \"22\": 1}, \"43\": {\"43\": 135, \"11\": 1}, \"0\": {\"0\": 120, \"43\": 3, \"15\": 1}, \"57\": {\"1\": 6, \"0\": 7, \"20\": 5, \"34\": 5, \"57\": 56, \"46\": 5, \"22\": 3, \"47\": 10, \"28\": 3, \"48\": 10, \"3\": 1, \"18\": 1, \"23\": 4, \"8\": 1, \"26\": 1, \"42\": 1, \"32\": 1, \"30\": 1, \"27\": 2, \"21\": 1}, \"3\": {\"3\": 23, \"48\": 10, \"6\": 4, \"35\": 1, \"19\": 2, \"36\": 3, \"25\": 3, \"30\": 14, \"28\": 1, \"54\": 5, \"46\": 12, \"45\": 3, \"55\": 3, \"57\": 2, \"51\": 4, \"50\": 7, \"20\": 5, \"18\": 3, \"12\": 2, \"8\": 6, \"21\": 5, \"56\": 2, \"4\": 4, \"17\": 5, \"13\": 3, \"1\": 1, \"29\": 2, \"9\": 2, \"22\": 2, \"47\": 1, \"37\": 1, \"26\": 2, \"33\": 1, \"27\": 2, \"40\": 1, \"53\": 1}, \"29\": {\"29\": 59, \"3\": 4, \"22\": 1, \"14\": 2, \"38\": 1, \"36\": 5, \"19\": 7, \"51\": 1, \"4\": 15, \"25\": 5, \"53\": 2, \"57\": 1, \"9\": 7, \"21\": 3, \"5\": 1, \"2\": 1, \"1\": 2, \"55\": 3, \"47\": 1, \"13\": 2, \"17\": 1}, \"41\": {\"41\": 23, \"27\": 2, \"3\": 2, \"48\": 1}, \"25\": {\"25\": 90, \"32\": 1, \"27\": 6, \"38\": 3, \"51\": 4, \"43\": 2, \"17\": 8, \"30\": 2, \"16\": 2, \"54\": 1, \"21\": 1, \"57\": 4, \"23\": 2, \"53\": 5, \"3\": 1, \"8\": 2, \"46\": 1, \"24\": 1, \"33\": 3, \"12\": 1, \"31\": 1, \"56\": 1, \"50\": 1, \"22\": 1, \"20\": 1, \"48\": 1}, \"6\": {\"18\": 2, \"41\": 3, \"6\": 49, \"30\": 8, \"46\": 3, \"50\": 3, \"48\": 3, \"17\": 2, \"54\": 7, \"47\": 2, \"16\": 1, \"31\": 1, \"20\": 1, \"3\": 1, \"24\": 1, \"55\": 1}, \"35\": {\"41\": 1, \"6\": 1, \"55\": 1, \"35\": 13, \"22\": 1, \"47\": 2, \"46\": 1, \"17\": 1, \"28\": 1, \"54\": 3, \"57\": 2, \"34\": 1}, \"20\": {\"20\": 124, \"18\": 1, \"17\": 1}, \"23\": {\"23\": 130, \"18\": 4}, \"22\": {\"31\": 4, \"56\": 23, \"22\": 77, \"34\": 4, \"47\": 4, \"1\": 5, \"48\": 5, \"43\": 6, \"0\": 1, \"55\": 3, \"49\": 1, \"24\": 2, \"35\": 2, \"4\": 1, \"3\": 1, \"57\": 1}, \"19\": {\"19\": 83, \"25\": 4, \"9\": 5, \"55\": 1, \"51\": 1, \"29\": 5, \"36\": 1, \"45\": 3, \"13\": 2, \"53\": 1, \"4\": 3, \"14\": 1, \"40\": 4, \"44\": 2}, \"55\": {\"55\": 37, \"41\": 3, \"54\": 9, \"56\": 11, \"12\": 4, \"22\": 6, \"3\": 4, \"6\": 8, \"48\": 8, \"50\": 6, \"27\": 1, \"9\": 2, \"21\": 1, \"46\": 5, \"29\": 3, \"17\": 1, \"43\": 1, \"42\": 2, \"7\": 2, \"36\": 1, \"14\": 1, \"31\": 2, \"39\": 1, \"45\": 1, \"4\": 1, \"1\": 1, \"53\": 1, \"40\": 1}, \"30\": {\"30\": 114, \"48\": 2, \"18\": 2, \"8\": 2}}, \"C_1\": {\"24\": {\"24\": 80, \"52\": 5, \"22\": 14, \"23\": 2, \"0\": 2, \"11\": 2, \"39\": 1, \"28\": 2}, \"25\": {\"25\": 79, \"20\": 4, \"26\": 1, \"14\": 1, \"52\": 4, \"30\": 5, \"42\": 1, \"18\": 1, \"17\": 7, \"19\": 1, \"11\": 1, \"37\": 4, \"8\": 3, \"45\": 5, \"5\": 1, \"9\": 5, \"50\": 1, \"53\": 3, \"56\": 1, \"51\": 1, \"41\": 1, \"16\": 1, \"6\": 3, \"48\": 3, \"22\": 1, \"13\": 2}, \"45\": {\"25\": 2, \"12\": 4, \"45\": 44, \"30\": 15, \"28\": 1, \"42\": 3, \"9\": 9, \"17\": 4, \"50\": 1, \"36\": 6, \"18\": 10, \"8\": 20, \"23\": 3, \"5\": 2, \"55\": 6, \"22\": 5, \"24\": 1, \"52\": 1, \"54\": 3, \"16\": 4}, \"42\": {\"9\": 1, \"2\": 1, \"42\": 17, \"34\": 2, \"55\": 2, \"33\": 3, \"7\": 2, \"12\": 2, \"28\": 2, \"22\": 1, \"5\": 1, \"24\": 2, \"36\": 2, \"8\": 1, \"18\": 1}, \"2\": {\"2\": 36}, \"9\": {\"23\": 5, \"26\": 1, \"14\": 1, \"30\": 10, \"9\": 62, \"8\": 11, \"42\": 1, \"33\": 3, \"53\": 4, \"18\": 11, \"54\": 3, \"48\": 4, \"13\": 1, \"45\": 7, \"36\": 4, \"24\": 1, \"17\": 2, \"16\": 6, \"25\": 4, \"46\": 1, \"5\": 1, \"22\": 3, \"0\": 2, \"6\": 1, \"12\": 1}, \"21\": {\"21\": 115, \"15\": 8, \"23\": 1}, \"26\": {\"25\": 2, \"23\": 3, \"12\": 1, \"26\": 9, \"33\": 1, \"18\": 3, \"7\": 2, \"9\": 1, \"37\": 1, \"17\": 1}, \"49\": {\"49\": 30, \"22\": 1, \"39\": 1}, \"39\": {\"39\": 26, \"52\": 2}, \"46\": {\"46\": 21, \"42\": 1, \"48\": 12, \"8\": 9, \"17\": 3, \"50\": 11, \"41\": 1, \"25\": 2, \"18\": 1, \"5\": 19, \"35\": 2, \"45\": 2, \"27\": 2, \"55\": 6, \"1\": 3, \"56\": 1, \"51\": 1, \"19\": 5, \"6\": 7, \"47\": 1, \"22\": 2, \"13\": 2, \"44\": 5, \"57\": 2, \"30\": 6, \"4\": 3, \"53\": 3, \"33\": 1, \"29\": 1, \"16\": 1}, \"17\": {\"25\": 5, \"17\": 31, \"53\": 2, \"2\": 2, \"37\": 2, \"50\": 2, \"30\": 6, \"9\": 4, \"45\": 2, \"46\": 1, \"7\": 1, \"26\": 2, \"48\": 1, \"8\": 2, \"24\": 1}, \"19\": {\"45\": 6, \"1\": 11, \"26\": 2, \"57\": 10, \"19\": 58, \"25\": 6, \"35\": 2, \"44\": 10, \"47\": 11, \"42\": 3, \"12\": 1, \"56\": 6, \"8\": 3, \"46\": 3, \"30\": 2, \"55\": 1, \"54\": 2, \"5\": 1, \"20\": 3, \"16\": 1, \"53\": 2, \"22\": 1, \"48\": 1, \"28\": 1, \"17\": 3, \"7\": 1, \"52\": 1, \"9\": 1, \"51\": 1, \"50\": 1, \"27\": 1}, \"23\": {\"23\": 131, \"15\": 1}, \"1\": {\"1\": 36, \"19\": 11, \"47\": 9, \"28\": 1, \"56\": 12, \"25\": 4, \"27\": 1, \"55\": 2, \"17\": 2, \"48\": 3, \"20\": 5, \"44\": 3, \"22\": 3, \"37\": 1, \"9\": 2, \"5\": 1, \"57\": 1, \"29\": 1, \"51\": 1, \"53\": 1}, \"29\": {\"29\": 86, \"1\": 2, \"44\": 5, \"4\": 16, \"19\": 7, \"13\": 2, \"51\": 3, \"20\": 2, \"3\": 1, \"46\": 5, \"40\": 1, \"57\": 4, \"56\": 2, \"25\": 1, \"41\": 1, \"35\": 1, \"47\": 1}, \"56\": {\"56\": 41, \"37\": 5, \"7\": 3, \"5\": 12, \"39\": 1, \"44\": 2, \"1\": 5, \"32\": 1, \"19\": 14, \"57\": 5, \"20\": 5, \"17\": 2, \"50\": 1, \"45\": 5, \"52\": 3, \"47\": 11, \"12\": 2, \"54\": 1, \"8\": 2, \"27\": 5, \"53\": 2, \"48\": 5, \"9\": 3, \"55\": 4, \"16\": 1, \"28\": 1, \"46\": 1, \"14\": 1, \"35\": 2, \"41\": 1, \"22\": 2, \"25\": 1}, \"37\": {\"37\": 22, \"26\": 2, \"45\": 1, \"5\": 2, \"17\": 1, \"9\": 2, \"25\": 1, \"16\": 1}, \"33\": {\"33\": 31, \"34\": 1}, \"55\": {\"55\": 125, \"33\": 1, \"7\": 3, \"39\": 2, \"52\": 3, \"24\": 1, \"5\": 7}, \"30\": {\"30\": 111, \"8\": 8, \"6\": 1}, \"0\": {\"0\": 150, \"31\": 1, \"54\": 1}, \"36\": {\"36\": 64}, \"32\": {\"32\": 26, \"55\": 1, \"33\": 1, \"28\": 1, \"16\": 1, \"54\": 2}, \"31\": {\"31\": 24, \"52\": 1, \"22\": 1, \"0\": 1, \"24\": 1}, \"15\": {\"15\": 121, \"21\": 10, \"23\": 6, \"11\": 1}, \"12\": {\"12\": 73, \"14\": 2, \"33\": 3, \"52\": 2, \"11\": 4, \"9\": 1, \"2\": 1, \"36\": 5, \"16\": 10, \"42\": 1, \"5\": 3, \"24\": 1, \"54\": 1, \"22\": 6, \"20\": 1, \"23\": 1, \"19\": 1}, \"38\": {\"38\": 24}, \"40\": {\"40\": 86, \"44\": 8, \"56\": 1, \"29\": 20, \"13\": 5, \"41\": 2, \"57\": 4, \"3\": 4, \"4\": 14, \"19\": 1, \"47\": 1}, \"14\": {\"14\": 6, \"18\": 1, \"33\": 4, \"25\": 1, \"30\": 5, \"42\": 1, \"5\": 1, \"12\": 1, \"7\": 1, \"17\": 1, \"34\": 1, \"8\": 1}, \"13\": {\"46\": 4, \"13\": 105, \"1\": 5, \"41\": 3, \"20\": 2, \"3\": 7, \"53\": 5, \"51\": 6, \"47\": 3, \"44\": 4, \"19\": 5, \"57\": 1}, \"48\": {\"30\": 7, \"48\": 65, \"50\": 29, \"8\": 10, \"26\": 1, \"2\": 1, \"12\": 2, \"6\": 9, \"18\": 1, \"7\": 2, \"5\": 9, \"25\": 2, \"17\": 2, \"34\": 2, \"33\": 1, \"45\": 2, \"55\": 1, \"24\": 1, \"52\": 1}, \"34\": {\"34\": 24}, \"44\": {\"44\": 60, \"57\": 4, \"47\": 12, \"46\": 5, \"5\": 5, \"12\": 2, \"1\": 2, \"53\": 1, \"55\": 3, \"29\": 5, \"20\": 2, \"52\": 5, \"17\": 1, \"19\": 4, \"45\": 3, \"4\": 6, \"56\": 1, \"3\": 1, \"35\": 4, \"27\": 2, \"13\": 1, \"9\": 1}, \"5\": {\"18\": 1, \"34\": 3, \"5\": 104, \"2\": 5, \"6\": 6, \"55\": 7, \"30\": 8, \"45\": 1, \"48\": 6, \"8\": 1, \"23\": 1, \"33\": 2, \"12\": 1, \"50\": 6}, \"11\": {\"11\": 127, \"21\": 5, \"15\": 6, \"22\": 1, \"10\": 1}, \"7\": {\"7\": 28}, \"18\": {\"18\": 62, \"30\": 3, \"5\": 2, \"16\": 4, \"54\": 1}, \"52\": {\"52\": 119, \"0\": 4, \"31\": 2, \"39\": 3, \"28\": 1, \"22\": 1, \"27\": 1, \"38\": 1}, \"51\": {\"51\": 83, \"9\": 7, \"45\": 4, \"41\": 2, \"48\": 3, \"16\": 3, \"13\": 1, \"12\": 4, \"47\": 2, \"10\": 1, \"30\": 2, \"22\": 2, \"18\": 1, \"53\": 7, \"20\": 9, \"52\": 1, \"5\": 1, \"26\": 1, \"54\": 1, \"36\": 1, \"25\": 4, \"23\": 1, \"15\": 1}, \"41\": {\"41\": 13, \"51\": 5, \"53\": 1, \"48\": 1, \"14\": 1, \"46\": 1, \"20\": 2}, \"16\": {\"18\": 17, \"9\": 3, \"54\": 14, \"16\": 48, \"36\": 8, \"12\": 7, \"15\": 8, \"5\": 2, \"11\": 3, \"20\": 1, \"22\": 1, \"45\": 7, \"8\": 2, \"23\": 13, \"30\": 1, \"24\": 1, \"21\": 2, \"33\": 1, \"55\": 1}, \"22\": {\"22\": 96, \"24\": 20, \"39\": 1, \"0\": 3, \"11\": 5, \"52\": 5, \"9\": 1, \"45\": 1, \"23\": 1, \"12\": 1}, \"3\": {\"27\": 1, \"54\": 1, \"47\": 3, \"3\": 79, \"41\": 2, \"13\": 19, \"4\": 8, \"40\": 6, \"7\": 1, \"5\": 2, \"29\": 6, \"1\": 1, \"57\": 3, \"19\": 2, \"44\": 2, \"35\": 1, \"32\": 1, \"55\": 2}, \"54\": {\"54\": 104}, \"27\": {\"0\": 3, \"32\": 2, \"27\": 116, \"47\": 1, \"54\": 5, \"24\": 3, \"52\": 6, \"22\": 6, \"11\": 2}, \"20\": {\"20\": 58, \"54\": 6, \"33\": 1, \"12\": 13, \"53\": 16, \"7\": 1, \"51\": 11, \"30\": 2, \"22\": 1, \"55\": 1, \"17\": 1, \"19\": 1, \"45\": 4, \"27\": 4, \"5\": 4, \"23\": 1, \"24\": 1, \"16\": 4, \"34\": 1, \"52\": 1, \"28\": 1, \"57\": 1, \"1\": 1, \"56\": 2, \"36\": 2, \"25\": 1}, \"8\": {\"8\": 118, \"30\": 13, \"16\": 1, \"6\": 4, \"18\": 1, \"9\": 1}, \"50\": {\"48\": 15, \"50\": 117, \"6\": 2, \"8\": 5, \"46\": 1, \"2\": 3, \"18\": 1}, \"57\": {\"29\": 1, \"57\": 58, \"1\": 6, \"27\": 3, \"35\": 1, \"19\": 8, \"56\": 15, \"47\": 10, \"5\": 4, \"42\": 1, \"51\": 2, \"44\": 8, \"30\": 1, \"12\": 2, \"13\": 2, \"9\": 3, \"46\": 3, \"25\": 1, \"14\": 1, \"37\": 1, \"48\": 2, \"55\": 1, \"45\": 2, \"20\": 1, \"50\": 1, \"16\": 1, \"52\": 1}, \"4\": {\"4\": 83, \"29\": 21, \"19\": 4, \"47\": 6, \"3\": 2, \"44\": 9, \"40\": 4, \"13\": 1, \"57\": 2}, \"47\": {\"24\": 2, \"38\": 1, \"47\": 66, \"7\": 3, \"35\": 5, \"57\": 5, \"27\": 9, \"19\": 13, \"16\": 1, \"0\": 4, \"30\": 1, \"23\": 1, \"22\": 2, \"44\": 11, \"52\": 3, \"56\": 4, \"55\": 3, \"39\": 2, \"46\": 1, \"32\": 2, \"1\": 1, \"54\": 5, \"12\": 1}, \"10\": {\"10\": 51, \"43\": 3, \"15\": 6, \"11\": 9, \"0\": 2, \"54\": 1, \"21\": 18, \"22\": 4, \"36\": 1, \"24\": 1}, \"35\": {\"35\": 20, \"7\": 1, \"47\": 3, \"33\": 2, \"57\": 3, \"19\": 1, \"56\": 2, \"12\": 1, \"53\": 1, \"20\": 1, \"44\": 1}, \"53\": {\"51\": 8, \"2\": 1, \"9\": 8, \"53\": 44, \"20\": 7, \"7\": 1, \"18\": 1, \"30\": 4, \"48\": 1, \"36\": 3, \"25\": 6, \"6\": 4, \"37\": 1, \"16\": 3, \"54\": 3, \"17\": 4, \"10\": 1, \"45\": 4, \"8\": 5, \"5\": 1, \"23\": 3, \"50\": 1, \"27\": 5, \"55\": 2, \"12\": 2, \"11\": 1, \"56\": 1, \"42\": 1}, \"6\": {\"8\": 14, \"6\": 61, \"30\": 16, \"50\": 4, \"55\": 1}, \"43\": {\"43\": 124, \"21\": 1, \"27\": 3, \"10\": 5, \"0\": 1, \"22\": 1, \"31\": 1, \"15\": 3, \"52\": 1}, \"28\": {\"36\": 1, \"28\": 25, \"49\": 1, \"22\": 1}}, \"C_5\": {\"35\": {\"35\": 36}, \"57\": {\"57\": 125, \"8\": 1, \"28\": 1, \"47\": 4, \"42\": 1}, \"20\": {\"20\": 135, \"18\": 2, \"47\": 1, \"57\": 1, \"8\": 2, \"16\": 3}, \"12\": {\"25\": 7, \"37\": 1, \"30\": 6, \"12\": 39, \"6\": 1, \"41\": 1, \"48\": 7, \"8\": 5, \"18\": 3, \"17\": 5, \"27\": 1, \"54\": 1, \"52\": 1, \"50\": 1, \"9\": 1, \"1\": 6, \"23\": 1, \"21\": 2, \"38\": 1, \"45\": 1, \"53\": 2, \"26\": 1, \"43\": 2}, \"32\": {\"47\": 1, \"20\": 1, \"54\": 1, \"13\": 1, \"28\": 1, \"48\": 4, \"35\": 1, \"6\": 1, \"32\": 4, \"8\": 5, \"7\": 2, \"1\": 1, \"30\": 1, \"57\": 1, \"12\": 1, \"36\": 1, \"23\": 1, \"34\": 1, \"22\": 1, \"9\": 2}, \"25\": {\"20\": 3, \"37\": 1, \"25\": 52, \"14\": 2, \"17\": 11, \"30\": 2, \"12\": 9, \"45\": 5, \"51\": 2, \"26\": 4, \"48\": 2, \"21\": 7, \"27\": 7, \"43\": 2, \"16\": 2, \"53\": 4, \"6\": 3, \"8\": 7, \"7\": 2, \"38\": 3, \"18\": 2, \"55\": 1, \"13\": 1, \"24\": 1, \"36\": 1, \"54\": 1, \"1\": 1}, \"44\": {\"44\": 88, \"55\": 2, \"33\": 5, \"29\": 16, \"27\": 4, \"5\": 8, \"36\": 1, \"4\": 2, \"47\": 1, \"50\": 4, \"1\": 2, \"51\": 1, \"40\": 2, \"19\": 5, \"57\": 1, \"21\": 2, \"35\": 1, \"45\": 1, \"13\": 1, \"56\": 1}, \"31\": {\"31\": 36}, \"11\": {\"11\": 118, \"52\": 5, \"24\": 4, \"46\": 10, \"0\": 2, \"54\": 1, \"15\": 10}, \"47\": {\"47\": 88, \"54\": 8, \"3\": 1, \"24\": 1, \"39\": 2}, \"23\": {\"23\": 123, \"41\": 1}, \"43\": {\"43\": 143, \"36\": 1}, \"37\": {\"37\": 23, \"35\": 1}, \"5\": {\"32\": 2, \"5\": 68, \"19\": 6, \"44\": 22, \"40\": 7, \"29\": 10, \"4\": 6, \"33\": 2, \"22\": 1, \"9\": 1, \"45\": 3}, \"45\": {\"37\": 1, \"45\": 16, \"9\": 4, \"48\": 20, \"35\": 1, \"26\": 1, \"8\": 9, \"1\": 6, \"28\": 2, \"34\": 1, \"6\": 14, \"32\": 1, \"18\": 3, \"44\": 1, \"41\": 1, \"36\": 2, \"30\": 11, \"50\": 6, \"51\": 1, \"27\": 5, \"54\": 4, \"17\": 1, \"46\": 2, \"21\": 1, \"7\": 1, \"38\": 1, \"53\": 2, \"24\": 1, \"3\": 2, \"25\": 1, \"12\": 1, \"55\": 1}, \"7\": {\"7\": 15, \"12\": 1, \"25\": 1, \"6\": 2, \"4\": 1, \"43\": 2, \"30\": 1, \"48\": 2, \"37\": 1, \"20\": 2, \"8\": 2, \"1\": 2}, \"13\": {\"13\": 39, \"42\": 1, \"49\": 2, \"24\": 15, \"56\": 15, \"15\": 1, \"51\": 9, \"52\": 8, \"3\": 2, \"45\": 1, \"46\": 4, \"21\": 12, \"53\": 1, \"0\": 1, \"11\": 7, \"43\": 7, \"9\": 2, \"2\": 1, \"28\": 1, \"31\": 1, \"48\": 2, \"23\": 1, \"36\": 1, \"17\": 1, \"50\": 1}, \"49\": {\"49\": 36}, \"46\": {\"3\": 6, \"46\": 110, \"11\": 8, \"43\": 5, \"15\": 1, \"54\": 1, \"30\": 1, \"0\": 13, \"57\": 1, \"47\": 1, \"45\": 1}, \"16\": {\"16\": 109, \"23\": 3, \"13\": 1, \"20\": 6, \"6\": 1, \"3\": 2, \"11\": 5, \"46\": 4, \"15\": 4, \"25\": 1}, \"54\": {\"54\": 112}, \"19\": {\"19\": 81, \"5\": 3, \"44\": 12, \"37\": 4, \"48\": 2, \"12\": 2, \"27\": 3, \"29\": 15, \"25\": 9, \"9\": 5, \"51\": 2, \"21\": 3, \"50\": 3, \"4\": 1, \"40\": 1, \"6\": 1, \"33\": 3, \"45\": 2}, \"55\": {\"55\": 85, \"38\": 1, \"27\": 4, \"1\": 3, \"32\": 2, \"51\": 2, \"17\": 4, \"6\": 10, \"45\": 4, \"30\": 2, \"23\": 4, \"48\": 6, \"13\": 2, \"25\": 3, \"8\": 1, \"53\": 3, \"21\": 1, \"52\": 2, \"2\": 1, \"26\": 2, \"42\": 1, \"12\": 3, \"9\": 1, \"29\": 1, \"50\": 1, \"54\": 1}, \"30\": {\"30\": 70, \"54\": 8, \"26\": 2, \"9\": 3, \"48\": 5, \"8\": 10, \"27\": 3, \"6\": 9, \"55\": 1, \"18\": 4, \"43\": 1, \"17\": 2, \"53\": 1, \"1\": 5, \"41\": 1, \"57\": 2, \"47\": 1}, \"34\": {\"47\": 4, \"34\": 14, \"48\": 4, \"19\": 1, \"54\": 2, \"36\": 3, \"3\": 2, \"42\": 2, \"25\": 1, \"18\": 1, \"8\": 2}, \"50\": {\"54\": 10, \"50\": 25, \"30\": 9, \"21\": 10, \"27\": 4, \"34\": 2, \"51\": 5, \"8\": 7, \"1\": 10, \"55\": 3, \"18\": 5, \"48\": 12, \"14\": 1, \"6\": 8, \"23\": 2, \"25\": 6, \"43\": 3, \"9\": 3, \"7\": 3, \"42\": 1, \"12\": 2, \"3\": 1, \"45\": 1, \"36\": 1}, \"3\": {\"3\": 41, \"46\": 11, \"11\": 2, \"49\": 1, \"28\": 1, \"47\": 10, \"56\": 7, \"35\": 4, \"0\": 6, \"57\": 2, \"23\": 3, \"43\": 4, \"52\": 3, \"24\": 4, \"54\": 1}, \"10\": {\"10\": 59, \"24\": 3, \"19\": 1, \"52\": 2, \"16\": 1, \"56\": 1, \"29\": 1}, \"27\": {\"54\": 6, \"42\": 1, \"49\": 1, \"27\": 23, \"28\": 2, \"26\": 1, \"30\": 8, \"7\": 2, \"9\": 8, \"48\": 20, \"25\": 3, \"20\": 3, \"3\": 1, \"8\": 15, \"55\": 2, \"50\": 4, \"45\": 4, \"18\": 1, \"12\": 4, \"21\": 1, \"6\": 4, \"1\": 9, \"51\": 2, \"53\": 2, \"41\": 1, \"17\": 4, \"14\": 2, \"32\": 2, \"23\": 2, \"36\": 2, \"16\": 1, \"43\": 1}, \"33\": {\"33\": 11, \"56\": 1, \"28\": 3, \"47\": 1, \"53\": 1, \"17\": 2, \"50\": 1, \"1\": 3, \"32\": 1, \"48\": 1, \"34\": 3, \"19\": 1, \"57\": 1, \"26\": 1, \"14\": 1}, \"56\": {\"56\": 140, \"49\": 1, \"2\": 1}, \"9\": {\"13\": 2, \"32\": 2, \"7\": 3, \"24\": 1, \"9\": 22, \"30\": 13, \"27\": 5, \"1\": 11, \"54\": 3, \"20\": 4, \"5\": 1, \"17\": 2, \"18\": 6, \"50\": 2, \"48\": 13, \"23\": 2, \"8\": 16, \"51\": 5, \"29\": 2, \"6\": 4, \"21\": 8, \"44\": 2, \"4\": 1, \"25\": 4, \"19\": 5, \"36\": 1, \"28\": 1, \"42\": 1, \"55\": 1, \"57\": 4, \"45\": 1, \"12\": 1, \"53\": 1}, \"14\": {\"31\": 3, \"49\": 5, \"54\": 5, \"35\": 3, \"12\": 1, \"14\": 8, \"46\": 1, \"7\": 1, \"48\": 5, \"21\": 1, \"9\": 1, \"55\": 1, \"37\": 2, \"47\": 2, \"34\": 1, \"25\": 2, \"10\": 1, \"24\": 1}, \"4\": {\"5\": 10, \"4\": 35, \"44\": 14, \"22\": 1, \"19\": 15, \"27\": 1, \"50\": 3, \"40\": 4, \"29\": 8, \"12\": 1, \"9\": 2, \"21\": 1, \"1\": 1, \"45\": 3, \"25\": 1}, \"42\": {\"42\": 35, \"39\": 2, \"41\": 1, \"18\": 1, \"26\": 1}, \"24\": {\"52\": 1, \"3\": 1, \"24\": 75, \"23\": 2, \"13\": 1}, \"39\": {\"39\": 20}, \"52\": {\"52\": 125, \"48\": 1, \"16\": 2, \"36\": 1, \"56\": 1}, \"2\": {\"2\": 28}, \"28\": {\"47\": 2, \"8\": 3, \"28\": 6, \"1\": 1, \"48\": 6, \"46\": 2, \"43\": 3, \"2\": 1, \"41\": 1, \"18\": 2, \"57\": 1, \"50\": 1, \"23\": 2, \"36\": 1}, \"53\": {\"30\": 6, \"17\": 3, \"26\": 1, \"48\": 6, \"20\": 9, \"53\": 25, \"7\": 3, \"8\": 19, \"27\": 6, \"9\": 2, \"12\": 1, \"13\": 3, \"36\": 2, \"50\": 4, \"23\": 3, \"45\": 1, \"18\": 1, \"1\": 3, \"6\": 5, \"43\": 4, \"21\": 2, \"52\": 2, \"16\": 1, \"38\": 1, \"56\": 1, \"57\": 1, \"25\": 4, \"51\": 2, \"54\": 1}, \"17\": {\"38\": 3, \"1\": 4, \"17\": 45, \"8\": 3, \"48\": 6, \"18\": 2, \"30\": 11, \"25\": 7, \"54\": 2, \"53\": 1, \"9\": 1, \"23\": 1, \"12\": 6, \"56\": 2, \"36\": 3, \"6\": 4, \"55\": 3, \"27\": 7, \"26\": 2, \"33\": 1, \"45\": 1, \"43\": 1}, \"29\": {\"53\": 2, \"29\": 53, \"14\": 1, \"44\": 16, \"36\": 2, \"56\": 2, \"27\": 5, \"19\": 13, \"54\": 1, \"57\": 2, \"25\": 1, \"30\": 3, \"5\": 4, \"13\": 2, \"1\": 6, \"48\": 2, \"51\": 1, \"50\": 4, \"12\": 2, \"0\": 2, \"34\": 1, \"17\": 2, \"28\": 1, \"45\": 1, \"21\": 1, \"4\": 1, \"55\": 1}, \"38\": {\"17\": 3, \"8\": 3, \"38\": 14, \"12\": 1, \"47\": 2, \"25\": 1, \"30\": 1, \"9\": 1, \"27\": 2, \"26\": 2, \"18\": 1, \"13\": 1}, \"15\": {\"15\": 138, \"52\": 1, \"24\": 1, \"11\": 4}, \"26\": {\"38\": 4, \"30\": 1, \"26\": 7, \"17\": 2, \"45\": 2, \"6\": 1, \"36\": 2, \"42\": 1, \"7\": 1, \"55\": 2, \"25\": 1}, \"21\": {\"21\": 77, \"37\": 5, \"28\": 1, \"57\": 1, \"15\": 2, \"51\": 16, \"17\": 2, \"8\": 2, \"53\": 1, \"23\": 3, \"12\": 5, \"24\": 1, \"25\": 2, \"9\": 3, \"52\": 5, \"20\": 2, \"19\": 1, \"27\": 1, \"14\": 3, \"45\": 4, \"10\": 1, \"43\": 3, \"16\": 1, \"13\": 1, \"56\": 1}, \"41\": {\"41\": 23, \"42\": 1, \"20\": 2, \"23\": 1, \"7\": 1}, \"48\": {\"48\": 69, \"30\": 10, \"34\": 1, \"23\": 3, \"6\": 1, \"33\": 1, \"57\": 6, \"54\": 9, \"17\": 1, \"1\": 8, \"14\": 1, \"36\": 4, \"27\": 1, \"45\": 1, \"21\": 2, \"8\": 7, \"50\": 1, \"53\": 2, \"28\": 1, \"43\": 1, \"35\": 1, \"9\": 1, \"18\": 2, \"47\": 1, \"3\": 1}, \"22\": {\"49\": 1, \"5\": 1, \"22\": 18, \"33\": 1, \"19\": 3, \"56\": 1, \"27\": 1, \"34\": 1, \"9\": 1}, \"8\": {\"8\": 140, \"18\": 5, \"20\": 2, \"23\": 1}, \"18\": {\"18\": 58, \"42\": 2, \"8\": 4}, \"0\": {\"0\": 111, \"3\": 2, \"11\": 1, \"56\": 3, \"46\": 4, \"24\": 1}, \"1\": {\"28\": 2, \"1\": 45, \"48\": 19, \"30\": 10, \"18\": 5, \"54\": 7, \"34\": 1, \"23\": 1, \"9\": 2, \"36\": 2, \"17\": 1, \"27\": 6, \"8\": 17, \"43\": 4, \"6\": 4, \"20\": 3, \"50\": 4, \"57\": 3, \"56\": 1, \"52\": 1}, \"40\": {\"29\": 5, \"40\": 68, \"4\": 2, \"5\": 16, \"44\": 14, \"50\": 2, \"51\": 2, \"9\": 2, \"19\": 7, \"13\": 1, \"22\": 2, \"14\": 1, \"45\": 1, \"21\": 1}, \"6\": {\"6\": 28, \"38\": 2, \"30\": 7, \"27\": 6, \"42\": 6, \"26\": 1, \"47\": 3, \"23\": 2, \"20\": 4, \"48\": 4, \"18\": 5, \"1\": 5, \"54\": 5, \"36\": 4, \"25\": 3, \"8\": 22, \"17\": 6, \"45\": 2, \"50\": 4, \"9\": 1, \"55\": 1, \"49\": 1, \"7\": 3, \"2\": 1, \"14\": 1, \"21\": 1}, \"51\": {\"6\": 6, \"51\": 55, \"8\": 10, \"25\": 2, \"20\": 12, \"52\": 2, \"21\": 18, \"53\": 3, \"50\": 3, \"36\": 1, \"10\": 2, \"55\": 1, \"17\": 2, \"24\": 1, \"13\": 5, \"16\": 4, \"23\": 3, \"37\": 1, \"41\": 1, \"42\": 1, \"14\": 3, \"18\": 1, \"43\": 3, \"27\": 1, \"12\": 1}, \"36\": {\"56\": 6, \"36\": 42, \"35\": 2, \"23\": 1, \"54\": 12, \"47\": 14, \"43\": 3, \"34\": 1, \"48\": 1, \"1\": 1, \"3\": 2, \"13\": 1, \"45\": 1, \"57\": 2, \"46\": 2, \"20\": 1}}}, \"per_domain_accuracy\": {\"O_50\": {\"accuracy\": 0.8630208333333333, \"source?\": true}, \"O_14\": {\"accuracy\": 0.8354166666666667, \"source?\": true}, \"O_32\": {\"accuracy\": 0.8213541666666667, \"source?\": true}, \"O_44\": {\"accuracy\": 0.7276041666666667, \"source?\": true}, \"O_8\": {\"accuracy\": 0.8072916666666666, \"source?\": true}, \"O_20\": {\"accuracy\": 0.7309895833333333, \"source?\": true}, \"O_38\": {\"accuracy\": 0.8682291666666667, \"source?\": true}, \"O_26\": {\"accuracy\": 0.6356770833333333, \"source?\": true}, \"C_4\": {\"accuracy\": 0.6206439393939394, \"source?\": false}, \"C_2\": {\"accuracy\": 0.6155196629213483, \"source?\": false}, \"C_3\": {\"accuracy\": 0.6294642857142857, \"source?\": false}, \"C_1\": {\"accuracy\": 0.645777027027027, \"source?\": false}, \"C_5\": {\"accuracy\": 0.5995111731843575, \"source?\": false}}}, \"history\": {\"epoch_indices\": [1, 2, 3, 4, 5, 6, 7, 8, 9, 10], \"train_label_loss\": [1.053074660183241, 0.9086582116782665, 0.8096032858537954, 0.6902880851046316, 0.5899866064755424, 0.5350523042536918, 0.49684370923898225, 0.47090569044369096, 0.4480325230707725, 0.4279392542072206], \"source_val_label_loss\": [4.194638729095459, 0.8555365204811096, 0.7987680435180664, 0.6040875911712646, 0.556195080280304, 0.5794394016265869, 0.49958091974258423, 0.4798722267150879, 0.44789883494377136, 0.4668782651424408], \"target_val_label_loss\": [204.73818969726562, 223.91067504882812, 181.1776885986328, 189.37315368652344, 135.7412109375, 132.63377380371094, 148.7205047607422, 129.32693481445312, 190.74319458007812, 213.39459228515625], \"source_val_acc_label\": [0.5342447916666667, 0.679296875, 0.6996744791666667, 0.7776692708333334, 0.7947591145833334, 0.7861979166666667, 0.8172526041666667, 0.8232096354166667, 0.83564453125, 0.82890625], \"target_val_acc_label\": [0.45821428571428574, 0.51525, 0.5576428571428571, 0.5660714285714286, 0.6072142857142857, 0.6222857142857143, 0.5944285714285714, 0.61925, 0.5833214285714285, 0.5558571428571428]}, \"dataset_metrics\": {\"source\": {\"train\": {\"n_unique_x\": 179200, \"n_unique_y\": 16, \"n_batch/episode\": 6720}, \"val\": {\"n_unique_x\": 38400, \"n_unique_y\": 16, \"n_batch/episode\": 960}, \"test\": {\"n_unique_x\": 38400, \"n_unique_y\": 16, \"n_batch/episode\": 960}}, \"target\": {\"train\": {\"n_unique_x\": 175197, \"n_unique_y\": 58, \"n_batch/episode\": 6309}, \"val\": {\"n_unique_x\": 37166, \"n_unique_y\": 58, \"n_batch/episode\": 875}, \"test\": {\"n_unique_x\": 37642, \"n_unique_y\": 58, \"n_batch/episode\": 890}}}}'"
      ]
     },
     "execution_count": 29,
     "metadata": {},
     "output_type": "execute_result"
    }
   ],
   "source": [
    "json.dumps(experiment)"
   ]
  }
 ],
 "metadata": {
  "celltoolbar": "Tags",
  "kernelspec": {
   "display_name": "Python 3 (ipykernel)",
   "language": "python",
   "name": "python3"
  },
  "language_info": {
   "codemirror_mode": {
    "name": "ipython",
    "version": 3
   },
   "file_extension": ".py",
   "mimetype": "text/x-python",
   "name": "python",
   "nbconvert_exporter": "python",
   "pygments_lexer": "ipython3",
   "version": "3.8.12"
  },
  "papermill": {
   "default_parameters": {},
   "duration": 1851.82864,
   "end_time": "2022-03-28T06:28:23.031621",
   "environment_variables": {},
   "exception": null,
   "input_path": "/root/csc500-main/csc500-notebooks/templates/tl_ptn_template.ipynb",
   "output_path": "trial.ipynb",
   "parameters": {
    "parameters": {
     "BEST_MODEL_PATH": "./best_model.pth",
     "NUM_LOGS_PER_EPOCH": 10,
     "criteria_for_best": "target_accuracy",
     "dataset_seed": 500,
     "datasets": [
      {
       "domain_prefix": "C_",
       "domains": [
        1,
        2,
        3,
        4,
        5
       ],
       "episode_transforms": [],
       "labels": [
        "1-10.",
        "1-11.",
        "1-15.",
        "1-16.",
        "1-17.",
        "1-18.",
        "1-19.",
        "10-4.",
        "10-7.",
        "11-1.",
        "11-14.",
        "11-17.",
        "11-20.",
        "11-7.",
        "13-20.",
        "13-8.",
        "14-10.",
        "14-11.",
        "14-14.",
        "14-7.",
        "15-1.",
        "15-20.",
        "16-1.",
        "16-16.",
        "17-10.",
        "17-11.",
        "17-2.",
        "19-1.",
        "19-16.",
        "19-19.",
        "19-20.",
        "19-3.",
        "2-10.",
        "2-11.",
        "2-17.",
        "2-18.",
        "2-20.",
        "2-3.",
        "2-4.",
        "2-5.",
        "2-6.",
        "2-7.",
        "2-8.",
        "3-13.",
        "3-18.",
        "3-3.",
        "4-1.",
        "4-10.",
        "4-11.",
        "4-19.",
        "5-5.",
        "6-15.",
        "7-10.",
        "7-14.",
        "8-18.",
        "8-20.",
        "8-3.",
        "8-8."
       ],
       "num_examples_per_domain_per_label": -1,
       "pickle_path": "/root/csc500-main/datasets/cores.stratified_ds.2022A.pkl",
       "source_or_target_dataset": "target",
       "x_transforms": [
        "unit_mag",
        "jitter_256_1",
        "lowpass_+/-10MHz",
        "take_200"
       ]
      },
      {
       "domain_prefix": "O_",
       "domains": [
        32,
        38,
        8,
        44,
        14,
        50,
        20,
        26
       ],
       "episode_transforms": [],
       "labels": [
        "3123D52",
        "3123D65",
        "3123D79",
        "3123D80",
        "3123D54",
        "3123D70",
        "3123D7B",
        "3123D89",
        "3123D58",
        "3123D76",
        "3123D7D",
        "3123EFE",
        "3123D64",
        "3123D78",
        "3123D7E",
        "3124E4A"
       ],
       "num_examples_per_domain_per_label": 2000,
       "pickle_path": "/root/csc500-main/datasets/oracle.Run1_framed_2000Examples_stratified_ds.2022A.pkl",
       "source_or_target_dataset": "source",
       "x_transforms": [
        "unit_mag",
        "jitter_256_1",
        "take_200",
        "resample_20Msps_to_25Msps"
       ]
      }
     ],
     "device": "cuda",
     "experiment_name": "tl_3-jitter1v2:oracle.run1.framed -> cores",
     "lr": 0.0001,
     "n_epoch": 50,
     "n_query": 2,
     "n_shot": 3,
     "n_way": 16,
     "patience": 3,
     "seed": 500,
     "test_k_factor": 2,
     "torch_default_dtype": "torch.float32",
     "train_k_factor": 3,
     "val_k_factor": 2,
     "x_net": [
      {
       "class": "nnReshape",
       "kargs": {
        "shape": [
         -1,
         1,
         2,
         256
        ]
       }
      },
      {
       "class": "Conv2d",
       "kargs": {
        "bias": false,
        "in_channels": 1,
        "kernel_size": [
         1,
         7
        ],
        "out_channels": 256,
        "padding": [
         0,
         3
        ]
       }
      },
      {
       "class": "ReLU",
       "kargs": {
        "inplace": true
       }
      },
      {
       "class": "BatchNorm2d",
       "kargs": {
        "num_features": 256
       }
      },
      {
       "class": "Conv2d",
       "kargs": {
        "bias": true,
        "in_channels": 256,
        "kernel_size": [
         2,
         7
        ],
        "out_channels": 80,
        "padding": [
         0,
         3
        ]
       }
      },
      {
       "class": "ReLU",
       "kargs": {
        "inplace": true
       }
      },
      {
       "class": "BatchNorm2d",
       "kargs": {
        "num_features": 80
       }
      },
      {
       "class": "Flatten",
       "kargs": {}
      },
      {
       "class": "Linear",
       "kargs": {
        "in_features": 20480,
        "out_features": 256
       }
      },
      {
       "class": "ReLU",
       "kargs": {
        "inplace": true
       }
      },
      {
       "class": "BatchNorm1d",
       "kargs": {
        "num_features": 256
       }
      },
      {
       "class": "Linear",
       "kargs": {
        "in_features": 256,
        "out_features": 256
       }
      }
     ],
     "x_shape": [
      2,
      256
     ]
    }
   },
   "start_time": "2022-03-28T05:57:31.202981",
   "version": "2.3.4"
  }
 },
 "nbformat": 4,
 "nbformat_minor": 5
}