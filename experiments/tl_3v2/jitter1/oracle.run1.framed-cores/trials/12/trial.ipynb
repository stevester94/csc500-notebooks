{
 "cells": [
  {
   "cell_type": "markdown",
   "id": "9fea5f46",
   "metadata": {
    "papermill": {
     "duration": 0.028418,
     "end_time": "2022-03-28T05:44:50.211483",
     "exception": false,
     "start_time": "2022-03-28T05:44:50.183065",
     "status": "completed"
    },
    "tags": []
   },
   "source": [
    "# Transfer Learning Template"
   ]
  },
  {
   "cell_type": "code",
   "execution_count": 1,
   "id": "0902182a",
   "metadata": {
    "execution": {
     "iopub.execute_input": "2022-03-28T05:44:50.273615Z",
     "iopub.status.busy": "2022-03-28T05:44:50.272763Z",
     "iopub.status.idle": "2022-03-28T05:44:52.128799Z",
     "shell.execute_reply": "2022-03-28T05:44:52.128345Z"
    },
    "papermill": {
     "duration": 1.895022,
     "end_time": "2022-03-28T05:44:52.128902",
     "exception": false,
     "start_time": "2022-03-28T05:44:50.233880",
     "status": "completed"
    },
    "tags": []
   },
   "outputs": [],
   "source": [
    "%load_ext autoreload\n",
    "%autoreload 2\n",
    "%matplotlib inline\n",
    "\n",
    "    \n",
    "import os, json, sys, time, random\n",
    "import numpy as np\n",
    "import torch\n",
    "from torch.optim import Adam\n",
    "from  easydict import EasyDict\n",
    "import matplotlib.pyplot as plt\n",
    "\n",
    "from steves_models.steves_ptn import Steves_Prototypical_Network\n",
    "\n",
    "from steves_utils.lazy_iterable_wrapper import Lazy_Iterable_Wrapper\n",
    "from steves_utils.iterable_aggregator import Iterable_Aggregator\n",
    "from steves_utils.ptn_train_eval_test_jig import  PTN_Train_Eval_Test_Jig\n",
    "from steves_utils.torch_sequential_builder import build_sequential\n",
    "from steves_utils.torch_utils import get_dataset_metrics, ptn_confusion_by_domain_over_dataloader\n",
    "from steves_utils.utils_v2 import (per_domain_accuracy_from_confusion, get_datasets_base_path)\n",
    "from steves_utils.PTN.utils import independent_accuracy_assesment\n",
    "\n",
    "from torch.utils.data import DataLoader\n",
    "\n",
    "from steves_utils.stratified_dataset.episodic_accessor import Episodic_Accessor_Factory\n",
    "\n",
    "from steves_utils.ptn_do_report import (\n",
    "    get_loss_curve,\n",
    "    get_results_table,\n",
    "    get_parameters_table,\n",
    "    get_domain_accuracies,\n",
    ")\n",
    "\n",
    "from steves_utils.transforms import get_chained_transform"
   ]
  },
  {
   "cell_type": "markdown",
   "id": "41c840b4",
   "metadata": {
    "papermill": {
     "duration": 0.019232,
     "end_time": "2022-03-28T05:44:52.168221",
     "exception": false,
     "start_time": "2022-03-28T05:44:52.148989",
     "status": "completed"
    },
    "tags": []
   },
   "source": [
    "# Allowed Parameters\n",
    "These are allowed parameters, not defaults\n",
    "Each of these values need to be present in the injected parameters (the notebook will raise an exception if they are not present)\n",
    "\n",
    "Papermill uses the cell tag \"parameters\" to inject the real parameters below this cell.\n",
    "Enable tags to see what I mean"
   ]
  },
  {
   "cell_type": "code",
   "execution_count": 2,
   "id": "fd44eb83",
   "metadata": {
    "execution": {
     "iopub.execute_input": "2022-03-28T05:44:52.211058Z",
     "iopub.status.busy": "2022-03-28T05:44:52.210680Z",
     "iopub.status.idle": "2022-03-28T05:44:52.232663Z",
     "shell.execute_reply": "2022-03-28T05:44:52.232296Z"
    },
    "papermill": {
     "duration": 0.045273,
     "end_time": "2022-03-28T05:44:52.232733",
     "exception": false,
     "start_time": "2022-03-28T05:44:52.187460",
     "status": "completed"
    },
    "tags": []
   },
   "outputs": [],
   "source": [
    "required_parameters = {\n",
    "    \"experiment_name\",\n",
    "    \"lr\",\n",
    "    \"device\",\n",
    "    \"seed\",\n",
    "    \"dataset_seed\",\n",
    "    \"n_shot\",\n",
    "    \"n_query\",\n",
    "    \"n_way\",\n",
    "    \"train_k_factor\",\n",
    "    \"val_k_factor\",\n",
    "    \"test_k_factor\",\n",
    "    \"n_epoch\",\n",
    "    \"patience\",\n",
    "    \"criteria_for_best\",\n",
    "    \"x_net\",\n",
    "    \"datasets\",\n",
    "    \"torch_default_dtype\",\n",
    "    \"NUM_LOGS_PER_EPOCH\",\n",
    "    \"BEST_MODEL_PATH\",\n",
    "    \"x_shape\",\n",
    "}"
   ]
  },
  {
   "cell_type": "code",
   "execution_count": 3,
   "id": "fa3f0049",
   "metadata": {
    "execution": {
     "iopub.execute_input": "2022-03-28T05:44:52.285350Z",
     "iopub.status.busy": "2022-03-28T05:44:52.273806Z",
     "iopub.status.idle": "2022-03-28T05:44:52.307009Z",
     "shell.execute_reply": "2022-03-28T05:44:52.306644Z"
    },
    "papermill": {
     "duration": 0.054597,
     "end_time": "2022-03-28T05:44:52.307078",
     "exception": false,
     "start_time": "2022-03-28T05:44:52.252481",
     "status": "completed"
    },
    "tags": [
     "parameters"
    ]
   },
   "outputs": [],
   "source": [
    "from steves_utils.CORES.utils import (\n",
    "    ALL_NODES,\n",
    "    ALL_NODES_MINIMUM_1000_EXAMPLES,\n",
    "    ALL_DAYS\n",
    ")\n",
    "\n",
    "from steves_utils.ORACLE.utils_v2 import (\n",
    "    ALL_DISTANCES_FEET_NARROWED,\n",
    "    ALL_RUNS,\n",
    "    ALL_SERIAL_NUMBERS,\n",
    ")\n",
    "\n",
    "standalone_parameters = {}\n",
    "standalone_parameters[\"experiment_name\"] = \"STANDALONE PTN\"\n",
    "standalone_parameters[\"lr\"] = 0.001\n",
    "standalone_parameters[\"device\"] = \"cuda\"\n",
    "\n",
    "standalone_parameters[\"seed\"] = 1337\n",
    "standalone_parameters[\"dataset_seed\"] = 1337\n",
    "\n",
    "standalone_parameters[\"n_way\"] = 8\n",
    "standalone_parameters[\"n_shot\"] = 3\n",
    "standalone_parameters[\"n_query\"]  = 2\n",
    "standalone_parameters[\"train_k_factor\"] = 1\n",
    "standalone_parameters[\"val_k_factor\"] = 2\n",
    "standalone_parameters[\"test_k_factor\"] = 2\n",
    "\n",
    "\n",
    "standalone_parameters[\"n_epoch\"] = 50\n",
    "\n",
    "standalone_parameters[\"patience\"] = 10\n",
    "standalone_parameters[\"criteria_for_best\"] = \"source_loss\"\n",
    "\n",
    "standalone_parameters[\"datasets\"] = [\n",
    "    {\n",
    "        \"labels\": ALL_SERIAL_NUMBERS,\n",
    "        \"domains\": ALL_DISTANCES_FEET_NARROWED,\n",
    "        \"num_examples_per_domain_per_label\": 100,\n",
    "        \"pickle_path\": os.path.join(get_datasets_base_path(), \"oracle.Run1_framed_2000Examples_stratified_ds.2022A.pkl\"),\n",
    "        \"source_or_target_dataset\": \"source\",\n",
    "        \"x_transforms\": [\"unit_mag\", \"minus_two\"],\n",
    "        \"episode_transforms\": [],\n",
    "        \"domain_prefix\": \"ORACLE_\"\n",
    "    },\n",
    "    {\n",
    "        \"labels\": ALL_NODES,\n",
    "        \"domains\": ALL_DAYS,\n",
    "        \"num_examples_per_domain_per_label\": 100,\n",
    "        \"pickle_path\": os.path.join(get_datasets_base_path(), \"cores.stratified_ds.2022A.pkl\"),\n",
    "        \"source_or_target_dataset\": \"target\",\n",
    "        \"x_transforms\": [\"unit_power\", \"times_zero\"],\n",
    "        \"episode_transforms\": [],\n",
    "        \"domain_prefix\": \"CORES_\"\n",
    "    }   \n",
    "]\n",
    "\n",
    "standalone_parameters[\"torch_default_dtype\"] = \"torch.float32\" \n",
    "\n",
    "\n",
    "\n",
    "standalone_parameters[\"x_net\"] =     [\n",
    "    {\"class\": \"nnReshape\", \"kargs\": {\"shape\":[-1, 1, 2, 256]}},\n",
    "    {\"class\": \"Conv2d\", \"kargs\": { \"in_channels\":1, \"out_channels\":256, \"kernel_size\":(1,7), \"bias\":False, \"padding\":(0,3), },},\n",
    "    {\"class\": \"ReLU\", \"kargs\": {\"inplace\": True}},\n",
    "    {\"class\": \"BatchNorm2d\", \"kargs\": {\"num_features\":256}},\n",
    "\n",
    "    {\"class\": \"Conv2d\", \"kargs\": { \"in_channels\":256, \"out_channels\":80, \"kernel_size\":(2,7), \"bias\":True, \"padding\":(0,3), },},\n",
    "    {\"class\": \"ReLU\", \"kargs\": {\"inplace\": True}},\n",
    "    {\"class\": \"BatchNorm2d\", \"kargs\": {\"num_features\":80}},\n",
    "    {\"class\": \"Flatten\", \"kargs\": {}},\n",
    "\n",
    "    {\"class\": \"Linear\", \"kargs\": {\"in_features\": 80*256, \"out_features\": 256}}, # 80 units per IQ pair\n",
    "    {\"class\": \"ReLU\", \"kargs\": {\"inplace\": True}},\n",
    "    {\"class\": \"BatchNorm1d\", \"kargs\": {\"num_features\":256}},\n",
    "\n",
    "    {\"class\": \"Linear\", \"kargs\": {\"in_features\": 256, \"out_features\": 256}},\n",
    "]\n",
    "\n",
    "# Parameters relevant to results\n",
    "# These parameters will basically never need to change\n",
    "standalone_parameters[\"NUM_LOGS_PER_EPOCH\"] = 10\n",
    "standalone_parameters[\"BEST_MODEL_PATH\"] = \"./best_model.pth\"\n",
    "\n",
    "\n",
    "\n",
    "\n"
   ]
  },
  {
   "cell_type": "code",
   "execution_count": 4,
   "id": "cdde50aa",
   "metadata": {
    "execution": {
     "iopub.execute_input": "2022-03-28T05:44:52.361139Z",
     "iopub.status.busy": "2022-03-28T05:44:52.360700Z",
     "iopub.status.idle": "2022-03-28T05:44:52.381918Z",
     "shell.execute_reply": "2022-03-28T05:44:52.381553Z"
    },
    "papermill": {
     "duration": 0.055384,
     "end_time": "2022-03-28T05:44:52.381988",
     "exception": false,
     "start_time": "2022-03-28T05:44:52.326604",
     "status": "completed"
    },
    "tags": [
     "injected-parameters"
    ]
   },
   "outputs": [],
   "source": [
    "# Parameters\n",
    "parameters = {\n",
    "    \"experiment_name\": \"tl_3-jitter1v2:oracle.run1.framed -> cores\",\n",
    "    \"device\": \"cuda\",\n",
    "    \"lr\": 0.0001,\n",
    "    \"x_shape\": [2, 256],\n",
    "    \"n_shot\": 3,\n",
    "    \"n_query\": 2,\n",
    "    \"train_k_factor\": 3,\n",
    "    \"val_k_factor\": 2,\n",
    "    \"test_k_factor\": 2,\n",
    "    \"torch_default_dtype\": \"torch.float32\",\n",
    "    \"n_epoch\": 50,\n",
    "    \"patience\": 3,\n",
    "    \"criteria_for_best\": \"target_accuracy\",\n",
    "    \"x_net\": [\n",
    "        {\"class\": \"nnReshape\", \"kargs\": {\"shape\": [-1, 1, 2, 256]}},\n",
    "        {\n",
    "            \"class\": \"Conv2d\",\n",
    "            \"kargs\": {\n",
    "                \"in_channels\": 1,\n",
    "                \"out_channels\": 256,\n",
    "                \"kernel_size\": [1, 7],\n",
    "                \"bias\": False,\n",
    "                \"padding\": [0, 3],\n",
    "            },\n",
    "        },\n",
    "        {\"class\": \"ReLU\", \"kargs\": {\"inplace\": True}},\n",
    "        {\"class\": \"BatchNorm2d\", \"kargs\": {\"num_features\": 256}},\n",
    "        {\n",
    "            \"class\": \"Conv2d\",\n",
    "            \"kargs\": {\n",
    "                \"in_channels\": 256,\n",
    "                \"out_channels\": 80,\n",
    "                \"kernel_size\": [2, 7],\n",
    "                \"bias\": True,\n",
    "                \"padding\": [0, 3],\n",
    "            },\n",
    "        },\n",
    "        {\"class\": \"ReLU\", \"kargs\": {\"inplace\": True}},\n",
    "        {\"class\": \"BatchNorm2d\", \"kargs\": {\"num_features\": 80}},\n",
    "        {\"class\": \"Flatten\", \"kargs\": {}},\n",
    "        {\"class\": \"Linear\", \"kargs\": {\"in_features\": 20480, \"out_features\": 256}},\n",
    "        {\"class\": \"ReLU\", \"kargs\": {\"inplace\": True}},\n",
    "        {\"class\": \"BatchNorm1d\", \"kargs\": {\"num_features\": 256}},\n",
    "        {\"class\": \"Linear\", \"kargs\": {\"in_features\": 256, \"out_features\": 256}},\n",
    "    ],\n",
    "    \"NUM_LOGS_PER_EPOCH\": 10,\n",
    "    \"BEST_MODEL_PATH\": \"./best_model.pth\",\n",
    "    \"n_way\": 16,\n",
    "    \"datasets\": [\n",
    "        {\n",
    "            \"labels\": [\n",
    "                \"1-10.\",\n",
    "                \"1-11.\",\n",
    "                \"1-15.\",\n",
    "                \"1-16.\",\n",
    "                \"1-17.\",\n",
    "                \"1-18.\",\n",
    "                \"1-19.\",\n",
    "                \"10-4.\",\n",
    "                \"10-7.\",\n",
    "                \"11-1.\",\n",
    "                \"11-14.\",\n",
    "                \"11-17.\",\n",
    "                \"11-20.\",\n",
    "                \"11-7.\",\n",
    "                \"13-20.\",\n",
    "                \"13-8.\",\n",
    "                \"14-10.\",\n",
    "                \"14-11.\",\n",
    "                \"14-14.\",\n",
    "                \"14-7.\",\n",
    "                \"15-1.\",\n",
    "                \"15-20.\",\n",
    "                \"16-1.\",\n",
    "                \"16-16.\",\n",
    "                \"17-10.\",\n",
    "                \"17-11.\",\n",
    "                \"17-2.\",\n",
    "                \"19-1.\",\n",
    "                \"19-16.\",\n",
    "                \"19-19.\",\n",
    "                \"19-20.\",\n",
    "                \"19-3.\",\n",
    "                \"2-10.\",\n",
    "                \"2-11.\",\n",
    "                \"2-17.\",\n",
    "                \"2-18.\",\n",
    "                \"2-20.\",\n",
    "                \"2-3.\",\n",
    "                \"2-4.\",\n",
    "                \"2-5.\",\n",
    "                \"2-6.\",\n",
    "                \"2-7.\",\n",
    "                \"2-8.\",\n",
    "                \"3-13.\",\n",
    "                \"3-18.\",\n",
    "                \"3-3.\",\n",
    "                \"4-1.\",\n",
    "                \"4-10.\",\n",
    "                \"4-11.\",\n",
    "                \"4-19.\",\n",
    "                \"5-5.\",\n",
    "                \"6-15.\",\n",
    "                \"7-10.\",\n",
    "                \"7-14.\",\n",
    "                \"8-18.\",\n",
    "                \"8-20.\",\n",
    "                \"8-3.\",\n",
    "                \"8-8.\",\n",
    "            ],\n",
    "            \"domains\": [1, 2, 3, 4, 5],\n",
    "            \"num_examples_per_domain_per_label\": -1,\n",
    "            \"pickle_path\": \"/root/csc500-main/datasets/cores.stratified_ds.2022A.pkl\",\n",
    "            \"source_or_target_dataset\": \"target\",\n",
    "            \"x_transforms\": [\n",
    "                \"unit_power\",\n",
    "                \"jitter_256_1\",\n",
    "                \"lowpass_+/-10MHz\",\n",
    "                \"take_200\",\n",
    "            ],\n",
    "            \"episode_transforms\": [],\n",
    "            \"domain_prefix\": \"C_\",\n",
    "        },\n",
    "        {\n",
    "            \"labels\": [\n",
    "                \"3123D52\",\n",
    "                \"3123D65\",\n",
    "                \"3123D79\",\n",
    "                \"3123D80\",\n",
    "                \"3123D54\",\n",
    "                \"3123D70\",\n",
    "                \"3123D7B\",\n",
    "                \"3123D89\",\n",
    "                \"3123D58\",\n",
    "                \"3123D76\",\n",
    "                \"3123D7D\",\n",
    "                \"3123EFE\",\n",
    "                \"3123D64\",\n",
    "                \"3123D78\",\n",
    "                \"3123D7E\",\n",
    "                \"3124E4A\",\n",
    "            ],\n",
    "            \"domains\": [32, 38, 8, 44, 14, 50, 20, 26],\n",
    "            \"num_examples_per_domain_per_label\": 2000,\n",
    "            \"pickle_path\": \"/root/csc500-main/datasets/oracle.Run1_framed_2000Examples_stratified_ds.2022A.pkl\",\n",
    "            \"source_or_target_dataset\": \"source\",\n",
    "            \"x_transforms\": [\n",
    "                \"unit_power\",\n",
    "                \"jitter_256_1\",\n",
    "                \"take_200\",\n",
    "                \"resample_20Msps_to_25Msps\",\n",
    "            ],\n",
    "            \"episode_transforms\": [],\n",
    "            \"domain_prefix\": \"O_\",\n",
    "        },\n",
    "    ],\n",
    "    \"seed\": 500,\n",
    "    \"dataset_seed\": 500,\n",
    "}\n"
   ]
  },
  {
   "cell_type": "code",
   "execution_count": 5,
   "id": "8fa1cc33",
   "metadata": {
    "execution": {
     "iopub.execute_input": "2022-03-28T05:44:52.427252Z",
     "iopub.status.busy": "2022-03-28T05:44:52.426700Z",
     "iopub.status.idle": "2022-03-28T05:44:52.449050Z",
     "shell.execute_reply": "2022-03-28T05:44:52.448664Z"
    },
    "papermill": {
     "duration": 0.047018,
     "end_time": "2022-03-28T05:44:52.449130",
     "exception": false,
     "start_time": "2022-03-28T05:44:52.402112",
     "status": "completed"
    },
    "tags": []
   },
   "outputs": [],
   "source": [
    "# Set this to True if you want to run this template directly\n",
    "STANDALONE = False\n",
    "if STANDALONE:\n",
    "    print(\"parameters not injected, running with standalone_parameters\")\n",
    "    parameters = standalone_parameters\n",
    "\n",
    "if not 'parameters' in locals() and not 'parameters' in globals():\n",
    "    raise Exception(\"Parameter injection failed\")\n",
    "\n",
    "#Use an easy dict for all the parameters\n",
    "p = EasyDict(parameters)\n",
    "\n",
    "if \"x_shape\" not in p:\n",
    "    p.x_shape = [2,256] # Default to this if we dont supply x_shape\n",
    "\n",
    "\n",
    "supplied_keys = set(p.keys())\n",
    "\n",
    "if  supplied_keys != required_parameters:\n",
    "    print(\"Parameters are incorrect\")\n",
    "    if len(supplied_keys - required_parameters)>0: print(\"Shouldn't have:\", str(supplied_keys - required_parameters))\n",
    "    if len(required_parameters - supplied_keys)>0: print(\"Need to have:\", str(required_parameters - supplied_keys))\n",
    "    raise RuntimeError(\"Parameters are incorrect\")"
   ]
  },
  {
   "cell_type": "code",
   "execution_count": 6,
   "id": "3a028d58",
   "metadata": {
    "execution": {
     "iopub.execute_input": "2022-03-28T05:44:52.492656Z",
     "iopub.status.busy": "2022-03-28T05:44:52.492208Z",
     "iopub.status.idle": "2022-03-28T05:44:52.517372Z",
     "shell.execute_reply": "2022-03-28T05:44:52.516565Z"
    },
    "papermill": {
     "duration": 0.048541,
     "end_time": "2022-03-28T05:44:52.517526",
     "exception": false,
     "start_time": "2022-03-28T05:44:52.468985",
     "status": "completed"
    },
    "tags": []
   },
   "outputs": [],
   "source": [
    "###################################\n",
    "# Set the RNGs and make it all deterministic\n",
    "###################################\n",
    "np.random.seed(p.seed)\n",
    "random.seed(p.seed)\n",
    "torch.manual_seed(p.seed)\n",
    "\n",
    "torch.use_deterministic_algorithms(True) "
   ]
  },
  {
   "cell_type": "code",
   "execution_count": 7,
   "id": "b691acf6",
   "metadata": {
    "execution": {
     "iopub.execute_input": "2022-03-28T05:44:52.566661Z",
     "iopub.status.busy": "2022-03-28T05:44:52.566296Z",
     "iopub.status.idle": "2022-03-28T05:44:52.590623Z",
     "shell.execute_reply": "2022-03-28T05:44:52.589818Z"
    },
    "papermill": {
     "duration": 0.04752,
     "end_time": "2022-03-28T05:44:52.590777",
     "exception": false,
     "start_time": "2022-03-28T05:44:52.543257",
     "status": "completed"
    },
    "tags": []
   },
   "outputs": [],
   "source": [
    "###########################################\n",
    "# The stratified datasets honor this\n",
    "###########################################\n",
    "torch.set_default_dtype(eval(p.torch_default_dtype))"
   ]
  },
  {
   "cell_type": "code",
   "execution_count": 8,
   "id": "b5fba671",
   "metadata": {
    "execution": {
     "iopub.execute_input": "2022-03-28T05:44:52.643364Z",
     "iopub.status.busy": "2022-03-28T05:44:52.639748Z",
     "iopub.status.idle": "2022-03-28T05:44:52.693477Z",
     "shell.execute_reply": "2022-03-28T05:44:52.694150Z"
    },
    "papermill": {
     "duration": 0.078472,
     "end_time": "2022-03-28T05:44:52.694329",
     "exception": false,
     "start_time": "2022-03-28T05:44:52.615857",
     "status": "completed"
    },
    "tags": []
   },
   "outputs": [],
   "source": [
    "###################################\n",
    "# Build the network(s)\n",
    "# Note: It's critical to do this AFTER setting the RNG\n",
    "###################################\n",
    "x_net = build_sequential(p.x_net)"
   ]
  },
  {
   "cell_type": "code",
   "execution_count": 9,
   "id": "5d7e61cc",
   "metadata": {
    "execution": {
     "iopub.execute_input": "2022-03-28T05:44:52.743678Z",
     "iopub.status.busy": "2022-03-28T05:44:52.743299Z",
     "iopub.status.idle": "2022-03-28T05:44:52.767109Z",
     "shell.execute_reply": "2022-03-28T05:44:52.766301Z"
    },
    "papermill": {
     "duration": 0.047396,
     "end_time": "2022-03-28T05:44:52.767262",
     "exception": false,
     "start_time": "2022-03-28T05:44:52.719866",
     "status": "completed"
    },
    "tags": []
   },
   "outputs": [],
   "source": [
    "start_time_secs = time.time()"
   ]
  },
  {
   "cell_type": "code",
   "execution_count": 10,
   "id": "c6b67dfd",
   "metadata": {
    "execution": {
     "iopub.execute_input": "2022-03-28T05:44:52.819424Z",
     "iopub.status.busy": "2022-03-28T05:44:52.819046Z",
     "iopub.status.idle": "2022-03-28T05:44:52.840135Z",
     "shell.execute_reply": "2022-03-28T05:44:52.840804Z"
    },
    "papermill": {
     "duration": 0.046575,
     "end_time": "2022-03-28T05:44:52.840985",
     "exception": false,
     "start_time": "2022-03-28T05:44:52.794410",
     "status": "completed"
    },
    "tags": []
   },
   "outputs": [],
   "source": [
    "p.domains_source = []\n",
    "p.domains_target = []\n",
    "\n",
    "\n",
    "train_original_source = []\n",
    "val_original_source   = []\n",
    "test_original_source  = []\n",
    "\n",
    "train_original_target = []\n",
    "val_original_target   = []\n",
    "test_original_target  = []"
   ]
  },
  {
   "cell_type": "code",
   "execution_count": 11,
   "id": "e3d9c3d3",
   "metadata": {
    "execution": {
     "iopub.execute_input": "2022-03-28T05:44:52.894197Z",
     "iopub.status.busy": "2022-03-28T05:44:52.893831Z",
     "iopub.status.idle": "2022-03-28T05:44:52.915869Z",
     "shell.execute_reply": "2022-03-28T05:44:52.915041Z"
    },
    "papermill": {
     "duration": 0.046048,
     "end_time": "2022-03-28T05:44:52.916023",
     "exception": false,
     "start_time": "2022-03-28T05:44:52.869975",
     "status": "completed"
    },
    "tags": []
   },
   "outputs": [],
   "source": [
    "# global_x_transform_func = lambda x: normalize(x.to(torch.get_default_dtype()), \"unit_power\") # unit_power, unit_mag\n",
    "# global_x_transform_func = lambda x: normalize(x, \"unit_power\") # unit_power, unit_mag"
   ]
  },
  {
   "cell_type": "code",
   "execution_count": 12,
   "id": "acb78fd2",
   "metadata": {
    "execution": {
     "iopub.execute_input": "2022-03-28T05:44:52.978445Z",
     "iopub.status.busy": "2022-03-28T05:44:52.977595Z",
     "iopub.status.idle": "2022-03-28T05:44:52.997159Z",
     "shell.execute_reply": "2022-03-28T05:44:52.996350Z"
    },
    "papermill": {
     "duration": 0.052287,
     "end_time": "2022-03-28T05:44:52.997313",
     "exception": false,
     "start_time": "2022-03-28T05:44:52.945026",
     "status": "completed"
    },
    "tags": []
   },
   "outputs": [],
   "source": [
    "def add_dataset(\n",
    "    labels,\n",
    "    domains,\n",
    "    pickle_path,\n",
    "    x_transforms,\n",
    "    episode_transforms,\n",
    "    domain_prefix,\n",
    "    num_examples_per_domain_per_label,\n",
    "    source_or_target_dataset:str,\n",
    "    iterator_seed=p.seed,\n",
    "    dataset_seed=p.dataset_seed,\n",
    "    n_shot=p.n_shot,\n",
    "    n_way=p.n_way,\n",
    "    n_query=p.n_query,\n",
    "    train_val_test_k_factors=(p.train_k_factor,p.val_k_factor,p.test_k_factor),\n",
    "):\n",
    "   \n",
    "    if x_transforms == []: x_transform = None\n",
    "    else: x_transform = get_chained_transform(x_transforms)\n",
    "    \n",
    "    if episode_transforms == []: episode_transform = None\n",
    "    else: raise Exception(\"episode_transforms not implemented\")\n",
    "    \n",
    "    episode_transform = lambda tup, _prefix=domain_prefix: (_prefix + str(tup[0]), tup[1])\n",
    "\n",
    "\n",
    "    eaf = Episodic_Accessor_Factory(\n",
    "        labels=labels,\n",
    "        domains=domains,\n",
    "        num_examples_per_domain_per_label=num_examples_per_domain_per_label,\n",
    "        iterator_seed=iterator_seed,\n",
    "        dataset_seed=dataset_seed,\n",
    "        n_shot=n_shot,\n",
    "        n_way=n_way,\n",
    "        n_query=n_query,\n",
    "        train_val_test_k_factors=train_val_test_k_factors,\n",
    "        pickle_path=pickle_path,\n",
    "        x_transform_func=x_transform,\n",
    "    )\n",
    "\n",
    "    train, val, test = eaf.get_train(), eaf.get_val(), eaf.get_test()\n",
    "    train = Lazy_Iterable_Wrapper(train, episode_transform)\n",
    "    val = Lazy_Iterable_Wrapper(val, episode_transform)\n",
    "    test = Lazy_Iterable_Wrapper(test, episode_transform)\n",
    "\n",
    "    if source_or_target_dataset==\"source\":\n",
    "        train_original_source.append(train)\n",
    "        val_original_source.append(val)\n",
    "        test_original_source.append(test)\n",
    "\n",
    "        p.domains_source.extend(\n",
    "            [domain_prefix + str(u) for u in domains]\n",
    "        )\n",
    "    elif source_or_target_dataset==\"target\":\n",
    "        train_original_target.append(train)\n",
    "        val_original_target.append(val)\n",
    "        test_original_target.append(test)\n",
    "        p.domains_target.extend(\n",
    "            [domain_prefix + str(u) for u in domains]\n",
    "        )\n",
    "    else:\n",
    "        raise Exception(f\"invalid source_or_target_dataset: {source_or_target_dataset}\")\n",
    "    "
   ]
  },
  {
   "cell_type": "code",
   "execution_count": 13,
   "id": "fe266617",
   "metadata": {
    "execution": {
     "iopub.execute_input": "2022-03-28T05:44:53.050732Z",
     "iopub.status.busy": "2022-03-28T05:44:53.049831Z",
     "iopub.status.idle": "2022-03-28T05:46:43.918983Z",
     "shell.execute_reply": "2022-03-28T05:46:43.918191Z"
    },
    "papermill": {
     "duration": 110.892903,
     "end_time": "2022-03-28T05:46:43.919169",
     "exception": false,
     "start_time": "2022-03-28T05:44:53.026266",
     "status": "completed"
    },
    "tags": []
   },
   "outputs": [],
   "source": [
    "for ds in p.datasets:\n",
    "    add_dataset(**ds)"
   ]
  },
  {
   "cell_type": "code",
   "execution_count": 14,
   "id": "b90d65ac",
   "metadata": {
    "execution": {
     "iopub.execute_input": "2022-03-28T05:46:43.969996Z",
     "iopub.status.busy": "2022-03-28T05:46:43.969618Z",
     "iopub.status.idle": "2022-03-28T05:46:43.992604Z",
     "shell.execute_reply": "2022-03-28T05:46:43.991788Z"
    },
    "papermill": {
     "duration": 0.046796,
     "end_time": "2022-03-28T05:46:43.992793",
     "exception": false,
     "start_time": "2022-03-28T05:46:43.945997",
     "status": "completed"
    },
    "tags": []
   },
   "outputs": [],
   "source": [
    "# from steves_utils.CORES.utils import (\n",
    "#     ALL_NODES,\n",
    "#     ALL_NODES_MINIMUM_1000_EXAMPLES,\n",
    "#     ALL_DAYS\n",
    "# )\n",
    "\n",
    "# add_dataset(\n",
    "#     labels=ALL_NODES,\n",
    "#     domains = ALL_DAYS,\n",
    "#     num_examples_per_domain_per_label=100,\n",
    "#     pickle_path=os.path.join(get_datasets_base_path(), \"cores.stratified_ds.2022A.pkl\"),\n",
    "#     source_or_target_dataset=\"target\",\n",
    "#     x_transform_func=global_x_transform_func,\n",
    "#     domain_modifier=lambda u: f\"cores_{u}\"\n",
    "# )"
   ]
  },
  {
   "cell_type": "code",
   "execution_count": 15,
   "id": "76db484d",
   "metadata": {
    "execution": {
     "iopub.execute_input": "2022-03-28T05:46:44.048096Z",
     "iopub.status.busy": "2022-03-28T05:46:44.044342Z",
     "iopub.status.idle": "2022-03-28T05:46:44.064272Z",
     "shell.execute_reply": "2022-03-28T05:46:44.064946Z"
    },
    "papermill": {
     "duration": 0.044705,
     "end_time": "2022-03-28T05:46:44.065140",
     "exception": false,
     "start_time": "2022-03-28T05:46:44.020435",
     "status": "completed"
    },
    "tags": []
   },
   "outputs": [],
   "source": [
    "# from steves_utils.ORACLE.utils_v2 import (\n",
    "#     ALL_DISTANCES_FEET,\n",
    "#     ALL_RUNS,\n",
    "#     ALL_SERIAL_NUMBERS,\n",
    "# )\n",
    "\n",
    "\n",
    "# add_dataset(\n",
    "#     labels=ALL_SERIAL_NUMBERS,\n",
    "#     domains = list(set(ALL_DISTANCES_FEET) - {2,62}),\n",
    "#     num_examples_per_domain_per_label=100,\n",
    "#     pickle_path=os.path.join(get_datasets_base_path(), \"oracle.Run2_framed_2000Examples_stratified_ds.2022A.pkl\"),\n",
    "#     source_or_target_dataset=\"source\",\n",
    "#     x_transform_func=global_x_transform_func,\n",
    "#     domain_modifier=lambda u: f\"oracle1_{u}\"\n",
    "# )\n"
   ]
  },
  {
   "cell_type": "code",
   "execution_count": 16,
   "id": "97dea9d2",
   "metadata": {
    "execution": {
     "iopub.execute_input": "2022-03-28T05:46:44.122227Z",
     "iopub.status.busy": "2022-03-28T05:46:44.121146Z",
     "iopub.status.idle": "2022-03-28T05:46:44.142833Z",
     "shell.execute_reply": "2022-03-28T05:46:44.142023Z"
    },
    "papermill": {
     "duration": 0.046036,
     "end_time": "2022-03-28T05:46:44.142995",
     "exception": false,
     "start_time": "2022-03-28T05:46:44.096959",
     "status": "completed"
    },
    "tags": []
   },
   "outputs": [],
   "source": [
    "# from steves_utils.ORACLE.utils_v2 import (\n",
    "#     ALL_DISTANCES_FEET,\n",
    "#     ALL_RUNS,\n",
    "#     ALL_SERIAL_NUMBERS,\n",
    "# )\n",
    "\n",
    "\n",
    "# add_dataset(\n",
    "#     labels=ALL_SERIAL_NUMBERS,\n",
    "#     domains = list(set(ALL_DISTANCES_FEET) - {2,62,56}),\n",
    "#     num_examples_per_domain_per_label=100,\n",
    "#     pickle_path=os.path.join(get_datasets_base_path(), \"oracle.Run2_framed_2000Examples_stratified_ds.2022A.pkl\"),\n",
    "#     source_or_target_dataset=\"source\",\n",
    "#     x_transform_func=global_x_transform_func,\n",
    "#     domain_modifier=lambda u: f\"oracle2_{u}\"\n",
    "# )"
   ]
  },
  {
   "cell_type": "code",
   "execution_count": 17,
   "id": "6f289866",
   "metadata": {
    "execution": {
     "iopub.execute_input": "2022-03-28T05:46:44.197017Z",
     "iopub.status.busy": "2022-03-28T05:46:44.196408Z",
     "iopub.status.idle": "2022-03-28T05:46:44.218452Z",
     "shell.execute_reply": "2022-03-28T05:46:44.217701Z"
    },
    "papermill": {
     "duration": 0.046657,
     "end_time": "2022-03-28T05:46:44.218624",
     "exception": false,
     "start_time": "2022-03-28T05:46:44.171967",
     "status": "completed"
    },
    "tags": []
   },
   "outputs": [],
   "source": [
    "# add_dataset(\n",
    "#     labels=list(range(19)),\n",
    "#     domains = [0,1,2],\n",
    "#     num_examples_per_domain_per_label=100,\n",
    "#     pickle_path=os.path.join(get_datasets_base_path(), \"metehan.stratified_ds.2022A.pkl\"),\n",
    "#     source_or_target_dataset=\"target\",\n",
    "#     x_transform_func=global_x_transform_func,\n",
    "#     domain_modifier=lambda u: f\"met_{u}\"\n",
    "# )"
   ]
  },
  {
   "cell_type": "code",
   "execution_count": 18,
   "id": "86a863c3",
   "metadata": {
    "execution": {
     "iopub.execute_input": "2022-03-28T05:46:44.270742Z",
     "iopub.status.busy": "2022-03-28T05:46:44.270356Z",
     "iopub.status.idle": "2022-03-28T05:46:44.287372Z",
     "shell.execute_reply": "2022-03-28T05:46:44.286611Z"
    },
    "papermill": {
     "duration": 0.041377,
     "end_time": "2022-03-28T05:46:44.287572",
     "exception": false,
     "start_time": "2022-03-28T05:46:44.246195",
     "status": "completed"
    },
    "tags": []
   },
   "outputs": [],
   "source": [
    "# # from steves_utils.wisig.utils import (\n",
    "# #     ALL_NODES_MINIMUM_100_EXAMPLES,\n",
    "# #     ALL_NODES_MINIMUM_500_EXAMPLES,\n",
    "# #     ALL_NODES_MINIMUM_1000_EXAMPLES,\n",
    "# #     ALL_DAYS\n",
    "# # )\n",
    "\n",
    "# import steves_utils.wisig.utils as wisig\n",
    "\n",
    "\n",
    "# add_dataset(\n",
    "#     labels=wisig.ALL_NODES_MINIMUM_100_EXAMPLES,\n",
    "#     domains = wisig.ALL_DAYS,\n",
    "#     num_examples_per_domain_per_label=100,\n",
    "#     pickle_path=os.path.join(get_datasets_base_path(), \"wisig.node3-19.stratified_ds.2022A.pkl\"),\n",
    "#     source_or_target_dataset=\"target\",\n",
    "#     x_transform_func=global_x_transform_func,\n",
    "#     domain_modifier=lambda u: f\"wisig_{u}\"\n",
    "# )"
   ]
  },
  {
   "cell_type": "code",
   "execution_count": 19,
   "id": "fd5442bc",
   "metadata": {
    "execution": {
     "iopub.execute_input": "2022-03-28T05:46:44.345426Z",
     "iopub.status.busy": "2022-03-28T05:46:44.345027Z",
     "iopub.status.idle": "2022-03-28T05:46:44.368068Z",
     "shell.execute_reply": "2022-03-28T05:46:44.367218Z"
    },
    "papermill": {
     "duration": 0.050879,
     "end_time": "2022-03-28T05:46:44.368248",
     "exception": false,
     "start_time": "2022-03-28T05:46:44.317369",
     "status": "completed"
    },
    "tags": []
   },
   "outputs": [],
   "source": [
    "###################################\n",
    "# Build the dataset\n",
    "###################################\n",
    "train_original_source = Iterable_Aggregator(train_original_source, p.seed)\n",
    "val_original_source = Iterable_Aggregator(val_original_source, p.seed)\n",
    "test_original_source = Iterable_Aggregator(test_original_source, p.seed)\n",
    "\n",
    "\n",
    "train_original_target = Iterable_Aggregator(train_original_target, p.seed)\n",
    "val_original_target = Iterable_Aggregator(val_original_target, p.seed)\n",
    "test_original_target = Iterable_Aggregator(test_original_target, p.seed)\n",
    "\n",
    "# For CNN We only use X and Y. And we only train on the source.\n",
    "# Properly form the data using a transform lambda and Lazy_Iterable_Wrapper. Finally wrap them in a dataloader\n",
    "\n",
    "transform_lambda = lambda ex: ex[1] # Original is (<domain>, <episode>) so we strip down to episode only\n",
    "\n",
    "train_processed_source = Lazy_Iterable_Wrapper(train_original_source, transform_lambda)\n",
    "val_processed_source   = Lazy_Iterable_Wrapper(val_original_source, transform_lambda)\n",
    "test_processed_source  = Lazy_Iterable_Wrapper(test_original_source, transform_lambda)\n",
    "\n",
    "train_processed_target = Lazy_Iterable_Wrapper(train_original_target, transform_lambda)\n",
    "val_processed_target   = Lazy_Iterable_Wrapper(val_original_target, transform_lambda)\n",
    "test_processed_target  = Lazy_Iterable_Wrapper(test_original_target, transform_lambda)\n",
    "\n",
    "datasets = EasyDict({\n",
    "    \"source\": {\n",
    "        \"original\": {\"train\":train_original_source, \"val\":val_original_source, \"test\":test_original_source},\n",
    "        \"processed\": {\"train\":train_processed_source, \"val\":val_processed_source, \"test\":test_processed_source}\n",
    "    },\n",
    "    \"target\": {\n",
    "        \"original\": {\"train\":train_original_target, \"val\":val_original_target, \"test\":test_original_target},\n",
    "        \"processed\": {\"train\":train_processed_target, \"val\":val_processed_target, \"test\":test_processed_target}\n",
    "    },\n",
    "})"
   ]
  },
  {
   "cell_type": "code",
   "execution_count": 20,
   "id": "5b3c01fc",
   "metadata": {
    "execution": {
     "iopub.execute_input": "2022-03-28T05:46:44.423970Z",
     "iopub.status.busy": "2022-03-28T05:46:44.423575Z",
     "iopub.status.idle": "2022-03-28T05:46:58.568026Z",
     "shell.execute_reply": "2022-03-28T05:46:58.568718Z"
    },
    "papermill": {
     "duration": 14.171583,
     "end_time": "2022-03-28T05:46:58.568937",
     "exception": false,
     "start_time": "2022-03-28T05:46:44.397354",
     "status": "completed"
    },
    "tags": []
   },
   "outputs": [
    {
     "name": "stdout",
     "output_type": "stream",
     "text": [
      "{'O_44', 'O_50', 'O_14', 'O_38', 'O_32', 'O_26', 'O_8', 'O_20'}\n"
     ]
    },
    {
     "name": "stdout",
     "output_type": "stream",
     "text": [
      "{'C_2', 'C_4', 'C_3', 'C_5', 'C_1'}\n"
     ]
    },
    {
     "name": "stdout",
     "output_type": "stream",
     "text": [
      "tensor([[[0., 0., 0.,  ..., 0., 0., 0.],\n",
      "         [0., 0., 0.,  ..., 0., 0., 0.]],\n",
      "\n",
      "        [[0., 0., 0.,  ..., 0., 0., 0.],\n",
      "         [0., 0., 0.,  ..., 0., 0., 0.]],\n",
      "\n",
      "        [[0., 0., 0.,  ..., 0., 0., 0.],\n",
      "         [0., 0., 0.,  ..., 0., 0., 0.]],\n",
      "\n",
      "        ...,\n",
      "\n",
      "        [[0., 0., 0.,  ..., 0., 0., 0.],\n",
      "         [0., 0., 0.,  ..., 0., 0., 0.]],\n",
      "\n",
      "        [[0., 0., 0.,  ..., 0., 0., 0.],\n",
      "         [0., 0., 0.,  ..., 0., 0., 0.]],\n",
      "\n",
      "        [[0., 0., 0.,  ..., 0., 0., 0.],\n",
      "         [0., 0., 0.,  ..., 0., 0., 0.]]])\n"
     ]
    }
   ],
   "source": [
    "from steves_utils.transforms import get_average_magnitude, get_average_power\n",
    "\n",
    "print(set([u for u,_ in val_original_source]))\n",
    "print(set([u for u,_ in val_original_target]))\n",
    "\n",
    "s_x, s_y, q_x, q_y, _ = next(iter(train_processed_source))\n",
    "print(s_x)\n",
    "\n",
    "# for ds in [\n",
    "#     train_processed_source,\n",
    "#     val_processed_source,\n",
    "#     test_processed_source,\n",
    "#     train_processed_target,\n",
    "#     val_processed_target,\n",
    "#     test_processed_target\n",
    "# ]:\n",
    "#     for s_x, s_y, q_x, q_y, _ in ds:\n",
    "#         for X in (s_x, q_x):\n",
    "#             for x in X:\n",
    "#                 assert np.isclose(get_average_magnitude(x.numpy()), 1.0)\n",
    "#                 assert np.isclose(get_average_power(x.numpy()), 1.0)\n",
    "                "
   ]
  },
  {
   "cell_type": "code",
   "execution_count": 21,
   "id": "bbdacba1",
   "metadata": {
    "execution": {
     "iopub.execute_input": "2022-03-28T05:46:58.627781Z",
     "iopub.status.busy": "2022-03-28T05:46:58.627119Z",
     "iopub.status.idle": "2022-03-28T05:46:58.779840Z",
     "shell.execute_reply": "2022-03-28T05:46:58.780168Z"
    },
    "papermill": {
     "duration": 0.184745,
     "end_time": "2022-03-28T05:46:58.780317",
     "exception": false,
     "start_time": "2022-03-28T05:46:58.595572",
     "status": "completed"
    },
    "tags": []
   },
   "outputs": [
    {
     "name": "stdout",
     "output_type": "stream",
     "text": [
      "(2, 256)\n"
     ]
    }
   ],
   "source": [
    "###################################\n",
    "# Build the model\n",
    "###################################\n",
    "# easfsl only wants a tuple for the shape\n",
    "model = Steves_Prototypical_Network(x_net, device=p.device, x_shape=tuple(p.x_shape))\n",
    "optimizer = Adam(params=model.parameters(), lr=p.lr)"
   ]
  },
  {
   "cell_type": "code",
   "execution_count": 22,
   "id": "22b39ac5",
   "metadata": {
    "execution": {
     "iopub.execute_input": "2022-03-28T05:46:58.831135Z",
     "iopub.status.busy": "2022-03-28T05:46:58.830765Z",
     "iopub.status.idle": "2022-03-28T06:04:32.964678Z",
     "shell.execute_reply": "2022-03-28T06:04:32.964332Z"
    },
    "papermill": {
     "duration": 1054.160861,
     "end_time": "2022-03-28T06:04:32.964764",
     "exception": false,
     "start_time": "2022-03-28T05:46:58.803903",
     "status": "completed"
    },
    "tags": []
   },
   "outputs": [
    {
     "name": "stdout",
     "output_type": "stream",
     "text": [
      "epoch: 1, [batch: 1 / 6720], examples_per_second: 33.1142, train_label_loss: 2.8557, \n"
     ]
    },
    {
     "name": "stdout",
     "output_type": "stream",
     "text": [
      "epoch: 1, [batch: 672 / 6720], examples_per_second: 3758.7632, train_label_loss: 1.5293, \n"
     ]
    },
    {
     "name": "stdout",
     "output_type": "stream",
     "text": [
      "epoch: 1, [batch: 1344 / 6720], examples_per_second: 3752.5936, train_label_loss: 0.9680, \n"
     ]
    },
    {
     "name": "stdout",
     "output_type": "stream",
     "text": [
      "epoch: 1, [batch: 2016 / 6720], examples_per_second: 3816.6498, train_label_loss: 0.9967, \n"
     ]
    },
    {
     "name": "stdout",
     "output_type": "stream",
     "text": [
      "epoch: 1, [batch: 2688 / 6720], examples_per_second: 3786.7507, train_label_loss: 0.8024, \n"
     ]
    },
    {
     "name": "stdout",
     "output_type": "stream",
     "text": [
      "epoch: 1, [batch: 3360 / 6720], examples_per_second: 3794.7820, train_label_loss: 0.7960, \n"
     ]
    },
    {
     "name": "stdout",
     "output_type": "stream",
     "text": [
      "epoch: 1, [batch: 4032 / 6720], examples_per_second: 3778.0298, train_label_loss: 0.8878, \n"
     ]
    },
    {
     "name": "stdout",
     "output_type": "stream",
     "text": [
      "epoch: 1, [batch: 4704 / 6720], examples_per_second: 3824.1474, train_label_loss: 0.9240, \n"
     ]
    },
    {
     "name": "stdout",
     "output_type": "stream",
     "text": [
      "epoch: 1, [batch: 5376 / 6720], examples_per_second: 4011.1180, train_label_loss: 0.7969, \n"
     ]
    },
    {
     "name": "stdout",
     "output_type": "stream",
     "text": [
      "epoch: 1, [batch: 6048 / 6720], examples_per_second: 4310.8571, train_label_loss: 1.1906, \n"
     ]
    },
    {
     "name": "stdout",
     "output_type": "stream",
     "text": [
      "=============================================================\n",
      "epoch: 1, source_val_acc_label: 0.5831, target_val_acc_label: 0.4940, source_val_label_loss: 1.9344, target_val_label_loss: 222.2028, \n",
      "=============================================================\n"
     ]
    },
    {
     "name": "stdout",
     "output_type": "stream",
     "text": [
      "New best\n"
     ]
    },
    {
     "name": "stdout",
     "output_type": "stream",
     "text": [
      "epoch: 2, [batch: 1 / 6720], examples_per_second: 4.4260, train_label_loss: 1.2093, \n"
     ]
    },
    {
     "name": "stdout",
     "output_type": "stream",
     "text": [
      "epoch: 2, [batch: 672 / 6720], examples_per_second: 3804.8453, train_label_loss: 1.1961, \n"
     ]
    },
    {
     "name": "stdout",
     "output_type": "stream",
     "text": [
      "epoch: 2, [batch: 1344 / 6720], examples_per_second: 3815.9896, train_label_loss: 1.0828, \n"
     ]
    },
    {
     "name": "stdout",
     "output_type": "stream",
     "text": [
      "epoch: 2, [batch: 2016 / 6720], examples_per_second: 3893.8033, train_label_loss: 0.9432, \n"
     ]
    },
    {
     "name": "stdout",
     "output_type": "stream",
     "text": [
      "epoch: 2, [batch: 2688 / 6720], examples_per_second: 3818.4342, train_label_loss: 0.6439, \n"
     ]
    },
    {
     "name": "stdout",
     "output_type": "stream",
     "text": [
      "epoch: 2, [batch: 3360 / 6720], examples_per_second: 3929.5970, train_label_loss: 0.8490, \n"
     ]
    },
    {
     "name": "stdout",
     "output_type": "stream",
     "text": [
      "epoch: 2, [batch: 4032 / 6720], examples_per_second: 3988.1476, train_label_loss: 1.0941, \n"
     ]
    },
    {
     "name": "stdout",
     "output_type": "stream",
     "text": [
      "epoch: 2, [batch: 4704 / 6720], examples_per_second: 3980.7788, train_label_loss: 0.7058, \n"
     ]
    },
    {
     "name": "stdout",
     "output_type": "stream",
     "text": [
      "epoch: 2, [batch: 5376 / 6720], examples_per_second: 4020.1636, train_label_loss: 1.0048, \n"
     ]
    },
    {
     "name": "stdout",
     "output_type": "stream",
     "text": [
      "epoch: 2, [batch: 6048 / 6720], examples_per_second: 4254.7817, train_label_loss: 0.9151, \n"
     ]
    },
    {
     "name": "stdout",
     "output_type": "stream",
     "text": [
      "=============================================================\n",
      "epoch: 2, source_val_acc_label: 0.6824, target_val_acc_label: 0.6196, source_val_label_loss: 0.8575, target_val_label_loss: 145.5394, \n",
      "=============================================================\n"
     ]
    },
    {
     "name": "stdout",
     "output_type": "stream",
     "text": [
      "New best\n"
     ]
    },
    {
     "name": "stdout",
     "output_type": "stream",
     "text": [
      "epoch: 3, [batch: 1 / 6720], examples_per_second: 4.5040, train_label_loss: 1.3037, \n"
     ]
    },
    {
     "name": "stdout",
     "output_type": "stream",
     "text": [
      "epoch: 3, [batch: 672 / 6720], examples_per_second: 3757.8458, train_label_loss: 0.5849, \n"
     ]
    },
    {
     "name": "stdout",
     "output_type": "stream",
     "text": [
      "epoch: 3, [batch: 1344 / 6720], examples_per_second: 3966.5374, train_label_loss: 0.5100, \n"
     ]
    },
    {
     "name": "stdout",
     "output_type": "stream",
     "text": [
      "epoch: 3, [batch: 2016 / 6720], examples_per_second: 3817.4521, train_label_loss: 0.5576, \n"
     ]
    },
    {
     "name": "stdout",
     "output_type": "stream",
     "text": [
      "epoch: 3, [batch: 2688 / 6720], examples_per_second: 3878.3597, train_label_loss: 0.6203, \n"
     ]
    },
    {
     "name": "stdout",
     "output_type": "stream",
     "text": [
      "epoch: 3, [batch: 3360 / 6720], examples_per_second: 3994.6888, train_label_loss: 0.7106, \n"
     ]
    },
    {
     "name": "stdout",
     "output_type": "stream",
     "text": [
      "epoch: 3, [batch: 4032 / 6720], examples_per_second: 4042.5202, train_label_loss: 0.8298, \n"
     ]
    },
    {
     "name": "stdout",
     "output_type": "stream",
     "text": [
      "epoch: 3, [batch: 4704 / 6720], examples_per_second: 4020.1190, train_label_loss: 0.8830, \n"
     ]
    },
    {
     "name": "stdout",
     "output_type": "stream",
     "text": [
      "epoch: 3, [batch: 5376 / 6720], examples_per_second: 3847.9457, train_label_loss: 1.1165, \n"
     ]
    },
    {
     "name": "stdout",
     "output_type": "stream",
     "text": [
      "epoch: 3, [batch: 6048 / 6720], examples_per_second: 4060.8218, train_label_loss: 0.8593, \n"
     ]
    },
    {
     "name": "stdout",
     "output_type": "stream",
     "text": [
      "=============================================================\n",
      "epoch: 3, source_val_acc_label: 0.7053, target_val_acc_label: 0.7332, source_val_label_loss: 0.7853, target_val_label_loss: 44.9030, \n",
      "=============================================================\n"
     ]
    },
    {
     "name": "stdout",
     "output_type": "stream",
     "text": [
      "New best\n"
     ]
    },
    {
     "name": "stdout",
     "output_type": "stream",
     "text": [
      "epoch: 4, [batch: 1 / 6720], examples_per_second: 4.5652, train_label_loss: 0.7157, \n"
     ]
    },
    {
     "name": "stdout",
     "output_type": "stream",
     "text": [
      "epoch: 4, [batch: 672 / 6720], examples_per_second: 4190.7896, train_label_loss: 0.5871, \n"
     ]
    },
    {
     "name": "stdout",
     "output_type": "stream",
     "text": [
      "epoch: 4, [batch: 1344 / 6720], examples_per_second: 4275.5619, train_label_loss: 0.5177, \n"
     ]
    },
    {
     "name": "stdout",
     "output_type": "stream",
     "text": [
      "epoch: 4, [batch: 2016 / 6720], examples_per_second: 4170.4946, train_label_loss: 0.5683, \n"
     ]
    },
    {
     "name": "stdout",
     "output_type": "stream",
     "text": [
      "epoch: 4, [batch: 2688 / 6720], examples_per_second: 4257.8219, train_label_loss: 1.0961, \n"
     ]
    },
    {
     "name": "stdout",
     "output_type": "stream",
     "text": [
      "epoch: 4, [batch: 3360 / 6720], examples_per_second: 4684.3501, train_label_loss: 1.1655, \n"
     ]
    },
    {
     "name": "stdout",
     "output_type": "stream",
     "text": [
      "epoch: 4, [batch: 4032 / 6720], examples_per_second: 5242.3822, train_label_loss: 0.9737, \n"
     ]
    },
    {
     "name": "stdout",
     "output_type": "stream",
     "text": [
      "epoch: 4, [batch: 4704 / 6720], examples_per_second: 5128.4948, train_label_loss: 1.2885, \n"
     ]
    },
    {
     "name": "stdout",
     "output_type": "stream",
     "text": [
      "epoch: 4, [batch: 5376 / 6720], examples_per_second: 5128.0943, train_label_loss: 0.6595, \n"
     ]
    },
    {
     "name": "stdout",
     "output_type": "stream",
     "text": [
      "epoch: 4, [batch: 6048 / 6720], examples_per_second: 5165.6038, train_label_loss: 0.5678, \n"
     ]
    },
    {
     "name": "stdout",
     "output_type": "stream",
     "text": [
      "=============================================================\n",
      "epoch: 4, source_val_acc_label: 0.7772, target_val_acc_label: 0.7269, source_val_label_loss: 0.6082, target_val_label_loss: 67.4268, \n",
      "=============================================================\n"
     ]
    },
    {
     "name": "stdout",
     "output_type": "stream",
     "text": [
      "epoch: 5, [batch: 1 / 6720], examples_per_second: 5.3155, train_label_loss: 0.5387, \n"
     ]
    },
    {
     "name": "stdout",
     "output_type": "stream",
     "text": [
      "epoch: 5, [batch: 672 / 6720], examples_per_second: 4888.9648, train_label_loss: 0.7930, \n"
     ]
    },
    {
     "name": "stdout",
     "output_type": "stream",
     "text": [
      "epoch: 5, [batch: 1344 / 6720], examples_per_second: 5087.5403, train_label_loss: 0.4259, \n"
     ]
    },
    {
     "name": "stdout",
     "output_type": "stream",
     "text": [
      "epoch: 5, [batch: 2016 / 6720], examples_per_second: 5243.3418, train_label_loss: 0.1224, \n"
     ]
    },
    {
     "name": "stdout",
     "output_type": "stream",
     "text": [
      "epoch: 5, [batch: 2688 / 6720], examples_per_second: 5167.9279, train_label_loss: 0.3901, \n"
     ]
    },
    {
     "name": "stdout",
     "output_type": "stream",
     "text": [
      "epoch: 5, [batch: 3360 / 6720], examples_per_second: 4959.9624, train_label_loss: 0.4025, \n"
     ]
    },
    {
     "name": "stdout",
     "output_type": "stream",
     "text": [
      "epoch: 5, [batch: 4032 / 6720], examples_per_second: 5265.7959, train_label_loss: 0.5406, \n"
     ]
    },
    {
     "name": "stdout",
     "output_type": "stream",
     "text": [
      "epoch: 5, [batch: 4704 / 6720], examples_per_second: 5394.2268, train_label_loss: 0.3736, \n"
     ]
    },
    {
     "name": "stdout",
     "output_type": "stream",
     "text": [
      "epoch: 5, [batch: 5376 / 6720], examples_per_second: 5508.9229, train_label_loss: 0.4307, \n"
     ]
    },
    {
     "name": "stdout",
     "output_type": "stream",
     "text": [
      "epoch: 5, [batch: 6048 / 6720], examples_per_second: 5523.9099, train_label_loss: 0.7800, \n"
     ]
    },
    {
     "name": "stdout",
     "output_type": "stream",
     "text": [
      "=============================================================\n",
      "epoch: 5, source_val_acc_label: 0.7863, target_val_acc_label: 0.7034, source_val_label_loss: 0.5814, target_val_label_loss: 96.6149, \n",
      "=============================================================\n"
     ]
    },
    {
     "name": "stdout",
     "output_type": "stream",
     "text": [
      "epoch: 6, [batch: 1 / 6720], examples_per_second: 5.4162, train_label_loss: 1.0988, \n"
     ]
    },
    {
     "name": "stdout",
     "output_type": "stream",
     "text": [
      "epoch: 6, [batch: 672 / 6720], examples_per_second: 4812.1706, train_label_loss: 0.3200, \n"
     ]
    },
    {
     "name": "stdout",
     "output_type": "stream",
     "text": [
      "epoch: 6, [batch: 1344 / 6720], examples_per_second: 4971.1149, train_label_loss: 0.5318, \n"
     ]
    },
    {
     "name": "stdout",
     "output_type": "stream",
     "text": [
      "epoch: 6, [batch: 2016 / 6720], examples_per_second: 4162.9642, train_label_loss: 0.6501, \n"
     ]
    },
    {
     "name": "stdout",
     "output_type": "stream",
     "text": [
      "epoch: 6, [batch: 2688 / 6720], examples_per_second: 3793.5496, train_label_loss: 0.3668, \n"
     ]
    },
    {
     "name": "stdout",
     "output_type": "stream",
     "text": [
      "epoch: 6, [batch: 3360 / 6720], examples_per_second: 3823.0903, train_label_loss: 0.6667, \n"
     ]
    },
    {
     "name": "stdout",
     "output_type": "stream",
     "text": [
      "epoch: 6, [batch: 4032 / 6720], examples_per_second: 3846.2980, train_label_loss: 0.5297, \n"
     ]
    },
    {
     "name": "stdout",
     "output_type": "stream",
     "text": [
      "epoch: 6, [batch: 4704 / 6720], examples_per_second: 3937.7680, train_label_loss: 0.7073, \n"
     ]
    },
    {
     "name": "stdout",
     "output_type": "stream",
     "text": [
      "epoch: 6, [batch: 5376 / 6720], examples_per_second: 3882.6333, train_label_loss: 0.2141, \n"
     ]
    },
    {
     "name": "stdout",
     "output_type": "stream",
     "text": [
      "epoch: 6, [batch: 6048 / 6720], examples_per_second: 3804.1802, train_label_loss: 0.6989, \n"
     ]
    },
    {
     "name": "stdout",
     "output_type": "stream",
     "text": [
      "=============================================================\n",
      "epoch: 6, source_val_acc_label: 0.7820, target_val_acc_label: 0.6953, source_val_label_loss: 0.5846, target_val_label_loss: 89.5732, \n",
      "=============================================================\n"
     ]
    },
    {
     "name": "stdout",
     "output_type": "stream",
     "text": [
      "epoch: 7, [batch: 1 / 6720], examples_per_second: 3.9537, train_label_loss: 0.4530, \n"
     ]
    },
    {
     "name": "stdout",
     "output_type": "stream",
     "text": [
      "epoch: 7, [batch: 672 / 6720], examples_per_second: 4066.3400, train_label_loss: 0.5961, \n"
     ]
    },
    {
     "name": "stdout",
     "output_type": "stream",
     "text": [
      "epoch: 7, [batch: 1344 / 6720], examples_per_second: 4483.8606, train_label_loss: 1.0129, \n"
     ]
    },
    {
     "name": "stdout",
     "output_type": "stream",
     "text": [
      "epoch: 7, [batch: 2016 / 6720], examples_per_second: 4172.5668, train_label_loss: 0.4734, \n"
     ]
    },
    {
     "name": "stdout",
     "output_type": "stream",
     "text": [
      "epoch: 7, [batch: 2688 / 6720], examples_per_second: 3830.8157, train_label_loss: 0.4403, \n"
     ]
    },
    {
     "name": "stdout",
     "output_type": "stream",
     "text": [
      "epoch: 7, [batch: 3360 / 6720], examples_per_second: 3891.6627, train_label_loss: 0.4494, \n"
     ]
    },
    {
     "name": "stdout",
     "output_type": "stream",
     "text": [
      "epoch: 7, [batch: 4032 / 6720], examples_per_second: 3990.3707, train_label_loss: 0.6819, \n"
     ]
    },
    {
     "name": "stdout",
     "output_type": "stream",
     "text": [
      "epoch: 7, [batch: 4704 / 6720], examples_per_second: 3950.6788, train_label_loss: 0.7513, \n"
     ]
    },
    {
     "name": "stdout",
     "output_type": "stream",
     "text": [
      "epoch: 7, [batch: 5376 / 6720], examples_per_second: 3956.0591, train_label_loss: 0.5038, \n"
     ]
    },
    {
     "name": "stdout",
     "output_type": "stream",
     "text": [
      "epoch: 7, [batch: 6048 / 6720], examples_per_second: 3910.9589, train_label_loss: 0.2183, \n"
     ]
    },
    {
     "name": "stdout",
     "output_type": "stream",
     "text": [
      "=============================================================\n",
      "epoch: 7, source_val_acc_label: 0.8202, target_val_acc_label: 0.6742, source_val_label_loss: 0.4982, target_val_label_loss: 138.0243, \n",
      "=============================================================\n"
     ]
    },
    {
     "name": "stdout",
     "output_type": "stream",
     "text": [
      "Patience (3) exhausted\n"
     ]
    }
   ],
   "source": [
    "###################################\n",
    "# train\n",
    "###################################\n",
    "jig = PTN_Train_Eval_Test_Jig(model, p.BEST_MODEL_PATH, p.device)\n",
    "\n",
    "jig.train(\n",
    "    train_iterable=datasets.source.processed.train,\n",
    "    source_val_iterable=datasets.source.processed.val,\n",
    "    target_val_iterable=datasets.target.processed.val,\n",
    "    num_epochs=p.n_epoch,\n",
    "    num_logs_per_epoch=p.NUM_LOGS_PER_EPOCH,\n",
    "    patience=p.patience,\n",
    "    optimizer=optimizer,\n",
    "    criteria_for_best=p.criteria_for_best,\n",
    ")"
   ]
  },
  {
   "cell_type": "code",
   "execution_count": 23,
   "id": "31e8fabf",
   "metadata": {
    "execution": {
     "iopub.execute_input": "2022-03-28T06:04:33.066902Z",
     "iopub.status.busy": "2022-03-28T06:04:33.066532Z",
     "iopub.status.idle": "2022-03-28T06:04:33.100500Z",
     "shell.execute_reply": "2022-03-28T06:04:33.100005Z"
    },
    "papermill": {
     "duration": 0.088103,
     "end_time": "2022-03-28T06:04:33.100609",
     "exception": false,
     "start_time": "2022-03-28T06:04:33.012506",
     "status": "completed"
    },
    "tags": []
   },
   "outputs": [],
   "source": [
    "total_experiment_time_secs = time.time() - start_time_secs"
   ]
  },
  {
   "cell_type": "code",
   "execution_count": 24,
   "id": "87b9595b",
   "metadata": {
    "execution": {
     "iopub.execute_input": "2022-03-28T06:04:33.212851Z",
     "iopub.status.busy": "2022-03-28T06:04:33.209819Z",
     "iopub.status.idle": "2022-03-28T06:07:15.369662Z",
     "shell.execute_reply": "2022-03-28T06:07:15.368930Z"
    },
    "papermill": {
     "duration": 162.216396,
     "end_time": "2022-03-28T06:07:15.369846",
     "exception": false,
     "start_time": "2022-03-28T06:04:33.153450",
     "status": "completed"
    },
    "tags": []
   },
   "outputs": [],
   "source": [
    "###################################\n",
    "# Evaluate the model\n",
    "###################################\n",
    "source_test_label_accuracy, source_test_label_loss = jig.test(datasets.source.processed.test)\n",
    "target_test_label_accuracy, target_test_label_loss = jig.test(datasets.target.processed.test)\n",
    "\n",
    "source_val_label_accuracy, source_val_label_loss = jig.test(datasets.source.processed.val)\n",
    "target_val_label_accuracy, target_val_label_loss = jig.test(datasets.target.processed.val)\n",
    "\n",
    "history = jig.get_history()\n",
    "\n",
    "total_epochs_trained = len(history[\"epoch_indices\"])\n",
    "\n",
    "val_dl = Iterable_Aggregator((datasets.source.original.val,datasets.target.original.val))\n",
    "\n",
    "confusion = ptn_confusion_by_domain_over_dataloader(model, p.device, val_dl)\n",
    "per_domain_accuracy = per_domain_accuracy_from_confusion(confusion)\n",
    "\n",
    "# Add a key to per_domain_accuracy for if it was a source domain\n",
    "for domain, accuracy in per_domain_accuracy.items():\n",
    "    per_domain_accuracy[domain] = {\n",
    "        \"accuracy\": accuracy,\n",
    "        \"source?\": domain in p.domains_source\n",
    "    }\n",
    "\n",
    "# Do an independent accuracy assesment JUST TO BE SURE!\n",
    "# _source_test_label_accuracy = independent_accuracy_assesment(model, datasets.source.processed.test, p.device)\n",
    "# _target_test_label_accuracy = independent_accuracy_assesment(model, datasets.target.processed.test, p.device)\n",
    "# _source_val_label_accuracy = independent_accuracy_assesment(model, datasets.source.processed.val, p.device)\n",
    "# _target_val_label_accuracy = independent_accuracy_assesment(model, datasets.target.processed.val, p.device)\n",
    "\n",
    "# assert(_source_test_label_accuracy == source_test_label_accuracy)\n",
    "# assert(_target_test_label_accuracy == target_test_label_accuracy)\n",
    "# assert(_source_val_label_accuracy == source_val_label_accuracy)\n",
    "# assert(_target_val_label_accuracy == target_val_label_accuracy)\n",
    "\n",
    "experiment = {\n",
    "    \"experiment_name\": p.experiment_name,\n",
    "    \"parameters\": dict(p),\n",
    "    \"results\": {\n",
    "        \"source_test_label_accuracy\": source_test_label_accuracy,\n",
    "        \"source_test_label_loss\": source_test_label_loss,\n",
    "        \"target_test_label_accuracy\": target_test_label_accuracy,\n",
    "        \"target_test_label_loss\": target_test_label_loss,\n",
    "        \"source_val_label_accuracy\": source_val_label_accuracy,\n",
    "        \"source_val_label_loss\": source_val_label_loss,\n",
    "        \"target_val_label_accuracy\": target_val_label_accuracy,\n",
    "        \"target_val_label_loss\": target_val_label_loss,\n",
    "        \"total_epochs_trained\": total_epochs_trained,\n",
    "        \"total_experiment_time_secs\": total_experiment_time_secs,\n",
    "        \"confusion\": confusion,\n",
    "        \"per_domain_accuracy\": per_domain_accuracy,\n",
    "    },\n",
    "    \"history\": history,\n",
    "    \"dataset_metrics\": get_dataset_metrics(datasets, \"ptn\"),\n",
    "}"
   ]
  },
  {
   "cell_type": "code",
   "execution_count": 25,
   "id": "54a21829",
   "metadata": {
    "execution": {
     "iopub.execute_input": "2022-03-28T06:07:15.470161Z",
     "iopub.status.busy": "2022-03-28T06:07:15.469795Z",
     "iopub.status.idle": "2022-03-28T06:07:15.682432Z",
     "shell.execute_reply": "2022-03-28T06:07:15.681924Z"
    },
    "papermill": {
     "duration": 0.260388,
     "end_time": "2022-03-28T06:07:15.682540",
     "exception": false,
     "start_time": "2022-03-28T06:07:15.422152",
     "status": "completed"
    },
    "tags": []
   },
   "outputs": [
    {
     "data": {
      "image/png": "[encoded data removed]",
      "text/plain": [
       "<Figure size 1080x504 with 1 Axes>"
      ]
     },
     "metadata": {
      "needs_background": "light"
     },
     "output_type": "display_data"
    }
   ],
   "source": [
    "ax = get_loss_curve(experiment)\n",
    "plt.show()"
   ]
  },
  {
   "cell_type": "code",
   "execution_count": 26,
   "id": "fd8a0f60",
   "metadata": {
    "execution": {
     "iopub.execute_input": "2022-03-28T06:07:15.778138Z",
     "iopub.status.busy": "2022-03-28T06:07:15.777776Z",
     "iopub.status.idle": "2022-03-28T06:07:16.090603Z",
     "shell.execute_reply": "2022-03-28T06:07:16.091260Z"
    },
    "papermill": {
     "duration": 0.360521,
     "end_time": "2022-03-28T06:07:16.091447",
     "exception": false,
     "start_time": "2022-03-28T06:07:15.730926",
     "status": "completed"
    },
    "tags": []
   },
   "outputs": [
    {
     "data": {
      "text/plain": [
       "<AxesSubplot:title={'center':'Results'}>"
      ]
     },
     "execution_count": 26,
     "metadata": {},
     "output_type": "execute_result"
    },
    {
     "data": {
      "image/png": "[encoded data removed]",
      "text/plain": [
       "<Figure size 1080x504 with 1 Axes>"
      ]
     },
     "metadata": {
      "needs_background": "light"
     },
     "output_type": "display_data"
    }
   ],
   "source": [
    "get_results_table(experiment)"
   ]
  },
  {
   "cell_type": "code",
   "execution_count": 27,
   "id": "cf8dc689",
   "metadata": {
    "execution": {
     "iopub.execute_input": "2022-03-28T06:07:16.193901Z",
     "iopub.status.busy": "2022-03-28T06:07:16.193534Z",
     "iopub.status.idle": "2022-03-28T06:07:16.430910Z",
     "shell.execute_reply": "2022-03-28T06:07:16.430101Z"
    },
    "papermill": {
     "duration": 0.286766,
     "end_time": "2022-03-28T06:07:16.431064",
     "exception": false,
     "start_time": "2022-03-28T06:07:16.144298",
     "status": "completed"
    },
    "tags": []
   },
   "outputs": [
    {
     "data": {
      "text/plain": [
       "<AxesSubplot:title={'center':'Per Domain Validation Accuracy'}, xlabel='domain'>"
      ]
     },
     "execution_count": 27,
     "metadata": {},
     "output_type": "execute_result"
    },
    {
     "data": {
      "image/png": "[encoded data removed]",
      "text/plain": [
       "<Figure size 1080x504 with 1 Axes>"
      ]
     },
     "metadata": {
      "needs_background": "light"
     },
     "output_type": "display_data"
    }
   ],
   "source": [
    "get_domain_accuracies(experiment)"
   ]
  },
  {
   "cell_type": "code",
   "execution_count": 28,
   "id": "a74ae082",
   "metadata": {
    "execution": {
     "iopub.execute_input": "2022-03-28T06:07:16.533066Z",
     "iopub.status.busy": "2022-03-28T06:07:16.532508Z",
     "iopub.status.idle": "2022-03-28T06:07:16.556066Z",
     "shell.execute_reply": "2022-03-28T06:07:16.555249Z"
    },
    "papermill": {
     "duration": 0.073468,
     "end_time": "2022-03-28T06:07:16.556219",
     "exception": false,
     "start_time": "2022-03-28T06:07:16.482751",
     "status": "completed"
    },
    "tags": []
   },
   "outputs": [
    {
     "name": "stdout",
     "output_type": "stream",
     "text": [
      "Source Test Label Accuracy: 0.7023111979166666 Target Test Label Accuracy: 0.7378511235955056\n",
      "Source Val Label Accuracy: 0.7053385416666667 Target Val Label Accuracy: 0.7332142857142857\n"
     ]
    }
   ],
   "source": [
    "print(\"Source Test Label Accuracy:\", experiment[\"results\"][\"source_test_label_accuracy\"], \"Target Test Label Accuracy:\", experiment[\"results\"][\"target_test_label_accuracy\"])\n",
    "print(\"Source Val Label Accuracy:\", experiment[\"results\"][\"source_val_label_accuracy\"], \"Target Val Label Accuracy:\", experiment[\"results\"][\"target_val_label_accuracy\"])"
   ]
  },
  {
   "cell_type": "code",
   "execution_count": 29,
   "id": "dacca602",
   "metadata": {
    "execution": {
     "iopub.execute_input": "2022-03-28T06:07:16.656449Z",
     "iopub.status.busy": "2022-03-28T06:07:16.656088Z",
     "iopub.status.idle": "2022-03-28T06:07:16.679151Z",
     "shell.execute_reply": "2022-03-28T06:07:16.679911Z"
    },
    "papermill": {
     "duration": 0.072716,
     "end_time": "2022-03-28T06:07:16.680094",
     "exception": false,
     "start_time": "2022-03-28T06:07:16.607378",
     "status": "completed"
    },
    "tags": [
     "experiment_json"
    ]
   },
   "outputs": [
    {
     "data": {
      "text/plain": [
       "'{\"experiment_name\": \"tl_3-jitter1v2:oracle.run1.framed -> cores\", \"parameters\": {\"experiment_name\": \"tl_3-jitter1v2:oracle.run1.framed -> cores\", \"device\": \"cuda\", \"lr\": 0.0001, \"x_shape\": [2, 256], \"n_shot\": 3, \"n_query\": 2, \"train_k_factor\": 3, \"val_k_factor\": 2, \"test_k_factor\": 2, \"torch_default_dtype\": \"torch.float32\", \"n_epoch\": 50, \"patience\": 3, \"criteria_for_best\": \"target_accuracy\", \"x_net\": [{\"class\": \"nnReshape\", \"kargs\": {\"shape\": [-1, 1, 2, 256]}}, {\"class\": \"Conv2d\", \"kargs\": {\"in_channels\": 1, \"out_channels\": 256, \"kernel_size\": [1, 7], \"bias\": false, \"padding\": [0, 3]}}, {\"class\": \"ReLU\", \"kargs\": {\"inplace\": true}}, {\"class\": \"BatchNorm2d\", \"kargs\": {\"num_features\": 256}}, {\"class\": \"Conv2d\", \"kargs\": {\"in_channels\": 256, \"out_channels\": 80, \"kernel_size\": [2, 7], \"bias\": true, \"padding\": [0, 3]}}, {\"class\": \"ReLU\", \"kargs\": {\"inplace\": true}}, {\"class\": \"BatchNorm2d\", \"kargs\": {\"num_features\": 80}}, {\"class\": \"Flatten\", \"kargs\": {}}, {\"class\": \"Linear\", \"kargs\": {\"in_features\": 20480, \"out_features\": 256}}, {\"class\": \"ReLU\", \"kargs\": {\"inplace\": true}}, {\"class\": \"BatchNorm1d\", \"kargs\": {\"num_features\": 256}}, {\"class\": \"Linear\", \"kargs\": {\"in_features\": 256, \"out_features\": 256}}], \"NUM_LOGS_PER_EPOCH\": 10, \"BEST_MODEL_PATH\": \"./best_model.pth\", \"n_way\": 16, \"datasets\": [{\"labels\": [\"1-10.\", \"1-11.\", \"1-15.\", \"1-16.\", \"1-17.\", \"1-18.\", \"1-19.\", \"10-4.\", \"10-7.\", \"11-1.\", \"11-14.\", \"11-17.\", \"11-20.\", \"11-7.\", \"13-20.\", \"13-8.\", \"14-10.\", \"14-11.\", \"14-14.\", \"14-7.\", \"15-1.\", \"15-20.\", \"16-1.\", \"16-16.\", \"17-10.\", \"17-11.\", \"17-2.\", \"19-1.\", \"19-16.\", \"19-19.\", \"19-20.\", \"19-3.\", \"2-10.\", \"2-11.\", \"2-17.\", \"2-18.\", \"2-20.\", \"2-3.\", \"2-4.\", \"2-5.\", \"2-6.\", \"2-7.\", \"2-8.\", \"3-13.\", \"3-18.\", \"3-3.\", \"4-1.\", \"4-10.\", \"4-11.\", \"4-19.\", \"5-5.\", \"6-15.\", \"7-10.\", \"7-14.\", \"8-18.\", \"8-20.\", \"8-3.\", \"8-8.\"], \"domains\": [1, 2, 3, 4, 5], \"num_examples_per_domain_per_label\": -1, \"pickle_path\": \"/root/csc500-main/datasets/cores.stratified_ds.2022A.pkl\", \"source_or_target_dataset\": \"target\", \"x_transforms\": [\"unit_power\", \"jitter_256_1\", \"lowpass_+/-10MHz\", \"take_200\"], \"episode_transforms\": [], \"domain_prefix\": \"C_\"}, {\"labels\": [\"3123D52\", \"3123D65\", \"3123D79\", \"3123D80\", \"3123D54\", \"3123D70\", \"3123D7B\", \"3123D89\", \"3123D58\", \"3123D76\", \"3123D7D\", \"3123EFE\", \"3123D64\", \"3123D78\", \"3123D7E\", \"3124E4A\"], \"domains\": [32, 38, 8, 44, 14, 50, 20, 26], \"num_examples_per_domain_per_label\": 2000, \"pickle_path\": \"/root/csc500-main/datasets/oracle.Run1_framed_2000Examples_stratified_ds.2022A.pkl\", \"source_or_target_dataset\": \"source\", \"x_transforms\": [\"unit_power\", \"jitter_256_1\", \"take_200\", \"resample_20Msps_to_25Msps\"], \"episode_transforms\": [], \"domain_prefix\": \"O_\"}], \"seed\": 500, \"dataset_seed\": 500, \"domains_source\": [\"O_32\", \"O_38\", \"O_8\", \"O_44\", \"O_14\", \"O_50\", \"O_20\", \"O_26\"], \"domains_target\": [\"C_1\", \"C_2\", \"C_3\", \"C_4\", \"C_5\"]}, \"results\": {\"source_test_label_accuracy\": 0.7023111979166666, \"source_test_label_loss\": 0.7917333245277405, \"target_test_label_accuracy\": 0.7378511235955056, \"target_test_label_loss\": 45.083770751953125, \"source_val_label_accuracy\": 0.7053385416666667, \"source_val_label_loss\": 0.7852807641029358, \"target_val_label_accuracy\": 0.7332142857142857, \"target_val_label_loss\": 44.903045654296875, \"total_epochs_trained\": 7, \"total_experiment_time_secs\": 1180.3335585594177, \"confusion\": {\"O_50\": {\"7\": {\"13\": 49, \"7\": 156, \"5\": 29, \"10\": 3, \"4\": 1, \"6\": 2}, \"10\": {\"10\": 216, \"7\": 5, \"0\": 6, \"8\": 7, \"13\": 6}, \"0\": {\"0\": 202, \"10\": 12, \"2\": 24, \"6\": 1, \"13\": 1}, \"11\": {\"11\": 206, \"9\": 16, \"15\": 13, \"14\": 4, \"1\": 1}, \"2\": {\"2\": 222, \"0\": 18}, \"14\": {\"14\": 234, \"12\": 2, \"11\": 4}, \"9\": {\"12\": 25, \"9\": 190, \"11\": 25}, \"13\": {\"13\": 160, \"7\": 21, \"5\": 26, \"10\": 9, \"6\": 22, \"0\": 2}, \"8\": {\"8\": 229, \"10\": 8, \"3\": 2, \"7\": 1}, \"15\": {\"11\": 4, \"15\": 182, \"4\": 20, \"1\": 32, \"6\": 2}, \"4\": {\"4\": 113, \"6\": 21, \"15\": 40, \"1\": 27, \"5\": 26, \"13\": 2, \"7\": 10, \"11\": 1}, \"5\": {\"4\": 16, \"7\": 70, \"13\": 33, \"6\": 35, \"5\": 71, \"1\": 7, \"15\": 4, \"10\": 3, \"0\": 1}, \"3\": {\"3\": 238, \"8\": 2}, \"1\": {\"1\": 151, \"15\": 48, \"6\": 28, \"4\": 9, \"5\": 3, \"11\": 1}, \"6\": {\"6\": 126, \"5\": 43, \"4\": 23, \"13\": 20, \"1\": 24, \"15\": 2, \"10\": 1, \"7\": 1}, \"12\": {\"12\": 203, \"14\": 8, \"11\": 3, \"9\": 26}}, \"O_14\": {\"14\": {\"6\": 14, \"13\": 22, \"2\": 17, \"14\": 180, \"3\": 6, \"4\": 1}, \"6\": {\"6\": 140, \"13\": 74, \"14\": 10, \"2\": 16}, \"5\": {\"4\": 58, \"1\": 27, \"5\": 145, \"2\": 9, \"3\": 1}, \"15\": {\"15\": 231, \"7\": 9}, \"11\": {\"11\": 210, \"0\": 7, \"9\": 20, \"10\": 3}, \"8\": {\"8\": 240}, \"12\": {\"12\": 240}, \"1\": {\"1\": 224, \"5\": 15, \"4\": 1}, \"2\": {\"5\": 19, \"2\": 104, \"13\": 20, \"14\": 44, \"6\": 31, \"4\": 15, \"3\": 5, \"15\": 2}, \"13\": {\"13\": 69, \"6\": 81, \"14\": 69, \"2\": 15, \"3\": 1, \"5\": 5}, \"3\": {\"3\": 222, \"2\": 5, \"4\": 11, \"14\": 2}, \"0\": {\"10\": 60, \"0\": 176, \"11\": 3, \"3\": 1}, \"9\": {\"9\": 239, \"12\": 1}, \"4\": {\"4\": 197, \"5\": 25, \"1\": 8, \"2\": 4, \"3\": 6}, \"7\": {\"7\": 232, \"15\": 8}, \"10\": {\"10\": 202, \"0\": 38}}, \"O_32\": {\"4\": {\"4\": 126, \"2\": 48, \"0\": 23, \"13\": 6, \"5\": 10, \"14\": 3, \"8\": 2, \"7\": 22}, \"14\": {\"7\": 43, \"11\": 67, \"4\": 2, \"14\": 104, \"13\": 3, \"0\": 5, \"3\": 5, \"5\": 9, \"8\": 2}, \"5\": {\"8\": 23, \"13\": 46, \"5\": 62, \"7\": 40, \"0\": 19, \"3\": 24, \"2\": 2, \"4\": 6, \"14\": 14, \"11\": 4}, \"10\": {\"10\": 239, \"1\": 1}, \"13\": {\"4\": 22, \"7\": 23, \"13\": 113, \"0\": 6, \"8\": 19, \"14\": 6, \"5\": 40, \"11\": 2, \"3\": 9}, \"9\": {\"9\": 237, \"12\": 3}, \"6\": {\"6\": 240}, \"3\": {\"3\": 221, \"11\": 1, \"5\": 10, \"13\": 8}, \"15\": {\"15\": 238, \"8\": 1, \"5\": 1}, \"7\": {\"7\": 117, \"5\": 20, \"14\": 49, \"4\": 16, \"13\": 14, \"11\": 7, \"0\": 12, \"8\": 2, \"2\": 3}, \"12\": {\"12\": 240}, \"8\": {\"8\": 150, \"5\": 40, \"13\": 21, \"0\": 21, \"7\": 4, \"3\": 3, \"4\": 1}, \"11\": {\"11\": 197, \"14\": 37, \"7\": 2, \"3\": 2, \"5\": 2}, \"2\": {\"2\": 179, \"4\": 42, \"0\": 19}, \"1\": {\"1\": 239, \"10\": 1}, \"0\": {\"0\": 153, \"5\": 14, \"4\": 14, \"2\": 10, \"13\": 3, \"7\": 19, \"8\": 25, \"14\": 2}}, \"O_44\": {\"8\": {\"0\": 86, \"8\": 134, \"15\": 11, \"5\": 9}, \"11\": {\"11\": 217, \"13\": 15, \"6\": 8}, \"14\": {\"14\": 147, \"4\": 74, \"5\": 10, \"15\": 9}, \"10\": {\"10\": 192, \"2\": 21, \"7\": 1, \"1\": 16, \"12\": 9, \"3\": 1}, \"3\": {\"3\": 218, \"1\": 14, \"7\": 1, \"2\": 2, \"12\": 5}, \"15\": {\"15\": 174, \"8\": 7, \"0\": 21, \"14\": 21, \"5\": 16, \"4\": 1}, \"2\": {\"2\": 184, \"7\": 29, \"1\": 11, \"10\": 15, \"3\": 1}, \"12\": {\"12\": 184, \"3\": 3, \"10\": 8, \"1\": 45}, \"4\": {\"4\": 159, \"14\": 78, \"15\": 2, \"13\": 1}, \"1\": {\"1\": 139, \"12\": 62, \"10\": 17, \"3\": 16, \"2\": 6}, \"0\": {\"0\": 142, \"15\": 14, \"8\": 71, \"5\": 13}, \"9\": {\"13\": 21, \"9\": 119, \"7\": 67, \"2\": 7, \"6\": 26}, \"5\": {\"5\": 187, \"0\": 21, \"14\": 17, \"15\": 10, \"8\": 2, \"4\": 3}, \"6\": {\"13\": 39, \"6\": 153, \"7\": 14, \"9\": 27, \"11\": 6, \"2\": 1}, \"7\": {\"9\": 44, \"7\": 150, \"2\": 40, \"6\": 5, \"1\": 1}, \"13\": {\"13\": 158, \"11\": 13, \"7\": 6, \"6\": 38, \"9\": 23, \"4\": 2}}, \"O_8\": {\"13\": {\"4\": 42, \"0\": 57, \"13\": 68, \"14\": 27, \"10\": 28, \"6\": 14, \"7\": 4}, \"3\": {\"3\": 212, \"15\": 2, \"2\": 13, \"12\": 13}, \"15\": {\"15\": 194, \"8\": 12, \"12\": 34}, \"4\": {\"4\": 126, \"13\": 36, \"10\": 8, \"6\": 35, \"14\": 30, \"7\": 4, \"11\": 1}, \"7\": {\"7\": 183, \"0\": 9, \"6\": 46, \"4\": 1, \"2\": 1}, \"2\": {\"2\": 207, \"3\": 24, \"7\": 7, \"15\": 1, \"6\": 1}, \"1\": {\"1\": 172, \"11\": 62, \"10\": 1, \"5\": 3, \"14\": 2}, \"0\": {\"7\": 5, \"0\": 192, \"13\": 35, \"10\": 1, \"4\": 2, \"6\": 3, \"14\": 2}, \"12\": {\"15\": 67, \"12\": 148, \"3\": 21, \"8\": 4}, \"6\": {\"13\": 16, \"6\": 145, \"7\": 57, \"4\": 19, \"0\": 3}, \"11\": {\"11\": 140, \"1\": 95, \"8\": 1, \"5\": 4}, \"9\": {\"9\": 239, \"5\": 1}, \"5\": {\"5\": 217, \"1\": 8, \"14\": 3, \"10\": 10, \"11\": 2}, \"10\": {\"10\": 156, \"14\": 58, \"13\": 13, \"4\": 12, \"5\": 1}, \"14\": {\"10\": 61, \"14\": 104, \"13\": 18, \"4\": 50, \"1\": 6, \"11\": 1}, \"8\": {\"8\": 229, \"15\": 11}}, \"O_20\": {\"6\": {\"6\": 217, \"14\": 21, \"10\": 1, \"8\": 1}, \"11\": {\"11\": 240}, \"5\": {\"12\": 37, \"5\": 105, \"15\": 13, \"0\": 43, \"4\": 3, \"1\": 28, \"3\": 10, \"2\": 1}, \"14\": {\"14\": 190, \"6\": 14, \"10\": 36}, \"2\": {\"2\": 114, \"9\": 60, \"13\": 16, \"7\": 36, \"12\": 7, \"1\": 1, \"3\": 5, \"8\": 1}, \"7\": {\"2\": 24, \"7\": 177, \"3\": 11, \"6\": 1, \"9\": 20, \"8\": 7}, \"3\": {\"3\": 117, \"9\": 25, \"7\": 16, \"12\": 45, \"2\": 12, \"5\": 6, \"4\": 5, \"0\": 2, \"8\": 8, \"1\": 4}, \"4\": {\"4\": 191, \"8\": 35, \"3\": 11, \"5\": 1, \"10\": 1, \"7\": 1}, \"9\": {\"9\": 94, \"7\": 23, \"2\": 68, \"12\": 21, \"3\": 29, \"13\": 5}, \"12\": {\"3\": 47, \"1\": 32, \"5\": 28, \"12\": 89, \"9\": 18, \"0\": 8, \"2\": 12, \"15\": 5, \"7\": 1}, \"0\": {\"1\": 40, \"0\": 74, \"5\": 55, \"15\": 49, \"2\": 1, \"13\": 2, \"12\": 16, \"3\": 3}, \"10\": {\"10\": 183, \"14\": 49, \"8\": 7, \"4\": 1}, \"8\": {\"8\": 169, \"4\": 35, \"10\": 8, \"3\": 9, \"14\": 5, \"6\": 3, \"7\": 11}, \"13\": {\"13\": 206, \"2\": 23, \"9\": 7, \"1\": 2, \"12\": 2}, \"1\": {\"1\": 91, \"15\": 49, \"5\": 31, \"0\": 27, \"12\": 39, \"3\": 2, \"9\": 1}, \"15\": {\"15\": 137, \"0\": 32, \"5\": 10, \"1\": 43, \"13\": 12, \"12\": 5, \"9\": 1}}, \"O_38\": {\"3\": {\"3\": 205, \"9\": 19, \"7\": 9, \"5\": 4, \"0\": 3}, \"8\": {\"5\": 51, \"15\": 12, \"8\": 132, \"0\": 24, \"7\": 13, \"10\": 5, \"13\": 3}, \"0\": {\"0\": 61, \"7\": 77, \"8\": 55, \"5\": 22, \"10\": 15, \"3\": 6, \"15\": 2, \"9\": 1, \"13\": 1}, \"2\": {\"14\": 20, \"2\": 214, \"13\": 6}, \"4\": {\"4\": 226, \"12\": 14}, \"7\": {\"7\": 169, \"5\": 13, \"0\": 44, \"10\": 1, \"8\": 12, \"3\": 1}, \"12\": {\"12\": 226, \"4\": 12, \"10\": 2}, \"6\": {\"6\": 216, \"9\": 23, \"5\": 1}, \"15\": {\"15\": 186, \"8\": 6, \"13\": 26, \"1\": 20, \"5\": 2}, \"11\": {\"11\": 204, \"3\": 3, \"12\": 3, \"14\": 25, \"4\": 4, \"0\": 1}, \"9\": {\"9\": 191, \"6\": 37, \"5\": 3, \"3\": 9}, \"14\": {\"11\": 4, \"14\": 217, \"2\": 14, \"12\": 1, \"10\": 4}, \"10\": {\"10\": 183, \"0\": 15, \"13\": 17, \"12\": 10, \"8\": 2, \"7\": 3, \"4\": 2, \"14\": 4, \"11\": 1, \"5\": 1, \"2\": 1, \"15\": 1}, \"5\": {\"0\": 16, \"8\": 59, \"5\": 114, \"7\": 25, \"6\": 8, \"15\": 8, \"9\": 5, \"3\": 2, \"13\": 1, \"10\": 2}, \"1\": {\"1\": 237, \"15\": 2, \"5\": 1}, \"13\": {\"10\": 18, \"13\": 180, \"15\": 21, \"2\": 12, \"1\": 1, \"5\": 1, \"8\": 4, \"0\": 2, \"14\": 1}}, \"O_26\": {\"5\": {\"5\": 140, \"2\": 25, \"15\": 21, \"9\": 22, \"13\": 27, \"3\": 4, \"7\": 1}, \"8\": {\"8\": 108, \"4\": 26, \"0\": 22, \"6\": 13, \"9\": 13, \"10\": 28, \"7\": 12, \"15\": 9, \"3\": 1, \"14\": 4, \"2\": 3, \"1\": 1}, \"4\": {\"4\": 85, \"14\": 55, \"8\": 15, \"10\": 23, \"0\": 32, \"7\": 9, \"1\": 21}, \"12\": {\"12\": 238, \"11\": 2}, \"6\": {\"9\": 16, \"10\": 22, \"6\": 178, \"0\": 3, \"8\": 6, \"15\": 13, \"4\": 1, \"13\": 1}, \"7\": {\"3\": 28, \"7\": 160, \"8\": 19, \"14\": 2, \"4\": 12, \"2\": 14, \"15\": 1, \"5\": 2, \"1\": 1, \"10\": 1}, \"10\": {\"10\": 90, \"14\": 15, \"6\": 22, \"15\": 2, \"0\": 58, \"8\": 28, \"4\": 20, \"1\": 4, \"7\": 1}, \"0\": {\"4\": 51, \"10\": 50, \"0\": 51, \"14\": 45, \"8\": 15, \"7\": 5, \"6\": 7, \"1\": 16}, \"15\": {\"15\": 81, \"13\": 14, \"9\": 73, \"8\": 22, \"5\": 28, \"6\": 12, \"4\": 2, \"2\": 7, \"7\": 1}, \"9\": {\"15\": 72, \"9\": 99, \"13\": 14, \"5\": 9, \"6\": 14, \"7\": 3, \"2\": 6, \"8\": 22, \"10\": 1}, \"11\": {\"11\": 232, \"12\": 7, \"6\": 1}, \"14\": {\"4\": 35, \"14\": 102, \"10\": 11, \"1\": 45, \"8\": 6, \"0\": 39, \"7\": 2}, \"2\": {\"2\": 84, \"7\": 20, \"15\": 13, \"5\": 21, \"3\": 85, \"10\": 1, \"9\": 8, \"13\": 4, \"8\": 3, \"0\": 1}, \"13\": {\"13\": 170, \"5\": 40, \"9\": 14, \"2\": 6, \"3\": 2, \"15\": 8}, \"3\": {\"3\": 163, \"2\": 48, \"7\": 27, \"5\": 2}, \"1\": {\"4\": 26, \"1\": 138, \"0\": 11, \"10\": 8, \"14\": 53, \"7\": 3, \"8\": 1}}, \"C_4\": {\"38\": {\"38\": 37, \"2\": 1, \"6\": 1, \"31\": 1}, \"3\": {\"3\": 67, \"34\": 2, \"26\": 1, \"48\": 6, \"50\": 5, \"51\": 3, \"36\": 10, \"21\": 1, \"54\": 3, \"23\": 9, \"27\": 2, \"20\": 3, \"53\": 4, \"6\": 2, \"5\": 1, \"18\": 1, \"47\": 1, \"8\": 2, \"25\": 1}, \"24\": {\"24\": 31, \"43\": 17, \"10\": 2, \"38\": 1, \"2\": 1, \"22\": 1, \"15\": 2, \"11\": 1}, \"49\": {\"49\": 16, \"16\": 1, \"46\": 2, \"7\": 1}, \"7\": {\"49\": 3, \"7\": 19, \"32\": 2}, \"17\": {\"17\": 39, \"12\": 2, \"36\": 4, \"48\": 3, \"50\": 5, \"21\": 7, \"30\": 3, \"27\": 5, \"4\": 3, \"8\": 2, \"33\": 1, \"9\": 4, \"51\": 1, \"29\": 1}, \"43\": {\"24\": 9, \"43\": 121, \"11\": 3, \"22\": 4, \"0\": 6, \"10\": 4, \"38\": 1}, \"30\": {\"30\": 41, \"8\": 2, \"50\": 1}, \"44\": {\"44\": 98, \"31\": 2, \"33\": 1, \"29\": 2, \"45\": 6, \"19\": 7, \"9\": 1, \"10\": 1, \"17\": 1, \"53\": 2, \"40\": 5, \"6\": 1, \"25\": 1, \"4\": 3, \"55\": 1}, \"23\": {\"18\": 8, \"23\": 133, \"52\": 1, \"5\": 2}, \"37\": {\"37\": 12, \"4\": 1, \"31\": 2, \"43\": 1, \"16\": 2, \"54\": 1, \"41\": 1, \"52\": 1, \"10\": 1, \"51\": 1, \"28\": 1}, \"4\": {\"17\": 5, \"37\": 1, \"26\": 4, \"50\": 18, \"21\": 4, \"27\": 9, \"4\": 30, \"51\": 4, \"9\": 9, \"48\": 12, \"19\": 9, \"55\": 1, \"56\": 3, \"10\": 2, \"53\": 1, \"6\": 1, \"8\": 2, \"33\": 2, \"12\": 1, \"29\": 7, \"31\": 1, \"36\": 2, \"45\": 4}, \"57\": {\"57\": 82, \"35\": 1, \"28\": 1, \"47\": 4, \"23\": 4, \"5\": 3, \"46\": 2, \"32\": 1, \"1\": 1, \"16\": 1}, \"16\": {\"7\": 1, \"16\": 64, \"15\": 3, \"11\": 5, \"52\": 3, \"5\": 6, \"46\": 8, \"47\": 2, \"39\": 1, \"32\": 1, \"1\": 1, \"48\": 1}, \"18\": {\"18\": 86, \"52\": 1, \"36\": 1, \"23\": 13, \"48\": 1, \"47\": 4, \"51\": 1, \"13\": 1}, \"20\": {\"20\": 96, \"36\": 8, \"3\": 5, \"53\": 4, \"25\": 3, \"51\": 2, \"6\": 1, \"8\": 1, \"18\": 3, \"54\": 1}, \"45\": {\"40\": 6, \"19\": 12, \"45\": 23, \"21\": 4, \"3\": 2, \"9\": 3, \"27\": 2, \"56\": 3, \"50\": 5, \"37\": 3, \"12\": 6, \"55\": 2, \"51\": 2, \"4\": 13, \"29\": 2, \"6\": 1, \"17\": 2, \"44\": 3, \"13\": 1, \"48\": 1}, \"15\": {\"15\": 107, \"52\": 1, \"11\": 7, \"0\": 2, \"54\": 1, \"5\": 1, \"46\": 10, \"43\": 1, \"31\": 1, \"56\": 1}, \"52\": {\"52\": 111, \"39\": 1, \"16\": 3, \"23\": 1}, \"19\": {\"19\": 61, \"17\": 4, \"44\": 14, \"26\": 1, \"40\": 5, \"53\": 1, \"13\": 4, \"4\": 7, \"25\": 3, \"55\": 1, \"51\": 3, \"29\": 3, \"45\": 13, \"9\": 4, \"56\": 5, \"21\": 2, \"14\": 1, \"57\": 1, \"28\": 1, \"33\": 1, \"35\": 2, \"3\": 1, \"10\": 1, \"22\": 1}, \"54\": {\"54\": 105, \"3\": 1, \"28\": 2}, \"56\": {\"56\": 119, \"14\": 2, \"13\": 4, \"10\": 2, \"31\": 1, \"38\": 1, \"57\": 1}, \"40\": {\"40\": 95, \"44\": 9, \"19\": 10, \"50\": 1, \"35\": 1, \"53\": 2, \"17\": 1, \"2\": 1, \"56\": 4, \"4\": 3, \"51\": 2, \"21\": 2, \"29\": 1, \"9\": 2}, \"28\": {\"36\": 4, \"28\": 26, \"57\": 2}, \"2\": {\"2\": 32, \"38\": 1, \"22\": 1, \"10\": 1, \"43\": 1}, \"9\": {\"9\": 44, \"36\": 2, \"27\": 12, \"26\": 1, \"33\": 2, \"17\": 8, \"19\": 6, \"30\": 1, \"48\": 7, \"53\": 2, \"4\": 6, \"50\": 8, \"45\": 5, \"51\": 5, \"21\": 3, \"6\": 1, \"25\": 3, \"20\": 1, \"13\": 1, \"8\": 2}, \"0\": {\"0\": 73, \"43\": 2, \"15\": 2, \"24\": 1, \"11\": 2}, \"36\": {\"36\": 86, \"3\": 3, \"51\": 3}, \"55\": {\"31\": 1, \"55\": 123, \"54\": 1, \"6\": 3, \"16\": 1, \"1\": 1}, \"35\": {\"35\": 36, \"57\": 2, \"36\": 1, \"29\": 1}, \"39\": {\"39\": 19, \"52\": 1}, \"31\": {\"31\": 28}, \"14\": {\"38\": 2, \"14\": 9, \"56\": 1, \"24\": 2, \"22\": 1, \"13\": 1}, \"12\": {\"12\": 90, \"30\": 2}, \"6\": {\"6\": 81, \"36\": 2, \"3\": 2, \"51\": 1, \"28\": 2, \"50\": 2, \"34\": 1, \"48\": 4, \"29\": 1, \"18\": 2, \"54\": 6, \"53\": 3, \"55\": 3, \"8\": 1, \"23\": 1}, \"26\": {\"26\": 23, \"48\": 1}, \"50\": {\"26\": 2, \"50\": 69, \"48\": 9, \"8\": 5, \"6\": 4, \"54\": 6, \"3\": 7, \"36\": 3, \"9\": 3, \"21\": 1, \"27\": 7, \"51\": 6, \"53\": 3, \"18\": 2, \"55\": 1, \"4\": 1, \"20\": 3}, \"21\": {\"21\": 106, \"8\": 2, \"50\": 4, \"17\": 3, \"27\": 3, \"51\": 3, \"25\": 1}, \"46\": {\"46\": 108, \"52\": 9, \"7\": 1, \"39\": 3, \"5\": 5, \"16\": 4, \"54\": 1, \"32\": 3, \"57\": 1, \"11\": 1, \"23\": 1, \"55\": 1, \"43\": 1, \"15\": 1}, \"51\": {\"51\": 81, \"20\": 2, \"36\": 3, \"25\": 2, \"50\": 17, \"48\": 5, \"3\": 2, \"21\": 2, \"8\": 1, \"18\": 1, \"6\": 3, \"53\": 16, \"54\": 2, \"4\": 1, \"29\": 1, \"44\": 1}, \"41\": {\"41\": 31, \"15\": 1, \"5\": 2, \"46\": 1, \"39\": 1}, \"34\": {\"34\": 23, \"54\": 1}, \"47\": {\"5\": 4, \"47\": 107, \"23\": 6, \"57\": 2, \"39\": 1}, \"5\": {\"47\": 13, \"48\": 3, \"5\": 51, \"16\": 4, \"46\": 6, \"39\": 1, \"52\": 7, \"3\": 4, \"54\": 5, \"6\": 4, \"23\": 4, \"57\": 1, \"49\": 5}, \"1\": {\"1\": 35, \"46\": 1, \"47\": 2, \"5\": 1, \"57\": 1}, \"48\": {\"48\": 125, \"36\": 3, \"4\": 2, \"55\": 2, \"29\": 1, \"6\": 1}, \"29\": {\"29\": 58, \"48\": 19, \"35\": 11, \"32\": 1, \"55\": 7, \"54\": 4, \"56\": 3, \"6\": 2, \"57\": 6, \"47\": 1, \"17\": 1, \"3\": 1, \"45\": 1, \"4\": 1, \"51\": 2}, \"22\": {\"22\": 112, \"13\": 2, \"31\": 1, \"10\": 3, \"38\": 7, \"24\": 2, \"56\": 1}, \"10\": {\"22\": 10, \"10\": 82, \"11\": 6, \"56\": 5, \"43\": 16, \"2\": 1, \"1\": 1, \"5\": 1, \"13\": 3, \"0\": 3, \"46\": 1, \"15\": 3}, \"32\": {\"32\": 21, \"46\": 2, \"5\": 1}, \"13\": {\"22\": 3, \"13\": 95, \"43\": 2, \"10\": 7, \"38\": 2, \"56\": 3}, \"42\": {\"42\": 31, \"18\": 1}, \"27\": {\"27\": 94, \"48\": 3, \"8\": 23, \"21\": 6, \"33\": 2, \"9\": 2, \"17\": 2, \"3\": 1, \"20\": 2, \"50\": 3}, \"8\": {\"8\": 127, \"30\": 2, \"27\": 4, \"50\": 5, \"20\": 3, \"36\": 1}, \"33\": {\"19\": 3, \"33\": 19, \"45\": 2, \"28\": 1, \"27\": 1, \"48\": 2, \"4\": 2, \"35\": 1, \"37\": 1, \"54\": 1, \"50\": 1, \"17\": 1, \"36\": 1}, \"25\": {\"25\": 53, \"42\": 4, \"21\": 7, \"53\": 15, \"12\": 1, \"8\": 4, \"17\": 2, \"50\": 3, \"20\": 29, \"27\": 2, \"28\": 2, \"30\": 1, \"9\": 2, \"18\": 2, \"43\": 1, \"4\": 1, \"51\": 2, \"54\": 1}, \"11\": {\"11\": 77, \"32\": 1, \"15\": 11, \"46\": 3, \"55\": 1, \"10\": 2, \"43\": 3, \"0\": 4, \"16\": 2}, \"53\": {\"25\": 1, \"8\": 3, \"53\": 75, \"50\": 5, \"51\": 8, \"3\": 4, \"44\": 1, \"48\": 3, \"20\": 8, \"4\": 1, \"26\": 1, \"36\": 2}}, \"C_2\": {\"32\": {\"32\": 24, \"36\": 3, \"29\": 1}, \"17\": {\"17\": 69, \"27\": 6, \"36\": 9, \"20\": 1, \"8\": 3, \"48\": 1, \"3\": 1, \"54\": 1, \"29\": 2, \"51\": 2, \"53\": 3, \"32\": 1, \"6\": 2, \"50\": 1, \"1\": 2}, \"38\": {\"38\": 20}, \"2\": {\"2\": 30, \"3\": 1, \"41\": 1}, \"43\": {\"43\": 120, \"22\": 2, \"24\": 14, \"10\": 4, \"11\": 3, \"56\": 1}, \"56\": {\"56\": 109, \"10\": 6, \"22\": 14, \"24\": 3, \"13\": 5, \"5\": 2, \"7\": 1, \"14\": 2, \"43\": 2}, \"37\": {\"21\": 4, \"37\": 23, \"52\": 1, \"51\": 1, \"13\": 2, \"4\": 1, \"11\": 2, \"9\": 2}, \"49\": {\"49\": 24}, \"0\": {\"0\": 42, \"11\": 1, \"39\": 1, \"5\": 1, \"7\": 1, \"23\": 1, \"15\": 1}, \"29\": {\"17\": 11, \"55\": 5, \"48\": 15, \"4\": 3, \"37\": 3, \"29\": 31, \"21\": 3, \"56\": 5, \"1\": 9, \"9\": 8, \"42\": 2, \"19\": 2, \"2\": 1, \"53\": 1, \"46\": 1, \"36\": 3, \"54\": 3, \"45\": 5, \"51\": 2, \"5\": 3, \"13\": 3, \"33\": 4, \"27\": 2, \"3\": 3}, \"35\": {\"37\": 1, \"35\": 19, \"44\": 5, \"40\": 2, \"45\": 3, \"29\": 1, \"57\": 1}, \"18\": {\"18\": 45, \"3\": 1, \"30\": 2}, \"25\": {\"49\": 2, \"37\": 1, \"25\": 64, \"26\": 1, \"17\": 7, \"3\": 5, \"21\": 4, \"20\": 11, \"18\": 3, \"50\": 7, \"53\": 6, \"8\": 8, \"30\": 4, \"6\": 3, \"16\": 1, \"48\": 3, \"51\": 4, \"27\": 1, \"54\": 1}, \"23\": {\"23\": 113, \"30\": 2, \"46\": 4, \"18\": 3, \"47\": 1, \"7\": 1}, \"15\": {\"15\": 145, \"47\": 1}, \"21\": {\"21\": 110, \"48\": 2, \"46\": 3, \"6\": 3, \"53\": 2}, \"51\": {\"51\": 91, \"12\": 4, \"32\": 1, \"53\": 15, \"6\": 3, \"55\": 1, \"50\": 3, \"20\": 1, \"21\": 1, \"36\": 3, \"29\": 1, \"54\": 1, \"3\": 2, \"9\": 1}, \"20\": {\"20\": 103, \"53\": 5, \"26\": 1, \"50\": 9, \"8\": 9, \"6\": 1, \"27\": 5, \"36\": 1, \"25\": 3, \"54\": 1}, \"7\": {\"7\": 36}, \"50\": {\"50\": 87, \"8\": 11, \"6\": 6, \"18\": 2, \"3\": 3, \"54\": 2, \"53\": 2, \"20\": 10, \"30\": 3, \"27\": 5, \"51\": 2, \"25\": 1, \"46\": 2}, \"31\": {\"31\": 18, \"7\": 5, \"5\": 2, \"15\": 1, \"39\": 2}, \"30\": {\"30\": 134, \"55\": 1, \"3\": 1, \"18\": 3, \"23\": 1}, \"19\": {\"9\": 14, \"19\": 70, \"14\": 2, \"45\": 15, \"22\": 7, \"13\": 2, \"29\": 8, \"56\": 8, \"40\": 4, \"44\": 1, \"4\": 8, \"3\": 3, \"17\": 4, \"21\": 2, \"1\": 1, \"55\": 4, \"37\": 1, \"57\": 1, \"24\": 1}, \"9\": {\"9\": 34, \"32\": 1, \"40\": 1, \"53\": 5, \"27\": 10, \"45\": 6, \"19\": 21, \"29\": 5, \"3\": 4, \"33\": 3, \"12\": 3, \"17\": 6, \"36\": 9, \"22\": 3, \"56\": 3, \"50\": 1, \"4\": 10, \"54\": 6, \"48\": 4, \"55\": 1, \"37\": 1, \"1\": 4, \"21\": 1, \"13\": 1, \"5\": 1}, \"52\": {\"23\": 6, \"52\": 109, \"39\": 1, \"16\": 6, \"57\": 1, \"46\": 1}, \"45\": {\"9\": 5, \"19\": 14, \"45\": 31, \"32\": 1, \"35\": 2, \"26\": 3, \"4\": 10, \"17\": 2, \"54\": 9, \"56\": 2, \"29\": 4, \"51\": 2, \"22\": 4, \"44\": 2, \"36\": 6, \"12\": 4, \"10\": 2, \"40\": 5, \"48\": 2, \"13\": 1, \"53\": 6, \"55\": 1, \"27\": 1, \"33\": 1, \"24\": 1, \"1\": 1, \"3\": 1, \"6\": 1, \"25\": 1, \"20\": 2, \"21\": 1}, \"8\": {\"50\": 3, \"8\": 128, \"20\": 5, \"27\": 14, \"53\": 2, \"36\": 2}, \"55\": {\"55\": 153, \"13\": 5, \"1\": 2}, \"12\": {\"12\": 89, \"51\": 2, \"20\": 1}, \"40\": {\"40\": 94, \"14\": 1, \"29\": 3, \"35\": 2, \"19\": 9, \"45\": 10, \"44\": 5, \"4\": 7, \"22\": 3, \"9\": 2, \"1\": 1, \"13\": 2, \"56\": 1}, \"28\": {\"28\": 28}, \"36\": {\"36\": 116}, \"39\": {\"39\": 23, \"52\": 1, \"41\": 1, \"46\": 1, \"57\": 1, \"23\": 1}, \"46\": {\"46\": 95, \"34\": 3, \"52\": 7, \"23\": 4, \"16\": 3, \"42\": 1, \"18\": 3, \"48\": 4, \"6\": 2}, \"14\": {\"56\": 2, \"14\": 10, \"9\": 1, \"22\": 1, \"45\": 2, \"41\": 1, \"10\": 2, \"28\": 1, \"35\": 1, \"44\": 2, \"11\": 1}, \"57\": {\"57\": 107, \"5\": 8, \"47\": 11, \"42\": 1, \"52\": 5, \"23\": 8, \"21\": 1, \"16\": 1}, \"34\": {\"34\": 25, \"54\": 1, \"41\": 2}, \"1\": {\"1\": 105, \"48\": 4, \"34\": 1, \"55\": 1, \"42\": 1}, \"53\": {\"53\": 107, \"51\": 12, \"27\": 2, \"20\": 3, \"3\": 1, \"21\": 2, \"50\": 2, \"48\": 1, \"6\": 1, \"17\": 1, \"8\": 1, \"36\": 3}, \"48\": {\"48\": 120, \"1\": 2, \"16\": 1, \"6\": 3, \"2\": 2, \"54\": 1, \"46\": 1}, \"3\": {\"48\": 2, \"18\": 3, \"16\": 2, \"51\": 4, \"6\": 11, \"53\": 8, \"3\": 13, \"50\": 7, \"54\": 1, \"27\": 5, \"30\": 10, \"17\": 2, \"2\": 2, \"21\": 5, \"22\": 1, \"36\": 3, \"46\": 3, \"9\": 2, \"12\": 1, \"23\": 1, \"5\": 1, \"4\": 1, \"1\": 2, \"19\": 1, \"10\": 1}, \"16\": {\"16\": 119, \"39\": 1, \"5\": 1, \"11\": 2, \"52\": 7, \"23\": 11, \"15\": 9, \"46\": 1, \"47\": 1}, \"6\": {\"48\": 10, \"34\": 1, \"6\": 72, \"18\": 7, \"27\": 2, \"3\": 6, \"30\": 4, \"8\": 1, \"50\": 10, \"21\": 2, \"54\": 3, \"25\": 3, \"55\": 1, \"46\": 2}, \"10\": {\"10\": 84, \"56\": 5, \"22\": 3, \"43\": 4, \"24\": 12, \"14\": 1, \"11\": 3}, \"13\": {\"22\": 9, \"13\": 83, \"55\": 6, \"42\": 1, \"56\": 7, \"24\": 4, \"11\": 1, \"1\": 2, \"7\": 1, \"28\": 2}, \"26\": {\"26\": 22, \"12\": 2}, \"24\": {\"24\": 66, \"43\": 13, \"10\": 13, \"11\": 1, \"22\": 2, \"13\": 1}, \"44\": {\"44\": 75, \"35\": 1, \"29\": 4, \"45\": 7, \"19\": 5, \"9\": 2, \"4\": 2, \"21\": 1, \"40\": 3}, \"27\": {\"27\": 96, \"6\": 1, \"20\": 4, \"8\": 24, \"50\": 6, \"17\": 6, \"36\": 8, \"53\": 2, \"3\": 1, \"32\": 1, \"48\": 1}, \"22\": {\"22\": 99, \"56\": 19, \"28\": 3, \"43\": 3, \"13\": 3, \"24\": 1}, \"33\": {\"45\": 2, \"32\": 2, \"33\": 7, \"6\": 3, \"27\": 2, \"48\": 3, \"1\": 1, \"29\": 2, \"36\": 2, \"19\": 1, \"37\": 1, \"4\": 1, \"17\": 1}, \"47\": {\"5\": 5, \"47\": 86, \"57\": 14, \"46\": 2, \"23\": 6, \"39\": 2, \"0\": 1, \"42\": 1, \"52\": 1}, \"5\": {\"5\": 80, \"47\": 7, \"46\": 5, \"52\": 3, \"45\": 1, \"13\": 2, \"57\": 6, \"15\": 3, \"56\": 1, \"23\": 1, \"0\": 1, \"7\": 3, \"39\": 1, \"11\": 1, \"4\": 1, \"34\": 1, \"42\": 1, \"16\": 2}, \"4\": {\"55\": 4, \"36\": 12, \"56\": 8, \"19\": 5, \"4\": 24, \"40\": 5, \"1\": 7, \"33\": 2, \"17\": 7, \"12\": 10, \"9\": 12, \"29\": 7, \"53\": 5, \"22\": 8, \"50\": 1, \"6\": 2, \"48\": 6, \"54\": 2, \"26\": 2, \"45\": 4, \"24\": 1, \"3\": 1, \"10\": 2, \"27\": 1}, \"41\": {\"41\": 19, \"34\": 1}, \"11\": {\"11\": 119, \"7\": 2, \"15\": 14, \"0\": 2, \"5\": 3, \"47\": 2, \"43\": 2, \"42\": 1, \"16\": 4, \"52\": 1}, \"54\": {\"54\": 108}, \"42\": {\"42\": 32, \"5\": 1, \"57\": 1, \"46\": 1, \"39\": 1}}, \"C_3\": {\"5\": {\"5\": 76, \"52\": 5, \"55\": 1, \"57\": 11, \"34\": 3, \"28\": 4, \"31\": 1, \"47\": 7, \"46\": 1, \"23\": 2, \"26\": 1, \"0\": 3, \"1\": 1}, \"32\": {\"32\": 21, \"17\": 1, \"8\": 1, \"9\": 3, \"36\": 2}, \"33\": {\"33\": 23, \"41\": 1, \"54\": 1, \"6\": 2, \"48\": 1}, \"49\": {\"49\": 20}, \"39\": {\"39\": 16}, \"11\": {\"49\": 3, \"11\": 106, \"15\": 21, \"0\": 7, \"23\": 2, \"43\": 1, \"34\": 1, \"5\": 1}, \"8\": {\"8\": 111, \"50\": 1, \"54\": 1, \"36\": 2, \"27\": 1}, \"26\": {\"26\": 23, \"23\": 1}, \"51\": {\"51\": 87, \"53\": 14, \"12\": 5, \"54\": 4, \"21\": 7, \"48\": 2, \"9\": 1, \"32\": 1, \"27\": 1}, \"4\": {\"32\": 4, \"17\": 13, \"4\": 44, \"45\": 5, \"48\": 3, \"35\": 3, \"12\": 10, \"19\": 10, \"36\": 8, \"21\": 1, \"54\": 9, \"40\": 2, \"56\": 1, \"3\": 3, \"9\": 11, \"22\": 2, \"29\": 10, \"53\": 2, \"37\": 1, \"25\": 2, \"51\": 1, \"55\": 1}, \"52\": {\"52\": 100, \"23\": 5, \"6\": 1, \"46\": 7, \"5\": 1, \"16\": 2, \"47\": 1, \"3\": 1}, \"47\": {\"47\": 59, \"5\": 9, \"31\": 1, \"12\": 1, \"57\": 6, \"42\": 2, \"16\": 1, \"55\": 1, \"23\": 4, \"48\": 1, \"6\": 1, \"13\": 1, \"34\": 3, \"15\": 1, \"0\": 1}, \"17\": {\"32\": 1, \"17\": 75, \"36\": 6, \"8\": 3, \"29\": 1, \"27\": 12, \"38\": 2, \"56\": 1, \"9\": 4, \"3\": 2, \"48\": 1}, \"53\": {\"53\": 98, \"51\": 13, \"27\": 2, \"21\": 8, \"36\": 2, \"50\": 2, \"17\": 2, \"8\": 1, \"48\": 1, \"38\": 1, \"6\": 1, \"30\": 1, \"9\": 3, \"3\": 1}, \"2\": {\"2\": 31, \"33\": 1}, \"12\": {\"12\": 79, \"2\": 2, \"36\": 3, \"53\": 3, \"54\": 2, \"48\": 1, \"3\": 1, \"51\": 1}, \"37\": {\"37\": 27, \"21\": 1}, \"9\": {\"9\": 85, \"48\": 5, \"32\": 4, \"36\": 3, \"53\": 1, \"3\": 5, \"27\": 17, \"17\": 8, \"13\": 2, \"51\": 2, \"1\": 4, \"21\": 2, \"29\": 4, \"30\": 1, \"55\": 1, \"37\": 1, \"33\": 1, \"35\": 1, \"4\": 1}, \"13\": {\"34\": 3, \"7\": 1, \"48\": 3, \"13\": 82, \"56\": 3, \"22\": 9, \"11\": 2, \"21\": 1, \"55\": 12, \"1\": 2, \"4\": 1, \"43\": 4, \"24\": 2, \"32\": 1, \"42\": 1, \"10\": 1}, \"54\": {\"54\": 99, \"21\": 1}, \"31\": {\"34\": 2, \"31\": 23, \"0\": 1, \"5\": 2}, \"34\": {\"34\": 28, \"31\": 1, \"5\": 2, \"41\": 1}, \"24\": {\"24\": 95, \"10\": 4, \"43\": 5}, \"7\": {\"7\": 35, \"15\": 1}, \"50\": {\"50\": 64, \"41\": 1, \"8\": 5, \"20\": 12, \"30\": 6, \"18\": 2, \"6\": 5, \"46\": 3, \"27\": 5, \"53\": 2, \"55\": 2, \"3\": 7, \"36\": 1, \"48\": 1, \"25\": 1, \"54\": 1}, \"46\": {\"46\": 73, \"48\": 5, \"3\": 13, \"6\": 3, \"52\": 12, \"26\": 3, \"18\": 2, \"16\": 7, \"23\": 5, \"55\": 1, \"30\": 1, \"20\": 3}, \"44\": {\"44\": 73, \"14\": 1, \"19\": 6, \"57\": 2, \"40\": 3, \"53\": 1, \"3\": 2}, \"40\": {\"44\": 8, \"40\": 83, \"37\": 2, \"19\": 6, \"45\": 3, \"22\": 2, \"4\": 6, \"56\": 2, \"57\": 1, \"13\": 1, \"17\": 1, \"9\": 1}, \"21\": {\"21\": 96, \"54\": 6, \"6\": 7, \"3\": 3, \"53\": 6, \"51\": 5, \"36\": 2, \"38\": 1, \"48\": 1, \"9\": 1}, \"45\": {\"54\": 7, \"32\": 1, \"4\": 8, \"12\": 5, \"19\": 1, \"14\": 1, \"56\": 2, \"22\": 1, \"45\": 9, \"36\": 4, \"53\": 4, \"55\": 1, \"51\": 1, \"42\": 1, \"2\": 2, \"57\": 2, \"33\": 1, \"28\": 1, \"9\": 1, \"1\": 2, \"17\": 1, \"21\": 2, \"44\": 1, \"25\": 1}, \"16\": {\"16\": 101, \"26\": 1, \"23\": 9, \"52\": 5, \"15\": 4, \"0\": 1, \"55\": 1, \"46\": 1, \"34\": 2, \"47\": 1}, \"14\": {\"14\": 15, \"7\": 3, \"56\": 6, \"19\": 1, \"45\": 1, \"24\": 3, \"55\": 1, \"22\": 3, \"44\": 1, \"4\": 1, \"13\": 1, \"10\": 1, \"11\": 1, \"2\": 1, \"48\": 1}, \"36\": {\"36\": 99, \"32\": 1}, \"56\": {\"10\": 5, \"56\": 79, \"22\": 14, \"24\": 6, \"14\": 1, \"0\": 1, \"55\": 3, \"13\": 3, \"43\": 2}, \"10\": {\"24\": 6, \"56\": 2, \"10\": 50, \"43\": 4, \"22\": 1, \"49\": 1}, \"18\": {\"18\": 78, \"20\": 2, \"3\": 2, \"30\": 2}, \"48\": {\"48\": 112, \"42\": 1, \"30\": 1, \"6\": 1, \"41\": 1}, \"38\": {\"38\": 25, \"27\": 1, \"53\": 1, \"2\": 1}, \"27\": {\"27\": 110, \"3\": 2, \"9\": 2, \"8\": 1, \"29\": 2, \"53\": 1, \"50\": 1, \"17\": 5, \"48\": 3, \"36\": 1, \"30\": 1, \"5\": 1}, \"42\": {\"1\": 2, \"42\": 22, \"55\": 2, \"41\": 1, \"6\": 1}, \"15\": {\"15\": 122, \"55\": 3, \"0\": 3, \"16\": 4, \"2\": 1, \"11\": 1}, \"1\": {\"1\": 85, \"42\": 1, \"6\": 2, \"35\": 1, \"48\": 3, \"55\": 1, \"5\": 2, \"57\": 2, \"46\": 1, \"29\": 2}, \"28\": {\"16\": 2, \"28\": 17, \"23\": 1, \"52\": 1, \"5\": 2, \"57\": 2, \"18\": 1, \"11\": 1, \"15\": 1}, \"43\": {\"10\": 6, \"49\": 1, \"43\": 114, \"24\": 7, \"56\": 1, \"7\": 2, \"11\": 4, \"22\": 1}, \"0\": {\"0\": 115, \"49\": 1, \"31\": 2, \"26\": 1, \"47\": 1, \"15\": 2, \"7\": 1, \"11\": 1}, \"57\": {\"57\": 94, \"5\": 14, \"23\": 4, \"52\": 2, \"34\": 1, \"47\": 6, \"13\": 1, \"1\": 1, \"46\": 1}, \"3\": {\"3\": 49, \"50\": 9, \"20\": 7, \"38\": 3, \"35\": 1, \"9\": 8, \"27\": 7, \"18\": 10, \"36\": 2, \"21\": 4, \"48\": 3, \"52\": 4, \"54\": 1, \"46\": 12, \"1\": 2, \"51\": 1, \"19\": 1, \"30\": 3, \"53\": 10, \"8\": 1, \"25\": 1, \"37\": 1, \"47\": 2, \"16\": 3, \"23\": 2, \"29\": 1}, \"29\": {\"1\": 8, \"57\": 9, \"51\": 2, \"29\": 33, \"27\": 7, \"48\": 2, \"35\": 5, \"25\": 2, \"9\": 26, \"22\": 2, \"21\": 3, \"17\": 8, \"53\": 1, \"19\": 3, \"13\": 4, \"37\": 2, \"33\": 2, \"45\": 1, \"4\": 1, \"36\": 2, \"3\": 1}, \"41\": {\"41\": 27, \"55\": 1}, \"25\": {\"25\": 50, \"41\": 1, \"50\": 7, \"51\": 8, \"18\": 3, \"38\": 2, \"30\": 14, \"17\": 4, \"52\": 2, \"27\": 3, \"20\": 21, \"21\": 8, \"3\": 5, \"53\": 8, \"29\": 1, \"9\": 2, \"6\": 4, \"57\": 1, \"8\": 2}, \"6\": {\"41\": 3, \"48\": 7, \"6\": 55, \"33\": 1, \"27\": 1, \"50\": 2, \"3\": 5, \"55\": 1, \"46\": 2, \"23\": 1, \"52\": 2, \"30\": 4, \"18\": 2, \"54\": 2}, \"35\": {\"35\": 26, \"9\": 1, \"57\": 1}, \"20\": {\"20\": 100, \"27\": 1, \"50\": 4, \"25\": 7, \"18\": 4, \"30\": 3, \"47\": 1, \"3\": 2, \"46\": 4}, \"23\": {\"23\": 127, \"47\": 1, \"16\": 4, \"46\": 2}, \"22\": {\"22\": 121, \"7\": 2, \"13\": 3, \"43\": 3, \"55\": 7, \"56\": 3, \"42\": 1}, \"19\": {\"55\": 4, \"19\": 60, \"45\": 4, \"4\": 12, \"1\": 2, \"32\": 1, \"29\": 5, \"22\": 7, \"35\": 1, \"9\": 9, \"17\": 3, \"56\": 1, \"21\": 1, \"28\": 1, \"51\": 1, \"14\": 1, \"54\": 1, \"24\": 1, \"53\": 1}, \"55\": {\"55\": 118, \"42\": 3, \"13\": 2, \"1\": 1}, \"30\": {\"30\": 101, \"3\": 5, \"20\": 3, \"46\": 2, \"18\": 3, \"52\": 1, \"23\": 1, \"6\": 2, \"50\": 2}}, \"C_1\": {\"24\": {\"39\": 3, \"21\": 1, \"24\": 60, \"52\": 6, \"22\": 14, \"11\": 7, \"23\": 2, \"27\": 6, \"10\": 2, \"15\": 4, \"43\": 3}, \"25\": {\"9\": 15, \"25\": 104, \"30\": 4, \"42\": 1, \"33\": 1, \"18\": 4, \"51\": 2, \"3\": 1, \"45\": 2, \"16\": 3, \"37\": 1, \"56\": 1, \"53\": 1}, \"45\": {\"45\": 122, \"17\": 1, \"19\": 2, \"9\": 6, \"30\": 3, \"56\": 6, \"47\": 1, \"8\": 1, \"42\": 2}, \"42\": {\"42\": 35, \"37\": 1, \"45\": 2, \"56\": 2}, \"2\": {\"2\": 36}, \"9\": {\"25\": 10, \"9\": 91, \"30\": 10, \"8\": 8, \"13\": 1, \"26\": 2, \"42\": 1, \"17\": 2, \"5\": 2, \"18\": 5, \"19\": 5, \"56\": 3, \"45\": 10}, \"21\": {\"21\": 108, \"23\": 3, \"38\": 1, \"0\": 1, \"15\": 7, \"10\": 3, \"22\": 1}, \"26\": {\"26\": 13, \"37\": 6, \"18\": 2, \"54\": 1, \"20\": 1, \"30\": 1}, \"49\": {\"49\": 32}, \"39\": {\"39\": 28}, \"46\": {\"2\": 5, \"48\": 25, \"46\": 43, \"50\": 6, \"57\": 2, \"5\": 20, \"4\": 1, \"17\": 4, \"6\": 6, \"19\": 2, \"24\": 1, \"13\": 3, \"44\": 4, \"1\": 1, \"53\": 1, \"3\": 3, \"14\": 1, \"35\": 1, \"56\": 1, \"20\": 1, \"43\": 2, \"29\": 2, \"12\": 1}, \"17\": {\"17\": 49, \"53\": 1, \"8\": 5, \"48\": 2, \"19\": 1, \"9\": 1, \"6\": 4, \"56\": 1}, \"19\": {\"1\": 12, \"19\": 82, \"57\": 14, \"42\": 4, \"12\": 3, \"56\": 25, \"35\": 1, \"45\": 6, \"20\": 3, \"30\": 1, \"7\": 1, \"3\": 1, \"47\": 1, \"5\": 2}, \"23\": {\"23\": 123, \"49\": 2, \"38\": 2, \"0\": 3, \"22\": 2}, \"1\": {\"1\": 87, \"56\": 3, \"19\": 3, \"17\": 1, \"57\": 5, \"44\": 1}, \"29\": {\"29\": 66, \"4\": 22, \"12\": 1, \"19\": 2, \"6\": 1, \"3\": 3, \"44\": 9, \"1\": 1, \"46\": 7, \"40\": 3, \"27\": 4, \"13\": 1, \"43\": 3, \"57\": 6, \"11\": 2, \"56\": 1, \"47\": 2, \"25\": 1, \"37\": 2, \"17\": 1, \"22\": 1, \"24\": 1}, \"56\": {\"56\": 103, \"42\": 3, \"19\": 13, \"57\": 13, \"1\": 5, \"45\": 5, \"12\": 1, \"30\": 1, \"47\": 4, \"26\": 1, \"44\": 1}, \"37\": {\"37\": 32}, \"33\": {\"33\": 32}, \"55\": {\"55\": 137, \"42\": 1, \"54\": 4}, \"30\": {\"30\": 115, \"18\": 3, \"45\": 2}, \"0\": {\"0\": 110, \"31\": 2, \"38\": 2, \"36\": 2, \"23\": 17, \"10\": 1, \"11\": 4, \"15\": 2, \"52\": 1, \"24\": 1, \"21\": 4, \"27\": 1, \"22\": 1, \"49\": 2, \"54\": 2}, \"36\": {\"32\": 4, \"36\": 55, \"0\": 1, \"16\": 3, \"7\": 1}, \"32\": {\"32\": 28, \"47\": 1, \"55\": 1, \"54\": 2}, \"31\": {\"31\": 28}, \"15\": {\"49\": 2, \"15\": 103, \"11\": 4, \"23\": 13, \"22\": 7, \"21\": 6, \"52\": 1, \"38\": 1, \"24\": 1}, \"12\": {\"12\": 96, \"26\": 1, \"5\": 1, \"20\": 14, \"35\": 1, \"13\": 1, \"37\": 1, \"1\": 1}, \"38\": {\"38\": 22, \"24\": 1, \"23\": 1}, \"40\": {\"40\": 94, \"46\": 2, \"56\": 2, \"44\": 9, \"43\": 2, \"3\": 2, \"4\": 19, \"19\": 3, \"27\": 1, \"29\": 10, \"47\": 1, \"50\": 1}, \"14\": {\"12\": 2, \"18\": 1, \"5\": 4, \"33\": 1, \"20\": 2, \"14\": 9, \"30\": 2, \"34\": 1, \"25\": 2}, \"13\": {\"12\": 13, \"13\": 73, \"51\": 15, \"20\": 15, \"47\": 3, \"53\": 2, \"1\": 6, \"57\": 2, \"56\": 3, \"5\": 8, \"9\": 1, \"46\": 1, \"25\": 2, \"41\": 1, \"37\": 1, \"55\": 3, \"19\": 1}, \"48\": {\"48\": 138, \"2\": 2, \"46\": 6, \"50\": 1, \"6\": 1}, \"34\": {\"34\": 22, \"33\": 2}, \"44\": {\"46\": 11, \"44\": 49, \"57\": 15, \"35\": 3, \"45\": 2, \"1\": 7, \"47\": 21, \"3\": 3, \"56\": 8, \"54\": 1, \"5\": 2, \"20\": 1, \"19\": 7}, \"5\": {\"5\": 151, \"13\": 1}, \"11\": {\"11\": 76, \"52\": 2, \"21\": 11, \"23\": 4, \"22\": 19, \"47\": 1, \"24\": 7, \"27\": 5, \"10\": 5, \"15\": 6, \"36\": 1, \"38\": 1, \"49\": 1, \"0\": 1}, \"7\": {\"7\": 28}, \"18\": {\"18\": 62, \"30\": 8, \"16\": 2}, \"52\": {\"52\": 116, \"39\": 3, \"24\": 7, \"22\": 3, \"43\": 1, \"27\": 1, \"23\": 1}, \"51\": {\"51\": 106, \"53\": 9, \"37\": 1, \"41\": 2, \"25\": 2, \"13\": 4, \"19\": 2, \"45\": 2, \"1\": 1, \"20\": 7, \"56\": 2, \"5\": 1, \"26\": 1, \"42\": 1, \"57\": 1}, \"41\": {\"51\": 2, \"41\": 21, \"13\": 1}, \"16\": {\"54\": 10, \"16\": 116, \"36\": 6, \"30\": 1, \"18\": 2, \"45\": 3, \"33\": 1, \"55\": 1}, \"22\": {\"15\": 20, \"49\": 2, \"22\": 66, \"39\": 2, \"52\": 5, \"11\": 15, \"31\": 1, \"24\": 10, \"21\": 4, \"23\": 6, \"27\": 1, \"38\": 1, \"10\": 1}, \"3\": {\"27\": 4, \"54\": 1, \"3\": 45, \"47\": 8, \"12\": 14, \"37\": 2, \"1\": 2, \"53\": 1, \"7\": 1, \"57\": 4, \"51\": 7, \"10\": 1, \"20\": 7, \"55\": 4, \"46\": 3, \"13\": 14, \"11\": 2, \"44\": 2, \"43\": 3, \"29\": 2, \"4\": 3, \"52\": 1, \"26\": 1, \"35\": 1, \"41\": 1, \"32\": 1, \"22\": 1, \"42\": 1, \"5\": 1, \"19\": 1, \"40\": 1}, \"54\": {\"54\": 104}, \"27\": {\"27\": 140, \"39\": 1, \"24\": 1, \"43\": 1, \"52\": 1}, \"20\": {\"20\": 98, \"12\": 17, \"26\": 1, \"7\": 2, \"13\": 4, \"51\": 5, \"54\": 4, \"1\": 2, \"55\": 1, \"47\": 3, \"19\": 1, \"37\": 1, \"42\": 1}, \"8\": {\"8\": 136, \"53\": 2}, \"50\": {\"50\": 144}, \"57\": {\"57\": 60, \"44\": 3, \"12\": 3, \"13\": 3, \"28\": 1, \"45\": 6, \"3\": 8, \"41\": 1, \"42\": 3, \"47\": 4, \"19\": 11, \"1\": 2, \"20\": 7, \"51\": 2, \"56\": 17, \"17\": 2, \"24\": 2, \"4\": 2, \"11\": 2, \"5\": 1}, \"4\": {\"29\": 17, \"20\": 3, \"4\": 78, \"3\": 6, \"12\": 1, \"57\": 3, \"40\": 4, \"46\": 6, \"24\": 1, \"43\": 1, \"13\": 1, \"27\": 4, \"26\": 1, \"47\": 2, \"48\": 1, \"51\": 1, \"44\": 2}, \"47\": {\"47\": 134, \"44\": 1, \"55\": 5, \"7\": 1, \"35\": 4, \"56\": 1}, \"10\": {\"10\": 54, \"23\": 2, \"15\": 5, \"22\": 4, \"27\": 4, \"21\": 15, \"11\": 5, \"24\": 4, \"31\": 1, \"0\": 1, \"52\": 1}, \"35\": {\"35\": 27, \"47\": 4, \"44\": 3, \"56\": 2}, \"53\": {\"41\": 1, \"5\": 2, \"53\": 101, \"51\": 16, \"57\": 1, \"6\": 1, \"8\": 2, \"30\": 1, \"42\": 1}, \"6\": {\"6\": 84, \"8\": 6, \"17\": 1, \"48\": 5}, \"43\": {\"23\": 2, \"43\": 125, \"27\": 4, \"52\": 6, \"39\": 1, \"10\": 1, \"24\": 1}, \"28\": {\"28\": 28}}, \"C_5\": {\"35\": {\"35\": 35, \"2\": 1}, \"57\": {\"57\": 117, \"23\": 7, \"39\": 1, \"3\": 3, \"52\": 2, \"14\": 1, \"28\": 1}, \"20\": {\"20\": 113, \"50\": 2, \"18\": 6, \"8\": 7, \"55\": 1, \"23\": 2, \"54\": 1, \"1\": 5, \"47\": 1, \"6\": 1, \"25\": 1, \"51\": 3, \"53\": 1}, \"12\": {\"12\": 65, \"45\": 4, \"7\": 2, \"48\": 4, \"38\": 3, \"6\": 3, \"30\": 4, \"1\": 1, \"17\": 5, \"26\": 2, \"9\": 2, \"27\": 1}, \"32\": {\"32\": 25, \"27\": 3, \"1\": 2, \"55\": 1, \"9\": 1}, \"25\": {\"25\": 65, \"14\": 1, \"8\": 10, \"20\": 29, \"41\": 3, \"53\": 9, \"50\": 1, \"51\": 5, \"42\": 3, \"55\": 1, \"27\": 1, \"21\": 2, \"48\": 1, \"37\": 1, \"18\": 2, \"39\": 2, \"30\": 1, \"13\": 1}, \"44\": {\"44\": 79, \"34\": 3, \"29\": 13, \"45\": 2, \"32\": 3, \"21\": 3, \"28\": 2, \"36\": 10, \"10\": 1, \"47\": 1, \"9\": 4, \"4\": 6, \"6\": 2, \"48\": 6, \"50\": 5, \"54\": 2, \"40\": 1, \"27\": 1, \"55\": 1, \"43\": 2, \"1\": 1}, \"31\": {\"31\": 36}, \"11\": {\"11\": 114, \"46\": 7, \"3\": 3, \"15\": 18, \"54\": 1, \"16\": 1, \"52\": 2, \"24\": 1, \"2\": 1, \"43\": 1, \"0\": 1}, \"47\": {\"47\": 90, \"23\": 3, \"16\": 1, \"57\": 6}, \"23\": {\"23\": 124}, \"43\": {\"43\": 126, \"35\": 2, \"11\": 2, \"52\": 3, \"56\": 6, \"3\": 1, \"13\": 1, \"14\": 1, \"47\": 1, \"36\": 1}, \"37\": {\"20\": 1, \"37\": 22, \"16\": 1}, \"5\": {\"44\": 13, \"5\": 81, \"19\": 5, \"21\": 1, \"4\": 13, \"25\": 2, \"40\": 6, \"55\": 3, \"38\": 1, \"43\": 1, \"29\": 1, \"50\": 1}, \"45\": {\"32\": 1, \"45\": 50, \"48\": 24, \"55\": 7, \"26\": 2, \"8\": 1, \"4\": 1, \"6\": 9, \"27\": 2, \"44\": 2, \"17\": 5, \"30\": 1, \"9\": 9, \"1\": 2, \"13\": 1, \"7\": 1, \"50\": 2, \"51\": 1, \"5\": 1, \"19\": 1, \"40\": 1}, \"7\": {\"7\": 29, \"48\": 1, \"17\": 1, \"26\": 1}, \"13\": {\"13\": 87, \"56\": 11, \"24\": 9, \"35\": 2, \"10\": 5, \"57\": 1, \"21\": 1, \"19\": 1, \"43\": 10, \"11\": 4, \"46\": 1, \"15\": 1, \"36\": 1, \"54\": 1, \"55\": 1}, \"49\": {\"49\": 36}, \"46\": {\"16\": 1, \"46\": 133, \"36\": 1, \"3\": 4, \"52\": 6, \"31\": 2, \"54\": 1}, \"16\": {\"3\": 4, \"16\": 97, \"0\": 2, \"52\": 8, \"46\": 12, \"56\": 1, \"11\": 4, \"57\": 1, \"47\": 3, \"24\": 1, \"49\": 1, \"23\": 2}, \"54\": {\"54\": 111, \"23\": 1}, \"19\": {\"50\": 6, \"19\": 64, \"45\": 5, \"32\": 2, \"22\": 1, \"51\": 2, \"48\": 13, \"27\": 7, \"9\": 14, \"1\": 3, \"17\": 3, \"36\": 1, \"56\": 1, \"21\": 2, \"29\": 12, \"40\": 3, \"55\": 5, \"25\": 2, \"35\": 1, \"28\": 1, \"30\": 1, \"44\": 3}, \"55\": {\"55\": 148, \"17\": 1, \"26\": 1}, \"30\": {\"30\": 120, \"17\": 3, \"6\": 1, \"50\": 1, \"1\": 2, \"48\": 1}, \"34\": {\"34\": 27, \"54\": 1, \"14\": 1, \"19\": 1, \"3\": 1, \"49\": 1, \"29\": 1, \"25\": 1, \"47\": 2}, \"50\": {\"20\": 3, \"44\": 2, \"30\": 2, \"54\": 7, \"1\": 18, \"51\": 12, \"50\": 27, \"21\": 6, \"53\": 14, \"27\": 6, \"9\": 6, \"17\": 2, \"18\": 2, \"14\": 1, \"48\": 9, \"45\": 3, \"6\": 4, \"47\": 1, \"4\": 1, \"29\": 2, \"25\": 1, \"23\": 2, \"8\": 3}, \"3\": {\"16\": 16, \"11\": 9, \"3\": 40, \"49\": 2, \"46\": 12, \"47\": 3, \"36\": 1, \"43\": 3, \"52\": 11, \"15\": 1, \"57\": 2}, \"10\": {\"10\": 48, \"56\": 5, \"13\": 5, \"43\": 1, \"24\": 5, \"36\": 2, \"14\": 1, \"29\": 1}, \"27\": {\"27\": 95, \"6\": 3, \"32\": 4, \"55\": 1, \"1\": 15, \"17\": 11, \"30\": 4, \"9\": 5, \"48\": 2, \"29\": 2}, \"33\": {\"27\": 2, \"33\": 16, \"28\": 5, \"32\": 1, \"21\": 1, \"50\": 1, \"7\": 1, \"1\": 1, \"30\": 2, \"14\": 1, \"48\": 1}, \"56\": {\"13\": 11, \"56\": 118, \"10\": 1, \"43\": 4, \"24\": 2, \"11\": 4, \"35\": 2}, \"9\": {\"54\": 1, \"32\": 3, \"9\": 57, \"17\": 13, \"1\": 18, \"38\": 1, \"55\": 7, \"5\": 1, \"29\": 3, \"45\": 3, \"50\": 2, \"48\": 14, \"27\": 14, \"44\": 1, \"6\": 6, \"37\": 1, \"33\": 1, \"8\": 1, \"21\": 2, \"40\": 1}, \"14\": {\"49\": 6, \"34\": 4, \"35\": 1, \"21\": 2, \"14\": 12, \"28\": 1, \"47\": 1, \"20\": 3, \"43\": 2, \"3\": 2, \"18\": 2, \"37\": 1, \"36\": 1, \"39\": 1, \"57\": 2, \"51\": 1, \"25\": 1, \"13\": 1}, \"4\": {\"5\": 9, \"4\": 48, \"40\": 8, \"41\": 1, \"44\": 12, \"45\": 2, \"7\": 1, \"36\": 1, \"55\": 3, \"56\": 3, \"43\": 2, \"29\": 3, \"21\": 2, \"19\": 3, \"10\": 1, \"53\": 1}, \"42\": {\"42\": 36, \"39\": 3, \"55\": 1}, \"24\": {\"10\": 7, \"24\": 58, \"56\": 7, \"0\": 4, \"11\": 3, \"15\": 1}, \"39\": {\"39\": 20}, \"52\": {\"52\": 120, \"2\": 1, \"14\": 1, \"16\": 1, \"46\": 4, \"43\": 1, \"54\": 1, \"3\": 1}, \"2\": {\"2\": 28}, \"28\": {\"47\": 1, \"28\": 29, \"39\": 1, \"57\": 1}, \"53\": {\"30\": 3, \"53\": 91, \"51\": 17, \"50\": 3, \"48\": 2, \"1\": 2, \"6\": 4}, \"17\": {\"38\": 3, \"17\": 64, \"1\": 4, \"30\": 19, \"53\": 1, \"6\": 6, \"9\": 11, \"48\": 2, \"27\": 5, \"50\": 1}, \"29\": {\"54\": 6, \"29\": 100, \"36\": 10, \"48\": 3, \"44\": 3, \"27\": 5, \"1\": 1, \"50\": 1, \"43\": 1, \"47\": 2}, \"38\": {\"30\": 4, \"26\": 1, \"8\": 1, \"38\": 16, \"17\": 4, \"6\": 3, \"1\": 1, \"45\": 2}, \"15\": {\"15\": 120, \"46\": 2, \"24\": 2, \"31\": 2, \"11\": 11, \"56\": 2, \"0\": 5}, \"26\": {\"26\": 20, \"45\": 4}, \"21\": {\"21\": 128, \"23\": 5, \"52\": 1, \"51\": 5, \"50\": 2, \"54\": 1, \"53\": 2}, \"41\": {\"41\": 25, \"20\": 2, \"54\": 1}, \"48\": {\"48\": 124, \"6\": 2, \"45\": 2, \"1\": 2, \"50\": 3, \"9\": 2, \"32\": 1}, \"22\": {\"49\": 2, \"22\": 24, \"29\": 1, \"36\": 1}, \"8\": {\"8\": 127, \"18\": 4, \"50\": 1, \"6\": 7, \"1\": 5, \"20\": 2, \"30\": 2}, \"18\": {\"18\": 59, \"20\": 4, \"42\": 1}, \"0\": {\"0\": 118, \"15\": 2, \"24\": 2}, \"1\": {\"1\": 119, \"50\": 1, \"30\": 1, \"48\": 11, \"45\": 1, \"6\": 2, \"32\": 1, \"27\": 2}, \"40\": {\"40\": 67, \"5\": 12, \"33\": 1, \"44\": 14, \"4\": 6, \"21\": 4, \"19\": 6, \"17\": 1, \"29\": 4, \"22\": 2, \"24\": 1, \"10\": 1, \"45\": 1, \"43\": 1, \"50\": 2, \"56\": 1}, \"6\": {\"30\": 10, \"32\": 2, \"6\": 55, \"17\": 3, \"1\": 5, \"8\": 10, \"48\": 8, \"55\": 6, \"50\": 3, \"45\": 7, \"27\": 3, \"9\": 3, \"53\": 1, \"26\": 1, \"7\": 5, \"22\": 1, \"51\": 3, \"42\": 1, \"25\": 1}, \"51\": {\"51\": 118, \"8\": 5, \"30\": 3, \"53\": 8, \"48\": 2, \"6\": 1, \"50\": 1, \"21\": 4}, \"36\": {\"36\": 90, \"43\": 1, \"52\": 1}}}, \"per_domain_accuracy\": {\"O_50\": {\"accuracy\": 0.7549479166666667, \"source?\": true}, \"O_14\": {\"accuracy\": 0.79453125, \"source?\": true}, \"O_32\": {\"accuracy\": 0.7434895833333334, \"source?\": true}, \"O_44\": {\"accuracy\": 0.6919270833333333, \"source?\": true}, \"O_8\": {\"accuracy\": 0.7114583333333333, \"source?\": true}, \"O_20\": {\"accuracy\": 0.6234375, \"source?\": true}, \"O_38\": {\"accuracy\": 0.77109375, \"source?\": true}, \"O_26\": {\"accuracy\": 0.5518229166666667, \"source?\": true}, \"C_4\": {\"accuracy\": 0.727840909090909, \"source?\": false}, \"C_2\": {\"accuracy\": 0.7206811797752809, \"source?\": false}, \"C_3\": {\"accuracy\": 0.7340029761904762, \"source?\": false}, \"C_1\": {\"accuracy\": 0.7474662162162162, \"source?\": false}, \"C_5\": {\"accuracy\": 0.7351606145251397, \"source?\": false}}}, \"history\": {\"epoch_indices\": [1, 2, 3, 4, 5, 6, 7], \"train_label_loss\": [1.0531035645110975, 0.9306784671553898, 0.8395953449065842, 0.6954979560803622, 0.5887725424742148, 0.5253430599296864, 0.49308821453180696], \"source_val_label_loss\": [1.9344232082366943, 0.8574985861778259, 0.7852807641029358, 0.6082214117050171, 0.5813856720924377, 0.5846248865127563, 0.49817267060279846], \"target_val_label_loss\": [222.2027587890625, 145.5393829345703, 44.903045654296875, 67.42677307128906, 96.61485290527344, 89.57320404052734, 138.02426147460938], \"source_val_acc_label\": [0.58310546875, 0.682421875, 0.7053385416666667, 0.7772135416666667, 0.7862955729166666, 0.78203125, 0.8202473958333333], \"target_val_acc_label\": [0.494, 0.6196428571428572, 0.7332142857142857, 0.7269285714285715, 0.7034285714285714, 0.69525, 0.6742142857142858]}, \"dataset_metrics\": {\"source\": {\"train\": {\"n_unique_x\": 179200, \"n_unique_y\": 16, \"n_batch/episode\": 6720}, \"val\": {\"n_unique_x\": 38400, \"n_unique_y\": 16, \"n_batch/episode\": 960}, \"test\": {\"n_unique_x\": 38400, \"n_unique_y\": 16, \"n_batch/episode\": 960}}, \"target\": {\"train\": {\"n_unique_x\": 175197, \"n_unique_y\": 58, \"n_batch/episode\": 6309}, \"val\": {\"n_unique_x\": 37166, \"n_unique_y\": 58, \"n_batch/episode\": 875}, \"test\": {\"n_unique_x\": 37642, \"n_unique_y\": 58, \"n_batch/episode\": 890}}}}'"
      ]
     },
     "execution_count": 29,
     "metadata": {},
     "output_type": "execute_result"
    }
   ],
   "source": [
    "json.dumps(experiment)"
   ]
  }
 ],
 "metadata": {
  "celltoolbar": "Tags",
  "kernelspec": {
   "display_name": "Python 3 (ipykernel)",
   "language": "python",
   "name": "python3"
  },
  "language_info": {
   "codemirror_mode": {
    "name": "ipython",
    "version": 3
   },
   "file_extension": ".py",
   "mimetype": "text/x-python",
   "name": "python",
   "nbconvert_exporter": "python",
   "pygments_lexer": "ipython3",
   "version": "3.8.12"
  },
  "papermill": {
   "default_parameters": {},
   "duration": 1350.56933,
   "end_time": "2022-03-28T06:07:19.956146",
   "environment_variables": {},
   "exception": null,
   "input_path": "/root/csc500-main/csc500-notebooks/templates/tl_ptn_template.ipynb",
   "output_path": "trial.ipynb",
   "parameters": {
    "parameters": {
     "BEST_MODEL_PATH": "./best_model.pth",
     "NUM_LOGS_PER_EPOCH": 10,
     "criteria_for_best": "target_accuracy",
     "dataset_seed": 500,
     "datasets": [
      {
       "domain_prefix": "C_",
       "domains": [
        1,
        2,
        3,
        4,
        5
       ],
       "episode_transforms": [],
       "labels": [
        "1-10.",
        "1-11.",
        "1-15.",
        "1-16.",
        "1-17.",
        "1-18.",
        "1-19.",
        "10-4.",
        "10-7.",
        "11-1.",
        "11-14.",
        "11-17.",
        "11-20.",
        "11-7.",
        "13-20.",
        "13-8.",
        "14-10.",
        "14-11.",
        "14-14.",
        "14-7.",
        "15-1.",
        "15-20.",
        "16-1.",
        "16-16.",
        "17-10.",
        "17-11.",
        "17-2.",
        "19-1.",
        "19-16.",
        "19-19.",
        "19-20.",
        "19-3.",
        "2-10.",
        "2-11.",
        "2-17.",
        "2-18.",
        "2-20.",
        "2-3.",
        "2-4.",
        "2-5.",
        "2-6.",
        "2-7.",
        "2-8.",
        "3-13.",
        "3-18.",
        "3-3.",
        "4-1.",
        "4-10.",
        "4-11.",
        "4-19.",
        "5-5.",
        "6-15.",
        "7-10.",
        "7-14.",
        "8-18.",
        "8-20.",
        "8-3.",
        "8-8."
       ],
       "num_examples_per_domain_per_label": -1,
       "pickle_path": "/root/csc500-main/datasets/cores.stratified_ds.2022A.pkl",
       "source_or_target_dataset": "target",
       "x_transforms": [
        "unit_power",
        "jitter_256_1",
        "lowpass_+/-10MHz",
        "take_200"
       ]
      },
      {
       "domain_prefix": "O_",
       "domains": [
        32,
        38,
        8,
        44,
        14,
        50,
        20,
        26
       ],
       "episode_transforms": [],
       "labels": [
        "3123D52",
        "3123D65",
        "3123D79",
        "3123D80",
        "3123D54",
        "3123D70",
        "3123D7B",
        "3123D89",
        "3123D58",
        "3123D76",
        "3123D7D",
        "3123EFE",
        "3123D64",
        "3123D78",
        "3123D7E",
        "3124E4A"
       ],
       "num_examples_per_domain_per_label": 2000,
       "pickle_path": "/root/csc500-main/datasets/oracle.Run1_framed_2000Examples_stratified_ds.2022A.pkl",
       "source_or_target_dataset": "source",
       "x_transforms": [
        "unit_power",
        "jitter_256_1",
        "take_200",
        "resample_20Msps_to_25Msps"
       ]
      }
     ],
     "device": "cuda",
     "experiment_name": "tl_3-jitter1v2:oracle.run1.framed -> cores",
     "lr": 0.0001,
     "n_epoch": 50,
     "n_query": 2,
     "n_shot": 3,
     "n_way": 16,
     "patience": 3,
     "seed": 500,
     "test_k_factor": 2,
     "torch_default_dtype": "torch.float32",
     "train_k_factor": 3,
     "val_k_factor": 2,
     "x_net": [
      {
       "class": "nnReshape",
       "kargs": {
        "shape": [
         -1,
         1,
         2,
         256
        ]
       }
      },
      {
       "class": "Conv2d",
       "kargs": {
        "bias": false,
        "in_channels": 1,
        "kernel_size": [
         1,
         7
        ],
        "out_channels": 256,
        "padding": [
         0,
         3
        ]
       }
      },
      {
       "class": "ReLU",
       "kargs": {
        "inplace": true
       }
      },
      {
       "class": "BatchNorm2d",
       "kargs": {
        "num_features": 256
       }
      },
      {
       "class": "Conv2d",
       "kargs": {
        "bias": true,
        "in_channels": 256,
        "kernel_size": [
         2,
         7
        ],
        "out_channels": 80,
        "padding": [
         0,
         3
        ]
       }
      },
      {
       "class": "ReLU",
       "kargs": {
        "inplace": true
       }
      },
      {
       "class": "BatchNorm2d",
       "kargs": {
        "num_features": 80
       }
      },
      {
       "class": "Flatten",
       "kargs": {}
      },
      {
       "class": "Linear",
       "kargs": {
        "in_features": 20480,
        "out_features": 256
       }
      },
      {
       "class": "ReLU",
       "kargs": {
        "inplace": true
       }
      },
      {
       "class": "BatchNorm1d",
       "kargs": {
        "num_features": 256
       }
      },
      {
       "class": "Linear",
       "kargs": {
        "in_features": 256,
        "out_features": 256
       }
      }
     ],
     "x_shape": [
      2,
      256
     ]
    }
   },
   "start_time": "2022-03-28T05:44:49.386816",
   "version": "2.3.4"
  }
 },
 "nbformat": 4,
 "nbformat_minor": 5
}