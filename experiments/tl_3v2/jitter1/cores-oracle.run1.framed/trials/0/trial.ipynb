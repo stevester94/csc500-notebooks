{
 "cells": [
  {
   "cell_type": "markdown",
   "id": "9fea5f46",
   "metadata": {
    "papermill": {
     "duration": 0.021477,
     "end_time": "2022-03-26T18:44:45.716910",
     "exception": false,
     "start_time": "2022-03-26T18:44:45.695433",
     "status": "completed"
    },
    "tags": []
   },
   "source": [
    "# Transfer Learning Template"
   ]
  },
  {
   "cell_type": "code",
   "execution_count": 1,
   "id": "0902182a",
   "metadata": {
    "execution": {
     "iopub.execute_input": "2022-03-26T18:44:45.764998Z",
     "iopub.status.busy": "2022-03-26T18:44:45.762437Z",
     "iopub.status.idle": "2022-03-26T18:44:46.703346Z",
     "shell.execute_reply": "2022-03-26T18:44:46.703870Z"
    },
    "papermill": {
     "duration": 0.970662,
     "end_time": "2022-03-26T18:44:46.704107",
     "exception": false,
     "start_time": "2022-03-26T18:44:45.733445",
     "status": "completed"
    },
    "tags": []
   },
   "outputs": [],
   "source": [
    "%load_ext autoreload\n",
    "%autoreload 2\n",
    "%matplotlib inline\n",
    "\n",
    "    \n",
    "import os, json, sys, time, random\n",
    "import numpy as np\n",
    "import torch\n",
    "from torch.optim import Adam\n",
    "from  easydict import EasyDict\n",
    "import matplotlib.pyplot as plt\n",
    "\n",
    "from steves_models.steves_ptn import Steves_Prototypical_Network\n",
    "\n",
    "from steves_utils.lazy_iterable_wrapper import Lazy_Iterable_Wrapper\n",
    "from steves_utils.iterable_aggregator import Iterable_Aggregator\n",
    "from steves_utils.ptn_train_eval_test_jig import  PTN_Train_Eval_Test_Jig\n",
    "from steves_utils.torch_sequential_builder import build_sequential\n",
    "from steves_utils.torch_utils import get_dataset_metrics, ptn_confusion_by_domain_over_dataloader\n",
    "from steves_utils.utils_v2 import (per_domain_accuracy_from_confusion, get_datasets_base_path)\n",
    "from steves_utils.PTN.utils import independent_accuracy_assesment\n",
    "\n",
    "from torch.utils.data import DataLoader\n",
    "\n",
    "from steves_utils.stratified_dataset.episodic_accessor import Episodic_Accessor_Factory\n",
    "\n",
    "from steves_utils.ptn_do_report import (\n",
    "    get_loss_curve,\n",
    "    get_results_table,\n",
    "    get_parameters_table,\n",
    "    get_domain_accuracies,\n",
    ")\n",
    "\n",
    "from steves_utils.transforms import get_chained_transform"
   ]
  },
  {
   "cell_type": "markdown",
   "id": "41c840b4",
   "metadata": {
    "papermill": {
     "duration": 0.018242,
     "end_time": "2022-03-26T18:44:46.738098",
     "exception": false,
     "start_time": "2022-03-26T18:44:46.719856",
     "status": "completed"
    },
    "tags": []
   },
   "source": [
    "# Allowed Parameters\n",
    "These are allowed parameters, not defaults\n",
    "Each of these values need to be present in the injected parameters (the notebook will raise an exception if they are not present)\n",
    "\n",
    "Papermill uses the cell tag \"parameters\" to inject the real parameters below this cell.\n",
    "Enable tags to see what I mean"
   ]
  },
  {
   "cell_type": "code",
   "execution_count": 2,
   "id": "fd44eb83",
   "metadata": {
    "execution": {
     "iopub.execute_input": "2022-03-26T18:44:46.767878Z",
     "iopub.status.busy": "2022-03-26T18:44:46.767468Z",
     "iopub.status.idle": "2022-03-26T18:44:46.782320Z",
     "shell.execute_reply": "2022-03-26T18:44:46.781783Z"
    },
    "papermill": {
     "duration": 0.031635,
     "end_time": "2022-03-26T18:44:46.782437",
     "exception": false,
     "start_time": "2022-03-26T18:44:46.750802",
     "status": "completed"
    },
    "tags": []
   },
   "outputs": [],
   "source": [
    "required_parameters = {\n",
    "    \"experiment_name\",\n",
    "    \"lr\",\n",
    "    \"device\",\n",
    "    \"seed\",\n",
    "    \"dataset_seed\",\n",
    "    \"n_shot\",\n",
    "    \"n_query\",\n",
    "    \"n_way\",\n",
    "    \"train_k_factor\",\n",
    "    \"val_k_factor\",\n",
    "    \"test_k_factor\",\n",
    "    \"n_epoch\",\n",
    "    \"patience\",\n",
    "    \"criteria_for_best\",\n",
    "    \"x_net\",\n",
    "    \"datasets\",\n",
    "    \"torch_default_dtype\",\n",
    "    \"NUM_LOGS_PER_EPOCH\",\n",
    "    \"BEST_MODEL_PATH\",\n",
    "    \"x_shape\",\n",
    "}"
   ]
  },
  {
   "cell_type": "code",
   "execution_count": 3,
   "id": "fa3f0049",
   "metadata": {
    "execution": {
     "iopub.execute_input": "2022-03-26T18:44:46.821685Z",
     "iopub.status.busy": "2022-03-26T18:44:46.821237Z",
     "iopub.status.idle": "2022-03-26T18:44:46.834525Z",
     "shell.execute_reply": "2022-03-26T18:44:46.834145Z"
    },
    "papermill": {
     "duration": 0.035911,
     "end_time": "2022-03-26T18:44:46.834620",
     "exception": false,
     "start_time": "2022-03-26T18:44:46.798709",
     "status": "completed"
    },
    "tags": [
     "parameters"
    ]
   },
   "outputs": [],
   "source": [
    "from steves_utils.CORES.utils import (\n",
    "    ALL_NODES,\n",
    "    ALL_NODES_MINIMUM_1000_EXAMPLES,\n",
    "    ALL_DAYS\n",
    ")\n",
    "\n",
    "from steves_utils.ORACLE.utils_v2 import (\n",
    "    ALL_DISTANCES_FEET_NARROWED,\n",
    "    ALL_RUNS,\n",
    "    ALL_SERIAL_NUMBERS,\n",
    ")\n",
    "\n",
    "standalone_parameters = {}\n",
    "standalone_parameters[\"experiment_name\"] = \"STANDALONE PTN\"\n",
    "standalone_parameters[\"lr\"] = 0.001\n",
    "standalone_parameters[\"device\"] = \"cuda\"\n",
    "\n",
    "standalone_parameters[\"seed\"] = 1337\n",
    "standalone_parameters[\"dataset_seed\"] = 1337\n",
    "\n",
    "standalone_parameters[\"n_way\"] = 8\n",
    "standalone_parameters[\"n_shot\"] = 3\n",
    "standalone_parameters[\"n_query\"]  = 2\n",
    "standalone_parameters[\"train_k_factor\"] = 1\n",
    "standalone_parameters[\"val_k_factor\"] = 2\n",
    "standalone_parameters[\"test_k_factor\"] = 2\n",
    "\n",
    "\n",
    "standalone_parameters[\"n_epoch\"] = 50\n",
    "\n",
    "standalone_parameters[\"patience\"] = 10\n",
    "standalone_parameters[\"criteria_for_best\"] = \"source_loss\"\n",
    "\n",
    "standalone_parameters[\"datasets\"] = [\n",
    "    {\n",
    "        \"labels\": ALL_SERIAL_NUMBERS,\n",
    "        \"domains\": ALL_DISTANCES_FEET_NARROWED,\n",
    "        \"num_examples_per_domain_per_label\": 100,\n",
    "        \"pickle_path\": os.path.join(get_datasets_base_path(), \"oracle.Run1_framed_2000Examples_stratified_ds.2022A.pkl\"),\n",
    "        \"source_or_target_dataset\": \"source\",\n",
    "        \"x_transforms\": [\"unit_mag\", \"minus_two\"],\n",
    "        \"episode_transforms\": [],\n",
    "        \"domain_prefix\": \"ORACLE_\"\n",
    "    },\n",
    "    {\n",
    "        \"labels\": ALL_NODES,\n",
    "        \"domains\": ALL_DAYS,\n",
    "        \"num_examples_per_domain_per_label\": 100,\n",
    "        \"pickle_path\": os.path.join(get_datasets_base_path(), \"cores.stratified_ds.2022A.pkl\"),\n",
    "        \"source_or_target_dataset\": \"target\",\n",
    "        \"x_transforms\": [\"unit_power\", \"times_zero\"],\n",
    "        \"episode_transforms\": [],\n",
    "        \"domain_prefix\": \"CORES_\"\n",
    "    }   \n",
    "]\n",
    "\n",
    "standalone_parameters[\"torch_default_dtype\"] = \"torch.float32\" \n",
    "\n",
    "\n",
    "\n",
    "standalone_parameters[\"x_net\"] =     [\n",
    "    {\"class\": \"nnReshape\", \"kargs\": {\"shape\":[-1, 1, 2, 256]}},\n",
    "    {\"class\": \"Conv2d\", \"kargs\": { \"in_channels\":1, \"out_channels\":256, \"kernel_size\":(1,7), \"bias\":False, \"padding\":(0,3), },},\n",
    "    {\"class\": \"ReLU\", \"kargs\": {\"inplace\": True}},\n",
    "    {\"class\": \"BatchNorm2d\", \"kargs\": {\"num_features\":256}},\n",
    "\n",
    "    {\"class\": \"Conv2d\", \"kargs\": { \"in_channels\":256, \"out_channels\":80, \"kernel_size\":(2,7), \"bias\":True, \"padding\":(0,3), },},\n",
    "    {\"class\": \"ReLU\", \"kargs\": {\"inplace\": True}},\n",
    "    {\"class\": \"BatchNorm2d\", \"kargs\": {\"num_features\":80}},\n",
    "    {\"class\": \"Flatten\", \"kargs\": {}},\n",
    "\n",
    "    {\"class\": \"Linear\", \"kargs\": {\"in_features\": 80*256, \"out_features\": 256}}, # 80 units per IQ pair\n",
    "    {\"class\": \"ReLU\", \"kargs\": {\"inplace\": True}},\n",
    "    {\"class\": \"BatchNorm1d\", \"kargs\": {\"num_features\":256}},\n",
    "\n",
    "    {\"class\": \"Linear\", \"kargs\": {\"in_features\": 256, \"out_features\": 256}},\n",
    "]\n",
    "\n",
    "# Parameters relevant to results\n",
    "# These parameters will basically never need to change\n",
    "standalone_parameters[\"NUM_LOGS_PER_EPOCH\"] = 10\n",
    "standalone_parameters[\"BEST_MODEL_PATH\"] = \"./best_model.pth\"\n",
    "\n",
    "\n",
    "\n",
    "\n"
   ]
  },
  {
   "cell_type": "code",
   "execution_count": 4,
   "id": "0ddb2835",
   "metadata": {
    "execution": {
     "iopub.execute_input": "2022-03-26T18:44:46.873963Z",
     "iopub.status.busy": "2022-03-26T18:44:46.873197Z",
     "iopub.status.idle": "2022-03-26T18:44:46.887872Z",
     "shell.execute_reply": "2022-03-26T18:44:46.887434Z"
    },
    "papermill": {
     "duration": 0.037307,
     "end_time": "2022-03-26T18:44:46.887978",
     "exception": false,
     "start_time": "2022-03-26T18:44:46.850671",
     "status": "completed"
    },
    "tags": [
     "injected-parameters"
    ]
   },
   "outputs": [],
   "source": [
    "# Parameters\n",
    "parameters = {\n",
    "    \"experiment_name\": \"tl_3-jitter1v2:cores -> oracle.run1.framed\",\n",
    "    \"device\": \"cuda\",\n",
    "    \"lr\": 0.0001,\n",
    "    \"x_shape\": [2, 256],\n",
    "    \"n_shot\": 3,\n",
    "    \"n_query\": 2,\n",
    "    \"train_k_factor\": 3,\n",
    "    \"val_k_factor\": 2,\n",
    "    \"test_k_factor\": 2,\n",
    "    \"torch_default_dtype\": \"torch.float32\",\n",
    "    \"n_epoch\": 50,\n",
    "    \"patience\": 3,\n",
    "    \"criteria_for_best\": \"target_accuracy\",\n",
    "    \"x_net\": [\n",
    "        {\"class\": \"nnReshape\", \"kargs\": {\"shape\": [-1, 1, 2, 256]}},\n",
    "        {\n",
    "            \"class\": \"Conv2d\",\n",
    "            \"kargs\": {\n",
    "                \"in_channels\": 1,\n",
    "                \"out_channels\": 256,\n",
    "                \"kernel_size\": [1, 7],\n",
    "                \"bias\": False,\n",
    "                \"padding\": [0, 3],\n",
    "            },\n",
    "        },\n",
    "        {\"class\": \"ReLU\", \"kargs\": {\"inplace\": True}},\n",
    "        {\"class\": \"BatchNorm2d\", \"kargs\": {\"num_features\": 256}},\n",
    "        {\n",
    "            \"class\": \"Conv2d\",\n",
    "            \"kargs\": {\n",
    "                \"in_channels\": 256,\n",
    "                \"out_channels\": 80,\n",
    "                \"kernel_size\": [2, 7],\n",
    "                \"bias\": True,\n",
    "                \"padding\": [0, 3],\n",
    "            },\n",
    "        },\n",
    "        {\"class\": \"ReLU\", \"kargs\": {\"inplace\": True}},\n",
    "        {\"class\": \"BatchNorm2d\", \"kargs\": {\"num_features\": 80}},\n",
    "        {\"class\": \"Flatten\", \"kargs\": {}},\n",
    "        {\"class\": \"Linear\", \"kargs\": {\"in_features\": 20480, \"out_features\": 256}},\n",
    "        {\"class\": \"ReLU\", \"kargs\": {\"inplace\": True}},\n",
    "        {\"class\": \"BatchNorm1d\", \"kargs\": {\"num_features\": 256}},\n",
    "        {\"class\": \"Linear\", \"kargs\": {\"in_features\": 256, \"out_features\": 256}},\n",
    "    ],\n",
    "    \"NUM_LOGS_PER_EPOCH\": 10,\n",
    "    \"BEST_MODEL_PATH\": \"./best_model.pth\",\n",
    "    \"n_way\": 16,\n",
    "    \"datasets\": [\n",
    "        {\n",
    "            \"labels\": [\n",
    "                \"1-10.\",\n",
    "                \"1-11.\",\n",
    "                \"1-15.\",\n",
    "                \"1-16.\",\n",
    "                \"1-17.\",\n",
    "                \"1-18.\",\n",
    "                \"1-19.\",\n",
    "                \"10-4.\",\n",
    "                \"10-7.\",\n",
    "                \"11-1.\",\n",
    "                \"11-14.\",\n",
    "                \"11-17.\",\n",
    "                \"11-20.\",\n",
    "                \"11-7.\",\n",
    "                \"13-20.\",\n",
    "                \"13-8.\",\n",
    "                \"14-10.\",\n",
    "                \"14-11.\",\n",
    "                \"14-14.\",\n",
    "                \"14-7.\",\n",
    "                \"15-1.\",\n",
    "                \"15-20.\",\n",
    "                \"16-1.\",\n",
    "                \"16-16.\",\n",
    "                \"17-10.\",\n",
    "                \"17-11.\",\n",
    "                \"17-2.\",\n",
    "                \"19-1.\",\n",
    "                \"19-16.\",\n",
    "                \"19-19.\",\n",
    "                \"19-20.\",\n",
    "                \"19-3.\",\n",
    "                \"2-10.\",\n",
    "                \"2-11.\",\n",
    "                \"2-17.\",\n",
    "                \"2-18.\",\n",
    "                \"2-20.\",\n",
    "                \"2-3.\",\n",
    "                \"2-4.\",\n",
    "                \"2-5.\",\n",
    "                \"2-6.\",\n",
    "                \"2-7.\",\n",
    "                \"2-8.\",\n",
    "                \"3-13.\",\n",
    "                \"3-18.\",\n",
    "                \"3-3.\",\n",
    "                \"4-1.\",\n",
    "                \"4-10.\",\n",
    "                \"4-11.\",\n",
    "                \"4-19.\",\n",
    "                \"5-5.\",\n",
    "                \"6-15.\",\n",
    "                \"7-10.\",\n",
    "                \"7-14.\",\n",
    "                \"8-18.\",\n",
    "                \"8-20.\",\n",
    "                \"8-3.\",\n",
    "                \"8-8.\",\n",
    "            ],\n",
    "            \"domains\": [1, 2, 3, 4, 5],\n",
    "            \"num_examples_per_domain_per_label\": -1,\n",
    "            \"pickle_path\": \"/mnt/wd500GB/CSC500/csc500-main/datasets/cores.stratified_ds.2022A.pkl\",\n",
    "            \"source_or_target_dataset\": \"source\",\n",
    "            \"x_transforms\": [\n",
    "                \"unit_power\",\n",
    "                \"jitter_256_1\",\n",
    "                \"lowpass_+/-10MHz\",\n",
    "                \"take_200\",\n",
    "            ],\n",
    "            \"episode_transforms\": [],\n",
    "            \"domain_prefix\": \"C_\",\n",
    "        },\n",
    "        {\n",
    "            \"labels\": [\n",
    "                \"3123D52\",\n",
    "                \"3123D65\",\n",
    "                \"3123D79\",\n",
    "                \"3123D80\",\n",
    "                \"3123D54\",\n",
    "                \"3123D70\",\n",
    "                \"3123D7B\",\n",
    "                \"3123D89\",\n",
    "                \"3123D58\",\n",
    "                \"3123D76\",\n",
    "                \"3123D7D\",\n",
    "                \"3123EFE\",\n",
    "                \"3123D64\",\n",
    "                \"3123D78\",\n",
    "                \"3123D7E\",\n",
    "                \"3124E4A\",\n",
    "            ],\n",
    "            \"domains\": [32, 38, 8, 44, 14, 50, 20, 26],\n",
    "            \"num_examples_per_domain_per_label\": 2000,\n",
    "            \"pickle_path\": \"/mnt/wd500GB/CSC500/csc500-main/datasets/oracle.Run1_framed_2000Examples_stratified_ds.2022A.pkl\",\n",
    "            \"source_or_target_dataset\": \"target\",\n",
    "            \"x_transforms\": [\n",
    "                \"unit_power\",\n",
    "                \"jitter_256_1\",\n",
    "                \"take_200\",\n",
    "                \"resample_20Msps_to_25Msps\",\n",
    "            ],\n",
    "            \"episode_transforms\": [],\n",
    "            \"domain_prefix\": \"O_\",\n",
    "        },\n",
    "    ],\n",
    "    \"seed\": 1337,\n",
    "    \"dataset_seed\": 1337,\n",
    "}\n"
   ]
  },
  {
   "cell_type": "code",
   "execution_count": 5,
   "id": "8fa1cc33",
   "metadata": {
    "execution": {
     "iopub.execute_input": "2022-03-26T18:44:46.923404Z",
     "iopub.status.busy": "2022-03-26T18:44:46.923140Z",
     "iopub.status.idle": "2022-03-26T18:44:46.938120Z",
     "shell.execute_reply": "2022-03-26T18:44:46.937629Z"
    },
    "papermill": {
     "duration": 0.031657,
     "end_time": "2022-03-26T18:44:46.938217",
     "exception": false,
     "start_time": "2022-03-26T18:44:46.906560",
     "status": "completed"
    },
    "tags": []
   },
   "outputs": [],
   "source": [
    "# Set this to True if you want to run this template directly\n",
    "STANDALONE = False\n",
    "if STANDALONE:\n",
    "    print(\"parameters not injected, running with standalone_parameters\")\n",
    "    parameters = standalone_parameters\n",
    "\n",
    "if not 'parameters' in locals() and not 'parameters' in globals():\n",
    "    raise Exception(\"Parameter injection failed\")\n",
    "\n",
    "#Use an easy dict for all the parameters\n",
    "p = EasyDict(parameters)\n",
    "\n",
    "if \"x_shape\" not in p:\n",
    "    p.x_shape = [2,256] # Default to this if we dont supply x_shape\n",
    "\n",
    "\n",
    "supplied_keys = set(p.keys())\n",
    "\n",
    "if  supplied_keys != required_parameters:\n",
    "    print(\"Parameters are incorrect\")\n",
    "    if len(supplied_keys - required_parameters)>0: print(\"Shouldn't have:\", str(supplied_keys - required_parameters))\n",
    "    if len(required_parameters - supplied_keys)>0: print(\"Need to have:\", str(required_parameters - supplied_keys))\n",
    "    raise RuntimeError(\"Parameters are incorrect\")"
   ]
  },
  {
   "cell_type": "code",
   "execution_count": 6,
   "id": "3a028d58",
   "metadata": {
    "execution": {
     "iopub.execute_input": "2022-03-26T18:44:46.974365Z",
     "iopub.status.busy": "2022-03-26T18:44:46.972970Z",
     "iopub.status.idle": "2022-03-26T18:44:46.989178Z",
     "shell.execute_reply": "2022-03-26T18:44:46.988739Z"
    },
    "papermill": {
     "duration": 0.031634,
     "end_time": "2022-03-26T18:44:46.989276",
     "exception": false,
     "start_time": "2022-03-26T18:44:46.957642",
     "status": "completed"
    },
    "tags": []
   },
   "outputs": [],
   "source": [
    "###################################\n",
    "# Set the RNGs and make it all deterministic\n",
    "###################################\n",
    "np.random.seed(p.seed)\n",
    "random.seed(p.seed)\n",
    "torch.manual_seed(p.seed)\n",
    "\n",
    "torch.use_deterministic_algorithms(True) "
   ]
  },
  {
   "cell_type": "code",
   "execution_count": 7,
   "id": "b691acf6",
   "metadata": {
    "execution": {
     "iopub.execute_input": "2022-03-26T18:44:47.023935Z",
     "iopub.status.busy": "2022-03-26T18:44:47.022939Z",
     "iopub.status.idle": "2022-03-26T18:44:47.036088Z",
     "shell.execute_reply": "2022-03-26T18:44:47.035609Z"
    },
    "papermill": {
     "duration": 0.028977,
     "end_time": "2022-03-26T18:44:47.036187",
     "exception": false,
     "start_time": "2022-03-26T18:44:47.007210",
     "status": "completed"
    },
    "tags": []
   },
   "outputs": [],
   "source": [
    "###########################################\n",
    "# The stratified datasets honor this\n",
    "###########################################\n",
    "torch.set_default_dtype(eval(p.torch_default_dtype))"
   ]
  },
  {
   "cell_type": "code",
   "execution_count": 8,
   "id": "b5fba671",
   "metadata": {
    "execution": {
     "iopub.execute_input": "2022-03-26T18:44:47.068814Z",
     "iopub.status.busy": "2022-03-26T18:44:47.068550Z",
     "iopub.status.idle": "2022-03-26T18:44:47.109493Z",
     "shell.execute_reply": "2022-03-26T18:44:47.109005Z"
    },
    "papermill": {
     "duration": 0.056782,
     "end_time": "2022-03-26T18:44:47.109610",
     "exception": false,
     "start_time": "2022-03-26T18:44:47.052828",
     "status": "completed"
    },
    "tags": []
   },
   "outputs": [],
   "source": [
    "###################################\n",
    "# Build the network(s)\n",
    "# Note: It's critical to do this AFTER setting the RNG\n",
    "###################################\n",
    "x_net = build_sequential(p.x_net)"
   ]
  },
  {
   "cell_type": "code",
   "execution_count": 9,
   "id": "5d7e61cc",
   "metadata": {
    "execution": {
     "iopub.execute_input": "2022-03-26T18:44:47.142163Z",
     "iopub.status.busy": "2022-03-26T18:44:47.141624Z",
     "iopub.status.idle": "2022-03-26T18:44:47.157238Z",
     "shell.execute_reply": "2022-03-26T18:44:47.157558Z"
    },
    "papermill": {
     "duration": 0.032109,
     "end_time": "2022-03-26T18:44:47.157669",
     "exception": false,
     "start_time": "2022-03-26T18:44:47.125560",
     "status": "completed"
    },
    "tags": []
   },
   "outputs": [],
   "source": [
    "start_time_secs = time.time()"
   ]
  },
  {
   "cell_type": "code",
   "execution_count": 10,
   "id": "c6b67dfd",
   "metadata": {
    "execution": {
     "iopub.execute_input": "2022-03-26T18:44:47.190682Z",
     "iopub.status.busy": "2022-03-26T18:44:47.190176Z",
     "iopub.status.idle": "2022-03-26T18:44:47.203784Z",
     "shell.execute_reply": "2022-03-26T18:44:47.204217Z"
    },
    "papermill": {
     "duration": 0.030398,
     "end_time": "2022-03-26T18:44:47.204336",
     "exception": false,
     "start_time": "2022-03-26T18:44:47.173938",
     "status": "completed"
    },
    "tags": []
   },
   "outputs": [],
   "source": [
    "p.domains_source = []\n",
    "p.domains_target = []\n",
    "\n",
    "\n",
    "train_original_source = []\n",
    "val_original_source   = []\n",
    "test_original_source  = []\n",
    "\n",
    "train_original_target = []\n",
    "val_original_target   = []\n",
    "test_original_target  = []"
   ]
  },
  {
   "cell_type": "code",
   "execution_count": 11,
   "id": "e3d9c3d3",
   "metadata": {
    "execution": {
     "iopub.execute_input": "2022-03-26T18:44:47.236719Z",
     "iopub.status.busy": "2022-03-26T18:44:47.236455Z",
     "iopub.status.idle": "2022-03-26T18:44:47.250629Z",
     "shell.execute_reply": "2022-03-26T18:44:47.251254Z"
    },
    "papermill": {
     "duration": 0.030639,
     "end_time": "2022-03-26T18:44:47.251400",
     "exception": false,
     "start_time": "2022-03-26T18:44:47.220761",
     "status": "completed"
    },
    "tags": []
   },
   "outputs": [],
   "source": [
    "# global_x_transform_func = lambda x: normalize(x.to(torch.get_default_dtype()), \"unit_power\") # unit_power, unit_mag\n",
    "# global_x_transform_func = lambda x: normalize(x, \"unit_power\") # unit_power, unit_mag"
   ]
  },
  {
   "cell_type": "code",
   "execution_count": 12,
   "id": "acb78fd2",
   "metadata": {
    "execution": {
     "iopub.execute_input": "2022-03-26T18:44:47.288910Z",
     "iopub.status.busy": "2022-03-26T18:44:47.288633Z",
     "iopub.status.idle": "2022-03-26T18:44:47.302270Z",
     "shell.execute_reply": "2022-03-26T18:44:47.301905Z"
    },
    "papermill": {
     "duration": 0.034359,
     "end_time": "2022-03-26T18:44:47.302358",
     "exception": false,
     "start_time": "2022-03-26T18:44:47.267999",
     "status": "completed"
    },
    "tags": []
   },
   "outputs": [],
   "source": [
    "def add_dataset(\n",
    "    labels,\n",
    "    domains,\n",
    "    pickle_path,\n",
    "    x_transforms,\n",
    "    episode_transforms,\n",
    "    domain_prefix,\n",
    "    num_examples_per_domain_per_label,\n",
    "    source_or_target_dataset:str,\n",
    "    iterator_seed=p.seed,\n",
    "    dataset_seed=p.dataset_seed,\n",
    "    n_shot=p.n_shot,\n",
    "    n_way=p.n_way,\n",
    "    n_query=p.n_query,\n",
    "    train_val_test_k_factors=(p.train_k_factor,p.val_k_factor,p.test_k_factor),\n",
    "):\n",
    "   \n",
    "    if x_transforms == []: x_transform = None\n",
    "    else: x_transform = get_chained_transform(x_transforms)\n",
    "    \n",
    "    if episode_transforms == []: episode_transform = None\n",
    "    else: raise Exception(\"episode_transforms not implemented\")\n",
    "    \n",
    "    episode_transform = lambda tup, _prefix=domain_prefix: (_prefix + str(tup[0]), tup[1])\n",
    "\n",
    "\n",
    "    eaf = Episodic_Accessor_Factory(\n",
    "        labels=labels,\n",
    "        domains=domains,\n",
    "        num_examples_per_domain_per_label=num_examples_per_domain_per_label,\n",
    "        iterator_seed=iterator_seed,\n",
    "        dataset_seed=dataset_seed,\n",
    "        n_shot=n_shot,\n",
    "        n_way=n_way,\n",
    "        n_query=n_query,\n",
    "        train_val_test_k_factors=train_val_test_k_factors,\n",
    "        pickle_path=pickle_path,\n",
    "        x_transform_func=x_transform,\n",
    "    )\n",
    "\n",
    "    train, val, test = eaf.get_train(), eaf.get_val(), eaf.get_test()\n",
    "    train = Lazy_Iterable_Wrapper(train, episode_transform)\n",
    "    val = Lazy_Iterable_Wrapper(val, episode_transform)\n",
    "    test = Lazy_Iterable_Wrapper(test, episode_transform)\n",
    "\n",
    "    if source_or_target_dataset==\"source\":\n",
    "        train_original_source.append(train)\n",
    "        val_original_source.append(val)\n",
    "        test_original_source.append(test)\n",
    "\n",
    "        p.domains_source.extend(\n",
    "            [domain_prefix + str(u) for u in domains]\n",
    "        )\n",
    "    elif source_or_target_dataset==\"target\":\n",
    "        train_original_target.append(train)\n",
    "        val_original_target.append(val)\n",
    "        test_original_target.append(test)\n",
    "        p.domains_target.extend(\n",
    "            [domain_prefix + str(u) for u in domains]\n",
    "        )\n",
    "    else:\n",
    "        raise Exception(f\"invalid source_or_target_dataset: {source_or_target_dataset}\")\n",
    "    "
   ]
  },
  {
   "cell_type": "code",
   "execution_count": 13,
   "id": "fe266617",
   "metadata": {
    "execution": {
     "iopub.execute_input": "2022-03-26T18:44:47.333825Z",
     "iopub.status.busy": "2022-03-26T18:44:47.333459Z",
     "iopub.status.idle": "2022-03-26T18:46:12.863710Z",
     "shell.execute_reply": "2022-03-26T18:46:12.863225Z"
    },
    "papermill": {
     "duration": 85.54555,
     "end_time": "2022-03-26T18:46:12.863818",
     "exception": false,
     "start_time": "2022-03-26T18:44:47.318268",
     "status": "completed"
    },
    "tags": []
   },
   "outputs": [],
   "source": [
    "for ds in p.datasets:\n",
    "    add_dataset(**ds)"
   ]
  },
  {
   "cell_type": "code",
   "execution_count": 14,
   "id": "b90d65ac",
   "metadata": {
    "execution": {
     "iopub.execute_input": "2022-03-26T18:46:12.901916Z",
     "iopub.status.busy": "2022-03-26T18:46:12.901138Z",
     "iopub.status.idle": "2022-03-26T18:46:12.917252Z",
     "shell.execute_reply": "2022-03-26T18:46:12.916900Z"
    },
    "papermill": {
     "duration": 0.033969,
     "end_time": "2022-03-26T18:46:12.917340",
     "exception": false,
     "start_time": "2022-03-26T18:46:12.883371",
     "status": "completed"
    },
    "tags": []
   },
   "outputs": [],
   "source": [
    "# from steves_utils.CORES.utils import (\n",
    "#     ALL_NODES,\n",
    "#     ALL_NODES_MINIMUM_1000_EXAMPLES,\n",
    "#     ALL_DAYS\n",
    "# )\n",
    "\n",
    "# add_dataset(\n",
    "#     labels=ALL_NODES,\n",
    "#     domains = ALL_DAYS,\n",
    "#     num_examples_per_domain_per_label=100,\n",
    "#     pickle_path=os.path.join(get_datasets_base_path(), \"cores.stratified_ds.2022A.pkl\"),\n",
    "#     source_or_target_dataset=\"target\",\n",
    "#     x_transform_func=global_x_transform_func,\n",
    "#     domain_modifier=lambda u: f\"cores_{u}\"\n",
    "# )"
   ]
  },
  {
   "cell_type": "code",
   "execution_count": 15,
   "id": "76db484d",
   "metadata": {
    "execution": {
     "iopub.execute_input": "2022-03-26T18:46:12.952474Z",
     "iopub.status.busy": "2022-03-26T18:46:12.952218Z",
     "iopub.status.idle": "2022-03-26T18:46:12.963900Z",
     "shell.execute_reply": "2022-03-26T18:46:12.963616Z"
    },
    "papermill": {
     "duration": 0.026948,
     "end_time": "2022-03-26T18:46:12.963964",
     "exception": false,
     "start_time": "2022-03-26T18:46:12.937016",
     "status": "completed"
    },
    "tags": []
   },
   "outputs": [],
   "source": [
    "# from steves_utils.ORACLE.utils_v2 import (\n",
    "#     ALL_DISTANCES_FEET,\n",
    "#     ALL_RUNS,\n",
    "#     ALL_SERIAL_NUMBERS,\n",
    "# )\n",
    "\n",
    "\n",
    "# add_dataset(\n",
    "#     labels=ALL_SERIAL_NUMBERS,\n",
    "#     domains = list(set(ALL_DISTANCES_FEET) - {2,62}),\n",
    "#     num_examples_per_domain_per_label=100,\n",
    "#     pickle_path=os.path.join(get_datasets_base_path(), \"oracle.Run2_framed_2000Examples_stratified_ds.2022A.pkl\"),\n",
    "#     source_or_target_dataset=\"source\",\n",
    "#     x_transform_func=global_x_transform_func,\n",
    "#     domain_modifier=lambda u: f\"oracle1_{u}\"\n",
    "# )\n"
   ]
  },
  {
   "cell_type": "code",
   "execution_count": 16,
   "id": "97dea9d2",
   "metadata": {
    "execution": {
     "iopub.execute_input": "2022-03-26T18:46:12.997180Z",
     "iopub.status.busy": "2022-03-26T18:46:12.996919Z",
     "iopub.status.idle": "2022-03-26T18:46:13.013457Z",
     "shell.execute_reply": "2022-03-26T18:46:13.012974Z"
    },
    "papermill": {
     "duration": 0.032199,
     "end_time": "2022-03-26T18:46:13.013566",
     "exception": false,
     "start_time": "2022-03-26T18:46:12.981367",
     "status": "completed"
    },
    "tags": []
   },
   "outputs": [],
   "source": [
    "# from steves_utils.ORACLE.utils_v2 import (\n",
    "#     ALL_DISTANCES_FEET,\n",
    "#     ALL_RUNS,\n",
    "#     ALL_SERIAL_NUMBERS,\n",
    "# )\n",
    "\n",
    "\n",
    "# add_dataset(\n",
    "#     labels=ALL_SERIAL_NUMBERS,\n",
    "#     domains = list(set(ALL_DISTANCES_FEET) - {2,62,56}),\n",
    "#     num_examples_per_domain_per_label=100,\n",
    "#     pickle_path=os.path.join(get_datasets_base_path(), \"oracle.Run2_framed_2000Examples_stratified_ds.2022A.pkl\"),\n",
    "#     source_or_target_dataset=\"source\",\n",
    "#     x_transform_func=global_x_transform_func,\n",
    "#     domain_modifier=lambda u: f\"oracle2_{u}\"\n",
    "# )"
   ]
  },
  {
   "cell_type": "code",
   "execution_count": 17,
   "id": "6f289866",
   "metadata": {
    "execution": {
     "iopub.execute_input": "2022-03-26T18:46:13.047702Z",
     "iopub.status.busy": "2022-03-26T18:46:13.047447Z",
     "iopub.status.idle": "2022-03-26T18:46:13.059301Z",
     "shell.execute_reply": "2022-03-26T18:46:13.058851Z"
    },
    "papermill": {
     "duration": 0.0272,
     "end_time": "2022-03-26T18:46:13.059409",
     "exception": false,
     "start_time": "2022-03-26T18:46:13.032209",
     "status": "completed"
    },
    "tags": []
   },
   "outputs": [],
   "source": [
    "# add_dataset(\n",
    "#     labels=list(range(19)),\n",
    "#     domains = [0,1,2],\n",
    "#     num_examples_per_domain_per_label=100,\n",
    "#     pickle_path=os.path.join(get_datasets_base_path(), \"metehan.stratified_ds.2022A.pkl\"),\n",
    "#     source_or_target_dataset=\"target\",\n",
    "#     x_transform_func=global_x_transform_func,\n",
    "#     domain_modifier=lambda u: f\"met_{u}\"\n",
    "# )"
   ]
  },
  {
   "cell_type": "code",
   "execution_count": 18,
   "id": "86a863c3",
   "metadata": {
    "execution": {
     "iopub.execute_input": "2022-03-26T18:46:13.092283Z",
     "iopub.status.busy": "2022-03-26T18:46:13.091910Z",
     "iopub.status.idle": "2022-03-26T18:46:13.105220Z",
     "shell.execute_reply": "2022-03-26T18:46:13.104764Z"
    },
    "papermill": {
     "duration": 0.030138,
     "end_time": "2022-03-26T18:46:13.105325",
     "exception": false,
     "start_time": "2022-03-26T18:46:13.075187",
     "status": "completed"
    },
    "tags": []
   },
   "outputs": [],
   "source": [
    "# # from steves_utils.wisig.utils import (\n",
    "# #     ALL_NODES_MINIMUM_100_EXAMPLES,\n",
    "# #     ALL_NODES_MINIMUM_500_EXAMPLES,\n",
    "# #     ALL_NODES_MINIMUM_1000_EXAMPLES,\n",
    "# #     ALL_DAYS\n",
    "# # )\n",
    "\n",
    "# import steves_utils.wisig.utils as wisig\n",
    "\n",
    "\n",
    "# add_dataset(\n",
    "#     labels=wisig.ALL_NODES_MINIMUM_100_EXAMPLES,\n",
    "#     domains = wisig.ALL_DAYS,\n",
    "#     num_examples_per_domain_per_label=100,\n",
    "#     pickle_path=os.path.join(get_datasets_base_path(), \"wisig.node3-19.stratified_ds.2022A.pkl\"),\n",
    "#     source_or_target_dataset=\"target\",\n",
    "#     x_transform_func=global_x_transform_func,\n",
    "#     domain_modifier=lambda u: f\"wisig_{u}\"\n",
    "# )"
   ]
  },
  {
   "cell_type": "code",
   "execution_count": 19,
   "id": "fd5442bc",
   "metadata": {
    "execution": {
     "iopub.execute_input": "2022-03-26T18:46:13.143527Z",
     "iopub.status.busy": "2022-03-26T18:46:13.143255Z",
     "iopub.status.idle": "2022-03-26T18:46:13.158885Z",
     "shell.execute_reply": "2022-03-26T18:46:13.158388Z"
    },
    "papermill": {
     "duration": 0.035523,
     "end_time": "2022-03-26T18:46:13.158991",
     "exception": false,
     "start_time": "2022-03-26T18:46:13.123468",
     "status": "completed"
    },
    "tags": []
   },
   "outputs": [],
   "source": [
    "###################################\n",
    "# Build the dataset\n",
    "###################################\n",
    "train_original_source = Iterable_Aggregator(train_original_source, p.seed)\n",
    "val_original_source = Iterable_Aggregator(val_original_source, p.seed)\n",
    "test_original_source = Iterable_Aggregator(test_original_source, p.seed)\n",
    "\n",
    "\n",
    "train_original_target = Iterable_Aggregator(train_original_target, p.seed)\n",
    "val_original_target = Iterable_Aggregator(val_original_target, p.seed)\n",
    "test_original_target = Iterable_Aggregator(test_original_target, p.seed)\n",
    "\n",
    "# For CNN We only use X and Y. And we only train on the source.\n",
    "# Properly form the data using a transform lambda and Lazy_Iterable_Wrapper. Finally wrap them in a dataloader\n",
    "\n",
    "transform_lambda = lambda ex: ex[1] # Original is (<domain>, <episode>) so we strip down to episode only\n",
    "\n",
    "train_processed_source = Lazy_Iterable_Wrapper(train_original_source, transform_lambda)\n",
    "val_processed_source   = Lazy_Iterable_Wrapper(val_original_source, transform_lambda)\n",
    "test_processed_source  = Lazy_Iterable_Wrapper(test_original_source, transform_lambda)\n",
    "\n",
    "train_processed_target = Lazy_Iterable_Wrapper(train_original_target, transform_lambda)\n",
    "val_processed_target   = Lazy_Iterable_Wrapper(val_original_target, transform_lambda)\n",
    "test_processed_target  = Lazy_Iterable_Wrapper(test_original_target, transform_lambda)\n",
    "\n",
    "datasets = EasyDict({\n",
    "    \"source\": {\n",
    "        \"original\": {\"train\":train_original_source, \"val\":val_original_source, \"test\":test_original_source},\n",
    "        \"processed\": {\"train\":train_processed_source, \"val\":val_processed_source, \"test\":test_processed_source}\n",
    "    },\n",
    "    \"target\": {\n",
    "        \"original\": {\"train\":train_original_target, \"val\":val_original_target, \"test\":test_original_target},\n",
    "        \"processed\": {\"train\":train_processed_target, \"val\":val_processed_target, \"test\":test_processed_target}\n",
    "    },\n",
    "})"
   ]
  },
  {
   "cell_type": "code",
   "execution_count": 20,
   "id": "5b3c01fc",
   "metadata": {
    "execution": {
     "iopub.execute_input": "2022-03-26T18:46:13.196547Z",
     "iopub.status.busy": "2022-03-26T18:46:13.196140Z",
     "iopub.status.idle": "2022-03-26T18:46:19.409947Z",
     "shell.execute_reply": "2022-03-26T18:46:19.409699Z"
    },
    "papermill": {
     "duration": 6.230943,
     "end_time": "2022-03-26T18:46:19.410011",
     "exception": false,
     "start_time": "2022-03-26T18:46:13.179068",
     "status": "completed"
    },
    "tags": []
   },
   "outputs": [
    {
     "name": "stdout",
     "output_type": "stream",
     "text": [
      "{'C_3', 'C_1', 'C_2', 'C_4', 'C_5'}\n"
     ]
    },
    {
     "name": "stdout",
     "output_type": "stream",
     "text": [
      "{'O_20', 'O_26', 'O_50', 'O_32', 'O_14', 'O_8', 'O_44', 'O_38'}\n"
     ]
    },
    {
     "name": "stdout",
     "output_type": "stream",
     "text": [
      "tensor([[[0., 0., 0.,  ..., 0., 0., 0.],\n",
      "         [0., 0., 0.,  ..., 0., 0., 0.]],\n",
      "\n",
      "        [[0., 0., 0.,  ..., 0., 0., 0.],\n",
      "         [0., 0., 0.,  ..., 0., 0., 0.]],\n",
      "\n",
      "        [[0., 0., 0.,  ..., 0., 0., 0.],\n",
      "         [0., 0., 0.,  ..., 0., 0., 0.]],\n",
      "\n",
      "        ...,\n",
      "\n",
      "        [[0., 0., 0.,  ..., 0., 0., 0.],\n",
      "         [0., 0., 0.,  ..., 0., 0., 0.]],\n",
      "\n",
      "        [[0., 0., 0.,  ..., 0., 0., 0.],\n",
      "         [0., 0., 0.,  ..., 0., 0., 0.]],\n",
      "\n",
      "        [[0., 0., 0.,  ..., 0., 0., 0.],\n",
      "         [0., 0., 0.,  ..., 0., 0., 0.]]])\n"
     ]
    }
   ],
   "source": [
    "from steves_utils.transforms import get_average_magnitude, get_average_power\n",
    "\n",
    "print(set([u for u,_ in val_original_source]))\n",
    "print(set([u for u,_ in val_original_target]))\n",
    "\n",
    "s_x, s_y, q_x, q_y, _ = next(iter(train_processed_source))\n",
    "print(s_x)\n",
    "\n",
    "# for ds in [\n",
    "#     train_processed_source,\n",
    "#     val_processed_source,\n",
    "#     test_processed_source,\n",
    "#     train_processed_target,\n",
    "#     val_processed_target,\n",
    "#     test_processed_target\n",
    "# ]:\n",
    "#     for s_x, s_y, q_x, q_y, _ in ds:\n",
    "#         for X in (s_x, q_x):\n",
    "#             for x in X:\n",
    "#                 assert np.isclose(get_average_magnitude(x.numpy()), 1.0)\n",
    "#                 assert np.isclose(get_average_power(x.numpy()), 1.0)\n",
    "                "
   ]
  },
  {
   "cell_type": "code",
   "execution_count": 21,
   "id": "bbdacba1",
   "metadata": {
    "execution": {
     "iopub.execute_input": "2022-03-26T18:46:19.443230Z",
     "iopub.status.busy": "2022-03-26T18:46:19.442699Z",
     "iopub.status.idle": "2022-03-26T18:46:19.501575Z",
     "shell.execute_reply": "2022-03-26T18:46:19.501964Z"
    },
    "papermill": {
     "duration": 0.07699,
     "end_time": "2022-03-26T18:46:19.502112",
     "exception": false,
     "start_time": "2022-03-26T18:46:19.425122",
     "status": "completed"
    },
    "tags": []
   },
   "outputs": [
    {
     "name": "stdout",
     "output_type": "stream",
     "text": [
      "(2, 256)\n"
     ]
    }
   ],
   "source": [
    "###################################\n",
    "# Build the model\n",
    "###################################\n",
    "# easfsl only wants a tuple for the shape\n",
    "model = Steves_Prototypical_Network(x_net, device=p.device, x_shape=tuple(p.x_shape))\n",
    "optimizer = Adam(params=model.parameters(), lr=p.lr)"
   ]
  },
  {
   "cell_type": "code",
   "execution_count": 22,
   "id": "22b39ac5",
   "metadata": {
    "execution": {
     "iopub.execute_input": "2022-03-26T18:46:19.540855Z",
     "iopub.status.busy": "2022-03-26T18:46:19.540595Z",
     "iopub.status.idle": "2022-03-26T19:12:32.947699Z",
     "shell.execute_reply": "2022-03-26T19:12:32.947446Z"
    },
    "papermill": {
     "duration": 1573.424491,
     "end_time": "2022-03-26T19:12:32.947766",
     "exception": false,
     "start_time": "2022-03-26T18:46:19.523275",
     "status": "completed"
    },
    "tags": []
   },
   "outputs": [
    {
     "name": "stdout",
     "output_type": "stream",
     "text": [
      "epoch: 1, [batch: 1 / 6320], examples_per_second: 47.9100, train_label_loss: 2.6745, \n"
     ]
    },
    {
     "name": "stdout",
     "output_type": "stream",
     "text": [
      "epoch: 1, [batch: 632 / 6320], examples_per_second: 3219.3095, train_label_loss: 0.0121, \n"
     ]
    },
    {
     "name": "stdout",
     "output_type": "stream",
     "text": [
      "epoch: 1, [batch: 1264 / 6320], examples_per_second: 3219.6628, train_label_loss: 0.0007, \n"
     ]
    },
    {
     "name": "stdout",
     "output_type": "stream",
     "text": [
      "epoch: 1, [batch: 1896 / 6320], examples_per_second: 3190.8784, train_label_loss: 0.0001, \n"
     ]
    },
    {
     "name": "stdout",
     "output_type": "stream",
     "text": [
      "epoch: 1, [batch: 2528 / 6320], examples_per_second: 1913.3454, train_label_loss: 0.0042, \n"
     ]
    },
    {
     "name": "stdout",
     "output_type": "stream",
     "text": [
      "epoch: 1, [batch: 3160 / 6320], examples_per_second: 1667.8314, train_label_loss: 0.0001, \n"
     ]
    },
    {
     "name": "stdout",
     "output_type": "stream",
     "text": [
      "epoch: 1, [batch: 3792 / 6320], examples_per_second: 1687.7463, train_label_loss: 0.0001, \n"
     ]
    },
    {
     "name": "stdout",
     "output_type": "stream",
     "text": [
      "epoch: 1, [batch: 4424 / 6320], examples_per_second: 1687.1536, train_label_loss: 0.0011, \n"
     ]
    },
    {
     "name": "stdout",
     "output_type": "stream",
     "text": [
      "epoch: 1, [batch: 5056 / 6320], examples_per_second: 1660.7611, train_label_loss: 0.0021, \n"
     ]
    },
    {
     "name": "stdout",
     "output_type": "stream",
     "text": [
      "epoch: 1, [batch: 5688 / 6320], examples_per_second: 1658.0710, train_label_loss: 0.0215, \n"
     ]
    },
    {
     "name": "stdout",
     "output_type": "stream",
     "text": [
      "=============================================================\n",
      "epoch: 1, source_val_acc_label: 0.9917, target_val_acc_label: 0.3315, source_val_label_loss: 0.2608, target_val_label_loss: 1.9160, \n",
      "=============================================================\n"
     ]
    },
    {
     "name": "stdout",
     "output_type": "stream",
     "text": [
      "New best\n"
     ]
    },
    {
     "name": "stdout",
     "output_type": "stream",
     "text": [
      "epoch: 2, [batch: 1 / 6305], examples_per_second: 2.5762, train_label_loss: 0.0018, \n"
     ]
    },
    {
     "name": "stdout",
     "output_type": "stream",
     "text": [
      "epoch: 2, [batch: 631 / 6305], examples_per_second: 1694.7528, train_label_loss: 0.0000, \n"
     ]
    },
    {
     "name": "stdout",
     "output_type": "stream",
     "text": [
      "epoch: 2, [batch: 1261 / 6305], examples_per_second: 1683.3401, train_label_loss: 0.0016, \n"
     ]
    },
    {
     "name": "stdout",
     "output_type": "stream",
     "text": [
      "epoch: 2, [batch: 1892 / 6305], examples_per_second: 2049.6512, train_label_loss: 0.0033, \n"
     ]
    },
    {
     "name": "stdout",
     "output_type": "stream",
     "text": [
      "epoch: 2, [batch: 2522 / 6305], examples_per_second: 1903.4034, train_label_loss: 0.0001, \n"
     ]
    },
    {
     "name": "stdout",
     "output_type": "stream",
     "text": [
      "epoch: 2, [batch: 3153 / 6305], examples_per_second: 1687.2398, train_label_loss: 0.0002, \n"
     ]
    },
    {
     "name": "stdout",
     "output_type": "stream",
     "text": [
      "epoch: 2, [batch: 3783 / 6305], examples_per_second: 1694.4687, train_label_loss: 0.0263, \n"
     ]
    },
    {
     "name": "stdout",
     "output_type": "stream",
     "text": [
      "epoch: 2, [batch: 4413 / 6305], examples_per_second: 1691.7270, train_label_loss: 0.0004, \n"
     ]
    },
    {
     "name": "stdout",
     "output_type": "stream",
     "text": [
      "epoch: 2, [batch: 5044 / 6305], examples_per_second: 1696.6515, train_label_loss: 0.0037, \n"
     ]
    },
    {
     "name": "stdout",
     "output_type": "stream",
     "text": [
      "epoch: 2, [batch: 5674 / 6305], examples_per_second: 1704.7703, train_label_loss: 0.0004, \n"
     ]
    },
    {
     "name": "stdout",
     "output_type": "stream",
     "text": [
      "=============================================================\n",
      "epoch: 2, source_val_acc_label: 0.9979, target_val_acc_label: 0.2994, source_val_label_loss: 0.0122, target_val_label_loss: 2.4347, \n",
      "=============================================================\n"
     ]
    },
    {
     "name": "stdout",
     "output_type": "stream",
     "text": [
      "epoch: 3, [batch: 1 / 6307], examples_per_second: 2.5731, train_label_loss: 0.0003, \n"
     ]
    },
    {
     "name": "stdout",
     "output_type": "stream",
     "text": [
      "epoch: 3, [batch: 631 / 6307], examples_per_second: 1705.3371, train_label_loss: 0.0000, \n"
     ]
    },
    {
     "name": "stdout",
     "output_type": "stream",
     "text": [
      "epoch: 3, [batch: 1262 / 6307], examples_per_second: 1706.2782, train_label_loss: 0.0003, \n"
     ]
    },
    {
     "name": "stdout",
     "output_type": "stream",
     "text": [
      "epoch: 3, [batch: 1892 / 6307], examples_per_second: 2148.6642, train_label_loss: 0.0801, \n"
     ]
    },
    {
     "name": "stdout",
     "output_type": "stream",
     "text": [
      "epoch: 3, [batch: 2523 / 6307], examples_per_second: 1966.1994, train_label_loss: 0.0056, \n"
     ]
    },
    {
     "name": "stdout",
     "output_type": "stream",
     "text": [
      "epoch: 3, [batch: 3154 / 6307], examples_per_second: 1714.8853, train_label_loss: 0.0019, \n"
     ]
    },
    {
     "name": "stdout",
     "output_type": "stream",
     "text": [
      "epoch: 3, [batch: 3784 / 6307], examples_per_second: 1688.0673, train_label_loss: 0.0001, \n"
     ]
    },
    {
     "name": "stdout",
     "output_type": "stream",
     "text": [
      "epoch: 3, [batch: 4415 / 6307], examples_per_second: 1669.5535, train_label_loss: 0.0002, \n"
     ]
    },
    {
     "name": "stdout",
     "output_type": "stream",
     "text": [
      "epoch: 3, [batch: 5045 / 6307], examples_per_second: 1676.1399, train_label_loss: 0.0007, \n"
     ]
    },
    {
     "name": "stdout",
     "output_type": "stream",
     "text": [
      "epoch: 3, [batch: 5676 / 6307], examples_per_second: 1682.5710, train_label_loss: 0.0011, \n"
     ]
    },
    {
     "name": "stdout",
     "output_type": "stream",
     "text": [
      "=============================================================\n",
      "epoch: 3, source_val_acc_label: 0.9995, target_val_acc_label: 0.3240, source_val_label_loss: 0.0061, target_val_label_loss: 2.0446, \n",
      "=============================================================\n"
     ]
    },
    {
     "name": "stdout",
     "output_type": "stream",
     "text": [
      "epoch: 4, [batch: 1 / 6315], examples_per_second: 2.5873, train_label_loss: 0.0000, \n"
     ]
    },
    {
     "name": "stdout",
     "output_type": "stream",
     "text": [
      "epoch: 4, [batch: 632 / 6315], examples_per_second: 1695.6961, train_label_loss: 0.0001, \n"
     ]
    },
    {
     "name": "stdout",
     "output_type": "stream",
     "text": [
      "epoch: 4, [batch: 1263 / 6315], examples_per_second: 1726.9987, train_label_loss: 0.0000, \n"
     ]
    },
    {
     "name": "stdout",
     "output_type": "stream",
     "text": [
      "epoch: 4, [batch: 1895 / 6315], examples_per_second: 2112.3974, train_label_loss: 0.0002, \n"
     ]
    },
    {
     "name": "stdout",
     "output_type": "stream",
     "text": [
      "epoch: 4, [batch: 2526 / 6315], examples_per_second: 1887.3686, train_label_loss: 0.0000, \n"
     ]
    },
    {
     "name": "stdout",
     "output_type": "stream",
     "text": [
      "epoch: 4, [batch: 3158 / 6315], examples_per_second: 1665.7829, train_label_loss: 0.0000, \n"
     ]
    },
    {
     "name": "stdout",
     "output_type": "stream",
     "text": [
      "epoch: 4, [batch: 3789 / 6315], examples_per_second: 1683.9104, train_label_loss: 0.0082, \n"
     ]
    },
    {
     "name": "stdout",
     "output_type": "stream",
     "text": [
      "epoch: 4, [batch: 4420 / 6315], examples_per_second: 1681.0085, train_label_loss: 0.0000, \n"
     ]
    },
    {
     "name": "stdout",
     "output_type": "stream",
     "text": [
      "epoch: 4, [batch: 5052 / 6315], examples_per_second: 1673.8663, train_label_loss: 0.0000, \n"
     ]
    },
    {
     "name": "stdout",
     "output_type": "stream",
     "text": [
      "epoch: 4, [batch: 5683 / 6315], examples_per_second: 1696.1070, train_label_loss: 0.0030, \n"
     ]
    },
    {
     "name": "stdout",
     "output_type": "stream",
     "text": [
      "=============================================================\n",
      "epoch: 4, source_val_acc_label: 0.9991, target_val_acc_label: 0.2678, source_val_label_loss: 0.0085, target_val_label_loss: 2.9197, \n",
      "=============================================================\n"
     ]
    },
    {
     "name": "stdout",
     "output_type": "stream",
     "text": [
      "epoch: 5, [batch: 1 / 6313], examples_per_second: 2.5878, train_label_loss: 0.0000, \n"
     ]
    },
    {
     "name": "stdout",
     "output_type": "stream",
     "text": [
      "epoch: 5, [batch: 632 / 6313], examples_per_second: 1652.5085, train_label_loss: 0.0001, \n"
     ]
    },
    {
     "name": "stdout",
     "output_type": "stream",
     "text": [
      "epoch: 5, [batch: 1263 / 6313], examples_per_second: 1669.3383, train_label_loss: 0.0001, \n"
     ]
    },
    {
     "name": "stdout",
     "output_type": "stream",
     "text": [
      "epoch: 5, [batch: 1894 / 6313], examples_per_second: 2085.9108, train_label_loss: 0.0000, \n"
     ]
    },
    {
     "name": "stdout",
     "output_type": "stream",
     "text": [
      "epoch: 5, [batch: 2525 / 6313], examples_per_second: 1925.5300, train_label_loss: 0.0000, \n"
     ]
    },
    {
     "name": "stdout",
     "output_type": "stream",
     "text": [
      "epoch: 5, [batch: 3157 / 6313], examples_per_second: 1704.3595, train_label_loss: 0.0000, \n"
     ]
    },
    {
     "name": "stdout",
     "output_type": "stream",
     "text": [
      "epoch: 5, [batch: 3788 / 6313], examples_per_second: 1710.1532, train_label_loss: 0.0000, \n"
     ]
    },
    {
     "name": "stdout",
     "output_type": "stream",
     "text": [
      "epoch: 5, [batch: 4419 / 6313], examples_per_second: 1710.7455, train_label_loss: 0.0000, \n"
     ]
    },
    {
     "name": "stdout",
     "output_type": "stream",
     "text": [
      "epoch: 5, [batch: 5050 / 6313], examples_per_second: 1681.0056, train_label_loss: 0.0000, \n"
     ]
    },
    {
     "name": "stdout",
     "output_type": "stream",
     "text": [
      "epoch: 5, [batch: 5681 / 6313], examples_per_second: 1671.9143, train_label_loss: 0.0000, \n"
     ]
    },
    {
     "name": "stdout",
     "output_type": "stream",
     "text": [
      "=============================================================\n",
      "epoch: 5, source_val_acc_label: 0.9988, target_val_acc_label: 0.2999, source_val_label_loss: 0.0105, target_val_label_loss: 2.7278, \n",
      "=============================================================\n"
     ]
    },
    {
     "name": "stdout",
     "output_type": "stream",
     "text": [
      "Patience (3) exhausted\n"
     ]
    }
   ],
   "source": [
    "###################################\n",
    "# train\n",
    "###################################\n",
    "jig = PTN_Train_Eval_Test_Jig(model, p.BEST_MODEL_PATH, p.device)\n",
    "\n",
    "jig.train(\n",
    "    train_iterable=datasets.source.processed.train,\n",
    "    source_val_iterable=datasets.source.processed.val,\n",
    "    target_val_iterable=datasets.target.processed.val,\n",
    "    num_epochs=p.n_epoch,\n",
    "    num_logs_per_epoch=p.NUM_LOGS_PER_EPOCH,\n",
    "    patience=p.patience,\n",
    "    optimizer=optimizer,\n",
    "    criteria_for_best=p.criteria_for_best,\n",
    ")"
   ]
  },
  {
   "cell_type": "code",
   "execution_count": 23,
   "id": "31e8fabf",
   "metadata": {
    "execution": {
     "iopub.execute_input": "2022-03-26T19:12:33.002712Z",
     "iopub.status.busy": "2022-03-26T19:12:33.002437Z",
     "iopub.status.idle": "2022-03-26T19:12:33.021632Z",
     "shell.execute_reply": "2022-03-26T19:12:33.021094Z"
    },
    "papermill": {
     "duration": 0.04812,
     "end_time": "2022-03-26T19:12:33.021745",
     "exception": false,
     "start_time": "2022-03-26T19:12:32.973625",
     "status": "completed"
    },
    "tags": []
   },
   "outputs": [],
   "source": [
    "total_experiment_time_secs = time.time() - start_time_secs"
   ]
  },
  {
   "cell_type": "code",
   "execution_count": 24,
   "id": "87b9595b",
   "metadata": {
    "execution": {
     "iopub.execute_input": "2022-03-26T19:12:33.084493Z",
     "iopub.status.busy": "2022-03-26T19:12:33.084197Z",
     "iopub.status.idle": "2022-03-26T19:14:56.749754Z",
     "shell.execute_reply": "2022-03-26T19:14:56.750178Z"
    },
    "papermill": {
     "duration": 143.698081,
     "end_time": "2022-03-26T19:14:56.750299",
     "exception": false,
     "start_time": "2022-03-26T19:12:33.052218",
     "status": "completed"
    },
    "tags": []
   },
   "outputs": [],
   "source": [
    "###################################\n",
    "# Evaluate the model\n",
    "###################################\n",
    "source_test_label_accuracy, source_test_label_loss = jig.test(datasets.source.processed.test)\n",
    "target_test_label_accuracy, target_test_label_loss = jig.test(datasets.target.processed.test)\n",
    "\n",
    "source_val_label_accuracy, source_val_label_loss = jig.test(datasets.source.processed.val)\n",
    "target_val_label_accuracy, target_val_label_loss = jig.test(datasets.target.processed.val)\n",
    "\n",
    "history = jig.get_history()\n",
    "\n",
    "total_epochs_trained = len(history[\"epoch_indices\"])\n",
    "\n",
    "val_dl = Iterable_Aggregator((datasets.source.original.val,datasets.target.original.val))\n",
    "\n",
    "confusion = ptn_confusion_by_domain_over_dataloader(model, p.device, val_dl)\n",
    "per_domain_accuracy = per_domain_accuracy_from_confusion(confusion)\n",
    "\n",
    "# Add a key to per_domain_accuracy for if it was a source domain\n",
    "for domain, accuracy in per_domain_accuracy.items():\n",
    "    per_domain_accuracy[domain] = {\n",
    "        \"accuracy\": accuracy,\n",
    "        \"source?\": domain in p.domains_source\n",
    "    }\n",
    "\n",
    "# Do an independent accuracy assesment JUST TO BE SURE!\n",
    "# _source_test_label_accuracy = independent_accuracy_assesment(model, datasets.source.processed.test, p.device)\n",
    "# _target_test_label_accuracy = independent_accuracy_assesment(model, datasets.target.processed.test, p.device)\n",
    "# _source_val_label_accuracy = independent_accuracy_assesment(model, datasets.source.processed.val, p.device)\n",
    "# _target_val_label_accuracy = independent_accuracy_assesment(model, datasets.target.processed.val, p.device)\n",
    "\n",
    "# assert(_source_test_label_accuracy == source_test_label_accuracy)\n",
    "# assert(_target_test_label_accuracy == target_test_label_accuracy)\n",
    "# assert(_source_val_label_accuracy == source_val_label_accuracy)\n",
    "# assert(_target_val_label_accuracy == target_val_label_accuracy)\n",
    "\n",
    "experiment = {\n",
    "    \"experiment_name\": p.experiment_name,\n",
    "    \"parameters\": dict(p),\n",
    "    \"results\": {\n",
    "        \"source_test_label_accuracy\": source_test_label_accuracy,\n",
    "        \"source_test_label_loss\": source_test_label_loss,\n",
    "        \"target_test_label_accuracy\": target_test_label_accuracy,\n",
    "        \"target_test_label_loss\": target_test_label_loss,\n",
    "        \"source_val_label_accuracy\": source_val_label_accuracy,\n",
    "        \"source_val_label_loss\": source_val_label_loss,\n",
    "        \"target_val_label_accuracy\": target_val_label_accuracy,\n",
    "        \"target_val_label_loss\": target_val_label_loss,\n",
    "        \"total_epochs_trained\": total_epochs_trained,\n",
    "        \"total_experiment_time_secs\": total_experiment_time_secs,\n",
    "        \"confusion\": confusion,\n",
    "        \"per_domain_accuracy\": per_domain_accuracy,\n",
    "    },\n",
    "    \"history\": history,\n",
    "    \"dataset_metrics\": get_dataset_metrics(datasets, \"ptn\"),\n",
    "}"
   ]
  },
  {
   "cell_type": "code",
   "execution_count": 25,
   "id": "54a21829",
   "metadata": {
    "execution": {
     "iopub.execute_input": "2022-03-26T19:14:56.808315Z",
     "iopub.status.busy": "2022-03-26T19:14:56.807980Z",
     "iopub.status.idle": "2022-03-26T19:14:56.931115Z",
     "shell.execute_reply": "2022-03-26T19:14:56.931514Z"
    },
    "papermill": {
     "duration": 0.15142,
     "end_time": "2022-03-26T19:14:56.931669",
     "exception": false,
     "start_time": "2022-03-26T19:14:56.780249",
     "status": "completed"
    },
    "tags": []
   },
   "outputs": [
    {
     "data": {
      "image/png": "[encoded data removed]",
      "text/plain": [
       "<Figure size 1080x504 with 1 Axes>"
      ]
     },
     "metadata": {
      "needs_background": "light"
     },
     "output_type": "display_data"
    }
   ],
   "source": [
    "ax = get_loss_curve(experiment)\n",
    "plt.show()"
   ]
  },
  {
   "cell_type": "code",
   "execution_count": 26,
   "id": "fd8a0f60",
   "metadata": {
    "execution": {
     "iopub.execute_input": "2022-03-26T19:14:57.005974Z",
     "iopub.status.busy": "2022-03-26T19:14:57.005632Z",
     "iopub.status.idle": "2022-03-26T19:14:57.193962Z",
     "shell.execute_reply": "2022-03-26T19:14:57.193636Z"
    },
    "papermill": {
     "duration": 0.225482,
     "end_time": "2022-03-26T19:14:57.194041",
     "exception": false,
     "start_time": "2022-03-26T19:14:56.968559",
     "status": "completed"
    },
    "tags": []
   },
   "outputs": [
    {
     "data": {
      "text/plain": [
       "<AxesSubplot:title={'center':'Results'}>"
      ]
     },
     "execution_count": 26,
     "metadata": {},
     "output_type": "execute_result"
    },
    {
     "data": {
      "image/png": "[encoded data removed]",
      "text/plain": [
       "<Figure size 1080x504 with 1 Axes>"
      ]
     },
     "metadata": {
      "needs_background": "light"
     },
     "output_type": "display_data"
    }
   ],
   "source": [
    "get_results_table(experiment)"
   ]
  },
  {
   "cell_type": "code",
   "execution_count": 27,
   "id": "cf8dc689",
   "metadata": {
    "execution": {
     "iopub.execute_input": "2022-03-26T19:14:57.259847Z",
     "iopub.status.busy": "2022-03-26T19:14:57.259577Z",
     "iopub.status.idle": "2022-03-26T19:14:57.400405Z",
     "shell.execute_reply": "2022-03-26T19:14:57.400832Z"
    },
    "papermill": {
     "duration": 0.172953,
     "end_time": "2022-03-26T19:14:57.400966",
     "exception": false,
     "start_time": "2022-03-26T19:14:57.228013",
     "status": "completed"
    },
    "tags": []
   },
   "outputs": [
    {
     "data": {
      "text/plain": [
       "<AxesSubplot:title={'center':'Per Domain Validation Accuracy'}, xlabel='domain'>"
      ]
     },
     "execution_count": 27,
     "metadata": {},
     "output_type": "execute_result"
    },
    {
     "data": {
      "image/png": "[encoded data removed]",
      "text/plain": [
       "<Figure size 1080x504 with 1 Axes>"
      ]
     },
     "metadata": {
      "needs_background": "light"
     },
     "output_type": "display_data"
    }
   ],
   "source": [
    "get_domain_accuracies(experiment)"
   ]
  },
  {
   "cell_type": "code",
   "execution_count": 28,
   "id": "a74ae082",
   "metadata": {
    "execution": {
     "iopub.execute_input": "2022-03-26T19:14:57.468121Z",
     "iopub.status.busy": "2022-03-26T19:14:57.466766Z",
     "iopub.status.idle": "2022-03-26T19:14:57.485399Z",
     "shell.execute_reply": "2022-03-26T19:14:57.485811Z"
    },
    "papermill": {
     "duration": 0.05103,
     "end_time": "2022-03-26T19:14:57.485938",
     "exception": false,
     "start_time": "2022-03-26T19:14:57.434908",
     "status": "completed"
    },
    "tags": []
   },
   "outputs": [
    {
     "name": "stdout",
     "output_type": "stream",
     "text": [
      "Source Test Label Accuracy: 0.9928100448933782 Target Test Label Accuracy: 0.33489583333333334\n",
      "Source Val Label Accuracy: 0.9917237442922374 Target Val Label Accuracy: 0.33147786458333334\n"
     ]
    }
   ],
   "source": [
    "print(\"Source Test Label Accuracy:\", experiment[\"results\"][\"source_test_label_accuracy\"], \"Target Test Label Accuracy:\", experiment[\"results\"][\"target_test_label_accuracy\"])\n",
    "print(\"Source Val Label Accuracy:\", experiment[\"results\"][\"source_val_label_accuracy\"], \"Target Val Label Accuracy:\", experiment[\"results\"][\"target_val_label_accuracy\"])"
   ]
  },
  {
   "cell_type": "code",
   "execution_count": 29,
   "id": "dacca602",
   "metadata": {
    "execution": {
     "iopub.execute_input": "2022-03-26T19:14:57.549623Z",
     "iopub.status.busy": "2022-03-26T19:14:57.549358Z",
     "iopub.status.idle": "2022-03-26T19:14:57.566819Z",
     "shell.execute_reply": "2022-03-26T19:14:57.567135Z"
    },
    "papermill": {
     "duration": 0.047946,
     "end_time": "2022-03-26T19:14:57.567238",
     "exception": false,
     "start_time": "2022-03-26T19:14:57.519292",
     "status": "completed"
    },
    "tags": [
     "experiment_json"
    ]
   },
   "outputs": [
    {
     "data": {
      "text/plain": [
       "'{\"experiment_name\": \"tl_3-jitter1v2:cores -> oracle.run1.framed\", \"parameters\": {\"experiment_name\": \"tl_3-jitter1v2:cores -> oracle.run1.framed\", \"device\": \"cuda\", \"lr\": 0.0001, \"x_shape\": [2, 256], \"n_shot\": 3, \"n_query\": 2, \"train_k_factor\": 3, \"val_k_factor\": 2, \"test_k_factor\": 2, \"torch_default_dtype\": \"torch.float32\", \"n_epoch\": 50, \"patience\": 3, \"criteria_for_best\": \"target_accuracy\", \"x_net\": [{\"class\": \"nnReshape\", \"kargs\": {\"shape\": [-1, 1, 2, 256]}}, {\"class\": \"Conv2d\", \"kargs\": {\"in_channels\": 1, \"out_channels\": 256, \"kernel_size\": [1, 7], \"bias\": false, \"padding\": [0, 3]}}, {\"class\": \"ReLU\", \"kargs\": {\"inplace\": true}}, {\"class\": \"BatchNorm2d\", \"kargs\": {\"num_features\": 256}}, {\"class\": \"Conv2d\", \"kargs\": {\"in_channels\": 256, \"out_channels\": 80, \"kernel_size\": [2, 7], \"bias\": true, \"padding\": [0, 3]}}, {\"class\": \"ReLU\", \"kargs\": {\"inplace\": true}}, {\"class\": \"BatchNorm2d\", \"kargs\": {\"num_features\": 80}}, {\"class\": \"Flatten\", \"kargs\": {}}, {\"class\": \"Linear\", \"kargs\": {\"in_features\": 20480, \"out_features\": 256}}, {\"class\": \"ReLU\", \"kargs\": {\"inplace\": true}}, {\"class\": \"BatchNorm1d\", \"kargs\": {\"num_features\": 256}}, {\"class\": \"Linear\", \"kargs\": {\"in_features\": 256, \"out_features\": 256}}], \"NUM_LOGS_PER_EPOCH\": 10, \"BEST_MODEL_PATH\": \"./best_model.pth\", \"n_way\": 16, \"datasets\": [{\"labels\": [\"1-10.\", \"1-11.\", \"1-15.\", \"1-16.\", \"1-17.\", \"1-18.\", \"1-19.\", \"10-4.\", \"10-7.\", \"11-1.\", \"11-14.\", \"11-17.\", \"11-20.\", \"11-7.\", \"13-20.\", \"13-8.\", \"14-10.\", \"14-11.\", \"14-14.\", \"14-7.\", \"15-1.\", \"15-20.\", \"16-1.\", \"16-16.\", \"17-10.\", \"17-11.\", \"17-2.\", \"19-1.\", \"19-16.\", \"19-19.\", \"19-20.\", \"19-3.\", \"2-10.\", \"2-11.\", \"2-17.\", \"2-18.\", \"2-20.\", \"2-3.\", \"2-4.\", \"2-5.\", \"2-6.\", \"2-7.\", \"2-8.\", \"3-13.\", \"3-18.\", \"3-3.\", \"4-1.\", \"4-10.\", \"4-11.\", \"4-19.\", \"5-5.\", \"6-15.\", \"7-10.\", \"7-14.\", \"8-18.\", \"8-20.\", \"8-3.\", \"8-8.\"], \"domains\": [1, 2, 3, 4, 5], \"num_examples_per_domain_per_label\": -1, \"pickle_path\": \"/mnt/wd500GB/CSC500/csc500-main/datasets/cores.stratified_ds.2022A.pkl\", \"source_or_target_dataset\": \"source\", \"x_transforms\": [\"unit_power\", \"jitter_256_1\", \"lowpass_+/-10MHz\", \"take_200\"], \"episode_transforms\": [], \"domain_prefix\": \"C_\"}, {\"labels\": [\"3123D52\", \"3123D65\", \"3123D79\", \"3123D80\", \"3123D54\", \"3123D70\", \"3123D7B\", \"3123D89\", \"3123D58\", \"3123D76\", \"3123D7D\", \"3123EFE\", \"3123D64\", \"3123D78\", \"3123D7E\", \"3124E4A\"], \"domains\": [32, 38, 8, 44, 14, 50, 20, 26], \"num_examples_per_domain_per_label\": 2000, \"pickle_path\": \"/mnt/wd500GB/CSC500/csc500-main/datasets/oracle.Run1_framed_2000Examples_stratified_ds.2022A.pkl\", \"source_or_target_dataset\": \"target\", \"x_transforms\": [\"unit_power\", \"jitter_256_1\", \"take_200\", \"resample_20Msps_to_25Msps\"], \"episode_transforms\": [], \"domain_prefix\": \"O_\"}], \"seed\": 1337, \"dataset_seed\": 1337, \"domains_source\": [\"C_1\", \"C_2\", \"C_3\", \"C_4\", \"C_5\"], \"domains_target\": [\"O_32\", \"O_38\", \"O_8\", \"O_44\", \"O_14\", \"O_50\", \"O_20\", \"O_26\"]}, \"results\": {\"source_test_label_accuracy\": 0.9928100448933782, \"source_test_label_loss\": 0.2056458592414856, \"target_test_label_accuracy\": 0.33489583333333334, \"target_test_label_loss\": 1.9056833982467651, \"source_val_label_accuracy\": 0.9917237442922374, \"source_val_label_loss\": 0.2607595920562744, \"target_val_label_accuracy\": 0.33147786458333334, \"target_val_label_loss\": 1.9160478115081787, \"total_epochs_trained\": 5, \"total_experiment_time_secs\": 1665.8636927604675, \"confusion\": {\"C_3\": {\"43\": {\"43\": 128}, \"9\": {\"9\": 150}, \"6\": {\"6\": 88}, \"3\": {\"3\": 143, \"16\": 1}, \"16\": {\"16\": 134}, \"51\": {\"51\": 128}, \"31\": {\"31\": 28}, \"46\": {\"46\": 134}, \"19\": {\"19\": 124}, \"8\": {\"8\": 152}, \"18\": {\"18\": 83, \"30\": 1}, \"37\": {\"37\": 28}, \"24\": {\"24\": 104}, \"10\": {\"10\": 64}, \"44\": {\"44\": 88}, \"14\": {\"14\": 40}, \"38\": {\"38\": 28}, \"53\": {\"53\": 140}, \"20\": {\"20\": 132}, \"32\": {\"32\": 28}, \"36\": {\"36\": 100}, \"33\": {\"33\": 28}, \"56\": {\"56\": 136}, \"23\": {\"23\": 129, \"5\": 1}, \"54\": {\"54\": 100}, \"21\": {\"21\": 126}, \"28\": {\"28\": 28}, \"26\": {\"26\": 24}, \"48\": {\"48\": 116}, \"52\": {\"52\": 118}, \"39\": {\"39\": 16}, \"22\": {\"22\": 136, \"56\": 2, \"55\": 2}, \"13\": {\"13\": 128}, \"2\": {\"2\": 32}, \"34\": {\"34\": 32}, \"27\": {\"27\": 132}, \"45\": {\"45\": 58, \"17\": 2}, \"35\": {\"35\": 28}, \"29\": {\"29\": 127, \"34\": 1}, \"25\": {\"25\": 144}, \"0\": {\"0\": 123, \"57\": 1}, \"41\": {\"41\": 28}, \"11\": {\"11\": 142}, \"5\": {\"5\": 108}, \"1\": {\"1\": 100}, \"57\": {\"57\": 115, \"0\": 1}, \"17\": {\"17\": 106, \"10\": 1, \"24\": 1}, \"7\": {\"7\": 36}, \"12\": {\"12\": 86, \"51\": 1, \"6\": 4, \"17\": 1}, \"47\": {\"47\": 92}, \"40\": {\"40\": 136}, \"15\": {\"15\": 141, \"11\": 1}, \"42\": {\"42\": 28}, \"55\": {\"55\": 150}, \"49\": {\"49\": 20}, \"30\": {\"30\": 118, \"47\": 1, \"18\": 1}, \"50\": {\"50\": 133, \"52\": 1}, \"4\": {\"4\": 136}}, \"C_4\": {\"35\": {\"35\": 40}, \"25\": {\"25\": 134}, \"24\": {\"24\": 56}, \"48\": {\"48\": 138}, \"51\": {\"51\": 144}, \"13\": {\"13\": 120}, \"14\": {\"0\": 2, \"14\": 8, \"38\": 2, \"29\": 1, \"57\": 2, \"32\": 1}, \"32\": {\"32\": 24}, \"30\": {\"30\": 44}, \"34\": {\"34\": 24}, \"9\": {\"9\": 136}, \"1\": {\"1\": 40}, \"0\": {\"0\": 80}, \"38\": {\"38\": 40}, \"22\": {\"22\": 128}, \"40\": {\"40\": 120}, \"6\": {\"6\": 97, \"53\": 7, \"3\": 3, \"52\": 3, \"51\": 2}, \"16\": {\"16\": 96}, \"11\": {\"11\": 104}, \"20\": {\"20\": 122}, \"17\": {\"17\": 80}, \"26\": {\"26\": 24}, \"54\": {\"54\": 108}, \"55\": {\"55\": 154}, \"50\": {\"50\": 128, \"3\": 3, \"55\": 1}, \"19\": {\"19\": 142}, \"44\": {\"44\": 122}, \"47\": {\"47\": 120}, \"33\": {\"33\": 36}, \"5\": {\"5\": 108}, \"18\": {\"18\": 108}, \"21\": {\"21\": 124}, \"41\": {\"41\": 36}, \"23\": {\"23\": 128}, \"39\": {\"39\": 20}, \"37\": {\"37\": 24}, \"8\": {\"8\": 144}, \"49\": {\"49\": 20}, \"53\": {\"53\": 140}, \"31\": {\"31\": 20, \"46\": 1, \"47\": 2, \"7\": 2, \"3\": 1, \"36\": 2}, \"28\": {\"28\": 32}, \"3\": {\"3\": 124}, \"27\": {\"27\": 138}, \"46\": {\"46\": 126, \"22\": 1, \"32\": 1}, \"12\": {\"12\": 86, \"50\": 4, \"3\": 2}, \"7\": {\"7\": 24}, \"4\": {\"4\": 132}, \"42\": {\"42\": 32}, \"43\": {\"43\": 129, \"38\": 1}, \"29\": {\"29\": 120}, \"57\": {\"57\": 100}, \"52\": {\"52\": 104}, \"45\": {\"45\": 96}, \"36\": {\"36\": 92}, \"10\": {\"10\": 126}, \"15\": {\"15\": 133, \"11\": 1}, \"56\": {\"56\": 124}, \"2\": {\"2\": 36}}, \"C_5\": {\"47\": {\"47\": 100}, \"53\": {\"53\": 150}, \"29\": {\"29\": 126}, \"52\": {\"52\": 130}, \"55\": {\"55\": 144}, \"17\": {\"17\": 116}, \"42\": {\"42\": 40}, \"33\": {\"33\": 32}, \"11\": {\"11\": 141, \"15\": 7}, \"19\": {\"19\": 118}, \"1\": {\"1\": 144}, \"44\": {\"44\": 142}, \"49\": {\"49\": 36}, \"4\": {\"4\": 100}, \"6\": {\"6\": 115, \"17\": 1}, \"39\": {\"39\": 20}, \"50\": {\"50\": 145, \"25\": 2, \"20\": 1}, \"56\": {\"56\": 130}, \"25\": {\"25\": 144}, \"28\": {\"28\": 32}, \"35\": {\"35\": 36}, \"24\": {\"24\": 80}, \"21\": {\"21\": 132}, \"45\": {\"45\": 119, \"17\": 2, \"4\": 2, \"9\": 1}, \"16\": {\"16\": 143, \"43\": 1}, \"37\": {\"37\": 24}, \"57\": {\"57\": 132}, \"34\": {\"34\": 36}, \"38\": {\"38\": 32}, \"48\": {\"48\": 130}, \"26\": {\"26\": 24}, \"9\": {\"9\": 152}, \"18\": {\"18\": 63, \"8\": 1}, \"3\": {\"3\": 100}, \"23\": {\"23\": 124}, \"15\": {\"15\": 150, \"11\": 4}, \"10\": {\"10\": 67, \"24\": 1}, \"46\": {\"46\": 148}, \"22\": {\"22\": 28}, \"54\": {\"54\": 104, \"5\": 5, \"46\": 2, \"29\": 1}, \"27\": {\"27\": 160}, \"41\": {\"41\": 28}, \"31\": {\"31\": 36}, \"0\": {\"0\": 124}, \"7\": {\"7\": 32}, \"2\": {\"2\": 28}, \"14\": {\"14\": 42, \"54\": 1, \"57\": 1}, \"40\": {\"40\": 124}, \"5\": {\"5\": 128}, \"12\": {\"12\": 94, \"50\": 2}, \"43\": {\"43\": 142}, \"13\": {\"13\": 148}, \"36\": {\"36\": 69, \"28\": 3, \"35\": 3, \"14\": 2, \"44\": 1, \"57\": 1, \"0\": 3, \"40\": 6, \"29\": 3, \"31\": 1}, \"8\": {\"8\": 150}, \"32\": {\"32\": 30, \"27\": 2}, \"30\": {\"30\": 128}, \"51\": {\"51\": 138}, \"20\": {\"20\": 138}}, \"C_1\": {\"46\": {\"46\": 108, \"9\": 1, \"51\": 6, \"6\": 1, \"53\": 1, \"8\": 2, \"5\": 9, \"20\": 7, \"48\": 2, \"14\": 1, \"12\": 2}, \"16\": {\"16\": 133, \"36\": 1}, \"26\": {\"26\": 24}, \"10\": {\"10\": 92, \"11\": 4}, \"9\": {\"9\": 156}, \"28\": {\"28\": 28}, \"51\": {\"51\": 156}, \"1\": {\"1\": 100}, \"55\": {\"55\": 148}, \"27\": {\"27\": 124}, \"22\": {\"22\": 119, \"11\": 2, \"24\": 3}, \"52\": {\"52\": 126}, \"3\": {\"3\": 140}, \"33\": {\"33\": 32}, \"47\": {\"47\": 120}, \"42\": {\"42\": 40}, \"12\": {\"12\": 116}, \"23\": {\"23\": 132}, \"49\": {\"49\": 32}, \"7\": {\"7\": 28}, \"4\": {\"4\": 132}, \"50\": {\"50\": 134}, \"19\": {\"19\": 154}, \"11\": {\"11\": 138, \"22\": 2}, \"31\": {\"31\": 28}, \"41\": {\"41\": 24}, \"56\": {\"56\": 138}, \"0\": {\"0\": 148}, \"57\": {\"57\": 127, \"1\": 1}, \"53\": {\"53\": 140}, \"43\": {\"43\": 144}, \"37\": {\"37\": 32}, \"2\": {\"2\": 36}, \"6\": {\"6\": 96}, \"13\": {\"13\": 150}, \"18\": {\"18\": 72}, \"36\": {\"36\": 62, \"16\": 2}, \"29\": {\"29\": 140}, \"39\": {\"39\": 28}, \"17\": {\"17\": 64}, \"21\": {\"21\": 122, \"15\": 2}, \"25\": {\"25\": 132}, \"45\": {\"45\": 142}, \"38\": {\"38\": 24}, \"30\": {\"30\": 120}, \"24\": {\"24\": 107, \"22\": 1}, \"20\": {\"20\": 140}, \"8\": {\"8\": 140}, \"35\": {\"35\": 33, \"32\": 1, \"34\": 1, \"44\": 1}, \"54\": {\"54\": 104}, \"5\": {\"5\": 148}, \"48\": {\"48\": 144}, \"15\": {\"15\": 142}, \"34\": {\"34\": 24}, \"14\": {\"14\": 23, \"8\": 1}, \"32\": {\"32\": 31, \"55\": 1}, \"40\": {\"40\": 148}, \"44\": {\"44\": 134, \"35\": 2}}, \"C_2\": {\"36\": {\"36\": 116}, \"5\": {\"5\": 119, \"37\": 1}, \"45\": {\"45\": 124, \"17\": 4}, \"49\": {\"49\": 24}, \"50\": {\"50\": 136}, \"4\": {\"4\": 138}, \"43\": {\"43\": 148}, \"41\": {\"41\": 20}, \"37\": {\"37\": 36}, \"12\": {\"12\": 72, \"51\": 3, \"6\": 8, \"53\": 1, \"36\": 1, \"46\": 1, \"20\": 6}, \"33\": {\"33\": 28}, \"7\": {\"7\": 36}, \"56\": {\"56\": 140}, \"14\": {\"14\": 22, \"28\": 2}, \"52\": {\"52\": 124}, \"44\": {\"44\": 87, \"29\": 3, \"19\": 2, \"57\": 2, \"40\": 2}, \"48\": {\"48\": 144}, \"20\": {\"20\": 128}, \"55\": {\"55\": 144}, \"32\": {\"32\": 28}, \"40\": {\"40\": 136}, \"54\": {\"54\": 107, \"32\": 1}, \"17\": {\"17\": 104}, \"38\": {\"38\": 20}, \"24\": {\"24\": 96}, \"1\": {\"1\": 108, \"48\": 2, \"55\": 1, \"29\": 1}, \"6\": {\"6\": 124}, \"34\": {\"34\": 28}, \"11\": {\"11\": 136}, \"9\": {\"9\": 150}, \"8\": {\"8\": 152}, \"22\": {\"22\": 136}, \"26\": {\"26\": 24}, \"23\": {\"23\": 146}, \"10\": {\"10\": 112}, \"18\": {\"18\": 48}, \"13\": {\"13\": 116}, \"30\": {\"30\": 127, \"18\": 1}, \"42\": {\"1\": 1, \"42\": 35}, \"31\": {\"31\": 28}, \"46\": {\"46\": 128}, \"57\": {\"57\": 140, \"0\": 2}, \"47\": {\"47\": 138}, \"35\": {\"35\": 32}, \"15\": {\"15\": 132}, \"25\": {\"25\": 136}, \"19\": {\"19\": 136}, \"51\": {\"51\": 128}, \"53\": {\"53\": 133, \"50\": 1}, \"21\": {\"21\": 120}, \"39\": {\"39\": 28}, \"2\": {\"2\": 32}, \"16\": {\"16\": 150}, \"0\": {\"0\": 48}, \"3\": {\"3\": 92}, \"27\": {\"27\": 142}, \"28\": {\"28\": 28}, \"29\": {\"29\": 128}}, \"O_14\": {\"15\": {\"15\": 117, \"7\": 73, \"1\": 15, \"5\": 12, \"3\": 1, \"2\": 12, \"14\": 1, \"4\": 3, \"6\": 4, \"13\": 2}, \"3\": {\"2\": 36, \"8\": 27, \"4\": 29, \"0\": 19, \"5\": 16, \"14\": 20, \"13\": 6, \"3\": 45, \"6\": 15, \"10\": 14, \"1\": 11, \"11\": 2}, \"6\": {\"4\": 15, \"6\": 60, \"14\": 33, \"2\": 28, \"13\": 67, \"0\": 3, \"3\": 10, \"10\": 13, \"5\": 10, \"15\": 1}, \"1\": {\"1\": 76, \"3\": 11, \"5\": 51, \"4\": 40, \"7\": 26, \"8\": 13, \"2\": 15, \"15\": 4, \"13\": 4}, \"8\": {\"3\": 19, \"8\": 152, \"0\": 9, \"4\": 15, \"1\": 27, \"2\": 2, \"9\": 3, \"5\": 11, \"10\": 1, \"14\": 1}, \"10\": {\"0\": 47, \"6\": 10, \"10\": 93, \"14\": 20, \"13\": 10, \"4\": 5, \"12\": 1, \"1\": 1, \"11\": 19, \"3\": 26, \"2\": 3, \"9\": 3, \"5\": 1, \"8\": 1}, \"9\": {\"9\": 121, \"11\": 48, \"12\": 44, \"10\": 6, \"0\": 14, \"8\": 7}, \"13\": {\"4\": 10, \"10\": 19, \"14\": 38, \"2\": 24, \"13\": 76, \"6\": 49, \"3\": 16, \"5\": 4, \"0\": 2, \"1\": 2}, \"12\": {\"9\": 47, \"11\": 21, \"12\": 168, \"0\": 4}, \"5\": {\"0\": 2, \"3\": 21, \"7\": 14, \"1\": 35, \"4\": 48, \"2\": 28, \"5\": 45, \"8\": 12, \"6\": 13, \"13\": 7, \"14\": 8, \"15\": 6, \"10\": 1}, \"0\": {\"11\": 32, \"14\": 19, \"10\": 40, \"3\": 20, \"4\": 7, \"9\": 17, \"13\": 8, \"0\": 79, \"1\": 1, \"8\": 14, \"6\": 3}, \"2\": {\"6\": 36, \"13\": 24, \"4\": 27, \"10\": 3, \"3\": 26, \"5\": 28, \"15\": 9, \"14\": 28, \"1\": 12, \"2\": 36, \"8\": 7, \"0\": 2, \"7\": 2}, \"11\": {\"0\": 28, \"11\": 144, \"9\": 38, \"10\": 15, \"13\": 1, \"12\": 9, \"14\": 5}, \"14\": {\"14\": 56, \"6\": 30, \"1\": 3, \"2\": 29, \"8\": 3, \"13\": 40, \"4\": 13, \"3\": 28, \"10\": 16, \"5\": 7, \"0\": 14, \"11\": 1}, \"7\": {\"7\": 120, \"15\": 61, \"1\": 32, \"4\": 5, \"8\": 1, \"5\": 19, \"2\": 1, \"14\": 1}, \"4\": {\"3\": 31, \"2\": 29, \"1\": 31, \"5\": 34, \"14\": 16, \"8\": 12, \"13\": 13, \"4\": 47, \"6\": 16, \"10\": 4, \"7\": 3, \"15\": 3, \"0\": 1}}, \"O_20\": {\"3\": {\"1\": 24, \"10\": 13, \"13\": 12, \"8\": 19, \"7\": 20, \"15\": 15, \"3\": 16, \"14\": 12, \"9\": 23, \"2\": 9, \"6\": 8, \"0\": 16, \"12\": 18, \"4\": 18, \"5\": 16, \"11\": 1}, \"15\": {\"5\": 30, \"12\": 18, \"15\": 36, \"13\": 26, \"1\": 36, \"2\": 15, \"8\": 11, \"3\": 13, \"6\": 1, \"9\": 10, \"4\": 9, \"7\": 7, \"0\": 26, \"14\": 1, \"10\": 1}, \"8\": {\"12\": 17, \"5\": 21, \"14\": 25, \"10\": 22, \"2\": 15, \"7\": 14, \"8\": 18, \"3\": 17, \"9\": 14, \"0\": 12, \"6\": 16, \"4\": 26, \"1\": 7, \"13\": 8, \"15\": 6, \"11\": 2}, \"4\": {\"15\": 9, \"5\": 15, \"14\": 17, \"3\": 24, \"12\": 10, \"4\": 33, \"8\": 29, \"7\": 13, \"9\": 13, \"6\": 7, \"1\": 13, \"10\": 30, \"0\": 17, \"11\": 1, \"13\": 4, \"2\": 5}, \"14\": {\"5\": 5, \"10\": 49, \"14\": 46, \"8\": 27, \"6\": 37, \"1\": 4, \"9\": 4, \"0\": 1, \"3\": 8, \"4\": 20, \"7\": 15, \"13\": 2, \"2\": 13, \"15\": 1, \"11\": 3, \"12\": 5}, \"0\": {\"5\": 33, \"7\": 3, \"3\": 17, \"10\": 3, \"1\": 26, \"13\": 9, \"12\": 17, \"2\": 8, \"0\": 50, \"9\": 9, \"4\": 10, \"8\": 24, \"15\": 27, \"14\": 4}, \"7\": {\"10\": 23, \"3\": 22, \"6\": 28, \"15\": 15, \"13\": 26, \"5\": 10, \"7\": 24, \"9\": 9, \"2\": 17, \"11\": 9, \"12\": 14, \"4\": 7, \"8\": 16, \"1\": 7, \"0\": 5, \"14\": 8}, \"6\": {\"12\": 5, \"14\": 41, \"2\": 16, \"6\": 41, \"8\": 18, \"1\": 3, \"3\": 9, \"10\": 33, \"7\": 27, \"9\": 16, \"11\": 13, \"4\": 9, \"5\": 3, \"13\": 6}, \"10\": {\"1\": 9, \"4\": 17, \"0\": 4, \"6\": 25, \"8\": 32, \"14\": 30, \"10\": 37, \"5\": 7, \"9\": 19, \"2\": 11, \"12\": 11, \"7\": 14, \"3\": 18, \"13\": 2, \"11\": 3, \"15\": 1}, \"5\": {\"5\": 23, \"8\": 12, \"3\": 17, \"0\": 34, \"14\": 9, \"1\": 34, \"15\": 31, \"12\": 16, \"4\": 13, \"2\": 9, \"7\": 9, \"10\": 10, \"9\": 10, \"13\": 11, \"6\": 2}, \"2\": {\"2\": 33, \"10\": 10, \"0\": 11, \"12\": 17, \"9\": 24, \"13\": 18, \"7\": 25, \"4\": 11, \"6\": 11, \"5\": 9, \"1\": 14, \"3\": 17, \"8\": 17, \"14\": 10, \"11\": 6, \"15\": 7}, \"12\": {\"2\": 18, \"8\": 13, \"5\": 20, \"4\": 15, \"3\": 34, \"9\": 19, \"10\": 9, \"1\": 26, \"13\": 15, \"12\": 20, \"6\": 4, \"0\": 13, \"15\": 19, \"7\": 9, \"14\": 6}, \"9\": {\"10\": 14, \"9\": 21, \"3\": 16, \"7\": 19, \"1\": 15, \"5\": 12, \"13\": 23, \"4\": 11, \"6\": 12, \"2\": 27, \"11\": 7, \"14\": 11, \"8\": 15, \"0\": 11, \"15\": 10, \"12\": 16}, \"1\": {\"1\": 26, \"15\": 33, \"4\": 9, \"13\": 20, \"5\": 35, \"9\": 14, \"0\": 22, \"12\": 22, \"7\": 8, \"2\": 12, \"14\": 5, \"8\": 14, \"3\": 13, \"10\": 5, \"6\": 2}, \"11\": {\"11\": 147, \"9\": 5, \"6\": 26, \"7\": 21, \"13\": 18, \"2\": 13, \"10\": 3, \"14\": 2, \"5\": 2, \"8\": 2, \"12\": 1}, \"13\": {\"2\": 21, \"13\": 65, \"15\": 29, \"3\": 14, \"7\": 28, \"9\": 20, \"6\": 8, \"1\": 7, \"5\": 7, \"8\": 7, \"11\": 8, \"12\": 14, \"0\": 6, \"14\": 1, \"10\": 3, \"4\": 2}}, \"O_38\": {\"5\": {\"7\": 29, \"8\": 35, \"3\": 10, \"5\": 49, \"15\": 17, \"1\": 14, \"13\": 14, \"6\": 25, \"10\": 3, \"4\": 1, \"9\": 7, \"0\": 36}, \"8\": {\"8\": 50, \"7\": 25, \"5\": 40, \"13\": 24, \"0\": 34, \"15\": 23, \"10\": 20, \"6\": 5, \"1\": 13, \"12\": 5, \"9\": 1}, \"11\": {\"11\": 104, \"10\": 15, \"2\": 24, \"14\": 74, \"12\": 17, \"4\": 4, \"13\": 2}, \"1\": {\"0\": 8, \"1\": 123, \"8\": 12, \"13\": 17, \"15\": 41, \"5\": 24, \"9\": 3, \"6\": 11, \"7\": 1}, \"10\": {\"10\": 85, \"13\": 37, \"8\": 21, \"12\": 9, \"11\": 12, \"14\": 11, \"2\": 15, \"5\": 4, \"0\": 12, \"7\": 8, \"4\": 7, \"15\": 17, \"1\": 2}, \"15\": {\"12\": 1, \"10\": 12, \"1\": 44, \"15\": 52, \"5\": 18, \"8\": 32, \"0\": 11, \"2\": 13, \"13\": 53, \"11\": 1, \"6\": 3}, \"3\": {\"7\": 20, \"3\": 133, \"9\": 43, \"6\": 16, \"5\": 10, \"0\": 15, \"13\": 1, \"8\": 1, \"1\": 1}, \"7\": {\"7\": 92, \"4\": 3, \"8\": 41, \"0\": 49, \"5\": 27, \"10\": 12, \"1\": 1, \"9\": 1, \"13\": 1, \"3\": 6, \"6\": 4, \"15\": 2, \"12\": 1}, \"4\": {\"4\": 158, \"12\": 62, \"14\": 1, \"10\": 13, \"0\": 2, \"7\": 2, \"11\": 2}, \"14\": {\"11\": 81, \"2\": 41, \"14\": 90, \"12\": 15, \"10\": 10, \"13\": 1, \"4\": 1, \"8\": 1}, \"9\": {\"9\": 89, \"6\": 67, \"3\": 54, \"5\": 12, \"7\": 7, \"8\": 2, \"1\": 3, \"0\": 6}, \"12\": {\"12\": 162, \"4\": 44, \"10\": 10, \"11\": 3, \"14\": 15, \"8\": 2, \"2\": 3, \"0\": 1}, \"6\": {\"6\": 108, \"9\": 70, \"3\": 20, \"8\": 2, \"5\": 22, \"1\": 8, \"7\": 5, \"13\": 1, \"15\": 2, \"0\": 2}, \"2\": {\"2\": 123, \"13\": 36, \"10\": 13, \"14\": 29, \"11\": 24, \"1\": 3, \"15\": 11, \"12\": 1}, \"0\": {\"7\": 37, \"8\": 43, \"15\": 7, \"0\": 60, \"1\": 8, \"3\": 10, \"12\": 2, \"4\": 7, \"9\": 11, \"5\": 31, \"6\": 3, \"14\": 1, \"10\": 12, \"13\": 8}, \"13\": {\"15\": 49, \"1\": 20, \"13\": 78, \"10\": 26, \"0\": 10, \"2\": 34, \"8\": 12, \"7\": 2, \"5\": 7, \"14\": 1, \"11\": 1}}, \"O_8\": {\"9\": {\"9\": 219, \"10\": 7, \"4\": 2, \"5\": 7, \"13\": 3, \"14\": 1, \"0\": 1}, \"10\": {\"1\": 17, \"11\": 8, \"10\": 36, \"13\": 24, \"4\": 27, \"6\": 24, \"14\": 35, \"7\": 12, \"5\": 29, \"8\": 8, \"0\": 10, \"2\": 1, \"9\": 3, \"15\": 5, \"12\": 1}, \"13\": {\"0\": 33, \"13\": 31, \"14\": 24, \"4\": 37, \"7\": 18, \"6\": 30, \"10\": 21, \"2\": 7, \"8\": 11, \"15\": 5, \"5\": 14, \"12\": 3, \"1\": 4, \"11\": 1, \"9\": 1}, \"0\": {\"6\": 33, \"13\": 35, \"7\": 39, \"10\": 18, \"0\": 44, \"14\": 15, \"5\": 2, \"2\": 7, \"15\": 8, \"4\": 26, \"12\": 5, \"3\": 2, \"1\": 1, \"8\": 5}, \"1\": {\"1\": 59, \"14\": 27, \"6\": 9, \"11\": 58, \"8\": 22, \"13\": 5, \"5\": 31, \"10\": 17, \"4\": 7, \"9\": 2, \"0\": 1, \"15\": 1, \"7\": 1}, \"15\": {\"15\": 58, \"2\": 14, \"7\": 15, \"0\": 12, \"3\": 15, \"12\": 47, \"13\": 9, \"8\": 37, \"4\": 10, \"14\": 3, \"6\": 14, \"5\": 1, \"1\": 4, \"10\": 1}, \"5\": {\"1\": 43, \"14\": 27, \"11\": 32, \"5\": 84, \"10\": 21, \"9\": 3, \"8\": 5, \"13\": 9, \"0\": 4, \"4\": 8, \"2\": 1, \"7\": 1, \"6\": 2}, \"3\": {\"2\": 63, \"12\": 42, \"7\": 15, \"3\": 76, \"6\": 4, \"13\": 3, \"15\": 30, \"4\": 2, \"8\": 3, \"0\": 2}, \"6\": {\"0\": 22, \"14\": 20, \"4\": 25, \"7\": 29, \"8\": 16, \"6\": 38, \"5\": 4, \"10\": 20, \"12\": 8, \"13\": 25, \"15\": 18, \"1\": 5, \"2\": 7, \"11\": 3}, \"11\": {\"11\": 73, \"5\": 34, \"14\": 16, \"8\": 28, \"1\": 66, \"6\": 4, \"10\": 8, \"4\": 9, \"12\": 1, \"15\": 1}, \"8\": {\"3\": 2, \"15\": 32, \"8\": 63, \"7\": 19, \"12\": 25, \"6\": 18, \"1\": 15, \"11\": 14, \"0\": 3, \"4\": 15, \"14\": 12, \"5\": 3, \"13\": 7, \"10\": 11, \"2\": 1}, \"4\": {\"14\": 32, \"6\": 32, \"13\": 18, \"4\": 34, \"0\": 24, \"10\": 27, \"7\": 22, \"11\": 6, \"5\": 9, \"1\": 11, \"12\": 4, \"8\": 14, \"15\": 4, \"2\": 2, \"9\": 1}, \"12\": {\"3\": 34, \"12\": 69, \"10\": 3, \"4\": 3, \"15\": 52, \"2\": 23, \"8\": 26, \"13\": 2, \"6\": 9, \"7\": 13, \"0\": 4, \"11\": 1, \"14\": 1}, \"14\": {\"1\": 28, \"5\": 25, \"6\": 22, \"10\": 30, \"11\": 21, \"4\": 23, \"13\": 17, \"8\": 18, \"7\": 13, \"14\": 22, \"15\": 3, \"0\": 14, \"9\": 2, \"2\": 1, \"12\": 1}, \"2\": {\"3\": 80, \"2\": 74, \"15\": 14, \"12\": 31, \"6\": 7, \"7\": 13, \"0\": 4, \"13\": 9, \"8\": 2, \"4\": 5, \"1\": 1}, \"7\": {\"6\": 34, \"8\": 14, \"14\": 11, \"2\": 12, \"0\": 36, \"4\": 31, \"13\": 25, \"7\": 28, \"1\": 2, \"15\": 13, \"5\": 1, \"3\": 8, \"10\": 9, \"12\": 15, \"11\": 1}}, \"O_50\": {\"7\": {\"5\": 46, \"10\": 19, \"7\": 78, \"8\": 11, \"13\": 44, \"0\": 6, \"2\": 1, \"6\": 20, \"3\": 4, \"4\": 9, \"15\": 1, \"1\": 1}, \"3\": {\"3\": 194, \"8\": 38, \"7\": 5, \"10\": 2, \"5\": 1}, \"8\": {\"8\": 146, \"10\": 33, \"5\": 1, \"2\": 2, \"3\": 30, \"13\": 3, \"7\": 17, \"0\": 7, \"6\": 1}, \"2\": {\"0\": 83, \"1\": 12, \"2\": 110, \"10\": 5, \"14\": 14, \"5\": 3, \"4\": 4, \"6\": 6, \"15\": 1, \"13\": 2}, \"14\": {\"12\": 38, \"14\": 110, \"9\": 25, \"11\": 40, \"1\": 5, \"0\": 2, \"2\": 16, \"15\": 3, \"4\": 1}, \"4\": {\"15\": 38, \"6\": 20, \"4\": 45, \"1\": 60, \"10\": 6, \"5\": 27, \"13\": 18, \"11\": 4, \"14\": 2, \"0\": 10, \"2\": 2, \"7\": 8}, \"6\": {\"5\": 28, \"15\": 22, \"6\": 57, \"4\": 42, \"1\": 28, \"0\": 10, \"13\": 23, \"2\": 6, \"7\": 10, \"10\": 13, \"11\": 1}, \"15\": {\"4\": 40, \"6\": 24, \"15\": 77, \"1\": 55, \"2\": 7, \"11\": 20, \"13\": 1, \"14\": 4, \"9\": 1, \"5\": 8, \"10\": 2, \"0\": 1}, \"10\": {\"6\": 16, \"7\": 34, \"8\": 36, \"13\": 25, \"10\": 82, \"0\": 26, \"5\": 13, \"2\": 4, \"3\": 1, \"1\": 1, \"4\": 2}, \"11\": {\"12\": 13, \"2\": 8, \"11\": 99, \"9\": 33, \"14\": 39, \"15\": 25, \"1\": 16, \"4\": 6, \"6\": 1}, \"13\": {\"5\": 48, \"13\": 45, \"4\": 27, \"6\": 36, \"10\": 24, \"7\": 39, \"15\": 3, \"0\": 9, \"1\": 3, \"8\": 4, \"2\": 2}, \"9\": {\"12\": 50, \"9\": 108, \"11\": 50, \"14\": 27, \"15\": 5}, \"0\": {\"0\": 91, \"10\": 35, \"4\": 7, \"2\": 49, \"6\": 21, \"1\": 15, \"14\": 1, \"7\": 4, \"13\": 8, \"5\": 4, \"8\": 3, \"15\": 2}, \"1\": {\"15\": 47, \"4\": 40, \"5\": 14, \"6\": 32, \"0\": 12, \"2\": 15, \"1\": 59, \"14\": 2, \"13\": 4, \"11\": 11, \"7\": 2, \"10\": 2}, \"12\": {\"12\": 138, \"9\": 51, \"14\": 41, \"11\": 9, \"2\": 1}, \"5\": {\"5\": 57, \"6\": 31, \"7\": 39, \"15\": 8, \"4\": 28, \"10\": 13, \"13\": 33, \"0\": 9, \"1\": 14, \"3\": 2, \"2\": 2, \"8\": 4}}, \"O_32\": {\"8\": {\"2\": 6, \"14\": 14, \"11\": 2, \"15\": 14, \"8\": 51, \"4\": 16, \"13\": 40, \"5\": 36, \"0\": 38, \"7\": 9, \"3\": 14}, \"14\": {\"11\": 68, \"14\": 49, \"13\": 21, \"2\": 7, \"7\": 40, \"4\": 13, \"8\": 8, \"5\": 18, \"3\": 8, \"0\": 8}, \"2\": {\"5\": 19, \"2\": 90, \"4\": 57, \"0\": 31, \"13\": 9, \"7\": 13, \"8\": 12, \"14\": 9}, \"0\": {\"8\": 35, \"2\": 38, \"4\": 27, \"0\": 68, \"14\": 7, \"13\": 16, \"3\": 5, \"7\": 14, \"5\": 23, \"11\": 4, \"15\": 2, \"9\": 1}, \"1\": {\"10\": 53, \"1\": 186, \"6\": 1}, \"10\": {\"10\": 185, \"1\": 42, \"6\": 11, \"12\": 2}, \"11\": {\"3\": 31, \"14\": 61, \"7\": 22, \"11\": 91, \"4\": 3, \"13\": 11, \"5\": 15, \"8\": 3, \"0\": 3}, \"5\": {\"5\": 41, \"14\": 18, \"13\": 36, \"3\": 18, \"7\": 35, \"4\": 27, \"8\": 27, \"2\": 9, \"0\": 16, \"11\": 10, \"15\": 3}, \"15\": {\"15\": 206, \"13\": 5, \"8\": 20, \"3\": 5, \"5\": 2, \"0\": 2}, \"3\": {\"11\": 28, \"3\": 97, \"15\": 2, \"8\": 27, \"5\": 28, \"13\": 22, \"7\": 15, \"14\": 17, \"4\": 3, \"0\": 1}, \"12\": {\"12\": 194, \"6\": 28, \"9\": 16, \"10\": 2}, \"7\": {\"4\": 32, \"3\": 12, \"5\": 30, \"13\": 20, \"7\": 45, \"8\": 15, \"14\": 35, \"11\": 22, \"0\": 13, \"2\": 16}, \"13\": {\"13\": 35, \"0\": 23, \"5\": 33, \"7\": 25, \"14\": 29, \"2\": 8, \"11\": 6, \"3\": 27, \"8\": 36, \"4\": 16, \"15\": 2}, \"6\": {\"6\": 213, \"12\": 21, \"9\": 1, \"10\": 4, \"1\": 1}, \"4\": {\"7\": 32, \"8\": 16, \"2\": 53, \"5\": 22, \"4\": 45, \"0\": 34, \"13\": 27, \"14\": 7, \"11\": 1, \"3\": 3}, \"9\": {\"9\": 207, \"12\": 27, \"2\": 5, \"0\": 1}}, \"O_26\": {\"4\": {\"1\": 25, \"2\": 10, \"0\": 29, \"14\": 29, \"10\": 28, \"8\": 23, \"4\": 28, \"5\": 5, \"9\": 11, \"15\": 10, \"7\": 25, \"3\": 6, \"13\": 2, \"6\": 9}, \"12\": {\"12\": 187, \"11\": 33, \"0\": 2, \"9\": 3, \"1\": 2, \"6\": 9, \"10\": 4}, \"10\": {\"8\": 24, \"1\": 24, \"10\": 26, \"14\": 25, \"9\": 14, \"13\": 14, \"4\": 24, \"6\": 22, \"0\": 32, \"7\": 16, \"3\": 5, \"11\": 1, \"15\": 3, \"2\": 7, \"5\": 2, \"12\": 1}, \"0\": {\"10\": 20, \"4\": 31, \"2\": 2, \"7\": 8, \"6\": 19, \"14\": 26, \"8\": 20, \"0\": 30, \"9\": 12, \"15\": 14, \"1\": 41, \"3\": 7, \"5\": 5, \"13\": 5}, \"13\": {\"0\": 7, \"8\": 7, \"6\": 18, \"13\": 53, \"9\": 25, \"7\": 6, \"15\": 37, \"5\": 47, \"14\": 2, \"10\": 5, \"2\": 16, \"11\": 4, \"3\": 7, \"1\": 2, \"4\": 4}, \"9\": {\"13\": 24, \"4\": 11, \"2\": 12, \"9\": 35, \"15\": 23, \"3\": 13, \"6\": 26, \"0\": 13, \"8\": 17, \"5\": 17, \"10\": 16, \"7\": 11, \"1\": 12, \"14\": 8, \"11\": 2}, \"3\": {\"2\": 46, \"3\": 49, \"7\": 36, \"1\": 8, \"4\": 18, \"0\": 10, \"13\": 13, \"10\": 4, \"5\": 23, \"14\": 7, \"15\": 14, \"8\": 6, \"6\": 4, \"9\": 2}, \"2\": {\"2\": 42, \"3\": 39, \"1\": 12, \"5\": 22, \"13\": 15, \"0\": 10, \"7\": 33, \"9\": 16, \"6\": 3, \"15\": 18, \"8\": 8, \"14\": 8, \"4\": 10, \"10\": 4}, \"5\": {\"15\": 29, \"2\": 34, \"10\": 9, \"5\": 45, \"9\": 20, \"13\": 34, \"14\": 4, \"0\": 3, \"3\": 16, \"7\": 19, \"6\": 5, \"8\": 12, \"11\": 4, \"4\": 3, \"1\": 3}, \"14\": {\"1\": 41, \"14\": 33, \"0\": 31, \"10\": 19, \"15\": 5, \"6\": 14, \"4\": 26, \"9\": 9, \"13\": 5, \"2\": 4, \"7\": 13, \"3\": 12, \"8\": 23, \"11\": 1, \"5\": 4}, \"8\": {\"10\": 24, \"7\": 19, \"14\": 20, \"5\": 9, \"9\": 24, \"8\": 25, \"15\": 28, \"6\": 15, \"0\": 14, \"2\": 12, \"4\": 19, \"1\": 17, \"3\": 5, \"13\": 8, \"11\": 1}, \"7\": {\"7\": 29, \"3\": 30, \"5\": 14, \"4\": 26, \"8\": 17, \"15\": 17, \"13\": 14, \"0\": 14, \"10\": 5, \"9\": 13, \"2\": 26, \"1\": 20, \"14\": 8, \"6\": 7}, \"6\": {\"9\": 27, \"6\": 55, \"4\": 12, \"10\": 22, \"14\": 13, \"15\": 15, \"8\": 12, \"11\": 13, \"0\": 23, \"5\": 12, \"13\": 18, \"7\": 6, \"1\": 7, \"2\": 2, \"12\": 3}, \"11\": {\"6\": 18, \"12\": 37, \"11\": 175, \"5\": 4, \"0\": 1, \"9\": 2, \"10\": 1, \"15\": 2}, \"15\": {\"14\": 3, \"6\": 18, \"5\": 25, \"9\": 22, \"3\": 10, \"15\": 30, \"0\": 15, \"1\": 4, \"13\": 31, \"11\": 2, \"7\": 20, \"4\": 10, \"2\": 12, \"8\": 24, \"10\": 14}, \"1\": {\"1\": 45, \"10\": 21, \"4\": 34, \"3\": 13, \"0\": 29, \"8\": 19, \"14\": 28, \"15\": 5, \"2\": 7, \"5\": 4, \"6\": 8, \"7\": 18, \"9\": 8, \"13\": 1}}, \"O_44\": {\"12\": {\"12\": 82, \"10\": 59, \"1\": 64, \"3\": 24, \"2\": 10, \"7\": 1}, \"7\": {\"9\": 51, \"6\": 22, \"7\": 78, \"2\": 49, \"13\": 10, \"4\": 1, \"3\": 10, \"1\": 6, \"10\": 11, \"11\": 2}, \"5\": {\"0\": 45, \"8\": 23, \"15\": 19, \"14\": 27, \"4\": 21, \"5\": 102, \"13\": 3}, \"15\": {\"14\": 37, \"15\": 83, \"0\": 36, \"8\": 43, \"4\": 24, \"5\": 17}, \"8\": {\"8\": 87, \"4\": 6, \"5\": 26, \"0\": 70, \"15\": 44, \"14\": 7}, \"2\": {\"1\": 29, \"10\": 38, \"7\": 51, \"2\": 60, \"3\": 22, \"12\": 9, \"9\": 20, \"6\": 8, \"11\": 1, \"13\": 2}, \"13\": {\"6\": 64, \"13\": 67, \"9\": 47, \"14\": 9, \"11\": 33, \"4\": 8, \"15\": 2, \"7\": 7, \"2\": 3}, \"4\": {\"13\": 10, \"0\": 9, \"15\": 30, \"4\": 96, \"14\": 61, \"5\": 14, \"8\": 7, \"6\": 3, \"9\": 8, \"11\": 2}, \"0\": {\"0\": 70, \"4\": 8, \"8\": 65, \"15\": 43, \"14\": 16, \"5\": 38}, \"6\": {\"6\": 100, \"11\": 26, \"7\": 19, \"13\": 51, \"9\": 33, \"2\": 6, \"3\": 1, \"14\": 1, \"10\": 1, \"4\": 2}, \"9\": {\"9\": 72, \"6\": 52, \"7\": 38, \"11\": 5, \"13\": 32, \"10\": 1, \"2\": 22, \"14\": 5, \"1\": 2, \"4\": 5, \"3\": 5, \"12\": 1}, \"11\": {\"11\": 152, \"4\": 4, \"13\": 36, \"6\": 30, \"9\": 13, \"7\": 3, \"2\": 1, \"14\": 1}, \"10\": {\"1\": 51, \"7\": 8, \"10\": 76, \"2\": 43, \"12\": 39, \"3\": 20, \"9\": 3}, \"14\": {\"15\": 49, \"4\": 62, \"14\": 67, \"0\": 17, \"9\": 3, \"8\": 8, \"13\": 7, \"5\": 27}, \"1\": {\"10\": 41, \"3\": 50, \"1\": 66, \"12\": 51, \"2\": 28, \"7\": 3, \"9\": 1}, \"3\": {\"1\": 63, \"3\": 104, \"10\": 17, \"12\": 29, \"2\": 17, \"9\": 1, \"7\": 9}}}, \"per_domain_accuracy\": {\"C_3\": {\"accuracy\": 0.9956395348837209, \"source?\": true}, \"C_4\": {\"accuracy\": 0.9914772727272727, \"source?\": true}, \"C_5\": {\"accuracy\": 0.9895251396648045, \"source?\": true}, \"C_1\": {\"accuracy\": 0.9902663934426229, \"source?\": true}, \"C_2\": {\"accuracy\": 0.9918785310734464, \"source?\": true}, \"O_14\": {\"accuracy\": 0.3736979166666667, \"source?\": false}, \"O_20\": {\"accuracy\": 0.165625, \"source?\": false}, \"O_38\": {\"accuracy\": 0.40520833333333334, \"source?\": false}, \"O_8\": {\"accuracy\": 0.2625, \"source?\": false}, \"O_50\": {\"accuracy\": 0.38958333333333334, \"source?\": false}, \"O_32\": {\"accuracy\": 0.46953125, \"source?\": false}, \"O_26\": {\"accuracy\": 0.23098958333333333, \"source?\": false}, \"O_44\": {\"accuracy\": 0.3546875, \"source?\": false}}}, \"history\": {\"epoch_indices\": [1, 2, 3, 4, 5], \"train_label_loss\": [0.03502643122827492, 0.012498955251118589, 0.006892477974912831, 0.006319117590876351, 0.004229546587264645], \"source_val_label_loss\": [0.2607595920562744, 0.012244461104273796, 0.006065408233553171, 0.008526528254151344, 0.010534869506955147], \"target_val_label_loss\": [1.9160478115081787, 2.434652090072632, 2.044633626937866, 2.919652223587036, 2.7278218269348145], \"source_val_acc_label\": [0.9917237442922374, 0.9979309360730594, 0.9995005707762558, 0.9990724885844748, 0.9988227739726028], \"target_val_acc_label\": [0.33147786458333334, 0.29938151041666666, 0.3240234375, 0.2677734375, 0.29986979166666666]}, \"dataset_metrics\": {\"source\": {\"train\": {\"n_unique_x\": 175169, \"n_unique_y\": 58, \"n_batch/episode\": 6317}, \"val\": {\"n_unique_x\": 37196, \"n_unique_y\": 58, \"n_batch/episode\": 876}, \"test\": {\"n_unique_x\": 37634, \"n_unique_y\": 58, \"n_batch/episode\": 891}}, \"target\": {\"train\": {\"n_unique_x\": 179200, \"n_unique_y\": 16, \"n_batch/episode\": 6720}, \"val\": {\"n_unique_x\": 38400, \"n_unique_y\": 16, \"n_batch/episode\": 960}, \"test\": {\"n_unique_x\": 38400, \"n_unique_y\": 16, \"n_batch/episode\": 960}}}}'"
      ]
     },
     "execution_count": 29,
     "metadata": {},
     "output_type": "execute_result"
    }
   ],
   "source": [
    "json.dumps(experiment)"
   ]
  }
 ],
 "metadata": {
  "celltoolbar": "Tags",
  "kernelspec": {
   "display_name": "Python 3 (ipykernel)",
   "language": "python",
   "name": "python3"
  },
  "language_info": {
   "codemirror_mode": {
    "name": "ipython",
    "version": 3
   },
   "file_extension": ".py",
   "mimetype": "text/x-python",
   "name": "python",
   "nbconvert_exporter": "python",
   "pygments_lexer": "ipython3",
   "version": "3.8.10"
  },
  "papermill": {
   "default_parameters": {},
   "duration": 1814.060451,
   "end_time": "2022-03-26T19:14:58.809970",
   "environment_variables": {},
   "exception": null,
   "input_path": "/mnt/wd500GB/CSC500/csc500-main/csc500-notebooks/templates/tl_ptn_template.ipynb",
   "output_path": "trial.ipynb",
   "parameters": {
    "parameters": {
     "BEST_MODEL_PATH": "./best_model.pth",
     "NUM_LOGS_PER_EPOCH": 10,
     "criteria_for_best": "target_accuracy",
     "dataset_seed": 1337,
     "datasets": [
      {
       "domain_prefix": "C_",
       "domains": [
        1,
        2,
        3,
        4,
        5
       ],
       "episode_transforms": [],
       "labels": [
        "1-10.",
        "1-11.",
        "1-15.",
        "1-16.",
        "1-17.",
        "1-18.",
        "1-19.",
        "10-4.",
        "10-7.",
        "11-1.",
        "11-14.",
        "11-17.",
        "11-20.",
        "11-7.",
        "13-20.",
        "13-8.",
        "14-10.",
        "14-11.",
        "14-14.",
        "14-7.",
        "15-1.",
        "15-20.",
        "16-1.",
        "16-16.",
        "17-10.",
        "17-11.",
        "17-2.",
        "19-1.",
        "19-16.",
        "19-19.",
        "19-20.",
        "19-3.",
        "2-10.",
        "2-11.",
        "2-17.",
        "2-18.",
        "2-20.",
        "2-3.",
        "2-4.",
        "2-5.",
        "2-6.",
        "2-7.",
        "2-8.",
        "3-13.",
        "3-18.",
        "3-3.",
        "4-1.",
        "4-10.",
        "4-11.",
        "4-19.",
        "5-5.",
        "6-15.",
        "7-10.",
        "7-14.",
        "8-18.",
        "8-20.",
        "8-3.",
        "8-8."
       ],
       "num_examples_per_domain_per_label": -1,
       "pickle_path": "/mnt/wd500GB/CSC500/csc500-main/datasets/cores.stratified_ds.2022A.pkl",
       "source_or_target_dataset": "source",
       "x_transforms": [
        "unit_power",
        "jitter_256_1",
        "lowpass_+/-10MHz",
        "take_200"
       ]
      },
      {
       "domain_prefix": "O_",
       "domains": [
        32,
        38,
        8,
        44,
        14,
        50,
        20,
        26
       ],
       "episode_transforms": [],
       "labels": [
        "3123D52",
        "3123D65",
        "3123D79",
        "3123D80",
        "3123D54",
        "3123D70",
        "3123D7B",
        "3123D89",
        "3123D58",
        "3123D76",
        "3123D7D",
        "3123EFE",
        "3123D64",
        "3123D78",
        "3123D7E",
        "3124E4A"
       ],
       "num_examples_per_domain_per_label": 2000,
       "pickle_path": "/mnt/wd500GB/CSC500/csc500-main/datasets/oracle.Run1_framed_2000Examples_stratified_ds.2022A.pkl",
       "source_or_target_dataset": "target",
       "x_transforms": [
        "unit_power",
        "jitter_256_1",
        "take_200",
        "resample_20Msps_to_25Msps"
       ]
      }
     ],
     "device": "cuda",
     "experiment_name": "tl_3-jitter1v2:cores -> oracle.run1.framed",
     "lr": 0.0001,
     "n_epoch": 50,
     "n_query": 2,
     "n_shot": 3,
     "n_way": 16,
     "patience": 3,
     "seed": 1337,
     "test_k_factor": 2,
     "torch_default_dtype": "torch.float32",
     "train_k_factor": 3,
     "val_k_factor": 2,
     "x_net": [
      {
       "class": "nnReshape",
       "kargs": {
        "shape": [
         -1,
         1,
         2,
         256
        ]
       }
      },
      {
       "class": "Conv2d",
       "kargs": {
        "bias": false,
        "in_channels": 1,
        "kernel_size": [
         1,
         7
        ],
        "out_channels": 256,
        "padding": [
         0,
         3
        ]
       }
      },
      {
       "class": "ReLU",
       "kargs": {
        "inplace": true
       }
      },
      {
       "class": "BatchNorm2d",
       "kargs": {
        "num_features": 256
       }
      },
      {
       "class": "Conv2d",
       "kargs": {
        "bias": true,
        "in_channels": 256,
        "kernel_size": [
         2,
         7
        ],
        "out_channels": 80,
        "padding": [
         0,
         3
        ]
       }
      },
      {
       "class": "ReLU",
       "kargs": {
        "inplace": true
       }
      },
      {
       "class": "BatchNorm2d",
       "kargs": {
        "num_features": 80
       }
      },
      {
       "class": "Flatten",
       "kargs": {}
      },
      {
       "class": "Linear",
       "kargs": {
        "in_features": 20480,
        "out_features": 256
       }
      },
      {
       "class": "ReLU",
       "kargs": {
        "inplace": true
       }
      },
      {
       "class": "BatchNorm1d",
       "kargs": {
        "num_features": 256
       }
      },
      {
       "class": "Linear",
       "kargs": {
        "in_features": 256,
        "out_features": 256
       }
      }
     ],
     "x_shape": [
      2,
      256
     ]
    }
   },
   "start_time": "2022-03-26T18:44:44.749519",
   "version": "2.3.4"
  }
 },
 "nbformat": 4,
 "nbformat_minor": 5
}