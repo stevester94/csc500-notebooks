{
 "cells": [
  {
   "cell_type": "markdown",
   "id": "9fea5f46",
   "metadata": {
    "papermill": {
     "duration": 0.01717,
     "end_time": "2022-03-26T18:45:38.422164",
     "exception": false,
     "start_time": "2022-03-26T18:45:38.404994",
     "status": "completed"
    },
    "tags": []
   },
   "source": [
    "# Transfer Learning Template"
   ]
  },
  {
   "cell_type": "code",
   "execution_count": 1,
   "id": "0902182a",
   "metadata": {
    "execution": {
     "iopub.execute_input": "2022-03-26T18:45:38.464526Z",
     "iopub.status.busy": "2022-03-26T18:45:38.464081Z",
     "iopub.status.idle": "2022-03-26T18:45:39.462403Z",
     "shell.execute_reply": "2022-03-26T18:45:39.461971Z"
    },
    "papermill": {
     "duration": 1.026757,
     "end_time": "2022-03-26T18:45:39.462497",
     "exception": false,
     "start_time": "2022-03-26T18:45:38.435740",
     "status": "completed"
    },
    "tags": []
   },
   "outputs": [],
   "source": [
    "%load_ext autoreload\n",
    "%autoreload 2\n",
    "%matplotlib inline\n",
    "\n",
    "    \n",
    "import os, json, sys, time, random\n",
    "import numpy as np\n",
    "import torch\n",
    "from torch.optim import Adam\n",
    "from  easydict import EasyDict\n",
    "import matplotlib.pyplot as plt\n",
    "\n",
    "from steves_models.steves_ptn import Steves_Prototypical_Network\n",
    "\n",
    "from steves_utils.lazy_iterable_wrapper import Lazy_Iterable_Wrapper\n",
    "from steves_utils.iterable_aggregator import Iterable_Aggregator\n",
    "from steves_utils.ptn_train_eval_test_jig import  PTN_Train_Eval_Test_Jig\n",
    "from steves_utils.torch_sequential_builder import build_sequential\n",
    "from steves_utils.torch_utils import get_dataset_metrics, ptn_confusion_by_domain_over_dataloader\n",
    "from steves_utils.utils_v2 import (per_domain_accuracy_from_confusion, get_datasets_base_path)\n",
    "from steves_utils.PTN.utils import independent_accuracy_assesment\n",
    "\n",
    "from torch.utils.data import DataLoader\n",
    "\n",
    "from steves_utils.stratified_dataset.episodic_accessor import Episodic_Accessor_Factory\n",
    "\n",
    "from steves_utils.ptn_do_report import (\n",
    "    get_loss_curve,\n",
    "    get_results_table,\n",
    "    get_parameters_table,\n",
    "    get_domain_accuracies,\n",
    ")\n",
    "\n",
    "from steves_utils.transforms import get_chained_transform"
   ]
  },
  {
   "cell_type": "markdown",
   "id": "41c840b4",
   "metadata": {
    "papermill": {
     "duration": 0.013193,
     "end_time": "2022-03-26T18:45:39.491889",
     "exception": false,
     "start_time": "2022-03-26T18:45:39.478696",
     "status": "completed"
    },
    "tags": []
   },
   "source": [
    "# Allowed Parameters\n",
    "These are allowed parameters, not defaults\n",
    "Each of these values need to be present in the injected parameters (the notebook will raise an exception if they are not present)\n",
    "\n",
    "Papermill uses the cell tag \"parameters\" to inject the real parameters below this cell.\n",
    "Enable tags to see what I mean"
   ]
  },
  {
   "cell_type": "code",
   "execution_count": 2,
   "id": "fd44eb83",
   "metadata": {
    "execution": {
     "iopub.execute_input": "2022-03-26T18:45:39.521589Z",
     "iopub.status.busy": "2022-03-26T18:45:39.521305Z",
     "iopub.status.idle": "2022-03-26T18:45:39.536243Z",
     "shell.execute_reply": "2022-03-26T18:45:39.536537Z"
    },
    "papermill": {
     "duration": 0.031275,
     "end_time": "2022-03-26T18:45:39.536644",
     "exception": false,
     "start_time": "2022-03-26T18:45:39.505369",
     "status": "completed"
    },
    "tags": []
   },
   "outputs": [],
   "source": [
    "required_parameters = {\n",
    "    \"experiment_name\",\n",
    "    \"lr\",\n",
    "    \"device\",\n",
    "    \"seed\",\n",
    "    \"dataset_seed\",\n",
    "    \"n_shot\",\n",
    "    \"n_query\",\n",
    "    \"n_way\",\n",
    "    \"train_k_factor\",\n",
    "    \"val_k_factor\",\n",
    "    \"test_k_factor\",\n",
    "    \"n_epoch\",\n",
    "    \"patience\",\n",
    "    \"criteria_for_best\",\n",
    "    \"x_net\",\n",
    "    \"datasets\",\n",
    "    \"torch_default_dtype\",\n",
    "    \"NUM_LOGS_PER_EPOCH\",\n",
    "    \"BEST_MODEL_PATH\",\n",
    "    \"x_shape\",\n",
    "}"
   ]
  },
  {
   "cell_type": "code",
   "execution_count": 3,
   "id": "fa3f0049",
   "metadata": {
    "execution": {
     "iopub.execute_input": "2022-03-26T18:45:39.574738Z",
     "iopub.status.busy": "2022-03-26T18:45:39.574451Z",
     "iopub.status.idle": "2022-03-26T18:45:39.586557Z",
     "shell.execute_reply": "2022-03-26T18:45:39.586961Z"
    },
    "papermill": {
     "duration": 0.032335,
     "end_time": "2022-03-26T18:45:39.587083",
     "exception": false,
     "start_time": "2022-03-26T18:45:39.554748",
     "status": "completed"
    },
    "tags": [
     "parameters"
    ]
   },
   "outputs": [],
   "source": [
    "from steves_utils.CORES.utils import (\n",
    "    ALL_NODES,\n",
    "    ALL_NODES_MINIMUM_1000_EXAMPLES,\n",
    "    ALL_DAYS\n",
    ")\n",
    "\n",
    "from steves_utils.ORACLE.utils_v2 import (\n",
    "    ALL_DISTANCES_FEET_NARROWED,\n",
    "    ALL_RUNS,\n",
    "    ALL_SERIAL_NUMBERS,\n",
    ")\n",
    "\n",
    "standalone_parameters = {}\n",
    "standalone_parameters[\"experiment_name\"] = \"STANDALONE PTN\"\n",
    "standalone_parameters[\"lr\"] = 0.001\n",
    "standalone_parameters[\"device\"] = \"cuda\"\n",
    "\n",
    "standalone_parameters[\"seed\"] = 1337\n",
    "standalone_parameters[\"dataset_seed\"] = 1337\n",
    "\n",
    "standalone_parameters[\"n_way\"] = 8\n",
    "standalone_parameters[\"n_shot\"] = 3\n",
    "standalone_parameters[\"n_query\"]  = 2\n",
    "standalone_parameters[\"train_k_factor\"] = 1\n",
    "standalone_parameters[\"val_k_factor\"] = 2\n",
    "standalone_parameters[\"test_k_factor\"] = 2\n",
    "\n",
    "\n",
    "standalone_parameters[\"n_epoch\"] = 50\n",
    "\n",
    "standalone_parameters[\"patience\"] = 10\n",
    "standalone_parameters[\"criteria_for_best\"] = \"source_loss\"\n",
    "\n",
    "standalone_parameters[\"datasets\"] = [\n",
    "    {\n",
    "        \"labels\": ALL_SERIAL_NUMBERS,\n",
    "        \"domains\": ALL_DISTANCES_FEET_NARROWED,\n",
    "        \"num_examples_per_domain_per_label\": 100,\n",
    "        \"pickle_path\": os.path.join(get_datasets_base_path(), \"oracle.Run1_framed_2000Examples_stratified_ds.2022A.pkl\"),\n",
    "        \"source_or_target_dataset\": \"source\",\n",
    "        \"x_transforms\": [\"unit_mag\", \"minus_two\"],\n",
    "        \"episode_transforms\": [],\n",
    "        \"domain_prefix\": \"ORACLE_\"\n",
    "    },\n",
    "    {\n",
    "        \"labels\": ALL_NODES,\n",
    "        \"domains\": ALL_DAYS,\n",
    "        \"num_examples_per_domain_per_label\": 100,\n",
    "        \"pickle_path\": os.path.join(get_datasets_base_path(), \"cores.stratified_ds.2022A.pkl\"),\n",
    "        \"source_or_target_dataset\": \"target\",\n",
    "        \"x_transforms\": [\"unit_power\", \"times_zero\"],\n",
    "        \"episode_transforms\": [],\n",
    "        \"domain_prefix\": \"CORES_\"\n",
    "    }   \n",
    "]\n",
    "\n",
    "standalone_parameters[\"torch_default_dtype\"] = \"torch.float32\" \n",
    "\n",
    "\n",
    "\n",
    "standalone_parameters[\"x_net\"] =     [\n",
    "    {\"class\": \"nnReshape\", \"kargs\": {\"shape\":[-1, 1, 2, 256]}},\n",
    "    {\"class\": \"Conv2d\", \"kargs\": { \"in_channels\":1, \"out_channels\":256, \"kernel_size\":(1,7), \"bias\":False, \"padding\":(0,3), },},\n",
    "    {\"class\": \"ReLU\", \"kargs\": {\"inplace\": True}},\n",
    "    {\"class\": \"BatchNorm2d\", \"kargs\": {\"num_features\":256}},\n",
    "\n",
    "    {\"class\": \"Conv2d\", \"kargs\": { \"in_channels\":256, \"out_channels\":80, \"kernel_size\":(2,7), \"bias\":True, \"padding\":(0,3), },},\n",
    "    {\"class\": \"ReLU\", \"kargs\": {\"inplace\": True}},\n",
    "    {\"class\": \"BatchNorm2d\", \"kargs\": {\"num_features\":80}},\n",
    "    {\"class\": \"Flatten\", \"kargs\": {}},\n",
    "\n",
    "    {\"class\": \"Linear\", \"kargs\": {\"in_features\": 80*256, \"out_features\": 256}}, # 80 units per IQ pair\n",
    "    {\"class\": \"ReLU\", \"kargs\": {\"inplace\": True}},\n",
    "    {\"class\": \"BatchNorm1d\", \"kargs\": {\"num_features\":256}},\n",
    "\n",
    "    {\"class\": \"Linear\", \"kargs\": {\"in_features\": 256, \"out_features\": 256}},\n",
    "]\n",
    "\n",
    "# Parameters relevant to results\n",
    "# These parameters will basically never need to change\n",
    "standalone_parameters[\"NUM_LOGS_PER_EPOCH\"] = 10\n",
    "standalone_parameters[\"BEST_MODEL_PATH\"] = \"./best_model.pth\"\n",
    "\n",
    "\n",
    "\n",
    "\n"
   ]
  },
  {
   "cell_type": "code",
   "execution_count": 4,
   "id": "338fd185",
   "metadata": {
    "execution": {
     "iopub.execute_input": "2022-03-26T18:45:39.628790Z",
     "iopub.status.busy": "2022-03-26T18:45:39.628477Z",
     "iopub.status.idle": "2022-03-26T18:45:39.643796Z",
     "shell.execute_reply": "2022-03-26T18:45:39.644105Z"
    },
    "papermill": {
     "duration": 0.034929,
     "end_time": "2022-03-26T18:45:39.644207",
     "exception": false,
     "start_time": "2022-03-26T18:45:39.609278",
     "status": "completed"
    },
    "tags": [
     "injected-parameters"
    ]
   },
   "outputs": [],
   "source": [
    "# Parameters\n",
    "parameters = {\n",
    "    \"experiment_name\": \"tl_3-jitter1v2:cores -> oracle.run1.framed\",\n",
    "    \"device\": \"cuda\",\n",
    "    \"lr\": 0.0001,\n",
    "    \"x_shape\": [2, 256],\n",
    "    \"n_shot\": 3,\n",
    "    \"n_query\": 2,\n",
    "    \"train_k_factor\": 3,\n",
    "    \"val_k_factor\": 2,\n",
    "    \"test_k_factor\": 2,\n",
    "    \"torch_default_dtype\": \"torch.float32\",\n",
    "    \"n_epoch\": 50,\n",
    "    \"patience\": 3,\n",
    "    \"criteria_for_best\": \"target_accuracy\",\n",
    "    \"x_net\": [\n",
    "        {\"class\": \"nnReshape\", \"kargs\": {\"shape\": [-1, 1, 2, 256]}},\n",
    "        {\n",
    "            \"class\": \"Conv2d\",\n",
    "            \"kargs\": {\n",
    "                \"in_channels\": 1,\n",
    "                \"out_channels\": 256,\n",
    "                \"kernel_size\": [1, 7],\n",
    "                \"bias\": False,\n",
    "                \"padding\": [0, 3],\n",
    "            },\n",
    "        },\n",
    "        {\"class\": \"ReLU\", \"kargs\": {\"inplace\": True}},\n",
    "        {\"class\": \"BatchNorm2d\", \"kargs\": {\"num_features\": 256}},\n",
    "        {\n",
    "            \"class\": \"Conv2d\",\n",
    "            \"kargs\": {\n",
    "                \"in_channels\": 256,\n",
    "                \"out_channels\": 80,\n",
    "                \"kernel_size\": [2, 7],\n",
    "                \"bias\": True,\n",
    "                \"padding\": [0, 3],\n",
    "            },\n",
    "        },\n",
    "        {\"class\": \"ReLU\", \"kargs\": {\"inplace\": True}},\n",
    "        {\"class\": \"BatchNorm2d\", \"kargs\": {\"num_features\": 80}},\n",
    "        {\"class\": \"Flatten\", \"kargs\": {}},\n",
    "        {\"class\": \"Linear\", \"kargs\": {\"in_features\": 20480, \"out_features\": 256}},\n",
    "        {\"class\": \"ReLU\", \"kargs\": {\"inplace\": True}},\n",
    "        {\"class\": \"BatchNorm1d\", \"kargs\": {\"num_features\": 256}},\n",
    "        {\"class\": \"Linear\", \"kargs\": {\"in_features\": 256, \"out_features\": 256}},\n",
    "    ],\n",
    "    \"NUM_LOGS_PER_EPOCH\": 10,\n",
    "    \"BEST_MODEL_PATH\": \"./best_model.pth\",\n",
    "    \"n_way\": 16,\n",
    "    \"datasets\": [\n",
    "        {\n",
    "            \"labels\": [\n",
    "                \"1-10.\",\n",
    "                \"1-11.\",\n",
    "                \"1-15.\",\n",
    "                \"1-16.\",\n",
    "                \"1-17.\",\n",
    "                \"1-18.\",\n",
    "                \"1-19.\",\n",
    "                \"10-4.\",\n",
    "                \"10-7.\",\n",
    "                \"11-1.\",\n",
    "                \"11-14.\",\n",
    "                \"11-17.\",\n",
    "                \"11-20.\",\n",
    "                \"11-7.\",\n",
    "                \"13-20.\",\n",
    "                \"13-8.\",\n",
    "                \"14-10.\",\n",
    "                \"14-11.\",\n",
    "                \"14-14.\",\n",
    "                \"14-7.\",\n",
    "                \"15-1.\",\n",
    "                \"15-20.\",\n",
    "                \"16-1.\",\n",
    "                \"16-16.\",\n",
    "                \"17-10.\",\n",
    "                \"17-11.\",\n",
    "                \"17-2.\",\n",
    "                \"19-1.\",\n",
    "                \"19-16.\",\n",
    "                \"19-19.\",\n",
    "                \"19-20.\",\n",
    "                \"19-3.\",\n",
    "                \"2-10.\",\n",
    "                \"2-11.\",\n",
    "                \"2-17.\",\n",
    "                \"2-18.\",\n",
    "                \"2-20.\",\n",
    "                \"2-3.\",\n",
    "                \"2-4.\",\n",
    "                \"2-5.\",\n",
    "                \"2-6.\",\n",
    "                \"2-7.\",\n",
    "                \"2-8.\",\n",
    "                \"3-13.\",\n",
    "                \"3-18.\",\n",
    "                \"3-3.\",\n",
    "                \"4-1.\",\n",
    "                \"4-10.\",\n",
    "                \"4-11.\",\n",
    "                \"4-19.\",\n",
    "                \"5-5.\",\n",
    "                \"6-15.\",\n",
    "                \"7-10.\",\n",
    "                \"7-14.\",\n",
    "                \"8-18.\",\n",
    "                \"8-20.\",\n",
    "                \"8-3.\",\n",
    "                \"8-8.\",\n",
    "            ],\n",
    "            \"domains\": [1, 2, 3, 4, 5],\n",
    "            \"num_examples_per_domain_per_label\": -1,\n",
    "            \"pickle_path\": \"/mnt/wd500GB/CSC500/csc500-main/datasets/cores.stratified_ds.2022A.pkl\",\n",
    "            \"source_or_target_dataset\": \"source\",\n",
    "            \"x_transforms\": [\n",
    "                \"unit_mag\",\n",
    "                \"jitter_256_1\",\n",
    "                \"lowpass_+/-10MHz\",\n",
    "                \"take_200\",\n",
    "            ],\n",
    "            \"episode_transforms\": [],\n",
    "            \"domain_prefix\": \"C_\",\n",
    "        },\n",
    "        {\n",
    "            \"labels\": [\n",
    "                \"3123D52\",\n",
    "                \"3123D65\",\n",
    "                \"3123D79\",\n",
    "                \"3123D80\",\n",
    "                \"3123D54\",\n",
    "                \"3123D70\",\n",
    "                \"3123D7B\",\n",
    "                \"3123D89\",\n",
    "                \"3123D58\",\n",
    "                \"3123D76\",\n",
    "                \"3123D7D\",\n",
    "                \"3123EFE\",\n",
    "                \"3123D64\",\n",
    "                \"3123D78\",\n",
    "                \"3123D7E\",\n",
    "                \"3124E4A\",\n",
    "            ],\n",
    "            \"domains\": [32, 38, 8, 44, 14, 50, 20, 26],\n",
    "            \"num_examples_per_domain_per_label\": 2000,\n",
    "            \"pickle_path\": \"/mnt/wd500GB/CSC500/csc500-main/datasets/oracle.Run1_framed_2000Examples_stratified_ds.2022A.pkl\",\n",
    "            \"source_or_target_dataset\": \"target\",\n",
    "            \"x_transforms\": [\n",
    "                \"unit_mag\",\n",
    "                \"jitter_256_1\",\n",
    "                \"take_200\",\n",
    "                \"resample_20Msps_to_25Msps\",\n",
    "            ],\n",
    "            \"episode_transforms\": [],\n",
    "            \"domain_prefix\": \"O_\",\n",
    "        },\n",
    "    ],\n",
    "    \"seed\": 1337,\n",
    "    \"dataset_seed\": 1337,\n",
    "}\n"
   ]
  },
  {
   "cell_type": "code",
   "execution_count": 5,
   "id": "8fa1cc33",
   "metadata": {
    "execution": {
     "iopub.execute_input": "2022-03-26T18:45:39.678727Z",
     "iopub.status.busy": "2022-03-26T18:45:39.678450Z",
     "iopub.status.idle": "2022-03-26T18:45:39.692398Z",
     "shell.execute_reply": "2022-03-26T18:45:39.691953Z"
    },
    "papermill": {
     "duration": 0.030458,
     "end_time": "2022-03-26T18:45:39.692503",
     "exception": false,
     "start_time": "2022-03-26T18:45:39.662045",
     "status": "completed"
    },
    "tags": []
   },
   "outputs": [],
   "source": [
    "# Set this to True if you want to run this template directly\n",
    "STANDALONE = False\n",
    "if STANDALONE:\n",
    "    print(\"parameters not injected, running with standalone_parameters\")\n",
    "    parameters = standalone_parameters\n",
    "\n",
    "if not 'parameters' in locals() and not 'parameters' in globals():\n",
    "    raise Exception(\"Parameter injection failed\")\n",
    "\n",
    "#Use an easy dict for all the parameters\n",
    "p = EasyDict(parameters)\n",
    "\n",
    "if \"x_shape\" not in p:\n",
    "    p.x_shape = [2,256] # Default to this if we dont supply x_shape\n",
    "\n",
    "\n",
    "supplied_keys = set(p.keys())\n",
    "\n",
    "if  supplied_keys != required_parameters:\n",
    "    print(\"Parameters are incorrect\")\n",
    "    if len(supplied_keys - required_parameters)>0: print(\"Shouldn't have:\", str(supplied_keys - required_parameters))\n",
    "    if len(required_parameters - supplied_keys)>0: print(\"Need to have:\", str(required_parameters - supplied_keys))\n",
    "    raise RuntimeError(\"Parameters are incorrect\")"
   ]
  },
  {
   "cell_type": "code",
   "execution_count": 6,
   "id": "3a028d58",
   "metadata": {
    "execution": {
     "iopub.execute_input": "2022-03-26T18:45:39.725724Z",
     "iopub.status.busy": "2022-03-26T18:45:39.725463Z",
     "iopub.status.idle": "2022-03-26T18:45:39.741415Z",
     "shell.execute_reply": "2022-03-26T18:45:39.741806Z"
    },
    "papermill": {
     "duration": 0.031343,
     "end_time": "2022-03-26T18:45:39.741938",
     "exception": false,
     "start_time": "2022-03-26T18:45:39.710595",
     "status": "completed"
    },
    "tags": []
   },
   "outputs": [],
   "source": [
    "###################################\n",
    "# Set the RNGs and make it all deterministic\n",
    "###################################\n",
    "np.random.seed(p.seed)\n",
    "random.seed(p.seed)\n",
    "torch.manual_seed(p.seed)\n",
    "\n",
    "torch.use_deterministic_algorithms(True) "
   ]
  },
  {
   "cell_type": "code",
   "execution_count": 7,
   "id": "b691acf6",
   "metadata": {
    "execution": {
     "iopub.execute_input": "2022-03-26T18:45:39.777174Z",
     "iopub.status.busy": "2022-03-26T18:45:39.776921Z",
     "iopub.status.idle": "2022-03-26T18:45:39.792406Z",
     "shell.execute_reply": "2022-03-26T18:45:39.792730Z"
    },
    "papermill": {
     "duration": 0.030943,
     "end_time": "2022-03-26T18:45:39.792829",
     "exception": false,
     "start_time": "2022-03-26T18:45:39.761886",
     "status": "completed"
    },
    "tags": []
   },
   "outputs": [],
   "source": [
    "###########################################\n",
    "# The stratified datasets honor this\n",
    "###########################################\n",
    "torch.set_default_dtype(eval(p.torch_default_dtype))"
   ]
  },
  {
   "cell_type": "code",
   "execution_count": 8,
   "id": "b5fba671",
   "metadata": {
    "execution": {
     "iopub.execute_input": "2022-03-26T18:45:39.827261Z",
     "iopub.status.busy": "2022-03-26T18:45:39.826685Z",
     "iopub.status.idle": "2022-03-26T18:45:39.867834Z",
     "shell.execute_reply": "2022-03-26T18:45:39.868257Z"
    },
    "papermill": {
     "duration": 0.05613,
     "end_time": "2022-03-26T18:45:39.868391",
     "exception": false,
     "start_time": "2022-03-26T18:45:39.812261",
     "status": "completed"
    },
    "tags": []
   },
   "outputs": [],
   "source": [
    "###################################\n",
    "# Build the network(s)\n",
    "# Note: It's critical to do this AFTER setting the RNG\n",
    "###################################\n",
    "x_net = build_sequential(p.x_net)"
   ]
  },
  {
   "cell_type": "code",
   "execution_count": 9,
   "id": "5d7e61cc",
   "metadata": {
    "execution": {
     "iopub.execute_input": "2022-03-26T18:45:39.905857Z",
     "iopub.status.busy": "2022-03-26T18:45:39.904987Z",
     "iopub.status.idle": "2022-03-26T18:45:39.921929Z",
     "shell.execute_reply": "2022-03-26T18:45:39.921690Z"
    },
    "papermill": {
     "duration": 0.031314,
     "end_time": "2022-03-26T18:45:39.921991",
     "exception": false,
     "start_time": "2022-03-26T18:45:39.890677",
     "status": "completed"
    },
    "tags": []
   },
   "outputs": [],
   "source": [
    "start_time_secs = time.time()"
   ]
  },
  {
   "cell_type": "code",
   "execution_count": 10,
   "id": "c6b67dfd",
   "metadata": {
    "execution": {
     "iopub.execute_input": "2022-03-26T18:45:39.954807Z",
     "iopub.status.busy": "2022-03-26T18:45:39.953812Z",
     "iopub.status.idle": "2022-03-26T18:45:39.970248Z",
     "shell.execute_reply": "2022-03-26T18:45:39.969789Z"
    },
    "papermill": {
     "duration": 0.0312,
     "end_time": "2022-03-26T18:45:39.970352",
     "exception": false,
     "start_time": "2022-03-26T18:45:39.939152",
     "status": "completed"
    },
    "tags": []
   },
   "outputs": [],
   "source": [
    "p.domains_source = []\n",
    "p.domains_target = []\n",
    "\n",
    "\n",
    "train_original_source = []\n",
    "val_original_source   = []\n",
    "test_original_source  = []\n",
    "\n",
    "train_original_target = []\n",
    "val_original_target   = []\n",
    "test_original_target  = []"
   ]
  },
  {
   "cell_type": "code",
   "execution_count": 11,
   "id": "e3d9c3d3",
   "metadata": {
    "execution": {
     "iopub.execute_input": "2022-03-26T18:45:40.002611Z",
     "iopub.status.busy": "2022-03-26T18:45:40.002326Z",
     "iopub.status.idle": "2022-03-26T18:45:40.017237Z",
     "shell.execute_reply": "2022-03-26T18:45:40.017552Z"
    },
    "papermill": {
     "duration": 0.029825,
     "end_time": "2022-03-26T18:45:40.017655",
     "exception": false,
     "start_time": "2022-03-26T18:45:39.987830",
     "status": "completed"
    },
    "tags": []
   },
   "outputs": [],
   "source": [
    "# global_x_transform_func = lambda x: normalize(x.to(torch.get_default_dtype()), \"unit_power\") # unit_power, unit_mag\n",
    "# global_x_transform_func = lambda x: normalize(x, \"unit_power\") # unit_power, unit_mag"
   ]
  },
  {
   "cell_type": "code",
   "execution_count": 12,
   "id": "acb78fd2",
   "metadata": {
    "execution": {
     "iopub.execute_input": "2022-03-26T18:45:40.055929Z",
     "iopub.status.busy": "2022-03-26T18:45:40.050319Z",
     "iopub.status.idle": "2022-03-26T18:45:40.067770Z",
     "shell.execute_reply": "2022-03-26T18:45:40.068175Z"
    },
    "papermill": {
     "duration": 0.032875,
     "end_time": "2022-03-26T18:45:40.068304",
     "exception": false,
     "start_time": "2022-03-26T18:45:40.035429",
     "status": "completed"
    },
    "tags": []
   },
   "outputs": [],
   "source": [
    "def add_dataset(\n",
    "    labels,\n",
    "    domains,\n",
    "    pickle_path,\n",
    "    x_transforms,\n",
    "    episode_transforms,\n",
    "    domain_prefix,\n",
    "    num_examples_per_domain_per_label,\n",
    "    source_or_target_dataset:str,\n",
    "    iterator_seed=p.seed,\n",
    "    dataset_seed=p.dataset_seed,\n",
    "    n_shot=p.n_shot,\n",
    "    n_way=p.n_way,\n",
    "    n_query=p.n_query,\n",
    "    train_val_test_k_factors=(p.train_k_factor,p.val_k_factor,p.test_k_factor),\n",
    "):\n",
    "   \n",
    "    if x_transforms == []: x_transform = None\n",
    "    else: x_transform = get_chained_transform(x_transforms)\n",
    "    \n",
    "    if episode_transforms == []: episode_transform = None\n",
    "    else: raise Exception(\"episode_transforms not implemented\")\n",
    "    \n",
    "    episode_transform = lambda tup, _prefix=domain_prefix: (_prefix + str(tup[0]), tup[1])\n",
    "\n",
    "\n",
    "    eaf = Episodic_Accessor_Factory(\n",
    "        labels=labels,\n",
    "        domains=domains,\n",
    "        num_examples_per_domain_per_label=num_examples_per_domain_per_label,\n",
    "        iterator_seed=iterator_seed,\n",
    "        dataset_seed=dataset_seed,\n",
    "        n_shot=n_shot,\n",
    "        n_way=n_way,\n",
    "        n_query=n_query,\n",
    "        train_val_test_k_factors=train_val_test_k_factors,\n",
    "        pickle_path=pickle_path,\n",
    "        x_transform_func=x_transform,\n",
    "    )\n",
    "\n",
    "    train, val, test = eaf.get_train(), eaf.get_val(), eaf.get_test()\n",
    "    train = Lazy_Iterable_Wrapper(train, episode_transform)\n",
    "    val = Lazy_Iterable_Wrapper(val, episode_transform)\n",
    "    test = Lazy_Iterable_Wrapper(test, episode_transform)\n",
    "\n",
    "    if source_or_target_dataset==\"source\":\n",
    "        train_original_source.append(train)\n",
    "        val_original_source.append(val)\n",
    "        test_original_source.append(test)\n",
    "\n",
    "        p.domains_source.extend(\n",
    "            [domain_prefix + str(u) for u in domains]\n",
    "        )\n",
    "    elif source_or_target_dataset==\"target\":\n",
    "        train_original_target.append(train)\n",
    "        val_original_target.append(val)\n",
    "        test_original_target.append(test)\n",
    "        p.domains_target.extend(\n",
    "            [domain_prefix + str(u) for u in domains]\n",
    "        )\n",
    "    else:\n",
    "        raise Exception(f\"invalid source_or_target_dataset: {source_or_target_dataset}\")\n",
    "    "
   ]
  },
  {
   "cell_type": "code",
   "execution_count": 13,
   "id": "fe266617",
   "metadata": {
    "execution": {
     "iopub.execute_input": "2022-03-26T18:45:40.101512Z",
     "iopub.status.busy": "2022-03-26T18:45:40.101251Z",
     "iopub.status.idle": "2022-03-26T18:47:04.132271Z",
     "shell.execute_reply": "2022-03-26T18:47:04.131919Z"
    },
    "papermill": {
     "duration": 84.045736,
     "end_time": "2022-03-26T18:47:04.132358",
     "exception": false,
     "start_time": "2022-03-26T18:45:40.086622",
     "status": "completed"
    },
    "tags": []
   },
   "outputs": [],
   "source": [
    "for ds in p.datasets:\n",
    "    add_dataset(**ds)"
   ]
  },
  {
   "cell_type": "code",
   "execution_count": 14,
   "id": "b90d65ac",
   "metadata": {
    "execution": {
     "iopub.execute_input": "2022-03-26T18:47:04.166824Z",
     "iopub.status.busy": "2022-03-26T18:47:04.166499Z",
     "iopub.status.idle": "2022-03-26T18:47:04.181875Z",
     "shell.execute_reply": "2022-03-26T18:47:04.181391Z"
    },
    "papermill": {
     "duration": 0.031975,
     "end_time": "2022-03-26T18:47:04.181985",
     "exception": false,
     "start_time": "2022-03-26T18:47:04.150010",
     "status": "completed"
    },
    "tags": []
   },
   "outputs": [],
   "source": [
    "# from steves_utils.CORES.utils import (\n",
    "#     ALL_NODES,\n",
    "#     ALL_NODES_MINIMUM_1000_EXAMPLES,\n",
    "#     ALL_DAYS\n",
    "# )\n",
    "\n",
    "# add_dataset(\n",
    "#     labels=ALL_NODES,\n",
    "#     domains = ALL_DAYS,\n",
    "#     num_examples_per_domain_per_label=100,\n",
    "#     pickle_path=os.path.join(get_datasets_base_path(), \"cores.stratified_ds.2022A.pkl\"),\n",
    "#     source_or_target_dataset=\"target\",\n",
    "#     x_transform_func=global_x_transform_func,\n",
    "#     domain_modifier=lambda u: f\"cores_{u}\"\n",
    "# )"
   ]
  },
  {
   "cell_type": "code",
   "execution_count": 15,
   "id": "76db484d",
   "metadata": {
    "execution": {
     "iopub.execute_input": "2022-03-26T18:47:04.217078Z",
     "iopub.status.busy": "2022-03-26T18:47:04.216813Z",
     "iopub.status.idle": "2022-03-26T18:47:04.233105Z",
     "shell.execute_reply": "2022-03-26T18:47:04.232663Z"
    },
    "papermill": {
     "duration": 0.032914,
     "end_time": "2022-03-26T18:47:04.233213",
     "exception": false,
     "start_time": "2022-03-26T18:47:04.200299",
     "status": "completed"
    },
    "tags": []
   },
   "outputs": [],
   "source": [
    "# from steves_utils.ORACLE.utils_v2 import (\n",
    "#     ALL_DISTANCES_FEET,\n",
    "#     ALL_RUNS,\n",
    "#     ALL_SERIAL_NUMBERS,\n",
    "# )\n",
    "\n",
    "\n",
    "# add_dataset(\n",
    "#     labels=ALL_SERIAL_NUMBERS,\n",
    "#     domains = list(set(ALL_DISTANCES_FEET) - {2,62}),\n",
    "#     num_examples_per_domain_per_label=100,\n",
    "#     pickle_path=os.path.join(get_datasets_base_path(), \"oracle.Run2_framed_2000Examples_stratified_ds.2022A.pkl\"),\n",
    "#     source_or_target_dataset=\"source\",\n",
    "#     x_transform_func=global_x_transform_func,\n",
    "#     domain_modifier=lambda u: f\"oracle1_{u}\"\n",
    "# )\n"
   ]
  },
  {
   "cell_type": "code",
   "execution_count": 16,
   "id": "97dea9d2",
   "metadata": {
    "execution": {
     "iopub.execute_input": "2022-03-26T18:47:04.267636Z",
     "iopub.status.busy": "2022-03-26T18:47:04.267378Z",
     "iopub.status.idle": "2022-03-26T18:47:04.279239Z",
     "shell.execute_reply": "2022-03-26T18:47:04.279651Z"
    },
    "papermill": {
     "duration": 0.027504,
     "end_time": "2022-03-26T18:47:04.279782",
     "exception": false,
     "start_time": "2022-03-26T18:47:04.252278",
     "status": "completed"
    },
    "tags": []
   },
   "outputs": [],
   "source": [
    "# from steves_utils.ORACLE.utils_v2 import (\n",
    "#     ALL_DISTANCES_FEET,\n",
    "#     ALL_RUNS,\n",
    "#     ALL_SERIAL_NUMBERS,\n",
    "# )\n",
    "\n",
    "\n",
    "# add_dataset(\n",
    "#     labels=ALL_SERIAL_NUMBERS,\n",
    "#     domains = list(set(ALL_DISTANCES_FEET) - {2,62,56}),\n",
    "#     num_examples_per_domain_per_label=100,\n",
    "#     pickle_path=os.path.join(get_datasets_base_path(), \"oracle.Run2_framed_2000Examples_stratified_ds.2022A.pkl\"),\n",
    "#     source_or_target_dataset=\"source\",\n",
    "#     x_transform_func=global_x_transform_func,\n",
    "#     domain_modifier=lambda u: f\"oracle2_{u}\"\n",
    "# )"
   ]
  },
  {
   "cell_type": "code",
   "execution_count": 17,
   "id": "6f289866",
   "metadata": {
    "execution": {
     "iopub.execute_input": "2022-03-26T18:47:04.320540Z",
     "iopub.status.busy": "2022-03-26T18:47:04.318522Z",
     "iopub.status.idle": "2022-03-26T18:47:04.332565Z",
     "shell.execute_reply": "2022-03-26T18:47:04.332150Z"
    },
    "papermill": {
     "duration": 0.033228,
     "end_time": "2022-03-26T18:47:04.332668",
     "exception": false,
     "start_time": "2022-03-26T18:47:04.299440",
     "status": "completed"
    },
    "tags": []
   },
   "outputs": [],
   "source": [
    "# add_dataset(\n",
    "#     labels=list(range(19)),\n",
    "#     domains = [0,1,2],\n",
    "#     num_examples_per_domain_per_label=100,\n",
    "#     pickle_path=os.path.join(get_datasets_base_path(), \"metehan.stratified_ds.2022A.pkl\"),\n",
    "#     source_or_target_dataset=\"target\",\n",
    "#     x_transform_func=global_x_transform_func,\n",
    "#     domain_modifier=lambda u: f\"met_{u}\"\n",
    "# )"
   ]
  },
  {
   "cell_type": "code",
   "execution_count": 18,
   "id": "86a863c3",
   "metadata": {
    "execution": {
     "iopub.execute_input": "2022-03-26T18:47:04.369473Z",
     "iopub.status.busy": "2022-03-26T18:47:04.369211Z",
     "iopub.status.idle": "2022-03-26T18:47:04.384783Z",
     "shell.execute_reply": "2022-03-26T18:47:04.384339Z"
    },
    "papermill": {
     "duration": 0.032799,
     "end_time": "2022-03-26T18:47:04.384891",
     "exception": false,
     "start_time": "2022-03-26T18:47:04.352092",
     "status": "completed"
    },
    "tags": []
   },
   "outputs": [],
   "source": [
    "# # from steves_utils.wisig.utils import (\n",
    "# #     ALL_NODES_MINIMUM_100_EXAMPLES,\n",
    "# #     ALL_NODES_MINIMUM_500_EXAMPLES,\n",
    "# #     ALL_NODES_MINIMUM_1000_EXAMPLES,\n",
    "# #     ALL_DAYS\n",
    "# # )\n",
    "\n",
    "# import steves_utils.wisig.utils as wisig\n",
    "\n",
    "\n",
    "# add_dataset(\n",
    "#     labels=wisig.ALL_NODES_MINIMUM_100_EXAMPLES,\n",
    "#     domains = wisig.ALL_DAYS,\n",
    "#     num_examples_per_domain_per_label=100,\n",
    "#     pickle_path=os.path.join(get_datasets_base_path(), \"wisig.node3-19.stratified_ds.2022A.pkl\"),\n",
    "#     source_or_target_dataset=\"target\",\n",
    "#     x_transform_func=global_x_transform_func,\n",
    "#     domain_modifier=lambda u: f\"wisig_{u}\"\n",
    "# )"
   ]
  },
  {
   "cell_type": "code",
   "execution_count": 19,
   "id": "fd5442bc",
   "metadata": {
    "execution": {
     "iopub.execute_input": "2022-03-26T18:47:04.425022Z",
     "iopub.status.busy": "2022-03-26T18:47:04.424560Z",
     "iopub.status.idle": "2022-03-26T18:47:04.438262Z",
     "shell.execute_reply": "2022-03-26T18:47:04.437797Z"
    },
    "papermill": {
     "duration": 0.034536,
     "end_time": "2022-03-26T18:47:04.438369",
     "exception": false,
     "start_time": "2022-03-26T18:47:04.403833",
     "status": "completed"
    },
    "tags": []
   },
   "outputs": [],
   "source": [
    "###################################\n",
    "# Build the dataset\n",
    "###################################\n",
    "train_original_source = Iterable_Aggregator(train_original_source, p.seed)\n",
    "val_original_source = Iterable_Aggregator(val_original_source, p.seed)\n",
    "test_original_source = Iterable_Aggregator(test_original_source, p.seed)\n",
    "\n",
    "\n",
    "train_original_target = Iterable_Aggregator(train_original_target, p.seed)\n",
    "val_original_target = Iterable_Aggregator(val_original_target, p.seed)\n",
    "test_original_target = Iterable_Aggregator(test_original_target, p.seed)\n",
    "\n",
    "# For CNN We only use X and Y. And we only train on the source.\n",
    "# Properly form the data using a transform lambda and Lazy_Iterable_Wrapper. Finally wrap them in a dataloader\n",
    "\n",
    "transform_lambda = lambda ex: ex[1] # Original is (<domain>, <episode>) so we strip down to episode only\n",
    "\n",
    "train_processed_source = Lazy_Iterable_Wrapper(train_original_source, transform_lambda)\n",
    "val_processed_source   = Lazy_Iterable_Wrapper(val_original_source, transform_lambda)\n",
    "test_processed_source  = Lazy_Iterable_Wrapper(test_original_source, transform_lambda)\n",
    "\n",
    "train_processed_target = Lazy_Iterable_Wrapper(train_original_target, transform_lambda)\n",
    "val_processed_target   = Lazy_Iterable_Wrapper(val_original_target, transform_lambda)\n",
    "test_processed_target  = Lazy_Iterable_Wrapper(test_original_target, transform_lambda)\n",
    "\n",
    "datasets = EasyDict({\n",
    "    \"source\": {\n",
    "        \"original\": {\"train\":train_original_source, \"val\":val_original_source, \"test\":test_original_source},\n",
    "        \"processed\": {\"train\":train_processed_source, \"val\":val_processed_source, \"test\":test_processed_source}\n",
    "    },\n",
    "    \"target\": {\n",
    "        \"original\": {\"train\":train_original_target, \"val\":val_original_target, \"test\":test_original_target},\n",
    "        \"processed\": {\"train\":train_processed_target, \"val\":val_processed_target, \"test\":test_processed_target}\n",
    "    },\n",
    "})"
   ]
  },
  {
   "cell_type": "code",
   "execution_count": 20,
   "id": "5b3c01fc",
   "metadata": {
    "execution": {
     "iopub.execute_input": "2022-03-26T18:47:04.475360Z",
     "iopub.status.busy": "2022-03-26T18:47:04.473478Z",
     "iopub.status.idle": "2022-03-26T18:47:11.293506Z",
     "shell.execute_reply": "2022-03-26T18:47:11.294169Z"
    },
    "papermill": {
     "duration": 6.835943,
     "end_time": "2022-03-26T18:47:11.294316",
     "exception": false,
     "start_time": "2022-03-26T18:47:04.458373",
     "status": "completed"
    },
    "tags": []
   },
   "outputs": [
    {
     "name": "stdout",
     "output_type": "stream",
     "text": [
      "{'C_3', 'C_1', 'C_2', 'C_4', 'C_5'}\n"
     ]
    },
    {
     "name": "stdout",
     "output_type": "stream",
     "text": [
      "{'O_20', 'O_38', 'O_50', 'O_14', 'O_44', 'O_26', 'O_8', 'O_32'}\n"
     ]
    },
    {
     "name": "stdout",
     "output_type": "stream",
     "text": [
      "tensor([[[0., 0., 0.,  ..., 0., 0., 0.],\n",
      "         [0., 0., 0.,  ..., 0., 0., 0.]],\n",
      "\n",
      "        [[0., 0., 0.,  ..., 0., 0., 0.],\n",
      "         [0., 0., 0.,  ..., 0., 0., 0.]],\n",
      "\n",
      "        [[0., 0., 0.,  ..., 0., 0., 0.],\n",
      "         [0., 0., 0.,  ..., 0., 0., 0.]],\n",
      "\n",
      "        ...,\n",
      "\n",
      "        [[0., 0., 0.,  ..., 0., 0., 0.],\n",
      "         [0., 0., 0.,  ..., 0., 0., 0.]],\n",
      "\n",
      "        [[0., 0., 0.,  ..., 0., 0., 0.],\n",
      "         [0., 0., 0.,  ..., 0., 0., 0.]],\n",
      "\n",
      "        [[0., 0., 0.,  ..., 0., 0., 0.],\n",
      "         [0., 0., 0.,  ..., 0., 0., 0.]]])\n"
     ]
    }
   ],
   "source": [
    "from steves_utils.transforms import get_average_magnitude, get_average_power\n",
    "\n",
    "print(set([u for u,_ in val_original_source]))\n",
    "print(set([u for u,_ in val_original_target]))\n",
    "\n",
    "s_x, s_y, q_x, q_y, _ = next(iter(train_processed_source))\n",
    "print(s_x)\n",
    "\n",
    "# for ds in [\n",
    "#     train_processed_source,\n",
    "#     val_processed_source,\n",
    "#     test_processed_source,\n",
    "#     train_processed_target,\n",
    "#     val_processed_target,\n",
    "#     test_processed_target\n",
    "# ]:\n",
    "#     for s_x, s_y, q_x, q_y, _ in ds:\n",
    "#         for X in (s_x, q_x):\n",
    "#             for x in X:\n",
    "#                 assert np.isclose(get_average_magnitude(x.numpy()), 1.0)\n",
    "#                 assert np.isclose(get_average_power(x.numpy()), 1.0)\n",
    "                "
   ]
  },
  {
   "cell_type": "code",
   "execution_count": 21,
   "id": "bbdacba1",
   "metadata": {
    "execution": {
     "iopub.execute_input": "2022-03-26T18:47:11.332952Z",
     "iopub.status.busy": "2022-03-26T18:47:11.332671Z",
     "iopub.status.idle": "2022-03-26T18:47:11.394651Z",
     "shell.execute_reply": "2022-03-26T18:47:11.394294Z"
    },
    "papermill": {
     "duration": 0.08035,
     "end_time": "2022-03-26T18:47:11.394742",
     "exception": false,
     "start_time": "2022-03-26T18:47:11.314392",
     "status": "completed"
    },
    "tags": []
   },
   "outputs": [
    {
     "name": "stdout",
     "output_type": "stream",
     "text": [
      "(2, 256)\n"
     ]
    }
   ],
   "source": [
    "###################################\n",
    "# Build the model\n",
    "###################################\n",
    "# easfsl only wants a tuple for the shape\n",
    "model = Steves_Prototypical_Network(x_net, device=p.device, x_shape=tuple(p.x_shape))\n",
    "optimizer = Adam(params=model.parameters(), lr=p.lr)"
   ]
  },
  {
   "cell_type": "code",
   "execution_count": 22,
   "id": "22b39ac5",
   "metadata": {
    "execution": {
     "iopub.execute_input": "2022-03-26T18:47:11.432856Z",
     "iopub.status.busy": "2022-03-26T18:47:11.432586Z",
     "iopub.status.idle": "2022-03-26T19:13:42.525423Z",
     "shell.execute_reply": "2022-03-26T19:13:42.525179Z"
    },
    "papermill": {
     "duration": 1591.110977,
     "end_time": "2022-03-26T19:13:42.525484",
     "exception": false,
     "start_time": "2022-03-26T18:47:11.414507",
     "status": "completed"
    },
    "tags": []
   },
   "outputs": [
    {
     "name": "stdout",
     "output_type": "stream",
     "text": [
      "epoch: 1, [batch: 1 / 6320], examples_per_second: 51.5279, train_label_loss: 2.7487, \n"
     ]
    },
    {
     "name": "stdout",
     "output_type": "stream",
     "text": [
      "epoch: 1, [batch: 632 / 6320], examples_per_second: 1668.4687, train_label_loss: 0.0017, \n"
     ]
    },
    {
     "name": "stdout",
     "output_type": "stream",
     "text": [
      "epoch: 1, [batch: 1264 / 6320], examples_per_second: 1673.1832, train_label_loss: 0.0044, \n"
     ]
    },
    {
     "name": "stdout",
     "output_type": "stream",
     "text": [
      "epoch: 1, [batch: 1896 / 6320], examples_per_second: 1687.7710, train_label_loss: 0.0001, \n"
     ]
    },
    {
     "name": "stdout",
     "output_type": "stream",
     "text": [
      "epoch: 1, [batch: 2528 / 6320], examples_per_second: 1686.6566, train_label_loss: 0.0082, \n"
     ]
    },
    {
     "name": "stdout",
     "output_type": "stream",
     "text": [
      "epoch: 1, [batch: 3160 / 6320], examples_per_second: 1647.4109, train_label_loss: 0.0001, \n"
     ]
    },
    {
     "name": "stdout",
     "output_type": "stream",
     "text": [
      "epoch: 1, [batch: 3792 / 6320], examples_per_second: 1664.4037, train_label_loss: 0.0001, \n"
     ]
    },
    {
     "name": "stdout",
     "output_type": "stream",
     "text": [
      "epoch: 1, [batch: 4424 / 6320], examples_per_second: 1750.4211, train_label_loss: 0.0038, \n"
     ]
    },
    {
     "name": "stdout",
     "output_type": "stream",
     "text": [
      "epoch: 1, [batch: 5056 / 6320], examples_per_second: 2140.0043, train_label_loss: 0.0342, \n"
     ]
    },
    {
     "name": "stdout",
     "output_type": "stream",
     "text": [
      "epoch: 1, [batch: 5688 / 6320], examples_per_second: 1756.8836, train_label_loss: 0.0004, \n"
     ]
    },
    {
     "name": "stdout",
     "output_type": "stream",
     "text": [
      "=============================================================\n",
      "epoch: 1, source_val_acc_label: 0.9963, target_val_acc_label: 0.3154, source_val_label_loss: 0.0236, target_val_label_loss: 1.9609, \n",
      "=============================================================\n"
     ]
    },
    {
     "name": "stdout",
     "output_type": "stream",
     "text": [
      "New best\n"
     ]
    },
    {
     "name": "stdout",
     "output_type": "stream",
     "text": [
      "epoch: 2, [batch: 1 / 6305], examples_per_second: 2.5043, train_label_loss: 0.0003, \n"
     ]
    },
    {
     "name": "stdout",
     "output_type": "stream",
     "text": [
      "epoch: 2, [batch: 631 / 6305], examples_per_second: 1673.1304, train_label_loss: 0.0000, \n"
     ]
    },
    {
     "name": "stdout",
     "output_type": "stream",
     "text": [
      "epoch: 2, [batch: 1261 / 6305], examples_per_second: 1711.5979, train_label_loss: 0.0044, \n"
     ]
    },
    {
     "name": "stdout",
     "output_type": "stream",
     "text": [
      "epoch: 2, [batch: 1892 / 6305], examples_per_second: 1688.3241, train_label_loss: 0.0001, \n"
     ]
    },
    {
     "name": "stdout",
     "output_type": "stream",
     "text": [
      "epoch: 2, [batch: 2522 / 6305], examples_per_second: 1692.5766, train_label_loss: 0.0001, \n"
     ]
    },
    {
     "name": "stdout",
     "output_type": "stream",
     "text": [
      "epoch: 2, [batch: 3153 / 6305], examples_per_second: 1697.7941, train_label_loss: 0.0013, \n"
     ]
    },
    {
     "name": "stdout",
     "output_type": "stream",
     "text": [
      "epoch: 2, [batch: 3783 / 6305], examples_per_second: 1702.0323, train_label_loss: 0.0729, \n"
     ]
    },
    {
     "name": "stdout",
     "output_type": "stream",
     "text": [
      "epoch: 2, [batch: 4413 / 6305], examples_per_second: 1812.7645, train_label_loss: 0.0000, \n"
     ]
    },
    {
     "name": "stdout",
     "output_type": "stream",
     "text": [
      "epoch: 2, [batch: 5044 / 6305], examples_per_second: 2247.6081, train_label_loss: 0.0002, \n"
     ]
    },
    {
     "name": "stdout",
     "output_type": "stream",
     "text": [
      "epoch: 2, [batch: 5674 / 6305], examples_per_second: 1776.5396, train_label_loss: 0.0001, \n"
     ]
    },
    {
     "name": "stdout",
     "output_type": "stream",
     "text": [
      "=============================================================\n",
      "epoch: 2, source_val_acc_label: 0.9975, target_val_acc_label: 0.3128, source_val_label_loss: 0.0127, target_val_label_loss: 2.2113, \n",
      "=============================================================\n"
     ]
    },
    {
     "name": "stdout",
     "output_type": "stream",
     "text": [
      "epoch: 3, [batch: 1 / 6307], examples_per_second: 2.5715, train_label_loss: 0.0000, \n"
     ]
    },
    {
     "name": "stdout",
     "output_type": "stream",
     "text": [
      "epoch: 3, [batch: 631 / 6307], examples_per_second: 1705.9282, train_label_loss: 0.0000, \n"
     ]
    },
    {
     "name": "stdout",
     "output_type": "stream",
     "text": [
      "epoch: 3, [batch: 1262 / 6307], examples_per_second: 1718.3117, train_label_loss: 0.0050, \n"
     ]
    },
    {
     "name": "stdout",
     "output_type": "stream",
     "text": [
      "epoch: 3, [batch: 1892 / 6307], examples_per_second: 1667.2335, train_label_loss: 0.0752, \n"
     ]
    },
    {
     "name": "stdout",
     "output_type": "stream",
     "text": [
      "epoch: 3, [batch: 2523 / 6307], examples_per_second: 1671.9105, train_label_loss: 0.0008, \n"
     ]
    },
    {
     "name": "stdout",
     "output_type": "stream",
     "text": [
      "epoch: 3, [batch: 3154 / 6307], examples_per_second: 1685.6670, train_label_loss: 0.0001, \n"
     ]
    },
    {
     "name": "stdout",
     "output_type": "stream",
     "text": [
      "epoch: 3, [batch: 3784 / 6307], examples_per_second: 1691.9893, train_label_loss: 0.0000, \n"
     ]
    },
    {
     "name": "stdout",
     "output_type": "stream",
     "text": [
      "epoch: 3, [batch: 4415 / 6307], examples_per_second: 1808.5957, train_label_loss: 0.0002, \n"
     ]
    },
    {
     "name": "stdout",
     "output_type": "stream",
     "text": [
      "epoch: 3, [batch: 5045 / 6307], examples_per_second: 2264.5087, train_label_loss: 0.0000, \n"
     ]
    },
    {
     "name": "stdout",
     "output_type": "stream",
     "text": [
      "epoch: 3, [batch: 5676 / 6307], examples_per_second: 1765.8072, train_label_loss: 0.0009, \n"
     ]
    },
    {
     "name": "stdout",
     "output_type": "stream",
     "text": [
      "=============================================================\n",
      "epoch: 3, source_val_acc_label: 0.9990, target_val_acc_label: 0.2943, source_val_label_loss: 0.0065, target_val_label_loss: 2.4127, \n",
      "=============================================================\n"
     ]
    },
    {
     "name": "stdout",
     "output_type": "stream",
     "text": [
      "epoch: 4, [batch: 1 / 6315], examples_per_second: 2.6014, train_label_loss: 0.0000, \n"
     ]
    },
    {
     "name": "stdout",
     "output_type": "stream",
     "text": [
      "epoch: 4, [batch: 632 / 6315], examples_per_second: 1662.9573, train_label_loss: 0.0000, \n"
     ]
    },
    {
     "name": "stdout",
     "output_type": "stream",
     "text": [
      "epoch: 4, [batch: 1263 / 6315], examples_per_second: 1659.8850, train_label_loss: 0.0000, \n"
     ]
    },
    {
     "name": "stdout",
     "output_type": "stream",
     "text": [
      "epoch: 4, [batch: 1895 / 6315], examples_per_second: 1702.6932, train_label_loss: 0.0000, \n"
     ]
    },
    {
     "name": "stdout",
     "output_type": "stream",
     "text": [
      "epoch: 4, [batch: 2526 / 6315], examples_per_second: 1666.5698, train_label_loss: 0.0000, \n"
     ]
    },
    {
     "name": "stdout",
     "output_type": "stream",
     "text": [
      "epoch: 4, [batch: 3158 / 6315], examples_per_second: 1685.8356, train_label_loss: 0.0000, \n"
     ]
    },
    {
     "name": "stdout",
     "output_type": "stream",
     "text": [
      "epoch: 4, [batch: 3789 / 6315], examples_per_second: 1693.5041, train_label_loss: 0.0000, \n"
     ]
    },
    {
     "name": "stdout",
     "output_type": "stream",
     "text": [
      "epoch: 4, [batch: 4420 / 6315], examples_per_second: 1781.4158, train_label_loss: 0.0000, \n"
     ]
    },
    {
     "name": "stdout",
     "output_type": "stream",
     "text": [
      "epoch: 4, [batch: 5052 / 6315], examples_per_second: 2228.2279, train_label_loss: 0.0000, \n"
     ]
    },
    {
     "name": "stdout",
     "output_type": "stream",
     "text": [
      "epoch: 4, [batch: 5683 / 6315], examples_per_second: 1732.1915, train_label_loss: 0.0000, \n"
     ]
    },
    {
     "name": "stdout",
     "output_type": "stream",
     "text": [
      "=============================================================\n",
      "epoch: 4, source_val_acc_label: 0.9992, target_val_acc_label: 0.2807, source_val_label_loss: 0.0069, target_val_label_loss: 2.6789, \n",
      "=============================================================\n"
     ]
    },
    {
     "name": "stdout",
     "output_type": "stream",
     "text": [
      "epoch: 5, [batch: 1 / 6313], examples_per_second: 2.5395, train_label_loss: 0.0001, \n"
     ]
    },
    {
     "name": "stdout",
     "output_type": "stream",
     "text": [
      "epoch: 5, [batch: 632 / 6313], examples_per_second: 1710.0479, train_label_loss: 0.0000, \n"
     ]
    },
    {
     "name": "stdout",
     "output_type": "stream",
     "text": [
      "epoch: 5, [batch: 1263 / 6313], examples_per_second: 1704.2971, train_label_loss: 0.0000, \n"
     ]
    },
    {
     "name": "stdout",
     "output_type": "stream",
     "text": [
      "epoch: 5, [batch: 1894 / 6313], examples_per_second: 1710.5486, train_label_loss: 0.0000, \n"
     ]
    },
    {
     "name": "stdout",
     "output_type": "stream",
     "text": [
      "epoch: 5, [batch: 2525 / 6313], examples_per_second: 1711.9337, train_label_loss: 0.0004, \n"
     ]
    },
    {
     "name": "stdout",
     "output_type": "stream",
     "text": [
      "epoch: 5, [batch: 3157 / 6313], examples_per_second: 1665.9594, train_label_loss: 0.0000, \n"
     ]
    },
    {
     "name": "stdout",
     "output_type": "stream",
     "text": [
      "epoch: 5, [batch: 3788 / 6313], examples_per_second: 1684.7174, train_label_loss: 0.0000, \n"
     ]
    },
    {
     "name": "stdout",
     "output_type": "stream",
     "text": [
      "epoch: 5, [batch: 4419 / 6313], examples_per_second: 1750.3546, train_label_loss: 0.0000, \n"
     ]
    },
    {
     "name": "stdout",
     "output_type": "stream",
     "text": [
      "epoch: 5, [batch: 5050 / 6313], examples_per_second: 2156.0221, train_label_loss: 0.0000, \n"
     ]
    },
    {
     "name": "stdout",
     "output_type": "stream",
     "text": [
      "epoch: 5, [batch: 5681 / 6313], examples_per_second: 2174.2041, train_label_loss: 0.0000, \n"
     ]
    },
    {
     "name": "stdout",
     "output_type": "stream",
     "text": [
      "=============================================================\n",
      "epoch: 5, source_val_acc_label: 0.9970, target_val_acc_label: 0.2960, source_val_label_loss: 0.0183, target_val_label_loss: 2.7474, \n",
      "=============================================================\n"
     ]
    },
    {
     "name": "stdout",
     "output_type": "stream",
     "text": [
      "Patience (3) exhausted\n"
     ]
    }
   ],
   "source": [
    "###################################\n",
    "# train\n",
    "###################################\n",
    "jig = PTN_Train_Eval_Test_Jig(model, p.BEST_MODEL_PATH, p.device)\n",
    "\n",
    "jig.train(\n",
    "    train_iterable=datasets.source.processed.train,\n",
    "    source_val_iterable=datasets.source.processed.val,\n",
    "    target_val_iterable=datasets.target.processed.val,\n",
    "    num_epochs=p.n_epoch,\n",
    "    num_logs_per_epoch=p.NUM_LOGS_PER_EPOCH,\n",
    "    patience=p.patience,\n",
    "    optimizer=optimizer,\n",
    "    criteria_for_best=p.criteria_for_best,\n",
    ")"
   ]
  },
  {
   "cell_type": "code",
   "execution_count": 23,
   "id": "31e8fabf",
   "metadata": {
    "execution": {
     "iopub.execute_input": "2022-03-26T19:13:42.581764Z",
     "iopub.status.busy": "2022-03-26T19:13:42.581477Z",
     "iopub.status.idle": "2022-03-26T19:13:42.600404Z",
     "shell.execute_reply": "2022-03-26T19:13:42.600809Z"
    },
    "papermill": {
     "duration": 0.04902,
     "end_time": "2022-03-26T19:13:42.600948",
     "exception": false,
     "start_time": "2022-03-26T19:13:42.551928",
     "status": "completed"
    },
    "tags": []
   },
   "outputs": [],
   "source": [
    "total_experiment_time_secs = time.time() - start_time_secs"
   ]
  },
  {
   "cell_type": "code",
   "execution_count": 24,
   "id": "87b9595b",
   "metadata": {
    "execution": {
     "iopub.execute_input": "2022-03-26T19:13:42.665606Z",
     "iopub.status.busy": "2022-03-26T19:13:42.665315Z",
     "iopub.status.idle": "2022-03-26T19:15:32.224287Z",
     "shell.execute_reply": "2022-03-26T19:15:32.224668Z"
    },
    "papermill": {
     "duration": 109.592421,
     "end_time": "2022-03-26T19:15:32.224794",
     "exception": false,
     "start_time": "2022-03-26T19:13:42.632373",
     "status": "completed"
    },
    "tags": []
   },
   "outputs": [],
   "source": [
    "###################################\n",
    "# Evaluate the model\n",
    "###################################\n",
    "source_test_label_accuracy, source_test_label_loss = jig.test(datasets.source.processed.test)\n",
    "target_test_label_accuracy, target_test_label_loss = jig.test(datasets.target.processed.test)\n",
    "\n",
    "source_val_label_accuracy, source_val_label_loss = jig.test(datasets.source.processed.val)\n",
    "target_val_label_accuracy, target_val_label_loss = jig.test(datasets.target.processed.val)\n",
    "\n",
    "history = jig.get_history()\n",
    "\n",
    "total_epochs_trained = len(history[\"epoch_indices\"])\n",
    "\n",
    "val_dl = Iterable_Aggregator((datasets.source.original.val,datasets.target.original.val))\n",
    "\n",
    "confusion = ptn_confusion_by_domain_over_dataloader(model, p.device, val_dl)\n",
    "per_domain_accuracy = per_domain_accuracy_from_confusion(confusion)\n",
    "\n",
    "# Add a key to per_domain_accuracy for if it was a source domain\n",
    "for domain, accuracy in per_domain_accuracy.items():\n",
    "    per_domain_accuracy[domain] = {\n",
    "        \"accuracy\": accuracy,\n",
    "        \"source?\": domain in p.domains_source\n",
    "    }\n",
    "\n",
    "# Do an independent accuracy assesment JUST TO BE SURE!\n",
    "# _source_test_label_accuracy = independent_accuracy_assesment(model, datasets.source.processed.test, p.device)\n",
    "# _target_test_label_accuracy = independent_accuracy_assesment(model, datasets.target.processed.test, p.device)\n",
    "# _source_val_label_accuracy = independent_accuracy_assesment(model, datasets.source.processed.val, p.device)\n",
    "# _target_val_label_accuracy = independent_accuracy_assesment(model, datasets.target.processed.val, p.device)\n",
    "\n",
    "# assert(_source_test_label_accuracy == source_test_label_accuracy)\n",
    "# assert(_target_test_label_accuracy == target_test_label_accuracy)\n",
    "# assert(_source_val_label_accuracy == source_val_label_accuracy)\n",
    "# assert(_target_val_label_accuracy == target_val_label_accuracy)\n",
    "\n",
    "experiment = {\n",
    "    \"experiment_name\": p.experiment_name,\n",
    "    \"parameters\": dict(p),\n",
    "    \"results\": {\n",
    "        \"source_test_label_accuracy\": source_test_label_accuracy,\n",
    "        \"source_test_label_loss\": source_test_label_loss,\n",
    "        \"target_test_label_accuracy\": target_test_label_accuracy,\n",
    "        \"target_test_label_loss\": target_test_label_loss,\n",
    "        \"source_val_label_accuracy\": source_val_label_accuracy,\n",
    "        \"source_val_label_loss\": source_val_label_loss,\n",
    "        \"target_val_label_accuracy\": target_val_label_accuracy,\n",
    "        \"target_val_label_loss\": target_val_label_loss,\n",
    "        \"total_epochs_trained\": total_epochs_trained,\n",
    "        \"total_experiment_time_secs\": total_experiment_time_secs,\n",
    "        \"confusion\": confusion,\n",
    "        \"per_domain_accuracy\": per_domain_accuracy,\n",
    "    },\n",
    "    \"history\": history,\n",
    "    \"dataset_metrics\": get_dataset_metrics(datasets, \"ptn\"),\n",
    "}"
   ]
  },
  {
   "cell_type": "code",
   "execution_count": 25,
   "id": "54a21829",
   "metadata": {
    "execution": {
     "iopub.execute_input": "2022-03-26T19:15:32.295812Z",
     "iopub.status.busy": "2022-03-26T19:15:32.295514Z",
     "iopub.status.idle": "2022-03-26T19:15:32.445762Z",
     "shell.execute_reply": "2022-03-26T19:15:32.446237Z"
    },
    "papermill": {
     "duration": 0.178467,
     "end_time": "2022-03-26T19:15:32.446371",
     "exception": false,
     "start_time": "2022-03-26T19:15:32.267904",
     "status": "completed"
    },
    "tags": []
   },
   "outputs": [
    {
     "data": {
      "image/png": "[encoded data removed]",
      "text/plain": [
       "<Figure size 1080x504 with 1 Axes>"
      ]
     },
     "metadata": {
      "needs_background": "light"
     },
     "output_type": "display_data"
    }
   ],
   "source": [
    "ax = get_loss_curve(experiment)\n",
    "plt.show()"
   ]
  },
  {
   "cell_type": "code",
   "execution_count": 26,
   "id": "fd8a0f60",
   "metadata": {
    "execution": {
     "iopub.execute_input": "2022-03-26T19:15:32.508928Z",
     "iopub.status.busy": "2022-03-26T19:15:32.506500Z",
     "iopub.status.idle": "2022-03-26T19:15:32.678401Z",
     "shell.execute_reply": "2022-03-26T19:15:32.678069Z"
    },
    "papermill": {
     "duration": 0.200894,
     "end_time": "2022-03-26T19:15:32.678480",
     "exception": false,
     "start_time": "2022-03-26T19:15:32.477586",
     "status": "completed"
    },
    "tags": []
   },
   "outputs": [
    {
     "data": {
      "text/plain": [
       "<AxesSubplot:title={'center':'Results'}>"
      ]
     },
     "execution_count": 26,
     "metadata": {},
     "output_type": "execute_result"
    },
    {
     "data": {
      "image/png": "[encoded data removed]",
      "text/plain": [
       "<Figure size 1080x504 with 1 Axes>"
      ]
     },
     "metadata": {
      "needs_background": "light"
     },
     "output_type": "display_data"
    }
   ],
   "source": [
    "get_results_table(experiment)"
   ]
  },
  {
   "cell_type": "code",
   "execution_count": 27,
   "id": "cf8dc689",
   "metadata": {
    "execution": {
     "iopub.execute_input": "2022-03-26T19:15:32.746655Z",
     "iopub.status.busy": "2022-03-26T19:15:32.746383Z",
     "iopub.status.idle": "2022-03-26T19:15:32.886383Z",
     "shell.execute_reply": "2022-03-26T19:15:32.885898Z"
    },
    "papermill": {
     "duration": 0.169704,
     "end_time": "2022-03-26T19:15:32.886484",
     "exception": false,
     "start_time": "2022-03-26T19:15:32.716780",
     "status": "completed"
    },
    "tags": []
   },
   "outputs": [
    {
     "data": {
      "text/plain": [
       "<AxesSubplot:title={'center':'Per Domain Validation Accuracy'}, xlabel='domain'>"
      ]
     },
     "execution_count": 27,
     "metadata": {},
     "output_type": "execute_result"
    },
    {
     "data": {
      "image/png": "[encoded data removed]",
      "text/plain": [
       "<Figure size 1080x504 with 1 Axes>"
      ]
     },
     "metadata": {
      "needs_background": "light"
     },
     "output_type": "display_data"
    }
   ],
   "source": [
    "get_domain_accuracies(experiment)"
   ]
  },
  {
   "cell_type": "code",
   "execution_count": 28,
   "id": "a74ae082",
   "metadata": {
    "execution": {
     "iopub.execute_input": "2022-03-26T19:15:32.949722Z",
     "iopub.status.busy": "2022-03-26T19:15:32.949388Z",
     "iopub.status.idle": "2022-03-26T19:15:32.964831Z",
     "shell.execute_reply": "2022-03-26T19:15:32.964571Z"
    },
    "papermill": {
     "duration": 0.047568,
     "end_time": "2022-03-26T19:15:32.964886",
     "exception": false,
     "start_time": "2022-03-26T19:15:32.917318",
     "status": "completed"
    },
    "tags": []
   },
   "outputs": [
    {
     "name": "stdout",
     "output_type": "stream",
     "text": [
      "Source Test Label Accuracy: 0.9959315375982043 Target Test Label Accuracy: 0.31865234375\n",
      "Source Val Label Accuracy: 0.9963256278538812 Target Val Label Accuracy: 0.31539713541666664\n"
     ]
    }
   ],
   "source": [
    "print(\"Source Test Label Accuracy:\", experiment[\"results\"][\"source_test_label_accuracy\"], \"Target Test Label Accuracy:\", experiment[\"results\"][\"target_test_label_accuracy\"])\n",
    "print(\"Source Val Label Accuracy:\", experiment[\"results\"][\"source_val_label_accuracy\"], \"Target Val Label Accuracy:\", experiment[\"results\"][\"target_val_label_accuracy\"])"
   ]
  },
  {
   "cell_type": "code",
   "execution_count": 29,
   "id": "dacca602",
   "metadata": {
    "execution": {
     "iopub.execute_input": "2022-03-26T19:15:33.029853Z",
     "iopub.status.busy": "2022-03-26T19:15:33.029050Z",
     "iopub.status.idle": "2022-03-26T19:15:33.048028Z",
     "shell.execute_reply": "2022-03-26T19:15:33.048405Z"
    },
    "papermill": {
     "duration": 0.052546,
     "end_time": "2022-03-26T19:15:33.048522",
     "exception": false,
     "start_time": "2022-03-26T19:15:32.995976",
     "status": "completed"
    },
    "tags": [
     "experiment_json"
    ]
   },
   "outputs": [
    {
     "data": {
      "text/plain": [
       "'{\"experiment_name\": \"tl_3-jitter1v2:cores -> oracle.run1.framed\", \"parameters\": {\"experiment_name\": \"tl_3-jitter1v2:cores -> oracle.run1.framed\", \"device\": \"cuda\", \"lr\": 0.0001, \"x_shape\": [2, 256], \"n_shot\": 3, \"n_query\": 2, \"train_k_factor\": 3, \"val_k_factor\": 2, \"test_k_factor\": 2, \"torch_default_dtype\": \"torch.float32\", \"n_epoch\": 50, \"patience\": 3, \"criteria_for_best\": \"target_accuracy\", \"x_net\": [{\"class\": \"nnReshape\", \"kargs\": {\"shape\": [-1, 1, 2, 256]}}, {\"class\": \"Conv2d\", \"kargs\": {\"in_channels\": 1, \"out_channels\": 256, \"kernel_size\": [1, 7], \"bias\": false, \"padding\": [0, 3]}}, {\"class\": \"ReLU\", \"kargs\": {\"inplace\": true}}, {\"class\": \"BatchNorm2d\", \"kargs\": {\"num_features\": 256}}, {\"class\": \"Conv2d\", \"kargs\": {\"in_channels\": 256, \"out_channels\": 80, \"kernel_size\": [2, 7], \"bias\": true, \"padding\": [0, 3]}}, {\"class\": \"ReLU\", \"kargs\": {\"inplace\": true}}, {\"class\": \"BatchNorm2d\", \"kargs\": {\"num_features\": 80}}, {\"class\": \"Flatten\", \"kargs\": {}}, {\"class\": \"Linear\", \"kargs\": {\"in_features\": 20480, \"out_features\": 256}}, {\"class\": \"ReLU\", \"kargs\": {\"inplace\": true}}, {\"class\": \"BatchNorm1d\", \"kargs\": {\"num_features\": 256}}, {\"class\": \"Linear\", \"kargs\": {\"in_features\": 256, \"out_features\": 256}}], \"NUM_LOGS_PER_EPOCH\": 10, \"BEST_MODEL_PATH\": \"./best_model.pth\", \"n_way\": 16, \"datasets\": [{\"labels\": [\"1-10.\", \"1-11.\", \"1-15.\", \"1-16.\", \"1-17.\", \"1-18.\", \"1-19.\", \"10-4.\", \"10-7.\", \"11-1.\", \"11-14.\", \"11-17.\", \"11-20.\", \"11-7.\", \"13-20.\", \"13-8.\", \"14-10.\", \"14-11.\", \"14-14.\", \"14-7.\", \"15-1.\", \"15-20.\", \"16-1.\", \"16-16.\", \"17-10.\", \"17-11.\", \"17-2.\", \"19-1.\", \"19-16.\", \"19-19.\", \"19-20.\", \"19-3.\", \"2-10.\", \"2-11.\", \"2-17.\", \"2-18.\", \"2-20.\", \"2-3.\", \"2-4.\", \"2-5.\", \"2-6.\", \"2-7.\", \"2-8.\", \"3-13.\", \"3-18.\", \"3-3.\", \"4-1.\", \"4-10.\", \"4-11.\", \"4-19.\", \"5-5.\", \"6-15.\", \"7-10.\", \"7-14.\", \"8-18.\", \"8-20.\", \"8-3.\", \"8-8.\"], \"domains\": [1, 2, 3, 4, 5], \"num_examples_per_domain_per_label\": -1, \"pickle_path\": \"/mnt/wd500GB/CSC500/csc500-main/datasets/cores.stratified_ds.2022A.pkl\", \"source_or_target_dataset\": \"source\", \"x_transforms\": [\"unit_mag\", \"jitter_256_1\", \"lowpass_+/-10MHz\", \"take_200\"], \"episode_transforms\": [], \"domain_prefix\": \"C_\"}, {\"labels\": [\"3123D52\", \"3123D65\", \"3123D79\", \"3123D80\", \"3123D54\", \"3123D70\", \"3123D7B\", \"3123D89\", \"3123D58\", \"3123D76\", \"3123D7D\", \"3123EFE\", \"3123D64\", \"3123D78\", \"3123D7E\", \"3124E4A\"], \"domains\": [32, 38, 8, 44, 14, 50, 20, 26], \"num_examples_per_domain_per_label\": 2000, \"pickle_path\": \"/mnt/wd500GB/CSC500/csc500-main/datasets/oracle.Run1_framed_2000Examples_stratified_ds.2022A.pkl\", \"source_or_target_dataset\": \"target\", \"x_transforms\": [\"unit_mag\", \"jitter_256_1\", \"take_200\", \"resample_20Msps_to_25Msps\"], \"episode_transforms\": [], \"domain_prefix\": \"O_\"}], \"seed\": 1337, \"dataset_seed\": 1337, \"domains_source\": [\"C_1\", \"C_2\", \"C_3\", \"C_4\", \"C_5\"], \"domains_target\": [\"O_32\", \"O_38\", \"O_8\", \"O_44\", \"O_14\", \"O_50\", \"O_20\", \"O_26\"]}, \"results\": {\"source_test_label_accuracy\": 0.9959315375982043, \"source_test_label_loss\": 0.0797276571393013, \"target_test_label_accuracy\": 0.31865234375, \"target_test_label_loss\": 1.945377230644226, \"source_val_label_accuracy\": 0.9963256278538812, \"source_val_label_loss\": 0.023624464869499207, \"target_val_label_accuracy\": 0.31539713541666664, \"target_val_label_loss\": 1.9609225988388062, \"total_epochs_trained\": 5, \"total_experiment_time_secs\": 1682.6781647205353, \"confusion\": {\"C_3\": {\"43\": {\"43\": 128}, \"9\": {\"9\": 150}, \"6\": {\"6\": 87, \"38\": 1}, \"3\": {\"3\": 144}, \"16\": {\"16\": 134}, \"51\": {\"51\": 128}, \"31\": {\"31\": 28}, \"46\": {\"46\": 134}, \"19\": {\"19\": 124}, \"8\": {\"8\": 152}, \"18\": {\"18\": 84}, \"37\": {\"37\": 28}, \"24\": {\"24\": 104}, \"10\": {\"10\": 64}, \"44\": {\"44\": 88}, \"14\": {\"14\": 40}, \"38\": {\"38\": 28}, \"53\": {\"53\": 140}, \"20\": {\"20\": 132}, \"32\": {\"32\": 28}, \"36\": {\"36\": 100}, \"33\": {\"33\": 28}, \"56\": {\"56\": 136}, \"23\": {\"23\": 130}, \"54\": {\"54\": 100}, \"21\": {\"21\": 126}, \"28\": {\"28\": 28}, \"26\": {\"26\": 24}, \"48\": {\"48\": 116}, \"52\": {\"52\": 118}, \"39\": {\"39\": 16}, \"22\": {\"22\": 139, \"56\": 1}, \"13\": {\"13\": 128}, \"2\": {\"2\": 32}, \"34\": {\"34\": 32}, \"27\": {\"27\": 132}, \"45\": {\"45\": 56, \"17\": 3, \"2\": 1}, \"35\": {\"35\": 28}, \"29\": {\"29\": 128}, \"25\": {\"25\": 144}, \"0\": {\"0\": 124}, \"41\": {\"41\": 28}, \"11\": {\"11\": 142}, \"5\": {\"5\": 108}, \"1\": {\"1\": 100}, \"57\": {\"57\": 115, \"0\": 1}, \"17\": {\"17\": 106, \"10\": 1, \"24\": 1}, \"7\": {\"7\": 36}, \"12\": {\"12\": 92}, \"47\": {\"47\": 92}, \"40\": {\"40\": 136}, \"15\": {\"15\": 142}, \"42\": {\"42\": 28}, \"55\": {\"55\": 150}, \"49\": {\"49\": 20}, \"30\": {\"30\": 119, \"18\": 1}, \"50\": {\"50\": 134}, \"4\": {\"4\": 136}}, \"C_4\": {\"35\": {\"35\": 40}, \"25\": {\"25\": 134}, \"24\": {\"24\": 55, \"13\": 1}, \"48\": {\"48\": 138}, \"51\": {\"51\": 144}, \"13\": {\"13\": 116, \"24\": 2, \"10\": 2}, \"14\": {\"14\": 14, \"0\": 2}, \"32\": {\"32\": 24}, \"30\": {\"30\": 44}, \"34\": {\"34\": 24}, \"9\": {\"9\": 136}, \"1\": {\"1\": 40}, \"0\": {\"0\": 80}, \"38\": {\"38\": 40}, \"22\": {\"22\": 128}, \"40\": {\"40\": 120}, \"6\": {\"6\": 105, \"15\": 1, \"18\": 1, \"3\": 3, \"51\": 1, \"52\": 1}, \"16\": {\"16\": 96}, \"11\": {\"11\": 104}, \"20\": {\"20\": 121, \"3\": 1}, \"17\": {\"17\": 80}, \"26\": {\"26\": 24}, \"54\": {\"54\": 107, \"29\": 1}, \"55\": {\"55\": 154}, \"50\": {\"50\": 130, \"55\": 1, \"20\": 1}, \"19\": {\"19\": 141, \"44\": 1}, \"44\": {\"44\": 122}, \"47\": {\"47\": 120}, \"33\": {\"33\": 36}, \"5\": {\"5\": 108}, \"18\": {\"18\": 108}, \"21\": {\"21\": 124}, \"41\": {\"41\": 36}, \"23\": {\"23\": 128}, \"39\": {\"39\": 20}, \"37\": {\"37\": 24}, \"8\": {\"8\": 144}, \"49\": {\"49\": 20}, \"53\": {\"53\": 140}, \"31\": {\"31\": 28}, \"28\": {\"28\": 32}, \"3\": {\"3\": 123, \"20\": 1}, \"27\": {\"27\": 138}, \"46\": {\"46\": 125, \"5\": 1, \"0\": 1, \"47\": 1}, \"12\": {\"12\": 88, \"6\": 1, \"50\": 1, \"21\": 2}, \"7\": {\"7\": 24}, \"4\": {\"4\": 132}, \"42\": {\"42\": 32}, \"43\": {\"43\": 129, \"38\": 1}, \"29\": {\"29\": 120}, \"57\": {\"57\": 100}, \"52\": {\"52\": 104}, \"45\": {\"45\": 96}, \"36\": {\"36\": 92}, \"10\": {\"10\": 126}, \"15\": {\"15\": 133, \"11\": 1}, \"56\": {\"56\": 124}, \"2\": {\"2\": 36}}, \"C_5\": {\"47\": {\"47\": 100}, \"53\": {\"53\": 150}, \"29\": {\"29\": 126}, \"52\": {\"52\": 130}, \"55\": {\"55\": 144}, \"17\": {\"17\": 116}, \"42\": {\"42\": 40}, \"33\": {\"33\": 32}, \"11\": {\"11\": 145, \"15\": 3}, \"19\": {\"19\": 118}, \"1\": {\"1\": 144}, \"44\": {\"44\": 142}, \"49\": {\"49\": 36}, \"4\": {\"4\": 100}, \"6\": {\"6\": 115, \"53\": 1}, \"39\": {\"39\": 20}, \"50\": {\"50\": 146, \"25\": 2}, \"56\": {\"56\": 130}, \"25\": {\"25\": 144}, \"28\": {\"28\": 32}, \"35\": {\"35\": 36}, \"24\": {\"24\": 78, \"43\": 2}, \"21\": {\"21\": 132}, \"45\": {\"45\": 116, \"9\": 3, \"4\": 4, \"55\": 1}, \"16\": {\"16\": 143, \"21\": 1}, \"37\": {\"37\": 24}, \"57\": {\"57\": 132}, \"34\": {\"34\": 36}, \"38\": {\"38\": 32}, \"48\": {\"48\": 129, \"1\": 1}, \"26\": {\"26\": 24}, \"9\": {\"9\": 152}, \"18\": {\"18\": 64}, \"3\": {\"3\": 100}, \"23\": {\"23\": 124}, \"15\": {\"15\": 153, \"11\": 1}, \"10\": {\"10\": 68}, \"46\": {\"46\": 148}, \"22\": {\"22\": 28}, \"54\": {\"54\": 112}, \"27\": {\"27\": 160}, \"41\": {\"41\": 28}, \"31\": {\"31\": 36}, \"0\": {\"0\": 124}, \"7\": {\"7\": 30, \"53\": 2}, \"2\": {\"2\": 28}, \"14\": {\"14\": 41, \"46\": 2, \"57\": 1}, \"40\": {\"40\": 124}, \"5\": {\"5\": 128}, \"12\": {\"12\": 96}, \"43\": {\"43\": 142}, \"13\": {\"13\": 147, \"24\": 1}, \"36\": {\"36\": 92}, \"8\": {\"8\": 150}, \"32\": {\"32\": 31, \"27\": 1}, \"30\": {\"30\": 128}, \"51\": {\"51\": 138}, \"20\": {\"20\": 137, \"51\": 1}}, \"C_1\": {\"46\": {\"46\": 140}, \"16\": {\"16\": 134}, \"26\": {\"26\": 24}, \"10\": {\"10\": 96}, \"9\": {\"9\": 156}, \"28\": {\"28\": 28}, \"51\": {\"51\": 156}, \"1\": {\"1\": 99, \"57\": 1}, \"55\": {\"55\": 148}, \"27\": {\"27\": 124}, \"22\": {\"22\": 122, \"24\": 2}, \"52\": {\"52\": 126}, \"3\": {\"3\": 140}, \"33\": {\"33\": 32}, \"47\": {\"47\": 120}, \"42\": {\"42\": 40}, \"12\": {\"12\": 116}, \"23\": {\"23\": 132}, \"49\": {\"49\": 32}, \"7\": {\"7\": 28}, \"4\": {\"4\": 132}, \"50\": {\"50\": 134}, \"19\": {\"19\": 152, \"1\": 2}, \"11\": {\"11\": 140}, \"31\": {\"31\": 28}, \"41\": {\"41\": 24}, \"56\": {\"56\": 137, \"29\": 1}, \"0\": {\"0\": 148}, \"57\": {\"57\": 128}, \"53\": {\"53\": 140}, \"43\": {\"43\": 144}, \"37\": {\"37\": 32}, \"2\": {\"2\": 36}, \"6\": {\"6\": 96}, \"13\": {\"13\": 150}, \"18\": {\"18\": 72}, \"36\": {\"36\": 64}, \"29\": {\"29\": 139, \"56\": 1}, \"39\": {\"39\": 28}, \"17\": {\"17\": 64}, \"21\": {\"21\": 123, \"15\": 1}, \"25\": {\"25\": 132}, \"45\": {\"45\": 142}, \"38\": {\"38\": 24}, \"30\": {\"30\": 120}, \"24\": {\"24\": 98, \"22\": 7, \"21\": 2, \"11\": 1}, \"20\": {\"20\": 140}, \"8\": {\"8\": 140}, \"35\": {\"35\": 36}, \"54\": {\"54\": 104}, \"5\": {\"5\": 148}, \"48\": {\"48\": 143, \"17\": 1}, \"15\": {\"10\": 1, \"15\": 140, \"21\": 1}, \"34\": {\"34\": 24}, \"14\": {\"14\": 24}, \"32\": {\"32\": 32}, \"40\": {\"40\": 148}, \"44\": {\"44\": 136}}, \"C_2\": {\"36\": {\"36\": 116}, \"5\": {\"5\": 120}, \"45\": {\"45\": 120, \"17\": 8}, \"49\": {\"49\": 24}, \"50\": {\"50\": 136}, \"4\": {\"4\": 138}, \"43\": {\"43\": 148}, \"41\": {\"41\": 20}, \"37\": {\"37\": 36}, \"12\": {\"12\": 92}, \"33\": {\"33\": 28}, \"7\": {\"7\": 36}, \"56\": {\"56\": 140}, \"14\": {\"14\": 24}, \"52\": {\"52\": 124}, \"44\": {\"44\": 96}, \"48\": {\"48\": 144}, \"20\": {\"20\": 128}, \"55\": {\"55\": 144}, \"32\": {\"32\": 28}, \"40\": {\"40\": 136}, \"54\": {\"54\": 107, \"9\": 1}, \"17\": {\"17\": 104}, \"38\": {\"38\": 20}, \"24\": {\"24\": 96}, \"1\": {\"1\": 109, \"42\": 3}, \"6\": {\"6\": 124}, \"34\": {\"34\": 28}, \"11\": {\"11\": 135, \"10\": 1}, \"9\": {\"9\": 150}, \"8\": {\"8\": 152}, \"22\": {\"22\": 136}, \"26\": {\"26\": 24}, \"23\": {\"23\": 146}, \"10\": {\"10\": 112}, \"18\": {\"18\": 48}, \"13\": {\"13\": 115, \"24\": 1}, \"30\": {\"30\": 128}, \"42\": {\"42\": 36}, \"31\": {\"31\": 28}, \"46\": {\"46\": 128}, \"57\": {\"57\": 142}, \"47\": {\"47\": 138}, \"35\": {\"35\": 32}, \"15\": {\"15\": 132}, \"25\": {\"25\": 135, \"50\": 1}, \"19\": {\"19\": 135, \"9\": 1}, \"51\": {\"51\": 128}, \"53\": {\"53\": 134}, \"21\": {\"21\": 120}, \"39\": {\"39\": 28}, \"2\": {\"2\": 32}, \"16\": {\"16\": 150}, \"0\": {\"0\": 48}, \"3\": {\"3\": 92}, \"27\": {\"27\": 142}, \"28\": {\"28\": 28}, \"29\": {\"29\": 128}}, \"O_14\": {\"15\": {\"2\": 16, \"15\": 118, \"5\": 14, \"6\": 5, \"7\": 59, \"4\": 7, \"14\": 3, \"13\": 9, \"1\": 7, \"3\": 1, \"0\": 1}, \"3\": {\"2\": 22, \"14\": 16, \"4\": 37, \"5\": 17, \"8\": 6, \"1\": 30, \"0\": 28, \"11\": 9, \"6\": 14, \"10\": 7, \"3\": 46, \"7\": 1, \"9\": 4, \"13\": 3}, \"6\": {\"6\": 61, \"14\": 36, \"13\": 69, \"15\": 4, \"3\": 9, \"10\": 5, \"2\": 26, \"7\": 1, \"5\": 6, \"11\": 4, \"4\": 14, \"0\": 3, \"1\": 2}, \"1\": {\"2\": 14, \"7\": 29, \"3\": 11, \"0\": 3, \"4\": 30, \"8\": 18, \"1\": 83, \"5\": 38, \"15\": 10, \"14\": 2, \"10\": 2}, \"8\": {\"9\": 16, \"8\": 146, \"4\": 12, \"3\": 6, \"1\": 41, \"0\": 5, \"11\": 3, \"5\": 6, \"7\": 2, \"12\": 2, \"10\": 1}, \"10\": {\"10\": 79, \"11\": 42, \"3\": 23, \"0\": 36, \"6\": 7, \"2\": 12, \"4\": 12, \"9\": 7, \"14\": 15, \"13\": 3, \"5\": 3, \"12\": 1}, \"9\": {\"9\": 118, \"8\": 10, \"10\": 10, \"11\": 25, \"12\": 51, \"0\": 19, \"4\": 2, \"3\": 4, \"1\": 1}, \"13\": {\"14\": 36, \"4\": 9, \"5\": 9, \"3\": 6, \"15\": 4, \"13\": 56, \"10\": 10, \"6\": 67, \"2\": 23, \"7\": 2, \"0\": 7, \"11\": 10, \"1\": 1}, \"12\": {\"12\": 159, \"9\": 66, \"0\": 3, \"11\": 7, \"10\": 3, \"8\": 2}, \"5\": {\"8\": 6, \"15\": 14, \"5\": 41, \"7\": 24, \"3\": 21, \"14\": 9, \"4\": 45, \"1\": 38, \"2\": 29, \"6\": 4, \"13\": 5, \"0\": 3, \"9\": 1}, \"0\": {\"11\": 45, \"2\": 14, \"0\": 56, \"9\": 15, \"8\": 10, \"4\": 15, \"14\": 9, \"10\": 38, \"3\": 25, \"5\": 4, \"1\": 4, \"12\": 1, \"6\": 2, \"13\": 2}, \"2\": {\"14\": 32, \"4\": 30, \"3\": 20, \"0\": 10, \"5\": 11, \"13\": 14, \"6\": 40, \"1\": 12, \"2\": 49, \"7\": 6, \"15\": 9, \"11\": 3, \"10\": 3, \"8\": 1}, \"11\": {\"11\": 105, \"12\": 13, \"10\": 30, \"0\": 37, \"2\": 1, \"9\": 34, \"4\": 2, \"14\": 8, \"13\": 4, \"3\": 4, \"5\": 1, \"6\": 1}, \"14\": {\"3\": 22, \"6\": 52, \"14\": 43, \"2\": 25, \"0\": 10, \"13\": 35, \"1\": 4, \"11\": 12, \"4\": 15, \"10\": 13, \"5\": 7, \"9\": 1, \"15\": 1}, \"7\": {\"15\": 58, \"2\": 6, \"4\": 12, \"7\": 108, \"1\": 24, \"3\": 4, \"5\": 22, \"13\": 2, \"14\": 1, \"8\": 2, \"6\": 1}, \"4\": {\"10\": 5, \"1\": 27, \"3\": 38, \"2\": 22, \"14\": 13, \"4\": 52, \"13\": 8, \"11\": 3, \"0\": 14, \"5\": 30, \"6\": 11, \"15\": 9, \"7\": 4, \"8\": 4}}, \"O_20\": {\"3\": {\"8\": 11, \"4\": 21, \"12\": 13, \"2\": 19, \"3\": 16, \"13\": 14, \"7\": 21, \"5\": 14, \"14\": 6, \"1\": 21, \"10\": 14, \"9\": 24, \"15\": 15, \"0\": 18, \"11\": 3, \"6\": 10}, \"15\": {\"12\": 26, \"10\": 4, \"2\": 15, \"5\": 26, \"15\": 33, \"7\": 13, \"9\": 19, \"1\": 28, \"0\": 18, \"13\": 27, \"8\": 5, \"3\": 16, \"4\": 6, \"11\": 3, \"14\": 1}, \"8\": {\"4\": 20, \"8\": 26, \"7\": 23, \"3\": 14, \"2\": 11, \"0\": 19, \"14\": 29, \"6\": 30, \"5\": 9, \"9\": 11, \"10\": 21, \"11\": 4, \"12\": 13, \"15\": 3, \"1\": 5, \"13\": 2}, \"4\": {\"1\": 8, \"13\": 4, \"4\": 33, \"15\": 7, \"0\": 25, \"6\": 12, \"10\": 27, \"12\": 13, \"8\": 31, \"11\": 1, \"2\": 9, \"9\": 11, \"14\": 20, \"7\": 12, \"3\": 14, \"5\": 13}, \"14\": {\"4\": 25, \"14\": 53, \"10\": 47, \"6\": 44, \"8\": 31, \"5\": 5, \"9\": 2, \"3\": 5, \"0\": 4, \"2\": 4, \"1\": 1, \"11\": 4, \"13\": 1, \"7\": 14}, \"0\": {\"4\": 18, \"0\": 24, \"10\": 9, \"6\": 6, \"3\": 20, \"13\": 13, \"15\": 24, \"5\": 29, \"7\": 14, \"1\": 22, \"12\": 14, \"8\": 20, \"9\": 17, \"2\": 5, \"14\": 1, \"11\": 4}, \"7\": {\"7\": 22, \"12\": 16, \"10\": 16, \"14\": 16, \"3\": 11, \"9\": 18, \"13\": 10, \"0\": 11, \"8\": 18, \"1\": 11, \"15\": 14, \"11\": 16, \"4\": 13, \"5\": 8, \"6\": 17, \"2\": 23}, \"6\": {\"7\": 21, \"11\": 23, \"8\": 38, \"14\": 40, \"6\": 47, \"10\": 21, \"4\": 8, \"1\": 2, \"0\": 5, \"13\": 5, \"5\": 6, \"12\": 4, \"3\": 9, \"9\": 4, \"2\": 7}, \"10\": {\"2\": 6, \"4\": 40, \"8\": 26, \"10\": 50, \"14\": 26, \"6\": 18, \"3\": 16, \"13\": 2, \"0\": 8, \"12\": 12, \"9\": 12, \"1\": 6, \"5\": 5, \"7\": 7, \"11\": 3, \"15\": 3}, \"5\": {\"7\": 13, \"15\": 22, \"5\": 30, \"9\": 18, \"8\": 16, \"13\": 13, \"0\": 34, \"1\": 25, \"3\": 22, \"12\": 11, \"2\": 10, \"10\": 6, \"4\": 12, \"6\": 2, \"11\": 3, \"14\": 3}, \"2\": {\"2\": 25, \"12\": 19, \"0\": 13, \"15\": 16, \"13\": 27, \"3\": 12, \"1\": 26, \"11\": 10, \"10\": 9, \"7\": 17, \"9\": 21, \"6\": 6, \"5\": 18, \"4\": 4, \"8\": 16, \"14\": 1}, \"12\": {\"3\": 19, \"12\": 26, \"8\": 10, \"9\": 13, \"0\": 20, \"5\": 25, \"2\": 23, \"1\": 29, \"11\": 3, \"7\": 12, \"15\": 19, \"10\": 9, \"4\": 12, \"6\": 1, \"13\": 14, \"14\": 5}, \"9\": {\"13\": 21, \"10\": 8, \"1\": 19, \"7\": 18, \"3\": 24, \"11\": 7, \"2\": 33, \"15\": 16, \"5\": 16, \"12\": 17, \"4\": 7, \"8\": 11, \"14\": 4, \"9\": 22, \"6\": 6, \"0\": 11}, \"1\": {\"12\": 18, \"2\": 29, \"1\": 32, \"15\": 34, \"9\": 19, \"0\": 21, \"7\": 10, \"13\": 14, \"5\": 21, \"3\": 20, \"8\": 4, \"10\": 5, \"4\": 9, \"14\": 1, \"11\": 2, \"6\": 1}, \"11\": {\"9\": 7, \"13\": 20, \"7\": 19, \"3\": 3, \"11\": 138, \"0\": 1, \"14\": 3, \"6\": 23, \"2\": 15, \"15\": 4, \"8\": 3, \"1\": 3, \"10\": 1}, \"13\": {\"3\": 13, \"13\": 63, \"1\": 18, \"2\": 30, \"8\": 3, \"11\": 17, \"15\": 22, \"7\": 19, \"6\": 3, \"9\": 16, \"5\": 12, \"12\": 9, \"0\": 12, \"10\": 2, \"4\": 1}}, \"O_38\": {\"5\": {\"7\": 33, \"1\": 18, \"15\": 17, \"5\": 43, \"0\": 32, \"8\": 35, \"9\": 16, \"13\": 12, \"6\": 19, \"10\": 10, \"3\": 4, \"14\": 1}, \"8\": {\"13\": 15, \"10\": 25, \"7\": 27, \"8\": 49, \"5\": 35, \"15\": 26, \"1\": 7, \"0\": 35, \"6\": 3, \"2\": 4, \"12\": 2, \"14\": 2, \"3\": 4, \"9\": 4, \"4\": 2}, \"11\": {\"12\": 13, \"14\": 89, \"11\": 91, \"10\": 14, \"2\": 25, \"13\": 4, \"15\": 1, \"4\": 3}, \"1\": {\"1\": 128, \"13\": 21, \"15\": 41, \"3\": 1, \"8\": 10, \"6\": 21, \"5\": 13, \"0\": 1, \"2\": 1, \"9\": 3}, \"10\": {\"14\": 24, \"1\": 5, \"7\": 11, \"8\": 22, \"10\": 78, \"4\": 6, \"13\": 29, \"2\": 12, \"15\": 19, \"0\": 13, \"11\": 10, \"5\": 8, \"12\": 3}, \"15\": {\"10\": 21, \"0\": 6, \"1\": 31, \"2\": 16, \"8\": 20, \"5\": 16, \"15\": 69, \"13\": 49, \"14\": 1, \"7\": 7, \"6\": 2, \"9\": 2}, \"3\": {\"3\": 143, \"8\": 2, \"0\": 21, \"6\": 18, \"9\": 28, \"5\": 10, \"7\": 17, \"15\": 1}, \"7\": {\"8\": 31, \"10\": 12, \"7\": 75, \"5\": 26, \"0\": 60, \"9\": 9, \"3\": 10, \"6\": 3, \"12\": 5, \"13\": 1, \"15\": 5, \"4\": 3}, \"4\": {\"4\": 162, \"12\": 65, \"8\": 2, \"10\": 5, \"7\": 2, \"0\": 2, \"11\": 1, \"14\": 1}, \"14\": {\"11\": 60, \"14\": 104, \"10\": 29, \"2\": 33, \"12\": 6, \"13\": 4, \"8\": 3, \"15\": 1}, \"9\": {\"9\": 98, \"6\": 72, \"5\": 18, \"7\": 8, \"1\": 8, \"3\": 24, \"0\": 3, \"15\": 1, \"13\": 3, \"8\": 5}, \"12\": {\"12\": 146, \"4\": 59, \"14\": 13, \"10\": 11, \"7\": 4, \"0\": 4, \"11\": 3}, \"6\": {\"6\": 103, \"1\": 18, \"5\": 19, \"9\": 70, \"3\": 7, \"0\": 4, \"15\": 2, \"8\": 12, \"13\": 2, \"7\": 3}, \"2\": {\"14\": 33, \"15\": 18, \"2\": 105, \"13\": 37, \"11\": 17, \"10\": 23, \"8\": 2, \"0\": 1, \"1\": 3, \"5\": 1}, \"0\": {\"7\": 55, \"8\": 43, \"10\": 9, \"0\": 46, \"5\": 27, \"1\": 4, \"3\": 18, \"4\": 3, \"13\": 5, \"9\": 8, \"12\": 6, \"15\": 8, \"11\": 1, \"6\": 6, \"2\": 1}, \"13\": {\"2\": 35, \"13\": 59, \"1\": 25, \"8\": 14, \"15\": 43, \"10\": 34, \"14\": 7, \"7\": 5, \"5\": 16, \"0\": 1, \"11\": 1}}, \"O_8\": {\"9\": {\"9\": 223, \"0\": 2, \"10\": 4, \"5\": 7, \"13\": 2, \"1\": 1, \"4\": 1}, \"10\": {\"5\": 38, \"14\": 17, \"6\": 18, \"4\": 20, \"1\": 21, \"0\": 27, \"10\": 36, \"11\": 12, \"7\": 14, \"13\": 28, \"8\": 4, \"2\": 2, \"12\": 1, \"15\": 2}, \"13\": {\"13\": 30, \"4\": 32, \"0\": 31, \"6\": 27, \"7\": 24, \"15\": 4, \"5\": 16, \"3\": 3, \"8\": 1, \"10\": 28, \"1\": 7, \"14\": 28, \"11\": 5, \"2\": 4}, \"0\": {\"0\": 51, \"7\": 30, \"6\": 32, \"10\": 15, \"14\": 22, \"13\": 33, \"5\": 11, \"2\": 8, \"4\": 23, \"15\": 3, \"3\": 6, \"11\": 1, \"1\": 3, \"8\": 2}, \"1\": {\"11\": 69, \"10\": 15, \"1\": 51, \"5\": 30, \"6\": 7, \"8\": 18, \"4\": 8, \"0\": 4, \"13\": 6, \"14\": 19, \"12\": 1, \"15\": 5, \"7\": 6, \"2\": 1}, \"15\": {\"3\": 37, \"12\": 40, \"6\": 14, \"15\": 49, \"7\": 16, \"8\": 43, \"2\": 16, \"10\": 2, \"13\": 5, \"11\": 5, \"4\": 3, \"14\": 3, \"1\": 3, \"0\": 4}, \"5\": {\"4\": 15, \"5\": 70, \"1\": 31, \"10\": 34, \"13\": 18, \"14\": 24, \"0\": 5, \"12\": 1, \"11\": 26, \"9\": 5, \"6\": 5, \"8\": 2, \"7\": 4}, \"3\": {\"13\": 3, \"6\": 11, \"12\": 30, \"2\": 53, \"3\": 77, \"7\": 10, \"15\": 43, \"8\": 10, \"0\": 2, \"10\": 1}, \"6\": {\"6\": 25, \"0\": 27, \"11\": 9, \"13\": 27, \"4\": 23, \"7\": 28, \"3\": 8, \"2\": 11, \"1\": 17, \"10\": 13, \"14\": 26, \"12\": 2, \"15\": 13, \"8\": 9, \"5\": 2}, \"11\": {\"11\": 80, \"5\": 12, \"1\": 56, \"12\": 3, \"15\": 6, \"8\": 32, \"14\": 20, \"6\": 8, \"4\": 8, \"0\": 3, \"10\": 6, \"13\": 4, \"7\": 2}, \"8\": {\"8\": 48, \"7\": 17, \"15\": 42, \"11\": 24, \"3\": 10, \"13\": 8, \"12\": 14, \"2\": 7, \"14\": 11, \"4\": 12, \"5\": 2, \"6\": 16, \"0\": 6, \"1\": 20, \"10\": 3}, \"4\": {\"4\": 27, \"10\": 23, \"0\": 31, \"7\": 24, \"14\": 26, \"13\": 31, \"11\": 10, \"6\": 31, \"5\": 12, \"3\": 2, \"8\": 4, \"1\": 10, \"12\": 1, \"15\": 5, \"2\": 3}, \"12\": {\"12\": 60, \"15\": 54, \"8\": 27, \"3\": 44, \"2\": 26, \"4\": 2, \"0\": 3, \"1\": 3, \"7\": 6, \"6\": 9, \"14\": 1, \"11\": 5}, \"14\": {\"7\": 13, \"1\": 31, \"11\": 16, \"14\": 28, \"10\": 28, \"0\": 22, \"6\": 19, \"4\": 22, \"13\": 18, \"5\": 15, \"12\": 2, \"8\": 14, \"15\": 8, \"2\": 3, \"3\": 1}, \"2\": {\"3\": 70, \"13\": 5, \"6\": 14, \"12\": 28, \"2\": 60, \"15\": 25, \"8\": 5, \"7\": 14, \"0\": 7, \"4\": 4, \"10\": 2, \"14\": 5, \"11\": 1}, \"7\": {\"4\": 23, \"14\": 16, \"1\": 5, \"10\": 11, \"0\": 30, \"7\": 38, \"6\": 28, \"3\": 11, \"13\": 17, \"12\": 9, \"11\": 3, \"8\": 16, \"2\": 20, \"15\": 13}}, \"O_50\": {\"7\": {\"5\": 45, \"10\": 32, \"7\": 66, \"1\": 4, \"4\": 9, \"0\": 7, \"8\": 11, \"6\": 19, \"13\": 40, \"15\": 2, \"3\": 5}, \"3\": {\"3\": 175, \"8\": 51, \"10\": 7, \"13\": 1, \"7\": 5, \"5\": 1}, \"8\": {\"8\": 126, \"3\": 35, \"10\": 45, \"0\": 19, \"5\": 3, \"7\": 9, \"2\": 1, \"13\": 2}, \"2\": {\"2\": 142, \"6\": 3, \"5\": 5, \"0\": 56, \"13\": 3, \"12\": 2, \"10\": 6, \"14\": 12, \"4\": 1, \"1\": 5, \"8\": 2, \"7\": 1, \"15\": 1, \"9\": 1}, \"14\": {\"11\": 21, \"14\": 108, \"9\": 26, \"2\": 19, \"12\": 40, \"1\": 11, \"0\": 4, \"4\": 1, \"15\": 7, \"6\": 3}, \"4\": {\"15\": 25, \"1\": 51, \"4\": 43, \"9\": 2, \"5\": 30, \"7\": 17, \"6\": 26, \"11\": 12, \"0\": 5, \"13\": 19, \"14\": 2, \"10\": 5, \"2\": 3}, \"6\": {\"4\": 38, \"15\": 26, \"6\": 46, \"14\": 1, \"7\": 18, \"11\": 7, \"13\": 30, \"1\": 32, \"2\": 7, \"10\": 8, \"5\": 11, \"0\": 14, \"9\": 2}, \"15\": {\"1\": 55, \"4\": 30, \"5\": 7, \"11\": 30, \"15\": 55, \"6\": 37, \"2\": 4, \"9\": 10, \"13\": 3, \"7\": 2, \"14\": 5, \"12\": 2}, \"10\": {\"5\": 22, \"7\": 23, \"10\": 64, \"0\": 38, \"8\": 42, \"13\": 26, \"3\": 8, \"2\": 9, \"4\": 2, \"6\": 3, \"1\": 3}, \"11\": {\"12\": 13, \"9\": 58, \"15\": 35, \"11\": 82, \"4\": 3, \"14\": 27, \"1\": 17, \"6\": 2, \"2\": 2, \"5\": 1}, \"13\": {\"5\": 52, \"4\": 17, \"6\": 19, \"10\": 24, \"7\": 39, \"1\": 12, \"0\": 9, \"13\": 57, \"15\": 10, \"8\": 1}, \"9\": {\"11\": 61, \"9\": 85, \"14\": 29, \"12\": 50, \"15\": 10, \"1\": 4, \"2\": 1}, \"0\": {\"10\": 40, \"0\": 83, \"2\": 67, \"8\": 5, \"13\": 9, \"1\": 6, \"7\": 6, \"14\": 4, \"11\": 1, \"6\": 5, \"5\": 9, \"4\": 2, \"15\": 2, \"12\": 1}, \"1\": {\"4\": 30, \"11\": 21, \"6\": 29, \"13\": 18, \"1\": 59, \"15\": 41, \"2\": 8, \"5\": 8, \"0\": 7, \"9\": 4, \"7\": 5, \"10\": 3, \"14\": 7}, \"12\": {\"12\": 127, \"9\": 49, \"14\": 50, \"11\": 10, \"1\": 1, \"15\": 2, \"2\": 1}, \"5\": {\"5\": 51, \"13\": 46, \"3\": 2, \"1\": 18, \"15\": 8, \"7\": 40, \"6\": 15, \"4\": 26, \"10\": 20, \"11\": 2, \"0\": 7, \"2\": 3, \"8\": 1, \"14\": 1}}, \"O_32\": {\"8\": {\"14\": 13, \"3\": 22, \"8\": 62, \"13\": 24, \"5\": 30, \"0\": 39, \"15\": 8, \"2\": 6, \"4\": 15, \"7\": 8, \"11\": 13}, \"14\": {\"11\": 59, \"13\": 17, \"2\": 19, \"3\": 8, \"5\": 15, \"14\": 53, \"7\": 29, \"4\": 19, \"0\": 17, \"8\": 4}, \"2\": {\"9\": 11, \"4\": 47, \"2\": 86, \"5\": 14, \"8\": 14, \"14\": 10, \"0\": 17, \"13\": 14, \"7\": 21, \"11\": 6}, \"0\": {\"13\": 15, \"0\": 66, \"4\": 28, \"14\": 19, \"2\": 29, \"7\": 12, \"8\": 37, \"11\": 10, \"3\": 4, \"5\": 18, \"9\": 2}, \"1\": {\"1\": 193, \"10\": 47}, \"10\": {\"10\": 192, \"6\": 8, \"1\": 37, \"12\": 3}, \"11\": {\"14\": 56, \"0\": 7, \"11\": 75, \"7\": 37, \"3\": 16, \"2\": 10, \"13\": 12, \"4\": 13, \"5\": 11, \"8\": 3}, \"5\": {\"0\": 26, \"5\": 35, \"4\": 20, \"7\": 23, \"11\": 18, \"13\": 30, \"14\": 20, \"3\": 32, \"2\": 12, \"8\": 23, \"15\": 1}, \"15\": {\"15\": 214, \"8\": 15, \"3\": 8, \"13\": 1, \"0\": 2}, \"3\": {\"3\": 103, \"13\": 21, \"11\": 26, \"8\": 23, \"5\": 38, \"14\": 13, \"15\": 2, \"7\": 5, \"4\": 8, \"2\": 1}, \"12\": {\"12\": 189, \"9\": 27, \"6\": 18, \"10\": 6}, \"7\": {\"14\": 40, \"4\": 30, \"2\": 35, \"13\": 29, \"7\": 22, \"11\": 28, \"8\": 8, \"5\": 28, \"0\": 14, \"3\": 6}, \"13\": {\"13\": 34, \"11\": 20, \"8\": 26, \"2\": 11, \"7\": 17, \"4\": 38, \"3\": 23, \"14\": 17, \"5\": 28, \"0\": 26}, \"6\": {\"6\": 216, \"12\": 7, \"10\": 16, \"1\": 1}, \"4\": {\"7\": 26, \"3\": 6, \"4\": 42, \"2\": 49, \"14\": 15, \"5\": 24, \"8\": 17, \"0\": 20, \"13\": 32, \"9\": 1, \"11\": 8}, \"9\": {\"9\": 191, \"12\": 34, \"2\": 11, \"0\": 4}}, \"O_26\": {\"4\": {\"8\": 18, \"4\": 33, \"1\": 31, \"7\": 22, \"14\": 24, \"3\": 11, \"0\": 20, \"9\": 18, \"2\": 12, \"10\": 20, \"13\": 5, \"6\": 10, \"15\": 9, \"5\": 5, \"12\": 2}, \"12\": {\"12\": 161, \"11\": 33, \"10\": 10, \"8\": 5, \"14\": 5, \"15\": 4, \"6\": 17, \"4\": 1, \"13\": 2, \"5\": 1, \"0\": 1}, \"10\": {\"14\": 35, \"2\": 4, \"9\": 17, \"15\": 11, \"1\": 21, \"5\": 9, \"4\": 20, \"3\": 8, \"8\": 28, \"6\": 14, \"10\": 21, \"0\": 25, \"7\": 14, \"13\": 4, \"12\": 9}, \"0\": {\"2\": 12, \"10\": 21, \"12\": 4, \"3\": 8, \"15\": 14, \"8\": 23, \"9\": 17, \"14\": 25, \"4\": 27, \"0\": 22, \"7\": 16, \"1\": 23, \"6\": 23, \"5\": 3, \"13\": 2}, \"13\": {\"13\": 73, \"2\": 16, \"7\": 7, \"9\": 13, \"5\": 44, \"4\": 2, \"15\": 34, \"6\": 15, \"10\": 4, \"3\": 12, \"14\": 2, \"8\": 8, \"11\": 4, \"12\": 4, \"1\": 1, \"0\": 1}, \"9\": {\"8\": 15, \"0\": 6, \"4\": 13, \"15\": 21, \"6\": 18, \"5\": 26, \"9\": 27, \"2\": 23, \"13\": 22, \"3\": 12, \"12\": 7, \"14\": 11, \"1\": 13, \"10\": 12, \"7\": 13, \"11\": 1}, \"3\": {\"14\": 13, \"7\": 30, \"1\": 12, \"3\": 43, \"2\": 35, \"15\": 14, \"9\": 19, \"0\": 5, \"4\": 17, \"8\": 11, \"5\": 16, \"13\": 10, \"10\": 13, \"6\": 2}, \"2\": {\"15\": 22, \"4\": 14, \"3\": 47, \"7\": 25, \"2\": 32, \"13\": 17, \"5\": 20, \"1\": 12, \"6\": 5, \"14\": 9, \"8\": 11, \"9\": 12, \"0\": 7, \"10\": 7}, \"5\": {\"1\": 7, \"15\": 24, \"2\": 38, \"6\": 10, \"13\": 39, \"5\": 45, \"9\": 20, \"4\": 5, \"8\": 9, \"3\": 16, \"10\": 6, \"7\": 15, \"14\": 2, \"0\": 4}, \"14\": {\"1\": 36, \"8\": 19, \"4\": 31, \"10\": 18, \"15\": 9, \"13\": 6, \"9\": 14, \"6\": 14, \"14\": 29, \"7\": 14, \"3\": 8, \"0\": 32, \"12\": 2, \"2\": 3, \"5\": 5}, \"8\": {\"6\": 23, \"0\": 22, \"3\": 8, \"8\": 33, \"4\": 11, \"7\": 24, \"2\": 16, \"10\": 19, \"14\": 14, \"1\": 13, \"9\": 16, \"12\": 4, \"5\": 9, \"13\": 11, \"15\": 17}, \"7\": {\"4\": 15, \"2\": 21, \"3\": 40, \"1\": 25, \"10\": 16, \"14\": 13, \"13\": 10, \"0\": 14, \"9\": 15, \"5\": 14, \"7\": 15, \"8\": 14, \"6\": 13, \"15\": 15}, \"6\": {\"6\": 31, \"14\": 17, \"13\": 31, \"8\": 13, \"15\": 30, \"1\": 6, \"9\": 17, \"0\": 9, \"5\": 23, \"10\": 22, \"4\": 11, \"7\": 9, \"12\": 14, \"11\": 1, \"2\": 5, \"3\": 1}, \"11\": {\"11\": 195, \"12\": 25, \"13\": 8, \"5\": 5, \"6\": 5, \"15\": 2}, \"15\": {\"15\": 39, \"6\": 19, \"9\": 22, \"7\": 13, \"0\": 10, \"13\": 40, \"3\": 7, \"5\": 22, \"10\": 12, \"8\": 15, \"2\": 23, \"4\": 9, \"14\": 5, \"1\": 2, \"12\": 2}, \"1\": {\"14\": 25, \"4\": 31, \"10\": 23, \"7\": 18, \"1\": 47, \"9\": 8, \"6\": 9, \"8\": 20, \"13\": 4, \"2\": 10, \"0\": 23, \"3\": 9, \"15\": 4, \"12\": 5, \"5\": 4}}, \"O_44\": {\"12\": {\"12\": 64, \"1\": 68, \"3\": 44, \"2\": 9, \"7\": 8, \"10\": 45, \"9\": 2}, \"7\": {\"7\": 54, \"2\": 54, \"1\": 17, \"13\": 16, \"9\": 49, \"4\": 2, \"6\": 22, \"3\": 13, \"10\": 8, \"14\": 2, \"12\": 2, \"15\": 1}, \"5\": {\"5\": 106, \"15\": 24, \"8\": 30, \"4\": 17, \"14\": 26, \"0\": 36, \"13\": 1}, \"15\": {\"15\": 78, \"0\": 55, \"8\": 35, \"5\": 24, \"4\": 17, \"14\": 30, \"9\": 1}, \"8\": {\"15\": 30, \"8\": 97, \"0\": 76, \"14\": 2, \"5\": 30, \"4\": 5}, \"2\": {\"2\": 61, \"1\": 30, \"13\": 2, \"7\": 40, \"10\": 32, \"9\": 33, \"12\": 18, \"6\": 18, \"3\": 6}, \"13\": {\"13\": 71, \"6\": 55, \"4\": 14, \"9\": 36, \"11\": 34, \"7\": 19, \"2\": 4, \"14\": 7}, \"4\": {\"13\": 6, \"14\": 76, \"5\": 23, \"4\": 101, \"9\": 7, \"15\": 17, \"11\": 3, \"7\": 3, \"0\": 4}, \"0\": {\"4\": 8, \"0\": 63, \"15\": 43, \"14\": 14, \"8\": 71, \"5\": 41}, \"6\": {\"6\": 96, \"9\": 41, \"13\": 51, \"7\": 15, \"11\": 19, \"1\": 1, \"2\": 15, \"14\": 1, \"10\": 1}, \"9\": {\"9\": 49, \"7\": 39, \"13\": 44, \"6\": 43, \"2\": 29, \"11\": 5, \"4\": 15, \"14\": 4, \"10\": 2, \"1\": 3, \"3\": 5, \"12\": 1, \"15\": 1}, \"11\": {\"11\": 141, \"6\": 37, \"13\": 44, \"9\": 10, \"14\": 2, \"7\": 2, \"4\": 3, \"2\": 1}, \"10\": {\"2\": 44, \"12\": 45, \"10\": 76, \"7\": 22, \"3\": 12, \"1\": 34, \"6\": 2, \"9\": 5}, \"14\": {\"4\": 78, \"14\": 74, \"5\": 22, \"0\": 15, \"8\": 7, \"11\": 2, \"15\": 36, \"9\": 3, \"13\": 3}, \"1\": {\"1\": 49, \"3\": 52, \"12\": 51, \"7\": 18, \"2\": 25, \"10\": 34, \"6\": 4, \"9\": 7}, \"3\": {\"12\": 44, \"3\": 109, \"1\": 52, \"10\": 10, \"7\": 11, \"2\": 9, \"9\": 5}}}, \"per_domain_accuracy\": {\"C_3\": {\"accuracy\": 0.9981831395348837, \"source?\": true}, \"C_4\": {\"accuracy\": 0.9945075757575758, \"source?\": true}, \"C_5\": {\"accuracy\": 0.995286312849162, \"source?\": true}, \"C_1\": {\"accuracy\": 0.9964139344262295, \"source?\": true}, \"C_2\": {\"accuracy\": 0.9971751412429378, \"source?\": true}, \"O_14\": {\"accuracy\": 0.34375, \"source?\": false}, \"O_20\": {\"accuracy\": 0.16666666666666666, \"source?\": false}, \"O_38\": {\"accuracy\": 0.39036458333333335, \"source?\": false}, \"O_8\": {\"accuracy\": 0.24817708333333333, \"source?\": false}, \"O_50\": {\"accuracy\": 0.35651041666666666, \"source?\": false}, \"O_32\": {\"accuracy\": 0.46171875, \"source?\": false}, \"O_26\": {\"accuracy\": 0.2203125, \"source?\": false}, \"O_44\": {\"accuracy\": 0.33567708333333335, \"source?\": false}}}, \"history\": {\"epoch_indices\": [1, 2, 3, 4, 5], \"train_label_loss\": [0.030603361533874673, 0.009386805391742402, 0.006996097359238382, 0.0059137121899146055, 0.0038798257752838037], \"source_val_label_loss\": [0.023624464869499207, 0.012676450423896313, 0.006507899612188339, 0.0069071948528289795, 0.018306709825992584], \"target_val_label_loss\": [1.9609225988388062, 2.2112796306610107, 2.4127182960510254, 2.678898572921753, 2.747445583343506], \"source_val_acc_label\": [0.9963256278538812, 0.9975028538812786, 0.9990368150684932, 0.9992151826484018, 0.997039098173516], \"target_val_acc_label\": [0.31539713541666664, 0.31276041666666665, 0.2943359375, 0.28072916666666664, 0.2960286458333333]}, \"dataset_metrics\": {\"source\": {\"train\": {\"n_unique_x\": 175169, \"n_unique_y\": 58, \"n_batch/episode\": 6317}, \"val\": {\"n_unique_x\": 37196, \"n_unique_y\": 58, \"n_batch/episode\": 876}, \"test\": {\"n_unique_x\": 37634, \"n_unique_y\": 58, \"n_batch/episode\": 891}}, \"target\": {\"train\": {\"n_unique_x\": 179200, \"n_unique_y\": 16, \"n_batch/episode\": 6720}, \"val\": {\"n_unique_x\": 38400, \"n_unique_y\": 16, \"n_batch/episode\": 960}, \"test\": {\"n_unique_x\": 38400, \"n_unique_y\": 16, \"n_batch/episode\": 960}}}}'"
      ]
     },
     "execution_count": 29,
     "metadata": {},
     "output_type": "execute_result"
    }
   ],
   "source": [
    "json.dumps(experiment)"
   ]
  }
 ],
 "metadata": {
  "celltoolbar": "Tags",
  "kernelspec": {
   "display_name": "Python 3 (ipykernel)",
   "language": "python",
   "name": "python3"
  },
  "language_info": {
   "codemirror_mode": {
    "name": "ipython",
    "version": 3
   },
   "file_extension": ".py",
   "mimetype": "text/x-python",
   "name": "python",
   "nbconvert_exporter": "python",
   "pygments_lexer": "ipython3",
   "version": "3.8.10"
  },
  "papermill": {
   "default_parameters": {},
   "duration": 1796.740295,
   "end_time": "2022-03-26T19:15:34.290449",
   "environment_variables": {},
   "exception": null,
   "input_path": "/mnt/wd500GB/CSC500/csc500-main/csc500-notebooks/templates/tl_ptn_template.ipynb",
   "output_path": "trial.ipynb",
   "parameters": {
    "parameters": {
     "BEST_MODEL_PATH": "./best_model.pth",
     "NUM_LOGS_PER_EPOCH": 10,
     "criteria_for_best": "target_accuracy",
     "dataset_seed": 1337,
     "datasets": [
      {
       "domain_prefix": "C_",
       "domains": [
        1,
        2,
        3,
        4,
        5
       ],
       "episode_transforms": [],
       "labels": [
        "1-10.",
        "1-11.",
        "1-15.",
        "1-16.",
        "1-17.",
        "1-18.",
        "1-19.",
        "10-4.",
        "10-7.",
        "11-1.",
        "11-14.",
        "11-17.",
        "11-20.",
        "11-7.",
        "13-20.",
        "13-8.",
        "14-10.",
        "14-11.",
        "14-14.",
        "14-7.",
        "15-1.",
        "15-20.",
        "16-1.",
        "16-16.",
        "17-10.",
        "17-11.",
        "17-2.",
        "19-1.",
        "19-16.",
        "19-19.",
        "19-20.",
        "19-3.",
        "2-10.",
        "2-11.",
        "2-17.",
        "2-18.",
        "2-20.",
        "2-3.",
        "2-4.",
        "2-5.",
        "2-6.",
        "2-7.",
        "2-8.",
        "3-13.",
        "3-18.",
        "3-3.",
        "4-1.",
        "4-10.",
        "4-11.",
        "4-19.",
        "5-5.",
        "6-15.",
        "7-10.",
        "7-14.",
        "8-18.",
        "8-20.",
        "8-3.",
        "8-8."
       ],
       "num_examples_per_domain_per_label": -1,
       "pickle_path": "/mnt/wd500GB/CSC500/csc500-main/datasets/cores.stratified_ds.2022A.pkl",
       "source_or_target_dataset": "source",
       "x_transforms": [
        "unit_mag",
        "jitter_256_1",
        "lowpass_+/-10MHz",
        "take_200"
       ]
      },
      {
       "domain_prefix": "O_",
       "domains": [
        32,
        38,
        8,
        44,
        14,
        50,
        20,
        26
       ],
       "episode_transforms": [],
       "labels": [
        "3123D52",
        "3123D65",
        "3123D79",
        "3123D80",
        "3123D54",
        "3123D70",
        "3123D7B",
        "3123D89",
        "3123D58",
        "3123D76",
        "3123D7D",
        "3123EFE",
        "3123D64",
        "3123D78",
        "3123D7E",
        "3124E4A"
       ],
       "num_examples_per_domain_per_label": 2000,
       "pickle_path": "/mnt/wd500GB/CSC500/csc500-main/datasets/oracle.Run1_framed_2000Examples_stratified_ds.2022A.pkl",
       "source_or_target_dataset": "target",
       "x_transforms": [
        "unit_mag",
        "jitter_256_1",
        "take_200",
        "resample_20Msps_to_25Msps"
       ]
      }
     ],
     "device": "cuda",
     "experiment_name": "tl_3-jitter1v2:cores -> oracle.run1.framed",
     "lr": 0.0001,
     "n_epoch": 50,
     "n_query": 2,
     "n_shot": 3,
     "n_way": 16,
     "patience": 3,
     "seed": 1337,
     "test_k_factor": 2,
     "torch_default_dtype": "torch.float32",
     "train_k_factor": 3,
     "val_k_factor": 2,
     "x_net": [
      {
       "class": "nnReshape",
       "kargs": {
        "shape": [
         -1,
         1,
         2,
         256
        ]
       }
      },
      {
       "class": "Conv2d",
       "kargs": {
        "bias": false,
        "in_channels": 1,
        "kernel_size": [
         1,
         7
        ],
        "out_channels": 256,
        "padding": [
         0,
         3
        ]
       }
      },
      {
       "class": "ReLU",
       "kargs": {
        "inplace": true
       }
      },
      {
       "class": "BatchNorm2d",
       "kargs": {
        "num_features": 256
       }
      },
      {
       "class": "Conv2d",
       "kargs": {
        "bias": true,
        "in_channels": 256,
        "kernel_size": [
         2,
         7
        ],
        "out_channels": 80,
        "padding": [
         0,
         3
        ]
       }
      },
      {
       "class": "ReLU",
       "kargs": {
        "inplace": true
       }
      },
      {
       "class": "BatchNorm2d",
       "kargs": {
        "num_features": 80
       }
      },
      {
       "class": "Flatten",
       "kargs": {}
      },
      {
       "class": "Linear",
       "kargs": {
        "in_features": 20480,
        "out_features": 256
       }
      },
      {
       "class": "ReLU",
       "kargs": {
        "inplace": true
       }
      },
      {
       "class": "BatchNorm1d",
       "kargs": {
        "num_features": 256
       }
      },
      {
       "class": "Linear",
       "kargs": {
        "in_features": 256,
        "out_features": 256
       }
      }
     ],
     "x_shape": [
      2,
      256
     ]
    }
   },
   "start_time": "2022-03-26T18:45:37.550154",
   "version": "2.3.4"
  }
 },
 "nbformat": 4,
 "nbformat_minor": 5
}