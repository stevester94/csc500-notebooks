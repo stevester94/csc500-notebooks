{
 "cells": [
  {
   "cell_type": "markdown",
   "id": "9fea5f46",
   "metadata": {
    "papermill": {
     "duration": 0.026744,
     "end_time": "2022-03-27T22:48:07.901947",
     "exception": false,
     "start_time": "2022-03-27T22:48:07.875203",
     "status": "completed"
    },
    "tags": []
   },
   "source": [
    "# Transfer Learning Template"
   ]
  },
  {
   "cell_type": "code",
   "execution_count": 1,
   "id": "0902182a",
   "metadata": {
    "execution": {
     "iopub.execute_input": "2022-03-27T22:48:07.971940Z",
     "iopub.status.busy": "2022-03-27T22:48:07.959430Z",
     "iopub.status.idle": "2022-03-27T22:48:10.018140Z",
     "shell.execute_reply": "2022-03-27T22:48:10.017122Z"
    },
    "papermill": {
     "duration": 2.086518,
     "end_time": "2022-03-27T22:48:10.018413",
     "exception": false,
     "start_time": "2022-03-27T22:48:07.931895",
     "status": "completed"
    },
    "tags": []
   },
   "outputs": [],
   "source": [
    "%load_ext autoreload\n",
    "%autoreload 2\n",
    "%matplotlib inline\n",
    "\n",
    "    \n",
    "import os, json, sys, time, random\n",
    "import numpy as np\n",
    "import torch\n",
    "from torch.optim import Adam\n",
    "from  easydict import EasyDict\n",
    "import matplotlib.pyplot as plt\n",
    "\n",
    "from steves_models.steves_ptn import Steves_Prototypical_Network\n",
    "\n",
    "from steves_utils.lazy_iterable_wrapper import Lazy_Iterable_Wrapper\n",
    "from steves_utils.iterable_aggregator import Iterable_Aggregator\n",
    "from steves_utils.ptn_train_eval_test_jig import  PTN_Train_Eval_Test_Jig\n",
    "from steves_utils.torch_sequential_builder import build_sequential\n",
    "from steves_utils.torch_utils import get_dataset_metrics, ptn_confusion_by_domain_over_dataloader\n",
    "from steves_utils.utils_v2 import (per_domain_accuracy_from_confusion, get_datasets_base_path)\n",
    "from steves_utils.PTN.utils import independent_accuracy_assesment\n",
    "\n",
    "from torch.utils.data import DataLoader\n",
    "\n",
    "from steves_utils.stratified_dataset.episodic_accessor import Episodic_Accessor_Factory\n",
    "\n",
    "from steves_utils.ptn_do_report import (\n",
    "    get_loss_curve,\n",
    "    get_results_table,\n",
    "    get_parameters_table,\n",
    "    get_domain_accuracies,\n",
    ")\n",
    "\n",
    "from steves_utils.transforms import get_chained_transform"
   ]
  },
  {
   "cell_type": "markdown",
   "id": "41c840b4",
   "metadata": {
    "papermill": {
     "duration": 0.019421,
     "end_time": "2022-03-27T22:48:10.063196",
     "exception": false,
     "start_time": "2022-03-27T22:48:10.043775",
     "status": "completed"
    },
    "tags": []
   },
   "source": [
    "# Allowed Parameters\n",
    "These are allowed parameters, not defaults\n",
    "Each of these values need to be present in the injected parameters (the notebook will raise an exception if they are not present)\n",
    "\n",
    "Papermill uses the cell tag \"parameters\" to inject the real parameters below this cell.\n",
    "Enable tags to see what I mean"
   ]
  },
  {
   "cell_type": "code",
   "execution_count": 2,
   "id": "fd44eb83",
   "metadata": {
    "execution": {
     "iopub.execute_input": "2022-03-27T22:48:10.105358Z",
     "iopub.status.busy": "2022-03-27T22:48:10.104974Z",
     "iopub.status.idle": "2022-03-27T22:48:10.125474Z",
     "shell.execute_reply": "2022-03-27T22:48:10.125792Z"
    },
    "papermill": {
     "duration": 0.043537,
     "end_time": "2022-03-27T22:48:10.125905",
     "exception": false,
     "start_time": "2022-03-27T22:48:10.082368",
     "status": "completed"
    },
    "tags": []
   },
   "outputs": [],
   "source": [
    "required_parameters = {\n",
    "    \"experiment_name\",\n",
    "    \"lr\",\n",
    "    \"device\",\n",
    "    \"seed\",\n",
    "    \"dataset_seed\",\n",
    "    \"n_shot\",\n",
    "    \"n_query\",\n",
    "    \"n_way\",\n",
    "    \"train_k_factor\",\n",
    "    \"val_k_factor\",\n",
    "    \"test_k_factor\",\n",
    "    \"n_epoch\",\n",
    "    \"patience\",\n",
    "    \"criteria_for_best\",\n",
    "    \"x_net\",\n",
    "    \"datasets\",\n",
    "    \"torch_default_dtype\",\n",
    "    \"NUM_LOGS_PER_EPOCH\",\n",
    "    \"BEST_MODEL_PATH\",\n",
    "    \"x_shape\",\n",
    "}"
   ]
  },
  {
   "cell_type": "code",
   "execution_count": 3,
   "id": "fa3f0049",
   "metadata": {
    "execution": {
     "iopub.execute_input": "2022-03-27T22:48:10.186929Z",
     "iopub.status.busy": "2022-03-27T22:48:10.186003Z",
     "iopub.status.idle": "2022-03-27T22:48:10.205591Z",
     "shell.execute_reply": "2022-03-27T22:48:10.204764Z"
    },
    "papermill": {
     "duration": 0.055879,
     "end_time": "2022-03-27T22:48:10.205749",
     "exception": false,
     "start_time": "2022-03-27T22:48:10.149870",
     "status": "completed"
    },
    "tags": [
     "parameters"
    ]
   },
   "outputs": [],
   "source": [
    "from steves_utils.CORES.utils import (\n",
    "    ALL_NODES,\n",
    "    ALL_NODES_MINIMUM_1000_EXAMPLES,\n",
    "    ALL_DAYS\n",
    ")\n",
    "\n",
    "from steves_utils.ORACLE.utils_v2 import (\n",
    "    ALL_DISTANCES_FEET_NARROWED,\n",
    "    ALL_RUNS,\n",
    "    ALL_SERIAL_NUMBERS,\n",
    ")\n",
    "\n",
    "standalone_parameters = {}\n",
    "standalone_parameters[\"experiment_name\"] = \"STANDALONE PTN\"\n",
    "standalone_parameters[\"lr\"] = 0.001\n",
    "standalone_parameters[\"device\"] = \"cuda\"\n",
    "\n",
    "standalone_parameters[\"seed\"] = 1337\n",
    "standalone_parameters[\"dataset_seed\"] = 1337\n",
    "\n",
    "standalone_parameters[\"n_way\"] = 8\n",
    "standalone_parameters[\"n_shot\"] = 3\n",
    "standalone_parameters[\"n_query\"]  = 2\n",
    "standalone_parameters[\"train_k_factor\"] = 1\n",
    "standalone_parameters[\"val_k_factor\"] = 2\n",
    "standalone_parameters[\"test_k_factor\"] = 2\n",
    "\n",
    "\n",
    "standalone_parameters[\"n_epoch\"] = 50\n",
    "\n",
    "standalone_parameters[\"patience\"] = 10\n",
    "standalone_parameters[\"criteria_for_best\"] = \"source_loss\"\n",
    "\n",
    "standalone_parameters[\"datasets\"] = [\n",
    "    {\n",
    "        \"labels\": ALL_SERIAL_NUMBERS,\n",
    "        \"domains\": ALL_DISTANCES_FEET_NARROWED,\n",
    "        \"num_examples_per_domain_per_label\": 100,\n",
    "        \"pickle_path\": os.path.join(get_datasets_base_path(), \"oracle.Run1_framed_2000Examples_stratified_ds.2022A.pkl\"),\n",
    "        \"source_or_target_dataset\": \"source\",\n",
    "        \"x_transforms\": [\"unit_mag\", \"minus_two\"],\n",
    "        \"episode_transforms\": [],\n",
    "        \"domain_prefix\": \"ORACLE_\"\n",
    "    },\n",
    "    {\n",
    "        \"labels\": ALL_NODES,\n",
    "        \"domains\": ALL_DAYS,\n",
    "        \"num_examples_per_domain_per_label\": 100,\n",
    "        \"pickle_path\": os.path.join(get_datasets_base_path(), \"cores.stratified_ds.2022A.pkl\"),\n",
    "        \"source_or_target_dataset\": \"target\",\n",
    "        \"x_transforms\": [\"unit_power\", \"times_zero\"],\n",
    "        \"episode_transforms\": [],\n",
    "        \"domain_prefix\": \"CORES_\"\n",
    "    }   \n",
    "]\n",
    "\n",
    "standalone_parameters[\"torch_default_dtype\"] = \"torch.float32\" \n",
    "\n",
    "\n",
    "\n",
    "standalone_parameters[\"x_net\"] =     [\n",
    "    {\"class\": \"nnReshape\", \"kargs\": {\"shape\":[-1, 1, 2, 256]}},\n",
    "    {\"class\": \"Conv2d\", \"kargs\": { \"in_channels\":1, \"out_channels\":256, \"kernel_size\":(1,7), \"bias\":False, \"padding\":(0,3), },},\n",
    "    {\"class\": \"ReLU\", \"kargs\": {\"inplace\": True}},\n",
    "    {\"class\": \"BatchNorm2d\", \"kargs\": {\"num_features\":256}},\n",
    "\n",
    "    {\"class\": \"Conv2d\", \"kargs\": { \"in_channels\":256, \"out_channels\":80, \"kernel_size\":(2,7), \"bias\":True, \"padding\":(0,3), },},\n",
    "    {\"class\": \"ReLU\", \"kargs\": {\"inplace\": True}},\n",
    "    {\"class\": \"BatchNorm2d\", \"kargs\": {\"num_features\":80}},\n",
    "    {\"class\": \"Flatten\", \"kargs\": {}},\n",
    "\n",
    "    {\"class\": \"Linear\", \"kargs\": {\"in_features\": 80*256, \"out_features\": 256}}, # 80 units per IQ pair\n",
    "    {\"class\": \"ReLU\", \"kargs\": {\"inplace\": True}},\n",
    "    {\"class\": \"BatchNorm1d\", \"kargs\": {\"num_features\":256}},\n",
    "\n",
    "    {\"class\": \"Linear\", \"kargs\": {\"in_features\": 256, \"out_features\": 256}},\n",
    "]\n",
    "\n",
    "# Parameters relevant to results\n",
    "# These parameters will basically never need to change\n",
    "standalone_parameters[\"NUM_LOGS_PER_EPOCH\"] = 10\n",
    "standalone_parameters[\"BEST_MODEL_PATH\"] = \"./best_model.pth\"\n",
    "\n",
    "\n",
    "\n",
    "\n"
   ]
  },
  {
   "cell_type": "code",
   "execution_count": 4,
   "id": "74222e78",
   "metadata": {
    "execution": {
     "iopub.execute_input": "2022-03-27T22:48:10.265281Z",
     "iopub.status.busy": "2022-03-27T22:48:10.263740Z",
     "iopub.status.idle": "2022-03-27T22:48:10.284084Z",
     "shell.execute_reply": "2022-03-27T22:48:10.283231Z"
    },
    "papermill": {
     "duration": 0.05358,
     "end_time": "2022-03-27T22:48:10.284243",
     "exception": false,
     "start_time": "2022-03-27T22:48:10.230663",
     "status": "completed"
    },
    "tags": [
     "injected-parameters"
    ]
   },
   "outputs": [],
   "source": [
    "# Parameters\n",
    "parameters = {\n",
    "    \"experiment_name\": \"tl_3-jitter1v2:cores -> oracle.run1.framed\",\n",
    "    \"device\": \"cuda\",\n",
    "    \"lr\": 0.0001,\n",
    "    \"x_shape\": [2, 256],\n",
    "    \"n_shot\": 3,\n",
    "    \"n_query\": 2,\n",
    "    \"train_k_factor\": 3,\n",
    "    \"val_k_factor\": 2,\n",
    "    \"test_k_factor\": 2,\n",
    "    \"torch_default_dtype\": \"torch.float32\",\n",
    "    \"n_epoch\": 50,\n",
    "    \"patience\": 3,\n",
    "    \"criteria_for_best\": \"target_accuracy\",\n",
    "    \"x_net\": [\n",
    "        {\"class\": \"nnReshape\", \"kargs\": {\"shape\": [-1, 1, 2, 256]}},\n",
    "        {\n",
    "            \"class\": \"Conv2d\",\n",
    "            \"kargs\": {\n",
    "                \"in_channels\": 1,\n",
    "                \"out_channels\": 256,\n",
    "                \"kernel_size\": [1, 7],\n",
    "                \"bias\": False,\n",
    "                \"padding\": [0, 3],\n",
    "            },\n",
    "        },\n",
    "        {\"class\": \"ReLU\", \"kargs\": {\"inplace\": True}},\n",
    "        {\"class\": \"BatchNorm2d\", \"kargs\": {\"num_features\": 256}},\n",
    "        {\n",
    "            \"class\": \"Conv2d\",\n",
    "            \"kargs\": {\n",
    "                \"in_channels\": 256,\n",
    "                \"out_channels\": 80,\n",
    "                \"kernel_size\": [2, 7],\n",
    "                \"bias\": True,\n",
    "                \"padding\": [0, 3],\n",
    "            },\n",
    "        },\n",
    "        {\"class\": \"ReLU\", \"kargs\": {\"inplace\": True}},\n",
    "        {\"class\": \"BatchNorm2d\", \"kargs\": {\"num_features\": 80}},\n",
    "        {\"class\": \"Flatten\", \"kargs\": {}},\n",
    "        {\"class\": \"Linear\", \"kargs\": {\"in_features\": 20480, \"out_features\": 256}},\n",
    "        {\"class\": \"ReLU\", \"kargs\": {\"inplace\": True}},\n",
    "        {\"class\": \"BatchNorm1d\", \"kargs\": {\"num_features\": 256}},\n",
    "        {\"class\": \"Linear\", \"kargs\": {\"in_features\": 256, \"out_features\": 256}},\n",
    "    ],\n",
    "    \"NUM_LOGS_PER_EPOCH\": 10,\n",
    "    \"BEST_MODEL_PATH\": \"./best_model.pth\",\n",
    "    \"n_way\": 16,\n",
    "    \"datasets\": [\n",
    "        {\n",
    "            \"labels\": [\n",
    "                \"1-10.\",\n",
    "                \"1-11.\",\n",
    "                \"1-15.\",\n",
    "                \"1-16.\",\n",
    "                \"1-17.\",\n",
    "                \"1-18.\",\n",
    "                \"1-19.\",\n",
    "                \"10-4.\",\n",
    "                \"10-7.\",\n",
    "                \"11-1.\",\n",
    "                \"11-14.\",\n",
    "                \"11-17.\",\n",
    "                \"11-20.\",\n",
    "                \"11-7.\",\n",
    "                \"13-20.\",\n",
    "                \"13-8.\",\n",
    "                \"14-10.\",\n",
    "                \"14-11.\",\n",
    "                \"14-14.\",\n",
    "                \"14-7.\",\n",
    "                \"15-1.\",\n",
    "                \"15-20.\",\n",
    "                \"16-1.\",\n",
    "                \"16-16.\",\n",
    "                \"17-10.\",\n",
    "                \"17-11.\",\n",
    "                \"17-2.\",\n",
    "                \"19-1.\",\n",
    "                \"19-16.\",\n",
    "                \"19-19.\",\n",
    "                \"19-20.\",\n",
    "                \"19-3.\",\n",
    "                \"2-10.\",\n",
    "                \"2-11.\",\n",
    "                \"2-17.\",\n",
    "                \"2-18.\",\n",
    "                \"2-20.\",\n",
    "                \"2-3.\",\n",
    "                \"2-4.\",\n",
    "                \"2-5.\",\n",
    "                \"2-6.\",\n",
    "                \"2-7.\",\n",
    "                \"2-8.\",\n",
    "                \"3-13.\",\n",
    "                \"3-18.\",\n",
    "                \"3-3.\",\n",
    "                \"4-1.\",\n",
    "                \"4-10.\",\n",
    "                \"4-11.\",\n",
    "                \"4-19.\",\n",
    "                \"5-5.\",\n",
    "                \"6-15.\",\n",
    "                \"7-10.\",\n",
    "                \"7-14.\",\n",
    "                \"8-18.\",\n",
    "                \"8-20.\",\n",
    "                \"8-3.\",\n",
    "                \"8-8.\",\n",
    "            ],\n",
    "            \"domains\": [1, 2, 3, 4, 5],\n",
    "            \"num_examples_per_domain_per_label\": -1,\n",
    "            \"pickle_path\": \"/root/csc500-main/datasets/cores.stratified_ds.2022A.pkl\",\n",
    "            \"source_or_target_dataset\": \"source\",\n",
    "            \"x_transforms\": [\n",
    "                \"unit_power\",\n",
    "                \"jitter_256_1\",\n",
    "                \"lowpass_+/-10MHz\",\n",
    "                \"take_200\",\n",
    "            ],\n",
    "            \"episode_transforms\": [],\n",
    "            \"domain_prefix\": \"C_\",\n",
    "        },\n",
    "        {\n",
    "            \"labels\": [\n",
    "                \"3123D52\",\n",
    "                \"3123D65\",\n",
    "                \"3123D79\",\n",
    "                \"3123D80\",\n",
    "                \"3123D54\",\n",
    "                \"3123D70\",\n",
    "                \"3123D7B\",\n",
    "                \"3123D89\",\n",
    "                \"3123D58\",\n",
    "                \"3123D76\",\n",
    "                \"3123D7D\",\n",
    "                \"3123EFE\",\n",
    "                \"3123D64\",\n",
    "                \"3123D78\",\n",
    "                \"3123D7E\",\n",
    "                \"3124E4A\",\n",
    "            ],\n",
    "            \"domains\": [32, 38, 8, 44, 14, 50, 20, 26],\n",
    "            \"num_examples_per_domain_per_label\": 2000,\n",
    "            \"pickle_path\": \"/root/csc500-main/datasets/oracle.Run1_framed_2000Examples_stratified_ds.2022A.pkl\",\n",
    "            \"source_or_target_dataset\": \"target\",\n",
    "            \"x_transforms\": [\n",
    "                \"unit_power\",\n",
    "                \"jitter_256_1\",\n",
    "                \"take_200\",\n",
    "                \"resample_20Msps_to_25Msps\",\n",
    "            ],\n",
    "            \"episode_transforms\": [],\n",
    "            \"domain_prefix\": \"O_\",\n",
    "        },\n",
    "    ],\n",
    "    \"seed\": 7,\n",
    "    \"dataset_seed\": 7,\n",
    "}\n"
   ]
  },
  {
   "cell_type": "code",
   "execution_count": 5,
   "id": "8fa1cc33",
   "metadata": {
    "execution": {
     "iopub.execute_input": "2022-03-27T22:48:10.339601Z",
     "iopub.status.busy": "2022-03-27T22:48:10.339180Z",
     "iopub.status.idle": "2022-03-27T22:48:10.359352Z",
     "shell.execute_reply": "2022-03-27T22:48:10.358536Z"
    },
    "papermill": {
     "duration": 0.046883,
     "end_time": "2022-03-27T22:48:10.359507",
     "exception": false,
     "start_time": "2022-03-27T22:48:10.312624",
     "status": "completed"
    },
    "tags": []
   },
   "outputs": [],
   "source": [
    "# Set this to True if you want to run this template directly\n",
    "STANDALONE = False\n",
    "if STANDALONE:\n",
    "    print(\"parameters not injected, running with standalone_parameters\")\n",
    "    parameters = standalone_parameters\n",
    "\n",
    "if not 'parameters' in locals() and not 'parameters' in globals():\n",
    "    raise Exception(\"Parameter injection failed\")\n",
    "\n",
    "#Use an easy dict for all the parameters\n",
    "p = EasyDict(parameters)\n",
    "\n",
    "if \"x_shape\" not in p:\n",
    "    p.x_shape = [2,256] # Default to this if we dont supply x_shape\n",
    "\n",
    "\n",
    "supplied_keys = set(p.keys())\n",
    "\n",
    "if  supplied_keys != required_parameters:\n",
    "    print(\"Parameters are incorrect\")\n",
    "    if len(supplied_keys - required_parameters)>0: print(\"Shouldn't have:\", str(supplied_keys - required_parameters))\n",
    "    if len(required_parameters - supplied_keys)>0: print(\"Need to have:\", str(required_parameters - supplied_keys))\n",
    "    raise RuntimeError(\"Parameters are incorrect\")"
   ]
  },
  {
   "cell_type": "code",
   "execution_count": 6,
   "id": "3a028d58",
   "metadata": {
    "execution": {
     "iopub.execute_input": "2022-03-27T22:48:10.413174Z",
     "iopub.status.busy": "2022-03-27T22:48:10.412098Z",
     "iopub.status.idle": "2022-03-27T22:48:10.433548Z",
     "shell.execute_reply": "2022-03-27T22:48:10.432721Z"
    },
    "papermill": {
     "duration": 0.045536,
     "end_time": "2022-03-27T22:48:10.433712",
     "exception": false,
     "start_time": "2022-03-27T22:48:10.388176",
     "status": "completed"
    },
    "tags": []
   },
   "outputs": [],
   "source": [
    "###################################\n",
    "# Set the RNGs and make it all deterministic\n",
    "###################################\n",
    "np.random.seed(p.seed)\n",
    "random.seed(p.seed)\n",
    "torch.manual_seed(p.seed)\n",
    "\n",
    "torch.use_deterministic_algorithms(True) "
   ]
  },
  {
   "cell_type": "code",
   "execution_count": 7,
   "id": "b691acf6",
   "metadata": {
    "execution": {
     "iopub.execute_input": "2022-03-27T22:48:10.484578Z",
     "iopub.status.busy": "2022-03-27T22:48:10.483860Z",
     "iopub.status.idle": "2022-03-27T22:48:10.503246Z",
     "shell.execute_reply": "2022-03-27T22:48:10.502403Z"
    },
    "papermill": {
     "duration": 0.044116,
     "end_time": "2022-03-27T22:48:10.503449",
     "exception": false,
     "start_time": "2022-03-27T22:48:10.459333",
     "status": "completed"
    },
    "tags": []
   },
   "outputs": [],
   "source": [
    "###########################################\n",
    "# The stratified datasets honor this\n",
    "###########################################\n",
    "torch.set_default_dtype(eval(p.torch_default_dtype))"
   ]
  },
  {
   "cell_type": "code",
   "execution_count": 8,
   "id": "b5fba671",
   "metadata": {
    "execution": {
     "iopub.execute_input": "2022-03-27T22:48:10.554817Z",
     "iopub.status.busy": "2022-03-27T22:48:10.554022Z",
     "iopub.status.idle": "2022-03-27T22:48:10.607706Z",
     "shell.execute_reply": "2022-03-27T22:48:10.606858Z"
    },
    "papermill": {
     "duration": 0.077287,
     "end_time": "2022-03-27T22:48:10.607868",
     "exception": false,
     "start_time": "2022-03-27T22:48:10.530581",
     "status": "completed"
    },
    "tags": []
   },
   "outputs": [],
   "source": [
    "###################################\n",
    "# Build the network(s)\n",
    "# Note: It's critical to do this AFTER setting the RNG\n",
    "###################################\n",
    "x_net = build_sequential(p.x_net)"
   ]
  },
  {
   "cell_type": "code",
   "execution_count": 9,
   "id": "5d7e61cc",
   "metadata": {
    "execution": {
     "iopub.execute_input": "2022-03-27T22:48:10.657629Z",
     "iopub.status.busy": "2022-03-27T22:48:10.657072Z",
     "iopub.status.idle": "2022-03-27T22:48:10.678682Z",
     "shell.execute_reply": "2022-03-27T22:48:10.677527Z"
    },
    "papermill": {
     "duration": 0.044998,
     "end_time": "2022-03-27T22:48:10.678848",
     "exception": false,
     "start_time": "2022-03-27T22:48:10.633850",
     "status": "completed"
    },
    "tags": []
   },
   "outputs": [],
   "source": [
    "start_time_secs = time.time()"
   ]
  },
  {
   "cell_type": "code",
   "execution_count": 10,
   "id": "c6b67dfd",
   "metadata": {
    "execution": {
     "iopub.execute_input": "2022-03-27T22:48:10.726380Z",
     "iopub.status.busy": "2022-03-27T22:48:10.726013Z",
     "iopub.status.idle": "2022-03-27T22:48:10.743086Z",
     "shell.execute_reply": "2022-03-27T22:48:10.742374Z"
    },
    "papermill": {
     "duration": 0.03973,
     "end_time": "2022-03-27T22:48:10.743240",
     "exception": false,
     "start_time": "2022-03-27T22:48:10.703510",
     "status": "completed"
    },
    "tags": []
   },
   "outputs": [],
   "source": [
    "p.domains_source = []\n",
    "p.domains_target = []\n",
    "\n",
    "\n",
    "train_original_source = []\n",
    "val_original_source   = []\n",
    "test_original_source  = []\n",
    "\n",
    "train_original_target = []\n",
    "val_original_target   = []\n",
    "test_original_target  = []"
   ]
  },
  {
   "cell_type": "code",
   "execution_count": 11,
   "id": "e3d9c3d3",
   "metadata": {
    "execution": {
     "iopub.execute_input": "2022-03-27T22:48:10.792785Z",
     "iopub.status.busy": "2022-03-27T22:48:10.792422Z",
     "iopub.status.idle": "2022-03-27T22:48:10.808926Z",
     "shell.execute_reply": "2022-03-27T22:48:10.808172Z"
    },
    "papermill": {
     "duration": 0.038337,
     "end_time": "2022-03-27T22:48:10.809082",
     "exception": false,
     "start_time": "2022-03-27T22:48:10.770745",
     "status": "completed"
    },
    "tags": []
   },
   "outputs": [],
   "source": [
    "# global_x_transform_func = lambda x: normalize(x.to(torch.get_default_dtype()), \"unit_power\") # unit_power, unit_mag\n",
    "# global_x_transform_func = lambda x: normalize(x, \"unit_power\") # unit_power, unit_mag"
   ]
  },
  {
   "cell_type": "code",
   "execution_count": 12,
   "id": "acb78fd2",
   "metadata": {
    "execution": {
     "iopub.execute_input": "2022-03-27T22:48:10.867295Z",
     "iopub.status.busy": "2022-03-27T22:48:10.866437Z",
     "iopub.status.idle": "2022-03-27T22:48:10.885448Z",
     "shell.execute_reply": "2022-03-27T22:48:10.884651Z"
    },
    "papermill": {
     "duration": 0.05029,
     "end_time": "2022-03-27T22:48:10.885603",
     "exception": false,
     "start_time": "2022-03-27T22:48:10.835313",
     "status": "completed"
    },
    "tags": []
   },
   "outputs": [],
   "source": [
    "def add_dataset(\n",
    "    labels,\n",
    "    domains,\n",
    "    pickle_path,\n",
    "    x_transforms,\n",
    "    episode_transforms,\n",
    "    domain_prefix,\n",
    "    num_examples_per_domain_per_label,\n",
    "    source_or_target_dataset:str,\n",
    "    iterator_seed=p.seed,\n",
    "    dataset_seed=p.dataset_seed,\n",
    "    n_shot=p.n_shot,\n",
    "    n_way=p.n_way,\n",
    "    n_query=p.n_query,\n",
    "    train_val_test_k_factors=(p.train_k_factor,p.val_k_factor,p.test_k_factor),\n",
    "):\n",
    "   \n",
    "    if x_transforms == []: x_transform = None\n",
    "    else: x_transform = get_chained_transform(x_transforms)\n",
    "    \n",
    "    if episode_transforms == []: episode_transform = None\n",
    "    else: raise Exception(\"episode_transforms not implemented\")\n",
    "    \n",
    "    episode_transform = lambda tup, _prefix=domain_prefix: (_prefix + str(tup[0]), tup[1])\n",
    "\n",
    "\n",
    "    eaf = Episodic_Accessor_Factory(\n",
    "        labels=labels,\n",
    "        domains=domains,\n",
    "        num_examples_per_domain_per_label=num_examples_per_domain_per_label,\n",
    "        iterator_seed=iterator_seed,\n",
    "        dataset_seed=dataset_seed,\n",
    "        n_shot=n_shot,\n",
    "        n_way=n_way,\n",
    "        n_query=n_query,\n",
    "        train_val_test_k_factors=train_val_test_k_factors,\n",
    "        pickle_path=pickle_path,\n",
    "        x_transform_func=x_transform,\n",
    "    )\n",
    "\n",
    "    train, val, test = eaf.get_train(), eaf.get_val(), eaf.get_test()\n",
    "    train = Lazy_Iterable_Wrapper(train, episode_transform)\n",
    "    val = Lazy_Iterable_Wrapper(val, episode_transform)\n",
    "    test = Lazy_Iterable_Wrapper(test, episode_transform)\n",
    "\n",
    "    if source_or_target_dataset==\"source\":\n",
    "        train_original_source.append(train)\n",
    "        val_original_source.append(val)\n",
    "        test_original_source.append(test)\n",
    "\n",
    "        p.domains_source.extend(\n",
    "            [domain_prefix + str(u) for u in domains]\n",
    "        )\n",
    "    elif source_or_target_dataset==\"target\":\n",
    "        train_original_target.append(train)\n",
    "        val_original_target.append(val)\n",
    "        test_original_target.append(test)\n",
    "        p.domains_target.extend(\n",
    "            [domain_prefix + str(u) for u in domains]\n",
    "        )\n",
    "    else:\n",
    "        raise Exception(f\"invalid source_or_target_dataset: {source_or_target_dataset}\")\n",
    "    "
   ]
  },
  {
   "cell_type": "code",
   "execution_count": 13,
   "id": "fe266617",
   "metadata": {
    "execution": {
     "iopub.execute_input": "2022-03-27T22:48:10.934419Z",
     "iopub.status.busy": "2022-03-27T22:48:10.934055Z",
     "iopub.status.idle": "2022-03-27T22:50:01.898169Z",
     "shell.execute_reply": "2022-03-27T22:50:01.897620Z"
    },
    "papermill": {
     "duration": 110.986514,
     "end_time": "2022-03-27T22:50:01.898304",
     "exception": false,
     "start_time": "2022-03-27T22:48:10.911790",
     "status": "completed"
    },
    "tags": []
   },
   "outputs": [],
   "source": [
    "for ds in p.datasets:\n",
    "    add_dataset(**ds)"
   ]
  },
  {
   "cell_type": "code",
   "execution_count": 14,
   "id": "b90d65ac",
   "metadata": {
    "execution": {
     "iopub.execute_input": "2022-03-27T22:50:01.954430Z",
     "iopub.status.busy": "2022-03-27T22:50:01.954048Z",
     "iopub.status.idle": "2022-03-27T22:50:01.977144Z",
     "shell.execute_reply": "2022-03-27T22:50:01.976457Z"
    },
    "papermill": {
     "duration": 0.050751,
     "end_time": "2022-03-27T22:50:01.977301",
     "exception": false,
     "start_time": "2022-03-27T22:50:01.926550",
     "status": "completed"
    },
    "tags": []
   },
   "outputs": [],
   "source": [
    "# from steves_utils.CORES.utils import (\n",
    "#     ALL_NODES,\n",
    "#     ALL_NODES_MINIMUM_1000_EXAMPLES,\n",
    "#     ALL_DAYS\n",
    "# )\n",
    "\n",
    "# add_dataset(\n",
    "#     labels=ALL_NODES,\n",
    "#     domains = ALL_DAYS,\n",
    "#     num_examples_per_domain_per_label=100,\n",
    "#     pickle_path=os.path.join(get_datasets_base_path(), \"cores.stratified_ds.2022A.pkl\"),\n",
    "#     source_or_target_dataset=\"target\",\n",
    "#     x_transform_func=global_x_transform_func,\n",
    "#     domain_modifier=lambda u: f\"cores_{u}\"\n",
    "# )"
   ]
  },
  {
   "cell_type": "code",
   "execution_count": 15,
   "id": "76db484d",
   "metadata": {
    "execution": {
     "iopub.execute_input": "2022-03-27T22:50:02.033323Z",
     "iopub.status.busy": "2022-03-27T22:50:02.032635Z",
     "iopub.status.idle": "2022-03-27T22:50:02.054546Z",
     "shell.execute_reply": "2022-03-27T22:50:02.053851Z"
    },
    "papermill": {
     "duration": 0.049679,
     "end_time": "2022-03-27T22:50:02.054705",
     "exception": false,
     "start_time": "2022-03-27T22:50:02.005026",
     "status": "completed"
    },
    "tags": []
   },
   "outputs": [],
   "source": [
    "# from steves_utils.ORACLE.utils_v2 import (\n",
    "#     ALL_DISTANCES_FEET,\n",
    "#     ALL_RUNS,\n",
    "#     ALL_SERIAL_NUMBERS,\n",
    "# )\n",
    "\n",
    "\n",
    "# add_dataset(\n",
    "#     labels=ALL_SERIAL_NUMBERS,\n",
    "#     domains = list(set(ALL_DISTANCES_FEET) - {2,62}),\n",
    "#     num_examples_per_domain_per_label=100,\n",
    "#     pickle_path=os.path.join(get_datasets_base_path(), \"oracle.Run2_framed_2000Examples_stratified_ds.2022A.pkl\"),\n",
    "#     source_or_target_dataset=\"source\",\n",
    "#     x_transform_func=global_x_transform_func,\n",
    "#     domain_modifier=lambda u: f\"oracle1_{u}\"\n",
    "# )\n"
   ]
  },
  {
   "cell_type": "code",
   "execution_count": 16,
   "id": "97dea9d2",
   "metadata": {
    "execution": {
     "iopub.execute_input": "2022-03-27T22:50:02.111617Z",
     "iopub.status.busy": "2022-03-27T22:50:02.111107Z",
     "iopub.status.idle": "2022-03-27T22:50:02.132785Z",
     "shell.execute_reply": "2022-03-27T22:50:02.133258Z"
    },
    "papermill": {
     "duration": 0.050576,
     "end_time": "2022-03-27T22:50:02.133397",
     "exception": false,
     "start_time": "2022-03-27T22:50:02.082821",
     "status": "completed"
    },
    "tags": []
   },
   "outputs": [],
   "source": [
    "# from steves_utils.ORACLE.utils_v2 import (\n",
    "#     ALL_DISTANCES_FEET,\n",
    "#     ALL_RUNS,\n",
    "#     ALL_SERIAL_NUMBERS,\n",
    "# )\n",
    "\n",
    "\n",
    "# add_dataset(\n",
    "#     labels=ALL_SERIAL_NUMBERS,\n",
    "#     domains = list(set(ALL_DISTANCES_FEET) - {2,62,56}),\n",
    "#     num_examples_per_domain_per_label=100,\n",
    "#     pickle_path=os.path.join(get_datasets_base_path(), \"oracle.Run2_framed_2000Examples_stratified_ds.2022A.pkl\"),\n",
    "#     source_or_target_dataset=\"source\",\n",
    "#     x_transform_func=global_x_transform_func,\n",
    "#     domain_modifier=lambda u: f\"oracle2_{u}\"\n",
    "# )"
   ]
  },
  {
   "cell_type": "code",
   "execution_count": 17,
   "id": "6f289866",
   "metadata": {
    "execution": {
     "iopub.execute_input": "2022-03-27T22:50:02.190538Z",
     "iopub.status.busy": "2022-03-27T22:50:02.190163Z",
     "iopub.status.idle": "2022-03-27T22:50:02.210339Z",
     "shell.execute_reply": "2022-03-27T22:50:02.209836Z"
    },
    "papermill": {
     "duration": 0.047777,
     "end_time": "2022-03-27T22:50:02.210448",
     "exception": false,
     "start_time": "2022-03-27T22:50:02.162671",
     "status": "completed"
    },
    "tags": []
   },
   "outputs": [],
   "source": [
    "# add_dataset(\n",
    "#     labels=list(range(19)),\n",
    "#     domains = [0,1,2],\n",
    "#     num_examples_per_domain_per_label=100,\n",
    "#     pickle_path=os.path.join(get_datasets_base_path(), \"metehan.stratified_ds.2022A.pkl\"),\n",
    "#     source_or_target_dataset=\"target\",\n",
    "#     x_transform_func=global_x_transform_func,\n",
    "#     domain_modifier=lambda u: f\"met_{u}\"\n",
    "# )"
   ]
  },
  {
   "cell_type": "code",
   "execution_count": 18,
   "id": "86a863c3",
   "metadata": {
    "execution": {
     "iopub.execute_input": "2022-03-27T22:50:02.257446Z",
     "iopub.status.busy": "2022-03-27T22:50:02.257035Z",
     "iopub.status.idle": "2022-03-27T22:50:02.274545Z",
     "shell.execute_reply": "2022-03-27T22:50:02.273838Z"
    },
    "papermill": {
     "duration": 0.040252,
     "end_time": "2022-03-27T22:50:02.274701",
     "exception": false,
     "start_time": "2022-03-27T22:50:02.234449",
     "status": "completed"
    },
    "tags": []
   },
   "outputs": [],
   "source": [
    "# # from steves_utils.wisig.utils import (\n",
    "# #     ALL_NODES_MINIMUM_100_EXAMPLES,\n",
    "# #     ALL_NODES_MINIMUM_500_EXAMPLES,\n",
    "# #     ALL_NODES_MINIMUM_1000_EXAMPLES,\n",
    "# #     ALL_DAYS\n",
    "# # )\n",
    "\n",
    "# import steves_utils.wisig.utils as wisig\n",
    "\n",
    "\n",
    "# add_dataset(\n",
    "#     labels=wisig.ALL_NODES_MINIMUM_100_EXAMPLES,\n",
    "#     domains = wisig.ALL_DAYS,\n",
    "#     num_examples_per_domain_per_label=100,\n",
    "#     pickle_path=os.path.join(get_datasets_base_path(), \"wisig.node3-19.stratified_ds.2022A.pkl\"),\n",
    "#     source_or_target_dataset=\"target\",\n",
    "#     x_transform_func=global_x_transform_func,\n",
    "#     domain_modifier=lambda u: f\"wisig_{u}\"\n",
    "# )"
   ]
  },
  {
   "cell_type": "code",
   "execution_count": 19,
   "id": "fd5442bc",
   "metadata": {
    "execution": {
     "iopub.execute_input": "2022-03-27T22:50:02.328220Z",
     "iopub.status.busy": "2022-03-27T22:50:02.327732Z",
     "iopub.status.idle": "2022-03-27T22:50:02.346359Z",
     "shell.execute_reply": "2022-03-27T22:50:02.345652Z"
    },
    "papermill": {
     "duration": 0.043878,
     "end_time": "2022-03-27T22:50:02.346513",
     "exception": false,
     "start_time": "2022-03-27T22:50:02.302635",
     "status": "completed"
    },
    "tags": []
   },
   "outputs": [],
   "source": [
    "###################################\n",
    "# Build the dataset\n",
    "###################################\n",
    "train_original_source = Iterable_Aggregator(train_original_source, p.seed)\n",
    "val_original_source = Iterable_Aggregator(val_original_source, p.seed)\n",
    "test_original_source = Iterable_Aggregator(test_original_source, p.seed)\n",
    "\n",
    "\n",
    "train_original_target = Iterable_Aggregator(train_original_target, p.seed)\n",
    "val_original_target = Iterable_Aggregator(val_original_target, p.seed)\n",
    "test_original_target = Iterable_Aggregator(test_original_target, p.seed)\n",
    "\n",
    "# For CNN We only use X and Y. And we only train on the source.\n",
    "# Properly form the data using a transform lambda and Lazy_Iterable_Wrapper. Finally wrap them in a dataloader\n",
    "\n",
    "transform_lambda = lambda ex: ex[1] # Original is (<domain>, <episode>) so we strip down to episode only\n",
    "\n",
    "train_processed_source = Lazy_Iterable_Wrapper(train_original_source, transform_lambda)\n",
    "val_processed_source   = Lazy_Iterable_Wrapper(val_original_source, transform_lambda)\n",
    "test_processed_source  = Lazy_Iterable_Wrapper(test_original_source, transform_lambda)\n",
    "\n",
    "train_processed_target = Lazy_Iterable_Wrapper(train_original_target, transform_lambda)\n",
    "val_processed_target   = Lazy_Iterable_Wrapper(val_original_target, transform_lambda)\n",
    "test_processed_target  = Lazy_Iterable_Wrapper(test_original_target, transform_lambda)\n",
    "\n",
    "datasets = EasyDict({\n",
    "    \"source\": {\n",
    "        \"original\": {\"train\":train_original_source, \"val\":val_original_source, \"test\":test_original_source},\n",
    "        \"processed\": {\"train\":train_processed_source, \"val\":val_processed_source, \"test\":test_processed_source}\n",
    "    },\n",
    "    \"target\": {\n",
    "        \"original\": {\"train\":train_original_target, \"val\":val_original_target, \"test\":test_original_target},\n",
    "        \"processed\": {\"train\":train_processed_target, \"val\":val_processed_target, \"test\":test_processed_target}\n",
    "    },\n",
    "})"
   ]
  },
  {
   "cell_type": "code",
   "execution_count": 20,
   "id": "5b3c01fc",
   "metadata": {
    "execution": {
     "iopub.execute_input": "2022-03-27T22:50:02.398585Z",
     "iopub.status.busy": "2022-03-27T22:50:02.398217Z",
     "iopub.status.idle": "2022-03-27T22:50:16.194263Z",
     "shell.execute_reply": "2022-03-27T22:50:16.193531Z"
    },
    "papermill": {
     "duration": 13.820054,
     "end_time": "2022-03-27T22:50:16.194454",
     "exception": false,
     "start_time": "2022-03-27T22:50:02.374400",
     "status": "completed"
    },
    "tags": []
   },
   "outputs": [
    {
     "name": "stdout",
     "output_type": "stream",
     "text": [
      "{'C_4', 'C_1', 'C_5', 'C_2', 'C_3'}\n"
     ]
    },
    {
     "name": "stdout",
     "output_type": "stream",
     "text": [
      "{'O_14', 'O_44', 'O_8', 'O_26', 'O_50', 'O_20', 'O_32', 'O_38'}\n"
     ]
    },
    {
     "name": "stdout",
     "output_type": "stream",
     "text": [
      "tensor([[[0., 0., 0.,  ..., 0., 0., 0.],\n",
      "         [0., 0., 0.,  ..., 0., 0., 0.]],\n",
      "\n",
      "        [[0., 0., 0.,  ..., 0., 0., 0.],\n",
      "         [0., 0., 0.,  ..., 0., 0., 0.]],\n",
      "\n",
      "        [[0., 0., 0.,  ..., 0., 0., 0.],\n",
      "         [0., 0., 0.,  ..., 0., 0., 0.]],\n",
      "\n",
      "        ...,\n",
      "\n",
      "        [[0., 0., 0.,  ..., 0., 0., 0.],\n",
      "         [0., 0., 0.,  ..., 0., 0., 0.]],\n",
      "\n",
      "        [[0., 0., 0.,  ..., 0., 0., 0.],\n",
      "         [0., 0., 0.,  ..., 0., 0., 0.]],\n",
      "\n",
      "        [[0., 0., 0.,  ..., 0., 0., 0.],\n",
      "         [0., 0., 0.,  ..., 0., 0., 0.]]])\n"
     ]
    }
   ],
   "source": [
    "from steves_utils.transforms import get_average_magnitude, get_average_power\n",
    "\n",
    "print(set([u for u,_ in val_original_source]))\n",
    "print(set([u for u,_ in val_original_target]))\n",
    "\n",
    "s_x, s_y, q_x, q_y, _ = next(iter(train_processed_source))\n",
    "print(s_x)\n",
    "\n",
    "# for ds in [\n",
    "#     train_processed_source,\n",
    "#     val_processed_source,\n",
    "#     test_processed_source,\n",
    "#     train_processed_target,\n",
    "#     val_processed_target,\n",
    "#     test_processed_target\n",
    "# ]:\n",
    "#     for s_x, s_y, q_x, q_y, _ in ds:\n",
    "#         for X in (s_x, q_x):\n",
    "#             for x in X:\n",
    "#                 assert np.isclose(get_average_magnitude(x.numpy()), 1.0)\n",
    "#                 assert np.isclose(get_average_power(x.numpy()), 1.0)\n",
    "                "
   ]
  },
  {
   "cell_type": "code",
   "execution_count": 21,
   "id": "bbdacba1",
   "metadata": {
    "execution": {
     "iopub.execute_input": "2022-03-27T22:50:16.252867Z",
     "iopub.status.busy": "2022-03-27T22:50:16.252184Z",
     "iopub.status.idle": "2022-03-27T22:50:16.385785Z",
     "shell.execute_reply": "2022-03-27T22:50:16.385454Z"
    },
    "papermill": {
     "duration": 0.161056,
     "end_time": "2022-03-27T22:50:16.385866",
     "exception": false,
     "start_time": "2022-03-27T22:50:16.224810",
     "status": "completed"
    },
    "tags": []
   },
   "outputs": [
    {
     "name": "stdout",
     "output_type": "stream",
     "text": [
      "(2, 256)\n"
     ]
    }
   ],
   "source": [
    "###################################\n",
    "# Build the model\n",
    "###################################\n",
    "# easfsl only wants a tuple for the shape\n",
    "model = Steves_Prototypical_Network(x_net, device=p.device, x_shape=tuple(p.x_shape))\n",
    "optimizer = Adam(params=model.parameters(), lr=p.lr)"
   ]
  },
  {
   "cell_type": "code",
   "execution_count": 22,
   "id": "22b39ac5",
   "metadata": {
    "execution": {
     "iopub.execute_input": "2022-03-27T22:50:16.463602Z",
     "iopub.status.busy": "2022-03-27T22:50:16.463194Z",
     "iopub.status.idle": "2022-03-28T00:04:17.743892Z",
     "shell.execute_reply": "2022-03-28T00:04:17.741484Z"
    },
    "papermill": {
     "duration": 4441.309439,
     "end_time": "2022-03-28T00:04:17.746047",
     "exception": false,
     "start_time": "2022-03-27T22:50:16.436608",
     "status": "completed"
    },
    "tags": []
   },
   "outputs": [
    {
     "name": "stdout",
     "output_type": "stream",
     "text": [
      "epoch: 1, [batch: 1 / 6316], examples_per_second: 34.7156, train_label_loss: 2.6544, \n"
     ]
    },
    {
     "name": "stdout",
     "output_type": "stream",
     "text": [
      "epoch: 1, [batch: 632 / 6316], examples_per_second: 4687.1795, train_label_loss: 0.0056, \n"
     ]
    },
    {
     "name": "stdout",
     "output_type": "stream",
     "text": [
      "epoch: 1, [batch: 1264 / 6316], examples_per_second: 3656.7415, train_label_loss: 0.0023, \n"
     ]
    },
    {
     "name": "stdout",
     "output_type": "stream",
     "text": [
      "epoch: 1, [batch: 1895 / 6316], examples_per_second: 2209.9782, train_label_loss: 0.0088, \n"
     ]
    },
    {
     "name": "stdout",
     "output_type": "stream",
     "text": [
      "epoch: 1, [batch: 2527 / 6316], examples_per_second: 2197.3056, train_label_loss: 0.0021, \n"
     ]
    },
    {
     "name": "stdout",
     "output_type": "stream",
     "text": [
      "epoch: 1, [batch: 3158 / 6316], examples_per_second: 2343.2374, train_label_loss: 0.0001, \n"
     ]
    },
    {
     "name": "stdout",
     "output_type": "stream",
     "text": [
      "epoch: 1, [batch: 3790 / 6316], examples_per_second: 2827.7335, train_label_loss: 0.0001, \n"
     ]
    },
    {
     "name": "stdout",
     "output_type": "stream",
     "text": [
      "epoch: 1, [batch: 4421 / 6316], examples_per_second: 2160.4224, train_label_loss: 0.0174, \n"
     ]
    },
    {
     "name": "stdout",
     "output_type": "stream",
     "text": [
      "epoch: 1, [batch: 5053 / 6316], examples_per_second: 2109.1786, train_label_loss: 0.0054, \n"
     ]
    },
    {
     "name": "stdout",
     "output_type": "stream",
     "text": [
      "epoch: 1, [batch: 5684 / 6316], examples_per_second: 1839.6031, train_label_loss: 0.0003, \n"
     ]
    },
    {
     "name": "stdout",
     "output_type": "stream",
     "text": [
      "=============================================================\n",
      "epoch: 1, source_val_acc_label: 0.9926, target_val_acc_label: 0.2988, source_val_label_loss: 0.0825, target_val_label_loss: 2.0222, \n",
      "=============================================================\n"
     ]
    },
    {
     "name": "stdout",
     "output_type": "stream",
     "text": [
      "New best\n"
     ]
    },
    {
     "name": "stdout",
     "output_type": "stream",
     "text": [
      "epoch: 2, [batch: 1 / 6296], examples_per_second: 1.5682, train_label_loss: 0.0053, \n"
     ]
    },
    {
     "name": "stdout",
     "output_type": "stream",
     "text": [
      "epoch: 2, [batch: 630 / 6296], examples_per_second: 1682.4237, train_label_loss: 0.0068, \n"
     ]
    },
    {
     "name": "stdout",
     "output_type": "stream",
     "text": [
      "epoch: 2, [batch: 1260 / 6296], examples_per_second: 1689.2659, train_label_loss: 0.0000, \n"
     ]
    },
    {
     "name": "stdout",
     "output_type": "stream",
     "text": [
      "epoch: 2, [batch: 1889 / 6296], examples_per_second: 1862.9688, train_label_loss: 0.0005, \n"
     ]
    },
    {
     "name": "stdout",
     "output_type": "stream",
     "text": [
      "epoch: 2, [batch: 2519 / 6296], examples_per_second: 1841.2811, train_label_loss: 0.0000, \n"
     ]
    },
    {
     "name": "stdout",
     "output_type": "stream",
     "text": [
      "epoch: 2, [batch: 3148 / 6296], examples_per_second: 1681.5031, train_label_loss: 0.0000, \n"
     ]
    },
    {
     "name": "stdout",
     "output_type": "stream",
     "text": [
      "epoch: 2, [batch: 3778 / 6296], examples_per_second: 1829.8912, train_label_loss: 0.0000, \n"
     ]
    },
    {
     "name": "stdout",
     "output_type": "stream",
     "text": [
      "epoch: 2, [batch: 4407 / 6296], examples_per_second: 2202.2063, train_label_loss: 0.0003, \n"
     ]
    },
    {
     "name": "stdout",
     "output_type": "stream",
     "text": [
      "epoch: 2, [batch: 5037 / 6296], examples_per_second: 1848.6730, train_label_loss: 0.0003, \n"
     ]
    },
    {
     "name": "stdout",
     "output_type": "stream",
     "text": [
      "epoch: 2, [batch: 5666 / 6296], examples_per_second: 1673.8387, train_label_loss: 0.0000, \n"
     ]
    },
    {
     "name": "stdout",
     "output_type": "stream",
     "text": [
      "=============================================================\n",
      "epoch: 2, source_val_acc_label: 0.9989, target_val_acc_label: 0.2976, source_val_label_loss: 0.0072, target_val_label_loss: 2.4023, \n",
      "=============================================================\n"
     ]
    },
    {
     "name": "stdout",
     "output_type": "stream",
     "text": [
      "epoch: 3, [batch: 1 / 6299], examples_per_second: 1.5004, train_label_loss: 0.3867, \n"
     ]
    },
    {
     "name": "stdout",
     "output_type": "stream",
     "text": [
      "epoch: 3, [batch: 630 / 6299], examples_per_second: 1869.5271, train_label_loss: 0.0000, \n"
     ]
    },
    {
     "name": "stdout",
     "output_type": "stream",
     "text": [
      "epoch: 3, [batch: 1260 / 6299], examples_per_second: 1682.3435, train_label_loss: 0.0000, \n"
     ]
    },
    {
     "name": "stdout",
     "output_type": "stream",
     "text": [
      "epoch: 3, [batch: 1890 / 6299], examples_per_second: 1679.2813, train_label_loss: 0.0000, \n"
     ]
    },
    {
     "name": "stdout",
     "output_type": "stream",
     "text": [
      "epoch: 3, [batch: 2520 / 6299], examples_per_second: 2293.2726, train_label_loss: 0.0001, \n"
     ]
    },
    {
     "name": "stdout",
     "output_type": "stream",
     "text": [
      "epoch: 3, [batch: 3150 / 6299], examples_per_second: 2389.3438, train_label_loss: 0.0005, \n"
     ]
    },
    {
     "name": "stdout",
     "output_type": "stream",
     "text": [
      "epoch: 3, [batch: 3779 / 6299], examples_per_second: 3358.4549, train_label_loss: 0.0000, \n"
     ]
    },
    {
     "name": "stdout",
     "output_type": "stream",
     "text": [
      "epoch: 3, [batch: 4409 / 6299], examples_per_second: 3781.8820, train_label_loss: 0.0000, \n"
     ]
    },
    {
     "name": "stdout",
     "output_type": "stream",
     "text": [
      "epoch: 3, [batch: 5039 / 6299], examples_per_second: 4402.9356, train_label_loss: 0.0003, \n"
     ]
    },
    {
     "name": "stdout",
     "output_type": "stream",
     "text": [
      "epoch: 3, [batch: 5669 / 6299], examples_per_second: 3860.6904, train_label_loss: 0.0002, \n"
     ]
    },
    {
     "name": "stdout",
     "output_type": "stream",
     "text": [
      "=============================================================\n",
      "epoch: 3, source_val_acc_label: 0.9969, target_val_acc_label: 0.3055, source_val_label_loss: 0.0164, target_val_label_loss: 2.3157, \n",
      "=============================================================\n"
     ]
    },
    {
     "name": "stdout",
     "output_type": "stream",
     "text": [
      "New best\n"
     ]
    },
    {
     "name": "stdout",
     "output_type": "stream",
     "text": [
      "epoch: 4, [batch: 1 / 6316], examples_per_second: 4.0340, train_label_loss: 0.1264, \n"
     ]
    },
    {
     "name": "stdout",
     "output_type": "stream",
     "text": [
      "epoch: 4, [batch: 632 / 6316], examples_per_second: 3867.4688, train_label_loss: 0.0000, \n"
     ]
    },
    {
     "name": "stdout",
     "output_type": "stream",
     "text": [
      "epoch: 4, [batch: 1264 / 6316], examples_per_second: 3871.5563, train_label_loss: 0.0000, \n"
     ]
    },
    {
     "name": "stdout",
     "output_type": "stream",
     "text": [
      "epoch: 4, [batch: 1895 / 6316], examples_per_second: 3883.1449, train_label_loss: 0.0001, \n"
     ]
    },
    {
     "name": "stdout",
     "output_type": "stream",
     "text": [
      "epoch: 4, [batch: 2527 / 6316], examples_per_second: 2940.5594, train_label_loss: 0.0000, \n"
     ]
    },
    {
     "name": "stdout",
     "output_type": "stream",
     "text": [
      "epoch: 4, [batch: 3158 / 6316], examples_per_second: 1694.9574, train_label_loss: 0.0000, \n"
     ]
    },
    {
     "name": "stdout",
     "output_type": "stream",
     "text": [
      "epoch: 4, [batch: 3790 / 6316], examples_per_second: 1834.0967, train_label_loss: 0.0000, \n"
     ]
    },
    {
     "name": "stdout",
     "output_type": "stream",
     "text": [
      "epoch: 4, [batch: 4421 / 6316], examples_per_second: 2172.0079, train_label_loss: 0.0021, \n"
     ]
    },
    {
     "name": "stdout",
     "output_type": "stream",
     "text": [
      "epoch: 4, [batch: 5053 / 6316], examples_per_second: 2042.9869, train_label_loss: 0.0000, \n"
     ]
    },
    {
     "name": "stdout",
     "output_type": "stream",
     "text": [
      "epoch: 4, [batch: 5684 / 6316], examples_per_second: 1688.8988, train_label_loss: 0.0000, \n"
     ]
    },
    {
     "name": "stdout",
     "output_type": "stream",
     "text": [
      "=============================================================\n",
      "epoch: 4, source_val_acc_label: 0.9988, target_val_acc_label: 0.2618, source_val_label_loss: 0.0091, target_val_label_loss: 2.6910, \n",
      "=============================================================\n"
     ]
    },
    {
     "name": "stdout",
     "output_type": "stream",
     "text": [
      "epoch: 5, [batch: 1 / 6313], examples_per_second: 1.5279, train_label_loss: 0.0000, \n"
     ]
    },
    {
     "name": "stdout",
     "output_type": "stream",
     "text": [
      "epoch: 5, [batch: 632 / 6313], examples_per_second: 1882.7065, train_label_loss: 0.0000, \n"
     ]
    },
    {
     "name": "stdout",
     "output_type": "stream",
     "text": [
      "epoch: 5, [batch: 1263 / 6313], examples_per_second: 1828.6636, train_label_loss: 0.0010, \n"
     ]
    },
    {
     "name": "stdout",
     "output_type": "stream",
     "text": [
      "epoch: 5, [batch: 1894 / 6313], examples_per_second: 1691.9712, train_label_loss: 0.0000, \n"
     ]
    },
    {
     "name": "stdout",
     "output_type": "stream",
     "text": [
      "epoch: 5, [batch: 2525 / 6313], examples_per_second: 1681.9312, train_label_loss: 0.0000, \n"
     ]
    },
    {
     "name": "stdout",
     "output_type": "stream",
     "text": [
      "epoch: 5, [batch: 3157 / 6313], examples_per_second: 2186.3837, train_label_loss: 0.0000, \n"
     ]
    },
    {
     "name": "stdout",
     "output_type": "stream",
     "text": [
      "epoch: 5, [batch: 3788 / 6313], examples_per_second: 1807.2329, train_label_loss: 0.0000, \n"
     ]
    },
    {
     "name": "stdout",
     "output_type": "stream",
     "text": [
      "epoch: 5, [batch: 4419 / 6313], examples_per_second: 1809.2274, train_label_loss: 0.0000, \n"
     ]
    },
    {
     "name": "stdout",
     "output_type": "stream",
     "text": [
      "epoch: 5, [batch: 5050 / 6313], examples_per_second: 2270.2724, train_label_loss: 0.0000, \n"
     ]
    },
    {
     "name": "stdout",
     "output_type": "stream",
     "text": [
      "epoch: 5, [batch: 5681 / 6313], examples_per_second: 1773.3035, train_label_loss: 0.0006, \n"
     ]
    },
    {
     "name": "stdout",
     "output_type": "stream",
     "text": [
      "=============================================================\n",
      "epoch: 5, source_val_acc_label: 0.9985, target_val_acc_label: 0.2979, source_val_label_loss: 0.0097, target_val_label_loss: 2.2837, \n",
      "=============================================================\n"
     ]
    },
    {
     "name": "stdout",
     "output_type": "stream",
     "text": [
      "epoch: 6, [batch: 1 / 6307], examples_per_second: 1.5116, train_label_loss: 0.0000, \n"
     ]
    },
    {
     "name": "stdout",
     "output_type": "stream",
     "text": [
      "epoch: 6, [batch: 631 / 6307], examples_per_second: 1672.9605, train_label_loss: 0.0004, \n"
     ]
    },
    {
     "name": "stdout",
     "output_type": "stream",
     "text": [
      "epoch: 6, [batch: 1262 / 6307], examples_per_second: 2030.0978, train_label_loss: 0.0003, \n"
     ]
    },
    {
     "name": "stdout",
     "output_type": "stream",
     "text": [
      "epoch: 6, [batch: 1892 / 6307], examples_per_second: 1702.9410, train_label_loss: 0.0000, \n"
     ]
    },
    {
     "name": "stdout",
     "output_type": "stream",
     "text": [
      "epoch: 6, [batch: 2523 / 6307], examples_per_second: 1665.3941, train_label_loss: 0.0000, \n"
     ]
    },
    {
     "name": "stdout",
     "output_type": "stream",
     "text": [
      "epoch: 6, [batch: 3154 / 6307], examples_per_second: 1745.9268, train_label_loss: 0.0002, \n"
     ]
    },
    {
     "name": "stdout",
     "output_type": "stream",
     "text": [
      "epoch: 6, [batch: 3784 / 6307], examples_per_second: 2065.4605, train_label_loss: 0.0000, \n"
     ]
    },
    {
     "name": "stdout",
     "output_type": "stream",
     "text": [
      "epoch: 6, [batch: 4415 / 6307], examples_per_second: 1813.1572, train_label_loss: 0.0000, \n"
     ]
    },
    {
     "name": "stdout",
     "output_type": "stream",
     "text": [
      "epoch: 6, [batch: 5045 / 6307], examples_per_second: 1837.9261, train_label_loss: 0.0000, \n"
     ]
    },
    {
     "name": "stdout",
     "output_type": "stream",
     "text": [
      "epoch: 6, [batch: 5676 / 6307], examples_per_second: 2402.8895, train_label_loss: 0.0000, \n"
     ]
    },
    {
     "name": "stdout",
     "output_type": "stream",
     "text": [
      "=============================================================\n",
      "epoch: 6, source_val_acc_label: 0.9991, target_val_acc_label: 0.2922, source_val_label_loss: 0.0079, target_val_label_loss: 2.4056, \n",
      "=============================================================\n"
     ]
    },
    {
     "name": "stdout",
     "output_type": "stream",
     "text": [
      "epoch: 7, [batch: 1 / 6303], examples_per_second: 3.2816, train_label_loss: 0.0172, \n"
     ]
    },
    {
     "name": "stdout",
     "output_type": "stream",
     "text": [
      "epoch: 7, [batch: 631 / 6303], examples_per_second: 4130.6758, train_label_loss: 0.0000, \n"
     ]
    },
    {
     "name": "stdout",
     "output_type": "stream",
     "text": [
      "epoch: 7, [batch: 1261 / 6303], examples_per_second: 4461.4640, train_label_loss: 0.0000, \n"
     ]
    },
    {
     "name": "stdout",
     "output_type": "stream",
     "text": [
      "epoch: 7, [batch: 1891 / 6303], examples_per_second: 4249.2454, train_label_loss: 0.0000, \n"
     ]
    },
    {
     "name": "stdout",
     "output_type": "stream",
     "text": [
      "epoch: 7, [batch: 2521 / 6303], examples_per_second: 4867.7227, train_label_loss: 0.0000, \n"
     ]
    },
    {
     "name": "stdout",
     "output_type": "stream",
     "text": [
      "epoch: 7, [batch: 3152 / 6303], examples_per_second: 4950.0085, train_label_loss: 0.0000, \n"
     ]
    },
    {
     "name": "stdout",
     "output_type": "stream",
     "text": [
      "epoch: 7, [batch: 3782 / 6303], examples_per_second: 4826.9483, train_label_loss: 0.0000, \n"
     ]
    },
    {
     "name": "stdout",
     "output_type": "stream",
     "text": [
      "epoch: 7, [batch: 4412 / 6303], examples_per_second: 4807.0527, train_label_loss: 0.0001, \n"
     ]
    },
    {
     "name": "stdout",
     "output_type": "stream",
     "text": [
      "epoch: 7, [batch: 5042 / 6303], examples_per_second: 5082.0859, train_label_loss: 0.0000, \n"
     ]
    },
    {
     "name": "stdout",
     "output_type": "stream",
     "text": [
      "epoch: 7, [batch: 5672 / 6303], examples_per_second: 5219.1503, train_label_loss: 0.0000, \n"
     ]
    },
    {
     "name": "stdout",
     "output_type": "stream",
     "text": [
      "=============================================================\n",
      "epoch: 7, source_val_acc_label: 0.9991, target_val_acc_label: 0.3089, source_val_label_loss: 0.0069, target_val_label_loss: 2.2061, \n",
      "=============================================================\n"
     ]
    },
    {
     "name": "stdout",
     "output_type": "stream",
     "text": [
      "New best\n"
     ]
    },
    {
     "name": "stdout",
     "output_type": "stream",
     "text": [
      "epoch: 8, [batch: 1 / 6292], examples_per_second: 2.6737, train_label_loss: 0.0000, \n"
     ]
    },
    {
     "name": "stdout",
     "output_type": "stream",
     "text": [
      "epoch: 8, [batch: 630 / 6292], examples_per_second: 2450.9883, train_label_loss: 0.0023, \n"
     ]
    },
    {
     "name": "stdout",
     "output_type": "stream",
     "text": [
      "epoch: 8, [batch: 1259 / 6292], examples_per_second: 2795.6669, train_label_loss: 0.0003, \n"
     ]
    },
    {
     "name": "stdout",
     "output_type": "stream",
     "text": [
      "epoch: 8, [batch: 1888 / 6292], examples_per_second: 2063.3281, train_label_loss: 0.0000, \n"
     ]
    },
    {
     "name": "stdout",
     "output_type": "stream",
     "text": [
      "epoch: 8, [batch: 2517 / 6292], examples_per_second: 1673.4275, train_label_loss: 0.0001, \n"
     ]
    },
    {
     "name": "stdout",
     "output_type": "stream",
     "text": [
      "epoch: 8, [batch: 3146 / 6292], examples_per_second: 1875.1713, train_label_loss: 0.0000, \n"
     ]
    },
    {
     "name": "stdout",
     "output_type": "stream",
     "text": [
      "epoch: 8, [batch: 3775 / 6292], examples_per_second: 1747.2184, train_label_loss: 0.0000, \n"
     ]
    },
    {
     "name": "stdout",
     "output_type": "stream",
     "text": [
      "epoch: 8, [batch: 4404 / 6292], examples_per_second: 1678.3246, train_label_loss: 0.0000, \n"
     ]
    },
    {
     "name": "stdout",
     "output_type": "stream",
     "text": [
      "epoch: 8, [batch: 5033 / 6292], examples_per_second: 1716.6324, train_label_loss: 0.0000, \n"
     ]
    },
    {
     "name": "stdout",
     "output_type": "stream",
     "text": [
      "epoch: 8, [batch: 5662 / 6292], examples_per_second: 2010.9843, train_label_loss: 0.0000, \n"
     ]
    },
    {
     "name": "stdout",
     "output_type": "stream",
     "text": [
      "=============================================================\n",
      "epoch: 8, source_val_acc_label: 0.9995, target_val_acc_label: 0.2941, source_val_label_loss: 0.0049, target_val_label_loss: 2.3311, \n",
      "=============================================================\n"
     ]
    },
    {
     "name": "stdout",
     "output_type": "stream",
     "text": [
      "epoch: 9, [batch: 1 / 6305], examples_per_second: 1.5248, train_label_loss: 0.0003, \n"
     ]
    },
    {
     "name": "stdout",
     "output_type": "stream",
     "text": [
      "epoch: 9, [batch: 631 / 6305], examples_per_second: 1790.1020, train_label_loss: 0.0000, \n"
     ]
    },
    {
     "name": "stdout",
     "output_type": "stream",
     "text": [
      "epoch: 9, [batch: 1261 / 6305], examples_per_second: 1925.0470, train_label_loss: 0.0000, \n"
     ]
    },
    {
     "name": "stdout",
     "output_type": "stream",
     "text": [
      "epoch: 9, [batch: 1892 / 6305], examples_per_second: 2146.8319, train_label_loss: 0.0000, \n"
     ]
    },
    {
     "name": "stdout",
     "output_type": "stream",
     "text": [
      "epoch: 9, [batch: 2522 / 6305], examples_per_second: 1676.4385, train_label_loss: 0.0000, \n"
     ]
    },
    {
     "name": "stdout",
     "output_type": "stream",
     "text": [
      "epoch: 9, [batch: 3153 / 6305], examples_per_second: 1673.9779, train_label_loss: 0.0000, \n"
     ]
    },
    {
     "name": "stdout",
     "output_type": "stream",
     "text": [
      "epoch: 9, [batch: 3783 / 6305], examples_per_second: 2120.7254, train_label_loss: 0.0000, \n"
     ]
    },
    {
     "name": "stdout",
     "output_type": "stream",
     "text": [
      "epoch: 9, [batch: 4413 / 6305], examples_per_second: 1662.2436, train_label_loss: 0.0000, \n"
     ]
    },
    {
     "name": "stdout",
     "output_type": "stream",
     "text": [
      "epoch: 9, [batch: 5044 / 6305], examples_per_second: 1674.3034, train_label_loss: 0.0000, \n"
     ]
    },
    {
     "name": "stdout",
     "output_type": "stream",
     "text": [
      "epoch: 9, [batch: 5674 / 6305], examples_per_second: 1827.8399, train_label_loss: 0.0000, \n"
     ]
    },
    {
     "name": "stdout",
     "output_type": "stream",
     "text": [
      "=============================================================\n",
      "epoch: 9, source_val_acc_label: 0.9995, target_val_acc_label: 0.3113, source_val_label_loss: 0.0067, target_val_label_loss: 2.4218, \n",
      "=============================================================\n"
     ]
    },
    {
     "name": "stdout",
     "output_type": "stream",
     "text": [
      "New best\n"
     ]
    },
    {
     "name": "stdout",
     "output_type": "stream",
     "text": [
      "epoch: 10, [batch: 1 / 6298], examples_per_second: 1.5467, train_label_loss: 0.0000, \n"
     ]
    },
    {
     "name": "stdout",
     "output_type": "stream",
     "text": [
      "epoch: 10, [batch: 630 / 6298], examples_per_second: 1792.7082, train_label_loss: 0.0000, \n"
     ]
    },
    {
     "name": "stdout",
     "output_type": "stream",
     "text": [
      "epoch: 10, [batch: 1260 / 6298], examples_per_second: 1806.1390, train_label_loss: 0.0001, \n"
     ]
    },
    {
     "name": "stdout",
     "output_type": "stream",
     "text": [
      "epoch: 10, [batch: 1890 / 6298], examples_per_second: 2256.0977, train_label_loss: 0.0003, \n"
     ]
    },
    {
     "name": "stdout",
     "output_type": "stream",
     "text": [
      "epoch: 10, [batch: 2519 / 6298], examples_per_second: 1709.7155, train_label_loss: 0.0000, \n"
     ]
    },
    {
     "name": "stdout",
     "output_type": "stream",
     "text": [
      "epoch: 10, [batch: 3149 / 6298], examples_per_second: 1679.4151, train_label_loss: 0.0000, \n"
     ]
    },
    {
     "name": "stdout",
     "output_type": "stream",
     "text": [
      "epoch: 10, [batch: 3779 / 6298], examples_per_second: 1754.7881, train_label_loss: 0.0000, \n"
     ]
    },
    {
     "name": "stdout",
     "output_type": "stream",
     "text": [
      "epoch: 10, [batch: 4408 / 6298], examples_per_second: 1952.0820, train_label_loss: 0.0000, \n"
     ]
    },
    {
     "name": "stdout",
     "output_type": "stream",
     "text": [
      "epoch: 10, [batch: 5038 / 6298], examples_per_second: 1670.9582, train_label_loss: 0.0000, \n"
     ]
    },
    {
     "name": "stdout",
     "output_type": "stream",
     "text": [
      "epoch: 10, [batch: 5668 / 6298], examples_per_second: 1673.0992, train_label_loss: 0.0000, \n"
     ]
    },
    {
     "name": "stdout",
     "output_type": "stream",
     "text": [
      "=============================================================\n",
      "epoch: 10, source_val_acc_label: 0.9995, target_val_acc_label: 0.3042, source_val_label_loss: 0.0089, target_val_label_loss: 2.7606, \n",
      "=============================================================\n"
     ]
    },
    {
     "name": "stdout",
     "output_type": "stream",
     "text": [
      "epoch: 11, [batch: 1 / 6323], examples_per_second: 2.2660, train_label_loss: 0.0000, \n"
     ]
    },
    {
     "name": "stdout",
     "output_type": "stream",
     "text": [
      "epoch: 11, [batch: 633 / 6323], examples_per_second: 4134.2429, train_label_loss: 0.0000, \n"
     ]
    },
    {
     "name": "stdout",
     "output_type": "stream",
     "text": [
      "epoch: 11, [batch: 1265 / 6323], examples_per_second: 4301.5119, train_label_loss: 0.0000, \n"
     ]
    },
    {
     "name": "stdout",
     "output_type": "stream",
     "text": [
      "epoch: 11, [batch: 1897 / 6323], examples_per_second: 4010.9764, train_label_loss: 0.0000, \n"
     ]
    },
    {
     "name": "stdout",
     "output_type": "stream",
     "text": [
      "epoch: 11, [batch: 2529 / 6323], examples_per_second: 3819.7432, train_label_loss: 0.0000, \n"
     ]
    },
    {
     "name": "stdout",
     "output_type": "stream",
     "text": [
      "epoch: 11, [batch: 3162 / 6323], examples_per_second: 3885.5236, train_label_loss: 0.0000, \n"
     ]
    },
    {
     "name": "stdout",
     "output_type": "stream",
     "text": [
      "epoch: 11, [batch: 3794 / 6323], examples_per_second: 3919.2280, train_label_loss: 0.0001, \n"
     ]
    },
    {
     "name": "stdout",
     "output_type": "stream",
     "text": [
      "epoch: 11, [batch: 4426 / 6323], examples_per_second: 3958.1367, train_label_loss: 0.0001, \n"
     ]
    },
    {
     "name": "stdout",
     "output_type": "stream",
     "text": [
      "epoch: 11, [batch: 5058 / 6323], examples_per_second: 3909.1222, train_label_loss: 0.0001, \n"
     ]
    },
    {
     "name": "stdout",
     "output_type": "stream",
     "text": [
      "epoch: 11, [batch: 5690 / 6323], examples_per_second: 3396.0706, train_label_loss: 0.0000, \n"
     ]
    },
    {
     "name": "stdout",
     "output_type": "stream",
     "text": [
      "=============================================================\n",
      "epoch: 11, source_val_acc_label: 0.9988, target_val_acc_label: 0.3262, source_val_label_loss: 0.0082, target_val_label_loss: 2.6477, \n",
      "=============================================================\n"
     ]
    },
    {
     "name": "stdout",
     "output_type": "stream",
     "text": [
      "New best\n"
     ]
    },
    {
     "name": "stdout",
     "output_type": "stream",
     "text": [
      "epoch: 12, [batch: 1 / 6325], examples_per_second: 1.5950, train_label_loss: 0.0000, \n"
     ]
    },
    {
     "name": "stdout",
     "output_type": "stream",
     "text": [
      "epoch: 12, [batch: 633 / 6325], examples_per_second: 1840.1650, train_label_loss: 0.0000, \n"
     ]
    },
    {
     "name": "stdout",
     "output_type": "stream",
     "text": [
      "epoch: 12, [batch: 1265 / 6325], examples_per_second: 1870.7164, train_label_loss: 0.0001, \n"
     ]
    },
    {
     "name": "stdout",
     "output_type": "stream",
     "text": [
      "epoch: 12, [batch: 1898 / 6325], examples_per_second: 2175.6067, train_label_loss: 0.0000, \n"
     ]
    },
    {
     "name": "stdout",
     "output_type": "stream",
     "text": [
      "epoch: 12, [batch: 2530 / 6325], examples_per_second: 1690.3951, train_label_loss: 0.0000, \n"
     ]
    },
    {
     "name": "stdout",
     "output_type": "stream",
     "text": [
      "epoch: 12, [batch: 3163 / 6325], examples_per_second: 1704.3435, train_label_loss: 0.0000, \n"
     ]
    },
    {
     "name": "stdout",
     "output_type": "stream",
     "text": [
      "epoch: 12, [batch: 3795 / 6325], examples_per_second: 1767.2913, train_label_loss: 0.0000, \n"
     ]
    },
    {
     "name": "stdout",
     "output_type": "stream",
     "text": [
      "epoch: 12, [batch: 4427 / 6325], examples_per_second: 1956.2840, train_label_loss: 0.0001, \n"
     ]
    },
    {
     "name": "stdout",
     "output_type": "stream",
     "text": [
      "epoch: 12, [batch: 5060 / 6325], examples_per_second: 1692.3275, train_label_loss: 0.0000, \n"
     ]
    },
    {
     "name": "stdout",
     "output_type": "stream",
     "text": [
      "epoch: 12, [batch: 5692 / 6325], examples_per_second: 1684.6870, train_label_loss: 0.0000, \n"
     ]
    },
    {
     "name": "stdout",
     "output_type": "stream",
     "text": [
      "=============================================================\n",
      "epoch: 12, source_val_acc_label: 0.9994, target_val_acc_label: 0.2825, source_val_label_loss: 0.0086, target_val_label_loss: 2.9253, \n",
      "=============================================================\n"
     ]
    },
    {
     "name": "stdout",
     "output_type": "stream",
     "text": [
      "epoch: 13, [batch: 1 / 6318], examples_per_second: 1.5339, train_label_loss: 0.0000, \n"
     ]
    },
    {
     "name": "stdout",
     "output_type": "stream",
     "text": [
      "epoch: 13, [batch: 632 / 6318], examples_per_second: 1889.8866, train_label_loss: 0.0000, \n"
     ]
    },
    {
     "name": "stdout",
     "output_type": "stream",
     "text": [
      "epoch: 13, [batch: 1264 / 6318], examples_per_second: 1842.7179, train_label_loss: 0.0041, \n"
     ]
    },
    {
     "name": "stdout",
     "output_type": "stream",
     "text": [
      "epoch: 13, [batch: 1896 / 6318], examples_per_second: 1722.8414, train_label_loss: 0.0000, \n"
     ]
    },
    {
     "name": "stdout",
     "output_type": "stream",
     "text": [
      "epoch: 13, [batch: 2527 / 6318], examples_per_second: 1952.6004, train_label_loss: 0.0000, \n"
     ]
    },
    {
     "name": "stdout",
     "output_type": "stream",
     "text": [
      "epoch: 13, [batch: 3159 / 6318], examples_per_second: 1673.9996, train_label_loss: 0.0000, \n"
     ]
    },
    {
     "name": "stdout",
     "output_type": "stream",
     "text": [
      "epoch: 13, [batch: 3791 / 6318], examples_per_second: 1681.3143, train_label_loss: 0.0000, \n"
     ]
    },
    {
     "name": "stdout",
     "output_type": "stream",
     "text": [
      "epoch: 13, [batch: 4422 / 6318], examples_per_second: 2035.9771, train_label_loss: 0.0000, \n"
     ]
    },
    {
     "name": "stdout",
     "output_type": "stream",
     "text": [
      "epoch: 13, [batch: 5054 / 6318], examples_per_second: 1676.8127, train_label_loss: 0.0000, \n"
     ]
    },
    {
     "name": "stdout",
     "output_type": "stream",
     "text": [
      "epoch: 13, [batch: 5686 / 6318], examples_per_second: 1678.8303, train_label_loss: 0.0000, \n"
     ]
    },
    {
     "name": "stdout",
     "output_type": "stream",
     "text": [
      "=============================================================\n",
      "epoch: 13, source_val_acc_label: 0.9996, target_val_acc_label: 0.3006, source_val_label_loss: 0.0055, target_val_label_loss: 3.0916, \n",
      "=============================================================\n"
     ]
    },
    {
     "name": "stdout",
     "output_type": "stream",
     "text": [
      "epoch: 14, [batch: 1 / 6312], examples_per_second: 2.1734, train_label_loss: 0.0000, \n"
     ]
    },
    {
     "name": "stdout",
     "output_type": "stream",
     "text": [
      "epoch: 14, [batch: 632 / 6312], examples_per_second: 4082.1290, train_label_loss: 0.0000, \n"
     ]
    },
    {
     "name": "stdout",
     "output_type": "stream",
     "text": [
      "epoch: 14, [batch: 1263 / 6312], examples_per_second: 4366.1509, train_label_loss: 0.0000, \n"
     ]
    },
    {
     "name": "stdout",
     "output_type": "stream",
     "text": [
      "epoch: 14, [batch: 1894 / 6312], examples_per_second: 3912.9737, train_label_loss: 0.0000, \n"
     ]
    },
    {
     "name": "stdout",
     "output_type": "stream",
     "text": [
      "epoch: 14, [batch: 2525 / 6312], examples_per_second: 3959.7502, train_label_loss: 0.0000, \n"
     ]
    },
    {
     "name": "stdout",
     "output_type": "stream",
     "text": [
      "epoch: 14, [batch: 3156 / 6312], examples_per_second: 3830.5440, train_label_loss: 0.0001, \n"
     ]
    },
    {
     "name": "stdout",
     "output_type": "stream",
     "text": [
      "epoch: 14, [batch: 3787 / 6312], examples_per_second: 3763.2800, train_label_loss: 0.0000, \n"
     ]
    },
    {
     "name": "stdout",
     "output_type": "stream",
     "text": [
      "epoch: 14, [batch: 4418 / 6312], examples_per_second: 3932.0812, train_label_loss: 0.0000, \n"
     ]
    },
    {
     "name": "stdout",
     "output_type": "stream",
     "text": [
      "epoch: 14, [batch: 5049 / 6312], examples_per_second: 3936.0436, train_label_loss: 0.0000, \n"
     ]
    },
    {
     "name": "stdout",
     "output_type": "stream",
     "text": [
      "epoch: 14, [batch: 5680 / 6312], examples_per_second: 4044.1770, train_label_loss: 0.0000, \n"
     ]
    },
    {
     "name": "stdout",
     "output_type": "stream",
     "text": [
      "=============================================================\n",
      "epoch: 14, source_val_acc_label: 0.9995, target_val_acc_label: 0.2725, source_val_label_loss: 0.0087, target_val_label_loss: 3.6627, \n",
      "=============================================================\n"
     ]
    },
    {
     "name": "stdout",
     "output_type": "stream",
     "text": [
      "epoch: 15, [batch: 1 / 6314], examples_per_second: 1.7369, train_label_loss: 0.0000, \n"
     ]
    },
    {
     "name": "stdout",
     "output_type": "stream",
     "text": [
      "epoch: 15, [batch: 632 / 6314], examples_per_second: 1922.4831, train_label_loss: 0.0000, \n"
     ]
    },
    {
     "name": "stdout",
     "output_type": "stream",
     "text": [
      "epoch: 15, [batch: 1263 / 6314], examples_per_second: 1737.5070, train_label_loss: 0.0001, \n"
     ]
    },
    {
     "name": "stdout",
     "output_type": "stream",
     "text": [
      "epoch: 15, [batch: 1894 / 6314], examples_per_second: 1713.9798, train_label_loss: 0.0000, \n"
     ]
    },
    {
     "name": "stdout",
     "output_type": "stream",
     "text": [
      "epoch: 15, [batch: 2526 / 6314], examples_per_second: 2058.7261, train_label_loss: 0.0003, \n"
     ]
    },
    {
     "name": "stdout",
     "output_type": "stream",
     "text": [
      "epoch: 15, [batch: 3157 / 6314], examples_per_second: 1685.8829, train_label_loss: 0.0000, \n"
     ]
    },
    {
     "name": "stdout",
     "output_type": "stream",
     "text": [
      "epoch: 15, [batch: 3788 / 6314], examples_per_second: 1684.7741, train_label_loss: 0.0000, \n"
     ]
    },
    {
     "name": "stdout",
     "output_type": "stream",
     "text": [
      "epoch: 15, [batch: 4420 / 6314], examples_per_second: 2022.5010, train_label_loss: 0.0000, \n"
     ]
    },
    {
     "name": "stdout",
     "output_type": "stream",
     "text": [
      "epoch: 15, [batch: 5051 / 6314], examples_per_second: 1724.5960, train_label_loss: 0.0000, \n"
     ]
    },
    {
     "name": "stdout",
     "output_type": "stream",
     "text": [
      "epoch: 15, [batch: 5682 / 6314], examples_per_second: 1684.6491, train_label_loss: 0.0000, \n"
     ]
    },
    {
     "name": "stdout",
     "output_type": "stream",
     "text": [
      "=============================================================\n",
      "epoch: 15, source_val_acc_label: 0.9997, target_val_acc_label: 0.2981, source_val_label_loss: 0.0072, target_val_label_loss: 3.2619, \n",
      "=============================================================\n"
     ]
    },
    {
     "name": "stdout",
     "output_type": "stream",
     "text": [
      "Patience (3) exhausted\n"
     ]
    }
   ],
   "source": [
    "###################################\n",
    "# train\n",
    "###################################\n",
    "jig = PTN_Train_Eval_Test_Jig(model, p.BEST_MODEL_PATH, p.device)\n",
    "\n",
    "jig.train(\n",
    "    train_iterable=datasets.source.processed.train,\n",
    "    source_val_iterable=datasets.source.processed.val,\n",
    "    target_val_iterable=datasets.target.processed.val,\n",
    "    num_epochs=p.n_epoch,\n",
    "    num_logs_per_epoch=p.NUM_LOGS_PER_EPOCH,\n",
    "    patience=p.patience,\n",
    "    optimizer=optimizer,\n",
    "    criteria_for_best=p.criteria_for_best,\n",
    ")"
   ]
  },
  {
   "cell_type": "code",
   "execution_count": 23,
   "id": "31e8fabf",
   "metadata": {
    "execution": {
     "iopub.execute_input": "2022-03-28T00:04:17.918293Z",
     "iopub.status.busy": "2022-03-28T00:04:17.914659Z",
     "iopub.status.idle": "2022-03-28T00:04:18.089983Z",
     "shell.execute_reply": "2022-03-28T00:04:18.090664Z"
    },
    "papermill": {
     "duration": 0.263441,
     "end_time": "2022-03-28T00:04:18.090853",
     "exception": false,
     "start_time": "2022-03-28T00:04:17.827412",
     "status": "completed"
    },
    "tags": []
   },
   "outputs": [],
   "source": [
    "total_experiment_time_secs = time.time() - start_time_secs"
   ]
  },
  {
   "cell_type": "code",
   "execution_count": 24,
   "id": "87b9595b",
   "metadata": {
    "execution": {
     "iopub.execute_input": "2022-03-28T00:04:18.242198Z",
     "iopub.status.busy": "2022-03-28T00:04:18.241341Z",
     "iopub.status.idle": "2022-03-28T00:10:17.448577Z",
     "shell.execute_reply": "2022-03-28T00:10:17.449243Z"
    },
    "papermill": {
     "duration": 359.286215,
     "end_time": "2022-03-28T00:10:17.449485",
     "exception": false,
     "start_time": "2022-03-28T00:04:18.163270",
     "status": "completed"
    },
    "tags": []
   },
   "outputs": [],
   "source": [
    "###################################\n",
    "# Evaluate the model\n",
    "###################################\n",
    "source_test_label_accuracy, source_test_label_loss = jig.test(datasets.source.processed.test)\n",
    "target_test_label_accuracy, target_test_label_loss = jig.test(datasets.target.processed.test)\n",
    "\n",
    "source_val_label_accuracy, source_val_label_loss = jig.test(datasets.source.processed.val)\n",
    "target_val_label_accuracy, target_val_label_loss = jig.test(datasets.target.processed.val)\n",
    "\n",
    "history = jig.get_history()\n",
    "\n",
    "total_epochs_trained = len(history[\"epoch_indices\"])\n",
    "\n",
    "val_dl = Iterable_Aggregator((datasets.source.original.val,datasets.target.original.val))\n",
    "\n",
    "confusion = ptn_confusion_by_domain_over_dataloader(model, p.device, val_dl)\n",
    "per_domain_accuracy = per_domain_accuracy_from_confusion(confusion)\n",
    "\n",
    "# Add a key to per_domain_accuracy for if it was a source domain\n",
    "for domain, accuracy in per_domain_accuracy.items():\n",
    "    per_domain_accuracy[domain] = {\n",
    "        \"accuracy\": accuracy,\n",
    "        \"source?\": domain in p.domains_source\n",
    "    }\n",
    "\n",
    "# Do an independent accuracy assesment JUST TO BE SURE!\n",
    "# _source_test_label_accuracy = independent_accuracy_assesment(model, datasets.source.processed.test, p.device)\n",
    "# _target_test_label_accuracy = independent_accuracy_assesment(model, datasets.target.processed.test, p.device)\n",
    "# _source_val_label_accuracy = independent_accuracy_assesment(model, datasets.source.processed.val, p.device)\n",
    "# _target_val_label_accuracy = independent_accuracy_assesment(model, datasets.target.processed.val, p.device)\n",
    "\n",
    "# assert(_source_test_label_accuracy == source_test_label_accuracy)\n",
    "# assert(_target_test_label_accuracy == target_test_label_accuracy)\n",
    "# assert(_source_val_label_accuracy == source_val_label_accuracy)\n",
    "# assert(_target_val_label_accuracy == target_val_label_accuracy)\n",
    "\n",
    "experiment = {\n",
    "    \"experiment_name\": p.experiment_name,\n",
    "    \"parameters\": dict(p),\n",
    "    \"results\": {\n",
    "        \"source_test_label_accuracy\": source_test_label_accuracy,\n",
    "        \"source_test_label_loss\": source_test_label_loss,\n",
    "        \"target_test_label_accuracy\": target_test_label_accuracy,\n",
    "        \"target_test_label_loss\": target_test_label_loss,\n",
    "        \"source_val_label_accuracy\": source_val_label_accuracy,\n",
    "        \"source_val_label_loss\": source_val_label_loss,\n",
    "        \"target_val_label_accuracy\": target_val_label_accuracy,\n",
    "        \"target_val_label_loss\": target_val_label_loss,\n",
    "        \"total_epochs_trained\": total_epochs_trained,\n",
    "        \"total_experiment_time_secs\": total_experiment_time_secs,\n",
    "        \"confusion\": confusion,\n",
    "        \"per_domain_accuracy\": per_domain_accuracy,\n",
    "    },\n",
    "    \"history\": history,\n",
    "    \"dataset_metrics\": get_dataset_metrics(datasets, \"ptn\"),\n",
    "}"
   ]
  },
  {
   "cell_type": "code",
   "execution_count": 25,
   "id": "54a21829",
   "metadata": {
    "execution": {
     "iopub.execute_input": "2022-03-28T00:10:17.611654Z",
     "iopub.status.busy": "2022-03-28T00:10:17.611263Z",
     "iopub.status.idle": "2022-03-28T00:10:18.075752Z",
     "shell.execute_reply": "2022-03-28T00:10:18.076431Z"
    },
    "papermill": {
     "duration": 0.543257,
     "end_time": "2022-03-28T00:10:18.076654",
     "exception": false,
     "start_time": "2022-03-28T00:10:17.533397",
     "status": "completed"
    },
    "tags": []
   },
   "outputs": [
    {
     "data": {
      "image/png": "[encoded data removed]",
      "text/plain": [
       "<Figure size 1080x504 with 1 Axes>"
      ]
     },
     "metadata": {
      "needs_background": "light"
     },
     "output_type": "display_data"
    }
   ],
   "source": [
    "ax = get_loss_curve(experiment)\n",
    "plt.show()"
   ]
  },
  {
   "cell_type": "code",
   "execution_count": 26,
   "id": "fd8a0f60",
   "metadata": {
    "execution": {
     "iopub.execute_input": "2022-03-28T00:10:18.228213Z",
     "iopub.status.busy": "2022-03-28T00:10:18.227833Z",
     "iopub.status.idle": "2022-03-28T00:10:18.582995Z",
     "shell.execute_reply": "2022-03-28T00:10:18.583707Z"
    },
    "papermill": {
     "duration": 0.431275,
     "end_time": "2022-03-28T00:10:18.583930",
     "exception": false,
     "start_time": "2022-03-28T00:10:18.152655",
     "status": "completed"
    },
    "tags": []
   },
   "outputs": [
    {
     "data": {
      "text/plain": [
       "<AxesSubplot:title={'center':'Results'}>"
      ]
     },
     "execution_count": 26,
     "metadata": {},
     "output_type": "execute_result"
    },
    {
     "data": {
      "image/png": "[encoded data removed]",
      "text/plain": [
       "<Figure size 1080x504 with 1 Axes>"
      ]
     },
     "metadata": {
      "needs_background": "light"
     },
     "output_type": "display_data"
    }
   ],
   "source": [
    "get_results_table(experiment)"
   ]
  },
  {
   "cell_type": "code",
   "execution_count": 27,
   "id": "cf8dc689",
   "metadata": {
    "execution": {
     "iopub.execute_input": "2022-03-28T00:10:18.748853Z",
     "iopub.status.busy": "2022-03-28T00:10:18.748449Z",
     "iopub.status.idle": "2022-03-28T00:10:19.071766Z",
     "shell.execute_reply": "2022-03-28T00:10:19.072446Z"
    },
    "papermill": {
     "duration": 0.409159,
     "end_time": "2022-03-28T00:10:19.072663",
     "exception": false,
     "start_time": "2022-03-28T00:10:18.663504",
     "status": "completed"
    },
    "tags": []
   },
   "outputs": [
    {
     "data": {
      "text/plain": [
       "<AxesSubplot:title={'center':'Per Domain Validation Accuracy'}, xlabel='domain'>"
      ]
     },
     "execution_count": 27,
     "metadata": {},
     "output_type": "execute_result"
    },
    {
     "data": {
      "image/png": "[encoded data removed]",
      "text/plain": [
       "<Figure size 1080x504 with 1 Axes>"
      ]
     },
     "metadata": {
      "needs_background": "light"
     },
     "output_type": "display_data"
    }
   ],
   "source": [
    "get_domain_accuracies(experiment)"
   ]
  },
  {
   "cell_type": "code",
   "execution_count": 28,
   "id": "a74ae082",
   "metadata": {
    "execution": {
     "iopub.execute_input": "2022-03-28T00:10:19.233909Z",
     "iopub.status.busy": "2022-03-28T00:10:19.233346Z",
     "iopub.status.idle": "2022-03-28T00:10:19.260030Z",
     "shell.execute_reply": "2022-03-28T00:10:19.260709Z"
    },
    "papermill": {
     "duration": 0.105148,
     "end_time": "2022-03-28T00:10:19.260911",
     "exception": false,
     "start_time": "2022-03-28T00:10:19.155763",
     "status": "completed"
    },
    "tags": []
   },
   "outputs": [
    {
     "name": "stdout",
     "output_type": "stream",
     "text": [
      "Source Test Label Accuracy: 0.9993290960451977 Target Test Label Accuracy: 0.32366536458333334\n",
      "Source Val Label Accuracy: 0.9987857142857143 Target Val Label Accuracy: 0.32623697916666666\n"
     ]
    }
   ],
   "source": [
    "print(\"Source Test Label Accuracy:\", experiment[\"results\"][\"source_test_label_accuracy\"], \"Target Test Label Accuracy:\", experiment[\"results\"][\"target_test_label_accuracy\"])\n",
    "print(\"Source Val Label Accuracy:\", experiment[\"results\"][\"source_val_label_accuracy\"], \"Target Val Label Accuracy:\", experiment[\"results\"][\"target_val_label_accuracy\"])"
   ]
  },
  {
   "cell_type": "code",
   "execution_count": 29,
   "id": "dacca602",
   "metadata": {
    "execution": {
     "iopub.execute_input": "2022-03-28T00:10:19.418435Z",
     "iopub.status.busy": "2022-03-28T00:10:19.418067Z",
     "iopub.status.idle": "2022-03-28T00:10:19.445761Z",
     "shell.execute_reply": "2022-03-28T00:10:19.446440Z"
    },
    "papermill": {
     "duration": 0.105731,
     "end_time": "2022-03-28T00:10:19.446655",
     "exception": false,
     "start_time": "2022-03-28T00:10:19.340924",
     "status": "completed"
    },
    "tags": [
     "experiment_json"
    ]
   },
   "outputs": [
    {
     "data": {
      "text/plain": [
       "'{\"experiment_name\": \"tl_3-jitter1v2:cores -> oracle.run1.framed\", \"parameters\": {\"experiment_name\": \"tl_3-jitter1v2:cores -> oracle.run1.framed\", \"device\": \"cuda\", \"lr\": 0.0001, \"x_shape\": [2, 256], \"n_shot\": 3, \"n_query\": 2, \"train_k_factor\": 3, \"val_k_factor\": 2, \"test_k_factor\": 2, \"torch_default_dtype\": \"torch.float32\", \"n_epoch\": 50, \"patience\": 3, \"criteria_for_best\": \"target_accuracy\", \"x_net\": [{\"class\": \"nnReshape\", \"kargs\": {\"shape\": [-1, 1, 2, 256]}}, {\"class\": \"Conv2d\", \"kargs\": {\"in_channels\": 1, \"out_channels\": 256, \"kernel_size\": [1, 7], \"bias\": false, \"padding\": [0, 3]}}, {\"class\": \"ReLU\", \"kargs\": {\"inplace\": true}}, {\"class\": \"BatchNorm2d\", \"kargs\": {\"num_features\": 256}}, {\"class\": \"Conv2d\", \"kargs\": {\"in_channels\": 256, \"out_channels\": 80, \"kernel_size\": [2, 7], \"bias\": true, \"padding\": [0, 3]}}, {\"class\": \"ReLU\", \"kargs\": {\"inplace\": true}}, {\"class\": \"BatchNorm2d\", \"kargs\": {\"num_features\": 80}}, {\"class\": \"Flatten\", \"kargs\": {}}, {\"class\": \"Linear\", \"kargs\": {\"in_features\": 20480, \"out_features\": 256}}, {\"class\": \"ReLU\", \"kargs\": {\"inplace\": true}}, {\"class\": \"BatchNorm1d\", \"kargs\": {\"num_features\": 256}}, {\"class\": \"Linear\", \"kargs\": {\"in_features\": 256, \"out_features\": 256}}], \"NUM_LOGS_PER_EPOCH\": 10, \"BEST_MODEL_PATH\": \"./best_model.pth\", \"n_way\": 16, \"datasets\": [{\"labels\": [\"1-10.\", \"1-11.\", \"1-15.\", \"1-16.\", \"1-17.\", \"1-18.\", \"1-19.\", \"10-4.\", \"10-7.\", \"11-1.\", \"11-14.\", \"11-17.\", \"11-20.\", \"11-7.\", \"13-20.\", \"13-8.\", \"14-10.\", \"14-11.\", \"14-14.\", \"14-7.\", \"15-1.\", \"15-20.\", \"16-1.\", \"16-16.\", \"17-10.\", \"17-11.\", \"17-2.\", \"19-1.\", \"19-16.\", \"19-19.\", \"19-20.\", \"19-3.\", \"2-10.\", \"2-11.\", \"2-17.\", \"2-18.\", \"2-20.\", \"2-3.\", \"2-4.\", \"2-5.\", \"2-6.\", \"2-7.\", \"2-8.\", \"3-13.\", \"3-18.\", \"3-3.\", \"4-1.\", \"4-10.\", \"4-11.\", \"4-19.\", \"5-5.\", \"6-15.\", \"7-10.\", \"7-14.\", \"8-18.\", \"8-20.\", \"8-3.\", \"8-8.\"], \"domains\": [1, 2, 3, 4, 5], \"num_examples_per_domain_per_label\": -1, \"pickle_path\": \"/root/csc500-main/datasets/cores.stratified_ds.2022A.pkl\", \"source_or_target_dataset\": \"source\", \"x_transforms\": [\"unit_power\", \"jitter_256_1\", \"lowpass_+/-10MHz\", \"take_200\"], \"episode_transforms\": [], \"domain_prefix\": \"C_\"}, {\"labels\": [\"3123D52\", \"3123D65\", \"3123D79\", \"3123D80\", \"3123D54\", \"3123D70\", \"3123D7B\", \"3123D89\", \"3123D58\", \"3123D76\", \"3123D7D\", \"3123EFE\", \"3123D64\", \"3123D78\", \"3123D7E\", \"3124E4A\"], \"domains\": [32, 38, 8, 44, 14, 50, 20, 26], \"num_examples_per_domain_per_label\": 2000, \"pickle_path\": \"/root/csc500-main/datasets/oracle.Run1_framed_2000Examples_stratified_ds.2022A.pkl\", \"source_or_target_dataset\": \"target\", \"x_transforms\": [\"unit_power\", \"jitter_256_1\", \"take_200\", \"resample_20Msps_to_25Msps\"], \"episode_transforms\": [], \"domain_prefix\": \"O_\"}], \"seed\": 7, \"dataset_seed\": 7, \"domains_source\": [\"C_1\", \"C_2\", \"C_3\", \"C_4\", \"C_5\"], \"domains_target\": [\"O_32\", \"O_38\", \"O_8\", \"O_44\", \"O_14\", \"O_50\", \"O_20\", \"O_26\"]}, \"results\": {\"source_test_label_accuracy\": 0.9993290960451977, \"source_test_label_loss\": 0.0068513075821101665, \"target_test_label_accuracy\": 0.32366536458333334, \"target_test_label_loss\": 2.682640790939331, \"source_val_label_accuracy\": 0.9987857142857143, \"source_val_label_loss\": 0.008173899725079536, \"target_val_label_accuracy\": 0.32623697916666666, \"target_val_label_loss\": 2.6476778984069824, \"total_epochs_trained\": 15, \"total_experiment_time_secs\": 4567.41160774231, \"confusion\": {\"C_5\": {\"26\": {\"26\": 24}, \"7\": {\"7\": 32}, \"56\": {\"56\": 142}, \"36\": {\"36\": 92}, \"47\": {\"47\": 100}, \"2\": {\"2\": 28}, \"15\": {\"15\": 152}, \"14\": {\"14\": 42, \"47\": 1, \"46\": 1}, \"27\": {\"27\": 146}, \"40\": {\"40\": 124}, \"49\": {\"49\": 36}, \"45\": {\"45\": 124}, \"46\": {\"46\": 136}, \"11\": {\"11\": 129, \"15\": 1}, \"30\": {\"30\": 112}, \"0\": {\"0\": 124}, \"10\": {\"10\": 68}, \"1\": {\"1\": 148}, \"42\": {\"42\": 38, \"10\": 1, \"3\": 1}, \"54\": {\"54\": 112}, \"55\": {\"55\": 152}, \"23\": {\"23\": 124}, \"25\": {\"25\": 152}, \"28\": {\"28\": 32}, \"32\": {\"32\": 32}, \"9\": {\"9\": 142}, \"39\": {\"39\": 20}, \"3\": {\"3\": 100}, \"29\": {\"29\": 118}, \"17\": {\"17\": 116}, \"35\": {\"35\": 36}, \"44\": {\"44\": 152}, \"5\": {\"5\": 128}, \"33\": {\"33\": 32}, \"34\": {\"34\": 36}, \"13\": {\"13\": 138}, \"41\": {\"41\": 28}, \"6\": {\"6\": 128}, \"51\": {\"51\": 138}, \"50\": {\"50\": 144}, \"37\": {\"37\": 24}, \"19\": {\"19\": 144}, \"57\": {\"57\": 132}, \"21\": {\"21\": 144}, \"24\": {\"24\": 76, \"43\": 3, \"16\": 1}, \"8\": {\"8\": 130}, \"12\": {\"12\": 96}, \"48\": {\"48\": 132}, \"43\": {\"43\": 150}, \"53\": {\"53\": 148}, \"38\": {\"38\": 32}, \"16\": {\"16\": 142}, \"22\": {\"22\": 28}, \"4\": {\"4\": 100}, \"18\": {\"18\": 64}, \"20\": {\"20\": 144}, \"52\": {\"52\": 140}, \"31\": {\"31\": 36}}, \"C_1\": {\"41\": {\"41\": 24}, \"40\": {\"40\": 110}, \"45\": {\"45\": 138}, \"51\": {\"51\": 148}, \"5\": {\"5\": 154}, \"30\": {\"30\": 120}, \"42\": {\"42\": 40}, \"46\": {\"46\": 136}, \"48\": {\"48\": 134}, \"53\": {\"53\": 144}, \"47\": {\"47\": 152}, \"49\": {\"49\": 32}, \"36\": {\"36\": 64}, \"32\": {\"32\": 32}, \"34\": {\"34\": 24}, \"29\": {\"29\": 140}, \"35\": {\"35\": 36}, \"3\": {\"3\": 134}, \"16\": {\"16\": 139, \"36\": 1}, \"26\": {\"26\": 24}, \"57\": {\"57\": 143, \"56\": 1}, \"44\": {\"44\": 128}, \"0\": {\"0\": 152}, \"4\": {\"4\": 132}, \"31\": {\"31\": 28}, \"11\": {\"11\": 140}, \"6\": {\"6\": 96}, \"54\": {\"54\": 104}, \"17\": {\"17\": 64}, \"20\": {\"20\": 128}, \"13\": {\"13\": 150}, \"33\": {\"33\": 32}, \"24\": {\"24\": 97, \"22\": 8, \"10\": 1, \"11\": 2}, \"52\": {\"52\": 132}, \"2\": {\"2\": 36}, \"19\": {\"19\": 156}, \"39\": {\"39\": 28}, \"8\": {\"8\": 140}, \"21\": {\"21\": 124}, \"10\": {\"10\": 96}, \"37\": {\"37\": 32}, \"25\": {\"25\": 144}, \"27\": {\"27\": 130}, \"23\": {\"23\": 136}, \"1\": {\"1\": 100}, \"50\": {\"50\": 152}, \"12\": {\"12\": 116}, \"18\": {\"18\": 72}, \"38\": {\"38\": 24}, \"14\": {\"14\": 24}, \"56\": {\"56\": 142}, \"55\": {\"55\": 160}, \"9\": {\"9\": 138}, \"15\": {\"15\": 146}, \"28\": {\"28\": 28}, \"7\": {\"7\": 28}, \"43\": {\"43\": 136}, \"22\": {\"22\": 135, \"24\": 1}}, \"C_3\": {\"1\": {\"1\": 100}, \"9\": {\"9\": 124}, \"22\": {\"22\": 136}, \"43\": {\"43\": 136}, \"49\": {\"49\": 20}, \"50\": {\"50\": 138}, \"53\": {\"53\": 136}, \"10\": {\"10\": 64}, \"48\": {\"48\": 116}, \"8\": {\"8\": 138}, \"31\": {\"31\": 28}, \"56\": {\"56\": 134}, \"25\": {\"25\": 142}, \"28\": {\"28\": 28}, \"38\": {\"38\": 28}, \"5\": {\"5\": 116}, \"12\": {\"12\": 92}, \"6\": {\"6\": 88}, \"19\": {\"19\": 152}, \"26\": {\"26\": 24}, \"32\": {\"32\": 28}, \"33\": {\"33\": 28}, \"3\": {\"3\": 116, \"36\": 2}, \"51\": {\"51\": 128}, \"16\": {\"16\": 138}, \"46\": {\"46\": 140}, \"7\": {\"7\": 36}, \"47\": {\"47\": 92}, \"39\": {\"39\": 16}, \"40\": {\"40\": 136}, \"14\": {\"14\": 40}, \"37\": {\"37\": 28}, \"2\": {\"2\": 32}, \"21\": {\"21\": 120}, \"35\": {\"35\": 28}, \"54\": {\"54\": 100}, \"52\": {\"52\": 116}, \"29\": {\"29\": 118}, \"20\": {\"20\": 132}, \"18\": {\"18\": 84}, \"11\": {\"11\": 142}, \"0\": {\"0\": 124}, \"36\": {\"36\": 100}, \"17\": {\"17\": 108}, \"30\": {\"30\": 114}, \"42\": {\"42\": 28}, \"45\": {\"45\": 59, \"33\": 1}, \"4\": {\"4\": 148}, \"23\": {\"23\": 134}, \"13\": {\"13\": 128}, \"15\": {\"15\": 128}, \"57\": {\"57\": 124}, \"27\": {\"27\": 134}, \"44\": {\"44\": 88}, \"34\": {\"34\": 32}, \"41\": {\"41\": 28}, \"24\": {\"24\": 104}, \"55\": {\"55\": 118}}, \"C_4\": {\"52\": {\"52\": 116}, \"6\": {\"6\": 112}, \"14\": {\"14\": 16}, \"49\": {\"49\": 20}, \"0\": {\"0\": 80}, \"46\": {\"46\": 155, \"47\": 1}, \"41\": {\"41\": 36}, \"24\": {\"24\": 55, \"16\": 1}, \"25\": {\"25\": 152}, \"40\": {\"40\": 138}, \"38\": {\"38\": 40}, \"13\": {\"13\": 152}, \"9\": {\"9\": 108}, \"45\": {\"45\": 96}, \"43\": {\"43\": 143, \"38\": 1}, \"10\": {\"10\": 130}, \"15\": {\"15\": 128}, \"39\": {\"39\": 20}, \"4\": {\"4\": 132}, \"53\": {\"53\": 132}, \"1\": {\"1\": 40}, \"28\": {\"28\": 32}, \"54\": {\"54\": 108}, \"21\": {\"21\": 132}, \"7\": {\"7\": 24}, \"8\": {\"8\": 136}, \"42\": {\"42\": 32}, \"11\": {\"11\": 104}, \"33\": {\"33\": 36}, \"27\": {\"27\": 142}, \"19\": {\"19\": 144}, \"2\": {\"2\": 36}, \"3\": {\"3\": 120}, \"57\": {\"57\": 100}, \"20\": {\"20\": 112}, \"23\": {\"23\": 128}, \"22\": {\"22\": 128}, \"29\": {\"29\": 124}, \"36\": {\"36\": 92}, \"51\": {\"51\": 132}, \"31\": {\"31\": 28}, \"12\": {\"12\": 92}, \"56\": {\"56\": 138}, \"5\": {\"5\": 108}, \"35\": {\"35\": 40}, \"17\": {\"17\": 80}, \"32\": {\"32\": 24}, \"47\": {\"47\": 120}, \"18\": {\"18\": 107, \"22\": 1}, \"26\": {\"26\": 24}, \"50\": {\"50\": 121, \"51\": 1}, \"55\": {\"55\": 124}, \"34\": {\"34\": 24}, \"30\": {\"30\": 43, \"12\": 1}, \"37\": {\"37\": 24}, \"44\": {\"44\": 132}, \"48\": {\"48\": 118}, \"16\": {\"16\": 96}}, \"C_2\": {\"11\": {\"11\": 130}, \"21\": {\"21\": 120}, \"19\": {\"19\": 140}, \"20\": {\"20\": 128}, \"9\": {\"9\": 140}, \"10\": {\"10\": 112}, \"37\": {\"37\": 36}, \"32\": {\"32\": 28}, \"3\": {\"3\": 92}, \"39\": {\"39\": 28}, \"45\": {\"45\": 128}, \"50\": {\"50\": 136}, \"40\": {\"40\": 140}, \"46\": {\"46\": 128}, \"12\": {\"12\": 92}, \"13\": {\"13\": 116}, \"47\": {\"47\": 132}, \"15\": {\"15\": 142}, \"54\": {\"54\": 108}, \"48\": {\"48\": 148}, \"23\": {\"23\": 141, \"2\": 1}, \"29\": {\"29\": 128}, \"38\": {\"38\": 20}, \"53\": {\"53\": 136}, \"27\": {\"27\": 150}, \"43\": {\"43\": 144}, \"35\": {\"35\": 32}, \"0\": {\"0\": 48}, \"52\": {\"52\": 124}, \"8\": {\"8\": 128}, \"24\": {\"24\": 96}, \"18\": {\"18\": 47, \"30\": 1}, \"25\": {\"25\": 148}, \"57\": {\"57\": 136}, \"55\": {\"55\": 134}, \"36\": {\"36\": 116}, \"17\": {\"17\": 104}, \"2\": {\"2\": 32}, \"34\": {\"34\": 28}, \"1\": {\"1\": 112}, \"51\": {\"51\": 136}, \"31\": {\"31\": 28}, \"49\": {\"49\": 24}, \"14\": {\"14\": 24}, \"33\": {\"33\": 28}, \"41\": {\"41\": 20}, \"28\": {\"28\": 28}, \"5\": {\"5\": 120}, \"16\": {\"16\": 150}, \"4\": {\"4\": 128}, \"22\": {\"22\": 136}, \"6\": {\"6\": 118}, \"30\": {\"30\": 124}, \"26\": {\"26\": 24}, \"56\": {\"56\": 142}, \"42\": {\"42\": 36}, \"44\": {\"44\": 100}, \"7\": {\"7\": 36}}, \"O_26\": {\"0\": {\"1\": 28, \"14\": 23, \"6\": 18, \"8\": 16, \"4\": 20, \"15\": 16, \"7\": 13, \"0\": 30, \"10\": 26, \"13\": 8, \"9\": 19, \"3\": 8, \"11\": 1, \"5\": 6, \"2\": 7, \"12\": 1}, \"4\": {\"4\": 34, \"1\": 33, \"5\": 12, \"10\": 25, \"0\": 31, \"9\": 12, \"6\": 8, \"7\": 16, \"2\": 13, \"13\": 3, \"8\": 11, \"14\": 24, \"3\": 9, \"15\": 9}, \"14\": {\"4\": 28, \"1\": 33, \"5\": 11, \"14\": 31, \"7\": 14, \"15\": 8, \"10\": 19, \"8\": 25, \"0\": 26, \"13\": 5, \"3\": 11, \"2\": 6, \"6\": 14, \"12\": 3, \"9\": 6}, \"12\": {\"12\": 191, \"10\": 2, \"11\": 33, \"4\": 2, \"0\": 4, \"1\": 2, \"9\": 2, \"6\": 3, \"13\": 1}, \"8\": {\"9\": 16, \"14\": 20, \"5\": 30, \"10\": 16, \"1\": 18, \"8\": 20, \"4\": 19, \"6\": 22, \"7\": 18, \"0\": 22, \"3\": 6, \"13\": 7, \"2\": 8, \"15\": 18}, \"7\": {\"4\": 21, \"13\": 10, \"3\": 28, \"15\": 22, \"8\": 21, \"7\": 38, \"0\": 8, \"5\": 22, \"2\": 21, \"1\": 11, \"6\": 12, \"9\": 7, \"10\": 8, \"14\": 11}, \"13\": {\"11\": 1, \"13\": 55, \"2\": 23, \"4\": 10, \"10\": 9, \"5\": 30, \"9\": 17, \"6\": 13, \"1\": 4, \"14\": 3, \"8\": 7, \"15\": 33, \"0\": 6, \"3\": 18, \"7\": 10, \"12\": 1}, \"5\": {\"5\": 37, \"13\": 34, \"7\": 19, \"15\": 17, \"3\": 19, \"2\": 33, \"9\": 15, \"8\": 11, \"6\": 14, \"10\": 12, \"4\": 7, \"0\": 7, \"1\": 9, \"14\": 4, \"11\": 2}, \"15\": {\"13\": 25, \"15\": 34, \"5\": 26, \"8\": 15, \"3\": 13, \"9\": 19, \"7\": 25, \"2\": 25, \"6\": 16, \"4\": 10, \"10\": 10, \"0\": 9, \"1\": 4, \"14\": 9}, \"10\": {\"6\": 23, \"4\": 20, \"8\": 19, \"13\": 12, \"9\": 24, \"1\": 22, \"7\": 13, \"15\": 8, \"0\": 22, \"14\": 28, \"10\": 28, \"3\": 5, \"5\": 9, \"2\": 6, \"11\": 1}, \"3\": {\"15\": 26, \"7\": 29, \"3\": 54, \"4\": 13, \"1\": 9, \"2\": 41, \"6\": 5, \"5\": 21, \"10\": 5, \"9\": 5, \"8\": 7, \"13\": 10, \"14\": 10, \"0\": 5}, \"9\": {\"0\": 20, \"8\": 16, \"9\": 27, \"3\": 7, \"10\": 13, \"15\": 23, \"4\": 8, \"6\": 33, \"5\": 15, \"1\": 10, \"2\": 13, \"13\": 21, \"12\": 3, \"14\": 13, \"7\": 18}, \"6\": {\"9\": 42, \"0\": 17, \"6\": 41, \"8\": 23, \"14\": 9, \"15\": 22, \"11\": 1, \"5\": 13, \"10\": 15, \"1\": 15, \"13\": 10, \"4\": 12, \"12\": 5, \"7\": 5, \"2\": 8, \"3\": 2}, \"1\": {\"8\": 17, \"0\": 22, \"4\": 25, \"1\": 44, \"11\": 1, \"10\": 39, \"7\": 11, \"14\": 27, \"6\": 10, \"9\": 13, \"13\": 4, \"5\": 9, \"2\": 3, \"3\": 5, \"15\": 6, \"12\": 4}, \"11\": {\"11\": 194, \"12\": 28, \"0\": 1, \"9\": 3, \"6\": 6, \"13\": 5, \"5\": 3}, \"2\": {\"14\": 10, \"13\": 18, \"8\": 14, \"7\": 26, \"3\": 43, \"2\": 33, \"5\": 26, \"15\": 15, \"9\": 14, \"10\": 13, \"4\": 14, \"6\": 5, \"0\": 8, \"1\": 1}}, \"O_44\": {\"1\": {\"1\": 56, \"2\": 19, \"12\": 62, \"3\": 57, \"10\": 37, \"7\": 8, \"9\": 1}, \"11\": {\"13\": 38, \"4\": 3, \"11\": 160, \"14\": 2, \"7\": 3, \"9\": 13, \"6\": 18, \"15\": 1, \"5\": 2}, \"3\": {\"12\": 43, \"1\": 57, \"3\": 89, \"10\": 25, \"7\": 10, \"2\": 15, \"9\": 1}, \"6\": {\"7\": 25, \"13\": 60, \"6\": 75, \"9\": 46, \"4\": 4, \"11\": 22, \"2\": 6, \"3\": 1, \"10\": 1}, \"7\": {\"9\": 60, \"11\": 1, \"1\": 11, \"3\": 11, \"10\": 14, \"2\": 52, \"13\": 6, \"6\": 24, \"7\": 58, \"4\": 2, \"15\": 1}, \"5\": {\"8\": 37, \"0\": 47, \"14\": 26, \"15\": 20, \"5\": 98, \"4\": 12}, \"2\": {\"7\": 43, \"10\": 40, \"1\": 27, \"2\": 67, \"12\": 14, \"9\": 16, \"6\": 12, \"3\": 20, \"13\": 1}, \"15\": {\"14\": 34, \"15\": 77, \"4\": 32, \"8\": 37, \"0\": 43, \"5\": 17}, \"10\": {\"1\": 34, \"12\": 44, \"10\": 87, \"2\": 42, \"3\": 21, \"7\": 10, \"9\": 2}, \"13\": {\"6\": 45, \"4\": 11, \"13\": 94, \"11\": 33, \"9\": 29, \"7\": 11, \"15\": 1, \"2\": 6, \"14\": 7, \"5\": 2, \"0\": 1}, \"8\": {\"0\": 81, \"8\": 85, \"5\": 29, \"15\": 28, \"14\": 13, \"4\": 4}, \"4\": {\"14\": 81, \"5\": 9, \"0\": 5, \"4\": 73, \"15\": 33, \"13\": 23, \"9\": 6, \"11\": 2, \"6\": 4, \"8\": 1, \"7\": 3}, \"9\": {\"9\": 80, \"13\": 38, \"7\": 45, \"6\": 39, \"2\": 19, \"4\": 7, \"14\": 3, \"3\": 4, \"11\": 3, \"1\": 1, \"10\": 1}, \"14\": {\"4\": 66, \"14\": 87, \"8\": 11, \"0\": 15, \"15\": 33, \"5\": 18, \"13\": 9, \"9\": 1}, \"0\": {\"5\": 48, \"8\": 69, \"14\": 21, \"15\": 31, \"0\": 68, \"4\": 3}, \"12\": {\"10\": 44, \"1\": 60, \"12\": 77, \"3\": 42, \"2\": 16, \"7\": 1}}, \"O_50\": {\"15\": {\"6\": 21, \"10\": 1, \"15\": 73, \"1\": 54, \"11\": 27, \"4\": 34, \"2\": 6, \"14\": 11, \"5\": 3, \"7\": 1, \"13\": 5, \"0\": 1, \"9\": 3}, \"4\": {\"5\": 23, \"1\": 46, \"4\": 59, \"15\": 35, \"6\": 20, \"2\": 10, \"14\": 3, \"11\": 5, \"7\": 11, \"13\": 13, \"0\": 12, \"10\": 2, \"8\": 1}, \"6\": {\"6\": 65, \"1\": 34, \"4\": 20, \"0\": 13, \"15\": 30, \"13\": 33, \"10\": 4, \"7\": 13, \"5\": 17, \"11\": 1, \"14\": 1, \"2\": 9}, \"2\": {\"2\": 134, \"1\": 24, \"0\": 47, \"13\": 5, \"5\": 4, \"11\": 1, \"6\": 8, \"15\": 7, \"14\": 4, \"4\": 4, \"10\": 2}, \"5\": {\"5\": 44, \"7\": 32, \"10\": 28, \"13\": 41, \"6\": 18, \"0\": 19, \"4\": 27, \"2\": 4, \"8\": 8, \"15\": 4, \"1\": 15}, \"9\": {\"11\": 41, \"9\": 106, \"14\": 37, \"12\": 49, \"1\": 2, \"15\": 5}, \"8\": {\"10\": 38, \"3\": 35, \"0\": 8, \"8\": 127, \"7\": 21, \"5\": 5, \"13\": 4, \"2\": 2}, \"12\": {\"11\": 18, \"12\": 134, \"9\": 46, \"14\": 42}, \"10\": {\"10\": 66, \"5\": 24, \"0\": 29, \"13\": 30, \"6\": 7, \"8\": 42, \"7\": 35, \"1\": 1, \"2\": 2, \"3\": 2, \"4\": 2}, \"1\": {\"4\": 43, \"5\": 10, \"13\": 7, \"15\": 47, \"2\": 16, \"0\": 9, \"1\": 66, \"6\": 18, \"10\": 1, \"14\": 6, \"7\": 4, \"11\": 11, \"9\": 2}, \"0\": {\"8\": 6, \"10\": 27, \"4\": 11, \"0\": 91, \"2\": 53, \"1\": 10, \"13\": 14, \"15\": 4, \"6\": 14, \"5\": 7, \"7\": 3}, \"3\": {\"3\": 188, \"8\": 48, \"5\": 1, \"7\": 3}, \"13\": {\"13\": 47, \"7\": 48, \"0\": 9, \"10\": 37, \"5\": 30, \"6\": 32, \"4\": 23, \"8\": 5, \"2\": 2, \"1\": 6, \"15\": 1}, \"11\": {\"12\": 9, \"11\": 94, \"14\": 51, \"9\": 49, \"15\": 22, \"4\": 2, \"1\": 11, \"5\": 1, \"6\": 1}, \"7\": {\"13\": 55, \"5\": 20, \"10\": 42, \"7\": 79, \"8\": 15, \"6\": 14, \"3\": 3, \"4\": 4, \"15\": 2, \"0\": 6}, \"14\": {\"12\": 35, \"9\": 33, \"14\": 110, \"11\": 45, \"1\": 6, \"15\": 7, \"4\": 1, \"2\": 3}}, \"O_38\": {\"15\": {\"7\": 4, \"8\": 27, \"13\": 45, \"15\": 60, \"1\": 34, \"5\": 18, \"10\": 25, \"2\": 14, \"14\": 1, \"6\": 1, \"0\": 11}, \"11\": {\"11\": 116, \"14\": 64, \"2\": 27, \"12\": 12, \"10\": 16, \"13\": 2, \"15\": 1, \"4\": 2}, \"10\": {\"11\": 14, \"13\": 34, \"15\": 28, \"14\": 8, \"10\": 72, \"12\": 10, \"2\": 22, \"0\": 7, \"1\": 3, \"7\": 8, \"8\": 20, \"5\": 11, \"4\": 3}, \"14\": {\"14\": 111, \"11\": 75, \"2\": 32, \"12\": 8, \"10\": 11, \"13\": 3}, \"6\": {\"7\": 10, \"9\": 78, \"1\": 18, \"5\": 10, \"6\": 88, \"0\": 8, \"3\": 23, \"8\": 5}, \"4\": {\"4\": 140, \"13\": 2, \"12\": 71, \"0\": 6, \"7\": 5, \"15\": 1, \"10\": 9, \"8\": 2, \"14\": 2, \"11\": 2}, \"13\": {\"10\": 40, \"8\": 15, \"13\": 70, \"1\": 17, \"15\": 37, \"7\": 6, \"5\": 10, \"2\": 24, \"0\": 6, \"11\": 5, \"14\": 8, \"12\": 1, \"6\": 1}, \"3\": {\"9\": 47, \"3\": 148, \"0\": 10, \"5\": 5, \"6\": 18, \"7\": 5, \"1\": 4, \"8\": 3}, \"7\": {\"0\": 43, \"5\": 40, \"8\": 28, \"3\": 4, \"7\": 72, \"13\": 3, \"6\": 8, \"9\": 10, \"10\": 13, \"15\": 9, \"1\": 6, \"4\": 3, \"12\": 1}, \"8\": {\"8\": 53, \"5\": 38, \"15\": 28, \"0\": 41, \"7\": 27, \"1\": 22, \"6\": 4, \"13\": 13, \"10\": 7, \"9\": 2, \"12\": 2, \"3\": 2, \"2\": 1}, \"1\": {\"1\": 112, \"15\": 37, \"9\": 8, \"0\": 11, \"5\": 22, \"8\": 26, \"13\": 11, \"6\": 11, \"3\": 1, \"7\": 1}, \"5\": {\"5\": 47, \"8\": 28, \"1\": 27, \"9\": 12, \"0\": 45, \"7\": 28, \"6\": 15, \"13\": 8, \"15\": 17, \"10\": 7, \"3\": 6}, \"0\": {\"3\": 13, \"6\": 9, \"9\": 8, \"7\": 36, \"1\": 13, \"5\": 25, \"13\": 4, \"8\": 45, \"0\": 60, \"15\": 13, \"10\": 7, \"12\": 5, \"4\": 2}, \"2\": {\"2\": 112, \"11\": 24, \"14\": 43, \"13\": 24, \"15\": 12, \"10\": 22, \"7\": 1, \"1\": 2}, \"12\": {\"12\": 158, \"14\": 7, \"7\": 1, \"4\": 42, \"0\": 3, \"10\": 11, \"11\": 9, \"2\": 2, \"13\": 2, \"8\": 3, \"15\": 2}, \"9\": {\"1\": 13, \"9\": 90, \"5\": 12, \"6\": 83, \"3\": 26, \"8\": 4, \"7\": 9, \"0\": 3}}, \"O_20\": {\"10\": {\"10\": 52, \"7\": 20, \"8\": 15, \"2\": 9, \"4\": 21, \"14\": 38, \"9\": 8, \"12\": 10, \"3\": 18, \"0\": 7, \"13\": 6, \"15\": 7, \"5\": 7, \"1\": 6, \"6\": 15, \"11\": 1}, \"7\": {\"6\": 17, \"10\": 18, \"14\": 16, \"13\": 32, \"3\": 15, \"7\": 37, \"9\": 19, \"12\": 9, \"11\": 5, \"0\": 7, \"5\": 3, \"8\": 15, \"15\": 9, \"2\": 20, \"4\": 5, \"1\": 13}, \"4\": {\"3\": 19, \"5\": 12, \"7\": 9, \"2\": 8, \"9\": 13, \"8\": 32, \"4\": 31, \"1\": 15, \"0\": 26, \"12\": 19, \"10\": 23, \"15\": 10, \"14\": 14, \"6\": 3, \"11\": 2, \"13\": 4}, \"13\": {\"9\": 20, \"14\": 9, \"8\": 9, \"12\": 15, \"3\": 16, \"7\": 24, \"2\": 29, \"15\": 17, \"5\": 13, \"13\": 42, \"0\": 7, \"6\": 7, \"1\": 13, \"11\": 12, \"10\": 2, \"4\": 5}, \"1\": {\"0\": 20, \"13\": 15, \"15\": 24, \"5\": 40, \"3\": 17, \"9\": 16, \"2\": 15, \"12\": 30, \"8\": 4, \"1\": 28, \"4\": 13, \"10\": 5, \"14\": 4, \"7\": 8, \"6\": 1}, \"0\": {\"12\": 21, \"9\": 7, \"7\": 8, \"15\": 24, \"0\": 53, \"1\": 17, \"13\": 10, \"14\": 5, \"8\": 17, \"5\": 29, \"3\": 16, \"10\": 7, \"4\": 17, \"2\": 6, \"6\": 2, \"11\": 1}, \"12\": {\"3\": 20, \"2\": 13, \"8\": 19, \"12\": 29, \"1\": 23, \"15\": 20, \"14\": 3, \"9\": 27, \"7\": 13, \"4\": 9, \"0\": 12, \"13\": 18, \"5\": 20, \"10\": 11, \"6\": 3}, \"5\": {\"3\": 19, \"12\": 21, \"5\": 20, \"9\": 18, \"4\": 11, \"0\": 26, \"15\": 29, \"1\": 32, \"2\": 15, \"7\": 11, \"8\": 16, \"11\": 1, \"13\": 7, \"10\": 7, \"6\": 2, \"14\": 5}, \"6\": {\"13\": 13, \"10\": 26, \"8\": 17, \"14\": 51, \"12\": 2, \"2\": 9, \"6\": 56, \"1\": 2, \"9\": 8, \"7\": 27, \"11\": 15, \"4\": 2, \"15\": 4, \"3\": 5, \"5\": 3}, \"2\": {\"15\": 13, \"3\": 21, \"10\": 16, \"5\": 14, \"7\": 21, \"9\": 30, \"12\": 18, \"2\": 28, \"8\": 8, \"13\": 22, \"14\": 6, \"6\": 3, \"4\": 13, \"11\": 4, \"1\": 16, \"0\": 7}, \"8\": {\"14\": 33, \"3\": 18, \"8\": 38, \"7\": 23, \"0\": 16, \"4\": 15, \"12\": 12, \"1\": 6, \"6\": 17, \"5\": 10, \"9\": 12, \"10\": 19, \"13\": 10, \"15\": 4, \"2\": 6, \"11\": 1}, \"11\": {\"13\": 28, \"11\": 136, \"6\": 31, \"7\": 17, \"9\": 6, \"2\": 10, \"3\": 1, \"10\": 1, \"14\": 8, \"5\": 1, \"8\": 1}, \"9\": {\"5\": 15, \"9\": 22, \"13\": 25, \"3\": 27, \"12\": 24, \"2\": 20, \"7\": 19, \"11\": 2, \"15\": 16, \"0\": 9, \"8\": 11, \"4\": 8, \"10\": 11, \"1\": 19, \"6\": 8, \"14\": 4}, \"14\": {\"10\": 29, \"1\": 4, \"14\": 52, \"11\": 1, \"6\": 38, \"8\": 37, \"13\": 7, \"4\": 16, \"12\": 4, \"0\": 3, \"7\": 20, \"5\": 3, \"2\": 10, \"15\": 4, \"9\": 8, \"3\": 4}, \"15\": {\"12\": 24, \"3\": 17, \"1\": 26, \"4\": 14, \"2\": 15, \"15\": 29, \"13\": 23, \"5\": 24, \"9\": 21, \"8\": 8, \"0\": 26, \"10\": 4, \"7\": 6, \"6\": 1, \"14\": 2}, \"3\": {\"9\": 29, \"13\": 15, \"2\": 23, \"4\": 15, \"6\": 4, \"15\": 14, \"3\": 28, \"7\": 18, \"12\": 17, \"1\": 27, \"10\": 13, \"5\": 10, \"8\": 8, \"0\": 12, \"14\": 6, \"11\": 1}}, \"O_14\": {\"14\": {\"14\": 45, \"6\": 39, \"5\": 9, \"13\": 39, \"2\": 23, \"3\": 24, \"8\": 5, \"11\": 4, \"4\": 20, \"0\": 21, \"10\": 8, \"1\": 2, \"9\": 1}, \"0\": {\"0\": 69, \"10\": 53, \"3\": 18, \"14\": 18, \"4\": 7, \"11\": 26, \"9\": 30, \"5\": 1, \"13\": 10, \"2\": 3, \"8\": 4, \"6\": 1}, \"4\": {\"3\": 32, \"5\": 36, \"6\": 20, \"2\": 22, \"4\": 63, \"1\": 16, \"13\": 16, \"14\": 16, \"8\": 13, \"10\": 3, \"7\": 1, \"15\": 2}, \"11\": {\"11\": 103, \"12\": 24, \"9\": 51, \"0\": 31, \"10\": 24, \"3\": 2, \"8\": 1, \"6\": 2, \"13\": 1, \"14\": 1}, \"13\": {\"3\": 15, \"13\": 64, \"0\": 9, \"11\": 3, \"14\": 33, \"6\": 44, \"10\": 13, \"4\": 24, \"2\": 21, \"5\": 6, \"1\": 3, \"8\": 4, \"15\": 1}, \"9\": {\"14\": 4, \"11\": 43, \"9\": 101, \"0\": 40, \"10\": 12, \"12\": 34, \"8\": 6}, \"3\": {\"2\": 28, \"5\": 14, \"0\": 18, \"4\": 44, \"13\": 12, \"3\": 47, \"1\": 6, \"8\": 16, \"14\": 25, \"10\": 8, \"6\": 16, \"15\": 1, \"9\": 5}, \"6\": {\"13\": 71, \"3\": 15, \"6\": 48, \"14\": 33, \"10\": 10, \"5\": 10, \"2\": 20, \"15\": 2, \"0\": 5, \"1\": 5, \"4\": 18, \"9\": 1, \"7\": 1, \"11\": 1}, \"1\": {\"15\": 29, \"7\": 19, \"8\": 20, \"14\": 3, \"4\": 26, \"1\": 77, \"5\": 40, \"2\": 10, \"6\": 4, \"3\": 11, \"13\": 1}, \"5\": {\"14\": 9, \"1\": 44, \"4\": 48, \"15\": 21, \"5\": 43, \"2\": 26, \"6\": 13, \"8\": 4, \"3\": 14, \"7\": 12, \"13\": 5, \"10\": 1}, \"12\": {\"12\": 169, \"9\": 44, \"11\": 24, \"10\": 1, \"0\": 2}, \"10\": {\"10\": 106, \"0\": 48, \"11\": 24, \"13\": 14, \"14\": 12, \"9\": 13, \"4\": 7, \"6\": 4, \"3\": 10, \"2\": 2}, \"8\": {\"5\": 21, \"2\": 14, \"1\": 20, \"8\": 132, \"10\": 2, \"3\": 22, \"4\": 17, \"0\": 5, \"9\": 4, \"7\": 2, \"14\": 1}, \"7\": {\"7\": 112, \"15\": 72, \"5\": 15, \"1\": 32, \"6\": 1, \"14\": 1, \"2\": 3, \"8\": 2, \"4\": 2}, \"15\": {\"1\": 33, \"15\": 114, \"7\": 60, \"6\": 2, \"4\": 3, \"2\": 7, \"5\": 18, \"8\": 2, \"3\": 1}, \"2\": {\"2\": 37, \"6\": 33, \"3\": 23, \"14\": 29, \"13\": 19, \"7\": 5, \"5\": 28, \"1\": 16, \"4\": 25, \"9\": 1, \"0\": 4, \"15\": 9, \"8\": 9, \"10\": 2}}, \"O_32\": {\"11\": {\"11\": 90, \"7\": 33, \"14\": 46, \"3\": 22, \"4\": 5, \"5\": 14, \"13\": 17, \"8\": 5, \"2\": 5, \"0\": 3}, \"1\": {\"1\": 184, \"10\": 56}, \"2\": {\"8\": 10, \"4\": 55, \"0\": 44, \"2\": 64, \"11\": 4, \"7\": 18, \"14\": 15, \"13\": 11, \"5\": 15, \"9\": 3, \"15\": 1}, \"0\": {\"0\": 71, \"8\": 47, \"7\": 17, \"4\": 29, \"13\": 13, \"5\": 7, \"9\": 4, \"15\": 5, \"3\": 4, \"2\": 21, \"14\": 19, \"11\": 3}, \"3\": {\"14\": 14, \"5\": 24, \"3\": 97, \"11\": 23, \"7\": 17, \"13\": 39, \"4\": 10, \"8\": 11, \"15\": 1, \"2\": 3, \"0\": 1}, \"8\": {\"3\": 13, \"4\": 20, \"8\": 72, \"13\": 22, \"0\": 27, \"14\": 14, \"15\": 15, \"2\": 18, \"7\": 10, \"5\": 25, \"11\": 3, \"9\": 1}, \"12\": {\"12\": 202, \"6\": 24, \"9\": 14}, \"5\": {\"13\": 39, \"4\": 21, \"8\": 22, \"2\": 21, \"7\": 27, \"5\": 44, \"3\": 27, \"0\": 11, \"14\": 18, \"11\": 8, \"15\": 2}, \"15\": {\"15\": 204, \"3\": 4, \"8\": 16, \"13\": 6, \"4\": 1, \"0\": 9}, \"7\": {\"14\": 41, \"2\": 29, \"13\": 18, \"5\": 27, \"7\": 45, \"8\": 9, \"3\": 19, \"11\": 19, \"4\": 25, \"0\": 8}, \"4\": {\"8\": 24, \"4\": 45, \"13\": 30, \"7\": 31, \"0\": 18, \"2\": 38, \"5\": 26, \"14\": 18, \"3\": 3, \"11\": 6, \"15\": 1}, \"14\": {\"7\": 35, \"0\": 17, \"4\": 16, \"11\": 51, \"13\": 14, \"14\": 44, \"8\": 8, \"5\": 14, \"2\": 22, \"3\": 19}, \"10\": {\"10\": 194, \"1\": 43, \"6\": 3}, \"6\": {\"6\": 210, \"12\": 26, \"10\": 4}, \"13\": {\"3\": 39, \"13\": 40, \"0\": 14, \"4\": 23, \"2\": 15, \"5\": 28, \"11\": 13, \"14\": 17, \"8\": 28, \"7\": 23}, \"9\": {\"9\": 207, \"12\": 21, \"2\": 2, \"6\": 1, \"0\": 6, \"8\": 2, \"4\": 1}}, \"O_8\": {\"9\": {\"9\": 209, \"5\": 19, \"14\": 2, \"11\": 2, \"1\": 2, \"10\": 5, \"4\": 1}, \"11\": {\"1\": 55, \"8\": 8, \"5\": 40, \"10\": 11, \"11\": 84, \"4\": 11, \"6\": 5, \"14\": 19, \"13\": 5, \"7\": 2}, \"8\": {\"4\": 18, \"1\": 13, \"8\": 64, \"0\": 15, \"6\": 25, \"13\": 16, \"12\": 14, \"15\": 24, \"7\": 16, \"10\": 11, \"14\": 9, \"2\": 4, \"3\": 2, \"5\": 1, \"11\": 8}, \"4\": {\"4\": 30, \"8\": 29, \"0\": 24, \"6\": 33, \"7\": 21, \"13\": 26, \"14\": 19, \"5\": 7, \"10\": 29, \"15\": 4, \"11\": 7, \"1\": 7, \"12\": 2, \"2\": 2}, \"13\": {\"15\": 9, \"0\": 37, \"4\": 29, \"10\": 31, \"13\": 32, \"7\": 16, \"11\": 4, \"6\": 28, \"8\": 13, \"14\": 21, \"2\": 5, \"1\": 8, \"12\": 3, \"5\": 4}, \"14\": {\"7\": 12, \"0\": 15, \"10\": 42, \"14\": 30, \"13\": 26, \"4\": 27, \"5\": 20, \"11\": 13, \"1\": 22, \"8\": 13, \"6\": 18, \"2\": 1, \"15\": 1}, \"2\": {\"3\": 57, \"2\": 83, \"7\": 17, \"12\": 26, \"8\": 6, \"6\": 13, \"15\": 23, \"0\": 9, \"13\": 4, \"4\": 1, \"10\": 1}, \"3\": {\"2\": 60, \"3\": 83, \"7\": 16, \"12\": 34, \"6\": 8, \"15\": 25, \"8\": 4, \"4\": 1, \"0\": 5, \"13\": 3, \"14\": 1}, \"1\": {\"8\": 6, \"10\": 25, \"4\": 10, \"5\": 38, \"1\": 58, \"13\": 6, \"6\": 6, \"11\": 62, \"14\": 23, \"0\": 1, \"2\": 1, \"7\": 4}, \"0\": {\"8\": 21, \"13\": 29, \"4\": 36, \"7\": 36, \"10\": 16, \"0\": 36, \"6\": 30, \"1\": 4, \"15\": 11, \"12\": 2, \"2\": 3, \"5\": 3, \"14\": 12, \"11\": 1}, \"5\": {\"9\": 13, \"10\": 33, \"14\": 35, \"1\": 40, \"4\": 11, \"11\": 31, \"13\": 8, \"5\": 58, \"6\": 6, \"8\": 1, \"0\": 4}, \"15\": {\"12\": 56, \"15\": 56, \"8\": 30, \"7\": 30, \"6\": 15, \"13\": 4, \"2\": 12, \"0\": 7, \"3\": 23, \"4\": 4, \"11\": 1, \"14\": 1, \"5\": 1}, \"10\": {\"14\": 28, \"6\": 14, \"8\": 13, \"11\": 9, \"5\": 29, \"13\": 26, \"10\": 39, \"1\": 24, \"4\": 29, \"0\": 18, \"15\": 2, \"2\": 1, \"7\": 6, \"9\": 1, \"12\": 1}, \"12\": {\"14\": 2, \"2\": 37, \"3\": 42, \"7\": 12, \"8\": 27, \"12\": 46, \"13\": 3, \"15\": 57, \"4\": 2, \"6\": 8, \"0\": 3, \"11\": 1}, \"6\": {\"6\": 30, \"14\": 13, \"13\": 18, \"8\": 27, \"7\": 39, \"10\": 19, \"15\": 15, \"1\": 7, \"0\": 26, \"4\": 31, \"12\": 7, \"3\": 1, \"11\": 2, \"2\": 3, \"5\": 2}, \"7\": {\"13\": 24, \"12\": 11, \"8\": 26, \"7\": 46, \"0\": 31, \"10\": 8, \"6\": 24, \"15\": 18, \"2\": 23, \"4\": 13, \"3\": 5, \"14\": 9, \"1\": 1, \"11\": 1}}}, \"per_domain_accuracy\": {\"C_5\": {\"accuracy\": 0.9984287709497207, \"source?\": true}, \"C_1\": {\"accuracy\": 0.9976222826086957, \"source?\": true}, \"C_3\": {\"accuracy\": 0.9994485294117647, \"source?\": true}, \"C_4\": {\"accuracy\": 0.9988704819277109, \"source?\": true}, \"C_2\": {\"accuracy\": 0.9996448863636364, \"source?\": true}, \"O_26\": {\"accuracy\": 0.23203125, \"source?\": false}, \"O_44\": {\"accuracy\": 0.34661458333333334, \"source?\": false}, \"O_50\": {\"accuracy\": 0.38619791666666664, \"source?\": false}, \"O_38\": {\"accuracy\": 0.39296875, \"source?\": false}, \"O_20\": {\"accuracy\": 0.17734375, \"source?\": false}, \"O_14\": {\"accuracy\": 0.3463541666666667, \"source?\": false}, \"O_32\": {\"accuracy\": 0.47213541666666664, \"source?\": false}, \"O_8\": {\"accuracy\": 0.25625, \"source?\": false}}}, \"history\": {\"epoch_indices\": [1, 2, 3, 4, 5, 6, 7, 8, 9, 10, 11, 12, 13, 14, 15], \"train_label_loss\": [0.03426007965704281, 0.03148890122313027, 0.006834651081824494, 0.0053172453926152935, 0.005554392380926701, 0.0033188185739942686, 0.004222264347032709, 0.002692437005654108, 0.004777714889542242, 0.00217931034397899, 0.001617593192825898, 0.002433163334145143, 0.002338793247990686, 0.0016671960499711055, 0.0021202436451490596], \"source_val_label_loss\": [0.08250673115253448, 0.0072176638059318066, 0.0164492204785347, 0.00909676868468523, 0.009662782773375511, 0.007933806627988815, 0.006895042024552822, 0.0049204146489501, 0.006749410182237625, 0.008936353959143162, 0.008173899725079536, 0.008576076477766037, 0.005469922907650471, 0.008677215315401554, 0.007150890771299601], \"target_val_label_loss\": [2.02215838432312, 2.402346134185791, 2.3157050609588623, 2.6910200119018555, 2.283740997314453, 2.4056332111358643, 2.206087589263916, 2.3310582637786865, 2.4218332767486572, 2.7605557441711426, 2.6476778984069824, 2.9253385066986084, 3.0916078090667725, 3.662705659866333, 3.2619216442108154], \"source_val_acc_label\": [0.9925714285714285, 0.9988928571428571, 0.9968928571428571, 0.99875, 0.9985, 0.9991071428571429, 0.9991428571428571, 0.9995357142857143, 0.9995, 0.9994642857142857, 0.9987857142857143, 0.9993571428571428, 0.9995714285714286, 0.9995, 0.9997142857142857], \"target_val_acc_label\": [0.29876302083333334, 0.29755859375, 0.3055013020833333, 0.2618489583333333, 0.2978515625, 0.2921875, 0.3089192708333333, 0.2940755208333333, 0.31129557291666665, 0.30419921875, 0.32623697916666666, 0.28251953125, 0.3005859375, 0.27252604166666666, 0.29814453125]}, \"dataset_metrics\": {\"source\": {\"train\": {\"n_unique_x\": 175189, \"n_unique_y\": 58, \"n_batch/episode\": 6308}, \"val\": {\"n_unique_x\": 37151, \"n_unique_y\": 58, \"n_batch/episode\": 875}, \"test\": {\"n_unique_x\": 37548, \"n_unique_y\": 58, \"n_batch/episode\": 885}}, \"target\": {\"train\": {\"n_unique_x\": 179200, \"n_unique_y\": 16, \"n_batch/episode\": 6720}, \"val\": {\"n_unique_x\": 38400, \"n_unique_y\": 16, \"n_batch/episode\": 960}, \"test\": {\"n_unique_x\": 38400, \"n_unique_y\": 16, \"n_batch/episode\": 960}}}}'"
      ]
     },
     "execution_count": 29,
     "metadata": {},
     "output_type": "execute_result"
    }
   ],
   "source": [
    "json.dumps(experiment)"
   ]
  }
 ],
 "metadata": {
  "celltoolbar": "Tags",
  "kernelspec": {
   "display_name": "Python 3 (ipykernel)",
   "language": "python",
   "name": "python3"
  },
  "language_info": {
   "codemirror_mode": {
    "name": "ipython",
    "version": 3
   },
   "file_extension": ".py",
   "mimetype": "text/x-python",
   "name": "python",
   "nbconvert_exporter": "python",
   "pygments_lexer": "ipython3",
   "version": "3.8.12"
  },
  "papermill": {
   "default_parameters": {},
   "duration": 4935.644621,
   "end_time": "2022-03-28T00:10:22.765544",
   "environment_variables": {},
   "exception": null,
   "input_path": "/root/csc500-main/csc500-notebooks/templates/tl_ptn_template.ipynb",
   "output_path": "trial.ipynb",
   "parameters": {
    "parameters": {
     "BEST_MODEL_PATH": "./best_model.pth",
     "NUM_LOGS_PER_EPOCH": 10,
     "criteria_for_best": "target_accuracy",
     "dataset_seed": 7,
     "datasets": [
      {
       "domain_prefix": "C_",
       "domains": [
        1,
        2,
        3,
        4,
        5
       ],
       "episode_transforms": [],
       "labels": [
        "1-10.",
        "1-11.",
        "1-15.",
        "1-16.",
        "1-17.",
        "1-18.",
        "1-19.",
        "10-4.",
        "10-7.",
        "11-1.",
        "11-14.",
        "11-17.",
        "11-20.",
        "11-7.",
        "13-20.",
        "13-8.",
        "14-10.",
        "14-11.",
        "14-14.",
        "14-7.",
        "15-1.",
        "15-20.",
        "16-1.",
        "16-16.",
        "17-10.",
        "17-11.",
        "17-2.",
        "19-1.",
        "19-16.",
        "19-19.",
        "19-20.",
        "19-3.",
        "2-10.",
        "2-11.",
        "2-17.",
        "2-18.",
        "2-20.",
        "2-3.",
        "2-4.",
        "2-5.",
        "2-6.",
        "2-7.",
        "2-8.",
        "3-13.",
        "3-18.",
        "3-3.",
        "4-1.",
        "4-10.",
        "4-11.",
        "4-19.",
        "5-5.",
        "6-15.",
        "7-10.",
        "7-14.",
        "8-18.",
        "8-20.",
        "8-3.",
        "8-8."
       ],
       "num_examples_per_domain_per_label": -1,
       "pickle_path": "/root/csc500-main/datasets/cores.stratified_ds.2022A.pkl",
       "source_or_target_dataset": "source",
       "x_transforms": [
        "unit_power",
        "jitter_256_1",
        "lowpass_+/-10MHz",
        "take_200"
       ]
      },
      {
       "domain_prefix": "O_",
       "domains": [
        32,
        38,
        8,
        44,
        14,
        50,
        20,
        26
       ],
       "episode_transforms": [],
       "labels": [
        "3123D52",
        "3123D65",
        "3123D79",
        "3123D80",
        "3123D54",
        "3123D70",
        "3123D7B",
        "3123D89",
        "3123D58",
        "3123D76",
        "3123D7D",
        "3123EFE",
        "3123D64",
        "3123D78",
        "3123D7E",
        "3124E4A"
       ],
       "num_examples_per_domain_per_label": 2000,
       "pickle_path": "/root/csc500-main/datasets/oracle.Run1_framed_2000Examples_stratified_ds.2022A.pkl",
       "source_or_target_dataset": "target",
       "x_transforms": [
        "unit_power",
        "jitter_256_1",
        "take_200",
        "resample_20Msps_to_25Msps"
       ]
      }
     ],
     "device": "cuda",
     "experiment_name": "tl_3-jitter1v2:cores -> oracle.run1.framed",
     "lr": 0.0001,
     "n_epoch": 50,
     "n_query": 2,
     "n_shot": 3,
     "n_way": 16,
     "patience": 3,
     "seed": 7,
     "test_k_factor": 2,
     "torch_default_dtype": "torch.float32",
     "train_k_factor": 3,
     "val_k_factor": 2,
     "x_net": [
      {
       "class": "nnReshape",
       "kargs": {
        "shape": [
         -1,
         1,
         2,
         256
        ]
       }
      },
      {
       "class": "Conv2d",
       "kargs": {
        "bias": false,
        "in_channels": 1,
        "kernel_size": [
         1,
         7
        ],
        "out_channels": 256,
        "padding": [
         0,
         3
        ]
       }
      },
      {
       "class": "ReLU",
       "kargs": {
        "inplace": true
       }
      },
      {
       "class": "BatchNorm2d",
       "kargs": {
        "num_features": 256
       }
      },
      {
       "class": "Conv2d",
       "kargs": {
        "bias": true,
        "in_channels": 256,
        "kernel_size": [
         2,
         7
        ],
        "out_channels": 80,
        "padding": [
         0,
         3
        ]
       }
      },
      {
       "class": "ReLU",
       "kargs": {
        "inplace": true
       }
      },
      {
       "class": "BatchNorm2d",
       "kargs": {
        "num_features": 80
       }
      },
      {
       "class": "Flatten",
       "kargs": {}
      },
      {
       "class": "Linear",
       "kargs": {
        "in_features": 20480,
        "out_features": 256
       }
      },
      {
       "class": "ReLU",
       "kargs": {
        "inplace": true
       }
      },
      {
       "class": "BatchNorm1d",
       "kargs": {
        "num_features": 256
       }
      },
      {
       "class": "Linear",
       "kargs": {
        "in_features": 256,
        "out_features": 256
       }
      }
     ],
     "x_shape": [
      2,
      256
     ]
    }
   },
   "start_time": "2022-03-27T22:48:07.120923",
   "version": "2.3.4"
  }
 },
 "nbformat": 4,
 "nbformat_minor": 5
}