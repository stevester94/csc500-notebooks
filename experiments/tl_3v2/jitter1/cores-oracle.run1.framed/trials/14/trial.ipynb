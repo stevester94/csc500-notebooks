{
 "cells": [
  {
   "cell_type": "markdown",
   "id": "9fea5f46",
   "metadata": {
    "papermill": {
     "duration": 0.049914,
     "end_time": "2022-03-28T00:43:43.482440",
     "exception": false,
     "start_time": "2022-03-28T00:43:43.432526",
     "status": "completed"
    },
    "tags": []
   },
   "source": [
    "# Transfer Learning Template"
   ]
  },
  {
   "cell_type": "code",
   "execution_count": 1,
   "id": "0902182a",
   "metadata": {
    "execution": {
     "iopub.execute_input": "2022-03-28T00:43:43.541052Z",
     "iopub.status.busy": "2022-03-28T00:43:43.538991Z",
     "iopub.status.idle": "2022-03-28T00:43:45.425854Z",
     "shell.execute_reply": "2022-03-28T00:43:45.425405Z"
    },
    "papermill": {
     "duration": 1.924149,
     "end_time": "2022-03-28T00:43:45.425957",
     "exception": false,
     "start_time": "2022-03-28T00:43:43.501808",
     "status": "completed"
    },
    "tags": []
   },
   "outputs": [],
   "source": [
    "%load_ext autoreload\n",
    "%autoreload 2\n",
    "%matplotlib inline\n",
    "\n",
    "    \n",
    "import os, json, sys, time, random\n",
    "import numpy as np\n",
    "import torch\n",
    "from torch.optim import Adam\n",
    "from  easydict import EasyDict\n",
    "import matplotlib.pyplot as plt\n",
    "\n",
    "from steves_models.steves_ptn import Steves_Prototypical_Network\n",
    "\n",
    "from steves_utils.lazy_iterable_wrapper import Lazy_Iterable_Wrapper\n",
    "from steves_utils.iterable_aggregator import Iterable_Aggregator\n",
    "from steves_utils.ptn_train_eval_test_jig import  PTN_Train_Eval_Test_Jig\n",
    "from steves_utils.torch_sequential_builder import build_sequential\n",
    "from steves_utils.torch_utils import get_dataset_metrics, ptn_confusion_by_domain_over_dataloader\n",
    "from steves_utils.utils_v2 import (per_domain_accuracy_from_confusion, get_datasets_base_path)\n",
    "from steves_utils.PTN.utils import independent_accuracy_assesment\n",
    "\n",
    "from torch.utils.data import DataLoader\n",
    "\n",
    "from steves_utils.stratified_dataset.episodic_accessor import Episodic_Accessor_Factory\n",
    "\n",
    "from steves_utils.ptn_do_report import (\n",
    "    get_loss_curve,\n",
    "    get_results_table,\n",
    "    get_parameters_table,\n",
    "    get_domain_accuracies,\n",
    ")\n",
    "\n",
    "from steves_utils.transforms import get_chained_transform"
   ]
  },
  {
   "cell_type": "markdown",
   "id": "41c840b4",
   "metadata": {
    "papermill": {
     "duration": 0.019159,
     "end_time": "2022-03-28T00:43:45.465063",
     "exception": false,
     "start_time": "2022-03-28T00:43:45.445904",
     "status": "completed"
    },
    "tags": []
   },
   "source": [
    "# Allowed Parameters\n",
    "These are allowed parameters, not defaults\n",
    "Each of these values need to be present in the injected parameters (the notebook will raise an exception if they are not present)\n",
    "\n",
    "Papermill uses the cell tag \"parameters\" to inject the real parameters below this cell.\n",
    "Enable tags to see what I mean"
   ]
  },
  {
   "cell_type": "code",
   "execution_count": 2,
   "id": "fd44eb83",
   "metadata": {
    "execution": {
     "iopub.execute_input": "2022-03-28T00:43:45.508227Z",
     "iopub.status.busy": "2022-03-28T00:43:45.507847Z",
     "iopub.status.idle": "2022-03-28T00:43:45.530013Z",
     "shell.execute_reply": "2022-03-28T00:43:45.529212Z"
    },
    "papermill": {
     "duration": 0.045779,
     "end_time": "2022-03-28T00:43:45.530169",
     "exception": false,
     "start_time": "2022-03-28T00:43:45.484390",
     "status": "completed"
    },
    "tags": []
   },
   "outputs": [],
   "source": [
    "required_parameters = {\n",
    "    \"experiment_name\",\n",
    "    \"lr\",\n",
    "    \"device\",\n",
    "    \"seed\",\n",
    "    \"dataset_seed\",\n",
    "    \"n_shot\",\n",
    "    \"n_query\",\n",
    "    \"n_way\",\n",
    "    \"train_k_factor\",\n",
    "    \"val_k_factor\",\n",
    "    \"test_k_factor\",\n",
    "    \"n_epoch\",\n",
    "    \"patience\",\n",
    "    \"criteria_for_best\",\n",
    "    \"x_net\",\n",
    "    \"datasets\",\n",
    "    \"torch_default_dtype\",\n",
    "    \"NUM_LOGS_PER_EPOCH\",\n",
    "    \"BEST_MODEL_PATH\",\n",
    "    \"x_shape\",\n",
    "}"
   ]
  },
  {
   "cell_type": "code",
   "execution_count": 3,
   "id": "fa3f0049",
   "metadata": {
    "execution": {
     "iopub.execute_input": "2022-03-28T00:43:45.584146Z",
     "iopub.status.busy": "2022-03-28T00:43:45.583735Z",
     "iopub.status.idle": "2022-03-28T00:43:45.605930Z",
     "shell.execute_reply": "2022-03-28T00:43:45.605128Z"
    },
    "papermill": {
     "duration": 0.050422,
     "end_time": "2022-03-28T00:43:45.606086",
     "exception": false,
     "start_time": "2022-03-28T00:43:45.555664",
     "status": "completed"
    },
    "tags": [
     "parameters"
    ]
   },
   "outputs": [],
   "source": [
    "from steves_utils.CORES.utils import (\n",
    "    ALL_NODES,\n",
    "    ALL_NODES_MINIMUM_1000_EXAMPLES,\n",
    "    ALL_DAYS\n",
    ")\n",
    "\n",
    "from steves_utils.ORACLE.utils_v2 import (\n",
    "    ALL_DISTANCES_FEET_NARROWED,\n",
    "    ALL_RUNS,\n",
    "    ALL_SERIAL_NUMBERS,\n",
    ")\n",
    "\n",
    "standalone_parameters = {}\n",
    "standalone_parameters[\"experiment_name\"] = \"STANDALONE PTN\"\n",
    "standalone_parameters[\"lr\"] = 0.001\n",
    "standalone_parameters[\"device\"] = \"cuda\"\n",
    "\n",
    "standalone_parameters[\"seed\"] = 1337\n",
    "standalone_parameters[\"dataset_seed\"] = 1337\n",
    "\n",
    "standalone_parameters[\"n_way\"] = 8\n",
    "standalone_parameters[\"n_shot\"] = 3\n",
    "standalone_parameters[\"n_query\"]  = 2\n",
    "standalone_parameters[\"train_k_factor\"] = 1\n",
    "standalone_parameters[\"val_k_factor\"] = 2\n",
    "standalone_parameters[\"test_k_factor\"] = 2\n",
    "\n",
    "\n",
    "standalone_parameters[\"n_epoch\"] = 50\n",
    "\n",
    "standalone_parameters[\"patience\"] = 10\n",
    "standalone_parameters[\"criteria_for_best\"] = \"source_loss\"\n",
    "\n",
    "standalone_parameters[\"datasets\"] = [\n",
    "    {\n",
    "        \"labels\": ALL_SERIAL_NUMBERS,\n",
    "        \"domains\": ALL_DISTANCES_FEET_NARROWED,\n",
    "        \"num_examples_per_domain_per_label\": 100,\n",
    "        \"pickle_path\": os.path.join(get_datasets_base_path(), \"oracle.Run1_framed_2000Examples_stratified_ds.2022A.pkl\"),\n",
    "        \"source_or_target_dataset\": \"source\",\n",
    "        \"x_transforms\": [\"unit_mag\", \"minus_two\"],\n",
    "        \"episode_transforms\": [],\n",
    "        \"domain_prefix\": \"ORACLE_\"\n",
    "    },\n",
    "    {\n",
    "        \"labels\": ALL_NODES,\n",
    "        \"domains\": ALL_DAYS,\n",
    "        \"num_examples_per_domain_per_label\": 100,\n",
    "        \"pickle_path\": os.path.join(get_datasets_base_path(), \"cores.stratified_ds.2022A.pkl\"),\n",
    "        \"source_or_target_dataset\": \"target\",\n",
    "        \"x_transforms\": [\"unit_power\", \"times_zero\"],\n",
    "        \"episode_transforms\": [],\n",
    "        \"domain_prefix\": \"CORES_\"\n",
    "    }   \n",
    "]\n",
    "\n",
    "standalone_parameters[\"torch_default_dtype\"] = \"torch.float32\" \n",
    "\n",
    "\n",
    "\n",
    "standalone_parameters[\"x_net\"] =     [\n",
    "    {\"class\": \"nnReshape\", \"kargs\": {\"shape\":[-1, 1, 2, 256]}},\n",
    "    {\"class\": \"Conv2d\", \"kargs\": { \"in_channels\":1, \"out_channels\":256, \"kernel_size\":(1,7), \"bias\":False, \"padding\":(0,3), },},\n",
    "    {\"class\": \"ReLU\", \"kargs\": {\"inplace\": True}},\n",
    "    {\"class\": \"BatchNorm2d\", \"kargs\": {\"num_features\":256}},\n",
    "\n",
    "    {\"class\": \"Conv2d\", \"kargs\": { \"in_channels\":256, \"out_channels\":80, \"kernel_size\":(2,7), \"bias\":True, \"padding\":(0,3), },},\n",
    "    {\"class\": \"ReLU\", \"kargs\": {\"inplace\": True}},\n",
    "    {\"class\": \"BatchNorm2d\", \"kargs\": {\"num_features\":80}},\n",
    "    {\"class\": \"Flatten\", \"kargs\": {}},\n",
    "\n",
    "    {\"class\": \"Linear\", \"kargs\": {\"in_features\": 80*256, \"out_features\": 256}}, # 80 units per IQ pair\n",
    "    {\"class\": \"ReLU\", \"kargs\": {\"inplace\": True}},\n",
    "    {\"class\": \"BatchNorm1d\", \"kargs\": {\"num_features\":256}},\n",
    "\n",
    "    {\"class\": \"Linear\", \"kargs\": {\"in_features\": 256, \"out_features\": 256}},\n",
    "]\n",
    "\n",
    "# Parameters relevant to results\n",
    "# These parameters will basically never need to change\n",
    "standalone_parameters[\"NUM_LOGS_PER_EPOCH\"] = 10\n",
    "standalone_parameters[\"BEST_MODEL_PATH\"] = \"./best_model.pth\"\n",
    "\n",
    "\n",
    "\n",
    "\n"
   ]
  },
  {
   "cell_type": "code",
   "execution_count": 4,
   "id": "b47fc5d4",
   "metadata": {
    "execution": {
     "iopub.execute_input": "2022-03-28T00:43:45.665920Z",
     "iopub.status.busy": "2022-03-28T00:43:45.664101Z",
     "iopub.status.idle": "2022-03-28T00:43:45.686618Z",
     "shell.execute_reply": "2022-03-28T00:43:45.685814Z"
    },
    "papermill": {
     "duration": 0.055382,
     "end_time": "2022-03-28T00:43:45.686774",
     "exception": false,
     "start_time": "2022-03-28T00:43:45.631392",
     "status": "completed"
    },
    "tags": [
     "injected-parameters"
    ]
   },
   "outputs": [],
   "source": [
    "# Parameters\n",
    "parameters = {\n",
    "    \"experiment_name\": \"tl_3-jitter1v2:cores -> oracle.run1.framed\",\n",
    "    \"device\": \"cuda\",\n",
    "    \"lr\": 0.0001,\n",
    "    \"x_shape\": [2, 256],\n",
    "    \"n_shot\": 3,\n",
    "    \"n_query\": 2,\n",
    "    \"train_k_factor\": 3,\n",
    "    \"val_k_factor\": 2,\n",
    "    \"test_k_factor\": 2,\n",
    "    \"torch_default_dtype\": \"torch.float32\",\n",
    "    \"n_epoch\": 50,\n",
    "    \"patience\": 3,\n",
    "    \"criteria_for_best\": \"target_accuracy\",\n",
    "    \"x_net\": [\n",
    "        {\"class\": \"nnReshape\", \"kargs\": {\"shape\": [-1, 1, 2, 256]}},\n",
    "        {\n",
    "            \"class\": \"Conv2d\",\n",
    "            \"kargs\": {\n",
    "                \"in_channels\": 1,\n",
    "                \"out_channels\": 256,\n",
    "                \"kernel_size\": [1, 7],\n",
    "                \"bias\": False,\n",
    "                \"padding\": [0, 3],\n",
    "            },\n",
    "        },\n",
    "        {\"class\": \"ReLU\", \"kargs\": {\"inplace\": True}},\n",
    "        {\"class\": \"BatchNorm2d\", \"kargs\": {\"num_features\": 256}},\n",
    "        {\n",
    "            \"class\": \"Conv2d\",\n",
    "            \"kargs\": {\n",
    "                \"in_channels\": 256,\n",
    "                \"out_channels\": 80,\n",
    "                \"kernel_size\": [2, 7],\n",
    "                \"bias\": True,\n",
    "                \"padding\": [0, 3],\n",
    "            },\n",
    "        },\n",
    "        {\"class\": \"ReLU\", \"kargs\": {\"inplace\": True}},\n",
    "        {\"class\": \"BatchNorm2d\", \"kargs\": {\"num_features\": 80}},\n",
    "        {\"class\": \"Flatten\", \"kargs\": {}},\n",
    "        {\"class\": \"Linear\", \"kargs\": {\"in_features\": 20480, \"out_features\": 256}},\n",
    "        {\"class\": \"ReLU\", \"kargs\": {\"inplace\": True}},\n",
    "        {\"class\": \"BatchNorm1d\", \"kargs\": {\"num_features\": 256}},\n",
    "        {\"class\": \"Linear\", \"kargs\": {\"in_features\": 256, \"out_features\": 256}},\n",
    "    ],\n",
    "    \"NUM_LOGS_PER_EPOCH\": 10,\n",
    "    \"BEST_MODEL_PATH\": \"./best_model.pth\",\n",
    "    \"n_way\": 16,\n",
    "    \"datasets\": [\n",
    "        {\n",
    "            \"labels\": [\n",
    "                \"1-10.\",\n",
    "                \"1-11.\",\n",
    "                \"1-15.\",\n",
    "                \"1-16.\",\n",
    "                \"1-17.\",\n",
    "                \"1-18.\",\n",
    "                \"1-19.\",\n",
    "                \"10-4.\",\n",
    "                \"10-7.\",\n",
    "                \"11-1.\",\n",
    "                \"11-14.\",\n",
    "                \"11-17.\",\n",
    "                \"11-20.\",\n",
    "                \"11-7.\",\n",
    "                \"13-20.\",\n",
    "                \"13-8.\",\n",
    "                \"14-10.\",\n",
    "                \"14-11.\",\n",
    "                \"14-14.\",\n",
    "                \"14-7.\",\n",
    "                \"15-1.\",\n",
    "                \"15-20.\",\n",
    "                \"16-1.\",\n",
    "                \"16-16.\",\n",
    "                \"17-10.\",\n",
    "                \"17-11.\",\n",
    "                \"17-2.\",\n",
    "                \"19-1.\",\n",
    "                \"19-16.\",\n",
    "                \"19-19.\",\n",
    "                \"19-20.\",\n",
    "                \"19-3.\",\n",
    "                \"2-10.\",\n",
    "                \"2-11.\",\n",
    "                \"2-17.\",\n",
    "                \"2-18.\",\n",
    "                \"2-20.\",\n",
    "                \"2-3.\",\n",
    "                \"2-4.\",\n",
    "                \"2-5.\",\n",
    "                \"2-6.\",\n",
    "                \"2-7.\",\n",
    "                \"2-8.\",\n",
    "                \"3-13.\",\n",
    "                \"3-18.\",\n",
    "                \"3-3.\",\n",
    "                \"4-1.\",\n",
    "                \"4-10.\",\n",
    "                \"4-11.\",\n",
    "                \"4-19.\",\n",
    "                \"5-5.\",\n",
    "                \"6-15.\",\n",
    "                \"7-10.\",\n",
    "                \"7-14.\",\n",
    "                \"8-18.\",\n",
    "                \"8-20.\",\n",
    "                \"8-3.\",\n",
    "                \"8-8.\",\n",
    "            ],\n",
    "            \"domains\": [1, 2, 3, 4, 5],\n",
    "            \"num_examples_per_domain_per_label\": -1,\n",
    "            \"pickle_path\": \"/root/csc500-main/datasets/cores.stratified_ds.2022A.pkl\",\n",
    "            \"source_or_target_dataset\": \"source\",\n",
    "            \"x_transforms\": [\"jitter_256_1\", \"lowpass_+/-10MHz\", \"take_200\"],\n",
    "            \"episode_transforms\": [],\n",
    "            \"domain_prefix\": \"C_\",\n",
    "        },\n",
    "        {\n",
    "            \"labels\": [\n",
    "                \"3123D52\",\n",
    "                \"3123D65\",\n",
    "                \"3123D79\",\n",
    "                \"3123D80\",\n",
    "                \"3123D54\",\n",
    "                \"3123D70\",\n",
    "                \"3123D7B\",\n",
    "                \"3123D89\",\n",
    "                \"3123D58\",\n",
    "                \"3123D76\",\n",
    "                \"3123D7D\",\n",
    "                \"3123EFE\",\n",
    "                \"3123D64\",\n",
    "                \"3123D78\",\n",
    "                \"3123D7E\",\n",
    "                \"3124E4A\",\n",
    "            ],\n",
    "            \"domains\": [32, 38, 8, 44, 14, 50, 20, 26],\n",
    "            \"num_examples_per_domain_per_label\": 2000,\n",
    "            \"pickle_path\": \"/root/csc500-main/datasets/oracle.Run1_framed_2000Examples_stratified_ds.2022A.pkl\",\n",
    "            \"source_or_target_dataset\": \"target\",\n",
    "            \"x_transforms\": [\"jitter_256_1\", \"take_200\", \"resample_20Msps_to_25Msps\"],\n",
    "            \"episode_transforms\": [],\n",
    "            \"domain_prefix\": \"O_\",\n",
    "        },\n",
    "    ],\n",
    "    \"seed\": 500,\n",
    "    \"dataset_seed\": 500,\n",
    "}\n"
   ]
  },
  {
   "cell_type": "code",
   "execution_count": 5,
   "id": "8fa1cc33",
   "metadata": {
    "execution": {
     "iopub.execute_input": "2022-03-28T00:43:45.735626Z",
     "iopub.status.busy": "2022-03-28T00:43:45.735229Z",
     "iopub.status.idle": "2022-03-28T00:43:45.754643Z",
     "shell.execute_reply": "2022-03-28T00:43:45.753844Z"
    },
    "papermill": {
     "duration": 0.042615,
     "end_time": "2022-03-28T00:43:45.754800",
     "exception": false,
     "start_time": "2022-03-28T00:43:45.712185",
     "status": "completed"
    },
    "tags": []
   },
   "outputs": [],
   "source": [
    "# Set this to True if you want to run this template directly\n",
    "STANDALONE = False\n",
    "if STANDALONE:\n",
    "    print(\"parameters not injected, running with standalone_parameters\")\n",
    "    parameters = standalone_parameters\n",
    "\n",
    "if not 'parameters' in locals() and not 'parameters' in globals():\n",
    "    raise Exception(\"Parameter injection failed\")\n",
    "\n",
    "#Use an easy dict for all the parameters\n",
    "p = EasyDict(parameters)\n",
    "\n",
    "if \"x_shape\" not in p:\n",
    "    p.x_shape = [2,256] # Default to this if we dont supply x_shape\n",
    "\n",
    "\n",
    "supplied_keys = set(p.keys())\n",
    "\n",
    "if  supplied_keys != required_parameters:\n",
    "    print(\"Parameters are incorrect\")\n",
    "    if len(supplied_keys - required_parameters)>0: print(\"Shouldn't have:\", str(supplied_keys - required_parameters))\n",
    "    if len(required_parameters - supplied_keys)>0: print(\"Need to have:\", str(required_parameters - supplied_keys))\n",
    "    raise RuntimeError(\"Parameters are incorrect\")"
   ]
  },
  {
   "cell_type": "code",
   "execution_count": 6,
   "id": "3a028d58",
   "metadata": {
    "execution": {
     "iopub.execute_input": "2022-03-28T00:43:45.801568Z",
     "iopub.status.busy": "2022-03-28T00:43:45.801199Z",
     "iopub.status.idle": "2022-03-28T00:43:45.819704Z",
     "shell.execute_reply": "2022-03-28T00:43:45.819023Z"
    },
    "papermill": {
     "duration": 0.040502,
     "end_time": "2022-03-28T00:43:45.819861",
     "exception": false,
     "start_time": "2022-03-28T00:43:45.779359",
     "status": "completed"
    },
    "tags": []
   },
   "outputs": [],
   "source": [
    "###################################\n",
    "# Set the RNGs and make it all deterministic\n",
    "###################################\n",
    "np.random.seed(p.seed)\n",
    "random.seed(p.seed)\n",
    "torch.manual_seed(p.seed)\n",
    "\n",
    "torch.use_deterministic_algorithms(True) "
   ]
  },
  {
   "cell_type": "code",
   "execution_count": 7,
   "id": "b691acf6",
   "metadata": {
    "execution": {
     "iopub.execute_input": "2022-03-28T00:43:45.867312Z",
     "iopub.status.busy": "2022-03-28T00:43:45.866951Z",
     "iopub.status.idle": "2022-03-28T00:43:45.892650Z",
     "shell.execute_reply": "2022-03-28T00:43:45.891852Z"
    },
    "papermill": {
     "duration": 0.048722,
     "end_time": "2022-03-28T00:43:45.892806",
     "exception": false,
     "start_time": "2022-03-28T00:43:45.844084",
     "status": "completed"
    },
    "tags": []
   },
   "outputs": [],
   "source": [
    "###########################################\n",
    "# The stratified datasets honor this\n",
    "###########################################\n",
    "torch.set_default_dtype(eval(p.torch_default_dtype))"
   ]
  },
  {
   "cell_type": "code",
   "execution_count": 8,
   "id": "b5fba671",
   "metadata": {
    "execution": {
     "iopub.execute_input": "2022-03-28T00:43:45.947443Z",
     "iopub.status.busy": "2022-03-28T00:43:45.947076Z",
     "iopub.status.idle": "2022-03-28T00:43:46.007227Z",
     "shell.execute_reply": "2022-03-28T00:43:46.006545Z"
    },
    "papermill": {
     "duration": 0.086749,
     "end_time": "2022-03-28T00:43:46.007391",
     "exception": false,
     "start_time": "2022-03-28T00:43:45.920642",
     "status": "completed"
    },
    "tags": []
   },
   "outputs": [],
   "source": [
    "###################################\n",
    "# Build the network(s)\n",
    "# Note: It's critical to do this AFTER setting the RNG\n",
    "###################################\n",
    "x_net = build_sequential(p.x_net)"
   ]
  },
  {
   "cell_type": "code",
   "execution_count": 9,
   "id": "5d7e61cc",
   "metadata": {
    "execution": {
     "iopub.execute_input": "2022-03-28T00:43:46.060356Z",
     "iopub.status.busy": "2022-03-28T00:43:46.059987Z",
     "iopub.status.idle": "2022-03-28T00:43:46.086455Z",
     "shell.execute_reply": "2022-03-28T00:43:46.085640Z"
    },
    "papermill": {
     "duration": 0.050679,
     "end_time": "2022-03-28T00:43:46.086614",
     "exception": false,
     "start_time": "2022-03-28T00:43:46.035935",
     "status": "completed"
    },
    "tags": []
   },
   "outputs": [],
   "source": [
    "start_time_secs = time.time()"
   ]
  },
  {
   "cell_type": "code",
   "execution_count": 10,
   "id": "c6b67dfd",
   "metadata": {
    "execution": {
     "iopub.execute_input": "2022-03-28T00:43:46.137931Z",
     "iopub.status.busy": "2022-03-28T00:43:46.137564Z",
     "iopub.status.idle": "2022-03-28T00:43:46.156151Z",
     "shell.execute_reply": "2022-03-28T00:43:46.156820Z"
    },
    "papermill": {
     "duration": 0.042633,
     "end_time": "2022-03-28T00:43:46.157002",
     "exception": false,
     "start_time": "2022-03-28T00:43:46.114369",
     "status": "completed"
    },
    "tags": []
   },
   "outputs": [],
   "source": [
    "p.domains_source = []\n",
    "p.domains_target = []\n",
    "\n",
    "\n",
    "train_original_source = []\n",
    "val_original_source   = []\n",
    "test_original_source  = []\n",
    "\n",
    "train_original_target = []\n",
    "val_original_target   = []\n",
    "test_original_target  = []"
   ]
  },
  {
   "cell_type": "code",
   "execution_count": 11,
   "id": "e3d9c3d3",
   "metadata": {
    "execution": {
     "iopub.execute_input": "2022-03-28T00:43:46.208034Z",
     "iopub.status.busy": "2022-03-28T00:43:46.207668Z",
     "iopub.status.idle": "2022-03-28T00:43:46.224156Z",
     "shell.execute_reply": "2022-03-28T00:43:46.223427Z"
    },
    "papermill": {
     "duration": 0.039047,
     "end_time": "2022-03-28T00:43:46.224314",
     "exception": false,
     "start_time": "2022-03-28T00:43:46.185267",
     "status": "completed"
    },
    "tags": []
   },
   "outputs": [],
   "source": [
    "# global_x_transform_func = lambda x: normalize(x.to(torch.get_default_dtype()), \"unit_power\") # unit_power, unit_mag\n",
    "# global_x_transform_func = lambda x: normalize(x, \"unit_power\") # unit_power, unit_mag"
   ]
  },
  {
   "cell_type": "code",
   "execution_count": 12,
   "id": "acb78fd2",
   "metadata": {
    "execution": {
     "iopub.execute_input": "2022-03-28T00:43:46.287371Z",
     "iopub.status.busy": "2022-03-28T00:43:46.286523Z",
     "iopub.status.idle": "2022-03-28T00:43:46.303598Z",
     "shell.execute_reply": "2022-03-28T00:43:46.302867Z"
    },
    "papermill": {
     "duration": 0.050385,
     "end_time": "2022-03-28T00:43:46.303757",
     "exception": false,
     "start_time": "2022-03-28T00:43:46.253372",
     "status": "completed"
    },
    "tags": []
   },
   "outputs": [],
   "source": [
    "def add_dataset(\n",
    "    labels,\n",
    "    domains,\n",
    "    pickle_path,\n",
    "    x_transforms,\n",
    "    episode_transforms,\n",
    "    domain_prefix,\n",
    "    num_examples_per_domain_per_label,\n",
    "    source_or_target_dataset:str,\n",
    "    iterator_seed=p.seed,\n",
    "    dataset_seed=p.dataset_seed,\n",
    "    n_shot=p.n_shot,\n",
    "    n_way=p.n_way,\n",
    "    n_query=p.n_query,\n",
    "    train_val_test_k_factors=(p.train_k_factor,p.val_k_factor,p.test_k_factor),\n",
    "):\n",
    "   \n",
    "    if x_transforms == []: x_transform = None\n",
    "    else: x_transform = get_chained_transform(x_transforms)\n",
    "    \n",
    "    if episode_transforms == []: episode_transform = None\n",
    "    else: raise Exception(\"episode_transforms not implemented\")\n",
    "    \n",
    "    episode_transform = lambda tup, _prefix=domain_prefix: (_prefix + str(tup[0]), tup[1])\n",
    "\n",
    "\n",
    "    eaf = Episodic_Accessor_Factory(\n",
    "        labels=labels,\n",
    "        domains=domains,\n",
    "        num_examples_per_domain_per_label=num_examples_per_domain_per_label,\n",
    "        iterator_seed=iterator_seed,\n",
    "        dataset_seed=dataset_seed,\n",
    "        n_shot=n_shot,\n",
    "        n_way=n_way,\n",
    "        n_query=n_query,\n",
    "        train_val_test_k_factors=train_val_test_k_factors,\n",
    "        pickle_path=pickle_path,\n",
    "        x_transform_func=x_transform,\n",
    "    )\n",
    "\n",
    "    train, val, test = eaf.get_train(), eaf.get_val(), eaf.get_test()\n",
    "    train = Lazy_Iterable_Wrapper(train, episode_transform)\n",
    "    val = Lazy_Iterable_Wrapper(val, episode_transform)\n",
    "    test = Lazy_Iterable_Wrapper(test, episode_transform)\n",
    "\n",
    "    if source_or_target_dataset==\"source\":\n",
    "        train_original_source.append(train)\n",
    "        val_original_source.append(val)\n",
    "        test_original_source.append(test)\n",
    "\n",
    "        p.domains_source.extend(\n",
    "            [domain_prefix + str(u) for u in domains]\n",
    "        )\n",
    "    elif source_or_target_dataset==\"target\":\n",
    "        train_original_target.append(train)\n",
    "        val_original_target.append(val)\n",
    "        test_original_target.append(test)\n",
    "        p.domains_target.extend(\n",
    "            [domain_prefix + str(u) for u in domains]\n",
    "        )\n",
    "    else:\n",
    "        raise Exception(f\"invalid source_or_target_dataset: {source_or_target_dataset}\")\n",
    "    "
   ]
  },
  {
   "cell_type": "code",
   "execution_count": 13,
   "id": "fe266617",
   "metadata": {
    "execution": {
     "iopub.execute_input": "2022-03-28T00:43:46.355934Z",
     "iopub.status.busy": "2022-03-28T00:43:46.355231Z",
     "iopub.status.idle": "2022-03-28T00:44:51.125697Z",
     "shell.execute_reply": "2022-03-28T00:44:51.124969Z"
    },
    "papermill": {
     "duration": 64.794516,
     "end_time": "2022-03-28T00:44:51.125888",
     "exception": false,
     "start_time": "2022-03-28T00:43:46.331372",
     "status": "completed"
    },
    "tags": []
   },
   "outputs": [],
   "source": [
    "for ds in p.datasets:\n",
    "    add_dataset(**ds)"
   ]
  },
  {
   "cell_type": "code",
   "execution_count": 14,
   "id": "b90d65ac",
   "metadata": {
    "execution": {
     "iopub.execute_input": "2022-03-28T00:44:51.177022Z",
     "iopub.status.busy": "2022-03-28T00:44:51.176651Z",
     "iopub.status.idle": "2022-03-28T00:44:51.202046Z",
     "shell.execute_reply": "2022-03-28T00:44:51.201248Z"
    },
    "papermill": {
     "duration": 0.049565,
     "end_time": "2022-03-28T00:44:51.202203",
     "exception": false,
     "start_time": "2022-03-28T00:44:51.152638",
     "status": "completed"
    },
    "tags": []
   },
   "outputs": [],
   "source": [
    "# from steves_utils.CORES.utils import (\n",
    "#     ALL_NODES,\n",
    "#     ALL_NODES_MINIMUM_1000_EXAMPLES,\n",
    "#     ALL_DAYS\n",
    "# )\n",
    "\n",
    "# add_dataset(\n",
    "#     labels=ALL_NODES,\n",
    "#     domains = ALL_DAYS,\n",
    "#     num_examples_per_domain_per_label=100,\n",
    "#     pickle_path=os.path.join(get_datasets_base_path(), \"cores.stratified_ds.2022A.pkl\"),\n",
    "#     source_or_target_dataset=\"target\",\n",
    "#     x_transform_func=global_x_transform_func,\n",
    "#     domain_modifier=lambda u: f\"cores_{u}\"\n",
    "# )"
   ]
  },
  {
   "cell_type": "code",
   "execution_count": 15,
   "id": "76db484d",
   "metadata": {
    "execution": {
     "iopub.execute_input": "2022-03-28T00:44:51.252243Z",
     "iopub.status.busy": "2022-03-28T00:44:51.251601Z",
     "iopub.status.idle": "2022-03-28T00:44:51.274823Z",
     "shell.execute_reply": "2022-03-28T00:44:51.274031Z"
    },
    "papermill": {
     "duration": 0.046985,
     "end_time": "2022-03-28T00:44:51.274981",
     "exception": false,
     "start_time": "2022-03-28T00:44:51.227996",
     "status": "completed"
    },
    "tags": []
   },
   "outputs": [],
   "source": [
    "# from steves_utils.ORACLE.utils_v2 import (\n",
    "#     ALL_DISTANCES_FEET,\n",
    "#     ALL_RUNS,\n",
    "#     ALL_SERIAL_NUMBERS,\n",
    "# )\n",
    "\n",
    "\n",
    "# add_dataset(\n",
    "#     labels=ALL_SERIAL_NUMBERS,\n",
    "#     domains = list(set(ALL_DISTANCES_FEET) - {2,62}),\n",
    "#     num_examples_per_domain_per_label=100,\n",
    "#     pickle_path=os.path.join(get_datasets_base_path(), \"oracle.Run2_framed_2000Examples_stratified_ds.2022A.pkl\"),\n",
    "#     source_or_target_dataset=\"source\",\n",
    "#     x_transform_func=global_x_transform_func,\n",
    "#     domain_modifier=lambda u: f\"oracle1_{u}\"\n",
    "# )\n"
   ]
  },
  {
   "cell_type": "code",
   "execution_count": 16,
   "id": "97dea9d2",
   "metadata": {
    "execution": {
     "iopub.execute_input": "2022-03-28T00:44:51.324995Z",
     "iopub.status.busy": "2022-03-28T00:44:51.324437Z",
     "iopub.status.idle": "2022-03-28T00:44:51.344027Z",
     "shell.execute_reply": "2022-03-28T00:44:51.343226Z"
    },
    "papermill": {
     "duration": 0.044463,
     "end_time": "2022-03-28T00:44:51.344180",
     "exception": false,
     "start_time": "2022-03-28T00:44:51.299717",
     "status": "completed"
    },
    "tags": []
   },
   "outputs": [],
   "source": [
    "# from steves_utils.ORACLE.utils_v2 import (\n",
    "#     ALL_DISTANCES_FEET,\n",
    "#     ALL_RUNS,\n",
    "#     ALL_SERIAL_NUMBERS,\n",
    "# )\n",
    "\n",
    "\n",
    "# add_dataset(\n",
    "#     labels=ALL_SERIAL_NUMBERS,\n",
    "#     domains = list(set(ALL_DISTANCES_FEET) - {2,62,56}),\n",
    "#     num_examples_per_domain_per_label=100,\n",
    "#     pickle_path=os.path.join(get_datasets_base_path(), \"oracle.Run2_framed_2000Examples_stratified_ds.2022A.pkl\"),\n",
    "#     source_or_target_dataset=\"source\",\n",
    "#     x_transform_func=global_x_transform_func,\n",
    "#     domain_modifier=lambda u: f\"oracle2_{u}\"\n",
    "# )"
   ]
  },
  {
   "cell_type": "code",
   "execution_count": 17,
   "id": "6f289866",
   "metadata": {
    "execution": {
     "iopub.execute_input": "2022-03-28T00:44:51.397098Z",
     "iopub.status.busy": "2022-03-28T00:44:51.396549Z",
     "iopub.status.idle": "2022-03-28T00:44:51.417995Z",
     "shell.execute_reply": "2022-03-28T00:44:51.417213Z"
    },
    "papermill": {
     "duration": 0.045683,
     "end_time": "2022-03-28T00:44:51.418147",
     "exception": false,
     "start_time": "2022-03-28T00:44:51.372464",
     "status": "completed"
    },
    "tags": []
   },
   "outputs": [],
   "source": [
    "# add_dataset(\n",
    "#     labels=list(range(19)),\n",
    "#     domains = [0,1,2],\n",
    "#     num_examples_per_domain_per_label=100,\n",
    "#     pickle_path=os.path.join(get_datasets_base_path(), \"metehan.stratified_ds.2022A.pkl\"),\n",
    "#     source_or_target_dataset=\"target\",\n",
    "#     x_transform_func=global_x_transform_func,\n",
    "#     domain_modifier=lambda u: f\"met_{u}\"\n",
    "# )"
   ]
  },
  {
   "cell_type": "code",
   "execution_count": 18,
   "id": "86a863c3",
   "metadata": {
    "execution": {
     "iopub.execute_input": "2022-03-28T00:44:51.472622Z",
     "iopub.status.busy": "2022-03-28T00:44:51.467345Z",
     "iopub.status.idle": "2022-03-28T00:44:51.491092Z",
     "shell.execute_reply": "2022-03-28T00:44:51.490307Z"
    },
    "papermill": {
     "duration": 0.047452,
     "end_time": "2022-03-28T00:44:51.491245",
     "exception": false,
     "start_time": "2022-03-28T00:44:51.443793",
     "status": "completed"
    },
    "tags": []
   },
   "outputs": [],
   "source": [
    "# # from steves_utils.wisig.utils import (\n",
    "# #     ALL_NODES_MINIMUM_100_EXAMPLES,\n",
    "# #     ALL_NODES_MINIMUM_500_EXAMPLES,\n",
    "# #     ALL_NODES_MINIMUM_1000_EXAMPLES,\n",
    "# #     ALL_DAYS\n",
    "# # )\n",
    "\n",
    "# import steves_utils.wisig.utils as wisig\n",
    "\n",
    "\n",
    "# add_dataset(\n",
    "#     labels=wisig.ALL_NODES_MINIMUM_100_EXAMPLES,\n",
    "#     domains = wisig.ALL_DAYS,\n",
    "#     num_examples_per_domain_per_label=100,\n",
    "#     pickle_path=os.path.join(get_datasets_base_path(), \"wisig.node3-19.stratified_ds.2022A.pkl\"),\n",
    "#     source_or_target_dataset=\"target\",\n",
    "#     x_transform_func=global_x_transform_func,\n",
    "#     domain_modifier=lambda u: f\"wisig_{u}\"\n",
    "# )"
   ]
  },
  {
   "cell_type": "code",
   "execution_count": 19,
   "id": "fd5442bc",
   "metadata": {
    "execution": {
     "iopub.execute_input": "2022-03-28T00:44:51.541680Z",
     "iopub.status.busy": "2022-03-28T00:44:51.541274Z",
     "iopub.status.idle": "2022-03-28T00:44:51.560789Z",
     "shell.execute_reply": "2022-03-28T00:44:51.560001Z"
    },
    "papermill": {
     "duration": 0.044579,
     "end_time": "2022-03-28T00:44:51.560944",
     "exception": false,
     "start_time": "2022-03-28T00:44:51.516365",
     "status": "completed"
    },
    "tags": []
   },
   "outputs": [],
   "source": [
    "###################################\n",
    "# Build the dataset\n",
    "###################################\n",
    "train_original_source = Iterable_Aggregator(train_original_source, p.seed)\n",
    "val_original_source = Iterable_Aggregator(val_original_source, p.seed)\n",
    "test_original_source = Iterable_Aggregator(test_original_source, p.seed)\n",
    "\n",
    "\n",
    "train_original_target = Iterable_Aggregator(train_original_target, p.seed)\n",
    "val_original_target = Iterable_Aggregator(val_original_target, p.seed)\n",
    "test_original_target = Iterable_Aggregator(test_original_target, p.seed)\n",
    "\n",
    "# For CNN We only use X and Y. And we only train on the source.\n",
    "# Properly form the data using a transform lambda and Lazy_Iterable_Wrapper. Finally wrap them in a dataloader\n",
    "\n",
    "transform_lambda = lambda ex: ex[1] # Original is (<domain>, <episode>) so we strip down to episode only\n",
    "\n",
    "train_processed_source = Lazy_Iterable_Wrapper(train_original_source, transform_lambda)\n",
    "val_processed_source   = Lazy_Iterable_Wrapper(val_original_source, transform_lambda)\n",
    "test_processed_source  = Lazy_Iterable_Wrapper(test_original_source, transform_lambda)\n",
    "\n",
    "train_processed_target = Lazy_Iterable_Wrapper(train_original_target, transform_lambda)\n",
    "val_processed_target   = Lazy_Iterable_Wrapper(val_original_target, transform_lambda)\n",
    "test_processed_target  = Lazy_Iterable_Wrapper(test_original_target, transform_lambda)\n",
    "\n",
    "datasets = EasyDict({\n",
    "    \"source\": {\n",
    "        \"original\": {\"train\":train_original_source, \"val\":val_original_source, \"test\":test_original_source},\n",
    "        \"processed\": {\"train\":train_processed_source, \"val\":val_processed_source, \"test\":test_processed_source}\n",
    "    },\n",
    "    \"target\": {\n",
    "        \"original\": {\"train\":train_original_target, \"val\":val_original_target, \"test\":test_original_target},\n",
    "        \"processed\": {\"train\":train_processed_target, \"val\":val_processed_target, \"test\":test_processed_target}\n",
    "    },\n",
    "})"
   ]
  },
  {
   "cell_type": "code",
   "execution_count": 20,
   "id": "5b3c01fc",
   "metadata": {
    "execution": {
     "iopub.execute_input": "2022-03-28T00:44:51.611855Z",
     "iopub.status.busy": "2022-03-28T00:44:51.611467Z",
     "iopub.status.idle": "2022-03-28T00:45:07.295428Z",
     "shell.execute_reply": "2022-03-28T00:45:07.296194Z"
    },
    "papermill": {
     "duration": 15.70854,
     "end_time": "2022-03-28T00:45:07.296418",
     "exception": false,
     "start_time": "2022-03-28T00:44:51.587878",
     "status": "completed"
    },
    "tags": []
   },
   "outputs": [
    {
     "name": "stdout",
     "output_type": "stream",
     "text": [
      "{'C_1', 'C_3', 'C_2', 'C_4', 'C_5'}\n"
     ]
    },
    {
     "name": "stdout",
     "output_type": "stream",
     "text": [
      "{'O_20', 'O_44', 'O_32', 'O_38', 'O_50', 'O_8', 'O_14', 'O_26'}\n"
     ]
    },
    {
     "name": "stdout",
     "output_type": "stream",
     "text": [
      "tensor([[[0., 0., 0.,  ..., 0., 0., 0.],\n",
      "         [0., 0., 0.,  ..., 0., 0., 0.]],\n",
      "\n",
      "        [[0., 0., 0.,  ..., 0., 0., 0.],\n",
      "         [0., 0., 0.,  ..., 0., 0., 0.]],\n",
      "\n",
      "        [[0., 0., 0.,  ..., 0., 0., 0.],\n",
      "         [0., 0., 0.,  ..., 0., 0., 0.]],\n",
      "\n",
      "        ...,\n",
      "\n",
      "        [[0., 0., 0.,  ..., 0., 0., 0.],\n",
      "         [0., 0., 0.,  ..., 0., 0., 0.]],\n",
      "\n",
      "        [[0., 0., 0.,  ..., 0., 0., 0.],\n",
      "         [0., 0., 0.,  ..., 0., 0., 0.]],\n",
      "\n",
      "        [[0., 0., 0.,  ..., 0., 0., 0.],\n",
      "         [0., 0., 0.,  ..., 0., 0., 0.]]])\n"
     ]
    }
   ],
   "source": [
    "from steves_utils.transforms import get_average_magnitude, get_average_power\n",
    "\n",
    "print(set([u for u,_ in val_original_source]))\n",
    "print(set([u for u,_ in val_original_target]))\n",
    "\n",
    "s_x, s_y, q_x, q_y, _ = next(iter(train_processed_source))\n",
    "print(s_x)\n",
    "\n",
    "# for ds in [\n",
    "#     train_processed_source,\n",
    "#     val_processed_source,\n",
    "#     test_processed_source,\n",
    "#     train_processed_target,\n",
    "#     val_processed_target,\n",
    "#     test_processed_target\n",
    "# ]:\n",
    "#     for s_x, s_y, q_x, q_y, _ in ds:\n",
    "#         for X in (s_x, q_x):\n",
    "#             for x in X:\n",
    "#                 assert np.isclose(get_average_magnitude(x.numpy()), 1.0)\n",
    "#                 assert np.isclose(get_average_power(x.numpy()), 1.0)\n",
    "                "
   ]
  },
  {
   "cell_type": "code",
   "execution_count": 21,
   "id": "bbdacba1",
   "metadata": {
    "execution": {
     "iopub.execute_input": "2022-03-28T00:45:07.350841Z",
     "iopub.status.busy": "2022-03-28T00:45:07.350275Z",
     "iopub.status.idle": "2022-03-28T00:45:07.583779Z",
     "shell.execute_reply": "2022-03-28T00:45:07.582939Z"
    },
    "papermill": {
     "duration": 0.260699,
     "end_time": "2022-03-28T00:45:07.584016",
     "exception": false,
     "start_time": "2022-03-28T00:45:07.323317",
     "status": "completed"
    },
    "tags": []
   },
   "outputs": [
    {
     "name": "stdout",
     "output_type": "stream",
     "text": [
      "(2, 256)\n"
     ]
    }
   ],
   "source": [
    "###################################\n",
    "# Build the model\n",
    "###################################\n",
    "# easfsl only wants a tuple for the shape\n",
    "model = Steves_Prototypical_Network(x_net, device=p.device, x_shape=tuple(p.x_shape))\n",
    "optimizer = Adam(params=model.parameters(), lr=p.lr)"
   ]
  },
  {
   "cell_type": "code",
   "execution_count": 22,
   "id": "22b39ac5",
   "metadata": {
    "execution": {
     "iopub.execute_input": "2022-03-28T00:45:07.639522Z",
     "iopub.status.busy": "2022-03-28T00:45:07.639142Z",
     "iopub.status.idle": "2022-03-28T01:50:21.115935Z",
     "shell.execute_reply": "2022-03-28T01:50:21.113209Z"
    },
    "papermill": {
     "duration": 3913.505265,
     "end_time": "2022-03-28T01:50:21.117691",
     "exception": false,
     "start_time": "2022-03-28T00:45:07.612426",
     "status": "completed"
    },
    "tags": []
   },
   "outputs": [
    {
     "name": "stdout",
     "output_type": "stream",
     "text": [
      "epoch: 1, [batch: 1 / 6317], examples_per_second: 33.6170, train_label_loss: 2.2146, \n"
     ]
    },
    {
     "name": "stdout",
     "output_type": "stream",
     "text": [
      "epoch: 1, [batch: 632 / 6317], examples_per_second: 1667.1578, train_label_loss: 0.0685, \n"
     ]
    },
    {
     "name": "stdout",
     "output_type": "stream",
     "text": [
      "epoch: 1, [batch: 1264 / 6317], examples_per_second: 1891.4839, train_label_loss: 0.0007, \n"
     ]
    },
    {
     "name": "stdout",
     "output_type": "stream",
     "text": [
      "epoch: 1, [batch: 1895 / 6317], examples_per_second: 2348.3695, train_label_loss: 0.0119, \n"
     ]
    },
    {
     "name": "stdout",
     "output_type": "stream",
     "text": [
      "epoch: 1, [batch: 2527 / 6317], examples_per_second: 2596.7230, train_label_loss: 0.0043, \n"
     ]
    },
    {
     "name": "stdout",
     "output_type": "stream",
     "text": [
      "epoch: 1, [batch: 3159 / 6317], examples_per_second: 3136.8360, train_label_loss: 0.0105, \n"
     ]
    },
    {
     "name": "stdout",
     "output_type": "stream",
     "text": [
      "epoch: 1, [batch: 3790 / 6317], examples_per_second: 3892.5398, train_label_loss: 0.0023, \n"
     ]
    },
    {
     "name": "stdout",
     "output_type": "stream",
     "text": [
      "epoch: 1, [batch: 4422 / 6317], examples_per_second: 3957.3129, train_label_loss: 0.0038, \n"
     ]
    },
    {
     "name": "stdout",
     "output_type": "stream",
     "text": [
      "epoch: 1, [batch: 5053 / 6317], examples_per_second: 4291.4545, train_label_loss: 0.0008, \n"
     ]
    },
    {
     "name": "stdout",
     "output_type": "stream",
     "text": [
      "epoch: 1, [batch: 5685 / 6317], examples_per_second: 4528.5491, train_label_loss: 0.0026, \n"
     ]
    },
    {
     "name": "stdout",
     "output_type": "stream",
     "text": [
      "=============================================================\n",
      "epoch: 1, source_val_acc_label: 0.9896, target_val_acc_label: 0.3492, source_val_label_loss: 0.2890, target_val_label_loss: 34.9053, \n",
      "=============================================================\n"
     ]
    },
    {
     "name": "stdout",
     "output_type": "stream",
     "text": [
      "New best\n"
     ]
    },
    {
     "name": "stdout",
     "output_type": "stream",
     "text": [
      "epoch: 2, [batch: 1 / 6315], examples_per_second: 4.0676, train_label_loss: 0.1439, \n"
     ]
    },
    {
     "name": "stdout",
     "output_type": "stream",
     "text": [
      "epoch: 2, [batch: 632 / 6315], examples_per_second: 3788.1509, train_label_loss: 0.0000, \n"
     ]
    },
    {
     "name": "stdout",
     "output_type": "stream",
     "text": [
      "epoch: 2, [batch: 1263 / 6315], examples_per_second: 3831.6904, train_label_loss: 0.0007, \n"
     ]
    },
    {
     "name": "stdout",
     "output_type": "stream",
     "text": [
      "epoch: 2, [batch: 1895 / 6315], examples_per_second: 1992.7382, train_label_loss: 0.0002, \n"
     ]
    },
    {
     "name": "stdout",
     "output_type": "stream",
     "text": [
      "epoch: 2, [batch: 2526 / 6315], examples_per_second: 1690.4518, train_label_loss: 0.0101, \n"
     ]
    },
    {
     "name": "stdout",
     "output_type": "stream",
     "text": [
      "epoch: 2, [batch: 3158 / 6315], examples_per_second: 1684.1196, train_label_loss: 0.0000, \n"
     ]
    },
    {
     "name": "stdout",
     "output_type": "stream",
     "text": [
      "epoch: 2, [batch: 3789 / 6315], examples_per_second: 2257.1198, train_label_loss: 0.0016, \n"
     ]
    },
    {
     "name": "stdout",
     "output_type": "stream",
     "text": [
      "epoch: 2, [batch: 4420 / 6315], examples_per_second: 1742.9695, train_label_loss: 0.0001, \n"
     ]
    },
    {
     "name": "stdout",
     "output_type": "stream",
     "text": [
      "epoch: 2, [batch: 5052 / 6315], examples_per_second: 1851.3948, train_label_loss: 0.0006, \n"
     ]
    },
    {
     "name": "stdout",
     "output_type": "stream",
     "text": [
      "epoch: 2, [batch: 5683 / 6315], examples_per_second: 2064.6370, train_label_loss: 0.0360, \n"
     ]
    },
    {
     "name": "stdout",
     "output_type": "stream",
     "text": [
      "=============================================================\n",
      "epoch: 2, source_val_acc_label: 0.9962, target_val_acc_label: 0.4012, source_val_label_loss: 0.0216, target_val_label_loss: 1.6932, \n",
      "=============================================================\n"
     ]
    },
    {
     "name": "stdout",
     "output_type": "stream",
     "text": [
      "New best\n"
     ]
    },
    {
     "name": "stdout",
     "output_type": "stream",
     "text": [
      "epoch: 3, [batch: 1 / 6325], examples_per_second: 1.6049, train_label_loss: 0.5388, \n"
     ]
    },
    {
     "name": "stdout",
     "output_type": "stream",
     "text": [
      "epoch: 3, [batch: 633 / 6325], examples_per_second: 1680.7005, train_label_loss: 0.0002, \n"
     ]
    },
    {
     "name": "stdout",
     "output_type": "stream",
     "text": [
      "epoch: 3, [batch: 1265 / 6325], examples_per_second: 1682.5145, train_label_loss: 0.0002, \n"
     ]
    },
    {
     "name": "stdout",
     "output_type": "stream",
     "text": [
      "epoch: 3, [batch: 1898 / 6325], examples_per_second: 1902.0397, train_label_loss: 0.0000, \n"
     ]
    },
    {
     "name": "stdout",
     "output_type": "stream",
     "text": [
      "epoch: 3, [batch: 2530 / 6325], examples_per_second: 1800.0935, train_label_loss: 0.0000, \n"
     ]
    },
    {
     "name": "stdout",
     "output_type": "stream",
     "text": [
      "epoch: 3, [batch: 3163 / 6325], examples_per_second: 1676.7391, train_label_loss: 0.0000, \n"
     ]
    },
    {
     "name": "stdout",
     "output_type": "stream",
     "text": [
      "epoch: 3, [batch: 3795 / 6325], examples_per_second: 1679.1584, train_label_loss: 0.0000, \n"
     ]
    },
    {
     "name": "stdout",
     "output_type": "stream",
     "text": [
      "epoch: 3, [batch: 4427 / 6325], examples_per_second: 2083.9305, train_label_loss: 0.0000, \n"
     ]
    },
    {
     "name": "stdout",
     "output_type": "stream",
     "text": [
      "epoch: 3, [batch: 5060 / 6325], examples_per_second: 1819.1682, train_label_loss: 0.0001, \n"
     ]
    },
    {
     "name": "stdout",
     "output_type": "stream",
     "text": [
      "epoch: 3, [batch: 5692 / 6325], examples_per_second: 1801.0244, train_label_loss: 0.0000, \n"
     ]
    },
    {
     "name": "stdout",
     "output_type": "stream",
     "text": [
      "=============================================================\n",
      "epoch: 3, source_val_acc_label: 0.9980, target_val_acc_label: 0.4583, source_val_label_loss: 0.0130, target_val_label_loss: 1.6456, \n",
      "=============================================================\n"
     ]
    },
    {
     "name": "stdout",
     "output_type": "stream",
     "text": [
      "New best\n"
     ]
    },
    {
     "name": "stdout",
     "output_type": "stream",
     "text": [
      "epoch: 4, [batch: 1 / 6307], examples_per_second: 1.5471, train_label_loss: 0.0009, \n"
     ]
    },
    {
     "name": "stdout",
     "output_type": "stream",
     "text": [
      "epoch: 4, [batch: 631 / 6307], examples_per_second: 1858.8380, train_label_loss: 0.0001, \n"
     ]
    },
    {
     "name": "stdout",
     "output_type": "stream",
     "text": [
      "epoch: 4, [batch: 1262 / 6307], examples_per_second: 1676.0586, train_label_loss: 0.0001, \n"
     ]
    },
    {
     "name": "stdout",
     "output_type": "stream",
     "text": [
      "epoch: 4, [batch: 1892 / 6307], examples_per_second: 1675.4590, train_label_loss: 0.0006, \n"
     ]
    },
    {
     "name": "stdout",
     "output_type": "stream",
     "text": [
      "epoch: 4, [batch: 2523 / 6307], examples_per_second: 2247.9967, train_label_loss: 0.0004, \n"
     ]
    },
    {
     "name": "stdout",
     "output_type": "stream",
     "text": [
      "epoch: 4, [batch: 3154 / 6307], examples_per_second: 2383.8407, train_label_loss: 0.0022, \n"
     ]
    },
    {
     "name": "stdout",
     "output_type": "stream",
     "text": [
      "epoch: 4, [batch: 3784 / 6307], examples_per_second: 3009.6697, train_label_loss: 0.0003, \n"
     ]
    },
    {
     "name": "stdout",
     "output_type": "stream",
     "text": [
      "epoch: 4, [batch: 4415 / 6307], examples_per_second: 3572.6847, train_label_loss: 0.0001, \n"
     ]
    },
    {
     "name": "stdout",
     "output_type": "stream",
     "text": [
      "epoch: 4, [batch: 5045 / 6307], examples_per_second: 4441.6895, train_label_loss: 0.0000, \n"
     ]
    },
    {
     "name": "stdout",
     "output_type": "stream",
     "text": [
      "epoch: 4, [batch: 5676 / 6307], examples_per_second: 4709.9117, train_label_loss: 0.0000, \n"
     ]
    },
    {
     "name": "stdout",
     "output_type": "stream",
     "text": [
      "=============================================================\n",
      "epoch: 4, source_val_acc_label: 0.9988, target_val_acc_label: 0.4675, source_val_label_loss: 0.0122, target_val_label_loss: 1.5377, \n",
      "=============================================================\n"
     ]
    },
    {
     "name": "stdout",
     "output_type": "stream",
     "text": [
      "New best\n"
     ]
    },
    {
     "name": "stdout",
     "output_type": "stream",
     "text": [
      "epoch: 5, [batch: 1 / 6302], examples_per_second: 4.0903, train_label_loss: 0.0137, \n"
     ]
    },
    {
     "name": "stdout",
     "output_type": "stream",
     "text": [
      "epoch: 5, [batch: 631 / 6302], examples_per_second: 3745.4190, train_label_loss: 0.2301, \n"
     ]
    },
    {
     "name": "stdout",
     "output_type": "stream",
     "text": [
      "epoch: 5, [batch: 1261 / 6302], examples_per_second: 3848.7361, train_label_loss: 0.0000, \n"
     ]
    },
    {
     "name": "stdout",
     "output_type": "stream",
     "text": [
      "epoch: 5, [batch: 1891 / 6302], examples_per_second: 3829.7799, train_label_loss: 0.0000, \n"
     ]
    },
    {
     "name": "stdout",
     "output_type": "stream",
     "text": [
      "epoch: 5, [batch: 2521 / 6302], examples_per_second: 3180.9737, train_label_loss: 0.0079, \n"
     ]
    },
    {
     "name": "stdout",
     "output_type": "stream",
     "text": [
      "epoch: 5, [batch: 3151 / 6302], examples_per_second: 1690.4488, train_label_loss: 0.0070, \n"
     ]
    },
    {
     "name": "stdout",
     "output_type": "stream",
     "text": [
      "epoch: 5, [batch: 3781 / 6302], examples_per_second: 1680.7632, train_label_loss: 0.0007, \n"
     ]
    },
    {
     "name": "stdout",
     "output_type": "stream",
     "text": [
      "epoch: 5, [batch: 4411 / 6302], examples_per_second: 1964.8756, train_label_loss: 0.0001, \n"
     ]
    },
    {
     "name": "stdout",
     "output_type": "stream",
     "text": [
      "epoch: 5, [batch: 5041 / 6302], examples_per_second: 2100.4997, train_label_loss: 0.0005, \n"
     ]
    },
    {
     "name": "stdout",
     "output_type": "stream",
     "text": [
      "epoch: 5, [batch: 5671 / 6302], examples_per_second: 1832.0563, train_label_loss: 0.0001, \n"
     ]
    },
    {
     "name": "stdout",
     "output_type": "stream",
     "text": [
      "=============================================================\n",
      "epoch: 5, source_val_acc_label: 0.9994, target_val_acc_label: 0.5013, source_val_label_loss: 0.0067, target_val_label_loss: 1.5400, \n",
      "=============================================================\n"
     ]
    },
    {
     "name": "stdout",
     "output_type": "stream",
     "text": [
      "New best\n"
     ]
    },
    {
     "name": "stdout",
     "output_type": "stream",
     "text": [
      "epoch: 6, [batch: 1 / 6311], examples_per_second: 1.7283, train_label_loss: 0.0000, \n"
     ]
    },
    {
     "name": "stdout",
     "output_type": "stream",
     "text": [
      "epoch: 6, [batch: 632 / 6311], examples_per_second: 1981.5916, train_label_loss: 0.0241, \n"
     ]
    },
    {
     "name": "stdout",
     "output_type": "stream",
     "text": [
      "epoch: 6, [batch: 1263 / 6311], examples_per_second: 2039.3816, train_label_loss: 0.0000, \n"
     ]
    },
    {
     "name": "stdout",
     "output_type": "stream",
     "text": [
      "epoch: 6, [batch: 1894 / 6311], examples_per_second: 1821.8224, train_label_loss: 0.7649, \n"
     ]
    },
    {
     "name": "stdout",
     "output_type": "stream",
     "text": [
      "epoch: 6, [batch: 2525 / 6311], examples_per_second: 1814.8590, train_label_loss: 0.0000, \n"
     ]
    },
    {
     "name": "stdout",
     "output_type": "stream",
     "text": [
      "epoch: 6, [batch: 3156 / 6311], examples_per_second: 2151.1390, train_label_loss: 0.0000, \n"
     ]
    },
    {
     "name": "stdout",
     "output_type": "stream",
     "text": [
      "epoch: 6, [batch: 3787 / 6311], examples_per_second: 1800.6525, train_label_loss: 0.0306, \n"
     ]
    },
    {
     "name": "stdout",
     "output_type": "stream",
     "text": [
      "epoch: 6, [batch: 4418 / 6311], examples_per_second: 1871.0971, train_label_loss: 0.0000, \n"
     ]
    },
    {
     "name": "stdout",
     "output_type": "stream",
     "text": [
      "epoch: 6, [batch: 5049 / 6311], examples_per_second: 2536.1282, train_label_loss: 0.0000, \n"
     ]
    },
    {
     "name": "stdout",
     "output_type": "stream",
     "text": [
      "epoch: 6, [batch: 5680 / 6311], examples_per_second: 2301.2270, train_label_loss: 0.0000, \n"
     ]
    },
    {
     "name": "stdout",
     "output_type": "stream",
     "text": [
      "=============================================================\n",
      "epoch: 6, source_val_acc_label: 0.9975, target_val_acc_label: 0.4290, source_val_label_loss: 0.0123, target_val_label_loss: 1.5951, \n",
      "=============================================================\n"
     ]
    },
    {
     "name": "stdout",
     "output_type": "stream",
     "text": [
      "epoch: 7, [batch: 1 / 6310], examples_per_second: 2.0992, train_label_loss: 0.0001, \n"
     ]
    },
    {
     "name": "stdout",
     "output_type": "stream",
     "text": [
      "epoch: 7, [batch: 631 / 6310], examples_per_second: 2089.6443, train_label_loss: 0.0000, \n"
     ]
    },
    {
     "name": "stdout",
     "output_type": "stream",
     "text": [
      "epoch: 7, [batch: 1262 / 6310], examples_per_second: 2149.9395, train_label_loss: 0.0000, \n"
     ]
    },
    {
     "name": "stdout",
     "output_type": "stream",
     "text": [
      "epoch: 7, [batch: 1893 / 6310], examples_per_second: 2718.2980, train_label_loss: 0.0001, \n"
     ]
    },
    {
     "name": "stdout",
     "output_type": "stream",
     "text": [
      "epoch: 7, [batch: 2524 / 6310], examples_per_second: 2102.7281, train_label_loss: 0.0002, \n"
     ]
    },
    {
     "name": "stdout",
     "output_type": "stream",
     "text": [
      "epoch: 7, [batch: 3155 / 6310], examples_per_second: 2035.4276, train_label_loss: 0.0000, \n"
     ]
    },
    {
     "name": "stdout",
     "output_type": "stream",
     "text": [
      "epoch: 7, [batch: 3786 / 6310], examples_per_second: 1869.2128, train_label_loss: 0.0000, \n"
     ]
    },
    {
     "name": "stdout",
     "output_type": "stream",
     "text": [
      "epoch: 7, [batch: 4417 / 6310], examples_per_second: 1864.4943, train_label_loss: 0.0000, \n"
     ]
    },
    {
     "name": "stdout",
     "output_type": "stream",
     "text": [
      "epoch: 7, [batch: 5048 / 6310], examples_per_second: 1667.5305, train_label_loss: 0.0005, \n"
     ]
    },
    {
     "name": "stdout",
     "output_type": "stream",
     "text": [
      "epoch: 7, [batch: 5679 / 6310], examples_per_second: 1686.2023, train_label_loss: 0.0001, \n"
     ]
    },
    {
     "name": "stdout",
     "output_type": "stream",
     "text": [
      "=============================================================\n",
      "epoch: 7, source_val_acc_label: 0.9991, target_val_acc_label: 0.3499, source_val_label_loss: 0.0081, target_val_label_loss: 6.2043, \n",
      "=============================================================\n"
     ]
    },
    {
     "name": "stdout",
     "output_type": "stream",
     "text": [
      "epoch: 8, [batch: 1 / 6331], examples_per_second: 1.5347, train_label_loss: 0.0001, \n"
     ]
    },
    {
     "name": "stdout",
     "output_type": "stream",
     "text": [
      "epoch: 8, [batch: 634 / 6331], examples_per_second: 1687.0121, train_label_loss: 0.0000, \n"
     ]
    },
    {
     "name": "stdout",
     "output_type": "stream",
     "text": [
      "epoch: 8, [batch: 1267 / 6331], examples_per_second: 1675.6932, train_label_loss: 0.0000, \n"
     ]
    },
    {
     "name": "stdout",
     "output_type": "stream",
     "text": [
      "epoch: 8, [batch: 1900 / 6331], examples_per_second: 1862.1099, train_label_loss: 0.0000, \n"
     ]
    },
    {
     "name": "stdout",
     "output_type": "stream",
     "text": [
      "epoch: 8, [batch: 2533 / 6331], examples_per_second: 2675.3266, train_label_loss: 0.0213, \n"
     ]
    },
    {
     "name": "stdout",
     "output_type": "stream",
     "text": [
      "epoch: 8, [batch: 3166 / 6331], examples_per_second: 2888.9572, train_label_loss: 0.0000, \n"
     ]
    },
    {
     "name": "stdout",
     "output_type": "stream",
     "text": [
      "epoch: 8, [batch: 3799 / 6331], examples_per_second: 3490.4237, train_label_loss: 0.0000, \n"
     ]
    },
    {
     "name": "stdout",
     "output_type": "stream",
     "text": [
      "epoch: 8, [batch: 4432 / 6331], examples_per_second: 3784.7859, train_label_loss: 0.0004, \n"
     ]
    },
    {
     "name": "stdout",
     "output_type": "stream",
     "text": [
      "epoch: 8, [batch: 5065 / 6331], examples_per_second: 3767.1988, train_label_loss: 0.0003, \n"
     ]
    },
    {
     "name": "stdout",
     "output_type": "stream",
     "text": [
      "epoch: 8, [batch: 5698 / 6331], examples_per_second: 3841.5166, train_label_loss: 0.0000, \n"
     ]
    },
    {
     "name": "stdout",
     "output_type": "stream",
     "text": [
      "=============================================================\n",
      "epoch: 8, source_val_acc_label: 0.9979, target_val_acc_label: 0.4712, source_val_label_loss: 0.0173, target_val_label_loss: 1.5141, \n",
      "=============================================================\n"
     ]
    },
    {
     "name": "stdout",
     "output_type": "stream",
     "text": [
      "epoch: 9, [batch: 1 / 6311], examples_per_second: 4.0425, train_label_loss: 0.0070, \n"
     ]
    },
    {
     "name": "stdout",
     "output_type": "stream",
     "text": [
      "epoch: 9, [batch: 632 / 6311], examples_per_second: 3805.3180, train_label_loss: 0.0001, \n"
     ]
    },
    {
     "name": "stdout",
     "output_type": "stream",
     "text": [
      "epoch: 9, [batch: 1263 / 6311], examples_per_second: 3799.3964, train_label_loss: 0.0001, \n"
     ]
    },
    {
     "name": "stdout",
     "output_type": "stream",
     "text": [
      "epoch: 9, [batch: 1894 / 6311], examples_per_second: 3797.4117, train_label_loss: 0.0050, \n"
     ]
    },
    {
     "name": "stdout",
     "output_type": "stream",
     "text": [
      "epoch: 9, [batch: 2525 / 6311], examples_per_second: 1817.1095, train_label_loss: 0.0000, \n"
     ]
    },
    {
     "name": "stdout",
     "output_type": "stream",
     "text": [
      "epoch: 9, [batch: 3156 / 6311], examples_per_second: 1839.8150, train_label_loss: 0.0000, \n"
     ]
    },
    {
     "name": "stdout",
     "output_type": "stream",
     "text": [
      "epoch: 9, [batch: 3787 / 6311], examples_per_second: 1970.3975, train_label_loss: 0.0000, \n"
     ]
    },
    {
     "name": "stdout",
     "output_type": "stream",
     "text": [
      "epoch: 9, [batch: 4418 / 6311], examples_per_second: 2468.8131, train_label_loss: 0.0000, \n"
     ]
    },
    {
     "name": "stdout",
     "output_type": "stream",
     "text": [
      "epoch: 9, [batch: 5049 / 6311], examples_per_second: 1687.4951, train_label_loss: 0.0000, \n"
     ]
    },
    {
     "name": "stdout",
     "output_type": "stream",
     "text": [
      "epoch: 9, [batch: 5680 / 6311], examples_per_second: 1690.6457, train_label_loss: 0.0000, \n"
     ]
    },
    {
     "name": "stdout",
     "output_type": "stream",
     "text": [
      "=============================================================\n",
      "epoch: 9, source_val_acc_label: 0.9993, target_val_acc_label: 0.5037, source_val_label_loss: 0.0055, target_val_label_loss: 1.4275, \n",
      "=============================================================\n"
     ]
    },
    {
     "name": "stdout",
     "output_type": "stream",
     "text": [
      "New best\n"
     ]
    },
    {
     "name": "stdout",
     "output_type": "stream",
     "text": [
      "epoch: 10, [batch: 1 / 6309], examples_per_second: 1.5323, train_label_loss: 0.0002, \n"
     ]
    },
    {
     "name": "stdout",
     "output_type": "stream",
     "text": [
      "epoch: 10, [batch: 631 / 6309], examples_per_second: 1958.5628, train_label_loss: 0.0000, \n"
     ]
    },
    {
     "name": "stdout",
     "output_type": "stream",
     "text": [
      "epoch: 10, [batch: 1262 / 6309], examples_per_second: 1680.7144, train_label_loss: 0.0000, \n"
     ]
    },
    {
     "name": "stdout",
     "output_type": "stream",
     "text": [
      "epoch: 10, [batch: 1893 / 6309], examples_per_second: 1690.7947, train_label_loss: 0.0000, \n"
     ]
    },
    {
     "name": "stdout",
     "output_type": "stream",
     "text": [
      "epoch: 10, [batch: 2524 / 6309], examples_per_second: 2020.1733, train_label_loss: 0.0000, \n"
     ]
    },
    {
     "name": "stdout",
     "output_type": "stream",
     "text": [
      "epoch: 10, [batch: 3155 / 6309], examples_per_second: 1818.7542, train_label_loss: 0.0000, \n"
     ]
    },
    {
     "name": "stdout",
     "output_type": "stream",
     "text": [
      "epoch: 10, [batch: 3785 / 6309], examples_per_second: 1818.6895, train_label_loss: 0.0114, \n"
     ]
    },
    {
     "name": "stdout",
     "output_type": "stream",
     "text": [
      "epoch: 10, [batch: 4416 / 6309], examples_per_second: 1919.7351, train_label_loss: 0.0024, \n"
     ]
    },
    {
     "name": "stdout",
     "output_type": "stream",
     "text": [
      "epoch: 10, [batch: 5047 / 6309], examples_per_second: 2076.8741, train_label_loss: 0.0000, \n"
     ]
    },
    {
     "name": "stdout",
     "output_type": "stream",
     "text": [
      "epoch: 10, [batch: 5678 / 6309], examples_per_second: 1675.9163, train_label_loss: 0.0000, \n"
     ]
    },
    {
     "name": "stdout",
     "output_type": "stream",
     "text": [
      "=============================================================\n",
      "epoch: 10, source_val_acc_label: 0.9992, target_val_acc_label: 0.5024, source_val_label_loss: 0.0066, target_val_label_loss: 1.4505, \n",
      "=============================================================\n"
     ]
    },
    {
     "name": "stdout",
     "output_type": "stream",
     "text": [
      "epoch: 11, [batch: 1 / 6319], examples_per_second: 1.5171, train_label_loss: 0.0000, \n"
     ]
    },
    {
     "name": "stdout",
     "output_type": "stream",
     "text": [
      "epoch: 11, [batch: 632 / 6319], examples_per_second: 1840.8277, train_label_loss: 0.0000, \n"
     ]
    },
    {
     "name": "stdout",
     "output_type": "stream",
     "text": [
      "epoch: 11, [batch: 1264 / 6319], examples_per_second: 1826.6845, train_label_loss: 0.0000, \n"
     ]
    },
    {
     "name": "stdout",
     "output_type": "stream",
     "text": [
      "epoch: 11, [batch: 1896 / 6319], examples_per_second: 1674.0590, train_label_loss: 0.0000, \n"
     ]
    },
    {
     "name": "stdout",
     "output_type": "stream",
     "text": [
      "epoch: 11, [batch: 2528 / 6319], examples_per_second: 1669.6789, train_label_loss: 0.0023, \n"
     ]
    },
    {
     "name": "stdout",
     "output_type": "stream",
     "text": [
      "epoch: 11, [batch: 3160 / 6319], examples_per_second: 2089.9843, train_label_loss: 0.0011, \n"
     ]
    },
    {
     "name": "stdout",
     "output_type": "stream",
     "text": [
      "epoch: 11, [batch: 3791 / 6319], examples_per_second: 1789.6243, train_label_loss: 0.0000, \n"
     ]
    },
    {
     "name": "stdout",
     "output_type": "stream",
     "text": [
      "epoch: 11, [batch: 4423 / 6319], examples_per_second: 1826.2914, train_label_loss: 0.0000, \n"
     ]
    },
    {
     "name": "stdout",
     "output_type": "stream",
     "text": [
      "epoch: 11, [batch: 5055 / 6319], examples_per_second: 2205.4150, train_label_loss: 0.0000, \n"
     ]
    },
    {
     "name": "stdout",
     "output_type": "stream",
     "text": [
      "epoch: 11, [batch: 5687 / 6319], examples_per_second: 1803.0829, train_label_loss: 0.0000, \n"
     ]
    },
    {
     "name": "stdout",
     "output_type": "stream",
     "text": [
      "=============================================================\n",
      "epoch: 11, source_val_acc_label: 0.9995, target_val_acc_label: 0.4312, source_val_label_loss: 0.0042, target_val_label_loss: 1.5546, \n",
      "=============================================================\n"
     ]
    },
    {
     "name": "stdout",
     "output_type": "stream",
     "text": [
      "epoch: 12, [batch: 1 / 6329], examples_per_second: 1.5040, train_label_loss: 0.0000, \n"
     ]
    },
    {
     "name": "stdout",
     "output_type": "stream",
     "text": [
      "epoch: 12, [batch: 633 / 6329], examples_per_second: 1673.7279, train_label_loss: 0.0000, \n"
     ]
    },
    {
     "name": "stdout",
     "output_type": "stream",
     "text": [
      "epoch: 12, [batch: 1266 / 6329], examples_per_second: 2094.5761, train_label_loss: 0.0000, \n"
     ]
    },
    {
     "name": "stdout",
     "output_type": "stream",
     "text": [
      "epoch: 12, [batch: 1899 / 6329], examples_per_second: 1675.8669, train_label_loss: 0.0000, \n"
     ]
    },
    {
     "name": "stdout",
     "output_type": "stream",
     "text": [
      "epoch: 12, [batch: 2532 / 6329], examples_per_second: 1673.5860, train_label_loss: 0.0000, \n"
     ]
    },
    {
     "name": "stdout",
     "output_type": "stream",
     "text": [
      "epoch: 12, [batch: 3165 / 6329], examples_per_second: 1823.8334, train_label_loss: 0.0000, \n"
     ]
    },
    {
     "name": "stdout",
     "output_type": "stream",
     "text": [
      "epoch: 12, [batch: 3797 / 6329], examples_per_second: 1895.5491, train_label_loss: 0.0001, \n"
     ]
    },
    {
     "name": "stdout",
     "output_type": "stream",
     "text": [
      "epoch: 12, [batch: 4430 / 6329], examples_per_second: 1801.3260, train_label_loss: 0.0000, \n"
     ]
    },
    {
     "name": "stdout",
     "output_type": "stream",
     "text": [
      "epoch: 12, [batch: 5063 / 6329], examples_per_second: 1824.8836, train_label_loss: 0.0000, \n"
     ]
    },
    {
     "name": "stdout",
     "output_type": "stream",
     "text": [
      "epoch: 12, [batch: 5696 / 6329], examples_per_second: 2284.6716, train_label_loss: 0.0002, \n"
     ]
    },
    {
     "name": "stdout",
     "output_type": "stream",
     "text": [
      "=============================================================\n",
      "epoch: 12, source_val_acc_label: 0.9899, target_val_acc_label: 0.3941, source_val_label_loss: 0.0565, target_val_label_loss: 1.8158, \n",
      "=============================================================\n"
     ]
    },
    {
     "name": "stdout",
     "output_type": "stream",
     "text": [
      "epoch: 13, [batch: 1 / 6336], examples_per_second: 1.5045, train_label_loss: 0.0002, \n"
     ]
    },
    {
     "name": "stdout",
     "output_type": "stream",
     "text": [
      "epoch: 13, [batch: 634 / 6336], examples_per_second: 1669.0767, train_label_loss: 0.0000, \n"
     ]
    },
    {
     "name": "stdout",
     "output_type": "stream",
     "text": [
      "epoch: 13, [batch: 1268 / 6336], examples_per_second: 1728.4856, train_label_loss: 0.0000, \n"
     ]
    },
    {
     "name": "stdout",
     "output_type": "stream",
     "text": [
      "epoch: 13, [batch: 1901 / 6336], examples_per_second: 1922.2623, train_label_loss: 0.0000, \n"
     ]
    },
    {
     "name": "stdout",
     "output_type": "stream",
     "text": [
      "epoch: 13, [batch: 2535 / 6336], examples_per_second: 1664.2422, train_label_loss: 0.0000, \n"
     ]
    },
    {
     "name": "stdout",
     "output_type": "stream",
     "text": [
      "epoch: 13, [batch: 3168 / 6336], examples_per_second: 1673.3280, train_label_loss: 0.0000, \n"
     ]
    },
    {
     "name": "stdout",
     "output_type": "stream",
     "text": [
      "epoch: 13, [batch: 3802 / 6336], examples_per_second: 2074.6386, train_label_loss: 0.0000, \n"
     ]
    },
    {
     "name": "stdout",
     "output_type": "stream",
     "text": [
      "epoch: 13, [batch: 4435 / 6336], examples_per_second: 1725.0761, train_label_loss: 0.0001, \n"
     ]
    },
    {
     "name": "stdout",
     "output_type": "stream",
     "text": [
      "epoch: 13, [batch: 5069 / 6336], examples_per_second: 1819.3237, train_label_loss: 0.0000, \n"
     ]
    },
    {
     "name": "stdout",
     "output_type": "stream",
     "text": [
      "epoch: 13, [batch: 5702 / 6336], examples_per_second: 2019.4350, train_label_loss: 0.0000, \n"
     ]
    },
    {
     "name": "stdout",
     "output_type": "stream",
     "text": [
      "=============================================================\n",
      "epoch: 13, source_val_acc_label: 0.9995, target_val_acc_label: 0.4709, source_val_label_loss: 0.0046, target_val_label_loss: 1.4656, \n",
      "=============================================================\n"
     ]
    },
    {
     "name": "stdout",
     "output_type": "stream",
     "text": [
      "Patience (3) exhausted\n"
     ]
    }
   ],
   "source": [
    "###################################\n",
    "# train\n",
    "###################################\n",
    "jig = PTN_Train_Eval_Test_Jig(model, p.BEST_MODEL_PATH, p.device)\n",
    "\n",
    "jig.train(\n",
    "    train_iterable=datasets.source.processed.train,\n",
    "    source_val_iterable=datasets.source.processed.val,\n",
    "    target_val_iterable=datasets.target.processed.val,\n",
    "    num_epochs=p.n_epoch,\n",
    "    num_logs_per_epoch=p.NUM_LOGS_PER_EPOCH,\n",
    "    patience=p.patience,\n",
    "    optimizer=optimizer,\n",
    "    criteria_for_best=p.criteria_for_best,\n",
    ")"
   ]
  },
  {
   "cell_type": "code",
   "execution_count": 23,
   "id": "31e8fabf",
   "metadata": {
    "execution": {
     "iopub.execute_input": "2022-03-28T01:50:21.273126Z",
     "iopub.status.busy": "2022-03-28T01:50:21.272283Z",
     "iopub.status.idle": "2022-03-28T01:50:21.460997Z",
     "shell.execute_reply": "2022-03-28T01:50:21.461647Z"
    },
    "papermill": {
     "duration": 0.276385,
     "end_time": "2022-03-28T01:50:21.461847",
     "exception": false,
     "start_time": "2022-03-28T01:50:21.185462",
     "status": "completed"
    },
    "tags": []
   },
   "outputs": [],
   "source": [
    "total_experiment_time_secs = time.time() - start_time_secs"
   ]
  },
  {
   "cell_type": "code",
   "execution_count": 24,
   "id": "87b9595b",
   "metadata": {
    "execution": {
     "iopub.execute_input": "2022-03-28T01:50:22.064748Z",
     "iopub.status.busy": "2022-03-28T01:50:22.053819Z",
     "iopub.status.idle": "2022-03-28T01:53:13.672796Z",
     "shell.execute_reply": "2022-03-28T01:53:13.672001Z"
    },
    "papermill": {
     "duration": 172.141647,
     "end_time": "2022-03-28T01:53:13.672986",
     "exception": false,
     "start_time": "2022-03-28T01:50:21.531339",
     "status": "completed"
    },
    "tags": []
   },
   "outputs": [],
   "source": [
    "###################################\n",
    "# Evaluate the model\n",
    "###################################\n",
    "source_test_label_accuracy, source_test_label_loss = jig.test(datasets.source.processed.test)\n",
    "target_test_label_accuracy, target_test_label_loss = jig.test(datasets.target.processed.test)\n",
    "\n",
    "source_val_label_accuracy, source_val_label_loss = jig.test(datasets.source.processed.val)\n",
    "target_val_label_accuracy, target_val_label_loss = jig.test(datasets.target.processed.val)\n",
    "\n",
    "history = jig.get_history()\n",
    "\n",
    "total_epochs_trained = len(history[\"epoch_indices\"])\n",
    "\n",
    "val_dl = Iterable_Aggregator((datasets.source.original.val,datasets.target.original.val))\n",
    "\n",
    "confusion = ptn_confusion_by_domain_over_dataloader(model, p.device, val_dl)\n",
    "per_domain_accuracy = per_domain_accuracy_from_confusion(confusion)\n",
    "\n",
    "# Add a key to per_domain_accuracy for if it was a source domain\n",
    "for domain, accuracy in per_domain_accuracy.items():\n",
    "    per_domain_accuracy[domain] = {\n",
    "        \"accuracy\": accuracy,\n",
    "        \"source?\": domain in p.domains_source\n",
    "    }\n",
    "\n",
    "# Do an independent accuracy assesment JUST TO BE SURE!\n",
    "# _source_test_label_accuracy = independent_accuracy_assesment(model, datasets.source.processed.test, p.device)\n",
    "# _target_test_label_accuracy = independent_accuracy_assesment(model, datasets.target.processed.test, p.device)\n",
    "# _source_val_label_accuracy = independent_accuracy_assesment(model, datasets.source.processed.val, p.device)\n",
    "# _target_val_label_accuracy = independent_accuracy_assesment(model, datasets.target.processed.val, p.device)\n",
    "\n",
    "# assert(_source_test_label_accuracy == source_test_label_accuracy)\n",
    "# assert(_target_test_label_accuracy == target_test_label_accuracy)\n",
    "# assert(_source_val_label_accuracy == source_val_label_accuracy)\n",
    "# assert(_target_val_label_accuracy == target_val_label_accuracy)\n",
    "\n",
    "experiment = {\n",
    "    \"experiment_name\": p.experiment_name,\n",
    "    \"parameters\": dict(p),\n",
    "    \"results\": {\n",
    "        \"source_test_label_accuracy\": source_test_label_accuracy,\n",
    "        \"source_test_label_loss\": source_test_label_loss,\n",
    "        \"target_test_label_accuracy\": target_test_label_accuracy,\n",
    "        \"target_test_label_loss\": target_test_label_loss,\n",
    "        \"source_val_label_accuracy\": source_val_label_accuracy,\n",
    "        \"source_val_label_loss\": source_val_label_loss,\n",
    "        \"target_val_label_accuracy\": target_val_label_accuracy,\n",
    "        \"target_val_label_loss\": target_val_label_loss,\n",
    "        \"total_epochs_trained\": total_epochs_trained,\n",
    "        \"total_experiment_time_secs\": total_experiment_time_secs,\n",
    "        \"confusion\": confusion,\n",
    "        \"per_domain_accuracy\": per_domain_accuracy,\n",
    "    },\n",
    "    \"history\": history,\n",
    "    \"dataset_metrics\": get_dataset_metrics(datasets, \"ptn\"),\n",
    "}"
   ]
  },
  {
   "cell_type": "code",
   "execution_count": 25,
   "id": "54a21829",
   "metadata": {
    "execution": {
     "iopub.execute_input": "2022-03-28T01:53:13.810599Z",
     "iopub.status.busy": "2022-03-28T01:53:13.809993Z",
     "iopub.status.idle": "2022-03-28T01:53:14.276930Z",
     "shell.execute_reply": "2022-03-28T01:53:14.277623Z"
    },
    "papermill": {
     "duration": 0.536278,
     "end_time": "2022-03-28T01:53:14.277820",
     "exception": false,
     "start_time": "2022-03-28T01:53:13.741542",
     "status": "completed"
    },
    "tags": []
   },
   "outputs": [
    {
     "data": {
      "image/png": "[encoded data removed]",
      "text/plain": [
       "<Figure size 1080x504 with 1 Axes>"
      ]
     },
     "metadata": {
      "needs_background": "light"
     },
     "output_type": "display_data"
    }
   ],
   "source": [
    "ax = get_loss_curve(experiment)\n",
    "plt.show()"
   ]
  },
  {
   "cell_type": "code",
   "execution_count": 26,
   "id": "fd8a0f60",
   "metadata": {
    "execution": {
     "iopub.execute_input": "2022-03-28T01:53:14.417143Z",
     "iopub.status.busy": "2022-03-28T01:53:14.416579Z",
     "iopub.status.idle": "2022-03-28T01:53:14.790476Z",
     "shell.execute_reply": "2022-03-28T01:53:14.790162Z"
    },
    "papermill": {
     "duration": 0.442771,
     "end_time": "2022-03-28T01:53:14.790556",
     "exception": false,
     "start_time": "2022-03-28T01:53:14.347785",
     "status": "completed"
    },
    "tags": []
   },
   "outputs": [
    {
     "data": {
      "text/plain": [
       "<AxesSubplot:title={'center':'Results'}>"
      ]
     },
     "execution_count": 26,
     "metadata": {},
     "output_type": "execute_result"
    },
    {
     "data": {
      "image/png": "[encoded data removed]",
      "text/plain": [
       "<Figure size 1080x504 with 1 Axes>"
      ]
     },
     "metadata": {
      "needs_background": "light"
     },
     "output_type": "display_data"
    }
   ],
   "source": [
    "get_results_table(experiment)"
   ]
  },
  {
   "cell_type": "code",
   "execution_count": 27,
   "id": "cf8dc689",
   "metadata": {
    "execution": {
     "iopub.execute_input": "2022-03-28T01:53:14.929856Z",
     "iopub.status.busy": "2022-03-28T01:53:14.928396Z",
     "iopub.status.idle": "2022-03-28T01:53:15.255563Z",
     "shell.execute_reply": "2022-03-28T01:53:15.254841Z"
    },
    "papermill": {
     "duration": 0.396406,
     "end_time": "2022-03-28T01:53:15.255731",
     "exception": false,
     "start_time": "2022-03-28T01:53:14.859325",
     "status": "completed"
    },
    "tags": []
   },
   "outputs": [
    {
     "data": {
      "text/plain": [
       "<AxesSubplot:title={'center':'Per Domain Validation Accuracy'}, xlabel='domain'>"
      ]
     },
     "execution_count": 27,
     "metadata": {},
     "output_type": "execute_result"
    },
    {
     "data": {
      "image/png": "[encoded data removed]",
      "text/plain": [
       "<Figure size 1080x504 with 1 Axes>"
      ]
     },
     "metadata": {
      "needs_background": "light"
     },
     "output_type": "display_data"
    }
   ],
   "source": [
    "get_domain_accuracies(experiment)"
   ]
  },
  {
   "cell_type": "code",
   "execution_count": 28,
   "id": "a74ae082",
   "metadata": {
    "execution": {
     "iopub.execute_input": "2022-03-28T01:53:15.400188Z",
     "iopub.status.busy": "2022-03-28T01:53:15.399754Z",
     "iopub.status.idle": "2022-03-28T01:53:15.425850Z",
     "shell.execute_reply": "2022-03-28T01:53:15.425033Z"
    },
    "papermill": {
     "duration": 0.097461,
     "end_time": "2022-03-28T01:53:15.426009",
     "exception": false,
     "start_time": "2022-03-28T01:53:15.328548",
     "status": "completed"
    },
    "tags": []
   },
   "outputs": [
    {
     "name": "stdout",
     "output_type": "stream",
     "text": [
      "Source Test Label Accuracy: 0.9992977528089888 Target Test Label Accuracy: 0.5085286458333333\n",
      "Source Val Label Accuracy: 0.9993214285714286 Target Val Label Accuracy: 0.5037109375\n"
     ]
    }
   ],
   "source": [
    "print(\"Source Test Label Accuracy:\", experiment[\"results\"][\"source_test_label_accuracy\"], \"Target Test Label Accuracy:\", experiment[\"results\"][\"target_test_label_accuracy\"])\n",
    "print(\"Source Val Label Accuracy:\", experiment[\"results\"][\"source_val_label_accuracy\"], \"Target Val Label Accuracy:\", experiment[\"results\"][\"target_val_label_accuracy\"])"
   ]
  },
  {
   "cell_type": "code",
   "execution_count": 29,
   "id": "dacca602",
   "metadata": {
    "execution": {
     "iopub.execute_input": "2022-03-28T01:53:15.576282Z",
     "iopub.status.busy": "2022-03-28T01:53:15.575909Z",
     "iopub.status.idle": "2022-03-28T01:53:15.602383Z",
     "shell.execute_reply": "2022-03-28T01:53:15.603066Z"
    },
    "papermill": {
     "duration": 0.097003,
     "end_time": "2022-03-28T01:53:15.603256",
     "exception": false,
     "start_time": "2022-03-28T01:53:15.506253",
     "status": "completed"
    },
    "tags": [
     "experiment_json"
    ]
   },
   "outputs": [
    {
     "data": {
      "text/plain": [
       "'{\"experiment_name\": \"tl_3-jitter1v2:cores -> oracle.run1.framed\", \"parameters\": {\"experiment_name\": \"tl_3-jitter1v2:cores -> oracle.run1.framed\", \"device\": \"cuda\", \"lr\": 0.0001, \"x_shape\": [2, 256], \"n_shot\": 3, \"n_query\": 2, \"train_k_factor\": 3, \"val_k_factor\": 2, \"test_k_factor\": 2, \"torch_default_dtype\": \"torch.float32\", \"n_epoch\": 50, \"patience\": 3, \"criteria_for_best\": \"target_accuracy\", \"x_net\": [{\"class\": \"nnReshape\", \"kargs\": {\"shape\": [-1, 1, 2, 256]}}, {\"class\": \"Conv2d\", \"kargs\": {\"in_channels\": 1, \"out_channels\": 256, \"kernel_size\": [1, 7], \"bias\": false, \"padding\": [0, 3]}}, {\"class\": \"ReLU\", \"kargs\": {\"inplace\": true}}, {\"class\": \"BatchNorm2d\", \"kargs\": {\"num_features\": 256}}, {\"class\": \"Conv2d\", \"kargs\": {\"in_channels\": 256, \"out_channels\": 80, \"kernel_size\": [2, 7], \"bias\": true, \"padding\": [0, 3]}}, {\"class\": \"ReLU\", \"kargs\": {\"inplace\": true}}, {\"class\": \"BatchNorm2d\", \"kargs\": {\"num_features\": 80}}, {\"class\": \"Flatten\", \"kargs\": {}}, {\"class\": \"Linear\", \"kargs\": {\"in_features\": 20480, \"out_features\": 256}}, {\"class\": \"ReLU\", \"kargs\": {\"inplace\": true}}, {\"class\": \"BatchNorm1d\", \"kargs\": {\"num_features\": 256}}, {\"class\": \"Linear\", \"kargs\": {\"in_features\": 256, \"out_features\": 256}}], \"NUM_LOGS_PER_EPOCH\": 10, \"BEST_MODEL_PATH\": \"./best_model.pth\", \"n_way\": 16, \"datasets\": [{\"labels\": [\"1-10.\", \"1-11.\", \"1-15.\", \"1-16.\", \"1-17.\", \"1-18.\", \"1-19.\", \"10-4.\", \"10-7.\", \"11-1.\", \"11-14.\", \"11-17.\", \"11-20.\", \"11-7.\", \"13-20.\", \"13-8.\", \"14-10.\", \"14-11.\", \"14-14.\", \"14-7.\", \"15-1.\", \"15-20.\", \"16-1.\", \"16-16.\", \"17-10.\", \"17-11.\", \"17-2.\", \"19-1.\", \"19-16.\", \"19-19.\", \"19-20.\", \"19-3.\", \"2-10.\", \"2-11.\", \"2-17.\", \"2-18.\", \"2-20.\", \"2-3.\", \"2-4.\", \"2-5.\", \"2-6.\", \"2-7.\", \"2-8.\", \"3-13.\", \"3-18.\", \"3-3.\", \"4-1.\", \"4-10.\", \"4-11.\", \"4-19.\", \"5-5.\", \"6-15.\", \"7-10.\", \"7-14.\", \"8-18.\", \"8-20.\", \"8-3.\", \"8-8.\"], \"domains\": [1, 2, 3, 4, 5], \"num_examples_per_domain_per_label\": -1, \"pickle_path\": \"/root/csc500-main/datasets/cores.stratified_ds.2022A.pkl\", \"source_or_target_dataset\": \"source\", \"x_transforms\": [\"jitter_256_1\", \"lowpass_+/-10MHz\", \"take_200\"], \"episode_transforms\": [], \"domain_prefix\": \"C_\"}, {\"labels\": [\"3123D52\", \"3123D65\", \"3123D79\", \"3123D80\", \"3123D54\", \"3123D70\", \"3123D7B\", \"3123D89\", \"3123D58\", \"3123D76\", \"3123D7D\", \"3123EFE\", \"3123D64\", \"3123D78\", \"3123D7E\", \"3124E4A\"], \"domains\": [32, 38, 8, 44, 14, 50, 20, 26], \"num_examples_per_domain_per_label\": 2000, \"pickle_path\": \"/root/csc500-main/datasets/oracle.Run1_framed_2000Examples_stratified_ds.2022A.pkl\", \"source_or_target_dataset\": \"target\", \"x_transforms\": [\"jitter_256_1\", \"take_200\", \"resample_20Msps_to_25Msps\"], \"episode_transforms\": [], \"domain_prefix\": \"O_\"}], \"seed\": 500, \"dataset_seed\": 500, \"domains_source\": [\"C_1\", \"C_2\", \"C_3\", \"C_4\", \"C_5\"], \"domains_target\": [\"O_32\", \"O_38\", \"O_8\", \"O_44\", \"O_14\", \"O_50\", \"O_20\", \"O_26\"]}, \"results\": {\"source_test_label_accuracy\": 0.9992977528089888, \"source_test_label_loss\": 0.01118649635463953, \"target_test_label_accuracy\": 0.5085286458333333, \"target_test_label_loss\": 1.422163486480713, \"source_val_label_accuracy\": 0.9993214285714286, \"source_val_label_loss\": 0.005541162099689245, \"target_val_label_accuracy\": 0.5037109375, \"target_val_label_loss\": 1.4274823665618896, \"total_epochs_trained\": 13, \"total_experiment_time_secs\": 3995.374447822571, \"confusion\": {\"C_4\": {\"38\": {\"38\": 40}, \"3\": {\"3\": 123, \"50\": 1}, \"24\": {\"24\": 56}, \"49\": {\"49\": 20}, \"7\": {\"7\": 24}, \"17\": {\"17\": 80}, \"43\": {\"43\": 148}, \"30\": {\"30\": 44}, \"44\": {\"44\": 132}, \"23\": {\"23\": 144}, \"37\": {\"37\": 24}, \"4\": {\"4\": 132}, \"57\": {\"57\": 100}, \"16\": {\"16\": 96}, \"18\": {\"18\": 107, \"46\": 1}, \"20\": {\"20\": 124}, \"45\": {\"45\": 96}, \"15\": {\"15\": 130, \"11\": 2}, \"52\": {\"52\": 116}, \"19\": {\"19\": 140}, \"54\": {\"54\": 108}, \"56\": {\"56\": 130}, \"40\": {\"40\": 134}, \"28\": {\"28\": 32}, \"2\": {\"2\": 36}, \"9\": {\"9\": 120}, \"0\": {\"0\": 80}, \"36\": {\"36\": 92}, \"55\": {\"55\": 130}, \"35\": {\"35\": 40}, \"39\": {\"39\": 20}, \"31\": {\"31\": 28}, \"14\": {\"14\": 16}, \"12\": {\"12\": 92}, \"6\": {\"6\": 112}, \"26\": {\"26\": 24}, \"50\": {\"50\": 130, \"21\": 2}, \"21\": {\"21\": 122}, \"46\": {\"46\": 140}, \"51\": {\"51\": 140}, \"41\": {\"41\": 36}, \"34\": {\"34\": 24}, \"47\": {\"47\": 120}, \"5\": {\"5\": 108}, \"1\": {\"1\": 40}, \"48\": {\"48\": 134}, \"29\": {\"29\": 118}, \"22\": {\"22\": 128}, \"10\": {\"10\": 132}, \"32\": {\"32\": 24}, \"13\": {\"13\": 112}, \"42\": {\"42\": 32}, \"27\": {\"27\": 138}, \"8\": {\"8\": 142}, \"33\": {\"33\": 36}, \"25\": {\"25\": 132}, \"11\": {\"11\": 104}, \"53\": {\"53\": 112}}, \"C_2\": {\"32\": {\"32\": 28}, \"17\": {\"17\": 104}, \"38\": {\"38\": 20}, \"2\": {\"2\": 32}, \"43\": {\"43\": 144}, \"56\": {\"56\": 144}, \"37\": {\"37\": 36}, \"49\": {\"49\": 23, \"28\": 1}, \"0\": {\"0\": 48}, \"29\": {\"29\": 128}, \"35\": {\"35\": 32}, \"18\": {\"18\": 48}, \"25\": {\"25\": 136}, \"23\": {\"23\": 124}, \"15\": {\"15\": 146}, \"21\": {\"21\": 120}, \"51\": {\"51\": 128}, \"20\": {\"20\": 138}, \"7\": {\"7\": 36}, \"50\": {\"50\": 136}, \"31\": {\"31\": 28}, \"30\": {\"30\": 140}, \"19\": {\"19\": 156}, \"9\": {\"9\": 144}, \"52\": {\"52\": 124}, \"45\": {\"45\": 128}, \"8\": {\"8\": 154}, \"55\": {\"55\": 160}, \"12\": {\"12\": 92}, \"40\": {\"40\": 139, \"29\": 1}, \"28\": {\"28\": 28}, \"36\": {\"36\": 116}, \"39\": {\"39\": 28}, \"46\": {\"46\": 122}, \"14\": {\"14\": 24}, \"57\": {\"57\": 142}, \"34\": {\"34\": 28}, \"1\": {\"1\": 112}, \"53\": {\"53\": 136}, \"48\": {\"48\": 130}, \"3\": {\"3\": 92}, \"16\": {\"16\": 152}, \"6\": {\"6\": 124}, \"10\": {\"10\": 112}, \"13\": {\"13\": 116}, \"26\": {\"26\": 24}, \"24\": {\"24\": 96}, \"44\": {\"44\": 100}, \"27\": {\"27\": 150}, \"22\": {\"22\": 128}, \"33\": {\"33\": 28}, \"47\": {\"47\": 118}, \"5\": {\"5\": 120}, \"4\": {\"4\": 138}, \"41\": {\"41\": 20}, \"11\": {\"11\": 150}, \"54\": {\"54\": 108}, \"42\": {\"42\": 36}}, \"C_3\": {\"5\": {\"5\": 116}, \"32\": {\"32\": 28}, \"33\": {\"33\": 28}, \"49\": {\"49\": 20}, \"39\": {\"39\": 16}, \"11\": {\"11\": 142}, \"8\": {\"8\": 116}, \"26\": {\"26\": 24}, \"51\": {\"51\": 122}, \"4\": {\"4\": 146}, \"52\": {\"52\": 118}, \"47\": {\"47\": 92}, \"17\": {\"17\": 106, \"4\": 1, \"24\": 1}, \"53\": {\"53\": 136}, \"2\": {\"2\": 32}, \"12\": {\"12\": 92}, \"37\": {\"37\": 28}, \"9\": {\"9\": 148}, \"13\": {\"13\": 128}, \"54\": {\"54\": 100}, \"31\": {\"31\": 28}, \"34\": {\"34\": 32}, \"24\": {\"24\": 104}, \"7\": {\"7\": 36}, \"50\": {\"50\": 118}, \"46\": {\"46\": 128}, \"44\": {\"44\": 88}, \"40\": {\"40\": 116}, \"21\": {\"21\": 127, \"50\": 1}, \"45\": {\"45\": 60}, \"16\": {\"16\": 126}, \"14\": {\"14\": 40}, \"36\": {\"36\": 100}, \"56\": {\"56\": 114}, \"10\": {\"10\": 64}, \"18\": {\"18\": 84}, \"48\": {\"48\": 116}, \"38\": {\"38\": 28}, \"27\": {\"27\": 130}, \"42\": {\"42\": 28}, \"15\": {\"15\": 134}, \"1\": {\"1\": 100}, \"28\": {\"28\": 28}, \"43\": {\"43\": 136}, \"0\": {\"0\": 124}, \"57\": {\"57\": 124}, \"3\": {\"3\": 148}, \"29\": {\"29\": 124}, \"41\": {\"41\": 28}, \"25\": {\"25\": 146}, \"6\": {\"6\": 88}, \"35\": {\"35\": 28}, \"20\": {\"20\": 126}, \"23\": {\"23\": 134}, \"22\": {\"22\": 140}, \"19\": {\"19\": 116}, \"55\": {\"55\": 124}, \"30\": {\"30\": 120}}, \"C_1\": {\"24\": {\"24\": 108}, \"25\": {\"25\": 140}, \"45\": {\"45\": 142, \"57\": 1, \"56\": 1}, \"42\": {\"42\": 40}, \"2\": {\"2\": 35, \"48\": 1}, \"9\": {\"9\": 150}, \"21\": {\"21\": 124}, \"26\": {\"26\": 24}, \"49\": {\"49\": 32}, \"39\": {\"39\": 28}, \"46\": {\"46\": 136}, \"17\": {\"17\": 64}, \"19\": {\"19\": 156}, \"23\": {\"23\": 132}, \"1\": {\"1\": 100}, \"29\": {\"29\": 140}, \"56\": {\"56\": 150}, \"37\": {\"37\": 32}, \"33\": {\"33\": 32}, \"55\": {\"55\": 142}, \"30\": {\"30\": 120}, \"0\": {\"0\": 152}, \"36\": {\"36\": 64}, \"32\": {\"32\": 32}, \"31\": {\"31\": 27, \"39\": 1}, \"15\": {\"15\": 138}, \"12\": {\"12\": 116}, \"38\": {\"38\": 24}, \"40\": {\"40\": 146}, \"14\": {\"14\": 23, \"30\": 1}, \"13\": {\"13\": 150}, \"48\": {\"48\": 148}, \"34\": {\"34\": 23, \"33\": 1}, \"44\": {\"44\": 130}, \"5\": {\"5\": 152}, \"11\": {\"11\": 140}, \"7\": {\"7\": 28}, \"18\": {\"18\": 72}, \"52\": {\"52\": 132}, \"51\": {\"51\": 142}, \"41\": {\"41\": 24}, \"16\": {\"16\": 140}, \"22\": {\"22\": 134}, \"3\": {\"3\": 140}, \"54\": {\"54\": 104}, \"27\": {\"27\": 144}, \"20\": {\"20\": 140}, \"8\": {\"8\": 138}, \"50\": {\"50\": 144}, \"57\": {\"57\": 140}, \"4\": {\"4\": 132}, \"47\": {\"47\": 146}, \"10\": {\"10\": 96}, \"35\": {\"35\": 36}, \"53\": {\"53\": 126}, \"6\": {\"6\": 96}, \"43\": {\"43\": 140}, \"28\": {\"28\": 28}}, \"C_5\": {\"35\": {\"35\": 36}, \"57\": {\"57\": 132}, \"20\": {\"20\": 144}, \"12\": {\"12\": 96}, \"32\": {\"32\": 31, \"27\": 1}, \"25\": {\"25\": 138}, \"44\": {\"44\": 148}, \"31\": {\"31\": 36}, \"11\": {\"11\": 149, \"15\": 1}, \"47\": {\"47\": 100}, \"23\": {\"23\": 124}, \"43\": {\"43\": 144}, \"37\": {\"37\": 24}, \"5\": {\"5\": 128}, \"45\": {\"45\": 124}, \"7\": {\"7\": 32}, \"13\": {\"13\": 136}, \"49\": {\"49\": 36}, \"46\": {\"46\": 148}, \"16\": {\"16\": 136}, \"54\": {\"54\": 112}, \"19\": {\"19\": 152}, \"55\": {\"55\": 150}, \"30\": {\"30\": 128}, \"34\": {\"34\": 36}, \"50\": {\"50\": 134}, \"3\": {\"3\": 100}, \"10\": {\"10\": 68}, \"27\": {\"27\": 142}, \"33\": {\"33\": 32}, \"56\": {\"56\": 142}, \"9\": {\"9\": 150}, \"14\": {\"14\": 44}, \"4\": {\"4\": 100}, \"42\": {\"42\": 40}, \"24\": {\"24\": 80}, \"39\": {\"39\": 20}, \"52\": {\"52\": 130}, \"2\": {\"2\": 28}, \"28\": {\"28\": 32}, \"53\": {\"53\": 122}, \"17\": {\"17\": 116}, \"29\": {\"29\": 132}, \"38\": {\"38\": 32}, \"15\": {\"15\": 144}, \"26\": {\"26\": 24}, \"21\": {\"21\": 144}, \"41\": {\"41\": 28}, \"48\": {\"48\": 136}, \"22\": {\"22\": 28}, \"8\": {\"8\": 148}, \"18\": {\"18\": 64}, \"0\": {\"0\": 122}, \"1\": {\"1\": 138}, \"40\": {\"40\": 124}, \"6\": {\"6\": 128}, \"51\": {\"51\": 142}, \"36\": {\"36\": 92}}, \"O_50\": {\"7\": {\"4\": 90, \"7\": 122, \"5\": 26, \"9\": 1, \"6\": 1}, \"10\": {\"10\": 167, \"8\": 19, \"1\": 13, \"0\": 40, \"2\": 1}, \"0\": {\"10\": 33, \"0\": 136, \"2\": 59, \"14\": 11, \"1\": 1}, \"11\": {\"12\": 43, \"11\": 138, \"9\": 20, \"15\": 5, \"13\": 21, \"6\": 8, \"1\": 1, \"5\": 4}, \"2\": {\"2\": 123, \"14\": 52, \"0\": 64, \"10\": 1}, \"14\": {\"2\": 65, \"14\": 156, \"0\": 19}, \"9\": {\"11\": 17, \"9\": 80, \"5\": 16, \"15\": 48, \"6\": 49, \"12\": 26, \"4\": 3, \"3\": 1}, \"13\": {\"13\": 169, \"1\": 47, \"11\": 18, \"8\": 5, \"3\": 1}, \"8\": {\"8\": 174, \"1\": 40, \"10\": 25, \"13\": 1}, \"15\": {\"6\": 64, \"5\": 35, \"15\": 90, \"9\": 34, \"11\": 6, \"3\": 7, \"12\": 2, \"4\": 2}, \"4\": {\"4\": 101, \"7\": 101, \"5\": 30, \"6\": 4, \"15\": 2, \"9\": 2}, \"5\": {\"5\": 78, \"7\": 35, \"15\": 27, \"4\": 38, \"11\": 13, \"6\": 30, \"13\": 6, \"9\": 6, \"3\": 7}, \"3\": {\"3\": 171, \"5\": 14, \"6\": 30, \"12\": 7, \"15\": 8, \"11\": 4, \"9\": 3, \"13\": 3}, \"1\": {\"1\": 139, \"8\": 17, \"13\": 58, \"10\": 24, \"0\": 2}, \"6\": {\"11\": 11, \"5\": 29, \"6\": 72, \"15\": 67, \"9\": 43, \"3\": 12, \"12\": 4, \"13\": 1, \"7\": 1}, \"12\": {\"12\": 124, \"11\": 40, \"9\": 54, \"6\": 13, \"13\": 3, \"15\": 4, \"5\": 1, \"3\": 1}}, \"O_14\": {\"14\": {\"8\": 4, \"5\": 19, \"6\": 19, \"14\": 80, \"7\": 9, \"2\": 32, \"3\": 12, \"13\": 24, \"0\": 40, \"12\": 1}, \"6\": {\"6\": 105, \"13\": 81, \"3\": 26, \"14\": 12, \"0\": 5, \"7\": 3, \"2\": 8}, \"5\": {\"14\": 16, \"5\": 103, \"7\": 14, \"0\": 14, \"8\": 21, \"4\": 15, \"13\": 3, \"2\": 44, \"12\": 8, \"3\": 1, \"6\": 1}, \"15\": {\"15\": 240}, \"11\": {\"11\": 238, \"1\": 2}, \"8\": {\"12\": 22, \"8\": 144, \"7\": 20, \"0\": 15, \"5\": 25, \"14\": 3, \"2\": 6, \"3\": 3, \"4\": 1, \"13\": 1}, \"12\": {\"12\": 180, \"8\": 20, \"0\": 18, \"5\": 8, \"10\": 2, \"2\": 5, \"4\": 5, \"14\": 2}, \"1\": {\"1\": 192, \"4\": 1, \"10\": 10, \"9\": 37}, \"2\": {\"13\": 10, \"2\": 52, \"3\": 18, \"14\": 36, \"5\": 37, \"4\": 27, \"0\": 27, \"10\": 5, \"7\": 10, \"6\": 13, \"8\": 2, \"12\": 3}, \"13\": {\"5\": 12, \"13\": 43, \"2\": 23, \"6\": 79, \"14\": 33, \"15\": 14, \"0\": 12, \"4\": 9, \"10\": 4, \"3\": 9, \"7\": 2}, \"3\": {\"3\": 105, \"0\": 30, \"7\": 27, \"6\": 42, \"13\": 13, \"2\": 8, \"14\": 10, \"5\": 1, \"8\": 4}, \"0\": {\"0\": 57, \"14\": 31, \"8\": 6, \"10\": 2, \"3\": 43, \"6\": 20, \"4\": 10, \"5\": 25, \"2\": 19, \"13\": 8, \"12\": 14, \"7\": 5}, \"9\": {\"9\": 171, \"10\": 33, \"1\": 33, \"4\": 3}, \"4\": {\"4\": 144, \"2\": 17, \"10\": 52, \"5\": 18, \"14\": 2, \"0\": 4, \"12\": 2, \"8\": 1}, \"7\": {\"8\": 17, \"7\": 143, \"3\": 23, \"5\": 20, \"2\": 15, \"14\": 9, \"0\": 6, \"6\": 5, \"13\": 2}, \"10\": {\"10\": 158, \"4\": 49, \"9\": 29, \"12\": 1, \"0\": 1, \"13\": 1, \"2\": 1}}, \"O_32\": {\"4\": {\"2\": 71, \"4\": 115, \"13\": 21, \"3\": 22, \"14\": 1, \"9\": 7, \"8\": 3}, \"14\": {\"14\": 72, \"0\": 43, \"7\": 39, \"5\": 18, \"15\": 1, \"2\": 33, \"8\": 28, \"3\": 1, \"4\": 5}, \"5\": {\"7\": 58, \"8\": 18, \"15\": 30, \"5\": 78, \"14\": 24, \"0\": 28, \"2\": 4}, \"10\": {\"10\": 216, \"12\": 21, \"6\": 3}, \"13\": {\"13\": 108, \"4\": 22, \"9\": 20, \"3\": 68, \"2\": 6, \"11\": 15, \"14\": 1}, \"9\": {\"12\": 45, \"13\": 41, \"11\": 22, \"9\": 101, \"3\": 8, \"4\": 19, \"10\": 1, \"2\": 3}, \"6\": {\"6\": 231, \"10\": 9}, \"3\": {\"3\": 137, \"13\": 70, \"4\": 26, \"2\": 5, \"14\": 1, \"11\": 1}, \"15\": {\"15\": 205, \"8\": 7, \"5\": 19, \"7\": 5, \"0\": 3, \"14\": 1}, \"7\": {\"0\": 54, \"8\": 15, \"7\": 70, \"5\": 56, \"15\": 1, \"14\": 44}, \"12\": {\"12\": 190, \"9\": 25, \"10\": 16, \"11\": 9}, \"8\": {\"7\": 15, \"14\": 42, \"8\": 93, \"4\": 5, \"0\": 46, \"5\": 28, \"2\": 10, \"15\": 1}, \"11\": {\"11\": 194, \"9\": 21, \"12\": 8, \"13\": 15, \"3\": 2}, \"2\": {\"8\": 2, \"4\": 77, \"2\": 137, \"13\": 5, \"14\": 13, \"3\": 4, \"9\": 1, \"0\": 1}, \"1\": {\"1\": 238, \"2\": 1, \"14\": 1}, \"0\": {\"14\": 41, \"0\": 69, \"5\": 38, \"8\": 39, \"15\": 2, \"7\": 50, \"4\": 1}}, \"O_44\": {\"8\": {\"0\": 63, \"8\": 104, \"14\": 2, \"15\": 57, \"1\": 4, \"5\": 6, \"4\": 3, \"2\": 1}, \"11\": {\"11\": 240}, \"14\": {\"14\": 67, \"4\": 41, \"15\": 28, \"5\": 64, \"7\": 10, \"2\": 2, \"10\": 13, \"8\": 1, \"9\": 14}, \"10\": {\"7\": 85, \"10\": 72, \"4\": 28, \"9\": 30, \"14\": 10, \"2\": 9, \"5\": 4, \"1\": 2}, \"3\": {\"3\": 147, \"12\": 92, \"0\": 1}, \"15\": {\"5\": 34, \"8\": 44, \"0\": 12, \"10\": 4, \"14\": 27, \"15\": 101, \"4\": 14, \"1\": 2, \"7\": 1, \"2\": 1}, \"2\": {\"1\": 48, \"2\": 165, \"15\": 5, \"4\": 5, \"10\": 14, \"14\": 2, \"5\": 1}, \"12\": {\"12\": 145, \"3\": 95}, \"4\": {\"14\": 30, \"2\": 15, \"4\": 47, \"15\": 23, \"9\": 32, \"10\": 12, \"5\": 33, \"7\": 39, \"6\": 4, \"8\": 3, \"1\": 1, \"13\": 1}, \"1\": {\"1\": 146, \"2\": 60, \"8\": 8, \"0\": 18, \"15\": 6, \"10\": 1, \"14\": 1}, \"0\": {\"0\": 169, \"8\": 60, \"15\": 3, \"1\": 8}, \"9\": {\"6\": 35, \"7\": 71, \"10\": 24, \"2\": 2, \"13\": 31, \"9\": 39, \"4\": 20, \"14\": 14, \"5\": 4}, \"5\": {\"15\": 36, \"14\": 69, \"5\": 73, \"4\": 36, \"9\": 6, \"7\": 10, \"1\": 1, \"8\": 6, \"10\": 3}, \"6\": {\"6\": 145, \"13\": 63, \"9\": 26, \"4\": 3, \"7\": 3}, \"7\": {\"7\": 118, \"6\": 3, \"9\": 38, \"4\": 21, \"10\": 52, \"13\": 1, \"5\": 5, \"14\": 2}, \"13\": {\"13\": 147, \"6\": 83, \"9\": 8, \"11\": 2}}, \"O_8\": {\"13\": {\"13\": 78, \"5\": 49, \"10\": 49, \"1\": 8, \"7\": 36, \"6\": 20}, \"3\": {\"3\": 225, \"2\": 14, \"9\": 1}, \"15\": {\"2\": 36, \"12\": 64, \"15\": 138, \"3\": 2}, \"4\": {\"4\": 99, \"14\": 45, \"8\": 44, \"11\": 25, \"6\": 17, \"1\": 4, \"7\": 4, \"5\": 2}, \"7\": {\"10\": 38, \"1\": 21, \"13\": 37, \"11\": 4, \"7\": 80, \"6\": 45, \"5\": 12, \"4\": 3}, \"2\": {\"2\": 117, \"3\": 45, \"15\": 52, \"12\": 25, \"10\": 1}, \"1\": {\"5\": 33, \"1\": 68, \"11\": 47, \"10\": 22, \"6\": 30, \"13\": 14, \"7\": 16, \"4\": 8, \"8\": 2}, \"0\": {\"0\": 240}, \"12\": {\"15\": 78, \"12\": 156, \"2\": 6}, \"6\": {\"7\": 55, \"11\": 11, \"4\": 25, \"1\": 26, \"10\": 21, \"6\": 84, \"13\": 5, \"5\": 11, \"8\": 2}, \"11\": {\"11\": 64, \"14\": 14, \"1\": 48, \"6\": 23, \"10\": 9, \"4\": 39, \"13\": 4, \"8\": 23, \"7\": 10, \"5\": 6}, \"9\": {\"9\": 239, \"3\": 1}, \"5\": {\"6\": 14, \"5\": 80, \"11\": 10, \"1\": 26, \"10\": 50, \"7\": 10, \"8\": 1, \"13\": 40, \"12\": 3, \"4\": 5, \"14\": 1}, \"10\": {\"6\": 27, \"11\": 8, \"5\": 40, \"10\": 49, \"13\": 55, \"7\": 28, \"1\": 30, \"4\": 3}, \"14\": {\"14\": 169, \"4\": 39, \"8\": 24, \"11\": 7, \"1\": 1}, \"8\": {\"6\": 9, \"8\": 90, \"14\": 31, \"4\": 42, \"1\": 15, \"11\": 43, \"10\": 2, \"5\": 3, \"7\": 5}}, \"O_20\": {\"6\": {\"2\": 29, \"6\": 72, \"13\": 14, \"7\": 37, \"14\": 19, \"4\": 30, \"12\": 15, \"1\": 2, \"15\": 5, \"5\": 2, \"9\": 9, \"8\": 5, \"3\": 1}, \"11\": {\"11\": 187, \"0\": 52, \"8\": 1}, \"5\": {\"5\": 37, \"3\": 42, \"7\": 11, \"8\": 30, \"15\": 18, \"12\": 4, \"9\": 35, \"14\": 17, \"1\": 39, \"4\": 1, \"2\": 4, \"6\": 1, \"0\": 1}, \"14\": {\"14\": 85, \"8\": 51, \"7\": 7, \"1\": 14, \"5\": 23, \"9\": 19, \"3\": 29, \"6\": 6, \"2\": 1, \"0\": 3, \"15\": 1, \"12\": 1}, \"2\": {\"15\": 32, \"10\": 1, \"12\": 30, \"6\": 19, \"13\": 46, \"2\": 37, \"4\": 17, \"7\": 35, \"9\": 14, \"8\": 1, \"5\": 4, \"1\": 4}, \"7\": {\"9\": 19, \"1\": 15, \"13\": 14, \"2\": 24, \"12\": 20, \"7\": 44, \"15\": 28, \"5\": 11, \"4\": 14, \"6\": 23, \"14\": 19, \"8\": 3, \"3\": 5, \"10\": 1}, \"3\": {\"3\": 54, \"8\": 40, \"0\": 5, \"5\": 37, \"9\": 22, \"14\": 35, \"1\": 30, \"2\": 3, \"15\": 4, \"7\": 8, \"12\": 1, \"6\": 1}, \"4\": {\"4\": 64, \"2\": 19, \"12\": 38, \"15\": 14, \"7\": 17, \"6\": 35, \"10\": 22, \"1\": 2, \"13\": 16, \"9\": 7, \"14\": 5, \"3\": 1}, \"9\": {\"15\": 28, \"14\": 26, \"9\": 35, \"1\": 33, \"3\": 26, \"5\": 31, \"12\": 12, \"7\": 20, \"6\": 9, \"2\": 8, \"8\": 11, \"13\": 1}, \"12\": {\"6\": 19, \"1\": 9, \"13\": 35, \"4\": 32, \"7\": 22, \"9\": 13, \"2\": 30, \"12\": 48, \"14\": 3, \"15\": 24, \"5\": 2, \"10\": 2, \"3\": 1}, \"0\": {\"0\": 147, \"11\": 50, \"8\": 19, \"5\": 5, \"3\": 18, \"1\": 1}, \"10\": {\"4\": 39, \"10\": 166, \"12\": 8, \"2\": 2, \"13\": 21, \"6\": 3, \"15\": 1}, \"8\": {\"8\": 75, \"0\": 11, \"14\": 43, \"3\": 45, \"9\": 15, \"5\": 33, \"7\": 4, \"1\": 11, \"15\": 2, \"6\": 1}, \"13\": {\"15\": 20, \"13\": 115, \"12\": 24, \"6\": 8, \"2\": 33, \"7\": 17, \"4\": 15, \"9\": 2, \"10\": 3, \"1\": 3}, \"1\": {\"1\": 40, \"5\": 35, \"3\": 31, \"9\": 34, \"12\": 10, \"7\": 16, \"15\": 38, \"14\": 13, \"8\": 10, \"2\": 10, \"6\": 3}, \"15\": {\"13\": 35, \"10\": 2, \"15\": 49, \"12\": 33, \"1\": 16, \"2\": 31, \"3\": 9, \"4\": 8, \"5\": 7, \"9\": 19, \"6\": 4, \"14\": 3, \"7\": 24}}, \"O_38\": {\"3\": {\"3\": 232, \"11\": 6, \"10\": 2}, \"8\": {\"8\": 60, \"12\": 14, \"5\": 53, \"9\": 28, \"7\": 27, \"15\": 33, \"2\": 21, \"14\": 4}, \"0\": {\"10\": 69, \"4\": 4, \"0\": 58, \"13\": 61, \"7\": 17, \"3\": 6, \"2\": 8, \"14\": 17}, \"2\": {\"13\": 2, \"14\": 46, \"7\": 28, \"9\": 19, \"2\": 130, \"8\": 9, \"5\": 6}, \"4\": {\"4\": 224, \"0\": 7, \"10\": 7, \"13\": 1, \"7\": 1}, \"7\": {\"4\": 2, \"9\": 6, \"2\": 39, \"7\": 116, \"14\": 63, \"8\": 5, \"13\": 6, \"5\": 2, \"0\": 1}, \"12\": {\"12\": 207, \"8\": 16, \"5\": 15, \"15\": 1, \"7\": 1}, \"6\": {\"6\": 149, \"1\": 91}, \"15\": {\"15\": 187, \"8\": 17, \"1\": 10, \"5\": 20, \"6\": 2, \"12\": 4}, \"11\": {\"11\": 237, \"3\": 3}, \"9\": {\"9\": 132, \"5\": 48, \"8\": 32, \"2\": 11, \"7\": 16, \"15\": 1}, \"14\": {\"13\": 21, \"14\": 119, \"7\": 47, \"2\": 40, \"0\": 6, \"4\": 2, \"9\": 2, \"5\": 2, \"8\": 1}, \"10\": {\"10\": 146, \"0\": 62, \"4\": 6, \"13\": 16, \"3\": 10}, \"5\": {\"7\": 18, \"8\": 62, \"5\": 59, \"12\": 14, \"2\": 10, \"15\": 35, \"9\": 39, \"14\": 3}, \"1\": {\"1\": 141, \"6\": 99}, \"13\": {\"13\": 131, \"0\": 56, \"2\": 11, \"10\": 21, \"14\": 17, \"7\": 4}}, \"O_26\": {\"5\": {\"5\": 83, \"11\": 5, \"15\": 63, \"14\": 2, \"1\": 36, \"6\": 46, \"10\": 5}, \"8\": {\"7\": 41, \"3\": 15, \"8\": 67, \"2\": 36, \"9\": 34, \"0\": 15, \"12\": 24, \"13\": 8}, \"4\": {\"4\": 205, \"12\": 1, \"3\": 18, \"13\": 16}, \"12\": {\"2\": 12, \"12\": 112, \"14\": 1, \"9\": 32, \"13\": 21, \"8\": 36, \"7\": 11, \"0\": 3, \"3\": 12}, \"6\": {\"14\": 15, \"6\": 68, \"15\": 54, \"10\": 19, \"5\": 44, \"1\": 34, \"0\": 6}, \"7\": {\"12\": 13, \"7\": 62, \"9\": 42, \"8\": 51, \"2\": 32, \"3\": 28, \"13\": 8, \"0\": 4}, \"10\": {\"14\": 67, \"1\": 14, \"10\": 79, \"0\": 43, \"5\": 9, \"15\": 17, \"6\": 10, \"2\": 1}, \"0\": {\"0\": 93, \"2\": 35, \"14\": 43, \"9\": 4, \"10\": 39, \"8\": 11, \"1\": 3, \"15\": 7, \"6\": 4, \"7\": 1}, \"15\": {\"15\": 66, \"14\": 18, \"10\": 27, \"6\": 42, \"1\": 33, \"5\": 42, \"0\": 11, \"2\": 1}, \"9\": {\"13\": 26, \"3\": 28, \"2\": 45, \"7\": 31, \"9\": 47, \"8\": 36, \"12\": 17, \"0\": 8, \"14\": 2}, \"11\": {\"11\": 182, \"1\": 10, \"15\": 16, \"6\": 15, \"5\": 16, \"10\": 1}, \"14\": {\"1\": 32, \"10\": 70, \"14\": 62, \"0\": 36, \"15\": 20, \"5\": 4, \"6\": 15, \"8\": 1}, \"2\": {\"2\": 71, \"8\": 43, \"7\": 31, \"0\": 29, \"9\": 38, \"10\": 7, \"14\": 2, \"13\": 5, \"3\": 8, \"15\": 2, \"12\": 4}, \"13\": {\"13\": 131, \"4\": 26, \"0\": 1, \"3\": 28, \"9\": 31, \"2\": 6, \"12\": 7, \"8\": 3, \"7\": 7}, \"3\": {\"3\": 93, \"13\": 54, \"9\": 26, \"8\": 16, \"12\": 6, \"2\": 13, \"7\": 29, \"4\": 3}, \"1\": {\"1\": 120, \"15\": 17, \"5\": 27, \"10\": 14, \"6\": 40, \"14\": 17, \"0\": 1, \"11\": 4}}}, \"per_domain_accuracy\": {\"C_4\": {\"accuracy\": 0.9988636363636364, \"source?\": true}, \"C_2\": {\"accuracy\": 0.9996488764044944, \"source?\": true}, \"C_3\": {\"accuracy\": 0.9994419642857143, \"source?\": true}, \"C_1\": {\"accuracy\": 0.9989864864864865, \"source?\": true}, \"C_5\": {\"accuracy\": 0.9996508379888268, \"source?\": true}, \"O_50\": {\"accuracy\": 0.53125, \"source?\": false}, \"O_14\": {\"accuracy\": 0.5611979166666666, \"source?\": false}, \"O_32\": {\"accuracy\": 0.5869791666666667, \"source?\": false}, \"O_44\": {\"accuracy\": 0.5013020833333334, \"source?\": false}, \"O_8\": {\"accuracy\": 0.5145833333333333, \"source?\": false}, \"O_20\": {\"accuracy\": 0.3268229166666667, \"source?\": false}, \"O_38\": {\"accuracy\": 0.60625, \"source?\": false}, \"O_26\": {\"accuracy\": 0.40130208333333334, \"source?\": false}}}, \"history\": {\"epoch_indices\": [1, 2, 3, 4, 5, 6, 7, 8, 9, 10, 11, 12, 13], \"train_label_loss\": [0.03338101157512801, 0.08766838500882601, 0.013803888314616906, 0.023147160888892016, 0.028469161398678, 0.008790766433253602, 0.005530020954294635, 0.015577173629641486, 0.0049573950764880996, 0.004612473638057653, 0.009863392155129817, 0.0029938239763880052, 0.007536371811948738], \"source_val_label_loss\": [0.2889772653579712, 0.021559787914156914, 0.01300243753939867, 0.01218100544065237, 0.006718524731695652, 0.012302462011575699, 0.008124129846692085, 0.01730956695973873, 0.005541162099689245, 0.006590318866074085, 0.004190467298030853, 0.05647997185587883, 0.0045735957100987434], \"target_val_label_loss\": [34.9052848815918, 1.6931748390197754, 1.6456291675567627, 1.537743330001831, 1.539970874786377, 1.595094919204712, 6.204251766204834, 1.514063835144043, 1.4274823665618896, 1.4504886865615845, 1.5545542240142822, 1.8158141374588013, 1.4655957221984863], \"source_val_acc_label\": [0.9896071428571429, 0.9962142857142857, 0.9980357142857142, 0.99875, 0.9993571428571428, 0.9975, 0.9991071428571429, 0.9978571428571429, 0.9993214285714286, 0.99925, 0.9995357142857143, 0.9898928571428571, 0.9995357142857143], \"target_val_acc_label\": [0.34915364583333336, 0.4012044270833333, 0.4583333333333333, 0.46748046875, 0.5013020833333334, 0.42897135416666665, 0.34986979166666665, 0.47119140625, 0.5037109375, 0.50244140625, 0.43118489583333336, 0.39410807291666666, 0.47093098958333335]}, \"dataset_metrics\": {\"source\": {\"train\": {\"n_unique_x\": 175211, \"n_unique_y\": 58, \"n_batch/episode\": 6315}, \"val\": {\"n_unique_x\": 37166, \"n_unique_y\": 58, \"n_batch/episode\": 875}, \"test\": {\"n_unique_x\": 37642, \"n_unique_y\": 58, \"n_batch/episode\": 890}}, \"target\": {\"train\": {\"n_unique_x\": 179200, \"n_unique_y\": 16, \"n_batch/episode\": 6720}, \"val\": {\"n_unique_x\": 38400, \"n_unique_y\": 16, \"n_batch/episode\": 960}, \"test\": {\"n_unique_x\": 38400, \"n_unique_y\": 16, \"n_batch/episode\": 960}}}}'"
      ]
     },
     "execution_count": 29,
     "metadata": {},
     "output_type": "execute_result"
    }
   ],
   "source": [
    "json.dumps(experiment)"
   ]
  }
 ],
 "metadata": {
  "celltoolbar": "Tags",
  "kernelspec": {
   "display_name": "Python 3 (ipykernel)",
   "language": "python",
   "name": "python3"
  },
  "language_info": {
   "codemirror_mode": {
    "name": "ipython",
    "version": 3
   },
   "file_extension": ".py",
   "mimetype": "text/x-python",
   "name": "python",
   "nbconvert_exporter": "python",
   "pygments_lexer": "ipython3",
   "version": "3.8.12"
  },
  "papermill": {
   "default_parameters": {},
   "duration": 4176.499539,
   "end_time": "2022-03-28T01:53:18.997955",
   "environment_variables": {},
   "exception": null,
   "input_path": "/root/csc500-main/csc500-notebooks/templates/tl_ptn_template.ipynb",
   "output_path": "trial.ipynb",
   "parameters": {
    "parameters": {
     "BEST_MODEL_PATH": "./best_model.pth",
     "NUM_LOGS_PER_EPOCH": 10,
     "criteria_for_best": "target_accuracy",
     "dataset_seed": 500,
     "datasets": [
      {
       "domain_prefix": "C_",
       "domains": [
        1,
        2,
        3,
        4,
        5
       ],
       "episode_transforms": [],
       "labels": [
        "1-10.",
        "1-11.",
        "1-15.",
        "1-16.",
        "1-17.",
        "1-18.",
        "1-19.",
        "10-4.",
        "10-7.",
        "11-1.",
        "11-14.",
        "11-17.",
        "11-20.",
        "11-7.",
        "13-20.",
        "13-8.",
        "14-10.",
        "14-11.",
        "14-14.",
        "14-7.",
        "15-1.",
        "15-20.",
        "16-1.",
        "16-16.",
        "17-10.",
        "17-11.",
        "17-2.",
        "19-1.",
        "19-16.",
        "19-19.",
        "19-20.",
        "19-3.",
        "2-10.",
        "2-11.",
        "2-17.",
        "2-18.",
        "2-20.",
        "2-3.",
        "2-4.",
        "2-5.",
        "2-6.",
        "2-7.",
        "2-8.",
        "3-13.",
        "3-18.",
        "3-3.",
        "4-1.",
        "4-10.",
        "4-11.",
        "4-19.",
        "5-5.",
        "6-15.",
        "7-10.",
        "7-14.",
        "8-18.",
        "8-20.",
        "8-3.",
        "8-8."
       ],
       "num_examples_per_domain_per_label": -1,
       "pickle_path": "/root/csc500-main/datasets/cores.stratified_ds.2022A.pkl",
       "source_or_target_dataset": "source",
       "x_transforms": [
        "jitter_256_1",
        "lowpass_+/-10MHz",
        "take_200"
       ]
      },
      {
       "domain_prefix": "O_",
       "domains": [
        32,
        38,
        8,
        44,
        14,
        50,
        20,
        26
       ],
       "episode_transforms": [],
       "labels": [
        "3123D52",
        "3123D65",
        "3123D79",
        "3123D80",
        "3123D54",
        "3123D70",
        "3123D7B",
        "3123D89",
        "3123D58",
        "3123D76",
        "3123D7D",
        "3123EFE",
        "3123D64",
        "3123D78",
        "3123D7E",
        "3124E4A"
       ],
       "num_examples_per_domain_per_label": 2000,
       "pickle_path": "/root/csc500-main/datasets/oracle.Run1_framed_2000Examples_stratified_ds.2022A.pkl",
       "source_or_target_dataset": "target",
       "x_transforms": [
        "jitter_256_1",
        "take_200",
        "resample_20Msps_to_25Msps"
       ]
      }
     ],
     "device": "cuda",
     "experiment_name": "tl_3-jitter1v2:cores -> oracle.run1.framed",
     "lr": 0.0001,
     "n_epoch": 50,
     "n_query": 2,
     "n_shot": 3,
     "n_way": 16,
     "patience": 3,
     "seed": 500,
     "test_k_factor": 2,
     "torch_default_dtype": "torch.float32",
     "train_k_factor": 3,
     "val_k_factor": 2,
     "x_net": [
      {
       "class": "nnReshape",
       "kargs": {
        "shape": [
         -1,
         1,
         2,
         256
        ]
       }
      },
      {
       "class": "Conv2d",
       "kargs": {
        "bias": false,
        "in_channels": 1,
        "kernel_size": [
         1,
         7
        ],
        "out_channels": 256,
        "padding": [
         0,
         3
        ]
       }
      },
      {
       "class": "ReLU",
       "kargs": {
        "inplace": true
       }
      },
      {
       "class": "BatchNorm2d",
       "kargs": {
        "num_features": 256
       }
      },
      {
       "class": "Conv2d",
       "kargs": {
        "bias": true,
        "in_channels": 256,
        "kernel_size": [
         2,
         7
        ],
        "out_channels": 80,
        "padding": [
         0,
         3
        ]
       }
      },
      {
       "class": "ReLU",
       "kargs": {
        "inplace": true
       }
      },
      {
       "class": "BatchNorm2d",
       "kargs": {
        "num_features": 80
       }
      },
      {
       "class": "Flatten",
       "kargs": {}
      },
      {
       "class": "Linear",
       "kargs": {
        "in_features": 20480,
        "out_features": 256
       }
      },
      {
       "class": "ReLU",
       "kargs": {
        "inplace": true
       }
      },
      {
       "class": "BatchNorm1d",
       "kargs": {
        "num_features": 256
       }
      },
      {
       "class": "Linear",
       "kargs": {
        "in_features": 256,
        "out_features": 256
       }
      }
     ],
     "x_shape": [
      2,
      256
     ]
    }
   },
   "start_time": "2022-03-28T00:43:42.498416",
   "version": "2.3.4"
  }
 },
 "nbformat": 4,
 "nbformat_minor": 5
}