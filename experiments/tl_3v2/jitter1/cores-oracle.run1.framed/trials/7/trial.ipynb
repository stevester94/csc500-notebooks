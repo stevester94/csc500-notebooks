{
 "cells": [
  {
   "cell_type": "markdown",
   "id": "9fea5f46",
   "metadata": {
    "papermill": {
     "duration": 0.018062,
     "end_time": "2022-03-26T21:21:52.874260",
     "exception": false,
     "start_time": "2022-03-26T21:21:52.856198",
     "status": "completed"
    },
    "tags": []
   },
   "source": [
    "# Transfer Learning Template"
   ]
  },
  {
   "cell_type": "code",
   "execution_count": 1,
   "id": "0902182a",
   "metadata": {
    "execution": {
     "iopub.execute_input": "2022-03-26T21:21:52.915231Z",
     "iopub.status.busy": "2022-03-26T21:21:52.914779Z",
     "iopub.status.idle": "2022-03-26T21:21:53.973787Z",
     "shell.execute_reply": "2022-03-26T21:21:53.973199Z"
    },
    "papermill": {
     "duration": 1.086055,
     "end_time": "2022-03-26T21:21:53.973915",
     "exception": false,
     "start_time": "2022-03-26T21:21:52.887860",
     "status": "completed"
    },
    "tags": []
   },
   "outputs": [],
   "source": [
    "%load_ext autoreload\n",
    "%autoreload 2\n",
    "%matplotlib inline\n",
    "\n",
    "    \n",
    "import os, json, sys, time, random\n",
    "import numpy as np\n",
    "import torch\n",
    "from torch.optim import Adam\n",
    "from  easydict import EasyDict\n",
    "import matplotlib.pyplot as plt\n",
    "\n",
    "from steves_models.steves_ptn import Steves_Prototypical_Network\n",
    "\n",
    "from steves_utils.lazy_iterable_wrapper import Lazy_Iterable_Wrapper\n",
    "from steves_utils.iterable_aggregator import Iterable_Aggregator\n",
    "from steves_utils.ptn_train_eval_test_jig import  PTN_Train_Eval_Test_Jig\n",
    "from steves_utils.torch_sequential_builder import build_sequential\n",
    "from steves_utils.torch_utils import get_dataset_metrics, ptn_confusion_by_domain_over_dataloader\n",
    "from steves_utils.utils_v2 import (per_domain_accuracy_from_confusion, get_datasets_base_path)\n",
    "from steves_utils.PTN.utils import independent_accuracy_assesment\n",
    "\n",
    "from torch.utils.data import DataLoader\n",
    "\n",
    "from steves_utils.stratified_dataset.episodic_accessor import Episodic_Accessor_Factory\n",
    "\n",
    "from steves_utils.ptn_do_report import (\n",
    "    get_loss_curve,\n",
    "    get_results_table,\n",
    "    get_parameters_table,\n",
    "    get_domain_accuracies,\n",
    ")\n",
    "\n",
    "from steves_utils.transforms import get_chained_transform"
   ]
  },
  {
   "cell_type": "markdown",
   "id": "41c840b4",
   "metadata": {
    "papermill": {
     "duration": 0.012961,
     "end_time": "2022-03-26T21:21:54.006578",
     "exception": false,
     "start_time": "2022-03-26T21:21:53.993617",
     "status": "completed"
    },
    "tags": []
   },
   "source": [
    "# Allowed Parameters\n",
    "These are allowed parameters, not defaults\n",
    "Each of these values need to be present in the injected parameters (the notebook will raise an exception if they are not present)\n",
    "\n",
    "Papermill uses the cell tag \"parameters\" to inject the real parameters below this cell.\n",
    "Enable tags to see what I mean"
   ]
  },
  {
   "cell_type": "code",
   "execution_count": 2,
   "id": "fd44eb83",
   "metadata": {
    "execution": {
     "iopub.execute_input": "2022-03-26T21:21:54.036506Z",
     "iopub.status.busy": "2022-03-26T21:21:54.036226Z",
     "iopub.status.idle": "2022-03-26T21:21:54.050815Z",
     "shell.execute_reply": "2022-03-26T21:21:54.051032Z"
    },
    "papermill": {
     "duration": 0.031474,
     "end_time": "2022-03-26T21:21:54.051113",
     "exception": false,
     "start_time": "2022-03-26T21:21:54.019639",
     "status": "completed"
    },
    "tags": []
   },
   "outputs": [],
   "source": [
    "required_parameters = {\n",
    "    \"experiment_name\",\n",
    "    \"lr\",\n",
    "    \"device\",\n",
    "    \"seed\",\n",
    "    \"dataset_seed\",\n",
    "    \"n_shot\",\n",
    "    \"n_query\",\n",
    "    \"n_way\",\n",
    "    \"train_k_factor\",\n",
    "    \"val_k_factor\",\n",
    "    \"test_k_factor\",\n",
    "    \"n_epoch\",\n",
    "    \"patience\",\n",
    "    \"criteria_for_best\",\n",
    "    \"x_net\",\n",
    "    \"datasets\",\n",
    "    \"torch_default_dtype\",\n",
    "    \"NUM_LOGS_PER_EPOCH\",\n",
    "    \"BEST_MODEL_PATH\",\n",
    "    \"x_shape\",\n",
    "}"
   ]
  },
  {
   "cell_type": "code",
   "execution_count": 3,
   "id": "fa3f0049",
   "metadata": {
    "execution": {
     "iopub.execute_input": "2022-03-26T21:21:54.092406Z",
     "iopub.status.busy": "2022-03-26T21:21:54.092090Z",
     "iopub.status.idle": "2022-03-26T21:21:54.105854Z",
     "shell.execute_reply": "2022-03-26T21:21:54.105344Z"
    },
    "papermill": {
     "duration": 0.037357,
     "end_time": "2022-03-26T21:21:54.105963",
     "exception": false,
     "start_time": "2022-03-26T21:21:54.068606",
     "status": "completed"
    },
    "tags": [
     "parameters"
    ]
   },
   "outputs": [],
   "source": [
    "from steves_utils.CORES.utils import (\n",
    "    ALL_NODES,\n",
    "    ALL_NODES_MINIMUM_1000_EXAMPLES,\n",
    "    ALL_DAYS\n",
    ")\n",
    "\n",
    "from steves_utils.ORACLE.utils_v2 import (\n",
    "    ALL_DISTANCES_FEET_NARROWED,\n",
    "    ALL_RUNS,\n",
    "    ALL_SERIAL_NUMBERS,\n",
    ")\n",
    "\n",
    "standalone_parameters = {}\n",
    "standalone_parameters[\"experiment_name\"] = \"STANDALONE PTN\"\n",
    "standalone_parameters[\"lr\"] = 0.001\n",
    "standalone_parameters[\"device\"] = \"cuda\"\n",
    "\n",
    "standalone_parameters[\"seed\"] = 1337\n",
    "standalone_parameters[\"dataset_seed\"] = 1337\n",
    "\n",
    "standalone_parameters[\"n_way\"] = 8\n",
    "standalone_parameters[\"n_shot\"] = 3\n",
    "standalone_parameters[\"n_query\"]  = 2\n",
    "standalone_parameters[\"train_k_factor\"] = 1\n",
    "standalone_parameters[\"val_k_factor\"] = 2\n",
    "standalone_parameters[\"test_k_factor\"] = 2\n",
    "\n",
    "\n",
    "standalone_parameters[\"n_epoch\"] = 50\n",
    "\n",
    "standalone_parameters[\"patience\"] = 10\n",
    "standalone_parameters[\"criteria_for_best\"] = \"source_loss\"\n",
    "\n",
    "standalone_parameters[\"datasets\"] = [\n",
    "    {\n",
    "        \"labels\": ALL_SERIAL_NUMBERS,\n",
    "        \"domains\": ALL_DISTANCES_FEET_NARROWED,\n",
    "        \"num_examples_per_domain_per_label\": 100,\n",
    "        \"pickle_path\": os.path.join(get_datasets_base_path(), \"oracle.Run1_framed_2000Examples_stratified_ds.2022A.pkl\"),\n",
    "        \"source_or_target_dataset\": \"source\",\n",
    "        \"x_transforms\": [\"unit_mag\", \"minus_two\"],\n",
    "        \"episode_transforms\": [],\n",
    "        \"domain_prefix\": \"ORACLE_\"\n",
    "    },\n",
    "    {\n",
    "        \"labels\": ALL_NODES,\n",
    "        \"domains\": ALL_DAYS,\n",
    "        \"num_examples_per_domain_per_label\": 100,\n",
    "        \"pickle_path\": os.path.join(get_datasets_base_path(), \"cores.stratified_ds.2022A.pkl\"),\n",
    "        \"source_or_target_dataset\": \"target\",\n",
    "        \"x_transforms\": [\"unit_power\", \"times_zero\"],\n",
    "        \"episode_transforms\": [],\n",
    "        \"domain_prefix\": \"CORES_\"\n",
    "    }   \n",
    "]\n",
    "\n",
    "standalone_parameters[\"torch_default_dtype\"] = \"torch.float32\" \n",
    "\n",
    "\n",
    "\n",
    "standalone_parameters[\"x_net\"] =     [\n",
    "    {\"class\": \"nnReshape\", \"kargs\": {\"shape\":[-1, 1, 2, 256]}},\n",
    "    {\"class\": \"Conv2d\", \"kargs\": { \"in_channels\":1, \"out_channels\":256, \"kernel_size\":(1,7), \"bias\":False, \"padding\":(0,3), },},\n",
    "    {\"class\": \"ReLU\", \"kargs\": {\"inplace\": True}},\n",
    "    {\"class\": \"BatchNorm2d\", \"kargs\": {\"num_features\":256}},\n",
    "\n",
    "    {\"class\": \"Conv2d\", \"kargs\": { \"in_channels\":256, \"out_channels\":80, \"kernel_size\":(2,7), \"bias\":True, \"padding\":(0,3), },},\n",
    "    {\"class\": \"ReLU\", \"kargs\": {\"inplace\": True}},\n",
    "    {\"class\": \"BatchNorm2d\", \"kargs\": {\"num_features\":80}},\n",
    "    {\"class\": \"Flatten\", \"kargs\": {}},\n",
    "\n",
    "    {\"class\": \"Linear\", \"kargs\": {\"in_features\": 80*256, \"out_features\": 256}}, # 80 units per IQ pair\n",
    "    {\"class\": \"ReLU\", \"kargs\": {\"inplace\": True}},\n",
    "    {\"class\": \"BatchNorm1d\", \"kargs\": {\"num_features\":256}},\n",
    "\n",
    "    {\"class\": \"Linear\", \"kargs\": {\"in_features\": 256, \"out_features\": 256}},\n",
    "]\n",
    "\n",
    "# Parameters relevant to results\n",
    "# These parameters will basically never need to change\n",
    "standalone_parameters[\"NUM_LOGS_PER_EPOCH\"] = 10\n",
    "standalone_parameters[\"BEST_MODEL_PATH\"] = \"./best_model.pth\"\n",
    "\n",
    "\n",
    "\n",
    "\n"
   ]
  },
  {
   "cell_type": "code",
   "execution_count": 4,
   "id": "4593cb01",
   "metadata": {
    "execution": {
     "iopub.execute_input": "2022-03-26T21:21:54.152321Z",
     "iopub.status.busy": "2022-03-26T21:21:54.151691Z",
     "iopub.status.idle": "2022-03-26T21:21:54.164049Z",
     "shell.execute_reply": "2022-03-26T21:21:54.164392Z"
    },
    "papermill": {
     "duration": 0.038244,
     "end_time": "2022-03-26T21:21:54.164510",
     "exception": false,
     "start_time": "2022-03-26T21:21:54.126266",
     "status": "completed"
    },
    "tags": [
     "injected-parameters"
    ]
   },
   "outputs": [],
   "source": [
    "# Parameters\n",
    "parameters = {\n",
    "    \"experiment_name\": \"tl_3-jitter1v2:cores -> oracle.run1.framed\",\n",
    "    \"device\": \"cuda\",\n",
    "    \"lr\": 0.0001,\n",
    "    \"x_shape\": [2, 256],\n",
    "    \"n_shot\": 3,\n",
    "    \"n_query\": 2,\n",
    "    \"train_k_factor\": 3,\n",
    "    \"val_k_factor\": 2,\n",
    "    \"test_k_factor\": 2,\n",
    "    \"torch_default_dtype\": \"torch.float32\",\n",
    "    \"n_epoch\": 50,\n",
    "    \"patience\": 3,\n",
    "    \"criteria_for_best\": \"target_accuracy\",\n",
    "    \"x_net\": [\n",
    "        {\"class\": \"nnReshape\", \"kargs\": {\"shape\": [-1, 1, 2, 256]}},\n",
    "        {\n",
    "            \"class\": \"Conv2d\",\n",
    "            \"kargs\": {\n",
    "                \"in_channels\": 1,\n",
    "                \"out_channels\": 256,\n",
    "                \"kernel_size\": [1, 7],\n",
    "                \"bias\": False,\n",
    "                \"padding\": [0, 3],\n",
    "            },\n",
    "        },\n",
    "        {\"class\": \"ReLU\", \"kargs\": {\"inplace\": True}},\n",
    "        {\"class\": \"BatchNorm2d\", \"kargs\": {\"num_features\": 256}},\n",
    "        {\n",
    "            \"class\": \"Conv2d\",\n",
    "            \"kargs\": {\n",
    "                \"in_channels\": 256,\n",
    "                \"out_channels\": 80,\n",
    "                \"kernel_size\": [2, 7],\n",
    "                \"bias\": True,\n",
    "                \"padding\": [0, 3],\n",
    "            },\n",
    "        },\n",
    "        {\"class\": \"ReLU\", \"kargs\": {\"inplace\": True}},\n",
    "        {\"class\": \"BatchNorm2d\", \"kargs\": {\"num_features\": 80}},\n",
    "        {\"class\": \"Flatten\", \"kargs\": {}},\n",
    "        {\"class\": \"Linear\", \"kargs\": {\"in_features\": 20480, \"out_features\": 256}},\n",
    "        {\"class\": \"ReLU\", \"kargs\": {\"inplace\": True}},\n",
    "        {\"class\": \"BatchNorm1d\", \"kargs\": {\"num_features\": 256}},\n",
    "        {\"class\": \"Linear\", \"kargs\": {\"in_features\": 256, \"out_features\": 256}},\n",
    "    ],\n",
    "    \"NUM_LOGS_PER_EPOCH\": 10,\n",
    "    \"BEST_MODEL_PATH\": \"./best_model.pth\",\n",
    "    \"n_way\": 16,\n",
    "    \"datasets\": [\n",
    "        {\n",
    "            \"labels\": [\n",
    "                \"1-10.\",\n",
    "                \"1-11.\",\n",
    "                \"1-15.\",\n",
    "                \"1-16.\",\n",
    "                \"1-17.\",\n",
    "                \"1-18.\",\n",
    "                \"1-19.\",\n",
    "                \"10-4.\",\n",
    "                \"10-7.\",\n",
    "                \"11-1.\",\n",
    "                \"11-14.\",\n",
    "                \"11-17.\",\n",
    "                \"11-20.\",\n",
    "                \"11-7.\",\n",
    "                \"13-20.\",\n",
    "                \"13-8.\",\n",
    "                \"14-10.\",\n",
    "                \"14-11.\",\n",
    "                \"14-14.\",\n",
    "                \"14-7.\",\n",
    "                \"15-1.\",\n",
    "                \"15-20.\",\n",
    "                \"16-1.\",\n",
    "                \"16-16.\",\n",
    "                \"17-10.\",\n",
    "                \"17-11.\",\n",
    "                \"17-2.\",\n",
    "                \"19-1.\",\n",
    "                \"19-16.\",\n",
    "                \"19-19.\",\n",
    "                \"19-20.\",\n",
    "                \"19-3.\",\n",
    "                \"2-10.\",\n",
    "                \"2-11.\",\n",
    "                \"2-17.\",\n",
    "                \"2-18.\",\n",
    "                \"2-20.\",\n",
    "                \"2-3.\",\n",
    "                \"2-4.\",\n",
    "                \"2-5.\",\n",
    "                \"2-6.\",\n",
    "                \"2-7.\",\n",
    "                \"2-8.\",\n",
    "                \"3-13.\",\n",
    "                \"3-18.\",\n",
    "                \"3-3.\",\n",
    "                \"4-1.\",\n",
    "                \"4-10.\",\n",
    "                \"4-11.\",\n",
    "                \"4-19.\",\n",
    "                \"5-5.\",\n",
    "                \"6-15.\",\n",
    "                \"7-10.\",\n",
    "                \"7-14.\",\n",
    "                \"8-18.\",\n",
    "                \"8-20.\",\n",
    "                \"8-3.\",\n",
    "                \"8-8.\",\n",
    "            ],\n",
    "            \"domains\": [1, 2, 3, 4, 5],\n",
    "            \"num_examples_per_domain_per_label\": -1,\n",
    "            \"pickle_path\": \"/mnt/wd500GB/CSC500/csc500-main/datasets/cores.stratified_ds.2022A.pkl\",\n",
    "            \"source_or_target_dataset\": \"source\",\n",
    "            \"x_transforms\": [\n",
    "                \"unit_mag\",\n",
    "                \"jitter_256_1\",\n",
    "                \"lowpass_+/-10MHz\",\n",
    "                \"take_200\",\n",
    "            ],\n",
    "            \"episode_transforms\": [],\n",
    "            \"domain_prefix\": \"C_\",\n",
    "        },\n",
    "        {\n",
    "            \"labels\": [\n",
    "                \"3123D52\",\n",
    "                \"3123D65\",\n",
    "                \"3123D79\",\n",
    "                \"3123D80\",\n",
    "                \"3123D54\",\n",
    "                \"3123D70\",\n",
    "                \"3123D7B\",\n",
    "                \"3123D89\",\n",
    "                \"3123D58\",\n",
    "                \"3123D76\",\n",
    "                \"3123D7D\",\n",
    "                \"3123EFE\",\n",
    "                \"3123D64\",\n",
    "                \"3123D78\",\n",
    "                \"3123D7E\",\n",
    "                \"3124E4A\",\n",
    "            ],\n",
    "            \"domains\": [32, 38, 8, 44, 14, 50, 20, 26],\n",
    "            \"num_examples_per_domain_per_label\": 2000,\n",
    "            \"pickle_path\": \"/mnt/wd500GB/CSC500/csc500-main/datasets/oracle.Run1_framed_2000Examples_stratified_ds.2022A.pkl\",\n",
    "            \"source_or_target_dataset\": \"target\",\n",
    "            \"x_transforms\": [\n",
    "                \"unit_mag\",\n",
    "                \"jitter_256_1\",\n",
    "                \"take_200\",\n",
    "                \"resample_20Msps_to_25Msps\",\n",
    "            ],\n",
    "            \"episode_transforms\": [],\n",
    "            \"domain_prefix\": \"O_\",\n",
    "        },\n",
    "    ],\n",
    "    \"seed\": 154325,\n",
    "    \"dataset_seed\": 154325,\n",
    "}\n"
   ]
  },
  {
   "cell_type": "code",
   "execution_count": 5,
   "id": "8fa1cc33",
   "metadata": {
    "execution": {
     "iopub.execute_input": "2022-03-26T21:21:54.197816Z",
     "iopub.status.busy": "2022-03-26T21:21:54.194908Z",
     "iopub.status.idle": "2022-03-26T21:21:54.211968Z",
     "shell.execute_reply": "2022-03-26T21:21:54.212392Z"
    },
    "papermill": {
     "duration": 0.032306,
     "end_time": "2022-03-26T21:21:54.212526",
     "exception": false,
     "start_time": "2022-03-26T21:21:54.180220",
     "status": "completed"
    },
    "tags": []
   },
   "outputs": [],
   "source": [
    "# Set this to True if you want to run this template directly\n",
    "STANDALONE = False\n",
    "if STANDALONE:\n",
    "    print(\"parameters not injected, running with standalone_parameters\")\n",
    "    parameters = standalone_parameters\n",
    "\n",
    "if not 'parameters' in locals() and not 'parameters' in globals():\n",
    "    raise Exception(\"Parameter injection failed\")\n",
    "\n",
    "#Use an easy dict for all the parameters\n",
    "p = EasyDict(parameters)\n",
    "\n",
    "if \"x_shape\" not in p:\n",
    "    p.x_shape = [2,256] # Default to this if we dont supply x_shape\n",
    "\n",
    "\n",
    "supplied_keys = set(p.keys())\n",
    "\n",
    "if  supplied_keys != required_parameters:\n",
    "    print(\"Parameters are incorrect\")\n",
    "    if len(supplied_keys - required_parameters)>0: print(\"Shouldn't have:\", str(supplied_keys - required_parameters))\n",
    "    if len(required_parameters - supplied_keys)>0: print(\"Need to have:\", str(required_parameters - supplied_keys))\n",
    "    raise RuntimeError(\"Parameters are incorrect\")"
   ]
  },
  {
   "cell_type": "code",
   "execution_count": 6,
   "id": "3a028d58",
   "metadata": {
    "execution": {
     "iopub.execute_input": "2022-03-26T21:21:54.248416Z",
     "iopub.status.busy": "2022-03-26T21:21:54.247079Z",
     "iopub.status.idle": "2022-03-26T21:21:54.264954Z",
     "shell.execute_reply": "2022-03-26T21:21:54.264502Z"
    },
    "papermill": {
     "duration": 0.03329,
     "end_time": "2022-03-26T21:21:54.265063",
     "exception": false,
     "start_time": "2022-03-26T21:21:54.231773",
     "status": "completed"
    },
    "tags": []
   },
   "outputs": [],
   "source": [
    "###################################\n",
    "# Set the RNGs and make it all deterministic\n",
    "###################################\n",
    "np.random.seed(p.seed)\n",
    "random.seed(p.seed)\n",
    "torch.manual_seed(p.seed)\n",
    "\n",
    "torch.use_deterministic_algorithms(True) "
   ]
  },
  {
   "cell_type": "code",
   "execution_count": 7,
   "id": "b691acf6",
   "metadata": {
    "execution": {
     "iopub.execute_input": "2022-03-26T21:21:54.300521Z",
     "iopub.status.busy": "2022-03-26T21:21:54.300251Z",
     "iopub.status.idle": "2022-03-26T21:21:54.313390Z",
     "shell.execute_reply": "2022-03-26T21:21:54.313720Z"
    },
    "papermill": {
     "duration": 0.03045,
     "end_time": "2022-03-26T21:21:54.313832",
     "exception": false,
     "start_time": "2022-03-26T21:21:54.283382",
     "status": "completed"
    },
    "tags": []
   },
   "outputs": [],
   "source": [
    "###########################################\n",
    "# The stratified datasets honor this\n",
    "###########################################\n",
    "torch.set_default_dtype(eval(p.torch_default_dtype))"
   ]
  },
  {
   "cell_type": "code",
   "execution_count": 8,
   "id": "b5fba671",
   "metadata": {
    "execution": {
     "iopub.execute_input": "2022-03-26T21:21:54.349092Z",
     "iopub.status.busy": "2022-03-26T21:21:54.348832Z",
     "iopub.status.idle": "2022-03-26T21:21:54.390874Z",
     "shell.execute_reply": "2022-03-26T21:21:54.390455Z"
    },
    "papermill": {
     "duration": 0.057778,
     "end_time": "2022-03-26T21:21:54.390977",
     "exception": false,
     "start_time": "2022-03-26T21:21:54.333199",
     "status": "completed"
    },
    "tags": []
   },
   "outputs": [],
   "source": [
    "###################################\n",
    "# Build the network(s)\n",
    "# Note: It's critical to do this AFTER setting the RNG\n",
    "###################################\n",
    "x_net = build_sequential(p.x_net)"
   ]
  },
  {
   "cell_type": "code",
   "execution_count": 9,
   "id": "5d7e61cc",
   "metadata": {
    "execution": {
     "iopub.execute_input": "2022-03-26T21:21:54.425063Z",
     "iopub.status.busy": "2022-03-26T21:21:54.424795Z",
     "iopub.status.idle": "2022-03-26T21:21:54.439384Z",
     "shell.execute_reply": "2022-03-26T21:21:54.439791Z"
    },
    "papermill": {
     "duration": 0.03148,
     "end_time": "2022-03-26T21:21:54.439924",
     "exception": false,
     "start_time": "2022-03-26T21:21:54.408444",
     "status": "completed"
    },
    "tags": []
   },
   "outputs": [],
   "source": [
    "start_time_secs = time.time()"
   ]
  },
  {
   "cell_type": "code",
   "execution_count": 10,
   "id": "c6b67dfd",
   "metadata": {
    "execution": {
     "iopub.execute_input": "2022-03-26T21:21:54.476851Z",
     "iopub.status.busy": "2022-03-26T21:21:54.476580Z",
     "iopub.status.idle": "2022-03-26T21:21:54.491680Z",
     "shell.execute_reply": "2022-03-26T21:21:54.492119Z"
    },
    "papermill": {
     "duration": 0.033025,
     "end_time": "2022-03-26T21:21:54.492261",
     "exception": false,
     "start_time": "2022-03-26T21:21:54.459236",
     "status": "completed"
    },
    "tags": []
   },
   "outputs": [],
   "source": [
    "p.domains_source = []\n",
    "p.domains_target = []\n",
    "\n",
    "\n",
    "train_original_source = []\n",
    "val_original_source   = []\n",
    "test_original_source  = []\n",
    "\n",
    "train_original_target = []\n",
    "val_original_target   = []\n",
    "test_original_target  = []"
   ]
  },
  {
   "cell_type": "code",
   "execution_count": 11,
   "id": "e3d9c3d3",
   "metadata": {
    "execution": {
     "iopub.execute_input": "2022-03-26T21:21:54.529344Z",
     "iopub.status.busy": "2022-03-26T21:21:54.528819Z",
     "iopub.status.idle": "2022-03-26T21:21:54.546429Z",
     "shell.execute_reply": "2022-03-26T21:21:54.546178Z"
    },
    "papermill": {
     "duration": 0.035111,
     "end_time": "2022-03-26T21:21:54.546496",
     "exception": false,
     "start_time": "2022-03-26T21:21:54.511385",
     "status": "completed"
    },
    "tags": []
   },
   "outputs": [],
   "source": [
    "# global_x_transform_func = lambda x: normalize(x.to(torch.get_default_dtype()), \"unit_power\") # unit_power, unit_mag\n",
    "# global_x_transform_func = lambda x: normalize(x, \"unit_power\") # unit_power, unit_mag"
   ]
  },
  {
   "cell_type": "code",
   "execution_count": 12,
   "id": "acb78fd2",
   "metadata": {
    "execution": {
     "iopub.execute_input": "2022-03-26T21:21:54.583620Z",
     "iopub.status.busy": "2022-03-26T21:21:54.582854Z",
     "iopub.status.idle": "2022-03-26T21:21:54.600245Z",
     "shell.execute_reply": "2022-03-26T21:21:54.600652Z"
    },
    "papermill": {
     "duration": 0.039735,
     "end_time": "2022-03-26T21:21:54.600790",
     "exception": false,
     "start_time": "2022-03-26T21:21:54.561055",
     "status": "completed"
    },
    "tags": []
   },
   "outputs": [],
   "source": [
    "def add_dataset(\n",
    "    labels,\n",
    "    domains,\n",
    "    pickle_path,\n",
    "    x_transforms,\n",
    "    episode_transforms,\n",
    "    domain_prefix,\n",
    "    num_examples_per_domain_per_label,\n",
    "    source_or_target_dataset:str,\n",
    "    iterator_seed=p.seed,\n",
    "    dataset_seed=p.dataset_seed,\n",
    "    n_shot=p.n_shot,\n",
    "    n_way=p.n_way,\n",
    "    n_query=p.n_query,\n",
    "    train_val_test_k_factors=(p.train_k_factor,p.val_k_factor,p.test_k_factor),\n",
    "):\n",
    "   \n",
    "    if x_transforms == []: x_transform = None\n",
    "    else: x_transform = get_chained_transform(x_transforms)\n",
    "    \n",
    "    if episode_transforms == []: episode_transform = None\n",
    "    else: raise Exception(\"episode_transforms not implemented\")\n",
    "    \n",
    "    episode_transform = lambda tup, _prefix=domain_prefix: (_prefix + str(tup[0]), tup[1])\n",
    "\n",
    "\n",
    "    eaf = Episodic_Accessor_Factory(\n",
    "        labels=labels,\n",
    "        domains=domains,\n",
    "        num_examples_per_domain_per_label=num_examples_per_domain_per_label,\n",
    "        iterator_seed=iterator_seed,\n",
    "        dataset_seed=dataset_seed,\n",
    "        n_shot=n_shot,\n",
    "        n_way=n_way,\n",
    "        n_query=n_query,\n",
    "        train_val_test_k_factors=train_val_test_k_factors,\n",
    "        pickle_path=pickle_path,\n",
    "        x_transform_func=x_transform,\n",
    "    )\n",
    "\n",
    "    train, val, test = eaf.get_train(), eaf.get_val(), eaf.get_test()\n",
    "    train = Lazy_Iterable_Wrapper(train, episode_transform)\n",
    "    val = Lazy_Iterable_Wrapper(val, episode_transform)\n",
    "    test = Lazy_Iterable_Wrapper(test, episode_transform)\n",
    "\n",
    "    if source_or_target_dataset==\"source\":\n",
    "        train_original_source.append(train)\n",
    "        val_original_source.append(val)\n",
    "        test_original_source.append(test)\n",
    "\n",
    "        p.domains_source.extend(\n",
    "            [domain_prefix + str(u) for u in domains]\n",
    "        )\n",
    "    elif source_or_target_dataset==\"target\":\n",
    "        train_original_target.append(train)\n",
    "        val_original_target.append(val)\n",
    "        test_original_target.append(test)\n",
    "        p.domains_target.extend(\n",
    "            [domain_prefix + str(u) for u in domains]\n",
    "        )\n",
    "    else:\n",
    "        raise Exception(f\"invalid source_or_target_dataset: {source_or_target_dataset}\")\n",
    "    "
   ]
  },
  {
   "cell_type": "code",
   "execution_count": 13,
   "id": "fe266617",
   "metadata": {
    "execution": {
     "iopub.execute_input": "2022-03-26T21:21:54.634176Z",
     "iopub.status.busy": "2022-03-26T21:21:54.633893Z",
     "iopub.status.idle": "2022-03-26T21:23:23.739475Z",
     "shell.execute_reply": "2022-03-26T21:23:23.739710Z"
    },
    "papermill": {
     "duration": 89.121987,
     "end_time": "2022-03-26T21:23:23.739794",
     "exception": false,
     "start_time": "2022-03-26T21:21:54.617807",
     "status": "completed"
    },
    "tags": []
   },
   "outputs": [],
   "source": [
    "for ds in p.datasets:\n",
    "    add_dataset(**ds)"
   ]
  },
  {
   "cell_type": "code",
   "execution_count": 14,
   "id": "b90d65ac",
   "metadata": {
    "execution": {
     "iopub.execute_input": "2022-03-26T21:23:23.776320Z",
     "iopub.status.busy": "2022-03-26T21:23:23.776031Z",
     "iopub.status.idle": "2022-03-26T21:23:23.790413Z",
     "shell.execute_reply": "2022-03-26T21:23:23.790160Z"
    },
    "papermill": {
     "duration": 0.03281,
     "end_time": "2022-03-26T21:23:23.790479",
     "exception": false,
     "start_time": "2022-03-26T21:23:23.757669",
     "status": "completed"
    },
    "tags": []
   },
   "outputs": [],
   "source": [
    "# from steves_utils.CORES.utils import (\n",
    "#     ALL_NODES,\n",
    "#     ALL_NODES_MINIMUM_1000_EXAMPLES,\n",
    "#     ALL_DAYS\n",
    "# )\n",
    "\n",
    "# add_dataset(\n",
    "#     labels=ALL_NODES,\n",
    "#     domains = ALL_DAYS,\n",
    "#     num_examples_per_domain_per_label=100,\n",
    "#     pickle_path=os.path.join(get_datasets_base_path(), \"cores.stratified_ds.2022A.pkl\"),\n",
    "#     source_or_target_dataset=\"target\",\n",
    "#     x_transform_func=global_x_transform_func,\n",
    "#     domain_modifier=lambda u: f\"cores_{u}\"\n",
    "# )"
   ]
  },
  {
   "cell_type": "code",
   "execution_count": 15,
   "id": "76db484d",
   "metadata": {
    "execution": {
     "iopub.execute_input": "2022-03-26T21:23:23.829527Z",
     "iopub.status.busy": "2022-03-26T21:23:23.829191Z",
     "iopub.status.idle": "2022-03-26T21:23:23.844379Z",
     "shell.execute_reply": "2022-03-26T21:23:23.844095Z"
    },
    "papermill": {
     "duration": 0.033851,
     "end_time": "2022-03-26T21:23:23.844444",
     "exception": false,
     "start_time": "2022-03-26T21:23:23.810593",
     "status": "completed"
    },
    "tags": []
   },
   "outputs": [],
   "source": [
    "# from steves_utils.ORACLE.utils_v2 import (\n",
    "#     ALL_DISTANCES_FEET,\n",
    "#     ALL_RUNS,\n",
    "#     ALL_SERIAL_NUMBERS,\n",
    "# )\n",
    "\n",
    "\n",
    "# add_dataset(\n",
    "#     labels=ALL_SERIAL_NUMBERS,\n",
    "#     domains = list(set(ALL_DISTANCES_FEET) - {2,62}),\n",
    "#     num_examples_per_domain_per_label=100,\n",
    "#     pickle_path=os.path.join(get_datasets_base_path(), \"oracle.Run2_framed_2000Examples_stratified_ds.2022A.pkl\"),\n",
    "#     source_or_target_dataset=\"source\",\n",
    "#     x_transform_func=global_x_transform_func,\n",
    "#     domain_modifier=lambda u: f\"oracle1_{u}\"\n",
    "# )\n"
   ]
  },
  {
   "cell_type": "code",
   "execution_count": 16,
   "id": "97dea9d2",
   "metadata": {
    "execution": {
     "iopub.execute_input": "2022-03-26T21:23:23.885954Z",
     "iopub.status.busy": "2022-03-26T21:23:23.882802Z",
     "iopub.status.idle": "2022-03-26T21:23:23.897316Z",
     "shell.execute_reply": "2022-03-26T21:23:23.897038Z"
    },
    "papermill": {
     "duration": 0.033115,
     "end_time": "2022-03-26T21:23:23.897383",
     "exception": false,
     "start_time": "2022-03-26T21:23:23.864268",
     "status": "completed"
    },
    "tags": []
   },
   "outputs": [],
   "source": [
    "# from steves_utils.ORACLE.utils_v2 import (\n",
    "#     ALL_DISTANCES_FEET,\n",
    "#     ALL_RUNS,\n",
    "#     ALL_SERIAL_NUMBERS,\n",
    "# )\n",
    "\n",
    "\n",
    "# add_dataset(\n",
    "#     labels=ALL_SERIAL_NUMBERS,\n",
    "#     domains = list(set(ALL_DISTANCES_FEET) - {2,62,56}),\n",
    "#     num_examples_per_domain_per_label=100,\n",
    "#     pickle_path=os.path.join(get_datasets_base_path(), \"oracle.Run2_framed_2000Examples_stratified_ds.2022A.pkl\"),\n",
    "#     source_or_target_dataset=\"source\",\n",
    "#     x_transform_func=global_x_transform_func,\n",
    "#     domain_modifier=lambda u: f\"oracle2_{u}\"\n",
    "# )"
   ]
  },
  {
   "cell_type": "code",
   "execution_count": 17,
   "id": "6f289866",
   "metadata": {
    "execution": {
     "iopub.execute_input": "2022-03-26T21:23:23.935620Z",
     "iopub.status.busy": "2022-03-26T21:23:23.935347Z",
     "iopub.status.idle": "2022-03-26T21:23:23.949815Z",
     "shell.execute_reply": "2022-03-26T21:23:23.949573Z"
    },
    "papermill": {
     "duration": 0.032665,
     "end_time": "2022-03-26T21:23:23.949878",
     "exception": false,
     "start_time": "2022-03-26T21:23:23.917213",
     "status": "completed"
    },
    "tags": []
   },
   "outputs": [],
   "source": [
    "# add_dataset(\n",
    "#     labels=list(range(19)),\n",
    "#     domains = [0,1,2],\n",
    "#     num_examples_per_domain_per_label=100,\n",
    "#     pickle_path=os.path.join(get_datasets_base_path(), \"metehan.stratified_ds.2022A.pkl\"),\n",
    "#     source_or_target_dataset=\"target\",\n",
    "#     x_transform_func=global_x_transform_func,\n",
    "#     domain_modifier=lambda u: f\"met_{u}\"\n",
    "# )"
   ]
  },
  {
   "cell_type": "code",
   "execution_count": 18,
   "id": "86a863c3",
   "metadata": {
    "execution": {
     "iopub.execute_input": "2022-03-26T21:23:23.986562Z",
     "iopub.status.busy": "2022-03-26T21:23:23.986286Z",
     "iopub.status.idle": "2022-03-26T21:23:24.001055Z",
     "shell.execute_reply": "2022-03-26T21:23:24.000791Z"
    },
    "papermill": {
     "duration": 0.033671,
     "end_time": "2022-03-26T21:23:24.001117",
     "exception": false,
     "start_time": "2022-03-26T21:23:23.967446",
     "status": "completed"
    },
    "tags": []
   },
   "outputs": [],
   "source": [
    "# # from steves_utils.wisig.utils import (\n",
    "# #     ALL_NODES_MINIMUM_100_EXAMPLES,\n",
    "# #     ALL_NODES_MINIMUM_500_EXAMPLES,\n",
    "# #     ALL_NODES_MINIMUM_1000_EXAMPLES,\n",
    "# #     ALL_DAYS\n",
    "# # )\n",
    "\n",
    "# import steves_utils.wisig.utils as wisig\n",
    "\n",
    "\n",
    "# add_dataset(\n",
    "#     labels=wisig.ALL_NODES_MINIMUM_100_EXAMPLES,\n",
    "#     domains = wisig.ALL_DAYS,\n",
    "#     num_examples_per_domain_per_label=100,\n",
    "#     pickle_path=os.path.join(get_datasets_base_path(), \"wisig.node3-19.stratified_ds.2022A.pkl\"),\n",
    "#     source_or_target_dataset=\"target\",\n",
    "#     x_transform_func=global_x_transform_func,\n",
    "#     domain_modifier=lambda u: f\"wisig_{u}\"\n",
    "# )"
   ]
  },
  {
   "cell_type": "code",
   "execution_count": 19,
   "id": "fd5442bc",
   "metadata": {
    "execution": {
     "iopub.execute_input": "2022-03-26T21:23:24.043086Z",
     "iopub.status.busy": "2022-03-26T21:23:24.042548Z",
     "iopub.status.idle": "2022-03-26T21:23:24.056697Z",
     "shell.execute_reply": "2022-03-26T21:23:24.056464Z"
    },
    "papermill": {
     "duration": 0.035512,
     "end_time": "2022-03-26T21:23:24.056757",
     "exception": false,
     "start_time": "2022-03-26T21:23:24.021245",
     "status": "completed"
    },
    "tags": []
   },
   "outputs": [],
   "source": [
    "###################################\n",
    "# Build the dataset\n",
    "###################################\n",
    "train_original_source = Iterable_Aggregator(train_original_source, p.seed)\n",
    "val_original_source = Iterable_Aggregator(val_original_source, p.seed)\n",
    "test_original_source = Iterable_Aggregator(test_original_source, p.seed)\n",
    "\n",
    "\n",
    "train_original_target = Iterable_Aggregator(train_original_target, p.seed)\n",
    "val_original_target = Iterable_Aggregator(val_original_target, p.seed)\n",
    "test_original_target = Iterable_Aggregator(test_original_target, p.seed)\n",
    "\n",
    "# For CNN We only use X and Y. And we only train on the source.\n",
    "# Properly form the data using a transform lambda and Lazy_Iterable_Wrapper. Finally wrap them in a dataloader\n",
    "\n",
    "transform_lambda = lambda ex: ex[1] # Original is (<domain>, <episode>) so we strip down to episode only\n",
    "\n",
    "train_processed_source = Lazy_Iterable_Wrapper(train_original_source, transform_lambda)\n",
    "val_processed_source   = Lazy_Iterable_Wrapper(val_original_source, transform_lambda)\n",
    "test_processed_source  = Lazy_Iterable_Wrapper(test_original_source, transform_lambda)\n",
    "\n",
    "train_processed_target = Lazy_Iterable_Wrapper(train_original_target, transform_lambda)\n",
    "val_processed_target   = Lazy_Iterable_Wrapper(val_original_target, transform_lambda)\n",
    "test_processed_target  = Lazy_Iterable_Wrapper(test_original_target, transform_lambda)\n",
    "\n",
    "datasets = EasyDict({\n",
    "    \"source\": {\n",
    "        \"original\": {\"train\":train_original_source, \"val\":val_original_source, \"test\":test_original_source},\n",
    "        \"processed\": {\"train\":train_processed_source, \"val\":val_processed_source, \"test\":test_processed_source}\n",
    "    },\n",
    "    \"target\": {\n",
    "        \"original\": {\"train\":train_original_target, \"val\":val_original_target, \"test\":test_original_target},\n",
    "        \"processed\": {\"train\":train_processed_target, \"val\":val_processed_target, \"test\":test_processed_target}\n",
    "    },\n",
    "})"
   ]
  },
  {
   "cell_type": "code",
   "execution_count": 20,
   "id": "5b3c01fc",
   "metadata": {
    "execution": {
     "iopub.execute_input": "2022-03-26T21:23:24.100720Z",
     "iopub.status.busy": "2022-03-26T21:23:24.100295Z",
     "iopub.status.idle": "2022-03-26T21:23:31.379888Z",
     "shell.execute_reply": "2022-03-26T21:23:31.380227Z"
    },
    "papermill": {
     "duration": 7.300367,
     "end_time": "2022-03-26T21:23:31.380314",
     "exception": false,
     "start_time": "2022-03-26T21:23:24.079947",
     "status": "completed"
    },
    "tags": []
   },
   "outputs": [
    {
     "name": "stdout",
     "output_type": "stream",
     "text": [
      "{'C_5', 'C_4', 'C_3', 'C_2', 'C_1'}\n"
     ]
    },
    {
     "name": "stdout",
     "output_type": "stream",
     "text": [
      "{'O_38', 'O_20', 'O_8', 'O_32', 'O_44', 'O_50', 'O_26', 'O_14'}\n"
     ]
    },
    {
     "name": "stdout",
     "output_type": "stream",
     "text": [
      "tensor([[[0., 0., 0.,  ..., 0., 0., 0.],\n",
      "         [0., 0., 0.,  ..., 0., 0., 0.]],\n",
      "\n",
      "        [[0., 0., 0.,  ..., 0., 0., 0.],\n",
      "         [0., 0., 0.,  ..., 0., 0., 0.]],\n",
      "\n",
      "        [[0., 0., 0.,  ..., 0., 0., 0.],\n",
      "         [0., 0., 0.,  ..., 0., 0., 0.]],\n",
      "\n",
      "        ...,\n",
      "\n",
      "        [[0., 0., 0.,  ..., 0., 0., 0.],\n",
      "         [0., 0., 0.,  ..., 0., 0., 0.]],\n",
      "\n",
      "        [[0., 0., 0.,  ..., 0., 0., 0.],\n",
      "         [0., 0., 0.,  ..., 0., 0., 0.]],\n",
      "\n",
      "        [[0., 0., 0.,  ..., 0., 0., 0.],\n",
      "         [0., 0., 0.,  ..., 0., 0., 0.]]])\n"
     ]
    }
   ],
   "source": [
    "from steves_utils.transforms import get_average_magnitude, get_average_power\n",
    "\n",
    "print(set([u for u,_ in val_original_source]))\n",
    "print(set([u for u,_ in val_original_target]))\n",
    "\n",
    "s_x, s_y, q_x, q_y, _ = next(iter(train_processed_source))\n",
    "print(s_x)\n",
    "\n",
    "# for ds in [\n",
    "#     train_processed_source,\n",
    "#     val_processed_source,\n",
    "#     test_processed_source,\n",
    "#     train_processed_target,\n",
    "#     val_processed_target,\n",
    "#     test_processed_target\n",
    "# ]:\n",
    "#     for s_x, s_y, q_x, q_y, _ in ds:\n",
    "#         for X in (s_x, q_x):\n",
    "#             for x in X:\n",
    "#                 assert np.isclose(get_average_magnitude(x.numpy()), 1.0)\n",
    "#                 assert np.isclose(get_average_power(x.numpy()), 1.0)\n",
    "                "
   ]
  },
  {
   "cell_type": "code",
   "execution_count": 21,
   "id": "bbdacba1",
   "metadata": {
    "execution": {
     "iopub.execute_input": "2022-03-26T21:23:31.420245Z",
     "iopub.status.busy": "2022-03-26T21:23:31.419656Z",
     "iopub.status.idle": "2022-03-26T21:23:31.483481Z",
     "shell.execute_reply": "2022-03-26T21:23:31.483794Z"
    },
    "papermill": {
     "duration": 0.083834,
     "end_time": "2022-03-26T21:23:31.483900",
     "exception": false,
     "start_time": "2022-03-26T21:23:31.400066",
     "status": "completed"
    },
    "tags": []
   },
   "outputs": [
    {
     "name": "stdout",
     "output_type": "stream",
     "text": [
      "(2, 256)\n"
     ]
    }
   ],
   "source": [
    "###################################\n",
    "# Build the model\n",
    "###################################\n",
    "# easfsl only wants a tuple for the shape\n",
    "model = Steves_Prototypical_Network(x_net, device=p.device, x_shape=tuple(p.x_shape))\n",
    "optimizer = Adam(params=model.parameters(), lr=p.lr)"
   ]
  },
  {
   "cell_type": "code",
   "execution_count": 22,
   "id": "22b39ac5",
   "metadata": {
    "execution": {
     "iopub.execute_input": "2022-03-26T21:23:31.529111Z",
     "iopub.status.busy": "2022-03-26T21:23:31.527225Z",
     "iopub.status.idle": "2022-03-26T21:59:31.547200Z",
     "shell.execute_reply": "2022-03-26T21:59:31.546959Z"
    },
    "papermill": {
     "duration": 2160.040522,
     "end_time": "2022-03-26T21:59:31.547261",
     "exception": false,
     "start_time": "2022-03-26T21:23:31.506739",
     "status": "completed"
    },
    "tags": []
   },
   "outputs": [
    {
     "name": "stdout",
     "output_type": "stream",
     "text": [
      "epoch: 1, [batch: 1 / 6297], examples_per_second: 46.6754, train_label_loss: 2.6868, \n"
     ]
    },
    {
     "name": "stdout",
     "output_type": "stream",
     "text": [
      "epoch: 1, [batch: 630 / 6297], examples_per_second: 1595.5345, train_label_loss: 0.0653, \n"
     ]
    },
    {
     "name": "stdout",
     "output_type": "stream",
     "text": [
      "epoch: 1, [batch: 1260 / 6297], examples_per_second: 1620.7133, train_label_loss: 0.0270, \n"
     ]
    },
    {
     "name": "stdout",
     "output_type": "stream",
     "text": [
      "epoch: 1, [batch: 1889 / 6297], examples_per_second: 1616.0016, train_label_loss: 0.0043, \n"
     ]
    },
    {
     "name": "stdout",
     "output_type": "stream",
     "text": [
      "epoch: 1, [batch: 2519 / 6297], examples_per_second: 1618.6196, train_label_loss: 0.0025, \n"
     ]
    },
    {
     "name": "stdout",
     "output_type": "stream",
     "text": [
      "epoch: 1, [batch: 3149 / 6297], examples_per_second: 1679.2520, train_label_loss: 0.0020, \n"
     ]
    },
    {
     "name": "stdout",
     "output_type": "stream",
     "text": [
      "epoch: 1, [batch: 3778 / 6297], examples_per_second: 1854.1156, train_label_loss: 0.0010, \n"
     ]
    },
    {
     "name": "stdout",
     "output_type": "stream",
     "text": [
      "epoch: 1, [batch: 4408 / 6297], examples_per_second: 1968.5016, train_label_loss: 0.0000, \n"
     ]
    },
    {
     "name": "stdout",
     "output_type": "stream",
     "text": [
      "epoch: 1, [batch: 5037 / 6297], examples_per_second: 1666.9677, train_label_loss: 0.0011, \n"
     ]
    },
    {
     "name": "stdout",
     "output_type": "stream",
     "text": [
      "epoch: 1, [batch: 5667 / 6297], examples_per_second: 1618.2632, train_label_loss: 0.0074, \n"
     ]
    },
    {
     "name": "stdout",
     "output_type": "stream",
     "text": [
      "=============================================================\n",
      "epoch: 1, source_val_acc_label: 0.9916, target_val_acc_label: 0.3457, source_val_label_loss: 0.2756, target_val_label_loss: 1.8870, \n",
      "=============================================================\n"
     ]
    },
    {
     "name": "stdout",
     "output_type": "stream",
     "text": [
      "New best\n"
     ]
    },
    {
     "name": "stdout",
     "output_type": "stream",
     "text": [
      "epoch: 2, [batch: 1 / 6333], examples_per_second: 2.5913, train_label_loss: 0.0001, \n"
     ]
    },
    {
     "name": "stdout",
     "output_type": "stream",
     "text": [
      "epoch: 2, [batch: 634 / 6333], examples_per_second: 1642.4827, train_label_loss: 0.0003, \n"
     ]
    },
    {
     "name": "stdout",
     "output_type": "stream",
     "text": [
      "epoch: 2, [batch: 1267 / 6333], examples_per_second: 1650.8489, train_label_loss: 0.0002, \n"
     ]
    },
    {
     "name": "stdout",
     "output_type": "stream",
     "text": [
      "epoch: 2, [batch: 1900 / 6333], examples_per_second: 1677.8009, train_label_loss: 0.0001, \n"
     ]
    },
    {
     "name": "stdout",
     "output_type": "stream",
     "text": [
      "epoch: 2, [batch: 2533 / 6333], examples_per_second: 1674.9706, train_label_loss: 0.0012, \n"
     ]
    },
    {
     "name": "stdout",
     "output_type": "stream",
     "text": [
      "epoch: 2, [batch: 3167 / 6333], examples_per_second: 1635.2198, train_label_loss: 0.0010, \n"
     ]
    },
    {
     "name": "stdout",
     "output_type": "stream",
     "text": [
      "epoch: 2, [batch: 3800 / 6333], examples_per_second: 1998.7581, train_label_loss: 0.0000, \n"
     ]
    },
    {
     "name": "stdout",
     "output_type": "stream",
     "text": [
      "epoch: 2, [batch: 4433 / 6333], examples_per_second: 2152.6540, train_label_loss: 0.0001, \n"
     ]
    },
    {
     "name": "stdout",
     "output_type": "stream",
     "text": [
      "epoch: 2, [batch: 5066 / 6333], examples_per_second: 2088.4019, train_label_loss: 0.0019, \n"
     ]
    },
    {
     "name": "stdout",
     "output_type": "stream",
     "text": [
      "epoch: 2, [batch: 5699 / 6333], examples_per_second: 2119.6113, train_label_loss: 0.0000, \n"
     ]
    },
    {
     "name": "stdout",
     "output_type": "stream",
     "text": [
      "=============================================================\n",
      "epoch: 2, source_val_acc_label: 0.9989, target_val_acc_label: 0.3029, source_val_label_loss: 0.0081, target_val_label_loss: 2.2197, \n",
      "=============================================================\n"
     ]
    },
    {
     "name": "stdout",
     "output_type": "stream",
     "text": [
      "epoch: 3, [batch: 1 / 6305], examples_per_second: 3.2248, train_label_loss: 0.0001, \n"
     ]
    },
    {
     "name": "stdout",
     "output_type": "stream",
     "text": [
      "epoch: 3, [batch: 631 / 6305], examples_per_second: 3210.8849, train_label_loss: 0.0000, \n"
     ]
    },
    {
     "name": "stdout",
     "output_type": "stream",
     "text": [
      "epoch: 3, [batch: 1261 / 6305], examples_per_second: 3224.6506, train_label_loss: 0.0001, \n"
     ]
    },
    {
     "name": "stdout",
     "output_type": "stream",
     "text": [
      "epoch: 3, [batch: 1892 / 6305], examples_per_second: 3214.4796, train_label_loss: 0.0001, \n"
     ]
    },
    {
     "name": "stdout",
     "output_type": "stream",
     "text": [
      "epoch: 3, [batch: 2522 / 6305], examples_per_second: 3208.2607, train_label_loss: 0.0127, \n"
     ]
    },
    {
     "name": "stdout",
     "output_type": "stream",
     "text": [
      "epoch: 3, [batch: 3153 / 6305], examples_per_second: 3159.8237, train_label_loss: 0.0007, \n"
     ]
    },
    {
     "name": "stdout",
     "output_type": "stream",
     "text": [
      "epoch: 3, [batch: 3783 / 6305], examples_per_second: 3157.0171, train_label_loss: 0.0000, \n"
     ]
    },
    {
     "name": "stdout",
     "output_type": "stream",
     "text": [
      "epoch: 3, [batch: 4413 / 6305], examples_per_second: 2508.8029, train_label_loss: 0.0000, \n"
     ]
    },
    {
     "name": "stdout",
     "output_type": "stream",
     "text": [
      "epoch: 3, [batch: 5044 / 6305], examples_per_second: 1665.8188, train_label_loss: 0.0006, \n"
     ]
    },
    {
     "name": "stdout",
     "output_type": "stream",
     "text": [
      "epoch: 3, [batch: 5674 / 6305], examples_per_second: 1661.5330, train_label_loss: 0.0000, \n"
     ]
    },
    {
     "name": "stdout",
     "output_type": "stream",
     "text": [
      "=============================================================\n",
      "epoch: 3, source_val_acc_label: 0.9991, target_val_acc_label: 0.3575, source_val_label_loss: 0.0078, target_val_label_loss: 2.0246, \n",
      "=============================================================\n"
     ]
    },
    {
     "name": "stdout",
     "output_type": "stream",
     "text": [
      "New best\n"
     ]
    },
    {
     "name": "stdout",
     "output_type": "stream",
     "text": [
      "epoch: 4, [batch: 1 / 6323], examples_per_second: 2.6029, train_label_loss: 0.0000, \n"
     ]
    },
    {
     "name": "stdout",
     "output_type": "stream",
     "text": [
      "epoch: 4, [batch: 633 / 6323], examples_per_second: 1661.0719, train_label_loss: 0.0000, \n"
     ]
    },
    {
     "name": "stdout",
     "output_type": "stream",
     "text": [
      "epoch: 4, [batch: 1265 / 6323], examples_per_second: 1661.3366, train_label_loss: 0.0000, \n"
     ]
    },
    {
     "name": "stdout",
     "output_type": "stream",
     "text": [
      "epoch: 4, [batch: 1897 / 6323], examples_per_second: 1665.2136, train_label_loss: 0.0000, \n"
     ]
    },
    {
     "name": "stdout",
     "output_type": "stream",
     "text": [
      "epoch: 4, [batch: 2529 / 6323], examples_per_second: 1681.5569, train_label_loss: 0.0000, \n"
     ]
    },
    {
     "name": "stdout",
     "output_type": "stream",
     "text": [
      "epoch: 4, [batch: 3162 / 6323], examples_per_second: 1664.3690, train_label_loss: 0.0000, \n"
     ]
    },
    {
     "name": "stdout",
     "output_type": "stream",
     "text": [
      "epoch: 4, [batch: 3794 / 6323], examples_per_second: 1877.4721, train_label_loss: 0.0001, \n"
     ]
    },
    {
     "name": "stdout",
     "output_type": "stream",
     "text": [
      "epoch: 4, [batch: 4426 / 6323], examples_per_second: 2230.0771, train_label_loss: 0.0001, \n"
     ]
    },
    {
     "name": "stdout",
     "output_type": "stream",
     "text": [
      "epoch: 4, [batch: 5058 / 6323], examples_per_second: 1696.9004, train_label_loss: 0.0000, \n"
     ]
    },
    {
     "name": "stdout",
     "output_type": "stream",
     "text": [
      "epoch: 4, [batch: 5690 / 6323], examples_per_second: 1675.3521, train_label_loss: 0.0000, \n"
     ]
    },
    {
     "name": "stdout",
     "output_type": "stream",
     "text": [
      "=============================================================\n",
      "epoch: 4, source_val_acc_label: 0.9992, target_val_acc_label: 0.3558, source_val_label_loss: 0.0061, target_val_label_loss: 1.9885, \n",
      "=============================================================\n"
     ]
    },
    {
     "name": "stdout",
     "output_type": "stream",
     "text": [
      "epoch: 5, [batch: 1 / 6317], examples_per_second: 2.5628, train_label_loss: 0.0000, \n"
     ]
    },
    {
     "name": "stdout",
     "output_type": "stream",
     "text": [
      "epoch: 5, [batch: 632 / 6317], examples_per_second: 1672.4221, train_label_loss: 0.0000, \n"
     ]
    },
    {
     "name": "stdout",
     "output_type": "stream",
     "text": [
      "epoch: 5, [batch: 1264 / 6317], examples_per_second: 1651.1679, train_label_loss: 0.0000, \n"
     ]
    },
    {
     "name": "stdout",
     "output_type": "stream",
     "text": [
      "epoch: 5, [batch: 1895 / 6317], examples_per_second: 1698.6582, train_label_loss: 0.0000, \n"
     ]
    },
    {
     "name": "stdout",
     "output_type": "stream",
     "text": [
      "epoch: 5, [batch: 2527 / 6317], examples_per_second: 1675.8323, train_label_loss: 0.0000, \n"
     ]
    },
    {
     "name": "stdout",
     "output_type": "stream",
     "text": [
      "epoch: 5, [batch: 3159 / 6317], examples_per_second: 1672.0884, train_label_loss: 0.0003, \n"
     ]
    },
    {
     "name": "stdout",
     "output_type": "stream",
     "text": [
      "epoch: 5, [batch: 3790 / 6317], examples_per_second: 1855.8114, train_label_loss: 0.0000, \n"
     ]
    },
    {
     "name": "stdout",
     "output_type": "stream",
     "text": [
      "epoch: 5, [batch: 4422 / 6317], examples_per_second: 2156.7960, train_label_loss: 0.0000, \n"
     ]
    },
    {
     "name": "stdout",
     "output_type": "stream",
     "text": [
      "epoch: 5, [batch: 5053 / 6317], examples_per_second: 1683.3406, train_label_loss: 0.0000, \n"
     ]
    },
    {
     "name": "stdout",
     "output_type": "stream",
     "text": [
      "epoch: 5, [batch: 5685 / 6317], examples_per_second: 1705.8122, train_label_loss: 0.0000, \n"
     ]
    },
    {
     "name": "stdout",
     "output_type": "stream",
     "text": [
      "=============================================================\n",
      "epoch: 5, source_val_acc_label: 0.9990, target_val_acc_label: 0.3312, source_val_label_loss: 0.0075, target_val_label_loss: 2.2957, \n",
      "=============================================================\n"
     ]
    },
    {
     "name": "stdout",
     "output_type": "stream",
     "text": [
      "epoch: 6, [batch: 1 / 6329], examples_per_second: 2.5614, train_label_loss: 0.0002, \n"
     ]
    },
    {
     "name": "stdout",
     "output_type": "stream",
     "text": [
      "epoch: 6, [batch: 633 / 6329], examples_per_second: 1679.6583, train_label_loss: 0.0000, \n"
     ]
    },
    {
     "name": "stdout",
     "output_type": "stream",
     "text": [
      "epoch: 6, [batch: 1266 / 6329], examples_per_second: 1672.2692, train_label_loss: 0.0000, \n"
     ]
    },
    {
     "name": "stdout",
     "output_type": "stream",
     "text": [
      "epoch: 6, [batch: 1899 / 6329], examples_per_second: 1657.7812, train_label_loss: 0.0000, \n"
     ]
    },
    {
     "name": "stdout",
     "output_type": "stream",
     "text": [
      "epoch: 6, [batch: 2532 / 6329], examples_per_second: 1667.4168, train_label_loss: 0.0000, \n"
     ]
    },
    {
     "name": "stdout",
     "output_type": "stream",
     "text": [
      "epoch: 6, [batch: 3165 / 6329], examples_per_second: 1640.4117, train_label_loss: 0.0000, \n"
     ]
    },
    {
     "name": "stdout",
     "output_type": "stream",
     "text": [
      "epoch: 6, [batch: 3797 / 6329], examples_per_second: 1907.4060, train_label_loss: 0.0001, \n"
     ]
    },
    {
     "name": "stdout",
     "output_type": "stream",
     "text": [
      "epoch: 6, [batch: 4430 / 6329], examples_per_second: 2213.4554, train_label_loss: 0.0002, \n"
     ]
    },
    {
     "name": "stdout",
     "output_type": "stream",
     "text": [
      "epoch: 6, [batch: 5063 / 6329], examples_per_second: 1690.0648, train_label_loss: 0.0000, \n"
     ]
    },
    {
     "name": "stdout",
     "output_type": "stream",
     "text": [
      "epoch: 6, [batch: 5696 / 6329], examples_per_second: 1681.0770, train_label_loss: 0.0000, \n"
     ]
    },
    {
     "name": "stdout",
     "output_type": "stream",
     "text": [
      "=============================================================\n",
      "epoch: 6, source_val_acc_label: 0.9996, target_val_acc_label: 0.3164, source_val_label_loss: 0.0050, target_val_label_loss: 2.3991, \n",
      "=============================================================\n"
     ]
    },
    {
     "name": "stdout",
     "output_type": "stream",
     "text": [
      "epoch: 7, [batch: 1 / 6316], examples_per_second: 2.5571, train_label_loss: 0.0000, \n"
     ]
    },
    {
     "name": "stdout",
     "output_type": "stream",
     "text": [
      "epoch: 7, [batch: 632 / 6316], examples_per_second: 1671.4870, train_label_loss: 0.0000, \n"
     ]
    },
    {
     "name": "stdout",
     "output_type": "stream",
     "text": [
      "epoch: 7, [batch: 1264 / 6316], examples_per_second: 1700.0407, train_label_loss: 0.0000, \n"
     ]
    },
    {
     "name": "stdout",
     "output_type": "stream",
     "text": [
      "epoch: 7, [batch: 1895 / 6316], examples_per_second: 1680.3091, train_label_loss: 0.0000, \n"
     ]
    },
    {
     "name": "stdout",
     "output_type": "stream",
     "text": [
      "epoch: 7, [batch: 2527 / 6316], examples_per_second: 1667.8440, train_label_loss: 0.0000, \n"
     ]
    },
    {
     "name": "stdout",
     "output_type": "stream",
     "text": [
      "epoch: 7, [batch: 3158 / 6316], examples_per_second: 1652.6903, train_label_loss: 0.0003, \n"
     ]
    },
    {
     "name": "stdout",
     "output_type": "stream",
     "text": [
      "epoch: 7, [batch: 3790 / 6316], examples_per_second: 1882.7385, train_label_loss: 0.0056, \n"
     ]
    },
    {
     "name": "stdout",
     "output_type": "stream",
     "text": [
      "epoch: 7, [batch: 4421 / 6316], examples_per_second: 2210.5551, train_label_loss: 0.0000, \n"
     ]
    },
    {
     "name": "stdout",
     "output_type": "stream",
     "text": [
      "epoch: 7, [batch: 5053 / 6316], examples_per_second: 1708.0801, train_label_loss: 0.0000, \n"
     ]
    },
    {
     "name": "stdout",
     "output_type": "stream",
     "text": [
      "epoch: 7, [batch: 5684 / 6316], examples_per_second: 1709.2704, train_label_loss: 0.0652, \n"
     ]
    },
    {
     "name": "stdout",
     "output_type": "stream",
     "text": [
      "=============================================================\n",
      "epoch: 7, source_val_acc_label: 0.9995, target_val_acc_label: 0.3342, source_val_label_loss: 0.0068, target_val_label_loss: 2.3322, \n",
      "=============================================================\n"
     ]
    },
    {
     "name": "stdout",
     "output_type": "stream",
     "text": [
      "Patience (3) exhausted\n"
     ]
    }
   ],
   "source": [
    "###################################\n",
    "# train\n",
    "###################################\n",
    "jig = PTN_Train_Eval_Test_Jig(model, p.BEST_MODEL_PATH, p.device)\n",
    "\n",
    "jig.train(\n",
    "    train_iterable=datasets.source.processed.train,\n",
    "    source_val_iterable=datasets.source.processed.val,\n",
    "    target_val_iterable=datasets.target.processed.val,\n",
    "    num_epochs=p.n_epoch,\n",
    "    num_logs_per_epoch=p.NUM_LOGS_PER_EPOCH,\n",
    "    patience=p.patience,\n",
    "    optimizer=optimizer,\n",
    "    criteria_for_best=p.criteria_for_best,\n",
    ")"
   ]
  },
  {
   "cell_type": "code",
   "execution_count": 23,
   "id": "31e8fabf",
   "metadata": {
    "execution": {
     "iopub.execute_input": "2022-03-26T21:59:31.619162Z",
     "iopub.status.busy": "2022-03-26T21:59:31.611589Z",
     "iopub.status.idle": "2022-03-26T21:59:31.630146Z",
     "shell.execute_reply": "2022-03-26T21:59:31.629662Z"
    },
    "papermill": {
     "duration": 0.051207,
     "end_time": "2022-03-26T21:59:31.630255",
     "exception": false,
     "start_time": "2022-03-26T21:59:31.579048",
     "status": "completed"
    },
    "tags": []
   },
   "outputs": [],
   "source": [
    "total_experiment_time_secs = time.time() - start_time_secs"
   ]
  },
  {
   "cell_type": "code",
   "execution_count": 24,
   "id": "87b9595b",
   "metadata": {
    "execution": {
     "iopub.execute_input": "2022-03-26T21:59:31.703272Z",
     "iopub.status.busy": "2022-03-26T21:59:31.699174Z",
     "iopub.status.idle": "2022-03-26T22:02:18.760600Z",
     "shell.execute_reply": "2022-03-26T22:02:18.761028Z"
    },
    "papermill": {
     "duration": 167.096503,
     "end_time": "2022-03-26T22:02:18.761169",
     "exception": false,
     "start_time": "2022-03-26T21:59:31.664666",
     "status": "completed"
    },
    "tags": []
   },
   "outputs": [],
   "source": [
    "###################################\n",
    "# Evaluate the model\n",
    "###################################\n",
    "source_test_label_accuracy, source_test_label_loss = jig.test(datasets.source.processed.test)\n",
    "target_test_label_accuracy, target_test_label_loss = jig.test(datasets.target.processed.test)\n",
    "\n",
    "source_val_label_accuracy, source_val_label_loss = jig.test(datasets.source.processed.val)\n",
    "target_val_label_accuracy, target_val_label_loss = jig.test(datasets.target.processed.val)\n",
    "\n",
    "history = jig.get_history()\n",
    "\n",
    "total_epochs_trained = len(history[\"epoch_indices\"])\n",
    "\n",
    "val_dl = Iterable_Aggregator((datasets.source.original.val,datasets.target.original.val))\n",
    "\n",
    "confusion = ptn_confusion_by_domain_over_dataloader(model, p.device, val_dl)\n",
    "per_domain_accuracy = per_domain_accuracy_from_confusion(confusion)\n",
    "\n",
    "# Add a key to per_domain_accuracy for if it was a source domain\n",
    "for domain, accuracy in per_domain_accuracy.items():\n",
    "    per_domain_accuracy[domain] = {\n",
    "        \"accuracy\": accuracy,\n",
    "        \"source?\": domain in p.domains_source\n",
    "    }\n",
    "\n",
    "# Do an independent accuracy assesment JUST TO BE SURE!\n",
    "# _source_test_label_accuracy = independent_accuracy_assesment(model, datasets.source.processed.test, p.device)\n",
    "# _target_test_label_accuracy = independent_accuracy_assesment(model, datasets.target.processed.test, p.device)\n",
    "# _source_val_label_accuracy = independent_accuracy_assesment(model, datasets.source.processed.val, p.device)\n",
    "# _target_val_label_accuracy = independent_accuracy_assesment(model, datasets.target.processed.val, p.device)\n",
    "\n",
    "# assert(_source_test_label_accuracy == source_test_label_accuracy)\n",
    "# assert(_target_test_label_accuracy == target_test_label_accuracy)\n",
    "# assert(_source_val_label_accuracy == source_val_label_accuracy)\n",
    "# assert(_target_val_label_accuracy == target_val_label_accuracy)\n",
    "\n",
    "experiment = {\n",
    "    \"experiment_name\": p.experiment_name,\n",
    "    \"parameters\": dict(p),\n",
    "    \"results\": {\n",
    "        \"source_test_label_accuracy\": source_test_label_accuracy,\n",
    "        \"source_test_label_loss\": source_test_label_loss,\n",
    "        \"target_test_label_accuracy\": target_test_label_accuracy,\n",
    "        \"target_test_label_loss\": target_test_label_loss,\n",
    "        \"source_val_label_accuracy\": source_val_label_accuracy,\n",
    "        \"source_val_label_loss\": source_val_label_loss,\n",
    "        \"target_val_label_accuracy\": target_val_label_accuracy,\n",
    "        \"target_val_label_loss\": target_val_label_loss,\n",
    "        \"total_epochs_trained\": total_epochs_trained,\n",
    "        \"total_experiment_time_secs\": total_experiment_time_secs,\n",
    "        \"confusion\": confusion,\n",
    "        \"per_domain_accuracy\": per_domain_accuracy,\n",
    "    },\n",
    "    \"history\": history,\n",
    "    \"dataset_metrics\": get_dataset_metrics(datasets, \"ptn\"),\n",
    "}"
   ]
  },
  {
   "cell_type": "code",
   "execution_count": 25,
   "id": "54a21829",
   "metadata": {
    "execution": {
     "iopub.execute_input": "2022-03-26T22:02:18.829769Z",
     "iopub.status.busy": "2022-03-26T22:02:18.828751Z",
     "iopub.status.idle": "2022-03-26T22:02:18.997990Z",
     "shell.execute_reply": "2022-03-26T22:02:18.998463Z"
    },
    "papermill": {
     "duration": 0.202403,
     "end_time": "2022-03-26T22:02:18.998604",
     "exception": false,
     "start_time": "2022-03-26T22:02:18.796201",
     "status": "completed"
    },
    "tags": []
   },
   "outputs": [
    {
     "data": {
      "image/png": "[encoded data removed]",
      "text/plain": [
       "<Figure size 1080x504 with 1 Axes>"
      ]
     },
     "metadata": {
      "needs_background": "light"
     },
     "output_type": "display_data"
    }
   ],
   "source": [
    "ax = get_loss_curve(experiment)\n",
    "plt.show()"
   ]
  },
  {
   "cell_type": "code",
   "execution_count": 26,
   "id": "fd8a0f60",
   "metadata": {
    "execution": {
     "iopub.execute_input": "2022-03-26T22:02:19.068461Z",
     "iopub.status.busy": "2022-03-26T22:02:19.068130Z",
     "iopub.status.idle": "2022-03-26T22:02:19.239060Z",
     "shell.execute_reply": "2022-03-26T22:02:19.239408Z"
    },
    "papermill": {
     "duration": 0.205042,
     "end_time": "2022-03-26T22:02:19.239523",
     "exception": false,
     "start_time": "2022-03-26T22:02:19.034481",
     "status": "completed"
    },
    "tags": []
   },
   "outputs": [
    {
     "data": {
      "text/plain": [
       "<AxesSubplot:title={'center':'Results'}>"
      ]
     },
     "execution_count": 26,
     "metadata": {},
     "output_type": "execute_result"
    },
    {
     "data": {
      "image/png": "[encoded data removed]",
      "text/plain": [
       "<Figure size 1080x504 with 1 Axes>"
      ]
     },
     "metadata": {
      "needs_background": "light"
     },
     "output_type": "display_data"
    }
   ],
   "source": [
    "get_results_table(experiment)"
   ]
  },
  {
   "cell_type": "code",
   "execution_count": 27,
   "id": "cf8dc689",
   "metadata": {
    "execution": {
     "iopub.execute_input": "2022-03-26T22:02:19.320946Z",
     "iopub.status.busy": "2022-03-26T22:02:19.320175Z",
     "iopub.status.idle": "2022-03-26T22:02:19.462168Z",
     "shell.execute_reply": "2022-03-26T22:02:19.461644Z"
    },
    "papermill": {
     "duration": 0.179971,
     "end_time": "2022-03-26T22:02:19.462318",
     "exception": false,
     "start_time": "2022-03-26T22:02:19.282347",
     "status": "completed"
    },
    "tags": []
   },
   "outputs": [
    {
     "data": {
      "text/plain": [
       "<AxesSubplot:title={'center':'Per Domain Validation Accuracy'}, xlabel='domain'>"
      ]
     },
     "execution_count": 27,
     "metadata": {},
     "output_type": "execute_result"
    },
    {
     "data": {
      "image/png": "[encoded data removed]",
      "text/plain": [
       "<Figure size 1080x504 with 1 Axes>"
      ]
     },
     "metadata": {
      "needs_background": "light"
     },
     "output_type": "display_data"
    }
   ],
   "source": [
    "get_domain_accuracies(experiment)"
   ]
  },
  {
   "cell_type": "code",
   "execution_count": 28,
   "id": "a74ae082",
   "metadata": {
    "execution": {
     "iopub.execute_input": "2022-03-26T22:02:19.551116Z",
     "iopub.status.busy": "2022-03-26T22:02:19.548576Z",
     "iopub.status.idle": "2022-03-26T22:02:19.564999Z",
     "shell.execute_reply": "2022-03-26T22:02:19.564613Z"
    },
    "papermill": {
     "duration": 0.058542,
     "end_time": "2022-03-26T22:02:19.565085",
     "exception": false,
     "start_time": "2022-03-26T22:02:19.506543",
     "status": "completed"
    },
    "tags": []
   },
   "outputs": [
    {
     "name": "stdout",
     "output_type": "stream",
     "text": [
      "Source Test Label Accuracy: 0.9992301231802911 Target Test Label Accuracy: 0.3592447916666667\n",
      "Source Val Label Accuracy: 0.9991061212814645 Target Val Label Accuracy: 0.35745442708333336\n"
     ]
    }
   ],
   "source": [
    "print(\"Source Test Label Accuracy:\", experiment[\"results\"][\"source_test_label_accuracy\"], \"Target Test Label Accuracy:\", experiment[\"results\"][\"target_test_label_accuracy\"])\n",
    "print(\"Source Val Label Accuracy:\", experiment[\"results\"][\"source_val_label_accuracy\"], \"Target Val Label Accuracy:\", experiment[\"results\"][\"target_val_label_accuracy\"])"
   ]
  },
  {
   "cell_type": "code",
   "execution_count": 29,
   "id": "dacca602",
   "metadata": {
    "execution": {
     "iopub.execute_input": "2022-03-26T22:02:19.654055Z",
     "iopub.status.busy": "2022-03-26T22:02:19.651655Z",
     "iopub.status.idle": "2022-03-26T22:02:19.667579Z",
     "shell.execute_reply": "2022-03-26T22:02:19.667808Z"
    },
    "papermill": {
     "duration": 0.057515,
     "end_time": "2022-03-26T22:02:19.667888",
     "exception": false,
     "start_time": "2022-03-26T22:02:19.610373",
     "status": "completed"
    },
    "tags": [
     "experiment_json"
    ]
   },
   "outputs": [
    {
     "data": {
      "text/plain": [
       "'{\"experiment_name\": \"tl_3-jitter1v2:cores -> oracle.run1.framed\", \"parameters\": {\"experiment_name\": \"tl_3-jitter1v2:cores -> oracle.run1.framed\", \"device\": \"cuda\", \"lr\": 0.0001, \"x_shape\": [2, 256], \"n_shot\": 3, \"n_query\": 2, \"train_k_factor\": 3, \"val_k_factor\": 2, \"test_k_factor\": 2, \"torch_default_dtype\": \"torch.float32\", \"n_epoch\": 50, \"patience\": 3, \"criteria_for_best\": \"target_accuracy\", \"x_net\": [{\"class\": \"nnReshape\", \"kargs\": {\"shape\": [-1, 1, 2, 256]}}, {\"class\": \"Conv2d\", \"kargs\": {\"in_channels\": 1, \"out_channels\": 256, \"kernel_size\": [1, 7], \"bias\": false, \"padding\": [0, 3]}}, {\"class\": \"ReLU\", \"kargs\": {\"inplace\": true}}, {\"class\": \"BatchNorm2d\", \"kargs\": {\"num_features\": 256}}, {\"class\": \"Conv2d\", \"kargs\": {\"in_channels\": 256, \"out_channels\": 80, \"kernel_size\": [2, 7], \"bias\": true, \"padding\": [0, 3]}}, {\"class\": \"ReLU\", \"kargs\": {\"inplace\": true}}, {\"class\": \"BatchNorm2d\", \"kargs\": {\"num_features\": 80}}, {\"class\": \"Flatten\", \"kargs\": {}}, {\"class\": \"Linear\", \"kargs\": {\"in_features\": 20480, \"out_features\": 256}}, {\"class\": \"ReLU\", \"kargs\": {\"inplace\": true}}, {\"class\": \"BatchNorm1d\", \"kargs\": {\"num_features\": 256}}, {\"class\": \"Linear\", \"kargs\": {\"in_features\": 256, \"out_features\": 256}}], \"NUM_LOGS_PER_EPOCH\": 10, \"BEST_MODEL_PATH\": \"./best_model.pth\", \"n_way\": 16, \"datasets\": [{\"labels\": [\"1-10.\", \"1-11.\", \"1-15.\", \"1-16.\", \"1-17.\", \"1-18.\", \"1-19.\", \"10-4.\", \"10-7.\", \"11-1.\", \"11-14.\", \"11-17.\", \"11-20.\", \"11-7.\", \"13-20.\", \"13-8.\", \"14-10.\", \"14-11.\", \"14-14.\", \"14-7.\", \"15-1.\", \"15-20.\", \"16-1.\", \"16-16.\", \"17-10.\", \"17-11.\", \"17-2.\", \"19-1.\", \"19-16.\", \"19-19.\", \"19-20.\", \"19-3.\", \"2-10.\", \"2-11.\", \"2-17.\", \"2-18.\", \"2-20.\", \"2-3.\", \"2-4.\", \"2-5.\", \"2-6.\", \"2-7.\", \"2-8.\", \"3-13.\", \"3-18.\", \"3-3.\", \"4-1.\", \"4-10.\", \"4-11.\", \"4-19.\", \"5-5.\", \"6-15.\", \"7-10.\", \"7-14.\", \"8-18.\", \"8-20.\", \"8-3.\", \"8-8.\"], \"domains\": [1, 2, 3, 4, 5], \"num_examples_per_domain_per_label\": -1, \"pickle_path\": \"/mnt/wd500GB/CSC500/csc500-main/datasets/cores.stratified_ds.2022A.pkl\", \"source_or_target_dataset\": \"source\", \"x_transforms\": [\"unit_mag\", \"jitter_256_1\", \"lowpass_+/-10MHz\", \"take_200\"], \"episode_transforms\": [], \"domain_prefix\": \"C_\"}, {\"labels\": [\"3123D52\", \"3123D65\", \"3123D79\", \"3123D80\", \"3123D54\", \"3123D70\", \"3123D7B\", \"3123D89\", \"3123D58\", \"3123D76\", \"3123D7D\", \"3123EFE\", \"3123D64\", \"3123D78\", \"3123D7E\", \"3124E4A\"], \"domains\": [32, 38, 8, 44, 14, 50, 20, 26], \"num_examples_per_domain_per_label\": 2000, \"pickle_path\": \"/mnt/wd500GB/CSC500/csc500-main/datasets/oracle.Run1_framed_2000Examples_stratified_ds.2022A.pkl\", \"source_or_target_dataset\": \"target\", \"x_transforms\": [\"unit_mag\", \"jitter_256_1\", \"take_200\", \"resample_20Msps_to_25Msps\"], \"episode_transforms\": [], \"domain_prefix\": \"O_\"}], \"seed\": 154325, \"dataset_seed\": 154325, \"domains_source\": [\"C_1\", \"C_2\", \"C_3\", \"C_4\", \"C_5\"], \"domains_target\": [\"O_32\", \"O_38\", \"O_8\", \"O_44\", \"O_14\", \"O_50\", \"O_20\", \"O_26\"]}, \"results\": {\"source_test_label_accuracy\": 0.9992301231802911, \"source_test_label_loss\": 0.0051386612467467785, \"target_test_label_accuracy\": 0.3592447916666667, \"target_test_label_loss\": 2.017052412033081, \"source_val_label_accuracy\": 0.9991061212814645, \"source_val_label_loss\": 0.007755132857710123, \"target_val_label_accuracy\": 0.35745442708333336, \"target_val_label_loss\": 2.0246119499206543, \"total_epochs_trained\": 7, \"total_experiment_time_secs\": 2257.190521001816, \"confusion\": {\"C_2\": {\"21\": {\"21\": 120}, \"4\": {\"4\": 130}, \"6\": {\"6\": 124}, \"10\": {\"10\": 112}, \"33\": {\"33\": 28}, \"56\": {\"56\": 122}, \"20\": {\"20\": 132}, \"24\": {\"24\": 96}, \"45\": {\"45\": 128}, \"32\": {\"32\": 28}, \"27\": {\"27\": 148}, \"53\": {\"53\": 136}, \"8\": {\"8\": 160}, \"54\": {\"54\": 108}, \"50\": {\"50\": 134}, \"44\": {\"44\": 100}, \"5\": {\"5\": 120}, \"38\": {\"38\": 20}, \"19\": {\"19\": 132}, \"1\": {\"1\": 112}, \"30\": {\"30\": 144}, \"15\": {\"15\": 144}, \"23\": {\"23\": 146}, \"35\": {\"35\": 32}, \"22\": {\"22\": 128}, \"40\": {\"40\": 140}, \"46\": {\"46\": 126}, \"3\": {\"3\": 91, \"25\": 1}, \"48\": {\"48\": 148}, \"52\": {\"52\": 124}, \"2\": {\"2\": 32}, \"26\": {\"26\": 24}, \"17\": {\"17\": 104}, \"55\": {\"55\": 144}, \"51\": {\"51\": 122}, \"42\": {\"42\": 36}, \"41\": {\"41\": 20}, \"31\": {\"31\": 28}, \"16\": {\"16\": 138}, \"36\": {\"36\": 116}, \"49\": {\"49\": 24}, \"0\": {\"0\": 48}, \"18\": {\"18\": 48}, \"25\": {\"25\": 146}, \"9\": {\"9\": 122}, \"47\": {\"47\": 132}, \"7\": {\"7\": 36}, \"37\": {\"37\": 36}, \"13\": {\"13\": 116}, \"14\": {\"14\": 24}, \"34\": {\"34\": 28}, \"57\": {\"57\": 140}, \"11\": {\"11\": 138}, \"39\": {\"39\": 28}, \"12\": {\"12\": 92}, \"28\": {\"28\": 28}, \"29\": {\"29\": 128}, \"43\": {\"43\": 140}}, \"C_5\": {\"12\": {\"12\": 96}, \"8\": {\"8\": 142}, \"29\": {\"29\": 132}, \"57\": {\"57\": 126}, \"38\": {\"38\": 32}, \"23\": {\"23\": 124}, \"56\": {\"56\": 138}, \"49\": {\"49\": 36}, \"4\": {\"4\": 100}, \"48\": {\"48\": 136}, \"21\": {\"21\": 144}, \"30\": {\"30\": 128}, \"1\": {\"1\": 148}, \"34\": {\"34\": 36}, \"35\": {\"35\": 36}, \"55\": {\"55\": 152}, \"5\": {\"5\": 122}, \"52\": {\"52\": 126}, \"6\": {\"6\": 127, \"17\": 1}, \"36\": {\"36\": 92}, \"41\": {\"41\": 28}, \"3\": {\"3\": 100}, \"28\": {\"28\": 32}, \"18\": {\"18\": 64}, \"25\": {\"25\": 136}, \"47\": {\"47\": 100}, \"13\": {\"13\": 160}, \"11\": {\"11\": 144}, \"53\": {\"53\": 144}, \"33\": {\"33\": 32}, \"46\": {\"46\": 148}, \"50\": {\"50\": 147, \"25\": 1}, \"10\": {\"10\": 68}, \"15\": {\"15\": 138}, \"44\": {\"44\": 140}, \"2\": {\"2\": 28}, \"7\": {\"7\": 32}, \"43\": {\"43\": 138}, \"32\": {\"32\": 32}, \"0\": {\"0\": 124}, \"39\": {\"39\": 20}, \"26\": {\"26\": 24}, \"27\": {\"27\": 112}, \"54\": {\"54\": 112}, \"17\": {\"17\": 116}, \"14\": {\"14\": 44}, \"16\": {\"16\": 148}, \"9\": {\"9\": 146, \"17\": 2}, \"19\": {\"19\": 152}, \"20\": {\"20\": 138}, \"37\": {\"37\": 24}, \"24\": {\"24\": 80}, \"40\": {\"40\": 122}, \"45\": {\"45\": 122, \"55\": 2}, \"22\": {\"22\": 28}, \"42\": {\"42\": 38, \"22\": 1, \"56\": 1}, \"51\": {\"51\": 118}, \"31\": {\"31\": 36}}, \"C_1\": {\"27\": {\"27\": 142}, \"2\": {\"2\": 36}, \"33\": {\"33\": 32}, \"45\": {\"45\": 156}, \"38\": {\"38\": 24}, \"4\": {\"4\": 132}, \"31\": {\"31\": 28}, \"55\": {\"55\": 140}, \"32\": {\"32\": 32}, \"57\": {\"57\": 140}, \"14\": {\"14\": 24}, \"16\": {\"16\": 140}, \"34\": {\"34\": 24}, \"56\": {\"56\": 126}, \"24\": {\"24\": 106, \"22\": 2}, \"30\": {\"30\": 112}, \"17\": {\"17\": 64}, \"13\": {\"13\": 138}, \"39\": {\"39\": 28}, \"50\": {\"50\": 146}, \"20\": {\"20\": 140}, \"41\": {\"41\": 24}, \"53\": {\"53\": 126}, \"48\": {\"48\": 142}, \"36\": {\"36\": 64}, \"8\": {\"8\": 140}, \"15\": {\"15\": 132}, \"40\": {\"40\": 156}, \"37\": {\"37\": 32}, \"21\": {\"21\": 120}, \"35\": {\"35\": 36}, \"49\": {\"49\": 32}, \"26\": {\"26\": 24}, \"28\": {\"28\": 28}, \"12\": {\"12\": 116}, \"5\": {\"5\": 152}, \"29\": {\"29\": 140}, \"47\": {\"47\": 140}, \"10\": {\"10\": 96}, \"18\": {\"18\": 71, \"50\": 1}, \"9\": {\"9\": 126}, \"3\": {\"3\": 140}, \"52\": {\"52\": 132}, \"25\": {\"25\": 136}, \"19\": {\"19\": 156}, \"11\": {\"11\": 132, \"15\": 2, \"21\": 2}, \"7\": {\"7\": 28}, \"23\": {\"23\": 136}, \"44\": {\"44\": 131, \"35\": 1}, \"42\": {\"42\": 40}, \"54\": {\"54\": 104}, \"1\": {\"1\": 98, \"57\": 2}, \"46\": {\"46\": 128}, \"6\": {\"6\": 96}, \"43\": {\"43\": 144}, \"51\": {\"51\": 142}, \"22\": {\"22\": 136}, \"0\": {\"0\": 128}}, \"C_4\": {\"32\": {\"32\": 24}, \"2\": {\"2\": 36}, \"41\": {\"41\": 36}, \"11\": {\"11\": 101, \"15\": 1}, \"57\": {\"57\": 100}, \"6\": {\"6\": 112}, \"23\": {\"23\": 136}, \"52\": {\"52\": 116}, \"38\": {\"38\": 40}, \"50\": {\"50\": 132}, \"55\": {\"55\": 152}, \"46\": {\"46\": 152, \"47\": 2}, \"37\": {\"37\": 24}, \"20\": {\"20\": 118}, \"49\": {\"49\": 20}, \"45\": {\"45\": 96}, \"54\": {\"54\": 108}, \"3\": {\"3\": 123, \"50\": 1}, \"13\": {\"13\": 152}, \"18\": {\"18\": 108}, \"21\": {\"21\": 126}, \"43\": {\"43\": 144}, \"47\": {\"47\": 120}, \"4\": {\"4\": 132}, \"12\": {\"12\": 92}, \"9\": {\"9\": 128}, \"7\": {\"7\": 24}, \"56\": {\"56\": 112}, \"28\": {\"28\": 32}, \"44\": {\"44\": 132}, \"24\": {\"24\": 56}, \"33\": {\"33\": 36}, \"35\": {\"35\": 40}, \"51\": {\"51\": 138}, \"39\": {\"39\": 20}, \"36\": {\"36\": 92}, \"19\": {\"19\": 140}, \"0\": {\"0\": 80}, \"15\": {\"15\": 136}, \"29\": {\"29\": 124}, \"30\": {\"30\": 44}, \"1\": {\"1\": 40}, \"22\": {\"22\": 128}, \"40\": {\"40\": 146}, \"8\": {\"8\": 128}, \"53\": {\"53\": 138}, \"34\": {\"34\": 24}, \"10\": {\"10\": 122}, \"31\": {\"31\": 28}, \"17\": {\"17\": 80}, \"16\": {\"16\": 96}, \"42\": {\"42\": 32}, \"27\": {\"27\": 142}, \"14\": {\"14\": 16}, \"25\": {\"25\": 122}, \"48\": {\"48\": 132}, \"26\": {\"26\": 24}, \"5\": {\"5\": 108}}, \"C_3\": {\"14\": {\"14\": 40}, \"18\": {\"18\": 84}, \"30\": {\"30\": 120}, \"16\": {\"16\": 156}, \"1\": {\"1\": 100}, \"20\": {\"20\": 132}, \"7\": {\"7\": 36}, \"52\": {\"52\": 130}, \"9\": {\"9\": 140}, \"23\": {\"23\": 144}, \"55\": {\"55\": 164}, \"29\": {\"29\": 126}, \"56\": {\"56\": 134}, \"3\": {\"3\": 124}, \"42\": {\"42\": 28}, \"6\": {\"6\": 87, \"12\": 1}, \"5\": {\"5\": 115, \"18\": 1}, \"27\": {\"27\": 144}, \"47\": {\"47\": 92}, \"39\": {\"39\": 16}, \"34\": {\"34\": 32}, \"4\": {\"4\": 126}, \"24\": {\"24\": 104}, \"46\": {\"46\": 118}, \"50\": {\"50\": 126}, \"38\": {\"38\": 28}, \"54\": {\"54\": 100}, \"35\": {\"35\": 28}, \"2\": {\"2\": 32}, \"41\": {\"41\": 28}, \"57\": {\"57\": 118}, \"25\": {\"25\": 150}, \"48\": {\"48\": 116}, \"33\": {\"33\": 28}, \"45\": {\"45\": 60}, \"13\": {\"13\": 126}, \"36\": {\"36\": 100}, \"43\": {\"43\": 132}, \"28\": {\"28\": 28}, \"0\": {\"0\": 124}, \"12\": {\"12\": 92}, \"31\": {\"31\": 28}, \"40\": {\"40\": 116}, \"44\": {\"44\": 88}, \"32\": {\"32\": 28}, \"26\": {\"26\": 24}, \"8\": {\"8\": 116}, \"10\": {\"10\": 64}, \"15\": {\"15\": 142}, \"21\": {\"21\": 128}, \"37\": {\"37\": 28}, \"17\": {\"17\": 108}, \"51\": {\"51\": 124}, \"53\": {\"53\": 144}, \"19\": {\"19\": 136}, \"49\": {\"49\": 20}, \"11\": {\"11\": 138}, \"22\": {\"22\": 130}}, \"O_8\": {\"13\": {\"6\": 24, \"7\": 21, \"10\": 26, \"13\": 35, \"4\": 38, \"1\": 8, \"0\": 36, \"14\": 28, \"5\": 10, \"2\": 2, \"8\": 3, \"12\": 4, \"11\": 4, \"3\": 1}, \"9\": {\"9\": 222, \"4\": 2, \"5\": 10, \"14\": 1, \"10\": 3, \"0\": 1, \"1\": 1}, \"15\": {\"12\": 47, \"15\": 52, \"8\": 55, \"7\": 21, \"6\": 14, \"2\": 16, \"3\": 15, \"11\": 3, \"1\": 2, \"4\": 4, \"0\": 6, \"13\": 3, \"14\": 1, \"10\": 1}, \"2\": {\"3\": 75, \"12\": 32, \"8\": 4, \"2\": 77, \"4\": 4, \"15\": 20, \"0\": 10, \"6\": 6, \"7\": 8, \"14\": 2, \"13\": 2}, \"3\": {\"3\": 78, \"12\": 52, \"6\": 1, \"2\": 72, \"15\": 29, \"7\": 3, \"4\": 1, \"0\": 2, \"8\": 2}, \"8\": {\"12\": 19, \"8\": 78, \"6\": 21, \"4\": 11, \"1\": 13, \"15\": 34, \"7\": 26, \"14\": 14, \"5\": 1, \"13\": 3, \"10\": 1, \"11\": 9, \"2\": 3, \"0\": 7}, \"5\": {\"14\": 28, \"5\": 67, \"1\": 56, \"4\": 11, \"13\": 9, \"9\": 4, \"11\": 31, \"6\": 3, \"10\": 21, \"0\": 5, \"7\": 2, \"15\": 1, \"8\": 2}, \"14\": {\"4\": 35, \"5\": 13, \"8\": 14, \"10\": 38, \"14\": 36, \"6\": 15, \"0\": 18, \"11\": 20, \"13\": 22, \"1\": 23, \"7\": 3, \"2\": 1, \"15\": 2}, \"1\": {\"5\": 38, \"10\": 23, \"14\": 21, \"11\": 64, \"1\": 54, \"6\": 4, \"13\": 13, \"7\": 3, \"4\": 11, \"8\": 7, \"0\": 2}, \"0\": {\"5\": 4, \"0\": 58, \"10\": 14, \"13\": 34, \"7\": 39, \"4\": 22, \"6\": 37, \"14\": 17, \"12\": 5, \"15\": 2, \"3\": 3, \"1\": 2, \"2\": 2, \"8\": 1}, \"10\": {\"14\": 35, \"5\": 26, \"4\": 30, \"1\": 19, \"13\": 34, \"6\": 5, \"10\": 44, \"8\": 7, \"11\": 11, \"0\": 19, \"7\": 6, \"15\": 3, \"9\": 1}, \"6\": {\"8\": 35, \"6\": 34, \"7\": 31, \"4\": 25, \"0\": 34, \"10\": 10, \"14\": 16, \"11\": 6, \"13\": 21, \"12\": 10, \"5\": 2, \"15\": 10, \"1\": 4, \"3\": 2}, \"11\": {\"1\": 61, \"11\": 103, \"10\": 16, \"14\": 21, \"8\": 9, \"4\": 7, \"7\": 3, \"12\": 1, \"5\": 15, \"13\": 2, \"0\": 1, \"15\": 1}, \"7\": {\"6\": 40, \"13\": 20, \"7\": 40, \"12\": 9, \"2\": 14, \"3\": 1, \"10\": 4, \"4\": 23, \"15\": 15, \"0\": 45, \"8\": 14, \"14\": 12, \"1\": 1, \"5\": 1, \"11\": 1}, \"4\": {\"4\": 38, \"5\": 4, \"13\": 40, \"8\": 14, \"0\": 28, \"7\": 19, \"1\": 11, \"6\": 26, \"14\": 28, \"10\": 20, \"15\": 3, \"11\": 7, \"2\": 1, \"12\": 1}, \"12\": {\"12\": 83, \"7\": 6, \"15\": 59, \"6\": 8, \"3\": 24, \"0\": 2, \"2\": 24, \"8\": 30, \"1\": 1, \"4\": 1, \"13\": 1, \"11\": 1}}, \"O_38\": {\"13\": {\"2\": 24, \"15\": 57, \"13\": 65, \"11\": 1, \"10\": 27, \"5\": 6, \"1\": 28, \"6\": 1, \"8\": 18, \"0\": 10, \"7\": 1, \"14\": 2}, \"12\": {\"4\": 50, \"12\": 169, \"14\": 6, \"0\": 4, \"15\": 1, \"10\": 3, \"2\": 3, \"13\": 1, \"8\": 2, \"11\": 1}, \"2\": {\"2\": 111, \"1\": 7, \"14\": 35, \"10\": 11, \"11\": 15, \"13\": 39, \"15\": 19, \"8\": 2, \"12\": 1}, \"9\": {\"3\": 26, \"9\": 111, \"6\": 72, \"5\": 17, \"7\": 6, \"8\": 3, \"0\": 3, \"1\": 1, \"13\": 1}, \"15\": {\"15\": 79, \"1\": 61, \"8\": 13, \"13\": 40, \"5\": 14, \"2\": 8, \"6\": 1, \"0\": 7, \"10\": 14, \"12\": 1, \"7\": 1, \"14\": 1}, \"5\": {\"15\": 24, \"5\": 46, \"9\": 13, \"1\": 12, \"6\": 26, \"8\": 43, \"3\": 4, \"0\": 27, \"7\": 31, \"13\": 7, \"10\": 7}, \"14\": {\"12\": 9, \"14\": 121, \"11\": 65, \"10\": 12, \"2\": 31, \"4\": 2}, \"0\": {\"13\": 5, \"0\": 69, \"5\": 25, \"8\": 46, \"3\": 15, \"7\": 35, \"9\": 6, \"6\": 6, \"10\": 12, \"4\": 1, \"15\": 12, \"12\": 3, \"1\": 4, \"11\": 1}, \"3\": {\"5\": 9, \"3\": 135, \"9\": 39, \"8\": 8, \"7\": 19, \"6\": 14, \"0\": 16}, \"1\": {\"6\": 9, \"1\": 126, \"15\": 38, \"5\": 22, \"13\": 29, \"0\": 3, \"7\": 2, \"8\": 7, \"9\": 3, \"10\": 1}, \"11\": {\"14\": 80, \"11\": 94, \"10\": 9, \"2\": 33, \"13\": 6, \"4\": 1, \"12\": 12, \"15\": 4, \"1\": 1}, \"7\": {\"10\": 10, \"0\": 45, \"7\": 97, \"12\": 1, \"5\": 27, \"8\": 33, \"9\": 6, \"13\": 1, \"6\": 7, \"3\": 9, \"15\": 2, \"4\": 2}, \"8\": {\"15\": 30, \"1\": 9, \"13\": 12, \"2\": 2, \"5\": 45, \"0\": 45, \"8\": 39, \"7\": 29, \"6\": 2, \"10\": 24, \"9\": 2, \"12\": 1}, \"4\": {\"4\": 171, \"12\": 56, \"10\": 4, \"7\": 2, \"8\": 2, \"0\": 4, \"5\": 1}, \"10\": {\"10\": 91, \"15\": 26, \"8\": 23, \"13\": 27, \"5\": 9, \"2\": 16, \"14\": 11, \"12\": 8, \"0\": 11, \"4\": 3, \"1\": 3, \"11\": 9, \"7\": 3}, \"6\": {\"9\": 73, \"3\": 9, \"6\": 109, \"5\": 25, \"1\": 12, \"13\": 1, \"0\": 7, \"8\": 3, \"7\": 1}}, \"O_26\": {\"10\": {\"0\": 29, \"2\": 6, \"9\": 13, \"14\": 28, \"8\": 26, \"10\": 28, \"6\": 18, \"15\": 14, \"5\": 9, \"1\": 30, \"4\": 26, \"7\": 6, \"3\": 1, \"13\": 5, \"12\": 1}, \"12\": {\"12\": 183, \"9\": 2, \"11\": 28, \"0\": 1, \"10\": 6, \"14\": 2, \"1\": 3, \"15\": 2, \"6\": 12, \"4\": 1}, \"1\": {\"0\": 30, \"10\": 27, \"1\": 51, \"4\": 23, \"7\": 15, \"8\": 19, \"15\": 11, \"14\": 34, \"5\": 10, \"3\": 7, \"9\": 6, \"13\": 1, \"6\": 2, \"2\": 4}, \"0\": {\"14\": 34, \"5\": 11, \"0\": 29, \"8\": 20, \"7\": 8, \"6\": 19, \"1\": 29, \"4\": 33, \"2\": 5, \"10\": 30, \"15\": 7, \"9\": 11, \"13\": 3, \"3\": 1}, \"15\": {\"8\": 20, \"2\": 18, \"5\": 29, \"1\": 10, \"6\": 16, \"3\": 7, \"13\": 28, \"9\": 16, \"15\": 32, \"14\": 8, \"0\": 18, \"10\": 13, \"12\": 1, \"7\": 16, \"4\": 8}, \"13\": {\"15\": 30, \"9\": 14, \"5\": 43, \"14\": 6, \"13\": 69, \"2\": 16, \"7\": 10, \"8\": 11, \"10\": 4, \"6\": 22, \"3\": 3, \"4\": 6, \"11\": 2, \"0\": 4}, \"8\": {\"12\": 1, \"5\": 11, \"4\": 20, \"6\": 17, \"0\": 18, \"1\": 26, \"3\": 5, \"9\": 20, \"15\": 26, \"14\": 27, \"8\": 19, \"10\": 22, \"13\": 9, \"7\": 12, \"2\": 7}, \"3\": {\"3\": 50, \"2\": 44, \"15\": 12, \"1\": 17, \"9\": 12, \"0\": 5, \"7\": 32, \"4\": 13, \"14\": 12, \"5\": 18, \"13\": 10, \"8\": 10, \"10\": 3, \"6\": 2}, \"11\": {\"11\": 193, \"12\": 34, \"9\": 2, \"13\": 4, \"5\": 3, \"6\": 3, \"10\": 1}, \"4\": {\"5\": 6, \"10\": 28, \"15\": 15, \"14\": 33, \"4\": 25, \"8\": 23, \"1\": 34, \"0\": 27, \"7\": 12, \"3\": 4, \"6\": 5, \"9\": 14, \"2\": 10, \"13\": 4}, \"6\": {\"12\": 5, \"10\": 20, \"13\": 23, \"9\": 22, \"1\": 5, \"6\": 54, \"15\": 30, \"5\": 11, \"4\": 14, \"8\": 19, \"0\": 16, \"14\": 17, \"7\": 4}, \"7\": {\"7\": 39, \"15\": 19, \"3\": 16, \"4\": 16, \"10\": 13, \"1\": 32, \"14\": 22, \"8\": 23, \"0\": 9, \"2\": 23, \"5\": 8, \"9\": 14, \"6\": 5, \"13\": 1}, \"14\": {\"6\": 8, \"2\": 11, \"8\": 20, \"5\": 5, \"9\": 15, \"1\": 34, \"3\": 3, \"14\": 32, \"4\": 31, \"13\": 7, \"10\": 24, \"0\": 23, \"7\": 15, \"15\": 12}, \"2\": {\"5\": 29, \"2\": 45, \"7\": 22, \"1\": 6, \"15\": 19, \"3\": 52, \"13\": 20, \"4\": 6, \"8\": 12, \"10\": 6, \"14\": 9, \"9\": 5, \"0\": 6, \"6\": 3}, \"5\": {\"5\": 52, \"2\": 27, \"15\": 29, \"9\": 21, \"13\": 39, \"10\": 6, \"6\": 12, \"3\": 14, \"1\": 5, \"14\": 5, \"8\": 14, \"7\": 8, \"4\": 3, \"0\": 4, \"11\": 1}, \"9\": {\"3\": 8, \"12\": 2, \"9\": 43, \"5\": 25, \"15\": 17, \"10\": 16, \"13\": 24, \"14\": 22, \"6\": 20, \"4\": 10, \"0\": 14, \"1\": 7, \"8\": 14, \"7\": 13, \"2\": 5}}, \"O_20\": {\"5\": {\"0\": 31, \"5\": 30, \"12\": 28, \"2\": 11, \"1\": 30, \"4\": 11, \"15\": 27, \"3\": 22, \"8\": 12, \"13\": 19, \"10\": 4, \"9\": 9, \"7\": 4, \"14\": 2}, \"15\": {\"15\": 33, \"13\": 39, \"5\": 28, \"1\": 26, \"3\": 21, \"4\": 9, \"12\": 24, \"2\": 6, \"9\": 14, \"8\": 3, \"0\": 28, \"7\": 6, \"10\": 3}, \"9\": {\"9\": 36, \"5\": 12, \"15\": 13, \"12\": 28, \"13\": 21, \"7\": 13, \"2\": 24, \"8\": 12, \"4\": 8, \"1\": 21, \"6\": 4, \"3\": 18, \"11\": 4, \"14\": 6, \"0\": 9, \"10\": 11}, \"7\": {\"13\": 21, \"2\": 23, \"3\": 19, \"6\": 12, \"5\": 7, \"14\": 18, \"7\": 27, \"9\": 27, \"12\": 16, \"15\": 5, \"4\": 11, \"11\": 12, \"0\": 5, \"8\": 19, \"1\": 7, \"10\": 11}, \"3\": {\"6\": 5, \"0\": 14, \"13\": 19, \"5\": 17, \"2\": 11, \"7\": 17, \"9\": 30, \"3\": 22, \"12\": 23, \"14\": 9, \"1\": 23, \"4\": 18, \"10\": 11, \"15\": 9, \"8\": 12}, \"8\": {\"8\": 38, \"7\": 16, \"14\": 29, \"4\": 26, \"10\": 29, \"13\": 8, \"11\": 4, \"5\": 10, \"15\": 6, \"6\": 22, \"1\": 4, \"3\": 17, \"12\": 5, \"9\": 8, \"0\": 7, \"2\": 11}, \"4\": {\"12\": 15, \"13\": 5, \"4\": 54, \"3\": 16, \"0\": 10, \"10\": 37, \"9\": 8, \"8\": 29, \"7\": 10, \"14\": 20, \"1\": 9, \"6\": 6, \"2\": 5, \"15\": 4, \"5\": 12}, \"6\": {\"4\": 8, \"6\": 65, \"3\": 7, \"10\": 23, \"7\": 25, \"13\": 4, \"8\": 25, \"14\": 42, \"11\": 22, \"12\": 2, \"1\": 1, \"2\": 9, \"9\": 7}, \"2\": {\"9\": 34, \"13\": 23, \"7\": 19, \"1\": 9, \"11\": 11, \"12\": 26, \"15\": 16, \"0\": 9, \"2\": 22, \"3\": 19, \"4\": 6, \"10\": 11, \"8\": 9, \"14\": 4, \"5\": 12, \"6\": 10}, \"12\": {\"9\": 24, \"5\": 17, \"1\": 20, \"13\": 24, \"2\": 17, \"8\": 8, \"3\": 18, \"12\": 33, \"4\": 18, \"0\": 14, \"10\": 10, \"7\": 10, \"11\": 4, \"14\": 5, \"15\": 17, \"6\": 1}, \"0\": {\"12\": 16, \"14\": 4, \"6\": 2, \"5\": 40, \"3\": 18, \"1\": 29, \"0\": 37, \"4\": 24, \"8\": 16, \"10\": 4, \"15\": 25, \"11\": 1, \"2\": 6, \"9\": 5, \"13\": 13}, \"13\": {\"12\": 19, \"13\": 65, \"15\": 20, \"2\": 25, \"14\": 2, \"3\": 15, \"7\": 13, \"1\": 15, \"9\": 22, \"6\": 4, \"0\": 12, \"5\": 7, \"8\": 5, \"10\": 2, \"11\": 12, \"4\": 2}, \"10\": {\"4\": 27, \"10\": 66, \"6\": 19, \"8\": 22, \"7\": 14, \"12\": 3, \"9\": 14, \"14\": 37, \"1\": 7, \"3\": 18, \"2\": 5, \"5\": 5, \"15\": 2, \"13\": 1}, \"11\": {\"13\": 16, \"11\": 139, \"6\": 27, \"14\": 3, \"2\": 17, \"9\": 5, \"7\": 18, \"3\": 4, \"8\": 7, \"12\": 3, \"4\": 1}, \"14\": {\"2\": 4, \"4\": 15, \"14\": 60, \"10\": 47, \"6\": 39, \"7\": 14, \"8\": 33, \"1\": 6, \"3\": 9, \"9\": 5, \"11\": 4, \"5\": 1, \"12\": 1, \"13\": 1, \"0\": 1}, \"1\": {\"6\": 1, \"9\": 10, \"12\": 28, \"0\": 27, \"15\": 24, \"3\": 16, \"13\": 20, \"8\": 5, \"1\": 40, \"4\": 16, \"2\": 16, \"10\": 2, \"5\": 30, \"7\": 4, \"11\": 1}}, \"O_50\": {\"1\": {\"4\": 48, \"14\": 9, \"6\": 25, \"15\": 51, \"2\": 20, \"13\": 3, \"11\": 12, \"1\": 57, \"9\": 1, \"5\": 8, \"0\": 5, \"7\": 1}, \"2\": {\"0\": 73, \"2\": 126, \"1\": 8, \"14\": 14, \"5\": 2, \"4\": 7, \"6\": 5, \"10\": 3, \"13\": 1, \"15\": 1}, \"8\": {\"8\": 134, \"3\": 25, \"10\": 54, \"7\": 8, \"0\": 15, \"5\": 2, \"2\": 1, \"13\": 1}, \"7\": {\"10\": 23, \"5\": 45, \"7\": 80, \"0\": 9, \"4\": 7, \"3\": 3, \"6\": 23, \"13\": 48, \"8\": 2}, \"14\": {\"14\": 125, \"12\": 44, \"2\": 11, \"9\": 20, \"15\": 4, \"11\": 28, \"1\": 6, \"0\": 2}, \"6\": {\"1\": 21, \"13\": 33, \"7\": 23, \"6\": 70, \"5\": 21, \"4\": 22, \"2\": 7, \"15\": 27, \"0\": 10, \"10\": 3, \"14\": 2, \"11\": 1}, \"3\": {\"3\": 193, \"8\": 43, \"7\": 2, \"5\": 1, \"10\": 1}, \"4\": {\"4\": 62, \"13\": 20, \"15\": 35, \"1\": 48, \"5\": 22, \"14\": 6, \"11\": 1, \"2\": 6, \"6\": 25, \"7\": 9, \"12\": 1, \"10\": 1, \"0\": 4}, \"12\": {\"9\": 48, \"12\": 128, \"11\": 19, \"14\": 44, \"2\": 1}, \"15\": {\"1\": 48, \"4\": 46, \"5\": 4, \"15\": 83, \"11\": 15, \"13\": 3, \"6\": 25, \"0\": 1, \"9\": 3, \"14\": 12}, \"11\": {\"15\": 28, \"11\": 94, \"14\": 37, \"9\": 41, \"12\": 15, \"1\": 16, \"4\": 9}, \"0\": {\"10\": 30, \"2\": 58, \"0\": 111, \"4\": 1, \"8\": 4, \"13\": 13, \"5\": 6, \"7\": 3, \"6\": 11, \"1\": 3}, \"9\": {\"12\": 52, \"11\": 52, \"15\": 3, \"9\": 108, \"14\": 25}, \"10\": {\"8\": 32, \"10\": 82, \"5\": 12, \"2\": 10, \"0\": 50, \"13\": 20, \"7\": 28, \"6\": 5, \"3\": 1}, \"5\": {\"1\": 13, \"5\": 60, \"6\": 23, \"13\": 53, \"2\": 3, \"7\": 40, \"4\": 21, \"10\": 14, \"0\": 8, \"15\": 3, \"8\": 2}, \"13\": {\"6\": 33, \"13\": 54, \"7\": 39, \"2\": 3, \"4\": 12, \"15\": 4, \"0\": 20, \"10\": 21, \"5\": 47, \"1\": 5, \"3\": 1, \"8\": 1}}, \"O_32\": {\"2\": {\"4\": 50, \"2\": 94, \"14\": 5, \"8\": 6, \"0\": 28, \"5\": 13, \"13\": 17, \"7\": 21, \"9\": 2, \"11\": 4}, \"6\": {\"6\": 215, \"12\": 20, \"10\": 4, \"1\": 1}, \"5\": {\"7\": 33, \"11\": 5, \"4\": 26, \"13\": 32, \"5\": 53, \"8\": 33, \"3\": 17, \"0\": 19, \"14\": 12, \"2\": 10}, \"12\": {\"12\": 204, \"6\": 20, \"9\": 14, \"10\": 2}, \"13\": {\"7\": 24, \"3\": 35, \"13\": 50, \"8\": 20, \"14\": 16, \"4\": 21, \"5\": 36, \"0\": 20, \"2\": 11, \"11\": 6, \"15\": 1}, \"9\": {\"9\": 211, \"12\": 24, \"2\": 4, \"4\": 1}, \"11\": {\"14\": 58, \"11\": 98, \"7\": 24, \"0\": 5, \"3\": 23, \"5\": 8, \"13\": 12, \"8\": 5, \"2\": 3, \"4\": 4}, \"1\": {\"1\": 189, \"10\": 45, \"6\": 6}, \"3\": {\"11\": 19, \"3\": 131, \"14\": 11, \"8\": 31, \"5\": 18, \"13\": 17, \"7\": 7, \"15\": 4, \"0\": 1, \"4\": 1}, \"7\": {\"5\": 32, \"13\": 25, \"4\": 24, \"14\": 34, \"7\": 44, \"2\": 22, \"0\": 15, \"11\": 26, \"8\": 12, \"3\": 6}, \"14\": {\"11\": 64, \"7\": 25, \"13\": 18, \"8\": 7, \"14\": 49, \"0\": 15, \"3\": 15, \"5\": 18, \"4\": 18, \"2\": 11}, \"8\": {\"8\": 83, \"3\": 20, \"14\": 10, \"13\": 22, \"5\": 31, \"4\": 14, \"2\": 6, \"0\": 32, \"7\": 10, \"11\": 6, \"15\": 6}, \"4\": {\"2\": 38, \"7\": 33, \"0\": 30, \"4\": 50, \"13\": 29, \"5\": 30, \"8\": 15, \"11\": 3, \"3\": 1, \"14\": 11}, \"0\": {\"14\": 14, \"8\": 36, \"0\": 77, \"4\": 28, \"5\": 18, \"7\": 13, \"13\": 16, \"2\": 28, \"15\": 1, \"11\": 6, \"9\": 3}, \"10\": {\"10\": 195, \"6\": 10, \"1\": 35}, \"15\": {\"15\": 222, \"13\": 5, \"5\": 3, \"8\": 6, \"3\": 4}}, \"O_44\": {\"13\": {\"4\": 15, \"7\": 15, \"11\": 46, \"9\": 38, \"13\": 71, \"6\": 51, \"2\": 3, \"3\": 1}, \"4\": {\"13\": 15, \"14\": 71, \"15\": 25, \"4\": 104, \"11\": 2, \"5\": 14, \"0\": 7, \"6\": 1, \"9\": 1}, \"6\": {\"9\": 33, \"7\": 21, \"6\": 98, \"11\": 32, \"13\": 46, \"2\": 7, \"4\": 1, \"1\": 1, \"10\": 1}, \"0\": {\"8\": 63, \"5\": 41, \"0\": 71, \"15\": 43, \"4\": 7, \"14\": 15}, \"10\": {\"2\": 35, \"3\": 12, \"10\": 94, \"1\": 36, \"12\": 49, \"7\": 12, \"9\": 2}, \"7\": {\"9\": 48, \"7\": 62, \"2\": 48, \"6\": 24, \"3\": 15, \"11\": 9, \"10\": 9, \"12\": 7, \"1\": 6, \"13\": 10, \"4\": 1, \"14\": 1}, \"14\": {\"15\": 45, \"14\": 73, \"5\": 26, \"13\": 4, \"4\": 69, \"0\": 17, \"8\": 5, \"9\": 1}, \"15\": {\"15\": 82, \"8\": 38, \"0\": 48, \"5\": 18, \"4\": 21, \"14\": 33}, \"5\": {\"0\": 54, \"5\": 84, \"15\": 27, \"14\": 30, \"4\": 14, \"8\": 31}, \"2\": {\"10\": 39, \"2\": 75, \"6\": 8, \"1\": 21, \"3\": 16, \"7\": 47, \"9\": 23, \"12\": 7, \"13\": 4}, \"9\": {\"7\": 38, \"9\": 66, \"6\": 49, \"10\": 2, \"1\": 4, \"13\": 36, \"2\": 22, \"14\": 4, \"4\": 7, \"11\": 5, \"3\": 7}, \"12\": {\"3\": 27, \"12\": 104, \"10\": 47, \"2\": 10, \"1\": 49, \"7\": 3}, \"8\": {\"0\": 68, \"8\": 92, \"5\": 35, \"15\": 37, \"14\": 6, \"4\": 2}, \"3\": {\"1\": 43, \"3\": 135, \"2\": 9, \"7\": 4, \"12\": 40, \"10\": 7, \"9\": 2}, \"1\": {\"3\": 54, \"10\": 37, \"12\": 54, \"2\": 25, \"1\": 59, \"7\": 8, \"9\": 2, \"6\": 1}, \"11\": {\"13\": 28, \"11\": 164, \"6\": 29, \"9\": 11, \"7\": 5, \"4\": 2, \"14\": 1}}, \"O_14\": {\"1\": {\"4\": 31, \"1\": 102, \"8\": 17, \"5\": 46, \"2\": 8, \"15\": 2, \"7\": 18, \"3\": 14, \"6\": 1, \"13\": 1}, \"15\": {\"7\": 59, \"15\": 137, \"1\": 11, \"2\": 8, \"13\": 4, \"6\": 7, \"5\": 12, \"4\": 2}, \"10\": {\"10\": 107, \"0\": 45, \"9\": 3, \"3\": 23, \"8\": 1, \"13\": 12, \"14\": 12, \"11\": 20, \"6\": 9, \"4\": 5, \"2\": 2, \"12\": 1}, \"2\": {\"6\": 36, \"4\": 31, \"14\": 35, \"2\": 50, \"3\": 22, \"5\": 29, \"1\": 12, \"0\": 3, \"13\": 15, \"15\": 2, \"7\": 4, \"10\": 1}, \"9\": {\"9\": 135, \"11\": 36, \"12\": 43, \"0\": 17, \"10\": 5, \"8\": 4}, \"5\": {\"5\": 52, \"14\": 17, \"15\": 4, \"1\": 51, \"3\": 14, \"2\": 32, \"4\": 38, \"7\": 10, \"6\": 11, \"8\": 5, \"13\": 6}, \"7\": {\"7\": 128, \"1\": 34, \"15\": 57, \"5\": 15, \"4\": 2, \"6\": 1, \"2\": 1, \"3\": 1, \"8\": 1}, \"13\": {\"13\": 76, \"6\": 65, \"14\": 37, \"4\": 16, \"5\": 10, \"15\": 3, \"2\": 16, \"10\": 7, \"3\": 7, \"7\": 1, \"0\": 1, \"1\": 1}, \"8\": {\"8\": 182, \"1\": 16, \"3\": 6, \"0\": 4, \"5\": 9, \"9\": 5, \"4\": 16, \"11\": 1, \"10\": 1}, \"6\": {\"10\": 6, \"14\": 37, \"13\": 63, \"5\": 9, \"6\": 61, \"2\": 38, \"4\": 16, \"3\": 8, \"1\": 1, \"15\": 1}, \"3\": {\"10\": 16, \"4\": 34, \"11\": 3, \"14\": 29, \"3\": 60, \"5\": 24, \"2\": 21, \"13\": 6, \"0\": 14, \"1\": 15, \"8\": 8, \"6\": 10}, \"12\": {\"12\": 160, \"9\": 58, \"11\": 21, \"0\": 1}, \"0\": {\"3\": 17, \"10\": 60, \"11\": 32, \"0\": 76, \"14\": 9, \"9\": 16, \"6\": 4, \"4\": 3, \"8\": 11, \"2\": 6, \"13\": 3, \"5\": 2, \"1\": 1}, \"4\": {\"3\": 42, \"2\": 32, \"4\": 43, \"14\": 15, \"10\": 10, \"6\": 19, \"5\": 35, \"1\": 13, \"13\": 13, \"8\": 12, \"7\": 1, \"0\": 3, \"15\": 2}, \"14\": {\"4\": 13, \"3\": 18, \"10\": 13, \"14\": 79, \"6\": 39, \"13\": 39, \"2\": 24, \"5\": 8, \"0\": 5, \"7\": 1, \"11\": 1}, \"11\": {\"11\": 124, \"9\": 34, \"14\": 7, \"0\": 46, \"10\": 23, \"12\": 3, \"8\": 3}}}, \"per_domain_accuracy\": {\"C_2\": {\"accuracy\": 0.9998224431818182, \"source?\": true}, \"C_5\": {\"accuracy\": 0.9985955056179775, \"source?\": true}, \"C_1\": {\"accuracy\": 0.998282967032967, \"source?\": true}, \"C_4\": {\"accuracy\": 0.999251497005988, \"source?\": true}, \"C_3\": {\"accuracy\": 0.9996345029239766, \"source?\": true}, \"O_8\": {\"accuracy\": 0.28619791666666666, \"source?\": false}, \"O_38\": {\"accuracy\": 0.42526041666666664, \"source?\": false}, \"O_26\": {\"accuracy\": 0.24583333333333332, \"source?\": false}, \"O_20\": {\"accuracy\": 0.19973958333333333, \"source?\": false}, \"O_50\": {\"accuracy\": 0.4080729166666667, \"source?\": false}, \"O_32\": {\"accuracy\": 0.51171875, \"source?\": false}, \"O_44\": {\"accuracy\": 0.3734375, \"source?\": false}, \"O_14\": {\"accuracy\": 0.409375, \"source?\": false}}}, \"history\": {\"epoch_indices\": [1, 2, 3, 4, 5, 6, 7], \"train_label_loss\": [0.03315110648486823, 0.08244265513556268, 0.011906918916127891, 0.00630287363844983, 0.02541391635563006, 0.0028681903845682857, 0.003913812958357892], \"source_val_label_loss\": [0.2755908668041229, 0.0081306342035532, 0.007755132857710123, 0.006112264469265938, 0.00747247040271759, 0.0049690366722643375, 0.006848698947578669], \"target_val_label_loss\": [1.8869572877883911, 2.2197163105010986, 2.0246119499206543, 1.9885246753692627, 2.2957170009613037, 2.3991315364837646, 2.332205057144165], \"source_val_acc_label\": [0.9915975400457666, 0.9988558352402745, 0.9991061212814645, 0.9992133867276888, 0.9990346109839817, 0.999570938215103, 0.9994994279176201], \"target_val_acc_label\": [0.34567057291666664, 0.3029296875, 0.35745442708333336, 0.35576171875, 0.33125, 0.31640625, 0.33421223958333335]}, \"dataset_metrics\": {\"source\": {\"train\": {\"n_unique_x\": 175167, \"n_unique_y\": 58, \"n_batch/episode\": 6315}, \"val\": {\"n_unique_x\": 37135, \"n_unique_y\": 58, \"n_batch/episode\": 874}, \"test\": {\"n_unique_x\": 37673, \"n_unique_y\": 58, \"n_batch/episode\": 893}}, \"target\": {\"train\": {\"n_unique_x\": 179200, \"n_unique_y\": 16, \"n_batch/episode\": 6720}, \"val\": {\"n_unique_x\": 38400, \"n_unique_y\": 16, \"n_batch/episode\": 960}, \"test\": {\"n_unique_x\": 38400, \"n_unique_y\": 16, \"n_batch/episode\": 960}}}}'"
      ]
     },
     "execution_count": 29,
     "metadata": {},
     "output_type": "execute_result"
    }
   ],
   "source": [
    "json.dumps(experiment)"
   ]
  }
 ],
 "metadata": {
  "celltoolbar": "Tags",
  "kernelspec": {
   "display_name": "Python 3 (ipykernel)",
   "language": "python",
   "name": "python3"
  },
  "language_info": {
   "codemirror_mode": {
    "name": "ipython",
    "version": 3
   },
   "file_extension": ".py",
   "mimetype": "text/x-python",
   "name": "python",
   "nbconvert_exporter": "python",
   "pygments_lexer": "ipython3",
   "version": "3.8.10"
  },
  "papermill": {
   "default_parameters": {},
   "duration": 2428.935918,
   "end_time": "2022-03-26T22:02:21.117262",
   "environment_variables": {},
   "exception": null,
   "input_path": "/mnt/wd500GB/CSC500/csc500-main/csc500-notebooks/templates/tl_ptn_template.ipynb",
   "output_path": "trial.ipynb",
   "parameters": {
    "parameters": {
     "BEST_MODEL_PATH": "./best_model.pth",
     "NUM_LOGS_PER_EPOCH": 10,
     "criteria_for_best": "target_accuracy",
     "dataset_seed": 154325,
     "datasets": [
      {
       "domain_prefix": "C_",
       "domains": [
        1,
        2,
        3,
        4,
        5
       ],
       "episode_transforms": [],
       "labels": [
        "1-10.",
        "1-11.",
        "1-15.",
        "1-16.",
        "1-17.",
        "1-18.",
        "1-19.",
        "10-4.",
        "10-7.",
        "11-1.",
        "11-14.",
        "11-17.",
        "11-20.",
        "11-7.",
        "13-20.",
        "13-8.",
        "14-10.",
        "14-11.",
        "14-14.",
        "14-7.",
        "15-1.",
        "15-20.",
        "16-1.",
        "16-16.",
        "17-10.",
        "17-11.",
        "17-2.",
        "19-1.",
        "19-16.",
        "19-19.",
        "19-20.",
        "19-3.",
        "2-10.",
        "2-11.",
        "2-17.",
        "2-18.",
        "2-20.",
        "2-3.",
        "2-4.",
        "2-5.",
        "2-6.",
        "2-7.",
        "2-8.",
        "3-13.",
        "3-18.",
        "3-3.",
        "4-1.",
        "4-10.",
        "4-11.",
        "4-19.",
        "5-5.",
        "6-15.",
        "7-10.",
        "7-14.",
        "8-18.",
        "8-20.",
        "8-3.",
        "8-8."
       ],
       "num_examples_per_domain_per_label": -1,
       "pickle_path": "/mnt/wd500GB/CSC500/csc500-main/datasets/cores.stratified_ds.2022A.pkl",
       "source_or_target_dataset": "source",
       "x_transforms": [
        "unit_mag",
        "jitter_256_1",
        "lowpass_+/-10MHz",
        "take_200"
       ]
      },
      {
       "domain_prefix": "O_",
       "domains": [
        32,
        38,
        8,
        44,
        14,
        50,
        20,
        26
       ],
       "episode_transforms": [],
       "labels": [
        "3123D52",
        "3123D65",
        "3123D79",
        "3123D80",
        "3123D54",
        "3123D70",
        "3123D7B",
        "3123D89",
        "3123D58",
        "3123D76",
        "3123D7D",
        "3123EFE",
        "3123D64",
        "3123D78",
        "3123D7E",
        "3124E4A"
       ],
       "num_examples_per_domain_per_label": 2000,
       "pickle_path": "/mnt/wd500GB/CSC500/csc500-main/datasets/oracle.Run1_framed_2000Examples_stratified_ds.2022A.pkl",
       "source_or_target_dataset": "target",
       "x_transforms": [
        "unit_mag",
        "jitter_256_1",
        "take_200",
        "resample_20Msps_to_25Msps"
       ]
      }
     ],
     "device": "cuda",
     "experiment_name": "tl_3-jitter1v2:cores -> oracle.run1.framed",
     "lr": 0.0001,
     "n_epoch": 50,
     "n_query": 2,
     "n_shot": 3,
     "n_way": 16,
     "patience": 3,
     "seed": 154325,
     "test_k_factor": 2,
     "torch_default_dtype": "torch.float32",
     "train_k_factor": 3,
     "val_k_factor": 2,
     "x_net": [
      {
       "class": "nnReshape",
       "kargs": {
        "shape": [
         -1,
         1,
         2,
         256
        ]
       }
      },
      {
       "class": "Conv2d",
       "kargs": {
        "bias": false,
        "in_channels": 1,
        "kernel_size": [
         1,
         7
        ],
        "out_channels": 256,
        "padding": [
         0,
         3
        ]
       }
      },
      {
       "class": "ReLU",
       "kargs": {
        "inplace": true
       }
      },
      {
       "class": "BatchNorm2d",
       "kargs": {
        "num_features": 256
       }
      },
      {
       "class": "Conv2d",
       "kargs": {
        "bias": true,
        "in_channels": 256,
        "kernel_size": [
         2,
         7
        ],
        "out_channels": 80,
        "padding": [
         0,
         3
        ]
       }
      },
      {
       "class": "ReLU",
       "kargs": {
        "inplace": true
       }
      },
      {
       "class": "BatchNorm2d",
       "kargs": {
        "num_features": 80
       }
      },
      {
       "class": "Flatten",
       "kargs": {}
      },
      {
       "class": "Linear",
       "kargs": {
        "in_features": 20480,
        "out_features": 256
       }
      },
      {
       "class": "ReLU",
       "kargs": {
        "inplace": true
       }
      },
      {
       "class": "BatchNorm1d",
       "kargs": {
        "num_features": 256
       }
      },
      {
       "class": "Linear",
       "kargs": {
        "in_features": 256,
        "out_features": 256
       }
      }
     ],
     "x_shape": [
      2,
      256
     ]
    }
   },
   "start_time": "2022-03-26T21:21:52.181344",
   "version": "2.3.4"
  }
 },
 "nbformat": 4,
 "nbformat_minor": 5
}