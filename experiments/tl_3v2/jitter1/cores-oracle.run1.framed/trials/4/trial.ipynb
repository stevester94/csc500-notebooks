{
 "cells": [
  {
   "cell_type": "markdown",
   "id": "9fea5f46",
   "metadata": {
    "papermill": {
     "duration": 0.018411,
     "end_time": "2022-03-26T20:02:43.513154",
     "exception": false,
     "start_time": "2022-03-26T20:02:43.494743",
     "status": "completed"
    },
    "tags": []
   },
   "source": [
    "# Transfer Learning Template"
   ]
  },
  {
   "cell_type": "code",
   "execution_count": 1,
   "id": "0902182a",
   "metadata": {
    "execution": {
     "iopub.execute_input": "2022-03-26T20:02:43.553689Z",
     "iopub.status.busy": "2022-03-26T20:02:43.553176Z",
     "iopub.status.idle": "2022-03-26T20:02:44.653806Z",
     "shell.execute_reply": "2022-03-26T20:02:44.654057Z"
    },
    "papermill": {
     "duration": 1.127462,
     "end_time": "2022-03-26T20:02:44.654184",
     "exception": false,
     "start_time": "2022-03-26T20:02:43.526722",
     "status": "completed"
    },
    "tags": []
   },
   "outputs": [],
   "source": [
    "%load_ext autoreload\n",
    "%autoreload 2\n",
    "%matplotlib inline\n",
    "\n",
    "    \n",
    "import os, json, sys, time, random\n",
    "import numpy as np\n",
    "import torch\n",
    "from torch.optim import Adam\n",
    "from  easydict import EasyDict\n",
    "import matplotlib.pyplot as plt\n",
    "\n",
    "from steves_models.steves_ptn import Steves_Prototypical_Network\n",
    "\n",
    "from steves_utils.lazy_iterable_wrapper import Lazy_Iterable_Wrapper\n",
    "from steves_utils.iterable_aggregator import Iterable_Aggregator\n",
    "from steves_utils.ptn_train_eval_test_jig import  PTN_Train_Eval_Test_Jig\n",
    "from steves_utils.torch_sequential_builder import build_sequential\n",
    "from steves_utils.torch_utils import get_dataset_metrics, ptn_confusion_by_domain_over_dataloader\n",
    "from steves_utils.utils_v2 import (per_domain_accuracy_from_confusion, get_datasets_base_path)\n",
    "from steves_utils.PTN.utils import independent_accuracy_assesment\n",
    "\n",
    "from torch.utils.data import DataLoader\n",
    "\n",
    "from steves_utils.stratified_dataset.episodic_accessor import Episodic_Accessor_Factory\n",
    "\n",
    "from steves_utils.ptn_do_report import (\n",
    "    get_loss_curve,\n",
    "    get_results_table,\n",
    "    get_parameters_table,\n",
    "    get_domain_accuracies,\n",
    ")\n",
    "\n",
    "from steves_utils.transforms import get_chained_transform"
   ]
  },
  {
   "cell_type": "markdown",
   "id": "41c840b4",
   "metadata": {
    "papermill": {
     "duration": 0.014967,
     "end_time": "2022-03-26T20:02:44.683903",
     "exception": false,
     "start_time": "2022-03-26T20:02:44.668936",
     "status": "completed"
    },
    "tags": []
   },
   "source": [
    "# Allowed Parameters\n",
    "These are allowed parameters, not defaults\n",
    "Each of these values need to be present in the injected parameters (the notebook will raise an exception if they are not present)\n",
    "\n",
    "Papermill uses the cell tag \"parameters\" to inject the real parameters below this cell.\n",
    "Enable tags to see what I mean"
   ]
  },
  {
   "cell_type": "code",
   "execution_count": 2,
   "id": "fd44eb83",
   "metadata": {
    "execution": {
     "iopub.execute_input": "2022-03-26T20:02:44.713138Z",
     "iopub.status.busy": "2022-03-26T20:02:44.712711Z",
     "iopub.status.idle": "2022-03-26T20:02:44.724036Z",
     "shell.execute_reply": "2022-03-26T20:02:44.724264Z"
    },
    "papermill": {
     "duration": 0.027196,
     "end_time": "2022-03-26T20:02:44.724344",
     "exception": false,
     "start_time": "2022-03-26T20:02:44.697148",
     "status": "completed"
    },
    "tags": []
   },
   "outputs": [],
   "source": [
    "required_parameters = {\n",
    "    \"experiment_name\",\n",
    "    \"lr\",\n",
    "    \"device\",\n",
    "    \"seed\",\n",
    "    \"dataset_seed\",\n",
    "    \"n_shot\",\n",
    "    \"n_query\",\n",
    "    \"n_way\",\n",
    "    \"train_k_factor\",\n",
    "    \"val_k_factor\",\n",
    "    \"test_k_factor\",\n",
    "    \"n_epoch\",\n",
    "    \"patience\",\n",
    "    \"criteria_for_best\",\n",
    "    \"x_net\",\n",
    "    \"datasets\",\n",
    "    \"torch_default_dtype\",\n",
    "    \"NUM_LOGS_PER_EPOCH\",\n",
    "    \"BEST_MODEL_PATH\",\n",
    "    \"x_shape\",\n",
    "}"
   ]
  },
  {
   "cell_type": "code",
   "execution_count": 3,
   "id": "fa3f0049",
   "metadata": {
    "execution": {
     "iopub.execute_input": "2022-03-26T20:02:44.759980Z",
     "iopub.status.busy": "2022-03-26T20:02:44.759511Z",
     "iopub.status.idle": "2022-03-26T20:02:44.772665Z",
     "shell.execute_reply": "2022-03-26T20:02:44.772892Z"
    },
    "papermill": {
     "duration": 0.033169,
     "end_time": "2022-03-26T20:02:44.772975",
     "exception": false,
     "start_time": "2022-03-26T20:02:44.739806",
     "status": "completed"
    },
    "tags": [
     "parameters"
    ]
   },
   "outputs": [],
   "source": [
    "from steves_utils.CORES.utils import (\n",
    "    ALL_NODES,\n",
    "    ALL_NODES_MINIMUM_1000_EXAMPLES,\n",
    "    ALL_DAYS\n",
    ")\n",
    "\n",
    "from steves_utils.ORACLE.utils_v2 import (\n",
    "    ALL_DISTANCES_FEET_NARROWED,\n",
    "    ALL_RUNS,\n",
    "    ALL_SERIAL_NUMBERS,\n",
    ")\n",
    "\n",
    "standalone_parameters = {}\n",
    "standalone_parameters[\"experiment_name\"] = \"STANDALONE PTN\"\n",
    "standalone_parameters[\"lr\"] = 0.001\n",
    "standalone_parameters[\"device\"] = \"cuda\"\n",
    "\n",
    "standalone_parameters[\"seed\"] = 1337\n",
    "standalone_parameters[\"dataset_seed\"] = 1337\n",
    "\n",
    "standalone_parameters[\"n_way\"] = 8\n",
    "standalone_parameters[\"n_shot\"] = 3\n",
    "standalone_parameters[\"n_query\"]  = 2\n",
    "standalone_parameters[\"train_k_factor\"] = 1\n",
    "standalone_parameters[\"val_k_factor\"] = 2\n",
    "standalone_parameters[\"test_k_factor\"] = 2\n",
    "\n",
    "\n",
    "standalone_parameters[\"n_epoch\"] = 50\n",
    "\n",
    "standalone_parameters[\"patience\"] = 10\n",
    "standalone_parameters[\"criteria_for_best\"] = \"source_loss\"\n",
    "\n",
    "standalone_parameters[\"datasets\"] = [\n",
    "    {\n",
    "        \"labels\": ALL_SERIAL_NUMBERS,\n",
    "        \"domains\": ALL_DISTANCES_FEET_NARROWED,\n",
    "        \"num_examples_per_domain_per_label\": 100,\n",
    "        \"pickle_path\": os.path.join(get_datasets_base_path(), \"oracle.Run1_framed_2000Examples_stratified_ds.2022A.pkl\"),\n",
    "        \"source_or_target_dataset\": \"source\",\n",
    "        \"x_transforms\": [\"unit_mag\", \"minus_two\"],\n",
    "        \"episode_transforms\": [],\n",
    "        \"domain_prefix\": \"ORACLE_\"\n",
    "    },\n",
    "    {\n",
    "        \"labels\": ALL_NODES,\n",
    "        \"domains\": ALL_DAYS,\n",
    "        \"num_examples_per_domain_per_label\": 100,\n",
    "        \"pickle_path\": os.path.join(get_datasets_base_path(), \"cores.stratified_ds.2022A.pkl\"),\n",
    "        \"source_or_target_dataset\": \"target\",\n",
    "        \"x_transforms\": [\"unit_power\", \"times_zero\"],\n",
    "        \"episode_transforms\": [],\n",
    "        \"domain_prefix\": \"CORES_\"\n",
    "    }   \n",
    "]\n",
    "\n",
    "standalone_parameters[\"torch_default_dtype\"] = \"torch.float32\" \n",
    "\n",
    "\n",
    "\n",
    "standalone_parameters[\"x_net\"] =     [\n",
    "    {\"class\": \"nnReshape\", \"kargs\": {\"shape\":[-1, 1, 2, 256]}},\n",
    "    {\"class\": \"Conv2d\", \"kargs\": { \"in_channels\":1, \"out_channels\":256, \"kernel_size\":(1,7), \"bias\":False, \"padding\":(0,3), },},\n",
    "    {\"class\": \"ReLU\", \"kargs\": {\"inplace\": True}},\n",
    "    {\"class\": \"BatchNorm2d\", \"kargs\": {\"num_features\":256}},\n",
    "\n",
    "    {\"class\": \"Conv2d\", \"kargs\": { \"in_channels\":256, \"out_channels\":80, \"kernel_size\":(2,7), \"bias\":True, \"padding\":(0,3), },},\n",
    "    {\"class\": \"ReLU\", \"kargs\": {\"inplace\": True}},\n",
    "    {\"class\": \"BatchNorm2d\", \"kargs\": {\"num_features\":80}},\n",
    "    {\"class\": \"Flatten\", \"kargs\": {}},\n",
    "\n",
    "    {\"class\": \"Linear\", \"kargs\": {\"in_features\": 80*256, \"out_features\": 256}}, # 80 units per IQ pair\n",
    "    {\"class\": \"ReLU\", \"kargs\": {\"inplace\": True}},\n",
    "    {\"class\": \"BatchNorm1d\", \"kargs\": {\"num_features\":256}},\n",
    "\n",
    "    {\"class\": \"Linear\", \"kargs\": {\"in_features\": 256, \"out_features\": 256}},\n",
    "]\n",
    "\n",
    "# Parameters relevant to results\n",
    "# These parameters will basically never need to change\n",
    "standalone_parameters[\"NUM_LOGS_PER_EPOCH\"] = 10\n",
    "standalone_parameters[\"BEST_MODEL_PATH\"] = \"./best_model.pth\"\n",
    "\n",
    "\n",
    "\n",
    "\n"
   ]
  },
  {
   "cell_type": "code",
   "execution_count": 4,
   "id": "d8524b40",
   "metadata": {
    "execution": {
     "iopub.execute_input": "2022-03-26T20:02:44.807881Z",
     "iopub.status.busy": "2022-03-26T20:02:44.802610Z",
     "iopub.status.idle": "2022-03-26T20:02:44.820619Z",
     "shell.execute_reply": "2022-03-26T20:02:44.820847Z"
    },
    "papermill": {
     "duration": 0.033101,
     "end_time": "2022-03-26T20:02:44.820928",
     "exception": false,
     "start_time": "2022-03-26T20:02:44.787827",
     "status": "completed"
    },
    "tags": [
     "injected-parameters"
    ]
   },
   "outputs": [],
   "source": [
    "# Parameters\n",
    "parameters = {\n",
    "    \"experiment_name\": \"tl_3-jitter1v2:cores -> oracle.run1.framed\",\n",
    "    \"device\": \"cuda\",\n",
    "    \"lr\": 0.0001,\n",
    "    \"x_shape\": [2, 256],\n",
    "    \"n_shot\": 3,\n",
    "    \"n_query\": 2,\n",
    "    \"train_k_factor\": 3,\n",
    "    \"val_k_factor\": 2,\n",
    "    \"test_k_factor\": 2,\n",
    "    \"torch_default_dtype\": \"torch.float32\",\n",
    "    \"n_epoch\": 50,\n",
    "    \"patience\": 3,\n",
    "    \"criteria_for_best\": \"target_accuracy\",\n",
    "    \"x_net\": [\n",
    "        {\"class\": \"nnReshape\", \"kargs\": {\"shape\": [-1, 1, 2, 256]}},\n",
    "        {\n",
    "            \"class\": \"Conv2d\",\n",
    "            \"kargs\": {\n",
    "                \"in_channels\": 1,\n",
    "                \"out_channels\": 256,\n",
    "                \"kernel_size\": [1, 7],\n",
    "                \"bias\": False,\n",
    "                \"padding\": [0, 3],\n",
    "            },\n",
    "        },\n",
    "        {\"class\": \"ReLU\", \"kargs\": {\"inplace\": True}},\n",
    "        {\"class\": \"BatchNorm2d\", \"kargs\": {\"num_features\": 256}},\n",
    "        {\n",
    "            \"class\": \"Conv2d\",\n",
    "            \"kargs\": {\n",
    "                \"in_channels\": 256,\n",
    "                \"out_channels\": 80,\n",
    "                \"kernel_size\": [2, 7],\n",
    "                \"bias\": True,\n",
    "                \"padding\": [0, 3],\n",
    "            },\n",
    "        },\n",
    "        {\"class\": \"ReLU\", \"kargs\": {\"inplace\": True}},\n",
    "        {\"class\": \"BatchNorm2d\", \"kargs\": {\"num_features\": 80}},\n",
    "        {\"class\": \"Flatten\", \"kargs\": {}},\n",
    "        {\"class\": \"Linear\", \"kargs\": {\"in_features\": 20480, \"out_features\": 256}},\n",
    "        {\"class\": \"ReLU\", \"kargs\": {\"inplace\": True}},\n",
    "        {\"class\": \"BatchNorm1d\", \"kargs\": {\"num_features\": 256}},\n",
    "        {\"class\": \"Linear\", \"kargs\": {\"in_features\": 256, \"out_features\": 256}},\n",
    "    ],\n",
    "    \"NUM_LOGS_PER_EPOCH\": 10,\n",
    "    \"BEST_MODEL_PATH\": \"./best_model.pth\",\n",
    "    \"n_way\": 16,\n",
    "    \"datasets\": [\n",
    "        {\n",
    "            \"labels\": [\n",
    "                \"1-10.\",\n",
    "                \"1-11.\",\n",
    "                \"1-15.\",\n",
    "                \"1-16.\",\n",
    "                \"1-17.\",\n",
    "                \"1-18.\",\n",
    "                \"1-19.\",\n",
    "                \"10-4.\",\n",
    "                \"10-7.\",\n",
    "                \"11-1.\",\n",
    "                \"11-14.\",\n",
    "                \"11-17.\",\n",
    "                \"11-20.\",\n",
    "                \"11-7.\",\n",
    "                \"13-20.\",\n",
    "                \"13-8.\",\n",
    "                \"14-10.\",\n",
    "                \"14-11.\",\n",
    "                \"14-14.\",\n",
    "                \"14-7.\",\n",
    "                \"15-1.\",\n",
    "                \"15-20.\",\n",
    "                \"16-1.\",\n",
    "                \"16-16.\",\n",
    "                \"17-10.\",\n",
    "                \"17-11.\",\n",
    "                \"17-2.\",\n",
    "                \"19-1.\",\n",
    "                \"19-16.\",\n",
    "                \"19-19.\",\n",
    "                \"19-20.\",\n",
    "                \"19-3.\",\n",
    "                \"2-10.\",\n",
    "                \"2-11.\",\n",
    "                \"2-17.\",\n",
    "                \"2-18.\",\n",
    "                \"2-20.\",\n",
    "                \"2-3.\",\n",
    "                \"2-4.\",\n",
    "                \"2-5.\",\n",
    "                \"2-6.\",\n",
    "                \"2-7.\",\n",
    "                \"2-8.\",\n",
    "                \"3-13.\",\n",
    "                \"3-18.\",\n",
    "                \"3-3.\",\n",
    "                \"4-1.\",\n",
    "                \"4-10.\",\n",
    "                \"4-11.\",\n",
    "                \"4-19.\",\n",
    "                \"5-5.\",\n",
    "                \"6-15.\",\n",
    "                \"7-10.\",\n",
    "                \"7-14.\",\n",
    "                \"8-18.\",\n",
    "                \"8-20.\",\n",
    "                \"8-3.\",\n",
    "                \"8-8.\",\n",
    "            ],\n",
    "            \"domains\": [1, 2, 3, 4, 5],\n",
    "            \"num_examples_per_domain_per_label\": -1,\n",
    "            \"pickle_path\": \"/mnt/wd500GB/CSC500/csc500-main/datasets/cores.stratified_ds.2022A.pkl\",\n",
    "            \"source_or_target_dataset\": \"source\",\n",
    "            \"x_transforms\": [\n",
    "                \"unit_mag\",\n",
    "                \"jitter_256_1\",\n",
    "                \"lowpass_+/-10MHz\",\n",
    "                \"take_200\",\n",
    "            ],\n",
    "            \"episode_transforms\": [],\n",
    "            \"domain_prefix\": \"C_\",\n",
    "        },\n",
    "        {\n",
    "            \"labels\": [\n",
    "                \"3123D52\",\n",
    "                \"3123D65\",\n",
    "                \"3123D79\",\n",
    "                \"3123D80\",\n",
    "                \"3123D54\",\n",
    "                \"3123D70\",\n",
    "                \"3123D7B\",\n",
    "                \"3123D89\",\n",
    "                \"3123D58\",\n",
    "                \"3123D76\",\n",
    "                \"3123D7D\",\n",
    "                \"3123EFE\",\n",
    "                \"3123D64\",\n",
    "                \"3123D78\",\n",
    "                \"3123D7E\",\n",
    "                \"3124E4A\",\n",
    "            ],\n",
    "            \"domains\": [32, 38, 8, 44, 14, 50, 20, 26],\n",
    "            \"num_examples_per_domain_per_label\": 2000,\n",
    "            \"pickle_path\": \"/mnt/wd500GB/CSC500/csc500-main/datasets/oracle.Run1_framed_2000Examples_stratified_ds.2022A.pkl\",\n",
    "            \"source_or_target_dataset\": \"target\",\n",
    "            \"x_transforms\": [\n",
    "                \"unit_mag\",\n",
    "                \"jitter_256_1\",\n",
    "                \"take_200\",\n",
    "                \"resample_20Msps_to_25Msps\",\n",
    "            ],\n",
    "            \"episode_transforms\": [],\n",
    "            \"domain_prefix\": \"O_\",\n",
    "        },\n",
    "    ],\n",
    "    \"seed\": 420,\n",
    "    \"dataset_seed\": 420,\n",
    "}\n"
   ]
  },
  {
   "cell_type": "code",
   "execution_count": 5,
   "id": "8fa1cc33",
   "metadata": {
    "execution": {
     "iopub.execute_input": "2022-03-26T20:02:44.853310Z",
     "iopub.status.busy": "2022-03-26T20:02:44.852884Z",
     "iopub.status.idle": "2022-03-26T20:02:44.865391Z",
     "shell.execute_reply": "2022-03-26T20:02:44.865635Z"
    },
    "papermill": {
     "duration": 0.028894,
     "end_time": "2022-03-26T20:02:44.865738",
     "exception": false,
     "start_time": "2022-03-26T20:02:44.836844",
     "status": "completed"
    },
    "tags": []
   },
   "outputs": [],
   "source": [
    "# Set this to True if you want to run this template directly\n",
    "STANDALONE = False\n",
    "if STANDALONE:\n",
    "    print(\"parameters not injected, running with standalone_parameters\")\n",
    "    parameters = standalone_parameters\n",
    "\n",
    "if not 'parameters' in locals() and not 'parameters' in globals():\n",
    "    raise Exception(\"Parameter injection failed\")\n",
    "\n",
    "#Use an easy dict for all the parameters\n",
    "p = EasyDict(parameters)\n",
    "\n",
    "if \"x_shape\" not in p:\n",
    "    p.x_shape = [2,256] # Default to this if we dont supply x_shape\n",
    "\n",
    "\n",
    "supplied_keys = set(p.keys())\n",
    "\n",
    "if  supplied_keys != required_parameters:\n",
    "    print(\"Parameters are incorrect\")\n",
    "    if len(supplied_keys - required_parameters)>0: print(\"Shouldn't have:\", str(supplied_keys - required_parameters))\n",
    "    if len(required_parameters - supplied_keys)>0: print(\"Need to have:\", str(required_parameters - supplied_keys))\n",
    "    raise RuntimeError(\"Parameters are incorrect\")"
   ]
  },
  {
   "cell_type": "code",
   "execution_count": 6,
   "id": "3a028d58",
   "metadata": {
    "execution": {
     "iopub.execute_input": "2022-03-26T20:02:44.898256Z",
     "iopub.status.busy": "2022-03-26T20:02:44.897802Z",
     "iopub.status.idle": "2022-03-26T20:02:44.910873Z",
     "shell.execute_reply": "2022-03-26T20:02:44.910591Z"
    },
    "papermill": {
     "duration": 0.030182,
     "end_time": "2022-03-26T20:02:44.910943",
     "exception": false,
     "start_time": "2022-03-26T20:02:44.880761",
     "status": "completed"
    },
    "tags": []
   },
   "outputs": [],
   "source": [
    "###################################\n",
    "# Set the RNGs and make it all deterministic\n",
    "###################################\n",
    "np.random.seed(p.seed)\n",
    "random.seed(p.seed)\n",
    "torch.manual_seed(p.seed)\n",
    "\n",
    "torch.use_deterministic_algorithms(True) "
   ]
  },
  {
   "cell_type": "code",
   "execution_count": 7,
   "id": "b691acf6",
   "metadata": {
    "execution": {
     "iopub.execute_input": "2022-03-26T20:02:44.943417Z",
     "iopub.status.busy": "2022-03-26T20:02:44.943033Z",
     "iopub.status.idle": "2022-03-26T20:02:44.959580Z",
     "shell.execute_reply": "2022-03-26T20:02:44.959897Z"
    },
    "papermill": {
     "duration": 0.034228,
     "end_time": "2022-03-26T20:02:44.960012",
     "exception": false,
     "start_time": "2022-03-26T20:02:44.925784",
     "status": "completed"
    },
    "tags": []
   },
   "outputs": [],
   "source": [
    "###########################################\n",
    "# The stratified datasets honor this\n",
    "###########################################\n",
    "torch.set_default_dtype(eval(p.torch_default_dtype))"
   ]
  },
  {
   "cell_type": "code",
   "execution_count": 8,
   "id": "b5fba671",
   "metadata": {
    "execution": {
     "iopub.execute_input": "2022-03-26T20:02:44.997529Z",
     "iopub.status.busy": "2022-03-26T20:02:44.997252Z",
     "iopub.status.idle": "2022-03-26T20:02:45.039475Z",
     "shell.execute_reply": "2022-03-26T20:02:45.039057Z"
    },
    "papermill": {
     "duration": 0.062298,
     "end_time": "2022-03-26T20:02:45.039578",
     "exception": false,
     "start_time": "2022-03-26T20:02:44.977280",
     "status": "completed"
    },
    "tags": []
   },
   "outputs": [],
   "source": [
    "###################################\n",
    "# Build the network(s)\n",
    "# Note: It's critical to do this AFTER setting the RNG\n",
    "###################################\n",
    "x_net = build_sequential(p.x_net)"
   ]
  },
  {
   "cell_type": "code",
   "execution_count": 9,
   "id": "5d7e61cc",
   "metadata": {
    "execution": {
     "iopub.execute_input": "2022-03-26T20:02:45.074682Z",
     "iopub.status.busy": "2022-03-26T20:02:45.074174Z",
     "iopub.status.idle": "2022-03-26T20:02:45.085366Z",
     "shell.execute_reply": "2022-03-26T20:02:45.085017Z"
    },
    "papermill": {
     "duration": 0.027184,
     "end_time": "2022-03-26T20:02:45.085452",
     "exception": false,
     "start_time": "2022-03-26T20:02:45.058268",
     "status": "completed"
    },
    "tags": []
   },
   "outputs": [],
   "source": [
    "start_time_secs = time.time()"
   ]
  },
  {
   "cell_type": "code",
   "execution_count": 10,
   "id": "c6b67dfd",
   "metadata": {
    "execution": {
     "iopub.execute_input": "2022-03-26T20:02:45.121285Z",
     "iopub.status.busy": "2022-03-26T20:02:45.121004Z",
     "iopub.status.idle": "2022-03-26T20:02:45.134971Z",
     "shell.execute_reply": "2022-03-26T20:02:45.135377Z"
    },
    "papermill": {
     "duration": 0.031024,
     "end_time": "2022-03-26T20:02:45.135505",
     "exception": false,
     "start_time": "2022-03-26T20:02:45.104481",
     "status": "completed"
    },
    "tags": []
   },
   "outputs": [],
   "source": [
    "p.domains_source = []\n",
    "p.domains_target = []\n",
    "\n",
    "\n",
    "train_original_source = []\n",
    "val_original_source   = []\n",
    "test_original_source  = []\n",
    "\n",
    "train_original_target = []\n",
    "val_original_target   = []\n",
    "test_original_target  = []"
   ]
  },
  {
   "cell_type": "code",
   "execution_count": 11,
   "id": "e3d9c3d3",
   "metadata": {
    "execution": {
     "iopub.execute_input": "2022-03-26T20:02:45.170877Z",
     "iopub.status.busy": "2022-03-26T20:02:45.170338Z",
     "iopub.status.idle": "2022-03-26T20:02:45.183963Z",
     "shell.execute_reply": "2022-03-26T20:02:45.183603Z"
    },
    "papermill": {
     "duration": 0.031023,
     "end_time": "2022-03-26T20:02:45.184052",
     "exception": false,
     "start_time": "2022-03-26T20:02:45.153029",
     "status": "completed"
    },
    "tags": []
   },
   "outputs": [],
   "source": [
    "# global_x_transform_func = lambda x: normalize(x.to(torch.get_default_dtype()), \"unit_power\") # unit_power, unit_mag\n",
    "# global_x_transform_func = lambda x: normalize(x, \"unit_power\") # unit_power, unit_mag"
   ]
  },
  {
   "cell_type": "code",
   "execution_count": 12,
   "id": "acb78fd2",
   "metadata": {
    "execution": {
     "iopub.execute_input": "2022-03-26T20:02:45.224186Z",
     "iopub.status.busy": "2022-03-26T20:02:45.223863Z",
     "iopub.status.idle": "2022-03-26T20:02:45.238471Z",
     "shell.execute_reply": "2022-03-26T20:02:45.238725Z"
    },
    "papermill": {
     "duration": 0.035711,
     "end_time": "2022-03-26T20:02:45.238857",
     "exception": false,
     "start_time": "2022-03-26T20:02:45.203146",
     "status": "completed"
    },
    "tags": []
   },
   "outputs": [],
   "source": [
    "def add_dataset(\n",
    "    labels,\n",
    "    domains,\n",
    "    pickle_path,\n",
    "    x_transforms,\n",
    "    episode_transforms,\n",
    "    domain_prefix,\n",
    "    num_examples_per_domain_per_label,\n",
    "    source_or_target_dataset:str,\n",
    "    iterator_seed=p.seed,\n",
    "    dataset_seed=p.dataset_seed,\n",
    "    n_shot=p.n_shot,\n",
    "    n_way=p.n_way,\n",
    "    n_query=p.n_query,\n",
    "    train_val_test_k_factors=(p.train_k_factor,p.val_k_factor,p.test_k_factor),\n",
    "):\n",
    "   \n",
    "    if x_transforms == []: x_transform = None\n",
    "    else: x_transform = get_chained_transform(x_transforms)\n",
    "    \n",
    "    if episode_transforms == []: episode_transform = None\n",
    "    else: raise Exception(\"episode_transforms not implemented\")\n",
    "    \n",
    "    episode_transform = lambda tup, _prefix=domain_prefix: (_prefix + str(tup[0]), tup[1])\n",
    "\n",
    "\n",
    "    eaf = Episodic_Accessor_Factory(\n",
    "        labels=labels,\n",
    "        domains=domains,\n",
    "        num_examples_per_domain_per_label=num_examples_per_domain_per_label,\n",
    "        iterator_seed=iterator_seed,\n",
    "        dataset_seed=dataset_seed,\n",
    "        n_shot=n_shot,\n",
    "        n_way=n_way,\n",
    "        n_query=n_query,\n",
    "        train_val_test_k_factors=train_val_test_k_factors,\n",
    "        pickle_path=pickle_path,\n",
    "        x_transform_func=x_transform,\n",
    "    )\n",
    "\n",
    "    train, val, test = eaf.get_train(), eaf.get_val(), eaf.get_test()\n",
    "    train = Lazy_Iterable_Wrapper(train, episode_transform)\n",
    "    val = Lazy_Iterable_Wrapper(val, episode_transform)\n",
    "    test = Lazy_Iterable_Wrapper(test, episode_transform)\n",
    "\n",
    "    if source_or_target_dataset==\"source\":\n",
    "        train_original_source.append(train)\n",
    "        val_original_source.append(val)\n",
    "        test_original_source.append(test)\n",
    "\n",
    "        p.domains_source.extend(\n",
    "            [domain_prefix + str(u) for u in domains]\n",
    "        )\n",
    "    elif source_or_target_dataset==\"target\":\n",
    "        train_original_target.append(train)\n",
    "        val_original_target.append(val)\n",
    "        test_original_target.append(test)\n",
    "        p.domains_target.extend(\n",
    "            [domain_prefix + str(u) for u in domains]\n",
    "        )\n",
    "    else:\n",
    "        raise Exception(f\"invalid source_or_target_dataset: {source_or_target_dataset}\")\n",
    "    "
   ]
  },
  {
   "cell_type": "code",
   "execution_count": 13,
   "id": "fe266617",
   "metadata": {
    "execution": {
     "iopub.execute_input": "2022-03-26T20:02:45.276254Z",
     "iopub.status.busy": "2022-03-26T20:02:45.275735Z",
     "iopub.status.idle": "2022-03-26T20:04:10.247308Z",
     "shell.execute_reply": "2022-03-26T20:04:10.247044Z"
    },
    "papermill": {
     "duration": 84.989941,
     "end_time": "2022-03-26T20:04:10.247376",
     "exception": false,
     "start_time": "2022-03-26T20:02:45.257435",
     "status": "completed"
    },
    "tags": []
   },
   "outputs": [],
   "source": [
    "for ds in p.datasets:\n",
    "    add_dataset(**ds)"
   ]
  },
  {
   "cell_type": "code",
   "execution_count": 14,
   "id": "b90d65ac",
   "metadata": {
    "execution": {
     "iopub.execute_input": "2022-03-26T20:04:10.279795Z",
     "iopub.status.busy": "2022-03-26T20:04:10.279372Z",
     "iopub.status.idle": "2022-03-26T20:04:10.290965Z",
     "shell.execute_reply": "2022-03-26T20:04:10.290721Z"
    },
    "papermill": {
     "duration": 0.027406,
     "end_time": "2022-03-26T20:04:10.291026",
     "exception": false,
     "start_time": "2022-03-26T20:04:10.263620",
     "status": "completed"
    },
    "tags": []
   },
   "outputs": [],
   "source": [
    "# from steves_utils.CORES.utils import (\n",
    "#     ALL_NODES,\n",
    "#     ALL_NODES_MINIMUM_1000_EXAMPLES,\n",
    "#     ALL_DAYS\n",
    "# )\n",
    "\n",
    "# add_dataset(\n",
    "#     labels=ALL_NODES,\n",
    "#     domains = ALL_DAYS,\n",
    "#     num_examples_per_domain_per_label=100,\n",
    "#     pickle_path=os.path.join(get_datasets_base_path(), \"cores.stratified_ds.2022A.pkl\"),\n",
    "#     source_or_target_dataset=\"target\",\n",
    "#     x_transform_func=global_x_transform_func,\n",
    "#     domain_modifier=lambda u: f\"cores_{u}\"\n",
    "# )"
   ]
  },
  {
   "cell_type": "code",
   "execution_count": 15,
   "id": "76db484d",
   "metadata": {
    "execution": {
     "iopub.execute_input": "2022-03-26T20:04:10.327384Z",
     "iopub.status.busy": "2022-03-26T20:04:10.326968Z",
     "iopub.status.idle": "2022-03-26T20:04:10.335505Z",
     "shell.execute_reply": "2022-03-26T20:04:10.335057Z"
    },
    "papermill": {
     "duration": 0.028304,
     "end_time": "2022-03-26T20:04:10.335609",
     "exception": false,
     "start_time": "2022-03-26T20:04:10.307305",
     "status": "completed"
    },
    "tags": []
   },
   "outputs": [],
   "source": [
    "# from steves_utils.ORACLE.utils_v2 import (\n",
    "#     ALL_DISTANCES_FEET,\n",
    "#     ALL_RUNS,\n",
    "#     ALL_SERIAL_NUMBERS,\n",
    "# )\n",
    "\n",
    "\n",
    "# add_dataset(\n",
    "#     labels=ALL_SERIAL_NUMBERS,\n",
    "#     domains = list(set(ALL_DISTANCES_FEET) - {2,62}),\n",
    "#     num_examples_per_domain_per_label=100,\n",
    "#     pickle_path=os.path.join(get_datasets_base_path(), \"oracle.Run2_framed_2000Examples_stratified_ds.2022A.pkl\"),\n",
    "#     source_or_target_dataset=\"source\",\n",
    "#     x_transform_func=global_x_transform_func,\n",
    "#     domain_modifier=lambda u: f\"oracle1_{u}\"\n",
    "# )\n"
   ]
  },
  {
   "cell_type": "code",
   "execution_count": 16,
   "id": "97dea9d2",
   "metadata": {
    "execution": {
     "iopub.execute_input": "2022-03-26T20:04:10.370007Z",
     "iopub.status.busy": "2022-03-26T20:04:10.369247Z",
     "iopub.status.idle": "2022-03-26T20:04:10.385046Z",
     "shell.execute_reply": "2022-03-26T20:04:10.384589Z"
    },
    "papermill": {
     "duration": 0.032051,
     "end_time": "2022-03-26T20:04:10.385147",
     "exception": false,
     "start_time": "2022-03-26T20:04:10.353096",
     "status": "completed"
    },
    "tags": []
   },
   "outputs": [],
   "source": [
    "# from steves_utils.ORACLE.utils_v2 import (\n",
    "#     ALL_DISTANCES_FEET,\n",
    "#     ALL_RUNS,\n",
    "#     ALL_SERIAL_NUMBERS,\n",
    "# )\n",
    "\n",
    "\n",
    "# add_dataset(\n",
    "#     labels=ALL_SERIAL_NUMBERS,\n",
    "#     domains = list(set(ALL_DISTANCES_FEET) - {2,62,56}),\n",
    "#     num_examples_per_domain_per_label=100,\n",
    "#     pickle_path=os.path.join(get_datasets_base_path(), \"oracle.Run2_framed_2000Examples_stratified_ds.2022A.pkl\"),\n",
    "#     source_or_target_dataset=\"source\",\n",
    "#     x_transform_func=global_x_transform_func,\n",
    "#     domain_modifier=lambda u: f\"oracle2_{u}\"\n",
    "# )"
   ]
  },
  {
   "cell_type": "code",
   "execution_count": 17,
   "id": "6f289866",
   "metadata": {
    "execution": {
     "iopub.execute_input": "2022-03-26T20:04:10.419955Z",
     "iopub.status.busy": "2022-03-26T20:04:10.419682Z",
     "iopub.status.idle": "2022-03-26T20:04:10.431505Z",
     "shell.execute_reply": "2022-03-26T20:04:10.431084Z"
    },
    "papermill": {
     "duration": 0.027432,
     "end_time": "2022-03-26T20:04:10.431615",
     "exception": false,
     "start_time": "2022-03-26T20:04:10.404183",
     "status": "completed"
    },
    "tags": []
   },
   "outputs": [],
   "source": [
    "# add_dataset(\n",
    "#     labels=list(range(19)),\n",
    "#     domains = [0,1,2],\n",
    "#     num_examples_per_domain_per_label=100,\n",
    "#     pickle_path=os.path.join(get_datasets_base_path(), \"metehan.stratified_ds.2022A.pkl\"),\n",
    "#     source_or_target_dataset=\"target\",\n",
    "#     x_transform_func=global_x_transform_func,\n",
    "#     domain_modifier=lambda u: f\"met_{u}\"\n",
    "# )"
   ]
  },
  {
   "cell_type": "code",
   "execution_count": 18,
   "id": "86a863c3",
   "metadata": {
    "execution": {
     "iopub.execute_input": "2022-03-26T20:04:10.467273Z",
     "iopub.status.busy": "2022-03-26T20:04:10.467013Z",
     "iopub.status.idle": "2022-03-26T20:04:10.482722Z",
     "shell.execute_reply": "2022-03-26T20:04:10.483121Z"
    },
    "papermill": {
     "duration": 0.032229,
     "end_time": "2022-03-26T20:04:10.483259",
     "exception": false,
     "start_time": "2022-03-26T20:04:10.451030",
     "status": "completed"
    },
    "tags": []
   },
   "outputs": [],
   "source": [
    "# # from steves_utils.wisig.utils import (\n",
    "# #     ALL_NODES_MINIMUM_100_EXAMPLES,\n",
    "# #     ALL_NODES_MINIMUM_500_EXAMPLES,\n",
    "# #     ALL_NODES_MINIMUM_1000_EXAMPLES,\n",
    "# #     ALL_DAYS\n",
    "# # )\n",
    "\n",
    "# import steves_utils.wisig.utils as wisig\n",
    "\n",
    "\n",
    "# add_dataset(\n",
    "#     labels=wisig.ALL_NODES_MINIMUM_100_EXAMPLES,\n",
    "#     domains = wisig.ALL_DAYS,\n",
    "#     num_examples_per_domain_per_label=100,\n",
    "#     pickle_path=os.path.join(get_datasets_base_path(), \"wisig.node3-19.stratified_ds.2022A.pkl\"),\n",
    "#     source_or_target_dataset=\"target\",\n",
    "#     x_transform_func=global_x_transform_func,\n",
    "#     domain_modifier=lambda u: f\"wisig_{u}\"\n",
    "# )"
   ]
  },
  {
   "cell_type": "code",
   "execution_count": 19,
   "id": "fd5442bc",
   "metadata": {
    "execution": {
     "iopub.execute_input": "2022-03-26T20:04:10.520510Z",
     "iopub.status.busy": "2022-03-26T20:04:10.517011Z",
     "iopub.status.idle": "2022-03-26T20:04:10.535374Z",
     "shell.execute_reply": "2022-03-26T20:04:10.535760Z"
    },
    "papermill": {
     "duration": 0.034493,
     "end_time": "2022-03-26T20:04:10.535891",
     "exception": false,
     "start_time": "2022-03-26T20:04:10.501398",
     "status": "completed"
    },
    "tags": []
   },
   "outputs": [],
   "source": [
    "###################################\n",
    "# Build the dataset\n",
    "###################################\n",
    "train_original_source = Iterable_Aggregator(train_original_source, p.seed)\n",
    "val_original_source = Iterable_Aggregator(val_original_source, p.seed)\n",
    "test_original_source = Iterable_Aggregator(test_original_source, p.seed)\n",
    "\n",
    "\n",
    "train_original_target = Iterable_Aggregator(train_original_target, p.seed)\n",
    "val_original_target = Iterable_Aggregator(val_original_target, p.seed)\n",
    "test_original_target = Iterable_Aggregator(test_original_target, p.seed)\n",
    "\n",
    "# For CNN We only use X and Y. And we only train on the source.\n",
    "# Properly form the data using a transform lambda and Lazy_Iterable_Wrapper. Finally wrap them in a dataloader\n",
    "\n",
    "transform_lambda = lambda ex: ex[1] # Original is (<domain>, <episode>) so we strip down to episode only\n",
    "\n",
    "train_processed_source = Lazy_Iterable_Wrapper(train_original_source, transform_lambda)\n",
    "val_processed_source   = Lazy_Iterable_Wrapper(val_original_source, transform_lambda)\n",
    "test_processed_source  = Lazy_Iterable_Wrapper(test_original_source, transform_lambda)\n",
    "\n",
    "train_processed_target = Lazy_Iterable_Wrapper(train_original_target, transform_lambda)\n",
    "val_processed_target   = Lazy_Iterable_Wrapper(val_original_target, transform_lambda)\n",
    "test_processed_target  = Lazy_Iterable_Wrapper(test_original_target, transform_lambda)\n",
    "\n",
    "datasets = EasyDict({\n",
    "    \"source\": {\n",
    "        \"original\": {\"train\":train_original_source, \"val\":val_original_source, \"test\":test_original_source},\n",
    "        \"processed\": {\"train\":train_processed_source, \"val\":val_processed_source, \"test\":test_processed_source}\n",
    "    },\n",
    "    \"target\": {\n",
    "        \"original\": {\"train\":train_original_target, \"val\":val_original_target, \"test\":test_original_target},\n",
    "        \"processed\": {\"train\":train_processed_target, \"val\":val_processed_target, \"test\":test_processed_target}\n",
    "    },\n",
    "})"
   ]
  },
  {
   "cell_type": "code",
   "execution_count": 20,
   "id": "5b3c01fc",
   "metadata": {
    "execution": {
     "iopub.execute_input": "2022-03-26T20:04:10.572003Z",
     "iopub.status.busy": "2022-03-26T20:04:10.571701Z",
     "iopub.status.idle": "2022-03-26T20:04:17.585147Z",
     "shell.execute_reply": "2022-03-26T20:04:17.585583Z"
    },
    "papermill": {
     "duration": 7.03045,
     "end_time": "2022-03-26T20:04:17.585720",
     "exception": false,
     "start_time": "2022-03-26T20:04:10.555270",
     "status": "completed"
    },
    "tags": []
   },
   "outputs": [
    {
     "name": "stdout",
     "output_type": "stream",
     "text": [
      "{'C_1', 'C_5', 'C_3', 'C_4', 'C_2'}\n"
     ]
    },
    {
     "name": "stdout",
     "output_type": "stream",
     "text": [
      "{'O_26', 'O_32', 'O_14', 'O_20', 'O_44', 'O_38', 'O_50', 'O_8'}\n"
     ]
    },
    {
     "name": "stdout",
     "output_type": "stream",
     "text": [
      "tensor([[[0., 0., 0.,  ..., 0., 0., 0.],\n",
      "         [0., 0., 0.,  ..., 0., 0., 0.]],\n",
      "\n",
      "        [[0., 0., 0.,  ..., 0., 0., 0.],\n",
      "         [0., 0., 0.,  ..., 0., 0., 0.]],\n",
      "\n",
      "        [[0., 0., 0.,  ..., 0., 0., 0.],\n",
      "         [0., 0., 0.,  ..., 0., 0., 0.]],\n",
      "\n",
      "        ...,\n",
      "\n",
      "        [[0., 0., 0.,  ..., 0., 0., 0.],\n",
      "         [0., 0., 0.,  ..., 0., 0., 0.]],\n",
      "\n",
      "        [[0., 0., 0.,  ..., 0., 0., 0.],\n",
      "         [0., 0., 0.,  ..., 0., 0., 0.]],\n",
      "\n",
      "        [[0., 0., 0.,  ..., 0., 0., 0.],\n",
      "         [0., 0., 0.,  ..., 0., 0., 0.]]])\n"
     ]
    }
   ],
   "source": [
    "from steves_utils.transforms import get_average_magnitude, get_average_power\n",
    "\n",
    "print(set([u for u,_ in val_original_source]))\n",
    "print(set([u for u,_ in val_original_target]))\n",
    "\n",
    "s_x, s_y, q_x, q_y, _ = next(iter(train_processed_source))\n",
    "print(s_x)\n",
    "\n",
    "# for ds in [\n",
    "#     train_processed_source,\n",
    "#     val_processed_source,\n",
    "#     test_processed_source,\n",
    "#     train_processed_target,\n",
    "#     val_processed_target,\n",
    "#     test_processed_target\n",
    "# ]:\n",
    "#     for s_x, s_y, q_x, q_y, _ in ds:\n",
    "#         for X in (s_x, q_x):\n",
    "#             for x in X:\n",
    "#                 assert np.isclose(get_average_magnitude(x.numpy()), 1.0)\n",
    "#                 assert np.isclose(get_average_power(x.numpy()), 1.0)\n",
    "                "
   ]
  },
  {
   "cell_type": "code",
   "execution_count": 21,
   "id": "bbdacba1",
   "metadata": {
    "execution": {
     "iopub.execute_input": "2022-03-26T20:04:17.624888Z",
     "iopub.status.busy": "2022-03-26T20:04:17.624614Z",
     "iopub.status.idle": "2022-03-26T20:04:17.689727Z",
     "shell.execute_reply": "2022-03-26T20:04:17.690085Z"
    },
    "papermill": {
     "duration": 0.084004,
     "end_time": "2022-03-26T20:04:17.690200",
     "exception": false,
     "start_time": "2022-03-26T20:04:17.606196",
     "status": "completed"
    },
    "tags": []
   },
   "outputs": [
    {
     "name": "stdout",
     "output_type": "stream",
     "text": [
      "(2, 256)\n"
     ]
    }
   ],
   "source": [
    "###################################\n",
    "# Build the model\n",
    "###################################\n",
    "# easfsl only wants a tuple for the shape\n",
    "model = Steves_Prototypical_Network(x_net, device=p.device, x_shape=tuple(p.x_shape))\n",
    "optimizer = Adam(params=model.parameters(), lr=p.lr)"
   ]
  },
  {
   "cell_type": "code",
   "execution_count": 22,
   "id": "22b39ac5",
   "metadata": {
    "execution": {
     "iopub.execute_input": "2022-03-26T20:04:17.728177Z",
     "iopub.status.busy": "2022-03-26T20:04:17.727901Z",
     "iopub.status.idle": "2022-03-26T20:50:04.059357Z",
     "shell.execute_reply": "2022-03-26T20:50:04.059124Z"
    },
    "papermill": {
     "duration": 2746.349127,
     "end_time": "2022-03-26T20:50:04.059417",
     "exception": false,
     "start_time": "2022-03-26T20:04:17.710290",
     "status": "completed"
    },
    "tags": []
   },
   "outputs": [
    {
     "name": "stdout",
     "output_type": "stream",
     "text": [
      "epoch: 1, [batch: 1 / 6315], examples_per_second: 47.2480, train_label_loss: 2.7681, \n"
     ]
    },
    {
     "name": "stdout",
     "output_type": "stream",
     "text": [
      "epoch: 1, [batch: 632 / 6315], examples_per_second: 1688.7139, train_label_loss: 0.0104, \n"
     ]
    },
    {
     "name": "stdout",
     "output_type": "stream",
     "text": [
      "epoch: 1, [batch: 1263 / 6315], examples_per_second: 1687.5853, train_label_loss: 0.0175, \n"
     ]
    },
    {
     "name": "stdout",
     "output_type": "stream",
     "text": [
      "epoch: 1, [batch: 1895 / 6315], examples_per_second: 1820.6309, train_label_loss: 0.0001, \n"
     ]
    },
    {
     "name": "stdout",
     "output_type": "stream",
     "text": [
      "epoch: 1, [batch: 2526 / 6315], examples_per_second: 2233.2127, train_label_loss: 0.0014, \n"
     ]
    },
    {
     "name": "stdout",
     "output_type": "stream",
     "text": [
      "epoch: 1, [batch: 3158 / 6315], examples_per_second: 1688.4578, train_label_loss: 0.0004, \n"
     ]
    },
    {
     "name": "stdout",
     "output_type": "stream",
     "text": [
      "epoch: 1, [batch: 3789 / 6315], examples_per_second: 1665.9157, train_label_loss: 0.0014, \n"
     ]
    },
    {
     "name": "stdout",
     "output_type": "stream",
     "text": [
      "epoch: 1, [batch: 4420 / 6315], examples_per_second: 1646.1516, train_label_loss: 0.0207, \n"
     ]
    },
    {
     "name": "stdout",
     "output_type": "stream",
     "text": [
      "epoch: 1, [batch: 5052 / 6315], examples_per_second: 1671.6417, train_label_loss: 0.0007, \n"
     ]
    },
    {
     "name": "stdout",
     "output_type": "stream",
     "text": [
      "epoch: 1, [batch: 5683 / 6315], examples_per_second: 1668.8693, train_label_loss: 0.0005, \n"
     ]
    },
    {
     "name": "stdout",
     "output_type": "stream",
     "text": [
      "=============================================================\n",
      "epoch: 1, source_val_acc_label: 0.9921, target_val_acc_label: 0.3275, source_val_label_loss: 0.2110, target_val_label_loss: 1.9480, \n",
      "=============================================================\n"
     ]
    },
    {
     "name": "stdout",
     "output_type": "stream",
     "text": [
      "New best\n"
     ]
    },
    {
     "name": "stdout",
     "output_type": "stream",
     "text": [
      "epoch: 2, [batch: 1 / 6307], examples_per_second: 2.5430, train_label_loss: 0.0002, \n"
     ]
    },
    {
     "name": "stdout",
     "output_type": "stream",
     "text": [
      "epoch: 2, [batch: 631 / 6307], examples_per_second: 1699.9068, train_label_loss: 0.0014, \n"
     ]
    },
    {
     "name": "stdout",
     "output_type": "stream",
     "text": [
      "epoch: 2, [batch: 1262 / 6307], examples_per_second: 1702.1915, train_label_loss: 0.0000, \n"
     ]
    },
    {
     "name": "stdout",
     "output_type": "stream",
     "text": [
      "epoch: 2, [batch: 1892 / 6307], examples_per_second: 1885.9300, train_label_loss: 0.0000, \n"
     ]
    },
    {
     "name": "stdout",
     "output_type": "stream",
     "text": [
      "epoch: 2, [batch: 2523 / 6307], examples_per_second: 2344.6781, train_label_loss: 0.0020, \n"
     ]
    },
    {
     "name": "stdout",
     "output_type": "stream",
     "text": [
      "epoch: 2, [batch: 3154 / 6307], examples_per_second: 1701.4274, train_label_loss: 0.0000, \n"
     ]
    },
    {
     "name": "stdout",
     "output_type": "stream",
     "text": [
      "epoch: 2, [batch: 3784 / 6307], examples_per_second: 1702.5992, train_label_loss: 0.0000, \n"
     ]
    },
    {
     "name": "stdout",
     "output_type": "stream",
     "text": [
      "epoch: 2, [batch: 4415 / 6307], examples_per_second: 1699.4954, train_label_loss: 0.0612, \n"
     ]
    },
    {
     "name": "stdout",
     "output_type": "stream",
     "text": [
      "epoch: 2, [batch: 5045 / 6307], examples_per_second: 1704.8708, train_label_loss: 0.0104, \n"
     ]
    },
    {
     "name": "stdout",
     "output_type": "stream",
     "text": [
      "epoch: 2, [batch: 5676 / 6307], examples_per_second: 1702.9920, train_label_loss: 0.0001, \n"
     ]
    },
    {
     "name": "stdout",
     "output_type": "stream",
     "text": [
      "=============================================================\n",
      "epoch: 2, source_val_acc_label: 0.9980, target_val_acc_label: 0.3153, source_val_label_loss: 0.0664, target_val_label_loss: 2.2306, \n",
      "=============================================================\n"
     ]
    },
    {
     "name": "stdout",
     "output_type": "stream",
     "text": [
      "epoch: 3, [batch: 1 / 6326], examples_per_second: 2.6236, train_label_loss: 0.0000, \n"
     ]
    },
    {
     "name": "stdout",
     "output_type": "stream",
     "text": [
      "epoch: 3, [batch: 633 / 6326], examples_per_second: 1691.6750, train_label_loss: 0.0000, \n"
     ]
    },
    {
     "name": "stdout",
     "output_type": "stream",
     "text": [
      "epoch: 3, [batch: 1266 / 6326], examples_per_second: 1726.2595, train_label_loss: 0.0000, \n"
     ]
    },
    {
     "name": "stdout",
     "output_type": "stream",
     "text": [
      "epoch: 3, [batch: 1898 / 6326], examples_per_second: 1887.4079, train_label_loss: 0.0001, \n"
     ]
    },
    {
     "name": "stdout",
     "output_type": "stream",
     "text": [
      "epoch: 3, [batch: 2531 / 6326], examples_per_second: 2339.3509, train_label_loss: 0.0102, \n"
     ]
    },
    {
     "name": "stdout",
     "output_type": "stream",
     "text": [
      "epoch: 3, [batch: 3163 / 6326], examples_per_second: 1768.0114, train_label_loss: 0.0001, \n"
     ]
    },
    {
     "name": "stdout",
     "output_type": "stream",
     "text": [
      "epoch: 3, [batch: 3796 / 6326], examples_per_second: 1726.3408, train_label_loss: 0.0000, \n"
     ]
    },
    {
     "name": "stdout",
     "output_type": "stream",
     "text": [
      "epoch: 3, [batch: 4428 / 6326], examples_per_second: 1723.4485, train_label_loss: 0.0000, \n"
     ]
    },
    {
     "name": "stdout",
     "output_type": "stream",
     "text": [
      "epoch: 3, [batch: 5061 / 6326], examples_per_second: 1729.5825, train_label_loss: 0.0000, \n"
     ]
    },
    {
     "name": "stdout",
     "output_type": "stream",
     "text": [
      "epoch: 3, [batch: 5693 / 6326], examples_per_second: 1726.8087, train_label_loss: 0.0000, \n"
     ]
    },
    {
     "name": "stdout",
     "output_type": "stream",
     "text": [
      "=============================================================\n",
      "epoch: 3, source_val_acc_label: 0.9968, target_val_acc_label: 0.2676, source_val_label_loss: 0.0851, target_val_label_loss: 2.8543, \n",
      "=============================================================\n"
     ]
    },
    {
     "name": "stdout",
     "output_type": "stream",
     "text": [
      "epoch: 4, [batch: 1 / 6302], examples_per_second: 2.6276, train_label_loss: 0.1760, \n"
     ]
    },
    {
     "name": "stdout",
     "output_type": "stream",
     "text": [
      "epoch: 4, [batch: 631 / 6302], examples_per_second: 1725.0677, train_label_loss: 0.0000, \n"
     ]
    },
    {
     "name": "stdout",
     "output_type": "stream",
     "text": [
      "epoch: 4, [batch: 1261 / 6302], examples_per_second: 1726.9767, train_label_loss: 0.0000, \n"
     ]
    },
    {
     "name": "stdout",
     "output_type": "stream",
     "text": [
      "epoch: 4, [batch: 1891 / 6302], examples_per_second: 1874.7027, train_label_loss: 0.0000, \n"
     ]
    },
    {
     "name": "stdout",
     "output_type": "stream",
     "text": [
      "epoch: 4, [batch: 2521 / 6302], examples_per_second: 2331.9701, train_label_loss: 0.0000, \n"
     ]
    },
    {
     "name": "stdout",
     "output_type": "stream",
     "text": [
      "epoch: 4, [batch: 3151 / 6302], examples_per_second: 1793.1358, train_label_loss: 0.0000, \n"
     ]
    },
    {
     "name": "stdout",
     "output_type": "stream",
     "text": [
      "epoch: 4, [batch: 3781 / 6302], examples_per_second: 1726.2795, train_label_loss: 0.0000, \n"
     ]
    },
    {
     "name": "stdout",
     "output_type": "stream",
     "text": [
      "epoch: 4, [batch: 4411 / 6302], examples_per_second: 1723.0218, train_label_loss: 0.0000, \n"
     ]
    },
    {
     "name": "stdout",
     "output_type": "stream",
     "text": [
      "epoch: 4, [batch: 5041 / 6302], examples_per_second: 1728.8739, train_label_loss: 0.0001, \n"
     ]
    },
    {
     "name": "stdout",
     "output_type": "stream",
     "text": [
      "epoch: 4, [batch: 5671 / 6302], examples_per_second: 1623.2873, train_label_loss: 0.0000, \n"
     ]
    },
    {
     "name": "stdout",
     "output_type": "stream",
     "text": [
      "=============================================================\n",
      "epoch: 4, source_val_acc_label: 0.9981, target_val_acc_label: 0.3271, source_val_label_loss: 0.1019, target_val_label_loss: 2.2834, \n",
      "=============================================================\n"
     ]
    },
    {
     "name": "stdout",
     "output_type": "stream",
     "text": [
      "epoch: 5, [batch: 1 / 6324], examples_per_second: 2.4081, train_label_loss: 0.0000, \n"
     ]
    },
    {
     "name": "stdout",
     "output_type": "stream",
     "text": [
      "epoch: 5, [batch: 633 / 6324], examples_per_second: 1596.3422, train_label_loss: 0.0000, \n"
     ]
    },
    {
     "name": "stdout",
     "output_type": "stream",
     "text": [
      "epoch: 5, [batch: 1265 / 6324], examples_per_second: 1653.3947, train_label_loss: 0.0484, \n"
     ]
    },
    {
     "name": "stdout",
     "output_type": "stream",
     "text": [
      "epoch: 5, [batch: 1897 / 6324], examples_per_second: 1740.6182, train_label_loss: 0.0001, \n"
     ]
    },
    {
     "name": "stdout",
     "output_type": "stream",
     "text": [
      "epoch: 5, [batch: 2530 / 6324], examples_per_second: 2166.9558, train_label_loss: 0.0000, \n"
     ]
    },
    {
     "name": "stdout",
     "output_type": "stream",
     "text": [
      "epoch: 5, [batch: 3162 / 6324], examples_per_second: 2154.9629, train_label_loss: 0.0000, \n"
     ]
    },
    {
     "name": "stdout",
     "output_type": "stream",
     "text": [
      "epoch: 5, [batch: 3794 / 6324], examples_per_second: 2164.3029, train_label_loss: 0.0001, \n"
     ]
    },
    {
     "name": "stdout",
     "output_type": "stream",
     "text": [
      "epoch: 5, [batch: 4427 / 6324], examples_per_second: 2113.2631, train_label_loss: 0.0000, \n"
     ]
    },
    {
     "name": "stdout",
     "output_type": "stream",
     "text": [
      "epoch: 5, [batch: 5059 / 6324], examples_per_second: 2034.0595, train_label_loss: 0.0000, \n"
     ]
    },
    {
     "name": "stdout",
     "output_type": "stream",
     "text": [
      "epoch: 5, [batch: 5691 / 6324], examples_per_second: 2402.6634, train_label_loss: 0.0000, \n"
     ]
    },
    {
     "name": "stdout",
     "output_type": "stream",
     "text": [
      "=============================================================\n",
      "epoch: 5, source_val_acc_label: 0.9994, target_val_acc_label: 0.3750, source_val_label_loss: 0.0729, target_val_label_loss: 2.0930, \n",
      "=============================================================\n"
     ]
    },
    {
     "name": "stdout",
     "output_type": "stream",
     "text": [
      "New best\n"
     ]
    },
    {
     "name": "stdout",
     "output_type": "stream",
     "text": [
      "epoch: 6, [batch: 1 / 6313], examples_per_second: 4.7605, train_label_loss: 0.0000, \n"
     ]
    },
    {
     "name": "stdout",
     "output_type": "stream",
     "text": [
      "epoch: 6, [batch: 632 / 6313], examples_per_second: 3135.7169, train_label_loss: 0.0000, \n"
     ]
    },
    {
     "name": "stdout",
     "output_type": "stream",
     "text": [
      "epoch: 6, [batch: 1263 / 6313], examples_per_second: 3225.8368, train_label_loss: 0.0006, \n"
     ]
    },
    {
     "name": "stdout",
     "output_type": "stream",
     "text": [
      "epoch: 6, [batch: 1894 / 6313], examples_per_second: 3202.3198, train_label_loss: 0.0000, \n"
     ]
    },
    {
     "name": "stdout",
     "output_type": "stream",
     "text": [
      "epoch: 6, [batch: 2525 / 6313], examples_per_second: 3207.8913, train_label_loss: 0.0000, \n"
     ]
    },
    {
     "name": "stdout",
     "output_type": "stream",
     "text": [
      "epoch: 6, [batch: 3157 / 6313], examples_per_second: 2855.3985, train_label_loss: 0.0000, \n"
     ]
    },
    {
     "name": "stdout",
     "output_type": "stream",
     "text": [
      "epoch: 6, [batch: 3788 / 6313], examples_per_second: 1694.6383, train_label_loss: 0.0002, \n"
     ]
    },
    {
     "name": "stdout",
     "output_type": "stream",
     "text": [
      "epoch: 6, [batch: 4419 / 6313], examples_per_second: 1677.6118, train_label_loss: 0.0000, \n"
     ]
    },
    {
     "name": "stdout",
     "output_type": "stream",
     "text": [
      "epoch: 6, [batch: 5050 / 6313], examples_per_second: 1675.3171, train_label_loss: 0.0000, \n"
     ]
    },
    {
     "name": "stdout",
     "output_type": "stream",
     "text": [
      "epoch: 6, [batch: 5681 / 6313], examples_per_second: 1648.9952, train_label_loss: 0.0000, \n"
     ]
    },
    {
     "name": "stdout",
     "output_type": "stream",
     "text": [
      "=============================================================\n",
      "epoch: 6, source_val_acc_label: 0.9986, target_val_acc_label: 0.3033, source_val_label_loss: 0.0830, target_val_label_loss: 2.6385, \n",
      "=============================================================\n"
     ]
    },
    {
     "name": "stdout",
     "output_type": "stream",
     "text": [
      "epoch: 7, [batch: 1 / 6295], examples_per_second: 2.6513, train_label_loss: 0.0000, \n"
     ]
    },
    {
     "name": "stdout",
     "output_type": "stream",
     "text": [
      "epoch: 7, [batch: 630 / 6295], examples_per_second: 1661.3877, train_label_loss: 0.0019, \n"
     ]
    },
    {
     "name": "stdout",
     "output_type": "stream",
     "text": [
      "epoch: 7, [batch: 1259 / 6295], examples_per_second: 1617.1767, train_label_loss: 0.0000, \n"
     ]
    },
    {
     "name": "stdout",
     "output_type": "stream",
     "text": [
      "epoch: 7, [batch: 1889 / 6295], examples_per_second: 1688.6130, train_label_loss: 0.0000, \n"
     ]
    },
    {
     "name": "stdout",
     "output_type": "stream",
     "text": [
      "epoch: 7, [batch: 2518 / 6295], examples_per_second: 1864.1096, train_label_loss: 0.0000, \n"
     ]
    },
    {
     "name": "stdout",
     "output_type": "stream",
     "text": [
      "epoch: 7, [batch: 3148 / 6295], examples_per_second: 2367.9499, train_label_loss: 0.0000, \n"
     ]
    },
    {
     "name": "stdout",
     "output_type": "stream",
     "text": [
      "epoch: 7, [batch: 3777 / 6295], examples_per_second: 1726.4042, train_label_loss: 0.0000, \n"
     ]
    },
    {
     "name": "stdout",
     "output_type": "stream",
     "text": [
      "epoch: 7, [batch: 4406 / 6295], examples_per_second: 1710.5919, train_label_loss: 0.0000, \n"
     ]
    },
    {
     "name": "stdout",
     "output_type": "stream",
     "text": [
      "epoch: 7, [batch: 5036 / 6295], examples_per_second: 1713.8055, train_label_loss: 0.0000, \n"
     ]
    },
    {
     "name": "stdout",
     "output_type": "stream",
     "text": [
      "epoch: 7, [batch: 5665 / 6295], examples_per_second: 1717.8447, train_label_loss: 0.0000, \n"
     ]
    },
    {
     "name": "stdout",
     "output_type": "stream",
     "text": [
      "=============================================================\n",
      "epoch: 7, source_val_acc_label: 0.9991, target_val_acc_label: 0.3651, source_val_label_loss: 0.0569, target_val_label_loss: 2.1901, \n",
      "=============================================================\n"
     ]
    },
    {
     "name": "stdout",
     "output_type": "stream",
     "text": [
      "epoch: 8, [batch: 1 / 6293], examples_per_second: 2.6381, train_label_loss: 0.0000, \n"
     ]
    },
    {
     "name": "stdout",
     "output_type": "stream",
     "text": [
      "epoch: 8, [batch: 630 / 6293], examples_per_second: 1713.6381, train_label_loss: 0.0000, \n"
     ]
    },
    {
     "name": "stdout",
     "output_type": "stream",
     "text": [
      "epoch: 8, [batch: 1259 / 6293], examples_per_second: 1699.2671, train_label_loss: 0.0000, \n"
     ]
    },
    {
     "name": "stdout",
     "output_type": "stream",
     "text": [
      "epoch: 8, [batch: 1888 / 6293], examples_per_second: 1728.1721, train_label_loss: 0.0000, \n"
     ]
    },
    {
     "name": "stdout",
     "output_type": "stream",
     "text": [
      "epoch: 8, [batch: 2517 / 6293], examples_per_second: 1872.7420, train_label_loss: 0.0000, \n"
     ]
    },
    {
     "name": "stdout",
     "output_type": "stream",
     "text": [
      "epoch: 8, [batch: 3147 / 6293], examples_per_second: 2322.2128, train_label_loss: 0.0000, \n"
     ]
    },
    {
     "name": "stdout",
     "output_type": "stream",
     "text": [
      "epoch: 8, [batch: 3776 / 6293], examples_per_second: 1800.6926, train_label_loss: 0.0000, \n"
     ]
    },
    {
     "name": "stdout",
     "output_type": "stream",
     "text": [
      "epoch: 8, [batch: 4405 / 6293], examples_per_second: 1724.2131, train_label_loss: 0.0000, \n"
     ]
    },
    {
     "name": "stdout",
     "output_type": "stream",
     "text": [
      "epoch: 8, [batch: 5034 / 6293], examples_per_second: 1728.9070, train_label_loss: 0.0012, \n"
     ]
    },
    {
     "name": "stdout",
     "output_type": "stream",
     "text": [
      "epoch: 8, [batch: 5663 / 6293], examples_per_second: 1730.6477, train_label_loss: 0.0000, \n"
     ]
    },
    {
     "name": "stdout",
     "output_type": "stream",
     "text": [
      "=============================================================\n",
      "epoch: 8, source_val_acc_label: 0.9995, target_val_acc_label: 0.3120, source_val_label_loss: 0.0585, target_val_label_loss: 2.5716, \n",
      "=============================================================\n"
     ]
    },
    {
     "name": "stdout",
     "output_type": "stream",
     "text": [
      "epoch: 9, [batch: 1 / 6315], examples_per_second: 2.6344, train_label_loss: 0.0000, \n"
     ]
    },
    {
     "name": "stdout",
     "output_type": "stream",
     "text": [
      "epoch: 9, [batch: 632 / 6315], examples_per_second: 1730.8000, train_label_loss: 0.0000, \n"
     ]
    },
    {
     "name": "stdout",
     "output_type": "stream",
     "text": [
      "epoch: 9, [batch: 1263 / 6315], examples_per_second: 1728.9330, train_label_loss: 0.0000, \n"
     ]
    },
    {
     "name": "stdout",
     "output_type": "stream",
     "text": [
      "epoch: 9, [batch: 1895 / 6315], examples_per_second: 1729.0546, train_label_loss: 0.0000, \n"
     ]
    },
    {
     "name": "stdout",
     "output_type": "stream",
     "text": [
      "epoch: 9, [batch: 2526 / 6315], examples_per_second: 1850.2194, train_label_loss: 0.0001, \n"
     ]
    },
    {
     "name": "stdout",
     "output_type": "stream",
     "text": [
      "epoch: 9, [batch: 3158 / 6315], examples_per_second: 2285.2281, train_label_loss: 0.0055, \n"
     ]
    },
    {
     "name": "stdout",
     "output_type": "stream",
     "text": [
      "epoch: 9, [batch: 3789 / 6315], examples_per_second: 1819.7539, train_label_loss: 0.0000, \n"
     ]
    },
    {
     "name": "stdout",
     "output_type": "stream",
     "text": [
      "epoch: 9, [batch: 4420 / 6315], examples_per_second: 1724.9546, train_label_loss: 0.0000, \n"
     ]
    },
    {
     "name": "stdout",
     "output_type": "stream",
     "text": [
      "epoch: 9, [batch: 5052 / 6315], examples_per_second: 1730.1039, train_label_loss: 0.0000, \n"
     ]
    },
    {
     "name": "stdout",
     "output_type": "stream",
     "text": [
      "epoch: 9, [batch: 5683 / 6315], examples_per_second: 1732.3173, train_label_loss: 0.1209, \n"
     ]
    },
    {
     "name": "stdout",
     "output_type": "stream",
     "text": [
      "=============================================================\n",
      "epoch: 9, source_val_acc_label: 0.9989, target_val_acc_label: 0.3173, source_val_label_loss: 0.0446, target_val_label_loss: 2.5654, \n",
      "=============================================================\n"
     ]
    },
    {
     "name": "stdout",
     "output_type": "stream",
     "text": [
      "Patience (3) exhausted\n"
     ]
    }
   ],
   "source": [
    "###################################\n",
    "# train\n",
    "###################################\n",
    "jig = PTN_Train_Eval_Test_Jig(model, p.BEST_MODEL_PATH, p.device)\n",
    "\n",
    "jig.train(\n",
    "    train_iterable=datasets.source.processed.train,\n",
    "    source_val_iterable=datasets.source.processed.val,\n",
    "    target_val_iterable=datasets.target.processed.val,\n",
    "    num_epochs=p.n_epoch,\n",
    "    num_logs_per_epoch=p.NUM_LOGS_PER_EPOCH,\n",
    "    patience=p.patience,\n",
    "    optimizer=optimizer,\n",
    "    criteria_for_best=p.criteria_for_best,\n",
    ")"
   ]
  },
  {
   "cell_type": "code",
   "execution_count": 23,
   "id": "31e8fabf",
   "metadata": {
    "execution": {
     "iopub.execute_input": "2022-03-26T20:50:04.134571Z",
     "iopub.status.busy": "2022-03-26T20:50:04.130897Z",
     "iopub.status.idle": "2022-03-26T20:50:04.147146Z",
     "shell.execute_reply": "2022-03-26T20:50:04.146638Z"
    },
    "papermill": {
     "duration": 0.054911,
     "end_time": "2022-03-26T20:50:04.147256",
     "exception": false,
     "start_time": "2022-03-26T20:50:04.092345",
     "status": "completed"
    },
    "tags": []
   },
   "outputs": [],
   "source": [
    "total_experiment_time_secs = time.time() - start_time_secs"
   ]
  },
  {
   "cell_type": "code",
   "execution_count": 24,
   "id": "87b9595b",
   "metadata": {
    "execution": {
     "iopub.execute_input": "2022-03-26T20:50:04.226640Z",
     "iopub.status.busy": "2022-03-26T20:50:04.221853Z",
     "iopub.status.idle": "2022-03-26T20:52:36.333916Z",
     "shell.execute_reply": "2022-03-26T20:52:36.334274Z"
    },
    "papermill": {
     "duration": 152.146985,
     "end_time": "2022-03-26T20:52:36.334390",
     "exception": false,
     "start_time": "2022-03-26T20:50:04.187405",
     "status": "completed"
    },
    "tags": []
   },
   "outputs": [],
   "source": [
    "###################################\n",
    "# Evaluate the model\n",
    "###################################\n",
    "source_test_label_accuracy, source_test_label_loss = jig.test(datasets.source.processed.test)\n",
    "target_test_label_accuracy, target_test_label_loss = jig.test(datasets.target.processed.test)\n",
    "\n",
    "source_val_label_accuracy, source_val_label_loss = jig.test(datasets.source.processed.val)\n",
    "target_val_label_accuracy, target_val_label_loss = jig.test(datasets.target.processed.val)\n",
    "\n",
    "history = jig.get_history()\n",
    "\n",
    "total_epochs_trained = len(history[\"epoch_indices\"])\n",
    "\n",
    "val_dl = Iterable_Aggregator((datasets.source.original.val,datasets.target.original.val))\n",
    "\n",
    "confusion = ptn_confusion_by_domain_over_dataloader(model, p.device, val_dl)\n",
    "per_domain_accuracy = per_domain_accuracy_from_confusion(confusion)\n",
    "\n",
    "# Add a key to per_domain_accuracy for if it was a source domain\n",
    "for domain, accuracy in per_domain_accuracy.items():\n",
    "    per_domain_accuracy[domain] = {\n",
    "        \"accuracy\": accuracy,\n",
    "        \"source?\": domain in p.domains_source\n",
    "    }\n",
    "\n",
    "# Do an independent accuracy assesment JUST TO BE SURE!\n",
    "# _source_test_label_accuracy = independent_accuracy_assesment(model, datasets.source.processed.test, p.device)\n",
    "# _target_test_label_accuracy = independent_accuracy_assesment(model, datasets.target.processed.test, p.device)\n",
    "# _source_val_label_accuracy = independent_accuracy_assesment(model, datasets.source.processed.val, p.device)\n",
    "# _target_val_label_accuracy = independent_accuracy_assesment(model, datasets.target.processed.val, p.device)\n",
    "\n",
    "# assert(_source_test_label_accuracy == source_test_label_accuracy)\n",
    "# assert(_target_test_label_accuracy == target_test_label_accuracy)\n",
    "# assert(_source_val_label_accuracy == source_val_label_accuracy)\n",
    "# assert(_target_val_label_accuracy == target_val_label_accuracy)\n",
    "\n",
    "experiment = {\n",
    "    \"experiment_name\": p.experiment_name,\n",
    "    \"parameters\": dict(p),\n",
    "    \"results\": {\n",
    "        \"source_test_label_accuracy\": source_test_label_accuracy,\n",
    "        \"source_test_label_loss\": source_test_label_loss,\n",
    "        \"target_test_label_accuracy\": target_test_label_accuracy,\n",
    "        \"target_test_label_loss\": target_test_label_loss,\n",
    "        \"source_val_label_accuracy\": source_val_label_accuracy,\n",
    "        \"source_val_label_loss\": source_val_label_loss,\n",
    "        \"target_val_label_accuracy\": target_val_label_accuracy,\n",
    "        \"target_val_label_loss\": target_val_label_loss,\n",
    "        \"total_epochs_trained\": total_epochs_trained,\n",
    "        \"total_experiment_time_secs\": total_experiment_time_secs,\n",
    "        \"confusion\": confusion,\n",
    "        \"per_domain_accuracy\": per_domain_accuracy,\n",
    "    },\n",
    "    \"history\": history,\n",
    "    \"dataset_metrics\": get_dataset_metrics(datasets, \"ptn\"),\n",
    "}"
   ]
  },
  {
   "cell_type": "code",
   "execution_count": 25,
   "id": "54a21829",
   "metadata": {
    "execution": {
     "iopub.execute_input": "2022-03-26T20:52:36.410168Z",
     "iopub.status.busy": "2022-03-26T20:52:36.409443Z",
     "iopub.status.idle": "2022-03-26T20:52:36.541317Z",
     "shell.execute_reply": "2022-03-26T20:52:36.541753Z"
    },
    "papermill": {
     "duration": 0.167756,
     "end_time": "2022-03-26T20:52:36.541891",
     "exception": false,
     "start_time": "2022-03-26T20:52:36.374135",
     "status": "completed"
    },
    "tags": []
   },
   "outputs": [
    {
     "data": {
      "image/png": "[encoded data removed]",
      "text/plain": [
       "<Figure size 1080x504 with 1 Axes>"
      ]
     },
     "metadata": {
      "needs_background": "light"
     },
     "output_type": "display_data"
    }
   ],
   "source": [
    "ax = get_loss_curve(experiment)\n",
    "plt.show()"
   ]
  },
  {
   "cell_type": "code",
   "execution_count": 26,
   "id": "fd8a0f60",
   "metadata": {
    "execution": {
     "iopub.execute_input": "2022-03-26T20:52:36.626696Z",
     "iopub.status.busy": "2022-03-26T20:52:36.625295Z",
     "iopub.status.idle": "2022-03-26T20:52:36.790619Z",
     "shell.execute_reply": "2022-03-26T20:52:36.790334Z"
    },
    "papermill": {
     "duration": 0.201395,
     "end_time": "2022-03-26T20:52:36.790683",
     "exception": false,
     "start_time": "2022-03-26T20:52:36.589288",
     "status": "completed"
    },
    "tags": []
   },
   "outputs": [
    {
     "data": {
      "text/plain": [
       "<AxesSubplot:title={'center':'Results'}>"
      ]
     },
     "execution_count": 26,
     "metadata": {},
     "output_type": "execute_result"
    },
    {
     "data": {
      "image/png": "[encoded data removed]",
      "text/plain": [
       "<Figure size 1080x504 with 1 Axes>"
      ]
     },
     "metadata": {
      "needs_background": "light"
     },
     "output_type": "display_data"
    }
   ],
   "source": [
    "get_results_table(experiment)"
   ]
  },
  {
   "cell_type": "code",
   "execution_count": 27,
   "id": "cf8dc689",
   "metadata": {
    "execution": {
     "iopub.execute_input": "2022-03-26T20:52:36.864900Z",
     "iopub.status.busy": "2022-03-26T20:52:36.864503Z",
     "iopub.status.idle": "2022-03-26T20:52:37.000730Z",
     "shell.execute_reply": "2022-03-26T20:52:37.000445Z"
    },
    "papermill": {
     "duration": 0.173803,
     "end_time": "2022-03-26T20:52:37.000794",
     "exception": false,
     "start_time": "2022-03-26T20:52:36.826991",
     "status": "completed"
    },
    "tags": []
   },
   "outputs": [
    {
     "data": {
      "text/plain": [
       "<AxesSubplot:title={'center':'Per Domain Validation Accuracy'}, xlabel='domain'>"
      ]
     },
     "execution_count": 27,
     "metadata": {},
     "output_type": "execute_result"
    },
    {
     "data": {
      "image/png": "[encoded data removed]",
      "text/plain": [
       "<Figure size 1080x504 with 1 Axes>"
      ]
     },
     "metadata": {
      "needs_background": "light"
     },
     "output_type": "display_data"
    }
   ],
   "source": [
    "get_domain_accuracies(experiment)"
   ]
  },
  {
   "cell_type": "code",
   "execution_count": 28,
   "id": "a74ae082",
   "metadata": {
    "execution": {
     "iopub.execute_input": "2022-03-26T20:52:37.076136Z",
     "iopub.status.busy": "2022-03-26T20:52:37.075727Z",
     "iopub.status.idle": "2022-03-26T20:52:37.089393Z",
     "shell.execute_reply": "2022-03-26T20:52:37.089121Z"
    },
    "papermill": {
     "duration": 0.051924,
     "end_time": "2022-03-26T20:52:37.089455",
     "exception": false,
     "start_time": "2022-03-26T20:52:37.037531",
     "status": "completed"
    },
    "tags": []
   },
   "outputs": [
    {
     "name": "stdout",
     "output_type": "stream",
     "text": [
      "Source Test Label Accuracy: 0.9990124153498872 Target Test Label Accuracy: 0.3683268229166667\n",
      "Source Val Label Accuracy: 0.9993928571428572 Target Val Label Accuracy: 0.375\n"
     ]
    }
   ],
   "source": [
    "print(\"Source Test Label Accuracy:\", experiment[\"results\"][\"source_test_label_accuracy\"], \"Target Test Label Accuracy:\", experiment[\"results\"][\"target_test_label_accuracy\"])\n",
    "print(\"Source Val Label Accuracy:\", experiment[\"results\"][\"source_val_label_accuracy\"], \"Target Val Label Accuracy:\", experiment[\"results\"][\"target_val_label_accuracy\"])"
   ]
  },
  {
   "cell_type": "code",
   "execution_count": 29,
   "id": "dacca602",
   "metadata": {
    "execution": {
     "iopub.execute_input": "2022-03-26T20:52:37.164337Z",
     "iopub.status.busy": "2022-03-26T20:52:37.163938Z",
     "iopub.status.idle": "2022-03-26T20:52:37.178200Z",
     "shell.execute_reply": "2022-03-26T20:52:37.178420Z"
    },
    "papermill": {
     "duration": 0.052575,
     "end_time": "2022-03-26T20:52:37.178495",
     "exception": false,
     "start_time": "2022-03-26T20:52:37.125920",
     "status": "completed"
    },
    "tags": [
     "experiment_json"
    ]
   },
   "outputs": [
    {
     "data": {
      "text/plain": [
       "'{\"experiment_name\": \"tl_3-jitter1v2:cores -> oracle.run1.framed\", \"parameters\": {\"experiment_name\": \"tl_3-jitter1v2:cores -> oracle.run1.framed\", \"device\": \"cuda\", \"lr\": 0.0001, \"x_shape\": [2, 256], \"n_shot\": 3, \"n_query\": 2, \"train_k_factor\": 3, \"val_k_factor\": 2, \"test_k_factor\": 2, \"torch_default_dtype\": \"torch.float32\", \"n_epoch\": 50, \"patience\": 3, \"criteria_for_best\": \"target_accuracy\", \"x_net\": [{\"class\": \"nnReshape\", \"kargs\": {\"shape\": [-1, 1, 2, 256]}}, {\"class\": \"Conv2d\", \"kargs\": {\"in_channels\": 1, \"out_channels\": 256, \"kernel_size\": [1, 7], \"bias\": false, \"padding\": [0, 3]}}, {\"class\": \"ReLU\", \"kargs\": {\"inplace\": true}}, {\"class\": \"BatchNorm2d\", \"kargs\": {\"num_features\": 256}}, {\"class\": \"Conv2d\", \"kargs\": {\"in_channels\": 256, \"out_channels\": 80, \"kernel_size\": [2, 7], \"bias\": true, \"padding\": [0, 3]}}, {\"class\": \"ReLU\", \"kargs\": {\"inplace\": true}}, {\"class\": \"BatchNorm2d\", \"kargs\": {\"num_features\": 80}}, {\"class\": \"Flatten\", \"kargs\": {}}, {\"class\": \"Linear\", \"kargs\": {\"in_features\": 20480, \"out_features\": 256}}, {\"class\": \"ReLU\", \"kargs\": {\"inplace\": true}}, {\"class\": \"BatchNorm1d\", \"kargs\": {\"num_features\": 256}}, {\"class\": \"Linear\", \"kargs\": {\"in_features\": 256, \"out_features\": 256}}], \"NUM_LOGS_PER_EPOCH\": 10, \"BEST_MODEL_PATH\": \"./best_model.pth\", \"n_way\": 16, \"datasets\": [{\"labels\": [\"1-10.\", \"1-11.\", \"1-15.\", \"1-16.\", \"1-17.\", \"1-18.\", \"1-19.\", \"10-4.\", \"10-7.\", \"11-1.\", \"11-14.\", \"11-17.\", \"11-20.\", \"11-7.\", \"13-20.\", \"13-8.\", \"14-10.\", \"14-11.\", \"14-14.\", \"14-7.\", \"15-1.\", \"15-20.\", \"16-1.\", \"16-16.\", \"17-10.\", \"17-11.\", \"17-2.\", \"19-1.\", \"19-16.\", \"19-19.\", \"19-20.\", \"19-3.\", \"2-10.\", \"2-11.\", \"2-17.\", \"2-18.\", \"2-20.\", \"2-3.\", \"2-4.\", \"2-5.\", \"2-6.\", \"2-7.\", \"2-8.\", \"3-13.\", \"3-18.\", \"3-3.\", \"4-1.\", \"4-10.\", \"4-11.\", \"4-19.\", \"5-5.\", \"6-15.\", \"7-10.\", \"7-14.\", \"8-18.\", \"8-20.\", \"8-3.\", \"8-8.\"], \"domains\": [1, 2, 3, 4, 5], \"num_examples_per_domain_per_label\": -1, \"pickle_path\": \"/mnt/wd500GB/CSC500/csc500-main/datasets/cores.stratified_ds.2022A.pkl\", \"source_or_target_dataset\": \"source\", \"x_transforms\": [\"unit_mag\", \"jitter_256_1\", \"lowpass_+/-10MHz\", \"take_200\"], \"episode_transforms\": [], \"domain_prefix\": \"C_\"}, {\"labels\": [\"3123D52\", \"3123D65\", \"3123D79\", \"3123D80\", \"3123D54\", \"3123D70\", \"3123D7B\", \"3123D89\", \"3123D58\", \"3123D76\", \"3123D7D\", \"3123EFE\", \"3123D64\", \"3123D78\", \"3123D7E\", \"3124E4A\"], \"domains\": [32, 38, 8, 44, 14, 50, 20, 26], \"num_examples_per_domain_per_label\": 2000, \"pickle_path\": \"/mnt/wd500GB/CSC500/csc500-main/datasets/oracle.Run1_framed_2000Examples_stratified_ds.2022A.pkl\", \"source_or_target_dataset\": \"target\", \"x_transforms\": [\"unit_mag\", \"jitter_256_1\", \"take_200\", \"resample_20Msps_to_25Msps\"], \"episode_transforms\": [], \"domain_prefix\": \"O_\"}], \"seed\": 420, \"dataset_seed\": 420, \"domains_source\": [\"C_1\", \"C_2\", \"C_3\", \"C_4\", \"C_5\"], \"domains_target\": [\"O_32\", \"O_38\", \"O_8\", \"O_44\", \"O_14\", \"O_50\", \"O_20\", \"O_26\"]}, \"results\": {\"source_test_label_accuracy\": 0.9990124153498872, \"source_test_label_loss\": 0.009121286682784557, \"target_test_label_accuracy\": 0.3683268229166667, \"target_test_label_loss\": 2.115361213684082, \"source_val_label_accuracy\": 0.9993928571428572, \"source_val_label_loss\": 0.07287511229515076, \"target_val_label_accuracy\": 0.375, \"target_val_label_loss\": 2.092986822128296, \"total_epochs_trained\": 9, \"total_experiment_time_secs\": 2839.061502456665, \"confusion\": {\"C_4\": {\"42\": {\"42\": 32}, \"0\": {\"0\": 80}, \"1\": {\"1\": 40}, \"39\": {\"39\": 20}, \"28\": {\"28\": 32}, \"53\": {\"53\": 124}, \"19\": {\"19\": 144}, \"34\": {\"34\": 24}, \"33\": {\"33\": 36}, \"32\": {\"32\": 24}, \"10\": {\"10\": 136}, \"46\": {\"32\": 1, \"46\": 133}, \"20\": {\"20\": 122}, \"5\": {\"5\": 108}, \"40\": {\"40\": 124}, \"51\": {\"51\": 144}, \"37\": {\"37\": 24}, \"17\": {\"17\": 80}, \"45\": {\"45\": 96}, \"13\": {\"13\": 142}, \"27\": {\"27\": 144}, \"24\": {\"24\": 56}, \"30\": {\"30\": 44}, \"31\": {\"31\": 28}, \"41\": {\"41\": 34, \"10\": 1, \"13\": 1}, \"36\": {\"36\": 92}, \"16\": {\"16\": 96}, \"22\": {\"22\": 128}, \"44\": {\"44\": 132}, \"9\": {\"9\": 140}, \"57\": {\"57\": 100}, \"8\": {\"8\": 138}, \"23\": {\"23\": 132}, \"47\": {\"47\": 120}, \"43\": {\"43\": 138}, \"49\": {\"49\": 20}, \"3\": {\"3\": 123, \"50\": 1}, \"12\": {\"12\": 92}, \"38\": {\"38\": 40}, \"7\": {\"7\": 24}, \"14\": {\"14\": 16}, \"15\": {\"15\": 146}, \"25\": {\"25\": 128}, \"26\": {\"26\": 24}, \"21\": {\"21\": 132}, \"48\": {\"48\": 144}, \"56\": {\"56\": 134}, \"11\": {\"11\": 104}, \"2\": {\"2\": 36}, \"6\": {\"6\": 111, \"3\": 1}, \"55\": {\"55\": 140}, \"54\": {\"54\": 108}, \"29\": {\"29\": 124}, \"50\": {\"50\": 121, \"3\": 1}, \"52\": {\"52\": 116}, \"35\": {\"35\": 40}, \"4\": {\"4\": 120}, \"18\": {\"18\": 108}}, \"C_5\": {\"43\": {\"43\": 152}, \"35\": {\"35\": 36}, \"54\": {\"54\": 112}, \"22\": {\"22\": 28}, \"16\": {\"16\": 146}, \"5\": {\"5\": 128}, \"28\": {\"28\": 32}, \"14\": {\"14\": 43, \"46\": 1}, \"51\": {\"51\": 128}, \"19\": {\"19\": 140}, \"31\": {\"31\": 36}, \"10\": {\"10\": 68}, \"21\": {\"21\": 136}, \"3\": {\"3\": 99, \"56\": 1}, \"57\": {\"57\": 132}, \"9\": {\"9\": 146}, \"8\": {\"8\": 132}, \"46\": {\"46\": 140}, \"23\": {\"23\": 124}, \"37\": {\"37\": 24}, \"34\": {\"34\": 36}, \"4\": {\"4\": 100}, \"6\": {\"6\": 128}, \"48\": {\"48\": 136}, \"44\": {\"44\": 138}, \"40\": {\"40\": 124}, \"12\": {\"12\": 96}, \"30\": {\"30\": 128}, \"39\": {\"39\": 20}, \"45\": {\"45\": 123, \"17\": 1}, \"36\": {\"36\": 92}, \"27\": {\"27\": 140}, \"32\": {\"32\": 32}, \"52\": {\"52\": 130}, \"0\": {\"0\": 124}, \"26\": {\"26\": 24}, \"1\": {\"1\": 148}, \"53\": {\"53\": 146}, \"25\": {\"25\": 144}, \"24\": {\"24\": 80}, \"7\": {\"7\": 32}, \"18\": {\"18\": 64}, \"20\": {\"20\": 144}, \"33\": {\"33\": 32}, \"55\": {\"55\": 140}, \"41\": {\"41\": 28}, \"42\": {\"42\": 39, \"14\": 1}, \"49\": {\"49\": 36}, \"13\": {\"13\": 148}, \"38\": {\"38\": 32}, \"2\": {\"2\": 28}, \"47\": {\"47\": 100}, \"17\": {\"17\": 116}, \"11\": {\"11\": 154}, \"29\": {\"29\": 132}, \"50\": {\"50\": 138}, \"56\": {\"56\": 148}, \"15\": {\"15\": 142}}, \"C_2\": {\"49\": {\"49\": 24}, \"13\": {\"13\": 116}, \"37\": {\"37\": 36}, \"41\": {\"41\": 20}, \"15\": {\"15\": 142}, \"56\": {\"56\": 142}, \"14\": {\"14\": 24}, \"3\": {\"3\": 92}, \"38\": {\"38\": 20}, \"43\": {\"43\": 138}, \"33\": {\"33\": 28}, \"47\": {\"47\": 138}, \"30\": {\"30\": 144}, \"39\": {\"39\": 28}, \"12\": {\"12\": 92}, \"6\": {\"6\": 124}, \"51\": {\"51\": 134}, \"5\": {\"5\": 120}, \"34\": {\"34\": 28}, \"35\": {\"35\": 32}, \"0\": {\"0\": 48}, \"7\": {\"7\": 36}, \"24\": {\"24\": 96}, \"8\": {\"8\": 136}, \"20\": {\"20\": 124}, \"36\": {\"36\": 116}, \"42\": {\"42\": 36}, \"1\": {\"1\": 112}, \"4\": {\"4\": 148}, \"28\": {\"28\": 28}, \"50\": {\"50\": 136}, \"45\": {\"45\": 128}, \"18\": {\"18\": 48}, \"57\": {\"57\": 120}, \"46\": {\"46\": 128}, \"23\": {\"23\": 148}, \"27\": {\"27\": 138}, \"19\": {\"19\": 134}, \"22\": {\"22\": 136}, \"17\": {\"17\": 104}, \"55\": {\"55\": 136}, \"44\": {\"44\": 100}, \"26\": {\"26\": 24}, \"31\": {\"31\": 28}, \"16\": {\"16\": 130}, \"11\": {\"11\": 128}, \"25\": {\"25\": 126}, \"54\": {\"54\": 108}, \"32\": {\"32\": 28}, \"52\": {\"52\": 124}, \"40\": {\"40\": 132}, \"2\": {\"2\": 32}, \"10\": {\"10\": 110}, \"53\": {\"53\": 136}, \"9\": {\"9\": 150}, \"21\": {\"21\": 120}, \"48\": {\"48\": 138}, \"29\": {\"29\": 128}}, \"C_1\": {\"9\": {\"9\": 142}, \"25\": {\"25\": 128}, \"41\": {\"41\": 24}, \"29\": {\"29\": 140}, \"46\": {\"46\": 128}, \"4\": {\"4\": 132}, \"31\": {\"31\": 27, \"11\": 1}, \"36\": {\"36\": 64}, \"20\": {\"20\": 128}, \"7\": {\"7\": 28}, \"6\": {\"6\": 96}, \"16\": {\"16\": 138}, \"17\": {\"17\": 64}, \"50\": {\"50\": 148}, \"57\": {\"57\": 144}, \"23\": {\"23\": 136}, \"3\": {\"3\": 126}, \"53\": {\"53\": 140}, \"49\": {\"49\": 32}, \"56\": {\"56\": 152}, \"51\": {\"51\": 142}, \"26\": {\"26\": 24}, \"43\": {\"43\": 144}, \"22\": {\"22\": 136}, \"45\": {\"45\": 146}, \"13\": {\"13\": 152}, \"12\": {\"12\": 116}, \"54\": {\"54\": 104}, \"24\": {\"24\": 108}, \"44\": {\"44\": 136}, \"28\": {\"28\": 28}, \"33\": {\"33\": 32}, \"38\": {\"38\": 24}, \"0\": {\"0\": 144}, \"47\": {\"47\": 154}, \"42\": {\"42\": 40}, \"34\": {\"34\": 24}, \"48\": {\"48\": 142}, \"35\": {\"35\": 36}, \"2\": {\"2\": 36}, \"30\": {\"30\": 120}, \"18\": {\"18\": 72}, \"37\": {\"37\": 32}, \"1\": {\"1\": 100}, \"11\": {\"11\": 138}, \"55\": {\"55\": 130}, \"15\": {\"15\": 150}, \"10\": {\"10\": 96}, \"27\": {\"27\": 160}, \"19\": {\"19\": 146}, \"14\": {\"14\": 24}, \"8\": {\"8\": 140}, \"5\": {\"5\": 136}, \"39\": {\"39\": 28}, \"52\": {\"52\": 122}, \"21\": {\"21\": 124}, \"40\": {\"40\": 152}, \"32\": {\"32\": 32}}, \"C_3\": {\"56\": {\"56\": 120}, \"4\": {\"4\": 146}, \"34\": {\"34\": 32}, \"52\": {\"52\": 136}, \"32\": {\"32\": 28}, \"46\": {\"46\": 136}, \"12\": {\"12\": 91, \"51\": 1}, \"20\": {\"20\": 132}, \"54\": {\"54\": 100}, \"22\": {\"22\": 140}, \"26\": {\"26\": 24}, \"31\": {\"31\": 28}, \"10\": {\"10\": 64}, \"27\": {\"27\": 144}, \"40\": {\"40\": 136}, \"28\": {\"28\": 28}, \"5\": {\"5\": 116}, \"30\": {\"30\": 120}, \"7\": {\"7\": 36}, \"18\": {\"18\": 84}, \"39\": {\"39\": 16}, \"50\": {\"50\": 136}, \"49\": {\"49\": 20}, \"43\": {\"43\": 122}, \"29\": {\"29\": 114}, \"35\": {\"35\": 28}, \"13\": {\"13\": 122, \"43\": 2}, \"36\": {\"36\": 100}, \"11\": {\"11\": 146}, \"57\": {\"57\": 124}, \"9\": {\"9\": 130}, \"25\": {\"25\": 130}, \"16\": {\"16\": 126}, \"53\": {\"53\": 118}, \"33\": {\"33\": 28}, \"51\": {\"51\": 128}, \"44\": {\"44\": 88}, \"48\": {\"48\": 114}, \"6\": {\"6\": 87, \"52\": 1}, \"23\": {\"23\": 144}, \"1\": {\"1\": 100}, \"17\": {\"38\": 1, \"41\": 1, \"17\": 106}, \"21\": {\"21\": 122}, \"14\": {\"14\": 40}, \"55\": {\"55\": 144}, \"41\": {\"41\": 28}, \"3\": {\"3\": 138}, \"38\": {\"38\": 28}, \"2\": {\"2\": 32}, \"8\": {\"8\": 142}, \"37\": {\"37\": 28}, \"45\": {\"45\": 60}, \"42\": {\"42\": 28}, \"24\": {\"24\": 104}, \"15\": {\"15\": 136}, \"0\": {\"0\": 124}, \"47\": {\"47\": 92}, \"19\": {\"19\": 120}}, \"O_14\": {\"15\": {\"15\": 110, \"7\": 67, \"5\": 22, \"2\": 14, \"6\": 5, \"1\": 9, \"13\": 8, \"14\": 2, \"4\": 3}, \"5\": {\"15\": 13, \"5\": 56, \"2\": 31, \"1\": 49, \"3\": 23, \"4\": 38, \"7\": 7, \"13\": 6, \"14\": 12, \"6\": 4, \"0\": 1}, \"7\": {\"15\": 64, \"7\": 128, \"1\": 24, \"5\": 20, \"4\": 2, \"2\": 1, \"8\": 1}, \"4\": {\"4\": 52, \"1\": 16, \"2\": 26, \"5\": 43, \"3\": 50, \"6\": 15, \"14\": 7, \"0\": 16, \"10\": 4, \"13\": 8, \"7\": 1, \"15\": 1, \"8\": 1}, \"10\": {\"10\": 99, \"11\": 35, \"4\": 5, \"0\": 56, \"6\": 5, \"3\": 21, \"2\": 2, \"14\": 9, \"9\": 4, \"13\": 4}, \"11\": {\"0\": 36, \"11\": 122, \"14\": 3, \"13\": 2, \"12\": 11, \"10\": 34, \"9\": 25, \"6\": 2, \"3\": 2, \"2\": 2, \"4\": 1}, \"12\": {\"12\": 179, \"9\": 54, \"11\": 4, \"10\": 1, \"0\": 2}, \"0\": {\"0\": 76, \"8\": 5, \"11\": 39, \"9\": 13, \"3\": 27, \"4\": 7, \"10\": 46, \"14\": 13, \"6\": 6, \"13\": 2, \"2\": 5, \"1\": 1}, \"14\": {\"2\": 34, \"14\": 66, \"0\": 7, \"6\": 41, \"5\": 16, \"13\": 37, \"3\": 22, \"11\": 2, \"4\": 8, \"10\": 6, \"1\": 1}, \"8\": {\"8\": 189, \"1\": 18, \"3\": 5, \"5\": 6, \"0\": 7, \"4\": 5, \"9\": 10}, \"13\": {\"6\": 59, \"14\": 30, \"2\": 32, \"13\": 73, \"10\": 5, \"4\": 16, \"5\": 8, \"3\": 9, \"1\": 1, \"0\": 4, \"11\": 2, \"15\": 1}, \"6\": {\"6\": 84, \"14\": 42, \"4\": 7, \"13\": 58, \"2\": 27, \"5\": 9, \"10\": 2, \"3\": 10, \"11\": 1}, \"1\": {\"5\": 49, \"15\": 12, \"1\": 100, \"4\": 23, \"0\": 2, \"3\": 13, \"7\": 14, \"6\": 2, \"2\": 10, \"8\": 14, \"14\": 1}, \"3\": {\"5\": 26, \"14\": 21, \"2\": 28, \"0\": 37, \"3\": 52, \"4\": 38, \"10\": 10, \"1\": 10, \"6\": 9, \"8\": 2, \"13\": 7}, \"9\": {\"12\": 37, \"9\": 134, \"11\": 28, \"8\": 8, \"0\": 24, \"10\": 9}, \"2\": {\"3\": 12, \"13\": 19, \"2\": 48, \"14\": 28, \"5\": 45, \"15\": 10, \"4\": 29, \"6\": 34, \"8\": 1, \"7\": 1, \"1\": 7, \"0\": 5, \"10\": 1}}, \"O_20\": {\"4\": {\"2\": 8, \"3\": 15, \"4\": 54, \"8\": 29, \"9\": 10, \"12\": 11, \"10\": 28, \"5\": 22, \"14\": 16, \"1\": 3, \"7\": 17, \"0\": 13, \"6\": 11, \"15\": 3}, \"10\": {\"8\": 27, \"3\": 17, \"12\": 10, \"14\": 19, \"10\": 55, \"9\": 8, \"4\": 53, \"7\": 18, \"6\": 21, \"5\": 5, \"2\": 3, \"0\": 3, \"15\": 1}, \"15\": {\"0\": 34, \"12\": 24, \"1\": 43, \"4\": 3, \"2\": 16, \"13\": 28, \"9\": 18, \"7\": 7, \"15\": 28, \"5\": 22, \"3\": 13, \"8\": 3, \"11\": 1}, \"0\": {\"1\": 16, \"2\": 13, \"5\": 35, \"14\": 1, \"9\": 18, \"4\": 12, \"13\": 10, \"0\": 53, \"12\": 20, \"8\": 13, \"3\": 12, \"7\": 13, \"15\": 21, \"10\": 3}, \"6\": {\"13\": 2, \"6\": 81, \"3\": 6, \"7\": 18, \"14\": 42, \"11\": 13, \"8\": 34, \"4\": 10, \"10\": 23, \"9\": 2, \"2\": 7, \"12\": 2}, \"3\": {\"2\": 30, \"9\": 29, \"5\": 18, \"4\": 13, \"10\": 11, \"12\": 19, \"14\": 3, \"8\": 8, \"11\": 1, \"15\": 20, \"7\": 21, \"0\": 24, \"13\": 8, \"1\": 18, \"3\": 15, \"6\": 2}, \"7\": {\"13\": 13, \"4\": 10, \"7\": 33, \"0\": 16, \"9\": 18, \"6\": 18, \"8\": 20, \"3\": 24, \"2\": 31, \"14\": 5, \"10\": 19, \"11\": 5, \"15\": 3, \"5\": 9, \"12\": 12, \"1\": 4}, \"2\": {\"4\": 6, \"7\": 28, \"0\": 20, \"5\": 16, \"1\": 11, \"13\": 27, \"12\": 22, \"9\": 25, \"2\": 33, \"10\": 4, \"15\": 12, \"6\": 4, \"8\": 5, \"3\": 16, \"11\": 10, \"14\": 1}, \"8\": {\"14\": 31, \"7\": 26, \"12\": 9, \"6\": 35, \"8\": 38, \"4\": 22, \"10\": 22, \"0\": 11, \"2\": 12, \"3\": 12, \"9\": 7, \"5\": 10, \"11\": 1, \"13\": 3, \"1\": 1}, \"11\": {\"11\": 163, \"2\": 10, \"13\": 21, \"7\": 16, \"6\": 16, \"8\": 4, \"0\": 1, \"14\": 3, \"9\": 4, \"3\": 2}, \"14\": {\"14\": 55, \"6\": 54, \"4\": 18, \"9\": 3, \"10\": 48, \"8\": 32, \"2\": 2, \"0\": 2, \"3\": 7, \"7\": 15, \"5\": 2, \"12\": 1, \"15\": 1}, \"12\": {\"2\": 13, \"7\": 6, \"9\": 28, \"4\": 18, \"1\": 23, \"3\": 24, \"15\": 22, \"5\": 32, \"0\": 35, \"12\": 21, \"6\": 2, \"13\": 4, \"10\": 3, \"8\": 8, \"11\": 1}, \"13\": {\"2\": 22, \"13\": 74, \"1\": 15, \"3\": 9, \"11\": 17, \"15\": 24, \"7\": 13, \"9\": 24, \"0\": 18, \"10\": 1, \"8\": 5, \"5\": 6, \"12\": 9, \"4\": 2, \"6\": 1}, \"9\": {\"2\": 32, \"12\": 25, \"3\": 22, \"7\": 21, \"9\": 30, \"13\": 13, \"4\": 8, \"10\": 4, \"14\": 2, \"1\": 16, \"8\": 9, \"5\": 19, \"15\": 20, \"6\": 3, \"0\": 15, \"11\": 1}, \"5\": {\"1\": 22, \"12\": 31, \"5\": 32, \"7\": 12, \"10\": 5, \"8\": 5, \"4\": 9, \"0\": 29, \"9\": 16, \"3\": 17, \"13\": 15, \"14\": 2, \"2\": 15, \"15\": 29, \"6\": 1}, \"1\": {\"1\": 31, \"13\": 20, \"12\": 26, \"2\": 15, \"4\": 6, \"0\": 25, \"5\": 27, \"9\": 30, \"15\": 38, \"7\": 4, \"3\": 18}}, \"O_50\": {\"5\": {\"10\": 21, \"7\": 49, \"13\": 49, \"5\": 51, \"6\": 18, \"4\": 28, \"0\": 3, \"8\": 4, \"1\": 8, \"2\": 2, \"15\": 6, \"3\": 1}, \"12\": {\"9\": 50, \"12\": 134, \"11\": 22, \"14\": 34}, \"14\": {\"14\": 117, \"9\": 24, \"12\": 54, \"11\": 30, \"1\": 4, \"2\": 5, \"0\": 2, \"6\": 1, \"15\": 3}, \"4\": {\"4\": 46, \"7\": 12, \"6\": 32, \"15\": 40, \"1\": 47, \"5\": 22, \"11\": 7, \"13\": 21, \"14\": 3, \"2\": 2, \"0\": 6, \"10\": 1, \"9\": 1}, \"13\": {\"10\": 18, \"7\": 52, \"13\": 74, \"5\": 45, \"6\": 22, \"1\": 5, \"4\": 17, \"2\": 1, \"8\": 1, \"0\": 4, \"15\": 1}, \"10\": {\"7\": 22, \"13\": 22, \"10\": 100, \"0\": 27, \"5\": 19, \"8\": 37, \"2\": 7, \"4\": 2, \"3\": 3, \"6\": 1}, \"9\": {\"12\": 44, \"9\": 96, \"11\": 66, \"14\": 28, \"4\": 3, \"1\": 1, \"15\": 2}, \"15\": {\"15\": 97, \"4\": 28, \"1\": 52, \"6\": 24, \"11\": 26, \"9\": 3, \"14\": 7, \"12\": 1, \"13\": 1, \"2\": 1}, \"6\": {\"13\": 38, \"6\": 62, \"4\": 32, \"10\": 2, \"0\": 9, \"1\": 36, \"5\": 12, \"15\": 30, \"7\": 10, \"11\": 3, \"14\": 3, \"2\": 3}, \"2\": {\"2\": 142, \"1\": 2, \"0\": 79, \"14\": 9, \"6\": 2, \"10\": 3, \"15\": 1, \"8\": 1, \"4\": 1}, \"0\": {\"0\": 111, \"10\": 36, \"2\": 75, \"5\": 3, \"8\": 3, \"13\": 5, \"4\": 3, \"1\": 1, \"6\": 2, \"7\": 1}, \"11\": {\"9\": 56, \"11\": 99, \"15\": 26, \"12\": 5, \"4\": 6, \"14\": 31, \"1\": 12, \"2\": 2, \"6\": 3}, \"3\": {\"8\": 41, \"3\": 195, \"10\": 3, \"13\": 1}, \"8\": {\"8\": 166, \"0\": 5, \"3\": 30, \"10\": 34, \"13\": 1, \"7\": 3, \"5\": 1}, \"7\": {\"13\": 62, \"5\": 42, \"6\": 14, \"7\": 78, \"3\": 1, \"4\": 7, \"0\": 5, \"10\": 26, \"8\": 4, \"1\": 1}, \"1\": {\"1\": 71, \"15\": 44, \"5\": 10, \"4\": 39, \"13\": 16, \"11\": 11, \"2\": 6, \"6\": 31, \"14\": 5, \"0\": 2, \"9\": 3, \"10\": 1, \"7\": 1}}, \"O_26\": {\"7\": {\"7\": 36, \"2\": 21, \"6\": 9, \"3\": 38, \"8\": 15, \"4\": 26, \"10\": 13, \"14\": 23, \"9\": 14, \"13\": 4, \"15\": 20, \"0\": 13, \"1\": 7, \"5\": 1}, \"6\": {\"5\": 10, \"10\": 25, \"15\": 12, \"7\": 17, \"2\": 8, \"6\": 41, \"9\": 30, \"0\": 25, \"8\": 22, \"3\": 5, \"1\": 6, \"12\": 9, \"14\": 11, \"13\": 11, \"4\": 8}, \"14\": {\"4\": 39, \"6\": 15, \"1\": 42, \"2\": 7, \"7\": 16, \"10\": 22, \"0\": 26, \"14\": 32, \"8\": 15, \"15\": 5, \"9\": 8, \"5\": 4, \"3\": 7, \"13\": 2}, \"15\": {\"15\": 45, \"5\": 17, \"3\": 12, \"2\": 32, \"6\": 24, \"10\": 11, \"7\": 15, \"13\": 24, \"0\": 14, \"8\": 16, \"9\": 22, \"4\": 3, \"14\": 3, \"1\": 2}, \"5\": {\"5\": 33, \"15\": 34, \"6\": 18, \"13\": 43, \"2\": 21, \"9\": 25, \"3\": 10, \"10\": 7, \"14\": 5, \"1\": 3, \"8\": 19, \"0\": 9, \"7\": 9, \"4\": 4}, \"10\": {\"4\": 29, \"14\": 25, \"10\": 34, \"6\": 29, \"7\": 13, \"8\": 20, \"9\": 11, \"0\": 28, \"15\": 10, \"3\": 7, \"1\": 16, \"12\": 5, \"2\": 8, \"5\": 2, \"13\": 3}, \"4\": {\"14\": 29, \"7\": 20, \"6\": 16, \"1\": 25, \"0\": 33, \"10\": 24, \"2\": 11, \"8\": 20, \"4\": 37, \"3\": 6, \"15\": 7, \"9\": 10, \"5\": 1, \"13\": 1}, \"11\": {\"11\": 221, \"12\": 14, \"13\": 3, \"5\": 1, \"9\": 1}, \"13\": {\"9\": 21, \"8\": 13, \"15\": 30, \"6\": 26, \"5\": 43, \"13\": 67, \"3\": 8, \"10\": 2, \"7\": 6, \"14\": 5, \"2\": 15, \"4\": 1, \"0\": 3}, \"2\": {\"2\": 42, \"13\": 9, \"1\": 5, \"9\": 25, \"15\": 22, \"0\": 9, \"3\": 44, \"6\": 4, \"4\": 9, \"7\": 28, \"8\": 17, \"5\": 18, \"10\": 5, \"14\": 3}, \"0\": {\"8\": 18, \"6\": 21, \"12\": 1, \"14\": 32, \"2\": 8, \"7\": 18, \"4\": 33, \"9\": 13, \"10\": 30, \"15\": 12, \"1\": 18, \"3\": 9, \"0\": 25, \"5\": 2}, \"12\": {\"12\": 197, \"6\": 10, \"11\": 8, \"8\": 6, \"10\": 7, \"1\": 2, \"0\": 2, \"13\": 2, \"14\": 2, \"9\": 1, \"4\": 1, \"5\": 1, \"15\": 1}, \"3\": {\"1\": 10, \"2\": 54, \"6\": 8, \"3\": 58, \"9\": 14, \"15\": 14, \"4\": 9, \"7\": 35, \"0\": 7, \"10\": 5, \"5\": 9, \"14\": 5, \"8\": 11, \"13\": 1}, \"9\": {\"4\": 12, \"15\": 26, \"13\": 16, \"2\": 22, \"5\": 16, \"0\": 14, \"6\": 26, \"12\": 3, \"1\": 11, \"9\": 36, \"7\": 14, \"8\": 16, \"3\": 9, \"10\": 13, \"14\": 6}, \"8\": {\"9\": 23, \"3\": 15, \"2\": 13, \"15\": 20, \"1\": 17, \"6\": 21, \"8\": 25, \"10\": 25, \"7\": 20, \"4\": 10, \"0\": 21, \"12\": 2, \"5\": 9, \"14\": 14, \"13\": 5}, \"1\": {\"14\": 41, \"8\": 9, \"1\": 47, \"9\": 5, \"3\": 7, \"6\": 7, \"4\": 41, \"10\": 30, \"0\": 26, \"7\": 21, \"2\": 4, \"15\": 2}}, \"O_32\": {\"7\": {\"5\": 32, \"8\": 6, \"2\": 17, \"7\": 57, \"0\": 4, \"4\": 34, \"14\": 40, \"11\": 22, \"3\": 6, \"13\": 22}, \"2\": {\"4\": 39, \"0\": 34, \"7\": 29, \"8\": 9, \"14\": 11, \"2\": 99, \"13\": 5, \"5\": 12, \"11\": 2}, \"5\": {\"5\": 45, \"7\": 27, \"0\": 13, \"11\": 11, \"13\": 33, \"2\": 10, \"4\": 38, \"3\": 26, \"8\": 30, \"14\": 7}, \"6\": {\"6\": 236, \"12\": 3, \"10\": 1}, \"13\": {\"0\": 13, \"5\": 43, \"3\": 25, \"7\": 34, \"13\": 38, \"8\": 27, \"11\": 18, \"2\": 8, \"4\": 18, \"14\": 15, \"15\": 1}, \"4\": {\"4\": 48, \"7\": 25, \"0\": 33, \"13\": 23, \"2\": 44, \"14\": 16, \"5\": 22, \"8\": 19, \"11\": 9, \"3\": 1}, \"3\": {\"5\": 35, \"3\": 126, \"13\": 32, \"11\": 19, \"14\": 5, \"7\": 7, \"8\": 11, \"4\": 2, \"0\": 2, \"15\": 1}, \"0\": {\"0\": 87, \"8\": 36, \"11\": 5, \"2\": 32, \"4\": 28, \"13\": 7, \"14\": 13, \"5\": 12, \"7\": 17, \"15\": 2, \"9\": 1}, \"9\": {\"9\": 220, \"12\": 18, \"0\": 1, \"6\": 1}, \"12\": {\"12\": 226, \"9\": 6, \"6\": 8}, \"8\": {\"13\": 28, \"8\": 82, \"0\": 40, \"5\": 31, \"3\": 8, \"4\": 21, \"15\": 4, \"7\": 13, \"14\": 7, \"11\": 2, \"2\": 4}, \"14\": {\"0\": 14, \"7\": 47, \"14\": 56, \"4\": 16, \"5\": 17, \"13\": 14, \"2\": 9, \"11\": 51, \"8\": 8, \"3\": 8}, \"15\": {\"15\": 210, \"5\": 2, \"8\": 23, \"3\": 3, \"13\": 2}, \"11\": {\"11\": 86, \"7\": 39, \"14\": 52, \"0\": 6, \"4\": 10, \"5\": 15, \"3\": 6, \"2\": 3, \"13\": 19, \"8\": 4}, \"10\": {\"1\": 34, \"10\": 204, \"6\": 2}, \"1\": {\"1\": 192, \"10\": 47, \"6\": 1}}, \"O_44\": {\"11\": {\"13\": 42, \"11\": 166, \"6\": 23, \"2\": 1, \"7\": 1, \"9\": 4, \"4\": 1, \"14\": 2}, \"7\": {\"13\": 16, \"2\": 59, \"9\": 40, \"6\": 20, \"1\": 11, \"7\": 74, \"3\": 9, \"10\": 9, \"4\": 1, \"11\": 1}, \"6\": {\"6\": 96, \"9\": 41, \"11\": 19, \"13\": 42, \"2\": 12, \"4\": 1, \"7\": 28, \"1\": 1}, \"12\": {\"1\": 58, \"2\": 11, \"12\": 96, \"10\": 45, \"3\": 30}, \"4\": {\"4\": 113, \"9\": 7, \"14\": 71, \"15\": 17, \"13\": 9, \"5\": 20, \"11\": 2, \"6\": 1}, \"13\": {\"13\": 83, \"11\": 26, \"6\": 57, \"9\": 51, \"7\": 12, \"2\": 4, \"14\": 2, \"4\": 4, \"5\": 1}, \"8\": {\"0\": 88, \"15\": 26, \"8\": 103, \"5\": 20, \"14\": 3}, \"5\": {\"0\": 37, \"14\": 19, \"5\": 133, \"15\": 19, \"8\": 18, \"4\": 14}, \"14\": {\"14\": 95, \"15\": 33, \"4\": 68, \"5\": 26, \"8\": 3, \"0\": 11, \"11\": 2, \"13\": 2}, \"3\": {\"1\": 64, \"2\": 21, \"12\": 33, \"3\": 103, \"7\": 9, \"10\": 6, \"9\": 3, \"4\": 1}, \"10\": {\"12\": 53, \"10\": 92, \"7\": 8, \"2\": 38, \"1\": 37, \"3\": 9, \"6\": 2, \"9\": 1}, \"1\": {\"1\": 81, \"3\": 46, \"7\": 9, \"12\": 53, \"2\": 24, \"10\": 25, \"9\": 2}, \"2\": {\"10\": 34, \"2\": 74, \"1\": 26, \"7\": 52, \"9\": 15, \"6\": 10, \"3\": 10, \"13\": 2, \"12\": 16, \"11\": 1}, \"15\": {\"4\": 15, \"14\": 34, \"15\": 86, \"0\": 56, \"8\": 22, \"5\": 27}, \"9\": {\"9\": 72, \"7\": 59, \"6\": 29, \"14\": 3, \"4\": 5, \"13\": 33, \"2\": 29, \"11\": 5, \"1\": 3, \"3\": 2}, \"0\": {\"8\": 54, \"15\": 51, \"0\": 87, \"5\": 35, \"14\": 9, \"4\": 4}}, \"O_8\": {\"10\": {\"0\": 26, \"10\": 52, \"14\": 24, \"13\": 33, \"1\": 18, \"5\": 19, \"11\": 5, \"7\": 9, \"6\": 18, \"4\": 34, \"15\": 1, \"2\": 1}, \"6\": {\"4\": 24, \"14\": 18, \"0\": 29, \"6\": 50, \"1\": 9, \"7\": 33, \"13\": 25, \"8\": 14, \"10\": 19, \"15\": 5, \"11\": 3, \"12\": 2, \"2\": 7, \"5\": 1, \"3\": 1}, \"13\": {\"5\": 12, \"0\": 37, \"6\": 22, \"14\": 25, \"10\": 36, \"1\": 13, \"7\": 24, \"13\": 42, \"15\": 1, \"4\": 25, \"2\": 2, \"12\": 1}, \"3\": {\"15\": 36, \"3\": 80, \"2\": 64, \"12\": 37, \"7\": 11, \"0\": 2, \"8\": 4, \"6\": 5, \"4\": 1}, \"9\": {\"9\": 235, \"14\": 1, \"5\": 2, \"13\": 1, \"10\": 1}, \"1\": {\"6\": 7, \"1\": 61, \"11\": 58, \"5\": 33, \"10\": 26, \"4\": 8, \"14\": 23, \"13\": 8, \"8\": 7, \"12\": 1, \"15\": 1, \"0\": 5, \"7\": 2}, \"5\": {\"5\": 100, \"1\": 43, \"14\": 25, \"0\": 3, \"4\": 11, \"13\": 9, \"6\": 3, \"10\": 28, \"11\": 16, \"9\": 1, \"7\": 1}, \"11\": {\"1\": 72, \"11\": 82, \"7\": 2, \"8\": 19, \"5\": 26, \"14\": 14, \"4\": 9, \"0\": 3, \"15\": 2, \"6\": 3, \"10\": 7, \"13\": 1}, \"4\": {\"13\": 34, \"14\": 30, \"7\": 12, \"6\": 32, \"0\": 27, \"10\": 28, \"1\": 10, \"4\": 40, \"3\": 1, \"5\": 10, \"15\": 7, \"2\": 3, \"8\": 3, \"11\": 3}, \"14\": {\"6\": 18, \"11\": 13, \"13\": 20, \"5\": 23, \"10\": 36, \"14\": 37, \"1\": 22, \"4\": 28, \"7\": 16, \"0\": 25, \"8\": 1, \"12\": 1}, \"12\": {\"15\": 57, \"12\": 74, \"8\": 22, \"2\": 35, \"3\": 39, \"7\": 4, \"6\": 4, \"4\": 3, \"11\": 1, \"1\": 1}, \"7\": {\"15\": 13, \"7\": 48, \"0\": 37, \"13\": 19, \"6\": 32, \"2\": 16, \"4\": 29, \"10\": 13, \"8\": 11, \"14\": 9, \"3\": 6, \"1\": 3, \"12\": 4}, \"0\": {\"0\": 57, \"14\": 20, \"13\": 31, \"7\": 30, \"4\": 33, \"6\": 29, \"3\": 3, \"10\": 28, \"1\": 3, \"15\": 1, \"2\": 3, \"8\": 1, \"12\": 1}, \"15\": {\"15\": 53, \"3\": 34, \"8\": 39, \"12\": 55, \"2\": 21, \"11\": 3, \"6\": 12, \"7\": 13, \"1\": 1, \"4\": 4, \"13\": 3, \"0\": 2}, \"2\": {\"15\": 24, \"3\": 60, \"2\": 82, \"7\": 24, \"12\": 18, \"4\": 3, \"0\": 7, \"6\": 12, \"13\": 5, \"8\": 3, \"14\": 2}, \"8\": {\"8\": 84, \"1\": 12, \"6\": 15, \"11\": 18, \"7\": 13, \"14\": 11, \"15\": 41, \"12\": 20, \"4\": 9, \"10\": 1, \"13\": 6, \"3\": 4, \"2\": 3, \"0\": 3}}, \"O_38\": {\"4\": {\"4\": 174, \"12\": 65, \"10\": 1}, \"7\": {\"8\": 33, \"5\": 27, \"0\": 57, \"7\": 98, \"3\": 5, \"6\": 8, \"12\": 1, \"15\": 1, \"10\": 7, \"9\": 2, \"4\": 1}, \"12\": {\"4\": 36, \"12\": 191, \"10\": 3, \"14\": 5, \"11\": 1, \"0\": 1, \"7\": 2, \"8\": 1}, \"10\": {\"5\": 9, \"10\": 90, \"8\": 19, \"15\": 26, \"13\": 26, \"14\": 15, \"2\": 13, \"6\": 1, \"11\": 10, \"4\": 3, \"7\": 9, \"0\": 12, \"12\": 7}, \"0\": {\"3\": 20, \"6\": 7, \"7\": 43, \"8\": 41, \"10\": 6, \"5\": 23, \"0\": 73, \"4\": 3, \"9\": 8, \"12\": 5, \"13\": 5, \"1\": 1, \"15\": 5}, \"1\": {\"13\": 13, \"1\": 138, \"5\": 12, \"15\": 43, \"8\": 13, \"6\": 13, \"9\": 8}, \"5\": {\"8\": 46, \"5\": 54, \"1\": 18, \"3\": 3, \"7\": 22, \"15\": 9, \"6\": 23, \"9\": 21, \"10\": 7, \"13\": 11, \"0\": 26}, \"15\": {\"5\": 18, \"13\": 45, \"1\": 36, \"15\": 73, \"10\": 19, \"8\": 27, \"0\": 3, \"7\": 4, \"2\": 11, \"6\": 3, \"9\": 1}, \"9\": {\"9\": 102, \"6\": 82, \"3\": 27, \"5\": 17, \"7\": 2, \"1\": 4, \"8\": 1, \"0\": 4, \"15\": 1}, \"11\": {\"10\": 11, \"14\": 87, \"11\": 115, \"2\": 17, \"4\": 2, \"12\": 7, \"13\": 1}, \"14\": {\"11\": 75, \"10\": 14, \"14\": 108, \"2\": 38, \"13\": 3, \"15\": 1, \"12\": 1}, \"6\": {\"9\": 65, \"6\": 118, \"5\": 23, \"1\": 21, \"15\": 1, \"3\": 6, \"0\": 2, \"7\": 1, \"8\": 3}, \"8\": {\"8\": 80, \"7\": 36, \"10\": 16, \"0\": 38, \"1\": 3, \"5\": 38, \"13\": 11, \"15\": 15, \"12\": 1, \"6\": 1, \"9\": 1}, \"3\": {\"9\": 38, \"3\": 151, \"6\": 15, \"0\": 22, \"7\": 6, \"1\": 1, \"5\": 5, \"8\": 2}, \"2\": {\"14\": 22, \"2\": 151, \"13\": 33, \"11\": 11, \"15\": 7, \"10\": 15, \"1\": 1}, \"13\": {\"13\": 82, \"0\": 6, \"2\": 30, \"10\": 21, \"15\": 50, \"5\": 7, \"8\": 13, \"1\": 22, \"7\": 3, \"9\": 1, \"6\": 1, \"11\": 2, \"14\": 2}}}, \"per_domain_accuracy\": {\"C_4\": {\"accuracy\": 0.998877245508982, \"source?\": true}, \"C_5\": {\"accuracy\": 0.9993016759776536, \"source?\": true}, \"C_2\": {\"accuracy\": 1.0, \"source?\": true}, \"C_1\": {\"accuracy\": 0.9998301630434783, \"source?\": true}, \"C_3\": {\"accuracy\": 0.9988970588235294, \"source?\": true}, \"O_14\": {\"accuracy\": 0.4083333333333333, \"source?\": false}, \"O_20\": {\"accuracy\": 0.20729166666666668, \"source?\": false}, \"O_50\": {\"accuracy\": 0.42682291666666666, \"source?\": false}, \"O_26\": {\"accuracy\": 0.25416666666666665, \"source?\": false}, \"O_32\": {\"accuracy\": 0.5239583333333333, \"source?\": false}, \"O_44\": {\"accuracy\": 0.4046875, \"source?\": false}, \"O_8\": {\"accuracy\": 0.3065104166666667, \"source?\": false}, \"O_38\": {\"accuracy\": 0.46822916666666664, \"source?\": false}}}, \"history\": {\"epoch_indices\": [1, 2, 3, 4, 5, 6, 7, 8, 9], \"train_label_loss\": [0.031135682682946326, 0.0265404138933361, 0.008110629312460567, 0.005526957065053942, 0.004491008047818653, 0.003980103580908252, 0.0029740524673368216, 0.003045143666804887, 0.002836824621924005], \"source_val_label_loss\": [0.21095801889896393, 0.06639013439416885, 0.08506684005260468, 0.10185067355632782, 0.07287511229515076, 0.08296961337327957, 0.0568702258169651, 0.05847756564617157, 0.044573988765478134], \"target_val_label_loss\": [1.9480122327804565, 2.230569839477539, 2.8542842864990234, 2.283412218093872, 2.092986822128296, 2.638479232788086, 2.190058469772339, 2.571615695953369, 2.565416097640991], \"source_val_acc_label\": [0.9921428571428571, 0.9979642857142857, 0.99675, 0.9981071428571429, 0.9993928571428572, 0.9986071428571428, 0.9990714285714286, 0.9995357142857143, 0.9988571428571429], \"target_val_acc_label\": [0.3274739583333333, 0.3152994791666667, 0.26761067708333336, 0.3271484375, 0.375, 0.30325520833333336, 0.36513671875, 0.31201171875, 0.3172526041666667]}, \"dataset_metrics\": {\"source\": {\"train\": {\"n_unique_x\": 175160, \"n_unique_y\": 58, \"n_batch/episode\": 6306}, \"val\": {\"n_unique_x\": 37216, \"n_unique_y\": 58, \"n_batch/episode\": 875}, \"test\": {\"n_unique_x\": 37596, \"n_unique_y\": 58, \"n_batch/episode\": 886}}, \"target\": {\"train\": {\"n_unique_x\": 179200, \"n_unique_y\": 16, \"n_batch/episode\": 6720}, \"val\": {\"n_unique_x\": 38400, \"n_unique_y\": 16, \"n_batch/episode\": 960}, \"test\": {\"n_unique_x\": 38400, \"n_unique_y\": 16, \"n_batch/episode\": 960}}}}'"
      ]
     },
     "execution_count": 29,
     "metadata": {},
     "output_type": "execute_result"
    }
   ],
   "source": [
    "json.dumps(experiment)"
   ]
  }
 ],
 "metadata": {
  "celltoolbar": "Tags",
  "kernelspec": {
   "display_name": "Python 3 (ipykernel)",
   "language": "python",
   "name": "python3"
  },
  "language_info": {
   "codemirror_mode": {
    "name": "ipython",
    "version": 3
   },
   "file_extension": ".py",
   "mimetype": "text/x-python",
   "name": "python",
   "nbconvert_exporter": "python",
   "pygments_lexer": "ipython3",
   "version": "3.8.10"
  },
  "papermill": {
   "default_parameters": {},
   "duration": 2995.71936,
   "end_time": "2022-03-26T20:52:38.429307",
   "environment_variables": {},
   "exception": null,
   "input_path": "/mnt/wd500GB/CSC500/csc500-main/csc500-notebooks/templates/tl_ptn_template.ipynb",
   "output_path": "trial.ipynb",
   "parameters": {
    "parameters": {
     "BEST_MODEL_PATH": "./best_model.pth",
     "NUM_LOGS_PER_EPOCH": 10,
     "criteria_for_best": "target_accuracy",
     "dataset_seed": 420,
     "datasets": [
      {
       "domain_prefix": "C_",
       "domains": [
        1,
        2,
        3,
        4,
        5
       ],
       "episode_transforms": [],
       "labels": [
        "1-10.",
        "1-11.",
        "1-15.",
        "1-16.",
        "1-17.",
        "1-18.",
        "1-19.",
        "10-4.",
        "10-7.",
        "11-1.",
        "11-14.",
        "11-17.",
        "11-20.",
        "11-7.",
        "13-20.",
        "13-8.",
        "14-10.",
        "14-11.",
        "14-14.",
        "14-7.",
        "15-1.",
        "15-20.",
        "16-1.",
        "16-16.",
        "17-10.",
        "17-11.",
        "17-2.",
        "19-1.",
        "19-16.",
        "19-19.",
        "19-20.",
        "19-3.",
        "2-10.",
        "2-11.",
        "2-17.",
        "2-18.",
        "2-20.",
        "2-3.",
        "2-4.",
        "2-5.",
        "2-6.",
        "2-7.",
        "2-8.",
        "3-13.",
        "3-18.",
        "3-3.",
        "4-1.",
        "4-10.",
        "4-11.",
        "4-19.",
        "5-5.",
        "6-15.",
        "7-10.",
        "7-14.",
        "8-18.",
        "8-20.",
        "8-3.",
        "8-8."
       ],
       "num_examples_per_domain_per_label": -1,
       "pickle_path": "/mnt/wd500GB/CSC500/csc500-main/datasets/cores.stratified_ds.2022A.pkl",
       "source_or_target_dataset": "source",
       "x_transforms": [
        "unit_mag",
        "jitter_256_1",
        "lowpass_+/-10MHz",
        "take_200"
       ]
      },
      {
       "domain_prefix": "O_",
       "domains": [
        32,
        38,
        8,
        44,
        14,
        50,
        20,
        26
       ],
       "episode_transforms": [],
       "labels": [
        "3123D52",
        "3123D65",
        "3123D79",
        "3123D80",
        "3123D54",
        "3123D70",
        "3123D7B",
        "3123D89",
        "3123D58",
        "3123D76",
        "3123D7D",
        "3123EFE",
        "3123D64",
        "3123D78",
        "3123D7E",
        "3124E4A"
       ],
       "num_examples_per_domain_per_label": 2000,
       "pickle_path": "/mnt/wd500GB/CSC500/csc500-main/datasets/oracle.Run1_framed_2000Examples_stratified_ds.2022A.pkl",
       "source_or_target_dataset": "target",
       "x_transforms": [
        "unit_mag",
        "jitter_256_1",
        "take_200",
        "resample_20Msps_to_25Msps"
       ]
      }
     ],
     "device": "cuda",
     "experiment_name": "tl_3-jitter1v2:cores -> oracle.run1.framed",
     "lr": 0.0001,
     "n_epoch": 50,
     "n_query": 2,
     "n_shot": 3,
     "n_way": 16,
     "patience": 3,
     "seed": 420,
     "test_k_factor": 2,
     "torch_default_dtype": "torch.float32",
     "train_k_factor": 3,
     "val_k_factor": 2,
     "x_net": [
      {
       "class": "nnReshape",
       "kargs": {
        "shape": [
         -1,
         1,
         2,
         256
        ]
       }
      },
      {
       "class": "Conv2d",
       "kargs": {
        "bias": false,
        "in_channels": 1,
        "kernel_size": [
         1,
         7
        ],
        "out_channels": 256,
        "padding": [
         0,
         3
        ]
       }
      },
      {
       "class": "ReLU",
       "kargs": {
        "inplace": true
       }
      },
      {
       "class": "BatchNorm2d",
       "kargs": {
        "num_features": 256
       }
      },
      {
       "class": "Conv2d",
       "kargs": {
        "bias": true,
        "in_channels": 256,
        "kernel_size": [
         2,
         7
        ],
        "out_channels": 80,
        "padding": [
         0,
         3
        ]
       }
      },
      {
       "class": "ReLU",
       "kargs": {
        "inplace": true
       }
      },
      {
       "class": "BatchNorm2d",
       "kargs": {
        "num_features": 80
       }
      },
      {
       "class": "Flatten",
       "kargs": {}
      },
      {
       "class": "Linear",
       "kargs": {
        "in_features": 20480,
        "out_features": 256
       }
      },
      {
       "class": "ReLU",
       "kargs": {
        "inplace": true
       }
      },
      {
       "class": "BatchNorm1d",
       "kargs": {
        "num_features": 256
       }
      },
      {
       "class": "Linear",
       "kargs": {
        "in_features": 256,
        "out_features": 256
       }
      }
     ],
     "x_shape": [
      2,
      256
     ]
    }
   },
   "start_time": "2022-03-26T20:02:42.709947",
   "version": "2.3.4"
  }
 },
 "nbformat": 4,
 "nbformat_minor": 5
}