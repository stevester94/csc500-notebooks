{
 "cells": [
  {
   "cell_type": "markdown",
   "id": "9fea5f46",
   "metadata": {
    "papermill": {
     "duration": 0.027578,
     "end_time": "2022-03-27T21:55:07.648990",
     "exception": false,
     "start_time": "2022-03-27T21:55:07.621412",
     "status": "completed"
    },
    "tags": []
   },
   "source": [
    "# Transfer Learning Template"
   ]
  },
  {
   "cell_type": "code",
   "execution_count": 1,
   "id": "0902182a",
   "metadata": {
    "execution": {
     "iopub.execute_input": "2022-03-27T21:55:07.709435Z",
     "iopub.status.busy": "2022-03-27T21:55:07.703420Z",
     "iopub.status.idle": "2022-03-27T21:55:09.767757Z",
     "shell.execute_reply": "2022-03-27T21:55:09.767294Z"
    },
    "papermill": {
     "duration": 2.096934,
     "end_time": "2022-03-27T21:55:09.767862",
     "exception": false,
     "start_time": "2022-03-27T21:55:07.670928",
     "status": "completed"
    },
    "tags": []
   },
   "outputs": [],
   "source": [
    "%load_ext autoreload\n",
    "%autoreload 2\n",
    "%matplotlib inline\n",
    "\n",
    "    \n",
    "import os, json, sys, time, random\n",
    "import numpy as np\n",
    "import torch\n",
    "from torch.optim import Adam\n",
    "from  easydict import EasyDict\n",
    "import matplotlib.pyplot as plt\n",
    "\n",
    "from steves_models.steves_ptn import Steves_Prototypical_Network\n",
    "\n",
    "from steves_utils.lazy_iterable_wrapper import Lazy_Iterable_Wrapper\n",
    "from steves_utils.iterable_aggregator import Iterable_Aggregator\n",
    "from steves_utils.ptn_train_eval_test_jig import  PTN_Train_Eval_Test_Jig\n",
    "from steves_utils.torch_sequential_builder import build_sequential\n",
    "from steves_utils.torch_utils import get_dataset_metrics, ptn_confusion_by_domain_over_dataloader\n",
    "from steves_utils.utils_v2 import (per_domain_accuracy_from_confusion, get_datasets_base_path)\n",
    "from steves_utils.PTN.utils import independent_accuracy_assesment\n",
    "\n",
    "from torch.utils.data import DataLoader\n",
    "\n",
    "from steves_utils.stratified_dataset.episodic_accessor import Episodic_Accessor_Factory\n",
    "\n",
    "from steves_utils.ptn_do_report import (\n",
    "    get_loss_curve,\n",
    "    get_results_table,\n",
    "    get_parameters_table,\n",
    "    get_domain_accuracies,\n",
    ")\n",
    "\n",
    "from steves_utils.transforms import get_chained_transform"
   ]
  },
  {
   "cell_type": "markdown",
   "id": "41c840b4",
   "metadata": {
    "papermill": {
     "duration": 0.019818,
     "end_time": "2022-03-27T21:55:09.808344",
     "exception": false,
     "start_time": "2022-03-27T21:55:09.788526",
     "status": "completed"
    },
    "tags": []
   },
   "source": [
    "# Allowed Parameters\n",
    "These are allowed parameters, not defaults\n",
    "Each of these values need to be present in the injected parameters (the notebook will raise an exception if they are not present)\n",
    "\n",
    "Papermill uses the cell tag \"parameters\" to inject the real parameters below this cell.\n",
    "Enable tags to see what I mean"
   ]
  },
  {
   "cell_type": "code",
   "execution_count": 2,
   "id": "fd44eb83",
   "metadata": {
    "execution": {
     "iopub.execute_input": "2022-03-27T21:55:09.851615Z",
     "iopub.status.busy": "2022-03-27T21:55:09.851213Z",
     "iopub.status.idle": "2022-03-27T21:55:09.871110Z",
     "shell.execute_reply": "2022-03-27T21:55:09.870736Z"
    },
    "papermill": {
     "duration": 0.042967,
     "end_time": "2022-03-27T21:55:09.871181",
     "exception": false,
     "start_time": "2022-03-27T21:55:09.828214",
     "status": "completed"
    },
    "tags": []
   },
   "outputs": [],
   "source": [
    "required_parameters = {\n",
    "    \"experiment_name\",\n",
    "    \"lr\",\n",
    "    \"device\",\n",
    "    \"seed\",\n",
    "    \"dataset_seed\",\n",
    "    \"n_shot\",\n",
    "    \"n_query\",\n",
    "    \"n_way\",\n",
    "    \"train_k_factor\",\n",
    "    \"val_k_factor\",\n",
    "    \"test_k_factor\",\n",
    "    \"n_epoch\",\n",
    "    \"patience\",\n",
    "    \"criteria_for_best\",\n",
    "    \"x_net\",\n",
    "    \"datasets\",\n",
    "    \"torch_default_dtype\",\n",
    "    \"NUM_LOGS_PER_EPOCH\",\n",
    "    \"BEST_MODEL_PATH\",\n",
    "    \"x_shape\",\n",
    "}"
   ]
  },
  {
   "cell_type": "code",
   "execution_count": 3,
   "id": "fa3f0049",
   "metadata": {
    "execution": {
     "iopub.execute_input": "2022-03-27T21:55:09.920306Z",
     "iopub.status.busy": "2022-03-27T21:55:09.919753Z",
     "iopub.status.idle": "2022-03-27T21:55:09.942249Z",
     "shell.execute_reply": "2022-03-27T21:55:09.941876Z"
    },
    "papermill": {
     "duration": 0.0513,
     "end_time": "2022-03-27T21:55:09.942320",
     "exception": false,
     "start_time": "2022-03-27T21:55:09.891020",
     "status": "completed"
    },
    "tags": [
     "parameters"
    ]
   },
   "outputs": [],
   "source": [
    "from steves_utils.CORES.utils import (\n",
    "    ALL_NODES,\n",
    "    ALL_NODES_MINIMUM_1000_EXAMPLES,\n",
    "    ALL_DAYS\n",
    ")\n",
    "\n",
    "from steves_utils.ORACLE.utils_v2 import (\n",
    "    ALL_DISTANCES_FEET_NARROWED,\n",
    "    ALL_RUNS,\n",
    "    ALL_SERIAL_NUMBERS,\n",
    ")\n",
    "\n",
    "standalone_parameters = {}\n",
    "standalone_parameters[\"experiment_name\"] = \"STANDALONE PTN\"\n",
    "standalone_parameters[\"lr\"] = 0.001\n",
    "standalone_parameters[\"device\"] = \"cuda\"\n",
    "\n",
    "standalone_parameters[\"seed\"] = 1337\n",
    "standalone_parameters[\"dataset_seed\"] = 1337\n",
    "\n",
    "standalone_parameters[\"n_way\"] = 8\n",
    "standalone_parameters[\"n_shot\"] = 3\n",
    "standalone_parameters[\"n_query\"]  = 2\n",
    "standalone_parameters[\"train_k_factor\"] = 1\n",
    "standalone_parameters[\"val_k_factor\"] = 2\n",
    "standalone_parameters[\"test_k_factor\"] = 2\n",
    "\n",
    "\n",
    "standalone_parameters[\"n_epoch\"] = 50\n",
    "\n",
    "standalone_parameters[\"patience\"] = 10\n",
    "standalone_parameters[\"criteria_for_best\"] = \"source_loss\"\n",
    "\n",
    "standalone_parameters[\"datasets\"] = [\n",
    "    {\n",
    "        \"labels\": ALL_SERIAL_NUMBERS,\n",
    "        \"domains\": ALL_DISTANCES_FEET_NARROWED,\n",
    "        \"num_examples_per_domain_per_label\": 100,\n",
    "        \"pickle_path\": os.path.join(get_datasets_base_path(), \"oracle.Run1_framed_2000Examples_stratified_ds.2022A.pkl\"),\n",
    "        \"source_or_target_dataset\": \"source\",\n",
    "        \"x_transforms\": [\"unit_mag\", \"minus_two\"],\n",
    "        \"episode_transforms\": [],\n",
    "        \"domain_prefix\": \"ORACLE_\"\n",
    "    },\n",
    "    {\n",
    "        \"labels\": ALL_NODES,\n",
    "        \"domains\": ALL_DAYS,\n",
    "        \"num_examples_per_domain_per_label\": 100,\n",
    "        \"pickle_path\": os.path.join(get_datasets_base_path(), \"cores.stratified_ds.2022A.pkl\"),\n",
    "        \"source_or_target_dataset\": \"target\",\n",
    "        \"x_transforms\": [\"unit_power\", \"times_zero\"],\n",
    "        \"episode_transforms\": [],\n",
    "        \"domain_prefix\": \"CORES_\"\n",
    "    }   \n",
    "]\n",
    "\n",
    "standalone_parameters[\"torch_default_dtype\"] = \"torch.float32\" \n",
    "\n",
    "\n",
    "\n",
    "standalone_parameters[\"x_net\"] =     [\n",
    "    {\"class\": \"nnReshape\", \"kargs\": {\"shape\":[-1, 1, 2, 256]}},\n",
    "    {\"class\": \"Conv2d\", \"kargs\": { \"in_channels\":1, \"out_channels\":256, \"kernel_size\":(1,7), \"bias\":False, \"padding\":(0,3), },},\n",
    "    {\"class\": \"ReLU\", \"kargs\": {\"inplace\": True}},\n",
    "    {\"class\": \"BatchNorm2d\", \"kargs\": {\"num_features\":256}},\n",
    "\n",
    "    {\"class\": \"Conv2d\", \"kargs\": { \"in_channels\":256, \"out_channels\":80, \"kernel_size\":(2,7), \"bias\":True, \"padding\":(0,3), },},\n",
    "    {\"class\": \"ReLU\", \"kargs\": {\"inplace\": True}},\n",
    "    {\"class\": \"BatchNorm2d\", \"kargs\": {\"num_features\":80}},\n",
    "    {\"class\": \"Flatten\", \"kargs\": {}},\n",
    "\n",
    "    {\"class\": \"Linear\", \"kargs\": {\"in_features\": 80*256, \"out_features\": 256}}, # 80 units per IQ pair\n",
    "    {\"class\": \"ReLU\", \"kargs\": {\"inplace\": True}},\n",
    "    {\"class\": \"BatchNorm1d\", \"kargs\": {\"num_features\":256}},\n",
    "\n",
    "    {\"class\": \"Linear\", \"kargs\": {\"in_features\": 256, \"out_features\": 256}},\n",
    "]\n",
    "\n",
    "# Parameters relevant to results\n",
    "# These parameters will basically never need to change\n",
    "standalone_parameters[\"NUM_LOGS_PER_EPOCH\"] = 10\n",
    "standalone_parameters[\"BEST_MODEL_PATH\"] = \"./best_model.pth\"\n",
    "\n",
    "\n",
    "\n",
    "\n"
   ]
  },
  {
   "cell_type": "code",
   "execution_count": 4,
   "id": "7e858c72",
   "metadata": {
    "execution": {
     "iopub.execute_input": "2022-03-27T21:55:09.992160Z",
     "iopub.status.busy": "2022-03-27T21:55:09.991697Z",
     "iopub.status.idle": "2022-03-27T21:55:10.013598Z",
     "shell.execute_reply": "2022-03-27T21:55:10.013227Z"
    },
    "papermill": {
     "duration": 0.051453,
     "end_time": "2022-03-27T21:55:10.013668",
     "exception": false,
     "start_time": "2022-03-27T21:55:09.962215",
     "status": "completed"
    },
    "tags": [
     "injected-parameters"
    ]
   },
   "outputs": [],
   "source": [
    "# Parameters\n",
    "parameters = {\n",
    "    \"experiment_name\": \"tl_3-jitter1v2:cores -> oracle.run1.framed\",\n",
    "    \"device\": \"cuda\",\n",
    "    \"lr\": 0.0001,\n",
    "    \"x_shape\": [2, 256],\n",
    "    \"n_shot\": 3,\n",
    "    \"n_query\": 2,\n",
    "    \"train_k_factor\": 3,\n",
    "    \"val_k_factor\": 2,\n",
    "    \"test_k_factor\": 2,\n",
    "    \"torch_default_dtype\": \"torch.float32\",\n",
    "    \"n_epoch\": 50,\n",
    "    \"patience\": 3,\n",
    "    \"criteria_for_best\": \"target_accuracy\",\n",
    "    \"x_net\": [\n",
    "        {\"class\": \"nnReshape\", \"kargs\": {\"shape\": [-1, 1, 2, 256]}},\n",
    "        {\n",
    "            \"class\": \"Conv2d\",\n",
    "            \"kargs\": {\n",
    "                \"in_channels\": 1,\n",
    "                \"out_channels\": 256,\n",
    "                \"kernel_size\": [1, 7],\n",
    "                \"bias\": False,\n",
    "                \"padding\": [0, 3],\n",
    "            },\n",
    "        },\n",
    "        {\"class\": \"ReLU\", \"kargs\": {\"inplace\": True}},\n",
    "        {\"class\": \"BatchNorm2d\", \"kargs\": {\"num_features\": 256}},\n",
    "        {\n",
    "            \"class\": \"Conv2d\",\n",
    "            \"kargs\": {\n",
    "                \"in_channels\": 256,\n",
    "                \"out_channels\": 80,\n",
    "                \"kernel_size\": [2, 7],\n",
    "                \"bias\": True,\n",
    "                \"padding\": [0, 3],\n",
    "            },\n",
    "        },\n",
    "        {\"class\": \"ReLU\", \"kargs\": {\"inplace\": True}},\n",
    "        {\"class\": \"BatchNorm2d\", \"kargs\": {\"num_features\": 80}},\n",
    "        {\"class\": \"Flatten\", \"kargs\": {}},\n",
    "        {\"class\": \"Linear\", \"kargs\": {\"in_features\": 20480, \"out_features\": 256}},\n",
    "        {\"class\": \"ReLU\", \"kargs\": {\"inplace\": True}},\n",
    "        {\"class\": \"BatchNorm1d\", \"kargs\": {\"num_features\": 256}},\n",
    "        {\"class\": \"Linear\", \"kargs\": {\"in_features\": 256, \"out_features\": 256}},\n",
    "    ],\n",
    "    \"NUM_LOGS_PER_EPOCH\": 10,\n",
    "    \"BEST_MODEL_PATH\": \"./best_model.pth\",\n",
    "    \"n_way\": 16,\n",
    "    \"datasets\": [\n",
    "        {\n",
    "            \"labels\": [\n",
    "                \"1-10.\",\n",
    "                \"1-11.\",\n",
    "                \"1-15.\",\n",
    "                \"1-16.\",\n",
    "                \"1-17.\",\n",
    "                \"1-18.\",\n",
    "                \"1-19.\",\n",
    "                \"10-4.\",\n",
    "                \"10-7.\",\n",
    "                \"11-1.\",\n",
    "                \"11-14.\",\n",
    "                \"11-17.\",\n",
    "                \"11-20.\",\n",
    "                \"11-7.\",\n",
    "                \"13-20.\",\n",
    "                \"13-8.\",\n",
    "                \"14-10.\",\n",
    "                \"14-11.\",\n",
    "                \"14-14.\",\n",
    "                \"14-7.\",\n",
    "                \"15-1.\",\n",
    "                \"15-20.\",\n",
    "                \"16-1.\",\n",
    "                \"16-16.\",\n",
    "                \"17-10.\",\n",
    "                \"17-11.\",\n",
    "                \"17-2.\",\n",
    "                \"19-1.\",\n",
    "                \"19-16.\",\n",
    "                \"19-19.\",\n",
    "                \"19-20.\",\n",
    "                \"19-3.\",\n",
    "                \"2-10.\",\n",
    "                \"2-11.\",\n",
    "                \"2-17.\",\n",
    "                \"2-18.\",\n",
    "                \"2-20.\",\n",
    "                \"2-3.\",\n",
    "                \"2-4.\",\n",
    "                \"2-5.\",\n",
    "                \"2-6.\",\n",
    "                \"2-7.\",\n",
    "                \"2-8.\",\n",
    "                \"3-13.\",\n",
    "                \"3-18.\",\n",
    "                \"3-3.\",\n",
    "                \"4-1.\",\n",
    "                \"4-10.\",\n",
    "                \"4-11.\",\n",
    "                \"4-19.\",\n",
    "                \"5-5.\",\n",
    "                \"6-15.\",\n",
    "                \"7-10.\",\n",
    "                \"7-14.\",\n",
    "                \"8-18.\",\n",
    "                \"8-20.\",\n",
    "                \"8-3.\",\n",
    "                \"8-8.\",\n",
    "            ],\n",
    "            \"domains\": [1, 2, 3, 4, 5],\n",
    "            \"num_examples_per_domain_per_label\": -1,\n",
    "            \"pickle_path\": \"/root/csc500-main/datasets/cores.stratified_ds.2022A.pkl\",\n",
    "            \"source_or_target_dataset\": \"source\",\n",
    "            \"x_transforms\": [\"jitter_256_1\", \"lowpass_+/-10MHz\", \"take_200\"],\n",
    "            \"episode_transforms\": [],\n",
    "            \"domain_prefix\": \"C_\",\n",
    "        },\n",
    "        {\n",
    "            \"labels\": [\n",
    "                \"3123D52\",\n",
    "                \"3123D65\",\n",
    "                \"3123D79\",\n",
    "                \"3123D80\",\n",
    "                \"3123D54\",\n",
    "                \"3123D70\",\n",
    "                \"3123D7B\",\n",
    "                \"3123D89\",\n",
    "                \"3123D58\",\n",
    "                \"3123D76\",\n",
    "                \"3123D7D\",\n",
    "                \"3123EFE\",\n",
    "                \"3123D64\",\n",
    "                \"3123D78\",\n",
    "                \"3123D7E\",\n",
    "                \"3124E4A\",\n",
    "            ],\n",
    "            \"domains\": [32, 38, 8, 44, 14, 50, 20, 26],\n",
    "            \"num_examples_per_domain_per_label\": 2000,\n",
    "            \"pickle_path\": \"/root/csc500-main/datasets/oracle.Run1_framed_2000Examples_stratified_ds.2022A.pkl\",\n",
    "            \"source_or_target_dataset\": \"target\",\n",
    "            \"x_transforms\": [\"jitter_256_1\", \"take_200\", \"resample_20Msps_to_25Msps\"],\n",
    "            \"episode_transforms\": [],\n",
    "            \"domain_prefix\": \"O_\",\n",
    "        },\n",
    "    ],\n",
    "    \"seed\": 154325,\n",
    "    \"dataset_seed\": 154325,\n",
    "}\n"
   ]
  },
  {
   "cell_type": "code",
   "execution_count": 5,
   "id": "8fa1cc33",
   "metadata": {
    "execution": {
     "iopub.execute_input": "2022-03-27T21:55:10.059020Z",
     "iopub.status.busy": "2022-03-27T21:55:10.058644Z",
     "iopub.status.idle": "2022-03-27T21:55:10.079763Z",
     "shell.execute_reply": "2022-03-27T21:55:10.079383Z"
    },
    "papermill": {
     "duration": 0.046077,
     "end_time": "2022-03-27T21:55:10.079834",
     "exception": false,
     "start_time": "2022-03-27T21:55:10.033757",
     "status": "completed"
    },
    "tags": []
   },
   "outputs": [],
   "source": [
    "# Set this to True if you want to run this template directly\n",
    "STANDALONE = False\n",
    "if STANDALONE:\n",
    "    print(\"parameters not injected, running with standalone_parameters\")\n",
    "    parameters = standalone_parameters\n",
    "\n",
    "if not 'parameters' in locals() and not 'parameters' in globals():\n",
    "    raise Exception(\"Parameter injection failed\")\n",
    "\n",
    "#Use an easy dict for all the parameters\n",
    "p = EasyDict(parameters)\n",
    "\n",
    "if \"x_shape\" not in p:\n",
    "    p.x_shape = [2,256] # Default to this if we dont supply x_shape\n",
    "\n",
    "\n",
    "supplied_keys = set(p.keys())\n",
    "\n",
    "if  supplied_keys != required_parameters:\n",
    "    print(\"Parameters are incorrect\")\n",
    "    if len(supplied_keys - required_parameters)>0: print(\"Shouldn't have:\", str(supplied_keys - required_parameters))\n",
    "    if len(required_parameters - supplied_keys)>0: print(\"Need to have:\", str(required_parameters - supplied_keys))\n",
    "    raise RuntimeError(\"Parameters are incorrect\")"
   ]
  },
  {
   "cell_type": "code",
   "execution_count": 6,
   "id": "3a028d58",
   "metadata": {
    "execution": {
     "iopub.execute_input": "2022-03-27T21:55:10.123352Z",
     "iopub.status.busy": "2022-03-27T21:55:10.122948Z",
     "iopub.status.idle": "2022-03-27T21:55:10.144897Z",
     "shell.execute_reply": "2022-03-27T21:55:10.144083Z"
    },
    "papermill": {
     "duration": 0.045097,
     "end_time": "2022-03-27T21:55:10.145052",
     "exception": false,
     "start_time": "2022-03-27T21:55:10.099955",
     "status": "completed"
    },
    "tags": []
   },
   "outputs": [],
   "source": [
    "###################################\n",
    "# Set the RNGs and make it all deterministic\n",
    "###################################\n",
    "np.random.seed(p.seed)\n",
    "random.seed(p.seed)\n",
    "torch.manual_seed(p.seed)\n",
    "\n",
    "torch.use_deterministic_algorithms(True) "
   ]
  },
  {
   "cell_type": "code",
   "execution_count": 7,
   "id": "b691acf6",
   "metadata": {
    "execution": {
     "iopub.execute_input": "2022-03-27T21:55:10.195618Z",
     "iopub.status.busy": "2022-03-27T21:55:10.194840Z",
     "iopub.status.idle": "2022-03-27T21:55:10.220854Z",
     "shell.execute_reply": "2022-03-27T21:55:10.220029Z"
    },
    "papermill": {
     "duration": 0.049713,
     "end_time": "2022-03-27T21:55:10.221010",
     "exception": false,
     "start_time": "2022-03-27T21:55:10.171297",
     "status": "completed"
    },
    "tags": []
   },
   "outputs": [],
   "source": [
    "###########################################\n",
    "# The stratified datasets honor this\n",
    "###########################################\n",
    "torch.set_default_dtype(eval(p.torch_default_dtype))"
   ]
  },
  {
   "cell_type": "code",
   "execution_count": 8,
   "id": "b5fba671",
   "metadata": {
    "execution": {
     "iopub.execute_input": "2022-03-27T21:55:10.269703Z",
     "iopub.status.busy": "2022-03-27T21:55:10.269333Z",
     "iopub.status.idle": "2022-03-27T21:55:10.322110Z",
     "shell.execute_reply": "2022-03-27T21:55:10.321287Z"
    },
    "papermill": {
     "duration": 0.075247,
     "end_time": "2022-03-27T21:55:10.322266",
     "exception": false,
     "start_time": "2022-03-27T21:55:10.247019",
     "status": "completed"
    },
    "tags": []
   },
   "outputs": [],
   "source": [
    "###################################\n",
    "# Build the network(s)\n",
    "# Note: It's critical to do this AFTER setting the RNG\n",
    "###################################\n",
    "x_net = build_sequential(p.x_net)"
   ]
  },
  {
   "cell_type": "code",
   "execution_count": 9,
   "id": "5d7e61cc",
   "metadata": {
    "execution": {
     "iopub.execute_input": "2022-03-27T21:55:10.372551Z",
     "iopub.status.busy": "2022-03-27T21:55:10.371035Z",
     "iopub.status.idle": "2022-03-27T21:55:10.396010Z",
     "shell.execute_reply": "2022-03-27T21:55:10.395199Z"
    },
    "papermill": {
     "duration": 0.048277,
     "end_time": "2022-03-27T21:55:10.396173",
     "exception": false,
     "start_time": "2022-03-27T21:55:10.347896",
     "status": "completed"
    },
    "tags": []
   },
   "outputs": [],
   "source": [
    "start_time_secs = time.time()"
   ]
  },
  {
   "cell_type": "code",
   "execution_count": 10,
   "id": "c6b67dfd",
   "metadata": {
    "execution": {
     "iopub.execute_input": "2022-03-27T21:55:10.446868Z",
     "iopub.status.busy": "2022-03-27T21:55:10.446299Z",
     "iopub.status.idle": "2022-03-27T21:55:10.471299Z",
     "shell.execute_reply": "2022-03-27T21:55:10.470589Z"
    },
    "papermill": {
     "duration": 0.050613,
     "end_time": "2022-03-27T21:55:10.471454",
     "exception": false,
     "start_time": "2022-03-27T21:55:10.420841",
     "status": "completed"
    },
    "tags": []
   },
   "outputs": [],
   "source": [
    "p.domains_source = []\n",
    "p.domains_target = []\n",
    "\n",
    "\n",
    "train_original_source = []\n",
    "val_original_source   = []\n",
    "test_original_source  = []\n",
    "\n",
    "train_original_target = []\n",
    "val_original_target   = []\n",
    "test_original_target  = []"
   ]
  },
  {
   "cell_type": "code",
   "execution_count": 11,
   "id": "e3d9c3d3",
   "metadata": {
    "execution": {
     "iopub.execute_input": "2022-03-27T21:55:10.522765Z",
     "iopub.status.busy": "2022-03-27T21:55:10.522395Z",
     "iopub.status.idle": "2022-03-27T21:55:10.547789Z",
     "shell.execute_reply": "2022-03-27T21:55:10.546953Z"
    },
    "papermill": {
     "duration": 0.049479,
     "end_time": "2022-03-27T21:55:10.547946",
     "exception": false,
     "start_time": "2022-03-27T21:55:10.498467",
     "status": "completed"
    },
    "tags": []
   },
   "outputs": [],
   "source": [
    "# global_x_transform_func = lambda x: normalize(x.to(torch.get_default_dtype()), \"unit_power\") # unit_power, unit_mag\n",
    "# global_x_transform_func = lambda x: normalize(x, \"unit_power\") # unit_power, unit_mag"
   ]
  },
  {
   "cell_type": "code",
   "execution_count": 12,
   "id": "acb78fd2",
   "metadata": {
    "execution": {
     "iopub.execute_input": "2022-03-27T21:55:10.606074Z",
     "iopub.status.busy": "2022-03-27T21:55:10.605416Z",
     "iopub.status.idle": "2022-03-27T21:55:10.629203Z",
     "shell.execute_reply": "2022-03-27T21:55:10.628473Z"
    },
    "papermill": {
     "duration": 0.054943,
     "end_time": "2022-03-27T21:55:10.629375",
     "exception": false,
     "start_time": "2022-03-27T21:55:10.574432",
     "status": "completed"
    },
    "tags": []
   },
   "outputs": [],
   "source": [
    "def add_dataset(\n",
    "    labels,\n",
    "    domains,\n",
    "    pickle_path,\n",
    "    x_transforms,\n",
    "    episode_transforms,\n",
    "    domain_prefix,\n",
    "    num_examples_per_domain_per_label,\n",
    "    source_or_target_dataset:str,\n",
    "    iterator_seed=p.seed,\n",
    "    dataset_seed=p.dataset_seed,\n",
    "    n_shot=p.n_shot,\n",
    "    n_way=p.n_way,\n",
    "    n_query=p.n_query,\n",
    "    train_val_test_k_factors=(p.train_k_factor,p.val_k_factor,p.test_k_factor),\n",
    "):\n",
    "   \n",
    "    if x_transforms == []: x_transform = None\n",
    "    else: x_transform = get_chained_transform(x_transforms)\n",
    "    \n",
    "    if episode_transforms == []: episode_transform = None\n",
    "    else: raise Exception(\"episode_transforms not implemented\")\n",
    "    \n",
    "    episode_transform = lambda tup, _prefix=domain_prefix: (_prefix + str(tup[0]), tup[1])\n",
    "\n",
    "\n",
    "    eaf = Episodic_Accessor_Factory(\n",
    "        labels=labels,\n",
    "        domains=domains,\n",
    "        num_examples_per_domain_per_label=num_examples_per_domain_per_label,\n",
    "        iterator_seed=iterator_seed,\n",
    "        dataset_seed=dataset_seed,\n",
    "        n_shot=n_shot,\n",
    "        n_way=n_way,\n",
    "        n_query=n_query,\n",
    "        train_val_test_k_factors=train_val_test_k_factors,\n",
    "        pickle_path=pickle_path,\n",
    "        x_transform_func=x_transform,\n",
    "    )\n",
    "\n",
    "    train, val, test = eaf.get_train(), eaf.get_val(), eaf.get_test()\n",
    "    train = Lazy_Iterable_Wrapper(train, episode_transform)\n",
    "    val = Lazy_Iterable_Wrapper(val, episode_transform)\n",
    "    test = Lazy_Iterable_Wrapper(test, episode_transform)\n",
    "\n",
    "    if source_or_target_dataset==\"source\":\n",
    "        train_original_source.append(train)\n",
    "        val_original_source.append(val)\n",
    "        test_original_source.append(test)\n",
    "\n",
    "        p.domains_source.extend(\n",
    "            [domain_prefix + str(u) for u in domains]\n",
    "        )\n",
    "    elif source_or_target_dataset==\"target\":\n",
    "        train_original_target.append(train)\n",
    "        val_original_target.append(val)\n",
    "        test_original_target.append(test)\n",
    "        p.domains_target.extend(\n",
    "            [domain_prefix + str(u) for u in domains]\n",
    "        )\n",
    "    else:\n",
    "        raise Exception(f\"invalid source_or_target_dataset: {source_or_target_dataset}\")\n",
    "    "
   ]
  },
  {
   "cell_type": "code",
   "execution_count": 13,
   "id": "fe266617",
   "metadata": {
    "execution": {
     "iopub.execute_input": "2022-03-27T21:55:10.682759Z",
     "iopub.status.busy": "2022-03-27T21:55:10.682330Z",
     "iopub.status.idle": "2022-03-27T21:56:15.066842Z",
     "shell.execute_reply": "2022-03-27T21:56:15.066083Z"
    },
    "papermill": {
     "duration": 64.408992,
     "end_time": "2022-03-27T21:56:15.067038",
     "exception": false,
     "start_time": "2022-03-27T21:55:10.658046",
     "status": "completed"
    },
    "tags": []
   },
   "outputs": [],
   "source": [
    "for ds in p.datasets:\n",
    "    add_dataset(**ds)"
   ]
  },
  {
   "cell_type": "code",
   "execution_count": 14,
   "id": "b90d65ac",
   "metadata": {
    "execution": {
     "iopub.execute_input": "2022-03-27T21:56:15.118565Z",
     "iopub.status.busy": "2022-03-27T21:56:15.118037Z",
     "iopub.status.idle": "2022-03-27T21:56:15.141519Z",
     "shell.execute_reply": "2022-03-27T21:56:15.140691Z"
    },
    "papermill": {
     "duration": 0.048199,
     "end_time": "2022-03-27T21:56:15.141686",
     "exception": false,
     "start_time": "2022-03-27T21:56:15.093487",
     "status": "completed"
    },
    "tags": []
   },
   "outputs": [],
   "source": [
    "# from steves_utils.CORES.utils import (\n",
    "#     ALL_NODES,\n",
    "#     ALL_NODES_MINIMUM_1000_EXAMPLES,\n",
    "#     ALL_DAYS\n",
    "# )\n",
    "\n",
    "# add_dataset(\n",
    "#     labels=ALL_NODES,\n",
    "#     domains = ALL_DAYS,\n",
    "#     num_examples_per_domain_per_label=100,\n",
    "#     pickle_path=os.path.join(get_datasets_base_path(), \"cores.stratified_ds.2022A.pkl\"),\n",
    "#     source_or_target_dataset=\"target\",\n",
    "#     x_transform_func=global_x_transform_func,\n",
    "#     domain_modifier=lambda u: f\"cores_{u}\"\n",
    "# )"
   ]
  },
  {
   "cell_type": "code",
   "execution_count": 15,
   "id": "76db484d",
   "metadata": {
    "execution": {
     "iopub.execute_input": "2022-03-27T21:56:15.191323Z",
     "iopub.status.busy": "2022-03-27T21:56:15.190948Z",
     "iopub.status.idle": "2022-03-27T21:56:15.208441Z",
     "shell.execute_reply": "2022-03-27T21:56:15.207583Z"
    },
    "papermill": {
     "duration": 0.040764,
     "end_time": "2022-03-27T21:56:15.208599",
     "exception": false,
     "start_time": "2022-03-27T21:56:15.167835",
     "status": "completed"
    },
    "tags": []
   },
   "outputs": [],
   "source": [
    "# from steves_utils.ORACLE.utils_v2 import (\n",
    "#     ALL_DISTANCES_FEET,\n",
    "#     ALL_RUNS,\n",
    "#     ALL_SERIAL_NUMBERS,\n",
    "# )\n",
    "\n",
    "\n",
    "# add_dataset(\n",
    "#     labels=ALL_SERIAL_NUMBERS,\n",
    "#     domains = list(set(ALL_DISTANCES_FEET) - {2,62}),\n",
    "#     num_examples_per_domain_per_label=100,\n",
    "#     pickle_path=os.path.join(get_datasets_base_path(), \"oracle.Run2_framed_2000Examples_stratified_ds.2022A.pkl\"),\n",
    "#     source_or_target_dataset=\"source\",\n",
    "#     x_transform_func=global_x_transform_func,\n",
    "#     domain_modifier=lambda u: f\"oracle1_{u}\"\n",
    "# )\n"
   ]
  },
  {
   "cell_type": "code",
   "execution_count": 16,
   "id": "97dea9d2",
   "metadata": {
    "execution": {
     "iopub.execute_input": "2022-03-27T21:56:15.261498Z",
     "iopub.status.busy": "2022-03-27T21:56:15.261120Z",
     "iopub.status.idle": "2022-03-27T21:56:15.278297Z",
     "shell.execute_reply": "2022-03-27T21:56:15.277474Z"
    },
    "papermill": {
     "duration": 0.04072,
     "end_time": "2022-03-27T21:56:15.278453",
     "exception": false,
     "start_time": "2022-03-27T21:56:15.237733",
     "status": "completed"
    },
    "tags": []
   },
   "outputs": [],
   "source": [
    "# from steves_utils.ORACLE.utils_v2 import (\n",
    "#     ALL_DISTANCES_FEET,\n",
    "#     ALL_RUNS,\n",
    "#     ALL_SERIAL_NUMBERS,\n",
    "# )\n",
    "\n",
    "\n",
    "# add_dataset(\n",
    "#     labels=ALL_SERIAL_NUMBERS,\n",
    "#     domains = list(set(ALL_DISTANCES_FEET) - {2,62,56}),\n",
    "#     num_examples_per_domain_per_label=100,\n",
    "#     pickle_path=os.path.join(get_datasets_base_path(), \"oracle.Run2_framed_2000Examples_stratified_ds.2022A.pkl\"),\n",
    "#     source_or_target_dataset=\"source\",\n",
    "#     x_transform_func=global_x_transform_func,\n",
    "#     domain_modifier=lambda u: f\"oracle2_{u}\"\n",
    "# )"
   ]
  },
  {
   "cell_type": "code",
   "execution_count": 17,
   "id": "6f289866",
   "metadata": {
    "execution": {
     "iopub.execute_input": "2022-03-27T21:56:15.327406Z",
     "iopub.status.busy": "2022-03-27T21:56:15.327034Z",
     "iopub.status.idle": "2022-03-27T21:56:15.344382Z",
     "shell.execute_reply": "2022-03-27T21:56:15.343513Z"
    },
    "papermill": {
     "duration": 0.04013,
     "end_time": "2022-03-27T21:56:15.344540",
     "exception": false,
     "start_time": "2022-03-27T21:56:15.304410",
     "status": "completed"
    },
    "tags": []
   },
   "outputs": [],
   "source": [
    "# add_dataset(\n",
    "#     labels=list(range(19)),\n",
    "#     domains = [0,1,2],\n",
    "#     num_examples_per_domain_per_label=100,\n",
    "#     pickle_path=os.path.join(get_datasets_base_path(), \"metehan.stratified_ds.2022A.pkl\"),\n",
    "#     source_or_target_dataset=\"target\",\n",
    "#     x_transform_func=global_x_transform_func,\n",
    "#     domain_modifier=lambda u: f\"met_{u}\"\n",
    "# )"
   ]
  },
  {
   "cell_type": "code",
   "execution_count": 18,
   "id": "86a863c3",
   "metadata": {
    "execution": {
     "iopub.execute_input": "2022-03-27T21:56:15.397584Z",
     "iopub.status.busy": "2022-03-27T21:56:15.397208Z",
     "iopub.status.idle": "2022-03-27T21:56:15.414049Z",
     "shell.execute_reply": "2022-03-27T21:56:15.413230Z"
    },
    "papermill": {
     "duration": 0.040225,
     "end_time": "2022-03-27T21:56:15.414204",
     "exception": false,
     "start_time": "2022-03-27T21:56:15.373979",
     "status": "completed"
    },
    "tags": []
   },
   "outputs": [],
   "source": [
    "# # from steves_utils.wisig.utils import (\n",
    "# #     ALL_NODES_MINIMUM_100_EXAMPLES,\n",
    "# #     ALL_NODES_MINIMUM_500_EXAMPLES,\n",
    "# #     ALL_NODES_MINIMUM_1000_EXAMPLES,\n",
    "# #     ALL_DAYS\n",
    "# # )\n",
    "\n",
    "# import steves_utils.wisig.utils as wisig\n",
    "\n",
    "\n",
    "# add_dataset(\n",
    "#     labels=wisig.ALL_NODES_MINIMUM_100_EXAMPLES,\n",
    "#     domains = wisig.ALL_DAYS,\n",
    "#     num_examples_per_domain_per_label=100,\n",
    "#     pickle_path=os.path.join(get_datasets_base_path(), \"wisig.node3-19.stratified_ds.2022A.pkl\"),\n",
    "#     source_or_target_dataset=\"target\",\n",
    "#     x_transform_func=global_x_transform_func,\n",
    "#     domain_modifier=lambda u: f\"wisig_{u}\"\n",
    "# )"
   ]
  },
  {
   "cell_type": "code",
   "execution_count": 19,
   "id": "fd5442bc",
   "metadata": {
    "execution": {
     "iopub.execute_input": "2022-03-27T21:56:15.467070Z",
     "iopub.status.busy": "2022-03-27T21:56:15.466682Z",
     "iopub.status.idle": "2022-03-27T21:56:15.484650Z",
     "shell.execute_reply": "2022-03-27T21:56:15.483925Z"
    },
    "papermill": {
     "duration": 0.043925,
     "end_time": "2022-03-27T21:56:15.484807",
     "exception": false,
     "start_time": "2022-03-27T21:56:15.440882",
     "status": "completed"
    },
    "tags": []
   },
   "outputs": [],
   "source": [
    "###################################\n",
    "# Build the dataset\n",
    "###################################\n",
    "train_original_source = Iterable_Aggregator(train_original_source, p.seed)\n",
    "val_original_source = Iterable_Aggregator(val_original_source, p.seed)\n",
    "test_original_source = Iterable_Aggregator(test_original_source, p.seed)\n",
    "\n",
    "\n",
    "train_original_target = Iterable_Aggregator(train_original_target, p.seed)\n",
    "val_original_target = Iterable_Aggregator(val_original_target, p.seed)\n",
    "test_original_target = Iterable_Aggregator(test_original_target, p.seed)\n",
    "\n",
    "# For CNN We only use X and Y. And we only train on the source.\n",
    "# Properly form the data using a transform lambda and Lazy_Iterable_Wrapper. Finally wrap them in a dataloader\n",
    "\n",
    "transform_lambda = lambda ex: ex[1] # Original is (<domain>, <episode>) so we strip down to episode only\n",
    "\n",
    "train_processed_source = Lazy_Iterable_Wrapper(train_original_source, transform_lambda)\n",
    "val_processed_source   = Lazy_Iterable_Wrapper(val_original_source, transform_lambda)\n",
    "test_processed_source  = Lazy_Iterable_Wrapper(test_original_source, transform_lambda)\n",
    "\n",
    "train_processed_target = Lazy_Iterable_Wrapper(train_original_target, transform_lambda)\n",
    "val_processed_target   = Lazy_Iterable_Wrapper(val_original_target, transform_lambda)\n",
    "test_processed_target  = Lazy_Iterable_Wrapper(test_original_target, transform_lambda)\n",
    "\n",
    "datasets = EasyDict({\n",
    "    \"source\": {\n",
    "        \"original\": {\"train\":train_original_source, \"val\":val_original_source, \"test\":test_original_source},\n",
    "        \"processed\": {\"train\":train_processed_source, \"val\":val_processed_source, \"test\":test_processed_source}\n",
    "    },\n",
    "    \"target\": {\n",
    "        \"original\": {\"train\":train_original_target, \"val\":val_original_target, \"test\":test_original_target},\n",
    "        \"processed\": {\"train\":train_processed_target, \"val\":val_processed_target, \"test\":test_processed_target}\n",
    "    },\n",
    "})"
   ]
  },
  {
   "cell_type": "code",
   "execution_count": 20,
   "id": "5b3c01fc",
   "metadata": {
    "execution": {
     "iopub.execute_input": "2022-03-27T21:56:15.539241Z",
     "iopub.status.busy": "2022-03-27T21:56:15.538867Z",
     "iopub.status.idle": "2022-03-27T21:56:30.604263Z",
     "shell.execute_reply": "2022-03-27T21:56:30.603328Z"
    },
    "papermill": {
     "duration": 15.090239,
     "end_time": "2022-03-27T21:56:30.604443",
     "exception": false,
     "start_time": "2022-03-27T21:56:15.514204",
     "status": "completed"
    },
    "tags": []
   },
   "outputs": [
    {
     "name": "stdout",
     "output_type": "stream",
     "text": [
      "{'C_2', 'C_4', 'C_5', 'C_1', 'C_3'}\n"
     ]
    },
    {
     "name": "stdout",
     "output_type": "stream",
     "text": [
      "{'O_26', 'O_44', 'O_38', 'O_20', 'O_8', 'O_32', 'O_50', 'O_14'}\n"
     ]
    },
    {
     "name": "stdout",
     "output_type": "stream",
     "text": [
      "tensor([[[0., 0., 0.,  ..., 0., 0., 0.],\n",
      "         [0., 0., 0.,  ..., 0., 0., 0.]],\n",
      "\n",
      "        [[0., 0., 0.,  ..., 0., 0., 0.],\n",
      "         [0., 0., 0.,  ..., 0., 0., 0.]],\n",
      "\n",
      "        [[0., 0., 0.,  ..., 0., 0., 0.],\n",
      "         [0., 0., 0.,  ..., 0., 0., 0.]],\n",
      "\n",
      "        ...,\n",
      "\n",
      "        [[0., 0., 0.,  ..., 0., 0., 0.],\n",
      "         [0., 0., 0.,  ..., 0., 0., 0.]],\n",
      "\n",
      "        [[0., 0., 0.,  ..., 0., 0., 0.],\n",
      "         [0., 0., 0.,  ..., 0., 0., 0.]],\n",
      "\n",
      "        [[0., 0., 0.,  ..., 0., 0., 0.],\n",
      "         [0., 0., 0.,  ..., 0., 0., 0.]]])\n"
     ]
    }
   ],
   "source": [
    "from steves_utils.transforms import get_average_magnitude, get_average_power\n",
    "\n",
    "print(set([u for u,_ in val_original_source]))\n",
    "print(set([u for u,_ in val_original_target]))\n",
    "\n",
    "s_x, s_y, q_x, q_y, _ = next(iter(train_processed_source))\n",
    "print(s_x)\n",
    "\n",
    "# for ds in [\n",
    "#     train_processed_source,\n",
    "#     val_processed_source,\n",
    "#     test_processed_source,\n",
    "#     train_processed_target,\n",
    "#     val_processed_target,\n",
    "#     test_processed_target\n",
    "# ]:\n",
    "#     for s_x, s_y, q_x, q_y, _ in ds:\n",
    "#         for X in (s_x, q_x):\n",
    "#             for x in X:\n",
    "#                 assert np.isclose(get_average_magnitude(x.numpy()), 1.0)\n",
    "#                 assert np.isclose(get_average_power(x.numpy()), 1.0)\n",
    "                "
   ]
  },
  {
   "cell_type": "code",
   "execution_count": 21,
   "id": "bbdacba1",
   "metadata": {
    "execution": {
     "iopub.execute_input": "2022-03-27T21:56:30.662068Z",
     "iopub.status.busy": "2022-03-27T21:56:30.661100Z",
     "iopub.status.idle": "2022-03-27T21:56:30.783458Z",
     "shell.execute_reply": "2022-03-27T21:56:30.784168Z"
    },
    "papermill": {
     "duration": 0.150784,
     "end_time": "2022-03-27T21:56:30.784369",
     "exception": false,
     "start_time": "2022-03-27T21:56:30.633585",
     "status": "completed"
    },
    "tags": []
   },
   "outputs": [
    {
     "name": "stdout",
     "output_type": "stream",
     "text": [
      "(2, 256)\n"
     ]
    }
   ],
   "source": [
    "###################################\n",
    "# Build the model\n",
    "###################################\n",
    "# easfsl only wants a tuple for the shape\n",
    "model = Steves_Prototypical_Network(x_net, device=p.device, x_shape=tuple(p.x_shape))\n",
    "optimizer = Adam(params=model.parameters(), lr=p.lr)"
   ]
  },
  {
   "cell_type": "code",
   "execution_count": 22,
   "id": "22b39ac5",
   "metadata": {
    "execution": {
     "iopub.execute_input": "2022-03-27T21:56:30.854449Z",
     "iopub.status.busy": "2022-03-27T21:56:30.854076Z",
     "iopub.status.idle": "2022-03-27T22:42:07.688054Z",
     "shell.execute_reply": "2022-03-27T22:42:07.687671Z"
    },
    "papermill": {
     "duration": 2736.876942,
     "end_time": "2022-03-27T22:42:07.688138",
     "exception": false,
     "start_time": "2022-03-27T21:56:30.811196",
     "status": "completed"
    },
    "tags": []
   },
   "outputs": [
    {
     "name": "stdout",
     "output_type": "stream",
     "text": [
      "epoch: 1, [batch: 1 / 6297], examples_per_second: 34.6814, train_label_loss: 2.1905, \n"
     ]
    },
    {
     "name": "stdout",
     "output_type": "stream",
     "text": [
      "epoch: 1, [batch: 630 / 6297], examples_per_second: 1690.0222, train_label_loss: 0.1867, \n"
     ]
    },
    {
     "name": "stdout",
     "output_type": "stream",
     "text": [
      "epoch: 1, [batch: 1260 / 6297], examples_per_second: 1716.3043, train_label_loss: 0.0403, \n"
     ]
    },
    {
     "name": "stdout",
     "output_type": "stream",
     "text": [
      "epoch: 1, [batch: 1889 / 6297], examples_per_second: 2108.2518, train_label_loss: 0.0103, \n"
     ]
    },
    {
     "name": "stdout",
     "output_type": "stream",
     "text": [
      "epoch: 1, [batch: 2519 / 6297], examples_per_second: 1702.6131, train_label_loss: 0.0035, \n"
     ]
    },
    {
     "name": "stdout",
     "output_type": "stream",
     "text": [
      "epoch: 1, [batch: 3149 / 6297], examples_per_second: 1703.8207, train_label_loss: 0.0011, \n"
     ]
    },
    {
     "name": "stdout",
     "output_type": "stream",
     "text": [
      "epoch: 1, [batch: 3778 / 6297], examples_per_second: 1947.8392, train_label_loss: 0.0616, \n"
     ]
    },
    {
     "name": "stdout",
     "output_type": "stream",
     "text": [
      "epoch: 1, [batch: 4408 / 6297], examples_per_second: 1963.2270, train_label_loss: 0.0021, \n"
     ]
    },
    {
     "name": "stdout",
     "output_type": "stream",
     "text": [
      "epoch: 1, [batch: 5037 / 6297], examples_per_second: 1861.1895, train_label_loss: 0.0001, \n"
     ]
    },
    {
     "name": "stdout",
     "output_type": "stream",
     "text": [
      "epoch: 1, [batch: 5667 / 6297], examples_per_second: 1874.3700, train_label_loss: 0.0015, \n"
     ]
    },
    {
     "name": "stdout",
     "output_type": "stream",
     "text": [
      "=============================================================\n",
      "epoch: 1, source_val_acc_label: 0.9888, target_val_acc_label: 0.2824, source_val_label_loss: 0.0590, target_val_label_loss: 17.5946, \n",
      "=============================================================\n"
     ]
    },
    {
     "name": "stdout",
     "output_type": "stream",
     "text": [
      "New best\n"
     ]
    },
    {
     "name": "stdout",
     "output_type": "stream",
     "text": [
      "epoch: 2, [batch: 1 / 6333], examples_per_second: 1.6046, train_label_loss: 0.0014, \n"
     ]
    },
    {
     "name": "stdout",
     "output_type": "stream",
     "text": [
      "epoch: 2, [batch: 634 / 6333], examples_per_second: 1710.0309, train_label_loss: 0.0024, \n"
     ]
    },
    {
     "name": "stdout",
     "output_type": "stream",
     "text": [
      "epoch: 2, [batch: 1267 / 6333], examples_per_second: 1713.9712, train_label_loss: 0.2018, \n"
     ]
    },
    {
     "name": "stdout",
     "output_type": "stream",
     "text": [
      "epoch: 2, [batch: 1900 / 6333], examples_per_second: 1874.5991, train_label_loss: 0.0005, \n"
     ]
    },
    {
     "name": "stdout",
     "output_type": "stream",
     "text": [
      "epoch: 2, [batch: 2533 / 6333], examples_per_second: 2584.6301, train_label_loss: 0.0000, \n"
     ]
    },
    {
     "name": "stdout",
     "output_type": "stream",
     "text": [
      "epoch: 2, [batch: 3167 / 6333], examples_per_second: 2584.8698, train_label_loss: 0.0000, \n"
     ]
    },
    {
     "name": "stdout",
     "output_type": "stream",
     "text": [
      "epoch: 2, [batch: 3800 / 6333], examples_per_second: 3210.2700, train_label_loss: 0.0001, \n"
     ]
    },
    {
     "name": "stdout",
     "output_type": "stream",
     "text": [
      "epoch: 2, [batch: 4433 / 6333], examples_per_second: 4207.3083, train_label_loss: 0.0001, \n"
     ]
    },
    {
     "name": "stdout",
     "output_type": "stream",
     "text": [
      "epoch: 2, [batch: 5066 / 6333], examples_per_second: 4513.5297, train_label_loss: 0.0000, \n"
     ]
    },
    {
     "name": "stdout",
     "output_type": "stream",
     "text": [
      "epoch: 2, [batch: 5699 / 6333], examples_per_second: 4934.8817, train_label_loss: 0.0005, \n"
     ]
    },
    {
     "name": "stdout",
     "output_type": "stream",
     "text": [
      "=============================================================\n",
      "epoch: 2, source_val_acc_label: 0.9980, target_val_acc_label: 0.4754, source_val_label_loss: 0.0136, target_val_label_loss: 1.7826, \n",
      "=============================================================\n"
     ]
    },
    {
     "name": "stdout",
     "output_type": "stream",
     "text": [
      "New best\n"
     ]
    },
    {
     "name": "stdout",
     "output_type": "stream",
     "text": [
      "epoch: 3, [batch: 1 / 6305], examples_per_second: 4.3448, train_label_loss: 0.0002, \n"
     ]
    },
    {
     "name": "stdout",
     "output_type": "stream",
     "text": [
      "epoch: 3, [batch: 631 / 6305], examples_per_second: 3861.1555, train_label_loss: 0.0000, \n"
     ]
    },
    {
     "name": "stdout",
     "output_type": "stream",
     "text": [
      "epoch: 3, [batch: 1261 / 6305], examples_per_second: 4024.4076, train_label_loss: 0.0002, \n"
     ]
    },
    {
     "name": "stdout",
     "output_type": "stream",
     "text": [
      "epoch: 3, [batch: 1892 / 6305], examples_per_second: 4035.6160, train_label_loss: 0.0025, \n"
     ]
    },
    {
     "name": "stdout",
     "output_type": "stream",
     "text": [
      "epoch: 3, [batch: 2522 / 6305], examples_per_second: 3717.4162, train_label_loss: 0.0002, \n"
     ]
    },
    {
     "name": "stdout",
     "output_type": "stream",
     "text": [
      "epoch: 3, [batch: 3153 / 6305], examples_per_second: 1721.3714, train_label_loss: 0.0003, \n"
     ]
    },
    {
     "name": "stdout",
     "output_type": "stream",
     "text": [
      "epoch: 3, [batch: 3783 / 6305], examples_per_second: 1726.0998, train_label_loss: 0.0000, \n"
     ]
    },
    {
     "name": "stdout",
     "output_type": "stream",
     "text": [
      "epoch: 3, [batch: 4413 / 6305], examples_per_second: 1887.9088, train_label_loss: 0.0257, \n"
     ]
    },
    {
     "name": "stdout",
     "output_type": "stream",
     "text": [
      "epoch: 3, [batch: 5044 / 6305], examples_per_second: 2153.3400, train_label_loss: 0.0000, \n"
     ]
    },
    {
     "name": "stdout",
     "output_type": "stream",
     "text": [
      "epoch: 3, [batch: 5674 / 6305], examples_per_second: 1857.9684, train_label_loss: 0.0004, \n"
     ]
    },
    {
     "name": "stdout",
     "output_type": "stream",
     "text": [
      "=============================================================\n",
      "epoch: 3, source_val_acc_label: 0.9968, target_val_acc_label: 0.4603, source_val_label_loss: 0.0176, target_val_label_loss: 1.6101, \n",
      "=============================================================\n"
     ]
    },
    {
     "name": "stdout",
     "output_type": "stream",
     "text": [
      "epoch: 4, [batch: 1 / 6323], examples_per_second: 1.6557, train_label_loss: 0.0001, \n"
     ]
    },
    {
     "name": "stdout",
     "output_type": "stream",
     "text": [
      "epoch: 4, [batch: 633 / 6323], examples_per_second: 1807.9347, train_label_loss: 0.0210, \n"
     ]
    },
    {
     "name": "stdout",
     "output_type": "stream",
     "text": [
      "epoch: 4, [batch: 1265 / 6323], examples_per_second: 1970.4778, train_label_loss: 0.0000, \n"
     ]
    },
    {
     "name": "stdout",
     "output_type": "stream",
     "text": [
      "epoch: 4, [batch: 1897 / 6323], examples_per_second: 1730.1950, train_label_loss: 0.0006, \n"
     ]
    },
    {
     "name": "stdout",
     "output_type": "stream",
     "text": [
      "epoch: 4, [batch: 2529 / 6323], examples_per_second: 1713.1076, train_label_loss: 0.0000, \n"
     ]
    },
    {
     "name": "stdout",
     "output_type": "stream",
     "text": [
      "epoch: 4, [batch: 3162 / 6323], examples_per_second: 2119.1510, train_label_loss: 0.0000, \n"
     ]
    },
    {
     "name": "stdout",
     "output_type": "stream",
     "text": [
      "epoch: 4, [batch: 3794 / 6323], examples_per_second: 1713.4784, train_label_loss: 0.0000, \n"
     ]
    },
    {
     "name": "stdout",
     "output_type": "stream",
     "text": [
      "epoch: 4, [batch: 4426 / 6323], examples_per_second: 1706.5329, train_label_loss: 0.0497, \n"
     ]
    },
    {
     "name": "stdout",
     "output_type": "stream",
     "text": [
      "epoch: 4, [batch: 5058 / 6323], examples_per_second: 1929.0480, train_label_loss: 0.0006, \n"
     ]
    },
    {
     "name": "stdout",
     "output_type": "stream",
     "text": [
      "epoch: 4, [batch: 5690 / 6323], examples_per_second: 2001.8761, train_label_loss: 0.0024, \n"
     ]
    },
    {
     "name": "stdout",
     "output_type": "stream",
     "text": [
      "=============================================================\n",
      "epoch: 4, source_val_acc_label: 0.9984, target_val_acc_label: 0.4603, source_val_label_loss: 0.0093, target_val_label_loss: 1.6955, \n",
      "=============================================================\n"
     ]
    },
    {
     "name": "stdout",
     "output_type": "stream",
     "text": [
      "epoch: 5, [batch: 1 / 6317], examples_per_second: 1.6234, train_label_loss: 0.0000, \n"
     ]
    },
    {
     "name": "stdout",
     "output_type": "stream",
     "text": [
      "epoch: 5, [batch: 632 / 6317], examples_per_second: 1694.5218, train_label_loss: 0.0000, \n"
     ]
    },
    {
     "name": "stdout",
     "output_type": "stream",
     "text": [
      "epoch: 5, [batch: 1264 / 6317], examples_per_second: 2045.2578, train_label_loss: 0.0000, \n"
     ]
    },
    {
     "name": "stdout",
     "output_type": "stream",
     "text": [
      "epoch: 5, [batch: 1895 / 6317], examples_per_second: 1756.1217, train_label_loss: 0.0000, \n"
     ]
    },
    {
     "name": "stdout",
     "output_type": "stream",
     "text": [
      "epoch: 5, [batch: 2527 / 6317], examples_per_second: 1696.9705, train_label_loss: 0.0001, \n"
     ]
    },
    {
     "name": "stdout",
     "output_type": "stream",
     "text": [
      "epoch: 5, [batch: 3159 / 6317], examples_per_second: 1793.2734, train_label_loss: 0.0001, \n"
     ]
    },
    {
     "name": "stdout",
     "output_type": "stream",
     "text": [
      "epoch: 5, [batch: 3790 / 6317], examples_per_second: 2034.8609, train_label_loss: 0.0002, \n"
     ]
    },
    {
     "name": "stdout",
     "output_type": "stream",
     "text": [
      "epoch: 5, [batch: 4422 / 6317], examples_per_second: 1707.9298, train_label_loss: 0.0017, \n"
     ]
    },
    {
     "name": "stdout",
     "output_type": "stream",
     "text": [
      "epoch: 5, [batch: 5053 / 6317], examples_per_second: 1709.2904, train_label_loss: 0.0093, \n"
     ]
    },
    {
     "name": "stdout",
     "output_type": "stream",
     "text": [
      "epoch: 5, [batch: 5685 / 6317], examples_per_second: 2172.0371, train_label_loss: 0.0000, \n"
     ]
    },
    {
     "name": "stdout",
     "output_type": "stream",
     "text": [
      "=============================================================\n",
      "epoch: 5, source_val_acc_label: 0.9990, target_val_acc_label: 0.4768, source_val_label_loss: 0.0071, target_val_label_loss: 1.5528, \n",
      "=============================================================\n"
     ]
    },
    {
     "name": "stdout",
     "output_type": "stream",
     "text": [
      "New best\n"
     ]
    },
    {
     "name": "stdout",
     "output_type": "stream",
     "text": [
      "epoch: 6, [batch: 1 / 6329], examples_per_second: 1.6569, train_label_loss: 0.0042, \n"
     ]
    },
    {
     "name": "stdout",
     "output_type": "stream",
     "text": [
      "epoch: 6, [batch: 633 / 6329], examples_per_second: 1697.0688, train_label_loss: 0.0016, \n"
     ]
    },
    {
     "name": "stdout",
     "output_type": "stream",
     "text": [
      "epoch: 6, [batch: 1266 / 6329], examples_per_second: 1705.8839, train_label_loss: 0.0001, \n"
     ]
    },
    {
     "name": "stdout",
     "output_type": "stream",
     "text": [
      "epoch: 6, [batch: 1899 / 6329], examples_per_second: 2151.4906, train_label_loss: 0.0000, \n"
     ]
    },
    {
     "name": "stdout",
     "output_type": "stream",
     "text": [
      "epoch: 6, [batch: 2532 / 6329], examples_per_second: 1704.5589, train_label_loss: 0.0001, \n"
     ]
    },
    {
     "name": "stdout",
     "output_type": "stream",
     "text": [
      "epoch: 6, [batch: 3165 / 6329], examples_per_second: 1702.5326, train_label_loss: 0.0000, \n"
     ]
    },
    {
     "name": "stdout",
     "output_type": "stream",
     "text": [
      "epoch: 6, [batch: 3797 / 6329], examples_per_second: 2023.2190, train_label_loss: 0.0000, \n"
     ]
    },
    {
     "name": "stdout",
     "output_type": "stream",
     "text": [
      "epoch: 6, [batch: 4430 / 6329], examples_per_second: 1760.7568, train_label_loss: 0.0000, \n"
     ]
    },
    {
     "name": "stdout",
     "output_type": "stream",
     "text": [
      "epoch: 6, [batch: 5063 / 6329], examples_per_second: 1711.0868, train_label_loss: 0.0000, \n"
     ]
    },
    {
     "name": "stdout",
     "output_type": "stream",
     "text": [
      "epoch: 6, [batch: 5696 / 6329], examples_per_second: 1784.0339, train_label_loss: 0.0001, \n"
     ]
    },
    {
     "name": "stdout",
     "output_type": "stream",
     "text": [
      "=============================================================\n",
      "epoch: 6, source_val_acc_label: 0.9994, target_val_acc_label: 0.4476, source_val_label_loss: 0.0054, target_val_label_loss: 1.5672, \n",
      "=============================================================\n"
     ]
    },
    {
     "name": "stdout",
     "output_type": "stream",
     "text": [
      "epoch: 7, [batch: 1 / 6316], examples_per_second: 1.7277, train_label_loss: 0.0000, \n"
     ]
    },
    {
     "name": "stdout",
     "output_type": "stream",
     "text": [
      "epoch: 7, [batch: 632 / 6316], examples_per_second: 1712.1895, train_label_loss: 0.0002, \n"
     ]
    },
    {
     "name": "stdout",
     "output_type": "stream",
     "text": [
      "epoch: 7, [batch: 1264 / 6316], examples_per_second: 1712.9173, train_label_loss: 0.0000, \n"
     ]
    },
    {
     "name": "stdout",
     "output_type": "stream",
     "text": [
      "epoch: 7, [batch: 1895 / 6316], examples_per_second: 1915.4746, train_label_loss: 0.0000, \n"
     ]
    },
    {
     "name": "stdout",
     "output_type": "stream",
     "text": [
      "epoch: 7, [batch: 2527 / 6316], examples_per_second: 2437.5299, train_label_loss: 0.3249, \n"
     ]
    },
    {
     "name": "stdout",
     "output_type": "stream",
     "text": [
      "epoch: 7, [batch: 3158 / 6316], examples_per_second: 2711.3552, train_label_loss: 0.0001, \n"
     ]
    },
    {
     "name": "stdout",
     "output_type": "stream",
     "text": [
      "epoch: 7, [batch: 3790 / 6316], examples_per_second: 3269.9377, train_label_loss: 0.0085, \n"
     ]
    },
    {
     "name": "stdout",
     "output_type": "stream",
     "text": [
      "epoch: 7, [batch: 4421 / 6316], examples_per_second: 4020.2022, train_label_loss: 0.0001, \n"
     ]
    },
    {
     "name": "stdout",
     "output_type": "stream",
     "text": [
      "epoch: 7, [batch: 5053 / 6316], examples_per_second: 4115.8010, train_label_loss: 0.0002, \n"
     ]
    },
    {
     "name": "stdout",
     "output_type": "stream",
     "text": [
      "epoch: 7, [batch: 5684 / 6316], examples_per_second: 4119.1538, train_label_loss: 0.0288, \n"
     ]
    },
    {
     "name": "stdout",
     "output_type": "stream",
     "text": [
      "=============================================================\n",
      "epoch: 7, source_val_acc_label: 0.9992, target_val_acc_label: 0.4158, source_val_label_loss: 0.0062, target_val_label_loss: 1.6449, \n",
      "=============================================================\n"
     ]
    },
    {
     "name": "stdout",
     "output_type": "stream",
     "text": [
      "epoch: 8, [batch: 1 / 6315], examples_per_second: 4.5646, train_label_loss: 0.0000, \n"
     ]
    },
    {
     "name": "stdout",
     "output_type": "stream",
     "text": [
      "epoch: 8, [batch: 632 / 6315], examples_per_second: 3884.8439, train_label_loss: 0.0000, \n"
     ]
    },
    {
     "name": "stdout",
     "output_type": "stream",
     "text": [
      "epoch: 8, [batch: 1263 / 6315], examples_per_second: 4093.0380, train_label_loss: 0.0000, \n"
     ]
    },
    {
     "name": "stdout",
     "output_type": "stream",
     "text": [
      "epoch: 8, [batch: 1895 / 6315], examples_per_second: 4043.7737, train_label_loss: 0.0006, \n"
     ]
    },
    {
     "name": "stdout",
     "output_type": "stream",
     "text": [
      "epoch: 8, [batch: 2526 / 6315], examples_per_second: 2347.7892, train_label_loss: 0.0000, \n"
     ]
    },
    {
     "name": "stdout",
     "output_type": "stream",
     "text": [
      "epoch: 8, [batch: 3158 / 6315], examples_per_second: 1718.0916, train_label_loss: 0.0000, \n"
     ]
    },
    {
     "name": "stdout",
     "output_type": "stream",
     "text": [
      "epoch: 8, [batch: 3789 / 6315], examples_per_second: 1721.9132, train_label_loss: 0.0000, \n"
     ]
    },
    {
     "name": "stdout",
     "output_type": "stream",
     "text": [
      "epoch: 8, [batch: 4420 / 6315], examples_per_second: 2275.5901, train_label_loss: 0.0032, \n"
     ]
    },
    {
     "name": "stdout",
     "output_type": "stream",
     "text": [
      "epoch: 8, [batch: 5052 / 6315], examples_per_second: 1730.8819, train_label_loss: 0.0001, \n"
     ]
    },
    {
     "name": "stdout",
     "output_type": "stream",
     "text": [
      "epoch: 8, [batch: 5683 / 6315], examples_per_second: 1729.6957, train_label_loss: 0.0000, \n"
     ]
    },
    {
     "name": "stdout",
     "output_type": "stream",
     "text": [
      "=============================================================\n",
      "epoch: 8, source_val_acc_label: 0.9996, target_val_acc_label: 0.3988, source_val_label_loss: 0.0056, target_val_label_loss: 1.6718, \n",
      "=============================================================\n"
     ]
    },
    {
     "name": "stdout",
     "output_type": "stream",
     "text": [
      "epoch: 9, [batch: 1 / 6317], examples_per_second: 1.6369, train_label_loss: 0.0000, \n"
     ]
    },
    {
     "name": "stdout",
     "output_type": "stream",
     "text": [
      "epoch: 9, [batch: 632 / 6317], examples_per_second: 2357.9658, train_label_loss: 0.0000, \n"
     ]
    },
    {
     "name": "stdout",
     "output_type": "stream",
     "text": [
      "epoch: 9, [batch: 1264 / 6317], examples_per_second: 1727.9289, train_label_loss: 0.0009, \n"
     ]
    },
    {
     "name": "stdout",
     "output_type": "stream",
     "text": [
      "epoch: 9, [batch: 1895 / 6317], examples_per_second: 1740.8960, train_label_loss: 0.0000, \n"
     ]
    },
    {
     "name": "stdout",
     "output_type": "stream",
     "text": [
      "epoch: 9, [batch: 2527 / 6317], examples_per_second: 1871.4698, train_label_loss: 0.0000, \n"
     ]
    },
    {
     "name": "stdout",
     "output_type": "stream",
     "text": [
      "epoch: 9, [batch: 3159 / 6317], examples_per_second: 1910.3912, train_label_loss: 0.0002, \n"
     ]
    },
    {
     "name": "stdout",
     "output_type": "stream",
     "text": [
      "epoch: 9, [batch: 3790 / 6317], examples_per_second: 1713.9304, train_label_loss: 0.0001, \n"
     ]
    },
    {
     "name": "stdout",
     "output_type": "stream",
     "text": [
      "epoch: 9, [batch: 4422 / 6317], examples_per_second: 1697.9212, train_label_loss: 0.0000, \n"
     ]
    },
    {
     "name": "stdout",
     "output_type": "stream",
     "text": [
      "epoch: 9, [batch: 5053 / 6317], examples_per_second: 2008.5294, train_label_loss: 0.0000, \n"
     ]
    },
    {
     "name": "stdout",
     "output_type": "stream",
     "text": [
      "epoch: 9, [batch: 5685 / 6317], examples_per_second: 1717.8463, train_label_loss: 0.0000, \n"
     ]
    },
    {
     "name": "stdout",
     "output_type": "stream",
     "text": [
      "=============================================================\n",
      "epoch: 9, source_val_acc_label: 0.9992, target_val_acc_label: 0.4094, source_val_label_loss: 0.0112, target_val_label_loss: 1.7322, \n",
      "=============================================================\n"
     ]
    },
    {
     "name": "stdout",
     "output_type": "stream",
     "text": [
      "Patience (3) exhausted\n"
     ]
    }
   ],
   "source": [
    "###################################\n",
    "# train\n",
    "###################################\n",
    "jig = PTN_Train_Eval_Test_Jig(model, p.BEST_MODEL_PATH, p.device)\n",
    "\n",
    "jig.train(\n",
    "    train_iterable=datasets.source.processed.train,\n",
    "    source_val_iterable=datasets.source.processed.val,\n",
    "    target_val_iterable=datasets.target.processed.val,\n",
    "    num_epochs=p.n_epoch,\n",
    "    num_logs_per_epoch=p.NUM_LOGS_PER_EPOCH,\n",
    "    patience=p.patience,\n",
    "    optimizer=optimizer,\n",
    "    criteria_for_best=p.criteria_for_best,\n",
    ")"
   ]
  },
  {
   "cell_type": "code",
   "execution_count": 23,
   "id": "31e8fabf",
   "metadata": {
    "execution": {
     "iopub.execute_input": "2022-03-27T22:42:07.796454Z",
     "iopub.status.busy": "2022-03-27T22:42:07.796029Z",
     "iopub.status.idle": "2022-03-27T22:42:07.828426Z",
     "shell.execute_reply": "2022-03-27T22:42:07.827725Z"
    },
    "papermill": {
     "duration": 0.087183,
     "end_time": "2022-03-27T22:42:07.828585",
     "exception": false,
     "start_time": "2022-03-27T22:42:07.741402",
     "status": "completed"
    },
    "tags": []
   },
   "outputs": [],
   "source": [
    "total_experiment_time_secs = time.time() - start_time_secs"
   ]
  },
  {
   "cell_type": "code",
   "execution_count": 24,
   "id": "87b9595b",
   "metadata": {
    "execution": {
     "iopub.execute_input": "2022-03-27T22:42:07.952592Z",
     "iopub.status.busy": "2022-03-27T22:42:07.951447Z",
     "iopub.status.idle": "2022-03-27T22:48:02.860995Z",
     "shell.execute_reply": "2022-03-27T22:48:02.860119Z"
    },
    "papermill": {
     "duration": 354.967006,
     "end_time": "2022-03-27T22:48:02.861176",
     "exception": false,
     "start_time": "2022-03-27T22:42:07.894170",
     "status": "completed"
    },
    "tags": []
   },
   "outputs": [],
   "source": [
    "###################################\n",
    "# Evaluate the model\n",
    "###################################\n",
    "source_test_label_accuracy, source_test_label_loss = jig.test(datasets.source.processed.test)\n",
    "target_test_label_accuracy, target_test_label_loss = jig.test(datasets.target.processed.test)\n",
    "\n",
    "source_val_label_accuracy, source_val_label_loss = jig.test(datasets.source.processed.val)\n",
    "target_val_label_accuracy, target_val_label_loss = jig.test(datasets.target.processed.val)\n",
    "\n",
    "history = jig.get_history()\n",
    "\n",
    "total_epochs_trained = len(history[\"epoch_indices\"])\n",
    "\n",
    "val_dl = Iterable_Aggregator((datasets.source.original.val,datasets.target.original.val))\n",
    "\n",
    "confusion = ptn_confusion_by_domain_over_dataloader(model, p.device, val_dl)\n",
    "per_domain_accuracy = per_domain_accuracy_from_confusion(confusion)\n",
    "\n",
    "# Add a key to per_domain_accuracy for if it was a source domain\n",
    "for domain, accuracy in per_domain_accuracy.items():\n",
    "    per_domain_accuracy[domain] = {\n",
    "        \"accuracy\": accuracy,\n",
    "        \"source?\": domain in p.domains_source\n",
    "    }\n",
    "\n",
    "# Do an independent accuracy assesment JUST TO BE SURE!\n",
    "# _source_test_label_accuracy = independent_accuracy_assesment(model, datasets.source.processed.test, p.device)\n",
    "# _target_test_label_accuracy = independent_accuracy_assesment(model, datasets.target.processed.test, p.device)\n",
    "# _source_val_label_accuracy = independent_accuracy_assesment(model, datasets.source.processed.val, p.device)\n",
    "# _target_val_label_accuracy = independent_accuracy_assesment(model, datasets.target.processed.val, p.device)\n",
    "\n",
    "# assert(_source_test_label_accuracy == source_test_label_accuracy)\n",
    "# assert(_target_test_label_accuracy == target_test_label_accuracy)\n",
    "# assert(_source_val_label_accuracy == source_val_label_accuracy)\n",
    "# assert(_target_val_label_accuracy == target_val_label_accuracy)\n",
    "\n",
    "experiment = {\n",
    "    \"experiment_name\": p.experiment_name,\n",
    "    \"parameters\": dict(p),\n",
    "    \"results\": {\n",
    "        \"source_test_label_accuracy\": source_test_label_accuracy,\n",
    "        \"source_test_label_loss\": source_test_label_loss,\n",
    "        \"target_test_label_accuracy\": target_test_label_accuracy,\n",
    "        \"target_test_label_loss\": target_test_label_loss,\n",
    "        \"source_val_label_accuracy\": source_val_label_accuracy,\n",
    "        \"source_val_label_loss\": source_val_label_loss,\n",
    "        \"target_val_label_accuracy\": target_val_label_accuracy,\n",
    "        \"target_val_label_loss\": target_val_label_loss,\n",
    "        \"total_epochs_trained\": total_epochs_trained,\n",
    "        \"total_experiment_time_secs\": total_experiment_time_secs,\n",
    "        \"confusion\": confusion,\n",
    "        \"per_domain_accuracy\": per_domain_accuracy,\n",
    "    },\n",
    "    \"history\": history,\n",
    "    \"dataset_metrics\": get_dataset_metrics(datasets, \"ptn\"),\n",
    "}"
   ]
  },
  {
   "cell_type": "code",
   "execution_count": 25,
   "id": "54a21829",
   "metadata": {
    "execution": {
     "iopub.execute_input": "2022-03-27T22:48:02.972441Z",
     "iopub.status.busy": "2022-03-27T22:48:02.972057Z",
     "iopub.status.idle": "2022-03-27T22:48:03.202429Z",
     "shell.execute_reply": "2022-03-27T22:48:03.203117Z"
    },
    "papermill": {
     "duration": 0.287075,
     "end_time": "2022-03-27T22:48:03.203325",
     "exception": false,
     "start_time": "2022-03-27T22:48:02.916250",
     "status": "completed"
    },
    "tags": []
   },
   "outputs": [
    {
     "data": {
      "image/png": "[encoded data removed]",
      "text/plain": [
       "<Figure size 1080x504 with 1 Axes>"
      ]
     },
     "metadata": {
      "needs_background": "light"
     },
     "output_type": "display_data"
    }
   ],
   "source": [
    "ax = get_loss_curve(experiment)\n",
    "plt.show()"
   ]
  },
  {
   "cell_type": "code",
   "execution_count": 26,
   "id": "fd8a0f60",
   "metadata": {
    "execution": {
     "iopub.execute_input": "2022-03-27T22:48:03.318715Z",
     "iopub.status.busy": "2022-03-27T22:48:03.318322Z",
     "iopub.status.idle": "2022-03-27T22:48:03.700520Z",
     "shell.execute_reply": "2022-03-27T22:48:03.701224Z"
    },
    "papermill": {
     "duration": 0.442783,
     "end_time": "2022-03-27T22:48:03.701454",
     "exception": false,
     "start_time": "2022-03-27T22:48:03.258671",
     "status": "completed"
    },
    "tags": []
   },
   "outputs": [
    {
     "data": {
      "text/plain": [
       "<AxesSubplot:title={'center':'Results'}>"
      ]
     },
     "execution_count": 26,
     "metadata": {},
     "output_type": "execute_result"
    },
    {
     "data": {
      "image/png": "[encoded data removed]",
      "text/plain": [
       "<Figure size 1080x504 with 1 Axes>"
      ]
     },
     "metadata": {
      "needs_background": "light"
     },
     "output_type": "display_data"
    }
   ],
   "source": [
    "get_results_table(experiment)"
   ]
  },
  {
   "cell_type": "code",
   "execution_count": 27,
   "id": "cf8dc689",
   "metadata": {
    "execution": {
     "iopub.execute_input": "2022-03-27T22:48:03.814984Z",
     "iopub.status.busy": "2022-03-27T22:48:03.814614Z",
     "iopub.status.idle": "2022-03-27T22:48:04.055716Z",
     "shell.execute_reply": "2022-03-27T22:48:04.054845Z"
    },
    "papermill": {
     "duration": 0.297502,
     "end_time": "2022-03-27T22:48:04.055895",
     "exception": false,
     "start_time": "2022-03-27T22:48:03.758393",
     "status": "completed"
    },
    "tags": []
   },
   "outputs": [
    {
     "data": {
      "text/plain": [
       "<AxesSubplot:title={'center':'Per Domain Validation Accuracy'}, xlabel='domain'>"
      ]
     },
     "execution_count": 27,
     "metadata": {},
     "output_type": "execute_result"
    },
    {
     "data": {
      "image/png": "[encoded data removed]",
      "text/plain": [
       "<Figure size 1080x504 with 1 Axes>"
      ]
     },
     "metadata": {
      "needs_background": "light"
     },
     "output_type": "display_data"
    }
   ],
   "source": [
    "get_domain_accuracies(experiment)"
   ]
  },
  {
   "cell_type": "code",
   "execution_count": 28,
   "id": "a74ae082",
   "metadata": {
    "execution": {
     "iopub.execute_input": "2022-03-27T22:48:04.174072Z",
     "iopub.status.busy": "2022-03-27T22:48:04.173698Z",
     "iopub.status.idle": "2022-03-27T22:48:04.205455Z",
     "shell.execute_reply": "2022-03-27T22:48:04.204742Z"
    },
    "papermill": {
     "duration": 0.090419,
     "end_time": "2022-03-27T22:48:04.205610",
     "exception": false,
     "start_time": "2022-03-27T22:48:04.115191",
     "status": "completed"
    },
    "tags": []
   },
   "outputs": [
    {
     "name": "stdout",
     "output_type": "stream",
     "text": [
      "Source Test Label Accuracy: 0.9991951287793953 Target Test Label Accuracy: 0.47457682291666664\n",
      "Source Val Label Accuracy: 0.9989631006864989 Target Val Label Accuracy: 0.47682291666666665\n"
     ]
    }
   ],
   "source": [
    "print(\"Source Test Label Accuracy:\", experiment[\"results\"][\"source_test_label_accuracy\"], \"Target Test Label Accuracy:\", experiment[\"results\"][\"target_test_label_accuracy\"])\n",
    "print(\"Source Val Label Accuracy:\", experiment[\"results\"][\"source_val_label_accuracy\"], \"Target Val Label Accuracy:\", experiment[\"results\"][\"target_val_label_accuracy\"])"
   ]
  },
  {
   "cell_type": "code",
   "execution_count": 29,
   "id": "dacca602",
   "metadata": {
    "execution": {
     "iopub.execute_input": "2022-03-27T22:48:04.322934Z",
     "iopub.status.busy": "2022-03-27T22:48:04.322567Z",
     "iopub.status.idle": "2022-03-27T22:48:04.351037Z",
     "shell.execute_reply": "2022-03-27T22:48:04.351737Z"
    },
    "papermill": {
     "duration": 0.087275,
     "end_time": "2022-03-27T22:48:04.351918",
     "exception": false,
     "start_time": "2022-03-27T22:48:04.264643",
     "status": "completed"
    },
    "tags": [
     "experiment_json"
    ]
   },
   "outputs": [
    {
     "data": {
      "text/plain": [
       "'{\"experiment_name\": \"tl_3-jitter1v2:cores -> oracle.run1.framed\", \"parameters\": {\"experiment_name\": \"tl_3-jitter1v2:cores -> oracle.run1.framed\", \"device\": \"cuda\", \"lr\": 0.0001, \"x_shape\": [2, 256], \"n_shot\": 3, \"n_query\": 2, \"train_k_factor\": 3, \"val_k_factor\": 2, \"test_k_factor\": 2, \"torch_default_dtype\": \"torch.float32\", \"n_epoch\": 50, \"patience\": 3, \"criteria_for_best\": \"target_accuracy\", \"x_net\": [{\"class\": \"nnReshape\", \"kargs\": {\"shape\": [-1, 1, 2, 256]}}, {\"class\": \"Conv2d\", \"kargs\": {\"in_channels\": 1, \"out_channels\": 256, \"kernel_size\": [1, 7], \"bias\": false, \"padding\": [0, 3]}}, {\"class\": \"ReLU\", \"kargs\": {\"inplace\": true}}, {\"class\": \"BatchNorm2d\", \"kargs\": {\"num_features\": 256}}, {\"class\": \"Conv2d\", \"kargs\": {\"in_channels\": 256, \"out_channels\": 80, \"kernel_size\": [2, 7], \"bias\": true, \"padding\": [0, 3]}}, {\"class\": \"ReLU\", \"kargs\": {\"inplace\": true}}, {\"class\": \"BatchNorm2d\", \"kargs\": {\"num_features\": 80}}, {\"class\": \"Flatten\", \"kargs\": {}}, {\"class\": \"Linear\", \"kargs\": {\"in_features\": 20480, \"out_features\": 256}}, {\"class\": \"ReLU\", \"kargs\": {\"inplace\": true}}, {\"class\": \"BatchNorm1d\", \"kargs\": {\"num_features\": 256}}, {\"class\": \"Linear\", \"kargs\": {\"in_features\": 256, \"out_features\": 256}}], \"NUM_LOGS_PER_EPOCH\": 10, \"BEST_MODEL_PATH\": \"./best_model.pth\", \"n_way\": 16, \"datasets\": [{\"labels\": [\"1-10.\", \"1-11.\", \"1-15.\", \"1-16.\", \"1-17.\", \"1-18.\", \"1-19.\", \"10-4.\", \"10-7.\", \"11-1.\", \"11-14.\", \"11-17.\", \"11-20.\", \"11-7.\", \"13-20.\", \"13-8.\", \"14-10.\", \"14-11.\", \"14-14.\", \"14-7.\", \"15-1.\", \"15-20.\", \"16-1.\", \"16-16.\", \"17-10.\", \"17-11.\", \"17-2.\", \"19-1.\", \"19-16.\", \"19-19.\", \"19-20.\", \"19-3.\", \"2-10.\", \"2-11.\", \"2-17.\", \"2-18.\", \"2-20.\", \"2-3.\", \"2-4.\", \"2-5.\", \"2-6.\", \"2-7.\", \"2-8.\", \"3-13.\", \"3-18.\", \"3-3.\", \"4-1.\", \"4-10.\", \"4-11.\", \"4-19.\", \"5-5.\", \"6-15.\", \"7-10.\", \"7-14.\", \"8-18.\", \"8-20.\", \"8-3.\", \"8-8.\"], \"domains\": [1, 2, 3, 4, 5], \"num_examples_per_domain_per_label\": -1, \"pickle_path\": \"/root/csc500-main/datasets/cores.stratified_ds.2022A.pkl\", \"source_or_target_dataset\": \"source\", \"x_transforms\": [\"jitter_256_1\", \"lowpass_+/-10MHz\", \"take_200\"], \"episode_transforms\": [], \"domain_prefix\": \"C_\"}, {\"labels\": [\"3123D52\", \"3123D65\", \"3123D79\", \"3123D80\", \"3123D54\", \"3123D70\", \"3123D7B\", \"3123D89\", \"3123D58\", \"3123D76\", \"3123D7D\", \"3123EFE\", \"3123D64\", \"3123D78\", \"3123D7E\", \"3124E4A\"], \"domains\": [32, 38, 8, 44, 14, 50, 20, 26], \"num_examples_per_domain_per_label\": 2000, \"pickle_path\": \"/root/csc500-main/datasets/oracle.Run1_framed_2000Examples_stratified_ds.2022A.pkl\", \"source_or_target_dataset\": \"target\", \"x_transforms\": [\"jitter_256_1\", \"take_200\", \"resample_20Msps_to_25Msps\"], \"episode_transforms\": [], \"domain_prefix\": \"O_\"}], \"seed\": 154325, \"dataset_seed\": 154325, \"domains_source\": [\"C_1\", \"C_2\", \"C_3\", \"C_4\", \"C_5\"], \"domains_target\": [\"O_32\", \"O_38\", \"O_8\", \"O_44\", \"O_14\", \"O_50\", \"O_20\", \"O_26\"]}, \"results\": {\"source_test_label_accuracy\": 0.9991951287793953, \"source_test_label_loss\": 0.008396637625992298, \"target_test_label_accuracy\": 0.47457682291666664, \"target_test_label_loss\": 1.5537512302398682, \"source_val_label_accuracy\": 0.9989631006864989, \"source_val_label_loss\": 0.007063360884785652, \"target_val_label_accuracy\": 0.47682291666666665, \"target_val_label_loss\": 1.5528491735458374, \"total_epochs_trained\": 9, \"total_experiment_time_secs\": 2817.4325425624847, \"confusion\": {\"C_2\": {\"21\": {\"21\": 120}, \"4\": {\"4\": 130}, \"6\": {\"6\": 124}, \"10\": {\"10\": 112}, \"33\": {\"33\": 28}, \"56\": {\"56\": 121, \"22\": 1}, \"20\": {\"20\": 132}, \"24\": {\"24\": 96}, \"45\": {\"45\": 128}, \"32\": {\"32\": 28}, \"27\": {\"27\": 148}, \"53\": {\"53\": 136}, \"8\": {\"8\": 160}, \"54\": {\"54\": 108}, \"50\": {\"50\": 134}, \"44\": {\"44\": 100}, \"5\": {\"5\": 120}, \"38\": {\"38\": 20}, \"19\": {\"19\": 132}, \"1\": {\"1\": 112}, \"30\": {\"30\": 144}, \"15\": {\"15\": 144}, \"23\": {\"23\": 146}, \"35\": {\"35\": 32}, \"22\": {\"22\": 128}, \"40\": {\"40\": 140}, \"46\": {\"46\": 126}, \"3\": {\"3\": 92}, \"48\": {\"48\": 148}, \"52\": {\"52\": 124}, \"2\": {\"2\": 32}, \"26\": {\"26\": 24}, \"17\": {\"17\": 104}, \"55\": {\"55\": 144}, \"51\": {\"51\": 122}, \"42\": {\"42\": 36}, \"41\": {\"41\": 19, \"1\": 1}, \"31\": {\"31\": 28}, \"16\": {\"16\": 138}, \"36\": {\"36\": 116}, \"49\": {\"49\": 22, \"23\": 2}, \"0\": {\"0\": 48}, \"18\": {\"18\": 48}, \"25\": {\"25\": 145, \"18\": 1}, \"9\": {\"9\": 122}, \"47\": {\"47\": 132}, \"7\": {\"7\": 36}, \"37\": {\"37\": 36}, \"13\": {\"13\": 116}, \"14\": {\"14\": 24}, \"34\": {\"34\": 27, \"19\": 1}, \"57\": {\"57\": 140}, \"11\": {\"11\": 138}, \"39\": {\"39\": 28}, \"12\": {\"12\": 92}, \"28\": {\"28\": 28}, \"29\": {\"29\": 128}, \"43\": {\"43\": 140}}, \"C_5\": {\"12\": {\"12\": 96}, \"8\": {\"8\": 142}, \"29\": {\"29\": 132}, \"57\": {\"57\": 126}, \"38\": {\"38\": 32}, \"23\": {\"23\": 124}, \"56\": {\"56\": 138}, \"49\": {\"49\": 36}, \"4\": {\"4\": 100}, \"48\": {\"48\": 136}, \"21\": {\"21\": 144}, \"30\": {\"30\": 128}, \"1\": {\"1\": 148}, \"34\": {\"34\": 36}, \"35\": {\"35\": 36}, \"55\": {\"55\": 152}, \"5\": {\"5\": 122}, \"52\": {\"52\": 126}, \"6\": {\"6\": 126, \"50\": 2}, \"36\": {\"36\": 92}, \"41\": {\"41\": 28}, \"3\": {\"3\": 100}, \"28\": {\"28\": 32}, \"18\": {\"18\": 64}, \"25\": {\"25\": 136}, \"47\": {\"47\": 100}, \"13\": {\"13\": 160}, \"11\": {\"11\": 144}, \"53\": {\"53\": 144}, \"33\": {\"33\": 32}, \"46\": {\"46\": 148}, \"50\": {\"50\": 148}, \"10\": {\"10\": 68}, \"15\": {\"15\": 137, \"11\": 1}, \"44\": {\"44\": 140}, \"2\": {\"2\": 28}, \"7\": {\"7\": 32}, \"43\": {\"43\": 138}, \"32\": {\"32\": 32}, \"0\": {\"0\": 124}, \"39\": {\"39\": 20}, \"26\": {\"26\": 24}, \"27\": {\"27\": 112}, \"54\": {\"54\": 112}, \"17\": {\"17\": 116}, \"14\": {\"14\": 44}, \"16\": {\"16\": 148}, \"9\": {\"9\": 148}, \"19\": {\"19\": 152}, \"20\": {\"20\": 138}, \"37\": {\"37\": 23, \"14\": 1}, \"24\": {\"24\": 80}, \"40\": {\"40\": 122}, \"45\": {\"45\": 124}, \"22\": {\"22\": 28}, \"42\": {\"42\": 38, \"56\": 1, \"2\": 1}, \"51\": {\"51\": 118}, \"31\": {\"31\": 36}}, \"C_1\": {\"27\": {\"27\": 142}, \"2\": {\"2\": 36}, \"33\": {\"33\": 32}, \"45\": {\"45\": 156}, \"38\": {\"38\": 24}, \"4\": {\"4\": 132}, \"31\": {\"31\": 28}, \"55\": {\"55\": 140}, \"32\": {\"32\": 32}, \"57\": {\"57\": 140}, \"14\": {\"14\": 24}, \"16\": {\"16\": 140}, \"34\": {\"34\": 24}, \"56\": {\"56\": 126}, \"24\": {\"24\": 108}, \"30\": {\"30\": 112}, \"17\": {\"17\": 64}, \"13\": {\"13\": 138}, \"39\": {\"39\": 28}, \"50\": {\"50\": 146}, \"20\": {\"20\": 139, \"12\": 1}, \"41\": {\"41\": 24}, \"53\": {\"53\": 126}, \"48\": {\"48\": 142}, \"36\": {\"36\": 64}, \"8\": {\"8\": 140}, \"15\": {\"15\": 132}, \"40\": {\"40\": 156}, \"37\": {\"37\": 32}, \"21\": {\"21\": 120}, \"35\": {\"35\": 36}, \"49\": {\"49\": 32}, \"26\": {\"26\": 24}, \"28\": {\"28\": 28}, \"12\": {\"12\": 116}, \"5\": {\"5\": 152}, \"29\": {\"29\": 140}, \"47\": {\"47\": 140}, \"10\": {\"10\": 96}, \"18\": {\"18\": 71, \"50\": 1}, \"9\": {\"9\": 126}, \"3\": {\"3\": 140}, \"52\": {\"52\": 132}, \"25\": {\"25\": 136}, \"19\": {\"19\": 156}, \"11\": {\"11\": 136}, \"7\": {\"7\": 28}, \"23\": {\"23\": 136}, \"44\": {\"44\": 132}, \"42\": {\"42\": 40}, \"54\": {\"54\": 104}, \"1\": {\"1\": 100}, \"46\": {\"46\": 128}, \"6\": {\"6\": 96}, \"43\": {\"43\": 144}, \"51\": {\"51\": 142}, \"22\": {\"22\": 136}, \"0\": {\"0\": 128}}, \"C_4\": {\"32\": {\"32\": 24}, \"2\": {\"2\": 36}, \"41\": {\"41\": 36}, \"11\": {\"11\": 102}, \"57\": {\"57\": 100}, \"6\": {\"6\": 112}, \"23\": {\"23\": 136}, \"52\": {\"52\": 116}, \"38\": {\"38\": 40}, \"50\": {\"50\": 132}, \"55\": {\"55\": 152}, \"46\": {\"46\": 154}, \"37\": {\"37\": 24}, \"20\": {\"20\": 118}, \"49\": {\"49\": 20}, \"45\": {\"45\": 96}, \"54\": {\"54\": 108}, \"3\": {\"3\": 120, \"50\": 2, \"6\": 2}, \"13\": {\"13\": 152}, \"18\": {\"18\": 108}, \"21\": {\"21\": 126}, \"43\": {\"43\": 144}, \"47\": {\"47\": 120}, \"4\": {\"4\": 132}, \"12\": {\"12\": 92}, \"9\": {\"9\": 127, \"27\": 1}, \"7\": {\"7\": 24}, \"56\": {\"56\": 111, \"46\": 1}, \"28\": {\"28\": 32}, \"44\": {\"44\": 132}, \"24\": {\"24\": 56}, \"33\": {\"33\": 36}, \"35\": {\"35\": 40}, \"51\": {\"51\": 138}, \"39\": {\"39\": 20}, \"36\": {\"36\": 91, \"16\": 1}, \"19\": {\"19\": 140}, \"0\": {\"0\": 80}, \"15\": {\"15\": 136}, \"29\": {\"29\": 124}, \"30\": {\"30\": 44}, \"1\": {\"1\": 40}, \"22\": {\"22\": 128}, \"40\": {\"40\": 146}, \"8\": {\"8\": 128}, \"53\": {\"53\": 138}, \"34\": {\"34\": 23, \"28\": 1}, \"10\": {\"10\": 122}, \"31\": {\"31\": 28}, \"17\": {\"17\": 80}, \"16\": {\"16\": 96}, \"42\": {\"42\": 32}, \"27\": {\"27\": 142}, \"14\": {\"14\": 16}, \"25\": {\"25\": 122}, \"48\": {\"48\": 132}, \"26\": {\"26\": 22, \"19\": 1, \"17\": 1}, \"5\": {\"5\": 107, \"3\": 1}}, \"C_3\": {\"14\": {\"14\": 40}, \"18\": {\"18\": 84}, \"30\": {\"30\": 120}, \"16\": {\"16\": 156}, \"1\": {\"1\": 100}, \"20\": {\"20\": 132}, \"7\": {\"7\": 36}, \"52\": {\"52\": 130}, \"9\": {\"9\": 140}, \"23\": {\"23\": 144}, \"55\": {\"55\": 163, \"42\": 1}, \"29\": {\"29\": 126}, \"56\": {\"56\": 134}, \"3\": {\"3\": 123, \"50\": 1}, \"42\": {\"42\": 28}, \"6\": {\"6\": 88}, \"5\": {\"5\": 116}, \"27\": {\"27\": 144}, \"47\": {\"47\": 92}, \"39\": {\"39\": 16}, \"34\": {\"34\": 32}, \"4\": {\"4\": 126}, \"24\": {\"24\": 104}, \"46\": {\"46\": 117, \"21\": 1}, \"50\": {\"50\": 125, \"3\": 1}, \"38\": {\"38\": 28}, \"54\": {\"54\": 100}, \"35\": {\"35\": 28}, \"2\": {\"2\": 32}, \"41\": {\"41\": 28}, \"57\": {\"57\": 118}, \"25\": {\"25\": 150}, \"48\": {\"48\": 116}, \"33\": {\"33\": 28}, \"45\": {\"45\": 60}, \"13\": {\"13\": 126}, \"36\": {\"36\": 100}, \"43\": {\"43\": 132}, \"28\": {\"28\": 28}, \"0\": {\"0\": 124}, \"12\": {\"12\": 92}, \"31\": {\"31\": 28}, \"40\": {\"40\": 116}, \"44\": {\"44\": 88}, \"32\": {\"32\": 28}, \"26\": {\"26\": 24}, \"8\": {\"8\": 116}, \"10\": {\"10\": 64}, \"15\": {\"15\": 142}, \"21\": {\"21\": 128}, \"37\": {\"37\": 28}, \"17\": {\"17\": 108}, \"51\": {\"51\": 124}, \"53\": {\"53\": 144}, \"19\": {\"19\": 136}, \"49\": {\"49\": 20}, \"11\": {\"11\": 138}, \"22\": {\"22\": 130}}, \"O_8\": {\"13\": {\"13\": 98, \"10\": 51, \"6\": 20, \"7\": 27, \"5\": 35, \"11\": 1, \"1\": 7, \"4\": 1}, \"9\": {\"9\": 228, \"3\": 11, \"2\": 1}, \"15\": {\"12\": 77, \"2\": 35, \"15\": 128}, \"2\": {\"2\": 119, \"12\": 30, \"15\": 49, \"3\": 41, \"13\": 1}, \"3\": {\"3\": 227, \"2\": 11, \"9\": 2}, \"8\": {\"4\": 40, \"14\": 26, \"8\": 103, \"6\": 13, \"11\": 40, \"1\": 14, \"5\": 1, \"10\": 1, \"7\": 2}, \"5\": {\"4\": 12, \"13\": 50, \"5\": 63, \"10\": 60, \"11\": 14, \"6\": 10, \"1\": 18, \"12\": 4, \"7\": 9}, \"14\": {\"8\": 23, \"14\": 177, \"4\": 37, \"11\": 3}, \"1\": {\"5\": 26, \"1\": 70, \"11\": 44, \"4\": 16, \"6\": 26, \"10\": 30, \"7\": 14, \"8\": 8, \"13\": 6}, \"0\": {\"0\": 240}, \"10\": {\"10\": 56, \"5\": 35, \"1\": 23, \"6\": 33, \"13\": 43, \"7\": 40, \"11\": 5, \"8\": 1, \"4\": 4}, \"6\": {\"1\": 35, \"13\": 11, \"6\": 79, \"7\": 40, \"10\": 30, \"5\": 7, \"11\": 11, \"4\": 24, \"8\": 3}, \"11\": {\"1\": 60, \"5\": 16, \"6\": 26, \"11\": 55, \"8\": 30, \"4\": 28, \"10\": 10, \"14\": 7, \"7\": 7, \"13\": 1}, \"7\": {\"10\": 45, \"13\": 28, \"6\": 60, \"7\": 81, \"5\": 6, \"1\": 12, \"11\": 4, \"4\": 3, \"8\": 1}, \"4\": {\"14\": 56, \"8\": 36, \"11\": 29, \"4\": 102, \"1\": 10, \"6\": 5, \"7\": 2}, \"12\": {\"12\": 144, \"2\": 6, \"15\": 90}}, \"O_38\": {\"13\": {\"13\": 146, \"10\": 15, \"14\": 4, \"0\": 62, \"7\": 6, \"2\": 7}, \"12\": {\"12\": 216, \"8\": 8, \"5\": 15, \"7\": 1}, \"2\": {\"8\": 14, \"2\": 119, \"9\": 19, \"14\": 31, \"7\": 50, \"5\": 6, \"13\": 1}, \"9\": {\"9\": 135, \"8\": 35, \"5\": 39, \"2\": 24, \"7\": 6, \"14\": 1}, \"15\": {\"15\": 192, \"6\": 5, \"1\": 6, \"5\": 18, \"8\": 16, \"12\": 1, \"9\": 2}, \"5\": {\"5\": 79, \"2\": 18, \"7\": 9, \"8\": 64, \"9\": 31, \"15\": 30, \"14\": 1, \"12\": 8}, \"14\": {\"14\": 140, \"7\": 55, \"0\": 8, \"2\": 30, \"13\": 4, \"5\": 1, \"4\": 2}, \"0\": {\"14\": 8, \"10\": 86, \"13\": 64, \"7\": 9, \"0\": 57, \"3\": 7, \"2\": 6, \"9\": 1, \"4\": 2}, \"3\": {\"3\": 240}, \"1\": {\"1\": 123, \"6\": 117}, \"11\": {\"11\": 234, \"3\": 6}, \"7\": {\"14\": 74, \"7\": 91, \"2\": 58, \"13\": 6, \"9\": 5, \"0\": 3, \"8\": 2, \"5\": 1}, \"8\": {\"7\": 24, \"8\": 53, \"9\": 27, \"15\": 33, \"0\": 1, \"5\": 55, \"2\": 33, \"12\": 12, \"14\": 2}, \"4\": {\"4\": 220, \"10\": 8, \"13\": 3, \"0\": 7, \"7\": 1, \"14\": 1}, \"10\": {\"10\": 155, \"0\": 59, \"13\": 13, \"4\": 9, \"3\": 4}, \"6\": {\"1\": 120, \"6\": 118, \"15\": 2}}, \"O_26\": {\"10\": {\"14\": 62, \"0\": 38, \"10\": 68, \"15\": 21, \"1\": 19, \"6\": 24, \"2\": 4, \"5\": 4}, \"12\": {\"2\": 10, \"12\": 86, \"9\": 30, \"7\": 42, \"8\": 26, \"3\": 27, \"13\": 18, \"4\": 1}, \"1\": {\"15\": 15, \"1\": 126, \"14\": 22, \"5\": 13, \"6\": 30, \"11\": 18, \"10\": 16}, \"0\": {\"8\": 11, \"14\": 29, \"2\": 32, \"0\": 95, \"10\": 48, \"5\": 1, \"6\": 8, \"1\": 3, \"7\": 3, \"13\": 1, \"9\": 5, \"12\": 3, \"15\": 1}, \"15\": {\"1\": 27, \"6\": 44, \"10\": 37, \"15\": 55, \"5\": 39, \"11\": 5, \"14\": 22, \"0\": 9, \"2\": 2}, \"13\": {\"13\": 120, \"9\": 26, \"4\": 23, \"3\": 36, \"12\": 17, \"7\": 6, \"2\": 5, \"8\": 7}, \"8\": {\"12\": 29, \"8\": 58, \"9\": 37, \"3\": 11, \"0\": 13, \"7\": 48, \"2\": 39, \"13\": 3, \"10\": 2}, \"3\": {\"9\": 28, \"13\": 52, \"8\": 14, \"3\": 94, \"7\": 28, \"12\": 18, \"4\": 3, \"2\": 3}, \"11\": {\"11\": 128, \"5\": 34, \"6\": 24, \"1\": 27, \"15\": 25, \"10\": 1, \"14\": 1}, \"4\": {\"4\": 222, \"3\": 9, \"13\": 8, \"12\": 1}, \"6\": {\"15\": 59, \"1\": 40, \"6\": 55, \"11\": 8, \"5\": 44, \"14\": 23, \"10\": 10, \"0\": 1}, \"7\": {\"12\": 20, \"8\": 54, \"3\": 37, \"7\": 53, \"2\": 26, \"9\": 35, \"13\": 8, \"0\": 7}, \"14\": {\"6\": 24, \"1\": 33, \"14\": 70, \"0\": 34, \"10\": 63, \"15\": 15, \"2\": 1}, \"2\": {\"8\": 44, \"7\": 31, \"2\": 67, \"9\": 38, \"0\": 31, \"12\": 8, \"13\": 7, \"3\": 12, \"14\": 1, \"10\": 1}, \"5\": {\"15\": 70, \"10\": 10, \"6\": 48, \"5\": 67, \"11\": 18, \"1\": 22, \"14\": 5}, \"9\": {\"7\": 35, \"13\": 30, \"12\": 11, \"2\": 36, \"9\": 44, \"0\": 17, \"8\": 35, \"10\": 1, \"3\": 29, \"4\": 1, \"14\": 1}}, \"O_20\": {\"5\": {\"5\": 25, \"15\": 15, \"1\": 43, \"7\": 12, \"8\": 29, \"14\": 23, \"12\": 6, \"3\": 38, \"2\": 1, \"9\": 44, \"6\": 4}, \"15\": {\"15\": 45, \"2\": 32, \"12\": 24, \"1\": 20, \"4\": 11, \"5\": 12, \"13\": 39, \"9\": 24, \"7\": 18, \"6\": 7, \"3\": 6, \"14\": 2}, \"9\": {\"6\": 14, \"1\": 29, \"3\": 25, \"9\": 29, \"14\": 21, \"13\": 3, \"2\": 17, \"5\": 26, \"7\": 27, \"15\": 21, \"8\": 17, \"12\": 11}, \"7\": {\"9\": 27, \"5\": 15, \"7\": 40, \"1\": 21, \"2\": 30, \"3\": 14, \"13\": 15, \"12\": 21, \"15\": 22, \"6\": 19, \"8\": 3, \"4\": 6, \"14\": 7}, \"3\": {\"3\": 29, \"0\": 9, \"1\": 26, \"8\": 51, \"12\": 4, \"14\": 36, \"5\": 37, \"7\": 15, \"6\": 4, \"9\": 21, \"4\": 1, \"2\": 2, \"15\": 5}, \"8\": {\"5\": 26, \"8\": 83, \"14\": 47, \"9\": 11, \"3\": 35, \"0\": 27, \"1\": 8, \"12\": 1, \"7\": 2}, \"4\": {\"12\": 44, \"4\": 72, \"6\": 18, \"10\": 21, \"2\": 16, \"13\": 28, \"15\": 15, \"5\": 3, \"7\": 13, \"1\": 3, \"14\": 2, \"9\": 5}, \"6\": {\"13\": 10, \"5\": 5, \"7\": 39, \"6\": 77, \"12\": 21, \"9\": 14, \"4\": 12, \"3\": 5, \"2\": 28, \"15\": 7, \"1\": 7, \"14\": 13, \"8\": 2}, \"2\": {\"12\": 32, \"13\": 42, \"9\": 17, \"1\": 10, \"7\": 25, \"2\": 36, \"4\": 17, \"15\": 27, \"6\": 23, \"5\": 7, \"14\": 1, \"3\": 2, \"10\": 1}, \"12\": {\"15\": 23, \"2\": 38, \"12\": 48, \"7\": 18, \"13\": 36, \"6\": 18, \"4\": 22, \"1\": 14, \"5\": 5, \"3\": 5, \"9\": 9, \"10\": 3, \"14\": 1}, \"0\": {\"0\": 162, \"11\": 45, \"3\": 8, \"8\": 15, \"14\": 4, \"5\": 4, \"1\": 1, \"9\": 1}, \"13\": {\"15\": 24, \"13\": 115, \"2\": 38, \"7\": 9, \"4\": 12, \"12\": 26, \"10\": 9, \"6\": 7}, \"10\": {\"10\": 138, \"4\": 57, \"13\": 25, \"2\": 5, \"12\": 12, \"6\": 2, \"15\": 1}, \"11\": {\"11\": 192, \"0\": 46, \"8\": 2}, \"14\": {\"8\": 60, \"6\": 6, \"3\": 21, \"7\": 13, \"9\": 14, \"14\": 91, \"5\": 15, \"1\": 9, \"0\": 9, \"2\": 1, \"12\": 1}, \"1\": {\"5\": 28, \"15\": 31, \"12\": 10, \"9\": 35, \"3\": 24, \"8\": 14, \"7\": 22, \"1\": 43, \"13\": 5, \"14\": 10, \"2\": 13, \"6\": 5}}, \"O_50\": {\"1\": {\"1\": 115, \"13\": 71, \"8\": 38, \"10\": 14, \"0\": 1, \"11\": 1}, \"2\": {\"14\": 88, \"2\": 92, \"0\": 59, \"10\": 1}, \"8\": {\"8\": 137, \"1\": 69, \"10\": 33, \"13\": 1}, \"7\": {\"7\": 122, \"4\": 100, \"5\": 18}, \"14\": {\"2\": 85, \"14\": 102, \"0\": 52, \"10\": 1}, \"6\": {\"6\": 58, \"15\": 55, \"12\": 10, \"9\": 36, \"3\": 40, \"5\": 28, \"11\": 13}, \"3\": {\"3\": 64, \"6\": 44, \"5\": 11, \"11\": 49, \"9\": 20, \"12\": 18, \"15\": 31, \"13\": 3}, \"4\": {\"4\": 97, \"7\": 111, \"5\": 25, \"15\": 4, \"9\": 2, \"6\": 1}, \"12\": {\"12\": 146, \"6\": 6, \"11\": 31, \"9\": 40, \"3\": 12, \"15\": 2, \"5\": 2, \"13\": 1}, \"15\": {\"15\": 79, \"3\": 24, \"5\": 39, \"9\": 32, \"6\": 56, \"7\": 1, \"12\": 4, \"11\": 4, \"4\": 1}, \"11\": {\"11\": 148, \"9\": 10, \"13\": 16, \"3\": 31, \"12\": 20, \"6\": 5, \"15\": 9, \"5\": 1}, \"0\": {\"0\": 123, \"2\": 46, \"10\": 39, \"14\": 32}, \"9\": {\"12\": 28, \"11\": 11, \"15\": 40, \"6\": 33, \"9\": 73, \"5\": 28, \"3\": 25, \"4\": 2}, \"10\": {\"10\": 161, \"0\": 35, \"8\": 34, \"1\": 7, \"2\": 2, \"14\": 1}, \"5\": {\"11\": 15, \"3\": 8, \"7\": 42, \"4\": 36, \"6\": 18, \"5\": 80, \"15\": 27, \"13\": 7, \"9\": 7}, \"13\": {\"13\": 175, \"11\": 27, \"1\": 35, \"3\": 2, \"8\": 1}}, \"O_32\": {\"2\": {\"2\": 115, \"4\": 74, \"13\": 10, \"1\": 21, \"14\": 6, \"8\": 5, \"3\": 8, \"0\": 1}, \"6\": {\"6\": 231, \"10\": 9}, \"5\": {\"5\": 106, \"7\": 49, \"14\": 25, \"15\": 15, \"8\": 16, \"0\": 29}, \"12\": {\"12\": 193, \"10\": 21, \"9\": 17, \"11\": 9}, \"13\": {\"3\": 47, \"13\": 104, \"9\": 48, \"2\": 6, \"4\": 24, \"11\": 10, \"1\": 1}, \"9\": {\"11\": 47, \"9\": 82, \"3\": 18, \"12\": 38, \"13\": 45, \"4\": 4, \"1\": 2, \"10\": 3, \"2\": 1}, \"11\": {\"9\": 55, \"11\": 157, \"12\": 15, \"13\": 12, \"10\": 1}, \"1\": {\"1\": 160, \"2\": 34, \"4\": 27, \"8\": 8, \"0\": 1, \"14\": 6, \"3\": 3, \"13\": 1}, \"3\": {\"3\": 118, \"13\": 51, \"9\": 4, \"2\": 12, \"4\": 45, \"1\": 10}, \"7\": {\"14\": 43, \"5\": 61, \"7\": 78, \"0\": 45, \"15\": 2, \"8\": 11}, \"14\": {\"2\": 29, \"14\": 71, \"0\": 44, \"5\": 25, \"7\": 39, \"8\": 22, \"1\": 9, \"15\": 1}, \"8\": {\"0\": 54, \"8\": 100, \"5\": 20, \"14\": 33, \"7\": 13, \"2\": 6, \"1\": 6, \"15\": 7, \"4\": 1}, \"4\": {\"4\": 83, \"2\": 70, \"13\": 30, \"1\": 20, \"3\": 34, \"14\": 2, \"9\": 1}, \"0\": {\"7\": 35, \"14\": 42, \"8\": 42, \"5\": 46, \"0\": 67, \"1\": 5, \"2\": 2, \"4\": 1}, \"10\": {\"10\": 210, \"12\": 28, \"6\": 2}, \"15\": {\"15\": 213, \"5\": 16, \"0\": 4, \"8\": 5, \"7\": 2}}, \"O_44\": {\"13\": {\"6\": 87, \"13\": 145, \"9\": 7, \"11\": 1}, \"4\": {\"9\": 31, \"14\": 21, \"1\": 6, \"15\": 12, \"5\": 23, \"10\": 35, \"4\": 44, \"2\": 27, \"7\": 37, \"6\": 2, \"8\": 2}, \"6\": {\"6\": 138, \"13\": 75, \"9\": 26, \"10\": 1}, \"0\": {\"8\": 39, \"0\": 175, \"1\": 22, \"12\": 1, \"3\": 2, \"15\": 1}, \"10\": {\"14\": 27, \"4\": 38, \"10\": 41, \"9\": 29, \"7\": 70, \"5\": 25, \"1\": 2, \"2\": 5, \"15\": 3}, \"7\": {\"7\": 98, \"4\": 21, \"6\": 1, \"5\": 13, \"10\": 56, \"9\": 46, \"14\": 5}, \"14\": {\"4\": 30, \"14\": 74, \"5\": 60, \"10\": 28, \"15\": 27, \"7\": 11, \"2\": 7, \"9\": 3}, \"15\": {\"15\": 92, \"5\": 28, \"10\": 4, \"14\": 23, \"8\": 52, \"2\": 16, \"0\": 3, \"1\": 16, \"4\": 6}, \"5\": {\"4\": 33, \"5\": 51, \"10\": 18, \"2\": 15, \"14\": 63, \"7\": 9, \"15\": 41, \"9\": 4, \"8\": 3, \"1\": 3}, \"2\": {\"14\": 13, \"5\": 13, \"1\": 51, \"2\": 139, \"8\": 7, \"4\": 6, \"10\": 5, \"15\": 6}, \"9\": {\"4\": 23, \"9\": 56, \"13\": 25, \"7\": 43, \"6\": 35, \"5\": 12, \"10\": 28, \"14\": 7, \"2\": 9, \"15\": 2}, \"12\": {\"3\": 111, \"12\": 129}, \"8\": {\"2\": 9, \"8\": 92, \"0\": 72, \"1\": 30, \"15\": 29, \"14\": 3, \"5\": 3, \"10\": 1, \"4\": 1}, \"3\": {\"3\": 135, \"12\": 104, \"0\": 1}, \"1\": {\"15\": 14, \"2\": 32, \"1\": 119, \"8\": 41, \"0\": 31, \"14\": 2, \"5\": 1}, \"11\": {\"11\": 240}}, \"O_14\": {\"1\": {\"9\": 46, \"1\": 182, \"10\": 12}, \"15\": {\"15\": 240}, \"10\": {\"10\": 170, \"4\": 39, \"9\": 23, \"1\": 4, \"12\": 4}, \"2\": {\"14\": 29, \"3\": 18, \"12\": 9, \"0\": 20, \"2\": 50, \"4\": 29, \"5\": 50, \"13\": 10, \"6\": 11, \"8\": 4, \"7\": 8, \"10\": 2}, \"9\": {\"9\": 165, \"1\": 54, \"10\": 20, \"4\": 1}, \"5\": {\"5\": 102, \"12\": 9, \"7\": 4, \"2\": 46, \"3\": 5, \"4\": 9, \"8\": 28, \"0\": 17, \"14\": 19, \"13\": 1}, \"7\": {\"7\": 125, \"2\": 12, \"0\": 10, \"8\": 29, \"3\": 32, \"14\": 9, \"5\": 18, \"13\": 2, \"6\": 3}, \"13\": {\"3\": 14, \"6\": 75, \"15\": 21, \"5\": 18, \"0\": 9, \"2\": 15, \"14\": 31, \"13\": 51, \"4\": 5, \"12\": 1}, \"8\": {\"5\": 37, \"8\": 139, \"7\": 29, \"0\": 7, \"2\": 11, \"12\": 10, \"4\": 4, \"3\": 2, \"13\": 1}, \"6\": {\"13\": 63, \"6\": 108, \"3\": 38, \"2\": 4, \"14\": 24, \"0\": 3}, \"3\": {\"3\": 95, \"14\": 15, \"0\": 31, \"6\": 43, \"7\": 28, \"8\": 3, \"13\": 19, \"2\": 5, \"5\": 1}, \"12\": {\"12\": 167, \"8\": 8, \"10\": 4, \"0\": 12, \"5\": 18, \"4\": 23, \"14\": 3, \"2\": 5}, \"0\": {\"6\": 14, \"14\": 36, \"5\": 34, \"3\": 36, \"2\": 30, \"0\": 52, \"12\": 14, \"4\": 6, \"8\": 3, \"7\": 9, \"13\": 5, \"10\": 1}, \"4\": {\"4\": 134, \"5\": 31, \"10\": 41, \"2\": 24, \"12\": 8, \"0\": 1, \"9\": 1}, \"14\": {\"14\": 80, \"3\": 20, \"6\": 22, \"0\": 35, \"2\": 28, \"5\": 20, \"13\": 31, \"7\": 4}, \"11\": {\"11\": 239, \"1\": 1}}}, \"per_domain_accuracy\": {\"C_2\": {\"accuracy\": 0.9989346590909091, \"source?\": true}, \"C_5\": {\"accuracy\": 0.9989466292134831, \"source?\": true}, \"C_1\": {\"accuracy\": 0.9996565934065934, \"source?\": true}, \"C_4\": {\"accuracy\": 0.9979416167664671, \"source?\": true}, \"C_3\": {\"accuracy\": 0.9992690058479532, \"source?\": true}, \"O_8\": {\"accuracy\": 0.5130208333333334, \"source?\": false}, \"O_38\": {\"accuracy\": 0.6036458333333333, \"source?\": false}, \"O_26\": {\"accuracy\": 0.36666666666666664, \"source?\": false}, \"O_20\": {\"accuracy\": 0.3190104166666667, \"source?\": false}, \"O_50\": {\"accuracy\": 0.46145833333333336, \"source?\": false}, \"O_32\": {\"accuracy\": 0.54375, \"source?\": false}, \"O_44\": {\"accuracy\": 0.46041666666666664, \"source?\": false}, \"O_14\": {\"accuracy\": 0.5466145833333333, \"source?\": false}}}, \"history\": {\"epoch_indices\": [1, 2, 3, 4, 5, 6, 7, 8, 9], \"train_label_loss\": [0.04106515860635726, 0.0652848761657018, 0.012502880942934171, 0.008836310054760547, 0.016494240852209126, 0.004369441876206267, 0.006692369915949225, 0.004107904311475757, 0.0038897972926919466], \"source_val_label_loss\": [0.05898026004433632, 0.013624120503664017, 0.017629841342568398, 0.009340345859527588, 0.007063360884785652, 0.005410714074969292, 0.006207325495779514, 0.005634188186377287, 0.011159940622746944], \"target_val_label_loss\": [17.59461784362793, 1.782619595527649, 1.610103726387024, 1.695486068725586, 1.5528491735458374, 1.5671571493148804, 1.6448802947998047, 1.6717764139175415, 1.7321817874908447], \"source_val_acc_label\": [0.9888443935926774, 0.998033466819222, 0.9968177917620137, 0.9983552631578947, 0.9989631006864989, 0.9993564073226545, 0.9992133867276888, 0.9996066933638444, 0.9992491418764302], \"target_val_acc_label\": [0.282421875, 0.4754231770833333, 0.4603190104166667, 0.4602864583333333, 0.47682291666666665, 0.4475911458333333, 0.41578776041666665, 0.3987630208333333, 0.40944010416666665]}, \"dataset_metrics\": {\"source\": {\"train\": {\"n_unique_x\": 175191, \"n_unique_y\": 58, \"n_batch/episode\": 6296}, \"val\": {\"n_unique_x\": 37135, \"n_unique_y\": 58, \"n_batch/episode\": 874}, \"test\": {\"n_unique_x\": 37673, \"n_unique_y\": 58, \"n_batch/episode\": 893}}, \"target\": {\"train\": {\"n_unique_x\": 179200, \"n_unique_y\": 16, \"n_batch/episode\": 6720}, \"val\": {\"n_unique_x\": 38400, \"n_unique_y\": 16, \"n_batch/episode\": 960}, \"test\": {\"n_unique_x\": 38400, \"n_unique_y\": 16, \"n_batch/episode\": 960}}}}'"
      ]
     },
     "execution_count": 29,
     "metadata": {},
     "output_type": "execute_result"
    }
   ],
   "source": [
    "json.dumps(experiment)"
   ]
  }
 ],
 "metadata": {
  "celltoolbar": "Tags",
  "kernelspec": {
   "display_name": "Python 3 (ipykernel)",
   "language": "python",
   "name": "python3"
  },
  "language_info": {
   "codemirror_mode": {
    "name": "ipython",
    "version": 3
   },
   "file_extension": ".py",
   "mimetype": "text/x-python",
   "name": "python",
   "nbconvert_exporter": "python",
   "pygments_lexer": "ipython3",
   "version": "3.8.12"
  },
  "papermill": {
   "default_parameters": {},
   "duration": 3180.528117,
   "end_time": "2022-03-27T22:48:06.925708",
   "environment_variables": {},
   "exception": null,
   "input_path": "/root/csc500-main/csc500-notebooks/templates/tl_ptn_template.ipynb",
   "output_path": "trial.ipynb",
   "parameters": {
    "parameters": {
     "BEST_MODEL_PATH": "./best_model.pth",
     "NUM_LOGS_PER_EPOCH": 10,
     "criteria_for_best": "target_accuracy",
     "dataset_seed": 154325,
     "datasets": [
      {
       "domain_prefix": "C_",
       "domains": [
        1,
        2,
        3,
        4,
        5
       ],
       "episode_transforms": [],
       "labels": [
        "1-10.",
        "1-11.",
        "1-15.",
        "1-16.",
        "1-17.",
        "1-18.",
        "1-19.",
        "10-4.",
        "10-7.",
        "11-1.",
        "11-14.",
        "11-17.",
        "11-20.",
        "11-7.",
        "13-20.",
        "13-8.",
        "14-10.",
        "14-11.",
        "14-14.",
        "14-7.",
        "15-1.",
        "15-20.",
        "16-1.",
        "16-16.",
        "17-10.",
        "17-11.",
        "17-2.",
        "19-1.",
        "19-16.",
        "19-19.",
        "19-20.",
        "19-3.",
        "2-10.",
        "2-11.",
        "2-17.",
        "2-18.",
        "2-20.",
        "2-3.",
        "2-4.",
        "2-5.",
        "2-6.",
        "2-7.",
        "2-8.",
        "3-13.",
        "3-18.",
        "3-3.",
        "4-1.",
        "4-10.",
        "4-11.",
        "4-19.",
        "5-5.",
        "6-15.",
        "7-10.",
        "7-14.",
        "8-18.",
        "8-20.",
        "8-3.",
        "8-8."
       ],
       "num_examples_per_domain_per_label": -1,
       "pickle_path": "/root/csc500-main/datasets/cores.stratified_ds.2022A.pkl",
       "source_or_target_dataset": "source",
       "x_transforms": [
        "jitter_256_1",
        "lowpass_+/-10MHz",
        "take_200"
       ]
      },
      {
       "domain_prefix": "O_",
       "domains": [
        32,
        38,
        8,
        44,
        14,
        50,
        20,
        26
       ],
       "episode_transforms": [],
       "labels": [
        "3123D52",
        "3123D65",
        "3123D79",
        "3123D80",
        "3123D54",
        "3123D70",
        "3123D7B",
        "3123D89",
        "3123D58",
        "3123D76",
        "3123D7D",
        "3123EFE",
        "3123D64",
        "3123D78",
        "3123D7E",
        "3124E4A"
       ],
       "num_examples_per_domain_per_label": 2000,
       "pickle_path": "/root/csc500-main/datasets/oracle.Run1_framed_2000Examples_stratified_ds.2022A.pkl",
       "source_or_target_dataset": "target",
       "x_transforms": [
        "jitter_256_1",
        "take_200",
        "resample_20Msps_to_25Msps"
       ]
      }
     ],
     "device": "cuda",
     "experiment_name": "tl_3-jitter1v2:cores -> oracle.run1.framed",
     "lr": 0.0001,
     "n_epoch": 50,
     "n_query": 2,
     "n_shot": 3,
     "n_way": 16,
     "patience": 3,
     "seed": 154325,
     "test_k_factor": 2,
     "torch_default_dtype": "torch.float32",
     "train_k_factor": 3,
     "val_k_factor": 2,
     "x_net": [
      {
       "class": "nnReshape",
       "kargs": {
        "shape": [
         -1,
         1,
         2,
         256
        ]
       }
      },
      {
       "class": "Conv2d",
       "kargs": {
        "bias": false,
        "in_channels": 1,
        "kernel_size": [
         1,
         7
        ],
        "out_channels": 256,
        "padding": [
         0,
         3
        ]
       }
      },
      {
       "class": "ReLU",
       "kargs": {
        "inplace": true
       }
      },
      {
       "class": "BatchNorm2d",
       "kargs": {
        "num_features": 256
       }
      },
      {
       "class": "Conv2d",
       "kargs": {
        "bias": true,
        "in_channels": 256,
        "kernel_size": [
         2,
         7
        ],
        "out_channels": 80,
        "padding": [
         0,
         3
        ]
       }
      },
      {
       "class": "ReLU",
       "kargs": {
        "inplace": true
       }
      },
      {
       "class": "BatchNorm2d",
       "kargs": {
        "num_features": 80
       }
      },
      {
       "class": "Flatten",
       "kargs": {}
      },
      {
       "class": "Linear",
       "kargs": {
        "in_features": 20480,
        "out_features": 256
       }
      },
      {
       "class": "ReLU",
       "kargs": {
        "inplace": true
       }
      },
      {
       "class": "BatchNorm1d",
       "kargs": {
        "num_features": 256
       }
      },
      {
       "class": "Linear",
       "kargs": {
        "in_features": 256,
        "out_features": 256
       }
      }
     ],
     "x_shape": [
      2,
      256
     ]
    }
   },
   "start_time": "2022-03-27T21:55:06.397591",
   "version": "2.3.4"
  }
 },
 "nbformat": 4,
 "nbformat_minor": 5
}