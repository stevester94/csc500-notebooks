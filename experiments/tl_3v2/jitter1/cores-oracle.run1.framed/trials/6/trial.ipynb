{
 "cells": [
  {
   "cell_type": "markdown",
   "id": "9fea5f46",
   "metadata": {
    "papermill": {
     "duration": 0.016825,
     "end_time": "2022-03-26T20:52:39.206578",
     "exception": false,
     "start_time": "2022-03-26T20:52:39.189753",
     "status": "completed"
    },
    "tags": []
   },
   "source": [
    "# Transfer Learning Template"
   ]
  },
  {
   "cell_type": "code",
   "execution_count": 1,
   "id": "0902182a",
   "metadata": {
    "execution": {
     "iopub.execute_input": "2022-03-26T20:52:39.249850Z",
     "iopub.status.busy": "2022-03-26T20:52:39.244544Z",
     "iopub.status.idle": "2022-03-26T20:52:40.273660Z",
     "shell.execute_reply": "2022-03-26T20:52:40.273106Z"
    },
    "papermill": {
     "duration": 1.052618,
     "end_time": "2022-03-26T20:52:40.273779",
     "exception": false,
     "start_time": "2022-03-26T20:52:39.221161",
     "status": "completed"
    },
    "tags": []
   },
   "outputs": [],
   "source": [
    "%load_ext autoreload\n",
    "%autoreload 2\n",
    "%matplotlib inline\n",
    "\n",
    "    \n",
    "import os, json, sys, time, random\n",
    "import numpy as np\n",
    "import torch\n",
    "from torch.optim import Adam\n",
    "from  easydict import EasyDict\n",
    "import matplotlib.pyplot as plt\n",
    "\n",
    "from steves_models.steves_ptn import Steves_Prototypical_Network\n",
    "\n",
    "from steves_utils.lazy_iterable_wrapper import Lazy_Iterable_Wrapper\n",
    "from steves_utils.iterable_aggregator import Iterable_Aggregator\n",
    "from steves_utils.ptn_train_eval_test_jig import  PTN_Train_Eval_Test_Jig\n",
    "from steves_utils.torch_sequential_builder import build_sequential\n",
    "from steves_utils.torch_utils import get_dataset_metrics, ptn_confusion_by_domain_over_dataloader\n",
    "from steves_utils.utils_v2 import (per_domain_accuracy_from_confusion, get_datasets_base_path)\n",
    "from steves_utils.PTN.utils import independent_accuracy_assesment\n",
    "\n",
    "from torch.utils.data import DataLoader\n",
    "\n",
    "from steves_utils.stratified_dataset.episodic_accessor import Episodic_Accessor_Factory\n",
    "\n",
    "from steves_utils.ptn_do_report import (\n",
    "    get_loss_curve,\n",
    "    get_results_table,\n",
    "    get_parameters_table,\n",
    "    get_domain_accuracies,\n",
    ")\n",
    "\n",
    "from steves_utils.transforms import get_chained_transform"
   ]
  },
  {
   "cell_type": "markdown",
   "id": "41c840b4",
   "metadata": {
    "papermill": {
     "duration": 0.01486,
     "end_time": "2022-03-26T20:52:40.308269",
     "exception": false,
     "start_time": "2022-03-26T20:52:40.293409",
     "status": "completed"
    },
    "tags": []
   },
   "source": [
    "# Allowed Parameters\n",
    "These are allowed parameters, not defaults\n",
    "Each of these values need to be present in the injected parameters (the notebook will raise an exception if they are not present)\n",
    "\n",
    "Papermill uses the cell tag \"parameters\" to inject the real parameters below this cell.\n",
    "Enable tags to see what I mean"
   ]
  },
  {
   "cell_type": "code",
   "execution_count": 2,
   "id": "fd44eb83",
   "metadata": {
    "execution": {
     "iopub.execute_input": "2022-03-26T20:52:40.339820Z",
     "iopub.status.busy": "2022-03-26T20:52:40.339530Z",
     "iopub.status.idle": "2022-03-26T20:52:40.352828Z",
     "shell.execute_reply": "2022-03-26T20:52:40.353434Z"
    },
    "papermill": {
     "duration": 0.031825,
     "end_time": "2022-03-26T20:52:40.353625",
     "exception": false,
     "start_time": "2022-03-26T20:52:40.321800",
     "status": "completed"
    },
    "tags": []
   },
   "outputs": [],
   "source": [
    "required_parameters = {\n",
    "    \"experiment_name\",\n",
    "    \"lr\",\n",
    "    \"device\",\n",
    "    \"seed\",\n",
    "    \"dataset_seed\",\n",
    "    \"n_shot\",\n",
    "    \"n_query\",\n",
    "    \"n_way\",\n",
    "    \"train_k_factor\",\n",
    "    \"val_k_factor\",\n",
    "    \"test_k_factor\",\n",
    "    \"n_epoch\",\n",
    "    \"patience\",\n",
    "    \"criteria_for_best\",\n",
    "    \"x_net\",\n",
    "    \"datasets\",\n",
    "    \"torch_default_dtype\",\n",
    "    \"NUM_LOGS_PER_EPOCH\",\n",
    "    \"BEST_MODEL_PATH\",\n",
    "    \"x_shape\",\n",
    "}"
   ]
  },
  {
   "cell_type": "code",
   "execution_count": 3,
   "id": "fa3f0049",
   "metadata": {
    "execution": {
     "iopub.execute_input": "2022-03-26T20:52:40.397172Z",
     "iopub.status.busy": "2022-03-26T20:52:40.394429Z",
     "iopub.status.idle": "2022-03-26T20:52:40.410230Z",
     "shell.execute_reply": "2022-03-26T20:52:40.410464Z"
    },
    "papermill": {
     "duration": 0.037614,
     "end_time": "2022-03-26T20:52:40.410548",
     "exception": false,
     "start_time": "2022-03-26T20:52:40.372934",
     "status": "completed"
    },
    "tags": [
     "parameters"
    ]
   },
   "outputs": [],
   "source": [
    "from steves_utils.CORES.utils import (\n",
    "    ALL_NODES,\n",
    "    ALL_NODES_MINIMUM_1000_EXAMPLES,\n",
    "    ALL_DAYS\n",
    ")\n",
    "\n",
    "from steves_utils.ORACLE.utils_v2 import (\n",
    "    ALL_DISTANCES_FEET_NARROWED,\n",
    "    ALL_RUNS,\n",
    "    ALL_SERIAL_NUMBERS,\n",
    ")\n",
    "\n",
    "standalone_parameters = {}\n",
    "standalone_parameters[\"experiment_name\"] = \"STANDALONE PTN\"\n",
    "standalone_parameters[\"lr\"] = 0.001\n",
    "standalone_parameters[\"device\"] = \"cuda\"\n",
    "\n",
    "standalone_parameters[\"seed\"] = 1337\n",
    "standalone_parameters[\"dataset_seed\"] = 1337\n",
    "\n",
    "standalone_parameters[\"n_way\"] = 8\n",
    "standalone_parameters[\"n_shot\"] = 3\n",
    "standalone_parameters[\"n_query\"]  = 2\n",
    "standalone_parameters[\"train_k_factor\"] = 1\n",
    "standalone_parameters[\"val_k_factor\"] = 2\n",
    "standalone_parameters[\"test_k_factor\"] = 2\n",
    "\n",
    "\n",
    "standalone_parameters[\"n_epoch\"] = 50\n",
    "\n",
    "standalone_parameters[\"patience\"] = 10\n",
    "standalone_parameters[\"criteria_for_best\"] = \"source_loss\"\n",
    "\n",
    "standalone_parameters[\"datasets\"] = [\n",
    "    {\n",
    "        \"labels\": ALL_SERIAL_NUMBERS,\n",
    "        \"domains\": ALL_DISTANCES_FEET_NARROWED,\n",
    "        \"num_examples_per_domain_per_label\": 100,\n",
    "        \"pickle_path\": os.path.join(get_datasets_base_path(), \"oracle.Run1_framed_2000Examples_stratified_ds.2022A.pkl\"),\n",
    "        \"source_or_target_dataset\": \"source\",\n",
    "        \"x_transforms\": [\"unit_mag\", \"minus_two\"],\n",
    "        \"episode_transforms\": [],\n",
    "        \"domain_prefix\": \"ORACLE_\"\n",
    "    },\n",
    "    {\n",
    "        \"labels\": ALL_NODES,\n",
    "        \"domains\": ALL_DAYS,\n",
    "        \"num_examples_per_domain_per_label\": 100,\n",
    "        \"pickle_path\": os.path.join(get_datasets_base_path(), \"cores.stratified_ds.2022A.pkl\"),\n",
    "        \"source_or_target_dataset\": \"target\",\n",
    "        \"x_transforms\": [\"unit_power\", \"times_zero\"],\n",
    "        \"episode_transforms\": [],\n",
    "        \"domain_prefix\": \"CORES_\"\n",
    "    }   \n",
    "]\n",
    "\n",
    "standalone_parameters[\"torch_default_dtype\"] = \"torch.float32\" \n",
    "\n",
    "\n",
    "\n",
    "standalone_parameters[\"x_net\"] =     [\n",
    "    {\"class\": \"nnReshape\", \"kargs\": {\"shape\":[-1, 1, 2, 256]}},\n",
    "    {\"class\": \"Conv2d\", \"kargs\": { \"in_channels\":1, \"out_channels\":256, \"kernel_size\":(1,7), \"bias\":False, \"padding\":(0,3), },},\n",
    "    {\"class\": \"ReLU\", \"kargs\": {\"inplace\": True}},\n",
    "    {\"class\": \"BatchNorm2d\", \"kargs\": {\"num_features\":256}},\n",
    "\n",
    "    {\"class\": \"Conv2d\", \"kargs\": { \"in_channels\":256, \"out_channels\":80, \"kernel_size\":(2,7), \"bias\":True, \"padding\":(0,3), },},\n",
    "    {\"class\": \"ReLU\", \"kargs\": {\"inplace\": True}},\n",
    "    {\"class\": \"BatchNorm2d\", \"kargs\": {\"num_features\":80}},\n",
    "    {\"class\": \"Flatten\", \"kargs\": {}},\n",
    "\n",
    "    {\"class\": \"Linear\", \"kargs\": {\"in_features\": 80*256, \"out_features\": 256}}, # 80 units per IQ pair\n",
    "    {\"class\": \"ReLU\", \"kargs\": {\"inplace\": True}},\n",
    "    {\"class\": \"BatchNorm1d\", \"kargs\": {\"num_features\":256}},\n",
    "\n",
    "    {\"class\": \"Linear\", \"kargs\": {\"in_features\": 256, \"out_features\": 256}},\n",
    "]\n",
    "\n",
    "# Parameters relevant to results\n",
    "# These parameters will basically never need to change\n",
    "standalone_parameters[\"NUM_LOGS_PER_EPOCH\"] = 10\n",
    "standalone_parameters[\"BEST_MODEL_PATH\"] = \"./best_model.pth\"\n",
    "\n",
    "\n",
    "\n",
    "\n"
   ]
  },
  {
   "cell_type": "code",
   "execution_count": 4,
   "id": "6a2110d5",
   "metadata": {
    "execution": {
     "iopub.execute_input": "2022-03-26T20:52:40.446218Z",
     "iopub.status.busy": "2022-03-26T20:52:40.445709Z",
     "iopub.status.idle": "2022-03-26T20:52:40.458764Z",
     "shell.execute_reply": "2022-03-26T20:52:40.458990Z"
    },
    "papermill": {
     "duration": 0.033364,
     "end_time": "2022-03-26T20:52:40.459078",
     "exception": false,
     "start_time": "2022-03-26T20:52:40.425714",
     "status": "completed"
    },
    "tags": [
     "injected-parameters"
    ]
   },
   "outputs": [],
   "source": [
    "# Parameters\n",
    "parameters = {\n",
    "    \"experiment_name\": \"tl_3-jitter1v2:cores -> oracle.run1.framed\",\n",
    "    \"device\": \"cuda\",\n",
    "    \"lr\": 0.0001,\n",
    "    \"x_shape\": [2, 256],\n",
    "    \"n_shot\": 3,\n",
    "    \"n_query\": 2,\n",
    "    \"train_k_factor\": 3,\n",
    "    \"val_k_factor\": 2,\n",
    "    \"test_k_factor\": 2,\n",
    "    \"torch_default_dtype\": \"torch.float32\",\n",
    "    \"n_epoch\": 50,\n",
    "    \"patience\": 3,\n",
    "    \"criteria_for_best\": \"target_accuracy\",\n",
    "    \"x_net\": [\n",
    "        {\"class\": \"nnReshape\", \"kargs\": {\"shape\": [-1, 1, 2, 256]}},\n",
    "        {\n",
    "            \"class\": \"Conv2d\",\n",
    "            \"kargs\": {\n",
    "                \"in_channels\": 1,\n",
    "                \"out_channels\": 256,\n",
    "                \"kernel_size\": [1, 7],\n",
    "                \"bias\": False,\n",
    "                \"padding\": [0, 3],\n",
    "            },\n",
    "        },\n",
    "        {\"class\": \"ReLU\", \"kargs\": {\"inplace\": True}},\n",
    "        {\"class\": \"BatchNorm2d\", \"kargs\": {\"num_features\": 256}},\n",
    "        {\n",
    "            \"class\": \"Conv2d\",\n",
    "            \"kargs\": {\n",
    "                \"in_channels\": 256,\n",
    "                \"out_channels\": 80,\n",
    "                \"kernel_size\": [2, 7],\n",
    "                \"bias\": True,\n",
    "                \"padding\": [0, 3],\n",
    "            },\n",
    "        },\n",
    "        {\"class\": \"ReLU\", \"kargs\": {\"inplace\": True}},\n",
    "        {\"class\": \"BatchNorm2d\", \"kargs\": {\"num_features\": 80}},\n",
    "        {\"class\": \"Flatten\", \"kargs\": {}},\n",
    "        {\"class\": \"Linear\", \"kargs\": {\"in_features\": 20480, \"out_features\": 256}},\n",
    "        {\"class\": \"ReLU\", \"kargs\": {\"inplace\": True}},\n",
    "        {\"class\": \"BatchNorm1d\", \"kargs\": {\"num_features\": 256}},\n",
    "        {\"class\": \"Linear\", \"kargs\": {\"in_features\": 256, \"out_features\": 256}},\n",
    "    ],\n",
    "    \"NUM_LOGS_PER_EPOCH\": 10,\n",
    "    \"BEST_MODEL_PATH\": \"./best_model.pth\",\n",
    "    \"n_way\": 16,\n",
    "    \"datasets\": [\n",
    "        {\n",
    "            \"labels\": [\n",
    "                \"1-10.\",\n",
    "                \"1-11.\",\n",
    "                \"1-15.\",\n",
    "                \"1-16.\",\n",
    "                \"1-17.\",\n",
    "                \"1-18.\",\n",
    "                \"1-19.\",\n",
    "                \"10-4.\",\n",
    "                \"10-7.\",\n",
    "                \"11-1.\",\n",
    "                \"11-14.\",\n",
    "                \"11-17.\",\n",
    "                \"11-20.\",\n",
    "                \"11-7.\",\n",
    "                \"13-20.\",\n",
    "                \"13-8.\",\n",
    "                \"14-10.\",\n",
    "                \"14-11.\",\n",
    "                \"14-14.\",\n",
    "                \"14-7.\",\n",
    "                \"15-1.\",\n",
    "                \"15-20.\",\n",
    "                \"16-1.\",\n",
    "                \"16-16.\",\n",
    "                \"17-10.\",\n",
    "                \"17-11.\",\n",
    "                \"17-2.\",\n",
    "                \"19-1.\",\n",
    "                \"19-16.\",\n",
    "                \"19-19.\",\n",
    "                \"19-20.\",\n",
    "                \"19-3.\",\n",
    "                \"2-10.\",\n",
    "                \"2-11.\",\n",
    "                \"2-17.\",\n",
    "                \"2-18.\",\n",
    "                \"2-20.\",\n",
    "                \"2-3.\",\n",
    "                \"2-4.\",\n",
    "                \"2-5.\",\n",
    "                \"2-6.\",\n",
    "                \"2-7.\",\n",
    "                \"2-8.\",\n",
    "                \"3-13.\",\n",
    "                \"3-18.\",\n",
    "                \"3-3.\",\n",
    "                \"4-1.\",\n",
    "                \"4-10.\",\n",
    "                \"4-11.\",\n",
    "                \"4-19.\",\n",
    "                \"5-5.\",\n",
    "                \"6-15.\",\n",
    "                \"7-10.\",\n",
    "                \"7-14.\",\n",
    "                \"8-18.\",\n",
    "                \"8-20.\",\n",
    "                \"8-3.\",\n",
    "                \"8-8.\",\n",
    "            ],\n",
    "            \"domains\": [1, 2, 3, 4, 5],\n",
    "            \"num_examples_per_domain_per_label\": -1,\n",
    "            \"pickle_path\": \"/mnt/wd500GB/CSC500/csc500-main/datasets/cores.stratified_ds.2022A.pkl\",\n",
    "            \"source_or_target_dataset\": \"source\",\n",
    "            \"x_transforms\": [\n",
    "                \"unit_power\",\n",
    "                \"jitter_256_1\",\n",
    "                \"lowpass_+/-10MHz\",\n",
    "                \"take_200\",\n",
    "            ],\n",
    "            \"episode_transforms\": [],\n",
    "            \"domain_prefix\": \"C_\",\n",
    "        },\n",
    "        {\n",
    "            \"labels\": [\n",
    "                \"3123D52\",\n",
    "                \"3123D65\",\n",
    "                \"3123D79\",\n",
    "                \"3123D80\",\n",
    "                \"3123D54\",\n",
    "                \"3123D70\",\n",
    "                \"3123D7B\",\n",
    "                \"3123D89\",\n",
    "                \"3123D58\",\n",
    "                \"3123D76\",\n",
    "                \"3123D7D\",\n",
    "                \"3123EFE\",\n",
    "                \"3123D64\",\n",
    "                \"3123D78\",\n",
    "                \"3123D7E\",\n",
    "                \"3124E4A\",\n",
    "            ],\n",
    "            \"domains\": [32, 38, 8, 44, 14, 50, 20, 26],\n",
    "            \"num_examples_per_domain_per_label\": 2000,\n",
    "            \"pickle_path\": \"/mnt/wd500GB/CSC500/csc500-main/datasets/oracle.Run1_framed_2000Examples_stratified_ds.2022A.pkl\",\n",
    "            \"source_or_target_dataset\": \"target\",\n",
    "            \"x_transforms\": [\n",
    "                \"unit_power\",\n",
    "                \"jitter_256_1\",\n",
    "                \"take_200\",\n",
    "                \"resample_20Msps_to_25Msps\",\n",
    "            ],\n",
    "            \"episode_transforms\": [],\n",
    "            \"domain_prefix\": \"O_\",\n",
    "        },\n",
    "    ],\n",
    "    \"seed\": 154325,\n",
    "    \"dataset_seed\": 154325,\n",
    "}\n"
   ]
  },
  {
   "cell_type": "code",
   "execution_count": 5,
   "id": "8fa1cc33",
   "metadata": {
    "execution": {
     "iopub.execute_input": "2022-03-26T20:52:40.489318Z",
     "iopub.status.busy": "2022-03-26T20:52:40.488892Z",
     "iopub.status.idle": "2022-03-26T20:52:40.500628Z",
     "shell.execute_reply": "2022-03-26T20:52:40.500847Z"
    },
    "papermill": {
     "duration": 0.028324,
     "end_time": "2022-03-26T20:52:40.500927",
     "exception": false,
     "start_time": "2022-03-26T20:52:40.472603",
     "status": "completed"
    },
    "tags": []
   },
   "outputs": [],
   "source": [
    "# Set this to True if you want to run this template directly\n",
    "STANDALONE = False\n",
    "if STANDALONE:\n",
    "    print(\"parameters not injected, running with standalone_parameters\")\n",
    "    parameters = standalone_parameters\n",
    "\n",
    "if not 'parameters' in locals() and not 'parameters' in globals():\n",
    "    raise Exception(\"Parameter injection failed\")\n",
    "\n",
    "#Use an easy dict for all the parameters\n",
    "p = EasyDict(parameters)\n",
    "\n",
    "if \"x_shape\" not in p:\n",
    "    p.x_shape = [2,256] # Default to this if we dont supply x_shape\n",
    "\n",
    "\n",
    "supplied_keys = set(p.keys())\n",
    "\n",
    "if  supplied_keys != required_parameters:\n",
    "    print(\"Parameters are incorrect\")\n",
    "    if len(supplied_keys - required_parameters)>0: print(\"Shouldn't have:\", str(supplied_keys - required_parameters))\n",
    "    if len(required_parameters - supplied_keys)>0: print(\"Need to have:\", str(required_parameters - supplied_keys))\n",
    "    raise RuntimeError(\"Parameters are incorrect\")"
   ]
  },
  {
   "cell_type": "code",
   "execution_count": 6,
   "id": "3a028d58",
   "metadata": {
    "execution": {
     "iopub.execute_input": "2022-03-26T20:52:40.532559Z",
     "iopub.status.busy": "2022-03-26T20:52:40.532149Z",
     "iopub.status.idle": "2022-03-26T20:52:40.543579Z",
     "shell.execute_reply": "2022-03-26T20:52:40.543798Z"
    },
    "papermill": {
     "duration": 0.027072,
     "end_time": "2022-03-26T20:52:40.543876",
     "exception": false,
     "start_time": "2022-03-26T20:52:40.516804",
     "status": "completed"
    },
    "tags": []
   },
   "outputs": [],
   "source": [
    "###################################\n",
    "# Set the RNGs and make it all deterministic\n",
    "###################################\n",
    "np.random.seed(p.seed)\n",
    "random.seed(p.seed)\n",
    "torch.manual_seed(p.seed)\n",
    "\n",
    "torch.use_deterministic_algorithms(True) "
   ]
  },
  {
   "cell_type": "code",
   "execution_count": 7,
   "id": "b691acf6",
   "metadata": {
    "execution": {
     "iopub.execute_input": "2022-03-26T20:52:40.573318Z",
     "iopub.status.busy": "2022-03-26T20:52:40.572912Z",
     "iopub.status.idle": "2022-03-26T20:52:40.584220Z",
     "shell.execute_reply": "2022-03-26T20:52:40.584446Z"
    },
    "papermill": {
     "duration": 0.026856,
     "end_time": "2022-03-26T20:52:40.584527",
     "exception": false,
     "start_time": "2022-03-26T20:52:40.557671",
     "status": "completed"
    },
    "tags": []
   },
   "outputs": [],
   "source": [
    "###########################################\n",
    "# The stratified datasets honor this\n",
    "###########################################\n",
    "torch.set_default_dtype(eval(p.torch_default_dtype))"
   ]
  },
  {
   "cell_type": "code",
   "execution_count": 8,
   "id": "b5fba671",
   "metadata": {
    "execution": {
     "iopub.execute_input": "2022-03-26T20:52:40.619506Z",
     "iopub.status.busy": "2022-03-26T20:52:40.619247Z",
     "iopub.status.idle": "2022-03-26T20:52:40.657443Z",
     "shell.execute_reply": "2022-03-26T20:52:40.657874Z"
    },
    "papermill": {
     "duration": 0.059612,
     "end_time": "2022-03-26T20:52:40.658015",
     "exception": false,
     "start_time": "2022-03-26T20:52:40.598403",
     "status": "completed"
    },
    "tags": []
   },
   "outputs": [],
   "source": [
    "###################################\n",
    "# Build the network(s)\n",
    "# Note: It's critical to do this AFTER setting the RNG\n",
    "###################################\n",
    "x_net = build_sequential(p.x_net)"
   ]
  },
  {
   "cell_type": "code",
   "execution_count": 9,
   "id": "5d7e61cc",
   "metadata": {
    "execution": {
     "iopub.execute_input": "2022-03-26T20:52:40.692025Z",
     "iopub.status.busy": "2022-03-26T20:52:40.691768Z",
     "iopub.status.idle": "2022-03-26T20:52:40.708367Z",
     "shell.execute_reply": "2022-03-26T20:52:40.707930Z"
    },
    "papermill": {
     "duration": 0.032453,
     "end_time": "2022-03-26T20:52:40.708470",
     "exception": false,
     "start_time": "2022-03-26T20:52:40.676017",
     "status": "completed"
    },
    "tags": []
   },
   "outputs": [],
   "source": [
    "start_time_secs = time.time()"
   ]
  },
  {
   "cell_type": "code",
   "execution_count": 10,
   "id": "c6b67dfd",
   "metadata": {
    "execution": {
     "iopub.execute_input": "2022-03-26T20:52:40.743610Z",
     "iopub.status.busy": "2022-03-26T20:52:40.743337Z",
     "iopub.status.idle": "2022-03-26T20:52:40.760206Z",
     "shell.execute_reply": "2022-03-26T20:52:40.759796Z"
    },
    "papermill": {
     "duration": 0.033353,
     "end_time": "2022-03-26T20:52:40.760312",
     "exception": false,
     "start_time": "2022-03-26T20:52:40.726959",
     "status": "completed"
    },
    "tags": []
   },
   "outputs": [],
   "source": [
    "p.domains_source = []\n",
    "p.domains_target = []\n",
    "\n",
    "\n",
    "train_original_source = []\n",
    "val_original_source   = []\n",
    "test_original_source  = []\n",
    "\n",
    "train_original_target = []\n",
    "val_original_target   = []\n",
    "test_original_target  = []"
   ]
  },
  {
   "cell_type": "code",
   "execution_count": 11,
   "id": "e3d9c3d3",
   "metadata": {
    "execution": {
     "iopub.execute_input": "2022-03-26T20:52:40.794706Z",
     "iopub.status.busy": "2022-03-26T20:52:40.794453Z",
     "iopub.status.idle": "2022-03-26T20:52:40.811342Z",
     "shell.execute_reply": "2022-03-26T20:52:40.811750Z"
    },
    "papermill": {
     "duration": 0.032709,
     "end_time": "2022-03-26T20:52:40.811872",
     "exception": false,
     "start_time": "2022-03-26T20:52:40.779163",
     "status": "completed"
    },
    "tags": []
   },
   "outputs": [],
   "source": [
    "# global_x_transform_func = lambda x: normalize(x.to(torch.get_default_dtype()), \"unit_power\") # unit_power, unit_mag\n",
    "# global_x_transform_func = lambda x: normalize(x, \"unit_power\") # unit_power, unit_mag"
   ]
  },
  {
   "cell_type": "code",
   "execution_count": 12,
   "id": "acb78fd2",
   "metadata": {
    "execution": {
     "iopub.execute_input": "2022-03-26T20:52:40.851090Z",
     "iopub.status.busy": "2022-03-26T20:52:40.850300Z",
     "iopub.status.idle": "2022-03-26T20:52:40.863542Z",
     "shell.execute_reply": "2022-03-26T20:52:40.863045Z"
    },
    "papermill": {
     "duration": 0.033277,
     "end_time": "2022-03-26T20:52:40.863645",
     "exception": false,
     "start_time": "2022-03-26T20:52:40.830368",
     "status": "completed"
    },
    "tags": []
   },
   "outputs": [],
   "source": [
    "def add_dataset(\n",
    "    labels,\n",
    "    domains,\n",
    "    pickle_path,\n",
    "    x_transforms,\n",
    "    episode_transforms,\n",
    "    domain_prefix,\n",
    "    num_examples_per_domain_per_label,\n",
    "    source_or_target_dataset:str,\n",
    "    iterator_seed=p.seed,\n",
    "    dataset_seed=p.dataset_seed,\n",
    "    n_shot=p.n_shot,\n",
    "    n_way=p.n_way,\n",
    "    n_query=p.n_query,\n",
    "    train_val_test_k_factors=(p.train_k_factor,p.val_k_factor,p.test_k_factor),\n",
    "):\n",
    "   \n",
    "    if x_transforms == []: x_transform = None\n",
    "    else: x_transform = get_chained_transform(x_transforms)\n",
    "    \n",
    "    if episode_transforms == []: episode_transform = None\n",
    "    else: raise Exception(\"episode_transforms not implemented\")\n",
    "    \n",
    "    episode_transform = lambda tup, _prefix=domain_prefix: (_prefix + str(tup[0]), tup[1])\n",
    "\n",
    "\n",
    "    eaf = Episodic_Accessor_Factory(\n",
    "        labels=labels,\n",
    "        domains=domains,\n",
    "        num_examples_per_domain_per_label=num_examples_per_domain_per_label,\n",
    "        iterator_seed=iterator_seed,\n",
    "        dataset_seed=dataset_seed,\n",
    "        n_shot=n_shot,\n",
    "        n_way=n_way,\n",
    "        n_query=n_query,\n",
    "        train_val_test_k_factors=train_val_test_k_factors,\n",
    "        pickle_path=pickle_path,\n",
    "        x_transform_func=x_transform,\n",
    "    )\n",
    "\n",
    "    train, val, test = eaf.get_train(), eaf.get_val(), eaf.get_test()\n",
    "    train = Lazy_Iterable_Wrapper(train, episode_transform)\n",
    "    val = Lazy_Iterable_Wrapper(val, episode_transform)\n",
    "    test = Lazy_Iterable_Wrapper(test, episode_transform)\n",
    "\n",
    "    if source_or_target_dataset==\"source\":\n",
    "        train_original_source.append(train)\n",
    "        val_original_source.append(val)\n",
    "        test_original_source.append(test)\n",
    "\n",
    "        p.domains_source.extend(\n",
    "            [domain_prefix + str(u) for u in domains]\n",
    "        )\n",
    "    elif source_or_target_dataset==\"target\":\n",
    "        train_original_target.append(train)\n",
    "        val_original_target.append(val)\n",
    "        test_original_target.append(test)\n",
    "        p.domains_target.extend(\n",
    "            [domain_prefix + str(u) for u in domains]\n",
    "        )\n",
    "    else:\n",
    "        raise Exception(f\"invalid source_or_target_dataset: {source_or_target_dataset}\")\n",
    "    "
   ]
  },
  {
   "cell_type": "code",
   "execution_count": 13,
   "id": "fe266617",
   "metadata": {
    "execution": {
     "iopub.execute_input": "2022-03-26T20:52:40.901068Z",
     "iopub.status.busy": "2022-03-26T20:52:40.900809Z",
     "iopub.status.idle": "2022-03-26T20:54:04.796921Z",
     "shell.execute_reply": "2022-03-26T20:54:04.796463Z"
    },
    "papermill": {
     "duration": 83.913767,
     "end_time": "2022-03-26T20:54:04.797030",
     "exception": false,
     "start_time": "2022-03-26T20:52:40.883263",
     "status": "completed"
    },
    "tags": []
   },
   "outputs": [],
   "source": [
    "for ds in p.datasets:\n",
    "    add_dataset(**ds)"
   ]
  },
  {
   "cell_type": "code",
   "execution_count": 14,
   "id": "b90d65ac",
   "metadata": {
    "execution": {
     "iopub.execute_input": "2022-03-26T20:54:04.834691Z",
     "iopub.status.busy": "2022-03-26T20:54:04.834422Z",
     "iopub.status.idle": "2022-03-26T20:54:04.850524Z",
     "shell.execute_reply": "2022-03-26T20:54:04.850926Z"
    },
    "papermill": {
     "duration": 0.033639,
     "end_time": "2022-03-26T20:54:04.851051",
     "exception": false,
     "start_time": "2022-03-26T20:54:04.817412",
     "status": "completed"
    },
    "tags": []
   },
   "outputs": [],
   "source": [
    "# from steves_utils.CORES.utils import (\n",
    "#     ALL_NODES,\n",
    "#     ALL_NODES_MINIMUM_1000_EXAMPLES,\n",
    "#     ALL_DAYS\n",
    "# )\n",
    "\n",
    "# add_dataset(\n",
    "#     labels=ALL_NODES,\n",
    "#     domains = ALL_DAYS,\n",
    "#     num_examples_per_domain_per_label=100,\n",
    "#     pickle_path=os.path.join(get_datasets_base_path(), \"cores.stratified_ds.2022A.pkl\"),\n",
    "#     source_or_target_dataset=\"target\",\n",
    "#     x_transform_func=global_x_transform_func,\n",
    "#     domain_modifier=lambda u: f\"cores_{u}\"\n",
    "# )"
   ]
  },
  {
   "cell_type": "code",
   "execution_count": 15,
   "id": "76db484d",
   "metadata": {
    "execution": {
     "iopub.execute_input": "2022-03-26T20:54:04.884432Z",
     "iopub.status.busy": "2022-03-26T20:54:04.884164Z",
     "iopub.status.idle": "2022-03-26T20:54:04.900466Z",
     "shell.execute_reply": "2022-03-26T20:54:04.900038Z"
    },
    "papermill": {
     "duration": 0.03209,
     "end_time": "2022-03-26T20:54:04.900568",
     "exception": false,
     "start_time": "2022-03-26T20:54:04.868478",
     "status": "completed"
    },
    "tags": []
   },
   "outputs": [],
   "source": [
    "# from steves_utils.ORACLE.utils_v2 import (\n",
    "#     ALL_DISTANCES_FEET,\n",
    "#     ALL_RUNS,\n",
    "#     ALL_SERIAL_NUMBERS,\n",
    "# )\n",
    "\n",
    "\n",
    "# add_dataset(\n",
    "#     labels=ALL_SERIAL_NUMBERS,\n",
    "#     domains = list(set(ALL_DISTANCES_FEET) - {2,62}),\n",
    "#     num_examples_per_domain_per_label=100,\n",
    "#     pickle_path=os.path.join(get_datasets_base_path(), \"oracle.Run2_framed_2000Examples_stratified_ds.2022A.pkl\"),\n",
    "#     source_or_target_dataset=\"source\",\n",
    "#     x_transform_func=global_x_transform_func,\n",
    "#     domain_modifier=lambda u: f\"oracle1_{u}\"\n",
    "# )\n"
   ]
  },
  {
   "cell_type": "code",
   "execution_count": 16,
   "id": "97dea9d2",
   "metadata": {
    "execution": {
     "iopub.execute_input": "2022-03-26T20:54:04.935447Z",
     "iopub.status.busy": "2022-03-26T20:54:04.935186Z",
     "iopub.status.idle": "2022-03-26T20:54:04.950469Z",
     "shell.execute_reply": "2022-03-26T20:54:04.949972Z"
    },
    "papermill": {
     "duration": 0.031435,
     "end_time": "2022-03-26T20:54:04.950569",
     "exception": false,
     "start_time": "2022-03-26T20:54:04.919134",
     "status": "completed"
    },
    "tags": []
   },
   "outputs": [],
   "source": [
    "# from steves_utils.ORACLE.utils_v2 import (\n",
    "#     ALL_DISTANCES_FEET,\n",
    "#     ALL_RUNS,\n",
    "#     ALL_SERIAL_NUMBERS,\n",
    "# )\n",
    "\n",
    "\n",
    "# add_dataset(\n",
    "#     labels=ALL_SERIAL_NUMBERS,\n",
    "#     domains = list(set(ALL_DISTANCES_FEET) - {2,62,56}),\n",
    "#     num_examples_per_domain_per_label=100,\n",
    "#     pickle_path=os.path.join(get_datasets_base_path(), \"oracle.Run2_framed_2000Examples_stratified_ds.2022A.pkl\"),\n",
    "#     source_or_target_dataset=\"source\",\n",
    "#     x_transform_func=global_x_transform_func,\n",
    "#     domain_modifier=lambda u: f\"oracle2_{u}\"\n",
    "# )"
   ]
  },
  {
   "cell_type": "code",
   "execution_count": 17,
   "id": "6f289866",
   "metadata": {
    "execution": {
     "iopub.execute_input": "2022-03-26T20:54:04.986152Z",
     "iopub.status.busy": "2022-03-26T20:54:04.985887Z",
     "iopub.status.idle": "2022-03-26T20:54:04.997309Z",
     "shell.execute_reply": "2022-03-26T20:54:04.996977Z"
    },
    "papermill": {
     "duration": 0.02684,
     "end_time": "2022-03-26T20:54:04.997388",
     "exception": false,
     "start_time": "2022-03-26T20:54:04.970548",
     "status": "completed"
    },
    "tags": []
   },
   "outputs": [],
   "source": [
    "# add_dataset(\n",
    "#     labels=list(range(19)),\n",
    "#     domains = [0,1,2],\n",
    "#     num_examples_per_domain_per_label=100,\n",
    "#     pickle_path=os.path.join(get_datasets_base_path(), \"metehan.stratified_ds.2022A.pkl\"),\n",
    "#     source_or_target_dataset=\"target\",\n",
    "#     x_transform_func=global_x_transform_func,\n",
    "#     domain_modifier=lambda u: f\"met_{u}\"\n",
    "# )"
   ]
  },
  {
   "cell_type": "code",
   "execution_count": 18,
   "id": "86a863c3",
   "metadata": {
    "execution": {
     "iopub.execute_input": "2022-03-26T20:54:05.031822Z",
     "iopub.status.busy": "2022-03-26T20:54:05.031567Z",
     "iopub.status.idle": "2022-03-26T20:54:05.042425Z",
     "shell.execute_reply": "2022-03-26T20:54:05.042636Z"
    },
    "papermill": {
     "duration": 0.02634,
     "end_time": "2022-03-26T20:54:05.042706",
     "exception": false,
     "start_time": "2022-03-26T20:54:05.016366",
     "status": "completed"
    },
    "tags": []
   },
   "outputs": [],
   "source": [
    "# # from steves_utils.wisig.utils import (\n",
    "# #     ALL_NODES_MINIMUM_100_EXAMPLES,\n",
    "# #     ALL_NODES_MINIMUM_500_EXAMPLES,\n",
    "# #     ALL_NODES_MINIMUM_1000_EXAMPLES,\n",
    "# #     ALL_DAYS\n",
    "# # )\n",
    "\n",
    "# import steves_utils.wisig.utils as wisig\n",
    "\n",
    "\n",
    "# add_dataset(\n",
    "#     labels=wisig.ALL_NODES_MINIMUM_100_EXAMPLES,\n",
    "#     domains = wisig.ALL_DAYS,\n",
    "#     num_examples_per_domain_per_label=100,\n",
    "#     pickle_path=os.path.join(get_datasets_base_path(), \"wisig.node3-19.stratified_ds.2022A.pkl\"),\n",
    "#     source_or_target_dataset=\"target\",\n",
    "#     x_transform_func=global_x_transform_func,\n",
    "#     domain_modifier=lambda u: f\"wisig_{u}\"\n",
    "# )"
   ]
  },
  {
   "cell_type": "code",
   "execution_count": 19,
   "id": "fd5442bc",
   "metadata": {
    "execution": {
     "iopub.execute_input": "2022-03-26T20:54:05.078244Z",
     "iopub.status.busy": "2022-03-26T20:54:05.077971Z",
     "iopub.status.idle": "2022-03-26T20:54:05.090025Z",
     "shell.execute_reply": "2022-03-26T20:54:05.090347Z"
    },
    "papermill": {
     "duration": 0.02961,
     "end_time": "2022-03-26T20:54:05.090446",
     "exception": false,
     "start_time": "2022-03-26T20:54:05.060836",
     "status": "completed"
    },
    "tags": []
   },
   "outputs": [],
   "source": [
    "###################################\n",
    "# Build the dataset\n",
    "###################################\n",
    "train_original_source = Iterable_Aggregator(train_original_source, p.seed)\n",
    "val_original_source = Iterable_Aggregator(val_original_source, p.seed)\n",
    "test_original_source = Iterable_Aggregator(test_original_source, p.seed)\n",
    "\n",
    "\n",
    "train_original_target = Iterable_Aggregator(train_original_target, p.seed)\n",
    "val_original_target = Iterable_Aggregator(val_original_target, p.seed)\n",
    "test_original_target = Iterable_Aggregator(test_original_target, p.seed)\n",
    "\n",
    "# For CNN We only use X and Y. And we only train on the source.\n",
    "# Properly form the data using a transform lambda and Lazy_Iterable_Wrapper. Finally wrap them in a dataloader\n",
    "\n",
    "transform_lambda = lambda ex: ex[1] # Original is (<domain>, <episode>) so we strip down to episode only\n",
    "\n",
    "train_processed_source = Lazy_Iterable_Wrapper(train_original_source, transform_lambda)\n",
    "val_processed_source   = Lazy_Iterable_Wrapper(val_original_source, transform_lambda)\n",
    "test_processed_source  = Lazy_Iterable_Wrapper(test_original_source, transform_lambda)\n",
    "\n",
    "train_processed_target = Lazy_Iterable_Wrapper(train_original_target, transform_lambda)\n",
    "val_processed_target   = Lazy_Iterable_Wrapper(val_original_target, transform_lambda)\n",
    "test_processed_target  = Lazy_Iterable_Wrapper(test_original_target, transform_lambda)\n",
    "\n",
    "datasets = EasyDict({\n",
    "    \"source\": {\n",
    "        \"original\": {\"train\":train_original_source, \"val\":val_original_source, \"test\":test_original_source},\n",
    "        \"processed\": {\"train\":train_processed_source, \"val\":val_processed_source, \"test\":test_processed_source}\n",
    "    },\n",
    "    \"target\": {\n",
    "        \"original\": {\"train\":train_original_target, \"val\":val_original_target, \"test\":test_original_target},\n",
    "        \"processed\": {\"train\":train_processed_target, \"val\":val_processed_target, \"test\":test_processed_target}\n",
    "    },\n",
    "})"
   ]
  },
  {
   "cell_type": "code",
   "execution_count": 20,
   "id": "5b3c01fc",
   "metadata": {
    "execution": {
     "iopub.execute_input": "2022-03-26T20:54:05.127895Z",
     "iopub.status.busy": "2022-03-26T20:54:05.127639Z",
     "iopub.status.idle": "2022-03-26T20:54:12.177657Z",
     "shell.execute_reply": "2022-03-26T20:54:12.177929Z"
    },
    "papermill": {
     "duration": 7.06744,
     "end_time": "2022-03-26T20:54:12.178012",
     "exception": false,
     "start_time": "2022-03-26T20:54:05.110572",
     "status": "completed"
    },
    "tags": []
   },
   "outputs": [
    {
     "name": "stdout",
     "output_type": "stream",
     "text": [
      "{'C_4', 'C_5', 'C_2', 'C_3', 'C_1'}\n"
     ]
    },
    {
     "name": "stdout",
     "output_type": "stream",
     "text": [
      "{'O_26', 'O_38', 'O_44', 'O_8', 'O_20', 'O_32', 'O_14', 'O_50'}\n"
     ]
    },
    {
     "name": "stdout",
     "output_type": "stream",
     "text": [
      "tensor([[[0., 0., 0.,  ..., 0., 0., 0.],\n",
      "         [0., 0., 0.,  ..., 0., 0., 0.]],\n",
      "\n",
      "        [[0., 0., 0.,  ..., 0., 0., 0.],\n",
      "         [0., 0., 0.,  ..., 0., 0., 0.]],\n",
      "\n",
      "        [[0., 0., 0.,  ..., 0., 0., 0.],\n",
      "         [0., 0., 0.,  ..., 0., 0., 0.]],\n",
      "\n",
      "        ...,\n",
      "\n",
      "        [[0., 0., 0.,  ..., 0., 0., 0.],\n",
      "         [0., 0., 0.,  ..., 0., 0., 0.]],\n",
      "\n",
      "        [[0., 0., 0.,  ..., 0., 0., 0.],\n",
      "         [0., 0., 0.,  ..., 0., 0., 0.]],\n",
      "\n",
      "        [[0., 0., 0.,  ..., 0., 0., 0.],\n",
      "         [0., 0., 0.,  ..., 0., 0., 0.]]])\n"
     ]
    }
   ],
   "source": [
    "from steves_utils.transforms import get_average_magnitude, get_average_power\n",
    "\n",
    "print(set([u for u,_ in val_original_source]))\n",
    "print(set([u for u,_ in val_original_target]))\n",
    "\n",
    "s_x, s_y, q_x, q_y, _ = next(iter(train_processed_source))\n",
    "print(s_x)\n",
    "\n",
    "# for ds in [\n",
    "#     train_processed_source,\n",
    "#     val_processed_source,\n",
    "#     test_processed_source,\n",
    "#     train_processed_target,\n",
    "#     val_processed_target,\n",
    "#     test_processed_target\n",
    "# ]:\n",
    "#     for s_x, s_y, q_x, q_y, _ in ds:\n",
    "#         for X in (s_x, q_x):\n",
    "#             for x in X:\n",
    "#                 assert np.isclose(get_average_magnitude(x.numpy()), 1.0)\n",
    "#                 assert np.isclose(get_average_power(x.numpy()), 1.0)\n",
    "                "
   ]
  },
  {
   "cell_type": "code",
   "execution_count": 21,
   "id": "bbdacba1",
   "metadata": {
    "execution": {
     "iopub.execute_input": "2022-03-26T20:54:12.217470Z",
     "iopub.status.busy": "2022-03-26T20:54:12.217201Z",
     "iopub.status.idle": "2022-03-26T20:54:12.283492Z",
     "shell.execute_reply": "2022-03-26T20:54:12.283916Z"
    },
    "papermill": {
     "duration": 0.085185,
     "end_time": "2022-03-26T20:54:12.284052",
     "exception": false,
     "start_time": "2022-03-26T20:54:12.198867",
     "status": "completed"
    },
    "tags": []
   },
   "outputs": [
    {
     "name": "stdout",
     "output_type": "stream",
     "text": [
      "(2, 256)\n"
     ]
    }
   ],
   "source": [
    "###################################\n",
    "# Build the model\n",
    "###################################\n",
    "# easfsl only wants a tuple for the shape\n",
    "model = Steves_Prototypical_Network(x_net, device=p.device, x_shape=tuple(p.x_shape))\n",
    "optimizer = Adam(params=model.parameters(), lr=p.lr)"
   ]
  },
  {
   "cell_type": "code",
   "execution_count": 22,
   "id": "22b39ac5",
   "metadata": {
    "execution": {
     "iopub.execute_input": "2022-03-26T20:54:12.323528Z",
     "iopub.status.busy": "2022-03-26T20:54:12.323268Z",
     "iopub.status.idle": "2022-03-26T21:32:14.034191Z",
     "shell.execute_reply": "2022-03-26T21:32:14.033936Z"
    },
    "papermill": {
     "duration": 2281.727956,
     "end_time": "2022-03-26T21:32:14.034253",
     "exception": false,
     "start_time": "2022-03-26T20:54:12.306297",
     "status": "completed"
    },
    "tags": []
   },
   "outputs": [
    {
     "name": "stdout",
     "output_type": "stream",
     "text": [
      "epoch: 1, [batch: 1 / 6297], examples_per_second: 49.3767, train_label_loss: 2.6979, \n"
     ]
    },
    {
     "name": "stdout",
     "output_type": "stream",
     "text": [
      "epoch: 1, [batch: 630 / 6297], examples_per_second: 1595.1574, train_label_loss: 0.0524, \n"
     ]
    },
    {
     "name": "stdout",
     "output_type": "stream",
     "text": [
      "epoch: 1, [batch: 1260 / 6297], examples_per_second: 1899.2931, train_label_loss: 0.0472, \n"
     ]
    },
    {
     "name": "stdout",
     "output_type": "stream",
     "text": [
      "epoch: 1, [batch: 1889 / 6297], examples_per_second: 1943.4120, train_label_loss: 0.0010, \n"
     ]
    },
    {
     "name": "stdout",
     "output_type": "stream",
     "text": [
      "epoch: 1, [batch: 2519 / 6297], examples_per_second: 1590.3162, train_label_loss: 0.0043, \n"
     ]
    },
    {
     "name": "stdout",
     "output_type": "stream",
     "text": [
      "epoch: 1, [batch: 3149 / 6297], examples_per_second: 1593.9153, train_label_loss: 0.0008, \n"
     ]
    },
    {
     "name": "stdout",
     "output_type": "stream",
     "text": [
      "epoch: 1, [batch: 3778 / 6297], examples_per_second: 1595.4710, train_label_loss: 0.0043, \n"
     ]
    },
    {
     "name": "stdout",
     "output_type": "stream",
     "text": [
      "epoch: 1, [batch: 4408 / 6297], examples_per_second: 1591.2168, train_label_loss: 0.0041, \n"
     ]
    },
    {
     "name": "stdout",
     "output_type": "stream",
     "text": [
      "epoch: 1, [batch: 5037 / 6297], examples_per_second: 1592.7156, train_label_loss: 0.0001, \n"
     ]
    },
    {
     "name": "stdout",
     "output_type": "stream",
     "text": [
      "epoch: 1, [batch: 5667 / 6297], examples_per_second: 1593.0054, train_label_loss: 0.0001, \n"
     ]
    },
    {
     "name": "stdout",
     "output_type": "stream",
     "text": [
      "=============================================================\n",
      "epoch: 1, source_val_acc_label: 0.9958, target_val_acc_label: 0.2785, source_val_label_loss: 0.0308, target_val_label_loss: 2.1991, \n",
      "=============================================================\n"
     ]
    },
    {
     "name": "stdout",
     "output_type": "stream",
     "text": [
      "New best\n"
     ]
    },
    {
     "name": "stdout",
     "output_type": "stream",
     "text": [
      "epoch: 2, [batch: 1 / 6333], examples_per_second: 2.5160, train_label_loss: 0.0003, \n"
     ]
    },
    {
     "name": "stdout",
     "output_type": "stream",
     "text": [
      "epoch: 2, [batch: 634 / 6333], examples_per_second: 1602.3033, train_label_loss: 0.0002, \n"
     ]
    },
    {
     "name": "stdout",
     "output_type": "stream",
     "text": [
      "epoch: 2, [batch: 1267 / 6333], examples_per_second: 1860.1721, train_label_loss: 0.0006, \n"
     ]
    },
    {
     "name": "stdout",
     "output_type": "stream",
     "text": [
      "epoch: 2, [batch: 1900 / 6333], examples_per_second: 1899.5020, train_label_loss: 0.0004, \n"
     ]
    },
    {
     "name": "stdout",
     "output_type": "stream",
     "text": [
      "epoch: 2, [batch: 2533 / 6333], examples_per_second: 1602.3108, train_label_loss: 0.0032, \n"
     ]
    },
    {
     "name": "stdout",
     "output_type": "stream",
     "text": [
      "epoch: 2, [batch: 3167 / 6333], examples_per_second: 1590.0412, train_label_loss: 4.2318, \n"
     ]
    },
    {
     "name": "stdout",
     "output_type": "stream",
     "text": [
      "epoch: 2, [batch: 3800 / 6333], examples_per_second: 1516.6549, train_label_loss: 0.0002, \n"
     ]
    },
    {
     "name": "stdout",
     "output_type": "stream",
     "text": [
      "epoch: 2, [batch: 4433 / 6333], examples_per_second: 1447.0629, train_label_loss: 0.0002, \n"
     ]
    },
    {
     "name": "stdout",
     "output_type": "stream",
     "text": [
      "epoch: 2, [batch: 5066 / 6333], examples_per_second: 1382.1345, train_label_loss: 0.0632, \n"
     ]
    },
    {
     "name": "stdout",
     "output_type": "stream",
     "text": [
      "epoch: 2, [batch: 5699 / 6333], examples_per_second: 1451.9259, train_label_loss: 0.0000, \n"
     ]
    },
    {
     "name": "stdout",
     "output_type": "stream",
     "text": [
      "=============================================================\n",
      "epoch: 2, source_val_acc_label: 0.9986, target_val_acc_label: 0.2927, source_val_label_loss: 0.0089, target_val_label_loss: 2.4783, \n",
      "=============================================================\n"
     ]
    },
    {
     "name": "stdout",
     "output_type": "stream",
     "text": [
      "New best\n"
     ]
    },
    {
     "name": "stdout",
     "output_type": "stream",
     "text": [
      "epoch: 3, [batch: 1 / 6305], examples_per_second: 2.3566, train_label_loss: 0.0000, \n"
     ]
    },
    {
     "name": "stdout",
     "output_type": "stream",
     "text": [
      "epoch: 3, [batch: 631 / 6305], examples_per_second: 1494.5351, train_label_loss: 0.0082, \n"
     ]
    },
    {
     "name": "stdout",
     "output_type": "stream",
     "text": [
      "epoch: 3, [batch: 1261 / 6305], examples_per_second: 1801.4430, train_label_loss: 0.0000, \n"
     ]
    },
    {
     "name": "stdout",
     "output_type": "stream",
     "text": [
      "epoch: 3, [batch: 1892 / 6305], examples_per_second: 1770.1987, train_label_loss: 0.0000, \n"
     ]
    },
    {
     "name": "stdout",
     "output_type": "stream",
     "text": [
      "epoch: 3, [batch: 2522 / 6305], examples_per_second: 1491.5092, train_label_loss: 0.0004, \n"
     ]
    },
    {
     "name": "stdout",
     "output_type": "stream",
     "text": [
      "epoch: 3, [batch: 3153 / 6305], examples_per_second: 1495.3137, train_label_loss: 0.0000, \n"
     ]
    },
    {
     "name": "stdout",
     "output_type": "stream",
     "text": [
      "epoch: 3, [batch: 3783 / 6305], examples_per_second: 1497.0631, train_label_loss: 0.0000, \n"
     ]
    },
    {
     "name": "stdout",
     "output_type": "stream",
     "text": [
      "epoch: 3, [batch: 4413 / 6305], examples_per_second: 1492.1381, train_label_loss: 0.0000, \n"
     ]
    },
    {
     "name": "stdout",
     "output_type": "stream",
     "text": [
      "epoch: 3, [batch: 5044 / 6305], examples_per_second: 1494.0943, train_label_loss: 0.0000, \n"
     ]
    },
    {
     "name": "stdout",
     "output_type": "stream",
     "text": [
      "epoch: 3, [batch: 5674 / 6305], examples_per_second: 1467.8604, train_label_loss: 0.0000, \n"
     ]
    },
    {
     "name": "stdout",
     "output_type": "stream",
     "text": [
      "=============================================================\n",
      "epoch: 3, source_val_acc_label: 0.9982, target_val_acc_label: 0.3673, source_val_label_loss: 0.0094, target_val_label_loss: 1.9167, \n",
      "=============================================================\n"
     ]
    },
    {
     "name": "stdout",
     "output_type": "stream",
     "text": [
      "New best\n"
     ]
    },
    {
     "name": "stdout",
     "output_type": "stream",
     "text": [
      "epoch: 4, [batch: 1 / 6323], examples_per_second: 2.3906, train_label_loss: 0.0000, \n"
     ]
    },
    {
     "name": "stdout",
     "output_type": "stream",
     "text": [
      "epoch: 4, [batch: 633 / 6323], examples_per_second: 1440.1146, train_label_loss: 0.0003, \n"
     ]
    },
    {
     "name": "stdout",
     "output_type": "stream",
     "text": [
      "epoch: 4, [batch: 1265 / 6323], examples_per_second: 1736.7459, train_label_loss: 0.0006, \n"
     ]
    },
    {
     "name": "stdout",
     "output_type": "stream",
     "text": [
      "epoch: 4, [batch: 1897 / 6323], examples_per_second: 1725.6473, train_label_loss: 0.0001, \n"
     ]
    },
    {
     "name": "stdout",
     "output_type": "stream",
     "text": [
      "epoch: 4, [batch: 2529 / 6323], examples_per_second: 1493.8305, train_label_loss: 0.0000, \n"
     ]
    },
    {
     "name": "stdout",
     "output_type": "stream",
     "text": [
      "epoch: 4, [batch: 3162 / 6323], examples_per_second: 1511.7752, train_label_loss: 0.0000, \n"
     ]
    },
    {
     "name": "stdout",
     "output_type": "stream",
     "text": [
      "epoch: 4, [batch: 3794 / 6323], examples_per_second: 1522.8789, train_label_loss: 0.0001, \n"
     ]
    },
    {
     "name": "stdout",
     "output_type": "stream",
     "text": [
      "epoch: 4, [batch: 4426 / 6323], examples_per_second: 1508.2437, train_label_loss: 0.0000, \n"
     ]
    },
    {
     "name": "stdout",
     "output_type": "stream",
     "text": [
      "epoch: 4, [batch: 5058 / 6323], examples_per_second: 1515.8010, train_label_loss: 0.0000, \n"
     ]
    },
    {
     "name": "stdout",
     "output_type": "stream",
     "text": [
      "epoch: 4, [batch: 5690 / 6323], examples_per_second: 1515.7137, train_label_loss: 0.0000, \n"
     ]
    },
    {
     "name": "stdout",
     "output_type": "stream",
     "text": [
      "=============================================================\n",
      "epoch: 4, source_val_acc_label: 0.9988, target_val_acc_label: 0.3131, source_val_label_loss: 0.0069, target_val_label_loss: 2.4008, \n",
      "=============================================================\n"
     ]
    },
    {
     "name": "stdout",
     "output_type": "stream",
     "text": [
      "epoch: 5, [batch: 1 / 6317], examples_per_second: 2.3664, train_label_loss: 0.0000, \n"
     ]
    },
    {
     "name": "stdout",
     "output_type": "stream",
     "text": [
      "epoch: 5, [batch: 632 / 6317], examples_per_second: 1517.0756, train_label_loss: 0.0000, \n"
     ]
    },
    {
     "name": "stdout",
     "output_type": "stream",
     "text": [
      "epoch: 5, [batch: 1264 / 6317], examples_per_second: 1819.1633, train_label_loss: 0.0000, \n"
     ]
    },
    {
     "name": "stdout",
     "output_type": "stream",
     "text": [
      "epoch: 5, [batch: 1895 / 6317], examples_per_second: 1926.0812, train_label_loss: 0.0000, \n"
     ]
    },
    {
     "name": "stdout",
     "output_type": "stream",
     "text": [
      "epoch: 5, [batch: 2527 / 6317], examples_per_second: 1889.2135, train_label_loss: 0.0000, \n"
     ]
    },
    {
     "name": "stdout",
     "output_type": "stream",
     "text": [
      "epoch: 5, [batch: 3159 / 6317], examples_per_second: 1886.4845, train_label_loss: 0.0001, \n"
     ]
    },
    {
     "name": "stdout",
     "output_type": "stream",
     "text": [
      "epoch: 5, [batch: 3790 / 6317], examples_per_second: 1805.5339, train_label_loss: 0.0003, \n"
     ]
    },
    {
     "name": "stdout",
     "output_type": "stream",
     "text": [
      "epoch: 5, [batch: 4422 / 6317], examples_per_second: 2065.4079, train_label_loss: 0.0161, \n"
     ]
    },
    {
     "name": "stdout",
     "output_type": "stream",
     "text": [
      "epoch: 5, [batch: 5053 / 6317], examples_per_second: 2896.7861, train_label_loss: 0.0049, \n"
     ]
    },
    {
     "name": "stdout",
     "output_type": "stream",
     "text": [
      "epoch: 5, [batch: 5685 / 6317], examples_per_second: 2865.7865, train_label_loss: 0.0000, \n"
     ]
    },
    {
     "name": "stdout",
     "output_type": "stream",
     "text": [
      "=============================================================\n",
      "epoch: 5, source_val_acc_label: 0.9994, target_val_acc_label: 0.3192, source_val_label_loss: 0.0059, target_val_label_loss: 2.2397, \n",
      "=============================================================\n"
     ]
    },
    {
     "name": "stdout",
     "output_type": "stream",
     "text": [
      "epoch: 6, [batch: 1 / 6329], examples_per_second: 4.6521, train_label_loss: 0.0000, \n"
     ]
    },
    {
     "name": "stdout",
     "output_type": "stream",
     "text": [
      "epoch: 6, [batch: 633 / 6329], examples_per_second: 2974.2598, train_label_loss: 0.0000, \n"
     ]
    },
    {
     "name": "stdout",
     "output_type": "stream",
     "text": [
      "epoch: 6, [batch: 1266 / 6329], examples_per_second: 2925.2883, train_label_loss: 0.0000, \n"
     ]
    },
    {
     "name": "stdout",
     "output_type": "stream",
     "text": [
      "epoch: 6, [batch: 1899 / 6329], examples_per_second: 3044.9534, train_label_loss: 0.0001, \n"
     ]
    },
    {
     "name": "stdout",
     "output_type": "stream",
     "text": [
      "epoch: 6, [batch: 2532 / 6329], examples_per_second: 3115.1361, train_label_loss: 0.0000, \n"
     ]
    },
    {
     "name": "stdout",
     "output_type": "stream",
     "text": [
      "epoch: 6, [batch: 3165 / 6329], examples_per_second: 2527.3850, train_label_loss: 0.0000, \n"
     ]
    },
    {
     "name": "stdout",
     "output_type": "stream",
     "text": [
      "epoch: 6, [batch: 3797 / 6329], examples_per_second: 1593.7411, train_label_loss: 0.0000, \n"
     ]
    },
    {
     "name": "stdout",
     "output_type": "stream",
     "text": [
      "epoch: 6, [batch: 4430 / 6329], examples_per_second: 1611.3243, train_label_loss: 0.0006, \n"
     ]
    },
    {
     "name": "stdout",
     "output_type": "stream",
     "text": [
      "epoch: 6, [batch: 5063 / 6329], examples_per_second: 1623.1638, train_label_loss: 0.0000, \n"
     ]
    },
    {
     "name": "stdout",
     "output_type": "stream",
     "text": [
      "epoch: 6, [batch: 5696 / 6329], examples_per_second: 1628.1485, train_label_loss: 0.0000, \n"
     ]
    },
    {
     "name": "stdout",
     "output_type": "stream",
     "text": [
      "=============================================================\n",
      "epoch: 6, source_val_acc_label: 0.9986, target_val_acc_label: 0.3214, source_val_label_loss: 0.0090, target_val_label_loss: 2.5035, \n",
      "=============================================================\n"
     ]
    },
    {
     "name": "stdout",
     "output_type": "stream",
     "text": [
      "epoch: 7, [batch: 1 / 6316], examples_per_second: 2.5033, train_label_loss: 0.0000, \n"
     ]
    },
    {
     "name": "stdout",
     "output_type": "stream",
     "text": [
      "epoch: 7, [batch: 632 / 6316], examples_per_second: 1678.4835, train_label_loss: 0.0000, \n"
     ]
    },
    {
     "name": "stdout",
     "output_type": "stream",
     "text": [
      "epoch: 7, [batch: 1264 / 6316], examples_per_second: 1635.2654, train_label_loss: 0.0000, \n"
     ]
    },
    {
     "name": "stdout",
     "output_type": "stream",
     "text": [
      "epoch: 7, [batch: 1895 / 6316], examples_per_second: 1646.3715, train_label_loss: 0.0000, \n"
     ]
    },
    {
     "name": "stdout",
     "output_type": "stream",
     "text": [
      "epoch: 7, [batch: 2527 / 6316], examples_per_second: 1937.7991, train_label_loss: 0.0000, \n"
     ]
    },
    {
     "name": "stdout",
     "output_type": "stream",
     "text": [
      "epoch: 7, [batch: 3158 / 6316], examples_per_second: 2142.6319, train_label_loss: 0.0004, \n"
     ]
    },
    {
     "name": "stdout",
     "output_type": "stream",
     "text": [
      "epoch: 7, [batch: 3790 / 6316], examples_per_second: 1636.4390, train_label_loss: 0.0001, \n"
     ]
    },
    {
     "name": "stdout",
     "output_type": "stream",
     "text": [
      "epoch: 7, [batch: 4421 / 6316], examples_per_second: 1669.7851, train_label_loss: 0.0001, \n"
     ]
    },
    {
     "name": "stdout",
     "output_type": "stream",
     "text": [
      "epoch: 7, [batch: 5053 / 6316], examples_per_second: 1679.2837, train_label_loss: 0.0000, \n"
     ]
    },
    {
     "name": "stdout",
     "output_type": "stream",
     "text": [
      "epoch: 7, [batch: 5684 / 6316], examples_per_second: 1665.2831, train_label_loss: 0.0034, \n"
     ]
    },
    {
     "name": "stdout",
     "output_type": "stream",
     "text": [
      "=============================================================\n",
      "epoch: 7, source_val_acc_label: 0.9990, target_val_acc_label: 0.2887, source_val_label_loss: 0.0075, target_val_label_loss: 3.0566, \n",
      "=============================================================\n"
     ]
    },
    {
     "name": "stdout",
     "output_type": "stream",
     "text": [
      "Patience (3) exhausted\n"
     ]
    }
   ],
   "source": [
    "###################################\n",
    "# train\n",
    "###################################\n",
    "jig = PTN_Train_Eval_Test_Jig(model, p.BEST_MODEL_PATH, p.device)\n",
    "\n",
    "jig.train(\n",
    "    train_iterable=datasets.source.processed.train,\n",
    "    source_val_iterable=datasets.source.processed.val,\n",
    "    target_val_iterable=datasets.target.processed.val,\n",
    "    num_epochs=p.n_epoch,\n",
    "    num_logs_per_epoch=p.NUM_LOGS_PER_EPOCH,\n",
    "    patience=p.patience,\n",
    "    optimizer=optimizer,\n",
    "    criteria_for_best=p.criteria_for_best,\n",
    ")"
   ]
  },
  {
   "cell_type": "code",
   "execution_count": 23,
   "id": "31e8fabf",
   "metadata": {
    "execution": {
     "iopub.execute_input": "2022-03-26T21:32:14.109330Z",
     "iopub.status.busy": "2022-03-26T21:32:14.109066Z",
     "iopub.status.idle": "2022-03-26T21:32:14.128570Z",
     "shell.execute_reply": "2022-03-26T21:32:14.128268Z"
    },
    "papermill": {
     "duration": 0.059774,
     "end_time": "2022-03-26T21:32:14.128636",
     "exception": false,
     "start_time": "2022-03-26T21:32:14.068862",
     "status": "completed"
    },
    "tags": []
   },
   "outputs": [],
   "source": [
    "total_experiment_time_secs = time.time() - start_time_secs"
   ]
  },
  {
   "cell_type": "code",
   "execution_count": 24,
   "id": "87b9595b",
   "metadata": {
    "execution": {
     "iopub.execute_input": "2022-03-26T21:32:14.202360Z",
     "iopub.status.busy": "2022-03-26T21:32:14.202041Z",
     "iopub.status.idle": "2022-03-26T21:34:49.028035Z",
     "shell.execute_reply": "2022-03-26T21:34:49.028273Z"
    },
    "papermill": {
     "duration": 154.862629,
     "end_time": "2022-03-26T21:34:49.028359",
     "exception": false,
     "start_time": "2022-03-26T21:32:14.165730",
     "status": "completed"
    },
    "tags": []
   },
   "outputs": [],
   "source": [
    "###################################\n",
    "# Evaluate the model\n",
    "###################################\n",
    "source_test_label_accuracy, source_test_label_loss = jig.test(datasets.source.processed.test)\n",
    "target_test_label_accuracy, target_test_label_loss = jig.test(datasets.target.processed.test)\n",
    "\n",
    "source_val_label_accuracy, source_val_label_loss = jig.test(datasets.source.processed.val)\n",
    "target_val_label_accuracy, target_val_label_loss = jig.test(datasets.target.processed.val)\n",
    "\n",
    "history = jig.get_history()\n",
    "\n",
    "total_epochs_trained = len(history[\"epoch_indices\"])\n",
    "\n",
    "val_dl = Iterable_Aggregator((datasets.source.original.val,datasets.target.original.val))\n",
    "\n",
    "confusion = ptn_confusion_by_domain_over_dataloader(model, p.device, val_dl)\n",
    "per_domain_accuracy = per_domain_accuracy_from_confusion(confusion)\n",
    "\n",
    "# Add a key to per_domain_accuracy for if it was a source domain\n",
    "for domain, accuracy in per_domain_accuracy.items():\n",
    "    per_domain_accuracy[domain] = {\n",
    "        \"accuracy\": accuracy,\n",
    "        \"source?\": domain in p.domains_source\n",
    "    }\n",
    "\n",
    "# Do an independent accuracy assesment JUST TO BE SURE!\n",
    "# _source_test_label_accuracy = independent_accuracy_assesment(model, datasets.source.processed.test, p.device)\n",
    "# _target_test_label_accuracy = independent_accuracy_assesment(model, datasets.target.processed.test, p.device)\n",
    "# _source_val_label_accuracy = independent_accuracy_assesment(model, datasets.source.processed.val, p.device)\n",
    "# _target_val_label_accuracy = independent_accuracy_assesment(model, datasets.target.processed.val, p.device)\n",
    "\n",
    "# assert(_source_test_label_accuracy == source_test_label_accuracy)\n",
    "# assert(_target_test_label_accuracy == target_test_label_accuracy)\n",
    "# assert(_source_val_label_accuracy == source_val_label_accuracy)\n",
    "# assert(_target_val_label_accuracy == target_val_label_accuracy)\n",
    "\n",
    "experiment = {\n",
    "    \"experiment_name\": p.experiment_name,\n",
    "    \"parameters\": dict(p),\n",
    "    \"results\": {\n",
    "        \"source_test_label_accuracy\": source_test_label_accuracy,\n",
    "        \"source_test_label_loss\": source_test_label_loss,\n",
    "        \"target_test_label_accuracy\": target_test_label_accuracy,\n",
    "        \"target_test_label_loss\": target_test_label_loss,\n",
    "        \"source_val_label_accuracy\": source_val_label_accuracy,\n",
    "        \"source_val_label_loss\": source_val_label_loss,\n",
    "        \"target_val_label_accuracy\": target_val_label_accuracy,\n",
    "        \"target_val_label_loss\": target_val_label_loss,\n",
    "        \"total_epochs_trained\": total_epochs_trained,\n",
    "        \"total_experiment_time_secs\": total_experiment_time_secs,\n",
    "        \"confusion\": confusion,\n",
    "        \"per_domain_accuracy\": per_domain_accuracy,\n",
    "    },\n",
    "    \"history\": history,\n",
    "    \"dataset_metrics\": get_dataset_metrics(datasets, \"ptn\"),\n",
    "}"
   ]
  },
  {
   "cell_type": "code",
   "execution_count": 25,
   "id": "54a21829",
   "metadata": {
    "execution": {
     "iopub.execute_input": "2022-03-26T21:34:49.099746Z",
     "iopub.status.busy": "2022-03-26T21:34:49.099334Z",
     "iopub.status.idle": "2022-03-26T21:34:49.227718Z",
     "shell.execute_reply": "2022-03-26T21:34:49.227945Z"
    },
    "papermill": {
     "duration": 0.168089,
     "end_time": "2022-03-26T21:34:49.228026",
     "exception": false,
     "start_time": "2022-03-26T21:34:49.059937",
     "status": "completed"
    },
    "tags": []
   },
   "outputs": [
    {
     "data": {
      "image/png": "[encoded data removed]",
      "text/plain": [
       "<Figure size 1080x504 with 1 Axes>"
      ]
     },
     "metadata": {
      "needs_background": "light"
     },
     "output_type": "display_data"
    }
   ],
   "source": [
    "ax = get_loss_curve(experiment)\n",
    "plt.show()"
   ]
  },
  {
   "cell_type": "code",
   "execution_count": 26,
   "id": "fd8a0f60",
   "metadata": {
    "execution": {
     "iopub.execute_input": "2022-03-26T21:34:49.292128Z",
     "iopub.status.busy": "2022-03-26T21:34:49.291865Z",
     "iopub.status.idle": "2022-03-26T21:34:49.459756Z",
     "shell.execute_reply": "2022-03-26T21:34:49.459515Z"
    },
    "papermill": {
     "duration": 0.200415,
     "end_time": "2022-03-26T21:34:49.459819",
     "exception": false,
     "start_time": "2022-03-26T21:34:49.259404",
     "status": "completed"
    },
    "tags": []
   },
   "outputs": [
    {
     "data": {
      "text/plain": [
       "<AxesSubplot:title={'center':'Results'}>"
      ]
     },
     "execution_count": 26,
     "metadata": {},
     "output_type": "execute_result"
    },
    {
     "data": {
      "image/png": "[encoded data removed]",
      "text/plain": [
       "<Figure size 1080x504 with 1 Axes>"
      ]
     },
     "metadata": {
      "needs_background": "light"
     },
     "output_type": "display_data"
    }
   ],
   "source": [
    "get_results_table(experiment)"
   ]
  },
  {
   "cell_type": "code",
   "execution_count": 27,
   "id": "cf8dc689",
   "metadata": {
    "execution": {
     "iopub.execute_input": "2022-03-26T21:34:49.529416Z",
     "iopub.status.busy": "2022-03-26T21:34:49.529157Z",
     "iopub.status.idle": "2022-03-26T21:34:49.705575Z",
     "shell.execute_reply": "2022-03-26T21:34:49.705118Z"
    },
    "papermill": {
     "duration": 0.21211,
     "end_time": "2022-03-26T21:34:49.705673",
     "exception": false,
     "start_time": "2022-03-26T21:34:49.493563",
     "status": "completed"
    },
    "tags": []
   },
   "outputs": [
    {
     "data": {
      "text/plain": [
       "<AxesSubplot:title={'center':'Per Domain Validation Accuracy'}, xlabel='domain'>"
      ]
     },
     "execution_count": 27,
     "metadata": {},
     "output_type": "execute_result"
    },
    {
     "data": {
      "image/png": "[encoded data removed]",
      "text/plain": [
       "<Figure size 1080x504 with 1 Axes>"
      ]
     },
     "metadata": {
      "needs_background": "light"
     },
     "output_type": "display_data"
    }
   ],
   "source": [
    "get_domain_accuracies(experiment)"
   ]
  },
  {
   "cell_type": "code",
   "execution_count": 28,
   "id": "a74ae082",
   "metadata": {
    "execution": {
     "iopub.execute_input": "2022-03-26T21:34:49.779753Z",
     "iopub.status.busy": "2022-03-26T21:34:49.779231Z",
     "iopub.status.idle": "2022-03-26T21:34:49.798540Z",
     "shell.execute_reply": "2022-03-26T21:34:49.798069Z"
    },
    "papermill": {
     "duration": 0.055807,
     "end_time": "2022-03-26T21:34:49.798635",
     "exception": false,
     "start_time": "2022-03-26T21:34:49.742828",
     "status": "completed"
    },
    "tags": []
   },
   "outputs": [
    {
     "name": "stdout",
     "output_type": "stream",
     "text": [
      "Source Test Label Accuracy: 0.9987052071668533 Target Test Label Accuracy: 0.36546223958333335\n",
      "Source Val Label Accuracy: 0.9982122425629291 Target Val Label Accuracy: 0.36725260416666666\n"
     ]
    }
   ],
   "source": [
    "print(\"Source Test Label Accuracy:\", experiment[\"results\"][\"source_test_label_accuracy\"], \"Target Test Label Accuracy:\", experiment[\"results\"][\"target_test_label_accuracy\"])\n",
    "print(\"Source Val Label Accuracy:\", experiment[\"results\"][\"source_val_label_accuracy\"], \"Target Val Label Accuracy:\", experiment[\"results\"][\"target_val_label_accuracy\"])"
   ]
  },
  {
   "cell_type": "code",
   "execution_count": 29,
   "id": "dacca602",
   "metadata": {
    "execution": {
     "iopub.execute_input": "2022-03-26T21:34:49.873209Z",
     "iopub.status.busy": "2022-03-26T21:34:49.872952Z",
     "iopub.status.idle": "2022-03-26T21:34:49.890303Z",
     "shell.execute_reply": "2022-03-26T21:34:49.890675Z"
    },
    "papermill": {
     "duration": 0.053099,
     "end_time": "2022-03-26T21:34:49.890784",
     "exception": false,
     "start_time": "2022-03-26T21:34:49.837685",
     "status": "completed"
    },
    "tags": [
     "experiment_json"
    ]
   },
   "outputs": [
    {
     "data": {
      "text/plain": [
       "'{\"experiment_name\": \"tl_3-jitter1v2:cores -> oracle.run1.framed\", \"parameters\": {\"experiment_name\": \"tl_3-jitter1v2:cores -> oracle.run1.framed\", \"device\": \"cuda\", \"lr\": 0.0001, \"x_shape\": [2, 256], \"n_shot\": 3, \"n_query\": 2, \"train_k_factor\": 3, \"val_k_factor\": 2, \"test_k_factor\": 2, \"torch_default_dtype\": \"torch.float32\", \"n_epoch\": 50, \"patience\": 3, \"criteria_for_best\": \"target_accuracy\", \"x_net\": [{\"class\": \"nnReshape\", \"kargs\": {\"shape\": [-1, 1, 2, 256]}}, {\"class\": \"Conv2d\", \"kargs\": {\"in_channels\": 1, \"out_channels\": 256, \"kernel_size\": [1, 7], \"bias\": false, \"padding\": [0, 3]}}, {\"class\": \"ReLU\", \"kargs\": {\"inplace\": true}}, {\"class\": \"BatchNorm2d\", \"kargs\": {\"num_features\": 256}}, {\"class\": \"Conv2d\", \"kargs\": {\"in_channels\": 256, \"out_channels\": 80, \"kernel_size\": [2, 7], \"bias\": true, \"padding\": [0, 3]}}, {\"class\": \"ReLU\", \"kargs\": {\"inplace\": true}}, {\"class\": \"BatchNorm2d\", \"kargs\": {\"num_features\": 80}}, {\"class\": \"Flatten\", \"kargs\": {}}, {\"class\": \"Linear\", \"kargs\": {\"in_features\": 20480, \"out_features\": 256}}, {\"class\": \"ReLU\", \"kargs\": {\"inplace\": true}}, {\"class\": \"BatchNorm1d\", \"kargs\": {\"num_features\": 256}}, {\"class\": \"Linear\", \"kargs\": {\"in_features\": 256, \"out_features\": 256}}], \"NUM_LOGS_PER_EPOCH\": 10, \"BEST_MODEL_PATH\": \"./best_model.pth\", \"n_way\": 16, \"datasets\": [{\"labels\": [\"1-10.\", \"1-11.\", \"1-15.\", \"1-16.\", \"1-17.\", \"1-18.\", \"1-19.\", \"10-4.\", \"10-7.\", \"11-1.\", \"11-14.\", \"11-17.\", \"11-20.\", \"11-7.\", \"13-20.\", \"13-8.\", \"14-10.\", \"14-11.\", \"14-14.\", \"14-7.\", \"15-1.\", \"15-20.\", \"16-1.\", \"16-16.\", \"17-10.\", \"17-11.\", \"17-2.\", \"19-1.\", \"19-16.\", \"19-19.\", \"19-20.\", \"19-3.\", \"2-10.\", \"2-11.\", \"2-17.\", \"2-18.\", \"2-20.\", \"2-3.\", \"2-4.\", \"2-5.\", \"2-6.\", \"2-7.\", \"2-8.\", \"3-13.\", \"3-18.\", \"3-3.\", \"4-1.\", \"4-10.\", \"4-11.\", \"4-19.\", \"5-5.\", \"6-15.\", \"7-10.\", \"7-14.\", \"8-18.\", \"8-20.\", \"8-3.\", \"8-8.\"], \"domains\": [1, 2, 3, 4, 5], \"num_examples_per_domain_per_label\": -1, \"pickle_path\": \"/mnt/wd500GB/CSC500/csc500-main/datasets/cores.stratified_ds.2022A.pkl\", \"source_or_target_dataset\": \"source\", \"x_transforms\": [\"unit_power\", \"jitter_256_1\", \"lowpass_+/-10MHz\", \"take_200\"], \"episode_transforms\": [], \"domain_prefix\": \"C_\"}, {\"labels\": [\"3123D52\", \"3123D65\", \"3123D79\", \"3123D80\", \"3123D54\", \"3123D70\", \"3123D7B\", \"3123D89\", \"3123D58\", \"3123D76\", \"3123D7D\", \"3123EFE\", \"3123D64\", \"3123D78\", \"3123D7E\", \"3124E4A\"], \"domains\": [32, 38, 8, 44, 14, 50, 20, 26], \"num_examples_per_domain_per_label\": 2000, \"pickle_path\": \"/mnt/wd500GB/CSC500/csc500-main/datasets/oracle.Run1_framed_2000Examples_stratified_ds.2022A.pkl\", \"source_or_target_dataset\": \"target\", \"x_transforms\": [\"unit_power\", \"jitter_256_1\", \"take_200\", \"resample_20Msps_to_25Msps\"], \"episode_transforms\": [], \"domain_prefix\": \"O_\"}], \"seed\": 154325, \"dataset_seed\": 154325, \"domains_source\": [\"C_1\", \"C_2\", \"C_3\", \"C_4\", \"C_5\"], \"domains_target\": [\"O_32\", \"O_38\", \"O_8\", \"O_44\", \"O_14\", \"O_50\", \"O_20\", \"O_26\"]}, \"results\": {\"source_test_label_accuracy\": 0.9987052071668533, \"source_test_label_loss\": 0.007339197676628828, \"target_test_label_accuracy\": 0.36546223958333335, \"target_test_label_loss\": 1.9164196252822876, \"source_val_label_accuracy\": 0.9982122425629291, \"source_val_label_loss\": 0.009356029331684113, \"target_val_label_accuracy\": 0.36725260416666666, \"target_val_label_loss\": 1.9167464971542358, \"total_epochs_trained\": 7, \"total_experiment_time_secs\": 2373.420197248459, \"confusion\": {\"C_2\": {\"21\": {\"21\": 120}, \"4\": {\"4\": 130}, \"6\": {\"6\": 124}, \"10\": {\"10\": 112}, \"33\": {\"33\": 28}, \"56\": {\"56\": 122}, \"20\": {\"20\": 132}, \"24\": {\"24\": 96}, \"45\": {\"45\": 128}, \"32\": {\"32\": 28}, \"27\": {\"27\": 148}, \"53\": {\"53\": 136}, \"8\": {\"8\": 160}, \"54\": {\"54\": 108}, \"50\": {\"50\": 134}, \"44\": {\"44\": 100}, \"5\": {\"5\": 120}, \"38\": {\"38\": 20}, \"19\": {\"19\": 132}, \"1\": {\"1\": 112}, \"30\": {\"30\": 144}, \"15\": {\"15\": 144}, \"23\": {\"23\": 146}, \"35\": {\"35\": 32}, \"22\": {\"22\": 128}, \"40\": {\"40\": 140}, \"46\": {\"46\": 126}, \"3\": {\"3\": 91, \"25\": 1}, \"48\": {\"48\": 148}, \"52\": {\"52\": 124}, \"2\": {\"2\": 32}, \"26\": {\"26\": 24}, \"17\": {\"17\": 104}, \"55\": {\"55\": 144}, \"51\": {\"51\": 122}, \"42\": {\"42\": 36}, \"41\": {\"41\": 20}, \"31\": {\"31\": 27, \"5\": 1}, \"16\": {\"16\": 138}, \"36\": {\"36\": 116}, \"49\": {\"49\": 24}, \"0\": {\"0\": 47, \"57\": 1}, \"18\": {\"18\": 48}, \"25\": {\"25\": 146}, \"9\": {\"9\": 122}, \"47\": {\"47\": 132}, \"7\": {\"7\": 36}, \"37\": {\"37\": 36}, \"13\": {\"13\": 116}, \"14\": {\"14\": 24}, \"34\": {\"34\": 28}, \"57\": {\"57\": 140}, \"11\": {\"11\": 138}, \"39\": {\"39\": 28}, \"12\": {\"12\": 92}, \"28\": {\"28\": 28}, \"29\": {\"29\": 128}, \"43\": {\"43\": 140}}, \"C_5\": {\"12\": {\"12\": 96}, \"8\": {\"8\": 142}, \"29\": {\"29\": 132}, \"57\": {\"57\": 126}, \"38\": {\"38\": 32}, \"23\": {\"23\": 124}, \"56\": {\"56\": 138}, \"49\": {\"49\": 36}, \"4\": {\"4\": 100}, \"48\": {\"48\": 136}, \"21\": {\"21\": 144}, \"30\": {\"30\": 128}, \"1\": {\"1\": 148}, \"34\": {\"34\": 36}, \"35\": {\"35\": 36}, \"55\": {\"55\": 152}, \"5\": {\"5\": 122}, \"52\": {\"52\": 126}, \"6\": {\"6\": 127, \"20\": 1}, \"36\": {\"36\": 92}, \"41\": {\"41\": 28}, \"3\": {\"3\": 100}, \"28\": {\"28\": 32}, \"18\": {\"18\": 64}, \"25\": {\"25\": 136}, \"47\": {\"47\": 100}, \"13\": {\"13\": 160}, \"11\": {\"11\": 143, \"15\": 1}, \"53\": {\"53\": 144}, \"33\": {\"33\": 32}, \"46\": {\"46\": 148}, \"50\": {\"50\": 147, \"25\": 1}, \"10\": {\"10\": 68}, \"15\": {\"15\": 137, \"11\": 1}, \"44\": {\"44\": 140}, \"2\": {\"2\": 28}, \"7\": {\"7\": 32}, \"43\": {\"43\": 138}, \"32\": {\"32\": 32}, \"0\": {\"0\": 124}, \"39\": {\"39\": 20}, \"26\": {\"26\": 24}, \"27\": {\"27\": 112}, \"54\": {\"54\": 112}, \"17\": {\"17\": 116}, \"14\": {\"14\": 41, \"54\": 1, \"46\": 1, \"57\": 1}, \"16\": {\"16\": 148}, \"9\": {\"9\": 148}, \"19\": {\"19\": 152}, \"20\": {\"20\": 138}, \"37\": {\"37\": 24}, \"24\": {\"24\": 80}, \"40\": {\"40\": 122}, \"45\": {\"45\": 121, \"17\": 2, \"9\": 1}, \"22\": {\"22\": 28}, \"42\": {\"42\": 38, \"15\": 2}, \"51\": {\"51\": 118}, \"31\": {\"31\": 36}}, \"C_1\": {\"27\": {\"27\": 142}, \"2\": {\"2\": 36}, \"33\": {\"33\": 32}, \"45\": {\"45\": 156}, \"38\": {\"38\": 24}, \"4\": {\"4\": 132}, \"31\": {\"31\": 28}, \"55\": {\"55\": 140}, \"32\": {\"32\": 32}, \"57\": {\"57\": 140}, \"14\": {\"14\": 24}, \"16\": {\"16\": 140}, \"34\": {\"34\": 24}, \"56\": {\"56\": 125, \"19\": 1}, \"24\": {\"24\": 106, \"22\": 2}, \"30\": {\"30\": 112}, \"17\": {\"17\": 64}, \"13\": {\"13\": 138}, \"39\": {\"39\": 28}, \"50\": {\"50\": 146}, \"20\": {\"20\": 140}, \"41\": {\"41\": 24}, \"53\": {\"53\": 126}, \"48\": {\"48\": 142}, \"36\": {\"36\": 64}, \"8\": {\"8\": 140}, \"15\": {\"15\": 132}, \"40\": {\"40\": 156}, \"37\": {\"37\": 32}, \"21\": {\"21\": 120}, \"35\": {\"35\": 36}, \"49\": {\"49\": 32}, \"26\": {\"26\": 24}, \"28\": {\"28\": 28}, \"12\": {\"12\": 116}, \"5\": {\"5\": 152}, \"29\": {\"29\": 140}, \"47\": {\"47\": 140}, \"10\": {\"10\": 96}, \"18\": {\"18\": 71, \"48\": 1}, \"9\": {\"9\": 126}, \"3\": {\"3\": 138, \"22\": 2}, \"52\": {\"52\": 132}, \"25\": {\"25\": 136}, \"19\": {\"19\": 156}, \"11\": {\"11\": 133, \"15\": 2, \"16\": 1}, \"7\": {\"7\": 28}, \"23\": {\"23\": 136}, \"44\": {\"44\": 132}, \"42\": {\"42\": 40}, \"54\": {\"54\": 104}, \"1\": {\"1\": 99, \"57\": 1}, \"46\": {\"46\": 128}, \"6\": {\"6\": 96}, \"43\": {\"43\": 144}, \"51\": {\"51\": 142}, \"22\": {\"22\": 132, \"24\": 4}, \"0\": {\"0\": 128}}, \"C_4\": {\"32\": {\"32\": 24}, \"2\": {\"2\": 36}, \"41\": {\"41\": 36}, \"11\": {\"11\": 102}, \"57\": {\"57\": 100}, \"6\": {\"6\": 112}, \"23\": {\"23\": 136}, \"52\": {\"52\": 116}, \"38\": {\"38\": 40}, \"50\": {\"50\": 131, \"3\": 1}, \"55\": {\"55\": 152}, \"46\": {\"46\": 154}, \"37\": {\"37\": 24}, \"20\": {\"20\": 118}, \"49\": {\"49\": 20}, \"45\": {\"45\": 96}, \"54\": {\"54\": 108}, \"3\": {\"3\": 119, \"50\": 4, \"20\": 1}, \"13\": {\"13\": 151, \"24\": 1}, \"18\": {\"18\": 108}, \"21\": {\"21\": 126}, \"43\": {\"43\": 144}, \"47\": {\"47\": 120}, \"4\": {\"4\": 132}, \"12\": {\"12\": 92}, \"9\": {\"9\": 128}, \"7\": {\"7\": 24}, \"56\": {\"56\": 112}, \"28\": {\"28\": 32}, \"44\": {\"44\": 132}, \"24\": {\"24\": 56}, \"33\": {\"33\": 36}, \"35\": {\"35\": 40}, \"51\": {\"51\": 138}, \"39\": {\"39\": 20}, \"36\": {\"36\": 92}, \"19\": {\"19\": 140}, \"0\": {\"0\": 80}, \"15\": {\"15\": 136}, \"29\": {\"29\": 124}, \"30\": {\"30\": 44}, \"1\": {\"1\": 40}, \"22\": {\"22\": 128}, \"40\": {\"40\": 146}, \"8\": {\"8\": 128}, \"53\": {\"53\": 138}, \"34\": {\"34\": 24}, \"10\": {\"10\": 122}, \"31\": {\"31\": 28}, \"17\": {\"17\": 80}, \"16\": {\"16\": 96}, \"42\": {\"42\": 32}, \"27\": {\"27\": 142}, \"14\": {\"14\": 14, \"46\": 1, \"57\": 1}, \"25\": {\"25\": 122}, \"48\": {\"48\": 132}, \"26\": {\"26\": 24}, \"5\": {\"5\": 108}}, \"C_3\": {\"14\": {\"14\": 40}, \"18\": {\"18\": 84}, \"30\": {\"30\": 120}, \"16\": {\"16\": 156}, \"1\": {\"1\": 100}, \"20\": {\"20\": 132}, \"7\": {\"7\": 36}, \"52\": {\"52\": 130}, \"9\": {\"9\": 140}, \"23\": {\"23\": 143, \"5\": 1}, \"55\": {\"55\": 164}, \"29\": {\"29\": 126}, \"56\": {\"56\": 134}, \"3\": {\"3\": 121, \"16\": 1, \"25\": 1, \"20\": 1}, \"42\": {\"42\": 28}, \"6\": {\"6\": 85, \"15\": 1, \"12\": 1, \"52\": 1}, \"5\": {\"5\": 113, \"31\": 1, \"15\": 1, \"3\": 1}, \"27\": {\"27\": 144}, \"47\": {\"47\": 92}, \"39\": {\"39\": 16}, \"34\": {\"34\": 32}, \"4\": {\"4\": 126}, \"24\": {\"24\": 104}, \"46\": {\"46\": 118}, \"50\": {\"50\": 126}, \"38\": {\"38\": 28}, \"54\": {\"54\": 100}, \"35\": {\"35\": 28}, \"2\": {\"2\": 32}, \"41\": {\"41\": 28}, \"57\": {\"57\": 117, \"0\": 1}, \"25\": {\"25\": 150}, \"48\": {\"48\": 116}, \"33\": {\"33\": 28}, \"45\": {\"45\": 60}, \"13\": {\"13\": 126}, \"36\": {\"36\": 100}, \"43\": {\"43\": 132}, \"28\": {\"28\": 28}, \"0\": {\"0\": 124}, \"12\": {\"12\": 92}, \"31\": {\"31\": 28}, \"40\": {\"40\": 116}, \"44\": {\"44\": 88}, \"32\": {\"32\": 27, \"54\": 1}, \"26\": {\"26\": 24}, \"8\": {\"8\": 116}, \"10\": {\"10\": 64}, \"15\": {\"15\": 142}, \"21\": {\"21\": 128}, \"37\": {\"37\": 28}, \"17\": {\"17\": 108}, \"51\": {\"51\": 124}, \"53\": {\"53\": 144}, \"19\": {\"19\": 136}, \"49\": {\"49\": 20}, \"11\": {\"11\": 138}, \"22\": {\"22\": 130}}, \"O_8\": {\"13\": {\"4\": 35, \"7\": 36, \"14\": 26, \"0\": 27, \"10\": 23, \"13\": 37, \"6\": 22, \"1\": 9, \"11\": 5, \"15\": 4, \"5\": 6, \"8\": 3, \"12\": 2, \"9\": 2, \"3\": 1, \"2\": 2}, \"9\": {\"9\": 225, \"11\": 1, \"5\": 5, \"10\": 4, \"13\": 3, \"14\": 1, \"4\": 1}, \"15\": {\"14\": 3, \"3\": 26, \"15\": 59, \"2\": 14, \"12\": 56, \"8\": 27, \"7\": 13, \"13\": 10, \"4\": 6, \"0\": 9, \"6\": 16, \"1\": 1}, \"2\": {\"2\": 81, \"13\": 9, \"3\": 64, \"12\": 29, \"0\": 10, \"15\": 19, \"6\": 7, \"4\": 3, \"7\": 17, \"8\": 1}, \"3\": {\"12\": 36, \"3\": 93, \"2\": 61, \"15\": 27, \"6\": 3, \"8\": 2, \"7\": 12, \"0\": 5, \"13\": 1}, \"8\": {\"14\": 21, \"8\": 89, \"15\": 23, \"4\": 15, \"5\": 1, \"1\": 12, \"0\": 3, \"3\": 5, \"12\": 21, \"7\": 12, \"6\": 17, \"10\": 3, \"2\": 2, \"11\": 9, \"13\": 7}, \"5\": {\"5\": 83, \"11\": 33, \"1\": 47, \"10\": 30, \"14\": 25, \"13\": 3, \"7\": 3, \"4\": 7, \"8\": 2, \"0\": 2, \"9\": 5}, \"14\": {\"6\": 18, \"4\": 38, \"10\": 35, \"0\": 14, \"5\": 26, \"13\": 17, \"1\": 26, \"14\": 37, \"11\": 7, \"15\": 4, \"8\": 9, \"7\": 8, \"12\": 1}, \"1\": {\"5\": 45, \"1\": 73, \"11\": 47, \"8\": 13, \"4\": 4, \"14\": 26, \"10\": 19, \"13\": 3, \"0\": 1, \"6\": 6, \"15\": 2, \"7\": 1}, \"0\": {\"7\": 40, \"0\": 49, \"13\": 32, \"12\": 3, \"10\": 21, \"6\": 27, \"9\": 1, \"8\": 6, \"14\": 15, \"11\": 3, \"4\": 25, \"15\": 9, \"2\": 6, \"5\": 1, \"3\": 2}, \"10\": {\"4\": 32, \"14\": 44, \"10\": 47, \"7\": 10, \"1\": 22, \"0\": 12, \"13\": 21, \"5\": 20, \"6\": 15, \"15\": 2, \"9\": 4, \"11\": 7, \"2\": 1, \"8\": 3}, \"6\": {\"12\": 3, \"8\": 17, \"13\": 30, \"6\": 31, \"14\": 21, \"4\": 30, \"7\": 23, \"0\": 30, \"1\": 7, \"15\": 18, \"3\": 2, \"11\": 4, \"2\": 8, \"5\": 4, \"10\": 12}, \"11\": {\"11\": 121, \"14\": 16, \"10\": 6, \"5\": 21, \"1\": 60, \"4\": 5, \"8\": 10, \"15\": 1}, \"7\": {\"4\": 36, \"3\": 4, \"7\": 47, \"0\": 39, \"15\": 16, \"13\": 31, \"6\": 25, \"10\": 9, \"2\": 13, \"14\": 8, \"1\": 1, \"12\": 4, \"8\": 6, \"11\": 1}, \"4\": {\"9\": 2, \"10\": 31, \"4\": 38, \"15\": 3, \"6\": 24, \"14\": 30, \"13\": 28, \"8\": 10, \"11\": 6, \"0\": 23, \"7\": 26, \"5\": 5, \"1\": 12, \"12\": 2}, \"12\": {\"3\": 39, \"8\": 14, \"15\": 47, \"6\": 7, \"2\": 30, \"12\": 77, \"7\": 18, \"4\": 2, \"1\": 1, \"14\": 2, \"0\": 3}}, \"O_38\": {\"13\": {\"11\": 4, \"15\": 62, \"10\": 27, \"13\": 75, \"1\": 17, \"8\": 11, \"2\": 23, \"0\": 7, \"5\": 11, \"7\": 1, \"14\": 2}, \"12\": {\"4\": 35, \"12\": 178, \"11\": 3, \"10\": 7, \"14\": 11, \"7\": 2, \"0\": 2, \"8\": 1, \"13\": 1}, \"2\": {\"2\": 124, \"11\": 23, \"13\": 26, \"14\": 31, \"10\": 18, \"15\": 17, \"1\": 1}, \"9\": {\"3\": 30, \"6\": 87, \"9\": 93, \"5\": 14, \"7\": 5, \"8\": 2, \"0\": 4, \"1\": 3, \"13\": 1, \"15\": 1}, \"15\": {\"15\": 69, \"8\": 29, \"1\": 38, \"5\": 17, \"2\": 11, \"13\": 51, \"10\": 10, \"7\": 4, \"0\": 8, \"11\": 1, \"6\": 2}, \"5\": {\"15\": 23, \"7\": 29, \"3\": 6, \"5\": 53, \"9\": 12, \"0\": 26, \"13\": 7, \"8\": 42, \"1\": 21, \"6\": 15, \"10\": 6}, \"14\": {\"14\": 116, \"11\": 80, \"10\": 8, \"2\": 22, \"12\": 9, \"4\": 1, \"15\": 2, \"13\": 2}, \"0\": {\"10\": 14, \"8\": 40, \"0\": 62, \"1\": 5, \"15\": 15, \"7\": 44, \"3\": 11, \"6\": 8, \"5\": 24, \"9\": 4, \"4\": 2, \"11\": 1, \"13\": 4, \"12\": 6}, \"3\": {\"3\": 141, \"9\": 37, \"6\": 22, \"5\": 7, \"7\": 17, \"1\": 1, \"0\": 13, \"4\": 1, \"8\": 1}, \"1\": {\"1\": 147, \"15\": 46, \"0\": 3, \"2\": 1, \"13\": 9, \"5\": 16, \"6\": 12, \"8\": 4, \"9\": 2}, \"11\": {\"14\": 78, \"11\": 84, \"2\": 36, \"12\": 14, \"10\": 16, \"13\": 5, \"1\": 2, \"8\": 1, \"4\": 3, \"15\": 1}, \"7\": {\"5\": 37, \"0\": 43, \"7\": 97, \"8\": 33, \"6\": 5, \"10\": 8, \"3\": 5, \"15\": 3, \"9\": 6, \"13\": 2, \"1\": 1}, \"8\": {\"15\": 34, \"7\": 21, \"5\": 41, \"2\": 3, \"8\": 48, \"0\": 43, \"10\": 14, \"1\": 8, \"13\": 20, \"3\": 2, \"12\": 2, \"9\": 3, \"6\": 1}, \"4\": {\"4\": 181, \"12\": 47, \"7\": 1, \"10\": 7, \"11\": 3, \"14\": 1}, \"10\": {\"14\": 9, \"8\": 19, \"0\": 5, \"10\": 99, \"4\": 2, \"13\": 33, \"15\": 26, \"2\": 10, \"5\": 3, \"11\": 13, \"7\": 9, \"12\": 11, \"1\": 1}, \"6\": {\"9\": 65, \"6\": 123, \"3\": 10, \"5\": 22, \"0\": 6, \"1\": 9, \"15\": 3, \"8\": 2}}, \"O_26\": {\"10\": {\"10\": 40, \"6\": 16, \"7\": 9, \"4\": 27, \"8\": 17, \"1\": 20, \"9\": 16, \"5\": 8, \"0\": 33, \"14\": 25, \"15\": 13, \"13\": 6, \"2\": 6, \"11\": 2, \"3\": 1, \"12\": 1}, \"12\": {\"12\": 200, \"11\": 24, \"6\": 9, \"10\": 3, \"13\": 1, \"0\": 2, \"8\": 1}, \"1\": {\"6\": 7, \"1\": 63, \"14\": 34, \"4\": 29, \"0\": 22, \"7\": 26, \"10\": 20, \"5\": 5, \"9\": 8, \"8\": 10, \"3\": 9, \"11\": 1, \"13\": 1, \"2\": 4, \"15\": 1}, \"0\": {\"14\": 33, \"3\": 7, \"9\": 18, \"1\": 27, \"10\": 23, \"8\": 19, \"5\": 7, \"0\": 35, \"7\": 15, \"4\": 27, \"12\": 2, \"6\": 13, \"2\": 5, \"13\": 3, \"15\": 6}, \"15\": {\"15\": 39, \"4\": 13, \"7\": 20, \"6\": 14, \"13\": 29, \"5\": 27, \"8\": 21, \"3\": 14, \"9\": 21, \"2\": 18, \"14\": 4, \"10\": 9, \"0\": 9, \"1\": 2}, \"13\": {\"2\": 29, \"8\": 15, \"13\": 50, \"6\": 12, \"5\": 44, \"15\": 31, \"9\": 16, \"11\": 4, \"10\": 11, \"3\": 12, \"12\": 1, \"7\": 9, \"14\": 2, \"4\": 1, \"0\": 3}, \"8\": {\"13\": 12, \"3\": 15, \"5\": 17, \"8\": 30, \"0\": 16, \"6\": 18, \"12\": 1, \"14\": 19, \"4\": 21, \"10\": 21, \"1\": 13, \"9\": 10, \"15\": 18, \"7\": 12, \"2\": 16, \"11\": 1}, \"3\": {\"3\": 51, \"2\": 55, \"0\": 11, \"5\": 15, \"7\": 40, \"14\": 8, \"4\": 11, \"13\": 6, \"8\": 13, \"6\": 6, \"10\": 7, \"9\": 9, \"15\": 6, \"1\": 2}, \"11\": {\"13\": 4, \"11\": 195, \"6\": 3, \"12\": 32, \"9\": 2, \"0\": 2, \"5\": 1, \"8\": 1}, \"4\": {\"3\": 15, \"1\": 26, \"0\": 23, \"14\": 32, \"8\": 20, \"7\": 20, \"10\": 22, \"2\": 9, \"4\": 43, \"6\": 9, \"9\": 11, \"5\": 3, \"15\": 4, \"13\": 2, \"12\": 1}, \"6\": {\"0\": 22, \"15\": 21, \"6\": 51, \"9\": 35, \"4\": 11, \"8\": 19, \"3\": 2, \"10\": 17, \"11\": 7, \"12\": 4, \"13\": 15, \"5\": 16, \"14\": 7, \"7\": 5, \"1\": 4, \"2\": 4}, \"7\": {\"13\": 8, \"14\": 15, \"4\": 11, \"2\": 24, \"3\": 39, \"7\": 39, \"8\": 20, \"15\": 11, \"9\": 21, \"1\": 9, \"6\": 3, \"10\": 20, \"5\": 17, \"0\": 3}, \"14\": {\"10\": 34, \"8\": 18, \"7\": 16, \"0\": 37, \"1\": 36, \"9\": 12, \"14\": 40, \"4\": 22, \"6\": 8, \"5\": 2, \"13\": 1, \"15\": 3, \"2\": 5, \"3\": 6}, \"2\": {\"3\": 34, \"2\": 56, \"15\": 19, \"13\": 19, \"9\": 12, \"7\": 23, \"10\": 8, \"8\": 12, \"5\": 22, \"0\": 10, \"14\": 6, \"4\": 11, \"6\": 5, \"1\": 3}, \"5\": {\"8\": 22, \"5\": 38, \"2\": 21, \"6\": 15, \"13\": 39, \"14\": 10, \"9\": 16, \"3\": 12, \"4\": 5, \"0\": 6, \"10\": 14, \"15\": 25, \"7\": 14, \"11\": 2, \"1\": 1}, \"9\": {\"1\": 9, \"12\": 1, \"4\": 16, \"8\": 22, \"6\": 24, \"7\": 7, \"15\": 21, \"9\": 46, \"13\": 14, \"2\": 10, \"14\": 13, \"10\": 17, \"3\": 11, \"11\": 2, \"5\": 19, \"0\": 8}}, \"O_20\": {\"5\": {\"2\": 19, \"4\": 9, \"12\": 30, \"15\": 23, \"0\": 46, \"5\": 29, \"9\": 13, \"3\": 18, \"13\": 5, \"1\": 23, \"8\": 14, \"10\": 3, \"7\": 4, \"14\": 3, \"6\": 1}, \"15\": {\"12\": 21, \"9\": 20, \"2\": 18, \"1\": 31, \"0\": 31, \"15\": 32, \"13\": 20, \"5\": 28, \"7\": 16, \"8\": 4, \"3\": 15, \"10\": 2, \"4\": 2}, \"9\": {\"4\": 12, \"1\": 23, \"13\": 9, \"9\": 26, \"12\": 24, \"15\": 16, \"10\": 12, \"0\": 7, \"8\": 6, \"7\": 30, \"6\": 6, \"3\": 28, \"2\": 21, \"5\": 14, \"14\": 4, \"11\": 2}, \"7\": {\"13\": 21, \"2\": 29, \"9\": 18, \"15\": 12, \"3\": 12, \"7\": 41, \"8\": 12, \"10\": 6, \"14\": 13, \"5\": 11, \"12\": 9, \"6\": 25, \"0\": 6, \"4\": 9, \"11\": 7, \"1\": 9}, \"3\": {\"8\": 12, \"4\": 15, \"3\": 24, \"1\": 14, \"2\": 18, \"12\": 30, \"0\": 7, \"7\": 18, \"15\": 19, \"9\": 26, \"5\": 15, \"10\": 16, \"14\": 10, \"13\": 11, \"6\": 4, \"11\": 1}, \"8\": {\"12\": 9, \"14\": 24, \"0\": 25, \"8\": 38, \"4\": 36, \"1\": 8, \"10\": 27, \"5\": 16, \"6\": 18, \"7\": 9, \"9\": 2, \"3\": 13, \"2\": 11, \"11\": 1, \"15\": 3}, \"4\": {\"12\": 11, \"5\": 23, \"4\": 38, \"15\": 8, \"6\": 8, \"8\": 37, \"10\": 31, \"9\": 13, \"1\": 13, \"2\": 8, \"14\": 11, \"0\": 19, \"3\": 14, \"7\": 6}, \"6\": {\"2\": 16, \"6\": 78, \"9\": 8, \"14\": 42, \"7\": 23, \"5\": 3, \"11\": 10, \"10\": 14, \"8\": 20, \"13\": 7, \"1\": 2, \"3\": 7, \"4\": 5, \"12\": 3, \"0\": 2}, \"2\": {\"5\": 11, \"3\": 16, \"14\": 7, \"15\": 24, \"9\": 36, \"1\": 20, \"12\": 25, \"2\": 28, \"10\": 12, \"7\": 16, \"4\": 2, \"13\": 24, \"6\": 4, \"8\": 4, \"0\": 7, \"11\": 4}, \"12\": {\"15\": 28, \"3\": 22, \"12\": 29, \"1\": 28, \"9\": 19, \"2\": 15, \"10\": 8, \"0\": 16, \"5\": 29, \"4\": 15, \"8\": 10, \"13\": 2, \"7\": 13, \"14\": 5, \"6\": 1}, \"0\": {\"3\": 10, \"9\": 11, \"1\": 21, \"13\": 5, \"15\": 23, \"12\": 17, \"4\": 18, \"5\": 39, \"0\": 65, \"8\": 16, \"7\": 2, \"2\": 9, \"14\": 2, \"10\": 1, \"6\": 1}, \"13\": {\"12\": 5, \"5\": 10, \"2\": 37, \"1\": 7, \"9\": 21, \"3\": 10, \"13\": 71, \"0\": 9, \"11\": 16, \"8\": 3, \"15\": 19, \"7\": 23, \"6\": 7, \"14\": 1, \"10\": 1}, \"10\": {\"6\": 17, \"8\": 19, \"9\": 8, \"14\": 50, \"4\": 25, \"10\": 60, \"2\": 10, \"7\": 7, \"12\": 17, \"1\": 5, \"3\": 13, \"0\": 4, \"15\": 2, \"5\": 2, \"13\": 1}, \"11\": {\"6\": 22, \"11\": 162, \"13\": 27, \"7\": 17, \"3\": 1, \"2\": 6, \"9\": 2, \"8\": 3}, \"14\": {\"3\": 7, \"6\": 50, \"7\": 16, \"8\": 35, \"10\": 29, \"14\": 60, \"4\": 15, \"12\": 7, \"15\": 2, \"9\": 3, \"1\": 1, \"2\": 4, \"13\": 2, \"5\": 5, \"11\": 2, \"0\": 2}, \"1\": {\"10\": 4, \"7\": 5, \"5\": 23, \"12\": 29, \"0\": 31, \"1\": 39, \"2\": 21, \"15\": 25, \"4\": 14, \"9\": 15, \"13\": 7, \"3\": 19, \"8\": 5, \"14\": 3}}, \"O_50\": {\"1\": {\"6\": 21, \"1\": 81, \"15\": 47, \"4\": 37, \"5\": 15, \"2\": 7, \"11\": 12, \"0\": 7, \"13\": 8, \"10\": 2, \"7\": 2, \"14\": 1}, \"2\": {\"2\": 138, \"0\": 71, \"14\": 9, \"11\": 2, \"10\": 4, \"1\": 10, \"6\": 3, \"15\": 2, \"4\": 1}, \"8\": {\"3\": 34, \"8\": 124, \"10\": 62, \"0\": 10, \"7\": 7, \"5\": 2, \"13\": 1}, \"7\": {\"7\": 85, \"8\": 9, \"10\": 21, \"13\": 55, \"5\": 42, \"4\": 10, \"6\": 12, \"3\": 2, \"1\": 2, \"0\": 2}, \"14\": {\"12\": 37, \"14\": 142, \"2\": 9, \"11\": 25, \"15\": 4, \"9\": 17, \"6\": 2, \"0\": 1, \"1\": 3}, \"6\": {\"13\": 31, \"6\": 68, \"5\": 24, \"4\": 21, \"1\": 37, \"10\": 9, \"2\": 6, \"15\": 13, \"0\": 14, \"7\": 15, \"11\": 2}, \"3\": {\"8\": 34, \"3\": 204, \"7\": 1, \"10\": 1}, \"4\": {\"4\": 41, \"0\": 8, \"7\": 11, \"6\": 35, \"5\": 38, \"13\": 16, \"1\": 37, \"11\": 9, \"15\": 35, \"9\": 1, \"10\": 2, \"14\": 3, \"8\": 1, \"2\": 3}, \"12\": {\"12\": 136, \"9\": 46, \"11\": 17, \"14\": 41}, \"15\": {\"15\": 83, \"4\": 35, \"1\": 48, \"6\": 27, \"14\": 4, \"11\": 29, \"9\": 2, \"2\": 4, \"0\": 4, \"5\": 1, \"13\": 2, \"7\": 1}, \"11\": {\"1\": 21, \"11\": 101, \"4\": 5, \"9\": 31, \"14\": 33, \"12\": 9, \"15\": 37, \"2\": 3}, \"0\": {\"10\": 29, \"0\": 106, \"2\": 56, \"13\": 10, \"1\": 16, \"6\": 10, \"4\": 4, \"5\": 4, \"8\": 5}, \"9\": {\"9\": 100, \"11\": 58, \"14\": 26, \"12\": 50, \"15\": 3, \"1\": 1, \"4\": 1, \"2\": 1}, \"10\": {\"8\": 42, \"7\": 22, \"10\": 89, \"13\": 36, \"5\": 14, \"4\": 2, \"6\": 4, \"2\": 3, \"0\": 25, \"3\": 3}, \"5\": {\"1\": 10, \"10\": 18, \"6\": 21, \"7\": 45, \"13\": 44, \"11\": 2, \"5\": 61, \"15\": 3, \"4\": 23, \"0\": 9, \"3\": 2, \"8\": 1, \"2\": 1}, \"13\": {\"7\": 48, \"10\": 31, \"5\": 48, \"1\": 12, \"13\": 51, \"15\": 3, \"4\": 15, \"6\": 22, \"0\": 6, \"8\": 4}}, \"O_32\": {\"2\": {\"13\": 16, \"4\": 55, \"0\": 29, \"14\": 15, \"5\": 18, \"11\": 3, \"2\": 83, \"7\": 14, \"8\": 5, \"9\": 2}, \"6\": {\"6\": 225, \"12\": 15}, \"5\": {\"3\": 25, \"5\": 38, \"7\": 25, \"8\": 27, \"4\": 41, \"14\": 16, \"13\": 26, \"0\": 17, \"11\": 7, \"2\": 18}, \"12\": {\"12\": 200, \"6\": 33, \"9\": 7}, \"13\": {\"5\": 28, \"3\": 38, \"7\": 28, \"0\": 19, \"2\": 11, \"14\": 25, \"13\": 36, \"11\": 13, \"4\": 31, \"8\": 11}, \"9\": {\"9\": 217, \"12\": 17, \"0\": 2, \"2\": 3, \"8\": 1}, \"11\": {\"13\": 20, \"11\": 85, \"5\": 9, \"14\": 53, \"7\": 34, \"4\": 8, \"3\": 24, \"2\": 3, \"0\": 2, \"8\": 2}, \"1\": {\"10\": 42, \"1\": 195, \"6\": 3}, \"3\": {\"11\": 27, \"3\": 99, \"13\": 27, \"14\": 17, \"5\": 25, \"0\": 6, \"8\": 24, \"7\": 10, \"4\": 4, \"15\": 1}, \"7\": {\"7\": 52, \"2\": 27, \"4\": 20, \"8\": 5, \"3\": 14, \"11\": 26, \"0\": 15, \"13\": 23, \"14\": 31, \"5\": 27}, \"14\": {\"3\": 17, \"11\": 51, \"14\": 48, \"0\": 16, \"7\": 33, \"4\": 15, \"13\": 16, \"8\": 11, \"2\": 11, \"5\": 22}, \"8\": {\"5\": 24, \"14\": 12, \"13\": 18, \"8\": 90, \"4\": 13, \"7\": 8, \"0\": 48, \"11\": 3, \"15\": 7, \"3\": 11, \"2\": 6}, \"4\": {\"7\": 31, \"0\": 24, \"4\": 58, \"13\": 22, \"2\": 45, \"3\": 6, \"11\": 7, \"5\": 27, \"14\": 12, \"8\": 7, \"9\": 1}, \"0\": {\"14\": 9, \"0\": 80, \"2\": 29, \"13\": 20, \"8\": 35, \"4\": 25, \"7\": 11, \"5\": 21, \"11\": 6, \"3\": 3, \"9\": 1}, \"10\": {\"10\": 190, \"1\": 47, \"6\": 3}, \"15\": {\"15\": 220, \"8\": 16, \"3\": 2, \"5\": 1, \"0\": 1}}, \"O_44\": {\"13\": {\"13\": 85, \"7\": 18, \"6\": 65, \"11\": 23, \"9\": 33, \"4\": 10, \"14\": 4, \"2\": 2}, \"4\": {\"15\": 26, \"14\": 71, \"4\": 107, \"0\": 9, \"9\": 6, \"5\": 11, \"13\": 8, \"8\": 1, \"2\": 1}, \"6\": {\"6\": 94, \"9\": 36, \"7\": 15, \"13\": 66, \"11\": 16, \"4\": 5, \"2\": 8}, \"0\": {\"8\": 68, \"15\": 41, \"5\": 43, \"0\": 78, \"14\": 7, \"4\": 3}, \"10\": {\"10\": 78, \"1\": 42, \"7\": 12, \"2\": 45, \"3\": 15, \"12\": 45, \"9\": 2, \"6\": 1}, \"7\": {\"13\": 16, \"2\": 52, \"7\": 70, \"6\": 16, \"3\": 9, \"10\": 17, \"11\": 3, \"9\": 46, \"1\": 7, \"12\": 3, \"14\": 1}, \"14\": {\"14\": 71, \"4\": 68, \"8\": 11, \"5\": 27, \"15\": 38, \"0\": 19, \"13\": 3, \"9\": 2, \"6\": 1}, \"15\": {\"15\": 80, \"14\": 36, \"8\": 30, \"5\": 20, \"0\": 43, \"4\": 29, \"9\": 1, \"13\": 1}, \"5\": {\"5\": 91, \"14\": 45, \"15\": 22, \"8\": 29, \"4\": 17, \"0\": 36}, \"2\": {\"10\": 43, \"2\": 74, \"1\": 24, \"7\": 49, \"12\": 8, \"9\": 23, \"3\": 12, \"6\": 7}, \"9\": {\"7\": 45, \"13\": 34, \"9\": 72, \"11\": 4, \"6\": 39, \"10\": 8, \"2\": 19, \"14\": 10, \"1\": 1, \"4\": 4, \"3\": 4}, \"12\": {\"3\": 45, \"12\": 76, \"10\": 33, \"1\": 75, \"2\": 9, \"7\": 2}, \"8\": {\"5\": 27, \"8\": 99, \"0\": 79, \"14\": 11, \"15\": 23, \"4\": 1}, \"3\": {\"1\": 53, \"3\": 116, \"12\": 42, \"2\": 13, \"7\": 6, \"10\": 10}, \"1\": {\"12\": 59, \"3\": 60, \"7\": 8, \"10\": 40, \"2\": 19, \"1\": 54}, \"11\": {\"9\": 3, \"6\": 23, \"11\": 179, \"7\": 5, \"13\": 29, \"4\": 1}}, \"O_14\": {\"1\": {\"5\": 47, \"8\": 21, \"1\": 101, \"3\": 12, \"7\": 20, \"2\": 11, \"4\": 17, \"15\": 9, \"0\": 1, \"6\": 1}, \"15\": {\"15\": 141, \"7\": 59, \"1\": 12, \"2\": 6, \"5\": 15, \"4\": 6, \"3\": 1}, \"10\": {\"10\": 107, \"3\": 11, \"0\": 52, \"4\": 2, \"11\": 16, \"6\": 12, \"9\": 10, \"14\": 12, \"13\": 15, \"2\": 1, \"12\": 2}, \"2\": {\"6\": 19, \"14\": 36, \"5\": 34, \"2\": 33, \"4\": 49, \"0\": 6, \"3\": 32, \"1\": 11, \"15\": 10, \"13\": 6, \"10\": 1, \"7\": 3}, \"9\": {\"12\": 35, \"9\": 156, \"0\": 17, \"11\": 22, \"3\": 5, \"10\": 2, \"8\": 3}, \"5\": {\"5\": 47, \"1\": 44, \"15\": 24, \"6\": 6, \"3\": 26, \"2\": 21, \"4\": 33, \"7\": 19, \"8\": 6, \"14\": 11, \"0\": 2, \"13\": 1}, \"7\": {\"15\": 49, \"5\": 13, \"7\": 134, \"1\": 36, \"2\": 4, \"8\": 2, \"3\": 1, \"4\": 1}, \"13\": {\"13\": 69, \"5\": 4, \"6\": 71, \"10\": 17, \"0\": 6, \"14\": 39, \"4\": 11, \"2\": 17, \"3\": 5, \"11\": 1}, \"8\": {\"8\": 160, \"3\": 22, \"1\": 19, \"4\": 10, \"9\": 6, \"7\": 2, \"5\": 12, \"0\": 3, \"2\": 4, \"12\": 1, \"14\": 1}, \"6\": {\"14\": 45, \"13\": 53, \"10\": 13, \"6\": 77, \"2\": 21, \"4\": 14, \"5\": 5, \"3\": 8, \"0\": 2, \"15\": 2}, \"3\": {\"6\": 13, \"3\": 60, \"0\": 22, \"4\": 43, \"5\": 15, \"8\": 13, \"1\": 11, \"2\": 22, \"10\": 9, \"7\": 4, \"14\": 22, \"13\": 5, \"11\": 1}, \"12\": {\"12\": 172, \"11\": 18, \"9\": 49, \"0\": 1}, \"0\": {\"3\": 31, \"6\": 3, \"0\": 86, \"9\": 18, \"10\": 41, \"14\": 16, \"11\": 33, \"4\": 5, \"12\": 1, \"2\": 2, \"8\": 1, \"5\": 1, \"13\": 2}, \"4\": {\"5\": 36, \"4\": 57, \"0\": 7, \"2\": 36, \"6\": 11, \"8\": 4, \"13\": 9, \"1\": 12, \"3\": 42, \"10\": 6, \"14\": 12, \"15\": 8}, \"14\": {\"6\": 40, \"4\": 21, \"14\": 66, \"13\": 19, \"3\": 29, \"10\": 15, \"5\": 2, \"0\": 17, \"1\": 1, \"2\": 26, \"11\": 3, \"8\": 1}, \"11\": {\"0\": 28, \"11\": 153, \"3\": 3, \"12\": 21, \"9\": 20, \"10\": 11, \"14\": 3, \"6\": 1}}}, \"per_domain_accuracy\": {\"C_2\": {\"accuracy\": 0.9994673295454546, \"source?\": true}, \"C_5\": {\"accuracy\": 0.9978932584269663, \"source?\": true}, \"C_1\": {\"accuracy\": 0.9975961538461539, \"source?\": true}, \"C_4\": {\"accuracy\": 0.9983158682634731, \"source?\": true}, \"C_3\": {\"accuracy\": 0.9978070175438597, \"source?\": true}, \"O_8\": {\"accuracy\": 0.30911458333333336, \"source?\": false}, \"O_38\": {\"accuracy\": 0.4401041666666667, \"source?\": false}, \"O_26\": {\"accuracy\": 0.26458333333333334, \"source?\": false}, \"O_20\": {\"accuracy\": 0.21354166666666666, \"source?\": false}, \"O_50\": {\"accuracy\": 0.4192708333333333, \"source?\": false}, \"O_32\": {\"accuracy\": 0.49895833333333334, \"source?\": false}, \"O_44\": {\"accuracy\": 0.37083333333333335, \"source?\": false}, \"O_14\": {\"accuracy\": 0.42161458333333335, \"source?\": false}}}, \"history\": {\"epoch_indices\": [1, 2, 3, 4, 5, 6, 7], \"train_label_loss\": [0.03621695992413359, 0.042765542863968435, 0.007032294773821303, 0.007020424161582989, 0.005954815883229329, 0.0027618380890914516, 0.0056909148822296245], \"source_val_label_loss\": [0.03083895333111286, 0.00890296045690775, 0.009356029331684113, 0.006945087108761072, 0.0058915624395012856, 0.009032431058585644, 0.0074981022626161575], \"target_val_label_loss\": [2.1990840435028076, 2.4783217906951904, 1.9167464971542358, 2.4007883071899414, 2.2397210597991943, 2.5035245418548584, 3.056621789932251], \"source_val_acc_label\": [0.9957808924485125, 0.998641304347826, 0.9982122425629291, 0.9987843249427918, 0.9993564073226545, 0.9986055491990846, 0.9989631006864989], \"target_val_acc_label\": [0.278515625, 0.29267578125, 0.36725260416666666, 0.3131184895833333, 0.3192057291666667, 0.32135416666666666, 0.288671875]}, \"dataset_metrics\": {\"source\": {\"train\": {\"n_unique_x\": 175167, \"n_unique_y\": 58, \"n_batch/episode\": 6315}, \"val\": {\"n_unique_x\": 37135, \"n_unique_y\": 58, \"n_batch/episode\": 874}, \"test\": {\"n_unique_x\": 37673, \"n_unique_y\": 58, \"n_batch/episode\": 893}}, \"target\": {\"train\": {\"n_unique_x\": 179200, \"n_unique_y\": 16, \"n_batch/episode\": 6720}, \"val\": {\"n_unique_x\": 38400, \"n_unique_y\": 16, \"n_batch/episode\": 960}, \"test\": {\"n_unique_x\": 38400, \"n_unique_y\": 16, \"n_batch/episode\": 960}}}}'"
      ]
     },
     "execution_count": 29,
     "metadata": {},
     "output_type": "execute_result"
    }
   ],
   "source": [
    "json.dumps(experiment)"
   ]
  }
 ],
 "metadata": {
  "celltoolbar": "Tags",
  "kernelspec": {
   "display_name": "Python 3 (ipykernel)",
   "language": "python",
   "name": "python3"
  },
  "language_info": {
   "codemirror_mode": {
    "name": "ipython",
    "version": 3
   },
   "file_extension": ".py",
   "mimetype": "text/x-python",
   "name": "python",
   "nbconvert_exporter": "python",
   "pygments_lexer": "ipython3",
   "version": "3.8.10"
  },
  "papermill": {
   "default_parameters": {},
   "duration": 2532.665346,
   "end_time": "2022-03-26T21:34:51.238977",
   "environment_variables": {},
   "exception": null,
   "input_path": "/mnt/wd500GB/CSC500/csc500-main/csc500-notebooks/templates/tl_ptn_template.ipynb",
   "output_path": "trial.ipynb",
   "parameters": {
    "parameters": {
     "BEST_MODEL_PATH": "./best_model.pth",
     "NUM_LOGS_PER_EPOCH": 10,
     "criteria_for_best": "target_accuracy",
     "dataset_seed": 154325,
     "datasets": [
      {
       "domain_prefix": "C_",
       "domains": [
        1,
        2,
        3,
        4,
        5
       ],
       "episode_transforms": [],
       "labels": [
        "1-10.",
        "1-11.",
        "1-15.",
        "1-16.",
        "1-17.",
        "1-18.",
        "1-19.",
        "10-4.",
        "10-7.",
        "11-1.",
        "11-14.",
        "11-17.",
        "11-20.",
        "11-7.",
        "13-20.",
        "13-8.",
        "14-10.",
        "14-11.",
        "14-14.",
        "14-7.",
        "15-1.",
        "15-20.",
        "16-1.",
        "16-16.",
        "17-10.",
        "17-11.",
        "17-2.",
        "19-1.",
        "19-16.",
        "19-19.",
        "19-20.",
        "19-3.",
        "2-10.",
        "2-11.",
        "2-17.",
        "2-18.",
        "2-20.",
        "2-3.",
        "2-4.",
        "2-5.",
        "2-6.",
        "2-7.",
        "2-8.",
        "3-13.",
        "3-18.",
        "3-3.",
        "4-1.",
        "4-10.",
        "4-11.",
        "4-19.",
        "5-5.",
        "6-15.",
        "7-10.",
        "7-14.",
        "8-18.",
        "8-20.",
        "8-3.",
        "8-8."
       ],
       "num_examples_per_domain_per_label": -1,
       "pickle_path": "/mnt/wd500GB/CSC500/csc500-main/datasets/cores.stratified_ds.2022A.pkl",
       "source_or_target_dataset": "source",
       "x_transforms": [
        "unit_power",
        "jitter_256_1",
        "lowpass_+/-10MHz",
        "take_200"
       ]
      },
      {
       "domain_prefix": "O_",
       "domains": [
        32,
        38,
        8,
        44,
        14,
        50,
        20,
        26
       ],
       "episode_transforms": [],
       "labels": [
        "3123D52",
        "3123D65",
        "3123D79",
        "3123D80",
        "3123D54",
        "3123D70",
        "3123D7B",
        "3123D89",
        "3123D58",
        "3123D76",
        "3123D7D",
        "3123EFE",
        "3123D64",
        "3123D78",
        "3123D7E",
        "3124E4A"
       ],
       "num_examples_per_domain_per_label": 2000,
       "pickle_path": "/mnt/wd500GB/CSC500/csc500-main/datasets/oracle.Run1_framed_2000Examples_stratified_ds.2022A.pkl",
       "source_or_target_dataset": "target",
       "x_transforms": [
        "unit_power",
        "jitter_256_1",
        "take_200",
        "resample_20Msps_to_25Msps"
       ]
      }
     ],
     "device": "cuda",
     "experiment_name": "tl_3-jitter1v2:cores -> oracle.run1.framed",
     "lr": 0.0001,
     "n_epoch": 50,
     "n_query": 2,
     "n_shot": 3,
     "n_way": 16,
     "patience": 3,
     "seed": 154325,
     "test_k_factor": 2,
     "torch_default_dtype": "torch.float32",
     "train_k_factor": 3,
     "val_k_factor": 2,
     "x_net": [
      {
       "class": "nnReshape",
       "kargs": {
        "shape": [
         -1,
         1,
         2,
         256
        ]
       }
      },
      {
       "class": "Conv2d",
       "kargs": {
        "bias": false,
        "in_channels": 1,
        "kernel_size": [
         1,
         7
        ],
        "out_channels": 256,
        "padding": [
         0,
         3
        ]
       }
      },
      {
       "class": "ReLU",
       "kargs": {
        "inplace": true
       }
      },
      {
       "class": "BatchNorm2d",
       "kargs": {
        "num_features": 256
       }
      },
      {
       "class": "Conv2d",
       "kargs": {
        "bias": true,
        "in_channels": 256,
        "kernel_size": [
         2,
         7
        ],
        "out_channels": 80,
        "padding": [
         0,
         3
        ]
       }
      },
      {
       "class": "ReLU",
       "kargs": {
        "inplace": true
       }
      },
      {
       "class": "BatchNorm2d",
       "kargs": {
        "num_features": 80
       }
      },
      {
       "class": "Flatten",
       "kargs": {}
      },
      {
       "class": "Linear",
       "kargs": {
        "in_features": 20480,
        "out_features": 256
       }
      },
      {
       "class": "ReLU",
       "kargs": {
        "inplace": true
       }
      },
      {
       "class": "BatchNorm1d",
       "kargs": {
        "num_features": 256
       }
      },
      {
       "class": "Linear",
       "kargs": {
        "in_features": 256,
        "out_features": 256
       }
      }
     ],
     "x_shape": [
      2,
      256
     ]
    }
   },
   "start_time": "2022-03-26T20:52:38.573631",
   "version": "2.3.4"
  }
 },
 "nbformat": 4,
 "nbformat_minor": 5
}