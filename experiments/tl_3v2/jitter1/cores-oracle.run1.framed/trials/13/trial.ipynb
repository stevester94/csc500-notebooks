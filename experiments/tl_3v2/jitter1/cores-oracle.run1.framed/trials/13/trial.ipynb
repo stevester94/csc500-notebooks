{
 "cells": [
  {
   "cell_type": "markdown",
   "id": "9fea5f46",
   "metadata": {
    "papermill": {
     "duration": 0.030348,
     "end_time": "2022-03-28T00:41:42.444294",
     "exception": false,
     "start_time": "2022-03-28T00:41:42.413946",
     "status": "completed"
    },
    "tags": []
   },
   "source": [
    "# Transfer Learning Template"
   ]
  },
  {
   "cell_type": "code",
   "execution_count": 1,
   "id": "0902182a",
   "metadata": {
    "execution": {
     "iopub.execute_input": "2022-03-28T00:41:42.501144Z",
     "iopub.status.busy": "2022-03-28T00:41:42.490250Z",
     "iopub.status.idle": "2022-03-28T00:41:44.543922Z",
     "shell.execute_reply": "2022-03-28T00:41:44.543020Z"
    },
    "papermill": {
     "duration": 2.080672,
     "end_time": "2022-03-28T00:41:44.544121",
     "exception": false,
     "start_time": "2022-03-28T00:41:42.463449",
     "status": "completed"
    },
    "tags": []
   },
   "outputs": [],
   "source": [
    "%load_ext autoreload\n",
    "%autoreload 2\n",
    "%matplotlib inline\n",
    "\n",
    "    \n",
    "import os, json, sys, time, random\n",
    "import numpy as np\n",
    "import torch\n",
    "from torch.optim import Adam\n",
    "from  easydict import EasyDict\n",
    "import matplotlib.pyplot as plt\n",
    "\n",
    "from steves_models.steves_ptn import Steves_Prototypical_Network\n",
    "\n",
    "from steves_utils.lazy_iterable_wrapper import Lazy_Iterable_Wrapper\n",
    "from steves_utils.iterable_aggregator import Iterable_Aggregator\n",
    "from steves_utils.ptn_train_eval_test_jig import  PTN_Train_Eval_Test_Jig\n",
    "from steves_utils.torch_sequential_builder import build_sequential\n",
    "from steves_utils.torch_utils import get_dataset_metrics, ptn_confusion_by_domain_over_dataloader\n",
    "from steves_utils.utils_v2 import (per_domain_accuracy_from_confusion, get_datasets_base_path)\n",
    "from steves_utils.PTN.utils import independent_accuracy_assesment\n",
    "\n",
    "from torch.utils.data import DataLoader\n",
    "\n",
    "from steves_utils.stratified_dataset.episodic_accessor import Episodic_Accessor_Factory\n",
    "\n",
    "from steves_utils.ptn_do_report import (\n",
    "    get_loss_curve,\n",
    "    get_results_table,\n",
    "    get_parameters_table,\n",
    "    get_domain_accuracies,\n",
    ")\n",
    "\n",
    "from steves_utils.transforms import get_chained_transform"
   ]
  },
  {
   "cell_type": "markdown",
   "id": "41c840b4",
   "metadata": {
    "papermill": {
     "duration": 0.019035,
     "end_time": "2022-03-28T00:41:44.587827",
     "exception": false,
     "start_time": "2022-03-28T00:41:44.568792",
     "status": "completed"
    },
    "tags": []
   },
   "source": [
    "# Allowed Parameters\n",
    "These are allowed parameters, not defaults\n",
    "Each of these values need to be present in the injected parameters (the notebook will raise an exception if they are not present)\n",
    "\n",
    "Papermill uses the cell tag \"parameters\" to inject the real parameters below this cell.\n",
    "Enable tags to see what I mean"
   ]
  },
  {
   "cell_type": "code",
   "execution_count": 2,
   "id": "fd44eb83",
   "metadata": {
    "execution": {
     "iopub.execute_input": "2022-03-28T00:41:44.632451Z",
     "iopub.status.busy": "2022-03-28T00:41:44.631821Z",
     "iopub.status.idle": "2022-03-28T00:41:44.655450Z",
     "shell.execute_reply": "2022-03-28T00:41:44.654631Z"
    },
    "papermill": {
     "duration": 0.048217,
     "end_time": "2022-03-28T00:41:44.655636",
     "exception": false,
     "start_time": "2022-03-28T00:41:44.607419",
     "status": "completed"
    },
    "tags": []
   },
   "outputs": [],
   "source": [
    "required_parameters = {\n",
    "    \"experiment_name\",\n",
    "    \"lr\",\n",
    "    \"device\",\n",
    "    \"seed\",\n",
    "    \"dataset_seed\",\n",
    "    \"n_shot\",\n",
    "    \"n_query\",\n",
    "    \"n_way\",\n",
    "    \"train_k_factor\",\n",
    "    \"val_k_factor\",\n",
    "    \"test_k_factor\",\n",
    "    \"n_epoch\",\n",
    "    \"patience\",\n",
    "    \"criteria_for_best\",\n",
    "    \"x_net\",\n",
    "    \"datasets\",\n",
    "    \"torch_default_dtype\",\n",
    "    \"NUM_LOGS_PER_EPOCH\",\n",
    "    \"BEST_MODEL_PATH\",\n",
    "    \"x_shape\",\n",
    "}"
   ]
  },
  {
   "cell_type": "code",
   "execution_count": 3,
   "id": "fa3f0049",
   "metadata": {
    "execution": {
     "iopub.execute_input": "2022-03-28T00:41:44.717945Z",
     "iopub.status.busy": "2022-03-28T00:41:44.717034Z",
     "iopub.status.idle": "2022-03-28T00:41:44.736336Z",
     "shell.execute_reply": "2022-03-28T00:41:44.735445Z"
    },
    "papermill": {
     "duration": 0.052539,
     "end_time": "2022-03-28T00:41:44.736501",
     "exception": false,
     "start_time": "2022-03-28T00:41:44.683962",
     "status": "completed"
    },
    "tags": [
     "parameters"
    ]
   },
   "outputs": [],
   "source": [
    "from steves_utils.CORES.utils import (\n",
    "    ALL_NODES,\n",
    "    ALL_NODES_MINIMUM_1000_EXAMPLES,\n",
    "    ALL_DAYS\n",
    ")\n",
    "\n",
    "from steves_utils.ORACLE.utils_v2 import (\n",
    "    ALL_DISTANCES_FEET_NARROWED,\n",
    "    ALL_RUNS,\n",
    "    ALL_SERIAL_NUMBERS,\n",
    ")\n",
    "\n",
    "standalone_parameters = {}\n",
    "standalone_parameters[\"experiment_name\"] = \"STANDALONE PTN\"\n",
    "standalone_parameters[\"lr\"] = 0.001\n",
    "standalone_parameters[\"device\"] = \"cuda\"\n",
    "\n",
    "standalone_parameters[\"seed\"] = 1337\n",
    "standalone_parameters[\"dataset_seed\"] = 1337\n",
    "\n",
    "standalone_parameters[\"n_way\"] = 8\n",
    "standalone_parameters[\"n_shot\"] = 3\n",
    "standalone_parameters[\"n_query\"]  = 2\n",
    "standalone_parameters[\"train_k_factor\"] = 1\n",
    "standalone_parameters[\"val_k_factor\"] = 2\n",
    "standalone_parameters[\"test_k_factor\"] = 2\n",
    "\n",
    "\n",
    "standalone_parameters[\"n_epoch\"] = 50\n",
    "\n",
    "standalone_parameters[\"patience\"] = 10\n",
    "standalone_parameters[\"criteria_for_best\"] = \"source_loss\"\n",
    "\n",
    "standalone_parameters[\"datasets\"] = [\n",
    "    {\n",
    "        \"labels\": ALL_SERIAL_NUMBERS,\n",
    "        \"domains\": ALL_DISTANCES_FEET_NARROWED,\n",
    "        \"num_examples_per_domain_per_label\": 100,\n",
    "        \"pickle_path\": os.path.join(get_datasets_base_path(), \"oracle.Run1_framed_2000Examples_stratified_ds.2022A.pkl\"),\n",
    "        \"source_or_target_dataset\": \"source\",\n",
    "        \"x_transforms\": [\"unit_mag\", \"minus_two\"],\n",
    "        \"episode_transforms\": [],\n",
    "        \"domain_prefix\": \"ORACLE_\"\n",
    "    },\n",
    "    {\n",
    "        \"labels\": ALL_NODES,\n",
    "        \"domains\": ALL_DAYS,\n",
    "        \"num_examples_per_domain_per_label\": 100,\n",
    "        \"pickle_path\": os.path.join(get_datasets_base_path(), \"cores.stratified_ds.2022A.pkl\"),\n",
    "        \"source_or_target_dataset\": \"target\",\n",
    "        \"x_transforms\": [\"unit_power\", \"times_zero\"],\n",
    "        \"episode_transforms\": [],\n",
    "        \"domain_prefix\": \"CORES_\"\n",
    "    }   \n",
    "]\n",
    "\n",
    "standalone_parameters[\"torch_default_dtype\"] = \"torch.float32\" \n",
    "\n",
    "\n",
    "\n",
    "standalone_parameters[\"x_net\"] =     [\n",
    "    {\"class\": \"nnReshape\", \"kargs\": {\"shape\":[-1, 1, 2, 256]}},\n",
    "    {\"class\": \"Conv2d\", \"kargs\": { \"in_channels\":1, \"out_channels\":256, \"kernel_size\":(1,7), \"bias\":False, \"padding\":(0,3), },},\n",
    "    {\"class\": \"ReLU\", \"kargs\": {\"inplace\": True}},\n",
    "    {\"class\": \"BatchNorm2d\", \"kargs\": {\"num_features\":256}},\n",
    "\n",
    "    {\"class\": \"Conv2d\", \"kargs\": { \"in_channels\":256, \"out_channels\":80, \"kernel_size\":(2,7), \"bias\":True, \"padding\":(0,3), },},\n",
    "    {\"class\": \"ReLU\", \"kargs\": {\"inplace\": True}},\n",
    "    {\"class\": \"BatchNorm2d\", \"kargs\": {\"num_features\":80}},\n",
    "    {\"class\": \"Flatten\", \"kargs\": {}},\n",
    "\n",
    "    {\"class\": \"Linear\", \"kargs\": {\"in_features\": 80*256, \"out_features\": 256}}, # 80 units per IQ pair\n",
    "    {\"class\": \"ReLU\", \"kargs\": {\"inplace\": True}},\n",
    "    {\"class\": \"BatchNorm1d\", \"kargs\": {\"num_features\":256}},\n",
    "\n",
    "    {\"class\": \"Linear\", \"kargs\": {\"in_features\": 256, \"out_features\": 256}},\n",
    "]\n",
    "\n",
    "# Parameters relevant to results\n",
    "# These parameters will basically never need to change\n",
    "standalone_parameters[\"NUM_LOGS_PER_EPOCH\"] = 10\n",
    "standalone_parameters[\"BEST_MODEL_PATH\"] = \"./best_model.pth\"\n",
    "\n",
    "\n",
    "\n",
    "\n"
   ]
  },
  {
   "cell_type": "code",
   "execution_count": 4,
   "id": "b15371f2",
   "metadata": {
    "execution": {
     "iopub.execute_input": "2022-03-28T00:41:44.796383Z",
     "iopub.status.busy": "2022-03-28T00:41:44.795675Z",
     "iopub.status.idle": "2022-03-28T00:41:44.814811Z",
     "shell.execute_reply": "2022-03-28T00:41:44.814003Z"
    },
    "papermill": {
     "duration": 0.05436,
     "end_time": "2022-03-28T00:41:44.814968",
     "exception": false,
     "start_time": "2022-03-28T00:41:44.760608",
     "status": "completed"
    },
    "tags": [
     "injected-parameters"
    ]
   },
   "outputs": [],
   "source": [
    "# Parameters\n",
    "parameters = {\n",
    "    \"experiment_name\": \"tl_3-jitter1v2:cores -> oracle.run1.framed\",\n",
    "    \"device\": \"cuda\",\n",
    "    \"lr\": 0.0001,\n",
    "    \"x_shape\": [2, 256],\n",
    "    \"n_shot\": 3,\n",
    "    \"n_query\": 2,\n",
    "    \"train_k_factor\": 3,\n",
    "    \"val_k_factor\": 2,\n",
    "    \"test_k_factor\": 2,\n",
    "    \"torch_default_dtype\": \"torch.float32\",\n",
    "    \"n_epoch\": 50,\n",
    "    \"patience\": 3,\n",
    "    \"criteria_for_best\": \"target_accuracy\",\n",
    "    \"x_net\": [\n",
    "        {\"class\": \"nnReshape\", \"kargs\": {\"shape\": [-1, 1, 2, 256]}},\n",
    "        {\n",
    "            \"class\": \"Conv2d\",\n",
    "            \"kargs\": {\n",
    "                \"in_channels\": 1,\n",
    "                \"out_channels\": 256,\n",
    "                \"kernel_size\": [1, 7],\n",
    "                \"bias\": False,\n",
    "                \"padding\": [0, 3],\n",
    "            },\n",
    "        },\n",
    "        {\"class\": \"ReLU\", \"kargs\": {\"inplace\": True}},\n",
    "        {\"class\": \"BatchNorm2d\", \"kargs\": {\"num_features\": 256}},\n",
    "        {\n",
    "            \"class\": \"Conv2d\",\n",
    "            \"kargs\": {\n",
    "                \"in_channels\": 256,\n",
    "                \"out_channels\": 80,\n",
    "                \"kernel_size\": [2, 7],\n",
    "                \"bias\": True,\n",
    "                \"padding\": [0, 3],\n",
    "            },\n",
    "        },\n",
    "        {\"class\": \"ReLU\", \"kargs\": {\"inplace\": True}},\n",
    "        {\"class\": \"BatchNorm2d\", \"kargs\": {\"num_features\": 80}},\n",
    "        {\"class\": \"Flatten\", \"kargs\": {}},\n",
    "        {\"class\": \"Linear\", \"kargs\": {\"in_features\": 20480, \"out_features\": 256}},\n",
    "        {\"class\": \"ReLU\", \"kargs\": {\"inplace\": True}},\n",
    "        {\"class\": \"BatchNorm1d\", \"kargs\": {\"num_features\": 256}},\n",
    "        {\"class\": \"Linear\", \"kargs\": {\"in_features\": 256, \"out_features\": 256}},\n",
    "    ],\n",
    "    \"NUM_LOGS_PER_EPOCH\": 10,\n",
    "    \"BEST_MODEL_PATH\": \"./best_model.pth\",\n",
    "    \"n_way\": 16,\n",
    "    \"datasets\": [\n",
    "        {\n",
    "            \"labels\": [\n",
    "                \"1-10.\",\n",
    "                \"1-11.\",\n",
    "                \"1-15.\",\n",
    "                \"1-16.\",\n",
    "                \"1-17.\",\n",
    "                \"1-18.\",\n",
    "                \"1-19.\",\n",
    "                \"10-4.\",\n",
    "                \"10-7.\",\n",
    "                \"11-1.\",\n",
    "                \"11-14.\",\n",
    "                \"11-17.\",\n",
    "                \"11-20.\",\n",
    "                \"11-7.\",\n",
    "                \"13-20.\",\n",
    "                \"13-8.\",\n",
    "                \"14-10.\",\n",
    "                \"14-11.\",\n",
    "                \"14-14.\",\n",
    "                \"14-7.\",\n",
    "                \"15-1.\",\n",
    "                \"15-20.\",\n",
    "                \"16-1.\",\n",
    "                \"16-16.\",\n",
    "                \"17-10.\",\n",
    "                \"17-11.\",\n",
    "                \"17-2.\",\n",
    "                \"19-1.\",\n",
    "                \"19-16.\",\n",
    "                \"19-19.\",\n",
    "                \"19-20.\",\n",
    "                \"19-3.\",\n",
    "                \"2-10.\",\n",
    "                \"2-11.\",\n",
    "                \"2-17.\",\n",
    "                \"2-18.\",\n",
    "                \"2-20.\",\n",
    "                \"2-3.\",\n",
    "                \"2-4.\",\n",
    "                \"2-5.\",\n",
    "                \"2-6.\",\n",
    "                \"2-7.\",\n",
    "                \"2-8.\",\n",
    "                \"3-13.\",\n",
    "                \"3-18.\",\n",
    "                \"3-3.\",\n",
    "                \"4-1.\",\n",
    "                \"4-10.\",\n",
    "                \"4-11.\",\n",
    "                \"4-19.\",\n",
    "                \"5-5.\",\n",
    "                \"6-15.\",\n",
    "                \"7-10.\",\n",
    "                \"7-14.\",\n",
    "                \"8-18.\",\n",
    "                \"8-20.\",\n",
    "                \"8-3.\",\n",
    "                \"8-8.\",\n",
    "            ],\n",
    "            \"domains\": [1, 2, 3, 4, 5],\n",
    "            \"num_examples_per_domain_per_label\": -1,\n",
    "            \"pickle_path\": \"/root/csc500-main/datasets/cores.stratified_ds.2022A.pkl\",\n",
    "            \"source_or_target_dataset\": \"source\",\n",
    "            \"x_transforms\": [\n",
    "                \"unit_mag\",\n",
    "                \"jitter_256_1\",\n",
    "                \"lowpass_+/-10MHz\",\n",
    "                \"take_200\",\n",
    "            ],\n",
    "            \"episode_transforms\": [],\n",
    "            \"domain_prefix\": \"C_\",\n",
    "        },\n",
    "        {\n",
    "            \"labels\": [\n",
    "                \"3123D52\",\n",
    "                \"3123D65\",\n",
    "                \"3123D79\",\n",
    "                \"3123D80\",\n",
    "                \"3123D54\",\n",
    "                \"3123D70\",\n",
    "                \"3123D7B\",\n",
    "                \"3123D89\",\n",
    "                \"3123D58\",\n",
    "                \"3123D76\",\n",
    "                \"3123D7D\",\n",
    "                \"3123EFE\",\n",
    "                \"3123D64\",\n",
    "                \"3123D78\",\n",
    "                \"3123D7E\",\n",
    "                \"3124E4A\",\n",
    "            ],\n",
    "            \"domains\": [32, 38, 8, 44, 14, 50, 20, 26],\n",
    "            \"num_examples_per_domain_per_label\": 2000,\n",
    "            \"pickle_path\": \"/root/csc500-main/datasets/oracle.Run1_framed_2000Examples_stratified_ds.2022A.pkl\",\n",
    "            \"source_or_target_dataset\": \"target\",\n",
    "            \"x_transforms\": [\n",
    "                \"unit_mag\",\n",
    "                \"jitter_256_1\",\n",
    "                \"take_200\",\n",
    "                \"resample_20Msps_to_25Msps\",\n",
    "            ],\n",
    "            \"episode_transforms\": [],\n",
    "            \"domain_prefix\": \"O_\",\n",
    "        },\n",
    "    ],\n",
    "    \"seed\": 500,\n",
    "    \"dataset_seed\": 500,\n",
    "}\n"
   ]
  },
  {
   "cell_type": "code",
   "execution_count": 5,
   "id": "8fa1cc33",
   "metadata": {
    "execution": {
     "iopub.execute_input": "2022-03-28T00:41:44.869020Z",
     "iopub.status.busy": "2022-03-28T00:41:44.867212Z",
     "iopub.status.idle": "2022-03-28T00:41:44.886182Z",
     "shell.execute_reply": "2022-03-28T00:41:44.885372Z"
    },
    "papermill": {
     "duration": 0.0463,
     "end_time": "2022-03-28T00:41:44.886339",
     "exception": false,
     "start_time": "2022-03-28T00:41:44.840039",
     "status": "completed"
    },
    "tags": []
   },
   "outputs": [],
   "source": [
    "# Set this to True if you want to run this template directly\n",
    "STANDALONE = False\n",
    "if STANDALONE:\n",
    "    print(\"parameters not injected, running with standalone_parameters\")\n",
    "    parameters = standalone_parameters\n",
    "\n",
    "if not 'parameters' in locals() and not 'parameters' in globals():\n",
    "    raise Exception(\"Parameter injection failed\")\n",
    "\n",
    "#Use an easy dict for all the parameters\n",
    "p = EasyDict(parameters)\n",
    "\n",
    "if \"x_shape\" not in p:\n",
    "    p.x_shape = [2,256] # Default to this if we dont supply x_shape\n",
    "\n",
    "\n",
    "supplied_keys = set(p.keys())\n",
    "\n",
    "if  supplied_keys != required_parameters:\n",
    "    print(\"Parameters are incorrect\")\n",
    "    if len(supplied_keys - required_parameters)>0: print(\"Shouldn't have:\", str(supplied_keys - required_parameters))\n",
    "    if len(required_parameters - supplied_keys)>0: print(\"Need to have:\", str(required_parameters - supplied_keys))\n",
    "    raise RuntimeError(\"Parameters are incorrect\")"
   ]
  },
  {
   "cell_type": "code",
   "execution_count": 6,
   "id": "3a028d58",
   "metadata": {
    "execution": {
     "iopub.execute_input": "2022-03-28T00:41:44.946283Z",
     "iopub.status.busy": "2022-03-28T00:41:44.945710Z",
     "iopub.status.idle": "2022-03-28T00:41:44.958027Z",
     "shell.execute_reply": "2022-03-28T00:41:44.957225Z"
    },
    "papermill": {
     "duration": 0.044514,
     "end_time": "2022-03-28T00:41:44.958181",
     "exception": false,
     "start_time": "2022-03-28T00:41:44.913667",
     "status": "completed"
    },
    "tags": []
   },
   "outputs": [],
   "source": [
    "###################################\n",
    "# Set the RNGs and make it all deterministic\n",
    "###################################\n",
    "np.random.seed(p.seed)\n",
    "random.seed(p.seed)\n",
    "torch.manual_seed(p.seed)\n",
    "\n",
    "torch.use_deterministic_algorithms(True) "
   ]
  },
  {
   "cell_type": "code",
   "execution_count": 7,
   "id": "b691acf6",
   "metadata": {
    "execution": {
     "iopub.execute_input": "2022-03-28T00:41:45.007251Z",
     "iopub.status.busy": "2022-03-28T00:41:45.005090Z",
     "iopub.status.idle": "2022-03-28T00:41:45.026626Z",
     "shell.execute_reply": "2022-03-28T00:41:45.025826Z"
    },
    "papermill": {
     "duration": 0.043293,
     "end_time": "2022-03-28T00:41:45.026781",
     "exception": false,
     "start_time": "2022-03-28T00:41:44.983488",
     "status": "completed"
    },
    "tags": []
   },
   "outputs": [],
   "source": [
    "###########################################\n",
    "# The stratified datasets honor this\n",
    "###########################################\n",
    "torch.set_default_dtype(eval(p.torch_default_dtype))"
   ]
  },
  {
   "cell_type": "code",
   "execution_count": 8,
   "id": "b5fba671",
   "metadata": {
    "execution": {
     "iopub.execute_input": "2022-03-28T00:41:45.077866Z",
     "iopub.status.busy": "2022-03-28T00:41:45.076839Z",
     "iopub.status.idle": "2022-03-28T00:41:45.131497Z",
     "shell.execute_reply": "2022-03-28T00:41:45.130797Z"
    },
    "papermill": {
     "duration": 0.077974,
     "end_time": "2022-03-28T00:41:45.131696",
     "exception": false,
     "start_time": "2022-03-28T00:41:45.053722",
     "status": "completed"
    },
    "tags": []
   },
   "outputs": [],
   "source": [
    "###################################\n",
    "# Build the network(s)\n",
    "# Note: It's critical to do this AFTER setting the RNG\n",
    "###################################\n",
    "x_net = build_sequential(p.x_net)"
   ]
  },
  {
   "cell_type": "code",
   "execution_count": 9,
   "id": "5d7e61cc",
   "metadata": {
    "execution": {
     "iopub.execute_input": "2022-03-28T00:41:45.184152Z",
     "iopub.status.busy": "2022-03-28T00:41:45.183785Z",
     "iopub.status.idle": "2022-03-28T00:41:45.210601Z",
     "shell.execute_reply": "2022-03-28T00:41:45.209789Z"
    },
    "papermill": {
     "duration": 0.051944,
     "end_time": "2022-03-28T00:41:45.210757",
     "exception": false,
     "start_time": "2022-03-28T00:41:45.158813",
     "status": "completed"
    },
    "tags": []
   },
   "outputs": [],
   "source": [
    "start_time_secs = time.time()"
   ]
  },
  {
   "cell_type": "code",
   "execution_count": 10,
   "id": "c6b67dfd",
   "metadata": {
    "execution": {
     "iopub.execute_input": "2022-03-28T00:41:45.259437Z",
     "iopub.status.busy": "2022-03-28T00:41:45.259074Z",
     "iopub.status.idle": "2022-03-28T00:41:45.279866Z",
     "shell.execute_reply": "2022-03-28T00:41:45.279011Z"
    },
    "papermill": {
     "duration": 0.043631,
     "end_time": "2022-03-28T00:41:45.280023",
     "exception": false,
     "start_time": "2022-03-28T00:41:45.236392",
     "status": "completed"
    },
    "tags": []
   },
   "outputs": [],
   "source": [
    "p.domains_source = []\n",
    "p.domains_target = []\n",
    "\n",
    "\n",
    "train_original_source = []\n",
    "val_original_source   = []\n",
    "test_original_source  = []\n",
    "\n",
    "train_original_target = []\n",
    "val_original_target   = []\n",
    "test_original_target  = []"
   ]
  },
  {
   "cell_type": "code",
   "execution_count": 11,
   "id": "e3d9c3d3",
   "metadata": {
    "execution": {
     "iopub.execute_input": "2022-03-28T00:41:45.333332Z",
     "iopub.status.busy": "2022-03-28T00:41:45.332497Z",
     "iopub.status.idle": "2022-03-28T00:41:45.349530Z",
     "shell.execute_reply": "2022-03-28T00:41:45.348714Z"
    },
    "papermill": {
     "duration": 0.040268,
     "end_time": "2022-03-28T00:41:45.349699",
     "exception": false,
     "start_time": "2022-03-28T00:41:45.309431",
     "status": "completed"
    },
    "tags": []
   },
   "outputs": [],
   "source": [
    "# global_x_transform_func = lambda x: normalize(x.to(torch.get_default_dtype()), \"unit_power\") # unit_power, unit_mag\n",
    "# global_x_transform_func = lambda x: normalize(x, \"unit_power\") # unit_power, unit_mag"
   ]
  },
  {
   "cell_type": "code",
   "execution_count": 12,
   "id": "acb78fd2",
   "metadata": {
    "execution": {
     "iopub.execute_input": "2022-03-28T00:41:45.405908Z",
     "iopub.status.busy": "2022-03-28T00:41:45.405159Z",
     "iopub.status.idle": "2022-03-28T00:41:45.422504Z",
     "shell.execute_reply": "2022-03-28T00:41:45.421691Z"
    },
    "papermill": {
     "duration": 0.048571,
     "end_time": "2022-03-28T00:41:45.422663",
     "exception": false,
     "start_time": "2022-03-28T00:41:45.374092",
     "status": "completed"
    },
    "tags": []
   },
   "outputs": [],
   "source": [
    "def add_dataset(\n",
    "    labels,\n",
    "    domains,\n",
    "    pickle_path,\n",
    "    x_transforms,\n",
    "    episode_transforms,\n",
    "    domain_prefix,\n",
    "    num_examples_per_domain_per_label,\n",
    "    source_or_target_dataset:str,\n",
    "    iterator_seed=p.seed,\n",
    "    dataset_seed=p.dataset_seed,\n",
    "    n_shot=p.n_shot,\n",
    "    n_way=p.n_way,\n",
    "    n_query=p.n_query,\n",
    "    train_val_test_k_factors=(p.train_k_factor,p.val_k_factor,p.test_k_factor),\n",
    "):\n",
    "   \n",
    "    if x_transforms == []: x_transform = None\n",
    "    else: x_transform = get_chained_transform(x_transforms)\n",
    "    \n",
    "    if episode_transforms == []: episode_transform = None\n",
    "    else: raise Exception(\"episode_transforms not implemented\")\n",
    "    \n",
    "    episode_transform = lambda tup, _prefix=domain_prefix: (_prefix + str(tup[0]), tup[1])\n",
    "\n",
    "\n",
    "    eaf = Episodic_Accessor_Factory(\n",
    "        labels=labels,\n",
    "        domains=domains,\n",
    "        num_examples_per_domain_per_label=num_examples_per_domain_per_label,\n",
    "        iterator_seed=iterator_seed,\n",
    "        dataset_seed=dataset_seed,\n",
    "        n_shot=n_shot,\n",
    "        n_way=n_way,\n",
    "        n_query=n_query,\n",
    "        train_val_test_k_factors=train_val_test_k_factors,\n",
    "        pickle_path=pickle_path,\n",
    "        x_transform_func=x_transform,\n",
    "    )\n",
    "\n",
    "    train, val, test = eaf.get_train(), eaf.get_val(), eaf.get_test()\n",
    "    train = Lazy_Iterable_Wrapper(train, episode_transform)\n",
    "    val = Lazy_Iterable_Wrapper(val, episode_transform)\n",
    "    test = Lazy_Iterable_Wrapper(test, episode_transform)\n",
    "\n",
    "    if source_or_target_dataset==\"source\":\n",
    "        train_original_source.append(train)\n",
    "        val_original_source.append(val)\n",
    "        test_original_source.append(test)\n",
    "\n",
    "        p.domains_source.extend(\n",
    "            [domain_prefix + str(u) for u in domains]\n",
    "        )\n",
    "    elif source_or_target_dataset==\"target\":\n",
    "        train_original_target.append(train)\n",
    "        val_original_target.append(val)\n",
    "        test_original_target.append(test)\n",
    "        p.domains_target.extend(\n",
    "            [domain_prefix + str(u) for u in domains]\n",
    "        )\n",
    "    else:\n",
    "        raise Exception(f\"invalid source_or_target_dataset: {source_or_target_dataset}\")\n",
    "    "
   ]
  },
  {
   "cell_type": "code",
   "execution_count": 13,
   "id": "fe266617",
   "metadata": {
    "execution": {
     "iopub.execute_input": "2022-03-28T00:41:45.475348Z",
     "iopub.status.busy": "2022-03-28T00:41:45.474966Z",
     "iopub.status.idle": "2022-03-28T00:43:36.941948Z",
     "shell.execute_reply": "2022-03-28T00:43:36.941209Z"
    },
    "papermill": {
     "duration": 111.491,
     "end_time": "2022-03-28T00:43:36.942143",
     "exception": false,
     "start_time": "2022-03-28T00:41:45.451143",
     "status": "completed"
    },
    "tags": []
   },
   "outputs": [],
   "source": [
    "for ds in p.datasets:\n",
    "    add_dataset(**ds)"
   ]
  },
  {
   "cell_type": "code",
   "execution_count": 14,
   "id": "b90d65ac",
   "metadata": {
    "execution": {
     "iopub.execute_input": "2022-03-28T00:43:36.995933Z",
     "iopub.status.busy": "2022-03-28T00:43:36.995510Z",
     "iopub.status.idle": "2022-03-28T00:43:37.022712Z",
     "shell.execute_reply": "2022-03-28T00:43:37.021929Z"
    },
    "papermill": {
     "duration": 0.052381,
     "end_time": "2022-03-28T00:43:37.022905",
     "exception": false,
     "start_time": "2022-03-28T00:43:36.970524",
     "status": "completed"
    },
    "tags": []
   },
   "outputs": [],
   "source": [
    "# from steves_utils.CORES.utils import (\n",
    "#     ALL_NODES,\n",
    "#     ALL_NODES_MINIMUM_1000_EXAMPLES,\n",
    "#     ALL_DAYS\n",
    "# )\n",
    "\n",
    "# add_dataset(\n",
    "#     labels=ALL_NODES,\n",
    "#     domains = ALL_DAYS,\n",
    "#     num_examples_per_domain_per_label=100,\n",
    "#     pickle_path=os.path.join(get_datasets_base_path(), \"cores.stratified_ds.2022A.pkl\"),\n",
    "#     source_or_target_dataset=\"target\",\n",
    "#     x_transform_func=global_x_transform_func,\n",
    "#     domain_modifier=lambda u: f\"cores_{u}\"\n",
    "# )"
   ]
  },
  {
   "cell_type": "code",
   "execution_count": 15,
   "id": "76db484d",
   "metadata": {
    "execution": {
     "iopub.execute_input": "2022-03-28T00:43:37.081309Z",
     "iopub.status.busy": "2022-03-28T00:43:37.080692Z",
     "iopub.status.idle": "2022-03-28T00:43:37.093924Z",
     "shell.execute_reply": "2022-03-28T00:43:37.093049Z"
    },
    "papermill": {
     "duration": 0.044512,
     "end_time": "2022-03-28T00:43:37.094118",
     "exception": false,
     "start_time": "2022-03-28T00:43:37.049606",
     "status": "completed"
    },
    "tags": []
   },
   "outputs": [],
   "source": [
    "# from steves_utils.ORACLE.utils_v2 import (\n",
    "#     ALL_DISTANCES_FEET,\n",
    "#     ALL_RUNS,\n",
    "#     ALL_SERIAL_NUMBERS,\n",
    "# )\n",
    "\n",
    "\n",
    "# add_dataset(\n",
    "#     labels=ALL_SERIAL_NUMBERS,\n",
    "#     domains = list(set(ALL_DISTANCES_FEET) - {2,62}),\n",
    "#     num_examples_per_domain_per_label=100,\n",
    "#     pickle_path=os.path.join(get_datasets_base_path(), \"oracle.Run2_framed_2000Examples_stratified_ds.2022A.pkl\"),\n",
    "#     source_or_target_dataset=\"source\",\n",
    "#     x_transform_func=global_x_transform_func,\n",
    "#     domain_modifier=lambda u: f\"oracle1_{u}\"\n",
    "# )\n"
   ]
  },
  {
   "cell_type": "code",
   "execution_count": 16,
   "id": "97dea9d2",
   "metadata": {
    "execution": {
     "iopub.execute_input": "2022-03-28T00:43:37.146397Z",
     "iopub.status.busy": "2022-03-28T00:43:37.146012Z",
     "iopub.status.idle": "2022-03-28T00:43:37.162601Z",
     "shell.execute_reply": "2022-03-28T00:43:37.161723Z"
    },
    "papermill": {
     "duration": 0.041398,
     "end_time": "2022-03-28T00:43:37.162787",
     "exception": false,
     "start_time": "2022-03-28T00:43:37.121389",
     "status": "completed"
    },
    "tags": []
   },
   "outputs": [],
   "source": [
    "# from steves_utils.ORACLE.utils_v2 import (\n",
    "#     ALL_DISTANCES_FEET,\n",
    "#     ALL_RUNS,\n",
    "#     ALL_SERIAL_NUMBERS,\n",
    "# )\n",
    "\n",
    "\n",
    "# add_dataset(\n",
    "#     labels=ALL_SERIAL_NUMBERS,\n",
    "#     domains = list(set(ALL_DISTANCES_FEET) - {2,62,56}),\n",
    "#     num_examples_per_domain_per_label=100,\n",
    "#     pickle_path=os.path.join(get_datasets_base_path(), \"oracle.Run2_framed_2000Examples_stratified_ds.2022A.pkl\"),\n",
    "#     source_or_target_dataset=\"source\",\n",
    "#     x_transform_func=global_x_transform_func,\n",
    "#     domain_modifier=lambda u: f\"oracle2_{u}\"\n",
    "# )"
   ]
  },
  {
   "cell_type": "code",
   "execution_count": 17,
   "id": "6f289866",
   "metadata": {
    "execution": {
     "iopub.execute_input": "2022-03-28T00:43:37.217650Z",
     "iopub.status.busy": "2022-03-28T00:43:37.217253Z",
     "iopub.status.idle": "2022-03-28T00:43:37.238715Z",
     "shell.execute_reply": "2022-03-28T00:43:37.237651Z"
    },
    "papermill": {
     "duration": 0.047042,
     "end_time": "2022-03-28T00:43:37.238982",
     "exception": false,
     "start_time": "2022-03-28T00:43:37.191940",
     "status": "completed"
    },
    "tags": []
   },
   "outputs": [],
   "source": [
    "# add_dataset(\n",
    "#     labels=list(range(19)),\n",
    "#     domains = [0,1,2],\n",
    "#     num_examples_per_domain_per_label=100,\n",
    "#     pickle_path=os.path.join(get_datasets_base_path(), \"metehan.stratified_ds.2022A.pkl\"),\n",
    "#     source_or_target_dataset=\"target\",\n",
    "#     x_transform_func=global_x_transform_func,\n",
    "#     domain_modifier=lambda u: f\"met_{u}\"\n",
    "# )"
   ]
  },
  {
   "cell_type": "code",
   "execution_count": 18,
   "id": "86a863c3",
   "metadata": {
    "execution": {
     "iopub.execute_input": "2022-03-28T00:43:37.292313Z",
     "iopub.status.busy": "2022-03-28T00:43:37.291920Z",
     "iopub.status.idle": "2022-03-28T00:43:37.308448Z",
     "shell.execute_reply": "2022-03-28T00:43:37.309132Z"
    },
    "papermill": {
     "duration": 0.042839,
     "end_time": "2022-03-28T00:43:37.309392",
     "exception": false,
     "start_time": "2022-03-28T00:43:37.266553",
     "status": "completed"
    },
    "tags": []
   },
   "outputs": [],
   "source": [
    "# # from steves_utils.wisig.utils import (\n",
    "# #     ALL_NODES_MINIMUM_100_EXAMPLES,\n",
    "# #     ALL_NODES_MINIMUM_500_EXAMPLES,\n",
    "# #     ALL_NODES_MINIMUM_1000_EXAMPLES,\n",
    "# #     ALL_DAYS\n",
    "# # )\n",
    "\n",
    "# import steves_utils.wisig.utils as wisig\n",
    "\n",
    "\n",
    "# add_dataset(\n",
    "#     labels=wisig.ALL_NODES_MINIMUM_100_EXAMPLES,\n",
    "#     domains = wisig.ALL_DAYS,\n",
    "#     num_examples_per_domain_per_label=100,\n",
    "#     pickle_path=os.path.join(get_datasets_base_path(), \"wisig.node3-19.stratified_ds.2022A.pkl\"),\n",
    "#     source_or_target_dataset=\"target\",\n",
    "#     x_transform_func=global_x_transform_func,\n",
    "#     domain_modifier=lambda u: f\"wisig_{u}\"\n",
    "# )"
   ]
  },
  {
   "cell_type": "code",
   "execution_count": 19,
   "id": "fd5442bc",
   "metadata": {
    "execution": {
     "iopub.execute_input": "2022-03-28T00:43:37.373501Z",
     "iopub.status.busy": "2022-03-28T00:43:37.372729Z",
     "iopub.status.idle": "2022-03-28T00:43:37.392354Z",
     "shell.execute_reply": "2022-03-28T00:43:37.391726Z"
    },
    "papermill": {
     "duration": 0.048741,
     "end_time": "2022-03-28T00:43:37.392497",
     "exception": false,
     "start_time": "2022-03-28T00:43:37.343756",
     "status": "completed"
    },
    "tags": []
   },
   "outputs": [],
   "source": [
    "###################################\n",
    "# Build the dataset\n",
    "###################################\n",
    "train_original_source = Iterable_Aggregator(train_original_source, p.seed)\n",
    "val_original_source = Iterable_Aggregator(val_original_source, p.seed)\n",
    "test_original_source = Iterable_Aggregator(test_original_source, p.seed)\n",
    "\n",
    "\n",
    "train_original_target = Iterable_Aggregator(train_original_target, p.seed)\n",
    "val_original_target = Iterable_Aggregator(val_original_target, p.seed)\n",
    "test_original_target = Iterable_Aggregator(test_original_target, p.seed)\n",
    "\n",
    "# For CNN We only use X and Y. And we only train on the source.\n",
    "# Properly form the data using a transform lambda and Lazy_Iterable_Wrapper. Finally wrap them in a dataloader\n",
    "\n",
    "transform_lambda = lambda ex: ex[1] # Original is (<domain>, <episode>) so we strip down to episode only\n",
    "\n",
    "train_processed_source = Lazy_Iterable_Wrapper(train_original_source, transform_lambda)\n",
    "val_processed_source   = Lazy_Iterable_Wrapper(val_original_source, transform_lambda)\n",
    "test_processed_source  = Lazy_Iterable_Wrapper(test_original_source, transform_lambda)\n",
    "\n",
    "train_processed_target = Lazy_Iterable_Wrapper(train_original_target, transform_lambda)\n",
    "val_processed_target   = Lazy_Iterable_Wrapper(val_original_target, transform_lambda)\n",
    "test_processed_target  = Lazy_Iterable_Wrapper(test_original_target, transform_lambda)\n",
    "\n",
    "datasets = EasyDict({\n",
    "    \"source\": {\n",
    "        \"original\": {\"train\":train_original_source, \"val\":val_original_source, \"test\":test_original_source},\n",
    "        \"processed\": {\"train\":train_processed_source, \"val\":val_processed_source, \"test\":test_processed_source}\n",
    "    },\n",
    "    \"target\": {\n",
    "        \"original\": {\"train\":train_original_target, \"val\":val_original_target, \"test\":test_original_target},\n",
    "        \"processed\": {\"train\":train_processed_target, \"val\":val_processed_target, \"test\":test_processed_target}\n",
    "    },\n",
    "})"
   ]
  },
  {
   "cell_type": "code",
   "execution_count": 20,
   "id": "5b3c01fc",
   "metadata": {
    "execution": {
     "iopub.execute_input": "2022-03-28T00:43:37.446309Z",
     "iopub.status.busy": "2022-03-28T00:43:37.445917Z",
     "iopub.status.idle": "2022-03-28T00:43:53.242342Z",
     "shell.execute_reply": "2022-03-28T00:43:53.243030Z"
    },
    "papermill": {
     "duration": 15.823149,
     "end_time": "2022-03-28T00:43:53.243252",
     "exception": false,
     "start_time": "2022-03-28T00:43:37.420103",
     "status": "completed"
    },
    "tags": []
   },
   "outputs": [
    {
     "name": "stdout",
     "output_type": "stream",
     "text": [
      "{'C_2', 'C_4', 'C_5', 'C_1', 'C_3'}\n"
     ]
    },
    {
     "name": "stdout",
     "output_type": "stream",
     "text": [
      "{'O_44', 'O_32', 'O_14', 'O_8', 'O_26', 'O_38', 'O_50', 'O_20'}\n"
     ]
    },
    {
     "name": "stdout",
     "output_type": "stream",
     "text": [
      "tensor([[[0., 0., 0.,  ..., 0., 0., 0.],\n",
      "         [0., 0., 0.,  ..., 0., 0., 0.]],\n",
      "\n",
      "        [[0., 0., 0.,  ..., 0., 0., 0.],\n",
      "         [0., 0., 0.,  ..., 0., 0., 0.]],\n",
      "\n",
      "        [[0., 0., 0.,  ..., 0., 0., 0.],\n",
      "         [0., 0., 0.,  ..., 0., 0., 0.]],\n",
      "\n",
      "        ...,\n",
      "\n",
      "        [[0., 0., 0.,  ..., 0., 0., 0.],\n",
      "         [0., 0., 0.,  ..., 0., 0., 0.]],\n",
      "\n",
      "        [[0., 0., 0.,  ..., 0., 0., 0.],\n",
      "         [0., 0., 0.,  ..., 0., 0., 0.]],\n",
      "\n",
      "        [[0., 0., 0.,  ..., 0., 0., 0.],\n",
      "         [0., 0., 0.,  ..., 0., 0., 0.]]])\n"
     ]
    }
   ],
   "source": [
    "from steves_utils.transforms import get_average_magnitude, get_average_power\n",
    "\n",
    "print(set([u for u,_ in val_original_source]))\n",
    "print(set([u for u,_ in val_original_target]))\n",
    "\n",
    "s_x, s_y, q_x, q_y, _ = next(iter(train_processed_source))\n",
    "print(s_x)\n",
    "\n",
    "# for ds in [\n",
    "#     train_processed_source,\n",
    "#     val_processed_source,\n",
    "#     test_processed_source,\n",
    "#     train_processed_target,\n",
    "#     val_processed_target,\n",
    "#     test_processed_target\n",
    "# ]:\n",
    "#     for s_x, s_y, q_x, q_y, _ in ds:\n",
    "#         for X in (s_x, q_x):\n",
    "#             for x in X:\n",
    "#                 assert np.isclose(get_average_magnitude(x.numpy()), 1.0)\n",
    "#                 assert np.isclose(get_average_power(x.numpy()), 1.0)\n",
    "                "
   ]
  },
  {
   "cell_type": "code",
   "execution_count": 21,
   "id": "bbdacba1",
   "metadata": {
    "execution": {
     "iopub.execute_input": "2022-03-28T00:43:53.299195Z",
     "iopub.status.busy": "2022-03-28T00:43:53.298817Z",
     "iopub.status.idle": "2022-03-28T00:43:53.461423Z",
     "shell.execute_reply": "2022-03-28T00:43:53.462123Z"
    },
    "papermill": {
     "duration": 0.19248,
     "end_time": "2022-03-28T00:43:53.462363",
     "exception": false,
     "start_time": "2022-03-28T00:43:53.269883",
     "status": "completed"
    },
    "tags": []
   },
   "outputs": [
    {
     "name": "stdout",
     "output_type": "stream",
     "text": [
      "(2, 256)\n"
     ]
    }
   ],
   "source": [
    "###################################\n",
    "# Build the model\n",
    "###################################\n",
    "# easfsl only wants a tuple for the shape\n",
    "model = Steves_Prototypical_Network(x_net, device=p.device, x_shape=tuple(p.x_shape))\n",
    "optimizer = Adam(params=model.parameters(), lr=p.lr)"
   ]
  },
  {
   "cell_type": "code",
   "execution_count": 22,
   "id": "22b39ac5",
   "metadata": {
    "execution": {
     "iopub.execute_input": "2022-03-28T00:43:53.544994Z",
     "iopub.status.busy": "2022-03-28T00:43:53.544613Z",
     "iopub.status.idle": "2022-03-28T01:06:50.841272Z",
     "shell.execute_reply": "2022-03-28T01:06:50.839945Z"
    },
    "papermill": {
     "duration": 1377.324933,
     "end_time": "2022-03-28T01:06:50.841602",
     "exception": false,
     "start_time": "2022-03-28T00:43:53.516669",
     "status": "completed"
    },
    "tags": []
   },
   "outputs": [
    {
     "name": "stdout",
     "output_type": "stream",
     "text": [
      "epoch: 1, [batch: 1 / 6317], examples_per_second: 34.7363, train_label_loss: 2.7293, \n"
     ]
    },
    {
     "name": "stdout",
     "output_type": "stream",
     "text": [
      "epoch: 1, [batch: 632 / 6317], examples_per_second: 2155.1004, train_label_loss: 0.0749, \n"
     ]
    },
    {
     "name": "stdout",
     "output_type": "stream",
     "text": [
      "epoch: 1, [batch: 1264 / 6317], examples_per_second: 2644.3845, train_label_loss: 0.0036, \n"
     ]
    },
    {
     "name": "stdout",
     "output_type": "stream",
     "text": [
      "epoch: 1, [batch: 1895 / 6317], examples_per_second: 2138.6838, train_label_loss: 0.0015, \n"
     ]
    },
    {
     "name": "stdout",
     "output_type": "stream",
     "text": [
      "epoch: 1, [batch: 2527 / 6317], examples_per_second: 1786.4788, train_label_loss: 0.0119, \n"
     ]
    },
    {
     "name": "stdout",
     "output_type": "stream",
     "text": [
      "epoch: 1, [batch: 3159 / 6317], examples_per_second: 1713.8770, train_label_loss: 0.0110, \n"
     ]
    },
    {
     "name": "stdout",
     "output_type": "stream",
     "text": [
      "epoch: 1, [batch: 3790 / 6317], examples_per_second: 2407.0770, train_label_loss: 0.0046, \n"
     ]
    },
    {
     "name": "stdout",
     "output_type": "stream",
     "text": [
      "epoch: 1, [batch: 4422 / 6317], examples_per_second: 2369.6285, train_label_loss: 0.0004, \n"
     ]
    },
    {
     "name": "stdout",
     "output_type": "stream",
     "text": [
      "epoch: 1, [batch: 5053 / 6317], examples_per_second: 3050.7508, train_label_loss: 0.0104, \n"
     ]
    },
    {
     "name": "stdout",
     "output_type": "stream",
     "text": [
      "epoch: 1, [batch: 5685 / 6317], examples_per_second: 3645.7997, train_label_loss: 0.0082, \n"
     ]
    },
    {
     "name": "stdout",
     "output_type": "stream",
     "text": [
      "=============================================================\n",
      "epoch: 1, source_val_acc_label: 0.9912, target_val_acc_label: 0.3456, source_val_label_loss: 0.5582, target_val_label_loss: 1.8613, \n",
      "=============================================================\n"
     ]
    },
    {
     "name": "stdout",
     "output_type": "stream",
     "text": [
      "New best\n"
     ]
    },
    {
     "name": "stdout",
     "output_type": "stream",
     "text": [
      "epoch: 2, [batch: 1 / 6315], examples_per_second: 4.0873, train_label_loss: 0.0000, \n"
     ]
    },
    {
     "name": "stdout",
     "output_type": "stream",
     "text": [
      "epoch: 2, [batch: 632 / 6315], examples_per_second: 3848.8859, train_label_loss: 0.0015, \n"
     ]
    },
    {
     "name": "stdout",
     "output_type": "stream",
     "text": [
      "epoch: 2, [batch: 1263 / 6315], examples_per_second: 4221.9878, train_label_loss: 0.0027, \n"
     ]
    },
    {
     "name": "stdout",
     "output_type": "stream",
     "text": [
      "epoch: 2, [batch: 1895 / 6315], examples_per_second: 4348.0455, train_label_loss: 0.0001, \n"
     ]
    },
    {
     "name": "stdout",
     "output_type": "stream",
     "text": [
      "epoch: 2, [batch: 2526 / 6315], examples_per_second: 4394.8462, train_label_loss: 0.0045, \n"
     ]
    },
    {
     "name": "stdout",
     "output_type": "stream",
     "text": [
      "epoch: 2, [batch: 3158 / 6315], examples_per_second: 3930.6198, train_label_loss: 0.0000, \n"
     ]
    },
    {
     "name": "stdout",
     "output_type": "stream",
     "text": [
      "epoch: 2, [batch: 3789 / 6315], examples_per_second: 2845.4659, train_label_loss: 0.0025, \n"
     ]
    },
    {
     "name": "stdout",
     "output_type": "stream",
     "text": [
      "epoch: 2, [batch: 4420 / 6315], examples_per_second: 1683.9221, train_label_loss: 0.0000, \n"
     ]
    },
    {
     "name": "stdout",
     "output_type": "stream",
     "text": [
      "epoch: 2, [batch: 5052 / 6315], examples_per_second: 1686.1291, train_label_loss: 0.0001, \n"
     ]
    },
    {
     "name": "stdout",
     "output_type": "stream",
     "text": [
      "epoch: 2, [batch: 5683 / 6315], examples_per_second: 2027.6541, train_label_loss: 0.0001, \n"
     ]
    },
    {
     "name": "stdout",
     "output_type": "stream",
     "text": [
      "=============================================================\n",
      "epoch: 2, source_val_acc_label: 0.9976, target_val_acc_label: 0.3082, source_val_label_loss: 0.0116, target_val_label_loss: 2.1690, \n",
      "=============================================================\n"
     ]
    },
    {
     "name": "stdout",
     "output_type": "stream",
     "text": [
      "epoch: 3, [batch: 1 / 6325], examples_per_second: 1.5745, train_label_loss: 0.0045, \n"
     ]
    },
    {
     "name": "stdout",
     "output_type": "stream",
     "text": [
      "epoch: 3, [batch: 633 / 6325], examples_per_second: 1756.6465, train_label_loss: 0.0008, \n"
     ]
    },
    {
     "name": "stdout",
     "output_type": "stream",
     "text": [
      "epoch: 3, [batch: 1265 / 6325], examples_per_second: 1848.4479, train_label_loss: 0.0002, \n"
     ]
    },
    {
     "name": "stdout",
     "output_type": "stream",
     "text": [
      "epoch: 3, [batch: 1898 / 6325], examples_per_second: 2050.9810, train_label_loss: 0.0000, \n"
     ]
    },
    {
     "name": "stdout",
     "output_type": "stream",
     "text": [
      "epoch: 3, [batch: 2530 / 6325], examples_per_second: 1917.8345, train_label_loss: 0.0000, \n"
     ]
    },
    {
     "name": "stdout",
     "output_type": "stream",
     "text": [
      "epoch: 3, [batch: 3163 / 6325], examples_per_second: 1689.4758, train_label_loss: 0.0000, \n"
     ]
    },
    {
     "name": "stdout",
     "output_type": "stream",
     "text": [
      "epoch: 3, [batch: 3795 / 6325], examples_per_second: 1672.0645, train_label_loss: 0.0000, \n"
     ]
    },
    {
     "name": "stdout",
     "output_type": "stream",
     "text": [
      "epoch: 3, [batch: 4427 / 6325], examples_per_second: 2044.2931, train_label_loss: 0.0321, \n"
     ]
    },
    {
     "name": "stdout",
     "output_type": "stream",
     "text": [
      "epoch: 3, [batch: 5060 / 6325], examples_per_second: 1671.6417, train_label_loss: 0.0000, \n"
     ]
    },
    {
     "name": "stdout",
     "output_type": "stream",
     "text": [
      "epoch: 3, [batch: 5692 / 6325], examples_per_second: 1668.7165, train_label_loss: 0.0000, \n"
     ]
    },
    {
     "name": "stdout",
     "output_type": "stream",
     "text": [
      "=============================================================\n",
      "epoch: 3, source_val_acc_label: 0.9980, target_val_acc_label: 0.2648, source_val_label_loss: 0.0118, target_val_label_loss: 2.9439, \n",
      "=============================================================\n"
     ]
    },
    {
     "name": "stdout",
     "output_type": "stream",
     "text": [
      "epoch: 4, [batch: 1 / 6307], examples_per_second: 1.5084, train_label_loss: 0.0004, \n"
     ]
    },
    {
     "name": "stdout",
     "output_type": "stream",
     "text": [
      "epoch: 4, [batch: 631 / 6307], examples_per_second: 2030.8637, train_label_loss: 0.0000, \n"
     ]
    },
    {
     "name": "stdout",
     "output_type": "stream",
     "text": [
      "epoch: 4, [batch: 1262 / 6307], examples_per_second: 1827.0438, train_label_loss: 0.0001, \n"
     ]
    },
    {
     "name": "stdout",
     "output_type": "stream",
     "text": [
      "epoch: 4, [batch: 1892 / 6307], examples_per_second: 1828.3623, train_label_loss: 0.0000, \n"
     ]
    },
    {
     "name": "stdout",
     "output_type": "stream",
     "text": [
      "epoch: 4, [batch: 2523 / 6307], examples_per_second: 2253.1637, train_label_loss: 0.0002, \n"
     ]
    },
    {
     "name": "stdout",
     "output_type": "stream",
     "text": [
      "epoch: 4, [batch: 3154 / 6307], examples_per_second: 1675.7435, train_label_loss: 0.0000, \n"
     ]
    },
    {
     "name": "stdout",
     "output_type": "stream",
     "text": [
      "epoch: 4, [batch: 3784 / 6307], examples_per_second: 1677.2179, train_label_loss: 0.0058, \n"
     ]
    },
    {
     "name": "stdout",
     "output_type": "stream",
     "text": [
      "epoch: 4, [batch: 4415 / 6307], examples_per_second: 1867.2113, train_label_loss: 0.0000, \n"
     ]
    },
    {
     "name": "stdout",
     "output_type": "stream",
     "text": [
      "epoch: 4, [batch: 5045 / 6307], examples_per_second: 2402.7909, train_label_loss: 0.0000, \n"
     ]
    },
    {
     "name": "stdout",
     "output_type": "stream",
     "text": [
      "epoch: 4, [batch: 5676 / 6307], examples_per_second: 2637.9757, train_label_loss: 0.0000, \n"
     ]
    },
    {
     "name": "stdout",
     "output_type": "stream",
     "text": [
      "=============================================================\n",
      "epoch: 4, source_val_acc_label: 0.9992, target_val_acc_label: 0.3249, source_val_label_loss: 0.0053, target_val_label_loss: 2.4170, \n",
      "=============================================================\n"
     ]
    },
    {
     "name": "stdout",
     "output_type": "stream",
     "text": [
      "epoch: 5, [batch: 1 / 6302], examples_per_second: 3.8043, train_label_loss: 0.0006, \n"
     ]
    },
    {
     "name": "stdout",
     "output_type": "stream",
     "text": [
      "epoch: 5, [batch: 631 / 6302], examples_per_second: 3836.8638, train_label_loss: 0.0000, \n"
     ]
    },
    {
     "name": "stdout",
     "output_type": "stream",
     "text": [
      "epoch: 5, [batch: 1261 / 6302], examples_per_second: 4191.5575, train_label_loss: 0.0001, \n"
     ]
    },
    {
     "name": "stdout",
     "output_type": "stream",
     "text": [
      "epoch: 5, [batch: 1891 / 6302], examples_per_second: 4183.9642, train_label_loss: 0.0000, \n"
     ]
    },
    {
     "name": "stdout",
     "output_type": "stream",
     "text": [
      "epoch: 5, [batch: 2521 / 6302], examples_per_second: 4165.2489, train_label_loss: 0.0001, \n"
     ]
    },
    {
     "name": "stdout",
     "output_type": "stream",
     "text": [
      "epoch: 5, [batch: 3151 / 6302], examples_per_second: 3904.4591, train_label_loss: 0.0002, \n"
     ]
    },
    {
     "name": "stdout",
     "output_type": "stream",
     "text": [
      "epoch: 5, [batch: 3781 / 6302], examples_per_second: 3840.4646, train_label_loss: 0.0000, \n"
     ]
    },
    {
     "name": "stdout",
     "output_type": "stream",
     "text": [
      "epoch: 5, [batch: 4411 / 6302], examples_per_second: 3749.5610, train_label_loss: 0.0012, \n"
     ]
    },
    {
     "name": "stdout",
     "output_type": "stream",
     "text": [
      "epoch: 5, [batch: 5041 / 6302], examples_per_second: 1955.0259, train_label_loss: 0.0014, \n"
     ]
    },
    {
     "name": "stdout",
     "output_type": "stream",
     "text": [
      "epoch: 5, [batch: 5671 / 6302], examples_per_second: 1687.1588, train_label_loss: 0.0000, \n"
     ]
    },
    {
     "name": "stdout",
     "output_type": "stream",
     "text": [
      "=============================================================\n",
      "epoch: 5, source_val_acc_label: 0.9994, target_val_acc_label: 0.3157, source_val_label_loss: 0.0047, target_val_label_loss: 2.4007, \n",
      "=============================================================\n"
     ]
    },
    {
     "name": "stdout",
     "output_type": "stream",
     "text": [
      "Patience (3) exhausted\n"
     ]
    }
   ],
   "source": [
    "###################################\n",
    "# train\n",
    "###################################\n",
    "jig = PTN_Train_Eval_Test_Jig(model, p.BEST_MODEL_PATH, p.device)\n",
    "\n",
    "jig.train(\n",
    "    train_iterable=datasets.source.processed.train,\n",
    "    source_val_iterable=datasets.source.processed.val,\n",
    "    target_val_iterable=datasets.target.processed.val,\n",
    "    num_epochs=p.n_epoch,\n",
    "    num_logs_per_epoch=p.NUM_LOGS_PER_EPOCH,\n",
    "    patience=p.patience,\n",
    "    optimizer=optimizer,\n",
    "    criteria_for_best=p.criteria_for_best,\n",
    ")"
   ]
  },
  {
   "cell_type": "code",
   "execution_count": 23,
   "id": "31e8fabf",
   "metadata": {
    "execution": {
     "iopub.execute_input": "2022-03-28T01:06:50.946559Z",
     "iopub.status.busy": "2022-03-28T01:06:50.945565Z",
     "iopub.status.idle": "2022-03-28T01:06:51.126097Z",
     "shell.execute_reply": "2022-03-28T01:06:51.126789Z"
    },
    "papermill": {
     "duration": 0.240556,
     "end_time": "2022-03-28T01:06:51.127030",
     "exception": false,
     "start_time": "2022-03-28T01:06:50.886474",
     "status": "completed"
    },
    "tags": []
   },
   "outputs": [],
   "source": [
    "total_experiment_time_secs = time.time() - start_time_secs"
   ]
  },
  {
   "cell_type": "code",
   "execution_count": 24,
   "id": "87b9595b",
   "metadata": {
    "execution": {
     "iopub.execute_input": "2022-03-28T01:06:51.226587Z",
     "iopub.status.busy": "2022-03-28T01:06:51.225732Z",
     "iopub.status.idle": "2022-03-28T01:12:43.413863Z",
     "shell.execute_reply": "2022-03-28T01:12:43.414562Z"
    },
    "papermill": {
     "duration": 352.242444,
     "end_time": "2022-03-28T01:12:43.414782",
     "exception": false,
     "start_time": "2022-03-28T01:06:51.172338",
     "status": "completed"
    },
    "tags": []
   },
   "outputs": [],
   "source": [
    "###################################\n",
    "# Evaluate the model\n",
    "###################################\n",
    "source_test_label_accuracy, source_test_label_loss = jig.test(datasets.source.processed.test)\n",
    "target_test_label_accuracy, target_test_label_loss = jig.test(datasets.target.processed.test)\n",
    "\n",
    "source_val_label_accuracy, source_val_label_loss = jig.test(datasets.source.processed.val)\n",
    "target_val_label_accuracy, target_val_label_loss = jig.test(datasets.target.processed.val)\n",
    "\n",
    "history = jig.get_history()\n",
    "\n",
    "total_epochs_trained = len(history[\"epoch_indices\"])\n",
    "\n",
    "val_dl = Iterable_Aggregator((datasets.source.original.val,datasets.target.original.val))\n",
    "\n",
    "confusion = ptn_confusion_by_domain_over_dataloader(model, p.device, val_dl)\n",
    "per_domain_accuracy = per_domain_accuracy_from_confusion(confusion)\n",
    "\n",
    "# Add a key to per_domain_accuracy for if it was a source domain\n",
    "for domain, accuracy in per_domain_accuracy.items():\n",
    "    per_domain_accuracy[domain] = {\n",
    "        \"accuracy\": accuracy,\n",
    "        \"source?\": domain in p.domains_source\n",
    "    }\n",
    "\n",
    "# Do an independent accuracy assesment JUST TO BE SURE!\n",
    "# _source_test_label_accuracy = independent_accuracy_assesment(model, datasets.source.processed.test, p.device)\n",
    "# _target_test_label_accuracy = independent_accuracy_assesment(model, datasets.target.processed.test, p.device)\n",
    "# _source_val_label_accuracy = independent_accuracy_assesment(model, datasets.source.processed.val, p.device)\n",
    "# _target_val_label_accuracy = independent_accuracy_assesment(model, datasets.target.processed.val, p.device)\n",
    "\n",
    "# assert(_source_test_label_accuracy == source_test_label_accuracy)\n",
    "# assert(_target_test_label_accuracy == target_test_label_accuracy)\n",
    "# assert(_source_val_label_accuracy == source_val_label_accuracy)\n",
    "# assert(_target_val_label_accuracy == target_val_label_accuracy)\n",
    "\n",
    "experiment = {\n",
    "    \"experiment_name\": p.experiment_name,\n",
    "    \"parameters\": dict(p),\n",
    "    \"results\": {\n",
    "        \"source_test_label_accuracy\": source_test_label_accuracy,\n",
    "        \"source_test_label_loss\": source_test_label_loss,\n",
    "        \"target_test_label_accuracy\": target_test_label_accuracy,\n",
    "        \"target_test_label_loss\": target_test_label_loss,\n",
    "        \"source_val_label_accuracy\": source_val_label_accuracy,\n",
    "        \"source_val_label_loss\": source_val_label_loss,\n",
    "        \"target_val_label_accuracy\": target_val_label_accuracy,\n",
    "        \"target_val_label_loss\": target_val_label_loss,\n",
    "        \"total_epochs_trained\": total_epochs_trained,\n",
    "        \"total_experiment_time_secs\": total_experiment_time_secs,\n",
    "        \"confusion\": confusion,\n",
    "        \"per_domain_accuracy\": per_domain_accuracy,\n",
    "    },\n",
    "    \"history\": history,\n",
    "    \"dataset_metrics\": get_dataset_metrics(datasets, \"ptn\"),\n",
    "}"
   ]
  },
  {
   "cell_type": "code",
   "execution_count": 25,
   "id": "54a21829",
   "metadata": {
    "execution": {
     "iopub.execute_input": "2022-03-28T01:12:43.517246Z",
     "iopub.status.busy": "2022-03-28T01:12:43.516876Z",
     "iopub.status.idle": "2022-03-28T01:12:43.964264Z",
     "shell.execute_reply": "2022-03-28T01:12:43.964935Z"
    },
    "papermill": {
     "duration": 0.495191,
     "end_time": "2022-03-28T01:12:43.965160",
     "exception": false,
     "start_time": "2022-03-28T01:12:43.469969",
     "status": "completed"
    },
    "tags": []
   },
   "outputs": [
    {
     "data": {
      "image/png": "[encoded data removed]",
      "text/plain": [
       "<Figure size 1080x504 with 1 Axes>"
      ]
     },
     "metadata": {
      "needs_background": "light"
     },
     "output_type": "display_data"
    }
   ],
   "source": [
    "ax = get_loss_curve(experiment)\n",
    "plt.show()"
   ]
  },
  {
   "cell_type": "code",
   "execution_count": 26,
   "id": "fd8a0f60",
   "metadata": {
    "execution": {
     "iopub.execute_input": "2022-03-28T01:12:44.053365Z",
     "iopub.status.busy": "2022-03-28T01:12:44.052738Z",
     "iopub.status.idle": "2022-03-28T01:12:44.397968Z",
     "shell.execute_reply": "2022-03-28T01:12:44.398653Z"
    },
    "papermill": {
     "duration": 0.389225,
     "end_time": "2022-03-28T01:12:44.398879",
     "exception": false,
     "start_time": "2022-03-28T01:12:44.009654",
     "status": "completed"
    },
    "tags": []
   },
   "outputs": [
    {
     "data": {
      "text/plain": [
       "<AxesSubplot:title={'center':'Results'}>"
      ]
     },
     "execution_count": 26,
     "metadata": {},
     "output_type": "execute_result"
    },
    {
     "data": {
      "image/png": "[encoded data removed]",
      "text/plain": [
       "<Figure size 1080x504 with 1 Axes>"
      ]
     },
     "metadata": {
      "needs_background": "light"
     },
     "output_type": "display_data"
    }
   ],
   "source": [
    "get_results_table(experiment)"
   ]
  },
  {
   "cell_type": "code",
   "execution_count": 27,
   "id": "cf8dc689",
   "metadata": {
    "execution": {
     "iopub.execute_input": "2022-03-28T01:12:44.493849Z",
     "iopub.status.busy": "2022-03-28T01:12:44.493481Z",
     "iopub.status.idle": "2022-03-28T01:12:44.815227Z",
     "shell.execute_reply": "2022-03-28T01:12:44.815901Z"
    },
    "papermill": {
     "duration": 0.371448,
     "end_time": "2022-03-28T01:12:44.816104",
     "exception": false,
     "start_time": "2022-03-28T01:12:44.444656",
     "status": "completed"
    },
    "tags": []
   },
   "outputs": [
    {
     "data": {
      "text/plain": [
       "<AxesSubplot:title={'center':'Per Domain Validation Accuracy'}, xlabel='domain'>"
      ]
     },
     "execution_count": 27,
     "metadata": {},
     "output_type": "execute_result"
    },
    {
     "data": {
      "image/png": "[encoded data removed]",
      "text/plain": [
       "<Figure size 1080x504 with 1 Axes>"
      ]
     },
     "metadata": {
      "needs_background": "light"
     },
     "output_type": "display_data"
    }
   ],
   "source": [
    "get_domain_accuracies(experiment)"
   ]
  },
  {
   "cell_type": "code",
   "execution_count": 28,
   "id": "a74ae082",
   "metadata": {
    "execution": {
     "iopub.execute_input": "2022-03-28T01:12:44.909021Z",
     "iopub.status.busy": "2022-03-28T01:12:44.908657Z",
     "iopub.status.idle": "2022-03-28T01:12:44.935015Z",
     "shell.execute_reply": "2022-03-28T01:12:44.934311Z"
    },
    "papermill": {
     "duration": 0.071332,
     "end_time": "2022-03-28T01:12:44.935169",
     "exception": false,
     "start_time": "2022-03-28T01:12:44.863837",
     "status": "completed"
    },
    "tags": []
   },
   "outputs": [
    {
     "name": "stdout",
     "output_type": "stream",
     "text": [
      "Source Test Label Accuracy: 0.9881320224719101 Target Test Label Accuracy: 0.34036458333333336\n",
      "Source Val Label Accuracy: 0.9911785714285715 Target Val Label Accuracy: 0.34563802083333334\n"
     ]
    }
   ],
   "source": [
    "print(\"Source Test Label Accuracy:\", experiment[\"results\"][\"source_test_label_accuracy\"], \"Target Test Label Accuracy:\", experiment[\"results\"][\"target_test_label_accuracy\"])\n",
    "print(\"Source Val Label Accuracy:\", experiment[\"results\"][\"source_val_label_accuracy\"], \"Target Val Label Accuracy:\", experiment[\"results\"][\"target_val_label_accuracy\"])"
   ]
  },
  {
   "cell_type": "code",
   "execution_count": 29,
   "id": "dacca602",
   "metadata": {
    "execution": {
     "iopub.execute_input": "2022-03-28T01:12:45.030368Z",
     "iopub.status.busy": "2022-03-28T01:12:45.029578Z",
     "iopub.status.idle": "2022-03-28T01:12:45.053380Z",
     "shell.execute_reply": "2022-03-28T01:12:45.054040Z"
    },
    "papermill": {
     "duration": 0.069634,
     "end_time": "2022-03-28T01:12:45.054220",
     "exception": false,
     "start_time": "2022-03-28T01:12:44.984586",
     "status": "completed"
    },
    "tags": [
     "experiment_json"
    ]
   },
   "outputs": [
    {
     "data": {
      "text/plain": [
       "'{\"experiment_name\": \"tl_3-jitter1v2:cores -> oracle.run1.framed\", \"parameters\": {\"experiment_name\": \"tl_3-jitter1v2:cores -> oracle.run1.framed\", \"device\": \"cuda\", \"lr\": 0.0001, \"x_shape\": [2, 256], \"n_shot\": 3, \"n_query\": 2, \"train_k_factor\": 3, \"val_k_factor\": 2, \"test_k_factor\": 2, \"torch_default_dtype\": \"torch.float32\", \"n_epoch\": 50, \"patience\": 3, \"criteria_for_best\": \"target_accuracy\", \"x_net\": [{\"class\": \"nnReshape\", \"kargs\": {\"shape\": [-1, 1, 2, 256]}}, {\"class\": \"Conv2d\", \"kargs\": {\"in_channels\": 1, \"out_channels\": 256, \"kernel_size\": [1, 7], \"bias\": false, \"padding\": [0, 3]}}, {\"class\": \"ReLU\", \"kargs\": {\"inplace\": true}}, {\"class\": \"BatchNorm2d\", \"kargs\": {\"num_features\": 256}}, {\"class\": \"Conv2d\", \"kargs\": {\"in_channels\": 256, \"out_channels\": 80, \"kernel_size\": [2, 7], \"bias\": true, \"padding\": [0, 3]}}, {\"class\": \"ReLU\", \"kargs\": {\"inplace\": true}}, {\"class\": \"BatchNorm2d\", \"kargs\": {\"num_features\": 80}}, {\"class\": \"Flatten\", \"kargs\": {}}, {\"class\": \"Linear\", \"kargs\": {\"in_features\": 20480, \"out_features\": 256}}, {\"class\": \"ReLU\", \"kargs\": {\"inplace\": true}}, {\"class\": \"BatchNorm1d\", \"kargs\": {\"num_features\": 256}}, {\"class\": \"Linear\", \"kargs\": {\"in_features\": 256, \"out_features\": 256}}], \"NUM_LOGS_PER_EPOCH\": 10, \"BEST_MODEL_PATH\": \"./best_model.pth\", \"n_way\": 16, \"datasets\": [{\"labels\": [\"1-10.\", \"1-11.\", \"1-15.\", \"1-16.\", \"1-17.\", \"1-18.\", \"1-19.\", \"10-4.\", \"10-7.\", \"11-1.\", \"11-14.\", \"11-17.\", \"11-20.\", \"11-7.\", \"13-20.\", \"13-8.\", \"14-10.\", \"14-11.\", \"14-14.\", \"14-7.\", \"15-1.\", \"15-20.\", \"16-1.\", \"16-16.\", \"17-10.\", \"17-11.\", \"17-2.\", \"19-1.\", \"19-16.\", \"19-19.\", \"19-20.\", \"19-3.\", \"2-10.\", \"2-11.\", \"2-17.\", \"2-18.\", \"2-20.\", \"2-3.\", \"2-4.\", \"2-5.\", \"2-6.\", \"2-7.\", \"2-8.\", \"3-13.\", \"3-18.\", \"3-3.\", \"4-1.\", \"4-10.\", \"4-11.\", \"4-19.\", \"5-5.\", \"6-15.\", \"7-10.\", \"7-14.\", \"8-18.\", \"8-20.\", \"8-3.\", \"8-8.\"], \"domains\": [1, 2, 3, 4, 5], \"num_examples_per_domain_per_label\": -1, \"pickle_path\": \"/root/csc500-main/datasets/cores.stratified_ds.2022A.pkl\", \"source_or_target_dataset\": \"source\", \"x_transforms\": [\"unit_mag\", \"jitter_256_1\", \"lowpass_+/-10MHz\", \"take_200\"], \"episode_transforms\": [], \"domain_prefix\": \"C_\"}, {\"labels\": [\"3123D52\", \"3123D65\", \"3123D79\", \"3123D80\", \"3123D54\", \"3123D70\", \"3123D7B\", \"3123D89\", \"3123D58\", \"3123D76\", \"3123D7D\", \"3123EFE\", \"3123D64\", \"3123D78\", \"3123D7E\", \"3124E4A\"], \"domains\": [32, 38, 8, 44, 14, 50, 20, 26], \"num_examples_per_domain_per_label\": 2000, \"pickle_path\": \"/root/csc500-main/datasets/oracle.Run1_framed_2000Examples_stratified_ds.2022A.pkl\", \"source_or_target_dataset\": \"target\", \"x_transforms\": [\"unit_mag\", \"jitter_256_1\", \"take_200\", \"resample_20Msps_to_25Msps\"], \"episode_transforms\": [], \"domain_prefix\": \"O_\"}], \"seed\": 500, \"dataset_seed\": 500, \"domains_source\": [\"C_1\", \"C_2\", \"C_3\", \"C_4\", \"C_5\"], \"domains_target\": [\"O_32\", \"O_38\", \"O_8\", \"O_44\", \"O_14\", \"O_50\", \"O_20\", \"O_26\"]}, \"results\": {\"source_test_label_accuracy\": 0.9881320224719101, \"source_test_label_loss\": 0.8309565186500549, \"target_test_label_accuracy\": 0.34036458333333336, \"target_test_label_loss\": 1.8779195547103882, \"source_val_label_accuracy\": 0.9911785714285715, \"source_val_label_loss\": 0.5582188367843628, \"target_val_label_accuracy\": 0.34563802083333334, \"target_val_label_loss\": 1.8613300323486328, \"total_epochs_trained\": 5, \"total_experiment_time_secs\": 1505.915001153946, \"confusion\": {\"C_4\": {\"38\": {\"38\": 40}, \"3\": {\"3\": 124}, \"24\": {\"24\": 56}, \"49\": {\"49\": 20}, \"7\": {\"7\": 24}, \"17\": {\"17\": 80}, \"43\": {\"43\": 148}, \"30\": {\"30\": 44}, \"44\": {\"44\": 132}, \"23\": {\"23\": 144}, \"37\": {\"37\": 24}, \"4\": {\"4\": 132}, \"57\": {\"57\": 100}, \"16\": {\"16\": 96}, \"18\": {\"18\": 107, \"15\": 1}, \"20\": {\"20\": 124}, \"45\": {\"45\": 96}, \"15\": {\"15\": 132}, \"52\": {\"52\": 116}, \"19\": {\"19\": 140}, \"54\": {\"54\": 108}, \"56\": {\"56\": 130}, \"40\": {\"40\": 134}, \"28\": {\"28\": 32}, \"2\": {\"2\": 36}, \"9\": {\"9\": 120}, \"0\": {\"0\": 80}, \"36\": {\"36\": 92}, \"55\": {\"55\": 130}, \"35\": {\"35\": 33, \"30\": 2, \"31\": 1, \"33\": 1, \"43\": 1, \"12\": 2}, \"39\": {\"14\": 2, \"39\": 15, \"54\": 1, \"32\": 1, \"57\": 1}, \"31\": {\"31\": 20, \"46\": 1, \"36\": 2, \"6\": 1, \"54\": 2, \"1\": 1, \"47\": 1}, \"14\": {\"14\": 16}, \"12\": {\"12\": 92}, \"6\": {\"6\": 111, \"51\": 1}, \"26\": {\"26\": 24}, \"50\": {\"3\": 4, \"50\": 127, \"21\": 1}, \"21\": {\"21\": 121, \"50\": 1}, \"46\": {\"46\": 140}, \"51\": {\"51\": 140}, \"41\": {\"41\": 36}, \"34\": {\"34\": 24}, \"47\": {\"47\": 120}, \"5\": {\"5\": 106, \"16\": 1, \"15\": 1}, \"1\": {\"1\": 40}, \"48\": {\"48\": 134}, \"29\": {\"29\": 118}, \"22\": {\"22\": 128}, \"10\": {\"10\": 132}, \"32\": {\"32\": 24}, \"13\": {\"13\": 90, \"2\": 2, \"56\": 2, \"10\": 12, \"43\": 2, \"24\": 1, \"37\": 2, \"16\": 1}, \"42\": {\"42\": 32}, \"27\": {\"27\": 138}, \"8\": {\"8\": 142}, \"33\": {\"33\": 36}, \"25\": {\"25\": 132}, \"11\": {\"11\": 104}, \"53\": {\"53\": 112}}, \"C_2\": {\"32\": {\"32\": 28}, \"17\": {\"17\": 104}, \"38\": {\"38\": 20}, \"2\": {\"2\": 32}, \"43\": {\"43\": 138, \"5\": 4, \"23\": 1, \"13\": 1}, \"56\": {\"56\": 144}, \"37\": {\"37\": 36}, \"49\": {\"49\": 24}, \"0\": {\"0\": 48}, \"29\": {\"29\": 128}, \"35\": {\"35\": 32}, \"18\": {\"18\": 48}, \"25\": {\"25\": 136}, \"23\": {\"23\": 124}, \"15\": {\"15\": 146}, \"21\": {\"21\": 120}, \"51\": {\"51\": 128}, \"20\": {\"20\": 138}, \"7\": {\"7\": 36}, \"50\": {\"50\": 136}, \"31\": {\"31\": 28}, \"30\": {\"30\": 139, \"3\": 1}, \"19\": {\"19\": 156}, \"9\": {\"9\": 144}, \"52\": {\"52\": 124}, \"45\": {\"45\": 127, \"17\": 1}, \"8\": {\"8\": 154}, \"55\": {\"55\": 160}, \"12\": {\"12\": 92}, \"40\": {\"40\": 140}, \"28\": {\"28\": 28}, \"36\": {\"36\": 114, \"30\": 2}, \"39\": {\"37\": 3, \"39\": 17, \"0\": 2, \"5\": 3, \"36\": 1, \"3\": 1, \"57\": 1}, \"46\": {\"46\": 122}, \"14\": {\"14\": 21, \"57\": 2, \"0\": 1}, \"57\": {\"57\": 142}, \"34\": {\"34\": 28}, \"1\": {\"1\": 112}, \"53\": {\"53\": 136}, \"48\": {\"48\": 130}, \"3\": {\"3\": 91, \"46\": 1}, \"16\": {\"16\": 152}, \"6\": {\"6\": 124}, \"10\": {\"10\": 112}, \"13\": {\"13\": 104, \"52\": 2, \"24\": 8, \"10\": 2}, \"26\": {\"26\": 24}, \"24\": {\"24\": 83, \"13\": 6, \"43\": 5, \"31\": 2}, \"44\": {\"44\": 100}, \"27\": {\"27\": 150}, \"22\": {\"22\": 128}, \"33\": {\"33\": 28}, \"47\": {\"47\": 118}, \"5\": {\"5\": 120}, \"4\": {\"4\": 138}, \"41\": {\"41\": 20}, \"11\": {\"11\": 150}, \"54\": {\"54\": 108}, \"42\": {\"42\": 36}}, \"C_3\": {\"5\": {\"5\": 116}, \"32\": {\"32\": 28}, \"33\": {\"33\": 28}, \"49\": {\"49\": 20}, \"39\": {\"39\": 16}, \"11\": {\"11\": 142}, \"8\": {\"8\": 116}, \"26\": {\"26\": 24}, \"51\": {\"51\": 122}, \"4\": {\"4\": 146}, \"52\": {\"52\": 118}, \"47\": {\"47\": 92}, \"17\": {\"17\": 107, \"56\": 1}, \"53\": {\"53\": 136}, \"2\": {\"2\": 32}, \"12\": {\"12\": 92}, \"37\": {\"37\": 28}, \"9\": {\"9\": 148}, \"13\": {\"13\": 116, \"11\": 2, \"24\": 2, \"43\": 4, \"10\": 4}, \"54\": {\"54\": 100}, \"31\": {\"31\": 28}, \"34\": {\"34\": 32}, \"24\": {\"24\": 94, \"16\": 2, \"13\": 4, \"10\": 2, \"43\": 2}, \"7\": {\"7\": 36}, \"50\": {\"50\": 116, \"52\": 1, \"16\": 1}, \"46\": {\"46\": 128}, \"44\": {\"44\": 88}, \"40\": {\"40\": 116}, \"21\": {\"21\": 128}, \"45\": {\"45\": 58, \"17\": 2}, \"16\": {\"16\": 126}, \"14\": {\"14\": 38, \"55\": 1, \"28\": 1}, \"36\": {\"36\": 100}, \"56\": {\"56\": 114}, \"10\": {\"10\": 64}, \"18\": {\"18\": 84}, \"48\": {\"48\": 116}, \"38\": {\"38\": 28}, \"27\": {\"27\": 130}, \"42\": {\"42\": 28}, \"15\": {\"15\": 134}, \"1\": {\"1\": 100}, \"28\": {\"28\": 28}, \"43\": {\"43\": 131, \"13\": 3, \"16\": 2}, \"0\": {\"0\": 124}, \"57\": {\"57\": 124}, \"3\": {\"3\": 148}, \"29\": {\"29\": 124}, \"41\": {\"41\": 28}, \"25\": {\"25\": 146}, \"6\": {\"6\": 87, \"52\": 1}, \"35\": {\"35\": 25, \"46\": 1, \"20\": 1, \"54\": 1}, \"20\": {\"20\": 126}, \"23\": {\"23\": 134}, \"22\": {\"22\": 140}, \"19\": {\"19\": 116}, \"55\": {\"55\": 124}, \"30\": {\"30\": 120}}, \"C_1\": {\"24\": {\"24\": 98, \"21\": 6, \"15\": 2, \"22\": 1, \"43\": 1}, \"25\": {\"25\": 140}, \"45\": {\"45\": 144}, \"42\": {\"42\": 40}, \"2\": {\"2\": 36}, \"9\": {\"9\": 150}, \"21\": {\"21\": 124}, \"26\": {\"26\": 24}, \"49\": {\"49\": 32}, \"39\": {\"39\": 28}, \"46\": {\"46\": 130, \"51\": 2, \"5\": 2, \"14\": 2}, \"17\": {\"17\": 64}, \"19\": {\"19\": 156}, \"23\": {\"23\": 132}, \"1\": {\"1\": 100}, \"29\": {\"29\": 140}, \"56\": {\"56\": 150}, \"37\": {\"37\": 32}, \"33\": {\"33\": 32}, \"55\": {\"55\": 142}, \"30\": {\"30\": 120}, \"0\": {\"0\": 152}, \"36\": {\"36\": 64}, \"32\": {\"32\": 31, \"44\": 1}, \"31\": {\"31\": 28}, \"15\": {\"15\": 138}, \"12\": {\"12\": 116}, \"38\": {\"38\": 24}, \"40\": {\"40\": 146}, \"14\": {\"14\": 23, \"30\": 1}, \"13\": {\"13\": 150}, \"48\": {\"48\": 148}, \"34\": {\"34\": 16, \"14\": 2, \"32\": 2, \"6\": 1, \"44\": 2, \"54\": 1}, \"44\": {\"44\": 130}, \"5\": {\"5\": 152}, \"11\": {\"11\": 140}, \"7\": {\"7\": 28}, \"18\": {\"18\": 72}, \"52\": {\"52\": 132}, \"51\": {\"51\": 142}, \"41\": {\"41\": 24}, \"16\": {\"16\": 140}, \"22\": {\"22\": 121, \"11\": 2, \"24\": 4, \"21\": 4, \"10\": 1, \"16\": 2}, \"3\": {\"3\": 136, \"24\": 2, \"22\": 1, \"16\": 1}, \"54\": {\"54\": 86, \"46\": 1, \"6\": 2, \"57\": 4, \"55\": 2, \"0\": 2, \"1\": 4, \"32\": 2, \"44\": 1}, \"27\": {\"27\": 144}, \"20\": {\"20\": 140}, \"8\": {\"8\": 138}, \"50\": {\"50\": 144}, \"57\": {\"57\": 140}, \"4\": {\"4\": 132}, \"47\": {\"47\": 146}, \"10\": {\"10\": 96}, \"35\": {\"35\": 36}, \"53\": {\"53\": 126}, \"6\": {\"6\": 96}, \"43\": {\"43\": 140}, \"28\": {\"28\": 26, \"10\": 1, \"24\": 1}}, \"C_5\": {\"35\": {\"35\": 33, \"28\": 1, \"13\": 1, \"36\": 1}, \"57\": {\"57\": 132}, \"20\": {\"20\": 144}, \"12\": {\"12\": 96}, \"32\": {\"32\": 31, \"27\": 1}, \"25\": {\"25\": 138}, \"44\": {\"44\": 148}, \"31\": {\"31\": 36}, \"11\": {\"11\": 150}, \"47\": {\"47\": 100}, \"23\": {\"23\": 124}, \"43\": {\"43\": 144}, \"37\": {\"37\": 24}, \"5\": {\"5\": 128}, \"45\": {\"45\": 124}, \"7\": {\"7\": 32}, \"13\": {\"13\": 127, \"10\": 3, \"15\": 3, \"43\": 3}, \"49\": {\"49\": 36}, \"46\": {\"46\": 148}, \"16\": {\"16\": 136}, \"54\": {\"54\": 106, \"57\": 3, \"5\": 1, \"29\": 2}, \"19\": {\"19\": 152}, \"55\": {\"55\": 150}, \"30\": {\"30\": 128}, \"34\": {\"34\": 36}, \"50\": {\"50\": 134}, \"3\": {\"3\": 99, \"46\": 1}, \"10\": {\"10\": 68}, \"27\": {\"27\": 142}, \"33\": {\"33\": 32}, \"56\": {\"56\": 142}, \"9\": {\"9\": 149, \"6\": 1}, \"14\": {\"14\": 37, \"54\": 5, \"47\": 1, \"46\": 1}, \"4\": {\"4\": 100}, \"42\": {\"42\": 40}, \"24\": {\"24\": 80}, \"39\": {\"39\": 11, \"31\": 2, \"14\": 3, \"50\": 1, \"57\": 2, \"54\": 1}, \"52\": {\"52\": 130}, \"2\": {\"2\": 28}, \"28\": {\"28\": 32}, \"53\": {\"53\": 122}, \"17\": {\"17\": 116}, \"29\": {\"29\": 132}, \"38\": {\"38\": 32}, \"15\": {\"15\": 144}, \"26\": {\"26\": 24}, \"21\": {\"21\": 144}, \"41\": {\"41\": 28}, \"48\": {\"48\": 136}, \"22\": {\"22\": 28}, \"8\": {\"8\": 148}, \"18\": {\"18\": 64}, \"0\": {\"0\": 122}, \"1\": {\"1\": 138}, \"40\": {\"40\": 124}, \"6\": {\"6\": 127, \"9\": 1}, \"51\": {\"51\": 142}, \"36\": {\"36\": 86, \"54\": 1, \"29\": 3, \"40\": 2}}, \"O_50\": {\"7\": {\"13\": 48, \"10\": 43, \"5\": 37, \"7\": 74, \"4\": 8, \"6\": 10, \"8\": 11, \"0\": 8, \"1\": 1}, \"10\": {\"10\": 82, \"8\": 32, \"4\": 1, \"5\": 22, \"7\": 40, \"13\": 27, \"6\": 2, \"0\": 30, \"2\": 2, \"1\": 1, \"3\": 1}, \"0\": {\"2\": 57, \"0\": 98, \"10\": 32, \"7\": 3, \"5\": 14, \"13\": 12, \"4\": 4, \"15\": 3, \"1\": 7, \"8\": 3, \"6\": 6, \"14\": 1}, \"11\": {\"11\": 96, \"15\": 26, \"9\": 48, \"14\": 40, \"2\": 1, \"1\": 8, \"12\": 15, \"4\": 3, \"6\": 3}, \"2\": {\"0\": 65, \"2\": 142, \"5\": 4, \"10\": 7, \"1\": 6, \"14\": 10, \"6\": 3, \"13\": 2, \"4\": 1}, \"14\": {\"14\": 115, \"12\": 42, \"9\": 25, \"1\": 8, \"11\": 32, \"6\": 3, \"15\": 9, \"2\": 6}, \"9\": {\"12\": 44, \"11\": 60, \"9\": 99, \"14\": 33, \"1\": 2, \"15\": 2}, \"13\": {\"13\": 42, \"6\": 32, \"5\": 42, \"7\": 50, \"0\": 9, \"4\": 23, \"10\": 27, \"15\": 3, \"8\": 2, \"1\": 8, \"2\": 2}, \"8\": {\"8\": 153, \"10\": 35, \"7\": 7, \"3\": 37, \"13\": 4, \"0\": 4}, \"15\": {\"1\": 39, \"13\": 7, \"11\": 22, \"4\": 42, \"15\": 87, \"5\": 3, \"6\": 29, \"7\": 1, \"14\": 4, \"0\": 2, \"9\": 3, \"2\": 1}, \"4\": {\"13\": 30, \"5\": 30, \"1\": 35, \"15\": 39, \"4\": 45, \"6\": 22, \"11\": 6, \"0\": 9, \"10\": 1, \"7\": 14, \"14\": 5, \"2\": 4}, \"5\": {\"7\": 43, \"6\": 21, \"5\": 50, \"4\": 30, \"13\": 38, \"10\": 30, \"0\": 8, \"1\": 11, \"8\": 1, \"15\": 4, \"2\": 4}, \"3\": {\"3\": 205, \"8\": 32, \"7\": 2, \"10\": 1}, \"1\": {\"5\": 13, \"1\": 56, \"4\": 43, \"15\": 55, \"13\": 7, \"0\": 10, \"11\": 17, \"6\": 26, \"14\": 3, \"2\": 7, \"7\": 2, \"10\": 1}, \"6\": {\"6\": 57, \"4\": 34, \"1\": 26, \"7\": 19, \"2\": 4, \"15\": 34, \"5\": 22, \"13\": 31, \"10\": 3, \"0\": 8, \"14\": 2}, \"12\": {\"12\": 114, \"14\": 51, \"9\": 59, \"11\": 16}}, \"O_14\": {\"14\": {\"0\": 14, \"6\": 44, \"13\": 28, \"2\": 32, \"14\": 50, \"3\": 24, \"4\": 15, \"10\": 16, \"5\": 10, \"11\": 5, \"1\": 2}, \"6\": {\"14\": 39, \"6\": 65, \"2\": 33, \"13\": 50, \"15\": 1, \"4\": 19, \"10\": 7, \"0\": 5, \"3\": 15, \"5\": 4, \"1\": 1, \"11\": 1}, \"5\": {\"7\": 17, \"2\": 17, \"3\": 33, \"5\": 42, \"15\": 17, \"4\": 42, \"6\": 10, \"0\": 4, \"14\": 5, \"1\": 32, \"13\": 9, \"8\": 11, \"11\": 1}, \"15\": {\"6\": 5, \"7\": 60, \"15\": 105, \"1\": 21, \"2\": 10, \"4\": 5, \"5\": 32, \"3\": 1, \"13\": 1}, \"11\": {\"11\": 97, \"10\": 30, \"9\": 46, \"0\": 40, \"12\": 17, \"14\": 7, \"3\": 2, \"13\": 1}, \"8\": {\"8\": 157, \"7\": 1, \"4\": 15, \"5\": 16, \"9\": 8, \"1\": 28, \"3\": 10, \"0\": 3, \"2\": 1, \"10\": 1}, \"12\": {\"9\": 68, \"11\": 12, \"12\": 159, \"10\": 1}, \"1\": {\"2\": 12, \"7\": 18, \"0\": 2, \"4\": 27, \"15\": 8, \"1\": 78, \"5\": 62, \"8\": 17, \"3\": 12, \"6\": 3, \"14\": 1}, \"2\": {\"6\": 34, \"14\": 26, \"4\": 32, \"13\": 24, \"3\": 29, \"2\": 30, \"5\": 22, \"10\": 4, \"1\": 21, \"15\": 8, \"0\": 7, \"8\": 1, \"7\": 2}, \"13\": {\"0\": 8, \"14\": 38, \"6\": 47, \"13\": 63, \"5\": 8, \"2\": 31, \"10\": 10, \"1\": 3, \"3\": 11, \"4\": 15, \"15\": 2, \"7\": 1, \"11\": 3}, \"3\": {\"3\": 53, \"6\": 12, \"11\": 3, \"14\": 21, \"5\": 23, \"4\": 35, \"13\": 11, \"8\": 9, \"1\": 15, \"10\": 14, \"0\": 21, \"2\": 23}, \"0\": {\"0\": 68, \"5\": 1, \"4\": 9, \"10\": 57, \"14\": 14, \"11\": 36, \"13\": 7, \"3\": 24, \"9\": 14, \"8\": 3, \"6\": 3, \"2\": 3, \"1\": 1}, \"9\": {\"11\": 32, \"9\": 124, \"12\": 51, \"10\": 9, \"0\": 20, \"8\": 3, \"14\": 1}, \"4\": {\"1\": 31, \"14\": 15, \"4\": 57, \"5\": 43, \"2\": 20, \"13\": 5, \"3\": 33, \"6\": 13, \"10\": 6, \"0\": 7, \"8\": 7, \"7\": 2, \"15\": 1}, \"7\": {\"8\": 2, \"7\": 108, \"1\": 39, \"2\": 2, \"5\": 18, \"15\": 63, \"13\": 2, \"4\": 3, \"3\": 2, \"6\": 1}, \"10\": {\"11\": 19, \"10\": 100, \"14\": 10, \"3\": 22, \"13\": 8, \"0\": 57, \"6\": 4, \"4\": 8, \"9\": 9, \"2\": 2, \"5\": 1}}, \"O_32\": {\"4\": {\"8\": 13, \"5\": 24, \"4\": 56, \"13\": 32, \"14\": 14, \"0\": 24, \"2\": 37, \"7\": 34, \"11\": 3, \"3\": 3}, \"14\": {\"11\": 73, \"5\": 12, \"14\": 50, \"7\": 37, \"8\": 19, \"4\": 9, \"2\": 11, \"0\": 9, \"13\": 10, \"3\": 9, \"15\": 1}, \"5\": {\"13\": 29, \"7\": 39, \"8\": 32, \"5\": 34, \"4\": 23, \"0\": 13, \"11\": 10, \"14\": 20, \"2\": 6, \"3\": 34}, \"10\": {\"1\": 45, \"10\": 193, \"12\": 1, \"6\": 1}, \"13\": {\"0\": 19, \"13\": 42, \"5\": 32, \"8\": 35, \"2\": 12, \"3\": 29, \"4\": 25, \"11\": 9, \"7\": 23, \"14\": 14}, \"9\": {\"9\": 197, \"12\": 26, \"2\": 8, \"0\": 4, \"6\": 2, \"4\": 1, \"8\": 1, \"5\": 1}, \"6\": {\"6\": 222, \"12\": 16, \"10\": 1, \"1\": 1}, \"3\": {\"13\": 39, \"3\": 113, \"8\": 23, \"11\": 10, \"4\": 4, \"7\": 8, \"5\": 29, \"14\": 9, \"15\": 2, \"0\": 2, \"2\": 1}, \"15\": {\"15\": 210, \"3\": 11, \"8\": 13, \"13\": 5, \"11\": 1}, \"7\": {\"2\": 18, \"0\": 17, \"5\": 24, \"7\": 51, \"4\": 28, \"8\": 10, \"14\": 36, \"13\": 16, \"11\": 29, \"3\": 11}, \"12\": {\"12\": 202, \"6\": 15, \"9\": 22, \"10\": 1}, \"8\": {\"8\": 79, \"13\": 38, \"5\": 17, \"15\": 12, \"14\": 9, \"0\": 30, \"7\": 13, \"2\": 5, \"4\": 17, \"3\": 16, \"11\": 4}, \"11\": {\"11\": 89, \"14\": 57, \"2\": 6, \"7\": 39, \"5\": 17, \"13\": 11, \"3\": 11, \"8\": 2, \"0\": 5, \"4\": 3}, \"2\": {\"0\": 38, \"4\": 50, \"2\": 74, \"7\": 26, \"13\": 15, \"14\": 13, \"8\": 4, \"11\": 5, \"5\": 11, \"9\": 2, \"3\": 2}, \"1\": {\"1\": 197, \"10\": 43}, \"0\": {\"0\": 60, \"2\": 36, \"14\": 20, \"4\": 34, \"8\": 39, \"13\": 13, \"7\": 20, \"11\": 4, \"3\": 2, \"5\": 9, \"9\": 3}}, \"O_44\": {\"8\": {\"0\": 94, \"8\": 91, \"15\": 33, \"5\": 16, \"14\": 4, \"4\": 2}, \"11\": {\"13\": 45, \"11\": 154, \"6\": 22, \"9\": 9, \"2\": 1, \"4\": 3, \"7\": 6}, \"14\": {\"14\": 91, \"5\": 26, \"4\": 62, \"8\": 7, \"15\": 35, \"0\": 15, \"13\": 3, \"9\": 1}, \"10\": {\"2\": 50, \"3\": 12, \"10\": 75, \"12\": 44, \"1\": 38, \"6\": 1, \"7\": 15, \"9\": 5}, \"3\": {\"12\": 46, \"3\": 113, \"1\": 46, \"7\": 8, \"2\": 15, \"10\": 10, \"9\": 2}, \"15\": {\"4\": 23, \"15\": 82, \"8\": 47, \"0\": 34, \"14\": 40, \"5\": 14}, \"2\": {\"7\": 50, \"2\": 69, \"9\": 18, \"10\": 40, \"12\": 14, \"1\": 21, \"3\": 10, \"14\": 1, \"6\": 10, \"13\": 7}, \"12\": {\"12\": 98, \"1\": 50, \"3\": 37, \"10\": 38, \"2\": 13, \"7\": 4}, \"4\": {\"4\": 104, \"14\": 69, \"15\": 22, \"5\": 19, \"13\": 14, \"8\": 1, \"6\": 3, \"0\": 3, \"2\": 1, \"11\": 2, \"9\": 1, \"7\": 1}, \"1\": {\"10\": 30, \"1\": 66, \"3\": 51, \"12\": 62, \"2\": 19, \"7\": 7, \"9\": 5}, \"0\": {\"5\": 39, \"15\": 43, \"0\": 80, \"8\": 60, \"14\": 16, \"4\": 2}, \"9\": {\"6\": 29, \"9\": 85, \"7\": 63, \"2\": 18, \"13\": 27, \"4\": 6, \"3\": 4, \"11\": 1, \"10\": 2, \"1\": 2, \"14\": 2, \"12\": 1}, \"5\": {\"5\": 98, \"0\": 37, \"14\": 42, \"15\": 20, \"8\": 30, \"4\": 13}, \"6\": {\"6\": 103, \"13\": 55, \"11\": 23, \"2\": 8, \"9\": 35, \"7\": 16}, \"7\": {\"13\": 10, \"9\": 42, \"7\": 75, \"6\": 17, \"3\": 9, \"2\": 51, \"4\": 4, \"1\": 17, \"10\": 10, \"12\": 5}, \"13\": {\"4\": 11, \"11\": 23, \"13\": 86, \"6\": 52, \"9\": 40, \"2\": 5, \"7\": 19, \"14\": 2, \"3\": 2}}, \"O_8\": {\"13\": {\"6\": 19, \"0\": 35, \"13\": 46, \"3\": 3, \"14\": 27, \"7\": 25, \"1\": 9, \"11\": 5, \"10\": 27, \"5\": 5, \"4\": 24, \"8\": 6, \"12\": 2, \"15\": 6, \"2\": 1}, \"3\": {\"8\": 3, \"3\": 79, \"12\": 40, \"2\": 69, \"7\": 12, \"15\": 26, \"6\": 5, \"0\": 1, \"13\": 4, \"14\": 1}, \"15\": {\"8\": 37, \"12\": 59, \"15\": 62, \"13\": 3, \"14\": 3, \"3\": 24, \"4\": 3, \"2\": 11, \"7\": 19, \"6\": 13, \"1\": 1, \"0\": 3, \"11\": 2}, \"4\": {\"10\": 28, \"13\": 29, \"15\": 2, \"14\": 34, \"1\": 9, \"0\": 24, \"4\": 31, \"11\": 16, \"6\": 20, \"2\": 2, \"7\": 24, \"5\": 7, \"12\": 3, \"8\": 11}, \"7\": {\"0\": 30, \"15\": 14, \"6\": 46, \"7\": 42, \"12\": 7, \"5\": 2, \"8\": 10, \"4\": 27, \"2\": 13, \"13\": 22, \"3\": 5, \"10\": 8, \"14\": 8, \"1\": 3, \"11\": 3}, \"2\": {\"15\": 19, \"3\": 64, \"12\": 27, \"2\": 74, \"0\": 14, \"14\": 2, \"4\": 2, \"6\": 9, \"7\": 22, \"13\": 4, \"8\": 3}, \"1\": {\"11\": 66, \"1\": 63, \"6\": 4, \"13\": 15, \"4\": 8, \"5\": 26, \"14\": 22, \"10\": 18, \"8\": 14, \"2\": 1, \"15\": 2, \"7\": 1}, \"0\": {\"7\": 23, \"0\": 58, \"13\": 29, \"6\": 25, \"11\": 1, \"4\": 29, \"3\": 5, \"10\": 25, \"14\": 25, \"5\": 5, \"9\": 2, \"1\": 3, \"2\": 4, \"15\": 4, \"8\": 2}, \"12\": {\"15\": 53, \"12\": 68, \"2\": 13, \"3\": 38, \"4\": 4, \"8\": 33, \"6\": 7, \"0\": 4, \"11\": 2, \"7\": 13, \"1\": 1, \"14\": 3, \"13\": 1}, \"6\": {\"0\": 28, \"15\": 17, \"10\": 19, \"3\": 5, \"11\": 1, \"7\": 26, \"2\": 6, \"4\": 31, \"14\": 12, \"8\": 19, \"6\": 29, \"1\": 7, \"13\": 27, \"12\": 10, \"5\": 3}, \"11\": {\"12\": 1, \"5\": 28, \"11\": 92, \"1\": 59, \"6\": 5, \"10\": 13, \"8\": 17, \"4\": 7, \"13\": 4, \"14\": 10, \"15\": 1, \"0\": 2, \"7\": 1}, \"9\": {\"9\": 229, \"5\": 8, \"14\": 1, \"10\": 2}, \"5\": {\"5\": 85, \"10\": 27, \"4\": 12, \"14\": 27, \"8\": 2, \"1\": 40, \"9\": 6, \"13\": 12, \"11\": 23, \"0\": 2, \"6\": 3, \"7\": 1}, \"10\": {\"5\": 25, \"4\": 23, \"6\": 21, \"10\": 58, \"13\": 22, \"1\": 21, \"7\": 10, \"11\": 14, \"14\": 25, \"0\": 13, \"3\": 1, \"2\": 1, \"8\": 3, \"15\": 3}, \"14\": {\"1\": 20, \"14\": 31, \"4\": 28, \"15\": 4, \"13\": 33, \"10\": 26, \"0\": 20, \"11\": 23, \"5\": 18, \"6\": 16, \"7\": 11, \"8\": 9, \"9\": 1}, \"8\": {\"11\": 22, \"8\": 69, \"15\": 33, \"6\": 16, \"4\": 14, \"12\": 26, \"14\": 7, \"7\": 17, \"1\": 11, \"10\": 5, \"13\": 9, \"3\": 3, \"0\": 3, \"5\": 3, \"2\": 2}}, \"O_20\": {\"6\": {\"6\": 63, \"1\": 1, \"14\": 50, \"7\": 20, \"13\": 10, \"11\": 18, \"3\": 3, \"5\": 2, \"9\": 7, \"8\": 26, \"10\": 18, \"4\": 14, \"0\": 5, \"2\": 3}, \"11\": {\"3\": 2, \"11\": 164, \"6\": 20, \"2\": 10, \"5\": 2, \"13\": 19, \"7\": 14, \"9\": 8, \"12\": 1}, \"5\": {\"3\": 18, \"15\": 32, \"12\": 22, \"1\": 19, \"5\": 32, \"9\": 11, \"7\": 15, \"2\": 11, \"8\": 4, \"4\": 19, \"0\": 35, \"6\": 4, \"10\": 8, \"13\": 7, \"14\": 3}, \"14\": {\"14\": 62, \"10\": 38, \"6\": 44, \"3\": 9, \"7\": 16, \"11\": 2, \"4\": 22, \"8\": 30, \"0\": 4, \"9\": 7, \"5\": 2, \"2\": 2, \"13\": 1, \"12\": 1}, \"2\": {\"3\": 20, \"1\": 14, \"2\": 19, \"9\": 23, \"4\": 9, \"12\": 18, \"6\": 9, \"10\": 11, \"5\": 17, \"15\": 13, \"0\": 18, \"7\": 23, \"11\": 6, \"13\": 30, \"14\": 5, \"8\": 5}, \"7\": {\"9\": 19, \"2\": 24, \"12\": 18, \"8\": 17, \"7\": 27, \"15\": 13, \"0\": 10, \"11\": 6, \"6\": 27, \"4\": 10, \"13\": 24, \"3\": 6, \"1\": 7, \"14\": 8, \"10\": 18, \"5\": 6}, \"3\": {\"13\": 19, \"9\": 21, \"12\": 17, \"10\": 19, \"1\": 18, \"5\": 19, \"15\": 22, \"6\": 7, \"7\": 11, \"2\": 17, \"8\": 13, \"0\": 8, \"4\": 21, \"14\": 6, \"3\": 21, \"11\": 1}, \"4\": {\"1\": 10, \"8\": 33, \"12\": 15, \"10\": 29, \"4\": 35, \"15\": 8, \"6\": 11, \"2\": 9, \"3\": 10, \"14\": 16, \"5\": 14, \"0\": 16, \"7\": 16, \"9\": 14, \"13\": 4}, \"9\": {\"15\": 16, \"3\": 21, \"2\": 22, \"0\": 18, \"12\": 15, \"5\": 11, \"9\": 29, \"7\": 19, \"1\": 12, \"13\": 30, \"6\": 7, \"4\": 13, \"10\": 14, \"11\": 3, \"8\": 7, \"14\": 3}, \"12\": {\"0\": 21, \"12\": 32, \"8\": 10, \"10\": 9, \"15\": 25, \"5\": 28, \"7\": 13, \"2\": 11, \"13\": 21, \"4\": 15, \"9\": 18, \"3\": 16, \"1\": 15, \"6\": 2, \"14\": 4}, \"0\": {\"5\": 34, \"0\": 41, \"15\": 35, \"12\": 23, \"2\": 11, \"4\": 20, \"8\": 14, \"1\": 17, \"9\": 6, \"13\": 7, \"3\": 16, \"7\": 9, \"6\": 2, \"10\": 2, \"14\": 2, \"11\": 1}, \"10\": {\"14\": 39, \"4\": 32, \"8\": 27, \"7\": 19, \"6\": 26, \"10\": 45, \"0\": 4, \"2\": 8, \"1\": 5, \"3\": 10, \"9\": 14, \"5\": 4, \"12\": 4, \"15\": 3}, \"8\": {\"8\": 38, \"14\": 27, \"5\": 5, \"7\": 22, \"4\": 37, \"12\": 9, \"3\": 10, \"10\": 26, \"0\": 19, \"9\": 6, \"6\": 20, \"15\": 6, \"13\": 5, \"1\": 4, \"2\": 5, \"11\": 1}, \"13\": {\"3\": 15, \"0\": 17, \"2\": 16, \"13\": 65, \"12\": 14, \"9\": 19, \"7\": 25, \"1\": 16, \"10\": 1, \"15\": 21, \"5\": 9, \"4\": 3, \"8\": 4, \"11\": 12, \"6\": 2, \"14\": 1}, \"1\": {\"3\": 19, \"15\": 31, \"9\": 14, \"12\": 23, \"4\": 8, \"7\": 14, \"2\": 15, \"13\": 24, \"1\": 38, \"5\": 27, \"8\": 4, \"0\": 16, \"6\": 1, \"10\": 4, \"14\": 2}, \"15\": {\"15\": 39, \"3\": 9, \"1\": 24, \"5\": 30, \"12\": 24, \"2\": 13, \"9\": 21, \"7\": 17, \"4\": 7, \"0\": 27, \"13\": 21, \"14\": 1, \"8\": 6, \"10\": 1}}, \"O_38\": {\"3\": {\"5\": 10, \"7\": 16, \"9\": 45, \"3\": 122, \"6\": 27, \"8\": 4, \"0\": 16}, \"8\": {\"5\": 43, \"8\": 51, \"7\": 37, \"13\": 18, \"9\": 3, \"0\": 27, \"1\": 12, \"15\": 23, \"10\": 18, \"3\": 2, \"6\": 5, \"2\": 1}, \"0\": {\"15\": 13, \"5\": 32, \"7\": 47, \"8\": 40, \"10\": 9, \"3\": 20, \"0\": 56, \"1\": 6, \"13\": 3, \"6\": 4, \"12\": 5, \"9\": 4, \"14\": 1}, \"2\": {\"11\": 13, \"15\": 15, \"5\": 1, \"14\": 32, \"13\": 31, \"2\": 135, \"10\": 11, \"1\": 2}, \"4\": {\"4\": 174, \"12\": 62, \"14\": 1, \"10\": 2, \"5\": 1}, \"7\": {\"4\": 6, \"7\": 107, \"8\": 23, \"10\": 7, \"3\": 5, \"0\": 50, \"5\": 27, \"6\": 5, \"15\": 5, \"9\": 3, \"13\": 1, \"1\": 1}, \"12\": {\"4\": 61, \"12\": 165, \"8\": 2, \"14\": 5, \"7\": 2, \"11\": 2, \"10\": 2, \"0\": 1}, \"6\": {\"6\": 111, \"1\": 11, \"8\": 7, \"9\": 70, \"5\": 20, \"15\": 2, \"0\": 5, \"3\": 11, \"7\": 3}, \"15\": {\"10\": 18, \"5\": 17, \"15\": 56, \"1\": 58, \"13\": 43, \"8\": 26, \"0\": 5, \"2\": 8, \"6\": 4, \"14\": 1, \"11\": 1, \"7\": 2, \"9\": 1}, \"11\": {\"14\": 76, \"11\": 121, \"10\": 10, \"12\": 8, \"15\": 3, \"2\": 18, \"0\": 2, \"4\": 1, \"13\": 1}, \"9\": {\"9\": 90, \"6\": 92, \"3\": 29, \"7\": 6, \"8\": 2, \"5\": 12, \"1\": 4, \"0\": 4, \"13\": 1}, \"14\": {\"11\": 72, \"14\": 108, \"2\": 26, \"12\": 17, \"0\": 1, \"10\": 13, \"15\": 1, \"13\": 2}, \"10\": {\"14\": 17, \"10\": 80, \"5\": 10, \"13\": 21, \"2\": 18, \"15\": 20, \"12\": 15, \"8\": 21, \"7\": 9, \"0\": 10, \"11\": 8, \"6\": 1, \"4\": 7, \"1\": 3}, \"5\": {\"5\": 45, \"7\": 32, \"10\": 13, \"8\": 43, \"15\": 21, \"0\": 19, \"9\": 8, \"1\": 20, \"6\": 19, \"3\": 11, \"13\": 9}, \"1\": {\"1\": 142, \"8\": 16, \"15\": 30, \"6\": 18, \"13\": 19, \"5\": 9, \"0\": 1, \"9\": 4, \"2\": 1}, \"13\": {\"10\": 34, \"13\": 70, \"5\": 15, \"1\": 24, \"8\": 9, \"15\": 45, \"2\": 36, \"7\": 2, \"14\": 4, \"9\": 1}}, \"O_26\": {\"5\": {\"13\": 48, \"5\": 34, \"2\": 30, \"7\": 13, \"3\": 16, \"15\": 34, \"0\": 3, \"8\": 13, \"9\": 21, \"1\": 5, \"6\": 8, \"10\": 5, \"4\": 8, \"14\": 2}, \"8\": {\"8\": 29, \"15\": 20, \"4\": 23, \"1\": 19, \"13\": 15, \"14\": 10, \"7\": 17, \"2\": 9, \"10\": 25, \"6\": 15, \"3\": 8, \"0\": 23, \"5\": 8, \"9\": 19}, \"4\": {\"7\": 13, \"8\": 23, \"10\": 30, \"1\": 28, \"0\": 24, \"14\": 33, \"15\": 8, \"4\": 33, \"9\": 10, \"6\": 13, \"2\": 9, \"13\": 4, \"3\": 8, \"5\": 4}, \"12\": {\"12\": 181, \"11\": 28, \"1\": 2, \"9\": 4, \"0\": 4, \"6\": 12, \"14\": 1, \"15\": 1, \"10\": 3, \"8\": 1, \"4\": 1, \"13\": 2}, \"6\": {\"13\": 12, \"6\": 40, \"14\": 16, \"9\": 29, \"8\": 25, \"15\": 23, \"1\": 11, \"10\": 24, \"7\": 5, \"3\": 5, \"5\": 11, \"0\": 13, \"4\": 13, \"12\": 6, \"2\": 6, \"11\": 1}, \"7\": {\"4\": 25, \"8\": 15, \"7\": 35, \"3\": 29, \"0\": 10, \"9\": 13, \"2\": 30, \"15\": 20, \"10\": 13, \"6\": 8, \"13\": 9, \"5\": 16, \"1\": 6, \"14\": 11}, \"10\": {\"10\": 29, \"6\": 30, \"1\": 33, \"14\": 27, \"15\": 11, \"4\": 21, \"8\": 22, \"9\": 16, \"7\": 10, \"5\": 7, \"0\": 21, \"3\": 5, \"2\": 4, \"13\": 4}, \"0\": {\"6\": 17, \"10\": 26, \"14\": 40, \"13\": 5, \"0\": 18, \"4\": 24, \"5\": 7, \"8\": 18, \"1\": 29, \"3\": 7, \"7\": 19, \"2\": 4, \"9\": 16, \"15\": 10}, \"15\": {\"14\": 10, \"13\": 30, \"9\": 25, \"15\": 40, \"5\": 31, \"8\": 13, \"0\": 6, \"6\": 15, \"3\": 17, \"4\": 8, \"2\": 19, \"10\": 12, \"7\": 10, \"1\": 4}, \"9\": {\"9\": 40, \"8\": 19, \"7\": 10, \"6\": 22, \"5\": 26, \"13\": 17, \"0\": 17, \"4\": 9, \"15\": 20, \"14\": 12, \"3\": 10, \"1\": 8, \"2\": 14, \"10\": 16}, \"11\": {\"11\": 194, \"12\": 41, \"6\": 1, \"13\": 1, \"9\": 2, \"1\": 1}, \"14\": {\"0\": 27, \"8\": 19, \"14\": 37, \"4\": 35, \"6\": 23, \"10\": 27, \"1\": 31, \"9\": 9, \"5\": 8, \"7\": 6, \"3\": 5, \"15\": 9, \"2\": 3, \"13\": 1}, \"2\": {\"2\": 36, \"6\": 6, \"5\": 15, \"8\": 15, \"15\": 29, \"13\": 17, \"7\": 26, \"4\": 11, \"0\": 4, \"3\": 47, \"9\": 15, \"1\": 7, \"10\": 8, \"14\": 4}, \"13\": {\"15\": 28, \"5\": 56, \"2\": 16, \"9\": 25, \"13\": 54, \"10\": 7, \"3\": 12, \"11\": 5, \"7\": 4, \"6\": 10, \"8\": 11, \"12\": 2, \"14\": 3, \"4\": 4, \"1\": 2, \"0\": 1}, \"3\": {\"15\": 16, \"2\": 46, \"7\": 24, \"3\": 55, \"0\": 3, \"5\": 15, \"8\": 7, \"13\": 10, \"10\": 7, \"4\": 16, \"9\": 15, \"1\": 14, \"6\": 5, \"14\": 7}, \"1\": {\"10\": 18, \"1\": 54, \"14\": 30, \"4\": 45, \"15\": 6, \"8\": 14, \"6\": 7, \"7\": 19, \"0\": 24, \"9\": 10, \"3\": 5, \"2\": 5, \"13\": 2, \"5\": 1}}}, \"per_domain_accuracy\": {\"C_4\": {\"accuracy\": 0.9901515151515151, \"source?\": true}, \"C_2\": {\"accuracy\": 0.9912219101123596, \"source?\": true}, \"C_3\": {\"accuracy\": 0.9929315476190477, \"source?\": true}, \"C_1\": {\"accuracy\": 0.9893581081081081, \"source?\": true}, \"C_5\": {\"accuracy\": 0.99231843575419, \"source?\": true}, \"O_50\": {\"accuracy\": 0.39453125, \"source?\": false}, \"O_14\": {\"accuracy\": 0.353125, \"source?\": false}, \"O_32\": {\"accuracy\": 0.48671875, \"source?\": false}, \"O_44\": {\"accuracy\": 0.3828125, \"source?\": false}, \"O_8\": {\"accuracy\": 0.290625, \"source?\": false}, \"O_20\": {\"accuracy\": 0.1953125, \"source?\": false}, \"O_38\": {\"accuracy\": 0.42526041666666664, \"source?\": false}, \"O_26\": {\"accuracy\": 0.23671875, \"source?\": false}}}, \"history\": {\"epoch_indices\": [1, 2, 3, 4, 5], \"train_label_loss\": [0.033842662494344304, 0.036649659748465874, 0.007770678533924581, 0.006581132687768879, 0.004833401261728149], \"source_val_label_loss\": [0.5582188367843628, 0.011633003130555153, 0.011831648647785187, 0.005289642605930567, 0.004728234373033047], \"target_val_label_loss\": [1.8613300323486328, 2.16898250579834, 2.943882942199707, 2.4170262813568115, 2.4007351398468018], \"source_val_acc_label\": [0.9911785714285715, 0.9976071428571428, 0.998, 0.99925, 0.9994285714285714], \"target_val_acc_label\": [0.34563802083333334, 0.3082356770833333, 0.2648111979166667, 0.32493489583333335, 0.31565755208333335]}, \"dataset_metrics\": {\"source\": {\"train\": {\"n_unique_x\": 175169, \"n_unique_y\": 58, \"n_batch/episode\": 6311}, \"val\": {\"n_unique_x\": 37166, \"n_unique_y\": 58, \"n_batch/episode\": 875}, \"test\": {\"n_unique_x\": 37642, \"n_unique_y\": 58, \"n_batch/episode\": 890}}, \"target\": {\"train\": {\"n_unique_x\": 179200, \"n_unique_y\": 16, \"n_batch/episode\": 6720}, \"val\": {\"n_unique_x\": 38400, \"n_unique_y\": 16, \"n_batch/episode\": 960}, \"test\": {\"n_unique_x\": 38400, \"n_unique_y\": 16, \"n_batch/episode\": 960}}}}'"
      ]
     },
     "execution_count": 29,
     "metadata": {},
     "output_type": "execute_result"
    }
   ],
   "source": [
    "json.dumps(experiment)"
   ]
  }
 ],
 "metadata": {
  "celltoolbar": "Tags",
  "kernelspec": {
   "display_name": "Python 3 (ipykernel)",
   "language": "python",
   "name": "python3"
  },
  "language_info": {
   "codemirror_mode": {
    "name": "ipython",
    "version": 3
   },
   "file_extension": ".py",
   "mimetype": "text/x-python",
   "name": "python",
   "nbconvert_exporter": "python",
   "pygments_lexer": "ipython3",
   "version": "3.8.12"
  },
  "papermill": {
   "default_parameters": {},
   "duration": 1866.797861,
   "end_time": "2022-03-28T01:12:48.328802",
   "environment_variables": {},
   "exception": null,
   "input_path": "/root/csc500-main/csc500-notebooks/templates/tl_ptn_template.ipynb",
   "output_path": "trial.ipynb",
   "parameters": {
    "parameters": {
     "BEST_MODEL_PATH": "./best_model.pth",
     "NUM_LOGS_PER_EPOCH": 10,
     "criteria_for_best": "target_accuracy",
     "dataset_seed": 500,
     "datasets": [
      {
       "domain_prefix": "C_",
       "domains": [
        1,
        2,
        3,
        4,
        5
       ],
       "episode_transforms": [],
       "labels": [
        "1-10.",
        "1-11.",
        "1-15.",
        "1-16.",
        "1-17.",
        "1-18.",
        "1-19.",
        "10-4.",
        "10-7.",
        "11-1.",
        "11-14.",
        "11-17.",
        "11-20.",
        "11-7.",
        "13-20.",
        "13-8.",
        "14-10.",
        "14-11.",
        "14-14.",
        "14-7.",
        "15-1.",
        "15-20.",
        "16-1.",
        "16-16.",
        "17-10.",
        "17-11.",
        "17-2.",
        "19-1.",
        "19-16.",
        "19-19.",
        "19-20.",
        "19-3.",
        "2-10.",
        "2-11.",
        "2-17.",
        "2-18.",
        "2-20.",
        "2-3.",
        "2-4.",
        "2-5.",
        "2-6.",
        "2-7.",
        "2-8.",
        "3-13.",
        "3-18.",
        "3-3.",
        "4-1.",
        "4-10.",
        "4-11.",
        "4-19.",
        "5-5.",
        "6-15.",
        "7-10.",
        "7-14.",
        "8-18.",
        "8-20.",
        "8-3.",
        "8-8."
       ],
       "num_examples_per_domain_per_label": -1,
       "pickle_path": "/root/csc500-main/datasets/cores.stratified_ds.2022A.pkl",
       "source_or_target_dataset": "source",
       "x_transforms": [
        "unit_mag",
        "jitter_256_1",
        "lowpass_+/-10MHz",
        "take_200"
       ]
      },
      {
       "domain_prefix": "O_",
       "domains": [
        32,
        38,
        8,
        44,
        14,
        50,
        20,
        26
       ],
       "episode_transforms": [],
       "labels": [
        "3123D52",
        "3123D65",
        "3123D79",
        "3123D80",
        "3123D54",
        "3123D70",
        "3123D7B",
        "3123D89",
        "3123D58",
        "3123D76",
        "3123D7D",
        "3123EFE",
        "3123D64",
        "3123D78",
        "3123D7E",
        "3124E4A"
       ],
       "num_examples_per_domain_per_label": 2000,
       "pickle_path": "/root/csc500-main/datasets/oracle.Run1_framed_2000Examples_stratified_ds.2022A.pkl",
       "source_or_target_dataset": "target",
       "x_transforms": [
        "unit_mag",
        "jitter_256_1",
        "take_200",
        "resample_20Msps_to_25Msps"
       ]
      }
     ],
     "device": "cuda",
     "experiment_name": "tl_3-jitter1v2:cores -> oracle.run1.framed",
     "lr": 0.0001,
     "n_epoch": 50,
     "n_query": 2,
     "n_shot": 3,
     "n_way": 16,
     "patience": 3,
     "seed": 500,
     "test_k_factor": 2,
     "torch_default_dtype": "torch.float32",
     "train_k_factor": 3,
     "val_k_factor": 2,
     "x_net": [
      {
       "class": "nnReshape",
       "kargs": {
        "shape": [
         -1,
         1,
         2,
         256
        ]
       }
      },
      {
       "class": "Conv2d",
       "kargs": {
        "bias": false,
        "in_channels": 1,
        "kernel_size": [
         1,
         7
        ],
        "out_channels": 256,
        "padding": [
         0,
         3
        ]
       }
      },
      {
       "class": "ReLU",
       "kargs": {
        "inplace": true
       }
      },
      {
       "class": "BatchNorm2d",
       "kargs": {
        "num_features": 256
       }
      },
      {
       "class": "Conv2d",
       "kargs": {
        "bias": true,
        "in_channels": 256,
        "kernel_size": [
         2,
         7
        ],
        "out_channels": 80,
        "padding": [
         0,
         3
        ]
       }
      },
      {
       "class": "ReLU",
       "kargs": {
        "inplace": true
       }
      },
      {
       "class": "BatchNorm2d",
       "kargs": {
        "num_features": 80
       }
      },
      {
       "class": "Flatten",
       "kargs": {}
      },
      {
       "class": "Linear",
       "kargs": {
        "in_features": 20480,
        "out_features": 256
       }
      },
      {
       "class": "ReLU",
       "kargs": {
        "inplace": true
       }
      },
      {
       "class": "BatchNorm1d",
       "kargs": {
        "num_features": 256
       }
      },
      {
       "class": "Linear",
       "kargs": {
        "in_features": 256,
        "out_features": 256
       }
      }
     ],
     "x_shape": [
      2,
      256
     ]
    }
   },
   "start_time": "2022-03-28T00:41:41.530941",
   "version": "2.3.4"
  }
 },
 "nbformat": 4,
 "nbformat_minor": 5
}