{
 "cells": [
  {
   "cell_type": "markdown",
   "id": "9fea5f46",
   "metadata": {
    "papermill": {
     "duration": 0.019621,
     "end_time": "2022-03-26T20:30:14.846912",
     "exception": false,
     "start_time": "2022-03-26T20:30:14.827291",
     "status": "completed"
    },
    "tags": []
   },
   "source": [
    "# Transfer Learning Template"
   ]
  },
  {
   "cell_type": "code",
   "execution_count": 1,
   "id": "0902182a",
   "metadata": {
    "execution": {
     "iopub.execute_input": "2022-03-26T20:30:14.893992Z",
     "iopub.status.busy": "2022-03-26T20:30:14.893546Z",
     "iopub.status.idle": "2022-03-26T20:30:15.971981Z",
     "shell.execute_reply": "2022-03-26T20:30:15.972466Z"
    },
    "papermill": {
     "duration": 1.108265,
     "end_time": "2022-03-26T20:30:15.972686",
     "exception": false,
     "start_time": "2022-03-26T20:30:14.864421",
     "status": "completed"
    },
    "tags": []
   },
   "outputs": [],
   "source": [
    "%load_ext autoreload\n",
    "%autoreload 2\n",
    "%matplotlib inline\n",
    "\n",
    "    \n",
    "import os, json, sys, time, random\n",
    "import numpy as np\n",
    "import torch\n",
    "from torch.optim import Adam\n",
    "from  easydict import EasyDict\n",
    "import matplotlib.pyplot as plt\n",
    "\n",
    "from steves_models.steves_ptn import Steves_Prototypical_Network\n",
    "\n",
    "from steves_utils.lazy_iterable_wrapper import Lazy_Iterable_Wrapper\n",
    "from steves_utils.iterable_aggregator import Iterable_Aggregator\n",
    "from steves_utils.ptn_train_eval_test_jig import  PTN_Train_Eval_Test_Jig\n",
    "from steves_utils.torch_sequential_builder import build_sequential\n",
    "from steves_utils.torch_utils import get_dataset_metrics, ptn_confusion_by_domain_over_dataloader\n",
    "from steves_utils.utils_v2 import (per_domain_accuracy_from_confusion, get_datasets_base_path)\n",
    "from steves_utils.PTN.utils import independent_accuracy_assesment\n",
    "\n",
    "from torch.utils.data import DataLoader\n",
    "\n",
    "from steves_utils.stratified_dataset.episodic_accessor import Episodic_Accessor_Factory\n",
    "\n",
    "from steves_utils.ptn_do_report import (\n",
    "    get_loss_curve,\n",
    "    get_results_table,\n",
    "    get_parameters_table,\n",
    "    get_domain_accuracies,\n",
    ")\n",
    "\n",
    "from steves_utils.transforms import get_chained_transform"
   ]
  },
  {
   "cell_type": "markdown",
   "id": "41c840b4",
   "metadata": {
    "papermill": {
     "duration": 0.015269,
     "end_time": "2022-03-26T20:30:16.008724",
     "exception": false,
     "start_time": "2022-03-26T20:30:15.993455",
     "status": "completed"
    },
    "tags": []
   },
   "source": [
    "# Allowed Parameters\n",
    "These are allowed parameters, not defaults\n",
    "Each of these values need to be present in the injected parameters (the notebook will raise an exception if they are not present)\n",
    "\n",
    "Papermill uses the cell tag \"parameters\" to inject the real parameters below this cell.\n",
    "Enable tags to see what I mean"
   ]
  },
  {
   "cell_type": "code",
   "execution_count": 2,
   "id": "fd44eb83",
   "metadata": {
    "execution": {
     "iopub.execute_input": "2022-03-26T20:30:16.038927Z",
     "iopub.status.busy": "2022-03-26T20:30:16.038638Z",
     "iopub.status.idle": "2022-03-26T20:30:16.052483Z",
     "shell.execute_reply": "2022-03-26T20:30:16.052813Z"
    },
    "papermill": {
     "duration": 0.030812,
     "end_time": "2022-03-26T20:30:16.052928",
     "exception": false,
     "start_time": "2022-03-26T20:30:16.022116",
     "status": "completed"
    },
    "tags": []
   },
   "outputs": [],
   "source": [
    "required_parameters = {\n",
    "    \"experiment_name\",\n",
    "    \"lr\",\n",
    "    \"device\",\n",
    "    \"seed\",\n",
    "    \"dataset_seed\",\n",
    "    \"n_shot\",\n",
    "    \"n_query\",\n",
    "    \"n_way\",\n",
    "    \"train_k_factor\",\n",
    "    \"val_k_factor\",\n",
    "    \"test_k_factor\",\n",
    "    \"n_epoch\",\n",
    "    \"patience\",\n",
    "    \"criteria_for_best\",\n",
    "    \"x_net\",\n",
    "    \"datasets\",\n",
    "    \"torch_default_dtype\",\n",
    "    \"NUM_LOGS_PER_EPOCH\",\n",
    "    \"BEST_MODEL_PATH\",\n",
    "    \"x_shape\",\n",
    "}"
   ]
  },
  {
   "cell_type": "code",
   "execution_count": 3,
   "id": "fa3f0049",
   "metadata": {
    "execution": {
     "iopub.execute_input": "2022-03-26T20:30:16.091103Z",
     "iopub.status.busy": "2022-03-26T20:30:16.090777Z",
     "iopub.status.idle": "2022-03-26T20:30:16.105691Z",
     "shell.execute_reply": "2022-03-26T20:30:16.106094Z"
    },
    "papermill": {
     "duration": 0.037708,
     "end_time": "2022-03-26T20:30:16.106211",
     "exception": false,
     "start_time": "2022-03-26T20:30:16.068503",
     "status": "completed"
    },
    "tags": [
     "parameters"
    ]
   },
   "outputs": [],
   "source": [
    "from steves_utils.CORES.utils import (\n",
    "    ALL_NODES,\n",
    "    ALL_NODES_MINIMUM_1000_EXAMPLES,\n",
    "    ALL_DAYS\n",
    ")\n",
    "\n",
    "from steves_utils.ORACLE.utils_v2 import (\n",
    "    ALL_DISTANCES_FEET_NARROWED,\n",
    "    ALL_RUNS,\n",
    "    ALL_SERIAL_NUMBERS,\n",
    ")\n",
    "\n",
    "standalone_parameters = {}\n",
    "standalone_parameters[\"experiment_name\"] = \"STANDALONE PTN\"\n",
    "standalone_parameters[\"lr\"] = 0.001\n",
    "standalone_parameters[\"device\"] = \"cuda\"\n",
    "\n",
    "standalone_parameters[\"seed\"] = 1337\n",
    "standalone_parameters[\"dataset_seed\"] = 1337\n",
    "\n",
    "standalone_parameters[\"n_way\"] = 8\n",
    "standalone_parameters[\"n_shot\"] = 3\n",
    "standalone_parameters[\"n_query\"]  = 2\n",
    "standalone_parameters[\"train_k_factor\"] = 1\n",
    "standalone_parameters[\"val_k_factor\"] = 2\n",
    "standalone_parameters[\"test_k_factor\"] = 2\n",
    "\n",
    "\n",
    "standalone_parameters[\"n_epoch\"] = 50\n",
    "\n",
    "standalone_parameters[\"patience\"] = 10\n",
    "standalone_parameters[\"criteria_for_best\"] = \"source_loss\"\n",
    "\n",
    "standalone_parameters[\"datasets\"] = [\n",
    "    {\n",
    "        \"labels\": ALL_SERIAL_NUMBERS,\n",
    "        \"domains\": ALL_DISTANCES_FEET_NARROWED,\n",
    "        \"num_examples_per_domain_per_label\": 100,\n",
    "        \"pickle_path\": os.path.join(get_datasets_base_path(), \"oracle.Run1_framed_2000Examples_stratified_ds.2022A.pkl\"),\n",
    "        \"source_or_target_dataset\": \"source\",\n",
    "        \"x_transforms\": [\"unit_mag\", \"minus_two\"],\n",
    "        \"episode_transforms\": [],\n",
    "        \"domain_prefix\": \"ORACLE_\"\n",
    "    },\n",
    "    {\n",
    "        \"labels\": ALL_NODES,\n",
    "        \"domains\": ALL_DAYS,\n",
    "        \"num_examples_per_domain_per_label\": 100,\n",
    "        \"pickle_path\": os.path.join(get_datasets_base_path(), \"cores.stratified_ds.2022A.pkl\"),\n",
    "        \"source_or_target_dataset\": \"target\",\n",
    "        \"x_transforms\": [\"unit_power\", \"times_zero\"],\n",
    "        \"episode_transforms\": [],\n",
    "        \"domain_prefix\": \"CORES_\"\n",
    "    }   \n",
    "]\n",
    "\n",
    "standalone_parameters[\"torch_default_dtype\"] = \"torch.float32\" \n",
    "\n",
    "\n",
    "\n",
    "standalone_parameters[\"x_net\"] =     [\n",
    "    {\"class\": \"nnReshape\", \"kargs\": {\"shape\":[-1, 1, 2, 256]}},\n",
    "    {\"class\": \"Conv2d\", \"kargs\": { \"in_channels\":1, \"out_channels\":256, \"kernel_size\":(1,7), \"bias\":False, \"padding\":(0,3), },},\n",
    "    {\"class\": \"ReLU\", \"kargs\": {\"inplace\": True}},\n",
    "    {\"class\": \"BatchNorm2d\", \"kargs\": {\"num_features\":256}},\n",
    "\n",
    "    {\"class\": \"Conv2d\", \"kargs\": { \"in_channels\":256, \"out_channels\":80, \"kernel_size\":(2,7), \"bias\":True, \"padding\":(0,3), },},\n",
    "    {\"class\": \"ReLU\", \"kargs\": {\"inplace\": True}},\n",
    "    {\"class\": \"BatchNorm2d\", \"kargs\": {\"num_features\":80}},\n",
    "    {\"class\": \"Flatten\", \"kargs\": {}},\n",
    "\n",
    "    {\"class\": \"Linear\", \"kargs\": {\"in_features\": 80*256, \"out_features\": 256}}, # 80 units per IQ pair\n",
    "    {\"class\": \"ReLU\", \"kargs\": {\"inplace\": True}},\n",
    "    {\"class\": \"BatchNorm1d\", \"kargs\": {\"num_features\":256}},\n",
    "\n",
    "    {\"class\": \"Linear\", \"kargs\": {\"in_features\": 256, \"out_features\": 256}},\n",
    "]\n",
    "\n",
    "# Parameters relevant to results\n",
    "# These parameters will basically never need to change\n",
    "standalone_parameters[\"NUM_LOGS_PER_EPOCH\"] = 10\n",
    "standalone_parameters[\"BEST_MODEL_PATH\"] = \"./best_model.pth\"\n",
    "\n",
    "\n",
    "\n",
    "\n"
   ]
  },
  {
   "cell_type": "code",
   "execution_count": 4,
   "id": "4ec98c63",
   "metadata": {
    "execution": {
     "iopub.execute_input": "2022-03-26T20:30:16.144444Z",
     "iopub.status.busy": "2022-03-26T20:30:16.143962Z",
     "iopub.status.idle": "2022-03-26T20:30:16.157001Z",
     "shell.execute_reply": "2022-03-26T20:30:16.157230Z"
    },
    "papermill": {
     "duration": 0.034629,
     "end_time": "2022-03-26T20:30:16.157316",
     "exception": false,
     "start_time": "2022-03-26T20:30:16.122687",
     "status": "completed"
    },
    "tags": [
     "injected-parameters"
    ]
   },
   "outputs": [],
   "source": [
    "# Parameters\n",
    "parameters = {\n",
    "    \"experiment_name\": \"tl_3-jitter1v2:cores -> oracle.run1.framed\",\n",
    "    \"device\": \"cuda\",\n",
    "    \"lr\": 0.0001,\n",
    "    \"x_shape\": [2, 256],\n",
    "    \"n_shot\": 3,\n",
    "    \"n_query\": 2,\n",
    "    \"train_k_factor\": 3,\n",
    "    \"val_k_factor\": 2,\n",
    "    \"test_k_factor\": 2,\n",
    "    \"torch_default_dtype\": \"torch.float32\",\n",
    "    \"n_epoch\": 50,\n",
    "    \"patience\": 3,\n",
    "    \"criteria_for_best\": \"target_accuracy\",\n",
    "    \"x_net\": [\n",
    "        {\"class\": \"nnReshape\", \"kargs\": {\"shape\": [-1, 1, 2, 256]}},\n",
    "        {\n",
    "            \"class\": \"Conv2d\",\n",
    "            \"kargs\": {\n",
    "                \"in_channels\": 1,\n",
    "                \"out_channels\": 256,\n",
    "                \"kernel_size\": [1, 7],\n",
    "                \"bias\": False,\n",
    "                \"padding\": [0, 3],\n",
    "            },\n",
    "        },\n",
    "        {\"class\": \"ReLU\", \"kargs\": {\"inplace\": True}},\n",
    "        {\"class\": \"BatchNorm2d\", \"kargs\": {\"num_features\": 256}},\n",
    "        {\n",
    "            \"class\": \"Conv2d\",\n",
    "            \"kargs\": {\n",
    "                \"in_channels\": 256,\n",
    "                \"out_channels\": 80,\n",
    "                \"kernel_size\": [2, 7],\n",
    "                \"bias\": True,\n",
    "                \"padding\": [0, 3],\n",
    "            },\n",
    "        },\n",
    "        {\"class\": \"ReLU\", \"kargs\": {\"inplace\": True}},\n",
    "        {\"class\": \"BatchNorm2d\", \"kargs\": {\"num_features\": 80}},\n",
    "        {\"class\": \"Flatten\", \"kargs\": {}},\n",
    "        {\"class\": \"Linear\", \"kargs\": {\"in_features\": 20480, \"out_features\": 256}},\n",
    "        {\"class\": \"ReLU\", \"kargs\": {\"inplace\": True}},\n",
    "        {\"class\": \"BatchNorm1d\", \"kargs\": {\"num_features\": 256}},\n",
    "        {\"class\": \"Linear\", \"kargs\": {\"in_features\": 256, \"out_features\": 256}},\n",
    "    ],\n",
    "    \"NUM_LOGS_PER_EPOCH\": 10,\n",
    "    \"BEST_MODEL_PATH\": \"./best_model.pth\",\n",
    "    \"n_way\": 16,\n",
    "    \"datasets\": [\n",
    "        {\n",
    "            \"labels\": [\n",
    "                \"1-10.\",\n",
    "                \"1-11.\",\n",
    "                \"1-15.\",\n",
    "                \"1-16.\",\n",
    "                \"1-17.\",\n",
    "                \"1-18.\",\n",
    "                \"1-19.\",\n",
    "                \"10-4.\",\n",
    "                \"10-7.\",\n",
    "                \"11-1.\",\n",
    "                \"11-14.\",\n",
    "                \"11-17.\",\n",
    "                \"11-20.\",\n",
    "                \"11-7.\",\n",
    "                \"13-20.\",\n",
    "                \"13-8.\",\n",
    "                \"14-10.\",\n",
    "                \"14-11.\",\n",
    "                \"14-14.\",\n",
    "                \"14-7.\",\n",
    "                \"15-1.\",\n",
    "                \"15-20.\",\n",
    "                \"16-1.\",\n",
    "                \"16-16.\",\n",
    "                \"17-10.\",\n",
    "                \"17-11.\",\n",
    "                \"17-2.\",\n",
    "                \"19-1.\",\n",
    "                \"19-16.\",\n",
    "                \"19-19.\",\n",
    "                \"19-20.\",\n",
    "                \"19-3.\",\n",
    "                \"2-10.\",\n",
    "                \"2-11.\",\n",
    "                \"2-17.\",\n",
    "                \"2-18.\",\n",
    "                \"2-20.\",\n",
    "                \"2-3.\",\n",
    "                \"2-4.\",\n",
    "                \"2-5.\",\n",
    "                \"2-6.\",\n",
    "                \"2-7.\",\n",
    "                \"2-8.\",\n",
    "                \"3-13.\",\n",
    "                \"3-18.\",\n",
    "                \"3-3.\",\n",
    "                \"4-1.\",\n",
    "                \"4-10.\",\n",
    "                \"4-11.\",\n",
    "                \"4-19.\",\n",
    "                \"5-5.\",\n",
    "                \"6-15.\",\n",
    "                \"7-10.\",\n",
    "                \"7-14.\",\n",
    "                \"8-18.\",\n",
    "                \"8-20.\",\n",
    "                \"8-3.\",\n",
    "                \"8-8.\",\n",
    "            ],\n",
    "            \"domains\": [1, 2, 3, 4, 5],\n",
    "            \"num_examples_per_domain_per_label\": -1,\n",
    "            \"pickle_path\": \"/mnt/wd500GB/CSC500/csc500-main/datasets/cores.stratified_ds.2022A.pkl\",\n",
    "            \"source_or_target_dataset\": \"source\",\n",
    "            \"x_transforms\": [\"jitter_256_1\", \"lowpass_+/-10MHz\", \"take_200\"],\n",
    "            \"episode_transforms\": [],\n",
    "            \"domain_prefix\": \"C_\",\n",
    "        },\n",
    "        {\n",
    "            \"labels\": [\n",
    "                \"3123D52\",\n",
    "                \"3123D65\",\n",
    "                \"3123D79\",\n",
    "                \"3123D80\",\n",
    "                \"3123D54\",\n",
    "                \"3123D70\",\n",
    "                \"3123D7B\",\n",
    "                \"3123D89\",\n",
    "                \"3123D58\",\n",
    "                \"3123D76\",\n",
    "                \"3123D7D\",\n",
    "                \"3123EFE\",\n",
    "                \"3123D64\",\n",
    "                \"3123D78\",\n",
    "                \"3123D7E\",\n",
    "                \"3124E4A\",\n",
    "            ],\n",
    "            \"domains\": [32, 38, 8, 44, 14, 50, 20, 26],\n",
    "            \"num_examples_per_domain_per_label\": 2000,\n",
    "            \"pickle_path\": \"/mnt/wd500GB/CSC500/csc500-main/datasets/oracle.Run1_framed_2000Examples_stratified_ds.2022A.pkl\",\n",
    "            \"source_or_target_dataset\": \"target\",\n",
    "            \"x_transforms\": [\"jitter_256_1\", \"take_200\", \"resample_20Msps_to_25Msps\"],\n",
    "            \"episode_transforms\": [],\n",
    "            \"domain_prefix\": \"O_\",\n",
    "        },\n",
    "    ],\n",
    "    \"seed\": 420,\n",
    "    \"dataset_seed\": 420,\n",
    "}\n"
   ]
  },
  {
   "cell_type": "code",
   "execution_count": 5,
   "id": "8fa1cc33",
   "metadata": {
    "execution": {
     "iopub.execute_input": "2022-03-26T20:30:16.188663Z",
     "iopub.status.busy": "2022-03-26T20:30:16.188239Z",
     "iopub.status.idle": "2022-03-26T20:30:16.200460Z",
     "shell.execute_reply": "2022-03-26T20:30:16.200691Z"
    },
    "papermill": {
     "duration": 0.028543,
     "end_time": "2022-03-26T20:30:16.200777",
     "exception": false,
     "start_time": "2022-03-26T20:30:16.172234",
     "status": "completed"
    },
    "tags": []
   },
   "outputs": [],
   "source": [
    "# Set this to True if you want to run this template directly\n",
    "STANDALONE = False\n",
    "if STANDALONE:\n",
    "    print(\"parameters not injected, running with standalone_parameters\")\n",
    "    parameters = standalone_parameters\n",
    "\n",
    "if not 'parameters' in locals() and not 'parameters' in globals():\n",
    "    raise Exception(\"Parameter injection failed\")\n",
    "\n",
    "#Use an easy dict for all the parameters\n",
    "p = EasyDict(parameters)\n",
    "\n",
    "if \"x_shape\" not in p:\n",
    "    p.x_shape = [2,256] # Default to this if we dont supply x_shape\n",
    "\n",
    "\n",
    "supplied_keys = set(p.keys())\n",
    "\n",
    "if  supplied_keys != required_parameters:\n",
    "    print(\"Parameters are incorrect\")\n",
    "    if len(supplied_keys - required_parameters)>0: print(\"Shouldn't have:\", str(supplied_keys - required_parameters))\n",
    "    if len(required_parameters - supplied_keys)>0: print(\"Need to have:\", str(required_parameters - supplied_keys))\n",
    "    raise RuntimeError(\"Parameters are incorrect\")"
   ]
  },
  {
   "cell_type": "code",
   "execution_count": 6,
   "id": "3a028d58",
   "metadata": {
    "execution": {
     "iopub.execute_input": "2022-03-26T20:30:16.232120Z",
     "iopub.status.busy": "2022-03-26T20:30:16.230932Z",
     "iopub.status.idle": "2022-03-26T20:30:16.245938Z",
     "shell.execute_reply": "2022-03-26T20:30:16.246378Z"
    },
    "papermill": {
     "duration": 0.030418,
     "end_time": "2022-03-26T20:30:16.246512",
     "exception": false,
     "start_time": "2022-03-26T20:30:16.216094",
     "status": "completed"
    },
    "tags": []
   },
   "outputs": [],
   "source": [
    "###################################\n",
    "# Set the RNGs and make it all deterministic\n",
    "###################################\n",
    "np.random.seed(p.seed)\n",
    "random.seed(p.seed)\n",
    "torch.manual_seed(p.seed)\n",
    "\n",
    "torch.use_deterministic_algorithms(True) "
   ]
  },
  {
   "cell_type": "code",
   "execution_count": 7,
   "id": "b691acf6",
   "metadata": {
    "execution": {
     "iopub.execute_input": "2022-03-26T20:30:16.280501Z",
     "iopub.status.busy": "2022-03-26T20:30:16.280233Z",
     "iopub.status.idle": "2022-03-26T20:30:16.295719Z",
     "shell.execute_reply": "2022-03-26T20:30:16.295373Z"
    },
    "papermill": {
     "duration": 0.031404,
     "end_time": "2022-03-26T20:30:16.295805",
     "exception": false,
     "start_time": "2022-03-26T20:30:16.264401",
     "status": "completed"
    },
    "tags": []
   },
   "outputs": [],
   "source": [
    "###########################################\n",
    "# The stratified datasets honor this\n",
    "###########################################\n",
    "torch.set_default_dtype(eval(p.torch_default_dtype))"
   ]
  },
  {
   "cell_type": "code",
   "execution_count": 8,
   "id": "b5fba671",
   "metadata": {
    "execution": {
     "iopub.execute_input": "2022-03-26T20:30:16.329046Z",
     "iopub.status.busy": "2022-03-26T20:30:16.328230Z",
     "iopub.status.idle": "2022-03-26T20:30:16.368394Z",
     "shell.execute_reply": "2022-03-26T20:30:16.368653Z"
    },
    "papermill": {
     "duration": 0.0566,
     "end_time": "2022-03-26T20:30:16.368744",
     "exception": false,
     "start_time": "2022-03-26T20:30:16.312144",
     "status": "completed"
    },
    "tags": []
   },
   "outputs": [],
   "source": [
    "###################################\n",
    "# Build the network(s)\n",
    "# Note: It's critical to do this AFTER setting the RNG\n",
    "###################################\n",
    "x_net = build_sequential(p.x_net)"
   ]
  },
  {
   "cell_type": "code",
   "execution_count": 9,
   "id": "5d7e61cc",
   "metadata": {
    "execution": {
     "iopub.execute_input": "2022-03-26T20:30:16.402094Z",
     "iopub.status.busy": "2022-03-26T20:30:16.401806Z",
     "iopub.status.idle": "2022-03-26T20:30:16.417184Z",
     "shell.execute_reply": "2022-03-26T20:30:16.416704Z"
    },
    "papermill": {
     "duration": 0.032244,
     "end_time": "2022-03-26T20:30:16.417297",
     "exception": false,
     "start_time": "2022-03-26T20:30:16.385053",
     "status": "completed"
    },
    "tags": []
   },
   "outputs": [],
   "source": [
    "start_time_secs = time.time()"
   ]
  },
  {
   "cell_type": "code",
   "execution_count": 10,
   "id": "c6b67dfd",
   "metadata": {
    "execution": {
     "iopub.execute_input": "2022-03-26T20:30:16.453083Z",
     "iopub.status.busy": "2022-03-26T20:30:16.452808Z",
     "iopub.status.idle": "2022-03-26T20:30:16.465168Z",
     "shell.execute_reply": "2022-03-26T20:30:16.465591Z"
    },
    "papermill": {
     "duration": 0.030477,
     "end_time": "2022-03-26T20:30:16.465732",
     "exception": false,
     "start_time": "2022-03-26T20:30:16.435255",
     "status": "completed"
    },
    "tags": []
   },
   "outputs": [],
   "source": [
    "p.domains_source = []\n",
    "p.domains_target = []\n",
    "\n",
    "\n",
    "train_original_source = []\n",
    "val_original_source   = []\n",
    "test_original_source  = []\n",
    "\n",
    "train_original_target = []\n",
    "val_original_target   = []\n",
    "test_original_target  = []"
   ]
  },
  {
   "cell_type": "code",
   "execution_count": 11,
   "id": "e3d9c3d3",
   "metadata": {
    "execution": {
     "iopub.execute_input": "2022-03-26T20:30:16.499911Z",
     "iopub.status.busy": "2022-03-26T20:30:16.499641Z",
     "iopub.status.idle": "2022-03-26T20:30:16.512785Z",
     "shell.execute_reply": "2022-03-26T20:30:16.513205Z"
    },
    "papermill": {
     "duration": 0.029569,
     "end_time": "2022-03-26T20:30:16.513342",
     "exception": false,
     "start_time": "2022-03-26T20:30:16.483773",
     "status": "completed"
    },
    "tags": []
   },
   "outputs": [],
   "source": [
    "# global_x_transform_func = lambda x: normalize(x.to(torch.get_default_dtype()), \"unit_power\") # unit_power, unit_mag\n",
    "# global_x_transform_func = lambda x: normalize(x, \"unit_power\") # unit_power, unit_mag"
   ]
  },
  {
   "cell_type": "code",
   "execution_count": 12,
   "id": "acb78fd2",
   "metadata": {
    "execution": {
     "iopub.execute_input": "2022-03-26T20:30:16.551720Z",
     "iopub.status.busy": "2022-03-26T20:30:16.551426Z",
     "iopub.status.idle": "2022-03-26T20:30:16.564800Z",
     "shell.execute_reply": "2022-03-26T20:30:16.565216Z"
    },
    "papermill": {
     "duration": 0.033598,
     "end_time": "2022-03-26T20:30:16.565348",
     "exception": false,
     "start_time": "2022-03-26T20:30:16.531750",
     "status": "completed"
    },
    "tags": []
   },
   "outputs": [],
   "source": [
    "def add_dataset(\n",
    "    labels,\n",
    "    domains,\n",
    "    pickle_path,\n",
    "    x_transforms,\n",
    "    episode_transforms,\n",
    "    domain_prefix,\n",
    "    num_examples_per_domain_per_label,\n",
    "    source_or_target_dataset:str,\n",
    "    iterator_seed=p.seed,\n",
    "    dataset_seed=p.dataset_seed,\n",
    "    n_shot=p.n_shot,\n",
    "    n_way=p.n_way,\n",
    "    n_query=p.n_query,\n",
    "    train_val_test_k_factors=(p.train_k_factor,p.val_k_factor,p.test_k_factor),\n",
    "):\n",
    "   \n",
    "    if x_transforms == []: x_transform = None\n",
    "    else: x_transform = get_chained_transform(x_transforms)\n",
    "    \n",
    "    if episode_transforms == []: episode_transform = None\n",
    "    else: raise Exception(\"episode_transforms not implemented\")\n",
    "    \n",
    "    episode_transform = lambda tup, _prefix=domain_prefix: (_prefix + str(tup[0]), tup[1])\n",
    "\n",
    "\n",
    "    eaf = Episodic_Accessor_Factory(\n",
    "        labels=labels,\n",
    "        domains=domains,\n",
    "        num_examples_per_domain_per_label=num_examples_per_domain_per_label,\n",
    "        iterator_seed=iterator_seed,\n",
    "        dataset_seed=dataset_seed,\n",
    "        n_shot=n_shot,\n",
    "        n_way=n_way,\n",
    "        n_query=n_query,\n",
    "        train_val_test_k_factors=train_val_test_k_factors,\n",
    "        pickle_path=pickle_path,\n",
    "        x_transform_func=x_transform,\n",
    "    )\n",
    "\n",
    "    train, val, test = eaf.get_train(), eaf.get_val(), eaf.get_test()\n",
    "    train = Lazy_Iterable_Wrapper(train, episode_transform)\n",
    "    val = Lazy_Iterable_Wrapper(val, episode_transform)\n",
    "    test = Lazy_Iterable_Wrapper(test, episode_transform)\n",
    "\n",
    "    if source_or_target_dataset==\"source\":\n",
    "        train_original_source.append(train)\n",
    "        val_original_source.append(val)\n",
    "        test_original_source.append(test)\n",
    "\n",
    "        p.domains_source.extend(\n",
    "            [domain_prefix + str(u) for u in domains]\n",
    "        )\n",
    "    elif source_or_target_dataset==\"target\":\n",
    "        train_original_target.append(train)\n",
    "        val_original_target.append(val)\n",
    "        test_original_target.append(test)\n",
    "        p.domains_target.extend(\n",
    "            [domain_prefix + str(u) for u in domains]\n",
    "        )\n",
    "    else:\n",
    "        raise Exception(f\"invalid source_or_target_dataset: {source_or_target_dataset}\")\n",
    "    "
   ]
  },
  {
   "cell_type": "code",
   "execution_count": 13,
   "id": "fe266617",
   "metadata": {
    "execution": {
     "iopub.execute_input": "2022-03-26T20:30:16.600855Z",
     "iopub.status.busy": "2022-03-26T20:30:16.600334Z",
     "iopub.status.idle": "2022-03-26T20:31:07.466815Z",
     "shell.execute_reply": "2022-03-26T20:31:07.467240Z"
    },
    "papermill": {
     "duration": 50.883463,
     "end_time": "2022-03-26T20:31:07.467378",
     "exception": false,
     "start_time": "2022-03-26T20:30:16.583915",
     "status": "completed"
    },
    "tags": []
   },
   "outputs": [],
   "source": [
    "for ds in p.datasets:\n",
    "    add_dataset(**ds)"
   ]
  },
  {
   "cell_type": "code",
   "execution_count": 14,
   "id": "b90d65ac",
   "metadata": {
    "execution": {
     "iopub.execute_input": "2022-03-26T20:31:07.505656Z",
     "iopub.status.busy": "2022-03-26T20:31:07.505397Z",
     "iopub.status.idle": "2022-03-26T20:31:07.521539Z",
     "shell.execute_reply": "2022-03-26T20:31:07.521108Z"
    },
    "papermill": {
     "duration": 0.032622,
     "end_time": "2022-03-26T20:31:07.521640",
     "exception": false,
     "start_time": "2022-03-26T20:31:07.489018",
     "status": "completed"
    },
    "tags": []
   },
   "outputs": [],
   "source": [
    "# from steves_utils.CORES.utils import (\n",
    "#     ALL_NODES,\n",
    "#     ALL_NODES_MINIMUM_1000_EXAMPLES,\n",
    "#     ALL_DAYS\n",
    "# )\n",
    "\n",
    "# add_dataset(\n",
    "#     labels=ALL_NODES,\n",
    "#     domains = ALL_DAYS,\n",
    "#     num_examples_per_domain_per_label=100,\n",
    "#     pickle_path=os.path.join(get_datasets_base_path(), \"cores.stratified_ds.2022A.pkl\"),\n",
    "#     source_or_target_dataset=\"target\",\n",
    "#     x_transform_func=global_x_transform_func,\n",
    "#     domain_modifier=lambda u: f\"cores_{u}\"\n",
    "# )"
   ]
  },
  {
   "cell_type": "code",
   "execution_count": 15,
   "id": "76db484d",
   "metadata": {
    "execution": {
     "iopub.execute_input": "2022-03-26T20:31:07.555159Z",
     "iopub.status.busy": "2022-03-26T20:31:07.554900Z",
     "iopub.status.idle": "2022-03-26T20:31:07.566011Z",
     "shell.execute_reply": "2022-03-26T20:31:07.565749Z"
    },
    "papermill": {
     "duration": 0.026293,
     "end_time": "2022-03-26T20:31:07.566093",
     "exception": false,
     "start_time": "2022-03-26T20:31:07.539800",
     "status": "completed"
    },
    "tags": []
   },
   "outputs": [],
   "source": [
    "# from steves_utils.ORACLE.utils_v2 import (\n",
    "#     ALL_DISTANCES_FEET,\n",
    "#     ALL_RUNS,\n",
    "#     ALL_SERIAL_NUMBERS,\n",
    "# )\n",
    "\n",
    "\n",
    "# add_dataset(\n",
    "#     labels=ALL_SERIAL_NUMBERS,\n",
    "#     domains = list(set(ALL_DISTANCES_FEET) - {2,62}),\n",
    "#     num_examples_per_domain_per_label=100,\n",
    "#     pickle_path=os.path.join(get_datasets_base_path(), \"oracle.Run2_framed_2000Examples_stratified_ds.2022A.pkl\"),\n",
    "#     source_or_target_dataset=\"source\",\n",
    "#     x_transform_func=global_x_transform_func,\n",
    "#     domain_modifier=lambda u: f\"oracle1_{u}\"\n",
    "# )\n"
   ]
  },
  {
   "cell_type": "code",
   "execution_count": 16,
   "id": "97dea9d2",
   "metadata": {
    "execution": {
     "iopub.execute_input": "2022-03-26T20:31:07.601363Z",
     "iopub.status.busy": "2022-03-26T20:31:07.601106Z",
     "iopub.status.idle": "2022-03-26T20:31:07.611921Z",
     "shell.execute_reply": "2022-03-26T20:31:07.612322Z"
    },
    "papermill": {
     "duration": 0.026531,
     "end_time": "2022-03-26T20:31:07.612445",
     "exception": false,
     "start_time": "2022-03-26T20:31:07.585914",
     "status": "completed"
    },
    "tags": []
   },
   "outputs": [],
   "source": [
    "# from steves_utils.ORACLE.utils_v2 import (\n",
    "#     ALL_DISTANCES_FEET,\n",
    "#     ALL_RUNS,\n",
    "#     ALL_SERIAL_NUMBERS,\n",
    "# )\n",
    "\n",
    "\n",
    "# add_dataset(\n",
    "#     labels=ALL_SERIAL_NUMBERS,\n",
    "#     domains = list(set(ALL_DISTANCES_FEET) - {2,62,56}),\n",
    "#     num_examples_per_domain_per_label=100,\n",
    "#     pickle_path=os.path.join(get_datasets_base_path(), \"oracle.Run2_framed_2000Examples_stratified_ds.2022A.pkl\"),\n",
    "#     source_or_target_dataset=\"source\",\n",
    "#     x_transform_func=global_x_transform_func,\n",
    "#     domain_modifier=lambda u: f\"oracle2_{u}\"\n",
    "# )"
   ]
  },
  {
   "cell_type": "code",
   "execution_count": 17,
   "id": "6f289866",
   "metadata": {
    "execution": {
     "iopub.execute_input": "2022-03-26T20:31:07.647565Z",
     "iopub.status.busy": "2022-03-26T20:31:07.647309Z",
     "iopub.status.idle": "2022-03-26T20:31:07.661917Z",
     "shell.execute_reply": "2022-03-26T20:31:07.661454Z"
    },
    "papermill": {
     "duration": 0.030548,
     "end_time": "2022-03-26T20:31:07.662020",
     "exception": false,
     "start_time": "2022-03-26T20:31:07.631472",
     "status": "completed"
    },
    "tags": []
   },
   "outputs": [],
   "source": [
    "# add_dataset(\n",
    "#     labels=list(range(19)),\n",
    "#     domains = [0,1,2],\n",
    "#     num_examples_per_domain_per_label=100,\n",
    "#     pickle_path=os.path.join(get_datasets_base_path(), \"metehan.stratified_ds.2022A.pkl\"),\n",
    "#     source_or_target_dataset=\"target\",\n",
    "#     x_transform_func=global_x_transform_func,\n",
    "#     domain_modifier=lambda u: f\"met_{u}\"\n",
    "# )"
   ]
  },
  {
   "cell_type": "code",
   "execution_count": 18,
   "id": "86a863c3",
   "metadata": {
    "execution": {
     "iopub.execute_input": "2022-03-26T20:31:07.698364Z",
     "iopub.status.busy": "2022-03-26T20:31:07.697930Z",
     "iopub.status.idle": "2022-03-26T20:31:07.709005Z",
     "shell.execute_reply": "2022-03-26T20:31:07.708727Z"
    },
    "papermill": {
     "duration": 0.026654,
     "end_time": "2022-03-26T20:31:07.709065",
     "exception": false,
     "start_time": "2022-03-26T20:31:07.682411",
     "status": "completed"
    },
    "tags": []
   },
   "outputs": [],
   "source": [
    "# # from steves_utils.wisig.utils import (\n",
    "# #     ALL_NODES_MINIMUM_100_EXAMPLES,\n",
    "# #     ALL_NODES_MINIMUM_500_EXAMPLES,\n",
    "# #     ALL_NODES_MINIMUM_1000_EXAMPLES,\n",
    "# #     ALL_DAYS\n",
    "# # )\n",
    "\n",
    "# import steves_utils.wisig.utils as wisig\n",
    "\n",
    "\n",
    "# add_dataset(\n",
    "#     labels=wisig.ALL_NODES_MINIMUM_100_EXAMPLES,\n",
    "#     domains = wisig.ALL_DAYS,\n",
    "#     num_examples_per_domain_per_label=100,\n",
    "#     pickle_path=os.path.join(get_datasets_base_path(), \"wisig.node3-19.stratified_ds.2022A.pkl\"),\n",
    "#     source_or_target_dataset=\"target\",\n",
    "#     x_transform_func=global_x_transform_func,\n",
    "#     domain_modifier=lambda u: f\"wisig_{u}\"\n",
    "# )"
   ]
  },
  {
   "cell_type": "code",
   "execution_count": 19,
   "id": "fd5442bc",
   "metadata": {
    "execution": {
     "iopub.execute_input": "2022-03-26T20:31:07.742667Z",
     "iopub.status.busy": "2022-03-26T20:31:07.742241Z",
     "iopub.status.idle": "2022-03-26T20:31:07.755404Z",
     "shell.execute_reply": "2022-03-26T20:31:07.755123Z"
    },
    "papermill": {
     "duration": 0.030502,
     "end_time": "2022-03-26T20:31:07.755464",
     "exception": false,
     "start_time": "2022-03-26T20:31:07.724962",
     "status": "completed"
    },
    "tags": []
   },
   "outputs": [],
   "source": [
    "###################################\n",
    "# Build the dataset\n",
    "###################################\n",
    "train_original_source = Iterable_Aggregator(train_original_source, p.seed)\n",
    "val_original_source = Iterable_Aggregator(val_original_source, p.seed)\n",
    "test_original_source = Iterable_Aggregator(test_original_source, p.seed)\n",
    "\n",
    "\n",
    "train_original_target = Iterable_Aggregator(train_original_target, p.seed)\n",
    "val_original_target = Iterable_Aggregator(val_original_target, p.seed)\n",
    "test_original_target = Iterable_Aggregator(test_original_target, p.seed)\n",
    "\n",
    "# For CNN We only use X and Y. And we only train on the source.\n",
    "# Properly form the data using a transform lambda and Lazy_Iterable_Wrapper. Finally wrap them in a dataloader\n",
    "\n",
    "transform_lambda = lambda ex: ex[1] # Original is (<domain>, <episode>) so we strip down to episode only\n",
    "\n",
    "train_processed_source = Lazy_Iterable_Wrapper(train_original_source, transform_lambda)\n",
    "val_processed_source   = Lazy_Iterable_Wrapper(val_original_source, transform_lambda)\n",
    "test_processed_source  = Lazy_Iterable_Wrapper(test_original_source, transform_lambda)\n",
    "\n",
    "train_processed_target = Lazy_Iterable_Wrapper(train_original_target, transform_lambda)\n",
    "val_processed_target   = Lazy_Iterable_Wrapper(val_original_target, transform_lambda)\n",
    "test_processed_target  = Lazy_Iterable_Wrapper(test_original_target, transform_lambda)\n",
    "\n",
    "datasets = EasyDict({\n",
    "    \"source\": {\n",
    "        \"original\": {\"train\":train_original_source, \"val\":val_original_source, \"test\":test_original_source},\n",
    "        \"processed\": {\"train\":train_processed_source, \"val\":val_processed_source, \"test\":test_processed_source}\n",
    "    },\n",
    "    \"target\": {\n",
    "        \"original\": {\"train\":train_original_target, \"val\":val_original_target, \"test\":test_original_target},\n",
    "        \"processed\": {\"train\":train_processed_target, \"val\":val_processed_target, \"test\":test_processed_target}\n",
    "    },\n",
    "})"
   ]
  },
  {
   "cell_type": "code",
   "execution_count": 20,
   "id": "5b3c01fc",
   "metadata": {
    "execution": {
     "iopub.execute_input": "2022-03-26T20:31:07.792412Z",
     "iopub.status.busy": "2022-03-26T20:31:07.792150Z",
     "iopub.status.idle": "2022-03-26T20:31:14.850743Z",
     "shell.execute_reply": "2022-03-26T20:31:14.851155Z"
    },
    "papermill": {
     "duration": 7.078764,
     "end_time": "2022-03-26T20:31:14.851301",
     "exception": false,
     "start_time": "2022-03-26T20:31:07.772537",
     "status": "completed"
    },
    "tags": []
   },
   "outputs": [
    {
     "name": "stdout",
     "output_type": "stream",
     "text": [
      "{'C_2', 'C_5', 'C_1', 'C_3', 'C_4'}\n"
     ]
    },
    {
     "name": "stdout",
     "output_type": "stream",
     "text": [
      "{'O_8', 'O_50', 'O_14', 'O_32', 'O_20', 'O_44', 'O_38', 'O_26'}\n"
     ]
    },
    {
     "name": "stdout",
     "output_type": "stream",
     "text": [
      "tensor([[[0., 0., 0.,  ..., 0., 0., 0.],\n",
      "         [0., 0., 0.,  ..., 0., 0., 0.]],\n",
      "\n",
      "        [[0., 0., 0.,  ..., 0., 0., 0.],\n",
      "         [0., 0., 0.,  ..., 0., 0., 0.]],\n",
      "\n",
      "        [[0., 0., 0.,  ..., 0., 0., 0.],\n",
      "         [0., 0., 0.,  ..., 0., 0., 0.]],\n",
      "\n",
      "        ...,\n",
      "\n",
      "        [[0., 0., 0.,  ..., 0., 0., 0.],\n",
      "         [0., 0., 0.,  ..., 0., 0., 0.]],\n",
      "\n",
      "        [[0., 0., 0.,  ..., 0., 0., 0.],\n",
      "         [0., 0., 0.,  ..., 0., 0., 0.]],\n",
      "\n",
      "        [[0., 0., 0.,  ..., 0., 0., 0.],\n",
      "         [0., 0., 0.,  ..., 0., 0., 0.]]])\n"
     ]
    }
   ],
   "source": [
    "from steves_utils.transforms import get_average_magnitude, get_average_power\n",
    "\n",
    "print(set([u for u,_ in val_original_source]))\n",
    "print(set([u for u,_ in val_original_target]))\n",
    "\n",
    "s_x, s_y, q_x, q_y, _ = next(iter(train_processed_source))\n",
    "print(s_x)\n",
    "\n",
    "# for ds in [\n",
    "#     train_processed_source,\n",
    "#     val_processed_source,\n",
    "#     test_processed_source,\n",
    "#     train_processed_target,\n",
    "#     val_processed_target,\n",
    "#     test_processed_target\n",
    "# ]:\n",
    "#     for s_x, s_y, q_x, q_y, _ in ds:\n",
    "#         for X in (s_x, q_x):\n",
    "#             for x in X:\n",
    "#                 assert np.isclose(get_average_magnitude(x.numpy()), 1.0)\n",
    "#                 assert np.isclose(get_average_power(x.numpy()), 1.0)\n",
    "                "
   ]
  },
  {
   "cell_type": "code",
   "execution_count": 21,
   "id": "bbdacba1",
   "metadata": {
    "execution": {
     "iopub.execute_input": "2022-03-26T20:31:14.891295Z",
     "iopub.status.busy": "2022-03-26T20:31:14.891022Z",
     "iopub.status.idle": "2022-03-26T20:31:14.954351Z",
     "shell.execute_reply": "2022-03-26T20:31:14.953876Z"
    },
    "papermill": {
     "duration": 0.081665,
     "end_time": "2022-03-26T20:31:14.954468",
     "exception": false,
     "start_time": "2022-03-26T20:31:14.872803",
     "status": "completed"
    },
    "tags": []
   },
   "outputs": [
    {
     "name": "stdout",
     "output_type": "stream",
     "text": [
      "(2, 256)\n"
     ]
    }
   ],
   "source": [
    "###################################\n",
    "# Build the model\n",
    "###################################\n",
    "# easfsl only wants a tuple for the shape\n",
    "model = Steves_Prototypical_Network(x_net, device=p.device, x_shape=tuple(p.x_shape))\n",
    "optimizer = Adam(params=model.parameters(), lr=p.lr)"
   ]
  },
  {
   "cell_type": "code",
   "execution_count": 22,
   "id": "22b39ac5",
   "metadata": {
    "execution": {
     "iopub.execute_input": "2022-03-26T20:31:14.993302Z",
     "iopub.status.busy": "2022-03-26T20:31:14.993034Z",
     "iopub.status.idle": "2022-03-26T21:18:59.939637Z",
     "shell.execute_reply": "2022-03-26T21:18:59.939383Z"
    },
    "papermill": {
     "duration": 2864.963776,
     "end_time": "2022-03-26T21:18:59.939700",
     "exception": false,
     "start_time": "2022-03-26T20:31:14.975924",
     "status": "completed"
    },
    "tags": []
   },
   "outputs": [
    {
     "name": "stdout",
     "output_type": "stream",
     "text": [
      "epoch: 1, [batch: 1 / 6315], examples_per_second: 48.1305, train_label_loss: 2.2284, \n"
     ]
    },
    {
     "name": "stdout",
     "output_type": "stream",
     "text": [
      "epoch: 1, [batch: 632 / 6315], examples_per_second: 1695.0314, train_label_loss: 0.1152, \n"
     ]
    },
    {
     "name": "stdout",
     "output_type": "stream",
     "text": [
      "epoch: 1, [batch: 1263 / 6315], examples_per_second: 1685.5239, train_label_loss: 0.1401, \n"
     ]
    },
    {
     "name": "stdout",
     "output_type": "stream",
     "text": [
      "epoch: 1, [batch: 1895 / 6315], examples_per_second: 1677.7635, train_label_loss: 0.0002, \n"
     ]
    },
    {
     "name": "stdout",
     "output_type": "stream",
     "text": [
      "epoch: 1, [batch: 2526 / 6315], examples_per_second: 1635.5357, train_label_loss: 0.0018, \n"
     ]
    },
    {
     "name": "stdout",
     "output_type": "stream",
     "text": [
      "epoch: 1, [batch: 3158 / 6315], examples_per_second: 1662.2266, train_label_loss: 0.0006, \n"
     ]
    },
    {
     "name": "stdout",
     "output_type": "stream",
     "text": [
      "epoch: 1, [batch: 3789 / 6315], examples_per_second: 2008.4383, train_label_loss: 0.0066, \n"
     ]
    },
    {
     "name": "stdout",
     "output_type": "stream",
     "text": [
      "epoch: 1, [batch: 4420 / 6315], examples_per_second: 1971.2567, train_label_loss: 0.0006, \n"
     ]
    },
    {
     "name": "stdout",
     "output_type": "stream",
     "text": [
      "epoch: 1, [batch: 5052 / 6315], examples_per_second: 1601.0262, train_label_loss: 0.0008, \n"
     ]
    },
    {
     "name": "stdout",
     "output_type": "stream",
     "text": [
      "epoch: 1, [batch: 5683 / 6315], examples_per_second: 1669.3538, train_label_loss: 0.0000, \n"
     ]
    },
    {
     "name": "stdout",
     "output_type": "stream",
     "text": [
      "=============================================================\n",
      "epoch: 1, source_val_acc_label: 0.9915, target_val_acc_label: 0.2491, source_val_label_loss: 0.7928, target_val_label_loss: 18.6633, \n",
      "=============================================================\n"
     ]
    },
    {
     "name": "stdout",
     "output_type": "stream",
     "text": [
      "New best\n"
     ]
    },
    {
     "name": "stdout",
     "output_type": "stream",
     "text": [
      "epoch: 2, [batch: 1 / 6307], examples_per_second: 2.5983, train_label_loss: 0.0016, \n"
     ]
    },
    {
     "name": "stdout",
     "output_type": "stream",
     "text": [
      "epoch: 2, [batch: 631 / 6307], examples_per_second: 1711.5570, train_label_loss: 0.0217, \n"
     ]
    },
    {
     "name": "stdout",
     "output_type": "stream",
     "text": [
      "epoch: 2, [batch: 1262 / 6307], examples_per_second: 1717.6646, train_label_loss: 0.0000, \n"
     ]
    },
    {
     "name": "stdout",
     "output_type": "stream",
     "text": [
      "epoch: 2, [batch: 1892 / 6307], examples_per_second: 1713.6371, train_label_loss: 0.0000, \n"
     ]
    },
    {
     "name": "stdout",
     "output_type": "stream",
     "text": [
      "epoch: 2, [batch: 2523 / 6307], examples_per_second: 1710.7602, train_label_loss: 0.0000, \n"
     ]
    },
    {
     "name": "stdout",
     "output_type": "stream",
     "text": [
      "epoch: 2, [batch: 3154 / 6307], examples_per_second: 1726.2613, train_label_loss: 0.0000, \n"
     ]
    },
    {
     "name": "stdout",
     "output_type": "stream",
     "text": [
      "epoch: 2, [batch: 3784 / 6307], examples_per_second: 2154.7493, train_label_loss: 0.0000, \n"
     ]
    },
    {
     "name": "stdout",
     "output_type": "stream",
     "text": [
      "epoch: 2, [batch: 4415 / 6307], examples_per_second: 1984.9037, train_label_loss: 0.0021, \n"
     ]
    },
    {
     "name": "stdout",
     "output_type": "stream",
     "text": [
      "epoch: 2, [batch: 5045 / 6307], examples_per_second: 1712.1001, train_label_loss: 0.0000, \n"
     ]
    },
    {
     "name": "stdout",
     "output_type": "stream",
     "text": [
      "epoch: 2, [batch: 5676 / 6307], examples_per_second: 1708.5652, train_label_loss: 0.0001, \n"
     ]
    },
    {
     "name": "stdout",
     "output_type": "stream",
     "text": [
      "=============================================================\n",
      "epoch: 2, source_val_acc_label: 0.9966, target_val_acc_label: 0.4372, source_val_label_loss: 0.0806, target_val_label_loss: 1.6480, \n",
      "=============================================================\n"
     ]
    },
    {
     "name": "stdout",
     "output_type": "stream",
     "text": [
      "New best\n"
     ]
    },
    {
     "name": "stdout",
     "output_type": "stream",
     "text": [
      "epoch: 3, [batch: 1 / 6326], examples_per_second: 2.6288, train_label_loss: 0.0000, \n"
     ]
    },
    {
     "name": "stdout",
     "output_type": "stream",
     "text": [
      "epoch: 3, [batch: 633 / 6326], examples_per_second: 1725.5343, train_label_loss: 0.0383, \n"
     ]
    },
    {
     "name": "stdout",
     "output_type": "stream",
     "text": [
      "epoch: 3, [batch: 1266 / 6326], examples_per_second: 1730.2264, train_label_loss: 0.0000, \n"
     ]
    },
    {
     "name": "stdout",
     "output_type": "stream",
     "text": [
      "epoch: 3, [batch: 1898 / 6326], examples_per_second: 1729.2731, train_label_loss: 0.0002, \n"
     ]
    },
    {
     "name": "stdout",
     "output_type": "stream",
     "text": [
      "epoch: 3, [batch: 2531 / 6326], examples_per_second: 1724.9507, train_label_loss: 0.0307, \n"
     ]
    },
    {
     "name": "stdout",
     "output_type": "stream",
     "text": [
      "epoch: 3, [batch: 3163 / 6326], examples_per_second: 1774.3267, train_label_loss: 0.0000, \n"
     ]
    },
    {
     "name": "stdout",
     "output_type": "stream",
     "text": [
      "epoch: 3, [batch: 3796 / 6326], examples_per_second: 2189.3044, train_label_loss: 0.0023, \n"
     ]
    },
    {
     "name": "stdout",
     "output_type": "stream",
     "text": [
      "epoch: 3, [batch: 4428 / 6326], examples_per_second: 1996.0584, train_label_loss: 0.0051, \n"
     ]
    },
    {
     "name": "stdout",
     "output_type": "stream",
     "text": [
      "epoch: 3, [batch: 5061 / 6326], examples_per_second: 1728.6873, train_label_loss: 0.0000, \n"
     ]
    },
    {
     "name": "stdout",
     "output_type": "stream",
     "text": [
      "epoch: 3, [batch: 5693 / 6326], examples_per_second: 1729.1958, train_label_loss: 0.0000, \n"
     ]
    },
    {
     "name": "stdout",
     "output_type": "stream",
     "text": [
      "=============================================================\n",
      "epoch: 3, source_val_acc_label: 0.9982, target_val_acc_label: 0.4313, source_val_label_loss: 0.0318, target_val_label_loss: 2.2345, \n",
      "=============================================================\n"
     ]
    },
    {
     "name": "stdout",
     "output_type": "stream",
     "text": [
      "epoch: 4, [batch: 1 / 6302], examples_per_second: 2.6386, train_label_loss: 0.0000, \n"
     ]
    },
    {
     "name": "stdout",
     "output_type": "stream",
     "text": [
      "epoch: 4, [batch: 631 / 6302], examples_per_second: 1727.8215, train_label_loss: 0.0000, \n"
     ]
    },
    {
     "name": "stdout",
     "output_type": "stream",
     "text": [
      "epoch: 4, [batch: 1261 / 6302], examples_per_second: 1731.3143, train_label_loss: 0.0000, \n"
     ]
    },
    {
     "name": "stdout",
     "output_type": "stream",
     "text": [
      "epoch: 4, [batch: 1891 / 6302], examples_per_second: 1730.8607, train_label_loss: 0.0016, \n"
     ]
    },
    {
     "name": "stdout",
     "output_type": "stream",
     "text": [
      "epoch: 4, [batch: 2521 / 6302], examples_per_second: 1724.8246, train_label_loss: 0.0000, \n"
     ]
    },
    {
     "name": "stdout",
     "output_type": "stream",
     "text": [
      "epoch: 4, [batch: 3151 / 6302], examples_per_second: 1766.1632, train_label_loss: 0.0000, \n"
     ]
    },
    {
     "name": "stdout",
     "output_type": "stream",
     "text": [
      "epoch: 4, [batch: 3781 / 6302], examples_per_second: 2207.2843, train_label_loss: 0.0009, \n"
     ]
    },
    {
     "name": "stdout",
     "output_type": "stream",
     "text": [
      "epoch: 4, [batch: 4411 / 6302], examples_per_second: 2230.3100, train_label_loss: 0.0000, \n"
     ]
    },
    {
     "name": "stdout",
     "output_type": "stream",
     "text": [
      "epoch: 4, [batch: 5041 / 6302], examples_per_second: 2204.9292, train_label_loss: 0.0001, \n"
     ]
    },
    {
     "name": "stdout",
     "output_type": "stream",
     "text": [
      "epoch: 4, [batch: 5671 / 6302], examples_per_second: 2177.0163, train_label_loss: 0.0012, \n"
     ]
    },
    {
     "name": "stdout",
     "output_type": "stream",
     "text": [
      "=============================================================\n",
      "epoch: 4, source_val_acc_label: 0.9983, target_val_acc_label: 0.4793, source_val_label_loss: 0.0235, target_val_label_loss: 1.4937, \n",
      "=============================================================\n"
     ]
    },
    {
     "name": "stdout",
     "output_type": "stream",
     "text": [
      "New best\n"
     ]
    },
    {
     "name": "stdout",
     "output_type": "stream",
     "text": [
      "epoch: 5, [batch: 1 / 6324], examples_per_second: 3.4263, train_label_loss: 0.0000, \n"
     ]
    },
    {
     "name": "stdout",
     "output_type": "stream",
     "text": [
      "epoch: 5, [batch: 633 / 6324], examples_per_second: 3230.5894, train_label_loss: 0.0000, \n"
     ]
    },
    {
     "name": "stdout",
     "output_type": "stream",
     "text": [
      "epoch: 5, [batch: 1265 / 6324], examples_per_second: 3286.0758, train_label_loss: 0.0016, \n"
     ]
    },
    {
     "name": "stdout",
     "output_type": "stream",
     "text": [
      "epoch: 5, [batch: 1897 / 6324], examples_per_second: 3253.8701, train_label_loss: 0.0000, \n"
     ]
    },
    {
     "name": "stdout",
     "output_type": "stream",
     "text": [
      "epoch: 5, [batch: 2530 / 6324], examples_per_second: 3149.9320, train_label_loss: 0.0020, \n"
     ]
    },
    {
     "name": "stdout",
     "output_type": "stream",
     "text": [
      "epoch: 5, [batch: 3162 / 6324], examples_per_second: 3164.2028, train_label_loss: 0.0000, \n"
     ]
    },
    {
     "name": "stdout",
     "output_type": "stream",
     "text": [
      "epoch: 5, [batch: 3794 / 6324], examples_per_second: 3172.1290, train_label_loss: 0.0000, \n"
     ]
    },
    {
     "name": "stdout",
     "output_type": "stream",
     "text": [
      "epoch: 5, [batch: 4427 / 6324], examples_per_second: 3149.0308, train_label_loss: 0.0000, \n"
     ]
    },
    {
     "name": "stdout",
     "output_type": "stream",
     "text": [
      "epoch: 5, [batch: 5059 / 6324], examples_per_second: 3162.0049, train_label_loss: 0.0001, \n"
     ]
    },
    {
     "name": "stdout",
     "output_type": "stream",
     "text": [
      "epoch: 5, [batch: 5691 / 6324], examples_per_second: 2630.1161, train_label_loss: 0.0000, \n"
     ]
    },
    {
     "name": "stdout",
     "output_type": "stream",
     "text": [
      "=============================================================\n",
      "epoch: 5, source_val_acc_label: 0.9988, target_val_acc_label: 0.5254, source_val_label_loss: 0.0251, target_val_label_loss: 1.4339, \n",
      "=============================================================\n"
     ]
    },
    {
     "name": "stdout",
     "output_type": "stream",
     "text": [
      "New best\n"
     ]
    },
    {
     "name": "stdout",
     "output_type": "stream",
     "text": [
      "epoch: 6, [batch: 1 / 6313], examples_per_second: 2.4759, train_label_loss: 0.0000, \n"
     ]
    },
    {
     "name": "stdout",
     "output_type": "stream",
     "text": [
      "epoch: 6, [batch: 632 / 6313], examples_per_second: 1595.1505, train_label_loss: 0.0000, \n"
     ]
    },
    {
     "name": "stdout",
     "output_type": "stream",
     "text": [
      "epoch: 6, [batch: 1263 / 6313], examples_per_second: 1593.4654, train_label_loss: 0.0000, \n"
     ]
    },
    {
     "name": "stdout",
     "output_type": "stream",
     "text": [
      "epoch: 6, [batch: 1894 / 6313], examples_per_second: 1593.1836, train_label_loss: 0.0000, \n"
     ]
    },
    {
     "name": "stdout",
     "output_type": "stream",
     "text": [
      "epoch: 6, [batch: 2525 / 6313], examples_per_second: 1591.1619, train_label_loss: 0.0000, \n"
     ]
    },
    {
     "name": "stdout",
     "output_type": "stream",
     "text": [
      "epoch: 6, [batch: 3157 / 6313], examples_per_second: 1595.7748, train_label_loss: 0.0000, \n"
     ]
    },
    {
     "name": "stdout",
     "output_type": "stream",
     "text": [
      "epoch: 6, [batch: 3788 / 6313], examples_per_second: 1592.7025, train_label_loss: 0.0001, \n"
     ]
    },
    {
     "name": "stdout",
     "output_type": "stream",
     "text": [
      "epoch: 6, [batch: 4419 / 6313], examples_per_second: 1590.4404, train_label_loss: 0.0036, \n"
     ]
    },
    {
     "name": "stdout",
     "output_type": "stream",
     "text": [
      "epoch: 6, [batch: 5050 / 6313], examples_per_second: 1837.5832, train_label_loss: 0.0002, \n"
     ]
    },
    {
     "name": "stdout",
     "output_type": "stream",
     "text": [
      "epoch: 6, [batch: 5681 / 6313], examples_per_second: 2019.3822, train_label_loss: 0.0000, \n"
     ]
    },
    {
     "name": "stdout",
     "output_type": "stream",
     "text": [
      "=============================================================\n",
      "epoch: 6, source_val_acc_label: 0.9986, target_val_acc_label: 0.4854, source_val_label_loss: 0.0350, target_val_label_loss: 1.4470, \n",
      "=============================================================\n"
     ]
    },
    {
     "name": "stdout",
     "output_type": "stream",
     "text": [
      "epoch: 7, [batch: 1 / 6295], examples_per_second: 2.5556, train_label_loss: 0.0000, \n"
     ]
    },
    {
     "name": "stdout",
     "output_type": "stream",
     "text": [
      "epoch: 7, [batch: 630 / 6295], examples_per_second: 1606.6509, train_label_loss: 0.0001, \n"
     ]
    },
    {
     "name": "stdout",
     "output_type": "stream",
     "text": [
      "epoch: 7, [batch: 1259 / 6295], examples_per_second: 1604.5775, train_label_loss: 0.0000, \n"
     ]
    },
    {
     "name": "stdout",
     "output_type": "stream",
     "text": [
      "epoch: 7, [batch: 1889 / 6295], examples_per_second: 1552.0744, train_label_loss: 0.0000, \n"
     ]
    },
    {
     "name": "stdout",
     "output_type": "stream",
     "text": [
      "epoch: 7, [batch: 2518 / 6295], examples_per_second: 1504.2809, train_label_loss: 0.0000, \n"
     ]
    },
    {
     "name": "stdout",
     "output_type": "stream",
     "text": [
      "epoch: 7, [batch: 3148 / 6295], examples_per_second: 1394.3456, train_label_loss: 0.0062, \n"
     ]
    },
    {
     "name": "stdout",
     "output_type": "stream",
     "text": [
      "epoch: 7, [batch: 3777 / 6295], examples_per_second: 1389.9739, train_label_loss: 0.0000, \n"
     ]
    },
    {
     "name": "stdout",
     "output_type": "stream",
     "text": [
      "epoch: 7, [batch: 4406 / 6295], examples_per_second: 1492.3711, train_label_loss: 0.0000, \n"
     ]
    },
    {
     "name": "stdout",
     "output_type": "stream",
     "text": [
      "epoch: 7, [batch: 5036 / 6295], examples_per_second: 1641.2812, train_label_loss: 0.0000, \n"
     ]
    },
    {
     "name": "stdout",
     "output_type": "stream",
     "text": [
      "epoch: 7, [batch: 5665 / 6295], examples_per_second: 1964.5279, train_label_loss: 0.0000, \n"
     ]
    },
    {
     "name": "stdout",
     "output_type": "stream",
     "text": [
      "=============================================================\n",
      "epoch: 7, source_val_acc_label: 0.9985, target_val_acc_label: 0.3873, source_val_label_loss: 0.0373, target_val_label_loss: 6.3644, \n",
      "=============================================================\n"
     ]
    },
    {
     "name": "stdout",
     "output_type": "stream",
     "text": [
      "epoch: 8, [batch: 1 / 6293], examples_per_second: 2.3468, train_label_loss: 0.0000, \n"
     ]
    },
    {
     "name": "stdout",
     "output_type": "stream",
     "text": [
      "epoch: 8, [batch: 630 / 6293], examples_per_second: 1495.4748, train_label_loss: 0.0024, \n"
     ]
    },
    {
     "name": "stdout",
     "output_type": "stream",
     "text": [
      "epoch: 8, [batch: 1259 / 6293], examples_per_second: 1493.5061, train_label_loss: 0.0002, \n"
     ]
    },
    {
     "name": "stdout",
     "output_type": "stream",
     "text": [
      "epoch: 8, [batch: 1888 / 6293], examples_per_second: 1494.5074, train_label_loss: 0.0000, \n"
     ]
    },
    {
     "name": "stdout",
     "output_type": "stream",
     "text": [
      "epoch: 8, [batch: 2517 / 6293], examples_per_second: 1494.1333, train_label_loss: 0.0000, \n"
     ]
    },
    {
     "name": "stdout",
     "output_type": "stream",
     "text": [
      "epoch: 8, [batch: 3147 / 6293], examples_per_second: 1497.1892, train_label_loss: 0.0000, \n"
     ]
    },
    {
     "name": "stdout",
     "output_type": "stream",
     "text": [
      "epoch: 8, [batch: 3776 / 6293], examples_per_second: 1482.0194, train_label_loss: 0.0001, \n"
     ]
    },
    {
     "name": "stdout",
     "output_type": "stream",
     "text": [
      "epoch: 8, [batch: 4405 / 6293], examples_per_second: 1486.8694, train_label_loss: 0.0000, \n"
     ]
    },
    {
     "name": "stdout",
     "output_type": "stream",
     "text": [
      "epoch: 8, [batch: 5034 / 6293], examples_per_second: 1697.2237, train_label_loss: 0.0019, \n"
     ]
    },
    {
     "name": "stdout",
     "output_type": "stream",
     "text": [
      "epoch: 8, [batch: 5663 / 6293], examples_per_second: 1870.9288, train_label_loss: 0.0000, \n"
     ]
    },
    {
     "name": "stdout",
     "output_type": "stream",
     "text": [
      "=============================================================\n",
      "epoch: 8, source_val_acc_label: 0.9987, target_val_acc_label: 0.2882, source_val_label_loss: 0.0933, target_val_label_loss: 26.5652, \n",
      "=============================================================\n"
     ]
    },
    {
     "name": "stdout",
     "output_type": "stream",
     "text": [
      "epoch: 9, [batch: 1 / 6315], examples_per_second: 2.2572, train_label_loss: 0.0000, \n"
     ]
    },
    {
     "name": "stdout",
     "output_type": "stream",
     "text": [
      "epoch: 9, [batch: 632 / 6315], examples_per_second: 1496.7649, train_label_loss: 0.0000, \n"
     ]
    },
    {
     "name": "stdout",
     "output_type": "stream",
     "text": [
      "epoch: 9, [batch: 1263 / 6315], examples_per_second: 1487.5650, train_label_loss: 0.0000, \n"
     ]
    },
    {
     "name": "stdout",
     "output_type": "stream",
     "text": [
      "epoch: 9, [batch: 1895 / 6315], examples_per_second: 1519.8713, train_label_loss: 0.0000, \n"
     ]
    },
    {
     "name": "stdout",
     "output_type": "stream",
     "text": [
      "epoch: 9, [batch: 2526 / 6315], examples_per_second: 1519.3182, train_label_loss: 0.0000, \n"
     ]
    },
    {
     "name": "stdout",
     "output_type": "stream",
     "text": [
      "epoch: 9, [batch: 3158 / 6315], examples_per_second: 1510.1077, train_label_loss: 0.0000, \n"
     ]
    },
    {
     "name": "stdout",
     "output_type": "stream",
     "text": [
      "epoch: 9, [batch: 3789 / 6315], examples_per_second: 1515.5991, train_label_loss: 0.0001, \n"
     ]
    },
    {
     "name": "stdout",
     "output_type": "stream",
     "text": [
      "epoch: 9, [batch: 4420 / 6315], examples_per_second: 1512.6926, train_label_loss: 0.0000, \n"
     ]
    },
    {
     "name": "stdout",
     "output_type": "stream",
     "text": [
      "epoch: 9, [batch: 5052 / 6315], examples_per_second: 1668.4469, train_label_loss: 0.0001, \n"
     ]
    },
    {
     "name": "stdout",
     "output_type": "stream",
     "text": [
      "epoch: 9, [batch: 5683 / 6315], examples_per_second: 1960.5487, train_label_loss: 0.0037, \n"
     ]
    },
    {
     "name": "stdout",
     "output_type": "stream",
     "text": [
      "=============================================================\n",
      "epoch: 9, source_val_acc_label: 0.9987, target_val_acc_label: 0.5066, source_val_label_loss: 0.0296, target_val_label_loss: 1.4948, \n",
      "=============================================================\n"
     ]
    },
    {
     "name": "stdout",
     "output_type": "stream",
     "text": [
      "Patience (3) exhausted\n"
     ]
    }
   ],
   "source": [
    "###################################\n",
    "# train\n",
    "###################################\n",
    "jig = PTN_Train_Eval_Test_Jig(model, p.BEST_MODEL_PATH, p.device)\n",
    "\n",
    "jig.train(\n",
    "    train_iterable=datasets.source.processed.train,\n",
    "    source_val_iterable=datasets.source.processed.val,\n",
    "    target_val_iterable=datasets.target.processed.val,\n",
    "    num_epochs=p.n_epoch,\n",
    "    num_logs_per_epoch=p.NUM_LOGS_PER_EPOCH,\n",
    "    patience=p.patience,\n",
    "    optimizer=optimizer,\n",
    "    criteria_for_best=p.criteria_for_best,\n",
    ")"
   ]
  },
  {
   "cell_type": "code",
   "execution_count": 23,
   "id": "31e8fabf",
   "metadata": {
    "execution": {
     "iopub.execute_input": "2022-03-26T21:19:00.034950Z",
     "iopub.status.busy": "2022-03-26T21:19:00.031037Z",
     "iopub.status.idle": "2022-03-26T21:19:00.048662Z",
     "shell.execute_reply": "2022-03-26T21:19:00.048360Z"
    },
    "papermill": {
     "duration": 0.062205,
     "end_time": "2022-03-26T21:19:00.048730",
     "exception": false,
     "start_time": "2022-03-26T21:18:59.986525",
     "status": "completed"
    },
    "tags": []
   },
   "outputs": [],
   "source": [
    "total_experiment_time_secs = time.time() - start_time_secs"
   ]
  },
  {
   "cell_type": "code",
   "execution_count": 24,
   "id": "87b9595b",
   "metadata": {
    "execution": {
     "iopub.execute_input": "2022-03-26T21:19:00.135294Z",
     "iopub.status.busy": "2022-03-26T21:19:00.134712Z",
     "iopub.status.idle": "2022-03-26T21:21:49.829291Z",
     "shell.execute_reply": "2022-03-26T21:21:49.828919Z"
    },
    "papermill": {
     "duration": 169.736879,
     "end_time": "2022-03-26T21:21:49.829384",
     "exception": false,
     "start_time": "2022-03-26T21:19:00.092505",
     "status": "completed"
    },
    "tags": []
   },
   "outputs": [],
   "source": [
    "###################################\n",
    "# Evaluate the model\n",
    "###################################\n",
    "source_test_label_accuracy, source_test_label_loss = jig.test(datasets.source.processed.test)\n",
    "target_test_label_accuracy, target_test_label_loss = jig.test(datasets.target.processed.test)\n",
    "\n",
    "source_val_label_accuracy, source_val_label_loss = jig.test(datasets.source.processed.val)\n",
    "target_val_label_accuracy, target_val_label_loss = jig.test(datasets.target.processed.val)\n",
    "\n",
    "history = jig.get_history()\n",
    "\n",
    "total_epochs_trained = len(history[\"epoch_indices\"])\n",
    "\n",
    "val_dl = Iterable_Aggregator((datasets.source.original.val,datasets.target.original.val))\n",
    "\n",
    "confusion = ptn_confusion_by_domain_over_dataloader(model, p.device, val_dl)\n",
    "per_domain_accuracy = per_domain_accuracy_from_confusion(confusion)\n",
    "\n",
    "# Add a key to per_domain_accuracy for if it was a source domain\n",
    "for domain, accuracy in per_domain_accuracy.items():\n",
    "    per_domain_accuracy[domain] = {\n",
    "        \"accuracy\": accuracy,\n",
    "        \"source?\": domain in p.domains_source\n",
    "    }\n",
    "\n",
    "# Do an independent accuracy assesment JUST TO BE SURE!\n",
    "# _source_test_label_accuracy = independent_accuracy_assesment(model, datasets.source.processed.test, p.device)\n",
    "# _target_test_label_accuracy = independent_accuracy_assesment(model, datasets.target.processed.test, p.device)\n",
    "# _source_val_label_accuracy = independent_accuracy_assesment(model, datasets.source.processed.val, p.device)\n",
    "# _target_val_label_accuracy = independent_accuracy_assesment(model, datasets.target.processed.val, p.device)\n",
    "\n",
    "# assert(_source_test_label_accuracy == source_test_label_accuracy)\n",
    "# assert(_target_test_label_accuracy == target_test_label_accuracy)\n",
    "# assert(_source_val_label_accuracy == source_val_label_accuracy)\n",
    "# assert(_target_val_label_accuracy == target_val_label_accuracy)\n",
    "\n",
    "experiment = {\n",
    "    \"experiment_name\": p.experiment_name,\n",
    "    \"parameters\": dict(p),\n",
    "    \"results\": {\n",
    "        \"source_test_label_accuracy\": source_test_label_accuracy,\n",
    "        \"source_test_label_loss\": source_test_label_loss,\n",
    "        \"target_test_label_accuracy\": target_test_label_accuracy,\n",
    "        \"target_test_label_loss\": target_test_label_loss,\n",
    "        \"source_val_label_accuracy\": source_val_label_accuracy,\n",
    "        \"source_val_label_loss\": source_val_label_loss,\n",
    "        \"target_val_label_accuracy\": target_val_label_accuracy,\n",
    "        \"target_val_label_loss\": target_val_label_loss,\n",
    "        \"total_epochs_trained\": total_epochs_trained,\n",
    "        \"total_experiment_time_secs\": total_experiment_time_secs,\n",
    "        \"confusion\": confusion,\n",
    "        \"per_domain_accuracy\": per_domain_accuracy,\n",
    "    },\n",
    "    \"history\": history,\n",
    "    \"dataset_metrics\": get_dataset_metrics(datasets, \"ptn\"),\n",
    "}"
   ]
  },
  {
   "cell_type": "code",
   "execution_count": 25,
   "id": "54a21829",
   "metadata": {
    "execution": {
     "iopub.execute_input": "2022-03-26T21:21:49.907149Z",
     "iopub.status.busy": "2022-03-26T21:21:49.906844Z",
     "iopub.status.idle": "2022-03-26T21:21:50.038446Z",
     "shell.execute_reply": "2022-03-26T21:21:50.038906Z"
    },
    "papermill": {
     "duration": 0.170117,
     "end_time": "2022-03-26T21:21:50.039061",
     "exception": false,
     "start_time": "2022-03-26T21:21:49.868944",
     "status": "completed"
    },
    "tags": []
   },
   "outputs": [
    {
     "data": {
      "image/png": "[encoded data removed]",
      "text/plain": [
       "<Figure size 1080x504 with 1 Axes>"
      ]
     },
     "metadata": {
      "needs_background": "light"
     },
     "output_type": "display_data"
    }
   ],
   "source": [
    "ax = get_loss_curve(experiment)\n",
    "plt.show()"
   ]
  },
  {
   "cell_type": "code",
   "execution_count": 26,
   "id": "fd8a0f60",
   "metadata": {
    "execution": {
     "iopub.execute_input": "2022-03-26T21:21:50.116989Z",
     "iopub.status.busy": "2022-03-26T21:21:50.116715Z",
     "iopub.status.idle": "2022-03-26T21:21:50.285822Z",
     "shell.execute_reply": "2022-03-26T21:21:50.286154Z"
    },
    "papermill": {
     "duration": 0.208005,
     "end_time": "2022-03-26T21:21:50.286258",
     "exception": false,
     "start_time": "2022-03-26T21:21:50.078253",
     "status": "completed"
    },
    "tags": []
   },
   "outputs": [
    {
     "data": {
      "text/plain": [
       "<AxesSubplot:title={'center':'Results'}>"
      ]
     },
     "execution_count": 26,
     "metadata": {},
     "output_type": "execute_result"
    },
    {
     "data": {
      "image/png": "[encoded data removed]",
      "text/plain": [
       "<Figure size 1080x504 with 1 Axes>"
      ]
     },
     "metadata": {
      "needs_background": "light"
     },
     "output_type": "display_data"
    }
   ],
   "source": [
    "get_results_table(experiment)"
   ]
  },
  {
   "cell_type": "code",
   "execution_count": 27,
   "id": "cf8dc689",
   "metadata": {
    "execution": {
     "iopub.execute_input": "2022-03-26T21:21:50.366619Z",
     "iopub.status.busy": "2022-03-26T21:21:50.366084Z",
     "iopub.status.idle": "2022-03-26T21:21:50.504830Z",
     "shell.execute_reply": "2022-03-26T21:21:50.505257Z"
    },
    "papermill": {
     "duration": 0.178441,
     "end_time": "2022-03-26T21:21:50.505396",
     "exception": false,
     "start_time": "2022-03-26T21:21:50.326955",
     "status": "completed"
    },
    "tags": []
   },
   "outputs": [
    {
     "data": {
      "text/plain": [
       "<AxesSubplot:title={'center':'Per Domain Validation Accuracy'}, xlabel='domain'>"
      ]
     },
     "execution_count": 27,
     "metadata": {},
     "output_type": "execute_result"
    },
    {
     "data": {
      "image/png": "[encoded data removed]",
      "text/plain": [
       "<Figure size 1080x504 with 1 Axes>"
      ]
     },
     "metadata": {
      "needs_background": "light"
     },
     "output_type": "display_data"
    }
   ],
   "source": [
    "get_domain_accuracies(experiment)"
   ]
  },
  {
   "cell_type": "code",
   "execution_count": 28,
   "id": "a74ae082",
   "metadata": {
    "execution": {
     "iopub.execute_input": "2022-03-26T21:21:50.590647Z",
     "iopub.status.busy": "2022-03-26T21:21:50.590361Z",
     "iopub.status.idle": "2022-03-26T21:21:50.606356Z",
     "shell.execute_reply": "2022-03-26T21:21:50.606775Z"
    },
    "papermill": {
     "duration": 0.058563,
     "end_time": "2022-03-26T21:21:50.606905",
     "exception": false,
     "start_time": "2022-03-26T21:21:50.548342",
     "status": "completed"
    },
    "tags": []
   },
   "outputs": [
    {
     "name": "stdout",
     "output_type": "stream",
     "text": [
      "Source Test Label Accuracy: 0.9989418735891648 Target Test Label Accuracy: 0.5246744791666667\n",
      "Source Val Label Accuracy: 0.9988214285714285 Target Val Label Accuracy: 0.5253580729166667\n"
     ]
    }
   ],
   "source": [
    "print(\"Source Test Label Accuracy:\", experiment[\"results\"][\"source_test_label_accuracy\"], \"Target Test Label Accuracy:\", experiment[\"results\"][\"target_test_label_accuracy\"])\n",
    "print(\"Source Val Label Accuracy:\", experiment[\"results\"][\"source_val_label_accuracy\"], \"Target Val Label Accuracy:\", experiment[\"results\"][\"target_val_label_accuracy\"])"
   ]
  },
  {
   "cell_type": "code",
   "execution_count": 29,
   "id": "dacca602",
   "metadata": {
    "execution": {
     "iopub.execute_input": "2022-03-26T21:21:50.690816Z",
     "iopub.status.busy": "2022-03-26T21:21:50.690545Z",
     "iopub.status.idle": "2022-03-26T21:21:50.706734Z",
     "shell.execute_reply": "2022-03-26T21:21:50.707048Z"
    },
    "papermill": {
     "duration": 0.057779,
     "end_time": "2022-03-26T21:21:50.707153",
     "exception": false,
     "start_time": "2022-03-26T21:21:50.649374",
     "status": "completed"
    },
    "tags": [
     "experiment_json"
    ]
   },
   "outputs": [
    {
     "data": {
      "text/plain": [
       "'{\"experiment_name\": \"tl_3-jitter1v2:cores -> oracle.run1.framed\", \"parameters\": {\"experiment_name\": \"tl_3-jitter1v2:cores -> oracle.run1.framed\", \"device\": \"cuda\", \"lr\": 0.0001, \"x_shape\": [2, 256], \"n_shot\": 3, \"n_query\": 2, \"train_k_factor\": 3, \"val_k_factor\": 2, \"test_k_factor\": 2, \"torch_default_dtype\": \"torch.float32\", \"n_epoch\": 50, \"patience\": 3, \"criteria_for_best\": \"target_accuracy\", \"x_net\": [{\"class\": \"nnReshape\", \"kargs\": {\"shape\": [-1, 1, 2, 256]}}, {\"class\": \"Conv2d\", \"kargs\": {\"in_channels\": 1, \"out_channels\": 256, \"kernel_size\": [1, 7], \"bias\": false, \"padding\": [0, 3]}}, {\"class\": \"ReLU\", \"kargs\": {\"inplace\": true}}, {\"class\": \"BatchNorm2d\", \"kargs\": {\"num_features\": 256}}, {\"class\": \"Conv2d\", \"kargs\": {\"in_channels\": 256, \"out_channels\": 80, \"kernel_size\": [2, 7], \"bias\": true, \"padding\": [0, 3]}}, {\"class\": \"ReLU\", \"kargs\": {\"inplace\": true}}, {\"class\": \"BatchNorm2d\", \"kargs\": {\"num_features\": 80}}, {\"class\": \"Flatten\", \"kargs\": {}}, {\"class\": \"Linear\", \"kargs\": {\"in_features\": 20480, \"out_features\": 256}}, {\"class\": \"ReLU\", \"kargs\": {\"inplace\": true}}, {\"class\": \"BatchNorm1d\", \"kargs\": {\"num_features\": 256}}, {\"class\": \"Linear\", \"kargs\": {\"in_features\": 256, \"out_features\": 256}}], \"NUM_LOGS_PER_EPOCH\": 10, \"BEST_MODEL_PATH\": \"./best_model.pth\", \"n_way\": 16, \"datasets\": [{\"labels\": [\"1-10.\", \"1-11.\", \"1-15.\", \"1-16.\", \"1-17.\", \"1-18.\", \"1-19.\", \"10-4.\", \"10-7.\", \"11-1.\", \"11-14.\", \"11-17.\", \"11-20.\", \"11-7.\", \"13-20.\", \"13-8.\", \"14-10.\", \"14-11.\", \"14-14.\", \"14-7.\", \"15-1.\", \"15-20.\", \"16-1.\", \"16-16.\", \"17-10.\", \"17-11.\", \"17-2.\", \"19-1.\", \"19-16.\", \"19-19.\", \"19-20.\", \"19-3.\", \"2-10.\", \"2-11.\", \"2-17.\", \"2-18.\", \"2-20.\", \"2-3.\", \"2-4.\", \"2-5.\", \"2-6.\", \"2-7.\", \"2-8.\", \"3-13.\", \"3-18.\", \"3-3.\", \"4-1.\", \"4-10.\", \"4-11.\", \"4-19.\", \"5-5.\", \"6-15.\", \"7-10.\", \"7-14.\", \"8-18.\", \"8-20.\", \"8-3.\", \"8-8.\"], \"domains\": [1, 2, 3, 4, 5], \"num_examples_per_domain_per_label\": -1, \"pickle_path\": \"/mnt/wd500GB/CSC500/csc500-main/datasets/cores.stratified_ds.2022A.pkl\", \"source_or_target_dataset\": \"source\", \"x_transforms\": [\"jitter_256_1\", \"lowpass_+/-10MHz\", \"take_200\"], \"episode_transforms\": [], \"domain_prefix\": \"C_\"}, {\"labels\": [\"3123D52\", \"3123D65\", \"3123D79\", \"3123D80\", \"3123D54\", \"3123D70\", \"3123D7B\", \"3123D89\", \"3123D58\", \"3123D76\", \"3123D7D\", \"3123EFE\", \"3123D64\", \"3123D78\", \"3123D7E\", \"3124E4A\"], \"domains\": [32, 38, 8, 44, 14, 50, 20, 26], \"num_examples_per_domain_per_label\": 2000, \"pickle_path\": \"/mnt/wd500GB/CSC500/csc500-main/datasets/oracle.Run1_framed_2000Examples_stratified_ds.2022A.pkl\", \"source_or_target_dataset\": \"target\", \"x_transforms\": [\"jitter_256_1\", \"take_200\", \"resample_20Msps_to_25Msps\"], \"episode_transforms\": [], \"domain_prefix\": \"O_\"}], \"seed\": 420, \"dataset_seed\": 420, \"domains_source\": [\"C_1\", \"C_2\", \"C_3\", \"C_4\", \"C_5\"], \"domains_target\": [\"O_32\", \"O_38\", \"O_8\", \"O_44\", \"O_14\", \"O_50\", \"O_20\", \"O_26\"]}, \"results\": {\"source_test_label_accuracy\": 0.9989418735891648, \"source_test_label_loss\": 0.008928010240197182, \"target_test_label_accuracy\": 0.5246744791666667, \"target_test_label_loss\": 1.4341421127319336, \"source_val_label_accuracy\": 0.9988214285714285, \"source_val_label_loss\": 0.025129610672593117, \"target_val_label_accuracy\": 0.5253580729166667, \"target_val_label_loss\": 1.433852195739746, \"total_epochs_trained\": 9, \"total_experiment_time_secs\": 2923.6319410800934, \"confusion\": {\"C_4\": {\"42\": {\"42\": 32}, \"0\": {\"0\": 80}, \"1\": {\"1\": 40}, \"39\": {\"39\": 20}, \"28\": {\"28\": 32}, \"53\": {\"53\": 124}, \"19\": {\"19\": 144}, \"34\": {\"34\": 24}, \"33\": {\"33\": 36}, \"32\": {\"32\": 24}, \"10\": {\"10\": 136}, \"46\": {\"46\": 134}, \"20\": {\"20\": 122}, \"5\": {\"5\": 108}, \"40\": {\"40\": 124}, \"51\": {\"51\": 144}, \"37\": {\"37\": 24}, \"17\": {\"17\": 80}, \"45\": {\"45\": 96}, \"13\": {\"13\": 142}, \"27\": {\"27\": 144}, \"24\": {\"24\": 56}, \"30\": {\"30\": 44}, \"31\": {\"31\": 28}, \"41\": {\"41\": 34, \"38\": 1, \"13\": 1}, \"36\": {\"36\": 92}, \"16\": {\"16\": 96}, \"22\": {\"22\": 128}, \"44\": {\"44\": 132}, \"9\": {\"9\": 140}, \"57\": {\"57\": 100}, \"8\": {\"8\": 138}, \"23\": {\"23\": 132}, \"47\": {\"47\": 120}, \"43\": {\"43\": 138}, \"49\": {\"49\": 20}, \"3\": {\"3\": 123, \"50\": 1}, \"12\": {\"12\": 92}, \"38\": {\"38\": 40}, \"7\": {\"7\": 24}, \"14\": {\"14\": 14, \"38\": 1, \"43\": 1}, \"15\": {\"15\": 146}, \"25\": {\"25\": 128}, \"26\": {\"26\": 24}, \"21\": {\"21\": 132}, \"48\": {\"48\": 144}, \"56\": {\"56\": 134}, \"11\": {\"11\": 104}, \"2\": {\"2\": 36}, \"6\": {\"6\": 109, \"3\": 3}, \"55\": {\"55\": 140}, \"54\": {\"54\": 108}, \"29\": {\"29\": 124}, \"50\": {\"50\": 122}, \"52\": {\"52\": 116}, \"35\": {\"35\": 40}, \"4\": {\"4\": 120}, \"18\": {\"18\": 108}}, \"C_5\": {\"43\": {\"43\": 152}, \"35\": {\"35\": 36}, \"54\": {\"54\": 112}, \"22\": {\"22\": 28}, \"16\": {\"16\": 146}, \"5\": {\"5\": 128}, \"28\": {\"28\": 32}, \"14\": {\"14\": 44}, \"51\": {\"51\": 128}, \"19\": {\"19\": 140}, \"31\": {\"31\": 36}, \"10\": {\"10\": 68}, \"21\": {\"21\": 136}, \"3\": {\"3\": 100}, \"57\": {\"57\": 132}, \"9\": {\"9\": 146}, \"8\": {\"8\": 132}, \"46\": {\"46\": 140}, \"23\": {\"23\": 124}, \"37\": {\"37\": 24}, \"34\": {\"34\": 36}, \"4\": {\"4\": 100}, \"6\": {\"6\": 128}, \"48\": {\"48\": 136}, \"44\": {\"44\": 138}, \"40\": {\"40\": 124}, \"12\": {\"12\": 96}, \"30\": {\"30\": 128}, \"39\": {\"39\": 20}, \"45\": {\"45\": 123, \"50\": 1}, \"36\": {\"36\": 92}, \"27\": {\"27\": 140}, \"32\": {\"32\": 32}, \"52\": {\"52\": 130}, \"0\": {\"0\": 124}, \"26\": {\"26\": 24}, \"1\": {\"1\": 148}, \"53\": {\"53\": 146}, \"25\": {\"25\": 144}, \"24\": {\"24\": 80}, \"7\": {\"7\": 32}, \"18\": {\"18\": 64}, \"20\": {\"20\": 144}, \"33\": {\"33\": 32}, \"55\": {\"55\": 140}, \"41\": {\"41\": 28}, \"42\": {\"42\": 37, \"46\": 1, \"36\": 2}, \"49\": {\"49\": 36}, \"13\": {\"13\": 148}, \"38\": {\"38\": 32}, \"2\": {\"2\": 28}, \"47\": {\"47\": 100}, \"17\": {\"17\": 116}, \"11\": {\"11\": 154}, \"29\": {\"29\": 132}, \"50\": {\"50\": 138}, \"56\": {\"56\": 148}, \"15\": {\"15\": 142}}, \"C_2\": {\"49\": {\"49\": 24}, \"13\": {\"13\": 116}, \"37\": {\"37\": 36}, \"41\": {\"41\": 19, \"1\": 1}, \"15\": {\"15\": 142}, \"56\": {\"56\": 139, \"11\": 1, \"0\": 2}, \"14\": {\"14\": 24}, \"3\": {\"3\": 92}, \"38\": {\"38\": 20}, \"43\": {\"43\": 138}, \"33\": {\"33\": 28}, \"47\": {\"47\": 138}, \"30\": {\"30\": 144}, \"39\": {\"39\": 28}, \"12\": {\"12\": 92}, \"6\": {\"6\": 124}, \"51\": {\"51\": 134}, \"5\": {\"5\": 120}, \"34\": {\"34\": 28}, \"35\": {\"35\": 32}, \"0\": {\"0\": 48}, \"7\": {\"7\": 36}, \"24\": {\"24\": 96}, \"8\": {\"8\": 136}, \"20\": {\"20\": 124}, \"36\": {\"36\": 116}, \"42\": {\"42\": 36}, \"1\": {\"1\": 112}, \"4\": {\"4\": 148}, \"28\": {\"28\": 28}, \"50\": {\"50\": 136}, \"45\": {\"45\": 128}, \"18\": {\"18\": 48}, \"57\": {\"57\": 120}, \"46\": {\"46\": 128}, \"23\": {\"23\": 148}, \"27\": {\"27\": 138}, \"19\": {\"19\": 134}, \"22\": {\"22\": 136}, \"17\": {\"17\": 104}, \"55\": {\"55\": 136}, \"44\": {\"44\": 100}, \"26\": {\"26\": 22, \"54\": 2}, \"31\": {\"31\": 28}, \"16\": {\"16\": 130}, \"11\": {\"11\": 128}, \"25\": {\"25\": 126}, \"54\": {\"54\": 108}, \"32\": {\"32\": 28}, \"52\": {\"52\": 124}, \"40\": {\"40\": 131, \"29\": 1}, \"2\": {\"2\": 32}, \"10\": {\"10\": 110}, \"53\": {\"53\": 136}, \"9\": {\"9\": 150}, \"21\": {\"21\": 120}, \"48\": {\"48\": 138}, \"29\": {\"29\": 128}}, \"C_1\": {\"9\": {\"9\": 142}, \"25\": {\"25\": 128}, \"41\": {\"41\": 24}, \"29\": {\"29\": 140}, \"46\": {\"46\": 128}, \"4\": {\"4\": 132}, \"31\": {\"31\": 28}, \"36\": {\"36\": 64}, \"20\": {\"20\": 128}, \"7\": {\"7\": 28}, \"6\": {\"6\": 96}, \"16\": {\"16\": 138}, \"17\": {\"17\": 64}, \"50\": {\"50\": 148}, \"57\": {\"57\": 144}, \"23\": {\"23\": 136}, \"3\": {\"3\": 125, \"0\": 1}, \"53\": {\"53\": 140}, \"49\": {\"49\": 32}, \"56\": {\"56\": 152}, \"51\": {\"51\": 142}, \"26\": {\"26\": 24}, \"43\": {\"43\": 144}, \"22\": {\"22\": 136}, \"45\": {\"45\": 146}, \"13\": {\"13\": 152}, \"12\": {\"12\": 116}, \"54\": {\"54\": 104}, \"24\": {\"24\": 108}, \"44\": {\"44\": 136}, \"28\": {\"28\": 28}, \"33\": {\"33\": 32}, \"38\": {\"38\": 24}, \"0\": {\"0\": 144}, \"47\": {\"47\": 154}, \"42\": {\"42\": 40}, \"34\": {\"34\": 24}, \"48\": {\"48\": 142}, \"35\": {\"35\": 36}, \"2\": {\"2\": 36}, \"30\": {\"30\": 120}, \"18\": {\"18\": 72}, \"37\": {\"37\": 32}, \"1\": {\"1\": 100}, \"11\": {\"11\": 138}, \"55\": {\"55\": 130}, \"15\": {\"15\": 150}, \"10\": {\"10\": 96}, \"27\": {\"27\": 160}, \"19\": {\"19\": 146}, \"14\": {\"30\": 2, \"14\": 22}, \"8\": {\"8\": 140}, \"5\": {\"5\": 136}, \"39\": {\"39\": 28}, \"52\": {\"52\": 122}, \"21\": {\"21\": 124}, \"40\": {\"40\": 152}, \"32\": {\"32\": 32}}, \"C_3\": {\"56\": {\"56\": 120}, \"4\": {\"4\": 146}, \"34\": {\"34\": 32}, \"52\": {\"52\": 136}, \"32\": {\"32\": 28}, \"46\": {\"46\": 136}, \"12\": {\"12\": 88, \"21\": 2, \"46\": 2}, \"20\": {\"20\": 132}, \"54\": {\"54\": 100}, \"22\": {\"22\": 140}, \"26\": {\"26\": 24}, \"31\": {\"31\": 28}, \"10\": {\"10\": 64}, \"27\": {\"27\": 144}, \"40\": {\"40\": 136}, \"28\": {\"28\": 28}, \"5\": {\"5\": 116}, \"30\": {\"30\": 120}, \"7\": {\"7\": 36}, \"18\": {\"18\": 84}, \"39\": {\"39\": 16}, \"50\": {\"50\": 136}, \"49\": {\"49\": 20}, \"43\": {\"43\": 122}, \"29\": {\"29\": 114}, \"35\": {\"35\": 28}, \"13\": {\"13\": 122, \"47\": 2}, \"36\": {\"36\": 100}, \"11\": {\"11\": 146}, \"57\": {\"57\": 124}, \"9\": {\"9\": 130}, \"25\": {\"25\": 130}, \"16\": {\"16\": 126}, \"53\": {\"53\": 118}, \"33\": {\"33\": 28}, \"51\": {\"51\": 128}, \"44\": {\"44\": 88}, \"48\": {\"48\": 114}, \"6\": {\"6\": 88}, \"23\": {\"23\": 144}, \"1\": {\"1\": 100}, \"17\": {\"38\": 2, \"17\": 104, \"53\": 2}, \"21\": {\"21\": 122}, \"14\": {\"14\": 40}, \"55\": {\"55\": 144}, \"41\": {\"41\": 28}, \"3\": {\"3\": 137, \"50\": 1}, \"38\": {\"38\": 28}, \"2\": {\"2\": 32}, \"8\": {\"8\": 142}, \"37\": {\"37\": 28}, \"45\": {\"45\": 60}, \"42\": {\"42\": 28}, \"24\": {\"24\": 104}, \"15\": {\"15\": 136}, \"0\": {\"0\": 124}, \"47\": {\"47\": 92}, \"19\": {\"19\": 120}}, \"O_14\": {\"15\": {\"15\": 240}, \"5\": {\"8\": 25, \"2\": 44, \"5\": 97, \"14\": 19, \"0\": 17, \"4\": 24, \"7\": 10, \"3\": 2, \"6\": 1, \"13\": 1}, \"7\": {\"5\": 32, \"7\": 161, \"3\": 20, \"14\": 1, \"8\": 10, \"13\": 5, \"6\": 6, \"0\": 1, \"2\": 4}, \"4\": {\"4\": 149, \"8\": 9, \"0\": 5, \"2\": 14, \"10\": 32, \"12\": 6, \"5\": 23, \"13\": 1, \"1\": 1}, \"10\": {\"10\": 186, \"4\": 17, \"9\": 29, \"12\": 4, \"1\": 4}, \"11\": {\"11\": 237, \"1\": 2, \"9\": 1}, \"12\": {\"12\": 200, \"10\": 13, \"8\": 6, \"0\": 15, \"5\": 2, \"9\": 1, \"4\": 2, \"2\": 1}, \"0\": {\"13\": 20, \"3\": 38, \"0\": 56, \"8\": 9, \"2\": 27, \"5\": 13, \"14\": 34, \"12\": 12, \"4\": 17, \"6\": 13, \"7\": 1}, \"14\": {\"5\": 16, \"6\": 22, \"3\": 24, \"14\": 63, \"0\": 36, \"2\": 53, \"13\": 24, \"8\": 1, \"7\": 1}, \"8\": {\"8\": 149, \"5\": 42, \"2\": 7, \"0\": 13, \"12\": 5, \"7\": 8, \"4\": 12, \"3\": 3, \"14\": 1}, \"13\": {\"3\": 25, \"0\": 13, \"6\": 68, \"13\": 47, \"5\": 15, \"14\": 39, \"2\": 16, \"15\": 14, \"7\": 1, \"4\": 2}, \"6\": {\"3\": 35, \"6\": 104, \"2\": 7, \"0\": 5, \"13\": 62, \"14\": 26, \"5\": 1}, \"1\": {\"1\": 217, \"9\": 20, \"4\": 2, \"10\": 1}, \"3\": {\"3\": 104, \"14\": 28, \"6\": 34, \"13\": 25, \"7\": 3, \"0\": 29, \"8\": 2, \"2\": 13, \"5\": 2}, \"9\": {\"10\": 33, \"9\": 183, \"1\": 24}, \"2\": {\"5\": 46, \"0\": 17, \"13\": 24, \"4\": 48, \"3\": 17, \"2\": 36, \"6\": 23, \"14\": 24, \"7\": 3, \"8\": 2}}, \"O_20\": {\"4\": {\"13\": 18, \"4\": 82, \"12\": 48, \"15\": 12, \"10\": 30, \"7\": 9, \"1\": 5, \"2\": 13, \"3\": 4, \"6\": 9, \"9\": 5, \"8\": 2, \"5\": 3}, \"10\": {\"10\": 157, \"4\": 53, \"15\": 3, \"13\": 17, \"12\": 8, \"7\": 1, \"6\": 1}, \"15\": {\"1\": 26, \"13\": 36, \"12\": 30, \"15\": 45, \"5\": 15, \"2\": 36, \"4\": 7, \"9\": 21, \"7\": 12, \"14\": 1, \"3\": 7, \"6\": 4}, \"0\": {\"0\": 169, \"8\": 26, \"11\": 26, \"14\": 6, \"3\": 10, \"1\": 2, \"5\": 1}, \"6\": {\"7\": 45, \"6\": 91, \"13\": 11, \"4\": 5, \"14\": 19, \"2\": 22, \"5\": 4, \"3\": 6, \"15\": 6, \"8\": 10, \"9\": 11, \"1\": 3, \"12\": 6, \"10\": 1}, \"3\": {\"8\": 45, \"9\": 30, \"5\": 36, \"3\": 34, \"14\": 22, \"0\": 15, \"6\": 5, \"7\": 9, \"1\": 27, \"2\": 13, \"15\": 3, \"4\": 1}, \"7\": {\"1\": 11, \"6\": 39, \"13\": 17, \"2\": 45, \"8\": 5, \"7\": 31, \"9\": 18, \"3\": 17, \"5\": 15, \"12\": 8, \"15\": 20, \"4\": 5, \"14\": 9}, \"2\": {\"2\": 41, \"15\": 20, \"13\": 44, \"9\": 20, \"4\": 16, \"1\": 18, \"7\": 31, \"6\": 17, \"12\": 23, \"5\": 7, \"3\": 3}, \"8\": {\"5\": 12, \"14\": 69, \"8\": 77, \"3\": 33, \"0\": 28, \"6\": 5, \"7\": 4, \"9\": 9, \"1\": 1, \"11\": 1, \"2\": 1}, \"11\": {\"11\": 210, \"0\": 30}, \"14\": {\"8\": 70, \"3\": 21, \"14\": 96, \"6\": 14, \"5\": 19, \"7\": 5, \"9\": 5, \"0\": 7, \"12\": 1, \"1\": 2}, \"12\": {\"4\": 42, \"13\": 34, \"12\": 60, \"2\": 26, \"7\": 12, \"10\": 5, \"9\": 12, \"6\": 8, \"1\": 12, \"15\": 22, \"3\": 1, \"5\": 6}, \"13\": {\"10\": 12, \"13\": 116, \"2\": 34, \"12\": 30, \"7\": 8, \"4\": 10, \"15\": 16, \"1\": 1, \"9\": 6, \"6\": 7}, \"9\": {\"3\": 33, \"1\": 41, \"5\": 37, \"9\": 37, \"14\": 9, \"2\": 16, \"8\": 14, \"12\": 5, \"15\": 19, \"6\": 9, \"7\": 18, \"4\": 1, \"13\": 1}, \"5\": {\"5\": 55, \"3\": 43, \"9\": 38, \"1\": 43, \"7\": 7, \"8\": 19, \"14\": 7, \"6\": 3, \"15\": 16, \"2\": 5, \"12\": 3, \"0\": 1}, \"1\": {\"5\": 37, \"2\": 16, \"9\": 35, \"13\": 6, \"7\": 16, \"15\": 38, \"8\": 5, \"3\": 34, \"12\": 8, \"1\": 39, \"6\": 4, \"14\": 2}}, \"O_50\": {\"5\": {\"7\": 61, \"15\": 30, \"5\": 60, \"6\": 36, \"9\": 4, \"11\": 15, \"13\": 11, \"3\": 5, \"4\": 18}, \"12\": {\"9\": 37, \"6\": 7, \"12\": 139, \"11\": 46, \"15\": 9, \"13\": 1, \"5\": 1}, \"14\": {\"14\": 142, \"2\": 59, \"0\": 38, \"10\": 1}, \"4\": {\"4\": 126, \"7\": 86, \"5\": 21, \"15\": 2, \"9\": 2, \"6\": 3}, \"13\": {\"1\": 25, \"13\": 195, \"11\": 14, \"5\": 1, \"8\": 2, \"3\": 3}, \"10\": {\"8\": 34, \"10\": 172, \"0\": 29, \"2\": 2, \"1\": 3}, \"9\": {\"9\": 91, \"15\": 55, \"6\": 32, \"11\": 13, \"12\": 35, \"5\": 13, \"7\": 1}, \"15\": {\"11\": 6, \"15\": 111, \"9\": 33, \"6\": 64, \"5\": 22, \"4\": 1, \"12\": 3}, \"6\": {\"6\": 93, \"15\": 73, \"9\": 24, \"5\": 23, \"3\": 7, \"11\": 14, \"12\": 5, \"7\": 1}, \"2\": {\"0\": 70, \"2\": 120, \"10\": 4, \"14\": 46}, \"0\": {\"14\": 14, \"2\": 57, \"0\": 132, \"10\": 37}, \"11\": {\"12\": 45, \"11\": 141, \"6\": 9, \"5\": 7, \"9\": 21, \"15\": 10, \"3\": 1, \"13\": 6}, \"3\": {\"3\": 183, \"5\": 11, \"6\": 22, \"13\": 12, \"11\": 3, \"15\": 8, \"9\": 1}, \"8\": {\"8\": 180, \"1\": 34, \"10\": 23, \"13\": 3}, \"7\": {\"4\": 75, \"7\": 143, \"5\": 20, \"9\": 1, \"15\": 1}, \"1\": {\"8\": 30, \"1\": 141, \"13\": 49, \"10\": 17, \"0\": 2, \"11\": 1}}, \"O_26\": {\"7\": {\"2\": 27, \"7\": 60, \"9\": 39, \"8\": 57, \"13\": 3, \"0\": 8, \"3\": 42, \"12\": 4}, \"6\": {\"5\": 36, \"1\": 44, \"15\": 44, \"11\": 5, \"6\": 66, \"10\": 22, \"14\": 19, \"0\": 3, \"2\": 1}, \"14\": {\"10\": 73, \"15\": 16, \"14\": 65, \"0\": 38, \"6\": 17, \"5\": 6, \"1\": 21, \"2\": 4}, \"15\": {\"0\": 12, \"14\": 18, \"6\": 49, \"15\": 63, \"11\": 4, \"2\": 1, \"10\": 23, \"5\": 42, \"1\": 28}, \"5\": {\"5\": 92, \"6\": 41, \"1\": 30, \"15\": 50, \"11\": 18, \"14\": 5, \"10\": 1, \"0\": 2, \"2\": 1}, \"10\": {\"10\": 73, \"15\": 23, \"14\": 60, \"2\": 3, \"6\": 16, \"0\": 53, \"1\": 9, \"5\": 3}, \"4\": {\"13\": 10, \"4\": 217, \"3\": 12, \"12\": 1}, \"11\": {\"11\": 154, \"1\": 13, \"6\": 23, \"15\": 13, \"5\": 34, \"0\": 2, \"14\": 1}, \"13\": {\"13\": 120, \"4\": 30, \"12\": 11, \"7\": 4, \"3\": 32, \"9\": 25, \"8\": 7, \"2\": 11}, \"2\": {\"9\": 34, \"3\": 21, \"2\": 77, \"7\": 33, \"0\": 28, \"8\": 34, \"13\": 4, \"14\": 2, \"6\": 1, \"12\": 2, \"10\": 4}, \"0\": {\"10\": 47, \"0\": 100, \"2\": 27, \"14\": 40, \"7\": 4, \"9\": 5, \"6\": 3, \"1\": 2, \"8\": 9, \"15\": 3}, \"12\": {\"12\": 149, \"8\": 21, \"13\": 31, \"9\": 11, \"3\": 10, \"7\": 14, \"4\": 2, \"2\": 2}, \"3\": {\"8\": 25, \"3\": 83, \"13\": 27, \"9\": 43, \"7\": 44, \"12\": 4, \"4\": 6, \"2\": 8}, \"9\": {\"7\": 31, \"9\": 45, \"3\": 40, \"8\": 29, \"12\": 8, \"13\": 34, \"2\": 39, \"0\": 12, \"4\": 1, \"10\": 1}, \"8\": {\"7\": 48, \"9\": 33, \"8\": 71, \"3\": 21, \"2\": 41, \"12\": 5, \"13\": 8, \"0\": 12, \"10\": 1}, \"1\": {\"5\": 14, \"1\": 134, \"6\": 33, \"10\": 15, \"14\": 17, \"15\": 17, \"0\": 3, \"11\": 7}}, \"O_32\": {\"7\": {\"0\": 42, \"14\": 38, \"7\": 89, \"8\": 11, \"5\": 58, \"15\": 2}, \"2\": {\"2\": 124, \"4\": 86, \"8\": 5, \"3\": 7, \"14\": 12, \"13\": 4, \"0\": 2}, \"5\": {\"5\": 108, \"7\": 46, \"0\": 26, \"8\": 20, \"14\": 23, \"15\": 16, \"2\": 1}, \"6\": {\"6\": 219, \"10\": 21}, \"13\": {\"3\": 49, \"11\": 27, \"13\": 116, \"4\": 34, \"9\": 9, \"2\": 5}, \"4\": {\"4\": 108, \"3\": 32, \"13\": 24, \"2\": 75, \"8\": 1}, \"3\": {\"3\": 130, \"4\": 39, \"13\": 55, \"2\": 14, \"11\": 1, \"9\": 1}, \"0\": {\"14\": 46, \"0\": 64, \"7\": 41, \"8\": 43, \"5\": 40, \"15\": 4, \"2\": 2}, \"9\": {\"9\": 142, \"13\": 37, \"11\": 8, \"4\": 8, \"12\": 42, \"1\": 2, \"3\": 1}, \"12\": {\"12\": 221, \"10\": 9, \"9\": 10}, \"8\": {\"7\": 22, \"5\": 27, \"14\": 38, \"8\": 78, \"0\": 58, \"15\": 6, \"4\": 3, \"2\": 6, \"3\": 2}, \"14\": {\"14\": 76, \"0\": 47, \"7\": 34, \"5\": 31, \"2\": 22, \"8\": 16, \"4\": 12, \"3\": 2}, \"15\": {\"8\": 5, \"5\": 17, \"0\": 6, \"15\": 207, \"7\": 5}, \"11\": {\"11\": 208, \"13\": 20, \"9\": 12}, \"10\": {\"10\": 235, \"12\": 4, \"6\": 1}, \"1\": {\"1\": 240}}, \"O_44\": {\"11\": {\"11\": 240}, \"7\": {\"9\": 62, \"7\": 102, \"10\": 42, \"4\": 23, \"14\": 4, \"13\": 1, \"6\": 5, \"5\": 1}, \"6\": {\"13\": 72, \"6\": 144, \"9\": 23, \"7\": 1}, \"12\": {\"3\": 94, \"12\": 146}, \"4\": {\"5\": 30, \"7\": 41, \"9\": 37, \"4\": 50, \"14\": 26, \"15\": 25, \"10\": 11, \"2\": 15, \"6\": 2, \"8\": 3}, \"13\": {\"13\": 146, \"6\": 83, \"9\": 10, \"11\": 1}, \"8\": {\"8\": 117, \"0\": 53, \"15\": 55, \"5\": 3, \"14\": 9, \"3\": 2, \"1\": 1}, \"5\": {\"9\": 4, \"14\": 63, \"5\": 83, \"4\": 43, \"15\": 36, \"8\": 6, \"2\": 2, \"1\": 1, \"7\": 1, \"10\": 1}, \"14\": {\"14\": 85, \"4\": 57, \"15\": 18, \"2\": 4, \"5\": 55, \"7\": 11, \"9\": 7, \"10\": 3}, \"3\": {\"12\": 106, \"3\": 130, \"0\": 4}, \"10\": {\"7\": 74, \"4\": 12, \"10\": 89, \"9\": 37, \"15\": 1, \"1\": 11, \"6\": 2, \"2\": 4, \"5\": 1, \"14\": 9}, \"1\": {\"1\": 156, \"10\": 1, \"2\": 57, \"8\": 5, \"0\": 11, \"15\": 8, \"14\": 1, \"4\": 1}, \"2\": {\"2\": 163, \"10\": 10, \"1\": 43, \"5\": 4, \"4\": 5, \"0\": 1, \"15\": 6, \"7\": 1, \"14\": 6, \"9\": 1}, \"15\": {\"15\": 93, \"8\": 47, \"14\": 33, \"1\": 4, \"0\": 7, \"4\": 13, \"5\": 40, \"2\": 2, \"10\": 1}, \"9\": {\"10\": 26, \"4\": 18, \"6\": 41, \"9\": 59, \"7\": 51, \"14\": 13, \"13\": 25, \"5\": 1, \"2\": 5, \"1\": 1}, \"0\": {\"8\": 56, \"0\": 173, \"3\": 2, \"15\": 7, \"1\": 2}}, \"O_8\": {\"10\": {\"5\": 37, \"10\": 57, \"13\": 43, \"6\": 41, \"1\": 23, \"7\": 29, \"4\": 4, \"11\": 6}, \"6\": {\"1\": 26, \"5\": 8, \"6\": 83, \"4\": 18, \"7\": 50, \"11\": 7, \"13\": 9, \"10\": 33, \"8\": 6}, \"13\": {\"7\": 44, \"10\": 55, \"5\": 31, \"13\": 84, \"1\": 6, \"6\": 19, \"4\": 1}, \"3\": {\"3\": 215, \"2\": 23, \"9\": 2}, \"9\": {\"9\": 231, \"3\": 9}, \"1\": {\"13\": 4, \"10\": 28, \"11\": 40, \"1\": 86, \"6\": 17, \"5\": 32, \"4\": 19, \"7\": 7, \"8\": 7}, \"5\": {\"10\": 52, \"13\": 37, \"6\": 13, \"5\": 85, \"1\": 24, \"4\": 8, \"7\": 9, \"11\": 8, \"8\": 2, \"14\": 1, \"12\": 1}, \"11\": {\"4\": 43, \"10\": 8, \"6\": 12, \"1\": 51, \"11\": 60, \"14\": 19, \"8\": 35, \"5\": 5, \"13\": 1, \"7\": 6}, \"4\": {\"4\": 115, \"1\": 9, \"14\": 38, \"6\": 7, \"11\": 28, \"8\": 38, \"5\": 3, \"7\": 1, \"10\": 1}, \"14\": {\"14\": 175, \"4\": 38, \"8\": 16, \"11\": 9, \"0\": 1, \"1\": 1}, \"12\": {\"12\": 157, \"15\": 77, \"2\": 6}, \"7\": {\"7\": 87, \"10\": 34, \"13\": 34, \"6\": 76, \"1\": 2, \"5\": 5, \"8\": 1, \"11\": 1}, \"0\": {\"0\": 240}, \"15\": {\"15\": 139, \"12\": 77, \"2\": 24}, \"2\": {\"2\": 124, \"3\": 44, \"12\": 38, \"15\": 32, \"13\": 1, \"5\": 1}, \"8\": {\"1\": 17, \"5\": 4, \"11\": 66, \"8\": 85, \"6\": 8, \"4\": 44, \"14\": 15, \"10\": 1}}, \"O_38\": {\"4\": {\"4\": 226, \"10\": 5, \"0\": 8, \"13\": 1}, \"7\": {\"2\": 28, \"7\": 156, \"8\": 2, \"9\": 8, \"14\": 37, \"13\": 3, \"0\": 3, \"4\": 1, \"5\": 2}, \"12\": {\"8\": 9, \"5\": 6, \"12\": 224, \"15\": 1}, \"10\": {\"10\": 161, \"0\": 50, \"4\": 12, \"13\": 15, \"3\": 2}, \"0\": {\"13\": 65, \"0\": 61, \"2\": 6, \"10\": 78, \"7\": 12, \"4\": 5, \"3\": 10, \"14\": 3}, \"1\": {\"6\": 96, \"1\": 144}, \"5\": {\"2\": 16, \"5\": 73, \"8\": 78, \"12\": 10, \"9\": 35, \"15\": 20, \"7\": 7, \"14\": 1}, \"15\": {\"5\": 18, \"15\": 181, \"1\": 6, \"8\": 16, \"6\": 12, \"12\": 7}, \"9\": {\"9\": 141, \"8\": 26, \"5\": 32, \"7\": 21, \"2\": 20}, \"11\": {\"11\": 238, \"3\": 2}, \"14\": {\"7\": 39, \"14\": 130, \"8\": 3, \"2\": 55, \"10\": 1, \"13\": 7, \"4\": 4, \"9\": 1}, \"6\": {\"1\": 78, \"6\": 162}, \"8\": {\"2\": 22, \"9\": 23, \"8\": 60, \"15\": 18, \"5\": 61, \"7\": 28, \"12\": 22, \"14\": 6}, \"3\": {\"3\": 237, \"11\": 3}, \"2\": {\"8\": 10, \"14\": 52, \"2\": 132, \"7\": 31, \"9\": 11, \"5\": 4}, \"13\": {\"13\": 142, \"4\": 3, \"2\": 6, \"10\": 15, \"0\": 61, \"7\": 7, \"14\": 6}}}, \"per_domain_accuracy\": {\"C_4\": {\"accuracy\": 0.9985029940119761, \"source?\": true}, \"C_5\": {\"accuracy\": 0.9993016759776536, \"source?\": true}, \"C_2\": {\"accuracy\": 0.99875, \"source?\": true}, \"C_1\": {\"accuracy\": 0.9994904891304348, \"source?\": true}, \"C_3\": {\"accuracy\": 0.9979779411764705, \"source?\": true}, \"O_14\": {\"accuracy\": 0.58046875, \"source?\": false}, \"O_20\": {\"accuracy\": 0.3489583333333333, \"source?\": false}, \"O_50\": {\"accuracy\": 0.56484375, \"source?\": false}, \"O_26\": {\"accuracy\": 0.40859375, \"source?\": false}, \"O_32\": {\"accuracy\": 0.6158854166666666, \"source?\": false}, \"O_44\": {\"accuracy\": 0.5145833333333333, \"source?\": false}, \"O_8\": {\"accuracy\": 0.5268229166666667, \"source?\": false}, \"O_38\": {\"accuracy\": 0.6427083333333333, \"source?\": false}}}, \"history\": {\"epoch_indices\": [1, 2, 3, 4, 5, 6, 7, 8, 9], \"train_label_loss\": [0.03394679607759324, 0.27285542033217186, 0.012431905050594777, 0.01363751083315346, 0.00527362730982157, 0.005204111372551947, 0.005814047068830222, 0.004722052196384225, 0.007992527968512656], \"source_val_label_loss\": [0.7928469777107239, 0.0806354433298111, 0.031846776604652405, 0.023522483184933662, 0.025129610672593117, 0.035027869045734406, 0.037261757999658585, 0.09332340955734253, 0.02957148477435112], \"target_val_label_loss\": [18.663293838500977, 1.6479958295822144, 2.234522819519043, 1.493738055229187, 1.433852195739746, 1.4470257759094238, 6.3643927574157715, 26.565162658691406, 1.4948065280914307], \"source_val_acc_label\": [0.9915, 0.9966071428571428, 0.99825, 0.9983214285714286, 0.9988214285714285, 0.9985714285714286, 0.9985, 0.9986785714285714, 0.9987142857142857], \"target_val_acc_label\": [0.24905598958333333, 0.43723958333333335, 0.4313151041666667, 0.479296875, 0.5253580729166667, 0.48541666666666666, 0.3873372395833333, 0.28818359375, 0.5065755208333333]}, \"dataset_metrics\": {\"source\": {\"train\": {\"n_unique_x\": 175160, \"n_unique_y\": 58, \"n_batch/episode\": 6306}, \"val\": {\"n_unique_x\": 37216, \"n_unique_y\": 58, \"n_batch/episode\": 875}, \"test\": {\"n_unique_x\": 37596, \"n_unique_y\": 58, \"n_batch/episode\": 886}}, \"target\": {\"train\": {\"n_unique_x\": 179200, \"n_unique_y\": 16, \"n_batch/episode\": 6720}, \"val\": {\"n_unique_x\": 38400, \"n_unique_y\": 16, \"n_batch/episode\": 960}, \"test\": {\"n_unique_x\": 38400, \"n_unique_y\": 16, \"n_batch/episode\": 960}}}}'"
      ]
     },
     "execution_count": 29,
     "metadata": {},
     "output_type": "execute_result"
    }
   ],
   "source": [
    "json.dumps(experiment)"
   ]
  }
 ],
 "metadata": {
  "celltoolbar": "Tags",
  "kernelspec": {
   "display_name": "Python 3 (ipykernel)",
   "language": "python",
   "name": "python3"
  },
  "language_info": {
   "codemirror_mode": {
    "name": "ipython",
    "version": 3
   },
   "file_extension": ".py",
   "mimetype": "text/x-python",
   "name": "python",
   "nbconvert_exporter": "python",
   "pygments_lexer": "ipython3",
   "version": "3.8.10"
  },
  "papermill": {
   "default_parameters": {},
   "duration": 3098.002108,
   "end_time": "2022-03-26T21:21:52.062576",
   "environment_variables": {},
   "exception": null,
   "input_path": "/mnt/wd500GB/CSC500/csc500-main/csc500-notebooks/templates/tl_ptn_template.ipynb",
   "output_path": "trial.ipynb",
   "parameters": {
    "parameters": {
     "BEST_MODEL_PATH": "./best_model.pth",
     "NUM_LOGS_PER_EPOCH": 10,
     "criteria_for_best": "target_accuracy",
     "dataset_seed": 420,
     "datasets": [
      {
       "domain_prefix": "C_",
       "domains": [
        1,
        2,
        3,
        4,
        5
       ],
       "episode_transforms": [],
       "labels": [
        "1-10.",
        "1-11.",
        "1-15.",
        "1-16.",
        "1-17.",
        "1-18.",
        "1-19.",
        "10-4.",
        "10-7.",
        "11-1.",
        "11-14.",
        "11-17.",
        "11-20.",
        "11-7.",
        "13-20.",
        "13-8.",
        "14-10.",
        "14-11.",
        "14-14.",
        "14-7.",
        "15-1.",
        "15-20.",
        "16-1.",
        "16-16.",
        "17-10.",
        "17-11.",
        "17-2.",
        "19-1.",
        "19-16.",
        "19-19.",
        "19-20.",
        "19-3.",
        "2-10.",
        "2-11.",
        "2-17.",
        "2-18.",
        "2-20.",
        "2-3.",
        "2-4.",
        "2-5.",
        "2-6.",
        "2-7.",
        "2-8.",
        "3-13.",
        "3-18.",
        "3-3.",
        "4-1.",
        "4-10.",
        "4-11.",
        "4-19.",
        "5-5.",
        "6-15.",
        "7-10.",
        "7-14.",
        "8-18.",
        "8-20.",
        "8-3.",
        "8-8."
       ],
       "num_examples_per_domain_per_label": -1,
       "pickle_path": "/mnt/wd500GB/CSC500/csc500-main/datasets/cores.stratified_ds.2022A.pkl",
       "source_or_target_dataset": "source",
       "x_transforms": [
        "jitter_256_1",
        "lowpass_+/-10MHz",
        "take_200"
       ]
      },
      {
       "domain_prefix": "O_",
       "domains": [
        32,
        38,
        8,
        44,
        14,
        50,
        20,
        26
       ],
       "episode_transforms": [],
       "labels": [
        "3123D52",
        "3123D65",
        "3123D79",
        "3123D80",
        "3123D54",
        "3123D70",
        "3123D7B",
        "3123D89",
        "3123D58",
        "3123D76",
        "3123D7D",
        "3123EFE",
        "3123D64",
        "3123D78",
        "3123D7E",
        "3124E4A"
       ],
       "num_examples_per_domain_per_label": 2000,
       "pickle_path": "/mnt/wd500GB/CSC500/csc500-main/datasets/oracle.Run1_framed_2000Examples_stratified_ds.2022A.pkl",
       "source_or_target_dataset": "target",
       "x_transforms": [
        "jitter_256_1",
        "take_200",
        "resample_20Msps_to_25Msps"
       ]
      }
     ],
     "device": "cuda",
     "experiment_name": "tl_3-jitter1v2:cores -> oracle.run1.framed",
     "lr": 0.0001,
     "n_epoch": 50,
     "n_query": 2,
     "n_shot": 3,
     "n_way": 16,
     "patience": 3,
     "seed": 420,
     "test_k_factor": 2,
     "torch_default_dtype": "torch.float32",
     "train_k_factor": 3,
     "val_k_factor": 2,
     "x_net": [
      {
       "class": "nnReshape",
       "kargs": {
        "shape": [
         -1,
         1,
         2,
         256
        ]
       }
      },
      {
       "class": "Conv2d",
       "kargs": {
        "bias": false,
        "in_channels": 1,
        "kernel_size": [
         1,
         7
        ],
        "out_channels": 256,
        "padding": [
         0,
         3
        ]
       }
      },
      {
       "class": "ReLU",
       "kargs": {
        "inplace": true
       }
      },
      {
       "class": "BatchNorm2d",
       "kargs": {
        "num_features": 256
       }
      },
      {
       "class": "Conv2d",
       "kargs": {
        "bias": true,
        "in_channels": 256,
        "kernel_size": [
         2,
         7
        ],
        "out_channels": 80,
        "padding": [
         0,
         3
        ]
       }
      },
      {
       "class": "ReLU",
       "kargs": {
        "inplace": true
       }
      },
      {
       "class": "BatchNorm2d",
       "kargs": {
        "num_features": 80
       }
      },
      {
       "class": "Flatten",
       "kargs": {}
      },
      {
       "class": "Linear",
       "kargs": {
        "in_features": 20480,
        "out_features": 256
       }
      },
      {
       "class": "ReLU",
       "kargs": {
        "inplace": true
       }
      },
      {
       "class": "BatchNorm1d",
       "kargs": {
        "num_features": 256
       }
      },
      {
       "class": "Linear",
       "kargs": {
        "in_features": 256,
        "out_features": 256
       }
      }
     ],
     "x_shape": [
      2,
      256
     ]
    }
   },
   "start_time": "2022-03-26T20:30:14.060468",
   "version": "2.3.4"
  }
 },
 "nbformat": 4,
 "nbformat_minor": 5
}