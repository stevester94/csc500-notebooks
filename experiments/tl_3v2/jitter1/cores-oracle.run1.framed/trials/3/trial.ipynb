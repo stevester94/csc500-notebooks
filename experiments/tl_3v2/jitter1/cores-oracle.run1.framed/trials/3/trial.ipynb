{
 "cells": [
  {
   "cell_type": "markdown",
   "id": "9fea5f46",
   "metadata": {
    "papermill": {
     "duration": 0.016637,
     "end_time": "2022-03-26T19:15:35.173391",
     "exception": false,
     "start_time": "2022-03-26T19:15:35.156754",
     "status": "completed"
    },
    "tags": []
   },
   "source": [
    "# Transfer Learning Template"
   ]
  },
  {
   "cell_type": "code",
   "execution_count": 1,
   "id": "0902182a",
   "metadata": {
    "execution": {
     "iopub.execute_input": "2022-03-26T19:15:35.209959Z",
     "iopub.status.busy": "2022-03-26T19:15:35.209641Z",
     "iopub.status.idle": "2022-03-26T19:15:36.261302Z",
     "shell.execute_reply": "2022-03-26T19:15:36.260797Z"
    },
    "papermill": {
     "duration": 1.074389,
     "end_time": "2022-03-26T19:15:36.261408",
     "exception": false,
     "start_time": "2022-03-26T19:15:35.187019",
     "status": "completed"
    },
    "tags": []
   },
   "outputs": [],
   "source": [
    "%load_ext autoreload\n",
    "%autoreload 2\n",
    "%matplotlib inline\n",
    "\n",
    "    \n",
    "import os, json, sys, time, random\n",
    "import numpy as np\n",
    "import torch\n",
    "from torch.optim import Adam\n",
    "from  easydict import EasyDict\n",
    "import matplotlib.pyplot as plt\n",
    "\n",
    "from steves_models.steves_ptn import Steves_Prototypical_Network\n",
    "\n",
    "from steves_utils.lazy_iterable_wrapper import Lazy_Iterable_Wrapper\n",
    "from steves_utils.iterable_aggregator import Iterable_Aggregator\n",
    "from steves_utils.ptn_train_eval_test_jig import  PTN_Train_Eval_Test_Jig\n",
    "from steves_utils.torch_sequential_builder import build_sequential\n",
    "from steves_utils.torch_utils import get_dataset_metrics, ptn_confusion_by_domain_over_dataloader\n",
    "from steves_utils.utils_v2 import (per_domain_accuracy_from_confusion, get_datasets_base_path)\n",
    "from steves_utils.PTN.utils import independent_accuracy_assesment\n",
    "\n",
    "from torch.utils.data import DataLoader\n",
    "\n",
    "from steves_utils.stratified_dataset.episodic_accessor import Episodic_Accessor_Factory\n",
    "\n",
    "from steves_utils.ptn_do_report import (\n",
    "    get_loss_curve,\n",
    "    get_results_table,\n",
    "    get_parameters_table,\n",
    "    get_domain_accuracies,\n",
    ")\n",
    "\n",
    "from steves_utils.transforms import get_chained_transform"
   ]
  },
  {
   "cell_type": "markdown",
   "id": "41c840b4",
   "metadata": {
    "papermill": {
     "duration": 0.013403,
     "end_time": "2022-03-26T19:15:36.291876",
     "exception": false,
     "start_time": "2022-03-26T19:15:36.278473",
     "status": "completed"
    },
    "tags": []
   },
   "source": [
    "# Allowed Parameters\n",
    "These are allowed parameters, not defaults\n",
    "Each of these values need to be present in the injected parameters (the notebook will raise an exception if they are not present)\n",
    "\n",
    "Papermill uses the cell tag \"parameters\" to inject the real parameters below this cell.\n",
    "Enable tags to see what I mean"
   ]
  },
  {
   "cell_type": "code",
   "execution_count": 2,
   "id": "fd44eb83",
   "metadata": {
    "execution": {
     "iopub.execute_input": "2022-03-26T19:15:36.321735Z",
     "iopub.status.busy": "2022-03-26T19:15:36.321312Z",
     "iopub.status.idle": "2022-03-26T19:15:36.334114Z",
     "shell.execute_reply": "2022-03-26T19:15:36.333782Z"
    },
    "papermill": {
     "duration": 0.029237,
     "end_time": "2022-03-26T19:15:36.334184",
     "exception": false,
     "start_time": "2022-03-26T19:15:36.304947",
     "status": "completed"
    },
    "tags": []
   },
   "outputs": [],
   "source": [
    "required_parameters = {\n",
    "    \"experiment_name\",\n",
    "    \"lr\",\n",
    "    \"device\",\n",
    "    \"seed\",\n",
    "    \"dataset_seed\",\n",
    "    \"n_shot\",\n",
    "    \"n_query\",\n",
    "    \"n_way\",\n",
    "    \"train_k_factor\",\n",
    "    \"val_k_factor\",\n",
    "    \"test_k_factor\",\n",
    "    \"n_epoch\",\n",
    "    \"patience\",\n",
    "    \"criteria_for_best\",\n",
    "    \"x_net\",\n",
    "    \"datasets\",\n",
    "    \"torch_default_dtype\",\n",
    "    \"NUM_LOGS_PER_EPOCH\",\n",
    "    \"BEST_MODEL_PATH\",\n",
    "    \"x_shape\",\n",
    "}"
   ]
  },
  {
   "cell_type": "code",
   "execution_count": 3,
   "id": "fa3f0049",
   "metadata": {
    "execution": {
     "iopub.execute_input": "2022-03-26T19:15:36.373915Z",
     "iopub.status.busy": "2022-03-26T19:15:36.373607Z",
     "iopub.status.idle": "2022-03-26T19:15:36.387589Z",
     "shell.execute_reply": "2022-03-26T19:15:36.387060Z"
    },
    "papermill": {
     "duration": 0.03802,
     "end_time": "2022-03-26T19:15:36.387695",
     "exception": false,
     "start_time": "2022-03-26T19:15:36.349675",
     "status": "completed"
    },
    "tags": [
     "parameters"
    ]
   },
   "outputs": [],
   "source": [
    "from steves_utils.CORES.utils import (\n",
    "    ALL_NODES,\n",
    "    ALL_NODES_MINIMUM_1000_EXAMPLES,\n",
    "    ALL_DAYS\n",
    ")\n",
    "\n",
    "from steves_utils.ORACLE.utils_v2 import (\n",
    "    ALL_DISTANCES_FEET_NARROWED,\n",
    "    ALL_RUNS,\n",
    "    ALL_SERIAL_NUMBERS,\n",
    ")\n",
    "\n",
    "standalone_parameters = {}\n",
    "standalone_parameters[\"experiment_name\"] = \"STANDALONE PTN\"\n",
    "standalone_parameters[\"lr\"] = 0.001\n",
    "standalone_parameters[\"device\"] = \"cuda\"\n",
    "\n",
    "standalone_parameters[\"seed\"] = 1337\n",
    "standalone_parameters[\"dataset_seed\"] = 1337\n",
    "\n",
    "standalone_parameters[\"n_way\"] = 8\n",
    "standalone_parameters[\"n_shot\"] = 3\n",
    "standalone_parameters[\"n_query\"]  = 2\n",
    "standalone_parameters[\"train_k_factor\"] = 1\n",
    "standalone_parameters[\"val_k_factor\"] = 2\n",
    "standalone_parameters[\"test_k_factor\"] = 2\n",
    "\n",
    "\n",
    "standalone_parameters[\"n_epoch\"] = 50\n",
    "\n",
    "standalone_parameters[\"patience\"] = 10\n",
    "standalone_parameters[\"criteria_for_best\"] = \"source_loss\"\n",
    "\n",
    "standalone_parameters[\"datasets\"] = [\n",
    "    {\n",
    "        \"labels\": ALL_SERIAL_NUMBERS,\n",
    "        \"domains\": ALL_DISTANCES_FEET_NARROWED,\n",
    "        \"num_examples_per_domain_per_label\": 100,\n",
    "        \"pickle_path\": os.path.join(get_datasets_base_path(), \"oracle.Run1_framed_2000Examples_stratified_ds.2022A.pkl\"),\n",
    "        \"source_or_target_dataset\": \"source\",\n",
    "        \"x_transforms\": [\"unit_mag\", \"minus_two\"],\n",
    "        \"episode_transforms\": [],\n",
    "        \"domain_prefix\": \"ORACLE_\"\n",
    "    },\n",
    "    {\n",
    "        \"labels\": ALL_NODES,\n",
    "        \"domains\": ALL_DAYS,\n",
    "        \"num_examples_per_domain_per_label\": 100,\n",
    "        \"pickle_path\": os.path.join(get_datasets_base_path(), \"cores.stratified_ds.2022A.pkl\"),\n",
    "        \"source_or_target_dataset\": \"target\",\n",
    "        \"x_transforms\": [\"unit_power\", \"times_zero\"],\n",
    "        \"episode_transforms\": [],\n",
    "        \"domain_prefix\": \"CORES_\"\n",
    "    }   \n",
    "]\n",
    "\n",
    "standalone_parameters[\"torch_default_dtype\"] = \"torch.float32\" \n",
    "\n",
    "\n",
    "\n",
    "standalone_parameters[\"x_net\"] =     [\n",
    "    {\"class\": \"nnReshape\", \"kargs\": {\"shape\":[-1, 1, 2, 256]}},\n",
    "    {\"class\": \"Conv2d\", \"kargs\": { \"in_channels\":1, \"out_channels\":256, \"kernel_size\":(1,7), \"bias\":False, \"padding\":(0,3), },},\n",
    "    {\"class\": \"ReLU\", \"kargs\": {\"inplace\": True}},\n",
    "    {\"class\": \"BatchNorm2d\", \"kargs\": {\"num_features\":256}},\n",
    "\n",
    "    {\"class\": \"Conv2d\", \"kargs\": { \"in_channels\":256, \"out_channels\":80, \"kernel_size\":(2,7), \"bias\":True, \"padding\":(0,3), },},\n",
    "    {\"class\": \"ReLU\", \"kargs\": {\"inplace\": True}},\n",
    "    {\"class\": \"BatchNorm2d\", \"kargs\": {\"num_features\":80}},\n",
    "    {\"class\": \"Flatten\", \"kargs\": {}},\n",
    "\n",
    "    {\"class\": \"Linear\", \"kargs\": {\"in_features\": 80*256, \"out_features\": 256}}, # 80 units per IQ pair\n",
    "    {\"class\": \"ReLU\", \"kargs\": {\"inplace\": True}},\n",
    "    {\"class\": \"BatchNorm1d\", \"kargs\": {\"num_features\":256}},\n",
    "\n",
    "    {\"class\": \"Linear\", \"kargs\": {\"in_features\": 256, \"out_features\": 256}},\n",
    "]\n",
    "\n",
    "# Parameters relevant to results\n",
    "# These parameters will basically never need to change\n",
    "standalone_parameters[\"NUM_LOGS_PER_EPOCH\"] = 10\n",
    "standalone_parameters[\"BEST_MODEL_PATH\"] = \"./best_model.pth\"\n",
    "\n",
    "\n",
    "\n",
    "\n"
   ]
  },
  {
   "cell_type": "code",
   "execution_count": 4,
   "id": "7a6b20ef",
   "metadata": {
    "execution": {
     "iopub.execute_input": "2022-03-26T19:15:36.430619Z",
     "iopub.status.busy": "2022-03-26T19:15:36.425434Z",
     "iopub.status.idle": "2022-03-26T19:15:36.448845Z",
     "shell.execute_reply": "2022-03-26T19:15:36.448396Z"
    },
    "papermill": {
     "duration": 0.042929,
     "end_time": "2022-03-26T19:15:36.448944",
     "exception": false,
     "start_time": "2022-03-26T19:15:36.406015",
     "status": "completed"
    },
    "tags": [
     "injected-parameters"
    ]
   },
   "outputs": [],
   "source": [
    "# Parameters\n",
    "parameters = {\n",
    "    \"experiment_name\": \"tl_3-jitter1v2:cores -> oracle.run1.framed\",\n",
    "    \"device\": \"cuda\",\n",
    "    \"lr\": 0.0001,\n",
    "    \"x_shape\": [2, 256],\n",
    "    \"n_shot\": 3,\n",
    "    \"n_query\": 2,\n",
    "    \"train_k_factor\": 3,\n",
    "    \"val_k_factor\": 2,\n",
    "    \"test_k_factor\": 2,\n",
    "    \"torch_default_dtype\": \"torch.float32\",\n",
    "    \"n_epoch\": 50,\n",
    "    \"patience\": 3,\n",
    "    \"criteria_for_best\": \"target_accuracy\",\n",
    "    \"x_net\": [\n",
    "        {\"class\": \"nnReshape\", \"kargs\": {\"shape\": [-1, 1, 2, 256]}},\n",
    "        {\n",
    "            \"class\": \"Conv2d\",\n",
    "            \"kargs\": {\n",
    "                \"in_channels\": 1,\n",
    "                \"out_channels\": 256,\n",
    "                \"kernel_size\": [1, 7],\n",
    "                \"bias\": False,\n",
    "                \"padding\": [0, 3],\n",
    "            },\n",
    "        },\n",
    "        {\"class\": \"ReLU\", \"kargs\": {\"inplace\": True}},\n",
    "        {\"class\": \"BatchNorm2d\", \"kargs\": {\"num_features\": 256}},\n",
    "        {\n",
    "            \"class\": \"Conv2d\",\n",
    "            \"kargs\": {\n",
    "                \"in_channels\": 256,\n",
    "                \"out_channels\": 80,\n",
    "                \"kernel_size\": [2, 7],\n",
    "                \"bias\": True,\n",
    "                \"padding\": [0, 3],\n",
    "            },\n",
    "        },\n",
    "        {\"class\": \"ReLU\", \"kargs\": {\"inplace\": True}},\n",
    "        {\"class\": \"BatchNorm2d\", \"kargs\": {\"num_features\": 80}},\n",
    "        {\"class\": \"Flatten\", \"kargs\": {}},\n",
    "        {\"class\": \"Linear\", \"kargs\": {\"in_features\": 20480, \"out_features\": 256}},\n",
    "        {\"class\": \"ReLU\", \"kargs\": {\"inplace\": True}},\n",
    "        {\"class\": \"BatchNorm1d\", \"kargs\": {\"num_features\": 256}},\n",
    "        {\"class\": \"Linear\", \"kargs\": {\"in_features\": 256, \"out_features\": 256}},\n",
    "    ],\n",
    "    \"NUM_LOGS_PER_EPOCH\": 10,\n",
    "    \"BEST_MODEL_PATH\": \"./best_model.pth\",\n",
    "    \"n_way\": 16,\n",
    "    \"datasets\": [\n",
    "        {\n",
    "            \"labels\": [\n",
    "                \"1-10.\",\n",
    "                \"1-11.\",\n",
    "                \"1-15.\",\n",
    "                \"1-16.\",\n",
    "                \"1-17.\",\n",
    "                \"1-18.\",\n",
    "                \"1-19.\",\n",
    "                \"10-4.\",\n",
    "                \"10-7.\",\n",
    "                \"11-1.\",\n",
    "                \"11-14.\",\n",
    "                \"11-17.\",\n",
    "                \"11-20.\",\n",
    "                \"11-7.\",\n",
    "                \"13-20.\",\n",
    "                \"13-8.\",\n",
    "                \"14-10.\",\n",
    "                \"14-11.\",\n",
    "                \"14-14.\",\n",
    "                \"14-7.\",\n",
    "                \"15-1.\",\n",
    "                \"15-20.\",\n",
    "                \"16-1.\",\n",
    "                \"16-16.\",\n",
    "                \"17-10.\",\n",
    "                \"17-11.\",\n",
    "                \"17-2.\",\n",
    "                \"19-1.\",\n",
    "                \"19-16.\",\n",
    "                \"19-19.\",\n",
    "                \"19-20.\",\n",
    "                \"19-3.\",\n",
    "                \"2-10.\",\n",
    "                \"2-11.\",\n",
    "                \"2-17.\",\n",
    "                \"2-18.\",\n",
    "                \"2-20.\",\n",
    "                \"2-3.\",\n",
    "                \"2-4.\",\n",
    "                \"2-5.\",\n",
    "                \"2-6.\",\n",
    "                \"2-7.\",\n",
    "                \"2-8.\",\n",
    "                \"3-13.\",\n",
    "                \"3-18.\",\n",
    "                \"3-3.\",\n",
    "                \"4-1.\",\n",
    "                \"4-10.\",\n",
    "                \"4-11.\",\n",
    "                \"4-19.\",\n",
    "                \"5-5.\",\n",
    "                \"6-15.\",\n",
    "                \"7-10.\",\n",
    "                \"7-14.\",\n",
    "                \"8-18.\",\n",
    "                \"8-20.\",\n",
    "                \"8-3.\",\n",
    "                \"8-8.\",\n",
    "            ],\n",
    "            \"domains\": [1, 2, 3, 4, 5],\n",
    "            \"num_examples_per_domain_per_label\": -1,\n",
    "            \"pickle_path\": \"/mnt/wd500GB/CSC500/csc500-main/datasets/cores.stratified_ds.2022A.pkl\",\n",
    "            \"source_or_target_dataset\": \"source\",\n",
    "            \"x_transforms\": [\n",
    "                \"unit_power\",\n",
    "                \"jitter_256_1\",\n",
    "                \"lowpass_+/-10MHz\",\n",
    "                \"take_200\",\n",
    "            ],\n",
    "            \"episode_transforms\": [],\n",
    "            \"domain_prefix\": \"C_\",\n",
    "        },\n",
    "        {\n",
    "            \"labels\": [\n",
    "                \"3123D52\",\n",
    "                \"3123D65\",\n",
    "                \"3123D79\",\n",
    "                \"3123D80\",\n",
    "                \"3123D54\",\n",
    "                \"3123D70\",\n",
    "                \"3123D7B\",\n",
    "                \"3123D89\",\n",
    "                \"3123D58\",\n",
    "                \"3123D76\",\n",
    "                \"3123D7D\",\n",
    "                \"3123EFE\",\n",
    "                \"3123D64\",\n",
    "                \"3123D78\",\n",
    "                \"3123D7E\",\n",
    "                \"3124E4A\",\n",
    "            ],\n",
    "            \"domains\": [32, 38, 8, 44, 14, 50, 20, 26],\n",
    "            \"num_examples_per_domain_per_label\": 2000,\n",
    "            \"pickle_path\": \"/mnt/wd500GB/CSC500/csc500-main/datasets/oracle.Run1_framed_2000Examples_stratified_ds.2022A.pkl\",\n",
    "            \"source_or_target_dataset\": \"target\",\n",
    "            \"x_transforms\": [\n",
    "                \"unit_power\",\n",
    "                \"jitter_256_1\",\n",
    "                \"take_200\",\n",
    "                \"resample_20Msps_to_25Msps\",\n",
    "            ],\n",
    "            \"episode_transforms\": [],\n",
    "            \"domain_prefix\": \"O_\",\n",
    "        },\n",
    "    ],\n",
    "    \"seed\": 420,\n",
    "    \"dataset_seed\": 420,\n",
    "}\n"
   ]
  },
  {
   "cell_type": "code",
   "execution_count": 5,
   "id": "8fa1cc33",
   "metadata": {
    "execution": {
     "iopub.execute_input": "2022-03-26T19:15:36.483692Z",
     "iopub.status.busy": "2022-03-26T19:15:36.483419Z",
     "iopub.status.idle": "2022-03-26T19:15:36.498624Z",
     "shell.execute_reply": "2022-03-26T19:15:36.499003Z"
    },
    "papermill": {
     "duration": 0.033064,
     "end_time": "2022-03-26T19:15:36.499109",
     "exception": false,
     "start_time": "2022-03-26T19:15:36.466045",
     "status": "completed"
    },
    "tags": []
   },
   "outputs": [],
   "source": [
    "# Set this to True if you want to run this template directly\n",
    "STANDALONE = False\n",
    "if STANDALONE:\n",
    "    print(\"parameters not injected, running with standalone_parameters\")\n",
    "    parameters = standalone_parameters\n",
    "\n",
    "if not 'parameters' in locals() and not 'parameters' in globals():\n",
    "    raise Exception(\"Parameter injection failed\")\n",
    "\n",
    "#Use an easy dict for all the parameters\n",
    "p = EasyDict(parameters)\n",
    "\n",
    "if \"x_shape\" not in p:\n",
    "    p.x_shape = [2,256] # Default to this if we dont supply x_shape\n",
    "\n",
    "\n",
    "supplied_keys = set(p.keys())\n",
    "\n",
    "if  supplied_keys != required_parameters:\n",
    "    print(\"Parameters are incorrect\")\n",
    "    if len(supplied_keys - required_parameters)>0: print(\"Shouldn't have:\", str(supplied_keys - required_parameters))\n",
    "    if len(required_parameters - supplied_keys)>0: print(\"Need to have:\", str(required_parameters - supplied_keys))\n",
    "    raise RuntimeError(\"Parameters are incorrect\")"
   ]
  },
  {
   "cell_type": "code",
   "execution_count": 6,
   "id": "3a028d58",
   "metadata": {
    "execution": {
     "iopub.execute_input": "2022-03-26T19:15:36.533272Z",
     "iopub.status.busy": "2022-03-26T19:15:36.533004Z",
     "iopub.status.idle": "2022-03-26T19:15:36.549314Z",
     "shell.execute_reply": "2022-03-26T19:15:36.548888Z"
    },
    "papermill": {
     "duration": 0.032308,
     "end_time": "2022-03-26T19:15:36.549409",
     "exception": false,
     "start_time": "2022-03-26T19:15:36.517101",
     "status": "completed"
    },
    "tags": []
   },
   "outputs": [],
   "source": [
    "###################################\n",
    "# Set the RNGs and make it all deterministic\n",
    "###################################\n",
    "np.random.seed(p.seed)\n",
    "random.seed(p.seed)\n",
    "torch.manual_seed(p.seed)\n",
    "\n",
    "torch.use_deterministic_algorithms(True) "
   ]
  },
  {
   "cell_type": "code",
   "execution_count": 7,
   "id": "b691acf6",
   "metadata": {
    "execution": {
     "iopub.execute_input": "2022-03-26T19:15:36.581981Z",
     "iopub.status.busy": "2022-03-26T19:15:36.581723Z",
     "iopub.status.idle": "2022-03-26T19:15:36.597640Z",
     "shell.execute_reply": "2022-03-26T19:15:36.598023Z"
    },
    "papermill": {
     "duration": 0.03144,
     "end_time": "2022-03-26T19:15:36.598140",
     "exception": false,
     "start_time": "2022-03-26T19:15:36.566700",
     "status": "completed"
    },
    "tags": []
   },
   "outputs": [],
   "source": [
    "###########################################\n",
    "# The stratified datasets honor this\n",
    "###########################################\n",
    "torch.set_default_dtype(eval(p.torch_default_dtype))"
   ]
  },
  {
   "cell_type": "code",
   "execution_count": 8,
   "id": "b5fba671",
   "metadata": {
    "execution": {
     "iopub.execute_input": "2022-03-26T19:15:36.637196Z",
     "iopub.status.busy": "2022-03-26T19:15:36.636719Z",
     "iopub.status.idle": "2022-03-26T19:15:36.677935Z",
     "shell.execute_reply": "2022-03-26T19:15:36.678333Z"
    },
    "papermill": {
     "duration": 0.061753,
     "end_time": "2022-03-26T19:15:36.678460",
     "exception": false,
     "start_time": "2022-03-26T19:15:36.616707",
     "status": "completed"
    },
    "tags": []
   },
   "outputs": [],
   "source": [
    "###################################\n",
    "# Build the network(s)\n",
    "# Note: It's critical to do this AFTER setting the RNG\n",
    "###################################\n",
    "x_net = build_sequential(p.x_net)"
   ]
  },
  {
   "cell_type": "code",
   "execution_count": 9,
   "id": "5d7e61cc",
   "metadata": {
    "execution": {
     "iopub.execute_input": "2022-03-26T19:15:36.731982Z",
     "iopub.status.busy": "2022-03-26T19:15:36.731538Z",
     "iopub.status.idle": "2022-03-26T19:15:36.743556Z",
     "shell.execute_reply": "2022-03-26T19:15:36.743145Z"
    },
    "papermill": {
     "duration": 0.039667,
     "end_time": "2022-03-26T19:15:36.743656",
     "exception": false,
     "start_time": "2022-03-26T19:15:36.703989",
     "status": "completed"
    },
    "tags": []
   },
   "outputs": [],
   "source": [
    "start_time_secs = time.time()"
   ]
  },
  {
   "cell_type": "code",
   "execution_count": 10,
   "id": "c6b67dfd",
   "metadata": {
    "execution": {
     "iopub.execute_input": "2022-03-26T19:15:36.785830Z",
     "iopub.status.busy": "2022-03-26T19:15:36.785414Z",
     "iopub.status.idle": "2022-03-26T19:15:36.803231Z",
     "shell.execute_reply": "2022-03-26T19:15:36.802932Z"
    },
    "papermill": {
     "duration": 0.037277,
     "end_time": "2022-03-26T19:15:36.803307",
     "exception": false,
     "start_time": "2022-03-26T19:15:36.766030",
     "status": "completed"
    },
    "tags": []
   },
   "outputs": [],
   "source": [
    "p.domains_source = []\n",
    "p.domains_target = []\n",
    "\n",
    "\n",
    "train_original_source = []\n",
    "val_original_source   = []\n",
    "test_original_source  = []\n",
    "\n",
    "train_original_target = []\n",
    "val_original_target   = []\n",
    "test_original_target  = []"
   ]
  },
  {
   "cell_type": "code",
   "execution_count": 11,
   "id": "e3d9c3d3",
   "metadata": {
    "execution": {
     "iopub.execute_input": "2022-03-26T19:15:36.836576Z",
     "iopub.status.busy": "2022-03-26T19:15:36.836297Z",
     "iopub.status.idle": "2022-03-26T19:15:36.854135Z",
     "shell.execute_reply": "2022-03-26T19:15:36.853564Z"
    },
    "papermill": {
     "duration": 0.034234,
     "end_time": "2022-03-26T19:15:36.854290",
     "exception": false,
     "start_time": "2022-03-26T19:15:36.820056",
     "status": "completed"
    },
    "tags": []
   },
   "outputs": [],
   "source": [
    "# global_x_transform_func = lambda x: normalize(x.to(torch.get_default_dtype()), \"unit_power\") # unit_power, unit_mag\n",
    "# global_x_transform_func = lambda x: normalize(x, \"unit_power\") # unit_power, unit_mag"
   ]
  },
  {
   "cell_type": "code",
   "execution_count": 12,
   "id": "acb78fd2",
   "metadata": {
    "execution": {
     "iopub.execute_input": "2022-03-26T19:15:36.894528Z",
     "iopub.status.busy": "2022-03-26T19:15:36.894231Z",
     "iopub.status.idle": "2022-03-26T19:15:36.908482Z",
     "shell.execute_reply": "2022-03-26T19:15:36.908903Z"
    },
    "papermill": {
     "duration": 0.033457,
     "end_time": "2022-03-26T19:15:36.909036",
     "exception": false,
     "start_time": "2022-03-26T19:15:36.875579",
     "status": "completed"
    },
    "tags": []
   },
   "outputs": [],
   "source": [
    "def add_dataset(\n",
    "    labels,\n",
    "    domains,\n",
    "    pickle_path,\n",
    "    x_transforms,\n",
    "    episode_transforms,\n",
    "    domain_prefix,\n",
    "    num_examples_per_domain_per_label,\n",
    "    source_or_target_dataset:str,\n",
    "    iterator_seed=p.seed,\n",
    "    dataset_seed=p.dataset_seed,\n",
    "    n_shot=p.n_shot,\n",
    "    n_way=p.n_way,\n",
    "    n_query=p.n_query,\n",
    "    train_val_test_k_factors=(p.train_k_factor,p.val_k_factor,p.test_k_factor),\n",
    "):\n",
    "   \n",
    "    if x_transforms == []: x_transform = None\n",
    "    else: x_transform = get_chained_transform(x_transforms)\n",
    "    \n",
    "    if episode_transforms == []: episode_transform = None\n",
    "    else: raise Exception(\"episode_transforms not implemented\")\n",
    "    \n",
    "    episode_transform = lambda tup, _prefix=domain_prefix: (_prefix + str(tup[0]), tup[1])\n",
    "\n",
    "\n",
    "    eaf = Episodic_Accessor_Factory(\n",
    "        labels=labels,\n",
    "        domains=domains,\n",
    "        num_examples_per_domain_per_label=num_examples_per_domain_per_label,\n",
    "        iterator_seed=iterator_seed,\n",
    "        dataset_seed=dataset_seed,\n",
    "        n_shot=n_shot,\n",
    "        n_way=n_way,\n",
    "        n_query=n_query,\n",
    "        train_val_test_k_factors=train_val_test_k_factors,\n",
    "        pickle_path=pickle_path,\n",
    "        x_transform_func=x_transform,\n",
    "    )\n",
    "\n",
    "    train, val, test = eaf.get_train(), eaf.get_val(), eaf.get_test()\n",
    "    train = Lazy_Iterable_Wrapper(train, episode_transform)\n",
    "    val = Lazy_Iterable_Wrapper(val, episode_transform)\n",
    "    test = Lazy_Iterable_Wrapper(test, episode_transform)\n",
    "\n",
    "    if source_or_target_dataset==\"source\":\n",
    "        train_original_source.append(train)\n",
    "        val_original_source.append(val)\n",
    "        test_original_source.append(test)\n",
    "\n",
    "        p.domains_source.extend(\n",
    "            [domain_prefix + str(u) for u in domains]\n",
    "        )\n",
    "    elif source_or_target_dataset==\"target\":\n",
    "        train_original_target.append(train)\n",
    "        val_original_target.append(val)\n",
    "        test_original_target.append(test)\n",
    "        p.domains_target.extend(\n",
    "            [domain_prefix + str(u) for u in domains]\n",
    "        )\n",
    "    else:\n",
    "        raise Exception(f\"invalid source_or_target_dataset: {source_or_target_dataset}\")\n",
    "    "
   ]
  },
  {
   "cell_type": "code",
   "execution_count": 13,
   "id": "fe266617",
   "metadata": {
    "execution": {
     "iopub.execute_input": "2022-03-26T19:15:36.943478Z",
     "iopub.status.busy": "2022-03-26T19:15:36.943210Z",
     "iopub.status.idle": "2022-03-26T19:17:03.939660Z",
     "shell.execute_reply": "2022-03-26T19:17:03.939180Z"
    },
    "papermill": {
     "duration": 87.012402,
     "end_time": "2022-03-26T19:17:03.939773",
     "exception": false,
     "start_time": "2022-03-26T19:15:36.927371",
     "status": "completed"
    },
    "tags": []
   },
   "outputs": [],
   "source": [
    "for ds in p.datasets:\n",
    "    add_dataset(**ds)"
   ]
  },
  {
   "cell_type": "code",
   "execution_count": 14,
   "id": "b90d65ac",
   "metadata": {
    "execution": {
     "iopub.execute_input": "2022-03-26T19:17:03.975910Z",
     "iopub.status.busy": "2022-03-26T19:17:03.975636Z",
     "iopub.status.idle": "2022-03-26T19:17:03.992602Z",
     "shell.execute_reply": "2022-03-26T19:17:03.992114Z"
    },
    "papermill": {
     "duration": 0.033269,
     "end_time": "2022-03-26T19:17:03.992715",
     "exception": false,
     "start_time": "2022-03-26T19:17:03.959446",
     "status": "completed"
    },
    "tags": []
   },
   "outputs": [],
   "source": [
    "# from steves_utils.CORES.utils import (\n",
    "#     ALL_NODES,\n",
    "#     ALL_NODES_MINIMUM_1000_EXAMPLES,\n",
    "#     ALL_DAYS\n",
    "# )\n",
    "\n",
    "# add_dataset(\n",
    "#     labels=ALL_NODES,\n",
    "#     domains = ALL_DAYS,\n",
    "#     num_examples_per_domain_per_label=100,\n",
    "#     pickle_path=os.path.join(get_datasets_base_path(), \"cores.stratified_ds.2022A.pkl\"),\n",
    "#     source_or_target_dataset=\"target\",\n",
    "#     x_transform_func=global_x_transform_func,\n",
    "#     domain_modifier=lambda u: f\"cores_{u}\"\n",
    "# )"
   ]
  },
  {
   "cell_type": "code",
   "execution_count": 15,
   "id": "76db484d",
   "metadata": {
    "execution": {
     "iopub.execute_input": "2022-03-26T19:17:04.029856Z",
     "iopub.status.busy": "2022-03-26T19:17:04.027877Z",
     "iopub.status.idle": "2022-03-26T19:17:04.043531Z",
     "shell.execute_reply": "2022-03-26T19:17:04.043153Z"
    },
    "papermill": {
     "duration": 0.031505,
     "end_time": "2022-03-26T19:17:04.043620",
     "exception": false,
     "start_time": "2022-03-26T19:17:04.012115",
     "status": "completed"
    },
    "tags": []
   },
   "outputs": [],
   "source": [
    "# from steves_utils.ORACLE.utils_v2 import (\n",
    "#     ALL_DISTANCES_FEET,\n",
    "#     ALL_RUNS,\n",
    "#     ALL_SERIAL_NUMBERS,\n",
    "# )\n",
    "\n",
    "\n",
    "# add_dataset(\n",
    "#     labels=ALL_SERIAL_NUMBERS,\n",
    "#     domains = list(set(ALL_DISTANCES_FEET) - {2,62}),\n",
    "#     num_examples_per_domain_per_label=100,\n",
    "#     pickle_path=os.path.join(get_datasets_base_path(), \"oracle.Run2_framed_2000Examples_stratified_ds.2022A.pkl\"),\n",
    "#     source_or_target_dataset=\"source\",\n",
    "#     x_transform_func=global_x_transform_func,\n",
    "#     domain_modifier=lambda u: f\"oracle1_{u}\"\n",
    "# )\n"
   ]
  },
  {
   "cell_type": "code",
   "execution_count": 16,
   "id": "97dea9d2",
   "metadata": {
    "execution": {
     "iopub.execute_input": "2022-03-26T19:17:04.084084Z",
     "iopub.status.busy": "2022-03-26T19:17:04.080880Z",
     "iopub.status.idle": "2022-03-26T19:17:04.092249Z",
     "shell.execute_reply": "2022-03-26T19:17:04.091848Z"
    },
    "papermill": {
     "duration": 0.029222,
     "end_time": "2022-03-26T19:17:04.092336",
     "exception": false,
     "start_time": "2022-03-26T19:17:04.063114",
     "status": "completed"
    },
    "tags": []
   },
   "outputs": [],
   "source": [
    "# from steves_utils.ORACLE.utils_v2 import (\n",
    "#     ALL_DISTANCES_FEET,\n",
    "#     ALL_RUNS,\n",
    "#     ALL_SERIAL_NUMBERS,\n",
    "# )\n",
    "\n",
    "\n",
    "# add_dataset(\n",
    "#     labels=ALL_SERIAL_NUMBERS,\n",
    "#     domains = list(set(ALL_DISTANCES_FEET) - {2,62,56}),\n",
    "#     num_examples_per_domain_per_label=100,\n",
    "#     pickle_path=os.path.join(get_datasets_base_path(), \"oracle.Run2_framed_2000Examples_stratified_ds.2022A.pkl\"),\n",
    "#     source_or_target_dataset=\"source\",\n",
    "#     x_transform_func=global_x_transform_func,\n",
    "#     domain_modifier=lambda u: f\"oracle2_{u}\"\n",
    "# )"
   ]
  },
  {
   "cell_type": "code",
   "execution_count": 17,
   "id": "6f289866",
   "metadata": {
    "execution": {
     "iopub.execute_input": "2022-03-26T19:17:04.125753Z",
     "iopub.status.busy": "2022-03-26T19:17:04.125493Z",
     "iopub.status.idle": "2022-03-26T19:17:04.138001Z",
     "shell.execute_reply": "2022-03-26T19:17:04.137655Z"
    },
    "papermill": {
     "duration": 0.028808,
     "end_time": "2022-03-26T19:17:04.138107",
     "exception": false,
     "start_time": "2022-03-26T19:17:04.109299",
     "status": "completed"
    },
    "tags": []
   },
   "outputs": [],
   "source": [
    "# add_dataset(\n",
    "#     labels=list(range(19)),\n",
    "#     domains = [0,1,2],\n",
    "#     num_examples_per_domain_per_label=100,\n",
    "#     pickle_path=os.path.join(get_datasets_base_path(), \"metehan.stratified_ds.2022A.pkl\"),\n",
    "#     source_or_target_dataset=\"target\",\n",
    "#     x_transform_func=global_x_transform_func,\n",
    "#     domain_modifier=lambda u: f\"met_{u}\"\n",
    "# )"
   ]
  },
  {
   "cell_type": "code",
   "execution_count": 18,
   "id": "86a863c3",
   "metadata": {
    "execution": {
     "iopub.execute_input": "2022-03-26T19:17:04.169895Z",
     "iopub.status.busy": "2022-03-26T19:17:04.169330Z",
     "iopub.status.idle": "2022-03-26T19:17:04.186175Z",
     "shell.execute_reply": "2022-03-26T19:17:04.186604Z"
    },
    "papermill": {
     "duration": 0.033114,
     "end_time": "2022-03-26T19:17:04.186741",
     "exception": false,
     "start_time": "2022-03-26T19:17:04.153627",
     "status": "completed"
    },
    "tags": []
   },
   "outputs": [],
   "source": [
    "# # from steves_utils.wisig.utils import (\n",
    "# #     ALL_NODES_MINIMUM_100_EXAMPLES,\n",
    "# #     ALL_NODES_MINIMUM_500_EXAMPLES,\n",
    "# #     ALL_NODES_MINIMUM_1000_EXAMPLES,\n",
    "# #     ALL_DAYS\n",
    "# # )\n",
    "\n",
    "# import steves_utils.wisig.utils as wisig\n",
    "\n",
    "\n",
    "# add_dataset(\n",
    "#     labels=wisig.ALL_NODES_MINIMUM_100_EXAMPLES,\n",
    "#     domains = wisig.ALL_DAYS,\n",
    "#     num_examples_per_domain_per_label=100,\n",
    "#     pickle_path=os.path.join(get_datasets_base_path(), \"wisig.node3-19.stratified_ds.2022A.pkl\"),\n",
    "#     source_or_target_dataset=\"target\",\n",
    "#     x_transform_func=global_x_transform_func,\n",
    "#     domain_modifier=lambda u: f\"wisig_{u}\"\n",
    "# )"
   ]
  },
  {
   "cell_type": "code",
   "execution_count": 19,
   "id": "fd5442bc",
   "metadata": {
    "execution": {
     "iopub.execute_input": "2022-03-26T19:17:04.224109Z",
     "iopub.status.busy": "2022-03-26T19:17:04.223826Z",
     "iopub.status.idle": "2022-03-26T19:17:04.241962Z",
     "shell.execute_reply": "2022-03-26T19:17:04.242405Z"
    },
    "papermill": {
     "duration": 0.037111,
     "end_time": "2022-03-26T19:17:04.242542",
     "exception": false,
     "start_time": "2022-03-26T19:17:04.205431",
     "status": "completed"
    },
    "tags": []
   },
   "outputs": [],
   "source": [
    "###################################\n",
    "# Build the dataset\n",
    "###################################\n",
    "train_original_source = Iterable_Aggregator(train_original_source, p.seed)\n",
    "val_original_source = Iterable_Aggregator(val_original_source, p.seed)\n",
    "test_original_source = Iterable_Aggregator(test_original_source, p.seed)\n",
    "\n",
    "\n",
    "train_original_target = Iterable_Aggregator(train_original_target, p.seed)\n",
    "val_original_target = Iterable_Aggregator(val_original_target, p.seed)\n",
    "test_original_target = Iterable_Aggregator(test_original_target, p.seed)\n",
    "\n",
    "# For CNN We only use X and Y. And we only train on the source.\n",
    "# Properly form the data using a transform lambda and Lazy_Iterable_Wrapper. Finally wrap them in a dataloader\n",
    "\n",
    "transform_lambda = lambda ex: ex[1] # Original is (<domain>, <episode>) so we strip down to episode only\n",
    "\n",
    "train_processed_source = Lazy_Iterable_Wrapper(train_original_source, transform_lambda)\n",
    "val_processed_source   = Lazy_Iterable_Wrapper(val_original_source, transform_lambda)\n",
    "test_processed_source  = Lazy_Iterable_Wrapper(test_original_source, transform_lambda)\n",
    "\n",
    "train_processed_target = Lazy_Iterable_Wrapper(train_original_target, transform_lambda)\n",
    "val_processed_target   = Lazy_Iterable_Wrapper(val_original_target, transform_lambda)\n",
    "test_processed_target  = Lazy_Iterable_Wrapper(test_original_target, transform_lambda)\n",
    "\n",
    "datasets = EasyDict({\n",
    "    \"source\": {\n",
    "        \"original\": {\"train\":train_original_source, \"val\":val_original_source, \"test\":test_original_source},\n",
    "        \"processed\": {\"train\":train_processed_source, \"val\":val_processed_source, \"test\":test_processed_source}\n",
    "    },\n",
    "    \"target\": {\n",
    "        \"original\": {\"train\":train_original_target, \"val\":val_original_target, \"test\":test_original_target},\n",
    "        \"processed\": {\"train\":train_processed_target, \"val\":val_processed_target, \"test\":test_processed_target}\n",
    "    },\n",
    "})"
   ]
  },
  {
   "cell_type": "code",
   "execution_count": 20,
   "id": "5b3c01fc",
   "metadata": {
    "execution": {
     "iopub.execute_input": "2022-03-26T19:17:04.279549Z",
     "iopub.status.busy": "2022-03-26T19:17:04.279134Z",
     "iopub.status.idle": "2022-03-26T19:17:11.366189Z",
     "shell.execute_reply": "2022-03-26T19:17:11.366423Z"
    },
    "papermill": {
     "duration": 7.104733,
     "end_time": "2022-03-26T19:17:11.366508",
     "exception": false,
     "start_time": "2022-03-26T19:17:04.261775",
     "status": "completed"
    },
    "tags": []
   },
   "outputs": [
    {
     "name": "stdout",
     "output_type": "stream",
     "text": [
      "{'C_3', 'C_2', 'C_1', 'C_4', 'C_5'}\n"
     ]
    },
    {
     "name": "stdout",
     "output_type": "stream",
     "text": [
      "{'O_8', 'O_50', 'O_38', 'O_20', 'O_14', 'O_32', 'O_44', 'O_26'}\n"
     ]
    },
    {
     "name": "stdout",
     "output_type": "stream",
     "text": [
      "tensor([[[0., 0., 0.,  ..., 0., 0., 0.],\n",
      "         [0., 0., 0.,  ..., 0., 0., 0.]],\n",
      "\n",
      "        [[0., 0., 0.,  ..., 0., 0., 0.],\n",
      "         [0., 0., 0.,  ..., 0., 0., 0.]],\n",
      "\n",
      "        [[0., 0., 0.,  ..., 0., 0., 0.],\n",
      "         [0., 0., 0.,  ..., 0., 0., 0.]],\n",
      "\n",
      "        ...,\n",
      "\n",
      "        [[0., 0., 0.,  ..., 0., 0., 0.],\n",
      "         [0., 0., 0.,  ..., 0., 0., 0.]],\n",
      "\n",
      "        [[0., 0., 0.,  ..., 0., 0., 0.],\n",
      "         [0., 0., 0.,  ..., 0., 0., 0.]],\n",
      "\n",
      "        [[0., 0., 0.,  ..., 0., 0., 0.],\n",
      "         [0., 0., 0.,  ..., 0., 0., 0.]]])\n"
     ]
    }
   ],
   "source": [
    "from steves_utils.transforms import get_average_magnitude, get_average_power\n",
    "\n",
    "print(set([u for u,_ in val_original_source]))\n",
    "print(set([u for u,_ in val_original_target]))\n",
    "\n",
    "s_x, s_y, q_x, q_y, _ = next(iter(train_processed_source))\n",
    "print(s_x)\n",
    "\n",
    "# for ds in [\n",
    "#     train_processed_source,\n",
    "#     val_processed_source,\n",
    "#     test_processed_source,\n",
    "#     train_processed_target,\n",
    "#     val_processed_target,\n",
    "#     test_processed_target\n",
    "# ]:\n",
    "#     for s_x, s_y, q_x, q_y, _ in ds:\n",
    "#         for X in (s_x, q_x):\n",
    "#             for x in X:\n",
    "#                 assert np.isclose(get_average_magnitude(x.numpy()), 1.0)\n",
    "#                 assert np.isclose(get_average_power(x.numpy()), 1.0)\n",
    "                "
   ]
  },
  {
   "cell_type": "code",
   "execution_count": 21,
   "id": "bbdacba1",
   "metadata": {
    "execution": {
     "iopub.execute_input": "2022-03-26T19:17:11.402942Z",
     "iopub.status.busy": "2022-03-26T19:17:11.402325Z",
     "iopub.status.idle": "2022-03-26T19:17:11.462696Z",
     "shell.execute_reply": "2022-03-26T19:17:11.462430Z"
    },
    "papermill": {
     "duration": 0.07822,
     "end_time": "2022-03-26T19:17:11.462770",
     "exception": false,
     "start_time": "2022-03-26T19:17:11.384550",
     "status": "completed"
    },
    "tags": []
   },
   "outputs": [
    {
     "name": "stdout",
     "output_type": "stream",
     "text": [
      "(2, 256)\n"
     ]
    }
   ],
   "source": [
    "###################################\n",
    "# Build the model\n",
    "###################################\n",
    "# easfsl only wants a tuple for the shape\n",
    "model = Steves_Prototypical_Network(x_net, device=p.device, x_shape=tuple(p.x_shape))\n",
    "optimizer = Adam(params=model.parameters(), lr=p.lr)"
   ]
  },
  {
   "cell_type": "code",
   "execution_count": 22,
   "id": "22b39ac5",
   "metadata": {
    "execution": {
     "iopub.execute_input": "2022-03-26T19:17:11.496874Z",
     "iopub.status.busy": "2022-03-26T19:17:11.496464Z",
     "iopub.status.idle": "2022-03-26T19:59:58.678875Z",
     "shell.execute_reply": "2022-03-26T19:59:58.678634Z"
    },
    "papermill": {
     "duration": 2567.200556,
     "end_time": "2022-03-26T19:59:58.678936",
     "exception": false,
     "start_time": "2022-03-26T19:17:11.478380",
     "status": "completed"
    },
    "tags": []
   },
   "outputs": [
    {
     "name": "stdout",
     "output_type": "stream",
     "text": [
      "epoch: 1, [batch: 1 / 6315], examples_per_second: 47.7869, train_label_loss: 2.6808, \n"
     ]
    },
    {
     "name": "stdout",
     "output_type": "stream",
     "text": [
      "epoch: 1, [batch: 632 / 6315], examples_per_second: 1650.3160, train_label_loss: 0.0037, \n"
     ]
    },
    {
     "name": "stdout",
     "output_type": "stream",
     "text": [
      "epoch: 1, [batch: 1263 / 6315], examples_per_second: 1661.9154, train_label_loss: 0.0310, \n"
     ]
    },
    {
     "name": "stdout",
     "output_type": "stream",
     "text": [
      "epoch: 1, [batch: 1895 / 6315], examples_per_second: 1645.8417, train_label_loss: 0.0001, \n"
     ]
    },
    {
     "name": "stdout",
     "output_type": "stream",
     "text": [
      "epoch: 1, [batch: 2526 / 6315], examples_per_second: 1657.8290, train_label_loss: 0.0010, \n"
     ]
    },
    {
     "name": "stdout",
     "output_type": "stream",
     "text": [
      "epoch: 1, [batch: 3158 / 6315], examples_per_second: 1652.7338, train_label_loss: 0.0004, \n"
     ]
    },
    {
     "name": "stdout",
     "output_type": "stream",
     "text": [
      "epoch: 1, [batch: 3789 / 6315], examples_per_second: 1879.0704, train_label_loss: 0.0035, \n"
     ]
    },
    {
     "name": "stdout",
     "output_type": "stream",
     "text": [
      "epoch: 1, [batch: 4420 / 6315], examples_per_second: 2090.0496, train_label_loss: 0.0049, \n"
     ]
    },
    {
     "name": "stdout",
     "output_type": "stream",
     "text": [
      "epoch: 1, [batch: 5052 / 6315], examples_per_second: 1648.2860, train_label_loss: 0.0012, \n"
     ]
    },
    {
     "name": "stdout",
     "output_type": "stream",
     "text": [
      "epoch: 1, [batch: 5683 / 6315], examples_per_second: 1682.1824, train_label_loss: 0.0227, \n"
     ]
    },
    {
     "name": "stdout",
     "output_type": "stream",
     "text": [
      "=============================================================\n",
      "epoch: 1, source_val_acc_label: 0.9870, target_val_acc_label: 0.2762, source_val_label_loss: 0.6092, target_val_label_loss: 2.2428, \n",
      "=============================================================\n"
     ]
    },
    {
     "name": "stdout",
     "output_type": "stream",
     "text": [
      "New best\n"
     ]
    },
    {
     "name": "stdout",
     "output_type": "stream",
     "text": [
      "epoch: 2, [batch: 1 / 6307], examples_per_second: 2.5898, train_label_loss: 0.0676, \n"
     ]
    },
    {
     "name": "stdout",
     "output_type": "stream",
     "text": [
      "epoch: 2, [batch: 631 / 6307], examples_per_second: 1700.6355, train_label_loss: 0.0147, \n"
     ]
    },
    {
     "name": "stdout",
     "output_type": "stream",
     "text": [
      "epoch: 2, [batch: 1262 / 6307], examples_per_second: 1714.5116, train_label_loss: 0.0001, \n"
     ]
    },
    {
     "name": "stdout",
     "output_type": "stream",
     "text": [
      "epoch: 2, [batch: 1892 / 6307], examples_per_second: 1688.7182, train_label_loss: 0.0000, \n"
     ]
    },
    {
     "name": "stdout",
     "output_type": "stream",
     "text": [
      "epoch: 2, [batch: 2523 / 6307], examples_per_second: 1682.1973, train_label_loss: 0.0230, \n"
     ]
    },
    {
     "name": "stdout",
     "output_type": "stream",
     "text": [
      "epoch: 2, [batch: 3154 / 6307], examples_per_second: 1704.7300, train_label_loss: 0.0000, \n"
     ]
    },
    {
     "name": "stdout",
     "output_type": "stream",
     "text": [
      "epoch: 2, [batch: 3784 / 6307], examples_per_second: 2007.4133, train_label_loss: 0.0000, \n"
     ]
    },
    {
     "name": "stdout",
     "output_type": "stream",
     "text": [
      "epoch: 2, [batch: 4415 / 6307], examples_per_second: 2158.8909, train_label_loss: 0.0048, \n"
     ]
    },
    {
     "name": "stdout",
     "output_type": "stream",
     "text": [
      "epoch: 2, [batch: 5045 / 6307], examples_per_second: 1669.7233, train_label_loss: 0.0042, \n"
     ]
    },
    {
     "name": "stdout",
     "output_type": "stream",
     "text": [
      "epoch: 2, [batch: 5676 / 6307], examples_per_second: 1650.9369, train_label_loss: 0.0381, \n"
     ]
    },
    {
     "name": "stdout",
     "output_type": "stream",
     "text": [
      "=============================================================\n",
      "epoch: 2, source_val_acc_label: 0.9976, target_val_acc_label: 0.3328, source_val_label_loss: 0.0269, target_val_label_loss: 2.1508, \n",
      "=============================================================\n"
     ]
    },
    {
     "name": "stdout",
     "output_type": "stream",
     "text": [
      "New best\n"
     ]
    },
    {
     "name": "stdout",
     "output_type": "stream",
     "text": [
      "epoch: 3, [batch: 1 / 6326], examples_per_second: 2.6024, train_label_loss: 0.0001, \n"
     ]
    },
    {
     "name": "stdout",
     "output_type": "stream",
     "text": [
      "epoch: 3, [batch: 633 / 6326], examples_per_second: 1700.2900, train_label_loss: 0.0000, \n"
     ]
    },
    {
     "name": "stdout",
     "output_type": "stream",
     "text": [
      "epoch: 3, [batch: 1266 / 6326], examples_per_second: 1694.5067, train_label_loss: 0.0000, \n"
     ]
    },
    {
     "name": "stdout",
     "output_type": "stream",
     "text": [
      "epoch: 3, [batch: 1898 / 6326], examples_per_second: 1705.3273, train_label_loss: 0.0001, \n"
     ]
    },
    {
     "name": "stdout",
     "output_type": "stream",
     "text": [
      "epoch: 3, [batch: 2531 / 6326], examples_per_second: 1695.8324, train_label_loss: 0.0000, \n"
     ]
    },
    {
     "name": "stdout",
     "output_type": "stream",
     "text": [
      "epoch: 3, [batch: 3163 / 6326], examples_per_second: 1695.4535, train_label_loss: 0.0000, \n"
     ]
    },
    {
     "name": "stdout",
     "output_type": "stream",
     "text": [
      "epoch: 3, [batch: 3796 / 6326], examples_per_second: 1959.3288, train_label_loss: 0.0022, \n"
     ]
    },
    {
     "name": "stdout",
     "output_type": "stream",
     "text": [
      "epoch: 3, [batch: 4428 / 6326], examples_per_second: 2193.6189, train_label_loss: 0.0000, \n"
     ]
    },
    {
     "name": "stdout",
     "output_type": "stream",
     "text": [
      "epoch: 3, [batch: 5061 / 6326], examples_per_second: 1667.4972, train_label_loss: 0.0036, \n"
     ]
    },
    {
     "name": "stdout",
     "output_type": "stream",
     "text": [
      "epoch: 3, [batch: 5693 / 6326], examples_per_second: 1664.2310, train_label_loss: 0.0000, \n"
     ]
    },
    {
     "name": "stdout",
     "output_type": "stream",
     "text": [
      "=============================================================\n",
      "epoch: 3, source_val_acc_label: 0.9950, target_val_acc_label: 0.3138, source_val_label_loss: 0.0764, target_val_label_loss: 2.4635, \n",
      "=============================================================\n"
     ]
    },
    {
     "name": "stdout",
     "output_type": "stream",
     "text": [
      "epoch: 4, [batch: 1 / 6302], examples_per_second: 2.6162, train_label_loss: 0.1183, \n"
     ]
    },
    {
     "name": "stdout",
     "output_type": "stream",
     "text": [
      "epoch: 4, [batch: 631 / 6302], examples_per_second: 1687.7775, train_label_loss: 0.0000, \n"
     ]
    },
    {
     "name": "stdout",
     "output_type": "stream",
     "text": [
      "epoch: 4, [batch: 1261 / 6302], examples_per_second: 1712.8853, train_label_loss: 0.0000, \n"
     ]
    },
    {
     "name": "stdout",
     "output_type": "stream",
     "text": [
      "epoch: 4, [batch: 1891 / 6302], examples_per_second: 1681.5871, train_label_loss: 0.0001, \n"
     ]
    },
    {
     "name": "stdout",
     "output_type": "stream",
     "text": [
      "epoch: 4, [batch: 2521 / 6302], examples_per_second: 1665.5627, train_label_loss: 0.0000, \n"
     ]
    },
    {
     "name": "stdout",
     "output_type": "stream",
     "text": [
      "epoch: 4, [batch: 3151 / 6302], examples_per_second: 1701.2716, train_label_loss: 0.0000, \n"
     ]
    },
    {
     "name": "stdout",
     "output_type": "stream",
     "text": [
      "epoch: 4, [batch: 3781 / 6302], examples_per_second: 1940.4215, train_label_loss: 0.0000, \n"
     ]
    },
    {
     "name": "stdout",
     "output_type": "stream",
     "text": [
      "epoch: 4, [batch: 4411 / 6302], examples_per_second: 2202.1273, train_label_loss: 0.0001, \n"
     ]
    },
    {
     "name": "stdout",
     "output_type": "stream",
     "text": [
      "epoch: 4, [batch: 5041 / 6302], examples_per_second: 1669.4902, train_label_loss: 0.0001, \n"
     ]
    },
    {
     "name": "stdout",
     "output_type": "stream",
     "text": [
      "epoch: 4, [batch: 5671 / 6302], examples_per_second: 1672.7097, train_label_loss: 0.0000, \n"
     ]
    },
    {
     "name": "stdout",
     "output_type": "stream",
     "text": [
      "=============================================================\n",
      "epoch: 4, source_val_acc_label: 0.9990, target_val_acc_label: 0.3629, source_val_label_loss: 0.0503, target_val_label_loss: 2.1104, \n",
      "=============================================================\n"
     ]
    },
    {
     "name": "stdout",
     "output_type": "stream",
     "text": [
      "New best\n"
     ]
    },
    {
     "name": "stdout",
     "output_type": "stream",
     "text": [
      "epoch: 5, [batch: 1 / 6324], examples_per_second: 2.5919, train_label_loss: 0.0000, \n"
     ]
    },
    {
     "name": "stdout",
     "output_type": "stream",
     "text": [
      "epoch: 5, [batch: 633 / 6324], examples_per_second: 1667.0420, train_label_loss: 0.0000, \n"
     ]
    },
    {
     "name": "stdout",
     "output_type": "stream",
     "text": [
      "epoch: 5, [batch: 1265 / 6324], examples_per_second: 1659.5715, train_label_loss: 0.0029, \n"
     ]
    },
    {
     "name": "stdout",
     "output_type": "stream",
     "text": [
      "epoch: 5, [batch: 1897 / 6324], examples_per_second: 1676.0457, train_label_loss: 0.0000, \n"
     ]
    },
    {
     "name": "stdout",
     "output_type": "stream",
     "text": [
      "epoch: 5, [batch: 2530 / 6324], examples_per_second: 1686.2940, train_label_loss: 0.0001, \n"
     ]
    },
    {
     "name": "stdout",
     "output_type": "stream",
     "text": [
      "epoch: 5, [batch: 3162 / 6324], examples_per_second: 1678.2752, train_label_loss: 0.0000, \n"
     ]
    },
    {
     "name": "stdout",
     "output_type": "stream",
     "text": [
      "epoch: 5, [batch: 3794 / 6324], examples_per_second: 1944.2480, train_label_loss: 0.0000, \n"
     ]
    },
    {
     "name": "stdout",
     "output_type": "stream",
     "text": [
      "epoch: 5, [batch: 4427 / 6324], examples_per_second: 2187.0481, train_label_loss: 0.0000, \n"
     ]
    },
    {
     "name": "stdout",
     "output_type": "stream",
     "text": [
      "epoch: 5, [batch: 5059 / 6324], examples_per_second: 1678.4950, train_label_loss: 0.0000, \n"
     ]
    },
    {
     "name": "stdout",
     "output_type": "stream",
     "text": [
      "epoch: 5, [batch: 5691 / 6324], examples_per_second: 1688.5774, train_label_loss: 0.0000, \n"
     ]
    },
    {
     "name": "stdout",
     "output_type": "stream",
     "text": [
      "=============================================================\n",
      "epoch: 5, source_val_acc_label: 0.9988, target_val_acc_label: 0.3612, source_val_label_loss: 0.0824, target_val_label_loss: 1.9631, \n",
      "=============================================================\n"
     ]
    },
    {
     "name": "stdout",
     "output_type": "stream",
     "text": [
      "epoch: 6, [batch: 1 / 6313], examples_per_second: 2.5761, train_label_loss: 0.0000, \n"
     ]
    },
    {
     "name": "stdout",
     "output_type": "stream",
     "text": [
      "epoch: 6, [batch: 632 / 6313], examples_per_second: 1701.0494, train_label_loss: 0.0000, \n"
     ]
    },
    {
     "name": "stdout",
     "output_type": "stream",
     "text": [
      "epoch: 6, [batch: 1263 / 6313], examples_per_second: 1702.8462, train_label_loss: 0.0000, \n"
     ]
    },
    {
     "name": "stdout",
     "output_type": "stream",
     "text": [
      "epoch: 6, [batch: 1894 / 6313], examples_per_second: 1700.0579, train_label_loss: 0.0000, \n"
     ]
    },
    {
     "name": "stdout",
     "output_type": "stream",
     "text": [
      "epoch: 6, [batch: 2525 / 6313], examples_per_second: 1696.4741, train_label_loss: 0.0000, \n"
     ]
    },
    {
     "name": "stdout",
     "output_type": "stream",
     "text": [
      "epoch: 6, [batch: 3157 / 6313], examples_per_second: 1682.8824, train_label_loss: 0.0000, \n"
     ]
    },
    {
     "name": "stdout",
     "output_type": "stream",
     "text": [
      "epoch: 6, [batch: 3788 / 6313], examples_per_second: 1951.2495, train_label_loss: 0.0000, \n"
     ]
    },
    {
     "name": "stdout",
     "output_type": "stream",
     "text": [
      "epoch: 6, [batch: 4419 / 6313], examples_per_second: 2148.4483, train_label_loss: 0.0000, \n"
     ]
    },
    {
     "name": "stdout",
     "output_type": "stream",
     "text": [
      "epoch: 6, [batch: 5050 / 6313], examples_per_second: 1673.5247, train_label_loss: 0.0753, \n"
     ]
    },
    {
     "name": "stdout",
     "output_type": "stream",
     "text": [
      "epoch: 6, [batch: 5681 / 6313], examples_per_second: 1688.3503, train_label_loss: 0.0000, \n"
     ]
    },
    {
     "name": "stdout",
     "output_type": "stream",
     "text": [
      "=============================================================\n",
      "epoch: 6, source_val_acc_label: 0.9993, target_val_acc_label: 0.3263, source_val_label_loss: 0.0505, target_val_label_loss: 2.2464, \n",
      "=============================================================\n"
     ]
    },
    {
     "name": "stdout",
     "output_type": "stream",
     "text": [
      "epoch: 7, [batch: 1 / 6295], examples_per_second: 2.5908, train_label_loss: 0.0000, \n"
     ]
    },
    {
     "name": "stdout",
     "output_type": "stream",
     "text": [
      "epoch: 7, [batch: 630 / 6295], examples_per_second: 1709.2488, train_label_loss: 0.0423, \n"
     ]
    },
    {
     "name": "stdout",
     "output_type": "stream",
     "text": [
      "epoch: 7, [batch: 1259 / 6295], examples_per_second: 1688.7820, train_label_loss: 0.0000, \n"
     ]
    },
    {
     "name": "stdout",
     "output_type": "stream",
     "text": [
      "epoch: 7, [batch: 1889 / 6295], examples_per_second: 1689.4390, train_label_loss: 0.0000, \n"
     ]
    },
    {
     "name": "stdout",
     "output_type": "stream",
     "text": [
      "epoch: 7, [batch: 2518 / 6295], examples_per_second: 1687.9662, train_label_loss: 0.0000, \n"
     ]
    },
    {
     "name": "stdout",
     "output_type": "stream",
     "text": [
      "epoch: 7, [batch: 3148 / 6295], examples_per_second: 1685.5739, train_label_loss: 0.0000, \n"
     ]
    },
    {
     "name": "stdout",
     "output_type": "stream",
     "text": [
      "epoch: 7, [batch: 3777 / 6295], examples_per_second: 1931.7558, train_label_loss: 0.0000, \n"
     ]
    },
    {
     "name": "stdout",
     "output_type": "stream",
     "text": [
      "epoch: 7, [batch: 4406 / 6295], examples_per_second: 2277.3146, train_label_loss: 0.0000, \n"
     ]
    },
    {
     "name": "stdout",
     "output_type": "stream",
     "text": [
      "epoch: 7, [batch: 5036 / 6295], examples_per_second: 1690.6253, train_label_loss: 0.0000, \n"
     ]
    },
    {
     "name": "stdout",
     "output_type": "stream",
     "text": [
      "epoch: 7, [batch: 5665 / 6295], examples_per_second: 1678.1741, train_label_loss: 0.0000, \n"
     ]
    },
    {
     "name": "stdout",
     "output_type": "stream",
     "text": [
      "=============================================================\n",
      "epoch: 7, source_val_acc_label: 0.9992, target_val_acc_label: 0.3249, source_val_label_loss: 0.0462, target_val_label_loss: 2.3613, \n",
      "=============================================================\n"
     ]
    },
    {
     "name": "stdout",
     "output_type": "stream",
     "text": [
      "epoch: 8, [batch: 1 / 6293], examples_per_second: 2.5781, train_label_loss: 0.0000, \n"
     ]
    },
    {
     "name": "stdout",
     "output_type": "stream",
     "text": [
      "epoch: 8, [batch: 630 / 6293], examples_per_second: 1655.2954, train_label_loss: 0.0000, \n"
     ]
    },
    {
     "name": "stdout",
     "output_type": "stream",
     "text": [
      "epoch: 8, [batch: 1259 / 6293], examples_per_second: 1702.7280, train_label_loss: 0.0000, \n"
     ]
    },
    {
     "name": "stdout",
     "output_type": "stream",
     "text": [
      "epoch: 8, [batch: 1888 / 6293], examples_per_second: 1682.9597, train_label_loss: 0.0000, \n"
     ]
    },
    {
     "name": "stdout",
     "output_type": "stream",
     "text": [
      "epoch: 8, [batch: 2517 / 6293], examples_per_second: 1680.9856, train_label_loss: 0.0002, \n"
     ]
    },
    {
     "name": "stdout",
     "output_type": "stream",
     "text": [
      "epoch: 8, [batch: 3147 / 6293], examples_per_second: 1688.1946, train_label_loss: 0.0000, \n"
     ]
    },
    {
     "name": "stdout",
     "output_type": "stream",
     "text": [
      "epoch: 8, [batch: 3776 / 6293], examples_per_second: 1841.2398, train_label_loss: 0.0000, \n"
     ]
    },
    {
     "name": "stdout",
     "output_type": "stream",
     "text": [
      "epoch: 8, [batch: 4405 / 6293], examples_per_second: 2299.7932, train_label_loss: 0.0000, \n"
     ]
    },
    {
     "name": "stdout",
     "output_type": "stream",
     "text": [
      "epoch: 8, [batch: 5034 / 6293], examples_per_second: 1677.1480, train_label_loss: 0.0000, \n"
     ]
    },
    {
     "name": "stdout",
     "output_type": "stream",
     "text": [
      "epoch: 8, [batch: 5663 / 6293], examples_per_second: 1668.5015, train_label_loss: 0.0000, \n"
     ]
    },
    {
     "name": "stdout",
     "output_type": "stream",
     "text": [
      "=============================================================\n",
      "epoch: 8, source_val_acc_label: 0.9993, target_val_acc_label: 0.3283, source_val_label_loss: 0.0326, target_val_label_loss: 2.5113, \n",
      "=============================================================\n"
     ]
    },
    {
     "name": "stdout",
     "output_type": "stream",
     "text": [
      "Patience (3) exhausted\n"
     ]
    }
   ],
   "source": [
    "###################################\n",
    "# train\n",
    "###################################\n",
    "jig = PTN_Train_Eval_Test_Jig(model, p.BEST_MODEL_PATH, p.device)\n",
    "\n",
    "jig.train(\n",
    "    train_iterable=datasets.source.processed.train,\n",
    "    source_val_iterable=datasets.source.processed.val,\n",
    "    target_val_iterable=datasets.target.processed.val,\n",
    "    num_epochs=p.n_epoch,\n",
    "    num_logs_per_epoch=p.NUM_LOGS_PER_EPOCH,\n",
    "    patience=p.patience,\n",
    "    optimizer=optimizer,\n",
    "    criteria_for_best=p.criteria_for_best,\n",
    ")"
   ]
  },
  {
   "cell_type": "code",
   "execution_count": 23,
   "id": "31e8fabf",
   "metadata": {
    "execution": {
     "iopub.execute_input": "2022-03-26T19:59:58.748390Z",
     "iopub.status.busy": "2022-03-26T19:59:58.744779Z",
     "iopub.status.idle": "2022-03-26T19:59:58.764417Z",
     "shell.execute_reply": "2022-03-26T19:59:58.763905Z"
    },
    "papermill": {
     "duration": 0.054329,
     "end_time": "2022-03-26T19:59:58.764524",
     "exception": false,
     "start_time": "2022-03-26T19:59:58.710195",
     "status": "completed"
    },
    "tags": []
   },
   "outputs": [],
   "source": [
    "total_experiment_time_secs = time.time() - start_time_secs"
   ]
  },
  {
   "cell_type": "code",
   "execution_count": 24,
   "id": "87b9595b",
   "metadata": {
    "execution": {
     "iopub.execute_input": "2022-03-26T19:59:58.843122Z",
     "iopub.status.busy": "2022-03-26T19:59:58.840665Z",
     "iopub.status.idle": "2022-03-26T20:02:40.348108Z",
     "shell.execute_reply": "2022-03-26T20:02:40.348609Z"
    },
    "papermill": {
     "duration": 161.547296,
     "end_time": "2022-03-26T20:02:40.348752",
     "exception": false,
     "start_time": "2022-03-26T19:59:58.801456",
     "status": "completed"
    },
    "tags": []
   },
   "outputs": [],
   "source": [
    "###################################\n",
    "# Evaluate the model\n",
    "###################################\n",
    "source_test_label_accuracy, source_test_label_loss = jig.test(datasets.source.processed.test)\n",
    "target_test_label_accuracy, target_test_label_loss = jig.test(datasets.target.processed.test)\n",
    "\n",
    "source_val_label_accuracy, source_val_label_loss = jig.test(datasets.source.processed.val)\n",
    "target_val_label_accuracy, target_val_label_loss = jig.test(datasets.target.processed.val)\n",
    "\n",
    "history = jig.get_history()\n",
    "\n",
    "total_epochs_trained = len(history[\"epoch_indices\"])\n",
    "\n",
    "val_dl = Iterable_Aggregator((datasets.source.original.val,datasets.target.original.val))\n",
    "\n",
    "confusion = ptn_confusion_by_domain_over_dataloader(model, p.device, val_dl)\n",
    "per_domain_accuracy = per_domain_accuracy_from_confusion(confusion)\n",
    "\n",
    "# Add a key to per_domain_accuracy for if it was a source domain\n",
    "for domain, accuracy in per_domain_accuracy.items():\n",
    "    per_domain_accuracy[domain] = {\n",
    "        \"accuracy\": accuracy,\n",
    "        \"source?\": domain in p.domains_source\n",
    "    }\n",
    "\n",
    "# Do an independent accuracy assesment JUST TO BE SURE!\n",
    "# _source_test_label_accuracy = independent_accuracy_assesment(model, datasets.source.processed.test, p.device)\n",
    "# _target_test_label_accuracy = independent_accuracy_assesment(model, datasets.target.processed.test, p.device)\n",
    "# _source_val_label_accuracy = independent_accuracy_assesment(model, datasets.source.processed.val, p.device)\n",
    "# _target_val_label_accuracy = independent_accuracy_assesment(model, datasets.target.processed.val, p.device)\n",
    "\n",
    "# assert(_source_test_label_accuracy == source_test_label_accuracy)\n",
    "# assert(_target_test_label_accuracy == target_test_label_accuracy)\n",
    "# assert(_source_val_label_accuracy == source_val_label_accuracy)\n",
    "# assert(_target_val_label_accuracy == target_val_label_accuracy)\n",
    "\n",
    "experiment = {\n",
    "    \"experiment_name\": p.experiment_name,\n",
    "    \"parameters\": dict(p),\n",
    "    \"results\": {\n",
    "        \"source_test_label_accuracy\": source_test_label_accuracy,\n",
    "        \"source_test_label_loss\": source_test_label_loss,\n",
    "        \"target_test_label_accuracy\": target_test_label_accuracy,\n",
    "        \"target_test_label_loss\": target_test_label_loss,\n",
    "        \"source_val_label_accuracy\": source_val_label_accuracy,\n",
    "        \"source_val_label_loss\": source_val_label_loss,\n",
    "        \"target_val_label_accuracy\": target_val_label_accuracy,\n",
    "        \"target_val_label_loss\": target_val_label_loss,\n",
    "        \"total_epochs_trained\": total_epochs_trained,\n",
    "        \"total_experiment_time_secs\": total_experiment_time_secs,\n",
    "        \"confusion\": confusion,\n",
    "        \"per_domain_accuracy\": per_domain_accuracy,\n",
    "    },\n",
    "    \"history\": history,\n",
    "    \"dataset_metrics\": get_dataset_metrics(datasets, \"ptn\"),\n",
    "}"
   ]
  },
  {
   "cell_type": "code",
   "execution_count": 25,
   "id": "54a21829",
   "metadata": {
    "execution": {
     "iopub.execute_input": "2022-03-26T20:02:40.419741Z",
     "iopub.status.busy": "2022-03-26T20:02:40.419474Z",
     "iopub.status.idle": "2022-03-26T20:02:40.556445Z",
     "shell.execute_reply": "2022-03-26T20:02:40.557027Z"
    },
    "papermill": {
     "duration": 0.172115,
     "end_time": "2022-03-26T20:02:40.557200",
     "exception": false,
     "start_time": "2022-03-26T20:02:40.385085",
     "status": "completed"
    },
    "tags": []
   },
   "outputs": [
    {
     "data": {
      "image/png": "[encoded data removed]",
      "text/plain": [
       "<Figure size 1080x504 with 1 Axes>"
      ]
     },
     "metadata": {
      "needs_background": "light"
     },
     "output_type": "display_data"
    }
   ],
   "source": [
    "ax = get_loss_curve(experiment)\n",
    "plt.show()"
   ]
  },
  {
   "cell_type": "code",
   "execution_count": 26,
   "id": "fd8a0f60",
   "metadata": {
    "execution": {
     "iopub.execute_input": "2022-03-26T20:02:40.630452Z",
     "iopub.status.busy": "2022-03-26T20:02:40.629672Z",
     "iopub.status.idle": "2022-03-26T20:02:40.815601Z",
     "shell.execute_reply": "2022-03-26T20:02:40.815985Z"
    },
    "papermill": {
     "duration": 0.221081,
     "end_time": "2022-03-26T20:02:40.816108",
     "exception": false,
     "start_time": "2022-03-26T20:02:40.595027",
     "status": "completed"
    },
    "tags": []
   },
   "outputs": [
    {
     "data": {
      "text/plain": [
       "<AxesSubplot:title={'center':'Results'}>"
      ]
     },
     "execution_count": 26,
     "metadata": {},
     "output_type": "execute_result"
    },
    {
     "data": {
      "image/png": "[encoded data removed]",
      "text/plain": [
       "<Figure size 1080x504 with 1 Axes>"
      ]
     },
     "metadata": {
      "needs_background": "light"
     },
     "output_type": "display_data"
    }
   ],
   "source": [
    "get_results_table(experiment)"
   ]
  },
  {
   "cell_type": "code",
   "execution_count": 27,
   "id": "cf8dc689",
   "metadata": {
    "execution": {
     "iopub.execute_input": "2022-03-26T20:02:40.894804Z",
     "iopub.status.busy": "2022-03-26T20:02:40.894067Z",
     "iopub.status.idle": "2022-03-26T20:02:41.042935Z",
     "shell.execute_reply": "2022-03-26T20:02:41.043205Z"
    },
    "papermill": {
     "duration": 0.187737,
     "end_time": "2022-03-26T20:02:41.043287",
     "exception": false,
     "start_time": "2022-03-26T20:02:40.855550",
     "status": "completed"
    },
    "tags": []
   },
   "outputs": [
    {
     "data": {
      "text/plain": [
       "<AxesSubplot:title={'center':'Per Domain Validation Accuracy'}, xlabel='domain'>"
      ]
     },
     "execution_count": 27,
     "metadata": {},
     "output_type": "execute_result"
    },
    {
     "data": {
      "image/png": "[encoded data removed]",
      "text/plain": [
       "<Figure size 1080x504 with 1 Axes>"
      ]
     },
     "metadata": {
      "needs_background": "light"
     },
     "output_type": "display_data"
    }
   ],
   "source": [
    "get_domain_accuracies(experiment)"
   ]
  },
  {
   "cell_type": "code",
   "execution_count": 28,
   "id": "a74ae082",
   "metadata": {
    "execution": {
     "iopub.execute_input": "2022-03-26T20:02:41.128668Z",
     "iopub.status.busy": "2022-03-26T20:02:41.122855Z",
     "iopub.status.idle": "2022-03-26T20:02:41.139748Z",
     "shell.execute_reply": "2022-03-26T20:02:41.139316Z"
    },
    "papermill": {
     "duration": 0.055451,
     "end_time": "2022-03-26T20:02:41.139859",
     "exception": false,
     "start_time": "2022-03-26T20:02:41.084408",
     "status": "completed"
    },
    "tags": []
   },
   "outputs": [
    {
     "name": "stdout",
     "output_type": "stream",
     "text": [
      "Source Test Label Accuracy: 0.9990124153498872 Target Test Label Accuracy: 0.36171875\n",
      "Source Val Label Accuracy: 0.999 Target Val Label Accuracy: 0.3629231770833333\n"
     ]
    }
   ],
   "source": [
    "print(\"Source Test Label Accuracy:\", experiment[\"results\"][\"source_test_label_accuracy\"], \"Target Test Label Accuracy:\", experiment[\"results\"][\"target_test_label_accuracy\"])\n",
    "print(\"Source Val Label Accuracy:\", experiment[\"results\"][\"source_val_label_accuracy\"], \"Target Val Label Accuracy:\", experiment[\"results\"][\"target_val_label_accuracy\"])"
   ]
  },
  {
   "cell_type": "code",
   "execution_count": 29,
   "id": "dacca602",
   "metadata": {
    "execution": {
     "iopub.execute_input": "2022-03-26T20:02:41.219067Z",
     "iopub.status.busy": "2022-03-26T20:02:41.218782Z",
     "iopub.status.idle": "2022-03-26T20:02:41.236928Z",
     "shell.execute_reply": "2022-03-26T20:02:41.237360Z"
    },
    "papermill": {
     "duration": 0.057202,
     "end_time": "2022-03-26T20:02:41.237498",
     "exception": false,
     "start_time": "2022-03-26T20:02:41.180296",
     "status": "completed"
    },
    "tags": [
     "experiment_json"
    ]
   },
   "outputs": [
    {
     "data": {
      "text/plain": [
       "'{\"experiment_name\": \"tl_3-jitter1v2:cores -> oracle.run1.framed\", \"parameters\": {\"experiment_name\": \"tl_3-jitter1v2:cores -> oracle.run1.framed\", \"device\": \"cuda\", \"lr\": 0.0001, \"x_shape\": [2, 256], \"n_shot\": 3, \"n_query\": 2, \"train_k_factor\": 3, \"val_k_factor\": 2, \"test_k_factor\": 2, \"torch_default_dtype\": \"torch.float32\", \"n_epoch\": 50, \"patience\": 3, \"criteria_for_best\": \"target_accuracy\", \"x_net\": [{\"class\": \"nnReshape\", \"kargs\": {\"shape\": [-1, 1, 2, 256]}}, {\"class\": \"Conv2d\", \"kargs\": {\"in_channels\": 1, \"out_channels\": 256, \"kernel_size\": [1, 7], \"bias\": false, \"padding\": [0, 3]}}, {\"class\": \"ReLU\", \"kargs\": {\"inplace\": true}}, {\"class\": \"BatchNorm2d\", \"kargs\": {\"num_features\": 256}}, {\"class\": \"Conv2d\", \"kargs\": {\"in_channels\": 256, \"out_channels\": 80, \"kernel_size\": [2, 7], \"bias\": true, \"padding\": [0, 3]}}, {\"class\": \"ReLU\", \"kargs\": {\"inplace\": true}}, {\"class\": \"BatchNorm2d\", \"kargs\": {\"num_features\": 80}}, {\"class\": \"Flatten\", \"kargs\": {}}, {\"class\": \"Linear\", \"kargs\": {\"in_features\": 20480, \"out_features\": 256}}, {\"class\": \"ReLU\", \"kargs\": {\"inplace\": true}}, {\"class\": \"BatchNorm1d\", \"kargs\": {\"num_features\": 256}}, {\"class\": \"Linear\", \"kargs\": {\"in_features\": 256, \"out_features\": 256}}], \"NUM_LOGS_PER_EPOCH\": 10, \"BEST_MODEL_PATH\": \"./best_model.pth\", \"n_way\": 16, \"datasets\": [{\"labels\": [\"1-10.\", \"1-11.\", \"1-15.\", \"1-16.\", \"1-17.\", \"1-18.\", \"1-19.\", \"10-4.\", \"10-7.\", \"11-1.\", \"11-14.\", \"11-17.\", \"11-20.\", \"11-7.\", \"13-20.\", \"13-8.\", \"14-10.\", \"14-11.\", \"14-14.\", \"14-7.\", \"15-1.\", \"15-20.\", \"16-1.\", \"16-16.\", \"17-10.\", \"17-11.\", \"17-2.\", \"19-1.\", \"19-16.\", \"19-19.\", \"19-20.\", \"19-3.\", \"2-10.\", \"2-11.\", \"2-17.\", \"2-18.\", \"2-20.\", \"2-3.\", \"2-4.\", \"2-5.\", \"2-6.\", \"2-7.\", \"2-8.\", \"3-13.\", \"3-18.\", \"3-3.\", \"4-1.\", \"4-10.\", \"4-11.\", \"4-19.\", \"5-5.\", \"6-15.\", \"7-10.\", \"7-14.\", \"8-18.\", \"8-20.\", \"8-3.\", \"8-8.\"], \"domains\": [1, 2, 3, 4, 5], \"num_examples_per_domain_per_label\": -1, \"pickle_path\": \"/mnt/wd500GB/CSC500/csc500-main/datasets/cores.stratified_ds.2022A.pkl\", \"source_or_target_dataset\": \"source\", \"x_transforms\": [\"unit_power\", \"jitter_256_1\", \"lowpass_+/-10MHz\", \"take_200\"], \"episode_transforms\": [], \"domain_prefix\": \"C_\"}, {\"labels\": [\"3123D52\", \"3123D65\", \"3123D79\", \"3123D80\", \"3123D54\", \"3123D70\", \"3123D7B\", \"3123D89\", \"3123D58\", \"3123D76\", \"3123D7D\", \"3123EFE\", \"3123D64\", \"3123D78\", \"3123D7E\", \"3124E4A\"], \"domains\": [32, 38, 8, 44, 14, 50, 20, 26], \"num_examples_per_domain_per_label\": 2000, \"pickle_path\": \"/mnt/wd500GB/CSC500/csc500-main/datasets/oracle.Run1_framed_2000Examples_stratified_ds.2022A.pkl\", \"source_or_target_dataset\": \"target\", \"x_transforms\": [\"unit_power\", \"jitter_256_1\", \"take_200\", \"resample_20Msps_to_25Msps\"], \"episode_transforms\": [], \"domain_prefix\": \"O_\"}], \"seed\": 420, \"dataset_seed\": 420, \"domains_source\": [\"C_1\", \"C_2\", \"C_3\", \"C_4\", \"C_5\"], \"domains_target\": [\"O_32\", \"O_38\", \"O_8\", \"O_44\", \"O_14\", \"O_50\", \"O_20\", \"O_26\"]}, \"results\": {\"source_test_label_accuracy\": 0.9990124153498872, \"source_test_label_loss\": 0.008499909192323685, \"target_test_label_accuracy\": 0.36171875, \"target_test_label_loss\": 2.0936200618743896, \"source_val_label_accuracy\": 0.999, \"source_val_label_loss\": 0.05033673346042633, \"target_val_label_accuracy\": 0.3629231770833333, \"target_val_label_loss\": 2.11040997505188, \"total_epochs_trained\": 8, \"total_experiment_time_secs\": 2662.020507335663, \"confusion\": {\"C_4\": {\"42\": {\"42\": 32}, \"0\": {\"0\": 80}, \"1\": {\"1\": 40}, \"39\": {\"39\": 20}, \"28\": {\"28\": 32}, \"53\": {\"53\": 124}, \"19\": {\"19\": 144}, \"34\": {\"34\": 24}, \"33\": {\"33\": 36}, \"32\": {\"32\": 24}, \"10\": {\"10\": 136}, \"46\": {\"46\": 134}, \"20\": {\"20\": 122}, \"5\": {\"5\": 107, \"3\": 1}, \"40\": {\"40\": 124}, \"51\": {\"51\": 144}, \"37\": {\"37\": 24}, \"17\": {\"17\": 80}, \"45\": {\"45\": 96}, \"13\": {\"13\": 142}, \"27\": {\"27\": 144}, \"24\": {\"24\": 56}, \"30\": {\"30\": 44}, \"31\": {\"31\": 28}, \"41\": {\"41\": 34, \"10\": 1, \"13\": 1}, \"36\": {\"36\": 92}, \"16\": {\"16\": 96}, \"22\": {\"22\": 128}, \"44\": {\"44\": 132}, \"9\": {\"9\": 140}, \"57\": {\"57\": 100}, \"8\": {\"8\": 138}, \"23\": {\"23\": 132}, \"47\": {\"47\": 120}, \"43\": {\"43\": 138}, \"49\": {\"49\": 20}, \"3\": {\"3\": 123, \"50\": 1}, \"12\": {\"12\": 92}, \"38\": {\"38\": 40}, \"7\": {\"7\": 24}, \"14\": {\"14\": 16}, \"15\": {\"15\": 146}, \"25\": {\"25\": 128}, \"26\": {\"26\": 24}, \"21\": {\"21\": 132}, \"48\": {\"48\": 144}, \"56\": {\"56\": 134}, \"11\": {\"11\": 104}, \"2\": {\"2\": 36}, \"6\": {\"6\": 111, \"51\": 1}, \"55\": {\"55\": 140}, \"54\": {\"54\": 108}, \"29\": {\"29\": 124}, \"50\": {\"50\": 121, \"3\": 1}, \"52\": {\"52\": 116}, \"35\": {\"35\": 40}, \"4\": {\"4\": 120}, \"18\": {\"18\": 108}}, \"C_5\": {\"43\": {\"43\": 152}, \"35\": {\"35\": 36}, \"54\": {\"54\": 112}, \"22\": {\"22\": 28}, \"16\": {\"16\": 146}, \"5\": {\"5\": 128}, \"28\": {\"28\": 32}, \"14\": {\"14\": 43, \"46\": 1}, \"51\": {\"51\": 128}, \"19\": {\"19\": 140}, \"31\": {\"31\": 36}, \"10\": {\"10\": 68}, \"21\": {\"21\": 136}, \"3\": {\"3\": 100}, \"57\": {\"57\": 132}, \"9\": {\"9\": 146}, \"8\": {\"8\": 132}, \"46\": {\"46\": 139, \"14\": 1}, \"23\": {\"23\": 124}, \"37\": {\"37\": 24}, \"34\": {\"34\": 36}, \"4\": {\"4\": 100}, \"6\": {\"6\": 126, \"50\": 1, \"17\": 1}, \"48\": {\"48\": 136}, \"44\": {\"44\": 138}, \"40\": {\"40\": 124}, \"12\": {\"12\": 96}, \"30\": {\"30\": 128}, \"39\": {\"39\": 20}, \"45\": {\"45\": 119, \"9\": 1, \"55\": 3, \"23\": 1}, \"36\": {\"36\": 92}, \"27\": {\"27\": 140}, \"32\": {\"32\": 32}, \"52\": {\"52\": 130}, \"0\": {\"0\": 124}, \"26\": {\"26\": 24}, \"1\": {\"1\": 148}, \"53\": {\"53\": 146}, \"25\": {\"25\": 144}, \"24\": {\"24\": 80}, \"7\": {\"7\": 32}, \"18\": {\"18\": 64}, \"20\": {\"20\": 144}, \"33\": {\"33\": 32}, \"55\": {\"55\": 140}, \"41\": {\"41\": 28}, \"42\": {\"42\": 39, \"43\": 1}, \"49\": {\"49\": 36}, \"13\": {\"13\": 148}, \"38\": {\"38\": 32}, \"2\": {\"2\": 28}, \"47\": {\"47\": 100}, \"17\": {\"17\": 116}, \"11\": {\"11\": 154}, \"29\": {\"29\": 132}, \"50\": {\"50\": 138}, \"56\": {\"56\": 148}, \"15\": {\"15\": 142}}, \"C_2\": {\"49\": {\"49\": 24}, \"13\": {\"13\": 116}, \"37\": {\"37\": 36}, \"41\": {\"41\": 20}, \"15\": {\"15\": 142}, \"56\": {\"56\": 142}, \"14\": {\"14\": 24}, \"3\": {\"3\": 92}, \"38\": {\"38\": 20}, \"43\": {\"43\": 138}, \"33\": {\"33\": 28}, \"47\": {\"47\": 138}, \"30\": {\"30\": 144}, \"39\": {\"39\": 28}, \"12\": {\"12\": 92}, \"6\": {\"6\": 124}, \"51\": {\"51\": 134}, \"5\": {\"5\": 120}, \"34\": {\"34\": 28}, \"35\": {\"35\": 32}, \"0\": {\"0\": 48}, \"7\": {\"7\": 36}, \"24\": {\"24\": 96}, \"8\": {\"8\": 136}, \"20\": {\"20\": 124}, \"36\": {\"36\": 116}, \"42\": {\"42\": 36}, \"1\": {\"1\": 112}, \"4\": {\"4\": 148}, \"28\": {\"28\": 28}, \"50\": {\"50\": 136}, \"45\": {\"45\": 127, \"17\": 1}, \"18\": {\"18\": 48}, \"57\": {\"57\": 120}, \"46\": {\"46\": 128}, \"23\": {\"23\": 148}, \"27\": {\"27\": 138}, \"19\": {\"19\": 134}, \"22\": {\"22\": 136}, \"17\": {\"17\": 104}, \"55\": {\"55\": 136}, \"44\": {\"44\": 100}, \"26\": {\"26\": 24}, \"31\": {\"31\": 28}, \"16\": {\"16\": 130}, \"11\": {\"11\": 128}, \"25\": {\"25\": 126}, \"54\": {\"54\": 108}, \"32\": {\"32\": 28}, \"52\": {\"52\": 124}, \"40\": {\"40\": 132}, \"2\": {\"2\": 32}, \"10\": {\"10\": 110}, \"53\": {\"53\": 136}, \"9\": {\"9\": 150}, \"21\": {\"21\": 120}, \"48\": {\"48\": 138}, \"29\": {\"29\": 128}}, \"C_1\": {\"9\": {\"9\": 142}, \"25\": {\"25\": 128}, \"41\": {\"41\": 24}, \"29\": {\"29\": 140}, \"46\": {\"46\": 128}, \"4\": {\"4\": 132}, \"31\": {\"31\": 28}, \"36\": {\"36\": 64}, \"20\": {\"20\": 128}, \"7\": {\"7\": 28}, \"6\": {\"6\": 96}, \"16\": {\"16\": 138}, \"17\": {\"17\": 64}, \"50\": {\"50\": 148}, \"57\": {\"57\": 144}, \"23\": {\"23\": 136}, \"3\": {\"3\": 126}, \"53\": {\"53\": 140}, \"49\": {\"49\": 32}, \"56\": {\"56\": 152}, \"51\": {\"51\": 142}, \"26\": {\"26\": 24}, \"43\": {\"43\": 144}, \"22\": {\"22\": 136}, \"45\": {\"45\": 146}, \"13\": {\"13\": 152}, \"12\": {\"12\": 116}, \"54\": {\"54\": 104}, \"24\": {\"24\": 108}, \"44\": {\"44\": 136}, \"28\": {\"28\": 28}, \"33\": {\"33\": 32}, \"38\": {\"38\": 24}, \"0\": {\"0\": 144}, \"47\": {\"47\": 154}, \"42\": {\"42\": 40}, \"34\": {\"34\": 24}, \"48\": {\"48\": 142}, \"35\": {\"35\": 36}, \"2\": {\"2\": 36}, \"30\": {\"30\": 120}, \"18\": {\"18\": 72}, \"37\": {\"37\": 32}, \"1\": {\"1\": 100}, \"11\": {\"11\": 138}, \"55\": {\"55\": 130}, \"15\": {\"15\": 150}, \"10\": {\"10\": 96}, \"27\": {\"27\": 160}, \"19\": {\"19\": 146}, \"14\": {\"14\": 23, \"30\": 1}, \"8\": {\"8\": 140}, \"5\": {\"5\": 136}, \"39\": {\"39\": 28}, \"52\": {\"52\": 122}, \"21\": {\"21\": 124}, \"40\": {\"40\": 152}, \"32\": {\"32\": 32}}, \"C_3\": {\"56\": {\"56\": 120}, \"4\": {\"4\": 144, \"27\": 2}, \"34\": {\"34\": 32}, \"52\": {\"52\": 136}, \"32\": {\"32\": 28}, \"46\": {\"46\": 136}, \"12\": {\"12\": 90, \"51\": 2}, \"20\": {\"20\": 132}, \"54\": {\"54\": 100}, \"22\": {\"22\": 140}, \"26\": {\"26\": 24}, \"31\": {\"31\": 28}, \"10\": {\"10\": 64}, \"27\": {\"27\": 144}, \"40\": {\"40\": 136}, \"28\": {\"28\": 28}, \"5\": {\"5\": 115, \"16\": 1}, \"30\": {\"30\": 120}, \"7\": {\"7\": 36}, \"18\": {\"18\": 84}, \"39\": {\"39\": 16}, \"50\": {\"50\": 136}, \"49\": {\"49\": 20}, \"43\": {\"43\": 122}, \"29\": {\"29\": 114}, \"35\": {\"35\": 28}, \"13\": {\"13\": 122, \"43\": 2}, \"36\": {\"36\": 100}, \"11\": {\"11\": 146}, \"57\": {\"57\": 124}, \"9\": {\"9\": 130}, \"25\": {\"25\": 130}, \"16\": {\"16\": 126}, \"53\": {\"53\": 118}, \"33\": {\"33\": 28}, \"51\": {\"51\": 128}, \"44\": {\"44\": 88}, \"48\": {\"48\": 114}, \"6\": {\"6\": 88}, \"23\": {\"23\": 144}, \"1\": {\"1\": 100}, \"17\": {\"41\": 1, \"33\": 1, \"17\": 106}, \"21\": {\"21\": 122}, \"14\": {\"14\": 40}, \"55\": {\"55\": 144}, \"41\": {\"41\": 28}, \"3\": {\"3\": 138}, \"38\": {\"38\": 28}, \"2\": {\"2\": 32}, \"8\": {\"8\": 142}, \"37\": {\"37\": 28}, \"45\": {\"45\": 59, \"17\": 1}, \"42\": {\"42\": 28}, \"24\": {\"24\": 104}, \"15\": {\"15\": 136}, \"0\": {\"0\": 124}, \"47\": {\"47\": 92}, \"19\": {\"19\": 120}}, \"O_14\": {\"15\": {\"7\": 69, \"15\": 111, \"5\": 16, \"6\": 5, \"1\": 19, \"4\": 8, \"13\": 3, \"2\": 9}, \"5\": {\"1\": 36, \"2\": 20, \"5\": 59, \"4\": 40, \"6\": 12, \"3\": 29, \"0\": 5, \"8\": 8, \"7\": 14, \"13\": 6, \"14\": 5, \"15\": 6}, \"7\": {\"1\": 40, \"15\": 51, \"7\": 114, \"2\": 6, \"5\": 22, \"4\": 4, \"0\": 1, \"8\": 1, \"13\": 1}, \"4\": {\"2\": 31, \"1\": 25, \"5\": 39, \"4\": 44, \"3\": 39, \"8\": 9, \"6\": 12, \"14\": 7, \"0\": 6, \"10\": 11, \"7\": 2, \"13\": 11, \"15\": 4}, \"10\": {\"0\": 57, \"10\": 95, \"13\": 7, \"14\": 30, \"11\": 17, \"5\": 1, \"4\": 3, \"3\": 18, \"6\": 8, \"2\": 4}, \"11\": {\"9\": 34, \"11\": 125, \"0\": 36, \"12\": 17, \"10\": 17, \"14\": 6, \"6\": 1, \"13\": 4}, \"12\": {\"12\": 176, \"9\": 47, \"11\": 16, \"0\": 1}, \"0\": {\"0\": 70, \"8\": 6, \"13\": 7, \"11\": 25, \"6\": 6, \"10\": 53, \"3\": 20, \"4\": 4, \"2\": 8, \"14\": 15, \"9\": 23, \"5\": 2, \"12\": 1}, \"14\": {\"14\": 63, \"13\": 49, \"3\": 23, \"2\": 26, \"6\": 34, \"10\": 14, \"0\": 12, \"4\": 14, \"11\": 2, \"5\": 3}, \"8\": {\"8\": 182, \"1\": 16, \"4\": 12, \"3\": 7, \"10\": 1, \"0\": 4, \"2\": 2, \"5\": 12, \"9\": 4}, \"13\": {\"6\": 63, \"14\": 34, \"2\": 36, \"13\": 54, \"4\": 11, \"5\": 11, \"0\": 3, \"15\": 1, \"10\": 14, \"3\": 10, \"11\": 2, \"7\": 1}, \"6\": {\"2\": 43, \"6\": 53, \"3\": 20, \"4\": 16, \"14\": 32, \"10\": 11, \"13\": 49, \"5\": 12, \"1\": 2, \"15\": 2}, \"1\": {\"1\": 92, \"5\": 41, \"4\": 35, \"8\": 24, \"2\": 9, \"3\": 11, \"7\": 16, \"13\": 1, \"15\": 7, \"0\": 1, \"6\": 2, \"14\": 1}, \"3\": {\"13\": 17, \"3\": 61, \"2\": 19, \"4\": 35, \"7\": 1, \"1\": 9, \"5\": 20, \"6\": 11, \"8\": 12, \"10\": 16, \"0\": 17, \"14\": 20, \"9\": 1, \"11\": 1}, \"9\": {\"11\": 20, \"9\": 128, \"0\": 29, \"12\": 57, \"14\": 1, \"10\": 4, \"8\": 1}, \"2\": {\"13\": 18, \"4\": 30, \"2\": 52, \"5\": 29, \"3\": 24, \"6\": 24, \"7\": 6, \"15\": 9, \"14\": 25, \"10\": 7, \"0\": 3, \"1\": 13}}, \"O_20\": {\"4\": {\"10\": 25, \"8\": 32, \"4\": 43, \"1\": 15, \"6\": 8, \"14\": 28, \"12\": 19, \"0\": 13, \"7\": 9, \"5\": 14, \"3\": 17, \"2\": 6, \"9\": 6, \"13\": 3, \"15\": 2}, \"10\": {\"10\": 64, \"4\": 23, \"5\": 6, \"12\": 10, \"14\": 41, \"1\": 8, \"9\": 6, \"8\": 16, \"6\": 24, \"3\": 14, \"7\": 11, \"2\": 13, \"15\": 3, \"0\": 1}, \"15\": {\"5\": 22, \"13\": 15, \"2\": 19, \"15\": 41, \"1\": 40, \"12\": 23, \"3\": 18, \"9\": 14, \"4\": 6, \"8\": 8, \"0\": 17, \"7\": 11, \"6\": 4, \"14\": 2}, \"0\": {\"5\": 34, \"3\": 14, \"0\": 52, \"4\": 13, \"7\": 7, \"13\": 8, \"12\": 12, \"1\": 28, \"14\": 5, \"9\": 6, \"15\": 37, \"8\": 17, \"10\": 4, \"2\": 2, \"6\": 1}, \"6\": {\"6\": 74, \"14\": 39, \"2\": 10, \"5\": 2, \"7\": 27, \"10\": 29, \"8\": 13, \"15\": 2, \"1\": 4, \"3\": 8, \"11\": 6, \"9\": 10, \"4\": 10, \"12\": 3, \"13\": 2, \"0\": 1}, \"3\": {\"9\": 23, \"12\": 15, \"2\": 19, \"7\": 15, \"3\": 25, \"0\": 8, \"1\": 28, \"13\": 8, \"14\": 13, \"10\": 21, \"5\": 18, \"6\": 9, \"4\": 11, \"15\": 16, \"8\": 10, \"11\": 1}, \"7\": {\"2\": 27, \"4\": 6, \"8\": 7, \"7\": 28, \"1\": 15, \"6\": 31, \"13\": 16, \"10\": 11, \"15\": 9, \"3\": 19, \"9\": 27, \"5\": 9, \"12\": 12, \"14\": 19, \"0\": 2, \"11\": 2}, \"2\": {\"2\": 37, \"9\": 29, \"3\": 23, \"12\": 24, \"10\": 10, \"13\": 18, \"7\": 22, \"5\": 9, \"15\": 16, \"11\": 3, \"1\": 14, \"4\": 8, \"8\": 12, \"6\": 12, \"14\": 3}, \"8\": {\"2\": 8, \"5\": 14, \"10\": 21, \"7\": 23, \"8\": 42, \"4\": 24, \"14\": 37, \"15\": 5, \"0\": 13, \"6\": 12, \"12\": 8, \"13\": 5, \"9\": 7, \"3\": 14, \"1\": 7}, \"11\": {\"11\": 142, \"2\": 15, \"13\": 40, \"7\": 14, \"6\": 17, \"14\": 5, \"1\": 1, \"9\": 5, \"12\": 1}, \"14\": {\"4\": 26, \"14\": 58, \"8\": 22, \"6\": 33, \"10\": 51, \"2\": 7, \"7\": 15, \"0\": 3, \"5\": 8, \"15\": 1, \"3\": 7, \"9\": 4, \"12\": 4, \"1\": 1}, \"12\": {\"1\": 37, \"0\": 12, \"5\": 23, \"15\": 31, \"4\": 13, \"2\": 22, \"9\": 18, \"7\": 11, \"10\": 6, \"3\": 20, \"12\": 22, \"6\": 5, \"13\": 6, \"14\": 4, \"8\": 10}, \"13\": {\"13\": 70, \"12\": 11, \"11\": 16, \"1\": 12, \"3\": 18, \"9\": 17, \"2\": 30, \"5\": 8, \"15\": 18, \"8\": 5, \"7\": 24, \"6\": 6, \"4\": 1, \"0\": 3, \"10\": 1}, \"9\": {\"12\": 28, \"13\": 18, \"7\": 20, \"9\": 35, \"1\": 25, \"2\": 30, \"3\": 23, \"4\": 8, \"6\": 6, \"5\": 9, \"11\": 2, \"8\": 6, \"14\": 4, \"15\": 13, \"0\": 7, \"10\": 6}, \"5\": {\"2\": 10, \"4\": 17, \"5\": 34, \"1\": 32, \"13\": 10, \"0\": 26, \"12\": 25, \"15\": 28, \"14\": 5, \"3\": 15, \"8\": 17, \"7\": 10, \"9\": 9, \"10\": 2}, \"1\": {\"2\": 16, \"12\": 22, \"15\": 37, \"1\": 44, \"0\": 12, \"9\": 30, \"5\": 17, \"13\": 7, \"3\": 21, \"6\": 8, \"4\": 5, \"7\": 9, \"14\": 2, \"8\": 6, \"10\": 4}}, \"O_50\": {\"5\": {\"5\": 57, \"7\": 36, \"6\": 20, \"4\": 23, \"1\": 10, \"10\": 23, \"13\": 43, \"15\": 15, \"0\": 9, \"2\": 2, \"8\": 1, \"3\": 1}, \"12\": {\"9\": 38, \"11\": 20, \"12\": 134, \"14\": 46, \"2\": 1, \"0\": 1}, \"14\": {\"12\": 50, \"11\": 30, \"2\": 36, \"9\": 18, \"14\": 99, \"6\": 1, \"4\": 1, \"0\": 4, \"15\": 1}, \"4\": {\"15\": 45, \"7\": 11, \"4\": 57, \"6\": 19, \"5\": 26, \"1\": 46, \"11\": 10, \"13\": 21, \"10\": 2, \"2\": 1, \"14\": 1, \"0\": 1}, \"13\": {\"7\": 48, \"6\": 26, \"1\": 5, \"13\": 53, \"5\": 47, \"15\": 5, \"4\": 14, \"10\": 35, \"0\": 4, \"8\": 2, \"3\": 1}, \"10\": {\"7\": 17, \"10\": 101, \"8\": 56, \"6\": 5, \"13\": 20, \"5\": 6, \"0\": 28, \"2\": 1, \"3\": 4, \"4\": 1, \"1\": 1}, \"9\": {\"9\": 107, \"12\": 42, \"11\": 56, \"15\": 4, \"14\": 27, \"1\": 2, \"4\": 1, \"6\": 1}, \"15\": {\"15\": 79, \"6\": 23, \"1\": 60, \"11\": 23, \"7\": 1, \"4\": 35, \"13\": 2, \"5\": 10, \"14\": 4, \"9\": 2, \"2\": 1}, \"6\": {\"5\": 28, \"13\": 39, \"6\": 62, \"15\": 28, \"4\": 31, \"2\": 7, \"10\": 6, \"1\": 17, \"0\": 9, \"7\": 11, \"14\": 1, \"11\": 1}, \"2\": {\"2\": 139, \"1\": 9, \"14\": 14, \"0\": 66, \"6\": 2, \"8\": 1, \"4\": 1, \"12\": 1, \"15\": 1, \"5\": 1, \"10\": 4, \"9\": 1}, \"0\": {\"2\": 48, \"0\": 126, \"1\": 8, \"10\": 32, \"13\": 7, \"8\": 7, \"4\": 1, \"6\": 6, \"5\": 2, \"15\": 2, \"7\": 1}, \"11\": {\"11\": 98, \"14\": 28, \"12\": 13, \"15\": 24, \"9\": 47, \"1\": 19, \"4\": 6, \"6\": 2, \"2\": 3}, \"3\": {\"3\": 196, \"8\": 36, \"7\": 7, \"10\": 1}, \"8\": {\"8\": 159, \"3\": 30, \"10\": 40, \"13\": 3, \"0\": 5, \"7\": 2, \"2\": 1}, \"7\": {\"13\": 42, \"7\": 79, \"5\": 43, \"10\": 34, \"6\": 20, \"4\": 6, \"8\": 8, \"1\": 1, \"3\": 4, \"15\": 1, \"0\": 2}, \"1\": {\"1\": 90, \"13\": 4, \"5\": 13, \"15\": 52, \"4\": 31, \"6\": 20, \"0\": 8, \"11\": 10, \"2\": 7, \"14\": 1, \"7\": 1, \"10\": 2, \"9\": 1}}, \"O_26\": {\"7\": {\"7\": 27, \"6\": 9, \"8\": 16, \"5\": 24, \"15\": 19, \"1\": 17, \"3\": 32, \"10\": 12, \"13\": 6, \"4\": 21, \"2\": 17, \"14\": 13, \"9\": 13, \"0\": 14}, \"6\": {\"14\": 9, \"6\": 39, \"10\": 22, \"0\": 22, \"9\": 40, \"8\": 27, \"13\": 16, \"4\": 11, \"12\": 5, \"2\": 3, \"7\": 5, \"5\": 10, \"15\": 20, \"1\": 8, \"11\": 2, \"3\": 1}, \"14\": {\"1\": 49, \"4\": 29, \"10\": 34, \"14\": 34, \"3\": 5, \"6\": 9, \"9\": 7, \"7\": 12, \"0\": 28, \"15\": 9, \"8\": 18, \"2\": 5, \"13\": 1}, \"15\": {\"5\": 35, \"15\": 36, \"8\": 21, \"13\": 30, \"9\": 23, \"6\": 16, \"2\": 17, \"3\": 13, \"7\": 11, \"14\": 6, \"4\": 4, \"11\": 2, \"1\": 1, \"0\": 6, \"10\": 19}, \"5\": {\"15\": 31, \"2\": 23, \"7\": 11, \"13\": 45, \"8\": 10, \"3\": 20, \"5\": 50, \"14\": 3, \"9\": 24, \"1\": 2, \"6\": 5, \"11\": 2, \"4\": 5, \"0\": 4, \"10\": 5}, \"10\": {\"6\": 20, \"0\": 26, \"10\": 34, \"14\": 31, \"4\": 28, \"8\": 26, \"2\": 4, \"1\": 21, \"9\": 19, \"5\": 10, \"7\": 9, \"3\": 4, \"15\": 6, \"12\": 1, \"13\": 1}, \"4\": {\"10\": 29, \"7\": 23, \"6\": 14, \"1\": 32, \"8\": 25, \"14\": 35, \"0\": 18, \"4\": 29, \"9\": 17, \"3\": 11, \"15\": 3, \"2\": 2, \"5\": 1, \"13\": 1}, \"11\": {\"11\": 206, \"13\": 7, \"5\": 1, \"12\": 15, \"6\": 5, \"9\": 2, \"15\": 1, \"10\": 2, \"8\": 1}, \"13\": {\"13\": 62, \"15\": 34, \"5\": 56, \"2\": 15, \"3\": 12, \"7\": 9, \"9\": 20, \"14\": 3, \"8\": 10, \"6\": 6, \"11\": 6, \"4\": 3, \"10\": 1, \"0\": 3}, \"2\": {\"5\": 30, \"9\": 8, \"15\": 26, \"2\": 42, \"3\": 41, \"8\": 16, \"1\": 6, \"13\": 20, \"4\": 7, \"7\": 25, \"14\": 4, \"0\": 5, \"10\": 7, \"6\": 3}, \"0\": {\"8\": 24, \"5\": 8, \"10\": 36, \"0\": 39, \"15\": 9, \"4\": 30, \"1\": 13, \"9\": 13, \"14\": 30, \"7\": 15, \"2\": 2, \"6\": 17, \"13\": 2, \"3\": 2}, \"12\": {\"12\": 198, \"11\": 20, \"0\": 4, \"6\": 10, \"8\": 2, \"9\": 2, \"5\": 1, \"10\": 1, \"14\": 1, \"4\": 1}, \"3\": {\"7\": 31, \"9\": 8, \"5\": 22, \"2\": 53, \"3\": 56, \"13\": 9, \"15\": 18, \"8\": 7, \"4\": 13, \"10\": 5, \"1\": 7, \"0\": 5, \"14\": 5, \"6\": 1}, \"9\": {\"14\": 9, \"15\": 24, \"2\": 16, \"3\": 12, \"13\": 18, \"9\": 43, \"8\": 21, \"6\": 26, \"10\": 9, \"7\": 14, \"0\": 13, \"4\": 13, \"1\": 5, \"5\": 14, \"12\": 1, \"11\": 2}, \"8\": {\"7\": 22, \"10\": 22, \"14\": 16, \"1\": 18, \"4\": 17, \"9\": 20, \"15\": 22, \"0\": 22, \"8\": 33, \"5\": 12, \"13\": 6, \"3\": 9, \"2\": 8, \"6\": 13}, \"1\": {\"1\": 45, \"14\": 42, \"7\": 13, \"3\": 6, \"4\": 43, \"10\": 31, \"8\": 22, \"0\": 25, \"6\": 3, \"9\": 4, \"2\": 4, \"5\": 1, \"15\": 1}}, \"O_32\": {\"7\": {\"4\": 25, \"11\": 21, \"13\": 21, \"2\": 22, \"0\": 18, \"3\": 11, \"14\": 42, \"7\": 48, \"5\": 13, \"8\": 18, \"9\": 1}, \"2\": {\"2\": 81, \"0\": 33, \"14\": 12, \"7\": 20, \"4\": 61, \"3\": 3, \"9\": 3, \"5\": 10, \"13\": 11, \"8\": 5, \"11\": 1}, \"5\": {\"5\": 44, \"8\": 31, \"4\": 27, \"7\": 36, \"14\": 13, \"2\": 12, \"3\": 18, \"0\": 19, \"13\": 32, \"11\": 8}, \"6\": {\"6\": 220, \"12\": 17, \"10\": 3}, \"13\": {\"5\": 24, \"7\": 38, \"13\": 38, \"4\": 25, \"14\": 18, \"8\": 30, \"3\": 28, \"2\": 15, \"0\": 18, \"11\": 6}, \"4\": {\"13\": 24, \"0\": 20, \"11\": 4, \"2\": 60, \"5\": 25, \"8\": 13, \"7\": 30, \"4\": 49, \"14\": 13, \"3\": 2}, \"3\": {\"5\": 24, \"3\": 106, \"11\": 17, \"13\": 31, \"7\": 22, \"8\": 17, \"15\": 7, \"0\": 3, \"14\": 9, \"4\": 4}, \"0\": {\"4\": 34, \"0\": 58, \"8\": 38, \"2\": 38, \"7\": 14, \"11\": 4, \"5\": 11, \"14\": 12, \"15\": 2, \"13\": 23, \"3\": 5, \"9\": 1}, \"9\": {\"9\": 189, \"12\": 40, \"4\": 1, \"2\": 5, \"8\": 1, \"0\": 3, \"6\": 1}, \"12\": {\"12\": 210, \"6\": 16, \"9\": 13, \"10\": 1}, \"8\": {\"4\": 12, \"13\": 27, \"2\": 8, \"8\": 79, \"0\": 34, \"7\": 10, \"5\": 29, \"15\": 9, \"3\": 23, \"14\": 8, \"11\": 1}, \"14\": {\"5\": 8, \"14\": 70, \"11\": 42, \"4\": 7, \"7\": 39, \"2\": 11, \"3\": 19, \"0\": 16, \"13\": 22, \"8\": 6}, \"15\": {\"15\": 204, \"4\": 1, \"8\": 22, \"5\": 3, \"3\": 8, \"13\": 2}, \"11\": {\"11\": 81, \"14\": 74, \"7\": 30, \"8\": 4, \"3\": 16, \"4\": 5, \"0\": 3, \"2\": 3, \"13\": 16, \"5\": 8}, \"10\": {\"1\": 40, \"10\": 196, \"12\": 2, \"6\": 2}, \"1\": {\"10\": 40, \"1\": 199, \"6\": 1}}, \"O_44\": {\"11\": {\"11\": 147, \"13\": 47, \"6\": 33, \"9\": 7, \"2\": 1, \"7\": 5}, \"7\": {\"7\": 76, \"6\": 17, \"10\": 14, \"9\": 40, \"3\": 5, \"11\": 5, \"2\": 52, \"13\": 18, \"1\": 8, \"12\": 2, \"4\": 2, \"14\": 1}, \"6\": {\"6\": 97, \"9\": 38, \"13\": 56, \"7\": 15, \"11\": 28, \"2\": 3, \"10\": 1, \"4\": 1, \"14\": 1}, \"12\": {\"1\": 70, \"10\": 43, \"12\": 82, \"3\": 38, \"2\": 6, \"7\": 1}, \"4\": {\"14\": 71, \"0\": 11, \"4\": 104, \"13\": 4, \"5\": 20, \"15\": 14, \"8\": 2, \"9\": 11, \"7\": 2, \"6\": 1}, \"13\": {\"13\": 71, \"9\": 38, \"6\": 68, \"11\": 34, \"7\": 13, \"4\": 13, \"2\": 2, \"14\": 1}, \"8\": {\"8\": 116, \"5\": 19, \"0\": 69, \"4\": 2, \"15\": 29, \"14\": 5}, \"5\": {\"5\": 110, \"8\": 20, \"0\": 38, \"15\": 17, \"4\": 29, \"14\": 26}, \"14\": {\"15\": 35, \"4\": 74, \"14\": 82, \"0\": 18, \"6\": 1, \"7\": 2, \"5\": 21, \"9\": 2, \"8\": 4, \"13\": 1}, \"3\": {\"1\": 61, \"3\": 113, \"12\": 39, \"10\": 15, \"2\": 9, \"7\": 3}, \"10\": {\"10\": 93, \"1\": 42, \"2\": 43, \"12\": 40, \"9\": 3, \"7\": 10, \"3\": 8, \"6\": 1}, \"1\": {\"1\": 69, \"12\": 64, \"2\": 20, \"3\": 44, \"10\": 38, \"7\": 5}, \"2\": {\"12\": 5, \"2\": 79, \"10\": 41, \"7\": 58, \"3\": 13, \"1\": 23, \"13\": 2, \"9\": 14, \"11\": 4, \"6\": 1}, \"15\": {\"14\": 35, \"0\": 52, \"15\": 85, \"4\": 24, \"8\": 24, \"5\": 19, \"6\": 1}, \"9\": {\"13\": 55, \"7\": 47, \"6\": 28, \"9\": 73, \"11\": 6, \"2\": 21, \"1\": 4, \"14\": 3, \"3\": 1, \"4\": 1, \"15\": 1}, \"0\": {\"8\": 77, \"15\": 33, \"14\": 15, \"0\": 78, \"5\": 29, \"4\": 8}}, \"O_8\": {\"10\": {\"10\": 57, \"5\": 20, \"6\": 20, \"0\": 13, \"4\": 37, \"12\": 1, \"13\": 32, \"14\": 29, \"8\": 5, \"1\": 8, \"11\": 7, \"7\": 9, \"9\": 1, \"15\": 1}, \"6\": {\"0\": 38, \"8\": 14, \"15\": 12, \"10\": 12, \"4\": 16, \"7\": 33, \"14\": 23, \"6\": 36, \"13\": 35, \"12\": 5, \"3\": 3, \"1\": 4, \"2\": 6, \"5\": 2, \"11\": 1}, \"13\": {\"5\": 11, \"0\": 41, \"7\": 19, \"15\": 1, \"10\": 37, \"13\": 43, \"6\": 26, \"4\": 29, \"14\": 20, \"3\": 3, \"12\": 4, \"2\": 1, \"1\": 4, \"9\": 1}, \"3\": {\"3\": 77, \"12\": 33, \"15\": 26, \"2\": 76, \"7\": 12, \"8\": 4, \"0\": 5, \"6\": 4, \"4\": 2, \"13\": 1}, \"9\": {\"9\": 229, \"13\": 3, \"5\": 4, \"14\": 1, \"10\": 3}, \"1\": {\"8\": 17, \"5\": 41, \"1\": 77, \"11\": 59, \"14\": 16, \"4\": 3, \"10\": 15, \"13\": 7, \"7\": 2, \"15\": 2, \"6\": 1}, \"5\": {\"5\": 95, \"11\": 17, \"10\": 30, \"14\": 39, \"4\": 10, \"1\": 30, \"13\": 13, \"8\": 4, \"0\": 1, \"6\": 1}, \"11\": {\"1\": 65, \"11\": 98, \"5\": 27, \"4\": 4, \"8\": 16, \"14\": 20, \"6\": 1, \"12\": 1, \"10\": 7, \"13\": 1}, \"4\": {\"15\": 6, \"6\": 27, \"7\": 16, \"4\": 34, \"0\": 23, \"5\": 8, \"14\": 38, \"13\": 28, \"10\": 35, \"11\": 1, \"1\": 11, \"8\": 10, \"12\": 2, \"3\": 1}, \"14\": {\"10\": 36, \"8\": 14, \"11\": 14, \"13\": 19, \"4\": 35, \"14\": 38, \"5\": 22, \"1\": 19, \"0\": 16, \"7\": 7, \"6\": 18, \"12\": 1, \"15\": 1}, \"12\": {\"12\": 78, \"7\": 11, \"8\": 24, \"1\": 2, \"2\": 27, \"15\": 56, \"3\": 30, \"4\": 5, \"14\": 1, \"11\": 1, \"6\": 4, \"10\": 1}, \"7\": {\"4\": 26, \"7\": 43, \"0\": 40, \"15\": 12, \"6\": 35, \"3\": 6, \"13\": 25, \"12\": 8, \"14\": 12, \"2\": 14, \"8\": 9, \"10\": 10}, \"0\": {\"10\": 20, \"0\": 60, \"13\": 43, \"6\": 26, \"7\": 34, \"12\": 4, \"8\": 5, \"4\": 21, \"14\": 15, \"15\": 4, \"2\": 4, \"5\": 2, \"3\": 1, \"1\": 1}, \"15\": {\"13\": 3, \"3\": 15, \"15\": 53, \"8\": 26, \"2\": 21, \"6\": 17, \"7\": 22, \"0\": 9, \"12\": 57, \"14\": 4, \"4\": 11, \"10\": 2}, \"2\": {\"7\": 18, \"2\": 82, \"3\": 57, \"13\": 2, \"15\": 27, \"6\": 14, \"12\": 20, \"0\": 16, \"14\": 1, \"10\": 1, \"4\": 2}, \"8\": {\"15\": 34, \"13\": 5, \"8\": 88, \"1\": 14, \"12\": 25, \"14\": 6, \"7\": 14, \"4\": 17, \"0\": 2, \"3\": 3, \"11\": 9, \"6\": 19, \"10\": 4}}, \"O_38\": {\"4\": {\"4\": 198, \"12\": 39, \"7\": 1, \"10\": 1, \"8\": 1}, \"7\": {\"7\": 111, \"8\": 26, \"3\": 13, \"0\": 38, \"4\": 2, \"5\": 28, \"10\": 13, \"15\": 2, \"9\": 4, \"6\": 2, \"1\": 1}, \"12\": {\"12\": 163, \"4\": 45, \"11\": 14, \"14\": 12, \"10\": 6}, \"10\": {\"11\": 17, \"10\": 87, \"0\": 19, \"8\": 20, \"15\": 16, \"12\": 11, \"14\": 19, \"13\": 24, \"7\": 11, \"2\": 9, \"4\": 2, \"5\": 4, \"1\": 1}, \"0\": {\"7\": 52, \"5\": 27, \"12\": 8, \"8\": 47, \"0\": 61, \"6\": 4, \"9\": 3, \"10\": 11, \"1\": 2, \"15\": 6, \"13\": 6, \"3\": 11, \"4\": 2}, \"1\": {\"1\": 135, \"15\": 39, \"13\": 25, \"6\": 14, \"9\": 4, \"10\": 2, \"0\": 3, \"8\": 3, \"3\": 2, \"5\": 11, \"2\": 2}, \"5\": {\"8\": 32, \"15\": 17, \"1\": 23, \"7\": 26, \"5\": 47, \"0\": 21, \"6\": 25, \"9\": 18, \"13\": 19, \"10\": 7, \"3\": 5}, \"15\": {\"8\": 19, \"15\": 61, \"2\": 10, \"10\": 16, \"1\": 50, \"13\": 60, \"5\": 12, \"0\": 7, \"7\": 3, \"6\": 2}, \"9\": {\"9\": 98, \"6\": 83, \"3\": 36, \"1\": 7, \"5\": 10, \"7\": 3, \"0\": 3}, \"11\": {\"11\": 100, \"12\": 17, \"14\": 87, \"13\": 2, \"2\": 10, \"10\": 18, \"15\": 3, \"4\": 3}, \"14\": {\"14\": 113, \"10\": 15, \"11\": 64, \"2\": 33, \"15\": 1, \"12\": 13, \"4\": 1}, \"6\": {\"9\": 64, \"7\": 4, \"6\": 128, \"5\": 19, \"1\": 16, \"15\": 1, \"8\": 2, \"3\": 4, \"0\": 1, \"13\": 1}, \"8\": {\"3\": 6, \"0\": 41, \"8\": 51, \"10\": 23, \"15\": 19, \"5\": 46, \"13\": 17, \"7\": 24, \"1\": 5, \"9\": 2, \"2\": 3, \"6\": 3}, \"3\": {\"3\": 134, \"7\": 16, \"0\": 17, \"6\": 15, \"9\": 38, \"5\": 14, \"8\": 5, \"12\": 1}, \"2\": {\"2\": 160, \"11\": 11, \"13\": 25, \"15\": 7, \"14\": 20, \"1\": 2, \"10\": 13, \"12\": 1, \"0\": 1}, \"13\": {\"8\": 17, \"10\": 15, \"1\": 37, \"13\": 68, \"2\": 24, \"5\": 12, \"6\": 1, \"15\": 51, \"0\": 7, \"11\": 1, \"7\": 4, \"14\": 2, \"9\": 1}}}, \"per_domain_accuracy\": {\"C_4\": {\"accuracy\": 0.998877245508982, \"source?\": true}, \"C_5\": {\"accuracy\": 0.9982541899441341, \"source?\": true}, \"C_2\": {\"accuracy\": 0.9998214285714285, \"source?\": true}, \"C_1\": {\"accuracy\": 0.9998301630434783, \"source?\": true}, \"C_3\": {\"accuracy\": 0.9981617647058824, \"source?\": true}, \"O_14\": {\"accuracy\": 0.38515625, \"source?\": false}, \"O_20\": {\"accuracy\": 0.21119791666666668, \"source?\": false}, \"O_50\": {\"accuracy\": 0.42604166666666665, \"source?\": false}, \"O_26\": {\"accuracy\": 0.25338541666666664, \"source?\": false}, \"O_32\": {\"accuracy\": 0.4875, \"source?\": false}, \"O_44\": {\"accuracy\": 0.3841145833333333, \"source?\": false}, \"O_8\": {\"accuracy\": 0.309375, \"source?\": false}, \"O_38\": {\"accuracy\": 0.4466145833333333, \"source?\": false}}}, \"history\": {\"epoch_indices\": [1, 2, 3, 4, 5, 6, 7, 8], \"train_label_loss\": [0.033946163991771, 0.009308321851580684, 0.007582007407439304, 0.005425985746054497, 0.004688387666599021, 0.0031743602393310864, 0.0040514939102481275, 0.0023444427067387426], \"source_val_label_loss\": [0.6091952323913574, 0.0268991831690073, 0.07642455399036407, 0.05033673346042633, 0.08238260447978973, 0.05054045096039772, 0.046187564730644226, 0.032645631581544876], \"target_val_label_loss\": [2.2428367137908936, 2.1508383750915527, 2.4635255336761475, 2.11040997505188, 1.9631383419036865, 2.2463910579681396, 2.361283779144287, 2.51131272315979], \"source_val_acc_label\": [0.9869642857142857, 0.9976071428571428, 0.995, 0.999, 0.99875, 0.9993214285714286, 0.9991785714285715, 0.9992857142857143], \"target_val_acc_label\": [0.2762044270833333, 0.33277994791666665, 0.3138020833333333, 0.3629231770833333, 0.3611979166666667, 0.32626953125, 0.32493489583333335, 0.3283203125]}, \"dataset_metrics\": {\"source\": {\"train\": {\"n_unique_x\": 175203, \"n_unique_y\": 58, \"n_batch/episode\": 6315}, \"val\": {\"n_unique_x\": 37216, \"n_unique_y\": 58, \"n_batch/episode\": 875}, \"test\": {\"n_unique_x\": 37596, \"n_unique_y\": 58, \"n_batch/episode\": 886}}, \"target\": {\"train\": {\"n_unique_x\": 179200, \"n_unique_y\": 16, \"n_batch/episode\": 6720}, \"val\": {\"n_unique_x\": 38400, \"n_unique_y\": 16, \"n_batch/episode\": 960}, \"test\": {\"n_unique_x\": 38400, \"n_unique_y\": 16, \"n_batch/episode\": 960}}}}'"
      ]
     },
     "execution_count": 29,
     "metadata": {},
     "output_type": "execute_result"
    }
   ],
   "source": [
    "json.dumps(experiment)"
   ]
  }
 ],
 "metadata": {
  "celltoolbar": "Tags",
  "kernelspec": {
   "display_name": "Python 3 (ipykernel)",
   "language": "python",
   "name": "python3"
  },
  "language_info": {
   "codemirror_mode": {
    "name": "ipython",
    "version": 3
   },
   "file_extension": ".py",
   "mimetype": "text/x-python",
   "name": "python",
   "nbconvert_exporter": "python",
   "pygments_lexer": "ipython3",
   "version": "3.8.10"
  },
  "papermill": {
   "default_parameters": {},
   "duration": 2828.186669,
   "end_time": "2022-03-26T20:02:42.590262",
   "environment_variables": {},
   "exception": null,
   "input_path": "/mnt/wd500GB/CSC500/csc500-main/csc500-notebooks/templates/tl_ptn_template.ipynb",
   "output_path": "trial.ipynb",
   "parameters": {
    "parameters": {
     "BEST_MODEL_PATH": "./best_model.pth",
     "NUM_LOGS_PER_EPOCH": 10,
     "criteria_for_best": "target_accuracy",
     "dataset_seed": 420,
     "datasets": [
      {
       "domain_prefix": "C_",
       "domains": [
        1,
        2,
        3,
        4,
        5
       ],
       "episode_transforms": [],
       "labels": [
        "1-10.",
        "1-11.",
        "1-15.",
        "1-16.",
        "1-17.",
        "1-18.",
        "1-19.",
        "10-4.",
        "10-7.",
        "11-1.",
        "11-14.",
        "11-17.",
        "11-20.",
        "11-7.",
        "13-20.",
        "13-8.",
        "14-10.",
        "14-11.",
        "14-14.",
        "14-7.",
        "15-1.",
        "15-20.",
        "16-1.",
        "16-16.",
        "17-10.",
        "17-11.",
        "17-2.",
        "19-1.",
        "19-16.",
        "19-19.",
        "19-20.",
        "19-3.",
        "2-10.",
        "2-11.",
        "2-17.",
        "2-18.",
        "2-20.",
        "2-3.",
        "2-4.",
        "2-5.",
        "2-6.",
        "2-7.",
        "2-8.",
        "3-13.",
        "3-18.",
        "3-3.",
        "4-1.",
        "4-10.",
        "4-11.",
        "4-19.",
        "5-5.",
        "6-15.",
        "7-10.",
        "7-14.",
        "8-18.",
        "8-20.",
        "8-3.",
        "8-8."
       ],
       "num_examples_per_domain_per_label": -1,
       "pickle_path": "/mnt/wd500GB/CSC500/csc500-main/datasets/cores.stratified_ds.2022A.pkl",
       "source_or_target_dataset": "source",
       "x_transforms": [
        "unit_power",
        "jitter_256_1",
        "lowpass_+/-10MHz",
        "take_200"
       ]
      },
      {
       "domain_prefix": "O_",
       "domains": [
        32,
        38,
        8,
        44,
        14,
        50,
        20,
        26
       ],
       "episode_transforms": [],
       "labels": [
        "3123D52",
        "3123D65",
        "3123D79",
        "3123D80",
        "3123D54",
        "3123D70",
        "3123D7B",
        "3123D89",
        "3123D58",
        "3123D76",
        "3123D7D",
        "3123EFE",
        "3123D64",
        "3123D78",
        "3123D7E",
        "3124E4A"
       ],
       "num_examples_per_domain_per_label": 2000,
       "pickle_path": "/mnt/wd500GB/CSC500/csc500-main/datasets/oracle.Run1_framed_2000Examples_stratified_ds.2022A.pkl",
       "source_or_target_dataset": "target",
       "x_transforms": [
        "unit_power",
        "jitter_256_1",
        "take_200",
        "resample_20Msps_to_25Msps"
       ]
      }
     ],
     "device": "cuda",
     "experiment_name": "tl_3-jitter1v2:cores -> oracle.run1.framed",
     "lr": 0.0001,
     "n_epoch": 50,
     "n_query": 2,
     "n_shot": 3,
     "n_way": 16,
     "patience": 3,
     "seed": 420,
     "test_k_factor": 2,
     "torch_default_dtype": "torch.float32",
     "train_k_factor": 3,
     "val_k_factor": 2,
     "x_net": [
      {
       "class": "nnReshape",
       "kargs": {
        "shape": [
         -1,
         1,
         2,
         256
        ]
       }
      },
      {
       "class": "Conv2d",
       "kargs": {
        "bias": false,
        "in_channels": 1,
        "kernel_size": [
         1,
         7
        ],
        "out_channels": 256,
        "padding": [
         0,
         3
        ]
       }
      },
      {
       "class": "ReLU",
       "kargs": {
        "inplace": true
       }
      },
      {
       "class": "BatchNorm2d",
       "kargs": {
        "num_features": 256
       }
      },
      {
       "class": "Conv2d",
       "kargs": {
        "bias": true,
        "in_channels": 256,
        "kernel_size": [
         2,
         7
        ],
        "out_channels": 80,
        "padding": [
         0,
         3
        ]
       }
      },
      {
       "class": "ReLU",
       "kargs": {
        "inplace": true
       }
      },
      {
       "class": "BatchNorm2d",
       "kargs": {
        "num_features": 80
       }
      },
      {
       "class": "Flatten",
       "kargs": {}
      },
      {
       "class": "Linear",
       "kargs": {
        "in_features": 20480,
        "out_features": 256
       }
      },
      {
       "class": "ReLU",
       "kargs": {
        "inplace": true
       }
      },
      {
       "class": "BatchNorm1d",
       "kargs": {
        "num_features": 256
       }
      },
      {
       "class": "Linear",
       "kargs": {
        "in_features": 256,
        "out_features": 256
       }
      }
     ],
     "x_shape": [
      2,
      256
     ]
    }
   },
   "start_time": "2022-03-26T19:15:34.403593",
   "version": "2.3.4"
  }
 },
 "nbformat": 4,
 "nbformat_minor": 5
}