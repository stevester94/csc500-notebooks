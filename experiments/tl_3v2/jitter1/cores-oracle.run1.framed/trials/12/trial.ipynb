{
 "cells": [
  {
   "cell_type": "markdown",
   "id": "9fea5f46",
   "metadata": {
    "papermill": {
     "duration": 0.059103,
     "end_time": "2022-03-28T00:10:24.063168",
     "exception": false,
     "start_time": "2022-03-28T00:10:24.004065",
     "status": "completed"
    },
    "tags": []
   },
   "source": [
    "# Transfer Learning Template"
   ]
  },
  {
   "cell_type": "code",
   "execution_count": 1,
   "id": "0902182a",
   "metadata": {
    "execution": {
     "iopub.execute_input": "2022-03-28T00:10:24.132879Z",
     "iopub.status.busy": "2022-03-28T00:10:24.132033Z",
     "iopub.status.idle": "2022-03-28T00:10:26.235061Z",
     "shell.execute_reply": "2022-03-28T00:10:26.234521Z"
    },
    "papermill": {
     "duration": 2.143082,
     "end_time": "2022-03-28T00:10:26.235157",
     "exception": false,
     "start_time": "2022-03-28T00:10:24.092075",
     "status": "completed"
    },
    "tags": []
   },
   "outputs": [],
   "source": [
    "%load_ext autoreload\n",
    "%autoreload 2\n",
    "%matplotlib inline\n",
    "\n",
    "    \n",
    "import os, json, sys, time, random\n",
    "import numpy as np\n",
    "import torch\n",
    "from torch.optim import Adam\n",
    "from  easydict import EasyDict\n",
    "import matplotlib.pyplot as plt\n",
    "\n",
    "from steves_models.steves_ptn import Steves_Prototypical_Network\n",
    "\n",
    "from steves_utils.lazy_iterable_wrapper import Lazy_Iterable_Wrapper\n",
    "from steves_utils.iterable_aggregator import Iterable_Aggregator\n",
    "from steves_utils.ptn_train_eval_test_jig import  PTN_Train_Eval_Test_Jig\n",
    "from steves_utils.torch_sequential_builder import build_sequential\n",
    "from steves_utils.torch_utils import get_dataset_metrics, ptn_confusion_by_domain_over_dataloader\n",
    "from steves_utils.utils_v2 import (per_domain_accuracy_from_confusion, get_datasets_base_path)\n",
    "from steves_utils.PTN.utils import independent_accuracy_assesment\n",
    "\n",
    "from torch.utils.data import DataLoader\n",
    "\n",
    "from steves_utils.stratified_dataset.episodic_accessor import Episodic_Accessor_Factory\n",
    "\n",
    "from steves_utils.ptn_do_report import (\n",
    "    get_loss_curve,\n",
    "    get_results_table,\n",
    "    get_parameters_table,\n",
    "    get_domain_accuracies,\n",
    ")\n",
    "\n",
    "from steves_utils.transforms import get_chained_transform"
   ]
  },
  {
   "cell_type": "markdown",
   "id": "41c840b4",
   "metadata": {
    "papermill": {
     "duration": 0.01943,
     "end_time": "2022-03-28T00:10:26.274647",
     "exception": false,
     "start_time": "2022-03-28T00:10:26.255217",
     "status": "completed"
    },
    "tags": []
   },
   "source": [
    "# Allowed Parameters\n",
    "These are allowed parameters, not defaults\n",
    "Each of these values need to be present in the injected parameters (the notebook will raise an exception if they are not present)\n",
    "\n",
    "Papermill uses the cell tag \"parameters\" to inject the real parameters below this cell.\n",
    "Enable tags to see what I mean"
   ]
  },
  {
   "cell_type": "code",
   "execution_count": 2,
   "id": "fd44eb83",
   "metadata": {
    "execution": {
     "iopub.execute_input": "2022-03-28T00:10:26.318471Z",
     "iopub.status.busy": "2022-03-28T00:10:26.317871Z",
     "iopub.status.idle": "2022-03-28T00:10:26.340512Z",
     "shell.execute_reply": "2022-03-28T00:10:26.340192Z"
    },
    "papermill": {
     "duration": 0.046694,
     "end_time": "2022-03-28T00:10:26.340583",
     "exception": false,
     "start_time": "2022-03-28T00:10:26.293889",
     "status": "completed"
    },
    "tags": []
   },
   "outputs": [],
   "source": [
    "required_parameters = {\n",
    "    \"experiment_name\",\n",
    "    \"lr\",\n",
    "    \"device\",\n",
    "    \"seed\",\n",
    "    \"dataset_seed\",\n",
    "    \"n_shot\",\n",
    "    \"n_query\",\n",
    "    \"n_way\",\n",
    "    \"train_k_factor\",\n",
    "    \"val_k_factor\",\n",
    "    \"test_k_factor\",\n",
    "    \"n_epoch\",\n",
    "    \"patience\",\n",
    "    \"criteria_for_best\",\n",
    "    \"x_net\",\n",
    "    \"datasets\",\n",
    "    \"torch_default_dtype\",\n",
    "    \"NUM_LOGS_PER_EPOCH\",\n",
    "    \"BEST_MODEL_PATH\",\n",
    "    \"x_shape\",\n",
    "}"
   ]
  },
  {
   "cell_type": "code",
   "execution_count": 3,
   "id": "fa3f0049",
   "metadata": {
    "execution": {
     "iopub.execute_input": "2022-03-28T00:10:26.397912Z",
     "iopub.status.busy": "2022-03-28T00:10:26.397453Z",
     "iopub.status.idle": "2022-03-28T00:10:26.424224Z",
     "shell.execute_reply": "2022-03-28T00:10:26.423825Z"
    },
    "papermill": {
     "duration": 0.064127,
     "end_time": "2022-03-28T00:10:26.424294",
     "exception": false,
     "start_time": "2022-03-28T00:10:26.360167",
     "status": "completed"
    },
    "tags": [
     "parameters"
    ]
   },
   "outputs": [],
   "source": [
    "from steves_utils.CORES.utils import (\n",
    "    ALL_NODES,\n",
    "    ALL_NODES_MINIMUM_1000_EXAMPLES,\n",
    "    ALL_DAYS\n",
    ")\n",
    "\n",
    "from steves_utils.ORACLE.utils_v2 import (\n",
    "    ALL_DISTANCES_FEET_NARROWED,\n",
    "    ALL_RUNS,\n",
    "    ALL_SERIAL_NUMBERS,\n",
    ")\n",
    "\n",
    "standalone_parameters = {}\n",
    "standalone_parameters[\"experiment_name\"] = \"STANDALONE PTN\"\n",
    "standalone_parameters[\"lr\"] = 0.001\n",
    "standalone_parameters[\"device\"] = \"cuda\"\n",
    "\n",
    "standalone_parameters[\"seed\"] = 1337\n",
    "standalone_parameters[\"dataset_seed\"] = 1337\n",
    "\n",
    "standalone_parameters[\"n_way\"] = 8\n",
    "standalone_parameters[\"n_shot\"] = 3\n",
    "standalone_parameters[\"n_query\"]  = 2\n",
    "standalone_parameters[\"train_k_factor\"] = 1\n",
    "standalone_parameters[\"val_k_factor\"] = 2\n",
    "standalone_parameters[\"test_k_factor\"] = 2\n",
    "\n",
    "\n",
    "standalone_parameters[\"n_epoch\"] = 50\n",
    "\n",
    "standalone_parameters[\"patience\"] = 10\n",
    "standalone_parameters[\"criteria_for_best\"] = \"source_loss\"\n",
    "\n",
    "standalone_parameters[\"datasets\"] = [\n",
    "    {\n",
    "        \"labels\": ALL_SERIAL_NUMBERS,\n",
    "        \"domains\": ALL_DISTANCES_FEET_NARROWED,\n",
    "        \"num_examples_per_domain_per_label\": 100,\n",
    "        \"pickle_path\": os.path.join(get_datasets_base_path(), \"oracle.Run1_framed_2000Examples_stratified_ds.2022A.pkl\"),\n",
    "        \"source_or_target_dataset\": \"source\",\n",
    "        \"x_transforms\": [\"unit_mag\", \"minus_two\"],\n",
    "        \"episode_transforms\": [],\n",
    "        \"domain_prefix\": \"ORACLE_\"\n",
    "    },\n",
    "    {\n",
    "        \"labels\": ALL_NODES,\n",
    "        \"domains\": ALL_DAYS,\n",
    "        \"num_examples_per_domain_per_label\": 100,\n",
    "        \"pickle_path\": os.path.join(get_datasets_base_path(), \"cores.stratified_ds.2022A.pkl\"),\n",
    "        \"source_or_target_dataset\": \"target\",\n",
    "        \"x_transforms\": [\"unit_power\", \"times_zero\"],\n",
    "        \"episode_transforms\": [],\n",
    "        \"domain_prefix\": \"CORES_\"\n",
    "    }   \n",
    "]\n",
    "\n",
    "standalone_parameters[\"torch_default_dtype\"] = \"torch.float32\" \n",
    "\n",
    "\n",
    "\n",
    "standalone_parameters[\"x_net\"] =     [\n",
    "    {\"class\": \"nnReshape\", \"kargs\": {\"shape\":[-1, 1, 2, 256]}},\n",
    "    {\"class\": \"Conv2d\", \"kargs\": { \"in_channels\":1, \"out_channels\":256, \"kernel_size\":(1,7), \"bias\":False, \"padding\":(0,3), },},\n",
    "    {\"class\": \"ReLU\", \"kargs\": {\"inplace\": True}},\n",
    "    {\"class\": \"BatchNorm2d\", \"kargs\": {\"num_features\":256}},\n",
    "\n",
    "    {\"class\": \"Conv2d\", \"kargs\": { \"in_channels\":256, \"out_channels\":80, \"kernel_size\":(2,7), \"bias\":True, \"padding\":(0,3), },},\n",
    "    {\"class\": \"ReLU\", \"kargs\": {\"inplace\": True}},\n",
    "    {\"class\": \"BatchNorm2d\", \"kargs\": {\"num_features\":80}},\n",
    "    {\"class\": \"Flatten\", \"kargs\": {}},\n",
    "\n",
    "    {\"class\": \"Linear\", \"kargs\": {\"in_features\": 80*256, \"out_features\": 256}}, # 80 units per IQ pair\n",
    "    {\"class\": \"ReLU\", \"kargs\": {\"inplace\": True}},\n",
    "    {\"class\": \"BatchNorm1d\", \"kargs\": {\"num_features\":256}},\n",
    "\n",
    "    {\"class\": \"Linear\", \"kargs\": {\"in_features\": 256, \"out_features\": 256}},\n",
    "]\n",
    "\n",
    "# Parameters relevant to results\n",
    "# These parameters will basically never need to change\n",
    "standalone_parameters[\"NUM_LOGS_PER_EPOCH\"] = 10\n",
    "standalone_parameters[\"BEST_MODEL_PATH\"] = \"./best_model.pth\"\n",
    "\n",
    "\n",
    "\n",
    "\n"
   ]
  },
  {
   "cell_type": "code",
   "execution_count": 4,
   "id": "3020e279",
   "metadata": {
    "execution": {
     "iopub.execute_input": "2022-03-28T00:10:26.480829Z",
     "iopub.status.busy": "2022-03-28T00:10:26.479878Z",
     "iopub.status.idle": "2022-03-28T00:10:26.501912Z",
     "shell.execute_reply": "2022-03-28T00:10:26.501106Z"
    },
    "papermill": {
     "duration": 0.058185,
     "end_time": "2022-03-28T00:10:26.502066",
     "exception": false,
     "start_time": "2022-03-28T00:10:26.443881",
     "status": "completed"
    },
    "tags": [
     "injected-parameters"
    ]
   },
   "outputs": [],
   "source": [
    "# Parameters\n",
    "parameters = {\n",
    "    \"experiment_name\": \"tl_3-jitter1v2:cores -> oracle.run1.framed\",\n",
    "    \"device\": \"cuda\",\n",
    "    \"lr\": 0.0001,\n",
    "    \"x_shape\": [2, 256],\n",
    "    \"n_shot\": 3,\n",
    "    \"n_query\": 2,\n",
    "    \"train_k_factor\": 3,\n",
    "    \"val_k_factor\": 2,\n",
    "    \"test_k_factor\": 2,\n",
    "    \"torch_default_dtype\": \"torch.float32\",\n",
    "    \"n_epoch\": 50,\n",
    "    \"patience\": 3,\n",
    "    \"criteria_for_best\": \"target_accuracy\",\n",
    "    \"x_net\": [\n",
    "        {\"class\": \"nnReshape\", \"kargs\": {\"shape\": [-1, 1, 2, 256]}},\n",
    "        {\n",
    "            \"class\": \"Conv2d\",\n",
    "            \"kargs\": {\n",
    "                \"in_channels\": 1,\n",
    "                \"out_channels\": 256,\n",
    "                \"kernel_size\": [1, 7],\n",
    "                \"bias\": False,\n",
    "                \"padding\": [0, 3],\n",
    "            },\n",
    "        },\n",
    "        {\"class\": \"ReLU\", \"kargs\": {\"inplace\": True}},\n",
    "        {\"class\": \"BatchNorm2d\", \"kargs\": {\"num_features\": 256}},\n",
    "        {\n",
    "            \"class\": \"Conv2d\",\n",
    "            \"kargs\": {\n",
    "                \"in_channels\": 256,\n",
    "                \"out_channels\": 80,\n",
    "                \"kernel_size\": [2, 7],\n",
    "                \"bias\": True,\n",
    "                \"padding\": [0, 3],\n",
    "            },\n",
    "        },\n",
    "        {\"class\": \"ReLU\", \"kargs\": {\"inplace\": True}},\n",
    "        {\"class\": \"BatchNorm2d\", \"kargs\": {\"num_features\": 80}},\n",
    "        {\"class\": \"Flatten\", \"kargs\": {}},\n",
    "        {\"class\": \"Linear\", \"kargs\": {\"in_features\": 20480, \"out_features\": 256}},\n",
    "        {\"class\": \"ReLU\", \"kargs\": {\"inplace\": True}},\n",
    "        {\"class\": \"BatchNorm1d\", \"kargs\": {\"num_features\": 256}},\n",
    "        {\"class\": \"Linear\", \"kargs\": {\"in_features\": 256, \"out_features\": 256}},\n",
    "    ],\n",
    "    \"NUM_LOGS_PER_EPOCH\": 10,\n",
    "    \"BEST_MODEL_PATH\": \"./best_model.pth\",\n",
    "    \"n_way\": 16,\n",
    "    \"datasets\": [\n",
    "        {\n",
    "            \"labels\": [\n",
    "                \"1-10.\",\n",
    "                \"1-11.\",\n",
    "                \"1-15.\",\n",
    "                \"1-16.\",\n",
    "                \"1-17.\",\n",
    "                \"1-18.\",\n",
    "                \"1-19.\",\n",
    "                \"10-4.\",\n",
    "                \"10-7.\",\n",
    "                \"11-1.\",\n",
    "                \"11-14.\",\n",
    "                \"11-17.\",\n",
    "                \"11-20.\",\n",
    "                \"11-7.\",\n",
    "                \"13-20.\",\n",
    "                \"13-8.\",\n",
    "                \"14-10.\",\n",
    "                \"14-11.\",\n",
    "                \"14-14.\",\n",
    "                \"14-7.\",\n",
    "                \"15-1.\",\n",
    "                \"15-20.\",\n",
    "                \"16-1.\",\n",
    "                \"16-16.\",\n",
    "                \"17-10.\",\n",
    "                \"17-11.\",\n",
    "                \"17-2.\",\n",
    "                \"19-1.\",\n",
    "                \"19-16.\",\n",
    "                \"19-19.\",\n",
    "                \"19-20.\",\n",
    "                \"19-3.\",\n",
    "                \"2-10.\",\n",
    "                \"2-11.\",\n",
    "                \"2-17.\",\n",
    "                \"2-18.\",\n",
    "                \"2-20.\",\n",
    "                \"2-3.\",\n",
    "                \"2-4.\",\n",
    "                \"2-5.\",\n",
    "                \"2-6.\",\n",
    "                \"2-7.\",\n",
    "                \"2-8.\",\n",
    "                \"3-13.\",\n",
    "                \"3-18.\",\n",
    "                \"3-3.\",\n",
    "                \"4-1.\",\n",
    "                \"4-10.\",\n",
    "                \"4-11.\",\n",
    "                \"4-19.\",\n",
    "                \"5-5.\",\n",
    "                \"6-15.\",\n",
    "                \"7-10.\",\n",
    "                \"7-14.\",\n",
    "                \"8-18.\",\n",
    "                \"8-20.\",\n",
    "                \"8-3.\",\n",
    "                \"8-8.\",\n",
    "            ],\n",
    "            \"domains\": [1, 2, 3, 4, 5],\n",
    "            \"num_examples_per_domain_per_label\": -1,\n",
    "            \"pickle_path\": \"/root/csc500-main/datasets/cores.stratified_ds.2022A.pkl\",\n",
    "            \"source_or_target_dataset\": \"source\",\n",
    "            \"x_transforms\": [\n",
    "                \"unit_power\",\n",
    "                \"jitter_256_1\",\n",
    "                \"lowpass_+/-10MHz\",\n",
    "                \"take_200\",\n",
    "            ],\n",
    "            \"episode_transforms\": [],\n",
    "            \"domain_prefix\": \"C_\",\n",
    "        },\n",
    "        {\n",
    "            \"labels\": [\n",
    "                \"3123D52\",\n",
    "                \"3123D65\",\n",
    "                \"3123D79\",\n",
    "                \"3123D80\",\n",
    "                \"3123D54\",\n",
    "                \"3123D70\",\n",
    "                \"3123D7B\",\n",
    "                \"3123D89\",\n",
    "                \"3123D58\",\n",
    "                \"3123D76\",\n",
    "                \"3123D7D\",\n",
    "                \"3123EFE\",\n",
    "                \"3123D64\",\n",
    "                \"3123D78\",\n",
    "                \"3123D7E\",\n",
    "                \"3124E4A\",\n",
    "            ],\n",
    "            \"domains\": [32, 38, 8, 44, 14, 50, 20, 26],\n",
    "            \"num_examples_per_domain_per_label\": 2000,\n",
    "            \"pickle_path\": \"/root/csc500-main/datasets/oracle.Run1_framed_2000Examples_stratified_ds.2022A.pkl\",\n",
    "            \"source_or_target_dataset\": \"target\",\n",
    "            \"x_transforms\": [\n",
    "                \"unit_power\",\n",
    "                \"jitter_256_1\",\n",
    "                \"take_200\",\n",
    "                \"resample_20Msps_to_25Msps\",\n",
    "            ],\n",
    "            \"episode_transforms\": [],\n",
    "            \"domain_prefix\": \"O_\",\n",
    "        },\n",
    "    ],\n",
    "    \"seed\": 500,\n",
    "    \"dataset_seed\": 500,\n",
    "}\n"
   ]
  },
  {
   "cell_type": "code",
   "execution_count": 5,
   "id": "8fa1cc33",
   "metadata": {
    "execution": {
     "iopub.execute_input": "2022-03-28T00:10:26.563546Z",
     "iopub.status.busy": "2022-03-28T00:10:26.563168Z",
     "iopub.status.idle": "2022-03-28T00:10:26.588305Z",
     "shell.execute_reply": "2022-03-28T00:10:26.587486Z"
    },
    "papermill": {
     "duration": 0.059827,
     "end_time": "2022-03-28T00:10:26.588459",
     "exception": false,
     "start_time": "2022-03-28T00:10:26.528632",
     "status": "completed"
    },
    "tags": []
   },
   "outputs": [],
   "source": [
    "# Set this to True if you want to run this template directly\n",
    "STANDALONE = False\n",
    "if STANDALONE:\n",
    "    print(\"parameters not injected, running with standalone_parameters\")\n",
    "    parameters = standalone_parameters\n",
    "\n",
    "if not 'parameters' in locals() and not 'parameters' in globals():\n",
    "    raise Exception(\"Parameter injection failed\")\n",
    "\n",
    "#Use an easy dict for all the parameters\n",
    "p = EasyDict(parameters)\n",
    "\n",
    "if \"x_shape\" not in p:\n",
    "    p.x_shape = [2,256] # Default to this if we dont supply x_shape\n",
    "\n",
    "\n",
    "supplied_keys = set(p.keys())\n",
    "\n",
    "if  supplied_keys != required_parameters:\n",
    "    print(\"Parameters are incorrect\")\n",
    "    if len(supplied_keys - required_parameters)>0: print(\"Shouldn't have:\", str(supplied_keys - required_parameters))\n",
    "    if len(required_parameters - supplied_keys)>0: print(\"Need to have:\", str(required_parameters - supplied_keys))\n",
    "    raise RuntimeError(\"Parameters are incorrect\")"
   ]
  },
  {
   "cell_type": "code",
   "execution_count": 6,
   "id": "3a028d58",
   "metadata": {
    "execution": {
     "iopub.execute_input": "2022-03-28T00:10:26.637151Z",
     "iopub.status.busy": "2022-03-28T00:10:26.636547Z",
     "iopub.status.idle": "2022-03-28T00:10:26.660552Z",
     "shell.execute_reply": "2022-03-28T00:10:26.659756Z"
    },
    "papermill": {
     "duration": 0.048397,
     "end_time": "2022-03-28T00:10:26.660704",
     "exception": false,
     "start_time": "2022-03-28T00:10:26.612307",
     "status": "completed"
    },
    "tags": []
   },
   "outputs": [],
   "source": [
    "###################################\n",
    "# Set the RNGs and make it all deterministic\n",
    "###################################\n",
    "np.random.seed(p.seed)\n",
    "random.seed(p.seed)\n",
    "torch.manual_seed(p.seed)\n",
    "\n",
    "torch.use_deterministic_algorithms(True) "
   ]
  },
  {
   "cell_type": "code",
   "execution_count": 7,
   "id": "b691acf6",
   "metadata": {
    "execution": {
     "iopub.execute_input": "2022-03-28T00:10:26.711515Z",
     "iopub.status.busy": "2022-03-28T00:10:26.710762Z",
     "iopub.status.idle": "2022-03-28T00:10:26.735631Z",
     "shell.execute_reply": "2022-03-28T00:10:26.734800Z"
    },
    "papermill": {
     "duration": 0.04745,
     "end_time": "2022-03-28T00:10:26.735787",
     "exception": false,
     "start_time": "2022-03-28T00:10:26.688337",
     "status": "completed"
    },
    "tags": []
   },
   "outputs": [],
   "source": [
    "###########################################\n",
    "# The stratified datasets honor this\n",
    "###########################################\n",
    "torch.set_default_dtype(eval(p.torch_default_dtype))"
   ]
  },
  {
   "cell_type": "code",
   "execution_count": 8,
   "id": "b5fba671",
   "metadata": {
    "execution": {
     "iopub.execute_input": "2022-03-28T00:10:26.808576Z",
     "iopub.status.busy": "2022-03-28T00:10:26.807961Z",
     "iopub.status.idle": "2022-03-28T00:10:26.864638Z",
     "shell.execute_reply": "2022-03-28T00:10:26.863847Z"
    },
    "papermill": {
     "duration": 0.102546,
     "end_time": "2022-03-28T00:10:26.864790",
     "exception": false,
     "start_time": "2022-03-28T00:10:26.762244",
     "status": "completed"
    },
    "tags": []
   },
   "outputs": [],
   "source": [
    "###################################\n",
    "# Build the network(s)\n",
    "# Note: It's critical to do this AFTER setting the RNG\n",
    "###################################\n",
    "x_net = build_sequential(p.x_net)"
   ]
  },
  {
   "cell_type": "code",
   "execution_count": 9,
   "id": "5d7e61cc",
   "metadata": {
    "execution": {
     "iopub.execute_input": "2022-03-28T00:10:26.912064Z",
     "iopub.status.busy": "2022-03-28T00:10:26.911611Z",
     "iopub.status.idle": "2022-03-28T00:10:26.937458Z",
     "shell.execute_reply": "2022-03-28T00:10:26.936654Z"
    },
    "papermill": {
     "duration": 0.049352,
     "end_time": "2022-03-28T00:10:26.937613",
     "exception": false,
     "start_time": "2022-03-28T00:10:26.888261",
     "status": "completed"
    },
    "tags": []
   },
   "outputs": [],
   "source": [
    "start_time_secs = time.time()"
   ]
  },
  {
   "cell_type": "code",
   "execution_count": 10,
   "id": "c6b67dfd",
   "metadata": {
    "execution": {
     "iopub.execute_input": "2022-03-28T00:10:26.990829Z",
     "iopub.status.busy": "2022-03-28T00:10:26.987519Z",
     "iopub.status.idle": "2022-03-28T00:10:27.010560Z",
     "shell.execute_reply": "2022-03-28T00:10:27.009755Z"
    },
    "papermill": {
     "duration": 0.04717,
     "end_time": "2022-03-28T00:10:27.010715",
     "exception": false,
     "start_time": "2022-03-28T00:10:26.963545",
     "status": "completed"
    },
    "tags": []
   },
   "outputs": [],
   "source": [
    "p.domains_source = []\n",
    "p.domains_target = []\n",
    "\n",
    "\n",
    "train_original_source = []\n",
    "val_original_source   = []\n",
    "test_original_source  = []\n",
    "\n",
    "train_original_target = []\n",
    "val_original_target   = []\n",
    "test_original_target  = []"
   ]
  },
  {
   "cell_type": "code",
   "execution_count": 11,
   "id": "e3d9c3d3",
   "metadata": {
    "execution": {
     "iopub.execute_input": "2022-03-28T00:10:27.059189Z",
     "iopub.status.busy": "2022-03-28T00:10:27.058823Z",
     "iopub.status.idle": "2022-03-28T00:10:27.081053Z",
     "shell.execute_reply": "2022-03-28T00:10:27.080249Z"
    },
    "papermill": {
     "duration": 0.044951,
     "end_time": "2022-03-28T00:10:27.081206",
     "exception": false,
     "start_time": "2022-03-28T00:10:27.036255",
     "status": "completed"
    },
    "tags": []
   },
   "outputs": [],
   "source": [
    "# global_x_transform_func = lambda x: normalize(x.to(torch.get_default_dtype()), \"unit_power\") # unit_power, unit_mag\n",
    "# global_x_transform_func = lambda x: normalize(x, \"unit_power\") # unit_power, unit_mag"
   ]
  },
  {
   "cell_type": "code",
   "execution_count": 12,
   "id": "acb78fd2",
   "metadata": {
    "execution": {
     "iopub.execute_input": "2022-03-28T00:10:27.140407Z",
     "iopub.status.busy": "2022-03-28T00:10:27.139806Z",
     "iopub.status.idle": "2022-03-28T00:10:27.167337Z",
     "shell.execute_reply": "2022-03-28T00:10:27.166533Z"
    },
    "papermill": {
     "duration": 0.057673,
     "end_time": "2022-03-28T00:10:27.167488",
     "exception": false,
     "start_time": "2022-03-28T00:10:27.109815",
     "status": "completed"
    },
    "tags": []
   },
   "outputs": [],
   "source": [
    "def add_dataset(\n",
    "    labels,\n",
    "    domains,\n",
    "    pickle_path,\n",
    "    x_transforms,\n",
    "    episode_transforms,\n",
    "    domain_prefix,\n",
    "    num_examples_per_domain_per_label,\n",
    "    source_or_target_dataset:str,\n",
    "    iterator_seed=p.seed,\n",
    "    dataset_seed=p.dataset_seed,\n",
    "    n_shot=p.n_shot,\n",
    "    n_way=p.n_way,\n",
    "    n_query=p.n_query,\n",
    "    train_val_test_k_factors=(p.train_k_factor,p.val_k_factor,p.test_k_factor),\n",
    "):\n",
    "   \n",
    "    if x_transforms == []: x_transform = None\n",
    "    else: x_transform = get_chained_transform(x_transforms)\n",
    "    \n",
    "    if episode_transforms == []: episode_transform = None\n",
    "    else: raise Exception(\"episode_transforms not implemented\")\n",
    "    \n",
    "    episode_transform = lambda tup, _prefix=domain_prefix: (_prefix + str(tup[0]), tup[1])\n",
    "\n",
    "\n",
    "    eaf = Episodic_Accessor_Factory(\n",
    "        labels=labels,\n",
    "        domains=domains,\n",
    "        num_examples_per_domain_per_label=num_examples_per_domain_per_label,\n",
    "        iterator_seed=iterator_seed,\n",
    "        dataset_seed=dataset_seed,\n",
    "        n_shot=n_shot,\n",
    "        n_way=n_way,\n",
    "        n_query=n_query,\n",
    "        train_val_test_k_factors=train_val_test_k_factors,\n",
    "        pickle_path=pickle_path,\n",
    "        x_transform_func=x_transform,\n",
    "    )\n",
    "\n",
    "    train, val, test = eaf.get_train(), eaf.get_val(), eaf.get_test()\n",
    "    train = Lazy_Iterable_Wrapper(train, episode_transform)\n",
    "    val = Lazy_Iterable_Wrapper(val, episode_transform)\n",
    "    test = Lazy_Iterable_Wrapper(test, episode_transform)\n",
    "\n",
    "    if source_or_target_dataset==\"source\":\n",
    "        train_original_source.append(train)\n",
    "        val_original_source.append(val)\n",
    "        test_original_source.append(test)\n",
    "\n",
    "        p.domains_source.extend(\n",
    "            [domain_prefix + str(u) for u in domains]\n",
    "        )\n",
    "    elif source_or_target_dataset==\"target\":\n",
    "        train_original_target.append(train)\n",
    "        val_original_target.append(val)\n",
    "        test_original_target.append(test)\n",
    "        p.domains_target.extend(\n",
    "            [domain_prefix + str(u) for u in domains]\n",
    "        )\n",
    "    else:\n",
    "        raise Exception(f\"invalid source_or_target_dataset: {source_or_target_dataset}\")\n",
    "    "
   ]
  },
  {
   "cell_type": "code",
   "execution_count": 13,
   "id": "fe266617",
   "metadata": {
    "execution": {
     "iopub.execute_input": "2022-03-28T00:10:27.221890Z",
     "iopub.status.busy": "2022-03-28T00:10:27.221342Z",
     "iopub.status.idle": "2022-03-28T00:12:20.566811Z",
     "shell.execute_reply": "2022-03-28T00:12:20.566026Z"
    },
    "papermill": {
     "duration": 113.370191,
     "end_time": "2022-03-28T00:12:20.566994",
     "exception": false,
     "start_time": "2022-03-28T00:10:27.196803",
     "status": "completed"
    },
    "tags": []
   },
   "outputs": [],
   "source": [
    "for ds in p.datasets:\n",
    "    add_dataset(**ds)"
   ]
  },
  {
   "cell_type": "code",
   "execution_count": 14,
   "id": "b90d65ac",
   "metadata": {
    "execution": {
     "iopub.execute_input": "2022-03-28T00:12:20.616719Z",
     "iopub.status.busy": "2022-03-28T00:12:20.616343Z",
     "iopub.status.idle": "2022-03-28T00:12:20.637993Z",
     "shell.execute_reply": "2022-03-28T00:12:20.637179Z"
    },
    "papermill": {
     "duration": 0.044823,
     "end_time": "2022-03-28T00:12:20.638151",
     "exception": false,
     "start_time": "2022-03-28T00:12:20.593328",
     "status": "completed"
    },
    "tags": []
   },
   "outputs": [],
   "source": [
    "# from steves_utils.CORES.utils import (\n",
    "#     ALL_NODES,\n",
    "#     ALL_NODES_MINIMUM_1000_EXAMPLES,\n",
    "#     ALL_DAYS\n",
    "# )\n",
    "\n",
    "# add_dataset(\n",
    "#     labels=ALL_NODES,\n",
    "#     domains = ALL_DAYS,\n",
    "#     num_examples_per_domain_per_label=100,\n",
    "#     pickle_path=os.path.join(get_datasets_base_path(), \"cores.stratified_ds.2022A.pkl\"),\n",
    "#     source_or_target_dataset=\"target\",\n",
    "#     x_transform_func=global_x_transform_func,\n",
    "#     domain_modifier=lambda u: f\"cores_{u}\"\n",
    "# )"
   ]
  },
  {
   "cell_type": "code",
   "execution_count": 15,
   "id": "76db484d",
   "metadata": {
    "execution": {
     "iopub.execute_input": "2022-03-28T00:12:20.689192Z",
     "iopub.status.busy": "2022-03-28T00:12:20.688611Z",
     "iopub.status.idle": "2022-03-28T00:12:20.709036Z",
     "shell.execute_reply": "2022-03-28T00:12:20.708337Z"
    },
    "papermill": {
     "duration": 0.045196,
     "end_time": "2022-03-28T00:12:20.709190",
     "exception": false,
     "start_time": "2022-03-28T00:12:20.663994",
     "status": "completed"
    },
    "tags": []
   },
   "outputs": [],
   "source": [
    "# from steves_utils.ORACLE.utils_v2 import (\n",
    "#     ALL_DISTANCES_FEET,\n",
    "#     ALL_RUNS,\n",
    "#     ALL_SERIAL_NUMBERS,\n",
    "# )\n",
    "\n",
    "\n",
    "# add_dataset(\n",
    "#     labels=ALL_SERIAL_NUMBERS,\n",
    "#     domains = list(set(ALL_DISTANCES_FEET) - {2,62}),\n",
    "#     num_examples_per_domain_per_label=100,\n",
    "#     pickle_path=os.path.join(get_datasets_base_path(), \"oracle.Run2_framed_2000Examples_stratified_ds.2022A.pkl\"),\n",
    "#     source_or_target_dataset=\"source\",\n",
    "#     x_transform_func=global_x_transform_func,\n",
    "#     domain_modifier=lambda u: f\"oracle1_{u}\"\n",
    "# )\n"
   ]
  },
  {
   "cell_type": "code",
   "execution_count": 16,
   "id": "97dea9d2",
   "metadata": {
    "execution": {
     "iopub.execute_input": "2022-03-28T00:12:20.761508Z",
     "iopub.status.busy": "2022-03-28T00:12:20.760830Z",
     "iopub.status.idle": "2022-03-28T00:12:20.785571Z",
     "shell.execute_reply": "2022-03-28T00:12:20.784760Z"
    },
    "papermill": {
     "duration": 0.049486,
     "end_time": "2022-03-28T00:12:20.785728",
     "exception": false,
     "start_time": "2022-03-28T00:12:20.736242",
     "status": "completed"
    },
    "tags": []
   },
   "outputs": [],
   "source": [
    "# from steves_utils.ORACLE.utils_v2 import (\n",
    "#     ALL_DISTANCES_FEET,\n",
    "#     ALL_RUNS,\n",
    "#     ALL_SERIAL_NUMBERS,\n",
    "# )\n",
    "\n",
    "\n",
    "# add_dataset(\n",
    "#     labels=ALL_SERIAL_NUMBERS,\n",
    "#     domains = list(set(ALL_DISTANCES_FEET) - {2,62,56}),\n",
    "#     num_examples_per_domain_per_label=100,\n",
    "#     pickle_path=os.path.join(get_datasets_base_path(), \"oracle.Run2_framed_2000Examples_stratified_ds.2022A.pkl\"),\n",
    "#     source_or_target_dataset=\"source\",\n",
    "#     x_transform_func=global_x_transform_func,\n",
    "#     domain_modifier=lambda u: f\"oracle2_{u}\"\n",
    "# )"
   ]
  },
  {
   "cell_type": "code",
   "execution_count": 17,
   "id": "6f289866",
   "metadata": {
    "execution": {
     "iopub.execute_input": "2022-03-28T00:12:20.838132Z",
     "iopub.status.busy": "2022-03-28T00:12:20.837259Z",
     "iopub.status.idle": "2022-03-28T00:12:20.860555Z",
     "shell.execute_reply": "2022-03-28T00:12:20.859746Z"
    },
    "papermill": {
     "duration": 0.048329,
     "end_time": "2022-03-28T00:12:20.860710",
     "exception": false,
     "start_time": "2022-03-28T00:12:20.812381",
     "status": "completed"
    },
    "tags": []
   },
   "outputs": [],
   "source": [
    "# add_dataset(\n",
    "#     labels=list(range(19)),\n",
    "#     domains = [0,1,2],\n",
    "#     num_examples_per_domain_per_label=100,\n",
    "#     pickle_path=os.path.join(get_datasets_base_path(), \"metehan.stratified_ds.2022A.pkl\"),\n",
    "#     source_or_target_dataset=\"target\",\n",
    "#     x_transform_func=global_x_transform_func,\n",
    "#     domain_modifier=lambda u: f\"met_{u}\"\n",
    "# )"
   ]
  },
  {
   "cell_type": "code",
   "execution_count": 18,
   "id": "86a863c3",
   "metadata": {
    "execution": {
     "iopub.execute_input": "2022-03-28T00:12:20.912773Z",
     "iopub.status.busy": "2022-03-28T00:12:20.912408Z",
     "iopub.status.idle": "2022-03-28T00:12:20.930879Z",
     "shell.execute_reply": "2022-03-28T00:12:20.930075Z"
    },
    "papermill": {
     "duration": 0.041502,
     "end_time": "2022-03-28T00:12:20.931032",
     "exception": false,
     "start_time": "2022-03-28T00:12:20.889530",
     "status": "completed"
    },
    "tags": []
   },
   "outputs": [],
   "source": [
    "# # from steves_utils.wisig.utils import (\n",
    "# #     ALL_NODES_MINIMUM_100_EXAMPLES,\n",
    "# #     ALL_NODES_MINIMUM_500_EXAMPLES,\n",
    "# #     ALL_NODES_MINIMUM_1000_EXAMPLES,\n",
    "# #     ALL_DAYS\n",
    "# # )\n",
    "\n",
    "# import steves_utils.wisig.utils as wisig\n",
    "\n",
    "\n",
    "# add_dataset(\n",
    "#     labels=wisig.ALL_NODES_MINIMUM_100_EXAMPLES,\n",
    "#     domains = wisig.ALL_DAYS,\n",
    "#     num_examples_per_domain_per_label=100,\n",
    "#     pickle_path=os.path.join(get_datasets_base_path(), \"wisig.node3-19.stratified_ds.2022A.pkl\"),\n",
    "#     source_or_target_dataset=\"target\",\n",
    "#     x_transform_func=global_x_transform_func,\n",
    "#     domain_modifier=lambda u: f\"wisig_{u}\"\n",
    "# )"
   ]
  },
  {
   "cell_type": "code",
   "execution_count": 19,
   "id": "fd5442bc",
   "metadata": {
    "execution": {
     "iopub.execute_input": "2022-03-28T00:12:20.988845Z",
     "iopub.status.busy": "2022-03-28T00:12:20.988269Z",
     "iopub.status.idle": "2022-03-28T00:12:21.007849Z",
     "shell.execute_reply": "2022-03-28T00:12:21.007027Z"
    },
    "papermill": {
     "duration": 0.04935,
     "end_time": "2022-03-28T00:12:21.008010",
     "exception": false,
     "start_time": "2022-03-28T00:12:20.958660",
     "status": "completed"
    },
    "tags": []
   },
   "outputs": [],
   "source": [
    "###################################\n",
    "# Build the dataset\n",
    "###################################\n",
    "train_original_source = Iterable_Aggregator(train_original_source, p.seed)\n",
    "val_original_source = Iterable_Aggregator(val_original_source, p.seed)\n",
    "test_original_source = Iterable_Aggregator(test_original_source, p.seed)\n",
    "\n",
    "\n",
    "train_original_target = Iterable_Aggregator(train_original_target, p.seed)\n",
    "val_original_target = Iterable_Aggregator(val_original_target, p.seed)\n",
    "test_original_target = Iterable_Aggregator(test_original_target, p.seed)\n",
    "\n",
    "# For CNN We only use X and Y. And we only train on the source.\n",
    "# Properly form the data using a transform lambda and Lazy_Iterable_Wrapper. Finally wrap them in a dataloader\n",
    "\n",
    "transform_lambda = lambda ex: ex[1] # Original is (<domain>, <episode>) so we strip down to episode only\n",
    "\n",
    "train_processed_source = Lazy_Iterable_Wrapper(train_original_source, transform_lambda)\n",
    "val_processed_source   = Lazy_Iterable_Wrapper(val_original_source, transform_lambda)\n",
    "test_processed_source  = Lazy_Iterable_Wrapper(test_original_source, transform_lambda)\n",
    "\n",
    "train_processed_target = Lazy_Iterable_Wrapper(train_original_target, transform_lambda)\n",
    "val_processed_target   = Lazy_Iterable_Wrapper(val_original_target, transform_lambda)\n",
    "test_processed_target  = Lazy_Iterable_Wrapper(test_original_target, transform_lambda)\n",
    "\n",
    "datasets = EasyDict({\n",
    "    \"source\": {\n",
    "        \"original\": {\"train\":train_original_source, \"val\":val_original_source, \"test\":test_original_source},\n",
    "        \"processed\": {\"train\":train_processed_source, \"val\":val_processed_source, \"test\":test_processed_source}\n",
    "    },\n",
    "    \"target\": {\n",
    "        \"original\": {\"train\":train_original_target, \"val\":val_original_target, \"test\":test_original_target},\n",
    "        \"processed\": {\"train\":train_processed_target, \"val\":val_processed_target, \"test\":test_processed_target}\n",
    "    },\n",
    "})"
   ]
  },
  {
   "cell_type": "code",
   "execution_count": 20,
   "id": "5b3c01fc",
   "metadata": {
    "execution": {
     "iopub.execute_input": "2022-03-28T00:12:21.068589Z",
     "iopub.status.busy": "2022-03-28T00:12:21.061746Z",
     "iopub.status.idle": "2022-03-28T00:12:36.670443Z",
     "shell.execute_reply": "2022-03-28T00:12:36.669694Z"
    },
    "papermill": {
     "duration": 15.633288,
     "end_time": "2022-03-28T00:12:36.670620",
     "exception": false,
     "start_time": "2022-03-28T00:12:21.037332",
     "status": "completed"
    },
    "tags": []
   },
   "outputs": [
    {
     "name": "stdout",
     "output_type": "stream",
     "text": [
      "{'C_4', 'C_5', 'C_3', 'C_1', 'C_2'}\n"
     ]
    },
    {
     "name": "stdout",
     "output_type": "stream",
     "text": [
      "{'O_20', 'O_8', 'O_14', 'O_32', 'O_50', 'O_38', 'O_26', 'O_44'}\n"
     ]
    },
    {
     "name": "stdout",
     "output_type": "stream",
     "text": [
      "tensor([[[0., 0., 0.,  ..., 0., 0., 0.],\n",
      "         [0., 0., 0.,  ..., 0., 0., 0.]],\n",
      "\n",
      "        [[0., 0., 0.,  ..., 0., 0., 0.],\n",
      "         [0., 0., 0.,  ..., 0., 0., 0.]],\n",
      "\n",
      "        [[0., 0., 0.,  ..., 0., 0., 0.],\n",
      "         [0., 0., 0.,  ..., 0., 0., 0.]],\n",
      "\n",
      "        ...,\n",
      "\n",
      "        [[0., 0., 0.,  ..., 0., 0., 0.],\n",
      "         [0., 0., 0.,  ..., 0., 0., 0.]],\n",
      "\n",
      "        [[0., 0., 0.,  ..., 0., 0., 0.],\n",
      "         [0., 0., 0.,  ..., 0., 0., 0.]],\n",
      "\n",
      "        [[0., 0., 0.,  ..., 0., 0., 0.],\n",
      "         [0., 0., 0.,  ..., 0., 0., 0.]]])\n"
     ]
    }
   ],
   "source": [
    "from steves_utils.transforms import get_average_magnitude, get_average_power\n",
    "\n",
    "print(set([u for u,_ in val_original_source]))\n",
    "print(set([u for u,_ in val_original_target]))\n",
    "\n",
    "s_x, s_y, q_x, q_y, _ = next(iter(train_processed_source))\n",
    "print(s_x)\n",
    "\n",
    "# for ds in [\n",
    "#     train_processed_source,\n",
    "#     val_processed_source,\n",
    "#     test_processed_source,\n",
    "#     train_processed_target,\n",
    "#     val_processed_target,\n",
    "#     test_processed_target\n",
    "# ]:\n",
    "#     for s_x, s_y, q_x, q_y, _ in ds:\n",
    "#         for X in (s_x, q_x):\n",
    "#             for x in X:\n",
    "#                 assert np.isclose(get_average_magnitude(x.numpy()), 1.0)\n",
    "#                 assert np.isclose(get_average_power(x.numpy()), 1.0)\n",
    "                "
   ]
  },
  {
   "cell_type": "code",
   "execution_count": 21,
   "id": "bbdacba1",
   "metadata": {
    "execution": {
     "iopub.execute_input": "2022-03-28T00:12:36.725757Z",
     "iopub.status.busy": "2022-03-28T00:12:36.725192Z",
     "iopub.status.idle": "2022-03-28T00:12:36.871853Z",
     "shell.execute_reply": "2022-03-28T00:12:36.871457Z"
    },
    "papermill": {
     "duration": 0.175444,
     "end_time": "2022-03-28T00:12:36.871942",
     "exception": false,
     "start_time": "2022-03-28T00:12:36.696498",
     "status": "completed"
    },
    "tags": []
   },
   "outputs": [
    {
     "name": "stdout",
     "output_type": "stream",
     "text": [
      "(2, 256)\n"
     ]
    }
   ],
   "source": [
    "###################################\n",
    "# Build the model\n",
    "###################################\n",
    "# easfsl only wants a tuple for the shape\n",
    "model = Steves_Prototypical_Network(x_net, device=p.device, x_shape=tuple(p.x_shape))\n",
    "optimizer = Adam(params=model.parameters(), lr=p.lr)"
   ]
  },
  {
   "cell_type": "code",
   "execution_count": 22,
   "id": "22b39ac5",
   "metadata": {
    "execution": {
     "iopub.execute_input": "2022-03-28T00:12:36.922414Z",
     "iopub.status.busy": "2022-03-28T00:12:36.922048Z",
     "iopub.status.idle": "2022-03-28T00:38:38.026740Z",
     "shell.execute_reply": "2022-03-28T00:38:38.026342Z"
    },
    "papermill": {
     "duration": 1561.132295,
     "end_time": "2022-03-28T00:38:38.026832",
     "exception": false,
     "start_time": "2022-03-28T00:12:36.894537",
     "status": "completed"
    },
    "tags": []
   },
   "outputs": [
    {
     "name": "stdout",
     "output_type": "stream",
     "text": [
      "epoch: 1, [batch: 1 / 6317], examples_per_second: 34.6017, train_label_loss: 2.6787, \n"
     ]
    },
    {
     "name": "stdout",
     "output_type": "stream",
     "text": [
      "epoch: 1, [batch: 632 / 6317], examples_per_second: 2020.7750, train_label_loss: 0.0189, \n"
     ]
    },
    {
     "name": "stdout",
     "output_type": "stream",
     "text": [
      "epoch: 1, [batch: 1264 / 6317], examples_per_second: 1681.7617, train_label_loss: 0.0014, \n"
     ]
    },
    {
     "name": "stdout",
     "output_type": "stream",
     "text": [
      "epoch: 1, [batch: 1895 / 6317], examples_per_second: 1723.4710, train_label_loss: 0.0014, \n"
     ]
    },
    {
     "name": "stdout",
     "output_type": "stream",
     "text": [
      "epoch: 1, [batch: 2527 / 6317], examples_per_second: 2039.8531, train_label_loss: 0.0158, \n"
     ]
    },
    {
     "name": "stdout",
     "output_type": "stream",
     "text": [
      "epoch: 1, [batch: 3159 / 6317], examples_per_second: 1954.5228, train_label_loss: 0.0329, \n"
     ]
    },
    {
     "name": "stdout",
     "output_type": "stream",
     "text": [
      "epoch: 1, [batch: 3790 / 6317], examples_per_second: 1821.5965, train_label_loss: 0.0363, \n"
     ]
    },
    {
     "name": "stdout",
     "output_type": "stream",
     "text": [
      "epoch: 1, [batch: 4422 / 6317], examples_per_second: 1664.1639, train_label_loss: 0.0003, \n"
     ]
    },
    {
     "name": "stdout",
     "output_type": "stream",
     "text": [
      "epoch: 1, [batch: 5053 / 6317], examples_per_second: 2073.8784, train_label_loss: 0.0016, \n"
     ]
    },
    {
     "name": "stdout",
     "output_type": "stream",
     "text": [
      "epoch: 1, [batch: 5685 / 6317], examples_per_second: 1670.7644, train_label_loss: 0.0469, \n"
     ]
    },
    {
     "name": "stdout",
     "output_type": "stream",
     "text": [
      "=============================================================\n",
      "epoch: 1, source_val_acc_label: 0.9957, target_val_acc_label: 0.3313, source_val_label_loss: 0.0352, target_val_label_loss: 1.9207, \n",
      "=============================================================\n"
     ]
    },
    {
     "name": "stdout",
     "output_type": "stream",
     "text": [
      "New best\n"
     ]
    },
    {
     "name": "stdout",
     "output_type": "stream",
     "text": [
      "epoch: 2, [batch: 1 / 6315], examples_per_second: 1.4995, train_label_loss: 0.0082, \n"
     ]
    },
    {
     "name": "stdout",
     "output_type": "stream",
     "text": [
      "epoch: 2, [batch: 632 / 6315], examples_per_second: 1744.8625, train_label_loss: 0.0021, \n"
     ]
    },
    {
     "name": "stdout",
     "output_type": "stream",
     "text": [
      "epoch: 2, [batch: 1263 / 6315], examples_per_second: 2407.3561, train_label_loss: 0.0006, \n"
     ]
    },
    {
     "name": "stdout",
     "output_type": "stream",
     "text": [
      "epoch: 2, [batch: 1895 / 6315], examples_per_second: 2613.8212, train_label_loss: 0.0000, \n"
     ]
    },
    {
     "name": "stdout",
     "output_type": "stream",
     "text": [
      "epoch: 2, [batch: 2526 / 6315], examples_per_second: 3634.6348, train_label_loss: 0.0087, \n"
     ]
    },
    {
     "name": "stdout",
     "output_type": "stream",
     "text": [
      "epoch: 2, [batch: 3158 / 6315], examples_per_second: 4279.6438, train_label_loss: 0.0000, \n"
     ]
    },
    {
     "name": "stdout",
     "output_type": "stream",
     "text": [
      "epoch: 2, [batch: 3789 / 6315], examples_per_second: 4293.2355, train_label_loss: 0.0002, \n"
     ]
    },
    {
     "name": "stdout",
     "output_type": "stream",
     "text": [
      "epoch: 2, [batch: 4420 / 6315], examples_per_second: 3898.4866, train_label_loss: 0.0000, \n"
     ]
    },
    {
     "name": "stdout",
     "output_type": "stream",
     "text": [
      "epoch: 2, [batch: 5052 / 6315], examples_per_second: 3900.8903, train_label_loss: 0.0002, \n"
     ]
    },
    {
     "name": "stdout",
     "output_type": "stream",
     "text": [
      "epoch: 2, [batch: 5683 / 6315], examples_per_second: 3840.6425, train_label_loss: 0.0087, \n"
     ]
    },
    {
     "name": "stdout",
     "output_type": "stream",
     "text": [
      "=============================================================\n",
      "epoch: 2, source_val_acc_label: 0.9961, target_val_acc_label: 0.3212, source_val_label_loss: 0.0217, target_val_label_loss: 2.0364, \n",
      "=============================================================\n"
     ]
    },
    {
     "name": "stdout",
     "output_type": "stream",
     "text": [
      "epoch: 3, [batch: 1 / 6325], examples_per_second: 4.0824, train_label_loss: 0.0057, \n"
     ]
    },
    {
     "name": "stdout",
     "output_type": "stream",
     "text": [
      "epoch: 3, [batch: 633 / 6325], examples_per_second: 3881.7284, train_label_loss: 0.0008, \n"
     ]
    },
    {
     "name": "stdout",
     "output_type": "stream",
     "text": [
      "epoch: 3, [batch: 1265 / 6325], examples_per_second: 2374.9273, train_label_loss: 0.0004, \n"
     ]
    },
    {
     "name": "stdout",
     "output_type": "stream",
     "text": [
      "epoch: 3, [batch: 1898 / 6325], examples_per_second: 1689.2779, train_label_loss: 0.0001, \n"
     ]
    },
    {
     "name": "stdout",
     "output_type": "stream",
     "text": [
      "epoch: 3, [batch: 2530 / 6325], examples_per_second: 1810.5448, train_label_loss: 0.0000, \n"
     ]
    },
    {
     "name": "stdout",
     "output_type": "stream",
     "text": [
      "epoch: 3, [batch: 3163 / 6325], examples_per_second: 2427.7106, train_label_loss: 0.0000, \n"
     ]
    },
    {
     "name": "stdout",
     "output_type": "stream",
     "text": [
      "epoch: 3, [batch: 3795 / 6325], examples_per_second: 1964.1197, train_label_loss: 0.0000, \n"
     ]
    },
    {
     "name": "stdout",
     "output_type": "stream",
     "text": [
      "epoch: 3, [batch: 4427 / 6325], examples_per_second: 1714.8660, train_label_loss: 0.1776, \n"
     ]
    },
    {
     "name": "stdout",
     "output_type": "stream",
     "text": [
      "epoch: 3, [batch: 5060 / 6325], examples_per_second: 1720.3248, train_label_loss: 0.0000, \n"
     ]
    },
    {
     "name": "stdout",
     "output_type": "stream",
     "text": [
      "epoch: 3, [batch: 5692 / 6325], examples_per_second: 1998.0820, train_label_loss: 0.0000, \n"
     ]
    },
    {
     "name": "stdout",
     "output_type": "stream",
     "text": [
      "=============================================================\n",
      "epoch: 3, source_val_acc_label: 0.9987, target_val_acc_label: 0.3155, source_val_label_loss: 0.0066, target_val_label_loss: 2.2425, \n",
      "=============================================================\n"
     ]
    },
    {
     "name": "stdout",
     "output_type": "stream",
     "text": [
      "epoch: 4, [batch: 1 / 6307], examples_per_second: 1.5540, train_label_loss: 0.0000, \n"
     ]
    },
    {
     "name": "stdout",
     "output_type": "stream",
     "text": [
      "epoch: 4, [batch: 631 / 6307], examples_per_second: 1690.9904, train_label_loss: 0.0000, \n"
     ]
    },
    {
     "name": "stdout",
     "output_type": "stream",
     "text": [
      "epoch: 4, [batch: 1262 / 6307], examples_per_second: 1724.9021, train_label_loss: 0.0008, \n"
     ]
    },
    {
     "name": "stdout",
     "output_type": "stream",
     "text": [
      "epoch: 4, [batch: 1892 / 6307], examples_per_second: 2044.9406, train_label_loss: 0.0000, \n"
     ]
    },
    {
     "name": "stdout",
     "output_type": "stream",
     "text": [
      "epoch: 4, [batch: 2523 / 6307], examples_per_second: 1784.7008, train_label_loss: 0.0000, \n"
     ]
    },
    {
     "name": "stdout",
     "output_type": "stream",
     "text": [
      "epoch: 4, [batch: 3154 / 6307], examples_per_second: 1820.7503, train_label_loss: 0.0000, \n"
     ]
    },
    {
     "name": "stdout",
     "output_type": "stream",
     "text": [
      "epoch: 4, [batch: 3784 / 6307], examples_per_second: 2232.9102, train_label_loss: 0.0007, \n"
     ]
    },
    {
     "name": "stdout",
     "output_type": "stream",
     "text": [
      "epoch: 4, [batch: 4415 / 6307], examples_per_second: 1749.2965, train_label_loss: 0.0001, \n"
     ]
    },
    {
     "name": "stdout",
     "output_type": "stream",
     "text": [
      "epoch: 4, [batch: 5045 / 6307], examples_per_second: 1669.5772, train_label_loss: 0.0000, \n"
     ]
    },
    {
     "name": "stdout",
     "output_type": "stream",
     "text": [
      "epoch: 4, [batch: 5676 / 6307], examples_per_second: 1784.6005, train_label_loss: 0.0002, \n"
     ]
    },
    {
     "name": "stdout",
     "output_type": "stream",
     "text": [
      "=============================================================\n",
      "epoch: 4, source_val_acc_label: 0.9988, target_val_acc_label: 0.3123, source_val_label_loss: 0.0068, target_val_label_loss: 2.3888, \n",
      "=============================================================\n"
     ]
    },
    {
     "name": "stdout",
     "output_type": "stream",
     "text": [
      "epoch: 5, [batch: 1 / 6302], examples_per_second: 1.5607, train_label_loss: 0.0008, \n"
     ]
    },
    {
     "name": "stdout",
     "output_type": "stream",
     "text": [
      "epoch: 5, [batch: 631 / 6302], examples_per_second: 1666.7311, train_label_loss: 0.0003, \n"
     ]
    },
    {
     "name": "stdout",
     "output_type": "stream",
     "text": [
      "epoch: 5, [batch: 1261 / 6302], examples_per_second: 1672.6314, train_label_loss: 0.0000, \n"
     ]
    },
    {
     "name": "stdout",
     "output_type": "stream",
     "text": [
      "epoch: 5, [batch: 1891 / 6302], examples_per_second: 1895.3089, train_label_loss: 0.0000, \n"
     ]
    },
    {
     "name": "stdout",
     "output_type": "stream",
     "text": [
      "epoch: 5, [batch: 2521 / 6302], examples_per_second: 1925.5929, train_label_loss: 0.0024, \n"
     ]
    },
    {
     "name": "stdout",
     "output_type": "stream",
     "text": [
      "epoch: 5, [batch: 3151 / 6302], examples_per_second: 1819.0141, train_label_loss: 0.0000, \n"
     ]
    },
    {
     "name": "stdout",
     "output_type": "stream",
     "text": [
      "epoch: 5, [batch: 3781 / 6302], examples_per_second: 1832.3046, train_label_loss: 0.0001, \n"
     ]
    },
    {
     "name": "stdout",
     "output_type": "stream",
     "text": [
      "epoch: 5, [batch: 4411 / 6302], examples_per_second: 2218.5801, train_label_loss: 4.6108, \n"
     ]
    },
    {
     "name": "stdout",
     "output_type": "stream",
     "text": [
      "epoch: 5, [batch: 5041 / 6302], examples_per_second: 1812.0367, train_label_loss: 0.0001, \n"
     ]
    },
    {
     "name": "stdout",
     "output_type": "stream",
     "text": [
      "epoch: 5, [batch: 5671 / 6302], examples_per_second: 1831.5343, train_label_loss: 0.0000, \n"
     ]
    },
    {
     "name": "stdout",
     "output_type": "stream",
     "text": [
      "=============================================================\n",
      "epoch: 5, source_val_acc_label: 0.9993, target_val_acc_label: 0.3307, source_val_label_loss: 0.0049, target_val_label_loss: 2.1936, \n",
      "=============================================================\n"
     ]
    },
    {
     "name": "stdout",
     "output_type": "stream",
     "text": [
      "Patience (3) exhausted\n"
     ]
    }
   ],
   "source": [
    "###################################\n",
    "# train\n",
    "###################################\n",
    "jig = PTN_Train_Eval_Test_Jig(model, p.BEST_MODEL_PATH, p.device)\n",
    "\n",
    "jig.train(\n",
    "    train_iterable=datasets.source.processed.train,\n",
    "    source_val_iterable=datasets.source.processed.val,\n",
    "    target_val_iterable=datasets.target.processed.val,\n",
    "    num_epochs=p.n_epoch,\n",
    "    num_logs_per_epoch=p.NUM_LOGS_PER_EPOCH,\n",
    "    patience=p.patience,\n",
    "    optimizer=optimizer,\n",
    "    criteria_for_best=p.criteria_for_best,\n",
    ")"
   ]
  },
  {
   "cell_type": "code",
   "execution_count": 23,
   "id": "31e8fabf",
   "metadata": {
    "execution": {
     "iopub.execute_input": "2022-03-28T00:38:38.108912Z",
     "iopub.status.busy": "2022-03-28T00:38:38.108537Z",
     "iopub.status.idle": "2022-03-28T00:38:38.140382Z",
     "shell.execute_reply": "2022-03-28T00:38:38.140042Z"
    },
    "papermill": {
     "duration": 0.075287,
     "end_time": "2022-03-28T00:38:38.140471",
     "exception": false,
     "start_time": "2022-03-28T00:38:38.065184",
     "status": "completed"
    },
    "tags": []
   },
   "outputs": [],
   "source": [
    "total_experiment_time_secs = time.time() - start_time_secs"
   ]
  },
  {
   "cell_type": "code",
   "execution_count": 24,
   "id": "87b9595b",
   "metadata": {
    "execution": {
     "iopub.execute_input": "2022-03-28T00:38:38.226535Z",
     "iopub.status.busy": "2022-03-28T00:38:38.226130Z",
     "iopub.status.idle": "2022-03-28T00:43:38.513809Z",
     "shell.execute_reply": "2022-03-28T00:43:38.514498Z"
    },
    "papermill": {
     "duration": 300.336313,
     "end_time": "2022-03-28T00:43:38.514765",
     "exception": false,
     "start_time": "2022-03-28T00:38:38.178452",
     "status": "completed"
    },
    "tags": []
   },
   "outputs": [],
   "source": [
    "###################################\n",
    "# Evaluate the model\n",
    "###################################\n",
    "source_test_label_accuracy, source_test_label_loss = jig.test(datasets.source.processed.test)\n",
    "target_test_label_accuracy, target_test_label_loss = jig.test(datasets.target.processed.test)\n",
    "\n",
    "source_val_label_accuracy, source_val_label_loss = jig.test(datasets.source.processed.val)\n",
    "target_val_label_accuracy, target_val_label_loss = jig.test(datasets.target.processed.val)\n",
    "\n",
    "history = jig.get_history()\n",
    "\n",
    "total_epochs_trained = len(history[\"epoch_indices\"])\n",
    "\n",
    "val_dl = Iterable_Aggregator((datasets.source.original.val,datasets.target.original.val))\n",
    "\n",
    "confusion = ptn_confusion_by_domain_over_dataloader(model, p.device, val_dl)\n",
    "per_domain_accuracy = per_domain_accuracy_from_confusion(confusion)\n",
    "\n",
    "# Add a key to per_domain_accuracy for if it was a source domain\n",
    "for domain, accuracy in per_domain_accuracy.items():\n",
    "    per_domain_accuracy[domain] = {\n",
    "        \"accuracy\": accuracy,\n",
    "        \"source?\": domain in p.domains_source\n",
    "    }\n",
    "\n",
    "# Do an independent accuracy assesment JUST TO BE SURE!\n",
    "# _source_test_label_accuracy = independent_accuracy_assesment(model, datasets.source.processed.test, p.device)\n",
    "# _target_test_label_accuracy = independent_accuracy_assesment(model, datasets.target.processed.test, p.device)\n",
    "# _source_val_label_accuracy = independent_accuracy_assesment(model, datasets.source.processed.val, p.device)\n",
    "# _target_val_label_accuracy = independent_accuracy_assesment(model, datasets.target.processed.val, p.device)\n",
    "\n",
    "# assert(_source_test_label_accuracy == source_test_label_accuracy)\n",
    "# assert(_target_test_label_accuracy == target_test_label_accuracy)\n",
    "# assert(_source_val_label_accuracy == source_val_label_accuracy)\n",
    "# assert(_target_val_label_accuracy == target_val_label_accuracy)\n",
    "\n",
    "experiment = {\n",
    "    \"experiment_name\": p.experiment_name,\n",
    "    \"parameters\": dict(p),\n",
    "    \"results\": {\n",
    "        \"source_test_label_accuracy\": source_test_label_accuracy,\n",
    "        \"source_test_label_loss\": source_test_label_loss,\n",
    "        \"target_test_label_accuracy\": target_test_label_accuracy,\n",
    "        \"target_test_label_loss\": target_test_label_loss,\n",
    "        \"source_val_label_accuracy\": source_val_label_accuracy,\n",
    "        \"source_val_label_loss\": source_val_label_loss,\n",
    "        \"target_val_label_accuracy\": target_val_label_accuracy,\n",
    "        \"target_val_label_loss\": target_val_label_loss,\n",
    "        \"total_epochs_trained\": total_epochs_trained,\n",
    "        \"total_experiment_time_secs\": total_experiment_time_secs,\n",
    "        \"confusion\": confusion,\n",
    "        \"per_domain_accuracy\": per_domain_accuracy,\n",
    "    },\n",
    "    \"history\": history,\n",
    "    \"dataset_metrics\": get_dataset_metrics(datasets, \"ptn\"),\n",
    "}"
   ]
  },
  {
   "cell_type": "code",
   "execution_count": 25,
   "id": "54a21829",
   "metadata": {
    "execution": {
     "iopub.execute_input": "2022-03-28T00:43:38.602347Z",
     "iopub.status.busy": "2022-03-28T00:43:38.600749Z",
     "iopub.status.idle": "2022-03-28T00:43:38.839562Z",
     "shell.execute_reply": "2022-03-28T00:43:38.838749Z"
    },
    "papermill": {
     "duration": 0.278923,
     "end_time": "2022-03-28T00:43:38.839741",
     "exception": false,
     "start_time": "2022-03-28T00:43:38.560818",
     "status": "completed"
    },
    "tags": []
   },
   "outputs": [
    {
     "data": {
      "image/png": "[encoded data removed]",
      "text/plain": [
       "<Figure size 1080x504 with 1 Axes>"
      ]
     },
     "metadata": {
      "needs_background": "light"
     },
     "output_type": "display_data"
    }
   ],
   "source": [
    "ax = get_loss_curve(experiment)\n",
    "plt.show()"
   ]
  },
  {
   "cell_type": "code",
   "execution_count": 26,
   "id": "fd8a0f60",
   "metadata": {
    "execution": {
     "iopub.execute_input": "2022-03-28T00:43:38.929109Z",
     "iopub.status.busy": "2022-03-28T00:43:38.928742Z",
     "iopub.status.idle": "2022-03-28T00:43:39.303997Z",
     "shell.execute_reply": "2022-03-28T00:43:39.303170Z"
    },
    "papermill": {
     "duration": 0.418923,
     "end_time": "2022-03-28T00:43:39.304174",
     "exception": false,
     "start_time": "2022-03-28T00:43:38.885251",
     "status": "completed"
    },
    "tags": []
   },
   "outputs": [
    {
     "data": {
      "text/plain": [
       "<AxesSubplot:title={'center':'Results'}>"
      ]
     },
     "execution_count": 26,
     "metadata": {},
     "output_type": "execute_result"
    },
    {
     "data": {
      "image/png": "[encoded data removed]",
      "text/plain": [
       "<Figure size 1080x504 with 1 Axes>"
      ]
     },
     "metadata": {
      "needs_background": "light"
     },
     "output_type": "display_data"
    }
   ],
   "source": [
    "get_results_table(experiment)"
   ]
  },
  {
   "cell_type": "code",
   "execution_count": 27,
   "id": "cf8dc689",
   "metadata": {
    "execution": {
     "iopub.execute_input": "2022-03-28T00:43:39.397936Z",
     "iopub.status.busy": "2022-03-28T00:43:39.397312Z",
     "iopub.status.idle": "2022-03-28T00:43:39.637387Z",
     "shell.execute_reply": "2022-03-28T00:43:39.638082Z"
    },
    "papermill": {
     "duration": 0.285992,
     "end_time": "2022-03-28T00:43:39.638305",
     "exception": false,
     "start_time": "2022-03-28T00:43:39.352313",
     "status": "completed"
    },
    "tags": []
   },
   "outputs": [
    {
     "data": {
      "text/plain": [
       "<AxesSubplot:title={'center':'Per Domain Validation Accuracy'}, xlabel='domain'>"
      ]
     },
     "execution_count": 27,
     "metadata": {},
     "output_type": "execute_result"
    },
    {
     "data": {
      "image/png": "[encoded data removed]",
      "text/plain": [
       "<Figure size 1080x504 with 1 Axes>"
      ]
     },
     "metadata": {
      "needs_background": "light"
     },
     "output_type": "display_data"
    }
   ],
   "source": [
    "get_domain_accuracies(experiment)"
   ]
  },
  {
   "cell_type": "code",
   "execution_count": 28,
   "id": "a74ae082",
   "metadata": {
    "execution": {
     "iopub.execute_input": "2022-03-28T00:43:39.731954Z",
     "iopub.status.busy": "2022-03-28T00:43:39.731576Z",
     "iopub.status.idle": "2022-03-28T00:43:39.758901Z",
     "shell.execute_reply": "2022-03-28T00:43:39.758207Z"
    },
    "papermill": {
     "duration": 0.074654,
     "end_time": "2022-03-28T00:43:39.759070",
     "exception": false,
     "start_time": "2022-03-28T00:43:39.684416",
     "status": "completed"
    },
    "tags": []
   },
   "outputs": [
    {
     "name": "stdout",
     "output_type": "stream",
     "text": [
      "Source Test Label Accuracy: 0.9953300561797753 Target Test Label Accuracy: 0.3367838541666667\n",
      "Source Val Label Accuracy: 0.9956785714285714 Target Val Label Accuracy: 0.33128255208333335\n"
     ]
    }
   ],
   "source": [
    "print(\"Source Test Label Accuracy:\", experiment[\"results\"][\"source_test_label_accuracy\"], \"Target Test Label Accuracy:\", experiment[\"results\"][\"target_test_label_accuracy\"])\n",
    "print(\"Source Val Label Accuracy:\", experiment[\"results\"][\"source_val_label_accuracy\"], \"Target Val Label Accuracy:\", experiment[\"results\"][\"target_val_label_accuracy\"])"
   ]
  },
  {
   "cell_type": "code",
   "execution_count": 29,
   "id": "dacca602",
   "metadata": {
    "execution": {
     "iopub.execute_input": "2022-03-28T00:43:39.851109Z",
     "iopub.status.busy": "2022-03-28T00:43:39.850736Z",
     "iopub.status.idle": "2022-03-28T00:43:39.878040Z",
     "shell.execute_reply": "2022-03-28T00:43:39.878711Z"
    },
    "papermill": {
     "duration": 0.071771,
     "end_time": "2022-03-28T00:43:39.878909",
     "exception": false,
     "start_time": "2022-03-28T00:43:39.807138",
     "status": "completed"
    },
    "tags": [
     "experiment_json"
    ]
   },
   "outputs": [
    {
     "data": {
      "text/plain": [
       "'{\"experiment_name\": \"tl_3-jitter1v2:cores -> oracle.run1.framed\", \"parameters\": {\"experiment_name\": \"tl_3-jitter1v2:cores -> oracle.run1.framed\", \"device\": \"cuda\", \"lr\": 0.0001, \"x_shape\": [2, 256], \"n_shot\": 3, \"n_query\": 2, \"train_k_factor\": 3, \"val_k_factor\": 2, \"test_k_factor\": 2, \"torch_default_dtype\": \"torch.float32\", \"n_epoch\": 50, \"patience\": 3, \"criteria_for_best\": \"target_accuracy\", \"x_net\": [{\"class\": \"nnReshape\", \"kargs\": {\"shape\": [-1, 1, 2, 256]}}, {\"class\": \"Conv2d\", \"kargs\": {\"in_channels\": 1, \"out_channels\": 256, \"kernel_size\": [1, 7], \"bias\": false, \"padding\": [0, 3]}}, {\"class\": \"ReLU\", \"kargs\": {\"inplace\": true}}, {\"class\": \"BatchNorm2d\", \"kargs\": {\"num_features\": 256}}, {\"class\": \"Conv2d\", \"kargs\": {\"in_channels\": 256, \"out_channels\": 80, \"kernel_size\": [2, 7], \"bias\": true, \"padding\": [0, 3]}}, {\"class\": \"ReLU\", \"kargs\": {\"inplace\": true}}, {\"class\": \"BatchNorm2d\", \"kargs\": {\"num_features\": 80}}, {\"class\": \"Flatten\", \"kargs\": {}}, {\"class\": \"Linear\", \"kargs\": {\"in_features\": 20480, \"out_features\": 256}}, {\"class\": \"ReLU\", \"kargs\": {\"inplace\": true}}, {\"class\": \"BatchNorm1d\", \"kargs\": {\"num_features\": 256}}, {\"class\": \"Linear\", \"kargs\": {\"in_features\": 256, \"out_features\": 256}}], \"NUM_LOGS_PER_EPOCH\": 10, \"BEST_MODEL_PATH\": \"./best_model.pth\", \"n_way\": 16, \"datasets\": [{\"labels\": [\"1-10.\", \"1-11.\", \"1-15.\", \"1-16.\", \"1-17.\", \"1-18.\", \"1-19.\", \"10-4.\", \"10-7.\", \"11-1.\", \"11-14.\", \"11-17.\", \"11-20.\", \"11-7.\", \"13-20.\", \"13-8.\", \"14-10.\", \"14-11.\", \"14-14.\", \"14-7.\", \"15-1.\", \"15-20.\", \"16-1.\", \"16-16.\", \"17-10.\", \"17-11.\", \"17-2.\", \"19-1.\", \"19-16.\", \"19-19.\", \"19-20.\", \"19-3.\", \"2-10.\", \"2-11.\", \"2-17.\", \"2-18.\", \"2-20.\", \"2-3.\", \"2-4.\", \"2-5.\", \"2-6.\", \"2-7.\", \"2-8.\", \"3-13.\", \"3-18.\", \"3-3.\", \"4-1.\", \"4-10.\", \"4-11.\", \"4-19.\", \"5-5.\", \"6-15.\", \"7-10.\", \"7-14.\", \"8-18.\", \"8-20.\", \"8-3.\", \"8-8.\"], \"domains\": [1, 2, 3, 4, 5], \"num_examples_per_domain_per_label\": -1, \"pickle_path\": \"/root/csc500-main/datasets/cores.stratified_ds.2022A.pkl\", \"source_or_target_dataset\": \"source\", \"x_transforms\": [\"unit_power\", \"jitter_256_1\", \"lowpass_+/-10MHz\", \"take_200\"], \"episode_transforms\": [], \"domain_prefix\": \"C_\"}, {\"labels\": [\"3123D52\", \"3123D65\", \"3123D79\", \"3123D80\", \"3123D54\", \"3123D70\", \"3123D7B\", \"3123D89\", \"3123D58\", \"3123D76\", \"3123D7D\", \"3123EFE\", \"3123D64\", \"3123D78\", \"3123D7E\", \"3124E4A\"], \"domains\": [32, 38, 8, 44, 14, 50, 20, 26], \"num_examples_per_domain_per_label\": 2000, \"pickle_path\": \"/root/csc500-main/datasets/oracle.Run1_framed_2000Examples_stratified_ds.2022A.pkl\", \"source_or_target_dataset\": \"target\", \"x_transforms\": [\"unit_power\", \"jitter_256_1\", \"take_200\", \"resample_20Msps_to_25Msps\"], \"episode_transforms\": [], \"domain_prefix\": \"O_\"}], \"seed\": 500, \"dataset_seed\": 500, \"domains_source\": [\"C_1\", \"C_2\", \"C_3\", \"C_4\", \"C_5\"], \"domains_target\": [\"O_32\", \"O_38\", \"O_8\", \"O_44\", \"O_14\", \"O_50\", \"O_20\", \"O_26\"]}, \"results\": {\"source_test_label_accuracy\": 0.9953300561797753, \"source_test_label_loss\": 0.0662602111697197, \"target_test_label_accuracy\": 0.3367838541666667, \"target_test_label_loss\": 1.9143695831298828, \"source_val_label_accuracy\": 0.9956785714285714, \"source_val_label_loss\": 0.035194624215364456, \"target_val_label_accuracy\": 0.33128255208333335, \"target_val_label_loss\": 1.920735478401184, \"total_epochs_trained\": 5, \"total_experiment_time_secs\": 1691.2041268348694, \"confusion\": {\"C_4\": {\"38\": {\"38\": 40}, \"3\": {\"3\": 124}, \"24\": {\"24\": 56}, \"49\": {\"49\": 20}, \"7\": {\"7\": 24}, \"17\": {\"17\": 80}, \"43\": {\"43\": 148}, \"30\": {\"30\": 44}, \"44\": {\"44\": 132}, \"23\": {\"23\": 144}, \"37\": {\"37\": 24}, \"4\": {\"4\": 132}, \"57\": {\"57\": 100}, \"16\": {\"16\": 96}, \"18\": {\"18\": 107, \"10\": 1}, \"20\": {\"20\": 124}, \"45\": {\"45\": 96}, \"15\": {\"15\": 132}, \"52\": {\"52\": 116}, \"19\": {\"19\": 140}, \"54\": {\"54\": 105, \"29\": 2, \"46\": 1}, \"56\": {\"56\": 130}, \"40\": {\"40\": 134}, \"28\": {\"28\": 32}, \"2\": {\"2\": 36}, \"9\": {\"9\": 120}, \"0\": {\"0\": 80}, \"36\": {\"36\": 92}, \"55\": {\"55\": 130}, \"35\": {\"35\": 34, \"43\": 6}, \"39\": {\"39\": 20}, \"31\": {\"31\": 28}, \"14\": {\"0\": 2, \"14\": 11, \"38\": 1, \"1\": 1, \"57\": 1}, \"12\": {\"12\": 92}, \"6\": {\"6\": 109, \"52\": 1, \"3\": 1, \"5\": 1}, \"26\": {\"26\": 24}, \"50\": {\"50\": 131, \"3\": 1}, \"21\": {\"21\": 122}, \"46\": {\"46\": 138, \"47\": 1, \"15\": 1}, \"51\": {\"51\": 138, \"53\": 2}, \"41\": {\"41\": 36}, \"34\": {\"34\": 24}, \"47\": {\"47\": 120}, \"5\": {\"5\": 107, \"15\": 1}, \"1\": {\"1\": 40}, \"48\": {\"48\": 134}, \"29\": {\"29\": 118}, \"22\": {\"22\": 128}, \"10\": {\"10\": 132}, \"32\": {\"32\": 24}, \"13\": {\"13\": 108, \"10\": 2, \"43\": 2}, \"42\": {\"42\": 32}, \"27\": {\"27\": 138}, \"8\": {\"8\": 142}, \"33\": {\"33\": 36}, \"25\": {\"25\": 132}, \"11\": {\"11\": 104}, \"53\": {\"53\": 112}}, \"C_2\": {\"32\": {\"32\": 28}, \"17\": {\"17\": 104}, \"38\": {\"38\": 20}, \"2\": {\"2\": 32}, \"43\": {\"43\": 144}, \"56\": {\"56\": 144}, \"37\": {\"37\": 36}, \"49\": {\"49\": 24}, \"0\": {\"0\": 48}, \"29\": {\"29\": 128}, \"35\": {\"35\": 32}, \"18\": {\"18\": 48}, \"25\": {\"25\": 136}, \"23\": {\"23\": 124}, \"15\": {\"15\": 146}, \"21\": {\"21\": 120}, \"51\": {\"51\": 122, \"20\": 6}, \"20\": {\"20\": 138}, \"7\": {\"7\": 36}, \"50\": {\"50\": 136}, \"31\": {\"31\": 28}, \"30\": {\"30\": 140}, \"19\": {\"19\": 156}, \"9\": {\"9\": 144}, \"52\": {\"52\": 124}, \"45\": {\"45\": 128}, \"8\": {\"8\": 154}, \"55\": {\"55\": 160}, \"12\": {\"12\": 92}, \"40\": {\"40\": 140}, \"28\": {\"28\": 28}, \"36\": {\"36\": 116}, \"39\": {\"39\": 28}, \"46\": {\"46\": 122}, \"14\": {\"14\": 21, \"57\": 1, \"42\": 1, \"0\": 1}, \"57\": {\"57\": 142}, \"34\": {\"34\": 28}, \"1\": {\"1\": 112}, \"53\": {\"53\": 136}, \"48\": {\"48\": 130}, \"3\": {\"3\": 92}, \"16\": {\"16\": 152}, \"6\": {\"6\": 124}, \"10\": {\"10\": 112}, \"13\": {\"13\": 116}, \"26\": {\"26\": 24}, \"24\": {\"24\": 96}, \"44\": {\"44\": 97, \"9\": 1, \"40\": 2}, \"27\": {\"27\": 150}, \"22\": {\"22\": 128}, \"33\": {\"33\": 28}, \"47\": {\"47\": 118}, \"5\": {\"5\": 120}, \"4\": {\"4\": 138}, \"41\": {\"41\": 20}, \"11\": {\"11\": 150}, \"54\": {\"54\": 106, \"57\": 2}, \"42\": {\"42\": 36}}, \"C_3\": {\"5\": {\"5\": 116}, \"32\": {\"32\": 28}, \"33\": {\"33\": 28}, \"49\": {\"49\": 20}, \"39\": {\"39\": 16}, \"11\": {\"11\": 142}, \"8\": {\"8\": 116}, \"26\": {\"26\": 24}, \"51\": {\"51\": 116, \"53\": 3, \"21\": 3}, \"4\": {\"4\": 146}, \"52\": {\"52\": 118}, \"47\": {\"47\": 92}, \"17\": {\"17\": 105, \"50\": 2, \"56\": 1}, \"53\": {\"53\": 136}, \"2\": {\"2\": 32}, \"12\": {\"12\": 92}, \"37\": {\"37\": 28}, \"9\": {\"9\": 148}, \"13\": {\"13\": 128}, \"54\": {\"54\": 100}, \"31\": {\"31\": 28}, \"34\": {\"34\": 32}, \"24\": {\"24\": 104}, \"7\": {\"7\": 36}, \"50\": {\"50\": 116, \"53\": 1, \"52\": 1}, \"46\": {\"46\": 128}, \"44\": {\"40\": 2, \"44\": 84, \"29\": 2}, \"40\": {\"40\": 116}, \"21\": {\"21\": 128}, \"45\": {\"45\": 60}, \"16\": {\"16\": 126}, \"14\": {\"14\": 40}, \"36\": {\"36\": 100}, \"56\": {\"56\": 114}, \"10\": {\"10\": 64}, \"18\": {\"18\": 84}, \"48\": {\"48\": 116}, \"38\": {\"38\": 28}, \"27\": {\"27\": 130}, \"42\": {\"42\": 28}, \"15\": {\"15\": 133, \"26\": 1}, \"1\": {\"1\": 100}, \"28\": {\"28\": 28}, \"43\": {\"43\": 136}, \"0\": {\"0\": 124}, \"57\": {\"57\": 124}, \"3\": {\"3\": 147, \"16\": 1}, \"29\": {\"29\": 124}, \"41\": {\"41\": 28}, \"25\": {\"25\": 146}, \"6\": {\"6\": 85, \"52\": 3}, \"35\": {\"35\": 26, \"29\": 2}, \"20\": {\"20\": 126}, \"23\": {\"23\": 134}, \"22\": {\"22\": 139, \"56\": 1}, \"19\": {\"19\": 116}, \"55\": {\"55\": 124}, \"30\": {\"30\": 120}}, \"C_1\": {\"24\": {\"24\": 108}, \"25\": {\"25\": 140}, \"45\": {\"45\": 144}, \"42\": {\"42\": 40}, \"2\": {\"2\": 36}, \"9\": {\"9\": 150}, \"21\": {\"21\": 124}, \"26\": {\"26\": 24}, \"49\": {\"49\": 32}, \"39\": {\"39\": 28}, \"46\": {\"46\": 136}, \"17\": {\"17\": 64}, \"19\": {\"19\": 156}, \"23\": {\"23\": 132}, \"1\": {\"1\": 100}, \"29\": {\"29\": 140}, \"56\": {\"56\": 150}, \"37\": {\"37\": 32}, \"33\": {\"33\": 32}, \"55\": {\"55\": 142}, \"30\": {\"30\": 120}, \"0\": {\"0\": 152}, \"36\": {\"36\": 64}, \"32\": {\"32\": 32}, \"31\": {\"31\": 28}, \"15\": {\"15\": 138}, \"12\": {\"12\": 116}, \"38\": {\"38\": 24}, \"40\": {\"40\": 146}, \"14\": {\"14\": 19, \"5\": 1, \"57\": 1, \"30\": 2, \"8\": 1}, \"13\": {\"13\": 150}, \"48\": {\"48\": 148}, \"34\": {\"34\": 22, \"32\": 2}, \"44\": {\"44\": 130}, \"5\": {\"14\": 2, \"5\": 149, \"6\": 1}, \"11\": {\"11\": 140}, \"7\": {\"7\": 28}, \"18\": {\"18\": 72}, \"52\": {\"52\": 132}, \"51\": {\"51\": 142}, \"41\": {\"41\": 24}, \"16\": {\"16\": 140}, \"22\": {\"22\": 134}, \"3\": {\"3\": 139, \"36\": 1}, \"54\": {\"54\": 104}, \"27\": {\"27\": 144}, \"20\": {\"20\": 140}, \"8\": {\"8\": 138}, \"50\": {\"50\": 144}, \"57\": {\"57\": 140}, \"4\": {\"4\": 132}, \"47\": {\"47\": 146}, \"10\": {\"10\": 96}, \"35\": {\"35\": 36}, \"53\": {\"53\": 126}, \"6\": {\"6\": 96}, \"43\": {\"43\": 140}, \"28\": {\"28\": 28}}, \"C_5\": {\"35\": {\"35\": 36}, \"57\": {\"57\": 132}, \"20\": {\"20\": 144}, \"12\": {\"12\": 81, \"20\": 7, \"51\": 3, \"8\": 1, \"50\": 1, \"53\": 1, \"6\": 1, \"38\": 1}, \"32\": {\"32\": 32}, \"25\": {\"25\": 138}, \"44\": {\"44\": 147, \"56\": 1}, \"31\": {\"31\": 36}, \"11\": {\"11\": 150}, \"47\": {\"47\": 100}, \"23\": {\"23\": 124}, \"43\": {\"43\": 144}, \"37\": {\"37\": 24}, \"5\": {\"5\": 128}, \"45\": {\"45\": 122, \"17\": 1, \"55\": 1}, \"7\": {\"7\": 32}, \"13\": {\"13\": 136}, \"49\": {\"49\": 36}, \"46\": {\"46\": 148}, \"16\": {\"16\": 136}, \"54\": {\"54\": 112}, \"19\": {\"19\": 152}, \"55\": {\"55\": 150}, \"30\": {\"30\": 128}, \"34\": {\"34\": 36}, \"50\": {\"50\": 133, \"6\": 1}, \"3\": {\"3\": 100}, \"10\": {\"10\": 68}, \"27\": {\"27\": 142}, \"33\": {\"33\": 32}, \"56\": {\"56\": 142}, \"9\": {\"9\": 150}, \"14\": {\"14\": 22, \"54\": 2, \"47\": 4, \"40\": 5, \"3\": 2, \"18\": 2, \"0\": 1, \"57\": 1, \"46\": 4, \"5\": 1}, \"4\": {\"4\": 100}, \"42\": {\"42\": 40}, \"24\": {\"24\": 80}, \"39\": {\"39\": 20}, \"52\": {\"52\": 130}, \"2\": {\"2\": 28}, \"28\": {\"28\": 32}, \"53\": {\"53\": 122}, \"17\": {\"17\": 116}, \"29\": {\"29\": 132}, \"38\": {\"38\": 32}, \"15\": {\"15\": 144}, \"26\": {\"26\": 24}, \"21\": {\"21\": 144}, \"41\": {\"41\": 28}, \"48\": {\"48\": 136}, \"22\": {\"22\": 28}, \"8\": {\"8\": 148}, \"18\": {\"18\": 64}, \"0\": {\"0\": 122}, \"1\": {\"1\": 138}, \"40\": {\"40\": 124}, \"6\": {\"6\": 125, \"51\": 1, \"20\": 1, \"17\": 1}, \"51\": {\"51\": 141, \"20\": 1}, \"36\": {\"36\": 92}}, \"O_50\": {\"7\": {\"4\": 16, \"10\": 37, \"13\": 50, \"6\": 21, \"8\": 6, \"7\": 53, \"5\": 42, \"1\": 6, \"0\": 4, \"15\": 5}, \"10\": {\"8\": 51, \"4\": 2, \"13\": 20, \"10\": 70, \"0\": 24, \"7\": 28, \"6\": 6, \"5\": 23, \"2\": 6, \"3\": 9, \"1\": 1}, \"0\": {\"2\": 57, \"1\": 14, \"0\": 88, \"5\": 14, \"10\": 33, \"13\": 12, \"7\": 2, \"15\": 3, \"6\": 2, \"8\": 9, \"4\": 5, \"14\": 1}, \"11\": {\"15\": 28, \"14\": 29, \"1\": 10, \"4\": 10, \"11\": 92, \"9\": 51, \"12\": 13, \"6\": 6, \"2\": 1}, \"2\": {\"0\": 73, \"2\": 125, \"11\": 2, \"5\": 3, \"14\": 17, \"10\": 4, \"1\": 8, \"6\": 3, \"12\": 2, \"13\": 1, \"8\": 2}, \"14\": {\"12\": 37, \"9\": 31, \"14\": 108, \"11\": 30, \"2\": 16, \"15\": 5, \"1\": 7, \"0\": 2, \"6\": 3, \"4\": 1}, \"9\": {\"11\": 55, \"14\": 32, \"9\": 90, \"12\": 55, \"15\": 4, \"1\": 4}, \"13\": {\"7\": 44, \"6\": 26, \"1\": 12, \"13\": 53, \"10\": 26, \"5\": 40, \"4\": 23, \"0\": 6, \"15\": 7, \"8\": 1, \"3\": 1, \"2\": 1}, \"8\": {\"8\": 128, \"3\": 46, \"10\": 43, \"0\": 8, \"7\": 5, \"5\": 4, \"2\": 2, \"13\": 4}, \"15\": {\"11\": 22, \"15\": 82, \"6\": 43, \"4\": 27, \"1\": 38, \"5\": 8, \"9\": 3, \"14\": 5, \"13\": 8, \"7\": 3, \"10\": 1}, \"4\": {\"7\": 16, \"15\": 39, \"1\": 39, \"2\": 4, \"13\": 22, \"6\": 24, \"4\": 43, \"11\": 17, \"14\": 4, \"5\": 24, \"0\": 2, \"10\": 5, \"9\": 1}, \"5\": {\"13\": 49, \"10\": 26, \"7\": 39, \"15\": 6, \"5\": 39, \"6\": 17, \"1\": 16, \"4\": 28, \"8\": 5, \"0\": 8, \"2\": 3, \"3\": 2, \"11\": 1, \"14\": 1}, \"3\": {\"3\": 183, \"8\": 47, \"7\": 6, \"10\": 4}, \"1\": {\"15\": 38, \"1\": 57, \"6\": 40, \"4\": 31, \"0\": 13, \"5\": 13, \"13\": 10, \"9\": 2, \"14\": 10, \"2\": 3, \"11\": 20, \"7\": 2, \"10\": 1}, \"6\": {\"1\": 32, \"6\": 65, \"7\": 25, \"15\": 23, \"13\": 21, \"4\": 31, \"5\": 18, \"0\": 8, \"10\": 9, \"2\": 4, \"11\": 4}, \"12\": {\"9\": 42, \"14\": 56, \"12\": 129, \"11\": 9, \"2\": 4}}, \"O_14\": {\"14\": {\"14\": 61, \"13\": 39, \"11\": 5, \"2\": 35, \"3\": 21, \"0\": 18, \"6\": 26, \"5\": 3, \"10\": 19, \"4\": 13}, \"6\": {\"14\": 41, \"6\": 78, \"15\": 3, \"10\": 12, \"13\": 45, \"2\": 23, \"4\": 12, \"5\": 8, \"3\": 10, \"1\": 1, \"0\": 6, \"7\": 1}, \"5\": {\"4\": 36, \"3\": 21, \"6\": 13, \"7\": 19, \"5\": 50, \"15\": 14, \"14\": 5, \"8\": 9, \"13\": 4, \"2\": 29, \"1\": 35, \"0\": 3, \"10\": 2}, \"15\": {\"15\": 117, \"7\": 73, \"5\": 20, \"1\": 12, \"2\": 7, \"4\": 7, \"13\": 1, \"6\": 3}, \"11\": {\"11\": 101, \"9\": 39, \"12\": 12, \"6\": 3, \"0\": 40, \"10\": 29, \"3\": 5, \"14\": 10, \"2\": 1}, \"8\": {\"5\": 12, \"8\": 166, \"3\": 14, \"1\": 31, \"9\": 5, \"0\": 2, \"4\": 7, \"7\": 1, \"10\": 1, \"12\": 1}, \"12\": {\"12\": 154, \"9\": 66, \"11\": 18, \"10\": 1, \"0\": 1}, \"1\": {\"3\": 15, \"15\": 14, \"8\": 35, \"5\": 37, \"7\": 19, \"4\": 18, \"13\": 5, \"14\": 2, \"1\": 82, \"0\": 2, \"2\": 7, \"6\": 4}, \"2\": {\"4\": 24, \"14\": 35, \"2\": 67, \"13\": 22, \"6\": 24, \"15\": 7, \"1\": 4, \"7\": 11, \"3\": 28, \"0\": 5, \"5\": 13}, \"13\": {\"14\": 41, \"4\": 12, \"6\": 65, \"2\": 30, \"3\": 9, \"13\": 53, \"10\": 9, \"15\": 3, \"11\": 3, \"0\": 9, \"5\": 5, \"1\": 1}, \"3\": {\"6\": 12, \"14\": 18, \"2\": 31, \"4\": 47, \"5\": 18, \"1\": 9, \"3\": 51, \"13\": 9, \"8\": 6, \"9\": 6, \"10\": 17, \"0\": 15, \"15\": 1}, \"0\": {\"6\": 8, \"0\": 58, \"14\": 22, \"9\": 28, \"11\": 33, \"13\": 7, \"10\": 42, \"3\": 25, \"4\": 7, \"12\": 1, \"2\": 6, \"5\": 2, \"8\": 1}, \"9\": {\"9\": 110, \"12\": 75, \"0\": 28, \"11\": 15, \"10\": 7, \"5\": 1, \"8\": 1, \"3\": 3}, \"4\": {\"10\": 8, \"14\": 10, \"4\": 53, \"2\": 28, \"1\": 22, \"5\": 49, \"3\": 25, \"0\": 12, \"13\": 5, \"15\": 5, \"6\": 10, \"8\": 9, \"7\": 4}, \"7\": {\"5\": 18, \"7\": 121, \"15\": 65, \"1\": 19, \"3\": 3, \"8\": 3, \"2\": 7, \"4\": 3, \"6\": 1}, \"10\": {\"11\": 22, \"6\": 15, \"0\": 45, \"10\": 94, \"3\": 25, \"13\": 11, \"9\": 2, \"14\": 16, \"2\": 1, \"12\": 1, \"5\": 1, \"4\": 6, \"1\": 1}}, \"O_32\": {\"4\": {\"2\": 48, \"8\": 14, \"7\": 34, \"4\": 39, \"3\": 2, \"5\": 24, \"13\": 33, \"14\": 10, \"0\": 31, \"11\": 4, \"9\": 1}, \"14\": {\"3\": 10, \"5\": 14, \"7\": 31, \"11\": 78, \"14\": 43, \"4\": 11, \"0\": 13, \"2\": 20, \"13\": 10, \"8\": 10}, \"5\": {\"5\": 43, \"13\": 33, \"4\": 25, \"8\": 22, \"7\": 38, \"11\": 10, \"3\": 25, \"2\": 17, \"14\": 11, \"0\": 12, \"15\": 4}, \"10\": {\"1\": 41, \"10\": 191, \"12\": 5, \"6\": 3}, \"13\": {\"13\": 44, \"3\": 31, \"8\": 24, \"5\": 39, \"0\": 16, \"15\": 6, \"11\": 12, \"4\": 32, \"2\": 7, \"7\": 17, \"14\": 12}, \"9\": {\"9\": 191, \"12\": 32, \"4\": 2, \"8\": 2, \"2\": 5, \"6\": 3, \"0\": 5}, \"6\": {\"6\": 215, \"12\": 12, \"1\": 8, \"10\": 4, \"9\": 1}, \"3\": {\"13\": 28, \"8\": 28, \"3\": 95, \"14\": 10, \"11\": 15, \"15\": 11, \"7\": 7, \"4\": 4, \"5\": 39, \"0\": 2, \"2\": 1}, \"15\": {\"15\": 218, \"8\": 11, \"3\": 8, \"0\": 1, \"13\": 2}, \"7\": {\"5\": 18, \"2\": 27, \"0\": 11, \"4\": 26, \"13\": 17, \"14\": 45, \"7\": 41, \"11\": 34, \"3\": 10, \"8\": 11}, \"12\": {\"10\": 4, \"12\": 194, \"9\": 24, \"6\": 18}, \"8\": {\"2\": 13, \"13\": 33, \"7\": 10, \"15\": 16, \"0\": 31, \"8\": 63, \"4\": 19, \"5\": 27, \"3\": 19, \"11\": 3, \"14\": 6}, \"11\": {\"3\": 12, \"14\": 68, \"7\": 29, \"15\": 3, \"11\": 86, \"0\": 1, \"8\": 11, \"2\": 4, \"13\": 12, \"4\": 4, \"5\": 10}, \"2\": {\"13\": 10, \"14\": 9, \"2\": 81, \"4\": 48, \"8\": 9, \"5\": 14, \"0\": 33, \"7\": 31, \"3\": 1, \"9\": 3, \"11\": 1}, \"1\": {\"1\": 185, \"10\": 55}, \"0\": {\"0\": 58, \"11\": 9, \"4\": 47, \"7\": 18, \"3\": 4, \"5\": 20, \"13\": 14, \"2\": 32, \"8\": 22, \"14\": 13, \"15\": 3}}, \"O_44\": {\"8\": {\"0\": 87, \"8\": 80, \"5\": 21, \"15\": 46, \"14\": 5, \"4\": 1}, \"11\": {\"7\": 6, \"11\": 135, \"6\": 42, \"13\": 44, \"9\": 11, \"4\": 1, \"2\": 1}, \"14\": {\"0\": 22, \"5\": 32, \"4\": 64, \"15\": 36, \"14\": 70, \"8\": 6, \"13\": 7, \"11\": 2, \"9\": 1}, \"10\": {\"12\": 35, \"3\": 10, \"10\": 92, \"1\": 39, \"7\": 16, \"2\": 41, \"9\": 6, \"6\": 1}, \"3\": {\"3\": 119, \"1\": 49, \"7\": 8, \"12\": 45, \"2\": 9, \"15\": 1, \"10\": 6, \"9\": 2, \"4\": 1}, \"15\": {\"0\": 42, \"5\": 25, \"14\": 38, \"15\": 79, \"8\": 36, \"4\": 20}, \"2\": {\"2\": 89, \"7\": 46, \"9\": 29, \"6\": 5, \"10\": 29, \"3\": 11, \"12\": 10, \"4\": 1, \"1\": 16, \"13\": 3, \"11\": 1}, \"12\": {\"3\": 40, \"1\": 54, \"10\": 41, \"12\": 88, \"7\": 3, \"2\": 14}, \"4\": {\"13\": 13, \"14\": 60, \"4\": 108, \"5\": 19, \"0\": 4, \"15\": 19, \"11\": 5, \"7\": 2, \"6\": 1, \"8\": 4, \"9\": 4, \"1\": 1}, \"1\": {\"1\": 63, \"12\": 61, \"7\": 12, \"3\": 59, \"2\": 14, \"10\": 29, \"9\": 1, \"11\": 1}, \"0\": {\"0\": 80, \"15\": 43, \"5\": 35, \"8\": 62, \"14\": 16, \"4\": 4}, \"9\": {\"13\": 32, \"9\": 64, \"4\": 8, \"7\": 64, \"2\": 25, \"14\": 2, \"1\": 7, \"6\": 28, \"11\": 4, \"3\": 3, \"12\": 2, \"10\": 1}, \"5\": {\"0\": 38, \"8\": 27, \"5\": 108, \"14\": 28, \"4\": 25, \"15\": 14}, \"6\": {\"11\": 28, \"13\": 55, \"6\": 94, \"7\": 23, \"9\": 29, \"2\": 10, \"4\": 1}, \"7\": {\"9\": 46, \"2\": 47, \"6\": 17, \"7\": 66, \"4\": 7, \"1\": 11, \"13\": 9, \"10\": 13, \"12\": 6, \"11\": 9, \"3\": 7, \"15\": 1, \"14\": 1}, \"13\": {\"9\": 44, \"11\": 23, \"13\": 78, \"7\": 28, \"6\": 49, \"14\": 5, \"4\": 5, \"2\": 7, \"3\": 1}}, \"O_8\": {\"13\": {\"7\": 34, \"13\": 35, \"4\": 18, \"15\": 7, \"5\": 14, \"8\": 6, \"14\": 23, \"6\": 19, \"10\": 31, \"0\": 42, \"12\": 2, \"1\": 3, \"2\": 5, \"11\": 1}, \"3\": {\"2\": 75, \"12\": 31, \"3\": 66, \"0\": 6, \"4\": 6, \"15\": 22, \"6\": 14, \"7\": 11, \"8\": 6, \"1\": 1, \"10\": 1, \"13\": 1}, \"15\": {\"12\": 50, \"1\": 7, \"15\": 56, \"3\": 30, \"4\": 11, \"11\": 4, \"8\": 33, \"2\": 14, \"6\": 16, \"7\": 8, \"0\": 2, \"14\": 5, \"13\": 3, \"10\": 1}, \"4\": {\"14\": 31, \"13\": 36, \"4\": 35, \"0\": 24, \"7\": 14, \"6\": 23, \"15\": 17, \"1\": 10, \"10\": 24, \"5\": 10, \"12\": 5, \"2\": 3, \"11\": 1, \"8\": 6, \"3\": 1}, \"7\": {\"4\": 22, \"1\": 5, \"14\": 16, \"12\": 9, \"15\": 17, \"7\": 27, \"13\": 34, \"2\": 11, \"10\": 11, \"8\": 10, \"0\": 32, \"3\": 9, \"5\": 6, \"6\": 28, \"11\": 3}, \"2\": {\"6\": 17, \"2\": 62, \"4\": 5, \"3\": 70, \"15\": 15, \"7\": 27, \"12\": 21, \"0\": 14, \"13\": 4, \"14\": 1, \"8\": 3, \"10\": 1}, \"1\": {\"1\": 58, \"13\": 7, \"5\": 36, \"11\": 33, \"6\": 4, \"4\": 12, \"14\": 29, \"8\": 29, \"10\": 14, \"15\": 9, \"12\": 2, \"0\": 5, \"7\": 2}, \"0\": {\"7\": 33, \"13\": 30, \"5\": 7, \"0\": 50, \"4\": 28, \"3\": 5, \"15\": 8, \"10\": 24, \"14\": 14, \"6\": 21, \"2\": 10, \"8\": 6, \"12\": 2, \"11\": 1, \"1\": 1}, \"12\": {\"15\": 31, \"7\": 12, \"3\": 37, \"12\": 74, \"8\": 36, \"6\": 11, \"2\": 19, \"13\": 4, \"14\": 4, \"4\": 7, \"1\": 3, \"0\": 2}, \"6\": {\"15\": 11, \"13\": 24, \"6\": 36, \"4\": 21, \"3\": 6, \"10\": 23, \"14\": 27, \"7\": 29, \"8\": 13, \"1\": 5, \"0\": 19, \"12\": 9, \"2\": 8, \"5\": 7, \"11\": 2}, \"11\": {\"7\": 2, \"11\": 83, \"8\": 27, \"1\": 49, \"13\": 2, \"14\": 22, \"5\": 17, \"4\": 6, \"10\": 7, \"12\": 7, \"15\": 11, \"6\": 7}, \"9\": {\"13\": 6, \"9\": 220, \"5\": 8, \"10\": 4, \"14\": 1, \"0\": 1}, \"5\": {\"5\": 77, \"6\": 7, \"15\": 2, \"14\": 36, \"13\": 13, \"11\": 18, \"10\": 34, \"4\": 13, \"1\": 27, \"0\": 5, \"9\": 1, \"7\": 4, \"8\": 3}, \"10\": {\"9\": 1, \"10\": 41, \"13\": 31, \"7\": 14, \"14\": 28, \"0\": 28, \"5\": 31, \"1\": 11, \"4\": 17, \"6\": 23, \"8\": 8, \"15\": 4, \"11\": 2, \"3\": 1}, \"14\": {\"4\": 35, \"10\": 30, \"6\": 13, \"5\": 31, \"14\": 25, \"8\": 9, \"11\": 12, \"7\": 18, \"13\": 23, \"0\": 15, \"12\": 4, \"1\": 16, \"15\": 7, \"3\": 1, \"2\": 1}, \"8\": {\"15\": 43, \"8\": 52, \"11\": 26, \"6\": 14, \"1\": 24, \"12\": 30, \"14\": 17, \"4\": 13, \"3\": 3, \"10\": 2, \"5\": 3, \"2\": 6, \"7\": 4, \"13\": 3}}, \"O_20\": {\"6\": {\"10\": 31, \"6\": 59, \"3\": 8, \"14\": 44, \"8\": 30, \"5\": 8, \"13\": 3, \"7\": 17, \"12\": 7, \"4\": 7, \"9\": 4, \"11\": 11, \"0\": 6, \"2\": 4, \"1\": 1}, \"11\": {\"10\": 3, \"11\": 127, \"8\": 4, \"9\": 9, \"1\": 4, \"2\": 17, \"6\": 10, \"7\": 18, \"5\": 1, \"13\": 34, \"15\": 3, \"14\": 5, \"12\": 2, \"3\": 2, \"0\": 1}, \"5\": {\"1\": 26, \"15\": 24, \"3\": 22, \"11\": 3, \"0\": 26, \"5\": 29, \"12\": 29, \"4\": 16, \"7\": 5, \"10\": 7, \"2\": 15, \"6\": 9, \"14\": 4, \"9\": 11, \"13\": 6, \"8\": 8}, \"14\": {\"10\": 46, \"6\": 51, \"3\": 5, \"4\": 15, \"7\": 12, \"0\": 11, \"14\": 58, \"8\": 27, \"9\": 5, \"1\": 1, \"12\": 6, \"2\": 2, \"5\": 1}, \"2\": {\"15\": 26, \"1\": 22, \"7\": 20, \"12\": 23, \"13\": 20, \"9\": 27, \"2\": 21, \"5\": 16, \"10\": 7, \"4\": 3, \"3\": 21, \"0\": 13, \"11\": 10, \"14\": 4, \"6\": 4, \"8\": 3}, \"7\": {\"13\": 15, \"2\": 23, \"7\": 30, \"12\": 17, \"6\": 23, \"15\": 13, \"9\": 14, \"0\": 11, \"1\": 13, \"4\": 5, \"14\": 9, \"10\": 11, \"11\": 10, \"3\": 16, \"5\": 14, \"8\": 16}, \"3\": {\"7\": 17, \"13\": 8, \"10\": 14, \"14\": 5, \"12\": 24, \"8\": 5, \"2\": 23, \"15\": 19, \"5\": 24, \"4\": 13, \"0\": 18, \"9\": 9, \"11\": 1, \"3\": 29, \"6\": 14, \"1\": 17}, \"4\": {\"10\": 26, \"1\": 9, \"8\": 29, \"7\": 8, \"14\": 24, \"4\": 34, \"12\": 22, \"9\": 8, \"6\": 10, \"0\": 30, \"15\": 4, \"3\": 11, \"13\": 2, \"5\": 16, \"2\": 7}, \"9\": {\"7\": 26, \"1\": 28, \"9\": 31, \"2\": 21, \"5\": 16, \"12\": 21, \"6\": 10, \"15\": 18, \"11\": 7, \"13\": 11, \"3\": 26, \"0\": 5, \"8\": 5, \"10\": 9, \"14\": 1, \"4\": 5}, \"12\": {\"15\": 16, \"10\": 9, \"4\": 14, \"9\": 17, \"12\": 30, \"2\": 18, \"8\": 6, \"14\": 3, \"5\": 28, \"1\": 27, \"0\": 16, \"3\": 20, \"7\": 17, \"13\": 10, \"11\": 5, \"6\": 4}, \"0\": {\"8\": 23, \"15\": 26, \"0\": 48, \"5\": 29, \"14\": 9, \"2\": 9, \"3\": 15, \"12\": 9, \"1\": 20, \"6\": 11, \"9\": 4, \"13\": 11, \"4\": 7, \"7\": 8, \"10\": 9, \"11\": 2}, \"10\": {\"12\": 11, \"10\": 46, \"4\": 25, \"14\": 40, \"6\": 38, \"1\": 5, \"8\": 25, \"9\": 6, \"3\": 11, \"7\": 9, \"2\": 7, \"5\": 9, \"15\": 3, \"0\": 5}, \"8\": {\"7\": 12, \"15\": 4, \"6\": 31, \"0\": 33, \"3\": 5, \"2\": 5, \"10\": 33, \"5\": 13, \"1\": 5, \"8\": 34, \"14\": 22, \"12\": 9, \"4\": 24, \"9\": 6, \"13\": 4}, \"13\": {\"13\": 58, \"12\": 9, \"7\": 26, \"2\": 26, \"1\": 17, \"11\": 23, \"9\": 13, \"15\": 21, \"0\": 9, \"10\": 3, \"5\": 13, \"4\": 4, \"6\": 4, \"3\": 14}, \"1\": {\"2\": 13, \"7\": 11, \"5\": 23, \"9\": 25, \"3\": 22, \"0\": 18, \"15\": 37, \"12\": 24, \"4\": 7, \"13\": 14, \"6\": 2, \"8\": 6, \"1\": 25, \"10\": 6, \"11\": 4, \"14\": 3}, \"15\": {\"15\": 42, \"1\": 29, \"2\": 20, \"0\": 21, \"3\": 19, \"7\": 10, \"12\": 27, \"13\": 26, \"9\": 17, \"5\": 13, \"6\": 3, \"4\": 7, \"8\": 3, \"10\": 1, \"14\": 2}}, \"O_38\": {\"3\": {\"9\": 43, \"6\": 26, \"3\": 124, \"0\": 18, \"7\": 16, \"8\": 5, \"5\": 8}, \"8\": {\"7\": 29, \"15\": 17, \"0\": 38, \"8\": 53, \"5\": 42, \"13\": 16, \"12\": 1, \"10\": 18, \"3\": 5, \"2\": 6, \"1\": 10, \"6\": 4, \"9\": 1}, \"0\": {\"2\": 3, \"0\": 64, \"7\": 39, \"12\": 6, \"8\": 36, \"5\": 37, \"6\": 6, \"3\": 14, \"10\": 12, \"1\": 3, \"13\": 5, \"4\": 4, \"15\": 8, \"14\": 1, \"9\": 2}, \"2\": {\"11\": 15, \"2\": 109, \"14\": 33, \"13\": 39, \"1\": 6, \"8\": 1, \"15\": 16, \"10\": 20, \"0\": 1}, \"4\": {\"12\": 77, \"4\": 160, \"14\": 2, \"11\": 1}, \"7\": {\"3\": 11, \"8\": 46, \"0\": 45, \"7\": 88, \"5\": 25, \"13\": 2, \"12\": 2, \"15\": 2, \"10\": 11, \"6\": 4, \"1\": 1, \"9\": 2, \"4\": 1}, \"12\": {\"12\": 170, \"4\": 56, \"14\": 6, \"10\": 3, \"0\": 2, \"11\": 3}, \"6\": {\"6\": 92, \"1\": 21, \"9\": 88, \"8\": 4, \"7\": 4, \"5\": 10, \"3\": 17, \"0\": 2, \"15\": 1, \"13\": 1}, \"15\": {\"13\": 46, \"15\": 53, \"8\": 26, \"2\": 16, \"5\": 23, \"6\": 4, \"14\": 3, \"10\": 18, \"1\": 41, \"7\": 4, \"0\": 5, \"11\": 1}, \"11\": {\"14\": 84, \"2\": 24, \"11\": 104, \"10\": 14, \"15\": 2, \"0\": 1, \"13\": 3, \"12\": 7, \"1\": 1}, \"9\": {\"6\": 94, \"9\": 93, \"3\": 32, \"1\": 7, \"5\": 6, \"7\": 4, \"8\": 2, \"0\": 2}, \"14\": {\"11\": 63, \"14\": 103, \"13\": 2, \"10\": 26, \"2\": 30, \"8\": 2, \"15\": 3, \"4\": 1, \"12\": 10}, \"10\": {\"10\": 80, \"15\": 21, \"8\": 26, \"2\": 25, \"5\": 5, \"14\": 15, \"13\": 19, \"7\": 11, \"11\": 21, \"0\": 9, \"4\": 2, \"12\": 4, \"1\": 2}, \"5\": {\"8\": 37, \"5\": 49, \"15\": 22, \"7\": 28, \"0\": 33, \"13\": 13, \"6\": 14, \"3\": 8, \"1\": 15, \"12\": 1, \"14\": 1, \"9\": 11, \"10\": 6, \"4\": 1, \"2\": 1}, \"1\": {\"6\": 18, \"10\": 1, \"1\": 127, \"15\": 39, \"13\": 20, \"9\": 10, \"8\": 6, \"5\": 14, \"7\": 2, \"0\": 1, \"2\": 2}, \"13\": {\"10\": 18, \"15\": 65, \"13\": 74, \"5\": 11, \"8\": 16, \"11\": 3, \"2\": 26, \"1\": 15, \"7\": 4, \"0\": 4, \"14\": 2, \"6\": 1, \"9\": 1}}, \"O_26\": {\"5\": {\"5\": 42, \"2\": 23, \"1\": 8, \"7\": 16, \"13\": 52, \"15\": 28, \"6\": 9, \"14\": 3, \"3\": 21, \"8\": 9, \"9\": 16, \"4\": 7, \"0\": 3, \"10\": 3}, \"8\": {\"9\": 19, \"8\": 26, \"5\": 7, \"7\": 29, \"14\": 22, \"12\": 1, \"1\": 13, \"4\": 21, \"15\": 20, \"10\": 16, \"6\": 23, \"0\": 19, \"3\": 11, \"13\": 2, \"2\": 11}, \"4\": {\"3\": 15, \"4\": 32, \"7\": 25, \"6\": 17, \"0\": 27, \"10\": 20, \"9\": 14, \"8\": 16, \"14\": 25, \"1\": 27, \"2\": 8, \"5\": 4, \"15\": 9, \"13\": 1}, \"12\": {\"12\": 173, \"8\": 5, \"6\": 14, \"0\": 8, \"11\": 13, \"10\": 10, \"9\": 6, \"14\": 2, \"4\": 3, \"1\": 5, \"13\": 1}, \"6\": {\"15\": 18, \"8\": 19, \"12\": 30, \"10\": 15, \"7\": 14, \"6\": 39, \"4\": 13, \"0\": 21, \"5\": 8, \"3\": 9, \"14\": 9, \"9\": 24, \"2\": 4, \"13\": 14, \"1\": 3}, \"7\": {\"4\": 18, \"3\": 35, \"7\": 31, \"15\": 16, \"9\": 26, \"1\": 15, \"5\": 8, \"6\": 5, \"14\": 13, \"8\": 14, \"2\": 30, \"0\": 12, \"10\": 12, \"13\": 5}, \"10\": {\"14\": 26, \"8\": 21, \"1\": 24, \"9\": 16, \"6\": 26, \"3\": 8, \"15\": 13, \"4\": 29, \"10\": 22, \"7\": 8, \"13\": 5, \"0\": 20, \"5\": 6, \"12\": 12, \"2\": 3, \"11\": 1}, \"0\": {\"10\": 34, \"0\": 35, \"8\": 24, \"14\": 26, \"1\": 18, \"15\": 13, \"7\": 14, \"4\": 21, \"9\": 15, \"6\": 17, \"12\": 6, \"3\": 7, \"5\": 3, \"2\": 6, \"13\": 1}, \"15\": {\"0\": 7, \"7\": 15, \"3\": 15, \"8\": 18, \"9\": 21, \"2\": 17, \"15\": 34, \"13\": 24, \"5\": 29, \"6\": 21, \"14\": 10, \"4\": 11, \"1\": 2, \"10\": 13, \"12\": 3}, \"9\": {\"9\": 34, \"15\": 25, \"6\": 19, \"8\": 21, \"7\": 25, \"0\": 15, \"2\": 16, \"5\": 17, \"13\": 20, \"3\": 9, \"4\": 8, \"1\": 7, \"12\": 2, \"10\": 16, \"14\": 6}, \"11\": {\"11\": 206, \"12\": 16, \"13\": 3, \"5\": 7, \"9\": 1, \"8\": 3, \"4\": 1, \"6\": 1, \"14\": 1, \"10\": 1}, \"14\": {\"3\": 11, \"7\": 12, \"1\": 26, \"6\": 24, \"0\": 30, \"15\": 4, \"2\": 7, \"14\": 39, \"5\": 6, \"4\": 30, \"8\": 16, \"10\": 23, \"9\": 6, \"13\": 3, \"12\": 3}, \"2\": {\"8\": 7, \"1\": 4, \"2\": 41, \"7\": 20, \"15\": 27, \"5\": 31, \"13\": 19, \"3\": 43, \"9\": 15, \"0\": 5, \"4\": 11, \"6\": 7, \"10\": 4, \"14\": 6}, \"13\": {\"4\": 5, \"5\": 45, \"13\": 62, \"9\": 14, \"3\": 15, \"8\": 13, \"2\": 17, \"11\": 13, \"15\": 32, \"6\": 6, \"7\": 7, \"10\": 5, \"14\": 2, \"12\": 2, \"1\": 1, \"0\": 1}, \"3\": {\"3\": 50, \"0\": 10, \"9\": 23, \"10\": 2, \"1\": 6, \"7\": 25, \"2\": 54, \"5\": 19, \"13\": 9, \"15\": 11, \"8\": 7, \"6\": 8, \"4\": 11, \"14\": 5}, \"1\": {\"14\": 30, \"1\": 49, \"3\": 14, \"0\": 23, \"15\": 7, \"9\": 7, \"4\": 32, \"8\": 16, \"10\": 24, \"7\": 23, \"6\": 7, \"12\": 2, \"2\": 5, \"5\": 1}}}, \"per_domain_accuracy\": {\"C_4\": {\"accuracy\": 0.9946969696969697, \"source?\": true}, \"C_2\": {\"accuracy\": 0.9975421348314607, \"source?\": true}, \"C_3\": {\"accuracy\": 0.9957217261904762, \"source?\": true}, \"C_1\": {\"accuracy\": 0.9981418918918918, \"source?\": true}, \"C_5\": {\"accuracy\": 0.9921438547486033, \"source?\": true}, \"O_50\": {\"accuracy\": 0.3658854166666667, \"source?\": false}, \"O_14\": {\"accuracy\": 0.36875, \"source?\": false}, \"O_32\": {\"accuracy\": 0.46536458333333336, \"source?\": false}, \"O_44\": {\"accuracy\": 0.36796875, \"source?\": false}, \"O_8\": {\"accuracy\": 0.2596354166666667, \"source?\": false}, \"O_20\": {\"accuracy\": 0.18255208333333334, \"source?\": false}, \"O_38\": {\"accuracy\": 0.40182291666666664, \"source?\": false}, \"O_26\": {\"accuracy\": 0.23828125, \"source?\": false}}}, \"history\": {\"epoch_indices\": [1, 2, 3, 4, 5], \"train_label_loss\": [0.03442724723649986, 0.09016172616135294, 0.008800390997559986, 0.006585874435353061, 0.006594739768547518], \"source_val_label_loss\": [0.035194624215364456, 0.021690608933568, 0.006642909720540047, 0.006772038992494345, 0.004939679056406021], \"target_val_label_loss\": [1.920735478401184, 2.0364158153533936, 2.2425224781036377, 2.388777494430542, 2.193570613861084], \"source_val_acc_label\": [0.9956785714285714, 0.9961428571428571, 0.9986785714285714, 0.99875, 0.9993214285714286], \"target_val_acc_label\": [0.33128255208333335, 0.32119140625, 0.31552734375, 0.31227213541666665, 0.3306966145833333]}, \"dataset_metrics\": {\"source\": {\"train\": {\"n_unique_x\": 175169, \"n_unique_y\": 58, \"n_batch/episode\": 6311}, \"val\": {\"n_unique_x\": 37166, \"n_unique_y\": 58, \"n_batch/episode\": 875}, \"test\": {\"n_unique_x\": 37642, \"n_unique_y\": 58, \"n_batch/episode\": 890}}, \"target\": {\"train\": {\"n_unique_x\": 179200, \"n_unique_y\": 16, \"n_batch/episode\": 6720}, \"val\": {\"n_unique_x\": 38400, \"n_unique_y\": 16, \"n_batch/episode\": 960}, \"test\": {\"n_unique_x\": 38400, \"n_unique_y\": 16, \"n_batch/episode\": 960}}}}'"
      ]
     },
     "execution_count": 29,
     "metadata": {},
     "output_type": "execute_result"
    }
   ],
   "source": [
    "json.dumps(experiment)"
   ]
  }
 ],
 "metadata": {
  "celltoolbar": "Tags",
  "kernelspec": {
   "display_name": "Python 3 (ipykernel)",
   "language": "python",
   "name": "python3"
  },
  "language_info": {
   "codemirror_mode": {
    "name": "ipython",
    "version": 3
   },
   "file_extension": ".py",
   "mimetype": "text/x-python",
   "name": "python",
   "nbconvert_exporter": "python",
   "pygments_lexer": "ipython3",
   "version": "3.8.12"
  },
  "papermill": {
   "default_parameters": {},
   "duration": 1999.323604,
   "end_time": "2022-03-28T00:43:42.353869",
   "environment_variables": {},
   "exception": null,
   "input_path": "/root/csc500-main/csc500-notebooks/templates/tl_ptn_template.ipynb",
   "output_path": "trial.ipynb",
   "parameters": {
    "parameters": {
     "BEST_MODEL_PATH": "./best_model.pth",
     "NUM_LOGS_PER_EPOCH": 10,
     "criteria_for_best": "target_accuracy",
     "dataset_seed": 500,
     "datasets": [
      {
       "domain_prefix": "C_",
       "domains": [
        1,
        2,
        3,
        4,
        5
       ],
       "episode_transforms": [],
       "labels": [
        "1-10.",
        "1-11.",
        "1-15.",
        "1-16.",
        "1-17.",
        "1-18.",
        "1-19.",
        "10-4.",
        "10-7.",
        "11-1.",
        "11-14.",
        "11-17.",
        "11-20.",
        "11-7.",
        "13-20.",
        "13-8.",
        "14-10.",
        "14-11.",
        "14-14.",
        "14-7.",
        "15-1.",
        "15-20.",
        "16-1.",
        "16-16.",
        "17-10.",
        "17-11.",
        "17-2.",
        "19-1.",
        "19-16.",
        "19-19.",
        "19-20.",
        "19-3.",
        "2-10.",
        "2-11.",
        "2-17.",
        "2-18.",
        "2-20.",
        "2-3.",
        "2-4.",
        "2-5.",
        "2-6.",
        "2-7.",
        "2-8.",
        "3-13.",
        "3-18.",
        "3-3.",
        "4-1.",
        "4-10.",
        "4-11.",
        "4-19.",
        "5-5.",
        "6-15.",
        "7-10.",
        "7-14.",
        "8-18.",
        "8-20.",
        "8-3.",
        "8-8."
       ],
       "num_examples_per_domain_per_label": -1,
       "pickle_path": "/root/csc500-main/datasets/cores.stratified_ds.2022A.pkl",
       "source_or_target_dataset": "source",
       "x_transforms": [
        "unit_power",
        "jitter_256_1",
        "lowpass_+/-10MHz",
        "take_200"
       ]
      },
      {
       "domain_prefix": "O_",
       "domains": [
        32,
        38,
        8,
        44,
        14,
        50,
        20,
        26
       ],
       "episode_transforms": [],
       "labels": [
        "3123D52",
        "3123D65",
        "3123D79",
        "3123D80",
        "3123D54",
        "3123D70",
        "3123D7B",
        "3123D89",
        "3123D58",
        "3123D76",
        "3123D7D",
        "3123EFE",
        "3123D64",
        "3123D78",
        "3123D7E",
        "3124E4A"
       ],
       "num_examples_per_domain_per_label": 2000,
       "pickle_path": "/root/csc500-main/datasets/oracle.Run1_framed_2000Examples_stratified_ds.2022A.pkl",
       "source_or_target_dataset": "target",
       "x_transforms": [
        "unit_power",
        "jitter_256_1",
        "take_200",
        "resample_20Msps_to_25Msps"
       ]
      }
     ],
     "device": "cuda",
     "experiment_name": "tl_3-jitter1v2:cores -> oracle.run1.framed",
     "lr": 0.0001,
     "n_epoch": 50,
     "n_query": 2,
     "n_shot": 3,
     "n_way": 16,
     "patience": 3,
     "seed": 500,
     "test_k_factor": 2,
     "torch_default_dtype": "torch.float32",
     "train_k_factor": 3,
     "val_k_factor": 2,
     "x_net": [
      {
       "class": "nnReshape",
       "kargs": {
        "shape": [
         -1,
         1,
         2,
         256
        ]
       }
      },
      {
       "class": "Conv2d",
       "kargs": {
        "bias": false,
        "in_channels": 1,
        "kernel_size": [
         1,
         7
        ],
        "out_channels": 256,
        "padding": [
         0,
         3
        ]
       }
      },
      {
       "class": "ReLU",
       "kargs": {
        "inplace": true
       }
      },
      {
       "class": "BatchNorm2d",
       "kargs": {
        "num_features": 256
       }
      },
      {
       "class": "Conv2d",
       "kargs": {
        "bias": true,
        "in_channels": 256,
        "kernel_size": [
         2,
         7
        ],
        "out_channels": 80,
        "padding": [
         0,
         3
        ]
       }
      },
      {
       "class": "ReLU",
       "kargs": {
        "inplace": true
       }
      },
      {
       "class": "BatchNorm2d",
       "kargs": {
        "num_features": 80
       }
      },
      {
       "class": "Flatten",
       "kargs": {}
      },
      {
       "class": "Linear",
       "kargs": {
        "in_features": 20480,
        "out_features": 256
       }
      },
      {
       "class": "ReLU",
       "kargs": {
        "inplace": true
       }
      },
      {
       "class": "BatchNorm1d",
       "kargs": {
        "num_features": 256
       }
      },
      {
       "class": "Linear",
       "kargs": {
        "in_features": 256,
        "out_features": 256
       }
      }
     ],
     "x_shape": [
      2,
      256
     ]
    }
   },
   "start_time": "2022-03-28T00:10:23.030265",
   "version": "2.3.4"
  }
 },
 "nbformat": 4,
 "nbformat_minor": 5
}