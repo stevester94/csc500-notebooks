{
 "cells": [
  {
   "cell_type": "markdown",
   "id": "9fea5f46",
   "metadata": {
    "papermill": {
     "duration": 0.030456,
     "end_time": "2022-03-27T22:50:41.802517",
     "exception": false,
     "start_time": "2022-03-27T22:50:41.772061",
     "status": "completed"
    },
    "tags": []
   },
   "source": [
    "# Transfer Learning Template"
   ]
  },
  {
   "cell_type": "code",
   "execution_count": 1,
   "id": "0902182a",
   "metadata": {
    "execution": {
     "iopub.execute_input": "2022-03-27T22:50:41.864386Z",
     "iopub.status.busy": "2022-03-27T22:50:41.853043Z",
     "iopub.status.idle": "2022-03-27T22:50:43.723400Z",
     "shell.execute_reply": "2022-03-27T22:50:43.722928Z"
    },
    "papermill": {
     "duration": 1.898823,
     "end_time": "2022-03-27T22:50:43.723518",
     "exception": false,
     "start_time": "2022-03-27T22:50:41.824695",
     "status": "completed"
    },
    "tags": []
   },
   "outputs": [],
   "source": [
    "%load_ext autoreload\n",
    "%autoreload 2\n",
    "%matplotlib inline\n",
    "\n",
    "    \n",
    "import os, json, sys, time, random\n",
    "import numpy as np\n",
    "import torch\n",
    "from torch.optim import Adam\n",
    "from  easydict import EasyDict\n",
    "import matplotlib.pyplot as plt\n",
    "\n",
    "from steves_models.steves_ptn import Steves_Prototypical_Network\n",
    "\n",
    "from steves_utils.lazy_iterable_wrapper import Lazy_Iterable_Wrapper\n",
    "from steves_utils.iterable_aggregator import Iterable_Aggregator\n",
    "from steves_utils.ptn_train_eval_test_jig import  PTN_Train_Eval_Test_Jig\n",
    "from steves_utils.torch_sequential_builder import build_sequential\n",
    "from steves_utils.torch_utils import get_dataset_metrics, ptn_confusion_by_domain_over_dataloader\n",
    "from steves_utils.utils_v2 import (per_domain_accuracy_from_confusion, get_datasets_base_path)\n",
    "from steves_utils.PTN.utils import independent_accuracy_assesment\n",
    "\n",
    "from torch.utils.data import DataLoader\n",
    "\n",
    "from steves_utils.stratified_dataset.episodic_accessor import Episodic_Accessor_Factory\n",
    "\n",
    "from steves_utils.ptn_do_report import (\n",
    "    get_loss_curve,\n",
    "    get_results_table,\n",
    "    get_parameters_table,\n",
    "    get_domain_accuracies,\n",
    ")\n",
    "\n",
    "from steves_utils.transforms import get_chained_transform"
   ]
  },
  {
   "cell_type": "markdown",
   "id": "41c840b4",
   "metadata": {
    "papermill": {
     "duration": 0.019623,
     "end_time": "2022-03-27T22:50:43.763581",
     "exception": false,
     "start_time": "2022-03-27T22:50:43.743958",
     "status": "completed"
    },
    "tags": []
   },
   "source": [
    "# Allowed Parameters\n",
    "These are allowed parameters, not defaults\n",
    "Each of these values need to be present in the injected parameters (the notebook will raise an exception if they are not present)\n",
    "\n",
    "Papermill uses the cell tag \"parameters\" to inject the real parameters below this cell.\n",
    "Enable tags to see what I mean"
   ]
  },
  {
   "cell_type": "code",
   "execution_count": 2,
   "id": "fd44eb83",
   "metadata": {
    "execution": {
     "iopub.execute_input": "2022-03-27T22:50:43.806416Z",
     "iopub.status.busy": "2022-03-27T22:50:43.806029Z",
     "iopub.status.idle": "2022-03-27T22:50:43.826341Z",
     "shell.execute_reply": "2022-03-27T22:50:43.825957Z"
    },
    "papermill": {
     "duration": 0.043264,
     "end_time": "2022-03-27T22:50:43.826416",
     "exception": false,
     "start_time": "2022-03-27T22:50:43.783152",
     "status": "completed"
    },
    "tags": []
   },
   "outputs": [],
   "source": [
    "required_parameters = {\n",
    "    \"experiment_name\",\n",
    "    \"lr\",\n",
    "    \"device\",\n",
    "    \"seed\",\n",
    "    \"dataset_seed\",\n",
    "    \"n_shot\",\n",
    "    \"n_query\",\n",
    "    \"n_way\",\n",
    "    \"train_k_factor\",\n",
    "    \"val_k_factor\",\n",
    "    \"test_k_factor\",\n",
    "    \"n_epoch\",\n",
    "    \"patience\",\n",
    "    \"criteria_for_best\",\n",
    "    \"x_net\",\n",
    "    \"datasets\",\n",
    "    \"torch_default_dtype\",\n",
    "    \"NUM_LOGS_PER_EPOCH\",\n",
    "    \"BEST_MODEL_PATH\",\n",
    "    \"x_shape\",\n",
    "}"
   ]
  },
  {
   "cell_type": "code",
   "execution_count": 3,
   "id": "fa3f0049",
   "metadata": {
    "execution": {
     "iopub.execute_input": "2022-03-27T22:50:43.876103Z",
     "iopub.status.busy": "2022-03-27T22:50:43.873528Z",
     "iopub.status.idle": "2022-03-27T22:50:43.897665Z",
     "shell.execute_reply": "2022-03-27T22:50:43.897327Z"
    },
    "papermill": {
     "duration": 0.051137,
     "end_time": "2022-03-27T22:50:43.897744",
     "exception": false,
     "start_time": "2022-03-27T22:50:43.846607",
     "status": "completed"
    },
    "tags": [
     "parameters"
    ]
   },
   "outputs": [],
   "source": [
    "from steves_utils.CORES.utils import (\n",
    "    ALL_NODES,\n",
    "    ALL_NODES_MINIMUM_1000_EXAMPLES,\n",
    "    ALL_DAYS\n",
    ")\n",
    "\n",
    "from steves_utils.ORACLE.utils_v2 import (\n",
    "    ALL_DISTANCES_FEET_NARROWED,\n",
    "    ALL_RUNS,\n",
    "    ALL_SERIAL_NUMBERS,\n",
    ")\n",
    "\n",
    "standalone_parameters = {}\n",
    "standalone_parameters[\"experiment_name\"] = \"STANDALONE PTN\"\n",
    "standalone_parameters[\"lr\"] = 0.001\n",
    "standalone_parameters[\"device\"] = \"cuda\"\n",
    "\n",
    "standalone_parameters[\"seed\"] = 1337\n",
    "standalone_parameters[\"dataset_seed\"] = 1337\n",
    "\n",
    "standalone_parameters[\"n_way\"] = 8\n",
    "standalone_parameters[\"n_shot\"] = 3\n",
    "standalone_parameters[\"n_query\"]  = 2\n",
    "standalone_parameters[\"train_k_factor\"] = 1\n",
    "standalone_parameters[\"val_k_factor\"] = 2\n",
    "standalone_parameters[\"test_k_factor\"] = 2\n",
    "\n",
    "\n",
    "standalone_parameters[\"n_epoch\"] = 50\n",
    "\n",
    "standalone_parameters[\"patience\"] = 10\n",
    "standalone_parameters[\"criteria_for_best\"] = \"source_loss\"\n",
    "\n",
    "standalone_parameters[\"datasets\"] = [\n",
    "    {\n",
    "        \"labels\": ALL_SERIAL_NUMBERS,\n",
    "        \"domains\": ALL_DISTANCES_FEET_NARROWED,\n",
    "        \"num_examples_per_domain_per_label\": 100,\n",
    "        \"pickle_path\": os.path.join(get_datasets_base_path(), \"oracle.Run1_framed_2000Examples_stratified_ds.2022A.pkl\"),\n",
    "        \"source_or_target_dataset\": \"source\",\n",
    "        \"x_transforms\": [\"unit_mag\", \"minus_two\"],\n",
    "        \"episode_transforms\": [],\n",
    "        \"domain_prefix\": \"ORACLE_\"\n",
    "    },\n",
    "    {\n",
    "        \"labels\": ALL_NODES,\n",
    "        \"domains\": ALL_DAYS,\n",
    "        \"num_examples_per_domain_per_label\": 100,\n",
    "        \"pickle_path\": os.path.join(get_datasets_base_path(), \"cores.stratified_ds.2022A.pkl\"),\n",
    "        \"source_or_target_dataset\": \"target\",\n",
    "        \"x_transforms\": [\"unit_power\", \"times_zero\"],\n",
    "        \"episode_transforms\": [],\n",
    "        \"domain_prefix\": \"CORES_\"\n",
    "    }   \n",
    "]\n",
    "\n",
    "standalone_parameters[\"torch_default_dtype\"] = \"torch.float32\" \n",
    "\n",
    "\n",
    "\n",
    "standalone_parameters[\"x_net\"] =     [\n",
    "    {\"class\": \"nnReshape\", \"kargs\": {\"shape\":[-1, 1, 2, 256]}},\n",
    "    {\"class\": \"Conv2d\", \"kargs\": { \"in_channels\":1, \"out_channels\":256, \"kernel_size\":(1,7), \"bias\":False, \"padding\":(0,3), },},\n",
    "    {\"class\": \"ReLU\", \"kargs\": {\"inplace\": True}},\n",
    "    {\"class\": \"BatchNorm2d\", \"kargs\": {\"num_features\":256}},\n",
    "\n",
    "    {\"class\": \"Conv2d\", \"kargs\": { \"in_channels\":256, \"out_channels\":80, \"kernel_size\":(2,7), \"bias\":True, \"padding\":(0,3), },},\n",
    "    {\"class\": \"ReLU\", \"kargs\": {\"inplace\": True}},\n",
    "    {\"class\": \"BatchNorm2d\", \"kargs\": {\"num_features\":80}},\n",
    "    {\"class\": \"Flatten\", \"kargs\": {}},\n",
    "\n",
    "    {\"class\": \"Linear\", \"kargs\": {\"in_features\": 80*256, \"out_features\": 256}}, # 80 units per IQ pair\n",
    "    {\"class\": \"ReLU\", \"kargs\": {\"inplace\": True}},\n",
    "    {\"class\": \"BatchNorm1d\", \"kargs\": {\"num_features\":256}},\n",
    "\n",
    "    {\"class\": \"Linear\", \"kargs\": {\"in_features\": 256, \"out_features\": 256}},\n",
    "]\n",
    "\n",
    "# Parameters relevant to results\n",
    "# These parameters will basically never need to change\n",
    "standalone_parameters[\"NUM_LOGS_PER_EPOCH\"] = 10\n",
    "standalone_parameters[\"BEST_MODEL_PATH\"] = \"./best_model.pth\"\n",
    "\n",
    "\n",
    "\n",
    "\n"
   ]
  },
  {
   "cell_type": "code",
   "execution_count": 4,
   "id": "a7570c0a",
   "metadata": {
    "execution": {
     "iopub.execute_input": "2022-03-27T22:50:43.947663Z",
     "iopub.status.busy": "2022-03-27T22:50:43.947204Z",
     "iopub.status.idle": "2022-03-27T22:50:43.968125Z",
     "shell.execute_reply": "2022-03-27T22:50:43.967735Z"
    },
    "papermill": {
     "duration": 0.050355,
     "end_time": "2022-03-27T22:50:43.968202",
     "exception": false,
     "start_time": "2022-03-27T22:50:43.917847",
     "status": "completed"
    },
    "tags": [
     "injected-parameters"
    ]
   },
   "outputs": [],
   "source": [
    "# Parameters\n",
    "parameters = {\n",
    "    \"experiment_name\": \"tl_3-jitter1v2:cores -> oracle.run1.framed\",\n",
    "    \"device\": \"cuda\",\n",
    "    \"lr\": 0.0001,\n",
    "    \"x_shape\": [2, 256],\n",
    "    \"n_shot\": 3,\n",
    "    \"n_query\": 2,\n",
    "    \"train_k_factor\": 3,\n",
    "    \"val_k_factor\": 2,\n",
    "    \"test_k_factor\": 2,\n",
    "    \"torch_default_dtype\": \"torch.float32\",\n",
    "    \"n_epoch\": 50,\n",
    "    \"patience\": 3,\n",
    "    \"criteria_for_best\": \"target_accuracy\",\n",
    "    \"x_net\": [\n",
    "        {\"class\": \"nnReshape\", \"kargs\": {\"shape\": [-1, 1, 2, 256]}},\n",
    "        {\n",
    "            \"class\": \"Conv2d\",\n",
    "            \"kargs\": {\n",
    "                \"in_channels\": 1,\n",
    "                \"out_channels\": 256,\n",
    "                \"kernel_size\": [1, 7],\n",
    "                \"bias\": False,\n",
    "                \"padding\": [0, 3],\n",
    "            },\n",
    "        },\n",
    "        {\"class\": \"ReLU\", \"kargs\": {\"inplace\": True}},\n",
    "        {\"class\": \"BatchNorm2d\", \"kargs\": {\"num_features\": 256}},\n",
    "        {\n",
    "            \"class\": \"Conv2d\",\n",
    "            \"kargs\": {\n",
    "                \"in_channels\": 256,\n",
    "                \"out_channels\": 80,\n",
    "                \"kernel_size\": [2, 7],\n",
    "                \"bias\": True,\n",
    "                \"padding\": [0, 3],\n",
    "            },\n",
    "        },\n",
    "        {\"class\": \"ReLU\", \"kargs\": {\"inplace\": True}},\n",
    "        {\"class\": \"BatchNorm2d\", \"kargs\": {\"num_features\": 80}},\n",
    "        {\"class\": \"Flatten\", \"kargs\": {}},\n",
    "        {\"class\": \"Linear\", \"kargs\": {\"in_features\": 20480, \"out_features\": 256}},\n",
    "        {\"class\": \"ReLU\", \"kargs\": {\"inplace\": True}},\n",
    "        {\"class\": \"BatchNorm1d\", \"kargs\": {\"num_features\": 256}},\n",
    "        {\"class\": \"Linear\", \"kargs\": {\"in_features\": 256, \"out_features\": 256}},\n",
    "    ],\n",
    "    \"NUM_LOGS_PER_EPOCH\": 10,\n",
    "    \"BEST_MODEL_PATH\": \"./best_model.pth\",\n",
    "    \"n_way\": 16,\n",
    "    \"datasets\": [\n",
    "        {\n",
    "            \"labels\": [\n",
    "                \"1-10.\",\n",
    "                \"1-11.\",\n",
    "                \"1-15.\",\n",
    "                \"1-16.\",\n",
    "                \"1-17.\",\n",
    "                \"1-18.\",\n",
    "                \"1-19.\",\n",
    "                \"10-4.\",\n",
    "                \"10-7.\",\n",
    "                \"11-1.\",\n",
    "                \"11-14.\",\n",
    "                \"11-17.\",\n",
    "                \"11-20.\",\n",
    "                \"11-7.\",\n",
    "                \"13-20.\",\n",
    "                \"13-8.\",\n",
    "                \"14-10.\",\n",
    "                \"14-11.\",\n",
    "                \"14-14.\",\n",
    "                \"14-7.\",\n",
    "                \"15-1.\",\n",
    "                \"15-20.\",\n",
    "                \"16-1.\",\n",
    "                \"16-16.\",\n",
    "                \"17-10.\",\n",
    "                \"17-11.\",\n",
    "                \"17-2.\",\n",
    "                \"19-1.\",\n",
    "                \"19-16.\",\n",
    "                \"19-19.\",\n",
    "                \"19-20.\",\n",
    "                \"19-3.\",\n",
    "                \"2-10.\",\n",
    "                \"2-11.\",\n",
    "                \"2-17.\",\n",
    "                \"2-18.\",\n",
    "                \"2-20.\",\n",
    "                \"2-3.\",\n",
    "                \"2-4.\",\n",
    "                \"2-5.\",\n",
    "                \"2-6.\",\n",
    "                \"2-7.\",\n",
    "                \"2-8.\",\n",
    "                \"3-13.\",\n",
    "                \"3-18.\",\n",
    "                \"3-3.\",\n",
    "                \"4-1.\",\n",
    "                \"4-10.\",\n",
    "                \"4-11.\",\n",
    "                \"4-19.\",\n",
    "                \"5-5.\",\n",
    "                \"6-15.\",\n",
    "                \"7-10.\",\n",
    "                \"7-14.\",\n",
    "                \"8-18.\",\n",
    "                \"8-20.\",\n",
    "                \"8-3.\",\n",
    "                \"8-8.\",\n",
    "            ],\n",
    "            \"domains\": [1, 2, 3, 4, 5],\n",
    "            \"num_examples_per_domain_per_label\": -1,\n",
    "            \"pickle_path\": \"/root/csc500-main/datasets/cores.stratified_ds.2022A.pkl\",\n",
    "            \"source_or_target_dataset\": \"source\",\n",
    "            \"x_transforms\": [\n",
    "                \"unit_mag\",\n",
    "                \"jitter_256_1\",\n",
    "                \"lowpass_+/-10MHz\",\n",
    "                \"take_200\",\n",
    "            ],\n",
    "            \"episode_transforms\": [],\n",
    "            \"domain_prefix\": \"C_\",\n",
    "        },\n",
    "        {\n",
    "            \"labels\": [\n",
    "                \"3123D52\",\n",
    "                \"3123D65\",\n",
    "                \"3123D79\",\n",
    "                \"3123D80\",\n",
    "                \"3123D54\",\n",
    "                \"3123D70\",\n",
    "                \"3123D7B\",\n",
    "                \"3123D89\",\n",
    "                \"3123D58\",\n",
    "                \"3123D76\",\n",
    "                \"3123D7D\",\n",
    "                \"3123EFE\",\n",
    "                \"3123D64\",\n",
    "                \"3123D78\",\n",
    "                \"3123D7E\",\n",
    "                \"3124E4A\",\n",
    "            ],\n",
    "            \"domains\": [32, 38, 8, 44, 14, 50, 20, 26],\n",
    "            \"num_examples_per_domain_per_label\": 2000,\n",
    "            \"pickle_path\": \"/root/csc500-main/datasets/oracle.Run1_framed_2000Examples_stratified_ds.2022A.pkl\",\n",
    "            \"source_or_target_dataset\": \"target\",\n",
    "            \"x_transforms\": [\n",
    "                \"unit_mag\",\n",
    "                \"jitter_256_1\",\n",
    "                \"take_200\",\n",
    "                \"resample_20Msps_to_25Msps\",\n",
    "            ],\n",
    "            \"episode_transforms\": [],\n",
    "            \"domain_prefix\": \"O_\",\n",
    "        },\n",
    "    ],\n",
    "    \"seed\": 7,\n",
    "    \"dataset_seed\": 7,\n",
    "}\n"
   ]
  },
  {
   "cell_type": "code",
   "execution_count": 5,
   "id": "8fa1cc33",
   "metadata": {
    "execution": {
     "iopub.execute_input": "2022-03-27T22:50:44.012579Z",
     "iopub.status.busy": "2022-03-27T22:50:44.012198Z",
     "iopub.status.idle": "2022-03-27T22:50:44.031116Z",
     "shell.execute_reply": "2022-03-27T22:50:44.030787Z"
    },
    "papermill": {
     "duration": 0.042702,
     "end_time": "2022-03-27T22:50:44.031192",
     "exception": false,
     "start_time": "2022-03-27T22:50:43.988490",
     "status": "completed"
    },
    "tags": []
   },
   "outputs": [],
   "source": [
    "# Set this to True if you want to run this template directly\n",
    "STANDALONE = False\n",
    "if STANDALONE:\n",
    "    print(\"parameters not injected, running with standalone_parameters\")\n",
    "    parameters = standalone_parameters\n",
    "\n",
    "if not 'parameters' in locals() and not 'parameters' in globals():\n",
    "    raise Exception(\"Parameter injection failed\")\n",
    "\n",
    "#Use an easy dict for all the parameters\n",
    "p = EasyDict(parameters)\n",
    "\n",
    "if \"x_shape\" not in p:\n",
    "    p.x_shape = [2,256] # Default to this if we dont supply x_shape\n",
    "\n",
    "\n",
    "supplied_keys = set(p.keys())\n",
    "\n",
    "if  supplied_keys != required_parameters:\n",
    "    print(\"Parameters are incorrect\")\n",
    "    if len(supplied_keys - required_parameters)>0: print(\"Shouldn't have:\", str(supplied_keys - required_parameters))\n",
    "    if len(required_parameters - supplied_keys)>0: print(\"Need to have:\", str(required_parameters - supplied_keys))\n",
    "    raise RuntimeError(\"Parameters are incorrect\")"
   ]
  },
  {
   "cell_type": "code",
   "execution_count": 6,
   "id": "3a028d58",
   "metadata": {
    "execution": {
     "iopub.execute_input": "2022-03-27T22:50:44.075322Z",
     "iopub.status.busy": "2022-03-27T22:50:44.074269Z",
     "iopub.status.idle": "2022-03-27T22:50:44.092766Z",
     "shell.execute_reply": "2022-03-27T22:50:44.092435Z"
    },
    "papermill": {
     "duration": 0.041499,
     "end_time": "2022-03-27T22:50:44.092839",
     "exception": false,
     "start_time": "2022-03-27T22:50:44.051340",
     "status": "completed"
    },
    "tags": []
   },
   "outputs": [],
   "source": [
    "###################################\n",
    "# Set the RNGs and make it all deterministic\n",
    "###################################\n",
    "np.random.seed(p.seed)\n",
    "random.seed(p.seed)\n",
    "torch.manual_seed(p.seed)\n",
    "\n",
    "torch.use_deterministic_algorithms(True) "
   ]
  },
  {
   "cell_type": "code",
   "execution_count": 7,
   "id": "b691acf6",
   "metadata": {
    "execution": {
     "iopub.execute_input": "2022-03-27T22:50:44.136067Z",
     "iopub.status.busy": "2022-03-27T22:50:44.135692Z",
     "iopub.status.idle": "2022-03-27T22:50:44.153549Z",
     "shell.execute_reply": "2022-03-27T22:50:44.153172Z"
    },
    "papermill": {
     "duration": 0.040332,
     "end_time": "2022-03-27T22:50:44.153622",
     "exception": false,
     "start_time": "2022-03-27T22:50:44.113290",
     "status": "completed"
    },
    "tags": []
   },
   "outputs": [],
   "source": [
    "###########################################\n",
    "# The stratified datasets honor this\n",
    "###########################################\n",
    "torch.set_default_dtype(eval(p.torch_default_dtype))"
   ]
  },
  {
   "cell_type": "code",
   "execution_count": 8,
   "id": "b5fba671",
   "metadata": {
    "execution": {
     "iopub.execute_input": "2022-03-27T22:50:44.197312Z",
     "iopub.status.busy": "2022-03-27T22:50:44.196426Z",
     "iopub.status.idle": "2022-03-27T22:50:44.247645Z",
     "shell.execute_reply": "2022-03-27T22:50:44.247208Z"
    },
    "papermill": {
     "duration": 0.073892,
     "end_time": "2022-03-27T22:50:44.247745",
     "exception": false,
     "start_time": "2022-03-27T22:50:44.173853",
     "status": "completed"
    },
    "tags": []
   },
   "outputs": [],
   "source": [
    "###################################\n",
    "# Build the network(s)\n",
    "# Note: It's critical to do this AFTER setting the RNG\n",
    "###################################\n",
    "x_net = build_sequential(p.x_net)"
   ]
  },
  {
   "cell_type": "code",
   "execution_count": 9,
   "id": "5d7e61cc",
   "metadata": {
    "execution": {
     "iopub.execute_input": "2022-03-27T22:50:44.292378Z",
     "iopub.status.busy": "2022-03-27T22:50:44.292005Z",
     "iopub.status.idle": "2022-03-27T22:50:44.314612Z",
     "shell.execute_reply": "2022-03-27T22:50:44.314233Z"
    },
    "papermill": {
     "duration": 0.045959,
     "end_time": "2022-03-27T22:50:44.314687",
     "exception": false,
     "start_time": "2022-03-27T22:50:44.268728",
     "status": "completed"
    },
    "tags": []
   },
   "outputs": [],
   "source": [
    "start_time_secs = time.time()"
   ]
  },
  {
   "cell_type": "code",
   "execution_count": 10,
   "id": "c6b67dfd",
   "metadata": {
    "execution": {
     "iopub.execute_input": "2022-03-27T22:50:44.359306Z",
     "iopub.status.busy": "2022-03-27T22:50:44.358931Z",
     "iopub.status.idle": "2022-03-27T22:50:44.376885Z",
     "shell.execute_reply": "2022-03-27T22:50:44.376509Z"
    },
    "papermill": {
     "duration": 0.041809,
     "end_time": "2022-03-27T22:50:44.376959",
     "exception": false,
     "start_time": "2022-03-27T22:50:44.335150",
     "status": "completed"
    },
    "tags": []
   },
   "outputs": [],
   "source": [
    "p.domains_source = []\n",
    "p.domains_target = []\n",
    "\n",
    "\n",
    "train_original_source = []\n",
    "val_original_source   = []\n",
    "test_original_source  = []\n",
    "\n",
    "train_original_target = []\n",
    "val_original_target   = []\n",
    "test_original_target  = []"
   ]
  },
  {
   "cell_type": "code",
   "execution_count": 11,
   "id": "e3d9c3d3",
   "metadata": {
    "execution": {
     "iopub.execute_input": "2022-03-27T22:50:44.421390Z",
     "iopub.status.busy": "2022-03-27T22:50:44.421018Z",
     "iopub.status.idle": "2022-03-27T22:50:44.438978Z",
     "shell.execute_reply": "2022-03-27T22:50:44.438603Z"
    },
    "papermill": {
     "duration": 0.041249,
     "end_time": "2022-03-27T22:50:44.439052",
     "exception": false,
     "start_time": "2022-03-27T22:50:44.397803",
     "status": "completed"
    },
    "tags": []
   },
   "outputs": [],
   "source": [
    "# global_x_transform_func = lambda x: normalize(x.to(torch.get_default_dtype()), \"unit_power\") # unit_power, unit_mag\n",
    "# global_x_transform_func = lambda x: normalize(x, \"unit_power\") # unit_power, unit_mag"
   ]
  },
  {
   "cell_type": "code",
   "execution_count": 12,
   "id": "acb78fd2",
   "metadata": {
    "execution": {
     "iopub.execute_input": "2022-03-27T22:50:44.505320Z",
     "iopub.status.busy": "2022-03-27T22:50:44.503931Z",
     "iopub.status.idle": "2022-03-27T22:50:44.528190Z",
     "shell.execute_reply": "2022-03-27T22:50:44.527363Z"
    },
    "papermill": {
     "duration": 0.061511,
     "end_time": "2022-03-27T22:50:44.528352",
     "exception": false,
     "start_time": "2022-03-27T22:50:44.466841",
     "status": "completed"
    },
    "tags": []
   },
   "outputs": [],
   "source": [
    "def add_dataset(\n",
    "    labels,\n",
    "    domains,\n",
    "    pickle_path,\n",
    "    x_transforms,\n",
    "    episode_transforms,\n",
    "    domain_prefix,\n",
    "    num_examples_per_domain_per_label,\n",
    "    source_or_target_dataset:str,\n",
    "    iterator_seed=p.seed,\n",
    "    dataset_seed=p.dataset_seed,\n",
    "    n_shot=p.n_shot,\n",
    "    n_way=p.n_way,\n",
    "    n_query=p.n_query,\n",
    "    train_val_test_k_factors=(p.train_k_factor,p.val_k_factor,p.test_k_factor),\n",
    "):\n",
    "   \n",
    "    if x_transforms == []: x_transform = None\n",
    "    else: x_transform = get_chained_transform(x_transforms)\n",
    "    \n",
    "    if episode_transforms == []: episode_transform = None\n",
    "    else: raise Exception(\"episode_transforms not implemented\")\n",
    "    \n",
    "    episode_transform = lambda tup, _prefix=domain_prefix: (_prefix + str(tup[0]), tup[1])\n",
    "\n",
    "\n",
    "    eaf = Episodic_Accessor_Factory(\n",
    "        labels=labels,\n",
    "        domains=domains,\n",
    "        num_examples_per_domain_per_label=num_examples_per_domain_per_label,\n",
    "        iterator_seed=iterator_seed,\n",
    "        dataset_seed=dataset_seed,\n",
    "        n_shot=n_shot,\n",
    "        n_way=n_way,\n",
    "        n_query=n_query,\n",
    "        train_val_test_k_factors=train_val_test_k_factors,\n",
    "        pickle_path=pickle_path,\n",
    "        x_transform_func=x_transform,\n",
    "    )\n",
    "\n",
    "    train, val, test = eaf.get_train(), eaf.get_val(), eaf.get_test()\n",
    "    train = Lazy_Iterable_Wrapper(train, episode_transform)\n",
    "    val = Lazy_Iterable_Wrapper(val, episode_transform)\n",
    "    test = Lazy_Iterable_Wrapper(test, episode_transform)\n",
    "\n",
    "    if source_or_target_dataset==\"source\":\n",
    "        train_original_source.append(train)\n",
    "        val_original_source.append(val)\n",
    "        test_original_source.append(test)\n",
    "\n",
    "        p.domains_source.extend(\n",
    "            [domain_prefix + str(u) for u in domains]\n",
    "        )\n",
    "    elif source_or_target_dataset==\"target\":\n",
    "        train_original_target.append(train)\n",
    "        val_original_target.append(val)\n",
    "        test_original_target.append(test)\n",
    "        p.domains_target.extend(\n",
    "            [domain_prefix + str(u) for u in domains]\n",
    "        )\n",
    "    else:\n",
    "        raise Exception(f\"invalid source_or_target_dataset: {source_or_target_dataset}\")\n",
    "    "
   ]
  },
  {
   "cell_type": "code",
   "execution_count": 13,
   "id": "fe266617",
   "metadata": {
    "execution": {
     "iopub.execute_input": "2022-03-27T22:50:44.580706Z",
     "iopub.status.busy": "2022-03-27T22:50:44.580160Z",
     "iopub.status.idle": "2022-03-27T22:52:34.788662Z",
     "shell.execute_reply": "2022-03-27T22:52:34.787860Z"
    },
    "papermill": {
     "duration": 110.232665,
     "end_time": "2022-03-27T22:52:34.788839",
     "exception": false,
     "start_time": "2022-03-27T22:50:44.556174",
     "status": "completed"
    },
    "tags": []
   },
   "outputs": [],
   "source": [
    "for ds in p.datasets:\n",
    "    add_dataset(**ds)"
   ]
  },
  {
   "cell_type": "code",
   "execution_count": 14,
   "id": "b90d65ac",
   "metadata": {
    "execution": {
     "iopub.execute_input": "2022-03-27T22:52:34.840234Z",
     "iopub.status.busy": "2022-03-27T22:52:34.839668Z",
     "iopub.status.idle": "2022-03-27T22:52:34.861714Z",
     "shell.execute_reply": "2022-03-27T22:52:34.860882Z"
    },
    "papermill": {
     "duration": 0.047761,
     "end_time": "2022-03-27T22:52:34.861871",
     "exception": false,
     "start_time": "2022-03-27T22:52:34.814110",
     "status": "completed"
    },
    "tags": []
   },
   "outputs": [],
   "source": [
    "# from steves_utils.CORES.utils import (\n",
    "#     ALL_NODES,\n",
    "#     ALL_NODES_MINIMUM_1000_EXAMPLES,\n",
    "#     ALL_DAYS\n",
    "# )\n",
    "\n",
    "# add_dataset(\n",
    "#     labels=ALL_NODES,\n",
    "#     domains = ALL_DAYS,\n",
    "#     num_examples_per_domain_per_label=100,\n",
    "#     pickle_path=os.path.join(get_datasets_base_path(), \"cores.stratified_ds.2022A.pkl\"),\n",
    "#     source_or_target_dataset=\"target\",\n",
    "#     x_transform_func=global_x_transform_func,\n",
    "#     domain_modifier=lambda u: f\"cores_{u}\"\n",
    "# )"
   ]
  },
  {
   "cell_type": "code",
   "execution_count": 15,
   "id": "76db484d",
   "metadata": {
    "execution": {
     "iopub.execute_input": "2022-03-27T22:52:34.913817Z",
     "iopub.status.busy": "2022-03-27T22:52:34.913418Z",
     "iopub.status.idle": "2022-03-27T22:52:34.934313Z",
     "shell.execute_reply": "2022-03-27T22:52:34.933497Z"
    },
    "papermill": {
     "duration": 0.04623,
     "end_time": "2022-03-27T22:52:34.934468",
     "exception": false,
     "start_time": "2022-03-27T22:52:34.888238",
     "status": "completed"
    },
    "tags": []
   },
   "outputs": [],
   "source": [
    "# from steves_utils.ORACLE.utils_v2 import (\n",
    "#     ALL_DISTANCES_FEET,\n",
    "#     ALL_RUNS,\n",
    "#     ALL_SERIAL_NUMBERS,\n",
    "# )\n",
    "\n",
    "\n",
    "# add_dataset(\n",
    "#     labels=ALL_SERIAL_NUMBERS,\n",
    "#     domains = list(set(ALL_DISTANCES_FEET) - {2,62}),\n",
    "#     num_examples_per_domain_per_label=100,\n",
    "#     pickle_path=os.path.join(get_datasets_base_path(), \"oracle.Run2_framed_2000Examples_stratified_ds.2022A.pkl\"),\n",
    "#     source_or_target_dataset=\"source\",\n",
    "#     x_transform_func=global_x_transform_func,\n",
    "#     domain_modifier=lambda u: f\"oracle1_{u}\"\n",
    "# )\n"
   ]
  },
  {
   "cell_type": "code",
   "execution_count": 16,
   "id": "97dea9d2",
   "metadata": {
    "execution": {
     "iopub.execute_input": "2022-03-27T22:52:34.985437Z",
     "iopub.status.busy": "2022-03-27T22:52:34.985062Z",
     "iopub.status.idle": "2022-03-27T22:52:35.003248Z",
     "shell.execute_reply": "2022-03-27T22:52:35.003908Z"
    },
    "papermill": {
     "duration": 0.042693,
     "end_time": "2022-03-27T22:52:35.004095",
     "exception": false,
     "start_time": "2022-03-27T22:52:34.961402",
     "status": "completed"
    },
    "tags": []
   },
   "outputs": [],
   "source": [
    "# from steves_utils.ORACLE.utils_v2 import (\n",
    "#     ALL_DISTANCES_FEET,\n",
    "#     ALL_RUNS,\n",
    "#     ALL_SERIAL_NUMBERS,\n",
    "# )\n",
    "\n",
    "\n",
    "# add_dataset(\n",
    "#     labels=ALL_SERIAL_NUMBERS,\n",
    "#     domains = list(set(ALL_DISTANCES_FEET) - {2,62,56}),\n",
    "#     num_examples_per_domain_per_label=100,\n",
    "#     pickle_path=os.path.join(get_datasets_base_path(), \"oracle.Run2_framed_2000Examples_stratified_ds.2022A.pkl\"),\n",
    "#     source_or_target_dataset=\"source\",\n",
    "#     x_transform_func=global_x_transform_func,\n",
    "#     domain_modifier=lambda u: f\"oracle2_{u}\"\n",
    "# )"
   ]
  },
  {
   "cell_type": "code",
   "execution_count": 17,
   "id": "6f289866",
   "metadata": {
    "execution": {
     "iopub.execute_input": "2022-03-27T22:52:35.053931Z",
     "iopub.status.busy": "2022-03-27T22:52:35.053256Z",
     "iopub.status.idle": "2022-03-27T22:52:35.075824Z",
     "shell.execute_reply": "2022-03-27T22:52:35.074998Z"
    },
    "papermill": {
     "duration": 0.046589,
     "end_time": "2022-03-27T22:52:35.075979",
     "exception": false,
     "start_time": "2022-03-27T22:52:35.029390",
     "status": "completed"
    },
    "tags": []
   },
   "outputs": [],
   "source": [
    "# add_dataset(\n",
    "#     labels=list(range(19)),\n",
    "#     domains = [0,1,2],\n",
    "#     num_examples_per_domain_per_label=100,\n",
    "#     pickle_path=os.path.join(get_datasets_base_path(), \"metehan.stratified_ds.2022A.pkl\"),\n",
    "#     source_or_target_dataset=\"target\",\n",
    "#     x_transform_func=global_x_transform_func,\n",
    "#     domain_modifier=lambda u: f\"met_{u}\"\n",
    "# )"
   ]
  },
  {
   "cell_type": "code",
   "execution_count": 18,
   "id": "86a863c3",
   "metadata": {
    "execution": {
     "iopub.execute_input": "2022-03-27T22:52:35.126334Z",
     "iopub.status.busy": "2022-03-27T22:52:35.125789Z",
     "iopub.status.idle": "2022-03-27T22:52:35.148287Z",
     "shell.execute_reply": "2022-03-27T22:52:35.147442Z"
    },
    "papermill": {
     "duration": 0.046801,
     "end_time": "2022-03-27T22:52:35.148441",
     "exception": false,
     "start_time": "2022-03-27T22:52:35.101640",
     "status": "completed"
    },
    "tags": []
   },
   "outputs": [],
   "source": [
    "# # from steves_utils.wisig.utils import (\n",
    "# #     ALL_NODES_MINIMUM_100_EXAMPLES,\n",
    "# #     ALL_NODES_MINIMUM_500_EXAMPLES,\n",
    "# #     ALL_NODES_MINIMUM_1000_EXAMPLES,\n",
    "# #     ALL_DAYS\n",
    "# # )\n",
    "\n",
    "# import steves_utils.wisig.utils as wisig\n",
    "\n",
    "\n",
    "# add_dataset(\n",
    "#     labels=wisig.ALL_NODES_MINIMUM_100_EXAMPLES,\n",
    "#     domains = wisig.ALL_DAYS,\n",
    "#     num_examples_per_domain_per_label=100,\n",
    "#     pickle_path=os.path.join(get_datasets_base_path(), \"wisig.node3-19.stratified_ds.2022A.pkl\"),\n",
    "#     source_or_target_dataset=\"target\",\n",
    "#     x_transform_func=global_x_transform_func,\n",
    "#     domain_modifier=lambda u: f\"wisig_{u}\"\n",
    "# )"
   ]
  },
  {
   "cell_type": "code",
   "execution_count": 19,
   "id": "fd5442bc",
   "metadata": {
    "execution": {
     "iopub.execute_input": "2022-03-27T22:52:35.201929Z",
     "iopub.status.busy": "2022-03-27T22:52:35.201269Z",
     "iopub.status.idle": "2022-03-27T22:52:35.221153Z",
     "shell.execute_reply": "2022-03-27T22:52:35.220345Z"
    },
    "papermill": {
     "duration": 0.047572,
     "end_time": "2022-03-27T22:52:35.221308",
     "exception": false,
     "start_time": "2022-03-27T22:52:35.173736",
     "status": "completed"
    },
    "tags": []
   },
   "outputs": [],
   "source": [
    "###################################\n",
    "# Build the dataset\n",
    "###################################\n",
    "train_original_source = Iterable_Aggregator(train_original_source, p.seed)\n",
    "val_original_source = Iterable_Aggregator(val_original_source, p.seed)\n",
    "test_original_source = Iterable_Aggregator(test_original_source, p.seed)\n",
    "\n",
    "\n",
    "train_original_target = Iterable_Aggregator(train_original_target, p.seed)\n",
    "val_original_target = Iterable_Aggregator(val_original_target, p.seed)\n",
    "test_original_target = Iterable_Aggregator(test_original_target, p.seed)\n",
    "\n",
    "# For CNN We only use X and Y. And we only train on the source.\n",
    "# Properly form the data using a transform lambda and Lazy_Iterable_Wrapper. Finally wrap them in a dataloader\n",
    "\n",
    "transform_lambda = lambda ex: ex[1] # Original is (<domain>, <episode>) so we strip down to episode only\n",
    "\n",
    "train_processed_source = Lazy_Iterable_Wrapper(train_original_source, transform_lambda)\n",
    "val_processed_source   = Lazy_Iterable_Wrapper(val_original_source, transform_lambda)\n",
    "test_processed_source  = Lazy_Iterable_Wrapper(test_original_source, transform_lambda)\n",
    "\n",
    "train_processed_target = Lazy_Iterable_Wrapper(train_original_target, transform_lambda)\n",
    "val_processed_target   = Lazy_Iterable_Wrapper(val_original_target, transform_lambda)\n",
    "test_processed_target  = Lazy_Iterable_Wrapper(test_original_target, transform_lambda)\n",
    "\n",
    "datasets = EasyDict({\n",
    "    \"source\": {\n",
    "        \"original\": {\"train\":train_original_source, \"val\":val_original_source, \"test\":test_original_source},\n",
    "        \"processed\": {\"train\":train_processed_source, \"val\":val_processed_source, \"test\":test_processed_source}\n",
    "    },\n",
    "    \"target\": {\n",
    "        \"original\": {\"train\":train_original_target, \"val\":val_original_target, \"test\":test_original_target},\n",
    "        \"processed\": {\"train\":train_processed_target, \"val\":val_processed_target, \"test\":test_processed_target}\n",
    "    },\n",
    "})"
   ]
  },
  {
   "cell_type": "code",
   "execution_count": 20,
   "id": "5b3c01fc",
   "metadata": {
    "execution": {
     "iopub.execute_input": "2022-03-27T22:52:35.275890Z",
     "iopub.status.busy": "2022-03-27T22:52:35.275424Z",
     "iopub.status.idle": "2022-03-27T22:52:50.847885Z",
     "shell.execute_reply": "2022-03-27T22:52:50.848628Z"
    },
    "papermill": {
     "duration": 15.600297,
     "end_time": "2022-03-27T22:52:50.848851",
     "exception": false,
     "start_time": "2022-03-27T22:52:35.248554",
     "status": "completed"
    },
    "tags": []
   },
   "outputs": [
    {
     "name": "stdout",
     "output_type": "stream",
     "text": [
      "{'C_2', 'C_1', 'C_4', 'C_3', 'C_5'}\n"
     ]
    },
    {
     "name": "stdout",
     "output_type": "stream",
     "text": [
      "{'O_44', 'O_26', 'O_8', 'O_14', 'O_20', 'O_32', 'O_38', 'O_50'}\n"
     ]
    },
    {
     "name": "stdout",
     "output_type": "stream",
     "text": [
      "tensor([[[0., 0., 0.,  ..., 0., 0., 0.],\n",
      "         [0., 0., 0.,  ..., 0., 0., 0.]],\n",
      "\n",
      "        [[0., 0., 0.,  ..., 0., 0., 0.],\n",
      "         [0., 0., 0.,  ..., 0., 0., 0.]],\n",
      "\n",
      "        [[0., 0., 0.,  ..., 0., 0., 0.],\n",
      "         [0., 0., 0.,  ..., 0., 0., 0.]],\n",
      "\n",
      "        ...,\n",
      "\n",
      "        [[0., 0., 0.,  ..., 0., 0., 0.],\n",
      "         [0., 0., 0.,  ..., 0., 0., 0.]],\n",
      "\n",
      "        [[0., 0., 0.,  ..., 0., 0., 0.],\n",
      "         [0., 0., 0.,  ..., 0., 0., 0.]],\n",
      "\n",
      "        [[0., 0., 0.,  ..., 0., 0., 0.],\n",
      "         [0., 0., 0.,  ..., 0., 0., 0.]]])\n"
     ]
    }
   ],
   "source": [
    "from steves_utils.transforms import get_average_magnitude, get_average_power\n",
    "\n",
    "print(set([u for u,_ in val_original_source]))\n",
    "print(set([u for u,_ in val_original_target]))\n",
    "\n",
    "s_x, s_y, q_x, q_y, _ = next(iter(train_processed_source))\n",
    "print(s_x)\n",
    "\n",
    "# for ds in [\n",
    "#     train_processed_source,\n",
    "#     val_processed_source,\n",
    "#     test_processed_source,\n",
    "#     train_processed_target,\n",
    "#     val_processed_target,\n",
    "#     test_processed_target\n",
    "# ]:\n",
    "#     for s_x, s_y, q_x, q_y, _ in ds:\n",
    "#         for X in (s_x, q_x):\n",
    "#             for x in X:\n",
    "#                 assert np.isclose(get_average_magnitude(x.numpy()), 1.0)\n",
    "#                 assert np.isclose(get_average_power(x.numpy()), 1.0)\n",
    "                "
   ]
  },
  {
   "cell_type": "code",
   "execution_count": 21,
   "id": "bbdacba1",
   "metadata": {
    "execution": {
     "iopub.execute_input": "2022-03-27T22:52:50.903759Z",
     "iopub.status.busy": "2022-03-27T22:52:50.903365Z",
     "iopub.status.idle": "2022-03-27T22:52:51.162155Z",
     "shell.execute_reply": "2022-03-27T22:52:51.161436Z"
    },
    "papermill": {
     "duration": 0.286546,
     "end_time": "2022-03-27T22:52:51.162331",
     "exception": false,
     "start_time": "2022-03-27T22:52:50.875785",
     "status": "completed"
    },
    "tags": []
   },
   "outputs": [
    {
     "name": "stdout",
     "output_type": "stream",
     "text": [
      "(2, 256)\n"
     ]
    }
   ],
   "source": [
    "###################################\n",
    "# Build the model\n",
    "###################################\n",
    "# easfsl only wants a tuple for the shape\n",
    "model = Steves_Prototypical_Network(x_net, device=p.device, x_shape=tuple(p.x_shape))\n",
    "optimizer = Adam(params=model.parameters(), lr=p.lr)"
   ]
  },
  {
   "cell_type": "code",
   "execution_count": 22,
   "id": "22b39ac5",
   "metadata": {
    "execution": {
     "iopub.execute_input": "2022-03-27T22:52:51.219701Z",
     "iopub.status.busy": "2022-03-27T22:52:51.219321Z",
     "iopub.status.idle": "2022-03-27T23:19:12.843128Z",
     "shell.execute_reply": "2022-03-27T23:19:12.842292Z"
    },
    "papermill": {
     "duration": 1581.651059,
     "end_time": "2022-03-27T23:19:12.843298",
     "exception": false,
     "start_time": "2022-03-27T22:52:51.192239",
     "status": "completed"
    },
    "tags": []
   },
   "outputs": [
    {
     "name": "stdout",
     "output_type": "stream",
     "text": [
      "epoch: 1, [batch: 1 / 6316], examples_per_second: 34.7394, train_label_loss: 2.7022, \n"
     ]
    },
    {
     "name": "stdout",
     "output_type": "stream",
     "text": [
      "epoch: 1, [batch: 632 / 6316], examples_per_second: 1799.1785, train_label_loss: 0.0131, \n"
     ]
    },
    {
     "name": "stdout",
     "output_type": "stream",
     "text": [
      "epoch: 1, [batch: 1264 / 6316], examples_per_second: 1879.3635, train_label_loss: 0.0044, \n"
     ]
    },
    {
     "name": "stdout",
     "output_type": "stream",
     "text": [
      "epoch: 1, [batch: 1895 / 6316], examples_per_second: 1826.9133, train_label_loss: 0.0073, \n"
     ]
    },
    {
     "name": "stdout",
     "output_type": "stream",
     "text": [
      "epoch: 1, [batch: 2527 / 6316], examples_per_second: 1836.9442, train_label_loss: 0.0005, \n"
     ]
    },
    {
     "name": "stdout",
     "output_type": "stream",
     "text": [
      "epoch: 1, [batch: 3158 / 6316], examples_per_second: 2319.0590, train_label_loss: 0.0007, \n"
     ]
    },
    {
     "name": "stdout",
     "output_type": "stream",
     "text": [
      "epoch: 1, [batch: 3790 / 6316], examples_per_second: 1686.1103, train_label_loss: 0.0005, \n"
     ]
    },
    {
     "name": "stdout",
     "output_type": "stream",
     "text": [
      "epoch: 1, [batch: 4421 / 6316], examples_per_second: 1680.1447, train_label_loss: 0.0014, \n"
     ]
    },
    {
     "name": "stdout",
     "output_type": "stream",
     "text": [
      "epoch: 1, [batch: 5053 / 6316], examples_per_second: 1876.8691, train_label_loss: 0.0034, \n"
     ]
    },
    {
     "name": "stdout",
     "output_type": "stream",
     "text": [
      "epoch: 1, [batch: 5684 / 6316], examples_per_second: 1840.0744, train_label_loss: 0.0009, \n"
     ]
    },
    {
     "name": "stdout",
     "output_type": "stream",
     "text": [
      "=============================================================\n",
      "epoch: 1, source_val_acc_label: 0.9988, target_val_acc_label: 0.3529, source_val_label_loss: 0.0083, target_val_label_loss: 1.8464, \n",
      "=============================================================\n"
     ]
    },
    {
     "name": "stdout",
     "output_type": "stream",
     "text": [
      "New best\n"
     ]
    },
    {
     "name": "stdout",
     "output_type": "stream",
     "text": [
      "epoch: 2, [batch: 1 / 6296], examples_per_second: 1.5032, train_label_loss: 0.0002, \n"
     ]
    },
    {
     "name": "stdout",
     "output_type": "stream",
     "text": [
      "epoch: 2, [batch: 630 / 6296], examples_per_second: 1671.9255, train_label_loss: 0.0005, \n"
     ]
    },
    {
     "name": "stdout",
     "output_type": "stream",
     "text": [
      "epoch: 2, [batch: 1260 / 6296], examples_per_second: 1973.5266, train_label_loss: 0.0001, \n"
     ]
    },
    {
     "name": "stdout",
     "output_type": "stream",
     "text": [
      "epoch: 2, [batch: 1889 / 6296], examples_per_second: 1880.8005, train_label_loss: 0.0371, \n"
     ]
    },
    {
     "name": "stdout",
     "output_type": "stream",
     "text": [
      "epoch: 2, [batch: 2519 / 6296], examples_per_second: 1825.5469, train_label_loss: 0.0005, \n"
     ]
    },
    {
     "name": "stdout",
     "output_type": "stream",
     "text": [
      "epoch: 2, [batch: 3148 / 6296], examples_per_second: 1977.9726, train_label_loss: 0.0007, \n"
     ]
    },
    {
     "name": "stdout",
     "output_type": "stream",
     "text": [
      "epoch: 2, [batch: 3778 / 6296], examples_per_second: 2031.7324, train_label_loss: 0.0000, \n"
     ]
    },
    {
     "name": "stdout",
     "output_type": "stream",
     "text": [
      "epoch: 2, [batch: 4407 / 6296], examples_per_second: 1676.5789, train_label_loss: 0.0000, \n"
     ]
    },
    {
     "name": "stdout",
     "output_type": "stream",
     "text": [
      "epoch: 2, [batch: 5037 / 6296], examples_per_second: 1679.3379, train_label_loss: 0.0029, \n"
     ]
    },
    {
     "name": "stdout",
     "output_type": "stream",
     "text": [
      "epoch: 2, [batch: 5666 / 6296], examples_per_second: 2150.5041, train_label_loss: 0.0000, \n"
     ]
    },
    {
     "name": "stdout",
     "output_type": "stream",
     "text": [
      "=============================================================\n",
      "epoch: 2, source_val_acc_label: 0.9989, target_val_acc_label: 0.3068, source_val_label_loss: 0.0081, target_val_label_loss: 2.2003, \n",
      "=============================================================\n"
     ]
    },
    {
     "name": "stdout",
     "output_type": "stream",
     "text": [
      "epoch: 3, [batch: 1 / 6299], examples_per_second: 2.7908, train_label_loss: 0.2727, \n"
     ]
    },
    {
     "name": "stdout",
     "output_type": "stream",
     "text": [
      "epoch: 3, [batch: 630 / 6299], examples_per_second: 3859.7035, train_label_loss: 0.0002, \n"
     ]
    },
    {
     "name": "stdout",
     "output_type": "stream",
     "text": [
      "epoch: 3, [batch: 1260 / 6299], examples_per_second: 3980.8051, train_label_loss: 0.0000, \n"
     ]
    },
    {
     "name": "stdout",
     "output_type": "stream",
     "text": [
      "epoch: 3, [batch: 1890 / 6299], examples_per_second: 4232.2592, train_label_loss: 0.0000, \n"
     ]
    },
    {
     "name": "stdout",
     "output_type": "stream",
     "text": [
      "epoch: 3, [batch: 2520 / 6299], examples_per_second: 4394.4708, train_label_loss: 0.0002, \n"
     ]
    },
    {
     "name": "stdout",
     "output_type": "stream",
     "text": [
      "epoch: 3, [batch: 3150 / 6299], examples_per_second: 4743.7443, train_label_loss: 0.0010, \n"
     ]
    },
    {
     "name": "stdout",
     "output_type": "stream",
     "text": [
      "epoch: 3, [batch: 3779 / 6299], examples_per_second: 3937.5842, train_label_loss: 0.0000, \n"
     ]
    },
    {
     "name": "stdout",
     "output_type": "stream",
     "text": [
      "epoch: 3, [batch: 4409 / 6299], examples_per_second: 4029.5577, train_label_loss: 0.0007, \n"
     ]
    },
    {
     "name": "stdout",
     "output_type": "stream",
     "text": [
      "epoch: 3, [batch: 5039 / 6299], examples_per_second: 3971.3072, train_label_loss: 0.0003, \n"
     ]
    },
    {
     "name": "stdout",
     "output_type": "stream",
     "text": [
      "epoch: 3, [batch: 5669 / 6299], examples_per_second: 3159.9047, train_label_loss: 0.0016, \n"
     ]
    },
    {
     "name": "stdout",
     "output_type": "stream",
     "text": [
      "=============================================================\n",
      "epoch: 3, source_val_acc_label: 0.9992, target_val_acc_label: 0.3144, source_val_label_loss: 0.0066, target_val_label_loss: 2.3203, \n",
      "=============================================================\n"
     ]
    },
    {
     "name": "stdout",
     "output_type": "stream",
     "text": [
      "epoch: 4, [batch: 1 / 6316], examples_per_second: 1.5843, train_label_loss: 0.0011, \n"
     ]
    },
    {
     "name": "stdout",
     "output_type": "stream",
     "text": [
      "epoch: 4, [batch: 632 / 6316], examples_per_second: 1687.6270, train_label_loss: 0.0000, \n"
     ]
    },
    {
     "name": "stdout",
     "output_type": "stream",
     "text": [
      "epoch: 4, [batch: 1264 / 6316], examples_per_second: 1691.1263, train_label_loss: 0.0000, \n"
     ]
    },
    {
     "name": "stdout",
     "output_type": "stream",
     "text": [
      "epoch: 4, [batch: 1895 / 6316], examples_per_second: 2201.9503, train_label_loss: 0.0003, \n"
     ]
    },
    {
     "name": "stdout",
     "output_type": "stream",
     "text": [
      "epoch: 4, [batch: 2527 / 6316], examples_per_second: 1839.0200, train_label_loss: 0.0000, \n"
     ]
    },
    {
     "name": "stdout",
     "output_type": "stream",
     "text": [
      "epoch: 4, [batch: 3158 / 6316], examples_per_second: 1871.8303, train_label_loss: 0.0000, \n"
     ]
    },
    {
     "name": "stdout",
     "output_type": "stream",
     "text": [
      "epoch: 4, [batch: 3790 / 6316], examples_per_second: 1866.6635, train_label_loss: 0.0008, \n"
     ]
    },
    {
     "name": "stdout",
     "output_type": "stream",
     "text": [
      "epoch: 4, [batch: 4421 / 6316], examples_per_second: 1906.6937, train_label_loss: 0.0001, \n"
     ]
    },
    {
     "name": "stdout",
     "output_type": "stream",
     "text": [
      "epoch: 4, [batch: 5053 / 6316], examples_per_second: 1684.8730, train_label_loss: 0.0000, \n"
     ]
    },
    {
     "name": "stdout",
     "output_type": "stream",
     "text": [
      "epoch: 4, [batch: 5684 / 6316], examples_per_second: 1693.1511, train_label_loss: 0.0000, \n"
     ]
    },
    {
     "name": "stdout",
     "output_type": "stream",
     "text": [
      "=============================================================\n",
      "epoch: 4, source_val_acc_label: 0.9992, target_val_acc_label: 0.2904, source_val_label_loss: 0.0068, target_val_label_loss: 2.4732, \n",
      "=============================================================\n"
     ]
    },
    {
     "name": "stdout",
     "output_type": "stream",
     "text": [
      "epoch: 5, [batch: 1 / 6313], examples_per_second: 1.5253, train_label_loss: 0.0000, \n"
     ]
    },
    {
     "name": "stdout",
     "output_type": "stream",
     "text": [
      "epoch: 5, [batch: 632 / 6313], examples_per_second: 1809.2140, train_label_loss: 0.0000, \n"
     ]
    },
    {
     "name": "stdout",
     "output_type": "stream",
     "text": [
      "epoch: 5, [batch: 1263 / 6313], examples_per_second: 1682.4477, train_label_loss: 0.0000, \n"
     ]
    },
    {
     "name": "stdout",
     "output_type": "stream",
     "text": [
      "epoch: 5, [batch: 1894 / 6313], examples_per_second: 1816.3123, train_label_loss: 0.0000, \n"
     ]
    },
    {
     "name": "stdout",
     "output_type": "stream",
     "text": [
      "epoch: 5, [batch: 2525 / 6313], examples_per_second: 2213.6709, train_label_loss: 0.0000, \n"
     ]
    },
    {
     "name": "stdout",
     "output_type": "stream",
     "text": [
      "epoch: 5, [batch: 3157 / 6313], examples_per_second: 1900.9186, train_label_loss: 0.0000, \n"
     ]
    },
    {
     "name": "stdout",
     "output_type": "stream",
     "text": [
      "epoch: 5, [batch: 3788 / 6313], examples_per_second: 1666.7638, train_label_loss: 0.0038, \n"
     ]
    },
    {
     "name": "stdout",
     "output_type": "stream",
     "text": [
      "epoch: 5, [batch: 4419 / 6313], examples_per_second: 2008.9877, train_label_loss: 0.0000, \n"
     ]
    },
    {
     "name": "stdout",
     "output_type": "stream",
     "text": [
      "epoch: 5, [batch: 5050 / 6313], examples_per_second: 1693.9476, train_label_loss: 0.0000, \n"
     ]
    },
    {
     "name": "stdout",
     "output_type": "stream",
     "text": [
      "epoch: 5, [batch: 5681 / 6313], examples_per_second: 1674.6888, train_label_loss: 0.0000, \n"
     ]
    },
    {
     "name": "stdout",
     "output_type": "stream",
     "text": [
      "=============================================================\n",
      "epoch: 5, source_val_acc_label: 0.9993, target_val_acc_label: 0.3367, source_val_label_loss: 0.0073, target_val_label_loss: 2.2143, \n",
      "=============================================================\n"
     ]
    },
    {
     "name": "stdout",
     "output_type": "stream",
     "text": [
      "Patience (3) exhausted\n"
     ]
    }
   ],
   "source": [
    "###################################\n",
    "# train\n",
    "###################################\n",
    "jig = PTN_Train_Eval_Test_Jig(model, p.BEST_MODEL_PATH, p.device)\n",
    "\n",
    "jig.train(\n",
    "    train_iterable=datasets.source.processed.train,\n",
    "    source_val_iterable=datasets.source.processed.val,\n",
    "    target_val_iterable=datasets.target.processed.val,\n",
    "    num_epochs=p.n_epoch,\n",
    "    num_logs_per_epoch=p.NUM_LOGS_PER_EPOCH,\n",
    "    patience=p.patience,\n",
    "    optimizer=optimizer,\n",
    "    criteria_for_best=p.criteria_for_best,\n",
    ")"
   ]
  },
  {
   "cell_type": "code",
   "execution_count": 23,
   "id": "31e8fabf",
   "metadata": {
    "execution": {
     "iopub.execute_input": "2022-03-27T23:19:12.930526Z",
     "iopub.status.busy": "2022-03-27T23:19:12.930158Z",
     "iopub.status.idle": "2022-03-27T23:19:12.963707Z",
     "shell.execute_reply": "2022-03-27T23:19:12.962962Z"
    },
    "papermill": {
     "duration": 0.077151,
     "end_time": "2022-03-27T23:19:12.963896",
     "exception": false,
     "start_time": "2022-03-27T23:19:12.886745",
     "status": "completed"
    },
    "tags": []
   },
   "outputs": [],
   "source": [
    "total_experiment_time_secs = time.time() - start_time_secs"
   ]
  },
  {
   "cell_type": "code",
   "execution_count": 24,
   "id": "87b9595b",
   "metadata": {
    "execution": {
     "iopub.execute_input": "2022-03-27T23:19:13.056845Z",
     "iopub.status.busy": "2022-03-27T23:19:13.053505Z",
     "iopub.status.idle": "2022-03-27T23:22:28.156899Z",
     "shell.execute_reply": "2022-03-27T23:22:28.156126Z"
    },
    "papermill": {
     "duration": 195.148651,
     "end_time": "2022-03-27T23:22:28.157077",
     "exception": false,
     "start_time": "2022-03-27T23:19:13.008426",
     "status": "completed"
    },
    "tags": []
   },
   "outputs": [],
   "source": [
    "###################################\n",
    "# Evaluate the model\n",
    "###################################\n",
    "source_test_label_accuracy, source_test_label_loss = jig.test(datasets.source.processed.test)\n",
    "target_test_label_accuracy, target_test_label_loss = jig.test(datasets.target.processed.test)\n",
    "\n",
    "source_val_label_accuracy, source_val_label_loss = jig.test(datasets.source.processed.val)\n",
    "target_val_label_accuracy, target_val_label_loss = jig.test(datasets.target.processed.val)\n",
    "\n",
    "history = jig.get_history()\n",
    "\n",
    "total_epochs_trained = len(history[\"epoch_indices\"])\n",
    "\n",
    "val_dl = Iterable_Aggregator((datasets.source.original.val,datasets.target.original.val))\n",
    "\n",
    "confusion = ptn_confusion_by_domain_over_dataloader(model, p.device, val_dl)\n",
    "per_domain_accuracy = per_domain_accuracy_from_confusion(confusion)\n",
    "\n",
    "# Add a key to per_domain_accuracy for if it was a source domain\n",
    "for domain, accuracy in per_domain_accuracy.items():\n",
    "    per_domain_accuracy[domain] = {\n",
    "        \"accuracy\": accuracy,\n",
    "        \"source?\": domain in p.domains_source\n",
    "    }\n",
    "\n",
    "# Do an independent accuracy assesment JUST TO BE SURE!\n",
    "# _source_test_label_accuracy = independent_accuracy_assesment(model, datasets.source.processed.test, p.device)\n",
    "# _target_test_label_accuracy = independent_accuracy_assesment(model, datasets.target.processed.test, p.device)\n",
    "# _source_val_label_accuracy = independent_accuracy_assesment(model, datasets.source.processed.val, p.device)\n",
    "# _target_val_label_accuracy = independent_accuracy_assesment(model, datasets.target.processed.val, p.device)\n",
    "\n",
    "# assert(_source_test_label_accuracy == source_test_label_accuracy)\n",
    "# assert(_target_test_label_accuracy == target_test_label_accuracy)\n",
    "# assert(_source_val_label_accuracy == source_val_label_accuracy)\n",
    "# assert(_target_val_label_accuracy == target_val_label_accuracy)\n",
    "\n",
    "experiment = {\n",
    "    \"experiment_name\": p.experiment_name,\n",
    "    \"parameters\": dict(p),\n",
    "    \"results\": {\n",
    "        \"source_test_label_accuracy\": source_test_label_accuracy,\n",
    "        \"source_test_label_loss\": source_test_label_loss,\n",
    "        \"target_test_label_accuracy\": target_test_label_accuracy,\n",
    "        \"target_test_label_loss\": target_test_label_loss,\n",
    "        \"source_val_label_accuracy\": source_val_label_accuracy,\n",
    "        \"source_val_label_loss\": source_val_label_loss,\n",
    "        \"target_val_label_accuracy\": target_val_label_accuracy,\n",
    "        \"target_val_label_loss\": target_val_label_loss,\n",
    "        \"total_epochs_trained\": total_epochs_trained,\n",
    "        \"total_experiment_time_secs\": total_experiment_time_secs,\n",
    "        \"confusion\": confusion,\n",
    "        \"per_domain_accuracy\": per_domain_accuracy,\n",
    "    },\n",
    "    \"history\": history,\n",
    "    \"dataset_metrics\": get_dataset_metrics(datasets, \"ptn\"),\n",
    "}"
   ]
  },
  {
   "cell_type": "code",
   "execution_count": 25,
   "id": "54a21829",
   "metadata": {
    "execution": {
     "iopub.execute_input": "2022-03-27T23:22:28.243981Z",
     "iopub.status.busy": "2022-03-27T23:22:28.243602Z",
     "iopub.status.idle": "2022-03-27T23:22:28.464263Z",
     "shell.execute_reply": "2022-03-27T23:22:28.464948Z"
    },
    "papermill": {
     "duration": 0.263198,
     "end_time": "2022-03-27T23:22:28.465158",
     "exception": false,
     "start_time": "2022-03-27T23:22:28.201960",
     "status": "completed"
    },
    "tags": []
   },
   "outputs": [
    {
     "data": {
      "image/png": "[encoded data removed]",
      "text/plain": [
       "<Figure size 1080x504 with 1 Axes>"
      ]
     },
     "metadata": {
      "needs_background": "light"
     },
     "output_type": "display_data"
    }
   ],
   "source": [
    "ax = get_loss_curve(experiment)\n",
    "plt.show()"
   ]
  },
  {
   "cell_type": "code",
   "execution_count": 26,
   "id": "fd8a0f60",
   "metadata": {
    "execution": {
     "iopub.execute_input": "2022-03-27T23:22:28.554731Z",
     "iopub.status.busy": "2022-03-27T23:22:28.554358Z",
     "iopub.status.idle": "2022-03-27T23:22:28.887470Z",
     "shell.execute_reply": "2022-03-27T23:22:28.888266Z"
    },
    "papermill": {
     "duration": 0.377535,
     "end_time": "2022-03-27T23:22:28.888479",
     "exception": false,
     "start_time": "2022-03-27T23:22:28.510944",
     "status": "completed"
    },
    "tags": []
   },
   "outputs": [
    {
     "data": {
      "text/plain": [
       "<AxesSubplot:title={'center':'Results'}>"
      ]
     },
     "execution_count": 26,
     "metadata": {},
     "output_type": "execute_result"
    },
    {
     "data": {
      "image/png": "[encoded data removed]",
      "text/plain": [
       "<Figure size 1080x504 with 1 Axes>"
      ]
     },
     "metadata": {
      "needs_background": "light"
     },
     "output_type": "display_data"
    }
   ],
   "source": [
    "get_results_table(experiment)"
   ]
  },
  {
   "cell_type": "code",
   "execution_count": 27,
   "id": "cf8dc689",
   "metadata": {
    "execution": {
     "iopub.execute_input": "2022-03-27T23:22:28.980053Z",
     "iopub.status.busy": "2022-03-27T23:22:28.979672Z",
     "iopub.status.idle": "2022-03-27T23:22:29.215874Z",
     "shell.execute_reply": "2022-03-27T23:22:29.215015Z"
    },
    "papermill": {
     "duration": 0.28022,
     "end_time": "2022-03-27T23:22:29.216043",
     "exception": false,
     "start_time": "2022-03-27T23:22:28.935823",
     "status": "completed"
    },
    "tags": []
   },
   "outputs": [
    {
     "data": {
      "text/plain": [
       "<AxesSubplot:title={'center':'Per Domain Validation Accuracy'}, xlabel='domain'>"
      ]
     },
     "execution_count": 27,
     "metadata": {},
     "output_type": "execute_result"
    },
    {
     "data": {
      "image/png": "[encoded data removed]",
      "text/plain": [
       "<Figure size 1080x504 with 1 Axes>"
      ]
     },
     "metadata": {
      "needs_background": "light"
     },
     "output_type": "display_data"
    }
   ],
   "source": [
    "get_domain_accuracies(experiment)"
   ]
  },
  {
   "cell_type": "code",
   "execution_count": 28,
   "id": "a74ae082",
   "metadata": {
    "execution": {
     "iopub.execute_input": "2022-03-27T23:22:29.309652Z",
     "iopub.status.busy": "2022-03-27T23:22:29.308998Z",
     "iopub.status.idle": "2022-03-27T23:22:29.334691Z",
     "shell.execute_reply": "2022-03-27T23:22:29.333876Z"
    },
    "papermill": {
     "duration": 0.072753,
     "end_time": "2022-03-27T23:22:29.334852",
     "exception": false,
     "start_time": "2022-03-27T23:22:29.262099",
     "status": "completed"
    },
    "tags": []
   },
   "outputs": [
    {
     "name": "stdout",
     "output_type": "stream",
     "text": [
      "Source Test Label Accuracy: 0.99795197740113 Target Test Label Accuracy: 0.35426432291666665\n",
      "Source Val Label Accuracy: 0.9987857142857143 Target Val Label Accuracy: 0.3528971354166667\n"
     ]
    }
   ],
   "source": [
    "print(\"Source Test Label Accuracy:\", experiment[\"results\"][\"source_test_label_accuracy\"], \"Target Test Label Accuracy:\", experiment[\"results\"][\"target_test_label_accuracy\"])\n",
    "print(\"Source Val Label Accuracy:\", experiment[\"results\"][\"source_val_label_accuracy\"], \"Target Val Label Accuracy:\", experiment[\"results\"][\"target_val_label_accuracy\"])"
   ]
  },
  {
   "cell_type": "code",
   "execution_count": 29,
   "id": "dacca602",
   "metadata": {
    "execution": {
     "iopub.execute_input": "2022-03-27T23:22:29.429391Z",
     "iopub.status.busy": "2022-03-27T23:22:29.428751Z",
     "iopub.status.idle": "2022-03-27T23:22:29.452595Z",
     "shell.execute_reply": "2022-03-27T23:22:29.453271Z"
    },
    "papermill": {
     "duration": 0.070901,
     "end_time": "2022-03-27T23:22:29.453463",
     "exception": false,
     "start_time": "2022-03-27T23:22:29.382562",
     "status": "completed"
    },
    "tags": [
     "experiment_json"
    ]
   },
   "outputs": [
    {
     "data": {
      "text/plain": [
       "'{\"experiment_name\": \"tl_3-jitter1v2:cores -> oracle.run1.framed\", \"parameters\": {\"experiment_name\": \"tl_3-jitter1v2:cores -> oracle.run1.framed\", \"device\": \"cuda\", \"lr\": 0.0001, \"x_shape\": [2, 256], \"n_shot\": 3, \"n_query\": 2, \"train_k_factor\": 3, \"val_k_factor\": 2, \"test_k_factor\": 2, \"torch_default_dtype\": \"torch.float32\", \"n_epoch\": 50, \"patience\": 3, \"criteria_for_best\": \"target_accuracy\", \"x_net\": [{\"class\": \"nnReshape\", \"kargs\": {\"shape\": [-1, 1, 2, 256]}}, {\"class\": \"Conv2d\", \"kargs\": {\"in_channels\": 1, \"out_channels\": 256, \"kernel_size\": [1, 7], \"bias\": false, \"padding\": [0, 3]}}, {\"class\": \"ReLU\", \"kargs\": {\"inplace\": true}}, {\"class\": \"BatchNorm2d\", \"kargs\": {\"num_features\": 256}}, {\"class\": \"Conv2d\", \"kargs\": {\"in_channels\": 256, \"out_channels\": 80, \"kernel_size\": [2, 7], \"bias\": true, \"padding\": [0, 3]}}, {\"class\": \"ReLU\", \"kargs\": {\"inplace\": true}}, {\"class\": \"BatchNorm2d\", \"kargs\": {\"num_features\": 80}}, {\"class\": \"Flatten\", \"kargs\": {}}, {\"class\": \"Linear\", \"kargs\": {\"in_features\": 20480, \"out_features\": 256}}, {\"class\": \"ReLU\", \"kargs\": {\"inplace\": true}}, {\"class\": \"BatchNorm1d\", \"kargs\": {\"num_features\": 256}}, {\"class\": \"Linear\", \"kargs\": {\"in_features\": 256, \"out_features\": 256}}], \"NUM_LOGS_PER_EPOCH\": 10, \"BEST_MODEL_PATH\": \"./best_model.pth\", \"n_way\": 16, \"datasets\": [{\"labels\": [\"1-10.\", \"1-11.\", \"1-15.\", \"1-16.\", \"1-17.\", \"1-18.\", \"1-19.\", \"10-4.\", \"10-7.\", \"11-1.\", \"11-14.\", \"11-17.\", \"11-20.\", \"11-7.\", \"13-20.\", \"13-8.\", \"14-10.\", \"14-11.\", \"14-14.\", \"14-7.\", \"15-1.\", \"15-20.\", \"16-1.\", \"16-16.\", \"17-10.\", \"17-11.\", \"17-2.\", \"19-1.\", \"19-16.\", \"19-19.\", \"19-20.\", \"19-3.\", \"2-10.\", \"2-11.\", \"2-17.\", \"2-18.\", \"2-20.\", \"2-3.\", \"2-4.\", \"2-5.\", \"2-6.\", \"2-7.\", \"2-8.\", \"3-13.\", \"3-18.\", \"3-3.\", \"4-1.\", \"4-10.\", \"4-11.\", \"4-19.\", \"5-5.\", \"6-15.\", \"7-10.\", \"7-14.\", \"8-18.\", \"8-20.\", \"8-3.\", \"8-8.\"], \"domains\": [1, 2, 3, 4, 5], \"num_examples_per_domain_per_label\": -1, \"pickle_path\": \"/root/csc500-main/datasets/cores.stratified_ds.2022A.pkl\", \"source_or_target_dataset\": \"source\", \"x_transforms\": [\"unit_mag\", \"jitter_256_1\", \"lowpass_+/-10MHz\", \"take_200\"], \"episode_transforms\": [], \"domain_prefix\": \"C_\"}, {\"labels\": [\"3123D52\", \"3123D65\", \"3123D79\", \"3123D80\", \"3123D54\", \"3123D70\", \"3123D7B\", \"3123D89\", \"3123D58\", \"3123D76\", \"3123D7D\", \"3123EFE\", \"3123D64\", \"3123D78\", \"3123D7E\", \"3124E4A\"], \"domains\": [32, 38, 8, 44, 14, 50, 20, 26], \"num_examples_per_domain_per_label\": 2000, \"pickle_path\": \"/root/csc500-main/datasets/oracle.Run1_framed_2000Examples_stratified_ds.2022A.pkl\", \"source_or_target_dataset\": \"target\", \"x_transforms\": [\"unit_mag\", \"jitter_256_1\", \"take_200\", \"resample_20Msps_to_25Msps\"], \"episode_transforms\": [], \"domain_prefix\": \"O_\"}], \"seed\": 7, \"dataset_seed\": 7, \"domains_source\": [\"C_1\", \"C_2\", \"C_3\", \"C_4\", \"C_5\"], \"domains_target\": [\"O_32\", \"O_38\", \"O_8\", \"O_44\", \"O_14\", \"O_50\", \"O_20\", \"O_26\"]}, \"results\": {\"source_test_label_accuracy\": 0.99795197740113, \"source_test_label_loss\": 0.015056326054036617, \"target_test_label_accuracy\": 0.35426432291666665, \"target_test_label_loss\": 1.8388733863830566, \"source_val_label_accuracy\": 0.9987857142857143, \"source_val_label_loss\": 0.008260669186711311, \"target_val_label_accuracy\": 0.3528971354166667, \"target_val_label_loss\": 1.8464317321777344, \"total_epochs_trained\": 5, \"total_experiment_time_secs\": 1708.647762298584, \"confusion\": {\"C_5\": {\"26\": {\"26\": 24}, \"7\": {\"7\": 32}, \"56\": {\"56\": 142}, \"36\": {\"36\": 91, \"40\": 1}, \"47\": {\"47\": 100}, \"2\": {\"2\": 28}, \"15\": {\"15\": 152}, \"14\": {\"14\": 41, \"39\": 1, \"18\": 1, \"5\": 1}, \"27\": {\"27\": 146}, \"40\": {\"40\": 124}, \"49\": {\"49\": 36}, \"45\": {\"45\": 124}, \"46\": {\"46\": 136}, \"11\": {\"11\": 130}, \"30\": {\"30\": 112}, \"0\": {\"0\": 124}, \"10\": {\"10\": 68}, \"1\": {\"1\": 148}, \"42\": {\"42\": 38, \"10\": 1, \"3\": 1}, \"54\": {\"54\": 112}, \"55\": {\"55\": 152}, \"23\": {\"23\": 124}, \"25\": {\"25\": 152}, \"28\": {\"28\": 32}, \"32\": {\"32\": 32}, \"9\": {\"9\": 142}, \"39\": {\"39\": 20}, \"3\": {\"3\": 100}, \"29\": {\"29\": 118}, \"17\": {\"17\": 116}, \"35\": {\"35\": 36}, \"44\": {\"44\": 152}, \"5\": {\"5\": 128}, \"33\": {\"33\": 32}, \"34\": {\"34\": 36}, \"13\": {\"13\": 138}, \"41\": {\"41\": 28}, \"6\": {\"6\": 127, \"9\": 1}, \"51\": {\"51\": 138}, \"50\": {\"50\": 144}, \"37\": {\"37\": 24}, \"19\": {\"19\": 144}, \"57\": {\"57\": 132}, \"21\": {\"21\": 144}, \"24\": {\"24\": 80}, \"8\": {\"8\": 130}, \"12\": {\"12\": 94, \"20\": 2}, \"48\": {\"48\": 132}, \"43\": {\"43\": 150}, \"53\": {\"53\": 148}, \"38\": {\"38\": 32}, \"16\": {\"16\": 142}, \"22\": {\"22\": 28}, \"4\": {\"4\": 100}, \"18\": {\"18\": 64}, \"20\": {\"20\": 144}, \"52\": {\"52\": 140}, \"31\": {\"31\": 36}}, \"C_1\": {\"41\": {\"41\": 24}, \"40\": {\"40\": 110}, \"45\": {\"45\": 138}, \"51\": {\"51\": 148}, \"5\": {\"5\": 154}, \"30\": {\"30\": 120}, \"42\": {\"42\": 40}, \"46\": {\"46\": 133, \"51\": 3}, \"48\": {\"48\": 134}, \"53\": {\"53\": 144}, \"47\": {\"47\": 152}, \"49\": {\"49\": 32}, \"36\": {\"36\": 64}, \"32\": {\"32\": 32}, \"34\": {\"34\": 24}, \"29\": {\"29\": 140}, \"35\": {\"35\": 36}, \"3\": {\"3\": 129, \"36\": 1, \"22\": 2, \"23\": 2}, \"16\": {\"16\": 140}, \"26\": {\"26\": 24}, \"57\": {\"57\": 144}, \"44\": {\"44\": 128}, \"0\": {\"0\": 152}, \"4\": {\"4\": 132}, \"31\": {\"31\": 28}, \"11\": {\"11\": 140}, \"6\": {\"6\": 96}, \"54\": {\"54\": 104}, \"17\": {\"17\": 64}, \"20\": {\"20\": 128}, \"13\": {\"13\": 150}, \"33\": {\"33\": 32}, \"24\": {\"24\": 108}, \"52\": {\"52\": 132}, \"2\": {\"2\": 36}, \"19\": {\"19\": 156}, \"39\": {\"39\": 28}, \"8\": {\"8\": 140}, \"21\": {\"21\": 124}, \"10\": {\"10\": 96}, \"37\": {\"37\": 32}, \"25\": {\"25\": 144}, \"27\": {\"27\": 130}, \"23\": {\"23\": 136}, \"1\": {\"1\": 100}, \"50\": {\"50\": 152}, \"12\": {\"12\": 116}, \"18\": {\"18\": 72}, \"38\": {\"38\": 24}, \"14\": {\"14\": 23, \"5\": 1}, \"56\": {\"56\": 142}, \"55\": {\"55\": 160}, \"9\": {\"9\": 138}, \"15\": {\"15\": 146}, \"28\": {\"28\": 28}, \"7\": {\"7\": 28}, \"43\": {\"43\": 136}, \"22\": {\"22\": 136}}, \"C_3\": {\"1\": {\"1\": 100}, \"9\": {\"9\": 124}, \"22\": {\"22\": 136}, \"43\": {\"43\": 136}, \"49\": {\"49\": 20}, \"50\": {\"50\": 138}, \"53\": {\"53\": 136}, \"10\": {\"10\": 64}, \"48\": {\"48\": 116}, \"8\": {\"8\": 138}, \"31\": {\"31\": 28}, \"56\": {\"56\": 134}, \"25\": {\"25\": 142}, \"28\": {\"28\": 28}, \"38\": {\"38\": 28}, \"5\": {\"5\": 116}, \"12\": {\"12\": 91, \"51\": 1}, \"6\": {\"6\": 86, \"52\": 2}, \"19\": {\"19\": 152}, \"26\": {\"26\": 24}, \"32\": {\"32\": 28}, \"33\": {\"33\": 28}, \"3\": {\"3\": 118}, \"51\": {\"51\": 128}, \"16\": {\"16\": 138}, \"46\": {\"46\": 140}, \"7\": {\"7\": 36}, \"47\": {\"47\": 92}, \"39\": {\"39\": 16}, \"40\": {\"40\": 136}, \"14\": {\"14\": 40}, \"37\": {\"37\": 28}, \"2\": {\"2\": 32}, \"21\": {\"21\": 120}, \"35\": {\"35\": 28}, \"54\": {\"54\": 100}, \"52\": {\"52\": 116}, \"29\": {\"29\": 118}, \"20\": {\"20\": 132}, \"18\": {\"18\": 84}, \"11\": {\"11\": 142}, \"0\": {\"0\": 124}, \"36\": {\"36\": 100}, \"17\": {\"17\": 108}, \"30\": {\"30\": 114}, \"42\": {\"42\": 28}, \"45\": {\"45\": 60}, \"4\": {\"4\": 148}, \"23\": {\"23\": 134}, \"13\": {\"13\": 128}, \"15\": {\"15\": 128}, \"57\": {\"57\": 124}, \"27\": {\"27\": 134}, \"44\": {\"44\": 88}, \"34\": {\"34\": 32}, \"41\": {\"41\": 28}, \"24\": {\"24\": 104}, \"55\": {\"55\": 118}}, \"C_4\": {\"52\": {\"52\": 116}, \"6\": {\"6\": 109, \"3\": 2, \"53\": 1}, \"14\": {\"14\": 16}, \"49\": {\"49\": 20}, \"0\": {\"0\": 80}, \"46\": {\"46\": 155, \"47\": 1}, \"41\": {\"41\": 36}, \"24\": {\"24\": 56}, \"25\": {\"25\": 152}, \"40\": {\"40\": 138}, \"38\": {\"38\": 40}, \"13\": {\"13\": 152}, \"9\": {\"9\": 108}, \"45\": {\"45\": 94, \"17\": 2}, \"43\": {\"43\": 144}, \"10\": {\"10\": 130}, \"15\": {\"15\": 128}, \"39\": {\"39\": 20}, \"4\": {\"4\": 132}, \"53\": {\"53\": 132}, \"1\": {\"1\": 39, \"32\": 1}, \"28\": {\"28\": 32}, \"54\": {\"54\": 108}, \"21\": {\"21\": 132}, \"7\": {\"7\": 24}, \"8\": {\"8\": 136}, \"42\": {\"42\": 32}, \"11\": {\"11\": 104}, \"33\": {\"33\": 36}, \"27\": {\"27\": 142}, \"19\": {\"19\": 144}, \"2\": {\"2\": 36}, \"3\": {\"3\": 120}, \"57\": {\"57\": 100}, \"20\": {\"20\": 112}, \"23\": {\"23\": 128}, \"22\": {\"22\": 128}, \"29\": {\"29\": 124}, \"36\": {\"36\": 92}, \"51\": {\"51\": 132}, \"31\": {\"31\": 28}, \"12\": {\"12\": 92}, \"56\": {\"56\": 138}, \"5\": {\"5\": 108}, \"35\": {\"35\": 40}, \"17\": {\"17\": 80}, \"32\": {\"32\": 24}, \"47\": {\"47\": 120}, \"18\": {\"18\": 107, \"22\": 1}, \"26\": {\"26\": 24}, \"50\": {\"50\": 119, \"21\": 1, \"53\": 1, \"3\": 1}, \"55\": {\"55\": 124}, \"34\": {\"34\": 24}, \"30\": {\"30\": 44}, \"37\": {\"37\": 24}, \"44\": {\"44\": 132}, \"48\": {\"48\": 118}, \"16\": {\"16\": 96}}, \"C_2\": {\"11\": {\"11\": 130}, \"21\": {\"21\": 120}, \"19\": {\"19\": 140}, \"20\": {\"20\": 128}, \"9\": {\"9\": 140}, \"10\": {\"10\": 112}, \"37\": {\"37\": 36}, \"32\": {\"32\": 28}, \"3\": {\"3\": 92}, \"39\": {\"39\": 28}, \"45\": {\"45\": 126, \"17\": 2}, \"50\": {\"50\": 136}, \"40\": {\"40\": 140}, \"46\": {\"46\": 128}, \"12\": {\"12\": 92}, \"13\": {\"13\": 116}, \"47\": {\"47\": 132}, \"15\": {\"15\": 142}, \"54\": {\"54\": 108}, \"48\": {\"48\": 148}, \"23\": {\"23\": 142}, \"29\": {\"29\": 128}, \"38\": {\"38\": 20}, \"53\": {\"53\": 136}, \"27\": {\"27\": 150}, \"43\": {\"43\": 144}, \"35\": {\"35\": 32}, \"0\": {\"0\": 48}, \"52\": {\"52\": 124}, \"8\": {\"8\": 128}, \"24\": {\"24\": 96}, \"18\": {\"18\": 48}, \"25\": {\"25\": 148}, \"57\": {\"57\": 136}, \"55\": {\"55\": 134}, \"36\": {\"36\": 116}, \"17\": {\"17\": 104}, \"2\": {\"2\": 32}, \"34\": {\"34\": 28}, \"1\": {\"1\": 112}, \"51\": {\"51\": 136}, \"31\": {\"31\": 28}, \"49\": {\"49\": 24}, \"14\": {\"14\": 24}, \"33\": {\"33\": 28}, \"41\": {\"41\": 20}, \"28\": {\"28\": 28}, \"5\": {\"5\": 120}, \"16\": {\"16\": 150}, \"4\": {\"4\": 128}, \"22\": {\"22\": 136}, \"6\": {\"6\": 118}, \"30\": {\"30\": 124}, \"26\": {\"26\": 24}, \"56\": {\"56\": 142}, \"42\": {\"42\": 36}, \"44\": {\"44\": 100}, \"7\": {\"7\": 36}}, \"O_26\": {\"0\": {\"0\": 34, \"4\": 32, \"6\": 20, \"9\": 15, \"15\": 10, \"3\": 5, \"7\": 11, \"10\": 18, \"13\": 6, \"14\": 27, \"8\": 25, \"1\": 27, \"5\": 6, \"2\": 4}, \"4\": {\"9\": 11, \"8\": 19, \"4\": 31, \"14\": 39, \"6\": 13, \"0\": 25, \"7\": 14, \"1\": 36, \"15\": 4, \"10\": 15, \"3\": 13, \"13\": 9, \"5\": 5, \"2\": 6}, \"14\": {\"14\": 35, \"9\": 12, \"10\": 22, \"8\": 14, \"6\": 5, \"15\": 13, \"1\": 36, \"4\": 36, \"0\": 30, \"3\": 8, \"5\": 11, \"7\": 11, \"13\": 3, \"2\": 4}, \"12\": {\"12\": 190, \"1\": 1, \"11\": 31, \"6\": 7, \"10\": 2, \"14\": 1, \"9\": 6, \"0\": 2}, \"8\": {\"15\": 20, \"14\": 14, \"6\": 18, \"8\": 32, \"4\": 22, \"5\": 20, \"2\": 8, \"10\": 24, \"0\": 14, \"7\": 20, \"9\": 16, \"13\": 13, \"1\": 13, \"11\": 1, \"3\": 5}, \"7\": {\"14\": 15, \"2\": 18, \"13\": 7, \"9\": 16, \"7\": 43, \"1\": 15, \"3\": 36, \"5\": 14, \"15\": 10, \"4\": 18, \"8\": 11, \"10\": 15, \"0\": 17, \"6\": 5}, \"13\": {\"13\": 72, \"9\": 13, \"6\": 14, \"2\": 16, \"8\": 9, \"5\": 46, \"7\": 9, \"15\": 27, \"10\": 12, \"0\": 4, \"11\": 3, \"3\": 7, \"1\": 2, \"4\": 2, \"14\": 4}, \"5\": {\"5\": 43, \"13\": 41, \"1\": 4, \"8\": 13, \"2\": 31, \"10\": 9, \"15\": 23, \"7\": 13, \"6\": 8, \"14\": 9, \"0\": 4, \"3\": 20, \"4\": 6, \"9\": 12, \"11\": 4}, \"15\": {\"7\": 16, \"9\": 18, \"2\": 17, \"13\": 40, \"15\": 29, \"6\": 25, \"0\": 14, \"8\": 24, \"5\": 30, \"14\": 8, \"4\": 5, \"10\": 5, \"3\": 6, \"1\": 3}, \"10\": {\"10\": 25, \"0\": 25, \"4\": 31, \"8\": 25, \"5\": 8, \"15\": 16, \"14\": 23, \"1\": 19, \"6\": 24, \"7\": 17, \"9\": 17, \"13\": 3, \"2\": 6, \"11\": 1}, \"3\": {\"2\": 39, \"3\": 62, \"5\": 24, \"14\": 7, \"13\": 7, \"9\": 10, \"7\": 29, \"4\": 14, \"0\": 11, \"15\": 11, \"8\": 8, \"6\": 4, \"10\": 6, \"1\": 8}, \"9\": {\"6\": 34, \"7\": 13, \"2\": 9, \"13\": 16, \"0\": 26, \"9\": 33, \"15\": 24, \"8\": 12, \"5\": 16, \"14\": 19, \"12\": 2, \"4\": 15, \"3\": 6, \"1\": 4, \"10\": 11}, \"6\": {\"9\": 33, \"0\": 20, \"6\": 51, \"8\": 15, \"5\": 16, \"2\": 5, \"11\": 3, \"13\": 21, \"4\": 11, \"10\": 21, \"15\": 19, \"7\": 3, \"14\": 9, \"12\": 4, \"1\": 7, \"3\": 2}, \"1\": {\"14\": 31, \"1\": 47, \"2\": 6, \"10\": 23, \"7\": 16, \"0\": 14, \"4\": 43, \"15\": 6, \"3\": 13, \"13\": 4, \"8\": 11, \"6\": 9, \"5\": 5, \"9\": 12}, \"11\": {\"12\": 25, \"11\": 199, \"15\": 2, \"6\": 6, \"9\": 4, \"13\": 2, \"8\": 1, \"14\": 1}, \"2\": {\"0\": 6, \"3\": 38, \"13\": 27, \"2\": 35, \"15\": 28, \"7\": 31, \"8\": 12, \"9\": 10, \"14\": 5, \"1\": 5, \"10\": 5, \"6\": 3, \"4\": 9, \"5\": 26}}, \"O_44\": {\"1\": {\"3\": 46, \"1\": 65, \"12\": 52, \"2\": 25, \"10\": 47, \"7\": 4, \"9\": 1}, \"11\": {\"13\": 37, \"11\": 152, \"6\": 26, \"14\": 1, \"7\": 3, \"9\": 17, \"2\": 2, \"4\": 1, \"15\": 1}, \"3\": {\"3\": 109, \"2\": 14, \"12\": 22, \"1\": 66, \"7\": 12, \"10\": 15, \"4\": 1, \"11\": 1}, \"6\": {\"9\": 42, \"6\": 89, \"13\": 53, \"11\": 30, \"4\": 2, \"7\": 15, \"2\": 8, \"10\": 1}, \"7\": {\"9\": 57, \"2\": 46, \"7\": 78, \"12\": 3, \"13\": 10, \"6\": 18, \"11\": 4, \"10\": 8, \"3\": 9, \"1\": 6, \"4\": 1}, \"5\": {\"5\": 107, \"8\": 34, \"0\": 38, \"15\": 17, \"14\": 26, \"4\": 18}, \"2\": {\"2\": 75, \"1\": 22, \"10\": 46, \"7\": 57, \"6\": 6, \"12\": 15, \"3\": 13, \"13\": 1, \"9\": 5}, \"15\": {\"15\": 70, \"0\": 48, \"4\": 23, \"8\": 29, \"5\": 17, \"14\": 53}, \"10\": {\"12\": 49, \"10\": 107, \"3\": 7, \"7\": 6, \"2\": 35, \"1\": 33, \"9\": 2, \"6\": 1}, \"13\": {\"13\": 75, \"9\": 37, \"6\": 72, \"11\": 27, \"4\": 11, \"7\": 13, \"14\": 3, \"2\": 1, \"5\": 1}, \"8\": {\"15\": 25, \"0\": 74, \"5\": 24, \"8\": 104, \"14\": 11, \"4\": 2}, \"4\": {\"14\": 85, \"4\": 92, \"5\": 9, \"6\": 2, \"13\": 10, \"11\": 4, \"9\": 7, \"15\": 26, \"7\": 1, \"0\": 3, \"8\": 1}, \"9\": {\"11\": 17, \"2\": 19, \"13\": 37, \"9\": 67, \"7\": 49, \"6\": 34, \"3\": 6, \"4\": 9, \"14\": 2}, \"14\": {\"4\": 75, \"5\": 23, \"14\": 66, \"15\": 42, \"0\": 17, \"8\": 10, \"9\": 1, \"7\": 1, \"13\": 4, \"6\": 1}, \"0\": {\"5\": 44, \"15\": 44, \"0\": 77, \"14\": 13, \"8\": 60, \"4\": 2}, \"12\": {\"12\": 106, \"10\": 43, \"1\": 47, \"3\": 33, \"7\": 3, \"2\": 7, \"9\": 1}}, \"O_50\": {\"15\": {\"15\": 85, \"5\": 5, \"6\": 26, \"4\": 39, \"10\": 1, \"11\": 24, \"1\": 47, \"13\": 5, \"14\": 4, \"9\": 2, \"2\": 2}, \"4\": {\"1\": 50, \"4\": 57, \"5\": 36, \"15\": 38, \"2\": 4, \"14\": 5, \"0\": 7, \"6\": 19, \"7\": 5, \"13\": 7, \"10\": 5, \"11\": 6, \"8\": 1}, \"6\": {\"1\": 25, \"5\": 12, \"6\": 68, \"7\": 23, \"13\": 32, \"10\": 11, \"15\": 23, \"4\": 26, \"0\": 15, \"2\": 5}, \"2\": {\"2\": 139, \"14\": 7, \"0\": 62, \"4\": 5, \"1\": 11, \"10\": 5, \"15\": 1, \"13\": 2, \"12\": 1, \"11\": 2, \"6\": 2, \"5\": 3}, \"5\": {\"13\": 43, \"7\": 35, \"5\": 50, \"4\": 20, \"10\": 23, \"6\": 26, \"15\": 11, \"0\": 13, \"1\": 13, \"8\": 5, \"2\": 1}, \"9\": {\"9\": 107, \"11\": 55, \"12\": 44, \"14\": 31, \"15\": 2, \"1\": 1}, \"8\": {\"8\": 155, \"7\": 8, \"10\": 39, \"3\": 28, \"0\": 3, \"5\": 2, \"13\": 5}, \"12\": {\"14\": 42, \"11\": 16, \"12\": 140, \"9\": 40, \"2\": 2}, \"10\": {\"0\": 29, \"8\": 40, \"10\": 96, \"5\": 14, \"7\": 28, \"13\": 28, \"2\": 2, \"6\": 3}, \"1\": {\"1\": 77, \"6\": 20, \"5\": 13, \"2\": 16, \"4\": 31, \"0\": 13, \"15\": 46, \"11\": 12, \"13\": 3, \"10\": 2, \"14\": 7}, \"0\": {\"2\": 58, \"4\": 5, \"0\": 112, \"6\": 1, \"1\": 12, \"13\": 4, \"10\": 32, \"14\": 2, \"8\": 6, \"5\": 8}, \"3\": {\"3\": 198, \"8\": 35, \"10\": 3, \"7\": 4}, \"13\": {\"6\": 44, \"7\": 49, \"10\": 28, \"5\": 31, \"13\": 51, \"2\": 3, \"4\": 12, \"1\": 5, \"8\": 4, \"0\": 10, \"15\": 3}, \"11\": {\"14\": 43, \"15\": 22, \"4\": 8, \"9\": 42, \"1\": 14, \"11\": 101, \"12\": 8, \"2\": 1, \"0\": 1}, \"7\": {\"7\": 92, \"5\": 30, \"13\": 48, \"6\": 22, \"10\": 31, \"4\": 8, \"8\": 5, \"0\": 4}, \"14\": {\"12\": 39, \"11\": 38, \"14\": 114, \"9\": 19, \"1\": 4, \"15\": 5, \"0\": 3, \"2\": 17, \"4\": 1}}, \"O_38\": {\"15\": {\"6\": 1, \"5\": 15, \"13\": 49, \"8\": 31, \"15\": 70, \"10\": 17, \"1\": 31, \"7\": 5, \"0\": 9, \"9\": 3, \"11\": 1, \"2\": 8}, \"11\": {\"14\": 85, \"11\": 100, \"2\": 30, \"4\": 2, \"10\": 10, \"13\": 3, \"12\": 9, \"15\": 1}, \"10\": {\"10\": 83, \"12\": 10, \"13\": 33, \"11\": 18, \"8\": 16, \"0\": 16, \"15\": 24, \"14\": 4, \"7\": 17, \"4\": 6, \"2\": 6, \"5\": 4, \"1\": 3}, \"14\": {\"14\": 105, \"11\": 86, \"4\": 3, \"10\": 11, \"12\": 11, \"2\": 23, \"13\": 1}, \"6\": {\"6\": 96, \"9\": 88, \"1\": 17, \"7\": 6, \"8\": 2, \"5\": 18, \"3\": 10, \"0\": 2, \"13\": 1}, \"4\": {\"4\": 157, \"12\": 67, \"10\": 4, \"14\": 2, \"5\": 1, \"0\": 1, \"7\": 4, \"11\": 3, \"8\": 1}, \"13\": {\"15\": 46, \"14\": 6, \"13\": 65, \"7\": 6, \"8\": 12, \"1\": 27, \"0\": 8, \"2\": 21, \"11\": 3, \"10\": 37, \"5\": 8, \"9\": 1}, \"3\": {\"9\": 38, \"3\": 141, \"0\": 12, \"6\": 17, \"5\": 8, \"8\": 4, \"7\": 20}, \"7\": {\"5\": 39, \"10\": 4, \"7\": 95, \"8\": 28, \"0\": 46, \"1\": 3, \"15\": 3, \"4\": 1, \"3\": 8, \"13\": 1, \"6\": 8, \"9\": 3, \"11\": 1}, \"8\": {\"0\": 43, \"5\": 34, \"15\": 21, \"8\": 57, \"13\": 15, \"7\": 35, \"10\": 15, \"1\": 16, \"6\": 2, \"3\": 1, \"9\": 1}, \"1\": {\"1\": 120, \"15\": 39, \"0\": 4, \"9\": 6, \"5\": 17, \"8\": 14, \"6\": 14, \"13\": 20, \"10\": 4, \"7\": 2}, \"5\": {\"7\": 37, \"10\": 6, \"1\": 27, \"8\": 37, \"5\": 46, \"15\": 21, \"9\": 13, \"6\": 16, \"0\": 19, \"13\": 13, \"3\": 5}, \"0\": {\"8\": 40, \"6\": 6, \"5\": 30, \"7\": 35, \"1\": 5, \"0\": 71, \"3\": 15, \"15\": 8, \"12\": 3, \"4\": 1, \"10\": 10, \"13\": 6, \"9\": 9, \"11\": 1}, \"2\": {\"11\": 28, \"13\": 27, \"2\": 123, \"14\": 30, \"15\": 9, \"10\": 18, \"5\": 1, \"1\": 3, \"8\": 1}, \"12\": {\"4\": 48, \"12\": 171, \"11\": 6, \"14\": 7, \"8\": 1, \"2\": 2, \"10\": 5}, \"9\": {\"6\": 92, \"3\": 26, \"9\": 92, \"15\": 1, \"5\": 15, \"1\": 3, \"7\": 7, \"0\": 3, \"8\": 1}}, \"O_20\": {\"10\": {\"8\": 16, \"7\": 13, \"10\": 54, \"3\": 19, \"4\": 32, \"5\": 6, \"14\": 44, \"12\": 10, \"9\": 13, \"6\": 15, \"0\": 3, \"13\": 7, \"15\": 3, \"2\": 4, \"1\": 1}, \"7\": {\"11\": 7, \"8\": 8, \"6\": 20, \"13\": 17, \"9\": 27, \"4\": 9, \"15\": 9, \"12\": 10, \"2\": 32, \"14\": 25, \"10\": 15, \"0\": 9, \"3\": 10, \"1\": 10, \"7\": 26, \"5\": 6}, \"4\": {\"8\": 27, \"15\": 15, \"13\": 5, \"1\": 9, \"5\": 15, \"10\": 19, \"4\": 44, \"14\": 20, \"6\": 9, \"0\": 19, \"2\": 8, \"9\": 9, \"3\": 12, \"12\": 21, \"7\": 8}, \"13\": {\"9\": 27, \"1\": 20, \"6\": 10, \"7\": 21, \"5\": 7, \"2\": 37, \"3\": 10, \"12\": 10, \"15\": 26, \"13\": 50, \"11\": 13, \"8\": 3, \"0\": 3, \"14\": 2, \"10\": 1}, \"1\": {\"13\": 12, \"9\": 18, \"15\": 43, \"7\": 10, \"1\": 42, \"5\": 26, \"0\": 16, \"12\": 26, \"3\": 16, \"2\": 12, \"4\": 7, \"8\": 6, \"6\": 2, \"14\": 2, \"10\": 2}, \"0\": {\"7\": 2, \"14\": 11, \"0\": 36, \"12\": 24, \"5\": 35, \"4\": 29, \"15\": 35, \"13\": 7, \"1\": 21, \"8\": 21, \"9\": 3, \"6\": 2, \"3\": 10, \"2\": 3, \"10\": 1}, \"12\": {\"13\": 17, \"6\": 5, \"15\": 24, \"8\": 11, \"9\": 20, \"0\": 19, \"4\": 15, \"1\": 24, \"10\": 7, \"5\": 20, \"7\": 22, \"12\": 19, \"14\": 8, \"2\": 10, \"3\": 19}, \"5\": {\"3\": 18, \"15\": 31, \"13\": 6, \"1\": 26, \"12\": 21, \"5\": 32, \"7\": 11, \"4\": 22, \"6\": 8, \"8\": 11, \"0\": 26, \"9\": 10, \"2\": 11, \"14\": 3, \"10\": 4}, \"6\": {\"9\": 11, \"8\": 20, \"13\": 11, \"6\": 68, \"7\": 23, \"14\": 50, \"11\": 8, \"4\": 15, \"10\": 15, \"2\": 7, \"15\": 1, \"12\": 2, \"3\": 6, \"5\": 2, \"0\": 1}, \"2\": {\"3\": 18, \"1\": 16, \"9\": 24, \"14\": 7, \"15\": 21, \"2\": 29, \"7\": 31, \"13\": 36, \"12\": 12, \"6\": 11, \"11\": 3, \"8\": 8, \"5\": 8, \"4\": 7, \"10\": 4, \"0\": 5}, \"8\": {\"1\": 7, \"13\": 11, \"10\": 14, \"0\": 18, \"8\": 45, \"14\": 38, \"3\": 6, \"12\": 9, \"4\": 32, \"7\": 16, \"5\": 13, \"6\": 15, \"2\": 5, \"9\": 7, \"15\": 2, \"11\": 2}, \"11\": {\"11\": 148, \"7\": 14, \"6\": 21, \"13\": 24, \"9\": 5, \"14\": 5, \"8\": 6, \"2\": 13, \"3\": 1, \"15\": 1, \"10\": 1, \"0\": 1}, \"9\": {\"9\": 23, \"13\": 29, \"12\": 30, \"5\": 15, \"0\": 4, \"4\": 7, \"10\": 12, \"7\": 19, \"3\": 19, \"1\": 19, \"15\": 10, \"2\": 25, \"8\": 7, \"6\": 10, \"14\": 10, \"11\": 1}, \"14\": {\"8\": 34, \"10\": 34, \"6\": 41, \"7\": 12, \"2\": 12, \"13\": 3, \"14\": 58, \"4\": 17, \"0\": 5, \"3\": 11, \"1\": 1, \"11\": 1, \"12\": 2, \"9\": 7, \"5\": 2}, \"15\": {\"1\": 32, \"13\": 23, \"12\": 26, \"5\": 26, \"15\": 40, \"3\": 19, \"9\": 14, \"0\": 21, \"10\": 1, \"7\": 6, \"2\": 12, \"4\": 8, \"8\": 11, \"6\": 1}, \"3\": {\"7\": 25, \"1\": 28, \"3\": 24, \"10\": 18, \"4\": 16, \"9\": 23, \"13\": 15, \"6\": 10, \"8\": 8, \"15\": 10, \"12\": 21, \"2\": 20, \"14\": 6, \"0\": 4, \"5\": 12}}, \"O_14\": {\"14\": {\"10\": 15, \"2\": 23, \"5\": 7, \"13\": 28, \"14\": 65, \"6\": 43, \"0\": 15, \"4\": 14, \"3\": 24, \"1\": 1, \"8\": 2, \"11\": 3}, \"0\": {\"0\": 76, \"10\": 50, \"11\": 33, \"14\": 20, \"4\": 6, \"3\": 24, \"9\": 14, \"8\": 7, \"13\": 3, \"2\": 3, \"6\": 2, \"5\": 1, \"12\": 1}, \"4\": {\"0\": 6, \"2\": 32, \"4\": 49, \"14\": 13, \"1\": 20, \"6\": 11, \"8\": 9, \"10\": 12, \"3\": 44, \"5\": 26, \"15\": 7, \"7\": 2, \"13\": 9}, \"11\": {\"10\": 12, \"9\": 45, \"11\": 118, \"0\": 39, \"12\": 14, \"14\": 5, \"2\": 1, \"3\": 3, \"13\": 3}, \"13\": {\"2\": 20, \"13\": 62, \"6\": 64, \"3\": 14, \"14\": 35, \"10\": 12, \"4\": 14, \"0\": 4, \"15\": 4, \"5\": 9, \"1\": 2}, \"9\": {\"0\": 18, \"9\": 124, \"12\": 48, \"11\": 43, \"10\": 5, \"8\": 2}, \"3\": {\"14\": 28, \"0\": 16, \"3\": 48, \"5\": 18, \"4\": 33, \"8\": 16, \"13\": 10, \"2\": 30, \"10\": 12, \"1\": 13, \"6\": 14, \"11\": 1, \"9\": 1}, \"6\": {\"2\": 32, \"6\": 57, \"14\": 40, \"3\": 21, \"13\": 53, \"5\": 7, \"4\": 18, \"10\": 7, \"0\": 4, \"1\": 1}, \"1\": {\"1\": 98, \"8\": 19, \"15\": 10, \"3\": 11, \"5\": 52, \"7\": 17, \"4\": 26, \"2\": 5, \"6\": 1, \"14\": 1}, \"5\": {\"4\": 35, \"5\": 57, \"14\": 11, \"1\": 38, \"3\": 19, \"2\": 28, \"15\": 19, \"6\": 13, \"7\": 6, \"10\": 6, \"13\": 2, \"8\": 5, \"0\": 1}, \"12\": {\"12\": 171, \"11\": 16, \"10\": 1, \"9\": 52}, \"10\": {\"3\": 15, \"13\": 10, \"9\": 7, \"10\": 114, \"0\": 47, \"14\": 16, \"11\": 10, \"4\": 9, \"2\": 7, \"6\": 4, \"8\": 1}, \"8\": {\"8\": 173, \"9\": 6, \"4\": 5, \"0\": 7, \"3\": 15, \"1\": 17, \"5\": 12, \"7\": 2, \"2\": 1, \"10\": 2}, \"7\": {\"1\": 30, \"15\": 56, \"7\": 127, \"5\": 15, \"8\": 1, \"4\": 5, \"2\": 2, \"3\": 3, \"6\": 1}, \"15\": {\"15\": 141, \"7\": 59, \"14\": 2, \"6\": 4, \"1\": 12, \"2\": 6, \"5\": 6, \"4\": 6, \"13\": 3, \"3\": 1}, \"2\": {\"2\": 41, \"6\": 34, \"14\": 20, \"1\": 18, \"4\": 32, \"0\": 4, \"5\": 26, \"13\": 20, \"15\": 10, \"8\": 3, \"3\": 21, \"10\": 7, \"7\": 4}}, \"O_32\": {\"11\": {\"14\": 71, \"2\": 3, \"7\": 20, \"3\": 19, \"11\": 88, \"4\": 7, \"5\": 10, \"0\": 4, \"13\": 13, \"8\": 5}, \"1\": {\"1\": 192, \"10\": 48}, \"2\": {\"2\": 78, \"5\": 17, \"4\": 58, \"0\": 30, \"14\": 14, \"13\": 10, \"8\": 8, \"7\": 19, \"9\": 4, \"11\": 2}, \"0\": {\"0\": 69, \"4\": 28, \"5\": 16, \"14\": 9, \"15\": 1, \"13\": 18, \"2\": 37, \"8\": 32, \"7\": 18, \"9\": 5, \"3\": 3, \"11\": 4}, \"3\": {\"14\": 15, \"0\": 7, \"3\": 117, \"15\": 5, \"7\": 11, \"8\": 17, \"13\": 24, \"11\": 17, \"5\": 21, \"4\": 5, \"2\": 1}, \"8\": {\"0\": 44, \"2\": 10, \"13\": 23, \"8\": 68, \"3\": 28, \"4\": 17, \"5\": 24, \"15\": 11, \"7\": 6, \"11\": 3, \"14\": 6}, \"12\": {\"10\": 1, \"12\": 201, \"6\": 23, \"9\": 15}, \"5\": {\"2\": 28, \"4\": 31, \"3\": 33, \"7\": 27, \"13\": 35, \"14\": 11, \"8\": 25, \"0\": 11, \"5\": 31, \"11\": 7, \"15\": 1}, \"15\": {\"3\": 7, \"15\": 211, \"8\": 15, \"13\": 2, \"0\": 3, \"7\": 1, \"5\": 1}, \"7\": {\"7\": 36, \"2\": 22, \"14\": 41, \"11\": 17, \"4\": 29, \"13\": 20, \"0\": 17, \"5\": 28, \"8\": 17, \"3\": 12, \"9\": 1}, \"4\": {\"2\": 53, \"4\": 52, \"5\": 29, \"8\": 19, \"7\": 25, \"13\": 22, \"0\": 22, \"14\": 10, \"3\": 5, \"15\": 1, \"11\": 1, \"9\": 1}, \"14\": {\"14\": 56, \"2\": 10, \"0\": 22, \"5\": 18, \"11\": 54, \"7\": 24, \"4\": 15, \"8\": 7, \"13\": 18, \"3\": 16}, \"10\": {\"10\": 202, \"1\": 33, \"12\": 2, \"6\": 3}, \"6\": {\"6\": 224, \"12\": 15, \"10\": 1}, \"13\": {\"0\": 25, \"3\": 23, \"8\": 31, \"7\": 25, \"2\": 11, \"14\": 18, \"13\": 39, \"5\": 36, \"4\": 24, \"11\": 8}, \"9\": {\"9\": 208, \"2\": 7, \"4\": 3, \"12\": 21, \"0\": 1}}, \"O_8\": {\"9\": {\"9\": 230, \"10\": 3, \"13\": 1, \"5\": 5, \"11\": 1}, \"11\": {\"1\": 58, \"11\": 96, \"5\": 32, \"10\": 11, \"14\": 16, \"8\": 18, \"4\": 4, \"0\": 2, \"12\": 1, \"6\": 1, \"15\": 1}, \"8\": {\"15\": 40, \"10\": 15, \"8\": 68, \"2\": 2, \"12\": 22, \"1\": 18, \"6\": 18, \"14\": 9, \"4\": 14, \"13\": 7, \"0\": 2, \"7\": 13, \"11\": 9, \"5\": 2, \"3\": 1}, \"4\": {\"8\": 24, \"5\": 9, \"10\": 29, \"13\": 24, \"6\": 21, \"2\": 1, \"4\": 36, \"14\": 31, \"0\": 21, \"15\": 9, \"7\": 14, \"1\": 11, \"11\": 5, \"12\": 5}, \"13\": {\"10\": 30, \"6\": 42, \"0\": 35, \"14\": 12, \"1\": 5, \"4\": 30, \"13\": 42, \"7\": 25, \"15\": 8, \"5\": 5, \"11\": 1, \"2\": 1, \"12\": 4}, \"14\": {\"14\": 32, \"10\": 40, \"1\": 30, \"5\": 18, \"13\": 24, \"8\": 15, \"4\": 30, \"0\": 9, \"15\": 4, \"11\": 12, \"7\": 4, \"6\": 20, \"12\": 1, \"9\": 1}, \"2\": {\"12\": 24, \"0\": 16, \"2\": 64, \"10\": 2, \"3\": 66, \"15\": 20, \"13\": 3, \"6\": 13, \"7\": 22, \"4\": 4, \"14\": 2, \"8\": 4}, \"3\": {\"2\": 59, \"12\": 37, \"3\": 98, \"15\": 23, \"6\": 3, \"7\": 10, \"0\": 7, \"8\": 1, \"4\": 1, \"13\": 1}, \"1\": {\"8\": 21, \"5\": 40, \"4\": 12, \"11\": 40, \"6\": 4, \"10\": 20, \"1\": 64, \"14\": 25, \"13\": 10, \"0\": 2, \"12\": 1, \"15\": 1}, \"0\": {\"8\": 6, \"7\": 42, \"13\": 38, \"6\": 44, \"2\": 13, \"4\": 25, \"0\": 35, \"14\": 11, \"10\": 16, \"15\": 3, \"5\": 1, \"12\": 4, \"3\": 1, \"1\": 1}, \"5\": {\"10\": 40, \"5\": 73, \"1\": 42, \"4\": 9, \"9\": 5, \"14\": 26, \"11\": 22, \"13\": 8, \"8\": 6, \"6\": 6, \"0\": 2, \"12\": 1}, \"15\": {\"12\": 53, \"15\": 62, \"14\": 2, \"8\": 35, \"6\": 21, \"3\": 18, \"7\": 19, \"2\": 9, \"13\": 6, \"4\": 9, \"0\": 4, \"5\": 1, \"1\": 1}, \"10\": {\"14\": 30, \"5\": 24, \"1\": 24, \"13\": 26, \"4\": 33, \"10\": 39, \"15\": 2, \"6\": 13, \"7\": 7, \"8\": 14, \"0\": 17, \"11\": 5, \"9\": 4, \"12\": 2}, \"12\": {\"15\": 51, \"12\": 66, \"3\": 41, \"8\": 26, \"2\": 23, \"6\": 6, \"13\": 3, \"7\": 15, \"14\": 1, \"4\": 4, \"0\": 3, \"1\": 1}, \"6\": {\"13\": 29, \"15\": 16, \"10\": 22, \"14\": 13, \"0\": 28, \"8\": 22, \"6\": 31, \"7\": 33, \"1\": 5, \"4\": 23, \"5\": 3, \"12\": 11, \"2\": 4}, \"7\": {\"12\": 11, \"2\": 13, \"13\": 29, \"4\": 14, \"1\": 2, \"10\": 12, \"7\": 40, \"14\": 6, \"15\": 19, \"6\": 33, \"8\": 26, \"0\": 28, \"3\": 7}}}, \"per_domain_accuracy\": {\"C_5\": {\"accuracy\": 0.9984287709497207, \"source?\": true}, \"C_1\": {\"accuracy\": 0.9984714673913043, \"source?\": true}, \"C_3\": {\"accuracy\": 0.9994485294117647, \"source?\": true}, \"C_4\": {\"accuracy\": 0.9979292168674698, \"source?\": true}, \"C_2\": {\"accuracy\": 0.9996448863636364, \"source?\": true}, \"O_26\": {\"accuracy\": 0.25026041666666665, \"source?\": false}, \"O_44\": {\"accuracy\": 0.37473958333333335, \"source?\": false}, \"O_50\": {\"accuracy\": 0.4276041666666667, \"source?\": false}, \"O_38\": {\"accuracy\": 0.41458333333333336, \"source?\": false}, \"O_20\": {\"accuracy\": 0.1921875, \"source?\": false}, \"O_14\": {\"accuracy\": 0.39609375, \"source?\": false}, \"O_32\": {\"accuracy\": 0.4875, \"source?\": false}, \"O_8\": {\"accuracy\": 0.28020833333333334, \"source?\": false}}}, \"history\": {\"epoch_indices\": [1, 2, 3, 4, 5], \"train_label_loss\": [0.03600314241015954, 0.036455764551547094, 0.012150688624864545, 0.005342467169223114, 0.004203644196211298], \"source_val_label_loss\": [0.008260669186711311, 0.008149548433721066, 0.006563778501003981, 0.0067799887619912624, 0.007345040328800678], \"target_val_label_loss\": [1.8464317321777344, 2.200286388397217, 2.3202500343322754, 2.473196506500244, 2.2143096923828125], \"source_val_acc_label\": [0.9987857142857143, 0.9989285714285714, 0.9992142857142857, 0.9992142857142857, 0.9992857142857143], \"target_val_acc_label\": [0.3528971354166667, 0.3068359375, 0.31438802083333334, 0.2904296875, 0.33668619791666665]}, \"dataset_metrics\": {\"source\": {\"train\": {\"n_unique_x\": 175191, \"n_unique_y\": 58, \"n_batch/episode\": 6307}, \"val\": {\"n_unique_x\": 37151, \"n_unique_y\": 58, \"n_batch/episode\": 875}, \"test\": {\"n_unique_x\": 37548, \"n_unique_y\": 58, \"n_batch/episode\": 885}}, \"target\": {\"train\": {\"n_unique_x\": 179200, \"n_unique_y\": 16, \"n_batch/episode\": 6720}, \"val\": {\"n_unique_x\": 38400, \"n_unique_y\": 16, \"n_batch/episode\": 960}, \"test\": {\"n_unique_x\": 38400, \"n_unique_y\": 16, \"n_batch/episode\": 960}}}}'"
      ]
     },
     "execution_count": 29,
     "metadata": {},
     "output_type": "execute_result"
    }
   ],
   "source": [
    "json.dumps(experiment)"
   ]
  }
 ],
 "metadata": {
  "celltoolbar": "Tags",
  "kernelspec": {
   "display_name": "Python 3 (ipykernel)",
   "language": "python",
   "name": "python3"
  },
  "language_info": {
   "codemirror_mode": {
    "name": "ipython",
    "version": 3
   },
   "file_extension": ".py",
   "mimetype": "text/x-python",
   "name": "python",
   "nbconvert_exporter": "python",
   "pygments_lexer": "ipython3",
   "version": "3.8.12"
  },
  "papermill": {
   "default_parameters": {},
   "duration": 1912.223972,
   "end_time": "2022-03-27T23:22:32.731059",
   "environment_variables": {},
   "exception": null,
   "input_path": "/root/csc500-main/csc500-notebooks/templates/tl_ptn_template.ipynb",
   "output_path": "trial.ipynb",
   "parameters": {
    "parameters": {
     "BEST_MODEL_PATH": "./best_model.pth",
     "NUM_LOGS_PER_EPOCH": 10,
     "criteria_for_best": "target_accuracy",
     "dataset_seed": 7,
     "datasets": [
      {
       "domain_prefix": "C_",
       "domains": [
        1,
        2,
        3,
        4,
        5
       ],
       "episode_transforms": [],
       "labels": [
        "1-10.",
        "1-11.",
        "1-15.",
        "1-16.",
        "1-17.",
        "1-18.",
        "1-19.",
        "10-4.",
        "10-7.",
        "11-1.",
        "11-14.",
        "11-17.",
        "11-20.",
        "11-7.",
        "13-20.",
        "13-8.",
        "14-10.",
        "14-11.",
        "14-14.",
        "14-7.",
        "15-1.",
        "15-20.",
        "16-1.",
        "16-16.",
        "17-10.",
        "17-11.",
        "17-2.",
        "19-1.",
        "19-16.",
        "19-19.",
        "19-20.",
        "19-3.",
        "2-10.",
        "2-11.",
        "2-17.",
        "2-18.",
        "2-20.",
        "2-3.",
        "2-4.",
        "2-5.",
        "2-6.",
        "2-7.",
        "2-8.",
        "3-13.",
        "3-18.",
        "3-3.",
        "4-1.",
        "4-10.",
        "4-11.",
        "4-19.",
        "5-5.",
        "6-15.",
        "7-10.",
        "7-14.",
        "8-18.",
        "8-20.",
        "8-3.",
        "8-8."
       ],
       "num_examples_per_domain_per_label": -1,
       "pickle_path": "/root/csc500-main/datasets/cores.stratified_ds.2022A.pkl",
       "source_or_target_dataset": "source",
       "x_transforms": [
        "unit_mag",
        "jitter_256_1",
        "lowpass_+/-10MHz",
        "take_200"
       ]
      },
      {
       "domain_prefix": "O_",
       "domains": [
        32,
        38,
        8,
        44,
        14,
        50,
        20,
        26
       ],
       "episode_transforms": [],
       "labels": [
        "3123D52",
        "3123D65",
        "3123D79",
        "3123D80",
        "3123D54",
        "3123D70",
        "3123D7B",
        "3123D89",
        "3123D58",
        "3123D76",
        "3123D7D",
        "3123EFE",
        "3123D64",
        "3123D78",
        "3123D7E",
        "3124E4A"
       ],
       "num_examples_per_domain_per_label": 2000,
       "pickle_path": "/root/csc500-main/datasets/oracle.Run1_framed_2000Examples_stratified_ds.2022A.pkl",
       "source_or_target_dataset": "target",
       "x_transforms": [
        "unit_mag",
        "jitter_256_1",
        "take_200",
        "resample_20Msps_to_25Msps"
       ]
      }
     ],
     "device": "cuda",
     "experiment_name": "tl_3-jitter1v2:cores -> oracle.run1.framed",
     "lr": 0.0001,
     "n_epoch": 50,
     "n_query": 2,
     "n_shot": 3,
     "n_way": 16,
     "patience": 3,
     "seed": 7,
     "test_k_factor": 2,
     "torch_default_dtype": "torch.float32",
     "train_k_factor": 3,
     "val_k_factor": 2,
     "x_net": [
      {
       "class": "nnReshape",
       "kargs": {
        "shape": [
         -1,
         1,
         2,
         256
        ]
       }
      },
      {
       "class": "Conv2d",
       "kargs": {
        "bias": false,
        "in_channels": 1,
        "kernel_size": [
         1,
         7
        ],
        "out_channels": 256,
        "padding": [
         0,
         3
        ]
       }
      },
      {
       "class": "ReLU",
       "kargs": {
        "inplace": true
       }
      },
      {
       "class": "BatchNorm2d",
       "kargs": {
        "num_features": 256
       }
      },
      {
       "class": "Conv2d",
       "kargs": {
        "bias": true,
        "in_channels": 256,
        "kernel_size": [
         2,
         7
        ],
        "out_channels": 80,
        "padding": [
         0,
         3
        ]
       }
      },
      {
       "class": "ReLU",
       "kargs": {
        "inplace": true
       }
      },
      {
       "class": "BatchNorm2d",
       "kargs": {
        "num_features": 80
       }
      },
      {
       "class": "Flatten",
       "kargs": {}
      },
      {
       "class": "Linear",
       "kargs": {
        "in_features": 20480,
        "out_features": 256
       }
      },
      {
       "class": "ReLU",
       "kargs": {
        "inplace": true
       }
      },
      {
       "class": "BatchNorm1d",
       "kargs": {
        "num_features": 256
       }
      },
      {
       "class": "Linear",
       "kargs": {
        "in_features": 256,
        "out_features": 256
       }
      }
     ],
     "x_shape": [
      2,
      256
     ]
    }
   },
   "start_time": "2022-03-27T22:50:40.507087",
   "version": "2.3.4"
  }
 },
 "nbformat": 4,
 "nbformat_minor": 5
}