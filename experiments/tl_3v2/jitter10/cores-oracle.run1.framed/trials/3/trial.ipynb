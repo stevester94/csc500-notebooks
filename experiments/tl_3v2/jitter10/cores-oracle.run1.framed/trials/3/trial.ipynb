{
 "cells": [
  {
   "cell_type": "markdown",
   "id": "9fea5f46",
   "metadata": {
    "papermill": {
     "duration": 0.029001,
     "end_time": "2022-03-28T06:54:12.068089",
     "exception": false,
     "start_time": "2022-03-28T06:54:12.039088",
     "status": "completed"
    },
    "tags": []
   },
   "source": [
    "# Transfer Learning Template"
   ]
  },
  {
   "cell_type": "code",
   "execution_count": 1,
   "id": "0902182a",
   "metadata": {
    "execution": {
     "iopub.execute_input": "2022-03-28T06:54:12.130072Z",
     "iopub.status.busy": "2022-03-28T06:54:12.119097Z",
     "iopub.status.idle": "2022-03-28T06:54:14.018987Z",
     "shell.execute_reply": "2022-03-28T06:54:14.018588Z"
    },
    "papermill": {
     "duration": 1.927167,
     "end_time": "2022-03-28T06:54:14.019072",
     "exception": false,
     "start_time": "2022-03-28T06:54:12.091905",
     "status": "completed"
    },
    "tags": []
   },
   "outputs": [],
   "source": [
    "%load_ext autoreload\n",
    "%autoreload 2\n",
    "%matplotlib inline\n",
    "\n",
    "    \n",
    "import os, json, sys, time, random\n",
    "import numpy as np\n",
    "import torch\n",
    "from torch.optim import Adam\n",
    "from  easydict import EasyDict\n",
    "import matplotlib.pyplot as plt\n",
    "\n",
    "from steves_models.steves_ptn import Steves_Prototypical_Network\n",
    "\n",
    "from steves_utils.lazy_iterable_wrapper import Lazy_Iterable_Wrapper\n",
    "from steves_utils.iterable_aggregator import Iterable_Aggregator\n",
    "from steves_utils.ptn_train_eval_test_jig import  PTN_Train_Eval_Test_Jig\n",
    "from steves_utils.torch_sequential_builder import build_sequential\n",
    "from steves_utils.torch_utils import get_dataset_metrics, ptn_confusion_by_domain_over_dataloader\n",
    "from steves_utils.utils_v2 import (per_domain_accuracy_from_confusion, get_datasets_base_path)\n",
    "from steves_utils.PTN.utils import independent_accuracy_assesment\n",
    "\n",
    "from torch.utils.data import DataLoader\n",
    "\n",
    "from steves_utils.stratified_dataset.episodic_accessor import Episodic_Accessor_Factory\n",
    "\n",
    "from steves_utils.ptn_do_report import (\n",
    "    get_loss_curve,\n",
    "    get_results_table,\n",
    "    get_parameters_table,\n",
    "    get_domain_accuracies,\n",
    ")\n",
    "\n",
    "from steves_utils.transforms import get_chained_transform"
   ]
  },
  {
   "cell_type": "markdown",
   "id": "41c840b4",
   "metadata": {
    "papermill": {
     "duration": 0.019424,
     "end_time": "2022-03-28T06:54:14.058268",
     "exception": false,
     "start_time": "2022-03-28T06:54:14.038844",
     "status": "completed"
    },
    "tags": []
   },
   "source": [
    "# Allowed Parameters\n",
    "These are allowed parameters, not defaults\n",
    "Each of these values need to be present in the injected parameters (the notebook will raise an exception if they are not present)\n",
    "\n",
    "Papermill uses the cell tag \"parameters\" to inject the real parameters below this cell.\n",
    "Enable tags to see what I mean"
   ]
  },
  {
   "cell_type": "code",
   "execution_count": 2,
   "id": "fd44eb83",
   "metadata": {
    "execution": {
     "iopub.execute_input": "2022-03-28T06:54:14.102403Z",
     "iopub.status.busy": "2022-03-28T06:54:14.102019Z",
     "iopub.status.idle": "2022-03-28T06:54:14.124659Z",
     "shell.execute_reply": "2022-03-28T06:54:14.124154Z"
    },
    "papermill": {
     "duration": 0.046996,
     "end_time": "2022-03-28T06:54:14.124730",
     "exception": false,
     "start_time": "2022-03-28T06:54:14.077734",
     "status": "completed"
    },
    "tags": []
   },
   "outputs": [],
   "source": [
    "required_parameters = {\n",
    "    \"experiment_name\",\n",
    "    \"lr\",\n",
    "    \"device\",\n",
    "    \"seed\",\n",
    "    \"dataset_seed\",\n",
    "    \"n_shot\",\n",
    "    \"n_query\",\n",
    "    \"n_way\",\n",
    "    \"train_k_factor\",\n",
    "    \"val_k_factor\",\n",
    "    \"test_k_factor\",\n",
    "    \"n_epoch\",\n",
    "    \"patience\",\n",
    "    \"criteria_for_best\",\n",
    "    \"x_net\",\n",
    "    \"datasets\",\n",
    "    \"torch_default_dtype\",\n",
    "    \"NUM_LOGS_PER_EPOCH\",\n",
    "    \"BEST_MODEL_PATH\",\n",
    "    \"x_shape\",\n",
    "}"
   ]
  },
  {
   "cell_type": "code",
   "execution_count": 3,
   "id": "fa3f0049",
   "metadata": {
    "execution": {
     "iopub.execute_input": "2022-03-28T06:54:14.179955Z",
     "iopub.status.busy": "2022-03-28T06:54:14.179520Z",
     "iopub.status.idle": "2022-03-28T06:54:14.198855Z",
     "shell.execute_reply": "2022-03-28T06:54:14.198490Z"
    },
    "papermill": {
     "duration": 0.054258,
     "end_time": "2022-03-28T06:54:14.198925",
     "exception": false,
     "start_time": "2022-03-28T06:54:14.144667",
     "status": "completed"
    },
    "tags": [
     "parameters"
    ]
   },
   "outputs": [],
   "source": [
    "from steves_utils.CORES.utils import (\n",
    "    ALL_NODES,\n",
    "    ALL_NODES_MINIMUM_1000_EXAMPLES,\n",
    "    ALL_DAYS\n",
    ")\n",
    "\n",
    "from steves_utils.ORACLE.utils_v2 import (\n",
    "    ALL_DISTANCES_FEET_NARROWED,\n",
    "    ALL_RUNS,\n",
    "    ALL_SERIAL_NUMBERS,\n",
    ")\n",
    "\n",
    "standalone_parameters = {}\n",
    "standalone_parameters[\"experiment_name\"] = \"STANDALONE PTN\"\n",
    "standalone_parameters[\"lr\"] = 0.001\n",
    "standalone_parameters[\"device\"] = \"cuda\"\n",
    "\n",
    "standalone_parameters[\"seed\"] = 1337\n",
    "standalone_parameters[\"dataset_seed\"] = 1337\n",
    "\n",
    "standalone_parameters[\"n_way\"] = 8\n",
    "standalone_parameters[\"n_shot\"] = 3\n",
    "standalone_parameters[\"n_query\"]  = 2\n",
    "standalone_parameters[\"train_k_factor\"] = 1\n",
    "standalone_parameters[\"val_k_factor\"] = 2\n",
    "standalone_parameters[\"test_k_factor\"] = 2\n",
    "\n",
    "\n",
    "standalone_parameters[\"n_epoch\"] = 50\n",
    "\n",
    "standalone_parameters[\"patience\"] = 10\n",
    "standalone_parameters[\"criteria_for_best\"] = \"source_loss\"\n",
    "\n",
    "standalone_parameters[\"datasets\"] = [\n",
    "    {\n",
    "        \"labels\": ALL_SERIAL_NUMBERS,\n",
    "        \"domains\": ALL_DISTANCES_FEET_NARROWED,\n",
    "        \"num_examples_per_domain_per_label\": 100,\n",
    "        \"pickle_path\": os.path.join(get_datasets_base_path(), \"oracle.Run1_framed_2000Examples_stratified_ds.2022A.pkl\"),\n",
    "        \"source_or_target_dataset\": \"source\",\n",
    "        \"x_transforms\": [\"unit_mag\", \"minus_two\"],\n",
    "        \"episode_transforms\": [],\n",
    "        \"domain_prefix\": \"ORACLE_\"\n",
    "    },\n",
    "    {\n",
    "        \"labels\": ALL_NODES,\n",
    "        \"domains\": ALL_DAYS,\n",
    "        \"num_examples_per_domain_per_label\": 100,\n",
    "        \"pickle_path\": os.path.join(get_datasets_base_path(), \"cores.stratified_ds.2022A.pkl\"),\n",
    "        \"source_or_target_dataset\": \"target\",\n",
    "        \"x_transforms\": [\"unit_power\", \"times_zero\"],\n",
    "        \"episode_transforms\": [],\n",
    "        \"domain_prefix\": \"CORES_\"\n",
    "    }   \n",
    "]\n",
    "\n",
    "standalone_parameters[\"torch_default_dtype\"] = \"torch.float32\" \n",
    "\n",
    "\n",
    "\n",
    "standalone_parameters[\"x_net\"] =     [\n",
    "    {\"class\": \"nnReshape\", \"kargs\": {\"shape\":[-1, 1, 2, 256]}},\n",
    "    {\"class\": \"Conv2d\", \"kargs\": { \"in_channels\":1, \"out_channels\":256, \"kernel_size\":(1,7), \"bias\":False, \"padding\":(0,3), },},\n",
    "    {\"class\": \"ReLU\", \"kargs\": {\"inplace\": True}},\n",
    "    {\"class\": \"BatchNorm2d\", \"kargs\": {\"num_features\":256}},\n",
    "\n",
    "    {\"class\": \"Conv2d\", \"kargs\": { \"in_channels\":256, \"out_channels\":80, \"kernel_size\":(2,7), \"bias\":True, \"padding\":(0,3), },},\n",
    "    {\"class\": \"ReLU\", \"kargs\": {\"inplace\": True}},\n",
    "    {\"class\": \"BatchNorm2d\", \"kargs\": {\"num_features\":80}},\n",
    "    {\"class\": \"Flatten\", \"kargs\": {}},\n",
    "\n",
    "    {\"class\": \"Linear\", \"kargs\": {\"in_features\": 80*256, \"out_features\": 256}}, # 80 units per IQ pair\n",
    "    {\"class\": \"ReLU\", \"kargs\": {\"inplace\": True}},\n",
    "    {\"class\": \"BatchNorm1d\", \"kargs\": {\"num_features\":256}},\n",
    "\n",
    "    {\"class\": \"Linear\", \"kargs\": {\"in_features\": 256, \"out_features\": 256}},\n",
    "]\n",
    "\n",
    "# Parameters relevant to results\n",
    "# These parameters will basically never need to change\n",
    "standalone_parameters[\"NUM_LOGS_PER_EPOCH\"] = 10\n",
    "standalone_parameters[\"BEST_MODEL_PATH\"] = \"./best_model.pth\"\n",
    "\n",
    "\n",
    "\n",
    "\n"
   ]
  },
  {
   "cell_type": "code",
   "execution_count": 4,
   "id": "a6194571",
   "metadata": {
    "execution": {
     "iopub.execute_input": "2022-03-28T06:54:14.253025Z",
     "iopub.status.busy": "2022-03-28T06:54:14.252245Z",
     "iopub.status.idle": "2022-03-28T06:54:14.273133Z",
     "shell.execute_reply": "2022-03-28T06:54:14.272771Z"
    },
    "papermill": {
     "duration": 0.054471,
     "end_time": "2022-03-28T06:54:14.273203",
     "exception": false,
     "start_time": "2022-03-28T06:54:14.218732",
     "status": "completed"
    },
    "tags": [
     "injected-parameters"
    ]
   },
   "outputs": [],
   "source": [
    "# Parameters\n",
    "parameters = {\n",
    "    \"experiment_name\": \"tl_3-jitter10v2:cores -> oracle.run1.framed\",\n",
    "    \"device\": \"cuda\",\n",
    "    \"lr\": 0.0001,\n",
    "    \"x_shape\": [2, 256],\n",
    "    \"n_shot\": 3,\n",
    "    \"n_query\": 2,\n",
    "    \"train_k_factor\": 3,\n",
    "    \"val_k_factor\": 2,\n",
    "    \"test_k_factor\": 2,\n",
    "    \"torch_default_dtype\": \"torch.float32\",\n",
    "    \"n_epoch\": 50,\n",
    "    \"patience\": 3,\n",
    "    \"criteria_for_best\": \"target_accuracy\",\n",
    "    \"x_net\": [\n",
    "        {\"class\": \"nnReshape\", \"kargs\": {\"shape\": [-1, 1, 2, 256]}},\n",
    "        {\n",
    "            \"class\": \"Conv2d\",\n",
    "            \"kargs\": {\n",
    "                \"in_channels\": 1,\n",
    "                \"out_channels\": 256,\n",
    "                \"kernel_size\": [1, 7],\n",
    "                \"bias\": False,\n",
    "                \"padding\": [0, 3],\n",
    "            },\n",
    "        },\n",
    "        {\"class\": \"ReLU\", \"kargs\": {\"inplace\": True}},\n",
    "        {\"class\": \"BatchNorm2d\", \"kargs\": {\"num_features\": 256}},\n",
    "        {\n",
    "            \"class\": \"Conv2d\",\n",
    "            \"kargs\": {\n",
    "                \"in_channels\": 256,\n",
    "                \"out_channels\": 80,\n",
    "                \"kernel_size\": [2, 7],\n",
    "                \"bias\": True,\n",
    "                \"padding\": [0, 3],\n",
    "            },\n",
    "        },\n",
    "        {\"class\": \"ReLU\", \"kargs\": {\"inplace\": True}},\n",
    "        {\"class\": \"BatchNorm2d\", \"kargs\": {\"num_features\": 80}},\n",
    "        {\"class\": \"Flatten\", \"kargs\": {}},\n",
    "        {\"class\": \"Linear\", \"kargs\": {\"in_features\": 20480, \"out_features\": 256}},\n",
    "        {\"class\": \"ReLU\", \"kargs\": {\"inplace\": True}},\n",
    "        {\"class\": \"BatchNorm1d\", \"kargs\": {\"num_features\": 256}},\n",
    "        {\"class\": \"Linear\", \"kargs\": {\"in_features\": 256, \"out_features\": 256}},\n",
    "    ],\n",
    "    \"NUM_LOGS_PER_EPOCH\": 10,\n",
    "    \"BEST_MODEL_PATH\": \"./best_model.pth\",\n",
    "    \"n_way\": 16,\n",
    "    \"datasets\": [\n",
    "        {\n",
    "            \"labels\": [\n",
    "                \"1-10.\",\n",
    "                \"1-11.\",\n",
    "                \"1-15.\",\n",
    "                \"1-16.\",\n",
    "                \"1-17.\",\n",
    "                \"1-18.\",\n",
    "                \"1-19.\",\n",
    "                \"10-4.\",\n",
    "                \"10-7.\",\n",
    "                \"11-1.\",\n",
    "                \"11-14.\",\n",
    "                \"11-17.\",\n",
    "                \"11-20.\",\n",
    "                \"11-7.\",\n",
    "                \"13-20.\",\n",
    "                \"13-8.\",\n",
    "                \"14-10.\",\n",
    "                \"14-11.\",\n",
    "                \"14-14.\",\n",
    "                \"14-7.\",\n",
    "                \"15-1.\",\n",
    "                \"15-20.\",\n",
    "                \"16-1.\",\n",
    "                \"16-16.\",\n",
    "                \"17-10.\",\n",
    "                \"17-11.\",\n",
    "                \"17-2.\",\n",
    "                \"19-1.\",\n",
    "                \"19-16.\",\n",
    "                \"19-19.\",\n",
    "                \"19-20.\",\n",
    "                \"19-3.\",\n",
    "                \"2-10.\",\n",
    "                \"2-11.\",\n",
    "                \"2-17.\",\n",
    "                \"2-18.\",\n",
    "                \"2-20.\",\n",
    "                \"2-3.\",\n",
    "                \"2-4.\",\n",
    "                \"2-5.\",\n",
    "                \"2-6.\",\n",
    "                \"2-7.\",\n",
    "                \"2-8.\",\n",
    "                \"3-13.\",\n",
    "                \"3-18.\",\n",
    "                \"3-3.\",\n",
    "                \"4-1.\",\n",
    "                \"4-10.\",\n",
    "                \"4-11.\",\n",
    "                \"4-19.\",\n",
    "                \"5-5.\",\n",
    "                \"6-15.\",\n",
    "                \"7-10.\",\n",
    "                \"7-14.\",\n",
    "                \"8-18.\",\n",
    "                \"8-20.\",\n",
    "                \"8-3.\",\n",
    "                \"8-8.\",\n",
    "            ],\n",
    "            \"domains\": [1, 2, 3, 4, 5],\n",
    "            \"num_examples_per_domain_per_label\": -1,\n",
    "            \"pickle_path\": \"/root/csc500-main/datasets/cores.stratified_ds.2022A.pkl\",\n",
    "            \"source_or_target_dataset\": \"source\",\n",
    "            \"x_transforms\": [\n",
    "                \"unit_power\",\n",
    "                \"jitter_256_10\",\n",
    "                \"lowpass_+/-10MHz\",\n",
    "                \"take_200\",\n",
    "            ],\n",
    "            \"episode_transforms\": [],\n",
    "            \"domain_prefix\": \"C_\",\n",
    "        },\n",
    "        {\n",
    "            \"labels\": [\n",
    "                \"3123D52\",\n",
    "                \"3123D65\",\n",
    "                \"3123D79\",\n",
    "                \"3123D80\",\n",
    "                \"3123D54\",\n",
    "                \"3123D70\",\n",
    "                \"3123D7B\",\n",
    "                \"3123D89\",\n",
    "                \"3123D58\",\n",
    "                \"3123D76\",\n",
    "                \"3123D7D\",\n",
    "                \"3123EFE\",\n",
    "                \"3123D64\",\n",
    "                \"3123D78\",\n",
    "                \"3123D7E\",\n",
    "                \"3124E4A\",\n",
    "            ],\n",
    "            \"domains\": [32, 38, 8, 44, 14, 50, 20, 26],\n",
    "            \"num_examples_per_domain_per_label\": 2000,\n",
    "            \"pickle_path\": \"/root/csc500-main/datasets/oracle.Run1_framed_2000Examples_stratified_ds.2022A.pkl\",\n",
    "            \"source_or_target_dataset\": \"target\",\n",
    "            \"x_transforms\": [\n",
    "                \"unit_power\",\n",
    "                \"jitter_256_10\",\n",
    "                \"take_200\",\n",
    "                \"resample_20Msps_to_25Msps\",\n",
    "            ],\n",
    "            \"episode_transforms\": [],\n",
    "            \"domain_prefix\": \"O_\",\n",
    "        },\n",
    "    ],\n",
    "    \"seed\": 420,\n",
    "    \"dataset_seed\": 420,\n",
    "}\n"
   ]
  },
  {
   "cell_type": "code",
   "execution_count": 5,
   "id": "8fa1cc33",
   "metadata": {
    "execution": {
     "iopub.execute_input": "2022-03-28T06:54:14.324324Z",
     "iopub.status.busy": "2022-03-28T06:54:14.318110Z",
     "iopub.status.idle": "2022-03-28T06:54:14.341316Z",
     "shell.execute_reply": "2022-03-28T06:54:14.340950Z"
    },
    "papermill": {
     "duration": 0.048138,
     "end_time": "2022-03-28T06:54:14.341386",
     "exception": false,
     "start_time": "2022-03-28T06:54:14.293248",
     "status": "completed"
    },
    "tags": []
   },
   "outputs": [],
   "source": [
    "# Set this to True if you want to run this template directly\n",
    "STANDALONE = False\n",
    "if STANDALONE:\n",
    "    print(\"parameters not injected, running with standalone_parameters\")\n",
    "    parameters = standalone_parameters\n",
    "\n",
    "if not 'parameters' in locals() and not 'parameters' in globals():\n",
    "    raise Exception(\"Parameter injection failed\")\n",
    "\n",
    "#Use an easy dict for all the parameters\n",
    "p = EasyDict(parameters)\n",
    "\n",
    "if \"x_shape\" not in p:\n",
    "    p.x_shape = [2,256] # Default to this if we dont supply x_shape\n",
    "\n",
    "\n",
    "supplied_keys = set(p.keys())\n",
    "\n",
    "if  supplied_keys != required_parameters:\n",
    "    print(\"Parameters are incorrect\")\n",
    "    if len(supplied_keys - required_parameters)>0: print(\"Shouldn't have:\", str(supplied_keys - required_parameters))\n",
    "    if len(required_parameters - supplied_keys)>0: print(\"Need to have:\", str(required_parameters - supplied_keys))\n",
    "    raise RuntimeError(\"Parameters are incorrect\")"
   ]
  },
  {
   "cell_type": "code",
   "execution_count": 6,
   "id": "3a028d58",
   "metadata": {
    "execution": {
     "iopub.execute_input": "2022-03-28T06:54:14.383932Z",
     "iopub.status.busy": "2022-03-28T06:54:14.383559Z",
     "iopub.status.idle": "2022-03-28T06:54:14.400211Z",
     "shell.execute_reply": "2022-03-28T06:54:14.399850Z"
    },
    "papermill": {
     "duration": 0.03905,
     "end_time": "2022-03-28T06:54:14.400281",
     "exception": false,
     "start_time": "2022-03-28T06:54:14.361231",
     "status": "completed"
    },
    "tags": []
   },
   "outputs": [],
   "source": [
    "###################################\n",
    "# Set the RNGs and make it all deterministic\n",
    "###################################\n",
    "np.random.seed(p.seed)\n",
    "random.seed(p.seed)\n",
    "torch.manual_seed(p.seed)\n",
    "\n",
    "torch.use_deterministic_algorithms(True) "
   ]
  },
  {
   "cell_type": "code",
   "execution_count": 7,
   "id": "b691acf6",
   "metadata": {
    "execution": {
     "iopub.execute_input": "2022-03-28T06:54:14.444606Z",
     "iopub.status.busy": "2022-03-28T06:54:14.444227Z",
     "iopub.status.idle": "2022-03-28T06:54:14.465009Z",
     "shell.execute_reply": "2022-03-28T06:54:14.464648Z"
    },
    "papermill": {
     "duration": 0.044619,
     "end_time": "2022-03-28T06:54:14.465079",
     "exception": false,
     "start_time": "2022-03-28T06:54:14.420460",
     "status": "completed"
    },
    "tags": []
   },
   "outputs": [],
   "source": [
    "###########################################\n",
    "# The stratified datasets honor this\n",
    "###########################################\n",
    "torch.set_default_dtype(eval(p.torch_default_dtype))"
   ]
  },
  {
   "cell_type": "code",
   "execution_count": 8,
   "id": "b5fba671",
   "metadata": {
    "execution": {
     "iopub.execute_input": "2022-03-28T06:54:14.507871Z",
     "iopub.status.busy": "2022-03-28T06:54:14.507427Z",
     "iopub.status.idle": "2022-03-28T06:54:14.557453Z",
     "shell.execute_reply": "2022-03-28T06:54:14.557135Z"
    },
    "papermill": {
     "duration": 0.072266,
     "end_time": "2022-03-28T06:54:14.557522",
     "exception": false,
     "start_time": "2022-03-28T06:54:14.485256",
     "status": "completed"
    },
    "tags": []
   },
   "outputs": [],
   "source": [
    "###################################\n",
    "# Build the network(s)\n",
    "# Note: It's critical to do this AFTER setting the RNG\n",
    "###################################\n",
    "x_net = build_sequential(p.x_net)"
   ]
  },
  {
   "cell_type": "code",
   "execution_count": 9,
   "id": "5d7e61cc",
   "metadata": {
    "execution": {
     "iopub.execute_input": "2022-03-28T06:54:14.602821Z",
     "iopub.status.busy": "2022-03-28T06:54:14.602441Z",
     "iopub.status.idle": "2022-03-28T06:54:14.626590Z",
     "shell.execute_reply": "2022-03-28T06:54:14.626229Z"
    },
    "papermill": {
     "duration": 0.048609,
     "end_time": "2022-03-28T06:54:14.626659",
     "exception": false,
     "start_time": "2022-03-28T06:54:14.578050",
     "status": "completed"
    },
    "tags": []
   },
   "outputs": [],
   "source": [
    "start_time_secs = time.time()"
   ]
  },
  {
   "cell_type": "code",
   "execution_count": 10,
   "id": "c6b67dfd",
   "metadata": {
    "execution": {
     "iopub.execute_input": "2022-03-28T06:54:14.677913Z",
     "iopub.status.busy": "2022-03-28T06:54:14.671214Z",
     "iopub.status.idle": "2022-03-28T06:54:14.691616Z",
     "shell.execute_reply": "2022-03-28T06:54:14.691066Z"
    },
    "papermill": {
     "duration": 0.044552,
     "end_time": "2022-03-28T06:54:14.691686",
     "exception": false,
     "start_time": "2022-03-28T06:54:14.647134",
     "status": "completed"
    },
    "tags": []
   },
   "outputs": [],
   "source": [
    "p.domains_source = []\n",
    "p.domains_target = []\n",
    "\n",
    "\n",
    "train_original_source = []\n",
    "val_original_source   = []\n",
    "test_original_source  = []\n",
    "\n",
    "train_original_target = []\n",
    "val_original_target   = []\n",
    "test_original_target  = []"
   ]
  },
  {
   "cell_type": "code",
   "execution_count": 11,
   "id": "e3d9c3d3",
   "metadata": {
    "execution": {
     "iopub.execute_input": "2022-03-28T06:54:14.736549Z",
     "iopub.status.busy": "2022-03-28T06:54:14.735801Z",
     "iopub.status.idle": "2022-03-28T06:54:14.756598Z",
     "shell.execute_reply": "2022-03-28T06:54:14.756236Z"
    },
    "papermill": {
     "duration": 0.044324,
     "end_time": "2022-03-28T06:54:14.756668",
     "exception": false,
     "start_time": "2022-03-28T06:54:14.712344",
     "status": "completed"
    },
    "tags": []
   },
   "outputs": [],
   "source": [
    "# global_x_transform_func = lambda x: normalize(x.to(torch.get_default_dtype()), \"unit_power\") # unit_power, unit_mag\n",
    "# global_x_transform_func = lambda x: normalize(x, \"unit_power\") # unit_power, unit_mag"
   ]
  },
  {
   "cell_type": "code",
   "execution_count": 12,
   "id": "acb78fd2",
   "metadata": {
    "execution": {
     "iopub.execute_input": "2022-03-28T06:54:14.809819Z",
     "iopub.status.busy": "2022-03-28T06:54:14.809435Z",
     "iopub.status.idle": "2022-03-28T06:54:14.826578Z",
     "shell.execute_reply": "2022-03-28T06:54:14.826217Z"
    },
    "papermill": {
     "duration": 0.049267,
     "end_time": "2022-03-28T06:54:14.826647",
     "exception": false,
     "start_time": "2022-03-28T06:54:14.777380",
     "status": "completed"
    },
    "tags": []
   },
   "outputs": [],
   "source": [
    "def add_dataset(\n",
    "    labels,\n",
    "    domains,\n",
    "    pickle_path,\n",
    "    x_transforms,\n",
    "    episode_transforms,\n",
    "    domain_prefix,\n",
    "    num_examples_per_domain_per_label,\n",
    "    source_or_target_dataset:str,\n",
    "    iterator_seed=p.seed,\n",
    "    dataset_seed=p.dataset_seed,\n",
    "    n_shot=p.n_shot,\n",
    "    n_way=p.n_way,\n",
    "    n_query=p.n_query,\n",
    "    train_val_test_k_factors=(p.train_k_factor,p.val_k_factor,p.test_k_factor),\n",
    "):\n",
    "   \n",
    "    if x_transforms == []: x_transform = None\n",
    "    else: x_transform = get_chained_transform(x_transforms)\n",
    "    \n",
    "    if episode_transforms == []: episode_transform = None\n",
    "    else: raise Exception(\"episode_transforms not implemented\")\n",
    "    \n",
    "    episode_transform = lambda tup, _prefix=domain_prefix: (_prefix + str(tup[0]), tup[1])\n",
    "\n",
    "\n",
    "    eaf = Episodic_Accessor_Factory(\n",
    "        labels=labels,\n",
    "        domains=domains,\n",
    "        num_examples_per_domain_per_label=num_examples_per_domain_per_label,\n",
    "        iterator_seed=iterator_seed,\n",
    "        dataset_seed=dataset_seed,\n",
    "        n_shot=n_shot,\n",
    "        n_way=n_way,\n",
    "        n_query=n_query,\n",
    "        train_val_test_k_factors=train_val_test_k_factors,\n",
    "        pickle_path=pickle_path,\n",
    "        x_transform_func=x_transform,\n",
    "    )\n",
    "\n",
    "    train, val, test = eaf.get_train(), eaf.get_val(), eaf.get_test()\n",
    "    train = Lazy_Iterable_Wrapper(train, episode_transform)\n",
    "    val = Lazy_Iterable_Wrapper(val, episode_transform)\n",
    "    test = Lazy_Iterable_Wrapper(test, episode_transform)\n",
    "\n",
    "    if source_or_target_dataset==\"source\":\n",
    "        train_original_source.append(train)\n",
    "        val_original_source.append(val)\n",
    "        test_original_source.append(test)\n",
    "\n",
    "        p.domains_source.extend(\n",
    "            [domain_prefix + str(u) for u in domains]\n",
    "        )\n",
    "    elif source_or_target_dataset==\"target\":\n",
    "        train_original_target.append(train)\n",
    "        val_original_target.append(val)\n",
    "        test_original_target.append(test)\n",
    "        p.domains_target.extend(\n",
    "            [domain_prefix + str(u) for u in domains]\n",
    "        )\n",
    "    else:\n",
    "        raise Exception(f\"invalid source_or_target_dataset: {source_or_target_dataset}\")\n",
    "    "
   ]
  },
  {
   "cell_type": "code",
   "execution_count": 13,
   "id": "fe266617",
   "metadata": {
    "execution": {
     "iopub.execute_input": "2022-03-28T06:54:14.870101Z",
     "iopub.status.busy": "2022-03-28T06:54:14.869739Z",
     "iopub.status.idle": "2022-03-28T06:56:05.012145Z",
     "shell.execute_reply": "2022-03-28T06:56:05.011322Z"
    },
    "papermill": {
     "duration": 110.165363,
     "end_time": "2022-03-28T06:56:05.012324",
     "exception": false,
     "start_time": "2022-03-28T06:54:14.846961",
     "status": "completed"
    },
    "tags": []
   },
   "outputs": [],
   "source": [
    "for ds in p.datasets:\n",
    "    add_dataset(**ds)"
   ]
  },
  {
   "cell_type": "code",
   "execution_count": 14,
   "id": "b90d65ac",
   "metadata": {
    "execution": {
     "iopub.execute_input": "2022-03-28T06:56:05.063445Z",
     "iopub.status.busy": "2022-03-28T06:56:05.062871Z",
     "iopub.status.idle": "2022-03-28T06:56:05.087041Z",
     "shell.execute_reply": "2022-03-28T06:56:05.086224Z"
    },
    "papermill": {
     "duration": 0.048772,
     "end_time": "2022-03-28T06:56:05.087199",
     "exception": false,
     "start_time": "2022-03-28T06:56:05.038427",
     "status": "completed"
    },
    "tags": []
   },
   "outputs": [],
   "source": [
    "# from steves_utils.CORES.utils import (\n",
    "#     ALL_NODES,\n",
    "#     ALL_NODES_MINIMUM_1000_EXAMPLES,\n",
    "#     ALL_DAYS\n",
    "# )\n",
    "\n",
    "# add_dataset(\n",
    "#     labels=ALL_NODES,\n",
    "#     domains = ALL_DAYS,\n",
    "#     num_examples_per_domain_per_label=100,\n",
    "#     pickle_path=os.path.join(get_datasets_base_path(), \"cores.stratified_ds.2022A.pkl\"),\n",
    "#     source_or_target_dataset=\"target\",\n",
    "#     x_transform_func=global_x_transform_func,\n",
    "#     domain_modifier=lambda u: f\"cores_{u}\"\n",
    "# )"
   ]
  },
  {
   "cell_type": "code",
   "execution_count": 15,
   "id": "76db484d",
   "metadata": {
    "execution": {
     "iopub.execute_input": "2022-03-28T06:56:05.144298Z",
     "iopub.status.busy": "2022-03-28T06:56:05.143734Z",
     "iopub.status.idle": "2022-03-28T06:56:05.164032Z",
     "shell.execute_reply": "2022-03-28T06:56:05.164705Z"
    },
    "papermill": {
     "duration": 0.049025,
     "end_time": "2022-03-28T06:56:05.164888",
     "exception": false,
     "start_time": "2022-03-28T06:56:05.115863",
     "status": "completed"
    },
    "tags": []
   },
   "outputs": [],
   "source": [
    "# from steves_utils.ORACLE.utils_v2 import (\n",
    "#     ALL_DISTANCES_FEET,\n",
    "#     ALL_RUNS,\n",
    "#     ALL_SERIAL_NUMBERS,\n",
    "# )\n",
    "\n",
    "\n",
    "# add_dataset(\n",
    "#     labels=ALL_SERIAL_NUMBERS,\n",
    "#     domains = list(set(ALL_DISTANCES_FEET) - {2,62}),\n",
    "#     num_examples_per_domain_per_label=100,\n",
    "#     pickle_path=os.path.join(get_datasets_base_path(), \"oracle.Run2_framed_2000Examples_stratified_ds.2022A.pkl\"),\n",
    "#     source_or_target_dataset=\"source\",\n",
    "#     x_transform_func=global_x_transform_func,\n",
    "#     domain_modifier=lambda u: f\"oracle1_{u}\"\n",
    "# )\n"
   ]
  },
  {
   "cell_type": "code",
   "execution_count": 16,
   "id": "97dea9d2",
   "metadata": {
    "execution": {
     "iopub.execute_input": "2022-03-28T06:56:05.219660Z",
     "iopub.status.busy": "2022-03-28T06:56:05.217716Z",
     "iopub.status.idle": "2022-03-28T06:56:05.241030Z",
     "shell.execute_reply": "2022-03-28T06:56:05.240229Z"
    },
    "papermill": {
     "duration": 0.047181,
     "end_time": "2022-03-28T06:56:05.241182",
     "exception": false,
     "start_time": "2022-03-28T06:56:05.194001",
     "status": "completed"
    },
    "tags": []
   },
   "outputs": [],
   "source": [
    "# from steves_utils.ORACLE.utils_v2 import (\n",
    "#     ALL_DISTANCES_FEET,\n",
    "#     ALL_RUNS,\n",
    "#     ALL_SERIAL_NUMBERS,\n",
    "# )\n",
    "\n",
    "\n",
    "# add_dataset(\n",
    "#     labels=ALL_SERIAL_NUMBERS,\n",
    "#     domains = list(set(ALL_DISTANCES_FEET) - {2,62,56}),\n",
    "#     num_examples_per_domain_per_label=100,\n",
    "#     pickle_path=os.path.join(get_datasets_base_path(), \"oracle.Run2_framed_2000Examples_stratified_ds.2022A.pkl\"),\n",
    "#     source_or_target_dataset=\"source\",\n",
    "#     x_transform_func=global_x_transform_func,\n",
    "#     domain_modifier=lambda u: f\"oracle2_{u}\"\n",
    "# )"
   ]
  },
  {
   "cell_type": "code",
   "execution_count": 17,
   "id": "6f289866",
   "metadata": {
    "execution": {
     "iopub.execute_input": "2022-03-28T06:56:05.294634Z",
     "iopub.status.busy": "2022-03-28T06:56:05.294267Z",
     "iopub.status.idle": "2022-03-28T06:56:05.310197Z",
     "shell.execute_reply": "2022-03-28T06:56:05.310867Z"
    },
    "papermill": {
     "duration": 0.041064,
     "end_time": "2022-03-28T06:56:05.311045",
     "exception": false,
     "start_time": "2022-03-28T06:56:05.269981",
     "status": "completed"
    },
    "tags": []
   },
   "outputs": [],
   "source": [
    "# add_dataset(\n",
    "#     labels=list(range(19)),\n",
    "#     domains = [0,1,2],\n",
    "#     num_examples_per_domain_per_label=100,\n",
    "#     pickle_path=os.path.join(get_datasets_base_path(), \"metehan.stratified_ds.2022A.pkl\"),\n",
    "#     source_or_target_dataset=\"target\",\n",
    "#     x_transform_func=global_x_transform_func,\n",
    "#     domain_modifier=lambda u: f\"met_{u}\"\n",
    "# )"
   ]
  },
  {
   "cell_type": "code",
   "execution_count": 18,
   "id": "86a863c3",
   "metadata": {
    "execution": {
     "iopub.execute_input": "2022-03-28T06:56:05.373716Z",
     "iopub.status.busy": "2022-03-28T06:56:05.364651Z",
     "iopub.status.idle": "2022-03-28T06:56:05.384340Z",
     "shell.execute_reply": "2022-03-28T06:56:05.385008Z"
    },
    "papermill": {
     "duration": 0.044006,
     "end_time": "2022-03-28T06:56:05.385187",
     "exception": false,
     "start_time": "2022-03-28T06:56:05.341181",
     "status": "completed"
    },
    "tags": []
   },
   "outputs": [],
   "source": [
    "# # from steves_utils.wisig.utils import (\n",
    "# #     ALL_NODES_MINIMUM_100_EXAMPLES,\n",
    "# #     ALL_NODES_MINIMUM_500_EXAMPLES,\n",
    "# #     ALL_NODES_MINIMUM_1000_EXAMPLES,\n",
    "# #     ALL_DAYS\n",
    "# # )\n",
    "\n",
    "# import steves_utils.wisig.utils as wisig\n",
    "\n",
    "\n",
    "# add_dataset(\n",
    "#     labels=wisig.ALL_NODES_MINIMUM_100_EXAMPLES,\n",
    "#     domains = wisig.ALL_DAYS,\n",
    "#     num_examples_per_domain_per_label=100,\n",
    "#     pickle_path=os.path.join(get_datasets_base_path(), \"wisig.node3-19.stratified_ds.2022A.pkl\"),\n",
    "#     source_or_target_dataset=\"target\",\n",
    "#     x_transform_func=global_x_transform_func,\n",
    "#     domain_modifier=lambda u: f\"wisig_{u}\"\n",
    "# )"
   ]
  },
  {
   "cell_type": "code",
   "execution_count": 19,
   "id": "fd5442bc",
   "metadata": {
    "execution": {
     "iopub.execute_input": "2022-03-28T06:56:05.444412Z",
     "iopub.status.busy": "2022-03-28T06:56:05.444032Z",
     "iopub.status.idle": "2022-03-28T06:56:05.461473Z",
     "shell.execute_reply": "2022-03-28T06:56:05.462110Z"
    },
    "papermill": {
     "duration": 0.047939,
     "end_time": "2022-03-28T06:56:05.462292",
     "exception": false,
     "start_time": "2022-03-28T06:56:05.414353",
     "status": "completed"
    },
    "tags": []
   },
   "outputs": [],
   "source": [
    "###################################\n",
    "# Build the dataset\n",
    "###################################\n",
    "train_original_source = Iterable_Aggregator(train_original_source, p.seed)\n",
    "val_original_source = Iterable_Aggregator(val_original_source, p.seed)\n",
    "test_original_source = Iterable_Aggregator(test_original_source, p.seed)\n",
    "\n",
    "\n",
    "train_original_target = Iterable_Aggregator(train_original_target, p.seed)\n",
    "val_original_target = Iterable_Aggregator(val_original_target, p.seed)\n",
    "test_original_target = Iterable_Aggregator(test_original_target, p.seed)\n",
    "\n",
    "# For CNN We only use X and Y. And we only train on the source.\n",
    "# Properly form the data using a transform lambda and Lazy_Iterable_Wrapper. Finally wrap them in a dataloader\n",
    "\n",
    "transform_lambda = lambda ex: ex[1] # Original is (<domain>, <episode>) so we strip down to episode only\n",
    "\n",
    "train_processed_source = Lazy_Iterable_Wrapper(train_original_source, transform_lambda)\n",
    "val_processed_source   = Lazy_Iterable_Wrapper(val_original_source, transform_lambda)\n",
    "test_processed_source  = Lazy_Iterable_Wrapper(test_original_source, transform_lambda)\n",
    "\n",
    "train_processed_target = Lazy_Iterable_Wrapper(train_original_target, transform_lambda)\n",
    "val_processed_target   = Lazy_Iterable_Wrapper(val_original_target, transform_lambda)\n",
    "test_processed_target  = Lazy_Iterable_Wrapper(test_original_target, transform_lambda)\n",
    "\n",
    "datasets = EasyDict({\n",
    "    \"source\": {\n",
    "        \"original\": {\"train\":train_original_source, \"val\":val_original_source, \"test\":test_original_source},\n",
    "        \"processed\": {\"train\":train_processed_source, \"val\":val_processed_source, \"test\":test_processed_source}\n",
    "    },\n",
    "    \"target\": {\n",
    "        \"original\": {\"train\":train_original_target, \"val\":val_original_target, \"test\":test_original_target},\n",
    "        \"processed\": {\"train\":train_processed_target, \"val\":val_processed_target, \"test\":test_processed_target}\n",
    "    },\n",
    "})"
   ]
  },
  {
   "cell_type": "code",
   "execution_count": 20,
   "id": "5b3c01fc",
   "metadata": {
    "execution": {
     "iopub.execute_input": "2022-03-28T06:56:05.513003Z",
     "iopub.status.busy": "2022-03-28T06:56:05.512632Z",
     "iopub.status.idle": "2022-03-28T06:56:19.978712Z",
     "shell.execute_reply": "2022-03-28T06:56:19.979651Z"
    },
    "papermill": {
     "duration": 14.491067,
     "end_time": "2022-03-28T06:56:19.979936",
     "exception": false,
     "start_time": "2022-03-28T06:56:05.488869",
     "status": "completed"
    },
    "tags": []
   },
   "outputs": [
    {
     "name": "stdout",
     "output_type": "stream",
     "text": [
      "{'C_5', 'C_1', 'C_2', 'C_3', 'C_4'}\n"
     ]
    },
    {
     "name": "stdout",
     "output_type": "stream",
     "text": [
      "{'O_44', 'O_26', 'O_38', 'O_8', 'O_50', 'O_14', 'O_32', 'O_20'}\n"
     ]
    },
    {
     "name": "stdout",
     "output_type": "stream",
     "text": [
      "tensor([[[0., 0., 0.,  ..., 0., 0., 0.],\n",
      "         [0., 0., 0.,  ..., 0., 0., 0.]],\n",
      "\n",
      "        [[0., 0., 0.,  ..., 0., 0., 0.],\n",
      "         [0., 0., 0.,  ..., 0., 0., 0.]],\n",
      "\n",
      "        [[0., 0., 0.,  ..., 0., 0., 0.],\n",
      "         [0., 0., 0.,  ..., 0., 0., 0.]],\n",
      "\n",
      "        ...,\n",
      "\n",
      "        [[0., 0., 0.,  ..., 0., 0., 0.],\n",
      "         [0., 0., 0.,  ..., 0., 0., 0.]],\n",
      "\n",
      "        [[0., 0., 0.,  ..., 0., 0., 0.],\n",
      "         [0., 0., 0.,  ..., 0., 0., 0.]],\n",
      "\n",
      "        [[0., 0., 0.,  ..., 0., 0., 0.],\n",
      "         [0., 0., 0.,  ..., 0., 0., 0.]]])\n"
     ]
    }
   ],
   "source": [
    "from steves_utils.transforms import get_average_magnitude, get_average_power\n",
    "\n",
    "print(set([u for u,_ in val_original_source]))\n",
    "print(set([u for u,_ in val_original_target]))\n",
    "\n",
    "s_x, s_y, q_x, q_y, _ = next(iter(train_processed_source))\n",
    "print(s_x)\n",
    "\n",
    "# for ds in [\n",
    "#     train_processed_source,\n",
    "#     val_processed_source,\n",
    "#     test_processed_source,\n",
    "#     train_processed_target,\n",
    "#     val_processed_target,\n",
    "#     test_processed_target\n",
    "# ]:\n",
    "#     for s_x, s_y, q_x, q_y, _ in ds:\n",
    "#         for X in (s_x, q_x):\n",
    "#             for x in X:\n",
    "#                 assert np.isclose(get_average_magnitude(x.numpy()), 1.0)\n",
    "#                 assert np.isclose(get_average_power(x.numpy()), 1.0)\n",
    "                "
   ]
  },
  {
   "cell_type": "code",
   "execution_count": 21,
   "id": "bbdacba1",
   "metadata": {
    "execution": {
     "iopub.execute_input": "2022-03-28T06:56:20.038782Z",
     "iopub.status.busy": "2022-03-28T06:56:20.038390Z",
     "iopub.status.idle": "2022-03-28T06:56:20.189120Z",
     "shell.execute_reply": "2022-03-28T06:56:20.188423Z"
    },
    "papermill": {
     "duration": 0.177506,
     "end_time": "2022-03-28T06:56:20.189282",
     "exception": false,
     "start_time": "2022-03-28T06:56:20.011776",
     "status": "completed"
    },
    "tags": []
   },
   "outputs": [
    {
     "name": "stdout",
     "output_type": "stream",
     "text": [
      "(2, 256)\n"
     ]
    }
   ],
   "source": [
    "###################################\n",
    "# Build the model\n",
    "###################################\n",
    "# easfsl only wants a tuple for the shape\n",
    "model = Steves_Prototypical_Network(x_net, device=p.device, x_shape=tuple(p.x_shape))\n",
    "optimizer = Adam(params=model.parameters(), lr=p.lr)"
   ]
  },
  {
   "cell_type": "code",
   "execution_count": 22,
   "id": "22b39ac5",
   "metadata": {
    "execution": {
     "iopub.execute_input": "2022-03-28T06:56:20.276563Z",
     "iopub.status.busy": "2022-03-28T06:56:20.276190Z",
     "iopub.status.idle": "2022-03-28T07:17:59.979460Z",
     "shell.execute_reply": "2022-03-28T07:17:59.979108Z"
    },
    "papermill": {
     "duration": 1299.733537,
     "end_time": "2022-03-28T07:17:59.979585",
     "exception": false,
     "start_time": "2022-03-28T06:56:20.246048",
     "status": "completed"
    },
    "tags": []
   },
   "outputs": [
    {
     "name": "stdout",
     "output_type": "stream",
     "text": [
      "epoch: 1, [batch: 1 / 6315], examples_per_second: 34.1512, train_label_loss: 2.7649, \n"
     ]
    },
    {
     "name": "stdout",
     "output_type": "stream",
     "text": [
      "epoch: 1, [batch: 632 / 6315], examples_per_second: 3838.2027, train_label_loss: 0.0105, \n"
     ]
    },
    {
     "name": "stdout",
     "output_type": "stream",
     "text": [
      "epoch: 1, [batch: 1263 / 6315], examples_per_second: 3861.4316, train_label_loss: 0.4182, \n"
     ]
    },
    {
     "name": "stdout",
     "output_type": "stream",
     "text": [
      "epoch: 1, [batch: 1895 / 6315], examples_per_second: 3947.5625, train_label_loss: 0.0005, \n"
     ]
    },
    {
     "name": "stdout",
     "output_type": "stream",
     "text": [
      "epoch: 1, [batch: 2526 / 6315], examples_per_second: 3844.1651, train_label_loss: 0.0001, \n"
     ]
    },
    {
     "name": "stdout",
     "output_type": "stream",
     "text": [
      "epoch: 1, [batch: 3158 / 6315], examples_per_second: 3874.8037, train_label_loss: 0.0029, \n"
     ]
    },
    {
     "name": "stdout",
     "output_type": "stream",
     "text": [
      "epoch: 1, [batch: 3789 / 6315], examples_per_second: 3830.3346, train_label_loss: 0.0031, \n"
     ]
    },
    {
     "name": "stdout",
     "output_type": "stream",
     "text": [
      "epoch: 1, [batch: 4420 / 6315], examples_per_second: 3926.7389, train_label_loss: 0.0595, \n"
     ]
    },
    {
     "name": "stdout",
     "output_type": "stream",
     "text": [
      "epoch: 1, [batch: 5052 / 6315], examples_per_second: 4188.8215, train_label_loss: 0.0002, \n"
     ]
    },
    {
     "name": "stdout",
     "output_type": "stream",
     "text": [
      "epoch: 1, [batch: 5683 / 6315], examples_per_second: 4433.2388, train_label_loss: 0.0125, \n"
     ]
    },
    {
     "name": "stdout",
     "output_type": "stream",
     "text": [
      "=============================================================\n",
      "epoch: 1, source_val_acc_label: 0.9899, target_val_acc_label: 0.2973, source_val_label_loss: 0.1255, target_val_label_loss: 2.1518, \n",
      "=============================================================\n"
     ]
    },
    {
     "name": "stdout",
     "output_type": "stream",
     "text": [
      "New best\n"
     ]
    },
    {
     "name": "stdout",
     "output_type": "stream",
     "text": [
      "epoch: 2, [batch: 1 / 6307], examples_per_second: 4.0156, train_label_loss: 0.0110, \n"
     ]
    },
    {
     "name": "stdout",
     "output_type": "stream",
     "text": [
      "epoch: 2, [batch: 631 / 6307], examples_per_second: 3839.6478, train_label_loss: 0.0022, \n"
     ]
    },
    {
     "name": "stdout",
     "output_type": "stream",
     "text": [
      "epoch: 2, [batch: 1262 / 6307], examples_per_second: 3856.6936, train_label_loss: 0.0000, \n"
     ]
    },
    {
     "name": "stdout",
     "output_type": "stream",
     "text": [
      "epoch: 2, [batch: 1892 / 6307], examples_per_second: 3885.8167, train_label_loss: 0.0000, \n"
     ]
    },
    {
     "name": "stdout",
     "output_type": "stream",
     "text": [
      "epoch: 2, [batch: 2523 / 6307], examples_per_second: 3832.5101, train_label_loss: 0.0008, \n"
     ]
    },
    {
     "name": "stdout",
     "output_type": "stream",
     "text": [
      "epoch: 2, [batch: 3154 / 6307], examples_per_second: 3957.5478, train_label_loss: 0.0000, \n"
     ]
    },
    {
     "name": "stdout",
     "output_type": "stream",
     "text": [
      "epoch: 2, [batch: 3784 / 6307], examples_per_second: 3899.9042, train_label_loss: 0.0000, \n"
     ]
    },
    {
     "name": "stdout",
     "output_type": "stream",
     "text": [
      "epoch: 2, [batch: 4415 / 6307], examples_per_second: 3991.0263, train_label_loss: 0.0001, \n"
     ]
    },
    {
     "name": "stdout",
     "output_type": "stream",
     "text": [
      "epoch: 2, [batch: 5045 / 6307], examples_per_second: 4209.1932, train_label_loss: 0.0025, \n"
     ]
    },
    {
     "name": "stdout",
     "output_type": "stream",
     "text": [
      "epoch: 2, [batch: 5676 / 6307], examples_per_second: 4531.5213, train_label_loss: 0.0073, \n"
     ]
    },
    {
     "name": "stdout",
     "output_type": "stream",
     "text": [
      "=============================================================\n",
      "epoch: 2, source_val_acc_label: 0.9979, target_val_acc_label: 0.3374, source_val_label_loss: 0.0450, target_val_label_loss: 2.0389, \n",
      "=============================================================\n"
     ]
    },
    {
     "name": "stdout",
     "output_type": "stream",
     "text": [
      "New best\n"
     ]
    },
    {
     "name": "stdout",
     "output_type": "stream",
     "text": [
      "epoch: 3, [batch: 1 / 6326], examples_per_second: 4.1052, train_label_loss: 0.0021, \n"
     ]
    },
    {
     "name": "stdout",
     "output_type": "stream",
     "text": [
      "epoch: 3, [batch: 633 / 6326], examples_per_second: 3803.2815, train_label_loss: 0.0000, \n"
     ]
    },
    {
     "name": "stdout",
     "output_type": "stream",
     "text": [
      "epoch: 3, [batch: 1266 / 6326], examples_per_second: 3958.7697, train_label_loss: 0.0000, \n"
     ]
    },
    {
     "name": "stdout",
     "output_type": "stream",
     "text": [
      "epoch: 3, [batch: 1898 / 6326], examples_per_second: 3963.8293, train_label_loss: 0.0001, \n"
     ]
    },
    {
     "name": "stdout",
     "output_type": "stream",
     "text": [
      "epoch: 3, [batch: 2531 / 6326], examples_per_second: 4046.5237, train_label_loss: 0.0000, \n"
     ]
    },
    {
     "name": "stdout",
     "output_type": "stream",
     "text": [
      "epoch: 3, [batch: 3163 / 6326], examples_per_second: 4028.1510, train_label_loss: 0.0000, \n"
     ]
    },
    {
     "name": "stdout",
     "output_type": "stream",
     "text": [
      "epoch: 3, [batch: 3796 / 6326], examples_per_second: 3956.8856, train_label_loss: 0.0585, \n"
     ]
    },
    {
     "name": "stdout",
     "output_type": "stream",
     "text": [
      "epoch: 3, [batch: 4428 / 6326], examples_per_second: 4221.1178, train_label_loss: 0.0002, \n"
     ]
    },
    {
     "name": "stdout",
     "output_type": "stream",
     "text": [
      "epoch: 3, [batch: 5061 / 6326], examples_per_second: 4570.1676, train_label_loss: 0.0004, \n"
     ]
    },
    {
     "name": "stdout",
     "output_type": "stream",
     "text": [
      "epoch: 3, [batch: 5693 / 6326], examples_per_second: 5000.1075, train_label_loss: 0.0001, \n"
     ]
    },
    {
     "name": "stdout",
     "output_type": "stream",
     "text": [
      "=============================================================\n",
      "epoch: 3, source_val_acc_label: 0.9976, target_val_acc_label: 0.3361, source_val_label_loss: 0.0216, target_val_label_loss: 2.0565, \n",
      "=============================================================\n"
     ]
    },
    {
     "name": "stdout",
     "output_type": "stream",
     "text": [
      "epoch: 4, [batch: 1 / 6302], examples_per_second: 4.1504, train_label_loss: 0.0052, \n"
     ]
    },
    {
     "name": "stdout",
     "output_type": "stream",
     "text": [
      "epoch: 4, [batch: 631 / 6302], examples_per_second: 4042.1319, train_label_loss: 0.0000, \n"
     ]
    },
    {
     "name": "stdout",
     "output_type": "stream",
     "text": [
      "epoch: 4, [batch: 1261 / 6302], examples_per_second: 3979.7202, train_label_loss: 0.0000, \n"
     ]
    },
    {
     "name": "stdout",
     "output_type": "stream",
     "text": [
      "epoch: 4, [batch: 1891 / 6302], examples_per_second: 3958.2289, train_label_loss: 0.0001, \n"
     ]
    },
    {
     "name": "stdout",
     "output_type": "stream",
     "text": [
      "epoch: 4, [batch: 2521 / 6302], examples_per_second: 3848.5959, train_label_loss: 0.0000, \n"
     ]
    },
    {
     "name": "stdout",
     "output_type": "stream",
     "text": [
      "epoch: 4, [batch: 3151 / 6302], examples_per_second: 4008.7547, train_label_loss: 0.0000, \n"
     ]
    },
    {
     "name": "stdout",
     "output_type": "stream",
     "text": [
      "epoch: 4, [batch: 3781 / 6302], examples_per_second: 3950.9108, train_label_loss: 0.0000, \n"
     ]
    },
    {
     "name": "stdout",
     "output_type": "stream",
     "text": [
      "epoch: 4, [batch: 4411 / 6302], examples_per_second: 4029.2707, train_label_loss: 0.0006, \n"
     ]
    },
    {
     "name": "stdout",
     "output_type": "stream",
     "text": [
      "epoch: 4, [batch: 5041 / 6302], examples_per_second: 4328.6897, train_label_loss: 0.0006, \n"
     ]
    },
    {
     "name": "stdout",
     "output_type": "stream",
     "text": [
      "epoch: 4, [batch: 5671 / 6302], examples_per_second: 4566.7404, train_label_loss: 0.0001, \n"
     ]
    },
    {
     "name": "stdout",
     "output_type": "stream",
     "text": [
      "=============================================================\n",
      "epoch: 4, source_val_acc_label: 0.9986, target_val_acc_label: 0.3617, source_val_label_loss: 0.0080, target_val_label_loss: 1.9652, \n",
      "=============================================================\n"
     ]
    },
    {
     "name": "stdout",
     "output_type": "stream",
     "text": [
      "New best\n"
     ]
    },
    {
     "name": "stdout",
     "output_type": "stream",
     "text": [
      "epoch: 5, [batch: 1 / 6324], examples_per_second: 4.0597, train_label_loss: 0.0001, \n"
     ]
    },
    {
     "name": "stdout",
     "output_type": "stream",
     "text": [
      "epoch: 5, [batch: 633 / 6324], examples_per_second: 3871.6896, train_label_loss: 0.0000, \n"
     ]
    },
    {
     "name": "stdout",
     "output_type": "stream",
     "text": [
      "epoch: 5, [batch: 1265 / 6324], examples_per_second: 3862.3873, train_label_loss: 0.0004, \n"
     ]
    },
    {
     "name": "stdout",
     "output_type": "stream",
     "text": [
      "epoch: 5, [batch: 1897 / 6324], examples_per_second: 3943.7140, train_label_loss: 0.0004, \n"
     ]
    },
    {
     "name": "stdout",
     "output_type": "stream",
     "text": [
      "epoch: 5, [batch: 2530 / 6324], examples_per_second: 3883.6647, train_label_loss: 0.0000, \n"
     ]
    },
    {
     "name": "stdout",
     "output_type": "stream",
     "text": [
      "epoch: 5, [batch: 3162 / 6324], examples_per_second: 3870.0524, train_label_loss: 0.0000, \n"
     ]
    },
    {
     "name": "stdout",
     "output_type": "stream",
     "text": [
      "epoch: 5, [batch: 3794 / 6324], examples_per_second: 3798.0128, train_label_loss: 0.0000, \n"
     ]
    },
    {
     "name": "stdout",
     "output_type": "stream",
     "text": [
      "epoch: 5, [batch: 4427 / 6324], examples_per_second: 4043.5792, train_label_loss: 0.0001, \n"
     ]
    },
    {
     "name": "stdout",
     "output_type": "stream",
     "text": [
      "epoch: 5, [batch: 5059 / 6324], examples_per_second: 4430.4029, train_label_loss: 0.0003, \n"
     ]
    },
    {
     "name": "stdout",
     "output_type": "stream",
     "text": [
      "epoch: 5, [batch: 5691 / 6324], examples_per_second: 4704.7630, train_label_loss: 0.0000, \n"
     ]
    },
    {
     "name": "stdout",
     "output_type": "stream",
     "text": [
      "=============================================================\n",
      "epoch: 5, source_val_acc_label: 0.9985, target_val_acc_label: 0.3826, source_val_label_loss: 0.0097, target_val_label_loss: 1.9803, \n",
      "=============================================================\n"
     ]
    },
    {
     "name": "stdout",
     "output_type": "stream",
     "text": [
      "New best\n"
     ]
    },
    {
     "name": "stdout",
     "output_type": "stream",
     "text": [
      "epoch: 6, [batch: 1 / 6313], examples_per_second: 4.1402, train_label_loss: 0.0000, \n"
     ]
    },
    {
     "name": "stdout",
     "output_type": "stream",
     "text": [
      "epoch: 6, [batch: 632 / 6313], examples_per_second: 3825.9473, train_label_loss: 0.0000, \n"
     ]
    },
    {
     "name": "stdout",
     "output_type": "stream",
     "text": [
      "epoch: 6, [batch: 1263 / 6313], examples_per_second: 3866.2926, train_label_loss: 0.0000, \n"
     ]
    },
    {
     "name": "stdout",
     "output_type": "stream",
     "text": [
      "epoch: 6, [batch: 1894 / 6313], examples_per_second: 3802.4854, train_label_loss: 0.0000, \n"
     ]
    },
    {
     "name": "stdout",
     "output_type": "stream",
     "text": [
      "epoch: 6, [batch: 2525 / 6313], examples_per_second: 3876.0390, train_label_loss: 0.0000, \n"
     ]
    },
    {
     "name": "stdout",
     "output_type": "stream",
     "text": [
      "epoch: 6, [batch: 3157 / 6313], examples_per_second: 3888.3161, train_label_loss: 0.0000, \n"
     ]
    },
    {
     "name": "stdout",
     "output_type": "stream",
     "text": [
      "epoch: 6, [batch: 3788 / 6313], examples_per_second: 3952.0158, train_label_loss: 0.0133, \n"
     ]
    },
    {
     "name": "stdout",
     "output_type": "stream",
     "text": [
      "epoch: 6, [batch: 4419 / 6313], examples_per_second: 3994.0959, train_label_loss: 0.0000, \n"
     ]
    },
    {
     "name": "stdout",
     "output_type": "stream",
     "text": [
      "epoch: 6, [batch: 5050 / 6313], examples_per_second: 4277.3526, train_label_loss: 0.0000, \n"
     ]
    },
    {
     "name": "stdout",
     "output_type": "stream",
     "text": [
      "epoch: 6, [batch: 5681 / 6313], examples_per_second: 4290.0802, train_label_loss: 0.0000, \n"
     ]
    },
    {
     "name": "stdout",
     "output_type": "stream",
     "text": [
      "=============================================================\n",
      "epoch: 6, source_val_acc_label: 0.9987, target_val_acc_label: 0.3451, source_val_label_loss: 0.0093, target_val_label_loss: 2.1543, \n",
      "=============================================================\n"
     ]
    },
    {
     "name": "stdout",
     "output_type": "stream",
     "text": [
      "epoch: 7, [batch: 1 / 6295], examples_per_second: 4.5918, train_label_loss: 0.0000, \n"
     ]
    },
    {
     "name": "stdout",
     "output_type": "stream",
     "text": [
      "epoch: 7, [batch: 630 / 6295], examples_per_second: 4099.2933, train_label_loss: 0.0000, \n"
     ]
    },
    {
     "name": "stdout",
     "output_type": "stream",
     "text": [
      "epoch: 7, [batch: 1259 / 6295], examples_per_second: 4186.8976, train_label_loss: 0.0000, \n"
     ]
    },
    {
     "name": "stdout",
     "output_type": "stream",
     "text": [
      "epoch: 7, [batch: 1889 / 6295], examples_per_second: 4563.3057, train_label_loss: 0.0000, \n"
     ]
    },
    {
     "name": "stdout",
     "output_type": "stream",
     "text": [
      "epoch: 7, [batch: 2518 / 6295], examples_per_second: 5264.4170, train_label_loss: 0.0110, \n"
     ]
    },
    {
     "name": "stdout",
     "output_type": "stream",
     "text": [
      "epoch: 7, [batch: 3148 / 6295], examples_per_second: 5272.9281, train_label_loss: 0.0000, \n"
     ]
    },
    {
     "name": "stdout",
     "output_type": "stream",
     "text": [
      "epoch: 7, [batch: 3777 / 6295], examples_per_second: 4980.9693, train_label_loss: 0.0000, \n"
     ]
    },
    {
     "name": "stdout",
     "output_type": "stream",
     "text": [
      "epoch: 7, [batch: 4406 / 6295], examples_per_second: 5092.0874, train_label_loss: 0.0000, \n"
     ]
    },
    {
     "name": "stdout",
     "output_type": "stream",
     "text": [
      "epoch: 7, [batch: 5036 / 6295], examples_per_second: 5344.2502, train_label_loss: 0.0000, \n"
     ]
    },
    {
     "name": "stdout",
     "output_type": "stream",
     "text": [
      "epoch: 7, [batch: 5665 / 6295], examples_per_second: 5323.8664, train_label_loss: 0.0000, \n"
     ]
    },
    {
     "name": "stdout",
     "output_type": "stream",
     "text": [
      "=============================================================\n",
      "epoch: 7, source_val_acc_label: 0.9989, target_val_acc_label: 0.3787, source_val_label_loss: 0.0083, target_val_label_loss: 1.9956, \n",
      "=============================================================\n"
     ]
    },
    {
     "name": "stdout",
     "output_type": "stream",
     "text": [
      "epoch: 8, [batch: 1 / 6293], examples_per_second: 5.4143, train_label_loss: 0.0000, \n"
     ]
    },
    {
     "name": "stdout",
     "output_type": "stream",
     "text": [
      "epoch: 8, [batch: 630 / 6293], examples_per_second: 5142.8577, train_label_loss: 0.0000, \n"
     ]
    },
    {
     "name": "stdout",
     "output_type": "stream",
     "text": [
      "epoch: 8, [batch: 1259 / 6293], examples_per_second: 5034.7909, train_label_loss: 0.0000, \n"
     ]
    },
    {
     "name": "stdout",
     "output_type": "stream",
     "text": [
      "epoch: 8, [batch: 1888 / 6293], examples_per_second: 5042.5625, train_label_loss: 0.0000, \n"
     ]
    },
    {
     "name": "stdout",
     "output_type": "stream",
     "text": [
      "epoch: 8, [batch: 2517 / 6293], examples_per_second: 4877.5348, train_label_loss: 0.0000, \n"
     ]
    },
    {
     "name": "stdout",
     "output_type": "stream",
     "text": [
      "epoch: 8, [batch: 3147 / 6293], examples_per_second: 4913.6004, train_label_loss: 0.0000, \n"
     ]
    },
    {
     "name": "stdout",
     "output_type": "stream",
     "text": [
      "epoch: 8, [batch: 3776 / 6293], examples_per_second: 5027.5197, train_label_loss: 0.0000, \n"
     ]
    },
    {
     "name": "stdout",
     "output_type": "stream",
     "text": [
      "epoch: 8, [batch: 4405 / 6293], examples_per_second: 5273.7762, train_label_loss: 0.0001, \n"
     ]
    },
    {
     "name": "stdout",
     "output_type": "stream",
     "text": [
      "epoch: 8, [batch: 5034 / 6293], examples_per_second: 5409.0708, train_label_loss: 0.0709, \n"
     ]
    },
    {
     "name": "stdout",
     "output_type": "stream",
     "text": [
      "epoch: 8, [batch: 5663 / 6293], examples_per_second: 5412.9523, train_label_loss: 0.0000, \n"
     ]
    },
    {
     "name": "stdout",
     "output_type": "stream",
     "text": [
      "=============================================================\n",
      "epoch: 8, source_val_acc_label: 0.9994, target_val_acc_label: 0.3570, source_val_label_loss: 0.0067, target_val_label_loss: 2.1530, \n",
      "=============================================================\n"
     ]
    },
    {
     "name": "stdout",
     "output_type": "stream",
     "text": [
      "epoch: 9, [batch: 1 / 6315], examples_per_second: 5.5265, train_label_loss: 0.0000, \n"
     ]
    },
    {
     "name": "stdout",
     "output_type": "stream",
     "text": [
      "epoch: 9, [batch: 632 / 6315], examples_per_second: 4772.7646, train_label_loss: 0.0000, \n"
     ]
    },
    {
     "name": "stdout",
     "output_type": "stream",
     "text": [
      "epoch: 9, [batch: 1263 / 6315], examples_per_second: 5080.4661, train_label_loss: 0.0000, \n"
     ]
    },
    {
     "name": "stdout",
     "output_type": "stream",
     "text": [
      "epoch: 9, [batch: 1895 / 6315], examples_per_second: 3793.9137, train_label_loss: 0.0000, \n"
     ]
    },
    {
     "name": "stdout",
     "output_type": "stream",
     "text": [
      "epoch: 9, [batch: 2526 / 6315], examples_per_second: 3783.4725, train_label_loss: 0.0077, \n"
     ]
    },
    {
     "name": "stdout",
     "output_type": "stream",
     "text": [
      "epoch: 9, [batch: 3158 / 6315], examples_per_second: 3822.6212, train_label_loss: 0.0026, \n"
     ]
    },
    {
     "name": "stdout",
     "output_type": "stream",
     "text": [
      "epoch: 9, [batch: 3789 / 6315], examples_per_second: 3928.7813, train_label_loss: 0.0000, \n"
     ]
    },
    {
     "name": "stdout",
     "output_type": "stream",
     "text": [
      "epoch: 9, [batch: 4420 / 6315], examples_per_second: 3889.0732, train_label_loss: 0.0000, \n"
     ]
    },
    {
     "name": "stdout",
     "output_type": "stream",
     "text": [
      "epoch: 9, [batch: 5052 / 6315], examples_per_second: 3853.4293, train_label_loss: 0.0000, \n"
     ]
    },
    {
     "name": "stdout",
     "output_type": "stream",
     "text": [
      "epoch: 9, [batch: 5683 / 6315], examples_per_second: 3873.8481, train_label_loss: 0.0000, \n"
     ]
    },
    {
     "name": "stdout",
     "output_type": "stream",
     "text": [
      "=============================================================\n",
      "epoch: 9, source_val_acc_label: 0.9992, target_val_acc_label: 0.3633, source_val_label_loss: 0.0067, target_val_label_loss: 2.0630, \n",
      "=============================================================\n"
     ]
    },
    {
     "name": "stdout",
     "output_type": "stream",
     "text": [
      "Patience (3) exhausted\n"
     ]
    }
   ],
   "source": [
    "###################################\n",
    "# train\n",
    "###################################\n",
    "jig = PTN_Train_Eval_Test_Jig(model, p.BEST_MODEL_PATH, p.device)\n",
    "\n",
    "jig.train(\n",
    "    train_iterable=datasets.source.processed.train,\n",
    "    source_val_iterable=datasets.source.processed.val,\n",
    "    target_val_iterable=datasets.target.processed.val,\n",
    "    num_epochs=p.n_epoch,\n",
    "    num_logs_per_epoch=p.NUM_LOGS_PER_EPOCH,\n",
    "    patience=p.patience,\n",
    "    optimizer=optimizer,\n",
    "    criteria_for_best=p.criteria_for_best,\n",
    ")"
   ]
  },
  {
   "cell_type": "code",
   "execution_count": 23,
   "id": "31e8fabf",
   "metadata": {
    "execution": {
     "iopub.execute_input": "2022-03-28T07:18:00.081333Z",
     "iopub.status.busy": "2022-03-28T07:18:00.080963Z",
     "iopub.status.idle": "2022-03-28T07:18:00.117934Z",
     "shell.execute_reply": "2022-03-28T07:18:00.118583Z"
    },
    "papermill": {
     "duration": 0.090288,
     "end_time": "2022-03-28T07:18:00.118793",
     "exception": false,
     "start_time": "2022-03-28T07:18:00.028505",
     "status": "completed"
    },
    "tags": []
   },
   "outputs": [],
   "source": [
    "total_experiment_time_secs = time.time() - start_time_secs"
   ]
  },
  {
   "cell_type": "code",
   "execution_count": 24,
   "id": "87b9595b",
   "metadata": {
    "execution": {
     "iopub.execute_input": "2022-03-28T07:18:00.237665Z",
     "iopub.status.busy": "2022-03-28T07:18:00.237053Z",
     "iopub.status.idle": "2022-03-28T07:20:40.842435Z",
     "shell.execute_reply": "2022-03-28T07:20:40.841682Z"
    },
    "papermill": {
     "duration": 160.666422,
     "end_time": "2022-03-28T07:20:40.842633",
     "exception": false,
     "start_time": "2022-03-28T07:18:00.176211",
     "status": "completed"
    },
    "tags": []
   },
   "outputs": [],
   "source": [
    "###################################\n",
    "# Evaluate the model\n",
    "###################################\n",
    "source_test_label_accuracy, source_test_label_loss = jig.test(datasets.source.processed.test)\n",
    "target_test_label_accuracy, target_test_label_loss = jig.test(datasets.target.processed.test)\n",
    "\n",
    "source_val_label_accuracy, source_val_label_loss = jig.test(datasets.source.processed.val)\n",
    "target_val_label_accuracy, target_val_label_loss = jig.test(datasets.target.processed.val)\n",
    "\n",
    "history = jig.get_history()\n",
    "\n",
    "total_epochs_trained = len(history[\"epoch_indices\"])\n",
    "\n",
    "val_dl = Iterable_Aggregator((datasets.source.original.val,datasets.target.original.val))\n",
    "\n",
    "confusion = ptn_confusion_by_domain_over_dataloader(model, p.device, val_dl)\n",
    "per_domain_accuracy = per_domain_accuracy_from_confusion(confusion)\n",
    "\n",
    "# Add a key to per_domain_accuracy for if it was a source domain\n",
    "for domain, accuracy in per_domain_accuracy.items():\n",
    "    per_domain_accuracy[domain] = {\n",
    "        \"accuracy\": accuracy,\n",
    "        \"source?\": domain in p.domains_source\n",
    "    }\n",
    "\n",
    "# Do an independent accuracy assesment JUST TO BE SURE!\n",
    "# _source_test_label_accuracy = independent_accuracy_assesment(model, datasets.source.processed.test, p.device)\n",
    "# _target_test_label_accuracy = independent_accuracy_assesment(model, datasets.target.processed.test, p.device)\n",
    "# _source_val_label_accuracy = independent_accuracy_assesment(model, datasets.source.processed.val, p.device)\n",
    "# _target_val_label_accuracy = independent_accuracy_assesment(model, datasets.target.processed.val, p.device)\n",
    "\n",
    "# assert(_source_test_label_accuracy == source_test_label_accuracy)\n",
    "# assert(_target_test_label_accuracy == target_test_label_accuracy)\n",
    "# assert(_source_val_label_accuracy == source_val_label_accuracy)\n",
    "# assert(_target_val_label_accuracy == target_val_label_accuracy)\n",
    "\n",
    "experiment = {\n",
    "    \"experiment_name\": p.experiment_name,\n",
    "    \"parameters\": dict(p),\n",
    "    \"results\": {\n",
    "        \"source_test_label_accuracy\": source_test_label_accuracy,\n",
    "        \"source_test_label_loss\": source_test_label_loss,\n",
    "        \"target_test_label_accuracy\": target_test_label_accuracy,\n",
    "        \"target_test_label_loss\": target_test_label_loss,\n",
    "        \"source_val_label_accuracy\": source_val_label_accuracy,\n",
    "        \"source_val_label_loss\": source_val_label_loss,\n",
    "        \"target_val_label_accuracy\": target_val_label_accuracy,\n",
    "        \"target_val_label_loss\": target_val_label_loss,\n",
    "        \"total_epochs_trained\": total_epochs_trained,\n",
    "        \"total_experiment_time_secs\": total_experiment_time_secs,\n",
    "        \"confusion\": confusion,\n",
    "        \"per_domain_accuracy\": per_domain_accuracy,\n",
    "    },\n",
    "    \"history\": history,\n",
    "    \"dataset_metrics\": get_dataset_metrics(datasets, \"ptn\"),\n",
    "}"
   ]
  },
  {
   "cell_type": "code",
   "execution_count": 25,
   "id": "54a21829",
   "metadata": {
    "execution": {
     "iopub.execute_input": "2022-03-28T07:20:40.953579Z",
     "iopub.status.busy": "2022-03-28T07:20:40.953203Z",
     "iopub.status.idle": "2022-03-28T07:20:41.178824Z",
     "shell.execute_reply": "2022-03-28T07:20:41.179513Z"
    },
    "papermill": {
     "duration": 0.281182,
     "end_time": "2022-03-28T07:20:41.179771",
     "exception": false,
     "start_time": "2022-03-28T07:20:40.898589",
     "status": "completed"
    },
    "tags": []
   },
   "outputs": [
    {
     "data": {
      "image/png": "[encoded data removed]",
      "text/plain": [
       "<Figure size 1080x504 with 1 Axes>"
      ]
     },
     "metadata": {
      "needs_background": "light"
     },
     "output_type": "display_data"
    }
   ],
   "source": [
    "ax = get_loss_curve(experiment)\n",
    "plt.show()"
   ]
  },
  {
   "cell_type": "code",
   "execution_count": 26,
   "id": "fd8a0f60",
   "metadata": {
    "execution": {
     "iopub.execute_input": "2022-03-28T07:20:41.293338Z",
     "iopub.status.busy": "2022-03-28T07:20:41.292963Z",
     "iopub.status.idle": "2022-03-28T07:20:41.669632Z",
     "shell.execute_reply": "2022-03-28T07:20:41.670316Z"
    },
    "papermill": {
     "duration": 0.432819,
     "end_time": "2022-03-28T07:20:41.670535",
     "exception": false,
     "start_time": "2022-03-28T07:20:41.237716",
     "status": "completed"
    },
    "tags": []
   },
   "outputs": [
    {
     "data": {
      "text/plain": [
       "<AxesSubplot:title={'center':'Results'}>"
      ]
     },
     "execution_count": 26,
     "metadata": {},
     "output_type": "execute_result"
    },
    {
     "data": {
      "image/png": "[encoded data removed]",
      "text/plain": [
       "<Figure size 1080x504 with 1 Axes>"
      ]
     },
     "metadata": {
      "needs_background": "light"
     },
     "output_type": "display_data"
    }
   ],
   "source": [
    "get_results_table(experiment)"
   ]
  },
  {
   "cell_type": "code",
   "execution_count": 27,
   "id": "cf8dc689",
   "metadata": {
    "execution": {
     "iopub.execute_input": "2022-03-28T07:20:41.782418Z",
     "iopub.status.busy": "2022-03-28T07:20:41.782049Z",
     "iopub.status.idle": "2022-03-28T07:20:42.021735Z",
     "shell.execute_reply": "2022-03-28T07:20:42.022397Z"
    },
    "papermill": {
     "duration": 0.296601,
     "end_time": "2022-03-28T07:20:42.022595",
     "exception": false,
     "start_time": "2022-03-28T07:20:41.725994",
     "status": "completed"
    },
    "tags": []
   },
   "outputs": [
    {
     "data": {
      "text/plain": [
       "<AxesSubplot:title={'center':'Per Domain Validation Accuracy'}, xlabel='domain'>"
      ]
     },
     "execution_count": 27,
     "metadata": {},
     "output_type": "execute_result"
    },
    {
     "data": {
      "image/png": "[encoded data removed]",
      "text/plain": [
       "<Figure size 1080x504 with 1 Axes>"
      ]
     },
     "metadata": {
      "needs_background": "light"
     },
     "output_type": "display_data"
    }
   ],
   "source": [
    "get_domain_accuracies(experiment)"
   ]
  },
  {
   "cell_type": "code",
   "execution_count": 28,
   "id": "a74ae082",
   "metadata": {
    "execution": {
     "iopub.execute_input": "2022-03-28T07:20:42.142877Z",
     "iopub.status.busy": "2022-03-28T07:20:42.142500Z",
     "iopub.status.idle": "2022-03-28T07:20:42.169559Z",
     "shell.execute_reply": "2022-03-28T07:20:42.168742Z"
    },
    "papermill": {
     "duration": 0.088444,
     "end_time": "2022-03-28T07:20:42.169716",
     "exception": false,
     "start_time": "2022-03-28T07:20:42.081272",
     "status": "completed"
    },
    "tags": []
   },
   "outputs": [
    {
     "name": "stdout",
     "output_type": "stream",
     "text": [
      "Source Test Label Accuracy: 0.9986244356659142 Target Test Label Accuracy: 0.3744140625\n",
      "Source Val Label Accuracy: 0.9985357142857143 Target Val Label Accuracy: 0.3826497395833333\n"
     ]
    }
   ],
   "source": [
    "print(\"Source Test Label Accuracy:\", experiment[\"results\"][\"source_test_label_accuracy\"], \"Target Test Label Accuracy:\", experiment[\"results\"][\"target_test_label_accuracy\"])\n",
    "print(\"Source Val Label Accuracy:\", experiment[\"results\"][\"source_val_label_accuracy\"], \"Target Val Label Accuracy:\", experiment[\"results\"][\"target_val_label_accuracy\"])"
   ]
  },
  {
   "cell_type": "code",
   "execution_count": 29,
   "id": "dacca602",
   "metadata": {
    "execution": {
     "iopub.execute_input": "2022-03-28T07:20:42.289884Z",
     "iopub.status.busy": "2022-03-28T07:20:42.289390Z",
     "iopub.status.idle": "2022-03-28T07:20:42.311598Z",
     "shell.execute_reply": "2022-03-28T07:20:42.312158Z"
    },
    "papermill": {
     "duration": 0.081099,
     "end_time": "2022-03-28T07:20:42.312284",
     "exception": false,
     "start_time": "2022-03-28T07:20:42.231185",
     "status": "completed"
    },
    "tags": [
     "experiment_json"
    ]
   },
   "outputs": [
    {
     "data": {
      "text/plain": [
       "'{\"experiment_name\": \"tl_3-jitter10v2:cores -> oracle.run1.framed\", \"parameters\": {\"experiment_name\": \"tl_3-jitter10v2:cores -> oracle.run1.framed\", \"device\": \"cuda\", \"lr\": 0.0001, \"x_shape\": [2, 256], \"n_shot\": 3, \"n_query\": 2, \"train_k_factor\": 3, \"val_k_factor\": 2, \"test_k_factor\": 2, \"torch_default_dtype\": \"torch.float32\", \"n_epoch\": 50, \"patience\": 3, \"criteria_for_best\": \"target_accuracy\", \"x_net\": [{\"class\": \"nnReshape\", \"kargs\": {\"shape\": [-1, 1, 2, 256]}}, {\"class\": \"Conv2d\", \"kargs\": {\"in_channels\": 1, \"out_channels\": 256, \"kernel_size\": [1, 7], \"bias\": false, \"padding\": [0, 3]}}, {\"class\": \"ReLU\", \"kargs\": {\"inplace\": true}}, {\"class\": \"BatchNorm2d\", \"kargs\": {\"num_features\": 256}}, {\"class\": \"Conv2d\", \"kargs\": {\"in_channels\": 256, \"out_channels\": 80, \"kernel_size\": [2, 7], \"bias\": true, \"padding\": [0, 3]}}, {\"class\": \"ReLU\", \"kargs\": {\"inplace\": true}}, {\"class\": \"BatchNorm2d\", \"kargs\": {\"num_features\": 80}}, {\"class\": \"Flatten\", \"kargs\": {}}, {\"class\": \"Linear\", \"kargs\": {\"in_features\": 20480, \"out_features\": 256}}, {\"class\": \"ReLU\", \"kargs\": {\"inplace\": true}}, {\"class\": \"BatchNorm1d\", \"kargs\": {\"num_features\": 256}}, {\"class\": \"Linear\", \"kargs\": {\"in_features\": 256, \"out_features\": 256}}], \"NUM_LOGS_PER_EPOCH\": 10, \"BEST_MODEL_PATH\": \"./best_model.pth\", \"n_way\": 16, \"datasets\": [{\"labels\": [\"1-10.\", \"1-11.\", \"1-15.\", \"1-16.\", \"1-17.\", \"1-18.\", \"1-19.\", \"10-4.\", \"10-7.\", \"11-1.\", \"11-14.\", \"11-17.\", \"11-20.\", \"11-7.\", \"13-20.\", \"13-8.\", \"14-10.\", \"14-11.\", \"14-14.\", \"14-7.\", \"15-1.\", \"15-20.\", \"16-1.\", \"16-16.\", \"17-10.\", \"17-11.\", \"17-2.\", \"19-1.\", \"19-16.\", \"19-19.\", \"19-20.\", \"19-3.\", \"2-10.\", \"2-11.\", \"2-17.\", \"2-18.\", \"2-20.\", \"2-3.\", \"2-4.\", \"2-5.\", \"2-6.\", \"2-7.\", \"2-8.\", \"3-13.\", \"3-18.\", \"3-3.\", \"4-1.\", \"4-10.\", \"4-11.\", \"4-19.\", \"5-5.\", \"6-15.\", \"7-10.\", \"7-14.\", \"8-18.\", \"8-20.\", \"8-3.\", \"8-8.\"], \"domains\": [1, 2, 3, 4, 5], \"num_examples_per_domain_per_label\": -1, \"pickle_path\": \"/root/csc500-main/datasets/cores.stratified_ds.2022A.pkl\", \"source_or_target_dataset\": \"source\", \"x_transforms\": [\"unit_power\", \"jitter_256_10\", \"lowpass_+/-10MHz\", \"take_200\"], \"episode_transforms\": [], \"domain_prefix\": \"C_\"}, {\"labels\": [\"3123D52\", \"3123D65\", \"3123D79\", \"3123D80\", \"3123D54\", \"3123D70\", \"3123D7B\", \"3123D89\", \"3123D58\", \"3123D76\", \"3123D7D\", \"3123EFE\", \"3123D64\", \"3123D78\", \"3123D7E\", \"3124E4A\"], \"domains\": [32, 38, 8, 44, 14, 50, 20, 26], \"num_examples_per_domain_per_label\": 2000, \"pickle_path\": \"/root/csc500-main/datasets/oracle.Run1_framed_2000Examples_stratified_ds.2022A.pkl\", \"source_or_target_dataset\": \"target\", \"x_transforms\": [\"unit_power\", \"jitter_256_10\", \"take_200\", \"resample_20Msps_to_25Msps\"], \"episode_transforms\": [], \"domain_prefix\": \"O_\"}], \"seed\": 420, \"dataset_seed\": 420, \"domains_source\": [\"C_1\", \"C_2\", \"C_3\", \"C_4\", \"C_5\"], \"domains_target\": [\"O_32\", \"O_38\", \"O_8\", \"O_44\", \"O_14\", \"O_50\", \"O_20\", \"O_26\"]}, \"results\": {\"source_test_label_accuracy\": 0.9986244356659142, \"source_test_label_loss\": 0.009076250717043877, \"target_test_label_accuracy\": 0.3744140625, \"target_test_label_loss\": 2.0036797523498535, \"source_val_label_accuracy\": 0.9985357142857143, \"source_val_label_loss\": 0.00972440093755722, \"target_val_label_accuracy\": 0.3826497395833333, \"target_val_label_loss\": 1.9803224802017212, \"total_epochs_trained\": 9, \"total_experiment_time_secs\": 1425.4909603595734, \"confusion\": {\"C_4\": {\"42\": {\"42\": 32}, \"0\": {\"0\": 80}, \"1\": {\"1\": 40}, \"39\": {\"39\": 20}, \"28\": {\"28\": 32}, \"53\": {\"53\": 124}, \"19\": {\"19\": 144}, \"34\": {\"34\": 24}, \"33\": {\"33\": 36}, \"32\": {\"32\": 24}, \"10\": {\"10\": 136}, \"46\": {\"46\": 133, \"32\": 1}, \"20\": {\"20\": 122}, \"5\": {\"5\": 106, \"23\": 1, \"20\": 1}, \"40\": {\"40\": 124}, \"51\": {\"51\": 144}, \"37\": {\"37\": 24}, \"17\": {\"17\": 80}, \"45\": {\"45\": 96}, \"13\": {\"13\": 142}, \"27\": {\"27\": 144}, \"24\": {\"24\": 56}, \"30\": {\"30\": 44}, \"31\": {\"31\": 28}, \"41\": {\"41\": 34, \"10\": 1, \"13\": 1}, \"36\": {\"36\": 92}, \"16\": {\"16\": 96}, \"22\": {\"22\": 128}, \"44\": {\"44\": 132}, \"9\": {\"9\": 140}, \"57\": {\"57\": 100}, \"8\": {\"8\": 138}, \"23\": {\"23\": 132}, \"47\": {\"47\": 120}, \"43\": {\"43\": 138}, \"49\": {\"49\": 20}, \"3\": {\"3\": 121, \"50\": 3}, \"12\": {\"12\": 91, \"20\": 1}, \"38\": {\"38\": 40}, \"7\": {\"7\": 24}, \"14\": {\"14\": 16}, \"15\": {\"15\": 146}, \"25\": {\"25\": 128}, \"26\": {\"26\": 24}, \"21\": {\"21\": 132}, \"48\": {\"48\": 144}, \"56\": {\"56\": 134}, \"11\": {\"11\": 104}, \"2\": {\"2\": 36}, \"6\": {\"6\": 112}, \"55\": {\"55\": 140}, \"54\": {\"54\": 108}, \"29\": {\"29\": 124}, \"50\": {\"50\": 120, \"3\": 2}, \"52\": {\"52\": 116}, \"35\": {\"35\": 40}, \"4\": {\"4\": 120}, \"18\": {\"18\": 108}}, \"C_5\": {\"43\": {\"43\": 152}, \"35\": {\"35\": 36}, \"54\": {\"54\": 112}, \"22\": {\"22\": 28}, \"16\": {\"16\": 146}, \"5\": {\"5\": 128}, \"28\": {\"28\": 32}, \"14\": {\"14\": 44}, \"51\": {\"51\": 128}, \"19\": {\"19\": 140}, \"31\": {\"31\": 36}, \"10\": {\"10\": 68}, \"21\": {\"21\": 136}, \"3\": {\"3\": 100}, \"57\": {\"57\": 132}, \"9\": {\"9\": 146}, \"8\": {\"8\": 132}, \"46\": {\"46\": 140}, \"23\": {\"23\": 124}, \"37\": {\"37\": 24}, \"34\": {\"34\": 36}, \"4\": {\"4\": 100}, \"6\": {\"6\": 126, \"17\": 2}, \"48\": {\"48\": 136}, \"44\": {\"44\": 138}, \"40\": {\"40\": 124}, \"12\": {\"12\": 96}, \"30\": {\"30\": 128}, \"39\": {\"39\": 20}, \"45\": {\"45\": 123, \"17\": 1}, \"36\": {\"36\": 92}, \"27\": {\"27\": 140}, \"32\": {\"32\": 32}, \"52\": {\"52\": 130}, \"0\": {\"0\": 124}, \"26\": {\"26\": 24}, \"1\": {\"1\": 148}, \"53\": {\"53\": 146}, \"25\": {\"25\": 144}, \"24\": {\"24\": 78, \"43\": 2}, \"7\": {\"7\": 32}, \"18\": {\"18\": 64}, \"20\": {\"20\": 144}, \"33\": {\"33\": 32}, \"55\": {\"55\": 140}, \"41\": {\"41\": 28}, \"42\": {\"42\": 39, \"43\": 1}, \"49\": {\"49\": 36}, \"13\": {\"13\": 148}, \"38\": {\"38\": 32}, \"2\": {\"2\": 28}, \"47\": {\"47\": 100}, \"17\": {\"17\": 116}, \"11\": {\"11\": 154}, \"29\": {\"29\": 132}, \"50\": {\"50\": 135, \"20\": 2, \"25\": 1}, \"56\": {\"56\": 148}, \"15\": {\"15\": 142}}, \"C_2\": {\"49\": {\"49\": 24}, \"13\": {\"13\": 116}, \"37\": {\"37\": 36}, \"41\": {\"41\": 20}, \"15\": {\"15\": 142}, \"56\": {\"56\": 142}, \"14\": {\"14\": 24}, \"3\": {\"3\": 92}, \"38\": {\"38\": 20}, \"43\": {\"43\": 138}, \"33\": {\"33\": 28}, \"47\": {\"47\": 138}, \"30\": {\"30\": 144}, \"39\": {\"39\": 28}, \"12\": {\"12\": 92}, \"6\": {\"6\": 124}, \"51\": {\"51\": 134}, \"5\": {\"5\": 120}, \"34\": {\"34\": 28}, \"35\": {\"35\": 32}, \"0\": {\"0\": 48}, \"7\": {\"7\": 36}, \"24\": {\"24\": 96}, \"8\": {\"8\": 136}, \"20\": {\"20\": 124}, \"36\": {\"36\": 116}, \"42\": {\"42\": 36}, \"1\": {\"1\": 112}, \"4\": {\"4\": 148}, \"28\": {\"28\": 28}, \"50\": {\"50\": 136}, \"45\": {\"45\": 126, \"17\": 2}, \"18\": {\"18\": 48}, \"57\": {\"57\": 120}, \"46\": {\"46\": 128}, \"23\": {\"23\": 148}, \"27\": {\"27\": 138}, \"19\": {\"19\": 134}, \"22\": {\"22\": 136}, \"17\": {\"17\": 104}, \"55\": {\"55\": 136}, \"44\": {\"44\": 100}, \"26\": {\"26\": 24}, \"31\": {\"31\": 28}, \"16\": {\"16\": 130}, \"11\": {\"11\": 128}, \"25\": {\"25\": 126}, \"54\": {\"54\": 108}, \"32\": {\"32\": 28}, \"52\": {\"52\": 124}, \"40\": {\"40\": 132}, \"2\": {\"2\": 32}, \"10\": {\"10\": 110}, \"53\": {\"53\": 136}, \"9\": {\"9\": 150}, \"21\": {\"21\": 120}, \"48\": {\"48\": 138}, \"29\": {\"29\": 128}}, \"C_1\": {\"9\": {\"9\": 142}, \"25\": {\"25\": 128}, \"41\": {\"41\": 24}, \"29\": {\"29\": 140}, \"46\": {\"46\": 128}, \"4\": {\"4\": 132}, \"31\": {\"31\": 28}, \"36\": {\"36\": 64}, \"20\": {\"20\": 128}, \"7\": {\"7\": 28}, \"6\": {\"6\": 96}, \"16\": {\"16\": 138}, \"17\": {\"17\": 64}, \"50\": {\"50\": 148}, \"57\": {\"57\": 144}, \"23\": {\"23\": 136}, \"3\": {\"3\": 125, \"36\": 1}, \"53\": {\"53\": 140}, \"49\": {\"49\": 32}, \"56\": {\"56\": 152}, \"51\": {\"51\": 142}, \"26\": {\"26\": 24}, \"43\": {\"43\": 144}, \"22\": {\"22\": 136}, \"45\": {\"45\": 146}, \"13\": {\"13\": 152}, \"12\": {\"12\": 116}, \"54\": {\"54\": 104}, \"24\": {\"24\": 107, \"22\": 1}, \"44\": {\"44\": 136}, \"28\": {\"28\": 28}, \"33\": {\"33\": 32}, \"38\": {\"38\": 24}, \"0\": {\"0\": 144}, \"47\": {\"47\": 154}, \"42\": {\"42\": 40}, \"34\": {\"34\": 24}, \"48\": {\"48\": 142}, \"35\": {\"35\": 36}, \"2\": {\"2\": 36}, \"30\": {\"30\": 120}, \"18\": {\"18\": 72}, \"37\": {\"37\": 32}, \"1\": {\"1\": 100}, \"11\": {\"11\": 138}, \"55\": {\"55\": 130}, \"15\": {\"15\": 150}, \"10\": {\"10\": 96}, \"27\": {\"27\": 160}, \"19\": {\"19\": 146}, \"14\": {\"30\": 6, \"14\": 16, \"8\": 2}, \"8\": {\"8\": 140}, \"5\": {\"5\": 136}, \"39\": {\"39\": 28}, \"52\": {\"52\": 122}, \"21\": {\"21\": 124}, \"40\": {\"40\": 152}, \"32\": {\"32\": 32}}, \"C_3\": {\"56\": {\"56\": 120}, \"4\": {\"4\": 146}, \"34\": {\"34\": 32}, \"52\": {\"52\": 136}, \"32\": {\"32\": 28}, \"46\": {\"46\": 136}, \"12\": {\"12\": 90, \"51\": 2}, \"20\": {\"20\": 132}, \"54\": {\"54\": 100}, \"22\": {\"22\": 140}, \"26\": {\"26\": 24}, \"31\": {\"31\": 28}, \"10\": {\"10\": 64}, \"27\": {\"27\": 144}, \"40\": {\"40\": 136}, \"28\": {\"28\": 28}, \"5\": {\"5\": 115, \"16\": 1}, \"30\": {\"30\": 120}, \"7\": {\"7\": 36}, \"18\": {\"18\": 84}, \"39\": {\"39\": 16}, \"50\": {\"50\": 134, \"52\": 2}, \"49\": {\"49\": 20}, \"43\": {\"43\": 122}, \"29\": {\"29\": 114}, \"35\": {\"35\": 28}, \"13\": {\"13\": 124}, \"36\": {\"36\": 100}, \"11\": {\"11\": 146}, \"57\": {\"57\": 124}, \"9\": {\"9\": 130}, \"25\": {\"25\": 130}, \"16\": {\"16\": 126}, \"53\": {\"53\": 118}, \"33\": {\"33\": 28}, \"51\": {\"51\": 128}, \"44\": {\"44\": 88}, \"48\": {\"48\": 114}, \"6\": {\"6\": 86, \"52\": 2}, \"23\": {\"23\": 144}, \"1\": {\"1\": 100}, \"17\": {\"17\": 108}, \"21\": {\"21\": 122}, \"14\": {\"14\": 40}, \"55\": {\"55\": 144}, \"41\": {\"41\": 28}, \"3\": {\"3\": 138}, \"38\": {\"38\": 28}, \"2\": {\"2\": 32}, \"8\": {\"8\": 142}, \"37\": {\"37\": 28}, \"45\": {\"45\": 59, \"17\": 1}, \"42\": {\"42\": 28}, \"24\": {\"24\": 104}, \"15\": {\"15\": 136}, \"0\": {\"0\": 123, \"57\": 1}, \"47\": {\"47\": 92}, \"19\": {\"19\": 120}}, \"O_14\": {\"15\": {\"15\": 146, \"7\": 64, \"5\": 12, \"2\": 11, \"6\": 2, \"13\": 1, \"3\": 1, \"4\": 2, \"1\": 1}, \"5\": {\"1\": 52, \"2\": 34, \"5\": 45, \"4\": 35, \"3\": 9, \"7\": 16, \"13\": 4, \"6\": 11, \"8\": 5, \"15\": 12, \"14\": 16, \"10\": 1}, \"7\": {\"7\": 145, \"1\": 14, \"15\": 58, \"5\": 11, \"13\": 1, \"2\": 10, \"6\": 1}, \"4\": {\"10\": 8, \"3\": 40, \"4\": 54, \"0\": 3, \"14\": 21, \"1\": 20, \"2\": 21, \"5\": 33, \"8\": 15, \"6\": 12, \"7\": 3, \"13\": 6, \"15\": 4}, \"10\": {\"0\": 48, \"11\": 34, \"10\": 111, \"3\": 23, \"2\": 3, \"4\": 4, \"14\": 3, \"8\": 7, \"13\": 2, \"9\": 5}, \"11\": {\"9\": 22, \"11\": 137, \"14\": 1, \"0\": 44, \"12\": 9, \"10\": 24, \"5\": 1, \"3\": 1, \"2\": 1}, \"12\": {\"12\": 188, \"9\": 44, \"11\": 7, \"0\": 1}, \"0\": {\"0\": 67, \"10\": 57, \"11\": 43, \"3\": 22, \"2\": 4, \"8\": 23, \"4\": 7, \"9\": 11, \"14\": 5, \"13\": 1}, \"14\": {\"13\": 39, \"14\": 78, \"10\": 5, \"3\": 20, \"6\": 25, \"5\": 12, \"1\": 2, \"2\": 32, \"0\": 5, \"4\": 20, \"11\": 1, \"15\": 1}, \"8\": {\"8\": 179, \"10\": 3, \"4\": 6, \"3\": 7, \"9\": 3, \"1\": 15, \"5\": 5, \"0\": 21, \"13\": 1}, \"13\": {\"2\": 16, \"6\": 59, \"5\": 7, \"13\": 60, \"14\": 45, \"10\": 15, \"4\": 15, \"3\": 11, \"1\": 2, \"7\": 3, \"15\": 5, \"0\": 2}, \"6\": {\"14\": 47, \"2\": 41, \"3\": 9, \"13\": 65, \"6\": 51, \"1\": 6, \"10\": 2, \"5\": 9, \"4\": 8, \"15\": 1, \"0\": 1}, \"1\": {\"2\": 7, \"4\": 28, \"1\": 114, \"5\": 35, \"15\": 8, \"6\": 1, \"3\": 15, \"8\": 14, \"7\": 16, \"13\": 2}, \"3\": {\"3\": 58, \"4\": 46, \"14\": 30, \"1\": 11, \"0\": 19, \"2\": 17, \"10\": 18, \"5\": 10, \"8\": 14, \"13\": 8, \"6\": 9}, \"9\": {\"0\": 15, \"9\": 140, \"11\": 43, \"12\": 31, \"8\": 8, \"10\": 2, \"4\": 1}, \"2\": {\"5\": 43, \"3\": 18, \"4\": 27, \"2\": 50, \"1\": 7, \"6\": 34, \"13\": 18, \"15\": 5, \"14\": 28, \"7\": 6, \"0\": 3, \"10\": 1}}, \"O_20\": {\"4\": {\"7\": 11, \"8\": 27, \"5\": 22, \"3\": 18, \"9\": 9, \"4\": 44, \"2\": 12, \"10\": 24, \"0\": 11, \"14\": 25, \"15\": 7, \"1\": 7, \"12\": 15, \"6\": 8}, \"10\": {\"2\": 11, \"4\": 37, \"3\": 19, \"14\": 24, \"5\": 4, \"10\": 65, \"6\": 17, \"9\": 16, \"12\": 4, \"8\": 21, \"7\": 18, \"1\": 3, \"11\": 1}, \"15\": {\"15\": 31, \"5\": 21, \"12\": 25, \"2\": 12, \"0\": 28, \"1\": 35, \"7\": 5, \"13\": 29, \"11\": 4, \"10\": 3, \"3\": 22, \"4\": 6, \"9\": 15, \"8\": 3, \"6\": 1}, \"0\": {\"0\": 47, \"15\": 32, \"7\": 12, \"5\": 31, \"1\": 27, \"12\": 11, \"9\": 16, \"8\": 13, \"4\": 15, \"3\": 16, \"13\": 8, \"2\": 8, \"14\": 2, \"10\": 2}, \"6\": {\"2\": 8, \"6\": 85, \"14\": 45, \"8\": 23, \"11\": 24, \"13\": 3, \"9\": 4, \"3\": 5, \"7\": 16, \"4\": 7, \"10\": 19, \"12\": 1}, \"3\": {\"7\": 20, \"12\": 21, \"5\": 19, \"15\": 10, \"2\": 27, \"0\": 15, \"3\": 26, \"4\": 24, \"1\": 21, \"9\": 24, \"6\": 3, \"13\": 8, \"8\": 12, \"10\": 8, \"14\": 1, \"11\": 1}, \"7\": {\"2\": 23, \"4\": 21, \"7\": 35, \"11\": 17, \"14\": 11, \"10\": 17, \"8\": 21, \"6\": 14, \"9\": 21, \"13\": 17, \"12\": 9, \"15\": 5, \"0\": 11, \"3\": 11, \"5\": 3, \"1\": 4}, \"2\": {\"4\": 11, \"12\": 24, \"2\": 31, \"9\": 28, \"0\": 10, \"13\": 21, \"15\": 9, \"1\": 15, \"7\": 32, \"5\": 9, \"3\": 19, \"10\": 8, \"8\": 10, \"11\": 6, \"14\": 1, \"6\": 6}, \"8\": {\"8\": 40, \"4\": 31, \"6\": 24, \"7\": 24, \"14\": 24, \"10\": 24, \"2\": 11, \"9\": 7, \"0\": 10, \"3\": 13, \"12\": 10, \"5\": 14, \"1\": 2, \"13\": 3, \"11\": 2, \"15\": 1}, \"11\": {\"11\": 171, \"13\": 12, \"2\": 3, \"7\": 10, \"6\": 27, \"8\": 1, \"3\": 2, \"15\": 3, \"14\": 5, \"4\": 2, \"5\": 1, \"10\": 2, \"12\": 1}, \"14\": {\"6\": 44, \"8\": 34, \"10\": 41, \"13\": 4, \"14\": 62, \"7\": 14, \"4\": 15, \"5\": 2, \"2\": 3, \"0\": 3, \"11\": 7, \"9\": 5, \"3\": 5, \"12\": 1}, \"12\": {\"2\": 26, \"12\": 34, \"5\": 27, \"9\": 18, \"15\": 21, \"13\": 19, \"1\": 30, \"0\": 21, \"7\": 14, \"3\": 17, \"4\": 8, \"10\": 4, \"8\": 1}, \"13\": {\"13\": 73, \"9\": 18, \"15\": 26, \"2\": 21, \"1\": 16, \"11\": 19, \"5\": 5, \"7\": 13, \"3\": 11, \"4\": 5, \"12\": 18, \"0\": 7, \"10\": 2, \"8\": 2, \"6\": 4}, \"9\": {\"3\": 16, \"10\": 7, \"7\": 22, \"13\": 29, \"5\": 10, \"9\": 28, \"4\": 12, \"1\": 13, \"2\": 30, \"14\": 4, \"0\": 6, \"15\": 16, \"12\": 26, \"6\": 5, \"11\": 4, \"8\": 12}, \"5\": {\"15\": 31, \"5\": 39, \"8\": 12, \"2\": 12, \"0\": 36, \"13\": 8, \"12\": 21, \"3\": 16, \"1\": 28, \"4\": 16, \"9\": 12, \"10\": 2, \"7\": 6, \"6\": 1}, \"1\": {\"13\": 13, \"15\": 28, \"0\": 28, \"12\": 39, \"9\": 26, \"5\": 26, \"1\": 33, \"10\": 1, \"2\": 14, \"3\": 24, \"4\": 5, \"7\": 2, \"6\": 1}}, \"O_50\": {\"5\": {\"5\": 48, \"7\": 48, \"6\": 19, \"13\": 50, \"4\": 17, \"10\": 21, \"2\": 3, \"11\": 2, \"1\": 13, \"0\": 13, \"15\": 5, \"8\": 1}, \"12\": {\"12\": 155, \"14\": 33, \"9\": 43, \"11\": 9}, \"14\": {\"14\": 128, \"2\": 12, \"12\": 57, \"11\": 25, \"15\": 4, \"9\": 8, \"1\": 5, \"6\": 1}, \"4\": {\"13\": 11, \"4\": 53, \"15\": 37, \"1\": 50, \"12\": 1, \"2\": 4, \"5\": 30, \"7\": 11, \"10\": 2, \"6\": 31, \"14\": 4, \"0\": 5, \"11\": 1}, \"13\": {\"10\": 23, \"13\": 65, \"7\": 57, \"5\": 45, \"6\": 26, \"4\": 18, \"1\": 4, \"2\": 1, \"0\": 1}, \"10\": {\"7\": 22, \"8\": 39, \"13\": 17, \"10\": 115, \"0\": 26, \"2\": 9, \"5\": 8, \"3\": 3, \"1\": 1}, \"9\": {\"9\": 96, \"15\": 4, \"14\": 22, \"11\": 66, \"12\": 50, \"1\": 1, \"4\": 1}, \"15\": {\"11\": 27, \"13\": 1, \"15\": 95, \"1\": 48, \"9\": 4, \"6\": 21, \"4\": 32, \"5\": 3, \"14\": 6, \"2\": 1, \"0\": 2}, \"6\": {\"15\": 27, \"13\": 27, \"5\": 18, \"6\": 70, \"2\": 7, \"4\": 34, \"1\": 32, \"7\": 10, \"14\": 4, \"0\": 5, \"10\": 4, \"11\": 2}, \"2\": {\"2\": 155, \"0\": 64, \"5\": 2, \"1\": 6, \"13\": 2, \"15\": 1, \"14\": 2, \"11\": 1, \"10\": 5, \"6\": 2}, \"0\": {\"2\": 61, \"0\": 122, \"10\": 29, \"4\": 2, \"5\": 6, \"13\": 7, \"6\": 4, \"8\": 4, \"1\": 2, \"7\": 2, \"14\": 1}, \"11\": {\"9\": 44, \"11\": 100, \"14\": 33, \"12\": 13, \"15\": 29, \"1\": 14, \"4\": 3, \"2\": 2, \"6\": 2}, \"3\": {\"8\": 47, \"3\": 191, \"7\": 2}, \"8\": {\"8\": 168, \"10\": 22, \"3\": 42, \"5\": 1, \"0\": 6, \"7\": 1}, \"7\": {\"13\": 55, \"6\": 16, \"7\": 87, \"3\": 1, \"4\": 4, \"5\": 38, \"10\": 28, \"0\": 5, \"8\": 3, \"1\": 3}, \"1\": {\"15\": 37, \"1\": 63, \"2\": 12, \"11\": 14, \"14\": 8, \"6\": 37, \"4\": 40, \"5\": 13, \"13\": 7, \"0\": 6, \"10\": 1, \"12\": 1, \"7\": 1}}, \"O_26\": {\"7\": {\"7\": 30, \"0\": 6, \"1\": 20, \"2\": 28, \"14\": 15, \"3\": 42, \"5\": 22, \"8\": 16, \"15\": 15, \"6\": 8, \"9\": 12, \"4\": 14, \"10\": 10, \"13\": 2}, \"6\": {\"8\": 24, \"6\": 49, \"1\": 6, \"4\": 10, \"0\": 16, \"7\": 3, \"14\": 21, \"13\": 20, \"3\": 3, \"15\": 16, \"2\": 4, \"9\": 30, \"10\": 20, \"12\": 4, \"5\": 14}, \"14\": {\"4\": 39, \"2\": 12, \"6\": 9, \"1\": 40, \"15\": 4, \"8\": 14, \"0\": 27, \"14\": 26, \"10\": 21, \"7\": 15, \"9\": 15, \"5\": 7, \"3\": 9, \"13\": 2}, \"15\": {\"15\": 32, \"8\": 19, \"5\": 33, \"7\": 15, \"4\": 6, \"0\": 15, \"14\": 6, \"13\": 17, \"9\": 17, \"6\": 21, \"10\": 18, \"2\": 22, \"3\": 13, \"1\": 6}, \"5\": {\"15\": 22, \"6\": 12, \"5\": 57, \"13\": 62, \"2\": 14, \"3\": 14, \"7\": 14, \"9\": 12, \"10\": 6, \"8\": 13, \"14\": 7, \"1\": 3, \"4\": 2, \"0\": 2}, \"10\": {\"6\": 28, \"10\": 34, \"1\": 22, \"4\": 23, \"14\": 29, \"9\": 15, \"15\": 5, \"7\": 5, \"13\": 5, \"8\": 23, \"0\": 29, \"5\": 9, \"3\": 5, \"2\": 8}, \"4\": {\"3\": 15, \"4\": 31, \"14\": 27, \"1\": 33, \"9\": 16, \"10\": 27, \"0\": 25, \"5\": 6, \"7\": 24, \"2\": 12, \"6\": 8, \"8\": 11, \"13\": 2, \"15\": 3}, \"11\": {\"11\": 216, \"12\": 22, \"6\": 1, \"13\": 1}, \"13\": {\"13\": 75, \"1\": 2, \"5\": 50, \"10\": 8, \"7\": 3, \"2\": 15, \"15\": 25, \"9\": 18, \"3\": 5, \"0\": 4, \"6\": 22, \"4\": 2, \"14\": 2, \"11\": 1, \"12\": 2, \"8\": 6}, \"2\": {\"5\": 32, \"13\": 12, \"2\": 48, \"7\": 32, \"3\": 54, \"4\": 7, \"9\": 10, \"10\": 6, \"1\": 5, \"0\": 2, \"6\": 10, \"8\": 7, \"15\": 11, \"14\": 3, \"12\": 1}, \"0\": {\"8\": 23, \"6\": 25, \"9\": 11, \"4\": 22, \"10\": 39, \"0\": 20, \"14\": 22, \"1\": 19, \"7\": 18, \"5\": 9, \"2\": 12, \"3\": 7, \"13\": 6, \"15\": 7}, \"12\": {\"12\": 205, \"11\": 20, \"9\": 1, \"6\": 8, \"10\": 2, \"14\": 1, \"8\": 1, \"0\": 1, \"13\": 1}, \"3\": {\"3\": 69, \"2\": 49, \"15\": 7, \"1\": 9, \"7\": 29, \"5\": 11, \"0\": 11, \"4\": 13, \"10\": 5, \"13\": 8, \"8\": 13, \"6\": 2, \"9\": 6, \"14\": 8}, \"9\": {\"8\": 17, \"9\": 32, \"3\": 9, \"14\": 13, \"6\": 34, \"15\": 23, \"4\": 6, \"1\": 6, \"13\": 18, \"2\": 12, \"0\": 22, \"7\": 17, \"5\": 20, \"10\": 11}, \"8\": {\"14\": 18, \"9\": 21, \"8\": 21, \"1\": 14, \"10\": 21, \"2\": 14, \"13\": 17, \"5\": 11, \"0\": 22, \"7\": 19, \"4\": 18, \"15\": 13, \"6\": 19, \"3\": 12}, \"1\": {\"1\": 53, \"4\": 38, \"14\": 38, \"10\": 21, \"6\": 7, \"5\": 6, \"3\": 15, \"8\": 13, \"2\": 7, \"7\": 17, \"0\": 15, \"9\": 5, \"13\": 1, \"15\": 4}}, \"O_32\": {\"7\": {\"0\": 11, \"14\": 40, \"2\": 19, \"4\": 33, \"7\": 45, \"11\": 26, \"5\": 21, \"13\": 28, \"3\": 5, \"8\": 12}, \"2\": {\"2\": 106, \"0\": 37, \"5\": 5, \"4\": 42, \"13\": 7, \"8\": 11, \"7\": 18, \"9\": 4, \"14\": 8, \"11\": 2}, \"5\": {\"5\": 41, \"13\": 32, \"3\": 31, \"8\": 35, \"4\": 28, \"0\": 15, \"7\": 22, \"14\": 12, \"2\": 12, \"11\": 9, \"15\": 3}, \"6\": {\"6\": 224, \"10\": 4, \"12\": 10, \"1\": 2}, \"13\": {\"13\": 46, \"11\": 16, \"5\": 43, \"8\": 32, \"4\": 18, \"2\": 8, \"3\": 25, \"7\": 22, \"14\": 15, \"0\": 15}, \"4\": {\"8\": 15, \"7\": 21, \"0\": 25, \"11\": 2, \"4\": 51, \"5\": 28, \"2\": 59, \"13\": 30, \"14\": 9}, \"3\": {\"11\": 22, \"5\": 25, \"3\": 147, \"14\": 6, \"8\": 10, \"7\": 10, \"13\": 17, \"15\": 3}, \"0\": {\"0\": 80, \"8\": 39, \"5\": 7, \"11\": 7, \"14\": 16, \"13\": 13, \"7\": 13, \"2\": 37, \"4\": 23, \"15\": 1, \"3\": 3, \"9\": 1}, \"9\": {\"9\": 217, \"12\": 20, \"0\": 3}, \"12\": {\"12\": 214, \"9\": 9, \"6\": 16, \"10\": 1}, \"8\": {\"4\": 16, \"5\": 26, \"0\": 33, \"8\": 89, \"13\": 24, \"3\": 5, \"11\": 7, \"7\": 13, \"14\": 14, \"15\": 11, \"2\": 2}, \"14\": {\"0\": 17, \"14\": 58, \"2\": 10, \"5\": 16, \"7\": 31, \"8\": 15, \"11\": 62, \"3\": 10, \"4\": 9, \"13\": 12}, \"15\": {\"15\": 210, \"5\": 2, \"8\": 16, \"3\": 10, \"13\": 2}, \"11\": {\"11\": 104, \"14\": 57, \"7\": 32, \"5\": 8, \"3\": 11, \"2\": 2, \"13\": 17, \"0\": 5, \"8\": 4}, \"10\": {\"10\": 196, \"1\": 37, \"6\": 5, \"12\": 2}, \"1\": {\"1\": 195, \"10\": 45}}, \"O_44\": {\"11\": {\"11\": 161, \"13\": 38, \"6\": 21, \"4\": 2, \"9\": 12, \"7\": 4, \"14\": 1, \"2\": 1}, \"7\": {\"13\": 14, \"2\": 55, \"6\": 29, \"10\": 9, \"9\": 39, \"7\": 71, \"3\": 10, \"1\": 8, \"12\": 3, \"11\": 1, \"4\": 1}, \"6\": {\"13\": 51, \"6\": 105, \"7\": 28, \"11\": 12, \"9\": 34, \"1\": 1, \"2\": 8, \"4\": 1}, \"12\": {\"12\": 111, \"1\": 59, \"10\": 35, \"2\": 9, \"3\": 23, \"7\": 2, \"9\": 1}, \"4\": {\"14\": 68, \"4\": 126, \"15\": 20, \"8\": 1, \"9\": 2, \"5\": 8, \"13\": 11, \"0\": 2, \"11\": 1, \"6\": 1}, \"13\": {\"9\": 49, \"13\": 82, \"6\": 59, \"7\": 10, \"11\": 33, \"4\": 4, \"14\": 2, \"2\": 1}, \"8\": {\"5\": 32, \"8\": 119, \"0\": 55, \"15\": 29, \"14\": 4, \"4\": 1}, \"5\": {\"5\": 122, \"0\": 58, \"14\": 13, \"4\": 13, \"8\": 13, \"15\": 21}, \"14\": {\"14\": 86, \"4\": 70, \"0\": 9, \"5\": 24, \"15\": 41, \"13\": 3, \"9\": 3, \"8\": 4}, \"3\": {\"2\": 11, \"3\": 149, \"1\": 39, \"10\": 7, \"12\": 22, \"7\": 10, \"9\": 2}, \"10\": {\"10\": 99, \"7\": 16, \"1\": 36, \"12\": 51, \"2\": 31, \"9\": 2, \"3\": 4, \"6\": 1}, \"1\": {\"12\": 65, \"2\": 21, \"1\": 69, \"10\": 39, \"3\": 39, \"9\": 1, \"7\": 6}, \"2\": {\"2\": 105, \"10\": 30, \"3\": 10, \"1\": 17, \"7\": 51, \"6\": 4, \"9\": 15, \"13\": 4, \"12\": 4}, \"15\": {\"14\": 40, \"15\": 98, \"8\": 26, \"0\": 34, \"5\": 25, \"4\": 17}, \"9\": {\"7\": 43, \"2\": 24, \"6\": 43, \"9\": 80, \"13\": 42, \"11\": 3, \"4\": 1, \"14\": 2, \"3\": 2}, \"0\": {\"8\": 69, \"5\": 52, \"15\": 40, \"0\": 64, \"4\": 3, \"14\": 12}}, \"O_8\": {\"10\": {\"5\": 30, \"13\": 37, \"0\": 19, \"4\": 18, \"10\": 40, \"7\": 7, \"14\": 36, \"6\": 13, \"1\": 29, \"11\": 8, \"8\": 3}, \"6\": {\"10\": 17, \"8\": 23, \"2\": 7, \"0\": 37, \"7\": 27, \"4\": 33, \"6\": 29, \"12\": 3, \"14\": 13, \"1\": 7, \"13\": 27, \"3\": 4, \"15\": 7, \"11\": 5, \"5\": 1}, \"13\": {\"0\": 41, \"11\": 5, \"14\": 19, \"13\": 48, \"7\": 16, \"10\": 36, \"4\": 31, \"1\": 7, \"8\": 4, \"6\": 18, \"5\": 11, \"2\": 3, \"15\": 1}, \"3\": {\"3\": 72, \"12\": 48, \"2\": 76, \"15\": 32, \"4\": 1, \"7\": 3, \"8\": 6, \"0\": 2}, \"9\": {\"9\": 232, \"5\": 7, \"10\": 1}, \"1\": {\"6\": 2, \"14\": 32, \"1\": 61, \"11\": 60, \"5\": 34, \"4\": 12, \"10\": 19, \"8\": 10, \"0\": 2, \"13\": 4, \"7\": 3, \"15\": 1}, \"5\": {\"5\": 101, \"1\": 39, \"14\": 23, \"0\": 5, \"6\": 4, \"4\": 7, \"13\": 14, \"11\": 18, \"10\": 24, \"9\": 4, \"8\": 1}, \"11\": {\"1\": 64, \"5\": 22, \"11\": 91, \"4\": 9, \"6\": 6, \"14\": 17, \"15\": 4, \"8\": 15, \"0\": 2, \"10\": 8, \"12\": 1, \"13\": 1}, \"4\": {\"6\": 24, \"0\": 30, \"7\": 17, \"4\": 30, \"11\": 11, \"15\": 3, \"14\": 33, \"10\": 27, \"1\": 15, \"13\": 32, \"5\": 8, \"2\": 1, \"8\": 8, \"12\": 1}, \"14\": {\"10\": 40, \"11\": 24, \"4\": 27, \"0\": 19, \"7\": 9, \"6\": 15, \"8\": 8, \"5\": 19, \"13\": 21, \"14\": 29, \"1\": 28, \"2\": 1}, \"12\": {\"12\": 69, \"8\": 23, \"2\": 30, \"3\": 44, \"15\": 57, \"7\": 8, \"13\": 1, \"4\": 1, \"0\": 2, \"6\": 5}, \"7\": {\"14\": 10, \"6\": 29, \"2\": 17, \"0\": 31, \"7\": 48, \"13\": 30, \"3\": 7, \"8\": 21, \"11\": 2, \"4\": 19, \"15\": 17, \"1\": 4, \"12\": 3, \"10\": 2}, \"0\": {\"4\": 37, \"11\": 1, \"14\": 18, \"7\": 28, \"1\": 7, \"3\": 1, \"6\": 27, \"8\": 4, \"0\": 53, \"13\": 33, \"2\": 8, \"10\": 16, \"5\": 4, \"12\": 3}, \"15\": {\"3\": 23, \"15\": 63, \"12\": 51, \"2\": 27, \"8\": 37, \"7\": 18, \"6\": 5, \"1\": 1, \"0\": 6, \"13\": 1, \"4\": 4, \"11\": 3, \"14\": 1}, \"2\": {\"2\": 91, \"13\": 3, \"3\": 72, \"7\": 7, \"15\": 28, \"12\": 20, \"8\": 4, \"4\": 2, \"0\": 9, \"6\": 4}, \"8\": {\"7\": 22, \"11\": 16, \"8\": 78, \"6\": 22, \"1\": 14, \"15\": 28, \"14\": 4, \"0\": 3, \"4\": 16, \"12\": 22, \"13\": 4, \"10\": 3, \"2\": 4, \"3\": 4}}, \"O_38\": {\"4\": {\"4\": 184, \"12\": 52, \"0\": 1, \"5\": 1, \"7\": 1, \"8\": 1}, \"7\": {\"0\": 52, \"8\": 21, \"7\": 102, \"4\": 6, \"5\": 34, \"9\": 9, \"12\": 1, \"6\": 4, \"3\": 5, \"10\": 4, \"1\": 1, \"13\": 1}, \"12\": {\"12\": 186, \"4\": 41, \"11\": 3, \"0\": 2, \"15\": 1, \"10\": 6, \"7\": 1}, \"10\": {\"10\": 96, \"5\": 10, \"14\": 10, \"11\": 10, \"15\": 20, \"13\": 26, \"8\": 19, \"2\": 19, \"7\": 7, \"12\": 10, \"4\": 2, \"0\": 7, \"1\": 4}, \"0\": {\"0\": 69, \"3\": 18, \"7\": 46, \"12\": 7, \"8\": 37, \"5\": 29, \"6\": 6, \"9\": 6, \"10\": 8, \"15\": 4, \"1\": 4, \"4\": 4, \"11\": 1, \"13\": 1}, \"1\": {\"15\": 34, \"1\": 134, \"8\": 14, \"6\": 13, \"13\": 22, \"5\": 13, \"9\": 7, \"10\": 3}, \"5\": {\"0\": 22, \"1\": 21, \"5\": 49, \"7\": 23, \"3\": 4, \"15\": 10, \"6\": 34, \"8\": 47, \"9\": 15, \"13\": 9, \"10\": 6}, \"15\": {\"13\": 51, \"15\": 58, \"1\": 52, \"10\": 24, \"5\": 16, \"8\": 17, \"0\": 1, \"7\": 3, \"2\": 9, \"14\": 4, \"11\": 2, \"6\": 2, \"9\": 1}, \"9\": {\"6\": 76, \"9\": 102, \"3\": 38, \"5\": 9, \"0\": 4, \"7\": 3, \"8\": 5, \"1\": 3}, \"11\": {\"11\": 104, \"12\": 9, \"14\": 96, \"2\": 21, \"10\": 6, \"4\": 2, \"13\": 2}, \"14\": {\"11\": 72, \"10\": 12, \"14\": 121, \"2\": 32, \"15\": 2, \"13\": 1}, \"6\": {\"6\": 120, \"9\": 77, \"1\": 5, \"5\": 16, \"8\": 6, \"3\": 8, \"0\": 3, \"15\": 1, \"13\": 1, \"7\": 3}, \"8\": {\"0\": 34, \"8\": 67, \"12\": 4, \"10\": 19, \"13\": 11, \"15\": 19, \"1\": 10, \"5\": 43, \"7\": 27, \"6\": 3, \"9\": 3}, \"3\": {\"6\": 17, \"3\": 151, \"7\": 14, \"9\": 37, \"0\": 18, \"5\": 1, \"8\": 1, \"4\": 1}, \"2\": {\"2\": 147, \"15\": 7, \"14\": 27, \"13\": 28, \"11\": 18, \"1\": 3, \"10\": 10}, \"13\": {\"13\": 84, \"0\": 3, \"1\": 28, \"2\": 25, \"15\": 56, \"8\": 9, \"10\": 19, \"11\": 3, \"5\": 8, \"14\": 5}}}, \"per_domain_accuracy\": {\"C_4\": {\"accuracy\": 0.9979416167664671, \"source?\": true}, \"C_5\": {\"accuracy\": 0.9984287709497207, \"source?\": true}, \"C_2\": {\"accuracy\": 0.9996428571428572, \"source?\": true}, \"C_1\": {\"accuracy\": 0.9983016304347826, \"source?\": true}, \"C_3\": {\"accuracy\": 0.9983455882352941, \"source?\": true}, \"O_14\": {\"accuracy\": 0.42265625, \"source?\": false}, \"O_20\": {\"accuracy\": 0.21979166666666666, \"source?\": false}, \"O_50\": {\"accuracy\": 0.44557291666666665, \"source?\": false}, \"O_26\": {\"accuracy\": 0.2598958333333333, \"source?\": false}, \"O_32\": {\"accuracy\": 0.5268229166666667, \"source?\": false}, \"O_44\": {\"accuracy\": 0.42890625, \"source?\": false}, \"O_8\": {\"accuracy\": 0.2955729166666667, \"source?\": false}, \"O_38\": {\"accuracy\": 0.46197916666666666, \"source?\": false}}}, \"history\": {\"epoch_indices\": [1, 2, 3, 4, 5, 6, 7, 8, 9], \"train_label_loss\": [0.05206091151411987, 0.013876811182197794, 0.009151502513921918, 0.005069656124176434, 0.004628864800203195, 0.003202314493659626, 0.002912392699304374, 0.0026536238496235815, 0.01824839304781048], \"source_val_label_loss\": [0.12554126977920532, 0.04496721550822258, 0.02157656103372574, 0.008042988367378712, 0.00972440093755722, 0.009258206933736801, 0.008296884596347809, 0.006662436760962009, 0.0066529568284749985], \"target_val_label_loss\": [2.1517748832702637, 2.0389013290405273, 2.0565428733825684, 1.9651793241500854, 1.9803224802017212, 2.15432071685791, 1.9955707788467407, 2.1530489921569824, 2.0629820823669434], \"source_val_acc_label\": [0.9899285714285714, 0.9979285714285714, 0.9976428571428572, 0.9985714285714286, 0.9985357142857143, 0.9987142857142857, 0.9988571428571429, 0.9993571428571428, 0.9991785714285715], \"target_val_acc_label\": [0.29729817708333334, 0.33736979166666664, 0.3361328125, 0.3616861979166667, 0.3826497395833333, 0.3450846354166667, 0.3787434895833333, 0.35699869791666666, 0.36328125]}, \"dataset_metrics\": {\"source\": {\"train\": {\"n_unique_x\": 175160, \"n_unique_y\": 58, \"n_batch/episode\": 6306}, \"val\": {\"n_unique_x\": 37216, \"n_unique_y\": 58, \"n_batch/episode\": 875}, \"test\": {\"n_unique_x\": 37596, \"n_unique_y\": 58, \"n_batch/episode\": 886}}, \"target\": {\"train\": {\"n_unique_x\": 179200, \"n_unique_y\": 16, \"n_batch/episode\": 6720}, \"val\": {\"n_unique_x\": 38400, \"n_unique_y\": 16, \"n_batch/episode\": 960}, \"test\": {\"n_unique_x\": 38400, \"n_unique_y\": 16, \"n_batch/episode\": 960}}}}'"
      ]
     },
     "execution_count": 29,
     "metadata": {},
     "output_type": "execute_result"
    }
   ],
   "source": [
    "json.dumps(experiment)"
   ]
  }
 ],
 "metadata": {
  "celltoolbar": "Tags",
  "kernelspec": {
   "display_name": "Python 3 (ipykernel)",
   "language": "python",
   "name": "python3"
  },
  "language_info": {
   "codemirror_mode": {
    "name": "ipython",
    "version": 3
   },
   "file_extension": ".py",
   "mimetype": "text/x-python",
   "name": "python",
   "nbconvert_exporter": "python",
   "pygments_lexer": "ipython3",
   "version": "3.8.12"
  },
  "papermill": {
   "default_parameters": {},
   "duration": 1594.736286,
   "end_time": "2022-03-28T07:20:45.842057",
   "environment_variables": {},
   "exception": null,
   "input_path": "/root/csc500-main/csc500-notebooks/templates/tl_ptn_template.ipynb",
   "output_path": "trial.ipynb",
   "parameters": {
    "parameters": {
     "BEST_MODEL_PATH": "./best_model.pth",
     "NUM_LOGS_PER_EPOCH": 10,
     "criteria_for_best": "target_accuracy",
     "dataset_seed": 420,
     "datasets": [
      {
       "domain_prefix": "C_",
       "domains": [
        1,
        2,
        3,
        4,
        5
       ],
       "episode_transforms": [],
       "labels": [
        "1-10.",
        "1-11.",
        "1-15.",
        "1-16.",
        "1-17.",
        "1-18.",
        "1-19.",
        "10-4.",
        "10-7.",
        "11-1.",
        "11-14.",
        "11-17.",
        "11-20.",
        "11-7.",
        "13-20.",
        "13-8.",
        "14-10.",
        "14-11.",
        "14-14.",
        "14-7.",
        "15-1.",
        "15-20.",
        "16-1.",
        "16-16.",
        "17-10.",
        "17-11.",
        "17-2.",
        "19-1.",
        "19-16.",
        "19-19.",
        "19-20.",
        "19-3.",
        "2-10.",
        "2-11.",
        "2-17.",
        "2-18.",
        "2-20.",
        "2-3.",
        "2-4.",
        "2-5.",
        "2-6.",
        "2-7.",
        "2-8.",
        "3-13.",
        "3-18.",
        "3-3.",
        "4-1.",
        "4-10.",
        "4-11.",
        "4-19.",
        "5-5.",
        "6-15.",
        "7-10.",
        "7-14.",
        "8-18.",
        "8-20.",
        "8-3.",
        "8-8."
       ],
       "num_examples_per_domain_per_label": -1,
       "pickle_path": "/root/csc500-main/datasets/cores.stratified_ds.2022A.pkl",
       "source_or_target_dataset": "source",
       "x_transforms": [
        "unit_power",
        "jitter_256_10",
        "lowpass_+/-10MHz",
        "take_200"
       ]
      },
      {
       "domain_prefix": "O_",
       "domains": [
        32,
        38,
        8,
        44,
        14,
        50,
        20,
        26
       ],
       "episode_transforms": [],
       "labels": [
        "3123D52",
        "3123D65",
        "3123D79",
        "3123D80",
        "3123D54",
        "3123D70",
        "3123D7B",
        "3123D89",
        "3123D58",
        "3123D76",
        "3123D7D",
        "3123EFE",
        "3123D64",
        "3123D78",
        "3123D7E",
        "3124E4A"
       ],
       "num_examples_per_domain_per_label": 2000,
       "pickle_path": "/root/csc500-main/datasets/oracle.Run1_framed_2000Examples_stratified_ds.2022A.pkl",
       "source_or_target_dataset": "target",
       "x_transforms": [
        "unit_power",
        "jitter_256_10",
        "take_200",
        "resample_20Msps_to_25Msps"
       ]
      }
     ],
     "device": "cuda",
     "experiment_name": "tl_3-jitter10v2:cores -> oracle.run1.framed",
     "lr": 0.0001,
     "n_epoch": 50,
     "n_query": 2,
     "n_shot": 3,
     "n_way": 16,
     "patience": 3,
     "seed": 420,
     "test_k_factor": 2,
     "torch_default_dtype": "torch.float32",
     "train_k_factor": 3,
     "val_k_factor": 2,
     "x_net": [
      {
       "class": "nnReshape",
       "kargs": {
        "shape": [
         -1,
         1,
         2,
         256
        ]
       }
      },
      {
       "class": "Conv2d",
       "kargs": {
        "bias": false,
        "in_channels": 1,
        "kernel_size": [
         1,
         7
        ],
        "out_channels": 256,
        "padding": [
         0,
         3
        ]
       }
      },
      {
       "class": "ReLU",
       "kargs": {
        "inplace": true
       }
      },
      {
       "class": "BatchNorm2d",
       "kargs": {
        "num_features": 256
       }
      },
      {
       "class": "Conv2d",
       "kargs": {
        "bias": true,
        "in_channels": 256,
        "kernel_size": [
         2,
         7
        ],
        "out_channels": 80,
        "padding": [
         0,
         3
        ]
       }
      },
      {
       "class": "ReLU",
       "kargs": {
        "inplace": true
       }
      },
      {
       "class": "BatchNorm2d",
       "kargs": {
        "num_features": 80
       }
      },
      {
       "class": "Flatten",
       "kargs": {}
      },
      {
       "class": "Linear",
       "kargs": {
        "in_features": 20480,
        "out_features": 256
       }
      },
      {
       "class": "ReLU",
       "kargs": {
        "inplace": true
       }
      },
      {
       "class": "BatchNorm1d",
       "kargs": {
        "num_features": 256
       }
      },
      {
       "class": "Linear",
       "kargs": {
        "in_features": 256,
        "out_features": 256
       }
      }
     ],
     "x_shape": [
      2,
      256
     ]
    }
   },
   "start_time": "2022-03-28T06:54:11.105771",
   "version": "2.3.4"
  }
 },
 "nbformat": 4,
 "nbformat_minor": 5
}