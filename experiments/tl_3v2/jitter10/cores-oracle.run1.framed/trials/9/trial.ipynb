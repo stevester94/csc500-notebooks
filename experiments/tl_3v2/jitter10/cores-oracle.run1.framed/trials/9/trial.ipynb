{
 "cells": [
  {
   "cell_type": "markdown",
   "id": "9fea5f46",
   "metadata": {
    "papermill": {
     "duration": 0.029411,
     "end_time": "2022-03-28T08:06:38.702532",
     "exception": false,
     "start_time": "2022-03-28T08:06:38.673121",
     "status": "completed"
    },
    "tags": []
   },
   "source": [
    "# Transfer Learning Template"
   ]
  },
  {
   "cell_type": "code",
   "execution_count": 1,
   "id": "0902182a",
   "metadata": {
    "execution": {
     "iopub.execute_input": "2022-03-28T08:06:38.769618Z",
     "iopub.status.busy": "2022-03-28T08:06:38.763987Z",
     "iopub.status.idle": "2022-03-28T08:06:40.620617Z",
     "shell.execute_reply": "2022-03-28T08:06:40.620938Z"
    },
    "papermill": {
     "duration": 1.889633,
     "end_time": "2022-03-28T08:06:40.621155",
     "exception": false,
     "start_time": "2022-03-28T08:06:38.731522",
     "status": "completed"
    },
    "tags": []
   },
   "outputs": [],
   "source": [
    "%load_ext autoreload\n",
    "%autoreload 2\n",
    "%matplotlib inline\n",
    "\n",
    "    \n",
    "import os, json, sys, time, random\n",
    "import numpy as np\n",
    "import torch\n",
    "from torch.optim import Adam\n",
    "from  easydict import EasyDict\n",
    "import matplotlib.pyplot as plt\n",
    "\n",
    "from steves_models.steves_ptn import Steves_Prototypical_Network\n",
    "\n",
    "from steves_utils.lazy_iterable_wrapper import Lazy_Iterable_Wrapper\n",
    "from steves_utils.iterable_aggregator import Iterable_Aggregator\n",
    "from steves_utils.ptn_train_eval_test_jig import  PTN_Train_Eval_Test_Jig\n",
    "from steves_utils.torch_sequential_builder import build_sequential\n",
    "from steves_utils.torch_utils import get_dataset_metrics, ptn_confusion_by_domain_over_dataloader\n",
    "from steves_utils.utils_v2 import (per_domain_accuracy_from_confusion, get_datasets_base_path)\n",
    "from steves_utils.PTN.utils import independent_accuracy_assesment\n",
    "\n",
    "from torch.utils.data import DataLoader\n",
    "\n",
    "from steves_utils.stratified_dataset.episodic_accessor import Episodic_Accessor_Factory\n",
    "\n",
    "from steves_utils.ptn_do_report import (\n",
    "    get_loss_curve,\n",
    "    get_results_table,\n",
    "    get_parameters_table,\n",
    "    get_domain_accuracies,\n",
    ")\n",
    "\n",
    "from steves_utils.transforms import get_chained_transform"
   ]
  },
  {
   "cell_type": "markdown",
   "id": "41c840b4",
   "metadata": {
    "papermill": {
     "duration": 0.019734,
     "end_time": "2022-03-28T08:06:40.660688",
     "exception": false,
     "start_time": "2022-03-28T08:06:40.640954",
     "status": "completed"
    },
    "tags": []
   },
   "source": [
    "# Allowed Parameters\n",
    "These are allowed parameters, not defaults\n",
    "Each of these values need to be present in the injected parameters (the notebook will raise an exception if they are not present)\n",
    "\n",
    "Papermill uses the cell tag \"parameters\" to inject the real parameters below this cell.\n",
    "Enable tags to see what I mean"
   ]
  },
  {
   "cell_type": "code",
   "execution_count": 2,
   "id": "fd44eb83",
   "metadata": {
    "execution": {
     "iopub.execute_input": "2022-03-28T08:06:40.705573Z",
     "iopub.status.busy": "2022-03-28T08:06:40.704996Z",
     "iopub.status.idle": "2022-03-28T08:06:40.728460Z",
     "shell.execute_reply": "2022-03-28T08:06:40.727636Z"
    },
    "papermill": {
     "duration": 0.047804,
     "end_time": "2022-03-28T08:06:40.728618",
     "exception": false,
     "start_time": "2022-03-28T08:06:40.680814",
     "status": "completed"
    },
    "tags": []
   },
   "outputs": [],
   "source": [
    "required_parameters = {\n",
    "    \"experiment_name\",\n",
    "    \"lr\",\n",
    "    \"device\",\n",
    "    \"seed\",\n",
    "    \"dataset_seed\",\n",
    "    \"n_shot\",\n",
    "    \"n_query\",\n",
    "    \"n_way\",\n",
    "    \"train_k_factor\",\n",
    "    \"val_k_factor\",\n",
    "    \"test_k_factor\",\n",
    "    \"n_epoch\",\n",
    "    \"patience\",\n",
    "    \"criteria_for_best\",\n",
    "    \"x_net\",\n",
    "    \"datasets\",\n",
    "    \"torch_default_dtype\",\n",
    "    \"NUM_LOGS_PER_EPOCH\",\n",
    "    \"BEST_MODEL_PATH\",\n",
    "    \"x_shape\",\n",
    "}"
   ]
  },
  {
   "cell_type": "code",
   "execution_count": 3,
   "id": "fa3f0049",
   "metadata": {
    "execution": {
     "iopub.execute_input": "2022-03-28T08:06:40.791947Z",
     "iopub.status.busy": "2022-03-28T08:06:40.791030Z",
     "iopub.status.idle": "2022-03-28T08:06:40.813317Z",
     "shell.execute_reply": "2022-03-28T08:06:40.812530Z"
    },
    "papermill": {
     "duration": 0.057836,
     "end_time": "2022-03-28T08:06:40.813480",
     "exception": false,
     "start_time": "2022-03-28T08:06:40.755644",
     "status": "completed"
    },
    "tags": [
     "parameters"
    ]
   },
   "outputs": [],
   "source": [
    "from steves_utils.CORES.utils import (\n",
    "    ALL_NODES,\n",
    "    ALL_NODES_MINIMUM_1000_EXAMPLES,\n",
    "    ALL_DAYS\n",
    ")\n",
    "\n",
    "from steves_utils.ORACLE.utils_v2 import (\n",
    "    ALL_DISTANCES_FEET_NARROWED,\n",
    "    ALL_RUNS,\n",
    "    ALL_SERIAL_NUMBERS,\n",
    ")\n",
    "\n",
    "standalone_parameters = {}\n",
    "standalone_parameters[\"experiment_name\"] = \"STANDALONE PTN\"\n",
    "standalone_parameters[\"lr\"] = 0.001\n",
    "standalone_parameters[\"device\"] = \"cuda\"\n",
    "\n",
    "standalone_parameters[\"seed\"] = 1337\n",
    "standalone_parameters[\"dataset_seed\"] = 1337\n",
    "\n",
    "standalone_parameters[\"n_way\"] = 8\n",
    "standalone_parameters[\"n_shot\"] = 3\n",
    "standalone_parameters[\"n_query\"]  = 2\n",
    "standalone_parameters[\"train_k_factor\"] = 1\n",
    "standalone_parameters[\"val_k_factor\"] = 2\n",
    "standalone_parameters[\"test_k_factor\"] = 2\n",
    "\n",
    "\n",
    "standalone_parameters[\"n_epoch\"] = 50\n",
    "\n",
    "standalone_parameters[\"patience\"] = 10\n",
    "standalone_parameters[\"criteria_for_best\"] = \"source_loss\"\n",
    "\n",
    "standalone_parameters[\"datasets\"] = [\n",
    "    {\n",
    "        \"labels\": ALL_SERIAL_NUMBERS,\n",
    "        \"domains\": ALL_DISTANCES_FEET_NARROWED,\n",
    "        \"num_examples_per_domain_per_label\": 100,\n",
    "        \"pickle_path\": os.path.join(get_datasets_base_path(), \"oracle.Run1_framed_2000Examples_stratified_ds.2022A.pkl\"),\n",
    "        \"source_or_target_dataset\": \"source\",\n",
    "        \"x_transforms\": [\"unit_mag\", \"minus_two\"],\n",
    "        \"episode_transforms\": [],\n",
    "        \"domain_prefix\": \"ORACLE_\"\n",
    "    },\n",
    "    {\n",
    "        \"labels\": ALL_NODES,\n",
    "        \"domains\": ALL_DAYS,\n",
    "        \"num_examples_per_domain_per_label\": 100,\n",
    "        \"pickle_path\": os.path.join(get_datasets_base_path(), \"cores.stratified_ds.2022A.pkl\"),\n",
    "        \"source_or_target_dataset\": \"target\",\n",
    "        \"x_transforms\": [\"unit_power\", \"times_zero\"],\n",
    "        \"episode_transforms\": [],\n",
    "        \"domain_prefix\": \"CORES_\"\n",
    "    }   \n",
    "]\n",
    "\n",
    "standalone_parameters[\"torch_default_dtype\"] = \"torch.float32\" \n",
    "\n",
    "\n",
    "\n",
    "standalone_parameters[\"x_net\"] =     [\n",
    "    {\"class\": \"nnReshape\", \"kargs\": {\"shape\":[-1, 1, 2, 256]}},\n",
    "    {\"class\": \"Conv2d\", \"kargs\": { \"in_channels\":1, \"out_channels\":256, \"kernel_size\":(1,7), \"bias\":False, \"padding\":(0,3), },},\n",
    "    {\"class\": \"ReLU\", \"kargs\": {\"inplace\": True}},\n",
    "    {\"class\": \"BatchNorm2d\", \"kargs\": {\"num_features\":256}},\n",
    "\n",
    "    {\"class\": \"Conv2d\", \"kargs\": { \"in_channels\":256, \"out_channels\":80, \"kernel_size\":(2,7), \"bias\":True, \"padding\":(0,3), },},\n",
    "    {\"class\": \"ReLU\", \"kargs\": {\"inplace\": True}},\n",
    "    {\"class\": \"BatchNorm2d\", \"kargs\": {\"num_features\":80}},\n",
    "    {\"class\": \"Flatten\", \"kargs\": {}},\n",
    "\n",
    "    {\"class\": \"Linear\", \"kargs\": {\"in_features\": 80*256, \"out_features\": 256}}, # 80 units per IQ pair\n",
    "    {\"class\": \"ReLU\", \"kargs\": {\"inplace\": True}},\n",
    "    {\"class\": \"BatchNorm1d\", \"kargs\": {\"num_features\":256}},\n",
    "\n",
    "    {\"class\": \"Linear\", \"kargs\": {\"in_features\": 256, \"out_features\": 256}},\n",
    "]\n",
    "\n",
    "# Parameters relevant to results\n",
    "# These parameters will basically never need to change\n",
    "standalone_parameters[\"NUM_LOGS_PER_EPOCH\"] = 10\n",
    "standalone_parameters[\"BEST_MODEL_PATH\"] = \"./best_model.pth\"\n",
    "\n",
    "\n",
    "\n",
    "\n"
   ]
  },
  {
   "cell_type": "code",
   "execution_count": 4,
   "id": "063302cb",
   "metadata": {
    "execution": {
     "iopub.execute_input": "2022-03-28T08:06:40.876440Z",
     "iopub.status.busy": "2022-03-28T08:06:40.873215Z",
     "iopub.status.idle": "2022-03-28T08:06:40.899279Z",
     "shell.execute_reply": "2022-03-28T08:06:40.898542Z"
    },
    "papermill": {
     "duration": 0.059753,
     "end_time": "2022-03-28T08:06:40.899454",
     "exception": false,
     "start_time": "2022-03-28T08:06:40.839701",
     "status": "completed"
    },
    "tags": [
     "injected-parameters"
    ]
   },
   "outputs": [],
   "source": [
    "# Parameters\n",
    "parameters = {\n",
    "    \"experiment_name\": \"tl_3-jitter10v2:cores -> oracle.run1.framed\",\n",
    "    \"device\": \"cuda\",\n",
    "    \"lr\": 0.0001,\n",
    "    \"x_shape\": [2, 256],\n",
    "    \"n_shot\": 3,\n",
    "    \"n_query\": 2,\n",
    "    \"train_k_factor\": 3,\n",
    "    \"val_k_factor\": 2,\n",
    "    \"test_k_factor\": 2,\n",
    "    \"torch_default_dtype\": \"torch.float32\",\n",
    "    \"n_epoch\": 50,\n",
    "    \"patience\": 3,\n",
    "    \"criteria_for_best\": \"target_accuracy\",\n",
    "    \"x_net\": [\n",
    "        {\"class\": \"nnReshape\", \"kargs\": {\"shape\": [-1, 1, 2, 256]}},\n",
    "        {\n",
    "            \"class\": \"Conv2d\",\n",
    "            \"kargs\": {\n",
    "                \"in_channels\": 1,\n",
    "                \"out_channels\": 256,\n",
    "                \"kernel_size\": [1, 7],\n",
    "                \"bias\": False,\n",
    "                \"padding\": [0, 3],\n",
    "            },\n",
    "        },\n",
    "        {\"class\": \"ReLU\", \"kargs\": {\"inplace\": True}},\n",
    "        {\"class\": \"BatchNorm2d\", \"kargs\": {\"num_features\": 256}},\n",
    "        {\n",
    "            \"class\": \"Conv2d\",\n",
    "            \"kargs\": {\n",
    "                \"in_channels\": 256,\n",
    "                \"out_channels\": 80,\n",
    "                \"kernel_size\": [2, 7],\n",
    "                \"bias\": True,\n",
    "                \"padding\": [0, 3],\n",
    "            },\n",
    "        },\n",
    "        {\"class\": \"ReLU\", \"kargs\": {\"inplace\": True}},\n",
    "        {\"class\": \"BatchNorm2d\", \"kargs\": {\"num_features\": 80}},\n",
    "        {\"class\": \"Flatten\", \"kargs\": {}},\n",
    "        {\"class\": \"Linear\", \"kargs\": {\"in_features\": 20480, \"out_features\": 256}},\n",
    "        {\"class\": \"ReLU\", \"kargs\": {\"inplace\": True}},\n",
    "        {\"class\": \"BatchNorm1d\", \"kargs\": {\"num_features\": 256}},\n",
    "        {\"class\": \"Linear\", \"kargs\": {\"in_features\": 256, \"out_features\": 256}},\n",
    "    ],\n",
    "    \"NUM_LOGS_PER_EPOCH\": 10,\n",
    "    \"BEST_MODEL_PATH\": \"./best_model.pth\",\n",
    "    \"n_way\": 16,\n",
    "    \"datasets\": [\n",
    "        {\n",
    "            \"labels\": [\n",
    "                \"1-10.\",\n",
    "                \"1-11.\",\n",
    "                \"1-15.\",\n",
    "                \"1-16.\",\n",
    "                \"1-17.\",\n",
    "                \"1-18.\",\n",
    "                \"1-19.\",\n",
    "                \"10-4.\",\n",
    "                \"10-7.\",\n",
    "                \"11-1.\",\n",
    "                \"11-14.\",\n",
    "                \"11-17.\",\n",
    "                \"11-20.\",\n",
    "                \"11-7.\",\n",
    "                \"13-20.\",\n",
    "                \"13-8.\",\n",
    "                \"14-10.\",\n",
    "                \"14-11.\",\n",
    "                \"14-14.\",\n",
    "                \"14-7.\",\n",
    "                \"15-1.\",\n",
    "                \"15-20.\",\n",
    "                \"16-1.\",\n",
    "                \"16-16.\",\n",
    "                \"17-10.\",\n",
    "                \"17-11.\",\n",
    "                \"17-2.\",\n",
    "                \"19-1.\",\n",
    "                \"19-16.\",\n",
    "                \"19-19.\",\n",
    "                \"19-20.\",\n",
    "                \"19-3.\",\n",
    "                \"2-10.\",\n",
    "                \"2-11.\",\n",
    "                \"2-17.\",\n",
    "                \"2-18.\",\n",
    "                \"2-20.\",\n",
    "                \"2-3.\",\n",
    "                \"2-4.\",\n",
    "                \"2-5.\",\n",
    "                \"2-6.\",\n",
    "                \"2-7.\",\n",
    "                \"2-8.\",\n",
    "                \"3-13.\",\n",
    "                \"3-18.\",\n",
    "                \"3-3.\",\n",
    "                \"4-1.\",\n",
    "                \"4-10.\",\n",
    "                \"4-11.\",\n",
    "                \"4-19.\",\n",
    "                \"5-5.\",\n",
    "                \"6-15.\",\n",
    "                \"7-10.\",\n",
    "                \"7-14.\",\n",
    "                \"8-18.\",\n",
    "                \"8-20.\",\n",
    "                \"8-3.\",\n",
    "                \"8-8.\",\n",
    "            ],\n",
    "            \"domains\": [1, 2, 3, 4, 5],\n",
    "            \"num_examples_per_domain_per_label\": -1,\n",
    "            \"pickle_path\": \"/root/csc500-main/datasets/cores.stratified_ds.2022A.pkl\",\n",
    "            \"source_or_target_dataset\": \"source\",\n",
    "            \"x_transforms\": [\n",
    "                \"unit_power\",\n",
    "                \"jitter_256_10\",\n",
    "                \"lowpass_+/-10MHz\",\n",
    "                \"take_200\",\n",
    "            ],\n",
    "            \"episode_transforms\": [],\n",
    "            \"domain_prefix\": \"C_\",\n",
    "        },\n",
    "        {\n",
    "            \"labels\": [\n",
    "                \"3123D52\",\n",
    "                \"3123D65\",\n",
    "                \"3123D79\",\n",
    "                \"3123D80\",\n",
    "                \"3123D54\",\n",
    "                \"3123D70\",\n",
    "                \"3123D7B\",\n",
    "                \"3123D89\",\n",
    "                \"3123D58\",\n",
    "                \"3123D76\",\n",
    "                \"3123D7D\",\n",
    "                \"3123EFE\",\n",
    "                \"3123D64\",\n",
    "                \"3123D78\",\n",
    "                \"3123D7E\",\n",
    "                \"3124E4A\",\n",
    "            ],\n",
    "            \"domains\": [32, 38, 8, 44, 14, 50, 20, 26],\n",
    "            \"num_examples_per_domain_per_label\": 2000,\n",
    "            \"pickle_path\": \"/root/csc500-main/datasets/oracle.Run1_framed_2000Examples_stratified_ds.2022A.pkl\",\n",
    "            \"source_or_target_dataset\": \"target\",\n",
    "            \"x_transforms\": [\n",
    "                \"unit_power\",\n",
    "                \"jitter_256_10\",\n",
    "                \"take_200\",\n",
    "                \"resample_20Msps_to_25Msps\",\n",
    "            ],\n",
    "            \"episode_transforms\": [],\n",
    "            \"domain_prefix\": \"O_\",\n",
    "        },\n",
    "    ],\n",
    "    \"seed\": 7,\n",
    "    \"dataset_seed\": 7,\n",
    "}\n"
   ]
  },
  {
   "cell_type": "code",
   "execution_count": 5,
   "id": "8fa1cc33",
   "metadata": {
    "execution": {
     "iopub.execute_input": "2022-03-28T08:06:40.951302Z",
     "iopub.status.busy": "2022-03-28T08:06:40.950930Z",
     "iopub.status.idle": "2022-03-28T08:06:40.974241Z",
     "shell.execute_reply": "2022-03-28T08:06:40.973553Z"
    },
    "papermill": {
     "duration": 0.049546,
     "end_time": "2022-03-28T08:06:40.974396",
     "exception": false,
     "start_time": "2022-03-28T08:06:40.924850",
     "status": "completed"
    },
    "tags": []
   },
   "outputs": [],
   "source": [
    "# Set this to True if you want to run this template directly\n",
    "STANDALONE = False\n",
    "if STANDALONE:\n",
    "    print(\"parameters not injected, running with standalone_parameters\")\n",
    "    parameters = standalone_parameters\n",
    "\n",
    "if not 'parameters' in locals() and not 'parameters' in globals():\n",
    "    raise Exception(\"Parameter injection failed\")\n",
    "\n",
    "#Use an easy dict for all the parameters\n",
    "p = EasyDict(parameters)\n",
    "\n",
    "if \"x_shape\" not in p:\n",
    "    p.x_shape = [2,256] # Default to this if we dont supply x_shape\n",
    "\n",
    "\n",
    "supplied_keys = set(p.keys())\n",
    "\n",
    "if  supplied_keys != required_parameters:\n",
    "    print(\"Parameters are incorrect\")\n",
    "    if len(supplied_keys - required_parameters)>0: print(\"Shouldn't have:\", str(supplied_keys - required_parameters))\n",
    "    if len(required_parameters - supplied_keys)>0: print(\"Need to have:\", str(required_parameters - supplied_keys))\n",
    "    raise RuntimeError(\"Parameters are incorrect\")"
   ]
  },
  {
   "cell_type": "code",
   "execution_count": 6,
   "id": "3a028d58",
   "metadata": {
    "execution": {
     "iopub.execute_input": "2022-03-28T08:06:41.022258Z",
     "iopub.status.busy": "2022-03-28T08:06:41.021895Z",
     "iopub.status.idle": "2022-03-28T08:06:41.044033Z",
     "shell.execute_reply": "2022-03-28T08:06:41.043323Z"
    },
    "papermill": {
     "duration": 0.045787,
     "end_time": "2022-03-28T08:06:41.044188",
     "exception": false,
     "start_time": "2022-03-28T08:06:40.998401",
     "status": "completed"
    },
    "tags": []
   },
   "outputs": [],
   "source": [
    "###################################\n",
    "# Set the RNGs and make it all deterministic\n",
    "###################################\n",
    "np.random.seed(p.seed)\n",
    "random.seed(p.seed)\n",
    "torch.manual_seed(p.seed)\n",
    "\n",
    "torch.use_deterministic_algorithms(True) "
   ]
  },
  {
   "cell_type": "code",
   "execution_count": 7,
   "id": "b691acf6",
   "metadata": {
    "execution": {
     "iopub.execute_input": "2022-03-28T08:06:41.096690Z",
     "iopub.status.busy": "2022-03-28T08:06:41.095826Z",
     "iopub.status.idle": "2022-03-28T08:06:41.121181Z",
     "shell.execute_reply": "2022-03-28T08:06:41.120492Z"
    },
    "papermill": {
     "duration": 0.048528,
     "end_time": "2022-03-28T08:06:41.121333",
     "exception": false,
     "start_time": "2022-03-28T08:06:41.072805",
     "status": "completed"
    },
    "tags": []
   },
   "outputs": [],
   "source": [
    "###########################################\n",
    "# The stratified datasets honor this\n",
    "###########################################\n",
    "torch.set_default_dtype(eval(p.torch_default_dtype))"
   ]
  },
  {
   "cell_type": "code",
   "execution_count": 8,
   "id": "b5fba671",
   "metadata": {
    "execution": {
     "iopub.execute_input": "2022-03-28T08:06:41.170912Z",
     "iopub.status.busy": "2022-03-28T08:06:41.170243Z",
     "iopub.status.idle": "2022-03-28T08:06:41.225462Z",
     "shell.execute_reply": "2022-03-28T08:06:41.224702Z"
    },
    "papermill": {
     "duration": 0.078623,
     "end_time": "2022-03-28T08:06:41.225653",
     "exception": false,
     "start_time": "2022-03-28T08:06:41.147030",
     "status": "completed"
    },
    "tags": []
   },
   "outputs": [],
   "source": [
    "###################################\n",
    "# Build the network(s)\n",
    "# Note: It's critical to do this AFTER setting the RNG\n",
    "###################################\n",
    "x_net = build_sequential(p.x_net)"
   ]
  },
  {
   "cell_type": "code",
   "execution_count": 9,
   "id": "5d7e61cc",
   "metadata": {
    "execution": {
     "iopub.execute_input": "2022-03-28T08:06:41.273976Z",
     "iopub.status.busy": "2022-03-28T08:06:41.273425Z",
     "iopub.status.idle": "2022-03-28T08:06:41.299412Z",
     "shell.execute_reply": "2022-03-28T08:06:41.298616Z"
    },
    "papermill": {
     "duration": 0.049671,
     "end_time": "2022-03-28T08:06:41.299579",
     "exception": false,
     "start_time": "2022-03-28T08:06:41.249908",
     "status": "completed"
    },
    "tags": []
   },
   "outputs": [],
   "source": [
    "start_time_secs = time.time()"
   ]
  },
  {
   "cell_type": "code",
   "execution_count": 10,
   "id": "c6b67dfd",
   "metadata": {
    "execution": {
     "iopub.execute_input": "2022-03-28T08:06:41.351963Z",
     "iopub.status.busy": "2022-03-28T08:06:41.351600Z",
     "iopub.status.idle": "2022-03-28T08:06:41.374318Z",
     "shell.execute_reply": "2022-03-28T08:06:41.373529Z"
    },
    "papermill": {
     "duration": 0.046087,
     "end_time": "2022-03-28T08:06:41.374468",
     "exception": false,
     "start_time": "2022-03-28T08:06:41.328381",
     "status": "completed"
    },
    "tags": []
   },
   "outputs": [],
   "source": [
    "p.domains_source = []\n",
    "p.domains_target = []\n",
    "\n",
    "\n",
    "train_original_source = []\n",
    "val_original_source   = []\n",
    "test_original_source  = []\n",
    "\n",
    "train_original_target = []\n",
    "val_original_target   = []\n",
    "test_original_target  = []"
   ]
  },
  {
   "cell_type": "code",
   "execution_count": 11,
   "id": "e3d9c3d3",
   "metadata": {
    "execution": {
     "iopub.execute_input": "2022-03-28T08:06:41.424261Z",
     "iopub.status.busy": "2022-03-28T08:06:41.422007Z",
     "iopub.status.idle": "2022-03-28T08:06:41.440484Z",
     "shell.execute_reply": "2022-03-28T08:06:41.439651Z"
    },
    "papermill": {
     "duration": 0.040413,
     "end_time": "2022-03-28T08:06:41.440640",
     "exception": false,
     "start_time": "2022-03-28T08:06:41.400227",
     "status": "completed"
    },
    "tags": []
   },
   "outputs": [],
   "source": [
    "# global_x_transform_func = lambda x: normalize(x.to(torch.get_default_dtype()), \"unit_power\") # unit_power, unit_mag\n",
    "# global_x_transform_func = lambda x: normalize(x, \"unit_power\") # unit_power, unit_mag"
   ]
  },
  {
   "cell_type": "code",
   "execution_count": 12,
   "id": "acb78fd2",
   "metadata": {
    "execution": {
     "iopub.execute_input": "2022-03-28T08:06:41.500441Z",
     "iopub.status.busy": "2022-03-28T08:06:41.497152Z",
     "iopub.status.idle": "2022-03-28T08:06:41.519385Z",
     "shell.execute_reply": "2022-03-28T08:06:41.518592Z"
    },
    "papermill": {
     "duration": 0.050198,
     "end_time": "2022-03-28T08:06:41.519567",
     "exception": false,
     "start_time": "2022-03-28T08:06:41.469369",
     "status": "completed"
    },
    "tags": []
   },
   "outputs": [],
   "source": [
    "def add_dataset(\n",
    "    labels,\n",
    "    domains,\n",
    "    pickle_path,\n",
    "    x_transforms,\n",
    "    episode_transforms,\n",
    "    domain_prefix,\n",
    "    num_examples_per_domain_per_label,\n",
    "    source_or_target_dataset:str,\n",
    "    iterator_seed=p.seed,\n",
    "    dataset_seed=p.dataset_seed,\n",
    "    n_shot=p.n_shot,\n",
    "    n_way=p.n_way,\n",
    "    n_query=p.n_query,\n",
    "    train_val_test_k_factors=(p.train_k_factor,p.val_k_factor,p.test_k_factor),\n",
    "):\n",
    "   \n",
    "    if x_transforms == []: x_transform = None\n",
    "    else: x_transform = get_chained_transform(x_transforms)\n",
    "    \n",
    "    if episode_transforms == []: episode_transform = None\n",
    "    else: raise Exception(\"episode_transforms not implemented\")\n",
    "    \n",
    "    episode_transform = lambda tup, _prefix=domain_prefix: (_prefix + str(tup[0]), tup[1])\n",
    "\n",
    "\n",
    "    eaf = Episodic_Accessor_Factory(\n",
    "        labels=labels,\n",
    "        domains=domains,\n",
    "        num_examples_per_domain_per_label=num_examples_per_domain_per_label,\n",
    "        iterator_seed=iterator_seed,\n",
    "        dataset_seed=dataset_seed,\n",
    "        n_shot=n_shot,\n",
    "        n_way=n_way,\n",
    "        n_query=n_query,\n",
    "        train_val_test_k_factors=train_val_test_k_factors,\n",
    "        pickle_path=pickle_path,\n",
    "        x_transform_func=x_transform,\n",
    "    )\n",
    "\n",
    "    train, val, test = eaf.get_train(), eaf.get_val(), eaf.get_test()\n",
    "    train = Lazy_Iterable_Wrapper(train, episode_transform)\n",
    "    val = Lazy_Iterable_Wrapper(val, episode_transform)\n",
    "    test = Lazy_Iterable_Wrapper(test, episode_transform)\n",
    "\n",
    "    if source_or_target_dataset==\"source\":\n",
    "        train_original_source.append(train)\n",
    "        val_original_source.append(val)\n",
    "        test_original_source.append(test)\n",
    "\n",
    "        p.domains_source.extend(\n",
    "            [domain_prefix + str(u) for u in domains]\n",
    "        )\n",
    "    elif source_or_target_dataset==\"target\":\n",
    "        train_original_target.append(train)\n",
    "        val_original_target.append(val)\n",
    "        test_original_target.append(test)\n",
    "        p.domains_target.extend(\n",
    "            [domain_prefix + str(u) for u in domains]\n",
    "        )\n",
    "    else:\n",
    "        raise Exception(f\"invalid source_or_target_dataset: {source_or_target_dataset}\")\n",
    "    "
   ]
  },
  {
   "cell_type": "code",
   "execution_count": 13,
   "id": "fe266617",
   "metadata": {
    "execution": {
     "iopub.execute_input": "2022-03-28T08:06:41.571369Z",
     "iopub.status.busy": "2022-03-28T08:06:41.571011Z",
     "iopub.status.idle": "2022-03-28T08:08:33.420635Z",
     "shell.execute_reply": "2022-03-28T08:08:33.419854Z"
    },
    "papermill": {
     "duration": 111.873601,
     "end_time": "2022-03-28T08:08:33.420819",
     "exception": false,
     "start_time": "2022-03-28T08:06:41.547218",
     "status": "completed"
    },
    "tags": []
   },
   "outputs": [],
   "source": [
    "for ds in p.datasets:\n",
    "    add_dataset(**ds)"
   ]
  },
  {
   "cell_type": "code",
   "execution_count": 14,
   "id": "b90d65ac",
   "metadata": {
    "execution": {
     "iopub.execute_input": "2022-03-28T08:08:33.471831Z",
     "iopub.status.busy": "2022-03-28T08:08:33.471440Z",
     "iopub.status.idle": "2022-03-28T08:08:33.496856Z",
     "shell.execute_reply": "2022-03-28T08:08:33.496036Z"
    },
    "papermill": {
     "duration": 0.050561,
     "end_time": "2022-03-28T08:08:33.497014",
     "exception": false,
     "start_time": "2022-03-28T08:08:33.446453",
     "status": "completed"
    },
    "tags": []
   },
   "outputs": [],
   "source": [
    "# from steves_utils.CORES.utils import (\n",
    "#     ALL_NODES,\n",
    "#     ALL_NODES_MINIMUM_1000_EXAMPLES,\n",
    "#     ALL_DAYS\n",
    "# )\n",
    "\n",
    "# add_dataset(\n",
    "#     labels=ALL_NODES,\n",
    "#     domains = ALL_DAYS,\n",
    "#     num_examples_per_domain_per_label=100,\n",
    "#     pickle_path=os.path.join(get_datasets_base_path(), \"cores.stratified_ds.2022A.pkl\"),\n",
    "#     source_or_target_dataset=\"target\",\n",
    "#     x_transform_func=global_x_transform_func,\n",
    "#     domain_modifier=lambda u: f\"cores_{u}\"\n",
    "# )"
   ]
  },
  {
   "cell_type": "code",
   "execution_count": 15,
   "id": "76db484d",
   "metadata": {
    "execution": {
     "iopub.execute_input": "2022-03-28T08:08:33.557057Z",
     "iopub.status.busy": "2022-03-28T08:08:33.556683Z",
     "iopub.status.idle": "2022-03-28T08:08:33.570149Z",
     "shell.execute_reply": "2022-03-28T08:08:33.569336Z"
    },
    "papermill": {
     "duration": 0.044144,
     "end_time": "2022-03-28T08:08:33.570306",
     "exception": false,
     "start_time": "2022-03-28T08:08:33.526162",
     "status": "completed"
    },
    "tags": []
   },
   "outputs": [],
   "source": [
    "# from steves_utils.ORACLE.utils_v2 import (\n",
    "#     ALL_DISTANCES_FEET,\n",
    "#     ALL_RUNS,\n",
    "#     ALL_SERIAL_NUMBERS,\n",
    "# )\n",
    "\n",
    "\n",
    "# add_dataset(\n",
    "#     labels=ALL_SERIAL_NUMBERS,\n",
    "#     domains = list(set(ALL_DISTANCES_FEET) - {2,62}),\n",
    "#     num_examples_per_domain_per_label=100,\n",
    "#     pickle_path=os.path.join(get_datasets_base_path(), \"oracle.Run2_framed_2000Examples_stratified_ds.2022A.pkl\"),\n",
    "#     source_or_target_dataset=\"source\",\n",
    "#     x_transform_func=global_x_transform_func,\n",
    "#     domain_modifier=lambda u: f\"oracle1_{u}\"\n",
    "# )\n"
   ]
  },
  {
   "cell_type": "code",
   "execution_count": 16,
   "id": "97dea9d2",
   "metadata": {
    "execution": {
     "iopub.execute_input": "2022-03-28T08:08:33.624238Z",
     "iopub.status.busy": "2022-03-28T08:08:33.621086Z",
     "iopub.status.idle": "2022-03-28T08:08:33.640649Z",
     "shell.execute_reply": "2022-03-28T08:08:33.639829Z"
    },
    "papermill": {
     "duration": 0.043902,
     "end_time": "2022-03-28T08:08:33.640807",
     "exception": false,
     "start_time": "2022-03-28T08:08:33.596905",
     "status": "completed"
    },
    "tags": []
   },
   "outputs": [],
   "source": [
    "# from steves_utils.ORACLE.utils_v2 import (\n",
    "#     ALL_DISTANCES_FEET,\n",
    "#     ALL_RUNS,\n",
    "#     ALL_SERIAL_NUMBERS,\n",
    "# )\n",
    "\n",
    "\n",
    "# add_dataset(\n",
    "#     labels=ALL_SERIAL_NUMBERS,\n",
    "#     domains = list(set(ALL_DISTANCES_FEET) - {2,62,56}),\n",
    "#     num_examples_per_domain_per_label=100,\n",
    "#     pickle_path=os.path.join(get_datasets_base_path(), \"oracle.Run2_framed_2000Examples_stratified_ds.2022A.pkl\"),\n",
    "#     source_or_target_dataset=\"source\",\n",
    "#     x_transform_func=global_x_transform_func,\n",
    "#     domain_modifier=lambda u: f\"oracle2_{u}\"\n",
    "# )"
   ]
  },
  {
   "cell_type": "code",
   "execution_count": 17,
   "id": "6f289866",
   "metadata": {
    "execution": {
     "iopub.execute_input": "2022-03-28T08:08:33.693746Z",
     "iopub.status.busy": "2022-03-28T08:08:33.691819Z",
     "iopub.status.idle": "2022-03-28T08:08:33.713647Z",
     "shell.execute_reply": "2022-03-28T08:08:33.712832Z"
    },
    "papermill": {
     "duration": 0.0455,
     "end_time": "2022-03-28T08:08:33.713804",
     "exception": false,
     "start_time": "2022-03-28T08:08:33.668304",
     "status": "completed"
    },
    "tags": []
   },
   "outputs": [],
   "source": [
    "# add_dataset(\n",
    "#     labels=list(range(19)),\n",
    "#     domains = [0,1,2],\n",
    "#     num_examples_per_domain_per_label=100,\n",
    "#     pickle_path=os.path.join(get_datasets_base_path(), \"metehan.stratified_ds.2022A.pkl\"),\n",
    "#     source_or_target_dataset=\"target\",\n",
    "#     x_transform_func=global_x_transform_func,\n",
    "#     domain_modifier=lambda u: f\"met_{u}\"\n",
    "# )"
   ]
  },
  {
   "cell_type": "code",
   "execution_count": 18,
   "id": "86a863c3",
   "metadata": {
    "execution": {
     "iopub.execute_input": "2022-03-28T08:08:33.764569Z",
     "iopub.status.busy": "2022-03-28T08:08:33.764192Z",
     "iopub.status.idle": "2022-03-28T08:08:33.781303Z",
     "shell.execute_reply": "2022-03-28T08:08:33.780488Z"
    },
    "papermill": {
     "duration": 0.040852,
     "end_time": "2022-03-28T08:08:33.781460",
     "exception": false,
     "start_time": "2022-03-28T08:08:33.740608",
     "status": "completed"
    },
    "tags": []
   },
   "outputs": [],
   "source": [
    "# # from steves_utils.wisig.utils import (\n",
    "# #     ALL_NODES_MINIMUM_100_EXAMPLES,\n",
    "# #     ALL_NODES_MINIMUM_500_EXAMPLES,\n",
    "# #     ALL_NODES_MINIMUM_1000_EXAMPLES,\n",
    "# #     ALL_DAYS\n",
    "# # )\n",
    "\n",
    "# import steves_utils.wisig.utils as wisig\n",
    "\n",
    "\n",
    "# add_dataset(\n",
    "#     labels=wisig.ALL_NODES_MINIMUM_100_EXAMPLES,\n",
    "#     domains = wisig.ALL_DAYS,\n",
    "#     num_examples_per_domain_per_label=100,\n",
    "#     pickle_path=os.path.join(get_datasets_base_path(), \"wisig.node3-19.stratified_ds.2022A.pkl\"),\n",
    "#     source_or_target_dataset=\"target\",\n",
    "#     x_transform_func=global_x_transform_func,\n",
    "#     domain_modifier=lambda u: f\"wisig_{u}\"\n",
    "# )"
   ]
  },
  {
   "cell_type": "code",
   "execution_count": 19,
   "id": "fd5442bc",
   "metadata": {
    "execution": {
     "iopub.execute_input": "2022-03-28T08:08:33.836374Z",
     "iopub.status.busy": "2022-03-28T08:08:33.835854Z",
     "iopub.status.idle": "2022-03-28T08:08:33.855891Z",
     "shell.execute_reply": "2022-03-28T08:08:33.855037Z"
    },
    "papermill": {
     "duration": 0.047699,
     "end_time": "2022-03-28T08:08:33.856050",
     "exception": false,
     "start_time": "2022-03-28T08:08:33.808351",
     "status": "completed"
    },
    "tags": []
   },
   "outputs": [],
   "source": [
    "###################################\n",
    "# Build the dataset\n",
    "###################################\n",
    "train_original_source = Iterable_Aggregator(train_original_source, p.seed)\n",
    "val_original_source = Iterable_Aggregator(val_original_source, p.seed)\n",
    "test_original_source = Iterable_Aggregator(test_original_source, p.seed)\n",
    "\n",
    "\n",
    "train_original_target = Iterable_Aggregator(train_original_target, p.seed)\n",
    "val_original_target = Iterable_Aggregator(val_original_target, p.seed)\n",
    "test_original_target = Iterable_Aggregator(test_original_target, p.seed)\n",
    "\n",
    "# For CNN We only use X and Y. And we only train on the source.\n",
    "# Properly form the data using a transform lambda and Lazy_Iterable_Wrapper. Finally wrap them in a dataloader\n",
    "\n",
    "transform_lambda = lambda ex: ex[1] # Original is (<domain>, <episode>) so we strip down to episode only\n",
    "\n",
    "train_processed_source = Lazy_Iterable_Wrapper(train_original_source, transform_lambda)\n",
    "val_processed_source   = Lazy_Iterable_Wrapper(val_original_source, transform_lambda)\n",
    "test_processed_source  = Lazy_Iterable_Wrapper(test_original_source, transform_lambda)\n",
    "\n",
    "train_processed_target = Lazy_Iterable_Wrapper(train_original_target, transform_lambda)\n",
    "val_processed_target   = Lazy_Iterable_Wrapper(val_original_target, transform_lambda)\n",
    "test_processed_target  = Lazy_Iterable_Wrapper(test_original_target, transform_lambda)\n",
    "\n",
    "datasets = EasyDict({\n",
    "    \"source\": {\n",
    "        \"original\": {\"train\":train_original_source, \"val\":val_original_source, \"test\":test_original_source},\n",
    "        \"processed\": {\"train\":train_processed_source, \"val\":val_processed_source, \"test\":test_processed_source}\n",
    "    },\n",
    "    \"target\": {\n",
    "        \"original\": {\"train\":train_original_target, \"val\":val_original_target, \"test\":test_original_target},\n",
    "        \"processed\": {\"train\":train_processed_target, \"val\":val_processed_target, \"test\":test_processed_target}\n",
    "    },\n",
    "})"
   ]
  },
  {
   "cell_type": "code",
   "execution_count": 20,
   "id": "5b3c01fc",
   "metadata": {
    "execution": {
     "iopub.execute_input": "2022-03-28T08:08:33.919187Z",
     "iopub.status.busy": "2022-03-28T08:08:33.912885Z",
     "iopub.status.idle": "2022-03-28T08:08:48.024231Z",
     "shell.execute_reply": "2022-03-28T08:08:48.025061Z"
    },
    "papermill": {
     "duration": 14.139066,
     "end_time": "2022-03-28T08:08:48.025271",
     "exception": false,
     "start_time": "2022-03-28T08:08:33.886205",
     "status": "completed"
    },
    "tags": []
   },
   "outputs": [
    {
     "name": "stdout",
     "output_type": "stream",
     "text": [
      "{'C_1', 'C_5', 'C_2', 'C_4', 'C_3'}\n"
     ]
    },
    {
     "name": "stdout",
     "output_type": "stream",
     "text": [
      "{'O_14', 'O_26', 'O_8', 'O_32', 'O_38', 'O_50', 'O_44', 'O_20'}\n"
     ]
    },
    {
     "name": "stdout",
     "output_type": "stream",
     "text": [
      "tensor([[[0., 0., 0.,  ..., 0., 0., 0.],\n",
      "         [0., 0., 0.,  ..., 0., 0., 0.]],\n",
      "\n",
      "        [[0., 0., 0.,  ..., 0., 0., 0.],\n",
      "         [0., 0., 0.,  ..., 0., 0., 0.]],\n",
      "\n",
      "        [[0., 0., 0.,  ..., 0., 0., 0.],\n",
      "         [0., 0., 0.,  ..., 0., 0., 0.]],\n",
      "\n",
      "        ...,\n",
      "\n",
      "        [[0., 0., 0.,  ..., 0., 0., 0.],\n",
      "         [0., 0., 0.,  ..., 0., 0., 0.]],\n",
      "\n",
      "        [[0., 0., 0.,  ..., 0., 0., 0.],\n",
      "         [0., 0., 0.,  ..., 0., 0., 0.]],\n",
      "\n",
      "        [[0., 0., 0.,  ..., 0., 0., 0.],\n",
      "         [0., 0., 0.,  ..., 0., 0., 0.]]])\n"
     ]
    }
   ],
   "source": [
    "from steves_utils.transforms import get_average_magnitude, get_average_power\n",
    "\n",
    "print(set([u for u,_ in val_original_source]))\n",
    "print(set([u for u,_ in val_original_target]))\n",
    "\n",
    "s_x, s_y, q_x, q_y, _ = next(iter(train_processed_source))\n",
    "print(s_x)\n",
    "\n",
    "# for ds in [\n",
    "#     train_processed_source,\n",
    "#     val_processed_source,\n",
    "#     test_processed_source,\n",
    "#     train_processed_target,\n",
    "#     val_processed_target,\n",
    "#     test_processed_target\n",
    "# ]:\n",
    "#     for s_x, s_y, q_x, q_y, _ in ds:\n",
    "#         for X in (s_x, q_x):\n",
    "#             for x in X:\n",
    "#                 assert np.isclose(get_average_magnitude(x.numpy()), 1.0)\n",
    "#                 assert np.isclose(get_average_power(x.numpy()), 1.0)\n",
    "                "
   ]
  },
  {
   "cell_type": "code",
   "execution_count": 21,
   "id": "bbdacba1",
   "metadata": {
    "execution": {
     "iopub.execute_input": "2022-03-28T08:08:48.078695Z",
     "iopub.status.busy": "2022-03-28T08:08:48.078321Z",
     "iopub.status.idle": "2022-03-28T08:08:48.173719Z",
     "shell.execute_reply": "2022-03-28T08:08:48.174021Z"
    },
    "papermill": {
     "duration": 0.121591,
     "end_time": "2022-03-28T08:08:48.174119",
     "exception": false,
     "start_time": "2022-03-28T08:08:48.052528",
     "status": "completed"
    },
    "tags": []
   },
   "outputs": [
    {
     "name": "stdout",
     "output_type": "stream",
     "text": [
      "(2, 256)\n"
     ]
    }
   ],
   "source": [
    "###################################\n",
    "# Build the model\n",
    "###################################\n",
    "# easfsl only wants a tuple for the shape\n",
    "model = Steves_Prototypical_Network(x_net, device=p.device, x_shape=tuple(p.x_shape))\n",
    "optimizer = Adam(params=model.parameters(), lr=p.lr)"
   ]
  },
  {
   "cell_type": "code",
   "execution_count": 22,
   "id": "22b39ac5",
   "metadata": {
    "execution": {
     "iopub.execute_input": "2022-03-28T08:08:48.221904Z",
     "iopub.status.busy": "2022-03-28T08:08:48.221537Z",
     "iopub.status.idle": "2022-03-28T08:21:21.819556Z",
     "shell.execute_reply": "2022-03-28T08:21:21.819193Z"
    },
    "papermill": {
     "duration": 753.623211,
     "end_time": "2022-03-28T08:21:21.819644",
     "exception": false,
     "start_time": "2022-03-28T08:08:48.196433",
     "status": "completed"
    },
    "tags": []
   },
   "outputs": [
    {
     "name": "stdout",
     "output_type": "stream",
     "text": [
      "epoch: 1, [batch: 1 / 6316], examples_per_second: 34.2630, train_label_loss: 2.7565, \n"
     ]
    },
    {
     "name": "stdout",
     "output_type": "stream",
     "text": [
      "epoch: 1, [batch: 632 / 6316], examples_per_second: 3830.1343, train_label_loss: 0.0194, \n"
     ]
    },
    {
     "name": "stdout",
     "output_type": "stream",
     "text": [
      "epoch: 1, [batch: 1264 / 6316], examples_per_second: 3895.5112, train_label_loss: 0.0148, \n"
     ]
    },
    {
     "name": "stdout",
     "output_type": "stream",
     "text": [
      "epoch: 1, [batch: 1895 / 6316], examples_per_second: 4324.5386, train_label_loss: 0.0759, \n"
     ]
    },
    {
     "name": "stdout",
     "output_type": "stream",
     "text": [
      "epoch: 1, [batch: 2527 / 6316], examples_per_second: 4448.3852, train_label_loss: 0.0074, \n"
     ]
    },
    {
     "name": "stdout",
     "output_type": "stream",
     "text": [
      "epoch: 1, [batch: 3158 / 6316], examples_per_second: 4178.6081, train_label_loss: 0.0010, \n"
     ]
    },
    {
     "name": "stdout",
     "output_type": "stream",
     "text": [
      "epoch: 1, [batch: 3790 / 6316], examples_per_second: 3977.1755, train_label_loss: 0.0292, \n"
     ]
    },
    {
     "name": "stdout",
     "output_type": "stream",
     "text": [
      "epoch: 1, [batch: 4421 / 6316], examples_per_second: 3943.4063, train_label_loss: 0.0010, \n"
     ]
    },
    {
     "name": "stdout",
     "output_type": "stream",
     "text": [
      "epoch: 1, [batch: 5053 / 6316], examples_per_second: 3895.7095, train_label_loss: 0.0088, \n"
     ]
    },
    {
     "name": "stdout",
     "output_type": "stream",
     "text": [
      "epoch: 1, [batch: 5684 / 6316], examples_per_second: 3906.6428, train_label_loss: 0.0090, \n"
     ]
    },
    {
     "name": "stdout",
     "output_type": "stream",
     "text": [
      "=============================================================\n",
      "epoch: 1, source_val_acc_label: 0.9940, target_val_acc_label: 0.3848, source_val_label_loss: 0.1140, target_val_label_loss: 1.7208, \n",
      "=============================================================\n"
     ]
    },
    {
     "name": "stdout",
     "output_type": "stream",
     "text": [
      "New best\n"
     ]
    },
    {
     "name": "stdout",
     "output_type": "stream",
     "text": [
      "epoch: 2, [batch: 1 / 6296], examples_per_second: 4.1185, train_label_loss: 0.0000, \n"
     ]
    },
    {
     "name": "stdout",
     "output_type": "stream",
     "text": [
      "epoch: 2, [batch: 630 / 6296], examples_per_second: 3889.0037, train_label_loss: 0.0046, \n"
     ]
    },
    {
     "name": "stdout",
     "output_type": "stream",
     "text": [
      "epoch: 2, [batch: 1260 / 6296], examples_per_second: 3966.6286, train_label_loss: 0.0000, \n"
     ]
    },
    {
     "name": "stdout",
     "output_type": "stream",
     "text": [
      "epoch: 2, [batch: 1889 / 6296], examples_per_second: 4414.4299, train_label_loss: 0.0056, \n"
     ]
    },
    {
     "name": "stdout",
     "output_type": "stream",
     "text": [
      "epoch: 2, [batch: 2519 / 6296], examples_per_second: 4327.2938, train_label_loss: 0.0034, \n"
     ]
    },
    {
     "name": "stdout",
     "output_type": "stream",
     "text": [
      "epoch: 2, [batch: 3148 / 6296], examples_per_second: 4177.0443, train_label_loss: 0.0001, \n"
     ]
    },
    {
     "name": "stdout",
     "output_type": "stream",
     "text": [
      "epoch: 2, [batch: 3778 / 6296], examples_per_second: 3852.4691, train_label_loss: 0.0001, \n"
     ]
    },
    {
     "name": "stdout",
     "output_type": "stream",
     "text": [
      "epoch: 2, [batch: 4407 / 6296], examples_per_second: 3850.4579, train_label_loss: 0.0000, \n"
     ]
    },
    {
     "name": "stdout",
     "output_type": "stream",
     "text": [
      "epoch: 2, [batch: 5037 / 6296], examples_per_second: 3896.0705, train_label_loss: 0.0009, \n"
     ]
    },
    {
     "name": "stdout",
     "output_type": "stream",
     "text": [
      "epoch: 2, [batch: 5666 / 6296], examples_per_second: 3886.9254, train_label_loss: 0.0000, \n"
     ]
    },
    {
     "name": "stdout",
     "output_type": "stream",
     "text": [
      "=============================================================\n",
      "epoch: 2, source_val_acc_label: 0.9978, target_val_acc_label: 0.3205, source_val_label_loss: 0.0101, target_val_label_loss: 2.2703, \n",
      "=============================================================\n"
     ]
    },
    {
     "name": "stdout",
     "output_type": "stream",
     "text": [
      "epoch: 3, [batch: 1 / 6299], examples_per_second: 4.0850, train_label_loss: 0.3108, \n"
     ]
    },
    {
     "name": "stdout",
     "output_type": "stream",
     "text": [
      "epoch: 3, [batch: 630 / 6299], examples_per_second: 3933.5893, train_label_loss: 0.0124, \n"
     ]
    },
    {
     "name": "stdout",
     "output_type": "stream",
     "text": [
      "epoch: 3, [batch: 1260 / 6299], examples_per_second: 3970.5641, train_label_loss: 0.0264, \n"
     ]
    },
    {
     "name": "stdout",
     "output_type": "stream",
     "text": [
      "epoch: 3, [batch: 1890 / 6299], examples_per_second: 4411.6222, train_label_loss: 0.0000, \n"
     ]
    },
    {
     "name": "stdout",
     "output_type": "stream",
     "text": [
      "epoch: 3, [batch: 2520 / 6299], examples_per_second: 4461.8122, train_label_loss: 0.0001, \n"
     ]
    },
    {
     "name": "stdout",
     "output_type": "stream",
     "text": [
      "epoch: 3, [batch: 3150 / 6299], examples_per_second: 4698.8512, train_label_loss: 0.0009, \n"
     ]
    },
    {
     "name": "stdout",
     "output_type": "stream",
     "text": [
      "epoch: 3, [batch: 3779 / 6299], examples_per_second: 3918.9694, train_label_loss: 0.0000, \n"
     ]
    },
    {
     "name": "stdout",
     "output_type": "stream",
     "text": [
      "epoch: 3, [batch: 4409 / 6299], examples_per_second: 3913.4484, train_label_loss: 0.0000, \n"
     ]
    },
    {
     "name": "stdout",
     "output_type": "stream",
     "text": [
      "epoch: 3, [batch: 5039 / 6299], examples_per_second: 3952.3477, train_label_loss: 0.0000, \n"
     ]
    },
    {
     "name": "stdout",
     "output_type": "stream",
     "text": [
      "epoch: 3, [batch: 5669 / 6299], examples_per_second: 4017.4210, train_label_loss: 0.0010, \n"
     ]
    },
    {
     "name": "stdout",
     "output_type": "stream",
     "text": [
      "=============================================================\n",
      "epoch: 3, source_val_acc_label: 0.9976, target_val_acc_label: 0.3254, source_val_label_loss: 0.0099, target_val_label_loss: 2.1725, \n",
      "=============================================================\n"
     ]
    },
    {
     "name": "stdout",
     "output_type": "stream",
     "text": [
      "epoch: 4, [batch: 1 / 6316], examples_per_second: 4.1892, train_label_loss: 0.0000, \n"
     ]
    },
    {
     "name": "stdout",
     "output_type": "stream",
     "text": [
      "epoch: 4, [batch: 632 / 6316], examples_per_second: 3774.0417, train_label_loss: 0.0012, \n"
     ]
    },
    {
     "name": "stdout",
     "output_type": "stream",
     "text": [
      "epoch: 4, [batch: 1264 / 6316], examples_per_second: 4002.3555, train_label_loss: 0.0000, \n"
     ]
    },
    {
     "name": "stdout",
     "output_type": "stream",
     "text": [
      "epoch: 4, [batch: 1895 / 6316], examples_per_second: 4155.3326, train_label_loss: 0.0089, \n"
     ]
    },
    {
     "name": "stdout",
     "output_type": "stream",
     "text": [
      "epoch: 4, [batch: 2527 / 6316], examples_per_second: 4189.1608, train_label_loss: 0.0386, \n"
     ]
    },
    {
     "name": "stdout",
     "output_type": "stream",
     "text": [
      "epoch: 4, [batch: 3158 / 6316], examples_per_second: 4753.2322, train_label_loss: 0.0000, \n"
     ]
    },
    {
     "name": "stdout",
     "output_type": "stream",
     "text": [
      "epoch: 4, [batch: 3790 / 6316], examples_per_second: 3977.3871, train_label_loss: 0.0001, \n"
     ]
    },
    {
     "name": "stdout",
     "output_type": "stream",
     "text": [
      "epoch: 4, [batch: 4421 / 6316], examples_per_second: 3787.1078, train_label_loss: 0.0000, \n"
     ]
    },
    {
     "name": "stdout",
     "output_type": "stream",
     "text": [
      "epoch: 4, [batch: 5053 / 6316], examples_per_second: 3892.2152, train_label_loss: 0.0000, \n"
     ]
    },
    {
     "name": "stdout",
     "output_type": "stream",
     "text": [
      "epoch: 4, [batch: 5684 / 6316], examples_per_second: 3901.6301, train_label_loss: 0.0000, \n"
     ]
    },
    {
     "name": "stdout",
     "output_type": "stream",
     "text": [
      "=============================================================\n",
      "epoch: 4, source_val_acc_label: 0.9990, target_val_acc_label: 0.3610, source_val_label_loss: 0.0062, target_val_label_loss: 2.0021, \n",
      "=============================================================\n"
     ]
    },
    {
     "name": "stdout",
     "output_type": "stream",
     "text": [
      "epoch: 5, [batch: 1 / 6313], examples_per_second: 4.1432, train_label_loss: 0.0000, \n"
     ]
    },
    {
     "name": "stdout",
     "output_type": "stream",
     "text": [
      "epoch: 5, [batch: 632 / 6313], examples_per_second: 3871.4921, train_label_loss: 0.0477, \n"
     ]
    },
    {
     "name": "stdout",
     "output_type": "stream",
     "text": [
      "epoch: 5, [batch: 1263 / 6313], examples_per_second: 3914.0880, train_label_loss: 0.0000, \n"
     ]
    },
    {
     "name": "stdout",
     "output_type": "stream",
     "text": [
      "epoch: 5, [batch: 1894 / 6313], examples_per_second: 4060.6807, train_label_loss: 0.0000, \n"
     ]
    },
    {
     "name": "stdout",
     "output_type": "stream",
     "text": [
      "epoch: 5, [batch: 2525 / 6313], examples_per_second: 4434.4397, train_label_loss: 0.0001, \n"
     ]
    },
    {
     "name": "stdout",
     "output_type": "stream",
     "text": [
      "epoch: 5, [batch: 3157 / 6313], examples_per_second: 4717.7078, train_label_loss: 0.0002, \n"
     ]
    },
    {
     "name": "stdout",
     "output_type": "stream",
     "text": [
      "epoch: 5, [batch: 3788 / 6313], examples_per_second: 4254.1632, train_label_loss: 0.0001, \n"
     ]
    },
    {
     "name": "stdout",
     "output_type": "stream",
     "text": [
      "epoch: 5, [batch: 4419 / 6313], examples_per_second: 3861.2276, train_label_loss: 0.0000, \n"
     ]
    },
    {
     "name": "stdout",
     "output_type": "stream",
     "text": [
      "epoch: 5, [batch: 5050 / 6313], examples_per_second: 3922.4666, train_label_loss: 0.0000, \n"
     ]
    },
    {
     "name": "stdout",
     "output_type": "stream",
     "text": [
      "epoch: 5, [batch: 5681 / 6313], examples_per_second: 3938.0019, train_label_loss: 0.0001, \n"
     ]
    },
    {
     "name": "stdout",
     "output_type": "stream",
     "text": [
      "=============================================================\n",
      "epoch: 5, source_val_acc_label: 0.9987, target_val_acc_label: 0.3276, source_val_label_loss: 0.0073, target_val_label_loss: 2.1387, \n",
      "=============================================================\n"
     ]
    },
    {
     "name": "stdout",
     "output_type": "stream",
     "text": [
      "Patience (3) exhausted\n"
     ]
    }
   ],
   "source": [
    "###################################\n",
    "# train\n",
    "###################################\n",
    "jig = PTN_Train_Eval_Test_Jig(model, p.BEST_MODEL_PATH, p.device)\n",
    "\n",
    "jig.train(\n",
    "    train_iterable=datasets.source.processed.train,\n",
    "    source_val_iterable=datasets.source.processed.val,\n",
    "    target_val_iterable=datasets.target.processed.val,\n",
    "    num_epochs=p.n_epoch,\n",
    "    num_logs_per_epoch=p.NUM_LOGS_PER_EPOCH,\n",
    "    patience=p.patience,\n",
    "    optimizer=optimizer,\n",
    "    criteria_for_best=p.criteria_for_best,\n",
    ")"
   ]
  },
  {
   "cell_type": "code",
   "execution_count": 23,
   "id": "31e8fabf",
   "metadata": {
    "execution": {
     "iopub.execute_input": "2022-03-28T08:21:21.900500Z",
     "iopub.status.busy": "2022-03-28T08:21:21.899906Z",
     "iopub.status.idle": "2022-03-28T08:21:21.932539Z",
     "shell.execute_reply": "2022-03-28T08:21:21.931827Z"
    },
    "papermill": {
     "duration": 0.076331,
     "end_time": "2022-03-28T08:21:21.932692",
     "exception": false,
     "start_time": "2022-03-28T08:21:21.856361",
     "status": "completed"
    },
    "tags": []
   },
   "outputs": [],
   "source": [
    "total_experiment_time_secs = time.time() - start_time_secs"
   ]
  },
  {
   "cell_type": "code",
   "execution_count": 24,
   "id": "87b9595b",
   "metadata": {
    "execution": {
     "iopub.execute_input": "2022-03-28T08:21:22.022854Z",
     "iopub.status.busy": "2022-03-28T08:21:22.022264Z",
     "iopub.status.idle": "2022-03-28T08:24:00.259892Z",
     "shell.execute_reply": "2022-03-28T08:24:00.258983Z"
    },
    "papermill": {
     "duration": 158.281608,
     "end_time": "2022-03-28T08:24:00.260075",
     "exception": false,
     "start_time": "2022-03-28T08:21:21.978467",
     "status": "completed"
    },
    "tags": []
   },
   "outputs": [],
   "source": [
    "###################################\n",
    "# Evaluate the model\n",
    "###################################\n",
    "source_test_label_accuracy, source_test_label_loss = jig.test(datasets.source.processed.test)\n",
    "target_test_label_accuracy, target_test_label_loss = jig.test(datasets.target.processed.test)\n",
    "\n",
    "source_val_label_accuracy, source_val_label_loss = jig.test(datasets.source.processed.val)\n",
    "target_val_label_accuracy, target_val_label_loss = jig.test(datasets.target.processed.val)\n",
    "\n",
    "history = jig.get_history()\n",
    "\n",
    "total_epochs_trained = len(history[\"epoch_indices\"])\n",
    "\n",
    "val_dl = Iterable_Aggregator((datasets.source.original.val,datasets.target.original.val))\n",
    "\n",
    "confusion = ptn_confusion_by_domain_over_dataloader(model, p.device, val_dl)\n",
    "per_domain_accuracy = per_domain_accuracy_from_confusion(confusion)\n",
    "\n",
    "# Add a key to per_domain_accuracy for if it was a source domain\n",
    "for domain, accuracy in per_domain_accuracy.items():\n",
    "    per_domain_accuracy[domain] = {\n",
    "        \"accuracy\": accuracy,\n",
    "        \"source?\": domain in p.domains_source\n",
    "    }\n",
    "\n",
    "# Do an independent accuracy assesment JUST TO BE SURE!\n",
    "# _source_test_label_accuracy = independent_accuracy_assesment(model, datasets.source.processed.test, p.device)\n",
    "# _target_test_label_accuracy = independent_accuracy_assesment(model, datasets.target.processed.test, p.device)\n",
    "# _source_val_label_accuracy = independent_accuracy_assesment(model, datasets.source.processed.val, p.device)\n",
    "# _target_val_label_accuracy = independent_accuracy_assesment(model, datasets.target.processed.val, p.device)\n",
    "\n",
    "# assert(_source_test_label_accuracy == source_test_label_accuracy)\n",
    "# assert(_target_test_label_accuracy == target_test_label_accuracy)\n",
    "# assert(_source_val_label_accuracy == source_val_label_accuracy)\n",
    "# assert(_target_val_label_accuracy == target_val_label_accuracy)\n",
    "\n",
    "experiment = {\n",
    "    \"experiment_name\": p.experiment_name,\n",
    "    \"parameters\": dict(p),\n",
    "    \"results\": {\n",
    "        \"source_test_label_accuracy\": source_test_label_accuracy,\n",
    "        \"source_test_label_loss\": source_test_label_loss,\n",
    "        \"target_test_label_accuracy\": target_test_label_accuracy,\n",
    "        \"target_test_label_loss\": target_test_label_loss,\n",
    "        \"source_val_label_accuracy\": source_val_label_accuracy,\n",
    "        \"source_val_label_loss\": source_val_label_loss,\n",
    "        \"target_val_label_accuracy\": target_val_label_accuracy,\n",
    "        \"target_val_label_loss\": target_val_label_loss,\n",
    "        \"total_epochs_trained\": total_epochs_trained,\n",
    "        \"total_experiment_time_secs\": total_experiment_time_secs,\n",
    "        \"confusion\": confusion,\n",
    "        \"per_domain_accuracy\": per_domain_accuracy,\n",
    "    },\n",
    "    \"history\": history,\n",
    "    \"dataset_metrics\": get_dataset_metrics(datasets, \"ptn\"),\n",
    "}"
   ]
  },
  {
   "cell_type": "code",
   "execution_count": 25,
   "id": "54a21829",
   "metadata": {
    "execution": {
     "iopub.execute_input": "2022-03-28T08:24:00.345554Z",
     "iopub.status.busy": "2022-03-28T08:24:00.344986Z",
     "iopub.status.idle": "2022-03-28T08:24:00.565310Z",
     "shell.execute_reply": "2022-03-28T08:24:00.564613Z"
    },
    "papermill": {
     "duration": 0.262232,
     "end_time": "2022-03-28T08:24:00.565476",
     "exception": false,
     "start_time": "2022-03-28T08:24:00.303244",
     "status": "completed"
    },
    "tags": []
   },
   "outputs": [
    {
     "data": {
      "image/png": "[encoded data removed]",
      "text/plain": [
       "<Figure size 1080x504 with 1 Axes>"
      ]
     },
     "metadata": {
      "needs_background": "light"
     },
     "output_type": "display_data"
    }
   ],
   "source": [
    "ax = get_loss_curve(experiment)\n",
    "plt.show()"
   ]
  },
  {
   "cell_type": "code",
   "execution_count": 26,
   "id": "fd8a0f60",
   "metadata": {
    "execution": {
     "iopub.execute_input": "2022-03-28T08:24:00.652249Z",
     "iopub.status.busy": "2022-03-28T08:24:00.651792Z",
     "iopub.status.idle": "2022-03-28T08:24:00.980827Z",
     "shell.execute_reply": "2022-03-28T08:24:00.981126Z"
    },
    "papermill": {
     "duration": 0.372201,
     "end_time": "2022-03-28T08:24:00.981215",
     "exception": false,
     "start_time": "2022-03-28T08:24:00.609014",
     "status": "completed"
    },
    "tags": []
   },
   "outputs": [
    {
     "data": {
      "text/plain": [
       "<AxesSubplot:title={'center':'Results'}>"
      ]
     },
     "execution_count": 26,
     "metadata": {},
     "output_type": "execute_result"
    },
    {
     "data": {
      "image/png": "[encoded data removed]",
      "text/plain": [
       "<Figure size 1080x504 with 1 Axes>"
      ]
     },
     "metadata": {
      "needs_background": "light"
     },
     "output_type": "display_data"
    }
   ],
   "source": [
    "get_results_table(experiment)"
   ]
  },
  {
   "cell_type": "code",
   "execution_count": 27,
   "id": "cf8dc689",
   "metadata": {
    "execution": {
     "iopub.execute_input": "2022-03-28T08:24:01.073025Z",
     "iopub.status.busy": "2022-03-28T08:24:01.072437Z",
     "iopub.status.idle": "2022-03-28T08:24:01.311523Z",
     "shell.execute_reply": "2022-03-28T08:24:01.310677Z"
    },
    "papermill": {
     "duration": 0.288716,
     "end_time": "2022-03-28T08:24:01.311710",
     "exception": false,
     "start_time": "2022-03-28T08:24:01.022994",
     "status": "completed"
    },
    "tags": []
   },
   "outputs": [
    {
     "data": {
      "text/plain": [
       "<AxesSubplot:title={'center':'Per Domain Validation Accuracy'}, xlabel='domain'>"
      ]
     },
     "execution_count": 27,
     "metadata": {},
     "output_type": "execute_result"
    },
    {
     "data": {
      "image/png": "[encoded data removed]",
      "text/plain": [
       "<Figure size 1080x504 with 1 Axes>"
      ]
     },
     "metadata": {
      "needs_background": "light"
     },
     "output_type": "display_data"
    }
   ],
   "source": [
    "get_domain_accuracies(experiment)"
   ]
  },
  {
   "cell_type": "code",
   "execution_count": 28,
   "id": "a74ae082",
   "metadata": {
    "execution": {
     "iopub.execute_input": "2022-03-28T08:24:01.407565Z",
     "iopub.status.busy": "2022-03-28T08:24:01.407179Z",
     "iopub.status.idle": "2022-03-28T08:24:01.434938Z",
     "shell.execute_reply": "2022-03-28T08:24:01.435632Z"
    },
    "papermill": {
     "duration": 0.07613,
     "end_time": "2022-03-28T08:24:01.435815",
     "exception": false,
     "start_time": "2022-03-28T08:24:01.359685",
     "status": "completed"
    },
    "tags": []
   },
   "outputs": [
    {
     "name": "stdout",
     "output_type": "stream",
     "text": [
      "Source Test Label Accuracy: 0.9927612994350282 Target Test Label Accuracy: 0.3839518229166667\n",
      "Source Val Label Accuracy: 0.9939642857142857 Target Val Label Accuracy: 0.384765625\n"
     ]
    }
   ],
   "source": [
    "print(\"Source Test Label Accuracy:\", experiment[\"results\"][\"source_test_label_accuracy\"], \"Target Test Label Accuracy:\", experiment[\"results\"][\"target_test_label_accuracy\"])\n",
    "print(\"Source Val Label Accuracy:\", experiment[\"results\"][\"source_val_label_accuracy\"], \"Target Val Label Accuracy:\", experiment[\"results\"][\"target_val_label_accuracy\"])"
   ]
  },
  {
   "cell_type": "code",
   "execution_count": 29,
   "id": "dacca602",
   "metadata": {
    "execution": {
     "iopub.execute_input": "2022-03-28T08:24:01.528956Z",
     "iopub.status.busy": "2022-03-28T08:24:01.528590Z",
     "iopub.status.idle": "2022-03-28T08:24:01.559984Z",
     "shell.execute_reply": "2022-03-28T08:24:01.560652Z"
    },
    "papermill": {
     "duration": 0.077343,
     "end_time": "2022-03-28T08:24:01.560831",
     "exception": false,
     "start_time": "2022-03-28T08:24:01.483488",
     "status": "completed"
    },
    "tags": [
     "experiment_json"
    ]
   },
   "outputs": [
    {
     "data": {
      "text/plain": [
       "'{\"experiment_name\": \"tl_3-jitter10v2:cores -> oracle.run1.framed\", \"parameters\": {\"experiment_name\": \"tl_3-jitter10v2:cores -> oracle.run1.framed\", \"device\": \"cuda\", \"lr\": 0.0001, \"x_shape\": [2, 256], \"n_shot\": 3, \"n_query\": 2, \"train_k_factor\": 3, \"val_k_factor\": 2, \"test_k_factor\": 2, \"torch_default_dtype\": \"torch.float32\", \"n_epoch\": 50, \"patience\": 3, \"criteria_for_best\": \"target_accuracy\", \"x_net\": [{\"class\": \"nnReshape\", \"kargs\": {\"shape\": [-1, 1, 2, 256]}}, {\"class\": \"Conv2d\", \"kargs\": {\"in_channels\": 1, \"out_channels\": 256, \"kernel_size\": [1, 7], \"bias\": false, \"padding\": [0, 3]}}, {\"class\": \"ReLU\", \"kargs\": {\"inplace\": true}}, {\"class\": \"BatchNorm2d\", \"kargs\": {\"num_features\": 256}}, {\"class\": \"Conv2d\", \"kargs\": {\"in_channels\": 256, \"out_channels\": 80, \"kernel_size\": [2, 7], \"bias\": true, \"padding\": [0, 3]}}, {\"class\": \"ReLU\", \"kargs\": {\"inplace\": true}}, {\"class\": \"BatchNorm2d\", \"kargs\": {\"num_features\": 80}}, {\"class\": \"Flatten\", \"kargs\": {}}, {\"class\": \"Linear\", \"kargs\": {\"in_features\": 20480, \"out_features\": 256}}, {\"class\": \"ReLU\", \"kargs\": {\"inplace\": true}}, {\"class\": \"BatchNorm1d\", \"kargs\": {\"num_features\": 256}}, {\"class\": \"Linear\", \"kargs\": {\"in_features\": 256, \"out_features\": 256}}], \"NUM_LOGS_PER_EPOCH\": 10, \"BEST_MODEL_PATH\": \"./best_model.pth\", \"n_way\": 16, \"datasets\": [{\"labels\": [\"1-10.\", \"1-11.\", \"1-15.\", \"1-16.\", \"1-17.\", \"1-18.\", \"1-19.\", \"10-4.\", \"10-7.\", \"11-1.\", \"11-14.\", \"11-17.\", \"11-20.\", \"11-7.\", \"13-20.\", \"13-8.\", \"14-10.\", \"14-11.\", \"14-14.\", \"14-7.\", \"15-1.\", \"15-20.\", \"16-1.\", \"16-16.\", \"17-10.\", \"17-11.\", \"17-2.\", \"19-1.\", \"19-16.\", \"19-19.\", \"19-20.\", \"19-3.\", \"2-10.\", \"2-11.\", \"2-17.\", \"2-18.\", \"2-20.\", \"2-3.\", \"2-4.\", \"2-5.\", \"2-6.\", \"2-7.\", \"2-8.\", \"3-13.\", \"3-18.\", \"3-3.\", \"4-1.\", \"4-10.\", \"4-11.\", \"4-19.\", \"5-5.\", \"6-15.\", \"7-10.\", \"7-14.\", \"8-18.\", \"8-20.\", \"8-3.\", \"8-8.\"], \"domains\": [1, 2, 3, 4, 5], \"num_examples_per_domain_per_label\": -1, \"pickle_path\": \"/root/csc500-main/datasets/cores.stratified_ds.2022A.pkl\", \"source_or_target_dataset\": \"source\", \"x_transforms\": [\"unit_power\", \"jitter_256_10\", \"lowpass_+/-10MHz\", \"take_200\"], \"episode_transforms\": [], \"domain_prefix\": \"C_\"}, {\"labels\": [\"3123D52\", \"3123D65\", \"3123D79\", \"3123D80\", \"3123D54\", \"3123D70\", \"3123D7B\", \"3123D89\", \"3123D58\", \"3123D76\", \"3123D7D\", \"3123EFE\", \"3123D64\", \"3123D78\", \"3123D7E\", \"3124E4A\"], \"domains\": [32, 38, 8, 44, 14, 50, 20, 26], \"num_examples_per_domain_per_label\": 2000, \"pickle_path\": \"/root/csc500-main/datasets/oracle.Run1_framed_2000Examples_stratified_ds.2022A.pkl\", \"source_or_target_dataset\": \"target\", \"x_transforms\": [\"unit_power\", \"jitter_256_10\", \"take_200\", \"resample_20Msps_to_25Msps\"], \"episode_transforms\": [], \"domain_prefix\": \"O_\"}], \"seed\": 7, \"dataset_seed\": 7, \"domains_source\": [\"C_1\", \"C_2\", \"C_3\", \"C_4\", \"C_5\"], \"domains_target\": [\"O_32\", \"O_38\", \"O_8\", \"O_44\", \"O_14\", \"O_50\", \"O_20\", \"O_26\"]}, \"results\": {\"source_test_label_accuracy\": 0.9927612994350282, \"source_test_label_loss\": 0.1671215146780014, \"target_test_label_accuracy\": 0.3839518229166667, \"target_test_label_loss\": 1.7332701683044434, \"source_val_label_accuracy\": 0.9939642857142857, \"source_val_label_loss\": 0.11398845165967941, \"target_val_label_accuracy\": 0.384765625, \"target_val_label_loss\": 1.720794439315796, \"total_epochs_trained\": 5, \"total_experiment_time_secs\": 880.6325039863586, \"confusion\": {\"C_5\": {\"26\": {\"26\": 24}, \"7\": {\"7\": 32}, \"56\": {\"56\": 142}, \"36\": {\"36\": 72, \"40\": 7, \"57\": 2, \"29\": 2, \"0\": 6, \"28\": 2, \"33\": 1}, \"47\": {\"47\": 100}, \"2\": {\"2\": 28}, \"15\": {\"15\": 152}, \"14\": {\"46\": 2, \"14\": 34, \"3\": 3, \"47\": 2, \"5\": 2, \"57\": 1}, \"27\": {\"27\": 146}, \"40\": {\"40\": 124}, \"49\": {\"49\": 36}, \"45\": {\"45\": 122, \"17\": 2}, \"46\": {\"46\": 136}, \"11\": {\"11\": 130}, \"30\": {\"30\": 112}, \"0\": {\"0\": 124}, \"10\": {\"10\": 68}, \"1\": {\"1\": 148}, \"42\": {\"42\": 38, \"10\": 1, \"3\": 1}, \"54\": {\"54\": 110, \"5\": 1, \"29\": 1}, \"55\": {\"55\": 152}, \"23\": {\"23\": 124}, \"25\": {\"25\": 152}, \"28\": {\"28\": 32}, \"32\": {\"32\": 32}, \"9\": {\"9\": 142}, \"39\": {\"39\": 20}, \"3\": {\"3\": 100}, \"29\": {\"29\": 118}, \"17\": {\"17\": 116}, \"35\": {\"35\": 36}, \"44\": {\"44\": 152}, \"5\": {\"5\": 128}, \"33\": {\"33\": 32}, \"34\": {\"34\": 36}, \"13\": {\"13\": 138}, \"41\": {\"41\": 28}, \"6\": {\"6\": 127, \"20\": 1}, \"51\": {\"51\": 138}, \"50\": {\"50\": 144}, \"37\": {\"37\": 24}, \"19\": {\"19\": 144}, \"57\": {\"57\": 132}, \"21\": {\"21\": 144}, \"24\": {\"24\": 80}, \"8\": {\"8\": 130}, \"12\": {\"12\": 96}, \"48\": {\"48\": 132}, \"43\": {\"43\": 150}, \"53\": {\"53\": 148}, \"38\": {\"38\": 32}, \"16\": {\"16\": 142}, \"22\": {\"22\": 28}, \"4\": {\"4\": 100}, \"18\": {\"18\": 64}, \"20\": {\"20\": 144}, \"52\": {\"52\": 140}, \"31\": {\"31\": 34, \"29\": 2}}, \"C_1\": {\"41\": {\"41\": 24}, \"40\": {\"40\": 110}, \"45\": {\"45\": 138}, \"51\": {\"51\": 148}, \"5\": {\"5\": 154}, \"30\": {\"30\": 120}, \"42\": {\"42\": 40}, \"46\": {\"46\": 136}, \"48\": {\"48\": 134}, \"53\": {\"53\": 144}, \"47\": {\"47\": 152}, \"49\": {\"49\": 32}, \"36\": {\"36\": 64}, \"32\": {\"32\": 32}, \"34\": {\"32\": 2, \"34\": 18, \"57\": 1, \"54\": 1, \"26\": 1, \"44\": 1}, \"29\": {\"29\": 138, \"57\": 2}, \"35\": {\"35\": 30, \"29\": 4, \"32\": 2}, \"3\": {\"3\": 134}, \"16\": {\"16\": 140}, \"26\": {\"26\": 24}, \"57\": {\"57\": 144}, \"44\": {\"44\": 110, \"54\": 2, \"29\": 10, \"32\": 4, \"57\": 2}, \"0\": {\"0\": 152}, \"4\": {\"4\": 132}, \"31\": {\"31\": 28}, \"11\": {\"11\": 140}, \"6\": {\"6\": 96}, \"54\": {\"54\": 90, \"32\": 2, \"1\": 5, \"44\": 3, \"40\": 1, \"57\": 3}, \"17\": {\"17\": 64}, \"20\": {\"20\": 128}, \"13\": {\"13\": 150}, \"33\": {\"33\": 32}, \"24\": {\"24\": 108}, \"52\": {\"52\": 132}, \"2\": {\"2\": 36}, \"19\": {\"19\": 156}, \"39\": {\"39\": 28}, \"8\": {\"8\": 140}, \"21\": {\"21\": 124}, \"10\": {\"10\": 96}, \"37\": {\"37\": 32}, \"25\": {\"25\": 144}, \"27\": {\"27\": 130}, \"23\": {\"23\": 136}, \"1\": {\"1\": 100}, \"50\": {\"50\": 152}, \"12\": {\"12\": 116}, \"18\": {\"18\": 72}, \"38\": {\"38\": 24}, \"14\": {\"14\": 21, \"30\": 2, \"5\": 1}, \"56\": {\"56\": 142}, \"55\": {\"55\": 160}, \"9\": {\"9\": 138}, \"15\": {\"15\": 146}, \"28\": {\"28\": 28}, \"7\": {\"7\": 28}, \"43\": {\"43\": 136}, \"22\": {\"22\": 136}}, \"C_3\": {\"1\": {\"1\": 100}, \"9\": {\"9\": 124}, \"22\": {\"22\": 136}, \"43\": {\"43\": 136}, \"49\": {\"49\": 20}, \"50\": {\"50\": 138}, \"53\": {\"53\": 136}, \"10\": {\"10\": 64}, \"48\": {\"48\": 116}, \"8\": {\"8\": 138}, \"31\": {\"31\": 28}, \"56\": {\"56\": 134}, \"25\": {\"25\": 142}, \"28\": {\"28\": 28}, \"38\": {\"38\": 28}, \"5\": {\"5\": 115, \"16\": 1}, \"12\": {\"12\": 92}, \"6\": {\"6\": 86, \"52\": 1, \"26\": 1}, \"19\": {\"19\": 152}, \"26\": {\"26\": 24}, \"32\": {\"32\": 28}, \"33\": {\"33\": 28}, \"3\": {\"3\": 117, \"16\": 1}, \"51\": {\"51\": 128}, \"16\": {\"16\": 138}, \"46\": {\"46\": 140}, \"7\": {\"7\": 36}, \"47\": {\"47\": 92}, \"39\": {\"39\": 15, \"57\": 1}, \"40\": {\"40\": 133, \"29\": 1, \"44\": 1, \"57\": 1}, \"14\": {\"14\": 40}, \"37\": {\"37\": 28}, \"2\": {\"2\": 32}, \"21\": {\"21\": 120}, \"35\": {\"35\": 27, \"5\": 1}, \"54\": {\"54\": 98, \"32\": 2}, \"52\": {\"52\": 116}, \"29\": {\"29\": 114, \"9\": 3, \"40\": 1}, \"20\": {\"20\": 132}, \"18\": {\"18\": 84}, \"11\": {\"11\": 142}, \"0\": {\"0\": 124}, \"36\": {\"36\": 100}, \"17\": {\"17\": 108}, \"30\": {\"30\": 114}, \"42\": {\"42\": 28}, \"45\": {\"45\": 59, \"33\": 1}, \"4\": {\"4\": 148}, \"23\": {\"23\": 134}, \"13\": {\"13\": 128}, \"15\": {\"15\": 128}, \"57\": {\"57\": 124}, \"27\": {\"27\": 134}, \"44\": {\"44\": 75, \"57\": 6, \"9\": 1, \"40\": 5, \"29\": 1}, \"34\": {\"34\": 32}, \"41\": {\"41\": 28}, \"24\": {\"24\": 104}, \"55\": {\"55\": 118}}, \"C_4\": {\"52\": {\"52\": 116}, \"6\": {\"6\": 111, \"3\": 1}, \"14\": {\"14\": 15, \"46\": 1}, \"49\": {\"49\": 20}, \"0\": {\"0\": 79, \"46\": 1}, \"46\": {\"46\": 151, \"15\": 3, \"47\": 2}, \"41\": {\"41\": 36}, \"24\": {\"24\": 56}, \"25\": {\"25\": 152}, \"40\": {\"40\": 138}, \"38\": {\"38\": 40}, \"13\": {\"13\": 152}, \"9\": {\"9\": 108}, \"45\": {\"45\": 94, \"17\": 2}, \"43\": {\"43\": 144}, \"10\": {\"10\": 130}, \"15\": {\"15\": 128}, \"39\": {\"39\": 20}, \"4\": {\"4\": 132}, \"53\": {\"53\": 132}, \"1\": {\"1\": 40}, \"28\": {\"28\": 32}, \"54\": {\"54\": 94, \"57\": 4, \"29\": 8, \"47\": 2}, \"21\": {\"21\": 132}, \"7\": {\"7\": 24}, \"8\": {\"8\": 136}, \"42\": {\"42\": 32}, \"11\": {\"11\": 104}, \"33\": {\"33\": 36}, \"27\": {\"27\": 142}, \"19\": {\"19\": 144}, \"2\": {\"2\": 36}, \"3\": {\"3\": 116, \"50\": 3, \"53\": 1}, \"57\": {\"57\": 100}, \"20\": {\"20\": 112}, \"23\": {\"23\": 128}, \"22\": {\"22\": 128}, \"29\": {\"29\": 124}, \"36\": {\"36\": 92}, \"51\": {\"51\": 132}, \"31\": {\"31\": 28}, \"12\": {\"12\": 92}, \"56\": {\"56\": 138}, \"5\": {\"5\": 108}, \"35\": {\"35\": 35, \"57\": 3, \"0\": 1, \"33\": 1}, \"17\": {\"17\": 80}, \"32\": {\"32\": 24}, \"47\": {\"47\": 120}, \"18\": {\"18\": 107, \"22\": 1}, \"26\": {\"26\": 24}, \"50\": {\"50\": 118, \"3\": 3, \"51\": 1}, \"55\": {\"55\": 124}, \"34\": {\"34\": 24}, \"30\": {\"30\": 44}, \"37\": {\"37\": 24}, \"44\": {\"44\": 132}, \"48\": {\"48\": 118}, \"16\": {\"16\": 96}}, \"C_2\": {\"11\": {\"11\": 130}, \"21\": {\"21\": 120}, \"19\": {\"19\": 140}, \"20\": {\"20\": 128}, \"9\": {\"9\": 140}, \"10\": {\"10\": 112}, \"37\": {\"37\": 36}, \"32\": {\"32\": 28}, \"3\": {\"3\": 92}, \"39\": {\"39\": 28}, \"45\": {\"45\": 128}, \"50\": {\"50\": 136}, \"40\": {\"40\": 140}, \"46\": {\"46\": 128}, \"12\": {\"12\": 92}, \"13\": {\"13\": 116}, \"47\": {\"47\": 132}, \"15\": {\"15\": 142}, \"54\": {\"54\": 107, \"9\": 1}, \"48\": {\"48\": 148}, \"23\": {\"23\": 142}, \"29\": {\"29\": 128}, \"38\": {\"38\": 20}, \"53\": {\"53\": 136}, \"27\": {\"27\": 150}, \"43\": {\"43\": 144}, \"35\": {\"35\": 32}, \"0\": {\"0\": 48}, \"52\": {\"52\": 124}, \"8\": {\"8\": 128}, \"24\": {\"24\": 96}, \"18\": {\"18\": 48}, \"25\": {\"25\": 148}, \"57\": {\"57\": 134, \"29\": 2}, \"55\": {\"55\": 134}, \"36\": {\"36\": 116}, \"17\": {\"17\": 104}, \"2\": {\"2\": 32}, \"34\": {\"34\": 28}, \"1\": {\"1\": 112}, \"51\": {\"51\": 136}, \"31\": {\"31\": 28}, \"49\": {\"49\": 24}, \"14\": {\"14\": 22, \"0\": 1, \"28\": 1}, \"33\": {\"33\": 28}, \"41\": {\"41\": 20}, \"28\": {\"28\": 28}, \"5\": {\"5\": 119, \"31\": 1}, \"16\": {\"16\": 150}, \"4\": {\"4\": 128}, \"22\": {\"22\": 136}, \"6\": {\"6\": 116, \"7\": 1, \"52\": 1}, \"30\": {\"30\": 124}, \"26\": {\"26\": 24}, \"56\": {\"56\": 142}, \"42\": {\"42\": 36}, \"44\": {\"44\": 94, \"0\": 2, \"55\": 2, \"57\": 2}, \"7\": {\"7\": 36}}, \"O_26\": {\"0\": {\"14\": 28, \"10\": 35, \"6\": 16, \"2\": 5, \"9\": 9, \"4\": 33, \"0\": 32, \"13\": 2, \"1\": 27, \"8\": 18, \"5\": 3, \"3\": 7, \"7\": 16, \"15\": 5, \"12\": 4}, \"4\": {\"6\": 14, \"0\": 18, \"4\": 42, \"14\": 32, \"1\": 29, \"7\": 28, \"2\": 9, \"3\": 13, \"10\": 19, \"9\": 9, \"15\": 1, \"8\": 21, \"13\": 1, \"5\": 2, \"11\": 1, \"12\": 1}, \"14\": {\"0\": 33, \"10\": 32, \"4\": 26, \"9\": 10, \"6\": 10, \"7\": 16, \"14\": 20, \"8\": 17, \"1\": 36, \"12\": 1, \"15\": 3, \"2\": 13, \"3\": 18, \"5\": 4, \"13\": 1}, \"12\": {\"12\": 175, \"11\": 39, \"6\": 14, \"10\": 3, \"15\": 3, \"9\": 3, \"13\": 2, \"0\": 1}, \"8\": {\"9\": 24, \"0\": 21, \"14\": 22, \"7\": 13, \"15\": 18, \"5\": 22, \"6\": 23, \"1\": 9, \"2\": 12, \"13\": 10, \"10\": 19, \"4\": 21, \"8\": 15, \"3\": 10, \"12\": 1}, \"7\": {\"0\": 23, \"8\": 16, \"3\": 34, \"7\": 38, \"2\": 27, \"4\": 30, \"14\": 12, \"1\": 12, \"15\": 9, \"9\": 7, \"5\": 11, \"10\": 12, \"6\": 7, \"13\": 2}, \"13\": {\"9\": 28, \"13\": 89, \"15\": 37, \"8\": 9, \"5\": 39, \"10\": 5, \"11\": 3, \"6\": 12, \"12\": 3, \"7\": 3, \"0\": 6, \"2\": 5, \"3\": 1}, \"5\": {\"10\": 4, \"15\": 30, \"5\": 42, \"9\": 31, \"13\": 41, \"8\": 15, \"2\": 17, \"1\": 2, \"4\": 3, \"7\": 16, \"3\": 19, \"14\": 6, \"6\": 11, \"0\": 2, \"11\": 1}, \"15\": {\"7\": 16, \"9\": 31, \"5\": 33, \"8\": 20, \"0\": 7, \"15\": 36, \"6\": 26, \"14\": 3, \"13\": 34, \"4\": 5, \"2\": 14, \"3\": 4, \"1\": 1, \"10\": 9, \"11\": 1}, \"10\": {\"9\": 18, \"7\": 12, \"10\": 42, \"4\": 22, \"6\": 21, \"0\": 20, \"8\": 25, \"13\": 4, \"14\": 26, \"15\": 7, \"3\": 14, \"2\": 12, \"1\": 11, \"5\": 4, \"12\": 2}, \"3\": {\"2\": 50, \"3\": 56, \"7\": 40, \"14\": 10, \"4\": 17, \"9\": 6, \"13\": 4, \"1\": 9, \"0\": 6, \"15\": 10, \"5\": 12, \"10\": 7, \"8\": 10, \"6\": 3}, \"9\": {\"8\": 12, \"9\": 56, \"13\": 18, \"7\": 8, \"15\": 23, \"6\": 28, \"0\": 17, \"4\": 12, \"12\": 6, \"10\": 9, \"14\": 6, \"5\": 28, \"3\": 8, \"2\": 8, \"11\": 1}, \"6\": {\"9\": 40, \"15\": 29, \"8\": 20, \"7\": 5, \"12\": 14, \"10\": 16, \"2\": 4, \"14\": 10, \"6\": 47, \"5\": 10, \"1\": 3, \"4\": 7, \"13\": 17, \"0\": 13, \"3\": 2, \"11\": 3}, \"1\": {\"1\": 63, \"4\": 47, \"14\": 38, \"0\": 22, \"10\": 21, \"7\": 14, \"3\": 8, \"8\": 13, \"9\": 4, \"2\": 5, \"6\": 3, \"5\": 1, \"12\": 1}, \"11\": {\"11\": 197, \"8\": 1, \"12\": 34, \"5\": 3, \"13\": 4, \"6\": 1}, \"2\": {\"8\": 8, \"3\": 40, \"5\": 28, \"14\": 7, \"9\": 13, \"7\": 37, \"2\": 44, \"15\": 16, \"13\": 13, \"6\": 12, \"4\": 11, \"0\": 5, \"10\": 6}}, \"O_44\": {\"1\": {\"10\": 42, \"1\": 54, \"12\": 61, \"3\": 45, \"2\": 23, \"7\": 13, \"6\": 1, \"9\": 1}, \"11\": {\"6\": 18, \"11\": 170, \"13\": 36, \"4\": 1, \"9\": 10, \"7\": 3, \"2\": 1, \"10\": 1}, \"3\": {\"1\": 52, \"3\": 131, \"12\": 24, \"7\": 8, \"10\": 13, \"9\": 3, \"2\": 6, \"13\": 1, \"4\": 2}, \"6\": {\"9\": 35, \"7\": 21, \"6\": 92, \"13\": 56, \"11\": 23, \"2\": 13}, \"7\": {\"9\": 58, \"3\": 8, \"11\": 2, \"2\": 52, \"6\": 14, \"7\": 66, \"1\": 6, \"13\": 16, \"12\": 3, \"10\": 14, \"14\": 1}, \"5\": {\"5\": 116, \"8\": 23, \"0\": 33, \"14\": 30, \"4\": 16, \"15\": 22}, \"2\": {\"3\": 7, \"2\": 65, \"7\": 60, \"10\": 51, \"9\": 11, \"1\": 30, \"6\": 5, \"12\": 8, \"13\": 3}, \"15\": {\"15\": 88, \"14\": 35, \"0\": 42, \"4\": 19, \"8\": 28, \"5\": 28}, \"10\": {\"10\": 101, \"1\": 35, \"7\": 8, \"12\": 46, \"2\": 36, \"11\": 1, \"3\": 10, \"6\": 1, \"9\": 2}, \"13\": {\"13\": 74, \"6\": 61, \"11\": 24, \"9\": 46, \"7\": 18, \"4\": 8, \"14\": 6, \"2\": 2, \"5\": 1}, \"8\": {\"8\": 106, \"15\": 26, \"0\": 90, \"5\": 14, \"4\": 1, \"14\": 3}, \"4\": {\"8\": 1, \"4\": 107, \"15\": 26, \"14\": 75, \"13\": 6, \"5\": 15, \"0\": 1, \"9\": 7, \"6\": 1, \"11\": 1}, \"9\": {\"9\": 72, \"13\": 46, \"6\": 27, \"7\": 61, \"2\": 10, \"3\": 5, \"14\": 3, \"4\": 6, \"10\": 2, \"11\": 4, \"1\": 4}, \"14\": {\"4\": 82, \"14\": 76, \"15\": 31, \"0\": 8, \"5\": 34, \"8\": 4, \"7\": 2, \"13\": 2, \"9\": 1}, \"0\": {\"5\": 34, \"8\": 73, \"0\": 90, \"15\": 35, \"14\": 8}, \"12\": {\"12\": 96, \"1\": 65, \"2\": 7, \"10\": 43, \"3\": 29}}, \"O_50\": {\"15\": {\"11\": 28, \"15\": 81, \"4\": 36, \"6\": 30, \"9\": 3, \"1\": 45, \"5\": 5, \"14\": 4, \"7\": 2, \"13\": 4, \"0\": 1, \"2\": 1}, \"4\": {\"4\": 56, \"1\": 40, \"6\": 28, \"7\": 13, \"11\": 15, \"5\": 30, \"15\": 38, \"14\": 2, \"13\": 12, \"9\": 2, \"10\": 3, \"2\": 1}, \"6\": {\"13\": 33, \"6\": 58, \"5\": 21, \"10\": 9, \"7\": 17, \"1\": 30, \"15\": 27, \"4\": 28, \"14\": 1, \"0\": 14, \"2\": 1, \"11\": 1}, \"2\": {\"2\": 146, \"14\": 19, \"0\": 63, \"6\": 5, \"10\": 2, \"1\": 3, \"8\": 1, \"15\": 1}, \"5\": {\"13\": 49, \"6\": 22, \"5\": 53, \"7\": 39, \"10\": 18, \"4\": 28, \"1\": 16, \"15\": 9, \"0\": 2, \"2\": 1, \"8\": 2, \"11\": 1}, \"9\": {\"14\": 13, \"11\": 63, \"9\": 117, \"12\": 39, \"15\": 4, \"1\": 3, \"4\": 1}, \"8\": {\"0\": 15, \"8\": 147, \"3\": 39, \"10\": 34, \"5\": 1, \"13\": 1, \"7\": 3}, \"12\": {\"14\": 44, \"12\": 147, \"9\": 32, \"11\": 15, \"2\": 2}, \"10\": {\"8\": 36, \"13\": 25, \"10\": 89, \"0\": 44, \"2\": 5, \"7\": 24, \"6\": 3, \"3\": 3, \"4\": 1, \"5\": 8, \"1\": 2}, \"1\": {\"15\": 55, \"4\": 42, \"1\": 63, \"13\": 6, \"11\": 10, \"6\": 27, \"5\": 12, \"9\": 3, \"10\": 4, \"0\": 8, \"2\": 5, \"7\": 2, \"14\": 3}, \"0\": {\"0\": 119, \"7\": 2, \"2\": 64, \"10\": 29, \"8\": 10, \"13\": 10, \"6\": 3, \"5\": 1, \"4\": 1, \"1\": 1}, \"3\": {\"8\": 52, \"3\": 184, \"10\": 4}, \"13\": {\"7\": 45, \"4\": 13, \"5\": 43, \"10\": 29, \"13\": 52, \"6\": 33, \"2\": 2, \"15\": 5, \"1\": 11, \"0\": 5, \"8\": 2}, \"11\": {\"9\": 48, \"4\": 9, \"14\": 23, \"11\": 114, \"15\": 30, \"12\": 5, \"1\": 11}, \"7\": {\"6\": 14, \"7\": 84, \"13\": 53, \"5\": 45, \"10\": 25, \"15\": 1, \"1\": 4, \"0\": 5, \"8\": 2, \"4\": 5, \"3\": 2}, \"14\": {\"14\": 145, \"12\": 43, \"11\": 16, \"2\": 12, \"15\": 3, \"6\": 3, \"1\": 7, \"9\": 11}}, \"O_38\": {\"15\": {\"8\": 17, \"1\": 34, \"13\": 58, \"15\": 71, \"9\": 1, \"2\": 23, \"10\": 13, \"6\": 3, \"0\": 2, \"5\": 13, \"14\": 5}, \"11\": {\"14\": 93, \"12\": 9, \"11\": 105, \"15\": 2, \"10\": 17, \"2\": 12, \"13\": 1, \"4\": 1}, \"10\": {\"14\": 11, \"13\": 27, \"7\": 18, \"11\": 12, \"10\": 84, \"8\": 25, \"0\": 9, \"2\": 11, \"5\": 12, \"12\": 9, \"15\": 22}, \"14\": {\"14\": 104, \"11\": 81, \"2\": 29, \"10\": 13, \"15\": 6, \"5\": 1, \"12\": 4, \"13\": 2}, \"6\": {\"9\": 81, \"1\": 12, \"0\": 6, \"6\": 106, \"8\": 4, \"5\": 11, \"3\": 12, \"15\": 5, \"13\": 2, \"7\": 1}, \"4\": {\"4\": 187, \"12\": 42, \"7\": 6, \"10\": 4, \"8\": 1}, \"13\": {\"13\": 75, \"2\": 35, \"8\": 22, \"0\": 4, \"15\": 42, \"1\": 19, \"5\": 13, \"10\": 21, \"11\": 3, \"14\": 4, \"7\": 1, \"12\": 1}, \"3\": {\"9\": 39, \"7\": 18, \"3\": 144, \"5\": 7, \"0\": 21, \"6\": 11}, \"7\": {\"5\": 20, \"7\": 107, \"0\": 45, \"6\": 7, \"9\": 5, \"3\": 15, \"8\": 26, \"10\": 7, \"15\": 3, \"4\": 3, \"1\": 1, \"13\": 1}, \"8\": {\"0\": 44, \"5\": 56, \"8\": 70, \"13\": 13, \"10\": 14, \"15\": 14, \"1\": 7, \"7\": 13, \"3\": 3, \"9\": 2, \"14\": 1, \"6\": 3}, \"1\": {\"1\": 156, \"13\": 16, \"15\": 30, \"5\": 7, \"6\": 18, \"0\": 3, \"8\": 6, \"2\": 3, \"9\": 1}, \"5\": {\"7\": 25, \"13\": 15, \"8\": 46, \"0\": 38, \"1\": 5, \"5\": 46, \"15\": 22, \"6\": 20, \"3\": 7, \"10\": 8, \"9\": 5, \"2\": 3}, \"0\": {\"0\": 69, \"7\": 39, \"5\": 28, \"8\": 39, \"2\": 2, \"10\": 11, \"12\": 3, \"9\": 9, \"15\": 5, \"1\": 9, \"13\": 3, \"3\": 12, \"4\": 3, \"6\": 7, \"14\": 1}, \"2\": {\"11\": 15, \"13\": 36, \"2\": 129, \"10\": 14, \"14\": 26, \"15\": 17, \"1\": 1, \"12\": 1, \"8\": 1}, \"12\": {\"12\": 183, \"13\": 1, \"11\": 6, \"10\": 14, \"14\": 9, \"4\": 23, \"0\": 4}, \"9\": {\"8\": 4, \"9\": 93, \"3\": 26, \"6\": 90, \"10\": 1, \"0\": 7, \"5\": 11, \"7\": 4, \"1\": 2, \"13\": 1, \"15\": 1}}, \"O_20\": {\"10\": {\"10\": 83, \"6\": 18, \"8\": 18, \"2\": 3, \"14\": 49, \"7\": 14, \"3\": 12, \"4\": 24, \"12\": 12, \"9\": 5, \"0\": 1, \"1\": 1}, \"7\": {\"6\": 32, \"9\": 17, \"7\": 42, \"3\": 15, \"8\": 14, \"2\": 24, \"4\": 11, \"12\": 14, \"10\": 9, \"0\": 7, \"5\": 13, \"1\": 8, \"14\": 9, \"11\": 10, \"13\": 10, \"15\": 5}, \"4\": {\"8\": 28, \"5\": 21, \"12\": 29, \"4\": 40, \"10\": 23, \"14\": 20, \"7\": 19, \"6\": 11, \"3\": 15, \"9\": 12, \"2\": 3, \"1\": 6, \"15\": 2, \"0\": 11}, \"13\": {\"13\": 88, \"15\": 38, \"2\": 24, \"11\": 13, \"3\": 8, \"9\": 19, \"7\": 11, \"0\": 11, \"12\": 8, \"4\": 2, \"1\": 14, \"5\": 3, \"14\": 1}, \"1\": {\"1\": 32, \"0\": 24, \"2\": 24, \"15\": 22, \"9\": 22, \"5\": 28, \"7\": 8, \"3\": 23, \"13\": 14, \"12\": 28, \"6\": 2, \"10\": 3, \"4\": 4, \"8\": 6}, \"0\": {\"0\": 57, \"5\": 32, \"15\": 32, \"4\": 6, \"13\": 16, \"9\": 11, \"1\": 19, \"8\": 12, \"14\": 3, \"11\": 1, \"2\": 14, \"12\": 15, \"3\": 6, \"7\": 13, \"10\": 1, \"6\": 2}, \"12\": {\"15\": 19, \"5\": 25, \"3\": 18, \"8\": 8, \"2\": 22, \"4\": 20, \"7\": 16, \"9\": 27, \"0\": 24, \"12\": 21, \"13\": 6, \"14\": 3, \"1\": 25, \"6\": 1, \"10\": 5}, \"5\": {\"5\": 30, \"12\": 28, \"15\": 22, \"9\": 9, \"13\": 14, \"4\": 9, \"3\": 21, \"0\": 34, \"8\": 15, \"1\": 31, \"7\": 10, \"2\": 11, \"11\": 1, \"14\": 2, \"6\": 2, \"10\": 1}, \"6\": {\"8\": 19, \"6\": 72, \"7\": 22, \"11\": 15, \"14\": 55, \"10\": 23, \"9\": 3, \"2\": 8, \"4\": 5, \"3\": 10, \"5\": 2, \"0\": 2, \"13\": 2, \"12\": 2}, \"2\": {\"5\": 16, \"3\": 21, \"13\": 28, \"12\": 11, \"2\": 41, \"10\": 3, \"7\": 23, \"9\": 27, \"14\": 5, \"11\": 2, \"0\": 18, \"8\": 11, \"15\": 8, \"1\": 14, \"6\": 4, \"4\": 8}, \"8\": {\"8\": 51, \"2\": 13, \"4\": 32, \"3\": 14, \"9\": 6, \"14\": 32, \"6\": 20, \"1\": 8, \"0\": 8, \"12\": 6, \"5\": 16, \"10\": 18, \"7\": 10, \"13\": 2, \"11\": 1, \"15\": 3}, \"11\": {\"14\": 3, \"11\": 174, \"13\": 22, \"6\": 12, \"10\": 1, \"3\": 2, \"7\": 8, \"2\": 9, \"5\": 2, \"1\": 2, \"8\": 3, \"9\": 2}, \"9\": {\"5\": 17, \"9\": 42, \"2\": 20, \"12\": 23, \"4\": 13, \"8\": 11, \"13\": 12, \"7\": 27, \"3\": 18, \"0\": 4, \"11\": 2, \"15\": 8, \"1\": 22, \"6\": 11, \"14\": 4, \"10\": 6}, \"14\": {\"14\": 65, \"8\": 29, \"10\": 58, \"4\": 21, \"3\": 5, \"7\": 7, \"6\": 43, \"2\": 4, \"9\": 2, \"12\": 4, \"5\": 1, \"0\": 1}, \"15\": {\"15\": 39, \"13\": 29, \"5\": 28, \"12\": 18, \"2\": 16, \"1\": 43, \"9\": 12, \"0\": 27, \"4\": 2, \"3\": 13, \"7\": 9, \"11\": 2, \"8\": 2}, \"3\": {\"3\": 24, \"0\": 13, \"9\": 33, \"6\": 9, \"12\": 29, \"7\": 16, \"2\": 28, \"14\": 7, \"10\": 10, \"4\": 17, \"5\": 17, \"8\": 9, \"1\": 13, \"15\": 8, \"13\": 6, \"11\": 1}}, \"O_14\": {\"14\": {\"0\": 16, \"6\": 26, \"14\": 70, \"2\": 38, \"3\": 20, \"4\": 13, \"10\": 14, \"13\": 28, \"5\": 7, \"11\": 8}, \"0\": {\"0\": 81, \"10\": 47, \"11\": 46, \"3\": 34, \"2\": 8, \"4\": 3, \"8\": 4, \"5\": 3, \"9\": 5, \"14\": 6, \"12\": 1, \"1\": 1, \"6\": 1}, \"4\": {\"4\": 65, \"1\": 13, \"3\": 51, \"7\": 6, \"2\": 30, \"5\": 41, \"10\": 3, \"6\": 8, \"14\": 11, \"15\": 4, \"0\": 5, \"13\": 3}, \"11\": {\"10\": 24, \"0\": 46, \"11\": 135, \"12\": 7, \"9\": 24, \"14\": 2, \"2\": 2}, \"13\": {\"13\": 80, \"6\": 65, \"14\": 38, \"3\": 3, \"2\": 22, \"4\": 10, \"10\": 11, \"15\": 4, \"5\": 3, \"0\": 3, \"7\": 1}, \"9\": {\"9\": 162, \"11\": 22, \"0\": 8, \"8\": 9, \"12\": 37, \"10\": 2}, \"3\": {\"1\": 18, \"4\": 34, \"14\": 24, \"3\": 59, \"10\": 11, \"0\": 41, \"5\": 28, \"8\": 5, \"2\": 17, \"7\": 1, \"6\": 1, \"9\": 1}, \"6\": {\"6\": 82, \"2\": 25, \"14\": 24, \"13\": 82, \"5\": 6, \"7\": 1, \"10\": 3, \"4\": 9, \"15\": 4, \"1\": 1, \"3\": 3}, \"1\": {\"1\": 117, \"4\": 21, \"5\": 51, \"7\": 19, \"2\": 9, \"3\": 11, \"15\": 3, \"8\": 8, \"0\": 1}, \"5\": {\"4\": 36, \"1\": 34, \"7\": 15, \"14\": 7, \"15\": 15, \"2\": 39, \"5\": 61, \"6\": 4, \"3\": 23, \"8\": 4, \"13\": 2}, \"12\": {\"12\": 188, \"9\": 47, \"11\": 5}, \"10\": {\"3\": 22, \"10\": 125, \"0\": 40, \"11\": 21, \"14\": 14, \"5\": 1, \"9\": 1, \"13\": 5, \"6\": 2, \"4\": 7, \"1\": 1, \"2\": 1}, \"8\": {\"8\": 197, \"9\": 18, \"1\": 12, \"0\": 8, \"5\": 2, \"3\": 2, \"2\": 1}, \"7\": {\"15\": 40, \"7\": 160, \"2\": 1, \"4\": 4, \"1\": 20, \"5\": 15}, \"15\": {\"15\": 163, \"2\": 8, \"6\": 4, \"7\": 48, \"5\": 9, \"4\": 3, \"1\": 3, \"13\": 2}, \"2\": {\"5\": 25, \"4\": 34, \"14\": 31, \"2\": 53, \"15\": 7, \"6\": 31, \"13\": 20, \"3\": 23, \"11\": 1, \"0\": 4, \"7\": 3, \"1\": 4, \"10\": 3, \"8\": 1}}, \"O_32\": {\"11\": {\"14\": 48, \"11\": 117, \"13\": 8, \"7\": 29, \"3\": 19, \"5\": 7, \"8\": 3, \"4\": 4, \"0\": 3, \"2\": 2}, \"1\": {\"1\": 199, \"10\": 41}, \"2\": {\"2\": 110, \"5\": 11, \"4\": 54, \"0\": 24, \"7\": 22, \"13\": 8, \"14\": 4, \"9\": 2, \"11\": 2, \"8\": 3}, \"0\": {\"0\": 65, \"7\": 19, \"5\": 18, \"8\": 38, \"2\": 34, \"14\": 11, \"13\": 19, \"4\": 27, \"11\": 5, \"3\": 3, \"9\": 1}, \"3\": {\"11\": 15, \"3\": 147, \"13\": 19, \"8\": 21, \"5\": 22, \"15\": 2, \"7\": 2, \"0\": 2, \"14\": 9, \"4\": 1}, \"8\": {\"5\": 35, \"8\": 95, \"14\": 8, \"0\": 27, \"4\": 16, \"3\": 19, \"13\": 32, \"7\": 4, \"15\": 2, \"2\": 2}, \"12\": {\"12\": 210, \"9\": 23, \"6\": 6, \"10\": 1}, \"5\": {\"3\": 28, \"4\": 23, \"5\": 44, \"13\": 40, \"0\": 20, \"8\": 19, \"11\": 12, \"2\": 13, \"7\": 24, \"14\": 17}, \"15\": {\"15\": 231, \"8\": 5, \"3\": 4}, \"7\": {\"11\": 31, \"4\": 30, \"14\": 26, \"7\": 49, \"2\": 26, \"13\": 25, \"5\": 25, \"3\": 5, \"0\": 18, \"8\": 5}, \"4\": {\"2\": 65, \"5\": 23, \"4\": 64, \"7\": 32, \"13\": 19, \"0\": 22, \"8\": 5, \"11\": 2, \"14\": 6, \"9\": 1, \"3\": 1}, \"14\": {\"13\": 21, \"7\": 31, \"14\": 52, \"4\": 8, \"11\": 59, \"8\": 11, \"0\": 22, \"3\": 12, \"5\": 15, \"2\": 9}, \"10\": {\"10\": 196, \"1\": 35, \"6\": 8, \"12\": 1}, \"6\": {\"6\": 229, \"12\": 9, \"10\": 2}, \"13\": {\"13\": 47, \"3\": 29, \"7\": 24, \"0\": 23, \"5\": 30, \"4\": 27, \"11\": 17, \"8\": 22, \"14\": 10, \"2\": 10, \"15\": 1}, \"9\": {\"12\": 23, \"9\": 209, \"0\": 1, \"2\": 7}}, \"O_8\": {\"9\": {\"9\": 238, \"10\": 1, \"14\": 1}, \"11\": {\"1\": 59, \"6\": 7, \"11\": 73, \"12\": 2, \"5\": 29, \"8\": 20, \"4\": 6, \"14\": 27, \"15\": 2, \"10\": 12, \"0\": 2, \"2\": 1}, \"8\": {\"4\": 9, \"15\": 47, \"8\": 72, \"6\": 15, \"12\": 22, \"7\": 19, \"11\": 21, \"1\": 15, \"2\": 3, \"14\": 5, \"10\": 3, \"5\": 2, \"13\": 2, \"3\": 3, \"0\": 2}, \"4\": {\"4\": 37, \"13\": 33, \"7\": 21, \"6\": 24, \"10\": 29, \"0\": 28, \"15\": 4, \"8\": 9, \"14\": 25, \"1\": 14, \"11\": 9, \"2\": 1, \"5\": 6}, \"13\": {\"0\": 42, \"13\": 50, \"4\": 24, \"10\": 37, \"1\": 7, \"6\": 25, \"14\": 17, \"8\": 3, \"5\": 11, \"7\": 17, \"11\": 4, \"2\": 1, \"15\": 2}, \"14\": {\"14\": 43, \"1\": 18, \"4\": 27, \"10\": 33, \"6\": 14, \"13\": 26, \"7\": 14, \"0\": 15, \"11\": 23, \"8\": 9, \"2\": 1, \"5\": 15, \"15\": 1, \"3\": 1}, \"2\": {\"15\": 25, \"2\": 84, \"3\": 67, \"12\": 26, \"0\": 8, \"7\": 19, \"4\": 1, \"14\": 2, \"8\": 3, \"6\": 4, \"13\": 1}, \"3\": {\"2\": 63, \"12\": 39, \"3\": 97, \"15\": 26, \"7\": 8, \"8\": 2, \"0\": 3, \"6\": 2}, \"1\": {\"11\": 62, \"14\": 26, \"1\": 60, \"10\": 20, \"0\": 4, \"8\": 10, \"5\": 31, \"6\": 8, \"13\": 3, \"7\": 6, \"4\": 10}, \"0\": {\"13\": 34, \"4\": 18, \"0\": 60, \"7\": 28, \"2\": 12, \"12\": 2, \"14\": 23, \"6\": 28, \"10\": 25, \"9\": 3, \"5\": 3, \"15\": 1, \"11\": 1, \"8\": 2}, \"5\": {\"5\": 74, \"13\": 12, \"14\": 28, \"10\": 31, \"4\": 14, \"0\": 11, \"11\": 23, \"1\": 35, \"6\": 6, \"9\": 5, \"8\": 1}, \"15\": {\"3\": 33, \"12\": 52, \"13\": 3, \"8\": 35, \"15\": 59, \"2\": 27, \"7\": 13, \"1\": 2, \"6\": 7, \"4\": 3, \"14\": 2, \"11\": 2, \"0\": 2}, \"10\": {\"11\": 10, \"10\": 52, \"13\": 28, \"1\": 19, \"14\": 30, \"4\": 29, \"0\": 24, \"5\": 18, \"7\": 7, \"8\": 4, \"6\": 18, \"2\": 1}, \"12\": {\"15\": 48, \"2\": 30, \"12\": 85, \"8\": 30, \"3\": 32, \"4\": 2, \"0\": 3, \"7\": 5, \"6\": 4, \"11\": 1}, \"6\": {\"4\": 33, \"2\": 12, \"6\": 34, \"8\": 15, \"14\": 21, \"13\": 19, \"0\": 23, \"10\": 12, \"7\": 35, \"15\": 10, \"1\": 7, \"5\": 10, \"3\": 3, \"11\": 3, \"12\": 3}, \"7\": {\"7\": 57, \"2\": 21, \"6\": 37, \"4\": 23, \"13\": 21, \"8\": 14, \"10\": 2, \"0\": 30, \"14\": 7, \"11\": 2, \"15\": 14, \"1\": 4, \"3\": 2, \"12\": 5, \"5\": 1}}}, \"per_domain_accuracy\": {\"C_5\": {\"accuracy\": 0.9931913407821229, \"source?\": true}, \"C_1\": {\"accuracy\": 0.9916779891304348, \"source?\": true}, \"C_3\": {\"accuracy\": 0.9946691176470588, \"source?\": true}, \"C_4\": {\"accuracy\": 0.9928463855421686, \"source?\": true}, \"C_2\": {\"accuracy\": 0.9975142045454546, \"source?\": true}, \"O_26\": {\"accuracy\": 0.25885416666666666, \"source?\": false}, \"O_44\": {\"accuracy\": 0.39166666666666666, \"source?\": false}, \"O_50\": {\"accuracy\": 0.4309895833333333, \"source?\": false}, \"O_38\": {\"accuracy\": 0.45026041666666666, \"source?\": false}, \"O_20\": {\"accuracy\": 0.23463541666666668, \"source?\": false}, \"O_14\": {\"accuracy\": 0.46822916666666664, \"source?\": false}, \"O_32\": {\"accuracy\": 0.5375, \"source?\": false}, \"O_8\": {\"accuracy\": 0.3059895833333333, \"source?\": false}}}, \"history\": {\"epoch_indices\": [1, 2, 3, 4, 5], \"train_label_loss\": [0.05355578131371032, 0.015401540200563758, 0.008616786242907059, 0.006063022378531134, 0.004658623620875435], \"source_val_label_loss\": [0.11398845165967941, 0.010054415091872215, 0.009892646223306656, 0.006183071061968803, 0.0073421411216259], \"target_val_label_loss\": [1.720794439315796, 2.2702934741973877, 2.1724936962127686, 2.0020997524261475, 2.1386842727661133], \"source_val_acc_label\": [0.9939642857142857, 0.9977857142857143, 0.9976071428571428, 0.999, 0.9986785714285714], \"target_val_acc_label\": [0.384765625, 0.32054036458333335, 0.32542317708333335, 0.36103515625, 0.32763671875]}, \"dataset_metrics\": {\"source\": {\"train\": {\"n_unique_x\": 175191, \"n_unique_y\": 58, \"n_batch/episode\": 6307}, \"val\": {\"n_unique_x\": 37151, \"n_unique_y\": 58, \"n_batch/episode\": 875}, \"test\": {\"n_unique_x\": 37548, \"n_unique_y\": 58, \"n_batch/episode\": 885}}, \"target\": {\"train\": {\"n_unique_x\": 179200, \"n_unique_y\": 16, \"n_batch/episode\": 6720}, \"val\": {\"n_unique_x\": 38400, \"n_unique_y\": 16, \"n_batch/episode\": 960}, \"test\": {\"n_unique_x\": 38400, \"n_unique_y\": 16, \"n_batch/episode\": 960}}}}'"
      ]
     },
     "execution_count": 29,
     "metadata": {},
     "output_type": "execute_result"
    }
   ],
   "source": [
    "json.dumps(experiment)"
   ]
  }
 ],
 "metadata": {
  "celltoolbar": "Tags",
  "kernelspec": {
   "display_name": "Python 3 (ipykernel)",
   "language": "python",
   "name": "python3"
  },
  "language_info": {
   "codemirror_mode": {
    "name": "ipython",
    "version": 3
   },
   "file_extension": ".py",
   "mimetype": "text/x-python",
   "name": "python",
   "nbconvert_exporter": "python",
   "pygments_lexer": "ipython3",
   "version": "3.8.12"
  },
  "papermill": {
   "default_parameters": {},
   "duration": 1046.317158,
   "end_time": "2022-03-28T08:24:04.118733",
   "environment_variables": {},
   "exception": null,
   "input_path": "/root/csc500-main/csc500-notebooks/templates/tl_ptn_template.ipynb",
   "output_path": "trial.ipynb",
   "parameters": {
    "parameters": {
     "BEST_MODEL_PATH": "./best_model.pth",
     "NUM_LOGS_PER_EPOCH": 10,
     "criteria_for_best": "target_accuracy",
     "dataset_seed": 7,
     "datasets": [
      {
       "domain_prefix": "C_",
       "domains": [
        1,
        2,
        3,
        4,
        5
       ],
       "episode_transforms": [],
       "labels": [
        "1-10.",
        "1-11.",
        "1-15.",
        "1-16.",
        "1-17.",
        "1-18.",
        "1-19.",
        "10-4.",
        "10-7.",
        "11-1.",
        "11-14.",
        "11-17.",
        "11-20.",
        "11-7.",
        "13-20.",
        "13-8.",
        "14-10.",
        "14-11.",
        "14-14.",
        "14-7.",
        "15-1.",
        "15-20.",
        "16-1.",
        "16-16.",
        "17-10.",
        "17-11.",
        "17-2.",
        "19-1.",
        "19-16.",
        "19-19.",
        "19-20.",
        "19-3.",
        "2-10.",
        "2-11.",
        "2-17.",
        "2-18.",
        "2-20.",
        "2-3.",
        "2-4.",
        "2-5.",
        "2-6.",
        "2-7.",
        "2-8.",
        "3-13.",
        "3-18.",
        "3-3.",
        "4-1.",
        "4-10.",
        "4-11.",
        "4-19.",
        "5-5.",
        "6-15.",
        "7-10.",
        "7-14.",
        "8-18.",
        "8-20.",
        "8-3.",
        "8-8."
       ],
       "num_examples_per_domain_per_label": -1,
       "pickle_path": "/root/csc500-main/datasets/cores.stratified_ds.2022A.pkl",
       "source_or_target_dataset": "source",
       "x_transforms": [
        "unit_power",
        "jitter_256_10",
        "lowpass_+/-10MHz",
        "take_200"
       ]
      },
      {
       "domain_prefix": "O_",
       "domains": [
        32,
        38,
        8,
        44,
        14,
        50,
        20,
        26
       ],
       "episode_transforms": [],
       "labels": [
        "3123D52",
        "3123D65",
        "3123D79",
        "3123D80",
        "3123D54",
        "3123D70",
        "3123D7B",
        "3123D89",
        "3123D58",
        "3123D76",
        "3123D7D",
        "3123EFE",
        "3123D64",
        "3123D78",
        "3123D7E",
        "3124E4A"
       ],
       "num_examples_per_domain_per_label": 2000,
       "pickle_path": "/root/csc500-main/datasets/oracle.Run1_framed_2000Examples_stratified_ds.2022A.pkl",
       "source_or_target_dataset": "target",
       "x_transforms": [
        "unit_power",
        "jitter_256_10",
        "take_200",
        "resample_20Msps_to_25Msps"
       ]
      }
     ],
     "device": "cuda",
     "experiment_name": "tl_3-jitter10v2:cores -> oracle.run1.framed",
     "lr": 0.0001,
     "n_epoch": 50,
     "n_query": 2,
     "n_shot": 3,
     "n_way": 16,
     "patience": 3,
     "seed": 7,
     "test_k_factor": 2,
     "torch_default_dtype": "torch.float32",
     "train_k_factor": 3,
     "val_k_factor": 2,
     "x_net": [
      {
       "class": "nnReshape",
       "kargs": {
        "shape": [
         -1,
         1,
         2,
         256
        ]
       }
      },
      {
       "class": "Conv2d",
       "kargs": {
        "bias": false,
        "in_channels": 1,
        "kernel_size": [
         1,
         7
        ],
        "out_channels": 256,
        "padding": [
         0,
         3
        ]
       }
      },
      {
       "class": "ReLU",
       "kargs": {
        "inplace": true
       }
      },
      {
       "class": "BatchNorm2d",
       "kargs": {
        "num_features": 256
       }
      },
      {
       "class": "Conv2d",
       "kargs": {
        "bias": true,
        "in_channels": 256,
        "kernel_size": [
         2,
         7
        ],
        "out_channels": 80,
        "padding": [
         0,
         3
        ]
       }
      },
      {
       "class": "ReLU",
       "kargs": {
        "inplace": true
       }
      },
      {
       "class": "BatchNorm2d",
       "kargs": {
        "num_features": 80
       }
      },
      {
       "class": "Flatten",
       "kargs": {}
      },
      {
       "class": "Linear",
       "kargs": {
        "in_features": 20480,
        "out_features": 256
       }
      },
      {
       "class": "ReLU",
       "kargs": {
        "inplace": true
       }
      },
      {
       "class": "BatchNorm1d",
       "kargs": {
        "num_features": 256
       }
      },
      {
       "class": "Linear",
       "kargs": {
        "in_features": 256,
        "out_features": 256
       }
      }
     ],
     "x_shape": [
      2,
      256
     ]
    }
   },
   "start_time": "2022-03-28T08:06:37.801575",
   "version": "2.3.4"
  }
 },
 "nbformat": 4,
 "nbformat_minor": 5
}