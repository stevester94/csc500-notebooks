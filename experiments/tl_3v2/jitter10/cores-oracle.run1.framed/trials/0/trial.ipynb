{
 "cells": [
  {
   "cell_type": "markdown",
   "id": "9fea5f46",
   "metadata": {
    "papermill": {
     "duration": 0.032379,
     "end_time": "2022-03-28T06:28:25.120894",
     "exception": false,
     "start_time": "2022-03-28T06:28:25.088515",
     "status": "completed"
    },
    "tags": []
   },
   "source": [
    "# Transfer Learning Template"
   ]
  },
  {
   "cell_type": "code",
   "execution_count": 1,
   "id": "0902182a",
   "metadata": {
    "execution": {
     "iopub.execute_input": "2022-03-28T06:28:25.184409Z",
     "iopub.status.busy": "2022-03-28T06:28:25.177272Z",
     "iopub.status.idle": "2022-03-28T06:28:27.017759Z",
     "shell.execute_reply": "2022-03-28T06:28:27.017304Z"
    },
    "papermill": {
     "duration": 1.873057,
     "end_time": "2022-03-28T06:28:27.017869",
     "exception": false,
     "start_time": "2022-03-28T06:28:25.144812",
     "status": "completed"
    },
    "tags": []
   },
   "outputs": [],
   "source": [
    "%load_ext autoreload\n",
    "%autoreload 2\n",
    "%matplotlib inline\n",
    "\n",
    "    \n",
    "import os, json, sys, time, random\n",
    "import numpy as np\n",
    "import torch\n",
    "from torch.optim import Adam\n",
    "from  easydict import EasyDict\n",
    "import matplotlib.pyplot as plt\n",
    "\n",
    "from steves_models.steves_ptn import Steves_Prototypical_Network\n",
    "\n",
    "from steves_utils.lazy_iterable_wrapper import Lazy_Iterable_Wrapper\n",
    "from steves_utils.iterable_aggregator import Iterable_Aggregator\n",
    "from steves_utils.ptn_train_eval_test_jig import  PTN_Train_Eval_Test_Jig\n",
    "from steves_utils.torch_sequential_builder import build_sequential\n",
    "from steves_utils.torch_utils import get_dataset_metrics, ptn_confusion_by_domain_over_dataloader\n",
    "from steves_utils.utils_v2 import (per_domain_accuracy_from_confusion, get_datasets_base_path)\n",
    "from steves_utils.PTN.utils import independent_accuracy_assesment\n",
    "\n",
    "from torch.utils.data import DataLoader\n",
    "\n",
    "from steves_utils.stratified_dataset.episodic_accessor import Episodic_Accessor_Factory\n",
    "\n",
    "from steves_utils.ptn_do_report import (\n",
    "    get_loss_curve,\n",
    "    get_results_table,\n",
    "    get_parameters_table,\n",
    "    get_domain_accuracies,\n",
    ")\n",
    "\n",
    "from steves_utils.transforms import get_chained_transform"
   ]
  },
  {
   "cell_type": "markdown",
   "id": "41c840b4",
   "metadata": {
    "papermill": {
     "duration": 0.019499,
     "end_time": "2022-03-28T06:28:27.057632",
     "exception": false,
     "start_time": "2022-03-28T06:28:27.038133",
     "status": "completed"
    },
    "tags": []
   },
   "source": [
    "# Allowed Parameters\n",
    "These are allowed parameters, not defaults\n",
    "Each of these values need to be present in the injected parameters (the notebook will raise an exception if they are not present)\n",
    "\n",
    "Papermill uses the cell tag \"parameters\" to inject the real parameters below this cell.\n",
    "Enable tags to see what I mean"
   ]
  },
  {
   "cell_type": "code",
   "execution_count": 2,
   "id": "fd44eb83",
   "metadata": {
    "execution": {
     "iopub.execute_input": "2022-03-28T06:28:27.102757Z",
     "iopub.status.busy": "2022-03-28T06:28:27.102373Z",
     "iopub.status.idle": "2022-03-28T06:28:27.130504Z",
     "shell.execute_reply": "2022-03-28T06:28:27.130183Z"
    },
    "papermill": {
     "duration": 0.053459,
     "end_time": "2022-03-28T06:28:27.130573",
     "exception": false,
     "start_time": "2022-03-28T06:28:27.077114",
     "status": "completed"
    },
    "tags": []
   },
   "outputs": [],
   "source": [
    "required_parameters = {\n",
    "    \"experiment_name\",\n",
    "    \"lr\",\n",
    "    \"device\",\n",
    "    \"seed\",\n",
    "    \"dataset_seed\",\n",
    "    \"n_shot\",\n",
    "    \"n_query\",\n",
    "    \"n_way\",\n",
    "    \"train_k_factor\",\n",
    "    \"val_k_factor\",\n",
    "    \"test_k_factor\",\n",
    "    \"n_epoch\",\n",
    "    \"patience\",\n",
    "    \"criteria_for_best\",\n",
    "    \"x_net\",\n",
    "    \"datasets\",\n",
    "    \"torch_default_dtype\",\n",
    "    \"NUM_LOGS_PER_EPOCH\",\n",
    "    \"BEST_MODEL_PATH\",\n",
    "    \"x_shape\",\n",
    "}"
   ]
  },
  {
   "cell_type": "code",
   "execution_count": 3,
   "id": "fa3f0049",
   "metadata": {
    "execution": {
     "iopub.execute_input": "2022-03-28T06:28:27.184326Z",
     "iopub.status.busy": "2022-03-28T06:28:27.183908Z",
     "iopub.status.idle": "2022-03-28T06:28:27.206064Z",
     "shell.execute_reply": "2022-03-28T06:28:27.205701Z"
    },
    "papermill": {
     "duration": 0.055634,
     "end_time": "2022-03-28T06:28:27.206132",
     "exception": false,
     "start_time": "2022-03-28T06:28:27.150498",
     "status": "completed"
    },
    "tags": [
     "parameters"
    ]
   },
   "outputs": [],
   "source": [
    "from steves_utils.CORES.utils import (\n",
    "    ALL_NODES,\n",
    "    ALL_NODES_MINIMUM_1000_EXAMPLES,\n",
    "    ALL_DAYS\n",
    ")\n",
    "\n",
    "from steves_utils.ORACLE.utils_v2 import (\n",
    "    ALL_DISTANCES_FEET_NARROWED,\n",
    "    ALL_RUNS,\n",
    "    ALL_SERIAL_NUMBERS,\n",
    ")\n",
    "\n",
    "standalone_parameters = {}\n",
    "standalone_parameters[\"experiment_name\"] = \"STANDALONE PTN\"\n",
    "standalone_parameters[\"lr\"] = 0.001\n",
    "standalone_parameters[\"device\"] = \"cuda\"\n",
    "\n",
    "standalone_parameters[\"seed\"] = 1337\n",
    "standalone_parameters[\"dataset_seed\"] = 1337\n",
    "\n",
    "standalone_parameters[\"n_way\"] = 8\n",
    "standalone_parameters[\"n_shot\"] = 3\n",
    "standalone_parameters[\"n_query\"]  = 2\n",
    "standalone_parameters[\"train_k_factor\"] = 1\n",
    "standalone_parameters[\"val_k_factor\"] = 2\n",
    "standalone_parameters[\"test_k_factor\"] = 2\n",
    "\n",
    "\n",
    "standalone_parameters[\"n_epoch\"] = 50\n",
    "\n",
    "standalone_parameters[\"patience\"] = 10\n",
    "standalone_parameters[\"criteria_for_best\"] = \"source_loss\"\n",
    "\n",
    "standalone_parameters[\"datasets\"] = [\n",
    "    {\n",
    "        \"labels\": ALL_SERIAL_NUMBERS,\n",
    "        \"domains\": ALL_DISTANCES_FEET_NARROWED,\n",
    "        \"num_examples_per_domain_per_label\": 100,\n",
    "        \"pickle_path\": os.path.join(get_datasets_base_path(), \"oracle.Run1_framed_2000Examples_stratified_ds.2022A.pkl\"),\n",
    "        \"source_or_target_dataset\": \"source\",\n",
    "        \"x_transforms\": [\"unit_mag\", \"minus_two\"],\n",
    "        \"episode_transforms\": [],\n",
    "        \"domain_prefix\": \"ORACLE_\"\n",
    "    },\n",
    "    {\n",
    "        \"labels\": ALL_NODES,\n",
    "        \"domains\": ALL_DAYS,\n",
    "        \"num_examples_per_domain_per_label\": 100,\n",
    "        \"pickle_path\": os.path.join(get_datasets_base_path(), \"cores.stratified_ds.2022A.pkl\"),\n",
    "        \"source_or_target_dataset\": \"target\",\n",
    "        \"x_transforms\": [\"unit_power\", \"times_zero\"],\n",
    "        \"episode_transforms\": [],\n",
    "        \"domain_prefix\": \"CORES_\"\n",
    "    }   \n",
    "]\n",
    "\n",
    "standalone_parameters[\"torch_default_dtype\"] = \"torch.float32\" \n",
    "\n",
    "\n",
    "\n",
    "standalone_parameters[\"x_net\"] =     [\n",
    "    {\"class\": \"nnReshape\", \"kargs\": {\"shape\":[-1, 1, 2, 256]}},\n",
    "    {\"class\": \"Conv2d\", \"kargs\": { \"in_channels\":1, \"out_channels\":256, \"kernel_size\":(1,7), \"bias\":False, \"padding\":(0,3), },},\n",
    "    {\"class\": \"ReLU\", \"kargs\": {\"inplace\": True}},\n",
    "    {\"class\": \"BatchNorm2d\", \"kargs\": {\"num_features\":256}},\n",
    "\n",
    "    {\"class\": \"Conv2d\", \"kargs\": { \"in_channels\":256, \"out_channels\":80, \"kernel_size\":(2,7), \"bias\":True, \"padding\":(0,3), },},\n",
    "    {\"class\": \"ReLU\", \"kargs\": {\"inplace\": True}},\n",
    "    {\"class\": \"BatchNorm2d\", \"kargs\": {\"num_features\":80}},\n",
    "    {\"class\": \"Flatten\", \"kargs\": {}},\n",
    "\n",
    "    {\"class\": \"Linear\", \"kargs\": {\"in_features\": 80*256, \"out_features\": 256}}, # 80 units per IQ pair\n",
    "    {\"class\": \"ReLU\", \"kargs\": {\"inplace\": True}},\n",
    "    {\"class\": \"BatchNorm1d\", \"kargs\": {\"num_features\":256}},\n",
    "\n",
    "    {\"class\": \"Linear\", \"kargs\": {\"in_features\": 256, \"out_features\": 256}},\n",
    "]\n",
    "\n",
    "# Parameters relevant to results\n",
    "# These parameters will basically never need to change\n",
    "standalone_parameters[\"NUM_LOGS_PER_EPOCH\"] = 10\n",
    "standalone_parameters[\"BEST_MODEL_PATH\"] = \"./best_model.pth\"\n",
    "\n",
    "\n",
    "\n",
    "\n"
   ]
  },
  {
   "cell_type": "code",
   "execution_count": 4,
   "id": "435068ba",
   "metadata": {
    "execution": {
     "iopub.execute_input": "2022-03-28T06:28:27.260804Z",
     "iopub.status.busy": "2022-03-28T06:28:27.260374Z",
     "iopub.status.idle": "2022-03-28T06:28:27.281450Z",
     "shell.execute_reply": "2022-03-28T06:28:27.281083Z"
    },
    "papermill": {
     "duration": 0.055387,
     "end_time": "2022-03-28T06:28:27.281519",
     "exception": false,
     "start_time": "2022-03-28T06:28:27.226132",
     "status": "completed"
    },
    "tags": [
     "injected-parameters"
    ]
   },
   "outputs": [],
   "source": [
    "# Parameters\n",
    "parameters = {\n",
    "    \"experiment_name\": \"tl_3-jitter10v2:cores -> oracle.run1.framed\",\n",
    "    \"device\": \"cuda\",\n",
    "    \"lr\": 0.0001,\n",
    "    \"x_shape\": [2, 256],\n",
    "    \"n_shot\": 3,\n",
    "    \"n_query\": 2,\n",
    "    \"train_k_factor\": 3,\n",
    "    \"val_k_factor\": 2,\n",
    "    \"test_k_factor\": 2,\n",
    "    \"torch_default_dtype\": \"torch.float32\",\n",
    "    \"n_epoch\": 50,\n",
    "    \"patience\": 3,\n",
    "    \"criteria_for_best\": \"target_accuracy\",\n",
    "    \"x_net\": [\n",
    "        {\"class\": \"nnReshape\", \"kargs\": {\"shape\": [-1, 1, 2, 256]}},\n",
    "        {\n",
    "            \"class\": \"Conv2d\",\n",
    "            \"kargs\": {\n",
    "                \"in_channels\": 1,\n",
    "                \"out_channels\": 256,\n",
    "                \"kernel_size\": [1, 7],\n",
    "                \"bias\": False,\n",
    "                \"padding\": [0, 3],\n",
    "            },\n",
    "        },\n",
    "        {\"class\": \"ReLU\", \"kargs\": {\"inplace\": True}},\n",
    "        {\"class\": \"BatchNorm2d\", \"kargs\": {\"num_features\": 256}},\n",
    "        {\n",
    "            \"class\": \"Conv2d\",\n",
    "            \"kargs\": {\n",
    "                \"in_channels\": 256,\n",
    "                \"out_channels\": 80,\n",
    "                \"kernel_size\": [2, 7],\n",
    "                \"bias\": True,\n",
    "                \"padding\": [0, 3],\n",
    "            },\n",
    "        },\n",
    "        {\"class\": \"ReLU\", \"kargs\": {\"inplace\": True}},\n",
    "        {\"class\": \"BatchNorm2d\", \"kargs\": {\"num_features\": 80}},\n",
    "        {\"class\": \"Flatten\", \"kargs\": {}},\n",
    "        {\"class\": \"Linear\", \"kargs\": {\"in_features\": 20480, \"out_features\": 256}},\n",
    "        {\"class\": \"ReLU\", \"kargs\": {\"inplace\": True}},\n",
    "        {\"class\": \"BatchNorm1d\", \"kargs\": {\"num_features\": 256}},\n",
    "        {\"class\": \"Linear\", \"kargs\": {\"in_features\": 256, \"out_features\": 256}},\n",
    "    ],\n",
    "    \"NUM_LOGS_PER_EPOCH\": 10,\n",
    "    \"BEST_MODEL_PATH\": \"./best_model.pth\",\n",
    "    \"n_way\": 16,\n",
    "    \"datasets\": [\n",
    "        {\n",
    "            \"labels\": [\n",
    "                \"1-10.\",\n",
    "                \"1-11.\",\n",
    "                \"1-15.\",\n",
    "                \"1-16.\",\n",
    "                \"1-17.\",\n",
    "                \"1-18.\",\n",
    "                \"1-19.\",\n",
    "                \"10-4.\",\n",
    "                \"10-7.\",\n",
    "                \"11-1.\",\n",
    "                \"11-14.\",\n",
    "                \"11-17.\",\n",
    "                \"11-20.\",\n",
    "                \"11-7.\",\n",
    "                \"13-20.\",\n",
    "                \"13-8.\",\n",
    "                \"14-10.\",\n",
    "                \"14-11.\",\n",
    "                \"14-14.\",\n",
    "                \"14-7.\",\n",
    "                \"15-1.\",\n",
    "                \"15-20.\",\n",
    "                \"16-1.\",\n",
    "                \"16-16.\",\n",
    "                \"17-10.\",\n",
    "                \"17-11.\",\n",
    "                \"17-2.\",\n",
    "                \"19-1.\",\n",
    "                \"19-16.\",\n",
    "                \"19-19.\",\n",
    "                \"19-20.\",\n",
    "                \"19-3.\",\n",
    "                \"2-10.\",\n",
    "                \"2-11.\",\n",
    "                \"2-17.\",\n",
    "                \"2-18.\",\n",
    "                \"2-20.\",\n",
    "                \"2-3.\",\n",
    "                \"2-4.\",\n",
    "                \"2-5.\",\n",
    "                \"2-6.\",\n",
    "                \"2-7.\",\n",
    "                \"2-8.\",\n",
    "                \"3-13.\",\n",
    "                \"3-18.\",\n",
    "                \"3-3.\",\n",
    "                \"4-1.\",\n",
    "                \"4-10.\",\n",
    "                \"4-11.\",\n",
    "                \"4-19.\",\n",
    "                \"5-5.\",\n",
    "                \"6-15.\",\n",
    "                \"7-10.\",\n",
    "                \"7-14.\",\n",
    "                \"8-18.\",\n",
    "                \"8-20.\",\n",
    "                \"8-3.\",\n",
    "                \"8-8.\",\n",
    "            ],\n",
    "            \"domains\": [1, 2, 3, 4, 5],\n",
    "            \"num_examples_per_domain_per_label\": -1,\n",
    "            \"pickle_path\": \"/root/csc500-main/datasets/cores.stratified_ds.2022A.pkl\",\n",
    "            \"source_or_target_dataset\": \"source\",\n",
    "            \"x_transforms\": [\n",
    "                \"unit_power\",\n",
    "                \"jitter_256_10\",\n",
    "                \"lowpass_+/-10MHz\",\n",
    "                \"take_200\",\n",
    "            ],\n",
    "            \"episode_transforms\": [],\n",
    "            \"domain_prefix\": \"C_\",\n",
    "        },\n",
    "        {\n",
    "            \"labels\": [\n",
    "                \"3123D52\",\n",
    "                \"3123D65\",\n",
    "                \"3123D79\",\n",
    "                \"3123D80\",\n",
    "                \"3123D54\",\n",
    "                \"3123D70\",\n",
    "                \"3123D7B\",\n",
    "                \"3123D89\",\n",
    "                \"3123D58\",\n",
    "                \"3123D76\",\n",
    "                \"3123D7D\",\n",
    "                \"3123EFE\",\n",
    "                \"3123D64\",\n",
    "                \"3123D78\",\n",
    "                \"3123D7E\",\n",
    "                \"3124E4A\",\n",
    "            ],\n",
    "            \"domains\": [32, 38, 8, 44, 14, 50, 20, 26],\n",
    "            \"num_examples_per_domain_per_label\": 2000,\n",
    "            \"pickle_path\": \"/root/csc500-main/datasets/oracle.Run1_framed_2000Examples_stratified_ds.2022A.pkl\",\n",
    "            \"source_or_target_dataset\": \"target\",\n",
    "            \"x_transforms\": [\n",
    "                \"unit_power\",\n",
    "                \"jitter_256_10\",\n",
    "                \"take_200\",\n",
    "                \"resample_20Msps_to_25Msps\",\n",
    "            ],\n",
    "            \"episode_transforms\": [],\n",
    "            \"domain_prefix\": \"O_\",\n",
    "        },\n",
    "    ],\n",
    "    \"seed\": 1337,\n",
    "    \"dataset_seed\": 1337,\n",
    "}\n"
   ]
  },
  {
   "cell_type": "code",
   "execution_count": 5,
   "id": "8fa1cc33",
   "metadata": {
    "execution": {
     "iopub.execute_input": "2022-03-28T06:28:27.329007Z",
     "iopub.status.busy": "2022-03-28T06:28:27.328248Z",
     "iopub.status.idle": "2022-03-28T06:28:27.349146Z",
     "shell.execute_reply": "2022-03-28T06:28:27.348773Z"
    },
    "papermill": {
     "duration": 0.047582,
     "end_time": "2022-03-28T06:28:27.349216",
     "exception": false,
     "start_time": "2022-03-28T06:28:27.301634",
     "status": "completed"
    },
    "tags": []
   },
   "outputs": [],
   "source": [
    "# Set this to True if you want to run this template directly\n",
    "STANDALONE = False\n",
    "if STANDALONE:\n",
    "    print(\"parameters not injected, running with standalone_parameters\")\n",
    "    parameters = standalone_parameters\n",
    "\n",
    "if not 'parameters' in locals() and not 'parameters' in globals():\n",
    "    raise Exception(\"Parameter injection failed\")\n",
    "\n",
    "#Use an easy dict for all the parameters\n",
    "p = EasyDict(parameters)\n",
    "\n",
    "if \"x_shape\" not in p:\n",
    "    p.x_shape = [2,256] # Default to this if we dont supply x_shape\n",
    "\n",
    "\n",
    "supplied_keys = set(p.keys())\n",
    "\n",
    "if  supplied_keys != required_parameters:\n",
    "    print(\"Parameters are incorrect\")\n",
    "    if len(supplied_keys - required_parameters)>0: print(\"Shouldn't have:\", str(supplied_keys - required_parameters))\n",
    "    if len(required_parameters - supplied_keys)>0: print(\"Need to have:\", str(required_parameters - supplied_keys))\n",
    "    raise RuntimeError(\"Parameters are incorrect\")"
   ]
  },
  {
   "cell_type": "code",
   "execution_count": 6,
   "id": "3a028d58",
   "metadata": {
    "execution": {
     "iopub.execute_input": "2022-03-28T06:28:27.399985Z",
     "iopub.status.busy": "2022-03-28T06:28:27.396892Z",
     "iopub.status.idle": "2022-03-28T06:28:27.413889Z",
     "shell.execute_reply": "2022-03-28T06:28:27.413526Z"
    },
    "papermill": {
     "duration": 0.044753,
     "end_time": "2022-03-28T06:28:27.413957",
     "exception": false,
     "start_time": "2022-03-28T06:28:27.369204",
     "status": "completed"
    },
    "tags": []
   },
   "outputs": [],
   "source": [
    "###################################\n",
    "# Set the RNGs and make it all deterministic\n",
    "###################################\n",
    "np.random.seed(p.seed)\n",
    "random.seed(p.seed)\n",
    "torch.manual_seed(p.seed)\n",
    "\n",
    "torch.use_deterministic_algorithms(True) "
   ]
  },
  {
   "cell_type": "code",
   "execution_count": 7,
   "id": "b691acf6",
   "metadata": {
    "execution": {
     "iopub.execute_input": "2022-03-28T06:28:27.458824Z",
     "iopub.status.busy": "2022-03-28T06:28:27.458429Z",
     "iopub.status.idle": "2022-03-28T06:28:27.484380Z",
     "shell.execute_reply": "2022-03-28T06:28:27.484017Z"
    },
    "papermill": {
     "duration": 0.050282,
     "end_time": "2022-03-28T06:28:27.484448",
     "exception": false,
     "start_time": "2022-03-28T06:28:27.434166",
     "status": "completed"
    },
    "tags": []
   },
   "outputs": [],
   "source": [
    "###########################################\n",
    "# The stratified datasets honor this\n",
    "###########################################\n",
    "torch.set_default_dtype(eval(p.torch_default_dtype))"
   ]
  },
  {
   "cell_type": "code",
   "execution_count": 8,
   "id": "b5fba671",
   "metadata": {
    "execution": {
     "iopub.execute_input": "2022-03-28T06:28:27.529158Z",
     "iopub.status.busy": "2022-03-28T06:28:27.528787Z",
     "iopub.status.idle": "2022-03-28T06:28:27.583981Z",
     "shell.execute_reply": "2022-03-28T06:28:27.583618Z"
    },
    "papermill": {
     "duration": 0.079478,
     "end_time": "2022-03-28T06:28:27.584049",
     "exception": false,
     "start_time": "2022-03-28T06:28:27.504571",
     "status": "completed"
    },
    "tags": []
   },
   "outputs": [],
   "source": [
    "###################################\n",
    "# Build the network(s)\n",
    "# Note: It's critical to do this AFTER setting the RNG\n",
    "###################################\n",
    "x_net = build_sequential(p.x_net)"
   ]
  },
  {
   "cell_type": "code",
   "execution_count": 9,
   "id": "5d7e61cc",
   "metadata": {
    "execution": {
     "iopub.execute_input": "2022-03-28T06:28:27.629169Z",
     "iopub.status.busy": "2022-03-28T06:28:27.628797Z",
     "iopub.status.idle": "2022-03-28T06:28:27.652420Z",
     "shell.execute_reply": "2022-03-28T06:28:27.652055Z"
    },
    "papermill": {
     "duration": 0.048126,
     "end_time": "2022-03-28T06:28:27.652488",
     "exception": false,
     "start_time": "2022-03-28T06:28:27.604362",
     "status": "completed"
    },
    "tags": []
   },
   "outputs": [],
   "source": [
    "start_time_secs = time.time()"
   ]
  },
  {
   "cell_type": "code",
   "execution_count": 10,
   "id": "c6b67dfd",
   "metadata": {
    "execution": {
     "iopub.execute_input": "2022-03-28T06:28:27.698783Z",
     "iopub.status.busy": "2022-03-28T06:28:27.696754Z",
     "iopub.status.idle": "2022-03-28T06:28:27.720850Z",
     "shell.execute_reply": "2022-03-28T06:28:27.720488Z"
    },
    "papermill": {
     "duration": 0.048097,
     "end_time": "2022-03-28T06:28:27.720919",
     "exception": false,
     "start_time": "2022-03-28T06:28:27.672822",
     "status": "completed"
    },
    "tags": []
   },
   "outputs": [],
   "source": [
    "p.domains_source = []\n",
    "p.domains_target = []\n",
    "\n",
    "\n",
    "train_original_source = []\n",
    "val_original_source   = []\n",
    "test_original_source  = []\n",
    "\n",
    "train_original_target = []\n",
    "val_original_target   = []\n",
    "test_original_target  = []"
   ]
  },
  {
   "cell_type": "code",
   "execution_count": 11,
   "id": "e3d9c3d3",
   "metadata": {
    "execution": {
     "iopub.execute_input": "2022-03-28T06:28:27.767044Z",
     "iopub.status.busy": "2022-03-28T06:28:27.766433Z",
     "iopub.status.idle": "2022-03-28T06:28:27.786049Z",
     "shell.execute_reply": "2022-03-28T06:28:27.785686Z"
    },
    "papermill": {
     "duration": 0.0447,
     "end_time": "2022-03-28T06:28:27.786116",
     "exception": false,
     "start_time": "2022-03-28T06:28:27.741416",
     "status": "completed"
    },
    "tags": []
   },
   "outputs": [],
   "source": [
    "# global_x_transform_func = lambda x: normalize(x.to(torch.get_default_dtype()), \"unit_power\") # unit_power, unit_mag\n",
    "# global_x_transform_func = lambda x: normalize(x, \"unit_power\") # unit_power, unit_mag"
   ]
  },
  {
   "cell_type": "code",
   "execution_count": 12,
   "id": "acb78fd2",
   "metadata": {
    "execution": {
     "iopub.execute_input": "2022-03-28T06:28:27.839006Z",
     "iopub.status.busy": "2022-03-28T06:28:27.838623Z",
     "iopub.status.idle": "2022-03-28T06:28:27.857075Z",
     "shell.execute_reply": "2022-03-28T06:28:27.856713Z"
    },
    "papermill": {
     "duration": 0.050549,
     "end_time": "2022-03-28T06:28:27.857146",
     "exception": false,
     "start_time": "2022-03-28T06:28:27.806597",
     "status": "completed"
    },
    "tags": []
   },
   "outputs": [],
   "source": [
    "def add_dataset(\n",
    "    labels,\n",
    "    domains,\n",
    "    pickle_path,\n",
    "    x_transforms,\n",
    "    episode_transforms,\n",
    "    domain_prefix,\n",
    "    num_examples_per_domain_per_label,\n",
    "    source_or_target_dataset:str,\n",
    "    iterator_seed=p.seed,\n",
    "    dataset_seed=p.dataset_seed,\n",
    "    n_shot=p.n_shot,\n",
    "    n_way=p.n_way,\n",
    "    n_query=p.n_query,\n",
    "    train_val_test_k_factors=(p.train_k_factor,p.val_k_factor,p.test_k_factor),\n",
    "):\n",
    "   \n",
    "    if x_transforms == []: x_transform = None\n",
    "    else: x_transform = get_chained_transform(x_transforms)\n",
    "    \n",
    "    if episode_transforms == []: episode_transform = None\n",
    "    else: raise Exception(\"episode_transforms not implemented\")\n",
    "    \n",
    "    episode_transform = lambda tup, _prefix=domain_prefix: (_prefix + str(tup[0]), tup[1])\n",
    "\n",
    "\n",
    "    eaf = Episodic_Accessor_Factory(\n",
    "        labels=labels,\n",
    "        domains=domains,\n",
    "        num_examples_per_domain_per_label=num_examples_per_domain_per_label,\n",
    "        iterator_seed=iterator_seed,\n",
    "        dataset_seed=dataset_seed,\n",
    "        n_shot=n_shot,\n",
    "        n_way=n_way,\n",
    "        n_query=n_query,\n",
    "        train_val_test_k_factors=train_val_test_k_factors,\n",
    "        pickle_path=pickle_path,\n",
    "        x_transform_func=x_transform,\n",
    "    )\n",
    "\n",
    "    train, val, test = eaf.get_train(), eaf.get_val(), eaf.get_test()\n",
    "    train = Lazy_Iterable_Wrapper(train, episode_transform)\n",
    "    val = Lazy_Iterable_Wrapper(val, episode_transform)\n",
    "    test = Lazy_Iterable_Wrapper(test, episode_transform)\n",
    "\n",
    "    if source_or_target_dataset==\"source\":\n",
    "        train_original_source.append(train)\n",
    "        val_original_source.append(val)\n",
    "        test_original_source.append(test)\n",
    "\n",
    "        p.domains_source.extend(\n",
    "            [domain_prefix + str(u) for u in domains]\n",
    "        )\n",
    "    elif source_or_target_dataset==\"target\":\n",
    "        train_original_target.append(train)\n",
    "        val_original_target.append(val)\n",
    "        test_original_target.append(test)\n",
    "        p.domains_target.extend(\n",
    "            [domain_prefix + str(u) for u in domains]\n",
    "        )\n",
    "    else:\n",
    "        raise Exception(f\"invalid source_or_target_dataset: {source_or_target_dataset}\")\n",
    "    "
   ]
  },
  {
   "cell_type": "code",
   "execution_count": 13,
   "id": "fe266617",
   "metadata": {
    "execution": {
     "iopub.execute_input": "2022-03-28T06:28:27.904000Z",
     "iopub.status.busy": "2022-03-28T06:28:27.902571Z",
     "iopub.status.idle": "2022-03-28T06:30:19.048633Z",
     "shell.execute_reply": "2022-03-28T06:30:19.047912Z"
    },
    "papermill": {
     "duration": 111.170919,
     "end_time": "2022-03-28T06:30:19.048815",
     "exception": false,
     "start_time": "2022-03-28T06:28:27.877896",
     "status": "completed"
    },
    "tags": []
   },
   "outputs": [],
   "source": [
    "for ds in p.datasets:\n",
    "    add_dataset(**ds)"
   ]
  },
  {
   "cell_type": "code",
   "execution_count": 14,
   "id": "b90d65ac",
   "metadata": {
    "execution": {
     "iopub.execute_input": "2022-03-28T06:30:19.102988Z",
     "iopub.status.busy": "2022-03-28T06:30:19.102334Z",
     "iopub.status.idle": "2022-03-28T06:30:19.129574Z",
     "shell.execute_reply": "2022-03-28T06:30:19.128834Z"
    },
    "papermill": {
     "duration": 0.053128,
     "end_time": "2022-03-28T06:30:19.129743",
     "exception": false,
     "start_time": "2022-03-28T06:30:19.076615",
     "status": "completed"
    },
    "tags": []
   },
   "outputs": [],
   "source": [
    "# from steves_utils.CORES.utils import (\n",
    "#     ALL_NODES,\n",
    "#     ALL_NODES_MINIMUM_1000_EXAMPLES,\n",
    "#     ALL_DAYS\n",
    "# )\n",
    "\n",
    "# add_dataset(\n",
    "#     labels=ALL_NODES,\n",
    "#     domains = ALL_DAYS,\n",
    "#     num_examples_per_domain_per_label=100,\n",
    "#     pickle_path=os.path.join(get_datasets_base_path(), \"cores.stratified_ds.2022A.pkl\"),\n",
    "#     source_or_target_dataset=\"target\",\n",
    "#     x_transform_func=global_x_transform_func,\n",
    "#     domain_modifier=lambda u: f\"cores_{u}\"\n",
    "# )"
   ]
  },
  {
   "cell_type": "code",
   "execution_count": 15,
   "id": "76db484d",
   "metadata": {
    "execution": {
     "iopub.execute_input": "2022-03-28T06:30:19.190604Z",
     "iopub.status.busy": "2022-03-28T06:30:19.189959Z",
     "iopub.status.idle": "2022-03-28T06:30:19.207526Z",
     "shell.execute_reply": "2022-03-28T06:30:19.206710Z"
    },
    "papermill": {
     "duration": 0.048321,
     "end_time": "2022-03-28T06:30:19.207721",
     "exception": false,
     "start_time": "2022-03-28T06:30:19.159400",
     "status": "completed"
    },
    "tags": []
   },
   "outputs": [],
   "source": [
    "# from steves_utils.ORACLE.utils_v2 import (\n",
    "#     ALL_DISTANCES_FEET,\n",
    "#     ALL_RUNS,\n",
    "#     ALL_SERIAL_NUMBERS,\n",
    "# )\n",
    "\n",
    "\n",
    "# add_dataset(\n",
    "#     labels=ALL_SERIAL_NUMBERS,\n",
    "#     domains = list(set(ALL_DISTANCES_FEET) - {2,62}),\n",
    "#     num_examples_per_domain_per_label=100,\n",
    "#     pickle_path=os.path.join(get_datasets_base_path(), \"oracle.Run2_framed_2000Examples_stratified_ds.2022A.pkl\"),\n",
    "#     source_or_target_dataset=\"source\",\n",
    "#     x_transform_func=global_x_transform_func,\n",
    "#     domain_modifier=lambda u: f\"oracle1_{u}\"\n",
    "# )\n"
   ]
  },
  {
   "cell_type": "code",
   "execution_count": 16,
   "id": "97dea9d2",
   "metadata": {
    "execution": {
     "iopub.execute_input": "2022-03-28T06:30:19.268488Z",
     "iopub.status.busy": "2022-03-28T06:30:19.265457Z",
     "iopub.status.idle": "2022-03-28T06:30:19.281217Z",
     "shell.execute_reply": "2022-03-28T06:30:19.280409Z"
    },
    "papermill": {
     "duration": 0.044935,
     "end_time": "2022-03-28T06:30:19.281381",
     "exception": false,
     "start_time": "2022-03-28T06:30:19.236446",
     "status": "completed"
    },
    "tags": []
   },
   "outputs": [],
   "source": [
    "# from steves_utils.ORACLE.utils_v2 import (\n",
    "#     ALL_DISTANCES_FEET,\n",
    "#     ALL_RUNS,\n",
    "#     ALL_SERIAL_NUMBERS,\n",
    "# )\n",
    "\n",
    "\n",
    "# add_dataset(\n",
    "#     labels=ALL_SERIAL_NUMBERS,\n",
    "#     domains = list(set(ALL_DISTANCES_FEET) - {2,62,56}),\n",
    "#     num_examples_per_domain_per_label=100,\n",
    "#     pickle_path=os.path.join(get_datasets_base_path(), \"oracle.Run2_framed_2000Examples_stratified_ds.2022A.pkl\"),\n",
    "#     source_or_target_dataset=\"source\",\n",
    "#     x_transform_func=global_x_transform_func,\n",
    "#     domain_modifier=lambda u: f\"oracle2_{u}\"\n",
    "# )"
   ]
  },
  {
   "cell_type": "code",
   "execution_count": 17,
   "id": "6f289866",
   "metadata": {
    "execution": {
     "iopub.execute_input": "2022-03-28T06:30:19.337736Z",
     "iopub.status.busy": "2022-03-28T06:30:19.337056Z",
     "iopub.status.idle": "2022-03-28T06:30:19.357639Z",
     "shell.execute_reply": "2022-03-28T06:30:19.356816Z"
    },
    "papermill": {
     "duration": 0.046648,
     "end_time": "2022-03-28T06:30:19.357803",
     "exception": false,
     "start_time": "2022-03-28T06:30:19.311155",
     "status": "completed"
    },
    "tags": []
   },
   "outputs": [],
   "source": [
    "# add_dataset(\n",
    "#     labels=list(range(19)),\n",
    "#     domains = [0,1,2],\n",
    "#     num_examples_per_domain_per_label=100,\n",
    "#     pickle_path=os.path.join(get_datasets_base_path(), \"metehan.stratified_ds.2022A.pkl\"),\n",
    "#     source_or_target_dataset=\"target\",\n",
    "#     x_transform_func=global_x_transform_func,\n",
    "#     domain_modifier=lambda u: f\"met_{u}\"\n",
    "# )"
   ]
  },
  {
   "cell_type": "code",
   "execution_count": 18,
   "id": "86a863c3",
   "metadata": {
    "execution": {
     "iopub.execute_input": "2022-03-28T06:30:19.415511Z",
     "iopub.status.busy": "2022-03-28T06:30:19.414657Z",
     "iopub.status.idle": "2022-03-28T06:30:19.437471Z",
     "shell.execute_reply": "2022-03-28T06:30:19.436660Z"
    },
    "papermill": {
     "duration": 0.046633,
     "end_time": "2022-03-28T06:30:19.437636",
     "exception": false,
     "start_time": "2022-03-28T06:30:19.391003",
     "status": "completed"
    },
    "tags": []
   },
   "outputs": [],
   "source": [
    "# # from steves_utils.wisig.utils import (\n",
    "# #     ALL_NODES_MINIMUM_100_EXAMPLES,\n",
    "# #     ALL_NODES_MINIMUM_500_EXAMPLES,\n",
    "# #     ALL_NODES_MINIMUM_1000_EXAMPLES,\n",
    "# #     ALL_DAYS\n",
    "# # )\n",
    "\n",
    "# import steves_utils.wisig.utils as wisig\n",
    "\n",
    "\n",
    "# add_dataset(\n",
    "#     labels=wisig.ALL_NODES_MINIMUM_100_EXAMPLES,\n",
    "#     domains = wisig.ALL_DAYS,\n",
    "#     num_examples_per_domain_per_label=100,\n",
    "#     pickle_path=os.path.join(get_datasets_base_path(), \"wisig.node3-19.stratified_ds.2022A.pkl\"),\n",
    "#     source_or_target_dataset=\"target\",\n",
    "#     x_transform_func=global_x_transform_func,\n",
    "#     domain_modifier=lambda u: f\"wisig_{u}\"\n",
    "# )"
   ]
  },
  {
   "cell_type": "code",
   "execution_count": 19,
   "id": "fd5442bc",
   "metadata": {
    "execution": {
     "iopub.execute_input": "2022-03-28T06:30:19.494222Z",
     "iopub.status.busy": "2022-03-28T06:30:19.493834Z",
     "iopub.status.idle": "2022-03-28T06:30:19.513237Z",
     "shell.execute_reply": "2022-03-28T06:30:19.512439Z"
    },
    "papermill": {
     "duration": 0.049529,
     "end_time": "2022-03-28T06:30:19.513389",
     "exception": false,
     "start_time": "2022-03-28T06:30:19.463860",
     "status": "completed"
    },
    "tags": []
   },
   "outputs": [],
   "source": [
    "###################################\n",
    "# Build the dataset\n",
    "###################################\n",
    "train_original_source = Iterable_Aggregator(train_original_source, p.seed)\n",
    "val_original_source = Iterable_Aggregator(val_original_source, p.seed)\n",
    "test_original_source = Iterable_Aggregator(test_original_source, p.seed)\n",
    "\n",
    "\n",
    "train_original_target = Iterable_Aggregator(train_original_target, p.seed)\n",
    "val_original_target = Iterable_Aggregator(val_original_target, p.seed)\n",
    "test_original_target = Iterable_Aggregator(test_original_target, p.seed)\n",
    "\n",
    "# For CNN We only use X and Y. And we only train on the source.\n",
    "# Properly form the data using a transform lambda and Lazy_Iterable_Wrapper. Finally wrap them in a dataloader\n",
    "\n",
    "transform_lambda = lambda ex: ex[1] # Original is (<domain>, <episode>) so we strip down to episode only\n",
    "\n",
    "train_processed_source = Lazy_Iterable_Wrapper(train_original_source, transform_lambda)\n",
    "val_processed_source   = Lazy_Iterable_Wrapper(val_original_source, transform_lambda)\n",
    "test_processed_source  = Lazy_Iterable_Wrapper(test_original_source, transform_lambda)\n",
    "\n",
    "train_processed_target = Lazy_Iterable_Wrapper(train_original_target, transform_lambda)\n",
    "val_processed_target   = Lazy_Iterable_Wrapper(val_original_target, transform_lambda)\n",
    "test_processed_target  = Lazy_Iterable_Wrapper(test_original_target, transform_lambda)\n",
    "\n",
    "datasets = EasyDict({\n",
    "    \"source\": {\n",
    "        \"original\": {\"train\":train_original_source, \"val\":val_original_source, \"test\":test_original_source},\n",
    "        \"processed\": {\"train\":train_processed_source, \"val\":val_processed_source, \"test\":test_processed_source}\n",
    "    },\n",
    "    \"target\": {\n",
    "        \"original\": {\"train\":train_original_target, \"val\":val_original_target, \"test\":test_original_target},\n",
    "        \"processed\": {\"train\":train_processed_target, \"val\":val_processed_target, \"test\":test_processed_target}\n",
    "    },\n",
    "})"
   ]
  },
  {
   "cell_type": "code",
   "execution_count": 20,
   "id": "5b3c01fc",
   "metadata": {
    "execution": {
     "iopub.execute_input": "2022-03-28T06:30:19.569445Z",
     "iopub.status.busy": "2022-03-28T06:30:19.568259Z",
     "iopub.status.idle": "2022-03-28T06:30:33.998156Z",
     "shell.execute_reply": "2022-03-28T06:30:33.997361Z"
    },
    "papermill": {
     "duration": 14.455692,
     "end_time": "2022-03-28T06:30:33.998335",
     "exception": false,
     "start_time": "2022-03-28T06:30:19.542643",
     "status": "completed"
    },
    "tags": []
   },
   "outputs": [
    {
     "name": "stdout",
     "output_type": "stream",
     "text": [
      "{'C_2', 'C_4', 'C_3', 'C_1', 'C_5'}\n"
     ]
    },
    {
     "name": "stdout",
     "output_type": "stream",
     "text": [
      "{'O_38', 'O_26', 'O_50', 'O_8', 'O_14', 'O_20', 'O_44', 'O_32'}\n"
     ]
    },
    {
     "name": "stdout",
     "output_type": "stream",
     "text": [
      "tensor([[[0., 0., 0.,  ..., 0., 0., 0.],\n",
      "         [0., 0., 0.,  ..., 0., 0., 0.]],\n",
      "\n",
      "        [[0., 0., 0.,  ..., 0., 0., 0.],\n",
      "         [0., 0., 0.,  ..., 0., 0., 0.]],\n",
      "\n",
      "        [[0., 0., 0.,  ..., 0., 0., 0.],\n",
      "         [0., 0., 0.,  ..., 0., 0., 0.]],\n",
      "\n",
      "        ...,\n",
      "\n",
      "        [[0., 0., 0.,  ..., 0., 0., 0.],\n",
      "         [0., 0., 0.,  ..., 0., 0., 0.]],\n",
      "\n",
      "        [[0., 0., 0.,  ..., 0., 0., 0.],\n",
      "         [0., 0., 0.,  ..., 0., 0., 0.]],\n",
      "\n",
      "        [[0., 0., 0.,  ..., 0., 0., 0.],\n",
      "         [0., 0., 0.,  ..., 0., 0., 0.]]])\n"
     ]
    }
   ],
   "source": [
    "from steves_utils.transforms import get_average_magnitude, get_average_power\n",
    "\n",
    "print(set([u for u,_ in val_original_source]))\n",
    "print(set([u for u,_ in val_original_target]))\n",
    "\n",
    "s_x, s_y, q_x, q_y, _ = next(iter(train_processed_source))\n",
    "print(s_x)\n",
    "\n",
    "# for ds in [\n",
    "#     train_processed_source,\n",
    "#     val_processed_source,\n",
    "#     test_processed_source,\n",
    "#     train_processed_target,\n",
    "#     val_processed_target,\n",
    "#     test_processed_target\n",
    "# ]:\n",
    "#     for s_x, s_y, q_x, q_y, _ in ds:\n",
    "#         for X in (s_x, q_x):\n",
    "#             for x in X:\n",
    "#                 assert np.isclose(get_average_magnitude(x.numpy()), 1.0)\n",
    "#                 assert np.isclose(get_average_power(x.numpy()), 1.0)\n",
    "                "
   ]
  },
  {
   "cell_type": "code",
   "execution_count": 21,
   "id": "bbdacba1",
   "metadata": {
    "execution": {
     "iopub.execute_input": "2022-03-28T06:30:34.055579Z",
     "iopub.status.busy": "2022-03-28T06:30:34.055180Z",
     "iopub.status.idle": "2022-03-28T06:30:34.184968Z",
     "shell.execute_reply": "2022-03-28T06:30:34.185600Z"
    },
    "papermill": {
     "duration": 0.159039,
     "end_time": "2022-03-28T06:30:34.185825",
     "exception": false,
     "start_time": "2022-03-28T06:30:34.026786",
     "status": "completed"
    },
    "tags": []
   },
   "outputs": [
    {
     "name": "stdout",
     "output_type": "stream",
     "text": [
      "(2, 256)\n"
     ]
    }
   ],
   "source": [
    "###################################\n",
    "# Build the model\n",
    "###################################\n",
    "# easfsl only wants a tuple for the shape\n",
    "model = Steves_Prototypical_Network(x_net, device=p.device, x_shape=tuple(p.x_shape))\n",
    "optimizer = Adam(params=model.parameters(), lr=p.lr)"
   ]
  },
  {
   "cell_type": "code",
   "execution_count": 22,
   "id": "22b39ac5",
   "metadata": {
    "execution": {
     "iopub.execute_input": "2022-03-28T06:30:34.240250Z",
     "iopub.status.busy": "2022-03-28T06:30:34.239880Z",
     "iopub.status.idle": "2022-03-28T06:51:47.633495Z",
     "shell.execute_reply": "2022-03-28T06:51:47.632685Z"
    },
    "papermill": {
     "duration": 1273.421457,
     "end_time": "2022-03-28T06:51:47.633685",
     "exception": false,
     "start_time": "2022-03-28T06:30:34.212228",
     "status": "completed"
    },
    "tags": []
   },
   "outputs": [
    {
     "name": "stdout",
     "output_type": "stream",
     "text": [
      "epoch: 1, [batch: 1 / 6320], examples_per_second: 33.4644, train_label_loss: 2.7652, \n"
     ]
    },
    {
     "name": "stdout",
     "output_type": "stream",
     "text": [
      "epoch: 1, [batch: 632 / 6320], examples_per_second: 3798.9588, train_label_loss: 0.0060, \n"
     ]
    },
    {
     "name": "stdout",
     "output_type": "stream",
     "text": [
      "epoch: 1, [batch: 1264 / 6320], examples_per_second: 3758.1189, train_label_loss: 0.0027, \n"
     ]
    },
    {
     "name": "stdout",
     "output_type": "stream",
     "text": [
      "epoch: 1, [batch: 1896 / 6320], examples_per_second: 3794.1546, train_label_loss: 0.0013, \n"
     ]
    },
    {
     "name": "stdout",
     "output_type": "stream",
     "text": [
      "epoch: 1, [batch: 2528 / 6320], examples_per_second: 3905.0061, train_label_loss: 0.0024, \n"
     ]
    },
    {
     "name": "stdout",
     "output_type": "stream",
     "text": [
      "epoch: 1, [batch: 3160 / 6320], examples_per_second: 4272.8879, train_label_loss: 0.0008, \n"
     ]
    },
    {
     "name": "stdout",
     "output_type": "stream",
     "text": [
      "epoch: 1, [batch: 3792 / 6320], examples_per_second: 4398.0256, train_label_loss: 0.0008, \n"
     ]
    },
    {
     "name": "stdout",
     "output_type": "stream",
     "text": [
      "epoch: 1, [batch: 4424 / 6320], examples_per_second: 4172.4867, train_label_loss: 0.0232, \n"
     ]
    },
    {
     "name": "stdout",
     "output_type": "stream",
     "text": [
      "epoch: 1, [batch: 5056 / 6320], examples_per_second: 4347.8543, train_label_loss: 0.0120, \n"
     ]
    },
    {
     "name": "stdout",
     "output_type": "stream",
     "text": [
      "epoch: 1, [batch: 5688 / 6320], examples_per_second: 4406.2097, train_label_loss: 0.0022, \n"
     ]
    },
    {
     "name": "stdout",
     "output_type": "stream",
     "text": [
      "=============================================================\n",
      "epoch: 1, source_val_acc_label: 0.9950, target_val_acc_label: 0.3281, source_val_label_loss: 0.0211, target_val_label_loss: 1.9442, \n",
      "=============================================================\n"
     ]
    },
    {
     "name": "stdout",
     "output_type": "stream",
     "text": [
      "New best\n"
     ]
    },
    {
     "name": "stdout",
     "output_type": "stream",
     "text": [
      "epoch: 2, [batch: 1 / 6305], examples_per_second: 4.5602, train_label_loss: 0.0084, \n"
     ]
    },
    {
     "name": "stdout",
     "output_type": "stream",
     "text": [
      "epoch: 2, [batch: 631 / 6305], examples_per_second: 4791.6647, train_label_loss: 0.0101, \n"
     ]
    },
    {
     "name": "stdout",
     "output_type": "stream",
     "text": [
      "epoch: 2, [batch: 1261 / 6305], examples_per_second: 4784.0236, train_label_loss: 0.0025, \n"
     ]
    },
    {
     "name": "stdout",
     "output_type": "stream",
     "text": [
      "epoch: 2, [batch: 1892 / 6305], examples_per_second: 4962.4788, train_label_loss: 0.0065, \n"
     ]
    },
    {
     "name": "stdout",
     "output_type": "stream",
     "text": [
      "epoch: 2, [batch: 2522 / 6305], examples_per_second: 4973.6012, train_label_loss: 0.0002, \n"
     ]
    },
    {
     "name": "stdout",
     "output_type": "stream",
     "text": [
      "epoch: 2, [batch: 3153 / 6305], examples_per_second: 5255.7945, train_label_loss: 0.0048, \n"
     ]
    },
    {
     "name": "stdout",
     "output_type": "stream",
     "text": [
      "epoch: 2, [batch: 3783 / 6305], examples_per_second: 5150.7762, train_label_loss: 0.0004, \n"
     ]
    },
    {
     "name": "stdout",
     "output_type": "stream",
     "text": [
      "epoch: 2, [batch: 4413 / 6305], examples_per_second: 4808.8179, train_label_loss: 0.0000, \n"
     ]
    },
    {
     "name": "stdout",
     "output_type": "stream",
     "text": [
      "epoch: 2, [batch: 5044 / 6305], examples_per_second: 5084.7468, train_label_loss: 0.0044, \n"
     ]
    },
    {
     "name": "stdout",
     "output_type": "stream",
     "text": [
      "epoch: 2, [batch: 5674 / 6305], examples_per_second: 5058.5976, train_label_loss: 0.0002, \n"
     ]
    },
    {
     "name": "stdout",
     "output_type": "stream",
     "text": [
      "=============================================================\n",
      "epoch: 2, source_val_acc_label: 0.9970, target_val_acc_label: 0.2885, source_val_label_loss: 0.0170, target_val_label_loss: 2.5511, \n",
      "=============================================================\n"
     ]
    },
    {
     "name": "stdout",
     "output_type": "stream",
     "text": [
      "epoch: 3, [batch: 1 / 6307], examples_per_second: 5.4246, train_label_loss: 0.0682, \n"
     ]
    },
    {
     "name": "stdout",
     "output_type": "stream",
     "text": [
      "epoch: 3, [batch: 631 / 6307], examples_per_second: 4829.3015, train_label_loss: 0.0001, \n"
     ]
    },
    {
     "name": "stdout",
     "output_type": "stream",
     "text": [
      "epoch: 3, [batch: 1262 / 6307], examples_per_second: 4962.5058, train_label_loss: 0.0006, \n"
     ]
    },
    {
     "name": "stdout",
     "output_type": "stream",
     "text": [
      "epoch: 3, [batch: 1892 / 6307], examples_per_second: 4901.0883, train_label_loss: 0.0001, \n"
     ]
    },
    {
     "name": "stdout",
     "output_type": "stream",
     "text": [
      "epoch: 3, [batch: 2523 / 6307], examples_per_second: 4835.1185, train_label_loss: 0.0003, \n"
     ]
    },
    {
     "name": "stdout",
     "output_type": "stream",
     "text": [
      "epoch: 3, [batch: 3154 / 6307], examples_per_second: 4903.4726, train_label_loss: 0.0007, \n"
     ]
    },
    {
     "name": "stdout",
     "output_type": "stream",
     "text": [
      "epoch: 3, [batch: 3784 / 6307], examples_per_second: 5072.4990, train_label_loss: 0.0001, \n"
     ]
    },
    {
     "name": "stdout",
     "output_type": "stream",
     "text": [
      "epoch: 3, [batch: 4415 / 6307], examples_per_second: 5088.7139, train_label_loss: 0.0056, \n"
     ]
    },
    {
     "name": "stdout",
     "output_type": "stream",
     "text": [
      "epoch: 3, [batch: 5045 / 6307], examples_per_second: 5101.0014, train_label_loss: 0.0003, \n"
     ]
    },
    {
     "name": "stdout",
     "output_type": "stream",
     "text": [
      "epoch: 3, [batch: 5676 / 6307], examples_per_second: 4938.8733, train_label_loss: 0.0035, \n"
     ]
    },
    {
     "name": "stdout",
     "output_type": "stream",
     "text": [
      "=============================================================\n",
      "epoch: 3, source_val_acc_label: 0.9990, target_val_acc_label: 0.3466, source_val_label_loss: 0.0072, target_val_label_loss: 1.9298, \n",
      "=============================================================\n"
     ]
    },
    {
     "name": "stdout",
     "output_type": "stream",
     "text": [
      "New best\n"
     ]
    },
    {
     "name": "stdout",
     "output_type": "stream",
     "text": [
      "epoch: 4, [batch: 1 / 6315], examples_per_second: 4.7530, train_label_loss: 0.0000, \n"
     ]
    },
    {
     "name": "stdout",
     "output_type": "stream",
     "text": [
      "epoch: 4, [batch: 632 / 6315], examples_per_second: 3914.0536, train_label_loss: 0.0017, \n"
     ]
    },
    {
     "name": "stdout",
     "output_type": "stream",
     "text": [
      "epoch: 4, [batch: 1263 / 6315], examples_per_second: 3924.5503, train_label_loss: 0.0000, \n"
     ]
    },
    {
     "name": "stdout",
     "output_type": "stream",
     "text": [
      "epoch: 4, [batch: 1895 / 6315], examples_per_second: 3992.9508, train_label_loss: 0.0000, \n"
     ]
    },
    {
     "name": "stdout",
     "output_type": "stream",
     "text": [
      "epoch: 4, [batch: 2526 / 6315], examples_per_second: 3975.6088, train_label_loss: 0.0000, \n"
     ]
    },
    {
     "name": "stdout",
     "output_type": "stream",
     "text": [
      "epoch: 4, [batch: 3158 / 6315], examples_per_second: 3967.0608, train_label_loss: 0.0002, \n"
     ]
    },
    {
     "name": "stdout",
     "output_type": "stream",
     "text": [
      "epoch: 4, [batch: 3789 / 6315], examples_per_second: 3992.3590, train_label_loss: 0.0001, \n"
     ]
    },
    {
     "name": "stdout",
     "output_type": "stream",
     "text": [
      "epoch: 4, [batch: 4420 / 6315], examples_per_second: 3924.8093, train_label_loss: 0.0000, \n"
     ]
    },
    {
     "name": "stdout",
     "output_type": "stream",
     "text": [
      "epoch: 4, [batch: 5052 / 6315], examples_per_second: 3782.1433, train_label_loss: 0.0000, \n"
     ]
    },
    {
     "name": "stdout",
     "output_type": "stream",
     "text": [
      "epoch: 4, [batch: 5683 / 6315], examples_per_second: 4273.4530, train_label_loss: 0.0000, \n"
     ]
    },
    {
     "name": "stdout",
     "output_type": "stream",
     "text": [
      "=============================================================\n",
      "epoch: 4, source_val_acc_label: 0.9990, target_val_acc_label: 0.3462, source_val_label_loss: 0.0074, target_val_label_loss: 2.0130, \n",
      "=============================================================\n"
     ]
    },
    {
     "name": "stdout",
     "output_type": "stream",
     "text": [
      "epoch: 5, [batch: 1 / 6313], examples_per_second: 4.6493, train_label_loss: 0.0000, \n"
     ]
    },
    {
     "name": "stdout",
     "output_type": "stream",
     "text": [
      "epoch: 5, [batch: 632 / 6313], examples_per_second: 3819.0343, train_label_loss: 0.0001, \n"
     ]
    },
    {
     "name": "stdout",
     "output_type": "stream",
     "text": [
      "epoch: 5, [batch: 1263 / 6313], examples_per_second: 3909.5441, train_label_loss: 0.0013, \n"
     ]
    },
    {
     "name": "stdout",
     "output_type": "stream",
     "text": [
      "epoch: 5, [batch: 1894 / 6313], examples_per_second: 3898.0211, train_label_loss: 0.0000, \n"
     ]
    },
    {
     "name": "stdout",
     "output_type": "stream",
     "text": [
      "epoch: 5, [batch: 2525 / 6313], examples_per_second: 3848.0793, train_label_loss: 0.0000, \n"
     ]
    },
    {
     "name": "stdout",
     "output_type": "stream",
     "text": [
      "epoch: 5, [batch: 3157 / 6313], examples_per_second: 3810.7798, train_label_loss: 0.0019, \n"
     ]
    },
    {
     "name": "stdout",
     "output_type": "stream",
     "text": [
      "epoch: 5, [batch: 3788 / 6313], examples_per_second: 3952.1427, train_label_loss: 0.0007, \n"
     ]
    },
    {
     "name": "stdout",
     "output_type": "stream",
     "text": [
      "epoch: 5, [batch: 4419 / 6313], examples_per_second: 3843.5752, train_label_loss: 0.0000, \n"
     ]
    },
    {
     "name": "stdout",
     "output_type": "stream",
     "text": [
      "epoch: 5, [batch: 5050 / 6313], examples_per_second: 3851.2289, train_label_loss: 0.0002, \n"
     ]
    },
    {
     "name": "stdout",
     "output_type": "stream",
     "text": [
      "epoch: 5, [batch: 5681 / 6313], examples_per_second: 3998.9288, train_label_loss: 0.0000, \n"
     ]
    },
    {
     "name": "stdout",
     "output_type": "stream",
     "text": [
      "=============================================================\n",
      "epoch: 5, source_val_acc_label: 0.9988, target_val_acc_label: 0.3721, source_val_label_loss: 0.0083, target_val_label_loss: 1.9759, \n",
      "=============================================================\n"
     ]
    },
    {
     "name": "stdout",
     "output_type": "stream",
     "text": [
      "New best\n"
     ]
    },
    {
     "name": "stdout",
     "output_type": "stream",
     "text": [
      "epoch: 6, [batch: 1 / 6317], examples_per_second: 4.5748, train_label_loss: 0.0000, \n"
     ]
    },
    {
     "name": "stdout",
     "output_type": "stream",
     "text": [
      "epoch: 6, [batch: 632 / 6317], examples_per_second: 3861.7711, train_label_loss: 0.0000, \n"
     ]
    },
    {
     "name": "stdout",
     "output_type": "stream",
     "text": [
      "epoch: 6, [batch: 1264 / 6317], examples_per_second: 3968.1574, train_label_loss: 0.0463, \n"
     ]
    },
    {
     "name": "stdout",
     "output_type": "stream",
     "text": [
      "epoch: 6, [batch: 1895 / 6317], examples_per_second: 3830.3482, train_label_loss: 0.0045, \n"
     ]
    },
    {
     "name": "stdout",
     "output_type": "stream",
     "text": [
      "epoch: 6, [batch: 2527 / 6317], examples_per_second: 3753.5794, train_label_loss: 0.0000, \n"
     ]
    },
    {
     "name": "stdout",
     "output_type": "stream",
     "text": [
      "epoch: 6, [batch: 3159 / 6317], examples_per_second: 3820.2459, train_label_loss: 0.0000, \n"
     ]
    },
    {
     "name": "stdout",
     "output_type": "stream",
     "text": [
      "epoch: 6, [batch: 3790 / 6317], examples_per_second: 3808.8737, train_label_loss: 0.0000, \n"
     ]
    },
    {
     "name": "stdout",
     "output_type": "stream",
     "text": [
      "epoch: 6, [batch: 4422 / 6317], examples_per_second: 3867.4619, train_label_loss: 0.0000, \n"
     ]
    },
    {
     "name": "stdout",
     "output_type": "stream",
     "text": [
      "epoch: 6, [batch: 5053 / 6317], examples_per_second: 3969.1891, train_label_loss: 0.0000, \n"
     ]
    },
    {
     "name": "stdout",
     "output_type": "stream",
     "text": [
      "epoch: 6, [batch: 5685 / 6317], examples_per_second: 4130.0269, train_label_loss: 0.0000, \n"
     ]
    },
    {
     "name": "stdout",
     "output_type": "stream",
     "text": [
      "=============================================================\n",
      "epoch: 6, source_val_acc_label: 0.9987, target_val_acc_label: 0.3519, source_val_label_loss: 0.0076, target_val_label_loss: 2.0424, \n",
      "=============================================================\n"
     ]
    },
    {
     "name": "stdout",
     "output_type": "stream",
     "text": [
      "epoch: 7, [batch: 1 / 6322], examples_per_second: 4.6012, train_label_loss: 0.0110, \n"
     ]
    },
    {
     "name": "stdout",
     "output_type": "stream",
     "text": [
      "epoch: 7, [batch: 633 / 6322], examples_per_second: 3757.5812, train_label_loss: 0.0000, \n"
     ]
    },
    {
     "name": "stdout",
     "output_type": "stream",
     "text": [
      "epoch: 7, [batch: 1265 / 6322], examples_per_second: 3829.6648, train_label_loss: 0.0000, \n"
     ]
    },
    {
     "name": "stdout",
     "output_type": "stream",
     "text": [
      "epoch: 7, [batch: 1897 / 6322], examples_per_second: 4034.5192, train_label_loss: 0.0000, \n"
     ]
    },
    {
     "name": "stdout",
     "output_type": "stream",
     "text": [
      "epoch: 7, [batch: 2529 / 6322], examples_per_second: 4022.4347, train_label_loss: 0.0000, \n"
     ]
    },
    {
     "name": "stdout",
     "output_type": "stream",
     "text": [
      "epoch: 7, [batch: 3161 / 6322], examples_per_second: 3999.0197, train_label_loss: 0.0000, \n"
     ]
    },
    {
     "name": "stdout",
     "output_type": "stream",
     "text": [
      "epoch: 7, [batch: 3793 / 6322], examples_per_second: 4081.6336, train_label_loss: 0.0000, \n"
     ]
    },
    {
     "name": "stdout",
     "output_type": "stream",
     "text": [
      "epoch: 7, [batch: 4425 / 6322], examples_per_second: 4028.0628, train_label_loss: 0.0100, \n"
     ]
    },
    {
     "name": "stdout",
     "output_type": "stream",
     "text": [
      "epoch: 7, [batch: 5057 / 6322], examples_per_second: 4043.2844, train_label_loss: 0.0000, \n"
     ]
    },
    {
     "name": "stdout",
     "output_type": "stream",
     "text": [
      "epoch: 7, [batch: 5689 / 6322], examples_per_second: 4145.5453, train_label_loss: 0.0000, \n"
     ]
    },
    {
     "name": "stdout",
     "output_type": "stream",
     "text": [
      "=============================================================\n",
      "epoch: 7, source_val_acc_label: 0.9995, target_val_acc_label: 0.3601, source_val_label_loss: 0.0063, target_val_label_loss: 2.0442, \n",
      "=============================================================\n"
     ]
    },
    {
     "name": "stdout",
     "output_type": "stream",
     "text": [
      "epoch: 8, [batch: 1 / 6297], examples_per_second: 4.7528, train_label_loss: 0.0005, \n"
     ]
    },
    {
     "name": "stdout",
     "output_type": "stream",
     "text": [
      "epoch: 8, [batch: 630 / 6297], examples_per_second: 3807.0494, train_label_loss: 0.0000, \n"
     ]
    },
    {
     "name": "stdout",
     "output_type": "stream",
     "text": [
      "epoch: 8, [batch: 1260 / 6297], examples_per_second: 3879.7373, train_label_loss: 0.0000, \n"
     ]
    },
    {
     "name": "stdout",
     "output_type": "stream",
     "text": [
      "epoch: 8, [batch: 1889 / 6297], examples_per_second: 3891.5499, train_label_loss: 0.0000, \n"
     ]
    },
    {
     "name": "stdout",
     "output_type": "stream",
     "text": [
      "epoch: 8, [batch: 2519 / 6297], examples_per_second: 3888.6550, train_label_loss: 0.0000, \n"
     ]
    },
    {
     "name": "stdout",
     "output_type": "stream",
     "text": [
      "epoch: 8, [batch: 3149 / 6297], examples_per_second: 3886.7875, train_label_loss: 0.0000, \n"
     ]
    },
    {
     "name": "stdout",
     "output_type": "stream",
     "text": [
      "epoch: 8, [batch: 3778 / 6297], examples_per_second: 3928.2786, train_label_loss: 0.0000, \n"
     ]
    },
    {
     "name": "stdout",
     "output_type": "stream",
     "text": [
      "epoch: 8, [batch: 4408 / 6297], examples_per_second: 3921.9789, train_label_loss: 0.0000, \n"
     ]
    },
    {
     "name": "stdout",
     "output_type": "stream",
     "text": [
      "epoch: 8, [batch: 5037 / 6297], examples_per_second: 3883.7818, train_label_loss: 0.0001, \n"
     ]
    },
    {
     "name": "stdout",
     "output_type": "stream",
     "text": [
      "epoch: 8, [batch: 5667 / 6297], examples_per_second: 3846.8719, train_label_loss: 0.0000, \n"
     ]
    },
    {
     "name": "stdout",
     "output_type": "stream",
     "text": [
      "=============================================================\n",
      "epoch: 8, source_val_acc_label: 0.9998, target_val_acc_label: 0.3694, source_val_label_loss: 0.0054, target_val_label_loss: 1.9908, \n",
      "=============================================================\n"
     ]
    },
    {
     "name": "stdout",
     "output_type": "stream",
     "text": [
      "epoch: 9, [batch: 1 / 6315], examples_per_second: 4.5325, train_label_loss: 0.0000, \n"
     ]
    },
    {
     "name": "stdout",
     "output_type": "stream",
     "text": [
      "epoch: 9, [batch: 632 / 6315], examples_per_second: 4223.1575, train_label_loss: 0.3866, \n"
     ]
    },
    {
     "name": "stdout",
     "output_type": "stream",
     "text": [
      "epoch: 9, [batch: 1263 / 6315], examples_per_second: 4369.2998, train_label_loss: 0.0000, \n"
     ]
    },
    {
     "name": "stdout",
     "output_type": "stream",
     "text": [
      "epoch: 9, [batch: 1895 / 6315], examples_per_second: 4527.0019, train_label_loss: 0.0000, \n"
     ]
    },
    {
     "name": "stdout",
     "output_type": "stream",
     "text": [
      "epoch: 9, [batch: 2526 / 6315], examples_per_second: 4424.5181, train_label_loss: 0.0001, \n"
     ]
    },
    {
     "name": "stdout",
     "output_type": "stream",
     "text": [
      "epoch: 9, [batch: 3158 / 6315], examples_per_second: 4364.3434, train_label_loss: 0.0000, \n"
     ]
    },
    {
     "name": "stdout",
     "output_type": "stream",
     "text": [
      "epoch: 9, [batch: 3789 / 6315], examples_per_second: 4717.7498, train_label_loss: 0.0000, \n"
     ]
    },
    {
     "name": "stdout",
     "output_type": "stream",
     "text": [
      "epoch: 9, [batch: 4420 / 6315], examples_per_second: 4898.9894, train_label_loss: 0.0000, \n"
     ]
    },
    {
     "name": "stdout",
     "output_type": "stream",
     "text": [
      "epoch: 9, [batch: 5052 / 6315], examples_per_second: 4815.4676, train_label_loss: 0.0000, \n"
     ]
    },
    {
     "name": "stdout",
     "output_type": "stream",
     "text": [
      "epoch: 9, [batch: 5683 / 6315], examples_per_second: 4948.8668, train_label_loss: 0.0000, \n"
     ]
    },
    {
     "name": "stdout",
     "output_type": "stream",
     "text": [
      "=============================================================\n",
      "epoch: 9, source_val_acc_label: 0.9991, target_val_acc_label: 0.3385, source_val_label_loss: 0.0088, target_val_label_loss: 2.3061, \n",
      "=============================================================\n"
     ]
    },
    {
     "name": "stdout",
     "output_type": "stream",
     "text": [
      "Patience (3) exhausted\n"
     ]
    }
   ],
   "source": [
    "###################################\n",
    "# train\n",
    "###################################\n",
    "jig = PTN_Train_Eval_Test_Jig(model, p.BEST_MODEL_PATH, p.device)\n",
    "\n",
    "jig.train(\n",
    "    train_iterable=datasets.source.processed.train,\n",
    "    source_val_iterable=datasets.source.processed.val,\n",
    "    target_val_iterable=datasets.target.processed.val,\n",
    "    num_epochs=p.n_epoch,\n",
    "    num_logs_per_epoch=p.NUM_LOGS_PER_EPOCH,\n",
    "    patience=p.patience,\n",
    "    optimizer=optimizer,\n",
    "    criteria_for_best=p.criteria_for_best,\n",
    ")"
   ]
  },
  {
   "cell_type": "code",
   "execution_count": 23,
   "id": "31e8fabf",
   "metadata": {
    "execution": {
     "iopub.execute_input": "2022-03-28T06:51:47.748294Z",
     "iopub.status.busy": "2022-03-28T06:51:47.747917Z",
     "iopub.status.idle": "2022-03-28T06:51:47.778293Z",
     "shell.execute_reply": "2022-03-28T06:51:47.778946Z"
    },
    "papermill": {
     "duration": 0.085247,
     "end_time": "2022-03-28T06:51:47.779157",
     "exception": false,
     "start_time": "2022-03-28T06:51:47.693910",
     "status": "completed"
    },
    "tags": []
   },
   "outputs": [],
   "source": [
    "total_experiment_time_secs = time.time() - start_time_secs"
   ]
  },
  {
   "cell_type": "code",
   "execution_count": 24,
   "id": "87b9595b",
   "metadata": {
    "execution": {
     "iopub.execute_input": "2022-03-28T06:51:47.897257Z",
     "iopub.status.busy": "2022-03-28T06:51:47.893549Z",
     "iopub.status.idle": "2022-03-28T06:54:06.156310Z",
     "shell.execute_reply": "2022-03-28T06:54:06.155565Z"
    },
    "papermill": {
     "duration": 138.319057,
     "end_time": "2022-03-28T06:54:06.156496",
     "exception": false,
     "start_time": "2022-03-28T06:51:47.837439",
     "status": "completed"
    },
    "tags": []
   },
   "outputs": [],
   "source": [
    "###################################\n",
    "# Evaluate the model\n",
    "###################################\n",
    "source_test_label_accuracy, source_test_label_loss = jig.test(datasets.source.processed.test)\n",
    "target_test_label_accuracy, target_test_label_loss = jig.test(datasets.target.processed.test)\n",
    "\n",
    "source_val_label_accuracy, source_val_label_loss = jig.test(datasets.source.processed.val)\n",
    "target_val_label_accuracy, target_val_label_loss = jig.test(datasets.target.processed.val)\n",
    "\n",
    "history = jig.get_history()\n",
    "\n",
    "total_epochs_trained = len(history[\"epoch_indices\"])\n",
    "\n",
    "val_dl = Iterable_Aggregator((datasets.source.original.val,datasets.target.original.val))\n",
    "\n",
    "confusion = ptn_confusion_by_domain_over_dataloader(model, p.device, val_dl)\n",
    "per_domain_accuracy = per_domain_accuracy_from_confusion(confusion)\n",
    "\n",
    "# Add a key to per_domain_accuracy for if it was a source domain\n",
    "for domain, accuracy in per_domain_accuracy.items():\n",
    "    per_domain_accuracy[domain] = {\n",
    "        \"accuracy\": accuracy,\n",
    "        \"source?\": domain in p.domains_source\n",
    "    }\n",
    "\n",
    "# Do an independent accuracy assesment JUST TO BE SURE!\n",
    "# _source_test_label_accuracy = independent_accuracy_assesment(model, datasets.source.processed.test, p.device)\n",
    "# _target_test_label_accuracy = independent_accuracy_assesment(model, datasets.target.processed.test, p.device)\n",
    "# _source_val_label_accuracy = independent_accuracy_assesment(model, datasets.source.processed.val, p.device)\n",
    "# _target_val_label_accuracy = independent_accuracy_assesment(model, datasets.target.processed.val, p.device)\n",
    "\n",
    "# assert(_source_test_label_accuracy == source_test_label_accuracy)\n",
    "# assert(_target_test_label_accuracy == target_test_label_accuracy)\n",
    "# assert(_source_val_label_accuracy == source_val_label_accuracy)\n",
    "# assert(_target_val_label_accuracy == target_val_label_accuracy)\n",
    "\n",
    "experiment = {\n",
    "    \"experiment_name\": p.experiment_name,\n",
    "    \"parameters\": dict(p),\n",
    "    \"results\": {\n",
    "        \"source_test_label_accuracy\": source_test_label_accuracy,\n",
    "        \"source_test_label_loss\": source_test_label_loss,\n",
    "        \"target_test_label_accuracy\": target_test_label_accuracy,\n",
    "        \"target_test_label_loss\": target_test_label_loss,\n",
    "        \"source_val_label_accuracy\": source_val_label_accuracy,\n",
    "        \"source_val_label_loss\": source_val_label_loss,\n",
    "        \"target_val_label_accuracy\": target_val_label_accuracy,\n",
    "        \"target_val_label_loss\": target_val_label_loss,\n",
    "        \"total_epochs_trained\": total_epochs_trained,\n",
    "        \"total_experiment_time_secs\": total_experiment_time_secs,\n",
    "        \"confusion\": confusion,\n",
    "        \"per_domain_accuracy\": per_domain_accuracy,\n",
    "    },\n",
    "    \"history\": history,\n",
    "    \"dataset_metrics\": get_dataset_metrics(datasets, \"ptn\"),\n",
    "}"
   ]
  },
  {
   "cell_type": "code",
   "execution_count": 25,
   "id": "54a21829",
   "metadata": {
    "execution": {
     "iopub.execute_input": "2022-03-28T06:54:06.270944Z",
     "iopub.status.busy": "2022-03-28T06:54:06.270565Z",
     "iopub.status.idle": "2022-03-28T06:54:06.502786Z",
     "shell.execute_reply": "2022-03-28T06:54:06.503477Z"
    },
    "papermill": {
     "duration": 0.289905,
     "end_time": "2022-03-28T06:54:06.503702",
     "exception": false,
     "start_time": "2022-03-28T06:54:06.213797",
     "status": "completed"
    },
    "tags": []
   },
   "outputs": [
    {
     "data": {
      "image/png": "[encoded data removed]",
      "text/plain": [
       "<Figure size 1080x504 with 1 Axes>"
      ]
     },
     "metadata": {
      "needs_background": "light"
     },
     "output_type": "display_data"
    }
   ],
   "source": [
    "ax = get_loss_curve(experiment)\n",
    "plt.show()"
   ]
  },
  {
   "cell_type": "code",
   "execution_count": 26,
   "id": "fd8a0f60",
   "metadata": {
    "execution": {
     "iopub.execute_input": "2022-03-28T06:54:06.618930Z",
     "iopub.status.busy": "2022-03-28T06:54:06.618553Z",
     "iopub.status.idle": "2022-03-28T06:54:06.978217Z",
     "shell.execute_reply": "2022-03-28T06:54:06.978917Z"
    },
    "papermill": {
     "duration": 0.417867,
     "end_time": "2022-03-28T06:54:06.979132",
     "exception": false,
     "start_time": "2022-03-28T06:54:06.561265",
     "status": "completed"
    },
    "tags": []
   },
   "outputs": [
    {
     "data": {
      "text/plain": [
       "<AxesSubplot:title={'center':'Results'}>"
      ]
     },
     "execution_count": 26,
     "metadata": {},
     "output_type": "execute_result"
    },
    {
     "data": {
      "image/png": "[encoded data removed]",
      "text/plain": [
       "<Figure size 1080x504 with 1 Axes>"
      ]
     },
     "metadata": {
      "needs_background": "light"
     },
     "output_type": "display_data"
    }
   ],
   "source": [
    "get_results_table(experiment)"
   ]
  },
  {
   "cell_type": "code",
   "execution_count": 27,
   "id": "cf8dc689",
   "metadata": {
    "execution": {
     "iopub.execute_input": "2022-03-28T06:54:07.094697Z",
     "iopub.status.busy": "2022-03-28T06:54:07.094058Z",
     "iopub.status.idle": "2022-03-28T06:54:07.331762Z",
     "shell.execute_reply": "2022-03-28T06:54:07.330991Z"
    },
    "papermill": {
     "duration": 0.293605,
     "end_time": "2022-03-28T06:54:07.331934",
     "exception": false,
     "start_time": "2022-03-28T06:54:07.038329",
     "status": "completed"
    },
    "tags": []
   },
   "outputs": [
    {
     "data": {
      "text/plain": [
       "<AxesSubplot:title={'center':'Per Domain Validation Accuracy'}, xlabel='domain'>"
      ]
     },
     "execution_count": 27,
     "metadata": {},
     "output_type": "execute_result"
    },
    {
     "data": {
      "image/png": "[encoded data removed]",
      "text/plain": [
       "<Figure size 1080x504 with 1 Axes>"
      ]
     },
     "metadata": {
      "needs_background": "light"
     },
     "output_type": "display_data"
    }
   ],
   "source": [
    "get_domain_accuracies(experiment)"
   ]
  },
  {
   "cell_type": "code",
   "execution_count": 28,
   "id": "a74ae082",
   "metadata": {
    "execution": {
     "iopub.execute_input": "2022-03-28T06:54:07.456775Z",
     "iopub.status.busy": "2022-03-28T06:54:07.456203Z",
     "iopub.status.idle": "2022-03-28T06:54:07.480867Z",
     "shell.execute_reply": "2022-03-28T06:54:07.481546Z"
    },
    "papermill": {
     "duration": 0.08406,
     "end_time": "2022-03-28T06:54:07.481732",
     "exception": false,
     "start_time": "2022-03-28T06:54:07.397672",
     "status": "completed"
    },
    "tags": []
   },
   "outputs": [
    {
     "name": "stdout",
     "output_type": "stream",
     "text": [
      "Source Test Label Accuracy: 0.9991933221099888 Target Test Label Accuracy: 0.36324869791666664\n",
      "Source Val Label Accuracy: 0.9987514269406392 Target Val Label Accuracy: 0.37213541666666666\n"
     ]
    }
   ],
   "source": [
    "print(\"Source Test Label Accuracy:\", experiment[\"results\"][\"source_test_label_accuracy\"], \"Target Test Label Accuracy:\", experiment[\"results\"][\"target_test_label_accuracy\"])\n",
    "print(\"Source Val Label Accuracy:\", experiment[\"results\"][\"source_val_label_accuracy\"], \"Target Val Label Accuracy:\", experiment[\"results\"][\"target_val_label_accuracy\"])"
   ]
  },
  {
   "cell_type": "code",
   "execution_count": 29,
   "id": "dacca602",
   "metadata": {
    "execution": {
     "iopub.execute_input": "2022-03-28T06:54:07.601893Z",
     "iopub.status.busy": "2022-03-28T06:54:07.601343Z",
     "iopub.status.idle": "2022-03-28T06:54:07.627948Z",
     "shell.execute_reply": "2022-03-28T06:54:07.628518Z"
    },
    "papermill": {
     "duration": 0.084246,
     "end_time": "2022-03-28T06:54:07.628639",
     "exception": false,
     "start_time": "2022-03-28T06:54:07.544393",
     "status": "completed"
    },
    "tags": [
     "experiment_json"
    ]
   },
   "outputs": [
    {
     "data": {
      "text/plain": [
       "'{\"experiment_name\": \"tl_3-jitter10v2:cores -> oracle.run1.framed\", \"parameters\": {\"experiment_name\": \"tl_3-jitter10v2:cores -> oracle.run1.framed\", \"device\": \"cuda\", \"lr\": 0.0001, \"x_shape\": [2, 256], \"n_shot\": 3, \"n_query\": 2, \"train_k_factor\": 3, \"val_k_factor\": 2, \"test_k_factor\": 2, \"torch_default_dtype\": \"torch.float32\", \"n_epoch\": 50, \"patience\": 3, \"criteria_for_best\": \"target_accuracy\", \"x_net\": [{\"class\": \"nnReshape\", \"kargs\": {\"shape\": [-1, 1, 2, 256]}}, {\"class\": \"Conv2d\", \"kargs\": {\"in_channels\": 1, \"out_channels\": 256, \"kernel_size\": [1, 7], \"bias\": false, \"padding\": [0, 3]}}, {\"class\": \"ReLU\", \"kargs\": {\"inplace\": true}}, {\"class\": \"BatchNorm2d\", \"kargs\": {\"num_features\": 256}}, {\"class\": \"Conv2d\", \"kargs\": {\"in_channels\": 256, \"out_channels\": 80, \"kernel_size\": [2, 7], \"bias\": true, \"padding\": [0, 3]}}, {\"class\": \"ReLU\", \"kargs\": {\"inplace\": true}}, {\"class\": \"BatchNorm2d\", \"kargs\": {\"num_features\": 80}}, {\"class\": \"Flatten\", \"kargs\": {}}, {\"class\": \"Linear\", \"kargs\": {\"in_features\": 20480, \"out_features\": 256}}, {\"class\": \"ReLU\", \"kargs\": {\"inplace\": true}}, {\"class\": \"BatchNorm1d\", \"kargs\": {\"num_features\": 256}}, {\"class\": \"Linear\", \"kargs\": {\"in_features\": 256, \"out_features\": 256}}], \"NUM_LOGS_PER_EPOCH\": 10, \"BEST_MODEL_PATH\": \"./best_model.pth\", \"n_way\": 16, \"datasets\": [{\"labels\": [\"1-10.\", \"1-11.\", \"1-15.\", \"1-16.\", \"1-17.\", \"1-18.\", \"1-19.\", \"10-4.\", \"10-7.\", \"11-1.\", \"11-14.\", \"11-17.\", \"11-20.\", \"11-7.\", \"13-20.\", \"13-8.\", \"14-10.\", \"14-11.\", \"14-14.\", \"14-7.\", \"15-1.\", \"15-20.\", \"16-1.\", \"16-16.\", \"17-10.\", \"17-11.\", \"17-2.\", \"19-1.\", \"19-16.\", \"19-19.\", \"19-20.\", \"19-3.\", \"2-10.\", \"2-11.\", \"2-17.\", \"2-18.\", \"2-20.\", \"2-3.\", \"2-4.\", \"2-5.\", \"2-6.\", \"2-7.\", \"2-8.\", \"3-13.\", \"3-18.\", \"3-3.\", \"4-1.\", \"4-10.\", \"4-11.\", \"4-19.\", \"5-5.\", \"6-15.\", \"7-10.\", \"7-14.\", \"8-18.\", \"8-20.\", \"8-3.\", \"8-8.\"], \"domains\": [1, 2, 3, 4, 5], \"num_examples_per_domain_per_label\": -1, \"pickle_path\": \"/root/csc500-main/datasets/cores.stratified_ds.2022A.pkl\", \"source_or_target_dataset\": \"source\", \"x_transforms\": [\"unit_power\", \"jitter_256_10\", \"lowpass_+/-10MHz\", \"take_200\"], \"episode_transforms\": [], \"domain_prefix\": \"C_\"}, {\"labels\": [\"3123D52\", \"3123D65\", \"3123D79\", \"3123D80\", \"3123D54\", \"3123D70\", \"3123D7B\", \"3123D89\", \"3123D58\", \"3123D76\", \"3123D7D\", \"3123EFE\", \"3123D64\", \"3123D78\", \"3123D7E\", \"3124E4A\"], \"domains\": [32, 38, 8, 44, 14, 50, 20, 26], \"num_examples_per_domain_per_label\": 2000, \"pickle_path\": \"/root/csc500-main/datasets/oracle.Run1_framed_2000Examples_stratified_ds.2022A.pkl\", \"source_or_target_dataset\": \"target\", \"x_transforms\": [\"unit_power\", \"jitter_256_10\", \"take_200\", \"resample_20Msps_to_25Msps\"], \"episode_transforms\": [], \"domain_prefix\": \"O_\"}], \"seed\": 1337, \"dataset_seed\": 1337, \"domains_source\": [\"C_1\", \"C_2\", \"C_3\", \"C_4\", \"C_5\"], \"domains_target\": [\"O_32\", \"O_38\", \"O_8\", \"O_44\", \"O_14\", \"O_50\", \"O_20\", \"O_26\"]}, \"results\": {\"source_test_label_accuracy\": 0.9991933221099888, \"source_test_label_loss\": 0.007494798395782709, \"target_test_label_accuracy\": 0.36324869791666664, \"target_test_label_loss\": 1.982115626335144, \"source_val_label_accuracy\": 0.9987514269406392, \"source_val_label_loss\": 0.008274690248072147, \"target_val_label_accuracy\": 0.37213541666666666, \"target_val_label_loss\": 1.975887656211853, \"total_epochs_trained\": 9, \"total_experiment_time_secs\": 1400.1255974769592, \"confusion\": {\"C_3\": {\"43\": {\"43\": 128}, \"9\": {\"9\": 150}, \"6\": {\"6\": 88}, \"3\": {\"3\": 144}, \"16\": {\"16\": 134}, \"51\": {\"51\": 128}, \"31\": {\"31\": 28}, \"46\": {\"46\": 134}, \"19\": {\"19\": 124}, \"8\": {\"8\": 152}, \"18\": {\"18\": 84}, \"37\": {\"37\": 28}, \"24\": {\"24\": 104}, \"10\": {\"10\": 64}, \"44\": {\"44\": 88}, \"14\": {\"14\": 40}, \"38\": {\"38\": 28}, \"53\": {\"53\": 140}, \"20\": {\"20\": 132}, \"32\": {\"32\": 28}, \"36\": {\"36\": 100}, \"33\": {\"33\": 28}, \"56\": {\"56\": 136}, \"23\": {\"23\": 130}, \"54\": {\"54\": 100}, \"21\": {\"21\": 126}, \"28\": {\"28\": 28}, \"26\": {\"26\": 24}, \"48\": {\"48\": 116}, \"52\": {\"52\": 118}, \"39\": {\"39\": 16}, \"22\": {\"22\": 140}, \"13\": {\"13\": 128}, \"2\": {\"2\": 32}, \"34\": {\"34\": 32}, \"27\": {\"27\": 132}, \"45\": {\"45\": 60}, \"35\": {\"35\": 28}, \"29\": {\"29\": 128}, \"25\": {\"25\": 144}, \"0\": {\"0\": 124}, \"41\": {\"41\": 28}, \"11\": {\"11\": 142}, \"5\": {\"5\": 108}, \"1\": {\"1\": 100}, \"57\": {\"57\": 116}, \"17\": {\"17\": 106, \"10\": 1, \"24\": 1}, \"7\": {\"7\": 36}, \"12\": {\"12\": 92}, \"47\": {\"47\": 92}, \"40\": {\"40\": 136}, \"15\": {\"15\": 142}, \"42\": {\"42\": 28}, \"55\": {\"55\": 150}, \"49\": {\"49\": 20}, \"30\": {\"30\": 120}, \"50\": {\"50\": 134}, \"4\": {\"4\": 136}}, \"C_4\": {\"35\": {\"35\": 40}, \"25\": {\"25\": 134}, \"24\": {\"24\": 56}, \"48\": {\"48\": 138}, \"51\": {\"51\": 144}, \"13\": {\"13\": 120}, \"14\": {\"14\": 15, \"57\": 1}, \"32\": {\"32\": 24}, \"30\": {\"30\": 44}, \"34\": {\"34\": 24}, \"9\": {\"9\": 136}, \"1\": {\"1\": 40}, \"0\": {\"0\": 80}, \"38\": {\"38\": 40}, \"22\": {\"22\": 128}, \"40\": {\"40\": 120}, \"6\": {\"6\": 109, \"3\": 2, \"15\": 1}, \"16\": {\"16\": 96}, \"11\": {\"11\": 103, \"15\": 1}, \"20\": {\"20\": 122}, \"17\": {\"17\": 80}, \"26\": {\"26\": 24}, \"54\": {\"54\": 108}, \"55\": {\"55\": 154}, \"50\": {\"50\": 128, \"3\": 3, \"40\": 1}, \"19\": {\"19\": 142}, \"44\": {\"44\": 122}, \"47\": {\"47\": 120}, \"33\": {\"33\": 36}, \"5\": {\"5\": 108}, \"18\": {\"18\": 108}, \"21\": {\"21\": 124}, \"41\": {\"41\": 36}, \"23\": {\"23\": 128}, \"39\": {\"39\": 20}, \"37\": {\"37\": 24}, \"8\": {\"8\": 144}, \"49\": {\"49\": 20}, \"53\": {\"53\": 140}, \"31\": {\"31\": 28}, \"28\": {\"28\": 32}, \"3\": {\"3\": 122, \"50\": 2}, \"27\": {\"27\": 138}, \"46\": {\"46\": 127, \"47\": 1}, \"12\": {\"12\": 92}, \"7\": {\"7\": 24}, \"4\": {\"4\": 132}, \"42\": {\"42\": 32}, \"43\": {\"43\": 130}, \"29\": {\"29\": 120}, \"57\": {\"57\": 100}, \"52\": {\"52\": 104}, \"45\": {\"45\": 96}, \"36\": {\"36\": 92}, \"10\": {\"10\": 126}, \"15\": {\"15\": 132, \"11\": 2}, \"56\": {\"56\": 124}, \"2\": {\"2\": 36}}, \"C_5\": {\"47\": {\"47\": 100}, \"53\": {\"53\": 150}, \"29\": {\"29\": 126}, \"52\": {\"52\": 130}, \"55\": {\"55\": 144}, \"17\": {\"17\": 116}, \"42\": {\"42\": 40}, \"33\": {\"33\": 32}, \"11\": {\"11\": 148}, \"19\": {\"19\": 118}, \"1\": {\"1\": 144}, \"44\": {\"44\": 142}, \"49\": {\"49\": 36}, \"4\": {\"4\": 100}, \"6\": {\"6\": 115, \"17\": 1}, \"39\": {\"39\": 20}, \"50\": {\"50\": 144, \"25\": 1, \"20\": 1, \"6\": 2}, \"56\": {\"56\": 130}, \"25\": {\"25\": 144}, \"28\": {\"28\": 32}, \"35\": {\"35\": 36}, \"24\": {\"24\": 80}, \"21\": {\"21\": 132}, \"45\": {\"45\": 123, \"9\": 1}, \"16\": {\"16\": 144}, \"37\": {\"37\": 24}, \"57\": {\"57\": 132}, \"34\": {\"34\": 36}, \"38\": {\"38\": 32}, \"48\": {\"48\": 130}, \"26\": {\"26\": 24}, \"9\": {\"9\": 152}, \"18\": {\"18\": 64}, \"3\": {\"3\": 100}, \"23\": {\"23\": 124}, \"15\": {\"15\": 154}, \"10\": {\"10\": 68}, \"46\": {\"46\": 148}, \"22\": {\"22\": 28}, \"54\": {\"54\": 112}, \"27\": {\"27\": 160}, \"41\": {\"41\": 28}, \"31\": {\"31\": 36}, \"0\": {\"0\": 124}, \"7\": {\"7\": 32}, \"2\": {\"2\": 28}, \"14\": {\"14\": 44}, \"40\": {\"40\": 124}, \"5\": {\"5\": 128}, \"12\": {\"12\": 96}, \"43\": {\"43\": 142}, \"13\": {\"13\": 148}, \"36\": {\"36\": 92}, \"8\": {\"8\": 150}, \"32\": {\"32\": 32}, \"30\": {\"30\": 128}, \"51\": {\"51\": 137, \"20\": 1}, \"20\": {\"20\": 138}}, \"C_1\": {\"46\": {\"46\": 140}, \"16\": {\"16\": 134}, \"26\": {\"26\": 24}, \"10\": {\"10\": 96}, \"9\": {\"9\": 156}, \"28\": {\"28\": 28}, \"51\": {\"51\": 156}, \"1\": {\"1\": 100}, \"55\": {\"55\": 148}, \"27\": {\"27\": 124}, \"22\": {\"22\": 123, \"24\": 1}, \"52\": {\"52\": 126}, \"3\": {\"3\": 140}, \"33\": {\"33\": 32}, \"47\": {\"47\": 120}, \"42\": {\"42\": 40}, \"12\": {\"12\": 116}, \"23\": {\"23\": 132}, \"49\": {\"49\": 32}, \"7\": {\"7\": 28}, \"4\": {\"4\": 132}, \"50\": {\"50\": 134}, \"19\": {\"19\": 154}, \"11\": {\"11\": 140}, \"31\": {\"31\": 28}, \"41\": {\"41\": 24}, \"56\": {\"56\": 138}, \"0\": {\"0\": 148}, \"57\": {\"57\": 128}, \"53\": {\"53\": 140}, \"43\": {\"43\": 144}, \"37\": {\"37\": 32}, \"2\": {\"2\": 36}, \"6\": {\"6\": 96}, \"13\": {\"13\": 150}, \"18\": {\"18\": 72}, \"36\": {\"36\": 63, \"16\": 1}, \"29\": {\"29\": 139, \"44\": 1}, \"39\": {\"39\": 28}, \"17\": {\"17\": 64}, \"21\": {\"21\": 124}, \"25\": {\"25\": 132}, \"45\": {\"45\": 142}, \"38\": {\"38\": 24}, \"30\": {\"30\": 119, \"14\": 1}, \"24\": {\"24\": 106, \"22\": 2}, \"20\": {\"20\": 140}, \"8\": {\"8\": 140}, \"35\": {\"35\": 36}, \"54\": {\"54\": 104}, \"5\": {\"5\": 147, \"30\": 1}, \"48\": {\"48\": 144}, \"15\": {\"15\": 142}, \"34\": {\"34\": 24}, \"14\": {\"14\": 24}, \"32\": {\"32\": 32}, \"40\": {\"40\": 148}, \"44\": {\"44\": 136}}, \"C_2\": {\"36\": {\"36\": 116}, \"5\": {\"5\": 120}, \"45\": {\"45\": 127, \"17\": 1}, \"49\": {\"49\": 24}, \"50\": {\"50\": 136}, \"4\": {\"4\": 138}, \"43\": {\"43\": 148}, \"41\": {\"41\": 20}, \"37\": {\"37\": 36}, \"12\": {\"12\": 92}, \"33\": {\"33\": 28}, \"7\": {\"7\": 36}, \"56\": {\"56\": 140}, \"14\": {\"14\": 22, \"0\": 2}, \"52\": {\"52\": 124}, \"44\": {\"44\": 96}, \"48\": {\"48\": 144}, \"20\": {\"20\": 128}, \"55\": {\"55\": 144}, \"32\": {\"32\": 28}, \"40\": {\"40\": 136}, \"54\": {\"54\": 108}, \"17\": {\"17\": 104}, \"38\": {\"38\": 20}, \"24\": {\"24\": 96}, \"1\": {\"1\": 112}, \"6\": {\"6\": 124}, \"34\": {\"34\": 28}, \"11\": {\"11\": 136}, \"9\": {\"9\": 150}, \"8\": {\"8\": 152}, \"22\": {\"22\": 136}, \"26\": {\"26\": 24}, \"23\": {\"23\": 146}, \"10\": {\"10\": 112}, \"18\": {\"18\": 48}, \"13\": {\"13\": 116}, \"30\": {\"30\": 127, \"18\": 1}, \"42\": {\"42\": 36}, \"31\": {\"31\": 28}, \"46\": {\"46\": 128}, \"57\": {\"57\": 142}, \"47\": {\"47\": 138}, \"35\": {\"35\": 32}, \"15\": {\"15\": 132}, \"25\": {\"25\": 136}, \"19\": {\"19\": 136}, \"51\": {\"51\": 128}, \"53\": {\"53\": 134}, \"21\": {\"21\": 120}, \"39\": {\"39\": 28}, \"2\": {\"2\": 31, \"28\": 1}, \"16\": {\"16\": 150}, \"0\": {\"0\": 48}, \"3\": {\"3\": 92}, \"27\": {\"27\": 142}, \"28\": {\"28\": 28}, \"29\": {\"29\": 128}}, \"O_14\": {\"15\": {\"15\": 128, \"7\": 72, \"5\": 12, \"13\": 6, \"6\": 1, \"1\": 16, \"2\": 3, \"14\": 1, \"4\": 1}, \"3\": {\"2\": 17, \"5\": 20, \"1\": 13, \"3\": 74, \"4\": 37, \"14\": 23, \"0\": 17, \"8\": 10, \"10\": 12, \"6\": 6, \"13\": 10, \"11\": 1}, \"6\": {\"4\": 11, \"6\": 64, \"14\": 32, \"1\": 3, \"2\": 30, \"13\": 74, \"5\": 9, \"3\": 10, \"10\": 3, \"15\": 3, \"7\": 1}, \"1\": {\"5\": 46, \"1\": 96, \"8\": 9, \"2\": 20, \"7\": 16, \"4\": 26, \"3\": 15, \"13\": 1, \"15\": 6, \"14\": 2, \"6\": 3}, \"8\": {\"8\": 168, \"1\": 18, \"3\": 23, \"4\": 6, \"0\": 14, \"9\": 6, \"10\": 2, \"7\": 1, \"5\": 1, \"6\": 1}, \"10\": {\"10\": 120, \"0\": 56, \"6\": 3, \"14\": 10, \"3\": 15, \"9\": 6, \"4\": 7, \"11\": 14, \"5\": 2, \"13\": 4, \"8\": 1, \"1\": 2}, \"9\": {\"9\": 158, \"12\": 33, \"11\": 27, \"10\": 2, \"0\": 15, \"8\": 5}, \"13\": {\"13\": 65, \"3\": 12, \"14\": 32, \"2\": 26, \"6\": 70, \"4\": 12, \"10\": 9, \"1\": 5, \"0\": 4, \"5\": 3, \"7\": 1, \"11\": 1}, \"12\": {\"12\": 190, \"9\": 41, \"11\": 9}, \"5\": {\"1\": 51, \"13\": 10, \"7\": 10, \"5\": 43, \"2\": 38, \"6\": 10, \"3\": 17, \"4\": 29, \"15\": 20, \"8\": 3, \"14\": 8, \"0\": 1}, \"0\": {\"9\": 8, \"3\": 24, \"0\": 86, \"11\": 36, \"10\": 58, \"4\": 4, \"8\": 14, \"14\": 5, \"1\": 2, \"2\": 1, \"13\": 1, \"6\": 1}, \"2\": {\"14\": 25, \"2\": 40, \"3\": 22, \"0\": 4, \"7\": 10, \"1\": 3, \"13\": 21, \"5\": 31, \"4\": 22, \"6\": 46, \"15\": 14, \"10\": 1, \"8\": 1}, \"11\": {\"10\": 14, \"11\": 128, \"0\": 36, \"9\": 48, \"14\": 3, \"8\": 1, \"12\": 9, \"3\": 1}, \"14\": {\"3\": 23, \"13\": 36, \"6\": 42, \"4\": 11, \"14\": 62, \"5\": 7, \"0\": 12, \"2\": 31, \"10\": 14, \"11\": 1, \"1\": 1}, \"7\": {\"5\": 19, \"15\": 53, \"7\": 134, \"1\": 24, \"4\": 5, \"13\": 1, \"2\": 3, \"6\": 1}, \"4\": {\"2\": 26, \"0\": 6, \"6\": 16, \"14\": 18, \"4\": 55, \"3\": 37, \"1\": 28, \"5\": 28, \"10\": 7, \"13\": 12, \"15\": 1, \"8\": 6}}, \"O_20\": {\"3\": {\"9\": 31, \"10\": 11, \"13\": 19, \"4\": 14, \"6\": 8, \"12\": 31, \"1\": 19, \"7\": 7, \"2\": 27, \"5\": 12, \"15\": 14, \"14\": 7, \"3\": 23, \"11\": 2, \"0\": 9, \"8\": 6}, \"15\": {\"12\": 22, \"0\": 32, \"7\": 6, \"3\": 12, \"15\": 34, \"5\": 46, \"2\": 9, \"1\": 36, \"9\": 14, \"13\": 21, \"4\": 2, \"6\": 2, \"8\": 3, \"10\": 1}, \"8\": {\"10\": 25, \"4\": 35, \"8\": 31, \"5\": 13, \"7\": 21, \"12\": 12, \"14\": 27, \"3\": 16, \"15\": 5, \"6\": 18, \"1\": 2, \"0\": 14, \"9\": 3, \"11\": 3, \"2\": 10, \"13\": 5}, \"4\": {\"9\": 15, \"0\": 15, \"10\": 20, \"3\": 19, \"5\": 18, \"8\": 23, \"14\": 27, \"4\": 34, \"7\": 13, \"6\": 6, \"12\": 24, \"2\": 10, \"13\": 4, \"11\": 1, \"1\": 8, \"15\": 3}, \"14\": {\"8\": 24, \"7\": 15, \"14\": 73, \"10\": 34, \"6\": 56, \"9\": 3, \"2\": 5, \"5\": 5, \"4\": 11, \"11\": 8, \"13\": 1, \"12\": 1, \"0\": 2, \"1\": 1, \"3\": 1}, \"0\": {\"15\": 22, \"13\": 8, \"7\": 4, \"5\": 38, \"2\": 7, \"4\": 20, \"0\": 84, \"3\": 8, \"6\": 2, \"12\": 19, \"9\": 7, \"8\": 7, \"14\": 1, \"1\": 12, \"10\": 1}, \"7\": {\"7\": 37, \"8\": 14, \"6\": 25, \"3\": 19, \"1\": 2, \"9\": 22, \"12\": 11, \"14\": 10, \"11\": 17, \"4\": 20, \"5\": 9, \"2\": 22, \"0\": 5, \"10\": 16, \"13\": 6, \"15\": 5}, \"6\": {\"4\": 6, \"7\": 27, \"14\": 38, \"6\": 77, \"10\": 23, \"2\": 4, \"11\": 29, \"8\": 25, \"3\": 3, \"13\": 2, \"9\": 4, \"0\": 1, \"12\": 1}, \"10\": {\"4\": 24, \"10\": 68, \"6\": 20, \"7\": 27, \"8\": 22, \"14\": 36, \"9\": 12, \"2\": 6, \"3\": 10, \"12\": 4, \"0\": 2, \"13\": 1, \"5\": 2, \"1\": 3, \"11\": 3}, \"5\": {\"1\": 30, \"12\": 32, \"15\": 21, \"7\": 12, \"4\": 15, \"13\": 14, \"0\": 31, \"5\": 30, \"6\": 1, \"3\": 22, \"2\": 16, \"8\": 8, \"9\": 7, \"14\": 1}, \"2\": {\"2\": 25, \"14\": 4, \"5\": 9, \"8\": 9, \"1\": 14, \"15\": 12, \"3\": 22, \"7\": 23, \"13\": 26, \"9\": 30, \"4\": 14, \"10\": 11, \"0\": 7, \"11\": 13, \"12\": 14, \"6\": 7}, \"12\": {\"13\": 18, \"12\": 27, \"15\": 19, \"1\": 37, \"4\": 17, \"9\": 22, \"7\": 14, \"5\": 26, \"3\": 17, \"2\": 19, \"8\": 5, \"0\": 11, \"10\": 7, \"6\": 1}, \"9\": {\"11\": 3, \"1\": 22, \"9\": 21, \"15\": 15, \"2\": 23, \"5\": 10, \"10\": 10, \"3\": 27, \"7\": 29, \"13\": 18, \"4\": 11, \"12\": 21, \"8\": 10, \"14\": 6, \"0\": 8, \"6\": 6}, \"1\": {\"1\": 36, \"9\": 26, \"5\": 20, \"2\": 14, \"4\": 11, \"0\": 28, \"7\": 5, \"12\": 33, \"15\": 26, \"3\": 22, \"13\": 12, \"8\": 4, \"11\": 1, \"10\": 2}, \"11\": {\"11\": 142, \"7\": 30, \"13\": 13, \"10\": 6, \"6\": 23, \"2\": 7, \"9\": 6, \"14\": 7, \"3\": 4, \"12\": 1, \"15\": 1}, \"13\": {\"2\": 28, \"7\": 28, \"8\": 5, \"13\": 48, \"15\": 23, \"9\": 19, \"10\": 1, \"3\": 19, \"5\": 12, \"11\": 13, \"1\": 15, \"12\": 14, \"6\": 3, \"0\": 9, \"4\": 2, \"14\": 1}}, \"O_38\": {\"5\": {\"7\": 21, \"15\": 22, \"8\": 35, \"0\": 27, \"5\": 53, \"3\": 6, \"6\": 24, \"13\": 5, \"10\": 8, \"1\": 22, \"9\": 17}, \"8\": {\"15\": 23, \"7\": 19, \"5\": 30, \"0\": 31, \"1\": 10, \"8\": 89, \"6\": 2, \"10\": 25, \"13\": 8, \"4\": 1, \"12\": 1, \"9\": 1}, \"11\": {\"14\": 91, \"11\": 89, \"12\": 5, \"2\": 29, \"13\": 4, \"10\": 18, \"15\": 4}, \"1\": {\"1\": 115, \"0\": 3, \"13\": 36, \"10\": 1, \"15\": 43, \"6\": 13, \"5\": 19, \"9\": 2, \"8\": 7, \"7\": 1}, \"10\": {\"10\": 84, \"15\": 24, \"7\": 7, \"8\": 16, \"13\": 36, \"11\": 8, \"2\": 26, \"5\": 8, \"14\": 12, \"0\": 6, \"1\": 3, \"12\": 7, \"4\": 3}, \"15\": {\"15\": 81, \"10\": 25, \"1\": 37, \"8\": 22, \"5\": 13, \"13\": 47, \"12\": 1, \"2\": 10, \"0\": 3, \"7\": 1}, \"3\": {\"3\": 149, \"7\": 13, \"0\": 9, \"9\": 33, \"5\": 7, \"6\": 20, \"8\": 8, \"13\": 1}, \"7\": {\"7\": 93, \"5\": 26, \"0\": 45, \"6\": 15, \"8\": 27, \"10\": 4, \"3\": 13, \"4\": 3, \"13\": 3, \"9\": 9, \"1\": 1, \"12\": 1}, \"4\": {\"4\": 163, \"12\": 60, \"7\": 7, \"10\": 4, \"0\": 3, \"14\": 2, \"8\": 1}, \"14\": {\"11\": 71, \"2\": 41, \"14\": 113, \"13\": 1, \"12\": 4, \"10\": 9, \"8\": 1}, \"9\": {\"5\": 24, \"9\": 102, \"6\": 69, \"3\": 26, \"8\": 5, \"7\": 4, \"0\": 6, \"1\": 4}, \"12\": {\"12\": 174, \"4\": 49, \"10\": 3, \"14\": 7, \"11\": 5, \"0\": 1, \"8\": 1}, \"6\": {\"6\": 107, \"5\": 37, \"0\": 6, \"9\": 72, \"3\": 7, \"1\": 7, \"8\": 3, \"7\": 1}, \"2\": {\"2\": 126, \"14\": 45, \"13\": 24, \"15\": 9, \"11\": 23, \"10\": 12, \"1\": 1}, \"0\": {\"8\": 48, \"0\": 71, \"5\": 25, \"3\": 19, \"15\": 10, \"6\": 5, \"7\": 37, \"12\": 3, \"9\": 4, \"13\": 7, \"10\": 7, \"4\": 1, \"1\": 3}, \"13\": {\"2\": 31, \"15\": 52, \"13\": 81, \"8\": 12, \"1\": 21, \"10\": 25, \"14\": 5, \"11\": 4, \"6\": 1, \"5\": 8}}, \"O_8\": {\"9\": {\"9\": 228, \"5\": 5, \"10\": 5, \"14\": 2}, \"10\": {\"5\": 19, \"1\": 19, \"10\": 61, \"13\": 33, \"0\": 15, \"14\": 33, \"7\": 11, \"6\": 13, \"11\": 5, \"4\": 21, \"2\": 1, \"9\": 4, \"8\": 3, \"15\": 2}, \"13\": {\"13\": 38, \"1\": 10, \"4\": 24, \"0\": 37, \"6\": 30, \"10\": 31, \"7\": 24, \"11\": 2, \"5\": 3, \"8\": 5, \"14\": 28, \"3\": 1, \"9\": 2, \"15\": 3, \"2\": 2}, \"0\": {\"6\": 14, \"7\": 36, \"14\": 18, \"13\": 50, \"0\": 49, \"10\": 19, \"8\": 4, \"4\": 31, \"2\": 4, \"5\": 6, \"3\": 2, \"15\": 6, \"1\": 1}, \"1\": {\"11\": 49, \"1\": 73, \"5\": 34, \"10\": 18, \"13\": 7, \"14\": 31, \"6\": 6, \"8\": 5, \"4\": 13, \"12\": 1, \"7\": 2, \"0\": 1}, \"15\": {\"8\": 30, \"12\": 71, \"2\": 5, \"15\": 68, \"3\": 21, \"7\": 22, \"6\": 10, \"4\": 2, \"0\": 5, \"10\": 2, \"1\": 1, \"14\": 1, \"13\": 2}, \"5\": {\"5\": 93, \"13\": 12, \"1\": 46, \"10\": 27, \"11\": 25, \"14\": 12, \"9\": 10, \"4\": 11, \"0\": 2, \"6\": 2}, \"3\": {\"3\": 108, \"2\": 55, \"15\": 20, \"7\": 12, \"12\": 41, \"6\": 2, \"8\": 1, \"13\": 1}, \"6\": {\"0\": 24, \"7\": 46, \"4\": 32, \"6\": 28, \"13\": 28, \"15\": 14, \"10\": 6, \"14\": 21, \"8\": 22, \"11\": 3, \"3\": 3, \"2\": 6, \"1\": 3, \"12\": 4}, \"11\": {\"11\": 101, \"1\": 60, \"14\": 17, \"13\": 4, \"4\": 12, \"8\": 7, \"10\": 10, \"5\": 22, \"6\": 6, \"15\": 1}, \"8\": {\"12\": 24, \"7\": 16, \"8\": 91, \"14\": 10, \"2\": 6, \"15\": 33, \"1\": 6, \"13\": 7, \"4\": 14, \"11\": 6, \"0\": 5, \"6\": 18, \"5\": 1, \"10\": 1, \"3\": 2}, \"4\": {\"0\": 28, \"6\": 34, \"10\": 30, \"1\": 15, \"4\": 29, \"9\": 1, \"8\": 9, \"13\": 18, \"14\": 34, \"7\": 23, \"11\": 7, \"15\": 4, \"5\": 5, \"2\": 2, \"12\": 1}, \"12\": {\"15\": 46, \"2\": 35, \"12\": 77, \"3\": 37, \"8\": 24, \"13\": 4, \"6\": 8, \"7\": 7, \"0\": 2}, \"14\": {\"14\": 34, \"11\": 18, \"8\": 11, \"13\": 17, \"1\": 22, \"10\": 46, \"0\": 11, \"5\": 27, \"4\": 22, \"7\": 5, \"6\": 23, \"12\": 2, \"15\": 2}, \"2\": {\"2\": 78, \"4\": 1, \"3\": 76, \"8\": 5, \"12\": 27, \"15\": 17, \"7\": 12, \"6\": 9, \"0\": 13, \"13\": 2}, \"7\": {\"2\": 7, \"10\": 10, \"6\": 39, \"0\": 41, \"13\": 24, \"7\": 48, \"4\": 21, \"15\": 15, \"14\": 4, \"3\": 4, \"8\": 14, \"12\": 10, \"11\": 2, \"1\": 1}}, \"O_50\": {\"7\": {\"3\": 4, \"7\": 79, \"10\": 36, \"13\": 54, \"5\": 37, \"8\": 4, \"0\": 5, \"2\": 1, \"6\": 18, \"4\": 2}, \"3\": {\"3\": 197, \"8\": 39, \"10\": 3, \"7\": 1}, \"8\": {\"8\": 159, \"10\": 38, \"3\": 27, \"7\": 8, \"0\": 7, \"13\": 1}, \"2\": {\"0\": 73, \"2\": 131, \"5\": 5, \"6\": 6, \"1\": 11, \"4\": 6, \"10\": 3, \"13\": 3, \"14\": 2}, \"14\": {\"11\": 41, \"12\": 34, \"14\": 131, \"9\": 15, \"1\": 6, \"2\": 6, \"15\": 5, \"4\": 1, \"6\": 1}, \"4\": {\"15\": 32, \"6\": 23, \"13\": 21, \"10\": 2, \"5\": 30, \"4\": 36, \"1\": 63, \"7\": 7, \"11\": 9, \"2\": 5, \"0\": 4, \"14\": 7, \"9\": 1}, \"6\": {\"13\": 21, \"15\": 15, \"6\": 101, \"0\": 12, \"5\": 15, \"4\": 37, \"1\": 15, \"10\": 5, \"7\": 15, \"2\": 4}, \"15\": {\"12\": 2, \"1\": 39, \"6\": 27, \"11\": 25, \"4\": 26, \"9\": 3, \"15\": 95, \"14\": 10, \"5\": 8, \"13\": 2, \"2\": 2, \"0\": 1}, \"10\": {\"0\": 37, \"10\": 91, \"8\": 40, \"13\": 19, \"7\": 37, \"5\": 10, \"1\": 1, \"6\": 3, \"2\": 2}, \"11\": {\"12\": 15, \"9\": 43, \"15\": 26, \"14\": 31, \"4\": 9, \"11\": 103, \"1\": 12, \"6\": 1}, \"13\": {\"5\": 48, \"13\": 60, \"7\": 56, \"0\": 11, \"10\": 18, \"4\": 12, \"6\": 25, \"2\": 4, \"15\": 1, \"8\": 3, \"1\": 2}, \"9\": {\"11\": 45, \"9\": 116, \"15\": 2, \"14\": 16, \"12\": 60, \"2\": 1}, \"0\": {\"0\": 91, \"2\": 56, \"10\": 31, \"13\": 15, \"6\": 11, \"5\": 14, \"4\": 6, \"1\": 6, \"14\": 2, \"7\": 5, \"8\": 3}, \"1\": {\"4\": 45, \"15\": 33, \"1\": 74, \"5\": 12, \"6\": 29, \"2\": 12, \"13\": 6, \"10\": 1, \"11\": 13, \"0\": 5, \"14\": 9, \"9\": 1}, \"12\": {\"12\": 131, \"14\": 35, \"11\": 22, \"9\": 50, \"1\": 2}, \"5\": {\"13\": 44, \"7\": 22, \"4\": 34, \"10\": 17, \"5\": 62, \"0\": 12, \"1\": 17, \"6\": 22, \"8\": 3, \"2\": 4, \"11\": 1, \"15\": 1, \"14\": 1}}, \"O_32\": {\"8\": {\"8\": 70, \"14\": 18, \"13\": 31, \"5\": 23, \"15\": 9, \"0\": 36, \"4\": 20, \"11\": 6, \"3\": 9, \"2\": 6, \"7\": 12}, \"14\": {\"14\": 56, \"3\": 17, \"13\": 17, \"11\": 53, \"4\": 17, \"5\": 13, \"7\": 33, \"0\": 12, \"8\": 9, \"2\": 13}, \"2\": {\"5\": 13, \"2\": 89, \"4\": 63, \"0\": 32, \"14\": 7, \"9\": 6, \"7\": 20, \"8\": 8, \"13\": 2}, \"0\": {\"7\": 17, \"8\": 32, \"0\": 76, \"4\": 32, \"2\": 39, \"14\": 15, \"11\": 4, \"5\": 11, \"13\": 10, \"15\": 4}, \"1\": {\"1\": 201, \"10\": 38, \"6\": 1}, \"10\": {\"10\": 188, \"6\": 8, \"1\": 43, \"12\": 1}, \"11\": {\"3\": 17, \"14\": 49, \"13\": 12, \"11\": 107, \"7\": 31, \"5\": 12, \"8\": 6, \"0\": 5, \"4\": 1}, \"5\": {\"8\": 18, \"11\": 14, \"7\": 31, \"13\": 35, \"3\": 31, \"4\": 25, \"5\": 45, \"0\": 12, \"14\": 20, \"15\": 1, \"2\": 8}, \"15\": {\"15\": 190, \"3\": 24, \"13\": 3, \"8\": 18, \"0\": 3, \"5\": 1, \"4\": 1}, \"3\": {\"3\": 126, \"8\": 16, \"13\": 28, \"5\": 25, \"14\": 9, \"11\": 26, \"7\": 8, \"4\": 2}, \"12\": {\"12\": 218, \"9\": 8, \"6\": 14}, \"7\": {\"4\": 31, \"7\": 46, \"11\": 21, \"13\": 39, \"8\": 12, \"14\": 31, \"0\": 14, \"5\": 26, \"2\": 14, \"3\": 6}, \"13\": {\"3\": 27, \"8\": 14, \"7\": 22, \"13\": 54, \"14\": 24, \"0\": 18, \"5\": 35, \"4\": 24, \"11\": 13, \"2\": 9}, \"6\": {\"6\": 224, \"10\": 3, \"12\": 12, \"1\": 1}, \"4\": {\"14\": 8, \"7\": 36, \"2\": 45, \"4\": 57, \"5\": 22, \"0\": 36, \"13\": 19, \"8\": 16, \"11\": 1}, \"9\": {\"9\": 216, \"12\": 18, \"2\": 3, \"4\": 2, \"0\": 1}}, \"O_26\": {\"4\": {\"9\": 8, \"2\": 17, \"4\": 29, \"1\": 29, \"8\": 24, \"10\": 17, \"0\": 27, \"3\": 17, \"15\": 8, \"14\": 25, \"5\": 6, \"6\": 12, \"13\": 3, \"7\": 18}, \"12\": {\"12\": 199, \"11\": 31, \"6\": 6, \"10\": 2, \"0\": 1, \"9\": 1}, \"10\": {\"0\": 25, \"1\": 19, \"14\": 26, \"5\": 10, \"4\": 22, \"8\": 26, \"6\": 28, \"15\": 19, \"7\": 14, \"10\": 23, \"3\": 2, \"9\": 18, \"13\": 4, \"12\": 3, \"2\": 1}, \"0\": {\"15\": 23, \"9\": 8, \"14\": 23, \"4\": 18, \"8\": 30, \"0\": 30, \"5\": 5, \"10\": 27, \"7\": 17, \"2\": 8, \"6\": 22, \"1\": 18, \"3\": 8, \"13\": 3}, \"13\": {\"5\": 35, \"2\": 13, \"6\": 22, \"15\": 33, \"1\": 1, \"13\": 60, \"7\": 9, \"11\": 5, \"9\": 21, \"8\": 11, \"0\": 1, \"4\": 6, \"3\": 11, \"10\": 10, \"14\": 2}, \"9\": {\"13\": 15, \"5\": 20, \"9\": 54, \"15\": 22, \"10\": 19, \"12\": 1, \"7\": 13, \"14\": 8, \"6\": 30, \"0\": 12, \"8\": 17, \"4\": 7, \"3\": 7, \"2\": 11, \"11\": 1, \"1\": 3}, \"3\": {\"7\": 36, \"4\": 14, \"2\": 48, \"9\": 7, \"15\": 13, \"3\": 61, \"5\": 9, \"14\": 9, \"8\": 17, \"0\": 8, \"1\": 7, \"10\": 5, \"13\": 5, \"6\": 1}, \"2\": {\"1\": 7, \"7\": 40, \"15\": 12, \"2\": 44, \"4\": 11, \"9\": 7, \"8\": 13, \"14\": 9, \"5\": 14, \"3\": 61, \"0\": 10, \"13\": 5, \"10\": 6, \"6\": 1}, \"5\": {\"0\": 10, \"2\": 24, \"5\": 46, \"9\": 15, \"1\": 8, \"4\": 5, \"3\": 15, \"15\": 17, \"7\": 11, \"13\": 42, \"8\": 18, \"6\": 12, \"10\": 13, \"14\": 2, \"11\": 1, \"12\": 1}, \"14\": {\"7\": 8, \"6\": 16, \"8\": 22, \"4\": 23, \"15\": 6, \"10\": 23, \"0\": 32, \"9\": 18, \"1\": 39, \"3\": 10, \"14\": 31, \"13\": 5, \"2\": 4, \"5\": 3}, \"8\": {\"7\": 20, \"3\": 12, \"4\": 15, \"8\": 28, \"1\": 20, \"15\": 12, \"2\": 14, \"0\": 14, \"10\": 23, \"5\": 10, \"9\": 15, \"6\": 26, \"14\": 22, \"13\": 8, \"12\": 1}, \"7\": {\"14\": 15, \"15\": 9, \"2\": 37, \"13\": 4, \"5\": 17, \"4\": 20, \"1\": 16, \"0\": 19, \"7\": 32, \"8\": 15, \"10\": 12, \"3\": 28, \"6\": 9, \"9\": 7}, \"6\": {\"9\": 31, \"6\": 46, \"0\": 23, \"3\": 6, \"1\": 4, \"4\": 17, \"13\": 15, \"8\": 19, \"10\": 25, \"7\": 5, \"15\": 23, \"5\": 13, \"2\": 1, \"11\": 1, \"12\": 5, \"14\": 6}, \"11\": {\"11\": 215, \"12\": 15, \"6\": 5, \"10\": 1, \"13\": 3, \"15\": 1}, \"15\": {\"5\": 34, \"9\": 23, \"0\": 13, \"6\": 20, \"4\": 9, \"3\": 14, \"15\": 38, \"2\": 13, \"10\": 12, \"13\": 27, \"7\": 13, \"8\": 15, \"14\": 7, \"12\": 1, \"1\": 1}, \"1\": {\"4\": 26, \"7\": 25, \"8\": 15, \"5\": 4, \"10\": 26, \"14\": 30, \"0\": 24, \"9\": 7, \"1\": 46, \"3\": 17, \"2\": 11, \"15\": 1, \"6\": 4, \"13\": 2, \"11\": 1, \"12\": 1}}, \"O_44\": {\"12\": {\"12\": 103, \"10\": 56, \"3\": 15, \"1\": 50, \"2\": 16}, \"7\": {\"3\": 18, \"10\": 7, \"2\": 30, \"6\": 25, \"7\": 71, \"9\": 58, \"13\": 16, \"11\": 4, \"12\": 2, \"1\": 9}, \"5\": {\"5\": 107, \"15\": 23, \"14\": 19, \"0\": 54, \"4\": 11, \"8\": 26}, \"15\": {\"14\": 54, \"15\": 89, \"5\": 19, \"0\": 35, \"4\": 18, \"8\": 25}, \"8\": {\"15\": 29, \"8\": 95, \"0\": 86, \"5\": 24, \"14\": 6}, \"2\": {\"2\": 94, \"10\": 28, \"3\": 16, \"7\": 38, \"6\": 10, \"1\": 21, \"12\": 11, \"9\": 20, \"13\": 2}, \"13\": {\"13\": 83, \"2\": 3, \"7\": 10, \"11\": 38, \"6\": 54, \"9\": 36, \"14\": 4, \"4\": 11, \"1\": 1}, \"4\": {\"4\": 119, \"15\": 23, \"14\": 69, \"0\": 4, \"5\": 8, \"13\": 7, \"11\": 4, \"6\": 1, \"9\": 5}, \"0\": {\"0\": 90, \"15\": 33, \"5\": 38, \"8\": 73, \"14\": 4, \"4\": 2}, \"6\": {\"6\": 105, \"7\": 22, \"13\": 48, \"9\": 38, \"11\": 17, \"2\": 6, \"1\": 1, \"4\": 2, \"10\": 1}, \"9\": {\"13\": 45, \"9\": 70, \"7\": 53, \"6\": 37, \"2\": 15, \"1\": 4, \"3\": 4, \"11\": 5, \"4\": 5, \"12\": 1, \"14\": 1}, \"11\": {\"11\": 145, \"6\": 29, \"9\": 7, \"13\": 48, \"7\": 9, \"4\": 2}, \"10\": {\"9\": 1, \"10\": 106, \"1\": 46, \"7\": 5, \"2\": 36, \"3\": 6, \"12\": 40}, \"14\": {\"4\": 80, \"14\": 85, \"15\": 39, \"5\": 20, \"0\": 8, \"8\": 6, \"13\": 1, \"11\": 1}, \"1\": {\"3\": 46, \"1\": 53, \"2\": 32, \"12\": 65, \"10\": 36, \"7\": 8}, \"3\": {\"12\": 25, \"1\": 55, \"3\": 120, \"10\": 10, \"7\": 14, \"2\": 13, \"9\": 3}}}, \"per_domain_accuracy\": {\"C_3\": {\"accuracy\": 0.9996366279069767, \"source?\": true}, \"C_4\": {\"accuracy\": 0.9973484848484848, \"source?\": true}, \"C_5\": {\"accuracy\": 0.9987779329608939, \"source?\": true}, \"C_1\": {\"accuracy\": 0.9988046448087432, \"source?\": true}, \"C_2\": {\"accuracy\": 0.999117231638418, \"source?\": true}, \"O_14\": {\"accuracy\": 0.41953125, \"source?\": false}, \"O_20\": {\"accuracy\": 0.20572916666666666, \"source?\": false}, \"O_38\": {\"accuracy\": 0.4401041666666667, \"source?\": false}, \"O_8\": {\"accuracy\": 0.31354166666666666, \"source?\": false}, \"O_50\": {\"accuracy\": 0.4315104166666667, \"source?\": false}, \"O_32\": {\"accuracy\": 0.5111979166666667, \"source?\": false}, \"O_26\": {\"accuracy\": 0.2557291666666667, \"source?\": false}, \"O_44\": {\"accuracy\": 0.3997395833333333, \"source?\": false}}}, \"history\": {\"epoch_indices\": [1, 2, 3, 4, 5, 6, 7, 8, 9], \"train_label_loss\": [0.05271010233604666, 0.01354348429378752, 0.008237140971795487, 0.005817989707546253, 0.0040419695488233985, 0.003325008352247106, 0.003469373274314131, 0.0025737082282315613, 0.0021046511132383856], \"source_val_label_loss\": [0.0211398433893919, 0.016958191990852356, 0.00715895090252161, 0.007377863395959139, 0.008274690248072147, 0.0075616431422531605, 0.0063028959557414055, 0.005439325701445341, 0.00875029806047678], \"target_val_label_loss\": [1.944211721420288, 2.5511395931243896, 1.9297794103622437, 2.013005256652832, 1.975887656211853, 2.0423970222473145, 2.044201374053955, 1.9908463954925537, 2.3061063289642334], \"source_val_acc_label\": [0.9950413812785388, 0.9970034246575342, 0.9989654680365296, 0.9990011415525114, 0.9987514269406392, 0.9987157534246576, 0.9995005707762558, 0.9997502853881278, 0.9991438356164384], \"target_val_acc_label\": [0.32809244791666664, 0.28850911458333334, 0.34661458333333334, 0.34619140625, 0.37213541666666666, 0.3519205729166667, 0.36005859375, 0.36943359375, 0.3385416666666667]}, \"dataset_metrics\": {\"source\": {\"train\": {\"n_unique_x\": 175135, \"n_unique_y\": 58, \"n_batch/episode\": 6284}, \"val\": {\"n_unique_x\": 37196, \"n_unique_y\": 58, \"n_batch/episode\": 876}, \"test\": {\"n_unique_x\": 37634, \"n_unique_y\": 58, \"n_batch/episode\": 891}}, \"target\": {\"train\": {\"n_unique_x\": 179200, \"n_unique_y\": 16, \"n_batch/episode\": 6720}, \"val\": {\"n_unique_x\": 38400, \"n_unique_y\": 16, \"n_batch/episode\": 960}, \"test\": {\"n_unique_x\": 38400, \"n_unique_y\": 16, \"n_batch/episode\": 960}}}}'"
      ]
     },
     "execution_count": 29,
     "metadata": {},
     "output_type": "execute_result"
    }
   ],
   "source": [
    "json.dumps(experiment)"
   ]
  }
 ],
 "metadata": {
  "celltoolbar": "Tags",
  "kernelspec": {
   "display_name": "Python 3 (ipykernel)",
   "language": "python",
   "name": "python3"
  },
  "language_info": {
   "codemirror_mode": {
    "name": "ipython",
    "version": 3
   },
   "file_extension": ".py",
   "mimetype": "text/x-python",
   "name": "python",
   "nbconvert_exporter": "python",
   "pygments_lexer": "ipython3",
   "version": "3.8.12"
  },
  "papermill": {
   "default_parameters": {},
   "duration": 1547.059092,
   "end_time": "2022-03-28T06:54:10.936315",
   "environment_variables": {},
   "exception": null,
   "input_path": "/root/csc500-main/csc500-notebooks/templates/tl_ptn_template.ipynb",
   "output_path": "trial.ipynb",
   "parameters": {
    "parameters": {
     "BEST_MODEL_PATH": "./best_model.pth",
     "NUM_LOGS_PER_EPOCH": 10,
     "criteria_for_best": "target_accuracy",
     "dataset_seed": 1337,
     "datasets": [
      {
       "domain_prefix": "C_",
       "domains": [
        1,
        2,
        3,
        4,
        5
       ],
       "episode_transforms": [],
       "labels": [
        "1-10.",
        "1-11.",
        "1-15.",
        "1-16.",
        "1-17.",
        "1-18.",
        "1-19.",
        "10-4.",
        "10-7.",
        "11-1.",
        "11-14.",
        "11-17.",
        "11-20.",
        "11-7.",
        "13-20.",
        "13-8.",
        "14-10.",
        "14-11.",
        "14-14.",
        "14-7.",
        "15-1.",
        "15-20.",
        "16-1.",
        "16-16.",
        "17-10.",
        "17-11.",
        "17-2.",
        "19-1.",
        "19-16.",
        "19-19.",
        "19-20.",
        "19-3.",
        "2-10.",
        "2-11.",
        "2-17.",
        "2-18.",
        "2-20.",
        "2-3.",
        "2-4.",
        "2-5.",
        "2-6.",
        "2-7.",
        "2-8.",
        "3-13.",
        "3-18.",
        "3-3.",
        "4-1.",
        "4-10.",
        "4-11.",
        "4-19.",
        "5-5.",
        "6-15.",
        "7-10.",
        "7-14.",
        "8-18.",
        "8-20.",
        "8-3.",
        "8-8."
       ],
       "num_examples_per_domain_per_label": -1,
       "pickle_path": "/root/csc500-main/datasets/cores.stratified_ds.2022A.pkl",
       "source_or_target_dataset": "source",
       "x_transforms": [
        "unit_power",
        "jitter_256_10",
        "lowpass_+/-10MHz",
        "take_200"
       ]
      },
      {
       "domain_prefix": "O_",
       "domains": [
        32,
        38,
        8,
        44,
        14,
        50,
        20,
        26
       ],
       "episode_transforms": [],
       "labels": [
        "3123D52",
        "3123D65",
        "3123D79",
        "3123D80",
        "3123D54",
        "3123D70",
        "3123D7B",
        "3123D89",
        "3123D58",
        "3123D76",
        "3123D7D",
        "3123EFE",
        "3123D64",
        "3123D78",
        "3123D7E",
        "3124E4A"
       ],
       "num_examples_per_domain_per_label": 2000,
       "pickle_path": "/root/csc500-main/datasets/oracle.Run1_framed_2000Examples_stratified_ds.2022A.pkl",
       "source_or_target_dataset": "target",
       "x_transforms": [
        "unit_power",
        "jitter_256_10",
        "take_200",
        "resample_20Msps_to_25Msps"
       ]
      }
     ],
     "device": "cuda",
     "experiment_name": "tl_3-jitter10v2:cores -> oracle.run1.framed",
     "lr": 0.0001,
     "n_epoch": 50,
     "n_query": 2,
     "n_shot": 3,
     "n_way": 16,
     "patience": 3,
     "seed": 1337,
     "test_k_factor": 2,
     "torch_default_dtype": "torch.float32",
     "train_k_factor": 3,
     "val_k_factor": 2,
     "x_net": [
      {
       "class": "nnReshape",
       "kargs": {
        "shape": [
         -1,
         1,
         2,
         256
        ]
       }
      },
      {
       "class": "Conv2d",
       "kargs": {
        "bias": false,
        "in_channels": 1,
        "kernel_size": [
         1,
         7
        ],
        "out_channels": 256,
        "padding": [
         0,
         3
        ]
       }
      },
      {
       "class": "ReLU",
       "kargs": {
        "inplace": true
       }
      },
      {
       "class": "BatchNorm2d",
       "kargs": {
        "num_features": 256
       }
      },
      {
       "class": "Conv2d",
       "kargs": {
        "bias": true,
        "in_channels": 256,
        "kernel_size": [
         2,
         7
        ],
        "out_channels": 80,
        "padding": [
         0,
         3
        ]
       }
      },
      {
       "class": "ReLU",
       "kargs": {
        "inplace": true
       }
      },
      {
       "class": "BatchNorm2d",
       "kargs": {
        "num_features": 80
       }
      },
      {
       "class": "Flatten",
       "kargs": {}
      },
      {
       "class": "Linear",
       "kargs": {
        "in_features": 20480,
        "out_features": 256
       }
      },
      {
       "class": "ReLU",
       "kargs": {
        "inplace": true
       }
      },
      {
       "class": "BatchNorm1d",
       "kargs": {
        "num_features": 256
       }
      },
      {
       "class": "Linear",
       "kargs": {
        "in_features": 256,
        "out_features": 256
       }
      }
     ],
     "x_shape": [
      2,
      256
     ]
    }
   },
   "start_time": "2022-03-28T06:28:23.877223",
   "version": "2.3.4"
  }
 },
 "nbformat": 4,
 "nbformat_minor": 5
}