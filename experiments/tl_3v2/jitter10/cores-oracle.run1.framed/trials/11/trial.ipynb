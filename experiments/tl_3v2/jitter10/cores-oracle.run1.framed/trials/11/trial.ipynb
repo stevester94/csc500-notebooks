{
 "cells": [
  {
   "cell_type": "markdown",
   "id": "9fea5f46",
   "metadata": {
    "papermill": {
     "duration": 0.028165,
     "end_time": "2022-03-28T08:24:48.859951",
     "exception": false,
     "start_time": "2022-03-28T08:24:48.831786",
     "status": "completed"
    },
    "tags": []
   },
   "source": [
    "# Transfer Learning Template"
   ]
  },
  {
   "cell_type": "code",
   "execution_count": 1,
   "id": "0902182a",
   "metadata": {
    "execution": {
     "iopub.execute_input": "2022-03-28T08:24:48.922116Z",
     "iopub.status.busy": "2022-03-28T08:24:48.921263Z",
     "iopub.status.idle": "2022-03-28T08:24:50.798264Z",
     "shell.execute_reply": "2022-03-28T08:24:50.797764Z"
    },
    "papermill": {
     "duration": 1.915429,
     "end_time": "2022-03-28T08:24:50.798354",
     "exception": false,
     "start_time": "2022-03-28T08:24:48.882925",
     "status": "completed"
    },
    "tags": []
   },
   "outputs": [],
   "source": [
    "%load_ext autoreload\n",
    "%autoreload 2\n",
    "%matplotlib inline\n",
    "\n",
    "    \n",
    "import os, json, sys, time, random\n",
    "import numpy as np\n",
    "import torch\n",
    "from torch.optim import Adam\n",
    "from  easydict import EasyDict\n",
    "import matplotlib.pyplot as plt\n",
    "\n",
    "from steves_models.steves_ptn import Steves_Prototypical_Network\n",
    "\n",
    "from steves_utils.lazy_iterable_wrapper import Lazy_Iterable_Wrapper\n",
    "from steves_utils.iterable_aggregator import Iterable_Aggregator\n",
    "from steves_utils.ptn_train_eval_test_jig import  PTN_Train_Eval_Test_Jig\n",
    "from steves_utils.torch_sequential_builder import build_sequential\n",
    "from steves_utils.torch_utils import get_dataset_metrics, ptn_confusion_by_domain_over_dataloader\n",
    "from steves_utils.utils_v2 import (per_domain_accuracy_from_confusion, get_datasets_base_path)\n",
    "from steves_utils.PTN.utils import independent_accuracy_assesment\n",
    "\n",
    "from torch.utils.data import DataLoader\n",
    "\n",
    "from steves_utils.stratified_dataset.episodic_accessor import Episodic_Accessor_Factory\n",
    "\n",
    "from steves_utils.ptn_do_report import (\n",
    "    get_loss_curve,\n",
    "    get_results_table,\n",
    "    get_parameters_table,\n",
    "    get_domain_accuracies,\n",
    ")\n",
    "\n",
    "from steves_utils.transforms import get_chained_transform"
   ]
  },
  {
   "cell_type": "markdown",
   "id": "41c840b4",
   "metadata": {
    "papermill": {
     "duration": 0.019044,
     "end_time": "2022-03-28T08:24:50.836803",
     "exception": false,
     "start_time": "2022-03-28T08:24:50.817759",
     "status": "completed"
    },
    "tags": []
   },
   "source": [
    "# Allowed Parameters\n",
    "These are allowed parameters, not defaults\n",
    "Each of these values need to be present in the injected parameters (the notebook will raise an exception if they are not present)\n",
    "\n",
    "Papermill uses the cell tag \"parameters\" to inject the real parameters below this cell.\n",
    "Enable tags to see what I mean"
   ]
  },
  {
   "cell_type": "code",
   "execution_count": 2,
   "id": "fd44eb83",
   "metadata": {
    "execution": {
     "iopub.execute_input": "2022-03-28T08:24:50.880172Z",
     "iopub.status.busy": "2022-03-28T08:24:50.879796Z",
     "iopub.status.idle": "2022-03-28T08:24:50.900132Z",
     "shell.execute_reply": "2022-03-28T08:24:50.900429Z"
    },
    "papermill": {
     "duration": 0.044733,
     "end_time": "2022-03-28T08:24:50.900515",
     "exception": false,
     "start_time": "2022-03-28T08:24:50.855782",
     "status": "completed"
    },
    "tags": []
   },
   "outputs": [],
   "source": [
    "required_parameters = {\n",
    "    \"experiment_name\",\n",
    "    \"lr\",\n",
    "    \"device\",\n",
    "    \"seed\",\n",
    "    \"dataset_seed\",\n",
    "    \"n_shot\",\n",
    "    \"n_query\",\n",
    "    \"n_way\",\n",
    "    \"train_k_factor\",\n",
    "    \"val_k_factor\",\n",
    "    \"test_k_factor\",\n",
    "    \"n_epoch\",\n",
    "    \"patience\",\n",
    "    \"criteria_for_best\",\n",
    "    \"x_net\",\n",
    "    \"datasets\",\n",
    "    \"torch_default_dtype\",\n",
    "    \"NUM_LOGS_PER_EPOCH\",\n",
    "    \"BEST_MODEL_PATH\",\n",
    "    \"x_shape\",\n",
    "}"
   ]
  },
  {
   "cell_type": "code",
   "execution_count": 3,
   "id": "fa3f0049",
   "metadata": {
    "execution": {
     "iopub.execute_input": "2022-03-28T08:24:50.952479Z",
     "iopub.status.busy": "2022-03-28T08:24:50.946174Z",
     "iopub.status.idle": "2022-03-28T08:24:50.970554Z",
     "shell.execute_reply": "2022-03-28T08:24:50.970848Z"
    },
    "papermill": {
     "duration": 0.051208,
     "end_time": "2022-03-28T08:24:50.970927",
     "exception": false,
     "start_time": "2022-03-28T08:24:50.919719",
     "status": "completed"
    },
    "tags": [
     "parameters"
    ]
   },
   "outputs": [],
   "source": [
    "from steves_utils.CORES.utils import (\n",
    "    ALL_NODES,\n",
    "    ALL_NODES_MINIMUM_1000_EXAMPLES,\n",
    "    ALL_DAYS\n",
    ")\n",
    "\n",
    "from steves_utils.ORACLE.utils_v2 import (\n",
    "    ALL_DISTANCES_FEET_NARROWED,\n",
    "    ALL_RUNS,\n",
    "    ALL_SERIAL_NUMBERS,\n",
    ")\n",
    "\n",
    "standalone_parameters = {}\n",
    "standalone_parameters[\"experiment_name\"] = \"STANDALONE PTN\"\n",
    "standalone_parameters[\"lr\"] = 0.001\n",
    "standalone_parameters[\"device\"] = \"cuda\"\n",
    "\n",
    "standalone_parameters[\"seed\"] = 1337\n",
    "standalone_parameters[\"dataset_seed\"] = 1337\n",
    "\n",
    "standalone_parameters[\"n_way\"] = 8\n",
    "standalone_parameters[\"n_shot\"] = 3\n",
    "standalone_parameters[\"n_query\"]  = 2\n",
    "standalone_parameters[\"train_k_factor\"] = 1\n",
    "standalone_parameters[\"val_k_factor\"] = 2\n",
    "standalone_parameters[\"test_k_factor\"] = 2\n",
    "\n",
    "\n",
    "standalone_parameters[\"n_epoch\"] = 50\n",
    "\n",
    "standalone_parameters[\"patience\"] = 10\n",
    "standalone_parameters[\"criteria_for_best\"] = \"source_loss\"\n",
    "\n",
    "standalone_parameters[\"datasets\"] = [\n",
    "    {\n",
    "        \"labels\": ALL_SERIAL_NUMBERS,\n",
    "        \"domains\": ALL_DISTANCES_FEET_NARROWED,\n",
    "        \"num_examples_per_domain_per_label\": 100,\n",
    "        \"pickle_path\": os.path.join(get_datasets_base_path(), \"oracle.Run1_framed_2000Examples_stratified_ds.2022A.pkl\"),\n",
    "        \"source_or_target_dataset\": \"source\",\n",
    "        \"x_transforms\": [\"unit_mag\", \"minus_two\"],\n",
    "        \"episode_transforms\": [],\n",
    "        \"domain_prefix\": \"ORACLE_\"\n",
    "    },\n",
    "    {\n",
    "        \"labels\": ALL_NODES,\n",
    "        \"domains\": ALL_DAYS,\n",
    "        \"num_examples_per_domain_per_label\": 100,\n",
    "        \"pickle_path\": os.path.join(get_datasets_base_path(), \"cores.stratified_ds.2022A.pkl\"),\n",
    "        \"source_or_target_dataset\": \"target\",\n",
    "        \"x_transforms\": [\"unit_power\", \"times_zero\"],\n",
    "        \"episode_transforms\": [],\n",
    "        \"domain_prefix\": \"CORES_\"\n",
    "    }   \n",
    "]\n",
    "\n",
    "standalone_parameters[\"torch_default_dtype\"] = \"torch.float32\" \n",
    "\n",
    "\n",
    "\n",
    "standalone_parameters[\"x_net\"] =     [\n",
    "    {\"class\": \"nnReshape\", \"kargs\": {\"shape\":[-1, 1, 2, 256]}},\n",
    "    {\"class\": \"Conv2d\", \"kargs\": { \"in_channels\":1, \"out_channels\":256, \"kernel_size\":(1,7), \"bias\":False, \"padding\":(0,3), },},\n",
    "    {\"class\": \"ReLU\", \"kargs\": {\"inplace\": True}},\n",
    "    {\"class\": \"BatchNorm2d\", \"kargs\": {\"num_features\":256}},\n",
    "\n",
    "    {\"class\": \"Conv2d\", \"kargs\": { \"in_channels\":256, \"out_channels\":80, \"kernel_size\":(2,7), \"bias\":True, \"padding\":(0,3), },},\n",
    "    {\"class\": \"ReLU\", \"kargs\": {\"inplace\": True}},\n",
    "    {\"class\": \"BatchNorm2d\", \"kargs\": {\"num_features\":80}},\n",
    "    {\"class\": \"Flatten\", \"kargs\": {}},\n",
    "\n",
    "    {\"class\": \"Linear\", \"kargs\": {\"in_features\": 80*256, \"out_features\": 256}}, # 80 units per IQ pair\n",
    "    {\"class\": \"ReLU\", \"kargs\": {\"inplace\": True}},\n",
    "    {\"class\": \"BatchNorm1d\", \"kargs\": {\"num_features\":256}},\n",
    "\n",
    "    {\"class\": \"Linear\", \"kargs\": {\"in_features\": 256, \"out_features\": 256}},\n",
    "]\n",
    "\n",
    "# Parameters relevant to results\n",
    "# These parameters will basically never need to change\n",
    "standalone_parameters[\"NUM_LOGS_PER_EPOCH\"] = 10\n",
    "standalone_parameters[\"BEST_MODEL_PATH\"] = \"./best_model.pth\"\n",
    "\n",
    "\n",
    "\n",
    "\n"
   ]
  },
  {
   "cell_type": "code",
   "execution_count": 4,
   "id": "d0ca4057",
   "metadata": {
    "execution": {
     "iopub.execute_input": "2022-03-28T08:24:51.024426Z",
     "iopub.status.busy": "2022-03-28T08:24:51.017338Z",
     "iopub.status.idle": "2022-03-28T08:24:51.042493Z",
     "shell.execute_reply": "2022-03-28T08:24:51.042184Z"
    },
    "papermill": {
     "duration": 0.052605,
     "end_time": "2022-03-28T08:24:51.042560",
     "exception": false,
     "start_time": "2022-03-28T08:24:50.989955",
     "status": "completed"
    },
    "tags": [
     "injected-parameters"
    ]
   },
   "outputs": [],
   "source": [
    "# Parameters\n",
    "parameters = {\n",
    "    \"experiment_name\": \"tl_3-jitter10v2:cores -> oracle.run1.framed\",\n",
    "    \"device\": \"cuda\",\n",
    "    \"lr\": 0.0001,\n",
    "    \"x_shape\": [2, 256],\n",
    "    \"n_shot\": 3,\n",
    "    \"n_query\": 2,\n",
    "    \"train_k_factor\": 3,\n",
    "    \"val_k_factor\": 2,\n",
    "    \"test_k_factor\": 2,\n",
    "    \"torch_default_dtype\": \"torch.float32\",\n",
    "    \"n_epoch\": 50,\n",
    "    \"patience\": 3,\n",
    "    \"criteria_for_best\": \"target_accuracy\",\n",
    "    \"x_net\": [\n",
    "        {\"class\": \"nnReshape\", \"kargs\": {\"shape\": [-1, 1, 2, 256]}},\n",
    "        {\n",
    "            \"class\": \"Conv2d\",\n",
    "            \"kargs\": {\n",
    "                \"in_channels\": 1,\n",
    "                \"out_channels\": 256,\n",
    "                \"kernel_size\": [1, 7],\n",
    "                \"bias\": False,\n",
    "                \"padding\": [0, 3],\n",
    "            },\n",
    "        },\n",
    "        {\"class\": \"ReLU\", \"kargs\": {\"inplace\": True}},\n",
    "        {\"class\": \"BatchNorm2d\", \"kargs\": {\"num_features\": 256}},\n",
    "        {\n",
    "            \"class\": \"Conv2d\",\n",
    "            \"kargs\": {\n",
    "                \"in_channels\": 256,\n",
    "                \"out_channels\": 80,\n",
    "                \"kernel_size\": [2, 7],\n",
    "                \"bias\": True,\n",
    "                \"padding\": [0, 3],\n",
    "            },\n",
    "        },\n",
    "        {\"class\": \"ReLU\", \"kargs\": {\"inplace\": True}},\n",
    "        {\"class\": \"BatchNorm2d\", \"kargs\": {\"num_features\": 80}},\n",
    "        {\"class\": \"Flatten\", \"kargs\": {}},\n",
    "        {\"class\": \"Linear\", \"kargs\": {\"in_features\": 20480, \"out_features\": 256}},\n",
    "        {\"class\": \"ReLU\", \"kargs\": {\"inplace\": True}},\n",
    "        {\"class\": \"BatchNorm1d\", \"kargs\": {\"num_features\": 256}},\n",
    "        {\"class\": \"Linear\", \"kargs\": {\"in_features\": 256, \"out_features\": 256}},\n",
    "    ],\n",
    "    \"NUM_LOGS_PER_EPOCH\": 10,\n",
    "    \"BEST_MODEL_PATH\": \"./best_model.pth\",\n",
    "    \"n_way\": 16,\n",
    "    \"datasets\": [\n",
    "        {\n",
    "            \"labels\": [\n",
    "                \"1-10.\",\n",
    "                \"1-11.\",\n",
    "                \"1-15.\",\n",
    "                \"1-16.\",\n",
    "                \"1-17.\",\n",
    "                \"1-18.\",\n",
    "                \"1-19.\",\n",
    "                \"10-4.\",\n",
    "                \"10-7.\",\n",
    "                \"11-1.\",\n",
    "                \"11-14.\",\n",
    "                \"11-17.\",\n",
    "                \"11-20.\",\n",
    "                \"11-7.\",\n",
    "                \"13-20.\",\n",
    "                \"13-8.\",\n",
    "                \"14-10.\",\n",
    "                \"14-11.\",\n",
    "                \"14-14.\",\n",
    "                \"14-7.\",\n",
    "                \"15-1.\",\n",
    "                \"15-20.\",\n",
    "                \"16-1.\",\n",
    "                \"16-16.\",\n",
    "                \"17-10.\",\n",
    "                \"17-11.\",\n",
    "                \"17-2.\",\n",
    "                \"19-1.\",\n",
    "                \"19-16.\",\n",
    "                \"19-19.\",\n",
    "                \"19-20.\",\n",
    "                \"19-3.\",\n",
    "                \"2-10.\",\n",
    "                \"2-11.\",\n",
    "                \"2-17.\",\n",
    "                \"2-18.\",\n",
    "                \"2-20.\",\n",
    "                \"2-3.\",\n",
    "                \"2-4.\",\n",
    "                \"2-5.\",\n",
    "                \"2-6.\",\n",
    "                \"2-7.\",\n",
    "                \"2-8.\",\n",
    "                \"3-13.\",\n",
    "                \"3-18.\",\n",
    "                \"3-3.\",\n",
    "                \"4-1.\",\n",
    "                \"4-10.\",\n",
    "                \"4-11.\",\n",
    "                \"4-19.\",\n",
    "                \"5-5.\",\n",
    "                \"6-15.\",\n",
    "                \"7-10.\",\n",
    "                \"7-14.\",\n",
    "                \"8-18.\",\n",
    "                \"8-20.\",\n",
    "                \"8-3.\",\n",
    "                \"8-8.\",\n",
    "            ],\n",
    "            \"domains\": [1, 2, 3, 4, 5],\n",
    "            \"num_examples_per_domain_per_label\": -1,\n",
    "            \"pickle_path\": \"/root/csc500-main/datasets/cores.stratified_ds.2022A.pkl\",\n",
    "            \"source_or_target_dataset\": \"source\",\n",
    "            \"x_transforms\": [\"jitter_256_10\", \"lowpass_+/-10MHz\", \"take_200\"],\n",
    "            \"episode_transforms\": [],\n",
    "            \"domain_prefix\": \"C_\",\n",
    "        },\n",
    "        {\n",
    "            \"labels\": [\n",
    "                \"3123D52\",\n",
    "                \"3123D65\",\n",
    "                \"3123D79\",\n",
    "                \"3123D80\",\n",
    "                \"3123D54\",\n",
    "                \"3123D70\",\n",
    "                \"3123D7B\",\n",
    "                \"3123D89\",\n",
    "                \"3123D58\",\n",
    "                \"3123D76\",\n",
    "                \"3123D7D\",\n",
    "                \"3123EFE\",\n",
    "                \"3123D64\",\n",
    "                \"3123D78\",\n",
    "                \"3123D7E\",\n",
    "                \"3124E4A\",\n",
    "            ],\n",
    "            \"domains\": [32, 38, 8, 44, 14, 50, 20, 26],\n",
    "            \"num_examples_per_domain_per_label\": 2000,\n",
    "            \"pickle_path\": \"/root/csc500-main/datasets/oracle.Run1_framed_2000Examples_stratified_ds.2022A.pkl\",\n",
    "            \"source_or_target_dataset\": \"target\",\n",
    "            \"x_transforms\": [\"jitter_256_10\", \"take_200\", \"resample_20Msps_to_25Msps\"],\n",
    "            \"episode_transforms\": [],\n",
    "            \"domain_prefix\": \"O_\",\n",
    "        },\n",
    "    ],\n",
    "    \"seed\": 7,\n",
    "    \"dataset_seed\": 7,\n",
    "}\n"
   ]
  },
  {
   "cell_type": "code",
   "execution_count": 5,
   "id": "8fa1cc33",
   "metadata": {
    "execution": {
     "iopub.execute_input": "2022-03-28T08:24:51.088414Z",
     "iopub.status.busy": "2022-03-28T08:24:51.087565Z",
     "iopub.status.idle": "2022-03-28T08:24:51.107114Z",
     "shell.execute_reply": "2022-03-28T08:24:51.107817Z"
    },
    "papermill": {
     "duration": 0.045979,
     "end_time": "2022-03-28T08:24:51.107995",
     "exception": false,
     "start_time": "2022-03-28T08:24:51.062016",
     "status": "completed"
    },
    "tags": []
   },
   "outputs": [],
   "source": [
    "# Set this to True if you want to run this template directly\n",
    "STANDALONE = False\n",
    "if STANDALONE:\n",
    "    print(\"parameters not injected, running with standalone_parameters\")\n",
    "    parameters = standalone_parameters\n",
    "\n",
    "if not 'parameters' in locals() and not 'parameters' in globals():\n",
    "    raise Exception(\"Parameter injection failed\")\n",
    "\n",
    "#Use an easy dict for all the parameters\n",
    "p = EasyDict(parameters)\n",
    "\n",
    "if \"x_shape\" not in p:\n",
    "    p.x_shape = [2,256] # Default to this if we dont supply x_shape\n",
    "\n",
    "\n",
    "supplied_keys = set(p.keys())\n",
    "\n",
    "if  supplied_keys != required_parameters:\n",
    "    print(\"Parameters are incorrect\")\n",
    "    if len(supplied_keys - required_parameters)>0: print(\"Shouldn't have:\", str(supplied_keys - required_parameters))\n",
    "    if len(required_parameters - supplied_keys)>0: print(\"Need to have:\", str(required_parameters - supplied_keys))\n",
    "    raise RuntimeError(\"Parameters are incorrect\")"
   ]
  },
  {
   "cell_type": "code",
   "execution_count": 6,
   "id": "3a028d58",
   "metadata": {
    "execution": {
     "iopub.execute_input": "2022-03-28T08:24:51.164074Z",
     "iopub.status.busy": "2022-03-28T08:24:51.156268Z",
     "iopub.status.idle": "2022-03-28T08:24:51.174822Z",
     "shell.execute_reply": "2022-03-28T08:24:51.174044Z"
    },
    "papermill": {
     "duration": 0.040884,
     "end_time": "2022-03-28T08:24:51.174971",
     "exception": false,
     "start_time": "2022-03-28T08:24:51.134087",
     "status": "completed"
    },
    "tags": []
   },
   "outputs": [],
   "source": [
    "###################################\n",
    "# Set the RNGs and make it all deterministic\n",
    "###################################\n",
    "np.random.seed(p.seed)\n",
    "random.seed(p.seed)\n",
    "torch.manual_seed(p.seed)\n",
    "\n",
    "torch.use_deterministic_algorithms(True) "
   ]
  },
  {
   "cell_type": "code",
   "execution_count": 7,
   "id": "b691acf6",
   "metadata": {
    "execution": {
     "iopub.execute_input": "2022-03-28T08:24:51.221372Z",
     "iopub.status.busy": "2022-03-28T08:24:51.220180Z",
     "iopub.status.idle": "2022-03-28T08:24:51.241326Z",
     "shell.execute_reply": "2022-03-28T08:24:51.241974Z"
    },
    "papermill": {
     "duration": 0.043185,
     "end_time": "2022-03-28T08:24:51.242146",
     "exception": false,
     "start_time": "2022-03-28T08:24:51.198961",
     "status": "completed"
    },
    "tags": []
   },
   "outputs": [],
   "source": [
    "###########################################\n",
    "# The stratified datasets honor this\n",
    "###########################################\n",
    "torch.set_default_dtype(eval(p.torch_default_dtype))"
   ]
  },
  {
   "cell_type": "code",
   "execution_count": 8,
   "id": "b5fba671",
   "metadata": {
    "execution": {
     "iopub.execute_input": "2022-03-28T08:24:51.289102Z",
     "iopub.status.busy": "2022-03-28T08:24:51.288745Z",
     "iopub.status.idle": "2022-03-28T08:24:51.349868Z",
     "shell.execute_reply": "2022-03-28T08:24:51.349186Z"
    },
    "papermill": {
     "duration": 0.08342,
     "end_time": "2022-03-28T08:24:51.350016",
     "exception": false,
     "start_time": "2022-03-28T08:24:51.266596",
     "status": "completed"
    },
    "tags": []
   },
   "outputs": [],
   "source": [
    "###################################\n",
    "# Build the network(s)\n",
    "# Note: It's critical to do this AFTER setting the RNG\n",
    "###################################\n",
    "x_net = build_sequential(p.x_net)"
   ]
  },
  {
   "cell_type": "code",
   "execution_count": 9,
   "id": "5d7e61cc",
   "metadata": {
    "execution": {
     "iopub.execute_input": "2022-03-28T08:24:51.400423Z",
     "iopub.status.busy": "2022-03-28T08:24:51.400068Z",
     "iopub.status.idle": "2022-03-28T08:24:51.425465Z",
     "shell.execute_reply": "2022-03-28T08:24:51.426113Z"
    },
    "papermill": {
     "duration": 0.049324,
     "end_time": "2022-03-28T08:24:51.426287",
     "exception": false,
     "start_time": "2022-03-28T08:24:51.376963",
     "status": "completed"
    },
    "tags": []
   },
   "outputs": [],
   "source": [
    "start_time_secs = time.time()"
   ]
  },
  {
   "cell_type": "code",
   "execution_count": 10,
   "id": "c6b67dfd",
   "metadata": {
    "execution": {
     "iopub.execute_input": "2022-03-28T08:24:51.476550Z",
     "iopub.status.busy": "2022-03-28T08:24:51.475959Z",
     "iopub.status.idle": "2022-03-28T08:24:51.495879Z",
     "shell.execute_reply": "2022-03-28T08:24:51.496536Z"
    },
    "papermill": {
     "duration": 0.043297,
     "end_time": "2022-03-28T08:24:51.496709",
     "exception": false,
     "start_time": "2022-03-28T08:24:51.453412",
     "status": "completed"
    },
    "tags": []
   },
   "outputs": [],
   "source": [
    "p.domains_source = []\n",
    "p.domains_target = []\n",
    "\n",
    "\n",
    "train_original_source = []\n",
    "val_original_source   = []\n",
    "test_original_source  = []\n",
    "\n",
    "train_original_target = []\n",
    "val_original_target   = []\n",
    "test_original_target  = []"
   ]
  },
  {
   "cell_type": "code",
   "execution_count": 11,
   "id": "e3d9c3d3",
   "metadata": {
    "execution": {
     "iopub.execute_input": "2022-03-28T08:24:51.544871Z",
     "iopub.status.busy": "2022-03-28T08:24:51.544516Z",
     "iopub.status.idle": "2022-03-28T08:24:51.565122Z",
     "shell.execute_reply": "2022-03-28T08:24:51.564401Z"
    },
    "papermill": {
     "duration": 0.042786,
     "end_time": "2022-03-28T08:24:51.565271",
     "exception": false,
     "start_time": "2022-03-28T08:24:51.522485",
     "status": "completed"
    },
    "tags": []
   },
   "outputs": [],
   "source": [
    "# global_x_transform_func = lambda x: normalize(x.to(torch.get_default_dtype()), \"unit_power\") # unit_power, unit_mag\n",
    "# global_x_transform_func = lambda x: normalize(x, \"unit_power\") # unit_power, unit_mag"
   ]
  },
  {
   "cell_type": "code",
   "execution_count": 12,
   "id": "acb78fd2",
   "metadata": {
    "execution": {
     "iopub.execute_input": "2022-03-28T08:24:51.621706Z",
     "iopub.status.busy": "2022-03-28T08:24:51.611884Z",
     "iopub.status.idle": "2022-03-28T08:24:51.637975Z",
     "shell.execute_reply": "2022-03-28T08:24:51.638627Z"
    },
    "papermill": {
     "duration": 0.048366,
     "end_time": "2022-03-28T08:24:51.638799",
     "exception": false,
     "start_time": "2022-03-28T08:24:51.590433",
     "status": "completed"
    },
    "tags": []
   },
   "outputs": [],
   "source": [
    "def add_dataset(\n",
    "    labels,\n",
    "    domains,\n",
    "    pickle_path,\n",
    "    x_transforms,\n",
    "    episode_transforms,\n",
    "    domain_prefix,\n",
    "    num_examples_per_domain_per_label,\n",
    "    source_or_target_dataset:str,\n",
    "    iterator_seed=p.seed,\n",
    "    dataset_seed=p.dataset_seed,\n",
    "    n_shot=p.n_shot,\n",
    "    n_way=p.n_way,\n",
    "    n_query=p.n_query,\n",
    "    train_val_test_k_factors=(p.train_k_factor,p.val_k_factor,p.test_k_factor),\n",
    "):\n",
    "   \n",
    "    if x_transforms == []: x_transform = None\n",
    "    else: x_transform = get_chained_transform(x_transforms)\n",
    "    \n",
    "    if episode_transforms == []: episode_transform = None\n",
    "    else: raise Exception(\"episode_transforms not implemented\")\n",
    "    \n",
    "    episode_transform = lambda tup, _prefix=domain_prefix: (_prefix + str(tup[0]), tup[1])\n",
    "\n",
    "\n",
    "    eaf = Episodic_Accessor_Factory(\n",
    "        labels=labels,\n",
    "        domains=domains,\n",
    "        num_examples_per_domain_per_label=num_examples_per_domain_per_label,\n",
    "        iterator_seed=iterator_seed,\n",
    "        dataset_seed=dataset_seed,\n",
    "        n_shot=n_shot,\n",
    "        n_way=n_way,\n",
    "        n_query=n_query,\n",
    "        train_val_test_k_factors=train_val_test_k_factors,\n",
    "        pickle_path=pickle_path,\n",
    "        x_transform_func=x_transform,\n",
    "    )\n",
    "\n",
    "    train, val, test = eaf.get_train(), eaf.get_val(), eaf.get_test()\n",
    "    train = Lazy_Iterable_Wrapper(train, episode_transform)\n",
    "    val = Lazy_Iterable_Wrapper(val, episode_transform)\n",
    "    test = Lazy_Iterable_Wrapper(test, episode_transform)\n",
    "\n",
    "    if source_or_target_dataset==\"source\":\n",
    "        train_original_source.append(train)\n",
    "        val_original_source.append(val)\n",
    "        test_original_source.append(test)\n",
    "\n",
    "        p.domains_source.extend(\n",
    "            [domain_prefix + str(u) for u in domains]\n",
    "        )\n",
    "    elif source_or_target_dataset==\"target\":\n",
    "        train_original_target.append(train)\n",
    "        val_original_target.append(val)\n",
    "        test_original_target.append(test)\n",
    "        p.domains_target.extend(\n",
    "            [domain_prefix + str(u) for u in domains]\n",
    "        )\n",
    "    else:\n",
    "        raise Exception(f\"invalid source_or_target_dataset: {source_or_target_dataset}\")\n",
    "    "
   ]
  },
  {
   "cell_type": "code",
   "execution_count": 13,
   "id": "fe266617",
   "metadata": {
    "execution": {
     "iopub.execute_input": "2022-03-28T08:24:51.690103Z",
     "iopub.status.busy": "2022-03-28T08:24:51.689181Z",
     "iopub.status.idle": "2022-03-28T08:25:56.599075Z",
     "shell.execute_reply": "2022-03-28T08:25:56.598283Z"
    },
    "papermill": {
     "duration": 64.933576,
     "end_time": "2022-03-28T08:25:56.599269",
     "exception": false,
     "start_time": "2022-03-28T08:24:51.665693",
     "status": "completed"
    },
    "tags": []
   },
   "outputs": [],
   "source": [
    "for ds in p.datasets:\n",
    "    add_dataset(**ds)"
   ]
  },
  {
   "cell_type": "code",
   "execution_count": 14,
   "id": "b90d65ac",
   "metadata": {
    "execution": {
     "iopub.execute_input": "2022-03-28T08:25:56.650278Z",
     "iopub.status.busy": "2022-03-28T08:25:56.649808Z",
     "iopub.status.idle": "2022-03-28T08:25:56.671977Z",
     "shell.execute_reply": "2022-03-28T08:25:56.671104Z"
    },
    "papermill": {
     "duration": 0.046502,
     "end_time": "2022-03-28T08:25:56.672144",
     "exception": false,
     "start_time": "2022-03-28T08:25:56.625642",
     "status": "completed"
    },
    "tags": []
   },
   "outputs": [],
   "source": [
    "# from steves_utils.CORES.utils import (\n",
    "#     ALL_NODES,\n",
    "#     ALL_NODES_MINIMUM_1000_EXAMPLES,\n",
    "#     ALL_DAYS\n",
    "# )\n",
    "\n",
    "# add_dataset(\n",
    "#     labels=ALL_NODES,\n",
    "#     domains = ALL_DAYS,\n",
    "#     num_examples_per_domain_per_label=100,\n",
    "#     pickle_path=os.path.join(get_datasets_base_path(), \"cores.stratified_ds.2022A.pkl\"),\n",
    "#     source_or_target_dataset=\"target\",\n",
    "#     x_transform_func=global_x_transform_func,\n",
    "#     domain_modifier=lambda u: f\"cores_{u}\"\n",
    "# )"
   ]
  },
  {
   "cell_type": "code",
   "execution_count": 15,
   "id": "76db484d",
   "metadata": {
    "execution": {
     "iopub.execute_input": "2022-03-28T08:25:56.722449Z",
     "iopub.status.busy": "2022-03-28T08:25:56.721737Z",
     "iopub.status.idle": "2022-03-28T08:25:56.745467Z",
     "shell.execute_reply": "2022-03-28T08:25:56.744676Z"
    },
    "papermill": {
     "duration": 0.047147,
     "end_time": "2022-03-28T08:25:56.745619",
     "exception": false,
     "start_time": "2022-03-28T08:25:56.698472",
     "status": "completed"
    },
    "tags": []
   },
   "outputs": [],
   "source": [
    "# from steves_utils.ORACLE.utils_v2 import (\n",
    "#     ALL_DISTANCES_FEET,\n",
    "#     ALL_RUNS,\n",
    "#     ALL_SERIAL_NUMBERS,\n",
    "# )\n",
    "\n",
    "\n",
    "# add_dataset(\n",
    "#     labels=ALL_SERIAL_NUMBERS,\n",
    "#     domains = list(set(ALL_DISTANCES_FEET) - {2,62}),\n",
    "#     num_examples_per_domain_per_label=100,\n",
    "#     pickle_path=os.path.join(get_datasets_base_path(), \"oracle.Run2_framed_2000Examples_stratified_ds.2022A.pkl\"),\n",
    "#     source_or_target_dataset=\"source\",\n",
    "#     x_transform_func=global_x_transform_func,\n",
    "#     domain_modifier=lambda u: f\"oracle1_{u}\"\n",
    "# )\n"
   ]
  },
  {
   "cell_type": "code",
   "execution_count": 16,
   "id": "97dea9d2",
   "metadata": {
    "execution": {
     "iopub.execute_input": "2022-03-28T08:25:56.796139Z",
     "iopub.status.busy": "2022-03-28T08:25:56.794478Z",
     "iopub.status.idle": "2022-03-28T08:25:56.816575Z",
     "shell.execute_reply": "2022-03-28T08:25:56.815788Z"
    },
    "papermill": {
     "duration": 0.045034,
     "end_time": "2022-03-28T08:25:56.816726",
     "exception": false,
     "start_time": "2022-03-28T08:25:56.771692",
     "status": "completed"
    },
    "tags": []
   },
   "outputs": [],
   "source": [
    "# from steves_utils.ORACLE.utils_v2 import (\n",
    "#     ALL_DISTANCES_FEET,\n",
    "#     ALL_RUNS,\n",
    "#     ALL_SERIAL_NUMBERS,\n",
    "# )\n",
    "\n",
    "\n",
    "# add_dataset(\n",
    "#     labels=ALL_SERIAL_NUMBERS,\n",
    "#     domains = list(set(ALL_DISTANCES_FEET) - {2,62,56}),\n",
    "#     num_examples_per_domain_per_label=100,\n",
    "#     pickle_path=os.path.join(get_datasets_base_path(), \"oracle.Run2_framed_2000Examples_stratified_ds.2022A.pkl\"),\n",
    "#     source_or_target_dataset=\"source\",\n",
    "#     x_transform_func=global_x_transform_func,\n",
    "#     domain_modifier=lambda u: f\"oracle2_{u}\"\n",
    "# )"
   ]
  },
  {
   "cell_type": "code",
   "execution_count": 17,
   "id": "6f289866",
   "metadata": {
    "execution": {
     "iopub.execute_input": "2022-03-28T08:25:56.869068Z",
     "iopub.status.busy": "2022-03-28T08:25:56.868518Z",
     "iopub.status.idle": "2022-03-28T08:25:56.886753Z",
     "shell.execute_reply": "2022-03-28T08:25:56.886051Z"
    },
    "papermill": {
     "duration": 0.041619,
     "end_time": "2022-03-28T08:25:56.886916",
     "exception": false,
     "start_time": "2022-03-28T08:25:56.845297",
     "status": "completed"
    },
    "tags": []
   },
   "outputs": [],
   "source": [
    "# add_dataset(\n",
    "#     labels=list(range(19)),\n",
    "#     domains = [0,1,2],\n",
    "#     num_examples_per_domain_per_label=100,\n",
    "#     pickle_path=os.path.join(get_datasets_base_path(), \"metehan.stratified_ds.2022A.pkl\"),\n",
    "#     source_or_target_dataset=\"target\",\n",
    "#     x_transform_func=global_x_transform_func,\n",
    "#     domain_modifier=lambda u: f\"met_{u}\"\n",
    "# )"
   ]
  },
  {
   "cell_type": "code",
   "execution_count": 18,
   "id": "86a863c3",
   "metadata": {
    "execution": {
     "iopub.execute_input": "2022-03-28T08:25:56.937120Z",
     "iopub.status.busy": "2022-03-28T08:25:56.936563Z",
     "iopub.status.idle": "2022-03-28T08:25:56.954849Z",
     "shell.execute_reply": "2022-03-28T08:25:56.954051Z"
    },
    "papermill": {
     "duration": 0.041779,
     "end_time": "2022-03-28T08:25:56.955001",
     "exception": false,
     "start_time": "2022-03-28T08:25:56.913222",
     "status": "completed"
    },
    "tags": []
   },
   "outputs": [],
   "source": [
    "# # from steves_utils.wisig.utils import (\n",
    "# #     ALL_NODES_MINIMUM_100_EXAMPLES,\n",
    "# #     ALL_NODES_MINIMUM_500_EXAMPLES,\n",
    "# #     ALL_NODES_MINIMUM_1000_EXAMPLES,\n",
    "# #     ALL_DAYS\n",
    "# # )\n",
    "\n",
    "# import steves_utils.wisig.utils as wisig\n",
    "\n",
    "\n",
    "# add_dataset(\n",
    "#     labels=wisig.ALL_NODES_MINIMUM_100_EXAMPLES,\n",
    "#     domains = wisig.ALL_DAYS,\n",
    "#     num_examples_per_domain_per_label=100,\n",
    "#     pickle_path=os.path.join(get_datasets_base_path(), \"wisig.node3-19.stratified_ds.2022A.pkl\"),\n",
    "#     source_or_target_dataset=\"target\",\n",
    "#     x_transform_func=global_x_transform_func,\n",
    "#     domain_modifier=lambda u: f\"wisig_{u}\"\n",
    "# )"
   ]
  },
  {
   "cell_type": "code",
   "execution_count": 19,
   "id": "fd5442bc",
   "metadata": {
    "execution": {
     "iopub.execute_input": "2022-03-28T08:25:57.013884Z",
     "iopub.status.busy": "2022-03-28T08:25:57.011796Z",
     "iopub.status.idle": "2022-03-28T08:25:57.034300Z",
     "shell.execute_reply": "2022-03-28T08:25:57.033602Z"
    },
    "papermill": {
     "duration": 0.05117,
     "end_time": "2022-03-28T08:25:57.034451",
     "exception": false,
     "start_time": "2022-03-28T08:25:56.983281",
     "status": "completed"
    },
    "tags": []
   },
   "outputs": [],
   "source": [
    "###################################\n",
    "# Build the dataset\n",
    "###################################\n",
    "train_original_source = Iterable_Aggregator(train_original_source, p.seed)\n",
    "val_original_source = Iterable_Aggregator(val_original_source, p.seed)\n",
    "test_original_source = Iterable_Aggregator(test_original_source, p.seed)\n",
    "\n",
    "\n",
    "train_original_target = Iterable_Aggregator(train_original_target, p.seed)\n",
    "val_original_target = Iterable_Aggregator(val_original_target, p.seed)\n",
    "test_original_target = Iterable_Aggregator(test_original_target, p.seed)\n",
    "\n",
    "# For CNN We only use X and Y. And we only train on the source.\n",
    "# Properly form the data using a transform lambda and Lazy_Iterable_Wrapper. Finally wrap them in a dataloader\n",
    "\n",
    "transform_lambda = lambda ex: ex[1] # Original is (<domain>, <episode>) so we strip down to episode only\n",
    "\n",
    "train_processed_source = Lazy_Iterable_Wrapper(train_original_source, transform_lambda)\n",
    "val_processed_source   = Lazy_Iterable_Wrapper(val_original_source, transform_lambda)\n",
    "test_processed_source  = Lazy_Iterable_Wrapper(test_original_source, transform_lambda)\n",
    "\n",
    "train_processed_target = Lazy_Iterable_Wrapper(train_original_target, transform_lambda)\n",
    "val_processed_target   = Lazy_Iterable_Wrapper(val_original_target, transform_lambda)\n",
    "test_processed_target  = Lazy_Iterable_Wrapper(test_original_target, transform_lambda)\n",
    "\n",
    "datasets = EasyDict({\n",
    "    \"source\": {\n",
    "        \"original\": {\"train\":train_original_source, \"val\":val_original_source, \"test\":test_original_source},\n",
    "        \"processed\": {\"train\":train_processed_source, \"val\":val_processed_source, \"test\":test_processed_source}\n",
    "    },\n",
    "    \"target\": {\n",
    "        \"original\": {\"train\":train_original_target, \"val\":val_original_target, \"test\":test_original_target},\n",
    "        \"processed\": {\"train\":train_processed_target, \"val\":val_processed_target, \"test\":test_processed_target}\n",
    "    },\n",
    "})"
   ]
  },
  {
   "cell_type": "code",
   "execution_count": 20,
   "id": "5b3c01fc",
   "metadata": {
    "execution": {
     "iopub.execute_input": "2022-03-28T08:25:57.085355Z",
     "iopub.status.busy": "2022-03-28T08:25:57.084988Z",
     "iopub.status.idle": "2022-03-28T08:26:11.276106Z",
     "shell.execute_reply": "2022-03-28T08:26:11.275251Z"
    },
    "papermill": {
     "duration": 14.215598,
     "end_time": "2022-03-28T08:26:11.276281",
     "exception": false,
     "start_time": "2022-03-28T08:25:57.060683",
     "status": "completed"
    },
    "tags": []
   },
   "outputs": [
    {
     "name": "stdout",
     "output_type": "stream",
     "text": [
      "{'C_5', 'C_2', 'C_3', 'C_1', 'C_4'}\n"
     ]
    },
    {
     "name": "stdout",
     "output_type": "stream",
     "text": [
      "{'O_38', 'O_14', 'O_44', 'O_8', 'O_20', 'O_26', 'O_32', 'O_50'}\n"
     ]
    },
    {
     "name": "stdout",
     "output_type": "stream",
     "text": [
      "tensor([[[0., 0., 0.,  ..., 0., 0., 0.],\n",
      "         [0., 0., 0.,  ..., 0., 0., 0.]],\n",
      "\n",
      "        [[0., 0., 0.,  ..., 0., 0., 0.],\n",
      "         [0., 0., 0.,  ..., 0., 0., 0.]],\n",
      "\n",
      "        [[0., 0., 0.,  ..., 0., 0., 0.],\n",
      "         [0., 0., 0.,  ..., 0., 0., 0.]],\n",
      "\n",
      "        ...,\n",
      "\n",
      "        [[0., 0., 0.,  ..., 0., 0., 0.],\n",
      "         [0., 0., 0.,  ..., 0., 0., 0.]],\n",
      "\n",
      "        [[0., 0., 0.,  ..., 0., 0., 0.],\n",
      "         [0., 0., 0.,  ..., 0., 0., 0.]],\n",
      "\n",
      "        [[0., 0., 0.,  ..., 0., 0., 0.],\n",
      "         [0., 0., 0.,  ..., 0., 0., 0.]]])\n"
     ]
    }
   ],
   "source": [
    "from steves_utils.transforms import get_average_magnitude, get_average_power\n",
    "\n",
    "print(set([u for u,_ in val_original_source]))\n",
    "print(set([u for u,_ in val_original_target]))\n",
    "\n",
    "s_x, s_y, q_x, q_y, _ = next(iter(train_processed_source))\n",
    "print(s_x)\n",
    "\n",
    "# for ds in [\n",
    "#     train_processed_source,\n",
    "#     val_processed_source,\n",
    "#     test_processed_source,\n",
    "#     train_processed_target,\n",
    "#     val_processed_target,\n",
    "#     test_processed_target\n",
    "# ]:\n",
    "#     for s_x, s_y, q_x, q_y, _ in ds:\n",
    "#         for X in (s_x, q_x):\n",
    "#             for x in X:\n",
    "#                 assert np.isclose(get_average_magnitude(x.numpy()), 1.0)\n",
    "#                 assert np.isclose(get_average_power(x.numpy()), 1.0)\n",
    "                "
   ]
  },
  {
   "cell_type": "code",
   "execution_count": 21,
   "id": "bbdacba1",
   "metadata": {
    "execution": {
     "iopub.execute_input": "2022-03-28T08:26:11.330672Z",
     "iopub.status.busy": "2022-03-28T08:26:11.330035Z",
     "iopub.status.idle": "2022-03-28T08:26:11.483169Z",
     "shell.execute_reply": "2022-03-28T08:26:11.483871Z"
    },
    "papermill": {
     "duration": 0.180296,
     "end_time": "2022-03-28T08:26:11.484100",
     "exception": false,
     "start_time": "2022-03-28T08:26:11.303804",
     "status": "completed"
    },
    "tags": []
   },
   "outputs": [
    {
     "name": "stdout",
     "output_type": "stream",
     "text": [
      "(2, 256)\n"
     ]
    }
   ],
   "source": [
    "###################################\n",
    "# Build the model\n",
    "###################################\n",
    "# easfsl only wants a tuple for the shape\n",
    "model = Steves_Prototypical_Network(x_net, device=p.device, x_shape=tuple(p.x_shape))\n",
    "optimizer = Adam(params=model.parameters(), lr=p.lr)"
   ]
  },
  {
   "cell_type": "code",
   "execution_count": 22,
   "id": "22b39ac5",
   "metadata": {
    "execution": {
     "iopub.execute_input": "2022-03-28T08:26:11.539191Z",
     "iopub.status.busy": "2022-03-28T08:26:11.538819Z",
     "iopub.status.idle": "2022-03-28T08:41:35.841129Z",
     "shell.execute_reply": "2022-03-28T08:41:35.840793Z"
    },
    "papermill": {
     "duration": 924.328851,
     "end_time": "2022-03-28T08:41:35.841212",
     "exception": false,
     "start_time": "2022-03-28T08:26:11.512361",
     "status": "completed"
    },
    "tags": []
   },
   "outputs": [
    {
     "name": "stdout",
     "output_type": "stream",
     "text": [
      "epoch: 1, [batch: 1 / 6316], examples_per_second: 31.9256, train_label_loss: 2.2082, \n"
     ]
    },
    {
     "name": "stdout",
     "output_type": "stream",
     "text": [
      "epoch: 1, [batch: 632 / 6316], examples_per_second: 3940.6202, train_label_loss: 0.0767, \n"
     ]
    },
    {
     "name": "stdout",
     "output_type": "stream",
     "text": [
      "epoch: 1, [batch: 1264 / 6316], examples_per_second: 3828.6068, train_label_loss: 0.0148, \n"
     ]
    },
    {
     "name": "stdout",
     "output_type": "stream",
     "text": [
      "epoch: 1, [batch: 1895 / 6316], examples_per_second: 3805.3501, train_label_loss: 0.0218, \n"
     ]
    },
    {
     "name": "stdout",
     "output_type": "stream",
     "text": [
      "epoch: 1, [batch: 2527 / 6316], examples_per_second: 3792.2346, train_label_loss: 0.0047, \n"
     ]
    },
    {
     "name": "stdout",
     "output_type": "stream",
     "text": [
      "epoch: 1, [batch: 3158 / 6316], examples_per_second: 3908.6930, train_label_loss: 0.0110, \n"
     ]
    },
    {
     "name": "stdout",
     "output_type": "stream",
     "text": [
      "epoch: 1, [batch: 3790 / 6316], examples_per_second: 3755.6184, train_label_loss: 0.0834, \n"
     ]
    },
    {
     "name": "stdout",
     "output_type": "stream",
     "text": [
      "epoch: 1, [batch: 4421 / 6316], examples_per_second: 3723.4469, train_label_loss: 0.0053, \n"
     ]
    },
    {
     "name": "stdout",
     "output_type": "stream",
     "text": [
      "epoch: 1, [batch: 5053 / 6316], examples_per_second: 3727.3846, train_label_loss: 0.0423, \n"
     ]
    },
    {
     "name": "stdout",
     "output_type": "stream",
     "text": [
      "epoch: 1, [batch: 5684 / 6316], examples_per_second: 3728.3532, train_label_loss: 0.0084, \n"
     ]
    },
    {
     "name": "stdout",
     "output_type": "stream",
     "text": [
      "=============================================================\n",
      "epoch: 1, source_val_acc_label: 0.9948, target_val_acc_label: 0.2535, source_val_label_loss: 0.0298, target_val_label_loss: 7.6121, \n",
      "=============================================================\n"
     ]
    },
    {
     "name": "stdout",
     "output_type": "stream",
     "text": [
      "New best\n"
     ]
    },
    {
     "name": "stdout",
     "output_type": "stream",
     "text": [
      "epoch: 2, [batch: 1 / 6296], examples_per_second: 4.1874, train_label_loss: 0.2662, \n"
     ]
    },
    {
     "name": "stdout",
     "output_type": "stream",
     "text": [
      "epoch: 2, [batch: 630 / 6296], examples_per_second: 3892.3326, train_label_loss: 0.0054, \n"
     ]
    },
    {
     "name": "stdout",
     "output_type": "stream",
     "text": [
      "epoch: 2, [batch: 1260 / 6296], examples_per_second: 3888.1203, train_label_loss: 0.0004, \n"
     ]
    },
    {
     "name": "stdout",
     "output_type": "stream",
     "text": [
      "epoch: 2, [batch: 1889 / 6296], examples_per_second: 3861.8621, train_label_loss: 0.0230, \n"
     ]
    },
    {
     "name": "stdout",
     "output_type": "stream",
     "text": [
      "epoch: 2, [batch: 2519 / 6296], examples_per_second: 3796.5591, train_label_loss: 0.0003, \n"
     ]
    },
    {
     "name": "stdout",
     "output_type": "stream",
     "text": [
      "epoch: 2, [batch: 3148 / 6296], examples_per_second: 3858.4822, train_label_loss: 0.0051, \n"
     ]
    },
    {
     "name": "stdout",
     "output_type": "stream",
     "text": [
      "epoch: 2, [batch: 3778 / 6296], examples_per_second: 3792.8921, train_label_loss: 0.0008, \n"
     ]
    },
    {
     "name": "stdout",
     "output_type": "stream",
     "text": [
      "epoch: 2, [batch: 4407 / 6296], examples_per_second: 3778.9924, train_label_loss: 0.0024, \n"
     ]
    },
    {
     "name": "stdout",
     "output_type": "stream",
     "text": [
      "epoch: 2, [batch: 5037 / 6296], examples_per_second: 3801.4589, train_label_loss: 0.2540, \n"
     ]
    },
    {
     "name": "stdout",
     "output_type": "stream",
     "text": [
      "epoch: 2, [batch: 5666 / 6296], examples_per_second: 3901.3952, train_label_loss: 0.0000, \n"
     ]
    },
    {
     "name": "stdout",
     "output_type": "stream",
     "text": [
      "=============================================================\n",
      "epoch: 2, source_val_acc_label: 0.9911, target_val_acc_label: 0.4691, source_val_label_loss: 0.1568, target_val_label_loss: 1.5825, \n",
      "=============================================================\n"
     ]
    },
    {
     "name": "stdout",
     "output_type": "stream",
     "text": [
      "New best\n"
     ]
    },
    {
     "name": "stdout",
     "output_type": "stream",
     "text": [
      "epoch: 3, [batch: 1 / 6299], examples_per_second: 4.2915, train_label_loss: 7.8061, \n"
     ]
    },
    {
     "name": "stdout",
     "output_type": "stream",
     "text": [
      "epoch: 3, [batch: 630 / 6299], examples_per_second: 3850.6582, train_label_loss: 0.2061, \n"
     ]
    },
    {
     "name": "stdout",
     "output_type": "stream",
     "text": [
      "epoch: 3, [batch: 1260 / 6299], examples_per_second: 3917.6368, train_label_loss: 0.0000, \n"
     ]
    },
    {
     "name": "stdout",
     "output_type": "stream",
     "text": [
      "epoch: 3, [batch: 1890 / 6299], examples_per_second: 3875.9971, train_label_loss: 0.0000, \n"
     ]
    },
    {
     "name": "stdout",
     "output_type": "stream",
     "text": [
      "epoch: 3, [batch: 2520 / 6299], examples_per_second: 3865.5469, train_label_loss: 0.0000, \n"
     ]
    },
    {
     "name": "stdout",
     "output_type": "stream",
     "text": [
      "epoch: 3, [batch: 3150 / 6299], examples_per_second: 3955.7907, train_label_loss: 0.0000, \n"
     ]
    },
    {
     "name": "stdout",
     "output_type": "stream",
     "text": [
      "epoch: 3, [batch: 3779 / 6299], examples_per_second: 3950.8519, train_label_loss: 0.0000, \n"
     ]
    },
    {
     "name": "stdout",
     "output_type": "stream",
     "text": [
      "epoch: 3, [batch: 4409 / 6299], examples_per_second: 3924.6040, train_label_loss: 0.0000, \n"
     ]
    },
    {
     "name": "stdout",
     "output_type": "stream",
     "text": [
      "epoch: 3, [batch: 5039 / 6299], examples_per_second: 3959.2895, train_label_loss: 0.0003, \n"
     ]
    },
    {
     "name": "stdout",
     "output_type": "stream",
     "text": [
      "epoch: 3, [batch: 5669 / 6299], examples_per_second: 3990.3700, train_label_loss: 0.0018, \n"
     ]
    },
    {
     "name": "stdout",
     "output_type": "stream",
     "text": [
      "=============================================================\n",
      "epoch: 3, source_val_acc_label: 0.9961, target_val_acc_label: 0.4037, source_val_label_loss: 0.0261, target_val_label_loss: 1.8134, \n",
      "=============================================================\n"
     ]
    },
    {
     "name": "stdout",
     "output_type": "stream",
     "text": [
      "epoch: 4, [batch: 1 / 6316], examples_per_second: 4.3665, train_label_loss: 0.0011, \n"
     ]
    },
    {
     "name": "stdout",
     "output_type": "stream",
     "text": [
      "epoch: 4, [batch: 632 / 6316], examples_per_second: 3929.0456, train_label_loss: 0.0001, \n"
     ]
    },
    {
     "name": "stdout",
     "output_type": "stream",
     "text": [
      "epoch: 4, [batch: 1264 / 6316], examples_per_second: 3987.1609, train_label_loss: 0.0000, \n"
     ]
    },
    {
     "name": "stdout",
     "output_type": "stream",
     "text": [
      "epoch: 4, [batch: 1895 / 6316], examples_per_second: 3962.6719, train_label_loss: 0.0038, \n"
     ]
    },
    {
     "name": "stdout",
     "output_type": "stream",
     "text": [
      "epoch: 4, [batch: 2527 / 6316], examples_per_second: 3865.4817, train_label_loss: 0.0172, \n"
     ]
    },
    {
     "name": "stdout",
     "output_type": "stream",
     "text": [
      "epoch: 4, [batch: 3158 / 6316], examples_per_second: 3847.5702, train_label_loss: 0.0000, \n"
     ]
    },
    {
     "name": "stdout",
     "output_type": "stream",
     "text": [
      "epoch: 4, [batch: 3790 / 6316], examples_per_second: 3805.7835, train_label_loss: 0.0001, \n"
     ]
    },
    {
     "name": "stdout",
     "output_type": "stream",
     "text": [
      "epoch: 4, [batch: 4421 / 6316], examples_per_second: 3844.6014, train_label_loss: 0.0000, \n"
     ]
    },
    {
     "name": "stdout",
     "output_type": "stream",
     "text": [
      "epoch: 4, [batch: 5053 / 6316], examples_per_second: 3998.2159, train_label_loss: 0.0011, \n"
     ]
    },
    {
     "name": "stdout",
     "output_type": "stream",
     "text": [
      "epoch: 4, [batch: 5684 / 6316], examples_per_second: 3953.6966, train_label_loss: 0.0002, \n"
     ]
    },
    {
     "name": "stdout",
     "output_type": "stream",
     "text": [
      "=============================================================\n",
      "epoch: 4, source_val_acc_label: 0.9973, target_val_acc_label: 0.3939, source_val_label_loss: 0.0139, target_val_label_loss: 1.7380, \n",
      "=============================================================\n"
     ]
    },
    {
     "name": "stdout",
     "output_type": "stream",
     "text": [
      "epoch: 5, [batch: 1 / 6313], examples_per_second: 4.3810, train_label_loss: 0.0008, \n"
     ]
    },
    {
     "name": "stdout",
     "output_type": "stream",
     "text": [
      "epoch: 5, [batch: 632 / 6313], examples_per_second: 3833.8080, train_label_loss: 0.0383, \n"
     ]
    },
    {
     "name": "stdout",
     "output_type": "stream",
     "text": [
      "epoch: 5, [batch: 1263 / 6313], examples_per_second: 3999.2107, train_label_loss: 0.0006, \n"
     ]
    },
    {
     "name": "stdout",
     "output_type": "stream",
     "text": [
      "epoch: 5, [batch: 1894 / 6313], examples_per_second: 4009.6012, train_label_loss: 0.0036, \n"
     ]
    },
    {
     "name": "stdout",
     "output_type": "stream",
     "text": [
      "epoch: 5, [batch: 2525 / 6313], examples_per_second: 3984.8397, train_label_loss: 0.0001, \n"
     ]
    },
    {
     "name": "stdout",
     "output_type": "stream",
     "text": [
      "epoch: 5, [batch: 3157 / 6313], examples_per_second: 3976.4095, train_label_loss: 0.0002, \n"
     ]
    },
    {
     "name": "stdout",
     "output_type": "stream",
     "text": [
      "epoch: 5, [batch: 3788 / 6313], examples_per_second: 4020.6344, train_label_loss: 0.0091, \n"
     ]
    },
    {
     "name": "stdout",
     "output_type": "stream",
     "text": [
      "epoch: 5, [batch: 4419 / 6313], examples_per_second: 3978.2393, train_label_loss: 0.0000, \n"
     ]
    },
    {
     "name": "stdout",
     "output_type": "stream",
     "text": [
      "epoch: 5, [batch: 5050 / 6313], examples_per_second: 4000.2697, train_label_loss: 0.0000, \n"
     ]
    },
    {
     "name": "stdout",
     "output_type": "stream",
     "text": [
      "epoch: 5, [batch: 5681 / 6313], examples_per_second: 3999.2767, train_label_loss: 0.0001, \n"
     ]
    },
    {
     "name": "stdout",
     "output_type": "stream",
     "text": [
      "=============================================================\n",
      "epoch: 5, source_val_acc_label: 0.9963, target_val_acc_label: 0.3820, source_val_label_loss: 0.0191, target_val_label_loss: 1.7396, \n",
      "=============================================================\n"
     ]
    },
    {
     "name": "stdout",
     "output_type": "stream",
     "text": [
      "epoch: 6, [batch: 1 / 6307], examples_per_second: 4.3569, train_label_loss: 0.0000, \n"
     ]
    },
    {
     "name": "stdout",
     "output_type": "stream",
     "text": [
      "epoch: 6, [batch: 631 / 6307], examples_per_second: 3816.1148, train_label_loss: 0.0013, \n"
     ]
    },
    {
     "name": "stdout",
     "output_type": "stream",
     "text": [
      "epoch: 6, [batch: 1262 / 6307], examples_per_second: 3892.4135, train_label_loss: 0.0011, \n"
     ]
    },
    {
     "name": "stdout",
     "output_type": "stream",
     "text": [
      "epoch: 6, [batch: 1892 / 6307], examples_per_second: 4017.6367, train_label_loss: 0.0037, \n"
     ]
    },
    {
     "name": "stdout",
     "output_type": "stream",
     "text": [
      "epoch: 6, [batch: 2523 / 6307], examples_per_second: 3883.3720, train_label_loss: 0.0138, \n"
     ]
    },
    {
     "name": "stdout",
     "output_type": "stream",
     "text": [
      "epoch: 6, [batch: 3154 / 6307], examples_per_second: 3916.4969, train_label_loss: 0.0000, \n"
     ]
    },
    {
     "name": "stdout",
     "output_type": "stream",
     "text": [
      "epoch: 6, [batch: 3784 / 6307], examples_per_second: 3788.9607, train_label_loss: 0.0002, \n"
     ]
    },
    {
     "name": "stdout",
     "output_type": "stream",
     "text": [
      "epoch: 6, [batch: 4415 / 6307], examples_per_second: 3823.5367, train_label_loss: 0.0000, \n"
     ]
    },
    {
     "name": "stdout",
     "output_type": "stream",
     "text": [
      "epoch: 6, [batch: 5045 / 6307], examples_per_second: 3799.7029, train_label_loss: 0.0000, \n"
     ]
    },
    {
     "name": "stdout",
     "output_type": "stream",
     "text": [
      "epoch: 6, [batch: 5676 / 6307], examples_per_second: 3797.6616, train_label_loss: 0.0096, \n"
     ]
    },
    {
     "name": "stdout",
     "output_type": "stream",
     "text": [
      "=============================================================\n",
      "epoch: 6, source_val_acc_label: 0.9989, target_val_acc_label: 0.3732, source_val_label_loss: 0.0132, target_val_label_loss: 1.9134, \n",
      "=============================================================\n"
     ]
    },
    {
     "name": "stdout",
     "output_type": "stream",
     "text": [
      "Patience (3) exhausted\n"
     ]
    }
   ],
   "source": [
    "###################################\n",
    "# train\n",
    "###################################\n",
    "jig = PTN_Train_Eval_Test_Jig(model, p.BEST_MODEL_PATH, p.device)\n",
    "\n",
    "jig.train(\n",
    "    train_iterable=datasets.source.processed.train,\n",
    "    source_val_iterable=datasets.source.processed.val,\n",
    "    target_val_iterable=datasets.target.processed.val,\n",
    "    num_epochs=p.n_epoch,\n",
    "    num_logs_per_epoch=p.NUM_LOGS_PER_EPOCH,\n",
    "    patience=p.patience,\n",
    "    optimizer=optimizer,\n",
    "    criteria_for_best=p.criteria_for_best,\n",
    ")"
   ]
  },
  {
   "cell_type": "code",
   "execution_count": 23,
   "id": "31e8fabf",
   "metadata": {
    "execution": {
     "iopub.execute_input": "2022-03-28T08:41:35.929030Z",
     "iopub.status.busy": "2022-03-28T08:41:35.928672Z",
     "iopub.status.idle": "2022-03-28T08:41:35.964733Z",
     "shell.execute_reply": "2022-03-28T08:41:35.963972Z"
    },
    "papermill": {
     "duration": 0.08189,
     "end_time": "2022-03-28T08:41:35.964920",
     "exception": false,
     "start_time": "2022-03-28T08:41:35.883030",
     "status": "completed"
    },
    "tags": []
   },
   "outputs": [],
   "source": [
    "total_experiment_time_secs = time.time() - start_time_secs"
   ]
  },
  {
   "cell_type": "code",
   "execution_count": 24,
   "id": "87b9595b",
   "metadata": {
    "execution": {
     "iopub.execute_input": "2022-03-28T08:41:36.063195Z",
     "iopub.status.busy": "2022-03-28T08:41:36.062354Z",
     "iopub.status.idle": "2022-03-28T08:44:21.720666Z",
     "shell.execute_reply": "2022-03-28T08:44:21.719919Z"
    },
    "papermill": {
     "duration": 165.71042,
     "end_time": "2022-03-28T08:44:21.720856",
     "exception": false,
     "start_time": "2022-03-28T08:41:36.010436",
     "status": "completed"
    },
    "tags": []
   },
   "outputs": [],
   "source": [
    "###################################\n",
    "# Evaluate the model\n",
    "###################################\n",
    "source_test_label_accuracy, source_test_label_loss = jig.test(datasets.source.processed.test)\n",
    "target_test_label_accuracy, target_test_label_loss = jig.test(datasets.target.processed.test)\n",
    "\n",
    "source_val_label_accuracy, source_val_label_loss = jig.test(datasets.source.processed.val)\n",
    "target_val_label_accuracy, target_val_label_loss = jig.test(datasets.target.processed.val)\n",
    "\n",
    "history = jig.get_history()\n",
    "\n",
    "total_epochs_trained = len(history[\"epoch_indices\"])\n",
    "\n",
    "val_dl = Iterable_Aggregator((datasets.source.original.val,datasets.target.original.val))\n",
    "\n",
    "confusion = ptn_confusion_by_domain_over_dataloader(model, p.device, val_dl)\n",
    "per_domain_accuracy = per_domain_accuracy_from_confusion(confusion)\n",
    "\n",
    "# Add a key to per_domain_accuracy for if it was a source domain\n",
    "for domain, accuracy in per_domain_accuracy.items():\n",
    "    per_domain_accuracy[domain] = {\n",
    "        \"accuracy\": accuracy,\n",
    "        \"source?\": domain in p.domains_source\n",
    "    }\n",
    "\n",
    "# Do an independent accuracy assesment JUST TO BE SURE!\n",
    "# _source_test_label_accuracy = independent_accuracy_assesment(model, datasets.source.processed.test, p.device)\n",
    "# _target_test_label_accuracy = independent_accuracy_assesment(model, datasets.target.processed.test, p.device)\n",
    "# _source_val_label_accuracy = independent_accuracy_assesment(model, datasets.source.processed.val, p.device)\n",
    "# _target_val_label_accuracy = independent_accuracy_assesment(model, datasets.target.processed.val, p.device)\n",
    "\n",
    "# assert(_source_test_label_accuracy == source_test_label_accuracy)\n",
    "# assert(_target_test_label_accuracy == target_test_label_accuracy)\n",
    "# assert(_source_val_label_accuracy == source_val_label_accuracy)\n",
    "# assert(_target_val_label_accuracy == target_val_label_accuracy)\n",
    "\n",
    "experiment = {\n",
    "    \"experiment_name\": p.experiment_name,\n",
    "    \"parameters\": dict(p),\n",
    "    \"results\": {\n",
    "        \"source_test_label_accuracy\": source_test_label_accuracy,\n",
    "        \"source_test_label_loss\": source_test_label_loss,\n",
    "        \"target_test_label_accuracy\": target_test_label_accuracy,\n",
    "        \"target_test_label_loss\": target_test_label_loss,\n",
    "        \"source_val_label_accuracy\": source_val_label_accuracy,\n",
    "        \"source_val_label_loss\": source_val_label_loss,\n",
    "        \"target_val_label_accuracy\": target_val_label_accuracy,\n",
    "        \"target_val_label_loss\": target_val_label_loss,\n",
    "        \"total_epochs_trained\": total_epochs_trained,\n",
    "        \"total_experiment_time_secs\": total_experiment_time_secs,\n",
    "        \"confusion\": confusion,\n",
    "        \"per_domain_accuracy\": per_domain_accuracy,\n",
    "    },\n",
    "    \"history\": history,\n",
    "    \"dataset_metrics\": get_dataset_metrics(datasets, \"ptn\"),\n",
    "}"
   ]
  },
  {
   "cell_type": "code",
   "execution_count": 25,
   "id": "54a21829",
   "metadata": {
    "execution": {
     "iopub.execute_input": "2022-03-28T08:44:21.817044Z",
     "iopub.status.busy": "2022-03-28T08:44:21.816669Z",
     "iopub.status.idle": "2022-03-28T08:44:22.036105Z",
     "shell.execute_reply": "2022-03-28T08:44:22.036790Z"
    },
    "papermill": {
     "duration": 0.266592,
     "end_time": "2022-03-28T08:44:22.036981",
     "exception": false,
     "start_time": "2022-03-28T08:44:21.770389",
     "status": "completed"
    },
    "tags": []
   },
   "outputs": [
    {
     "data": {
      "image/png": "[encoded data removed]",
      "text/plain": [
       "<Figure size 1080x504 with 1 Axes>"
      ]
     },
     "metadata": {
      "needs_background": "light"
     },
     "output_type": "display_data"
    }
   ],
   "source": [
    "ax = get_loss_curve(experiment)\n",
    "plt.show()"
   ]
  },
  {
   "cell_type": "code",
   "execution_count": 26,
   "id": "fd8a0f60",
   "metadata": {
    "execution": {
     "iopub.execute_input": "2022-03-28T08:44:22.134086Z",
     "iopub.status.busy": "2022-03-28T08:44:22.133717Z",
     "iopub.status.idle": "2022-03-28T08:44:22.483709Z",
     "shell.execute_reply": "2022-03-28T08:44:22.484014Z"
    },
    "papermill": {
     "duration": 0.397166,
     "end_time": "2022-03-28T08:44:22.484108",
     "exception": false,
     "start_time": "2022-03-28T08:44:22.086942",
     "status": "completed"
    },
    "tags": []
   },
   "outputs": [
    {
     "data": {
      "text/plain": [
       "<AxesSubplot:title={'center':'Results'}>"
      ]
     },
     "execution_count": 26,
     "metadata": {},
     "output_type": "execute_result"
    },
    {
     "data": {
      "image/png": "[encoded data removed]",
      "text/plain": [
       "<Figure size 1080x504 with 1 Axes>"
      ]
     },
     "metadata": {
      "needs_background": "light"
     },
     "output_type": "display_data"
    }
   ],
   "source": [
    "get_results_table(experiment)"
   ]
  },
  {
   "cell_type": "code",
   "execution_count": 27,
   "id": "cf8dc689",
   "metadata": {
    "execution": {
     "iopub.execute_input": "2022-03-28T08:44:22.577135Z",
     "iopub.status.busy": "2022-03-28T08:44:22.576768Z",
     "iopub.status.idle": "2022-03-28T08:44:22.815585Z",
     "shell.execute_reply": "2022-03-28T08:44:22.816274Z"
    },
    "papermill": {
     "duration": 0.287689,
     "end_time": "2022-03-28T08:44:22.816464",
     "exception": false,
     "start_time": "2022-03-28T08:44:22.528775",
     "status": "completed"
    },
    "tags": []
   },
   "outputs": [
    {
     "data": {
      "text/plain": [
       "<AxesSubplot:title={'center':'Per Domain Validation Accuracy'}, xlabel='domain'>"
      ]
     },
     "execution_count": 27,
     "metadata": {},
     "output_type": "execute_result"
    },
    {
     "data": {
      "image/png": "[encoded data removed]",
      "text/plain": [
       "<Figure size 1080x504 with 1 Axes>"
      ]
     },
     "metadata": {
      "needs_background": "light"
     },
     "output_type": "display_data"
    }
   ],
   "source": [
    "get_domain_accuracies(experiment)"
   ]
  },
  {
   "cell_type": "code",
   "execution_count": 28,
   "id": "a74ae082",
   "metadata": {
    "execution": {
     "iopub.execute_input": "2022-03-28T08:44:22.916403Z",
     "iopub.status.busy": "2022-03-28T08:44:22.916024Z",
     "iopub.status.idle": "2022-03-28T08:44:22.937810Z",
     "shell.execute_reply": "2022-03-28T08:44:22.938492Z"
    },
    "papermill": {
     "duration": 0.071596,
     "end_time": "2022-03-28T08:44:22.938675",
     "exception": false,
     "start_time": "2022-03-28T08:44:22.867079",
     "status": "completed"
    },
    "tags": []
   },
   "outputs": [
    {
     "name": "stdout",
     "output_type": "stream",
     "text": [
      "Source Test Label Accuracy: 0.9906426553672316 Target Test Label Accuracy: 0.46640625\n",
      "Source Val Label Accuracy: 0.9911071428571429 Target Val Label Accuracy: 0.469140625\n"
     ]
    }
   ],
   "source": [
    "print(\"Source Test Label Accuracy:\", experiment[\"results\"][\"source_test_label_accuracy\"], \"Target Test Label Accuracy:\", experiment[\"results\"][\"target_test_label_accuracy\"])\n",
    "print(\"Source Val Label Accuracy:\", experiment[\"results\"][\"source_val_label_accuracy\"], \"Target Val Label Accuracy:\", experiment[\"results\"][\"target_val_label_accuracy\"])"
   ]
  },
  {
   "cell_type": "code",
   "execution_count": 29,
   "id": "dacca602",
   "metadata": {
    "execution": {
     "iopub.execute_input": "2022-03-28T08:44:23.040051Z",
     "iopub.status.busy": "2022-03-28T08:44:23.039682Z",
     "iopub.status.idle": "2022-03-28T08:44:23.064300Z",
     "shell.execute_reply": "2022-03-28T08:44:23.064973Z"
    },
    "papermill": {
     "duration": 0.074644,
     "end_time": "2022-03-28T08:44:23.065155",
     "exception": false,
     "start_time": "2022-03-28T08:44:22.990511",
     "status": "completed"
    },
    "tags": [
     "experiment_json"
    ]
   },
   "outputs": [
    {
     "data": {
      "text/plain": [
       "'{\"experiment_name\": \"tl_3-jitter10v2:cores -> oracle.run1.framed\", \"parameters\": {\"experiment_name\": \"tl_3-jitter10v2:cores -> oracle.run1.framed\", \"device\": \"cuda\", \"lr\": 0.0001, \"x_shape\": [2, 256], \"n_shot\": 3, \"n_query\": 2, \"train_k_factor\": 3, \"val_k_factor\": 2, \"test_k_factor\": 2, \"torch_default_dtype\": \"torch.float32\", \"n_epoch\": 50, \"patience\": 3, \"criteria_for_best\": \"target_accuracy\", \"x_net\": [{\"class\": \"nnReshape\", \"kargs\": {\"shape\": [-1, 1, 2, 256]}}, {\"class\": \"Conv2d\", \"kargs\": {\"in_channels\": 1, \"out_channels\": 256, \"kernel_size\": [1, 7], \"bias\": false, \"padding\": [0, 3]}}, {\"class\": \"ReLU\", \"kargs\": {\"inplace\": true}}, {\"class\": \"BatchNorm2d\", \"kargs\": {\"num_features\": 256}}, {\"class\": \"Conv2d\", \"kargs\": {\"in_channels\": 256, \"out_channels\": 80, \"kernel_size\": [2, 7], \"bias\": true, \"padding\": [0, 3]}}, {\"class\": \"ReLU\", \"kargs\": {\"inplace\": true}}, {\"class\": \"BatchNorm2d\", \"kargs\": {\"num_features\": 80}}, {\"class\": \"Flatten\", \"kargs\": {}}, {\"class\": \"Linear\", \"kargs\": {\"in_features\": 20480, \"out_features\": 256}}, {\"class\": \"ReLU\", \"kargs\": {\"inplace\": true}}, {\"class\": \"BatchNorm1d\", \"kargs\": {\"num_features\": 256}}, {\"class\": \"Linear\", \"kargs\": {\"in_features\": 256, \"out_features\": 256}}], \"NUM_LOGS_PER_EPOCH\": 10, \"BEST_MODEL_PATH\": \"./best_model.pth\", \"n_way\": 16, \"datasets\": [{\"labels\": [\"1-10.\", \"1-11.\", \"1-15.\", \"1-16.\", \"1-17.\", \"1-18.\", \"1-19.\", \"10-4.\", \"10-7.\", \"11-1.\", \"11-14.\", \"11-17.\", \"11-20.\", \"11-7.\", \"13-20.\", \"13-8.\", \"14-10.\", \"14-11.\", \"14-14.\", \"14-7.\", \"15-1.\", \"15-20.\", \"16-1.\", \"16-16.\", \"17-10.\", \"17-11.\", \"17-2.\", \"19-1.\", \"19-16.\", \"19-19.\", \"19-20.\", \"19-3.\", \"2-10.\", \"2-11.\", \"2-17.\", \"2-18.\", \"2-20.\", \"2-3.\", \"2-4.\", \"2-5.\", \"2-6.\", \"2-7.\", \"2-8.\", \"3-13.\", \"3-18.\", \"3-3.\", \"4-1.\", \"4-10.\", \"4-11.\", \"4-19.\", \"5-5.\", \"6-15.\", \"7-10.\", \"7-14.\", \"8-18.\", \"8-20.\", \"8-3.\", \"8-8.\"], \"domains\": [1, 2, 3, 4, 5], \"num_examples_per_domain_per_label\": -1, \"pickle_path\": \"/root/csc500-main/datasets/cores.stratified_ds.2022A.pkl\", \"source_or_target_dataset\": \"source\", \"x_transforms\": [\"jitter_256_10\", \"lowpass_+/-10MHz\", \"take_200\"], \"episode_transforms\": [], \"domain_prefix\": \"C_\"}, {\"labels\": [\"3123D52\", \"3123D65\", \"3123D79\", \"3123D80\", \"3123D54\", \"3123D70\", \"3123D7B\", \"3123D89\", \"3123D58\", \"3123D76\", \"3123D7D\", \"3123EFE\", \"3123D64\", \"3123D78\", \"3123D7E\", \"3124E4A\"], \"domains\": [32, 38, 8, 44, 14, 50, 20, 26], \"num_examples_per_domain_per_label\": 2000, \"pickle_path\": \"/root/csc500-main/datasets/oracle.Run1_framed_2000Examples_stratified_ds.2022A.pkl\", \"source_or_target_dataset\": \"target\", \"x_transforms\": [\"jitter_256_10\", \"take_200\", \"resample_20Msps_to_25Msps\"], \"episode_transforms\": [], \"domain_prefix\": \"O_\"}], \"seed\": 7, \"dataset_seed\": 7, \"domains_source\": [\"C_1\", \"C_2\", \"C_3\", \"C_4\", \"C_5\"], \"domains_target\": [\"O_32\", \"O_38\", \"O_8\", \"O_44\", \"O_14\", \"O_50\", \"O_20\", \"O_26\"]}, \"results\": {\"source_test_label_accuracy\": 0.9906426553672316, \"source_test_label_loss\": 0.17885953187942505, \"target_test_label_accuracy\": 0.46640625, \"target_test_label_loss\": 1.6083321571350098, \"source_val_label_accuracy\": 0.9911071428571429, \"source_val_label_loss\": 0.1568131297826767, \"target_val_label_accuracy\": 0.469140625, \"target_val_label_loss\": 1.5825127363204956, \"total_epochs_trained\": 6, \"total_experiment_time_secs\": 1004.537264585495, \"confusion\": {\"C_5\": {\"26\": {\"26\": 24}, \"7\": {\"7\": 31, \"38\": 1}, \"56\": {\"56\": 142}, \"36\": {\"36\": 92}, \"47\": {\"47\": 98, \"52\": 2}, \"2\": {\"2\": 27, \"15\": 1}, \"15\": {\"15\": 149, \"11\": 3}, \"14\": {\"14\": 44}, \"27\": {\"27\": 146}, \"40\": {\"40\": 124}, \"49\": {\"49\": 36}, \"45\": {\"45\": 113, \"6\": 8, \"50\": 3}, \"46\": {\"46\": 135, \"44\": 1}, \"11\": {\"11\": 129, \"15\": 1}, \"30\": {\"30\": 112}, \"0\": {\"0\": 124}, \"10\": {\"10\": 68}, \"1\": {\"1\": 148}, \"42\": {\"42\": 38, \"10\": 1, \"16\": 1}, \"54\": {\"54\": 111, \"34\": 1}, \"55\": {\"55\": 152}, \"23\": {\"23\": 124}, \"25\": {\"25\": 152}, \"28\": {\"28\": 32}, \"32\": {\"32\": 30, \"51\": 2}, \"9\": {\"9\": 142}, \"39\": {\"39\": 19, \"42\": 1}, \"3\": {\"3\": 94, \"22\": 2, \"44\": 4}, \"29\": {\"29\": 118}, \"17\": {\"17\": 116}, \"35\": {\"35\": 36}, \"44\": {\"44\": 151, \"3\": 1}, \"5\": {\"5\": 128}, \"33\": {\"33\": 30, \"41\": 2}, \"34\": {\"34\": 35, \"23\": 1}, \"13\": {\"13\": 138}, \"41\": {\"41\": 18, \"39\": 1, \"33\": 5, \"54\": 1, \"42\": 2, \"36\": 1}, \"6\": {\"6\": 121, \"45\": 5, \"50\": 2}, \"51\": {\"51\": 135, \"32\": 3}, \"50\": {\"50\": 144}, \"37\": {\"37\": 23, \"29\": 1}, \"19\": {\"19\": 144}, \"57\": {\"57\": 132}, \"21\": {\"21\": 144}, \"24\": {\"24\": 80}, \"8\": {\"8\": 125, \"27\": 5}, \"12\": {\"12\": 96}, \"48\": {\"48\": 132}, \"43\": {\"43\": 150}, \"53\": {\"53\": 147, \"19\": 1}, \"38\": {\"38\": 30, \"7\": 2}, \"16\": {\"16\": 142}, \"22\": {\"22\": 28}, \"4\": {\"4\": 100}, \"18\": {\"18\": 64}, \"20\": {\"20\": 144}, \"52\": {\"52\": 138, \"47\": 2}, \"31\": {\"31\": 36}}, \"C_1\": {\"41\": {\"41\": 21, \"8\": 2, \"55\": 1}, \"40\": {\"40\": 110}, \"45\": {\"45\": 138}, \"51\": {\"51\": 148}, \"5\": {\"5\": 154}, \"30\": {\"30\": 119, \"14\": 1}, \"42\": {\"42\": 34, \"19\": 5, \"16\": 1}, \"46\": {\"46\": 136}, \"48\": {\"48\": 134}, \"53\": {\"53\": 144}, \"47\": {\"47\": 152}, \"49\": {\"49\": 31, \"43\": 1}, \"36\": {\"36\": 64}, \"32\": {\"32\": 30, \"35\": 2}, \"34\": {\"34\": 24}, \"29\": {\"29\": 139, \"57\": 1}, \"35\": {\"35\": 36}, \"3\": {\"3\": 133, \"56\": 1}, \"16\": {\"16\": 140}, \"26\": {\"26\": 24}, \"57\": {\"57\": 142, \"29\": 2}, \"44\": {\"44\": 128}, \"0\": {\"0\": 152}, \"4\": {\"4\": 132}, \"31\": {\"31\": 28}, \"11\": {\"11\": 140}, \"6\": {\"6\": 96}, \"54\": {\"54\": 104}, \"17\": {\"17\": 64}, \"20\": {\"20\": 127, \"12\": 1}, \"13\": {\"13\": 150}, \"33\": {\"33\": 32}, \"24\": {\"24\": 108}, \"52\": {\"52\": 132}, \"2\": {\"2\": 36}, \"19\": {\"19\": 156}, \"39\": {\"47\": 3, \"39\": 19, \"24\": 2, \"49\": 1, \"43\": 1, \"31\": 1, \"23\": 1}, \"8\": {\"8\": 140}, \"21\": {\"21\": 124}, \"10\": {\"10\": 92, \"11\": 4}, \"37\": {\"37\": 27, \"54\": 3, \"35\": 2}, \"25\": {\"25\": 144}, \"27\": {\"27\": 130}, \"23\": {\"23\": 136}, \"1\": {\"1\": 100}, \"50\": {\"50\": 152}, \"12\": {\"12\": 113, \"25\": 1, \"13\": 2}, \"18\": {\"18\": 72}, \"38\": {\"38\": 16, \"55\": 2, \"36\": 2, \"47\": 1, \"24\": 2, \"23\": 1}, \"14\": {\"30\": 2, \"14\": 22}, \"56\": {\"56\": 142}, \"55\": {\"55\": 160}, \"9\": {\"9\": 138}, \"15\": {\"15\": 145, \"11\": 1}, \"28\": {\"28\": 28}, \"7\": {\"7\": 28}, \"43\": {\"43\": 136}, \"22\": {\"22\": 134, \"21\": 1, \"0\": 1}}, \"C_3\": {\"1\": {\"1\": 99, \"47\": 1}, \"9\": {\"9\": 124}, \"22\": {\"22\": 136}, \"43\": {\"43\": 136}, \"49\": {\"49\": 15, \"31\": 1, \"10\": 4}, \"50\": {\"50\": 135, \"21\": 1, \"46\": 2}, \"53\": {\"53\": 136}, \"10\": {\"10\": 64}, \"48\": {\"48\": 115, \"41\": 1}, \"8\": {\"8\": 138}, \"31\": {\"31\": 28}, \"56\": {\"56\": 134}, \"25\": {\"25\": 142}, \"28\": {\"28\": 28}, \"38\": {\"38\": 28}, \"5\": {\"5\": 116}, \"12\": {\"12\": 92}, \"6\": {\"6\": 88}, \"19\": {\"19\": 152}, \"26\": {\"26\": 24}, \"32\": {\"32\": 28}, \"33\": {\"33\": 28}, \"3\": {\"3\": 117, \"5\": 1}, \"51\": {\"51\": 128}, \"16\": {\"16\": 138}, \"46\": {\"46\": 140}, \"7\": {\"7\": 30, \"11\": 4, \"15\": 2}, \"47\": {\"47\": 92}, \"39\": {\"39\": 16}, \"40\": {\"40\": 136}, \"14\": {\"14\": 34, \"13\": 6}, \"37\": {\"37\": 28}, \"2\": {\"2\": 32}, \"21\": {\"21\": 120}, \"35\": {\"35\": 28}, \"54\": {\"54\": 100}, \"52\": {\"52\": 116}, \"29\": {\"29\": 118}, \"20\": {\"20\": 130, \"9\": 2}, \"18\": {\"18\": 84}, \"11\": {\"11\": 138, \"15\": 4}, \"0\": {\"0\": 124}, \"36\": {\"36\": 100}, \"17\": {\"17\": 108}, \"30\": {\"30\": 114}, \"42\": {\"42\": 28}, \"45\": {\"45\": 59, \"6\": 1}, \"4\": {\"4\": 147, \"20\": 1}, \"23\": {\"23\": 134}, \"13\": {\"13\": 126, \"14\": 2}, \"15\": {\"15\": 128}, \"57\": {\"57\": 124}, \"27\": {\"27\": 134}, \"44\": {\"44\": 88}, \"34\": {\"34\": 31, \"26\": 1}, \"41\": {\"41\": 20, \"48\": 8}, \"24\": {\"24\": 104}, \"55\": {\"55\": 118}}, \"C_4\": {\"52\": {\"52\": 116}, \"6\": {\"6\": 108, \"50\": 1, \"5\": 2, \"3\": 1}, \"14\": {\"14\": 11, \"0\": 1, \"24\": 1, \"41\": 2, \"13\": 1}, \"49\": {\"49\": 18, \"32\": 1, \"43\": 1}, \"0\": {\"0\": 80}, \"46\": {\"46\": 154, \"22\": 2}, \"41\": {\"41\": 36}, \"24\": {\"24\": 56}, \"25\": {\"25\": 152}, \"40\": {\"40\": 137, \"44\": 1}, \"38\": {\"14\": 1, \"38\": 35, \"43\": 2, \"2\": 1, \"13\": 1}, \"13\": {\"13\": 152}, \"9\": {\"9\": 106, \"4\": 2}, \"45\": {\"45\": 94, \"50\": 1, \"6\": 1}, \"43\": {\"43\": 144}, \"10\": {\"10\": 130}, \"15\": {\"15\": 128}, \"39\": {\"39\": 19, \"41\": 1}, \"4\": {\"4\": 131, \"9\": 1}, \"53\": {\"53\": 130, \"19\": 2}, \"1\": {\"1\": 40}, \"28\": {\"28\": 32}, \"54\": {\"54\": 108}, \"21\": {\"21\": 132}, \"7\": {\"7\": 21, \"32\": 1, \"49\": 2}, \"8\": {\"8\": 136}, \"42\": {\"42\": 32}, \"11\": {\"11\": 102, \"15\": 2}, \"33\": {\"33\": 35, \"41\": 1}, \"27\": {\"27\": 142}, \"19\": {\"19\": 144}, \"2\": {\"2\": 34, \"38\": 1, \"43\": 1}, \"3\": {\"3\": 116, \"50\": 3, \"6\": 1}, \"57\": {\"57\": 100}, \"20\": {\"20\": 112}, \"23\": {\"23\": 128}, \"22\": {\"22\": 128}, \"29\": {\"29\": 123, \"47\": 1}, \"36\": {\"36\": 92}, \"51\": {\"51\": 131, \"36\": 1}, \"31\": {\"31\": 28}, \"12\": {\"12\": 92}, \"56\": {\"56\": 138}, \"5\": {\"5\": 108}, \"35\": {\"35\": 40}, \"17\": {\"17\": 80}, \"32\": {\"32\": 23, \"7\": 1}, \"47\": {\"47\": 120}, \"18\": {\"18\": 106, \"11\": 1, \"53\": 1}, \"26\": {\"26\": 23, \"36\": 1}, \"50\": {\"50\": 112, \"6\": 3, \"3\": 7}, \"55\": {\"55\": 124}, \"34\": {\"34\": 21, \"28\": 2, \"23\": 1}, \"30\": {\"30\": 44}, \"37\": {\"37\": 18, \"41\": 2, \"57\": 1, \"1\": 1, \"43\": 2}, \"44\": {\"44\": 132}, \"48\": {\"48\": 118}, \"16\": {\"16\": 96}}, \"C_2\": {\"11\": {\"11\": 130}, \"21\": {\"21\": 120}, \"19\": {\"19\": 140}, \"20\": {\"20\": 128}, \"9\": {\"9\": 140}, \"10\": {\"10\": 112}, \"37\": {\"37\": 36}, \"32\": {\"32\": 28}, \"3\": {\"3\": 92}, \"39\": {\"39\": 28}, \"45\": {\"45\": 125, \"6\": 2, \"12\": 1}, \"50\": {\"50\": 136}, \"40\": {\"40\": 138, \"57\": 1, \"9\": 1}, \"46\": {\"46\": 128}, \"12\": {\"12\": 92}, \"13\": {\"13\": 116}, \"47\": {\"47\": 132}, \"15\": {\"15\": 142}, \"54\": {\"54\": 108}, \"48\": {\"48\": 148}, \"23\": {\"23\": 142}, \"29\": {\"29\": 127, \"23\": 1}, \"38\": {\"38\": 20}, \"53\": {\"53\": 135, \"19\": 1}, \"27\": {\"27\": 150}, \"43\": {\"43\": 144}, \"35\": {\"35\": 30, \"41\": 1, \"2\": 1}, \"0\": {\"0\": 48}, \"52\": {\"52\": 124}, \"8\": {\"8\": 128}, \"24\": {\"24\": 96}, \"18\": {\"18\": 48}, \"25\": {\"25\": 148}, \"57\": {\"57\": 136}, \"55\": {\"55\": 134}, \"36\": {\"36\": 116}, \"17\": {\"17\": 104}, \"2\": {\"2\": 32}, \"34\": {\"34\": 28}, \"1\": {\"1\": 111, \"47\": 1}, \"51\": {\"51\": 136}, \"31\": {\"31\": 28}, \"49\": {\"49\": 23, \"2\": 1}, \"14\": {\"13\": 4, \"14\": 19, \"37\": 1}, \"33\": {\"33\": 26, \"35\": 1, \"39\": 1}, \"41\": {\"41\": 15, \"23\": 2, \"9\": 1, \"4\": 1, \"52\": 1}, \"28\": {\"28\": 28}, \"5\": {\"5\": 120}, \"16\": {\"16\": 150}, \"4\": {\"4\": 128}, \"22\": {\"22\": 136}, \"6\": {\"6\": 118}, \"30\": {\"30\": 124}, \"26\": {\"26\": 24}, \"56\": {\"56\": 142}, \"42\": {\"42\": 36}, \"44\": {\"44\": 100}, \"7\": {\"7\": 35, \"42\": 1}}, \"O_26\": {\"0\": {\"8\": 18, \"2\": 38, \"7\": 7, \"0\": 91, \"6\": 4, \"10\": 32, \"1\": 10, \"14\": 33, \"5\": 2, \"15\": 2, \"9\": 3}, \"4\": {\"4\": 232, \"3\": 4, \"7\": 1, \"13\": 3}, \"14\": {\"14\": 69, \"0\": 39, \"6\": 18, \"10\": 72, \"1\": 34, \"15\": 5, \"2\": 2, \"5\": 1}, \"12\": {\"12\": 65, \"8\": 29, \"3\": 56, \"13\": 16, \"9\": 29, \"4\": 3, \"7\": 30, \"2\": 9, \"0\": 2, \"14\": 1}, \"8\": {\"9\": 40, \"8\": 45, \"2\": 36, \"0\": 15, \"7\": 51, \"12\": 30, \"3\": 17, \"14\": 2, \"13\": 2, \"10\": 2}, \"7\": {\"12\": 27, \"7\": 53, \"13\": 8, \"2\": 23, \"3\": 32, \"9\": 28, \"8\": 60, \"0\": 8, \"14\": 1}, \"13\": {\"13\": 129, \"3\": 34, \"9\": 26, \"2\": 13, \"7\": 11, \"4\": 7, \"12\": 10, \"8\": 10}, \"5\": {\"15\": 58, \"5\": 91, \"11\": 44, \"6\": 33, \"10\": 3, \"1\": 11}, \"15\": {\"5\": 59, \"15\": 71, \"6\": 45, \"11\": 13, \"10\": 18, \"1\": 9, \"0\": 10, \"2\": 3, \"14\": 12}, \"10\": {\"2\": 3, \"0\": 46, \"10\": 64, \"14\": 51, \"6\": 28, \"8\": 1, \"1\": 26, \"15\": 18, \"5\": 1, \"9\": 2}, \"3\": {\"3\": 58, \"7\": 28, \"13\": 28, \"12\": 62, \"9\": 38, \"4\": 2, \"8\": 15, \"2\": 9}, \"9\": {\"7\": 27, \"9\": 41, \"12\": 32, \"13\": 27, \"2\": 35, \"8\": 24, \"3\": 40, \"0\": 14}, \"6\": {\"6\": 73, \"15\": 50, \"5\": 40, \"14\": 19, \"10\": 19, \"11\": 2, \"1\": 35, \"0\": 1, \"2\": 1}, \"1\": {\"5\": 6, \"14\": 26, \"1\": 128, \"6\": 36, \"10\": 21, \"15\": 15, \"0\": 6, \"11\": 2}, \"11\": {\"5\": 59, \"11\": 143, \"6\": 11, \"15\": 23, \"1\": 4}, \"2\": {\"2\": 64, \"7\": 21, \"9\": 36, \"3\": 14, \"0\": 24, \"12\": 13, \"10\": 7, \"8\": 37, \"13\": 17, \"6\": 3, \"14\": 3, \"5\": 1}}, \"O_44\": {\"1\": {\"2\": 27, \"1\": 116, \"0\": 42, \"8\": 25, \"15\": 20, \"5\": 7, \"14\": 1, \"4\": 1, \"10\": 1}, \"11\": {\"11\": 240}, \"3\": {\"3\": 132, \"12\": 99, \"0\": 8, \"8\": 1}, \"6\": {\"6\": 136, \"13\": 69, \"7\": 7, \"9\": 26, \"4\": 1, \"10\": 1}, \"7\": {\"9\": 50, \"4\": 29, \"10\": 56, \"14\": 7, \"7\": 87, \"5\": 6, \"6\": 5}, \"5\": {\"7\": 14, \"5\": 51, \"10\": 33, \"14\": 47, \"15\": 30, \"4\": 34, \"2\": 10, \"9\": 5, \"8\": 5, \"1\": 11}, \"2\": {\"2\": 149, \"14\": 11, \"1\": 40, \"4\": 8, \"5\": 12, \"0\": 1, \"8\": 2, \"15\": 6, \"9\": 5, \"10\": 5, \"7\": 1}, \"15\": {\"8\": 42, \"15\": 86, \"5\": 37, \"0\": 4, \"2\": 5, \"10\": 4, \"7\": 1, \"14\": 17, \"1\": 36, \"4\": 8}, \"10\": {\"9\": 40, \"10\": 53, \"7\": 41, \"2\": 7, \"14\": 30, \"4\": 37, \"5\": 24, \"1\": 4, \"6\": 2, \"15\": 2}, \"13\": {\"6\": 63, \"13\": 162, \"11\": 6, \"9\": 8, \"7\": 1}, \"8\": {\"15\": 46, \"0\": 50, \"1\": 43, \"8\": 88, \"2\": 2, \"5\": 6, \"14\": 3, \"3\": 1, \"10\": 1}, \"4\": {\"10\": 34, \"4\": 37, \"15\": 12, \"9\": 36, \"7\": 34, \"2\": 25, \"5\": 26, \"14\": 25, \"1\": 6, \"6\": 3, \"8\": 2}, \"9\": {\"4\": 28, \"9\": 37, \"7\": 52, \"10\": 29, \"5\": 11, \"13\": 47, \"6\": 23, \"2\": 10, \"14\": 3}, \"14\": {\"10\": 41, \"14\": 65, \"1\": 5, \"5\": 48, \"15\": 21, \"2\": 8, \"4\": 30, \"7\": 16, \"9\": 4, \"8\": 2}, \"0\": {\"1\": 52, \"8\": 29, \"0\": 148, \"3\": 4, \"2\": 5, \"15\": 2}, \"12\": {\"12\": 128, \"3\": 109, \"0\": 3}}, \"O_50\": {\"15\": {\"6\": 52, \"5\": 49, \"15\": 69, \"3\": 31, \"9\": 24, \"11\": 11, \"12\": 1, \"7\": 1, \"4\": 2}, \"4\": {\"7\": 109, \"4\": 101, \"5\": 19, \"15\": 5, \"6\": 3, \"3\": 1, \"9\": 2}, \"6\": {\"9\": 24, \"15\": 56, \"6\": 63, \"5\": 29, \"11\": 21, \"4\": 2, \"3\": 43, \"12\": 2}, \"2\": {\"2\": 93, \"0\": 57, \"14\": 88, \"10\": 2}, \"5\": {\"4\": 28, \"7\": 30, \"5\": 72, \"11\": 11, \"15\": 25, \"6\": 31, \"13\": 10, \"3\": 22, \"9\": 10, \"1\": 1}, \"9\": {\"6\": 23, \"9\": 121, \"5\": 15, \"12\": 43, \"11\": 8, \"4\": 2, \"15\": 18, \"7\": 2, \"3\": 8}, \"8\": {\"13\": 8, \"8\": 131, \"1\": 67, \"10\": 32, \"0\": 2}, \"12\": {\"12\": 174, \"11\": 17, \"9\": 41, \"3\": 2, \"6\": 4, \"5\": 1, \"15\": 1}, \"10\": {\"0\": 40, \"10\": 151, \"1\": 8, \"8\": 33, \"14\": 4, \"2\": 4}, \"1\": {\"13\": 65, \"1\": 98, \"8\": 61, \"10\": 15, \"3\": 1}, \"0\": {\"0\": 118, \"2\": 52, \"14\": 32, \"10\": 36, \"8\": 2}, \"3\": {\"3\": 75, \"5\": 12, \"15\": 49, \"13\": 8, \"11\": 45, \"6\": 42, \"9\": 7, \"12\": 2}, \"13\": {\"13\": 171, \"1\": 48, \"11\": 12, \"8\": 4, \"3\": 5}, \"11\": {\"12\": 13, \"11\": 119, \"13\": 5, \"6\": 24, \"9\": 15, \"3\": 50, \"15\": 11, \"5\": 3}, \"7\": {\"7\": 118, \"4\": 93, \"5\": 28, \"9\": 1}, \"14\": {\"2\": 78, \"14\": 82, \"0\": 80}}, \"O_38\": {\"15\": {\"15\": 163, \"8\": 23, \"5\": 26, \"6\": 16, \"1\": 11, \"12\": 1}, \"11\": {\"11\": 237, \"3\": 3}, \"10\": {\"10\": 160, \"13\": 17, \"0\": 59, \"4\": 1, \"3\": 2, \"14\": 1}, \"14\": {\"14\": 138, \"7\": 68, \"2\": 20, \"0\": 4, \"13\": 2, \"5\": 2, \"10\": 1, \"8\": 3, \"4\": 2}, \"6\": {\"6\": 125, \"1\": 114, \"15\": 1}, \"4\": {\"4\": 231, \"14\": 6, \"0\": 1, \"13\": 1, \"7\": 1}, \"13\": {\"10\": 20, \"0\": 57, \"13\": 148, \"2\": 5, \"7\": 7, \"14\": 3}, \"3\": {\"3\": 237, \"11\": 2, \"0\": 1}, \"7\": {\"2\": 66, \"7\": 85, \"14\": 68, \"8\": 8, \"9\": 5, \"13\": 4, \"0\": 3, \"5\": 1}, \"8\": {\"5\": 66, \"8\": 62, \"9\": 14, \"7\": 22, \"2\": 43, \"15\": 24, \"12\": 4, \"14\": 5}, \"1\": {\"1\": 113, \"6\": 124, \"15\": 3}, \"5\": {\"5\": 82, \"15\": 25, \"8\": 68, \"2\": 26, \"9\": 21, \"7\": 12, \"12\": 3, \"14\": 1, \"13\": 2}, \"0\": {\"10\": 77, \"2\": 10, \"0\": 67, \"13\": 60, \"7\": 11, \"14\": 3, \"3\": 11, \"8\": 1}, \"2\": {\"2\": 95, \"7\": 68, \"9\": 24, \"14\": 25, \"8\": 11, \"0\": 3, \"5\": 8, \"13\": 6}, \"12\": {\"12\": 233, \"15\": 1, \"5\": 1, \"8\": 5}, \"9\": {\"9\": 179, \"2\": 33, \"5\": 19, \"8\": 7, \"13\": 2}}, \"O_20\": {\"10\": {\"10\": 158, \"4\": 63, \"2\": 2, \"15\": 2, \"13\": 6, \"12\": 6, \"6\": 3}, \"7\": {\"7\": 24, \"14\": 11, \"3\": 12, \"15\": 24, \"8\": 6, \"1\": 20, \"12\": 23, \"13\": 17, \"2\": 36, \"5\": 12, \"6\": 23, \"9\": 24, \"4\": 8}, \"4\": {\"4\": 98, \"6\": 35, \"7\": 4, \"2\": 6, \"15\": 3, \"12\": 37, \"10\": 43, \"13\": 4, \"14\": 6, \"8\": 1, \"1\": 1, \"9\": 1, \"5\": 1}, \"13\": {\"15\": 32, \"6\": 6, \"2\": 41, \"12\": 27, \"10\": 2, \"13\": 101, \"1\": 11, \"4\": 4, \"7\": 13, \"5\": 1, \"9\": 2}, \"1\": {\"14\": 20, \"5\": 28, \"1\": 43, \"2\": 18, \"8\": 11, \"3\": 21, \"9\": 33, \"7\": 20, \"15\": 19, \"6\": 10, \"13\": 7, \"12\": 9, \"4\": 1}, \"0\": {\"0\": 175, \"11\": 28, \"8\": 25, \"3\": 7, \"5\": 2, \"1\": 1, \"14\": 1, \"9\": 1}, \"12\": {\"13\": 22, \"12\": 48, \"15\": 27, \"9\": 8, \"7\": 23, \"4\": 30, \"6\": 20, \"1\": 10, \"2\": 34, \"5\": 8, \"8\": 2, \"14\": 2, \"10\": 3, \"3\": 3}, \"5\": {\"1\": 37, \"5\": 32, \"9\": 28, \"8\": 24, \"2\": 8, \"14\": 23, \"3\": 38, \"7\": 13, \"4\": 2, \"6\": 12, \"15\": 12, \"12\": 9, \"0\": 1, \"13\": 1}, \"6\": {\"6\": 47, \"14\": 19, \"12\": 28, \"13\": 7, \"15\": 16, \"2\": 24, \"4\": 26, \"5\": 10, \"7\": 23, \"9\": 12, \"10\": 2, \"8\": 13, \"3\": 5, \"1\": 8}, \"2\": {\"6\": 24, \"12\": 37, \"2\": 26, \"15\": 37, \"13\": 36, \"1\": 19, \"8\": 2, \"7\": 27, \"9\": 13, \"4\": 6, \"14\": 2, \"5\": 8, \"3\": 3}, \"8\": {\"3\": 45, \"8\": 61, \"7\": 5, \"5\": 22, \"1\": 10, \"14\": 50, \"9\": 13, \"0\": 24, \"2\": 2, \"6\": 6, \"12\": 2}, \"11\": {\"0\": 30, \"11\": 209, \"3\": 1}, \"9\": {\"1\": 25, \"14\": 24, \"9\": 30, \"2\": 21, \"13\": 7, \"8\": 12, \"7\": 17, \"6\": 14, \"3\": 29, \"15\": 25, \"5\": 28, \"12\": 8}, \"14\": {\"14\": 86, \"8\": 57, \"3\": 22, \"5\": 19, \"6\": 19, \"9\": 13, \"1\": 5, \"7\": 7, \"12\": 2, \"2\": 2, \"4\": 2, \"0\": 4, \"15\": 2}, \"15\": {\"13\": 39, \"5\": 14, \"2\": 31, \"9\": 15, \"7\": 28, \"15\": 35, \"12\": 23, \"3\": 8, \"4\": 7, \"6\": 19, \"1\": 13, \"14\": 7, \"8\": 1}, \"3\": {\"5\": 32, \"9\": 26, \"8\": 43, \"1\": 25, \"3\": 35, \"0\": 9, \"15\": 14, \"14\": 25, \"7\": 17, \"6\": 9, \"2\": 3, \"13\": 1, \"12\": 1}}, \"O_14\": {\"14\": {\"2\": 42, \"0\": 26, \"14\": 91, \"6\": 25, \"13\": 26, \"5\": 17, \"3\": 8, \"12\": 3, \"7\": 2}, \"0\": {\"14\": 36, \"12\": 23, \"0\": 27, \"7\": 16, \"3\": 28, \"2\": 41, \"13\": 9, \"5\": 31, \"8\": 2, \"4\": 16, \"6\": 11}, \"4\": {\"12\": 41, \"4\": 139, \"2\": 15, \"5\": 13, \"1\": 4, \"10\": 20, \"9\": 3, \"0\": 4, \"14\": 1}, \"11\": {\"11\": 240}, \"13\": {\"6\": 64, \"13\": 65, \"2\": 24, \"3\": 7, \"4\": 9, \"0\": 10, \"14\": 34, \"12\": 5, \"7\": 2, \"15\": 17, \"10\": 2, \"5\": 1}, \"9\": {\"4\": 7, \"1\": 106, \"9\": 99, \"10\": 28}, \"3\": {\"3\": 101, \"6\": 31, \"7\": 45, \"0\": 23, \"13\": 17, \"2\": 11, \"14\": 8, \"5\": 4}, \"6\": {\"6\": 114, \"3\": 27, \"14\": 22, \"13\": 58, \"2\": 9, \"0\": 7, \"7\": 2, \"5\": 1}, \"1\": {\"1\": 123, \"9\": 105, \"10\": 8, \"4\": 4}, \"5\": {\"14\": 18, \"5\": 66, \"7\": 7, \"0\": 34, \"6\": 2, \"8\": 26, \"12\": 45, \"4\": 11, \"2\": 26, \"3\": 4, \"13\": 1}, \"12\": {\"12\": 88, \"4\": 59, \"5\": 54, \"0\": 5, \"8\": 13, \"10\": 1, \"2\": 18, \"7\": 1, \"14\": 1}, \"10\": {\"10\": 176, \"4\": 22, \"9\": 31, \"1\": 8, \"2\": 3}, \"8\": {\"7\": 46, \"8\": 161, \"5\": 19, \"12\": 12, \"3\": 2}, \"7\": {\"7\": 132, \"8\": 35, \"0\": 8, \"3\": 40, \"5\": 20, \"2\": 5}, \"15\": {\"15\": 240}, \"2\": {\"6\": 20, \"2\": 43, \"14\": 35, \"7\": 8, \"13\": 9, \"0\": 34, \"4\": 18, \"12\": 20, \"3\": 22, \"5\": 29, \"8\": 1, \"10\": 1}}, \"O_32\": {\"11\": {\"11\": 164, \"9\": 61, \"13\": 9, \"12\": 5, \"3\": 1}, \"1\": {\"1\": 130, \"8\": 11, \"2\": 18, \"3\": 44, \"4\": 27, \"13\": 8, \"0\": 1, \"9\": 1}, \"2\": {\"2\": 134, \"14\": 14, \"4\": 66, \"8\": 7, \"0\": 2, \"3\": 6, \"5\": 1, \"1\": 6, \"13\": 3, \"9\": 1}, \"0\": {\"0\": 77, \"5\": 45, \"7\": 29, \"8\": 37, \"14\": 42, \"15\": 3, \"2\": 4, \"1\": 2, \"4\": 1}, \"3\": {\"13\": 56, \"3\": 115, \"1\": 42, \"4\": 17, \"9\": 8, \"2\": 2}, \"8\": {\"8\": 112, \"2\": 12, \"0\": 40, \"1\": 25, \"3\": 3, \"7\": 6, \"14\": 11, \"5\": 18, \"15\": 9, \"4\": 4}, \"12\": {\"12\": 214, \"9\": 8, \"10\": 13, \"11\": 4, \"13\": 1}, \"5\": {\"7\": 60, \"5\": 106, \"0\": 42, \"14\": 13, \"8\": 17, \"2\": 1, \"15\": 1}, \"15\": {\"15\": 228, \"8\": 6, \"5\": 2, \"0\": 4}, \"7\": {\"7\": 75, \"5\": 66, \"0\": 40, \"14\": 51, \"8\": 6, \"2\": 2}, \"4\": {\"1\": 42, \"13\": 20, \"3\": 34, \"2\": 65, \"9\": 2, \"4\": 74, \"14\": 1, \"8\": 2}, \"14\": {\"0\": 32, \"8\": 11, \"5\": 27, \"14\": 88, \"7\": 48, \"2\": 28, \"4\": 6}, \"10\": {\"10\": 217, \"12\": 21, \"6\": 2}, \"6\": {\"6\": 231, \"10\": 9}, \"13\": {\"9\": 49, \"3\": 45, \"13\": 86, \"4\": 23, \"1\": 21, \"2\": 7, \"11\": 8, \"12\": 1}, \"9\": {\"11\": 57, \"12\": 24, \"9\": 66, \"3\": 19, \"4\": 10, \"13\": 62, \"2\": 1, \"1\": 1}}, \"O_8\": {\"9\": {\"9\": 233, \"3\": 7}, \"11\": {\"8\": 56, \"11\": 69, \"14\": 16, \"7\": 8, \"4\": 20, \"1\": 49, \"6\": 10, \"5\": 9, \"10\": 2, \"13\": 1}, \"8\": {\"4\": 28, \"14\": 33, \"8\": 75, \"6\": 6, \"1\": 20, \"11\": 73, \"10\": 1, \"5\": 3, \"7\": 1}, \"4\": {\"8\": 35, \"14\": 32, \"4\": 115, \"6\": 20, \"11\": 24, \"1\": 11, \"7\": 2, \"10\": 1}, \"13\": {\"13\": 85, \"10\": 44, \"5\": 40, \"6\": 18, \"7\": 50, \"12\": 2, \"1\": 1}, \"14\": {\"14\": 154, \"4\": 38, \"8\": 32, \"11\": 16}, \"2\": {\"3\": 49, \"2\": 145, \"15\": 29, \"12\": 17}, \"3\": {\"3\": 230, \"9\": 2, \"2\": 8}, \"1\": {\"1\": 74, \"6\": 36, \"10\": 10, \"8\": 19, \"11\": 41, \"5\": 33, \"7\": 6, \"4\": 15, \"13\": 6}, \"0\": {\"0\": 240}, \"5\": {\"10\": 33, \"13\": 44, \"1\": 19, \"5\": 66, \"11\": 8, \"7\": 30, \"6\": 21, \"12\": 5, \"4\": 10, \"8\": 2, \"15\": 2}, \"15\": {\"12\": 101, \"15\": 120, \"2\": 17, \"3\": 2}, \"10\": {\"13\": 42, \"6\": 43, \"1\": 10, \"7\": 56, \"5\": 34, \"10\": 41, \"4\": 7, \"8\": 2, \"11\": 4, \"14\": 1}, \"12\": {\"12\": 149, \"15\": 84, \"2\": 7}, \"6\": {\"4\": 21, \"10\": 34, \"1\": 30, \"7\": 46, \"6\": 75, \"8\": 4, \"5\": 16, \"11\": 5, \"13\": 9}, \"7\": {\"10\": 49, \"6\": 45, \"7\": 68, \"1\": 7, \"13\": 27, \"5\": 38, \"4\": 5, \"8\": 1}}}, \"per_domain_accuracy\": {\"C_5\": {\"accuracy\": 0.9883030726256983, \"source?\": true}, \"C_1\": {\"accuracy\": 0.9911684782608695, \"source?\": true}, \"C_3\": {\"accuracy\": 0.9922794117647059, \"source?\": true}, \"C_4\": {\"accuracy\": 0.9879518072289156, \"source?\": true}, \"C_2\": {\"accuracy\": 0.9957386363636364, \"source?\": true}, \"O_26\": {\"accuracy\": 0.3690104166666667, \"source?\": false}, \"O_44\": {\"accuracy\": 0.4466145833333333, \"source?\": false}, \"O_50\": {\"accuracy\": 0.45729166666666665, \"source?\": false}, \"O_38\": {\"accuracy\": 0.61328125, \"source?\": false}, \"O_20\": {\"accuracy\": 0.3145833333333333, \"source?\": false}, \"O_14\": {\"accuracy\": 0.49609375, \"source?\": false}, \"O_32\": {\"accuracy\": 0.5513020833333333, \"source?\": false}, \"O_8\": {\"accuracy\": 0.5049479166666667, \"source?\": false}}}, \"history\": {\"epoch_indices\": [1, 2, 3, 4, 5, 6], \"train_label_loss\": [0.058425627642153345, 0.11759997907970204, 0.03702469008166858, 0.01762755872317094, 0.010431140592154775, 0.008361390201218507], \"source_val_label_loss\": [0.02982887253165245, 0.1568131297826767, 0.026067517697811127, 0.013856703415513039, 0.019069509580731392, 0.013246946968138218], \"target_val_label_loss\": [7.612051963806152, 1.5825127363204956, 1.8134019374847412, 1.7379904985427856, 1.7396221160888672, 1.913360357284546], \"source_val_acc_label\": [0.9947857142857143, 0.9911071428571429, 0.9960714285714286, 0.9972857142857143, 0.9962857142857143, 0.9988571428571429], \"target_val_acc_label\": [0.2535481770833333, 0.469140625, 0.4037109375, 0.3938802083333333, 0.3819661458333333, 0.3731770833333333]}, \"dataset_metrics\": {\"source\": {\"train\": {\"n_unique_x\": 175142, \"n_unique_y\": 58, \"n_batch/episode\": 6303}, \"val\": {\"n_unique_x\": 37151, \"n_unique_y\": 58, \"n_batch/episode\": 875}, \"test\": {\"n_unique_x\": 37548, \"n_unique_y\": 58, \"n_batch/episode\": 885}}, \"target\": {\"train\": {\"n_unique_x\": 179200, \"n_unique_y\": 16, \"n_batch/episode\": 6720}, \"val\": {\"n_unique_x\": 38400, \"n_unique_y\": 16, \"n_batch/episode\": 960}, \"test\": {\"n_unique_x\": 38400, \"n_unique_y\": 16, \"n_batch/episode\": 960}}}}'"
      ]
     },
     "execution_count": 29,
     "metadata": {},
     "output_type": "execute_result"
    }
   ],
   "source": [
    "json.dumps(experiment)"
   ]
  }
 ],
 "metadata": {
  "celltoolbar": "Tags",
  "kernelspec": {
   "display_name": "Python 3 (ipykernel)",
   "language": "python",
   "name": "python3"
  },
  "language_info": {
   "codemirror_mode": {
    "name": "ipython",
    "version": 3
   },
   "file_extension": ".py",
   "mimetype": "text/x-python",
   "name": "python",
   "nbconvert_exporter": "python",
   "pygments_lexer": "ipython3",
   "version": "3.8.12"
  },
  "papermill": {
   "default_parameters": {},
   "duration": 1177.896218,
   "end_time": "2022-03-28T08:44:25.728041",
   "environment_variables": {},
   "exception": null,
   "input_path": "/root/csc500-main/csc500-notebooks/templates/tl_ptn_template.ipynb",
   "output_path": "trial.ipynb",
   "parameters": {
    "parameters": {
     "BEST_MODEL_PATH": "./best_model.pth",
     "NUM_LOGS_PER_EPOCH": 10,
     "criteria_for_best": "target_accuracy",
     "dataset_seed": 7,
     "datasets": [
      {
       "domain_prefix": "C_",
       "domains": [
        1,
        2,
        3,
        4,
        5
       ],
       "episode_transforms": [],
       "labels": [
        "1-10.",
        "1-11.",
        "1-15.",
        "1-16.",
        "1-17.",
        "1-18.",
        "1-19.",
        "10-4.",
        "10-7.",
        "11-1.",
        "11-14.",
        "11-17.",
        "11-20.",
        "11-7.",
        "13-20.",
        "13-8.",
        "14-10.",
        "14-11.",
        "14-14.",
        "14-7.",
        "15-1.",
        "15-20.",
        "16-1.",
        "16-16.",
        "17-10.",
        "17-11.",
        "17-2.",
        "19-1.",
        "19-16.",
        "19-19.",
        "19-20.",
        "19-3.",
        "2-10.",
        "2-11.",
        "2-17.",
        "2-18.",
        "2-20.",
        "2-3.",
        "2-4.",
        "2-5.",
        "2-6.",
        "2-7.",
        "2-8.",
        "3-13.",
        "3-18.",
        "3-3.",
        "4-1.",
        "4-10.",
        "4-11.",
        "4-19.",
        "5-5.",
        "6-15.",
        "7-10.",
        "7-14.",
        "8-18.",
        "8-20.",
        "8-3.",
        "8-8."
       ],
       "num_examples_per_domain_per_label": -1,
       "pickle_path": "/root/csc500-main/datasets/cores.stratified_ds.2022A.pkl",
       "source_or_target_dataset": "source",
       "x_transforms": [
        "jitter_256_10",
        "lowpass_+/-10MHz",
        "take_200"
       ]
      },
      {
       "domain_prefix": "O_",
       "domains": [
        32,
        38,
        8,
        44,
        14,
        50,
        20,
        26
       ],
       "episode_transforms": [],
       "labels": [
        "3123D52",
        "3123D65",
        "3123D79",
        "3123D80",
        "3123D54",
        "3123D70",
        "3123D7B",
        "3123D89",
        "3123D58",
        "3123D76",
        "3123D7D",
        "3123EFE",
        "3123D64",
        "3123D78",
        "3123D7E",
        "3124E4A"
       ],
       "num_examples_per_domain_per_label": 2000,
       "pickle_path": "/root/csc500-main/datasets/oracle.Run1_framed_2000Examples_stratified_ds.2022A.pkl",
       "source_or_target_dataset": "target",
       "x_transforms": [
        "jitter_256_10",
        "take_200",
        "resample_20Msps_to_25Msps"
       ]
      }
     ],
     "device": "cuda",
     "experiment_name": "tl_3-jitter10v2:cores -> oracle.run1.framed",
     "lr": 0.0001,
     "n_epoch": 50,
     "n_query": 2,
     "n_shot": 3,
     "n_way": 16,
     "patience": 3,
     "seed": 7,
     "test_k_factor": 2,
     "torch_default_dtype": "torch.float32",
     "train_k_factor": 3,
     "val_k_factor": 2,
     "x_net": [
      {
       "class": "nnReshape",
       "kargs": {
        "shape": [
         -1,
         1,
         2,
         256
        ]
       }
      },
      {
       "class": "Conv2d",
       "kargs": {
        "bias": false,
        "in_channels": 1,
        "kernel_size": [
         1,
         7
        ],
        "out_channels": 256,
        "padding": [
         0,
         3
        ]
       }
      },
      {
       "class": "ReLU",
       "kargs": {
        "inplace": true
       }
      },
      {
       "class": "BatchNorm2d",
       "kargs": {
        "num_features": 256
       }
      },
      {
       "class": "Conv2d",
       "kargs": {
        "bias": true,
        "in_channels": 256,
        "kernel_size": [
         2,
         7
        ],
        "out_channels": 80,
        "padding": [
         0,
         3
        ]
       }
      },
      {
       "class": "ReLU",
       "kargs": {
        "inplace": true
       }
      },
      {
       "class": "BatchNorm2d",
       "kargs": {
        "num_features": 80
       }
      },
      {
       "class": "Flatten",
       "kargs": {}
      },
      {
       "class": "Linear",
       "kargs": {
        "in_features": 20480,
        "out_features": 256
       }
      },
      {
       "class": "ReLU",
       "kargs": {
        "inplace": true
       }
      },
      {
       "class": "BatchNorm1d",
       "kargs": {
        "num_features": 256
       }
      },
      {
       "class": "Linear",
       "kargs": {
        "in_features": 256,
        "out_features": 256
       }
      }
     ],
     "x_shape": [
      2,
      256
     ]
    }
   },
   "start_time": "2022-03-28T08:24:47.831823",
   "version": "2.3.4"
  }
 },
 "nbformat": 4,
 "nbformat_minor": 5
}