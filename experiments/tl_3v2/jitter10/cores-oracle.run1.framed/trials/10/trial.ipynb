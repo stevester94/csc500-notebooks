{
 "cells": [
  {
   "cell_type": "markdown",
   "id": "9fea5f46",
   "metadata": {
    "papermill": {
     "duration": 0.028727,
     "end_time": "2022-03-28T08:24:05.240047",
     "exception": false,
     "start_time": "2022-03-28T08:24:05.211320",
     "status": "completed"
    },
    "tags": []
   },
   "source": [
    "# Transfer Learning Template"
   ]
  },
  {
   "cell_type": "code",
   "execution_count": 1,
   "id": "0902182a",
   "metadata": {
    "execution": {
     "iopub.execute_input": "2022-03-28T08:24:05.305931Z",
     "iopub.status.busy": "2022-03-28T08:24:05.302904Z",
     "iopub.status.idle": "2022-03-28T08:24:07.180233Z",
     "shell.execute_reply": "2022-03-28T08:24:07.179807Z"
    },
    "papermill": {
     "duration": 1.916181,
     "end_time": "2022-03-28T08:24:07.180339",
     "exception": false,
     "start_time": "2022-03-28T08:24:05.264158",
     "status": "completed"
    },
    "tags": []
   },
   "outputs": [],
   "source": [
    "%load_ext autoreload\n",
    "%autoreload 2\n",
    "%matplotlib inline\n",
    "\n",
    "    \n",
    "import os, json, sys, time, random\n",
    "import numpy as np\n",
    "import torch\n",
    "from torch.optim import Adam\n",
    "from  easydict import EasyDict\n",
    "import matplotlib.pyplot as plt\n",
    "\n",
    "from steves_models.steves_ptn import Steves_Prototypical_Network\n",
    "\n",
    "from steves_utils.lazy_iterable_wrapper import Lazy_Iterable_Wrapper\n",
    "from steves_utils.iterable_aggregator import Iterable_Aggregator\n",
    "from steves_utils.ptn_train_eval_test_jig import  PTN_Train_Eval_Test_Jig\n",
    "from steves_utils.torch_sequential_builder import build_sequential\n",
    "from steves_utils.torch_utils import get_dataset_metrics, ptn_confusion_by_domain_over_dataloader\n",
    "from steves_utils.utils_v2 import (per_domain_accuracy_from_confusion, get_datasets_base_path)\n",
    "from steves_utils.PTN.utils import independent_accuracy_assesment\n",
    "\n",
    "from torch.utils.data import DataLoader\n",
    "\n",
    "from steves_utils.stratified_dataset.episodic_accessor import Episodic_Accessor_Factory\n",
    "\n",
    "from steves_utils.ptn_do_report import (\n",
    "    get_loss_curve,\n",
    "    get_results_table,\n",
    "    get_parameters_table,\n",
    "    get_domain_accuracies,\n",
    ")\n",
    "\n",
    "from steves_utils.transforms import get_chained_transform"
   ]
  },
  {
   "cell_type": "markdown",
   "id": "41c840b4",
   "metadata": {
    "papermill": {
     "duration": 0.019553,
     "end_time": "2022-03-28T08:24:07.219721",
     "exception": false,
     "start_time": "2022-03-28T08:24:07.200168",
     "status": "completed"
    },
    "tags": []
   },
   "source": [
    "# Allowed Parameters\n",
    "These are allowed parameters, not defaults\n",
    "Each of these values need to be present in the injected parameters (the notebook will raise an exception if they are not present)\n",
    "\n",
    "Papermill uses the cell tag \"parameters\" to inject the real parameters below this cell.\n",
    "Enable tags to see what I mean"
   ]
  },
  {
   "cell_type": "code",
   "execution_count": 2,
   "id": "fd44eb83",
   "metadata": {
    "execution": {
     "iopub.execute_input": "2022-03-28T08:24:07.265336Z",
     "iopub.status.busy": "2022-03-28T08:24:07.264952Z",
     "iopub.status.idle": "2022-03-28T08:24:07.292216Z",
     "shell.execute_reply": "2022-03-28T08:24:07.291897Z"
    },
    "papermill": {
     "duration": 0.052995,
     "end_time": "2022-03-28T08:24:07.292286",
     "exception": false,
     "start_time": "2022-03-28T08:24:07.239291",
     "status": "completed"
    },
    "tags": []
   },
   "outputs": [],
   "source": [
    "required_parameters = {\n",
    "    \"experiment_name\",\n",
    "    \"lr\",\n",
    "    \"device\",\n",
    "    \"seed\",\n",
    "    \"dataset_seed\",\n",
    "    \"n_shot\",\n",
    "    \"n_query\",\n",
    "    \"n_way\",\n",
    "    \"train_k_factor\",\n",
    "    \"val_k_factor\",\n",
    "    \"test_k_factor\",\n",
    "    \"n_epoch\",\n",
    "    \"patience\",\n",
    "    \"criteria_for_best\",\n",
    "    \"x_net\",\n",
    "    \"datasets\",\n",
    "    \"torch_default_dtype\",\n",
    "    \"NUM_LOGS_PER_EPOCH\",\n",
    "    \"BEST_MODEL_PATH\",\n",
    "    \"x_shape\",\n",
    "}"
   ]
  },
  {
   "cell_type": "code",
   "execution_count": 3,
   "id": "fa3f0049",
   "metadata": {
    "execution": {
     "iopub.execute_input": "2022-03-28T08:24:07.344480Z",
     "iopub.status.busy": "2022-03-28T08:24:07.343955Z",
     "iopub.status.idle": "2022-03-28T08:24:07.370497Z",
     "shell.execute_reply": "2022-03-28T08:24:07.370131Z"
    },
    "papermill": {
     "duration": 0.057927,
     "end_time": "2022-03-28T08:24:07.370569",
     "exception": false,
     "start_time": "2022-03-28T08:24:07.312642",
     "status": "completed"
    },
    "tags": [
     "parameters"
    ]
   },
   "outputs": [],
   "source": [
    "from steves_utils.CORES.utils import (\n",
    "    ALL_NODES,\n",
    "    ALL_NODES_MINIMUM_1000_EXAMPLES,\n",
    "    ALL_DAYS\n",
    ")\n",
    "\n",
    "from steves_utils.ORACLE.utils_v2 import (\n",
    "    ALL_DISTANCES_FEET_NARROWED,\n",
    "    ALL_RUNS,\n",
    "    ALL_SERIAL_NUMBERS,\n",
    ")\n",
    "\n",
    "standalone_parameters = {}\n",
    "standalone_parameters[\"experiment_name\"] = \"STANDALONE PTN\"\n",
    "standalone_parameters[\"lr\"] = 0.001\n",
    "standalone_parameters[\"device\"] = \"cuda\"\n",
    "\n",
    "standalone_parameters[\"seed\"] = 1337\n",
    "standalone_parameters[\"dataset_seed\"] = 1337\n",
    "\n",
    "standalone_parameters[\"n_way\"] = 8\n",
    "standalone_parameters[\"n_shot\"] = 3\n",
    "standalone_parameters[\"n_query\"]  = 2\n",
    "standalone_parameters[\"train_k_factor\"] = 1\n",
    "standalone_parameters[\"val_k_factor\"] = 2\n",
    "standalone_parameters[\"test_k_factor\"] = 2\n",
    "\n",
    "\n",
    "standalone_parameters[\"n_epoch\"] = 50\n",
    "\n",
    "standalone_parameters[\"patience\"] = 10\n",
    "standalone_parameters[\"criteria_for_best\"] = \"source_loss\"\n",
    "\n",
    "standalone_parameters[\"datasets\"] = [\n",
    "    {\n",
    "        \"labels\": ALL_SERIAL_NUMBERS,\n",
    "        \"domains\": ALL_DISTANCES_FEET_NARROWED,\n",
    "        \"num_examples_per_domain_per_label\": 100,\n",
    "        \"pickle_path\": os.path.join(get_datasets_base_path(), \"oracle.Run1_framed_2000Examples_stratified_ds.2022A.pkl\"),\n",
    "        \"source_or_target_dataset\": \"source\",\n",
    "        \"x_transforms\": [\"unit_mag\", \"minus_two\"],\n",
    "        \"episode_transforms\": [],\n",
    "        \"domain_prefix\": \"ORACLE_\"\n",
    "    },\n",
    "    {\n",
    "        \"labels\": ALL_NODES,\n",
    "        \"domains\": ALL_DAYS,\n",
    "        \"num_examples_per_domain_per_label\": 100,\n",
    "        \"pickle_path\": os.path.join(get_datasets_base_path(), \"cores.stratified_ds.2022A.pkl\"),\n",
    "        \"source_or_target_dataset\": \"target\",\n",
    "        \"x_transforms\": [\"unit_power\", \"times_zero\"],\n",
    "        \"episode_transforms\": [],\n",
    "        \"domain_prefix\": \"CORES_\"\n",
    "    }   \n",
    "]\n",
    "\n",
    "standalone_parameters[\"torch_default_dtype\"] = \"torch.float32\" \n",
    "\n",
    "\n",
    "\n",
    "standalone_parameters[\"x_net\"] =     [\n",
    "    {\"class\": \"nnReshape\", \"kargs\": {\"shape\":[-1, 1, 2, 256]}},\n",
    "    {\"class\": \"Conv2d\", \"kargs\": { \"in_channels\":1, \"out_channels\":256, \"kernel_size\":(1,7), \"bias\":False, \"padding\":(0,3), },},\n",
    "    {\"class\": \"ReLU\", \"kargs\": {\"inplace\": True}},\n",
    "    {\"class\": \"BatchNorm2d\", \"kargs\": {\"num_features\":256}},\n",
    "\n",
    "    {\"class\": \"Conv2d\", \"kargs\": { \"in_channels\":256, \"out_channels\":80, \"kernel_size\":(2,7), \"bias\":True, \"padding\":(0,3), },},\n",
    "    {\"class\": \"ReLU\", \"kargs\": {\"inplace\": True}},\n",
    "    {\"class\": \"BatchNorm2d\", \"kargs\": {\"num_features\":80}},\n",
    "    {\"class\": \"Flatten\", \"kargs\": {}},\n",
    "\n",
    "    {\"class\": \"Linear\", \"kargs\": {\"in_features\": 80*256, \"out_features\": 256}}, # 80 units per IQ pair\n",
    "    {\"class\": \"ReLU\", \"kargs\": {\"inplace\": True}},\n",
    "    {\"class\": \"BatchNorm1d\", \"kargs\": {\"num_features\":256}},\n",
    "\n",
    "    {\"class\": \"Linear\", \"kargs\": {\"in_features\": 256, \"out_features\": 256}},\n",
    "]\n",
    "\n",
    "# Parameters relevant to results\n",
    "# These parameters will basically never need to change\n",
    "standalone_parameters[\"NUM_LOGS_PER_EPOCH\"] = 10\n",
    "standalone_parameters[\"BEST_MODEL_PATH\"] = \"./best_model.pth\"\n",
    "\n",
    "\n",
    "\n",
    "\n"
   ]
  },
  {
   "cell_type": "code",
   "execution_count": 4,
   "id": "af60d93a",
   "metadata": {
    "execution": {
     "iopub.execute_input": "2022-03-28T08:24:07.427178Z",
     "iopub.status.busy": "2022-03-28T08:24:07.426209Z",
     "iopub.status.idle": "2022-03-28T08:24:07.452497Z",
     "shell.execute_reply": "2022-03-28T08:24:07.453154Z"
    },
    "papermill": {
     "duration": 0.063105,
     "end_time": "2022-03-28T08:24:07.453338",
     "exception": false,
     "start_time": "2022-03-28T08:24:07.390233",
     "status": "completed"
    },
    "tags": [
     "injected-parameters"
    ]
   },
   "outputs": [],
   "source": [
    "# Parameters\n",
    "parameters = {\n",
    "    \"experiment_name\": \"tl_3-jitter10v2:cores -> oracle.run1.framed\",\n",
    "    \"device\": \"cuda\",\n",
    "    \"lr\": 0.0001,\n",
    "    \"x_shape\": [2, 256],\n",
    "    \"n_shot\": 3,\n",
    "    \"n_query\": 2,\n",
    "    \"train_k_factor\": 3,\n",
    "    \"val_k_factor\": 2,\n",
    "    \"test_k_factor\": 2,\n",
    "    \"torch_default_dtype\": \"torch.float32\",\n",
    "    \"n_epoch\": 50,\n",
    "    \"patience\": 3,\n",
    "    \"criteria_for_best\": \"target_accuracy\",\n",
    "    \"x_net\": [\n",
    "        {\"class\": \"nnReshape\", \"kargs\": {\"shape\": [-1, 1, 2, 256]}},\n",
    "        {\n",
    "            \"class\": \"Conv2d\",\n",
    "            \"kargs\": {\n",
    "                \"in_channels\": 1,\n",
    "                \"out_channels\": 256,\n",
    "                \"kernel_size\": [1, 7],\n",
    "                \"bias\": False,\n",
    "                \"padding\": [0, 3],\n",
    "            },\n",
    "        },\n",
    "        {\"class\": \"ReLU\", \"kargs\": {\"inplace\": True}},\n",
    "        {\"class\": \"BatchNorm2d\", \"kargs\": {\"num_features\": 256}},\n",
    "        {\n",
    "            \"class\": \"Conv2d\",\n",
    "            \"kargs\": {\n",
    "                \"in_channels\": 256,\n",
    "                \"out_channels\": 80,\n",
    "                \"kernel_size\": [2, 7],\n",
    "                \"bias\": True,\n",
    "                \"padding\": [0, 3],\n",
    "            },\n",
    "        },\n",
    "        {\"class\": \"ReLU\", \"kargs\": {\"inplace\": True}},\n",
    "        {\"class\": \"BatchNorm2d\", \"kargs\": {\"num_features\": 80}},\n",
    "        {\"class\": \"Flatten\", \"kargs\": {}},\n",
    "        {\"class\": \"Linear\", \"kargs\": {\"in_features\": 20480, \"out_features\": 256}},\n",
    "        {\"class\": \"ReLU\", \"kargs\": {\"inplace\": True}},\n",
    "        {\"class\": \"BatchNorm1d\", \"kargs\": {\"num_features\": 256}},\n",
    "        {\"class\": \"Linear\", \"kargs\": {\"in_features\": 256, \"out_features\": 256}},\n",
    "    ],\n",
    "    \"NUM_LOGS_PER_EPOCH\": 10,\n",
    "    \"BEST_MODEL_PATH\": \"./best_model.pth\",\n",
    "    \"n_way\": 16,\n",
    "    \"datasets\": [\n",
    "        {\n",
    "            \"labels\": [\n",
    "                \"1-10.\",\n",
    "                \"1-11.\",\n",
    "                \"1-15.\",\n",
    "                \"1-16.\",\n",
    "                \"1-17.\",\n",
    "                \"1-18.\",\n",
    "                \"1-19.\",\n",
    "                \"10-4.\",\n",
    "                \"10-7.\",\n",
    "                \"11-1.\",\n",
    "                \"11-14.\",\n",
    "                \"11-17.\",\n",
    "                \"11-20.\",\n",
    "                \"11-7.\",\n",
    "                \"13-20.\",\n",
    "                \"13-8.\",\n",
    "                \"14-10.\",\n",
    "                \"14-11.\",\n",
    "                \"14-14.\",\n",
    "                \"14-7.\",\n",
    "                \"15-1.\",\n",
    "                \"15-20.\",\n",
    "                \"16-1.\",\n",
    "                \"16-16.\",\n",
    "                \"17-10.\",\n",
    "                \"17-11.\",\n",
    "                \"17-2.\",\n",
    "                \"19-1.\",\n",
    "                \"19-16.\",\n",
    "                \"19-19.\",\n",
    "                \"19-20.\",\n",
    "                \"19-3.\",\n",
    "                \"2-10.\",\n",
    "                \"2-11.\",\n",
    "                \"2-17.\",\n",
    "                \"2-18.\",\n",
    "                \"2-20.\",\n",
    "                \"2-3.\",\n",
    "                \"2-4.\",\n",
    "                \"2-5.\",\n",
    "                \"2-6.\",\n",
    "                \"2-7.\",\n",
    "                \"2-8.\",\n",
    "                \"3-13.\",\n",
    "                \"3-18.\",\n",
    "                \"3-3.\",\n",
    "                \"4-1.\",\n",
    "                \"4-10.\",\n",
    "                \"4-11.\",\n",
    "                \"4-19.\",\n",
    "                \"5-5.\",\n",
    "                \"6-15.\",\n",
    "                \"7-10.\",\n",
    "                \"7-14.\",\n",
    "                \"8-18.\",\n",
    "                \"8-20.\",\n",
    "                \"8-3.\",\n",
    "                \"8-8.\",\n",
    "            ],\n",
    "            \"domains\": [1, 2, 3, 4, 5],\n",
    "            \"num_examples_per_domain_per_label\": -1,\n",
    "            \"pickle_path\": \"/root/csc500-main/datasets/cores.stratified_ds.2022A.pkl\",\n",
    "            \"source_or_target_dataset\": \"source\",\n",
    "            \"x_transforms\": [\n",
    "                \"unit_mag\",\n",
    "                \"jitter_256_10\",\n",
    "                \"lowpass_+/-10MHz\",\n",
    "                \"take_200\",\n",
    "            ],\n",
    "            \"episode_transforms\": [],\n",
    "            \"domain_prefix\": \"C_\",\n",
    "        },\n",
    "        {\n",
    "            \"labels\": [\n",
    "                \"3123D52\",\n",
    "                \"3123D65\",\n",
    "                \"3123D79\",\n",
    "                \"3123D80\",\n",
    "                \"3123D54\",\n",
    "                \"3123D70\",\n",
    "                \"3123D7B\",\n",
    "                \"3123D89\",\n",
    "                \"3123D58\",\n",
    "                \"3123D76\",\n",
    "                \"3123D7D\",\n",
    "                \"3123EFE\",\n",
    "                \"3123D64\",\n",
    "                \"3123D78\",\n",
    "                \"3123D7E\",\n",
    "                \"3124E4A\",\n",
    "            ],\n",
    "            \"domains\": [32, 38, 8, 44, 14, 50, 20, 26],\n",
    "            \"num_examples_per_domain_per_label\": 2000,\n",
    "            \"pickle_path\": \"/root/csc500-main/datasets/oracle.Run1_framed_2000Examples_stratified_ds.2022A.pkl\",\n",
    "            \"source_or_target_dataset\": \"target\",\n",
    "            \"x_transforms\": [\n",
    "                \"unit_mag\",\n",
    "                \"jitter_256_10\",\n",
    "                \"take_200\",\n",
    "                \"resample_20Msps_to_25Msps\",\n",
    "            ],\n",
    "            \"episode_transforms\": [],\n",
    "            \"domain_prefix\": \"O_\",\n",
    "        },\n",
    "    ],\n",
    "    \"seed\": 7,\n",
    "    \"dataset_seed\": 7,\n",
    "}\n"
   ]
  },
  {
   "cell_type": "code",
   "execution_count": 5,
   "id": "8fa1cc33",
   "metadata": {
    "execution": {
     "iopub.execute_input": "2022-03-28T08:24:07.507327Z",
     "iopub.status.busy": "2022-03-28T08:24:07.506953Z",
     "iopub.status.idle": "2022-03-28T08:24:07.532350Z",
     "shell.execute_reply": "2022-03-28T08:24:07.531644Z"
    },
    "papermill": {
     "duration": 0.050897,
     "end_time": "2022-03-28T08:24:07.532505",
     "exception": false,
     "start_time": "2022-03-28T08:24:07.481608",
     "status": "completed"
    },
    "tags": []
   },
   "outputs": [],
   "source": [
    "# Set this to True if you want to run this template directly\n",
    "STANDALONE = False\n",
    "if STANDALONE:\n",
    "    print(\"parameters not injected, running with standalone_parameters\")\n",
    "    parameters = standalone_parameters\n",
    "\n",
    "if not 'parameters' in locals() and not 'parameters' in globals():\n",
    "    raise Exception(\"Parameter injection failed\")\n",
    "\n",
    "#Use an easy dict for all the parameters\n",
    "p = EasyDict(parameters)\n",
    "\n",
    "if \"x_shape\" not in p:\n",
    "    p.x_shape = [2,256] # Default to this if we dont supply x_shape\n",
    "\n",
    "\n",
    "supplied_keys = set(p.keys())\n",
    "\n",
    "if  supplied_keys != required_parameters:\n",
    "    print(\"Parameters are incorrect\")\n",
    "    if len(supplied_keys - required_parameters)>0: print(\"Shouldn't have:\", str(supplied_keys - required_parameters))\n",
    "    if len(required_parameters - supplied_keys)>0: print(\"Need to have:\", str(required_parameters - supplied_keys))\n",
    "    raise RuntimeError(\"Parameters are incorrect\")"
   ]
  },
  {
   "cell_type": "code",
   "execution_count": 6,
   "id": "3a028d58",
   "metadata": {
    "execution": {
     "iopub.execute_input": "2022-03-28T08:24:07.583394Z",
     "iopub.status.busy": "2022-03-28T08:24:07.582567Z",
     "iopub.status.idle": "2022-03-28T08:24:07.608037Z",
     "shell.execute_reply": "2022-03-28T08:24:07.607188Z"
    },
    "papermill": {
     "duration": 0.048927,
     "end_time": "2022-03-28T08:24:07.608195",
     "exception": false,
     "start_time": "2022-03-28T08:24:07.559268",
     "status": "completed"
    },
    "tags": []
   },
   "outputs": [],
   "source": [
    "###################################\n",
    "# Set the RNGs and make it all deterministic\n",
    "###################################\n",
    "np.random.seed(p.seed)\n",
    "random.seed(p.seed)\n",
    "torch.manual_seed(p.seed)\n",
    "\n",
    "torch.use_deterministic_algorithms(True) "
   ]
  },
  {
   "cell_type": "code",
   "execution_count": 7,
   "id": "b691acf6",
   "metadata": {
    "execution": {
     "iopub.execute_input": "2022-03-28T08:24:07.659084Z",
     "iopub.status.busy": "2022-03-28T08:24:07.658717Z",
     "iopub.status.idle": "2022-03-28T08:24:07.685717Z",
     "shell.execute_reply": "2022-03-28T08:24:07.684888Z"
    },
    "papermill": {
     "duration": 0.051241,
     "end_time": "2022-03-28T08:24:07.685890",
     "exception": false,
     "start_time": "2022-03-28T08:24:07.634649",
     "status": "completed"
    },
    "tags": []
   },
   "outputs": [],
   "source": [
    "###########################################\n",
    "# The stratified datasets honor this\n",
    "###########################################\n",
    "torch.set_default_dtype(eval(p.torch_default_dtype))"
   ]
  },
  {
   "cell_type": "code",
   "execution_count": 8,
   "id": "b5fba671",
   "metadata": {
    "execution": {
     "iopub.execute_input": "2022-03-28T08:24:07.735148Z",
     "iopub.status.busy": "2022-03-28T08:24:07.734782Z",
     "iopub.status.idle": "2022-03-28T08:24:07.795357Z",
     "shell.execute_reply": "2022-03-28T08:24:07.794656Z"
    },
    "papermill": {
     "duration": 0.083563,
     "end_time": "2022-03-28T08:24:07.795510",
     "exception": false,
     "start_time": "2022-03-28T08:24:07.711947",
     "status": "completed"
    },
    "tags": []
   },
   "outputs": [],
   "source": [
    "###################################\n",
    "# Build the network(s)\n",
    "# Note: It's critical to do this AFTER setting the RNG\n",
    "###################################\n",
    "x_net = build_sequential(p.x_net)"
   ]
  },
  {
   "cell_type": "code",
   "execution_count": 9,
   "id": "5d7e61cc",
   "metadata": {
    "execution": {
     "iopub.execute_input": "2022-03-28T08:24:07.843060Z",
     "iopub.status.busy": "2022-03-28T08:24:07.842695Z",
     "iopub.status.idle": "2022-03-28T08:24:07.871048Z",
     "shell.execute_reply": "2022-03-28T08:24:07.870340Z"
    },
    "papermill": {
     "duration": 0.051266,
     "end_time": "2022-03-28T08:24:07.871200",
     "exception": false,
     "start_time": "2022-03-28T08:24:07.819934",
     "status": "completed"
    },
    "tags": []
   },
   "outputs": [],
   "source": [
    "start_time_secs = time.time()"
   ]
  },
  {
   "cell_type": "code",
   "execution_count": 10,
   "id": "c6b67dfd",
   "metadata": {
    "execution": {
     "iopub.execute_input": "2022-03-28T08:24:07.921862Z",
     "iopub.status.busy": "2022-03-28T08:24:07.921501Z",
     "iopub.status.idle": "2022-03-28T08:24:07.946832Z",
     "shell.execute_reply": "2022-03-28T08:24:07.946031Z"
    },
    "papermill": {
     "duration": 0.0491,
     "end_time": "2022-03-28T08:24:07.946985",
     "exception": false,
     "start_time": "2022-03-28T08:24:07.897885",
     "status": "completed"
    },
    "tags": []
   },
   "outputs": [],
   "source": [
    "p.domains_source = []\n",
    "p.domains_target = []\n",
    "\n",
    "\n",
    "train_original_source = []\n",
    "val_original_source   = []\n",
    "test_original_source  = []\n",
    "\n",
    "train_original_target = []\n",
    "val_original_target   = []\n",
    "test_original_target  = []"
   ]
  },
  {
   "cell_type": "code",
   "execution_count": 11,
   "id": "e3d9c3d3",
   "metadata": {
    "execution": {
     "iopub.execute_input": "2022-03-28T08:24:07.998312Z",
     "iopub.status.busy": "2022-03-28T08:24:07.997785Z",
     "iopub.status.idle": "2022-03-28T08:24:08.023927Z",
     "shell.execute_reply": "2022-03-28T08:24:08.023111Z"
    },
    "papermill": {
     "duration": 0.049367,
     "end_time": "2022-03-28T08:24:08.024079",
     "exception": false,
     "start_time": "2022-03-28T08:24:07.974712",
     "status": "completed"
    },
    "tags": []
   },
   "outputs": [],
   "source": [
    "# global_x_transform_func = lambda x: normalize(x.to(torch.get_default_dtype()), \"unit_power\") # unit_power, unit_mag\n",
    "# global_x_transform_func = lambda x: normalize(x, \"unit_power\") # unit_power, unit_mag"
   ]
  },
  {
   "cell_type": "code",
   "execution_count": 12,
   "id": "acb78fd2",
   "metadata": {
    "execution": {
     "iopub.execute_input": "2022-03-28T08:24:08.086957Z",
     "iopub.status.busy": "2022-03-28T08:24:08.086119Z",
     "iopub.status.idle": "2022-03-28T08:24:08.111570Z",
     "shell.execute_reply": "2022-03-28T08:24:08.110752Z"
    },
    "papermill": {
     "duration": 0.059166,
     "end_time": "2022-03-28T08:24:08.111723",
     "exception": false,
     "start_time": "2022-03-28T08:24:08.052557",
     "status": "completed"
    },
    "tags": []
   },
   "outputs": [],
   "source": [
    "def add_dataset(\n",
    "    labels,\n",
    "    domains,\n",
    "    pickle_path,\n",
    "    x_transforms,\n",
    "    episode_transforms,\n",
    "    domain_prefix,\n",
    "    num_examples_per_domain_per_label,\n",
    "    source_or_target_dataset:str,\n",
    "    iterator_seed=p.seed,\n",
    "    dataset_seed=p.dataset_seed,\n",
    "    n_shot=p.n_shot,\n",
    "    n_way=p.n_way,\n",
    "    n_query=p.n_query,\n",
    "    train_val_test_k_factors=(p.train_k_factor,p.val_k_factor,p.test_k_factor),\n",
    "):\n",
    "   \n",
    "    if x_transforms == []: x_transform = None\n",
    "    else: x_transform = get_chained_transform(x_transforms)\n",
    "    \n",
    "    if episode_transforms == []: episode_transform = None\n",
    "    else: raise Exception(\"episode_transforms not implemented\")\n",
    "    \n",
    "    episode_transform = lambda tup, _prefix=domain_prefix: (_prefix + str(tup[0]), tup[1])\n",
    "\n",
    "\n",
    "    eaf = Episodic_Accessor_Factory(\n",
    "        labels=labels,\n",
    "        domains=domains,\n",
    "        num_examples_per_domain_per_label=num_examples_per_domain_per_label,\n",
    "        iterator_seed=iterator_seed,\n",
    "        dataset_seed=dataset_seed,\n",
    "        n_shot=n_shot,\n",
    "        n_way=n_way,\n",
    "        n_query=n_query,\n",
    "        train_val_test_k_factors=train_val_test_k_factors,\n",
    "        pickle_path=pickle_path,\n",
    "        x_transform_func=x_transform,\n",
    "    )\n",
    "\n",
    "    train, val, test = eaf.get_train(), eaf.get_val(), eaf.get_test()\n",
    "    train = Lazy_Iterable_Wrapper(train, episode_transform)\n",
    "    val = Lazy_Iterable_Wrapper(val, episode_transform)\n",
    "    test = Lazy_Iterable_Wrapper(test, episode_transform)\n",
    "\n",
    "    if source_or_target_dataset==\"source\":\n",
    "        train_original_source.append(train)\n",
    "        val_original_source.append(val)\n",
    "        test_original_source.append(test)\n",
    "\n",
    "        p.domains_source.extend(\n",
    "            [domain_prefix + str(u) for u in domains]\n",
    "        )\n",
    "    elif source_or_target_dataset==\"target\":\n",
    "        train_original_target.append(train)\n",
    "        val_original_target.append(val)\n",
    "        test_original_target.append(test)\n",
    "        p.domains_target.extend(\n",
    "            [domain_prefix + str(u) for u in domains]\n",
    "        )\n",
    "    else:\n",
    "        raise Exception(f\"invalid source_or_target_dataset: {source_or_target_dataset}\")\n",
    "    "
   ]
  },
  {
   "cell_type": "code",
   "execution_count": 13,
   "id": "fe266617",
   "metadata": {
    "execution": {
     "iopub.execute_input": "2022-03-28T08:24:08.160059Z",
     "iopub.status.busy": "2022-03-28T08:24:08.159671Z",
     "iopub.status.idle": "2022-03-28T08:26:00.764878Z",
     "shell.execute_reply": "2022-03-28T08:26:00.764108Z"
    },
    "papermill": {
     "duration": 112.628758,
     "end_time": "2022-03-28T08:26:00.765063",
     "exception": false,
     "start_time": "2022-03-28T08:24:08.136305",
     "status": "completed"
    },
    "tags": []
   },
   "outputs": [],
   "source": [
    "for ds in p.datasets:\n",
    "    add_dataset(**ds)"
   ]
  },
  {
   "cell_type": "code",
   "execution_count": 14,
   "id": "b90d65ac",
   "metadata": {
    "execution": {
     "iopub.execute_input": "2022-03-28T08:26:00.814811Z",
     "iopub.status.busy": "2022-03-28T08:26:00.814436Z",
     "iopub.status.idle": "2022-03-28T08:26:00.837694Z",
     "shell.execute_reply": "2022-03-28T08:26:00.836886Z"
    },
    "papermill": {
     "duration": 0.047503,
     "end_time": "2022-03-28T08:26:00.837848",
     "exception": false,
     "start_time": "2022-03-28T08:26:00.790345",
     "status": "completed"
    },
    "tags": []
   },
   "outputs": [],
   "source": [
    "# from steves_utils.CORES.utils import (\n",
    "#     ALL_NODES,\n",
    "#     ALL_NODES_MINIMUM_1000_EXAMPLES,\n",
    "#     ALL_DAYS\n",
    "# )\n",
    "\n",
    "# add_dataset(\n",
    "#     labels=ALL_NODES,\n",
    "#     domains = ALL_DAYS,\n",
    "#     num_examples_per_domain_per_label=100,\n",
    "#     pickle_path=os.path.join(get_datasets_base_path(), \"cores.stratified_ds.2022A.pkl\"),\n",
    "#     source_or_target_dataset=\"target\",\n",
    "#     x_transform_func=global_x_transform_func,\n",
    "#     domain_modifier=lambda u: f\"cores_{u}\"\n",
    "# )"
   ]
  },
  {
   "cell_type": "code",
   "execution_count": 15,
   "id": "76db484d",
   "metadata": {
    "execution": {
     "iopub.execute_input": "2022-03-28T08:26:00.887268Z",
     "iopub.status.busy": "2022-03-28T08:26:00.886900Z",
     "iopub.status.idle": "2022-03-28T08:26:00.909833Z",
     "shell.execute_reply": "2022-03-28T08:26:00.909029Z"
    },
    "papermill": {
     "duration": 0.045993,
     "end_time": "2022-03-28T08:26:00.909987",
     "exception": false,
     "start_time": "2022-03-28T08:26:00.863994",
     "status": "completed"
    },
    "tags": []
   },
   "outputs": [],
   "source": [
    "# from steves_utils.ORACLE.utils_v2 import (\n",
    "#     ALL_DISTANCES_FEET,\n",
    "#     ALL_RUNS,\n",
    "#     ALL_SERIAL_NUMBERS,\n",
    "# )\n",
    "\n",
    "\n",
    "# add_dataset(\n",
    "#     labels=ALL_SERIAL_NUMBERS,\n",
    "#     domains = list(set(ALL_DISTANCES_FEET) - {2,62}),\n",
    "#     num_examples_per_domain_per_label=100,\n",
    "#     pickle_path=os.path.join(get_datasets_base_path(), \"oracle.Run2_framed_2000Examples_stratified_ds.2022A.pkl\"),\n",
    "#     source_or_target_dataset=\"source\",\n",
    "#     x_transform_func=global_x_transform_func,\n",
    "#     domain_modifier=lambda u: f\"oracle1_{u}\"\n",
    "# )\n"
   ]
  },
  {
   "cell_type": "code",
   "execution_count": 16,
   "id": "97dea9d2",
   "metadata": {
    "execution": {
     "iopub.execute_input": "2022-03-28T08:26:00.960842Z",
     "iopub.status.busy": "2022-03-28T08:26:00.960129Z",
     "iopub.status.idle": "2022-03-28T08:26:00.982824Z",
     "shell.execute_reply": "2022-03-28T08:26:00.982021Z"
    },
    "papermill": {
     "duration": 0.04673,
     "end_time": "2022-03-28T08:26:00.982978",
     "exception": false,
     "start_time": "2022-03-28T08:26:00.936248",
     "status": "completed"
    },
    "tags": []
   },
   "outputs": [],
   "source": [
    "# from steves_utils.ORACLE.utils_v2 import (\n",
    "#     ALL_DISTANCES_FEET,\n",
    "#     ALL_RUNS,\n",
    "#     ALL_SERIAL_NUMBERS,\n",
    "# )\n",
    "\n",
    "\n",
    "# add_dataset(\n",
    "#     labels=ALL_SERIAL_NUMBERS,\n",
    "#     domains = list(set(ALL_DISTANCES_FEET) - {2,62,56}),\n",
    "#     num_examples_per_domain_per_label=100,\n",
    "#     pickle_path=os.path.join(get_datasets_base_path(), \"oracle.Run2_framed_2000Examples_stratified_ds.2022A.pkl\"),\n",
    "#     source_or_target_dataset=\"source\",\n",
    "#     x_transform_func=global_x_transform_func,\n",
    "#     domain_modifier=lambda u: f\"oracle2_{u}\"\n",
    "# )"
   ]
  },
  {
   "cell_type": "code",
   "execution_count": 17,
   "id": "6f289866",
   "metadata": {
    "execution": {
     "iopub.execute_input": "2022-03-28T08:26:01.033177Z",
     "iopub.status.busy": "2022-03-28T08:26:01.032812Z",
     "iopub.status.idle": "2022-03-28T08:26:01.049882Z",
     "shell.execute_reply": "2022-03-28T08:26:01.049081Z"
    },
    "papermill": {
     "duration": 0.039237,
     "end_time": "2022-03-28T08:26:01.050034",
     "exception": false,
     "start_time": "2022-03-28T08:26:01.010797",
     "status": "completed"
    },
    "tags": []
   },
   "outputs": [],
   "source": [
    "# add_dataset(\n",
    "#     labels=list(range(19)),\n",
    "#     domains = [0,1,2],\n",
    "#     num_examples_per_domain_per_label=100,\n",
    "#     pickle_path=os.path.join(get_datasets_base_path(), \"metehan.stratified_ds.2022A.pkl\"),\n",
    "#     source_or_target_dataset=\"target\",\n",
    "#     x_transform_func=global_x_transform_func,\n",
    "#     domain_modifier=lambda u: f\"met_{u}\"\n",
    "# )"
   ]
  },
  {
   "cell_type": "code",
   "execution_count": 18,
   "id": "86a863c3",
   "metadata": {
    "execution": {
     "iopub.execute_input": "2022-03-28T08:26:01.099196Z",
     "iopub.status.busy": "2022-03-28T08:26:01.098823Z",
     "iopub.status.idle": "2022-03-28T08:26:01.115904Z",
     "shell.execute_reply": "2022-03-28T08:26:01.115081Z"
    },
    "papermill": {
     "duration": 0.039879,
     "end_time": "2022-03-28T08:26:01.116059",
     "exception": false,
     "start_time": "2022-03-28T08:26:01.076180",
     "status": "completed"
    },
    "tags": []
   },
   "outputs": [],
   "source": [
    "# # from steves_utils.wisig.utils import (\n",
    "# #     ALL_NODES_MINIMUM_100_EXAMPLES,\n",
    "# #     ALL_NODES_MINIMUM_500_EXAMPLES,\n",
    "# #     ALL_NODES_MINIMUM_1000_EXAMPLES,\n",
    "# #     ALL_DAYS\n",
    "# # )\n",
    "\n",
    "# import steves_utils.wisig.utils as wisig\n",
    "\n",
    "\n",
    "# add_dataset(\n",
    "#     labels=wisig.ALL_NODES_MINIMUM_100_EXAMPLES,\n",
    "#     domains = wisig.ALL_DAYS,\n",
    "#     num_examples_per_domain_per_label=100,\n",
    "#     pickle_path=os.path.join(get_datasets_base_path(), \"wisig.node3-19.stratified_ds.2022A.pkl\"),\n",
    "#     source_or_target_dataset=\"target\",\n",
    "#     x_transform_func=global_x_transform_func,\n",
    "#     domain_modifier=lambda u: f\"wisig_{u}\"\n",
    "# )"
   ]
  },
  {
   "cell_type": "code",
   "execution_count": 19,
   "id": "fd5442bc",
   "metadata": {
    "execution": {
     "iopub.execute_input": "2022-03-28T08:26:01.171679Z",
     "iopub.status.busy": "2022-03-28T08:26:01.167858Z",
     "iopub.status.idle": "2022-03-28T08:26:01.187929Z",
     "shell.execute_reply": "2022-03-28T08:26:01.187112Z"
    },
    "papermill": {
     "duration": 0.046624,
     "end_time": "2022-03-28T08:26:01.188080",
     "exception": false,
     "start_time": "2022-03-28T08:26:01.141456",
     "status": "completed"
    },
    "tags": []
   },
   "outputs": [],
   "source": [
    "###################################\n",
    "# Build the dataset\n",
    "###################################\n",
    "train_original_source = Iterable_Aggregator(train_original_source, p.seed)\n",
    "val_original_source = Iterable_Aggregator(val_original_source, p.seed)\n",
    "test_original_source = Iterable_Aggregator(test_original_source, p.seed)\n",
    "\n",
    "\n",
    "train_original_target = Iterable_Aggregator(train_original_target, p.seed)\n",
    "val_original_target = Iterable_Aggregator(val_original_target, p.seed)\n",
    "test_original_target = Iterable_Aggregator(test_original_target, p.seed)\n",
    "\n",
    "# For CNN We only use X and Y. And we only train on the source.\n",
    "# Properly form the data using a transform lambda and Lazy_Iterable_Wrapper. Finally wrap them in a dataloader\n",
    "\n",
    "transform_lambda = lambda ex: ex[1] # Original is (<domain>, <episode>) so we strip down to episode only\n",
    "\n",
    "train_processed_source = Lazy_Iterable_Wrapper(train_original_source, transform_lambda)\n",
    "val_processed_source   = Lazy_Iterable_Wrapper(val_original_source, transform_lambda)\n",
    "test_processed_source  = Lazy_Iterable_Wrapper(test_original_source, transform_lambda)\n",
    "\n",
    "train_processed_target = Lazy_Iterable_Wrapper(train_original_target, transform_lambda)\n",
    "val_processed_target   = Lazy_Iterable_Wrapper(val_original_target, transform_lambda)\n",
    "test_processed_target  = Lazy_Iterable_Wrapper(test_original_target, transform_lambda)\n",
    "\n",
    "datasets = EasyDict({\n",
    "    \"source\": {\n",
    "        \"original\": {\"train\":train_original_source, \"val\":val_original_source, \"test\":test_original_source},\n",
    "        \"processed\": {\"train\":train_processed_source, \"val\":val_processed_source, \"test\":test_processed_source}\n",
    "    },\n",
    "    \"target\": {\n",
    "        \"original\": {\"train\":train_original_target, \"val\":val_original_target, \"test\":test_original_target},\n",
    "        \"processed\": {\"train\":train_processed_target, \"val\":val_processed_target, \"test\":test_processed_target}\n",
    "    },\n",
    "})"
   ]
  },
  {
   "cell_type": "code",
   "execution_count": 20,
   "id": "5b3c01fc",
   "metadata": {
    "execution": {
     "iopub.execute_input": "2022-03-28T08:26:01.244865Z",
     "iopub.status.busy": "2022-03-28T08:26:01.238681Z",
     "iopub.status.idle": "2022-03-28T08:26:15.040233Z",
     "shell.execute_reply": "2022-03-28T08:26:15.041047Z"
    },
    "papermill": {
     "duration": 13.827948,
     "end_time": "2022-03-28T08:26:15.041264",
     "exception": false,
     "start_time": "2022-03-28T08:26:01.213316",
     "status": "completed"
    },
    "tags": []
   },
   "outputs": [
    {
     "name": "stdout",
     "output_type": "stream",
     "text": [
      "{'C_3', 'C_1', 'C_5', 'C_2', 'C_4'}\n"
     ]
    },
    {
     "name": "stdout",
     "output_type": "stream",
     "text": [
      "{'O_26', 'O_44', 'O_50', 'O_8', 'O_38', 'O_14', 'O_32', 'O_20'}\n"
     ]
    },
    {
     "name": "stdout",
     "output_type": "stream",
     "text": [
      "tensor([[[0., 0., 0.,  ..., 0., 0., 0.],\n",
      "         [0., 0., 0.,  ..., 0., 0., 0.]],\n",
      "\n",
      "        [[0., 0., 0.,  ..., 0., 0., 0.],\n",
      "         [0., 0., 0.,  ..., 0., 0., 0.]],\n",
      "\n",
      "        [[0., 0., 0.,  ..., 0., 0., 0.],\n",
      "         [0., 0., 0.,  ..., 0., 0., 0.]],\n",
      "\n",
      "        ...,\n",
      "\n",
      "        [[0., 0., 0.,  ..., 0., 0., 0.],\n",
      "         [0., 0., 0.,  ..., 0., 0., 0.]],\n",
      "\n",
      "        [[0., 0., 0.,  ..., 0., 0., 0.],\n",
      "         [0., 0., 0.,  ..., 0., 0., 0.]],\n",
      "\n",
      "        [[0., 0., 0.,  ..., 0., 0., 0.],\n",
      "         [0., 0., 0.,  ..., 0., 0., 0.]]])\n"
     ]
    }
   ],
   "source": [
    "from steves_utils.transforms import get_average_magnitude, get_average_power\n",
    "\n",
    "print(set([u for u,_ in val_original_source]))\n",
    "print(set([u for u,_ in val_original_target]))\n",
    "\n",
    "s_x, s_y, q_x, q_y, _ = next(iter(train_processed_source))\n",
    "print(s_x)\n",
    "\n",
    "# for ds in [\n",
    "#     train_processed_source,\n",
    "#     val_processed_source,\n",
    "#     test_processed_source,\n",
    "#     train_processed_target,\n",
    "#     val_processed_target,\n",
    "#     test_processed_target\n",
    "# ]:\n",
    "#     for s_x, s_y, q_x, q_y, _ in ds:\n",
    "#         for X in (s_x, q_x):\n",
    "#             for x in X:\n",
    "#                 assert np.isclose(get_average_magnitude(x.numpy()), 1.0)\n",
    "#                 assert np.isclose(get_average_power(x.numpy()), 1.0)\n",
    "                "
   ]
  },
  {
   "cell_type": "code",
   "execution_count": 21,
   "id": "bbdacba1",
   "metadata": {
    "execution": {
     "iopub.execute_input": "2022-03-28T08:26:15.095244Z",
     "iopub.status.busy": "2022-03-28T08:26:15.094609Z",
     "iopub.status.idle": "2022-03-28T08:26:15.335104Z",
     "shell.execute_reply": "2022-03-28T08:26:15.335789Z"
    },
    "papermill": {
     "duration": 0.26793,
     "end_time": "2022-03-28T08:26:15.335991",
     "exception": false,
     "start_time": "2022-03-28T08:26:15.068061",
     "status": "completed"
    },
    "tags": []
   },
   "outputs": [
    {
     "name": "stdout",
     "output_type": "stream",
     "text": [
      "(2, 256)\n"
     ]
    }
   ],
   "source": [
    "###################################\n",
    "# Build the model\n",
    "###################################\n",
    "# easfsl only wants a tuple for the shape\n",
    "model = Steves_Prototypical_Network(x_net, device=p.device, x_shape=tuple(p.x_shape))\n",
    "optimizer = Adam(params=model.parameters(), lr=p.lr)"
   ]
  },
  {
   "cell_type": "code",
   "execution_count": 22,
   "id": "22b39ac5",
   "metadata": {
    "execution": {
     "iopub.execute_input": "2022-03-28T08:26:15.393811Z",
     "iopub.status.busy": "2022-03-28T08:26:15.393163Z",
     "iopub.status.idle": "2022-03-28T08:50:40.717006Z",
     "shell.execute_reply": "2022-03-28T08:50:40.716665Z"
    },
    "papermill": {
     "duration": 1465.352694,
     "end_time": "2022-03-28T08:50:40.717091",
     "exception": false,
     "start_time": "2022-03-28T08:26:15.364397",
     "status": "completed"
    },
    "tags": []
   },
   "outputs": [
    {
     "name": "stdout",
     "output_type": "stream",
     "text": [
      "epoch: 1, [batch: 1 / 6316], examples_per_second: 32.8851, train_label_loss: 2.7183, \n"
     ]
    },
    {
     "name": "stdout",
     "output_type": "stream",
     "text": [
      "epoch: 1, [batch: 632 / 6316], examples_per_second: 3749.5086, train_label_loss: 0.0177, \n"
     ]
    },
    {
     "name": "stdout",
     "output_type": "stream",
     "text": [
      "epoch: 1, [batch: 1264 / 6316], examples_per_second: 3834.1266, train_label_loss: 0.0161, \n"
     ]
    },
    {
     "name": "stdout",
     "output_type": "stream",
     "text": [
      "epoch: 1, [batch: 1895 / 6316], examples_per_second: 3788.1253, train_label_loss: 0.0827, \n"
     ]
    },
    {
     "name": "stdout",
     "output_type": "stream",
     "text": [
      "epoch: 1, [batch: 2527 / 6316], examples_per_second: 3887.0353, train_label_loss: 0.0044, \n"
     ]
    },
    {
     "name": "stdout",
     "output_type": "stream",
     "text": [
      "epoch: 1, [batch: 3158 / 6316], examples_per_second: 3882.8035, train_label_loss: 0.0008, \n"
     ]
    },
    {
     "name": "stdout",
     "output_type": "stream",
     "text": [
      "epoch: 1, [batch: 3790 / 6316], examples_per_second: 3754.2331, train_label_loss: 0.0086, \n"
     ]
    },
    {
     "name": "stdout",
     "output_type": "stream",
     "text": [
      "epoch: 1, [batch: 4421 / 6316], examples_per_second: 3723.9037, train_label_loss: 0.0007, \n"
     ]
    },
    {
     "name": "stdout",
     "output_type": "stream",
     "text": [
      "epoch: 1, [batch: 5053 / 6316], examples_per_second: 3728.4884, train_label_loss: 0.0298, \n"
     ]
    },
    {
     "name": "stdout",
     "output_type": "stream",
     "text": [
      "epoch: 1, [batch: 5684 / 6316], examples_per_second: 3723.1744, train_label_loss: 0.0140, \n"
     ]
    },
    {
     "name": "stdout",
     "output_type": "stream",
     "text": [
      "=============================================================\n",
      "epoch: 1, source_val_acc_label: 0.9938, target_val_acc_label: 0.3297, source_val_label_loss: 0.1003, target_val_label_loss: 1.9463, \n",
      "=============================================================\n"
     ]
    },
    {
     "name": "stdout",
     "output_type": "stream",
     "text": [
      "New best\n"
     ]
    },
    {
     "name": "stdout",
     "output_type": "stream",
     "text": [
      "epoch: 2, [batch: 1 / 6296], examples_per_second: 4.4190, train_label_loss: 0.0006, \n"
     ]
    },
    {
     "name": "stdout",
     "output_type": "stream",
     "text": [
      "epoch: 2, [batch: 630 / 6296], examples_per_second: 3848.2796, train_label_loss: 0.0196, \n"
     ]
    },
    {
     "name": "stdout",
     "output_type": "stream",
     "text": [
      "epoch: 2, [batch: 1260 / 6296], examples_per_second: 3848.7948, train_label_loss: 0.0018, \n"
     ]
    },
    {
     "name": "stdout",
     "output_type": "stream",
     "text": [
      "epoch: 2, [batch: 1889 / 6296], examples_per_second: 3944.7600, train_label_loss: 0.0005, \n"
     ]
    },
    {
     "name": "stdout",
     "output_type": "stream",
     "text": [
      "epoch: 2, [batch: 2519 / 6296], examples_per_second: 3807.2326, train_label_loss: 0.0828, \n"
     ]
    },
    {
     "name": "stdout",
     "output_type": "stream",
     "text": [
      "epoch: 2, [batch: 3148 / 6296], examples_per_second: 3952.8031, train_label_loss: 0.0056, \n"
     ]
    },
    {
     "name": "stdout",
     "output_type": "stream",
     "text": [
      "epoch: 2, [batch: 3778 / 6296], examples_per_second: 3769.3634, train_label_loss: 0.0000, \n"
     ]
    },
    {
     "name": "stdout",
     "output_type": "stream",
     "text": [
      "epoch: 2, [batch: 4407 / 6296], examples_per_second: 3789.8191, train_label_loss: 0.0001, \n"
     ]
    },
    {
     "name": "stdout",
     "output_type": "stream",
     "text": [
      "epoch: 2, [batch: 5037 / 6296], examples_per_second: 3807.9374, train_label_loss: 0.0001, \n"
     ]
    },
    {
     "name": "stdout",
     "output_type": "stream",
     "text": [
      "epoch: 2, [batch: 5666 / 6296], examples_per_second: 3864.0379, train_label_loss: 0.0000, \n"
     ]
    },
    {
     "name": "stdout",
     "output_type": "stream",
     "text": [
      "=============================================================\n",
      "epoch: 2, source_val_acc_label: 0.9985, target_val_acc_label: 0.3589, source_val_label_loss: 0.0087, target_val_label_loss: 1.9307, \n",
      "=============================================================\n"
     ]
    },
    {
     "name": "stdout",
     "output_type": "stream",
     "text": [
      "New best\n"
     ]
    },
    {
     "name": "stdout",
     "output_type": "stream",
     "text": [
      "epoch: 3, [batch: 1 / 6299], examples_per_second: 4.3560, train_label_loss: 0.3565, \n"
     ]
    },
    {
     "name": "stdout",
     "output_type": "stream",
     "text": [
      "epoch: 3, [batch: 630 / 6299], examples_per_second: 3787.6950, train_label_loss: 0.0000, \n"
     ]
    },
    {
     "name": "stdout",
     "output_type": "stream",
     "text": [
      "epoch: 3, [batch: 1260 / 6299], examples_per_second: 3852.4248, train_label_loss: 0.0000, \n"
     ]
    },
    {
     "name": "stdout",
     "output_type": "stream",
     "text": [
      "epoch: 3, [batch: 1890 / 6299], examples_per_second: 3917.4768, train_label_loss: 0.0002, \n"
     ]
    },
    {
     "name": "stdout",
     "output_type": "stream",
     "text": [
      "epoch: 3, [batch: 2520 / 6299], examples_per_second: 3899.0378, train_label_loss: 0.0004, \n"
     ]
    },
    {
     "name": "stdout",
     "output_type": "stream",
     "text": [
      "epoch: 3, [batch: 3150 / 6299], examples_per_second: 3877.0569, train_label_loss: 0.0005, \n"
     ]
    },
    {
     "name": "stdout",
     "output_type": "stream",
     "text": [
      "epoch: 3, [batch: 3779 / 6299], examples_per_second: 3878.9674, train_label_loss: 0.0001, \n"
     ]
    },
    {
     "name": "stdout",
     "output_type": "stream",
     "text": [
      "epoch: 3, [batch: 4409 / 6299], examples_per_second: 3820.3702, train_label_loss: 0.0001, \n"
     ]
    },
    {
     "name": "stdout",
     "output_type": "stream",
     "text": [
      "epoch: 3, [batch: 5039 / 6299], examples_per_second: 3998.2615, train_label_loss: 0.0003, \n"
     ]
    },
    {
     "name": "stdout",
     "output_type": "stream",
     "text": [
      "epoch: 3, [batch: 5669 / 6299], examples_per_second: 4038.7968, train_label_loss: 0.0070, \n"
     ]
    },
    {
     "name": "stdout",
     "output_type": "stream",
     "text": [
      "=============================================================\n",
      "epoch: 3, source_val_acc_label: 0.9989, target_val_acc_label: 0.3730, source_val_label_loss: 0.0071, target_val_label_loss: 1.8583, \n",
      "=============================================================\n"
     ]
    },
    {
     "name": "stdout",
     "output_type": "stream",
     "text": [
      "New best\n"
     ]
    },
    {
     "name": "stdout",
     "output_type": "stream",
     "text": [
      "epoch: 4, [batch: 1 / 6316], examples_per_second: 4.4468, train_label_loss: 0.0266, \n"
     ]
    },
    {
     "name": "stdout",
     "output_type": "stream",
     "text": [
      "epoch: 4, [batch: 632 / 6316], examples_per_second: 4011.4046, train_label_loss: 0.0355, \n"
     ]
    },
    {
     "name": "stdout",
     "output_type": "stream",
     "text": [
      "epoch: 4, [batch: 1264 / 6316], examples_per_second: 3984.3923, train_label_loss: 0.0000, \n"
     ]
    },
    {
     "name": "stdout",
     "output_type": "stream",
     "text": [
      "epoch: 4, [batch: 1895 / 6316], examples_per_second: 4023.4731, train_label_loss: 0.0516, \n"
     ]
    },
    {
     "name": "stdout",
     "output_type": "stream",
     "text": [
      "epoch: 4, [batch: 2527 / 6316], examples_per_second: 3956.6730, train_label_loss: 0.0009, \n"
     ]
    },
    {
     "name": "stdout",
     "output_type": "stream",
     "text": [
      "epoch: 4, [batch: 3158 / 6316], examples_per_second: 3913.4182, train_label_loss: 0.0000, \n"
     ]
    },
    {
     "name": "stdout",
     "output_type": "stream",
     "text": [
      "epoch: 4, [batch: 3790 / 6316], examples_per_second: 3816.3350, train_label_loss: 0.0002, \n"
     ]
    },
    {
     "name": "stdout",
     "output_type": "stream",
     "text": [
      "epoch: 4, [batch: 4421 / 6316], examples_per_second: 3845.3764, train_label_loss: 0.0000, \n"
     ]
    },
    {
     "name": "stdout",
     "output_type": "stream",
     "text": [
      "epoch: 4, [batch: 5053 / 6316], examples_per_second: 3855.5734, train_label_loss: 0.0000, \n"
     ]
    },
    {
     "name": "stdout",
     "output_type": "stream",
     "text": [
      "epoch: 4, [batch: 5684 / 6316], examples_per_second: 3896.0690, train_label_loss: 0.0000, \n"
     ]
    },
    {
     "name": "stdout",
     "output_type": "stream",
     "text": [
      "=============================================================\n",
      "epoch: 4, source_val_acc_label: 0.9988, target_val_acc_label: 0.3759, source_val_label_loss: 0.0060, target_val_label_loss: 1.8683, \n",
      "=============================================================\n"
     ]
    },
    {
     "name": "stdout",
     "output_type": "stream",
     "text": [
      "New best\n"
     ]
    },
    {
     "name": "stdout",
     "output_type": "stream",
     "text": [
      "epoch: 5, [batch: 1 / 6313], examples_per_second: 4.4201, train_label_loss: 0.0000, \n"
     ]
    },
    {
     "name": "stdout",
     "output_type": "stream",
     "text": [
      "epoch: 5, [batch: 632 / 6313], examples_per_second: 3876.1390, train_label_loss: 0.0164, \n"
     ]
    },
    {
     "name": "stdout",
     "output_type": "stream",
     "text": [
      "epoch: 5, [batch: 1263 / 6313], examples_per_second: 4015.2170, train_label_loss: 0.0326, \n"
     ]
    },
    {
     "name": "stdout",
     "output_type": "stream",
     "text": [
      "epoch: 5, [batch: 1894 / 6313], examples_per_second: 4002.1103, train_label_loss: 0.0000, \n"
     ]
    },
    {
     "name": "stdout",
     "output_type": "stream",
     "text": [
      "epoch: 5, [batch: 2525 / 6313], examples_per_second: 3987.6289, train_label_loss: 0.0000, \n"
     ]
    },
    {
     "name": "stdout",
     "output_type": "stream",
     "text": [
      "epoch: 5, [batch: 3157 / 6313], examples_per_second: 3960.9616, train_label_loss: 0.0000, \n"
     ]
    },
    {
     "name": "stdout",
     "output_type": "stream",
     "text": [
      "epoch: 5, [batch: 3788 / 6313], examples_per_second: 4046.1429, train_label_loss: 0.0000, \n"
     ]
    },
    {
     "name": "stdout",
     "output_type": "stream",
     "text": [
      "epoch: 5, [batch: 4419 / 6313], examples_per_second: 3978.1154, train_label_loss: 0.0000, \n"
     ]
    },
    {
     "name": "stdout",
     "output_type": "stream",
     "text": [
      "epoch: 5, [batch: 5050 / 6313], examples_per_second: 3956.1141, train_label_loss: 0.0001, \n"
     ]
    },
    {
     "name": "stdout",
     "output_type": "stream",
     "text": [
      "epoch: 5, [batch: 5681 / 6313], examples_per_second: 3990.0403, train_label_loss: 0.0001, \n"
     ]
    },
    {
     "name": "stdout",
     "output_type": "stream",
     "text": [
      "=============================================================\n",
      "epoch: 5, source_val_acc_label: 0.9990, target_val_acc_label: 0.3269, source_val_label_loss: 0.0056, target_val_label_loss: 2.0956, \n",
      "=============================================================\n"
     ]
    },
    {
     "name": "stdout",
     "output_type": "stream",
     "text": [
      "epoch: 6, [batch: 1 / 6307], examples_per_second: 4.4096, train_label_loss: 0.0002, \n"
     ]
    },
    {
     "name": "stdout",
     "output_type": "stream",
     "text": [
      "epoch: 6, [batch: 631 / 6307], examples_per_second: 3784.5283, train_label_loss: 0.0002, \n"
     ]
    },
    {
     "name": "stdout",
     "output_type": "stream",
     "text": [
      "epoch: 6, [batch: 1262 / 6307], examples_per_second: 3862.5950, train_label_loss: 0.0001, \n"
     ]
    },
    {
     "name": "stdout",
     "output_type": "stream",
     "text": [
      "epoch: 6, [batch: 1892 / 6307], examples_per_second: 3864.2594, train_label_loss: 0.0000, \n"
     ]
    },
    {
     "name": "stdout",
     "output_type": "stream",
     "text": [
      "epoch: 6, [batch: 2523 / 6307], examples_per_second: 3864.1093, train_label_loss: 0.0000, \n"
     ]
    },
    {
     "name": "stdout",
     "output_type": "stream",
     "text": [
      "epoch: 6, [batch: 3154 / 6307], examples_per_second: 3884.7484, train_label_loss: 0.0001, \n"
     ]
    },
    {
     "name": "stdout",
     "output_type": "stream",
     "text": [
      "epoch: 6, [batch: 3784 / 6307], examples_per_second: 3799.5387, train_label_loss: 0.0000, \n"
     ]
    },
    {
     "name": "stdout",
     "output_type": "stream",
     "text": [
      "epoch: 6, [batch: 4415 / 6307], examples_per_second: 3829.4949, train_label_loss: 0.0000, \n"
     ]
    },
    {
     "name": "stdout",
     "output_type": "stream",
     "text": [
      "epoch: 6, [batch: 5045 / 6307], examples_per_second: 3799.8719, train_label_loss: 0.0001, \n"
     ]
    },
    {
     "name": "stdout",
     "output_type": "stream",
     "text": [
      "epoch: 6, [batch: 5676 / 6307], examples_per_second: 3794.7364, train_label_loss: 0.0000, \n"
     ]
    },
    {
     "name": "stdout",
     "output_type": "stream",
     "text": [
      "=============================================================\n",
      "epoch: 6, source_val_acc_label: 0.9994, target_val_acc_label: 0.3984, source_val_label_loss: 0.0054, target_val_label_loss: 1.7316, \n",
      "=============================================================\n"
     ]
    },
    {
     "name": "stdout",
     "output_type": "stream",
     "text": [
      "New best\n"
     ]
    },
    {
     "name": "stdout",
     "output_type": "stream",
     "text": [
      "epoch: 7, [batch: 1 / 6303], examples_per_second: 4.3900, train_label_loss: 0.0000, \n"
     ]
    },
    {
     "name": "stdout",
     "output_type": "stream",
     "text": [
      "epoch: 7, [batch: 631 / 6303], examples_per_second: 4179.7651, train_label_loss: 0.0001, \n"
     ]
    },
    {
     "name": "stdout",
     "output_type": "stream",
     "text": [
      "epoch: 7, [batch: 1261 / 6303], examples_per_second: 4238.5683, train_label_loss: 0.0004, \n"
     ]
    },
    {
     "name": "stdout",
     "output_type": "stream",
     "text": [
      "epoch: 7, [batch: 1891 / 6303], examples_per_second: 4391.7433, train_label_loss: 0.0000, \n"
     ]
    },
    {
     "name": "stdout",
     "output_type": "stream",
     "text": [
      "epoch: 7, [batch: 2521 / 6303], examples_per_second: 4274.8895, train_label_loss: 0.0007, \n"
     ]
    },
    {
     "name": "stdout",
     "output_type": "stream",
     "text": [
      "epoch: 7, [batch: 3152 / 6303], examples_per_second: 4396.8539, train_label_loss: 0.0001, \n"
     ]
    },
    {
     "name": "stdout",
     "output_type": "stream",
     "text": [
      "epoch: 7, [batch: 3782 / 6303], examples_per_second: 4423.0702, train_label_loss: 0.0000, \n"
     ]
    },
    {
     "name": "stdout",
     "output_type": "stream",
     "text": [
      "epoch: 7, [batch: 4412 / 6303], examples_per_second: 5121.0594, train_label_loss: 0.0000, \n"
     ]
    },
    {
     "name": "stdout",
     "output_type": "stream",
     "text": [
      "epoch: 7, [batch: 5042 / 6303], examples_per_second: 5358.8202, train_label_loss: 0.0000, \n"
     ]
    },
    {
     "name": "stdout",
     "output_type": "stream",
     "text": [
      "epoch: 7, [batch: 5672 / 6303], examples_per_second: 5220.2830, train_label_loss: 0.0000, \n"
     ]
    },
    {
     "name": "stdout",
     "output_type": "stream",
     "text": [
      "=============================================================\n",
      "epoch: 7, source_val_acc_label: 0.9991, target_val_acc_label: 0.3656, source_val_label_loss: 0.0071, target_val_label_loss: 1.9601, \n",
      "=============================================================\n"
     ]
    },
    {
     "name": "stdout",
     "output_type": "stream",
     "text": [
      "epoch: 8, [batch: 1 / 6292], examples_per_second: 5.4053, train_label_loss: 0.0000, \n"
     ]
    },
    {
     "name": "stdout",
     "output_type": "stream",
     "text": [
      "epoch: 8, [batch: 630 / 6292], examples_per_second: 4772.1503, train_label_loss: 0.0002, \n"
     ]
    },
    {
     "name": "stdout",
     "output_type": "stream",
     "text": [
      "epoch: 8, [batch: 1259 / 6292], examples_per_second: 5327.6151, train_label_loss: 0.0000, \n"
     ]
    },
    {
     "name": "stdout",
     "output_type": "stream",
     "text": [
      "epoch: 8, [batch: 1888 / 6292], examples_per_second: 4888.2523, train_label_loss: 0.0001, \n"
     ]
    },
    {
     "name": "stdout",
     "output_type": "stream",
     "text": [
      "epoch: 8, [batch: 2517 / 6292], examples_per_second: 4868.0619, train_label_loss: 0.0001, \n"
     ]
    },
    {
     "name": "stdout",
     "output_type": "stream",
     "text": [
      "epoch: 8, [batch: 3146 / 6292], examples_per_second: 5015.5693, train_label_loss: 0.0000, \n"
     ]
    },
    {
     "name": "stdout",
     "output_type": "stream",
     "text": [
      "epoch: 8, [batch: 3775 / 6292], examples_per_second: 5300.0609, train_label_loss: 0.0000, \n"
     ]
    },
    {
     "name": "stdout",
     "output_type": "stream",
     "text": [
      "epoch: 8, [batch: 4404 / 6292], examples_per_second: 5175.1386, train_label_loss: 0.0000, \n"
     ]
    },
    {
     "name": "stdout",
     "output_type": "stream",
     "text": [
      "epoch: 8, [batch: 5033 / 6292], examples_per_second: 5159.4874, train_label_loss: 0.0000, \n"
     ]
    },
    {
     "name": "stdout",
     "output_type": "stream",
     "text": [
      "epoch: 8, [batch: 5662 / 6292], examples_per_second: 5252.5027, train_label_loss: 0.0000, \n"
     ]
    },
    {
     "name": "stdout",
     "output_type": "stream",
     "text": [
      "=============================================================\n",
      "epoch: 8, source_val_acc_label: 0.9995, target_val_acc_label: 0.3477, source_val_label_loss: 0.0052, target_val_label_loss: 1.9171, \n",
      "=============================================================\n"
     ]
    },
    {
     "name": "stdout",
     "output_type": "stream",
     "text": [
      "epoch: 9, [batch: 1 / 6305], examples_per_second: 5.4624, train_label_loss: 0.0002, \n"
     ]
    },
    {
     "name": "stdout",
     "output_type": "stream",
     "text": [
      "epoch: 9, [batch: 631 / 6305], examples_per_second: 4955.5750, train_label_loss: 0.0002, \n"
     ]
    },
    {
     "name": "stdout",
     "output_type": "stream",
     "text": [
      "epoch: 9, [batch: 1261 / 6305], examples_per_second: 4849.5619, train_label_loss: 0.0000, \n"
     ]
    },
    {
     "name": "stdout",
     "output_type": "stream",
     "text": [
      "epoch: 9, [batch: 1892 / 6305], examples_per_second: 4798.8878, train_label_loss: 0.0000, \n"
     ]
    },
    {
     "name": "stdout",
     "output_type": "stream",
     "text": [
      "epoch: 9, [batch: 2522 / 6305], examples_per_second: 4694.2485, train_label_loss: 0.0022, \n"
     ]
    },
    {
     "name": "stdout",
     "output_type": "stream",
     "text": [
      "epoch: 9, [batch: 3153 / 6305], examples_per_second: 5339.9131, train_label_loss: 0.0000, \n"
     ]
    },
    {
     "name": "stdout",
     "output_type": "stream",
     "text": [
      "epoch: 9, [batch: 3783 / 6305], examples_per_second: 3992.4378, train_label_loss: 0.0006, \n"
     ]
    },
    {
     "name": "stdout",
     "output_type": "stream",
     "text": [
      "epoch: 9, [batch: 4413 / 6305], examples_per_second: 3896.0008, train_label_loss: 0.0000, \n"
     ]
    },
    {
     "name": "stdout",
     "output_type": "stream",
     "text": [
      "epoch: 9, [batch: 5044 / 6305], examples_per_second: 3791.4044, train_label_loss: 0.0000, \n"
     ]
    },
    {
     "name": "stdout",
     "output_type": "stream",
     "text": [
      "epoch: 9, [batch: 5674 / 6305], examples_per_second: 3854.0578, train_label_loss: 0.0000, \n"
     ]
    },
    {
     "name": "stdout",
     "output_type": "stream",
     "text": [
      "=============================================================\n",
      "epoch: 9, source_val_acc_label: 0.9990, target_val_acc_label: 0.2951, source_val_label_loss: 0.0061, target_val_label_loss: 2.5860, \n",
      "=============================================================\n"
     ]
    },
    {
     "name": "stdout",
     "output_type": "stream",
     "text": [
      "epoch: 10, [batch: 1 / 6298], examples_per_second: 4.0198, train_label_loss: 0.0000, \n"
     ]
    },
    {
     "name": "stdout",
     "output_type": "stream",
     "text": [
      "epoch: 10, [batch: 630 / 6298], examples_per_second: 3729.2372, train_label_loss: 0.0000, \n"
     ]
    },
    {
     "name": "stdout",
     "output_type": "stream",
     "text": [
      "epoch: 10, [batch: 1260 / 6298], examples_per_second: 3781.1252, train_label_loss: 0.0010, \n"
     ]
    },
    {
     "name": "stdout",
     "output_type": "stream",
     "text": [
      "epoch: 10, [batch: 1890 / 6298], examples_per_second: 3938.7826, train_label_loss: 0.0000, \n"
     ]
    },
    {
     "name": "stdout",
     "output_type": "stream",
     "text": [
      "epoch: 10, [batch: 2519 / 6298], examples_per_second: 4234.7780, train_label_loss: 0.0000, \n"
     ]
    },
    {
     "name": "stdout",
     "output_type": "stream",
     "text": [
      "epoch: 10, [batch: 3149 / 6298], examples_per_second: 4447.4444, train_label_loss: 0.0001, \n"
     ]
    },
    {
     "name": "stdout",
     "output_type": "stream",
     "text": [
      "epoch: 10, [batch: 3779 / 6298], examples_per_second: 3858.1167, train_label_loss: 0.0000, \n"
     ]
    },
    {
     "name": "stdout",
     "output_type": "stream",
     "text": [
      "epoch: 10, [batch: 4408 / 6298], examples_per_second: 3855.5602, train_label_loss: 0.0043, \n"
     ]
    },
    {
     "name": "stdout",
     "output_type": "stream",
     "text": [
      "epoch: 10, [batch: 5038 / 6298], examples_per_second: 3863.5562, train_label_loss: 0.0000, \n"
     ]
    },
    {
     "name": "stdout",
     "output_type": "stream",
     "text": [
      "epoch: 10, [batch: 5668 / 6298], examples_per_second: 3808.1033, train_label_loss: 0.0001, \n"
     ]
    },
    {
     "name": "stdout",
     "output_type": "stream",
     "text": [
      "=============================================================\n",
      "epoch: 10, source_val_acc_label: 0.9994, target_val_acc_label: 0.3853, source_val_label_loss: 0.0061, target_val_label_loss: 1.9987, \n",
      "=============================================================\n"
     ]
    },
    {
     "name": "stdout",
     "output_type": "stream",
     "text": [
      "Patience (3) exhausted\n"
     ]
    }
   ],
   "source": [
    "###################################\n",
    "# train\n",
    "###################################\n",
    "jig = PTN_Train_Eval_Test_Jig(model, p.BEST_MODEL_PATH, p.device)\n",
    "\n",
    "jig.train(\n",
    "    train_iterable=datasets.source.processed.train,\n",
    "    source_val_iterable=datasets.source.processed.val,\n",
    "    target_val_iterable=datasets.target.processed.val,\n",
    "    num_epochs=p.n_epoch,\n",
    "    num_logs_per_epoch=p.NUM_LOGS_PER_EPOCH,\n",
    "    patience=p.patience,\n",
    "    optimizer=optimizer,\n",
    "    criteria_for_best=p.criteria_for_best,\n",
    ")"
   ]
  },
  {
   "cell_type": "code",
   "execution_count": 23,
   "id": "31e8fabf",
   "metadata": {
    "execution": {
     "iopub.execute_input": "2022-03-28T08:50:40.828225Z",
     "iopub.status.busy": "2022-03-28T08:50:40.827717Z",
     "iopub.status.idle": "2022-03-28T08:50:40.859571Z",
     "shell.execute_reply": "2022-03-28T08:50:40.858847Z"
    },
    "papermill": {
     "duration": 0.090279,
     "end_time": "2022-03-28T08:50:40.859731",
     "exception": false,
     "start_time": "2022-03-28T08:50:40.769452",
     "status": "completed"
    },
    "tags": []
   },
   "outputs": [],
   "source": [
    "total_experiment_time_secs = time.time() - start_time_secs"
   ]
  },
  {
   "cell_type": "code",
   "execution_count": 24,
   "id": "87b9595b",
   "metadata": {
    "execution": {
     "iopub.execute_input": "2022-03-28T08:50:40.980366Z",
     "iopub.status.busy": "2022-03-28T08:50:40.979982Z",
     "iopub.status.idle": "2022-03-28T08:53:22.319584Z",
     "shell.execute_reply": "2022-03-28T08:53:22.320275Z"
    },
    "papermill": {
     "duration": 161.399572,
     "end_time": "2022-03-28T08:53:22.320506",
     "exception": false,
     "start_time": "2022-03-28T08:50:40.920934",
     "status": "completed"
    },
    "tags": []
   },
   "outputs": [],
   "source": [
    "###################################\n",
    "# Evaluate the model\n",
    "###################################\n",
    "source_test_label_accuracy, source_test_label_loss = jig.test(datasets.source.processed.test)\n",
    "target_test_label_accuracy, target_test_label_loss = jig.test(datasets.target.processed.test)\n",
    "\n",
    "source_val_label_accuracy, source_val_label_loss = jig.test(datasets.source.processed.val)\n",
    "target_val_label_accuracy, target_val_label_loss = jig.test(datasets.target.processed.val)\n",
    "\n",
    "history = jig.get_history()\n",
    "\n",
    "total_epochs_trained = len(history[\"epoch_indices\"])\n",
    "\n",
    "val_dl = Iterable_Aggregator((datasets.source.original.val,datasets.target.original.val))\n",
    "\n",
    "confusion = ptn_confusion_by_domain_over_dataloader(model, p.device, val_dl)\n",
    "per_domain_accuracy = per_domain_accuracy_from_confusion(confusion)\n",
    "\n",
    "# Add a key to per_domain_accuracy for if it was a source domain\n",
    "for domain, accuracy in per_domain_accuracy.items():\n",
    "    per_domain_accuracy[domain] = {\n",
    "        \"accuracy\": accuracy,\n",
    "        \"source?\": domain in p.domains_source\n",
    "    }\n",
    "\n",
    "# Do an independent accuracy assesment JUST TO BE SURE!\n",
    "# _source_test_label_accuracy = independent_accuracy_assesment(model, datasets.source.processed.test, p.device)\n",
    "# _target_test_label_accuracy = independent_accuracy_assesment(model, datasets.target.processed.test, p.device)\n",
    "# _source_val_label_accuracy = independent_accuracy_assesment(model, datasets.source.processed.val, p.device)\n",
    "# _target_val_label_accuracy = independent_accuracy_assesment(model, datasets.target.processed.val, p.device)\n",
    "\n",
    "# assert(_source_test_label_accuracy == source_test_label_accuracy)\n",
    "# assert(_target_test_label_accuracy == target_test_label_accuracy)\n",
    "# assert(_source_val_label_accuracy == source_val_label_accuracy)\n",
    "# assert(_target_val_label_accuracy == target_val_label_accuracy)\n",
    "\n",
    "experiment = {\n",
    "    \"experiment_name\": p.experiment_name,\n",
    "    \"parameters\": dict(p),\n",
    "    \"results\": {\n",
    "        \"source_test_label_accuracy\": source_test_label_accuracy,\n",
    "        \"source_test_label_loss\": source_test_label_loss,\n",
    "        \"target_test_label_accuracy\": target_test_label_accuracy,\n",
    "        \"target_test_label_loss\": target_test_label_loss,\n",
    "        \"source_val_label_accuracy\": source_val_label_accuracy,\n",
    "        \"source_val_label_loss\": source_val_label_loss,\n",
    "        \"target_val_label_accuracy\": target_val_label_accuracy,\n",
    "        \"target_val_label_loss\": target_val_label_loss,\n",
    "        \"total_epochs_trained\": total_epochs_trained,\n",
    "        \"total_experiment_time_secs\": total_experiment_time_secs,\n",
    "        \"confusion\": confusion,\n",
    "        \"per_domain_accuracy\": per_domain_accuracy,\n",
    "    },\n",
    "    \"history\": history,\n",
    "    \"dataset_metrics\": get_dataset_metrics(datasets, \"ptn\"),\n",
    "}"
   ]
  },
  {
   "cell_type": "code",
   "execution_count": 25,
   "id": "54a21829",
   "metadata": {
    "execution": {
     "iopub.execute_input": "2022-03-28T08:53:22.437387Z",
     "iopub.status.busy": "2022-03-28T08:53:22.437020Z",
     "iopub.status.idle": "2022-03-28T08:53:22.654277Z",
     "shell.execute_reply": "2022-03-28T08:53:22.654966Z"
    },
    "papermill": {
     "duration": 0.274724,
     "end_time": "2022-03-28T08:53:22.655180",
     "exception": false,
     "start_time": "2022-03-28T08:53:22.380456",
     "status": "completed"
    },
    "tags": []
   },
   "outputs": [
    {
     "data": {
      "image/png": "[encoded data removed]",
      "text/plain": [
       "<Figure size 1080x504 with 1 Axes>"
      ]
     },
     "metadata": {
      "needs_background": "light"
     },
     "output_type": "display_data"
    }
   ],
   "source": [
    "ax = get_loss_curve(experiment)\n",
    "plt.show()"
   ]
  },
  {
   "cell_type": "code",
   "execution_count": 26,
   "id": "fd8a0f60",
   "metadata": {
    "execution": {
     "iopub.execute_input": "2022-03-28T08:53:22.772162Z",
     "iopub.status.busy": "2022-03-28T08:53:22.771793Z",
     "iopub.status.idle": "2022-03-28T08:53:23.086902Z",
     "shell.execute_reply": "2022-03-28T08:53:23.087623Z"
    },
    "papermill": {
     "duration": 0.373508,
     "end_time": "2022-03-28T08:53:23.087849",
     "exception": false,
     "start_time": "2022-03-28T08:53:22.714341",
     "status": "completed"
    },
    "tags": []
   },
   "outputs": [
    {
     "data": {
      "text/plain": [
       "<AxesSubplot:title={'center':'Results'}>"
      ]
     },
     "execution_count": 26,
     "metadata": {},
     "output_type": "execute_result"
    },
    {
     "data": {
      "image/png": "[encoded data removed]",
      "text/plain": [
       "<Figure size 1080x504 with 1 Axes>"
      ]
     },
     "metadata": {
      "needs_background": "light"
     },
     "output_type": "display_data"
    }
   ],
   "source": [
    "get_results_table(experiment)"
   ]
  },
  {
   "cell_type": "code",
   "execution_count": 27,
   "id": "cf8dc689",
   "metadata": {
    "execution": {
     "iopub.execute_input": "2022-03-28T08:53:23.209325Z",
     "iopub.status.busy": "2022-03-28T08:53:23.208779Z",
     "iopub.status.idle": "2022-03-28T08:53:23.447120Z",
     "shell.execute_reply": "2022-03-28T08:53:23.446316Z"
    },
    "papermill": {
     "duration": 0.297047,
     "end_time": "2022-03-28T08:53:23.447275",
     "exception": false,
     "start_time": "2022-03-28T08:53:23.150228",
     "status": "completed"
    },
    "tags": []
   },
   "outputs": [
    {
     "data": {
      "text/plain": [
       "<AxesSubplot:title={'center':'Per Domain Validation Accuracy'}, xlabel='domain'>"
      ]
     },
     "execution_count": 27,
     "metadata": {},
     "output_type": "execute_result"
    },
    {
     "data": {
      "image/png": "[encoded data removed]",
      "text/plain": [
       "<Figure size 1080x504 with 1 Axes>"
      ]
     },
     "metadata": {
      "needs_background": "light"
     },
     "output_type": "display_data"
    }
   ],
   "source": [
    "get_domain_accuracies(experiment)"
   ]
  },
  {
   "cell_type": "code",
   "execution_count": 28,
   "id": "a74ae082",
   "metadata": {
    "execution": {
     "iopub.execute_input": "2022-03-28T08:53:23.575894Z",
     "iopub.status.busy": "2022-03-28T08:53:23.575500Z",
     "iopub.status.idle": "2022-03-28T08:53:23.600917Z",
     "shell.execute_reply": "2022-03-28T08:53:23.600211Z"
    },
    "papermill": {
     "duration": 0.089082,
     "end_time": "2022-03-28T08:53:23.601082",
     "exception": false,
     "start_time": "2022-03-28T08:53:23.512000",
     "status": "completed"
    },
    "tags": []
   },
   "outputs": [
    {
     "name": "stdout",
     "output_type": "stream",
     "text": [
      "Source Test Label Accuracy: 0.9993290960451977 Target Test Label Accuracy: 0.39723307291666665\n",
      "Source Val Label Accuracy: 0.9993571428571428 Target Val Label Accuracy: 0.3984375\n"
     ]
    }
   ],
   "source": [
    "print(\"Source Test Label Accuracy:\", experiment[\"results\"][\"source_test_label_accuracy\"], \"Target Test Label Accuracy:\", experiment[\"results\"][\"target_test_label_accuracy\"])\n",
    "print(\"Source Val Label Accuracy:\", experiment[\"results\"][\"source_val_label_accuracy\"], \"Target Val Label Accuracy:\", experiment[\"results\"][\"target_val_label_accuracy\"])"
   ]
  },
  {
   "cell_type": "code",
   "execution_count": 29,
   "id": "dacca602",
   "metadata": {
    "execution": {
     "iopub.execute_input": "2022-03-28T08:53:23.726072Z",
     "iopub.status.busy": "2022-03-28T08:53:23.725714Z",
     "iopub.status.idle": "2022-03-28T08:53:23.750311Z",
     "shell.execute_reply": "2022-03-28T08:53:23.750980Z"
    },
    "papermill": {
     "duration": 0.08519,
     "end_time": "2022-03-28T08:53:23.751161",
     "exception": false,
     "start_time": "2022-03-28T08:53:23.665971",
     "status": "completed"
    },
    "tags": [
     "experiment_json"
    ]
   },
   "outputs": [
    {
     "data": {
      "text/plain": [
       "'{\"experiment_name\": \"tl_3-jitter10v2:cores -> oracle.run1.framed\", \"parameters\": {\"experiment_name\": \"tl_3-jitter10v2:cores -> oracle.run1.framed\", \"device\": \"cuda\", \"lr\": 0.0001, \"x_shape\": [2, 256], \"n_shot\": 3, \"n_query\": 2, \"train_k_factor\": 3, \"val_k_factor\": 2, \"test_k_factor\": 2, \"torch_default_dtype\": \"torch.float32\", \"n_epoch\": 50, \"patience\": 3, \"criteria_for_best\": \"target_accuracy\", \"x_net\": [{\"class\": \"nnReshape\", \"kargs\": {\"shape\": [-1, 1, 2, 256]}}, {\"class\": \"Conv2d\", \"kargs\": {\"in_channels\": 1, \"out_channels\": 256, \"kernel_size\": [1, 7], \"bias\": false, \"padding\": [0, 3]}}, {\"class\": \"ReLU\", \"kargs\": {\"inplace\": true}}, {\"class\": \"BatchNorm2d\", \"kargs\": {\"num_features\": 256}}, {\"class\": \"Conv2d\", \"kargs\": {\"in_channels\": 256, \"out_channels\": 80, \"kernel_size\": [2, 7], \"bias\": true, \"padding\": [0, 3]}}, {\"class\": \"ReLU\", \"kargs\": {\"inplace\": true}}, {\"class\": \"BatchNorm2d\", \"kargs\": {\"num_features\": 80}}, {\"class\": \"Flatten\", \"kargs\": {}}, {\"class\": \"Linear\", \"kargs\": {\"in_features\": 20480, \"out_features\": 256}}, {\"class\": \"ReLU\", \"kargs\": {\"inplace\": true}}, {\"class\": \"BatchNorm1d\", \"kargs\": {\"num_features\": 256}}, {\"class\": \"Linear\", \"kargs\": {\"in_features\": 256, \"out_features\": 256}}], \"NUM_LOGS_PER_EPOCH\": 10, \"BEST_MODEL_PATH\": \"./best_model.pth\", \"n_way\": 16, \"datasets\": [{\"labels\": [\"1-10.\", \"1-11.\", \"1-15.\", \"1-16.\", \"1-17.\", \"1-18.\", \"1-19.\", \"10-4.\", \"10-7.\", \"11-1.\", \"11-14.\", \"11-17.\", \"11-20.\", \"11-7.\", \"13-20.\", \"13-8.\", \"14-10.\", \"14-11.\", \"14-14.\", \"14-7.\", \"15-1.\", \"15-20.\", \"16-1.\", \"16-16.\", \"17-10.\", \"17-11.\", \"17-2.\", \"19-1.\", \"19-16.\", \"19-19.\", \"19-20.\", \"19-3.\", \"2-10.\", \"2-11.\", \"2-17.\", \"2-18.\", \"2-20.\", \"2-3.\", \"2-4.\", \"2-5.\", \"2-6.\", \"2-7.\", \"2-8.\", \"3-13.\", \"3-18.\", \"3-3.\", \"4-1.\", \"4-10.\", \"4-11.\", \"4-19.\", \"5-5.\", \"6-15.\", \"7-10.\", \"7-14.\", \"8-18.\", \"8-20.\", \"8-3.\", \"8-8.\"], \"domains\": [1, 2, 3, 4, 5], \"num_examples_per_domain_per_label\": -1, \"pickle_path\": \"/root/csc500-main/datasets/cores.stratified_ds.2022A.pkl\", \"source_or_target_dataset\": \"source\", \"x_transforms\": [\"unit_mag\", \"jitter_256_10\", \"lowpass_+/-10MHz\", \"take_200\"], \"episode_transforms\": [], \"domain_prefix\": \"C_\"}, {\"labels\": [\"3123D52\", \"3123D65\", \"3123D79\", \"3123D80\", \"3123D54\", \"3123D70\", \"3123D7B\", \"3123D89\", \"3123D58\", \"3123D76\", \"3123D7D\", \"3123EFE\", \"3123D64\", \"3123D78\", \"3123D7E\", \"3124E4A\"], \"domains\": [32, 38, 8, 44, 14, 50, 20, 26], \"num_examples_per_domain_per_label\": 2000, \"pickle_path\": \"/root/csc500-main/datasets/oracle.Run1_framed_2000Examples_stratified_ds.2022A.pkl\", \"source_or_target_dataset\": \"target\", \"x_transforms\": [\"unit_mag\", \"jitter_256_10\", \"take_200\", \"resample_20Msps_to_25Msps\"], \"episode_transforms\": [], \"domain_prefix\": \"O_\"}], \"seed\": 7, \"dataset_seed\": 7, \"domains_source\": [\"C_1\", \"C_2\", \"C_3\", \"C_4\", \"C_5\"], \"domains_target\": [\"O_32\", \"O_38\", \"O_8\", \"O_44\", \"O_14\", \"O_50\", \"O_20\", \"O_26\"]}, \"results\": {\"source_test_label_accuracy\": 0.9993290960451977, \"source_test_label_loss\": 0.0044366950169205666, \"target_test_label_accuracy\": 0.39723307291666665, \"target_test_label_loss\": 1.7192559242248535, \"source_val_label_accuracy\": 0.9993571428571428, \"source_val_label_loss\": 0.005376880988478661, \"target_val_label_accuracy\": 0.3984375, \"target_val_label_loss\": 1.731624960899353, \"total_epochs_trained\": 10, \"total_experiment_time_secs\": 1592.9889369010925, \"confusion\": {\"C_5\": {\"26\": {\"26\": 24}, \"7\": {\"7\": 32}, \"56\": {\"56\": 142}, \"36\": {\"36\": 92}, \"47\": {\"47\": 100}, \"2\": {\"2\": 28}, \"15\": {\"15\": 152}, \"14\": {\"14\": 44}, \"27\": {\"27\": 146}, \"40\": {\"40\": 124}, \"49\": {\"49\": 36}, \"45\": {\"45\": 122, \"17\": 2}, \"46\": {\"46\": 136}, \"11\": {\"11\": 130}, \"30\": {\"30\": 112}, \"0\": {\"0\": 124}, \"10\": {\"10\": 68}, \"1\": {\"1\": 148}, \"42\": {\"42\": 38, \"10\": 1, \"3\": 1}, \"54\": {\"54\": 112}, \"55\": {\"55\": 152}, \"23\": {\"23\": 124}, \"25\": {\"25\": 152}, \"28\": {\"28\": 32}, \"32\": {\"32\": 32}, \"9\": {\"9\": 142}, \"39\": {\"39\": 20}, \"3\": {\"3\": 100}, \"29\": {\"29\": 118}, \"17\": {\"17\": 116}, \"35\": {\"35\": 36}, \"44\": {\"44\": 152}, \"5\": {\"5\": 128}, \"33\": {\"33\": 32}, \"34\": {\"34\": 36}, \"13\": {\"13\": 138}, \"41\": {\"41\": 28}, \"6\": {\"6\": 126, \"20\": 1, \"17\": 1}, \"51\": {\"51\": 138}, \"50\": {\"50\": 144}, \"37\": {\"37\": 24}, \"19\": {\"19\": 144}, \"57\": {\"57\": 132}, \"21\": {\"21\": 144}, \"24\": {\"24\": 80}, \"8\": {\"8\": 130}, \"12\": {\"12\": 96}, \"48\": {\"48\": 132}, \"43\": {\"43\": 150}, \"53\": {\"53\": 148}, \"38\": {\"38\": 32}, \"16\": {\"16\": 142}, \"22\": {\"22\": 28}, \"4\": {\"4\": 100}, \"18\": {\"18\": 64}, \"20\": {\"20\": 144}, \"52\": {\"52\": 140}, \"31\": {\"31\": 36}}, \"C_1\": {\"41\": {\"41\": 24}, \"40\": {\"40\": 110}, \"45\": {\"45\": 138}, \"51\": {\"51\": 148}, \"5\": {\"5\": 154}, \"30\": {\"30\": 120}, \"42\": {\"42\": 40}, \"46\": {\"46\": 136}, \"48\": {\"48\": 134}, \"53\": {\"53\": 144}, \"47\": {\"47\": 152}, \"49\": {\"49\": 32}, \"36\": {\"36\": 64}, \"32\": {\"32\": 32}, \"34\": {\"34\": 24}, \"29\": {\"29\": 140}, \"35\": {\"35\": 36}, \"3\": {\"3\": 134}, \"16\": {\"16\": 140}, \"26\": {\"26\": 24}, \"57\": {\"57\": 143, \"1\": 1}, \"44\": {\"44\": 128}, \"0\": {\"0\": 152}, \"4\": {\"4\": 132}, \"31\": {\"31\": 28}, \"11\": {\"11\": 140}, \"6\": {\"6\": 96}, \"54\": {\"54\": 104}, \"17\": {\"17\": 64}, \"20\": {\"20\": 128}, \"13\": {\"13\": 150}, \"33\": {\"33\": 32}, \"24\": {\"24\": 108}, \"52\": {\"52\": 132}, \"2\": {\"2\": 36}, \"19\": {\"19\": 156}, \"39\": {\"39\": 28}, \"8\": {\"8\": 140}, \"21\": {\"21\": 124}, \"10\": {\"10\": 96}, \"37\": {\"37\": 32}, \"25\": {\"25\": 144}, \"27\": {\"27\": 130}, \"23\": {\"23\": 136}, \"1\": {\"1\": 100}, \"50\": {\"50\": 152}, \"12\": {\"12\": 116}, \"18\": {\"18\": 72}, \"38\": {\"38\": 24}, \"14\": {\"14\": 24}, \"56\": {\"56\": 142}, \"55\": {\"55\": 160}, \"9\": {\"9\": 138}, \"15\": {\"15\": 146}, \"28\": {\"28\": 28}, \"7\": {\"7\": 28}, \"43\": {\"43\": 136}, \"22\": {\"22\": 136}}, \"C_3\": {\"1\": {\"1\": 100}, \"9\": {\"9\": 124}, \"22\": {\"22\": 136}, \"43\": {\"43\": 136}, \"49\": {\"49\": 20}, \"50\": {\"50\": 138}, \"53\": {\"53\": 136}, \"10\": {\"10\": 64}, \"48\": {\"48\": 116}, \"8\": {\"8\": 138}, \"31\": {\"31\": 28}, \"56\": {\"56\": 134}, \"25\": {\"25\": 142}, \"28\": {\"28\": 28}, \"38\": {\"38\": 28}, \"5\": {\"5\": 115, \"16\": 1}, \"12\": {\"12\": 92}, \"6\": {\"6\": 86, \"17\": 1, \"52\": 1}, \"19\": {\"19\": 152}, \"26\": {\"26\": 24}, \"32\": {\"32\": 28}, \"33\": {\"33\": 28}, \"3\": {\"3\": 117, \"16\": 1}, \"51\": {\"51\": 128}, \"16\": {\"16\": 138}, \"46\": {\"46\": 140}, \"7\": {\"7\": 36}, \"47\": {\"47\": 92}, \"39\": {\"39\": 16}, \"40\": {\"40\": 136}, \"14\": {\"14\": 40}, \"37\": {\"37\": 28}, \"2\": {\"2\": 32}, \"21\": {\"21\": 120}, \"35\": {\"35\": 28}, \"54\": {\"54\": 100}, \"52\": {\"52\": 116}, \"29\": {\"29\": 118}, \"20\": {\"20\": 132}, \"18\": {\"18\": 84}, \"11\": {\"11\": 142}, \"0\": {\"0\": 124}, \"36\": {\"36\": 100}, \"17\": {\"17\": 108}, \"30\": {\"30\": 114}, \"42\": {\"42\": 28}, \"45\": {\"45\": 60}, \"4\": {\"4\": 148}, \"23\": {\"23\": 134}, \"13\": {\"13\": 128}, \"15\": {\"15\": 128}, \"57\": {\"57\": 124}, \"27\": {\"27\": 134}, \"44\": {\"44\": 88}, \"34\": {\"34\": 32}, \"41\": {\"41\": 28}, \"24\": {\"24\": 104}, \"55\": {\"55\": 118}}, \"C_4\": {\"52\": {\"52\": 116}, \"6\": {\"6\": 112}, \"14\": {\"14\": 16}, \"49\": {\"49\": 20}, \"0\": {\"0\": 80}, \"46\": {\"46\": 154, \"15\": 2}, \"41\": {\"41\": 36}, \"24\": {\"24\": 56}, \"25\": {\"25\": 152}, \"40\": {\"40\": 138}, \"38\": {\"38\": 40}, \"13\": {\"13\": 152}, \"9\": {\"9\": 108}, \"45\": {\"45\": 96}, \"43\": {\"43\": 144}, \"10\": {\"10\": 130}, \"15\": {\"15\": 128}, \"39\": {\"39\": 20}, \"4\": {\"4\": 132}, \"53\": {\"53\": 132}, \"1\": {\"1\": 40}, \"28\": {\"28\": 32}, \"54\": {\"54\": 108}, \"21\": {\"21\": 132}, \"7\": {\"7\": 24}, \"8\": {\"8\": 136}, \"42\": {\"42\": 32}, \"11\": {\"11\": 104}, \"33\": {\"33\": 36}, \"27\": {\"27\": 142}, \"19\": {\"19\": 144}, \"2\": {\"2\": 36}, \"3\": {\"3\": 120}, \"57\": {\"57\": 100}, \"20\": {\"20\": 112}, \"23\": {\"23\": 128}, \"22\": {\"22\": 128}, \"29\": {\"29\": 124}, \"36\": {\"36\": 92}, \"51\": {\"51\": 132}, \"31\": {\"31\": 28}, \"12\": {\"12\": 92}, \"56\": {\"56\": 138}, \"5\": {\"5\": 108}, \"35\": {\"35\": 40}, \"17\": {\"17\": 80}, \"32\": {\"32\": 24}, \"47\": {\"47\": 120}, \"18\": {\"18\": 107, \"22\": 1}, \"26\": {\"26\": 24}, \"50\": {\"50\": 120, \"53\": 1, \"51\": 1}, \"55\": {\"55\": 124}, \"34\": {\"34\": 24}, \"30\": {\"30\": 44}, \"37\": {\"37\": 24}, \"44\": {\"44\": 132}, \"48\": {\"48\": 118}, \"16\": {\"16\": 96}}, \"C_2\": {\"11\": {\"11\": 130}, \"21\": {\"21\": 120}, \"19\": {\"19\": 140}, \"20\": {\"20\": 128}, \"9\": {\"9\": 140}, \"10\": {\"10\": 112}, \"37\": {\"37\": 36}, \"32\": {\"32\": 28}, \"3\": {\"3\": 92}, \"39\": {\"39\": 28}, \"45\": {\"45\": 128}, \"50\": {\"50\": 136}, \"40\": {\"40\": 140}, \"46\": {\"46\": 128}, \"12\": {\"12\": 92}, \"13\": {\"13\": 116}, \"47\": {\"47\": 132}, \"15\": {\"15\": 142}, \"54\": {\"54\": 108}, \"48\": {\"48\": 148}, \"23\": {\"23\": 142}, \"29\": {\"29\": 128}, \"38\": {\"38\": 20}, \"53\": {\"53\": 136}, \"27\": {\"27\": 150}, \"43\": {\"43\": 144}, \"35\": {\"35\": 32}, \"0\": {\"0\": 48}, \"52\": {\"52\": 124}, \"8\": {\"8\": 128}, \"24\": {\"24\": 96}, \"18\": {\"18\": 48}, \"25\": {\"25\": 148}, \"57\": {\"57\": 136}, \"55\": {\"55\": 134}, \"36\": {\"36\": 116}, \"17\": {\"17\": 104}, \"2\": {\"2\": 32}, \"34\": {\"34\": 28}, \"1\": {\"1\": 112}, \"51\": {\"51\": 136}, \"31\": {\"31\": 28}, \"49\": {\"49\": 24}, \"14\": {\"14\": 24}, \"33\": {\"33\": 28}, \"41\": {\"41\": 20}, \"28\": {\"28\": 28}, \"5\": {\"5\": 119, \"31\": 1}, \"16\": {\"16\": 150}, \"4\": {\"4\": 128}, \"22\": {\"22\": 136}, \"6\": {\"6\": 117, \"52\": 1}, \"30\": {\"30\": 124}, \"26\": {\"26\": 24}, \"56\": {\"56\": 142}, \"42\": {\"42\": 36}, \"44\": {\"44\": 100}, \"7\": {\"7\": 36}}, \"O_26\": {\"0\": {\"14\": 30, \"6\": 20, \"3\": 7, \"10\": 24, \"0\": 36, \"1\": 26, \"9\": 12, \"4\": 31, \"13\": 2, \"15\": 10, \"8\": 23, \"2\": 5, \"5\": 2, \"7\": 11, \"12\": 1}, \"4\": {\"0\": 28, \"8\": 17, \"4\": 27, \"9\": 10, \"14\": 36, \"1\": 36, \"7\": 19, \"2\": 10, \"6\": 9, \"3\": 16, \"15\": 6, \"10\": 21, \"5\": 4, \"13\": 1}, \"14\": {\"4\": 28, \"3\": 8, \"1\": 44, \"9\": 8, \"5\": 4, \"14\": 51, \"7\": 13, \"0\": 36, \"8\": 14, \"2\": 3, \"6\": 10, \"10\": 16, \"15\": 2, \"13\": 3}, \"12\": {\"12\": 211, \"11\": 13, \"6\": 9, \"15\": 1, \"10\": 2, \"14\": 1, \"5\": 1, \"9\": 2}, \"8\": {\"3\": 12, \"0\": 20, \"1\": 16, \"15\": 12, \"8\": 20, \"7\": 23, \"2\": 15, \"5\": 11, \"10\": 21, \"6\": 19, \"14\": 22, \"4\": 25, \"13\": 7, \"9\": 17}, \"7\": {\"0\": 18, \"14\": 17, \"7\": 36, \"8\": 22, \"10\": 12, \"2\": 25, \"3\": 43, \"1\": 6, \"4\": 21, \"9\": 12, \"5\": 16, \"15\": 8, \"6\": 2, \"13\": 2}, \"13\": {\"13\": 88, \"5\": 45, \"15\": 38, \"6\": 13, \"0\": 3, \"1\": 1, \"9\": 11, \"2\": 15, \"11\": 3, \"8\": 4, \"3\": 3, \"4\": 2, \"10\": 3, \"7\": 9, \"12\": 2}, \"5\": {\"5\": 32, \"10\": 9, \"15\": 25, \"3\": 17, \"13\": 49, \"14\": 5, \"2\": 25, \"4\": 9, \"8\": 9, \"9\": 28, \"6\": 11, \"0\": 1, \"1\": 2, \"7\": 18}, \"15\": {\"15\": 45, \"9\": 38, \"2\": 15, \"0\": 12, \"5\": 19, \"14\": 4, \"6\": 27, \"10\": 13, \"13\": 41, \"7\": 9, \"8\": 9, \"4\": 1, \"3\": 7}, \"10\": {\"1\": 12, \"14\": 30, \"0\": 27, \"10\": 42, \"9\": 18, \"7\": 16, \"4\": 19, \"8\": 25, \"6\": 28, \"13\": 3, \"2\": 3, \"15\": 8, \"3\": 6, \"5\": 3}, \"3\": {\"10\": 4, \"14\": 9, \"2\": 42, \"7\": 35, \"3\": 57, \"5\": 17, \"15\": 9, \"13\": 3, \"6\": 3, \"1\": 12, \"4\": 13, \"9\": 14, \"8\": 12, \"0\": 10}, \"9\": {\"0\": 9, \"6\": 33, \"9\": 55, \"15\": 29, \"3\": 8, \"10\": 19, \"4\": 12, \"13\": 10, \"8\": 13, \"14\": 6, \"7\": 14, \"5\": 14, \"2\": 10, \"12\": 4, \"1\": 4}, \"6\": {\"12\": 11, \"6\": 64, \"9\": 27, \"1\": 5, \"7\": 9, \"10\": 17, \"4\": 11, \"14\": 8, \"8\": 22, \"0\": 17, \"15\": 22, \"5\": 5, \"3\": 2, \"13\": 16, \"2\": 3, \"11\": 1}, \"1\": {\"4\": 47, \"1\": 64, \"3\": 12, \"8\": 18, \"14\": 38, \"9\": 3, \"0\": 20, \"10\": 15, \"2\": 8, \"15\": 2, \"7\": 9, \"5\": 1, \"6\": 3}, \"11\": {\"11\": 228, \"12\": 10, \"13\": 2}, \"2\": {\"14\": 9, \"2\": 42, \"15\": 16, \"5\": 30, \"3\": 51, \"7\": 21, \"13\": 16, \"6\": 8, \"0\": 2, \"8\": 12, \"1\": 8, \"9\": 7, \"10\": 10, \"4\": 8}}, \"O_44\": {\"1\": {\"10\": 46, \"12\": 62, \"2\": 13, \"1\": 60, \"3\": 50, \"7\": 8, \"13\": 1}, \"11\": {\"11\": 176, \"13\": 38, \"6\": 17, \"9\": 6, \"7\": 2, \"4\": 1}, \"3\": {\"3\": 138, \"7\": 4, \"1\": 53, \"12\": 23, \"2\": 10, \"10\": 9, \"9\": 3}, \"6\": {\"13\": 63, \"9\": 39, \"6\": 95, \"11\": 16, \"2\": 10, \"7\": 16, \"4\": 1}, \"7\": {\"7\": 72, \"3\": 7, \"2\": 57, \"9\": 53, \"13\": 13, \"10\": 15, \"6\": 14, \"12\": 3, \"11\": 2, \"1\": 4}, \"5\": {\"5\": 104, \"14\": 27, \"8\": 20, \"15\": 24, \"0\": 55, \"4\": 10}, \"2\": {\"2\": 82, \"12\": 14, \"10\": 44, \"9\": 20, \"7\": 50, \"13\": 3, \"1\": 13, \"6\": 4, \"3\": 10}, \"15\": {\"14\": 40, \"0\": 37, \"15\": 86, \"8\": 30, \"4\": 18, \"5\": 29}, \"10\": {\"10\": 86, \"3\": 9, \"12\": 57, \"2\": 56, \"1\": 25, \"9\": 2, \"6\": 1, \"7\": 4}, \"13\": {\"13\": 95, \"11\": 24, \"6\": 55, \"7\": 15, \"9\": 41, \"4\": 7, \"2\": 3}, \"8\": {\"0\": 70, \"8\": 118, \"15\": 26, \"5\": 21, \"14\": 5}, \"4\": {\"14\": 60, \"4\": 130, \"6\": 1, \"9\": 6, \"5\": 11, \"15\": 20, \"7\": 1, \"13\": 9, \"0\": 2}, \"9\": {\"9\": 84, \"13\": 23, \"6\": 35, \"7\": 63, \"11\": 5, \"10\": 4, \"4\": 2, \"2\": 15, \"3\": 5, \"1\": 1, \"14\": 3}, \"14\": {\"9\": 4, \"4\": 82, \"14\": 83, \"15\": 32, \"5\": 25, \"0\": 6, \"8\": 6, \"13\": 2}, \"0\": {\"14\": 12, \"8\": 64, \"15\": 37, \"0\": 89, \"5\": 38}, \"12\": {\"10\": 35, \"12\": 113, \"1\": 59, \"7\": 2, \"3\": 26, \"2\": 5}}, \"O_50\": {\"15\": {\"15\": 84, \"4\": 34, \"6\": 30, \"1\": 43, \"11\": 33, \"14\": 9, \"5\": 3, \"9\": 2, \"13\": 1, \"2\": 1}, \"4\": {\"4\": 57, \"1\": 51, \"5\": 34, \"6\": 24, \"14\": 1, \"0\": 2, \"13\": 15, \"15\": 31, \"7\": 10, \"11\": 11, \"9\": 2, \"10\": 2}, \"6\": {\"0\": 2, \"6\": 82, \"4\": 28, \"15\": 25, \"13\": 28, \"10\": 5, \"7\": 16, \"1\": 34, \"5\": 12, \"2\": 5, \"11\": 1, \"14\": 2}, \"2\": {\"2\": 151, \"0\": 63, \"14\": 13, \"1\": 5, \"6\": 2, \"12\": 1, \"4\": 2, \"10\": 2, \"5\": 1}, \"5\": {\"7\": 44, \"5\": 52, \"4\": 24, \"13\": 53, \"6\": 14, \"10\": 24, \"1\": 13, \"15\": 10, \"0\": 3, \"2\": 2, \"3\": 1}, \"9\": {\"11\": 48, \"9\": 130, \"12\": 42, \"14\": 18, \"4\": 1, \"15\": 1}, \"8\": {\"8\": 158, \"3\": 38, \"10\": 30, \"7\": 2, \"0\": 12}, \"12\": {\"14\": 41, \"12\": 153, \"9\": 37, \"11\": 7, \"2\": 1, \"15\": 1}, \"10\": {\"10\": 102, \"13\": 15, \"7\": 27, \"5\": 7, \"0\": 54, \"6\": 1, \"8\": 31, \"2\": 2, \"4\": 1}, \"1\": {\"15\": 45, \"7\": 2, \"1\": 75, \"4\": 43, \"6\": 30, \"11\": 9, \"0\": 4, \"5\": 12, \"14\": 7, \"2\": 5, \"13\": 7, \"9\": 1}, \"0\": {\"13\": 6, \"4\": 3, \"2\": 72, \"0\": 101, \"10\": 32, \"7\": 2, \"6\": 6, \"8\": 8, \"1\": 5, \"5\": 5}, \"3\": {\"8\": 46, \"3\": 190, \"10\": 3, \"7\": 1}, \"13\": {\"7\": 64, \"5\": 29, \"8\": 1, \"13\": 51, \"4\": 9, \"2\": 2, \"6\": 37, \"0\": 9, \"10\": 31, \"15\": 1, \"1\": 6}, \"11\": {\"14\": 24, \"9\": 61, \"11\": 106, \"15\": 27, \"1\": 10, \"12\": 8, \"4\": 3, \"2\": 1}, \"7\": {\"7\": 97, \"5\": 32, \"13\": 48, \"6\": 16, \"10\": 32, \"4\": 8, \"8\": 4, \"0\": 3}, \"14\": {\"11\": 28, \"14\": 132, \"15\": 10, \"12\": 35, \"9\": 18, \"2\": 7, \"1\": 7, \"0\": 2, \"6\": 1}}, \"O_38\": {\"15\": {\"1\": 34, \"13\": 51, \"8\": 21, \"15\": 81, \"2\": 12, \"10\": 20, \"5\": 13, \"6\": 1, \"14\": 2, \"0\": 4, \"7\": 1}, \"11\": {\"15\": 3, \"14\": 107, \"11\": 75, \"13\": 7, \"2\": 34, \"12\": 3, \"10\": 10, \"4\": 1}, \"10\": {\"10\": 110, \"8\": 26, \"15\": 18, \"2\": 7, \"14\": 14, \"11\": 11, \"12\": 4, \"7\": 6, \"13\": 30, \"0\": 5, \"5\": 7, \"1\": 2}, \"14\": {\"14\": 115, \"11\": 86, \"2\": 28, \"10\": 10, \"12\": 1}, \"6\": {\"9\": 79, \"1\": 9, \"6\": 100, \"5\": 24, \"0\": 7, \"8\": 5, \"3\": 11, \"7\": 5}, \"4\": {\"4\": 191, \"12\": 43, \"7\": 1, \"10\": 4, \"0\": 1}, \"13\": {\"15\": 54, \"14\": 5, \"10\": 30, \"7\": 3, \"13\": 74, \"2\": 30, \"8\": 10, \"1\": 22, \"0\": 4, \"6\": 1, \"11\": 2, \"9\": 1, \"5\": 4}, \"3\": {\"9\": 42, \"3\": 150, \"0\": 11, \"6\": 12, \"7\": 18, \"5\": 6, \"1\": 1}, \"7\": {\"5\": 35, \"0\": 46, \"7\": 116, \"8\": 19, \"6\": 3, \"10\": 4, \"4\": 3, \"3\": 9, \"13\": 1, \"12\": 1, \"9\": 3}, \"8\": {\"15\": 11, \"8\": 76, \"5\": 44, \"7\": 22, \"0\": 30, \"10\": 15, \"1\": 14, \"6\": 9, \"13\": 16, \"9\": 3}, \"1\": {\"1\": 150, \"15\": 38, \"13\": 19, \"8\": 7, \"5\": 11, \"6\": 12, \"10\": 1, \"2\": 1, \"9\": 1}, \"5\": {\"7\": 31, \"10\": 7, \"0\": 30, \"8\": 35, \"5\": 52, \"15\": 16, \"3\": 9, \"1\": 19, \"9\": 7, \"6\": 20, \"13\": 14}, \"0\": {\"7\": 55, \"0\": 56, \"8\": 52, \"5\": 29, \"9\": 4, \"3\": 16, \"10\": 7, \"4\": 1, \"13\": 4, \"15\": 7, \"12\": 3, \"1\": 1, \"6\": 5}, \"2\": {\"2\": 143, \"15\": 15, \"14\": 25, \"10\": 4, \"13\": 26, \"11\": 25, \"1\": 2}, \"12\": {\"12\": 192, \"11\": 6, \"4\": 35, \"10\": 4, \"14\": 2, \"15\": 1}, \"9\": {\"5\": 15, \"9\": 110, \"3\": 28, \"6\": 71, \"7\": 3, \"1\": 4, \"15\": 1, \"8\": 2, \"0\": 5, \"10\": 1}}, \"O_20\": {\"10\": {\"10\": 58, \"1\": 2, \"7\": 12, \"4\": 40, \"8\": 27, \"14\": 38, \"2\": 6, \"9\": 13, \"6\": 23, \"12\": 9, \"3\": 7, \"15\": 1, \"5\": 2, \"13\": 1, \"11\": 1}, \"7\": {\"5\": 6, \"2\": 25, \"11\": 13, \"7\": 35, \"4\": 12, \"10\": 10, \"8\": 18, \"3\": 14, \"6\": 27, \"12\": 7, \"0\": 12, \"15\": 8, \"9\": 17, \"14\": 12, \"1\": 13, \"13\": 11}, \"4\": {\"8\": 29, \"5\": 19, \"0\": 15, \"4\": 51, \"14\": 17, \"2\": 11, \"9\": 10, \"10\": 29, \"6\": 7, \"7\": 14, \"3\": 14, \"12\": 16, \"1\": 6, \"15\": 2}, \"13\": {\"1\": 20, \"13\": 64, \"9\": 21, \"7\": 9, \"3\": 11, \"5\": 15, \"12\": 5, \"0\": 18, \"2\": 28, \"11\": 9, \"15\": 37, \"8\": 3}, \"1\": {\"0\": 16, \"5\": 24, \"9\": 22, \"2\": 16, \"4\": 7, \"15\": 34, \"1\": 45, \"3\": 20, \"12\": 35, \"13\": 9, \"8\": 5, \"7\": 3, \"10\": 3, \"6\": 1}, \"0\": {\"10\": 4, \"5\": 31, \"0\": 60, \"12\": 19, \"2\": 7, \"14\": 1, \"15\": 26, \"13\": 15, \"4\": 9, \"3\": 12, \"1\": 13, \"8\": 20, \"7\": 15, \"9\": 8}, \"12\": {\"5\": 34, \"9\": 29, \"13\": 11, \"0\": 16, \"10\": 6, \"2\": 25, \"8\": 3, \"12\": 29, \"4\": 16, \"1\": 25, \"7\": 8, \"3\": 22, \"14\": 2, \"15\": 14}, \"5\": {\"2\": 14, \"15\": 29, \"0\": 39, \"3\": 22, \"13\": 11, \"1\": 28, \"12\": 25, \"6\": 3, \"9\": 13, \"7\": 12, \"4\": 11, \"5\": 25, \"8\": 3, \"14\": 2, \"10\": 3}, \"6\": {\"14\": 50, \"6\": 87, \"11\": 20, \"10\": 19, \"7\": 16, \"9\": 6, \"8\": 25, \"2\": 4, \"4\": 5, \"13\": 2, \"12\": 3, \"3\": 2, \"0\": 1}, \"2\": {\"13\": 25, \"12\": 16, \"4\": 9, \"2\": 38, \"14\": 3, \"3\": 15, \"5\": 8, \"15\": 13, \"8\": 10, \"0\": 8, \"1\": 22, \"7\": 31, \"9\": 28, \"6\": 5, \"11\": 6, \"10\": 3}, \"8\": {\"8\": 49, \"14\": 31, \"10\": 18, \"1\": 2, \"0\": 14, \"9\": 11, \"2\": 8, \"6\": 26, \"4\": 29, \"7\": 22, \"11\": 4, \"15\": 1, \"12\": 5, \"5\": 10, \"3\": 8, \"13\": 2}, \"11\": {\"11\": 163, \"2\": 6, \"13\": 21, \"9\": 4, \"7\": 17, \"8\": 2, \"6\": 19, \"3\": 1, \"15\": 2, \"10\": 1, \"14\": 1, \"0\": 3}, \"9\": {\"7\": 30, \"0\": 9, \"9\": 25, \"1\": 13, \"2\": 38, \"10\": 11, \"5\": 14, \"12\": 21, \"4\": 13, \"3\": 24, \"15\": 13, \"13\": 9, \"8\": 6, \"14\": 5, \"6\": 7, \"11\": 2}, \"14\": {\"8\": 34, \"10\": 30, \"6\": 55, \"9\": 1, \"2\": 2, \"14\": 71, \"4\": 25, \"7\": 9, \"5\": 4, \"12\": 1, \"1\": 1, \"11\": 2, \"3\": 1, \"0\": 4}, \"15\": {\"7\": 7, \"0\": 36, \"1\": 39, \"15\": 46, \"12\": 19, \"13\": 22, \"3\": 10, \"2\": 9, \"5\": 35, \"8\": 3, \"9\": 12, \"4\": 2}, \"3\": {\"9\": 27, \"1\": 31, \"7\": 11, \"10\": 10, \"8\": 12, \"4\": 12, \"3\": 26, \"6\": 4, \"12\": 30, \"2\": 23, \"0\": 19, \"15\": 10, \"5\": 10, \"14\": 6, \"13\": 8, \"11\": 1}}, \"O_14\": {\"14\": {\"3\": 23, \"14\": 79, \"5\": 6, \"2\": 39, \"0\": 12, \"13\": 38, \"11\": 3, \"4\": 7, \"6\": 24, \"10\": 8, \"1\": 1}, \"0\": {\"0\": 85, \"9\": 6, \"10\": 34, \"8\": 10, \"14\": 14, \"2\": 5, \"3\": 36, \"11\": 39, \"13\": 3, \"5\": 2, \"4\": 4, \"6\": 2}, \"4\": {\"3\": 40, \"1\": 18, \"2\": 29, \"4\": 73, \"6\": 7, \"0\": 11, \"5\": 40, \"10\": 2, \"14\": 8, \"15\": 3, \"7\": 2, \"13\": 5, \"8\": 2}, \"11\": {\"9\": 26, \"11\": 138, \"10\": 14, \"0\": 52, \"12\": 4, \"3\": 2, \"14\": 3, \"13\": 1}, \"13\": {\"6\": 82, \"14\": 33, \"13\": 71, \"4\": 11, \"2\": 19, \"10\": 10, \"3\": 4, \"15\": 5, \"5\": 5}, \"9\": {\"12\": 48, \"9\": 160, \"11\": 18, \"0\": 7, \"10\": 1, \"8\": 6}, \"3\": {\"5\": 25, \"3\": 67, \"10\": 2, \"4\": 30, \"0\": 38, \"2\": 31, \"14\": 19, \"1\": 13, \"7\": 2, \"8\": 6, \"6\": 1, \"13\": 5, \"11\": 1}, \"6\": {\"2\": 30, \"14\": 30, \"6\": 87, \"13\": 70, \"10\": 3, \"15\": 1, \"4\": 13, \"3\": 3, \"5\": 3}, \"1\": {\"8\": 13, \"4\": 32, \"1\": 126, \"7\": 20, \"5\": 26, \"2\": 8, \"3\": 8, \"15\": 7}, \"5\": {\"4\": 47, \"7\": 14, \"5\": 45, \"2\": 37, \"3\": 20, \"1\": 46, \"15\": 8, \"13\": 5, \"6\": 4, \"8\": 3, \"14\": 9, \"10\": 1, \"0\": 1}, \"12\": {\"9\": 55, \"11\": 4, \"12\": 180, \"0\": 1}, \"10\": {\"10\": 140, \"11\": 11, \"3\": 22, \"4\": 6, \"0\": 36, \"14\": 9, \"13\": 9, \"2\": 2, \"8\": 1, \"6\": 3, \"5\": 1}, \"8\": {\"1\": 13, \"8\": 193, \"5\": 8, \"0\": 6, \"11\": 1, \"9\": 4, \"3\": 6, \"4\": 8, \"7\": 1}, \"7\": {\"7\": 153, \"15\": 53, \"1\": 21, \"4\": 1, \"5\": 10, \"8\": 2}, \"15\": {\"15\": 161, \"1\": 7, \"13\": 2, \"7\": 47, \"4\": 5, \"2\": 5, \"5\": 10, \"3\": 1, \"6\": 2}, \"2\": {\"15\": 13, \"14\": 40, \"13\": 26, \"10\": 3, \"5\": 35, \"4\": 26, \"2\": 38, \"6\": 26, \"0\": 7, \"1\": 8, \"3\": 18}}, \"O_32\": {\"11\": {\"14\": 62, \"7\": 23, \"11\": 107, \"3\": 18, \"0\": 4, \"5\": 9, \"4\": 3, \"13\": 13, \"2\": 1}, \"1\": {\"10\": 43, \"1\": 196, \"6\": 1}, \"2\": {\"2\": 108, \"4\": 58, \"0\": 17, \"13\": 8, \"14\": 9, \"8\": 5, \"9\": 5, \"11\": 4, \"7\": 13, \"5\": 13}, \"0\": {\"0\": 84, \"5\": 8, \"7\": 12, \"8\": 34, \"4\": 26, \"14\": 27, \"3\": 2, \"2\": 23, \"13\": 20, \"11\": 4}, \"3\": {\"3\": 137, \"14\": 12, \"13\": 22, \"7\": 5, \"8\": 19, \"5\": 24, \"11\": 14, \"4\": 5, \"15\": 1, \"0\": 1}, \"8\": {\"4\": 16, \"8\": 111, \"14\": 4, \"13\": 14, \"3\": 18, \"2\": 4, \"0\": 38, \"7\": 3, \"15\": 8, \"5\": 18, \"11\": 6}, \"12\": {\"12\": 216, \"9\": 13, \"6\": 10, \"10\": 1}, \"5\": {\"14\": 15, \"4\": 32, \"7\": 22, \"2\": 20, \"3\": 27, \"13\": 37, \"0\": 15, \"5\": 44, \"8\": 18, \"11\": 10}, \"15\": {\"15\": 222, \"8\": 14, \"5\": 1, \"3\": 2, \"0\": 1}, \"7\": {\"11\": 27, \"5\": 22, \"7\": 40, \"3\": 15, \"0\": 11, \"8\": 9, \"4\": 37, \"2\": 26, \"14\": 27, \"13\": 26}, \"4\": {\"4\": 73, \"2\": 56, \"7\": 26, \"14\": 11, \"5\": 20, \"8\": 10, \"13\": 24, \"0\": 14, \"3\": 4, \"11\": 2}, \"14\": {\"3\": 14, \"5\": 17, \"14\": 69, \"11\": 67, \"7\": 17, \"8\": 10, \"2\": 8, \"4\": 10, \"13\": 15, \"0\": 13}, \"10\": {\"10\": 214, \"6\": 5, \"1\": 21}, \"6\": {\"6\": 229, \"10\": 5, \"12\": 6}, \"13\": {\"7\": 28, \"13\": 45, \"3\": 23, \"4\": 35, \"5\": 40, \"2\": 7, \"14\": 15, \"8\": 23, \"11\": 11, \"0\": 12, \"15\": 1}, \"9\": {\"9\": 227, \"12\": 9, \"0\": 1, \"8\": 1, \"2\": 2}}, \"O_8\": {\"9\": {\"9\": 239, \"5\": 1}, \"11\": {\"14\": 18, \"1\": 42, \"11\": 123, \"4\": 7, \"5\": 15, \"8\": 15, \"7\": 1, \"10\": 9, \"6\": 6, \"15\": 2, \"13\": 2}, \"8\": {\"8\": 95, \"6\": 11, \"14\": 11, \"1\": 17, \"11\": 11, \"12\": 19, \"15\": 36, \"4\": 6, \"3\": 2, \"7\": 19, \"0\": 3, \"2\": 3, \"13\": 4, \"10\": 1, \"5\": 2}, \"4\": {\"10\": 25, \"14\": 40, \"11\": 5, \"0\": 35, \"7\": 17, \"13\": 35, \"5\": 6, \"8\": 10, \"6\": 28, \"4\": 24, \"1\": 11, \"2\": 2, \"15\": 1, \"12\": 1}, \"13\": {\"10\": 32, \"0\": 34, \"7\": 23, \"4\": 34, \"6\": 25, \"13\": 55, \"14\": 15, \"5\": 13, \"1\": 3, \"8\": 3, \"2\": 1, \"12\": 1, \"15\": 1}, \"14\": {\"4\": 31, \"10\": 31, \"1\": 26, \"5\": 18, \"13\": 31, \"14\": 32, \"7\": 9, \"11\": 20, \"8\": 8, \"6\": 15, \"0\": 18, \"2\": 1}, \"2\": {\"12\": 27, \"2\": 95, \"6\": 6, \"7\": 17, \"3\": 69, \"15\": 16, \"0\": 5, \"14\": 1, \"8\": 3, \"13\": 1}, \"3\": {\"3\": 82, \"2\": 77, \"7\": 11, \"12\": 42, \"6\": 2, \"15\": 19, \"13\": 1, \"0\": 3, \"8\": 3}, \"1\": {\"4\": 12, \"5\": 21, \"11\": 62, \"14\": 29, \"1\": 60, \"10\": 19, \"7\": 5, \"13\": 9, \"0\": 4, \"6\": 9, \"8\": 9, \"15\": 1}, \"0\": {\"10\": 18, \"4\": 30, \"13\": 38, \"7\": 41, \"2\": 4, \"6\": 31, \"0\": 44, \"8\": 7, \"14\": 16, \"5\": 3, \"1\": 2, \"11\": 1, \"15\": 5}, \"5\": {\"6\": 4, \"1\": 41, \"11\": 17, \"5\": 91, \"14\": 28, \"10\": 41, \"13\": 9, \"0\": 2, \"4\": 4, \"7\": 2, \"9\": 1}, \"15\": {\"3\": 18, \"12\": 46, \"15\": 74, \"6\": 10, \"8\": 39, \"2\": 22, \"7\": 12, \"0\": 5, \"4\": 6, \"14\": 4, \"11\": 2, \"13\": 1, \"1\": 1}, \"10\": {\"1\": 16, \"10\": 41, \"4\": 20, \"5\": 36, \"14\": 24, \"13\": 42, \"0\": 24, \"7\": 7, \"11\": 12, \"6\": 16, \"9\": 1, \"8\": 1}, \"12\": {\"12\": 74, \"2\": 28, \"3\": 46, \"15\": 55, \"8\": 29, \"7\": 4, \"4\": 1, \"6\": 3}, \"6\": {\"13\": 17, \"14\": 18, \"6\": 44, \"10\": 11, \"4\": 35, \"1\": 6, \"2\": 8, \"7\": 42, \"0\": 25, \"15\": 8, \"8\": 15, \"3\": 1, \"12\": 5, \"11\": 3, \"5\": 2}, \"7\": {\"14\": 15, \"7\": 56, \"2\": 19, \"4\": 17, \"12\": 8, \"6\": 39, \"13\": 9, \"3\": 9, \"15\": 17, \"0\": 25, \"10\": 10, \"8\": 11, \"1\": 2, \"11\": 3}}}, \"per_domain_accuracy\": {\"C_5\": {\"accuracy\": 0.9989525139664804, \"source?\": true}, \"C_1\": {\"accuracy\": 0.9998301630434783, \"source?\": true}, \"C_3\": {\"accuracy\": 0.9992647058823529, \"source?\": true}, \"C_4\": {\"accuracy\": 0.999058734939759, \"source?\": true}, \"C_2\": {\"accuracy\": 0.9996448863636364, \"source?\": true}, \"O_26\": {\"accuracy\": 0.2859375, \"source?\": false}, \"O_44\": {\"accuracy\": 0.41953125, \"source?\": false}, \"O_50\": {\"accuracy\": 0.44817708333333334, \"source?\": false}, \"O_38\": {\"accuracy\": 0.46640625, \"source?\": false}, \"O_20\": {\"accuracy\": 0.22708333333333333, \"source?\": false}, \"O_14\": {\"accuracy\": 0.46770833333333334, \"source?\": false}, \"O_32\": {\"accuracy\": 0.5526041666666667, \"source?\": false}, \"O_8\": {\"accuracy\": 0.32005208333333335, \"source?\": false}}}, \"history\": {\"epoch_indices\": [1, 2, 3, 4, 5, 6, 7, 8, 9, 10], \"train_label_loss\": [0.05698899364221294, 0.04741468297588223, 0.015358019739645882, 0.0076768815491081235, 0.005890745963290231, 0.004762644686157799, 0.004206675326842178, 0.004204054264276607, 0.0024970357698247164, 0.0024054915305685297], \"source_val_label_loss\": [0.10030942410230637, 0.008718464523553848, 0.007134333252906799, 0.006011179182678461, 0.005587549414485693, 0.005376880988478661, 0.007051647640764713, 0.005157749634236097, 0.00614046910777688, 0.00606643408536911], \"target_val_label_loss\": [1.9463202953338623, 1.9307233095169067, 1.858250617980957, 1.8682832717895508, 2.0955796241760254, 1.731624960899353, 1.9601058959960938, 1.9171090126037598, 2.586036443710327, 1.9987099170684814], \"source_val_acc_label\": [0.99375, 0.9984642857142857, 0.9988928571428571, 0.9988214285714285, 0.9990357142857142, 0.9993571428571428, 0.9991071428571429, 0.9994642857142857, 0.999, 0.9993928571428572], \"target_val_acc_label\": [0.32965494791666666, 0.35885416666666664, 0.37298177083333334, 0.37591145833333334, 0.32688802083333335, 0.3984375, 0.365625, 0.34772135416666666, 0.2950520833333333, 0.38531901041666666]}, \"dataset_metrics\": {\"source\": {\"train\": {\"n_unique_x\": 175229, \"n_unique_y\": 58, \"n_batch/episode\": 6323}, \"val\": {\"n_unique_x\": 37151, \"n_unique_y\": 58, \"n_batch/episode\": 875}, \"test\": {\"n_unique_x\": 37548, \"n_unique_y\": 58, \"n_batch/episode\": 885}}, \"target\": {\"train\": {\"n_unique_x\": 179200, \"n_unique_y\": 16, \"n_batch/episode\": 6720}, \"val\": {\"n_unique_x\": 38400, \"n_unique_y\": 16, \"n_batch/episode\": 960}, \"test\": {\"n_unique_x\": 38400, \"n_unique_y\": 16, \"n_batch/episode\": 960}}}}'"
      ]
     },
     "execution_count": 29,
     "metadata": {},
     "output_type": "execute_result"
    }
   ],
   "source": [
    "json.dumps(experiment)"
   ]
  }
 ],
 "metadata": {
  "celltoolbar": "Tags",
  "kernelspec": {
   "display_name": "Python 3 (ipykernel)",
   "language": "python",
   "name": "python3"
  },
  "language_info": {
   "codemirror_mode": {
    "name": "ipython",
    "version": 3
   },
   "file_extension": ".py",
   "mimetype": "text/x-python",
   "name": "python",
   "nbconvert_exporter": "python",
   "pygments_lexer": "ipython3",
   "version": "3.8.12"
  },
  "papermill": {
   "default_parameters": {},
   "duration": 1762.753638,
   "end_time": "2022-03-28T08:53:27.021176",
   "environment_variables": {},
   "exception": null,
   "input_path": "/root/csc500-main/csc500-notebooks/templates/tl_ptn_template.ipynb",
   "output_path": "trial.ipynb",
   "parameters": {
    "parameters": {
     "BEST_MODEL_PATH": "./best_model.pth",
     "NUM_LOGS_PER_EPOCH": 10,
     "criteria_for_best": "target_accuracy",
     "dataset_seed": 7,
     "datasets": [
      {
       "domain_prefix": "C_",
       "domains": [
        1,
        2,
        3,
        4,
        5
       ],
       "episode_transforms": [],
       "labels": [
        "1-10.",
        "1-11.",
        "1-15.",
        "1-16.",
        "1-17.",
        "1-18.",
        "1-19.",
        "10-4.",
        "10-7.",
        "11-1.",
        "11-14.",
        "11-17.",
        "11-20.",
        "11-7.",
        "13-20.",
        "13-8.",
        "14-10.",
        "14-11.",
        "14-14.",
        "14-7.",
        "15-1.",
        "15-20.",
        "16-1.",
        "16-16.",
        "17-10.",
        "17-11.",
        "17-2.",
        "19-1.",
        "19-16.",
        "19-19.",
        "19-20.",
        "19-3.",
        "2-10.",
        "2-11.",
        "2-17.",
        "2-18.",
        "2-20.",
        "2-3.",
        "2-4.",
        "2-5.",
        "2-6.",
        "2-7.",
        "2-8.",
        "3-13.",
        "3-18.",
        "3-3.",
        "4-1.",
        "4-10.",
        "4-11.",
        "4-19.",
        "5-5.",
        "6-15.",
        "7-10.",
        "7-14.",
        "8-18.",
        "8-20.",
        "8-3.",
        "8-8."
       ],
       "num_examples_per_domain_per_label": -1,
       "pickle_path": "/root/csc500-main/datasets/cores.stratified_ds.2022A.pkl",
       "source_or_target_dataset": "source",
       "x_transforms": [
        "unit_mag",
        "jitter_256_10",
        "lowpass_+/-10MHz",
        "take_200"
       ]
      },
      {
       "domain_prefix": "O_",
       "domains": [
        32,
        38,
        8,
        44,
        14,
        50,
        20,
        26
       ],
       "episode_transforms": [],
       "labels": [
        "3123D52",
        "3123D65",
        "3123D79",
        "3123D80",
        "3123D54",
        "3123D70",
        "3123D7B",
        "3123D89",
        "3123D58",
        "3123D76",
        "3123D7D",
        "3123EFE",
        "3123D64",
        "3123D78",
        "3123D7E",
        "3124E4A"
       ],
       "num_examples_per_domain_per_label": 2000,
       "pickle_path": "/root/csc500-main/datasets/oracle.Run1_framed_2000Examples_stratified_ds.2022A.pkl",
       "source_or_target_dataset": "target",
       "x_transforms": [
        "unit_mag",
        "jitter_256_10",
        "take_200",
        "resample_20Msps_to_25Msps"
       ]
      }
     ],
     "device": "cuda",
     "experiment_name": "tl_3-jitter10v2:cores -> oracle.run1.framed",
     "lr": 0.0001,
     "n_epoch": 50,
     "n_query": 2,
     "n_shot": 3,
     "n_way": 16,
     "patience": 3,
     "seed": 7,
     "test_k_factor": 2,
     "torch_default_dtype": "torch.float32",
     "train_k_factor": 3,
     "val_k_factor": 2,
     "x_net": [
      {
       "class": "nnReshape",
       "kargs": {
        "shape": [
         -1,
         1,
         2,
         256
        ]
       }
      },
      {
       "class": "Conv2d",
       "kargs": {
        "bias": false,
        "in_channels": 1,
        "kernel_size": [
         1,
         7
        ],
        "out_channels": 256,
        "padding": [
         0,
         3
        ]
       }
      },
      {
       "class": "ReLU",
       "kargs": {
        "inplace": true
       }
      },
      {
       "class": "BatchNorm2d",
       "kargs": {
        "num_features": 256
       }
      },
      {
       "class": "Conv2d",
       "kargs": {
        "bias": true,
        "in_channels": 256,
        "kernel_size": [
         2,
         7
        ],
        "out_channels": 80,
        "padding": [
         0,
         3
        ]
       }
      },
      {
       "class": "ReLU",
       "kargs": {
        "inplace": true
       }
      },
      {
       "class": "BatchNorm2d",
       "kargs": {
        "num_features": 80
       }
      },
      {
       "class": "Flatten",
       "kargs": {}
      },
      {
       "class": "Linear",
       "kargs": {
        "in_features": 20480,
        "out_features": 256
       }
      },
      {
       "class": "ReLU",
       "kargs": {
        "inplace": true
       }
      },
      {
       "class": "BatchNorm1d",
       "kargs": {
        "num_features": 256
       }
      },
      {
       "class": "Linear",
       "kargs": {
        "in_features": 256,
        "out_features": 256
       }
      }
     ],
     "x_shape": [
      2,
      256
     ]
    }
   },
   "start_time": "2022-03-28T08:24:04.267538",
   "version": "2.3.4"
  }
 },
 "nbformat": 4,
 "nbformat_minor": 5
}