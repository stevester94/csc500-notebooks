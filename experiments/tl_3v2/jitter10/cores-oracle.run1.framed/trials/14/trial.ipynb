{
 "cells": [
  {
   "cell_type": "markdown",
   "id": "9fea5f46",
   "metadata": {
    "papermill": {
     "duration": 0.025144,
     "end_time": "2022-03-28T09:11:18.108901",
     "exception": false,
     "start_time": "2022-03-28T09:11:18.083757",
     "status": "completed"
    },
    "tags": []
   },
   "source": [
    "# Transfer Learning Template"
   ]
  },
  {
   "cell_type": "code",
   "execution_count": 1,
   "id": "0902182a",
   "metadata": {
    "execution": {
     "iopub.execute_input": "2022-03-28T09:11:18.168718Z",
     "iopub.status.busy": "2022-03-28T09:11:18.167862Z",
     "iopub.status.idle": "2022-03-28T09:11:20.014082Z",
     "shell.execute_reply": "2022-03-28T09:11:20.013453Z"
    },
    "papermill": {
     "duration": 1.885793,
     "end_time": "2022-03-28T09:11:20.014244",
     "exception": false,
     "start_time": "2022-03-28T09:11:18.128451",
     "status": "completed"
    },
    "tags": []
   },
   "outputs": [],
   "source": [
    "%load_ext autoreload\n",
    "%autoreload 2\n",
    "%matplotlib inline\n",
    "\n",
    "    \n",
    "import os, json, sys, time, random\n",
    "import numpy as np\n",
    "import torch\n",
    "from torch.optim import Adam\n",
    "from  easydict import EasyDict\n",
    "import matplotlib.pyplot as plt\n",
    "\n",
    "from steves_models.steves_ptn import Steves_Prototypical_Network\n",
    "\n",
    "from steves_utils.lazy_iterable_wrapper import Lazy_Iterable_Wrapper\n",
    "from steves_utils.iterable_aggregator import Iterable_Aggregator\n",
    "from steves_utils.ptn_train_eval_test_jig import  PTN_Train_Eval_Test_Jig\n",
    "from steves_utils.torch_sequential_builder import build_sequential\n",
    "from steves_utils.torch_utils import get_dataset_metrics, ptn_confusion_by_domain_over_dataloader\n",
    "from steves_utils.utils_v2 import (per_domain_accuracy_from_confusion, get_datasets_base_path)\n",
    "from steves_utils.PTN.utils import independent_accuracy_assesment\n",
    "\n",
    "from torch.utils.data import DataLoader\n",
    "\n",
    "from steves_utils.stratified_dataset.episodic_accessor import Episodic_Accessor_Factory\n",
    "\n",
    "from steves_utils.ptn_do_report import (\n",
    "    get_loss_curve,\n",
    "    get_results_table,\n",
    "    get_parameters_table,\n",
    "    get_domain_accuracies,\n",
    ")\n",
    "\n",
    "from steves_utils.transforms import get_chained_transform"
   ]
  },
  {
   "cell_type": "markdown",
   "id": "41c840b4",
   "metadata": {
    "papermill": {
     "duration": 0.02711,
     "end_time": "2022-03-28T09:11:20.072548",
     "exception": false,
     "start_time": "2022-03-28T09:11:20.045438",
     "status": "completed"
    },
    "tags": []
   },
   "source": [
    "# Allowed Parameters\n",
    "These are allowed parameters, not defaults\n",
    "Each of these values need to be present in the injected parameters (the notebook will raise an exception if they are not present)\n",
    "\n",
    "Papermill uses the cell tag \"parameters\" to inject the real parameters below this cell.\n",
    "Enable tags to see what I mean"
   ]
  },
  {
   "cell_type": "code",
   "execution_count": 2,
   "id": "fd44eb83",
   "metadata": {
    "execution": {
     "iopub.execute_input": "2022-03-28T09:11:20.115492Z",
     "iopub.status.busy": "2022-03-28T09:11:20.115061Z",
     "iopub.status.idle": "2022-03-28T09:11:20.134217Z",
     "shell.execute_reply": "2022-03-28T09:11:20.133484Z"
    },
    "papermill": {
     "duration": 0.041984,
     "end_time": "2022-03-28T09:11:20.134397",
     "exception": false,
     "start_time": "2022-03-28T09:11:20.092413",
     "status": "completed"
    },
    "tags": []
   },
   "outputs": [],
   "source": [
    "required_parameters = {\n",
    "    \"experiment_name\",\n",
    "    \"lr\",\n",
    "    \"device\",\n",
    "    \"seed\",\n",
    "    \"dataset_seed\",\n",
    "    \"n_shot\",\n",
    "    \"n_query\",\n",
    "    \"n_way\",\n",
    "    \"train_k_factor\",\n",
    "    \"val_k_factor\",\n",
    "    \"test_k_factor\",\n",
    "    \"n_epoch\",\n",
    "    \"patience\",\n",
    "    \"criteria_for_best\",\n",
    "    \"x_net\",\n",
    "    \"datasets\",\n",
    "    \"torch_default_dtype\",\n",
    "    \"NUM_LOGS_PER_EPOCH\",\n",
    "    \"BEST_MODEL_PATH\",\n",
    "    \"x_shape\",\n",
    "}"
   ]
  },
  {
   "cell_type": "code",
   "execution_count": 3,
   "id": "fa3f0049",
   "metadata": {
    "execution": {
     "iopub.execute_input": "2022-03-28T09:11:20.192463Z",
     "iopub.status.busy": "2022-03-28T09:11:20.190233Z",
     "iopub.status.idle": "2022-03-28T09:11:20.209987Z",
     "shell.execute_reply": "2022-03-28T09:11:20.209218Z"
    },
    "papermill": {
     "duration": 0.049879,
     "end_time": "2022-03-28T09:11:20.210166",
     "exception": false,
     "start_time": "2022-03-28T09:11:20.160287",
     "status": "completed"
    },
    "tags": [
     "parameters"
    ]
   },
   "outputs": [],
   "source": [
    "from steves_utils.CORES.utils import (\n",
    "    ALL_NODES,\n",
    "    ALL_NODES_MINIMUM_1000_EXAMPLES,\n",
    "    ALL_DAYS\n",
    ")\n",
    "\n",
    "from steves_utils.ORACLE.utils_v2 import (\n",
    "    ALL_DISTANCES_FEET_NARROWED,\n",
    "    ALL_RUNS,\n",
    "    ALL_SERIAL_NUMBERS,\n",
    ")\n",
    "\n",
    "standalone_parameters = {}\n",
    "standalone_parameters[\"experiment_name\"] = \"STANDALONE PTN\"\n",
    "standalone_parameters[\"lr\"] = 0.001\n",
    "standalone_parameters[\"device\"] = \"cuda\"\n",
    "\n",
    "standalone_parameters[\"seed\"] = 1337\n",
    "standalone_parameters[\"dataset_seed\"] = 1337\n",
    "\n",
    "standalone_parameters[\"n_way\"] = 8\n",
    "standalone_parameters[\"n_shot\"] = 3\n",
    "standalone_parameters[\"n_query\"]  = 2\n",
    "standalone_parameters[\"train_k_factor\"] = 1\n",
    "standalone_parameters[\"val_k_factor\"] = 2\n",
    "standalone_parameters[\"test_k_factor\"] = 2\n",
    "\n",
    "\n",
    "standalone_parameters[\"n_epoch\"] = 50\n",
    "\n",
    "standalone_parameters[\"patience\"] = 10\n",
    "standalone_parameters[\"criteria_for_best\"] = \"source_loss\"\n",
    "\n",
    "standalone_parameters[\"datasets\"] = [\n",
    "    {\n",
    "        \"labels\": ALL_SERIAL_NUMBERS,\n",
    "        \"domains\": ALL_DISTANCES_FEET_NARROWED,\n",
    "        \"num_examples_per_domain_per_label\": 100,\n",
    "        \"pickle_path\": os.path.join(get_datasets_base_path(), \"oracle.Run1_framed_2000Examples_stratified_ds.2022A.pkl\"),\n",
    "        \"source_or_target_dataset\": \"source\",\n",
    "        \"x_transforms\": [\"unit_mag\", \"minus_two\"],\n",
    "        \"episode_transforms\": [],\n",
    "        \"domain_prefix\": \"ORACLE_\"\n",
    "    },\n",
    "    {\n",
    "        \"labels\": ALL_NODES,\n",
    "        \"domains\": ALL_DAYS,\n",
    "        \"num_examples_per_domain_per_label\": 100,\n",
    "        \"pickle_path\": os.path.join(get_datasets_base_path(), \"cores.stratified_ds.2022A.pkl\"),\n",
    "        \"source_or_target_dataset\": \"target\",\n",
    "        \"x_transforms\": [\"unit_power\", \"times_zero\"],\n",
    "        \"episode_transforms\": [],\n",
    "        \"domain_prefix\": \"CORES_\"\n",
    "    }   \n",
    "]\n",
    "\n",
    "standalone_parameters[\"torch_default_dtype\"] = \"torch.float32\" \n",
    "\n",
    "\n",
    "\n",
    "standalone_parameters[\"x_net\"] =     [\n",
    "    {\"class\": \"nnReshape\", \"kargs\": {\"shape\":[-1, 1, 2, 256]}},\n",
    "    {\"class\": \"Conv2d\", \"kargs\": { \"in_channels\":1, \"out_channels\":256, \"kernel_size\":(1,7), \"bias\":False, \"padding\":(0,3), },},\n",
    "    {\"class\": \"ReLU\", \"kargs\": {\"inplace\": True}},\n",
    "    {\"class\": \"BatchNorm2d\", \"kargs\": {\"num_features\":256}},\n",
    "\n",
    "    {\"class\": \"Conv2d\", \"kargs\": { \"in_channels\":256, \"out_channels\":80, \"kernel_size\":(2,7), \"bias\":True, \"padding\":(0,3), },},\n",
    "    {\"class\": \"ReLU\", \"kargs\": {\"inplace\": True}},\n",
    "    {\"class\": \"BatchNorm2d\", \"kargs\": {\"num_features\":80}},\n",
    "    {\"class\": \"Flatten\", \"kargs\": {}},\n",
    "\n",
    "    {\"class\": \"Linear\", \"kargs\": {\"in_features\": 80*256, \"out_features\": 256}}, # 80 units per IQ pair\n",
    "    {\"class\": \"ReLU\", \"kargs\": {\"inplace\": True}},\n",
    "    {\"class\": \"BatchNorm1d\", \"kargs\": {\"num_features\":256}},\n",
    "\n",
    "    {\"class\": \"Linear\", \"kargs\": {\"in_features\": 256, \"out_features\": 256}},\n",
    "]\n",
    "\n",
    "# Parameters relevant to results\n",
    "# These parameters will basically never need to change\n",
    "standalone_parameters[\"NUM_LOGS_PER_EPOCH\"] = 10\n",
    "standalone_parameters[\"BEST_MODEL_PATH\"] = \"./best_model.pth\"\n",
    "\n",
    "\n",
    "\n",
    "\n"
   ]
  },
  {
   "cell_type": "code",
   "execution_count": 4,
   "id": "e9adcdc5",
   "metadata": {
    "execution": {
     "iopub.execute_input": "2022-03-28T09:11:20.279105Z",
     "iopub.status.busy": "2022-03-28T09:11:20.275947Z",
     "iopub.status.idle": "2022-03-28T09:11:20.294640Z",
     "shell.execute_reply": "2022-03-28T09:11:20.295299Z"
    },
    "papermill": {
     "duration": 0.057086,
     "end_time": "2022-03-28T09:11:20.295544",
     "exception": false,
     "start_time": "2022-03-28T09:11:20.238458",
     "status": "completed"
    },
    "tags": [
     "injected-parameters"
    ]
   },
   "outputs": [],
   "source": [
    "# Parameters\n",
    "parameters = {\n",
    "    \"experiment_name\": \"tl_3-jitter10v2:cores -> oracle.run1.framed\",\n",
    "    \"device\": \"cuda\",\n",
    "    \"lr\": 0.0001,\n",
    "    \"x_shape\": [2, 256],\n",
    "    \"n_shot\": 3,\n",
    "    \"n_query\": 2,\n",
    "    \"train_k_factor\": 3,\n",
    "    \"val_k_factor\": 2,\n",
    "    \"test_k_factor\": 2,\n",
    "    \"torch_default_dtype\": \"torch.float32\",\n",
    "    \"n_epoch\": 50,\n",
    "    \"patience\": 3,\n",
    "    \"criteria_for_best\": \"target_accuracy\",\n",
    "    \"x_net\": [\n",
    "        {\"class\": \"nnReshape\", \"kargs\": {\"shape\": [-1, 1, 2, 256]}},\n",
    "        {\n",
    "            \"class\": \"Conv2d\",\n",
    "            \"kargs\": {\n",
    "                \"in_channels\": 1,\n",
    "                \"out_channels\": 256,\n",
    "                \"kernel_size\": [1, 7],\n",
    "                \"bias\": False,\n",
    "                \"padding\": [0, 3],\n",
    "            },\n",
    "        },\n",
    "        {\"class\": \"ReLU\", \"kargs\": {\"inplace\": True}},\n",
    "        {\"class\": \"BatchNorm2d\", \"kargs\": {\"num_features\": 256}},\n",
    "        {\n",
    "            \"class\": \"Conv2d\",\n",
    "            \"kargs\": {\n",
    "                \"in_channels\": 256,\n",
    "                \"out_channels\": 80,\n",
    "                \"kernel_size\": [2, 7],\n",
    "                \"bias\": True,\n",
    "                \"padding\": [0, 3],\n",
    "            },\n",
    "        },\n",
    "        {\"class\": \"ReLU\", \"kargs\": {\"inplace\": True}},\n",
    "        {\"class\": \"BatchNorm2d\", \"kargs\": {\"num_features\": 80}},\n",
    "        {\"class\": \"Flatten\", \"kargs\": {}},\n",
    "        {\"class\": \"Linear\", \"kargs\": {\"in_features\": 20480, \"out_features\": 256}},\n",
    "        {\"class\": \"ReLU\", \"kargs\": {\"inplace\": True}},\n",
    "        {\"class\": \"BatchNorm1d\", \"kargs\": {\"num_features\": 256}},\n",
    "        {\"class\": \"Linear\", \"kargs\": {\"in_features\": 256, \"out_features\": 256}},\n",
    "    ],\n",
    "    \"NUM_LOGS_PER_EPOCH\": 10,\n",
    "    \"BEST_MODEL_PATH\": \"./best_model.pth\",\n",
    "    \"n_way\": 16,\n",
    "    \"datasets\": [\n",
    "        {\n",
    "            \"labels\": [\n",
    "                \"1-10.\",\n",
    "                \"1-11.\",\n",
    "                \"1-15.\",\n",
    "                \"1-16.\",\n",
    "                \"1-17.\",\n",
    "                \"1-18.\",\n",
    "                \"1-19.\",\n",
    "                \"10-4.\",\n",
    "                \"10-7.\",\n",
    "                \"11-1.\",\n",
    "                \"11-14.\",\n",
    "                \"11-17.\",\n",
    "                \"11-20.\",\n",
    "                \"11-7.\",\n",
    "                \"13-20.\",\n",
    "                \"13-8.\",\n",
    "                \"14-10.\",\n",
    "                \"14-11.\",\n",
    "                \"14-14.\",\n",
    "                \"14-7.\",\n",
    "                \"15-1.\",\n",
    "                \"15-20.\",\n",
    "                \"16-1.\",\n",
    "                \"16-16.\",\n",
    "                \"17-10.\",\n",
    "                \"17-11.\",\n",
    "                \"17-2.\",\n",
    "                \"19-1.\",\n",
    "                \"19-16.\",\n",
    "                \"19-19.\",\n",
    "                \"19-20.\",\n",
    "                \"19-3.\",\n",
    "                \"2-10.\",\n",
    "                \"2-11.\",\n",
    "                \"2-17.\",\n",
    "                \"2-18.\",\n",
    "                \"2-20.\",\n",
    "                \"2-3.\",\n",
    "                \"2-4.\",\n",
    "                \"2-5.\",\n",
    "                \"2-6.\",\n",
    "                \"2-7.\",\n",
    "                \"2-8.\",\n",
    "                \"3-13.\",\n",
    "                \"3-18.\",\n",
    "                \"3-3.\",\n",
    "                \"4-1.\",\n",
    "                \"4-10.\",\n",
    "                \"4-11.\",\n",
    "                \"4-19.\",\n",
    "                \"5-5.\",\n",
    "                \"6-15.\",\n",
    "                \"7-10.\",\n",
    "                \"7-14.\",\n",
    "                \"8-18.\",\n",
    "                \"8-20.\",\n",
    "                \"8-3.\",\n",
    "                \"8-8.\",\n",
    "            ],\n",
    "            \"domains\": [1, 2, 3, 4, 5],\n",
    "            \"num_examples_per_domain_per_label\": -1,\n",
    "            \"pickle_path\": \"/root/csc500-main/datasets/cores.stratified_ds.2022A.pkl\",\n",
    "            \"source_or_target_dataset\": \"source\",\n",
    "            \"x_transforms\": [\"jitter_256_10\", \"lowpass_+/-10MHz\", \"take_200\"],\n",
    "            \"episode_transforms\": [],\n",
    "            \"domain_prefix\": \"C_\",\n",
    "        },\n",
    "        {\n",
    "            \"labels\": [\n",
    "                \"3123D52\",\n",
    "                \"3123D65\",\n",
    "                \"3123D79\",\n",
    "                \"3123D80\",\n",
    "                \"3123D54\",\n",
    "                \"3123D70\",\n",
    "                \"3123D7B\",\n",
    "                \"3123D89\",\n",
    "                \"3123D58\",\n",
    "                \"3123D76\",\n",
    "                \"3123D7D\",\n",
    "                \"3123EFE\",\n",
    "                \"3123D64\",\n",
    "                \"3123D78\",\n",
    "                \"3123D7E\",\n",
    "                \"3124E4A\",\n",
    "            ],\n",
    "            \"domains\": [32, 38, 8, 44, 14, 50, 20, 26],\n",
    "            \"num_examples_per_domain_per_label\": 2000,\n",
    "            \"pickle_path\": \"/root/csc500-main/datasets/oracle.Run1_framed_2000Examples_stratified_ds.2022A.pkl\",\n",
    "            \"source_or_target_dataset\": \"target\",\n",
    "            \"x_transforms\": [\"jitter_256_10\", \"take_200\", \"resample_20Msps_to_25Msps\"],\n",
    "            \"episode_transforms\": [],\n",
    "            \"domain_prefix\": \"O_\",\n",
    "        },\n",
    "    ],\n",
    "    \"seed\": 500,\n",
    "    \"dataset_seed\": 500,\n",
    "}\n"
   ]
  },
  {
   "cell_type": "code",
   "execution_count": 5,
   "id": "8fa1cc33",
   "metadata": {
    "execution": {
     "iopub.execute_input": "2022-03-28T09:11:20.353808Z",
     "iopub.status.busy": "2022-03-28T09:11:20.353414Z",
     "iopub.status.idle": "2022-03-28T09:11:20.374979Z",
     "shell.execute_reply": "2022-03-28T09:11:20.374243Z"
    },
    "papermill": {
     "duration": 0.048797,
     "end_time": "2022-03-28T09:11:20.375159",
     "exception": false,
     "start_time": "2022-03-28T09:11:20.326362",
     "status": "completed"
    },
    "tags": []
   },
   "outputs": [],
   "source": [
    "# Set this to True if you want to run this template directly\n",
    "STANDALONE = False\n",
    "if STANDALONE:\n",
    "    print(\"parameters not injected, running with standalone_parameters\")\n",
    "    parameters = standalone_parameters\n",
    "\n",
    "if not 'parameters' in locals() and not 'parameters' in globals():\n",
    "    raise Exception(\"Parameter injection failed\")\n",
    "\n",
    "#Use an easy dict for all the parameters\n",
    "p = EasyDict(parameters)\n",
    "\n",
    "if \"x_shape\" not in p:\n",
    "    p.x_shape = [2,256] # Default to this if we dont supply x_shape\n",
    "\n",
    "\n",
    "supplied_keys = set(p.keys())\n",
    "\n",
    "if  supplied_keys != required_parameters:\n",
    "    print(\"Parameters are incorrect\")\n",
    "    if len(supplied_keys - required_parameters)>0: print(\"Shouldn't have:\", str(supplied_keys - required_parameters))\n",
    "    if len(required_parameters - supplied_keys)>0: print(\"Need to have:\", str(required_parameters - supplied_keys))\n",
    "    raise RuntimeError(\"Parameters are incorrect\")"
   ]
  },
  {
   "cell_type": "code",
   "execution_count": 6,
   "id": "3a028d58",
   "metadata": {
    "execution": {
     "iopub.execute_input": "2022-03-28T09:11:20.427270Z",
     "iopub.status.busy": "2022-03-28T09:11:20.426835Z",
     "iopub.status.idle": "2022-03-28T09:11:20.447273Z",
     "shell.execute_reply": "2022-03-28T09:11:20.446545Z"
    },
    "papermill": {
     "duration": 0.04443,
     "end_time": "2022-03-28T09:11:20.447449",
     "exception": false,
     "start_time": "2022-03-28T09:11:20.403019",
     "status": "completed"
    },
    "tags": []
   },
   "outputs": [],
   "source": [
    "###################################\n",
    "# Set the RNGs and make it all deterministic\n",
    "###################################\n",
    "np.random.seed(p.seed)\n",
    "random.seed(p.seed)\n",
    "torch.manual_seed(p.seed)\n",
    "\n",
    "torch.use_deterministic_algorithms(True) "
   ]
  },
  {
   "cell_type": "code",
   "execution_count": 7,
   "id": "b691acf6",
   "metadata": {
    "execution": {
     "iopub.execute_input": "2022-03-28T09:11:20.499259Z",
     "iopub.status.busy": "2022-03-28T09:11:20.498878Z",
     "iopub.status.idle": "2022-03-28T09:11:20.520181Z",
     "shell.execute_reply": "2022-03-28T09:11:20.520859Z"
    },
    "papermill": {
     "duration": 0.045692,
     "end_time": "2022-03-28T09:11:20.521074",
     "exception": false,
     "start_time": "2022-03-28T09:11:20.475382",
     "status": "completed"
    },
    "tags": []
   },
   "outputs": [],
   "source": [
    "###########################################\n",
    "# The stratified datasets honor this\n",
    "###########################################\n",
    "torch.set_default_dtype(eval(p.torch_default_dtype))"
   ]
  },
  {
   "cell_type": "code",
   "execution_count": 8,
   "id": "b5fba671",
   "metadata": {
    "execution": {
     "iopub.execute_input": "2022-03-28T09:11:20.581058Z",
     "iopub.status.busy": "2022-03-28T09:11:20.579573Z",
     "iopub.status.idle": "2022-03-28T09:11:20.624414Z",
     "shell.execute_reply": "2022-03-28T09:11:20.623559Z"
    },
    "papermill": {
     "duration": 0.075824,
     "end_time": "2022-03-28T09:11:20.624596",
     "exception": false,
     "start_time": "2022-03-28T09:11:20.548772",
     "status": "completed"
    },
    "tags": []
   },
   "outputs": [],
   "source": [
    "###################################\n",
    "# Build the network(s)\n",
    "# Note: It's critical to do this AFTER setting the RNG\n",
    "###################################\n",
    "x_net = build_sequential(p.x_net)"
   ]
  },
  {
   "cell_type": "code",
   "execution_count": 9,
   "id": "5d7e61cc",
   "metadata": {
    "execution": {
     "iopub.execute_input": "2022-03-28T09:11:20.674272Z",
     "iopub.status.busy": "2022-03-28T09:11:20.673642Z",
     "iopub.status.idle": "2022-03-28T09:11:20.698227Z",
     "shell.execute_reply": "2022-03-28T09:11:20.697393Z"
    },
    "papermill": {
     "duration": 0.049338,
     "end_time": "2022-03-28T09:11:20.698402",
     "exception": false,
     "start_time": "2022-03-28T09:11:20.649064",
     "status": "completed"
    },
    "tags": []
   },
   "outputs": [],
   "source": [
    "start_time_secs = time.time()"
   ]
  },
  {
   "cell_type": "code",
   "execution_count": 10,
   "id": "c6b67dfd",
   "metadata": {
    "execution": {
     "iopub.execute_input": "2022-03-28T09:11:20.751396Z",
     "iopub.status.busy": "2022-03-28T09:11:20.751017Z",
     "iopub.status.idle": "2022-03-28T09:11:20.771003Z",
     "shell.execute_reply": "2022-03-28T09:11:20.770189Z"
    },
    "papermill": {
     "duration": 0.044836,
     "end_time": "2022-03-28T09:11:20.771166",
     "exception": false,
     "start_time": "2022-03-28T09:11:20.726330",
     "status": "completed"
    },
    "tags": []
   },
   "outputs": [],
   "source": [
    "p.domains_source = []\n",
    "p.domains_target = []\n",
    "\n",
    "\n",
    "train_original_source = []\n",
    "val_original_source   = []\n",
    "test_original_source  = []\n",
    "\n",
    "train_original_target = []\n",
    "val_original_target   = []\n",
    "test_original_target  = []"
   ]
  },
  {
   "cell_type": "code",
   "execution_count": 11,
   "id": "e3d9c3d3",
   "metadata": {
    "execution": {
     "iopub.execute_input": "2022-03-28T09:11:20.819827Z",
     "iopub.status.busy": "2022-03-28T09:11:20.819435Z",
     "iopub.status.idle": "2022-03-28T09:11:20.836495Z",
     "shell.execute_reply": "2022-03-28T09:11:20.835685Z"
    },
    "papermill": {
     "duration": 0.039834,
     "end_time": "2022-03-28T09:11:20.836649",
     "exception": false,
     "start_time": "2022-03-28T09:11:20.796815",
     "status": "completed"
    },
    "tags": []
   },
   "outputs": [],
   "source": [
    "# global_x_transform_func = lambda x: normalize(x.to(torch.get_default_dtype()), \"unit_power\") # unit_power, unit_mag\n",
    "# global_x_transform_func = lambda x: normalize(x, \"unit_power\") # unit_power, unit_mag"
   ]
  },
  {
   "cell_type": "code",
   "execution_count": 12,
   "id": "acb78fd2",
   "metadata": {
    "execution": {
     "iopub.execute_input": "2022-03-28T09:11:20.897058Z",
     "iopub.status.busy": "2022-03-28T09:11:20.894866Z",
     "iopub.status.idle": "2022-03-28T09:11:20.913965Z",
     "shell.execute_reply": "2022-03-28T09:11:20.913167Z"
    },
    "papermill": {
     "duration": 0.048622,
     "end_time": "2022-03-28T09:11:20.914118",
     "exception": false,
     "start_time": "2022-03-28T09:11:20.865496",
     "status": "completed"
    },
    "tags": []
   },
   "outputs": [],
   "source": [
    "def add_dataset(\n",
    "    labels,\n",
    "    domains,\n",
    "    pickle_path,\n",
    "    x_transforms,\n",
    "    episode_transforms,\n",
    "    domain_prefix,\n",
    "    num_examples_per_domain_per_label,\n",
    "    source_or_target_dataset:str,\n",
    "    iterator_seed=p.seed,\n",
    "    dataset_seed=p.dataset_seed,\n",
    "    n_shot=p.n_shot,\n",
    "    n_way=p.n_way,\n",
    "    n_query=p.n_query,\n",
    "    train_val_test_k_factors=(p.train_k_factor,p.val_k_factor,p.test_k_factor),\n",
    "):\n",
    "   \n",
    "    if x_transforms == []: x_transform = None\n",
    "    else: x_transform = get_chained_transform(x_transforms)\n",
    "    \n",
    "    if episode_transforms == []: episode_transform = None\n",
    "    else: raise Exception(\"episode_transforms not implemented\")\n",
    "    \n",
    "    episode_transform = lambda tup, _prefix=domain_prefix: (_prefix + str(tup[0]), tup[1])\n",
    "\n",
    "\n",
    "    eaf = Episodic_Accessor_Factory(\n",
    "        labels=labels,\n",
    "        domains=domains,\n",
    "        num_examples_per_domain_per_label=num_examples_per_domain_per_label,\n",
    "        iterator_seed=iterator_seed,\n",
    "        dataset_seed=dataset_seed,\n",
    "        n_shot=n_shot,\n",
    "        n_way=n_way,\n",
    "        n_query=n_query,\n",
    "        train_val_test_k_factors=train_val_test_k_factors,\n",
    "        pickle_path=pickle_path,\n",
    "        x_transform_func=x_transform,\n",
    "    )\n",
    "\n",
    "    train, val, test = eaf.get_train(), eaf.get_val(), eaf.get_test()\n",
    "    train = Lazy_Iterable_Wrapper(train, episode_transform)\n",
    "    val = Lazy_Iterable_Wrapper(val, episode_transform)\n",
    "    test = Lazy_Iterable_Wrapper(test, episode_transform)\n",
    "\n",
    "    if source_or_target_dataset==\"source\":\n",
    "        train_original_source.append(train)\n",
    "        val_original_source.append(val)\n",
    "        test_original_source.append(test)\n",
    "\n",
    "        p.domains_source.extend(\n",
    "            [domain_prefix + str(u) for u in domains]\n",
    "        )\n",
    "    elif source_or_target_dataset==\"target\":\n",
    "        train_original_target.append(train)\n",
    "        val_original_target.append(val)\n",
    "        test_original_target.append(test)\n",
    "        p.domains_target.extend(\n",
    "            [domain_prefix + str(u) for u in domains]\n",
    "        )\n",
    "    else:\n",
    "        raise Exception(f\"invalid source_or_target_dataset: {source_or_target_dataset}\")\n",
    "    "
   ]
  },
  {
   "cell_type": "code",
   "execution_count": 13,
   "id": "fe266617",
   "metadata": {
    "execution": {
     "iopub.execute_input": "2022-03-28T09:11:20.965566Z",
     "iopub.status.busy": "2022-03-28T09:11:20.965204Z",
     "iopub.status.idle": "2022-03-28T09:12:25.057217Z",
     "shell.execute_reply": "2022-03-28T09:12:25.056476Z"
    },
    "papermill": {
     "duration": 64.117056,
     "end_time": "2022-03-28T09:12:25.057405",
     "exception": false,
     "start_time": "2022-03-28T09:11:20.940349",
     "status": "completed"
    },
    "tags": []
   },
   "outputs": [],
   "source": [
    "for ds in p.datasets:\n",
    "    add_dataset(**ds)"
   ]
  },
  {
   "cell_type": "code",
   "execution_count": 14,
   "id": "b90d65ac",
   "metadata": {
    "execution": {
     "iopub.execute_input": "2022-03-28T09:12:25.107236Z",
     "iopub.status.busy": "2022-03-28T09:12:25.106850Z",
     "iopub.status.idle": "2022-03-28T09:12:25.132295Z",
     "shell.execute_reply": "2022-03-28T09:12:25.131402Z"
    },
    "papermill": {
     "duration": 0.04985,
     "end_time": "2022-03-28T09:12:25.132458",
     "exception": false,
     "start_time": "2022-03-28T09:12:25.082608",
     "status": "completed"
    },
    "tags": []
   },
   "outputs": [],
   "source": [
    "# from steves_utils.CORES.utils import (\n",
    "#     ALL_NODES,\n",
    "#     ALL_NODES_MINIMUM_1000_EXAMPLES,\n",
    "#     ALL_DAYS\n",
    "# )\n",
    "\n",
    "# add_dataset(\n",
    "#     labels=ALL_NODES,\n",
    "#     domains = ALL_DAYS,\n",
    "#     num_examples_per_domain_per_label=100,\n",
    "#     pickle_path=os.path.join(get_datasets_base_path(), \"cores.stratified_ds.2022A.pkl\"),\n",
    "#     source_or_target_dataset=\"target\",\n",
    "#     x_transform_func=global_x_transform_func,\n",
    "#     domain_modifier=lambda u: f\"cores_{u}\"\n",
    "# )"
   ]
  },
  {
   "cell_type": "code",
   "execution_count": 15,
   "id": "76db484d",
   "metadata": {
    "execution": {
     "iopub.execute_input": "2022-03-28T09:12:25.184793Z",
     "iopub.status.busy": "2022-03-28T09:12:25.184081Z",
     "iopub.status.idle": "2022-03-28T09:12:25.211414Z",
     "shell.execute_reply": "2022-03-28T09:12:25.210599Z"
    },
    "papermill": {
     "duration": 0.051448,
     "end_time": "2022-03-28T09:12:25.211603",
     "exception": false,
     "start_time": "2022-03-28T09:12:25.160155",
     "status": "completed"
    },
    "tags": []
   },
   "outputs": [],
   "source": [
    "# from steves_utils.ORACLE.utils_v2 import (\n",
    "#     ALL_DISTANCES_FEET,\n",
    "#     ALL_RUNS,\n",
    "#     ALL_SERIAL_NUMBERS,\n",
    "# )\n",
    "\n",
    "\n",
    "# add_dataset(\n",
    "#     labels=ALL_SERIAL_NUMBERS,\n",
    "#     domains = list(set(ALL_DISTANCES_FEET) - {2,62}),\n",
    "#     num_examples_per_domain_per_label=100,\n",
    "#     pickle_path=os.path.join(get_datasets_base_path(), \"oracle.Run2_framed_2000Examples_stratified_ds.2022A.pkl\"),\n",
    "#     source_or_target_dataset=\"source\",\n",
    "#     x_transform_func=global_x_transform_func,\n",
    "#     domain_modifier=lambda u: f\"oracle1_{u}\"\n",
    "# )\n"
   ]
  },
  {
   "cell_type": "code",
   "execution_count": 16,
   "id": "97dea9d2",
   "metadata": {
    "execution": {
     "iopub.execute_input": "2022-03-28T09:12:25.265518Z",
     "iopub.status.busy": "2022-03-28T09:12:25.264869Z",
     "iopub.status.idle": "2022-03-28T09:12:25.286806Z",
     "shell.execute_reply": "2022-03-28T09:12:25.285984Z"
    },
    "papermill": {
     "duration": 0.047163,
     "end_time": "2022-03-28T09:12:25.286972",
     "exception": false,
     "start_time": "2022-03-28T09:12:25.239809",
     "status": "completed"
    },
    "tags": []
   },
   "outputs": [],
   "source": [
    "# from steves_utils.ORACLE.utils_v2 import (\n",
    "#     ALL_DISTANCES_FEET,\n",
    "#     ALL_RUNS,\n",
    "#     ALL_SERIAL_NUMBERS,\n",
    "# )\n",
    "\n",
    "\n",
    "# add_dataset(\n",
    "#     labels=ALL_SERIAL_NUMBERS,\n",
    "#     domains = list(set(ALL_DISTANCES_FEET) - {2,62,56}),\n",
    "#     num_examples_per_domain_per_label=100,\n",
    "#     pickle_path=os.path.join(get_datasets_base_path(), \"oracle.Run2_framed_2000Examples_stratified_ds.2022A.pkl\"),\n",
    "#     source_or_target_dataset=\"source\",\n",
    "#     x_transform_func=global_x_transform_func,\n",
    "#     domain_modifier=lambda u: f\"oracle2_{u}\"\n",
    "# )"
   ]
  },
  {
   "cell_type": "code",
   "execution_count": 17,
   "id": "6f289866",
   "metadata": {
    "execution": {
     "iopub.execute_input": "2022-03-28T09:12:25.337653Z",
     "iopub.status.busy": "2022-03-28T09:12:25.337090Z",
     "iopub.status.idle": "2022-03-28T09:12:25.360086Z",
     "shell.execute_reply": "2022-03-28T09:12:25.359254Z"
    },
    "papermill": {
     "duration": 0.046948,
     "end_time": "2022-03-28T09:12:25.360243",
     "exception": false,
     "start_time": "2022-03-28T09:12:25.313295",
     "status": "completed"
    },
    "tags": []
   },
   "outputs": [],
   "source": [
    "# add_dataset(\n",
    "#     labels=list(range(19)),\n",
    "#     domains = [0,1,2],\n",
    "#     num_examples_per_domain_per_label=100,\n",
    "#     pickle_path=os.path.join(get_datasets_base_path(), \"metehan.stratified_ds.2022A.pkl\"),\n",
    "#     source_or_target_dataset=\"target\",\n",
    "#     x_transform_func=global_x_transform_func,\n",
    "#     domain_modifier=lambda u: f\"met_{u}\"\n",
    "# )"
   ]
  },
  {
   "cell_type": "code",
   "execution_count": 18,
   "id": "86a863c3",
   "metadata": {
    "execution": {
     "iopub.execute_input": "2022-03-28T09:12:25.414941Z",
     "iopub.status.busy": "2022-03-28T09:12:25.414570Z",
     "iopub.status.idle": "2022-03-28T09:12:25.439283Z",
     "shell.execute_reply": "2022-03-28T09:12:25.438573Z"
    },
    "papermill": {
     "duration": 0.049415,
     "end_time": "2022-03-28T09:12:25.439440",
     "exception": false,
     "start_time": "2022-03-28T09:12:25.390025",
     "status": "completed"
    },
    "tags": []
   },
   "outputs": [],
   "source": [
    "# # from steves_utils.wisig.utils import (\n",
    "# #     ALL_NODES_MINIMUM_100_EXAMPLES,\n",
    "# #     ALL_NODES_MINIMUM_500_EXAMPLES,\n",
    "# #     ALL_NODES_MINIMUM_1000_EXAMPLES,\n",
    "# #     ALL_DAYS\n",
    "# # )\n",
    "\n",
    "# import steves_utils.wisig.utils as wisig\n",
    "\n",
    "\n",
    "# add_dataset(\n",
    "#     labels=wisig.ALL_NODES_MINIMUM_100_EXAMPLES,\n",
    "#     domains = wisig.ALL_DAYS,\n",
    "#     num_examples_per_domain_per_label=100,\n",
    "#     pickle_path=os.path.join(get_datasets_base_path(), \"wisig.node3-19.stratified_ds.2022A.pkl\"),\n",
    "#     source_or_target_dataset=\"target\",\n",
    "#     x_transform_func=global_x_transform_func,\n",
    "#     domain_modifier=lambda u: f\"wisig_{u}\"\n",
    "# )"
   ]
  },
  {
   "cell_type": "code",
   "execution_count": 19,
   "id": "fd5442bc",
   "metadata": {
    "execution": {
     "iopub.execute_input": "2022-03-28T09:12:25.497839Z",
     "iopub.status.busy": "2022-03-28T09:12:25.496066Z",
     "iopub.status.idle": "2022-03-28T09:12:25.518564Z",
     "shell.execute_reply": "2022-03-28T09:12:25.517750Z"
    },
    "papermill": {
     "duration": 0.050996,
     "end_time": "2022-03-28T09:12:25.518719",
     "exception": false,
     "start_time": "2022-03-28T09:12:25.467723",
     "status": "completed"
    },
    "tags": []
   },
   "outputs": [],
   "source": [
    "###################################\n",
    "# Build the dataset\n",
    "###################################\n",
    "train_original_source = Iterable_Aggregator(train_original_source, p.seed)\n",
    "val_original_source = Iterable_Aggregator(val_original_source, p.seed)\n",
    "test_original_source = Iterable_Aggregator(test_original_source, p.seed)\n",
    "\n",
    "\n",
    "train_original_target = Iterable_Aggregator(train_original_target, p.seed)\n",
    "val_original_target = Iterable_Aggregator(val_original_target, p.seed)\n",
    "test_original_target = Iterable_Aggregator(test_original_target, p.seed)\n",
    "\n",
    "# For CNN We only use X and Y. And we only train on the source.\n",
    "# Properly form the data using a transform lambda and Lazy_Iterable_Wrapper. Finally wrap them in a dataloader\n",
    "\n",
    "transform_lambda = lambda ex: ex[1] # Original is (<domain>, <episode>) so we strip down to episode only\n",
    "\n",
    "train_processed_source = Lazy_Iterable_Wrapper(train_original_source, transform_lambda)\n",
    "val_processed_source   = Lazy_Iterable_Wrapper(val_original_source, transform_lambda)\n",
    "test_processed_source  = Lazy_Iterable_Wrapper(test_original_source, transform_lambda)\n",
    "\n",
    "train_processed_target = Lazy_Iterable_Wrapper(train_original_target, transform_lambda)\n",
    "val_processed_target   = Lazy_Iterable_Wrapper(val_original_target, transform_lambda)\n",
    "test_processed_target  = Lazy_Iterable_Wrapper(test_original_target, transform_lambda)\n",
    "\n",
    "datasets = EasyDict({\n",
    "    \"source\": {\n",
    "        \"original\": {\"train\":train_original_source, \"val\":val_original_source, \"test\":test_original_source},\n",
    "        \"processed\": {\"train\":train_processed_source, \"val\":val_processed_source, \"test\":test_processed_source}\n",
    "    },\n",
    "    \"target\": {\n",
    "        \"original\": {\"train\":train_original_target, \"val\":val_original_target, \"test\":test_original_target},\n",
    "        \"processed\": {\"train\":train_processed_target, \"val\":val_processed_target, \"test\":test_processed_target}\n",
    "    },\n",
    "})"
   ]
  },
  {
   "cell_type": "code",
   "execution_count": 20,
   "id": "5b3c01fc",
   "metadata": {
    "execution": {
     "iopub.execute_input": "2022-03-28T09:12:25.574910Z",
     "iopub.status.busy": "2022-03-28T09:12:25.574339Z",
     "iopub.status.idle": "2022-03-28T09:12:39.339175Z",
     "shell.execute_reply": "2022-03-28T09:12:39.338458Z"
    },
    "papermill": {
     "duration": 13.791695,
     "end_time": "2022-03-28T09:12:39.339358",
     "exception": false,
     "start_time": "2022-03-28T09:12:25.547663",
     "status": "completed"
    },
    "tags": []
   },
   "outputs": [
    {
     "name": "stdout",
     "output_type": "stream",
     "text": [
      "{'C_4', 'C_2', 'C_5', 'C_3', 'C_1'}\n"
     ]
    },
    {
     "name": "stdout",
     "output_type": "stream",
     "text": [
      "{'O_50', 'O_26', 'O_8', 'O_38', 'O_14', 'O_20', 'O_44', 'O_32'}\n"
     ]
    },
    {
     "name": "stdout",
     "output_type": "stream",
     "text": [
      "tensor([[[0., 0., 0.,  ..., 0., 0., 0.],\n",
      "         [0., 0., 0.,  ..., 0., 0., 0.]],\n",
      "\n",
      "        [[0., 0., 0.,  ..., 0., 0., 0.],\n",
      "         [0., 0., 0.,  ..., 0., 0., 0.]],\n",
      "\n",
      "        [[0., 0., 0.,  ..., 0., 0., 0.],\n",
      "         [0., 0., 0.,  ..., 0., 0., 0.]],\n",
      "\n",
      "        ...,\n",
      "\n",
      "        [[0., 0., 0.,  ..., 0., 0., 0.],\n",
      "         [0., 0., 0.,  ..., 0., 0., 0.]],\n",
      "\n",
      "        [[0., 0., 0.,  ..., 0., 0., 0.],\n",
      "         [0., 0., 0.,  ..., 0., 0., 0.]],\n",
      "\n",
      "        [[0., 0., 0.,  ..., 0., 0., 0.],\n",
      "         [0., 0., 0.,  ..., 0., 0., 0.]]])\n"
     ]
    }
   ],
   "source": [
    "from steves_utils.transforms import get_average_magnitude, get_average_power\n",
    "\n",
    "print(set([u for u,_ in val_original_source]))\n",
    "print(set([u for u,_ in val_original_target]))\n",
    "\n",
    "s_x, s_y, q_x, q_y, _ = next(iter(train_processed_source))\n",
    "print(s_x)\n",
    "\n",
    "# for ds in [\n",
    "#     train_processed_source,\n",
    "#     val_processed_source,\n",
    "#     test_processed_source,\n",
    "#     train_processed_target,\n",
    "#     val_processed_target,\n",
    "#     test_processed_target\n",
    "# ]:\n",
    "#     for s_x, s_y, q_x, q_y, _ in ds:\n",
    "#         for X in (s_x, q_x):\n",
    "#             for x in X:\n",
    "#                 assert np.isclose(get_average_magnitude(x.numpy()), 1.0)\n",
    "#                 assert np.isclose(get_average_power(x.numpy()), 1.0)\n",
    "                "
   ]
  },
  {
   "cell_type": "code",
   "execution_count": 21,
   "id": "bbdacba1",
   "metadata": {
    "execution": {
     "iopub.execute_input": "2022-03-28T09:12:39.399765Z",
     "iopub.status.busy": "2022-03-28T09:12:39.399252Z",
     "iopub.status.idle": "2022-03-28T09:12:39.552711Z",
     "shell.execute_reply": "2022-03-28T09:12:39.553343Z"
    },
    "papermill": {
     "duration": 0.181748,
     "end_time": "2022-03-28T09:12:39.553548",
     "exception": false,
     "start_time": "2022-03-28T09:12:39.371800",
     "status": "completed"
    },
    "tags": []
   },
   "outputs": [
    {
     "name": "stdout",
     "output_type": "stream",
     "text": [
      "(2, 256)\n"
     ]
    }
   ],
   "source": [
    "###################################\n",
    "# Build the model\n",
    "###################################\n",
    "# easfsl only wants a tuple for the shape\n",
    "model = Steves_Prototypical_Network(x_net, device=p.device, x_shape=tuple(p.x_shape))\n",
    "optimizer = Adam(params=model.parameters(), lr=p.lr)"
   ]
  },
  {
   "cell_type": "code",
   "execution_count": 22,
   "id": "22b39ac5",
   "metadata": {
    "execution": {
     "iopub.execute_input": "2022-03-28T09:12:39.612136Z",
     "iopub.status.busy": "2022-03-28T09:12:39.611766Z",
     "iopub.status.idle": "2022-03-28T09:26:53.463404Z",
     "shell.execute_reply": "2022-03-28T09:26:53.463064Z"
    },
    "papermill": {
     "duration": 853.879058,
     "end_time": "2022-03-28T09:26:53.463488",
     "exception": false,
     "start_time": "2022-03-28T09:12:39.584430",
     "status": "completed"
    },
    "tags": []
   },
   "outputs": [
    {
     "name": "stdout",
     "output_type": "stream",
     "text": [
      "epoch: 1, [batch: 1 / 6317], examples_per_second: 34.5698, train_label_loss: 2.2642, \n"
     ]
    },
    {
     "name": "stdout",
     "output_type": "stream",
     "text": [
      "epoch: 1, [batch: 632 / 6317], examples_per_second: 4023.0932, train_label_loss: 0.0619, \n"
     ]
    },
    {
     "name": "stdout",
     "output_type": "stream",
     "text": [
      "epoch: 1, [batch: 1264 / 6317], examples_per_second: 4185.9302, train_label_loss: 0.0015, \n"
     ]
    },
    {
     "name": "stdout",
     "output_type": "stream",
     "text": [
      "epoch: 1, [batch: 1895 / 6317], examples_per_second: 4243.3333, train_label_loss: 0.1345, \n"
     ]
    },
    {
     "name": "stdout",
     "output_type": "stream",
     "text": [
      "epoch: 1, [batch: 2527 / 6317], examples_per_second: 4348.6219, train_label_loss: 0.0047, \n"
     ]
    },
    {
     "name": "stdout",
     "output_type": "stream",
     "text": [
      "epoch: 1, [batch: 3159 / 6317], examples_per_second: 4257.0782, train_label_loss: 0.0102, \n"
     ]
    },
    {
     "name": "stdout",
     "output_type": "stream",
     "text": [
      "epoch: 1, [batch: 3790 / 6317], examples_per_second: 4161.6304, train_label_loss: 0.0107, \n"
     ]
    },
    {
     "name": "stdout",
     "output_type": "stream",
     "text": [
      "epoch: 1, [batch: 4422 / 6317], examples_per_second: 4975.6680, train_label_loss: 0.0188, \n"
     ]
    },
    {
     "name": "stdout",
     "output_type": "stream",
     "text": [
      "epoch: 1, [batch: 5053 / 6317], examples_per_second: 4688.5187, train_label_loss: 0.0024, \n"
     ]
    },
    {
     "name": "stdout",
     "output_type": "stream",
     "text": [
      "epoch: 1, [batch: 5685 / 6317], examples_per_second: 4784.9250, train_label_loss: 0.0006, \n"
     ]
    },
    {
     "name": "stdout",
     "output_type": "stream",
     "text": [
      "=============================================================\n",
      "epoch: 1, source_val_acc_label: 0.9954, target_val_acc_label: 0.2780, source_val_label_loss: 0.0445, target_val_label_loss: 35.6840, \n",
      "=============================================================\n"
     ]
    },
    {
     "name": "stdout",
     "output_type": "stream",
     "text": [
      "New best\n"
     ]
    },
    {
     "name": "stdout",
     "output_type": "stream",
     "text": [
      "epoch: 2, [batch: 1 / 6315], examples_per_second: 5.3995, train_label_loss: 0.0009, \n"
     ]
    },
    {
     "name": "stdout",
     "output_type": "stream",
     "text": [
      "epoch: 2, [batch: 632 / 6315], examples_per_second: 4491.6526, train_label_loss: 0.0061, \n"
     ]
    },
    {
     "name": "stdout",
     "output_type": "stream",
     "text": [
      "epoch: 2, [batch: 1263 / 6315], examples_per_second: 4888.8505, train_label_loss: 0.0052, \n"
     ]
    },
    {
     "name": "stdout",
     "output_type": "stream",
     "text": [
      "epoch: 2, [batch: 1895 / 6315], examples_per_second: 4886.9720, train_label_loss: 0.0002, \n"
     ]
    },
    {
     "name": "stdout",
     "output_type": "stream",
     "text": [
      "epoch: 2, [batch: 2526 / 6315], examples_per_second: 5088.6973, train_label_loss: 0.0224, \n"
     ]
    },
    {
     "name": "stdout",
     "output_type": "stream",
     "text": [
      "epoch: 2, [batch: 3158 / 6315], examples_per_second: 5095.3656, train_label_loss: 0.0000, \n"
     ]
    },
    {
     "name": "stdout",
     "output_type": "stream",
     "text": [
      "epoch: 2, [batch: 3789 / 6315], examples_per_second: 4997.4885, train_label_loss: 0.0001, \n"
     ]
    },
    {
     "name": "stdout",
     "output_type": "stream",
     "text": [
      "epoch: 2, [batch: 4420 / 6315], examples_per_second: 4878.2736, train_label_loss: 0.0000, \n"
     ]
    },
    {
     "name": "stdout",
     "output_type": "stream",
     "text": [
      "epoch: 2, [batch: 5052 / 6315], examples_per_second: 4852.3809, train_label_loss: 0.0029, \n"
     ]
    },
    {
     "name": "stdout",
     "output_type": "stream",
     "text": [
      "epoch: 2, [batch: 5683 / 6315], examples_per_second: 4885.1224, train_label_loss: 0.0702, \n"
     ]
    },
    {
     "name": "stdout",
     "output_type": "stream",
     "text": [
      "=============================================================\n",
      "epoch: 2, source_val_acc_label: 0.9947, target_val_acc_label: 0.4156, source_val_label_loss: 0.0225, target_val_label_loss: 1.7275, \n",
      "=============================================================\n"
     ]
    },
    {
     "name": "stdout",
     "output_type": "stream",
     "text": [
      "New best\n"
     ]
    },
    {
     "name": "stdout",
     "output_type": "stream",
     "text": [
      "epoch: 3, [batch: 1 / 6325], examples_per_second: 5.5581, train_label_loss: 0.2689, \n"
     ]
    },
    {
     "name": "stdout",
     "output_type": "stream",
     "text": [
      "epoch: 3, [batch: 633 / 6325], examples_per_second: 4606.0979, train_label_loss: 0.0004, \n"
     ]
    },
    {
     "name": "stdout",
     "output_type": "stream",
     "text": [
      "epoch: 3, [batch: 1265 / 6325], examples_per_second: 5076.8764, train_label_loss: 0.0001, \n"
     ]
    },
    {
     "name": "stdout",
     "output_type": "stream",
     "text": [
      "epoch: 3, [batch: 1898 / 6325], examples_per_second: 5156.3504, train_label_loss: 0.0003, \n"
     ]
    },
    {
     "name": "stdout",
     "output_type": "stream",
     "text": [
      "epoch: 3, [batch: 2530 / 6325], examples_per_second: 5227.1914, train_label_loss: 0.0001, \n"
     ]
    },
    {
     "name": "stdout",
     "output_type": "stream",
     "text": [
      "epoch: 3, [batch: 3163 / 6325], examples_per_second: 4521.6181, train_label_loss: 0.0003, \n"
     ]
    },
    {
     "name": "stdout",
     "output_type": "stream",
     "text": [
      "epoch: 3, [batch: 3795 / 6325], examples_per_second: 3847.7310, train_label_loss: 0.0003, \n"
     ]
    },
    {
     "name": "stdout",
     "output_type": "stream",
     "text": [
      "epoch: 3, [batch: 4427 / 6325], examples_per_second: 3812.1543, train_label_loss: 0.0003, \n"
     ]
    },
    {
     "name": "stdout",
     "output_type": "stream",
     "text": [
      "epoch: 3, [batch: 5060 / 6325], examples_per_second: 3790.2621, train_label_loss: 0.0056, \n"
     ]
    },
    {
     "name": "stdout",
     "output_type": "stream",
     "text": [
      "epoch: 3, [batch: 5692 / 6325], examples_per_second: 3799.2145, train_label_loss: 0.0000, \n"
     ]
    },
    {
     "name": "stdout",
     "output_type": "stream",
     "text": [
      "=============================================================\n",
      "epoch: 3, source_val_acc_label: 0.9972, target_val_acc_label: 0.3897, source_val_label_loss: 0.0132, target_val_label_loss: 1.7679, \n",
      "=============================================================\n"
     ]
    },
    {
     "name": "stdout",
     "output_type": "stream",
     "text": [
      "epoch: 4, [batch: 1 / 6307], examples_per_second: 4.0669, train_label_loss: 0.0009, \n"
     ]
    },
    {
     "name": "stdout",
     "output_type": "stream",
     "text": [
      "epoch: 4, [batch: 631 / 6307], examples_per_second: 3869.5329, train_label_loss: 0.0000, \n"
     ]
    },
    {
     "name": "stdout",
     "output_type": "stream",
     "text": [
      "epoch: 4, [batch: 1262 / 6307], examples_per_second: 3908.1816, train_label_loss: 0.0007, \n"
     ]
    },
    {
     "name": "stdout",
     "output_type": "stream",
     "text": [
      "epoch: 4, [batch: 1892 / 6307], examples_per_second: 3915.2584, train_label_loss: 0.0001, \n"
     ]
    },
    {
     "name": "stdout",
     "output_type": "stream",
     "text": [
      "epoch: 4, [batch: 2523 / 6307], examples_per_second: 4369.1726, train_label_loss: 0.0000, \n"
     ]
    },
    {
     "name": "stdout",
     "output_type": "stream",
     "text": [
      "epoch: 4, [batch: 3154 / 6307], examples_per_second: 4504.4204, train_label_loss: 0.0001, \n"
     ]
    },
    {
     "name": "stdout",
     "output_type": "stream",
     "text": [
      "epoch: 4, [batch: 3784 / 6307], examples_per_second: 4501.7096, train_label_loss: 0.0001, \n"
     ]
    },
    {
     "name": "stdout",
     "output_type": "stream",
     "text": [
      "epoch: 4, [batch: 4415 / 6307], examples_per_second: 3853.9177, train_label_loss: 0.0120, \n"
     ]
    },
    {
     "name": "stdout",
     "output_type": "stream",
     "text": [
      "epoch: 4, [batch: 5045 / 6307], examples_per_second: 3923.4168, train_label_loss: 0.0001, \n"
     ]
    },
    {
     "name": "stdout",
     "output_type": "stream",
     "text": [
      "epoch: 4, [batch: 5676 / 6307], examples_per_second: 3957.3365, train_label_loss: 0.0007, \n"
     ]
    },
    {
     "name": "stdout",
     "output_type": "stream",
     "text": [
      "=============================================================\n",
      "epoch: 4, source_val_acc_label: 0.9972, target_val_acc_label: 0.4045, source_val_label_loss: 0.0184, target_val_label_loss: 1.8325, \n",
      "=============================================================\n"
     ]
    },
    {
     "name": "stdout",
     "output_type": "stream",
     "text": [
      "epoch: 5, [batch: 1 / 6302], examples_per_second: 4.0946, train_label_loss: 0.0495, \n"
     ]
    },
    {
     "name": "stdout",
     "output_type": "stream",
     "text": [
      "epoch: 5, [batch: 631 / 6302], examples_per_second: 3788.5421, train_label_loss: 0.0066, \n"
     ]
    },
    {
     "name": "stdout",
     "output_type": "stream",
     "text": [
      "epoch: 5, [batch: 1261 / 6302], examples_per_second: 3823.2683, train_label_loss: 0.0001, \n"
     ]
    },
    {
     "name": "stdout",
     "output_type": "stream",
     "text": [
      "epoch: 5, [batch: 1891 / 6302], examples_per_second: 3844.3443, train_label_loss: 0.0000, \n"
     ]
    },
    {
     "name": "stdout",
     "output_type": "stream",
     "text": [
      "epoch: 5, [batch: 2521 / 6302], examples_per_second: 3835.0741, train_label_loss: 0.0000, \n"
     ]
    },
    {
     "name": "stdout",
     "output_type": "stream",
     "text": [
      "epoch: 5, [batch: 3151 / 6302], examples_per_second: 4304.6066, train_label_loss: 0.0013, \n"
     ]
    },
    {
     "name": "stdout",
     "output_type": "stream",
     "text": [
      "epoch: 5, [batch: 3781 / 6302], examples_per_second: 4544.9262, train_label_loss: 0.0001, \n"
     ]
    },
    {
     "name": "stdout",
     "output_type": "stream",
     "text": [
      "epoch: 5, [batch: 4411 / 6302], examples_per_second: 4006.4082, train_label_loss: 0.0001, \n"
     ]
    },
    {
     "name": "stdout",
     "output_type": "stream",
     "text": [
      "epoch: 5, [batch: 5041 / 6302], examples_per_second: 3809.0067, train_label_loss: 0.0055, \n"
     ]
    },
    {
     "name": "stdout",
     "output_type": "stream",
     "text": [
      "epoch: 5, [batch: 5671 / 6302], examples_per_second: 3850.4673, train_label_loss: 0.0000, \n"
     ]
    },
    {
     "name": "stdout",
     "output_type": "stream",
     "text": [
      "=============================================================\n",
      "epoch: 5, source_val_acc_label: 0.9989, target_val_acc_label: 0.3300, source_val_label_loss: 0.0069, target_val_label_loss: 1.9406, \n",
      "=============================================================\n"
     ]
    },
    {
     "name": "stdout",
     "output_type": "stream",
     "text": [
      "epoch: 6, [batch: 1 / 6311], examples_per_second: 4.1067, train_label_loss: 0.0001, \n"
     ]
    },
    {
     "name": "stdout",
     "output_type": "stream",
     "text": [
      "epoch: 6, [batch: 632 / 6311], examples_per_second: 3838.3324, train_label_loss: 0.0309, \n"
     ]
    },
    {
     "name": "stdout",
     "output_type": "stream",
     "text": [
      "epoch: 6, [batch: 1263 / 6311], examples_per_second: 3981.3533, train_label_loss: 0.0003, \n"
     ]
    },
    {
     "name": "stdout",
     "output_type": "stream",
     "text": [
      "epoch: 6, [batch: 1894 / 6311], examples_per_second: 3895.7407, train_label_loss: 0.2775, \n"
     ]
    },
    {
     "name": "stdout",
     "output_type": "stream",
     "text": [
      "epoch: 6, [batch: 2525 / 6311], examples_per_second: 3847.5469, train_label_loss: 0.0007, \n"
     ]
    },
    {
     "name": "stdout",
     "output_type": "stream",
     "text": [
      "epoch: 6, [batch: 3156 / 6311], examples_per_second: 4239.9396, train_label_loss: 0.0000, \n"
     ]
    },
    {
     "name": "stdout",
     "output_type": "stream",
     "text": [
      "epoch: 6, [batch: 3787 / 6311], examples_per_second: 4317.8667, train_label_loss: 0.0032, \n"
     ]
    },
    {
     "name": "stdout",
     "output_type": "stream",
     "text": [
      "epoch: 6, [batch: 4418 / 6311], examples_per_second: 4629.4863, train_label_loss: 0.0008, \n"
     ]
    },
    {
     "name": "stdout",
     "output_type": "stream",
     "text": [
      "epoch: 6, [batch: 5049 / 6311], examples_per_second: 3869.3659, train_label_loss: 0.0000, \n"
     ]
    },
    {
     "name": "stdout",
     "output_type": "stream",
     "text": [
      "epoch: 6, [batch: 5680 / 6311], examples_per_second: 3957.9679, train_label_loss: 0.0006, \n"
     ]
    },
    {
     "name": "stdout",
     "output_type": "stream",
     "text": [
      "=============================================================\n",
      "epoch: 6, source_val_acc_label: 0.9986, target_val_acc_label: 0.3228, source_val_label_loss: 0.0094, target_val_label_loss: 1.9431, \n",
      "=============================================================\n"
     ]
    },
    {
     "name": "stdout",
     "output_type": "stream",
     "text": [
      "Patience (3) exhausted\n"
     ]
    }
   ],
   "source": [
    "###################################\n",
    "# train\n",
    "###################################\n",
    "jig = PTN_Train_Eval_Test_Jig(model, p.BEST_MODEL_PATH, p.device)\n",
    "\n",
    "jig.train(\n",
    "    train_iterable=datasets.source.processed.train,\n",
    "    source_val_iterable=datasets.source.processed.val,\n",
    "    target_val_iterable=datasets.target.processed.val,\n",
    "    num_epochs=p.n_epoch,\n",
    "    num_logs_per_epoch=p.NUM_LOGS_PER_EPOCH,\n",
    "    patience=p.patience,\n",
    "    optimizer=optimizer,\n",
    "    criteria_for_best=p.criteria_for_best,\n",
    ")"
   ]
  },
  {
   "cell_type": "code",
   "execution_count": 23,
   "id": "31e8fabf",
   "metadata": {
    "execution": {
     "iopub.execute_input": "2022-03-28T09:26:53.550409Z",
     "iopub.status.busy": "2022-03-28T09:26:53.550036Z",
     "iopub.status.idle": "2022-03-28T09:26:53.585011Z",
     "shell.execute_reply": "2022-03-28T09:26:53.584307Z"
    },
    "papermill": {
     "duration": 0.080931,
     "end_time": "2022-03-28T09:26:53.585166",
     "exception": false,
     "start_time": "2022-03-28T09:26:53.504235",
     "status": "completed"
    },
    "tags": []
   },
   "outputs": [],
   "source": [
    "total_experiment_time_secs = time.time() - start_time_secs"
   ]
  },
  {
   "cell_type": "code",
   "execution_count": 24,
   "id": "87b9595b",
   "metadata": {
    "execution": {
     "iopub.execute_input": "2022-03-28T09:26:53.678219Z",
     "iopub.status.busy": "2022-03-28T09:26:53.677828Z",
     "iopub.status.idle": "2022-03-28T09:29:36.309559Z",
     "shell.execute_reply": "2022-03-28T09:29:36.308818Z"
    },
    "papermill": {
     "duration": 162.678084,
     "end_time": "2022-03-28T09:29:36.309748",
     "exception": false,
     "start_time": "2022-03-28T09:26:53.631664",
     "status": "completed"
    },
    "tags": []
   },
   "outputs": [],
   "source": [
    "###################################\n",
    "# Evaluate the model\n",
    "###################################\n",
    "source_test_label_accuracy, source_test_label_loss = jig.test(datasets.source.processed.test)\n",
    "target_test_label_accuracy, target_test_label_loss = jig.test(datasets.target.processed.test)\n",
    "\n",
    "source_val_label_accuracy, source_val_label_loss = jig.test(datasets.source.processed.val)\n",
    "target_val_label_accuracy, target_val_label_loss = jig.test(datasets.target.processed.val)\n",
    "\n",
    "history = jig.get_history()\n",
    "\n",
    "total_epochs_trained = len(history[\"epoch_indices\"])\n",
    "\n",
    "val_dl = Iterable_Aggregator((datasets.source.original.val,datasets.target.original.val))\n",
    "\n",
    "confusion = ptn_confusion_by_domain_over_dataloader(model, p.device, val_dl)\n",
    "per_domain_accuracy = per_domain_accuracy_from_confusion(confusion)\n",
    "\n",
    "# Add a key to per_domain_accuracy for if it was a source domain\n",
    "for domain, accuracy in per_domain_accuracy.items():\n",
    "    per_domain_accuracy[domain] = {\n",
    "        \"accuracy\": accuracy,\n",
    "        \"source?\": domain in p.domains_source\n",
    "    }\n",
    "\n",
    "# Do an independent accuracy assesment JUST TO BE SURE!\n",
    "# _source_test_label_accuracy = independent_accuracy_assesment(model, datasets.source.processed.test, p.device)\n",
    "# _target_test_label_accuracy = independent_accuracy_assesment(model, datasets.target.processed.test, p.device)\n",
    "# _source_val_label_accuracy = independent_accuracy_assesment(model, datasets.source.processed.val, p.device)\n",
    "# _target_val_label_accuracy = independent_accuracy_assesment(model, datasets.target.processed.val, p.device)\n",
    "\n",
    "# assert(_source_test_label_accuracy == source_test_label_accuracy)\n",
    "# assert(_target_test_label_accuracy == target_test_label_accuracy)\n",
    "# assert(_source_val_label_accuracy == source_val_label_accuracy)\n",
    "# assert(_target_val_label_accuracy == target_val_label_accuracy)\n",
    "\n",
    "experiment = {\n",
    "    \"experiment_name\": p.experiment_name,\n",
    "    \"parameters\": dict(p),\n",
    "    \"results\": {\n",
    "        \"source_test_label_accuracy\": source_test_label_accuracy,\n",
    "        \"source_test_label_loss\": source_test_label_loss,\n",
    "        \"target_test_label_accuracy\": target_test_label_accuracy,\n",
    "        \"target_test_label_loss\": target_test_label_loss,\n",
    "        \"source_val_label_accuracy\": source_val_label_accuracy,\n",
    "        \"source_val_label_loss\": source_val_label_loss,\n",
    "        \"target_val_label_accuracy\": target_val_label_accuracy,\n",
    "        \"target_val_label_loss\": target_val_label_loss,\n",
    "        \"total_epochs_trained\": total_epochs_trained,\n",
    "        \"total_experiment_time_secs\": total_experiment_time_secs,\n",
    "        \"confusion\": confusion,\n",
    "        \"per_domain_accuracy\": per_domain_accuracy,\n",
    "    },\n",
    "    \"history\": history,\n",
    "    \"dataset_metrics\": get_dataset_metrics(datasets, \"ptn\"),\n",
    "}"
   ]
  },
  {
   "cell_type": "code",
   "execution_count": 25,
   "id": "54a21829",
   "metadata": {
    "execution": {
     "iopub.execute_input": "2022-03-28T09:29:36.405620Z",
     "iopub.status.busy": "2022-03-28T09:29:36.405248Z",
     "iopub.status.idle": "2022-03-28T09:29:36.625420Z",
     "shell.execute_reply": "2022-03-28T09:29:36.624589Z"
    },
    "papermill": {
     "duration": 0.265938,
     "end_time": "2022-03-28T09:29:36.625583",
     "exception": false,
     "start_time": "2022-03-28T09:29:36.359645",
     "status": "completed"
    },
    "tags": []
   },
   "outputs": [
    {
     "data": {
      "image/png": "[encoded data removed]",
      "text/plain": [
       "<Figure size 1080x504 with 1 Axes>"
      ]
     },
     "metadata": {
      "needs_background": "light"
     },
     "output_type": "display_data"
    }
   ],
   "source": [
    "ax = get_loss_curve(experiment)\n",
    "plt.show()"
   ]
  },
  {
   "cell_type": "code",
   "execution_count": 26,
   "id": "fd8a0f60",
   "metadata": {
    "execution": {
     "iopub.execute_input": "2022-03-28T09:29:36.719778Z",
     "iopub.status.busy": "2022-03-28T09:29:36.719393Z",
     "iopub.status.idle": "2022-03-28T09:29:37.065461Z",
     "shell.execute_reply": "2022-03-28T09:29:37.066153Z"
    },
    "papermill": {
     "duration": 0.394034,
     "end_time": "2022-03-28T09:29:37.066370",
     "exception": false,
     "start_time": "2022-03-28T09:29:36.672336",
     "status": "completed"
    },
    "tags": []
   },
   "outputs": [
    {
     "data": {
      "text/plain": [
       "<AxesSubplot:title={'center':'Results'}>"
      ]
     },
     "execution_count": 26,
     "metadata": {},
     "output_type": "execute_result"
    },
    {
     "data": {
      "image/png": "[encoded data removed]",
      "text/plain": [
       "<Figure size 1080x504 with 1 Axes>"
      ]
     },
     "metadata": {
      "needs_background": "light"
     },
     "output_type": "display_data"
    }
   ],
   "source": [
    "get_results_table(experiment)"
   ]
  },
  {
   "cell_type": "code",
   "execution_count": 27,
   "id": "cf8dc689",
   "metadata": {
    "execution": {
     "iopub.execute_input": "2022-03-28T09:29:37.162252Z",
     "iopub.status.busy": "2022-03-28T09:29:37.161881Z",
     "iopub.status.idle": "2022-03-28T09:29:37.398941Z",
     "shell.execute_reply": "2022-03-28T09:29:37.398248Z"
    },
    "papermill": {
     "duration": 0.284763,
     "end_time": "2022-03-28T09:29:37.399109",
     "exception": false,
     "start_time": "2022-03-28T09:29:37.114346",
     "status": "completed"
    },
    "tags": []
   },
   "outputs": [
    {
     "data": {
      "text/plain": [
       "<AxesSubplot:title={'center':'Per Domain Validation Accuracy'}, xlabel='domain'>"
      ]
     },
     "execution_count": 27,
     "metadata": {},
     "output_type": "execute_result"
    },
    {
     "data": {
      "image/png": "[encoded data removed]",
      "text/plain": [
       "<Figure size 1080x504 with 1 Axes>"
      ]
     },
     "metadata": {
      "needs_background": "light"
     },
     "output_type": "display_data"
    }
   ],
   "source": [
    "get_domain_accuracies(experiment)"
   ]
  },
  {
   "cell_type": "code",
   "execution_count": 28,
   "id": "a74ae082",
   "metadata": {
    "execution": {
     "iopub.execute_input": "2022-03-28T09:29:37.498056Z",
     "iopub.status.busy": "2022-03-28T09:29:37.497485Z",
     "iopub.status.idle": "2022-03-28T09:29:37.524054Z",
     "shell.execute_reply": "2022-03-28T09:29:37.523312Z"
    },
    "papermill": {
     "duration": 0.076468,
     "end_time": "2022-03-28T09:29:37.524212",
     "exception": false,
     "start_time": "2022-03-28T09:29:37.447744",
     "status": "completed"
    },
    "tags": []
   },
   "outputs": [
    {
     "name": "stdout",
     "output_type": "stream",
     "text": [
      "Source Test Label Accuracy: 0.9950491573033707 Target Test Label Accuracy: 0.42239583333333336\n",
      "Source Val Label Accuracy: 0.9947142857142857 Target Val Label Accuracy: 0.41559244791666666\n"
     ]
    }
   ],
   "source": [
    "print(\"Source Test Label Accuracy:\", experiment[\"results\"][\"source_test_label_accuracy\"], \"Target Test Label Accuracy:\", experiment[\"results\"][\"target_test_label_accuracy\"])\n",
    "print(\"Source Val Label Accuracy:\", experiment[\"results\"][\"source_val_label_accuracy\"], \"Target Val Label Accuracy:\", experiment[\"results\"][\"target_val_label_accuracy\"])"
   ]
  },
  {
   "cell_type": "code",
   "execution_count": 29,
   "id": "dacca602",
   "metadata": {
    "execution": {
     "iopub.execute_input": "2022-03-28T09:29:37.626533Z",
     "iopub.status.busy": "2022-03-28T09:29:37.626168Z",
     "iopub.status.idle": "2022-03-28T09:29:37.648262Z",
     "shell.execute_reply": "2022-03-28T09:29:37.648941Z"
    },
    "papermill": {
     "duration": 0.071952,
     "end_time": "2022-03-28T09:29:37.649123",
     "exception": false,
     "start_time": "2022-03-28T09:29:37.577171",
     "status": "completed"
    },
    "tags": [
     "experiment_json"
    ]
   },
   "outputs": [
    {
     "data": {
      "text/plain": [
       "'{\"experiment_name\": \"tl_3-jitter10v2:cores -> oracle.run1.framed\", \"parameters\": {\"experiment_name\": \"tl_3-jitter10v2:cores -> oracle.run1.framed\", \"device\": \"cuda\", \"lr\": 0.0001, \"x_shape\": [2, 256], \"n_shot\": 3, \"n_query\": 2, \"train_k_factor\": 3, \"val_k_factor\": 2, \"test_k_factor\": 2, \"torch_default_dtype\": \"torch.float32\", \"n_epoch\": 50, \"patience\": 3, \"criteria_for_best\": \"target_accuracy\", \"x_net\": [{\"class\": \"nnReshape\", \"kargs\": {\"shape\": [-1, 1, 2, 256]}}, {\"class\": \"Conv2d\", \"kargs\": {\"in_channels\": 1, \"out_channels\": 256, \"kernel_size\": [1, 7], \"bias\": false, \"padding\": [0, 3]}}, {\"class\": \"ReLU\", \"kargs\": {\"inplace\": true}}, {\"class\": \"BatchNorm2d\", \"kargs\": {\"num_features\": 256}}, {\"class\": \"Conv2d\", \"kargs\": {\"in_channels\": 256, \"out_channels\": 80, \"kernel_size\": [2, 7], \"bias\": true, \"padding\": [0, 3]}}, {\"class\": \"ReLU\", \"kargs\": {\"inplace\": true}}, {\"class\": \"BatchNorm2d\", \"kargs\": {\"num_features\": 80}}, {\"class\": \"Flatten\", \"kargs\": {}}, {\"class\": \"Linear\", \"kargs\": {\"in_features\": 20480, \"out_features\": 256}}, {\"class\": \"ReLU\", \"kargs\": {\"inplace\": true}}, {\"class\": \"BatchNorm1d\", \"kargs\": {\"num_features\": 256}}, {\"class\": \"Linear\", \"kargs\": {\"in_features\": 256, \"out_features\": 256}}], \"NUM_LOGS_PER_EPOCH\": 10, \"BEST_MODEL_PATH\": \"./best_model.pth\", \"n_way\": 16, \"datasets\": [{\"labels\": [\"1-10.\", \"1-11.\", \"1-15.\", \"1-16.\", \"1-17.\", \"1-18.\", \"1-19.\", \"10-4.\", \"10-7.\", \"11-1.\", \"11-14.\", \"11-17.\", \"11-20.\", \"11-7.\", \"13-20.\", \"13-8.\", \"14-10.\", \"14-11.\", \"14-14.\", \"14-7.\", \"15-1.\", \"15-20.\", \"16-1.\", \"16-16.\", \"17-10.\", \"17-11.\", \"17-2.\", \"19-1.\", \"19-16.\", \"19-19.\", \"19-20.\", \"19-3.\", \"2-10.\", \"2-11.\", \"2-17.\", \"2-18.\", \"2-20.\", \"2-3.\", \"2-4.\", \"2-5.\", \"2-6.\", \"2-7.\", \"2-8.\", \"3-13.\", \"3-18.\", \"3-3.\", \"4-1.\", \"4-10.\", \"4-11.\", \"4-19.\", \"5-5.\", \"6-15.\", \"7-10.\", \"7-14.\", \"8-18.\", \"8-20.\", \"8-3.\", \"8-8.\"], \"domains\": [1, 2, 3, 4, 5], \"num_examples_per_domain_per_label\": -1, \"pickle_path\": \"/root/csc500-main/datasets/cores.stratified_ds.2022A.pkl\", \"source_or_target_dataset\": \"source\", \"x_transforms\": [\"jitter_256_10\", \"lowpass_+/-10MHz\", \"take_200\"], \"episode_transforms\": [], \"domain_prefix\": \"C_\"}, {\"labels\": [\"3123D52\", \"3123D65\", \"3123D79\", \"3123D80\", \"3123D54\", \"3123D70\", \"3123D7B\", \"3123D89\", \"3123D58\", \"3123D76\", \"3123D7D\", \"3123EFE\", \"3123D64\", \"3123D78\", \"3123D7E\", \"3124E4A\"], \"domains\": [32, 38, 8, 44, 14, 50, 20, 26], \"num_examples_per_domain_per_label\": 2000, \"pickle_path\": \"/root/csc500-main/datasets/oracle.Run1_framed_2000Examples_stratified_ds.2022A.pkl\", \"source_or_target_dataset\": \"target\", \"x_transforms\": [\"jitter_256_10\", \"take_200\", \"resample_20Msps_to_25Msps\"], \"episode_transforms\": [], \"domain_prefix\": \"O_\"}], \"seed\": 500, \"dataset_seed\": 500, \"domains_source\": [\"C_1\", \"C_2\", \"C_3\", \"C_4\", \"C_5\"], \"domains_target\": [\"O_32\", \"O_38\", \"O_8\", \"O_44\", \"O_14\", \"O_50\", \"O_20\", \"O_26\"]}, \"results\": {\"source_test_label_accuracy\": 0.9950491573033707, \"source_test_label_loss\": 0.02541358210146427, \"target_test_label_accuracy\": 0.42239583333333336, \"target_test_label_loss\": 1.72119140625, \"source_val_label_accuracy\": 0.9947142857142857, \"source_val_label_loss\": 0.022461673244833946, \"target_val_label_accuracy\": 0.41559244791666666, \"target_val_label_loss\": 1.7275105714797974, \"total_epochs_trained\": 6, \"total_experiment_time_secs\": 932.88680768013, \"confusion\": {\"C_4\": {\"38\": {\"43\": 2, \"38\": 36, \"2\": 2}, \"3\": {\"3\": 124}, \"24\": {\"24\": 56}, \"49\": {\"49\": 17, \"7\": 2, \"32\": 1}, \"7\": {\"7\": 23, \"24\": 1}, \"17\": {\"17\": 80}, \"43\": {\"43\": 148}, \"30\": {\"30\": 44}, \"44\": {\"44\": 132}, \"23\": {\"23\": 144}, \"37\": {\"37\": 24}, \"4\": {\"4\": 132}, \"57\": {\"57\": 100}, \"16\": {\"16\": 96}, \"18\": {\"18\": 107, \"43\": 1}, \"20\": {\"20\": 124}, \"45\": {\"45\": 96}, \"15\": {\"15\": 131, \"11\": 1}, \"52\": {\"52\": 116}, \"19\": {\"19\": 139, \"16\": 1}, \"54\": {\"54\": 108}, \"56\": {\"56\": 130}, \"40\": {\"40\": 134}, \"28\": {\"28\": 28, \"34\": 4}, \"2\": {\"2\": 35, \"43\": 1}, \"9\": {\"9\": 120}, \"0\": {\"0\": 80}, \"36\": {\"36\": 90, \"54\": 1, \"23\": 1}, \"55\": {\"55\": 130}, \"35\": {\"35\": 40}, \"39\": {\"39\": 20}, \"31\": {\"31\": 27, \"49\": 1}, \"14\": {\"38\": 3, \"14\": 8, \"1\": 2, \"13\": 2, \"2\": 1}, \"12\": {\"12\": 92}, \"6\": {\"6\": 111, \"3\": 1}, \"26\": {\"26\": 20, \"51\": 1, \"54\": 1, \"42\": 2}, \"50\": {\"50\": 128, \"6\": 4}, \"21\": {\"21\": 122}, \"46\": {\"46\": 140}, \"51\": {\"51\": 140}, \"41\": {\"41\": 35, \"29\": 1}, \"34\": {\"34\": 18, \"28\": 6}, \"47\": {\"47\": 120}, \"5\": {\"5\": 108}, \"1\": {\"1\": 40}, \"48\": {\"48\": 134}, \"29\": {\"29\": 118}, \"22\": {\"22\": 128}, \"10\": {\"10\": 132}, \"32\": {\"32\": 22, \"49\": 1, \"55\": 1}, \"13\": {\"13\": 112}, \"42\": {\"42\": 32}, \"27\": {\"27\": 138}, \"8\": {\"8\": 142}, \"33\": {\"33\": 36}, \"25\": {\"25\": 131, \"18\": 1}, \"11\": {\"11\": 104}, \"53\": {\"53\": 112}}, \"C_2\": {\"32\": {\"32\": 28}, \"17\": {\"17\": 104}, \"38\": {\"38\": 20}, \"2\": {\"2\": 32}, \"43\": {\"43\": 144}, \"56\": {\"56\": 144}, \"37\": {\"37\": 36}, \"49\": {\"49\": 23, \"32\": 1}, \"0\": {\"0\": 48}, \"29\": {\"29\": 128}, \"35\": {\"35\": 32}, \"18\": {\"18\": 48}, \"25\": {\"25\": 136}, \"23\": {\"23\": 124}, \"15\": {\"15\": 146}, \"21\": {\"21\": 120}, \"51\": {\"51\": 128}, \"20\": {\"20\": 138}, \"7\": {\"7\": 36}, \"50\": {\"50\": 136}, \"31\": {\"31\": 28}, \"30\": {\"30\": 140}, \"19\": {\"19\": 155, \"16\": 1}, \"9\": {\"9\": 144}, \"52\": {\"52\": 124}, \"45\": {\"45\": 127, \"6\": 1}, \"8\": {\"8\": 153, \"27\": 1}, \"55\": {\"55\": 160}, \"12\": {\"12\": 92}, \"40\": {\"40\": 137, \"44\": 1, \"57\": 1, \"29\": 1}, \"28\": {\"28\": 28}, \"36\": {\"36\": 116}, \"39\": {\"39\": 25, \"33\": 2, \"57\": 1}, \"46\": {\"46\": 122}, \"14\": {\"14\": 18, \"39\": 1, \"13\": 2, \"29\": 2, \"0\": 1}, \"57\": {\"57\": 141, \"29\": 1}, \"34\": {\"34\": 26, \"23\": 2}, \"1\": {\"1\": 112}, \"53\": {\"53\": 136}, \"48\": {\"48\": 130}, \"3\": {\"3\": 92}, \"16\": {\"16\": 152}, \"6\": {\"6\": 124}, \"10\": {\"10\": 112}, \"13\": {\"13\": 116}, \"26\": {\"26\": 24}, \"24\": {\"24\": 96}, \"44\": {\"44\": 100}, \"27\": {\"27\": 150}, \"22\": {\"22\": 128}, \"33\": {\"35\": 1, \"33\": 27}, \"47\": {\"47\": 118}, \"5\": {\"5\": 119, \"46\": 1}, \"4\": {\"4\": 138}, \"41\": {\"41\": 20}, \"11\": {\"11\": 150}, \"54\": {\"54\": 108}, \"42\": {\"42\": 36}}, \"C_3\": {\"5\": {\"5\": 115, \"3\": 1}, \"32\": {\"32\": 28}, \"33\": {\"33\": 28}, \"49\": {\"49\": 18, \"13\": 2}, \"39\": {\"39\": 15, \"9\": 1}, \"11\": {\"11\": 142}, \"8\": {\"8\": 116}, \"26\": {\"26\": 24}, \"51\": {\"51\": 122}, \"4\": {\"4\": 146}, \"52\": {\"52\": 118}, \"47\": {\"47\": 92}, \"17\": {\"17\": 106, \"51\": 1, \"24\": 1}, \"53\": {\"53\": 136}, \"2\": {\"2\": 32}, \"12\": {\"12\": 92}, \"37\": {\"37\": 28}, \"9\": {\"9\": 148}, \"13\": {\"13\": 128}, \"54\": {\"54\": 100}, \"31\": {\"31\": 28}, \"34\": {\"34\": 31, \"26\": 1}, \"24\": {\"24\": 104}, \"7\": {\"7\": 36}, \"50\": {\"50\": 116, \"46\": 1, \"3\": 1}, \"46\": {\"46\": 128}, \"44\": {\"44\": 88}, \"40\": {\"40\": 116}, \"21\": {\"21\": 127, \"50\": 1}, \"45\": {\"45\": 59, \"12\": 1}, \"16\": {\"16\": 126}, \"14\": {\"14\": 35, \"13\": 5}, \"36\": {\"36\": 100}, \"56\": {\"56\": 114}, \"10\": {\"10\": 64}, \"18\": {\"18\": 84}, \"48\": {\"48\": 115, \"41\": 1}, \"38\": {\"38\": 28}, \"27\": {\"27\": 130}, \"42\": {\"42\": 28}, \"15\": {\"15\": 132, \"11\": 2}, \"1\": {\"1\": 100}, \"28\": {\"28\": 28}, \"43\": {\"43\": 136}, \"0\": {\"0\": 124}, \"57\": {\"57\": 124}, \"3\": {\"3\": 148}, \"29\": {\"29\": 124}, \"41\": {\"41\": 27, \"48\": 1}, \"25\": {\"25\": 146}, \"6\": {\"6\": 88}, \"35\": {\"35\": 28}, \"20\": {\"20\": 124, \"4\": 2}, \"23\": {\"23\": 134}, \"22\": {\"22\": 139, \"56\": 1}, \"19\": {\"19\": 115, \"25\": 1}, \"55\": {\"55\": 124}, \"30\": {\"30\": 120}}, \"C_1\": {\"24\": {\"24\": 108}, \"25\": {\"25\": 139, \"18\": 1}, \"45\": {\"45\": 142, \"3\": 1, \"56\": 1}, \"42\": {\"19\": 2, \"42\": 36, \"55\": 2}, \"2\": {\"2\": 36}, \"9\": {\"9\": 149, \"51\": 1}, \"21\": {\"21\": 124}, \"26\": {\"26\": 24}, \"49\": {\"49\": 32}, \"39\": {\"39\": 26, \"49\": 2}, \"46\": {\"46\": 136}, \"17\": {\"17\": 64}, \"19\": {\"19\": 156}, \"23\": {\"23\": 132}, \"1\": {\"1\": 100}, \"29\": {\"29\": 140}, \"56\": {\"56\": 150}, \"37\": {\"37\": 32}, \"33\": {\"33\": 32}, \"55\": {\"55\": 142}, \"30\": {\"30\": 120}, \"0\": {\"0\": 152}, \"36\": {\"36\": 64}, \"32\": {\"32\": 32}, \"31\": {\"31\": 28}, \"15\": {\"15\": 138}, \"12\": {\"12\": 116}, \"38\": {\"38\": 17, \"49\": 3, \"47\": 1, \"55\": 2, \"32\": 1}, \"40\": {\"40\": 146}, \"14\": {\"14\": 23, \"30\": 1}, \"13\": {\"13\": 150}, \"48\": {\"48\": 148}, \"34\": {\"34\": 24}, \"44\": {\"44\": 130}, \"5\": {\"5\": 152}, \"11\": {\"11\": 140}, \"7\": {\"7\": 28}, \"18\": {\"18\": 72}, \"52\": {\"52\": 132}, \"51\": {\"51\": 142}, \"41\": {\"41\": 21, \"14\": 1, \"9\": 2}, \"16\": {\"16\": 140}, \"22\": {\"22\": 131, \"21\": 3}, \"3\": {\"3\": 138, \"44\": 2}, \"54\": {\"54\": 104}, \"27\": {\"27\": 144}, \"20\": {\"20\": 135, \"13\": 1, \"12\": 4}, \"8\": {\"8\": 138}, \"50\": {\"50\": 144}, \"57\": {\"57\": 140}, \"4\": {\"4\": 132}, \"47\": {\"47\": 146}, \"10\": {\"10\": 96}, \"35\": {\"35\": 36}, \"53\": {\"53\": 126}, \"6\": {\"6\": 96}, \"43\": {\"43\": 140}, \"28\": {\"28\": 28}}, \"C_5\": {\"35\": {\"35\": 35, \"31\": 1}, \"57\": {\"57\": 132}, \"20\": {\"20\": 144}, \"12\": {\"12\": 96}, \"32\": {\"32\": 32}, \"25\": {\"25\": 138}, \"44\": {\"44\": 148}, \"31\": {\"31\": 36}, \"11\": {\"11\": 150}, \"47\": {\"47\": 100}, \"23\": {\"23\": 122, \"19\": 2}, \"43\": {\"43\": 144}, \"37\": {\"37\": 24}, \"5\": {\"5\": 127, \"44\": 1}, \"45\": {\"45\": 122, \"6\": 2}, \"7\": {\"7\": 32}, \"13\": {\"13\": 136}, \"49\": {\"49\": 36}, \"46\": {\"46\": 148}, \"16\": {\"16\": 136}, \"54\": {\"54\": 112}, \"19\": {\"19\": 152}, \"55\": {\"55\": 149, \"53\": 1}, \"30\": {\"30\": 128}, \"34\": {\"34\": 36}, \"50\": {\"50\": 133, \"6\": 1}, \"3\": {\"3\": 100}, \"10\": {\"10\": 68}, \"27\": {\"27\": 142}, \"33\": {\"33\": 29, \"39\": 2, \"41\": 1}, \"56\": {\"56\": 142}, \"9\": {\"9\": 150}, \"14\": {\"14\": 42, \"43\": 1, \"29\": 1}, \"4\": {\"4\": 100}, \"42\": {\"42\": 40}, \"24\": {\"24\": 80}, \"39\": {\"33\": 2, \"39\": 18}, \"52\": {\"52\": 130}, \"2\": {\"2\": 28}, \"28\": {\"28\": 32}, \"53\": {\"53\": 122}, \"17\": {\"17\": 116}, \"29\": {\"29\": 132}, \"38\": {\"38\": 32}, \"15\": {\"15\": 144}, \"26\": {\"26\": 23, \"51\": 1}, \"21\": {\"21\": 144}, \"41\": {\"41\": 26, \"39\": 1, \"27\": 1}, \"48\": {\"48\": 135, \"1\": 1}, \"22\": {\"22\": 28}, \"8\": {\"8\": 146, \"27\": 2}, \"18\": {\"18\": 64}, \"0\": {\"0\": 122}, \"1\": {\"1\": 138}, \"40\": {\"40\": 124}, \"6\": {\"6\": 126, \"45\": 2}, \"51\": {\"51\": 139, \"32\": 2, \"17\": 1}, \"36\": {\"36\": 92}}, \"O_50\": {\"7\": {\"4\": 94, \"15\": 3, \"7\": 109, \"5\": 29, \"9\": 4, \"6\": 1}, \"10\": {\"10\": 139, \"0\": 51, \"1\": 14, \"8\": 27, \"2\": 4, \"14\": 5}, \"0\": {\"10\": 56, \"14\": 58, \"0\": 82, \"2\": 43, \"8\": 1}, \"11\": {\"11\": 103, \"3\": 60, \"6\": 15, \"12\": 33, \"13\": 10, \"15\": 6, \"5\": 8, \"9\": 3, \"1\": 2}, \"2\": {\"2\": 92, \"14\": 86, \"0\": 57, \"10\": 5}, \"14\": {\"2\": 78, \"14\": 91, \"0\": 68, \"10\": 3}, \"9\": {\"12\": 42, \"5\": 21, \"6\": 32, \"15\": 33, \"9\": 85, \"3\": 10, \"11\": 8, \"4\": 6, \"7\": 3}, \"13\": {\"13\": 150, \"1\": 64, \"8\": 7, \"11\": 14, \"3\": 5}, \"8\": {\"8\": 128, \"1\": 65, \"10\": 43, \"13\": 4}, \"15\": {\"6\": 55, \"5\": 47, \"9\": 22, \"15\": 62, \"11\": 11, \"3\": 31, \"4\": 6, \"12\": 3, \"7\": 3}, \"4\": {\"7\": 102, \"4\": 100, \"15\": 3, \"5\": 26, \"9\": 5, \"6\": 4}, \"5\": {\"5\": 58, \"7\": 49, \"6\": 23, \"11\": 11, \"15\": 42, \"4\": 24, \"9\": 11, \"3\": 16, \"13\": 6}, \"3\": {\"15\": 44, \"6\": 43, \"3\": 70, \"5\": 13, \"11\": 53, \"12\": 6, \"9\": 10, \"13\": 1}, \"1\": {\"1\": 104, \"13\": 69, \"8\": 47, \"10\": 16, \"0\": 2, \"11\": 2}, \"6\": {\"11\": 12, \"5\": 36, \"9\": 20, \"15\": 55, \"6\": 66, \"3\": 37, \"12\": 11, \"7\": 2, \"4\": 1}, \"12\": {\"12\": 144, \"11\": 24, \"9\": 50, \"6\": 13, \"15\": 3, \"13\": 1, \"3\": 3, \"5\": 2}}, \"O_14\": {\"14\": {\"0\": 39, \"6\": 26, \"5\": 23, \"14\": 64, \"3\": 14, \"2\": 37, \"13\": 33, \"8\": 1, \"12\": 2, \"7\": 1}, \"6\": {\"6\": 90, \"3\": 38, \"13\": 66, \"14\": 18, \"7\": 2, \"0\": 16, \"2\": 8, \"5\": 2}, \"5\": {\"0\": 33, \"5\": 66, \"12\": 48, \"14\": 26, \"13\": 6, \"8\": 15, \"7\": 9, \"4\": 10, \"2\": 21, \"6\": 4, \"3\": 2}, \"15\": {\"15\": 240}, \"11\": {\"11\": 237, \"1\": 2, \"9\": 1}, \"8\": {\"12\": 24, \"8\": 124, \"3\": 3, \"5\": 30, \"7\": 46, \"0\": 7, \"2\": 2, \"4\": 1, \"14\": 2, \"13\": 1}, \"12\": {\"12\": 80, \"2\": 27, \"8\": 18, \"0\": 16, \"4\": 40, \"5\": 44, \"14\": 11, \"3\": 1, \"10\": 1, \"9\": 1, \"13\": 1}, \"1\": {\"1\": 115, \"10\": 21, \"9\": 102, \"4\": 2}, \"2\": {\"13\": 14, \"2\": 39, \"3\": 24, \"0\": 44, \"12\": 25, \"6\": 12, \"14\": 31, \"5\": 28, \"8\": 3, \"7\": 8, \"4\": 9, \"10\": 3}, \"13\": {\"0\": 23, \"14\": 30, \"6\": 64, \"2\": 21, \"15\": 14, \"13\": 43, \"12\": 3, \"4\": 11, \"3\": 19, \"5\": 10, \"10\": 1, \"7\": 1}, \"3\": {\"7\": 45, \"6\": 47, \"3\": 77, \"5\": 6, \"0\": 27, \"14\": 5, \"13\": 21, \"2\": 10, \"8\": 2}, \"0\": {\"0\": 25, \"2\": 34, \"4\": 10, \"12\": 14, \"6\": 27, \"14\": 28, \"5\": 34, \"7\": 17, \"13\": 17, \"8\": 6, \"3\": 27, \"10\": 1}, \"9\": {\"9\": 81, \"1\": 107, \"10\": 40, \"4\": 12}, \"4\": {\"4\": 89, \"2\": 20, \"5\": 12, \"0\": 7, \"12\": 65, \"10\": 33, \"1\": 7, \"14\": 2, \"9\": 5}, \"7\": {\"8\": 53, \"7\": 93, \"3\": 43, \"6\": 10, \"0\": 14, \"13\": 5, \"5\": 10, \"2\": 4, \"14\": 6, \"12\": 2}, \"10\": {\"4\": 40, \"10\": 129, \"9\": 42, \"12\": 7, \"13\": 2, \"1\": 12, \"2\": 7, \"0\": 1}}, \"O_32\": {\"4\": {\"1\": 48, \"4\": 70, \"13\": 25, \"3\": 37, \"8\": 4, \"2\": 52, \"9\": 3, \"14\": 1}, \"14\": {\"0\": 53, \"8\": 18, \"2\": 26, \"14\": 71, \"5\": 24, \"7\": 37, \"1\": 5, \"4\": 5, \"15\": 1}, \"5\": {\"7\": 54, \"0\": 34, \"5\": 81, \"14\": 30, \"2\": 6, \"15\": 17, \"8\": 17, \"4\": 1}, \"10\": {\"10\": 199, \"12\": 35, \"6\": 6}, \"13\": {\"4\": 34, \"9\": 37, \"1\": 14, \"3\": 54, \"13\": 79, \"11\": 17, \"2\": 5}, \"9\": {\"11\": 69, \"13\": 43, \"3\": 27, \"4\": 6, \"9\": 62, \"12\": 25, \"1\": 5, \"10\": 3}, \"6\": {\"6\": 217, \"10\": 23}, \"3\": {\"13\": 68, \"9\": 14, \"1\": 50, \"3\": 78, \"4\": 26, \"2\": 3, \"8\": 1}, \"15\": {\"15\": 209, \"5\": 8, \"8\": 18, \"7\": 3, \"0\": 2}, \"7\": {\"0\": 38, \"7\": 68, \"8\": 12, \"14\": 61, \"5\": 61}, \"12\": {\"10\": 24, \"12\": 184, \"9\": 21, \"11\": 11}, \"8\": {\"7\": 18, \"15\": 11, \"1\": 16, \"8\": 88, \"4\": 4, \"0\": 54, \"5\": 18, \"14\": 22, \"2\": 8, \"3\": 1}, \"11\": {\"11\": 146, \"9\": 69, \"13\": 15, \"12\": 8, \"3\": 2}, \"2\": {\"2\": 101, \"4\": 66, \"3\": 8, \"1\": 39, \"13\": 5, \"8\": 10, \"14\": 8, \"0\": 2, \"9\": 1}, \"1\": {\"8\": 22, \"2\": 26, \"1\": 99, \"3\": 30, \"4\": 47, \"13\": 13, \"14\": 1, \"0\": 2}, \"0\": {\"2\": 6, \"8\": 42, \"7\": 48, \"5\": 45, \"0\": 49, \"15\": 4, \"14\": 42, \"1\": 3, \"4\": 1}}, \"O_44\": {\"8\": {\"0\": 65, \"3\": 2, \"1\": 44, \"8\": 79, \"14\": 8, \"2\": 8, \"15\": 25, \"4\": 2, \"5\": 6, \"10\": 1}, \"11\": {\"11\": 239, \"13\": 1}, \"14\": {\"9\": 14, \"5\": 66, \"8\": 1, \"10\": 29, \"14\": 43, \"15\": 29, \"4\": 25, \"7\": 20, \"2\": 13}, \"10\": {\"7\": 61, \"14\": 32, \"9\": 29, \"10\": 44, \"5\": 24, \"4\": 39, \"2\": 5, \"15\": 2, \"8\": 1, \"1\": 2, \"6\": 1}, \"3\": {\"3\": 142, \"12\": 85, \"0\": 13}, \"15\": {\"5\": 31, \"0\": 10, \"8\": 41, \"14\": 25, \"10\": 9, \"15\": 80, \"1\": 23, \"2\": 8, \"4\": 10, \"7\": 2, \"9\": 1}, \"2\": {\"8\": 3, \"5\": 15, \"2\": 123, \"4\": 9, \"1\": 53, \"14\": 16, \"0\": 1, \"15\": 12, \"10\": 2, \"9\": 4, \"7\": 2}, \"12\": {\"12\": 128, \"3\": 108, \"0\": 4}, \"4\": {\"5\": 19, \"15\": 20, \"10\": 38, \"4\": 36, \"9\": 32, \"14\": 20, \"7\": 36, \"1\": 7, \"2\": 23, \"6\": 8, \"8\": 1}, \"1\": {\"0\": 36, \"1\": 91, \"5\": 4, \"2\": 37, \"8\": 40, \"14\": 6, \"15\": 23, \"4\": 3}, \"0\": {\"0\": 142, \"8\": 44, \"1\": 42, \"15\": 4, \"3\": 7, \"2\": 1}, \"9\": {\"6\": 33, \"4\": 22, \"9\": 44, \"14\": 15, \"5\": 15, \"13\": 39, \"7\": 50, \"2\": 2, \"10\": 17, \"15\": 1, \"1\": 2}, \"5\": {\"2\": 21, \"15\": 24, \"5\": 47, \"10\": 30, \"7\": 24, \"14\": 40, \"4\": 25, \"9\": 10, \"1\": 13, \"8\": 6}, \"6\": {\"6\": 120, \"13\": 77, \"9\": 35, \"7\": 6, \"4\": 2}, \"7\": {\"7\": 75, \"6\": 12, \"4\": 27, \"9\": 47, \"10\": 46, \"14\": 19, \"5\": 12, \"13\": 2}, \"13\": {\"13\": 157, \"6\": 64, \"9\": 13, \"11\": 4, \"4\": 1, \"7\": 1}}, \"O_8\": {\"13\": {\"5\": 58, \"13\": 67, \"10\": 49, \"1\": 9, \"7\": 36, \"6\": 18, \"11\": 2, \"15\": 1}, \"3\": {\"3\": 206, \"9\": 17, \"2\": 17}, \"15\": {\"15\": 110, \"12\": 85, \"3\": 5, \"2\": 40}, \"4\": {\"4\": 76, \"14\": 66, \"6\": 24, \"11\": 27, \"8\": 27, \"1\": 14, \"10\": 2, \"7\": 1, \"5\": 3}, \"7\": {\"7\": 53, \"1\": 18, \"13\": 22, \"6\": 55, \"5\": 40, \"10\": 40, \"4\": 8, \"11\": 4}, \"2\": {\"2\": 123, \"15\": 42, \"3\": 44, \"12\": 29, \"9\": 2}, \"1\": {\"5\": 33, \"1\": 64, \"13\": 13, \"6\": 30, \"11\": 34, \"8\": 16, \"10\": 21, \"7\": 13, \"4\": 15, \"14\": 1}, \"0\": {\"0\": 233, \"14\": 7}, \"12\": {\"12\": 146, \"15\": 85, \"2\": 9}, \"6\": {\"6\": 61, \"5\": 38, \"4\": 32, \"10\": 30, \"1\": 29, \"7\": 27, \"11\": 14, \"13\": 6, \"8\": 2, \"14\": 1}, \"11\": {\"11\": 47, \"14\": 17, \"1\": 52, \"8\": 43, \"6\": 18, \"4\": 32, \"7\": 9, \"10\": 8, \"5\": 13, \"13\": 1}, \"9\": {\"9\": 213, \"3\": 26, \"2\": 1}, \"5\": {\"8\": 4, \"13\": 38, \"11\": 11, \"10\": 38, \"5\": 62, \"6\": 30, \"4\": 5, \"1\": 17, \"7\": 29, \"12\": 4, \"14\": 2}, \"10\": {\"6\": 38, \"5\": 55, \"10\": 46, \"11\": 4, \"7\": 39, \"1\": 11, \"4\": 9, \"13\": 38}, \"14\": {\"14\": 155, \"8\": 34, \"4\": 28, \"6\": 2, \"0\": 4, \"1\": 3, \"11\": 14}, \"8\": {\"8\": 65, \"1\": 25, \"4\": 47, \"11\": 56, \"14\": 37, \"5\": 7, \"6\": 1, \"7\": 1, \"10\": 1}}, \"O_20\": {\"6\": {\"14\": 27, \"2\": 11, \"8\": 12, \"12\": 23, \"7\": 15, \"13\": 15, \"6\": 40, \"1\": 15, \"3\": 11, \"15\": 21, \"5\": 10, \"4\": 19, \"9\": 20, \"10\": 1}, \"11\": {\"11\": 179, \"0\": 53, \"3\": 1, \"8\": 4, \"14\": 1, \"1\": 2}, \"5\": {\"5\": 36, \"9\": 31, \"6\": 12, \"13\": 3, \"3\": 31, \"2\": 13, \"7\": 25, \"1\": 25, \"8\": 20, \"15\": 15, \"14\": 23, \"0\": 4, \"12\": 1, \"4\": 1}, \"14\": {\"14\": 61, \"8\": 64, \"0\": 12, \"2\": 4, \"7\": 13, \"9\": 9, \"3\": 23, \"5\": 28, \"1\": 8, \"6\": 14, \"12\": 1, \"15\": 2, \"4\": 1}, \"2\": {\"15\": 27, \"2\": 36, \"10\": 2, \"1\": 12, \"13\": 53, \"6\": 23, \"4\": 9, \"12\": 29, \"9\": 11, \"7\": 18, \"5\": 10, \"3\": 4, \"14\": 4, \"8\": 2}, \"7\": {\"14\": 15, \"1\": 22, \"2\": 27, \"6\": 30, \"9\": 18, \"7\": 22, \"15\": 28, \"3\": 10, \"8\": 10, \"5\": 10, \"12\": 18, \"4\": 9, \"13\": 21}, \"3\": {\"1\": 16, \"14\": 37, \"5\": 30, \"3\": 39, \"0\": 9, \"8\": 47, \"9\": 24, \"2\": 7, \"6\": 8, \"15\": 9, \"7\": 11, \"12\": 2, \"4\": 1}, \"4\": {\"10\": 31, \"13\": 25, \"6\": 41, \"7\": 6, \"4\": 57, \"12\": 26, \"15\": 10, \"5\": 4, \"2\": 20, \"14\": 12, \"1\": 2, \"9\": 3, \"3\": 3}, \"9\": {\"5\": 24, \"1\": 22, \"15\": 26, \"9\": 31, \"14\": 20, \"2\": 16, \"3\": 26, \"8\": 28, \"6\": 16, \"12\": 9, \"7\": 20, \"13\": 2}, \"12\": {\"13\": 46, \"9\": 13, \"2\": 23, \"7\": 23, \"4\": 33, \"1\": 9, \"10\": 9, \"12\": 29, \"5\": 6, \"14\": 6, \"15\": 20, \"6\": 22, \"3\": 1}, \"0\": {\"11\": 56, \"0\": 129, \"5\": 7, \"8\": 16, \"3\": 15, \"1\": 6, \"14\": 7, \"9\": 4}, \"10\": {\"10\": 141, \"4\": 56, \"6\": 8, \"12\": 10, \"15\": 2, \"13\": 13, \"2\": 7, \"3\": 1, \"7\": 1, \"14\": 1}, \"8\": {\"8\": 58, \"0\": 24, \"14\": 50, \"3\": 41, \"5\": 31, \"9\": 16, \"1\": 7, \"15\": 3, \"7\": 8, \"6\": 2}, \"13\": {\"2\": 39, \"13\": 92, \"1\": 7, \"12\": 25, \"3\": 2, \"6\": 17, \"7\": 10, \"15\": 24, \"4\": 11, \"9\": 6, \"10\": 6, \"5\": 1}, \"1\": {\"15\": 30, \"5\": 29, \"14\": 17, \"12\": 9, \"7\": 19, \"1\": 24, \"3\": 20, \"2\": 21, \"9\": 36, \"8\": 18, \"6\": 13, \"13\": 4}, \"15\": {\"15\": 35, \"2\": 32, \"6\": 17, \"13\": 46, \"9\": 19, \"5\": 10, \"12\": 21, \"1\": 17, \"3\": 13, \"4\": 3, \"14\": 8, \"8\": 2, \"7\": 16, \"10\": 1}}, \"O_38\": {\"3\": {\"3\": 234, \"11\": 5, \"10\": 1}, \"8\": {\"8\": 66, \"12\": 9, \"5\": 50, \"9\": 16, \"7\": 21, \"15\": 34, \"2\": 40, \"14\": 4}, \"0\": {\"10\": 77, \"0\": 63, \"13\": 64, \"3\": 5, \"2\": 16, \"14\": 6, \"7\": 9}, \"2\": {\"7\": 54, \"14\": 28, \"9\": 35, \"8\": 11, \"2\": 103, \"5\": 9}, \"4\": {\"4\": 232, \"0\": 3, \"14\": 2, \"10\": 2, \"7\": 1}, \"7\": {\"14\": 65, \"2\": 74, \"7\": 78, \"9\": 7, \"8\": 8, \"0\": 1, \"5\": 5, \"13\": 2}, \"12\": {\"12\": 227, \"8\": 10, \"15\": 1, \"5\": 2}, \"6\": {\"6\": 113, \"1\": 124, \"15\": 3}, \"15\": {\"6\": 4, \"15\": 175, \"8\": 25, \"12\": 3, \"1\": 11, \"5\": 22}, \"11\": {\"11\": 236, \"3\": 4}, \"9\": {\"9\": 149, \"5\": 31, \"8\": 16, \"7\": 8, \"2\": 36}, \"14\": {\"14\": 128, \"7\": 63, \"2\": 29, \"4\": 8, \"13\": 5, \"0\": 6, \"8\": 1}, \"10\": {\"4\": 8, \"0\": 69, \"10\": 141, \"13\": 18, \"3\": 4}, \"5\": {\"7\": 14, \"8\": 67, \"5\": 74, \"2\": 20, \"15\": 30, \"9\": 28, \"14\": 6, \"12\": 1}, \"1\": {\"6\": 136, \"1\": 104}, \"13\": {\"13\": 121, \"0\": 65, \"10\": 26, \"14\": 6, \"2\": 18, \"7\": 4}}, \"O_26\": {\"5\": {\"15\": 55, \"5\": 67, \"6\": 37, \"1\": 27, \"11\": 42, \"14\": 3, \"10\": 7, \"2\": 2}, \"8\": {\"9\": 37, \"3\": 19, \"8\": 54, \"2\": 24, \"12\": 16, \"7\": 47, \"0\": 25, \"13\": 10, \"14\": 4, \"10\": 4}, \"4\": {\"4\": 195, \"13\": 15, \"3\": 17, \"7\": 2, \"12\": 10, \"8\": 1}, \"12\": {\"2\": 14, \"13\": 32, \"8\": 23, \"9\": 37, \"3\": 47, \"7\": 37, \"12\": 43, \"0\": 4, \"10\": 1, \"4\": 2}, \"6\": {\"11\": 4, \"1\": 50, \"5\": 34, \"15\": 72, \"6\": 51, \"10\": 17, \"14\": 8, \"0\": 4}, \"7\": {\"12\": 36, \"7\": 44, \"13\": 13, \"3\": 28, \"9\": 34, \"8\": 43, \"10\": 1, \"2\": 25, \"0\": 15, \"14\": 1}, \"10\": {\"10\": 75, \"15\": 18, \"14\": 48, \"8\": 4, \"6\": 18, \"5\": 4, \"1\": 26, \"0\": 41, \"2\": 5, \"11\": 1}, \"0\": {\"14\": 52, \"10\": 44, \"2\": 28, \"0\": 71, \"8\": 22, \"7\": 3, \"1\": 14, \"12\": 2, \"9\": 2, \"15\": 1, \"3\": 1}, \"15\": {\"15\": 73, \"6\": 50, \"5\": 39, \"10\": 15, \"1\": 28, \"14\": 8, \"0\": 13, \"2\": 5, \"11\": 9}, \"9\": {\"13\": 35, \"3\": 22, \"0\": 22, \"8\": 32, \"9\": 38, \"7\": 27, \"2\": 37, \"12\": 22, \"14\": 3, \"10\": 2}, \"11\": {\"11\": 129, \"5\": 51, \"15\": 28, \"6\": 19, \"1\": 13}, \"14\": {\"1\": 41, \"10\": 55, \"6\": 16, \"15\": 15, \"14\": 61, \"0\": 40, \"8\": 1, \"11\": 1, \"5\": 4, \"2\": 5, \"7\": 1}, \"2\": {\"12\": 11, \"2\": 67, \"14\": 6, \"3\": 12, \"10\": 8, \"7\": 30, \"8\": 30, \"15\": 4, \"0\": 29, \"9\": 31, \"13\": 12}, \"13\": {\"4\": 19, \"3\": 53, \"2\": 8, \"13\": 101, \"12\": 25, \"7\": 10, \"9\": 21, \"8\": 3}, \"3\": {\"3\": 48, \"13\": 52, \"9\": 30, \"8\": 22, \"7\": 28, \"12\": 44, \"4\": 6, \"2\": 9, \"0\": 1}, \"1\": {\"10\": 23, \"1\": 104, \"6\": 52, \"14\": 29, \"5\": 11, \"15\": 13, \"11\": 6, \"0\": 2}}}, \"per_domain_accuracy\": {\"C_4\": {\"accuracy\": 0.9912878787878788, \"source?\": true}, \"C_2\": {\"accuracy\": 0.996313202247191, \"source?\": true}, \"C_3\": {\"accuracy\": 0.9955357142857143, \"source?\": true}, \"C_1\": {\"accuracy\": 0.9947635135135136, \"source?\": true}, \"C_5\": {\"accuracy\": 0.9954608938547486, \"source?\": true}, \"O_50\": {\"accuracy\": 0.4122395833333333, \"source?\": false}, \"O_14\": {\"accuracy\": 0.41458333333333336, \"source?\": false}, \"O_32\": {\"accuracy\": 0.46901041666666665, \"source?\": false}, \"O_44\": {\"accuracy\": 0.4140625, \"source?\": false}, \"O_8\": {\"accuracy\": 0.44973958333333336, \"source?\": false}, \"O_20\": {\"accuracy\": 0.26276041666666666, \"source?\": false}, \"O_38\": {\"accuracy\": 0.584375, \"source?\": false}, \"O_26\": {\"accuracy\": 0.31796875, \"source?\": false}}}, \"history\": {\"epoch_indices\": [1, 2, 3, 4, 5, 6], \"train_label_loss\": [0.06556025282906314, 0.0409802994946369, 0.012899513514685232, 0.015603823263231974, 0.009128765164968874, 0.0069678678984844864], \"source_val_label_loss\": [0.04449786618351936, 0.022461673244833946, 0.013215513899922371, 0.018381385132670403, 0.006901539862155914, 0.009359491057693958], \"target_val_label_loss\": [35.68399429321289, 1.7275105714797974, 1.7678941488265991, 1.8325051069259644, 1.9406474828720093, 1.9431172609329224], \"source_val_acc_label\": [0.9953571428571428, 0.9947142857142857, 0.9972142857142857, 0.9972142857142857, 0.9988571428571429, 0.9985714285714286], \"target_val_acc_label\": [0.27802734375, 0.41559244791666666, 0.38971354166666666, 0.40452473958333335, 0.32998046875, 0.32278645833333336]}, \"dataset_metrics\": {\"source\": {\"train\": {\"n_unique_x\": 175189, \"n_unique_y\": 58, \"n_batch/episode\": 6310}, \"val\": {\"n_unique_x\": 37166, \"n_unique_y\": 58, \"n_batch/episode\": 875}, \"test\": {\"n_unique_x\": 37642, \"n_unique_y\": 58, \"n_batch/episode\": 890}}, \"target\": {\"train\": {\"n_unique_x\": 179200, \"n_unique_y\": 16, \"n_batch/episode\": 6720}, \"val\": {\"n_unique_x\": 38400, \"n_unique_y\": 16, \"n_batch/episode\": 960}, \"test\": {\"n_unique_x\": 38400, \"n_unique_y\": 16, \"n_batch/episode\": 960}}}}'"
      ]
     },
     "execution_count": 29,
     "metadata": {},
     "output_type": "execute_result"
    }
   ],
   "source": [
    "json.dumps(experiment)"
   ]
  }
 ],
 "metadata": {
  "celltoolbar": "Tags",
  "kernelspec": {
   "display_name": "Python 3 (ipykernel)",
   "language": "python",
   "name": "python3"
  },
  "language_info": {
   "codemirror_mode": {
    "name": "ipython",
    "version": 3
   },
   "file_extension": ".py",
   "mimetype": "text/x-python",
   "name": "python",
   "nbconvert_exporter": "python",
   "pygments_lexer": "ipython3",
   "version": "3.8.12"
  },
  "papermill": {
   "default_parameters": {},
   "duration": 1102.868399,
   "end_time": "2022-03-28T09:29:40.118919",
   "environment_variables": {},
   "exception": null,
   "input_path": "/root/csc500-main/csc500-notebooks/templates/tl_ptn_template.ipynb",
   "output_path": "trial.ipynb",
   "parameters": {
    "parameters": {
     "BEST_MODEL_PATH": "./best_model.pth",
     "NUM_LOGS_PER_EPOCH": 10,
     "criteria_for_best": "target_accuracy",
     "dataset_seed": 500,
     "datasets": [
      {
       "domain_prefix": "C_",
       "domains": [
        1,
        2,
        3,
        4,
        5
       ],
       "episode_transforms": [],
       "labels": [
        "1-10.",
        "1-11.",
        "1-15.",
        "1-16.",
        "1-17.",
        "1-18.",
        "1-19.",
        "10-4.",
        "10-7.",
        "11-1.",
        "11-14.",
        "11-17.",
        "11-20.",
        "11-7.",
        "13-20.",
        "13-8.",
        "14-10.",
        "14-11.",
        "14-14.",
        "14-7.",
        "15-1.",
        "15-20.",
        "16-1.",
        "16-16.",
        "17-10.",
        "17-11.",
        "17-2.",
        "19-1.",
        "19-16.",
        "19-19.",
        "19-20.",
        "19-3.",
        "2-10.",
        "2-11.",
        "2-17.",
        "2-18.",
        "2-20.",
        "2-3.",
        "2-4.",
        "2-5.",
        "2-6.",
        "2-7.",
        "2-8.",
        "3-13.",
        "3-18.",
        "3-3.",
        "4-1.",
        "4-10.",
        "4-11.",
        "4-19.",
        "5-5.",
        "6-15.",
        "7-10.",
        "7-14.",
        "8-18.",
        "8-20.",
        "8-3.",
        "8-8."
       ],
       "num_examples_per_domain_per_label": -1,
       "pickle_path": "/root/csc500-main/datasets/cores.stratified_ds.2022A.pkl",
       "source_or_target_dataset": "source",
       "x_transforms": [
        "jitter_256_10",
        "lowpass_+/-10MHz",
        "take_200"
       ]
      },
      {
       "domain_prefix": "O_",
       "domains": [
        32,
        38,
        8,
        44,
        14,
        50,
        20,
        26
       ],
       "episode_transforms": [],
       "labels": [
        "3123D52",
        "3123D65",
        "3123D79",
        "3123D80",
        "3123D54",
        "3123D70",
        "3123D7B",
        "3123D89",
        "3123D58",
        "3123D76",
        "3123D7D",
        "3123EFE",
        "3123D64",
        "3123D78",
        "3123D7E",
        "3124E4A"
       ],
       "num_examples_per_domain_per_label": 2000,
       "pickle_path": "/root/csc500-main/datasets/oracle.Run1_framed_2000Examples_stratified_ds.2022A.pkl",
       "source_or_target_dataset": "target",
       "x_transforms": [
        "jitter_256_10",
        "take_200",
        "resample_20Msps_to_25Msps"
       ]
      }
     ],
     "device": "cuda",
     "experiment_name": "tl_3-jitter10v2:cores -> oracle.run1.framed",
     "lr": 0.0001,
     "n_epoch": 50,
     "n_query": 2,
     "n_shot": 3,
     "n_way": 16,
     "patience": 3,
     "seed": 500,
     "test_k_factor": 2,
     "torch_default_dtype": "torch.float32",
     "train_k_factor": 3,
     "val_k_factor": 2,
     "x_net": [
      {
       "class": "nnReshape",
       "kargs": {
        "shape": [
         -1,
         1,
         2,
         256
        ]
       }
      },
      {
       "class": "Conv2d",
       "kargs": {
        "bias": false,
        "in_channels": 1,
        "kernel_size": [
         1,
         7
        ],
        "out_channels": 256,
        "padding": [
         0,
         3
        ]
       }
      },
      {
       "class": "ReLU",
       "kargs": {
        "inplace": true
       }
      },
      {
       "class": "BatchNorm2d",
       "kargs": {
        "num_features": 256
       }
      },
      {
       "class": "Conv2d",
       "kargs": {
        "bias": true,
        "in_channels": 256,
        "kernel_size": [
         2,
         7
        ],
        "out_channels": 80,
        "padding": [
         0,
         3
        ]
       }
      },
      {
       "class": "ReLU",
       "kargs": {
        "inplace": true
       }
      },
      {
       "class": "BatchNorm2d",
       "kargs": {
        "num_features": 80
       }
      },
      {
       "class": "Flatten",
       "kargs": {}
      },
      {
       "class": "Linear",
       "kargs": {
        "in_features": 20480,
        "out_features": 256
       }
      },
      {
       "class": "ReLU",
       "kargs": {
        "inplace": true
       }
      },
      {
       "class": "BatchNorm1d",
       "kargs": {
        "num_features": 256
       }
      },
      {
       "class": "Linear",
       "kargs": {
        "in_features": 256,
        "out_features": 256
       }
      }
     ],
     "x_shape": [
      2,
      256
     ]
    }
   },
   "start_time": "2022-03-28T09:11:17.250520",
   "version": "2.3.4"
  }
 },
 "nbformat": 4,
 "nbformat_minor": 5
}