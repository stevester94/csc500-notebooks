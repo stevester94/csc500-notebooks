{
 "cells": [
  {
   "cell_type": "markdown",
   "id": "9fea5f46",
   "metadata": {
    "papermill": {
     "duration": 0.028511,
     "end_time": "2022-03-28T07:41:34.363992",
     "exception": false,
     "start_time": "2022-03-28T07:41:34.335481",
     "status": "completed"
    },
    "tags": []
   },
   "source": [
    "# Transfer Learning Template"
   ]
  },
  {
   "cell_type": "code",
   "execution_count": 1,
   "id": "0902182a",
   "metadata": {
    "execution": {
     "iopub.execute_input": "2022-03-28T07:41:34.425664Z",
     "iopub.status.busy": "2022-03-28T07:41:34.424817Z",
     "iopub.status.idle": "2022-03-28T07:41:36.331462Z",
     "shell.execute_reply": "2022-03-28T07:41:36.331031Z"
    },
    "papermill": {
     "duration": 1.945005,
     "end_time": "2022-03-28T07:41:36.331553",
     "exception": false,
     "start_time": "2022-03-28T07:41:34.386548",
     "status": "completed"
    },
    "tags": []
   },
   "outputs": [],
   "source": [
    "%load_ext autoreload\n",
    "%autoreload 2\n",
    "%matplotlib inline\n",
    "\n",
    "    \n",
    "import os, json, sys, time, random\n",
    "import numpy as np\n",
    "import torch\n",
    "from torch.optim import Adam\n",
    "from  easydict import EasyDict\n",
    "import matplotlib.pyplot as plt\n",
    "\n",
    "from steves_models.steves_ptn import Steves_Prototypical_Network\n",
    "\n",
    "from steves_utils.lazy_iterable_wrapper import Lazy_Iterable_Wrapper\n",
    "from steves_utils.iterable_aggregator import Iterable_Aggregator\n",
    "from steves_utils.ptn_train_eval_test_jig import  PTN_Train_Eval_Test_Jig\n",
    "from steves_utils.torch_sequential_builder import build_sequential\n",
    "from steves_utils.torch_utils import get_dataset_metrics, ptn_confusion_by_domain_over_dataloader\n",
    "from steves_utils.utils_v2 import (per_domain_accuracy_from_confusion, get_datasets_base_path)\n",
    "from steves_utils.PTN.utils import independent_accuracy_assesment\n",
    "\n",
    "from torch.utils.data import DataLoader\n",
    "\n",
    "from steves_utils.stratified_dataset.episodic_accessor import Episodic_Accessor_Factory\n",
    "\n",
    "from steves_utils.ptn_do_report import (\n",
    "    get_loss_curve,\n",
    "    get_results_table,\n",
    "    get_parameters_table,\n",
    "    get_domain_accuracies,\n",
    ")\n",
    "\n",
    "from steves_utils.transforms import get_chained_transform"
   ]
  },
  {
   "cell_type": "markdown",
   "id": "41c840b4",
   "metadata": {
    "papermill": {
     "duration": 0.019601,
     "end_time": "2022-03-28T07:41:36.370993",
     "exception": false,
     "start_time": "2022-03-28T07:41:36.351392",
     "status": "completed"
    },
    "tags": []
   },
   "source": [
    "# Allowed Parameters\n",
    "These are allowed parameters, not defaults\n",
    "Each of these values need to be present in the injected parameters (the notebook will raise an exception if they are not present)\n",
    "\n",
    "Papermill uses the cell tag \"parameters\" to inject the real parameters below this cell.\n",
    "Enable tags to see what I mean"
   ]
  },
  {
   "cell_type": "code",
   "execution_count": 2,
   "id": "fd44eb83",
   "metadata": {
    "execution": {
     "iopub.execute_input": "2022-03-28T07:41:36.415612Z",
     "iopub.status.busy": "2022-03-28T07:41:36.415227Z",
     "iopub.status.idle": "2022-03-28T07:41:36.436238Z",
     "shell.execute_reply": "2022-03-28T07:41:36.435876Z"
    },
    "papermill": {
     "duration": 0.045795,
     "end_time": "2022-03-28T07:41:36.436308",
     "exception": false,
     "start_time": "2022-03-28T07:41:36.390513",
     "status": "completed"
    },
    "tags": []
   },
   "outputs": [],
   "source": [
    "required_parameters = {\n",
    "    \"experiment_name\",\n",
    "    \"lr\",\n",
    "    \"device\",\n",
    "    \"seed\",\n",
    "    \"dataset_seed\",\n",
    "    \"n_shot\",\n",
    "    \"n_query\",\n",
    "    \"n_way\",\n",
    "    \"train_k_factor\",\n",
    "    \"val_k_factor\",\n",
    "    \"test_k_factor\",\n",
    "    \"n_epoch\",\n",
    "    \"patience\",\n",
    "    \"criteria_for_best\",\n",
    "    \"x_net\",\n",
    "    \"datasets\",\n",
    "    \"torch_default_dtype\",\n",
    "    \"NUM_LOGS_PER_EPOCH\",\n",
    "    \"BEST_MODEL_PATH\",\n",
    "    \"x_shape\",\n",
    "}"
   ]
  },
  {
   "cell_type": "code",
   "execution_count": 3,
   "id": "fa3f0049",
   "metadata": {
    "execution": {
     "iopub.execute_input": "2022-03-28T07:41:36.491624Z",
     "iopub.status.busy": "2022-03-28T07:41:36.491207Z",
     "iopub.status.idle": "2022-03-28T07:41:36.510263Z",
     "shell.execute_reply": "2022-03-28T07:41:36.509899Z"
    },
    "papermill": {
     "duration": 0.053601,
     "end_time": "2022-03-28T07:41:36.510333",
     "exception": false,
     "start_time": "2022-03-28T07:41:36.456732",
     "status": "completed"
    },
    "tags": [
     "parameters"
    ]
   },
   "outputs": [],
   "source": [
    "from steves_utils.CORES.utils import (\n",
    "    ALL_NODES,\n",
    "    ALL_NODES_MINIMUM_1000_EXAMPLES,\n",
    "    ALL_DAYS\n",
    ")\n",
    "\n",
    "from steves_utils.ORACLE.utils_v2 import (\n",
    "    ALL_DISTANCES_FEET_NARROWED,\n",
    "    ALL_RUNS,\n",
    "    ALL_SERIAL_NUMBERS,\n",
    ")\n",
    "\n",
    "standalone_parameters = {}\n",
    "standalone_parameters[\"experiment_name\"] = \"STANDALONE PTN\"\n",
    "standalone_parameters[\"lr\"] = 0.001\n",
    "standalone_parameters[\"device\"] = \"cuda\"\n",
    "\n",
    "standalone_parameters[\"seed\"] = 1337\n",
    "standalone_parameters[\"dataset_seed\"] = 1337\n",
    "\n",
    "standalone_parameters[\"n_way\"] = 8\n",
    "standalone_parameters[\"n_shot\"] = 3\n",
    "standalone_parameters[\"n_query\"]  = 2\n",
    "standalone_parameters[\"train_k_factor\"] = 1\n",
    "standalone_parameters[\"val_k_factor\"] = 2\n",
    "standalone_parameters[\"test_k_factor\"] = 2\n",
    "\n",
    "\n",
    "standalone_parameters[\"n_epoch\"] = 50\n",
    "\n",
    "standalone_parameters[\"patience\"] = 10\n",
    "standalone_parameters[\"criteria_for_best\"] = \"source_loss\"\n",
    "\n",
    "standalone_parameters[\"datasets\"] = [\n",
    "    {\n",
    "        \"labels\": ALL_SERIAL_NUMBERS,\n",
    "        \"domains\": ALL_DISTANCES_FEET_NARROWED,\n",
    "        \"num_examples_per_domain_per_label\": 100,\n",
    "        \"pickle_path\": os.path.join(get_datasets_base_path(), \"oracle.Run1_framed_2000Examples_stratified_ds.2022A.pkl\"),\n",
    "        \"source_or_target_dataset\": \"source\",\n",
    "        \"x_transforms\": [\"unit_mag\", \"minus_two\"],\n",
    "        \"episode_transforms\": [],\n",
    "        \"domain_prefix\": \"ORACLE_\"\n",
    "    },\n",
    "    {\n",
    "        \"labels\": ALL_NODES,\n",
    "        \"domains\": ALL_DAYS,\n",
    "        \"num_examples_per_domain_per_label\": 100,\n",
    "        \"pickle_path\": os.path.join(get_datasets_base_path(), \"cores.stratified_ds.2022A.pkl\"),\n",
    "        \"source_or_target_dataset\": \"target\",\n",
    "        \"x_transforms\": [\"unit_power\", \"times_zero\"],\n",
    "        \"episode_transforms\": [],\n",
    "        \"domain_prefix\": \"CORES_\"\n",
    "    }   \n",
    "]\n",
    "\n",
    "standalone_parameters[\"torch_default_dtype\"] = \"torch.float32\" \n",
    "\n",
    "\n",
    "\n",
    "standalone_parameters[\"x_net\"] =     [\n",
    "    {\"class\": \"nnReshape\", \"kargs\": {\"shape\":[-1, 1, 2, 256]}},\n",
    "    {\"class\": \"Conv2d\", \"kargs\": { \"in_channels\":1, \"out_channels\":256, \"kernel_size\":(1,7), \"bias\":False, \"padding\":(0,3), },},\n",
    "    {\"class\": \"ReLU\", \"kargs\": {\"inplace\": True}},\n",
    "    {\"class\": \"BatchNorm2d\", \"kargs\": {\"num_features\":256}},\n",
    "\n",
    "    {\"class\": \"Conv2d\", \"kargs\": { \"in_channels\":256, \"out_channels\":80, \"kernel_size\":(2,7), \"bias\":True, \"padding\":(0,3), },},\n",
    "    {\"class\": \"ReLU\", \"kargs\": {\"inplace\": True}},\n",
    "    {\"class\": \"BatchNorm2d\", \"kargs\": {\"num_features\":80}},\n",
    "    {\"class\": \"Flatten\", \"kargs\": {}},\n",
    "\n",
    "    {\"class\": \"Linear\", \"kargs\": {\"in_features\": 80*256, \"out_features\": 256}}, # 80 units per IQ pair\n",
    "    {\"class\": \"ReLU\", \"kargs\": {\"inplace\": True}},\n",
    "    {\"class\": \"BatchNorm1d\", \"kargs\": {\"num_features\":256}},\n",
    "\n",
    "    {\"class\": \"Linear\", \"kargs\": {\"in_features\": 256, \"out_features\": 256}},\n",
    "]\n",
    "\n",
    "# Parameters relevant to results\n",
    "# These parameters will basically never need to change\n",
    "standalone_parameters[\"NUM_LOGS_PER_EPOCH\"] = 10\n",
    "standalone_parameters[\"BEST_MODEL_PATH\"] = \"./best_model.pth\"\n",
    "\n",
    "\n",
    "\n",
    "\n"
   ]
  },
  {
   "cell_type": "code",
   "execution_count": 4,
   "id": "703926e0",
   "metadata": {
    "execution": {
     "iopub.execute_input": "2022-03-28T07:41:36.565639Z",
     "iopub.status.busy": "2022-03-28T07:41:36.565209Z",
     "iopub.status.idle": "2022-03-28T07:41:36.586514Z",
     "shell.execute_reply": "2022-03-28T07:41:36.586154Z"
    },
    "papermill": {
     "duration": 0.056511,
     "end_time": "2022-03-28T07:41:36.586583",
     "exception": false,
     "start_time": "2022-03-28T07:41:36.530072",
     "status": "completed"
    },
    "tags": [
     "injected-parameters"
    ]
   },
   "outputs": [],
   "source": [
    "# Parameters\n",
    "parameters = {\n",
    "    \"experiment_name\": \"tl_3-jitter10v2:cores -> oracle.run1.framed\",\n",
    "    \"device\": \"cuda\",\n",
    "    \"lr\": 0.0001,\n",
    "    \"x_shape\": [2, 256],\n",
    "    \"n_shot\": 3,\n",
    "    \"n_query\": 2,\n",
    "    \"train_k_factor\": 3,\n",
    "    \"val_k_factor\": 2,\n",
    "    \"test_k_factor\": 2,\n",
    "    \"torch_default_dtype\": \"torch.float32\",\n",
    "    \"n_epoch\": 50,\n",
    "    \"patience\": 3,\n",
    "    \"criteria_for_best\": \"target_accuracy\",\n",
    "    \"x_net\": [\n",
    "        {\"class\": \"nnReshape\", \"kargs\": {\"shape\": [-1, 1, 2, 256]}},\n",
    "        {\n",
    "            \"class\": \"Conv2d\",\n",
    "            \"kargs\": {\n",
    "                \"in_channels\": 1,\n",
    "                \"out_channels\": 256,\n",
    "                \"kernel_size\": [1, 7],\n",
    "                \"bias\": False,\n",
    "                \"padding\": [0, 3],\n",
    "            },\n",
    "        },\n",
    "        {\"class\": \"ReLU\", \"kargs\": {\"inplace\": True}},\n",
    "        {\"class\": \"BatchNorm2d\", \"kargs\": {\"num_features\": 256}},\n",
    "        {\n",
    "            \"class\": \"Conv2d\",\n",
    "            \"kargs\": {\n",
    "                \"in_channels\": 256,\n",
    "                \"out_channels\": 80,\n",
    "                \"kernel_size\": [2, 7],\n",
    "                \"bias\": True,\n",
    "                \"padding\": [0, 3],\n",
    "            },\n",
    "        },\n",
    "        {\"class\": \"ReLU\", \"kargs\": {\"inplace\": True}},\n",
    "        {\"class\": \"BatchNorm2d\", \"kargs\": {\"num_features\": 80}},\n",
    "        {\"class\": \"Flatten\", \"kargs\": {}},\n",
    "        {\"class\": \"Linear\", \"kargs\": {\"in_features\": 20480, \"out_features\": 256}},\n",
    "        {\"class\": \"ReLU\", \"kargs\": {\"inplace\": True}},\n",
    "        {\"class\": \"BatchNorm1d\", \"kargs\": {\"num_features\": 256}},\n",
    "        {\"class\": \"Linear\", \"kargs\": {\"in_features\": 256, \"out_features\": 256}},\n",
    "    ],\n",
    "    \"NUM_LOGS_PER_EPOCH\": 10,\n",
    "    \"BEST_MODEL_PATH\": \"./best_model.pth\",\n",
    "    \"n_way\": 16,\n",
    "    \"datasets\": [\n",
    "        {\n",
    "            \"labels\": [\n",
    "                \"1-10.\",\n",
    "                \"1-11.\",\n",
    "                \"1-15.\",\n",
    "                \"1-16.\",\n",
    "                \"1-17.\",\n",
    "                \"1-18.\",\n",
    "                \"1-19.\",\n",
    "                \"10-4.\",\n",
    "                \"10-7.\",\n",
    "                \"11-1.\",\n",
    "                \"11-14.\",\n",
    "                \"11-17.\",\n",
    "                \"11-20.\",\n",
    "                \"11-7.\",\n",
    "                \"13-20.\",\n",
    "                \"13-8.\",\n",
    "                \"14-10.\",\n",
    "                \"14-11.\",\n",
    "                \"14-14.\",\n",
    "                \"14-7.\",\n",
    "                \"15-1.\",\n",
    "                \"15-20.\",\n",
    "                \"16-1.\",\n",
    "                \"16-16.\",\n",
    "                \"17-10.\",\n",
    "                \"17-11.\",\n",
    "                \"17-2.\",\n",
    "                \"19-1.\",\n",
    "                \"19-16.\",\n",
    "                \"19-19.\",\n",
    "                \"19-20.\",\n",
    "                \"19-3.\",\n",
    "                \"2-10.\",\n",
    "                \"2-11.\",\n",
    "                \"2-17.\",\n",
    "                \"2-18.\",\n",
    "                \"2-20.\",\n",
    "                \"2-3.\",\n",
    "                \"2-4.\",\n",
    "                \"2-5.\",\n",
    "                \"2-6.\",\n",
    "                \"2-7.\",\n",
    "                \"2-8.\",\n",
    "                \"3-13.\",\n",
    "                \"3-18.\",\n",
    "                \"3-3.\",\n",
    "                \"4-1.\",\n",
    "                \"4-10.\",\n",
    "                \"4-11.\",\n",
    "                \"4-19.\",\n",
    "                \"5-5.\",\n",
    "                \"6-15.\",\n",
    "                \"7-10.\",\n",
    "                \"7-14.\",\n",
    "                \"8-18.\",\n",
    "                \"8-20.\",\n",
    "                \"8-3.\",\n",
    "                \"8-8.\",\n",
    "            ],\n",
    "            \"domains\": [1, 2, 3, 4, 5],\n",
    "            \"num_examples_per_domain_per_label\": -1,\n",
    "            \"pickle_path\": \"/root/csc500-main/datasets/cores.stratified_ds.2022A.pkl\",\n",
    "            \"source_or_target_dataset\": \"source\",\n",
    "            \"x_transforms\": [\n",
    "                \"unit_mag\",\n",
    "                \"jitter_256_10\",\n",
    "                \"lowpass_+/-10MHz\",\n",
    "                \"take_200\",\n",
    "            ],\n",
    "            \"episode_transforms\": [],\n",
    "            \"domain_prefix\": \"C_\",\n",
    "        },\n",
    "        {\n",
    "            \"labels\": [\n",
    "                \"3123D52\",\n",
    "                \"3123D65\",\n",
    "                \"3123D79\",\n",
    "                \"3123D80\",\n",
    "                \"3123D54\",\n",
    "                \"3123D70\",\n",
    "                \"3123D7B\",\n",
    "                \"3123D89\",\n",
    "                \"3123D58\",\n",
    "                \"3123D76\",\n",
    "                \"3123D7D\",\n",
    "                \"3123EFE\",\n",
    "                \"3123D64\",\n",
    "                \"3123D78\",\n",
    "                \"3123D7E\",\n",
    "                \"3124E4A\",\n",
    "            ],\n",
    "            \"domains\": [32, 38, 8, 44, 14, 50, 20, 26],\n",
    "            \"num_examples_per_domain_per_label\": 2000,\n",
    "            \"pickle_path\": \"/root/csc500-main/datasets/oracle.Run1_framed_2000Examples_stratified_ds.2022A.pkl\",\n",
    "            \"source_or_target_dataset\": \"target\",\n",
    "            \"x_transforms\": [\n",
    "                \"unit_mag\",\n",
    "                \"jitter_256_10\",\n",
    "                \"take_200\",\n",
    "                \"resample_20Msps_to_25Msps\",\n",
    "            ],\n",
    "            \"episode_transforms\": [],\n",
    "            \"domain_prefix\": \"O_\",\n",
    "        },\n",
    "    ],\n",
    "    \"seed\": 154325,\n",
    "    \"dataset_seed\": 154325,\n",
    "}\n"
   ]
  },
  {
   "cell_type": "code",
   "execution_count": 5,
   "id": "8fa1cc33",
   "metadata": {
    "execution": {
     "iopub.execute_input": "2022-03-28T07:41:36.634787Z",
     "iopub.status.busy": "2022-03-28T07:41:36.634418Z",
     "iopub.status.idle": "2022-03-28T07:41:36.654112Z",
     "shell.execute_reply": "2022-03-28T07:41:36.653753Z"
    },
    "papermill": {
     "duration": 0.047166,
     "end_time": "2022-03-28T07:41:36.654182",
     "exception": false,
     "start_time": "2022-03-28T07:41:36.607016",
     "status": "completed"
    },
    "tags": []
   },
   "outputs": [],
   "source": [
    "# Set this to True if you want to run this template directly\n",
    "STANDALONE = False\n",
    "if STANDALONE:\n",
    "    print(\"parameters not injected, running with standalone_parameters\")\n",
    "    parameters = standalone_parameters\n",
    "\n",
    "if not 'parameters' in locals() and not 'parameters' in globals():\n",
    "    raise Exception(\"Parameter injection failed\")\n",
    "\n",
    "#Use an easy dict for all the parameters\n",
    "p = EasyDict(parameters)\n",
    "\n",
    "if \"x_shape\" not in p:\n",
    "    p.x_shape = [2,256] # Default to this if we dont supply x_shape\n",
    "\n",
    "\n",
    "supplied_keys = set(p.keys())\n",
    "\n",
    "if  supplied_keys != required_parameters:\n",
    "    print(\"Parameters are incorrect\")\n",
    "    if len(supplied_keys - required_parameters)>0: print(\"Shouldn't have:\", str(supplied_keys - required_parameters))\n",
    "    if len(required_parameters - supplied_keys)>0: print(\"Need to have:\", str(required_parameters - supplied_keys))\n",
    "    raise RuntimeError(\"Parameters are incorrect\")"
   ]
  },
  {
   "cell_type": "code",
   "execution_count": 6,
   "id": "3a028d58",
   "metadata": {
    "execution": {
     "iopub.execute_input": "2022-03-28T07:41:36.704964Z",
     "iopub.status.busy": "2022-03-28T07:41:36.704600Z",
     "iopub.status.idle": "2022-03-28T07:41:36.718070Z",
     "shell.execute_reply": "2022-03-28T07:41:36.717712Z"
    },
    "papermill": {
     "duration": 0.043711,
     "end_time": "2022-03-28T07:41:36.718139",
     "exception": false,
     "start_time": "2022-03-28T07:41:36.674428",
     "status": "completed"
    },
    "tags": []
   },
   "outputs": [],
   "source": [
    "###################################\n",
    "# Set the RNGs and make it all deterministic\n",
    "###################################\n",
    "np.random.seed(p.seed)\n",
    "random.seed(p.seed)\n",
    "torch.manual_seed(p.seed)\n",
    "\n",
    "torch.use_deterministic_algorithms(True) "
   ]
  },
  {
   "cell_type": "code",
   "execution_count": 7,
   "id": "b691acf6",
   "metadata": {
    "execution": {
     "iopub.execute_input": "2022-03-28T07:41:36.762818Z",
     "iopub.status.busy": "2022-03-28T07:41:36.762454Z",
     "iopub.status.idle": "2022-03-28T07:41:36.784109Z",
     "shell.execute_reply": "2022-03-28T07:41:36.783745Z"
    },
    "papermill": {
     "duration": 0.045401,
     "end_time": "2022-03-28T07:41:36.784178",
     "exception": false,
     "start_time": "2022-03-28T07:41:36.738777",
     "status": "completed"
    },
    "tags": []
   },
   "outputs": [],
   "source": [
    "###########################################\n",
    "# The stratified datasets honor this\n",
    "###########################################\n",
    "torch.set_default_dtype(eval(p.torch_default_dtype))"
   ]
  },
  {
   "cell_type": "code",
   "execution_count": 8,
   "id": "b5fba671",
   "metadata": {
    "execution": {
     "iopub.execute_input": "2022-03-28T07:41:36.828330Z",
     "iopub.status.busy": "2022-03-28T07:41:36.827927Z",
     "iopub.status.idle": "2022-03-28T07:41:36.878217Z",
     "shell.execute_reply": "2022-03-28T07:41:36.877904Z"
    },
    "papermill": {
     "duration": 0.073486,
     "end_time": "2022-03-28T07:41:36.878286",
     "exception": false,
     "start_time": "2022-03-28T07:41:36.804800",
     "status": "completed"
    },
    "tags": []
   },
   "outputs": [],
   "source": [
    "###################################\n",
    "# Build the network(s)\n",
    "# Note: It's critical to do this AFTER setting the RNG\n",
    "###################################\n",
    "x_net = build_sequential(p.x_net)"
   ]
  },
  {
   "cell_type": "code",
   "execution_count": 9,
   "id": "5d7e61cc",
   "metadata": {
    "execution": {
     "iopub.execute_input": "2022-03-28T07:41:36.923984Z",
     "iopub.status.busy": "2022-03-28T07:41:36.923613Z",
     "iopub.status.idle": "2022-03-28T07:41:36.949461Z",
     "shell.execute_reply": "2022-03-28T07:41:36.949098Z"
    },
    "papermill": {
     "duration": 0.05054,
     "end_time": "2022-03-28T07:41:36.949529",
     "exception": false,
     "start_time": "2022-03-28T07:41:36.898989",
     "status": "completed"
    },
    "tags": []
   },
   "outputs": [],
   "source": [
    "start_time_secs = time.time()"
   ]
  },
  {
   "cell_type": "code",
   "execution_count": 10,
   "id": "c6b67dfd",
   "metadata": {
    "execution": {
     "iopub.execute_input": "2022-03-28T07:41:37.002395Z",
     "iopub.status.busy": "2022-03-28T07:41:37.000752Z",
     "iopub.status.idle": "2022-03-28T07:41:37.014351Z",
     "shell.execute_reply": "2022-03-28T07:41:37.013984Z"
    },
    "papermill": {
     "duration": 0.044266,
     "end_time": "2022-03-28T07:41:37.014420",
     "exception": false,
     "start_time": "2022-03-28T07:41:36.970154",
     "status": "completed"
    },
    "tags": []
   },
   "outputs": [],
   "source": [
    "p.domains_source = []\n",
    "p.domains_target = []\n",
    "\n",
    "\n",
    "train_original_source = []\n",
    "val_original_source   = []\n",
    "test_original_source  = []\n",
    "\n",
    "train_original_target = []\n",
    "val_original_target   = []\n",
    "test_original_target  = []"
   ]
  },
  {
   "cell_type": "code",
   "execution_count": 11,
   "id": "e3d9c3d3",
   "metadata": {
    "execution": {
     "iopub.execute_input": "2022-03-28T07:41:37.058657Z",
     "iopub.status.busy": "2022-03-28T07:41:37.058295Z",
     "iopub.status.idle": "2022-03-28T07:41:37.074476Z",
     "shell.execute_reply": "2022-03-28T07:41:37.074162Z"
    },
    "papermill": {
     "duration": 0.039357,
     "end_time": "2022-03-28T07:41:37.074545",
     "exception": false,
     "start_time": "2022-03-28T07:41:37.035188",
     "status": "completed"
    },
    "tags": []
   },
   "outputs": [],
   "source": [
    "# global_x_transform_func = lambda x: normalize(x.to(torch.get_default_dtype()), \"unit_power\") # unit_power, unit_mag\n",
    "# global_x_transform_func = lambda x: normalize(x, \"unit_power\") # unit_power, unit_mag"
   ]
  },
  {
   "cell_type": "code",
   "execution_count": 12,
   "id": "acb78fd2",
   "metadata": {
    "execution": {
     "iopub.execute_input": "2022-03-28T07:41:37.128744Z",
     "iopub.status.busy": "2022-03-28T07:41:37.122961Z",
     "iopub.status.idle": "2022-03-28T07:41:37.144391Z",
     "shell.execute_reply": "2022-03-28T07:41:37.143867Z"
    },
    "papermill": {
     "duration": 0.049249,
     "end_time": "2022-03-28T07:41:37.144461",
     "exception": false,
     "start_time": "2022-03-28T07:41:37.095212",
     "status": "completed"
    },
    "tags": []
   },
   "outputs": [],
   "source": [
    "def add_dataset(\n",
    "    labels,\n",
    "    domains,\n",
    "    pickle_path,\n",
    "    x_transforms,\n",
    "    episode_transforms,\n",
    "    domain_prefix,\n",
    "    num_examples_per_domain_per_label,\n",
    "    source_or_target_dataset:str,\n",
    "    iterator_seed=p.seed,\n",
    "    dataset_seed=p.dataset_seed,\n",
    "    n_shot=p.n_shot,\n",
    "    n_way=p.n_way,\n",
    "    n_query=p.n_query,\n",
    "    train_val_test_k_factors=(p.train_k_factor,p.val_k_factor,p.test_k_factor),\n",
    "):\n",
    "   \n",
    "    if x_transforms == []: x_transform = None\n",
    "    else: x_transform = get_chained_transform(x_transforms)\n",
    "    \n",
    "    if episode_transforms == []: episode_transform = None\n",
    "    else: raise Exception(\"episode_transforms not implemented\")\n",
    "    \n",
    "    episode_transform = lambda tup, _prefix=domain_prefix: (_prefix + str(tup[0]), tup[1])\n",
    "\n",
    "\n",
    "    eaf = Episodic_Accessor_Factory(\n",
    "        labels=labels,\n",
    "        domains=domains,\n",
    "        num_examples_per_domain_per_label=num_examples_per_domain_per_label,\n",
    "        iterator_seed=iterator_seed,\n",
    "        dataset_seed=dataset_seed,\n",
    "        n_shot=n_shot,\n",
    "        n_way=n_way,\n",
    "        n_query=n_query,\n",
    "        train_val_test_k_factors=train_val_test_k_factors,\n",
    "        pickle_path=pickle_path,\n",
    "        x_transform_func=x_transform,\n",
    "    )\n",
    "\n",
    "    train, val, test = eaf.get_train(), eaf.get_val(), eaf.get_test()\n",
    "    train = Lazy_Iterable_Wrapper(train, episode_transform)\n",
    "    val = Lazy_Iterable_Wrapper(val, episode_transform)\n",
    "    test = Lazy_Iterable_Wrapper(test, episode_transform)\n",
    "\n",
    "    if source_or_target_dataset==\"source\":\n",
    "        train_original_source.append(train)\n",
    "        val_original_source.append(val)\n",
    "        test_original_source.append(test)\n",
    "\n",
    "        p.domains_source.extend(\n",
    "            [domain_prefix + str(u) for u in domains]\n",
    "        )\n",
    "    elif source_or_target_dataset==\"target\":\n",
    "        train_original_target.append(train)\n",
    "        val_original_target.append(val)\n",
    "        test_original_target.append(test)\n",
    "        p.domains_target.extend(\n",
    "            [domain_prefix + str(u) for u in domains]\n",
    "        )\n",
    "    else:\n",
    "        raise Exception(f\"invalid source_or_target_dataset: {source_or_target_dataset}\")\n",
    "    "
   ]
  },
  {
   "cell_type": "code",
   "execution_count": 13,
   "id": "fe266617",
   "metadata": {
    "execution": {
     "iopub.execute_input": "2022-03-28T07:41:37.189053Z",
     "iopub.status.busy": "2022-03-28T07:41:37.188691Z",
     "iopub.status.idle": "2022-03-28T07:43:27.843779Z",
     "shell.execute_reply": "2022-03-28T07:43:27.842962Z"
    },
    "papermill": {
     "duration": 110.678527,
     "end_time": "2022-03-28T07:43:27.843968",
     "exception": false,
     "start_time": "2022-03-28T07:41:37.165441",
     "status": "completed"
    },
    "tags": []
   },
   "outputs": [],
   "source": [
    "for ds in p.datasets:\n",
    "    add_dataset(**ds)"
   ]
  },
  {
   "cell_type": "code",
   "execution_count": 14,
   "id": "b90d65ac",
   "metadata": {
    "execution": {
     "iopub.execute_input": "2022-03-28T07:43:27.894827Z",
     "iopub.status.busy": "2022-03-28T07:43:27.894451Z",
     "iopub.status.idle": "2022-03-28T07:43:27.917105Z",
     "shell.execute_reply": "2022-03-28T07:43:27.916291Z"
    },
    "papermill": {
     "duration": 0.046853,
     "end_time": "2022-03-28T07:43:27.917262",
     "exception": false,
     "start_time": "2022-03-28T07:43:27.870409",
     "status": "completed"
    },
    "tags": []
   },
   "outputs": [],
   "source": [
    "# from steves_utils.CORES.utils import (\n",
    "#     ALL_NODES,\n",
    "#     ALL_NODES_MINIMUM_1000_EXAMPLES,\n",
    "#     ALL_DAYS\n",
    "# )\n",
    "\n",
    "# add_dataset(\n",
    "#     labels=ALL_NODES,\n",
    "#     domains = ALL_DAYS,\n",
    "#     num_examples_per_domain_per_label=100,\n",
    "#     pickle_path=os.path.join(get_datasets_base_path(), \"cores.stratified_ds.2022A.pkl\"),\n",
    "#     source_or_target_dataset=\"target\",\n",
    "#     x_transform_func=global_x_transform_func,\n",
    "#     domain_modifier=lambda u: f\"cores_{u}\"\n",
    "# )"
   ]
  },
  {
   "cell_type": "code",
   "execution_count": 15,
   "id": "76db484d",
   "metadata": {
    "execution": {
     "iopub.execute_input": "2022-03-28T07:43:27.970262Z",
     "iopub.status.busy": "2022-03-28T07:43:27.969892Z",
     "iopub.status.idle": "2022-03-28T07:43:27.987414Z",
     "shell.execute_reply": "2022-03-28T07:43:27.986705Z"
    },
    "papermill": {
     "duration": 0.041054,
     "end_time": "2022-03-28T07:43:27.987602",
     "exception": false,
     "start_time": "2022-03-28T07:43:27.946548",
     "status": "completed"
    },
    "tags": []
   },
   "outputs": [],
   "source": [
    "# from steves_utils.ORACLE.utils_v2 import (\n",
    "#     ALL_DISTANCES_FEET,\n",
    "#     ALL_RUNS,\n",
    "#     ALL_SERIAL_NUMBERS,\n",
    "# )\n",
    "\n",
    "\n",
    "# add_dataset(\n",
    "#     labels=ALL_SERIAL_NUMBERS,\n",
    "#     domains = list(set(ALL_DISTANCES_FEET) - {2,62}),\n",
    "#     num_examples_per_domain_per_label=100,\n",
    "#     pickle_path=os.path.join(get_datasets_base_path(), \"oracle.Run2_framed_2000Examples_stratified_ds.2022A.pkl\"),\n",
    "#     source_or_target_dataset=\"source\",\n",
    "#     x_transform_func=global_x_transform_func,\n",
    "#     domain_modifier=lambda u: f\"oracle1_{u}\"\n",
    "# )\n"
   ]
  },
  {
   "cell_type": "code",
   "execution_count": 16,
   "id": "97dea9d2",
   "metadata": {
    "execution": {
     "iopub.execute_input": "2022-03-28T07:43:28.058333Z",
     "iopub.status.busy": "2022-03-28T07:43:28.057504Z",
     "iopub.status.idle": "2022-03-28T07:43:28.063599Z",
     "shell.execute_reply": "2022-03-28T07:43:28.062863Z"
    },
    "papermill": {
     "duration": 0.046225,
     "end_time": "2022-03-28T07:43:28.063758",
     "exception": false,
     "start_time": "2022-03-28T07:43:28.017533",
     "status": "completed"
    },
    "tags": []
   },
   "outputs": [],
   "source": [
    "# from steves_utils.ORACLE.utils_v2 import (\n",
    "#     ALL_DISTANCES_FEET,\n",
    "#     ALL_RUNS,\n",
    "#     ALL_SERIAL_NUMBERS,\n",
    "# )\n",
    "\n",
    "\n",
    "# add_dataset(\n",
    "#     labels=ALL_SERIAL_NUMBERS,\n",
    "#     domains = list(set(ALL_DISTANCES_FEET) - {2,62,56}),\n",
    "#     num_examples_per_domain_per_label=100,\n",
    "#     pickle_path=os.path.join(get_datasets_base_path(), \"oracle.Run2_framed_2000Examples_stratified_ds.2022A.pkl\"),\n",
    "#     source_or_target_dataset=\"source\",\n",
    "#     x_transform_func=global_x_transform_func,\n",
    "#     domain_modifier=lambda u: f\"oracle2_{u}\"\n",
    "# )"
   ]
  },
  {
   "cell_type": "code",
   "execution_count": 17,
   "id": "6f289866",
   "metadata": {
    "execution": {
     "iopub.execute_input": "2022-03-28T07:43:28.114431Z",
     "iopub.status.busy": "2022-03-28T07:43:28.113485Z",
     "iopub.status.idle": "2022-03-28T07:43:28.133096Z",
     "shell.execute_reply": "2022-03-28T07:43:28.132284Z"
    },
    "papermill": {
     "duration": 0.043705,
     "end_time": "2022-03-28T07:43:28.133250",
     "exception": false,
     "start_time": "2022-03-28T07:43:28.089545",
     "status": "completed"
    },
    "tags": []
   },
   "outputs": [],
   "source": [
    "# add_dataset(\n",
    "#     labels=list(range(19)),\n",
    "#     domains = [0,1,2],\n",
    "#     num_examples_per_domain_per_label=100,\n",
    "#     pickle_path=os.path.join(get_datasets_base_path(), \"metehan.stratified_ds.2022A.pkl\"),\n",
    "#     source_or_target_dataset=\"target\",\n",
    "#     x_transform_func=global_x_transform_func,\n",
    "#     domain_modifier=lambda u: f\"met_{u}\"\n",
    "# )"
   ]
  },
  {
   "cell_type": "code",
   "execution_count": 18,
   "id": "86a863c3",
   "metadata": {
    "execution": {
     "iopub.execute_input": "2022-03-28T07:43:28.182397Z",
     "iopub.status.busy": "2022-03-28T07:43:28.182026Z",
     "iopub.status.idle": "2022-03-28T07:43:28.198893Z",
     "shell.execute_reply": "2022-03-28T07:43:28.198086Z"
    },
    "papermill": {
     "duration": 0.04049,
     "end_time": "2022-03-28T07:43:28.199047",
     "exception": false,
     "start_time": "2022-03-28T07:43:28.158557",
     "status": "completed"
    },
    "tags": []
   },
   "outputs": [],
   "source": [
    "# # from steves_utils.wisig.utils import (\n",
    "# #     ALL_NODES_MINIMUM_100_EXAMPLES,\n",
    "# #     ALL_NODES_MINIMUM_500_EXAMPLES,\n",
    "# #     ALL_NODES_MINIMUM_1000_EXAMPLES,\n",
    "# #     ALL_DAYS\n",
    "# # )\n",
    "\n",
    "# import steves_utils.wisig.utils as wisig\n",
    "\n",
    "\n",
    "# add_dataset(\n",
    "#     labels=wisig.ALL_NODES_MINIMUM_100_EXAMPLES,\n",
    "#     domains = wisig.ALL_DAYS,\n",
    "#     num_examples_per_domain_per_label=100,\n",
    "#     pickle_path=os.path.join(get_datasets_base_path(), \"wisig.node3-19.stratified_ds.2022A.pkl\"),\n",
    "#     source_or_target_dataset=\"target\",\n",
    "#     x_transform_func=global_x_transform_func,\n",
    "#     domain_modifier=lambda u: f\"wisig_{u}\"\n",
    "# )"
   ]
  },
  {
   "cell_type": "code",
   "execution_count": 19,
   "id": "fd5442bc",
   "metadata": {
    "execution": {
     "iopub.execute_input": "2022-03-28T07:43:28.255035Z",
     "iopub.status.busy": "2022-03-28T07:43:28.254354Z",
     "iopub.status.idle": "2022-03-28T07:43:28.275712Z",
     "shell.execute_reply": "2022-03-28T07:43:28.274880Z"
    },
    "papermill": {
     "duration": 0.048623,
     "end_time": "2022-03-28T07:43:28.275865",
     "exception": false,
     "start_time": "2022-03-28T07:43:28.227242",
     "status": "completed"
    },
    "tags": []
   },
   "outputs": [],
   "source": [
    "###################################\n",
    "# Build the dataset\n",
    "###################################\n",
    "train_original_source = Iterable_Aggregator(train_original_source, p.seed)\n",
    "val_original_source = Iterable_Aggregator(val_original_source, p.seed)\n",
    "test_original_source = Iterable_Aggregator(test_original_source, p.seed)\n",
    "\n",
    "\n",
    "train_original_target = Iterable_Aggregator(train_original_target, p.seed)\n",
    "val_original_target = Iterable_Aggregator(val_original_target, p.seed)\n",
    "test_original_target = Iterable_Aggregator(test_original_target, p.seed)\n",
    "\n",
    "# For CNN We only use X and Y. And we only train on the source.\n",
    "# Properly form the data using a transform lambda and Lazy_Iterable_Wrapper. Finally wrap them in a dataloader\n",
    "\n",
    "transform_lambda = lambda ex: ex[1] # Original is (<domain>, <episode>) so we strip down to episode only\n",
    "\n",
    "train_processed_source = Lazy_Iterable_Wrapper(train_original_source, transform_lambda)\n",
    "val_processed_source   = Lazy_Iterable_Wrapper(val_original_source, transform_lambda)\n",
    "test_processed_source  = Lazy_Iterable_Wrapper(test_original_source, transform_lambda)\n",
    "\n",
    "train_processed_target = Lazy_Iterable_Wrapper(train_original_target, transform_lambda)\n",
    "val_processed_target   = Lazy_Iterable_Wrapper(val_original_target, transform_lambda)\n",
    "test_processed_target  = Lazy_Iterable_Wrapper(test_original_target, transform_lambda)\n",
    "\n",
    "datasets = EasyDict({\n",
    "    \"source\": {\n",
    "        \"original\": {\"train\":train_original_source, \"val\":val_original_source, \"test\":test_original_source},\n",
    "        \"processed\": {\"train\":train_processed_source, \"val\":val_processed_source, \"test\":test_processed_source}\n",
    "    },\n",
    "    \"target\": {\n",
    "        \"original\": {\"train\":train_original_target, \"val\":val_original_target, \"test\":test_original_target},\n",
    "        \"processed\": {\"train\":train_processed_target, \"val\":val_processed_target, \"test\":test_processed_target}\n",
    "    },\n",
    "})"
   ]
  },
  {
   "cell_type": "code",
   "execution_count": 20,
   "id": "5b3c01fc",
   "metadata": {
    "execution": {
     "iopub.execute_input": "2022-03-28T07:43:28.330292Z",
     "iopub.status.busy": "2022-03-28T07:43:28.329725Z",
     "iopub.status.idle": "2022-03-28T07:43:42.512005Z",
     "shell.execute_reply": "2022-03-28T07:43:42.511141Z"
    },
    "papermill": {
     "duration": 14.208321,
     "end_time": "2022-03-28T07:43:42.512179",
     "exception": false,
     "start_time": "2022-03-28T07:43:28.303858",
     "status": "completed"
    },
    "tags": []
   },
   "outputs": [
    {
     "name": "stdout",
     "output_type": "stream",
     "text": [
      "{'C_1', 'C_3', 'C_2', 'C_5', 'C_4'}\n"
     ]
    },
    {
     "name": "stdout",
     "output_type": "stream",
     "text": [
      "{'O_20', 'O_50', 'O_32', 'O_8', 'O_38', 'O_26', 'O_44', 'O_14'}\n"
     ]
    },
    {
     "name": "stdout",
     "output_type": "stream",
     "text": [
      "tensor([[[0., 0., 0.,  ..., 0., 0., 0.],\n",
      "         [0., 0., 0.,  ..., 0., 0., 0.]],\n",
      "\n",
      "        [[0., 0., 0.,  ..., 0., 0., 0.],\n",
      "         [0., 0., 0.,  ..., 0., 0., 0.]],\n",
      "\n",
      "        [[0., 0., 0.,  ..., 0., 0., 0.],\n",
      "         [0., 0., 0.,  ..., 0., 0., 0.]],\n",
      "\n",
      "        ...,\n",
      "\n",
      "        [[0., 0., 0.,  ..., 0., 0., 0.],\n",
      "         [0., 0., 0.,  ..., 0., 0., 0.]],\n",
      "\n",
      "        [[0., 0., 0.,  ..., 0., 0., 0.],\n",
      "         [0., 0., 0.,  ..., 0., 0., 0.]],\n",
      "\n",
      "        [[0., 0., 0.,  ..., 0., 0., 0.],\n",
      "         [0., 0., 0.,  ..., 0., 0., 0.]]])\n"
     ]
    }
   ],
   "source": [
    "from steves_utils.transforms import get_average_magnitude, get_average_power\n",
    "\n",
    "print(set([u for u,_ in val_original_source]))\n",
    "print(set([u for u,_ in val_original_target]))\n",
    "\n",
    "s_x, s_y, q_x, q_y, _ = next(iter(train_processed_source))\n",
    "print(s_x)\n",
    "\n",
    "# for ds in [\n",
    "#     train_processed_source,\n",
    "#     val_processed_source,\n",
    "#     test_processed_source,\n",
    "#     train_processed_target,\n",
    "#     val_processed_target,\n",
    "#     test_processed_target\n",
    "# ]:\n",
    "#     for s_x, s_y, q_x, q_y, _ in ds:\n",
    "#         for X in (s_x, q_x):\n",
    "#             for x in X:\n",
    "#                 assert np.isclose(get_average_magnitude(x.numpy()), 1.0)\n",
    "#                 assert np.isclose(get_average_power(x.numpy()), 1.0)\n",
    "                "
   ]
  },
  {
   "cell_type": "code",
   "execution_count": 21,
   "id": "bbdacba1",
   "metadata": {
    "execution": {
     "iopub.execute_input": "2022-03-28T07:43:42.571494Z",
     "iopub.status.busy": "2022-03-28T07:43:42.570853Z",
     "iopub.status.idle": "2022-03-28T07:43:42.675735Z",
     "shell.execute_reply": "2022-03-28T07:43:42.676413Z"
    },
    "papermill": {
     "duration": 0.134225,
     "end_time": "2022-03-28T07:43:42.676619",
     "exception": false,
     "start_time": "2022-03-28T07:43:42.542394",
     "status": "completed"
    },
    "tags": []
   },
   "outputs": [
    {
     "name": "stdout",
     "output_type": "stream",
     "text": [
      "(2, 256)\n"
     ]
    }
   ],
   "source": [
    "###################################\n",
    "# Build the model\n",
    "###################################\n",
    "# easfsl only wants a tuple for the shape\n",
    "model = Steves_Prototypical_Network(x_net, device=p.device, x_shape=tuple(p.x_shape))\n",
    "optimizer = Adam(params=model.parameters(), lr=p.lr)"
   ]
  },
  {
   "cell_type": "code",
   "execution_count": 22,
   "id": "22b39ac5",
   "metadata": {
    "execution": {
     "iopub.execute_input": "2022-03-28T07:43:42.731911Z",
     "iopub.status.busy": "2022-03-28T07:43:42.731525Z",
     "iopub.status.idle": "2022-03-28T07:56:25.626451Z",
     "shell.execute_reply": "2022-03-28T07:56:25.626111Z"
    },
    "papermill": {
     "duration": 762.921491,
     "end_time": "2022-03-28T07:56:25.626534",
     "exception": false,
     "start_time": "2022-03-28T07:43:42.705043",
     "status": "completed"
    },
    "tags": []
   },
   "outputs": [
    {
     "name": "stdout",
     "output_type": "stream",
     "text": [
      "epoch: 1, [batch: 1 / 6297], examples_per_second: 34.6299, train_label_loss: 2.7759, \n"
     ]
    },
    {
     "name": "stdout",
     "output_type": "stream",
     "text": [
      "epoch: 1, [batch: 630 / 6297], examples_per_second: 3851.6482, train_label_loss: 0.1165, \n"
     ]
    },
    {
     "name": "stdout",
     "output_type": "stream",
     "text": [
      "epoch: 1, [batch: 1260 / 6297], examples_per_second: 4296.9542, train_label_loss: 0.0061, \n"
     ]
    },
    {
     "name": "stdout",
     "output_type": "stream",
     "text": [
      "epoch: 1, [batch: 1889 / 6297], examples_per_second: 4423.1434, train_label_loss: 0.0136, \n"
     ]
    },
    {
     "name": "stdout",
     "output_type": "stream",
     "text": [
      "epoch: 1, [batch: 2519 / 6297], examples_per_second: 3877.1188, train_label_loss: 0.0341, \n"
     ]
    },
    {
     "name": "stdout",
     "output_type": "stream",
     "text": [
      "epoch: 1, [batch: 3149 / 6297], examples_per_second: 3871.4688, train_label_loss: 0.0011, \n"
     ]
    },
    {
     "name": "stdout",
     "output_type": "stream",
     "text": [
      "epoch: 1, [batch: 3778 / 6297], examples_per_second: 3941.2662, train_label_loss: 0.0001, \n"
     ]
    },
    {
     "name": "stdout",
     "output_type": "stream",
     "text": [
      "epoch: 1, [batch: 4408 / 6297], examples_per_second: 3878.9452, train_label_loss: 0.0031, \n"
     ]
    },
    {
     "name": "stdout",
     "output_type": "stream",
     "text": [
      "epoch: 1, [batch: 5037 / 6297], examples_per_second: 3990.4913, train_label_loss: 0.0020, \n"
     ]
    },
    {
     "name": "stdout",
     "output_type": "stream",
     "text": [
      "epoch: 1, [batch: 5667 / 6297], examples_per_second: 3838.4244, train_label_loss: 0.0004, \n"
     ]
    },
    {
     "name": "stdout",
     "output_type": "stream",
     "text": [
      "=============================================================\n",
      "epoch: 1, source_val_acc_label: 0.9946, target_val_acc_label: 0.3423, source_val_label_loss: 0.0251, target_val_label_loss: 1.9275, \n",
      "=============================================================\n"
     ]
    },
    {
     "name": "stdout",
     "output_type": "stream",
     "text": [
      "New best\n"
     ]
    },
    {
     "name": "stdout",
     "output_type": "stream",
     "text": [
      "epoch: 2, [batch: 1 / 6333], examples_per_second: 4.1151, train_label_loss: 0.0011, \n"
     ]
    },
    {
     "name": "stdout",
     "output_type": "stream",
     "text": [
      "epoch: 2, [batch: 634 / 6333], examples_per_second: 3991.8795, train_label_loss: 0.0072, \n"
     ]
    },
    {
     "name": "stdout",
     "output_type": "stream",
     "text": [
      "epoch: 2, [batch: 1267 / 6333], examples_per_second: 4294.6225, train_label_loss: 0.0116, \n"
     ]
    },
    {
     "name": "stdout",
     "output_type": "stream",
     "text": [
      "epoch: 2, [batch: 1900 / 6333], examples_per_second: 4439.7909, train_label_loss: 0.0001, \n"
     ]
    },
    {
     "name": "stdout",
     "output_type": "stream",
     "text": [
      "epoch: 2, [batch: 2533 / 6333], examples_per_second: 3981.1615, train_label_loss: 0.0001, \n"
     ]
    },
    {
     "name": "stdout",
     "output_type": "stream",
     "text": [
      "epoch: 2, [batch: 3167 / 6333], examples_per_second: 3965.9913, train_label_loss: 0.0012, \n"
     ]
    },
    {
     "name": "stdout",
     "output_type": "stream",
     "text": [
      "epoch: 2, [batch: 3800 / 6333], examples_per_second: 4097.9262, train_label_loss: 0.0001, \n"
     ]
    },
    {
     "name": "stdout",
     "output_type": "stream",
     "text": [
      "epoch: 2, [batch: 4433 / 6333], examples_per_second: 3939.6806, train_label_loss: 0.0050, \n"
     ]
    },
    {
     "name": "stdout",
     "output_type": "stream",
     "text": [
      "epoch: 2, [batch: 5066 / 6333], examples_per_second: 4014.9838, train_label_loss: 0.0129, \n"
     ]
    },
    {
     "name": "stdout",
     "output_type": "stream",
     "text": [
      "epoch: 2, [batch: 5699 / 6333], examples_per_second: 4010.9847, train_label_loss: 0.0001, \n"
     ]
    },
    {
     "name": "stdout",
     "output_type": "stream",
     "text": [
      "=============================================================\n",
      "epoch: 2, source_val_acc_label: 0.9965, target_val_acc_label: 0.2861, source_val_label_loss: 0.0167, target_val_label_loss: 2.4342, \n",
      "=============================================================\n"
     ]
    },
    {
     "name": "stdout",
     "output_type": "stream",
     "text": [
      "epoch: 3, [batch: 1 / 6305], examples_per_second: 4.1383, train_label_loss: 0.0829, \n"
     ]
    },
    {
     "name": "stdout",
     "output_type": "stream",
     "text": [
      "epoch: 3, [batch: 631 / 6305], examples_per_second: 3953.3612, train_label_loss: 0.0000, \n"
     ]
    },
    {
     "name": "stdout",
     "output_type": "stream",
     "text": [
      "epoch: 3, [batch: 1261 / 6305], examples_per_second: 4428.7168, train_label_loss: 0.0000, \n"
     ]
    },
    {
     "name": "stdout",
     "output_type": "stream",
     "text": [
      "epoch: 3, [batch: 1892 / 6305], examples_per_second: 4509.3776, train_label_loss: 0.0003, \n"
     ]
    },
    {
     "name": "stdout",
     "output_type": "stream",
     "text": [
      "epoch: 3, [batch: 2522 / 6305], examples_per_second: 4218.9527, train_label_loss: 0.0316, \n"
     ]
    },
    {
     "name": "stdout",
     "output_type": "stream",
     "text": [
      "epoch: 3, [batch: 3153 / 6305], examples_per_second: 3981.8927, train_label_loss: 0.0000, \n"
     ]
    },
    {
     "name": "stdout",
     "output_type": "stream",
     "text": [
      "epoch: 3, [batch: 3783 / 6305], examples_per_second: 3911.3202, train_label_loss: 0.0000, \n"
     ]
    },
    {
     "name": "stdout",
     "output_type": "stream",
     "text": [
      "epoch: 3, [batch: 4413 / 6305], examples_per_second: 3879.5653, train_label_loss: 0.0000, \n"
     ]
    },
    {
     "name": "stdout",
     "output_type": "stream",
     "text": [
      "epoch: 3, [batch: 5044 / 6305], examples_per_second: 3961.6711, train_label_loss: 0.0019, \n"
     ]
    },
    {
     "name": "stdout",
     "output_type": "stream",
     "text": [
      "epoch: 3, [batch: 5674 / 6305], examples_per_second: 3926.5902, train_label_loss: 0.0000, \n"
     ]
    },
    {
     "name": "stdout",
     "output_type": "stream",
     "text": [
      "=============================================================\n",
      "epoch: 3, source_val_acc_label: 0.9987, target_val_acc_label: 0.3389, source_val_label_loss: 0.0085, target_val_label_loss: 1.9976, \n",
      "=============================================================\n"
     ]
    },
    {
     "name": "stdout",
     "output_type": "stream",
     "text": [
      "epoch: 4, [batch: 1 / 6323], examples_per_second: 4.1008, train_label_loss: 0.0006, \n"
     ]
    },
    {
     "name": "stdout",
     "output_type": "stream",
     "text": [
      "epoch: 4, [batch: 633 / 6323], examples_per_second: 3841.8920, train_label_loss: 0.0025, \n"
     ]
    },
    {
     "name": "stdout",
     "output_type": "stream",
     "text": [
      "epoch: 4, [batch: 1265 / 6323], examples_per_second: 4288.0247, train_label_loss: 0.0003, \n"
     ]
    },
    {
     "name": "stdout",
     "output_type": "stream",
     "text": [
      "epoch: 4, [batch: 1897 / 6323], examples_per_second: 4272.2224, train_label_loss: 0.0001, \n"
     ]
    },
    {
     "name": "stdout",
     "output_type": "stream",
     "text": [
      "epoch: 4, [batch: 2529 / 6323], examples_per_second: 4092.8047, train_label_loss: 0.0000, \n"
     ]
    },
    {
     "name": "stdout",
     "output_type": "stream",
     "text": [
      "epoch: 4, [batch: 3162 / 6323], examples_per_second: 3771.2607, train_label_loss: 0.0000, \n"
     ]
    },
    {
     "name": "stdout",
     "output_type": "stream",
     "text": [
      "epoch: 4, [batch: 3794 / 6323], examples_per_second: 3888.5625, train_label_loss: 0.0000, \n"
     ]
    },
    {
     "name": "stdout",
     "output_type": "stream",
     "text": [
      "epoch: 4, [batch: 4426 / 6323], examples_per_second: 3843.9798, train_label_loss: 0.0007, \n"
     ]
    },
    {
     "name": "stdout",
     "output_type": "stream",
     "text": [
      "epoch: 4, [batch: 5058 / 6323], examples_per_second: 3799.4260, train_label_loss: 0.0768, \n"
     ]
    },
    {
     "name": "stdout",
     "output_type": "stream",
     "text": [
      "epoch: 4, [batch: 5690 / 6323], examples_per_second: 3844.2458, train_label_loss: 0.0000, \n"
     ]
    },
    {
     "name": "stdout",
     "output_type": "stream",
     "text": [
      "=============================================================\n",
      "epoch: 4, source_val_acc_label: 0.9986, target_val_acc_label: 0.3327, source_val_label_loss: 0.0080, target_val_label_loss: 2.1036, \n",
      "=============================================================\n"
     ]
    },
    {
     "name": "stdout",
     "output_type": "stream",
     "text": [
      "epoch: 5, [batch: 1 / 6317], examples_per_second: 4.0678, train_label_loss: 0.0000, \n"
     ]
    },
    {
     "name": "stdout",
     "output_type": "stream",
     "text": [
      "epoch: 5, [batch: 632 / 6317], examples_per_second: 3815.4125, train_label_loss: 0.0002, \n"
     ]
    },
    {
     "name": "stdout",
     "output_type": "stream",
     "text": [
      "epoch: 5, [batch: 1264 / 6317], examples_per_second: 4349.6883, train_label_loss: 0.0000, \n"
     ]
    },
    {
     "name": "stdout",
     "output_type": "stream",
     "text": [
      "epoch: 5, [batch: 1895 / 6317], examples_per_second: 4355.7518, train_label_loss: 0.0000, \n"
     ]
    },
    {
     "name": "stdout",
     "output_type": "stream",
     "text": [
      "epoch: 5, [batch: 2527 / 6317], examples_per_second: 4094.7676, train_label_loss: 0.0000, \n"
     ]
    },
    {
     "name": "stdout",
     "output_type": "stream",
     "text": [
      "epoch: 5, [batch: 3159 / 6317], examples_per_second: 3885.2697, train_label_loss: 0.0004, \n"
     ]
    },
    {
     "name": "stdout",
     "output_type": "stream",
     "text": [
      "epoch: 5, [batch: 3790 / 6317], examples_per_second: 3791.9892, train_label_loss: 0.0001, \n"
     ]
    },
    {
     "name": "stdout",
     "output_type": "stream",
     "text": [
      "epoch: 5, [batch: 4422 / 6317], examples_per_second: 3740.9276, train_label_loss: 0.0000, \n"
     ]
    },
    {
     "name": "stdout",
     "output_type": "stream",
     "text": [
      "epoch: 5, [batch: 5053 / 6317], examples_per_second: 3773.0928, train_label_loss: 0.0004, \n"
     ]
    },
    {
     "name": "stdout",
     "output_type": "stream",
     "text": [
      "epoch: 5, [batch: 5685 / 6317], examples_per_second: 3773.8698, train_label_loss: 0.0000, \n"
     ]
    },
    {
     "name": "stdout",
     "output_type": "stream",
     "text": [
      "=============================================================\n",
      "epoch: 5, source_val_acc_label: 0.9989, target_val_acc_label: 0.3209, source_val_label_loss: 0.0073, target_val_label_loss: 2.1472, \n",
      "=============================================================\n"
     ]
    },
    {
     "name": "stdout",
     "output_type": "stream",
     "text": [
      "Patience (3) exhausted\n"
     ]
    }
   ],
   "source": [
    "###################################\n",
    "# train\n",
    "###################################\n",
    "jig = PTN_Train_Eval_Test_Jig(model, p.BEST_MODEL_PATH, p.device)\n",
    "\n",
    "jig.train(\n",
    "    train_iterable=datasets.source.processed.train,\n",
    "    source_val_iterable=datasets.source.processed.val,\n",
    "    target_val_iterable=datasets.target.processed.val,\n",
    "    num_epochs=p.n_epoch,\n",
    "    num_logs_per_epoch=p.NUM_LOGS_PER_EPOCH,\n",
    "    patience=p.patience,\n",
    "    optimizer=optimizer,\n",
    "    criteria_for_best=p.criteria_for_best,\n",
    ")"
   ]
  },
  {
   "cell_type": "code",
   "execution_count": 23,
   "id": "31e8fabf",
   "metadata": {
    "execution": {
     "iopub.execute_input": "2022-03-28T07:56:25.709930Z",
     "iopub.status.busy": "2022-03-28T07:56:25.709384Z",
     "iopub.status.idle": "2022-03-28T07:56:25.740960Z",
     "shell.execute_reply": "2022-03-28T07:56:25.741626Z"
    },
    "papermill": {
     "duration": 0.076201,
     "end_time": "2022-03-28T07:56:25.741820",
     "exception": false,
     "start_time": "2022-03-28T07:56:25.665619",
     "status": "completed"
    },
    "tags": []
   },
   "outputs": [],
   "source": [
    "total_experiment_time_secs = time.time() - start_time_secs"
   ]
  },
  {
   "cell_type": "code",
   "execution_count": 24,
   "id": "87b9595b",
   "metadata": {
    "execution": {
     "iopub.execute_input": "2022-03-28T07:56:25.836918Z",
     "iopub.status.busy": "2022-03-28T07:56:25.833316Z",
     "iopub.status.idle": "2022-03-28T07:59:09.115785Z",
     "shell.execute_reply": "2022-03-28T07:59:09.114915Z"
    },
    "papermill": {
     "duration": 163.328113,
     "end_time": "2022-03-28T07:59:09.115967",
     "exception": false,
     "start_time": "2022-03-28T07:56:25.787854",
     "status": "completed"
    },
    "tags": []
   },
   "outputs": [],
   "source": [
    "###################################\n",
    "# Evaluate the model\n",
    "###################################\n",
    "source_test_label_accuracy, source_test_label_loss = jig.test(datasets.source.processed.test)\n",
    "target_test_label_accuracy, target_test_label_loss = jig.test(datasets.target.processed.test)\n",
    "\n",
    "source_val_label_accuracy, source_val_label_loss = jig.test(datasets.source.processed.val)\n",
    "target_val_label_accuracy, target_val_label_loss = jig.test(datasets.target.processed.val)\n",
    "\n",
    "history = jig.get_history()\n",
    "\n",
    "total_epochs_trained = len(history[\"epoch_indices\"])\n",
    "\n",
    "val_dl = Iterable_Aggregator((datasets.source.original.val,datasets.target.original.val))\n",
    "\n",
    "confusion = ptn_confusion_by_domain_over_dataloader(model, p.device, val_dl)\n",
    "per_domain_accuracy = per_domain_accuracy_from_confusion(confusion)\n",
    "\n",
    "# Add a key to per_domain_accuracy for if it was a source domain\n",
    "for domain, accuracy in per_domain_accuracy.items():\n",
    "    per_domain_accuracy[domain] = {\n",
    "        \"accuracy\": accuracy,\n",
    "        \"source?\": domain in p.domains_source\n",
    "    }\n",
    "\n",
    "# Do an independent accuracy assesment JUST TO BE SURE!\n",
    "# _source_test_label_accuracy = independent_accuracy_assesment(model, datasets.source.processed.test, p.device)\n",
    "# _target_test_label_accuracy = independent_accuracy_assesment(model, datasets.target.processed.test, p.device)\n",
    "# _source_val_label_accuracy = independent_accuracy_assesment(model, datasets.source.processed.val, p.device)\n",
    "# _target_val_label_accuracy = independent_accuracy_assesment(model, datasets.target.processed.val, p.device)\n",
    "\n",
    "# assert(_source_test_label_accuracy == source_test_label_accuracy)\n",
    "# assert(_target_test_label_accuracy == target_test_label_accuracy)\n",
    "# assert(_source_val_label_accuracy == source_val_label_accuracy)\n",
    "# assert(_target_val_label_accuracy == target_val_label_accuracy)\n",
    "\n",
    "experiment = {\n",
    "    \"experiment_name\": p.experiment_name,\n",
    "    \"parameters\": dict(p),\n",
    "    \"results\": {\n",
    "        \"source_test_label_accuracy\": source_test_label_accuracy,\n",
    "        \"source_test_label_loss\": source_test_label_loss,\n",
    "        \"target_test_label_accuracy\": target_test_label_accuracy,\n",
    "        \"target_test_label_loss\": target_test_label_loss,\n",
    "        \"source_val_label_accuracy\": source_val_label_accuracy,\n",
    "        \"source_val_label_loss\": source_val_label_loss,\n",
    "        \"target_val_label_accuracy\": target_val_label_accuracy,\n",
    "        \"target_val_label_loss\": target_val_label_loss,\n",
    "        \"total_epochs_trained\": total_epochs_trained,\n",
    "        \"total_experiment_time_secs\": total_experiment_time_secs,\n",
    "        \"confusion\": confusion,\n",
    "        \"per_domain_accuracy\": per_domain_accuracy,\n",
    "    },\n",
    "    \"history\": history,\n",
    "    \"dataset_metrics\": get_dataset_metrics(datasets, \"ptn\"),\n",
    "}"
   ]
  },
  {
   "cell_type": "code",
   "execution_count": 25,
   "id": "54a21829",
   "metadata": {
    "execution": {
     "iopub.execute_input": "2022-03-28T07:59:09.205321Z",
     "iopub.status.busy": "2022-03-28T07:59:09.204929Z",
     "iopub.status.idle": "2022-03-28T07:59:09.425940Z",
     "shell.execute_reply": "2022-03-28T07:59:09.425105Z"
    },
    "papermill": {
     "duration": 0.263713,
     "end_time": "2022-03-28T07:59:09.426106",
     "exception": false,
     "start_time": "2022-03-28T07:59:09.162393",
     "status": "completed"
    },
    "tags": []
   },
   "outputs": [
    {
     "data": {
      "image/png": "[encoded data removed]",
      "text/plain": [
       "<Figure size 1080x504 with 1 Axes>"
      ]
     },
     "metadata": {
      "needs_background": "light"
     },
     "output_type": "display_data"
    }
   ],
   "source": [
    "ax = get_loss_curve(experiment)\n",
    "plt.show()"
   ]
  },
  {
   "cell_type": "code",
   "execution_count": 26,
   "id": "fd8a0f60",
   "metadata": {
    "execution": {
     "iopub.execute_input": "2022-03-28T07:59:09.514538Z",
     "iopub.status.busy": "2022-03-28T07:59:09.514171Z",
     "iopub.status.idle": "2022-03-28T07:59:09.887675Z",
     "shell.execute_reply": "2022-03-28T07:59:09.887980Z"
    },
    "papermill": {
     "duration": 0.416937,
     "end_time": "2022-03-28T07:59:09.888083",
     "exception": false,
     "start_time": "2022-03-28T07:59:09.471146",
     "status": "completed"
    },
    "tags": []
   },
   "outputs": [
    {
     "data": {
      "text/plain": [
       "<AxesSubplot:title={'center':'Results'}>"
      ]
     },
     "execution_count": 26,
     "metadata": {},
     "output_type": "execute_result"
    },
    {
     "data": {
      "image/png": "[encoded data removed]",
      "text/plain": [
       "<Figure size 1080x504 with 1 Axes>"
      ]
     },
     "metadata": {
      "needs_background": "light"
     },
     "output_type": "display_data"
    }
   ],
   "source": [
    "get_results_table(experiment)"
   ]
  },
  {
   "cell_type": "code",
   "execution_count": 27,
   "id": "cf8dc689",
   "metadata": {
    "execution": {
     "iopub.execute_input": "2022-03-28T07:59:09.973766Z",
     "iopub.status.busy": "2022-03-28T07:59:09.973403Z",
     "iopub.status.idle": "2022-03-28T07:59:10.212139Z",
     "shell.execute_reply": "2022-03-28T07:59:10.211291Z"
    },
    "papermill": {
     "duration": 0.282915,
     "end_time": "2022-03-28T07:59:10.212308",
     "exception": false,
     "start_time": "2022-03-28T07:59:09.929393",
     "status": "completed"
    },
    "tags": []
   },
   "outputs": [
    {
     "data": {
      "text/plain": [
       "<AxesSubplot:title={'center':'Per Domain Validation Accuracy'}, xlabel='domain'>"
      ]
     },
     "execution_count": 27,
     "metadata": {},
     "output_type": "execute_result"
    },
    {
     "data": {
      "image/png": "[encoded data removed]",
      "text/plain": [
       "<Figure size 1080x504 with 1 Axes>"
      ]
     },
     "metadata": {
      "needs_background": "light"
     },
     "output_type": "display_data"
    }
   ],
   "source": [
    "get_domain_accuracies(experiment)"
   ]
  },
  {
   "cell_type": "code",
   "execution_count": 28,
   "id": "a74ae082",
   "metadata": {
    "execution": {
     "iopub.execute_input": "2022-03-28T07:59:10.304380Z",
     "iopub.status.busy": "2022-03-28T07:59:10.304009Z",
     "iopub.status.idle": "2022-03-28T07:59:10.329217Z",
     "shell.execute_reply": "2022-03-28T07:59:10.329878Z"
    },
    "papermill": {
     "duration": 0.071447,
     "end_time": "2022-03-28T07:59:10.330059",
     "exception": false,
     "start_time": "2022-03-28T07:59:10.258612",
     "status": "completed"
    },
    "tags": []
   },
   "outputs": [
    {
     "name": "stdout",
     "output_type": "stream",
     "text": [
      "Source Test Label Accuracy: 0.9947158454647257 Target Test Label Accuracy: 0.336328125\n",
      "Source Val Label Accuracy: 0.9946009725400458 Target Val Label Accuracy: 0.34231770833333336\n"
     ]
    }
   ],
   "source": [
    "print(\"Source Test Label Accuracy:\", experiment[\"results\"][\"source_test_label_accuracy\"], \"Target Test Label Accuracy:\", experiment[\"results\"][\"target_test_label_accuracy\"])\n",
    "print(\"Source Val Label Accuracy:\", experiment[\"results\"][\"source_val_label_accuracy\"], \"Target Val Label Accuracy:\", experiment[\"results\"][\"target_val_label_accuracy\"])"
   ]
  },
  {
   "cell_type": "code",
   "execution_count": 29,
   "id": "dacca602",
   "metadata": {
    "execution": {
     "iopub.execute_input": "2022-03-28T07:59:10.423112Z",
     "iopub.status.busy": "2022-03-28T07:59:10.422752Z",
     "iopub.status.idle": "2022-03-28T07:59:10.446181Z",
     "shell.execute_reply": "2022-03-28T07:59:10.446847Z"
    },
    "papermill": {
     "duration": 0.06942,
     "end_time": "2022-03-28T07:59:10.447024",
     "exception": false,
     "start_time": "2022-03-28T07:59:10.377604",
     "status": "completed"
    },
    "tags": [
     "experiment_json"
    ]
   },
   "outputs": [
    {
     "data": {
      "text/plain": [
       "'{\"experiment_name\": \"tl_3-jitter10v2:cores -> oracle.run1.framed\", \"parameters\": {\"experiment_name\": \"tl_3-jitter10v2:cores -> oracle.run1.framed\", \"device\": \"cuda\", \"lr\": 0.0001, \"x_shape\": [2, 256], \"n_shot\": 3, \"n_query\": 2, \"train_k_factor\": 3, \"val_k_factor\": 2, \"test_k_factor\": 2, \"torch_default_dtype\": \"torch.float32\", \"n_epoch\": 50, \"patience\": 3, \"criteria_for_best\": \"target_accuracy\", \"x_net\": [{\"class\": \"nnReshape\", \"kargs\": {\"shape\": [-1, 1, 2, 256]}}, {\"class\": \"Conv2d\", \"kargs\": {\"in_channels\": 1, \"out_channels\": 256, \"kernel_size\": [1, 7], \"bias\": false, \"padding\": [0, 3]}}, {\"class\": \"ReLU\", \"kargs\": {\"inplace\": true}}, {\"class\": \"BatchNorm2d\", \"kargs\": {\"num_features\": 256}}, {\"class\": \"Conv2d\", \"kargs\": {\"in_channels\": 256, \"out_channels\": 80, \"kernel_size\": [2, 7], \"bias\": true, \"padding\": [0, 3]}}, {\"class\": \"ReLU\", \"kargs\": {\"inplace\": true}}, {\"class\": \"BatchNorm2d\", \"kargs\": {\"num_features\": 80}}, {\"class\": \"Flatten\", \"kargs\": {}}, {\"class\": \"Linear\", \"kargs\": {\"in_features\": 20480, \"out_features\": 256}}, {\"class\": \"ReLU\", \"kargs\": {\"inplace\": true}}, {\"class\": \"BatchNorm1d\", \"kargs\": {\"num_features\": 256}}, {\"class\": \"Linear\", \"kargs\": {\"in_features\": 256, \"out_features\": 256}}], \"NUM_LOGS_PER_EPOCH\": 10, \"BEST_MODEL_PATH\": \"./best_model.pth\", \"n_way\": 16, \"datasets\": [{\"labels\": [\"1-10.\", \"1-11.\", \"1-15.\", \"1-16.\", \"1-17.\", \"1-18.\", \"1-19.\", \"10-4.\", \"10-7.\", \"11-1.\", \"11-14.\", \"11-17.\", \"11-20.\", \"11-7.\", \"13-20.\", \"13-8.\", \"14-10.\", \"14-11.\", \"14-14.\", \"14-7.\", \"15-1.\", \"15-20.\", \"16-1.\", \"16-16.\", \"17-10.\", \"17-11.\", \"17-2.\", \"19-1.\", \"19-16.\", \"19-19.\", \"19-20.\", \"19-3.\", \"2-10.\", \"2-11.\", \"2-17.\", \"2-18.\", \"2-20.\", \"2-3.\", \"2-4.\", \"2-5.\", \"2-6.\", \"2-7.\", \"2-8.\", \"3-13.\", \"3-18.\", \"3-3.\", \"4-1.\", \"4-10.\", \"4-11.\", \"4-19.\", \"5-5.\", \"6-15.\", \"7-10.\", \"7-14.\", \"8-18.\", \"8-20.\", \"8-3.\", \"8-8.\"], \"domains\": [1, 2, 3, 4, 5], \"num_examples_per_domain_per_label\": -1, \"pickle_path\": \"/root/csc500-main/datasets/cores.stratified_ds.2022A.pkl\", \"source_or_target_dataset\": \"source\", \"x_transforms\": [\"unit_mag\", \"jitter_256_10\", \"lowpass_+/-10MHz\", \"take_200\"], \"episode_transforms\": [], \"domain_prefix\": \"C_\"}, {\"labels\": [\"3123D52\", \"3123D65\", \"3123D79\", \"3123D80\", \"3123D54\", \"3123D70\", \"3123D7B\", \"3123D89\", \"3123D58\", \"3123D76\", \"3123D7D\", \"3123EFE\", \"3123D64\", \"3123D78\", \"3123D7E\", \"3124E4A\"], \"domains\": [32, 38, 8, 44, 14, 50, 20, 26], \"num_examples_per_domain_per_label\": 2000, \"pickle_path\": \"/root/csc500-main/datasets/oracle.Run1_framed_2000Examples_stratified_ds.2022A.pkl\", \"source_or_target_dataset\": \"target\", \"x_transforms\": [\"unit_mag\", \"jitter_256_10\", \"take_200\", \"resample_20Msps_to_25Msps\"], \"episode_transforms\": [], \"domain_prefix\": \"O_\"}], \"seed\": 154325, \"dataset_seed\": 154325, \"domains_source\": [\"C_1\", \"C_2\", \"C_3\", \"C_4\", \"C_5\"], \"domains_target\": [\"O_32\", \"O_38\", \"O_8\", \"O_44\", \"O_14\", \"O_50\", \"O_20\", \"O_26\"]}, \"results\": {\"source_test_label_accuracy\": 0.9947158454647257, \"source_test_label_loss\": 0.022104255855083466, \"target_test_label_accuracy\": 0.336328125, \"target_test_label_loss\": 1.935279130935669, \"source_val_label_accuracy\": 0.9946009725400458, \"source_val_label_loss\": 0.025138787925243378, \"target_val_label_accuracy\": 0.34231770833333336, \"target_val_label_loss\": 1.927539348602295, \"total_epochs_trained\": 5, \"total_experiment_time_secs\": 888.7913401126862, \"confusion\": {\"C_2\": {\"21\": {\"21\": 120}, \"4\": {\"4\": 130}, \"6\": {\"6\": 124}, \"10\": {\"10\": 112}, \"33\": {\"33\": 28}, \"56\": {\"56\": 122}, \"20\": {\"20\": 132}, \"24\": {\"24\": 96}, \"45\": {\"45\": 125, \"47\": 1, \"46\": 1, \"17\": 1}, \"32\": {\"32\": 28}, \"27\": {\"27\": 148}, \"53\": {\"53\": 136}, \"8\": {\"8\": 160}, \"54\": {\"54\": 107, \"9\": 1}, \"50\": {\"50\": 133, \"51\": 1}, \"44\": {\"44\": 100}, \"5\": {\"5\": 118, \"23\": 1, \"47\": 1}, \"38\": {\"38\": 20}, \"19\": {\"19\": 132}, \"1\": {\"1\": 111, \"19\": 1}, \"30\": {\"30\": 144}, \"15\": {\"15\": 144}, \"23\": {\"23\": 146}, \"35\": {\"35\": 32}, \"22\": {\"22\": 128}, \"40\": {\"40\": 140}, \"46\": {\"46\": 125, \"15\": 1}, \"3\": {\"3\": 92}, \"48\": {\"48\": 148}, \"52\": {\"52\": 124}, \"2\": {\"2\": 32}, \"26\": {\"26\": 24}, \"17\": {\"17\": 104}, \"55\": {\"55\": 143, \"47\": 1}, \"51\": {\"51\": 122}, \"42\": {\"42\": 36}, \"41\": {\"41\": 19, \"46\": 1}, \"31\": {\"31\": 28}, \"16\": {\"16\": 138}, \"36\": {\"36\": 116}, \"49\": {\"49\": 24}, \"0\": {\"0\": 48}, \"18\": {\"18\": 48}, \"25\": {\"25\": 146}, \"9\": {\"54\": 1, \"9\": 121}, \"47\": {\"47\": 132}, \"7\": {\"7\": 36}, \"37\": {\"37\": 36}, \"13\": {\"13\": 116}, \"14\": {\"14\": 18, \"56\": 2, \"55\": 2, \"0\": 2}, \"34\": {\"34\": 28}, \"57\": {\"57\": 140}, \"11\": {\"11\": 138}, \"39\": {\"39\": 28}, \"12\": {\"12\": 92}, \"28\": {\"28\": 28}, \"29\": {\"29\": 128}, \"43\": {\"43\": 140}}, \"C_5\": {\"12\": {\"12\": 96}, \"8\": {\"8\": 142}, \"29\": {\"29\": 132}, \"57\": {\"57\": 126}, \"38\": {\"38\": 32}, \"23\": {\"23\": 124}, \"56\": {\"56\": 138}, \"49\": {\"49\": 36}, \"4\": {\"4\": 99, \"32\": 1}, \"48\": {\"48\": 136}, \"21\": {\"21\": 144}, \"30\": {\"30\": 128}, \"1\": {\"1\": 144, \"9\": 1, \"48\": 3}, \"34\": {\"34\": 36}, \"35\": {\"35\": 36}, \"55\": {\"55\": 151, \"45\": 1}, \"5\": {\"5\": 122}, \"52\": {\"52\": 126}, \"6\": {\"6\": 123, \"17\": 2, \"20\": 2, \"45\": 1}, \"36\": {\"36\": 92}, \"41\": {\"41\": 28}, \"3\": {\"3\": 100}, \"28\": {\"28\": 32}, \"18\": {\"18\": 64}, \"25\": {\"25\": 136}, \"47\": {\"47\": 100}, \"13\": {\"13\": 160}, \"11\": {\"11\": 143, \"15\": 1}, \"53\": {\"53\": 144}, \"33\": {\"33\": 32}, \"46\": {\"46\": 147, \"3\": 1}, \"50\": {\"50\": 138, \"18\": 2, \"23\": 3, \"25\": 2, \"6\": 1, \"20\": 1, \"51\": 1}, \"10\": {\"10\": 68}, \"15\": {\"15\": 135, \"11\": 3}, \"44\": {\"44\": 140}, \"2\": {\"2\": 28}, \"7\": {\"7\": 32}, \"43\": {\"43\": 138}, \"32\": {\"32\": 32}, \"0\": {\"0\": 124}, \"39\": {\"39\": 20}, \"26\": {\"26\": 24}, \"27\": {\"27\": 112}, \"54\": {\"54\": 112}, \"17\": {\"17\": 115, \"6\": 1}, \"14\": {\"14\": 35, \"46\": 2, \"40\": 1, \"18\": 1, \"57\": 1, \"29\": 1, \"47\": 1, \"44\": 1, \"34\": 1}, \"16\": {\"16\": 148}, \"9\": {\"9\": 145, \"1\": 2, \"4\": 1}, \"19\": {\"19\": 152}, \"20\": {\"20\": 138}, \"37\": {\"37\": 24}, \"24\": {\"24\": 80}, \"40\": {\"40\": 122}, \"45\": {\"45\": 113, \"1\": 1, \"20\": 2, \"27\": 1, \"30\": 1, \"17\": 4, \"9\": 1, \"6\": 1}, \"22\": {\"22\": 28}, \"42\": {\"42\": 38, \"56\": 2}, \"51\": {\"51\": 118}, \"31\": {\"31\": 36}}, \"C_1\": {\"27\": {\"27\": 142}, \"2\": {\"2\": 36}, \"33\": {\"33\": 32}, \"45\": {\"45\": 156}, \"38\": {\"38\": 24}, \"4\": {\"4\": 132}, \"31\": {\"31\": 28}, \"55\": {\"55\": 140}, \"32\": {\"32\": 32}, \"57\": {\"57\": 140}, \"14\": {\"14\": 22, \"30\": 1, \"9\": 1}, \"16\": {\"16\": 140}, \"34\": {\"34\": 24}, \"56\": {\"56\": 125, \"57\": 1}, \"24\": {\"24\": 104, \"22\": 4}, \"30\": {\"30\": 112}, \"17\": {\"17\": 64}, \"13\": {\"13\": 138}, \"39\": {\"39\": 28}, \"50\": {\"50\": 146}, \"20\": {\"20\": 140}, \"41\": {\"41\": 24}, \"53\": {\"53\": 126}, \"48\": {\"48\": 142}, \"36\": {\"36\": 64}, \"8\": {\"8\": 140}, \"15\": {\"15\": 132}, \"40\": {\"40\": 156}, \"37\": {\"37\": 32}, \"21\": {\"21\": 120}, \"35\": {\"35\": 36}, \"49\": {\"49\": 32}, \"26\": {\"26\": 24}, \"28\": {\"28\": 28}, \"12\": {\"12\": 116}, \"5\": {\"5\": 147, \"30\": 4, \"6\": 1}, \"29\": {\"29\": 140}, \"47\": {\"47\": 140}, \"10\": {\"10\": 95, \"11\": 1}, \"18\": {\"18\": 70, \"48\": 1, \"51\": 1}, \"9\": {\"9\": 126}, \"3\": {\"3\": 140}, \"52\": {\"52\": 130, \"28\": 2}, \"25\": {\"25\": 136}, \"19\": {\"19\": 156}, \"11\": {\"11\": 132, \"15\": 2, \"21\": 2}, \"7\": {\"7\": 28}, \"23\": {\"23\": 136}, \"44\": {\"44\": 132}, \"42\": {\"42\": 40}, \"54\": {\"54\": 104}, \"1\": {\"1\": 100}, \"46\": {\"46\": 128}, \"6\": {\"6\": 96}, \"43\": {\"43\": 144}, \"51\": {\"51\": 142}, \"22\": {\"22\": 133, \"24\": 1, \"21\": 2}, \"0\": {\"0\": 128}}, \"C_4\": {\"32\": {\"32\": 24}, \"2\": {\"2\": 36}, \"41\": {\"41\": 36}, \"11\": {\"11\": 100, \"49\": 1, \"15\": 1}, \"57\": {\"57\": 100}, \"6\": {\"6\": 110, \"52\": 2}, \"23\": {\"23\": 136}, \"52\": {\"52\": 116}, \"38\": {\"38\": 40}, \"50\": {\"50\": 126, \"21\": 2, \"3\": 1, \"51\": 2, \"20\": 1}, \"55\": {\"55\": 152}, \"46\": {\"46\": 152, \"47\": 2}, \"37\": {\"37\": 24}, \"20\": {\"20\": 118}, \"49\": {\"49\": 20}, \"45\": {\"45\": 96}, \"54\": {\"54\": 108}, \"3\": {\"3\": 121, \"20\": 1, \"53\": 2}, \"13\": {\"13\": 152}, \"18\": {\"18\": 108}, \"21\": {\"21\": 126}, \"43\": {\"43\": 144}, \"47\": {\"47\": 120}, \"4\": {\"4\": 131, \"9\": 1}, \"12\": {\"12\": 92}, \"9\": {\"9\": 126, \"4\": 2}, \"7\": {\"7\": 23, \"15\": 1}, \"56\": {\"56\": 112}, \"28\": {\"28\": 31, \"34\": 1}, \"44\": {\"44\": 132}, \"24\": {\"24\": 56}, \"33\": {\"33\": 36}, \"35\": {\"35\": 40}, \"51\": {\"51\": 135, \"50\": 1, \"53\": 2}, \"39\": {\"39\": 19, \"33\": 1}, \"36\": {\"36\": 92}, \"19\": {\"19\": 140}, \"0\": {\"0\": 80}, \"15\": {\"15\": 136}, \"29\": {\"29\": 124}, \"30\": {\"30\": 44}, \"1\": {\"1\": 40}, \"22\": {\"22\": 128}, \"40\": {\"40\": 146}, \"8\": {\"8\": 128}, \"53\": {\"53\": 138}, \"34\": {\"34\": 24}, \"10\": {\"10\": 122}, \"31\": {\"31\": 28}, \"17\": {\"17\": 80}, \"16\": {\"16\": 96}, \"42\": {\"42\": 32}, \"27\": {\"27\": 142}, \"14\": {\"14\": 14, \"57\": 2}, \"25\": {\"25\": 122}, \"48\": {\"48\": 132}, \"26\": {\"26\": 24}, \"5\": {\"5\": 106, \"23\": 1, \"52\": 1}}, \"C_3\": {\"14\": {\"14\": 35, \"0\": 5}, \"18\": {\"18\": 84}, \"30\": {\"30\": 120}, \"16\": {\"16\": 156}, \"1\": {\"1\": 100}, \"20\": {\"20\": 132}, \"7\": {\"7\": 36}, \"52\": {\"52\": 129, \"6\": 1}, \"9\": {\"9\": 140}, \"23\": {\"23\": 144}, \"55\": {\"55\": 164}, \"29\": {\"29\": 126}, \"56\": {\"56\": 134}, \"3\": {\"3\": 122, \"52\": 1, \"25\": 1}, \"42\": {\"42\": 24, \"55\": 1, \"48\": 3}, \"6\": {\"6\": 80, \"33\": 4, \"26\": 1, \"52\": 1, \"15\": 2}, \"5\": {\"5\": 112, \"23\": 2, \"15\": 1, \"18\": 1}, \"27\": {\"27\": 144}, \"47\": {\"47\": 92}, \"39\": {\"39\": 16}, \"34\": {\"34\": 32}, \"4\": {\"4\": 126}, \"24\": {\"24\": 104}, \"46\": {\"46\": 118}, \"50\": {\"50\": 126}, \"38\": {\"38\": 28}, \"54\": {\"54\": 100}, \"35\": {\"35\": 28}, \"2\": {\"2\": 29, \"17\": 3}, \"41\": {\"41\": 28}, \"57\": {\"57\": 118}, \"25\": {\"25\": 150}, \"48\": {\"48\": 116}, \"33\": {\"33\": 27, \"6\": 1}, \"45\": {\"45\": 60}, \"13\": {\"13\": 126}, \"36\": {\"36\": 100}, \"43\": {\"43\": 132}, \"28\": {\"28\": 28}, \"0\": {\"0\": 124}, \"12\": {\"12\": 92}, \"31\": {\"31\": 28}, \"40\": {\"40\": 116}, \"44\": {\"44\": 88}, \"32\": {\"32\": 28}, \"26\": {\"26\": 24}, \"8\": {\"8\": 116}, \"10\": {\"10\": 63, \"49\": 1}, \"15\": {\"15\": 142}, \"21\": {\"21\": 128}, \"37\": {\"37\": 28}, \"17\": {\"17\": 108}, \"51\": {\"51\": 124}, \"53\": {\"53\": 144}, \"19\": {\"19\": 136}, \"49\": {\"49\": 20}, \"11\": {\"11\": 138}, \"22\": {\"22\": 130}}, \"O_8\": {\"13\": {\"4\": 31, \"2\": 9, \"1\": 5, \"0\": 22, \"13\": 36, \"7\": 21, \"10\": 32, \"6\": 22, \"5\": 21, \"14\": 24, \"15\": 7, \"3\": 3, \"8\": 2, \"12\": 1, \"11\": 3, \"9\": 1}, \"9\": {\"9\": 233, \"14\": 1, \"4\": 1, \"7\": 1, \"10\": 2, \"0\": 2}, \"15\": {\"8\": 58, \"12\": 61, \"3\": 27, \"15\": 42, \"4\": 7, \"7\": 11, \"2\": 10, \"6\": 11, \"14\": 4, \"1\": 3, \"11\": 2, \"13\": 3, \"0\": 1}, \"2\": {\"2\": 78, \"7\": 24, \"3\": 56, \"14\": 7, \"15\": 14, \"0\": 14, \"12\": 18, \"13\": 7, \"6\": 12, \"10\": 3, \"8\": 2, \"4\": 5}, \"3\": {\"15\": 16, \"12\": 34, \"3\": 93, \"2\": 60, \"7\": 17, \"6\": 9, \"8\": 5, \"0\": 4, \"4\": 1, \"10\": 1}, \"8\": {\"15\": 35, \"8\": 79, \"6\": 17, \"12\": 27, \"10\": 4, \"4\": 4, \"11\": 21, \"14\": 9, \"1\": 23, \"7\": 5, \"5\": 6, \"13\": 1, \"3\": 8, \"2\": 1}, \"5\": {\"6\": 9, \"5\": 72, \"14\": 33, \"1\": 43, \"11\": 27, \"8\": 5, \"10\": 21, \"13\": 9, \"4\": 9, \"7\": 7, \"0\": 4, \"9\": 1}, \"14\": {\"0\": 10, \"7\": 13, \"10\": 38, \"13\": 25, \"14\": 45, \"5\": 31, \"15\": 2, \"6\": 20, \"4\": 21, \"1\": 16, \"11\": 11, \"8\": 3, \"2\": 1, \"12\": 3, \"9\": 1}, \"1\": {\"1\": 66, \"11\": 64, \"5\": 36, \"14\": 11, \"8\": 19, \"7\": 5, \"15\": 6, \"6\": 5, \"4\": 6, \"0\": 1, \"10\": 9, \"13\": 10, \"2\": 2}, \"0\": {\"7\": 25, \"0\": 49, \"13\": 43, \"2\": 16, \"6\": 32, \"10\": 15, \"4\": 29, \"14\": 16, \"3\": 5, \"15\": 2, \"12\": 2, \"8\": 2, \"5\": 4}, \"10\": {\"7\": 14, \"14\": 34, \"4\": 30, \"5\": 24, \"10\": 33, \"1\": 14, \"11\": 7, \"13\": 32, \"15\": 4, \"0\": 18, \"6\": 18, \"9\": 2, \"8\": 7, \"2\": 2, \"12\": 1}, \"6\": {\"13\": 25, \"0\": 16, \"15\": 17, \"10\": 18, \"6\": 38, \"14\": 20, \"12\": 10, \"7\": 28, \"4\": 33, \"3\": 6, \"8\": 6, \"5\": 3, \"11\": 2, \"1\": 3, \"2\": 15}, \"11\": {\"4\": 2, \"1\": 67, \"11\": 84, \"5\": 36, \"8\": 22, \"10\": 11, \"14\": 8, \"13\": 1, \"6\": 3, \"15\": 2, \"7\": 1, \"12\": 3}, \"7\": {\"10\": 15, \"0\": 23, \"15\": 13, \"6\": 30, \"2\": 19, \"12\": 7, \"4\": 30, \"13\": 26, \"7\": 38, \"14\": 16, \"1\": 7, \"8\": 7, \"3\": 6, \"5\": 3}, \"4\": {\"10\": 34, \"14\": 24, \"5\": 25, \"7\": 23, \"12\": 4, \"1\": 14, \"13\": 26, \"4\": 32, \"9\": 1, \"0\": 19, \"6\": 19, \"11\": 3, \"2\": 6, \"8\": 4, \"15\": 4, \"3\": 2}, \"12\": {\"15\": 64, \"12\": 64, \"3\": 37, \"8\": 38, \"7\": 6, \"4\": 4, \"13\": 2, \"2\": 7, \"1\": 3, \"6\": 9, \"11\": 2, \"10\": 3, \"0\": 1}}, \"O_38\": {\"13\": {\"8\": 32, \"15\": 39, \"10\": 20, \"2\": 33, \"13\": 69, \"1\": 23, \"0\": 11, \"5\": 8, \"7\": 1, \"6\": 1, \"14\": 2, \"9\": 1}, \"12\": {\"14\": 18, \"12\": 143, \"4\": 40, \"10\": 11, \"11\": 25, \"7\": 2, \"8\": 1}, \"2\": {\"2\": 148, \"11\": 5, \"10\": 12, \"15\": 22, \"13\": 20, \"14\": 29, \"0\": 1, \"1\": 2, \"8\": 1}, \"9\": {\"6\": 77, \"3\": 48, \"9\": 97, \"5\": 9, \"8\": 3, \"13\": 3, \"1\": 1, \"0\": 2}, \"15\": {\"15\": 71, \"5\": 20, \"2\": 18, \"13\": 55, \"0\": 8, \"1\": 28, \"8\": 22, \"10\": 10, \"6\": 6, \"3\": 1, \"11\": 1}, \"5\": {\"15\": 18, \"5\": 59, \"6\": 22, \"1\": 15, \"7\": 19, \"3\": 10, \"8\": 35, \"9\": 13, \"13\": 12, \"0\": 28, \"10\": 9}, \"14\": {\"11\": 74, \"14\": 113, \"12\": 17, \"10\": 18, \"2\": 14, \"13\": 1, \"15\": 2, \"8\": 1}, \"0\": {\"10\": 23, \"0\": 39, \"8\": 53, \"15\": 7, \"3\": 19, \"7\": 43, \"5\": 26, \"6\": 7, \"9\": 3, \"13\": 17, \"1\": 1, \"4\": 1, \"2\": 1}, \"3\": {\"6\": 19, \"9\": 50, \"3\": 116, \"1\": 2, \"5\": 19, \"7\": 18, \"0\": 10, \"8\": 4, \"13\": 1, \"10\": 1}, \"1\": {\"1\": 129, \"15\": 35, \"6\": 26, \"13\": 25, \"0\": 2, \"8\": 4, \"2\": 2, \"5\": 11, \"9\": 5, \"7\": 1}, \"11\": {\"12\": 36, \"2\": 12, \"14\": 89, \"11\": 90, \"10\": 6, \"13\": 2, \"15\": 4, \"4\": 1}, \"7\": {\"7\": 100, \"10\": 13, \"5\": 19, \"0\": 48, \"15\": 4, \"3\": 27, \"8\": 25, \"6\": 1, \"13\": 2, \"1\": 1}, \"8\": {\"7\": 20, \"1\": 5, \"15\": 25, \"5\": 36, \"8\": 55, \"0\": 50, \"3\": 1, \"13\": 22, \"10\": 19, \"14\": 1, \"2\": 3, \"9\": 2, \"11\": 1}, \"4\": {\"4\": 172, \"12\": 63, \"10\": 3, \"11\": 1, \"0\": 1}, \"10\": {\"14\": 14, \"8\": 29, \"11\": 9, \"10\": 96, \"0\": 23, \"7\": 14, \"15\": 9, \"12\": 9, \"13\": 16, \"2\": 15, \"5\": 5, \"4\": 1}, \"6\": {\"9\": 68, \"1\": 18, \"6\": 125, \"3\": 10, \"5\": 13, \"0\": 2, \"7\": 1, \"15\": 2, \"8\": 1}}, \"O_26\": {\"10\": {\"6\": 22, \"9\": 17, \"1\": 27, \"4\": 23, \"2\": 7, \"10\": 36, \"8\": 21, \"14\": 15, \"0\": 37, \"7\": 16, \"12\": 3, \"3\": 4, \"13\": 2, \"15\": 5, \"5\": 4, \"11\": 1}, \"12\": {\"12\": 194, \"11\": 28, \"6\": 14, \"10\": 2, \"1\": 1, \"9\": 1}, \"1\": {\"3\": 13, \"12\": 2, \"7\": 25, \"0\": 24, \"6\": 11, \"10\": 24, \"4\": 33, \"8\": 18, \"14\": 31, \"9\": 4, \"1\": 45, \"5\": 5, \"15\": 3, \"2\": 1, \"13\": 1}, \"0\": {\"9\": 16, \"6\": 21, \"10\": 23, \"4\": 33, \"13\": 2, \"1\": 28, \"0\": 33, \"8\": 12, \"7\": 12, \"14\": 36, \"3\": 7, \"12\": 6, \"15\": 7, \"11\": 1, \"5\": 2, \"2\": 1}, \"15\": {\"8\": 26, \"11\": 4, \"2\": 20, \"9\": 30, \"3\": 11, \"13\": 21, \"6\": 26, \"10\": 8, \"15\": 38, \"5\": 24, \"7\": 16, \"0\": 7, \"4\": 6, \"1\": 1, \"14\": 1, \"12\": 1}, \"13\": {\"13\": 70, \"8\": 5, \"7\": 6, \"11\": 12, \"9\": 24, \"3\": 12, \"6\": 12, \"15\": 27, \"5\": 51, \"2\": 15, \"0\": 1, \"12\": 3, \"10\": 2}, \"8\": {\"9\": 23, \"3\": 7, \"10\": 31, \"6\": 23, \"0\": 18, \"15\": 17, \"1\": 15, \"4\": 8, \"12\": 4, \"7\": 21, \"14\": 18, \"8\": 29, \"2\": 15, \"5\": 6, \"13\": 5}, \"3\": {\"8\": 8, \"4\": 17, \"7\": 31, \"15\": 14, \"3\": 46, \"14\": 13, \"2\": 37, \"9\": 13, \"5\": 27, \"13\": 13, \"6\": 6, \"0\": 4, \"10\": 5, \"1\": 6}, \"11\": {\"11\": 160, \"6\": 10, \"13\": 14, \"12\": 40, \"15\": 2, \"5\": 5, \"9\": 7, \"1\": 1, \"0\": 1}, \"4\": {\"0\": 29, \"1\": 40, \"15\": 9, \"14\": 21, \"12\": 5, \"4\": 28, \"10\": 19, \"7\": 28, \"3\": 16, \"6\": 11, \"8\": 20, \"9\": 11, \"2\": 2, \"5\": 1}, \"6\": {\"15\": 18, \"6\": 42, \"11\": 10, \"0\": 13, \"9\": 35, \"8\": 29, \"12\": 19, \"1\": 2, \"10\": 21, \"7\": 6, \"5\": 10, \"2\": 6, \"13\": 4, \"4\": 16, \"14\": 5, \"3\": 4}, \"7\": {\"8\": 21, \"0\": 19, \"10\": 20, \"7\": 32, \"2\": 25, \"3\": 27, \"5\": 19, \"13\": 2, \"15\": 14, \"9\": 15, \"6\": 4, \"4\": 16, \"12\": 1, \"1\": 13, \"14\": 12}, \"14\": {\"1\": 38, \"7\": 21, \"15\": 4, \"8\": 13, \"6\": 14, \"3\": 15, \"12\": 3, \"14\": 36, \"4\": 24, \"0\": 34, \"13\": 3, \"9\": 6, \"10\": 25, \"11\": 1, \"2\": 3}, \"2\": {\"7\": 29, \"2\": 38, \"15\": 21, \"3\": 48, \"8\": 18, \"1\": 6, \"9\": 19, \"5\": 29, \"6\": 8, \"4\": 4, \"13\": 13, \"0\": 4, \"10\": 3}, \"5\": {\"13\": 37, \"7\": 11, \"3\": 11, \"9\": 32, \"8\": 9, \"5\": 56, \"6\": 10, \"15\": 30, \"2\": 29, \"11\": 6, \"10\": 6, \"14\": 1, \"4\": 1, \"0\": 1}, \"9\": {\"3\": 14, \"9\": 39, \"1\": 5, \"6\": 26, \"13\": 16, \"4\": 10, \"0\": 10, \"14\": 8, \"5\": 19, \"7\": 12, \"10\": 13, \"15\": 22, \"2\": 15, \"8\": 23, \"11\": 3, \"12\": 5}}, \"O_20\": {\"5\": {\"3\": 17, \"5\": 26, \"12\": 20, \"1\": 25, \"0\": 49, \"8\": 13, \"4\": 8, \"9\": 20, \"2\": 10, \"13\": 9, \"10\": 5, \"15\": 24, \"7\": 6, \"14\": 4, \"6\": 4}, \"15\": {\"0\": 30, \"7\": 14, \"9\": 12, \"1\": 34, \"5\": 42, \"8\": 6, \"2\": 17, \"12\": 13, \"13\": 22, \"3\": 14, \"15\": 32, \"4\": 2, \"11\": 1, \"6\": 1}, \"9\": {\"7\": 27, \"13\": 19, \"9\": 30, \"6\": 12, \"0\": 11, \"15\": 22, \"12\": 23, \"14\": 9, \"4\": 5, \"1\": 16, \"11\": 8, \"2\": 22, \"5\": 10, \"10\": 4, \"3\": 17, \"8\": 5}, \"7\": {\"2\": 24, \"3\": 30, \"7\": 36, \"10\": 10, \"1\": 9, \"9\": 24, \"12\": 19, \"11\": 13, \"5\": 11, \"8\": 13, \"6\": 20, \"15\": 9, \"13\": 10, \"4\": 2, \"0\": 8, \"14\": 2}, \"3\": {\"11\": 3, \"6\": 20, \"2\": 14, \"13\": 8, \"7\": 15, \"8\": 17, \"3\": 26, \"5\": 22, \"4\": 16, \"12\": 19, \"9\": 16, \"10\": 18, \"0\": 14, \"1\": 21, \"15\": 8, \"14\": 3}, \"8\": {\"0\": 13, \"14\": 21, \"9\": 12, \"8\": 37, \"7\": 15, \"4\": 30, \"12\": 16, \"6\": 21, \"10\": 35, \"3\": 9, \"1\": 9, \"15\": 6, \"5\": 11, \"2\": 4, \"13\": 1}, \"4\": {\"14\": 21, \"2\": 5, \"1\": 19, \"10\": 22, \"0\": 19, \"6\": 17, \"8\": 25, \"7\": 10, \"12\": 14, \"11\": 2, \"4\": 49, \"3\": 13, \"5\": 15, \"9\": 5, \"15\": 4}, \"6\": {\"14\": 25, \"3\": 20, \"7\": 25, \"6\": 53, \"10\": 24, \"9\": 13, \"8\": 19, \"11\": 10, \"12\": 10, \"2\": 8, \"13\": 5, \"0\": 3, \"1\": 8, \"4\": 10, \"5\": 5, \"15\": 2}, \"2\": {\"3\": 23, \"9\": 22, \"11\": 12, \"1\": 18, \"6\": 16, \"2\": 32, \"15\": 16, \"12\": 13, \"13\": 21, \"7\": 26, \"0\": 17, \"5\": 10, \"4\": 2, \"10\": 5, \"8\": 6, \"14\": 1}, \"12\": {\"7\": 22, \"1\": 23, \"0\": 34, \"12\": 27, \"8\": 9, \"2\": 20, \"5\": 26, \"9\": 19, \"4\": 8, \"15\": 17, \"11\": 1, \"3\": 16, \"6\": 8, \"13\": 6, \"14\": 4}, \"0\": {\"5\": 39, \"0\": 51, \"13\": 6, \"12\": 14, \"1\": 33, \"7\": 12, \"9\": 13, \"15\": 21, \"8\": 9, \"3\": 15, \"4\": 14, \"11\": 1, \"6\": 3, \"2\": 7, \"10\": 1, \"14\": 1}, \"13\": {\"13\": 59, \"9\": 19, \"11\": 28, \"15\": 37, \"0\": 10, \"2\": 22, \"1\": 10, \"5\": 10, \"6\": 5, \"3\": 12, \"7\": 19, \"4\": 1, \"10\": 1, \"12\": 7}, \"10\": {\"14\": 40, \"6\": 43, \"4\": 26, \"10\": 53, \"8\": 34, \"2\": 4, \"9\": 2, \"5\": 8, \"11\": 1, \"3\": 4, \"12\": 8, \"7\": 11, \"0\": 3, \"1\": 3}, \"11\": {\"11\": 131, \"13\": 41, \"7\": 16, \"12\": 6, \"15\": 6, \"9\": 13, \"2\": 14, \"6\": 7, \"3\": 3, \"5\": 1, \"0\": 1, \"1\": 1}, \"14\": {\"6\": 33, \"14\": 54, \"7\": 8, \"4\": 36, \"8\": 31, \"12\": 3, \"10\": 53, \"9\": 3, \"15\": 2, \"3\": 6, \"11\": 1, \"5\": 3, \"2\": 2, \"13\": 2, \"0\": 2, \"1\": 1}, \"1\": {\"3\": 21, \"1\": 31, \"5\": 33, \"0\": 39, \"2\": 14, \"9\": 13, \"8\": 7, \"12\": 21, \"7\": 11, \"15\": 22, \"10\": 4, \"4\": 5, \"13\": 11, \"14\": 2, \"11\": 2, \"6\": 4}}, \"O_50\": {\"1\": {\"6\": 24, \"1\": 70, \"11\": 21, \"15\": 49, \"0\": 11, \"5\": 11, \"2\": 6, \"7\": 2, \"10\": 3, \"4\": 31, \"13\": 6, \"14\": 5, \"9\": 1}, \"2\": {\"2\": 129, \"5\": 2, \"0\": 62, \"14\": 31, \"10\": 7, \"4\": 1, \"12\": 3, \"8\": 1, \"6\": 1, \"1\": 3}, \"8\": {\"3\": 38, \"8\": 137, \"10\": 48, \"7\": 4, \"0\": 8, \"13\": 4, \"5\": 1}, \"7\": {\"13\": 43, \"7\": 93, \"5\": 34, \"3\": 10, \"10\": 18, \"4\": 4, \"6\": 19, \"8\": 16, \"1\": 2, \"15\": 1}, \"14\": {\"14\": 104, \"11\": 13, \"12\": 57, \"2\": 26, \"9\": 20, \"15\": 5, \"0\": 6, \"1\": 8, \"4\": 1}, \"6\": {\"13\": 37, \"7\": 18, \"6\": 42, \"1\": 20, \"10\": 15, \"4\": 27, \"15\": 24, \"5\": 43, \"0\": 9, \"11\": 1, \"14\": 3, \"8\": 1}, \"3\": {\"3\": 195, \"10\": 9, \"8\": 32, \"7\": 4}, \"4\": {\"5\": 26, \"6\": 25, \"1\": 54, \"4\": 37, \"7\": 16, \"14\": 1, \"15\": 45, \"10\": 2, \"11\": 15, \"13\": 14, \"9\": 1, \"2\": 2, \"0\": 2}, \"12\": {\"12\": 141, \"14\": 49, \"11\": 8, \"9\": 39, \"2\": 3}, \"15\": {\"4\": 42, \"15\": 91, \"7\": 6, \"5\": 12, \"1\": 41, \"6\": 17, \"14\": 5, \"9\": 4, \"11\": 12, \"13\": 7, \"0\": 2, \"10\": 1}, \"11\": {\"1\": 30, \"11\": 97, \"14\": 23, \"9\": 51, \"2\": 1, \"15\": 22, \"12\": 5, \"0\": 2, \"4\": 8, \"5\": 1}, \"0\": {\"0\": 106, \"10\": 41, \"2\": 57, \"5\": 2, \"6\": 3, \"8\": 5, \"14\": 14, \"13\": 2, \"15\": 2, \"1\": 4, \"7\": 2, \"11\": 2}, \"9\": {\"9\": 101, \"11\": 49, \"14\": 29, \"12\": 55, \"6\": 1, \"1\": 1, \"4\": 1, \"15\": 2, \"5\": 1}, \"10\": {\"10\": 78, \"13\": 29, \"5\": 11, \"8\": 41, \"3\": 9, \"7\": 15, \"0\": 31, \"6\": 13, \"15\": 1, \"2\": 8, \"1\": 2, \"4\": 2}, \"5\": {\"1\": 17, \"15\": 15, \"10\": 13, \"5\": 47, \"7\": 50, \"4\": 18, \"6\": 26, \"8\": 3, \"3\": 4, \"13\": 43, \"0\": 2, \"2\": 1, \"9\": 1}, \"13\": {\"5\": 38, \"6\": 33, \"10\": 28, \"1\": 10, \"7\": 48, \"4\": 16, \"8\": 4, \"13\": 45, \"15\": 14, \"0\": 3, \"3\": 1}}, \"O_32\": {\"2\": {\"14\": 9, \"4\": 49, \"9\": 14, \"5\": 13, \"0\": 26, \"7\": 22, \"2\": 87, \"13\": 11, \"8\": 4, \"11\": 4, \"3\": 1}, \"6\": {\"6\": 217, \"12\": 10, \"10\": 4, \"9\": 7, \"1\": 2}, \"5\": {\"11\": 8, \"7\": 25, \"3\": 22, \"0\": 39, \"4\": 25, \"13\": 30, \"2\": 10, \"8\": 32, \"5\": 34, \"14\": 14, \"9\": 1}, \"12\": {\"12\": 203, \"6\": 14, \"9\": 18, \"10\": 5}, \"13\": {\"7\": 22, \"2\": 14, \"8\": 29, \"13\": 46, \"4\": 22, \"11\": 8, \"14\": 10, \"0\": 30, \"3\": 33, \"5\": 25, \"9\": 1}, \"9\": {\"9\": 184, \"12\": 33, \"4\": 3, \"2\": 16, \"7\": 1, \"13\": 1, \"6\": 2}, \"11\": {\"14\": 50, \"11\": 106, \"0\": 6, \"2\": 7, \"7\": 34, \"3\": 15, \"13\": 5, \"5\": 10, \"8\": 3, \"4\": 4}, \"1\": {\"1\": 182, \"10\": 57, \"6\": 1}, \"3\": {\"3\": 129, \"8\": 36, \"11\": 10, \"14\": 12, \"13\": 18, \"7\": 6, \"5\": 19, \"15\": 3, \"4\": 3, \"0\": 4}, \"7\": {\"2\": 33, \"14\": 32, \"7\": 45, \"5\": 25, \"11\": 34, \"13\": 22, \"0\": 14, \"8\": 5, \"4\": 22, \"3\": 7, \"9\": 1}, \"14\": {\"11\": 76, \"7\": 30, \"0\": 16, \"14\": 57, \"13\": 11, \"3\": 11, \"2\": 14, \"5\": 7, \"4\": 13, \"8\": 5}, \"8\": {\"8\": 70, \"13\": 30, \"0\": 29, \"15\": 9, \"2\": 10, \"3\": 43, \"4\": 15, \"5\": 23, \"14\": 4, \"7\": 7}, \"4\": {\"2\": 52, \"7\": 29, \"4\": 43, \"5\": 25, \"0\": 33, \"13\": 35, \"14\": 8, \"8\": 7, \"11\": 5, \"9\": 2, \"3\": 1}, \"0\": {\"2\": 39, \"0\": 37, \"5\": 22, \"8\": 34, \"7\": 24, \"4\": 35, \"14\": 5, \"13\": 31, \"9\": 3, \"11\": 3, \"3\": 7}, \"10\": {\"10\": 178, \"6\": 2, \"1\": 50, \"12\": 10}, \"15\": {\"15\": 215, \"8\": 12, \"3\": 10, \"5\": 2, \"13\": 1}}, \"O_44\": {\"13\": {\"9\": 33, \"7\": 25, \"13\": 73, \"6\": 45, \"11\": 44, \"4\": 11, \"14\": 3, \"2\": 6}, \"4\": {\"4\": 98, \"14\": 74, \"5\": 18, \"9\": 7, \"15\": 20, \"13\": 8, \"0\": 10, \"7\": 3, \"8\": 1, \"3\": 1}, \"6\": {\"6\": 68, \"7\": 10, \"13\": 74, \"11\": 56, \"9\": 22, \"2\": 9, \"4\": 1}, \"0\": {\"0\": 76, \"5\": 21, \"15\": 54, \"8\": 70, \"14\": 12, \"4\": 7}, \"10\": {\"10\": 87, \"1\": 35, \"2\": 35, \"12\": 42, \"3\": 11, \"7\": 27, \"9\": 2, \"6\": 1}, \"7\": {\"7\": 75, \"2\": 59, \"6\": 17, \"3\": 1, \"1\": 8, \"9\": 39, \"13\": 21, \"10\": 14, \"4\": 2, \"11\": 4}, \"14\": {\"15\": 37, \"14\": 65, \"4\": 73, \"5\": 37, \"8\": 4, \"0\": 18, \"9\": 5, \"11\": 1}, \"15\": {\"15\": 95, \"4\": 16, \"14\": 32, \"8\": 32, \"0\": 51, \"5\": 14}, \"5\": {\"14\": 27, \"5\": 108, \"0\": 46, \"4\": 16, \"8\": 19, \"15\": 24}, \"2\": {\"10\": 58, \"7\": 52, \"2\": 70, \"6\": 3, \"1\": 12, \"9\": 27, \"13\": 3, \"12\": 9, \"3\": 5, \"11\": 1}, \"9\": {\"7\": 44, \"4\": 14, \"9\": 60, \"11\": 12, \"13\": 40, \"2\": 32, \"6\": 25, \"14\": 6, \"3\": 1, \"10\": 5, \"12\": 1}, \"12\": {\"12\": 90, \"10\": 32, \"1\": 68, \"3\": 42, \"2\": 6, \"7\": 2}, \"8\": {\"0\": 81, \"8\": 104, \"4\": 4, \"15\": 36, \"5\": 10, \"14\": 5}, \"3\": {\"1\": 64, \"12\": 37, \"3\": 116, \"2\": 2, \"10\": 10, \"7\": 8, \"9\": 2, \"15\": 1}, \"1\": {\"12\": 69, \"3\": 69, \"10\": 20, \"1\": 59, \"2\": 15, \"7\": 8}, \"11\": {\"13\": 30, \"6\": 68, \"11\": 124, \"7\": 3, \"9\": 11, \"2\": 3, \"4\": 1}}, \"O_14\": {\"1\": {\"3\": 13, \"1\": 85, \"8\": 20, \"5\": 48, \"4\": 16, \"15\": 12, \"7\": 40, \"10\": 1, \"2\": 3, \"0\": 1, \"14\": 1}, \"15\": {\"1\": 21, \"7\": 53, \"15\": 133, \"5\": 18, \"4\": 10, \"2\": 4, \"13\": 1}, \"10\": {\"11\": 36, \"10\": 78, \"3\": 19, \"0\": 43, \"2\": 7, \"13\": 9, \"14\": 31, \"6\": 8, \"9\": 3, \"4\": 5, \"15\": 1}, \"2\": {\"4\": 31, \"2\": 52, \"14\": 28, \"10\": 13, \"5\": 23, \"13\": 17, \"6\": 26, \"3\": 31, \"1\": 2, \"0\": 7, \"15\": 8, \"7\": 1, \"9\": 1}, \"9\": {\"9\": 130, \"0\": 19, \"11\": 21, \"12\": 52, \"3\": 2, \"10\": 3, \"5\": 2, \"8\": 9, \"4\": 2}, \"5\": {\"6\": 6, \"4\": 43, \"7\": 18, \"1\": 46, \"5\": 51, \"3\": 19, \"2\": 19, \"14\": 4, \"15\": 20, \"10\": 1, \"8\": 5, \"13\": 5, \"0\": 3}, \"7\": {\"7\": 95, \"1\": 61, \"15\": 47, \"5\": 19, \"2\": 3, \"4\": 10, \"8\": 4, \"3\": 1}, \"13\": {\"13\": 74, \"14\": 42, \"7\": 1, \"6\": 58, \"10\": 17, \"2\": 21, \"4\": 8, \"0\": 6, \"11\": 1, \"15\": 1, \"3\": 6, \"5\": 4, \"1\": 1}, \"8\": {\"8\": 164, \"9\": 15, \"12\": 1, \"1\": 41, \"3\": 2, \"4\": 6, \"7\": 5, \"0\": 2, \"2\": 1, \"5\": 3}, \"6\": {\"14\": 39, \"6\": 71, \"13\": 64, \"0\": 6, \"10\": 18, \"2\": 27, \"15\": 4, \"3\": 4, \"4\": 6, \"5\": 1}, \"3\": {\"3\": 51, \"0\": 27, \"4\": 43, \"10\": 21, \"2\": 29, \"1\": 12, \"11\": 6, \"5\": 24, \"13\": 4, \"6\": 6, \"9\": 5, \"14\": 12}, \"12\": {\"12\": 169, \"9\": 61, \"11\": 6, \"0\": 4}, \"0\": {\"4\": 8, \"10\": 50, \"3\": 36, \"0\": 65, \"12\": 2, \"9\": 15, \"11\": 39, \"2\": 9, \"14\": 9, \"8\": 2, \"13\": 2, \"6\": 1, \"1\": 1, \"5\": 1}, \"4\": {\"1\": 26, \"3\": 42, \"2\": 17, \"4\": 51, \"6\": 6, \"9\": 1, \"13\": 17, \"5\": 48, \"0\": 14, \"8\": 2, \"7\": 5, \"10\": 3, \"14\": 3, \"15\": 4, \"11\": 1}, \"14\": {\"4\": 10, \"3\": 18, \"2\": 40, \"14\": 63, \"10\": 27, \"6\": 26, \"0\": 13, \"13\": 34, \"5\": 5, \"7\": 1, \"11\": 2, \"15\": 1}, \"11\": {\"11\": 117, \"0\": 35, \"10\": 48, \"12\": 12, \"3\": 8, \"9\": 14, \"13\": 1, \"4\": 1, \"14\": 3, \"6\": 1}}}, \"per_domain_accuracy\": {\"C_2\": {\"accuracy\": 0.9968039772727273, \"source?\": true}, \"C_5\": {\"accuracy\": 0.9908707865168539, \"source?\": true}, \"C_1\": {\"accuracy\": 0.9958791208791209, \"source?\": true}, \"C_4\": {\"accuracy\": 0.9947604790419161, \"source?\": true}, \"C_3\": {\"accuracy\": 0.9947002923976608, \"source?\": true}, \"O_8\": {\"accuracy\": 0.28177083333333336, \"source?\": false}, \"O_38\": {\"accuracy\": 0.42239583333333336, \"source?\": false}, \"O_26\": {\"accuracy\": 0.24010416666666667, \"source?\": false}, \"O_20\": {\"accuracy\": 0.18932291666666667, \"source?\": false}, \"O_50\": {\"accuracy\": 0.39401041666666664, \"source?\": false}, \"O_32\": {\"accuracy\": 0.47734375, \"source?\": false}, \"O_44\": {\"accuracy\": 0.35625, \"source?\": false}, \"O_14\": {\"accuracy\": 0.37734375, \"source?\": false}}}, \"history\": {\"epoch_indices\": [1, 2, 3, 4, 5], \"train_label_loss\": [0.05633734948579232, 0.012881426226223625, 0.008229125514142085, 0.004875453027540726, 0.004858131704863349], \"source_val_label_loss\": [0.025138787925243378, 0.01669648103415966, 0.008462470956146717, 0.008029432035982609, 0.007313329726457596], \"target_val_label_loss\": [1.927539348602295, 2.434244155883789, 1.9976468086242676, 2.1035635471343994, 2.1471798419952393], \"source_val_acc_label\": [0.9946009725400458, 0.9965317505720824, 0.9986770594965675, 0.9986055491990846, 0.9989273455377574], \"target_val_acc_label\": [0.34231770833333336, 0.2861328125, 0.33893229166666666, 0.33274739583333335, 0.3208984375]}, \"dataset_metrics\": {\"source\": {\"train\": {\"n_unique_x\": 175213, \"n_unique_y\": 58, \"n_batch/episode\": 6329}, \"val\": {\"n_unique_x\": 37135, \"n_unique_y\": 58, \"n_batch/episode\": 874}, \"test\": {\"n_unique_x\": 37673, \"n_unique_y\": 58, \"n_batch/episode\": 893}}, \"target\": {\"train\": {\"n_unique_x\": 179200, \"n_unique_y\": 16, \"n_batch/episode\": 6720}, \"val\": {\"n_unique_x\": 38400, \"n_unique_y\": 16, \"n_batch/episode\": 960}, \"test\": {\"n_unique_x\": 38400, \"n_unique_y\": 16, \"n_batch/episode\": 960}}}}'"
      ]
     },
     "execution_count": 29,
     "metadata": {},
     "output_type": "execute_result"
    }
   ],
   "source": [
    "json.dumps(experiment)"
   ]
  }
 ],
 "metadata": {
  "celltoolbar": "Tags",
  "kernelspec": {
   "display_name": "Python 3 (ipykernel)",
   "language": "python",
   "name": "python3"
  },
  "language_info": {
   "codemirror_mode": {
    "name": "ipython",
    "version": 3
   },
   "file_extension": ".py",
   "mimetype": "text/x-python",
   "name": "python",
   "nbconvert_exporter": "python",
   "pygments_lexer": "ipython3",
   "version": "3.8.12"
  },
  "papermill": {
   "default_parameters": {},
   "duration": 1059.413019,
   "end_time": "2022-03-28T07:59:12.812032",
   "environment_variables": {},
   "exception": null,
   "input_path": "/root/csc500-main/csc500-notebooks/templates/tl_ptn_template.ipynb",
   "output_path": "trial.ipynb",
   "parameters": {
    "parameters": {
     "BEST_MODEL_PATH": "./best_model.pth",
     "NUM_LOGS_PER_EPOCH": 10,
     "criteria_for_best": "target_accuracy",
     "dataset_seed": 154325,
     "datasets": [
      {
       "domain_prefix": "C_",
       "domains": [
        1,
        2,
        3,
        4,
        5
       ],
       "episode_transforms": [],
       "labels": [
        "1-10.",
        "1-11.",
        "1-15.",
        "1-16.",
        "1-17.",
        "1-18.",
        "1-19.",
        "10-4.",
        "10-7.",
        "11-1.",
        "11-14.",
        "11-17.",
        "11-20.",
        "11-7.",
        "13-20.",
        "13-8.",
        "14-10.",
        "14-11.",
        "14-14.",
        "14-7.",
        "15-1.",
        "15-20.",
        "16-1.",
        "16-16.",
        "17-10.",
        "17-11.",
        "17-2.",
        "19-1.",
        "19-16.",
        "19-19.",
        "19-20.",
        "19-3.",
        "2-10.",
        "2-11.",
        "2-17.",
        "2-18.",
        "2-20.",
        "2-3.",
        "2-4.",
        "2-5.",
        "2-6.",
        "2-7.",
        "2-8.",
        "3-13.",
        "3-18.",
        "3-3.",
        "4-1.",
        "4-10.",
        "4-11.",
        "4-19.",
        "5-5.",
        "6-15.",
        "7-10.",
        "7-14.",
        "8-18.",
        "8-20.",
        "8-3.",
        "8-8."
       ],
       "num_examples_per_domain_per_label": -1,
       "pickle_path": "/root/csc500-main/datasets/cores.stratified_ds.2022A.pkl",
       "source_or_target_dataset": "source",
       "x_transforms": [
        "unit_mag",
        "jitter_256_10",
        "lowpass_+/-10MHz",
        "take_200"
       ]
      },
      {
       "domain_prefix": "O_",
       "domains": [
        32,
        38,
        8,
        44,
        14,
        50,
        20,
        26
       ],
       "episode_transforms": [],
       "labels": [
        "3123D52",
        "3123D65",
        "3123D79",
        "3123D80",
        "3123D54",
        "3123D70",
        "3123D7B",
        "3123D89",
        "3123D58",
        "3123D76",
        "3123D7D",
        "3123EFE",
        "3123D64",
        "3123D78",
        "3123D7E",
        "3124E4A"
       ],
       "num_examples_per_domain_per_label": 2000,
       "pickle_path": "/root/csc500-main/datasets/oracle.Run1_framed_2000Examples_stratified_ds.2022A.pkl",
       "source_or_target_dataset": "target",
       "x_transforms": [
        "unit_mag",
        "jitter_256_10",
        "take_200",
        "resample_20Msps_to_25Msps"
       ]
      }
     ],
     "device": "cuda",
     "experiment_name": "tl_3-jitter10v2:cores -> oracle.run1.framed",
     "lr": 0.0001,
     "n_epoch": 50,
     "n_query": 2,
     "n_shot": 3,
     "n_way": 16,
     "patience": 3,
     "seed": 154325,
     "test_k_factor": 2,
     "torch_default_dtype": "torch.float32",
     "train_k_factor": 3,
     "val_k_factor": 2,
     "x_net": [
      {
       "class": "nnReshape",
       "kargs": {
        "shape": [
         -1,
         1,
         2,
         256
        ]
       }
      },
      {
       "class": "Conv2d",
       "kargs": {
        "bias": false,
        "in_channels": 1,
        "kernel_size": [
         1,
         7
        ],
        "out_channels": 256,
        "padding": [
         0,
         3
        ]
       }
      },
      {
       "class": "ReLU",
       "kargs": {
        "inplace": true
       }
      },
      {
       "class": "BatchNorm2d",
       "kargs": {
        "num_features": 256
       }
      },
      {
       "class": "Conv2d",
       "kargs": {
        "bias": true,
        "in_channels": 256,
        "kernel_size": [
         2,
         7
        ],
        "out_channels": 80,
        "padding": [
         0,
         3
        ]
       }
      },
      {
       "class": "ReLU",
       "kargs": {
        "inplace": true
       }
      },
      {
       "class": "BatchNorm2d",
       "kargs": {
        "num_features": 80
       }
      },
      {
       "class": "Flatten",
       "kargs": {}
      },
      {
       "class": "Linear",
       "kargs": {
        "in_features": 20480,
        "out_features": 256
       }
      },
      {
       "class": "ReLU",
       "kargs": {
        "inplace": true
       }
      },
      {
       "class": "BatchNorm1d",
       "kargs": {
        "num_features": 256
       }
      },
      {
       "class": "Linear",
       "kargs": {
        "in_features": 256,
        "out_features": 256
       }
      }
     ],
     "x_shape": [
      2,
      256
     ]
    }
   },
   "start_time": "2022-03-28T07:41:33.399013",
   "version": "2.3.4"
  }
 },
 "nbformat": 4,
 "nbformat_minor": 5
}