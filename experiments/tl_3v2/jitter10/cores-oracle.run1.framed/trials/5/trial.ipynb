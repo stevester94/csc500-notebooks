{
 "cells": [
  {
   "cell_type": "markdown",
   "id": "9fea5f46",
   "metadata": {
    "papermill": {
     "duration": 0.027883,
     "end_time": "2022-03-28T07:20:46.997296",
     "exception": false,
     "start_time": "2022-03-28T07:20:46.969413",
     "status": "completed"
    },
    "tags": []
   },
   "source": [
    "# Transfer Learning Template"
   ]
  },
  {
   "cell_type": "code",
   "execution_count": 1,
   "id": "0902182a",
   "metadata": {
    "execution": {
     "iopub.execute_input": "2022-03-28T07:20:47.061005Z",
     "iopub.status.busy": "2022-03-28T07:20:47.060148Z",
     "iopub.status.idle": "2022-03-28T07:20:48.921059Z",
     "shell.execute_reply": "2022-03-28T07:20:48.920535Z"
    },
    "papermill": {
     "duration": 1.900029,
     "end_time": "2022-03-28T07:20:48.921169",
     "exception": false,
     "start_time": "2022-03-28T07:20:47.021140",
     "status": "completed"
    },
    "tags": []
   },
   "outputs": [],
   "source": [
    "%load_ext autoreload\n",
    "%autoreload 2\n",
    "%matplotlib inline\n",
    "\n",
    "    \n",
    "import os, json, sys, time, random\n",
    "import numpy as np\n",
    "import torch\n",
    "from torch.optim import Adam\n",
    "from  easydict import EasyDict\n",
    "import matplotlib.pyplot as plt\n",
    "\n",
    "from steves_models.steves_ptn import Steves_Prototypical_Network\n",
    "\n",
    "from steves_utils.lazy_iterable_wrapper import Lazy_Iterable_Wrapper\n",
    "from steves_utils.iterable_aggregator import Iterable_Aggregator\n",
    "from steves_utils.ptn_train_eval_test_jig import  PTN_Train_Eval_Test_Jig\n",
    "from steves_utils.torch_sequential_builder import build_sequential\n",
    "from steves_utils.torch_utils import get_dataset_metrics, ptn_confusion_by_domain_over_dataloader\n",
    "from steves_utils.utils_v2 import (per_domain_accuracy_from_confusion, get_datasets_base_path)\n",
    "from steves_utils.PTN.utils import independent_accuracy_assesment\n",
    "\n",
    "from torch.utils.data import DataLoader\n",
    "\n",
    "from steves_utils.stratified_dataset.episodic_accessor import Episodic_Accessor_Factory\n",
    "\n",
    "from steves_utils.ptn_do_report import (\n",
    "    get_loss_curve,\n",
    "    get_results_table,\n",
    "    get_parameters_table,\n",
    "    get_domain_accuracies,\n",
    ")\n",
    "\n",
    "from steves_utils.transforms import get_chained_transform"
   ]
  },
  {
   "cell_type": "markdown",
   "id": "41c840b4",
   "metadata": {
    "papermill": {
     "duration": 0.019544,
     "end_time": "2022-03-28T07:20:48.961139",
     "exception": false,
     "start_time": "2022-03-28T07:20:48.941595",
     "status": "completed"
    },
    "tags": []
   },
   "source": [
    "# Allowed Parameters\n",
    "These are allowed parameters, not defaults\n",
    "Each of these values need to be present in the injected parameters (the notebook will raise an exception if they are not present)\n",
    "\n",
    "Papermill uses the cell tag \"parameters\" to inject the real parameters below this cell.\n",
    "Enable tags to see what I mean"
   ]
  },
  {
   "cell_type": "code",
   "execution_count": 2,
   "id": "fd44eb83",
   "metadata": {
    "execution": {
     "iopub.execute_input": "2022-03-28T07:20:49.004055Z",
     "iopub.status.busy": "2022-03-28T07:20:49.003625Z",
     "iopub.status.idle": "2022-03-28T07:20:49.023303Z",
     "shell.execute_reply": "2022-03-28T07:20:49.022502Z"
    },
    "papermill": {
     "duration": 0.042692,
     "end_time": "2022-03-28T07:20:49.023457",
     "exception": false,
     "start_time": "2022-03-28T07:20:48.980765",
     "status": "completed"
    },
    "tags": []
   },
   "outputs": [],
   "source": [
    "required_parameters = {\n",
    "    \"experiment_name\",\n",
    "    \"lr\",\n",
    "    \"device\",\n",
    "    \"seed\",\n",
    "    \"dataset_seed\",\n",
    "    \"n_shot\",\n",
    "    \"n_query\",\n",
    "    \"n_way\",\n",
    "    \"train_k_factor\",\n",
    "    \"val_k_factor\",\n",
    "    \"test_k_factor\",\n",
    "    \"n_epoch\",\n",
    "    \"patience\",\n",
    "    \"criteria_for_best\",\n",
    "    \"x_net\",\n",
    "    \"datasets\",\n",
    "    \"torch_default_dtype\",\n",
    "    \"NUM_LOGS_PER_EPOCH\",\n",
    "    \"BEST_MODEL_PATH\",\n",
    "    \"x_shape\",\n",
    "}"
   ]
  },
  {
   "cell_type": "code",
   "execution_count": 3,
   "id": "fa3f0049",
   "metadata": {
    "execution": {
     "iopub.execute_input": "2022-03-28T07:20:49.083417Z",
     "iopub.status.busy": "2022-03-28T07:20:49.082492Z",
     "iopub.status.idle": "2022-03-28T07:20:49.102519Z",
     "shell.execute_reply": "2022-03-28T07:20:49.101703Z"
    },
    "papermill": {
     "duration": 0.05001,
     "end_time": "2022-03-28T07:20:49.102674",
     "exception": false,
     "start_time": "2022-03-28T07:20:49.052664",
     "status": "completed"
    },
    "tags": [
     "parameters"
    ]
   },
   "outputs": [],
   "source": [
    "from steves_utils.CORES.utils import (\n",
    "    ALL_NODES,\n",
    "    ALL_NODES_MINIMUM_1000_EXAMPLES,\n",
    "    ALL_DAYS\n",
    ")\n",
    "\n",
    "from steves_utils.ORACLE.utils_v2 import (\n",
    "    ALL_DISTANCES_FEET_NARROWED,\n",
    "    ALL_RUNS,\n",
    "    ALL_SERIAL_NUMBERS,\n",
    ")\n",
    "\n",
    "standalone_parameters = {}\n",
    "standalone_parameters[\"experiment_name\"] = \"STANDALONE PTN\"\n",
    "standalone_parameters[\"lr\"] = 0.001\n",
    "standalone_parameters[\"device\"] = \"cuda\"\n",
    "\n",
    "standalone_parameters[\"seed\"] = 1337\n",
    "standalone_parameters[\"dataset_seed\"] = 1337\n",
    "\n",
    "standalone_parameters[\"n_way\"] = 8\n",
    "standalone_parameters[\"n_shot\"] = 3\n",
    "standalone_parameters[\"n_query\"]  = 2\n",
    "standalone_parameters[\"train_k_factor\"] = 1\n",
    "standalone_parameters[\"val_k_factor\"] = 2\n",
    "standalone_parameters[\"test_k_factor\"] = 2\n",
    "\n",
    "\n",
    "standalone_parameters[\"n_epoch\"] = 50\n",
    "\n",
    "standalone_parameters[\"patience\"] = 10\n",
    "standalone_parameters[\"criteria_for_best\"] = \"source_loss\"\n",
    "\n",
    "standalone_parameters[\"datasets\"] = [\n",
    "    {\n",
    "        \"labels\": ALL_SERIAL_NUMBERS,\n",
    "        \"domains\": ALL_DISTANCES_FEET_NARROWED,\n",
    "        \"num_examples_per_domain_per_label\": 100,\n",
    "        \"pickle_path\": os.path.join(get_datasets_base_path(), \"oracle.Run1_framed_2000Examples_stratified_ds.2022A.pkl\"),\n",
    "        \"source_or_target_dataset\": \"source\",\n",
    "        \"x_transforms\": [\"unit_mag\", \"minus_two\"],\n",
    "        \"episode_transforms\": [],\n",
    "        \"domain_prefix\": \"ORACLE_\"\n",
    "    },\n",
    "    {\n",
    "        \"labels\": ALL_NODES,\n",
    "        \"domains\": ALL_DAYS,\n",
    "        \"num_examples_per_domain_per_label\": 100,\n",
    "        \"pickle_path\": os.path.join(get_datasets_base_path(), \"cores.stratified_ds.2022A.pkl\"),\n",
    "        \"source_or_target_dataset\": \"target\",\n",
    "        \"x_transforms\": [\"unit_power\", \"times_zero\"],\n",
    "        \"episode_transforms\": [],\n",
    "        \"domain_prefix\": \"CORES_\"\n",
    "    }   \n",
    "]\n",
    "\n",
    "standalone_parameters[\"torch_default_dtype\"] = \"torch.float32\" \n",
    "\n",
    "\n",
    "\n",
    "standalone_parameters[\"x_net\"] =     [\n",
    "    {\"class\": \"nnReshape\", \"kargs\": {\"shape\":[-1, 1, 2, 256]}},\n",
    "    {\"class\": \"Conv2d\", \"kargs\": { \"in_channels\":1, \"out_channels\":256, \"kernel_size\":(1,7), \"bias\":False, \"padding\":(0,3), },},\n",
    "    {\"class\": \"ReLU\", \"kargs\": {\"inplace\": True}},\n",
    "    {\"class\": \"BatchNorm2d\", \"kargs\": {\"num_features\":256}},\n",
    "\n",
    "    {\"class\": \"Conv2d\", \"kargs\": { \"in_channels\":256, \"out_channels\":80, \"kernel_size\":(2,7), \"bias\":True, \"padding\":(0,3), },},\n",
    "    {\"class\": \"ReLU\", \"kargs\": {\"inplace\": True}},\n",
    "    {\"class\": \"BatchNorm2d\", \"kargs\": {\"num_features\":80}},\n",
    "    {\"class\": \"Flatten\", \"kargs\": {}},\n",
    "\n",
    "    {\"class\": \"Linear\", \"kargs\": {\"in_features\": 80*256, \"out_features\": 256}}, # 80 units per IQ pair\n",
    "    {\"class\": \"ReLU\", \"kargs\": {\"inplace\": True}},\n",
    "    {\"class\": \"BatchNorm1d\", \"kargs\": {\"num_features\":256}},\n",
    "\n",
    "    {\"class\": \"Linear\", \"kargs\": {\"in_features\": 256, \"out_features\": 256}},\n",
    "]\n",
    "\n",
    "# Parameters relevant to results\n",
    "# These parameters will basically never need to change\n",
    "standalone_parameters[\"NUM_LOGS_PER_EPOCH\"] = 10\n",
    "standalone_parameters[\"BEST_MODEL_PATH\"] = \"./best_model.pth\"\n",
    "\n",
    "\n",
    "\n",
    "\n"
   ]
  },
  {
   "cell_type": "code",
   "execution_count": 4,
   "id": "acd94f1e",
   "metadata": {
    "execution": {
     "iopub.execute_input": "2022-03-28T07:20:49.157918Z",
     "iopub.status.busy": "2022-03-28T07:20:49.157253Z",
     "iopub.status.idle": "2022-03-28T07:20:49.176502Z",
     "shell.execute_reply": "2022-03-28T07:20:49.175702Z"
    },
    "papermill": {
     "duration": 0.048661,
     "end_time": "2022-03-28T07:20:49.176654",
     "exception": false,
     "start_time": "2022-03-28T07:20:49.127993",
     "status": "completed"
    },
    "tags": [
     "injected-parameters"
    ]
   },
   "outputs": [],
   "source": [
    "# Parameters\n",
    "parameters = {\n",
    "    \"experiment_name\": \"tl_3-jitter10v2:cores -> oracle.run1.framed\",\n",
    "    \"device\": \"cuda\",\n",
    "    \"lr\": 0.0001,\n",
    "    \"x_shape\": [2, 256],\n",
    "    \"n_shot\": 3,\n",
    "    \"n_query\": 2,\n",
    "    \"train_k_factor\": 3,\n",
    "    \"val_k_factor\": 2,\n",
    "    \"test_k_factor\": 2,\n",
    "    \"torch_default_dtype\": \"torch.float32\",\n",
    "    \"n_epoch\": 50,\n",
    "    \"patience\": 3,\n",
    "    \"criteria_for_best\": \"target_accuracy\",\n",
    "    \"x_net\": [\n",
    "        {\"class\": \"nnReshape\", \"kargs\": {\"shape\": [-1, 1, 2, 256]}},\n",
    "        {\n",
    "            \"class\": \"Conv2d\",\n",
    "            \"kargs\": {\n",
    "                \"in_channels\": 1,\n",
    "                \"out_channels\": 256,\n",
    "                \"kernel_size\": [1, 7],\n",
    "                \"bias\": False,\n",
    "                \"padding\": [0, 3],\n",
    "            },\n",
    "        },\n",
    "        {\"class\": \"ReLU\", \"kargs\": {\"inplace\": True}},\n",
    "        {\"class\": \"BatchNorm2d\", \"kargs\": {\"num_features\": 256}},\n",
    "        {\n",
    "            \"class\": \"Conv2d\",\n",
    "            \"kargs\": {\n",
    "                \"in_channels\": 256,\n",
    "                \"out_channels\": 80,\n",
    "                \"kernel_size\": [2, 7],\n",
    "                \"bias\": True,\n",
    "                \"padding\": [0, 3],\n",
    "            },\n",
    "        },\n",
    "        {\"class\": \"ReLU\", \"kargs\": {\"inplace\": True}},\n",
    "        {\"class\": \"BatchNorm2d\", \"kargs\": {\"num_features\": 80}},\n",
    "        {\"class\": \"Flatten\", \"kargs\": {}},\n",
    "        {\"class\": \"Linear\", \"kargs\": {\"in_features\": 20480, \"out_features\": 256}},\n",
    "        {\"class\": \"ReLU\", \"kargs\": {\"inplace\": True}},\n",
    "        {\"class\": \"BatchNorm1d\", \"kargs\": {\"num_features\": 256}},\n",
    "        {\"class\": \"Linear\", \"kargs\": {\"in_features\": 256, \"out_features\": 256}},\n",
    "    ],\n",
    "    \"NUM_LOGS_PER_EPOCH\": 10,\n",
    "    \"BEST_MODEL_PATH\": \"./best_model.pth\",\n",
    "    \"n_way\": 16,\n",
    "    \"datasets\": [\n",
    "        {\n",
    "            \"labels\": [\n",
    "                \"1-10.\",\n",
    "                \"1-11.\",\n",
    "                \"1-15.\",\n",
    "                \"1-16.\",\n",
    "                \"1-17.\",\n",
    "                \"1-18.\",\n",
    "                \"1-19.\",\n",
    "                \"10-4.\",\n",
    "                \"10-7.\",\n",
    "                \"11-1.\",\n",
    "                \"11-14.\",\n",
    "                \"11-17.\",\n",
    "                \"11-20.\",\n",
    "                \"11-7.\",\n",
    "                \"13-20.\",\n",
    "                \"13-8.\",\n",
    "                \"14-10.\",\n",
    "                \"14-11.\",\n",
    "                \"14-14.\",\n",
    "                \"14-7.\",\n",
    "                \"15-1.\",\n",
    "                \"15-20.\",\n",
    "                \"16-1.\",\n",
    "                \"16-16.\",\n",
    "                \"17-10.\",\n",
    "                \"17-11.\",\n",
    "                \"17-2.\",\n",
    "                \"19-1.\",\n",
    "                \"19-16.\",\n",
    "                \"19-19.\",\n",
    "                \"19-20.\",\n",
    "                \"19-3.\",\n",
    "                \"2-10.\",\n",
    "                \"2-11.\",\n",
    "                \"2-17.\",\n",
    "                \"2-18.\",\n",
    "                \"2-20.\",\n",
    "                \"2-3.\",\n",
    "                \"2-4.\",\n",
    "                \"2-5.\",\n",
    "                \"2-6.\",\n",
    "                \"2-7.\",\n",
    "                \"2-8.\",\n",
    "                \"3-13.\",\n",
    "                \"3-18.\",\n",
    "                \"3-3.\",\n",
    "                \"4-1.\",\n",
    "                \"4-10.\",\n",
    "                \"4-11.\",\n",
    "                \"4-19.\",\n",
    "                \"5-5.\",\n",
    "                \"6-15.\",\n",
    "                \"7-10.\",\n",
    "                \"7-14.\",\n",
    "                \"8-18.\",\n",
    "                \"8-20.\",\n",
    "                \"8-3.\",\n",
    "                \"8-8.\",\n",
    "            ],\n",
    "            \"domains\": [1, 2, 3, 4, 5],\n",
    "            \"num_examples_per_domain_per_label\": -1,\n",
    "            \"pickle_path\": \"/root/csc500-main/datasets/cores.stratified_ds.2022A.pkl\",\n",
    "            \"source_or_target_dataset\": \"source\",\n",
    "            \"x_transforms\": [\"jitter_256_10\", \"lowpass_+/-10MHz\", \"take_200\"],\n",
    "            \"episode_transforms\": [],\n",
    "            \"domain_prefix\": \"C_\",\n",
    "        },\n",
    "        {\n",
    "            \"labels\": [\n",
    "                \"3123D52\",\n",
    "                \"3123D65\",\n",
    "                \"3123D79\",\n",
    "                \"3123D80\",\n",
    "                \"3123D54\",\n",
    "                \"3123D70\",\n",
    "                \"3123D7B\",\n",
    "                \"3123D89\",\n",
    "                \"3123D58\",\n",
    "                \"3123D76\",\n",
    "                \"3123D7D\",\n",
    "                \"3123EFE\",\n",
    "                \"3123D64\",\n",
    "                \"3123D78\",\n",
    "                \"3123D7E\",\n",
    "                \"3124E4A\",\n",
    "            ],\n",
    "            \"domains\": [32, 38, 8, 44, 14, 50, 20, 26],\n",
    "            \"num_examples_per_domain_per_label\": 2000,\n",
    "            \"pickle_path\": \"/root/csc500-main/datasets/oracle.Run1_framed_2000Examples_stratified_ds.2022A.pkl\",\n",
    "            \"source_or_target_dataset\": \"target\",\n",
    "            \"x_transforms\": [\"jitter_256_10\", \"take_200\", \"resample_20Msps_to_25Msps\"],\n",
    "            \"episode_transforms\": [],\n",
    "            \"domain_prefix\": \"O_\",\n",
    "        },\n",
    "    ],\n",
    "    \"seed\": 420,\n",
    "    \"dataset_seed\": 420,\n",
    "}\n"
   ]
  },
  {
   "cell_type": "code",
   "execution_count": 5,
   "id": "8fa1cc33",
   "metadata": {
    "execution": {
     "iopub.execute_input": "2022-03-28T07:20:49.228339Z",
     "iopub.status.busy": "2022-03-28T07:20:49.227844Z",
     "iopub.status.idle": "2022-03-28T07:20:49.246022Z",
     "shell.execute_reply": "2022-03-28T07:20:49.245209Z"
    },
    "papermill": {
     "duration": 0.041399,
     "end_time": "2022-03-28T07:20:49.246178",
     "exception": false,
     "start_time": "2022-03-28T07:20:49.204779",
     "status": "completed"
    },
    "tags": []
   },
   "outputs": [],
   "source": [
    "# Set this to True if you want to run this template directly\n",
    "STANDALONE = False\n",
    "if STANDALONE:\n",
    "    print(\"parameters not injected, running with standalone_parameters\")\n",
    "    parameters = standalone_parameters\n",
    "\n",
    "if not 'parameters' in locals() and not 'parameters' in globals():\n",
    "    raise Exception(\"Parameter injection failed\")\n",
    "\n",
    "#Use an easy dict for all the parameters\n",
    "p = EasyDict(parameters)\n",
    "\n",
    "if \"x_shape\" not in p:\n",
    "    p.x_shape = [2,256] # Default to this if we dont supply x_shape\n",
    "\n",
    "\n",
    "supplied_keys = set(p.keys())\n",
    "\n",
    "if  supplied_keys != required_parameters:\n",
    "    print(\"Parameters are incorrect\")\n",
    "    if len(supplied_keys - required_parameters)>0: print(\"Shouldn't have:\", str(supplied_keys - required_parameters))\n",
    "    if len(required_parameters - supplied_keys)>0: print(\"Need to have:\", str(required_parameters - supplied_keys))\n",
    "    raise RuntimeError(\"Parameters are incorrect\")"
   ]
  },
  {
   "cell_type": "code",
   "execution_count": 6,
   "id": "3a028d58",
   "metadata": {
    "execution": {
     "iopub.execute_input": "2022-03-28T07:20:49.296468Z",
     "iopub.status.busy": "2022-03-28T07:20:49.295910Z",
     "iopub.status.idle": "2022-03-28T07:20:49.319197Z",
     "shell.execute_reply": "2022-03-28T07:20:49.318510Z"
    },
    "papermill": {
     "duration": 0.047406,
     "end_time": "2022-03-28T07:20:49.319360",
     "exception": false,
     "start_time": "2022-03-28T07:20:49.271954",
     "status": "completed"
    },
    "tags": []
   },
   "outputs": [],
   "source": [
    "###################################\n",
    "# Set the RNGs and make it all deterministic\n",
    "###################################\n",
    "np.random.seed(p.seed)\n",
    "random.seed(p.seed)\n",
    "torch.manual_seed(p.seed)\n",
    "\n",
    "torch.use_deterministic_algorithms(True) "
   ]
  },
  {
   "cell_type": "code",
   "execution_count": 7,
   "id": "b691acf6",
   "metadata": {
    "execution": {
     "iopub.execute_input": "2022-03-28T07:20:49.373114Z",
     "iopub.status.busy": "2022-03-28T07:20:49.372528Z",
     "iopub.status.idle": "2022-03-28T07:20:49.396181Z",
     "shell.execute_reply": "2022-03-28T07:20:49.395342Z"
    },
    "papermill": {
     "duration": 0.047631,
     "end_time": "2022-03-28T07:20:49.396350",
     "exception": false,
     "start_time": "2022-03-28T07:20:49.348719",
     "status": "completed"
    },
    "tags": []
   },
   "outputs": [],
   "source": [
    "###########################################\n",
    "# The stratified datasets honor this\n",
    "###########################################\n",
    "torch.set_default_dtype(eval(p.torch_default_dtype))"
   ]
  },
  {
   "cell_type": "code",
   "execution_count": 8,
   "id": "b5fba671",
   "metadata": {
    "execution": {
     "iopub.execute_input": "2022-03-28T07:20:49.447858Z",
     "iopub.status.busy": "2022-03-28T07:20:49.446195Z",
     "iopub.status.idle": "2022-03-28T07:20:49.500000Z",
     "shell.execute_reply": "2022-03-28T07:20:49.499280Z"
    },
    "papermill": {
     "duration": 0.078797,
     "end_time": "2022-03-28T07:20:49.500155",
     "exception": false,
     "start_time": "2022-03-28T07:20:49.421358",
     "status": "completed"
    },
    "tags": []
   },
   "outputs": [],
   "source": [
    "###################################\n",
    "# Build the network(s)\n",
    "# Note: It's critical to do this AFTER setting the RNG\n",
    "###################################\n",
    "x_net = build_sequential(p.x_net)"
   ]
  },
  {
   "cell_type": "code",
   "execution_count": 9,
   "id": "5d7e61cc",
   "metadata": {
    "execution": {
     "iopub.execute_input": "2022-03-28T07:20:49.550719Z",
     "iopub.status.busy": "2022-03-28T07:20:49.550161Z",
     "iopub.status.idle": "2022-03-28T07:20:49.575597Z",
     "shell.execute_reply": "2022-03-28T07:20:49.574751Z"
    },
    "papermill": {
     "duration": 0.050479,
     "end_time": "2022-03-28T07:20:49.575753",
     "exception": false,
     "start_time": "2022-03-28T07:20:49.525274",
     "status": "completed"
    },
    "tags": []
   },
   "outputs": [],
   "source": [
    "start_time_secs = time.time()"
   ]
  },
  {
   "cell_type": "code",
   "execution_count": 10,
   "id": "c6b67dfd",
   "metadata": {
    "execution": {
     "iopub.execute_input": "2022-03-28T07:20:49.629709Z",
     "iopub.status.busy": "2022-03-28T07:20:49.629309Z",
     "iopub.status.idle": "2022-03-28T07:20:49.650281Z",
     "shell.execute_reply": "2022-03-28T07:20:49.649471Z"
    },
    "papermill": {
     "duration": 0.046844,
     "end_time": "2022-03-28T07:20:49.650436",
     "exception": false,
     "start_time": "2022-03-28T07:20:49.603592",
     "status": "completed"
    },
    "tags": []
   },
   "outputs": [],
   "source": [
    "p.domains_source = []\n",
    "p.domains_target = []\n",
    "\n",
    "\n",
    "train_original_source = []\n",
    "val_original_source   = []\n",
    "test_original_source  = []\n",
    "\n",
    "train_original_target = []\n",
    "val_original_target   = []\n",
    "test_original_target  = []"
   ]
  },
  {
   "cell_type": "code",
   "execution_count": 11,
   "id": "e3d9c3d3",
   "metadata": {
    "execution": {
     "iopub.execute_input": "2022-03-28T07:20:49.701666Z",
     "iopub.status.busy": "2022-03-28T07:20:49.700995Z",
     "iopub.status.idle": "2022-03-28T07:20:49.725976Z",
     "shell.execute_reply": "2022-03-28T07:20:49.725146Z"
    },
    "papermill": {
     "duration": 0.04914,
     "end_time": "2022-03-28T07:20:49.726131",
     "exception": false,
     "start_time": "2022-03-28T07:20:49.676991",
     "status": "completed"
    },
    "tags": []
   },
   "outputs": [],
   "source": [
    "# global_x_transform_func = lambda x: normalize(x.to(torch.get_default_dtype()), \"unit_power\") # unit_power, unit_mag\n",
    "# global_x_transform_func = lambda x: normalize(x, \"unit_power\") # unit_power, unit_mag"
   ]
  },
  {
   "cell_type": "code",
   "execution_count": 12,
   "id": "acb78fd2",
   "metadata": {
    "execution": {
     "iopub.execute_input": "2022-03-28T07:20:49.786199Z",
     "iopub.status.busy": "2022-03-28T07:20:49.785337Z",
     "iopub.status.idle": "2022-03-28T07:20:49.803462Z",
     "shell.execute_reply": "2022-03-28T07:20:49.802656Z"
    },
    "papermill": {
     "duration": 0.051392,
     "end_time": "2022-03-28T07:20:49.803634",
     "exception": false,
     "start_time": "2022-03-28T07:20:49.752242",
     "status": "completed"
    },
    "tags": []
   },
   "outputs": [],
   "source": [
    "def add_dataset(\n",
    "    labels,\n",
    "    domains,\n",
    "    pickle_path,\n",
    "    x_transforms,\n",
    "    episode_transforms,\n",
    "    domain_prefix,\n",
    "    num_examples_per_domain_per_label,\n",
    "    source_or_target_dataset:str,\n",
    "    iterator_seed=p.seed,\n",
    "    dataset_seed=p.dataset_seed,\n",
    "    n_shot=p.n_shot,\n",
    "    n_way=p.n_way,\n",
    "    n_query=p.n_query,\n",
    "    train_val_test_k_factors=(p.train_k_factor,p.val_k_factor,p.test_k_factor),\n",
    "):\n",
    "   \n",
    "    if x_transforms == []: x_transform = None\n",
    "    else: x_transform = get_chained_transform(x_transforms)\n",
    "    \n",
    "    if episode_transforms == []: episode_transform = None\n",
    "    else: raise Exception(\"episode_transforms not implemented\")\n",
    "    \n",
    "    episode_transform = lambda tup, _prefix=domain_prefix: (_prefix + str(tup[0]), tup[1])\n",
    "\n",
    "\n",
    "    eaf = Episodic_Accessor_Factory(\n",
    "        labels=labels,\n",
    "        domains=domains,\n",
    "        num_examples_per_domain_per_label=num_examples_per_domain_per_label,\n",
    "        iterator_seed=iterator_seed,\n",
    "        dataset_seed=dataset_seed,\n",
    "        n_shot=n_shot,\n",
    "        n_way=n_way,\n",
    "        n_query=n_query,\n",
    "        train_val_test_k_factors=train_val_test_k_factors,\n",
    "        pickle_path=pickle_path,\n",
    "        x_transform_func=x_transform,\n",
    "    )\n",
    "\n",
    "    train, val, test = eaf.get_train(), eaf.get_val(), eaf.get_test()\n",
    "    train = Lazy_Iterable_Wrapper(train, episode_transform)\n",
    "    val = Lazy_Iterable_Wrapper(val, episode_transform)\n",
    "    test = Lazy_Iterable_Wrapper(test, episode_transform)\n",
    "\n",
    "    if source_or_target_dataset==\"source\":\n",
    "        train_original_source.append(train)\n",
    "        val_original_source.append(val)\n",
    "        test_original_source.append(test)\n",
    "\n",
    "        p.domains_source.extend(\n",
    "            [domain_prefix + str(u) for u in domains]\n",
    "        )\n",
    "    elif source_or_target_dataset==\"target\":\n",
    "        train_original_target.append(train)\n",
    "        val_original_target.append(val)\n",
    "        test_original_target.append(test)\n",
    "        p.domains_target.extend(\n",
    "            [domain_prefix + str(u) for u in domains]\n",
    "        )\n",
    "    else:\n",
    "        raise Exception(f\"invalid source_or_target_dataset: {source_or_target_dataset}\")\n",
    "    "
   ]
  },
  {
   "cell_type": "code",
   "execution_count": 13,
   "id": "fe266617",
   "metadata": {
    "execution": {
     "iopub.execute_input": "2022-03-28T07:20:49.861474Z",
     "iopub.status.busy": "2022-03-28T07:20:49.860792Z",
     "iopub.status.idle": "2022-03-28T07:21:54.021039Z",
     "shell.execute_reply": "2022-03-28T07:21:54.020303Z"
    },
    "papermill": {
     "duration": 64.191622,
     "end_time": "2022-03-28T07:21:54.021227",
     "exception": false,
     "start_time": "2022-03-28T07:20:49.829605",
     "status": "completed"
    },
    "tags": []
   },
   "outputs": [],
   "source": [
    "for ds in p.datasets:\n",
    "    add_dataset(**ds)"
   ]
  },
  {
   "cell_type": "code",
   "execution_count": 14,
   "id": "b90d65ac",
   "metadata": {
    "execution": {
     "iopub.execute_input": "2022-03-28T07:21:54.072958Z",
     "iopub.status.busy": "2022-03-28T07:21:54.072384Z",
     "iopub.status.idle": "2022-03-28T07:21:54.095972Z",
     "shell.execute_reply": "2022-03-28T07:21:54.096617Z"
    },
    "papermill": {
     "duration": 0.049548,
     "end_time": "2022-03-28T07:21:54.096803",
     "exception": false,
     "start_time": "2022-03-28T07:21:54.047255",
     "status": "completed"
    },
    "tags": []
   },
   "outputs": [],
   "source": [
    "# from steves_utils.CORES.utils import (\n",
    "#     ALL_NODES,\n",
    "#     ALL_NODES_MINIMUM_1000_EXAMPLES,\n",
    "#     ALL_DAYS\n",
    "# )\n",
    "\n",
    "# add_dataset(\n",
    "#     labels=ALL_NODES,\n",
    "#     domains = ALL_DAYS,\n",
    "#     num_examples_per_domain_per_label=100,\n",
    "#     pickle_path=os.path.join(get_datasets_base_path(), \"cores.stratified_ds.2022A.pkl\"),\n",
    "#     source_or_target_dataset=\"target\",\n",
    "#     x_transform_func=global_x_transform_func,\n",
    "#     domain_modifier=lambda u: f\"cores_{u}\"\n",
    "# )"
   ]
  },
  {
   "cell_type": "code",
   "execution_count": 15,
   "id": "76db484d",
   "metadata": {
    "execution": {
     "iopub.execute_input": "2022-03-28T07:21:54.149573Z",
     "iopub.status.busy": "2022-03-28T07:21:54.148606Z",
     "iopub.status.idle": "2022-03-28T07:21:54.169649Z",
     "shell.execute_reply": "2022-03-28T07:21:54.168951Z"
    },
    "papermill": {
     "duration": 0.047371,
     "end_time": "2022-03-28T07:21:54.169815",
     "exception": false,
     "start_time": "2022-03-28T07:21:54.122444",
     "status": "completed"
    },
    "tags": []
   },
   "outputs": [],
   "source": [
    "# from steves_utils.ORACLE.utils_v2 import (\n",
    "#     ALL_DISTANCES_FEET,\n",
    "#     ALL_RUNS,\n",
    "#     ALL_SERIAL_NUMBERS,\n",
    "# )\n",
    "\n",
    "\n",
    "# add_dataset(\n",
    "#     labels=ALL_SERIAL_NUMBERS,\n",
    "#     domains = list(set(ALL_DISTANCES_FEET) - {2,62}),\n",
    "#     num_examples_per_domain_per_label=100,\n",
    "#     pickle_path=os.path.join(get_datasets_base_path(), \"oracle.Run2_framed_2000Examples_stratified_ds.2022A.pkl\"),\n",
    "#     source_or_target_dataset=\"source\",\n",
    "#     x_transform_func=global_x_transform_func,\n",
    "#     domain_modifier=lambda u: f\"oracle1_{u}\"\n",
    "# )\n"
   ]
  },
  {
   "cell_type": "code",
   "execution_count": 16,
   "id": "97dea9d2",
   "metadata": {
    "execution": {
     "iopub.execute_input": "2022-03-28T07:21:54.225860Z",
     "iopub.status.busy": "2022-03-28T07:21:54.224692Z",
     "iopub.status.idle": "2022-03-28T07:21:54.245541Z",
     "shell.execute_reply": "2022-03-28T07:21:54.244730Z"
    },
    "papermill": {
     "duration": 0.046229,
     "end_time": "2022-03-28T07:21:54.245698",
     "exception": false,
     "start_time": "2022-03-28T07:21:54.199469",
     "status": "completed"
    },
    "tags": []
   },
   "outputs": [],
   "source": [
    "# from steves_utils.ORACLE.utils_v2 import (\n",
    "#     ALL_DISTANCES_FEET,\n",
    "#     ALL_RUNS,\n",
    "#     ALL_SERIAL_NUMBERS,\n",
    "# )\n",
    "\n",
    "\n",
    "# add_dataset(\n",
    "#     labels=ALL_SERIAL_NUMBERS,\n",
    "#     domains = list(set(ALL_DISTANCES_FEET) - {2,62,56}),\n",
    "#     num_examples_per_domain_per_label=100,\n",
    "#     pickle_path=os.path.join(get_datasets_base_path(), \"oracle.Run2_framed_2000Examples_stratified_ds.2022A.pkl\"),\n",
    "#     source_or_target_dataset=\"source\",\n",
    "#     x_transform_func=global_x_transform_func,\n",
    "#     domain_modifier=lambda u: f\"oracle2_{u}\"\n",
    "# )"
   ]
  },
  {
   "cell_type": "code",
   "execution_count": 17,
   "id": "6f289866",
   "metadata": {
    "execution": {
     "iopub.execute_input": "2022-03-28T07:21:54.297018Z",
     "iopub.status.busy": "2022-03-28T07:21:54.296382Z",
     "iopub.status.idle": "2022-03-28T07:21:54.313771Z",
     "shell.execute_reply": "2022-03-28T07:21:54.312952Z"
    },
    "papermill": {
     "duration": 0.041381,
     "end_time": "2022-03-28T07:21:54.313943",
     "exception": false,
     "start_time": "2022-03-28T07:21:54.272562",
     "status": "completed"
    },
    "tags": []
   },
   "outputs": [],
   "source": [
    "# add_dataset(\n",
    "#     labels=list(range(19)),\n",
    "#     domains = [0,1,2],\n",
    "#     num_examples_per_domain_per_label=100,\n",
    "#     pickle_path=os.path.join(get_datasets_base_path(), \"metehan.stratified_ds.2022A.pkl\"),\n",
    "#     source_or_target_dataset=\"target\",\n",
    "#     x_transform_func=global_x_transform_func,\n",
    "#     domain_modifier=lambda u: f\"met_{u}\"\n",
    "# )"
   ]
  },
  {
   "cell_type": "code",
   "execution_count": 18,
   "id": "86a863c3",
   "metadata": {
    "execution": {
     "iopub.execute_input": "2022-03-28T07:21:54.368559Z",
     "iopub.status.busy": "2022-03-28T07:21:54.366437Z",
     "iopub.status.idle": "2022-03-28T07:21:54.387734Z",
     "shell.execute_reply": "2022-03-28T07:21:54.386972Z"
    },
    "papermill": {
     "duration": 0.046733,
     "end_time": "2022-03-28T07:21:54.387887",
     "exception": false,
     "start_time": "2022-03-28T07:21:54.341154",
     "status": "completed"
    },
    "tags": []
   },
   "outputs": [],
   "source": [
    "# # from steves_utils.wisig.utils import (\n",
    "# #     ALL_NODES_MINIMUM_100_EXAMPLES,\n",
    "# #     ALL_NODES_MINIMUM_500_EXAMPLES,\n",
    "# #     ALL_NODES_MINIMUM_1000_EXAMPLES,\n",
    "# #     ALL_DAYS\n",
    "# # )\n",
    "\n",
    "# import steves_utils.wisig.utils as wisig\n",
    "\n",
    "\n",
    "# add_dataset(\n",
    "#     labels=wisig.ALL_NODES_MINIMUM_100_EXAMPLES,\n",
    "#     domains = wisig.ALL_DAYS,\n",
    "#     num_examples_per_domain_per_label=100,\n",
    "#     pickle_path=os.path.join(get_datasets_base_path(), \"wisig.node3-19.stratified_ds.2022A.pkl\"),\n",
    "#     source_or_target_dataset=\"target\",\n",
    "#     x_transform_func=global_x_transform_func,\n",
    "#     domain_modifier=lambda u: f\"wisig_{u}\"\n",
    "# )"
   ]
  },
  {
   "cell_type": "code",
   "execution_count": 19,
   "id": "fd5442bc",
   "metadata": {
    "execution": {
     "iopub.execute_input": "2022-03-28T07:21:54.446066Z",
     "iopub.status.busy": "2022-03-28T07:21:54.445682Z",
     "iopub.status.idle": "2022-03-28T07:21:54.469055Z",
     "shell.execute_reply": "2022-03-28T07:21:54.468267Z"
    },
    "papermill": {
     "duration": 0.051026,
     "end_time": "2022-03-28T07:21:54.469211",
     "exception": false,
     "start_time": "2022-03-28T07:21:54.418185",
     "status": "completed"
    },
    "tags": []
   },
   "outputs": [],
   "source": [
    "###################################\n",
    "# Build the dataset\n",
    "###################################\n",
    "train_original_source = Iterable_Aggregator(train_original_source, p.seed)\n",
    "val_original_source = Iterable_Aggregator(val_original_source, p.seed)\n",
    "test_original_source = Iterable_Aggregator(test_original_source, p.seed)\n",
    "\n",
    "\n",
    "train_original_target = Iterable_Aggregator(train_original_target, p.seed)\n",
    "val_original_target = Iterable_Aggregator(val_original_target, p.seed)\n",
    "test_original_target = Iterable_Aggregator(test_original_target, p.seed)\n",
    "\n",
    "# For CNN We only use X and Y. And we only train on the source.\n",
    "# Properly form the data using a transform lambda and Lazy_Iterable_Wrapper. Finally wrap them in a dataloader\n",
    "\n",
    "transform_lambda = lambda ex: ex[1] # Original is (<domain>, <episode>) so we strip down to episode only\n",
    "\n",
    "train_processed_source = Lazy_Iterable_Wrapper(train_original_source, transform_lambda)\n",
    "val_processed_source   = Lazy_Iterable_Wrapper(val_original_source, transform_lambda)\n",
    "test_processed_source  = Lazy_Iterable_Wrapper(test_original_source, transform_lambda)\n",
    "\n",
    "train_processed_target = Lazy_Iterable_Wrapper(train_original_target, transform_lambda)\n",
    "val_processed_target   = Lazy_Iterable_Wrapper(val_original_target, transform_lambda)\n",
    "test_processed_target  = Lazy_Iterable_Wrapper(test_original_target, transform_lambda)\n",
    "\n",
    "datasets = EasyDict({\n",
    "    \"source\": {\n",
    "        \"original\": {\"train\":train_original_source, \"val\":val_original_source, \"test\":test_original_source},\n",
    "        \"processed\": {\"train\":train_processed_source, \"val\":val_processed_source, \"test\":test_processed_source}\n",
    "    },\n",
    "    \"target\": {\n",
    "        \"original\": {\"train\":train_original_target, \"val\":val_original_target, \"test\":test_original_target},\n",
    "        \"processed\": {\"train\":train_processed_target, \"val\":val_processed_target, \"test\":test_processed_target}\n",
    "    },\n",
    "})"
   ]
  },
  {
   "cell_type": "code",
   "execution_count": 20,
   "id": "5b3c01fc",
   "metadata": {
    "execution": {
     "iopub.execute_input": "2022-03-28T07:21:54.529907Z",
     "iopub.status.busy": "2022-03-28T07:21:54.528146Z",
     "iopub.status.idle": "2022-03-28T07:22:08.903618Z",
     "shell.execute_reply": "2022-03-28T07:22:08.902752Z"
    },
    "papermill": {
     "duration": 14.404625,
     "end_time": "2022-03-28T07:22:08.903798",
     "exception": false,
     "start_time": "2022-03-28T07:21:54.499173",
     "status": "completed"
    },
    "tags": []
   },
   "outputs": [
    {
     "name": "stdout",
     "output_type": "stream",
     "text": [
      "{'C_3', 'C_1', 'C_5', 'C_4', 'C_2'}\n"
     ]
    },
    {
     "name": "stdout",
     "output_type": "stream",
     "text": [
      "{'O_20', 'O_8', 'O_50', 'O_44', 'O_14', 'O_38', 'O_32', 'O_26'}\n"
     ]
    },
    {
     "name": "stdout",
     "output_type": "stream",
     "text": [
      "tensor([[[0., 0., 0.,  ..., 0., 0., 0.],\n",
      "         [0., 0., 0.,  ..., 0., 0., 0.]],\n",
      "\n",
      "        [[0., 0., 0.,  ..., 0., 0., 0.],\n",
      "         [0., 0., 0.,  ..., 0., 0., 0.]],\n",
      "\n",
      "        [[0., 0., 0.,  ..., 0., 0., 0.],\n",
      "         [0., 0., 0.,  ..., 0., 0., 0.]],\n",
      "\n",
      "        ...,\n",
      "\n",
      "        [[0., 0., 0.,  ..., 0., 0., 0.],\n",
      "         [0., 0., 0.,  ..., 0., 0., 0.]],\n",
      "\n",
      "        [[0., 0., 0.,  ..., 0., 0., 0.],\n",
      "         [0., 0., 0.,  ..., 0., 0., 0.]],\n",
      "\n",
      "        [[0., 0., 0.,  ..., 0., 0., 0.],\n",
      "         [0., 0., 0.,  ..., 0., 0., 0.]]])\n"
     ]
    }
   ],
   "source": [
    "from steves_utils.transforms import get_average_magnitude, get_average_power\n",
    "\n",
    "print(set([u for u,_ in val_original_source]))\n",
    "print(set([u for u,_ in val_original_target]))\n",
    "\n",
    "s_x, s_y, q_x, q_y, _ = next(iter(train_processed_source))\n",
    "print(s_x)\n",
    "\n",
    "# for ds in [\n",
    "#     train_processed_source,\n",
    "#     val_processed_source,\n",
    "#     test_processed_source,\n",
    "#     train_processed_target,\n",
    "#     val_processed_target,\n",
    "#     test_processed_target\n",
    "# ]:\n",
    "#     for s_x, s_y, q_x, q_y, _ in ds:\n",
    "#         for X in (s_x, q_x):\n",
    "#             for x in X:\n",
    "#                 assert np.isclose(get_average_magnitude(x.numpy()), 1.0)\n",
    "#                 assert np.isclose(get_average_power(x.numpy()), 1.0)\n",
    "                "
   ]
  },
  {
   "cell_type": "code",
   "execution_count": 21,
   "id": "bbdacba1",
   "metadata": {
    "execution": {
     "iopub.execute_input": "2022-03-28T07:22:08.957923Z",
     "iopub.status.busy": "2022-03-28T07:22:08.957000Z",
     "iopub.status.idle": "2022-03-28T07:22:09.171235Z",
     "shell.execute_reply": "2022-03-28T07:22:09.171952Z"
    },
    "papermill": {
     "duration": 0.241115,
     "end_time": "2022-03-28T07:22:09.172174",
     "exception": false,
     "start_time": "2022-03-28T07:22:08.931059",
     "status": "completed"
    },
    "tags": []
   },
   "outputs": [
    {
     "name": "stdout",
     "output_type": "stream",
     "text": [
      "(2, 256)\n"
     ]
    }
   ],
   "source": [
    "###################################\n",
    "# Build the model\n",
    "###################################\n",
    "# easfsl only wants a tuple for the shape\n",
    "model = Steves_Prototypical_Network(x_net, device=p.device, x_shape=tuple(p.x_shape))\n",
    "optimizer = Adam(params=model.parameters(), lr=p.lr)"
   ]
  },
  {
   "cell_type": "code",
   "execution_count": 22,
   "id": "22b39ac5",
   "metadata": {
    "execution": {
     "iopub.execute_input": "2022-03-28T07:22:09.230042Z",
     "iopub.status.busy": "2022-03-28T07:22:09.229677Z",
     "iopub.status.idle": "2022-03-28T07:39:10.346662Z",
     "shell.execute_reply": "2022-03-28T07:39:10.346326Z"
    },
    "papermill": {
     "duration": 1021.144693,
     "end_time": "2022-03-28T07:39:10.346743",
     "exception": false,
     "start_time": "2022-03-28T07:22:09.202050",
     "status": "completed"
    },
    "tags": []
   },
   "outputs": [
    {
     "name": "stdout",
     "output_type": "stream",
     "text": [
      "epoch: 1, [batch: 1 / 6315], examples_per_second: 34.1324, train_label_loss: 2.3155, \n"
     ]
    },
    {
     "name": "stdout",
     "output_type": "stream",
     "text": [
      "epoch: 1, [batch: 632 / 6315], examples_per_second: 4104.7792, train_label_loss: 0.0873, \n"
     ]
    },
    {
     "name": "stdout",
     "output_type": "stream",
     "text": [
      "epoch: 1, [batch: 1263 / 6315], examples_per_second: 4301.2951, train_label_loss: 0.1243, \n"
     ]
    },
    {
     "name": "stdout",
     "output_type": "stream",
     "text": [
      "epoch: 1, [batch: 1895 / 6315], examples_per_second: 3819.0539, train_label_loss: 0.0005, \n"
     ]
    },
    {
     "name": "stdout",
     "output_type": "stream",
     "text": [
      "epoch: 1, [batch: 2526 / 6315], examples_per_second: 3829.1786, train_label_loss: 0.0235, \n"
     ]
    },
    {
     "name": "stdout",
     "output_type": "stream",
     "text": [
      "epoch: 1, [batch: 3158 / 6315], examples_per_second: 3822.4721, train_label_loss: 0.0219, \n"
     ]
    },
    {
     "name": "stdout",
     "output_type": "stream",
     "text": [
      "epoch: 1, [batch: 3789 / 6315], examples_per_second: 3900.0791, train_label_loss: 0.0056, \n"
     ]
    },
    {
     "name": "stdout",
     "output_type": "stream",
     "text": [
      "epoch: 1, [batch: 4420 / 6315], examples_per_second: 3717.6430, train_label_loss: 0.0001, \n"
     ]
    },
    {
     "name": "stdout",
     "output_type": "stream",
     "text": [
      "epoch: 1, [batch: 5052 / 6315], examples_per_second: 3771.0585, train_label_loss: 0.0003, \n"
     ]
    },
    {
     "name": "stdout",
     "output_type": "stream",
     "text": [
      "epoch: 1, [batch: 5683 / 6315], examples_per_second: 3828.4092, train_label_loss: 0.0002, \n"
     ]
    },
    {
     "name": "stdout",
     "output_type": "stream",
     "text": [
      "=============================================================\n",
      "epoch: 1, source_val_acc_label: 0.9938, target_val_acc_label: 0.2603, source_val_label_loss: 0.5416, target_val_label_loss: 41.9257, \n",
      "=============================================================\n"
     ]
    },
    {
     "name": "stdout",
     "output_type": "stream",
     "text": [
      "New best\n"
     ]
    },
    {
     "name": "stdout",
     "output_type": "stream",
     "text": [
      "epoch: 2, [batch: 1 / 6307], examples_per_second: 4.1381, train_label_loss: 0.0191, \n"
     ]
    },
    {
     "name": "stdout",
     "output_type": "stream",
     "text": [
      "epoch: 2, [batch: 631 / 6307], examples_per_second: 4105.7993, train_label_loss: 0.0088, \n"
     ]
    },
    {
     "name": "stdout",
     "output_type": "stream",
     "text": [
      "epoch: 2, [batch: 1262 / 6307], examples_per_second: 4462.9935, train_label_loss: 0.0000, \n"
     ]
    },
    {
     "name": "stdout",
     "output_type": "stream",
     "text": [
      "epoch: 2, [batch: 1892 / 6307], examples_per_second: 3893.0618, train_label_loss: 0.0000, \n"
     ]
    },
    {
     "name": "stdout",
     "output_type": "stream",
     "text": [
      "epoch: 2, [batch: 2523 / 6307], examples_per_second: 3845.2648, train_label_loss: 0.0370, \n"
     ]
    },
    {
     "name": "stdout",
     "output_type": "stream",
     "text": [
      "epoch: 2, [batch: 3154 / 6307], examples_per_second: 3948.8679, train_label_loss: 0.0006, \n"
     ]
    },
    {
     "name": "stdout",
     "output_type": "stream",
     "text": [
      "epoch: 2, [batch: 3784 / 6307], examples_per_second: 3825.1588, train_label_loss: 0.0192, \n"
     ]
    },
    {
     "name": "stdout",
     "output_type": "stream",
     "text": [
      "epoch: 2, [batch: 4415 / 6307], examples_per_second: 3800.9876, train_label_loss: 0.0051, \n"
     ]
    },
    {
     "name": "stdout",
     "output_type": "stream",
     "text": [
      "epoch: 2, [batch: 5045 / 6307], examples_per_second: 3851.4825, train_label_loss: 0.0001, \n"
     ]
    },
    {
     "name": "stdout",
     "output_type": "stream",
     "text": [
      "epoch: 2, [batch: 5676 / 6307], examples_per_second: 3866.6676, train_label_loss: 0.0103, \n"
     ]
    },
    {
     "name": "stdout",
     "output_type": "stream",
     "text": [
      "=============================================================\n",
      "epoch: 2, source_val_acc_label: 0.9966, target_val_acc_label: 0.3688, source_val_label_loss: 0.0721, target_val_label_loss: 2.8802, \n",
      "=============================================================\n"
     ]
    },
    {
     "name": "stdout",
     "output_type": "stream",
     "text": [
      "New best\n"
     ]
    },
    {
     "name": "stdout",
     "output_type": "stream",
     "text": [
      "epoch: 3, [batch: 1 / 6326], examples_per_second: 4.1018, train_label_loss: 0.0000, \n"
     ]
    },
    {
     "name": "stdout",
     "output_type": "stream",
     "text": [
      "epoch: 3, [batch: 633 / 6326], examples_per_second: 4239.3875, train_label_loss: 0.0001, \n"
     ]
    },
    {
     "name": "stdout",
     "output_type": "stream",
     "text": [
      "epoch: 3, [batch: 1266 / 6326], examples_per_second: 4175.0322, train_label_loss: 0.0018, \n"
     ]
    },
    {
     "name": "stdout",
     "output_type": "stream",
     "text": [
      "epoch: 3, [batch: 1898 / 6326], examples_per_second: 3871.1412, train_label_loss: 0.0002, \n"
     ]
    },
    {
     "name": "stdout",
     "output_type": "stream",
     "text": [
      "epoch: 3, [batch: 2531 / 6326], examples_per_second: 3880.2790, train_label_loss: 0.0011, \n"
     ]
    },
    {
     "name": "stdout",
     "output_type": "stream",
     "text": [
      "epoch: 3, [batch: 3163 / 6326], examples_per_second: 3892.1701, train_label_loss: 0.0000, \n"
     ]
    },
    {
     "name": "stdout",
     "output_type": "stream",
     "text": [
      "epoch: 3, [batch: 3796 / 6326], examples_per_second: 3990.5776, train_label_loss: 0.0049, \n"
     ]
    },
    {
     "name": "stdout",
     "output_type": "stream",
     "text": [
      "epoch: 3, [batch: 4428 / 6326], examples_per_second: 3871.7751, train_label_loss: 0.0003, \n"
     ]
    },
    {
     "name": "stdout",
     "output_type": "stream",
     "text": [
      "epoch: 3, [batch: 5061 / 6326], examples_per_second: 3951.7037, train_label_loss: 0.0003, \n"
     ]
    },
    {
     "name": "stdout",
     "output_type": "stream",
     "text": [
      "epoch: 3, [batch: 5693 / 6326], examples_per_second: 4023.6379, train_label_loss: 0.0000, \n"
     ]
    },
    {
     "name": "stdout",
     "output_type": "stream",
     "text": [
      "=============================================================\n",
      "epoch: 3, source_val_acc_label: 0.9950, target_val_acc_label: 0.4335, source_val_label_loss: 0.1484, target_val_label_loss: 1.7382, \n",
      "=============================================================\n"
     ]
    },
    {
     "name": "stdout",
     "output_type": "stream",
     "text": [
      "New best\n"
     ]
    },
    {
     "name": "stdout",
     "output_type": "stream",
     "text": [
      "epoch: 4, [batch: 1 / 6302], examples_per_second: 4.1651, train_label_loss: 0.0000, \n"
     ]
    },
    {
     "name": "stdout",
     "output_type": "stream",
     "text": [
      "epoch: 4, [batch: 631 / 6302], examples_per_second: 4287.1377, train_label_loss: 0.0011, \n"
     ]
    },
    {
     "name": "stdout",
     "output_type": "stream",
     "text": [
      "epoch: 4, [batch: 1261 / 6302], examples_per_second: 3876.6476, train_label_loss: 0.0000, \n"
     ]
    },
    {
     "name": "stdout",
     "output_type": "stream",
     "text": [
      "epoch: 4, [batch: 1891 / 6302], examples_per_second: 3752.2703, train_label_loss: 0.0005, \n"
     ]
    },
    {
     "name": "stdout",
     "output_type": "stream",
     "text": [
      "epoch: 4, [batch: 2521 / 6302], examples_per_second: 3841.5159, train_label_loss: 0.0010, \n"
     ]
    },
    {
     "name": "stdout",
     "output_type": "stream",
     "text": [
      "epoch: 4, [batch: 3151 / 6302], examples_per_second: 3898.5568, train_label_loss: 0.0211, \n"
     ]
    },
    {
     "name": "stdout",
     "output_type": "stream",
     "text": [
      "epoch: 4, [batch: 3781 / 6302], examples_per_second: 3844.6362, train_label_loss: 0.0001, \n"
     ]
    },
    {
     "name": "stdout",
     "output_type": "stream",
     "text": [
      "epoch: 4, [batch: 4411 / 6302], examples_per_second: 3783.7766, train_label_loss: 0.0002, \n"
     ]
    },
    {
     "name": "stdout",
     "output_type": "stream",
     "text": [
      "epoch: 4, [batch: 5041 / 6302], examples_per_second: 3919.0743, train_label_loss: 0.0014, \n"
     ]
    },
    {
     "name": "stdout",
     "output_type": "stream",
     "text": [
      "epoch: 4, [batch: 5671 / 6302], examples_per_second: 3928.7024, train_label_loss: 0.0008, \n"
     ]
    },
    {
     "name": "stdout",
     "output_type": "stream",
     "text": [
      "=============================================================\n",
      "epoch: 4, source_val_acc_label: 0.9976, target_val_acc_label: 0.3754, source_val_label_loss: 0.1524, target_val_label_loss: 1.8167, \n",
      "=============================================================\n"
     ]
    },
    {
     "name": "stdout",
     "output_type": "stream",
     "text": [
      "epoch: 5, [batch: 1 / 6324], examples_per_second: 4.1760, train_label_loss: 0.0000, \n"
     ]
    },
    {
     "name": "stdout",
     "output_type": "stream",
     "text": [
      "epoch: 5, [batch: 633 / 6324], examples_per_second: 4539.3000, train_label_loss: 0.0017, \n"
     ]
    },
    {
     "name": "stdout",
     "output_type": "stream",
     "text": [
      "epoch: 5, [batch: 1265 / 6324], examples_per_second: 3925.1374, train_label_loss: 0.0004, \n"
     ]
    },
    {
     "name": "stdout",
     "output_type": "stream",
     "text": [
      "epoch: 5, [batch: 1897 / 6324], examples_per_second: 4009.0438, train_label_loss: 0.0001, \n"
     ]
    },
    {
     "name": "stdout",
     "output_type": "stream",
     "text": [
      "epoch: 5, [batch: 2530 / 6324], examples_per_second: 4013.5837, train_label_loss: 0.0011, \n"
     ]
    },
    {
     "name": "stdout",
     "output_type": "stream",
     "text": [
      "epoch: 5, [batch: 3162 / 6324], examples_per_second: 3998.0601, train_label_loss: 0.0016, \n"
     ]
    },
    {
     "name": "stdout",
     "output_type": "stream",
     "text": [
      "epoch: 5, [batch: 3794 / 6324], examples_per_second: 3906.8379, train_label_loss: 0.0003, \n"
     ]
    },
    {
     "name": "stdout",
     "output_type": "stream",
     "text": [
      "epoch: 5, [batch: 4427 / 6324], examples_per_second: 3872.6529, train_label_loss: 0.0000, \n"
     ]
    },
    {
     "name": "stdout",
     "output_type": "stream",
     "text": [
      "epoch: 5, [batch: 5059 / 6324], examples_per_second: 3952.1733, train_label_loss: 0.0000, \n"
     ]
    },
    {
     "name": "stdout",
     "output_type": "stream",
     "text": [
      "epoch: 5, [batch: 5691 / 6324], examples_per_second: 3917.6798, train_label_loss: 0.0000, \n"
     ]
    },
    {
     "name": "stdout",
     "output_type": "stream",
     "text": [
      "=============================================================\n",
      "epoch: 5, source_val_acc_label: 0.9981, target_val_acc_label: 0.3309, source_val_label_loss: 0.1609, target_val_label_loss: 3.2949, \n",
      "=============================================================\n"
     ]
    },
    {
     "name": "stdout",
     "output_type": "stream",
     "text": [
      "epoch: 6, [batch: 1 / 6313], examples_per_second: 4.2243, train_label_loss: 0.0000, \n"
     ]
    },
    {
     "name": "stdout",
     "output_type": "stream",
     "text": [
      "epoch: 6, [batch: 632 / 6313], examples_per_second: 4311.6785, train_label_loss: 0.0000, \n"
     ]
    },
    {
     "name": "stdout",
     "output_type": "stream",
     "text": [
      "epoch: 6, [batch: 1263 / 6313], examples_per_second: 4398.0222, train_label_loss: 0.0006, \n"
     ]
    },
    {
     "name": "stdout",
     "output_type": "stream",
     "text": [
      "epoch: 6, [batch: 1894 / 6313], examples_per_second: 4464.1582, train_label_loss: 0.0000, \n"
     ]
    },
    {
     "name": "stdout",
     "output_type": "stream",
     "text": [
      "epoch: 6, [batch: 2525 / 6313], examples_per_second: 4358.9666, train_label_loss: 0.0000, \n"
     ]
    },
    {
     "name": "stdout",
     "output_type": "stream",
     "text": [
      "epoch: 6, [batch: 3157 / 6313], examples_per_second: 4244.1331, train_label_loss: 0.0001, \n"
     ]
    },
    {
     "name": "stdout",
     "output_type": "stream",
     "text": [
      "epoch: 6, [batch: 3788 / 6313], examples_per_second: 4150.9853, train_label_loss: 0.0000, \n"
     ]
    },
    {
     "name": "stdout",
     "output_type": "stream",
     "text": [
      "epoch: 6, [batch: 4419 / 6313], examples_per_second: 4170.3240, train_label_loss: 0.0000, \n"
     ]
    },
    {
     "name": "stdout",
     "output_type": "stream",
     "text": [
      "epoch: 6, [batch: 5050 / 6313], examples_per_second: 4716.5538, train_label_loss: 0.0000, \n"
     ]
    },
    {
     "name": "stdout",
     "output_type": "stream",
     "text": [
      "epoch: 6, [batch: 5681 / 6313], examples_per_second: 4962.3911, train_label_loss: 0.0000, \n"
     ]
    },
    {
     "name": "stdout",
     "output_type": "stream",
     "text": [
      "=============================================================\n",
      "epoch: 6, source_val_acc_label: 0.9986, target_val_acc_label: 0.2779, source_val_label_loss: 0.0362, target_val_label_loss: 19.1537, \n",
      "=============================================================\n"
     ]
    },
    {
     "name": "stdout",
     "output_type": "stream",
     "text": [
      "epoch: 7, [batch: 1 / 6295], examples_per_second: 5.4546, train_label_loss: 0.0003, \n"
     ]
    },
    {
     "name": "stdout",
     "output_type": "stream",
     "text": [
      "epoch: 7, [batch: 630 / 6295], examples_per_second: 4500.1750, train_label_loss: 0.0000, \n"
     ]
    },
    {
     "name": "stdout",
     "output_type": "stream",
     "text": [
      "epoch: 7, [batch: 1259 / 6295], examples_per_second: 4845.0593, train_label_loss: 0.0000, \n"
     ]
    },
    {
     "name": "stdout",
     "output_type": "stream",
     "text": [
      "epoch: 7, [batch: 1889 / 6295], examples_per_second: 5374.9320, train_label_loss: 0.0000, \n"
     ]
    },
    {
     "name": "stdout",
     "output_type": "stream",
     "text": [
      "epoch: 7, [batch: 2518 / 6295], examples_per_second: 5167.6972, train_label_loss: 0.0008, \n"
     ]
    },
    {
     "name": "stdout",
     "output_type": "stream",
     "text": [
      "epoch: 7, [batch: 3148 / 6295], examples_per_second: 4802.9837, train_label_loss: 0.0043, \n"
     ]
    },
    {
     "name": "stdout",
     "output_type": "stream",
     "text": [
      "epoch: 7, [batch: 3777 / 6295], examples_per_second: 4818.3365, train_label_loss: 0.0000, \n"
     ]
    },
    {
     "name": "stdout",
     "output_type": "stream",
     "text": [
      "epoch: 7, [batch: 4406 / 6295], examples_per_second: 5038.4580, train_label_loss: 0.0000, \n"
     ]
    },
    {
     "name": "stdout",
     "output_type": "stream",
     "text": [
      "epoch: 7, [batch: 5036 / 6295], examples_per_second: 5198.9953, train_label_loss: 0.0000, \n"
     ]
    },
    {
     "name": "stdout",
     "output_type": "stream",
     "text": [
      "epoch: 7, [batch: 5665 / 6295], examples_per_second: 5334.5226, train_label_loss: 0.0000, \n"
     ]
    },
    {
     "name": "stdout",
     "output_type": "stream",
     "text": [
      "=============================================================\n",
      "epoch: 7, source_val_acc_label: 0.9988, target_val_acc_label: 0.3914, source_val_label_loss: 0.1136, target_val_label_loss: 1.8033, \n",
      "=============================================================\n"
     ]
    },
    {
     "name": "stdout",
     "output_type": "stream",
     "text": [
      "Patience (3) exhausted\n"
     ]
    }
   ],
   "source": [
    "###################################\n",
    "# train\n",
    "###################################\n",
    "jig = PTN_Train_Eval_Test_Jig(model, p.BEST_MODEL_PATH, p.device)\n",
    "\n",
    "jig.train(\n",
    "    train_iterable=datasets.source.processed.train,\n",
    "    source_val_iterable=datasets.source.processed.val,\n",
    "    target_val_iterable=datasets.target.processed.val,\n",
    "    num_epochs=p.n_epoch,\n",
    "    num_logs_per_epoch=p.NUM_LOGS_PER_EPOCH,\n",
    "    patience=p.patience,\n",
    "    optimizer=optimizer,\n",
    "    criteria_for_best=p.criteria_for_best,\n",
    ")"
   ]
  },
  {
   "cell_type": "code",
   "execution_count": 23,
   "id": "31e8fabf",
   "metadata": {
    "execution": {
     "iopub.execute_input": "2022-03-28T07:39:10.442655Z",
     "iopub.status.busy": "2022-03-28T07:39:10.442102Z",
     "iopub.status.idle": "2022-03-28T07:39:10.474290Z",
     "shell.execute_reply": "2022-03-28T07:39:10.473484Z"
    },
    "papermill": {
     "duration": 0.082432,
     "end_time": "2022-03-28T07:39:10.474447",
     "exception": false,
     "start_time": "2022-03-28T07:39:10.392015",
     "status": "completed"
    },
    "tags": []
   },
   "outputs": [],
   "source": [
    "total_experiment_time_secs = time.time() - start_time_secs"
   ]
  },
  {
   "cell_type": "code",
   "execution_count": 24,
   "id": "87b9595b",
   "metadata": {
    "execution": {
     "iopub.execute_input": "2022-03-28T07:39:10.580244Z",
     "iopub.status.busy": "2022-03-28T07:39:10.579356Z",
     "iopub.status.idle": "2022-03-28T07:41:29.324696Z",
     "shell.execute_reply": "2022-03-28T07:41:29.325407Z"
    },
    "papermill": {
     "duration": 138.801324,
     "end_time": "2022-03-28T07:41:29.325650",
     "exception": false,
     "start_time": "2022-03-28T07:39:10.524326",
     "status": "completed"
    },
    "tags": []
   },
   "outputs": [],
   "source": [
    "###################################\n",
    "# Evaluate the model\n",
    "###################################\n",
    "source_test_label_accuracy, source_test_label_loss = jig.test(datasets.source.processed.test)\n",
    "target_test_label_accuracy, target_test_label_loss = jig.test(datasets.target.processed.test)\n",
    "\n",
    "source_val_label_accuracy, source_val_label_loss = jig.test(datasets.source.processed.val)\n",
    "target_val_label_accuracy, target_val_label_loss = jig.test(datasets.target.processed.val)\n",
    "\n",
    "history = jig.get_history()\n",
    "\n",
    "total_epochs_trained = len(history[\"epoch_indices\"])\n",
    "\n",
    "val_dl = Iterable_Aggregator((datasets.source.original.val,datasets.target.original.val))\n",
    "\n",
    "confusion = ptn_confusion_by_domain_over_dataloader(model, p.device, val_dl)\n",
    "per_domain_accuracy = per_domain_accuracy_from_confusion(confusion)\n",
    "\n",
    "# Add a key to per_domain_accuracy for if it was a source domain\n",
    "for domain, accuracy in per_domain_accuracy.items():\n",
    "    per_domain_accuracy[domain] = {\n",
    "        \"accuracy\": accuracy,\n",
    "        \"source?\": domain in p.domains_source\n",
    "    }\n",
    "\n",
    "# Do an independent accuracy assesment JUST TO BE SURE!\n",
    "# _source_test_label_accuracy = independent_accuracy_assesment(model, datasets.source.processed.test, p.device)\n",
    "# _target_test_label_accuracy = independent_accuracy_assesment(model, datasets.target.processed.test, p.device)\n",
    "# _source_val_label_accuracy = independent_accuracy_assesment(model, datasets.source.processed.val, p.device)\n",
    "# _target_val_label_accuracy = independent_accuracy_assesment(model, datasets.target.processed.val, p.device)\n",
    "\n",
    "# assert(_source_test_label_accuracy == source_test_label_accuracy)\n",
    "# assert(_target_test_label_accuracy == target_test_label_accuracy)\n",
    "# assert(_source_val_label_accuracy == source_val_label_accuracy)\n",
    "# assert(_target_val_label_accuracy == target_val_label_accuracy)\n",
    "\n",
    "experiment = {\n",
    "    \"experiment_name\": p.experiment_name,\n",
    "    \"parameters\": dict(p),\n",
    "    \"results\": {\n",
    "        \"source_test_label_accuracy\": source_test_label_accuracy,\n",
    "        \"source_test_label_loss\": source_test_label_loss,\n",
    "        \"target_test_label_accuracy\": target_test_label_accuracy,\n",
    "        \"target_test_label_loss\": target_test_label_loss,\n",
    "        \"source_val_label_accuracy\": source_val_label_accuracy,\n",
    "        \"source_val_label_loss\": source_val_label_loss,\n",
    "        \"target_val_label_accuracy\": target_val_label_accuracy,\n",
    "        \"target_val_label_loss\": target_val_label_loss,\n",
    "        \"total_epochs_trained\": total_epochs_trained,\n",
    "        \"total_experiment_time_secs\": total_experiment_time_secs,\n",
    "        \"confusion\": confusion,\n",
    "        \"per_domain_accuracy\": per_domain_accuracy,\n",
    "    },\n",
    "    \"history\": history,\n",
    "    \"dataset_metrics\": get_dataset_metrics(datasets, \"ptn\"),\n",
    "}"
   ]
  },
  {
   "cell_type": "code",
   "execution_count": 25,
   "id": "54a21829",
   "metadata": {
    "execution": {
     "iopub.execute_input": "2022-03-28T07:41:29.426150Z",
     "iopub.status.busy": "2022-03-28T07:41:29.425586Z",
     "iopub.status.idle": "2022-03-28T07:41:29.640319Z",
     "shell.execute_reply": "2022-03-28T07:41:29.640989Z"
    },
    "papermill": {
     "duration": 0.264401,
     "end_time": "2022-03-28T07:41:29.641172",
     "exception": false,
     "start_time": "2022-03-28T07:41:29.376771",
     "status": "completed"
    },
    "tags": []
   },
   "outputs": [
    {
     "data": {
      "image/png": "[encoded data removed]",
      "text/plain": [
       "<Figure size 1080x504 with 1 Axes>"
      ]
     },
     "metadata": {
      "needs_background": "light"
     },
     "output_type": "display_data"
    }
   ],
   "source": [
    "ax = get_loss_curve(experiment)\n",
    "plt.show()"
   ]
  },
  {
   "cell_type": "code",
   "execution_count": 26,
   "id": "fd8a0f60",
   "metadata": {
    "execution": {
     "iopub.execute_input": "2022-03-28T07:41:29.741203Z",
     "iopub.status.busy": "2022-03-28T07:41:29.740833Z",
     "iopub.status.idle": "2022-03-28T07:41:30.072683Z",
     "shell.execute_reply": "2022-03-28T07:41:30.073350Z"
    },
    "papermill": {
     "duration": 0.381273,
     "end_time": "2022-03-28T07:41:30.073564",
     "exception": false,
     "start_time": "2022-03-28T07:41:29.692291",
     "status": "completed"
    },
    "tags": []
   },
   "outputs": [
    {
     "data": {
      "text/plain": [
       "<AxesSubplot:title={'center':'Results'}>"
      ]
     },
     "execution_count": 26,
     "metadata": {},
     "output_type": "execute_result"
    },
    {
     "data": {
      "image/png": "[encoded data removed]",
      "text/plain": [
       "<Figure size 1080x504 with 1 Axes>"
      ]
     },
     "metadata": {
      "needs_background": "light"
     },
     "output_type": "display_data"
    }
   ],
   "source": [
    "get_results_table(experiment)"
   ]
  },
  {
   "cell_type": "code",
   "execution_count": 27,
   "id": "cf8dc689",
   "metadata": {
    "execution": {
     "iopub.execute_input": "2022-03-28T07:41:30.174192Z",
     "iopub.status.busy": "2022-03-28T07:41:30.173826Z",
     "iopub.status.idle": "2022-03-28T07:41:30.410665Z",
     "shell.execute_reply": "2022-03-28T07:41:30.411373Z"
    },
    "papermill": {
     "duration": 0.288005,
     "end_time": "2022-03-28T07:41:30.411635",
     "exception": false,
     "start_time": "2022-03-28T07:41:30.123630",
     "status": "completed"
    },
    "tags": []
   },
   "outputs": [
    {
     "data": {
      "text/plain": [
       "<AxesSubplot:title={'center':'Per Domain Validation Accuracy'}, xlabel='domain'>"
      ]
     },
     "execution_count": 27,
     "metadata": {},
     "output_type": "execute_result"
    },
    {
     "data": {
      "image/png": "[encoded data removed]",
      "text/plain": [
       "<Figure size 1080x504 with 1 Axes>"
      ]
     },
     "metadata": {
      "needs_background": "light"
     },
     "output_type": "display_data"
    }
   ],
   "source": [
    "get_domain_accuracies(experiment)"
   ]
  },
  {
   "cell_type": "code",
   "execution_count": 28,
   "id": "a74ae082",
   "metadata": {
    "execution": {
     "iopub.execute_input": "2022-03-28T07:41:30.518107Z",
     "iopub.status.busy": "2022-03-28T07:41:30.517539Z",
     "iopub.status.idle": "2022-03-28T07:41:30.542292Z",
     "shell.execute_reply": "2022-03-28T07:41:30.542971Z"
    },
    "papermill": {
     "duration": 0.077217,
     "end_time": "2022-03-28T07:41:30.543176",
     "exception": false,
     "start_time": "2022-03-28T07:41:30.465959",
     "status": "completed"
    },
    "tags": []
   },
   "outputs": [
    {
     "name": "stdout",
     "output_type": "stream",
     "text": [
      "Source Test Label Accuracy: 0.9961554740406321 Target Test Label Accuracy: 0.42864583333333334\n",
      "Source Val Label Accuracy: 0.995 Target Val Label Accuracy: 0.43349609375\n"
     ]
    }
   ],
   "source": [
    "print(\"Source Test Label Accuracy:\", experiment[\"results\"][\"source_test_label_accuracy\"], \"Target Test Label Accuracy:\", experiment[\"results\"][\"target_test_label_accuracy\"])\n",
    "print(\"Source Val Label Accuracy:\", experiment[\"results\"][\"source_val_label_accuracy\"], \"Target Val Label Accuracy:\", experiment[\"results\"][\"target_val_label_accuracy\"])"
   ]
  },
  {
   "cell_type": "code",
   "execution_count": 29,
   "id": "dacca602",
   "metadata": {
    "execution": {
     "iopub.execute_input": "2022-03-28T07:41:30.648706Z",
     "iopub.status.busy": "2022-03-28T07:41:30.648341Z",
     "iopub.status.idle": "2022-03-28T07:41:30.669562Z",
     "shell.execute_reply": "2022-03-28T07:41:30.670025Z"
    },
    "papermill": {
     "duration": 0.073268,
     "end_time": "2022-03-28T07:41:30.670166",
     "exception": false,
     "start_time": "2022-03-28T07:41:30.596898",
     "status": "completed"
    },
    "tags": [
     "experiment_json"
    ]
   },
   "outputs": [
    {
     "data": {
      "text/plain": [
       "'{\"experiment_name\": \"tl_3-jitter10v2:cores -> oracle.run1.framed\", \"parameters\": {\"experiment_name\": \"tl_3-jitter10v2:cores -> oracle.run1.framed\", \"device\": \"cuda\", \"lr\": 0.0001, \"x_shape\": [2, 256], \"n_shot\": 3, \"n_query\": 2, \"train_k_factor\": 3, \"val_k_factor\": 2, \"test_k_factor\": 2, \"torch_default_dtype\": \"torch.float32\", \"n_epoch\": 50, \"patience\": 3, \"criteria_for_best\": \"target_accuracy\", \"x_net\": [{\"class\": \"nnReshape\", \"kargs\": {\"shape\": [-1, 1, 2, 256]}}, {\"class\": \"Conv2d\", \"kargs\": {\"in_channels\": 1, \"out_channels\": 256, \"kernel_size\": [1, 7], \"bias\": false, \"padding\": [0, 3]}}, {\"class\": \"ReLU\", \"kargs\": {\"inplace\": true}}, {\"class\": \"BatchNorm2d\", \"kargs\": {\"num_features\": 256}}, {\"class\": \"Conv2d\", \"kargs\": {\"in_channels\": 256, \"out_channels\": 80, \"kernel_size\": [2, 7], \"bias\": true, \"padding\": [0, 3]}}, {\"class\": \"ReLU\", \"kargs\": {\"inplace\": true}}, {\"class\": \"BatchNorm2d\", \"kargs\": {\"num_features\": 80}}, {\"class\": \"Flatten\", \"kargs\": {}}, {\"class\": \"Linear\", \"kargs\": {\"in_features\": 20480, \"out_features\": 256}}, {\"class\": \"ReLU\", \"kargs\": {\"inplace\": true}}, {\"class\": \"BatchNorm1d\", \"kargs\": {\"num_features\": 256}}, {\"class\": \"Linear\", \"kargs\": {\"in_features\": 256, \"out_features\": 256}}], \"NUM_LOGS_PER_EPOCH\": 10, \"BEST_MODEL_PATH\": \"./best_model.pth\", \"n_way\": 16, \"datasets\": [{\"labels\": [\"1-10.\", \"1-11.\", \"1-15.\", \"1-16.\", \"1-17.\", \"1-18.\", \"1-19.\", \"10-4.\", \"10-7.\", \"11-1.\", \"11-14.\", \"11-17.\", \"11-20.\", \"11-7.\", \"13-20.\", \"13-8.\", \"14-10.\", \"14-11.\", \"14-14.\", \"14-7.\", \"15-1.\", \"15-20.\", \"16-1.\", \"16-16.\", \"17-10.\", \"17-11.\", \"17-2.\", \"19-1.\", \"19-16.\", \"19-19.\", \"19-20.\", \"19-3.\", \"2-10.\", \"2-11.\", \"2-17.\", \"2-18.\", \"2-20.\", \"2-3.\", \"2-4.\", \"2-5.\", \"2-6.\", \"2-7.\", \"2-8.\", \"3-13.\", \"3-18.\", \"3-3.\", \"4-1.\", \"4-10.\", \"4-11.\", \"4-19.\", \"5-5.\", \"6-15.\", \"7-10.\", \"7-14.\", \"8-18.\", \"8-20.\", \"8-3.\", \"8-8.\"], \"domains\": [1, 2, 3, 4, 5], \"num_examples_per_domain_per_label\": -1, \"pickle_path\": \"/root/csc500-main/datasets/cores.stratified_ds.2022A.pkl\", \"source_or_target_dataset\": \"source\", \"x_transforms\": [\"jitter_256_10\", \"lowpass_+/-10MHz\", \"take_200\"], \"episode_transforms\": [], \"domain_prefix\": \"C_\"}, {\"labels\": [\"3123D52\", \"3123D65\", \"3123D79\", \"3123D80\", \"3123D54\", \"3123D70\", \"3123D7B\", \"3123D89\", \"3123D58\", \"3123D76\", \"3123D7D\", \"3123EFE\", \"3123D64\", \"3123D78\", \"3123D7E\", \"3124E4A\"], \"domains\": [32, 38, 8, 44, 14, 50, 20, 26], \"num_examples_per_domain_per_label\": 2000, \"pickle_path\": \"/root/csc500-main/datasets/oracle.Run1_framed_2000Examples_stratified_ds.2022A.pkl\", \"source_or_target_dataset\": \"target\", \"x_transforms\": [\"jitter_256_10\", \"take_200\", \"resample_20Msps_to_25Msps\"], \"episode_transforms\": [], \"domain_prefix\": \"O_\"}], \"seed\": 420, \"dataset_seed\": 420, \"domains_source\": [\"C_1\", \"C_2\", \"C_3\", \"C_4\", \"C_5\"], \"domains_target\": [\"O_32\", \"O_38\", \"O_8\", \"O_44\", \"O_14\", \"O_50\", \"O_20\", \"O_26\"]}, \"results\": {\"source_test_label_accuracy\": 0.9961554740406321, \"source_test_label_loss\": 0.0211589727550745, \"target_test_label_accuracy\": 0.42864583333333334, \"target_test_label_loss\": 1.7370561361312866, \"source_val_label_accuracy\": 0.995, \"source_val_label_loss\": 0.14836061000823975, \"target_val_label_accuracy\": 0.43349609375, \"target_val_label_loss\": 1.7382363080978394, \"total_epochs_trained\": 7, \"total_experiment_time_secs\": 1100.8983533382416, \"confusion\": {\"C_4\": {\"42\": {\"42\": 32}, \"0\": {\"0\": 80}, \"1\": {\"1\": 40}, \"39\": {\"39\": 20}, \"28\": {\"28\": 31, \"34\": 1}, \"53\": {\"53\": 124}, \"19\": {\"19\": 144}, \"34\": {\"34\": 21, \"28\": 2, \"19\": 1}, \"33\": {\"33\": 36}, \"32\": {\"32\": 22, \"29\": 1, \"1\": 1}, \"10\": {\"10\": 136}, \"46\": {\"46\": 134}, \"20\": {\"20\": 121, \"48\": 1}, \"5\": {\"5\": 107, \"6\": 1}, \"40\": {\"40\": 124}, \"51\": {\"51\": 144}, \"37\": {\"37\": 24}, \"17\": {\"17\": 80}, \"45\": {\"45\": 96}, \"13\": {\"13\": 142}, \"27\": {\"27\": 144}, \"24\": {\"24\": 56}, \"30\": {\"30\": 44}, \"31\": {\"31\": 26, \"55\": 2}, \"41\": {\"41\": 34, \"38\": 1, \"13\": 1}, \"36\": {\"36\": 92}, \"16\": {\"16\": 96}, \"22\": {\"22\": 128}, \"44\": {\"44\": 132}, \"9\": {\"9\": 140}, \"57\": {\"57\": 99, \"1\": 1}, \"8\": {\"8\": 138}, \"23\": {\"23\": 132}, \"47\": {\"47\": 120}, \"43\": {\"43\": 138}, \"49\": {\"49\": 19, \"7\": 1}, \"3\": {\"3\": 123, \"50\": 1}, \"12\": {\"12\": 92}, \"38\": {\"38\": 39, \"43\": 1}, \"7\": {\"49\": 2, \"7\": 22}, \"14\": {\"14\": 12, \"57\": 2, \"37\": 1, \"43\": 1}, \"15\": {\"15\": 144, \"11\": 2}, \"25\": {\"25\": 128}, \"26\": {\"26\": 19, \"27\": 1, \"54\": 3, \"36\": 1}, \"21\": {\"21\": 132}, \"48\": {\"48\": 144}, \"56\": {\"56\": 134}, \"11\": {\"11\": 104}, \"2\": {\"2\": 36}, \"6\": {\"6\": 109, \"3\": 2, \"50\": 1}, \"55\": {\"55\": 140}, \"54\": {\"54\": 108}, \"29\": {\"29\": 124}, \"50\": {\"50\": 120, \"3\": 2}, \"52\": {\"52\": 116}, \"35\": {\"35\": 40}, \"4\": {\"4\": 120}, \"18\": {\"18\": 108}}, \"C_5\": {\"43\": {\"43\": 152}, \"35\": {\"35\": 36}, \"54\": {\"54\": 112}, \"22\": {\"22\": 28}, \"16\": {\"16\": 146}, \"5\": {\"5\": 128}, \"28\": {\"28\": 32}, \"14\": {\"14\": 44}, \"51\": {\"51\": 128}, \"19\": {\"19\": 139, \"23\": 1}, \"31\": {\"31\": 36}, \"10\": {\"10\": 68}, \"21\": {\"21\": 136}, \"3\": {\"3\": 100}, \"57\": {\"57\": 132}, \"9\": {\"9\": 143, \"21\": 2, \"4\": 1}, \"8\": {\"8\": 132}, \"46\": {\"46\": 140}, \"23\": {\"23\": 124}, \"37\": {\"37\": 24}, \"34\": {\"34\": 36}, \"4\": {\"4\": 98, \"1\": 2}, \"6\": {\"6\": 123, \"45\": 5}, \"48\": {\"48\": 135, \"1\": 1}, \"44\": {\"44\": 137, \"3\": 1}, \"40\": {\"40\": 124}, \"12\": {\"12\": 96}, \"30\": {\"30\": 127, \"9\": 1}, \"39\": {\"39\": 20}, \"45\": {\"45\": 121, \"6\": 3}, \"36\": {\"36\": 91, \"37\": 1}, \"27\": {\"27\": 140}, \"32\": {\"32\": 32}, \"52\": {\"52\": 130}, \"0\": {\"0\": 124}, \"26\": {\"26\": 24}, \"1\": {\"1\": 148}, \"53\": {\"53\": 146}, \"25\": {\"25\": 144}, \"24\": {\"24\": 80}, \"7\": {\"7\": 32}, \"18\": {\"18\": 64}, \"20\": {\"20\": 144}, \"33\": {\"33\": 31, \"41\": 1}, \"55\": {\"55\": 139, \"17\": 1}, \"41\": {\"41\": 28}, \"42\": {\"42\": 39, \"44\": 1}, \"49\": {\"49\": 36}, \"13\": {\"13\": 148}, \"38\": {\"38\": 31, \"7\": 1}, \"2\": {\"2\": 28}, \"47\": {\"47\": 100}, \"17\": {\"17\": 115, \"55\": 1}, \"11\": {\"11\": 146, \"15\": 8}, \"29\": {\"29\": 132}, \"50\": {\"50\": 137, \"45\": 1}, \"56\": {\"56\": 148}, \"15\": {\"11\": 13, \"15\": 129}}, \"C_2\": {\"49\": {\"49\": 24}, \"13\": {\"13\": 116}, \"37\": {\"37\": 36}, \"41\": {\"41\": 19, \"1\": 1}, \"15\": {\"15\": 142}, \"56\": {\"56\": 139, \"11\": 1, \"5\": 2}, \"14\": {\"14\": 21, \"13\": 3}, \"3\": {\"3\": 91, \"30\": 1}, \"38\": {\"38\": 20}, \"43\": {\"43\": 138}, \"33\": {\"33\": 28}, \"47\": {\"47\": 138}, \"30\": {\"30\": 143, \"1\": 1}, \"39\": {\"39\": 26, \"33\": 2}, \"12\": {\"12\": 92}, \"6\": {\"6\": 124}, \"51\": {\"51\": 134}, \"5\": {\"5\": 120}, \"34\": {\"34\": 28}, \"35\": {\"35\": 32}, \"0\": {\"0\": 48}, \"7\": {\"7\": 34, \"42\": 2}, \"24\": {\"24\": 96}, \"8\": {\"8\": 136}, \"20\": {\"20\": 124}, \"36\": {\"36\": 116}, \"42\": {\"42\": 36}, \"1\": {\"1\": 112}, \"4\": {\"4\": 148}, \"28\": {\"28\": 28}, \"50\": {\"50\": 136}, \"45\": {\"45\": 126, \"6\": 2}, \"18\": {\"18\": 48}, \"57\": {\"57\": 120}, \"46\": {\"46\": 128}, \"23\": {\"23\": 148}, \"27\": {\"27\": 137, \"8\": 1}, \"19\": {\"19\": 134}, \"22\": {\"22\": 136}, \"17\": {\"17\": 104}, \"55\": {\"55\": 136}, \"44\": {\"44\": 100}, \"26\": {\"26\": 23, \"54\": 1}, \"31\": {\"31\": 28}, \"16\": {\"16\": 130}, \"11\": {\"11\": 128}, \"25\": {\"25\": 126}, \"54\": {\"54\": 108}, \"32\": {\"32\": 28}, \"52\": {\"52\": 124}, \"40\": {\"40\": 130, \"29\": 2}, \"2\": {\"2\": 32}, \"10\": {\"10\": 110}, \"53\": {\"53\": 136}, \"9\": {\"9\": 150}, \"21\": {\"21\": 120}, \"48\": {\"48\": 138}, \"29\": {\"29\": 128}}, \"C_1\": {\"9\": {\"9\": 142}, \"25\": {\"25\": 128}, \"41\": {\"41\": 24}, \"29\": {\"29\": 140}, \"46\": {\"46\": 127, \"50\": 1}, \"4\": {\"4\": 132}, \"31\": {\"31\": 28}, \"36\": {\"36\": 64}, \"20\": {\"20\": 128}, \"7\": {\"7\": 28}, \"6\": {\"6\": 95, \"46\": 1}, \"16\": {\"16\": 138}, \"17\": {\"17\": 64}, \"50\": {\"50\": 148}, \"57\": {\"57\": 144}, \"23\": {\"23\": 136}, \"3\": {\"3\": 120, \"56\": 2, \"0\": 1, \"29\": 1, \"44\": 2}, \"53\": {\"53\": 140}, \"49\": {\"49\": 32}, \"56\": {\"56\": 152}, \"51\": {\"51\": 142}, \"26\": {\"26\": 24}, \"43\": {\"43\": 144}, \"22\": {\"22\": 134, \"21\": 2}, \"45\": {\"45\": 146}, \"13\": {\"13\": 152}, \"12\": {\"12\": 116}, \"54\": {\"54\": 104}, \"24\": {\"24\": 108}, \"44\": {\"44\": 136}, \"28\": {\"28\": 28}, \"33\": {\"33\": 32}, \"38\": {\"38\": 22, \"36\": 2}, \"0\": {\"0\": 144}, \"47\": {\"47\": 154}, \"42\": {\"42\": 40}, \"34\": {\"34\": 24}, \"48\": {\"48\": 142}, \"35\": {\"35\": 36}, \"2\": {\"2\": 36}, \"30\": {\"30\": 120}, \"18\": {\"18\": 72}, \"37\": {\"37\": 32}, \"1\": {\"1\": 100}, \"11\": {\"11\": 136, \"10\": 2}, \"55\": {\"55\": 130}, \"15\": {\"15\": 150}, \"10\": {\"10\": 95, \"11\": 1}, \"27\": {\"27\": 160}, \"19\": {\"19\": 146}, \"14\": {\"30\": 2, \"14\": 22}, \"8\": {\"8\": 140}, \"5\": {\"5\": 136}, \"39\": {\"39\": 26, \"47\": 2}, \"52\": {\"52\": 122}, \"21\": {\"21\": 124}, \"40\": {\"40\": 152}, \"32\": {\"32\": 32}}, \"C_3\": {\"56\": {\"56\": 120}, \"4\": {\"4\": 146}, \"34\": {\"34\": 32}, \"52\": {\"52\": 136}, \"32\": {\"32\": 28}, \"46\": {\"46\": 136}, \"12\": {\"12\": 88, \"45\": 2, \"46\": 2}, \"20\": {\"20\": 132}, \"54\": {\"54\": 100}, \"22\": {\"22\": 140}, \"26\": {\"26\": 24}, \"31\": {\"31\": 28}, \"10\": {\"10\": 64}, \"27\": {\"27\": 144}, \"40\": {\"40\": 136}, \"28\": {\"28\": 28}, \"5\": {\"5\": 116}, \"30\": {\"30\": 120}, \"7\": {\"7\": 36}, \"18\": {\"18\": 84}, \"39\": {\"39\": 16}, \"50\": {\"50\": 133, \"3\": 1, \"46\": 1, \"21\": 1}, \"49\": {\"13\": 1, \"49\": 19}, \"43\": {\"43\": 122}, \"29\": {\"29\": 114}, \"35\": {\"35\": 28}, \"13\": {\"13\": 122, \"55\": 2}, \"36\": {\"36\": 100}, \"11\": {\"11\": 145, \"15\": 1}, \"57\": {\"57\": 124}, \"9\": {\"9\": 130}, \"25\": {\"25\": 130}, \"16\": {\"16\": 126}, \"53\": {\"53\": 118}, \"33\": {\"33\": 28}, \"51\": {\"51\": 128}, \"44\": {\"44\": 87, \"5\": 1}, \"48\": {\"48\": 113, \"41\": 1}, \"6\": {\"6\": 88}, \"23\": {\"23\": 144}, \"1\": {\"1\": 100}, \"17\": {\"38\": 2, \"17\": 104, \"51\": 2}, \"21\": {\"21\": 122}, \"14\": {\"14\": 40}, \"55\": {\"55\": 144}, \"41\": {\"41\": 28}, \"3\": {\"3\": 138}, \"38\": {\"38\": 28}, \"2\": {\"2\": 32}, \"8\": {\"8\": 141, \"27\": 1}, \"37\": {\"37\": 28}, \"45\": {\"45\": 57, \"12\": 3}, \"42\": {\"42\": 28}, \"24\": {\"24\": 104}, \"15\": {\"15\": 134, \"11\": 2}, \"0\": {\"0\": 124}, \"47\": {\"47\": 92}, \"19\": {\"19\": 120}}, \"O_14\": {\"15\": {\"15\": 240}, \"5\": {\"12\": 52, \"13\": 3, \"5\": 75, \"2\": 29, \"0\": 27, \"4\": 20, \"3\": 12, \"14\": 8, \"7\": 10, \"6\": 1, \"8\": 3}, \"7\": {\"5\": 19, \"7\": 117, \"3\": 52, \"0\": 15, \"8\": 29, \"12\": 3, \"13\": 3, \"6\": 2}, \"4\": {\"12\": 27, \"4\": 119, \"10\": 41, \"2\": 17, \"5\": 16, \"1\": 2, \"7\": 1, \"0\": 8, \"9\": 8, \"8\": 1}, \"10\": {\"9\": 24, \"4\": 39, \"10\": 165, \"2\": 2, \"1\": 7, \"12\": 2, \"5\": 1}, \"11\": {\"11\": 232, \"1\": 7, \"9\": 1}, \"12\": {\"12\": 97, \"5\": 49, \"4\": 48, \"8\": 15, \"0\": 12, \"2\": 12, \"10\": 2, \"7\": 3, \"9\": 2}, \"0\": {\"5\": 26, \"3\": 38, \"2\": 41, \"0\": 42, \"14\": 22, \"13\": 10, \"7\": 12, \"4\": 19, \"12\": 14, \"6\": 13, \"10\": 2, \"8\": 1}, \"14\": {\"13\": 26, \"6\": 30, \"0\": 40, \"2\": 43, \"5\": 18, \"4\": 2, \"14\": 69, \"3\": 9, \"12\": 2, \"7\": 1}, \"8\": {\"8\": 131, \"7\": 58, \"0\": 2, \"12\": 31, \"5\": 13, \"4\": 3, \"3\": 2}, \"13\": {\"3\": 5, \"6\": 88, \"13\": 52, \"14\": 40, \"5\": 2, \"15\": 14, \"2\": 18, \"0\": 11, \"7\": 1, \"10\": 3, \"4\": 5, \"12\": 1}, \"6\": {\"3\": 22, \"6\": 94, \"2\": 11, \"0\": 12, \"13\": 63, \"14\": 35, \"7\": 2, \"5\": 1}, \"1\": {\"1\": 140, \"9\": 92, \"10\": 4, \"4\": 4}, \"3\": {\"3\": 93, \"0\": 32, \"2\": 8, \"13\": 16, \"7\": 42, \"6\": 32, \"14\": 10, \"5\": 7}, \"9\": {\"4\": 7, \"1\": 99, \"9\": 110, \"10\": 23, \"12\": 1}, \"2\": {\"5\": 27, \"6\": 18, \"14\": 22, \"4\": 33, \"2\": 35, \"0\": 33, \"10\": 6, \"3\": 22, \"13\": 21, \"12\": 21, \"7\": 2}}, \"O_20\": {\"4\": {\"7\": 8, \"4\": 99, \"12\": 17, \"14\": 10, \"10\": 54, \"6\": 29, \"3\": 2, \"8\": 5, \"1\": 5, \"5\": 2, \"2\": 5, \"15\": 2, \"13\": 1, \"9\": 1}, \"10\": {\"4\": 60, \"10\": 161, \"12\": 3, \"6\": 6, \"15\": 2, \"2\": 2, \"7\": 1, \"13\": 5}, \"15\": {\"1\": 30, \"13\": 35, \"6\": 10, \"7\": 28, \"2\": 38, \"15\": 28, \"14\": 1, \"12\": 23, \"8\": 7, \"9\": 14, \"5\": 11, \"3\": 12, \"4\": 3}, \"0\": {\"0\": 168, \"11\": 37, \"14\": 3, \"5\": 5, \"8\": 13, \"3\": 12, \"9\": 1, \"1\": 1}, \"6\": {\"7\": 31, \"5\": 8, \"6\": 55, \"4\": 24, \"14\": 22, \"15\": 10, \"13\": 2, \"12\": 30, \"3\": 9, \"2\": 13, \"1\": 14, \"8\": 8, \"10\": 5, \"9\": 9}, \"3\": {\"8\": 35, \"3\": 35, \"5\": 30, \"9\": 28, \"14\": 31, \"6\": 11, \"0\": 15, \"7\": 9, \"1\": 23, \"12\": 7, \"13\": 1, \"2\": 4, \"15\": 10, \"4\": 1}, \"7\": {\"13\": 14, \"3\": 19, \"2\": 32, \"12\": 24, \"7\": 34, \"15\": 27, \"14\": 10, \"1\": 22, \"5\": 21, \"4\": 4, \"6\": 10, \"9\": 17, \"8\": 6}, \"2\": {\"2\": 33, \"13\": 34, \"15\": 25, \"1\": 18, \"7\": 25, \"9\": 18, \"14\": 2, \"6\": 22, \"12\": 30, \"10\": 1, \"3\": 5, \"4\": 5, \"5\": 19, \"8\": 3}, \"8\": {\"5\": 21, \"14\": 52, \"8\": 68, \"9\": 16, \"3\": 29, \"12\": 3, \"0\": 29, \"7\": 5, \"1\": 11, \"6\": 3, \"15\": 3}, \"11\": {\"11\": 199, \"0\": 39, \"5\": 2}, \"14\": {\"14\": 78, \"6\": 18, \"8\": 57, \"3\": 11, \"12\": 1, \"0\": 13, \"9\": 13, \"7\": 8, \"5\": 22, \"11\": 2, \"1\": 9, \"4\": 6, \"15\": 1, \"2\": 1}, \"12\": {\"3\": 5, \"12\": 37, \"7\": 26, \"2\": 29, \"9\": 10, \"13\": 25, \"1\": 16, \"6\": 31, \"15\": 21, \"5\": 14, \"4\": 15, \"10\": 6, \"8\": 2, \"14\": 3}, \"13\": {\"13\": 135, \"1\": 7, \"15\": 28, \"2\": 37, \"12\": 16, \"7\": 11, \"10\": 2, \"5\": 2, \"9\": 2}, \"9\": {\"1\": 30, \"14\": 13, \"3\": 30, \"9\": 28, \"2\": 27, \"7\": 20, \"6\": 9, \"5\": 24, \"8\": 25, \"15\": 11, \"0\": 3, \"12\": 17, \"11\": 2, \"13\": 1}, \"5\": {\"0\": 8, \"3\": 35, \"8\": 35, \"9\": 31, \"6\": 8, \"1\": 26, \"15\": 10, \"2\": 13, \"14\": 17, \"7\": 17, \"5\": 28, \"12\": 10, \"4\": 2}, \"1\": {\"3\": 34, \"2\": 30, \"1\": 27, \"9\": 39, \"7\": 18, \"15\": 18, \"13\": 7, \"5\": 29, \"14\": 8, \"12\": 10, \"8\": 12, \"6\": 8}}, \"O_50\": {\"5\": {\"7\": 46, \"5\": 51, \"15\": 45, \"6\": 28, \"13\": 11, \"11\": 12, \"4\": 25, \"3\": 14, \"9\": 7, \"12\": 1}, \"12\": {\"6\": 10, \"11\": 33, \"12\": 140, \"9\": 45, \"15\": 2, \"5\": 1, \"13\": 5, \"3\": 4}, \"14\": {\"14\": 84, \"2\": 92, \"0\": 64}, \"4\": {\"4\": 92, \"7\": 108, \"5\": 25, \"9\": 4, \"6\": 7, \"15\": 4}, \"13\": {\"1\": 58, \"13\": 141, \"11\": 19, \"5\": 4, \"3\": 11, \"8\": 7}, \"10\": {\"8\": 48, \"10\": 131, \"0\": 46, \"1\": 10, \"2\": 3, \"14\": 2}, \"9\": {\"11\": 25, \"9\": 73, \"5\": 14, \"12\": 38, \"15\": 28, \"6\": 40, \"3\": 16, \"4\": 5, \"7\": 1}, \"15\": {\"3\": 40, \"5\": 38, \"15\": 67, \"6\": 58, \"9\": 22, \"12\": 1, \"7\": 2, \"11\": 9, \"4\": 3}, \"6\": {\"15\": 60, \"4\": 1, \"9\": 27, \"5\": 38, \"6\": 60, \"12\": 5, \"3\": 33, \"11\": 14, \"7\": 2}, \"2\": {\"2\": 87, \"14\": 83, \"0\": 67, \"10\": 3}, \"0\": {\"14\": 43, \"0\": 97, \"10\": 54, \"2\": 46}, \"11\": {\"3\": 38, \"11\": 112, \"5\": 6, \"6\": 20, \"13\": 26, \"12\": 14, \"15\": 8, \"9\": 16}, \"3\": {\"3\": 68, \"6\": 46, \"11\": 55, \"15\": 42, \"13\": 4, \"9\": 9, \"5\": 15, \"12\": 1}, \"8\": {\"8\": 121, \"1\": 70, \"10\": 45, \"13\": 4}, \"7\": {\"4\": 91, \"7\": 118, \"5\": 27, \"15\": 1, \"6\": 3}, \"1\": {\"8\": 71, \"1\": 90, \"13\": 53, \"10\": 23, \"11\": 2, \"3\": 1}}, \"O_26\": {\"7\": {\"7\": 40, \"12\": 36, \"13\": 15, \"2\": 23, \"0\": 10, \"8\": 46, \"3\": 36, \"9\": 32, \"14\": 2}, \"6\": {\"15\": 51, \"1\": 35, \"10\": 27, \"5\": 52, \"14\": 10, \"0\": 7, \"6\": 49, \"11\": 9}, \"14\": {\"1\": 39, \"10\": 59, \"0\": 48, \"14\": 64, \"6\": 10, \"15\": 8, \"8\": 1, \"2\": 4, \"7\": 3, \"5\": 4}, \"15\": {\"15\": 66, \"5\": 47, \"14\": 15, \"6\": 59, \"10\": 14, \"11\": 8, \"0\": 14, \"1\": 16, \"2\": 1}, \"5\": {\"5\": 84, \"15\": 50, \"6\": 40, \"11\": 42, \"10\": 7, \"1\": 15, \"14\": 1, \"2\": 1}, \"10\": {\"0\": 54, \"14\": 53, \"10\": 67, \"1\": 20, \"2\": 10, \"9\": 3, \"11\": 1, \"15\": 8, \"6\": 21, \"5\": 2, \"8\": 1}, \"4\": {\"12\": 10, \"4\": 203, \"3\": 23, \"13\": 2, \"9\": 1, \"7\": 1}, \"11\": {\"11\": 145, \"6\": 16, \"5\": 57, \"15\": 15, \"1\": 5, \"2\": 1, \"10\": 1}, \"13\": {\"13\": 120, \"4\": 17, \"9\": 31, \"12\": 14, \"3\": 30, \"2\": 18, \"7\": 2, \"8\": 8}, \"2\": {\"13\": 14, \"9\": 28, \"3\": 11, \"7\": 16, \"8\": 39, \"0\": 33, \"2\": 67, \"12\": 20, \"10\": 7, \"14\": 3, \"15\": 2}, \"0\": {\"14\": 46, \"2\": 27, \"0\": 78, \"12\": 3, \"7\": 6, \"10\": 46, \"9\": 7, \"8\": 17, \"1\": 3, \"6\": 3, \"15\": 3, \"5\": 1}, \"12\": {\"8\": 30, \"3\": 53, \"9\": 30, \"12\": 40, \"7\": 44, \"2\": 15, \"13\": 22, \"0\": 5, \"4\": 1}, \"3\": {\"8\": 29, \"9\": 23, \"13\": 32, \"12\": 37, \"3\": 61, \"7\": 29, \"4\": 9, \"2\": 20}, \"9\": {\"3\": 35, \"13\": 36, \"7\": 22, \"0\": 18, \"8\": 25, \"12\": 21, \"2\": 37, \"4\": 4, \"9\": 36, \"10\": 5, \"15\": 1}, \"8\": {\"2\": 32, \"8\": 37, \"7\": 37, \"9\": 29, \"12\": 36, \"3\": 31, \"0\": 30, \"13\": 4, \"14\": 2, \"10\": 2}, \"1\": {\"10\": 20, \"1\": 131, \"14\": 31, \"11\": 10, \"6\": 28, \"5\": 6, \"0\": 3, \"15\": 11}}, \"O_32\": {\"7\": {\"14\": 56, \"5\": 58, \"7\": 78, \"0\": 39, \"15\": 1, \"8\": 7, \"4\": 1}, \"2\": {\"4\": 76, \"2\": 86, \"8\": 5, \"14\": 17, \"1\": 29, \"3\": 5, \"13\": 17, \"0\": 4, \"7\": 1}, \"5\": {\"5\": 109, \"8\": 19, \"7\": 39, \"0\": 40, \"14\": 20, \"15\": 12, \"1\": 1}, \"6\": {\"6\": 222, \"10\": 17, \"11\": 1}, \"13\": {\"4\": 24, \"9\": 46, \"11\": 26, \"13\": 78, \"3\": 36, \"2\": 12, \"12\": 1, \"1\": 17}, \"4\": {\"4\": 66, \"2\": 43, \"13\": 45, \"1\": 55, \"3\": 16, \"14\": 6, \"9\": 7, \"8\": 1, \"11\": 1}, \"3\": {\"3\": 94, \"1\": 57, \"13\": 43, \"4\": 29, \"8\": 2, \"11\": 2, \"9\": 12, \"2\": 1}, \"0\": {\"14\": 44, \"0\": 63, \"8\": 32, \"5\": 52, \"4\": 1, \"7\": 37, \"15\": 3, \"1\": 3, \"2\": 5}, \"9\": {\"9\": 75, \"11\": 54, \"13\": 50, \"12\": 29, \"10\": 7, \"4\": 13, \"3\": 10, \"2\": 1, \"1\": 1}, \"12\": {\"12\": 156, \"10\": 44, \"9\": 20, \"13\": 3, \"11\": 17}, \"8\": {\"0\": 58, \"5\": 34, \"8\": 84, \"1\": 10, \"14\": 19, \"15\": 7, \"7\": 18, \"4\": 4, \"2\": 6}, \"14\": {\"14\": 73, \"7\": 42, \"0\": 46, \"8\": 5, \"5\": 24, \"2\": 35, \"4\": 10, \"1\": 5}, \"15\": {\"5\": 16, \"15\": 209, \"0\": 5, \"8\": 9, \"7\": 1}, \"11\": {\"11\": 135, \"12\": 28, \"9\": 62, \"13\": 15}, \"10\": {\"10\": 197, \"12\": 38, \"6\": 5}, \"1\": {\"1\": 100, \"8\": 18, \"13\": 21, \"4\": 39, \"9\": 2, \"2\": 31, \"3\": 23, \"0\": 4, \"14\": 2}}, \"O_44\": {\"11\": {\"11\": 239, \"13\": 1}, \"7\": {\"10\": 49, \"7\": 79, \"9\": 63, \"14\": 12, \"4\": 16, \"6\": 11, \"5\": 10}, \"6\": {\"13\": 81, \"6\": 132, \"9\": 27}, \"12\": {\"12\": 138, \"3\": 96, \"0\": 6}, \"4\": {\"15\": 15, \"10\": 23, \"9\": 35, \"4\": 42, \"2\": 18, \"7\": 44, \"1\": 10, \"5\": 25, \"14\": 24, \"8\": 2, \"6\": 2}, \"13\": {\"13\": 153, \"6\": 69, \"9\": 14, \"11\": 4}, \"8\": {\"15\": 61, \"1\": 29, \"8\": 74, \"12\": 1, \"5\": 11, \"14\": 3, \"0\": 54, \"3\": 3, \"4\": 2, \"2\": 2}, \"5\": {\"10\": 29, \"7\": 20, \"9\": 7, \"4\": 29, \"5\": 45, \"14\": 58, \"15\": 29, \"0\": 1, \"2\": 12, \"8\": 6, \"1\": 4}, \"14\": {\"15\": 24, \"14\": 50, \"9\": 7, \"10\": 32, \"7\": 27, \"5\": 46, \"4\": 39, \"2\": 9, \"8\": 4, \"1\": 2}, \"3\": {\"12\": 100, \"3\": 123, \"0\": 16, \"8\": 1}, \"10\": {\"7\": 60, \"10\": 42, \"9\": 45, \"4\": 28, \"1\": 10, \"14\": 21, \"2\": 4, \"5\": 24, \"6\": 3, \"15\": 2, \"0\": 1}, \"1\": {\"1\": 98, \"2\": 51, \"15\": 29, \"14\": 3, \"8\": 17, \"0\": 38, \"4\": 4}, \"2\": {\"1\": 49, \"2\": 116, \"10\": 11, \"5\": 14, \"14\": 21, \"0\": 3, \"4\": 10, \"7\": 3, \"15\": 10, \"9\": 1, \"8\": 2}, \"15\": {\"2\": 12, \"1\": 34, \"8\": 47, \"15\": 61, \"5\": 39, \"14\": 24, \"0\": 8, \"4\": 12, \"10\": 3}, \"9\": {\"9\": 68, \"4\": 14, \"13\": 30, \"6\": 32, \"7\": 46, \"10\": 25, \"14\": 9, \"2\": 9, \"5\": 7}, \"0\": {\"8\": 43, \"12\": 3, \"3\": 15, \"1\": 46, \"0\": 125, \"4\": 1, \"15\": 5, \"5\": 2}}, \"O_8\": {\"10\": {\"4\": 16, \"10\": 56, \"5\": 43, \"13\": 41, \"1\": 14, \"7\": 34, \"6\": 35, \"8\": 1}, \"6\": {\"6\": 71, \"13\": 14, \"10\": 35, \"1\": 23, \"7\": 34, \"4\": 33, \"5\": 21, \"11\": 6, \"8\": 3}, \"13\": {\"5\": 43, \"7\": 34, \"13\": 88, \"10\": 51, \"6\": 21, \"2\": 1, \"1\": 1, \"15\": 1}, \"3\": {\"3\": 199, \"2\": 37, \"9\": 4}, \"9\": {\"2\": 4, \"9\": 221, \"3\": 15}, \"1\": {\"10\": 11, \"5\": 34, \"1\": 72, \"8\": 20, \"11\": 43, \"7\": 20, \"4\": 18, \"6\": 19, \"13\": 2, \"14\": 1}, \"5\": {\"10\": 46, \"7\": 24, \"13\": 43, \"6\": 31, \"5\": 53, \"1\": 20, \"4\": 9, \"11\": 6, \"15\": 1, \"8\": 3, \"14\": 1, \"12\": 3}, \"11\": {\"14\": 18, \"11\": 59, \"1\": 49, \"6\": 5, \"8\": 76, \"7\": 6, \"4\": 17, \"5\": 7, \"10\": 3}, \"4\": {\"8\": 24, \"4\": 104, \"6\": 27, \"14\": 50, \"11\": 13, \"1\": 13, \"10\": 3, \"5\": 3, \"7\": 3}, \"14\": {\"14\": 151, \"8\": 23, \"4\": 45, \"11\": 18, \"0\": 1, \"5\": 2}, \"12\": {\"12\": 135, \"15\": 95, \"2\": 10}, \"7\": {\"4\": 9, \"7\": 57, \"6\": 59, \"10\": 35, \"13\": 31, \"5\": 36, \"1\": 10, \"11\": 2, \"14\": 1}, \"0\": {\"0\": 237, \"14\": 3}, \"15\": {\"15\": 123, \"12\": 87, \"2\": 30}, \"2\": {\"2\": 128, \"3\": 48, \"12\": 23, \"15\": 40, \"5\": 1}, \"8\": {\"8\": 86, \"14\": 26, \"4\": 24, \"11\": 80, \"5\": 2, \"6\": 3, \"1\": 18, \"10\": 1}}, \"O_38\": {\"4\": {\"4\": 227, \"0\": 4, \"14\": 3, \"10\": 4, \"13\": 2}, \"7\": {\"2\": 62, \"7\": 84, \"8\": 6, \"14\": 71, \"13\": 8, \"5\": 3, \"0\": 3, \"9\": 3}, \"12\": {\"12\": 228, \"5\": 3, \"8\": 8, \"15\": 1}, \"10\": {\"10\": 146, \"0\": 63, \"4\": 7, \"13\": 16, \"3\": 8}, \"0\": {\"13\": 59, \"10\": 85, \"0\": 52, \"7\": 10, \"3\": 10, \"14\": 7, \"4\": 5, \"2\": 12}, \"1\": {\"6\": 122, \"1\": 114, \"15\": 4}, \"5\": {\"8\": 71, \"2\": 23, \"5\": 76, \"15\": 28, \"9\": 33, \"14\": 2, \"7\": 3, \"12\": 4}, \"15\": {\"5\": 23, \"15\": 176, \"8\": 22, \"6\": 6, \"1\": 10, \"9\": 3}, \"9\": {\"9\": 141, \"8\": 20, \"2\": 39, \"5\": 30, \"7\": 10}, \"11\": {\"11\": 238, \"3\": 2}, \"14\": {\"7\": 66, \"2\": 41, \"8\": 4, \"14\": 108, \"9\": 1, \"0\": 6, \"13\": 9, \"4\": 4, \"5\": 1}, \"6\": {\"6\": 125, \"1\": 111, \"15\": 4}, \"8\": {\"2\": 32, \"9\": 20, \"5\": 66, \"8\": 62, \"15\": 28, \"7\": 17, \"12\": 9, \"0\": 1, \"14\": 5}, \"3\": {\"3\": 227, \"11\": 12, \"10\": 1}, \"2\": {\"2\": 87, \"8\": 14, \"14\": 28, \"9\": 23, \"7\": 70, \"13\": 9, \"5\": 8, \"0\": 1}, \"13\": {\"13\": 132, \"10\": 18, \"7\": 14, \"0\": 55, \"2\": 13, \"14\": 8}}}, \"per_domain_accuracy\": {\"C_4\": {\"accuracy\": 0.9936377245508982, \"source?\": true}, \"C_5\": {\"accuracy\": 0.9921438547486033, \"source?\": true}, \"C_2\": {\"accuracy\": 0.9966071428571428, \"source?\": true}, \"C_1\": {\"accuracy\": 0.9967730978260869, \"source?\": true}, \"C_3\": {\"accuracy\": 0.9957720588235294, \"source?\": true}, \"O_14\": {\"accuracy\": 0.47161458333333334, \"source?\": false}, \"O_20\": {\"accuracy\": 0.31588541666666664, \"source?\": false}, \"O_50\": {\"accuracy\": 0.39895833333333336, \"source?\": false}, \"O_26\": {\"accuracy\": 0.33541666666666664, \"source?\": false}, \"O_32\": {\"accuracy\": 0.4752604166666667, \"source?\": false}, \"O_44\": {\"accuracy\": 0.4127604166666667, \"source?\": false}, \"O_8\": {\"accuracy\": 0.4791666666666667, \"source?\": false}, \"O_38\": {\"accuracy\": 0.57890625, \"source?\": false}}}, \"history\": {\"epoch_indices\": [1, 2, 3, 4, 5, 6, 7], \"train_label_loss\": [0.06319122038193432, 0.15403146948730834, 0.017977664403222484, 0.010138807497486085, 0.0069359889656895645, 0.01760217019510709, 0.005784397829056351], \"source_val_label_loss\": [0.5416432619094849, 0.0720750093460083, 0.14836061000823975, 0.15236561000347137, 0.16089783608913422, 0.03623654320836067, 0.11362235993146896], \"target_val_label_loss\": [41.92567443847656, 2.880180835723877, 1.7382363080978394, 1.8166512250900269, 3.2948856353759766, 19.15370750427246, 1.803253173828125], \"source_val_acc_label\": [0.9937857142857143, 0.9966071428571428, 0.995, 0.9976428571428572, 0.9981071428571429, 0.9985714285714286, 0.9987857142857143], \"target_val_acc_label\": [0.26025390625, 0.3688151041666667, 0.43349609375, 0.375390625, 0.3309244791666667, 0.2779296875, 0.39137369791666665]}, \"dataset_metrics\": {\"source\": {\"train\": {\"n_unique_x\": 175174, \"n_unique_y\": 58, \"n_batch/episode\": 6293}, \"val\": {\"n_unique_x\": 37216, \"n_unique_y\": 58, \"n_batch/episode\": 875}, \"test\": {\"n_unique_x\": 37596, \"n_unique_y\": 58, \"n_batch/episode\": 886}}, \"target\": {\"train\": {\"n_unique_x\": 179200, \"n_unique_y\": 16, \"n_batch/episode\": 6720}, \"val\": {\"n_unique_x\": 38400, \"n_unique_y\": 16, \"n_batch/episode\": 960}, \"test\": {\"n_unique_x\": 38400, \"n_unique_y\": 16, \"n_batch/episode\": 960}}}}'"
      ]
     },
     "execution_count": 29,
     "metadata": {},
     "output_type": "execute_result"
    }
   ],
   "source": [
    "json.dumps(experiment)"
   ]
  }
 ],
 "metadata": {
  "celltoolbar": "Tags",
  "kernelspec": {
   "display_name": "Python 3 (ipykernel)",
   "language": "python",
   "name": "python3"
  },
  "language_info": {
   "codemirror_mode": {
    "name": "ipython",
    "version": 3
   },
   "file_extension": ".py",
   "mimetype": "text/x-python",
   "name": "python",
   "nbconvert_exporter": "python",
   "pygments_lexer": "ipython3",
   "version": "3.8.12"
  },
  "papermill": {
   "default_parameters": {},
   "duration": 1247.224354,
   "end_time": "2022-03-28T07:41:33.233704",
   "environment_variables": {},
   "exception": null,
   "input_path": "/root/csc500-main/csc500-notebooks/templates/tl_ptn_template.ipynb",
   "output_path": "trial.ipynb",
   "parameters": {
    "parameters": {
     "BEST_MODEL_PATH": "./best_model.pth",
     "NUM_LOGS_PER_EPOCH": 10,
     "criteria_for_best": "target_accuracy",
     "dataset_seed": 420,
     "datasets": [
      {
       "domain_prefix": "C_",
       "domains": [
        1,
        2,
        3,
        4,
        5
       ],
       "episode_transforms": [],
       "labels": [
        "1-10.",
        "1-11.",
        "1-15.",
        "1-16.",
        "1-17.",
        "1-18.",
        "1-19.",
        "10-4.",
        "10-7.",
        "11-1.",
        "11-14.",
        "11-17.",
        "11-20.",
        "11-7.",
        "13-20.",
        "13-8.",
        "14-10.",
        "14-11.",
        "14-14.",
        "14-7.",
        "15-1.",
        "15-20.",
        "16-1.",
        "16-16.",
        "17-10.",
        "17-11.",
        "17-2.",
        "19-1.",
        "19-16.",
        "19-19.",
        "19-20.",
        "19-3.",
        "2-10.",
        "2-11.",
        "2-17.",
        "2-18.",
        "2-20.",
        "2-3.",
        "2-4.",
        "2-5.",
        "2-6.",
        "2-7.",
        "2-8.",
        "3-13.",
        "3-18.",
        "3-3.",
        "4-1.",
        "4-10.",
        "4-11.",
        "4-19.",
        "5-5.",
        "6-15.",
        "7-10.",
        "7-14.",
        "8-18.",
        "8-20.",
        "8-3.",
        "8-8."
       ],
       "num_examples_per_domain_per_label": -1,
       "pickle_path": "/root/csc500-main/datasets/cores.stratified_ds.2022A.pkl",
       "source_or_target_dataset": "source",
       "x_transforms": [
        "jitter_256_10",
        "lowpass_+/-10MHz",
        "take_200"
       ]
      },
      {
       "domain_prefix": "O_",
       "domains": [
        32,
        38,
        8,
        44,
        14,
        50,
        20,
        26
       ],
       "episode_transforms": [],
       "labels": [
        "3123D52",
        "3123D65",
        "3123D79",
        "3123D80",
        "3123D54",
        "3123D70",
        "3123D7B",
        "3123D89",
        "3123D58",
        "3123D76",
        "3123D7D",
        "3123EFE",
        "3123D64",
        "3123D78",
        "3123D7E",
        "3124E4A"
       ],
       "num_examples_per_domain_per_label": 2000,
       "pickle_path": "/root/csc500-main/datasets/oracle.Run1_framed_2000Examples_stratified_ds.2022A.pkl",
       "source_or_target_dataset": "target",
       "x_transforms": [
        "jitter_256_10",
        "take_200",
        "resample_20Msps_to_25Msps"
       ]
      }
     ],
     "device": "cuda",
     "experiment_name": "tl_3-jitter10v2:cores -> oracle.run1.framed",
     "lr": 0.0001,
     "n_epoch": 50,
     "n_query": 2,
     "n_shot": 3,
     "n_way": 16,
     "patience": 3,
     "seed": 420,
     "test_k_factor": 2,
     "torch_default_dtype": "torch.float32",
     "train_k_factor": 3,
     "val_k_factor": 2,
     "x_net": [
      {
       "class": "nnReshape",
       "kargs": {
        "shape": [
         -1,
         1,
         2,
         256
        ]
       }
      },
      {
       "class": "Conv2d",
       "kargs": {
        "bias": false,
        "in_channels": 1,
        "kernel_size": [
         1,
         7
        ],
        "out_channels": 256,
        "padding": [
         0,
         3
        ]
       }
      },
      {
       "class": "ReLU",
       "kargs": {
        "inplace": true
       }
      },
      {
       "class": "BatchNorm2d",
       "kargs": {
        "num_features": 256
       }
      },
      {
       "class": "Conv2d",
       "kargs": {
        "bias": true,
        "in_channels": 256,
        "kernel_size": [
         2,
         7
        ],
        "out_channels": 80,
        "padding": [
         0,
         3
        ]
       }
      },
      {
       "class": "ReLU",
       "kargs": {
        "inplace": true
       }
      },
      {
       "class": "BatchNorm2d",
       "kargs": {
        "num_features": 80
       }
      },
      {
       "class": "Flatten",
       "kargs": {}
      },
      {
       "class": "Linear",
       "kargs": {
        "in_features": 20480,
        "out_features": 256
       }
      },
      {
       "class": "ReLU",
       "kargs": {
        "inplace": true
       }
      },
      {
       "class": "BatchNorm1d",
       "kargs": {
        "num_features": 256
       }
      },
      {
       "class": "Linear",
       "kargs": {
        "in_features": 256,
        "out_features": 256
       }
      }
     ],
     "x_shape": [
      2,
      256
     ]
    }
   },
   "start_time": "2022-03-28T07:20:46.009350",
   "version": "2.3.4"
  }
 },
 "nbformat": 4,
 "nbformat_minor": 5
}