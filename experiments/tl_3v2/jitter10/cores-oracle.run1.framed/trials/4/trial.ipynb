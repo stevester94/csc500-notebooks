{
 "cells": [
  {
   "cell_type": "markdown",
   "id": "9fea5f46",
   "metadata": {
    "papermill": {
     "duration": 0.028417,
     "end_time": "2022-03-28T07:13:38.943326",
     "exception": false,
     "start_time": "2022-03-28T07:13:38.914909",
     "status": "completed"
    },
    "tags": []
   },
   "source": [
    "# Transfer Learning Template"
   ]
  },
  {
   "cell_type": "code",
   "execution_count": 1,
   "id": "0902182a",
   "metadata": {
    "execution": {
     "iopub.execute_input": "2022-03-28T07:13:39.007706Z",
     "iopub.status.busy": "2022-03-28T07:13:39.006725Z",
     "iopub.status.idle": "2022-03-28T07:13:40.829829Z",
     "shell.execute_reply": "2022-03-28T07:13:40.828933Z"
    },
    "papermill": {
     "duration": 1.86247,
     "end_time": "2022-03-28T07:13:40.830041",
     "exception": false,
     "start_time": "2022-03-28T07:13:38.967571",
     "status": "completed"
    },
    "tags": []
   },
   "outputs": [],
   "source": [
    "%load_ext autoreload\n",
    "%autoreload 2\n",
    "%matplotlib inline\n",
    "\n",
    "    \n",
    "import os, json, sys, time, random\n",
    "import numpy as np\n",
    "import torch\n",
    "from torch.optim import Adam\n",
    "from  easydict import EasyDict\n",
    "import matplotlib.pyplot as plt\n",
    "\n",
    "from steves_models.steves_ptn import Steves_Prototypical_Network\n",
    "\n",
    "from steves_utils.lazy_iterable_wrapper import Lazy_Iterable_Wrapper\n",
    "from steves_utils.iterable_aggregator import Iterable_Aggregator\n",
    "from steves_utils.ptn_train_eval_test_jig import  PTN_Train_Eval_Test_Jig\n",
    "from steves_utils.torch_sequential_builder import build_sequential\n",
    "from steves_utils.torch_utils import get_dataset_metrics, ptn_confusion_by_domain_over_dataloader\n",
    "from steves_utils.utils_v2 import (per_domain_accuracy_from_confusion, get_datasets_base_path)\n",
    "from steves_utils.PTN.utils import independent_accuracy_assesment\n",
    "\n",
    "from torch.utils.data import DataLoader\n",
    "\n",
    "from steves_utils.stratified_dataset.episodic_accessor import Episodic_Accessor_Factory\n",
    "\n",
    "from steves_utils.ptn_do_report import (\n",
    "    get_loss_curve,\n",
    "    get_results_table,\n",
    "    get_parameters_table,\n",
    "    get_domain_accuracies,\n",
    ")\n",
    "\n",
    "from steves_utils.transforms import get_chained_transform"
   ]
  },
  {
   "cell_type": "markdown",
   "id": "41c840b4",
   "metadata": {
    "papermill": {
     "duration": 0.019012,
     "end_time": "2022-03-28T07:13:40.874582",
     "exception": false,
     "start_time": "2022-03-28T07:13:40.855570",
     "status": "completed"
    },
    "tags": []
   },
   "source": [
    "# Allowed Parameters\n",
    "These are allowed parameters, not defaults\n",
    "Each of these values need to be present in the injected parameters (the notebook will raise an exception if they are not present)\n",
    "\n",
    "Papermill uses the cell tag \"parameters\" to inject the real parameters below this cell.\n",
    "Enable tags to see what I mean"
   ]
  },
  {
   "cell_type": "code",
   "execution_count": 2,
   "id": "fd44eb83",
   "metadata": {
    "execution": {
     "iopub.execute_input": "2022-03-28T07:13:40.918836Z",
     "iopub.status.busy": "2022-03-28T07:13:40.918262Z",
     "iopub.status.idle": "2022-03-28T07:13:40.940079Z",
     "shell.execute_reply": "2022-03-28T07:13:40.939303Z"
    },
    "papermill": {
     "duration": 0.046478,
     "end_time": "2022-03-28T07:13:40.940234",
     "exception": false,
     "start_time": "2022-03-28T07:13:40.893756",
     "status": "completed"
    },
    "tags": []
   },
   "outputs": [],
   "source": [
    "required_parameters = {\n",
    "    \"experiment_name\",\n",
    "    \"lr\",\n",
    "    \"device\",\n",
    "    \"seed\",\n",
    "    \"dataset_seed\",\n",
    "    \"n_shot\",\n",
    "    \"n_query\",\n",
    "    \"n_way\",\n",
    "    \"train_k_factor\",\n",
    "    \"val_k_factor\",\n",
    "    \"test_k_factor\",\n",
    "    \"n_epoch\",\n",
    "    \"patience\",\n",
    "    \"criteria_for_best\",\n",
    "    \"x_net\",\n",
    "    \"datasets\",\n",
    "    \"torch_default_dtype\",\n",
    "    \"NUM_LOGS_PER_EPOCH\",\n",
    "    \"BEST_MODEL_PATH\",\n",
    "    \"x_shape\",\n",
    "}"
   ]
  },
  {
   "cell_type": "code",
   "execution_count": 3,
   "id": "fa3f0049",
   "metadata": {
    "execution": {
     "iopub.execute_input": "2022-03-28T07:13:40.997871Z",
     "iopub.status.busy": "2022-03-28T07:13:40.997243Z",
     "iopub.status.idle": "2022-03-28T07:13:41.016810Z",
     "shell.execute_reply": "2022-03-28T07:13:41.016095Z"
    },
    "papermill": {
     "duration": 0.048793,
     "end_time": "2022-03-28T07:13:41.016968",
     "exception": false,
     "start_time": "2022-03-28T07:13:40.968175",
     "status": "completed"
    },
    "tags": [
     "parameters"
    ]
   },
   "outputs": [],
   "source": [
    "from steves_utils.CORES.utils import (\n",
    "    ALL_NODES,\n",
    "    ALL_NODES_MINIMUM_1000_EXAMPLES,\n",
    "    ALL_DAYS\n",
    ")\n",
    "\n",
    "from steves_utils.ORACLE.utils_v2 import (\n",
    "    ALL_DISTANCES_FEET_NARROWED,\n",
    "    ALL_RUNS,\n",
    "    ALL_SERIAL_NUMBERS,\n",
    ")\n",
    "\n",
    "standalone_parameters = {}\n",
    "standalone_parameters[\"experiment_name\"] = \"STANDALONE PTN\"\n",
    "standalone_parameters[\"lr\"] = 0.001\n",
    "standalone_parameters[\"device\"] = \"cuda\"\n",
    "\n",
    "standalone_parameters[\"seed\"] = 1337\n",
    "standalone_parameters[\"dataset_seed\"] = 1337\n",
    "\n",
    "standalone_parameters[\"n_way\"] = 8\n",
    "standalone_parameters[\"n_shot\"] = 3\n",
    "standalone_parameters[\"n_query\"]  = 2\n",
    "standalone_parameters[\"train_k_factor\"] = 1\n",
    "standalone_parameters[\"val_k_factor\"] = 2\n",
    "standalone_parameters[\"test_k_factor\"] = 2\n",
    "\n",
    "\n",
    "standalone_parameters[\"n_epoch\"] = 50\n",
    "\n",
    "standalone_parameters[\"patience\"] = 10\n",
    "standalone_parameters[\"criteria_for_best\"] = \"source_loss\"\n",
    "\n",
    "standalone_parameters[\"datasets\"] = [\n",
    "    {\n",
    "        \"labels\": ALL_SERIAL_NUMBERS,\n",
    "        \"domains\": ALL_DISTANCES_FEET_NARROWED,\n",
    "        \"num_examples_per_domain_per_label\": 100,\n",
    "        \"pickle_path\": os.path.join(get_datasets_base_path(), \"oracle.Run1_framed_2000Examples_stratified_ds.2022A.pkl\"),\n",
    "        \"source_or_target_dataset\": \"source\",\n",
    "        \"x_transforms\": [\"unit_mag\", \"minus_two\"],\n",
    "        \"episode_transforms\": [],\n",
    "        \"domain_prefix\": \"ORACLE_\"\n",
    "    },\n",
    "    {\n",
    "        \"labels\": ALL_NODES,\n",
    "        \"domains\": ALL_DAYS,\n",
    "        \"num_examples_per_domain_per_label\": 100,\n",
    "        \"pickle_path\": os.path.join(get_datasets_base_path(), \"cores.stratified_ds.2022A.pkl\"),\n",
    "        \"source_or_target_dataset\": \"target\",\n",
    "        \"x_transforms\": [\"unit_power\", \"times_zero\"],\n",
    "        \"episode_transforms\": [],\n",
    "        \"domain_prefix\": \"CORES_\"\n",
    "    }   \n",
    "]\n",
    "\n",
    "standalone_parameters[\"torch_default_dtype\"] = \"torch.float32\" \n",
    "\n",
    "\n",
    "\n",
    "standalone_parameters[\"x_net\"] =     [\n",
    "    {\"class\": \"nnReshape\", \"kargs\": {\"shape\":[-1, 1, 2, 256]}},\n",
    "    {\"class\": \"Conv2d\", \"kargs\": { \"in_channels\":1, \"out_channels\":256, \"kernel_size\":(1,7), \"bias\":False, \"padding\":(0,3), },},\n",
    "    {\"class\": \"ReLU\", \"kargs\": {\"inplace\": True}},\n",
    "    {\"class\": \"BatchNorm2d\", \"kargs\": {\"num_features\":256}},\n",
    "\n",
    "    {\"class\": \"Conv2d\", \"kargs\": { \"in_channels\":256, \"out_channels\":80, \"kernel_size\":(2,7), \"bias\":True, \"padding\":(0,3), },},\n",
    "    {\"class\": \"ReLU\", \"kargs\": {\"inplace\": True}},\n",
    "    {\"class\": \"BatchNorm2d\", \"kargs\": {\"num_features\":80}},\n",
    "    {\"class\": \"Flatten\", \"kargs\": {}},\n",
    "\n",
    "    {\"class\": \"Linear\", \"kargs\": {\"in_features\": 80*256, \"out_features\": 256}}, # 80 units per IQ pair\n",
    "    {\"class\": \"ReLU\", \"kargs\": {\"inplace\": True}},\n",
    "    {\"class\": \"BatchNorm1d\", \"kargs\": {\"num_features\":256}},\n",
    "\n",
    "    {\"class\": \"Linear\", \"kargs\": {\"in_features\": 256, \"out_features\": 256}},\n",
    "]\n",
    "\n",
    "# Parameters relevant to results\n",
    "# These parameters will basically never need to change\n",
    "standalone_parameters[\"NUM_LOGS_PER_EPOCH\"] = 10\n",
    "standalone_parameters[\"BEST_MODEL_PATH\"] = \"./best_model.pth\"\n",
    "\n",
    "\n",
    "\n",
    "\n"
   ]
  },
  {
   "cell_type": "code",
   "execution_count": 4,
   "id": "023ce6bb",
   "metadata": {
    "execution": {
     "iopub.execute_input": "2022-03-28T07:13:41.080264Z",
     "iopub.status.busy": "2022-03-28T07:13:41.079432Z",
     "iopub.status.idle": "2022-03-28T07:13:41.098888Z",
     "shell.execute_reply": "2022-03-28T07:13:41.098179Z"
    },
    "papermill": {
     "duration": 0.054658,
     "end_time": "2022-03-28T07:13:41.099041",
     "exception": false,
     "start_time": "2022-03-28T07:13:41.044383",
     "status": "completed"
    },
    "tags": [
     "injected-parameters"
    ]
   },
   "outputs": [],
   "source": [
    "# Parameters\n",
    "parameters = {\n",
    "    \"experiment_name\": \"tl_3-jitter10v2:cores -> oracle.run1.framed\",\n",
    "    \"device\": \"cuda\",\n",
    "    \"lr\": 0.0001,\n",
    "    \"x_shape\": [2, 256],\n",
    "    \"n_shot\": 3,\n",
    "    \"n_query\": 2,\n",
    "    \"train_k_factor\": 3,\n",
    "    \"val_k_factor\": 2,\n",
    "    \"test_k_factor\": 2,\n",
    "    \"torch_default_dtype\": \"torch.float32\",\n",
    "    \"n_epoch\": 50,\n",
    "    \"patience\": 3,\n",
    "    \"criteria_for_best\": \"target_accuracy\",\n",
    "    \"x_net\": [\n",
    "        {\"class\": \"nnReshape\", \"kargs\": {\"shape\": [-1, 1, 2, 256]}},\n",
    "        {\n",
    "            \"class\": \"Conv2d\",\n",
    "            \"kargs\": {\n",
    "                \"in_channels\": 1,\n",
    "                \"out_channels\": 256,\n",
    "                \"kernel_size\": [1, 7],\n",
    "                \"bias\": False,\n",
    "                \"padding\": [0, 3],\n",
    "            },\n",
    "        },\n",
    "        {\"class\": \"ReLU\", \"kargs\": {\"inplace\": True}},\n",
    "        {\"class\": \"BatchNorm2d\", \"kargs\": {\"num_features\": 256}},\n",
    "        {\n",
    "            \"class\": \"Conv2d\",\n",
    "            \"kargs\": {\n",
    "                \"in_channels\": 256,\n",
    "                \"out_channels\": 80,\n",
    "                \"kernel_size\": [2, 7],\n",
    "                \"bias\": True,\n",
    "                \"padding\": [0, 3],\n",
    "            },\n",
    "        },\n",
    "        {\"class\": \"ReLU\", \"kargs\": {\"inplace\": True}},\n",
    "        {\"class\": \"BatchNorm2d\", \"kargs\": {\"num_features\": 80}},\n",
    "        {\"class\": \"Flatten\", \"kargs\": {}},\n",
    "        {\"class\": \"Linear\", \"kargs\": {\"in_features\": 20480, \"out_features\": 256}},\n",
    "        {\"class\": \"ReLU\", \"kargs\": {\"inplace\": True}},\n",
    "        {\"class\": \"BatchNorm1d\", \"kargs\": {\"num_features\": 256}},\n",
    "        {\"class\": \"Linear\", \"kargs\": {\"in_features\": 256, \"out_features\": 256}},\n",
    "    ],\n",
    "    \"NUM_LOGS_PER_EPOCH\": 10,\n",
    "    \"BEST_MODEL_PATH\": \"./best_model.pth\",\n",
    "    \"n_way\": 16,\n",
    "    \"datasets\": [\n",
    "        {\n",
    "            \"labels\": [\n",
    "                \"1-10.\",\n",
    "                \"1-11.\",\n",
    "                \"1-15.\",\n",
    "                \"1-16.\",\n",
    "                \"1-17.\",\n",
    "                \"1-18.\",\n",
    "                \"1-19.\",\n",
    "                \"10-4.\",\n",
    "                \"10-7.\",\n",
    "                \"11-1.\",\n",
    "                \"11-14.\",\n",
    "                \"11-17.\",\n",
    "                \"11-20.\",\n",
    "                \"11-7.\",\n",
    "                \"13-20.\",\n",
    "                \"13-8.\",\n",
    "                \"14-10.\",\n",
    "                \"14-11.\",\n",
    "                \"14-14.\",\n",
    "                \"14-7.\",\n",
    "                \"15-1.\",\n",
    "                \"15-20.\",\n",
    "                \"16-1.\",\n",
    "                \"16-16.\",\n",
    "                \"17-10.\",\n",
    "                \"17-11.\",\n",
    "                \"17-2.\",\n",
    "                \"19-1.\",\n",
    "                \"19-16.\",\n",
    "                \"19-19.\",\n",
    "                \"19-20.\",\n",
    "                \"19-3.\",\n",
    "                \"2-10.\",\n",
    "                \"2-11.\",\n",
    "                \"2-17.\",\n",
    "                \"2-18.\",\n",
    "                \"2-20.\",\n",
    "                \"2-3.\",\n",
    "                \"2-4.\",\n",
    "                \"2-5.\",\n",
    "                \"2-6.\",\n",
    "                \"2-7.\",\n",
    "                \"2-8.\",\n",
    "                \"3-13.\",\n",
    "                \"3-18.\",\n",
    "                \"3-3.\",\n",
    "                \"4-1.\",\n",
    "                \"4-10.\",\n",
    "                \"4-11.\",\n",
    "                \"4-19.\",\n",
    "                \"5-5.\",\n",
    "                \"6-15.\",\n",
    "                \"7-10.\",\n",
    "                \"7-14.\",\n",
    "                \"8-18.\",\n",
    "                \"8-20.\",\n",
    "                \"8-3.\",\n",
    "                \"8-8.\",\n",
    "            ],\n",
    "            \"domains\": [1, 2, 3, 4, 5],\n",
    "            \"num_examples_per_domain_per_label\": -1,\n",
    "            \"pickle_path\": \"/root/csc500-main/datasets/cores.stratified_ds.2022A.pkl\",\n",
    "            \"source_or_target_dataset\": \"source\",\n",
    "            \"x_transforms\": [\n",
    "                \"unit_mag\",\n",
    "                \"jitter_256_10\",\n",
    "                \"lowpass_+/-10MHz\",\n",
    "                \"take_200\",\n",
    "            ],\n",
    "            \"episode_transforms\": [],\n",
    "            \"domain_prefix\": \"C_\",\n",
    "        },\n",
    "        {\n",
    "            \"labels\": [\n",
    "                \"3123D52\",\n",
    "                \"3123D65\",\n",
    "                \"3123D79\",\n",
    "                \"3123D80\",\n",
    "                \"3123D54\",\n",
    "                \"3123D70\",\n",
    "                \"3123D7B\",\n",
    "                \"3123D89\",\n",
    "                \"3123D58\",\n",
    "                \"3123D76\",\n",
    "                \"3123D7D\",\n",
    "                \"3123EFE\",\n",
    "                \"3123D64\",\n",
    "                \"3123D78\",\n",
    "                \"3123D7E\",\n",
    "                \"3124E4A\",\n",
    "            ],\n",
    "            \"domains\": [32, 38, 8, 44, 14, 50, 20, 26],\n",
    "            \"num_examples_per_domain_per_label\": 2000,\n",
    "            \"pickle_path\": \"/root/csc500-main/datasets/oracle.Run1_framed_2000Examples_stratified_ds.2022A.pkl\",\n",
    "            \"source_or_target_dataset\": \"target\",\n",
    "            \"x_transforms\": [\n",
    "                \"unit_mag\",\n",
    "                \"jitter_256_10\",\n",
    "                \"take_200\",\n",
    "                \"resample_20Msps_to_25Msps\",\n",
    "            ],\n",
    "            \"episode_transforms\": [],\n",
    "            \"domain_prefix\": \"O_\",\n",
    "        },\n",
    "    ],\n",
    "    \"seed\": 420,\n",
    "    \"dataset_seed\": 420,\n",
    "}\n"
   ]
  },
  {
   "cell_type": "code",
   "execution_count": 5,
   "id": "8fa1cc33",
   "metadata": {
    "execution": {
     "iopub.execute_input": "2022-03-28T07:13:41.147871Z",
     "iopub.status.busy": "2022-03-28T07:13:41.147226Z",
     "iopub.status.idle": "2022-03-28T07:13:41.165696Z",
     "shell.execute_reply": "2022-03-28T07:13:41.164982Z"
    },
    "papermill": {
     "duration": 0.041891,
     "end_time": "2022-03-28T07:13:41.165851",
     "exception": false,
     "start_time": "2022-03-28T07:13:41.123960",
     "status": "completed"
    },
    "tags": []
   },
   "outputs": [],
   "source": [
    "# Set this to True if you want to run this template directly\n",
    "STANDALONE = False\n",
    "if STANDALONE:\n",
    "    print(\"parameters not injected, running with standalone_parameters\")\n",
    "    parameters = standalone_parameters\n",
    "\n",
    "if not 'parameters' in locals() and not 'parameters' in globals():\n",
    "    raise Exception(\"Parameter injection failed\")\n",
    "\n",
    "#Use an easy dict for all the parameters\n",
    "p = EasyDict(parameters)\n",
    "\n",
    "if \"x_shape\" not in p:\n",
    "    p.x_shape = [2,256] # Default to this if we dont supply x_shape\n",
    "\n",
    "\n",
    "supplied_keys = set(p.keys())\n",
    "\n",
    "if  supplied_keys != required_parameters:\n",
    "    print(\"Parameters are incorrect\")\n",
    "    if len(supplied_keys - required_parameters)>0: print(\"Shouldn't have:\", str(supplied_keys - required_parameters))\n",
    "    if len(required_parameters - supplied_keys)>0: print(\"Need to have:\", str(required_parameters - supplied_keys))\n",
    "    raise RuntimeError(\"Parameters are incorrect\")"
   ]
  },
  {
   "cell_type": "code",
   "execution_count": 6,
   "id": "3a028d58",
   "metadata": {
    "execution": {
     "iopub.execute_input": "2022-03-28T07:13:41.216649Z",
     "iopub.status.busy": "2022-03-28T07:13:41.216281Z",
     "iopub.status.idle": "2022-03-28T07:13:41.236955Z",
     "shell.execute_reply": "2022-03-28T07:13:41.236240Z"
    },
    "papermill": {
     "duration": 0.043586,
     "end_time": "2022-03-28T07:13:41.237109",
     "exception": false,
     "start_time": "2022-03-28T07:13:41.193523",
     "status": "completed"
    },
    "tags": []
   },
   "outputs": [],
   "source": [
    "###################################\n",
    "# Set the RNGs and make it all deterministic\n",
    "###################################\n",
    "np.random.seed(p.seed)\n",
    "random.seed(p.seed)\n",
    "torch.manual_seed(p.seed)\n",
    "\n",
    "torch.use_deterministic_algorithms(True) "
   ]
  },
  {
   "cell_type": "code",
   "execution_count": 7,
   "id": "b691acf6",
   "metadata": {
    "execution": {
     "iopub.execute_input": "2022-03-28T07:13:41.286162Z",
     "iopub.status.busy": "2022-03-28T07:13:41.285795Z",
     "iopub.status.idle": "2022-03-28T07:13:41.308844Z",
     "shell.execute_reply": "2022-03-28T07:13:41.308129Z"
    },
    "papermill": {
     "duration": 0.045977,
     "end_time": "2022-03-28T07:13:41.308999",
     "exception": false,
     "start_time": "2022-03-28T07:13:41.263022",
     "status": "completed"
    },
    "tags": []
   },
   "outputs": [],
   "source": [
    "###########################################\n",
    "# The stratified datasets honor this\n",
    "###########################################\n",
    "torch.set_default_dtype(eval(p.torch_default_dtype))"
   ]
  },
  {
   "cell_type": "code",
   "execution_count": 8,
   "id": "b5fba671",
   "metadata": {
    "execution": {
     "iopub.execute_input": "2022-03-28T07:13:41.359563Z",
     "iopub.status.busy": "2022-03-28T07:13:41.359181Z",
     "iopub.status.idle": "2022-03-28T07:13:41.413504Z",
     "shell.execute_reply": "2022-03-28T07:13:41.412792Z"
    },
    "papermill": {
     "duration": 0.076973,
     "end_time": "2022-03-28T07:13:41.413657",
     "exception": false,
     "start_time": "2022-03-28T07:13:41.336684",
     "status": "completed"
    },
    "tags": []
   },
   "outputs": [],
   "source": [
    "###################################\n",
    "# Build the network(s)\n",
    "# Note: It's critical to do this AFTER setting the RNG\n",
    "###################################\n",
    "x_net = build_sequential(p.x_net)"
   ]
  },
  {
   "cell_type": "code",
   "execution_count": 9,
   "id": "5d7e61cc",
   "metadata": {
    "execution": {
     "iopub.execute_input": "2022-03-28T07:13:41.463437Z",
     "iopub.status.busy": "2022-03-28T07:13:41.463074Z",
     "iopub.status.idle": "2022-03-28T07:13:41.488033Z",
     "shell.execute_reply": "2022-03-28T07:13:41.487288Z"
    },
    "papermill": {
     "duration": 0.048737,
     "end_time": "2022-03-28T07:13:41.488190",
     "exception": false,
     "start_time": "2022-03-28T07:13:41.439453",
     "status": "completed"
    },
    "tags": []
   },
   "outputs": [],
   "source": [
    "start_time_secs = time.time()"
   ]
  },
  {
   "cell_type": "code",
   "execution_count": 10,
   "id": "c6b67dfd",
   "metadata": {
    "execution": {
     "iopub.execute_input": "2022-03-28T07:13:41.537325Z",
     "iopub.status.busy": "2022-03-28T07:13:41.536959Z",
     "iopub.status.idle": "2022-03-28T07:13:41.556709Z",
     "shell.execute_reply": "2022-03-28T07:13:41.555897Z"
    },
    "papermill": {
     "duration": 0.042249,
     "end_time": "2022-03-28T07:13:41.556863",
     "exception": false,
     "start_time": "2022-03-28T07:13:41.514614",
     "status": "completed"
    },
    "tags": []
   },
   "outputs": [],
   "source": [
    "p.domains_source = []\n",
    "p.domains_target = []\n",
    "\n",
    "\n",
    "train_original_source = []\n",
    "val_original_source   = []\n",
    "test_original_source  = []\n",
    "\n",
    "train_original_target = []\n",
    "val_original_target   = []\n",
    "test_original_target  = []"
   ]
  },
  {
   "cell_type": "code",
   "execution_count": 11,
   "id": "e3d9c3d3",
   "metadata": {
    "execution": {
     "iopub.execute_input": "2022-03-28T07:13:41.607874Z",
     "iopub.status.busy": "2022-03-28T07:13:41.607480Z",
     "iopub.status.idle": "2022-03-28T07:13:41.624152Z",
     "shell.execute_reply": "2022-03-28T07:13:41.623395Z"
    },
    "papermill": {
     "duration": 0.039186,
     "end_time": "2022-03-28T07:13:41.624308",
     "exception": false,
     "start_time": "2022-03-28T07:13:41.585122",
     "status": "completed"
    },
    "tags": []
   },
   "outputs": [],
   "source": [
    "# global_x_transform_func = lambda x: normalize(x.to(torch.get_default_dtype()), \"unit_power\") # unit_power, unit_mag\n",
    "# global_x_transform_func = lambda x: normalize(x, \"unit_power\") # unit_power, unit_mag"
   ]
  },
  {
   "cell_type": "code",
   "execution_count": 12,
   "id": "acb78fd2",
   "metadata": {
    "execution": {
     "iopub.execute_input": "2022-03-28T07:13:41.680601Z",
     "iopub.status.busy": "2022-03-28T07:13:41.679766Z",
     "iopub.status.idle": "2022-03-28T07:13:41.697524Z",
     "shell.execute_reply": "2022-03-28T07:13:41.696715Z"
    },
    "papermill": {
     "duration": 0.046781,
     "end_time": "2022-03-28T07:13:41.697677",
     "exception": false,
     "start_time": "2022-03-28T07:13:41.650896",
     "status": "completed"
    },
    "tags": []
   },
   "outputs": [],
   "source": [
    "def add_dataset(\n",
    "    labels,\n",
    "    domains,\n",
    "    pickle_path,\n",
    "    x_transforms,\n",
    "    episode_transforms,\n",
    "    domain_prefix,\n",
    "    num_examples_per_domain_per_label,\n",
    "    source_or_target_dataset:str,\n",
    "    iterator_seed=p.seed,\n",
    "    dataset_seed=p.dataset_seed,\n",
    "    n_shot=p.n_shot,\n",
    "    n_way=p.n_way,\n",
    "    n_query=p.n_query,\n",
    "    train_val_test_k_factors=(p.train_k_factor,p.val_k_factor,p.test_k_factor),\n",
    "):\n",
    "   \n",
    "    if x_transforms == []: x_transform = None\n",
    "    else: x_transform = get_chained_transform(x_transforms)\n",
    "    \n",
    "    if episode_transforms == []: episode_transform = None\n",
    "    else: raise Exception(\"episode_transforms not implemented\")\n",
    "    \n",
    "    episode_transform = lambda tup, _prefix=domain_prefix: (_prefix + str(tup[0]), tup[1])\n",
    "\n",
    "\n",
    "    eaf = Episodic_Accessor_Factory(\n",
    "        labels=labels,\n",
    "        domains=domains,\n",
    "        num_examples_per_domain_per_label=num_examples_per_domain_per_label,\n",
    "        iterator_seed=iterator_seed,\n",
    "        dataset_seed=dataset_seed,\n",
    "        n_shot=n_shot,\n",
    "        n_way=n_way,\n",
    "        n_query=n_query,\n",
    "        train_val_test_k_factors=train_val_test_k_factors,\n",
    "        pickle_path=pickle_path,\n",
    "        x_transform_func=x_transform,\n",
    "    )\n",
    "\n",
    "    train, val, test = eaf.get_train(), eaf.get_val(), eaf.get_test()\n",
    "    train = Lazy_Iterable_Wrapper(train, episode_transform)\n",
    "    val = Lazy_Iterable_Wrapper(val, episode_transform)\n",
    "    test = Lazy_Iterable_Wrapper(test, episode_transform)\n",
    "\n",
    "    if source_or_target_dataset==\"source\":\n",
    "        train_original_source.append(train)\n",
    "        val_original_source.append(val)\n",
    "        test_original_source.append(test)\n",
    "\n",
    "        p.domains_source.extend(\n",
    "            [domain_prefix + str(u) for u in domains]\n",
    "        )\n",
    "    elif source_or_target_dataset==\"target\":\n",
    "        train_original_target.append(train)\n",
    "        val_original_target.append(val)\n",
    "        test_original_target.append(test)\n",
    "        p.domains_target.extend(\n",
    "            [domain_prefix + str(u) for u in domains]\n",
    "        )\n",
    "    else:\n",
    "        raise Exception(f\"invalid source_or_target_dataset: {source_or_target_dataset}\")\n",
    "    "
   ]
  },
  {
   "cell_type": "code",
   "execution_count": 13,
   "id": "fe266617",
   "metadata": {
    "execution": {
     "iopub.execute_input": "2022-03-28T07:13:41.747067Z",
     "iopub.status.busy": "2022-03-28T07:13:41.746706Z",
     "iopub.status.idle": "2022-03-28T07:15:33.918100Z",
     "shell.execute_reply": "2022-03-28T07:15:33.918773Z"
    },
    "papermill": {
     "duration": 112.195575,
     "end_time": "2022-03-28T07:15:33.918993",
     "exception": false,
     "start_time": "2022-03-28T07:13:41.723418",
     "status": "completed"
    },
    "tags": []
   },
   "outputs": [],
   "source": [
    "for ds in p.datasets:\n",
    "    add_dataset(**ds)"
   ]
  },
  {
   "cell_type": "code",
   "execution_count": 14,
   "id": "b90d65ac",
   "metadata": {
    "execution": {
     "iopub.execute_input": "2022-03-28T07:15:33.970829Z",
     "iopub.status.busy": "2022-03-28T07:15:33.970442Z",
     "iopub.status.idle": "2022-03-28T07:15:33.995140Z",
     "shell.execute_reply": "2022-03-28T07:15:33.995838Z"
    },
    "papermill": {
     "duration": 0.050601,
     "end_time": "2022-03-28T07:15:33.996056",
     "exception": false,
     "start_time": "2022-03-28T07:15:33.945455",
     "status": "completed"
    },
    "tags": []
   },
   "outputs": [],
   "source": [
    "# from steves_utils.CORES.utils import (\n",
    "#     ALL_NODES,\n",
    "#     ALL_NODES_MINIMUM_1000_EXAMPLES,\n",
    "#     ALL_DAYS\n",
    "# )\n",
    "\n",
    "# add_dataset(\n",
    "#     labels=ALL_NODES,\n",
    "#     domains = ALL_DAYS,\n",
    "#     num_examples_per_domain_per_label=100,\n",
    "#     pickle_path=os.path.join(get_datasets_base_path(), \"cores.stratified_ds.2022A.pkl\"),\n",
    "#     source_or_target_dataset=\"target\",\n",
    "#     x_transform_func=global_x_transform_func,\n",
    "#     domain_modifier=lambda u: f\"cores_{u}\"\n",
    "# )"
   ]
  },
  {
   "cell_type": "code",
   "execution_count": 15,
   "id": "76db484d",
   "metadata": {
    "execution": {
     "iopub.execute_input": "2022-03-28T07:15:34.047800Z",
     "iopub.status.busy": "2022-03-28T07:15:34.047384Z",
     "iopub.status.idle": "2022-03-28T07:15:34.068180Z",
     "shell.execute_reply": "2022-03-28T07:15:34.068876Z"
    },
    "papermill": {
     "duration": 0.044835,
     "end_time": "2022-03-28T07:15:34.069087",
     "exception": false,
     "start_time": "2022-03-28T07:15:34.024252",
     "status": "completed"
    },
    "tags": []
   },
   "outputs": [],
   "source": [
    "# from steves_utils.ORACLE.utils_v2 import (\n",
    "#     ALL_DISTANCES_FEET,\n",
    "#     ALL_RUNS,\n",
    "#     ALL_SERIAL_NUMBERS,\n",
    "# )\n",
    "\n",
    "\n",
    "# add_dataset(\n",
    "#     labels=ALL_SERIAL_NUMBERS,\n",
    "#     domains = list(set(ALL_DISTANCES_FEET) - {2,62}),\n",
    "#     num_examples_per_domain_per_label=100,\n",
    "#     pickle_path=os.path.join(get_datasets_base_path(), \"oracle.Run2_framed_2000Examples_stratified_ds.2022A.pkl\"),\n",
    "#     source_or_target_dataset=\"source\",\n",
    "#     x_transform_func=global_x_transform_func,\n",
    "#     domain_modifier=lambda u: f\"oracle1_{u}\"\n",
    "# )\n"
   ]
  },
  {
   "cell_type": "code",
   "execution_count": 16,
   "id": "97dea9d2",
   "metadata": {
    "execution": {
     "iopub.execute_input": "2022-03-28T07:15:34.124494Z",
     "iopub.status.busy": "2022-03-28T07:15:34.124116Z",
     "iopub.status.idle": "2022-03-28T07:15:34.145330Z",
     "shell.execute_reply": "2022-03-28T07:15:34.144490Z"
    },
    "papermill": {
     "duration": 0.046157,
     "end_time": "2022-03-28T07:15:34.145505",
     "exception": false,
     "start_time": "2022-03-28T07:15:34.099348",
     "status": "completed"
    },
    "tags": []
   },
   "outputs": [],
   "source": [
    "# from steves_utils.ORACLE.utils_v2 import (\n",
    "#     ALL_DISTANCES_FEET,\n",
    "#     ALL_RUNS,\n",
    "#     ALL_SERIAL_NUMBERS,\n",
    "# )\n",
    "\n",
    "\n",
    "# add_dataset(\n",
    "#     labels=ALL_SERIAL_NUMBERS,\n",
    "#     domains = list(set(ALL_DISTANCES_FEET) - {2,62,56}),\n",
    "#     num_examples_per_domain_per_label=100,\n",
    "#     pickle_path=os.path.join(get_datasets_base_path(), \"oracle.Run2_framed_2000Examples_stratified_ds.2022A.pkl\"),\n",
    "#     source_or_target_dataset=\"source\",\n",
    "#     x_transform_func=global_x_transform_func,\n",
    "#     domain_modifier=lambda u: f\"oracle2_{u}\"\n",
    "# )"
   ]
  },
  {
   "cell_type": "code",
   "execution_count": 17,
   "id": "6f289866",
   "metadata": {
    "execution": {
     "iopub.execute_input": "2022-03-28T07:15:34.200533Z",
     "iopub.status.busy": "2022-03-28T07:15:34.200149Z",
     "iopub.status.idle": "2022-03-28T07:15:34.216514Z",
     "shell.execute_reply": "2022-03-28T07:15:34.215783Z"
    },
    "papermill": {
     "duration": 0.040102,
     "end_time": "2022-03-28T07:15:34.216679",
     "exception": false,
     "start_time": "2022-03-28T07:15:34.176577",
     "status": "completed"
    },
    "tags": []
   },
   "outputs": [],
   "source": [
    "# add_dataset(\n",
    "#     labels=list(range(19)),\n",
    "#     domains = [0,1,2],\n",
    "#     num_examples_per_domain_per_label=100,\n",
    "#     pickle_path=os.path.join(get_datasets_base_path(), \"metehan.stratified_ds.2022A.pkl\"),\n",
    "#     source_or_target_dataset=\"target\",\n",
    "#     x_transform_func=global_x_transform_func,\n",
    "#     domain_modifier=lambda u: f\"met_{u}\"\n",
    "# )"
   ]
  },
  {
   "cell_type": "code",
   "execution_count": 18,
   "id": "86a863c3",
   "metadata": {
    "execution": {
     "iopub.execute_input": "2022-03-28T07:15:34.269186Z",
     "iopub.status.busy": "2022-03-28T07:15:34.268812Z",
     "iopub.status.idle": "2022-03-28T07:15:34.289740Z",
     "shell.execute_reply": "2022-03-28T07:15:34.289034Z"
    },
    "papermill": {
     "duration": 0.045807,
     "end_time": "2022-03-28T07:15:34.289896",
     "exception": false,
     "start_time": "2022-03-28T07:15:34.244089",
     "status": "completed"
    },
    "tags": []
   },
   "outputs": [],
   "source": [
    "# # from steves_utils.wisig.utils import (\n",
    "# #     ALL_NODES_MINIMUM_100_EXAMPLES,\n",
    "# #     ALL_NODES_MINIMUM_500_EXAMPLES,\n",
    "# #     ALL_NODES_MINIMUM_1000_EXAMPLES,\n",
    "# #     ALL_DAYS\n",
    "# # )\n",
    "\n",
    "# import steves_utils.wisig.utils as wisig\n",
    "\n",
    "\n",
    "# add_dataset(\n",
    "#     labels=wisig.ALL_NODES_MINIMUM_100_EXAMPLES,\n",
    "#     domains = wisig.ALL_DAYS,\n",
    "#     num_examples_per_domain_per_label=100,\n",
    "#     pickle_path=os.path.join(get_datasets_base_path(), \"wisig.node3-19.stratified_ds.2022A.pkl\"),\n",
    "#     source_or_target_dataset=\"target\",\n",
    "#     x_transform_func=global_x_transform_func,\n",
    "#     domain_modifier=lambda u: f\"wisig_{u}\"\n",
    "# )"
   ]
  },
  {
   "cell_type": "code",
   "execution_count": 19,
   "id": "fd5442bc",
   "metadata": {
    "execution": {
     "iopub.execute_input": "2022-03-28T07:15:34.343326Z",
     "iopub.status.busy": "2022-03-28T07:15:34.342940Z",
     "iopub.status.idle": "2022-03-28T07:15:34.361016Z",
     "shell.execute_reply": "2022-03-28T07:15:34.360228Z"
    },
    "papermill": {
     "duration": 0.044262,
     "end_time": "2022-03-28T07:15:34.361173",
     "exception": false,
     "start_time": "2022-03-28T07:15:34.316911",
     "status": "completed"
    },
    "tags": []
   },
   "outputs": [],
   "source": [
    "###################################\n",
    "# Build the dataset\n",
    "###################################\n",
    "train_original_source = Iterable_Aggregator(train_original_source, p.seed)\n",
    "val_original_source = Iterable_Aggregator(val_original_source, p.seed)\n",
    "test_original_source = Iterable_Aggregator(test_original_source, p.seed)\n",
    "\n",
    "\n",
    "train_original_target = Iterable_Aggregator(train_original_target, p.seed)\n",
    "val_original_target = Iterable_Aggregator(val_original_target, p.seed)\n",
    "test_original_target = Iterable_Aggregator(test_original_target, p.seed)\n",
    "\n",
    "# For CNN We only use X and Y. And we only train on the source.\n",
    "# Properly form the data using a transform lambda and Lazy_Iterable_Wrapper. Finally wrap them in a dataloader\n",
    "\n",
    "transform_lambda = lambda ex: ex[1] # Original is (<domain>, <episode>) so we strip down to episode only\n",
    "\n",
    "train_processed_source = Lazy_Iterable_Wrapper(train_original_source, transform_lambda)\n",
    "val_processed_source   = Lazy_Iterable_Wrapper(val_original_source, transform_lambda)\n",
    "test_processed_source  = Lazy_Iterable_Wrapper(test_original_source, transform_lambda)\n",
    "\n",
    "train_processed_target = Lazy_Iterable_Wrapper(train_original_target, transform_lambda)\n",
    "val_processed_target   = Lazy_Iterable_Wrapper(val_original_target, transform_lambda)\n",
    "test_processed_target  = Lazy_Iterable_Wrapper(test_original_target, transform_lambda)\n",
    "\n",
    "datasets = EasyDict({\n",
    "    \"source\": {\n",
    "        \"original\": {\"train\":train_original_source, \"val\":val_original_source, \"test\":test_original_source},\n",
    "        \"processed\": {\"train\":train_processed_source, \"val\":val_processed_source, \"test\":test_processed_source}\n",
    "    },\n",
    "    \"target\": {\n",
    "        \"original\": {\"train\":train_original_target, \"val\":val_original_target, \"test\":test_original_target},\n",
    "        \"processed\": {\"train\":train_processed_target, \"val\":val_processed_target, \"test\":test_processed_target}\n",
    "    },\n",
    "})"
   ]
  },
  {
   "cell_type": "code",
   "execution_count": 20,
   "id": "5b3c01fc",
   "metadata": {
    "execution": {
     "iopub.execute_input": "2022-03-28T07:15:34.413718Z",
     "iopub.status.busy": "2022-03-28T07:15:34.413346Z",
     "iopub.status.idle": "2022-03-28T07:15:48.609959Z",
     "shell.execute_reply": "2022-03-28T07:15:48.609129Z"
    },
    "papermill": {
     "duration": 14.221357,
     "end_time": "2022-03-28T07:15:48.610162",
     "exception": false,
     "start_time": "2022-03-28T07:15:34.388805",
     "status": "completed"
    },
    "tags": []
   },
   "outputs": [
    {
     "name": "stdout",
     "output_type": "stream",
     "text": [
      "{'C_5', 'C_4', 'C_2', 'C_1', 'C_3'}\n"
     ]
    },
    {
     "name": "stdout",
     "output_type": "stream",
     "text": [
      "{'O_38', 'O_32', 'O_20', 'O_50', 'O_8', 'O_14', 'O_44', 'O_26'}\n"
     ]
    },
    {
     "name": "stdout",
     "output_type": "stream",
     "text": [
      "tensor([[[0., 0., 0.,  ..., 0., 0., 0.],\n",
      "         [0., 0., 0.,  ..., 0., 0., 0.]],\n",
      "\n",
      "        [[0., 0., 0.,  ..., 0., 0., 0.],\n",
      "         [0., 0., 0.,  ..., 0., 0., 0.]],\n",
      "\n",
      "        [[0., 0., 0.,  ..., 0., 0., 0.],\n",
      "         [0., 0., 0.,  ..., 0., 0., 0.]],\n",
      "\n",
      "        ...,\n",
      "\n",
      "        [[0., 0., 0.,  ..., 0., 0., 0.],\n",
      "         [0., 0., 0.,  ..., 0., 0., 0.]],\n",
      "\n",
      "        [[0., 0., 0.,  ..., 0., 0., 0.],\n",
      "         [0., 0., 0.,  ..., 0., 0., 0.]],\n",
      "\n",
      "        [[0., 0., 0.,  ..., 0., 0., 0.],\n",
      "         [0., 0., 0.,  ..., 0., 0., 0.]]])\n"
     ]
    }
   ],
   "source": [
    "from steves_utils.transforms import get_average_magnitude, get_average_power\n",
    "\n",
    "print(set([u for u,_ in val_original_source]))\n",
    "print(set([u for u,_ in val_original_target]))\n",
    "\n",
    "s_x, s_y, q_x, q_y, _ = next(iter(train_processed_source))\n",
    "print(s_x)\n",
    "\n",
    "# for ds in [\n",
    "#     train_processed_source,\n",
    "#     val_processed_source,\n",
    "#     test_processed_source,\n",
    "#     train_processed_target,\n",
    "#     val_processed_target,\n",
    "#     test_processed_target\n",
    "# ]:\n",
    "#     for s_x, s_y, q_x, q_y, _ in ds:\n",
    "#         for X in (s_x, q_x):\n",
    "#             for x in X:\n",
    "#                 assert np.isclose(get_average_magnitude(x.numpy()), 1.0)\n",
    "#                 assert np.isclose(get_average_power(x.numpy()), 1.0)\n",
    "                "
   ]
  },
  {
   "cell_type": "code",
   "execution_count": 21,
   "id": "bbdacba1",
   "metadata": {
    "execution": {
     "iopub.execute_input": "2022-03-28T07:15:48.670477Z",
     "iopub.status.busy": "2022-03-28T07:15:48.670064Z",
     "iopub.status.idle": "2022-03-28T07:15:48.786010Z",
     "shell.execute_reply": "2022-03-28T07:15:48.786366Z"
    },
    "papermill": {
     "duration": 0.144949,
     "end_time": "2022-03-28T07:15:48.786480",
     "exception": false,
     "start_time": "2022-03-28T07:15:48.641531",
     "status": "completed"
    },
    "tags": []
   },
   "outputs": [
    {
     "name": "stdout",
     "output_type": "stream",
     "text": [
      "(2, 256)\n"
     ]
    }
   ],
   "source": [
    "###################################\n",
    "# Build the model\n",
    "###################################\n",
    "# easfsl only wants a tuple for the shape\n",
    "model = Steves_Prototypical_Network(x_net, device=p.device, x_shape=tuple(p.x_shape))\n",
    "optimizer = Adam(params=model.parameters(), lr=p.lr)"
   ]
  },
  {
   "cell_type": "code",
   "execution_count": 22,
   "id": "22b39ac5",
   "metadata": {
    "execution": {
     "iopub.execute_input": "2022-03-28T07:15:48.837239Z",
     "iopub.status.busy": "2022-03-28T07:15:48.836872Z",
     "iopub.status.idle": "2022-03-28T07:35:07.682437Z",
     "shell.execute_reply": "2022-03-28T07:35:07.682095Z"
    },
    "papermill": {
     "duration": 1158.87323,
     "end_time": "2022-03-28T07:35:07.682522",
     "exception": false,
     "start_time": "2022-03-28T07:15:48.809292",
     "status": "completed"
    },
    "tags": []
   },
   "outputs": [
    {
     "name": "stdout",
     "output_type": "stream",
     "text": [
      "epoch: 1, [batch: 1 / 6315], examples_per_second: 34.2950, train_label_loss: 2.7838, \n"
     ]
    },
    {
     "name": "stdout",
     "output_type": "stream",
     "text": [
      "epoch: 1, [batch: 632 / 6315], examples_per_second: 3774.8020, train_label_loss: 0.0080, \n"
     ]
    },
    {
     "name": "stdout",
     "output_type": "stream",
     "text": [
      "epoch: 1, [batch: 1263 / 6315], examples_per_second: 3817.1631, train_label_loss: 0.1539, \n"
     ]
    },
    {
     "name": "stdout",
     "output_type": "stream",
     "text": [
      "epoch: 1, [batch: 1895 / 6315], examples_per_second: 3905.1391, train_label_loss: 0.0005, \n"
     ]
    },
    {
     "name": "stdout",
     "output_type": "stream",
     "text": [
      "epoch: 1, [batch: 2526 / 6315], examples_per_second: 3858.9650, train_label_loss: 0.0014, \n"
     ]
    },
    {
     "name": "stdout",
     "output_type": "stream",
     "text": [
      "epoch: 1, [batch: 3158 / 6315], examples_per_second: 3947.7587, train_label_loss: 0.0002, \n"
     ]
    },
    {
     "name": "stdout",
     "output_type": "stream",
     "text": [
      "epoch: 1, [batch: 3789 / 6315], examples_per_second: 3881.7921, train_label_loss: 0.0042, \n"
     ]
    },
    {
     "name": "stdout",
     "output_type": "stream",
     "text": [
      "epoch: 1, [batch: 4420 / 6315], examples_per_second: 3853.1554, train_label_loss: 0.0171, \n"
     ]
    },
    {
     "name": "stdout",
     "output_type": "stream",
     "text": [
      "epoch: 1, [batch: 5052 / 6315], examples_per_second: 3864.4998, train_label_loss: 0.0005, \n"
     ]
    },
    {
     "name": "stdout",
     "output_type": "stream",
     "text": [
      "epoch: 1, [batch: 5683 / 6315], examples_per_second: 4189.8648, train_label_loss: 0.0013, \n"
     ]
    },
    {
     "name": "stdout",
     "output_type": "stream",
     "text": [
      "=============================================================\n",
      "epoch: 1, source_val_acc_label: 0.9970, target_val_acc_label: 0.3071, source_val_label_loss: 0.0115, target_val_label_loss: 2.0348, \n",
      "=============================================================\n"
     ]
    },
    {
     "name": "stdout",
     "output_type": "stream",
     "text": [
      "New best\n"
     ]
    },
    {
     "name": "stdout",
     "output_type": "stream",
     "text": [
      "epoch: 2, [batch: 1 / 6307], examples_per_second: 4.6424, train_label_loss: 0.0011, \n"
     ]
    },
    {
     "name": "stdout",
     "output_type": "stream",
     "text": [
      "epoch: 2, [batch: 631 / 6307], examples_per_second: 4173.7297, train_label_loss: 0.0035, \n"
     ]
    },
    {
     "name": "stdout",
     "output_type": "stream",
     "text": [
      "epoch: 2, [batch: 1262 / 6307], examples_per_second: 4436.5904, train_label_loss: 0.0013, \n"
     ]
    },
    {
     "name": "stdout",
     "output_type": "stream",
     "text": [
      "epoch: 2, [batch: 1892 / 6307], examples_per_second: 4247.1190, train_label_loss: 0.0000, \n"
     ]
    },
    {
     "name": "stdout",
     "output_type": "stream",
     "text": [
      "epoch: 2, [batch: 2523 / 6307], examples_per_second: 4254.9155, train_label_loss: 0.0027, \n"
     ]
    },
    {
     "name": "stdout",
     "output_type": "stream",
     "text": [
      "epoch: 2, [batch: 3154 / 6307], examples_per_second: 5072.3216, train_label_loss: 0.0000, \n"
     ]
    },
    {
     "name": "stdout",
     "output_type": "stream",
     "text": [
      "epoch: 2, [batch: 3784 / 6307], examples_per_second: 5140.2578, train_label_loss: 0.0000, \n"
     ]
    },
    {
     "name": "stdout",
     "output_type": "stream",
     "text": [
      "epoch: 2, [batch: 4415 / 6307], examples_per_second: 4920.9008, train_label_loss: 0.0025, \n"
     ]
    },
    {
     "name": "stdout",
     "output_type": "stream",
     "text": [
      "epoch: 2, [batch: 5045 / 6307], examples_per_second: 4774.7849, train_label_loss: 0.0012, \n"
     ]
    },
    {
     "name": "stdout",
     "output_type": "stream",
     "text": [
      "epoch: 2, [batch: 5676 / 6307], examples_per_second: 5039.2787, train_label_loss: 0.1713, \n"
     ]
    },
    {
     "name": "stdout",
     "output_type": "stream",
     "text": [
      "=============================================================\n",
      "epoch: 2, source_val_acc_label: 0.9981, target_val_acc_label: 0.3434, source_val_label_loss: 0.0099, target_val_label_loss: 2.0192, \n",
      "=============================================================\n"
     ]
    },
    {
     "name": "stdout",
     "output_type": "stream",
     "text": [
      "New best\n"
     ]
    },
    {
     "name": "stdout",
     "output_type": "stream",
     "text": [
      "epoch: 3, [batch: 1 / 6326], examples_per_second: 5.4236, train_label_loss: 0.0006, \n"
     ]
    },
    {
     "name": "stdout",
     "output_type": "stream",
     "text": [
      "epoch: 3, [batch: 633 / 6326], examples_per_second: 4918.9631, train_label_loss: 0.0000, \n"
     ]
    },
    {
     "name": "stdout",
     "output_type": "stream",
     "text": [
      "epoch: 3, [batch: 1266 / 6326], examples_per_second: 4899.1070, train_label_loss: 0.0000, \n"
     ]
    },
    {
     "name": "stdout",
     "output_type": "stream",
     "text": [
      "epoch: 3, [batch: 1898 / 6326], examples_per_second: 4986.7225, train_label_loss: 0.0015, \n"
     ]
    },
    {
     "name": "stdout",
     "output_type": "stream",
     "text": [
      "epoch: 3, [batch: 2531 / 6326], examples_per_second: 5268.9016, train_label_loss: 0.0000, \n"
     ]
    },
    {
     "name": "stdout",
     "output_type": "stream",
     "text": [
      "epoch: 3, [batch: 3163 / 6326], examples_per_second: 5319.0647, train_label_loss: 0.0000, \n"
     ]
    },
    {
     "name": "stdout",
     "output_type": "stream",
     "text": [
      "epoch: 3, [batch: 3796 / 6326], examples_per_second: 5392.3974, train_label_loss: 0.0000, \n"
     ]
    },
    {
     "name": "stdout",
     "output_type": "stream",
     "text": [
      "epoch: 3, [batch: 4428 / 6326], examples_per_second: 5272.7261, train_label_loss: 0.0001, \n"
     ]
    },
    {
     "name": "stdout",
     "output_type": "stream",
     "text": [
      "epoch: 3, [batch: 5061 / 6326], examples_per_second: 5216.6086, train_label_loss: 0.0045, \n"
     ]
    },
    {
     "name": "stdout",
     "output_type": "stream",
     "text": [
      "epoch: 3, [batch: 5693 / 6326], examples_per_second: 4980.8424, train_label_loss: 0.0000, \n"
     ]
    },
    {
     "name": "stdout",
     "output_type": "stream",
     "text": [
      "=============================================================\n",
      "epoch: 3, source_val_acc_label: 0.9972, target_val_acc_label: 0.2846, source_val_label_loss: 0.0109, target_val_label_loss: 2.5458, \n",
      "=============================================================\n"
     ]
    },
    {
     "name": "stdout",
     "output_type": "stream",
     "text": [
      "epoch: 4, [batch: 1 / 6302], examples_per_second: 4.6939, train_label_loss: 0.0507, \n"
     ]
    },
    {
     "name": "stdout",
     "output_type": "stream",
     "text": [
      "epoch: 4, [batch: 631 / 6302], examples_per_second: 3796.3527, train_label_loss: 0.0000, \n"
     ]
    },
    {
     "name": "stdout",
     "output_type": "stream",
     "text": [
      "epoch: 4, [batch: 1261 / 6302], examples_per_second: 3903.8746, train_label_loss: 0.0000, \n"
     ]
    },
    {
     "name": "stdout",
     "output_type": "stream",
     "text": [
      "epoch: 4, [batch: 1891 / 6302], examples_per_second: 3824.0205, train_label_loss: 0.0002, \n"
     ]
    },
    {
     "name": "stdout",
     "output_type": "stream",
     "text": [
      "epoch: 4, [batch: 2521 / 6302], examples_per_second: 3838.2458, train_label_loss: 0.0000, \n"
     ]
    },
    {
     "name": "stdout",
     "output_type": "stream",
     "text": [
      "epoch: 4, [batch: 3151 / 6302], examples_per_second: 3771.4882, train_label_loss: 0.0003, \n"
     ]
    },
    {
     "name": "stdout",
     "output_type": "stream",
     "text": [
      "epoch: 4, [batch: 3781 / 6302], examples_per_second: 3768.9102, train_label_loss: 0.0001, \n"
     ]
    },
    {
     "name": "stdout",
     "output_type": "stream",
     "text": [
      "epoch: 4, [batch: 4411 / 6302], examples_per_second: 3784.8843, train_label_loss: 0.0018, \n"
     ]
    },
    {
     "name": "stdout",
     "output_type": "stream",
     "text": [
      "epoch: 4, [batch: 5041 / 6302], examples_per_second: 3903.5138, train_label_loss: 0.0013, \n"
     ]
    },
    {
     "name": "stdout",
     "output_type": "stream",
     "text": [
      "epoch: 4, [batch: 5671 / 6302], examples_per_second: 4346.8542, train_label_loss: 0.0000, \n"
     ]
    },
    {
     "name": "stdout",
     "output_type": "stream",
     "text": [
      "=============================================================\n",
      "epoch: 4, source_val_acc_label: 0.9990, target_val_acc_label: 0.3764, source_val_label_loss: 0.0064, target_val_label_loss: 1.8317, \n",
      "=============================================================\n"
     ]
    },
    {
     "name": "stdout",
     "output_type": "stream",
     "text": [
      "New best\n"
     ]
    },
    {
     "name": "stdout",
     "output_type": "stream",
     "text": [
      "epoch: 5, [batch: 1 / 6324], examples_per_second: 4.6109, train_label_loss: 0.0041, \n"
     ]
    },
    {
     "name": "stdout",
     "output_type": "stream",
     "text": [
      "epoch: 5, [batch: 633 / 6324], examples_per_second: 3897.9765, train_label_loss: 0.0000, \n"
     ]
    },
    {
     "name": "stdout",
     "output_type": "stream",
     "text": [
      "epoch: 5, [batch: 1265 / 6324], examples_per_second: 3878.8106, train_label_loss: 0.0009, \n"
     ]
    },
    {
     "name": "stdout",
     "output_type": "stream",
     "text": [
      "epoch: 5, [batch: 1897 / 6324], examples_per_second: 3920.6955, train_label_loss: 0.0000, \n"
     ]
    },
    {
     "name": "stdout",
     "output_type": "stream",
     "text": [
      "epoch: 5, [batch: 2530 / 6324], examples_per_second: 3810.4432, train_label_loss: 0.0000, \n"
     ]
    },
    {
     "name": "stdout",
     "output_type": "stream",
     "text": [
      "epoch: 5, [batch: 3162 / 6324], examples_per_second: 3873.8527, train_label_loss: 0.0000, \n"
     ]
    },
    {
     "name": "stdout",
     "output_type": "stream",
     "text": [
      "epoch: 5, [batch: 3794 / 6324], examples_per_second: 3830.7923, train_label_loss: 0.0000, \n"
     ]
    },
    {
     "name": "stdout",
     "output_type": "stream",
     "text": [
      "epoch: 5, [batch: 4427 / 6324], examples_per_second: 3912.4322, train_label_loss: 0.0002, \n"
     ]
    },
    {
     "name": "stdout",
     "output_type": "stream",
     "text": [
      "epoch: 5, [batch: 5059 / 6324], examples_per_second: 3821.5551, train_label_loss: 0.0002, \n"
     ]
    },
    {
     "name": "stdout",
     "output_type": "stream",
     "text": [
      "epoch: 5, [batch: 5691 / 6324], examples_per_second: 4037.6422, train_label_loss: 0.0000, \n"
     ]
    },
    {
     "name": "stdout",
     "output_type": "stream",
     "text": [
      "=============================================================\n",
      "epoch: 5, source_val_acc_label: 0.9985, target_val_acc_label: 0.3305, source_val_label_loss: 0.0094, target_val_label_loss: 2.2588, \n",
      "=============================================================\n"
     ]
    },
    {
     "name": "stdout",
     "output_type": "stream",
     "text": [
      "epoch: 6, [batch: 1 / 6313], examples_per_second: 4.5164, train_label_loss: 0.0000, \n"
     ]
    },
    {
     "name": "stdout",
     "output_type": "stream",
     "text": [
      "epoch: 6, [batch: 632 / 6313], examples_per_second: 3814.1788, train_label_loss: 0.0000, \n"
     ]
    },
    {
     "name": "stdout",
     "output_type": "stream",
     "text": [
      "epoch: 6, [batch: 1263 / 6313], examples_per_second: 3878.2559, train_label_loss: 0.0000, \n"
     ]
    },
    {
     "name": "stdout",
     "output_type": "stream",
     "text": [
      "epoch: 6, [batch: 1894 / 6313], examples_per_second: 3944.1998, train_label_loss: 0.0000, \n"
     ]
    },
    {
     "name": "stdout",
     "output_type": "stream",
     "text": [
      "epoch: 6, [batch: 2525 / 6313], examples_per_second: 3824.7700, train_label_loss: 0.0000, \n"
     ]
    },
    {
     "name": "stdout",
     "output_type": "stream",
     "text": [
      "epoch: 6, [batch: 3157 / 6313], examples_per_second: 3847.9366, train_label_loss: 0.0000, \n"
     ]
    },
    {
     "name": "stdout",
     "output_type": "stream",
     "text": [
      "epoch: 6, [batch: 3788 / 6313], examples_per_second: 3878.8287, train_label_loss: 0.0000, \n"
     ]
    },
    {
     "name": "stdout",
     "output_type": "stream",
     "text": [
      "epoch: 6, [batch: 4419 / 6313], examples_per_second: 3922.5685, train_label_loss: 0.0000, \n"
     ]
    },
    {
     "name": "stdout",
     "output_type": "stream",
     "text": [
      "epoch: 6, [batch: 5050 / 6313], examples_per_second: 3981.0372, train_label_loss: 0.0000, \n"
     ]
    },
    {
     "name": "stdout",
     "output_type": "stream",
     "text": [
      "epoch: 6, [batch: 5681 / 6313], examples_per_second: 4212.0488, train_label_loss: 0.0000, \n"
     ]
    },
    {
     "name": "stdout",
     "output_type": "stream",
     "text": [
      "=============================================================\n",
      "epoch: 6, source_val_acc_label: 0.9987, target_val_acc_label: 0.3429, source_val_label_loss: 0.0112, target_val_label_loss: 2.2963, \n",
      "=============================================================\n"
     ]
    },
    {
     "name": "stdout",
     "output_type": "stream",
     "text": [
      "epoch: 7, [batch: 1 / 6295], examples_per_second: 4.6877, train_label_loss: 0.0000, \n"
     ]
    },
    {
     "name": "stdout",
     "output_type": "stream",
     "text": [
      "epoch: 7, [batch: 630 / 6295], examples_per_second: 3888.3836, train_label_loss: 0.0000, \n"
     ]
    },
    {
     "name": "stdout",
     "output_type": "stream",
     "text": [
      "epoch: 7, [batch: 1259 / 6295], examples_per_second: 3755.6865, train_label_loss: 0.0000, \n"
     ]
    },
    {
     "name": "stdout",
     "output_type": "stream",
     "text": [
      "epoch: 7, [batch: 1889 / 6295], examples_per_second: 3897.8818, train_label_loss: 0.0000, \n"
     ]
    },
    {
     "name": "stdout",
     "output_type": "stream",
     "text": [
      "epoch: 7, [batch: 2518 / 6295], examples_per_second: 3923.7815, train_label_loss: 0.0000, \n"
     ]
    },
    {
     "name": "stdout",
     "output_type": "stream",
     "text": [
      "epoch: 7, [batch: 3148 / 6295], examples_per_second: 3882.3805, train_label_loss: 0.0000, \n"
     ]
    },
    {
     "name": "stdout",
     "output_type": "stream",
     "text": [
      "epoch: 7, [batch: 3777 / 6295], examples_per_second: 3817.9916, train_label_loss: 0.0000, \n"
     ]
    },
    {
     "name": "stdout",
     "output_type": "stream",
     "text": [
      "epoch: 7, [batch: 4406 / 6295], examples_per_second: 3833.2781, train_label_loss: 0.0006, \n"
     ]
    },
    {
     "name": "stdout",
     "output_type": "stream",
     "text": [
      "epoch: 7, [batch: 5036 / 6295], examples_per_second: 3886.7871, train_label_loss: 0.0000, \n"
     ]
    },
    {
     "name": "stdout",
     "output_type": "stream",
     "text": [
      "epoch: 7, [batch: 5665 / 6295], examples_per_second: 3886.9576, train_label_loss: 0.0000, \n"
     ]
    },
    {
     "name": "stdout",
     "output_type": "stream",
     "text": [
      "=============================================================\n",
      "epoch: 7, source_val_acc_label: 0.9986, target_val_acc_label: 0.3459, source_val_label_loss: 0.0098, target_val_label_loss: 2.3617, \n",
      "=============================================================\n"
     ]
    },
    {
     "name": "stdout",
     "output_type": "stream",
     "text": [
      "epoch: 8, [batch: 1 / 6293], examples_per_second: 4.6318, train_label_loss: 0.0000, \n"
     ]
    },
    {
     "name": "stdout",
     "output_type": "stream",
     "text": [
      "epoch: 8, [batch: 630 / 6293], examples_per_second: 3844.4002, train_label_loss: 0.0000, \n"
     ]
    },
    {
     "name": "stdout",
     "output_type": "stream",
     "text": [
      "epoch: 8, [batch: 1259 / 6293], examples_per_second: 3891.5546, train_label_loss: 0.0000, \n"
     ]
    },
    {
     "name": "stdout",
     "output_type": "stream",
     "text": [
      "epoch: 8, [batch: 1888 / 6293], examples_per_second: 3941.5356, train_label_loss: 0.0000, \n"
     ]
    },
    {
     "name": "stdout",
     "output_type": "stream",
     "text": [
      "epoch: 8, [batch: 2517 / 6293], examples_per_second: 3888.8238, train_label_loss: 0.0000, \n"
     ]
    },
    {
     "name": "stdout",
     "output_type": "stream",
     "text": [
      "epoch: 8, [batch: 3147 / 6293], examples_per_second: 3865.6211, train_label_loss: 0.0000, \n"
     ]
    },
    {
     "name": "stdout",
     "output_type": "stream",
     "text": [
      "epoch: 8, [batch: 3776 / 6293], examples_per_second: 3882.5577, train_label_loss: 0.0000, \n"
     ]
    },
    {
     "name": "stdout",
     "output_type": "stream",
     "text": [
      "epoch: 8, [batch: 4405 / 6293], examples_per_second: 3868.8263, train_label_loss: 0.0005, \n"
     ]
    },
    {
     "name": "stdout",
     "output_type": "stream",
     "text": [
      "epoch: 8, [batch: 5034 / 6293], examples_per_second: 3889.2709, train_label_loss: 0.0000, \n"
     ]
    },
    {
     "name": "stdout",
     "output_type": "stream",
     "text": [
      "epoch: 8, [batch: 5663 / 6293], examples_per_second: 3892.1568, train_label_loss: 0.0000, \n"
     ]
    },
    {
     "name": "stdout",
     "output_type": "stream",
     "text": [
      "=============================================================\n",
      "epoch: 8, source_val_acc_label: 0.9989, target_val_acc_label: 0.3612, source_val_label_loss: 0.0086, target_val_label_loss: 2.2395, \n",
      "=============================================================\n"
     ]
    },
    {
     "name": "stdout",
     "output_type": "stream",
     "text": [
      "Patience (3) exhausted\n"
     ]
    }
   ],
   "source": [
    "###################################\n",
    "# train\n",
    "###################################\n",
    "jig = PTN_Train_Eval_Test_Jig(model, p.BEST_MODEL_PATH, p.device)\n",
    "\n",
    "jig.train(\n",
    "    train_iterable=datasets.source.processed.train,\n",
    "    source_val_iterable=datasets.source.processed.val,\n",
    "    target_val_iterable=datasets.target.processed.val,\n",
    "    num_epochs=p.n_epoch,\n",
    "    num_logs_per_epoch=p.NUM_LOGS_PER_EPOCH,\n",
    "    patience=p.patience,\n",
    "    optimizer=optimizer,\n",
    "    criteria_for_best=p.criteria_for_best,\n",
    ")"
   ]
  },
  {
   "cell_type": "code",
   "execution_count": 23,
   "id": "31e8fabf",
   "metadata": {
    "execution": {
     "iopub.execute_input": "2022-03-28T07:35:07.784175Z",
     "iopub.status.busy": "2022-03-28T07:35:07.783611Z",
     "iopub.status.idle": "2022-03-28T07:35:07.816075Z",
     "shell.execute_reply": "2022-03-28T07:35:07.815321Z"
    },
    "papermill": {
     "duration": 0.086427,
     "end_time": "2022-03-28T07:35:07.816236",
     "exception": false,
     "start_time": "2022-03-28T07:35:07.729809",
     "status": "completed"
    },
    "tags": []
   },
   "outputs": [],
   "source": [
    "total_experiment_time_secs = time.time() - start_time_secs"
   ]
  },
  {
   "cell_type": "code",
   "execution_count": 24,
   "id": "87b9595b",
   "metadata": {
    "execution": {
     "iopub.execute_input": "2022-03-28T07:35:07.928531Z",
     "iopub.status.busy": "2022-03-28T07:35:07.927938Z",
     "iopub.status.idle": "2022-03-28T07:37:53.710498Z",
     "shell.execute_reply": "2022-03-28T07:37:53.711006Z"
    },
    "papermill": {
     "duration": 165.841364,
     "end_time": "2022-03-28T07:37:53.711175",
     "exception": false,
     "start_time": "2022-03-28T07:35:07.869811",
     "status": "completed"
    },
    "tags": []
   },
   "outputs": [],
   "source": [
    "###################################\n",
    "# Evaluate the model\n",
    "###################################\n",
    "source_test_label_accuracy, source_test_label_loss = jig.test(datasets.source.processed.test)\n",
    "target_test_label_accuracy, target_test_label_loss = jig.test(datasets.target.processed.test)\n",
    "\n",
    "source_val_label_accuracy, source_val_label_loss = jig.test(datasets.source.processed.val)\n",
    "target_val_label_accuracy, target_val_label_loss = jig.test(datasets.target.processed.val)\n",
    "\n",
    "history = jig.get_history()\n",
    "\n",
    "total_epochs_trained = len(history[\"epoch_indices\"])\n",
    "\n",
    "val_dl = Iterable_Aggregator((datasets.source.original.val,datasets.target.original.val))\n",
    "\n",
    "confusion = ptn_confusion_by_domain_over_dataloader(model, p.device, val_dl)\n",
    "per_domain_accuracy = per_domain_accuracy_from_confusion(confusion)\n",
    "\n",
    "# Add a key to per_domain_accuracy for if it was a source domain\n",
    "for domain, accuracy in per_domain_accuracy.items():\n",
    "    per_domain_accuracy[domain] = {\n",
    "        \"accuracy\": accuracy,\n",
    "        \"source?\": domain in p.domains_source\n",
    "    }\n",
    "\n",
    "# Do an independent accuracy assesment JUST TO BE SURE!\n",
    "# _source_test_label_accuracy = independent_accuracy_assesment(model, datasets.source.processed.test, p.device)\n",
    "# _target_test_label_accuracy = independent_accuracy_assesment(model, datasets.target.processed.test, p.device)\n",
    "# _source_val_label_accuracy = independent_accuracy_assesment(model, datasets.source.processed.val, p.device)\n",
    "# _target_val_label_accuracy = independent_accuracy_assesment(model, datasets.target.processed.val, p.device)\n",
    "\n",
    "# assert(_source_test_label_accuracy == source_test_label_accuracy)\n",
    "# assert(_target_test_label_accuracy == target_test_label_accuracy)\n",
    "# assert(_source_val_label_accuracy == source_val_label_accuracy)\n",
    "# assert(_target_val_label_accuracy == target_val_label_accuracy)\n",
    "\n",
    "experiment = {\n",
    "    \"experiment_name\": p.experiment_name,\n",
    "    \"parameters\": dict(p),\n",
    "    \"results\": {\n",
    "        \"source_test_label_accuracy\": source_test_label_accuracy,\n",
    "        \"source_test_label_loss\": source_test_label_loss,\n",
    "        \"target_test_label_accuracy\": target_test_label_accuracy,\n",
    "        \"target_test_label_loss\": target_test_label_loss,\n",
    "        \"source_val_label_accuracy\": source_val_label_accuracy,\n",
    "        \"source_val_label_loss\": source_val_label_loss,\n",
    "        \"target_val_label_accuracy\": target_val_label_accuracy,\n",
    "        \"target_val_label_loss\": target_val_label_loss,\n",
    "        \"total_epochs_trained\": total_epochs_trained,\n",
    "        \"total_experiment_time_secs\": total_experiment_time_secs,\n",
    "        \"confusion\": confusion,\n",
    "        \"per_domain_accuracy\": per_domain_accuracy,\n",
    "    },\n",
    "    \"history\": history,\n",
    "    \"dataset_metrics\": get_dataset_metrics(datasets, \"ptn\"),\n",
    "}"
   ]
  },
  {
   "cell_type": "code",
   "execution_count": 25,
   "id": "54a21829",
   "metadata": {
    "execution": {
     "iopub.execute_input": "2022-03-28T07:37:53.821691Z",
     "iopub.status.busy": "2022-03-28T07:37:53.821310Z",
     "iopub.status.idle": "2022-03-28T07:37:54.050838Z",
     "shell.execute_reply": "2022-03-28T07:37:54.051562Z"
    },
    "papermill": {
     "duration": 0.284213,
     "end_time": "2022-03-28T07:37:54.051829",
     "exception": false,
     "start_time": "2022-03-28T07:37:53.767616",
     "status": "completed"
    },
    "tags": []
   },
   "outputs": [
    {
     "data": {
      "image/png": "[encoded data removed]",
      "text/plain": [
       "<Figure size 1080x504 with 1 Axes>"
      ]
     },
     "metadata": {
      "needs_background": "light"
     },
     "output_type": "display_data"
    }
   ],
   "source": [
    "ax = get_loss_curve(experiment)\n",
    "plt.show()"
   ]
  },
  {
   "cell_type": "code",
   "execution_count": 26,
   "id": "fd8a0f60",
   "metadata": {
    "execution": {
     "iopub.execute_input": "2022-03-28T07:37:54.160002Z",
     "iopub.status.busy": "2022-03-28T07:37:54.159629Z",
     "iopub.status.idle": "2022-03-28T07:37:54.482019Z",
     "shell.execute_reply": "2022-03-28T07:37:54.482741Z"
    },
    "papermill": {
     "duration": 0.376156,
     "end_time": "2022-03-28T07:37:54.482953",
     "exception": false,
     "start_time": "2022-03-28T07:37:54.106797",
     "status": "completed"
    },
    "tags": []
   },
   "outputs": [
    {
     "data": {
      "text/plain": [
       "<AxesSubplot:title={'center':'Results'}>"
      ]
     },
     "execution_count": 26,
     "metadata": {},
     "output_type": "execute_result"
    },
    {
     "data": {
      "image/png": "[encoded data removed]",
      "text/plain": [
       "<Figure size 1080x504 with 1 Axes>"
      ]
     },
     "metadata": {
      "needs_background": "light"
     },
     "output_type": "display_data"
    }
   ],
   "source": [
    "get_results_table(experiment)"
   ]
  },
  {
   "cell_type": "code",
   "execution_count": 27,
   "id": "cf8dc689",
   "metadata": {
    "execution": {
     "iopub.execute_input": "2022-03-28T07:37:54.605775Z",
     "iopub.status.busy": "2022-03-28T07:37:54.605391Z",
     "iopub.status.idle": "2022-03-28T07:37:54.844309Z",
     "shell.execute_reply": "2022-03-28T07:37:54.845021Z"
    },
    "papermill": {
     "duration": 0.294934,
     "end_time": "2022-03-28T07:37:54.845240",
     "exception": false,
     "start_time": "2022-03-28T07:37:54.550306",
     "status": "completed"
    },
    "tags": []
   },
   "outputs": [
    {
     "data": {
      "text/plain": [
       "<AxesSubplot:title={'center':'Per Domain Validation Accuracy'}, xlabel='domain'>"
      ]
     },
     "execution_count": 27,
     "metadata": {},
     "output_type": "execute_result"
    },
    {
     "data": {
      "image/png": "[encoded data removed]",
      "text/plain": [
       "<Figure size 1080x504 with 1 Axes>"
      ]
     },
     "metadata": {
      "needs_background": "light"
     },
     "output_type": "display_data"
    }
   ],
   "source": [
    "get_domain_accuracies(experiment)"
   ]
  },
  {
   "cell_type": "code",
   "execution_count": 28,
   "id": "a74ae082",
   "metadata": {
    "execution": {
     "iopub.execute_input": "2022-03-28T07:37:54.959528Z",
     "iopub.status.busy": "2022-03-28T07:37:54.959143Z",
     "iopub.status.idle": "2022-03-28T07:37:54.985777Z",
     "shell.execute_reply": "2022-03-28T07:37:54.986465Z"
    },
    "papermill": {
     "duration": 0.08442,
     "end_time": "2022-03-28T07:37:54.986685",
     "exception": false,
     "start_time": "2022-03-28T07:37:54.902265",
     "status": "completed"
    },
    "tags": []
   },
   "outputs": [
    {
     "name": "stdout",
     "output_type": "stream",
     "text": [
      "Source Test Label Accuracy: 0.9984480812641083 Target Test Label Accuracy: 0.3771158854166667\n",
      "Source Val Label Accuracy: 0.9989642857142857 Target Val Label Accuracy: 0.37643229166666664\n"
     ]
    }
   ],
   "source": [
    "print(\"Source Test Label Accuracy:\", experiment[\"results\"][\"source_test_label_accuracy\"], \"Target Test Label Accuracy:\", experiment[\"results\"][\"target_test_label_accuracy\"])\n",
    "print(\"Source Val Label Accuracy:\", experiment[\"results\"][\"source_val_label_accuracy\"], \"Target Val Label Accuracy:\", experiment[\"results\"][\"target_val_label_accuracy\"])"
   ]
  },
  {
   "cell_type": "code",
   "execution_count": 29,
   "id": "dacca602",
   "metadata": {
    "execution": {
     "iopub.execute_input": "2022-03-28T07:37:55.100792Z",
     "iopub.status.busy": "2022-03-28T07:37:55.100233Z",
     "iopub.status.idle": "2022-03-28T07:37:55.124361Z",
     "shell.execute_reply": "2022-03-28T07:37:55.125040Z"
    },
    "papermill": {
     "duration": 0.080412,
     "end_time": "2022-03-28T07:37:55.125243",
     "exception": false,
     "start_time": "2022-03-28T07:37:55.044831",
     "status": "completed"
    },
    "tags": [
     "experiment_json"
    ]
   },
   "outputs": [
    {
     "data": {
      "text/plain": [
       "'{\"experiment_name\": \"tl_3-jitter10v2:cores -> oracle.run1.framed\", \"parameters\": {\"experiment_name\": \"tl_3-jitter10v2:cores -> oracle.run1.framed\", \"device\": \"cuda\", \"lr\": 0.0001, \"x_shape\": [2, 256], \"n_shot\": 3, \"n_query\": 2, \"train_k_factor\": 3, \"val_k_factor\": 2, \"test_k_factor\": 2, \"torch_default_dtype\": \"torch.float32\", \"n_epoch\": 50, \"patience\": 3, \"criteria_for_best\": \"target_accuracy\", \"x_net\": [{\"class\": \"nnReshape\", \"kargs\": {\"shape\": [-1, 1, 2, 256]}}, {\"class\": \"Conv2d\", \"kargs\": {\"in_channels\": 1, \"out_channels\": 256, \"kernel_size\": [1, 7], \"bias\": false, \"padding\": [0, 3]}}, {\"class\": \"ReLU\", \"kargs\": {\"inplace\": true}}, {\"class\": \"BatchNorm2d\", \"kargs\": {\"num_features\": 256}}, {\"class\": \"Conv2d\", \"kargs\": {\"in_channels\": 256, \"out_channels\": 80, \"kernel_size\": [2, 7], \"bias\": true, \"padding\": [0, 3]}}, {\"class\": \"ReLU\", \"kargs\": {\"inplace\": true}}, {\"class\": \"BatchNorm2d\", \"kargs\": {\"num_features\": 80}}, {\"class\": \"Flatten\", \"kargs\": {}}, {\"class\": \"Linear\", \"kargs\": {\"in_features\": 20480, \"out_features\": 256}}, {\"class\": \"ReLU\", \"kargs\": {\"inplace\": true}}, {\"class\": \"BatchNorm1d\", \"kargs\": {\"num_features\": 256}}, {\"class\": \"Linear\", \"kargs\": {\"in_features\": 256, \"out_features\": 256}}], \"NUM_LOGS_PER_EPOCH\": 10, \"BEST_MODEL_PATH\": \"./best_model.pth\", \"n_way\": 16, \"datasets\": [{\"labels\": [\"1-10.\", \"1-11.\", \"1-15.\", \"1-16.\", \"1-17.\", \"1-18.\", \"1-19.\", \"10-4.\", \"10-7.\", \"11-1.\", \"11-14.\", \"11-17.\", \"11-20.\", \"11-7.\", \"13-20.\", \"13-8.\", \"14-10.\", \"14-11.\", \"14-14.\", \"14-7.\", \"15-1.\", \"15-20.\", \"16-1.\", \"16-16.\", \"17-10.\", \"17-11.\", \"17-2.\", \"19-1.\", \"19-16.\", \"19-19.\", \"19-20.\", \"19-3.\", \"2-10.\", \"2-11.\", \"2-17.\", \"2-18.\", \"2-20.\", \"2-3.\", \"2-4.\", \"2-5.\", \"2-6.\", \"2-7.\", \"2-8.\", \"3-13.\", \"3-18.\", \"3-3.\", \"4-1.\", \"4-10.\", \"4-11.\", \"4-19.\", \"5-5.\", \"6-15.\", \"7-10.\", \"7-14.\", \"8-18.\", \"8-20.\", \"8-3.\", \"8-8.\"], \"domains\": [1, 2, 3, 4, 5], \"num_examples_per_domain_per_label\": -1, \"pickle_path\": \"/root/csc500-main/datasets/cores.stratified_ds.2022A.pkl\", \"source_or_target_dataset\": \"source\", \"x_transforms\": [\"unit_mag\", \"jitter_256_10\", \"lowpass_+/-10MHz\", \"take_200\"], \"episode_transforms\": [], \"domain_prefix\": \"C_\"}, {\"labels\": [\"3123D52\", \"3123D65\", \"3123D79\", \"3123D80\", \"3123D54\", \"3123D70\", \"3123D7B\", \"3123D89\", \"3123D58\", \"3123D76\", \"3123D7D\", \"3123EFE\", \"3123D64\", \"3123D78\", \"3123D7E\", \"3124E4A\"], \"domains\": [32, 38, 8, 44, 14, 50, 20, 26], \"num_examples_per_domain_per_label\": 2000, \"pickle_path\": \"/root/csc500-main/datasets/oracle.Run1_framed_2000Examples_stratified_ds.2022A.pkl\", \"source_or_target_dataset\": \"target\", \"x_transforms\": [\"unit_mag\", \"jitter_256_10\", \"take_200\", \"resample_20Msps_to_25Msps\"], \"episode_transforms\": [], \"domain_prefix\": \"O_\"}], \"seed\": 420, \"dataset_seed\": 420, \"domains_source\": [\"C_1\", \"C_2\", \"C_3\", \"C_4\", \"C_5\"], \"domains_target\": [\"O_32\", \"O_38\", \"O_8\", \"O_44\", \"O_14\", \"O_50\", \"O_20\", \"O_26\"]}, \"results\": {\"source_test_label_accuracy\": 0.9984480812641083, \"source_test_label_loss\": 0.008184961043298244, \"target_test_label_accuracy\": 0.3771158854166667, \"target_test_label_loss\": 1.8312571048736572, \"source_val_label_accuracy\": 0.9989642857142857, \"source_val_label_loss\": 0.006387901026755571, \"target_val_label_accuracy\": 0.37643229166666664, \"target_val_label_loss\": 1.83171546459198, \"total_epochs_trained\": 8, \"total_experiment_time_secs\": 1286.326679944992, \"confusion\": {\"C_4\": {\"42\": {\"42\": 32}, \"0\": {\"0\": 80}, \"1\": {\"1\": 40}, \"39\": {\"39\": 20}, \"28\": {\"28\": 32}, \"53\": {\"53\": 124}, \"19\": {\"19\": 144}, \"34\": {\"34\": 24}, \"33\": {\"33\": 36}, \"32\": {\"32\": 24}, \"10\": {\"10\": 136}, \"46\": {\"46\": 134}, \"20\": {\"20\": 122}, \"5\": {\"5\": 105, \"23\": 1, \"18\": 1, \"15\": 1}, \"40\": {\"40\": 124}, \"51\": {\"51\": 144}, \"37\": {\"37\": 24}, \"17\": {\"17\": 80}, \"45\": {\"45\": 96}, \"13\": {\"13\": 142}, \"27\": {\"27\": 144}, \"24\": {\"24\": 56}, \"30\": {\"30\": 44}, \"31\": {\"31\": 28}, \"41\": {\"41\": 34, \"10\": 1, \"13\": 1}, \"36\": {\"36\": 92}, \"16\": {\"16\": 96}, \"22\": {\"22\": 128}, \"44\": {\"44\": 131, \"19\": 1}, \"9\": {\"9\": 140}, \"57\": {\"57\": 100}, \"8\": {\"8\": 138}, \"23\": {\"23\": 132}, \"47\": {\"47\": 120}, \"43\": {\"43\": 138}, \"49\": {\"49\": 20}, \"3\": {\"3\": 124}, \"12\": {\"12\": 92}, \"38\": {\"38\": 40}, \"7\": {\"7\": 24}, \"14\": {\"14\": 16}, \"15\": {\"15\": 145, \"11\": 1}, \"25\": {\"25\": 128}, \"26\": {\"26\": 24}, \"21\": {\"21\": 132}, \"48\": {\"48\": 144}, \"56\": {\"56\": 134}, \"11\": {\"11\": 103, \"15\": 1}, \"2\": {\"2\": 36}, \"6\": {\"6\": 112}, \"55\": {\"55\": 140}, \"54\": {\"54\": 108}, \"29\": {\"29\": 124}, \"50\": {\"50\": 121, \"3\": 1}, \"52\": {\"52\": 116}, \"35\": {\"35\": 40}, \"4\": {\"4\": 120}, \"18\": {\"18\": 108}}, \"C_5\": {\"43\": {\"43\": 152}, \"35\": {\"35\": 36}, \"54\": {\"54\": 112}, \"22\": {\"22\": 28}, \"16\": {\"16\": 146}, \"5\": {\"5\": 128}, \"28\": {\"28\": 32}, \"14\": {\"14\": 39, \"57\": 1, \"46\": 2, \"5\": 2}, \"51\": {\"51\": 128}, \"19\": {\"19\": 140}, \"31\": {\"31\": 36}, \"10\": {\"10\": 68}, \"21\": {\"21\": 136}, \"3\": {\"3\": 100}, \"57\": {\"57\": 132}, \"9\": {\"9\": 146}, \"8\": {\"8\": 132}, \"46\": {\"46\": 140}, \"23\": {\"23\": 124}, \"37\": {\"37\": 24}, \"34\": {\"34\": 36}, \"4\": {\"4\": 100}, \"6\": {\"6\": 126, \"17\": 2}, \"48\": {\"48\": 136}, \"44\": {\"44\": 138}, \"40\": {\"40\": 124}, \"12\": {\"12\": 96}, \"30\": {\"30\": 128}, \"39\": {\"39\": 20}, \"45\": {\"45\": 124}, \"36\": {\"36\": 92}, \"27\": {\"27\": 140}, \"32\": {\"32\": 32}, \"52\": {\"52\": 130}, \"0\": {\"0\": 124}, \"26\": {\"26\": 24}, \"1\": {\"1\": 148}, \"53\": {\"53\": 146}, \"25\": {\"25\": 144}, \"24\": {\"24\": 80}, \"7\": {\"7\": 32}, \"18\": {\"18\": 64}, \"20\": {\"20\": 144}, \"33\": {\"33\": 32}, \"55\": {\"55\": 140}, \"41\": {\"41\": 28}, \"42\": {\"42\": 39, \"14\": 1}, \"49\": {\"49\": 36}, \"13\": {\"13\": 148}, \"38\": {\"38\": 32}, \"2\": {\"2\": 28}, \"47\": {\"47\": 100}, \"17\": {\"17\": 116}, \"11\": {\"11\": 154}, \"29\": {\"29\": 132}, \"50\": {\"50\": 138}, \"56\": {\"56\": 148}, \"15\": {\"15\": 142}}, \"C_2\": {\"49\": {\"49\": 24}, \"13\": {\"13\": 116}, \"37\": {\"37\": 36}, \"41\": {\"41\": 20}, \"15\": {\"15\": 142}, \"56\": {\"56\": 142}, \"14\": {\"14\": 24}, \"3\": {\"3\": 92}, \"38\": {\"38\": 20}, \"43\": {\"43\": 138}, \"33\": {\"33\": 28}, \"47\": {\"47\": 138}, \"30\": {\"30\": 144}, \"39\": {\"39\": 28}, \"12\": {\"12\": 92}, \"6\": {\"6\": 124}, \"51\": {\"51\": 134}, \"5\": {\"5\": 120}, \"34\": {\"34\": 28}, \"35\": {\"35\": 32}, \"0\": {\"0\": 48}, \"7\": {\"7\": 36}, \"24\": {\"24\": 96}, \"8\": {\"8\": 136}, \"20\": {\"20\": 124}, \"36\": {\"36\": 116}, \"42\": {\"42\": 36}, \"1\": {\"1\": 112}, \"4\": {\"4\": 148}, \"28\": {\"28\": 28}, \"50\": {\"50\": 136}, \"45\": {\"45\": 126, \"17\": 2}, \"18\": {\"18\": 48}, \"57\": {\"57\": 120}, \"46\": {\"46\": 128}, \"23\": {\"23\": 148}, \"27\": {\"27\": 138}, \"19\": {\"19\": 134}, \"22\": {\"22\": 136}, \"17\": {\"17\": 104}, \"55\": {\"55\": 136}, \"44\": {\"44\": 100}, \"26\": {\"26\": 24}, \"31\": {\"31\": 28}, \"16\": {\"16\": 130}, \"11\": {\"11\": 128}, \"25\": {\"25\": 126}, \"54\": {\"54\": 108}, \"32\": {\"32\": 28}, \"52\": {\"52\": 124}, \"40\": {\"40\": 132}, \"2\": {\"2\": 32}, \"10\": {\"10\": 110}, \"53\": {\"53\": 136}, \"9\": {\"9\": 150}, \"21\": {\"21\": 120}, \"48\": {\"48\": 138}, \"29\": {\"29\": 128}}, \"C_1\": {\"9\": {\"9\": 142}, \"25\": {\"25\": 128}, \"41\": {\"41\": 24}, \"29\": {\"29\": 140}, \"46\": {\"46\": 128}, \"4\": {\"4\": 132}, \"31\": {\"31\": 28}, \"36\": {\"36\": 64}, \"20\": {\"20\": 128}, \"7\": {\"7\": 28}, \"6\": {\"6\": 96}, \"16\": {\"16\": 138}, \"17\": {\"17\": 64}, \"50\": {\"50\": 148}, \"57\": {\"57\": 144}, \"23\": {\"23\": 136}, \"3\": {\"3\": 125, \"36\": 1}, \"53\": {\"53\": 140}, \"49\": {\"49\": 32}, \"56\": {\"56\": 152}, \"51\": {\"51\": 142}, \"26\": {\"26\": 24}, \"43\": {\"43\": 144}, \"22\": {\"22\": 135, \"24\": 1}, \"45\": {\"45\": 146}, \"13\": {\"13\": 152}, \"12\": {\"12\": 116}, \"54\": {\"54\": 104}, \"24\": {\"24\": 107, \"22\": 1}, \"44\": {\"44\": 136}, \"28\": {\"28\": 28}, \"33\": {\"33\": 32}, \"38\": {\"38\": 24}, \"0\": {\"0\": 144}, \"47\": {\"47\": 154}, \"42\": {\"42\": 40}, \"34\": {\"34\": 24}, \"48\": {\"48\": 142}, \"35\": {\"35\": 36}, \"2\": {\"2\": 36}, \"30\": {\"30\": 120}, \"18\": {\"18\": 72}, \"37\": {\"37\": 32}, \"1\": {\"1\": 100}, \"11\": {\"11\": 138}, \"55\": {\"55\": 130}, \"15\": {\"15\": 150}, \"10\": {\"10\": 96}, \"27\": {\"27\": 160}, \"19\": {\"19\": 146}, \"14\": {\"30\": 2, \"14\": 22}, \"8\": {\"8\": 140}, \"5\": {\"5\": 136}, \"39\": {\"39\": 28}, \"52\": {\"52\": 122}, \"21\": {\"21\": 124}, \"40\": {\"40\": 152}, \"32\": {\"32\": 32}}, \"C_3\": {\"56\": {\"56\": 120}, \"4\": {\"4\": 146}, \"34\": {\"34\": 32}, \"52\": {\"52\": 136}, \"32\": {\"32\": 28}, \"46\": {\"46\": 136}, \"12\": {\"12\": 92}, \"20\": {\"20\": 132}, \"54\": {\"54\": 100}, \"22\": {\"22\": 140}, \"26\": {\"26\": 24}, \"31\": {\"31\": 28}, \"10\": {\"10\": 64}, \"27\": {\"27\": 144}, \"40\": {\"40\": 136}, \"28\": {\"28\": 28}, \"5\": {\"5\": 114, \"23\": 2}, \"30\": {\"30\": 120}, \"7\": {\"7\": 36}, \"18\": {\"18\": 84}, \"39\": {\"39\": 16}, \"50\": {\"50\": 136}, \"49\": {\"49\": 20}, \"43\": {\"43\": 122}, \"29\": {\"29\": 114}, \"35\": {\"35\": 28}, \"13\": {\"13\": 124}, \"36\": {\"36\": 100}, \"11\": {\"11\": 146}, \"57\": {\"57\": 124}, \"9\": {\"9\": 130}, \"25\": {\"25\": 130}, \"16\": {\"16\": 126}, \"53\": {\"53\": 118}, \"33\": {\"33\": 28}, \"51\": {\"51\": 128}, \"44\": {\"44\": 88}, \"48\": {\"48\": 114}, \"6\": {\"6\": 87, \"52\": 1}, \"23\": {\"23\": 144}, \"1\": {\"1\": 100}, \"17\": {\"38\": 2, \"17\": 106}, \"21\": {\"21\": 122}, \"14\": {\"14\": 40}, \"55\": {\"55\": 144}, \"41\": {\"41\": 28}, \"3\": {\"3\": 138}, \"38\": {\"38\": 28}, \"2\": {\"2\": 32}, \"8\": {\"8\": 142}, \"37\": {\"37\": 28}, \"45\": {\"45\": 60}, \"42\": {\"42\": 28}, \"24\": {\"24\": 104}, \"15\": {\"15\": 136}, \"0\": {\"0\": 124}, \"47\": {\"47\": 92}, \"19\": {\"19\": 120}}, \"O_14\": {\"15\": {\"15\": 130, \"1\": 13, \"2\": 4, \"7\": 70, \"5\": 11, \"13\": 6, \"6\": 4, \"4\": 2}, \"5\": {\"5\": 34, \"2\": 35, \"4\": 41, \"14\": 5, \"13\": 12, \"7\": 16, \"1\": 50, \"8\": 3, \"15\": 11, \"3\": 20, \"6\": 10, \"10\": 1, \"0\": 2}, \"7\": {\"7\": 131, \"1\": 24, \"5\": 19, \"15\": 58, \"4\": 5, \"2\": 3}, \"4\": {\"3\": 43, \"13\": 13, \"4\": 52, \"6\": 14, \"5\": 32, \"1\": 22, \"14\": 6, \"7\": 3, \"10\": 19, \"2\": 24, \"8\": 6, \"0\": 5, \"15\": 1}, \"10\": {\"0\": 61, \"10\": 121, \"3\": 16, \"11\": 11, \"14\": 10, \"6\": 4, \"9\": 3, \"2\": 2, \"8\": 3, \"4\": 4, \"13\": 4, \"5\": 1}, \"11\": {\"11\": 137, \"0\": 35, \"9\": 35, \"12\": 15, \"14\": 3, \"10\": 14, \"13\": 1}, \"12\": {\"12\": 184, \"9\": 46, \"11\": 10}, \"0\": {\"0\": 90, \"3\": 25, \"8\": 11, \"11\": 33, \"2\": 3, \"10\": 42, \"4\": 5, \"14\": 14, \"9\": 12, \"13\": 2, \"6\": 2, \"5\": 1}, \"14\": {\"14\": 78, \"13\": 30, \"6\": 35, \"2\": 35, \"3\": 19, \"0\": 8, \"11\": 3, \"5\": 10, \"10\": 11, \"4\": 7, \"8\": 1, \"1\": 2, \"15\": 1}, \"8\": {\"8\": 187, \"4\": 10, \"0\": 8, \"9\": 3, \"3\": 11, \"5\": 8, \"1\": 11, \"10\": 1, \"2\": 1}, \"13\": {\"2\": 33, \"14\": 43, \"13\": 69, \"10\": 9, \"6\": 49, \"5\": 7, \"7\": 3, \"3\": 7, \"4\": 13, \"0\": 2, \"15\": 5}, \"6\": {\"2\": 28, \"6\": 72, \"13\": 57, \"0\": 1, \"10\": 9, \"14\": 32, \"5\": 12, \"4\": 13, \"3\": 12, \"1\": 2, \"15\": 1, \"7\": 1}, \"1\": {\"2\": 8, \"4\": 28, \"1\": 91, \"5\": 49, \"7\": 24, \"15\": 4, \"8\": 19, \"3\": 15, \"14\": 2}, \"3\": {\"3\": 52, \"8\": 16, \"2\": 32, \"5\": 12, \"4\": 30, \"10\": 36, \"6\": 7, \"14\": 21, \"0\": 12, \"13\": 11, \"1\": 10, \"11\": 1}, \"9\": {\"9\": 147, \"11\": 31, \"0\": 19, \"12\": 37, \"8\": 4, \"10\": 2}, \"2\": {\"5\": 27, \"13\": 19, \"3\": 25, \"4\": 18, \"2\": 44, \"6\": 43, \"14\": 30, \"1\": 10, \"15\": 6, \"7\": 7, \"0\": 6, \"8\": 2, \"10\": 3}}, \"O_20\": {\"4\": {\"4\": 45, \"14\": 16, \"3\": 17, \"7\": 16, \"2\": 5, \"12\": 23, \"8\": 24, \"10\": 27, \"5\": 16, \"0\": 13, \"1\": 10, \"13\": 2, \"6\": 9, \"15\": 8, \"9\": 7, \"11\": 2}, \"10\": {\"4\": 21, \"14\": 39, \"6\": 33, \"3\": 21, \"13\": 1, \"9\": 12, \"5\": 2, \"10\": 56, \"7\": 18, \"2\": 7, \"11\": 2, \"8\": 14, \"1\": 8, \"12\": 6}, \"15\": {\"15\": 29, \"4\": 12, \"5\": 33, \"2\": 12, \"0\": 33, \"3\": 15, \"7\": 13, \"12\": 16, \"13\": 20, \"8\": 6, \"9\": 11, \"1\": 37, \"10\": 3}, \"0\": {\"15\": 32, \"0\": 57, \"5\": 28, \"12\": 9, \"1\": 22, \"4\": 22, \"8\": 25, \"3\": 12, \"7\": 8, \"13\": 7, \"10\": 5, \"2\": 5, \"9\": 5, \"6\": 2, \"14\": 1}, \"6\": {\"6\": 80, \"14\": 50, \"7\": 23, \"8\": 18, \"12\": 3, \"11\": 21, \"2\": 5, \"9\": 4, \"10\": 22, \"4\": 6, \"13\": 3, \"1\": 1, \"3\": 4}, \"3\": {\"12\": 20, \"13\": 17, \"15\": 13, \"9\": 23, \"8\": 15, \"3\": 23, \"6\": 3, \"7\": 20, \"5\": 15, \"0\": 12, \"10\": 18, \"1\": 21, \"2\": 14, \"4\": 19, \"14\": 7}, \"7\": {\"12\": 15, \"9\": 9, \"4\": 10, \"7\": 23, \"3\": 12, \"8\": 22, \"10\": 27, \"13\": 25, \"2\": 18, \"14\": 15, \"11\": 15, \"6\": 22, \"0\": 9, \"5\": 7, \"1\": 6, \"15\": 5}, \"2\": {\"2\": 28, \"10\": 18, \"1\": 20, \"3\": 18, \"12\": 13, \"7\": 30, \"13\": 28, \"14\": 5, \"9\": 28, \"4\": 7, \"5\": 7, \"15\": 15, \"0\": 4, \"8\": 7, \"6\": 7, \"11\": 5}, \"8\": {\"3\": 19, \"10\": 17, \"6\": 21, \"8\": 42, \"0\": 12, \"14\": 33, \"1\": 8, \"11\": 2, \"12\": 15, \"4\": 27, \"7\": 14, \"5\": 9, \"2\": 7, \"9\": 7, \"15\": 4, \"13\": 3}, \"11\": {\"7\": 12, \"11\": 172, \"6\": 23, \"13\": 12, \"2\": 9, \"10\": 1, \"3\": 1, \"9\": 5, \"14\": 4, \"15\": 1}, \"14\": {\"9\": 6, \"10\": 55, \"14\": 56, \"4\": 22, \"6\": 44, \"3\": 8, \"5\": 4, \"1\": 4, \"11\": 6, \"7\": 13, \"12\": 3, \"8\": 16, \"2\": 3}, \"12\": {\"2\": 11, \"9\": 26, \"4\": 17, \"15\": 21, \"8\": 6, \"0\": 15, \"13\": 21, \"3\": 25, \"1\": 28, \"5\": 17, \"6\": 5, \"12\": 21, \"7\": 14, \"10\": 6, \"14\": 7}, \"13\": {\"13\": 71, \"15\": 23, \"7\": 20, \"5\": 7, \"12\": 15, \"9\": 25, \"8\": 4, \"2\": 25, \"1\": 17, \"3\": 12, \"11\": 9, \"14\": 3, \"6\": 6, \"0\": 1, \"10\": 2}, \"9\": {\"7\": 25, \"3\": 22, \"2\": 21, \"0\": 8, \"12\": 21, \"9\": 31, \"8\": 4, \"1\": 25, \"10\": 20, \"14\": 8, \"4\": 12, \"11\": 4, \"5\": 13, \"15\": 9, \"13\": 14, \"6\": 3}, \"5\": {\"3\": 18, \"9\": 20, \"13\": 16, \"12\": 21, \"15\": 26, \"0\": 29, \"5\": 39, \"8\": 10, \"4\": 17, \"1\": 22, \"7\": 6, \"10\": 6, \"14\": 1, \"2\": 8, \"6\": 1}, \"1\": {\"4\": 9, \"9\": 22, \"1\": 46, \"13\": 15, \"7\": 7, \"12\": 34, \"0\": 13, \"2\": 13, \"3\": 24, \"5\": 22, \"15\": 18, \"8\": 9, \"10\": 5, \"14\": 2, \"11\": 1}}, \"O_50\": {\"5\": {\"7\": 38, \"5\": 51, \"13\": 47, \"6\": 13, \"4\": 25, \"0\": 13, \"10\": 21, \"1\": 17, \"15\": 10, \"2\": 2, \"3\": 2, \"8\": 1}, \"12\": {\"12\": 138, \"11\": 18, \"14\": 45, \"9\": 39}, \"14\": {\"11\": 34, \"14\": 127, \"9\": 17, \"2\": 16, \"1\": 6, \"12\": 37, \"15\": 2, \"4\": 1}, \"4\": {\"1\": 46, \"5\": 28, \"15\": 50, \"4\": 52, \"7\": 12, \"13\": 18, \"6\": 19, \"11\": 5, \"2\": 3, \"0\": 5, \"14\": 2}, \"13\": {\"7\": 48, \"13\": 64, \"6\": 33, \"5\": 38, \"10\": 26, \"0\": 9, \"4\": 10, \"8\": 5, \"1\": 6, \"15\": 1}, \"10\": {\"0\": 37, \"8\": 44, \"10\": 87, \"7\": 29, \"5\": 13, \"2\": 2, \"3\": 4, \"13\": 24}, \"9\": {\"9\": 109, \"15\": 2, \"1\": 1, \"11\": 53, \"12\": 55, \"14\": 19, \"2\": 1}, \"15\": {\"15\": 102, \"1\": 52, \"11\": 18, \"6\": 23, \"4\": 27, \"14\": 8, \"5\": 4, \"0\": 2, \"13\": 1, \"9\": 2, \"2\": 1}, \"6\": {\"7\": 7, \"13\": 33, \"5\": 19, \"15\": 23, \"4\": 27, \"6\": 79, \"10\": 6, \"1\": 30, \"0\": 8, \"2\": 5, \"11\": 3}, \"2\": {\"2\": 163, \"14\": 6, \"0\": 47, \"1\": 16, \"4\": 2, \"6\": 2, \"10\": 1, \"15\": 1, \"8\": 1, \"11\": 1}, \"0\": {\"0\": 111, \"10\": 41, \"2\": 53, \"5\": 6, \"1\": 6, \"7\": 4, \"4\": 6, \"13\": 3, \"6\": 7, \"8\": 3}, \"11\": {\"15\": 21, \"11\": 107, \"12\": 12, \"14\": 32, \"9\": 51, \"1\": 14, \"6\": 2, \"4\": 1}, \"3\": {\"3\": 199, \"8\": 37, \"7\": 2, \"10\": 2}, \"8\": {\"8\": 149, \"3\": 38, \"10\": 40, \"7\": 9, \"0\": 2, \"2\": 1, \"5\": 1}, \"7\": {\"7\": 78, \"10\": 38, \"13\": 53, \"3\": 5, \"5\": 29, \"6\": 14, \"4\": 11, \"8\": 9, \"0\": 2, \"1\": 1}, \"1\": {\"6\": 18, \"1\": 74, \"11\": 12, \"4\": 43, \"14\": 4, \"15\": 41, \"0\": 8, \"5\": 15, \"2\": 10, \"13\": 12, \"10\": 3}}, \"O_26\": {\"7\": {\"7\": 33, \"4\": 34, \"8\": 22, \"0\": 13, \"2\": 18, \"3\": 33, \"9\": 13, \"1\": 11, \"10\": 9, \"15\": 17, \"5\": 14, \"14\": 14, \"6\": 5, \"13\": 4}, \"6\": {\"8\": 31, \"1\": 3, \"10\": 20, \"0\": 17, \"13\": 14, \"14\": 13, \"15\": 15, \"6\": 49, \"9\": 38, \"5\": 17, \"4\": 10, \"2\": 3, \"7\": 3, \"11\": 4, \"12\": 3}, \"14\": {\"10\": 24, \"4\": 36, \"6\": 9, \"14\": 28, \"2\": 5, \"15\": 7, \"1\": 33, \"8\": 19, \"7\": 21, \"3\": 6, \"9\": 18, \"0\": 30, \"13\": 2, \"5\": 1, \"11\": 1}, \"15\": {\"13\": 20, \"3\": 18, \"15\": 23, \"5\": 17, \"1\": 3, \"14\": 13, \"8\": 22, \"6\": 23, \"9\": 25, \"2\": 22, \"7\": 18, \"4\": 14, \"0\": 10, \"10\": 11, \"11\": 1}, \"5\": {\"5\": 43, \"2\": 23, \"3\": 18, \"9\": 22, \"8\": 19, \"13\": 45, \"11\": 1, \"7\": 11, \"1\": 5, \"15\": 25, \"14\": 10, \"4\": 8, \"6\": 4, \"10\": 3, \"0\": 3}, \"10\": {\"8\": 23, \"7\": 12, \"14\": 24, \"10\": 19, \"4\": 34, \"6\": 27, \"9\": 19, \"1\": 26, \"12\": 3, \"15\": 14, \"0\": 20, \"5\": 7, \"13\": 4, \"2\": 5, \"3\": 1, \"11\": 2}, \"4\": {\"0\": 21, \"10\": 23, \"1\": 38, \"8\": 22, \"14\": 26, \"4\": 37, \"9\": 8, \"15\": 8, \"6\": 5, \"2\": 11, \"7\": 22, \"3\": 15, \"13\": 3, \"5\": 1}, \"11\": {\"11\": 211, \"5\": 3, \"12\": 16, \"13\": 4, \"15\": 1, \"6\": 4, \"14\": 1}, \"13\": {\"13\": 60, \"7\": 7, \"15\": 34, \"5\": 47, \"8\": 10, \"10\": 5, \"6\": 16, \"2\": 18, \"9\": 16, \"11\": 10, \"3\": 12, \"4\": 1, \"1\": 1, \"14\": 2, \"0\": 1}, \"2\": {\"13\": 14, \"2\": 43, \"15\": 21, \"10\": 5, \"9\": 14, \"0\": 4, \"3\": 57, \"1\": 7, \"5\": 20, \"14\": 6, \"7\": 23, \"8\": 14, \"6\": 5, \"4\": 7}, \"0\": {\"13\": 2, \"8\": 17, \"7\": 15, \"14\": 28, \"1\": 28, \"6\": 31, \"9\": 20, \"5\": 2, \"0\": 26, \"15\": 10, \"10\": 29, \"4\": 24, \"3\": 6, \"2\": 1, \"11\": 1}, \"12\": {\"12\": 200, \"0\": 4, \"11\": 21, \"10\": 1, \"6\": 10, \"1\": 2, \"9\": 1, \"8\": 1}, \"3\": {\"3\": 71, \"15\": 11, \"5\": 18, \"4\": 14, \"7\": 34, \"14\": 9, \"2\": 50, \"9\": 5, \"1\": 6, \"0\": 4, \"8\": 10, \"10\": 3, \"13\": 5}, \"9\": {\"13\": 13, \"8\": 18, \"14\": 7, \"0\": 17, \"9\": 45, \"6\": 39, \"15\": 17, \"4\": 13, \"5\": 21, \"2\": 6, \"10\": 19, \"7\": 10, \"11\": 2, \"1\": 6, \"3\": 5, \"12\": 2}, \"8\": {\"13\": 12, \"5\": 15, \"0\": 25, \"10\": 22, \"2\": 11, \"14\": 15, \"4\": 17, \"15\": 25, \"9\": 26, \"7\": 19, \"1\": 10, \"6\": 14, \"3\": 5, \"8\": 22, \"11\": 1, \"12\": 1}, \"1\": {\"1\": 66, \"10\": 18, \"14\": 38, \"2\": 4, \"9\": 10, \"6\": 7, \"7\": 10, \"3\": 11, \"5\": 2, \"4\": 32, \"13\": 3, \"0\": 20, \"8\": 16, \"15\": 3}}, \"O_32\": {\"7\": {\"0\": 14, \"7\": 52, \"11\": 29, \"5\": 22, \"2\": 27, \"14\": 31, \"13\": 23, \"3\": 7, \"4\": 27, \"8\": 8}, \"2\": {\"0\": 44, \"2\": 103, \"5\": 10, \"14\": 8, \"13\": 6, \"8\": 7, \"7\": 16, \"4\": 42, \"9\": 3, \"11\": 1}, \"5\": {\"3\": 30, \"8\": 30, \"2\": 11, \"5\": 42, \"13\": 39, \"0\": 14, \"4\": 23, \"7\": 27, \"14\": 12, \"11\": 11, \"15\": 1}, \"6\": {\"6\": 224, \"12\": 14, \"10\": 2}, \"13\": {\"13\": 46, \"5\": 38, \"7\": 40, \"3\": 34, \"4\": 21, \"8\": 24, \"11\": 10, \"2\": 5, \"0\": 12, \"14\": 10}, \"4\": {\"13\": 24, \"2\": 52, \"11\": 2, \"5\": 32, \"4\": 61, \"0\": 27, \"7\": 19, \"8\": 16, \"14\": 6, \"3\": 1}, \"3\": {\"3\": 133, \"13\": 27, \"8\": 22, \"11\": 22, \"5\": 18, \"7\": 10, \"14\": 3, \"0\": 1, \"15\": 3, \"4\": 1}, \"0\": {\"0\": 83, \"7\": 19, \"2\": 26, \"4\": 21, \"8\": 33, \"13\": 14, \"5\": 15, \"14\": 17, \"9\": 4, \"15\": 4, \"3\": 3, \"11\": 1}, \"9\": {\"9\": 204, \"12\": 30, \"0\": 3, \"4\": 1, \"6\": 1, \"2\": 1}, \"12\": {\"12\": 212, \"6\": 16, \"9\": 11, \"10\": 1}, \"8\": {\"4\": 7, \"3\": 15, \"8\": 79, \"5\": 42, \"13\": 32, \"0\": 29, \"7\": 13, \"15\": 10, \"14\": 6, \"2\": 5, \"11\": 2}, \"14\": {\"0\": 20, \"7\": 32, \"14\": 58, \"13\": 15, \"11\": 73, \"4\": 8, \"2\": 11, \"8\": 10, \"3\": 5, \"5\": 8}, \"15\": {\"3\": 9, \"15\": 206, \"8\": 16, \"0\": 3, \"13\": 4, \"5\": 2}, \"11\": {\"14\": 63, \"11\": 122, \"5\": 5, \"13\": 5, \"8\": 7, \"4\": 4, \"0\": 2, \"3\": 12, \"7\": 18, \"2\": 2}, \"10\": {\"1\": 37, \"10\": 202, \"6\": 1}, \"1\": {\"1\": 188, \"10\": 51, \"6\": 1}}, \"O_44\": {\"11\": {\"11\": 163, \"13\": 38, \"7\": 3, \"6\": 27, \"9\": 8, \"4\": 1}, \"7\": {\"7\": 78, \"6\": 24, \"3\": 9, \"9\": 39, \"2\": 56, \"13\": 11, \"10\": 14, \"1\": 5, \"11\": 2, \"12\": 2}, \"6\": {\"6\": 103, \"9\": 37, \"7\": 26, \"13\": 51, \"11\": 16, \"2\": 6, \"4\": 1}, \"12\": {\"10\": 46, \"3\": 28, \"12\": 105, \"1\": 50, \"2\": 10, \"7\": 1}, \"4\": {\"4\": 112, \"14\": 74, \"9\": 3, \"15\": 19, \"5\": 11, \"13\": 10, \"0\": 4, \"6\": 5, \"8\": 1, \"11\": 1}, \"13\": {\"9\": 51, \"6\": 60, \"13\": 68, \"11\": 38, \"14\": 3, \"7\": 11, \"5\": 1, \"4\": 5, \"2\": 2, \"10\": 1}, \"8\": {\"8\": 109, \"0\": 76, \"5\": 20, \"15\": 27, \"4\": 2, \"14\": 6}, \"5\": {\"5\": 119, \"0\": 46, \"4\": 16, \"14\": 19, \"8\": 27, \"15\": 13}, \"14\": {\"15\": 46, \"14\": 83, \"5\": 14, \"4\": 75, \"0\": 11, \"13\": 4, \"8\": 5, \"11\": 1, \"9\": 1}, \"3\": {\"2\": 22, \"12\": 22, \"3\": 119, \"1\": 52, \"10\": 11, \"7\": 12, \"9\": 2}, \"10\": {\"10\": 102, \"1\": 31, \"2\": 41, \"7\": 14, \"3\": 15, \"12\": 37}, \"1\": {\"10\": 34, \"12\": 58, \"1\": 65, \"3\": 52, \"2\": 23, \"7\": 6, \"9\": 2}, \"2\": {\"7\": 53, \"2\": 95, \"9\": 16, \"10\": 33, \"13\": 4, \"3\": 11, \"6\": 6, \"1\": 16, \"12\": 6}, \"15\": {\"14\": 46, \"5\": 17, \"8\": 21, \"15\": 98, \"4\": 24, \"0\": 34}, \"9\": {\"13\": 44, \"7\": 53, \"6\": 45, \"9\": 74, \"2\": 14, \"3\": 1, \"11\": 4, \"4\": 5}, \"0\": {\"8\": 71, \"15\": 35, \"0\": 61, \"5\": 52, \"4\": 8, \"14\": 13}}, \"O_8\": {\"10\": {\"5\": 29, \"6\": 18, \"10\": 55, \"14\": 33, \"13\": 29, \"8\": 10, \"4\": 32, \"7\": 5, \"1\": 13, \"0\": 13, \"11\": 3}, \"6\": {\"7\": 40, \"0\": 40, \"15\": 12, \"6\": 30, \"8\": 17, \"12\": 10, \"4\": 27, \"13\": 27, \"10\": 13, \"14\": 12, \"3\": 1, \"1\": 4, \"2\": 5, \"5\": 2}, \"13\": {\"0\": 29, \"13\": 42, \"14\": 31, \"6\": 29, \"4\": 24, \"8\": 6, \"10\": 48, \"5\": 7, \"7\": 13, \"1\": 2, \"12\": 3, \"2\": 4, \"15\": 2}, \"3\": {\"3\": 93, \"6\": 2, \"2\": 71, \"7\": 9, \"0\": 3, \"8\": 1, \"12\": 36, \"15\": 24, \"13\": 1}, \"9\": {\"9\": 225, \"5\": 6, \"13\": 2, \"10\": 4, \"14\": 2, \"4\": 1}, \"1\": {\"11\": 48, \"14\": 25, \"1\": 70, \"8\": 10, \"5\": 42, \"13\": 8, \"10\": 23, \"0\": 1, \"4\": 9, \"6\": 3, \"15\": 1}, \"5\": {\"5\": 94, \"10\": 24, \"11\": 26, \"4\": 10, \"9\": 8, \"1\": 41, \"14\": 18, \"6\": 3, \"13\": 12, \"0\": 2, \"7\": 2}, \"11\": {\"11\": 98, \"1\": 67, \"8\": 13, \"5\": 34, \"15\": 1, \"14\": 9, \"10\": 11, \"4\": 3, \"0\": 1, \"12\": 1, \"6\": 2}, \"4\": {\"13\": 36, \"0\": 25, \"14\": 22, \"10\": 30, \"4\": 32, \"6\": 41, \"1\": 9, \"7\": 13, \"5\": 7, \"12\": 1, \"11\": 2, \"8\": 16, \"15\": 6}, \"14\": {\"1\": 28, \"4\": 22, \"10\": 46, \"6\": 11, \"14\": 30, \"11\": 16, \"13\": 31, \"0\": 11, \"5\": 24, \"7\": 7, \"8\": 12, \"2\": 1, \"15\": 1}, \"12\": {\"3\": 36, \"15\": 54, \"2\": 35, \"7\": 10, \"6\": 5, \"12\": 70, \"8\": 24, \"11\": 1, \"13\": 2, \"0\": 1, \"14\": 2}, \"7\": {\"0\": 36, \"6\": 39, \"7\": 51, \"13\": 22, \"15\": 19, \"8\": 12, \"14\": 11, \"12\": 8, \"2\": 14, \"4\": 15, \"10\": 10, \"3\": 3}, \"0\": {\"0\": 40, \"13\": 40, \"7\": 38, \"4\": 23, \"14\": 12, \"6\": 39, \"10\": 23, \"1\": 1, \"12\": 2, \"2\": 2, \"15\": 3, \"5\": 6, \"8\": 10, \"3\": 1}, \"15\": {\"7\": 18, \"3\": 19, \"2\": 19, \"12\": 69, \"6\": 18, \"8\": 30, \"0\": 7, \"15\": 48, \"14\": 4, \"10\": 1, \"4\": 3, \"13\": 4}, \"2\": {\"7\": 14, \"12\": 26, \"2\": 95, \"3\": 62, \"15\": 22, \"6\": 6, \"0\": 9, \"8\": 1, \"13\": 2, \"14\": 1, \"4\": 2}, \"8\": {\"1\": 14, \"7\": 9, \"2\": 4, \"8\": 72, \"15\": 35, \"14\": 8, \"11\": 8, \"13\": 7, \"0\": 6, \"12\": 29, \"6\": 19, \"5\": 2, \"4\": 17, \"3\": 1, \"10\": 9}}, \"O_38\": {\"4\": {\"4\": 200, \"12\": 32, \"10\": 4, \"11\": 2, \"0\": 1, \"8\": 1}, \"7\": {\"5\": 30, \"7\": 100, \"8\": 34, \"3\": 7, \"0\": 48, \"6\": 6, \"10\": 9, \"4\": 1, \"9\": 4, \"15\": 1}, \"12\": {\"12\": 179, \"4\": 46, \"14\": 7, \"11\": 4, \"10\": 4}, \"10\": {\"8\": 20, \"10\": 100, \"15\": 20, \"13\": 31, \"4\": 3, \"14\": 9, \"5\": 6, \"7\": 6, \"2\": 18, \"11\": 6, \"0\": 9, \"12\": 12}, \"0\": {\"8\": 35, \"0\": 70, \"12\": 5, \"15\": 9, \"7\": 47, \"5\": 29, \"6\": 7, \"1\": 6, \"3\": 13, \"10\": 8, \"4\": 4, \"9\": 2, \"13\": 5}, \"1\": {\"8\": 9, \"0\": 2, \"13\": 14, \"6\": 18, \"15\": 39, \"1\": 145, \"5\": 8, \"10\": 3, \"2\": 1, \"9\": 1}, \"5\": {\"8\": 45, \"15\": 11, \"13\": 6, \"7\": 35, \"5\": 44, \"1\": 25, \"3\": 10, \"9\": 14, \"0\": 17, \"6\": 20, \"2\": 3, \"10\": 10}, \"15\": {\"13\": 50, \"1\": 54, \"10\": 26, \"15\": 53, \"8\": 21, \"5\": 14, \"0\": 12, \"2\": 6, \"6\": 3, \"14\": 1}, \"9\": {\"9\": 107, \"6\": 77, \"3\": 33, \"15\": 1, \"5\": 10, \"7\": 3, \"13\": 3, \"0\": 4, \"1\": 1, \"8\": 1}, \"11\": {\"11\": 112, \"2\": 22, \"14\": 89, \"10\": 7, \"15\": 2, \"4\": 3, \"12\": 5}, \"14\": {\"14\": 120, \"11\": 69, \"2\": 26, \"12\": 10, \"13\": 3, \"10\": 8, \"4\": 1, \"15\": 2, \"0\": 1}, \"6\": {\"9\": 78, \"8\": 5, \"6\": 103, \"7\": 3, \"1\": 13, \"0\": 3, \"3\": 10, \"5\": 23, \"15\": 1, \"13\": 1}, \"8\": {\"0\": 45, \"15\": 20, \"8\": 70, \"5\": 44, \"13\": 15, \"10\": 13, \"7\": 22, \"1\": 6, \"3\": 1, \"6\": 2, \"9\": 2}, \"3\": {\"3\": 132, \"9\": 40, \"5\": 12, \"6\": 18, \"0\": 20, \"7\": 14, \"8\": 3, \"4\": 1}, \"2\": {\"2\": 141, \"11\": 20, \"13\": 24, \"15\": 9, \"14\": 29, \"10\": 12, \"1\": 5}, \"13\": {\"13\": 70, \"10\": 32, \"8\": 17, \"15\": 50, \"2\": 31, \"1\": 31, \"0\": 2, \"5\": 4, \"6\": 1, \"7\": 1, \"14\": 1}}}, \"per_domain_accuracy\": {\"C_4\": {\"accuracy\": 0.9983158682634731, \"source?\": true}, \"C_5\": {\"accuracy\": 0.9986033519553073, \"source?\": true}, \"C_2\": {\"accuracy\": 0.9996428571428572, \"source?\": true}, \"C_1\": {\"accuracy\": 0.9991508152173914, \"source?\": true}, \"C_3\": {\"accuracy\": 0.9990808823529411, \"source?\": true}, \"O_14\": {\"accuracy\": 0.42161458333333335, \"source?\": false}, \"O_20\": {\"accuracy\": 0.21328125, \"source?\": false}, \"O_50\": {\"accuracy\": 0.4401041666666667, \"source?\": false}, \"O_26\": {\"accuracy\": 0.25416666666666665, \"source?\": false}, \"O_32\": {\"accuracy\": 0.5247395833333334, \"source?\": false}, \"O_44\": {\"accuracy\": 0.4046875, \"source?\": false}, \"O_8\": {\"accuracy\": 0.2981770833333333, \"source?\": false}, \"O_38\": {\"accuracy\": 0.4546875, \"source?\": false}}}, \"history\": {\"epoch_indices\": [1, 2, 3, 4, 5, 6, 7, 8], \"train_label_loss\": [0.04105795702173121, 0.0121827973738615, 0.00773335899146719, 0.004921902121476938, 0.00501410250198698, 0.0034451512812184444, 0.0036085323933580105, 0.0028312425451635275], \"source_val_label_loss\": [0.01154910959303379, 0.009864973835647106, 0.010907954536378384, 0.006387901026755571, 0.009417904540896416, 0.01118338480591774, 0.009753798134624958, 0.008588180877268314], \"target_val_label_loss\": [2.0348222255706787, 2.019167184829712, 2.545814037322998, 1.83171546459198, 2.2588233947753906, 2.2962820529937744, 2.3617279529571533, 2.239539623260498], \"source_val_acc_label\": [0.9970357142857142, 0.9981428571428571, 0.99725, 0.9989642857142857, 0.9985, 0.9987142857142857, 0.9986428571428572, 0.9989285714285714], \"target_val_acc_label\": [0.30706380208333334, 0.3433919270833333, 0.2845703125, 0.37643229166666664, 0.33053385416666664, 0.34287109375, 0.3458984375, 0.3611979166666667]}, \"dataset_metrics\": {\"source\": {\"train\": {\"n_unique_x\": 175203, \"n_unique_y\": 58, \"n_batch/episode\": 6315}, \"val\": {\"n_unique_x\": 37216, \"n_unique_y\": 58, \"n_batch/episode\": 875}, \"test\": {\"n_unique_x\": 37596, \"n_unique_y\": 58, \"n_batch/episode\": 886}}, \"target\": {\"train\": {\"n_unique_x\": 179200, \"n_unique_y\": 16, \"n_batch/episode\": 6720}, \"val\": {\"n_unique_x\": 38400, \"n_unique_y\": 16, \"n_batch/episode\": 960}, \"test\": {\"n_unique_x\": 38400, \"n_unique_y\": 16, \"n_batch/episode\": 960}}}}'"
      ]
     },
     "execution_count": 29,
     "metadata": {},
     "output_type": "execute_result"
    }
   ],
   "source": [
    "json.dumps(experiment)"
   ]
  }
 ],
 "metadata": {
  "celltoolbar": "Tags",
  "kernelspec": {
   "display_name": "Python 3 (ipykernel)",
   "language": "python",
   "name": "python3"
  },
  "language_info": {
   "codemirror_mode": {
    "name": "ipython",
    "version": 3
   },
   "file_extension": ".py",
   "mimetype": "text/x-python",
   "name": "python",
   "nbconvert_exporter": "python",
   "pygments_lexer": "ipython3",
   "version": "3.8.12"
  },
  "papermill": {
   "default_parameters": {},
   "duration": 1459.536247,
   "end_time": "2022-03-28T07:37:57.694609",
   "environment_variables": {},
   "exception": null,
   "input_path": "/root/csc500-main/csc500-notebooks/templates/tl_ptn_template.ipynb",
   "output_path": "trial.ipynb",
   "parameters": {
    "parameters": {
     "BEST_MODEL_PATH": "./best_model.pth",
     "NUM_LOGS_PER_EPOCH": 10,
     "criteria_for_best": "target_accuracy",
     "dataset_seed": 420,
     "datasets": [
      {
       "domain_prefix": "C_",
       "domains": [
        1,
        2,
        3,
        4,
        5
       ],
       "episode_transforms": [],
       "labels": [
        "1-10.",
        "1-11.",
        "1-15.",
        "1-16.",
        "1-17.",
        "1-18.",
        "1-19.",
        "10-4.",
        "10-7.",
        "11-1.",
        "11-14.",
        "11-17.",
        "11-20.",
        "11-7.",
        "13-20.",
        "13-8.",
        "14-10.",
        "14-11.",
        "14-14.",
        "14-7.",
        "15-1.",
        "15-20.",
        "16-1.",
        "16-16.",
        "17-10.",
        "17-11.",
        "17-2.",
        "19-1.",
        "19-16.",
        "19-19.",
        "19-20.",
        "19-3.",
        "2-10.",
        "2-11.",
        "2-17.",
        "2-18.",
        "2-20.",
        "2-3.",
        "2-4.",
        "2-5.",
        "2-6.",
        "2-7.",
        "2-8.",
        "3-13.",
        "3-18.",
        "3-3.",
        "4-1.",
        "4-10.",
        "4-11.",
        "4-19.",
        "5-5.",
        "6-15.",
        "7-10.",
        "7-14.",
        "8-18.",
        "8-20.",
        "8-3.",
        "8-8."
       ],
       "num_examples_per_domain_per_label": -1,
       "pickle_path": "/root/csc500-main/datasets/cores.stratified_ds.2022A.pkl",
       "source_or_target_dataset": "source",
       "x_transforms": [
        "unit_mag",
        "jitter_256_10",
        "lowpass_+/-10MHz",
        "take_200"
       ]
      },
      {
       "domain_prefix": "O_",
       "domains": [
        32,
        38,
        8,
        44,
        14,
        50,
        20,
        26
       ],
       "episode_transforms": [],
       "labels": [
        "3123D52",
        "3123D65",
        "3123D79",
        "3123D80",
        "3123D54",
        "3123D70",
        "3123D7B",
        "3123D89",
        "3123D58",
        "3123D76",
        "3123D7D",
        "3123EFE",
        "3123D64",
        "3123D78",
        "3123D7E",
        "3124E4A"
       ],
       "num_examples_per_domain_per_label": 2000,
       "pickle_path": "/root/csc500-main/datasets/oracle.Run1_framed_2000Examples_stratified_ds.2022A.pkl",
       "source_or_target_dataset": "target",
       "x_transforms": [
        "unit_mag",
        "jitter_256_10",
        "take_200",
        "resample_20Msps_to_25Msps"
       ]
      }
     ],
     "device": "cuda",
     "experiment_name": "tl_3-jitter10v2:cores -> oracle.run1.framed",
     "lr": 0.0001,
     "n_epoch": 50,
     "n_query": 2,
     "n_shot": 3,
     "n_way": 16,
     "patience": 3,
     "seed": 420,
     "test_k_factor": 2,
     "torch_default_dtype": "torch.float32",
     "train_k_factor": 3,
     "val_k_factor": 2,
     "x_net": [
      {
       "class": "nnReshape",
       "kargs": {
        "shape": [
         -1,
         1,
         2,
         256
        ]
       }
      },
      {
       "class": "Conv2d",
       "kargs": {
        "bias": false,
        "in_channels": 1,
        "kernel_size": [
         1,
         7
        ],
        "out_channels": 256,
        "padding": [
         0,
         3
        ]
       }
      },
      {
       "class": "ReLU",
       "kargs": {
        "inplace": true
       }
      },
      {
       "class": "BatchNorm2d",
       "kargs": {
        "num_features": 256
       }
      },
      {
       "class": "Conv2d",
       "kargs": {
        "bias": true,
        "in_channels": 256,
        "kernel_size": [
         2,
         7
        ],
        "out_channels": 80,
        "padding": [
         0,
         3
        ]
       }
      },
      {
       "class": "ReLU",
       "kargs": {
        "inplace": true
       }
      },
      {
       "class": "BatchNorm2d",
       "kargs": {
        "num_features": 80
       }
      },
      {
       "class": "Flatten",
       "kargs": {}
      },
      {
       "class": "Linear",
       "kargs": {
        "in_features": 20480,
        "out_features": 256
       }
      },
      {
       "class": "ReLU",
       "kargs": {
        "inplace": true
       }
      },
      {
       "class": "BatchNorm1d",
       "kargs": {
        "num_features": 256
       }
      },
      {
       "class": "Linear",
       "kargs": {
        "in_features": 256,
        "out_features": 256
       }
      }
     ],
     "x_shape": [
      2,
      256
     ]
    }
   },
   "start_time": "2022-03-28T07:13:38.158362",
   "version": "2.3.4"
  }
 },
 "nbformat": 4,
 "nbformat_minor": 5
}