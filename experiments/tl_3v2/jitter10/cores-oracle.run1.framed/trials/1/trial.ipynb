{
 "cells": [
  {
   "cell_type": "markdown",
   "id": "9fea5f46",
   "metadata": {
    "papermill": {
     "duration": 0.031106,
     "end_time": "2022-03-28T06:34:38.973796",
     "exception": false,
     "start_time": "2022-03-28T06:34:38.942690",
     "status": "completed"
    },
    "tags": []
   },
   "source": [
    "# Transfer Learning Template"
   ]
  },
  {
   "cell_type": "code",
   "execution_count": 1,
   "id": "0902182a",
   "metadata": {
    "execution": {
     "iopub.execute_input": "2022-03-28T06:34:39.037067Z",
     "iopub.status.busy": "2022-03-28T06:34:39.036194Z",
     "iopub.status.idle": "2022-03-28T06:34:40.930842Z",
     "shell.execute_reply": "2022-03-28T06:34:40.929921Z"
    },
    "papermill": {
     "duration": 1.934732,
     "end_time": "2022-03-28T06:34:40.931056",
     "exception": false,
     "start_time": "2022-03-28T06:34:38.996324",
     "status": "completed"
    },
    "tags": []
   },
   "outputs": [],
   "source": [
    "%load_ext autoreload\n",
    "%autoreload 2\n",
    "%matplotlib inline\n",
    "\n",
    "    \n",
    "import os, json, sys, time, random\n",
    "import numpy as np\n",
    "import torch\n",
    "from torch.optim import Adam\n",
    "from  easydict import EasyDict\n",
    "import matplotlib.pyplot as plt\n",
    "\n",
    "from steves_models.steves_ptn import Steves_Prototypical_Network\n",
    "\n",
    "from steves_utils.lazy_iterable_wrapper import Lazy_Iterable_Wrapper\n",
    "from steves_utils.iterable_aggregator import Iterable_Aggregator\n",
    "from steves_utils.ptn_train_eval_test_jig import  PTN_Train_Eval_Test_Jig\n",
    "from steves_utils.torch_sequential_builder import build_sequential\n",
    "from steves_utils.torch_utils import get_dataset_metrics, ptn_confusion_by_domain_over_dataloader\n",
    "from steves_utils.utils_v2 import (per_domain_accuracy_from_confusion, get_datasets_base_path)\n",
    "from steves_utils.PTN.utils import independent_accuracy_assesment\n",
    "\n",
    "from torch.utils.data import DataLoader\n",
    "\n",
    "from steves_utils.stratified_dataset.episodic_accessor import Episodic_Accessor_Factory\n",
    "\n",
    "from steves_utils.ptn_do_report import (\n",
    "    get_loss_curve,\n",
    "    get_results_table,\n",
    "    get_parameters_table,\n",
    "    get_domain_accuracies,\n",
    ")\n",
    "\n",
    "from steves_utils.transforms import get_chained_transform"
   ]
  },
  {
   "cell_type": "markdown",
   "id": "41c840b4",
   "metadata": {
    "papermill": {
     "duration": 0.018534,
     "end_time": "2022-03-28T06:34:40.974291",
     "exception": false,
     "start_time": "2022-03-28T06:34:40.955757",
     "status": "completed"
    },
    "tags": []
   },
   "source": [
    "# Allowed Parameters\n",
    "These are allowed parameters, not defaults\n",
    "Each of these values need to be present in the injected parameters (the notebook will raise an exception if they are not present)\n",
    "\n",
    "Papermill uses the cell tag \"parameters\" to inject the real parameters below this cell.\n",
    "Enable tags to see what I mean"
   ]
  },
  {
   "cell_type": "code",
   "execution_count": 2,
   "id": "fd44eb83",
   "metadata": {
    "execution": {
     "iopub.execute_input": "2022-03-28T06:34:41.016807Z",
     "iopub.status.busy": "2022-03-28T06:34:41.016417Z",
     "iopub.status.idle": "2022-03-28T06:34:41.040886Z",
     "shell.execute_reply": "2022-03-28T06:34:41.040207Z"
    },
    "papermill": {
     "duration": 0.047914,
     "end_time": "2022-03-28T06:34:41.041047",
     "exception": false,
     "start_time": "2022-03-28T06:34:40.993133",
     "status": "completed"
    },
    "tags": []
   },
   "outputs": [],
   "source": [
    "required_parameters = {\n",
    "    \"experiment_name\",\n",
    "    \"lr\",\n",
    "    \"device\",\n",
    "    \"seed\",\n",
    "    \"dataset_seed\",\n",
    "    \"n_shot\",\n",
    "    \"n_query\",\n",
    "    \"n_way\",\n",
    "    \"train_k_factor\",\n",
    "    \"val_k_factor\",\n",
    "    \"test_k_factor\",\n",
    "    \"n_epoch\",\n",
    "    \"patience\",\n",
    "    \"criteria_for_best\",\n",
    "    \"x_net\",\n",
    "    \"datasets\",\n",
    "    \"torch_default_dtype\",\n",
    "    \"NUM_LOGS_PER_EPOCH\",\n",
    "    \"BEST_MODEL_PATH\",\n",
    "    \"x_shape\",\n",
    "}"
   ]
  },
  {
   "cell_type": "code",
   "execution_count": 3,
   "id": "fa3f0049",
   "metadata": {
    "execution": {
     "iopub.execute_input": "2022-03-28T06:34:41.098242Z",
     "iopub.status.busy": "2022-03-28T06:34:41.097607Z",
     "iopub.status.idle": "2022-03-28T06:34:41.124680Z",
     "shell.execute_reply": "2022-03-28T06:34:41.123963Z"
    },
    "papermill": {
     "duration": 0.057962,
     "end_time": "2022-03-28T06:34:41.124833",
     "exception": false,
     "start_time": "2022-03-28T06:34:41.066871",
     "status": "completed"
    },
    "tags": [
     "parameters"
    ]
   },
   "outputs": [],
   "source": [
    "from steves_utils.CORES.utils import (\n",
    "    ALL_NODES,\n",
    "    ALL_NODES_MINIMUM_1000_EXAMPLES,\n",
    "    ALL_DAYS\n",
    ")\n",
    "\n",
    "from steves_utils.ORACLE.utils_v2 import (\n",
    "    ALL_DISTANCES_FEET_NARROWED,\n",
    "    ALL_RUNS,\n",
    "    ALL_SERIAL_NUMBERS,\n",
    ")\n",
    "\n",
    "standalone_parameters = {}\n",
    "standalone_parameters[\"experiment_name\"] = \"STANDALONE PTN\"\n",
    "standalone_parameters[\"lr\"] = 0.001\n",
    "standalone_parameters[\"device\"] = \"cuda\"\n",
    "\n",
    "standalone_parameters[\"seed\"] = 1337\n",
    "standalone_parameters[\"dataset_seed\"] = 1337\n",
    "\n",
    "standalone_parameters[\"n_way\"] = 8\n",
    "standalone_parameters[\"n_shot\"] = 3\n",
    "standalone_parameters[\"n_query\"]  = 2\n",
    "standalone_parameters[\"train_k_factor\"] = 1\n",
    "standalone_parameters[\"val_k_factor\"] = 2\n",
    "standalone_parameters[\"test_k_factor\"] = 2\n",
    "\n",
    "\n",
    "standalone_parameters[\"n_epoch\"] = 50\n",
    "\n",
    "standalone_parameters[\"patience\"] = 10\n",
    "standalone_parameters[\"criteria_for_best\"] = \"source_loss\"\n",
    "\n",
    "standalone_parameters[\"datasets\"] = [\n",
    "    {\n",
    "        \"labels\": ALL_SERIAL_NUMBERS,\n",
    "        \"domains\": ALL_DISTANCES_FEET_NARROWED,\n",
    "        \"num_examples_per_domain_per_label\": 100,\n",
    "        \"pickle_path\": os.path.join(get_datasets_base_path(), \"oracle.Run1_framed_2000Examples_stratified_ds.2022A.pkl\"),\n",
    "        \"source_or_target_dataset\": \"source\",\n",
    "        \"x_transforms\": [\"unit_mag\", \"minus_two\"],\n",
    "        \"episode_transforms\": [],\n",
    "        \"domain_prefix\": \"ORACLE_\"\n",
    "    },\n",
    "    {\n",
    "        \"labels\": ALL_NODES,\n",
    "        \"domains\": ALL_DAYS,\n",
    "        \"num_examples_per_domain_per_label\": 100,\n",
    "        \"pickle_path\": os.path.join(get_datasets_base_path(), \"cores.stratified_ds.2022A.pkl\"),\n",
    "        \"source_or_target_dataset\": \"target\",\n",
    "        \"x_transforms\": [\"unit_power\", \"times_zero\"],\n",
    "        \"episode_transforms\": [],\n",
    "        \"domain_prefix\": \"CORES_\"\n",
    "    }   \n",
    "]\n",
    "\n",
    "standalone_parameters[\"torch_default_dtype\"] = \"torch.float32\" \n",
    "\n",
    "\n",
    "\n",
    "standalone_parameters[\"x_net\"] =     [\n",
    "    {\"class\": \"nnReshape\", \"kargs\": {\"shape\":[-1, 1, 2, 256]}},\n",
    "    {\"class\": \"Conv2d\", \"kargs\": { \"in_channels\":1, \"out_channels\":256, \"kernel_size\":(1,7), \"bias\":False, \"padding\":(0,3), },},\n",
    "    {\"class\": \"ReLU\", \"kargs\": {\"inplace\": True}},\n",
    "    {\"class\": \"BatchNorm2d\", \"kargs\": {\"num_features\":256}},\n",
    "\n",
    "    {\"class\": \"Conv2d\", \"kargs\": { \"in_channels\":256, \"out_channels\":80, \"kernel_size\":(2,7), \"bias\":True, \"padding\":(0,3), },},\n",
    "    {\"class\": \"ReLU\", \"kargs\": {\"inplace\": True}},\n",
    "    {\"class\": \"BatchNorm2d\", \"kargs\": {\"num_features\":80}},\n",
    "    {\"class\": \"Flatten\", \"kargs\": {}},\n",
    "\n",
    "    {\"class\": \"Linear\", \"kargs\": {\"in_features\": 80*256, \"out_features\": 256}}, # 80 units per IQ pair\n",
    "    {\"class\": \"ReLU\", \"kargs\": {\"inplace\": True}},\n",
    "    {\"class\": \"BatchNorm1d\", \"kargs\": {\"num_features\":256}},\n",
    "\n",
    "    {\"class\": \"Linear\", \"kargs\": {\"in_features\": 256, \"out_features\": 256}},\n",
    "]\n",
    "\n",
    "# Parameters relevant to results\n",
    "# These parameters will basically never need to change\n",
    "standalone_parameters[\"NUM_LOGS_PER_EPOCH\"] = 10\n",
    "standalone_parameters[\"BEST_MODEL_PATH\"] = \"./best_model.pth\"\n",
    "\n",
    "\n",
    "\n",
    "\n"
   ]
  },
  {
   "cell_type": "code",
   "execution_count": 4,
   "id": "4ebb4f4a",
   "metadata": {
    "execution": {
     "iopub.execute_input": "2022-03-28T06:34:41.179179Z",
     "iopub.status.busy": "2022-03-28T06:34:41.178200Z",
     "iopub.status.idle": "2022-03-28T06:34:41.204776Z",
     "shell.execute_reply": "2022-03-28T06:34:41.204073Z"
    },
    "papermill": {
     "duration": 0.056749,
     "end_time": "2022-03-28T06:34:41.204926",
     "exception": false,
     "start_time": "2022-03-28T06:34:41.148177",
     "status": "completed"
    },
    "tags": [
     "injected-parameters"
    ]
   },
   "outputs": [],
   "source": [
    "# Parameters\n",
    "parameters = {\n",
    "    \"experiment_name\": \"tl_3-jitter10v2:cores -> oracle.run1.framed\",\n",
    "    \"device\": \"cuda\",\n",
    "    \"lr\": 0.0001,\n",
    "    \"x_shape\": [2, 256],\n",
    "    \"n_shot\": 3,\n",
    "    \"n_query\": 2,\n",
    "    \"train_k_factor\": 3,\n",
    "    \"val_k_factor\": 2,\n",
    "    \"test_k_factor\": 2,\n",
    "    \"torch_default_dtype\": \"torch.float32\",\n",
    "    \"n_epoch\": 50,\n",
    "    \"patience\": 3,\n",
    "    \"criteria_for_best\": \"target_accuracy\",\n",
    "    \"x_net\": [\n",
    "        {\"class\": \"nnReshape\", \"kargs\": {\"shape\": [-1, 1, 2, 256]}},\n",
    "        {\n",
    "            \"class\": \"Conv2d\",\n",
    "            \"kargs\": {\n",
    "                \"in_channels\": 1,\n",
    "                \"out_channels\": 256,\n",
    "                \"kernel_size\": [1, 7],\n",
    "                \"bias\": False,\n",
    "                \"padding\": [0, 3],\n",
    "            },\n",
    "        },\n",
    "        {\"class\": \"ReLU\", \"kargs\": {\"inplace\": True}},\n",
    "        {\"class\": \"BatchNorm2d\", \"kargs\": {\"num_features\": 256}},\n",
    "        {\n",
    "            \"class\": \"Conv2d\",\n",
    "            \"kargs\": {\n",
    "                \"in_channels\": 256,\n",
    "                \"out_channels\": 80,\n",
    "                \"kernel_size\": [2, 7],\n",
    "                \"bias\": True,\n",
    "                \"padding\": [0, 3],\n",
    "            },\n",
    "        },\n",
    "        {\"class\": \"ReLU\", \"kargs\": {\"inplace\": True}},\n",
    "        {\"class\": \"BatchNorm2d\", \"kargs\": {\"num_features\": 80}},\n",
    "        {\"class\": \"Flatten\", \"kargs\": {}},\n",
    "        {\"class\": \"Linear\", \"kargs\": {\"in_features\": 20480, \"out_features\": 256}},\n",
    "        {\"class\": \"ReLU\", \"kargs\": {\"inplace\": True}},\n",
    "        {\"class\": \"BatchNorm1d\", \"kargs\": {\"num_features\": 256}},\n",
    "        {\"class\": \"Linear\", \"kargs\": {\"in_features\": 256, \"out_features\": 256}},\n",
    "    ],\n",
    "    \"NUM_LOGS_PER_EPOCH\": 10,\n",
    "    \"BEST_MODEL_PATH\": \"./best_model.pth\",\n",
    "    \"n_way\": 16,\n",
    "    \"datasets\": [\n",
    "        {\n",
    "            \"labels\": [\n",
    "                \"1-10.\",\n",
    "                \"1-11.\",\n",
    "                \"1-15.\",\n",
    "                \"1-16.\",\n",
    "                \"1-17.\",\n",
    "                \"1-18.\",\n",
    "                \"1-19.\",\n",
    "                \"10-4.\",\n",
    "                \"10-7.\",\n",
    "                \"11-1.\",\n",
    "                \"11-14.\",\n",
    "                \"11-17.\",\n",
    "                \"11-20.\",\n",
    "                \"11-7.\",\n",
    "                \"13-20.\",\n",
    "                \"13-8.\",\n",
    "                \"14-10.\",\n",
    "                \"14-11.\",\n",
    "                \"14-14.\",\n",
    "                \"14-7.\",\n",
    "                \"15-1.\",\n",
    "                \"15-20.\",\n",
    "                \"16-1.\",\n",
    "                \"16-16.\",\n",
    "                \"17-10.\",\n",
    "                \"17-11.\",\n",
    "                \"17-2.\",\n",
    "                \"19-1.\",\n",
    "                \"19-16.\",\n",
    "                \"19-19.\",\n",
    "                \"19-20.\",\n",
    "                \"19-3.\",\n",
    "                \"2-10.\",\n",
    "                \"2-11.\",\n",
    "                \"2-17.\",\n",
    "                \"2-18.\",\n",
    "                \"2-20.\",\n",
    "                \"2-3.\",\n",
    "                \"2-4.\",\n",
    "                \"2-5.\",\n",
    "                \"2-6.\",\n",
    "                \"2-7.\",\n",
    "                \"2-8.\",\n",
    "                \"3-13.\",\n",
    "                \"3-18.\",\n",
    "                \"3-3.\",\n",
    "                \"4-1.\",\n",
    "                \"4-10.\",\n",
    "                \"4-11.\",\n",
    "                \"4-19.\",\n",
    "                \"5-5.\",\n",
    "                \"6-15.\",\n",
    "                \"7-10.\",\n",
    "                \"7-14.\",\n",
    "                \"8-18.\",\n",
    "                \"8-20.\",\n",
    "                \"8-3.\",\n",
    "                \"8-8.\",\n",
    "            ],\n",
    "            \"domains\": [1, 2, 3, 4, 5],\n",
    "            \"num_examples_per_domain_per_label\": -1,\n",
    "            \"pickle_path\": \"/root/csc500-main/datasets/cores.stratified_ds.2022A.pkl\",\n",
    "            \"source_or_target_dataset\": \"source\",\n",
    "            \"x_transforms\": [\n",
    "                \"unit_mag\",\n",
    "                \"jitter_256_10\",\n",
    "                \"lowpass_+/-10MHz\",\n",
    "                \"take_200\",\n",
    "            ],\n",
    "            \"episode_transforms\": [],\n",
    "            \"domain_prefix\": \"C_\",\n",
    "        },\n",
    "        {\n",
    "            \"labels\": [\n",
    "                \"3123D52\",\n",
    "                \"3123D65\",\n",
    "                \"3123D79\",\n",
    "                \"3123D80\",\n",
    "                \"3123D54\",\n",
    "                \"3123D70\",\n",
    "                \"3123D7B\",\n",
    "                \"3123D89\",\n",
    "                \"3123D58\",\n",
    "                \"3123D76\",\n",
    "                \"3123D7D\",\n",
    "                \"3123EFE\",\n",
    "                \"3123D64\",\n",
    "                \"3123D78\",\n",
    "                \"3123D7E\",\n",
    "                \"3124E4A\",\n",
    "            ],\n",
    "            \"domains\": [32, 38, 8, 44, 14, 50, 20, 26],\n",
    "            \"num_examples_per_domain_per_label\": 2000,\n",
    "            \"pickle_path\": \"/root/csc500-main/datasets/oracle.Run1_framed_2000Examples_stratified_ds.2022A.pkl\",\n",
    "            \"source_or_target_dataset\": \"target\",\n",
    "            \"x_transforms\": [\n",
    "                \"unit_mag\",\n",
    "                \"jitter_256_10\",\n",
    "                \"take_200\",\n",
    "                \"resample_20Msps_to_25Msps\",\n",
    "            ],\n",
    "            \"episode_transforms\": [],\n",
    "            \"domain_prefix\": \"O_\",\n",
    "        },\n",
    "    ],\n",
    "    \"seed\": 1337,\n",
    "    \"dataset_seed\": 1337,\n",
    "}\n"
   ]
  },
  {
   "cell_type": "code",
   "execution_count": 5,
   "id": "8fa1cc33",
   "metadata": {
    "execution": {
     "iopub.execute_input": "2022-03-28T06:34:41.255482Z",
     "iopub.status.busy": "2022-03-28T06:34:41.254900Z",
     "iopub.status.idle": "2022-03-28T06:34:41.280495Z",
     "shell.execute_reply": "2022-03-28T06:34:41.279788Z"
    },
    "papermill": {
     "duration": 0.050047,
     "end_time": "2022-03-28T06:34:41.280646",
     "exception": false,
     "start_time": "2022-03-28T06:34:41.230599",
     "status": "completed"
    },
    "tags": []
   },
   "outputs": [],
   "source": [
    "# Set this to True if you want to run this template directly\n",
    "STANDALONE = False\n",
    "if STANDALONE:\n",
    "    print(\"parameters not injected, running with standalone_parameters\")\n",
    "    parameters = standalone_parameters\n",
    "\n",
    "if not 'parameters' in locals() and not 'parameters' in globals():\n",
    "    raise Exception(\"Parameter injection failed\")\n",
    "\n",
    "#Use an easy dict for all the parameters\n",
    "p = EasyDict(parameters)\n",
    "\n",
    "if \"x_shape\" not in p:\n",
    "    p.x_shape = [2,256] # Default to this if we dont supply x_shape\n",
    "\n",
    "\n",
    "supplied_keys = set(p.keys())\n",
    "\n",
    "if  supplied_keys != required_parameters:\n",
    "    print(\"Parameters are incorrect\")\n",
    "    if len(supplied_keys - required_parameters)>0: print(\"Shouldn't have:\", str(supplied_keys - required_parameters))\n",
    "    if len(required_parameters - supplied_keys)>0: print(\"Need to have:\", str(required_parameters - supplied_keys))\n",
    "    raise RuntimeError(\"Parameters are incorrect\")"
   ]
  },
  {
   "cell_type": "code",
   "execution_count": 6,
   "id": "3a028d58",
   "metadata": {
    "execution": {
     "iopub.execute_input": "2022-03-28T06:34:41.331075Z",
     "iopub.status.busy": "2022-03-28T06:34:41.330706Z",
     "iopub.status.idle": "2022-03-28T06:34:41.358938Z",
     "shell.execute_reply": "2022-03-28T06:34:41.359602Z"
    },
    "papermill": {
     "duration": 0.053083,
     "end_time": "2022-03-28T06:34:41.359808",
     "exception": false,
     "start_time": "2022-03-28T06:34:41.306725",
     "status": "completed"
    },
    "tags": []
   },
   "outputs": [],
   "source": [
    "###################################\n",
    "# Set the RNGs and make it all deterministic\n",
    "###################################\n",
    "np.random.seed(p.seed)\n",
    "random.seed(p.seed)\n",
    "torch.manual_seed(p.seed)\n",
    "\n",
    "torch.use_deterministic_algorithms(True) "
   ]
  },
  {
   "cell_type": "code",
   "execution_count": 7,
   "id": "b691acf6",
   "metadata": {
    "execution": {
     "iopub.execute_input": "2022-03-28T06:34:41.410612Z",
     "iopub.status.busy": "2022-03-28T06:34:41.410242Z",
     "iopub.status.idle": "2022-03-28T06:34:41.437673Z",
     "shell.execute_reply": "2022-03-28T06:34:41.436937Z"
    },
    "papermill": {
     "duration": 0.051253,
     "end_time": "2022-03-28T06:34:41.437848",
     "exception": false,
     "start_time": "2022-03-28T06:34:41.386595",
     "status": "completed"
    },
    "tags": []
   },
   "outputs": [],
   "source": [
    "###########################################\n",
    "# The stratified datasets honor this\n",
    "###########################################\n",
    "torch.set_default_dtype(eval(p.torch_default_dtype))"
   ]
  },
  {
   "cell_type": "code",
   "execution_count": 8,
   "id": "b5fba671",
   "metadata": {
    "execution": {
     "iopub.execute_input": "2022-03-28T06:34:41.486178Z",
     "iopub.status.busy": "2022-03-28T06:34:41.485809Z",
     "iopub.status.idle": "2022-03-28T06:34:41.546932Z",
     "shell.execute_reply": "2022-03-28T06:34:41.546192Z"
    },
    "papermill": {
     "duration": 0.084344,
     "end_time": "2022-03-28T06:34:41.547099",
     "exception": false,
     "start_time": "2022-03-28T06:34:41.462755",
     "status": "completed"
    },
    "tags": []
   },
   "outputs": [],
   "source": [
    "###################################\n",
    "# Build the network(s)\n",
    "# Note: It's critical to do this AFTER setting the RNG\n",
    "###################################\n",
    "x_net = build_sequential(p.x_net)"
   ]
  },
  {
   "cell_type": "code",
   "execution_count": 9,
   "id": "5d7e61cc",
   "metadata": {
    "execution": {
     "iopub.execute_input": "2022-03-28T06:34:41.595953Z",
     "iopub.status.busy": "2022-03-28T06:34:41.595574Z",
     "iopub.status.idle": "2022-03-28T06:34:41.619813Z",
     "shell.execute_reply": "2022-03-28T06:34:41.619061Z"
    },
    "papermill": {
     "duration": 0.047843,
     "end_time": "2022-03-28T06:34:41.619966",
     "exception": false,
     "start_time": "2022-03-28T06:34:41.572123",
     "status": "completed"
    },
    "tags": []
   },
   "outputs": [],
   "source": [
    "start_time_secs = time.time()"
   ]
  },
  {
   "cell_type": "code",
   "execution_count": 10,
   "id": "c6b67dfd",
   "metadata": {
    "execution": {
     "iopub.execute_input": "2022-03-28T06:34:41.670488Z",
     "iopub.status.busy": "2022-03-28T06:34:41.670115Z",
     "iopub.status.idle": "2022-03-28T06:34:41.696592Z",
     "shell.execute_reply": "2022-03-28T06:34:41.695883Z"
    },
    "papermill": {
     "duration": 0.050561,
     "end_time": "2022-03-28T06:34:41.696765",
     "exception": false,
     "start_time": "2022-03-28T06:34:41.646204",
     "status": "completed"
    },
    "tags": []
   },
   "outputs": [],
   "source": [
    "p.domains_source = []\n",
    "p.domains_target = []\n",
    "\n",
    "\n",
    "train_original_source = []\n",
    "val_original_source   = []\n",
    "test_original_source  = []\n",
    "\n",
    "train_original_target = []\n",
    "val_original_target   = []\n",
    "test_original_target  = []"
   ]
  },
  {
   "cell_type": "code",
   "execution_count": 11,
   "id": "e3d9c3d3",
   "metadata": {
    "execution": {
     "iopub.execute_input": "2022-03-28T06:34:41.748655Z",
     "iopub.status.busy": "2022-03-28T06:34:41.748242Z",
     "iopub.status.idle": "2022-03-28T06:34:41.775030Z",
     "shell.execute_reply": "2022-03-28T06:34:41.774218Z"
    },
    "papermill": {
     "duration": 0.049987,
     "end_time": "2022-03-28T06:34:41.775184",
     "exception": false,
     "start_time": "2022-03-28T06:34:41.725197",
     "status": "completed"
    },
    "tags": []
   },
   "outputs": [],
   "source": [
    "# global_x_transform_func = lambda x: normalize(x.to(torch.get_default_dtype()), \"unit_power\") # unit_power, unit_mag\n",
    "# global_x_transform_func = lambda x: normalize(x, \"unit_power\") # unit_power, unit_mag"
   ]
  },
  {
   "cell_type": "code",
   "execution_count": 12,
   "id": "acb78fd2",
   "metadata": {
    "execution": {
     "iopub.execute_input": "2022-03-28T06:34:41.833795Z",
     "iopub.status.busy": "2022-03-28T06:34:41.832927Z",
     "iopub.status.idle": "2022-03-28T06:34:41.856250Z",
     "shell.execute_reply": "2022-03-28T06:34:41.855431Z"
    },
    "papermill": {
     "duration": 0.057011,
     "end_time": "2022-03-28T06:34:41.856404",
     "exception": false,
     "start_time": "2022-03-28T06:34:41.799393",
     "status": "completed"
    },
    "tags": []
   },
   "outputs": [],
   "source": [
    "def add_dataset(\n",
    "    labels,\n",
    "    domains,\n",
    "    pickle_path,\n",
    "    x_transforms,\n",
    "    episode_transforms,\n",
    "    domain_prefix,\n",
    "    num_examples_per_domain_per_label,\n",
    "    source_or_target_dataset:str,\n",
    "    iterator_seed=p.seed,\n",
    "    dataset_seed=p.dataset_seed,\n",
    "    n_shot=p.n_shot,\n",
    "    n_way=p.n_way,\n",
    "    n_query=p.n_query,\n",
    "    train_val_test_k_factors=(p.train_k_factor,p.val_k_factor,p.test_k_factor),\n",
    "):\n",
    "   \n",
    "    if x_transforms == []: x_transform = None\n",
    "    else: x_transform = get_chained_transform(x_transforms)\n",
    "    \n",
    "    if episode_transforms == []: episode_transform = None\n",
    "    else: raise Exception(\"episode_transforms not implemented\")\n",
    "    \n",
    "    episode_transform = lambda tup, _prefix=domain_prefix: (_prefix + str(tup[0]), tup[1])\n",
    "\n",
    "\n",
    "    eaf = Episodic_Accessor_Factory(\n",
    "        labels=labels,\n",
    "        domains=domains,\n",
    "        num_examples_per_domain_per_label=num_examples_per_domain_per_label,\n",
    "        iterator_seed=iterator_seed,\n",
    "        dataset_seed=dataset_seed,\n",
    "        n_shot=n_shot,\n",
    "        n_way=n_way,\n",
    "        n_query=n_query,\n",
    "        train_val_test_k_factors=train_val_test_k_factors,\n",
    "        pickle_path=pickle_path,\n",
    "        x_transform_func=x_transform,\n",
    "    )\n",
    "\n",
    "    train, val, test = eaf.get_train(), eaf.get_val(), eaf.get_test()\n",
    "    train = Lazy_Iterable_Wrapper(train, episode_transform)\n",
    "    val = Lazy_Iterable_Wrapper(val, episode_transform)\n",
    "    test = Lazy_Iterable_Wrapper(test, episode_transform)\n",
    "\n",
    "    if source_or_target_dataset==\"source\":\n",
    "        train_original_source.append(train)\n",
    "        val_original_source.append(val)\n",
    "        test_original_source.append(test)\n",
    "\n",
    "        p.domains_source.extend(\n",
    "            [domain_prefix + str(u) for u in domains]\n",
    "        )\n",
    "    elif source_or_target_dataset==\"target\":\n",
    "        train_original_target.append(train)\n",
    "        val_original_target.append(val)\n",
    "        test_original_target.append(test)\n",
    "        p.domains_target.extend(\n",
    "            [domain_prefix + str(u) for u in domains]\n",
    "        )\n",
    "    else:\n",
    "        raise Exception(f\"invalid source_or_target_dataset: {source_or_target_dataset}\")\n",
    "    "
   ]
  },
  {
   "cell_type": "code",
   "execution_count": 13,
   "id": "fe266617",
   "metadata": {
    "execution": {
     "iopub.execute_input": "2022-03-28T06:34:41.904495Z",
     "iopub.status.busy": "2022-03-28T06:34:41.904123Z",
     "iopub.status.idle": "2022-03-28T06:36:32.123918Z",
     "shell.execute_reply": "2022-03-28T06:36:32.123104Z"
    },
    "papermill": {
     "duration": 110.243037,
     "end_time": "2022-03-28T06:36:32.124098",
     "exception": false,
     "start_time": "2022-03-28T06:34:41.881061",
     "status": "completed"
    },
    "tags": []
   },
   "outputs": [],
   "source": [
    "for ds in p.datasets:\n",
    "    add_dataset(**ds)"
   ]
  },
  {
   "cell_type": "code",
   "execution_count": 14,
   "id": "b90d65ac",
   "metadata": {
    "execution": {
     "iopub.execute_input": "2022-03-28T06:36:32.174757Z",
     "iopub.status.busy": "2022-03-28T06:36:32.174175Z",
     "iopub.status.idle": "2022-03-28T06:36:32.199915Z",
     "shell.execute_reply": "2022-03-28T06:36:32.199038Z"
    },
    "papermill": {
     "duration": 0.050619,
     "end_time": "2022-03-28T06:36:32.200072",
     "exception": false,
     "start_time": "2022-03-28T06:36:32.149453",
     "status": "completed"
    },
    "tags": []
   },
   "outputs": [],
   "source": [
    "# from steves_utils.CORES.utils import (\n",
    "#     ALL_NODES,\n",
    "#     ALL_NODES_MINIMUM_1000_EXAMPLES,\n",
    "#     ALL_DAYS\n",
    "# )\n",
    "\n",
    "# add_dataset(\n",
    "#     labels=ALL_NODES,\n",
    "#     domains = ALL_DAYS,\n",
    "#     num_examples_per_domain_per_label=100,\n",
    "#     pickle_path=os.path.join(get_datasets_base_path(), \"cores.stratified_ds.2022A.pkl\"),\n",
    "#     source_or_target_dataset=\"target\",\n",
    "#     x_transform_func=global_x_transform_func,\n",
    "#     domain_modifier=lambda u: f\"cores_{u}\"\n",
    "# )"
   ]
  },
  {
   "cell_type": "code",
   "execution_count": 15,
   "id": "76db484d",
   "metadata": {
    "execution": {
     "iopub.execute_input": "2022-03-28T06:36:32.258969Z",
     "iopub.status.busy": "2022-03-28T06:36:32.257239Z",
     "iopub.status.idle": "2022-03-28T06:36:32.276609Z",
     "shell.execute_reply": "2022-03-28T06:36:32.275796Z"
    },
    "papermill": {
     "duration": 0.042497,
     "end_time": "2022-03-28T06:36:32.276762",
     "exception": false,
     "start_time": "2022-03-28T06:36:32.234265",
     "status": "completed"
    },
    "tags": []
   },
   "outputs": [],
   "source": [
    "# from steves_utils.ORACLE.utils_v2 import (\n",
    "#     ALL_DISTANCES_FEET,\n",
    "#     ALL_RUNS,\n",
    "#     ALL_SERIAL_NUMBERS,\n",
    "# )\n",
    "\n",
    "\n",
    "# add_dataset(\n",
    "#     labels=ALL_SERIAL_NUMBERS,\n",
    "#     domains = list(set(ALL_DISTANCES_FEET) - {2,62}),\n",
    "#     num_examples_per_domain_per_label=100,\n",
    "#     pickle_path=os.path.join(get_datasets_base_path(), \"oracle.Run2_framed_2000Examples_stratified_ds.2022A.pkl\"),\n",
    "#     source_or_target_dataset=\"source\",\n",
    "#     x_transform_func=global_x_transform_func,\n",
    "#     domain_modifier=lambda u: f\"oracle1_{u}\"\n",
    "# )\n"
   ]
  },
  {
   "cell_type": "code",
   "execution_count": 16,
   "id": "97dea9d2",
   "metadata": {
    "execution": {
     "iopub.execute_input": "2022-03-28T06:36:32.329370Z",
     "iopub.status.busy": "2022-03-28T06:36:32.328509Z",
     "iopub.status.idle": "2022-03-28T06:36:32.349464Z",
     "shell.execute_reply": "2022-03-28T06:36:32.348639Z"
    },
    "papermill": {
     "duration": 0.046336,
     "end_time": "2022-03-28T06:36:32.349624",
     "exception": false,
     "start_time": "2022-03-28T06:36:32.303288",
     "status": "completed"
    },
    "tags": []
   },
   "outputs": [],
   "source": [
    "# from steves_utils.ORACLE.utils_v2 import (\n",
    "#     ALL_DISTANCES_FEET,\n",
    "#     ALL_RUNS,\n",
    "#     ALL_SERIAL_NUMBERS,\n",
    "# )\n",
    "\n",
    "\n",
    "# add_dataset(\n",
    "#     labels=ALL_SERIAL_NUMBERS,\n",
    "#     domains = list(set(ALL_DISTANCES_FEET) - {2,62,56}),\n",
    "#     num_examples_per_domain_per_label=100,\n",
    "#     pickle_path=os.path.join(get_datasets_base_path(), \"oracle.Run2_framed_2000Examples_stratified_ds.2022A.pkl\"),\n",
    "#     source_or_target_dataset=\"source\",\n",
    "#     x_transform_func=global_x_transform_func,\n",
    "#     domain_modifier=lambda u: f\"oracle2_{u}\"\n",
    "# )"
   ]
  },
  {
   "cell_type": "code",
   "execution_count": 17,
   "id": "6f289866",
   "metadata": {
    "execution": {
     "iopub.execute_input": "2022-03-28T06:36:32.403564Z",
     "iopub.status.busy": "2022-03-28T06:36:32.400842Z",
     "iopub.status.idle": "2022-03-28T06:36:32.422220Z",
     "shell.execute_reply": "2022-03-28T06:36:32.421401Z"
    },
    "papermill": {
     "duration": 0.044254,
     "end_time": "2022-03-28T06:36:32.422373",
     "exception": false,
     "start_time": "2022-03-28T06:36:32.378119",
     "status": "completed"
    },
    "tags": []
   },
   "outputs": [],
   "source": [
    "# add_dataset(\n",
    "#     labels=list(range(19)),\n",
    "#     domains = [0,1,2],\n",
    "#     num_examples_per_domain_per_label=100,\n",
    "#     pickle_path=os.path.join(get_datasets_base_path(), \"metehan.stratified_ds.2022A.pkl\"),\n",
    "#     source_or_target_dataset=\"target\",\n",
    "#     x_transform_func=global_x_transform_func,\n",
    "#     domain_modifier=lambda u: f\"met_{u}\"\n",
    "# )"
   ]
  },
  {
   "cell_type": "code",
   "execution_count": 18,
   "id": "86a863c3",
   "metadata": {
    "execution": {
     "iopub.execute_input": "2022-03-28T06:36:32.471839Z",
     "iopub.status.busy": "2022-03-28T06:36:32.471448Z",
     "iopub.status.idle": "2022-03-28T06:36:32.487736Z",
     "shell.execute_reply": "2022-03-28T06:36:32.488386Z"
    },
    "papermill": {
     "duration": 0.040346,
     "end_time": "2022-03-28T06:36:32.488585",
     "exception": false,
     "start_time": "2022-03-28T06:36:32.448239",
     "status": "completed"
    },
    "tags": []
   },
   "outputs": [],
   "source": [
    "# # from steves_utils.wisig.utils import (\n",
    "# #     ALL_NODES_MINIMUM_100_EXAMPLES,\n",
    "# #     ALL_NODES_MINIMUM_500_EXAMPLES,\n",
    "# #     ALL_NODES_MINIMUM_1000_EXAMPLES,\n",
    "# #     ALL_DAYS\n",
    "# # )\n",
    "\n",
    "# import steves_utils.wisig.utils as wisig\n",
    "\n",
    "\n",
    "# add_dataset(\n",
    "#     labels=wisig.ALL_NODES_MINIMUM_100_EXAMPLES,\n",
    "#     domains = wisig.ALL_DAYS,\n",
    "#     num_examples_per_domain_per_label=100,\n",
    "#     pickle_path=os.path.join(get_datasets_base_path(), \"wisig.node3-19.stratified_ds.2022A.pkl\"),\n",
    "#     source_or_target_dataset=\"target\",\n",
    "#     x_transform_func=global_x_transform_func,\n",
    "#     domain_modifier=lambda u: f\"wisig_{u}\"\n",
    "# )"
   ]
  },
  {
   "cell_type": "code",
   "execution_count": 19,
   "id": "fd5442bc",
   "metadata": {
    "execution": {
     "iopub.execute_input": "2022-03-28T06:36:32.547109Z",
     "iopub.status.busy": "2022-03-28T06:36:32.544686Z",
     "iopub.status.idle": "2022-03-28T06:36:32.564979Z",
     "shell.execute_reply": "2022-03-28T06:36:32.564162Z"
    },
    "papermill": {
     "duration": 0.047929,
     "end_time": "2022-03-28T06:36:32.565131",
     "exception": false,
     "start_time": "2022-03-28T06:36:32.517202",
     "status": "completed"
    },
    "tags": []
   },
   "outputs": [],
   "source": [
    "###################################\n",
    "# Build the dataset\n",
    "###################################\n",
    "train_original_source = Iterable_Aggregator(train_original_source, p.seed)\n",
    "val_original_source = Iterable_Aggregator(val_original_source, p.seed)\n",
    "test_original_source = Iterable_Aggregator(test_original_source, p.seed)\n",
    "\n",
    "\n",
    "train_original_target = Iterable_Aggregator(train_original_target, p.seed)\n",
    "val_original_target = Iterable_Aggregator(val_original_target, p.seed)\n",
    "test_original_target = Iterable_Aggregator(test_original_target, p.seed)\n",
    "\n",
    "# For CNN We only use X and Y. And we only train on the source.\n",
    "# Properly form the data using a transform lambda and Lazy_Iterable_Wrapper. Finally wrap them in a dataloader\n",
    "\n",
    "transform_lambda = lambda ex: ex[1] # Original is (<domain>, <episode>) so we strip down to episode only\n",
    "\n",
    "train_processed_source = Lazy_Iterable_Wrapper(train_original_source, transform_lambda)\n",
    "val_processed_source   = Lazy_Iterable_Wrapper(val_original_source, transform_lambda)\n",
    "test_processed_source  = Lazy_Iterable_Wrapper(test_original_source, transform_lambda)\n",
    "\n",
    "train_processed_target = Lazy_Iterable_Wrapper(train_original_target, transform_lambda)\n",
    "val_processed_target   = Lazy_Iterable_Wrapper(val_original_target, transform_lambda)\n",
    "test_processed_target  = Lazy_Iterable_Wrapper(test_original_target, transform_lambda)\n",
    "\n",
    "datasets = EasyDict({\n",
    "    \"source\": {\n",
    "        \"original\": {\"train\":train_original_source, \"val\":val_original_source, \"test\":test_original_source},\n",
    "        \"processed\": {\"train\":train_processed_source, \"val\":val_processed_source, \"test\":test_processed_source}\n",
    "    },\n",
    "    \"target\": {\n",
    "        \"original\": {\"train\":train_original_target, \"val\":val_original_target, \"test\":test_original_target},\n",
    "        \"processed\": {\"train\":train_processed_target, \"val\":val_processed_target, \"test\":test_processed_target}\n",
    "    },\n",
    "})"
   ]
  },
  {
   "cell_type": "code",
   "execution_count": 20,
   "id": "5b3c01fc",
   "metadata": {
    "execution": {
     "iopub.execute_input": "2022-03-28T06:36:32.621337Z",
     "iopub.status.busy": "2022-03-28T06:36:32.620364Z",
     "iopub.status.idle": "2022-03-28T06:36:46.619103Z",
     "shell.execute_reply": "2022-03-28T06:36:46.618360Z"
    },
    "papermill": {
     "duration": 14.025167,
     "end_time": "2022-03-28T06:36:46.619275",
     "exception": false,
     "start_time": "2022-03-28T06:36:32.594108",
     "status": "completed"
    },
    "tags": []
   },
   "outputs": [
    {
     "name": "stdout",
     "output_type": "stream",
     "text": [
      "{'C_4', 'C_3', 'C_5', 'C_1', 'C_2'}\n"
     ]
    },
    {
     "name": "stdout",
     "output_type": "stream",
     "text": [
      "{'O_50', 'O_20', 'O_32', 'O_38', 'O_26', 'O_44', 'O_14', 'O_8'}\n"
     ]
    },
    {
     "name": "stdout",
     "output_type": "stream",
     "text": [
      "tensor([[[0., 0., 0.,  ..., 0., 0., 0.],\n",
      "         [0., 0., 0.,  ..., 0., 0., 0.]],\n",
      "\n",
      "        [[0., 0., 0.,  ..., 0., 0., 0.],\n",
      "         [0., 0., 0.,  ..., 0., 0., 0.]],\n",
      "\n",
      "        [[0., 0., 0.,  ..., 0., 0., 0.],\n",
      "         [0., 0., 0.,  ..., 0., 0., 0.]],\n",
      "\n",
      "        ...,\n",
      "\n",
      "        [[0., 0., 0.,  ..., 0., 0., 0.],\n",
      "         [0., 0., 0.,  ..., 0., 0., 0.]],\n",
      "\n",
      "        [[0., 0., 0.,  ..., 0., 0., 0.],\n",
      "         [0., 0., 0.,  ..., 0., 0., 0.]],\n",
      "\n",
      "        [[0., 0., 0.,  ..., 0., 0., 0.],\n",
      "         [0., 0., 0.,  ..., 0., 0., 0.]]])\n"
     ]
    }
   ],
   "source": [
    "from steves_utils.transforms import get_average_magnitude, get_average_power\n",
    "\n",
    "print(set([u for u,_ in val_original_source]))\n",
    "print(set([u for u,_ in val_original_target]))\n",
    "\n",
    "s_x, s_y, q_x, q_y, _ = next(iter(train_processed_source))\n",
    "print(s_x)\n",
    "\n",
    "# for ds in [\n",
    "#     train_processed_source,\n",
    "#     val_processed_source,\n",
    "#     test_processed_source,\n",
    "#     train_processed_target,\n",
    "#     val_processed_target,\n",
    "#     test_processed_target\n",
    "# ]:\n",
    "#     for s_x, s_y, q_x, q_y, _ in ds:\n",
    "#         for X in (s_x, q_x):\n",
    "#             for x in X:\n",
    "#                 assert np.isclose(get_average_magnitude(x.numpy()), 1.0)\n",
    "#                 assert np.isclose(get_average_power(x.numpy()), 1.0)\n",
    "                "
   ]
  },
  {
   "cell_type": "code",
   "execution_count": 21,
   "id": "bbdacba1",
   "metadata": {
    "execution": {
     "iopub.execute_input": "2022-03-28T06:36:46.669970Z",
     "iopub.status.busy": "2022-03-28T06:36:46.669594Z",
     "iopub.status.idle": "2022-03-28T06:36:46.765678Z",
     "shell.execute_reply": "2022-03-28T06:36:46.766364Z"
    },
    "papermill": {
     "duration": 0.122422,
     "end_time": "2022-03-28T06:36:46.766565",
     "exception": false,
     "start_time": "2022-03-28T06:36:46.644143",
     "status": "completed"
    },
    "tags": []
   },
   "outputs": [
    {
     "name": "stdout",
     "output_type": "stream",
     "text": [
      "(2, 256)\n"
     ]
    }
   ],
   "source": [
    "###################################\n",
    "# Build the model\n",
    "###################################\n",
    "# easfsl only wants a tuple for the shape\n",
    "model = Steves_Prototypical_Network(x_net, device=p.device, x_shape=tuple(p.x_shape))\n",
    "optimizer = Adam(params=model.parameters(), lr=p.lr)"
   ]
  },
  {
   "cell_type": "code",
   "execution_count": 22,
   "id": "22b39ac5",
   "metadata": {
    "execution": {
     "iopub.execute_input": "2022-03-28T06:36:46.825972Z",
     "iopub.status.busy": "2022-03-28T06:36:46.825322Z",
     "iopub.status.idle": "2022-03-28T06:49:29.824489Z",
     "shell.execute_reply": "2022-03-28T06:49:29.824147Z"
    },
    "papermill": {
     "duration": 763.02663,
     "end_time": "2022-03-28T06:49:29.824572",
     "exception": false,
     "start_time": "2022-03-28T06:36:46.797942",
     "status": "completed"
    },
    "tags": []
   },
   "outputs": [
    {
     "name": "stdout",
     "output_type": "stream",
     "text": [
      "epoch: 1, [batch: 1 / 6320], examples_per_second: 34.3043, train_label_loss: 2.7104, \n"
     ]
    },
    {
     "name": "stdout",
     "output_type": "stream",
     "text": [
      "epoch: 1, [batch: 632 / 6320], examples_per_second: 4175.8638, train_label_loss: 0.0135, \n"
     ]
    },
    {
     "name": "stdout",
     "output_type": "stream",
     "text": [
      "epoch: 1, [batch: 1264 / 6320], examples_per_second: 4596.3530, train_label_loss: 0.0016, \n"
     ]
    },
    {
     "name": "stdout",
     "output_type": "stream",
     "text": [
      "epoch: 1, [batch: 1896 / 6320], examples_per_second: 3909.7327, train_label_loss: 0.0150, \n"
     ]
    },
    {
     "name": "stdout",
     "output_type": "stream",
     "text": [
      "epoch: 1, [batch: 2528 / 6320], examples_per_second: 3849.2272, train_label_loss: 0.0190, \n"
     ]
    },
    {
     "name": "stdout",
     "output_type": "stream",
     "text": [
      "epoch: 1, [batch: 3160 / 6320], examples_per_second: 3966.6397, train_label_loss: 0.0406, \n"
     ]
    },
    {
     "name": "stdout",
     "output_type": "stream",
     "text": [
      "epoch: 1, [batch: 3792 / 6320], examples_per_second: 3987.7011, train_label_loss: 0.0242, \n"
     ]
    },
    {
     "name": "stdout",
     "output_type": "stream",
     "text": [
      "epoch: 1, [batch: 4424 / 6320], examples_per_second: 3912.2386, train_label_loss: 0.0127, \n"
     ]
    },
    {
     "name": "stdout",
     "output_type": "stream",
     "text": [
      "epoch: 1, [batch: 5056 / 6320], examples_per_second: 3990.3779, train_label_loss: 0.0355, \n"
     ]
    },
    {
     "name": "stdout",
     "output_type": "stream",
     "text": [
      "epoch: 1, [batch: 5688 / 6320], examples_per_second: 3829.6514, train_label_loss: 0.0003, \n"
     ]
    },
    {
     "name": "stdout",
     "output_type": "stream",
     "text": [
      "=============================================================\n",
      "epoch: 1, source_val_acc_label: 0.9967, target_val_acc_label: 0.4006, source_val_label_loss: 0.0154, target_val_label_loss: 1.6593, \n",
      "=============================================================\n"
     ]
    },
    {
     "name": "stdout",
     "output_type": "stream",
     "text": [
      "New best\n"
     ]
    },
    {
     "name": "stdout",
     "output_type": "stream",
     "text": [
      "epoch: 2, [batch: 1 / 6305], examples_per_second: 4.0815, train_label_loss: 0.0045, \n"
     ]
    },
    {
     "name": "stdout",
     "output_type": "stream",
     "text": [
      "epoch: 2, [batch: 631 / 6305], examples_per_second: 4394.4302, train_label_loss: 0.0003, \n"
     ]
    },
    {
     "name": "stdout",
     "output_type": "stream",
     "text": [
      "epoch: 2, [batch: 1261 / 6305], examples_per_second: 4358.1017, train_label_loss: 0.0006, \n"
     ]
    },
    {
     "name": "stdout",
     "output_type": "stream",
     "text": [
      "epoch: 2, [batch: 1892 / 6305], examples_per_second: 3877.5769, train_label_loss: 0.0003, \n"
     ]
    },
    {
     "name": "stdout",
     "output_type": "stream",
     "text": [
      "epoch: 2, [batch: 2522 / 6305], examples_per_second: 3899.9979, train_label_loss: 0.0020, \n"
     ]
    },
    {
     "name": "stdout",
     "output_type": "stream",
     "text": [
      "epoch: 2, [batch: 3153 / 6305], examples_per_second: 4026.2765, train_label_loss: 0.0999, \n"
     ]
    },
    {
     "name": "stdout",
     "output_type": "stream",
     "text": [
      "epoch: 2, [batch: 3783 / 6305], examples_per_second: 3839.7204, train_label_loss: 0.0043, \n"
     ]
    },
    {
     "name": "stdout",
     "output_type": "stream",
     "text": [
      "epoch: 2, [batch: 4413 / 6305], examples_per_second: 3787.9599, train_label_loss: 0.0008, \n"
     ]
    },
    {
     "name": "stdout",
     "output_type": "stream",
     "text": [
      "epoch: 2, [batch: 5044 / 6305], examples_per_second: 3894.9278, train_label_loss: 0.0007, \n"
     ]
    },
    {
     "name": "stdout",
     "output_type": "stream",
     "text": [
      "epoch: 2, [batch: 5674 / 6305], examples_per_second: 3946.4415, train_label_loss: 0.0002, \n"
     ]
    },
    {
     "name": "stdout",
     "output_type": "stream",
     "text": [
      "=============================================================\n",
      "epoch: 2, source_val_acc_label: 0.9968, target_val_acc_label: 0.3174, source_val_label_loss: 0.0144, target_val_label_loss: 2.0741, \n",
      "=============================================================\n"
     ]
    },
    {
     "name": "stdout",
     "output_type": "stream",
     "text": [
      "epoch: 3, [batch: 1 / 6307], examples_per_second: 4.1373, train_label_loss: 0.0018, \n"
     ]
    },
    {
     "name": "stdout",
     "output_type": "stream",
     "text": [
      "epoch: 3, [batch: 631 / 6307], examples_per_second: 4236.4771, train_label_loss: 0.0001, \n"
     ]
    },
    {
     "name": "stdout",
     "output_type": "stream",
     "text": [
      "epoch: 3, [batch: 1262 / 6307], examples_per_second: 4182.5467, train_label_loss: 0.0013, \n"
     ]
    },
    {
     "name": "stdout",
     "output_type": "stream",
     "text": [
      "epoch: 3, [batch: 1892 / 6307], examples_per_second: 3899.1249, train_label_loss: 0.0015, \n"
     ]
    },
    {
     "name": "stdout",
     "output_type": "stream",
     "text": [
      "epoch: 3, [batch: 2523 / 6307], examples_per_second: 3840.6221, train_label_loss: 0.0029, \n"
     ]
    },
    {
     "name": "stdout",
     "output_type": "stream",
     "text": [
      "epoch: 3, [batch: 3154 / 6307], examples_per_second: 3806.7421, train_label_loss: 0.0009, \n"
     ]
    },
    {
     "name": "stdout",
     "output_type": "stream",
     "text": [
      "epoch: 3, [batch: 3784 / 6307], examples_per_second: 3832.2680, train_label_loss: 0.0002, \n"
     ]
    },
    {
     "name": "stdout",
     "output_type": "stream",
     "text": [
      "epoch: 3, [batch: 4415 / 6307], examples_per_second: 3759.3360, train_label_loss: 0.0016, \n"
     ]
    },
    {
     "name": "stdout",
     "output_type": "stream",
     "text": [
      "epoch: 3, [batch: 5045 / 6307], examples_per_second: 3876.7962, train_label_loss: 0.0009, \n"
     ]
    },
    {
     "name": "stdout",
     "output_type": "stream",
     "text": [
      "epoch: 3, [batch: 5676 / 6307], examples_per_second: 3907.9234, train_label_loss: 0.0005, \n"
     ]
    },
    {
     "name": "stdout",
     "output_type": "stream",
     "text": [
      "=============================================================\n",
      "epoch: 3, source_val_acc_label: 0.9960, target_val_acc_label: 0.2892, source_val_label_loss: 0.0178, target_val_label_loss: 2.3454, \n",
      "=============================================================\n"
     ]
    },
    {
     "name": "stdout",
     "output_type": "stream",
     "text": [
      "epoch: 4, [batch: 1 / 6315], examples_per_second: 4.1523, train_label_loss: 0.0019, \n"
     ]
    },
    {
     "name": "stdout",
     "output_type": "stream",
     "text": [
      "epoch: 4, [batch: 632 / 6315], examples_per_second: 4328.2264, train_label_loss: 0.0003, \n"
     ]
    },
    {
     "name": "stdout",
     "output_type": "stream",
     "text": [
      "epoch: 4, [batch: 1263 / 6315], examples_per_second: 3897.3924, train_label_loss: 0.0060, \n"
     ]
    },
    {
     "name": "stdout",
     "output_type": "stream",
     "text": [
      "epoch: 4, [batch: 1895 / 6315], examples_per_second: 3822.9844, train_label_loss: 0.0012, \n"
     ]
    },
    {
     "name": "stdout",
     "output_type": "stream",
     "text": [
      "epoch: 4, [batch: 2526 / 6315], examples_per_second: 3962.3527, train_label_loss: 0.0000, \n"
     ]
    },
    {
     "name": "stdout",
     "output_type": "stream",
     "text": [
      "epoch: 4, [batch: 3158 / 6315], examples_per_second: 4075.7820, train_label_loss: 0.0050, \n"
     ]
    },
    {
     "name": "stdout",
     "output_type": "stream",
     "text": [
      "epoch: 4, [batch: 3789 / 6315], examples_per_second: 4022.5976, train_label_loss: 0.0059, \n"
     ]
    },
    {
     "name": "stdout",
     "output_type": "stream",
     "text": [
      "epoch: 4, [batch: 4420 / 6315], examples_per_second: 4007.4627, train_label_loss: 0.0000, \n"
     ]
    },
    {
     "name": "stdout",
     "output_type": "stream",
     "text": [
      "epoch: 4, [batch: 5052 / 6315], examples_per_second: 4028.9570, train_label_loss: 0.0000, \n"
     ]
    },
    {
     "name": "stdout",
     "output_type": "stream",
     "text": [
      "epoch: 4, [batch: 5683 / 6315], examples_per_second: 4058.1661, train_label_loss: 0.0000, \n"
     ]
    },
    {
     "name": "stdout",
     "output_type": "stream",
     "text": [
      "=============================================================\n",
      "epoch: 4, source_val_acc_label: 0.9988, target_val_acc_label: 0.3283, source_val_label_loss: 0.0072, target_val_label_loss: 2.0615, \n",
      "=============================================================\n"
     ]
    },
    {
     "name": "stdout",
     "output_type": "stream",
     "text": [
      "epoch: 5, [batch: 1 / 6313], examples_per_second: 4.1980, train_label_loss: 0.0000, \n"
     ]
    },
    {
     "name": "stdout",
     "output_type": "stream",
     "text": [
      "epoch: 5, [batch: 632 / 6313], examples_per_second: 4402.1572, train_label_loss: 0.0000, \n"
     ]
    },
    {
     "name": "stdout",
     "output_type": "stream",
     "text": [
      "epoch: 5, [batch: 1263 / 6313], examples_per_second: 3841.0902, train_label_loss: 0.0001, \n"
     ]
    },
    {
     "name": "stdout",
     "output_type": "stream",
     "text": [
      "epoch: 5, [batch: 1894 / 6313], examples_per_second: 3942.1869, train_label_loss: 0.0000, \n"
     ]
    },
    {
     "name": "stdout",
     "output_type": "stream",
     "text": [
      "epoch: 5, [batch: 2525 / 6313], examples_per_second: 3883.9381, train_label_loss: 0.0000, \n"
     ]
    },
    {
     "name": "stdout",
     "output_type": "stream",
     "text": [
      "epoch: 5, [batch: 3157 / 6313], examples_per_second: 3950.9032, train_label_loss: 0.0000, \n"
     ]
    },
    {
     "name": "stdout",
     "output_type": "stream",
     "text": [
      "epoch: 5, [batch: 3788 / 6313], examples_per_second: 3947.9243, train_label_loss: 0.0000, \n"
     ]
    },
    {
     "name": "stdout",
     "output_type": "stream",
     "text": [
      "epoch: 5, [batch: 4419 / 6313], examples_per_second: 3954.3126, train_label_loss: 0.0000, \n"
     ]
    },
    {
     "name": "stdout",
     "output_type": "stream",
     "text": [
      "epoch: 5, [batch: 5050 / 6313], examples_per_second: 4008.7925, train_label_loss: 0.0001, \n"
     ]
    },
    {
     "name": "stdout",
     "output_type": "stream",
     "text": [
      "epoch: 5, [batch: 5681 / 6313], examples_per_second: 3964.7317, train_label_loss: 0.0000, \n"
     ]
    },
    {
     "name": "stdout",
     "output_type": "stream",
     "text": [
      "=============================================================\n",
      "epoch: 5, source_val_acc_label: 0.9993, target_val_acc_label: 0.3348, source_val_label_loss: 0.0070, target_val_label_loss: 2.1689, \n",
      "=============================================================\n"
     ]
    },
    {
     "name": "stdout",
     "output_type": "stream",
     "text": [
      "Patience (3) exhausted\n"
     ]
    }
   ],
   "source": [
    "###################################\n",
    "# train\n",
    "###################################\n",
    "jig = PTN_Train_Eval_Test_Jig(model, p.BEST_MODEL_PATH, p.device)\n",
    "\n",
    "jig.train(\n",
    "    train_iterable=datasets.source.processed.train,\n",
    "    source_val_iterable=datasets.source.processed.val,\n",
    "    target_val_iterable=datasets.target.processed.val,\n",
    "    num_epochs=p.n_epoch,\n",
    "    num_logs_per_epoch=p.NUM_LOGS_PER_EPOCH,\n",
    "    patience=p.patience,\n",
    "    optimizer=optimizer,\n",
    "    criteria_for_best=p.criteria_for_best,\n",
    ")"
   ]
  },
  {
   "cell_type": "code",
   "execution_count": 23,
   "id": "31e8fabf",
   "metadata": {
    "execution": {
     "iopub.execute_input": "2022-03-28T06:49:29.905657Z",
     "iopub.status.busy": "2022-03-28T06:49:29.904702Z",
     "iopub.status.idle": "2022-03-28T06:49:29.943476Z",
     "shell.execute_reply": "2022-03-28T06:49:29.942762Z"
    },
    "papermill": {
     "duration": 0.08229,
     "end_time": "2022-03-28T06:49:29.943648",
     "exception": false,
     "start_time": "2022-03-28T06:49:29.861358",
     "status": "completed"
    },
    "tags": []
   },
   "outputs": [],
   "source": [
    "total_experiment_time_secs = time.time() - start_time_secs"
   ]
  },
  {
   "cell_type": "code",
   "execution_count": 24,
   "id": "87b9595b",
   "metadata": {
    "execution": {
     "iopub.execute_input": "2022-03-28T06:49:30.034669Z",
     "iopub.status.busy": "2022-03-28T06:49:30.034080Z",
     "iopub.status.idle": "2022-03-28T06:52:12.885174Z",
     "shell.execute_reply": "2022-03-28T06:52:12.885880Z"
    },
    "papermill": {
     "duration": 162.900193,
     "end_time": "2022-03-28T06:52:12.886121",
     "exception": false,
     "start_time": "2022-03-28T06:49:29.985928",
     "status": "completed"
    },
    "tags": []
   },
   "outputs": [],
   "source": [
    "###################################\n",
    "# Evaluate the model\n",
    "###################################\n",
    "source_test_label_accuracy, source_test_label_loss = jig.test(datasets.source.processed.test)\n",
    "target_test_label_accuracy, target_test_label_loss = jig.test(datasets.target.processed.test)\n",
    "\n",
    "source_val_label_accuracy, source_val_label_loss = jig.test(datasets.source.processed.val)\n",
    "target_val_label_accuracy, target_val_label_loss = jig.test(datasets.target.processed.val)\n",
    "\n",
    "history = jig.get_history()\n",
    "\n",
    "total_epochs_trained = len(history[\"epoch_indices\"])\n",
    "\n",
    "val_dl = Iterable_Aggregator((datasets.source.original.val,datasets.target.original.val))\n",
    "\n",
    "confusion = ptn_confusion_by_domain_over_dataloader(model, p.device, val_dl)\n",
    "per_domain_accuracy = per_domain_accuracy_from_confusion(confusion)\n",
    "\n",
    "# Add a key to per_domain_accuracy for if it was a source domain\n",
    "for domain, accuracy in per_domain_accuracy.items():\n",
    "    per_domain_accuracy[domain] = {\n",
    "        \"accuracy\": accuracy,\n",
    "        \"source?\": domain in p.domains_source\n",
    "    }\n",
    "\n",
    "# Do an independent accuracy assesment JUST TO BE SURE!\n",
    "# _source_test_label_accuracy = independent_accuracy_assesment(model, datasets.source.processed.test, p.device)\n",
    "# _target_test_label_accuracy = independent_accuracy_assesment(model, datasets.target.processed.test, p.device)\n",
    "# _source_val_label_accuracy = independent_accuracy_assesment(model, datasets.source.processed.val, p.device)\n",
    "# _target_val_label_accuracy = independent_accuracy_assesment(model, datasets.target.processed.val, p.device)\n",
    "\n",
    "# assert(_source_test_label_accuracy == source_test_label_accuracy)\n",
    "# assert(_target_test_label_accuracy == target_test_label_accuracy)\n",
    "# assert(_source_val_label_accuracy == source_val_label_accuracy)\n",
    "# assert(_target_val_label_accuracy == target_val_label_accuracy)\n",
    "\n",
    "experiment = {\n",
    "    \"experiment_name\": p.experiment_name,\n",
    "    \"parameters\": dict(p),\n",
    "    \"results\": {\n",
    "        \"source_test_label_accuracy\": source_test_label_accuracy,\n",
    "        \"source_test_label_loss\": source_test_label_loss,\n",
    "        \"target_test_label_accuracy\": target_test_label_accuracy,\n",
    "        \"target_test_label_loss\": target_test_label_loss,\n",
    "        \"source_val_label_accuracy\": source_val_label_accuracy,\n",
    "        \"source_val_label_loss\": source_val_label_loss,\n",
    "        \"target_val_label_accuracy\": target_val_label_accuracy,\n",
    "        \"target_val_label_loss\": target_val_label_loss,\n",
    "        \"total_epochs_trained\": total_epochs_trained,\n",
    "        \"total_experiment_time_secs\": total_experiment_time_secs,\n",
    "        \"confusion\": confusion,\n",
    "        \"per_domain_accuracy\": per_domain_accuracy,\n",
    "    },\n",
    "    \"history\": history,\n",
    "    \"dataset_metrics\": get_dataset_metrics(datasets, \"ptn\"),\n",
    "}"
   ]
  },
  {
   "cell_type": "code",
   "execution_count": 25,
   "id": "54a21829",
   "metadata": {
    "execution": {
     "iopub.execute_input": "2022-03-28T06:52:12.974939Z",
     "iopub.status.busy": "2022-03-28T06:52:12.974559Z",
     "iopub.status.idle": "2022-03-28T06:52:13.192032Z",
     "shell.execute_reply": "2022-03-28T06:52:13.192739Z"
    },
    "papermill": {
     "duration": 0.261878,
     "end_time": "2022-03-28T06:52:13.192953",
     "exception": false,
     "start_time": "2022-03-28T06:52:12.931075",
     "status": "completed"
    },
    "tags": []
   },
   "outputs": [
    {
     "data": {
      "image/png": "[encoded data removed]",
      "text/plain": [
       "<Figure size 1080x504 with 1 Axes>"
      ]
     },
     "metadata": {
      "needs_background": "light"
     },
     "output_type": "display_data"
    }
   ],
   "source": [
    "ax = get_loss_curve(experiment)\n",
    "plt.show()"
   ]
  },
  {
   "cell_type": "code",
   "execution_count": 26,
   "id": "fd8a0f60",
   "metadata": {
    "execution": {
     "iopub.execute_input": "2022-03-28T06:52:13.281787Z",
     "iopub.status.busy": "2022-03-28T06:52:13.281415Z",
     "iopub.status.idle": "2022-03-28T06:52:13.617903Z",
     "shell.execute_reply": "2022-03-28T06:52:13.618603Z"
    },
    "papermill": {
     "duration": 0.38076,
     "end_time": "2022-03-28T06:52:13.618819",
     "exception": false,
     "start_time": "2022-03-28T06:52:13.238059",
     "status": "completed"
    },
    "tags": []
   },
   "outputs": [
    {
     "data": {
      "text/plain": [
       "<AxesSubplot:title={'center':'Results'}>"
      ]
     },
     "execution_count": 26,
     "metadata": {},
     "output_type": "execute_result"
    },
    {
     "data": {
      "image/png": "[encoded data removed]",
      "text/plain": [
       "<Figure size 1080x504 with 1 Axes>"
      ]
     },
     "metadata": {
      "needs_background": "light"
     },
     "output_type": "display_data"
    }
   ],
   "source": [
    "get_results_table(experiment)"
   ]
  },
  {
   "cell_type": "code",
   "execution_count": 27,
   "id": "cf8dc689",
   "metadata": {
    "execution": {
     "iopub.execute_input": "2022-03-28T06:52:13.709846Z",
     "iopub.status.busy": "2022-03-28T06:52:13.709472Z",
     "iopub.status.idle": "2022-03-28T06:52:13.963937Z",
     "shell.execute_reply": "2022-03-28T06:52:13.964633Z"
    },
    "papermill": {
     "duration": 0.301488,
     "end_time": "2022-03-28T06:52:13.964832",
     "exception": false,
     "start_time": "2022-03-28T06:52:13.663344",
     "status": "completed"
    },
    "tags": []
   },
   "outputs": [
    {
     "data": {
      "text/plain": [
       "<AxesSubplot:title={'center':'Per Domain Validation Accuracy'}, xlabel='domain'>"
      ]
     },
     "execution_count": 27,
     "metadata": {},
     "output_type": "execute_result"
    },
    {
     "data": {
      "image/png": "[encoded data removed]",
      "text/plain": [
       "<Figure size 1080x504 with 1 Axes>"
      ]
     },
     "metadata": {
      "needs_background": "light"
     },
     "output_type": "display_data"
    }
   ],
   "source": [
    "get_domain_accuracies(experiment)"
   ]
  },
  {
   "cell_type": "code",
   "execution_count": 28,
   "id": "a74ae082",
   "metadata": {
    "execution": {
     "iopub.execute_input": "2022-03-28T06:52:14.059263Z",
     "iopub.status.busy": "2022-03-28T06:52:14.058687Z",
     "iopub.status.idle": "2022-03-28T06:52:14.085987Z",
     "shell.execute_reply": "2022-03-28T06:52:14.086691Z"
    },
    "papermill": {
     "duration": 0.075959,
     "end_time": "2022-03-28T06:52:14.086873",
     "exception": false,
     "start_time": "2022-03-28T06:52:14.010914",
     "status": "completed"
    },
    "tags": []
   },
   "outputs": [
    {
     "name": "stdout",
     "output_type": "stream",
     "text": [
      "Source Test Label Accuracy: 0.9963524130190797 Target Test Label Accuracy: 0.40358072916666665\n",
      "Source Val Label Accuracy: 0.9967180365296804 Target Val Label Accuracy: 0.4005533854166667\n"
     ]
    }
   ],
   "source": [
    "print(\"Source Test Label Accuracy:\", experiment[\"results\"][\"source_test_label_accuracy\"], \"Target Test Label Accuracy:\", experiment[\"results\"][\"target_test_label_accuracy\"])\n",
    "print(\"Source Val Label Accuracy:\", experiment[\"results\"][\"source_val_label_accuracy\"], \"Target Val Label Accuracy:\", experiment[\"results\"][\"target_val_label_accuracy\"])"
   ]
  },
  {
   "cell_type": "code",
   "execution_count": 29,
   "id": "dacca602",
   "metadata": {
    "execution": {
     "iopub.execute_input": "2022-03-28T06:52:14.180967Z",
     "iopub.status.busy": "2022-03-28T06:52:14.180593Z",
     "iopub.status.idle": "2022-03-28T06:52:14.209433Z",
     "shell.execute_reply": "2022-03-28T06:52:14.210123Z"
    },
    "papermill": {
     "duration": 0.076086,
     "end_time": "2022-03-28T06:52:14.210306",
     "exception": false,
     "start_time": "2022-03-28T06:52:14.134220",
     "status": "completed"
    },
    "tags": [
     "experiment_json"
    ]
   },
   "outputs": [
    {
     "data": {
      "text/plain": [
       "'{\"experiment_name\": \"tl_3-jitter10v2:cores -> oracle.run1.framed\", \"parameters\": {\"experiment_name\": \"tl_3-jitter10v2:cores -> oracle.run1.framed\", \"device\": \"cuda\", \"lr\": 0.0001, \"x_shape\": [2, 256], \"n_shot\": 3, \"n_query\": 2, \"train_k_factor\": 3, \"val_k_factor\": 2, \"test_k_factor\": 2, \"torch_default_dtype\": \"torch.float32\", \"n_epoch\": 50, \"patience\": 3, \"criteria_for_best\": \"target_accuracy\", \"x_net\": [{\"class\": \"nnReshape\", \"kargs\": {\"shape\": [-1, 1, 2, 256]}}, {\"class\": \"Conv2d\", \"kargs\": {\"in_channels\": 1, \"out_channels\": 256, \"kernel_size\": [1, 7], \"bias\": false, \"padding\": [0, 3]}}, {\"class\": \"ReLU\", \"kargs\": {\"inplace\": true}}, {\"class\": \"BatchNorm2d\", \"kargs\": {\"num_features\": 256}}, {\"class\": \"Conv2d\", \"kargs\": {\"in_channels\": 256, \"out_channels\": 80, \"kernel_size\": [2, 7], \"bias\": true, \"padding\": [0, 3]}}, {\"class\": \"ReLU\", \"kargs\": {\"inplace\": true}}, {\"class\": \"BatchNorm2d\", \"kargs\": {\"num_features\": 80}}, {\"class\": \"Flatten\", \"kargs\": {}}, {\"class\": \"Linear\", \"kargs\": {\"in_features\": 20480, \"out_features\": 256}}, {\"class\": \"ReLU\", \"kargs\": {\"inplace\": true}}, {\"class\": \"BatchNorm1d\", \"kargs\": {\"num_features\": 256}}, {\"class\": \"Linear\", \"kargs\": {\"in_features\": 256, \"out_features\": 256}}], \"NUM_LOGS_PER_EPOCH\": 10, \"BEST_MODEL_PATH\": \"./best_model.pth\", \"n_way\": 16, \"datasets\": [{\"labels\": [\"1-10.\", \"1-11.\", \"1-15.\", \"1-16.\", \"1-17.\", \"1-18.\", \"1-19.\", \"10-4.\", \"10-7.\", \"11-1.\", \"11-14.\", \"11-17.\", \"11-20.\", \"11-7.\", \"13-20.\", \"13-8.\", \"14-10.\", \"14-11.\", \"14-14.\", \"14-7.\", \"15-1.\", \"15-20.\", \"16-1.\", \"16-16.\", \"17-10.\", \"17-11.\", \"17-2.\", \"19-1.\", \"19-16.\", \"19-19.\", \"19-20.\", \"19-3.\", \"2-10.\", \"2-11.\", \"2-17.\", \"2-18.\", \"2-20.\", \"2-3.\", \"2-4.\", \"2-5.\", \"2-6.\", \"2-7.\", \"2-8.\", \"3-13.\", \"3-18.\", \"3-3.\", \"4-1.\", \"4-10.\", \"4-11.\", \"4-19.\", \"5-5.\", \"6-15.\", \"7-10.\", \"7-14.\", \"8-18.\", \"8-20.\", \"8-3.\", \"8-8.\"], \"domains\": [1, 2, 3, 4, 5], \"num_examples_per_domain_per_label\": -1, \"pickle_path\": \"/root/csc500-main/datasets/cores.stratified_ds.2022A.pkl\", \"source_or_target_dataset\": \"source\", \"x_transforms\": [\"unit_mag\", \"jitter_256_10\", \"lowpass_+/-10MHz\", \"take_200\"], \"episode_transforms\": [], \"domain_prefix\": \"C_\"}, {\"labels\": [\"3123D52\", \"3123D65\", \"3123D79\", \"3123D80\", \"3123D54\", \"3123D70\", \"3123D7B\", \"3123D89\", \"3123D58\", \"3123D76\", \"3123D7D\", \"3123EFE\", \"3123D64\", \"3123D78\", \"3123D7E\", \"3124E4A\"], \"domains\": [32, 38, 8, 44, 14, 50, 20, 26], \"num_examples_per_domain_per_label\": 2000, \"pickle_path\": \"/root/csc500-main/datasets/oracle.Run1_framed_2000Examples_stratified_ds.2022A.pkl\", \"source_or_target_dataset\": \"target\", \"x_transforms\": [\"unit_mag\", \"jitter_256_10\", \"take_200\", \"resample_20Msps_to_25Msps\"], \"episode_transforms\": [], \"domain_prefix\": \"O_\"}], \"seed\": 1337, \"dataset_seed\": 1337, \"domains_source\": [\"C_1\", \"C_2\", \"C_3\", \"C_4\", \"C_5\"], \"domains_target\": [\"O_32\", \"O_38\", \"O_8\", \"O_44\", \"O_14\", \"O_50\", \"O_20\", \"O_26\"]}, \"results\": {\"source_test_label_accuracy\": 0.9963524130190797, \"source_test_label_loss\": 0.01648285612463951, \"target_test_label_accuracy\": 0.40358072916666665, \"target_test_label_loss\": 1.654897928237915, \"source_val_label_accuracy\": 0.9967180365296804, \"source_val_label_loss\": 0.01541376393288374, \"target_val_label_accuracy\": 0.4005533854166667, \"target_val_label_loss\": 1.6592681407928467, \"total_epochs_trained\": 5, \"total_experiment_time_secs\": 888.3238921165466, \"confusion\": {\"C_3\": {\"43\": {\"43\": 128}, \"9\": {\"9\": 150}, \"6\": {\"6\": 88}, \"3\": {\"3\": 144}, \"16\": {\"16\": 134}, \"51\": {\"51\": 128}, \"31\": {\"31\": 28}, \"46\": {\"46\": 134}, \"19\": {\"19\": 124}, \"8\": {\"8\": 152}, \"18\": {\"18\": 84}, \"37\": {\"37\": 28}, \"24\": {\"24\": 104}, \"10\": {\"10\": 64}, \"44\": {\"44\": 88}, \"14\": {\"14\": 37, \"0\": 3}, \"38\": {\"38\": 28}, \"53\": {\"53\": 140}, \"20\": {\"20\": 132}, \"32\": {\"32\": 28}, \"36\": {\"36\": 100}, \"33\": {\"33\": 28}, \"56\": {\"56\": 136}, \"23\": {\"23\": 130}, \"54\": {\"54\": 100}, \"21\": {\"21\": 126}, \"28\": {\"28\": 28}, \"26\": {\"26\": 24}, \"48\": {\"48\": 116}, \"52\": {\"52\": 118}, \"39\": {\"39\": 16}, \"22\": {\"22\": 140}, \"13\": {\"13\": 128}, \"2\": {\"2\": 32}, \"34\": {\"34\": 32}, \"27\": {\"27\": 132}, \"45\": {\"45\": 59, \"17\": 1}, \"35\": {\"35\": 28}, \"29\": {\"29\": 128}, \"25\": {\"25\": 144}, \"0\": {\"0\": 124}, \"41\": {\"41\": 28}, \"11\": {\"11\": 142}, \"5\": {\"5\": 108}, \"1\": {\"1\": 100}, \"57\": {\"57\": 116}, \"17\": {\"17\": 106, \"10\": 1, \"24\": 1}, \"7\": {\"7\": 36}, \"12\": {\"12\": 92}, \"47\": {\"47\": 92}, \"40\": {\"40\": 136}, \"15\": {\"15\": 142}, \"42\": {\"42\": 28}, \"55\": {\"55\": 150}, \"49\": {\"49\": 19, \"13\": 1}, \"30\": {\"30\": 120}, \"50\": {\"50\": 132, \"52\": 2}, \"4\": {\"4\": 136}}, \"C_4\": {\"35\": {\"35\": 40}, \"25\": {\"25\": 134}, \"24\": {\"24\": 56}, \"48\": {\"48\": 138}, \"51\": {\"51\": 144}, \"13\": {\"13\": 120}, \"14\": {\"14\": 10, \"0\": 6}, \"32\": {\"32\": 24}, \"30\": {\"30\": 44}, \"34\": {\"34\": 24}, \"9\": {\"9\": 136}, \"1\": {\"1\": 40}, \"0\": {\"0\": 80}, \"38\": {\"38\": 40}, \"22\": {\"22\": 128}, \"40\": {\"40\": 120}, \"6\": {\"6\": 106, \"51\": 1, \"53\": 4, \"52\": 1}, \"16\": {\"16\": 96}, \"11\": {\"11\": 104}, \"20\": {\"20\": 121, \"50\": 1}, \"17\": {\"17\": 80}, \"26\": {\"26\": 24}, \"54\": {\"54\": 108}, \"55\": {\"55\": 154}, \"50\": {\"50\": 126, \"20\": 4, \"3\": 1, \"40\": 1}, \"19\": {\"19\": 142}, \"44\": {\"44\": 122}, \"47\": {\"47\": 120}, \"33\": {\"33\": 36}, \"5\": {\"5\": 106, \"15\": 1, \"23\": 1}, \"18\": {\"18\": 108}, \"21\": {\"21\": 124}, \"41\": {\"41\": 36}, \"23\": {\"23\": 128}, \"39\": {\"39\": 20}, \"37\": {\"37\": 24}, \"8\": {\"8\": 144}, \"49\": {\"49\": 20}, \"53\": {\"53\": 140}, \"31\": {\"31\": 28}, \"28\": {\"28\": 32}, \"3\": {\"3\": 123, \"50\": 1}, \"27\": {\"27\": 138}, \"46\": {\"46\": 128}, \"12\": {\"12\": 92}, \"7\": {\"7\": 24}, \"4\": {\"4\": 132}, \"42\": {\"42\": 32}, \"43\": {\"43\": 130}, \"29\": {\"29\": 120}, \"57\": {\"57\": 100}, \"52\": {\"52\": 104}, \"45\": {\"45\": 96}, \"36\": {\"36\": 92}, \"10\": {\"10\": 126}, \"15\": {\"15\": 134}, \"56\": {\"56\": 124}, \"2\": {\"2\": 36}}, \"C_5\": {\"47\": {\"47\": 100}, \"53\": {\"53\": 150}, \"29\": {\"29\": 126}, \"52\": {\"52\": 130}, \"55\": {\"55\": 144}, \"17\": {\"17\": 116}, \"42\": {\"42\": 40}, \"33\": {\"33\": 32}, \"11\": {\"11\": 148}, \"19\": {\"19\": 118}, \"1\": {\"1\": 144}, \"44\": {\"44\": 142}, \"49\": {\"49\": 36}, \"4\": {\"4\": 100}, \"6\": {\"6\": 113, \"17\": 2, \"20\": 1}, \"39\": {\"39\": 20}, \"50\": {\"50\": 144, \"25\": 2, \"20\": 1, \"23\": 1}, \"56\": {\"56\": 130}, \"25\": {\"25\": 144}, \"28\": {\"28\": 32}, \"35\": {\"35\": 36}, \"24\": {\"24\": 80}, \"21\": {\"21\": 131, \"23\": 1}, \"45\": {\"17\": 2, \"45\": 114, \"4\": 5, \"9\": 2, \"48\": 1}, \"16\": {\"16\": 144}, \"37\": {\"37\": 24}, \"57\": {\"57\": 132}, \"34\": {\"34\": 36}, \"38\": {\"38\": 32}, \"48\": {\"48\": 130}, \"26\": {\"26\": 24}, \"9\": {\"9\": 152}, \"18\": {\"18\": 64}, \"3\": {\"3\": 92, \"49\": 8}, \"23\": {\"23\": 124}, \"15\": {\"15\": 154}, \"10\": {\"10\": 67, \"13\": 1}, \"46\": {\"46\": 148}, \"22\": {\"22\": 28}, \"54\": {\"54\": 112}, \"27\": {\"27\": 160}, \"41\": {\"41\": 28}, \"31\": {\"31\": 36}, \"0\": {\"0\": 124}, \"7\": {\"7\": 32}, \"2\": {\"2\": 28}, \"14\": {\"14\": 44}, \"40\": {\"40\": 124}, \"5\": {\"5\": 128}, \"12\": {\"12\": 96}, \"43\": {\"43\": 142}, \"13\": {\"13\": 146, \"10\": 2}, \"36\": {\"36\": 92}, \"8\": {\"8\": 150}, \"32\": {\"32\": 32}, \"30\": {\"30\": 128}, \"51\": {\"51\": 138}, \"20\": {\"20\": 138}}, \"C_1\": {\"46\": {\"46\": 140}, \"16\": {\"16\": 134}, \"26\": {\"26\": 24}, \"10\": {\"10\": 96}, \"9\": {\"9\": 156}, \"28\": {\"28\": 28}, \"51\": {\"51\": 156}, \"1\": {\"1\": 99, \"57\": 1}, \"55\": {\"55\": 148}, \"27\": {\"27\": 124}, \"22\": {\"22\": 121, \"24\": 2, \"21\": 1}, \"52\": {\"52\": 126}, \"3\": {\"3\": 139, \"25\": 1}, \"33\": {\"33\": 32}, \"47\": {\"47\": 120}, \"42\": {\"42\": 40}, \"12\": {\"12\": 116}, \"23\": {\"23\": 130, \"36\": 1, \"21\": 1}, \"49\": {\"49\": 32}, \"7\": {\"7\": 28}, \"4\": {\"4\": 132}, \"50\": {\"50\": 134}, \"19\": {\"19\": 154}, \"11\": {\"11\": 138, \"10\": 2}, \"31\": {\"31\": 28}, \"41\": {\"41\": 24}, \"56\": {\"56\": 138}, \"0\": {\"0\": 148}, \"57\": {\"57\": 127, \"56\": 1}, \"53\": {\"53\": 140}, \"43\": {\"43\": 144}, \"37\": {\"37\": 32}, \"2\": {\"2\": 36}, \"6\": {\"6\": 95, \"8\": 1}, \"13\": {\"13\": 149, \"12\": 1}, \"18\": {\"18\": 72}, \"36\": {\"36\": 64}, \"29\": {\"29\": 140}, \"39\": {\"39\": 28}, \"17\": {\"17\": 64}, \"21\": {\"21\": 123, \"22\": 1}, \"25\": {\"25\": 132}, \"45\": {\"45\": 142}, \"38\": {\"38\": 24}, \"30\": {\"30\": 119, \"14\": 1}, \"24\": {\"24\": 103, \"22\": 5}, \"20\": {\"20\": 140}, \"8\": {\"8\": 140}, \"35\": {\"35\": 36}, \"54\": {\"54\": 104}, \"5\": {\"5\": 147, \"46\": 1}, \"48\": {\"48\": 144}, \"15\": {\"15\": 142}, \"34\": {\"34\": 24}, \"14\": {\"19\": 2, \"14\": 20, \"5\": 1, \"8\": 1}, \"32\": {\"32\": 32}, \"40\": {\"40\": 148}, \"44\": {\"44\": 136}}, \"C_2\": {\"36\": {\"36\": 116}, \"5\": {\"5\": 120}, \"45\": {\"45\": 126, \"17\": 2}, \"49\": {\"49\": 24}, \"50\": {\"50\": 136}, \"4\": {\"4\": 138}, \"43\": {\"43\": 148}, \"41\": {\"41\": 19, \"52\": 1}, \"37\": {\"37\": 36}, \"12\": {\"12\": 92}, \"33\": {\"33\": 28}, \"7\": {\"7\": 36}, \"56\": {\"56\": 140}, \"14\": {\"14\": 21, \"0\": 3}, \"52\": {\"52\": 124}, \"44\": {\"44\": 96}, \"48\": {\"48\": 144}, \"20\": {\"20\": 128}, \"55\": {\"55\": 144}, \"32\": {\"32\": 28}, \"40\": {\"40\": 136}, \"54\": {\"54\": 108}, \"17\": {\"17\": 104}, \"38\": {\"38\": 20}, \"24\": {\"24\": 96}, \"1\": {\"1\": 112}, \"6\": {\"6\": 124}, \"34\": {\"34\": 28}, \"11\": {\"11\": 136}, \"9\": {\"9\": 150}, \"8\": {\"8\": 152}, \"22\": {\"22\": 136}, \"26\": {\"26\": 24}, \"23\": {\"23\": 146}, \"10\": {\"10\": 111, \"13\": 1}, \"18\": {\"18\": 48}, \"13\": {\"13\": 116}, \"30\": {\"30\": 128}, \"42\": {\"42\": 36}, \"31\": {\"31\": 28}, \"46\": {\"46\": 128}, \"57\": {\"57\": 142}, \"47\": {\"47\": 138}, \"35\": {\"35\": 32}, \"15\": {\"15\": 132}, \"25\": {\"25\": 136}, \"19\": {\"19\": 136}, \"51\": {\"51\": 127, \"50\": 1}, \"53\": {\"53\": 134}, \"21\": {\"21\": 120}, \"39\": {\"39\": 28}, \"2\": {\"2\": 32}, \"16\": {\"16\": 150}, \"0\": {\"0\": 48}, \"3\": {\"3\": 92}, \"27\": {\"27\": 142}, \"28\": {\"28\": 28}, \"29\": {\"29\": 128}}, \"O_14\": {\"15\": {\"15\": 189, \"5\": 10, \"4\": 5, \"1\": 3, \"6\": 4, \"7\": 27, \"13\": 1, \"2\": 1}, \"3\": {\"14\": 24, \"0\": 16, \"5\": 27, \"4\": 33, \"1\": 11, \"13\": 3, \"2\": 23, \"3\": 71, \"10\": 23, \"8\": 6, \"9\": 1, \"6\": 2}, \"6\": {\"6\": 87, \"13\": 64, \"14\": 35, \"15\": 1, \"2\": 30, \"1\": 1, \"5\": 2, \"4\": 7, \"3\": 3, \"10\": 7, \"0\": 1, \"7\": 2}, \"1\": {\"1\": 101, \"7\": 40, \"5\": 56, \"2\": 3, \"4\": 25, \"8\": 6, \"15\": 1, \"3\": 8}, \"8\": {\"8\": 215, \"9\": 4, \"0\": 6, \"1\": 9, \"3\": 4, \"5\": 2}, \"10\": {\"10\": 113, \"0\": 47, \"3\": 25, \"14\": 27, \"2\": 3, \"13\": 6, \"4\": 7, \"11\": 9, \"5\": 2, \"6\": 1}, \"9\": {\"9\": 179, \"12\": 35, \"3\": 1, \"11\": 15, \"8\": 3, \"0\": 7}, \"13\": {\"10\": 14, \"13\": 68, \"14\": 30, \"2\": 23, \"6\": 85, \"4\": 7, \"5\": 3, \"0\": 1, \"15\": 4, \"3\": 4, \"1\": 1}, \"12\": {\"12\": 199, \"9\": 39, \"11\": 2}, \"5\": {\"4\": 48, \"3\": 11, \"5\": 67, \"1\": 46, \"2\": 28, \"6\": 5, \"7\": 21, \"13\": 3, \"14\": 6, \"15\": 4, \"10\": 1}, \"0\": {\"0\": 113, \"10\": 46, \"9\": 5, \"11\": 31, \"3\": 28, \"5\": 3, \"4\": 3, \"8\": 5, \"2\": 2, \"14\": 3, \"1\": 1}, \"2\": {\"2\": 69, \"6\": 30, \"1\": 5, \"9\": 1, \"13\": 23, \"4\": 22, \"3\": 23, \"14\": 34, \"5\": 18, \"10\": 7, \"0\": 1, \"15\": 3, \"7\": 4}, \"11\": {\"11\": 173, \"9\": 24, \"0\": 23, \"10\": 13, \"12\": 6, \"3\": 1}, \"14\": {\"10\": 37, \"13\": 24, \"3\": 25, \"14\": 83, \"6\": 19, \"2\": 35, \"0\": 13, \"4\": 2, \"5\": 2}, \"7\": {\"15\": 40, \"7\": 137, \"4\": 5, \"5\": 10, \"1\": 44, \"2\": 3, \"3\": 1}, \"4\": {\"5\": 44, \"3\": 27, \"4\": 77, \"6\": 7, \"1\": 21, \"2\": 26, \"13\": 8, \"7\": 8, \"10\": 6, \"15\": 4, \"8\": 1, \"0\": 3, \"14\": 8}}, \"O_20\": {\"3\": {\"1\": 19, \"3\": 31, \"9\": 25, \"15\": 11, \"4\": 14, \"5\": 19, \"7\": 25, \"8\": 29, \"13\": 10, \"2\": 16, \"12\": 19, \"10\": 1, \"14\": 6, \"0\": 5, \"6\": 9, \"11\": 1}, \"15\": {\"1\": 36, \"0\": 47, \"5\": 24, \"15\": 50, \"3\": 7, \"9\": 9, \"12\": 22, \"13\": 25, \"8\": 2, \"2\": 11, \"4\": 4, \"7\": 3}, \"8\": {\"15\": 8, \"4\": 45, \"3\": 26, \"14\": 18, \"8\": 47, \"7\": 13, \"6\": 10, \"12\": 12, \"0\": 8, \"10\": 15, \"11\": 1, \"5\": 16, \"9\": 6, \"1\": 6, \"2\": 9}, \"4\": {\"1\": 4, \"4\": 56, \"8\": 52, \"6\": 12, \"0\": 7, \"14\": 23, \"3\": 20, \"10\": 13, \"5\": 17, \"7\": 8, \"2\": 7, \"12\": 15, \"9\": 3, \"15\": 3}, \"14\": {\"14\": 59, \"8\": 18, \"10\": 77, \"4\": 18, \"6\": 44, \"12\": 3, \"0\": 1, \"7\": 9, \"9\": 4, \"11\": 1, \"5\": 1, \"2\": 1, \"3\": 4}, \"0\": {\"13\": 13, \"0\": 78, \"5\": 47, \"15\": 36, \"4\": 9, \"12\": 13, \"3\": 9, \"9\": 7, \"1\": 14, \"7\": 3, \"2\": 6, \"8\": 5}, \"7\": {\"7\": 25, \"9\": 27, \"2\": 26, \"3\": 28, \"14\": 6, \"8\": 14, \"0\": 2, \"1\": 10, \"4\": 8, \"12\": 17, \"15\": 7, \"5\": 13, \"13\": 18, \"10\": 6, \"6\": 23, \"11\": 10}, \"6\": {\"9\": 8, \"7\": 28, \"10\": 40, \"14\": 32, \"4\": 11, \"11\": 4, \"6\": 72, \"2\": 11, \"3\": 9, \"8\": 12, \"5\": 3, \"13\": 3, \"1\": 1, \"12\": 6}, \"10\": {\"14\": 67, \"10\": 79, \"8\": 20, \"4\": 21, \"3\": 7, \"6\": 31, \"9\": 2, \"2\": 4, \"7\": 6, \"12\": 3}, \"5\": {\"15\": 30, \"2\": 9, \"5\": 32, \"3\": 24, \"4\": 15, \"12\": 26, \"0\": 43, \"1\": 24, \"13\": 14, \"8\": 10, \"9\": 7, \"7\": 6}, \"2\": {\"2\": 42, \"9\": 39, \"7\": 32, \"12\": 30, \"5\": 9, \"0\": 2, \"11\": 12, \"1\": 20, \"3\": 11, \"4\": 8, \"13\": 16, \"15\": 7, \"10\": 1, \"8\": 7, \"6\": 4}, \"12\": {\"5\": 23, \"9\": 31, \"8\": 20, \"7\": 20, \"3\": 21, \"12\": 23, \"4\": 23, \"0\": 16, \"1\": 19, \"13\": 5, \"2\": 23, \"14\": 1, \"15\": 10, \"11\": 2, \"10\": 1, \"6\": 2}, \"9\": {\"12\": 27, \"1\": 16, \"14\": 3, \"2\": 21, \"11\": 12, \"3\": 20, \"13\": 18, \"10\": 2, \"7\": 26, \"6\": 20, \"15\": 12, \"4\": 8, \"9\": 41, \"5\": 4, \"8\": 6, \"0\": 4}, \"1\": {\"0\": 32, \"1\": 33, \"7\": 5, \"2\": 10, \"5\": 38, \"8\": 10, \"3\": 16, \"13\": 14, \"12\": 27, \"10\": 1, \"9\": 18, \"15\": 28, \"4\": 7, \"6\": 1}, \"11\": {\"9\": 12, \"11\": 167, \"13\": 19, \"5\": 1, \"7\": 13, \"2\": 14, \"12\": 6, \"3\": 2, \"6\": 4, \"15\": 1, \"1\": 1}, \"13\": {\"13\": 91, \"11\": 20, \"0\": 6, \"5\": 12, \"9\": 16, \"2\": 27, \"15\": 25, \"1\": 25, \"7\": 7, \"12\": 6, \"3\": 3, \"6\": 1, \"4\": 1}}, \"O_38\": {\"5\": {\"8\": 39, \"5\": 58, \"3\": 15, \"10\": 7, \"0\": 31, \"1\": 15, \"15\": 18, \"13\": 7, \"7\": 18, \"6\": 25, \"9\": 7}, \"8\": {\"0\": 46, \"10\": 39, \"7\": 21, \"8\": 48, \"15\": 20, \"13\": 20, \"9\": 1, \"1\": 3, \"5\": 36, \"3\": 1, \"2\": 2, \"6\": 3}, \"11\": {\"14\": 87, \"11\": 74, \"12\": 41, \"2\": 24, \"10\": 8, \"7\": 1, \"8\": 1, \"4\": 2, \"0\": 1, \"15\": 1}, \"1\": {\"13\": 14, \"1\": 149, \"8\": 6, \"15\": 53, \"6\": 9, \"5\": 4, \"9\": 3, \"2\": 1, \"0\": 1}, \"10\": {\"15\": 10, \"10\": 87, \"8\": 32, \"7\": 15, \"13\": 27, \"0\": 32, \"12\": 9, \"2\": 10, \"11\": 8, \"5\": 3, \"14\": 3, \"4\": 4}, \"15\": {\"15\": 71, \"13\": 58, \"2\": 17, \"8\": 20, \"1\": 36, \"5\": 13, \"10\": 15, \"11\": 1, \"0\": 6, \"6\": 2, \"7\": 1}, \"3\": {\"7\": 25, \"9\": 41, \"3\": 114, \"6\": 31, \"5\": 12, \"13\": 1, \"8\": 6, \"0\": 10}, \"7\": {\"3\": 18, \"0\": 52, \"8\": 23, \"7\": 103, \"10\": 12, \"5\": 21, \"6\": 4, \"4\": 1, \"9\": 4, \"1\": 1, \"15\": 1}, \"4\": {\"4\": 182, \"12\": 48, \"10\": 6, \"8\": 1, \"7\": 1, \"11\": 1, \"14\": 1}, \"14\": {\"11\": 76, \"14\": 112, \"10\": 8, \"2\": 23, \"12\": 19, \"13\": 2}, \"9\": {\"9\": 96, \"8\": 2, \"3\": 65, \"6\": 62, \"0\": 2, \"5\": 10, \"7\": 2, \"13\": 1}, \"12\": {\"4\": 46, \"12\": 150, \"14\": 12, \"11\": 23, \"10\": 7, \"0\": 2}, \"6\": {\"5\": 12, \"6\": 126, \"9\": 73, \"3\": 19, \"15\": 1, \"1\": 7, \"0\": 2}, \"2\": {\"2\": 171, \"15\": 11, \"10\": 9, \"14\": 29, \"13\": 13, \"11\": 6, \"12\": 1}, \"0\": {\"5\": 32, \"8\": 36, \"3\": 11, \"0\": 47, \"7\": 43, \"13\": 16, \"1\": 5, \"6\": 3, \"4\": 1, \"10\": 31, \"15\": 10, \"11\": 1, \"9\": 2, \"12\": 1, \"14\": 1}, \"13\": {\"15\": 47, \"1\": 21, \"13\": 81, \"2\": 28, \"8\": 16, \"10\": 21, \"5\": 14, \"0\": 10, \"11\": 2}}, \"O_8\": {\"9\": {\"9\": 240}, \"10\": {\"13\": 34, \"0\": 21, \"14\": 52, \"10\": 49, \"4\": 28, \"5\": 27, \"6\": 9, \"1\": 10, \"8\": 1, \"7\": 8, \"11\": 1}, \"13\": {\"13\": 41, \"14\": 27, \"0\": 46, \"4\": 32, \"10\": 33, \"7\": 20, \"1\": 2, \"6\": 22, \"2\": 2, \"8\": 4, \"5\": 9, \"15\": 1, \"11\": 1}, \"0\": {\"4\": 23, \"13\": 40, \"0\": 66, \"14\": 13, \"7\": 34, \"6\": 30, \"2\": 8, \"10\": 16, \"5\": 4, \"8\": 2, \"12\": 1, \"3\": 2, \"15\": 1}, \"1\": {\"5\": 30, \"11\": 82, \"1\": 74, \"8\": 12, \"10\": 12, \"14\": 19, \"13\": 3, \"6\": 2, \"4\": 4, \"0\": 1, \"7\": 1}, \"15\": {\"12\": 73, \"6\": 7, \"8\": 36, \"7\": 13, \"15\": 69, \"2\": 12, \"3\": 16, \"14\": 2, \"13\": 1, \"4\": 5, \"0\": 3, \"11\": 1, \"10\": 2}, \"5\": {\"5\": 85, \"1\": 26, \"11\": 41, \"4\": 12, \"10\": 29, \"14\": 34, \"13\": 5, \"6\": 4, \"0\": 4}, \"3\": {\"3\": 104, \"2\": 81, \"12\": 28, \"15\": 17, \"7\": 6, \"4\": 1, \"6\": 1, \"8\": 2}, \"6\": {\"13\": 25, \"1\": 5, \"10\": 17, \"4\": 30, \"6\": 34, \"7\": 51, \"3\": 1, \"8\": 16, \"2\": 4, \"5\": 1, \"0\": 32, \"14\": 14, \"15\": 8, \"12\": 2}, \"11\": {\"5\": 38, \"11\": 109, \"14\": 8, \"1\": 75, \"10\": 4, \"8\": 5, \"6\": 1}, \"8\": {\"15\": 40, \"4\": 12, \"8\": 118, \"2\": 1, \"13\": 3, \"12\": 20, \"11\": 7, \"7\": 10, \"1\": 14, \"6\": 7, \"10\": 1, \"14\": 7}, \"4\": {\"10\": 39, \"13\": 28, \"5\": 11, \"2\": 2, \"0\": 23, \"14\": 33, \"8\": 8, \"1\": 12, \"6\": 28, \"7\": 27, \"4\": 26, \"11\": 2, \"15\": 1}, \"12\": {\"3\": 46, \"8\": 27, \"12\": 79, \"15\": 57, \"2\": 18, \"6\": 5, \"7\": 4, \"4\": 1, \"11\": 1, \"14\": 1, \"0\": 1}, \"14\": {\"14\": 42, \"5\": 26, \"6\": 20, \"10\": 34, \"1\": 25, \"11\": 15, \"13\": 29, \"4\": 26, \"7\": 8, \"0\": 12, \"15\": 1, \"8\": 2}, \"2\": {\"2\": 88, \"12\": 22, \"0\": 2, \"3\": 85, \"13\": 6, \"7\": 18, \"8\": 1, \"6\": 6, \"15\": 11, \"4\": 1}, \"7\": {\"6\": 39, \"0\": 43, \"15\": 8, \"4\": 15, \"2\": 15, \"13\": 29, \"7\": 50, \"14\": 13, \"8\": 11, \"1\": 1, \"12\": 4, \"5\": 2, \"10\": 8, \"3\": 2}}, \"O_50\": {\"7\": {\"5\": 42, \"7\": 83, \"10\": 30, \"13\": 46, \"4\": 5, \"6\": 15, \"3\": 6, \"8\": 9, \"15\": 1, \"0\": 3}, \"3\": {\"3\": 212, \"7\": 5, \"8\": 22, \"10\": 1}, \"8\": {\"8\": 165, \"10\": 44, \"3\": 20, \"7\": 7, \"0\": 4}, \"2\": {\"0\": 74, \"2\": 140, \"1\": 7, \"14\": 11, \"6\": 4, \"10\": 2, \"15\": 2}, \"14\": {\"14\": 150, \"9\": 9, \"2\": 13, \"12\": 42, \"4\": 2, \"11\": 17, \"1\": 4, \"15\": 2, \"0\": 1}, \"4\": {\"15\": 49, \"4\": 47, \"6\": 23, \"1\": 40, \"5\": 29, \"7\": 11, \"11\": 13, \"0\": 8, \"13\": 15, \"14\": 3, \"2\": 1, \"9\": 1}, \"6\": {\"4\": 28, \"13\": 35, \"5\": 38, \"0\": 20, \"1\": 18, \"6\": 52, \"10\": 16, \"15\": 14, \"2\": 3, \"7\": 16}, \"15\": {\"15\": 89, \"4\": 37, \"5\": 8, \"1\": 52, \"11\": 16, \"6\": 20, \"13\": 5, \"14\": 8, \"0\": 4, \"7\": 1}, \"10\": {\"7\": 20, \"10\": 113, \"6\": 15, \"8\": 32, \"0\": 33, \"13\": 22, \"5\": 4, \"3\": 1}, \"11\": {\"9\": 46, \"15\": 20, \"12\": 4, \"14\": 23, \"11\": 129, \"1\": 11, \"4\": 7}, \"13\": {\"5\": 40, \"13\": 53, \"10\": 28, \"7\": 46, \"0\": 7, \"1\": 3, \"6\": 44, \"4\": 13, \"8\": 2, \"15\": 4}, \"9\": {\"11\": 54, \"9\": 120, \"12\": 52, \"14\": 10, \"1\": 1, \"15\": 2, \"4\": 1}, \"0\": {\"6\": 19, \"14\": 4, \"0\": 126, \"2\": 48, \"1\": 8, \"10\": 23, \"13\": 2, \"5\": 2, \"8\": 5, \"4\": 1, \"7\": 2}, \"1\": {\"15\": 56, \"1\": 62, \"6\": 15, \"2\": 9, \"0\": 14, \"13\": 4, \"11\": 15, \"4\": 48, \"5\": 6, \"9\": 2, \"14\": 8, \"10\": 1}, \"12\": {\"12\": 161, \"9\": 27, \"14\": 40, \"11\": 10, \"4\": 1, \"1\": 1}, \"5\": {\"13\": 35, \"1\": 16, \"5\": 54, \"7\": 27, \"6\": 39, \"10\": 14, \"4\": 33, \"8\": 3, \"3\": 1, \"15\": 14, \"0\": 3, \"2\": 1}}, \"O_32\": {\"8\": {\"8\": 81, \"0\": 23, \"15\": 5, \"3\": 32, \"13\": 39, \"5\": 38, \"4\": 8, \"11\": 4, \"7\": 5, \"2\": 3, \"14\": 2}, \"14\": {\"11\": 75, \"7\": 56, \"4\": 6, \"14\": 62, \"8\": 7, \"0\": 10, \"13\": 9, \"3\": 8, \"5\": 5, \"2\": 2}, \"2\": {\"2\": 121, \"4\": 57, \"0\": 26, \"11\": 1, \"5\": 5, \"8\": 4, \"7\": 17, \"9\": 5, \"14\": 3, \"13\": 1}, \"0\": {\"4\": 44, \"8\": 34, \"0\": 54, \"14\": 9, \"5\": 35, \"2\": 24, \"7\": 23, \"13\": 11, \"11\": 4, \"3\": 2}, \"1\": {\"1\": 209, \"10\": 31}, \"10\": {\"10\": 216, \"1\": 19, \"6\": 2, \"12\": 3}, \"11\": {\"0\": 3, \"7\": 28, \"13\": 11, \"11\": 107, \"14\": 57, \"3\": 24, \"5\": 6, \"8\": 3, \"4\": 1}, \"5\": {\"5\": 33, \"7\": 22, \"8\": 43, \"13\": 38, \"3\": 13, \"14\": 14, \"4\": 26, \"0\": 30, \"11\": 9, \"2\": 12}, \"15\": {\"15\": 227, \"3\": 7, \"8\": 5, \"13\": 1}, \"3\": {\"3\": 129, \"8\": 39, \"7\": 2, \"11\": 23, \"15\": 4, \"14\": 8, \"13\": 21, \"5\": 12, \"4\": 1, \"0\": 1}, \"12\": {\"12\": 211, \"6\": 10, \"9\": 16, \"10\": 3}, \"7\": {\"13\": 25, \"7\": 51, \"0\": 22, \"4\": 33, \"11\": 21, \"5\": 25, \"2\": 14, \"14\": 34, \"3\": 7, \"8\": 8}, \"13\": {\"0\": 27, \"13\": 53, \"8\": 38, \"3\": 22, \"7\": 25, \"14\": 19, \"11\": 5, \"5\": 30, \"2\": 7, \"4\": 14}, \"6\": {\"6\": 237, \"10\": 1, \"12\": 2}, \"4\": {\"2\": 59, \"0\": 31, \"4\": 66, \"7\": 25, \"8\": 9, \"5\": 29, \"13\": 15, \"14\": 3, \"11\": 1, \"9\": 2}, \"9\": {\"9\": 208, \"12\": 21, \"4\": 2, \"2\": 9}}, \"O_26\": {\"4\": {\"1\": 34, \"4\": 40, \"10\": 23, \"0\": 25, \"7\": 27, \"14\": 28, \"2\": 15, \"15\": 5, \"8\": 18, \"3\": 12, \"5\": 4, \"9\": 5, \"13\": 1, \"6\": 3}, \"12\": {\"12\": 203, \"11\": 30, \"6\": 6, \"10\": 1}, \"10\": {\"10\": 31, \"14\": 18, \"4\": 28, \"15\": 16, \"6\": 25, \"8\": 24, \"9\": 14, \"7\": 11, \"3\": 4, \"1\": 17, \"0\": 36, \"5\": 4, \"13\": 5, \"2\": 7}, \"0\": {\"15\": 8, \"4\": 31, \"10\": 28, \"9\": 9, \"6\": 24, \"1\": 18, \"0\": 38, \"14\": 31, \"8\": 23, \"5\": 1, \"12\": 3, \"3\": 5, \"2\": 5, \"7\": 16}, \"13\": {\"2\": 16, \"15\": 37, \"13\": 70, \"5\": 59, \"7\": 2, \"11\": 1, \"9\": 29, \"6\": 14, \"0\": 1, \"8\": 6, \"14\": 1, \"3\": 3, \"10\": 1}, \"9\": {\"8\": 20, \"15\": 26, \"1\": 4, \"9\": 58, \"6\": 35, \"13\": 15, \"0\": 9, \"5\": 28, \"4\": 4, \"10\": 14, \"2\": 10, \"7\": 11, \"3\": 4, \"14\": 2}, \"3\": {\"7\": 39, \"2\": 56, \"3\": 72, \"5\": 12, \"13\": 3, \"9\": 5, \"14\": 9, \"0\": 4, \"8\": 7, \"15\": 5, \"4\": 7, \"1\": 18, \"6\": 1, \"10\": 2}, \"2\": {\"3\": 61, \"5\": 33, \"1\": 5, \"2\": 49, \"0\": 1, \"13\": 14, \"7\": 29, \"14\": 7, \"9\": 12, \"15\": 11, \"8\": 8, \"10\": 2, \"6\": 1, \"4\": 7}, \"5\": {\"5\": 59, \"2\": 28, \"9\": 28, \"8\": 15, \"3\": 18, \"13\": 50, \"10\": 5, \"15\": 19, \"7\": 12, \"1\": 1, \"0\": 1, \"4\": 2, \"6\": 2}, \"14\": {\"4\": 35, \"7\": 12, \"14\": 36, \"0\": 37, \"1\": 44, \"3\": 8, \"10\": 21, \"8\": 20, \"9\": 8, \"15\": 11, \"2\": 3, \"6\": 5}, \"8\": {\"4\": 17, \"10\": 23, \"7\": 23, \"15\": 25, \"0\": 22, \"2\": 24, \"14\": 15, \"9\": 19, \"8\": 20, \"3\": 14, \"1\": 10, \"6\": 18, \"13\": 4, \"5\": 6}, \"7\": {\"7\": 38, \"3\": 43, \"8\": 20, \"5\": 10, \"9\": 8, \"0\": 14, \"1\": 20, \"4\": 19, \"10\": 15, \"2\": 20, \"14\": 19, \"6\": 3, \"13\": 3, \"15\": 8}, \"6\": {\"9\": 31, \"10\": 29, \"6\": 76, \"7\": 4, \"13\": 12, \"5\": 6, \"8\": 18, \"4\": 5, \"0\": 18, \"14\": 6, \"12\": 6, \"1\": 2, \"15\": 21, \"2\": 3, \"11\": 3}, \"11\": {\"13\": 9, \"12\": 30, \"11\": 194, \"6\": 4, \"15\": 1, \"9\": 2}, \"15\": {\"8\": 16, \"6\": 33, \"0\": 6, \"7\": 10, \"9\": 39, \"15\": 49, \"5\": 25, \"10\": 9, \"14\": 1, \"2\": 9, \"3\": 7, \"13\": 32, \"1\": 3, \"4\": 1}, \"1\": {\"1\": 71, \"7\": 10, \"4\": 37, \"9\": 5, \"2\": 12, \"0\": 19, \"10\": 9, \"14\": 45, \"3\": 20, \"8\": 10, \"6\": 1, \"5\": 1}}, \"O_44\": {\"12\": {\"12\": 99, \"10\": 42, \"1\": 57, \"3\": 37, \"2\": 5}, \"7\": {\"9\": 39, \"6\": 15, \"2\": 59, \"10\": 15, \"7\": 80, \"13\": 17, \"11\": 3, \"1\": 6, \"3\": 6}, \"5\": {\"15\": 22, \"5\": 127, \"8\": 16, \"14\": 22, \"4\": 21, \"0\": 32}, \"15\": {\"14\": 36, \"15\": 89, \"4\": 16, \"0\": 56, \"8\": 35, \"5\": 8}, \"8\": {\"8\": 122, \"15\": 28, \"0\": 75, \"5\": 12, \"14\": 2, \"4\": 1}, \"2\": {\"10\": 37, \"3\": 13, \"9\": 14, \"2\": 92, \"12\": 4, \"7\": 60, \"1\": 14, \"13\": 3, \"6\": 2, \"11\": 1}, \"13\": {\"13\": 81, \"11\": 29, \"6\": 60, \"14\": 1, \"2\": 7, \"9\": 44, \"7\": 11, \"3\": 2, \"4\": 5}, \"4\": {\"13\": 3, \"4\": 114, \"14\": 79, \"5\": 24, \"15\": 14, \"0\": 4, \"9\": 2}, \"0\": {\"8\": 75, \"15\": 36, \"5\": 29, \"0\": 90, \"14\": 8, \"4\": 2}, \"6\": {\"11\": 59, \"6\": 64, \"13\": 63, \"9\": 34, \"7\": 14, \"4\": 1, \"2\": 5}, \"9\": {\"2\": 23, \"9\": 85, \"13\": 43, \"4\": 7, \"7\": 40, \"6\": 26, \"3\": 4, \"11\": 8, \"1\": 3, \"10\": 1}, \"11\": {\"11\": 128, \"13\": 32, \"10\": 2, \"9\": 8, \"6\": 62, \"2\": 1, \"7\": 7}, \"10\": {\"1\": 37, \"10\": 99, \"12\": 46, \"3\": 4, \"11\": 1, \"2\": 40, \"7\": 12, \"9\": 1}, \"14\": {\"14\": 85, \"4\": 82, \"0\": 5, \"5\": 28, \"15\": 32, \"8\": 4, \"9\": 1, \"13\": 3}, \"1\": {\"3\": 49, \"12\": 70, \"10\": 42, \"1\": 58, \"2\": 15, \"7\": 6}, \"3\": {\"3\": 157, \"12\": 27, \"1\": 35, \"7\": 9, \"10\": 7, \"2\": 4, \"9\": 1}}}, \"per_domain_accuracy\": {\"C_3\": {\"accuracy\": 0.9983648255813954, \"source?\": true}, \"C_4\": {\"accuracy\": 0.9958333333333333, \"source?\": true}, \"C_5\": {\"accuracy\": 0.9949371508379888, \"source?\": true}, \"C_1\": {\"accuracy\": 0.9959016393442623, \"source?\": true}, \"C_2\": {\"accuracy\": 0.998587570621469, \"source?\": true}, \"O_14\": {\"accuracy\": 0.50546875, \"source?\": false}, \"O_20\": {\"accuracy\": 0.24114583333333334, \"source?\": false}, \"O_38\": {\"accuracy\": 0.43463541666666666, \"source?\": false}, \"O_8\": {\"accuracy\": 0.33177083333333335, \"source?\": false}, \"O_50\": {\"accuracy\": 0.45729166666666665, \"source?\": false}, \"O_32\": {\"accuracy\": 0.5377604166666666, \"source?\": false}, \"O_26\": {\"accuracy\": 0.2875, \"source?\": false}, \"O_44\": {\"accuracy\": 0.4088541666666667, \"source?\": false}}}, \"history\": {\"epoch_indices\": [1, 2, 3, 4, 5], \"train_label_loss\": [0.048996111149575666, 0.01675055889508029, 0.008775793085537059, 0.006065677023101204, 0.004020086171436455], \"source_val_label_loss\": [0.01541376393288374, 0.014425885863602161, 0.017796525731682777, 0.007172863930463791, 0.00703417556360364], \"target_val_label_loss\": [1.6592681407928467, 2.0741140842437744, 2.345365524291992, 2.0614824295043945, 2.1688783168792725], \"source_val_acc_label\": [0.9967180365296804, 0.9967893835616438, 0.995968892694064, 0.9988227739726028, 0.9992865296803652], \"target_val_acc_label\": [0.4005533854166667, 0.31741536458333336, 0.2891927083333333, 0.3282877604166667, 0.3347981770833333]}, \"dataset_metrics\": {\"source\": {\"train\": {\"n_unique_x\": 175169, \"n_unique_y\": 58, \"n_batch/episode\": 6317}, \"val\": {\"n_unique_x\": 37196, \"n_unique_y\": 58, \"n_batch/episode\": 876}, \"test\": {\"n_unique_x\": 37634, \"n_unique_y\": 58, \"n_batch/episode\": 891}}, \"target\": {\"train\": {\"n_unique_x\": 179200, \"n_unique_y\": 16, \"n_batch/episode\": 6720}, \"val\": {\"n_unique_x\": 38400, \"n_unique_y\": 16, \"n_batch/episode\": 960}, \"test\": {\"n_unique_x\": 38400, \"n_unique_y\": 16, \"n_batch/episode\": 960}}}}'"
      ]
     },
     "execution_count": 29,
     "metadata": {},
     "output_type": "execute_result"
    }
   ],
   "source": [
    "json.dumps(experiment)"
   ]
  }
 ],
 "metadata": {
  "celltoolbar": "Tags",
  "kernelspec": {
   "display_name": "Python 3 (ipykernel)",
   "language": "python",
   "name": "python3"
  },
  "language_info": {
   "codemirror_mode": {
    "name": "ipython",
    "version": 3
   },
   "file_extension": ".py",
   "mimetype": "text/x-python",
   "name": "python",
   "nbconvert_exporter": "python",
   "pygments_lexer": "ipython3",
   "version": "3.8.12"
  },
  "papermill": {
   "default_parameters": {},
   "duration": 1059.867877,
   "end_time": "2022-03-28T06:52:17.517683",
   "environment_variables": {},
   "exception": null,
   "input_path": "/root/csc500-main/csc500-notebooks/templates/tl_ptn_template.ipynb",
   "output_path": "trial.ipynb",
   "parameters": {
    "parameters": {
     "BEST_MODEL_PATH": "./best_model.pth",
     "NUM_LOGS_PER_EPOCH": 10,
     "criteria_for_best": "target_accuracy",
     "dataset_seed": 1337,
     "datasets": [
      {
       "domain_prefix": "C_",
       "domains": [
        1,
        2,
        3,
        4,
        5
       ],
       "episode_transforms": [],
       "labels": [
        "1-10.",
        "1-11.",
        "1-15.",
        "1-16.",
        "1-17.",
        "1-18.",
        "1-19.",
        "10-4.",
        "10-7.",
        "11-1.",
        "11-14.",
        "11-17.",
        "11-20.",
        "11-7.",
        "13-20.",
        "13-8.",
        "14-10.",
        "14-11.",
        "14-14.",
        "14-7.",
        "15-1.",
        "15-20.",
        "16-1.",
        "16-16.",
        "17-10.",
        "17-11.",
        "17-2.",
        "19-1.",
        "19-16.",
        "19-19.",
        "19-20.",
        "19-3.",
        "2-10.",
        "2-11.",
        "2-17.",
        "2-18.",
        "2-20.",
        "2-3.",
        "2-4.",
        "2-5.",
        "2-6.",
        "2-7.",
        "2-8.",
        "3-13.",
        "3-18.",
        "3-3.",
        "4-1.",
        "4-10.",
        "4-11.",
        "4-19.",
        "5-5.",
        "6-15.",
        "7-10.",
        "7-14.",
        "8-18.",
        "8-20.",
        "8-3.",
        "8-8."
       ],
       "num_examples_per_domain_per_label": -1,
       "pickle_path": "/root/csc500-main/datasets/cores.stratified_ds.2022A.pkl",
       "source_or_target_dataset": "source",
       "x_transforms": [
        "unit_mag",
        "jitter_256_10",
        "lowpass_+/-10MHz",
        "take_200"
       ]
      },
      {
       "domain_prefix": "O_",
       "domains": [
        32,
        38,
        8,
        44,
        14,
        50,
        20,
        26
       ],
       "episode_transforms": [],
       "labels": [
        "3123D52",
        "3123D65",
        "3123D79",
        "3123D80",
        "3123D54",
        "3123D70",
        "3123D7B",
        "3123D89",
        "3123D58",
        "3123D76",
        "3123D7D",
        "3123EFE",
        "3123D64",
        "3123D78",
        "3123D7E",
        "3124E4A"
       ],
       "num_examples_per_domain_per_label": 2000,
       "pickle_path": "/root/csc500-main/datasets/oracle.Run1_framed_2000Examples_stratified_ds.2022A.pkl",
       "source_or_target_dataset": "target",
       "x_transforms": [
        "unit_mag",
        "jitter_256_10",
        "take_200",
        "resample_20Msps_to_25Msps"
       ]
      }
     ],
     "device": "cuda",
     "experiment_name": "tl_3-jitter10v2:cores -> oracle.run1.framed",
     "lr": 0.0001,
     "n_epoch": 50,
     "n_query": 2,
     "n_shot": 3,
     "n_way": 16,
     "patience": 3,
     "seed": 1337,
     "test_k_factor": 2,
     "torch_default_dtype": "torch.float32",
     "train_k_factor": 3,
     "val_k_factor": 2,
     "x_net": [
      {
       "class": "nnReshape",
       "kargs": {
        "shape": [
         -1,
         1,
         2,
         256
        ]
       }
      },
      {
       "class": "Conv2d",
       "kargs": {
        "bias": false,
        "in_channels": 1,
        "kernel_size": [
         1,
         7
        ],
        "out_channels": 256,
        "padding": [
         0,
         3
        ]
       }
      },
      {
       "class": "ReLU",
       "kargs": {
        "inplace": true
       }
      },
      {
       "class": "BatchNorm2d",
       "kargs": {
        "num_features": 256
       }
      },
      {
       "class": "Conv2d",
       "kargs": {
        "bias": true,
        "in_channels": 256,
        "kernel_size": [
         2,
         7
        ],
        "out_channels": 80,
        "padding": [
         0,
         3
        ]
       }
      },
      {
       "class": "ReLU",
       "kargs": {
        "inplace": true
       }
      },
      {
       "class": "BatchNorm2d",
       "kargs": {
        "num_features": 80
       }
      },
      {
       "class": "Flatten",
       "kargs": {}
      },
      {
       "class": "Linear",
       "kargs": {
        "in_features": 20480,
        "out_features": 256
       }
      },
      {
       "class": "ReLU",
       "kargs": {
        "inplace": true
       }
      },
      {
       "class": "BatchNorm1d",
       "kargs": {
        "num_features": 256
       }
      },
      {
       "class": "Linear",
       "kargs": {
        "in_features": 256,
        "out_features": 256
       }
      }
     ],
     "x_shape": [
      2,
      256
     ]
    }
   },
   "start_time": "2022-03-28T06:34:37.649806",
   "version": "2.3.4"
  }
 },
 "nbformat": 4,
 "nbformat_minor": 5
}