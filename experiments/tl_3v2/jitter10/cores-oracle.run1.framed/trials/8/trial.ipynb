{
 "cells": [
  {
   "cell_type": "markdown",
   "id": "9fea5f46",
   "metadata": {
    "papermill": {
     "duration": 0.032905,
     "end_time": "2022-03-28T07:59:13.983611",
     "exception": false,
     "start_time": "2022-03-28T07:59:13.950706",
     "status": "completed"
    },
    "tags": []
   },
   "source": [
    "# Transfer Learning Template"
   ]
  },
  {
   "cell_type": "code",
   "execution_count": 1,
   "id": "0902182a",
   "metadata": {
    "execution": {
     "iopub.execute_input": "2022-03-28T07:59:14.049279Z",
     "iopub.status.busy": "2022-03-28T07:59:14.048418Z",
     "iopub.status.idle": "2022-03-28T07:59:15.922702Z",
     "shell.execute_reply": "2022-03-28T07:59:15.921848Z"
    },
    "papermill": {
     "duration": 1.915427,
     "end_time": "2022-03-28T07:59:15.922881",
     "exception": false,
     "start_time": "2022-03-28T07:59:14.007454",
     "status": "completed"
    },
    "tags": []
   },
   "outputs": [],
   "source": [
    "%load_ext autoreload\n",
    "%autoreload 2\n",
    "%matplotlib inline\n",
    "\n",
    "    \n",
    "import os, json, sys, time, random\n",
    "import numpy as np\n",
    "import torch\n",
    "from torch.optim import Adam\n",
    "from  easydict import EasyDict\n",
    "import matplotlib.pyplot as plt\n",
    "\n",
    "from steves_models.steves_ptn import Steves_Prototypical_Network\n",
    "\n",
    "from steves_utils.lazy_iterable_wrapper import Lazy_Iterable_Wrapper\n",
    "from steves_utils.iterable_aggregator import Iterable_Aggregator\n",
    "from steves_utils.ptn_train_eval_test_jig import  PTN_Train_Eval_Test_Jig\n",
    "from steves_utils.torch_sequential_builder import build_sequential\n",
    "from steves_utils.torch_utils import get_dataset_metrics, ptn_confusion_by_domain_over_dataloader\n",
    "from steves_utils.utils_v2 import (per_domain_accuracy_from_confusion, get_datasets_base_path)\n",
    "from steves_utils.PTN.utils import independent_accuracy_assesment\n",
    "\n",
    "from torch.utils.data import DataLoader\n",
    "\n",
    "from steves_utils.stratified_dataset.episodic_accessor import Episodic_Accessor_Factory\n",
    "\n",
    "from steves_utils.ptn_do_report import (\n",
    "    get_loss_curve,\n",
    "    get_results_table,\n",
    "    get_parameters_table,\n",
    "    get_domain_accuracies,\n",
    ")\n",
    "\n",
    "from steves_utils.transforms import get_chained_transform"
   ]
  },
  {
   "cell_type": "markdown",
   "id": "41c840b4",
   "metadata": {
    "papermill": {
     "duration": 0.019617,
     "end_time": "2022-03-28T07:59:15.968067",
     "exception": false,
     "start_time": "2022-03-28T07:59:15.948450",
     "status": "completed"
    },
    "tags": []
   },
   "source": [
    "# Allowed Parameters\n",
    "These are allowed parameters, not defaults\n",
    "Each of these values need to be present in the injected parameters (the notebook will raise an exception if they are not present)\n",
    "\n",
    "Papermill uses the cell tag \"parameters\" to inject the real parameters below this cell.\n",
    "Enable tags to see what I mean"
   ]
  },
  {
   "cell_type": "code",
   "execution_count": 2,
   "id": "fd44eb83",
   "metadata": {
    "execution": {
     "iopub.execute_input": "2022-03-28T07:59:16.011276Z",
     "iopub.status.busy": "2022-03-28T07:59:16.010839Z",
     "iopub.status.idle": "2022-03-28T07:59:16.030451Z",
     "shell.execute_reply": "2022-03-28T07:59:16.029668Z"
    },
    "papermill": {
     "duration": 0.042766,
     "end_time": "2022-03-28T07:59:16.030605",
     "exception": false,
     "start_time": "2022-03-28T07:59:15.987839",
     "status": "completed"
    },
    "tags": []
   },
   "outputs": [],
   "source": [
    "required_parameters = {\n",
    "    \"experiment_name\",\n",
    "    \"lr\",\n",
    "    \"device\",\n",
    "    \"seed\",\n",
    "    \"dataset_seed\",\n",
    "    \"n_shot\",\n",
    "    \"n_query\",\n",
    "    \"n_way\",\n",
    "    \"train_k_factor\",\n",
    "    \"val_k_factor\",\n",
    "    \"test_k_factor\",\n",
    "    \"n_epoch\",\n",
    "    \"patience\",\n",
    "    \"criteria_for_best\",\n",
    "    \"x_net\",\n",
    "    \"datasets\",\n",
    "    \"torch_default_dtype\",\n",
    "    \"NUM_LOGS_PER_EPOCH\",\n",
    "    \"BEST_MODEL_PATH\",\n",
    "    \"x_shape\",\n",
    "}"
   ]
  },
  {
   "cell_type": "code",
   "execution_count": 3,
   "id": "fa3f0049",
   "metadata": {
    "execution": {
     "iopub.execute_input": "2022-03-28T07:59:16.092462Z",
     "iopub.status.busy": "2022-03-28T07:59:16.091825Z",
     "iopub.status.idle": "2022-03-28T07:59:16.112929Z",
     "shell.execute_reply": "2022-03-28T07:59:16.113601Z"
    },
    "papermill": {
     "duration": 0.051045,
     "end_time": "2022-03-28T07:59:16.113780",
     "exception": false,
     "start_time": "2022-03-28T07:59:16.062735",
     "status": "completed"
    },
    "tags": [
     "parameters"
    ]
   },
   "outputs": [],
   "source": [
    "from steves_utils.CORES.utils import (\n",
    "    ALL_NODES,\n",
    "    ALL_NODES_MINIMUM_1000_EXAMPLES,\n",
    "    ALL_DAYS\n",
    ")\n",
    "\n",
    "from steves_utils.ORACLE.utils_v2 import (\n",
    "    ALL_DISTANCES_FEET_NARROWED,\n",
    "    ALL_RUNS,\n",
    "    ALL_SERIAL_NUMBERS,\n",
    ")\n",
    "\n",
    "standalone_parameters = {}\n",
    "standalone_parameters[\"experiment_name\"] = \"STANDALONE PTN\"\n",
    "standalone_parameters[\"lr\"] = 0.001\n",
    "standalone_parameters[\"device\"] = \"cuda\"\n",
    "\n",
    "standalone_parameters[\"seed\"] = 1337\n",
    "standalone_parameters[\"dataset_seed\"] = 1337\n",
    "\n",
    "standalone_parameters[\"n_way\"] = 8\n",
    "standalone_parameters[\"n_shot\"] = 3\n",
    "standalone_parameters[\"n_query\"]  = 2\n",
    "standalone_parameters[\"train_k_factor\"] = 1\n",
    "standalone_parameters[\"val_k_factor\"] = 2\n",
    "standalone_parameters[\"test_k_factor\"] = 2\n",
    "\n",
    "\n",
    "standalone_parameters[\"n_epoch\"] = 50\n",
    "\n",
    "standalone_parameters[\"patience\"] = 10\n",
    "standalone_parameters[\"criteria_for_best\"] = \"source_loss\"\n",
    "\n",
    "standalone_parameters[\"datasets\"] = [\n",
    "    {\n",
    "        \"labels\": ALL_SERIAL_NUMBERS,\n",
    "        \"domains\": ALL_DISTANCES_FEET_NARROWED,\n",
    "        \"num_examples_per_domain_per_label\": 100,\n",
    "        \"pickle_path\": os.path.join(get_datasets_base_path(), \"oracle.Run1_framed_2000Examples_stratified_ds.2022A.pkl\"),\n",
    "        \"source_or_target_dataset\": \"source\",\n",
    "        \"x_transforms\": [\"unit_mag\", \"minus_two\"],\n",
    "        \"episode_transforms\": [],\n",
    "        \"domain_prefix\": \"ORACLE_\"\n",
    "    },\n",
    "    {\n",
    "        \"labels\": ALL_NODES,\n",
    "        \"domains\": ALL_DAYS,\n",
    "        \"num_examples_per_domain_per_label\": 100,\n",
    "        \"pickle_path\": os.path.join(get_datasets_base_path(), \"cores.stratified_ds.2022A.pkl\"),\n",
    "        \"source_or_target_dataset\": \"target\",\n",
    "        \"x_transforms\": [\"unit_power\", \"times_zero\"],\n",
    "        \"episode_transforms\": [],\n",
    "        \"domain_prefix\": \"CORES_\"\n",
    "    }   \n",
    "]\n",
    "\n",
    "standalone_parameters[\"torch_default_dtype\"] = \"torch.float32\" \n",
    "\n",
    "\n",
    "\n",
    "standalone_parameters[\"x_net\"] =     [\n",
    "    {\"class\": \"nnReshape\", \"kargs\": {\"shape\":[-1, 1, 2, 256]}},\n",
    "    {\"class\": \"Conv2d\", \"kargs\": { \"in_channels\":1, \"out_channels\":256, \"kernel_size\":(1,7), \"bias\":False, \"padding\":(0,3), },},\n",
    "    {\"class\": \"ReLU\", \"kargs\": {\"inplace\": True}},\n",
    "    {\"class\": \"BatchNorm2d\", \"kargs\": {\"num_features\":256}},\n",
    "\n",
    "    {\"class\": \"Conv2d\", \"kargs\": { \"in_channels\":256, \"out_channels\":80, \"kernel_size\":(2,7), \"bias\":True, \"padding\":(0,3), },},\n",
    "    {\"class\": \"ReLU\", \"kargs\": {\"inplace\": True}},\n",
    "    {\"class\": \"BatchNorm2d\", \"kargs\": {\"num_features\":80}},\n",
    "    {\"class\": \"Flatten\", \"kargs\": {}},\n",
    "\n",
    "    {\"class\": \"Linear\", \"kargs\": {\"in_features\": 80*256, \"out_features\": 256}}, # 80 units per IQ pair\n",
    "    {\"class\": \"ReLU\", \"kargs\": {\"inplace\": True}},\n",
    "    {\"class\": \"BatchNorm1d\", \"kargs\": {\"num_features\":256}},\n",
    "\n",
    "    {\"class\": \"Linear\", \"kargs\": {\"in_features\": 256, \"out_features\": 256}},\n",
    "]\n",
    "\n",
    "# Parameters relevant to results\n",
    "# These parameters will basically never need to change\n",
    "standalone_parameters[\"NUM_LOGS_PER_EPOCH\"] = 10\n",
    "standalone_parameters[\"BEST_MODEL_PATH\"] = \"./best_model.pth\"\n",
    "\n",
    "\n",
    "\n",
    "\n"
   ]
  },
  {
   "cell_type": "code",
   "execution_count": 4,
   "id": "47f42933",
   "metadata": {
    "execution": {
     "iopub.execute_input": "2022-03-28T07:59:16.169360Z",
     "iopub.status.busy": "2022-03-28T07:59:16.168406Z",
     "iopub.status.idle": "2022-03-28T07:59:16.189772Z",
     "shell.execute_reply": "2022-03-28T07:59:16.189074Z"
    },
    "papermill": {
     "duration": 0.050545,
     "end_time": "2022-03-28T07:59:16.189926",
     "exception": false,
     "start_time": "2022-03-28T07:59:16.139381",
     "status": "completed"
    },
    "tags": [
     "injected-parameters"
    ]
   },
   "outputs": [],
   "source": [
    "# Parameters\n",
    "parameters = {\n",
    "    \"experiment_name\": \"tl_3-jitter10v2:cores -> oracle.run1.framed\",\n",
    "    \"device\": \"cuda\",\n",
    "    \"lr\": 0.0001,\n",
    "    \"x_shape\": [2, 256],\n",
    "    \"n_shot\": 3,\n",
    "    \"n_query\": 2,\n",
    "    \"train_k_factor\": 3,\n",
    "    \"val_k_factor\": 2,\n",
    "    \"test_k_factor\": 2,\n",
    "    \"torch_default_dtype\": \"torch.float32\",\n",
    "    \"n_epoch\": 50,\n",
    "    \"patience\": 3,\n",
    "    \"criteria_for_best\": \"target_accuracy\",\n",
    "    \"x_net\": [\n",
    "        {\"class\": \"nnReshape\", \"kargs\": {\"shape\": [-1, 1, 2, 256]}},\n",
    "        {\n",
    "            \"class\": \"Conv2d\",\n",
    "            \"kargs\": {\n",
    "                \"in_channels\": 1,\n",
    "                \"out_channels\": 256,\n",
    "                \"kernel_size\": [1, 7],\n",
    "                \"bias\": False,\n",
    "                \"padding\": [0, 3],\n",
    "            },\n",
    "        },\n",
    "        {\"class\": \"ReLU\", \"kargs\": {\"inplace\": True}},\n",
    "        {\"class\": \"BatchNorm2d\", \"kargs\": {\"num_features\": 256}},\n",
    "        {\n",
    "            \"class\": \"Conv2d\",\n",
    "            \"kargs\": {\n",
    "                \"in_channels\": 256,\n",
    "                \"out_channels\": 80,\n",
    "                \"kernel_size\": [2, 7],\n",
    "                \"bias\": True,\n",
    "                \"padding\": [0, 3],\n",
    "            },\n",
    "        },\n",
    "        {\"class\": \"ReLU\", \"kargs\": {\"inplace\": True}},\n",
    "        {\"class\": \"BatchNorm2d\", \"kargs\": {\"num_features\": 80}},\n",
    "        {\"class\": \"Flatten\", \"kargs\": {}},\n",
    "        {\"class\": \"Linear\", \"kargs\": {\"in_features\": 20480, \"out_features\": 256}},\n",
    "        {\"class\": \"ReLU\", \"kargs\": {\"inplace\": True}},\n",
    "        {\"class\": \"BatchNorm1d\", \"kargs\": {\"num_features\": 256}},\n",
    "        {\"class\": \"Linear\", \"kargs\": {\"in_features\": 256, \"out_features\": 256}},\n",
    "    ],\n",
    "    \"NUM_LOGS_PER_EPOCH\": 10,\n",
    "    \"BEST_MODEL_PATH\": \"./best_model.pth\",\n",
    "    \"n_way\": 16,\n",
    "    \"datasets\": [\n",
    "        {\n",
    "            \"labels\": [\n",
    "                \"1-10.\",\n",
    "                \"1-11.\",\n",
    "                \"1-15.\",\n",
    "                \"1-16.\",\n",
    "                \"1-17.\",\n",
    "                \"1-18.\",\n",
    "                \"1-19.\",\n",
    "                \"10-4.\",\n",
    "                \"10-7.\",\n",
    "                \"11-1.\",\n",
    "                \"11-14.\",\n",
    "                \"11-17.\",\n",
    "                \"11-20.\",\n",
    "                \"11-7.\",\n",
    "                \"13-20.\",\n",
    "                \"13-8.\",\n",
    "                \"14-10.\",\n",
    "                \"14-11.\",\n",
    "                \"14-14.\",\n",
    "                \"14-7.\",\n",
    "                \"15-1.\",\n",
    "                \"15-20.\",\n",
    "                \"16-1.\",\n",
    "                \"16-16.\",\n",
    "                \"17-10.\",\n",
    "                \"17-11.\",\n",
    "                \"17-2.\",\n",
    "                \"19-1.\",\n",
    "                \"19-16.\",\n",
    "                \"19-19.\",\n",
    "                \"19-20.\",\n",
    "                \"19-3.\",\n",
    "                \"2-10.\",\n",
    "                \"2-11.\",\n",
    "                \"2-17.\",\n",
    "                \"2-18.\",\n",
    "                \"2-20.\",\n",
    "                \"2-3.\",\n",
    "                \"2-4.\",\n",
    "                \"2-5.\",\n",
    "                \"2-6.\",\n",
    "                \"2-7.\",\n",
    "                \"2-8.\",\n",
    "                \"3-13.\",\n",
    "                \"3-18.\",\n",
    "                \"3-3.\",\n",
    "                \"4-1.\",\n",
    "                \"4-10.\",\n",
    "                \"4-11.\",\n",
    "                \"4-19.\",\n",
    "                \"5-5.\",\n",
    "                \"6-15.\",\n",
    "                \"7-10.\",\n",
    "                \"7-14.\",\n",
    "                \"8-18.\",\n",
    "                \"8-20.\",\n",
    "                \"8-3.\",\n",
    "                \"8-8.\",\n",
    "            ],\n",
    "            \"domains\": [1, 2, 3, 4, 5],\n",
    "            \"num_examples_per_domain_per_label\": -1,\n",
    "            \"pickle_path\": \"/root/csc500-main/datasets/cores.stratified_ds.2022A.pkl\",\n",
    "            \"source_or_target_dataset\": \"source\",\n",
    "            \"x_transforms\": [\"jitter_256_10\", \"lowpass_+/-10MHz\", \"take_200\"],\n",
    "            \"episode_transforms\": [],\n",
    "            \"domain_prefix\": \"C_\",\n",
    "        },\n",
    "        {\n",
    "            \"labels\": [\n",
    "                \"3123D52\",\n",
    "                \"3123D65\",\n",
    "                \"3123D79\",\n",
    "                \"3123D80\",\n",
    "                \"3123D54\",\n",
    "                \"3123D70\",\n",
    "                \"3123D7B\",\n",
    "                \"3123D89\",\n",
    "                \"3123D58\",\n",
    "                \"3123D76\",\n",
    "                \"3123D7D\",\n",
    "                \"3123EFE\",\n",
    "                \"3123D64\",\n",
    "                \"3123D78\",\n",
    "                \"3123D7E\",\n",
    "                \"3124E4A\",\n",
    "            ],\n",
    "            \"domains\": [32, 38, 8, 44, 14, 50, 20, 26],\n",
    "            \"num_examples_per_domain_per_label\": 2000,\n",
    "            \"pickle_path\": \"/root/csc500-main/datasets/oracle.Run1_framed_2000Examples_stratified_ds.2022A.pkl\",\n",
    "            \"source_or_target_dataset\": \"target\",\n",
    "            \"x_transforms\": [\"jitter_256_10\", \"take_200\", \"resample_20Msps_to_25Msps\"],\n",
    "            \"episode_transforms\": [],\n",
    "            \"domain_prefix\": \"O_\",\n",
    "        },\n",
    "    ],\n",
    "    \"seed\": 154325,\n",
    "    \"dataset_seed\": 154325,\n",
    "}\n"
   ]
  },
  {
   "cell_type": "code",
   "execution_count": 5,
   "id": "8fa1cc33",
   "metadata": {
    "execution": {
     "iopub.execute_input": "2022-03-28T07:59:16.239683Z",
     "iopub.status.busy": "2022-03-28T07:59:16.239284Z",
     "iopub.status.idle": "2022-03-28T07:59:16.259058Z",
     "shell.execute_reply": "2022-03-28T07:59:16.258359Z"
    },
    "papermill": {
     "duration": 0.043381,
     "end_time": "2022-03-28T07:59:16.259212",
     "exception": false,
     "start_time": "2022-03-28T07:59:16.215831",
     "status": "completed"
    },
    "tags": []
   },
   "outputs": [],
   "source": [
    "# Set this to True if you want to run this template directly\n",
    "STANDALONE = False\n",
    "if STANDALONE:\n",
    "    print(\"parameters not injected, running with standalone_parameters\")\n",
    "    parameters = standalone_parameters\n",
    "\n",
    "if not 'parameters' in locals() and not 'parameters' in globals():\n",
    "    raise Exception(\"Parameter injection failed\")\n",
    "\n",
    "#Use an easy dict for all the parameters\n",
    "p = EasyDict(parameters)\n",
    "\n",
    "if \"x_shape\" not in p:\n",
    "    p.x_shape = [2,256] # Default to this if we dont supply x_shape\n",
    "\n",
    "\n",
    "supplied_keys = set(p.keys())\n",
    "\n",
    "if  supplied_keys != required_parameters:\n",
    "    print(\"Parameters are incorrect\")\n",
    "    if len(supplied_keys - required_parameters)>0: print(\"Shouldn't have:\", str(supplied_keys - required_parameters))\n",
    "    if len(required_parameters - supplied_keys)>0: print(\"Need to have:\", str(required_parameters - supplied_keys))\n",
    "    raise RuntimeError(\"Parameters are incorrect\")"
   ]
  },
  {
   "cell_type": "code",
   "execution_count": 6,
   "id": "3a028d58",
   "metadata": {
    "execution": {
     "iopub.execute_input": "2022-03-28T07:59:16.309533Z",
     "iopub.status.busy": "2022-03-28T07:59:16.309169Z",
     "iopub.status.idle": "2022-03-28T07:59:16.328589Z",
     "shell.execute_reply": "2022-03-28T07:59:16.327891Z"
    },
    "papermill": {
     "duration": 0.042095,
     "end_time": "2022-03-28T07:59:16.328737",
     "exception": false,
     "start_time": "2022-03-28T07:59:16.286642",
     "status": "completed"
    },
    "tags": []
   },
   "outputs": [],
   "source": [
    "###################################\n",
    "# Set the RNGs and make it all deterministic\n",
    "###################################\n",
    "np.random.seed(p.seed)\n",
    "random.seed(p.seed)\n",
    "torch.manual_seed(p.seed)\n",
    "\n",
    "torch.use_deterministic_algorithms(True) "
   ]
  },
  {
   "cell_type": "code",
   "execution_count": 7,
   "id": "b691acf6",
   "metadata": {
    "execution": {
     "iopub.execute_input": "2022-03-28T07:59:16.380621Z",
     "iopub.status.busy": "2022-03-28T07:59:16.380163Z",
     "iopub.status.idle": "2022-03-28T07:59:16.398135Z",
     "shell.execute_reply": "2022-03-28T07:59:16.398803Z"
    },
    "papermill": {
     "duration": 0.041137,
     "end_time": "2022-03-28T07:59:16.398981",
     "exception": false,
     "start_time": "2022-03-28T07:59:16.357844",
     "status": "completed"
    },
    "tags": []
   },
   "outputs": [],
   "source": [
    "###########################################\n",
    "# The stratified datasets honor this\n",
    "###########################################\n",
    "torch.set_default_dtype(eval(p.torch_default_dtype))"
   ]
  },
  {
   "cell_type": "code",
   "execution_count": 8,
   "id": "b5fba671",
   "metadata": {
    "execution": {
     "iopub.execute_input": "2022-03-28T07:59:16.449460Z",
     "iopub.status.busy": "2022-03-28T07:59:16.449095Z",
     "iopub.status.idle": "2022-03-28T07:59:16.503121Z",
     "shell.execute_reply": "2022-03-28T07:59:16.502417Z"
    },
    "papermill": {
     "duration": 0.076638,
     "end_time": "2022-03-28T07:59:16.503276",
     "exception": false,
     "start_time": "2022-03-28T07:59:16.426638",
     "status": "completed"
    },
    "tags": []
   },
   "outputs": [],
   "source": [
    "###################################\n",
    "# Build the network(s)\n",
    "# Note: It's critical to do this AFTER setting the RNG\n",
    "###################################\n",
    "x_net = build_sequential(p.x_net)"
   ]
  },
  {
   "cell_type": "code",
   "execution_count": 9,
   "id": "5d7e61cc",
   "metadata": {
    "execution": {
     "iopub.execute_input": "2022-03-28T07:59:16.551703Z",
     "iopub.status.busy": "2022-03-28T07:59:16.551332Z",
     "iopub.status.idle": "2022-03-28T07:59:16.571573Z",
     "shell.execute_reply": "2022-03-28T07:59:16.572248Z"
    },
    "papermill": {
     "duration": 0.043657,
     "end_time": "2022-03-28T07:59:16.572431",
     "exception": false,
     "start_time": "2022-03-28T07:59:16.528774",
     "status": "completed"
    },
    "tags": []
   },
   "outputs": [],
   "source": [
    "start_time_secs = time.time()"
   ]
  },
  {
   "cell_type": "code",
   "execution_count": 10,
   "id": "c6b67dfd",
   "metadata": {
    "execution": {
     "iopub.execute_input": "2022-03-28T07:59:16.624817Z",
     "iopub.status.busy": "2022-03-28T07:59:16.624319Z",
     "iopub.status.idle": "2022-03-28T07:59:16.645000Z",
     "shell.execute_reply": "2022-03-28T07:59:16.644300Z"
    },
    "papermill": {
     "duration": 0.043798,
     "end_time": "2022-03-28T07:59:16.645152",
     "exception": false,
     "start_time": "2022-03-28T07:59:16.601354",
     "status": "completed"
    },
    "tags": []
   },
   "outputs": [],
   "source": [
    "p.domains_source = []\n",
    "p.domains_target = []\n",
    "\n",
    "\n",
    "train_original_source = []\n",
    "val_original_source   = []\n",
    "test_original_source  = []\n",
    "\n",
    "train_original_target = []\n",
    "val_original_target   = []\n",
    "test_original_target  = []"
   ]
  },
  {
   "cell_type": "code",
   "execution_count": 11,
   "id": "e3d9c3d3",
   "metadata": {
    "execution": {
     "iopub.execute_input": "2022-03-28T07:59:16.692330Z",
     "iopub.status.busy": "2022-03-28T07:59:16.691967Z",
     "iopub.status.idle": "2022-03-28T07:59:16.711165Z",
     "shell.execute_reply": "2022-03-28T07:59:16.710465Z"
    },
    "papermill": {
     "duration": 0.041991,
     "end_time": "2022-03-28T07:59:16.711320",
     "exception": false,
     "start_time": "2022-03-28T07:59:16.669329",
     "status": "completed"
    },
    "tags": []
   },
   "outputs": [],
   "source": [
    "# global_x_transform_func = lambda x: normalize(x.to(torch.get_default_dtype()), \"unit_power\") # unit_power, unit_mag\n",
    "# global_x_transform_func = lambda x: normalize(x, \"unit_power\") # unit_power, unit_mag"
   ]
  },
  {
   "cell_type": "code",
   "execution_count": 12,
   "id": "acb78fd2",
   "metadata": {
    "execution": {
     "iopub.execute_input": "2022-03-28T07:59:16.769034Z",
     "iopub.status.busy": "2022-03-28T07:59:16.768653Z",
     "iopub.status.idle": "2022-03-28T07:59:16.788365Z",
     "shell.execute_reply": "2022-03-28T07:59:16.787664Z"
    },
    "papermill": {
     "duration": 0.047082,
     "end_time": "2022-03-28T07:59:16.788523",
     "exception": false,
     "start_time": "2022-03-28T07:59:16.741441",
     "status": "completed"
    },
    "tags": []
   },
   "outputs": [],
   "source": [
    "def add_dataset(\n",
    "    labels,\n",
    "    domains,\n",
    "    pickle_path,\n",
    "    x_transforms,\n",
    "    episode_transforms,\n",
    "    domain_prefix,\n",
    "    num_examples_per_domain_per_label,\n",
    "    source_or_target_dataset:str,\n",
    "    iterator_seed=p.seed,\n",
    "    dataset_seed=p.dataset_seed,\n",
    "    n_shot=p.n_shot,\n",
    "    n_way=p.n_way,\n",
    "    n_query=p.n_query,\n",
    "    train_val_test_k_factors=(p.train_k_factor,p.val_k_factor,p.test_k_factor),\n",
    "):\n",
    "   \n",
    "    if x_transforms == []: x_transform = None\n",
    "    else: x_transform = get_chained_transform(x_transforms)\n",
    "    \n",
    "    if episode_transforms == []: episode_transform = None\n",
    "    else: raise Exception(\"episode_transforms not implemented\")\n",
    "    \n",
    "    episode_transform = lambda tup, _prefix=domain_prefix: (_prefix + str(tup[0]), tup[1])\n",
    "\n",
    "\n",
    "    eaf = Episodic_Accessor_Factory(\n",
    "        labels=labels,\n",
    "        domains=domains,\n",
    "        num_examples_per_domain_per_label=num_examples_per_domain_per_label,\n",
    "        iterator_seed=iterator_seed,\n",
    "        dataset_seed=dataset_seed,\n",
    "        n_shot=n_shot,\n",
    "        n_way=n_way,\n",
    "        n_query=n_query,\n",
    "        train_val_test_k_factors=train_val_test_k_factors,\n",
    "        pickle_path=pickle_path,\n",
    "        x_transform_func=x_transform,\n",
    "    )\n",
    "\n",
    "    train, val, test = eaf.get_train(), eaf.get_val(), eaf.get_test()\n",
    "    train = Lazy_Iterable_Wrapper(train, episode_transform)\n",
    "    val = Lazy_Iterable_Wrapper(val, episode_transform)\n",
    "    test = Lazy_Iterable_Wrapper(test, episode_transform)\n",
    "\n",
    "    if source_or_target_dataset==\"source\":\n",
    "        train_original_source.append(train)\n",
    "        val_original_source.append(val)\n",
    "        test_original_source.append(test)\n",
    "\n",
    "        p.domains_source.extend(\n",
    "            [domain_prefix + str(u) for u in domains]\n",
    "        )\n",
    "    elif source_or_target_dataset==\"target\":\n",
    "        train_original_target.append(train)\n",
    "        val_original_target.append(val)\n",
    "        test_original_target.append(test)\n",
    "        p.domains_target.extend(\n",
    "            [domain_prefix + str(u) for u in domains]\n",
    "        )\n",
    "    else:\n",
    "        raise Exception(f\"invalid source_or_target_dataset: {source_or_target_dataset}\")\n",
    "    "
   ]
  },
  {
   "cell_type": "code",
   "execution_count": 13,
   "id": "fe266617",
   "metadata": {
    "execution": {
     "iopub.execute_input": "2022-03-28T07:59:16.841269Z",
     "iopub.status.busy": "2022-03-28T07:59:16.840908Z",
     "iopub.status.idle": "2022-03-28T08:00:21.240083Z",
     "shell.execute_reply": "2022-03-28T08:00:21.240767Z"
    },
    "papermill": {
     "duration": 64.423006,
     "end_time": "2022-03-28T08:00:21.241006",
     "exception": false,
     "start_time": "2022-03-28T07:59:16.818000",
     "status": "completed"
    },
    "tags": []
   },
   "outputs": [],
   "source": [
    "for ds in p.datasets:\n",
    "    add_dataset(**ds)"
   ]
  },
  {
   "cell_type": "code",
   "execution_count": 14,
   "id": "b90d65ac",
   "metadata": {
    "execution": {
     "iopub.execute_input": "2022-03-28T08:00:21.291580Z",
     "iopub.status.busy": "2022-03-28T08:00:21.291183Z",
     "iopub.status.idle": "2022-03-28T08:00:21.317047Z",
     "shell.execute_reply": "2022-03-28T08:00:21.317725Z"
    },
    "papermill": {
     "duration": 0.051165,
     "end_time": "2022-03-28T08:00:21.317949",
     "exception": false,
     "start_time": "2022-03-28T08:00:21.266784",
     "status": "completed"
    },
    "tags": []
   },
   "outputs": [],
   "source": [
    "# from steves_utils.CORES.utils import (\n",
    "#     ALL_NODES,\n",
    "#     ALL_NODES_MINIMUM_1000_EXAMPLES,\n",
    "#     ALL_DAYS\n",
    "# )\n",
    "\n",
    "# add_dataset(\n",
    "#     labels=ALL_NODES,\n",
    "#     domains = ALL_DAYS,\n",
    "#     num_examples_per_domain_per_label=100,\n",
    "#     pickle_path=os.path.join(get_datasets_base_path(), \"cores.stratified_ds.2022A.pkl\"),\n",
    "#     source_or_target_dataset=\"target\",\n",
    "#     x_transform_func=global_x_transform_func,\n",
    "#     domain_modifier=lambda u: f\"cores_{u}\"\n",
    "# )"
   ]
  },
  {
   "cell_type": "code",
   "execution_count": 15,
   "id": "76db484d",
   "metadata": {
    "execution": {
     "iopub.execute_input": "2022-03-28T08:00:21.367945Z",
     "iopub.status.busy": "2022-03-28T08:00:21.367569Z",
     "iopub.status.idle": "2022-03-28T08:00:21.388277Z",
     "shell.execute_reply": "2022-03-28T08:00:21.388951Z"
    },
    "papermill": {
     "duration": 0.045193,
     "end_time": "2022-03-28T08:00:21.389130",
     "exception": false,
     "start_time": "2022-03-28T08:00:21.343937",
     "status": "completed"
    },
    "tags": []
   },
   "outputs": [],
   "source": [
    "# from steves_utils.ORACLE.utils_v2 import (\n",
    "#     ALL_DISTANCES_FEET,\n",
    "#     ALL_RUNS,\n",
    "#     ALL_SERIAL_NUMBERS,\n",
    "# )\n",
    "\n",
    "\n",
    "# add_dataset(\n",
    "#     labels=ALL_SERIAL_NUMBERS,\n",
    "#     domains = list(set(ALL_DISTANCES_FEET) - {2,62}),\n",
    "#     num_examples_per_domain_per_label=100,\n",
    "#     pickle_path=os.path.join(get_datasets_base_path(), \"oracle.Run2_framed_2000Examples_stratified_ds.2022A.pkl\"),\n",
    "#     source_or_target_dataset=\"source\",\n",
    "#     x_transform_func=global_x_transform_func,\n",
    "#     domain_modifier=lambda u: f\"oracle1_{u}\"\n",
    "# )\n"
   ]
  },
  {
   "cell_type": "code",
   "execution_count": 16,
   "id": "97dea9d2",
   "metadata": {
    "execution": {
     "iopub.execute_input": "2022-03-28T08:00:21.443389Z",
     "iopub.status.busy": "2022-03-28T08:00:21.443020Z",
     "iopub.status.idle": "2022-03-28T08:00:21.463804Z",
     "shell.execute_reply": "2022-03-28T08:00:21.464479Z"
    },
    "papermill": {
     "duration": 0.046053,
     "end_time": "2022-03-28T08:00:21.464658",
     "exception": false,
     "start_time": "2022-03-28T08:00:21.418605",
     "status": "completed"
    },
    "tags": []
   },
   "outputs": [],
   "source": [
    "# from steves_utils.ORACLE.utils_v2 import (\n",
    "#     ALL_DISTANCES_FEET,\n",
    "#     ALL_RUNS,\n",
    "#     ALL_SERIAL_NUMBERS,\n",
    "# )\n",
    "\n",
    "\n",
    "# add_dataset(\n",
    "#     labels=ALL_SERIAL_NUMBERS,\n",
    "#     domains = list(set(ALL_DISTANCES_FEET) - {2,62,56}),\n",
    "#     num_examples_per_domain_per_label=100,\n",
    "#     pickle_path=os.path.join(get_datasets_base_path(), \"oracle.Run2_framed_2000Examples_stratified_ds.2022A.pkl\"),\n",
    "#     source_or_target_dataset=\"source\",\n",
    "#     x_transform_func=global_x_transform_func,\n",
    "#     domain_modifier=lambda u: f\"oracle2_{u}\"\n",
    "# )"
   ]
  },
  {
   "cell_type": "code",
   "execution_count": 17,
   "id": "6f289866",
   "metadata": {
    "execution": {
     "iopub.execute_input": "2022-03-28T08:00:21.520402Z",
     "iopub.status.busy": "2022-03-28T08:00:21.519907Z",
     "iopub.status.idle": "2022-03-28T08:00:21.542162Z",
     "shell.execute_reply": "2022-03-28T08:00:21.542820Z"
    },
    "papermill": {
     "duration": 0.048609,
     "end_time": "2022-03-28T08:00:21.543042",
     "exception": false,
     "start_time": "2022-03-28T08:00:21.494433",
     "status": "completed"
    },
    "tags": []
   },
   "outputs": [],
   "source": [
    "# add_dataset(\n",
    "#     labels=list(range(19)),\n",
    "#     domains = [0,1,2],\n",
    "#     num_examples_per_domain_per_label=100,\n",
    "#     pickle_path=os.path.join(get_datasets_base_path(), \"metehan.stratified_ds.2022A.pkl\"),\n",
    "#     source_or_target_dataset=\"target\",\n",
    "#     x_transform_func=global_x_transform_func,\n",
    "#     domain_modifier=lambda u: f\"met_{u}\"\n",
    "# )"
   ]
  },
  {
   "cell_type": "code",
   "execution_count": 18,
   "id": "86a863c3",
   "metadata": {
    "execution": {
     "iopub.execute_input": "2022-03-28T08:00:21.593793Z",
     "iopub.status.busy": "2022-03-28T08:00:21.593426Z",
     "iopub.status.idle": "2022-03-28T08:00:21.613725Z",
     "shell.execute_reply": "2022-03-28T08:00:21.613024Z"
    },
    "papermill": {
     "duration": 0.044517,
     "end_time": "2022-03-28T08:00:21.613880",
     "exception": false,
     "start_time": "2022-03-28T08:00:21.569363",
     "status": "completed"
    },
    "tags": []
   },
   "outputs": [],
   "source": [
    "# # from steves_utils.wisig.utils import (\n",
    "# #     ALL_NODES_MINIMUM_100_EXAMPLES,\n",
    "# #     ALL_NODES_MINIMUM_500_EXAMPLES,\n",
    "# #     ALL_NODES_MINIMUM_1000_EXAMPLES,\n",
    "# #     ALL_DAYS\n",
    "# # )\n",
    "\n",
    "# import steves_utils.wisig.utils as wisig\n",
    "\n",
    "\n",
    "# add_dataset(\n",
    "#     labels=wisig.ALL_NODES_MINIMUM_100_EXAMPLES,\n",
    "#     domains = wisig.ALL_DAYS,\n",
    "#     num_examples_per_domain_per_label=100,\n",
    "#     pickle_path=os.path.join(get_datasets_base_path(), \"wisig.node3-19.stratified_ds.2022A.pkl\"),\n",
    "#     source_or_target_dataset=\"target\",\n",
    "#     x_transform_func=global_x_transform_func,\n",
    "#     domain_modifier=lambda u: f\"wisig_{u}\"\n",
    "# )"
   ]
  },
  {
   "cell_type": "code",
   "execution_count": 19,
   "id": "fd5442bc",
   "metadata": {
    "execution": {
     "iopub.execute_input": "2022-03-28T08:00:21.670042Z",
     "iopub.status.busy": "2022-03-28T08:00:21.669473Z",
     "iopub.status.idle": "2022-03-28T08:00:21.690289Z",
     "shell.execute_reply": "2022-03-28T08:00:21.689549Z"
    },
    "papermill": {
     "duration": 0.050071,
     "end_time": "2022-03-28T08:00:21.690442",
     "exception": false,
     "start_time": "2022-03-28T08:00:21.640371",
     "status": "completed"
    },
    "tags": []
   },
   "outputs": [],
   "source": [
    "###################################\n",
    "# Build the dataset\n",
    "###################################\n",
    "train_original_source = Iterable_Aggregator(train_original_source, p.seed)\n",
    "val_original_source = Iterable_Aggregator(val_original_source, p.seed)\n",
    "test_original_source = Iterable_Aggregator(test_original_source, p.seed)\n",
    "\n",
    "\n",
    "train_original_target = Iterable_Aggregator(train_original_target, p.seed)\n",
    "val_original_target = Iterable_Aggregator(val_original_target, p.seed)\n",
    "test_original_target = Iterable_Aggregator(test_original_target, p.seed)\n",
    "\n",
    "# For CNN We only use X and Y. And we only train on the source.\n",
    "# Properly form the data using a transform lambda and Lazy_Iterable_Wrapper. Finally wrap them in a dataloader\n",
    "\n",
    "transform_lambda = lambda ex: ex[1] # Original is (<domain>, <episode>) so we strip down to episode only\n",
    "\n",
    "train_processed_source = Lazy_Iterable_Wrapper(train_original_source, transform_lambda)\n",
    "val_processed_source   = Lazy_Iterable_Wrapper(val_original_source, transform_lambda)\n",
    "test_processed_source  = Lazy_Iterable_Wrapper(test_original_source, transform_lambda)\n",
    "\n",
    "train_processed_target = Lazy_Iterable_Wrapper(train_original_target, transform_lambda)\n",
    "val_processed_target   = Lazy_Iterable_Wrapper(val_original_target, transform_lambda)\n",
    "test_processed_target  = Lazy_Iterable_Wrapper(test_original_target, transform_lambda)\n",
    "\n",
    "datasets = EasyDict({\n",
    "    \"source\": {\n",
    "        \"original\": {\"train\":train_original_source, \"val\":val_original_source, \"test\":test_original_source},\n",
    "        \"processed\": {\"train\":train_processed_source, \"val\":val_processed_source, \"test\":test_processed_source}\n",
    "    },\n",
    "    \"target\": {\n",
    "        \"original\": {\"train\":train_original_target, \"val\":val_original_target, \"test\":test_original_target},\n",
    "        \"processed\": {\"train\":train_processed_target, \"val\":val_processed_target, \"test\":test_processed_target}\n",
    "    },\n",
    "})"
   ]
  },
  {
   "cell_type": "code",
   "execution_count": 20,
   "id": "5b3c01fc",
   "metadata": {
    "execution": {
     "iopub.execute_input": "2022-03-28T08:00:21.742117Z",
     "iopub.status.busy": "2022-03-28T08:00:21.741560Z",
     "iopub.status.idle": "2022-03-28T08:00:36.179983Z",
     "shell.execute_reply": "2022-03-28T08:00:36.179183Z"
    },
    "papermill": {
     "duration": 14.463127,
     "end_time": "2022-03-28T08:00:36.180158",
     "exception": false,
     "start_time": "2022-03-28T08:00:21.717031",
     "status": "completed"
    },
    "tags": []
   },
   "outputs": [
    {
     "name": "stdout",
     "output_type": "stream",
     "text": [
      "{'C_4', 'C_2', 'C_5', 'C_3', 'C_1'}\n"
     ]
    },
    {
     "name": "stdout",
     "output_type": "stream",
     "text": [
      "{'O_8', 'O_20', 'O_14', 'O_32', 'O_50', 'O_26', 'O_38', 'O_44'}\n"
     ]
    },
    {
     "name": "stdout",
     "output_type": "stream",
     "text": [
      "tensor([[[0., 0., 0.,  ..., 0., 0., 0.],\n",
      "         [0., 0., 0.,  ..., 0., 0., 0.]],\n",
      "\n",
      "        [[0., 0., 0.,  ..., 0., 0., 0.],\n",
      "         [0., 0., 0.,  ..., 0., 0., 0.]],\n",
      "\n",
      "        [[0., 0., 0.,  ..., 0., 0., 0.],\n",
      "         [0., 0., 0.,  ..., 0., 0., 0.]],\n",
      "\n",
      "        ...,\n",
      "\n",
      "        [[0., 0., 0.,  ..., 0., 0., 0.],\n",
      "         [0., 0., 0.,  ..., 0., 0., 0.]],\n",
      "\n",
      "        [[0., 0., 0.,  ..., 0., 0., 0.],\n",
      "         [0., 0., 0.,  ..., 0., 0., 0.]],\n",
      "\n",
      "        [[0., 0., 0.,  ..., 0., 0., 0.],\n",
      "         [0., 0., 0.,  ..., 0., 0., 0.]]])\n"
     ]
    }
   ],
   "source": [
    "from steves_utils.transforms import get_average_magnitude, get_average_power\n",
    "\n",
    "print(set([u for u,_ in val_original_source]))\n",
    "print(set([u for u,_ in val_original_target]))\n",
    "\n",
    "s_x, s_y, q_x, q_y, _ = next(iter(train_processed_source))\n",
    "print(s_x)\n",
    "\n",
    "# for ds in [\n",
    "#     train_processed_source,\n",
    "#     val_processed_source,\n",
    "#     test_processed_source,\n",
    "#     train_processed_target,\n",
    "#     val_processed_target,\n",
    "#     test_processed_target\n",
    "# ]:\n",
    "#     for s_x, s_y, q_x, q_y, _ in ds:\n",
    "#         for X in (s_x, q_x):\n",
    "#             for x in X:\n",
    "#                 assert np.isclose(get_average_magnitude(x.numpy()), 1.0)\n",
    "#                 assert np.isclose(get_average_power(x.numpy()), 1.0)\n",
    "                "
   ]
  },
  {
   "cell_type": "code",
   "execution_count": 21,
   "id": "bbdacba1",
   "metadata": {
    "execution": {
     "iopub.execute_input": "2022-03-28T08:00:36.238046Z",
     "iopub.status.busy": "2022-03-28T08:00:36.237484Z",
     "iopub.status.idle": "2022-03-28T08:00:36.478736Z",
     "shell.execute_reply": "2022-03-28T08:00:36.479069Z"
    },
    "papermill": {
     "duration": 0.269426,
     "end_time": "2022-03-28T08:00:36.479210",
     "exception": false,
     "start_time": "2022-03-28T08:00:36.209784",
     "status": "completed"
    },
    "tags": []
   },
   "outputs": [
    {
     "name": "stdout",
     "output_type": "stream",
     "text": [
      "(2, 256)\n"
     ]
    }
   ],
   "source": [
    "###################################\n",
    "# Build the model\n",
    "###################################\n",
    "# easfsl only wants a tuple for the shape\n",
    "model = Steves_Prototypical_Network(x_net, device=p.device, x_shape=tuple(p.x_shape))\n",
    "optimizer = Adam(params=model.parameters(), lr=p.lr)"
   ]
  },
  {
   "cell_type": "code",
   "execution_count": 22,
   "id": "22b39ac5",
   "metadata": {
    "execution": {
     "iopub.execute_input": "2022-03-28T08:00:36.530446Z",
     "iopub.status.busy": "2022-03-28T08:00:36.530082Z",
     "iopub.status.idle": "2022-03-28T08:22:20.684715Z",
     "shell.execute_reply": "2022-03-28T08:22:20.684380Z"
    },
    "papermill": {
     "duration": 1304.182299,
     "end_time": "2022-03-28T08:22:20.684796",
     "exception": false,
     "start_time": "2022-03-28T08:00:36.502497",
     "status": "completed"
    },
    "tags": []
   },
   "outputs": [
    {
     "name": "stdout",
     "output_type": "stream",
     "text": [
      "epoch: 1, [batch: 1 / 6297], examples_per_second: 33.8392, train_label_loss: 2.2412, \n"
     ]
    },
    {
     "name": "stdout",
     "output_type": "stream",
     "text": [
      "epoch: 1, [batch: 630 / 6297], examples_per_second: 3883.9335, train_label_loss: 0.1817, \n"
     ]
    },
    {
     "name": "stdout",
     "output_type": "stream",
     "text": [
      "epoch: 1, [batch: 1260 / 6297], examples_per_second: 4218.0652, train_label_loss: 0.0127, \n"
     ]
    },
    {
     "name": "stdout",
     "output_type": "stream",
     "text": [
      "epoch: 1, [batch: 1889 / 6297], examples_per_second: 4722.9473, train_label_loss: 0.0036, \n"
     ]
    },
    {
     "name": "stdout",
     "output_type": "stream",
     "text": [
      "epoch: 1, [batch: 2519 / 6297], examples_per_second: 3802.2548, train_label_loss: 0.0006, \n"
     ]
    },
    {
     "name": "stdout",
     "output_type": "stream",
     "text": [
      "epoch: 1, [batch: 3149 / 6297], examples_per_second: 3764.0306, train_label_loss: 0.0035, \n"
     ]
    },
    {
     "name": "stdout",
     "output_type": "stream",
     "text": [
      "epoch: 1, [batch: 3778 / 6297], examples_per_second: 3786.9796, train_label_loss: 0.0116, \n"
     ]
    },
    {
     "name": "stdout",
     "output_type": "stream",
     "text": [
      "epoch: 1, [batch: 4408 / 6297], examples_per_second: 3736.7342, train_label_loss: 0.0096, \n"
     ]
    },
    {
     "name": "stdout",
     "output_type": "stream",
     "text": [
      "epoch: 1, [batch: 5037 / 6297], examples_per_second: 3783.1130, train_label_loss: 0.0009, \n"
     ]
    },
    {
     "name": "stdout",
     "output_type": "stream",
     "text": [
      "epoch: 1, [batch: 5667 / 6297], examples_per_second: 3790.1663, train_label_loss: 0.0000, \n"
     ]
    },
    {
     "name": "stdout",
     "output_type": "stream",
     "text": [
      "=============================================================\n",
      "epoch: 1, source_val_acc_label: 0.9954, target_val_acc_label: 0.2762, source_val_label_loss: 0.0204, target_val_label_loss: 2.1319, \n",
      "=============================================================\n"
     ]
    },
    {
     "name": "stdout",
     "output_type": "stream",
     "text": [
      "New best\n"
     ]
    },
    {
     "name": "stdout",
     "output_type": "stream",
     "text": [
      "epoch: 2, [batch: 1 / 6333], examples_per_second: 4.0578, train_label_loss: 0.0002, \n"
     ]
    },
    {
     "name": "stdout",
     "output_type": "stream",
     "text": [
      "epoch: 2, [batch: 634 / 6333], examples_per_second: 4012.9848, train_label_loss: 0.0366, \n"
     ]
    },
    {
     "name": "stdout",
     "output_type": "stream",
     "text": [
      "epoch: 2, [batch: 1267 / 6333], examples_per_second: 4257.8088, train_label_loss: 0.0281, \n"
     ]
    },
    {
     "name": "stdout",
     "output_type": "stream",
     "text": [
      "epoch: 2, [batch: 1900 / 6333], examples_per_second: 4305.5110, train_label_loss: 0.0000, \n"
     ]
    },
    {
     "name": "stdout",
     "output_type": "stream",
     "text": [
      "epoch: 2, [batch: 2533 / 6333], examples_per_second: 4411.9648, train_label_loss: 0.0000, \n"
     ]
    },
    {
     "name": "stdout",
     "output_type": "stream",
     "text": [
      "epoch: 2, [batch: 3167 / 6333], examples_per_second: 4329.6785, train_label_loss: 0.0000, \n"
     ]
    },
    {
     "name": "stdout",
     "output_type": "stream",
     "text": [
      "epoch: 2, [batch: 3800 / 6333], examples_per_second: 4276.9910, train_label_loss: 0.0000, \n"
     ]
    },
    {
     "name": "stdout",
     "output_type": "stream",
     "text": [
      "epoch: 2, [batch: 4433 / 6333], examples_per_second: 4321.6920, train_label_loss: 0.0000, \n"
     ]
    },
    {
     "name": "stdout",
     "output_type": "stream",
     "text": [
      "epoch: 2, [batch: 5066 / 6333], examples_per_second: 4140.0750, train_label_loss: 0.0000, \n"
     ]
    },
    {
     "name": "stdout",
     "output_type": "stream",
     "text": [
      "epoch: 2, [batch: 5699 / 6333], examples_per_second: 4109.0789, train_label_loss: 0.0008, \n"
     ]
    },
    {
     "name": "stdout",
     "output_type": "stream",
     "text": [
      "=============================================================\n",
      "epoch: 2, source_val_acc_label: 0.9977, target_val_acc_label: 0.3133, source_val_label_loss: 0.0176, target_val_label_loss: 1.9378, \n",
      "=============================================================\n"
     ]
    },
    {
     "name": "stdout",
     "output_type": "stream",
     "text": [
      "New best\n"
     ]
    },
    {
     "name": "stdout",
     "output_type": "stream",
     "text": [
      "epoch: 3, [batch: 1 / 6305], examples_per_second: 5.3646, train_label_loss: 0.0000, \n"
     ]
    },
    {
     "name": "stdout",
     "output_type": "stream",
     "text": [
      "epoch: 3, [batch: 631 / 6305], examples_per_second: 4613.8101, train_label_loss: 0.0000, \n"
     ]
    },
    {
     "name": "stdout",
     "output_type": "stream",
     "text": [
      "epoch: 3, [batch: 1261 / 6305], examples_per_second: 4914.6091, train_label_loss: 0.0000, \n"
     ]
    },
    {
     "name": "stdout",
     "output_type": "stream",
     "text": [
      "epoch: 3, [batch: 1892 / 6305], examples_per_second: 5262.3012, train_label_loss: 0.0000, \n"
     ]
    },
    {
     "name": "stdout",
     "output_type": "stream",
     "text": [
      "epoch: 3, [batch: 2522 / 6305], examples_per_second: 5110.8375, train_label_loss: 0.0006, \n"
     ]
    },
    {
     "name": "stdout",
     "output_type": "stream",
     "text": [
      "epoch: 3, [batch: 3153 / 6305], examples_per_second: 4886.4802, train_label_loss: 0.0001, \n"
     ]
    },
    {
     "name": "stdout",
     "output_type": "stream",
     "text": [
      "epoch: 3, [batch: 3783 / 6305], examples_per_second: 5232.9600, train_label_loss: 0.0000, \n"
     ]
    },
    {
     "name": "stdout",
     "output_type": "stream",
     "text": [
      "epoch: 3, [batch: 4413 / 6305], examples_per_second: 5000.5058, train_label_loss: 0.0000, \n"
     ]
    },
    {
     "name": "stdout",
     "output_type": "stream",
     "text": [
      "epoch: 3, [batch: 5044 / 6305], examples_per_second: 4848.1190, train_label_loss: 0.0015, \n"
     ]
    },
    {
     "name": "stdout",
     "output_type": "stream",
     "text": [
      "epoch: 3, [batch: 5674 / 6305], examples_per_second: 4997.7238, train_label_loss: 0.0001, \n"
     ]
    },
    {
     "name": "stdout",
     "output_type": "stream",
     "text": [
      "=============================================================\n",
      "epoch: 3, source_val_acc_label: 0.9984, target_val_acc_label: 0.3058, source_val_label_loss: 0.0164, target_val_label_loss: 1.9772, \n",
      "=============================================================\n"
     ]
    },
    {
     "name": "stdout",
     "output_type": "stream",
     "text": [
      "epoch: 4, [batch: 1 / 6323], examples_per_second: 5.4448, train_label_loss: 0.0000, \n"
     ]
    },
    {
     "name": "stdout",
     "output_type": "stream",
     "text": [
      "epoch: 4, [batch: 633 / 6323], examples_per_second: 4624.6491, train_label_loss: 0.0008, \n"
     ]
    },
    {
     "name": "stdout",
     "output_type": "stream",
     "text": [
      "epoch: 4, [batch: 1265 / 6323], examples_per_second: 4894.6641, train_label_loss: 0.0000, \n"
     ]
    },
    {
     "name": "stdout",
     "output_type": "stream",
     "text": [
      "epoch: 4, [batch: 1897 / 6323], examples_per_second: 5164.8411, train_label_loss: 0.0000, \n"
     ]
    },
    {
     "name": "stdout",
     "output_type": "stream",
     "text": [
      "epoch: 4, [batch: 2529 / 6323], examples_per_second: 5336.1082, train_label_loss: 0.0005, \n"
     ]
    },
    {
     "name": "stdout",
     "output_type": "stream",
     "text": [
      "epoch: 4, [batch: 3162 / 6323], examples_per_second: 5187.5296, train_label_loss: 0.0000, \n"
     ]
    },
    {
     "name": "stdout",
     "output_type": "stream",
     "text": [
      "epoch: 4, [batch: 3794 / 6323], examples_per_second: 4884.5445, train_label_loss: 0.0000, \n"
     ]
    },
    {
     "name": "stdout",
     "output_type": "stream",
     "text": [
      "epoch: 4, [batch: 4426 / 6323], examples_per_second: 5375.3014, train_label_loss: 0.0039, \n"
     ]
    },
    {
     "name": "stdout",
     "output_type": "stream",
     "text": [
      "epoch: 4, [batch: 5058 / 6323], examples_per_second: 5280.6419, train_label_loss: 0.1787, \n"
     ]
    },
    {
     "name": "stdout",
     "output_type": "stream",
     "text": [
      "epoch: 4, [batch: 5690 / 6323], examples_per_second: 3965.7666, train_label_loss: 0.0000, \n"
     ]
    },
    {
     "name": "stdout",
     "output_type": "stream",
     "text": [
      "=============================================================\n",
      "epoch: 4, source_val_acc_label: 0.9988, target_val_acc_label: 0.2967, source_val_label_loss: 0.0117, target_val_label_loss: 2.0811, \n",
      "=============================================================\n"
     ]
    },
    {
     "name": "stdout",
     "output_type": "stream",
     "text": [
      "epoch: 5, [batch: 1 / 6317], examples_per_second: 4.1381, train_label_loss: 0.0000, \n"
     ]
    },
    {
     "name": "stdout",
     "output_type": "stream",
     "text": [
      "epoch: 5, [batch: 632 / 6317], examples_per_second: 3892.6184, train_label_loss: 0.0001, \n"
     ]
    },
    {
     "name": "stdout",
     "output_type": "stream",
     "text": [
      "epoch: 5, [batch: 1264 / 6317], examples_per_second: 3904.4479, train_label_loss: 0.0002, \n"
     ]
    },
    {
     "name": "stdout",
     "output_type": "stream",
     "text": [
      "epoch: 5, [batch: 1895 / 6317], examples_per_second: 3974.4049, train_label_loss: 0.0000, \n"
     ]
    },
    {
     "name": "stdout",
     "output_type": "stream",
     "text": [
      "epoch: 5, [batch: 2527 / 6317], examples_per_second: 3833.0755, train_label_loss: 0.0007, \n"
     ]
    },
    {
     "name": "stdout",
     "output_type": "stream",
     "text": [
      "epoch: 5, [batch: 3159 / 6317], examples_per_second: 3962.1498, train_label_loss: 0.0000, \n"
     ]
    },
    {
     "name": "stdout",
     "output_type": "stream",
     "text": [
      "epoch: 5, [batch: 3790 / 6317], examples_per_second: 4039.2441, train_label_loss: 0.0000, \n"
     ]
    },
    {
     "name": "stdout",
     "output_type": "stream",
     "text": [
      "epoch: 5, [batch: 4422 / 6317], examples_per_second: 4250.1731, train_label_loss: 0.0001, \n"
     ]
    },
    {
     "name": "stdout",
     "output_type": "stream",
     "text": [
      "epoch: 5, [batch: 5053 / 6317], examples_per_second: 4450.7735, train_label_loss: 0.0049, \n"
     ]
    },
    {
     "name": "stdout",
     "output_type": "stream",
     "text": [
      "epoch: 5, [batch: 5685 / 6317], examples_per_second: 3874.7059, train_label_loss: 0.0003, \n"
     ]
    },
    {
     "name": "stdout",
     "output_type": "stream",
     "text": [
      "=============================================================\n",
      "epoch: 5, source_val_acc_label: 0.9993, target_val_acc_label: 0.3732, source_val_label_loss: 0.0096, target_val_label_loss: 1.7700, \n",
      "=============================================================\n"
     ]
    },
    {
     "name": "stdout",
     "output_type": "stream",
     "text": [
      "New best\n"
     ]
    },
    {
     "name": "stdout",
     "output_type": "stream",
     "text": [
      "epoch: 6, [batch: 1 / 6329], examples_per_second: 4.0970, train_label_loss: 0.0752, \n"
     ]
    },
    {
     "name": "stdout",
     "output_type": "stream",
     "text": [
      "epoch: 6, [batch: 633 / 6329], examples_per_second: 3805.9706, train_label_loss: 0.0000, \n"
     ]
    },
    {
     "name": "stdout",
     "output_type": "stream",
     "text": [
      "epoch: 6, [batch: 1266 / 6329], examples_per_second: 3852.4256, train_label_loss: 0.0000, \n"
     ]
    },
    {
     "name": "stdout",
     "output_type": "stream",
     "text": [
      "epoch: 6, [batch: 1899 / 6329], examples_per_second: 4031.6522, train_label_loss: 0.0000, \n"
     ]
    },
    {
     "name": "stdout",
     "output_type": "stream",
     "text": [
      "epoch: 6, [batch: 2532 / 6329], examples_per_second: 3945.4440, train_label_loss: 0.0000, \n"
     ]
    },
    {
     "name": "stdout",
     "output_type": "stream",
     "text": [
      "epoch: 6, [batch: 3165 / 6329], examples_per_second: 3859.7265, train_label_loss: 0.0000, \n"
     ]
    },
    {
     "name": "stdout",
     "output_type": "stream",
     "text": [
      "epoch: 6, [batch: 3797 / 6329], examples_per_second: 3952.3263, train_label_loss: 0.0001, \n"
     ]
    },
    {
     "name": "stdout",
     "output_type": "stream",
     "text": [
      "epoch: 6, [batch: 4430 / 6329], examples_per_second: 4270.1901, train_label_loss: 0.0012, \n"
     ]
    },
    {
     "name": "stdout",
     "output_type": "stream",
     "text": [
      "epoch: 6, [batch: 5063 / 6329], examples_per_second: 4657.2480, train_label_loss: 0.0000, \n"
     ]
    },
    {
     "name": "stdout",
     "output_type": "stream",
     "text": [
      "epoch: 6, [batch: 5696 / 6329], examples_per_second: 3951.1441, train_label_loss: 0.0000, \n"
     ]
    },
    {
     "name": "stdout",
     "output_type": "stream",
     "text": [
      "=============================================================\n",
      "epoch: 6, source_val_acc_label: 0.9993, target_val_acc_label: 0.3352, source_val_label_loss: 0.0134, target_val_label_loss: 1.8701, \n",
      "=============================================================\n"
     ]
    },
    {
     "name": "stdout",
     "output_type": "stream",
     "text": [
      "epoch: 7, [batch: 1 / 6316], examples_per_second: 4.0260, train_label_loss: 0.0001, \n"
     ]
    },
    {
     "name": "stdout",
     "output_type": "stream",
     "text": [
      "epoch: 7, [batch: 632 / 6316], examples_per_second: 3905.7672, train_label_loss: 0.0000, \n"
     ]
    },
    {
     "name": "stdout",
     "output_type": "stream",
     "text": [
      "epoch: 7, [batch: 1264 / 6316], examples_per_second: 3911.3049, train_label_loss: 0.0000, \n"
     ]
    },
    {
     "name": "stdout",
     "output_type": "stream",
     "text": [
      "epoch: 7, [batch: 1895 / 6316], examples_per_second: 3892.0025, train_label_loss: 0.0003, \n"
     ]
    },
    {
     "name": "stdout",
     "output_type": "stream",
     "text": [
      "epoch: 7, [batch: 2527 / 6316], examples_per_second: 3871.2266, train_label_loss: 0.0178, \n"
     ]
    },
    {
     "name": "stdout",
     "output_type": "stream",
     "text": [
      "epoch: 7, [batch: 3158 / 6316], examples_per_second: 3905.4007, train_label_loss: 0.0005, \n"
     ]
    },
    {
     "name": "stdout",
     "output_type": "stream",
     "text": [
      "epoch: 7, [batch: 3790 / 6316], examples_per_second: 4142.5293, train_label_loss: 0.0000, \n"
     ]
    },
    {
     "name": "stdout",
     "output_type": "stream",
     "text": [
      "epoch: 7, [batch: 4421 / 6316], examples_per_second: 4238.8447, train_label_loss: 0.0001, \n"
     ]
    },
    {
     "name": "stdout",
     "output_type": "stream",
     "text": [
      "epoch: 7, [batch: 5053 / 6316], examples_per_second: 4232.4386, train_label_loss: 0.0000, \n"
     ]
    },
    {
     "name": "stdout",
     "output_type": "stream",
     "text": [
      "epoch: 7, [batch: 5684 / 6316], examples_per_second: 3853.4775, train_label_loss: 0.0005, \n"
     ]
    },
    {
     "name": "stdout",
     "output_type": "stream",
     "text": [
      "=============================================================\n",
      "epoch: 7, source_val_acc_label: 0.9991, target_val_acc_label: 0.3544, source_val_label_loss: 0.0115, target_val_label_loss: 1.8242, \n",
      "=============================================================\n"
     ]
    },
    {
     "name": "stdout",
     "output_type": "stream",
     "text": [
      "epoch: 8, [batch: 1 / 6315], examples_per_second: 4.0746, train_label_loss: 0.0000, \n"
     ]
    },
    {
     "name": "stdout",
     "output_type": "stream",
     "text": [
      "epoch: 8, [batch: 632 / 6315], examples_per_second: 3759.4748, train_label_loss: 0.0158, \n"
     ]
    },
    {
     "name": "stdout",
     "output_type": "stream",
     "text": [
      "epoch: 8, [batch: 1263 / 6315], examples_per_second: 3816.9228, train_label_loss: 0.0000, \n"
     ]
    },
    {
     "name": "stdout",
     "output_type": "stream",
     "text": [
      "epoch: 8, [batch: 1895 / 6315], examples_per_second: 3816.9315, train_label_loss: 0.0002, \n"
     ]
    },
    {
     "name": "stdout",
     "output_type": "stream",
     "text": [
      "epoch: 8, [batch: 2526 / 6315], examples_per_second: 3847.3844, train_label_loss: 0.0024, \n"
     ]
    },
    {
     "name": "stdout",
     "output_type": "stream",
     "text": [
      "epoch: 8, [batch: 3158 / 6315], examples_per_second: 3860.0616, train_label_loss: 0.0020, \n"
     ]
    },
    {
     "name": "stdout",
     "output_type": "stream",
     "text": [
      "epoch: 8, [batch: 3789 / 6315], examples_per_second: 4228.5042, train_label_loss: 0.0001, \n"
     ]
    },
    {
     "name": "stdout",
     "output_type": "stream",
     "text": [
      "epoch: 8, [batch: 4420 / 6315], examples_per_second: 4354.8568, train_label_loss: 0.0000, \n"
     ]
    },
    {
     "name": "stdout",
     "output_type": "stream",
     "text": [
      "epoch: 8, [batch: 5052 / 6315], examples_per_second: 4026.7961, train_label_loss: 0.0000, \n"
     ]
    },
    {
     "name": "stdout",
     "output_type": "stream",
     "text": [
      "epoch: 8, [batch: 5683 / 6315], examples_per_second: 3885.7385, train_label_loss: 0.0123, \n"
     ]
    },
    {
     "name": "stdout",
     "output_type": "stream",
     "text": [
      "=============================================================\n",
      "epoch: 8, source_val_acc_label: 0.9993, target_val_acc_label: 0.3354, source_val_label_loss: 0.0089, target_val_label_loss: 1.9119, \n",
      "=============================================================\n"
     ]
    },
    {
     "name": "stdout",
     "output_type": "stream",
     "text": [
      "epoch: 9, [batch: 1 / 6317], examples_per_second: 4.0521, train_label_loss: 0.0000, \n"
     ]
    },
    {
     "name": "stdout",
     "output_type": "stream",
     "text": [
      "epoch: 9, [batch: 632 / 6317], examples_per_second: 3790.2943, train_label_loss: 0.0000, \n"
     ]
    },
    {
     "name": "stdout",
     "output_type": "stream",
     "text": [
      "epoch: 9, [batch: 1264 / 6317], examples_per_second: 3817.4397, train_label_loss: 0.0015, \n"
     ]
    },
    {
     "name": "stdout",
     "output_type": "stream",
     "text": [
      "epoch: 9, [batch: 1895 / 6317], examples_per_second: 3895.2536, train_label_loss: 0.0000, \n"
     ]
    },
    {
     "name": "stdout",
     "output_type": "stream",
     "text": [
      "epoch: 9, [batch: 2527 / 6317], examples_per_second: 3887.0104, train_label_loss: 0.0003, \n"
     ]
    },
    {
     "name": "stdout",
     "output_type": "stream",
     "text": [
      "epoch: 9, [batch: 3159 / 6317], examples_per_second: 4100.1009, train_label_loss: 0.0000, \n"
     ]
    },
    {
     "name": "stdout",
     "output_type": "stream",
     "text": [
      "epoch: 9, [batch: 3790 / 6317], examples_per_second: 4463.4710, train_label_loss: 0.0000, \n"
     ]
    },
    {
     "name": "stdout",
     "output_type": "stream",
     "text": [
      "epoch: 9, [batch: 4422 / 6317], examples_per_second: 4258.8734, train_label_loss: 0.0000, \n"
     ]
    },
    {
     "name": "stdout",
     "output_type": "stream",
     "text": [
      "epoch: 9, [batch: 5053 / 6317], examples_per_second: 4264.5662, train_label_loss: 0.0000, \n"
     ]
    },
    {
     "name": "stdout",
     "output_type": "stream",
     "text": [
      "epoch: 9, [batch: 5685 / 6317], examples_per_second: 4268.3192, train_label_loss: 0.0086, \n"
     ]
    },
    {
     "name": "stdout",
     "output_type": "stream",
     "text": [
      "=============================================================\n",
      "epoch: 9, source_val_acc_label: 0.9991, target_val_acc_label: 0.3294, source_val_label_loss: 0.0111, target_val_label_loss: 1.9575, \n",
      "=============================================================\n"
     ]
    },
    {
     "name": "stdout",
     "output_type": "stream",
     "text": [
      "Patience (3) exhausted\n"
     ]
    }
   ],
   "source": [
    "###################################\n",
    "# train\n",
    "###################################\n",
    "jig = PTN_Train_Eval_Test_Jig(model, p.BEST_MODEL_PATH, p.device)\n",
    "\n",
    "jig.train(\n",
    "    train_iterable=datasets.source.processed.train,\n",
    "    source_val_iterable=datasets.source.processed.val,\n",
    "    target_val_iterable=datasets.target.processed.val,\n",
    "    num_epochs=p.n_epoch,\n",
    "    num_logs_per_epoch=p.NUM_LOGS_PER_EPOCH,\n",
    "    patience=p.patience,\n",
    "    optimizer=optimizer,\n",
    "    criteria_for_best=p.criteria_for_best,\n",
    ")"
   ]
  },
  {
   "cell_type": "code",
   "execution_count": 23,
   "id": "31e8fabf",
   "metadata": {
    "execution": {
     "iopub.execute_input": "2022-03-28T08:22:20.792264Z",
     "iopub.status.busy": "2022-03-28T08:22:20.791761Z",
     "iopub.status.idle": "2022-03-28T08:22:20.826065Z",
     "shell.execute_reply": "2022-03-28T08:22:20.825368Z"
    },
    "papermill": {
     "duration": 0.090362,
     "end_time": "2022-03-28T08:22:20.826220",
     "exception": false,
     "start_time": "2022-03-28T08:22:20.735858",
     "status": "completed"
    },
    "tags": []
   },
   "outputs": [],
   "source": [
    "total_experiment_time_secs = time.time() - start_time_secs"
   ]
  },
  {
   "cell_type": "code",
   "execution_count": 24,
   "id": "87b9595b",
   "metadata": {
    "execution": {
     "iopub.execute_input": "2022-03-28T08:22:20.941262Z",
     "iopub.status.busy": "2022-03-28T08:22:20.940607Z",
     "iopub.status.idle": "2022-03-28T08:24:42.994596Z",
     "shell.execute_reply": "2022-03-28T08:24:42.993869Z"
    },
    "papermill": {
     "duration": 142.113269,
     "end_time": "2022-03-28T08:24:42.994784",
     "exception": false,
     "start_time": "2022-03-28T08:22:20.881515",
     "status": "completed"
    },
    "tags": []
   },
   "outputs": [],
   "source": [
    "###################################\n",
    "# Evaluate the model\n",
    "###################################\n",
    "source_test_label_accuracy, source_test_label_loss = jig.test(datasets.source.processed.test)\n",
    "target_test_label_accuracy, target_test_label_loss = jig.test(datasets.target.processed.test)\n",
    "\n",
    "source_val_label_accuracy, source_val_label_loss = jig.test(datasets.source.processed.val)\n",
    "target_val_label_accuracy, target_val_label_loss = jig.test(datasets.target.processed.val)\n",
    "\n",
    "history = jig.get_history()\n",
    "\n",
    "total_epochs_trained = len(history[\"epoch_indices\"])\n",
    "\n",
    "val_dl = Iterable_Aggregator((datasets.source.original.val,datasets.target.original.val))\n",
    "\n",
    "confusion = ptn_confusion_by_domain_over_dataloader(model, p.device, val_dl)\n",
    "per_domain_accuracy = per_domain_accuracy_from_confusion(confusion)\n",
    "\n",
    "# Add a key to per_domain_accuracy for if it was a source domain\n",
    "for domain, accuracy in per_domain_accuracy.items():\n",
    "    per_domain_accuracy[domain] = {\n",
    "        \"accuracy\": accuracy,\n",
    "        \"source?\": domain in p.domains_source\n",
    "    }\n",
    "\n",
    "# Do an independent accuracy assesment JUST TO BE SURE!\n",
    "# _source_test_label_accuracy = independent_accuracy_assesment(model, datasets.source.processed.test, p.device)\n",
    "# _target_test_label_accuracy = independent_accuracy_assesment(model, datasets.target.processed.test, p.device)\n",
    "# _source_val_label_accuracy = independent_accuracy_assesment(model, datasets.source.processed.val, p.device)\n",
    "# _target_val_label_accuracy = independent_accuracy_assesment(model, datasets.target.processed.val, p.device)\n",
    "\n",
    "# assert(_source_test_label_accuracy == source_test_label_accuracy)\n",
    "# assert(_target_test_label_accuracy == target_test_label_accuracy)\n",
    "# assert(_source_val_label_accuracy == source_val_label_accuracy)\n",
    "# assert(_target_val_label_accuracy == target_val_label_accuracy)\n",
    "\n",
    "experiment = {\n",
    "    \"experiment_name\": p.experiment_name,\n",
    "    \"parameters\": dict(p),\n",
    "    \"results\": {\n",
    "        \"source_test_label_accuracy\": source_test_label_accuracy,\n",
    "        \"source_test_label_loss\": source_test_label_loss,\n",
    "        \"target_test_label_accuracy\": target_test_label_accuracy,\n",
    "        \"target_test_label_loss\": target_test_label_loss,\n",
    "        \"source_val_label_accuracy\": source_val_label_accuracy,\n",
    "        \"source_val_label_loss\": source_val_label_loss,\n",
    "        \"target_val_label_accuracy\": target_val_label_accuracy,\n",
    "        \"target_val_label_loss\": target_val_label_loss,\n",
    "        \"total_epochs_trained\": total_epochs_trained,\n",
    "        \"total_experiment_time_secs\": total_experiment_time_secs,\n",
    "        \"confusion\": confusion,\n",
    "        \"per_domain_accuracy\": per_domain_accuracy,\n",
    "    },\n",
    "    \"history\": history,\n",
    "    \"dataset_metrics\": get_dataset_metrics(datasets, \"ptn\"),\n",
    "}"
   ]
  },
  {
   "cell_type": "code",
   "execution_count": 25,
   "id": "54a21829",
   "metadata": {
    "execution": {
     "iopub.execute_input": "2022-03-28T08:24:43.108807Z",
     "iopub.status.busy": "2022-03-28T08:24:43.108430Z",
     "iopub.status.idle": "2022-03-28T08:24:43.336285Z",
     "shell.execute_reply": "2022-03-28T08:24:43.336967Z"
    },
    "papermill": {
     "duration": 0.285007,
     "end_time": "2022-03-28T08:24:43.337177",
     "exception": false,
     "start_time": "2022-03-28T08:24:43.052170",
     "status": "completed"
    },
    "tags": []
   },
   "outputs": [
    {
     "data": {
      "image/png": "[encoded data removed]",
      "text/plain": [
       "<Figure size 1080x504 with 1 Axes>"
      ]
     },
     "metadata": {
      "needs_background": "light"
     },
     "output_type": "display_data"
    }
   ],
   "source": [
    "ax = get_loss_curve(experiment)\n",
    "plt.show()"
   ]
  },
  {
   "cell_type": "code",
   "execution_count": 26,
   "id": "fd8a0f60",
   "metadata": {
    "execution": {
     "iopub.execute_input": "2022-03-28T08:24:43.450615Z",
     "iopub.status.busy": "2022-03-28T08:24:43.450244Z",
     "iopub.status.idle": "2022-03-28T08:24:43.770845Z",
     "shell.execute_reply": "2022-03-28T08:24:43.771517Z"
    },
    "papermill": {
     "duration": 0.378011,
     "end_time": "2022-03-28T08:24:43.771743",
     "exception": false,
     "start_time": "2022-03-28T08:24:43.393732",
     "status": "completed"
    },
    "tags": []
   },
   "outputs": [
    {
     "data": {
      "text/plain": [
       "<AxesSubplot:title={'center':'Results'}>"
      ]
     },
     "execution_count": 26,
     "metadata": {},
     "output_type": "execute_result"
    },
    {
     "data": {
      "image/png": "[encoded data removed]",
      "text/plain": [
       "<Figure size 1080x504 with 1 Axes>"
      ]
     },
     "metadata": {
      "needs_background": "light"
     },
     "output_type": "display_data"
    }
   ],
   "source": [
    "get_results_table(experiment)"
   ]
  },
  {
   "cell_type": "code",
   "execution_count": 27,
   "id": "cf8dc689",
   "metadata": {
    "execution": {
     "iopub.execute_input": "2022-03-28T08:24:43.886573Z",
     "iopub.status.busy": "2022-03-28T08:24:43.886209Z",
     "iopub.status.idle": "2022-03-28T08:24:44.121418Z",
     "shell.execute_reply": "2022-03-28T08:24:44.120586Z"
    },
    "papermill": {
     "duration": 0.29208,
     "end_time": "2022-03-28T08:24:44.121589",
     "exception": false,
     "start_time": "2022-03-28T08:24:43.829509",
     "status": "completed"
    },
    "tags": []
   },
   "outputs": [
    {
     "data": {
      "text/plain": [
       "<AxesSubplot:title={'center':'Per Domain Validation Accuracy'}, xlabel='domain'>"
      ]
     },
     "execution_count": 27,
     "metadata": {},
     "output_type": "execute_result"
    },
    {
     "data": {
      "image/png": "[encoded data removed]",
      "text/plain": [
       "<Figure size 1080x504 with 1 Axes>"
      ]
     },
     "metadata": {
      "needs_background": "light"
     },
     "output_type": "display_data"
    }
   ],
   "source": [
    "get_domain_accuracies(experiment)"
   ]
  },
  {
   "cell_type": "code",
   "execution_count": 28,
   "id": "a74ae082",
   "metadata": {
    "execution": {
     "iopub.execute_input": "2022-03-28T08:24:44.240073Z",
     "iopub.status.busy": "2022-03-28T08:24:44.239701Z",
     "iopub.status.idle": "2022-03-28T08:24:44.263264Z",
     "shell.execute_reply": "2022-03-28T08:24:44.262577Z"
    },
    "papermill": {
     "duration": 0.082079,
     "end_time": "2022-03-28T08:24:44.263425",
     "exception": false,
     "start_time": "2022-03-28T08:24:44.181346",
     "status": "completed"
    },
    "tags": []
   },
   "outputs": [
    {
     "name": "stdout",
     "output_type": "stream",
     "text": [
      "Source Test Label Accuracy: 0.9994050951847704 Target Test Label Accuracy: 0.3717122395833333\n",
      "Source Val Label Accuracy: 0.9992848970251716 Target Val Label Accuracy: 0.3732421875\n"
     ]
    }
   ],
   "source": [
    "print(\"Source Test Label Accuracy:\", experiment[\"results\"][\"source_test_label_accuracy\"], \"Target Test Label Accuracy:\", experiment[\"results\"][\"target_test_label_accuracy\"])\n",
    "print(\"Source Val Label Accuracy:\", experiment[\"results\"][\"source_val_label_accuracy\"], \"Target Val Label Accuracy:\", experiment[\"results\"][\"target_val_label_accuracy\"])"
   ]
  },
  {
   "cell_type": "code",
   "execution_count": 29,
   "id": "dacca602",
   "metadata": {
    "execution": {
     "iopub.execute_input": "2022-03-28T08:24:44.381065Z",
     "iopub.status.busy": "2022-03-28T08:24:44.380664Z",
     "iopub.status.idle": "2022-03-28T08:24:44.407252Z",
     "shell.execute_reply": "2022-03-28T08:24:44.407949Z"
    },
    "papermill": {
     "duration": 0.084713,
     "end_time": "2022-03-28T08:24:44.408152",
     "exception": false,
     "start_time": "2022-03-28T08:24:44.323439",
     "status": "completed"
    },
    "tags": [
     "experiment_json"
    ]
   },
   "outputs": [
    {
     "data": {
      "text/plain": [
       "'{\"experiment_name\": \"tl_3-jitter10v2:cores -> oracle.run1.framed\", \"parameters\": {\"experiment_name\": \"tl_3-jitter10v2:cores -> oracle.run1.framed\", \"device\": \"cuda\", \"lr\": 0.0001, \"x_shape\": [2, 256], \"n_shot\": 3, \"n_query\": 2, \"train_k_factor\": 3, \"val_k_factor\": 2, \"test_k_factor\": 2, \"torch_default_dtype\": \"torch.float32\", \"n_epoch\": 50, \"patience\": 3, \"criteria_for_best\": \"target_accuracy\", \"x_net\": [{\"class\": \"nnReshape\", \"kargs\": {\"shape\": [-1, 1, 2, 256]}}, {\"class\": \"Conv2d\", \"kargs\": {\"in_channels\": 1, \"out_channels\": 256, \"kernel_size\": [1, 7], \"bias\": false, \"padding\": [0, 3]}}, {\"class\": \"ReLU\", \"kargs\": {\"inplace\": true}}, {\"class\": \"BatchNorm2d\", \"kargs\": {\"num_features\": 256}}, {\"class\": \"Conv2d\", \"kargs\": {\"in_channels\": 256, \"out_channels\": 80, \"kernel_size\": [2, 7], \"bias\": true, \"padding\": [0, 3]}}, {\"class\": \"ReLU\", \"kargs\": {\"inplace\": true}}, {\"class\": \"BatchNorm2d\", \"kargs\": {\"num_features\": 80}}, {\"class\": \"Flatten\", \"kargs\": {}}, {\"class\": \"Linear\", \"kargs\": {\"in_features\": 20480, \"out_features\": 256}}, {\"class\": \"ReLU\", \"kargs\": {\"inplace\": true}}, {\"class\": \"BatchNorm1d\", \"kargs\": {\"num_features\": 256}}, {\"class\": \"Linear\", \"kargs\": {\"in_features\": 256, \"out_features\": 256}}], \"NUM_LOGS_PER_EPOCH\": 10, \"BEST_MODEL_PATH\": \"./best_model.pth\", \"n_way\": 16, \"datasets\": [{\"labels\": [\"1-10.\", \"1-11.\", \"1-15.\", \"1-16.\", \"1-17.\", \"1-18.\", \"1-19.\", \"10-4.\", \"10-7.\", \"11-1.\", \"11-14.\", \"11-17.\", \"11-20.\", \"11-7.\", \"13-20.\", \"13-8.\", \"14-10.\", \"14-11.\", \"14-14.\", \"14-7.\", \"15-1.\", \"15-20.\", \"16-1.\", \"16-16.\", \"17-10.\", \"17-11.\", \"17-2.\", \"19-1.\", \"19-16.\", \"19-19.\", \"19-20.\", \"19-3.\", \"2-10.\", \"2-11.\", \"2-17.\", \"2-18.\", \"2-20.\", \"2-3.\", \"2-4.\", \"2-5.\", \"2-6.\", \"2-7.\", \"2-8.\", \"3-13.\", \"3-18.\", \"3-3.\", \"4-1.\", \"4-10.\", \"4-11.\", \"4-19.\", \"5-5.\", \"6-15.\", \"7-10.\", \"7-14.\", \"8-18.\", \"8-20.\", \"8-3.\", \"8-8.\"], \"domains\": [1, 2, 3, 4, 5], \"num_examples_per_domain_per_label\": -1, \"pickle_path\": \"/root/csc500-main/datasets/cores.stratified_ds.2022A.pkl\", \"source_or_target_dataset\": \"source\", \"x_transforms\": [\"jitter_256_10\", \"lowpass_+/-10MHz\", \"take_200\"], \"episode_transforms\": [], \"domain_prefix\": \"C_\"}, {\"labels\": [\"3123D52\", \"3123D65\", \"3123D79\", \"3123D80\", \"3123D54\", \"3123D70\", \"3123D7B\", \"3123D89\", \"3123D58\", \"3123D76\", \"3123D7D\", \"3123EFE\", \"3123D64\", \"3123D78\", \"3123D7E\", \"3124E4A\"], \"domains\": [32, 38, 8, 44, 14, 50, 20, 26], \"num_examples_per_domain_per_label\": 2000, \"pickle_path\": \"/root/csc500-main/datasets/oracle.Run1_framed_2000Examples_stratified_ds.2022A.pkl\", \"source_or_target_dataset\": \"target\", \"x_transforms\": [\"jitter_256_10\", \"take_200\", \"resample_20Msps_to_25Msps\"], \"episode_transforms\": [], \"domain_prefix\": \"O_\"}], \"seed\": 154325, \"dataset_seed\": 154325, \"domains_source\": [\"C_1\", \"C_2\", \"C_3\", \"C_4\", \"C_5\"], \"domains_target\": [\"O_32\", \"O_38\", \"O_8\", \"O_44\", \"O_14\", \"O_50\", \"O_20\", \"O_26\"]}, \"results\": {\"source_test_label_accuracy\": 0.9994050951847704, \"source_test_label_loss\": 0.006262870971113443, \"target_test_label_accuracy\": 0.3717122395833333, \"target_test_label_loss\": 1.7638379335403442, \"source_val_label_accuracy\": 0.9992848970251716, \"source_val_label_loss\": 0.00960505474358797, \"target_val_label_accuracy\": 0.3732421875, \"target_val_label_loss\": 1.7699826955795288, \"total_epochs_trained\": 9, \"total_experiment_time_secs\": 1384.2528080940247, \"confusion\": {\"C_2\": {\"21\": {\"21\": 120}, \"4\": {\"4\": 130}, \"6\": {\"6\": 124}, \"10\": {\"10\": 112}, \"33\": {\"33\": 28}, \"56\": {\"56\": 121, \"22\": 1}, \"20\": {\"20\": 132}, \"24\": {\"24\": 96}, \"45\": {\"45\": 128}, \"32\": {\"32\": 27, \"35\": 1}, \"27\": {\"27\": 148}, \"53\": {\"53\": 136}, \"8\": {\"8\": 160}, \"54\": {\"54\": 108}, \"50\": {\"50\": 134}, \"44\": {\"44\": 100}, \"5\": {\"5\": 120}, \"38\": {\"38\": 20}, \"19\": {\"19\": 132}, \"1\": {\"1\": 112}, \"30\": {\"30\": 144}, \"15\": {\"15\": 144}, \"23\": {\"23\": 146}, \"35\": {\"35\": 32}, \"22\": {\"22\": 128}, \"40\": {\"40\": 140}, \"46\": {\"46\": 126}, \"3\": {\"3\": 92}, \"48\": {\"48\": 148}, \"52\": {\"52\": 124}, \"2\": {\"2\": 32}, \"26\": {\"26\": 24}, \"17\": {\"17\": 104}, \"55\": {\"55\": 144}, \"51\": {\"51\": 122}, \"42\": {\"42\": 36}, \"41\": {\"41\": 20}, \"31\": {\"31\": 28}, \"16\": {\"16\": 138}, \"36\": {\"36\": 116}, \"49\": {\"49\": 24}, \"0\": {\"0\": 48}, \"18\": {\"18\": 48}, \"25\": {\"25\": 146}, \"9\": {\"9\": 122}, \"47\": {\"47\": 132}, \"7\": {\"7\": 36}, \"37\": {\"37\": 36}, \"13\": {\"13\": 116}, \"14\": {\"14\": 24}, \"34\": {\"34\": 28}, \"57\": {\"57\": 140}, \"11\": {\"11\": 138}, \"39\": {\"39\": 28}, \"12\": {\"12\": 92}, \"28\": {\"28\": 28}, \"29\": {\"29\": 128}, \"43\": {\"43\": 140}}, \"C_5\": {\"12\": {\"12\": 96}, \"8\": {\"8\": 142}, \"29\": {\"29\": 132}, \"57\": {\"57\": 126}, \"38\": {\"38\": 32}, \"23\": {\"23\": 124}, \"56\": {\"56\": 138}, \"49\": {\"49\": 36}, \"4\": {\"4\": 100}, \"48\": {\"48\": 136}, \"21\": {\"21\": 144}, \"30\": {\"30\": 128}, \"1\": {\"1\": 148}, \"34\": {\"34\": 36}, \"35\": {\"35\": 36}, \"55\": {\"55\": 152}, \"5\": {\"5\": 122}, \"52\": {\"52\": 126}, \"6\": {\"6\": 128}, \"36\": {\"36\": 92}, \"41\": {\"41\": 28}, \"3\": {\"3\": 99, \"40\": 1}, \"28\": {\"28\": 32}, \"18\": {\"18\": 64}, \"25\": {\"25\": 136}, \"47\": {\"47\": 100}, \"13\": {\"13\": 160}, \"11\": {\"11\": 143, \"15\": 1}, \"53\": {\"53\": 144}, \"33\": {\"33\": 32}, \"46\": {\"46\": 148}, \"50\": {\"50\": 148}, \"10\": {\"10\": 68}, \"15\": {\"15\": 138}, \"44\": {\"44\": 140}, \"2\": {\"2\": 28}, \"7\": {\"7\": 32}, \"43\": {\"43\": 138}, \"32\": {\"32\": 32}, \"0\": {\"0\": 124}, \"39\": {\"39\": 20}, \"26\": {\"26\": 24}, \"27\": {\"27\": 112}, \"54\": {\"54\": 112}, \"17\": {\"17\": 116}, \"14\": {\"14\": 43, \"29\": 1}, \"16\": {\"16\": 148}, \"9\": {\"9\": 148}, \"19\": {\"19\": 152}, \"20\": {\"20\": 138}, \"37\": {\"37\": 24}, \"24\": {\"24\": 80}, \"40\": {\"40\": 122}, \"45\": {\"45\": 123, \"6\": 1}, \"22\": {\"22\": 28}, \"42\": {\"42\": 38, \"56\": 2}, \"51\": {\"51\": 118}, \"31\": {\"31\": 36}}, \"C_1\": {\"27\": {\"27\": 142}, \"2\": {\"2\": 36}, \"33\": {\"33\": 32}, \"45\": {\"45\": 156}, \"38\": {\"38\": 23, \"21\": 1}, \"4\": {\"4\": 132}, \"31\": {\"31\": 28}, \"55\": {\"55\": 140}, \"32\": {\"32\": 32}, \"57\": {\"57\": 140}, \"14\": {\"14\": 24}, \"16\": {\"16\": 140}, \"34\": {\"34\": 24}, \"56\": {\"56\": 126}, \"24\": {\"24\": 108}, \"30\": {\"30\": 112}, \"17\": {\"17\": 64}, \"13\": {\"13\": 138}, \"39\": {\"39\": 28}, \"50\": {\"50\": 146}, \"20\": {\"20\": 140}, \"41\": {\"41\": 24}, \"53\": {\"53\": 126}, \"48\": {\"48\": 142}, \"36\": {\"36\": 64}, \"8\": {\"8\": 140}, \"15\": {\"15\": 132}, \"40\": {\"40\": 156}, \"37\": {\"37\": 32}, \"21\": {\"21\": 120}, \"35\": {\"35\": 36}, \"49\": {\"49\": 32}, \"26\": {\"26\": 24}, \"28\": {\"28\": 28}, \"12\": {\"12\": 116}, \"5\": {\"5\": 152}, \"29\": {\"29\": 140}, \"47\": {\"47\": 140}, \"10\": {\"10\": 96}, \"18\": {\"18\": 71, \"50\": 1}, \"9\": {\"9\": 126}, \"3\": {\"3\": 140}, \"52\": {\"52\": 132}, \"25\": {\"25\": 136}, \"19\": {\"19\": 156}, \"11\": {\"11\": 134, \"15\": 2}, \"7\": {\"7\": 28}, \"23\": {\"23\": 136}, \"44\": {\"44\": 132}, \"42\": {\"42\": 40}, \"54\": {\"54\": 104}, \"1\": {\"1\": 100}, \"46\": {\"46\": 128}, \"6\": {\"6\": 96}, \"43\": {\"43\": 143, \"39\": 1}, \"51\": {\"51\": 142}, \"22\": {\"22\": 136}, \"0\": {\"0\": 128}}, \"C_4\": {\"32\": {\"32\": 24}, \"2\": {\"2\": 36}, \"41\": {\"41\": 35, \"37\": 1}, \"11\": {\"11\": 102}, \"57\": {\"57\": 100}, \"6\": {\"6\": 112}, \"23\": {\"23\": 136}, \"52\": {\"52\": 116}, \"38\": {\"38\": 40}, \"50\": {\"50\": 132}, \"55\": {\"55\": 152}, \"46\": {\"46\": 154}, \"37\": {\"37\": 24}, \"20\": {\"20\": 118}, \"49\": {\"49\": 20}, \"45\": {\"45\": 96}, \"54\": {\"54\": 108}, \"3\": {\"3\": 123, \"50\": 1}, \"13\": {\"13\": 152}, \"18\": {\"18\": 108}, \"21\": {\"21\": 126}, \"43\": {\"43\": 144}, \"47\": {\"47\": 120}, \"4\": {\"4\": 132}, \"12\": {\"12\": 92}, \"9\": {\"9\": 128}, \"7\": {\"7\": 24}, \"56\": {\"56\": 112}, \"28\": {\"28\": 32}, \"44\": {\"44\": 132}, \"24\": {\"24\": 56}, \"33\": {\"33\": 36}, \"35\": {\"35\": 40}, \"51\": {\"51\": 138}, \"39\": {\"39\": 20}, \"36\": {\"36\": 91, \"23\": 1}, \"19\": {\"19\": 140}, \"0\": {\"0\": 80}, \"15\": {\"15\": 135, \"11\": 1}, \"29\": {\"29\": 124}, \"30\": {\"30\": 44}, \"1\": {\"1\": 40}, \"22\": {\"22\": 128}, \"40\": {\"40\": 146}, \"8\": {\"8\": 128}, \"53\": {\"53\": 138}, \"34\": {\"34\": 24}, \"10\": {\"10\": 122}, \"31\": {\"31\": 28}, \"17\": {\"17\": 80}, \"16\": {\"16\": 96}, \"42\": {\"42\": 32}, \"27\": {\"27\": 142}, \"14\": {\"14\": 16}, \"25\": {\"25\": 122}, \"48\": {\"48\": 132}, \"26\": {\"26\": 24}, \"5\": {\"5\": 108}}, \"C_3\": {\"14\": {\"14\": 40}, \"18\": {\"18\": 84}, \"30\": {\"30\": 120}, \"16\": {\"16\": 156}, \"1\": {\"1\": 100}, \"20\": {\"20\": 132}, \"7\": {\"7\": 36}, \"52\": {\"52\": 130}, \"9\": {\"9\": 140}, \"23\": {\"23\": 144}, \"55\": {\"55\": 164}, \"29\": {\"29\": 126}, \"56\": {\"56\": 134}, \"3\": {\"3\": 123, \"6\": 1}, \"42\": {\"42\": 28}, \"6\": {\"6\": 88}, \"5\": {\"5\": 116}, \"27\": {\"27\": 144}, \"47\": {\"47\": 92}, \"39\": {\"39\": 16}, \"34\": {\"34\": 32}, \"4\": {\"4\": 126}, \"24\": {\"24\": 104}, \"46\": {\"46\": 118}, \"50\": {\"50\": 124, \"3\": 1, \"6\": 1}, \"38\": {\"38\": 28}, \"54\": {\"54\": 100}, \"35\": {\"35\": 28}, \"2\": {\"2\": 32}, \"41\": {\"41\": 28}, \"57\": {\"57\": 118}, \"25\": {\"25\": 150}, \"48\": {\"48\": 116}, \"33\": {\"33\": 28}, \"45\": {\"45\": 60}, \"13\": {\"13\": 126}, \"36\": {\"36\": 100}, \"43\": {\"43\": 132}, \"28\": {\"28\": 28}, \"0\": {\"0\": 124}, \"12\": {\"12\": 92}, \"31\": {\"31\": 28}, \"40\": {\"40\": 116}, \"44\": {\"44\": 88}, \"32\": {\"32\": 28}, \"26\": {\"26\": 24}, \"8\": {\"8\": 116}, \"10\": {\"10\": 64}, \"15\": {\"15\": 142}, \"21\": {\"21\": 128}, \"37\": {\"37\": 28}, \"17\": {\"17\": 108}, \"51\": {\"51\": 124}, \"53\": {\"53\": 144}, \"19\": {\"19\": 136}, \"49\": {\"49\": 20}, \"11\": {\"11\": 138}, \"22\": {\"22\": 130}}, \"O_8\": {\"13\": {\"13\": 71, \"7\": 48, \"10\": 50, \"6\": 23, \"1\": 18, \"5\": 22, \"15\": 2, \"11\": 3, \"12\": 1, \"4\": 2}, \"9\": {\"9\": 192, \"3\": 44, \"2\": 4}, \"15\": {\"15\": 96, \"2\": 46, \"12\": 91, \"3\": 7}, \"2\": {\"15\": 63, \"2\": 83, \"12\": 45, \"10\": 1, \"3\": 45, \"9\": 1, \"13\": 1, \"7\": 1}, \"3\": {\"3\": 180, \"9\": 35, \"2\": 24, \"15\": 1}, \"8\": {\"4\": 51, \"14\": 34, \"8\": 62, \"11\": 27, \"1\": 16, \"6\": 24, \"5\": 4, \"7\": 17, \"10\": 2, \"13\": 3}, \"5\": {\"11\": 22, \"13\": 32, \"10\": 57, \"5\": 66, \"1\": 26, \"12\": 4, \"6\": 13, \"7\": 10, \"4\": 7, \"15\": 2, \"8\": 1}, \"14\": {\"11\": 8, \"14\": 143, \"0\": 3, \"4\": 54, \"8\": 29, \"1\": 1, \"6\": 2}, \"1\": {\"11\": 44, \"13\": 11, \"10\": 28, \"6\": 19, \"1\": 72, \"5\": 28, \"8\": 7, \"7\": 19, \"4\": 12}, \"0\": {\"0\": 239, \"14\": 1}, \"10\": {\"5\": 29, \"7\": 45, \"1\": 36, \"13\": 43, \"6\": 31, \"10\": 35, \"4\": 5, \"11\": 13, \"8\": 3}, \"6\": {\"13\": 17, \"6\": 53, \"7\": 62, \"8\": 18, \"1\": 16, \"10\": 20, \"5\": 8, \"4\": 33, \"14\": 1, \"11\": 12}, \"11\": {\"1\": 56, \"4\": 17, \"5\": 19, \"7\": 14, \"14\": 10, \"10\": 13, \"11\": 69, \"8\": 25, \"13\": 5, \"6\": 12}, \"7\": {\"4\": 13, \"13\": 28, \"6\": 59, \"10\": 33, \"1\": 15, \"5\": 12, \"8\": 4, \"7\": 67, \"11\": 9}, \"4\": {\"8\": 48, \"14\": 54, \"6\": 26, \"7\": 10, \"4\": 77, \"11\": 17, \"1\": 4, \"5\": 2, \"10\": 1, \"13\": 1}, \"12\": {\"2\": 34, \"15\": 83, \"12\": 119, \"13\": 1, \"3\": 3}}, \"O_38\": {\"13\": {\"14\": 24, \"0\": 55, \"7\": 14, \"2\": 10, \"10\": 21, \"13\": 105, \"4\": 11}, \"12\": {\"12\": 135, \"2\": 8, \"8\": 38, \"5\": 32, \"7\": 9, \"9\": 4, \"14\": 9, \"15\": 5}, \"2\": {\"8\": 22, \"2\": 78, \"7\": 52, \"0\": 3, \"14\": 43, \"9\": 16, \"5\": 16, \"13\": 6, \"12\": 4}, \"9\": {\"5\": 46, \"8\": 56, \"9\": 98, \"7\": 13, \"2\": 23, \"13\": 2, \"15\": 1, \"14\": 1}, \"15\": {\"6\": 12, \"15\": 167, \"9\": 5, \"1\": 7, \"5\": 23, \"8\": 19, \"12\": 7}, \"5\": {\"12\": 10, \"7\": 18, \"13\": 3, \"5\": 59, \"9\": 40, \"15\": 44, \"2\": 19, \"8\": 43, \"14\": 4}, \"14\": {\"14\": 103, \"7\": 58, \"0\": 13, \"4\": 5, \"2\": 34, \"13\": 16, \"12\": 1, \"10\": 2, \"8\": 6, \"5\": 2}, \"0\": {\"7\": 13, \"10\": 70, \"0\": 47, \"13\": 56, \"3\": 16, \"14\": 10, \"2\": 8, \"4\": 20}, \"3\": {\"3\": 216, \"11\": 11, \"10\": 11, \"0\": 2}, \"1\": {\"1\": 124, \"6\": 110, \"15\": 6}, \"11\": {\"11\": 235, \"3\": 5}, \"7\": {\"13\": 31, \"7\": 75, \"2\": 65, \"0\": 13, \"14\": 42, \"9\": 6, \"8\": 4, \"5\": 4}, \"8\": {\"14\": 6, \"8\": 42, \"12\": 19, \"2\": 29, \"9\": 29, \"15\": 33, \"7\": 28, \"5\": 51, \"13\": 3}, \"4\": {\"4\": 175, \"10\": 44, \"13\": 4, \"0\": 16, \"14\": 1}, \"10\": {\"10\": 128, \"13\": 10, \"0\": 54, \"3\": 14, \"4\": 34}, \"6\": {\"6\": 121, \"1\": 110, \"15\": 9}}, \"O_26\": {\"10\": {\"0\": 33, \"11\": 2, \"1\": 18, \"5\": 21, \"6\": 31, \"10\": 48, \"14\": 40, \"8\": 4, \"15\": 27, \"9\": 3, \"2\": 9, \"7\": 1, \"12\": 3}, \"12\": {\"9\": 40, \"2\": 16, \"7\": 21, \"12\": 94, \"8\": 28, \"13\": 18, \"0\": 7, \"3\": 10, \"10\": 1, \"6\": 1, \"4\": 3, \"15\": 1}, \"1\": {\"5\": 25, \"10\": 22, \"6\": 28, \"14\": 23, \"1\": 88, \"15\": 18, \"0\": 5, \"11\": 31}, \"0\": {\"2\": 19, \"1\": 13, \"7\": 10, \"0\": 49, \"8\": 18, \"14\": 40, \"9\": 9, \"10\": 40, \"6\": 15, \"5\": 8, \"15\": 11, \"12\": 7, \"3\": 1}, \"15\": {\"10\": 30, \"5\": 39, \"0\": 24, \"2\": 12, \"6\": 24, \"11\": 6, \"1\": 37, \"14\": 21, \"15\": 41, \"8\": 4, \"9\": 1, \"7\": 1}, \"13\": {\"2\": 21, \"7\": 18, \"4\": 26, \"13\": 88, \"3\": 47, \"9\": 18, \"8\": 14, \"12\": 8}, \"8\": {\"2\": 34, \"14\": 7, \"9\": 43, \"8\": 35, \"0\": 22, \"13\": 6, \"7\": 41, \"3\": 15, \"12\": 31, \"6\": 1, \"15\": 2, \"10\": 3}, \"3\": {\"7\": 38, \"13\": 53, \"4\": 17, \"2\": 27, \"8\": 26, \"3\": 45, \"12\": 9, \"9\": 22, \"0\": 3}, \"11\": {\"1\": 50, \"5\": 38, \"11\": 67, \"6\": 42, \"14\": 11, \"15\": 23, \"0\": 2, \"7\": 1, \"10\": 5, \"2\": 1}, \"4\": {\"12\": 3, \"4\": 142, \"8\": 9, \"7\": 10, \"3\": 35, \"13\": 36, \"9\": 5}, \"6\": {\"15\": 34, \"1\": 48, \"6\": 44, \"5\": 30, \"10\": 24, \"11\": 25, \"0\": 13, \"14\": 20, \"8\": 1, \"7\": 1}, \"7\": {\"8\": 36, \"7\": 54, \"0\": 18, \"9\": 29, \"2\": 29, \"3\": 24, \"10\": 5, \"13\": 18, \"14\": 2, \"12\": 21, \"4\": 4}, \"14\": {\"14\": 53, \"10\": 39, \"11\": 4, \"8\": 2, \"0\": 36, \"15\": 22, \"1\": 42, \"5\": 13, \"6\": 26, \"2\": 2, \"7\": 1}, \"2\": {\"8\": 30, \"0\": 31, \"9\": 33, \"2\": 44, \"13\": 10, \"15\": 12, \"7\": 32, \"12\": 18, \"3\": 18, \"10\": 6, \"5\": 1, \"6\": 1, \"14\": 2, \"4\": 1, \"1\": 1}, \"5\": {\"1\": 30, \"10\": 16, \"0\": 7, \"5\": 46, \"15\": 60, \"6\": 39, \"11\": 23, \"8\": 2, \"14\": 14, \"9\": 2, \"2\": 1}, \"9\": {\"0\": 15, \"13\": 34, \"2\": 46, \"9\": 36, \"3\": 23, \"7\": 18, \"12\": 22, \"8\": 30, \"14\": 4, \"4\": 6, \"15\": 1, \"10\": 4, \"6\": 1}}, \"O_20\": {\"5\": {\"3\": 30, \"9\": 24, \"8\": 29, \"15\": 17, \"14\": 25, \"1\": 44, \"5\": 39, \"7\": 9, \"2\": 7, \"6\": 8, \"12\": 4, \"0\": 1, \"11\": 1, \"4\": 2}, \"15\": {\"13\": 41, \"15\": 32, \"12\": 23, \"5\": 10, \"1\": 11, \"4\": 14, \"7\": 21, \"8\": 4, \"2\": 26, \"14\": 9, \"9\": 19, \"6\": 16, \"10\": 3, \"3\": 11}, \"9\": {\"1\": 26, \"15\": 18, \"14\": 27, \"3\": 22, \"12\": 16, \"9\": 20, \"5\": 27, \"6\": 13, \"7\": 24, \"8\": 17, \"2\": 16, \"13\": 6, \"0\": 2, \"4\": 5, \"10\": 1}, \"7\": {\"3\": 23, \"14\": 19, \"2\": 28, \"9\": 19, \"1\": 18, \"4\": 13, \"13\": 16, \"15\": 26, \"7\": 21, \"6\": 16, \"12\": 30, \"5\": 6, \"8\": 3, \"10\": 2}, \"3\": {\"14\": 37, \"1\": 29, \"8\": 39, \"12\": 9, \"9\": 16, \"3\": 33, \"15\": 11, \"7\": 9, \"5\": 30, \"0\": 8, \"4\": 2, \"6\": 10, \"13\": 3, \"2\": 3, \"11\": 1}, \"8\": {\"1\": 18, \"9\": 13, \"14\": 49, \"8\": 48, \"3\": 31, \"5\": 43, \"0\": 20, \"11\": 7, \"7\": 7, \"15\": 2, \"4\": 1, \"6\": 1}, \"4\": {\"12\": 30, \"7\": 18, \"6\": 20, \"15\": 22, \"1\": 11, \"3\": 5, \"4\": 43, \"2\": 21, \"9\": 10, \"13\": 23, \"5\": 11, \"10\": 17, \"14\": 8, \"8\": 1}, \"6\": {\"12\": 22, \"3\": 13, \"13\": 14, \"9\": 21, \"1\": 16, \"14\": 25, \"6\": 31, \"4\": 23, \"2\": 24, \"8\": 6, \"7\": 22, \"15\": 17, \"10\": 1, \"5\": 5}, \"2\": {\"6\": 29, \"7\": 24, \"14\": 5, \"1\": 5, \"9\": 14, \"2\": 25, \"4\": 26, \"13\": 36, \"10\": 5, \"15\": 29, \"12\": 31, \"8\": 2, \"5\": 4, \"3\": 5}, \"12\": {\"13\": 23, \"7\": 19, \"12\": 33, \"6\": 21, \"4\": 16, \"9\": 20, \"5\": 9, \"2\": 31, \"15\": 35, \"3\": 5, \"10\": 8, \"1\": 11, \"8\": 2, \"14\": 7}, \"0\": {\"14\": 14, \"0\": 110, \"11\": 53, \"5\": 14, \"8\": 28, \"3\": 12, \"15\": 2, \"1\": 5, \"9\": 2}, \"13\": {\"13\": 87, \"6\": 13, \"2\": 42, \"9\": 6, \"10\": 29, \"12\": 27, \"7\": 10, \"15\": 17, \"4\": 9}, \"10\": {\"10\": 86, \"4\": 38, \"2\": 25, \"13\": 40, \"6\": 17, \"12\": 11, \"7\": 7, \"15\": 9, \"5\": 1, \"9\": 3, \"3\": 1, \"1\": 1, \"14\": 1}, \"11\": {\"0\": 57, \"11\": 160, \"8\": 10, \"5\": 2, \"14\": 6, \"3\": 3, \"9\": 1, \"1\": 1}, \"14\": {\"3\": 29, \"8\": 48, \"9\": 22, \"7\": 11, \"6\": 6, \"1\": 17, \"14\": 61, \"15\": 4, \"5\": 23, \"2\": 2, \"0\": 10, \"11\": 3, \"4\": 1, \"12\": 3}, \"1\": {\"5\": 17, \"15\": 29, \"14\": 23, \"1\": 28, \"4\": 12, \"3\": 27, \"12\": 21, \"2\": 13, \"9\": 26, \"7\": 15, \"13\": 2, \"8\": 20, \"6\": 6, \"11\": 1}}, \"O_50\": {\"1\": {\"8\": 49, \"13\": 81, \"1\": 74, \"10\": 17, \"11\": 10, \"12\": 6, \"0\": 1, \"3\": 2}, \"2\": {\"14\": 67, \"2\": 109, \"0\": 56, \"10\": 8}, \"8\": {\"8\": 91, \"10\": 64, \"1\": 66, \"13\": 15, \"0\": 4}, \"7\": {\"7\": 104, \"5\": 33, \"4\": 95, \"15\": 5, \"9\": 1, \"6\": 2}, \"14\": {\"14\": 92, \"2\": 84, \"0\": 54, \"8\": 1, \"10\": 9}, \"6\": {\"3\": 39, \"6\": 53, \"9\": 38, \"5\": 28, \"15\": 46, \"11\": 26, \"12\": 4, \"4\": 3, \"7\": 2, \"13\": 1}, \"3\": {\"3\": 88, \"15\": 19, \"5\": 21, \"13\": 24, \"11\": 27, \"9\": 14, \"12\": 11, \"6\": 34, \"1\": 2}, \"4\": {\"15\": 15, \"4\": 97, \"7\": 99, \"5\": 24, \"6\": 3, \"9\": 2}, \"12\": {\"12\": 96, \"15\": 13, \"11\": 49, \"9\": 43, \"6\": 11, \"3\": 6, \"1\": 4, \"13\": 17, \"5\": 1}, \"15\": {\"5\": 42, \"6\": 41, \"15\": 51, \"11\": 18, \"9\": 37, \"12\": 10, \"4\": 11, \"3\": 20, \"7\": 9, \"13\": 1}, \"11\": {\"12\": 34, \"15\": 28, \"1\": 5, \"11\": 84, \"13\": 24, \"9\": 22, \"3\": 22, \"6\": 11, \"5\": 10}, \"0\": {\"2\": 51, \"0\": 82, \"10\": 44, \"8\": 14, \"14\": 49}, \"9\": {\"12\": 37, \"11\": 31, \"1\": 1, \"15\": 35, \"5\": 20, \"6\": 40, \"9\": 57, \"3\": 7, \"4\": 8, \"7\": 4}, \"10\": {\"8\": 52, \"10\": 109, \"0\": 48, \"1\": 25, \"13\": 1, \"2\": 4, \"14\": 1}, \"5\": {\"11\": 8, \"13\": 13, \"3\": 13, \"4\": 48, \"7\": 44, \"6\": 14, \"5\": 67, \"15\": 25, \"9\": 6, \"12\": 2}, \"13\": {\"13\": 128, \"1\": 46, \"3\": 18, \"8\": 11, \"11\": 30, \"5\": 2, \"15\": 2, \"12\": 1, \"6\": 2}}, \"O_32\": {\"2\": {\"2\": 65, \"4\": 58, \"13\": 26, \"3\": 40, \"0\": 6, \"8\": 11, \"14\": 18, \"1\": 5, \"7\": 3, \"9\": 5, \"11\": 1, \"5\": 2}, \"6\": {\"6\": 214, \"10\": 24, \"11\": 1, \"12\": 1}, \"5\": {\"5\": 61, \"0\": 37, \"7\": 45, \"15\": 38, \"8\": 33, \"2\": 2, \"14\": 24}, \"12\": {\"12\": 125, \"10\": 61, \"13\": 2, \"9\": 39, \"11\": 12, \"3\": 1}, \"13\": {\"13\": 71, \"3\": 44, \"9\": 44, \"4\": 40, \"2\": 22, \"11\": 15, \"1\": 1, \"8\": 2, \"12\": 1}, \"9\": {\"1\": 4, \"9\": 76, \"11\": 37, \"12\": 30, \"13\": 46, \"3\": 19, \"2\": 6, \"10\": 11, \"6\": 1, \"4\": 10}, \"11\": {\"11\": 136, \"13\": 34, \"9\": 38, \"12\": 20, \"4\": 4, \"3\": 7, \"2\": 1}, \"1\": {\"1\": 184, \"13\": 4, \"4\": 12, \"14\": 4, \"3\": 7, \"2\": 10, \"9\": 5, \"7\": 2, \"8\": 7, \"0\": 4, \"5\": 1}, \"3\": {\"14\": 11, \"2\": 37, \"3\": 66, \"13\": 46, \"9\": 11, \"4\": 56, \"8\": 8, \"11\": 2, \"1\": 1, \"0\": 2}, \"7\": {\"0\": 46, \"5\": 54, \"15\": 11, \"8\": 31, \"7\": 53, \"14\": 38, \"4\": 2, \"2\": 5}, \"14\": {\"14\": 52, \"4\": 16, \"2\": 31, \"5\": 33, \"8\": 37, \"0\": 31, \"7\": 33, \"1\": 1, \"13\": 1, \"15\": 2, \"3\": 3}, \"8\": {\"7\": 32, \"8\": 58, \"5\": 37, \"2\": 12, \"0\": 56, \"1\": 2, \"14\": 27, \"15\": 8, \"4\": 6, \"3\": 2}, \"4\": {\"4\": 62, \"14\": 11, \"13\": 36, \"3\": 37, \"8\": 5, \"2\": 57, \"9\": 13, \"7\": 2, \"11\": 7, \"5\": 1, \"0\": 4, \"1\": 5}, \"0\": {\"5\": 51, \"7\": 28, \"8\": 43, \"0\": 52, \"15\": 16, \"4\": 3, \"14\": 33, \"2\": 11, \"1\": 3}, \"10\": {\"10\": 173, \"12\": 52, \"6\": 15}, \"15\": {\"15\": 198, \"5\": 24, \"0\": 5, \"8\": 4, \"7\": 8, \"14\": 1}}, \"O_44\": {\"13\": {\"6\": 93, \"13\": 121, \"7\": 3, \"11\": 10, \"9\": 13}, \"4\": {\"4\": 31, \"14\": 29, \"10\": 33, \"9\": 39, \"8\": 7, \"6\": 9, \"7\": 36, \"5\": 21, \"15\": 20, \"1\": 2, \"2\": 11, \"0\": 1, \"13\": 1}, \"6\": {\"13\": 80, \"6\": 124, \"9\": 27, \"7\": 8, \"4\": 1}, \"0\": {\"8\": 50, \"0\": 123, \"3\": 11, \"1\": 30, \"2\": 6, \"12\": 9, \"15\": 11}, \"10\": {\"14\": 23, \"7\": 54, \"5\": 21, \"9\": 36, \"4\": 36, \"10\": 43, \"6\": 8, \"15\": 7, \"2\": 10, \"8\": 1, \"13\": 1}, \"7\": {\"7\": 63, \"6\": 14, \"5\": 18, \"4\": 21, \"9\": 68, \"10\": 38, \"14\": 12, \"13\": 3, \"2\": 1, \"15\": 2}, \"14\": {\"14\": 52, \"4\": 43, \"15\": 31, \"5\": 36, \"7\": 17, \"2\": 15, \"10\": 31, \"8\": 6, \"1\": 2, \"9\": 7}, \"15\": {\"2\": 24, \"15\": 67, \"1\": 28, \"8\": 46, \"14\": 26, \"4\": 6, \"5\": 26, \"0\": 10, \"10\": 4, \"9\": 1, \"7\": 2}, \"5\": {\"7\": 24, \"9\": 6, \"14\": 53, \"15\": 39, \"2\": 19, \"10\": 19, \"5\": 42, \"4\": 27, \"1\": 2, \"8\": 8, \"0\": 1}, \"2\": {\"7\": 6, \"5\": 16, \"1\": 42, \"15\": 48, \"2\": 60, \"14\": 22, \"9\": 4, \"8\": 12, \"10\": 19, \"4\": 11}, \"9\": {\"7\": 45, \"4\": 22, \"13\": 32, \"9\": 43, \"5\": 17, \"6\": 34, \"10\": 20, \"14\": 16, \"2\": 7, \"15\": 4}, \"12\": {\"3\": 117, \"12\": 97, \"0\": 21, \"8\": 4, \"1\": 1}, \"8\": {\"2\": 12, \"1\": 41, \"8\": 59, \"0\": 60, \"14\": 7, \"3\": 9, \"5\": 8, \"15\": 35, \"12\": 8, \"4\": 1}, \"3\": {\"3\": 112, \"12\": 96, \"0\": 30, \"8\": 2}, \"1\": {\"2\": 40, \"1\": 65, \"8\": 48, \"0\": 37, \"15\": 37, \"14\": 3, \"5\": 4, \"12\": 1, \"4\": 1, \"10\": 3, \"3\": 1}, \"11\": {\"11\": 238, \"13\": 2}}, \"O_14\": {\"1\": {\"10\": 11, \"1\": 168, \"4\": 13, \"9\": 48}, \"15\": {\"15\": 238, \"13\": 1, \"6\": 1}, \"10\": {\"10\": 110, \"4\": 57, \"9\": 41, \"12\": 7, \"5\": 12, \"2\": 9, \"0\": 1, \"1\": 3}, \"2\": {\"14\": 26, \"3\": 18, \"12\": 13, \"5\": 38, \"10\": 10, \"2\": 43, \"0\": 17, \"7\": 14, \"8\": 12, \"4\": 23, \"6\": 15, \"13\": 11}, \"9\": {\"9\": 165, \"1\": 26, \"12\": 1, \"10\": 39, \"4\": 9}, \"5\": {\"5\": 58, \"12\": 10, \"0\": 7, \"14\": 25, \"8\": 38, \"2\": 38, \"4\": 16, \"7\": 29, \"6\": 5, \"3\": 7, \"13\": 6, \"10\": 1}, \"7\": {\"7\": 87, \"2\": 17, \"14\": 13, \"8\": 43, \"13\": 8, \"6\": 12, \"3\": 18, \"5\": 25, \"4\": 2, \"0\": 13, \"12\": 2}, \"13\": {\"0\": 15, \"3\": 26, \"6\": 64, \"13\": 50, \"8\": 1, \"2\": 11, \"12\": 8, \"5\": 13, \"4\": 2, \"7\": 3, \"14\": 28, \"15\": 18, \"10\": 1}, \"8\": {\"5\": 38, \"8\": 86, \"2\": 12, \"7\": 35, \"12\": 28, \"4\": 22, \"0\": 6, \"3\": 3, \"10\": 4, \"9\": 1, \"13\": 1, \"14\": 4}, \"6\": {\"13\": 65, \"6\": 82, \"3\": 47, \"14\": 18, \"0\": 15, \"15\": 2, \"2\": 5, \"7\": 2, \"5\": 4}, \"3\": {\"5\": 5, \"14\": 34, \"0\": 47, \"8\": 2, \"6\": 39, \"13\": 20, \"7\": 14, \"2\": 11, \"3\": 64, \"12\": 4}, \"12\": {\"12\": 136, \"2\": 14, \"0\": 22, \"7\": 1, \"14\": 6, \"5\": 16, \"8\": 21, \"4\": 10, \"10\": 7, \"9\": 6, \"13\": 1}, \"0\": {\"13\": 15, \"14\": 41, \"12\": 34, \"2\": 19, \"5\": 13, \"6\": 19, \"0\": 55, \"8\": 12, \"3\": 24, \"10\": 2, \"7\": 4, \"4\": 2}, \"4\": {\"4\": 109, \"5\": 39, \"10\": 42, \"12\": 4, \"8\": 12, \"7\": 6, \"9\": 6, \"2\": 15, \"1\": 3, \"14\": 2, \"3\": 2}, \"14\": {\"3\": 39, \"13\": 24, \"14\": 50, \"0\": 43, \"7\": 7, \"6\": 28, \"5\": 15, \"8\": 4, \"2\": 15, \"12\": 15}, \"11\": {\"11\": 234, \"1\": 3, \"9\": 3}}}, \"per_domain_accuracy\": {\"C_2\": {\"accuracy\": 0.9996448863636364, \"source?\": true}, \"C_5\": {\"accuracy\": 0.9989466292134831, \"source?\": true}, \"C_1\": {\"accuracy\": 0.9991414835164835, \"source?\": true}, \"C_4\": {\"accuracy\": 0.999251497005988, \"source?\": true}, \"C_3\": {\"accuracy\": 0.9994517543859649, \"source?\": true}, \"O_8\": {\"accuracy\": 0.42291666666666666, \"source?\": false}, \"O_38\": {\"accuracy\": 0.496875, \"source?\": false}, \"O_26\": {\"accuracy\": 0.25364583333333335, \"source?\": false}, \"O_20\": {\"accuracy\": 0.22317708333333333, \"source?\": false}, \"O_50\": {\"accuracy\": 0.35989583333333336, \"source?\": false}, \"O_32\": {\"accuracy\": 0.42864583333333334, \"source?\": false}, \"O_44\": {\"accuracy\": 0.3489583333333333, \"source?\": false}, \"O_14\": {\"accuracy\": 0.4518229166666667, \"source?\": false}}}, \"history\": {\"epoch_indices\": [1, 2, 3, 4, 5, 6, 7, 8, 9], \"train_label_loss\": [0.06368584550200927, 0.019932782723013905, 0.009879903898779754, 0.0073640849237439614, 0.006043322776007376, 0.00460574129032612, 0.004403166478915567, 0.003628938099012708, 0.0031235364405369044], \"source_val_label_loss\": [0.020415695384144783, 0.017643140628933907, 0.016423838213086128, 0.011693309992551804, 0.00960505474358797, 0.013423600234091282, 0.011536544188857079, 0.008910822682082653, 0.011068195104598999], \"target_val_label_loss\": [2.1319451332092285, 1.9378464221954346, 1.9771740436553955, 2.081124782562256, 1.7699826955795288, 1.870100736618042, 1.824231505393982, 1.9118735790252686, 1.9574987888336182], \"source_val_acc_label\": [0.995387585812357, 0.9977116704805492, 0.9984267734553776, 0.9988200800915332, 0.9992848970251716, 0.9992848970251716, 0.9991061212814645, 0.9992848970251716, 0.9991061212814645], \"target_val_acc_label\": [0.2762369791666667, 0.3133463541666667, 0.30576171875, 0.2966796875, 0.3732421875, 0.33518880208333335, 0.35442708333333334, 0.3353515625, 0.3294270833333333]}, \"dataset_metrics\": {\"source\": {\"train\": {\"n_unique_x\": 175191, \"n_unique_y\": 58, \"n_batch/episode\": 6296}, \"val\": {\"n_unique_x\": 37135, \"n_unique_y\": 58, \"n_batch/episode\": 874}, \"test\": {\"n_unique_x\": 37673, \"n_unique_y\": 58, \"n_batch/episode\": 893}}, \"target\": {\"train\": {\"n_unique_x\": 179200, \"n_unique_y\": 16, \"n_batch/episode\": 6720}, \"val\": {\"n_unique_x\": 38400, \"n_unique_y\": 16, \"n_batch/episode\": 960}, \"test\": {\"n_unique_x\": 38400, \"n_unique_y\": 16, \"n_batch/episode\": 960}}}}'"
      ]
     },
     "execution_count": 29,
     "metadata": {},
     "output_type": "execute_result"
    }
   ],
   "source": [
    "json.dumps(experiment)"
   ]
  }
 ],
 "metadata": {
  "celltoolbar": "Tags",
  "kernelspec": {
   "display_name": "Python 3 (ipykernel)",
   "language": "python",
   "name": "python3"
  },
  "language_info": {
   "codemirror_mode": {
    "name": "ipython",
    "version": 3
   },
   "file_extension": ".py",
   "mimetype": "text/x-python",
   "name": "python",
   "nbconvert_exporter": "python",
   "pygments_lexer": "ipython3",
   "version": "3.8.12"
  },
  "papermill": {
   "default_parameters": {},
   "duration": 1534.655284,
   "end_time": "2022-03-28T08:24:47.657187",
   "environment_variables": {},
   "exception": null,
   "input_path": "/root/csc500-main/csc500-notebooks/templates/tl_ptn_template.ipynb",
   "output_path": "trial.ipynb",
   "parameters": {
    "parameters": {
     "BEST_MODEL_PATH": "./best_model.pth",
     "NUM_LOGS_PER_EPOCH": 10,
     "criteria_for_best": "target_accuracy",
     "dataset_seed": 154325,
     "datasets": [
      {
       "domain_prefix": "C_",
       "domains": [
        1,
        2,
        3,
        4,
        5
       ],
       "episode_transforms": [],
       "labels": [
        "1-10.",
        "1-11.",
        "1-15.",
        "1-16.",
        "1-17.",
        "1-18.",
        "1-19.",
        "10-4.",
        "10-7.",
        "11-1.",
        "11-14.",
        "11-17.",
        "11-20.",
        "11-7.",
        "13-20.",
        "13-8.",
        "14-10.",
        "14-11.",
        "14-14.",
        "14-7.",
        "15-1.",
        "15-20.",
        "16-1.",
        "16-16.",
        "17-10.",
        "17-11.",
        "17-2.",
        "19-1.",
        "19-16.",
        "19-19.",
        "19-20.",
        "19-3.",
        "2-10.",
        "2-11.",
        "2-17.",
        "2-18.",
        "2-20.",
        "2-3.",
        "2-4.",
        "2-5.",
        "2-6.",
        "2-7.",
        "2-8.",
        "3-13.",
        "3-18.",
        "3-3.",
        "4-1.",
        "4-10.",
        "4-11.",
        "4-19.",
        "5-5.",
        "6-15.",
        "7-10.",
        "7-14.",
        "8-18.",
        "8-20.",
        "8-3.",
        "8-8."
       ],
       "num_examples_per_domain_per_label": -1,
       "pickle_path": "/root/csc500-main/datasets/cores.stratified_ds.2022A.pkl",
       "source_or_target_dataset": "source",
       "x_transforms": [
        "jitter_256_10",
        "lowpass_+/-10MHz",
        "take_200"
       ]
      },
      {
       "domain_prefix": "O_",
       "domains": [
        32,
        38,
        8,
        44,
        14,
        50,
        20,
        26
       ],
       "episode_transforms": [],
       "labels": [
        "3123D52",
        "3123D65",
        "3123D79",
        "3123D80",
        "3123D54",
        "3123D70",
        "3123D7B",
        "3123D89",
        "3123D58",
        "3123D76",
        "3123D7D",
        "3123EFE",
        "3123D64",
        "3123D78",
        "3123D7E",
        "3124E4A"
       ],
       "num_examples_per_domain_per_label": 2000,
       "pickle_path": "/root/csc500-main/datasets/oracle.Run1_framed_2000Examples_stratified_ds.2022A.pkl",
       "source_or_target_dataset": "target",
       "x_transforms": [
        "jitter_256_10",
        "take_200",
        "resample_20Msps_to_25Msps"
       ]
      }
     ],
     "device": "cuda",
     "experiment_name": "tl_3-jitter10v2:cores -> oracle.run1.framed",
     "lr": 0.0001,
     "n_epoch": 50,
     "n_query": 2,
     "n_shot": 3,
     "n_way": 16,
     "patience": 3,
     "seed": 154325,
     "test_k_factor": 2,
     "torch_default_dtype": "torch.float32",
     "train_k_factor": 3,
     "val_k_factor": 2,
     "x_net": [
      {
       "class": "nnReshape",
       "kargs": {
        "shape": [
         -1,
         1,
         2,
         256
        ]
       }
      },
      {
       "class": "Conv2d",
       "kargs": {
        "bias": false,
        "in_channels": 1,
        "kernel_size": [
         1,
         7
        ],
        "out_channels": 256,
        "padding": [
         0,
         3
        ]
       }
      },
      {
       "class": "ReLU",
       "kargs": {
        "inplace": true
       }
      },
      {
       "class": "BatchNorm2d",
       "kargs": {
        "num_features": 256
       }
      },
      {
       "class": "Conv2d",
       "kargs": {
        "bias": true,
        "in_channels": 256,
        "kernel_size": [
         2,
         7
        ],
        "out_channels": 80,
        "padding": [
         0,
         3
        ]
       }
      },
      {
       "class": "ReLU",
       "kargs": {
        "inplace": true
       }
      },
      {
       "class": "BatchNorm2d",
       "kargs": {
        "num_features": 80
       }
      },
      {
       "class": "Flatten",
       "kargs": {}
      },
      {
       "class": "Linear",
       "kargs": {
        "in_features": 20480,
        "out_features": 256
       }
      },
      {
       "class": "ReLU",
       "kargs": {
        "inplace": true
       }
      },
      {
       "class": "BatchNorm1d",
       "kargs": {
        "num_features": 256
       }
      },
      {
       "class": "Linear",
       "kargs": {
        "in_features": 256,
        "out_features": 256
       }
      }
     ],
     "x_shape": [
      2,
      256
     ]
    }
   },
   "start_time": "2022-03-28T07:59:13.001903",
   "version": "2.3.4"
  }
 },
 "nbformat": 4,
 "nbformat_minor": 5
}