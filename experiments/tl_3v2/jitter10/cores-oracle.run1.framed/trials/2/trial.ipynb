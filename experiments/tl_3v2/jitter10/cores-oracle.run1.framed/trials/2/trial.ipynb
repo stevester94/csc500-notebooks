{
 "cells": [
  {
   "cell_type": "markdown",
   "id": "9fea5f46",
   "metadata": {
    "papermill": {
     "duration": 0.028934,
     "end_time": "2022-03-28T06:52:18.494971",
     "exception": false,
     "start_time": "2022-03-28T06:52:18.466037",
     "status": "completed"
    },
    "tags": []
   },
   "source": [
    "# Transfer Learning Template"
   ]
  },
  {
   "cell_type": "code",
   "execution_count": 1,
   "id": "0902182a",
   "metadata": {
    "execution": {
     "iopub.execute_input": "2022-03-28T06:52:18.559050Z",
     "iopub.status.busy": "2022-03-28T06:52:18.555291Z",
     "iopub.status.idle": "2022-03-28T06:52:20.411552Z",
     "shell.execute_reply": "2022-03-28T06:52:20.411175Z"
    },
    "papermill": {
     "duration": 1.894318,
     "end_time": "2022-03-28T06:52:20.411638",
     "exception": false,
     "start_time": "2022-03-28T06:52:18.517320",
     "status": "completed"
    },
    "tags": []
   },
   "outputs": [],
   "source": [
    "%load_ext autoreload\n",
    "%autoreload 2\n",
    "%matplotlib inline\n",
    "\n",
    "    \n",
    "import os, json, sys, time, random\n",
    "import numpy as np\n",
    "import torch\n",
    "from torch.optim import Adam\n",
    "from  easydict import EasyDict\n",
    "import matplotlib.pyplot as plt\n",
    "\n",
    "from steves_models.steves_ptn import Steves_Prototypical_Network\n",
    "\n",
    "from steves_utils.lazy_iterable_wrapper import Lazy_Iterable_Wrapper\n",
    "from steves_utils.iterable_aggregator import Iterable_Aggregator\n",
    "from steves_utils.ptn_train_eval_test_jig import  PTN_Train_Eval_Test_Jig\n",
    "from steves_utils.torch_sequential_builder import build_sequential\n",
    "from steves_utils.torch_utils import get_dataset_metrics, ptn_confusion_by_domain_over_dataloader\n",
    "from steves_utils.utils_v2 import (per_domain_accuracy_from_confusion, get_datasets_base_path)\n",
    "from steves_utils.PTN.utils import independent_accuracy_assesment\n",
    "\n",
    "from torch.utils.data import DataLoader\n",
    "\n",
    "from steves_utils.stratified_dataset.episodic_accessor import Episodic_Accessor_Factory\n",
    "\n",
    "from steves_utils.ptn_do_report import (\n",
    "    get_loss_curve,\n",
    "    get_results_table,\n",
    "    get_parameters_table,\n",
    "    get_domain_accuracies,\n",
    ")\n",
    "\n",
    "from steves_utils.transforms import get_chained_transform"
   ]
  },
  {
   "cell_type": "markdown",
   "id": "41c840b4",
   "metadata": {
    "papermill": {
     "duration": 0.019303,
     "end_time": "2022-03-28T06:52:20.449941",
     "exception": false,
     "start_time": "2022-03-28T06:52:20.430638",
     "status": "completed"
    },
    "tags": []
   },
   "source": [
    "# Allowed Parameters\n",
    "These are allowed parameters, not defaults\n",
    "Each of these values need to be present in the injected parameters (the notebook will raise an exception if they are not present)\n",
    "\n",
    "Papermill uses the cell tag \"parameters\" to inject the real parameters below this cell.\n",
    "Enable tags to see what I mean"
   ]
  },
  {
   "cell_type": "code",
   "execution_count": 2,
   "id": "fd44eb83",
   "metadata": {
    "execution": {
     "iopub.execute_input": "2022-03-28T06:52:20.493332Z",
     "iopub.status.busy": "2022-03-28T06:52:20.492658Z",
     "iopub.status.idle": "2022-03-28T06:52:20.515286Z",
     "shell.execute_reply": "2022-03-28T06:52:20.514915Z"
    },
    "papermill": {
     "duration": 0.046156,
     "end_time": "2022-03-28T06:52:20.515357",
     "exception": false,
     "start_time": "2022-03-28T06:52:20.469201",
     "status": "completed"
    },
    "tags": []
   },
   "outputs": [],
   "source": [
    "required_parameters = {\n",
    "    \"experiment_name\",\n",
    "    \"lr\",\n",
    "    \"device\",\n",
    "    \"seed\",\n",
    "    \"dataset_seed\",\n",
    "    \"n_shot\",\n",
    "    \"n_query\",\n",
    "    \"n_way\",\n",
    "    \"train_k_factor\",\n",
    "    \"val_k_factor\",\n",
    "    \"test_k_factor\",\n",
    "    \"n_epoch\",\n",
    "    \"patience\",\n",
    "    \"criteria_for_best\",\n",
    "    \"x_net\",\n",
    "    \"datasets\",\n",
    "    \"torch_default_dtype\",\n",
    "    \"NUM_LOGS_PER_EPOCH\",\n",
    "    \"BEST_MODEL_PATH\",\n",
    "    \"x_shape\",\n",
    "}"
   ]
  },
  {
   "cell_type": "code",
   "execution_count": 3,
   "id": "fa3f0049",
   "metadata": {
    "execution": {
     "iopub.execute_input": "2022-03-28T06:52:20.568569Z",
     "iopub.status.busy": "2022-03-28T06:52:20.568153Z",
     "iopub.status.idle": "2022-03-28T06:52:20.586823Z",
     "shell.execute_reply": "2022-03-28T06:52:20.587115Z"
    },
    "papermill": {
     "duration": 0.052237,
     "end_time": "2022-03-28T06:52:20.587197",
     "exception": false,
     "start_time": "2022-03-28T06:52:20.534960",
     "status": "completed"
    },
    "tags": [
     "parameters"
    ]
   },
   "outputs": [],
   "source": [
    "from steves_utils.CORES.utils import (\n",
    "    ALL_NODES,\n",
    "    ALL_NODES_MINIMUM_1000_EXAMPLES,\n",
    "    ALL_DAYS\n",
    ")\n",
    "\n",
    "from steves_utils.ORACLE.utils_v2 import (\n",
    "    ALL_DISTANCES_FEET_NARROWED,\n",
    "    ALL_RUNS,\n",
    "    ALL_SERIAL_NUMBERS,\n",
    ")\n",
    "\n",
    "standalone_parameters = {}\n",
    "standalone_parameters[\"experiment_name\"] = \"STANDALONE PTN\"\n",
    "standalone_parameters[\"lr\"] = 0.001\n",
    "standalone_parameters[\"device\"] = \"cuda\"\n",
    "\n",
    "standalone_parameters[\"seed\"] = 1337\n",
    "standalone_parameters[\"dataset_seed\"] = 1337\n",
    "\n",
    "standalone_parameters[\"n_way\"] = 8\n",
    "standalone_parameters[\"n_shot\"] = 3\n",
    "standalone_parameters[\"n_query\"]  = 2\n",
    "standalone_parameters[\"train_k_factor\"] = 1\n",
    "standalone_parameters[\"val_k_factor\"] = 2\n",
    "standalone_parameters[\"test_k_factor\"] = 2\n",
    "\n",
    "\n",
    "standalone_parameters[\"n_epoch\"] = 50\n",
    "\n",
    "standalone_parameters[\"patience\"] = 10\n",
    "standalone_parameters[\"criteria_for_best\"] = \"source_loss\"\n",
    "\n",
    "standalone_parameters[\"datasets\"] = [\n",
    "    {\n",
    "        \"labels\": ALL_SERIAL_NUMBERS,\n",
    "        \"domains\": ALL_DISTANCES_FEET_NARROWED,\n",
    "        \"num_examples_per_domain_per_label\": 100,\n",
    "        \"pickle_path\": os.path.join(get_datasets_base_path(), \"oracle.Run1_framed_2000Examples_stratified_ds.2022A.pkl\"),\n",
    "        \"source_or_target_dataset\": \"source\",\n",
    "        \"x_transforms\": [\"unit_mag\", \"minus_two\"],\n",
    "        \"episode_transforms\": [],\n",
    "        \"domain_prefix\": \"ORACLE_\"\n",
    "    },\n",
    "    {\n",
    "        \"labels\": ALL_NODES,\n",
    "        \"domains\": ALL_DAYS,\n",
    "        \"num_examples_per_domain_per_label\": 100,\n",
    "        \"pickle_path\": os.path.join(get_datasets_base_path(), \"cores.stratified_ds.2022A.pkl\"),\n",
    "        \"source_or_target_dataset\": \"target\",\n",
    "        \"x_transforms\": [\"unit_power\", \"times_zero\"],\n",
    "        \"episode_transforms\": [],\n",
    "        \"domain_prefix\": \"CORES_\"\n",
    "    }   \n",
    "]\n",
    "\n",
    "standalone_parameters[\"torch_default_dtype\"] = \"torch.float32\" \n",
    "\n",
    "\n",
    "\n",
    "standalone_parameters[\"x_net\"] =     [\n",
    "    {\"class\": \"nnReshape\", \"kargs\": {\"shape\":[-1, 1, 2, 256]}},\n",
    "    {\"class\": \"Conv2d\", \"kargs\": { \"in_channels\":1, \"out_channels\":256, \"kernel_size\":(1,7), \"bias\":False, \"padding\":(0,3), },},\n",
    "    {\"class\": \"ReLU\", \"kargs\": {\"inplace\": True}},\n",
    "    {\"class\": \"BatchNorm2d\", \"kargs\": {\"num_features\":256}},\n",
    "\n",
    "    {\"class\": \"Conv2d\", \"kargs\": { \"in_channels\":256, \"out_channels\":80, \"kernel_size\":(2,7), \"bias\":True, \"padding\":(0,3), },},\n",
    "    {\"class\": \"ReLU\", \"kargs\": {\"inplace\": True}},\n",
    "    {\"class\": \"BatchNorm2d\", \"kargs\": {\"num_features\":80}},\n",
    "    {\"class\": \"Flatten\", \"kargs\": {}},\n",
    "\n",
    "    {\"class\": \"Linear\", \"kargs\": {\"in_features\": 80*256, \"out_features\": 256}}, # 80 units per IQ pair\n",
    "    {\"class\": \"ReLU\", \"kargs\": {\"inplace\": True}},\n",
    "    {\"class\": \"BatchNorm1d\", \"kargs\": {\"num_features\":256}},\n",
    "\n",
    "    {\"class\": \"Linear\", \"kargs\": {\"in_features\": 256, \"out_features\": 256}},\n",
    "]\n",
    "\n",
    "# Parameters relevant to results\n",
    "# These parameters will basically never need to change\n",
    "standalone_parameters[\"NUM_LOGS_PER_EPOCH\"] = 10\n",
    "standalone_parameters[\"BEST_MODEL_PATH\"] = \"./best_model.pth\"\n",
    "\n",
    "\n",
    "\n",
    "\n"
   ]
  },
  {
   "cell_type": "code",
   "execution_count": 4,
   "id": "819417ba",
   "metadata": {
    "execution": {
     "iopub.execute_input": "2022-03-28T06:52:20.640811Z",
     "iopub.status.busy": "2022-03-28T06:52:20.640379Z",
     "iopub.status.idle": "2022-03-28T06:52:20.658910Z",
     "shell.execute_reply": "2022-03-28T06:52:20.658540Z"
    },
    "papermill": {
     "duration": 0.052281,
     "end_time": "2022-03-28T06:52:20.658980",
     "exception": false,
     "start_time": "2022-03-28T06:52:20.606699",
     "status": "completed"
    },
    "tags": [
     "injected-parameters"
    ]
   },
   "outputs": [],
   "source": [
    "# Parameters\n",
    "parameters = {\n",
    "    \"experiment_name\": \"tl_3-jitter10v2:cores -> oracle.run1.framed\",\n",
    "    \"device\": \"cuda\",\n",
    "    \"lr\": 0.0001,\n",
    "    \"x_shape\": [2, 256],\n",
    "    \"n_shot\": 3,\n",
    "    \"n_query\": 2,\n",
    "    \"train_k_factor\": 3,\n",
    "    \"val_k_factor\": 2,\n",
    "    \"test_k_factor\": 2,\n",
    "    \"torch_default_dtype\": \"torch.float32\",\n",
    "    \"n_epoch\": 50,\n",
    "    \"patience\": 3,\n",
    "    \"criteria_for_best\": \"target_accuracy\",\n",
    "    \"x_net\": [\n",
    "        {\"class\": \"nnReshape\", \"kargs\": {\"shape\": [-1, 1, 2, 256]}},\n",
    "        {\n",
    "            \"class\": \"Conv2d\",\n",
    "            \"kargs\": {\n",
    "                \"in_channels\": 1,\n",
    "                \"out_channels\": 256,\n",
    "                \"kernel_size\": [1, 7],\n",
    "                \"bias\": False,\n",
    "                \"padding\": [0, 3],\n",
    "            },\n",
    "        },\n",
    "        {\"class\": \"ReLU\", \"kargs\": {\"inplace\": True}},\n",
    "        {\"class\": \"BatchNorm2d\", \"kargs\": {\"num_features\": 256}},\n",
    "        {\n",
    "            \"class\": \"Conv2d\",\n",
    "            \"kargs\": {\n",
    "                \"in_channels\": 256,\n",
    "                \"out_channels\": 80,\n",
    "                \"kernel_size\": [2, 7],\n",
    "                \"bias\": True,\n",
    "                \"padding\": [0, 3],\n",
    "            },\n",
    "        },\n",
    "        {\"class\": \"ReLU\", \"kargs\": {\"inplace\": True}},\n",
    "        {\"class\": \"BatchNorm2d\", \"kargs\": {\"num_features\": 80}},\n",
    "        {\"class\": \"Flatten\", \"kargs\": {}},\n",
    "        {\"class\": \"Linear\", \"kargs\": {\"in_features\": 20480, \"out_features\": 256}},\n",
    "        {\"class\": \"ReLU\", \"kargs\": {\"inplace\": True}},\n",
    "        {\"class\": \"BatchNorm1d\", \"kargs\": {\"num_features\": 256}},\n",
    "        {\"class\": \"Linear\", \"kargs\": {\"in_features\": 256, \"out_features\": 256}},\n",
    "    ],\n",
    "    \"NUM_LOGS_PER_EPOCH\": 10,\n",
    "    \"BEST_MODEL_PATH\": \"./best_model.pth\",\n",
    "    \"n_way\": 16,\n",
    "    \"datasets\": [\n",
    "        {\n",
    "            \"labels\": [\n",
    "                \"1-10.\",\n",
    "                \"1-11.\",\n",
    "                \"1-15.\",\n",
    "                \"1-16.\",\n",
    "                \"1-17.\",\n",
    "                \"1-18.\",\n",
    "                \"1-19.\",\n",
    "                \"10-4.\",\n",
    "                \"10-7.\",\n",
    "                \"11-1.\",\n",
    "                \"11-14.\",\n",
    "                \"11-17.\",\n",
    "                \"11-20.\",\n",
    "                \"11-7.\",\n",
    "                \"13-20.\",\n",
    "                \"13-8.\",\n",
    "                \"14-10.\",\n",
    "                \"14-11.\",\n",
    "                \"14-14.\",\n",
    "                \"14-7.\",\n",
    "                \"15-1.\",\n",
    "                \"15-20.\",\n",
    "                \"16-1.\",\n",
    "                \"16-16.\",\n",
    "                \"17-10.\",\n",
    "                \"17-11.\",\n",
    "                \"17-2.\",\n",
    "                \"19-1.\",\n",
    "                \"19-16.\",\n",
    "                \"19-19.\",\n",
    "                \"19-20.\",\n",
    "                \"19-3.\",\n",
    "                \"2-10.\",\n",
    "                \"2-11.\",\n",
    "                \"2-17.\",\n",
    "                \"2-18.\",\n",
    "                \"2-20.\",\n",
    "                \"2-3.\",\n",
    "                \"2-4.\",\n",
    "                \"2-5.\",\n",
    "                \"2-6.\",\n",
    "                \"2-7.\",\n",
    "                \"2-8.\",\n",
    "                \"3-13.\",\n",
    "                \"3-18.\",\n",
    "                \"3-3.\",\n",
    "                \"4-1.\",\n",
    "                \"4-10.\",\n",
    "                \"4-11.\",\n",
    "                \"4-19.\",\n",
    "                \"5-5.\",\n",
    "                \"6-15.\",\n",
    "                \"7-10.\",\n",
    "                \"7-14.\",\n",
    "                \"8-18.\",\n",
    "                \"8-20.\",\n",
    "                \"8-3.\",\n",
    "                \"8-8.\",\n",
    "            ],\n",
    "            \"domains\": [1, 2, 3, 4, 5],\n",
    "            \"num_examples_per_domain_per_label\": -1,\n",
    "            \"pickle_path\": \"/root/csc500-main/datasets/cores.stratified_ds.2022A.pkl\",\n",
    "            \"source_or_target_dataset\": \"source\",\n",
    "            \"x_transforms\": [\"jitter_256_10\", \"lowpass_+/-10MHz\", \"take_200\"],\n",
    "            \"episode_transforms\": [],\n",
    "            \"domain_prefix\": \"C_\",\n",
    "        },\n",
    "        {\n",
    "            \"labels\": [\n",
    "                \"3123D52\",\n",
    "                \"3123D65\",\n",
    "                \"3123D79\",\n",
    "                \"3123D80\",\n",
    "                \"3123D54\",\n",
    "                \"3123D70\",\n",
    "                \"3123D7B\",\n",
    "                \"3123D89\",\n",
    "                \"3123D58\",\n",
    "                \"3123D76\",\n",
    "                \"3123D7D\",\n",
    "                \"3123EFE\",\n",
    "                \"3123D64\",\n",
    "                \"3123D78\",\n",
    "                \"3123D7E\",\n",
    "                \"3124E4A\",\n",
    "            ],\n",
    "            \"domains\": [32, 38, 8, 44, 14, 50, 20, 26],\n",
    "            \"num_examples_per_domain_per_label\": 2000,\n",
    "            \"pickle_path\": \"/root/csc500-main/datasets/oracle.Run1_framed_2000Examples_stratified_ds.2022A.pkl\",\n",
    "            \"source_or_target_dataset\": \"target\",\n",
    "            \"x_transforms\": [\"jitter_256_10\", \"take_200\", \"resample_20Msps_to_25Msps\"],\n",
    "            \"episode_transforms\": [],\n",
    "            \"domain_prefix\": \"O_\",\n",
    "        },\n",
    "    ],\n",
    "    \"seed\": 1337,\n",
    "    \"dataset_seed\": 1337,\n",
    "}\n"
   ]
  },
  {
   "cell_type": "code",
   "execution_count": 5,
   "id": "8fa1cc33",
   "metadata": {
    "execution": {
     "iopub.execute_input": "2022-03-28T06:52:20.705951Z",
     "iopub.status.busy": "2022-03-28T06:52:20.705574Z",
     "iopub.status.idle": "2022-03-28T06:52:20.726324Z",
     "shell.execute_reply": "2022-03-28T06:52:20.725950Z"
    },
    "papermill": {
     "duration": 0.047339,
     "end_time": "2022-03-28T06:52:20.726395",
     "exception": false,
     "start_time": "2022-03-28T06:52:20.679056",
     "status": "completed"
    },
    "tags": []
   },
   "outputs": [],
   "source": [
    "# Set this to True if you want to run this template directly\n",
    "STANDALONE = False\n",
    "if STANDALONE:\n",
    "    print(\"parameters not injected, running with standalone_parameters\")\n",
    "    parameters = standalone_parameters\n",
    "\n",
    "if not 'parameters' in locals() and not 'parameters' in globals():\n",
    "    raise Exception(\"Parameter injection failed\")\n",
    "\n",
    "#Use an easy dict for all the parameters\n",
    "p = EasyDict(parameters)\n",
    "\n",
    "if \"x_shape\" not in p:\n",
    "    p.x_shape = [2,256] # Default to this if we dont supply x_shape\n",
    "\n",
    "\n",
    "supplied_keys = set(p.keys())\n",
    "\n",
    "if  supplied_keys != required_parameters:\n",
    "    print(\"Parameters are incorrect\")\n",
    "    if len(supplied_keys - required_parameters)>0: print(\"Shouldn't have:\", str(supplied_keys - required_parameters))\n",
    "    if len(required_parameters - supplied_keys)>0: print(\"Need to have:\", str(required_parameters - supplied_keys))\n",
    "    raise RuntimeError(\"Parameters are incorrect\")"
   ]
  },
  {
   "cell_type": "code",
   "execution_count": 6,
   "id": "3a028d58",
   "metadata": {
    "execution": {
     "iopub.execute_input": "2022-03-28T06:52:20.773681Z",
     "iopub.status.busy": "2022-03-28T06:52:20.769346Z",
     "iopub.status.idle": "2022-03-28T06:52:20.790262Z",
     "shell.execute_reply": "2022-03-28T06:52:20.789895Z"
    },
    "papermill": {
     "duration": 0.044115,
     "end_time": "2022-03-28T06:52:20.790331",
     "exception": false,
     "start_time": "2022-03-28T06:52:20.746216",
     "status": "completed"
    },
    "tags": []
   },
   "outputs": [],
   "source": [
    "###################################\n",
    "# Set the RNGs and make it all deterministic\n",
    "###################################\n",
    "np.random.seed(p.seed)\n",
    "random.seed(p.seed)\n",
    "torch.manual_seed(p.seed)\n",
    "\n",
    "torch.use_deterministic_algorithms(True) "
   ]
  },
  {
   "cell_type": "code",
   "execution_count": 7,
   "id": "b691acf6",
   "metadata": {
    "execution": {
     "iopub.execute_input": "2022-03-28T06:52:20.835576Z",
     "iopub.status.busy": "2022-03-28T06:52:20.834428Z",
     "iopub.status.idle": "2022-03-28T06:52:20.853482Z",
     "shell.execute_reply": "2022-03-28T06:52:20.853115Z"
    },
    "papermill": {
     "duration": 0.043069,
     "end_time": "2022-03-28T06:52:20.853551",
     "exception": false,
     "start_time": "2022-03-28T06:52:20.810482",
     "status": "completed"
    },
    "tags": []
   },
   "outputs": [],
   "source": [
    "###########################################\n",
    "# The stratified datasets honor this\n",
    "###########################################\n",
    "torch.set_default_dtype(eval(p.torch_default_dtype))"
   ]
  },
  {
   "cell_type": "code",
   "execution_count": 8,
   "id": "b5fba671",
   "metadata": {
    "execution": {
     "iopub.execute_input": "2022-03-28T06:52:20.896537Z",
     "iopub.status.busy": "2022-03-28T06:52:20.896171Z",
     "iopub.status.idle": "2022-03-28T06:52:20.946930Z",
     "shell.execute_reply": "2022-03-28T06:52:20.946128Z"
    },
    "papermill": {
     "duration": 0.073515,
     "end_time": "2022-03-28T06:52:20.947084",
     "exception": false,
     "start_time": "2022-03-28T06:52:20.873569",
     "status": "completed"
    },
    "tags": []
   },
   "outputs": [],
   "source": [
    "###################################\n",
    "# Build the network(s)\n",
    "# Note: It's critical to do this AFTER setting the RNG\n",
    "###################################\n",
    "x_net = build_sequential(p.x_net)"
   ]
  },
  {
   "cell_type": "code",
   "execution_count": 9,
   "id": "5d7e61cc",
   "metadata": {
    "execution": {
     "iopub.execute_input": "2022-03-28T06:52:20.996627Z",
     "iopub.status.busy": "2022-03-28T06:52:20.996262Z",
     "iopub.status.idle": "2022-03-28T06:52:21.023226Z",
     "shell.execute_reply": "2022-03-28T06:52:21.022415Z"
    },
    "papermill": {
     "duration": 0.051134,
     "end_time": "2022-03-28T06:52:21.023380",
     "exception": false,
     "start_time": "2022-03-28T06:52:20.972246",
     "status": "completed"
    },
    "tags": []
   },
   "outputs": [],
   "source": [
    "start_time_secs = time.time()"
   ]
  },
  {
   "cell_type": "code",
   "execution_count": 10,
   "id": "c6b67dfd",
   "metadata": {
    "execution": {
     "iopub.execute_input": "2022-03-28T06:52:21.081744Z",
     "iopub.status.busy": "2022-03-28T06:52:21.077813Z",
     "iopub.status.idle": "2022-03-28T06:52:21.098605Z",
     "shell.execute_reply": "2022-03-28T06:52:21.097788Z"
    },
    "papermill": {
     "duration": 0.046,
     "end_time": "2022-03-28T06:52:21.098759",
     "exception": false,
     "start_time": "2022-03-28T06:52:21.052759",
     "status": "completed"
    },
    "tags": []
   },
   "outputs": [],
   "source": [
    "p.domains_source = []\n",
    "p.domains_target = []\n",
    "\n",
    "\n",
    "train_original_source = []\n",
    "val_original_source   = []\n",
    "test_original_source  = []\n",
    "\n",
    "train_original_target = []\n",
    "val_original_target   = []\n",
    "test_original_target  = []"
   ]
  },
  {
   "cell_type": "code",
   "execution_count": 11,
   "id": "e3d9c3d3",
   "metadata": {
    "execution": {
     "iopub.execute_input": "2022-03-28T06:52:21.148579Z",
     "iopub.status.busy": "2022-03-28T06:52:21.148208Z",
     "iopub.status.idle": "2022-03-28T06:52:21.169807Z",
     "shell.execute_reply": "2022-03-28T06:52:21.168991Z"
    },
    "papermill": {
     "duration": 0.045357,
     "end_time": "2022-03-28T06:52:21.169962",
     "exception": false,
     "start_time": "2022-03-28T06:52:21.124605",
     "status": "completed"
    },
    "tags": []
   },
   "outputs": [],
   "source": [
    "# global_x_transform_func = lambda x: normalize(x.to(torch.get_default_dtype()), \"unit_power\") # unit_power, unit_mag\n",
    "# global_x_transform_func = lambda x: normalize(x, \"unit_power\") # unit_power, unit_mag"
   ]
  },
  {
   "cell_type": "code",
   "execution_count": 12,
   "id": "acb78fd2",
   "metadata": {
    "execution": {
     "iopub.execute_input": "2022-03-28T06:52:21.223022Z",
     "iopub.status.busy": "2022-03-28T06:52:21.222636Z",
     "iopub.status.idle": "2022-03-28T06:52:21.241314Z",
     "shell.execute_reply": "2022-03-28T06:52:21.240479Z"
    },
    "papermill": {
     "duration": 0.045603,
     "end_time": "2022-03-28T06:52:21.241468",
     "exception": false,
     "start_time": "2022-03-28T06:52:21.195865",
     "status": "completed"
    },
    "tags": []
   },
   "outputs": [],
   "source": [
    "def add_dataset(\n",
    "    labels,\n",
    "    domains,\n",
    "    pickle_path,\n",
    "    x_transforms,\n",
    "    episode_transforms,\n",
    "    domain_prefix,\n",
    "    num_examples_per_domain_per_label,\n",
    "    source_or_target_dataset:str,\n",
    "    iterator_seed=p.seed,\n",
    "    dataset_seed=p.dataset_seed,\n",
    "    n_shot=p.n_shot,\n",
    "    n_way=p.n_way,\n",
    "    n_query=p.n_query,\n",
    "    train_val_test_k_factors=(p.train_k_factor,p.val_k_factor,p.test_k_factor),\n",
    "):\n",
    "   \n",
    "    if x_transforms == []: x_transform = None\n",
    "    else: x_transform = get_chained_transform(x_transforms)\n",
    "    \n",
    "    if episode_transforms == []: episode_transform = None\n",
    "    else: raise Exception(\"episode_transforms not implemented\")\n",
    "    \n",
    "    episode_transform = lambda tup, _prefix=domain_prefix: (_prefix + str(tup[0]), tup[1])\n",
    "\n",
    "\n",
    "    eaf = Episodic_Accessor_Factory(\n",
    "        labels=labels,\n",
    "        domains=domains,\n",
    "        num_examples_per_domain_per_label=num_examples_per_domain_per_label,\n",
    "        iterator_seed=iterator_seed,\n",
    "        dataset_seed=dataset_seed,\n",
    "        n_shot=n_shot,\n",
    "        n_way=n_way,\n",
    "        n_query=n_query,\n",
    "        train_val_test_k_factors=train_val_test_k_factors,\n",
    "        pickle_path=pickle_path,\n",
    "        x_transform_func=x_transform,\n",
    "    )\n",
    "\n",
    "    train, val, test = eaf.get_train(), eaf.get_val(), eaf.get_test()\n",
    "    train = Lazy_Iterable_Wrapper(train, episode_transform)\n",
    "    val = Lazy_Iterable_Wrapper(val, episode_transform)\n",
    "    test = Lazy_Iterable_Wrapper(test, episode_transform)\n",
    "\n",
    "    if source_or_target_dataset==\"source\":\n",
    "        train_original_source.append(train)\n",
    "        val_original_source.append(val)\n",
    "        test_original_source.append(test)\n",
    "\n",
    "        p.domains_source.extend(\n",
    "            [domain_prefix + str(u) for u in domains]\n",
    "        )\n",
    "    elif source_or_target_dataset==\"target\":\n",
    "        train_original_target.append(train)\n",
    "        val_original_target.append(val)\n",
    "        test_original_target.append(test)\n",
    "        p.domains_target.extend(\n",
    "            [domain_prefix + str(u) for u in domains]\n",
    "        )\n",
    "    else:\n",
    "        raise Exception(f\"invalid source_or_target_dataset: {source_or_target_dataset}\")\n",
    "    "
   ]
  },
  {
   "cell_type": "code",
   "execution_count": 13,
   "id": "fe266617",
   "metadata": {
    "execution": {
     "iopub.execute_input": "2022-03-28T06:52:21.299222Z",
     "iopub.status.busy": "2022-03-28T06:52:21.294339Z",
     "iopub.status.idle": "2022-03-28T06:53:25.592264Z",
     "shell.execute_reply": "2022-03-28T06:53:25.591458Z"
    },
    "papermill": {
     "duration": 64.324191,
     "end_time": "2022-03-28T06:53:25.592447",
     "exception": false,
     "start_time": "2022-03-28T06:52:21.268256",
     "status": "completed"
    },
    "tags": []
   },
   "outputs": [],
   "source": [
    "for ds in p.datasets:\n",
    "    add_dataset(**ds)"
   ]
  },
  {
   "cell_type": "code",
   "execution_count": 14,
   "id": "b90d65ac",
   "metadata": {
    "execution": {
     "iopub.execute_input": "2022-03-28T06:53:25.642924Z",
     "iopub.status.busy": "2022-03-28T06:53:25.642551Z",
     "iopub.status.idle": "2022-03-28T06:53:25.668285Z",
     "shell.execute_reply": "2022-03-28T06:53:25.667431Z"
    },
    "papermill": {
     "duration": 0.05054,
     "end_time": "2022-03-28T06:53:25.668441",
     "exception": false,
     "start_time": "2022-03-28T06:53:25.617901",
     "status": "completed"
    },
    "tags": []
   },
   "outputs": [],
   "source": [
    "# from steves_utils.CORES.utils import (\n",
    "#     ALL_NODES,\n",
    "#     ALL_NODES_MINIMUM_1000_EXAMPLES,\n",
    "#     ALL_DAYS\n",
    "# )\n",
    "\n",
    "# add_dataset(\n",
    "#     labels=ALL_NODES,\n",
    "#     domains = ALL_DAYS,\n",
    "#     num_examples_per_domain_per_label=100,\n",
    "#     pickle_path=os.path.join(get_datasets_base_path(), \"cores.stratified_ds.2022A.pkl\"),\n",
    "#     source_or_target_dataset=\"target\",\n",
    "#     x_transform_func=global_x_transform_func,\n",
    "#     domain_modifier=lambda u: f\"cores_{u}\"\n",
    "# )"
   ]
  },
  {
   "cell_type": "code",
   "execution_count": 15,
   "id": "76db484d",
   "metadata": {
    "execution": {
     "iopub.execute_input": "2022-03-28T06:53:25.719065Z",
     "iopub.status.busy": "2022-03-28T06:53:25.718693Z",
     "iopub.status.idle": "2022-03-28T06:53:25.739551Z",
     "shell.execute_reply": "2022-03-28T06:53:25.738818Z"
    },
    "papermill": {
     "duration": 0.044176,
     "end_time": "2022-03-28T06:53:25.739712",
     "exception": false,
     "start_time": "2022-03-28T06:53:25.695536",
     "status": "completed"
    },
    "tags": []
   },
   "outputs": [],
   "source": [
    "# from steves_utils.ORACLE.utils_v2 import (\n",
    "#     ALL_DISTANCES_FEET,\n",
    "#     ALL_RUNS,\n",
    "#     ALL_SERIAL_NUMBERS,\n",
    "# )\n",
    "\n",
    "\n",
    "# add_dataset(\n",
    "#     labels=ALL_SERIAL_NUMBERS,\n",
    "#     domains = list(set(ALL_DISTANCES_FEET) - {2,62}),\n",
    "#     num_examples_per_domain_per_label=100,\n",
    "#     pickle_path=os.path.join(get_datasets_base_path(), \"oracle.Run2_framed_2000Examples_stratified_ds.2022A.pkl\"),\n",
    "#     source_or_target_dataset=\"source\",\n",
    "#     x_transform_func=global_x_transform_func,\n",
    "#     domain_modifier=lambda u: f\"oracle1_{u}\"\n",
    "# )\n"
   ]
  },
  {
   "cell_type": "code",
   "execution_count": 16,
   "id": "97dea9d2",
   "metadata": {
    "execution": {
     "iopub.execute_input": "2022-03-28T06:53:25.790571Z",
     "iopub.status.busy": "2022-03-28T06:53:25.790038Z",
     "iopub.status.idle": "2022-03-28T06:53:25.808021Z",
     "shell.execute_reply": "2022-03-28T06:53:25.807264Z"
    },
    "papermill": {
     "duration": 0.040495,
     "end_time": "2022-03-28T06:53:25.808178",
     "exception": false,
     "start_time": "2022-03-28T06:53:25.767683",
     "status": "completed"
    },
    "tags": []
   },
   "outputs": [],
   "source": [
    "# from steves_utils.ORACLE.utils_v2 import (\n",
    "#     ALL_DISTANCES_FEET,\n",
    "#     ALL_RUNS,\n",
    "#     ALL_SERIAL_NUMBERS,\n",
    "# )\n",
    "\n",
    "\n",
    "# add_dataset(\n",
    "#     labels=ALL_SERIAL_NUMBERS,\n",
    "#     domains = list(set(ALL_DISTANCES_FEET) - {2,62,56}),\n",
    "#     num_examples_per_domain_per_label=100,\n",
    "#     pickle_path=os.path.join(get_datasets_base_path(), \"oracle.Run2_framed_2000Examples_stratified_ds.2022A.pkl\"),\n",
    "#     source_or_target_dataset=\"source\",\n",
    "#     x_transform_func=global_x_transform_func,\n",
    "#     domain_modifier=lambda u: f\"oracle2_{u}\"\n",
    "# )"
   ]
  },
  {
   "cell_type": "code",
   "execution_count": 17,
   "id": "6f289866",
   "metadata": {
    "execution": {
     "iopub.execute_input": "2022-03-28T06:53:25.858442Z",
     "iopub.status.busy": "2022-03-28T06:53:25.858074Z",
     "iopub.status.idle": "2022-03-28T06:53:25.879489Z",
     "shell.execute_reply": "2022-03-28T06:53:25.878782Z"
    },
    "papermill": {
     "duration": 0.044256,
     "end_time": "2022-03-28T06:53:25.879674",
     "exception": false,
     "start_time": "2022-03-28T06:53:25.835418",
     "status": "completed"
    },
    "tags": []
   },
   "outputs": [],
   "source": [
    "# add_dataset(\n",
    "#     labels=list(range(19)),\n",
    "#     domains = [0,1,2],\n",
    "#     num_examples_per_domain_per_label=100,\n",
    "#     pickle_path=os.path.join(get_datasets_base_path(), \"metehan.stratified_ds.2022A.pkl\"),\n",
    "#     source_or_target_dataset=\"target\",\n",
    "#     x_transform_func=global_x_transform_func,\n",
    "#     domain_modifier=lambda u: f\"met_{u}\"\n",
    "# )"
   ]
  },
  {
   "cell_type": "code",
   "execution_count": 18,
   "id": "86a863c3",
   "metadata": {
    "execution": {
     "iopub.execute_input": "2022-03-28T06:53:25.931232Z",
     "iopub.status.busy": "2022-03-28T06:53:25.930859Z",
     "iopub.status.idle": "2022-03-28T06:53:25.953349Z",
     "shell.execute_reply": "2022-03-28T06:53:25.952540Z"
    },
    "papermill": {
     "duration": 0.046375,
     "end_time": "2022-03-28T06:53:25.953503",
     "exception": false,
     "start_time": "2022-03-28T06:53:25.907128",
     "status": "completed"
    },
    "tags": []
   },
   "outputs": [],
   "source": [
    "# # from steves_utils.wisig.utils import (\n",
    "# #     ALL_NODES_MINIMUM_100_EXAMPLES,\n",
    "# #     ALL_NODES_MINIMUM_500_EXAMPLES,\n",
    "# #     ALL_NODES_MINIMUM_1000_EXAMPLES,\n",
    "# #     ALL_DAYS\n",
    "# # )\n",
    "\n",
    "# import steves_utils.wisig.utils as wisig\n",
    "\n",
    "\n",
    "# add_dataset(\n",
    "#     labels=wisig.ALL_NODES_MINIMUM_100_EXAMPLES,\n",
    "#     domains = wisig.ALL_DAYS,\n",
    "#     num_examples_per_domain_per_label=100,\n",
    "#     pickle_path=os.path.join(get_datasets_base_path(), \"wisig.node3-19.stratified_ds.2022A.pkl\"),\n",
    "#     source_or_target_dataset=\"target\",\n",
    "#     x_transform_func=global_x_transform_func,\n",
    "#     domain_modifier=lambda u: f\"wisig_{u}\"\n",
    "# )"
   ]
  },
  {
   "cell_type": "code",
   "execution_count": 19,
   "id": "fd5442bc",
   "metadata": {
    "execution": {
     "iopub.execute_input": "2022-03-28T06:53:26.007702Z",
     "iopub.status.busy": "2022-03-28T06:53:26.007108Z",
     "iopub.status.idle": "2022-03-28T06:53:26.024980Z",
     "shell.execute_reply": "2022-03-28T06:53:26.024283Z"
    },
    "papermill": {
     "duration": 0.045171,
     "end_time": "2022-03-28T06:53:26.025134",
     "exception": false,
     "start_time": "2022-03-28T06:53:25.979963",
     "status": "completed"
    },
    "tags": []
   },
   "outputs": [],
   "source": [
    "###################################\n",
    "# Build the dataset\n",
    "###################################\n",
    "train_original_source = Iterable_Aggregator(train_original_source, p.seed)\n",
    "val_original_source = Iterable_Aggregator(val_original_source, p.seed)\n",
    "test_original_source = Iterable_Aggregator(test_original_source, p.seed)\n",
    "\n",
    "\n",
    "train_original_target = Iterable_Aggregator(train_original_target, p.seed)\n",
    "val_original_target = Iterable_Aggregator(val_original_target, p.seed)\n",
    "test_original_target = Iterable_Aggregator(test_original_target, p.seed)\n",
    "\n",
    "# For CNN We only use X and Y. And we only train on the source.\n",
    "# Properly form the data using a transform lambda and Lazy_Iterable_Wrapper. Finally wrap them in a dataloader\n",
    "\n",
    "transform_lambda = lambda ex: ex[1] # Original is (<domain>, <episode>) so we strip down to episode only\n",
    "\n",
    "train_processed_source = Lazy_Iterable_Wrapper(train_original_source, transform_lambda)\n",
    "val_processed_source   = Lazy_Iterable_Wrapper(val_original_source, transform_lambda)\n",
    "test_processed_source  = Lazy_Iterable_Wrapper(test_original_source, transform_lambda)\n",
    "\n",
    "train_processed_target = Lazy_Iterable_Wrapper(train_original_target, transform_lambda)\n",
    "val_processed_target   = Lazy_Iterable_Wrapper(val_original_target, transform_lambda)\n",
    "test_processed_target  = Lazy_Iterable_Wrapper(test_original_target, transform_lambda)\n",
    "\n",
    "datasets = EasyDict({\n",
    "    \"source\": {\n",
    "        \"original\": {\"train\":train_original_source, \"val\":val_original_source, \"test\":test_original_source},\n",
    "        \"processed\": {\"train\":train_processed_source, \"val\":val_processed_source, \"test\":test_processed_source}\n",
    "    },\n",
    "    \"target\": {\n",
    "        \"original\": {\"train\":train_original_target, \"val\":val_original_target, \"test\":test_original_target},\n",
    "        \"processed\": {\"train\":train_processed_target, \"val\":val_processed_target, \"test\":test_processed_target}\n",
    "    },\n",
    "})"
   ]
  },
  {
   "cell_type": "code",
   "execution_count": 20,
   "id": "5b3c01fc",
   "metadata": {
    "execution": {
     "iopub.execute_input": "2022-03-28T06:53:26.076829Z",
     "iopub.status.busy": "2022-03-28T06:53:26.076200Z",
     "iopub.status.idle": "2022-03-28T06:53:39.770884Z",
     "shell.execute_reply": "2022-03-28T06:53:39.771612Z"
    },
    "papermill": {
     "duration": 13.718381,
     "end_time": "2022-03-28T06:53:39.771831",
     "exception": false,
     "start_time": "2022-03-28T06:53:26.053450",
     "status": "completed"
    },
    "tags": []
   },
   "outputs": [
    {
     "name": "stdout",
     "output_type": "stream",
     "text": [
      "{'C_1', 'C_2', 'C_5', 'C_4', 'C_3'}\n"
     ]
    },
    {
     "name": "stdout",
     "output_type": "stream",
     "text": [
      "{'O_50', 'O_38', 'O_14', 'O_26', 'O_32', 'O_20', 'O_44', 'O_8'}\n"
     ]
    },
    {
     "name": "stdout",
     "output_type": "stream",
     "text": [
      "tensor([[[0., 0., 0.,  ..., 0., 0., 0.],\n",
      "         [0., 0., 0.,  ..., 0., 0., 0.]],\n",
      "\n",
      "        [[0., 0., 0.,  ..., 0., 0., 0.],\n",
      "         [0., 0., 0.,  ..., 0., 0., 0.]],\n",
      "\n",
      "        [[0., 0., 0.,  ..., 0., 0., 0.],\n",
      "         [0., 0., 0.,  ..., 0., 0., 0.]],\n",
      "\n",
      "        ...,\n",
      "\n",
      "        [[0., 0., 0.,  ..., 0., 0., 0.],\n",
      "         [0., 0., 0.,  ..., 0., 0., 0.]],\n",
      "\n",
      "        [[0., 0., 0.,  ..., 0., 0., 0.],\n",
      "         [0., 0., 0.,  ..., 0., 0., 0.]],\n",
      "\n",
      "        [[0., 0., 0.,  ..., 0., 0., 0.],\n",
      "         [0., 0., 0.,  ..., 0., 0., 0.]]])\n"
     ]
    }
   ],
   "source": [
    "from steves_utils.transforms import get_average_magnitude, get_average_power\n",
    "\n",
    "print(set([u for u,_ in val_original_source]))\n",
    "print(set([u for u,_ in val_original_target]))\n",
    "\n",
    "s_x, s_y, q_x, q_y, _ = next(iter(train_processed_source))\n",
    "print(s_x)\n",
    "\n",
    "# for ds in [\n",
    "#     train_processed_source,\n",
    "#     val_processed_source,\n",
    "#     test_processed_source,\n",
    "#     train_processed_target,\n",
    "#     val_processed_target,\n",
    "#     test_processed_target\n",
    "# ]:\n",
    "#     for s_x, s_y, q_x, q_y, _ in ds:\n",
    "#         for X in (s_x, q_x):\n",
    "#             for x in X:\n",
    "#                 assert np.isclose(get_average_magnitude(x.numpy()), 1.0)\n",
    "#                 assert np.isclose(get_average_power(x.numpy()), 1.0)\n",
    "                "
   ]
  },
  {
   "cell_type": "code",
   "execution_count": 21,
   "id": "bbdacba1",
   "metadata": {
    "execution": {
     "iopub.execute_input": "2022-03-28T06:53:39.829074Z",
     "iopub.status.busy": "2022-03-28T06:53:39.828324Z",
     "iopub.status.idle": "2022-03-28T06:53:39.978778Z",
     "shell.execute_reply": "2022-03-28T06:53:39.978286Z"
    },
    "papermill": {
     "duration": 0.177291,
     "end_time": "2022-03-28T06:53:39.978899",
     "exception": false,
     "start_time": "2022-03-28T06:53:39.801608",
     "status": "completed"
    },
    "tags": []
   },
   "outputs": [
    {
     "name": "stdout",
     "output_type": "stream",
     "text": [
      "(2, 256)\n"
     ]
    }
   ],
   "source": [
    "###################################\n",
    "# Build the model\n",
    "###################################\n",
    "# easfsl only wants a tuple for the shape\n",
    "model = Steves_Prototypical_Network(x_net, device=p.device, x_shape=tuple(p.x_shape))\n",
    "optimizer = Adam(params=model.parameters(), lr=p.lr)"
   ]
  },
  {
   "cell_type": "code",
   "execution_count": 22,
   "id": "22b39ac5",
   "metadata": {
    "execution": {
     "iopub.execute_input": "2022-03-28T06:53:40.031636Z",
     "iopub.status.busy": "2022-03-28T06:53:40.031157Z",
     "iopub.status.idle": "2022-03-28T07:10:51.831591Z",
     "shell.execute_reply": "2022-03-28T07:10:51.831239Z"
    },
    "papermill": {
     "duration": 1031.826368,
     "end_time": "2022-03-28T07:10:51.831677",
     "exception": false,
     "start_time": "2022-03-28T06:53:40.005309",
     "status": "completed"
    },
    "tags": []
   },
   "outputs": [
    {
     "name": "stdout",
     "output_type": "stream",
     "text": [
      "epoch: 1, [batch: 1 / 6320], examples_per_second: 33.7391, train_label_loss: 2.2660, \n"
     ]
    },
    {
     "name": "stdout",
     "output_type": "stream",
     "text": [
      "epoch: 1, [batch: 632 / 6320], examples_per_second: 4567.8504, train_label_loss: 0.0969, \n"
     ]
    },
    {
     "name": "stdout",
     "output_type": "stream",
     "text": [
      "epoch: 1, [batch: 1264 / 6320], examples_per_second: 4963.2324, train_label_loss: 0.0444, \n"
     ]
    },
    {
     "name": "stdout",
     "output_type": "stream",
     "text": [
      "epoch: 1, [batch: 1896 / 6320], examples_per_second: 4913.3405, train_label_loss: 0.0011, \n"
     ]
    },
    {
     "name": "stdout",
     "output_type": "stream",
     "text": [
      "epoch: 1, [batch: 2528 / 6320], examples_per_second: 4799.6875, train_label_loss: 0.0196, \n"
     ]
    },
    {
     "name": "stdout",
     "output_type": "stream",
     "text": [
      "epoch: 1, [batch: 3160 / 6320], examples_per_second: 4825.8801, train_label_loss: 0.0009, \n"
     ]
    },
    {
     "name": "stdout",
     "output_type": "stream",
     "text": [
      "epoch: 1, [batch: 3792 / 6320], examples_per_second: 4820.0511, train_label_loss: 0.0031, \n"
     ]
    },
    {
     "name": "stdout",
     "output_type": "stream",
     "text": [
      "epoch: 1, [batch: 4424 / 6320], examples_per_second: 4844.3163, train_label_loss: 0.0023, \n"
     ]
    },
    {
     "name": "stdout",
     "output_type": "stream",
     "text": [
      "epoch: 1, [batch: 5056 / 6320], examples_per_second: 4795.5856, train_label_loss: 0.0228, \n"
     ]
    },
    {
     "name": "stdout",
     "output_type": "stream",
     "text": [
      "epoch: 1, [batch: 5688 / 6320], examples_per_second: 4781.8075, train_label_loss: 0.0002, \n"
     ]
    },
    {
     "name": "stdout",
     "output_type": "stream",
     "text": [
      "=============================================================\n",
      "epoch: 1, source_val_acc_label: 0.9930, target_val_acc_label: 0.3121, source_val_label_loss: 0.3317, target_val_label_loss: 2.2052, \n",
      "=============================================================\n"
     ]
    },
    {
     "name": "stdout",
     "output_type": "stream",
     "text": [
      "New best\n"
     ]
    },
    {
     "name": "stdout",
     "output_type": "stream",
     "text": [
      "epoch: 2, [batch: 1 / 6305], examples_per_second: 5.3472, train_label_loss: 0.0116, \n"
     ]
    },
    {
     "name": "stdout",
     "output_type": "stream",
     "text": [
      "epoch: 2, [batch: 631 / 6305], examples_per_second: 4658.8989, train_label_loss: 0.0002, \n"
     ]
    },
    {
     "name": "stdout",
     "output_type": "stream",
     "text": [
      "epoch: 2, [batch: 1261 / 6305], examples_per_second: 4752.8340, train_label_loss: 0.0016, \n"
     ]
    },
    {
     "name": "stdout",
     "output_type": "stream",
     "text": [
      "epoch: 2, [batch: 1892 / 6305], examples_per_second: 5006.3215, train_label_loss: 0.0008, \n"
     ]
    },
    {
     "name": "stdout",
     "output_type": "stream",
     "text": [
      "epoch: 2, [batch: 2522 / 6305], examples_per_second: 4158.9293, train_label_loss: 0.0040, \n"
     ]
    },
    {
     "name": "stdout",
     "output_type": "stream",
     "text": [
      "epoch: 2, [batch: 3153 / 6305], examples_per_second: 3858.8892, train_label_loss: 0.0059, \n"
     ]
    },
    {
     "name": "stdout",
     "output_type": "stream",
     "text": [
      "epoch: 2, [batch: 3783 / 6305], examples_per_second: 3871.2061, train_label_loss: 0.0028, \n"
     ]
    },
    {
     "name": "stdout",
     "output_type": "stream",
     "text": [
      "epoch: 2, [batch: 4413 / 6305], examples_per_second: 3830.4447, train_label_loss: 0.0003, \n"
     ]
    },
    {
     "name": "stdout",
     "output_type": "stream",
     "text": [
      "epoch: 2, [batch: 5044 / 6305], examples_per_second: 3855.8262, train_label_loss: 0.0012, \n"
     ]
    },
    {
     "name": "stdout",
     "output_type": "stream",
     "text": [
      "epoch: 2, [batch: 5674 / 6305], examples_per_second: 3840.2704, train_label_loss: 0.0013, \n"
     ]
    },
    {
     "name": "stdout",
     "output_type": "stream",
     "text": [
      "=============================================================\n",
      "epoch: 2, source_val_acc_label: 0.9951, target_val_acc_label: 0.3425, source_val_label_loss: 0.0270, target_val_label_loss: 1.9863, \n",
      "=============================================================\n"
     ]
    },
    {
     "name": "stdout",
     "output_type": "stream",
     "text": [
      "New best\n"
     ]
    },
    {
     "name": "stdout",
     "output_type": "stream",
     "text": [
      "epoch: 3, [batch: 1 / 6307], examples_per_second: 4.0940, train_label_loss: 0.3438, \n"
     ]
    },
    {
     "name": "stdout",
     "output_type": "stream",
     "text": [
      "epoch: 3, [batch: 631 / 6307], examples_per_second: 3719.4298, train_label_loss: 0.0004, \n"
     ]
    },
    {
     "name": "stdout",
     "output_type": "stream",
     "text": [
      "epoch: 3, [batch: 1262 / 6307], examples_per_second: 4234.6790, train_label_loss: 0.0750, \n"
     ]
    },
    {
     "name": "stdout",
     "output_type": "stream",
     "text": [
      "epoch: 3, [batch: 1892 / 6307], examples_per_second: 4329.4713, train_label_loss: 0.0000, \n"
     ]
    },
    {
     "name": "stdout",
     "output_type": "stream",
     "text": [
      "epoch: 3, [batch: 2523 / 6307], examples_per_second: 4264.4091, train_label_loss: 0.0003, \n"
     ]
    },
    {
     "name": "stdout",
     "output_type": "stream",
     "text": [
      "epoch: 3, [batch: 3154 / 6307], examples_per_second: 3822.7182, train_label_loss: 0.0001, \n"
     ]
    },
    {
     "name": "stdout",
     "output_type": "stream",
     "text": [
      "epoch: 3, [batch: 3784 / 6307], examples_per_second: 3884.9664, train_label_loss: 0.0001, \n"
     ]
    },
    {
     "name": "stdout",
     "output_type": "stream",
     "text": [
      "epoch: 3, [batch: 4415 / 6307], examples_per_second: 3902.4935, train_label_loss: 0.0007, \n"
     ]
    },
    {
     "name": "stdout",
     "output_type": "stream",
     "text": [
      "epoch: 3, [batch: 5045 / 6307], examples_per_second: 3914.5451, train_label_loss: 0.0000, \n"
     ]
    },
    {
     "name": "stdout",
     "output_type": "stream",
     "text": [
      "epoch: 3, [batch: 5676 / 6307], examples_per_second: 3888.0620, train_label_loss: 0.0001, \n"
     ]
    },
    {
     "name": "stdout",
     "output_type": "stream",
     "text": [
      "=============================================================\n",
      "epoch: 3, source_val_acc_label: 0.9982, target_val_acc_label: 0.4960, source_val_label_loss: 0.0110, target_val_label_loss: 1.8080, \n",
      "=============================================================\n"
     ]
    },
    {
     "name": "stdout",
     "output_type": "stream",
     "text": [
      "New best\n"
     ]
    },
    {
     "name": "stdout",
     "output_type": "stream",
     "text": [
      "epoch: 4, [batch: 1 / 6315], examples_per_second: 4.0926, train_label_loss: 0.0000, \n"
     ]
    },
    {
     "name": "stdout",
     "output_type": "stream",
     "text": [
      "epoch: 4, [batch: 632 / 6315], examples_per_second: 3912.6309, train_label_loss: 0.0246, \n"
     ]
    },
    {
     "name": "stdout",
     "output_type": "stream",
     "text": [
      "epoch: 4, [batch: 1263 / 6315], examples_per_second: 4168.6281, train_label_loss: 0.0026, \n"
     ]
    },
    {
     "name": "stdout",
     "output_type": "stream",
     "text": [
      "epoch: 4, [batch: 1895 / 6315], examples_per_second: 4282.2430, train_label_loss: 0.0056, \n"
     ]
    },
    {
     "name": "stdout",
     "output_type": "stream",
     "text": [
      "epoch: 4, [batch: 2526 / 6315], examples_per_second: 4219.0626, train_label_loss: 0.0000, \n"
     ]
    },
    {
     "name": "stdout",
     "output_type": "stream",
     "text": [
      "epoch: 4, [batch: 3158 / 6315], examples_per_second: 3907.9019, train_label_loss: 0.0090, \n"
     ]
    },
    {
     "name": "stdout",
     "output_type": "stream",
     "text": [
      "epoch: 4, [batch: 3789 / 6315], examples_per_second: 3990.9579, train_label_loss: 0.0000, \n"
     ]
    },
    {
     "name": "stdout",
     "output_type": "stream",
     "text": [
      "epoch: 4, [batch: 4420 / 6315], examples_per_second: 4001.3479, train_label_loss: 0.0002, \n"
     ]
    },
    {
     "name": "stdout",
     "output_type": "stream",
     "text": [
      "epoch: 4, [batch: 5052 / 6315], examples_per_second: 4027.5510, train_label_loss: 0.0000, \n"
     ]
    },
    {
     "name": "stdout",
     "output_type": "stream",
     "text": [
      "epoch: 4, [batch: 5683 / 6315], examples_per_second: 4019.7048, train_label_loss: 0.0000, \n"
     ]
    },
    {
     "name": "stdout",
     "output_type": "stream",
     "text": [
      "=============================================================\n",
      "epoch: 4, source_val_acc_label: 0.9986, target_val_acc_label: 0.4034, source_val_label_loss: 0.0103, target_val_label_loss: 1.8991, \n",
      "=============================================================\n"
     ]
    },
    {
     "name": "stdout",
     "output_type": "stream",
     "text": [
      "epoch: 5, [batch: 1 / 6313], examples_per_second: 4.0195, train_label_loss: 0.0010, \n"
     ]
    },
    {
     "name": "stdout",
     "output_type": "stream",
     "text": [
      "epoch: 5, [batch: 632 / 6313], examples_per_second: 3961.5879, train_label_loss: 0.0314, \n"
     ]
    },
    {
     "name": "stdout",
     "output_type": "stream",
     "text": [
      "epoch: 5, [batch: 1263 / 6313], examples_per_second: 4294.9224, train_label_loss: 0.0001, \n"
     ]
    },
    {
     "name": "stdout",
     "output_type": "stream",
     "text": [
      "epoch: 5, [batch: 1894 / 6313], examples_per_second: 4598.0894, train_label_loss: 0.0001, \n"
     ]
    },
    {
     "name": "stdout",
     "output_type": "stream",
     "text": [
      "epoch: 5, [batch: 2525 / 6313], examples_per_second: 4255.9848, train_label_loss: 0.0060, \n"
     ]
    },
    {
     "name": "stdout",
     "output_type": "stream",
     "text": [
      "epoch: 5, [batch: 3157 / 6313], examples_per_second: 3983.0715, train_label_loss: 0.0003, \n"
     ]
    },
    {
     "name": "stdout",
     "output_type": "stream",
     "text": [
      "epoch: 5, [batch: 3788 / 6313], examples_per_second: 4007.5940, train_label_loss: 0.0000, \n"
     ]
    },
    {
     "name": "stdout",
     "output_type": "stream",
     "text": [
      "epoch: 5, [batch: 4419 / 6313], examples_per_second: 3870.0110, train_label_loss: 0.0000, \n"
     ]
    },
    {
     "name": "stdout",
     "output_type": "stream",
     "text": [
      "epoch: 5, [batch: 5050 / 6313], examples_per_second: 4013.3162, train_label_loss: 0.0000, \n"
     ]
    },
    {
     "name": "stdout",
     "output_type": "stream",
     "text": [
      "epoch: 5, [batch: 5681 / 6313], examples_per_second: 3986.8986, train_label_loss: 0.0050, \n"
     ]
    },
    {
     "name": "stdout",
     "output_type": "stream",
     "text": [
      "=============================================================\n",
      "epoch: 5, source_val_acc_label: 0.9986, target_val_acc_label: 0.3524, source_val_label_loss: 0.0153, target_val_label_loss: 1.7787, \n",
      "=============================================================\n"
     ]
    },
    {
     "name": "stdout",
     "output_type": "stream",
     "text": [
      "epoch: 6, [batch: 1 / 6317], examples_per_second: 4.1365, train_label_loss: 0.0037, \n"
     ]
    },
    {
     "name": "stdout",
     "output_type": "stream",
     "text": [
      "epoch: 6, [batch: 632 / 6317], examples_per_second: 3857.3639, train_label_loss: 0.0000, \n"
     ]
    },
    {
     "name": "stdout",
     "output_type": "stream",
     "text": [
      "epoch: 6, [batch: 1264 / 6317], examples_per_second: 4442.0700, train_label_loss: 0.0002, \n"
     ]
    },
    {
     "name": "stdout",
     "output_type": "stream",
     "text": [
      "epoch: 6, [batch: 1895 / 6317], examples_per_second: 4551.6599, train_label_loss: 0.0051, \n"
     ]
    },
    {
     "name": "stdout",
     "output_type": "stream",
     "text": [
      "epoch: 6, [batch: 2527 / 6317], examples_per_second: 4362.7644, train_label_loss: 0.0010, \n"
     ]
    },
    {
     "name": "stdout",
     "output_type": "stream",
     "text": [
      "epoch: 6, [batch: 3159 / 6317], examples_per_second: 3917.4862, train_label_loss: 0.0007, \n"
     ]
    },
    {
     "name": "stdout",
     "output_type": "stream",
     "text": [
      "epoch: 6, [batch: 3790 / 6317], examples_per_second: 3924.7519, train_label_loss: 0.0001, \n"
     ]
    },
    {
     "name": "stdout",
     "output_type": "stream",
     "text": [
      "epoch: 6, [batch: 4422 / 6317], examples_per_second: 4051.1414, train_label_loss: 0.0001, \n"
     ]
    },
    {
     "name": "stdout",
     "output_type": "stream",
     "text": [
      "epoch: 6, [batch: 5053 / 6317], examples_per_second: 3969.0937, train_label_loss: 0.0000, \n"
     ]
    },
    {
     "name": "stdout",
     "output_type": "stream",
     "text": [
      "epoch: 6, [batch: 5685 / 6317], examples_per_second: 3812.3867, train_label_loss: 0.0000, \n"
     ]
    },
    {
     "name": "stdout",
     "output_type": "stream",
     "text": [
      "=============================================================\n",
      "epoch: 6, source_val_acc_label: 0.9970, target_val_acc_label: 0.4308, source_val_label_loss: 0.0276, target_val_label_loss: 1.8646, \n",
      "=============================================================\n"
     ]
    },
    {
     "name": "stdout",
     "output_type": "stream",
     "text": [
      "epoch: 7, [batch: 1 / 6322], examples_per_second: 4.0195, train_label_loss: 0.0000, \n"
     ]
    },
    {
     "name": "stdout",
     "output_type": "stream",
     "text": [
      "epoch: 7, [batch: 633 / 6322], examples_per_second: 3814.6411, train_label_loss: 0.0000, \n"
     ]
    },
    {
     "name": "stdout",
     "output_type": "stream",
     "text": [
      "epoch: 7, [batch: 1265 / 6322], examples_per_second: 4254.3693, train_label_loss: 0.0000, \n"
     ]
    },
    {
     "name": "stdout",
     "output_type": "stream",
     "text": [
      "epoch: 7, [batch: 1897 / 6322], examples_per_second: 4313.7449, train_label_loss: 0.0015, \n"
     ]
    },
    {
     "name": "stdout",
     "output_type": "stream",
     "text": [
      "epoch: 7, [batch: 2529 / 6322], examples_per_second: 4050.6558, train_label_loss: 0.0000, \n"
     ]
    },
    {
     "name": "stdout",
     "output_type": "stream",
     "text": [
      "epoch: 7, [batch: 3161 / 6322], examples_per_second: 3943.1697, train_label_loss: 0.0001, \n"
     ]
    },
    {
     "name": "stdout",
     "output_type": "stream",
     "text": [
      "epoch: 7, [batch: 3793 / 6322], examples_per_second: 3786.2819, train_label_loss: 0.0000, \n"
     ]
    },
    {
     "name": "stdout",
     "output_type": "stream",
     "text": [
      "epoch: 7, [batch: 4425 / 6322], examples_per_second: 3862.0463, train_label_loss: 0.0000, \n"
     ]
    },
    {
     "name": "stdout",
     "output_type": "stream",
     "text": [
      "epoch: 7, [batch: 5057 / 6322], examples_per_second: 3960.1480, train_label_loss: 0.0000, \n"
     ]
    },
    {
     "name": "stdout",
     "output_type": "stream",
     "text": [
      "epoch: 7, [batch: 5689 / 6322], examples_per_second: 3942.5432, train_label_loss: 0.0000, \n"
     ]
    },
    {
     "name": "stdout",
     "output_type": "stream",
     "text": [
      "=============================================================\n",
      "epoch: 7, source_val_acc_label: 0.9989, target_val_acc_label: 0.3892, source_val_label_loss: 0.0090, target_val_label_loss: 1.8048, \n",
      "=============================================================\n"
     ]
    },
    {
     "name": "stdout",
     "output_type": "stream",
     "text": [
      "Patience (3) exhausted\n"
     ]
    }
   ],
   "source": [
    "###################################\n",
    "# train\n",
    "###################################\n",
    "jig = PTN_Train_Eval_Test_Jig(model, p.BEST_MODEL_PATH, p.device)\n",
    "\n",
    "jig.train(\n",
    "    train_iterable=datasets.source.processed.train,\n",
    "    source_val_iterable=datasets.source.processed.val,\n",
    "    target_val_iterable=datasets.target.processed.val,\n",
    "    num_epochs=p.n_epoch,\n",
    "    num_logs_per_epoch=p.NUM_LOGS_PER_EPOCH,\n",
    "    patience=p.patience,\n",
    "    optimizer=optimizer,\n",
    "    criteria_for_best=p.criteria_for_best,\n",
    ")"
   ]
  },
  {
   "cell_type": "code",
   "execution_count": 23,
   "id": "31e8fabf",
   "metadata": {
    "execution": {
     "iopub.execute_input": "2022-03-28T07:10:51.926069Z",
     "iopub.status.busy": "2022-03-28T07:10:51.925703Z",
     "iopub.status.idle": "2022-03-28T07:10:51.959676Z",
     "shell.execute_reply": "2022-03-28T07:10:51.958830Z"
    },
    "papermill": {
     "duration": 0.084396,
     "end_time": "2022-03-28T07:10:51.959837",
     "exception": false,
     "start_time": "2022-03-28T07:10:51.875441",
     "status": "completed"
    },
    "tags": []
   },
   "outputs": [],
   "source": [
    "total_experiment_time_secs = time.time() - start_time_secs"
   ]
  },
  {
   "cell_type": "code",
   "execution_count": 24,
   "id": "87b9595b",
   "metadata": {
    "execution": {
     "iopub.execute_input": "2022-03-28T07:10:52.061838Z",
     "iopub.status.busy": "2022-03-28T07:10:52.061398Z",
     "iopub.status.idle": "2022-03-28T07:13:33.897012Z",
     "shell.execute_reply": "2022-03-28T07:13:33.896262Z"
    },
    "papermill": {
     "duration": 161.88709,
     "end_time": "2022-03-28T07:13:33.897201",
     "exception": false,
     "start_time": "2022-03-28T07:10:52.010111",
     "status": "completed"
    },
    "tags": []
   },
   "outputs": [],
   "source": [
    "###################################\n",
    "# Evaluate the model\n",
    "###################################\n",
    "source_test_label_accuracy, source_test_label_loss = jig.test(datasets.source.processed.test)\n",
    "target_test_label_accuracy, target_test_label_loss = jig.test(datasets.target.processed.test)\n",
    "\n",
    "source_val_label_accuracy, source_val_label_loss = jig.test(datasets.source.processed.val)\n",
    "target_val_label_accuracy, target_val_label_loss = jig.test(datasets.target.processed.val)\n",
    "\n",
    "history = jig.get_history()\n",
    "\n",
    "total_epochs_trained = len(history[\"epoch_indices\"])\n",
    "\n",
    "val_dl = Iterable_Aggregator((datasets.source.original.val,datasets.target.original.val))\n",
    "\n",
    "confusion = ptn_confusion_by_domain_over_dataloader(model, p.device, val_dl)\n",
    "per_domain_accuracy = per_domain_accuracy_from_confusion(confusion)\n",
    "\n",
    "# Add a key to per_domain_accuracy for if it was a source domain\n",
    "for domain, accuracy in per_domain_accuracy.items():\n",
    "    per_domain_accuracy[domain] = {\n",
    "        \"accuracy\": accuracy,\n",
    "        \"source?\": domain in p.domains_source\n",
    "    }\n",
    "\n",
    "# Do an independent accuracy assesment JUST TO BE SURE!\n",
    "# _source_test_label_accuracy = independent_accuracy_assesment(model, datasets.source.processed.test, p.device)\n",
    "# _target_test_label_accuracy = independent_accuracy_assesment(model, datasets.target.processed.test, p.device)\n",
    "# _source_val_label_accuracy = independent_accuracy_assesment(model, datasets.source.processed.val, p.device)\n",
    "# _target_val_label_accuracy = independent_accuracy_assesment(model, datasets.target.processed.val, p.device)\n",
    "\n",
    "# assert(_source_test_label_accuracy == source_test_label_accuracy)\n",
    "# assert(_target_test_label_accuracy == target_test_label_accuracy)\n",
    "# assert(_source_val_label_accuracy == source_val_label_accuracy)\n",
    "# assert(_target_val_label_accuracy == target_val_label_accuracy)\n",
    "\n",
    "experiment = {\n",
    "    \"experiment_name\": p.experiment_name,\n",
    "    \"parameters\": dict(p),\n",
    "    \"results\": {\n",
    "        \"source_test_label_accuracy\": source_test_label_accuracy,\n",
    "        \"source_test_label_loss\": source_test_label_loss,\n",
    "        \"target_test_label_accuracy\": target_test_label_accuracy,\n",
    "        \"target_test_label_loss\": target_test_label_loss,\n",
    "        \"source_val_label_accuracy\": source_val_label_accuracy,\n",
    "        \"source_val_label_loss\": source_val_label_loss,\n",
    "        \"target_val_label_accuracy\": target_val_label_accuracy,\n",
    "        \"target_val_label_loss\": target_val_label_loss,\n",
    "        \"total_epochs_trained\": total_epochs_trained,\n",
    "        \"total_experiment_time_secs\": total_experiment_time_secs,\n",
    "        \"confusion\": confusion,\n",
    "        \"per_domain_accuracy\": per_domain_accuracy,\n",
    "    },\n",
    "    \"history\": history,\n",
    "    \"dataset_metrics\": get_dataset_metrics(datasets, \"ptn\"),\n",
    "}"
   ]
  },
  {
   "cell_type": "code",
   "execution_count": 25,
   "id": "54a21829",
   "metadata": {
    "execution": {
     "iopub.execute_input": "2022-03-28T07:13:33.996971Z",
     "iopub.status.busy": "2022-03-28T07:13:33.996455Z",
     "iopub.status.idle": "2022-03-28T07:13:34.220465Z",
     "shell.execute_reply": "2022-03-28T07:13:34.221152Z"
    },
    "papermill": {
     "duration": 0.273327,
     "end_time": "2022-03-28T07:13:34.221361",
     "exception": false,
     "start_time": "2022-03-28T07:13:33.948034",
     "status": "completed"
    },
    "tags": []
   },
   "outputs": [
    {
     "data": {
      "image/png": "[encoded data removed]",
      "text/plain": [
       "<Figure size 1080x504 with 1 Axes>"
      ]
     },
     "metadata": {
      "needs_background": "light"
     },
     "output_type": "display_data"
    }
   ],
   "source": [
    "ax = get_loss_curve(experiment)\n",
    "plt.show()"
   ]
  },
  {
   "cell_type": "code",
   "execution_count": 26,
   "id": "fd8a0f60",
   "metadata": {
    "execution": {
     "iopub.execute_input": "2022-03-28T07:13:34.318925Z",
     "iopub.status.busy": "2022-03-28T07:13:34.318561Z",
     "iopub.status.idle": "2022-03-28T07:13:34.677334Z",
     "shell.execute_reply": "2022-03-28T07:13:34.678044Z"
    },
    "papermill": {
     "duration": 0.40757,
     "end_time": "2022-03-28T07:13:34.678229",
     "exception": false,
     "start_time": "2022-03-28T07:13:34.270659",
     "status": "completed"
    },
    "tags": []
   },
   "outputs": [
    {
     "data": {
      "text/plain": [
       "<AxesSubplot:title={'center':'Results'}>"
      ]
     },
     "execution_count": 26,
     "metadata": {},
     "output_type": "execute_result"
    },
    {
     "data": {
      "image/png": "[encoded data removed]",
      "text/plain": [
       "<Figure size 1080x504 with 1 Axes>"
      ]
     },
     "metadata": {
      "needs_background": "light"
     },
     "output_type": "display_data"
    }
   ],
   "source": [
    "get_results_table(experiment)"
   ]
  },
  {
   "cell_type": "code",
   "execution_count": 27,
   "id": "cf8dc689",
   "metadata": {
    "execution": {
     "iopub.execute_input": "2022-03-28T07:13:34.780581Z",
     "iopub.status.busy": "2022-03-28T07:13:34.780214Z",
     "iopub.status.idle": "2022-03-28T07:13:35.028085Z",
     "shell.execute_reply": "2022-03-28T07:13:35.027231Z"
    },
    "papermill": {
     "duration": 0.298917,
     "end_time": "2022-03-28T07:13:35.028245",
     "exception": false,
     "start_time": "2022-03-28T07:13:34.729328",
     "status": "completed"
    },
    "tags": []
   },
   "outputs": [
    {
     "data": {
      "text/plain": [
       "<AxesSubplot:title={'center':'Per Domain Validation Accuracy'}, xlabel='domain'>"
      ]
     },
     "execution_count": 27,
     "metadata": {},
     "output_type": "execute_result"
    },
    {
     "data": {
      "image/png": "[encoded data removed]",
      "text/plain": [
       "<Figure size 1080x504 with 1 Axes>"
      ]
     },
     "metadata": {
      "needs_background": "light"
     },
     "output_type": "display_data"
    }
   ],
   "source": [
    "get_domain_accuracies(experiment)"
   ]
  },
  {
   "cell_type": "code",
   "execution_count": 28,
   "id": "a74ae082",
   "metadata": {
    "execution": {
     "iopub.execute_input": "2022-03-28T07:13:35.131731Z",
     "iopub.status.busy": "2022-03-28T07:13:35.131037Z",
     "iopub.status.idle": "2022-03-28T07:13:35.156984Z",
     "shell.execute_reply": "2022-03-28T07:13:35.156175Z"
    },
    "papermill": {
     "duration": 0.076603,
     "end_time": "2022-03-28T07:13:35.157139",
     "exception": false,
     "start_time": "2022-03-28T07:13:35.080536",
     "status": "completed"
    },
    "tags": []
   },
   "outputs": [
    {
     "name": "stdout",
     "output_type": "stream",
     "text": [
      "Source Test Label Accuracy: 0.9990179573512907 Target Test Label Accuracy: 0.49990234375\n",
      "Source Val Label Accuracy: 0.9981806506849316 Target Val Label Accuracy: 0.49602864583333334\n"
     ]
    }
   ],
   "source": [
    "print(\"Source Test Label Accuracy:\", experiment[\"results\"][\"source_test_label_accuracy\"], \"Target Test Label Accuracy:\", experiment[\"results\"][\"target_test_label_accuracy\"])\n",
    "print(\"Source Val Label Accuracy:\", experiment[\"results\"][\"source_val_label_accuracy\"], \"Target Val Label Accuracy:\", experiment[\"results\"][\"target_val_label_accuracy\"])"
   ]
  },
  {
   "cell_type": "code",
   "execution_count": 29,
   "id": "dacca602",
   "metadata": {
    "execution": {
     "iopub.execute_input": "2022-03-28T07:13:35.260057Z",
     "iopub.status.busy": "2022-03-28T07:13:35.259635Z",
     "iopub.status.idle": "2022-03-28T07:13:35.282142Z",
     "shell.execute_reply": "2022-03-28T07:13:35.282824Z"
    },
    "papermill": {
     "duration": 0.074868,
     "end_time": "2022-03-28T07:13:35.283006",
     "exception": false,
     "start_time": "2022-03-28T07:13:35.208138",
     "status": "completed"
    },
    "tags": [
     "experiment_json"
    ]
   },
   "outputs": [
    {
     "data": {
      "text/plain": [
       "'{\"experiment_name\": \"tl_3-jitter10v2:cores -> oracle.run1.framed\", \"parameters\": {\"experiment_name\": \"tl_3-jitter10v2:cores -> oracle.run1.framed\", \"device\": \"cuda\", \"lr\": 0.0001, \"x_shape\": [2, 256], \"n_shot\": 3, \"n_query\": 2, \"train_k_factor\": 3, \"val_k_factor\": 2, \"test_k_factor\": 2, \"torch_default_dtype\": \"torch.float32\", \"n_epoch\": 50, \"patience\": 3, \"criteria_for_best\": \"target_accuracy\", \"x_net\": [{\"class\": \"nnReshape\", \"kargs\": {\"shape\": [-1, 1, 2, 256]}}, {\"class\": \"Conv2d\", \"kargs\": {\"in_channels\": 1, \"out_channels\": 256, \"kernel_size\": [1, 7], \"bias\": false, \"padding\": [0, 3]}}, {\"class\": \"ReLU\", \"kargs\": {\"inplace\": true}}, {\"class\": \"BatchNorm2d\", \"kargs\": {\"num_features\": 256}}, {\"class\": \"Conv2d\", \"kargs\": {\"in_channels\": 256, \"out_channels\": 80, \"kernel_size\": [2, 7], \"bias\": true, \"padding\": [0, 3]}}, {\"class\": \"ReLU\", \"kargs\": {\"inplace\": true}}, {\"class\": \"BatchNorm2d\", \"kargs\": {\"num_features\": 80}}, {\"class\": \"Flatten\", \"kargs\": {}}, {\"class\": \"Linear\", \"kargs\": {\"in_features\": 20480, \"out_features\": 256}}, {\"class\": \"ReLU\", \"kargs\": {\"inplace\": true}}, {\"class\": \"BatchNorm1d\", \"kargs\": {\"num_features\": 256}}, {\"class\": \"Linear\", \"kargs\": {\"in_features\": 256, \"out_features\": 256}}], \"NUM_LOGS_PER_EPOCH\": 10, \"BEST_MODEL_PATH\": \"./best_model.pth\", \"n_way\": 16, \"datasets\": [{\"labels\": [\"1-10.\", \"1-11.\", \"1-15.\", \"1-16.\", \"1-17.\", \"1-18.\", \"1-19.\", \"10-4.\", \"10-7.\", \"11-1.\", \"11-14.\", \"11-17.\", \"11-20.\", \"11-7.\", \"13-20.\", \"13-8.\", \"14-10.\", \"14-11.\", \"14-14.\", \"14-7.\", \"15-1.\", \"15-20.\", \"16-1.\", \"16-16.\", \"17-10.\", \"17-11.\", \"17-2.\", \"19-1.\", \"19-16.\", \"19-19.\", \"19-20.\", \"19-3.\", \"2-10.\", \"2-11.\", \"2-17.\", \"2-18.\", \"2-20.\", \"2-3.\", \"2-4.\", \"2-5.\", \"2-6.\", \"2-7.\", \"2-8.\", \"3-13.\", \"3-18.\", \"3-3.\", \"4-1.\", \"4-10.\", \"4-11.\", \"4-19.\", \"5-5.\", \"6-15.\", \"7-10.\", \"7-14.\", \"8-18.\", \"8-20.\", \"8-3.\", \"8-8.\"], \"domains\": [1, 2, 3, 4, 5], \"num_examples_per_domain_per_label\": -1, \"pickle_path\": \"/root/csc500-main/datasets/cores.stratified_ds.2022A.pkl\", \"source_or_target_dataset\": \"source\", \"x_transforms\": [\"jitter_256_10\", \"lowpass_+/-10MHz\", \"take_200\"], \"episode_transforms\": [], \"domain_prefix\": \"C_\"}, {\"labels\": [\"3123D52\", \"3123D65\", \"3123D79\", \"3123D80\", \"3123D54\", \"3123D70\", \"3123D7B\", \"3123D89\", \"3123D58\", \"3123D76\", \"3123D7D\", \"3123EFE\", \"3123D64\", \"3123D78\", \"3123D7E\", \"3124E4A\"], \"domains\": [32, 38, 8, 44, 14, 50, 20, 26], \"num_examples_per_domain_per_label\": 2000, \"pickle_path\": \"/root/csc500-main/datasets/oracle.Run1_framed_2000Examples_stratified_ds.2022A.pkl\", \"source_or_target_dataset\": \"target\", \"x_transforms\": [\"jitter_256_10\", \"take_200\", \"resample_20Msps_to_25Msps\"], \"episode_transforms\": [], \"domain_prefix\": \"O_\"}], \"seed\": 1337, \"dataset_seed\": 1337, \"domains_source\": [\"C_1\", \"C_2\", \"C_3\", \"C_4\", \"C_5\"], \"domains_target\": [\"O_32\", \"O_38\", \"O_8\", \"O_44\", \"O_14\", \"O_50\", \"O_20\", \"O_26\"]}, \"results\": {\"source_test_label_accuracy\": 0.9990179573512907, \"source_test_label_loss\": 0.009463158436119556, \"target_test_label_accuracy\": 0.49990234375, \"target_test_label_loss\": 1.801960825920105, \"source_val_label_accuracy\": 0.9981806506849316, \"source_val_label_loss\": 0.01098548248410225, \"target_val_label_accuracy\": 0.49602864583333334, \"target_val_label_loss\": 1.8079568147659302, \"total_epochs_trained\": 7, \"total_experiment_time_secs\": 1110.9358727931976, \"confusion\": {\"C_3\": {\"43\": {\"43\": 128}, \"9\": {\"9\": 150}, \"6\": {\"6\": 88}, \"3\": {\"3\": 144}, \"16\": {\"16\": 134}, \"51\": {\"51\": 128}, \"31\": {\"31\": 28}, \"46\": {\"46\": 134}, \"19\": {\"19\": 124}, \"8\": {\"8\": 152}, \"18\": {\"18\": 84}, \"37\": {\"37\": 28}, \"24\": {\"24\": 104}, \"10\": {\"10\": 64}, \"44\": {\"44\": 88}, \"14\": {\"14\": 40}, \"38\": {\"38\": 28}, \"53\": {\"53\": 140}, \"20\": {\"20\": 132}, \"32\": {\"32\": 28}, \"36\": {\"36\": 100}, \"33\": {\"33\": 28}, \"56\": {\"56\": 136}, \"23\": {\"23\": 130}, \"54\": {\"54\": 100}, \"21\": {\"21\": 125, \"50\": 1}, \"28\": {\"28\": 28}, \"26\": {\"26\": 24}, \"48\": {\"48\": 116}, \"52\": {\"52\": 118}, \"39\": {\"39\": 16}, \"22\": {\"22\": 140}, \"13\": {\"13\": 128}, \"2\": {\"2\": 32}, \"34\": {\"34\": 32}, \"27\": {\"27\": 132}, \"45\": {\"45\": 59, \"12\": 1}, \"35\": {\"35\": 28}, \"29\": {\"29\": 128}, \"25\": {\"25\": 144}, \"0\": {\"0\": 124}, \"41\": {\"41\": 28}, \"11\": {\"11\": 142}, \"5\": {\"5\": 108}, \"1\": {\"1\": 100}, \"57\": {\"57\": 116}, \"17\": {\"17\": 106, \"10\": 1, \"24\": 1}, \"7\": {\"7\": 36}, \"12\": {\"12\": 92}, \"47\": {\"47\": 92}, \"40\": {\"40\": 136}, \"15\": {\"15\": 142}, \"42\": {\"42\": 28}, \"55\": {\"55\": 150}, \"49\": {\"49\": 20}, \"30\": {\"30\": 120}, \"50\": {\"50\": 134}, \"4\": {\"4\": 136}}, \"C_4\": {\"35\": {\"35\": 40}, \"25\": {\"25\": 134}, \"24\": {\"24\": 56}, \"48\": {\"48\": 138}, \"51\": {\"51\": 144}, \"13\": {\"13\": 120}, \"14\": {\"14\": 14, \"57\": 1, \"40\": 1}, \"32\": {\"32\": 24}, \"30\": {\"30\": 44}, \"34\": {\"34\": 23, \"28\": 1}, \"9\": {\"9\": 136}, \"1\": {\"1\": 40}, \"0\": {\"0\": 80}, \"38\": {\"38\": 40}, \"22\": {\"22\": 128}, \"40\": {\"40\": 120}, \"6\": {\"6\": 111, \"50\": 1}, \"16\": {\"16\": 96}, \"11\": {\"11\": 104}, \"20\": {\"20\": 122}, \"17\": {\"17\": 80}, \"26\": {\"26\": 24}, \"54\": {\"54\": 108}, \"55\": {\"55\": 153, \"36\": 1}, \"50\": {\"50\": 124, \"3\": 5, \"6\": 2, \"22\": 1}, \"19\": {\"19\": 142}, \"44\": {\"44\": 122}, \"47\": {\"47\": 120}, \"33\": {\"33\": 36}, \"5\": {\"5\": 108}, \"18\": {\"18\": 108}, \"21\": {\"21\": 124}, \"41\": {\"41\": 36}, \"23\": {\"23\": 128}, \"39\": {\"39\": 20}, \"37\": {\"37\": 24}, \"8\": {\"8\": 144}, \"49\": {\"49\": 20}, \"53\": {\"53\": 140}, \"31\": {\"31\": 28}, \"28\": {\"28\": 32}, \"3\": {\"3\": 123, \"6\": 1}, \"27\": {\"27\": 138}, \"46\": {\"46\": 126, \"22\": 2}, \"12\": {\"12\": 92}, \"7\": {\"7\": 24}, \"4\": {\"4\": 132}, \"42\": {\"42\": 32}, \"43\": {\"43\": 130}, \"29\": {\"29\": 120}, \"57\": {\"57\": 100}, \"52\": {\"52\": 104}, \"45\": {\"45\": 96}, \"36\": {\"36\": 92}, \"10\": {\"10\": 126}, \"15\": {\"15\": 133, \"11\": 1}, \"56\": {\"56\": 124}, \"2\": {\"2\": 36}}, \"C_5\": {\"47\": {\"47\": 100}, \"53\": {\"53\": 150}, \"29\": {\"29\": 126}, \"52\": {\"52\": 130}, \"55\": {\"55\": 144}, \"17\": {\"17\": 116}, \"42\": {\"42\": 40}, \"33\": {\"33\": 32}, \"11\": {\"11\": 148}, \"19\": {\"19\": 118}, \"1\": {\"1\": 144}, \"44\": {\"44\": 142}, \"49\": {\"49\": 36}, \"4\": {\"4\": 100}, \"6\": {\"6\": 113, \"45\": 3}, \"39\": {\"39\": 20}, \"50\": {\"50\": 147, \"6\": 1}, \"56\": {\"56\": 130}, \"25\": {\"25\": 144}, \"28\": {\"28\": 32}, \"35\": {\"35\": 36}, \"24\": {\"24\": 80}, \"21\": {\"21\": 132}, \"45\": {\"45\": 124}, \"16\": {\"16\": 144}, \"37\": {\"37\": 24}, \"57\": {\"57\": 132}, \"34\": {\"34\": 36}, \"38\": {\"38\": 32}, \"48\": {\"48\": 130}, \"26\": {\"26\": 24}, \"9\": {\"9\": 151, \"30\": 1}, \"18\": {\"18\": 64}, \"3\": {\"3\": 100}, \"23\": {\"23\": 124}, \"15\": {\"15\": 154}, \"10\": {\"10\": 68}, \"46\": {\"46\": 147, \"56\": 1}, \"22\": {\"22\": 27, \"56\": 1}, \"54\": {\"54\": 112}, \"27\": {\"27\": 160}, \"41\": {\"41\": 28}, \"31\": {\"31\": 36}, \"0\": {\"0\": 124}, \"7\": {\"7\": 32}, \"2\": {\"2\": 28}, \"14\": {\"14\": 44}, \"40\": {\"40\": 124}, \"5\": {\"5\": 127, \"44\": 1}, \"12\": {\"12\": 95, \"6\": 1}, \"43\": {\"43\": 142}, \"13\": {\"13\": 148}, \"36\": {\"36\": 92}, \"8\": {\"8\": 150}, \"32\": {\"32\": 32}, \"30\": {\"30\": 128}, \"51\": {\"51\": 138}, \"20\": {\"20\": 138}}, \"C_1\": {\"46\": {\"46\": 140}, \"16\": {\"16\": 134}, \"26\": {\"26\": 24}, \"10\": {\"10\": 95, \"11\": 1}, \"9\": {\"9\": 156}, \"28\": {\"28\": 28}, \"51\": {\"51\": 156}, \"1\": {\"1\": 100}, \"55\": {\"55\": 148}, \"27\": {\"27\": 124}, \"22\": {\"22\": 123, \"21\": 1}, \"52\": {\"52\": 126}, \"3\": {\"3\": 140}, \"33\": {\"33\": 32}, \"47\": {\"47\": 120}, \"42\": {\"42\": 40}, \"12\": {\"12\": 116}, \"23\": {\"23\": 132}, \"49\": {\"49\": 32}, \"7\": {\"7\": 28}, \"4\": {\"4\": 132}, \"50\": {\"50\": 134}, \"19\": {\"19\": 154}, \"11\": {\"11\": 138, \"10\": 2}, \"31\": {\"31\": 28}, \"41\": {\"41\": 24}, \"56\": {\"56\": 138}, \"0\": {\"0\": 148}, \"57\": {\"57\": 128}, \"53\": {\"53\": 140}, \"43\": {\"43\": 144}, \"37\": {\"37\": 32}, \"2\": {\"2\": 36}, \"6\": {\"6\": 96}, \"13\": {\"13\": 150}, \"18\": {\"18\": 71, \"3\": 1}, \"36\": {\"36\": 64}, \"29\": {\"29\": 139, \"57\": 1}, \"39\": {\"39\": 28}, \"17\": {\"17\": 64}, \"21\": {\"21\": 124}, \"25\": {\"25\": 132}, \"45\": {\"45\": 142}, \"38\": {\"39\": 1, \"38\": 21, \"55\": 2}, \"30\": {\"30\": 120}, \"24\": {\"24\": 108}, \"20\": {\"20\": 140}, \"8\": {\"8\": 140}, \"35\": {\"35\": 36}, \"54\": {\"54\": 104}, \"5\": {\"5\": 148}, \"48\": {\"48\": 144}, \"15\": {\"15\": 142}, \"34\": {\"34\": 24}, \"14\": {\"14\": 22, \"30\": 2}, \"32\": {\"32\": 32}, \"40\": {\"40\": 148}, \"44\": {\"44\": 136}}, \"C_2\": {\"36\": {\"36\": 115, \"35\": 1}, \"5\": {\"5\": 120}, \"45\": {\"45\": 127, \"6\": 1}, \"49\": {\"49\": 23, \"28\": 1}, \"50\": {\"50\": 136}, \"4\": {\"4\": 138}, \"43\": {\"43\": 148}, \"41\": {\"41\": 19, \"52\": 1}, \"37\": {\"37\": 36}, \"12\": {\"12\": 92}, \"33\": {\"33\": 28}, \"7\": {\"7\": 36}, \"56\": {\"56\": 140}, \"14\": {\"14\": 22, \"57\": 2}, \"52\": {\"52\": 124}, \"44\": {\"44\": 96}, \"48\": {\"48\": 144}, \"20\": {\"20\": 128}, \"55\": {\"55\": 144}, \"32\": {\"32\": 26, \"54\": 2}, \"40\": {\"40\": 136}, \"54\": {\"54\": 108}, \"17\": {\"17\": 104}, \"38\": {\"38\": 20}, \"24\": {\"24\": 96}, \"1\": {\"1\": 112}, \"6\": {\"6\": 124}, \"34\": {\"34\": 28}, \"11\": {\"11\": 136}, \"9\": {\"9\": 150}, \"8\": {\"8\": 152}, \"22\": {\"22\": 136}, \"26\": {\"26\": 24}, \"23\": {\"23\": 146}, \"10\": {\"10\": 112}, \"18\": {\"18\": 48}, \"13\": {\"13\": 116}, \"30\": {\"30\": 128}, \"42\": {\"42\": 36}, \"31\": {\"31\": 28}, \"46\": {\"46\": 128}, \"57\": {\"57\": 142}, \"47\": {\"47\": 138}, \"35\": {\"35\": 31, \"36\": 1}, \"15\": {\"15\": 132}, \"25\": {\"25\": 136}, \"19\": {\"19\": 136}, \"51\": {\"51\": 128}, \"53\": {\"53\": 134}, \"21\": {\"21\": 120}, \"39\": {\"39\": 27, \"33\": 1}, \"2\": {\"2\": 32}, \"16\": {\"16\": 150}, \"0\": {\"0\": 48}, \"3\": {\"3\": 92}, \"27\": {\"27\": 142}, \"28\": {\"28\": 28}, \"29\": {\"29\": 128}}, \"O_14\": {\"15\": {\"15\": 240}, \"3\": {\"6\": 53, \"14\": 14, \"3\": 103, \"0\": 32, \"2\": 3, \"5\": 2, \"8\": 3, \"13\": 18, \"7\": 12}, \"6\": {\"13\": 58, \"6\": 106, \"0\": 11, \"7\": 1, \"2\": 9, \"14\": 21, \"3\": 34}, \"1\": {\"9\": 8, \"1\": 207, \"10\": 10, \"4\": 15}, \"8\": {\"8\": 159, \"5\": 17, \"7\": 26, \"2\": 3, \"0\": 9, \"4\": 1, \"12\": 15, \"3\": 9, \"13\": 1}, \"10\": {\"10\": 143, \"4\": 47, \"2\": 11, \"5\": 2, \"9\": 30, \"1\": 6, \"0\": 1}, \"9\": {\"10\": 36, \"9\": 180, \"4\": 8, \"1\": 13, \"12\": 3}, \"13\": {\"13\": 54, \"10\": 6, \"14\": 35, \"0\": 7, \"6\": 57, \"15\": 20, \"2\": 26, \"4\": 17, \"3\": 10, \"5\": 8}, \"12\": {\"12\": 182, \"8\": 20, \"0\": 27, \"5\": 1, \"3\": 1, \"2\": 3, \"9\": 4, \"14\": 2}, \"5\": {\"8\": 24, \"5\": 93, \"7\": 17, \"2\": 41, \"4\": 28, \"14\": 17, \"12\": 2, \"10\": 1, \"0\": 8, \"6\": 2, \"3\": 3, \"13\": 4}, \"0\": {\"0\": 64, \"3\": 48, \"12\": 14, \"14\": 39, \"2\": 15, \"8\": 12, \"5\": 17, \"4\": 4, \"7\": 3, \"6\": 11, \"13\": 12, \"10\": 1}, \"2\": {\"4\": 28, \"5\": 49, \"0\": 7, \"14\": 36, \"6\": 16, \"2\": 55, \"13\": 18, \"3\": 16, \"8\": 5, \"10\": 3, \"7\": 6, \"9\": 1}, \"11\": {\"11\": 234, \"1\": 4, \"9\": 2}, \"14\": {\"2\": 34, \"3\": 23, \"0\": 21, \"6\": 42, \"14\": 75, \"13\": 27, \"5\": 15, \"7\": 1, \"8\": 1, \"12\": 1}, \"7\": {\"3\": 37, \"0\": 2, \"8\": 36, \"7\": 104, \"2\": 16, \"5\": 30, \"13\": 3, \"6\": 6, \"14\": 6}, \"4\": {\"4\": 133, \"10\": 46, \"5\": 38, \"2\": 14, \"13\": 1, \"1\": 3, \"8\": 1, \"7\": 1, \"14\": 1, \"9\": 2}}, \"O_20\": {\"3\": {\"1\": 27, \"5\": 30, \"14\": 34, \"0\": 8, \"8\": 46, \"7\": 10, \"2\": 4, \"9\": 27, \"3\": 33, \"15\": 7, \"11\": 1, \"4\": 3, \"12\": 7, \"6\": 3}, \"15\": {\"13\": 33, \"2\": 17, \"1\": 16, \"10\": 2, \"15\": 47, \"7\": 25, \"12\": 33, \"6\": 7, \"4\": 4, \"3\": 13, \"9\": 21, \"5\": 14, \"14\": 5, \"8\": 3}, \"8\": {\"3\": 40, \"8\": 60, \"9\": 18, \"0\": 18, \"5\": 33, \"14\": 41, \"6\": 2, \"1\": 20, \"15\": 1, \"11\": 1, \"7\": 4, \"12\": 1, \"2\": 1}, \"4\": {\"2\": 17, \"15\": 15, \"14\": 11, \"4\": 66, \"12\": 30, \"6\": 32, \"1\": 5, \"7\": 14, \"10\": 21, \"13\": 12, \"9\": 8, \"3\": 6, \"8\": 1, \"5\": 2}, \"14\": {\"8\": 46, \"14\": 77, \"3\": 29, \"7\": 10, \"0\": 5, \"5\": 18, \"1\": 18, \"9\": 21, \"11\": 2, \"12\": 3, \"2\": 3, \"6\": 7, \"15\": 1}, \"0\": {\"0\": 156, \"5\": 13, \"8\": 22, \"11\": 37, \"14\": 3, \"3\": 4, \"1\": 3, \"9\": 2}, \"7\": {\"1\": 19, \"2\": 31, \"14\": 21, \"13\": 24, \"9\": 29, \"12\": 23, \"7\": 17, \"15\": 19, \"6\": 19, \"3\": 15, \"8\": 6, \"5\": 9, \"4\": 8}, \"6\": {\"2\": 40, \"9\": 14, \"13\": 19, \"7\": 34, \"12\": 26, \"14\": 13, \"4\": 19, \"15\": 16, \"6\": 42, \"10\": 2, \"5\": 2, \"8\": 5, \"3\": 4, \"1\": 4}, \"10\": {\"13\": 14, \"10\": 155, \"6\": 19, \"4\": 41, \"12\": 4, \"15\": 1, \"2\": 4, \"7\": 2}, \"5\": {\"3\": 30, \"5\": 43, \"1\": 35, \"15\": 32, \"9\": 20, \"8\": 42, \"12\": 12, \"7\": 9, \"14\": 9, \"2\": 5, \"0\": 1, \"13\": 2}, \"2\": {\"13\": 56, \"2\": 37, \"15\": 19, \"12\": 35, \"7\": 25, \"6\": 23, \"14\": 3, \"9\": 18, \"4\": 13, \"5\": 3, \"3\": 4, \"1\": 3, \"8\": 1}, \"12\": {\"6\": 22, \"15\": 31, \"10\": 7, \"7\": 21, \"2\": 35, \"12\": 30, \"13\": 32, \"3\": 10, \"4\": 15, \"14\": 8, \"9\": 14, \"1\": 9, \"5\": 5, \"8\": 1}, \"9\": {\"7\": 19, \"15\": 27, \"9\": 26, \"2\": 25, \"14\": 30, \"1\": 24, \"8\": 24, \"12\": 19, \"5\": 11, \"3\": 18, \"6\": 10, \"13\": 5, \"4\": 2}, \"1\": {\"15\": 30, \"1\": 36, \"5\": 37, \"3\": 34, \"12\": 19, \"8\": 15, \"7\": 10, \"2\": 12, \"9\": 19, \"6\": 3, \"14\": 14, \"13\": 10, \"4\": 1}, \"11\": {\"0\": 39, \"11\": 193, \"8\": 4, \"3\": 2, \"1\": 1, \"5\": 1}, \"13\": {\"2\": 28, \"13\": 108, \"9\": 5, \"7\": 15, \"15\": 23, \"12\": 22, \"4\": 8, \"6\": 19, \"10\": 9, \"5\": 1, \"1\": 2}}, \"O_38\": {\"5\": {\"8\": 65, \"5\": 79, \"9\": 47, \"2\": 10, \"15\": 29, \"7\": 6, \"12\": 4}, \"8\": {\"8\": 68, \"5\": 54, \"15\": 38, \"14\": 6, \"7\": 14, \"9\": 34, \"12\": 12, \"2\": 12, \"0\": 1, \"13\": 1}, \"11\": {\"11\": 240}, \"1\": {\"6\": 76, \"1\": 163, \"15\": 1}, \"10\": {\"0\": 62, \"10\": 135, \"3\": 11, \"4\": 6, \"13\": 26}, \"15\": {\"15\": 169, \"5\": 28, \"1\": 13, \"6\": 6, \"8\": 20, \"12\": 4}, \"3\": {\"3\": 237, \"11\": 2, \"10\": 1}, \"7\": {\"9\": 11, \"14\": 15, \"2\": 23, \"7\": 144, \"8\": 22, \"5\": 11, \"0\": 5, \"12\": 2, \"13\": 6, \"4\": 1}, \"4\": {\"4\": 209, \"10\": 13, \"0\": 13, \"13\": 3, \"14\": 2}, \"14\": {\"12\": 1, \"2\": 59, \"14\": 133, \"7\": 14, \"0\": 10, \"8\": 2, \"4\": 5, \"13\": 16}, \"9\": {\"5\": 41, \"8\": 36, \"9\": 136, \"7\": 19, \"2\": 7, \"0\": 1}, \"12\": {\"12\": 217, \"5\": 11, \"7\": 3, \"14\": 1, \"8\": 7, \"15\": 1}, \"6\": {\"6\": 157, \"1\": 79, \"15\": 4}, \"2\": {\"14\": 53, \"7\": 15, \"8\": 13, \"0\": 3, \"2\": 140, \"9\": 9, \"5\": 3, \"13\": 4}, \"0\": {\"13\": 59, \"14\": 8, \"0\": 61, \"10\": 70, \"2\": 12, \"3\": 9, \"7\": 14, \"4\": 4, \"5\": 1, \"8\": 2}, \"13\": {\"0\": 59, \"13\": 136, \"4\": 2, \"10\": 16, \"14\": 9, \"2\": 15, \"7\": 2, \"8\": 1}}, \"O_8\": {\"9\": {\"9\": 238, \"3\": 2}, \"10\": {\"10\": 51, \"5\": 43, \"13\": 55, \"7\": 27, \"11\": 4, \"1\": 21, \"6\": 22, \"4\": 15, \"8\": 1, \"12\": 1}, \"13\": {\"10\": 55, \"6\": 24, \"5\": 30, \"7\": 37, \"13\": 84, \"4\": 1, \"1\": 7, \"12\": 2}, \"0\": {\"0\": 239, \"14\": 1}, \"1\": {\"1\": 80, \"7\": 11, \"11\": 43, \"10\": 25, \"6\": 19, \"14\": 2, \"8\": 6, \"13\": 11, \"5\": 30, \"4\": 13}, \"15\": {\"12\": 87, \"15\": 119, \"2\": 28, \"3\": 6}, \"5\": {\"10\": 51, \"1\": 33, \"12\": 3, \"13\": 43, \"5\": 74, \"11\": 18, \"4\": 8, \"6\": 4, \"7\": 5, \"15\": 1}, \"3\": {\"3\": 217, \"2\": 21, \"9\": 2}, \"6\": {\"6\": 67, \"7\": 51, \"5\": 7, \"4\": 39, \"8\": 6, \"1\": 19, \"11\": 9, \"13\": 17, \"10\": 24, \"14\": 1}, \"11\": {\"5\": 25, \"11\": 75, \"1\": 70, \"8\": 21, \"7\": 3, \"14\": 15, \"4\": 14, \"6\": 9, \"10\": 7, \"13\": 1}, \"8\": {\"14\": 35, \"8\": 100, \"7\": 7, \"6\": 11, \"4\": 42, \"1\": 18, \"11\": 23, \"10\": 1, \"13\": 1, \"5\": 2}, \"4\": {\"14\": 50, \"1\": 8, \"4\": 90, \"11\": 17, \"6\": 36, \"8\": 30, \"10\": 3, \"13\": 1, \"5\": 1, \"7\": 4}, \"12\": {\"12\": 135, \"15\": 92, \"2\": 11, \"10\": 1, \"13\": 1}, \"14\": {\"8\": 26, \"11\": 9, \"14\": 155, \"4\": 47, \"0\": 1, \"6\": 2}, \"2\": {\"3\": 54, \"12\": 26, \"2\": 121, \"15\": 38, \"13\": 1}, \"7\": {\"13\": 47, \"7\": 63, \"4\": 17, \"10\": 30, \"6\": 58, \"8\": 2, \"5\": 14, \"1\": 8, \"14\": 1}}, \"O_50\": {\"7\": {\"5\": 16, \"7\": 156, \"4\": 67, \"6\": 1}, \"3\": {\"3\": 171, \"5\": 17, \"15\": 10, \"13\": 9, \"6\": 30, \"12\": 2, \"11\": 1}, \"8\": {\"8\": 166, \"1\": 22, \"10\": 34, \"13\": 18}, \"2\": {\"2\": 132, \"0\": 50, \"14\": 56, \"10\": 2}, \"14\": {\"2\": 76, \"14\": 129, \"0\": 35}, \"4\": {\"4\": 110, \"5\": 32, \"7\": 91, \"15\": 4, \"6\": 3}, \"6\": {\"3\": 26, \"15\": 71, \"6\": 74, \"5\": 45, \"12\": 4, \"9\": 12, \"13\": 1, \"11\": 7}, \"15\": {\"15\": 99, \"11\": 15, \"6\": 58, \"3\": 6, \"5\": 35, \"9\": 18, \"7\": 2, \"4\": 5, \"12\": 2}, \"10\": {\"1\": 17, \"0\": 44, \"10\": 148, \"8\": 30, \"2\": 1}, \"11\": {\"11\": 109, \"9\": 33, \"12\": 40, \"5\": 5, \"13\": 18, \"15\": 22, \"6\": 8, \"1\": 5}, \"13\": {\"13\": 161, \"8\": 13, \"12\": 1, \"11\": 31, \"9\": 1, \"1\": 27, \"3\": 2, \"6\": 4}, \"9\": {\"15\": 44, \"12\": 44, \"9\": 110, \"11\": 28, \"6\": 8, \"5\": 6}, \"0\": {\"0\": 140, \"10\": 44, \"2\": 42, \"8\": 1, \"14\": 13}, \"1\": {\"1\": 135, \"13\": 44, \"8\": 18, \"10\": 34, \"11\": 5, \"0\": 4}, \"12\": {\"11\": 34, \"9\": 57, \"12\": 138, \"1\": 1, \"13\": 3, \"15\": 5, \"6\": 2}, \"5\": {\"5\": 64, \"6\": 33, \"4\": 46, \"15\": 35, \"7\": 32, \"11\": 14, \"9\": 2, \"13\": 7, \"1\": 1, \"3\": 2, \"12\": 4}}, \"O_32\": {\"8\": {\"2\": 16, \"14\": 35, \"8\": 73, \"0\": 64, \"3\": 1, \"5\": 23, \"15\": 7, \"7\": 17, \"4\": 4}, \"14\": {\"14\": 83, \"0\": 41, \"8\": 25, \"4\": 13, \"2\": 31, \"5\": 18, \"7\": 28, \"3\": 1}, \"2\": {\"2\": 125, \"4\": 82, \"14\": 17, \"8\": 6, \"0\": 3, \"9\": 1, \"3\": 2, \"13\": 4}, \"0\": {\"7\": 36, \"8\": 40, \"0\": 56, \"14\": 60, \"5\": 42, \"2\": 5, \"4\": 1}, \"1\": {\"1\": 238, \"2\": 2}, \"10\": {\"10\": 199, \"12\": 38, \"6\": 3}, \"11\": {\"11\": 206, \"9\": 9, \"13\": 16, \"3\": 4, \"12\": 5}, \"5\": {\"5\": 82, \"7\": 46, \"0\": 45, \"14\": 21, \"8\": 19, \"15\": 24, \"2\": 2, \"4\": 1}, \"15\": {\"15\": 201, \"0\": 11, \"8\": 12, \"7\": 3, \"5\": 12, \"14\": 1}, \"3\": {\"3\": 127, \"13\": 76, \"4\": 26, \"2\": 7, \"9\": 2, \"8\": 2}, \"12\": {\"12\": 178, \"10\": 32, \"9\": 29, \"13\": 1}, \"7\": {\"0\": 44, \"7\": 74, \"5\": 49, \"14\": 50, \"8\": 21, \"15\": 2}, \"13\": {\"13\": 102, \"2\": 6, \"4\": 26, \"3\": 60, \"11\": 16, \"9\": 28, \"14\": 2}, \"6\": {\"6\": 231, \"10\": 9}, \"4\": {\"13\": 15, \"2\": 71, \"4\": 113, \"14\": 9, \"8\": 2, \"9\": 9, \"3\": 18, \"0\": 3}, \"9\": {\"9\": 116, \"12\": 54, \"13\": 25, \"4\": 22, \"11\": 9, \"10\": 2, \"3\": 9, \"2\": 3}}, \"O_26\": {\"4\": {\"4\": 201, \"3\": 26, \"13\": 6, \"8\": 2, \"7\": 2, \"9\": 3}, \"12\": {\"12\": 147, \"9\": 40, \"13\": 9, \"7\": 11, \"14\": 1, \"3\": 2, \"8\": 22, \"0\": 3, \"10\": 2, \"2\": 3}, \"10\": {\"0\": 59, \"1\": 25, \"10\": 57, \"5\": 6, \"14\": 47, \"15\": 18, \"2\": 5, \"6\": 21, \"7\": 1, \"8\": 1}, \"0\": {\"2\": 25, \"10\": 55, \"0\": 66, \"8\": 15, \"14\": 41, \"9\": 7, \"1\": 5, \"5\": 3, \"7\": 8, \"15\": 5, \"12\": 7, \"6\": 3}, \"13\": {\"8\": 16, \"4\": 19, \"9\": 28, \"7\": 25, \"3\": 46, \"13\": 90, \"12\": 3, \"0\": 1, \"2\": 11, \"14\": 1}, \"9\": {\"8\": 37, \"3\": 24, \"9\": 48, \"7\": 26, \"2\": 30, \"12\": 27, \"14\": 3, \"13\": 26, \"0\": 12, \"15\": 1, \"10\": 6}, \"3\": {\"4\": 9, \"3\": 84, \"9\": 13, \"13\": 49, \"7\": 49, \"8\": 25, \"2\": 11}, \"2\": {\"2\": 66, \"7\": 27, \"0\": 39, \"8\": 46, \"3\": 18, \"9\": 22, \"14\": 4, \"12\": 2, \"10\": 5, \"13\": 8, \"15\": 2, \"6\": 1}, \"5\": {\"5\": 78, \"15\": 63, \"6\": 43, \"1\": 30, \"10\": 13, \"11\": 8, \"14\": 3, \"0\": 2}, \"14\": {\"14\": 61, \"0\": 53, \"10\": 57, \"1\": 40, \"15\": 13, \"2\": 4, \"6\": 8, \"5\": 3, \"7\": 1}, \"8\": {\"3\": 18, \"7\": 40, \"0\": 21, \"9\": 39, \"8\": 52, \"12\": 3, \"2\": 44, \"13\": 14, \"14\": 6, \"10\": 3}, \"7\": {\"3\": 43, \"7\": 60, \"2\": 26, \"8\": 43, \"13\": 23, \"9\": 33, \"0\": 8, \"14\": 1, \"12\": 3}, \"6\": {\"14\": 4, \"5\": 34, \"15\": 58, \"6\": 67, \"1\": 45, \"10\": 20, \"11\": 11, \"0\": 1}, \"11\": {\"11\": 172, \"6\": 27, \"5\": 15, \"15\": 13, \"1\": 11, \"10\": 2}, \"15\": {\"1\": 19, \"5\": 53, \"14\": 17, \"10\": 37, \"15\": 56, \"6\": 40, \"0\": 12, \"2\": 2, \"9\": 2, \"8\": 1, \"12\": 1}, \"1\": {\"14\": 28, \"15\": 21, \"10\": 16, \"5\": 17, \"6\": 26, \"0\": 4, \"1\": 126, \"11\": 2}}, \"O_44\": {\"12\": {\"3\": 103, \"12\": 137}, \"7\": {\"7\": 111, \"4\": 25, \"6\": 4, \"9\": 35, \"10\": 51, \"14\": 13, \"5\": 1}, \"5\": {\"4\": 53, \"14\": 55, \"5\": 72, \"15\": 32, \"9\": 6, \"0\": 1, \"8\": 17, \"6\": 1, \"7\": 3}, \"15\": {\"5\": 32, \"4\": 9, \"8\": 49, \"15\": 106, \"14\": 29, \"2\": 2, \"0\": 10, \"7\": 1, \"1\": 1, \"9\": 1}, \"8\": {\"0\": 75, \"8\": 95, \"15\": 54, \"5\": 6, \"4\": 5, \"1\": 2, \"14\": 3}, \"2\": {\"1\": 52, \"2\": 161, \"7\": 2, \"14\": 3, \"9\": 2, \"10\": 15, \"15\": 3, \"4\": 1, \"0\": 1}, \"13\": {\"13\": 144, \"6\": 75, \"9\": 18, \"4\": 1, \"7\": 1, \"11\": 1}, \"4\": {\"4\": 66, \"9\": 43, \"14\": 45, \"7\": 22, \"15\": 26, \"5\": 24, \"6\": 3, \"8\": 6, \"10\": 2, \"2\": 3}, \"0\": {\"0\": 160, \"8\": 67, \"1\": 4, \"15\": 6, \"2\": 2, \"3\": 1}, \"6\": {\"13\": 74, \"9\": 23, \"6\": 138, \"4\": 2, \"7\": 2, \"14\": 1}, \"9\": {\"10\": 23, \"9\": 56, \"13\": 25, \"6\": 36, \"4\": 23, \"7\": 58, \"2\": 6, \"14\": 8, \"1\": 1, \"5\": 4}, \"11\": {\"11\": 240}, \"10\": {\"10\": 96, \"9\": 30, \"7\": 80, \"4\": 5, \"14\": 8, \"1\": 6, \"2\": 13, \"13\": 1, \"5\": 1}, \"14\": {\"7\": 17, \"5\": 42, \"9\": 14, \"4\": 47, \"14\": 73, \"15\": 37, \"8\": 2, \"10\": 8}, \"1\": {\"1\": 170, \"2\": 57, \"0\": 10, \"10\": 2, \"8\": 1}, \"3\": {\"3\": 146, \"12\": 92, \"1\": 2}}}, \"per_domain_accuracy\": {\"C_3\": {\"accuracy\": 0.9992732558139535, \"source?\": true}, \"C_4\": {\"accuracy\": 0.9967803030303031, \"source?\": true}, \"C_5\": {\"accuracy\": 0.9984287709497207, \"source?\": true}, \"C_1\": {\"accuracy\": 0.9981215846994536, \"source?\": true}, \"C_2\": {\"accuracy\": 0.9982344632768362, \"source?\": true}, \"O_14\": {\"accuracy\": 0.5552083333333333, \"source?\": false}, \"O_20\": {\"accuracy\": 0.29322916666666665, \"source?\": false}, \"O_38\": {\"accuracy\": 0.63125, \"source?\": false}, \"O_8\": {\"accuracy\": 0.496875, \"source?\": false}, \"O_50\": {\"accuracy\": 0.5317708333333333, \"source?\": false}, \"O_32\": {\"accuracy\": 0.5739583333333333, \"source?\": false}, \"O_26\": {\"accuracy\": 0.37265625, \"source?\": false}, \"O_44\": {\"accuracy\": 0.51328125, \"source?\": false}}}, \"history\": {\"epoch_indices\": [1, 2, 3, 4, 5, 6, 7], \"train_label_loss\": [0.07294977060667815, 0.024406399045710323, 0.020556547956975618, 0.009921009477946115, 0.008663424913137433, 0.006180281440192115, 0.005997057279778361], \"source_val_label_loss\": [0.3317372798919678, 0.02697301283478737, 0.01098548248410225, 0.010295895859599113, 0.015333683229982853, 0.027628900483250618, 0.008972207084298134], \"target_val_label_loss\": [2.2051918506622314, 1.9862513542175293, 1.8079568147659302, 1.8990697860717773, 1.7787014245986938, 1.8646323680877686, 1.8048312664031982], \"source_val_acc_label\": [0.9929723173515982, 0.9951127283105022, 0.9981806506849316, 0.9985730593607306, 0.998644406392694, 0.997039098173516, 0.9988941210045662], \"target_val_acc_label\": [0.312109375, 0.34254557291666665, 0.49602864583333334, 0.40335286458333336, 0.35244140625, 0.4308268229166667, 0.38922526041666666]}, \"dataset_metrics\": {\"source\": {\"train\": {\"n_unique_x\": 175189, \"n_unique_y\": 58, \"n_batch/episode\": 6297}, \"val\": {\"n_unique_x\": 37196, \"n_unique_y\": 58, \"n_batch/episode\": 876}, \"test\": {\"n_unique_x\": 37634, \"n_unique_y\": 58, \"n_batch/episode\": 891}}, \"target\": {\"train\": {\"n_unique_x\": 179200, \"n_unique_y\": 16, \"n_batch/episode\": 6720}, \"val\": {\"n_unique_x\": 38400, \"n_unique_y\": 16, \"n_batch/episode\": 960}, \"test\": {\"n_unique_x\": 38400, \"n_unique_y\": 16, \"n_batch/episode\": 960}}}}'"
      ]
     },
     "execution_count": 29,
     "metadata": {},
     "output_type": "execute_result"
    }
   ],
   "source": [
    "json.dumps(experiment)"
   ]
  }
 ],
 "metadata": {
  "celltoolbar": "Tags",
  "kernelspec": {
   "display_name": "Python 3 (ipykernel)",
   "language": "python",
   "name": "python3"
  },
  "language_info": {
   "codemirror_mode": {
    "name": "ipython",
    "version": 3
   },
   "file_extension": ".py",
   "mimetype": "text/x-python",
   "name": "python",
   "nbconvert_exporter": "python",
   "pygments_lexer": "ipython3",
   "version": "3.8.12"
  },
  "papermill": {
   "default_parameters": {},
   "duration": 1280.287048,
   "end_time": "2022-03-28T07:13:37.950545",
   "environment_variables": {},
   "exception": null,
   "input_path": "/root/csc500-main/csc500-notebooks/templates/tl_ptn_template.ipynb",
   "output_path": "trial.ipynb",
   "parameters": {
    "parameters": {
     "BEST_MODEL_PATH": "./best_model.pth",
     "NUM_LOGS_PER_EPOCH": 10,
     "criteria_for_best": "target_accuracy",
     "dataset_seed": 1337,
     "datasets": [
      {
       "domain_prefix": "C_",
       "domains": [
        1,
        2,
        3,
        4,
        5
       ],
       "episode_transforms": [],
       "labels": [
        "1-10.",
        "1-11.",
        "1-15.",
        "1-16.",
        "1-17.",
        "1-18.",
        "1-19.",
        "10-4.",
        "10-7.",
        "11-1.",
        "11-14.",
        "11-17.",
        "11-20.",
        "11-7.",
        "13-20.",
        "13-8.",
        "14-10.",
        "14-11.",
        "14-14.",
        "14-7.",
        "15-1.",
        "15-20.",
        "16-1.",
        "16-16.",
        "17-10.",
        "17-11.",
        "17-2.",
        "19-1.",
        "19-16.",
        "19-19.",
        "19-20.",
        "19-3.",
        "2-10.",
        "2-11.",
        "2-17.",
        "2-18.",
        "2-20.",
        "2-3.",
        "2-4.",
        "2-5.",
        "2-6.",
        "2-7.",
        "2-8.",
        "3-13.",
        "3-18.",
        "3-3.",
        "4-1.",
        "4-10.",
        "4-11.",
        "4-19.",
        "5-5.",
        "6-15.",
        "7-10.",
        "7-14.",
        "8-18.",
        "8-20.",
        "8-3.",
        "8-8."
       ],
       "num_examples_per_domain_per_label": -1,
       "pickle_path": "/root/csc500-main/datasets/cores.stratified_ds.2022A.pkl",
       "source_or_target_dataset": "source",
       "x_transforms": [
        "jitter_256_10",
        "lowpass_+/-10MHz",
        "take_200"
       ]
      },
      {
       "domain_prefix": "O_",
       "domains": [
        32,
        38,
        8,
        44,
        14,
        50,
        20,
        26
       ],
       "episode_transforms": [],
       "labels": [
        "3123D52",
        "3123D65",
        "3123D79",
        "3123D80",
        "3123D54",
        "3123D70",
        "3123D7B",
        "3123D89",
        "3123D58",
        "3123D76",
        "3123D7D",
        "3123EFE",
        "3123D64",
        "3123D78",
        "3123D7E",
        "3124E4A"
       ],
       "num_examples_per_domain_per_label": 2000,
       "pickle_path": "/root/csc500-main/datasets/oracle.Run1_framed_2000Examples_stratified_ds.2022A.pkl",
       "source_or_target_dataset": "target",
       "x_transforms": [
        "jitter_256_10",
        "take_200",
        "resample_20Msps_to_25Msps"
       ]
      }
     ],
     "device": "cuda",
     "experiment_name": "tl_3-jitter10v2:cores -> oracle.run1.framed",
     "lr": 0.0001,
     "n_epoch": 50,
     "n_query": 2,
     "n_shot": 3,
     "n_way": 16,
     "patience": 3,
     "seed": 1337,
     "test_k_factor": 2,
     "torch_default_dtype": "torch.float32",
     "train_k_factor": 3,
     "val_k_factor": 2,
     "x_net": [
      {
       "class": "nnReshape",
       "kargs": {
        "shape": [
         -1,
         1,
         2,
         256
        ]
       }
      },
      {
       "class": "Conv2d",
       "kargs": {
        "bias": false,
        "in_channels": 1,
        "kernel_size": [
         1,
         7
        ],
        "out_channels": 256,
        "padding": [
         0,
         3
        ]
       }
      },
      {
       "class": "ReLU",
       "kargs": {
        "inplace": true
       }
      },
      {
       "class": "BatchNorm2d",
       "kargs": {
        "num_features": 256
       }
      },
      {
       "class": "Conv2d",
       "kargs": {
        "bias": true,
        "in_channels": 256,
        "kernel_size": [
         2,
         7
        ],
        "out_channels": 80,
        "padding": [
         0,
         3
        ]
       }
      },
      {
       "class": "ReLU",
       "kargs": {
        "inplace": true
       }
      },
      {
       "class": "BatchNorm2d",
       "kargs": {
        "num_features": 80
       }
      },
      {
       "class": "Flatten",
       "kargs": {}
      },
      {
       "class": "Linear",
       "kargs": {
        "in_features": 20480,
        "out_features": 256
       }
      },
      {
       "class": "ReLU",
       "kargs": {
        "inplace": true
       }
      },
      {
       "class": "BatchNorm1d",
       "kargs": {
        "num_features": 256
       }
      },
      {
       "class": "Linear",
       "kargs": {
        "in_features": 256,
        "out_features": 256
       }
      }
     ],
     "x_shape": [
      2,
      256
     ]
    }
   },
   "start_time": "2022-03-28T06:52:17.663497",
   "version": "2.3.4"
  }
 },
 "nbformat": 4,
 "nbformat_minor": 5
}