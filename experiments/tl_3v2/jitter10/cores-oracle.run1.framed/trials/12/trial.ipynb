{
 "cells": [
  {
   "cell_type": "markdown",
   "id": "9fea5f46",
   "metadata": {
    "papermill": {
     "duration": 0.027851,
     "end_time": "2022-03-28T08:44:26.813083",
     "exception": false,
     "start_time": "2022-03-28T08:44:26.785232",
     "status": "completed"
    },
    "tags": []
   },
   "source": [
    "# Transfer Learning Template"
   ]
  },
  {
   "cell_type": "code",
   "execution_count": 1,
   "id": "0902182a",
   "metadata": {
    "execution": {
     "iopub.execute_input": "2022-03-28T08:44:26.877997Z",
     "iopub.status.busy": "2022-03-28T08:44:26.877142Z",
     "iopub.status.idle": "2022-03-28T08:44:28.711400Z",
     "shell.execute_reply": "2022-03-28T08:44:28.710514Z"
    },
    "papermill": {
     "duration": 1.872817,
     "end_time": "2022-03-28T08:44:28.711629",
     "exception": false,
     "start_time": "2022-03-28T08:44:26.838812",
     "status": "completed"
    },
    "tags": []
   },
   "outputs": [],
   "source": [
    "%load_ext autoreload\n",
    "%autoreload 2\n",
    "%matplotlib inline\n",
    "\n",
    "    \n",
    "import os, json, sys, time, random\n",
    "import numpy as np\n",
    "import torch\n",
    "from torch.optim import Adam\n",
    "from  easydict import EasyDict\n",
    "import matplotlib.pyplot as plt\n",
    "\n",
    "from steves_models.steves_ptn import Steves_Prototypical_Network\n",
    "\n",
    "from steves_utils.lazy_iterable_wrapper import Lazy_Iterable_Wrapper\n",
    "from steves_utils.iterable_aggregator import Iterable_Aggregator\n",
    "from steves_utils.ptn_train_eval_test_jig import  PTN_Train_Eval_Test_Jig\n",
    "from steves_utils.torch_sequential_builder import build_sequential\n",
    "from steves_utils.torch_utils import get_dataset_metrics, ptn_confusion_by_domain_over_dataloader\n",
    "from steves_utils.utils_v2 import (per_domain_accuracy_from_confusion, get_datasets_base_path)\n",
    "from steves_utils.PTN.utils import independent_accuracy_assesment\n",
    "\n",
    "from torch.utils.data import DataLoader\n",
    "\n",
    "from steves_utils.stratified_dataset.episodic_accessor import Episodic_Accessor_Factory\n",
    "\n",
    "from steves_utils.ptn_do_report import (\n",
    "    get_loss_curve,\n",
    "    get_results_table,\n",
    "    get_parameters_table,\n",
    "    get_domain_accuracies,\n",
    ")\n",
    "\n",
    "from steves_utils.transforms import get_chained_transform"
   ]
  },
  {
   "cell_type": "markdown",
   "id": "41c840b4",
   "metadata": {
    "papermill": {
     "duration": 0.019418,
     "end_time": "2022-03-28T08:44:28.758071",
     "exception": false,
     "start_time": "2022-03-28T08:44:28.738653",
     "status": "completed"
    },
    "tags": []
   },
   "source": [
    "# Allowed Parameters\n",
    "These are allowed parameters, not defaults\n",
    "Each of these values need to be present in the injected parameters (the notebook will raise an exception if they are not present)\n",
    "\n",
    "Papermill uses the cell tag \"parameters\" to inject the real parameters below this cell.\n",
    "Enable tags to see what I mean"
   ]
  },
  {
   "cell_type": "code",
   "execution_count": 2,
   "id": "fd44eb83",
   "metadata": {
    "execution": {
     "iopub.execute_input": "2022-03-28T08:44:28.801197Z",
     "iopub.status.busy": "2022-03-28T08:44:28.800619Z",
     "iopub.status.idle": "2022-03-28T08:44:28.820212Z",
     "shell.execute_reply": "2022-03-28T08:44:28.819394Z"
    },
    "papermill": {
     "duration": 0.04272,
     "end_time": "2022-03-28T08:44:28.820368",
     "exception": false,
     "start_time": "2022-03-28T08:44:28.777648",
     "status": "completed"
    },
    "tags": []
   },
   "outputs": [],
   "source": [
    "required_parameters = {\n",
    "    \"experiment_name\",\n",
    "    \"lr\",\n",
    "    \"device\",\n",
    "    \"seed\",\n",
    "    \"dataset_seed\",\n",
    "    \"n_shot\",\n",
    "    \"n_query\",\n",
    "    \"n_way\",\n",
    "    \"train_k_factor\",\n",
    "    \"val_k_factor\",\n",
    "    \"test_k_factor\",\n",
    "    \"n_epoch\",\n",
    "    \"patience\",\n",
    "    \"criteria_for_best\",\n",
    "    \"x_net\",\n",
    "    \"datasets\",\n",
    "    \"torch_default_dtype\",\n",
    "    \"NUM_LOGS_PER_EPOCH\",\n",
    "    \"BEST_MODEL_PATH\",\n",
    "    \"x_shape\",\n",
    "}"
   ]
  },
  {
   "cell_type": "code",
   "execution_count": 3,
   "id": "fa3f0049",
   "metadata": {
    "execution": {
     "iopub.execute_input": "2022-03-28T08:44:28.873871Z",
     "iopub.status.busy": "2022-03-28T08:44:28.873248Z",
     "iopub.status.idle": "2022-03-28T08:44:28.892333Z",
     "shell.execute_reply": "2022-03-28T08:44:28.893003Z"
    },
    "papermill": {
     "duration": 0.048754,
     "end_time": "2022-03-28T08:44:28.893181",
     "exception": false,
     "start_time": "2022-03-28T08:44:28.844427",
     "status": "completed"
    },
    "tags": [
     "parameters"
    ]
   },
   "outputs": [],
   "source": [
    "from steves_utils.CORES.utils import (\n",
    "    ALL_NODES,\n",
    "    ALL_NODES_MINIMUM_1000_EXAMPLES,\n",
    "    ALL_DAYS\n",
    ")\n",
    "\n",
    "from steves_utils.ORACLE.utils_v2 import (\n",
    "    ALL_DISTANCES_FEET_NARROWED,\n",
    "    ALL_RUNS,\n",
    "    ALL_SERIAL_NUMBERS,\n",
    ")\n",
    "\n",
    "standalone_parameters = {}\n",
    "standalone_parameters[\"experiment_name\"] = \"STANDALONE PTN\"\n",
    "standalone_parameters[\"lr\"] = 0.001\n",
    "standalone_parameters[\"device\"] = \"cuda\"\n",
    "\n",
    "standalone_parameters[\"seed\"] = 1337\n",
    "standalone_parameters[\"dataset_seed\"] = 1337\n",
    "\n",
    "standalone_parameters[\"n_way\"] = 8\n",
    "standalone_parameters[\"n_shot\"] = 3\n",
    "standalone_parameters[\"n_query\"]  = 2\n",
    "standalone_parameters[\"train_k_factor\"] = 1\n",
    "standalone_parameters[\"val_k_factor\"] = 2\n",
    "standalone_parameters[\"test_k_factor\"] = 2\n",
    "\n",
    "\n",
    "standalone_parameters[\"n_epoch\"] = 50\n",
    "\n",
    "standalone_parameters[\"patience\"] = 10\n",
    "standalone_parameters[\"criteria_for_best\"] = \"source_loss\"\n",
    "\n",
    "standalone_parameters[\"datasets\"] = [\n",
    "    {\n",
    "        \"labels\": ALL_SERIAL_NUMBERS,\n",
    "        \"domains\": ALL_DISTANCES_FEET_NARROWED,\n",
    "        \"num_examples_per_domain_per_label\": 100,\n",
    "        \"pickle_path\": os.path.join(get_datasets_base_path(), \"oracle.Run1_framed_2000Examples_stratified_ds.2022A.pkl\"),\n",
    "        \"source_or_target_dataset\": \"source\",\n",
    "        \"x_transforms\": [\"unit_mag\", \"minus_two\"],\n",
    "        \"episode_transforms\": [],\n",
    "        \"domain_prefix\": \"ORACLE_\"\n",
    "    },\n",
    "    {\n",
    "        \"labels\": ALL_NODES,\n",
    "        \"domains\": ALL_DAYS,\n",
    "        \"num_examples_per_domain_per_label\": 100,\n",
    "        \"pickle_path\": os.path.join(get_datasets_base_path(), \"cores.stratified_ds.2022A.pkl\"),\n",
    "        \"source_or_target_dataset\": \"target\",\n",
    "        \"x_transforms\": [\"unit_power\", \"times_zero\"],\n",
    "        \"episode_transforms\": [],\n",
    "        \"domain_prefix\": \"CORES_\"\n",
    "    }   \n",
    "]\n",
    "\n",
    "standalone_parameters[\"torch_default_dtype\"] = \"torch.float32\" \n",
    "\n",
    "\n",
    "\n",
    "standalone_parameters[\"x_net\"] =     [\n",
    "    {\"class\": \"nnReshape\", \"kargs\": {\"shape\":[-1, 1, 2, 256]}},\n",
    "    {\"class\": \"Conv2d\", \"kargs\": { \"in_channels\":1, \"out_channels\":256, \"kernel_size\":(1,7), \"bias\":False, \"padding\":(0,3), },},\n",
    "    {\"class\": \"ReLU\", \"kargs\": {\"inplace\": True}},\n",
    "    {\"class\": \"BatchNorm2d\", \"kargs\": {\"num_features\":256}},\n",
    "\n",
    "    {\"class\": \"Conv2d\", \"kargs\": { \"in_channels\":256, \"out_channels\":80, \"kernel_size\":(2,7), \"bias\":True, \"padding\":(0,3), },},\n",
    "    {\"class\": \"ReLU\", \"kargs\": {\"inplace\": True}},\n",
    "    {\"class\": \"BatchNorm2d\", \"kargs\": {\"num_features\":80}},\n",
    "    {\"class\": \"Flatten\", \"kargs\": {}},\n",
    "\n",
    "    {\"class\": \"Linear\", \"kargs\": {\"in_features\": 80*256, \"out_features\": 256}}, # 80 units per IQ pair\n",
    "    {\"class\": \"ReLU\", \"kargs\": {\"inplace\": True}},\n",
    "    {\"class\": \"BatchNorm1d\", \"kargs\": {\"num_features\":256}},\n",
    "\n",
    "    {\"class\": \"Linear\", \"kargs\": {\"in_features\": 256, \"out_features\": 256}},\n",
    "]\n",
    "\n",
    "# Parameters relevant to results\n",
    "# These parameters will basically never need to change\n",
    "standalone_parameters[\"NUM_LOGS_PER_EPOCH\"] = 10\n",
    "standalone_parameters[\"BEST_MODEL_PATH\"] = \"./best_model.pth\"\n",
    "\n",
    "\n",
    "\n",
    "\n"
   ]
  },
  {
   "cell_type": "code",
   "execution_count": 4,
   "id": "c97a6b10",
   "metadata": {
    "execution": {
     "iopub.execute_input": "2022-03-28T08:44:28.950746Z",
     "iopub.status.busy": "2022-03-28T08:44:28.950093Z",
     "iopub.status.idle": "2022-03-28T08:44:28.969661Z",
     "shell.execute_reply": "2022-03-28T08:44:28.968853Z"
    },
    "papermill": {
     "duration": 0.049107,
     "end_time": "2022-03-28T08:44:28.969815",
     "exception": false,
     "start_time": "2022-03-28T08:44:28.920708",
     "status": "completed"
    },
    "tags": [
     "injected-parameters"
    ]
   },
   "outputs": [],
   "source": [
    "# Parameters\n",
    "parameters = {\n",
    "    \"experiment_name\": \"tl_3-jitter10v2:cores -> oracle.run1.framed\",\n",
    "    \"device\": \"cuda\",\n",
    "    \"lr\": 0.0001,\n",
    "    \"x_shape\": [2, 256],\n",
    "    \"n_shot\": 3,\n",
    "    \"n_query\": 2,\n",
    "    \"train_k_factor\": 3,\n",
    "    \"val_k_factor\": 2,\n",
    "    \"test_k_factor\": 2,\n",
    "    \"torch_default_dtype\": \"torch.float32\",\n",
    "    \"n_epoch\": 50,\n",
    "    \"patience\": 3,\n",
    "    \"criteria_for_best\": \"target_accuracy\",\n",
    "    \"x_net\": [\n",
    "        {\"class\": \"nnReshape\", \"kargs\": {\"shape\": [-1, 1, 2, 256]}},\n",
    "        {\n",
    "            \"class\": \"Conv2d\",\n",
    "            \"kargs\": {\n",
    "                \"in_channels\": 1,\n",
    "                \"out_channels\": 256,\n",
    "                \"kernel_size\": [1, 7],\n",
    "                \"bias\": False,\n",
    "                \"padding\": [0, 3],\n",
    "            },\n",
    "        },\n",
    "        {\"class\": \"ReLU\", \"kargs\": {\"inplace\": True}},\n",
    "        {\"class\": \"BatchNorm2d\", \"kargs\": {\"num_features\": 256}},\n",
    "        {\n",
    "            \"class\": \"Conv2d\",\n",
    "            \"kargs\": {\n",
    "                \"in_channels\": 256,\n",
    "                \"out_channels\": 80,\n",
    "                \"kernel_size\": [2, 7],\n",
    "                \"bias\": True,\n",
    "                \"padding\": [0, 3],\n",
    "            },\n",
    "        },\n",
    "        {\"class\": \"ReLU\", \"kargs\": {\"inplace\": True}},\n",
    "        {\"class\": \"BatchNorm2d\", \"kargs\": {\"num_features\": 80}},\n",
    "        {\"class\": \"Flatten\", \"kargs\": {}},\n",
    "        {\"class\": \"Linear\", \"kargs\": {\"in_features\": 20480, \"out_features\": 256}},\n",
    "        {\"class\": \"ReLU\", \"kargs\": {\"inplace\": True}},\n",
    "        {\"class\": \"BatchNorm1d\", \"kargs\": {\"num_features\": 256}},\n",
    "        {\"class\": \"Linear\", \"kargs\": {\"in_features\": 256, \"out_features\": 256}},\n",
    "    ],\n",
    "    \"NUM_LOGS_PER_EPOCH\": 10,\n",
    "    \"BEST_MODEL_PATH\": \"./best_model.pth\",\n",
    "    \"n_way\": 16,\n",
    "    \"datasets\": [\n",
    "        {\n",
    "            \"labels\": [\n",
    "                \"1-10.\",\n",
    "                \"1-11.\",\n",
    "                \"1-15.\",\n",
    "                \"1-16.\",\n",
    "                \"1-17.\",\n",
    "                \"1-18.\",\n",
    "                \"1-19.\",\n",
    "                \"10-4.\",\n",
    "                \"10-7.\",\n",
    "                \"11-1.\",\n",
    "                \"11-14.\",\n",
    "                \"11-17.\",\n",
    "                \"11-20.\",\n",
    "                \"11-7.\",\n",
    "                \"13-20.\",\n",
    "                \"13-8.\",\n",
    "                \"14-10.\",\n",
    "                \"14-11.\",\n",
    "                \"14-14.\",\n",
    "                \"14-7.\",\n",
    "                \"15-1.\",\n",
    "                \"15-20.\",\n",
    "                \"16-1.\",\n",
    "                \"16-16.\",\n",
    "                \"17-10.\",\n",
    "                \"17-11.\",\n",
    "                \"17-2.\",\n",
    "                \"19-1.\",\n",
    "                \"19-16.\",\n",
    "                \"19-19.\",\n",
    "                \"19-20.\",\n",
    "                \"19-3.\",\n",
    "                \"2-10.\",\n",
    "                \"2-11.\",\n",
    "                \"2-17.\",\n",
    "                \"2-18.\",\n",
    "                \"2-20.\",\n",
    "                \"2-3.\",\n",
    "                \"2-4.\",\n",
    "                \"2-5.\",\n",
    "                \"2-6.\",\n",
    "                \"2-7.\",\n",
    "                \"2-8.\",\n",
    "                \"3-13.\",\n",
    "                \"3-18.\",\n",
    "                \"3-3.\",\n",
    "                \"4-1.\",\n",
    "                \"4-10.\",\n",
    "                \"4-11.\",\n",
    "                \"4-19.\",\n",
    "                \"5-5.\",\n",
    "                \"6-15.\",\n",
    "                \"7-10.\",\n",
    "                \"7-14.\",\n",
    "                \"8-18.\",\n",
    "                \"8-20.\",\n",
    "                \"8-3.\",\n",
    "                \"8-8.\",\n",
    "            ],\n",
    "            \"domains\": [1, 2, 3, 4, 5],\n",
    "            \"num_examples_per_domain_per_label\": -1,\n",
    "            \"pickle_path\": \"/root/csc500-main/datasets/cores.stratified_ds.2022A.pkl\",\n",
    "            \"source_or_target_dataset\": \"source\",\n",
    "            \"x_transforms\": [\n",
    "                \"unit_power\",\n",
    "                \"jitter_256_10\",\n",
    "                \"lowpass_+/-10MHz\",\n",
    "                \"take_200\",\n",
    "            ],\n",
    "            \"episode_transforms\": [],\n",
    "            \"domain_prefix\": \"C_\",\n",
    "        },\n",
    "        {\n",
    "            \"labels\": [\n",
    "                \"3123D52\",\n",
    "                \"3123D65\",\n",
    "                \"3123D79\",\n",
    "                \"3123D80\",\n",
    "                \"3123D54\",\n",
    "                \"3123D70\",\n",
    "                \"3123D7B\",\n",
    "                \"3123D89\",\n",
    "                \"3123D58\",\n",
    "                \"3123D76\",\n",
    "                \"3123D7D\",\n",
    "                \"3123EFE\",\n",
    "                \"3123D64\",\n",
    "                \"3123D78\",\n",
    "                \"3123D7E\",\n",
    "                \"3124E4A\",\n",
    "            ],\n",
    "            \"domains\": [32, 38, 8, 44, 14, 50, 20, 26],\n",
    "            \"num_examples_per_domain_per_label\": 2000,\n",
    "            \"pickle_path\": \"/root/csc500-main/datasets/oracle.Run1_framed_2000Examples_stratified_ds.2022A.pkl\",\n",
    "            \"source_or_target_dataset\": \"target\",\n",
    "            \"x_transforms\": [\n",
    "                \"unit_power\",\n",
    "                \"jitter_256_10\",\n",
    "                \"take_200\",\n",
    "                \"resample_20Msps_to_25Msps\",\n",
    "            ],\n",
    "            \"episode_transforms\": [],\n",
    "            \"domain_prefix\": \"O_\",\n",
    "        },\n",
    "    ],\n",
    "    \"seed\": 500,\n",
    "    \"dataset_seed\": 500,\n",
    "}\n"
   ]
  },
  {
   "cell_type": "code",
   "execution_count": 5,
   "id": "8fa1cc33",
   "metadata": {
    "execution": {
     "iopub.execute_input": "2022-03-28T08:44:29.025397Z",
     "iopub.status.busy": "2022-03-28T08:44:29.024556Z",
     "iopub.status.idle": "2022-03-28T08:44:29.049279Z",
     "shell.execute_reply": "2022-03-28T08:44:29.048539Z"
    },
    "papermill": {
     "duration": 0.053587,
     "end_time": "2022-03-28T08:44:29.049454",
     "exception": false,
     "start_time": "2022-03-28T08:44:28.995867",
     "status": "completed"
    },
    "tags": []
   },
   "outputs": [],
   "source": [
    "# Set this to True if you want to run this template directly\n",
    "STANDALONE = False\n",
    "if STANDALONE:\n",
    "    print(\"parameters not injected, running with standalone_parameters\")\n",
    "    parameters = standalone_parameters\n",
    "\n",
    "if not 'parameters' in locals() and not 'parameters' in globals():\n",
    "    raise Exception(\"Parameter injection failed\")\n",
    "\n",
    "#Use an easy dict for all the parameters\n",
    "p = EasyDict(parameters)\n",
    "\n",
    "if \"x_shape\" not in p:\n",
    "    p.x_shape = [2,256] # Default to this if we dont supply x_shape\n",
    "\n",
    "\n",
    "supplied_keys = set(p.keys())\n",
    "\n",
    "if  supplied_keys != required_parameters:\n",
    "    print(\"Parameters are incorrect\")\n",
    "    if len(supplied_keys - required_parameters)>0: print(\"Shouldn't have:\", str(supplied_keys - required_parameters))\n",
    "    if len(required_parameters - supplied_keys)>0: print(\"Need to have:\", str(required_parameters - supplied_keys))\n",
    "    raise RuntimeError(\"Parameters are incorrect\")"
   ]
  },
  {
   "cell_type": "code",
   "execution_count": 6,
   "id": "3a028d58",
   "metadata": {
    "execution": {
     "iopub.execute_input": "2022-03-28T08:44:29.102115Z",
     "iopub.status.busy": "2022-03-28T08:44:29.101743Z",
     "iopub.status.idle": "2022-03-28T08:44:29.126201Z",
     "shell.execute_reply": "2022-03-28T08:44:29.125405Z"
    },
    "papermill": {
     "duration": 0.048526,
     "end_time": "2022-03-28T08:44:29.126354",
     "exception": false,
     "start_time": "2022-03-28T08:44:29.077828",
     "status": "completed"
    },
    "tags": []
   },
   "outputs": [],
   "source": [
    "###################################\n",
    "# Set the RNGs and make it all deterministic\n",
    "###################################\n",
    "np.random.seed(p.seed)\n",
    "random.seed(p.seed)\n",
    "torch.manual_seed(p.seed)\n",
    "\n",
    "torch.use_deterministic_algorithms(True) "
   ]
  },
  {
   "cell_type": "code",
   "execution_count": 7,
   "id": "b691acf6",
   "metadata": {
    "execution": {
     "iopub.execute_input": "2022-03-28T08:44:29.176607Z",
     "iopub.status.busy": "2022-03-28T08:44:29.176244Z",
     "iopub.status.idle": "2022-03-28T08:44:29.198445Z",
     "shell.execute_reply": "2022-03-28T08:44:29.197655Z"
    },
    "papermill": {
     "duration": 0.044943,
     "end_time": "2022-03-28T08:44:29.198595",
     "exception": false,
     "start_time": "2022-03-28T08:44:29.153652",
     "status": "completed"
    },
    "tags": []
   },
   "outputs": [],
   "source": [
    "###########################################\n",
    "# The stratified datasets honor this\n",
    "###########################################\n",
    "torch.set_default_dtype(eval(p.torch_default_dtype))"
   ]
  },
  {
   "cell_type": "code",
   "execution_count": 8,
   "id": "b5fba671",
   "metadata": {
    "execution": {
     "iopub.execute_input": "2022-03-28T08:44:29.248555Z",
     "iopub.status.busy": "2022-03-28T08:44:29.247598Z",
     "iopub.status.idle": "2022-03-28T08:44:29.304782Z",
     "shell.execute_reply": "2022-03-28T08:44:29.304090Z"
    },
    "papermill": {
     "duration": 0.079578,
     "end_time": "2022-03-28T08:44:29.304933",
     "exception": false,
     "start_time": "2022-03-28T08:44:29.225355",
     "status": "completed"
    },
    "tags": []
   },
   "outputs": [],
   "source": [
    "###################################\n",
    "# Build the network(s)\n",
    "# Note: It's critical to do this AFTER setting the RNG\n",
    "###################################\n",
    "x_net = build_sequential(p.x_net)"
   ]
  },
  {
   "cell_type": "code",
   "execution_count": 9,
   "id": "5d7e61cc",
   "metadata": {
    "execution": {
     "iopub.execute_input": "2022-03-28T08:44:29.351272Z",
     "iopub.status.busy": "2022-03-28T08:44:29.350709Z",
     "iopub.status.idle": "2022-03-28T08:44:29.373515Z",
     "shell.execute_reply": "2022-03-28T08:44:29.372725Z"
    },
    "papermill": {
     "duration": 0.045272,
     "end_time": "2022-03-28T08:44:29.373667",
     "exception": false,
     "start_time": "2022-03-28T08:44:29.328395",
     "status": "completed"
    },
    "tags": []
   },
   "outputs": [],
   "source": [
    "start_time_secs = time.time()"
   ]
  },
  {
   "cell_type": "code",
   "execution_count": 10,
   "id": "c6b67dfd",
   "metadata": {
    "execution": {
     "iopub.execute_input": "2022-03-28T08:44:29.423809Z",
     "iopub.status.busy": "2022-03-28T08:44:29.422678Z",
     "iopub.status.idle": "2022-03-28T08:44:29.442844Z",
     "shell.execute_reply": "2022-03-28T08:44:29.442152Z"
    },
    "papermill": {
     "duration": 0.044382,
     "end_time": "2022-03-28T08:44:29.442994",
     "exception": false,
     "start_time": "2022-03-28T08:44:29.398612",
     "status": "completed"
    },
    "tags": []
   },
   "outputs": [],
   "source": [
    "p.domains_source = []\n",
    "p.domains_target = []\n",
    "\n",
    "\n",
    "train_original_source = []\n",
    "val_original_source   = []\n",
    "test_original_source  = []\n",
    "\n",
    "train_original_target = []\n",
    "val_original_target   = []\n",
    "test_original_target  = []"
   ]
  },
  {
   "cell_type": "code",
   "execution_count": 11,
   "id": "e3d9c3d3",
   "metadata": {
    "execution": {
     "iopub.execute_input": "2022-03-28T08:44:29.491444Z",
     "iopub.status.busy": "2022-03-28T08:44:29.491059Z",
     "iopub.status.idle": "2022-03-28T08:44:29.512041Z",
     "shell.execute_reply": "2022-03-28T08:44:29.512699Z"
    },
    "papermill": {
     "duration": 0.044913,
     "end_time": "2022-03-28T08:44:29.512874",
     "exception": false,
     "start_time": "2022-03-28T08:44:29.467961",
     "status": "completed"
    },
    "tags": []
   },
   "outputs": [],
   "source": [
    "# global_x_transform_func = lambda x: normalize(x.to(torch.get_default_dtype()), \"unit_power\") # unit_power, unit_mag\n",
    "# global_x_transform_func = lambda x: normalize(x, \"unit_power\") # unit_power, unit_mag"
   ]
  },
  {
   "cell_type": "code",
   "execution_count": 12,
   "id": "acb78fd2",
   "metadata": {
    "execution": {
     "iopub.execute_input": "2022-03-28T08:44:29.567323Z",
     "iopub.status.busy": "2022-03-28T08:44:29.566948Z",
     "iopub.status.idle": "2022-03-28T08:44:29.585228Z",
     "shell.execute_reply": "2022-03-28T08:44:29.584538Z"
    },
    "papermill": {
     "duration": 0.044491,
     "end_time": "2022-03-28T08:44:29.585380",
     "exception": false,
     "start_time": "2022-03-28T08:44:29.540889",
     "status": "completed"
    },
    "tags": []
   },
   "outputs": [],
   "source": [
    "def add_dataset(\n",
    "    labels,\n",
    "    domains,\n",
    "    pickle_path,\n",
    "    x_transforms,\n",
    "    episode_transforms,\n",
    "    domain_prefix,\n",
    "    num_examples_per_domain_per_label,\n",
    "    source_or_target_dataset:str,\n",
    "    iterator_seed=p.seed,\n",
    "    dataset_seed=p.dataset_seed,\n",
    "    n_shot=p.n_shot,\n",
    "    n_way=p.n_way,\n",
    "    n_query=p.n_query,\n",
    "    train_val_test_k_factors=(p.train_k_factor,p.val_k_factor,p.test_k_factor),\n",
    "):\n",
    "   \n",
    "    if x_transforms == []: x_transform = None\n",
    "    else: x_transform = get_chained_transform(x_transforms)\n",
    "    \n",
    "    if episode_transforms == []: episode_transform = None\n",
    "    else: raise Exception(\"episode_transforms not implemented\")\n",
    "    \n",
    "    episode_transform = lambda tup, _prefix=domain_prefix: (_prefix + str(tup[0]), tup[1])\n",
    "\n",
    "\n",
    "    eaf = Episodic_Accessor_Factory(\n",
    "        labels=labels,\n",
    "        domains=domains,\n",
    "        num_examples_per_domain_per_label=num_examples_per_domain_per_label,\n",
    "        iterator_seed=iterator_seed,\n",
    "        dataset_seed=dataset_seed,\n",
    "        n_shot=n_shot,\n",
    "        n_way=n_way,\n",
    "        n_query=n_query,\n",
    "        train_val_test_k_factors=train_val_test_k_factors,\n",
    "        pickle_path=pickle_path,\n",
    "        x_transform_func=x_transform,\n",
    "    )\n",
    "\n",
    "    train, val, test = eaf.get_train(), eaf.get_val(), eaf.get_test()\n",
    "    train = Lazy_Iterable_Wrapper(train, episode_transform)\n",
    "    val = Lazy_Iterable_Wrapper(val, episode_transform)\n",
    "    test = Lazy_Iterable_Wrapper(test, episode_transform)\n",
    "\n",
    "    if source_or_target_dataset==\"source\":\n",
    "        train_original_source.append(train)\n",
    "        val_original_source.append(val)\n",
    "        test_original_source.append(test)\n",
    "\n",
    "        p.domains_source.extend(\n",
    "            [domain_prefix + str(u) for u in domains]\n",
    "        )\n",
    "    elif source_or_target_dataset==\"target\":\n",
    "        train_original_target.append(train)\n",
    "        val_original_target.append(val)\n",
    "        test_original_target.append(test)\n",
    "        p.domains_target.extend(\n",
    "            [domain_prefix + str(u) for u in domains]\n",
    "        )\n",
    "    else:\n",
    "        raise Exception(f\"invalid source_or_target_dataset: {source_or_target_dataset}\")\n",
    "    "
   ]
  },
  {
   "cell_type": "code",
   "execution_count": 13,
   "id": "fe266617",
   "metadata": {
    "execution": {
     "iopub.execute_input": "2022-03-28T08:44:29.634025Z",
     "iopub.status.busy": "2022-03-28T08:44:29.633669Z",
     "iopub.status.idle": "2022-03-28T08:46:20.668915Z",
     "shell.execute_reply": "2022-03-28T08:46:20.668137Z"
    },
    "papermill": {
     "duration": 111.058137,
     "end_time": "2022-03-28T08:46:20.669100",
     "exception": false,
     "start_time": "2022-03-28T08:44:29.610963",
     "status": "completed"
    },
    "tags": []
   },
   "outputs": [],
   "source": [
    "for ds in p.datasets:\n",
    "    add_dataset(**ds)"
   ]
  },
  {
   "cell_type": "code",
   "execution_count": 14,
   "id": "b90d65ac",
   "metadata": {
    "execution": {
     "iopub.execute_input": "2022-03-28T08:46:20.718785Z",
     "iopub.status.busy": "2022-03-28T08:46:20.717734Z",
     "iopub.status.idle": "2022-03-28T08:46:20.741060Z",
     "shell.execute_reply": "2022-03-28T08:46:20.740354Z"
    },
    "papermill": {
     "duration": 0.046776,
     "end_time": "2022-03-28T08:46:20.741216",
     "exception": false,
     "start_time": "2022-03-28T08:46:20.694440",
     "status": "completed"
    },
    "tags": []
   },
   "outputs": [],
   "source": [
    "# from steves_utils.CORES.utils import (\n",
    "#     ALL_NODES,\n",
    "#     ALL_NODES_MINIMUM_1000_EXAMPLES,\n",
    "#     ALL_DAYS\n",
    "# )\n",
    "\n",
    "# add_dataset(\n",
    "#     labels=ALL_NODES,\n",
    "#     domains = ALL_DAYS,\n",
    "#     num_examples_per_domain_per_label=100,\n",
    "#     pickle_path=os.path.join(get_datasets_base_path(), \"cores.stratified_ds.2022A.pkl\"),\n",
    "#     source_or_target_dataset=\"target\",\n",
    "#     x_transform_func=global_x_transform_func,\n",
    "#     domain_modifier=lambda u: f\"cores_{u}\"\n",
    "# )"
   ]
  },
  {
   "cell_type": "code",
   "execution_count": 15,
   "id": "76db484d",
   "metadata": {
    "execution": {
     "iopub.execute_input": "2022-03-28T08:46:20.791975Z",
     "iopub.status.busy": "2022-03-28T08:46:20.791600Z",
     "iopub.status.idle": "2022-03-28T08:46:20.808306Z",
     "shell.execute_reply": "2022-03-28T08:46:20.808980Z"
    },
    "papermill": {
     "duration": 0.041006,
     "end_time": "2022-03-28T08:46:20.809158",
     "exception": false,
     "start_time": "2022-03-28T08:46:20.768152",
     "status": "completed"
    },
    "tags": []
   },
   "outputs": [],
   "source": [
    "# from steves_utils.ORACLE.utils_v2 import (\n",
    "#     ALL_DISTANCES_FEET,\n",
    "#     ALL_RUNS,\n",
    "#     ALL_SERIAL_NUMBERS,\n",
    "# )\n",
    "\n",
    "\n",
    "# add_dataset(\n",
    "#     labels=ALL_SERIAL_NUMBERS,\n",
    "#     domains = list(set(ALL_DISTANCES_FEET) - {2,62}),\n",
    "#     num_examples_per_domain_per_label=100,\n",
    "#     pickle_path=os.path.join(get_datasets_base_path(), \"oracle.Run2_framed_2000Examples_stratified_ds.2022A.pkl\"),\n",
    "#     source_or_target_dataset=\"source\",\n",
    "#     x_transform_func=global_x_transform_func,\n",
    "#     domain_modifier=lambda u: f\"oracle1_{u}\"\n",
    "# )\n"
   ]
  },
  {
   "cell_type": "code",
   "execution_count": 16,
   "id": "97dea9d2",
   "metadata": {
    "execution": {
     "iopub.execute_input": "2022-03-28T08:46:20.858765Z",
     "iopub.status.busy": "2022-03-28T08:46:20.858400Z",
     "iopub.status.idle": "2022-03-28T08:46:20.875664Z",
     "shell.execute_reply": "2022-03-28T08:46:20.874951Z"
    },
    "papermill": {
     "duration": 0.040077,
     "end_time": "2022-03-28T08:46:20.875817",
     "exception": false,
     "start_time": "2022-03-28T08:46:20.835740",
     "status": "completed"
    },
    "tags": []
   },
   "outputs": [],
   "source": [
    "# from steves_utils.ORACLE.utils_v2 import (\n",
    "#     ALL_DISTANCES_FEET,\n",
    "#     ALL_RUNS,\n",
    "#     ALL_SERIAL_NUMBERS,\n",
    "# )\n",
    "\n",
    "\n",
    "# add_dataset(\n",
    "#     labels=ALL_SERIAL_NUMBERS,\n",
    "#     domains = list(set(ALL_DISTANCES_FEET) - {2,62,56}),\n",
    "#     num_examples_per_domain_per_label=100,\n",
    "#     pickle_path=os.path.join(get_datasets_base_path(), \"oracle.Run2_framed_2000Examples_stratified_ds.2022A.pkl\"),\n",
    "#     source_or_target_dataset=\"source\",\n",
    "#     x_transform_func=global_x_transform_func,\n",
    "#     domain_modifier=lambda u: f\"oracle2_{u}\"\n",
    "# )"
   ]
  },
  {
   "cell_type": "code",
   "execution_count": 17,
   "id": "6f289866",
   "metadata": {
    "execution": {
     "iopub.execute_input": "2022-03-28T08:46:20.928766Z",
     "iopub.status.busy": "2022-03-28T08:46:20.928217Z",
     "iopub.status.idle": "2022-03-28T08:46:20.944421Z",
     "shell.execute_reply": "2022-03-28T08:46:20.945081Z"
    },
    "papermill": {
     "duration": 0.040092,
     "end_time": "2022-03-28T08:46:20.945259",
     "exception": false,
     "start_time": "2022-03-28T08:46:20.905167",
     "status": "completed"
    },
    "tags": []
   },
   "outputs": [],
   "source": [
    "# add_dataset(\n",
    "#     labels=list(range(19)),\n",
    "#     domains = [0,1,2],\n",
    "#     num_examples_per_domain_per_label=100,\n",
    "#     pickle_path=os.path.join(get_datasets_base_path(), \"metehan.stratified_ds.2022A.pkl\"),\n",
    "#     source_or_target_dataset=\"target\",\n",
    "#     x_transform_func=global_x_transform_func,\n",
    "#     domain_modifier=lambda u: f\"met_{u}\"\n",
    "# )"
   ]
  },
  {
   "cell_type": "code",
   "execution_count": 18,
   "id": "86a863c3",
   "metadata": {
    "execution": {
     "iopub.execute_input": "2022-03-28T08:46:20.994976Z",
     "iopub.status.busy": "2022-03-28T08:46:20.994611Z",
     "iopub.status.idle": "2022-03-28T08:46:21.011142Z",
     "shell.execute_reply": "2022-03-28T08:46:21.011823Z"
    },
    "papermill": {
     "duration": 0.040171,
     "end_time": "2022-03-28T08:46:21.012000",
     "exception": false,
     "start_time": "2022-03-28T08:46:20.971829",
     "status": "completed"
    },
    "tags": []
   },
   "outputs": [],
   "source": [
    "# # from steves_utils.wisig.utils import (\n",
    "# #     ALL_NODES_MINIMUM_100_EXAMPLES,\n",
    "# #     ALL_NODES_MINIMUM_500_EXAMPLES,\n",
    "# #     ALL_NODES_MINIMUM_1000_EXAMPLES,\n",
    "# #     ALL_DAYS\n",
    "# # )\n",
    "\n",
    "# import steves_utils.wisig.utils as wisig\n",
    "\n",
    "\n",
    "# add_dataset(\n",
    "#     labels=wisig.ALL_NODES_MINIMUM_100_EXAMPLES,\n",
    "#     domains = wisig.ALL_DAYS,\n",
    "#     num_examples_per_domain_per_label=100,\n",
    "#     pickle_path=os.path.join(get_datasets_base_path(), \"wisig.node3-19.stratified_ds.2022A.pkl\"),\n",
    "#     source_or_target_dataset=\"target\",\n",
    "#     x_transform_func=global_x_transform_func,\n",
    "#     domain_modifier=lambda u: f\"wisig_{u}\"\n",
    "# )"
   ]
  },
  {
   "cell_type": "code",
   "execution_count": 19,
   "id": "fd5442bc",
   "metadata": {
    "execution": {
     "iopub.execute_input": "2022-03-28T08:46:21.067952Z",
     "iopub.status.busy": "2022-03-28T08:46:21.067551Z",
     "iopub.status.idle": "2022-03-28T08:46:21.086019Z",
     "shell.execute_reply": "2022-03-28T08:46:21.085321Z"
    },
    "papermill": {
     "duration": 0.04468,
     "end_time": "2022-03-28T08:46:21.086172",
     "exception": false,
     "start_time": "2022-03-28T08:46:21.041492",
     "status": "completed"
    },
    "tags": []
   },
   "outputs": [],
   "source": [
    "###################################\n",
    "# Build the dataset\n",
    "###################################\n",
    "train_original_source = Iterable_Aggregator(train_original_source, p.seed)\n",
    "val_original_source = Iterable_Aggregator(val_original_source, p.seed)\n",
    "test_original_source = Iterable_Aggregator(test_original_source, p.seed)\n",
    "\n",
    "\n",
    "train_original_target = Iterable_Aggregator(train_original_target, p.seed)\n",
    "val_original_target = Iterable_Aggregator(val_original_target, p.seed)\n",
    "test_original_target = Iterable_Aggregator(test_original_target, p.seed)\n",
    "\n",
    "# For CNN We only use X and Y. And we only train on the source.\n",
    "# Properly form the data using a transform lambda and Lazy_Iterable_Wrapper. Finally wrap them in a dataloader\n",
    "\n",
    "transform_lambda = lambda ex: ex[1] # Original is (<domain>, <episode>) so we strip down to episode only\n",
    "\n",
    "train_processed_source = Lazy_Iterable_Wrapper(train_original_source, transform_lambda)\n",
    "val_processed_source   = Lazy_Iterable_Wrapper(val_original_source, transform_lambda)\n",
    "test_processed_source  = Lazy_Iterable_Wrapper(test_original_source, transform_lambda)\n",
    "\n",
    "train_processed_target = Lazy_Iterable_Wrapper(train_original_target, transform_lambda)\n",
    "val_processed_target   = Lazy_Iterable_Wrapper(val_original_target, transform_lambda)\n",
    "test_processed_target  = Lazy_Iterable_Wrapper(test_original_target, transform_lambda)\n",
    "\n",
    "datasets = EasyDict({\n",
    "    \"source\": {\n",
    "        \"original\": {\"train\":train_original_source, \"val\":val_original_source, \"test\":test_original_source},\n",
    "        \"processed\": {\"train\":train_processed_source, \"val\":val_processed_source, \"test\":test_processed_source}\n",
    "    },\n",
    "    \"target\": {\n",
    "        \"original\": {\"train\":train_original_target, \"val\":val_original_target, \"test\":test_original_target},\n",
    "        \"processed\": {\"train\":train_processed_target, \"val\":val_processed_target, \"test\":test_processed_target}\n",
    "    },\n",
    "})"
   ]
  },
  {
   "cell_type": "code",
   "execution_count": 20,
   "id": "5b3c01fc",
   "metadata": {
    "execution": {
     "iopub.execute_input": "2022-03-28T08:46:21.137903Z",
     "iopub.status.busy": "2022-03-28T08:46:21.137535Z",
     "iopub.status.idle": "2022-03-28T08:46:35.317816Z",
     "shell.execute_reply": "2022-03-28T08:46:35.317120Z"
    },
    "papermill": {
     "duration": 14.204769,
     "end_time": "2022-03-28T08:46:35.317997",
     "exception": false,
     "start_time": "2022-03-28T08:46:21.113228",
     "status": "completed"
    },
    "tags": []
   },
   "outputs": [
    {
     "name": "stdout",
     "output_type": "stream",
     "text": [
      "{'C_5', 'C_3', 'C_4', 'C_1', 'C_2'}\n"
     ]
    },
    {
     "name": "stdout",
     "output_type": "stream",
     "text": [
      "{'O_14', 'O_50', 'O_20', 'O_26', 'O_8', 'O_32', 'O_44', 'O_38'}\n"
     ]
    },
    {
     "name": "stdout",
     "output_type": "stream",
     "text": [
      "tensor([[[0., 0., 0.,  ..., 0., 0., 0.],\n",
      "         [0., 0., 0.,  ..., 0., 0., 0.]],\n",
      "\n",
      "        [[0., 0., 0.,  ..., 0., 0., 0.],\n",
      "         [0., 0., 0.,  ..., 0., 0., 0.]],\n",
      "\n",
      "        [[0., 0., 0.,  ..., 0., 0., 0.],\n",
      "         [0., 0., 0.,  ..., 0., 0., 0.]],\n",
      "\n",
      "        ...,\n",
      "\n",
      "        [[0., 0., 0.,  ..., 0., 0., 0.],\n",
      "         [0., 0., 0.,  ..., 0., 0., 0.]],\n",
      "\n",
      "        [[0., 0., 0.,  ..., 0., 0., 0.],\n",
      "         [0., 0., 0.,  ..., 0., 0., 0.]],\n",
      "\n",
      "        [[0., 0., 0.,  ..., 0., 0., 0.],\n",
      "         [0., 0., 0.,  ..., 0., 0., 0.]]])\n"
     ]
    }
   ],
   "source": [
    "from steves_utils.transforms import get_average_magnitude, get_average_power\n",
    "\n",
    "print(set([u for u,_ in val_original_source]))\n",
    "print(set([u for u,_ in val_original_target]))\n",
    "\n",
    "s_x, s_y, q_x, q_y, _ = next(iter(train_processed_source))\n",
    "print(s_x)\n",
    "\n",
    "# for ds in [\n",
    "#     train_processed_source,\n",
    "#     val_processed_source,\n",
    "#     test_processed_source,\n",
    "#     train_processed_target,\n",
    "#     val_processed_target,\n",
    "#     test_processed_target\n",
    "# ]:\n",
    "#     for s_x, s_y, q_x, q_y, _ in ds:\n",
    "#         for X in (s_x, q_x):\n",
    "#             for x in X:\n",
    "#                 assert np.isclose(get_average_magnitude(x.numpy()), 1.0)\n",
    "#                 assert np.isclose(get_average_power(x.numpy()), 1.0)\n",
    "                "
   ]
  },
  {
   "cell_type": "code",
   "execution_count": 21,
   "id": "bbdacba1",
   "metadata": {
    "execution": {
     "iopub.execute_input": "2022-03-28T08:46:35.376271Z",
     "iopub.status.busy": "2022-03-28T08:46:35.375899Z",
     "iopub.status.idle": "2022-03-28T08:46:35.469979Z",
     "shell.execute_reply": "2022-03-28T08:46:35.470284Z"
    },
    "papermill": {
     "duration": 0.121637,
     "end_time": "2022-03-28T08:46:35.470374",
     "exception": false,
     "start_time": "2022-03-28T08:46:35.348737",
     "status": "completed"
    },
    "tags": []
   },
   "outputs": [
    {
     "name": "stdout",
     "output_type": "stream",
     "text": [
      "(2, 256)\n"
     ]
    }
   ],
   "source": [
    "###################################\n",
    "# Build the model\n",
    "###################################\n",
    "# easfsl only wants a tuple for the shape\n",
    "model = Steves_Prototypical_Network(x_net, device=p.device, x_shape=tuple(p.x_shape))\n",
    "optimizer = Adam(params=model.parameters(), lr=p.lr)"
   ]
  },
  {
   "cell_type": "code",
   "execution_count": 22,
   "id": "22b39ac5",
   "metadata": {
    "execution": {
     "iopub.execute_input": "2022-03-28T08:46:35.519724Z",
     "iopub.status.busy": "2022-03-28T08:46:35.519331Z",
     "iopub.status.idle": "2022-03-28T09:12:40.252672Z",
     "shell.execute_reply": "2022-03-28T09:12:40.251815Z"
    },
    "papermill": {
     "duration": 1564.759902,
     "end_time": "2022-03-28T09:12:40.252841",
     "exception": false,
     "start_time": "2022-03-28T08:46:35.492939",
     "status": "completed"
    },
    "tags": []
   },
   "outputs": [
    {
     "name": "stdout",
     "output_type": "stream",
     "text": [
      "epoch: 1, [batch: 1 / 6317], examples_per_second: 35.0002, train_label_loss: 2.7824, \n"
     ]
    },
    {
     "name": "stdout",
     "output_type": "stream",
     "text": [
      "epoch: 1, [batch: 632 / 6317], examples_per_second: 3852.0443, train_label_loss: 0.0891, \n"
     ]
    },
    {
     "name": "stdout",
     "output_type": "stream",
     "text": [
      "epoch: 1, [batch: 1264 / 6317], examples_per_second: 3856.6450, train_label_loss: 0.0064, \n"
     ]
    },
    {
     "name": "stdout",
     "output_type": "stream",
     "text": [
      "epoch: 1, [batch: 1895 / 6317], examples_per_second: 3789.4062, train_label_loss: 0.1253, \n"
     ]
    },
    {
     "name": "stdout",
     "output_type": "stream",
     "text": [
      "epoch: 1, [batch: 2527 / 6317], examples_per_second: 3806.0896, train_label_loss: 0.0073, \n"
     ]
    },
    {
     "name": "stdout",
     "output_type": "stream",
     "text": [
      "epoch: 1, [batch: 3159 / 6317], examples_per_second: 3853.1556, train_label_loss: 0.1181, \n"
     ]
    },
    {
     "name": "stdout",
     "output_type": "stream",
     "text": [
      "epoch: 1, [batch: 3790 / 6317], examples_per_second: 4239.5325, train_label_loss: 0.0377, \n"
     ]
    },
    {
     "name": "stdout",
     "output_type": "stream",
     "text": [
      "epoch: 1, [batch: 4422 / 6317], examples_per_second: 4424.7064, train_label_loss: 0.0042, \n"
     ]
    },
    {
     "name": "stdout",
     "output_type": "stream",
     "text": [
      "epoch: 1, [batch: 5053 / 6317], examples_per_second: 3892.0195, train_label_loss: 0.0130, \n"
     ]
    },
    {
     "name": "stdout",
     "output_type": "stream",
     "text": [
      "epoch: 1, [batch: 5685 / 6317], examples_per_second: 3765.3089, train_label_loss: 0.0319, \n"
     ]
    },
    {
     "name": "stdout",
     "output_type": "stream",
     "text": [
      "=============================================================\n",
      "epoch: 1, source_val_acc_label: 0.9937, target_val_acc_label: 0.3328, source_val_label_loss: 0.0993, target_val_label_loss: 1.9750, \n",
      "=============================================================\n"
     ]
    },
    {
     "name": "stdout",
     "output_type": "stream",
     "text": [
      "New best\n"
     ]
    },
    {
     "name": "stdout",
     "output_type": "stream",
     "text": [
      "epoch: 2, [batch: 1 / 6315], examples_per_second: 4.1396, train_label_loss: 2.2196, \n"
     ]
    },
    {
     "name": "stdout",
     "output_type": "stream",
     "text": [
      "epoch: 2, [batch: 632 / 6315], examples_per_second: 3864.7015, train_label_loss: 0.0003, \n"
     ]
    },
    {
     "name": "stdout",
     "output_type": "stream",
     "text": [
      "epoch: 2, [batch: 1263 / 6315], examples_per_second: 3982.4829, train_label_loss: 0.0230, \n"
     ]
    },
    {
     "name": "stdout",
     "output_type": "stream",
     "text": [
      "epoch: 2, [batch: 1895 / 6315], examples_per_second: 3866.4569, train_label_loss: 0.0000, \n"
     ]
    },
    {
     "name": "stdout",
     "output_type": "stream",
     "text": [
      "epoch: 2, [batch: 2526 / 6315], examples_per_second: 3765.8633, train_label_loss: 0.0296, \n"
     ]
    },
    {
     "name": "stdout",
     "output_type": "stream",
     "text": [
      "epoch: 2, [batch: 3158 / 6315], examples_per_second: 3871.3271, train_label_loss: 0.0001, \n"
     ]
    },
    {
     "name": "stdout",
     "output_type": "stream",
     "text": [
      "epoch: 2, [batch: 3789 / 6315], examples_per_second: 4203.5098, train_label_loss: 0.0006, \n"
     ]
    },
    {
     "name": "stdout",
     "output_type": "stream",
     "text": [
      "epoch: 2, [batch: 4420 / 6315], examples_per_second: 4255.6415, train_label_loss: 0.0001, \n"
     ]
    },
    {
     "name": "stdout",
     "output_type": "stream",
     "text": [
      "epoch: 2, [batch: 5052 / 6315], examples_per_second: 4313.1071, train_label_loss: 0.0027, \n"
     ]
    },
    {
     "name": "stdout",
     "output_type": "stream",
     "text": [
      "epoch: 2, [batch: 5683 / 6315], examples_per_second: 4457.7968, train_label_loss: 0.2549, \n"
     ]
    },
    {
     "name": "stdout",
     "output_type": "stream",
     "text": [
      "=============================================================\n",
      "epoch: 2, source_val_acc_label: 0.9974, target_val_acc_label: 0.3565, source_val_label_loss: 0.0121, target_val_label_loss: 1.8488, \n",
      "=============================================================\n"
     ]
    },
    {
     "name": "stdout",
     "output_type": "stream",
     "text": [
      "New best\n"
     ]
    },
    {
     "name": "stdout",
     "output_type": "stream",
     "text": [
      "epoch: 3, [batch: 1 / 6325], examples_per_second: 4.5764, train_label_loss: 0.0009, \n"
     ]
    },
    {
     "name": "stdout",
     "output_type": "stream",
     "text": [
      "epoch: 3, [batch: 633 / 6325], examples_per_second: 4090.0776, train_label_loss: 0.0002, \n"
     ]
    },
    {
     "name": "stdout",
     "output_type": "stream",
     "text": [
      "epoch: 3, [batch: 1265 / 6325], examples_per_second: 4971.2205, train_label_loss: 0.0005, \n"
     ]
    },
    {
     "name": "stdout",
     "output_type": "stream",
     "text": [
      "epoch: 3, [batch: 1898 / 6325], examples_per_second: 5168.8219, train_label_loss: 0.0000, \n"
     ]
    },
    {
     "name": "stdout",
     "output_type": "stream",
     "text": [
      "epoch: 3, [batch: 2530 / 6325], examples_per_second: 5140.6366, train_label_loss: 0.0000, \n"
     ]
    },
    {
     "name": "stdout",
     "output_type": "stream",
     "text": [
      "epoch: 3, [batch: 3163 / 6325], examples_per_second: 5324.7372, train_label_loss: 0.0002, \n"
     ]
    },
    {
     "name": "stdout",
     "output_type": "stream",
     "text": [
      "epoch: 3, [batch: 3795 / 6325], examples_per_second: 5310.2396, train_label_loss: 0.0000, \n"
     ]
    },
    {
     "name": "stdout",
     "output_type": "stream",
     "text": [
      "epoch: 3, [batch: 4427 / 6325], examples_per_second: 5212.7883, train_label_loss: 0.0002, \n"
     ]
    },
    {
     "name": "stdout",
     "output_type": "stream",
     "text": [
      "epoch: 3, [batch: 5060 / 6325], examples_per_second: 4801.1099, train_label_loss: 0.0001, \n"
     ]
    },
    {
     "name": "stdout",
     "output_type": "stream",
     "text": [
      "epoch: 3, [batch: 5692 / 6325], examples_per_second: 5102.7497, train_label_loss: 0.0000, \n"
     ]
    },
    {
     "name": "stdout",
     "output_type": "stream",
     "text": [
      "=============================================================\n",
      "epoch: 3, source_val_acc_label: 0.9985, target_val_acc_label: 0.3598, source_val_label_loss: 0.0072, target_val_label_loss: 1.9402, \n",
      "=============================================================\n"
     ]
    },
    {
     "name": "stdout",
     "output_type": "stream",
     "text": [
      "New best\n"
     ]
    },
    {
     "name": "stdout",
     "output_type": "stream",
     "text": [
      "epoch: 4, [batch: 1 / 6307], examples_per_second: 5.5198, train_label_loss: 0.0011, \n"
     ]
    },
    {
     "name": "stdout",
     "output_type": "stream",
     "text": [
      "epoch: 4, [batch: 631 / 6307], examples_per_second: 4815.0589, train_label_loss: 0.0000, \n"
     ]
    },
    {
     "name": "stdout",
     "output_type": "stream",
     "text": [
      "epoch: 4, [batch: 1262 / 6307], examples_per_second: 5028.2078, train_label_loss: 0.0047, \n"
     ]
    },
    {
     "name": "stdout",
     "output_type": "stream",
     "text": [
      "epoch: 4, [batch: 1892 / 6307], examples_per_second: 4960.8107, train_label_loss: 0.0000, \n"
     ]
    },
    {
     "name": "stdout",
     "output_type": "stream",
     "text": [
      "epoch: 4, [batch: 2523 / 6307], examples_per_second: 4855.3078, train_label_loss: 0.0001, \n"
     ]
    },
    {
     "name": "stdout",
     "output_type": "stream",
     "text": [
      "epoch: 4, [batch: 3154 / 6307], examples_per_second: 5024.6438, train_label_loss: 0.0000, \n"
     ]
    },
    {
     "name": "stdout",
     "output_type": "stream",
     "text": [
      "epoch: 4, [batch: 3784 / 6307], examples_per_second: 5451.4573, train_label_loss: 0.0031, \n"
     ]
    },
    {
     "name": "stdout",
     "output_type": "stream",
     "text": [
      "epoch: 4, [batch: 4415 / 6307], examples_per_second: 5367.3177, train_label_loss: 0.0002, \n"
     ]
    },
    {
     "name": "stdout",
     "output_type": "stream",
     "text": [
      "epoch: 4, [batch: 5045 / 6307], examples_per_second: 5495.0970, train_label_loss: 0.0000, \n"
     ]
    },
    {
     "name": "stdout",
     "output_type": "stream",
     "text": [
      "epoch: 4, [batch: 5676 / 6307], examples_per_second: 5267.1021, train_label_loss: 0.0000, \n"
     ]
    },
    {
     "name": "stdout",
     "output_type": "stream",
     "text": [
      "=============================================================\n",
      "epoch: 4, source_val_acc_label: 0.9985, target_val_acc_label: 0.3365, source_val_label_loss: 0.0073, target_val_label_loss: 2.1158, \n",
      "=============================================================\n"
     ]
    },
    {
     "name": "stdout",
     "output_type": "stream",
     "text": [
      "epoch: 5, [batch: 1 / 6302], examples_per_second: 5.3832, train_label_loss: 0.0583, \n"
     ]
    },
    {
     "name": "stdout",
     "output_type": "stream",
     "text": [
      "epoch: 5, [batch: 631 / 6302], examples_per_second: 3766.5763, train_label_loss: 0.0008, \n"
     ]
    },
    {
     "name": "stdout",
     "output_type": "stream",
     "text": [
      "epoch: 5, [batch: 1261 / 6302], examples_per_second: 3816.1691, train_label_loss: 0.0000, \n"
     ]
    },
    {
     "name": "stdout",
     "output_type": "stream",
     "text": [
      "epoch: 5, [batch: 1891 / 6302], examples_per_second: 3775.2557, train_label_loss: 0.0001, \n"
     ]
    },
    {
     "name": "stdout",
     "output_type": "stream",
     "text": [
      "epoch: 5, [batch: 2521 / 6302], examples_per_second: 3736.3923, train_label_loss: 0.0005, \n"
     ]
    },
    {
     "name": "stdout",
     "output_type": "stream",
     "text": [
      "epoch: 5, [batch: 3151 / 6302], examples_per_second: 3753.0997, train_label_loss: 0.0000, \n"
     ]
    },
    {
     "name": "stdout",
     "output_type": "stream",
     "text": [
      "epoch: 5, [batch: 3781 / 6302], examples_per_second: 3845.7311, train_label_loss: 0.0001, \n"
     ]
    },
    {
     "name": "stdout",
     "output_type": "stream",
     "text": [
      "epoch: 5, [batch: 4411 / 6302], examples_per_second: 3770.1622, train_label_loss: 0.0005, \n"
     ]
    },
    {
     "name": "stdout",
     "output_type": "stream",
     "text": [
      "epoch: 5, [batch: 5041 / 6302], examples_per_second: 3918.5502, train_label_loss: 0.0003, \n"
     ]
    },
    {
     "name": "stdout",
     "output_type": "stream",
     "text": [
      "epoch: 5, [batch: 5671 / 6302], examples_per_second: 3902.3398, train_label_loss: 0.0000, \n"
     ]
    },
    {
     "name": "stdout",
     "output_type": "stream",
     "text": [
      "=============================================================\n",
      "epoch: 5, source_val_acc_label: 0.9985, target_val_acc_label: 0.3804, source_val_label_loss: 0.0080, target_val_label_loss: 1.8434, \n",
      "=============================================================\n"
     ]
    },
    {
     "name": "stdout",
     "output_type": "stream",
     "text": [
      "New best\n"
     ]
    },
    {
     "name": "stdout",
     "output_type": "stream",
     "text": [
      "epoch: 6, [batch: 1 / 6311], examples_per_second: 4.3625, train_label_loss: 0.0001, \n"
     ]
    },
    {
     "name": "stdout",
     "output_type": "stream",
     "text": [
      "epoch: 6, [batch: 632 / 6311], examples_per_second: 3926.0011, train_label_loss: 0.0011, \n"
     ]
    },
    {
     "name": "stdout",
     "output_type": "stream",
     "text": [
      "epoch: 6, [batch: 1263 / 6311], examples_per_second: 3968.6859, train_label_loss: 0.0001, \n"
     ]
    },
    {
     "name": "stdout",
     "output_type": "stream",
     "text": [
      "epoch: 6, [batch: 1894 / 6311], examples_per_second: 3985.3442, train_label_loss: 0.0000, \n"
     ]
    },
    {
     "name": "stdout",
     "output_type": "stream",
     "text": [
      "epoch: 6, [batch: 2525 / 6311], examples_per_second: 4011.6463, train_label_loss: 0.0008, \n"
     ]
    },
    {
     "name": "stdout",
     "output_type": "stream",
     "text": [
      "epoch: 6, [batch: 3156 / 6311], examples_per_second: 3845.8669, train_label_loss: 0.0001, \n"
     ]
    },
    {
     "name": "stdout",
     "output_type": "stream",
     "text": [
      "epoch: 6, [batch: 3787 / 6311], examples_per_second: 3896.3179, train_label_loss: 0.0005, \n"
     ]
    },
    {
     "name": "stdout",
     "output_type": "stream",
     "text": [
      "epoch: 6, [batch: 4418 / 6311], examples_per_second: 3883.3273, train_label_loss: 0.0013, \n"
     ]
    },
    {
     "name": "stdout",
     "output_type": "stream",
     "text": [
      "epoch: 6, [batch: 5049 / 6311], examples_per_second: 3903.1290, train_label_loss: 0.0000, \n"
     ]
    },
    {
     "name": "stdout",
     "output_type": "stream",
     "text": [
      "epoch: 6, [batch: 5680 / 6311], examples_per_second: 3834.0252, train_label_loss: 0.0000, \n"
     ]
    },
    {
     "name": "stdout",
     "output_type": "stream",
     "text": [
      "=============================================================\n",
      "epoch: 6, source_val_acc_label: 0.9990, target_val_acc_label: 0.3510, source_val_label_loss: 0.0043, target_val_label_loss: 2.0748, \n",
      "=============================================================\n"
     ]
    },
    {
     "name": "stdout",
     "output_type": "stream",
     "text": [
      "epoch: 7, [batch: 1 / 6310], examples_per_second: 4.2942, train_label_loss: 0.0000, \n"
     ]
    },
    {
     "name": "stdout",
     "output_type": "stream",
     "text": [
      "epoch: 7, [batch: 631 / 6310], examples_per_second: 3732.8793, train_label_loss: 0.0000, \n"
     ]
    },
    {
     "name": "stdout",
     "output_type": "stream",
     "text": [
      "epoch: 7, [batch: 1262 / 6310], examples_per_second: 3773.9882, train_label_loss: 0.0000, \n"
     ]
    },
    {
     "name": "stdout",
     "output_type": "stream",
     "text": [
      "epoch: 7, [batch: 1893 / 6310], examples_per_second: 3796.3899, train_label_loss: 0.0000, \n"
     ]
    },
    {
     "name": "stdout",
     "output_type": "stream",
     "text": [
      "epoch: 7, [batch: 2524 / 6310], examples_per_second: 3785.1167, train_label_loss: 0.0001, \n"
     ]
    },
    {
     "name": "stdout",
     "output_type": "stream",
     "text": [
      "epoch: 7, [batch: 3155 / 6310], examples_per_second: 3918.4894, train_label_loss: 0.0000, \n"
     ]
    },
    {
     "name": "stdout",
     "output_type": "stream",
     "text": [
      "epoch: 7, [batch: 3786 / 6310], examples_per_second: 3792.8946, train_label_loss: 0.0808, \n"
     ]
    },
    {
     "name": "stdout",
     "output_type": "stream",
     "text": [
      "epoch: 7, [batch: 4417 / 6310], examples_per_second: 3872.6085, train_label_loss: 0.0000, \n"
     ]
    },
    {
     "name": "stdout",
     "output_type": "stream",
     "text": [
      "epoch: 7, [batch: 5048 / 6310], examples_per_second: 3910.3703, train_label_loss: 0.0000, \n"
     ]
    },
    {
     "name": "stdout",
     "output_type": "stream",
     "text": [
      "epoch: 7, [batch: 5679 / 6310], examples_per_second: 3948.5811, train_label_loss: 0.0001, \n"
     ]
    },
    {
     "name": "stdout",
     "output_type": "stream",
     "text": [
      "=============================================================\n",
      "epoch: 7, source_val_acc_label: 0.9993, target_val_acc_label: 0.3974, source_val_label_loss: 0.0040, target_val_label_loss: 1.7731, \n",
      "=============================================================\n"
     ]
    },
    {
     "name": "stdout",
     "output_type": "stream",
     "text": [
      "New best\n"
     ]
    },
    {
     "name": "stdout",
     "output_type": "stream",
     "text": [
      "epoch: 8, [batch: 1 / 6331], examples_per_second: 4.3349, train_label_loss: 0.0001, \n"
     ]
    },
    {
     "name": "stdout",
     "output_type": "stream",
     "text": [
      "epoch: 8, [batch: 634 / 6331], examples_per_second: 3860.3352, train_label_loss: 0.0000, \n"
     ]
    },
    {
     "name": "stdout",
     "output_type": "stream",
     "text": [
      "epoch: 8, [batch: 1267 / 6331], examples_per_second: 3813.4622, train_label_loss: 0.0000, \n"
     ]
    },
    {
     "name": "stdout",
     "output_type": "stream",
     "text": [
      "epoch: 8, [batch: 1900 / 6331], examples_per_second: 3763.7496, train_label_loss: 0.0008, \n"
     ]
    },
    {
     "name": "stdout",
     "output_type": "stream",
     "text": [
      "epoch: 8, [batch: 2533 / 6331], examples_per_second: 3841.8808, train_label_loss: 0.0000, \n"
     ]
    },
    {
     "name": "stdout",
     "output_type": "stream",
     "text": [
      "epoch: 8, [batch: 3166 / 6331], examples_per_second: 3838.4738, train_label_loss: 0.0000, \n"
     ]
    },
    {
     "name": "stdout",
     "output_type": "stream",
     "text": [
      "epoch: 8, [batch: 3799 / 6331], examples_per_second: 3835.0384, train_label_loss: 0.0000, \n"
     ]
    },
    {
     "name": "stdout",
     "output_type": "stream",
     "text": [
      "epoch: 8, [batch: 4432 / 6331], examples_per_second: 3856.7128, train_label_loss: 0.0000, \n"
     ]
    },
    {
     "name": "stdout",
     "output_type": "stream",
     "text": [
      "epoch: 8, [batch: 5065 / 6331], examples_per_second: 4016.4839, train_label_loss: 0.0001, \n"
     ]
    },
    {
     "name": "stdout",
     "output_type": "stream",
     "text": [
      "epoch: 8, [batch: 5698 / 6331], examples_per_second: 3895.2078, train_label_loss: 0.0000, \n"
     ]
    },
    {
     "name": "stdout",
     "output_type": "stream",
     "text": [
      "=============================================================\n",
      "epoch: 8, source_val_acc_label: 0.9990, target_val_acc_label: 0.3538, source_val_label_loss: 0.0064, target_val_label_loss: 2.2798, \n",
      "=============================================================\n"
     ]
    },
    {
     "name": "stdout",
     "output_type": "stream",
     "text": [
      "epoch: 9, [batch: 1 / 6311], examples_per_second: 4.3598, train_label_loss: 0.0000, \n"
     ]
    },
    {
     "name": "stdout",
     "output_type": "stream",
     "text": [
      "epoch: 9, [batch: 632 / 6311], examples_per_second: 3791.0088, train_label_loss: 0.0000, \n"
     ]
    },
    {
     "name": "stdout",
     "output_type": "stream",
     "text": [
      "epoch: 9, [batch: 1263 / 6311], examples_per_second: 3829.2221, train_label_loss: 0.0000, \n"
     ]
    },
    {
     "name": "stdout",
     "output_type": "stream",
     "text": [
      "epoch: 9, [batch: 1894 / 6311], examples_per_second: 3834.6738, train_label_loss: 0.0005, \n"
     ]
    },
    {
     "name": "stdout",
     "output_type": "stream",
     "text": [
      "epoch: 9, [batch: 2525 / 6311], examples_per_second: 3794.5128, train_label_loss: 0.0000, \n"
     ]
    },
    {
     "name": "stdout",
     "output_type": "stream",
     "text": [
      "epoch: 9, [batch: 3156 / 6311], examples_per_second: 3877.8075, train_label_loss: 0.0000, \n"
     ]
    },
    {
     "name": "stdout",
     "output_type": "stream",
     "text": [
      "epoch: 9, [batch: 3787 / 6311], examples_per_second: 3959.6506, train_label_loss: 0.0000, \n"
     ]
    },
    {
     "name": "stdout",
     "output_type": "stream",
     "text": [
      "epoch: 9, [batch: 4418 / 6311], examples_per_second: 3971.8629, train_label_loss: 0.0000, \n"
     ]
    },
    {
     "name": "stdout",
     "output_type": "stream",
     "text": [
      "epoch: 9, [batch: 5049 / 6311], examples_per_second: 3912.8273, train_label_loss: 0.0000, \n"
     ]
    },
    {
     "name": "stdout",
     "output_type": "stream",
     "text": [
      "epoch: 9, [batch: 5680 / 6311], examples_per_second: 3917.1285, train_label_loss: 0.0000, \n"
     ]
    },
    {
     "name": "stdout",
     "output_type": "stream",
     "text": [
      "=============================================================\n",
      "epoch: 9, source_val_acc_label: 0.9989, target_val_acc_label: 0.3367, source_val_label_loss: 0.0082, target_val_label_loss: 2.7032, \n",
      "=============================================================\n"
     ]
    },
    {
     "name": "stdout",
     "output_type": "stream",
     "text": [
      "epoch: 10, [batch: 1 / 6309], examples_per_second: 4.3517, train_label_loss: 0.0000, \n"
     ]
    },
    {
     "name": "stdout",
     "output_type": "stream",
     "text": [
      "epoch: 10, [batch: 631 / 6309], examples_per_second: 4268.6366, train_label_loss: 0.0003, \n"
     ]
    },
    {
     "name": "stdout",
     "output_type": "stream",
     "text": [
      "epoch: 10, [batch: 1262 / 6309], examples_per_second: 4237.4177, train_label_loss: 0.0048, \n"
     ]
    },
    {
     "name": "stdout",
     "output_type": "stream",
     "text": [
      "epoch: 10, [batch: 1893 / 6309], examples_per_second: 4316.7763, train_label_loss: 0.0000, \n"
     ]
    },
    {
     "name": "stdout",
     "output_type": "stream",
     "text": [
      "epoch: 10, [batch: 2524 / 6309], examples_per_second: 4281.5821, train_label_loss: 0.0000, \n"
     ]
    },
    {
     "name": "stdout",
     "output_type": "stream",
     "text": [
      "epoch: 10, [batch: 3155 / 6309], examples_per_second: 4286.6757, train_label_loss: 0.0000, \n"
     ]
    },
    {
     "name": "stdout",
     "output_type": "stream",
     "text": [
      "epoch: 10, [batch: 3785 / 6309], examples_per_second: 4154.7205, train_label_loss: 0.0000, \n"
     ]
    },
    {
     "name": "stdout",
     "output_type": "stream",
     "text": [
      "epoch: 10, [batch: 4416 / 6309], examples_per_second: 4817.8659, train_label_loss: 0.0000, \n"
     ]
    },
    {
     "name": "stdout",
     "output_type": "stream",
     "text": [
      "epoch: 10, [batch: 5047 / 6309], examples_per_second: 5112.9339, train_label_loss: 0.0078, \n"
     ]
    },
    {
     "name": "stdout",
     "output_type": "stream",
     "text": [
      "epoch: 10, [batch: 5678 / 6309], examples_per_second: 5334.5289, train_label_loss: 0.0000, \n"
     ]
    },
    {
     "name": "stdout",
     "output_type": "stream",
     "text": [
      "=============================================================\n",
      "epoch: 10, source_val_acc_label: 0.9991, target_val_acc_label: 0.3478, source_val_label_loss: 0.0061, target_val_label_loss: 2.5895, \n",
      "=============================================================\n"
     ]
    },
    {
     "name": "stdout",
     "output_type": "stream",
     "text": [
      "epoch: 11, [batch: 1 / 6319], examples_per_second: 5.5893, train_label_loss: 0.0000, \n"
     ]
    },
    {
     "name": "stdout",
     "output_type": "stream",
     "text": [
      "epoch: 11, [batch: 632 / 6319], examples_per_second: 5082.9916, train_label_loss: 0.0000, \n"
     ]
    },
    {
     "name": "stdout",
     "output_type": "stream",
     "text": [
      "epoch: 11, [batch: 1264 / 6319], examples_per_second: 5053.2408, train_label_loss: 0.0000, \n"
     ]
    },
    {
     "name": "stdout",
     "output_type": "stream",
     "text": [
      "epoch: 11, [batch: 1896 / 6319], examples_per_second: 4821.4256, train_label_loss: 0.0000, \n"
     ]
    },
    {
     "name": "stdout",
     "output_type": "stream",
     "text": [
      "epoch: 11, [batch: 2528 / 6319], examples_per_second: 5029.6105, train_label_loss: 0.0000, \n"
     ]
    },
    {
     "name": "stdout",
     "output_type": "stream",
     "text": [
      "epoch: 11, [batch: 3160 / 6319], examples_per_second: 4969.9093, train_label_loss: 0.0005, \n"
     ]
    },
    {
     "name": "stdout",
     "output_type": "stream",
     "text": [
      "epoch: 11, [batch: 3791 / 6319], examples_per_second: 4903.8974, train_label_loss: 0.0000, \n"
     ]
    },
    {
     "name": "stdout",
     "output_type": "stream",
     "text": [
      "epoch: 11, [batch: 4423 / 6319], examples_per_second: 4959.4507, train_label_loss: 0.0000, \n"
     ]
    },
    {
     "name": "stdout",
     "output_type": "stream",
     "text": [
      "epoch: 11, [batch: 5055 / 6319], examples_per_second: 4872.2706, train_label_loss: 0.0000, \n"
     ]
    },
    {
     "name": "stdout",
     "output_type": "stream",
     "text": [
      "epoch: 11, [batch: 5687 / 6319], examples_per_second: 5008.6070, train_label_loss: 0.0000, \n"
     ]
    },
    {
     "name": "stdout",
     "output_type": "stream",
     "text": [
      "=============================================================\n",
      "epoch: 11, source_val_acc_label: 0.9993, target_val_acc_label: 0.3489, source_val_label_loss: 0.0063, target_val_label_loss: 2.6306, \n",
      "=============================================================\n"
     ]
    },
    {
     "name": "stdout",
     "output_type": "stream",
     "text": [
      "Patience (3) exhausted\n"
     ]
    }
   ],
   "source": [
    "###################################\n",
    "# train\n",
    "###################################\n",
    "jig = PTN_Train_Eval_Test_Jig(model, p.BEST_MODEL_PATH, p.device)\n",
    "\n",
    "jig.train(\n",
    "    train_iterable=datasets.source.processed.train,\n",
    "    source_val_iterable=datasets.source.processed.val,\n",
    "    target_val_iterable=datasets.target.processed.val,\n",
    "    num_epochs=p.n_epoch,\n",
    "    num_logs_per_epoch=p.NUM_LOGS_PER_EPOCH,\n",
    "    patience=p.patience,\n",
    "    optimizer=optimizer,\n",
    "    criteria_for_best=p.criteria_for_best,\n",
    ")"
   ]
  },
  {
   "cell_type": "code",
   "execution_count": 23,
   "id": "31e8fabf",
   "metadata": {
    "execution": {
     "iopub.execute_input": "2022-03-28T09:12:40.376361Z",
     "iopub.status.busy": "2022-03-28T09:12:40.376000Z",
     "iopub.status.idle": "2022-03-28T09:12:40.407190Z",
     "shell.execute_reply": "2022-03-28T09:12:40.406396Z"
    },
    "papermill": {
     "duration": 0.093513,
     "end_time": "2022-03-28T09:12:40.407344",
     "exception": false,
     "start_time": "2022-03-28T09:12:40.313831",
     "status": "completed"
    },
    "tags": []
   },
   "outputs": [],
   "source": [
    "total_experiment_time_secs = time.time() - start_time_secs"
   ]
  },
  {
   "cell_type": "code",
   "execution_count": 24,
   "id": "87b9595b",
   "metadata": {
    "execution": {
     "iopub.execute_input": "2022-03-28T09:12:40.537539Z",
     "iopub.status.busy": "2022-03-28T09:12:40.536685Z",
     "iopub.status.idle": "2022-03-28T09:15:25.431951Z",
     "shell.execute_reply": "2022-03-28T09:15:25.431176Z"
    },
    "papermill": {
     "duration": 164.961837,
     "end_time": "2022-03-28T09:15:25.432155",
     "exception": false,
     "start_time": "2022-03-28T09:12:40.470318",
     "status": "completed"
    },
    "tags": []
   },
   "outputs": [],
   "source": [
    "###################################\n",
    "# Evaluate the model\n",
    "###################################\n",
    "source_test_label_accuracy, source_test_label_loss = jig.test(datasets.source.processed.test)\n",
    "target_test_label_accuracy, target_test_label_loss = jig.test(datasets.target.processed.test)\n",
    "\n",
    "source_val_label_accuracy, source_val_label_loss = jig.test(datasets.source.processed.val)\n",
    "target_val_label_accuracy, target_val_label_loss = jig.test(datasets.target.processed.val)\n",
    "\n",
    "history = jig.get_history()\n",
    "\n",
    "total_epochs_trained = len(history[\"epoch_indices\"])\n",
    "\n",
    "val_dl = Iterable_Aggregator((datasets.source.original.val,datasets.target.original.val))\n",
    "\n",
    "confusion = ptn_confusion_by_domain_over_dataloader(model, p.device, val_dl)\n",
    "per_domain_accuracy = per_domain_accuracy_from_confusion(confusion)\n",
    "\n",
    "# Add a key to per_domain_accuracy for if it was a source domain\n",
    "for domain, accuracy in per_domain_accuracy.items():\n",
    "    per_domain_accuracy[domain] = {\n",
    "        \"accuracy\": accuracy,\n",
    "        \"source?\": domain in p.domains_source\n",
    "    }\n",
    "\n",
    "# Do an independent accuracy assesment JUST TO BE SURE!\n",
    "# _source_test_label_accuracy = independent_accuracy_assesment(model, datasets.source.processed.test, p.device)\n",
    "# _target_test_label_accuracy = independent_accuracy_assesment(model, datasets.target.processed.test, p.device)\n",
    "# _source_val_label_accuracy = independent_accuracy_assesment(model, datasets.source.processed.val, p.device)\n",
    "# _target_val_label_accuracy = independent_accuracy_assesment(model, datasets.target.processed.val, p.device)\n",
    "\n",
    "# assert(_source_test_label_accuracy == source_test_label_accuracy)\n",
    "# assert(_target_test_label_accuracy == target_test_label_accuracy)\n",
    "# assert(_source_val_label_accuracy == source_val_label_accuracy)\n",
    "# assert(_target_val_label_accuracy == target_val_label_accuracy)\n",
    "\n",
    "experiment = {\n",
    "    \"experiment_name\": p.experiment_name,\n",
    "    \"parameters\": dict(p),\n",
    "    \"results\": {\n",
    "        \"source_test_label_accuracy\": source_test_label_accuracy,\n",
    "        \"source_test_label_loss\": source_test_label_loss,\n",
    "        \"target_test_label_accuracy\": target_test_label_accuracy,\n",
    "        \"target_test_label_loss\": target_test_label_loss,\n",
    "        \"source_val_label_accuracy\": source_val_label_accuracy,\n",
    "        \"source_val_label_loss\": source_val_label_loss,\n",
    "        \"target_val_label_accuracy\": target_val_label_accuracy,\n",
    "        \"target_val_label_loss\": target_val_label_loss,\n",
    "        \"total_epochs_trained\": total_epochs_trained,\n",
    "        \"total_experiment_time_secs\": total_experiment_time_secs,\n",
    "        \"confusion\": confusion,\n",
    "        \"per_domain_accuracy\": per_domain_accuracy,\n",
    "    },\n",
    "    \"history\": history,\n",
    "    \"dataset_metrics\": get_dataset_metrics(datasets, \"ptn\"),\n",
    "}"
   ]
  },
  {
   "cell_type": "code",
   "execution_count": 25,
   "id": "54a21829",
   "metadata": {
    "execution": {
     "iopub.execute_input": "2022-03-28T09:15:25.554839Z",
     "iopub.status.busy": "2022-03-28T09:15:25.554466Z",
     "iopub.status.idle": "2022-03-28T09:15:25.768341Z",
     "shell.execute_reply": "2022-03-28T09:15:25.769032Z"
    },
    "papermill": {
     "duration": 0.274332,
     "end_time": "2022-03-28T09:15:25.769258",
     "exception": false,
     "start_time": "2022-03-28T09:15:25.494926",
     "status": "completed"
    },
    "tags": []
   },
   "outputs": [
    {
     "data": {
      "image/png": "[encoded data removed]",
      "text/plain": [
       "<Figure size 1080x504 with 1 Axes>"
      ]
     },
     "metadata": {
      "needs_background": "light"
     },
     "output_type": "display_data"
    }
   ],
   "source": [
    "ax = get_loss_curve(experiment)\n",
    "plt.show()"
   ]
  },
  {
   "cell_type": "code",
   "execution_count": 26,
   "id": "fd8a0f60",
   "metadata": {
    "execution": {
     "iopub.execute_input": "2022-03-28T09:15:25.894884Z",
     "iopub.status.busy": "2022-03-28T09:15:25.894513Z",
     "iopub.status.idle": "2022-03-28T09:15:26.298903Z",
     "shell.execute_reply": "2022-03-28T09:15:26.299604Z"
    },
    "papermill": {
     "duration": 0.467162,
     "end_time": "2022-03-28T09:15:26.299839",
     "exception": false,
     "start_time": "2022-03-28T09:15:25.832677",
     "status": "completed"
    },
    "tags": []
   },
   "outputs": [
    {
     "data": {
      "text/plain": [
       "<AxesSubplot:title={'center':'Results'}>"
      ]
     },
     "execution_count": 26,
     "metadata": {},
     "output_type": "execute_result"
    },
    {
     "data": {
      "image/png": "[encoded data removed]",
      "text/plain": [
       "<Figure size 1080x504 with 1 Axes>"
      ]
     },
     "metadata": {
      "needs_background": "light"
     },
     "output_type": "display_data"
    }
   ],
   "source": [
    "get_results_table(experiment)"
   ]
  },
  {
   "cell_type": "code",
   "execution_count": 27,
   "id": "cf8dc689",
   "metadata": {
    "execution": {
     "iopub.execute_input": "2022-03-28T09:15:26.424552Z",
     "iopub.status.busy": "2022-03-28T09:15:26.424186Z",
     "iopub.status.idle": "2022-03-28T09:15:26.662424Z",
     "shell.execute_reply": "2022-03-28T09:15:26.661612Z"
    },
    "papermill": {
     "duration": 0.300881,
     "end_time": "2022-03-28T09:15:26.662592",
     "exception": false,
     "start_time": "2022-03-28T09:15:26.361711",
     "status": "completed"
    },
    "tags": []
   },
   "outputs": [
    {
     "data": {
      "text/plain": [
       "<AxesSubplot:title={'center':'Per Domain Validation Accuracy'}, xlabel='domain'>"
      ]
     },
     "execution_count": 27,
     "metadata": {},
     "output_type": "execute_result"
    },
    {
     "data": {
      "image/png": "[encoded data removed]",
      "text/plain": [
       "<Figure size 1080x504 with 1 Axes>"
      ]
     },
     "metadata": {
      "needs_background": "light"
     },
     "output_type": "display_data"
    }
   ],
   "source": [
    "get_domain_accuracies(experiment)"
   ]
  },
  {
   "cell_type": "code",
   "execution_count": 28,
   "id": "a74ae082",
   "metadata": {
    "execution": {
     "iopub.execute_input": "2022-03-28T09:15:26.791383Z",
     "iopub.status.busy": "2022-03-28T09:15:26.791011Z",
     "iopub.status.idle": "2022-03-28T09:15:26.817827Z",
     "shell.execute_reply": "2022-03-28T09:15:26.817030Z"
    },
    "papermill": {
     "duration": 0.09196,
     "end_time": "2022-03-28T09:15:26.817987",
     "exception": false,
     "start_time": "2022-03-28T09:15:26.726027",
     "status": "completed"
    },
    "tags": []
   },
   "outputs": [
    {
     "name": "stdout",
     "output_type": "stream",
     "text": [
      "Source Test Label Accuracy: 0.9994030898876405 Target Test Label Accuracy: 0.4051432291666667\n",
      "Source Val Label Accuracy: 0.9993214285714286 Target Val Label Accuracy: 0.39736328125\n"
     ]
    }
   ],
   "source": [
    "print(\"Source Test Label Accuracy:\", experiment[\"results\"][\"source_test_label_accuracy\"], \"Target Test Label Accuracy:\", experiment[\"results\"][\"target_test_label_accuracy\"])\n",
    "print(\"Source Val Label Accuracy:\", experiment[\"results\"][\"source_val_label_accuracy\"], \"Target Val Label Accuracy:\", experiment[\"results\"][\"target_val_label_accuracy\"])"
   ]
  },
  {
   "cell_type": "code",
   "execution_count": 29,
   "id": "dacca602",
   "metadata": {
    "execution": {
     "iopub.execute_input": "2022-03-28T09:15:26.947288Z",
     "iopub.status.busy": "2022-03-28T09:15:26.946928Z",
     "iopub.status.idle": "2022-03-28T09:15:26.976118Z",
     "shell.execute_reply": "2022-03-28T09:15:26.976785Z"
    },
    "papermill": {
     "duration": 0.093294,
     "end_time": "2022-03-28T09:15:26.976966",
     "exception": false,
     "start_time": "2022-03-28T09:15:26.883672",
     "status": "completed"
    },
    "tags": [
     "experiment_json"
    ]
   },
   "outputs": [
    {
     "data": {
      "text/plain": [
       "'{\"experiment_name\": \"tl_3-jitter10v2:cores -> oracle.run1.framed\", \"parameters\": {\"experiment_name\": \"tl_3-jitter10v2:cores -> oracle.run1.framed\", \"device\": \"cuda\", \"lr\": 0.0001, \"x_shape\": [2, 256], \"n_shot\": 3, \"n_query\": 2, \"train_k_factor\": 3, \"val_k_factor\": 2, \"test_k_factor\": 2, \"torch_default_dtype\": \"torch.float32\", \"n_epoch\": 50, \"patience\": 3, \"criteria_for_best\": \"target_accuracy\", \"x_net\": [{\"class\": \"nnReshape\", \"kargs\": {\"shape\": [-1, 1, 2, 256]}}, {\"class\": \"Conv2d\", \"kargs\": {\"in_channels\": 1, \"out_channels\": 256, \"kernel_size\": [1, 7], \"bias\": false, \"padding\": [0, 3]}}, {\"class\": \"ReLU\", \"kargs\": {\"inplace\": true}}, {\"class\": \"BatchNorm2d\", \"kargs\": {\"num_features\": 256}}, {\"class\": \"Conv2d\", \"kargs\": {\"in_channels\": 256, \"out_channels\": 80, \"kernel_size\": [2, 7], \"bias\": true, \"padding\": [0, 3]}}, {\"class\": \"ReLU\", \"kargs\": {\"inplace\": true}}, {\"class\": \"BatchNorm2d\", \"kargs\": {\"num_features\": 80}}, {\"class\": \"Flatten\", \"kargs\": {}}, {\"class\": \"Linear\", \"kargs\": {\"in_features\": 20480, \"out_features\": 256}}, {\"class\": \"ReLU\", \"kargs\": {\"inplace\": true}}, {\"class\": \"BatchNorm1d\", \"kargs\": {\"num_features\": 256}}, {\"class\": \"Linear\", \"kargs\": {\"in_features\": 256, \"out_features\": 256}}], \"NUM_LOGS_PER_EPOCH\": 10, \"BEST_MODEL_PATH\": \"./best_model.pth\", \"n_way\": 16, \"datasets\": [{\"labels\": [\"1-10.\", \"1-11.\", \"1-15.\", \"1-16.\", \"1-17.\", \"1-18.\", \"1-19.\", \"10-4.\", \"10-7.\", \"11-1.\", \"11-14.\", \"11-17.\", \"11-20.\", \"11-7.\", \"13-20.\", \"13-8.\", \"14-10.\", \"14-11.\", \"14-14.\", \"14-7.\", \"15-1.\", \"15-20.\", \"16-1.\", \"16-16.\", \"17-10.\", \"17-11.\", \"17-2.\", \"19-1.\", \"19-16.\", \"19-19.\", \"19-20.\", \"19-3.\", \"2-10.\", \"2-11.\", \"2-17.\", \"2-18.\", \"2-20.\", \"2-3.\", \"2-4.\", \"2-5.\", \"2-6.\", \"2-7.\", \"2-8.\", \"3-13.\", \"3-18.\", \"3-3.\", \"4-1.\", \"4-10.\", \"4-11.\", \"4-19.\", \"5-5.\", \"6-15.\", \"7-10.\", \"7-14.\", \"8-18.\", \"8-20.\", \"8-3.\", \"8-8.\"], \"domains\": [1, 2, 3, 4, 5], \"num_examples_per_domain_per_label\": -1, \"pickle_path\": \"/root/csc500-main/datasets/cores.stratified_ds.2022A.pkl\", \"source_or_target_dataset\": \"source\", \"x_transforms\": [\"unit_power\", \"jitter_256_10\", \"lowpass_+/-10MHz\", \"take_200\"], \"episode_transforms\": [], \"domain_prefix\": \"C_\"}, {\"labels\": [\"3123D52\", \"3123D65\", \"3123D79\", \"3123D80\", \"3123D54\", \"3123D70\", \"3123D7B\", \"3123D89\", \"3123D58\", \"3123D76\", \"3123D7D\", \"3123EFE\", \"3123D64\", \"3123D78\", \"3123D7E\", \"3124E4A\"], \"domains\": [32, 38, 8, 44, 14, 50, 20, 26], \"num_examples_per_domain_per_label\": 2000, \"pickle_path\": \"/root/csc500-main/datasets/oracle.Run1_framed_2000Examples_stratified_ds.2022A.pkl\", \"source_or_target_dataset\": \"target\", \"x_transforms\": [\"unit_power\", \"jitter_256_10\", \"take_200\", \"resample_20Msps_to_25Msps\"], \"episode_transforms\": [], \"domain_prefix\": \"O_\"}], \"seed\": 500, \"dataset_seed\": 500, \"domains_source\": [\"C_1\", \"C_2\", \"C_3\", \"C_4\", \"C_5\"], \"domains_target\": [\"O_32\", \"O_38\", \"O_8\", \"O_44\", \"O_14\", \"O_50\", \"O_20\", \"O_26\"]}, \"results\": {\"source_test_label_accuracy\": 0.9994030898876405, \"source_test_label_loss\": 0.007401591166853905, \"target_test_label_accuracy\": 0.4051432291666667, \"target_test_label_loss\": 1.7492746114730835, \"source_val_label_accuracy\": 0.9993214285714286, \"source_val_label_loss\": 0.004049257375299931, \"target_val_label_accuracy\": 0.39736328125, \"target_val_label_loss\": 1.7730542421340942, \"total_epochs_trained\": 11, \"total_experiment_time_secs\": 1691.033326625824, \"confusion\": {\"C_4\": {\"38\": {\"38\": 40}, \"3\": {\"3\": 124}, \"24\": {\"24\": 56}, \"49\": {\"49\": 20}, \"7\": {\"7\": 24}, \"17\": {\"17\": 80}, \"43\": {\"43\": 148}, \"30\": {\"30\": 44}, \"44\": {\"44\": 131, \"19\": 1}, \"23\": {\"23\": 144}, \"37\": {\"37\": 24}, \"4\": {\"4\": 132}, \"57\": {\"57\": 100}, \"16\": {\"16\": 96}, \"18\": {\"18\": 107, \"15\": 1}, \"20\": {\"20\": 124}, \"45\": {\"45\": 96}, \"15\": {\"15\": 132}, \"52\": {\"52\": 116}, \"19\": {\"19\": 140}, \"54\": {\"54\": 108}, \"56\": {\"56\": 130}, \"40\": {\"40\": 134}, \"28\": {\"28\": 32}, \"2\": {\"2\": 36}, \"9\": {\"9\": 120}, \"0\": {\"0\": 80}, \"36\": {\"36\": 92}, \"55\": {\"55\": 130}, \"35\": {\"35\": 40}, \"39\": {\"39\": 20}, \"31\": {\"31\": 28}, \"14\": {\"14\": 16}, \"12\": {\"12\": 92}, \"6\": {\"6\": 112}, \"26\": {\"26\": 24}, \"50\": {\"50\": 131, \"3\": 1}, \"21\": {\"21\": 122}, \"46\": {\"46\": 138, \"32\": 1, \"15\": 1}, \"51\": {\"51\": 140}, \"41\": {\"41\": 36}, \"34\": {\"34\": 24}, \"47\": {\"47\": 120}, \"5\": {\"5\": 108}, \"1\": {\"1\": 40}, \"48\": {\"48\": 134}, \"29\": {\"29\": 117, \"1\": 1}, \"22\": {\"22\": 128}, \"10\": {\"10\": 132}, \"32\": {\"32\": 24}, \"13\": {\"13\": 112}, \"42\": {\"42\": 32}, \"27\": {\"27\": 138}, \"8\": {\"8\": 142}, \"33\": {\"33\": 36}, \"25\": {\"25\": 132}, \"11\": {\"11\": 104}, \"53\": {\"53\": 112}}, \"C_2\": {\"32\": {\"32\": 28}, \"17\": {\"17\": 104}, \"38\": {\"38\": 20}, \"2\": {\"2\": 32}, \"43\": {\"43\": 144}, \"56\": {\"56\": 144}, \"37\": {\"37\": 36}, \"49\": {\"49\": 24}, \"0\": {\"0\": 48}, \"29\": {\"29\": 128}, \"35\": {\"35\": 32}, \"18\": {\"18\": 48}, \"25\": {\"25\": 136}, \"23\": {\"23\": 124}, \"15\": {\"15\": 146}, \"21\": {\"21\": 120}, \"51\": {\"51\": 128}, \"20\": {\"20\": 138}, \"7\": {\"7\": 36}, \"50\": {\"50\": 136}, \"31\": {\"31\": 28}, \"30\": {\"30\": 140}, \"19\": {\"19\": 156}, \"9\": {\"9\": 144}, \"52\": {\"52\": 124}, \"45\": {\"45\": 127, \"17\": 1}, \"8\": {\"8\": 154}, \"55\": {\"55\": 160}, \"12\": {\"12\": 92}, \"40\": {\"40\": 140}, \"28\": {\"28\": 28}, \"36\": {\"36\": 116}, \"39\": {\"39\": 28}, \"46\": {\"46\": 122}, \"14\": {\"14\": 24}, \"57\": {\"57\": 142}, \"34\": {\"34\": 28}, \"1\": {\"1\": 112}, \"53\": {\"53\": 136}, \"48\": {\"48\": 130}, \"3\": {\"3\": 92}, \"16\": {\"16\": 152}, \"6\": {\"6\": 124}, \"10\": {\"10\": 112}, \"13\": {\"13\": 116}, \"26\": {\"26\": 24}, \"24\": {\"24\": 96}, \"44\": {\"44\": 100}, \"27\": {\"27\": 150}, \"22\": {\"22\": 128}, \"33\": {\"33\": 28}, \"47\": {\"47\": 118}, \"5\": {\"5\": 120}, \"4\": {\"4\": 138}, \"41\": {\"41\": 20}, \"11\": {\"11\": 150}, \"54\": {\"54\": 108}, \"42\": {\"42\": 36}}, \"C_3\": {\"5\": {\"5\": 116}, \"32\": {\"32\": 28}, \"33\": {\"33\": 28}, \"49\": {\"49\": 20}, \"39\": {\"39\": 16}, \"11\": {\"11\": 142}, \"8\": {\"8\": 116}, \"26\": {\"26\": 24}, \"51\": {\"51\": 122}, \"4\": {\"4\": 146}, \"52\": {\"52\": 118}, \"47\": {\"47\": 92}, \"17\": {\"17\": 107, \"24\": 1}, \"53\": {\"53\": 136}, \"2\": {\"2\": 32}, \"12\": {\"12\": 92}, \"37\": {\"37\": 28}, \"9\": {\"9\": 148}, \"13\": {\"13\": 128}, \"54\": {\"54\": 100}, \"31\": {\"31\": 28}, \"34\": {\"34\": 32}, \"24\": {\"24\": 104}, \"7\": {\"7\": 36}, \"50\": {\"50\": 117, \"16\": 1}, \"46\": {\"46\": 128}, \"44\": {\"44\": 88}, \"40\": {\"40\": 116}, \"21\": {\"21\": 128}, \"45\": {\"45\": 60}, \"16\": {\"16\": 126}, \"14\": {\"14\": 39, \"57\": 1}, \"36\": {\"36\": 100}, \"56\": {\"56\": 114}, \"10\": {\"10\": 64}, \"18\": {\"18\": 84}, \"48\": {\"48\": 116}, \"38\": {\"38\": 28}, \"27\": {\"27\": 130}, \"42\": {\"42\": 28}, \"15\": {\"15\": 134}, \"1\": {\"1\": 100}, \"28\": {\"28\": 28}, \"43\": {\"43\": 136}, \"0\": {\"0\": 124}, \"57\": {\"57\": 124}, \"3\": {\"3\": 148}, \"29\": {\"29\": 124}, \"41\": {\"41\": 28}, \"25\": {\"25\": 146}, \"6\": {\"6\": 86, \"50\": 1, \"17\": 1}, \"35\": {\"35\": 28}, \"20\": {\"20\": 126}, \"23\": {\"23\": 134}, \"22\": {\"22\": 140}, \"19\": {\"19\": 116}, \"55\": {\"55\": 124}, \"30\": {\"30\": 120}}, \"C_1\": {\"24\": {\"24\": 108}, \"25\": {\"25\": 140}, \"45\": {\"45\": 144}, \"42\": {\"42\": 40}, \"2\": {\"2\": 36}, \"9\": {\"9\": 150}, \"21\": {\"21\": 124}, \"26\": {\"26\": 24}, \"49\": {\"49\": 32}, \"39\": {\"39\": 28}, \"46\": {\"46\": 136}, \"17\": {\"17\": 64}, \"19\": {\"19\": 156}, \"23\": {\"23\": 132}, \"1\": {\"1\": 99, \"57\": 1}, \"29\": {\"29\": 140}, \"56\": {\"56\": 150}, \"37\": {\"37\": 32}, \"33\": {\"33\": 32}, \"55\": {\"55\": 142}, \"30\": {\"30\": 120}, \"0\": {\"0\": 152}, \"36\": {\"36\": 64}, \"32\": {\"32\": 32}, \"31\": {\"31\": 28}, \"15\": {\"15\": 138}, \"12\": {\"12\": 116}, \"38\": {\"38\": 24}, \"40\": {\"40\": 146}, \"14\": {\"14\": 24}, \"13\": {\"13\": 150}, \"48\": {\"48\": 148}, \"34\": {\"34\": 24}, \"44\": {\"44\": 130}, \"5\": {\"5\": 152}, \"11\": {\"11\": 140}, \"7\": {\"7\": 28}, \"18\": {\"18\": 72}, \"52\": {\"52\": 132}, \"51\": {\"51\": 142}, \"41\": {\"41\": 24}, \"16\": {\"16\": 140}, \"22\": {\"22\": 134}, \"3\": {\"3\": 139, \"36\": 1}, \"54\": {\"54\": 104}, \"27\": {\"27\": 144}, \"20\": {\"20\": 140}, \"8\": {\"8\": 138}, \"50\": {\"50\": 144}, \"57\": {\"57\": 140}, \"4\": {\"4\": 132}, \"47\": {\"47\": 146}, \"10\": {\"10\": 96}, \"35\": {\"35\": 36}, \"53\": {\"53\": 126}, \"6\": {\"6\": 95, \"8\": 1}, \"43\": {\"43\": 140}, \"28\": {\"28\": 28}}, \"C_5\": {\"35\": {\"35\": 36}, \"57\": {\"57\": 132}, \"20\": {\"20\": 144}, \"12\": {\"12\": 96}, \"32\": {\"32\": 32}, \"25\": {\"25\": 138}, \"44\": {\"44\": 148}, \"31\": {\"31\": 36}, \"11\": {\"11\": 150}, \"47\": {\"47\": 100}, \"23\": {\"23\": 124}, \"43\": {\"43\": 144}, \"37\": {\"37\": 24}, \"5\": {\"5\": 128}, \"45\": {\"45\": 122, \"17\": 2}, \"7\": {\"7\": 32}, \"13\": {\"13\": 136}, \"49\": {\"49\": 36}, \"46\": {\"46\": 148}, \"16\": {\"16\": 136}, \"54\": {\"54\": 112}, \"19\": {\"19\": 152}, \"55\": {\"55\": 150}, \"30\": {\"30\": 128}, \"34\": {\"34\": 36}, \"50\": {\"50\": 133, \"18\": 1}, \"3\": {\"3\": 100}, \"10\": {\"10\": 68}, \"27\": {\"27\": 142}, \"33\": {\"33\": 32}, \"56\": {\"56\": 142}, \"9\": {\"9\": 150}, \"14\": {\"14\": 44}, \"4\": {\"4\": 100}, \"42\": {\"42\": 40}, \"24\": {\"24\": 80}, \"39\": {\"39\": 20}, \"52\": {\"52\": 130}, \"2\": {\"2\": 28}, \"28\": {\"28\": 32}, \"53\": {\"53\": 122}, \"17\": {\"17\": 116}, \"29\": {\"29\": 132}, \"38\": {\"38\": 32}, \"15\": {\"15\": 144}, \"26\": {\"26\": 24}, \"21\": {\"21\": 144}, \"41\": {\"41\": 28}, \"48\": {\"48\": 136}, \"22\": {\"22\": 28}, \"8\": {\"8\": 148}, \"18\": {\"18\": 64}, \"0\": {\"0\": 122}, \"1\": {\"1\": 138}, \"40\": {\"40\": 124}, \"6\": {\"6\": 127, \"17\": 1}, \"51\": {\"51\": 142}, \"36\": {\"36\": 92}}, \"O_50\": {\"7\": {\"13\": 58, \"5\": 50, \"7\": 83, \"10\": 20, \"4\": 8, \"0\": 2, \"15\": 2, \"6\": 11, \"3\": 3, \"1\": 2, \"8\": 1}, \"10\": {\"6\": 3, \"7\": 22, \"0\": 22, \"10\": 96, \"8\": 48, \"2\": 2, \"5\": 12, \"3\": 5, \"13\": 25, \"1\": 1, \"4\": 4}, \"0\": {\"0\": 110, \"2\": 69, \"1\": 6, \"10\": 26, \"6\": 6, \"13\": 7, \"4\": 2, \"8\": 8, \"5\": 2, \"7\": 4}, \"11\": {\"9\": 44, \"11\": 111, \"14\": 39, \"15\": 21, \"12\": 10, \"4\": 7, \"1\": 6, \"2\": 1, \"6\": 1}, \"2\": {\"2\": 145, \"0\": 70, \"6\": 3, \"14\": 12, \"13\": 3, \"1\": 4, \"11\": 1, \"5\": 1, \"10\": 1}, \"14\": {\"14\": 163, \"9\": 20, \"1\": 3, \"12\": 29, \"15\": 1, \"11\": 20, \"2\": 4}, \"9\": {\"9\": 107, \"11\": 52, \"12\": 55, \"14\": 24, \"1\": 2}, \"13\": {\"7\": 63, \"13\": 44, \"5\": 47, \"6\": 27, \"10\": 22, \"15\": 3, \"4\": 17, \"8\": 5, \"0\": 5, \"2\": 1, \"1\": 6}, \"8\": {\"8\": 150, \"10\": 54, \"3\": 25, \"7\": 2, \"2\": 1, \"0\": 7, \"13\": 1}, \"15\": {\"15\": 99, \"5\": 3, \"1\": 47, \"6\": 29, \"11\": 22, \"4\": 28, \"9\": 4, \"14\": 3, \"2\": 2, \"7\": 1, \"13\": 1, \"10\": 1}, \"4\": {\"5\": 21, \"1\": 39, \"4\": 54, \"15\": 47, \"11\": 10, \"6\": 24, \"0\": 7, \"2\": 3, \"3\": 2, \"7\": 11, \"13\": 18, \"14\": 3, \"9\": 1}, \"5\": {\"5\": 60, \"13\": 46, \"4\": 24, \"7\": 47, \"6\": 22, \"10\": 21, \"1\": 12, \"15\": 2, \"0\": 4, \"2\": 1, \"8\": 1}, \"3\": {\"3\": 191, \"10\": 4, \"8\": 40, \"7\": 4, \"13\": 1}, \"1\": {\"15\": 38, \"1\": 88, \"6\": 27, \"5\": 11, \"2\": 5, \"4\": 39, \"13\": 2, \"11\": 17, \"0\": 11, \"7\": 1, \"10\": 1}, \"6\": {\"6\": 80, \"5\": 24, \"7\": 15, \"15\": 23, \"4\": 27, \"1\": 26, \"0\": 8, \"13\": 23, \"2\": 4, \"10\": 6, \"14\": 2, \"11\": 2}, \"12\": {\"12\": 138, \"14\": 49, \"9\": 44, \"11\": 9}}, \"O_14\": {\"14\": {\"6\": 43, \"2\": 34, \"13\": 27, \"14\": 78, \"0\": 12, \"3\": 17, \"10\": 13, \"4\": 12, \"11\": 2, \"1\": 1, \"5\": 1}, \"6\": {\"13\": 63, \"6\": 82, \"2\": 23, \"14\": 43, \"10\": 6, \"4\": 14, \"5\": 5, \"3\": 4}, \"5\": {\"1\": 36, \"3\": 23, \"7\": 13, \"6\": 6, \"15\": 11, \"4\": 47, \"5\": 61, \"2\": 33, \"13\": 3, \"8\": 1, \"14\": 5, \"0\": 1}, \"15\": {\"15\": 131, \"7\": 77, \"1\": 6, \"2\": 8, \"5\": 16, \"13\": 1, \"4\": 1}, \"11\": {\"0\": 39, \"11\": 152, \"10\": 19, \"9\": 19, \"12\": 11}, \"8\": {\"8\": 189, \"1\": 25, \"3\": 12, \"0\": 2, \"4\": 7, \"5\": 2, \"9\": 3}, \"12\": {\"12\": 187, \"9\": 49, \"11\": 4}, \"1\": {\"4\": 27, \"7\": 21, \"5\": 54, \"1\": 110, \"3\": 12, \"8\": 8, \"15\": 4, \"2\": 4}, \"2\": {\"14\": 51, \"5\": 31, \"1\": 3, \"2\": 42, \"4\": 24, \"3\": 21, \"6\": 30, \"13\": 21, \"15\": 8, \"8\": 3, \"7\": 4, \"11\": 1, \"10\": 1}, \"13\": {\"6\": 80, \"2\": 22, \"14\": 36, \"4\": 3, \"13\": 78, \"15\": 2, \"1\": 1, \"5\": 4, \"3\": 4, \"10\": 8, \"0\": 2}, \"3\": {\"14\": 23, \"4\": 44, \"13\": 7, \"0\": 23, \"3\": 63, \"2\": 24, \"5\": 25, \"10\": 12, \"1\": 8, \"6\": 7, \"8\": 3, \"11\": 1}, \"0\": {\"0\": 101, \"3\": 25, \"10\": 46, \"11\": 35, \"9\": 14, \"14\": 8, \"6\": 2, \"13\": 2, \"8\": 2, \"4\": 5}, \"9\": {\"12\": 38, \"11\": 13, \"10\": 4, \"9\": 168, \"0\": 14, \"8\": 3}, \"4\": {\"1\": 9, \"3\": 50, \"4\": 66, \"14\": 9, \"2\": 39, \"5\": 38, \"13\": 5, \"7\": 2, \"6\": 10, \"10\": 3, \"0\": 5, \"8\": 2, \"15\": 2}, \"7\": {\"7\": 140, \"15\": 59, \"1\": 25, \"5\": 15, \"2\": 1}, \"10\": {\"10\": 140, \"13\": 1, \"0\": 52, \"2\": 2, \"14\": 11, \"6\": 4, \"11\": 18, \"3\": 7, \"9\": 4, \"4\": 1}}, \"O_32\": {\"4\": {\"2\": 59, \"8\": 11, \"0\": 33, \"7\": 23, \"14\": 10, \"13\": 22, \"5\": 21, \"4\": 55, \"11\": 6}, \"14\": {\"11\": 68, \"0\": 16, \"14\": 45, \"2\": 10, \"4\": 9, \"5\": 13, \"7\": 37, \"13\": 24, \"8\": 12, \"3\": 6}, \"5\": {\"3\": 33, \"5\": 43, \"13\": 43, \"2\": 8, \"0\": 12, \"4\": 34, \"7\": 30, \"8\": 23, \"11\": 4, \"14\": 10}, \"10\": {\"10\": 182, \"6\": 3, \"1\": 53, \"12\": 2}, \"13\": {\"5\": 37, \"7\": 25, \"14\": 17, \"4\": 27, \"0\": 22, \"13\": 38, \"3\": 22, \"8\": 28, \"11\": 18, \"2\": 5, \"15\": 1}, \"9\": {\"2\": 3, \"9\": 213, \"12\": 18, \"8\": 1, \"0\": 4, \"6\": 1}, \"6\": {\"6\": 230, \"12\": 9, \"10\": 1}, \"3\": {\"11\": 16, \"3\": 123, \"13\": 41, \"14\": 10, \"8\": 14, \"4\": 2, \"5\": 27, \"7\": 5, \"0\": 2}, \"15\": {\"15\": 221, \"3\": 6, \"8\": 7, \"14\": 1, \"4\": 1, \"13\": 2, \"0\": 1, \"5\": 1}, \"7\": {\"0\": 10, \"14\": 49, \"13\": 24, \"7\": 41, \"5\": 26, \"4\": 30, \"3\": 8, \"2\": 21, \"11\": 25, \"8\": 6}, \"12\": {\"12\": 207, \"6\": 17, \"9\": 16}, \"8\": {\"7\": 6, \"8\": 85, \"0\": 29, \"15\": 11, \"13\": 33, \"14\": 8, \"11\": 3, \"5\": 31, \"2\": 7, \"4\": 17, \"3\": 10}, \"11\": {\"11\": 119, \"7\": 26, \"13\": 7, \"14\": 58, \"4\": 3, \"3\": 11, \"0\": 4, \"5\": 8, \"8\": 3, \"2\": 1}, \"2\": {\"5\": 13, \"0\": 35, \"2\": 100, \"4\": 54, \"14\": 11, \"8\": 5, \"7\": 18, \"13\": 4}, \"1\": {\"1\": 193, \"10\": 47}, \"0\": {\"8\": 42, \"0\": 85, \"7\": 16, \"2\": 30, \"4\": 21, \"5\": 9, \"13\": 14, \"14\": 20, \"11\": 2, \"9\": 1}}, \"O_44\": {\"8\": {\"15\": 29, \"8\": 99, \"0\": 90, \"5\": 17, \"14\": 3, \"4\": 2}, \"11\": {\"13\": 38, \"11\": 159, \"6\": 31, \"9\": 8, \"2\": 2, \"7\": 2}, \"14\": {\"5\": 30, \"4\": 74, \"15\": 42, \"14\": 78, \"0\": 9, \"8\": 4, \"9\": 1, \"13\": 2}, \"10\": {\"12\": 48, \"1\": 40, \"10\": 105, \"2\": 33, \"3\": 7, \"7\": 6, \"9\": 1}, \"3\": {\"3\": 130, \"1\": 58, \"12\": 33, \"2\": 6, \"7\": 6, \"10\": 6, \"9\": 1}, \"15\": {\"14\": 40, \"15\": 105, \"4\": 10, \"0\": 37, \"8\": 31, \"5\": 17}, \"2\": {\"1\": 18, \"2\": 99, \"9\": 17, \"7\": 56, \"10\": 43, \"3\": 3, \"6\": 2, \"12\": 2}, \"12\": {\"12\": 112, \"3\": 34, \"1\": 51, \"10\": 39, \"2\": 4}, \"4\": {\"5\": 19, \"4\": 111, \"15\": 26, \"14\": 68, \"13\": 3, \"9\": 5, \"8\": 1, \"11\": 1, \"0\": 5, \"6\": 1}, \"1\": {\"1\": 66, \"12\": 60, \"3\": 36, \"10\": 40, \"2\": 29, \"7\": 8, \"9\": 1}, \"0\": {\"0\": 80, \"15\": 36, \"14\": 9, \"8\": 74, \"5\": 35, \"4\": 6}, \"9\": {\"13\": 34, \"9\": 79, \"7\": 55, \"6\": 30, \"4\": 6, \"2\": 27, \"11\": 2, \"3\": 3, \"1\": 1, \"14\": 2, \"10\": 1}, \"5\": {\"5\": 127, \"0\": 35, \"8\": 27, \"14\": 25, \"15\": 15, \"4\": 11}, \"6\": {\"13\": 46, \"6\": 121, \"7\": 22, \"9\": 35, \"11\": 9, \"2\": 7}, \"7\": {\"9\": 58, \"13\": 11, \"7\": 74, \"2\": 62, \"10\": 3, \"6\": 11, \"12\": 1, \"11\": 1, \"3\": 7, \"1\": 12}, \"13\": {\"13\": 94, \"4\": 8, \"7\": 17, \"11\": 29, \"6\": 55, \"9\": 33, \"2\": 1, \"15\": 1, \"14\": 2}}, \"O_8\": {\"13\": {\"0\": 51, \"4\": 30, \"13\": 41, \"5\": 9, \"10\": 24, \"8\": 5, \"6\": 28, \"14\": 21, \"3\": 1, \"15\": 3, \"1\": 3, \"7\": 21, \"9\": 2, \"11\": 1}, \"3\": {\"7\": 9, \"2\": 64, \"15\": 29, \"3\": 105, \"12\": 29, \"6\": 3, \"13\": 1}, \"15\": {\"3\": 24, \"8\": 44, \"15\": 72, \"12\": 52, \"2\": 7, \"4\": 10, \"6\": 13, \"7\": 10, \"0\": 4, \"13\": 3, \"14\": 1}, \"4\": {\"14\": 28, \"7\": 21, \"6\": 40, \"0\": 19, \"1\": 10, \"4\": 34, \"10\": 24, \"15\": 5, \"13\": 37, \"8\": 4, \"5\": 11, \"2\": 2, \"11\": 3, \"3\": 1, \"12\": 1}, \"7\": {\"4\": 28, \"0\": 36, \"6\": 32, \"7\": 52, \"8\": 9, \"12\": 6, \"15\": 12, \"2\": 16, \"14\": 9, \"3\": 6, \"13\": 23, \"10\": 8, \"1\": 1, \"5\": 2}, \"2\": {\"2\": 84, \"0\": 12, \"3\": 78, \"15\": 12, \"6\": 7, \"4\": 4, \"7\": 14, \"13\": 2, \"12\": 23, \"14\": 1, \"8\": 3}, \"1\": {\"1\": 70, \"10\": 16, \"14\": 29, \"11\": 47, \"5\": 39, \"8\": 19, \"6\": 4, \"13\": 4, \"4\": 9, \"7\": 3}, \"0\": {\"4\": 31, \"13\": 41, \"7\": 32, \"9\": 2, \"6\": 38, \"10\": 20, \"8\": 3, \"0\": 46, \"2\": 7, \"5\": 1, \"15\": 4, \"14\": 10, \"3\": 4, \"1\": 1}, \"12\": {\"15\": 61, \"8\": 20, \"2\": 21, \"12\": 76, \"3\": 45, \"4\": 2, \"7\": 4, \"14\": 1, \"0\": 3, \"13\": 4, \"6\": 3}, \"6\": {\"7\": 43, \"13\": 25, \"6\": 36, \"0\": 31, \"15\": 10, \"1\": 2, \"4\": 36, \"14\": 17, \"3\": 4, \"5\": 2, \"2\": 5, \"8\": 9, \"10\": 18, \"12\": 2}, \"11\": {\"11\": 131, \"1\": 58, \"8\": 15, \"5\": 16, \"14\": 11, \"10\": 4, \"4\": 3, \"6\": 1, \"13\": 1}, \"9\": {\"9\": 234, \"10\": 2, \"13\": 1, \"5\": 2, \"0\": 1}, \"5\": {\"1\": 55, \"10\": 33, \"11\": 26, \"14\": 26, \"5\": 74, \"9\": 3, \"8\": 3, \"4\": 8, \"0\": 4, \"15\": 1, \"13\": 6, \"6\": 1}, \"10\": {\"14\": 33, \"10\": 57, \"5\": 28, \"4\": 24, \"13\": 29, \"7\": 7, \"6\": 17, \"0\": 19, \"1\": 14, \"15\": 1, \"8\": 3, \"11\": 6, \"12\": 1, \"9\": 1}, \"14\": {\"14\": 52, \"13\": 23, \"6\": 13, \"10\": 30, \"7\": 10, \"4\": 27, \"5\": 29, \"1\": 22, \"0\": 13, \"11\": 12, \"8\": 7, \"15\": 2}, \"8\": {\"14\": 6, \"7\": 13, \"8\": 85, \"15\": 32, \"11\": 20, \"4\": 19, \"12\": 23, \"13\": 2, \"3\": 3, \"1\": 13, \"6\": 14, \"5\": 3, \"0\": 4, \"10\": 3}}, \"O_20\": {\"6\": {\"6\": 86, \"14\": 41, \"7\": 25, \"8\": 17, \"2\": 9, \"11\": 12, \"3\": 10, \"10\": 22, \"5\": 1, \"4\": 2, \"9\": 5, \"12\": 5, \"13\": 2, \"1\": 1, \"0\": 2}, \"11\": {\"6\": 19, \"11\": 159, \"7\": 21, \"13\": 22, \"2\": 11, \"10\": 1, \"9\": 5, \"12\": 1, \"8\": 1}, \"5\": {\"0\": 50, \"1\": 34, \"9\": 13, \"3\": 14, \"5\": 27, \"15\": 29, \"4\": 11, \"2\": 8, \"12\": 24, \"6\": 3, \"13\": 4, \"14\": 2, \"8\": 10, \"7\": 9, \"10\": 2}, \"14\": {\"14\": 78, \"10\": 35, \"12\": 3, \"8\": 30, \"4\": 19, \"6\": 43, \"7\": 10, \"9\": 6, \"1\": 2, \"2\": 5, \"3\": 6, \"15\": 1, \"5\": 1, \"0\": 1}, \"2\": {\"9\": 22, \"7\": 32, \"8\": 9, \"3\": 24, \"2\": 31, \"15\": 21, \"1\": 16, \"13\": 24, \"0\": 8, \"12\": 17, \"4\": 6, \"5\": 12, \"10\": 3, \"11\": 5, \"6\": 5, \"14\": 5}, \"7\": {\"2\": 36, \"12\": 22, \"6\": 34, \"3\": 17, \"13\": 12, \"7\": 38, \"5\": 8, \"1\": 8, \"15\": 6, \"14\": 5, \"4\": 10, \"0\": 3, \"10\": 8, \"8\": 10, \"9\": 16, \"11\": 7}, \"3\": {\"3\": 30, \"4\": 16, \"2\": 26, \"8\": 4, \"1\": 23, \"12\": 18, \"9\": 23, \"0\": 11, \"13\": 9, \"7\": 24, \"10\": 22, \"5\": 15, \"15\": 15, \"11\": 1, \"14\": 1, \"6\": 2}, \"4\": {\"10\": 34, \"5\": 22, \"2\": 7, \"8\": 33, \"1\": 10, \"3\": 11, \"4\": 48, \"0\": 17, \"14\": 19, \"9\": 15, \"6\": 3, \"7\": 6, \"12\": 12, \"15\": 3}, \"9\": {\"9\": 36, \"2\": 24, \"12\": 36, \"7\": 22, \"1\": 21, \"15\": 14, \"4\": 6, \"5\": 16, \"3\": 25, \"0\": 6, \"13\": 13, \"8\": 2, \"6\": 4, \"10\": 12, \"11\": 2, \"14\": 1}, \"12\": {\"15\": 22, \"9\": 29, \"0\": 17, \"5\": 18, \"12\": 37, \"2\": 22, \"1\": 36, \"4\": 9, \"3\": 24, \"10\": 9, \"13\": 5, \"8\": 4, \"7\": 7, \"14\": 1}, \"0\": {\"1\": 28, \"0\": 64, \"5\": 36, \"3\": 17, \"15\": 30, \"7\": 7, \"14\": 4, \"8\": 17, \"12\": 9, \"13\": 6, \"4\": 9, \"2\": 6, \"6\": 4, \"9\": 3}, \"10\": {\"10\": 73, \"6\": 19, \"14\": 47, \"3\": 10, \"4\": 31, \"8\": 20, \"9\": 12, \"2\": 4, \"5\": 3, \"7\": 10, \"12\": 5, \"1\": 3, \"11\": 1, \"15\": 1, \"13\": 1}, \"8\": {\"5\": 11, \"8\": 56, \"10\": 17, \"3\": 5, \"4\": 39, \"12\": 13, \"6\": 17, \"2\": 6, \"14\": 25, \"0\": 28, \"7\": 12, \"9\": 3, \"1\": 4, \"13\": 1, \"15\": 3}, \"13\": {\"11\": 15, \"3\": 16, \"13\": 83, \"4\": 3, \"9\": 19, \"0\": 8, \"2\": 25, \"15\": 22, \"10\": 1, \"5\": 10, \"12\": 7, \"7\": 14, \"1\": 15, \"8\": 1, \"6\": 1}, \"1\": {\"15\": 29, \"3\": 24, \"9\": 22, \"1\": 43, \"13\": 12, \"12\": 30, \"7\": 8, \"2\": 17, \"0\": 21, \"5\": 22, \"8\": 3, \"11\": 1, \"4\": 4, \"10\": 4}, \"15\": {\"0\": 26, \"1\": 29, \"9\": 17, \"4\": 6, \"13\": 19, \"8\": 3, \"7\": 7, \"5\": 32, \"15\": 48, \"2\": 16, \"3\": 16, \"12\": 20, \"6\": 1}}, \"O_38\": {\"3\": {\"9\": 32, \"3\": 155, \"6\": 22, \"5\": 7, \"0\": 13, \"7\": 11}, \"8\": {\"6\": 6, \"0\": 32, \"7\": 18, \"8\": 77, \"5\": 45, \"13\": 13, \"15\": 31, \"10\": 11, \"1\": 4, \"9\": 3}, \"0\": {\"0\": 64, \"12\": 2, \"7\": 51, \"8\": 42, \"4\": 2, \"10\": 11, \"6\": 3, \"5\": 31, \"3\": 11, \"15\": 9, \"1\": 3, \"9\": 6, \"14\": 2, \"13\": 3}, \"2\": {\"11\": 19, \"10\": 16, \"2\": 127, \"12\": 2, \"13\": 24, \"14\": 36, \"15\": 13, \"1\": 2, \"8\": 1}, \"4\": {\"12\": 40, \"4\": 195, \"0\": 2, \"11\": 3}, \"7\": {\"7\": 111, \"13\": 4, \"8\": 31, \"6\": 6, \"0\": 51, \"3\": 8, \"5\": 20, \"9\": 3, \"10\": 4, \"15\": 2}, \"12\": {\"12\": 180, \"4\": 39, \"11\": 7, \"10\": 5, \"14\": 6, \"0\": 2, \"13\": 1}, \"6\": {\"6\": 122, \"1\": 7, \"9\": 89, \"3\": 5, \"7\": 4, \"5\": 8, \"15\": 1, \"8\": 3, \"0\": 1}, \"15\": {\"10\": 16, \"15\": 84, \"13\": 48, \"1\": 46, \"5\": 15, \"7\": 1, \"2\": 7, \"8\": 20, \"6\": 1, \"0\": 2}, \"11\": {\"11\": 106, \"14\": 82, \"10\": 18, \"12\": 14, \"2\": 16, \"15\": 3, \"4\": 1}, \"9\": {\"5\": 9, \"6\": 95, \"9\": 103, \"3\": 24, \"8\": 2, \"1\": 2, \"7\": 4, \"13\": 1}, \"14\": {\"11\": 76, \"14\": 116, \"2\": 25, \"10\": 14, \"12\": 5, \"15\": 1, \"13\": 3}, \"10\": {\"4\": 9, \"15\": 21, \"7\": 11, \"14\": 18, \"0\": 10, \"2\": 24, \"8\": 18, \"10\": 81, \"11\": 8, \"13\": 19, \"12\": 14, \"6\": 1, \"5\": 6}, \"5\": {\"0\": 28, \"7\": 30, \"8\": 46, \"15\": 18, \"6\": 23, \"5\": 48, \"1\": 20, \"13\": 11, \"10\": 4, \"9\": 6, \"3\": 6}, \"1\": {\"1\": 150, \"6\": 11, \"15\": 44, \"8\": 5, \"13\": 15, \"9\": 4, \"5\": 7, \"0\": 3, \"10\": 1}, \"13\": {\"10\": 31, \"13\": 75, \"1\": 21, \"15\": 56, \"8\": 18, \"5\": 4, \"2\": 24, \"0\": 5, \"11\": 2, \"14\": 3, \"12\": 1}}, \"O_26\": {\"5\": {\"2\": 25, \"1\": 5, \"3\": 12, \"13\": 46, \"5\": 40, \"6\": 9, \"9\": 25, \"15\": 38, \"10\": 5, \"14\": 5, \"8\": 13, \"7\": 11, \"4\": 2, \"0\": 4}, \"8\": {\"4\": 16, \"10\": 20, \"8\": 38, \"9\": 17, \"6\": 33, \"7\": 15, \"14\": 13, \"2\": 11, \"15\": 20, \"13\": 8, \"1\": 13, \"0\": 18, \"5\": 8, \"3\": 10}, \"4\": {\"14\": 38, \"10\": 29, \"4\": 33, \"0\": 26, \"1\": 32, \"7\": 20, \"5\": 5, \"9\": 9, \"8\": 14, \"3\": 12, \"6\": 11, \"2\": 8, \"15\": 3}, \"12\": {\"12\": 216, \"10\": 1, \"14\": 1, \"11\": 14, \"0\": 2, \"6\": 5, \"9\": 1}, \"6\": {\"12\": 7, \"6\": 73, \"8\": 21, \"14\": 7, \"10\": 29, \"15\": 18, \"0\": 20, \"9\": 24, \"4\": 8, \"13\": 14, \"5\": 8, \"1\": 5, \"3\": 1, \"7\": 4, \"2\": 1}, \"7\": {\"2\": 22, \"3\": 50, \"7\": 28, \"14\": 17, \"8\": 15, \"0\": 15, \"4\": 17, \"10\": 11, \"9\": 21, \"15\": 11, \"6\": 6, \"1\": 13, \"13\": 4, \"5\": 10}, \"10\": {\"0\": 26, \"9\": 21, \"14\": 20, \"8\": 21, \"7\": 10, \"4\": 23, \"6\": 35, \"10\": 30, \"1\": 23, \"5\": 9, \"15\": 7, \"3\": 5, \"13\": 4, \"2\": 4, \"12\": 2}, \"0\": {\"10\": 34, \"0\": 37, \"1\": 16, \"6\": 25, \"7\": 19, \"9\": 17, \"8\": 24, \"4\": 27, \"14\": 27, \"15\": 2, \"5\": 7, \"2\": 3, \"3\": 1, \"13\": 1}, \"15\": {\"3\": 12, \"15\": 37, \"2\": 18, \"9\": 29, \"10\": 8, \"5\": 32, \"6\": 21, \"13\": 36, \"7\": 13, \"14\": 4, \"4\": 3, \"8\": 18, \"0\": 8, \"11\": 1}, \"9\": {\"9\": 37, \"5\": 15, \"8\": 23, \"10\": 23, \"7\": 11, \"0\": 22, \"13\": 15, \"6\": 36, \"15\": 21, \"3\": 6, \"2\": 8, \"12\": 3, \"1\": 4, \"4\": 9, \"14\": 7}, \"11\": {\"11\": 217, \"12\": 19, \"6\": 1, \"13\": 2, \"8\": 1}, \"14\": {\"3\": 7, \"8\": 11, \"14\": 42, \"10\": 31, \"15\": 3, \"7\": 13, \"4\": 33, \"1\": 32, \"6\": 21, \"0\": 28, \"5\": 8, \"2\": 4, \"13\": 1, \"9\": 5, \"12\": 1}, \"2\": {\"0\": 7, \"4\": 8, \"7\": 28, \"10\": 6, \"5\": 32, \"2\": 51, \"8\": 11, \"13\": 13, \"3\": 48, \"15\": 18, \"9\": 10, \"1\": 2, \"14\": 5, \"6\": 1}, \"13\": {\"15\": 35, \"0\": 4, \"13\": 64, \"9\": 16, \"5\": 45, \"3\": 14, \"8\": 12, \"6\": 15, \"2\": 19, \"4\": 5, \"7\": 5, \"10\": 3, \"11\": 3}, \"3\": {\"2\": 38, \"0\": 7, \"3\": 78, \"8\": 11, \"4\": 9, \"15\": 9, \"5\": 17, \"7\": 38, \"6\": 3, \"1\": 5, \"9\": 8, \"13\": 6, \"10\": 7, \"14\": 4}, \"1\": {\"14\": 40, \"1\": 80, \"4\": 31, \"10\": 21, \"7\": 10, \"9\": 10, \"8\": 13, \"0\": 21, \"2\": 3, \"3\": 5, \"6\": 5, \"12\": 1}}}, \"per_domain_accuracy\": {\"C_4\": {\"accuracy\": 0.9988636363636364, \"source?\": true}, \"C_2\": {\"accuracy\": 0.9998244382022472, \"source?\": true}, \"C_3\": {\"accuracy\": 0.9990699404761905, \"source?\": true}, \"C_1\": {\"accuracy\": 0.9994932432432433, \"source?\": true}, \"C_5\": {\"accuracy\": 0.9993016759776536, \"source?\": true}, \"O_50\": {\"accuracy\": 0.44765625, \"source?\": false}, \"O_14\": {\"accuracy\": 0.465625, \"source?\": false}, \"O_32\": {\"accuracy\": 0.515625, \"source?\": false}, \"O_44\": {\"accuracy\": 0.42682291666666666, \"source?\": false}, \"O_8\": {\"accuracy\": 0.32526041666666666, \"source?\": false}, \"O_20\": {\"accuracy\": 0.24401041666666667, \"source?\": false}, \"O_38\": {\"accuracy\": 0.4671875, \"source?\": false}, \"O_26\": {\"accuracy\": 0.28671875, \"source?\": false}}}, \"history\": {\"epoch_indices\": [1, 2, 3, 4, 5, 6, 7, 8, 9, 10, 11], \"train_label_loss\": [0.06012607070378398, 0.01857607009530319, 0.009319387942744221, 0.006499156323960348, 0.005444766068912343, 0.0036765871823117337, 0.0037338220949049874, 0.002266147924272359, 0.0021117944730796516, 0.002256342526801239, 0.0023254334765334993], \"source_val_label_loss\": [0.09927255660295486, 0.012090951204299927, 0.007188053801655769, 0.007337477523833513, 0.007951023988425732, 0.0043300483375787735, 0.004049257375299931, 0.006364831700921059, 0.008150597102940083, 0.0060983565635979176, 0.0062714735977351665], \"target_val_label_loss\": [1.9749958515167236, 1.8487707376480103, 1.940150260925293, 2.115771770477295, 1.8434439897537231, 2.074766159057617, 1.7730542421340942, 2.27978515625, 2.7031660079956055, 2.589470863342285, 2.6306402683258057], \"source_val_acc_label\": [0.9937142857142857, 0.9973928571428572, 0.9985, 0.9985357142857143, 0.9984642857142857, 0.9990357142857142, 0.9993214285714286, 0.999, 0.9988928571428571, 0.9991428571428571, 0.9993214285714286], \"target_val_acc_label\": [0.33277994791666665, 0.35647786458333336, 0.359765625, 0.33645833333333336, 0.38037109375, 0.35104166666666664, 0.39736328125, 0.35380859375, 0.33668619791666665, 0.3477864583333333, 0.34889322916666665]}, \"dataset_metrics\": {\"source\": {\"train\": {\"n_unique_x\": 175222, \"n_unique_y\": 58, \"n_batch/episode\": 6329}, \"val\": {\"n_unique_x\": 37166, \"n_unique_y\": 58, \"n_batch/episode\": 875}, \"test\": {\"n_unique_x\": 37642, \"n_unique_y\": 58, \"n_batch/episode\": 890}}, \"target\": {\"train\": {\"n_unique_x\": 179200, \"n_unique_y\": 16, \"n_batch/episode\": 6720}, \"val\": {\"n_unique_x\": 38400, \"n_unique_y\": 16, \"n_batch/episode\": 960}, \"test\": {\"n_unique_x\": 38400, \"n_unique_y\": 16, \"n_batch/episode\": 960}}}}'"
      ]
     },
     "execution_count": 29,
     "metadata": {},
     "output_type": "execute_result"
    }
   ],
   "source": [
    "json.dumps(experiment)"
   ]
  }
 ],
 "metadata": {
  "celltoolbar": "Tags",
  "kernelspec": {
   "display_name": "Python 3 (ipykernel)",
   "language": "python",
   "name": "python3"
  },
  "language_info": {
   "codemirror_mode": {
    "name": "ipython",
    "version": 3
   },
   "file_extension": ".py",
   "mimetype": "text/x-python",
   "name": "python",
   "nbconvert_exporter": "python",
   "pygments_lexer": "ipython3",
   "version": "3.8.12"
  },
  "papermill": {
   "default_parameters": {},
   "duration": 1863.52108,
   "end_time": "2022-03-28T09:15:29.462809",
   "environment_variables": {},
   "exception": null,
   "input_path": "/root/csc500-main/csc500-notebooks/templates/tl_ptn_template.ipynb",
   "output_path": "trial.ipynb",
   "parameters": {
    "parameters": {
     "BEST_MODEL_PATH": "./best_model.pth",
     "NUM_LOGS_PER_EPOCH": 10,
     "criteria_for_best": "target_accuracy",
     "dataset_seed": 500,
     "datasets": [
      {
       "domain_prefix": "C_",
       "domains": [
        1,
        2,
        3,
        4,
        5
       ],
       "episode_transforms": [],
       "labels": [
        "1-10.",
        "1-11.",
        "1-15.",
        "1-16.",
        "1-17.",
        "1-18.",
        "1-19.",
        "10-4.",
        "10-7.",
        "11-1.",
        "11-14.",
        "11-17.",
        "11-20.",
        "11-7.",
        "13-20.",
        "13-8.",
        "14-10.",
        "14-11.",
        "14-14.",
        "14-7.",
        "15-1.",
        "15-20.",
        "16-1.",
        "16-16.",
        "17-10.",
        "17-11.",
        "17-2.",
        "19-1.",
        "19-16.",
        "19-19.",
        "19-20.",
        "19-3.",
        "2-10.",
        "2-11.",
        "2-17.",
        "2-18.",
        "2-20.",
        "2-3.",
        "2-4.",
        "2-5.",
        "2-6.",
        "2-7.",
        "2-8.",
        "3-13.",
        "3-18.",
        "3-3.",
        "4-1.",
        "4-10.",
        "4-11.",
        "4-19.",
        "5-5.",
        "6-15.",
        "7-10.",
        "7-14.",
        "8-18.",
        "8-20.",
        "8-3.",
        "8-8."
       ],
       "num_examples_per_domain_per_label": -1,
       "pickle_path": "/root/csc500-main/datasets/cores.stratified_ds.2022A.pkl",
       "source_or_target_dataset": "source",
       "x_transforms": [
        "unit_power",
        "jitter_256_10",
        "lowpass_+/-10MHz",
        "take_200"
       ]
      },
      {
       "domain_prefix": "O_",
       "domains": [
        32,
        38,
        8,
        44,
        14,
        50,
        20,
        26
       ],
       "episode_transforms": [],
       "labels": [
        "3123D52",
        "3123D65",
        "3123D79",
        "3123D80",
        "3123D54",
        "3123D70",
        "3123D7B",
        "3123D89",
        "3123D58",
        "3123D76",
        "3123D7D",
        "3123EFE",
        "3123D64",
        "3123D78",
        "3123D7E",
        "3124E4A"
       ],
       "num_examples_per_domain_per_label": 2000,
       "pickle_path": "/root/csc500-main/datasets/oracle.Run1_framed_2000Examples_stratified_ds.2022A.pkl",
       "source_or_target_dataset": "target",
       "x_transforms": [
        "unit_power",
        "jitter_256_10",
        "take_200",
        "resample_20Msps_to_25Msps"
       ]
      }
     ],
     "device": "cuda",
     "experiment_name": "tl_3-jitter10v2:cores -> oracle.run1.framed",
     "lr": 0.0001,
     "n_epoch": 50,
     "n_query": 2,
     "n_shot": 3,
     "n_way": 16,
     "patience": 3,
     "seed": 500,
     "test_k_factor": 2,
     "torch_default_dtype": "torch.float32",
     "train_k_factor": 3,
     "val_k_factor": 2,
     "x_net": [
      {
       "class": "nnReshape",
       "kargs": {
        "shape": [
         -1,
         1,
         2,
         256
        ]
       }
      },
      {
       "class": "Conv2d",
       "kargs": {
        "bias": false,
        "in_channels": 1,
        "kernel_size": [
         1,
         7
        ],
        "out_channels": 256,
        "padding": [
         0,
         3
        ]
       }
      },
      {
       "class": "ReLU",
       "kargs": {
        "inplace": true
       }
      },
      {
       "class": "BatchNorm2d",
       "kargs": {
        "num_features": 256
       }
      },
      {
       "class": "Conv2d",
       "kargs": {
        "bias": true,
        "in_channels": 256,
        "kernel_size": [
         2,
         7
        ],
        "out_channels": 80,
        "padding": [
         0,
         3
        ]
       }
      },
      {
       "class": "ReLU",
       "kargs": {
        "inplace": true
       }
      },
      {
       "class": "BatchNorm2d",
       "kargs": {
        "num_features": 80
       }
      },
      {
       "class": "Flatten",
       "kargs": {}
      },
      {
       "class": "Linear",
       "kargs": {
        "in_features": 20480,
        "out_features": 256
       }
      },
      {
       "class": "ReLU",
       "kargs": {
        "inplace": true
       }
      },
      {
       "class": "BatchNorm1d",
       "kargs": {
        "num_features": 256
       }
      },
      {
       "class": "Linear",
       "kargs": {
        "in_features": 256,
        "out_features": 256
       }
      }
     ],
     "x_shape": [
      2,
      256
     ]
    }
   },
   "start_time": "2022-03-28T08:44:25.941729",
   "version": "2.3.4"
  }
 },
 "nbformat": 4,
 "nbformat_minor": 5
}