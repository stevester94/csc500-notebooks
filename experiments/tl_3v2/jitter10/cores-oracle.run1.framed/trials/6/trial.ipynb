{
 "cells": [
  {
   "cell_type": "markdown",
   "id": "9fea5f46",
   "metadata": {
    "papermill": {
     "duration": 0.028204,
     "end_time": "2022-03-28T07:37:58.655791",
     "exception": false,
     "start_time": "2022-03-28T07:37:58.627587",
     "status": "completed"
    },
    "tags": []
   },
   "source": [
    "# Transfer Learning Template"
   ]
  },
  {
   "cell_type": "code",
   "execution_count": 1,
   "id": "0902182a",
   "metadata": {
    "execution": {
     "iopub.execute_input": "2022-03-28T07:37:58.720280Z",
     "iopub.status.busy": "2022-03-28T07:37:58.713174Z",
     "iopub.status.idle": "2022-03-28T07:38:00.629156Z",
     "shell.execute_reply": "2022-03-28T07:38:00.629826Z"
    },
    "papermill": {
     "duration": 1.950401,
     "end_time": "2022-03-28T07:38:00.630164",
     "exception": false,
     "start_time": "2022-03-28T07:37:58.679763",
     "status": "completed"
    },
    "tags": []
   },
   "outputs": [],
   "source": [
    "%load_ext autoreload\n",
    "%autoreload 2\n",
    "%matplotlib inline\n",
    "\n",
    "    \n",
    "import os, json, sys, time, random\n",
    "import numpy as np\n",
    "import torch\n",
    "from torch.optim import Adam\n",
    "from  easydict import EasyDict\n",
    "import matplotlib.pyplot as plt\n",
    "\n",
    "from steves_models.steves_ptn import Steves_Prototypical_Network\n",
    "\n",
    "from steves_utils.lazy_iterable_wrapper import Lazy_Iterable_Wrapper\n",
    "from steves_utils.iterable_aggregator import Iterable_Aggregator\n",
    "from steves_utils.ptn_train_eval_test_jig import  PTN_Train_Eval_Test_Jig\n",
    "from steves_utils.torch_sequential_builder import build_sequential\n",
    "from steves_utils.torch_utils import get_dataset_metrics, ptn_confusion_by_domain_over_dataloader\n",
    "from steves_utils.utils_v2 import (per_domain_accuracy_from_confusion, get_datasets_base_path)\n",
    "from steves_utils.PTN.utils import independent_accuracy_assesment\n",
    "\n",
    "from torch.utils.data import DataLoader\n",
    "\n",
    "from steves_utils.stratified_dataset.episodic_accessor import Episodic_Accessor_Factory\n",
    "\n",
    "from steves_utils.ptn_do_report import (\n",
    "    get_loss_curve,\n",
    "    get_results_table,\n",
    "    get_parameters_table,\n",
    "    get_domain_accuracies,\n",
    ")\n",
    "\n",
    "from steves_utils.transforms import get_chained_transform"
   ]
  },
  {
   "cell_type": "markdown",
   "id": "41c840b4",
   "metadata": {
    "papermill": {
     "duration": 0.018548,
     "end_time": "2022-03-28T07:38:00.674183",
     "exception": false,
     "start_time": "2022-03-28T07:38:00.655635",
     "status": "completed"
    },
    "tags": []
   },
   "source": [
    "# Allowed Parameters\n",
    "These are allowed parameters, not defaults\n",
    "Each of these values need to be present in the injected parameters (the notebook will raise an exception if they are not present)\n",
    "\n",
    "Papermill uses the cell tag \"parameters\" to inject the real parameters below this cell.\n",
    "Enable tags to see what I mean"
   ]
  },
  {
   "cell_type": "code",
   "execution_count": 2,
   "id": "fd44eb83",
   "metadata": {
    "execution": {
     "iopub.execute_input": "2022-03-28T07:38:00.714717Z",
     "iopub.status.busy": "2022-03-28T07:38:00.714336Z",
     "iopub.status.idle": "2022-03-28T07:38:00.733194Z",
     "shell.execute_reply": "2022-03-28T07:38:00.733871Z"
    },
    "papermill": {
     "duration": 0.040912,
     "end_time": "2022-03-28T07:38:00.734067",
     "exception": false,
     "start_time": "2022-03-28T07:38:00.693155",
     "status": "completed"
    },
    "tags": []
   },
   "outputs": [],
   "source": [
    "required_parameters = {\n",
    "    \"experiment_name\",\n",
    "    \"lr\",\n",
    "    \"device\",\n",
    "    \"seed\",\n",
    "    \"dataset_seed\",\n",
    "    \"n_shot\",\n",
    "    \"n_query\",\n",
    "    \"n_way\",\n",
    "    \"train_k_factor\",\n",
    "    \"val_k_factor\",\n",
    "    \"test_k_factor\",\n",
    "    \"n_epoch\",\n",
    "    \"patience\",\n",
    "    \"criteria_for_best\",\n",
    "    \"x_net\",\n",
    "    \"datasets\",\n",
    "    \"torch_default_dtype\",\n",
    "    \"NUM_LOGS_PER_EPOCH\",\n",
    "    \"BEST_MODEL_PATH\",\n",
    "    \"x_shape\",\n",
    "}"
   ]
  },
  {
   "cell_type": "code",
   "execution_count": 3,
   "id": "fa3f0049",
   "metadata": {
    "execution": {
     "iopub.execute_input": "2022-03-28T07:38:00.788328Z",
     "iopub.status.busy": "2022-03-28T07:38:00.787401Z",
     "iopub.status.idle": "2022-03-28T07:38:00.805461Z",
     "shell.execute_reply": "2022-03-28T07:38:00.806106Z"
    },
    "papermill": {
     "duration": 0.047608,
     "end_time": "2022-03-28T07:38:00.806302",
     "exception": false,
     "start_time": "2022-03-28T07:38:00.758694",
     "status": "completed"
    },
    "tags": [
     "parameters"
    ]
   },
   "outputs": [],
   "source": [
    "from steves_utils.CORES.utils import (\n",
    "    ALL_NODES,\n",
    "    ALL_NODES_MINIMUM_1000_EXAMPLES,\n",
    "    ALL_DAYS\n",
    ")\n",
    "\n",
    "from steves_utils.ORACLE.utils_v2 import (\n",
    "    ALL_DISTANCES_FEET_NARROWED,\n",
    "    ALL_RUNS,\n",
    "    ALL_SERIAL_NUMBERS,\n",
    ")\n",
    "\n",
    "standalone_parameters = {}\n",
    "standalone_parameters[\"experiment_name\"] = \"STANDALONE PTN\"\n",
    "standalone_parameters[\"lr\"] = 0.001\n",
    "standalone_parameters[\"device\"] = \"cuda\"\n",
    "\n",
    "standalone_parameters[\"seed\"] = 1337\n",
    "standalone_parameters[\"dataset_seed\"] = 1337\n",
    "\n",
    "standalone_parameters[\"n_way\"] = 8\n",
    "standalone_parameters[\"n_shot\"] = 3\n",
    "standalone_parameters[\"n_query\"]  = 2\n",
    "standalone_parameters[\"train_k_factor\"] = 1\n",
    "standalone_parameters[\"val_k_factor\"] = 2\n",
    "standalone_parameters[\"test_k_factor\"] = 2\n",
    "\n",
    "\n",
    "standalone_parameters[\"n_epoch\"] = 50\n",
    "\n",
    "standalone_parameters[\"patience\"] = 10\n",
    "standalone_parameters[\"criteria_for_best\"] = \"source_loss\"\n",
    "\n",
    "standalone_parameters[\"datasets\"] = [\n",
    "    {\n",
    "        \"labels\": ALL_SERIAL_NUMBERS,\n",
    "        \"domains\": ALL_DISTANCES_FEET_NARROWED,\n",
    "        \"num_examples_per_domain_per_label\": 100,\n",
    "        \"pickle_path\": os.path.join(get_datasets_base_path(), \"oracle.Run1_framed_2000Examples_stratified_ds.2022A.pkl\"),\n",
    "        \"source_or_target_dataset\": \"source\",\n",
    "        \"x_transforms\": [\"unit_mag\", \"minus_two\"],\n",
    "        \"episode_transforms\": [],\n",
    "        \"domain_prefix\": \"ORACLE_\"\n",
    "    },\n",
    "    {\n",
    "        \"labels\": ALL_NODES,\n",
    "        \"domains\": ALL_DAYS,\n",
    "        \"num_examples_per_domain_per_label\": 100,\n",
    "        \"pickle_path\": os.path.join(get_datasets_base_path(), \"cores.stratified_ds.2022A.pkl\"),\n",
    "        \"source_or_target_dataset\": \"target\",\n",
    "        \"x_transforms\": [\"unit_power\", \"times_zero\"],\n",
    "        \"episode_transforms\": [],\n",
    "        \"domain_prefix\": \"CORES_\"\n",
    "    }   \n",
    "]\n",
    "\n",
    "standalone_parameters[\"torch_default_dtype\"] = \"torch.float32\" \n",
    "\n",
    "\n",
    "\n",
    "standalone_parameters[\"x_net\"] =     [\n",
    "    {\"class\": \"nnReshape\", \"kargs\": {\"shape\":[-1, 1, 2, 256]}},\n",
    "    {\"class\": \"Conv2d\", \"kargs\": { \"in_channels\":1, \"out_channels\":256, \"kernel_size\":(1,7), \"bias\":False, \"padding\":(0,3), },},\n",
    "    {\"class\": \"ReLU\", \"kargs\": {\"inplace\": True}},\n",
    "    {\"class\": \"BatchNorm2d\", \"kargs\": {\"num_features\":256}},\n",
    "\n",
    "    {\"class\": \"Conv2d\", \"kargs\": { \"in_channels\":256, \"out_channels\":80, \"kernel_size\":(2,7), \"bias\":True, \"padding\":(0,3), },},\n",
    "    {\"class\": \"ReLU\", \"kargs\": {\"inplace\": True}},\n",
    "    {\"class\": \"BatchNorm2d\", \"kargs\": {\"num_features\":80}},\n",
    "    {\"class\": \"Flatten\", \"kargs\": {}},\n",
    "\n",
    "    {\"class\": \"Linear\", \"kargs\": {\"in_features\": 80*256, \"out_features\": 256}}, # 80 units per IQ pair\n",
    "    {\"class\": \"ReLU\", \"kargs\": {\"inplace\": True}},\n",
    "    {\"class\": \"BatchNorm1d\", \"kargs\": {\"num_features\":256}},\n",
    "\n",
    "    {\"class\": \"Linear\", \"kargs\": {\"in_features\": 256, \"out_features\": 256}},\n",
    "]\n",
    "\n",
    "# Parameters relevant to results\n",
    "# These parameters will basically never need to change\n",
    "standalone_parameters[\"NUM_LOGS_PER_EPOCH\"] = 10\n",
    "standalone_parameters[\"BEST_MODEL_PATH\"] = \"./best_model.pth\"\n",
    "\n",
    "\n",
    "\n",
    "\n"
   ]
  },
  {
   "cell_type": "code",
   "execution_count": 4,
   "id": "e98abfa0",
   "metadata": {
    "execution": {
     "iopub.execute_input": "2022-03-28T07:38:00.859196Z",
     "iopub.status.busy": "2022-03-28T07:38:00.858528Z",
     "iopub.status.idle": "2022-03-28T07:38:00.876770Z",
     "shell.execute_reply": "2022-03-28T07:38:00.877442Z"
    },
    "papermill": {
     "duration": 0.047099,
     "end_time": "2022-03-28T07:38:00.877692",
     "exception": false,
     "start_time": "2022-03-28T07:38:00.830593",
     "status": "completed"
    },
    "tags": [
     "injected-parameters"
    ]
   },
   "outputs": [],
   "source": [
    "# Parameters\n",
    "parameters = {\n",
    "    \"experiment_name\": \"tl_3-jitter10v2:cores -> oracle.run1.framed\",\n",
    "    \"device\": \"cuda\",\n",
    "    \"lr\": 0.0001,\n",
    "    \"x_shape\": [2, 256],\n",
    "    \"n_shot\": 3,\n",
    "    \"n_query\": 2,\n",
    "    \"train_k_factor\": 3,\n",
    "    \"val_k_factor\": 2,\n",
    "    \"test_k_factor\": 2,\n",
    "    \"torch_default_dtype\": \"torch.float32\",\n",
    "    \"n_epoch\": 50,\n",
    "    \"patience\": 3,\n",
    "    \"criteria_for_best\": \"target_accuracy\",\n",
    "    \"x_net\": [\n",
    "        {\"class\": \"nnReshape\", \"kargs\": {\"shape\": [-1, 1, 2, 256]}},\n",
    "        {\n",
    "            \"class\": \"Conv2d\",\n",
    "            \"kargs\": {\n",
    "                \"in_channels\": 1,\n",
    "                \"out_channels\": 256,\n",
    "                \"kernel_size\": [1, 7],\n",
    "                \"bias\": False,\n",
    "                \"padding\": [0, 3],\n",
    "            },\n",
    "        },\n",
    "        {\"class\": \"ReLU\", \"kargs\": {\"inplace\": True}},\n",
    "        {\"class\": \"BatchNorm2d\", \"kargs\": {\"num_features\": 256}},\n",
    "        {\n",
    "            \"class\": \"Conv2d\",\n",
    "            \"kargs\": {\n",
    "                \"in_channels\": 256,\n",
    "                \"out_channels\": 80,\n",
    "                \"kernel_size\": [2, 7],\n",
    "                \"bias\": True,\n",
    "                \"padding\": [0, 3],\n",
    "            },\n",
    "        },\n",
    "        {\"class\": \"ReLU\", \"kargs\": {\"inplace\": True}},\n",
    "        {\"class\": \"BatchNorm2d\", \"kargs\": {\"num_features\": 80}},\n",
    "        {\"class\": \"Flatten\", \"kargs\": {}},\n",
    "        {\"class\": \"Linear\", \"kargs\": {\"in_features\": 20480, \"out_features\": 256}},\n",
    "        {\"class\": \"ReLU\", \"kargs\": {\"inplace\": True}},\n",
    "        {\"class\": \"BatchNorm1d\", \"kargs\": {\"num_features\": 256}},\n",
    "        {\"class\": \"Linear\", \"kargs\": {\"in_features\": 256, \"out_features\": 256}},\n",
    "    ],\n",
    "    \"NUM_LOGS_PER_EPOCH\": 10,\n",
    "    \"BEST_MODEL_PATH\": \"./best_model.pth\",\n",
    "    \"n_way\": 16,\n",
    "    \"datasets\": [\n",
    "        {\n",
    "            \"labels\": [\n",
    "                \"1-10.\",\n",
    "                \"1-11.\",\n",
    "                \"1-15.\",\n",
    "                \"1-16.\",\n",
    "                \"1-17.\",\n",
    "                \"1-18.\",\n",
    "                \"1-19.\",\n",
    "                \"10-4.\",\n",
    "                \"10-7.\",\n",
    "                \"11-1.\",\n",
    "                \"11-14.\",\n",
    "                \"11-17.\",\n",
    "                \"11-20.\",\n",
    "                \"11-7.\",\n",
    "                \"13-20.\",\n",
    "                \"13-8.\",\n",
    "                \"14-10.\",\n",
    "                \"14-11.\",\n",
    "                \"14-14.\",\n",
    "                \"14-7.\",\n",
    "                \"15-1.\",\n",
    "                \"15-20.\",\n",
    "                \"16-1.\",\n",
    "                \"16-16.\",\n",
    "                \"17-10.\",\n",
    "                \"17-11.\",\n",
    "                \"17-2.\",\n",
    "                \"19-1.\",\n",
    "                \"19-16.\",\n",
    "                \"19-19.\",\n",
    "                \"19-20.\",\n",
    "                \"19-3.\",\n",
    "                \"2-10.\",\n",
    "                \"2-11.\",\n",
    "                \"2-17.\",\n",
    "                \"2-18.\",\n",
    "                \"2-20.\",\n",
    "                \"2-3.\",\n",
    "                \"2-4.\",\n",
    "                \"2-5.\",\n",
    "                \"2-6.\",\n",
    "                \"2-7.\",\n",
    "                \"2-8.\",\n",
    "                \"3-13.\",\n",
    "                \"3-18.\",\n",
    "                \"3-3.\",\n",
    "                \"4-1.\",\n",
    "                \"4-10.\",\n",
    "                \"4-11.\",\n",
    "                \"4-19.\",\n",
    "                \"5-5.\",\n",
    "                \"6-15.\",\n",
    "                \"7-10.\",\n",
    "                \"7-14.\",\n",
    "                \"8-18.\",\n",
    "                \"8-20.\",\n",
    "                \"8-3.\",\n",
    "                \"8-8.\",\n",
    "            ],\n",
    "            \"domains\": [1, 2, 3, 4, 5],\n",
    "            \"num_examples_per_domain_per_label\": -1,\n",
    "            \"pickle_path\": \"/root/csc500-main/datasets/cores.stratified_ds.2022A.pkl\",\n",
    "            \"source_or_target_dataset\": \"source\",\n",
    "            \"x_transforms\": [\n",
    "                \"unit_power\",\n",
    "                \"jitter_256_10\",\n",
    "                \"lowpass_+/-10MHz\",\n",
    "                \"take_200\",\n",
    "            ],\n",
    "            \"episode_transforms\": [],\n",
    "            \"domain_prefix\": \"C_\",\n",
    "        },\n",
    "        {\n",
    "            \"labels\": [\n",
    "                \"3123D52\",\n",
    "                \"3123D65\",\n",
    "                \"3123D79\",\n",
    "                \"3123D80\",\n",
    "                \"3123D54\",\n",
    "                \"3123D70\",\n",
    "                \"3123D7B\",\n",
    "                \"3123D89\",\n",
    "                \"3123D58\",\n",
    "                \"3123D76\",\n",
    "                \"3123D7D\",\n",
    "                \"3123EFE\",\n",
    "                \"3123D64\",\n",
    "                \"3123D78\",\n",
    "                \"3123D7E\",\n",
    "                \"3124E4A\",\n",
    "            ],\n",
    "            \"domains\": [32, 38, 8, 44, 14, 50, 20, 26],\n",
    "            \"num_examples_per_domain_per_label\": 2000,\n",
    "            \"pickle_path\": \"/root/csc500-main/datasets/oracle.Run1_framed_2000Examples_stratified_ds.2022A.pkl\",\n",
    "            \"source_or_target_dataset\": \"target\",\n",
    "            \"x_transforms\": [\n",
    "                \"unit_power\",\n",
    "                \"jitter_256_10\",\n",
    "                \"take_200\",\n",
    "                \"resample_20Msps_to_25Msps\",\n",
    "            ],\n",
    "            \"episode_transforms\": [],\n",
    "            \"domain_prefix\": \"O_\",\n",
    "        },\n",
    "    ],\n",
    "    \"seed\": 154325,\n",
    "    \"dataset_seed\": 154325,\n",
    "}\n"
   ]
  },
  {
   "cell_type": "code",
   "execution_count": 5,
   "id": "8fa1cc33",
   "metadata": {
    "execution": {
     "iopub.execute_input": "2022-03-28T07:38:00.926541Z",
     "iopub.status.busy": "2022-03-28T07:38:00.926158Z",
     "iopub.status.idle": "2022-03-28T07:38:00.942798Z",
     "shell.execute_reply": "2022-03-28T07:38:00.943453Z"
    },
    "papermill": {
     "duration": 0.040865,
     "end_time": "2022-03-28T07:38:00.943697",
     "exception": false,
     "start_time": "2022-03-28T07:38:00.902832",
     "status": "completed"
    },
    "tags": []
   },
   "outputs": [],
   "source": [
    "# Set this to True if you want to run this template directly\n",
    "STANDALONE = False\n",
    "if STANDALONE:\n",
    "    print(\"parameters not injected, running with standalone_parameters\")\n",
    "    parameters = standalone_parameters\n",
    "\n",
    "if not 'parameters' in locals() and not 'parameters' in globals():\n",
    "    raise Exception(\"Parameter injection failed\")\n",
    "\n",
    "#Use an easy dict for all the parameters\n",
    "p = EasyDict(parameters)\n",
    "\n",
    "if \"x_shape\" not in p:\n",
    "    p.x_shape = [2,256] # Default to this if we dont supply x_shape\n",
    "\n",
    "\n",
    "supplied_keys = set(p.keys())\n",
    "\n",
    "if  supplied_keys != required_parameters:\n",
    "    print(\"Parameters are incorrect\")\n",
    "    if len(supplied_keys - required_parameters)>0: print(\"Shouldn't have:\", str(supplied_keys - required_parameters))\n",
    "    if len(required_parameters - supplied_keys)>0: print(\"Need to have:\", str(required_parameters - supplied_keys))\n",
    "    raise RuntimeError(\"Parameters are incorrect\")"
   ]
  },
  {
   "cell_type": "code",
   "execution_count": 6,
   "id": "3a028d58",
   "metadata": {
    "execution": {
     "iopub.execute_input": "2022-03-28T07:38:00.991970Z",
     "iopub.status.busy": "2022-03-28T07:38:00.991598Z",
     "iopub.status.idle": "2022-03-28T07:38:01.007451Z",
     "shell.execute_reply": "2022-03-28T07:38:01.008113Z"
    },
    "papermill": {
     "duration": 0.038451,
     "end_time": "2022-03-28T07:38:01.008316",
     "exception": false,
     "start_time": "2022-03-28T07:38:00.969865",
     "status": "completed"
    },
    "tags": []
   },
   "outputs": [],
   "source": [
    "###################################\n",
    "# Set the RNGs and make it all deterministic\n",
    "###################################\n",
    "np.random.seed(p.seed)\n",
    "random.seed(p.seed)\n",
    "torch.manual_seed(p.seed)\n",
    "\n",
    "torch.use_deterministic_algorithms(True) "
   ]
  },
  {
   "cell_type": "code",
   "execution_count": 7,
   "id": "b691acf6",
   "metadata": {
    "execution": {
     "iopub.execute_input": "2022-03-28T07:38:01.054998Z",
     "iopub.status.busy": "2022-03-28T07:38:01.054629Z",
     "iopub.status.idle": "2022-03-28T07:38:01.070226Z",
     "shell.execute_reply": "2022-03-28T07:38:01.070872Z"
    },
    "papermill": {
     "duration": 0.038131,
     "end_time": "2022-03-28T07:38:01.071080",
     "exception": false,
     "start_time": "2022-03-28T07:38:01.032949",
     "status": "completed"
    },
    "tags": []
   },
   "outputs": [],
   "source": [
    "###########################################\n",
    "# The stratified datasets honor this\n",
    "###########################################\n",
    "torch.set_default_dtype(eval(p.torch_default_dtype))"
   ]
  },
  {
   "cell_type": "code",
   "execution_count": 8,
   "id": "b5fba671",
   "metadata": {
    "execution": {
     "iopub.execute_input": "2022-03-28T07:38:01.118878Z",
     "iopub.status.busy": "2022-03-28T07:38:01.118509Z",
     "iopub.status.idle": "2022-03-28T07:38:01.168741Z",
     "shell.execute_reply": "2022-03-28T07:38:01.168000Z"
    },
    "papermill": {
     "duration": 0.072948,
     "end_time": "2022-03-28T07:38:01.168915",
     "exception": false,
     "start_time": "2022-03-28T07:38:01.095967",
     "status": "completed"
    },
    "tags": []
   },
   "outputs": [],
   "source": [
    "###################################\n",
    "# Build the network(s)\n",
    "# Note: It's critical to do this AFTER setting the RNG\n",
    "###################################\n",
    "x_net = build_sequential(p.x_net)"
   ]
  },
  {
   "cell_type": "code",
   "execution_count": 9,
   "id": "5d7e61cc",
   "metadata": {
    "execution": {
     "iopub.execute_input": "2022-03-28T07:38:01.215858Z",
     "iopub.status.busy": "2022-03-28T07:38:01.215482Z",
     "iopub.status.idle": "2022-03-28T07:38:01.237355Z",
     "shell.execute_reply": "2022-03-28T07:38:01.238032Z"
    },
    "papermill": {
     "duration": 0.045106,
     "end_time": "2022-03-28T07:38:01.238227",
     "exception": false,
     "start_time": "2022-03-28T07:38:01.193121",
     "status": "completed"
    },
    "tags": []
   },
   "outputs": [],
   "source": [
    "start_time_secs = time.time()"
   ]
  },
  {
   "cell_type": "code",
   "execution_count": 10,
   "id": "c6b67dfd",
   "metadata": {
    "execution": {
     "iopub.execute_input": "2022-03-28T07:38:01.285965Z",
     "iopub.status.busy": "2022-03-28T07:38:01.285108Z",
     "iopub.status.idle": "2022-03-28T07:38:01.301040Z",
     "shell.execute_reply": "2022-03-28T07:38:01.300302Z"
    },
    "papermill": {
     "duration": 0.038603,
     "end_time": "2022-03-28T07:38:01.301207",
     "exception": false,
     "start_time": "2022-03-28T07:38:01.262604",
     "status": "completed"
    },
    "tags": []
   },
   "outputs": [],
   "source": [
    "p.domains_source = []\n",
    "p.domains_target = []\n",
    "\n",
    "\n",
    "train_original_source = []\n",
    "val_original_source   = []\n",
    "test_original_source  = []\n",
    "\n",
    "train_original_target = []\n",
    "val_original_target   = []\n",
    "test_original_target  = []"
   ]
  },
  {
   "cell_type": "code",
   "execution_count": 11,
   "id": "e3d9c3d3",
   "metadata": {
    "execution": {
     "iopub.execute_input": "2022-03-28T07:38:01.347647Z",
     "iopub.status.busy": "2022-03-28T07:38:01.347249Z",
     "iopub.status.idle": "2022-03-28T07:38:01.363197Z",
     "shell.execute_reply": "2022-03-28T07:38:01.363913Z"
    },
    "papermill": {
     "duration": 0.038943,
     "end_time": "2022-03-28T07:38:01.364112",
     "exception": false,
     "start_time": "2022-03-28T07:38:01.325169",
     "status": "completed"
    },
    "tags": []
   },
   "outputs": [],
   "source": [
    "# global_x_transform_func = lambda x: normalize(x.to(torch.get_default_dtype()), \"unit_power\") # unit_power, unit_mag\n",
    "# global_x_transform_func = lambda x: normalize(x, \"unit_power\") # unit_power, unit_mag"
   ]
  },
  {
   "cell_type": "code",
   "execution_count": 12,
   "id": "acb78fd2",
   "metadata": {
    "execution": {
     "iopub.execute_input": "2022-03-28T07:38:01.418098Z",
     "iopub.status.busy": "2022-03-28T07:38:01.417705Z",
     "iopub.status.idle": "2022-03-28T07:38:01.436319Z",
     "shell.execute_reply": "2022-03-28T07:38:01.435594Z"
    },
    "papermill": {
     "duration": 0.045208,
     "end_time": "2022-03-28T07:38:01.436484",
     "exception": false,
     "start_time": "2022-03-28T07:38:01.391276",
     "status": "completed"
    },
    "tags": []
   },
   "outputs": [],
   "source": [
    "def add_dataset(\n",
    "    labels,\n",
    "    domains,\n",
    "    pickle_path,\n",
    "    x_transforms,\n",
    "    episode_transforms,\n",
    "    domain_prefix,\n",
    "    num_examples_per_domain_per_label,\n",
    "    source_or_target_dataset:str,\n",
    "    iterator_seed=p.seed,\n",
    "    dataset_seed=p.dataset_seed,\n",
    "    n_shot=p.n_shot,\n",
    "    n_way=p.n_way,\n",
    "    n_query=p.n_query,\n",
    "    train_val_test_k_factors=(p.train_k_factor,p.val_k_factor,p.test_k_factor),\n",
    "):\n",
    "   \n",
    "    if x_transforms == []: x_transform = None\n",
    "    else: x_transform = get_chained_transform(x_transforms)\n",
    "    \n",
    "    if episode_transforms == []: episode_transform = None\n",
    "    else: raise Exception(\"episode_transforms not implemented\")\n",
    "    \n",
    "    episode_transform = lambda tup, _prefix=domain_prefix: (_prefix + str(tup[0]), tup[1])\n",
    "\n",
    "\n",
    "    eaf = Episodic_Accessor_Factory(\n",
    "        labels=labels,\n",
    "        domains=domains,\n",
    "        num_examples_per_domain_per_label=num_examples_per_domain_per_label,\n",
    "        iterator_seed=iterator_seed,\n",
    "        dataset_seed=dataset_seed,\n",
    "        n_shot=n_shot,\n",
    "        n_way=n_way,\n",
    "        n_query=n_query,\n",
    "        train_val_test_k_factors=train_val_test_k_factors,\n",
    "        pickle_path=pickle_path,\n",
    "        x_transform_func=x_transform,\n",
    "    )\n",
    "\n",
    "    train, val, test = eaf.get_train(), eaf.get_val(), eaf.get_test()\n",
    "    train = Lazy_Iterable_Wrapper(train, episode_transform)\n",
    "    val = Lazy_Iterable_Wrapper(val, episode_transform)\n",
    "    test = Lazy_Iterable_Wrapper(test, episode_transform)\n",
    "\n",
    "    if source_or_target_dataset==\"source\":\n",
    "        train_original_source.append(train)\n",
    "        val_original_source.append(val)\n",
    "        test_original_source.append(test)\n",
    "\n",
    "        p.domains_source.extend(\n",
    "            [domain_prefix + str(u) for u in domains]\n",
    "        )\n",
    "    elif source_or_target_dataset==\"target\":\n",
    "        train_original_target.append(train)\n",
    "        val_original_target.append(val)\n",
    "        test_original_target.append(test)\n",
    "        p.domains_target.extend(\n",
    "            [domain_prefix + str(u) for u in domains]\n",
    "        )\n",
    "    else:\n",
    "        raise Exception(f\"invalid source_or_target_dataset: {source_or_target_dataset}\")\n",
    "    "
   ]
  },
  {
   "cell_type": "code",
   "execution_count": 13,
   "id": "fe266617",
   "metadata": {
    "execution": {
     "iopub.execute_input": "2022-03-28T07:38:01.485256Z",
     "iopub.status.busy": "2022-03-28T07:38:01.484879Z",
     "iopub.status.idle": "2022-03-28T07:39:53.589189Z",
     "shell.execute_reply": "2022-03-28T07:39:53.588414Z"
    },
    "papermill": {
     "duration": 112.126926,
     "end_time": "2022-03-28T07:39:53.589395",
     "exception": false,
     "start_time": "2022-03-28T07:38:01.462469",
     "status": "completed"
    },
    "tags": []
   },
   "outputs": [],
   "source": [
    "for ds in p.datasets:\n",
    "    add_dataset(**ds)"
   ]
  },
  {
   "cell_type": "code",
   "execution_count": 14,
   "id": "b90d65ac",
   "metadata": {
    "execution": {
     "iopub.execute_input": "2022-03-28T07:39:53.638870Z",
     "iopub.status.busy": "2022-03-28T07:39:53.638488Z",
     "iopub.status.idle": "2022-03-28T07:39:53.664043Z",
     "shell.execute_reply": "2022-03-28T07:39:53.663278Z"
    },
    "papermill": {
     "duration": 0.049673,
     "end_time": "2022-03-28T07:39:53.664211",
     "exception": false,
     "start_time": "2022-03-28T07:39:53.614538",
     "status": "completed"
    },
    "tags": []
   },
   "outputs": [],
   "source": [
    "# from steves_utils.CORES.utils import (\n",
    "#     ALL_NODES,\n",
    "#     ALL_NODES_MINIMUM_1000_EXAMPLES,\n",
    "#     ALL_DAYS\n",
    "# )\n",
    "\n",
    "# add_dataset(\n",
    "#     labels=ALL_NODES,\n",
    "#     domains = ALL_DAYS,\n",
    "#     num_examples_per_domain_per_label=100,\n",
    "#     pickle_path=os.path.join(get_datasets_base_path(), \"cores.stratified_ds.2022A.pkl\"),\n",
    "#     source_or_target_dataset=\"target\",\n",
    "#     x_transform_func=global_x_transform_func,\n",
    "#     domain_modifier=lambda u: f\"cores_{u}\"\n",
    "# )"
   ]
  },
  {
   "cell_type": "code",
   "execution_count": 15,
   "id": "76db484d",
   "metadata": {
    "execution": {
     "iopub.execute_input": "2022-03-28T07:39:53.713468Z",
     "iopub.status.busy": "2022-03-28T07:39:53.713093Z",
     "iopub.status.idle": "2022-03-28T07:39:53.733023Z",
     "shell.execute_reply": "2022-03-28T07:39:53.732271Z"
    },
    "papermill": {
     "duration": 0.041998,
     "end_time": "2022-03-28T07:39:53.733185",
     "exception": false,
     "start_time": "2022-03-28T07:39:53.691187",
     "status": "completed"
    },
    "tags": []
   },
   "outputs": [],
   "source": [
    "# from steves_utils.ORACLE.utils_v2 import (\n",
    "#     ALL_DISTANCES_FEET,\n",
    "#     ALL_RUNS,\n",
    "#     ALL_SERIAL_NUMBERS,\n",
    "# )\n",
    "\n",
    "\n",
    "# add_dataset(\n",
    "#     labels=ALL_SERIAL_NUMBERS,\n",
    "#     domains = list(set(ALL_DISTANCES_FEET) - {2,62}),\n",
    "#     num_examples_per_domain_per_label=100,\n",
    "#     pickle_path=os.path.join(get_datasets_base_path(), \"oracle.Run2_framed_2000Examples_stratified_ds.2022A.pkl\"),\n",
    "#     source_or_target_dataset=\"source\",\n",
    "#     x_transform_func=global_x_transform_func,\n",
    "#     domain_modifier=lambda u: f\"oracle1_{u}\"\n",
    "# )\n"
   ]
  },
  {
   "cell_type": "code",
   "execution_count": 16,
   "id": "97dea9d2",
   "metadata": {
    "execution": {
     "iopub.execute_input": "2022-03-28T07:39:53.783379Z",
     "iopub.status.busy": "2022-03-28T07:39:53.783003Z",
     "iopub.status.idle": "2022-03-28T07:39:53.800219Z",
     "shell.execute_reply": "2022-03-28T07:39:53.799327Z"
    },
    "papermill": {
     "duration": 0.040376,
     "end_time": "2022-03-28T07:39:53.800392",
     "exception": false,
     "start_time": "2022-03-28T07:39:53.760016",
     "status": "completed"
    },
    "tags": []
   },
   "outputs": [],
   "source": [
    "# from steves_utils.ORACLE.utils_v2 import (\n",
    "#     ALL_DISTANCES_FEET,\n",
    "#     ALL_RUNS,\n",
    "#     ALL_SERIAL_NUMBERS,\n",
    "# )\n",
    "\n",
    "\n",
    "# add_dataset(\n",
    "#     labels=ALL_SERIAL_NUMBERS,\n",
    "#     domains = list(set(ALL_DISTANCES_FEET) - {2,62,56}),\n",
    "#     num_examples_per_domain_per_label=100,\n",
    "#     pickle_path=os.path.join(get_datasets_base_path(), \"oracle.Run2_framed_2000Examples_stratified_ds.2022A.pkl\"),\n",
    "#     source_or_target_dataset=\"source\",\n",
    "#     x_transform_func=global_x_transform_func,\n",
    "#     domain_modifier=lambda u: f\"oracle2_{u}\"\n",
    "# )"
   ]
  },
  {
   "cell_type": "code",
   "execution_count": 17,
   "id": "6f289866",
   "metadata": {
    "execution": {
     "iopub.execute_input": "2022-03-28T07:39:53.851867Z",
     "iopub.status.busy": "2022-03-28T07:39:53.851464Z",
     "iopub.status.idle": "2022-03-28T07:39:53.877908Z",
     "shell.execute_reply": "2022-03-28T07:39:53.878727Z"
    },
    "papermill": {
     "duration": 0.05158,
     "end_time": "2022-03-28T07:39:53.878947",
     "exception": false,
     "start_time": "2022-03-28T07:39:53.827367",
     "status": "completed"
    },
    "tags": []
   },
   "outputs": [],
   "source": [
    "# add_dataset(\n",
    "#     labels=list(range(19)),\n",
    "#     domains = [0,1,2],\n",
    "#     num_examples_per_domain_per_label=100,\n",
    "#     pickle_path=os.path.join(get_datasets_base_path(), \"metehan.stratified_ds.2022A.pkl\"),\n",
    "#     source_or_target_dataset=\"target\",\n",
    "#     x_transform_func=global_x_transform_func,\n",
    "#     domain_modifier=lambda u: f\"met_{u}\"\n",
    "# )"
   ]
  },
  {
   "cell_type": "code",
   "execution_count": 18,
   "id": "86a863c3",
   "metadata": {
    "execution": {
     "iopub.execute_input": "2022-03-28T07:39:53.931589Z",
     "iopub.status.busy": "2022-03-28T07:39:53.931205Z",
     "iopub.status.idle": "2022-03-28T07:39:53.955817Z",
     "shell.execute_reply": "2022-03-28T07:39:53.956499Z"
    },
    "papermill": {
     "duration": 0.050212,
     "end_time": "2022-03-28T07:39:53.956689",
     "exception": false,
     "start_time": "2022-03-28T07:39:53.906477",
     "status": "completed"
    },
    "tags": []
   },
   "outputs": [],
   "source": [
    "# # from steves_utils.wisig.utils import (\n",
    "# #     ALL_NODES_MINIMUM_100_EXAMPLES,\n",
    "# #     ALL_NODES_MINIMUM_500_EXAMPLES,\n",
    "# #     ALL_NODES_MINIMUM_1000_EXAMPLES,\n",
    "# #     ALL_DAYS\n",
    "# # )\n",
    "\n",
    "# import steves_utils.wisig.utils as wisig\n",
    "\n",
    "\n",
    "# add_dataset(\n",
    "#     labels=wisig.ALL_NODES_MINIMUM_100_EXAMPLES,\n",
    "#     domains = wisig.ALL_DAYS,\n",
    "#     num_examples_per_domain_per_label=100,\n",
    "#     pickle_path=os.path.join(get_datasets_base_path(), \"wisig.node3-19.stratified_ds.2022A.pkl\"),\n",
    "#     source_or_target_dataset=\"target\",\n",
    "#     x_transform_func=global_x_transform_func,\n",
    "#     domain_modifier=lambda u: f\"wisig_{u}\"\n",
    "# )"
   ]
  },
  {
   "cell_type": "code",
   "execution_count": 19,
   "id": "fd5442bc",
   "metadata": {
    "execution": {
     "iopub.execute_input": "2022-03-28T07:39:54.012677Z",
     "iopub.status.busy": "2022-03-28T07:39:54.012290Z",
     "iopub.status.idle": "2022-03-28T07:39:54.033560Z",
     "shell.execute_reply": "2022-03-28T07:39:54.034239Z"
    },
    "papermill": {
     "duration": 0.048537,
     "end_time": "2022-03-28T07:39:54.034422",
     "exception": false,
     "start_time": "2022-03-28T07:39:53.985885",
     "status": "completed"
    },
    "tags": []
   },
   "outputs": [],
   "source": [
    "###################################\n",
    "# Build the dataset\n",
    "###################################\n",
    "train_original_source = Iterable_Aggregator(train_original_source, p.seed)\n",
    "val_original_source = Iterable_Aggregator(val_original_source, p.seed)\n",
    "test_original_source = Iterable_Aggregator(test_original_source, p.seed)\n",
    "\n",
    "\n",
    "train_original_target = Iterable_Aggregator(train_original_target, p.seed)\n",
    "val_original_target = Iterable_Aggregator(val_original_target, p.seed)\n",
    "test_original_target = Iterable_Aggregator(test_original_target, p.seed)\n",
    "\n",
    "# For CNN We only use X and Y. And we only train on the source.\n",
    "# Properly form the data using a transform lambda and Lazy_Iterable_Wrapper. Finally wrap them in a dataloader\n",
    "\n",
    "transform_lambda = lambda ex: ex[1] # Original is (<domain>, <episode>) so we strip down to episode only\n",
    "\n",
    "train_processed_source = Lazy_Iterable_Wrapper(train_original_source, transform_lambda)\n",
    "val_processed_source   = Lazy_Iterable_Wrapper(val_original_source, transform_lambda)\n",
    "test_processed_source  = Lazy_Iterable_Wrapper(test_original_source, transform_lambda)\n",
    "\n",
    "train_processed_target = Lazy_Iterable_Wrapper(train_original_target, transform_lambda)\n",
    "val_processed_target   = Lazy_Iterable_Wrapper(val_original_target, transform_lambda)\n",
    "test_processed_target  = Lazy_Iterable_Wrapper(test_original_target, transform_lambda)\n",
    "\n",
    "datasets = EasyDict({\n",
    "    \"source\": {\n",
    "        \"original\": {\"train\":train_original_source, \"val\":val_original_source, \"test\":test_original_source},\n",
    "        \"processed\": {\"train\":train_processed_source, \"val\":val_processed_source, \"test\":test_processed_source}\n",
    "    },\n",
    "    \"target\": {\n",
    "        \"original\": {\"train\":train_original_target, \"val\":val_original_target, \"test\":test_original_target},\n",
    "        \"processed\": {\"train\":train_processed_target, \"val\":val_processed_target, \"test\":test_processed_target}\n",
    "    },\n",
    "})"
   ]
  },
  {
   "cell_type": "code",
   "execution_count": 20,
   "id": "5b3c01fc",
   "metadata": {
    "execution": {
     "iopub.execute_input": "2022-03-28T07:39:54.085671Z",
     "iopub.status.busy": "2022-03-28T07:39:54.085113Z",
     "iopub.status.idle": "2022-03-28T07:40:08.220429Z",
     "shell.execute_reply": "2022-03-28T07:40:08.219546Z"
    },
    "papermill": {
     "duration": 14.159907,
     "end_time": "2022-03-28T07:40:08.220613",
     "exception": false,
     "start_time": "2022-03-28T07:39:54.060706",
     "status": "completed"
    },
    "tags": []
   },
   "outputs": [
    {
     "name": "stdout",
     "output_type": "stream",
     "text": [
      "{'C_4', 'C_1', 'C_3', 'C_5', 'C_2'}\n"
     ]
    },
    {
     "name": "stdout",
     "output_type": "stream",
     "text": [
      "{'O_20', 'O_8', 'O_32', 'O_26', 'O_50', 'O_44', 'O_14', 'O_38'}\n"
     ]
    },
    {
     "name": "stdout",
     "output_type": "stream",
     "text": [
      "tensor([[[0., 0., 0.,  ..., 0., 0., 0.],\n",
      "         [0., 0., 0.,  ..., 0., 0., 0.]],\n",
      "\n",
      "        [[0., 0., 0.,  ..., 0., 0., 0.],\n",
      "         [0., 0., 0.,  ..., 0., 0., 0.]],\n",
      "\n",
      "        [[0., 0., 0.,  ..., 0., 0., 0.],\n",
      "         [0., 0., 0.,  ..., 0., 0., 0.]],\n",
      "\n",
      "        ...,\n",
      "\n",
      "        [[0., 0., 0.,  ..., 0., 0., 0.],\n",
      "         [0., 0., 0.,  ..., 0., 0., 0.]],\n",
      "\n",
      "        [[0., 0., 0.,  ..., 0., 0., 0.],\n",
      "         [0., 0., 0.,  ..., 0., 0., 0.]],\n",
      "\n",
      "        [[0., 0., 0.,  ..., 0., 0., 0.],\n",
      "         [0., 0., 0.,  ..., 0., 0., 0.]]])\n"
     ]
    }
   ],
   "source": [
    "from steves_utils.transforms import get_average_magnitude, get_average_power\n",
    "\n",
    "print(set([u for u,_ in val_original_source]))\n",
    "print(set([u for u,_ in val_original_target]))\n",
    "\n",
    "s_x, s_y, q_x, q_y, _ = next(iter(train_processed_source))\n",
    "print(s_x)\n",
    "\n",
    "# for ds in [\n",
    "#     train_processed_source,\n",
    "#     val_processed_source,\n",
    "#     test_processed_source,\n",
    "#     train_processed_target,\n",
    "#     val_processed_target,\n",
    "#     test_processed_target\n",
    "# ]:\n",
    "#     for s_x, s_y, q_x, q_y, _ in ds:\n",
    "#         for X in (s_x, q_x):\n",
    "#             for x in X:\n",
    "#                 assert np.isclose(get_average_magnitude(x.numpy()), 1.0)\n",
    "#                 assert np.isclose(get_average_power(x.numpy()), 1.0)\n",
    "                "
   ]
  },
  {
   "cell_type": "code",
   "execution_count": 21,
   "id": "bbdacba1",
   "metadata": {
    "execution": {
     "iopub.execute_input": "2022-03-28T07:40:08.274599Z",
     "iopub.status.busy": "2022-03-28T07:40:08.273870Z",
     "iopub.status.idle": "2022-03-28T07:40:08.381345Z",
     "shell.execute_reply": "2022-03-28T07:40:08.382009Z"
    },
    "papermill": {
     "duration": 0.134209,
     "end_time": "2022-03-28T07:40:08.382215",
     "exception": false,
     "start_time": "2022-03-28T07:40:08.248006",
     "status": "completed"
    },
    "tags": []
   },
   "outputs": [
    {
     "name": "stdout",
     "output_type": "stream",
     "text": [
      "(2, 256)\n"
     ]
    }
   ],
   "source": [
    "###################################\n",
    "# Build the model\n",
    "###################################\n",
    "# easfsl only wants a tuple for the shape\n",
    "model = Steves_Prototypical_Network(x_net, device=p.device, x_shape=tuple(p.x_shape))\n",
    "optimizer = Adam(params=model.parameters(), lr=p.lr)"
   ]
  },
  {
   "cell_type": "code",
   "execution_count": 22,
   "id": "22b39ac5",
   "metadata": {
    "execution": {
     "iopub.execute_input": "2022-03-28T07:40:08.438235Z",
     "iopub.status.busy": "2022-03-28T07:40:08.434714Z",
     "iopub.status.idle": "2022-03-28T08:03:45.724119Z",
     "shell.execute_reply": "2022-03-28T08:03:45.723776Z"
    },
    "papermill": {
     "duration": 1417.313655,
     "end_time": "2022-03-28T08:03:45.724202",
     "exception": false,
     "start_time": "2022-03-28T07:40:08.410547",
     "status": "completed"
    },
    "tags": []
   },
   "outputs": [
    {
     "name": "stdout",
     "output_type": "stream",
     "text": [
      "epoch: 1, [batch: 1 / 6297], examples_per_second: 33.8612, train_label_loss: 2.7388, \n"
     ]
    },
    {
     "name": "stdout",
     "output_type": "stream",
     "text": [
      "epoch: 1, [batch: 630 / 6297], examples_per_second: 4603.6237, train_label_loss: 0.0940, \n"
     ]
    },
    {
     "name": "stdout",
     "output_type": "stream",
     "text": [
      "epoch: 1, [batch: 1260 / 6297], examples_per_second: 5048.3551, train_label_loss: 0.0262, \n"
     ]
    },
    {
     "name": "stdout",
     "output_type": "stream",
     "text": [
      "epoch: 1, [batch: 1889 / 6297], examples_per_second: 4921.7013, train_label_loss: 0.0134, \n"
     ]
    },
    {
     "name": "stdout",
     "output_type": "stream",
     "text": [
      "epoch: 1, [batch: 2519 / 6297], examples_per_second: 4976.9182, train_label_loss: 0.0062, \n"
     ]
    },
    {
     "name": "stdout",
     "output_type": "stream",
     "text": [
      "epoch: 1, [batch: 3149 / 6297], examples_per_second: 4787.5961, train_label_loss: 0.0029, \n"
     ]
    },
    {
     "name": "stdout",
     "output_type": "stream",
     "text": [
      "epoch: 1, [batch: 3778 / 6297], examples_per_second: 4707.2210, train_label_loss: 0.0006, \n"
     ]
    },
    {
     "name": "stdout",
     "output_type": "stream",
     "text": [
      "epoch: 1, [batch: 4408 / 6297], examples_per_second: 5058.1426, train_label_loss: 0.0889, \n"
     ]
    },
    {
     "name": "stdout",
     "output_type": "stream",
     "text": [
      "epoch: 1, [batch: 5037 / 6297], examples_per_second: 5033.0422, train_label_loss: 0.0013, \n"
     ]
    },
    {
     "name": "stdout",
     "output_type": "stream",
     "text": [
      "epoch: 1, [batch: 5667 / 6297], examples_per_second: 5153.7441, train_label_loss: 0.0008, \n"
     ]
    },
    {
     "name": "stdout",
     "output_type": "stream",
     "text": [
      "=============================================================\n",
      "epoch: 1, source_val_acc_label: 0.9905, target_val_acc_label: 0.2858, source_val_label_loss: 0.0390, target_val_label_loss: 2.2688, \n",
      "=============================================================\n"
     ]
    },
    {
     "name": "stdout",
     "output_type": "stream",
     "text": [
      "New best\n"
     ]
    },
    {
     "name": "stdout",
     "output_type": "stream",
     "text": [
      "epoch: 2, [batch: 1 / 6333], examples_per_second: 5.3863, train_label_loss: 0.0010, \n"
     ]
    },
    {
     "name": "stdout",
     "output_type": "stream",
     "text": [
      "epoch: 2, [batch: 634 / 6333], examples_per_second: 4828.9712, train_label_loss: 0.0020, \n"
     ]
    },
    {
     "name": "stdout",
     "output_type": "stream",
     "text": [
      "epoch: 2, [batch: 1267 / 6333], examples_per_second: 4919.3818, train_label_loss: 0.0022, \n"
     ]
    },
    {
     "name": "stdout",
     "output_type": "stream",
     "text": [
      "epoch: 2, [batch: 1900 / 6333], examples_per_second: 5171.4787, train_label_loss: 0.0014, \n"
     ]
    },
    {
     "name": "stdout",
     "output_type": "stream",
     "text": [
      "epoch: 2, [batch: 2533 / 6333], examples_per_second: 5277.5059, train_label_loss: 0.0004, \n"
     ]
    },
    {
     "name": "stdout",
     "output_type": "stream",
     "text": [
      "epoch: 2, [batch: 3167 / 6333], examples_per_second: 5406.5307, train_label_loss: 0.0003, \n"
     ]
    },
    {
     "name": "stdout",
     "output_type": "stream",
     "text": [
      "epoch: 2, [batch: 3800 / 6333], examples_per_second: 4763.6917, train_label_loss: 0.0006, \n"
     ]
    },
    {
     "name": "stdout",
     "output_type": "stream",
     "text": [
      "epoch: 2, [batch: 4433 / 6333], examples_per_second: 5102.0860, train_label_loss: 0.0362, \n"
     ]
    },
    {
     "name": "stdout",
     "output_type": "stream",
     "text": [
      "epoch: 2, [batch: 5066 / 6333], examples_per_second: 4956.7382, train_label_loss: 0.0054, \n"
     ]
    },
    {
     "name": "stdout",
     "output_type": "stream",
     "text": [
      "epoch: 2, [batch: 5699 / 6333], examples_per_second: 5067.4299, train_label_loss: 0.0000, \n"
     ]
    },
    {
     "name": "stdout",
     "output_type": "stream",
     "text": [
      "=============================================================\n",
      "epoch: 2, source_val_acc_label: 0.9976, target_val_acc_label: 0.3466, source_val_label_loss: 0.0134, target_val_label_loss: 2.1071, \n",
      "=============================================================\n"
     ]
    },
    {
     "name": "stdout",
     "output_type": "stream",
     "text": [
      "New best\n"
     ]
    },
    {
     "name": "stdout",
     "output_type": "stream",
     "text": [
      "epoch: 3, [batch: 1 / 6305], examples_per_second: 4.1226, train_label_loss: 0.0038, \n"
     ]
    },
    {
     "name": "stdout",
     "output_type": "stream",
     "text": [
      "epoch: 3, [batch: 631 / 6305], examples_per_second: 3876.6228, train_label_loss: 0.0001, \n"
     ]
    },
    {
     "name": "stdout",
     "output_type": "stream",
     "text": [
      "epoch: 3, [batch: 1261 / 6305], examples_per_second: 3896.3357, train_label_loss: 0.0001, \n"
     ]
    },
    {
     "name": "stdout",
     "output_type": "stream",
     "text": [
      "epoch: 3, [batch: 1892 / 6305], examples_per_second: 3967.9837, train_label_loss: 0.0000, \n"
     ]
    },
    {
     "name": "stdout",
     "output_type": "stream",
     "text": [
      "epoch: 3, [batch: 2522 / 6305], examples_per_second: 3827.2002, train_label_loss: 0.1246, \n"
     ]
    },
    {
     "name": "stdout",
     "output_type": "stream",
     "text": [
      "epoch: 3, [batch: 3153 / 6305], examples_per_second: 3843.1306, train_label_loss: 0.0001, \n"
     ]
    },
    {
     "name": "stdout",
     "output_type": "stream",
     "text": [
      "epoch: 3, [batch: 3783 / 6305], examples_per_second: 3810.3681, train_label_loss: 0.0000, \n"
     ]
    },
    {
     "name": "stdout",
     "output_type": "stream",
     "text": [
      "epoch: 3, [batch: 4413 / 6305], examples_per_second: 3811.5175, train_label_loss: 0.0000, \n"
     ]
    },
    {
     "name": "stdout",
     "output_type": "stream",
     "text": [
      "epoch: 3, [batch: 5044 / 6305], examples_per_second: 4181.3385, train_label_loss: 0.0004, \n"
     ]
    },
    {
     "name": "stdout",
     "output_type": "stream",
     "text": [
      "epoch: 3, [batch: 5674 / 6305], examples_per_second: 4494.0304, train_label_loss: 0.0018, \n"
     ]
    },
    {
     "name": "stdout",
     "output_type": "stream",
     "text": [
      "=============================================================\n",
      "epoch: 3, source_val_acc_label: 0.9977, target_val_acc_label: 0.3147, source_val_label_loss: 0.0106, target_val_label_loss: 2.1426, \n",
      "=============================================================\n"
     ]
    },
    {
     "name": "stdout",
     "output_type": "stream",
     "text": [
      "epoch: 4, [batch: 1 / 6323], examples_per_second: 4.0754, train_label_loss: 0.0001, \n"
     ]
    },
    {
     "name": "stdout",
     "output_type": "stream",
     "text": [
      "epoch: 4, [batch: 633 / 6323], examples_per_second: 3813.2915, train_label_loss: 0.0024, \n"
     ]
    },
    {
     "name": "stdout",
     "output_type": "stream",
     "text": [
      "epoch: 4, [batch: 1265 / 6323], examples_per_second: 3999.6955, train_label_loss: 0.0001, \n"
     ]
    },
    {
     "name": "stdout",
     "output_type": "stream",
     "text": [
      "epoch: 4, [batch: 1897 / 6323], examples_per_second: 4048.8209, train_label_loss: 0.0000, \n"
     ]
    },
    {
     "name": "stdout",
     "output_type": "stream",
     "text": [
      "epoch: 4, [batch: 2529 / 6323], examples_per_second: 3898.7951, train_label_loss: 0.0000, \n"
     ]
    },
    {
     "name": "stdout",
     "output_type": "stream",
     "text": [
      "epoch: 4, [batch: 3162 / 6323], examples_per_second: 4001.7789, train_label_loss: 0.0000, \n"
     ]
    },
    {
     "name": "stdout",
     "output_type": "stream",
     "text": [
      "epoch: 4, [batch: 3794 / 6323], examples_per_second: 4003.3814, train_label_loss: 0.0000, \n"
     ]
    },
    {
     "name": "stdout",
     "output_type": "stream",
     "text": [
      "epoch: 4, [batch: 4426 / 6323], examples_per_second: 3989.5221, train_label_loss: 0.0017, \n"
     ]
    },
    {
     "name": "stdout",
     "output_type": "stream",
     "text": [
      "epoch: 4, [batch: 5058 / 6323], examples_per_second: 4207.8198, train_label_loss: 0.0003, \n"
     ]
    },
    {
     "name": "stdout",
     "output_type": "stream",
     "text": [
      "epoch: 4, [batch: 5690 / 6323], examples_per_second: 4655.2328, train_label_loss: 0.0000, \n"
     ]
    },
    {
     "name": "stdout",
     "output_type": "stream",
     "text": [
      "=============================================================\n",
      "epoch: 4, source_val_acc_label: 0.9985, target_val_acc_label: 0.3757, source_val_label_loss: 0.0075, target_val_label_loss: 1.7977, \n",
      "=============================================================\n"
     ]
    },
    {
     "name": "stdout",
     "output_type": "stream",
     "text": [
      "New best\n"
     ]
    },
    {
     "name": "stdout",
     "output_type": "stream",
     "text": [
      "epoch: 5, [batch: 1 / 6317], examples_per_second: 4.0991, train_label_loss: 0.0000, \n"
     ]
    },
    {
     "name": "stdout",
     "output_type": "stream",
     "text": [
      "epoch: 5, [batch: 632 / 6317], examples_per_second: 3897.9163, train_label_loss: 0.0001, \n"
     ]
    },
    {
     "name": "stdout",
     "output_type": "stream",
     "text": [
      "epoch: 5, [batch: 1264 / 6317], examples_per_second: 3880.7168, train_label_loss: 0.0001, \n"
     ]
    },
    {
     "name": "stdout",
     "output_type": "stream",
     "text": [
      "epoch: 5, [batch: 1895 / 6317], examples_per_second: 3854.5491, train_label_loss: 0.0000, \n"
     ]
    },
    {
     "name": "stdout",
     "output_type": "stream",
     "text": [
      "epoch: 5, [batch: 2527 / 6317], examples_per_second: 3885.7733, train_label_loss: 0.0000, \n"
     ]
    },
    {
     "name": "stdout",
     "output_type": "stream",
     "text": [
      "epoch: 5, [batch: 3159 / 6317], examples_per_second: 3985.9053, train_label_loss: 0.0000, \n"
     ]
    },
    {
     "name": "stdout",
     "output_type": "stream",
     "text": [
      "epoch: 5, [batch: 3790 / 6317], examples_per_second: 3811.8916, train_label_loss: 0.0000, \n"
     ]
    },
    {
     "name": "stdout",
     "output_type": "stream",
     "text": [
      "epoch: 5, [batch: 4422 / 6317], examples_per_second: 3949.2975, train_label_loss: 0.0000, \n"
     ]
    },
    {
     "name": "stdout",
     "output_type": "stream",
     "text": [
      "epoch: 5, [batch: 5053 / 6317], examples_per_second: 4345.3039, train_label_loss: 0.1232, \n"
     ]
    },
    {
     "name": "stdout",
     "output_type": "stream",
     "text": [
      "epoch: 5, [batch: 5685 / 6317], examples_per_second: 4695.9567, train_label_loss: 0.0000, \n"
     ]
    },
    {
     "name": "stdout",
     "output_type": "stream",
     "text": [
      "=============================================================\n",
      "epoch: 5, source_val_acc_label: 0.9981, target_val_acc_label: 0.3330, source_val_label_loss: 0.0084, target_val_label_loss: 2.0839, \n",
      "=============================================================\n"
     ]
    },
    {
     "name": "stdout",
     "output_type": "stream",
     "text": [
      "epoch: 6, [batch: 1 / 6329], examples_per_second: 4.1311, train_label_loss: 0.0000, \n"
     ]
    },
    {
     "name": "stdout",
     "output_type": "stream",
     "text": [
      "epoch: 6, [batch: 633 / 6329], examples_per_second: 3775.8314, train_label_loss: 0.0001, \n"
     ]
    },
    {
     "name": "stdout",
     "output_type": "stream",
     "text": [
      "epoch: 6, [batch: 1266 / 6329], examples_per_second: 3793.9826, train_label_loss: 0.0001, \n"
     ]
    },
    {
     "name": "stdout",
     "output_type": "stream",
     "text": [
      "epoch: 6, [batch: 1899 / 6329], examples_per_second: 3911.8205, train_label_loss: 0.0002, \n"
     ]
    },
    {
     "name": "stdout",
     "output_type": "stream",
     "text": [
      "epoch: 6, [batch: 2532 / 6329], examples_per_second: 3841.1984, train_label_loss: 0.0012, \n"
     ]
    },
    {
     "name": "stdout",
     "output_type": "stream",
     "text": [
      "epoch: 6, [batch: 3165 / 6329], examples_per_second: 3790.6288, train_label_loss: 0.0000, \n"
     ]
    },
    {
     "name": "stdout",
     "output_type": "stream",
     "text": [
      "epoch: 6, [batch: 3797 / 6329], examples_per_second: 3837.4546, train_label_loss: 0.0000, \n"
     ]
    },
    {
     "name": "stdout",
     "output_type": "stream",
     "text": [
      "epoch: 6, [batch: 4430 / 6329], examples_per_second: 3884.6341, train_label_loss: 0.0001, \n"
     ]
    },
    {
     "name": "stdout",
     "output_type": "stream",
     "text": [
      "epoch: 6, [batch: 5063 / 6329], examples_per_second: 4321.6617, train_label_loss: 0.0004, \n"
     ]
    },
    {
     "name": "stdout",
     "output_type": "stream",
     "text": [
      "epoch: 6, [batch: 5696 / 6329], examples_per_second: 4776.1933, train_label_loss: 0.0023, \n"
     ]
    },
    {
     "name": "stdout",
     "output_type": "stream",
     "text": [
      "=============================================================\n",
      "epoch: 6, source_val_acc_label: 0.9991, target_val_acc_label: 0.3917, source_val_label_loss: 0.0079, target_val_label_loss: 1.8602, \n",
      "=============================================================\n"
     ]
    },
    {
     "name": "stdout",
     "output_type": "stream",
     "text": [
      "New best\n"
     ]
    },
    {
     "name": "stdout",
     "output_type": "stream",
     "text": [
      "epoch: 7, [batch: 1 / 6316], examples_per_second: 4.0998, train_label_loss: 0.0000, \n"
     ]
    },
    {
     "name": "stdout",
     "output_type": "stream",
     "text": [
      "epoch: 7, [batch: 632 / 6316], examples_per_second: 3861.7157, train_label_loss: 0.0000, \n"
     ]
    },
    {
     "name": "stdout",
     "output_type": "stream",
     "text": [
      "epoch: 7, [batch: 1264 / 6316], examples_per_second: 3858.8275, train_label_loss: 0.0000, \n"
     ]
    },
    {
     "name": "stdout",
     "output_type": "stream",
     "text": [
      "epoch: 7, [batch: 1895 / 6316], examples_per_second: 3781.4038, train_label_loss: 0.0000, \n"
     ]
    },
    {
     "name": "stdout",
     "output_type": "stream",
     "text": [
      "epoch: 7, [batch: 2527 / 6316], examples_per_second: 3733.0597, train_label_loss: 0.0000, \n"
     ]
    },
    {
     "name": "stdout",
     "output_type": "stream",
     "text": [
      "epoch: 7, [batch: 3158 / 6316], examples_per_second: 3782.6496, train_label_loss: 0.0000, \n"
     ]
    },
    {
     "name": "stdout",
     "output_type": "stream",
     "text": [
      "epoch: 7, [batch: 3790 / 6316], examples_per_second: 3786.1042, train_label_loss: 0.0002, \n"
     ]
    },
    {
     "name": "stdout",
     "output_type": "stream",
     "text": [
      "epoch: 7, [batch: 4421 / 6316], examples_per_second: 4027.3117, train_label_loss: 0.0000, \n"
     ]
    },
    {
     "name": "stdout",
     "output_type": "stream",
     "text": [
      "epoch: 7, [batch: 5053 / 6316], examples_per_second: 4492.4517, train_label_loss: 0.0000, \n"
     ]
    },
    {
     "name": "stdout",
     "output_type": "stream",
     "text": [
      "epoch: 7, [batch: 5684 / 6316], examples_per_second: 4538.7417, train_label_loss: 0.0119, \n"
     ]
    },
    {
     "name": "stdout",
     "output_type": "stream",
     "text": [
      "=============================================================\n",
      "epoch: 7, source_val_acc_label: 0.9991, target_val_acc_label: 0.3483, source_val_label_loss: 0.0087, target_val_label_loss: 2.0805, \n",
      "=============================================================\n"
     ]
    },
    {
     "name": "stdout",
     "output_type": "stream",
     "text": [
      "epoch: 8, [batch: 1 / 6315], examples_per_second: 4.6020, train_label_loss: 0.0023, \n"
     ]
    },
    {
     "name": "stdout",
     "output_type": "stream",
     "text": [
      "epoch: 8, [batch: 632 / 6315], examples_per_second: 4240.1566, train_label_loss: 0.0000, \n"
     ]
    },
    {
     "name": "stdout",
     "output_type": "stream",
     "text": [
      "epoch: 8, [batch: 1263 / 6315], examples_per_second: 4266.1175, train_label_loss: 0.0000, \n"
     ]
    },
    {
     "name": "stdout",
     "output_type": "stream",
     "text": [
      "epoch: 8, [batch: 1895 / 6315], examples_per_second: 4150.4490, train_label_loss: 0.0001, \n"
     ]
    },
    {
     "name": "stdout",
     "output_type": "stream",
     "text": [
      "epoch: 8, [batch: 2526 / 6315], examples_per_second: 5008.1518, train_label_loss: 0.0000, \n"
     ]
    },
    {
     "name": "stdout",
     "output_type": "stream",
     "text": [
      "epoch: 8, [batch: 3158 / 6315], examples_per_second: 4838.0991, train_label_loss: 0.0000, \n"
     ]
    },
    {
     "name": "stdout",
     "output_type": "stream",
     "text": [
      "epoch: 8, [batch: 3789 / 6315], examples_per_second: 4963.6116, train_label_loss: 0.0000, \n"
     ]
    },
    {
     "name": "stdout",
     "output_type": "stream",
     "text": [
      "epoch: 8, [batch: 4420 / 6315], examples_per_second: 4837.1962, train_label_loss: 0.0000, \n"
     ]
    },
    {
     "name": "stdout",
     "output_type": "stream",
     "text": [
      "epoch: 8, [batch: 5052 / 6315], examples_per_second: 5073.4172, train_label_loss: 0.0001, \n"
     ]
    },
    {
     "name": "stdout",
     "output_type": "stream",
     "text": [
      "epoch: 8, [batch: 5683 / 6315], examples_per_second: 5290.5219, train_label_loss: 0.0003, \n"
     ]
    },
    {
     "name": "stdout",
     "output_type": "stream",
     "text": [
      "=============================================================\n",
      "epoch: 8, source_val_acc_label: 0.9994, target_val_acc_label: 0.3419, source_val_label_loss: 0.0057, target_val_label_loss: 2.2839, \n",
      "=============================================================\n"
     ]
    },
    {
     "name": "stdout",
     "output_type": "stream",
     "text": [
      "epoch: 9, [batch: 1 / 6317], examples_per_second: 5.5679, train_label_loss: 0.0000, \n"
     ]
    },
    {
     "name": "stdout",
     "output_type": "stream",
     "text": [
      "epoch: 9, [batch: 632 / 6317], examples_per_second: 5009.3750, train_label_loss: 0.0000, \n"
     ]
    },
    {
     "name": "stdout",
     "output_type": "stream",
     "text": [
      "epoch: 9, [batch: 1264 / 6317], examples_per_second: 5117.5054, train_label_loss: 0.0032, \n"
     ]
    },
    {
     "name": "stdout",
     "output_type": "stream",
     "text": [
      "epoch: 9, [batch: 1895 / 6317], examples_per_second: 5075.8207, train_label_loss: 0.0000, \n"
     ]
    },
    {
     "name": "stdout",
     "output_type": "stream",
     "text": [
      "epoch: 9, [batch: 2527 / 6317], examples_per_second: 5044.7442, train_label_loss: 0.0000, \n"
     ]
    },
    {
     "name": "stdout",
     "output_type": "stream",
     "text": [
      "epoch: 9, [batch: 3159 / 6317], examples_per_second: 4868.2639, train_label_loss: 0.0000, \n"
     ]
    },
    {
     "name": "stdout",
     "output_type": "stream",
     "text": [
      "epoch: 9, [batch: 3790 / 6317], examples_per_second: 5096.5405, train_label_loss: 0.0000, \n"
     ]
    },
    {
     "name": "stdout",
     "output_type": "stream",
     "text": [
      "epoch: 9, [batch: 4422 / 6317], examples_per_second: 5296.9165, train_label_loss: 0.0001, \n"
     ]
    },
    {
     "name": "stdout",
     "output_type": "stream",
     "text": [
      "epoch: 9, [batch: 5053 / 6317], examples_per_second: 5312.5492, train_label_loss: 0.0000, \n"
     ]
    },
    {
     "name": "stdout",
     "output_type": "stream",
     "text": [
      "epoch: 9, [batch: 5685 / 6317], examples_per_second: 5132.7731, train_label_loss: 0.0000, \n"
     ]
    },
    {
     "name": "stdout",
     "output_type": "stream",
     "text": [
      "=============================================================\n",
      "epoch: 9, source_val_acc_label: 0.9989, target_val_acc_label: 0.3479, source_val_label_loss: 0.0084, target_val_label_loss: 2.3761, \n",
      "=============================================================\n"
     ]
    },
    {
     "name": "stdout",
     "output_type": "stream",
     "text": [
      "epoch: 10, [batch: 1 / 6296], examples_per_second: 4.2111, train_label_loss: 0.0000, \n"
     ]
    },
    {
     "name": "stdout",
     "output_type": "stream",
     "text": [
      "epoch: 10, [batch: 630 / 6296], examples_per_second: 3800.3479, train_label_loss: 0.0000, \n"
     ]
    },
    {
     "name": "stdout",
     "output_type": "stream",
     "text": [
      "epoch: 10, [batch: 1260 / 6296], examples_per_second: 3766.7000, train_label_loss: 0.0000, \n"
     ]
    },
    {
     "name": "stdout",
     "output_type": "stream",
     "text": [
      "epoch: 10, [batch: 1889 / 6296], examples_per_second: 3796.5855, train_label_loss: 0.0000, \n"
     ]
    },
    {
     "name": "stdout",
     "output_type": "stream",
     "text": [
      "epoch: 10, [batch: 2519 / 6296], examples_per_second: 3739.4170, train_label_loss: 0.0000, \n"
     ]
    },
    {
     "name": "stdout",
     "output_type": "stream",
     "text": [
      "epoch: 10, [batch: 3148 / 6296], examples_per_second: 3783.5057, train_label_loss: 0.0000, \n"
     ]
    },
    {
     "name": "stdout",
     "output_type": "stream",
     "text": [
      "epoch: 10, [batch: 3778 / 6296], examples_per_second: 3787.2129, train_label_loss: 0.0001, \n"
     ]
    },
    {
     "name": "stdout",
     "output_type": "stream",
     "text": [
      "epoch: 10, [batch: 4407 / 6296], examples_per_second: 3780.0816, train_label_loss: 0.0000, \n"
     ]
    },
    {
     "name": "stdout",
     "output_type": "stream",
     "text": [
      "epoch: 10, [batch: 5037 / 6296], examples_per_second: 4365.2133, train_label_loss: 0.0018, \n"
     ]
    },
    {
     "name": "stdout",
     "output_type": "stream",
     "text": [
      "epoch: 10, [batch: 5666 / 6296], examples_per_second: 4456.1779, train_label_loss: 0.0000, \n"
     ]
    },
    {
     "name": "stdout",
     "output_type": "stream",
     "text": [
      "=============================================================\n",
      "epoch: 10, source_val_acc_label: 0.9993, target_val_acc_label: 0.3274, source_val_label_loss: 0.0076, target_val_label_loss: 2.5756, \n",
      "=============================================================\n"
     ]
    },
    {
     "name": "stdout",
     "output_type": "stream",
     "text": [
      "Patience (3) exhausted\n"
     ]
    }
   ],
   "source": [
    "###################################\n",
    "# train\n",
    "###################################\n",
    "jig = PTN_Train_Eval_Test_Jig(model, p.BEST_MODEL_PATH, p.device)\n",
    "\n",
    "jig.train(\n",
    "    train_iterable=datasets.source.processed.train,\n",
    "    source_val_iterable=datasets.source.processed.val,\n",
    "    target_val_iterable=datasets.target.processed.val,\n",
    "    num_epochs=p.n_epoch,\n",
    "    num_logs_per_epoch=p.NUM_LOGS_PER_EPOCH,\n",
    "    patience=p.patience,\n",
    "    optimizer=optimizer,\n",
    "    criteria_for_best=p.criteria_for_best,\n",
    ")"
   ]
  },
  {
   "cell_type": "code",
   "execution_count": 23,
   "id": "31e8fabf",
   "metadata": {
    "execution": {
     "iopub.execute_input": "2022-03-28T08:03:45.834271Z",
     "iopub.status.busy": "2022-03-28T08:03:45.833903Z",
     "iopub.status.idle": "2022-03-28T08:03:45.867373Z",
     "shell.execute_reply": "2022-03-28T08:03:45.866685Z"
    },
    "papermill": {
     "duration": 0.090506,
     "end_time": "2022-03-28T08:03:45.867550",
     "exception": false,
     "start_time": "2022-03-28T08:03:45.777044",
     "status": "completed"
    },
    "tags": []
   },
   "outputs": [],
   "source": [
    "total_experiment_time_secs = time.time() - start_time_secs"
   ]
  },
  {
   "cell_type": "code",
   "execution_count": 24,
   "id": "87b9595b",
   "metadata": {
    "execution": {
     "iopub.execute_input": "2022-03-28T08:03:45.985843Z",
     "iopub.status.busy": "2022-03-28T08:03:45.983436Z",
     "iopub.status.idle": "2022-03-28T08:06:32.566464Z",
     "shell.execute_reply": "2022-03-28T08:06:32.565733Z"
    },
    "papermill": {
     "duration": 166.643311,
     "end_time": "2022-03-28T08:06:32.566648",
     "exception": false,
     "start_time": "2022-03-28T08:03:45.923337",
     "status": "completed"
    },
    "tags": []
   },
   "outputs": [],
   "source": [
    "###################################\n",
    "# Evaluate the model\n",
    "###################################\n",
    "source_test_label_accuracy, source_test_label_loss = jig.test(datasets.source.processed.test)\n",
    "target_test_label_accuracy, target_test_label_loss = jig.test(datasets.target.processed.test)\n",
    "\n",
    "source_val_label_accuracy, source_val_label_loss = jig.test(datasets.source.processed.val)\n",
    "target_val_label_accuracy, target_val_label_loss = jig.test(datasets.target.processed.val)\n",
    "\n",
    "history = jig.get_history()\n",
    "\n",
    "total_epochs_trained = len(history[\"epoch_indices\"])\n",
    "\n",
    "val_dl = Iterable_Aggregator((datasets.source.original.val,datasets.target.original.val))\n",
    "\n",
    "confusion = ptn_confusion_by_domain_over_dataloader(model, p.device, val_dl)\n",
    "per_domain_accuracy = per_domain_accuracy_from_confusion(confusion)\n",
    "\n",
    "# Add a key to per_domain_accuracy for if it was a source domain\n",
    "for domain, accuracy in per_domain_accuracy.items():\n",
    "    per_domain_accuracy[domain] = {\n",
    "        \"accuracy\": accuracy,\n",
    "        \"source?\": domain in p.domains_source\n",
    "    }\n",
    "\n",
    "# Do an independent accuracy assesment JUST TO BE SURE!\n",
    "# _source_test_label_accuracy = independent_accuracy_assesment(model, datasets.source.processed.test, p.device)\n",
    "# _target_test_label_accuracy = independent_accuracy_assesment(model, datasets.target.processed.test, p.device)\n",
    "# _source_val_label_accuracy = independent_accuracy_assesment(model, datasets.source.processed.val, p.device)\n",
    "# _target_val_label_accuracy = independent_accuracy_assesment(model, datasets.target.processed.val, p.device)\n",
    "\n",
    "# assert(_source_test_label_accuracy == source_test_label_accuracy)\n",
    "# assert(_target_test_label_accuracy == target_test_label_accuracy)\n",
    "# assert(_source_val_label_accuracy == source_val_label_accuracy)\n",
    "# assert(_target_val_label_accuracy == target_val_label_accuracy)\n",
    "\n",
    "experiment = {\n",
    "    \"experiment_name\": p.experiment_name,\n",
    "    \"parameters\": dict(p),\n",
    "    \"results\": {\n",
    "        \"source_test_label_accuracy\": source_test_label_accuracy,\n",
    "        \"source_test_label_loss\": source_test_label_loss,\n",
    "        \"target_test_label_accuracy\": target_test_label_accuracy,\n",
    "        \"target_test_label_loss\": target_test_label_loss,\n",
    "        \"source_val_label_accuracy\": source_val_label_accuracy,\n",
    "        \"source_val_label_loss\": source_val_label_loss,\n",
    "        \"target_val_label_accuracy\": target_val_label_accuracy,\n",
    "        \"target_val_label_loss\": target_val_label_loss,\n",
    "        \"total_epochs_trained\": total_epochs_trained,\n",
    "        \"total_experiment_time_secs\": total_experiment_time_secs,\n",
    "        \"confusion\": confusion,\n",
    "        \"per_domain_accuracy\": per_domain_accuracy,\n",
    "    },\n",
    "    \"history\": history,\n",
    "    \"dataset_metrics\": get_dataset_metrics(datasets, \"ptn\"),\n",
    "}"
   ]
  },
  {
   "cell_type": "code",
   "execution_count": 25,
   "id": "54a21829",
   "metadata": {
    "execution": {
     "iopub.execute_input": "2022-03-28T08:06:32.682202Z",
     "iopub.status.busy": "2022-03-28T08:06:32.681747Z",
     "iopub.status.idle": "2022-03-28T08:06:32.898604Z",
     "shell.execute_reply": "2022-03-28T08:06:32.899299Z"
    },
    "papermill": {
     "duration": 0.274,
     "end_time": "2022-03-28T08:06:32.899508",
     "exception": false,
     "start_time": "2022-03-28T08:06:32.625508",
     "status": "completed"
    },
    "tags": []
   },
   "outputs": [
    {
     "data": {
      "image/png": "[encoded data removed]",
      "text/plain": [
       "<Figure size 1080x504 with 1 Axes>"
      ]
     },
     "metadata": {
      "needs_background": "light"
     },
     "output_type": "display_data"
    }
   ],
   "source": [
    "ax = get_loss_curve(experiment)\n",
    "plt.show()"
   ]
  },
  {
   "cell_type": "code",
   "execution_count": 26,
   "id": "fd8a0f60",
   "metadata": {
    "execution": {
     "iopub.execute_input": "2022-03-28T08:06:33.014184Z",
     "iopub.status.busy": "2022-03-28T08:06:33.013627Z",
     "iopub.status.idle": "2022-03-28T08:06:33.374811Z",
     "shell.execute_reply": "2022-03-28T08:06:33.375132Z"
    },
    "papermill": {
     "duration": 0.418088,
     "end_time": "2022-03-28T08:06:33.375231",
     "exception": false,
     "start_time": "2022-03-28T08:06:32.957143",
     "status": "completed"
    },
    "tags": []
   },
   "outputs": [
    {
     "data": {
      "text/plain": [
       "<AxesSubplot:title={'center':'Results'}>"
      ]
     },
     "execution_count": 26,
     "metadata": {},
     "output_type": "execute_result"
    },
    {
     "data": {
      "image/png": "[encoded data removed]",
      "text/plain": [
       "<Figure size 1080x504 with 1 Axes>"
      ]
     },
     "metadata": {
      "needs_background": "light"
     },
     "output_type": "display_data"
    }
   ],
   "source": [
    "get_results_table(experiment)"
   ]
  },
  {
   "cell_type": "code",
   "execution_count": 27,
   "id": "cf8dc689",
   "metadata": {
    "execution": {
     "iopub.execute_input": "2022-03-28T08:06:33.490419Z",
     "iopub.status.busy": "2022-03-28T08:06:33.490047Z",
     "iopub.status.idle": "2022-03-28T08:06:33.727958Z",
     "shell.execute_reply": "2022-03-28T08:06:33.728690Z"
    },
    "papermill": {
     "duration": 0.297025,
     "end_time": "2022-03-28T08:06:33.728910",
     "exception": false,
     "start_time": "2022-03-28T08:06:33.431885",
     "status": "completed"
    },
    "tags": []
   },
   "outputs": [
    {
     "data": {
      "text/plain": [
       "<AxesSubplot:title={'center':'Per Domain Validation Accuracy'}, xlabel='domain'>"
      ]
     },
     "execution_count": 27,
     "metadata": {},
     "output_type": "execute_result"
    },
    {
     "data": {
      "image/png": "[encoded data removed]",
      "text/plain": [
       "<Figure size 1080x504 with 1 Axes>"
      ]
     },
     "metadata": {
      "needs_background": "light"
     },
     "output_type": "display_data"
    }
   ],
   "source": [
    "get_domain_accuracies(experiment)"
   ]
  },
  {
   "cell_type": "code",
   "execution_count": 28,
   "id": "a74ae082",
   "metadata": {
    "execution": {
     "iopub.execute_input": "2022-03-28T08:06:33.849766Z",
     "iopub.status.busy": "2022-03-28T08:06:33.849393Z",
     "iopub.status.idle": "2022-03-28T08:06:33.876067Z",
     "shell.execute_reply": "2022-03-28T08:06:33.876706Z"
    },
    "papermill": {
     "duration": 0.08723,
     "end_time": "2022-03-28T08:06:33.876917",
     "exception": false,
     "start_time": "2022-03-28T08:06:33.789687",
     "status": "completed"
    },
    "tags": []
   },
   "outputs": [
    {
     "name": "stdout",
     "output_type": "stream",
     "text": [
      "Source Test Label Accuracy: 0.9993351063829787 Target Test Label Accuracy: 0.3907552083333333\n",
      "Source Val Label Accuracy: 0.9990703661327232 Target Val Label Accuracy: 0.39166666666666666\n"
     ]
    }
   ],
   "source": [
    "print(\"Source Test Label Accuracy:\", experiment[\"results\"][\"source_test_label_accuracy\"], \"Target Test Label Accuracy:\", experiment[\"results\"][\"target_test_label_accuracy\"])\n",
    "print(\"Source Val Label Accuracy:\", experiment[\"results\"][\"source_val_label_accuracy\"], \"Target Val Label Accuracy:\", experiment[\"results\"][\"target_val_label_accuracy\"])"
   ]
  },
  {
   "cell_type": "code",
   "execution_count": 29,
   "id": "dacca602",
   "metadata": {
    "execution": {
     "iopub.execute_input": "2022-03-28T08:06:34.045454Z",
     "iopub.status.busy": "2022-03-28T08:06:34.045065Z",
     "iopub.status.idle": "2022-03-28T08:06:34.069694Z",
     "shell.execute_reply": "2022-03-28T08:06:34.070385Z"
    },
    "papermill": {
     "duration": 0.130727,
     "end_time": "2022-03-28T08:06:34.070584",
     "exception": false,
     "start_time": "2022-03-28T08:06:33.939857",
     "status": "completed"
    },
    "tags": [
     "experiment_json"
    ]
   },
   "outputs": [
    {
     "data": {
      "text/plain": [
       "'{\"experiment_name\": \"tl_3-jitter10v2:cores -> oracle.run1.framed\", \"parameters\": {\"experiment_name\": \"tl_3-jitter10v2:cores -> oracle.run1.framed\", \"device\": \"cuda\", \"lr\": 0.0001, \"x_shape\": [2, 256], \"n_shot\": 3, \"n_query\": 2, \"train_k_factor\": 3, \"val_k_factor\": 2, \"test_k_factor\": 2, \"torch_default_dtype\": \"torch.float32\", \"n_epoch\": 50, \"patience\": 3, \"criteria_for_best\": \"target_accuracy\", \"x_net\": [{\"class\": \"nnReshape\", \"kargs\": {\"shape\": [-1, 1, 2, 256]}}, {\"class\": \"Conv2d\", \"kargs\": {\"in_channels\": 1, \"out_channels\": 256, \"kernel_size\": [1, 7], \"bias\": false, \"padding\": [0, 3]}}, {\"class\": \"ReLU\", \"kargs\": {\"inplace\": true}}, {\"class\": \"BatchNorm2d\", \"kargs\": {\"num_features\": 256}}, {\"class\": \"Conv2d\", \"kargs\": {\"in_channels\": 256, \"out_channels\": 80, \"kernel_size\": [2, 7], \"bias\": true, \"padding\": [0, 3]}}, {\"class\": \"ReLU\", \"kargs\": {\"inplace\": true}}, {\"class\": \"BatchNorm2d\", \"kargs\": {\"num_features\": 80}}, {\"class\": \"Flatten\", \"kargs\": {}}, {\"class\": \"Linear\", \"kargs\": {\"in_features\": 20480, \"out_features\": 256}}, {\"class\": \"ReLU\", \"kargs\": {\"inplace\": true}}, {\"class\": \"BatchNorm1d\", \"kargs\": {\"num_features\": 256}}, {\"class\": \"Linear\", \"kargs\": {\"in_features\": 256, \"out_features\": 256}}], \"NUM_LOGS_PER_EPOCH\": 10, \"BEST_MODEL_PATH\": \"./best_model.pth\", \"n_way\": 16, \"datasets\": [{\"labels\": [\"1-10.\", \"1-11.\", \"1-15.\", \"1-16.\", \"1-17.\", \"1-18.\", \"1-19.\", \"10-4.\", \"10-7.\", \"11-1.\", \"11-14.\", \"11-17.\", \"11-20.\", \"11-7.\", \"13-20.\", \"13-8.\", \"14-10.\", \"14-11.\", \"14-14.\", \"14-7.\", \"15-1.\", \"15-20.\", \"16-1.\", \"16-16.\", \"17-10.\", \"17-11.\", \"17-2.\", \"19-1.\", \"19-16.\", \"19-19.\", \"19-20.\", \"19-3.\", \"2-10.\", \"2-11.\", \"2-17.\", \"2-18.\", \"2-20.\", \"2-3.\", \"2-4.\", \"2-5.\", \"2-6.\", \"2-7.\", \"2-8.\", \"3-13.\", \"3-18.\", \"3-3.\", \"4-1.\", \"4-10.\", \"4-11.\", \"4-19.\", \"5-5.\", \"6-15.\", \"7-10.\", \"7-14.\", \"8-18.\", \"8-20.\", \"8-3.\", \"8-8.\"], \"domains\": [1, 2, 3, 4, 5], \"num_examples_per_domain_per_label\": -1, \"pickle_path\": \"/root/csc500-main/datasets/cores.stratified_ds.2022A.pkl\", \"source_or_target_dataset\": \"source\", \"x_transforms\": [\"unit_power\", \"jitter_256_10\", \"lowpass_+/-10MHz\", \"take_200\"], \"episode_transforms\": [], \"domain_prefix\": \"C_\"}, {\"labels\": [\"3123D52\", \"3123D65\", \"3123D79\", \"3123D80\", \"3123D54\", \"3123D70\", \"3123D7B\", \"3123D89\", \"3123D58\", \"3123D76\", \"3123D7D\", \"3123EFE\", \"3123D64\", \"3123D78\", \"3123D7E\", \"3124E4A\"], \"domains\": [32, 38, 8, 44, 14, 50, 20, 26], \"num_examples_per_domain_per_label\": 2000, \"pickle_path\": \"/root/csc500-main/datasets/oracle.Run1_framed_2000Examples_stratified_ds.2022A.pkl\", \"source_or_target_dataset\": \"target\", \"x_transforms\": [\"unit_power\", \"jitter_256_10\", \"take_200\", \"resample_20Msps_to_25Msps\"], \"episode_transforms\": [], \"domain_prefix\": \"O_\"}], \"seed\": 154325, \"dataset_seed\": 154325, \"domains_source\": [\"C_1\", \"C_2\", \"C_3\", \"C_4\", \"C_5\"], \"domains_target\": [\"O_32\", \"O_38\", \"O_8\", \"O_44\", \"O_14\", \"O_50\", \"O_20\", \"O_26\"]}, \"results\": {\"source_test_label_accuracy\": 0.9993351063829787, \"source_test_label_loss\": 0.004568352364003658, \"target_test_label_accuracy\": 0.3907552083333333, \"target_test_label_loss\": 1.8578826189041138, \"source_val_label_accuracy\": 0.9990703661327232, \"source_val_label_loss\": 0.00794410053640604, \"target_val_label_accuracy\": 0.39166666666666666, \"target_val_label_loss\": 1.8601703643798828, \"total_epochs_trained\": 10, \"total_experiment_time_secs\": 1544.6286149024963, \"confusion\": {\"C_2\": {\"21\": {\"21\": 120}, \"4\": {\"4\": 130}, \"6\": {\"6\": 124}, \"10\": {\"10\": 112}, \"33\": {\"33\": 28}, \"56\": {\"56\": 122}, \"20\": {\"20\": 132}, \"24\": {\"24\": 96}, \"45\": {\"45\": 127, \"17\": 1}, \"32\": {\"32\": 28}, \"27\": {\"27\": 148}, \"53\": {\"53\": 136}, \"8\": {\"8\": 160}, \"54\": {\"54\": 108}, \"50\": {\"50\": 134}, \"44\": {\"44\": 100}, \"5\": {\"5\": 120}, \"38\": {\"38\": 20}, \"19\": {\"19\": 132}, \"1\": {\"1\": 112}, \"30\": {\"30\": 144}, \"15\": {\"15\": 144}, \"23\": {\"23\": 146}, \"35\": {\"35\": 32}, \"22\": {\"22\": 128}, \"40\": {\"40\": 140}, \"46\": {\"46\": 126}, \"3\": {\"3\": 92}, \"48\": {\"48\": 148}, \"52\": {\"52\": 124}, \"2\": {\"2\": 32}, \"26\": {\"26\": 24}, \"17\": {\"17\": 104}, \"55\": {\"55\": 144}, \"51\": {\"51\": 122}, \"42\": {\"42\": 36}, \"41\": {\"41\": 20}, \"31\": {\"31\": 28}, \"16\": {\"16\": 138}, \"36\": {\"36\": 116}, \"49\": {\"49\": 24}, \"0\": {\"0\": 48}, \"18\": {\"18\": 48}, \"25\": {\"25\": 146}, \"9\": {\"9\": 122}, \"47\": {\"47\": 132}, \"7\": {\"7\": 36}, \"37\": {\"37\": 36}, \"13\": {\"13\": 116}, \"14\": {\"14\": 24}, \"34\": {\"34\": 28}, \"57\": {\"57\": 140}, \"11\": {\"11\": 138}, \"39\": {\"39\": 28}, \"12\": {\"12\": 92}, \"28\": {\"28\": 28}, \"29\": {\"29\": 128}, \"43\": {\"43\": 140}}, \"C_5\": {\"12\": {\"12\": 96}, \"8\": {\"8\": 142}, \"29\": {\"29\": 132}, \"57\": {\"57\": 126}, \"38\": {\"38\": 32}, \"23\": {\"23\": 124}, \"56\": {\"56\": 138}, \"49\": {\"49\": 36}, \"4\": {\"4\": 100}, \"48\": {\"48\": 136}, \"21\": {\"21\": 144}, \"30\": {\"30\": 128}, \"1\": {\"1\": 148}, \"34\": {\"34\": 36}, \"35\": {\"35\": 36}, \"55\": {\"55\": 152}, \"5\": {\"5\": 122}, \"52\": {\"52\": 126}, \"6\": {\"6\": 126, \"17\": 2}, \"36\": {\"36\": 92}, \"41\": {\"41\": 28}, \"3\": {\"3\": 100}, \"28\": {\"28\": 32}, \"18\": {\"18\": 64}, \"25\": {\"25\": 136}, \"47\": {\"47\": 100}, \"13\": {\"13\": 160}, \"11\": {\"11\": 144}, \"53\": {\"53\": 144}, \"33\": {\"33\": 32}, \"46\": {\"46\": 148}, \"50\": {\"18\": 4, \"50\": 141, \"8\": 2, \"25\": 1}, \"10\": {\"10\": 68}, \"15\": {\"15\": 138}, \"44\": {\"44\": 140}, \"2\": {\"2\": 28}, \"7\": {\"7\": 32}, \"43\": {\"43\": 138}, \"32\": {\"32\": 32}, \"0\": {\"0\": 124}, \"39\": {\"39\": 20}, \"26\": {\"26\": 24}, \"27\": {\"27\": 112}, \"54\": {\"54\": 112}, \"17\": {\"17\": 116}, \"14\": {\"14\": 44}, \"16\": {\"16\": 148}, \"9\": {\"9\": 148}, \"19\": {\"19\": 152}, \"20\": {\"20\": 138}, \"37\": {\"37\": 24}, \"24\": {\"24\": 80}, \"40\": {\"40\": 122}, \"45\": {\"45\": 123, \"55\": 1}, \"22\": {\"22\": 28}, \"42\": {\"42\": 38, \"56\": 1, \"43\": 1}, \"51\": {\"51\": 118}, \"31\": {\"31\": 36}}, \"C_1\": {\"27\": {\"27\": 142}, \"2\": {\"2\": 36}, \"33\": {\"33\": 32}, \"45\": {\"45\": 156}, \"38\": {\"38\": 24}, \"4\": {\"4\": 132}, \"31\": {\"31\": 28}, \"55\": {\"55\": 140}, \"32\": {\"32\": 32}, \"57\": {\"57\": 140}, \"14\": {\"14\": 24}, \"16\": {\"16\": 140}, \"34\": {\"34\": 24}, \"56\": {\"56\": 126}, \"24\": {\"24\": 108}, \"30\": {\"30\": 112}, \"17\": {\"17\": 64}, \"13\": {\"13\": 138}, \"39\": {\"39\": 28}, \"50\": {\"50\": 146}, \"20\": {\"20\": 140}, \"41\": {\"41\": 24}, \"53\": {\"53\": 126}, \"48\": {\"48\": 142}, \"36\": {\"36\": 64}, \"8\": {\"8\": 140}, \"15\": {\"15\": 132}, \"40\": {\"40\": 156}, \"37\": {\"37\": 32}, \"21\": {\"21\": 120}, \"35\": {\"35\": 36}, \"49\": {\"49\": 32}, \"26\": {\"26\": 24}, \"28\": {\"28\": 28}, \"12\": {\"12\": 116}, \"5\": {\"5\": 152}, \"29\": {\"29\": 140}, \"47\": {\"47\": 140}, \"10\": {\"10\": 96}, \"18\": {\"18\": 71, \"48\": 1}, \"9\": {\"9\": 126}, \"3\": {\"3\": 140}, \"52\": {\"52\": 132}, \"25\": {\"25\": 136}, \"19\": {\"19\": 156}, \"11\": {\"11\": 134, \"15\": 2}, \"7\": {\"7\": 28}, \"23\": {\"23\": 136}, \"44\": {\"44\": 132}, \"42\": {\"42\": 40}, \"54\": {\"54\": 104}, \"1\": {\"1\": 100}, \"46\": {\"46\": 128}, \"6\": {\"6\": 96}, \"43\": {\"43\": 144}, \"51\": {\"51\": 142}, \"22\": {\"22\": 135, \"24\": 1}, \"0\": {\"0\": 128}}, \"C_4\": {\"32\": {\"32\": 24}, \"2\": {\"2\": 36}, \"41\": {\"41\": 36}, \"11\": {\"11\": 102}, \"57\": {\"57\": 100}, \"6\": {\"6\": 111, \"53\": 1}, \"23\": {\"23\": 136}, \"52\": {\"52\": 116}, \"38\": {\"38\": 40}, \"50\": {\"50\": 132}, \"55\": {\"55\": 152}, \"46\": {\"46\": 153, \"47\": 1}, \"37\": {\"37\": 24}, \"20\": {\"20\": 118}, \"49\": {\"49\": 20}, \"45\": {\"45\": 96}, \"54\": {\"54\": 108}, \"3\": {\"3\": 124}, \"13\": {\"13\": 152}, \"18\": {\"18\": 108}, \"21\": {\"21\": 126}, \"43\": {\"43\": 144}, \"47\": {\"47\": 120}, \"4\": {\"4\": 132}, \"12\": {\"12\": 92}, \"9\": {\"9\": 128}, \"7\": {\"7\": 24}, \"56\": {\"56\": 112}, \"28\": {\"28\": 32}, \"44\": {\"44\": 132}, \"24\": {\"24\": 56}, \"33\": {\"33\": 36}, \"35\": {\"35\": 40}, \"51\": {\"51\": 138}, \"39\": {\"39\": 20}, \"36\": {\"36\": 92}, \"19\": {\"19\": 140}, \"0\": {\"0\": 80}, \"15\": {\"15\": 136}, \"29\": {\"29\": 124}, \"30\": {\"30\": 44}, \"1\": {\"1\": 40}, \"22\": {\"22\": 128}, \"40\": {\"40\": 146}, \"8\": {\"8\": 128}, \"53\": {\"53\": 138}, \"34\": {\"34\": 24}, \"10\": {\"10\": 122}, \"31\": {\"31\": 28}, \"17\": {\"17\": 80}, \"16\": {\"16\": 96}, \"42\": {\"42\": 32}, \"27\": {\"27\": 142}, \"14\": {\"14\": 16}, \"25\": {\"25\": 122}, \"48\": {\"48\": 132}, \"26\": {\"26\": 24}, \"5\": {\"5\": 105, \"18\": 2, \"15\": 1}}, \"C_3\": {\"14\": {\"14\": 38, \"0\": 2}, \"18\": {\"18\": 84}, \"30\": {\"30\": 120}, \"16\": {\"16\": 156}, \"1\": {\"1\": 100}, \"20\": {\"20\": 132}, \"7\": {\"7\": 36}, \"52\": {\"52\": 130}, \"9\": {\"9\": 140}, \"23\": {\"23\": 144}, \"55\": {\"55\": 164}, \"29\": {\"29\": 126}, \"56\": {\"56\": 134}, \"3\": {\"3\": 123, \"25\": 1}, \"42\": {\"42\": 28}, \"6\": {\"6\": 87, \"12\": 1}, \"5\": {\"5\": 116}, \"27\": {\"27\": 144}, \"47\": {\"47\": 92}, \"39\": {\"39\": 16}, \"34\": {\"34\": 32}, \"4\": {\"4\": 126}, \"24\": {\"24\": 104}, \"46\": {\"46\": 118}, \"50\": {\"50\": 126}, \"38\": {\"38\": 28}, \"54\": {\"54\": 100}, \"35\": {\"35\": 28}, \"2\": {\"2\": 32}, \"41\": {\"41\": 28}, \"57\": {\"57\": 118}, \"25\": {\"25\": 150}, \"48\": {\"48\": 116}, \"33\": {\"33\": 28}, \"45\": {\"45\": 60}, \"13\": {\"13\": 126}, \"36\": {\"36\": 100}, \"43\": {\"43\": 132}, \"28\": {\"28\": 28}, \"0\": {\"0\": 124}, \"12\": {\"12\": 92}, \"31\": {\"31\": 28}, \"40\": {\"40\": 116}, \"44\": {\"44\": 88}, \"32\": {\"32\": 28}, \"26\": {\"26\": 24}, \"8\": {\"8\": 116}, \"10\": {\"10\": 64}, \"15\": {\"15\": 142}, \"21\": {\"21\": 128}, \"37\": {\"37\": 28}, \"17\": {\"17\": 108}, \"51\": {\"51\": 124}, \"53\": {\"53\": 144}, \"19\": {\"19\": 136}, \"49\": {\"49\": 20}, \"11\": {\"11\": 138}, \"22\": {\"22\": 130}}, \"O_8\": {\"13\": {\"0\": 31, \"14\": 23, \"4\": 30, \"10\": 45, \"1\": 7, \"7\": 23, \"6\": 21, \"13\": 45, \"5\": 8, \"8\": 3, \"11\": 2, \"15\": 2}, \"9\": {\"9\": 236, \"5\": 4}, \"15\": {\"2\": 26, \"12\": 58, \"15\": 55, \"3\": 21, \"8\": 41, \"7\": 15, \"6\": 11, \"14\": 1, \"4\": 4, \"0\": 4, \"13\": 1, \"11\": 3}, \"2\": {\"7\": 23, \"12\": 22, \"3\": 66, \"2\": 86, \"15\": 13, \"8\": 4, \"4\": 3, \"0\": 8, \"6\": 12, \"13\": 2, \"10\": 1}, \"3\": {\"2\": 62, \"12\": 29, \"3\": 101, \"15\": 28, \"8\": 8, \"7\": 10, \"11\": 1, \"0\": 1}, \"8\": {\"12\": 16, \"8\": 78, \"6\": 19, \"15\": 39, \"4\": 15, \"7\": 13, \"14\": 9, \"1\": 23, \"11\": 12, \"13\": 4, \"0\": 6, \"2\": 3, \"10\": 1, \"3\": 2}, \"5\": {\"1\": 32, \"5\": 84, \"14\": 35, \"11\": 18, \"10\": 43, \"13\": 9, \"9\": 6, \"0\": 2, \"4\": 9, \"8\": 2}, \"14\": {\"10\": 34, \"8\": 12, \"14\": 38, \"15\": 2, \"1\": 24, \"6\": 14, \"5\": 30, \"4\": 28, \"13\": 19, \"7\": 11, \"0\": 16, \"11\": 11, \"12\": 1}, \"1\": {\"14\": 20, \"11\": 66, \"5\": 28, \"6\": 7, \"1\": 67, \"0\": 3, \"10\": 21, \"4\": 8, \"8\": 11, \"13\": 6, \"7\": 3}, \"0\": {\"7\": 32, \"0\": 52, \"14\": 18, \"1\": 3, \"4\": 33, \"6\": 31, \"13\": 31, \"2\": 6, \"10\": 22, \"5\": 4, \"8\": 4, \"12\": 2, \"15\": 1, \"3\": 1}, \"10\": {\"13\": 37, \"1\": 21, \"0\": 17, \"14\": 30, \"5\": 34, \"6\": 13, \"8\": 10, \"10\": 39, \"4\": 31, \"12\": 1, \"11\": 4, \"7\": 3}, \"6\": {\"12\": 4, \"13\": 27, \"6\": 43, \"11\": 4, \"7\": 37, \"15\": 10, \"14\": 11, \"4\": 30, \"10\": 14, \"1\": 6, \"2\": 4, \"8\": 14, \"0\": 30, \"5\": 3, \"3\": 3}, \"11\": {\"4\": 8, \"14\": 17, \"1\": 63, \"11\": 91, \"5\": 22, \"8\": 16, \"0\": 2, \"10\": 9, \"13\": 4, \"12\": 2, \"6\": 4, \"7\": 2}, \"7\": {\"13\": 23, \"0\": 37, \"6\": 37, \"2\": 24, \"7\": 45, \"12\": 6, \"8\": 15, \"14\": 8, \"15\": 11, \"4\": 23, \"5\": 1, \"3\": 6, \"1\": 1, \"10\": 2, \"11\": 1}, \"4\": {\"5\": 11, \"14\": 25, \"6\": 21, \"2\": 5, \"4\": 37, \"1\": 8, \"10\": 35, \"13\": 25, \"0\": 32, \"15\": 4, \"11\": 9, \"8\": 7, \"7\": 21}, \"12\": {\"12\": 83, \"8\": 19, \"3\": 40, \"15\": 56, \"2\": 34, \"7\": 2, \"6\": 2, \"11\": 1, \"1\": 1, \"0\": 1, \"4\": 1}}, \"O_38\": {\"13\": {\"15\": 45, \"13\": 93, \"2\": 30, \"14\": 2, \"1\": 26, \"8\": 11, \"10\": 22, \"5\": 7, \"0\": 2, \"11\": 1, \"7\": 1}, \"12\": {\"12\": 184, \"4\": 32, \"10\": 7, \"8\": 1, \"14\": 6, \"11\": 5, \"13\": 1, \"2\": 2, \"7\": 1, \"0\": 1}, \"2\": {\"13\": 26, \"2\": 135, \"11\": 18, \"14\": 28, \"10\": 12, \"15\": 18, \"0\": 1, \"1\": 2}, \"9\": {\"3\": 43, \"6\": 77, \"9\": 96, \"5\": 13, \"7\": 7, \"0\": 3, \"1\": 1}, \"15\": {\"1\": 37, \"5\": 24, \"13\": 56, \"15\": 76, \"2\": 14, \"10\": 7, \"11\": 3, \"0\": 7, \"8\": 12, \"9\": 1, \"7\": 2, \"6\": 1}, \"5\": {\"7\": 26, \"8\": 41, \"9\": 12, \"1\": 13, \"6\": 22, \"5\": 66, \"15\": 12, \"3\": 9, \"13\": 7, \"0\": 23, \"10\": 9}, \"14\": {\"11\": 76, \"14\": 121, \"10\": 10, \"2\": 27, \"13\": 4, \"15\": 1, \"12\": 1}, \"0\": {\"5\": 34, \"0\": 52, \"6\": 10, \"8\": 43, \"3\": 18, \"9\": 8, \"7\": 50, \"15\": 6, \"12\": 8, \"10\": 6, \"14\": 1, \"1\": 2, \"2\": 1, \"11\": 1}, \"3\": {\"5\": 6, \"3\": 148, \"9\": 38, \"6\": 18, \"0\": 14, \"8\": 2, \"7\": 14}, \"1\": {\"1\": 150, \"15\": 39, \"2\": 2, \"13\": 20, \"8\": 4, \"5\": 8, \"6\": 9, \"7\": 1, \"9\": 5, \"10\": 1, \"14\": 1}, \"11\": {\"14\": 82, \"11\": 105, \"4\": 2, \"2\": 24, \"12\": 10, \"10\": 14, \"15\": 2, \"13\": 1}, \"7\": {\"7\": 108, \"0\": 47, \"3\": 10, \"12\": 1, \"5\": 23, \"8\": 31, \"9\": 10, \"10\": 7, \"13\": 1, \"6\": 2}, \"8\": {\"13\": 15, \"5\": 55, \"0\": 40, \"15\": 18, \"8\": 61, \"6\": 5, \"10\": 18, \"7\": 18, \"9\": 2, \"3\": 3, \"12\": 1, \"2\": 1, \"1\": 3}, \"4\": {\"4\": 183, \"12\": 49, \"0\": 2, \"7\": 3, \"10\": 3}, \"10\": {\"2\": 14, \"15\": 28, \"10\": 106, \"0\": 5, \"13\": 26, \"8\": 15, \"11\": 13, \"14\": 10, \"5\": 7, \"7\": 7, \"12\": 5, \"1\": 1, \"4\": 3}, \"6\": {\"9\": 74, \"6\": 120, \"5\": 24, \"3\": 8, \"1\": 6, \"15\": 1, \"8\": 3, \"0\": 4}}, \"O_26\": {\"10\": {\"4\": 21, \"5\": 6, \"1\": 26, \"9\": 20, \"0\": 26, \"6\": 25, \"10\": 35, \"2\": 6, \"14\": 26, \"15\": 6, \"3\": 4, \"8\": 23, \"7\": 11, \"13\": 4, \"12\": 1}, \"12\": {\"11\": 27, \"12\": 196, \"10\": 1, \"0\": 2, \"8\": 2, \"9\": 5, \"6\": 7}, \"1\": {\"14\": 36, \"5\": 6, \"4\": 30, \"0\": 24, \"7\": 20, \"2\": 9, \"8\": 12, \"9\": 4, \"10\": 22, \"1\": 49, \"3\": 15, \"6\": 10, \"13\": 2, \"15\": 1}, \"0\": {\"4\": 30, \"0\": 29, \"10\": 35, \"8\": 11, \"9\": 12, \"7\": 15, \"14\": 25, \"6\": 23, \"1\": 23, \"13\": 5, \"3\": 8, \"2\": 8, \"15\": 7, \"5\": 8, \"12\": 1}, \"15\": {\"15\": 41, \"13\": 30, \"2\": 23, \"7\": 22, \"9\": 28, \"4\": 10, \"10\": 15, \"0\": 7, \"6\": 13, \"3\": 12, \"8\": 12, \"5\": 21, \"1\": 2, \"14\": 4}, \"13\": {\"0\": 2, \"13\": 71, \"7\": 8, \"6\": 21, \"5\": 43, \"11\": 4, \"2\": 15, \"9\": 15, \"10\": 9, \"12\": 3, \"15\": 33, \"8\": 9, \"1\": 1, \"3\": 4, \"4\": 2}, \"8\": {\"5\": 13, \"7\": 14, \"10\": 25, \"15\": 20, \"4\": 16, \"6\": 13, \"13\": 13, \"9\": 13, \"2\": 17, \"0\": 27, \"8\": 25, \"14\": 20, \"3\": 15, \"1\": 9}, \"3\": {\"7\": 51, \"2\": 43, \"3\": 79, \"15\": 7, \"9\": 6, \"0\": 8, \"14\": 8, \"10\": 4, \"8\": 4, \"5\": 12, \"4\": 9, \"13\": 3, \"1\": 6}, \"11\": {\"11\": 200, \"12\": 33, \"13\": 2, \"6\": 1, \"9\": 2, \"15\": 1, \"5\": 1}, \"4\": {\"3\": 18, \"10\": 22, \"4\": 30, \"14\": 35, \"0\": 33, \"8\": 19, \"1\": 26, \"7\": 18, \"2\": 8, \"5\": 3, \"6\": 8, \"9\": 13, \"13\": 2, \"15\": 5}, \"6\": {\"10\": 24, \"6\": 56, \"8\": 21, \"9\": 36, \"5\": 11, \"15\": 19, \"14\": 10, \"0\": 16, \"13\": 16, \"2\": 7, \"12\": 8, \"1\": 3, \"7\": 4, \"4\": 6, \"3\": 3}, \"7\": {\"15\": 23, \"7\": 34, \"14\": 17, \"3\": 36, \"2\": 30, \"4\": 13, \"5\": 12, \"8\": 14, \"1\": 10, \"10\": 14, \"0\": 21, \"9\": 7, \"13\": 5, \"6\": 4}, \"14\": {\"1\": 30, \"15\": 5, \"4\": 34, \"5\": 4, \"0\": 36, \"6\": 11, \"14\": 34, \"3\": 11, \"7\": 22, \"8\": 17, \"10\": 22, \"9\": 7, \"13\": 3, \"2\": 4}, \"2\": {\"2\": 44, \"15\": 21, \"3\": 54, \"7\": 33, \"5\": 27, \"9\": 12, \"14\": 3, \"13\": 10, \"8\": 11, \"1\": 3, \"4\": 7, \"10\": 9, \"6\": 3, \"0\": 3}, \"5\": {\"2\": 24, \"15\": 26, \"13\": 52, \"6\": 10, \"5\": 46, \"7\": 13, \"9\": 21, \"1\": 4, \"3\": 11, \"10\": 9, \"8\": 14, \"4\": 6, \"0\": 2, \"14\": 2}, \"9\": {\"10\": 14, \"9\": 42, \"6\": 39, \"15\": 24, \"13\": 15, \"3\": 7, \"5\": 25, \"14\": 9, \"4\": 6, \"2\": 14, \"0\": 9, \"1\": 7, \"7\": 6, \"8\": 21, \"12\": 2}}, \"O_20\": {\"5\": {\"2\": 14, \"5\": 27, \"13\": 11, \"1\": 27, \"15\": 31, \"12\": 25, \"9\": 21, \"3\": 12, \"8\": 9, \"4\": 16, \"7\": 5, \"0\": 37, \"10\": 4, \"6\": 1}, \"15\": {\"0\": 38, \"15\": 43, \"5\": 23, \"1\": 28, \"3\": 16, \"9\": 13, \"7\": 8, \"2\": 14, \"13\": 27, \"12\": 17, \"8\": 6, \"10\": 2, \"4\": 5}, \"9\": {\"7\": 22, \"9\": 23, \"13\": 17, \"12\": 24, \"2\": 33, \"0\": 9, \"3\": 29, \"15\": 18, \"4\": 10, \"1\": 16, \"6\": 7, \"8\": 10, \"10\": 9, \"5\": 9, \"14\": 2, \"11\": 2}, \"7\": {\"8\": 25, \"2\": 21, \"11\": 9, \"13\": 13, \"9\": 19, \"10\": 11, \"7\": 33, \"6\": 32, \"4\": 15, \"12\": 8, \"5\": 8, \"3\": 20, \"1\": 8, \"14\": 8, \"0\": 7, \"15\": 3}, \"3\": {\"5\": 26, \"2\": 17, \"0\": 14, \"13\": 13, \"4\": 13, \"12\": 18, \"10\": 20, \"8\": 11, \"3\": 26, \"9\": 22, \"14\": 4, \"7\": 10, \"15\": 14, \"1\": 32}, \"8\": {\"8\": 46, \"5\": 12, \"10\": 21, \"7\": 25, \"9\": 5, \"11\": 3, \"0\": 18, \"6\": 24, \"14\": 21, \"13\": 2, \"4\": 34, \"3\": 9, \"2\": 11, \"12\": 4, \"1\": 4, \"15\": 1}, \"4\": {\"5\": 29, \"4\": 42, \"10\": 32, \"1\": 9, \"2\": 5, \"12\": 9, \"7\": 14, \"0\": 20, \"13\": 5, \"14\": 11, \"8\": 22, \"3\": 16, \"15\": 6, \"9\": 14, \"6\": 6}, \"6\": {\"14\": 32, \"6\": 90, \"11\": 21, \"2\": 4, \"4\": 9, \"8\": 24, \"10\": 25, \"13\": 2, \"7\": 26, \"3\": 2, \"9\": 4, \"12\": 1}, \"2\": {\"2\": 18, \"0\": 9, \"13\": 18, \"3\": 21, \"9\": 30, \"12\": 26, \"7\": 27, \"1\": 19, \"15\": 15, \"6\": 8, \"8\": 11, \"5\": 13, \"11\": 11, \"14\": 1, \"4\": 9, \"10\": 4}, \"12\": {\"1\": 28, \"7\": 12, \"2\": 16, \"15\": 17, \"3\": 39, \"12\": 26, \"9\": 23, \"0\": 17, \"4\": 15, \"13\": 10, \"5\": 19, \"8\": 4, \"10\": 9, \"11\": 1, \"6\": 1, \"14\": 3}, \"0\": {\"5\": 71, \"7\": 8, \"0\": 54, \"2\": 7, \"12\": 15, \"15\": 31, \"1\": 19, \"8\": 7, \"13\": 7, \"6\": 2, \"14\": 1, \"4\": 9, \"3\": 5, \"9\": 4}, \"13\": {\"3\": 12, \"1\": 11, \"13\": 68, \"15\": 23, \"9\": 13, \"2\": 31, \"0\": 19, \"12\": 7, \"7\": 22, \"11\": 17, \"8\": 5, \"5\": 8, \"6\": 3, \"14\": 1}, \"10\": {\"6\": 23, \"4\": 36, \"8\": 18, \"10\": 69, \"14\": 37, \"9\": 10, \"7\": 17, \"2\": 9, \"12\": 4, \"3\": 10, \"11\": 1, \"5\": 1, \"13\": 1, \"1\": 2, \"0\": 2}, \"11\": {\"13\": 16, \"11\": 168, \"6\": 24, \"7\": 14, \"8\": 3, \"9\": 6, \"2\": 3, \"10\": 2, \"14\": 2, \"3\": 2}, \"14\": {\"6\": 58, \"8\": 36, \"14\": 67, \"11\": 3, \"7\": 17, \"13\": 1, \"4\": 13, \"10\": 26, \"2\": 6, \"3\": 2, \"12\": 2, \"9\": 6, \"0\": 2, \"5\": 1}, \"1\": {\"3\": 19, \"1\": 41, \"12\": 22, \"5\": 34, \"7\": 7, \"15\": 28, \"2\": 26, \"0\": 21, \"13\": 10, \"8\": 5, \"10\": 4, \"9\": 13, \"4\": 10}}, \"O_50\": {\"1\": {\"1\": 73, \"4\": 37, \"6\": 45, \"15\": 43, \"11\": 10, \"5\": 9, \"2\": 4, \"14\": 6, \"13\": 5, \"7\": 2, \"0\": 5, \"9\": 1}, \"2\": {\"2\": 151, \"0\": 70, \"14\": 6, \"10\": 3, \"1\": 5, \"4\": 2, \"13\": 1, \"5\": 1, \"15\": 1}, \"8\": {\"8\": 158, \"3\": 34, \"0\": 9, \"10\": 32, \"7\": 3, \"13\": 2, \"5\": 2}, \"7\": {\"7\": 81, \"13\": 59, \"1\": 3, \"5\": 42, \"10\": 25, \"8\": 9, \"4\": 6, \"6\": 11, \"0\": 2, \"3\": 2}, \"14\": {\"14\": 139, \"12\": 42, \"15\": 13, \"11\": 24, \"9\": 10, \"4\": 2, \"2\": 5, \"0\": 1, \"6\": 2, \"1\": 2}, \"6\": {\"1\": 25, \"5\": 18, \"6\": 90, \"13\": 27, \"7\": 17, \"0\": 10, \"15\": 25, \"4\": 20, \"10\": 2, \"2\": 3, \"11\": 1, \"8\": 1, \"14\": 1}, \"3\": {\"3\": 196, \"7\": 1, \"10\": 6, \"8\": 37}, \"4\": {\"7\": 13, \"6\": 16, \"13\": 20, \"4\": 52, \"5\": 35, \"11\": 7, \"1\": 59, \"15\": 30, \"2\": 2, \"12\": 1, \"14\": 3, \"0\": 1, \"10\": 1}, \"12\": {\"12\": 131, \"9\": 58, \"11\": 15, \"14\": 36}, \"15\": {\"15\": 101, \"14\": 4, \"1\": 48, \"4\": 25, \"6\": 23, \"11\": 27, \"9\": 4, \"5\": 5, \"0\": 1, \"13\": 2}, \"11\": {\"11\": 122, \"14\": 23, \"9\": 38, \"15\": 32, \"12\": 7, \"1\": 13, \"4\": 3, \"6\": 2}, \"0\": {\"10\": 29, \"2\": 54, \"0\": 129, \"4\": 2, \"5\": 10, \"8\": 5, \"6\": 3, \"13\": 5, \"1\": 3}, \"9\": {\"14\": 23, \"11\": 48, \"9\": 115, \"12\": 50, \"15\": 4}, \"10\": {\"10\": 97, \"7\": 27, \"5\": 15, \"8\": 33, \"0\": 37, \"13\": 23, \"1\": 1, \"6\": 2, \"2\": 2, \"3\": 2, \"4\": 1}, \"5\": {\"1\": 18, \"4\": 16, \"6\": 10, \"5\": 61, \"11\": 1, \"7\": 34, \"3\": 2, \"13\": 59, \"10\": 18, \"8\": 3, \"0\": 11, \"15\": 6, \"2\": 1}, \"13\": {\"7\": 51, \"5\": 47, \"1\": 9, \"0\": 12, \"6\": 23, \"13\": 64, \"4\": 15, \"10\": 14, \"15\": 3, \"8\": 1, \"2\": 1}}, \"O_32\": {\"2\": {\"7\": 14, \"4\": 48, \"0\": 30, \"13\": 10, \"2\": 118, \"5\": 7, \"8\": 7, \"14\": 3, \"3\": 1, \"11\": 2}, \"6\": {\"6\": 226, \"10\": 7, \"12\": 6, \"1\": 1}, \"5\": {\"13\": 45, \"4\": 28, \"5\": 49, \"14\": 10, \"0\": 22, \"3\": 16, \"7\": 24, \"15\": 1, \"8\": 24, \"2\": 15, \"11\": 6}, \"12\": {\"12\": 211, \"9\": 13, \"6\": 15, \"10\": 1}, \"13\": {\"13\": 43, \"7\": 18, \"2\": 11, \"5\": 41, \"8\": 22, \"14\": 21, \"3\": 38, \"0\": 13, \"11\": 14, \"4\": 19}, \"9\": {\"12\": 21, \"9\": 212, \"0\": 2, \"2\": 5}, \"11\": {\"5\": 9, \"11\": 101, \"14\": 59, \"7\": 22, \"3\": 21, \"13\": 12, \"4\": 4, \"0\": 7, \"8\": 5}, \"1\": {\"1\": 197, \"10\": 43}, \"3\": {\"3\": 137, \"11\": 20, \"5\": 32, \"8\": 18, \"13\": 19, \"0\": 1, \"14\": 6, \"15\": 2, \"7\": 5}, \"7\": {\"7\": 48, \"14\": 32, \"13\": 36, \"11\": 24, \"4\": 24, \"2\": 22, \"3\": 5, \"5\": 26, \"0\": 16, \"8\": 7}, \"14\": {\"5\": 9, \"7\": 30, \"11\": 69, \"14\": 52, \"3\": 9, \"2\": 12, \"13\": 22, \"4\": 11, \"0\": 23, \"8\": 3}, \"8\": {\"2\": 7, \"8\": 83, \"0\": 38, \"5\": 31, \"13\": 23, \"14\": 4, \"4\": 17, \"15\": 4, \"3\": 16, \"7\": 8, \"11\": 8, \"9\": 1}, \"4\": {\"2\": 48, \"13\": 20, \"7\": 30, \"4\": 67, \"11\": 4, \"8\": 11, \"3\": 3, \"5\": 24, \"0\": 24, \"14\": 9}, \"0\": {\"2\": 29, \"0\": 106, \"14\": 11, \"13\": 20, \"8\": 26, \"4\": 20, \"7\": 10, \"11\": 4, \"5\": 12, \"9\": 2}, \"10\": {\"10\": 187, \"1\": 48, \"6\": 5}, \"15\": {\"3\": 3, \"15\": 220, \"8\": 12, \"14\": 1, \"5\": 2, \"13\": 2}}, \"O_44\": {\"13\": {\"13\": 81, \"7\": 13, \"9\": 52, \"6\": 49, \"11\": 28, \"14\": 2, \"3\": 3, \"4\": 10, \"2\": 2}, \"4\": {\"4\": 114, \"14\": 69, \"15\": 23, \"5\": 12, \"13\": 7, \"0\": 5, \"9\": 6, \"8\": 1, \"7\": 1, \"6\": 1, \"3\": 1}, \"6\": {\"6\": 89, \"7\": 22, \"9\": 47, \"13\": 59, \"11\": 14, \"4\": 2, \"2\": 6, \"10\": 1}, \"0\": {\"8\": 72, \"14\": 15, \"0\": 67, \"15\": 47, \"5\": 38, \"4\": 1}, \"10\": {\"10\": 96, \"12\": 52, \"2\": 35, \"1\": 36, \"3\": 12, \"7\": 8, \"6\": 1}, \"7\": {\"7\": 80, \"9\": 53, \"6\": 25, \"13\": 7, \"2\": 48, \"3\": 11, \"11\": 2, \"10\": 7, \"1\": 6, \"14\": 1}, \"14\": {\"14\": 93, \"5\": 27, \"4\": 67, \"15\": 39, \"0\": 9, \"8\": 4, \"13\": 1}, \"15\": {\"14\": 44, \"5\": 24, \"15\": 87, \"0\": 41, \"4\": 20, \"8\": 24}, \"5\": {\"0\": 36, \"8\": 27, \"5\": 123, \"14\": 25, \"15\": 21, \"4\": 8}, \"2\": {\"10\": 42, \"2\": 81, \"3\": 11, \"7\": 52, \"1\": 22, \"9\": 12, \"6\": 9, \"12\": 9, \"13\": 2}, \"9\": {\"9\": 74, \"4\": 7, \"13\": 38, \"7\": 61, \"10\": 3, \"1\": 2, \"2\": 16, \"6\": 34, \"11\": 2, \"3\": 3}, \"12\": {\"1\": 72, \"2\": 6, \"12\": 108, \"10\": 33, \"3\": 21}, \"8\": {\"8\": 95, \"4\": 2, \"0\": 89, \"5\": 24, \"14\": 6, \"15\": 24}, \"3\": {\"3\": 140, \"12\": 31, \"7\": 12, \"1\": 44, \"10\": 3, \"2\": 10}, \"1\": {\"12\": 57, \"1\": 70, \"3\": 51, \"10\": 32, \"2\": 20, \"7\": 7, \"9\": 2, \"6\": 1}, \"11\": {\"9\": 3, \"13\": 27, \"11\": 183, \"6\": 25, \"7\": 1, \"4\": 1}}, \"O_14\": {\"1\": {\"1\": 91, \"2\": 10, \"7\": 24, \"5\": 54, \"8\": 10, \"3\": 20, \"10\": 1, \"4\": 22, \"14\": 2, \"15\": 6}, \"15\": {\"15\": 165, \"1\": 10, \"13\": 3, \"7\": 42, \"6\": 5, \"5\": 9, \"4\": 2, \"14\": 2, \"2\": 2}, \"10\": {\"10\": 135, \"0\": 40, \"3\": 12, \"11\": 19, \"9\": 8, \"14\": 10, \"6\": 3, \"4\": 6, \"2\": 3, \"8\": 2, \"5\": 1, \"13\": 1}, \"2\": {\"3\": 32, \"13\": 22, \"10\": 5, \"5\": 29, \"4\": 22, \"14\": 38, \"2\": 38, \"15\": 11, \"6\": 26, \"1\": 11, \"7\": 2, \"0\": 4}, \"9\": {\"9\": 175, \"12\": 33, \"11\": 16, \"8\": 6, \"0\": 10}, \"5\": {\"5\": 58, \"13\": 4, \"15\": 11, \"1\": 54, \"2\": 28, \"4\": 34, \"3\": 13, \"0\": 1, \"7\": 18, \"14\": 11, \"6\": 5, \"10\": 1, \"8\": 2}, \"7\": {\"7\": 167, \"15\": 31, \"1\": 30, \"5\": 10, \"2\": 1, \"4\": 1}, \"13\": {\"2\": 24, \"6\": 62, \"13\": 58, \"4\": 18, \"10\": 9, \"0\": 4, \"15\": 4, \"14\": 38, \"3\": 11, \"5\": 6, \"7\": 3, \"1\": 2, \"11\": 1}, \"8\": {\"8\": 183, \"3\": 6, \"14\": 1, \"1\": 23, \"0\": 10, \"9\": 7, \"5\": 6, \"4\": 2, \"10\": 2}, \"6\": {\"6\": 88, \"13\": 57, \"14\": 33, \"4\": 12, \"2\": 27, \"5\": 8, \"10\": 2, \"3\": 7, \"11\": 2, \"15\": 3, \"1\": 1}, \"3\": {\"14\": 24, \"0\": 17, \"4\": 39, \"2\": 32, \"5\": 20, \"3\": 62, \"10\": 7, \"13\": 6, \"1\": 19, \"6\": 6, \"8\": 6, \"11\": 2}, \"12\": {\"12\": 204, \"9\": 33, \"11\": 3}, \"0\": {\"3\": 18, \"0\": 90, \"11\": 45, \"2\": 6, \"9\": 17, \"10\": 38, \"4\": 11, \"5\": 2, \"14\": 7, \"1\": 1, \"8\": 4, \"6\": 1}, \"4\": {\"6\": 11, \"5\": 34, \"2\": 25, \"4\": 70, \"3\": 48, \"10\": 6, \"13\": 6, \"14\": 11, \"1\": 23, \"0\": 4, \"8\": 1, \"15\": 1}, \"14\": {\"4\": 22, \"2\": 31, \"13\": 29, \"10\": 10, \"3\": 24, \"14\": 62, \"0\": 14, \"6\": 36, \"5\": 9, \"1\": 2, \"11\": 1}, \"11\": {\"11\": 152, \"9\": 28, \"0\": 38, \"10\": 16, \"13\": 1, \"12\": 5}}}, \"per_domain_accuracy\": {\"C_2\": {\"accuracy\": 0.9998224431818182, \"source?\": true}, \"C_5\": {\"accuracy\": 0.9978932584269663, \"source?\": true}, \"C_1\": {\"accuracy\": 0.9993131868131868, \"source?\": true}, \"C_4\": {\"accuracy\": 0.999064371257485, \"source?\": true}, \"C_3\": {\"accuracy\": 0.9992690058479532, \"source?\": true}, \"O_8\": {\"accuracy\": 0.3072916666666667, \"source?\": false}, \"O_38\": {\"accuracy\": 0.46979166666666666, \"source?\": false}, \"O_26\": {\"accuracy\": 0.26328125, \"source?\": false}, \"O_20\": {\"accuracy\": 0.21901041666666668, \"source?\": false}, \"O_50\": {\"accuracy\": 0.4583333333333333, \"source?\": false}, \"O_32\": {\"accuracy\": 0.5356770833333333, \"source?\": false}, \"O_44\": {\"accuracy\": 0.41171875, \"source?\": false}, \"O_14\": {\"accuracy\": 0.46822916666666664, \"source?\": false}}}, \"history\": {\"epoch_indices\": [1, 2, 3, 4, 5, 6, 7, 8, 9, 10], \"train_label_loss\": [0.057340693559412785, 0.01282675176935149, 0.007947130767854197, 0.00596618618567105, 0.005338021342766924, 0.003345321360953901, 0.0035133980101569756, 0.0023940038209667395, 0.0022974924760843013, 0.002035958176062271], \"source_val_label_loss\": [0.039031222462654114, 0.013381477445363998, 0.010571462102234364, 0.007452985271811485, 0.008372333832085133, 0.00794410053640604, 0.008741326630115509, 0.005725543480366468, 0.008411018177866936, 0.007594922557473183], \"target_val_label_loss\": [2.2687554359436035, 2.107142686843872, 2.142618179321289, 1.7976793050765991, 2.0838661193847656, 1.8601703643798828, 2.0805461406707764, 2.2838711738586426, 2.3760857582092285, 2.575629234313965], \"source_val_acc_label\": [0.990524885583524, 0.9976044050343249, 0.9977474256292906, 0.9985340389016019, 0.9980692219679634, 0.9990703661327232, 0.9991061212814645, 0.9993564073226545, 0.9988558352402745, 0.9993206521739131], \"target_val_acc_label\": [0.28583984375, 0.34664713541666664, 0.31468098958333335, 0.3756510416666667, 0.33297526041666664, 0.39166666666666666, 0.3482747395833333, 0.34186197916666666, 0.3478515625, 0.32740885416666665]}, \"dataset_metrics\": {\"source\": {\"train\": {\"n_unique_x\": 175222, \"n_unique_y\": 58, \"n_batch/episode\": 6312}, \"val\": {\"n_unique_x\": 37135, \"n_unique_y\": 58, \"n_batch/episode\": 874}, \"test\": {\"n_unique_x\": 37673, \"n_unique_y\": 58, \"n_batch/episode\": 893}}, \"target\": {\"train\": {\"n_unique_x\": 179200, \"n_unique_y\": 16, \"n_batch/episode\": 6720}, \"val\": {\"n_unique_x\": 38400, \"n_unique_y\": 16, \"n_batch/episode\": 960}, \"test\": {\"n_unique_x\": 38400, \"n_unique_y\": 16, \"n_batch/episode\": 960}}}}'"
      ]
     },
     "execution_count": 29,
     "metadata": {},
     "output_type": "execute_result"
    }
   ],
   "source": [
    "json.dumps(experiment)"
   ]
  }
 ],
 "metadata": {
  "celltoolbar": "Tags",
  "kernelspec": {
   "display_name": "Python 3 (ipykernel)",
   "language": "python",
   "name": "python3"
  },
  "language_info": {
   "codemirror_mode": {
    "name": "ipython",
    "version": 3
   },
   "file_extension": ".py",
   "mimetype": "text/x-python",
   "name": "python",
   "nbconvert_exporter": "python",
   "pygments_lexer": "ipython3",
   "version": "3.8.12"
  },
  "papermill": {
   "default_parameters": {},
   "duration": 1719.767512,
   "end_time": "2022-03-28T08:06:37.628099",
   "environment_variables": {},
   "exception": null,
   "input_path": "/root/csc500-main/csc500-notebooks/templates/tl_ptn_template.ipynb",
   "output_path": "trial.ipynb",
   "parameters": {
    "parameters": {
     "BEST_MODEL_PATH": "./best_model.pth",
     "NUM_LOGS_PER_EPOCH": 10,
     "criteria_for_best": "target_accuracy",
     "dataset_seed": 154325,
     "datasets": [
      {
       "domain_prefix": "C_",
       "domains": [
        1,
        2,
        3,
        4,
        5
       ],
       "episode_transforms": [],
       "labels": [
        "1-10.",
        "1-11.",
        "1-15.",
        "1-16.",
        "1-17.",
        "1-18.",
        "1-19.",
        "10-4.",
        "10-7.",
        "11-1.",
        "11-14.",
        "11-17.",
        "11-20.",
        "11-7.",
        "13-20.",
        "13-8.",
        "14-10.",
        "14-11.",
        "14-14.",
        "14-7.",
        "15-1.",
        "15-20.",
        "16-1.",
        "16-16.",
        "17-10.",
        "17-11.",
        "17-2.",
        "19-1.",
        "19-16.",
        "19-19.",
        "19-20.",
        "19-3.",
        "2-10.",
        "2-11.",
        "2-17.",
        "2-18.",
        "2-20.",
        "2-3.",
        "2-4.",
        "2-5.",
        "2-6.",
        "2-7.",
        "2-8.",
        "3-13.",
        "3-18.",
        "3-3.",
        "4-1.",
        "4-10.",
        "4-11.",
        "4-19.",
        "5-5.",
        "6-15.",
        "7-10.",
        "7-14.",
        "8-18.",
        "8-20.",
        "8-3.",
        "8-8."
       ],
       "num_examples_per_domain_per_label": -1,
       "pickle_path": "/root/csc500-main/datasets/cores.stratified_ds.2022A.pkl",
       "source_or_target_dataset": "source",
       "x_transforms": [
        "unit_power",
        "jitter_256_10",
        "lowpass_+/-10MHz",
        "take_200"
       ]
      },
      {
       "domain_prefix": "O_",
       "domains": [
        32,
        38,
        8,
        44,
        14,
        50,
        20,
        26
       ],
       "episode_transforms": [],
       "labels": [
        "3123D52",
        "3123D65",
        "3123D79",
        "3123D80",
        "3123D54",
        "3123D70",
        "3123D7B",
        "3123D89",
        "3123D58",
        "3123D76",
        "3123D7D",
        "3123EFE",
        "3123D64",
        "3123D78",
        "3123D7E",
        "3124E4A"
       ],
       "num_examples_per_domain_per_label": 2000,
       "pickle_path": "/root/csc500-main/datasets/oracle.Run1_framed_2000Examples_stratified_ds.2022A.pkl",
       "source_or_target_dataset": "target",
       "x_transforms": [
        "unit_power",
        "jitter_256_10",
        "take_200",
        "resample_20Msps_to_25Msps"
       ]
      }
     ],
     "device": "cuda",
     "experiment_name": "tl_3-jitter10v2:cores -> oracle.run1.framed",
     "lr": 0.0001,
     "n_epoch": 50,
     "n_query": 2,
     "n_shot": 3,
     "n_way": 16,
     "patience": 3,
     "seed": 154325,
     "test_k_factor": 2,
     "torch_default_dtype": "torch.float32",
     "train_k_factor": 3,
     "val_k_factor": 2,
     "x_net": [
      {
       "class": "nnReshape",
       "kargs": {
        "shape": [
         -1,
         1,
         2,
         256
        ]
       }
      },
      {
       "class": "Conv2d",
       "kargs": {
        "bias": false,
        "in_channels": 1,
        "kernel_size": [
         1,
         7
        ],
        "out_channels": 256,
        "padding": [
         0,
         3
        ]
       }
      },
      {
       "class": "ReLU",
       "kargs": {
        "inplace": true
       }
      },
      {
       "class": "BatchNorm2d",
       "kargs": {
        "num_features": 256
       }
      },
      {
       "class": "Conv2d",
       "kargs": {
        "bias": true,
        "in_channels": 256,
        "kernel_size": [
         2,
         7
        ],
        "out_channels": 80,
        "padding": [
         0,
         3
        ]
       }
      },
      {
       "class": "ReLU",
       "kargs": {
        "inplace": true
       }
      },
      {
       "class": "BatchNorm2d",
       "kargs": {
        "num_features": 80
       }
      },
      {
       "class": "Flatten",
       "kargs": {}
      },
      {
       "class": "Linear",
       "kargs": {
        "in_features": 20480,
        "out_features": 256
       }
      },
      {
       "class": "ReLU",
       "kargs": {
        "inplace": true
       }
      },
      {
       "class": "BatchNorm1d",
       "kargs": {
        "num_features": 256
       }
      },
      {
       "class": "Linear",
       "kargs": {
        "in_features": 256,
        "out_features": 256
       }
      }
     ],
     "x_shape": [
      2,
      256
     ]
    }
   },
   "start_time": "2022-03-28T07:37:57.860587",
   "version": "2.3.4"
  }
 },
 "nbformat": 4,
 "nbformat_minor": 5
}