{
 "cells": [
  {
   "cell_type": "markdown",
   "id": "9fea5f46",
   "metadata": {
    "papermill": {
     "duration": 0.025555,
     "end_time": "2022-03-28T08:53:27.996850",
     "exception": false,
     "start_time": "2022-03-28T08:53:27.971295",
     "status": "completed"
    },
    "tags": []
   },
   "source": [
    "# Transfer Learning Template"
   ]
  },
  {
   "cell_type": "code",
   "execution_count": 1,
   "id": "0902182a",
   "metadata": {
    "execution": {
     "iopub.execute_input": "2022-03-28T08:53:28.056284Z",
     "iopub.status.busy": "2022-03-28T08:53:28.043887Z",
     "iopub.status.idle": "2022-03-28T08:53:29.922122Z",
     "shell.execute_reply": "2022-03-28T08:53:29.921669Z"
    },
    "papermill": {
     "duration": 1.90558,
     "end_time": "2022-03-28T08:53:29.922227",
     "exception": false,
     "start_time": "2022-03-28T08:53:28.016647",
     "status": "completed"
    },
    "tags": []
   },
   "outputs": [],
   "source": [
    "%load_ext autoreload\n",
    "%autoreload 2\n",
    "%matplotlib inline\n",
    "\n",
    "    \n",
    "import os, json, sys, time, random\n",
    "import numpy as np\n",
    "import torch\n",
    "from torch.optim import Adam\n",
    "from  easydict import EasyDict\n",
    "import matplotlib.pyplot as plt\n",
    "\n",
    "from steves_models.steves_ptn import Steves_Prototypical_Network\n",
    "\n",
    "from steves_utils.lazy_iterable_wrapper import Lazy_Iterable_Wrapper\n",
    "from steves_utils.iterable_aggregator import Iterable_Aggregator\n",
    "from steves_utils.ptn_train_eval_test_jig import  PTN_Train_Eval_Test_Jig\n",
    "from steves_utils.torch_sequential_builder import build_sequential\n",
    "from steves_utils.torch_utils import get_dataset_metrics, ptn_confusion_by_domain_over_dataloader\n",
    "from steves_utils.utils_v2 import (per_domain_accuracy_from_confusion, get_datasets_base_path)\n",
    "from steves_utils.PTN.utils import independent_accuracy_assesment\n",
    "\n",
    "from torch.utils.data import DataLoader\n",
    "\n",
    "from steves_utils.stratified_dataset.episodic_accessor import Episodic_Accessor_Factory\n",
    "\n",
    "from steves_utils.ptn_do_report import (\n",
    "    get_loss_curve,\n",
    "    get_results_table,\n",
    "    get_parameters_table,\n",
    "    get_domain_accuracies,\n",
    ")\n",
    "\n",
    "from steves_utils.transforms import get_chained_transform"
   ]
  },
  {
   "cell_type": "markdown",
   "id": "41c840b4",
   "metadata": {
    "papermill": {
     "duration": 0.019615,
     "end_time": "2022-03-28T08:53:29.962319",
     "exception": false,
     "start_time": "2022-03-28T08:53:29.942704",
     "status": "completed"
    },
    "tags": []
   },
   "source": [
    "# Allowed Parameters\n",
    "These are allowed parameters, not defaults\n",
    "Each of these values need to be present in the injected parameters (the notebook will raise an exception if they are not present)\n",
    "\n",
    "Papermill uses the cell tag \"parameters\" to inject the real parameters below this cell.\n",
    "Enable tags to see what I mean"
   ]
  },
  {
   "cell_type": "code",
   "execution_count": 2,
   "id": "fd44eb83",
   "metadata": {
    "execution": {
     "iopub.execute_input": "2022-03-28T08:53:30.005715Z",
     "iopub.status.busy": "2022-03-28T08:53:30.005130Z",
     "iopub.status.idle": "2022-03-28T08:53:30.024193Z",
     "shell.execute_reply": "2022-03-28T08:53:30.023469Z"
    },
    "papermill": {
     "duration": 0.042553,
     "end_time": "2022-03-28T08:53:30.024349",
     "exception": false,
     "start_time": "2022-03-28T08:53:29.981796",
     "status": "completed"
    },
    "tags": []
   },
   "outputs": [],
   "source": [
    "required_parameters = {\n",
    "    \"experiment_name\",\n",
    "    \"lr\",\n",
    "    \"device\",\n",
    "    \"seed\",\n",
    "    \"dataset_seed\",\n",
    "    \"n_shot\",\n",
    "    \"n_query\",\n",
    "    \"n_way\",\n",
    "    \"train_k_factor\",\n",
    "    \"val_k_factor\",\n",
    "    \"test_k_factor\",\n",
    "    \"n_epoch\",\n",
    "    \"patience\",\n",
    "    \"criteria_for_best\",\n",
    "    \"x_net\",\n",
    "    \"datasets\",\n",
    "    \"torch_default_dtype\",\n",
    "    \"NUM_LOGS_PER_EPOCH\",\n",
    "    \"BEST_MODEL_PATH\",\n",
    "    \"x_shape\",\n",
    "}"
   ]
  },
  {
   "cell_type": "code",
   "execution_count": 3,
   "id": "fa3f0049",
   "metadata": {
    "execution": {
     "iopub.execute_input": "2022-03-28T08:53:30.082314Z",
     "iopub.status.busy": "2022-03-28T08:53:30.081681Z",
     "iopub.status.idle": "2022-03-28T08:53:30.101155Z",
     "shell.execute_reply": "2022-03-28T08:53:30.100341Z"
    },
    "papermill": {
     "duration": 0.048487,
     "end_time": "2022-03-28T08:53:30.101309",
     "exception": false,
     "start_time": "2022-03-28T08:53:30.052822",
     "status": "completed"
    },
    "tags": [
     "parameters"
    ]
   },
   "outputs": [],
   "source": [
    "from steves_utils.CORES.utils import (\n",
    "    ALL_NODES,\n",
    "    ALL_NODES_MINIMUM_1000_EXAMPLES,\n",
    "    ALL_DAYS\n",
    ")\n",
    "\n",
    "from steves_utils.ORACLE.utils_v2 import (\n",
    "    ALL_DISTANCES_FEET_NARROWED,\n",
    "    ALL_RUNS,\n",
    "    ALL_SERIAL_NUMBERS,\n",
    ")\n",
    "\n",
    "standalone_parameters = {}\n",
    "standalone_parameters[\"experiment_name\"] = \"STANDALONE PTN\"\n",
    "standalone_parameters[\"lr\"] = 0.001\n",
    "standalone_parameters[\"device\"] = \"cuda\"\n",
    "\n",
    "standalone_parameters[\"seed\"] = 1337\n",
    "standalone_parameters[\"dataset_seed\"] = 1337\n",
    "\n",
    "standalone_parameters[\"n_way\"] = 8\n",
    "standalone_parameters[\"n_shot\"] = 3\n",
    "standalone_parameters[\"n_query\"]  = 2\n",
    "standalone_parameters[\"train_k_factor\"] = 1\n",
    "standalone_parameters[\"val_k_factor\"] = 2\n",
    "standalone_parameters[\"test_k_factor\"] = 2\n",
    "\n",
    "\n",
    "standalone_parameters[\"n_epoch\"] = 50\n",
    "\n",
    "standalone_parameters[\"patience\"] = 10\n",
    "standalone_parameters[\"criteria_for_best\"] = \"source_loss\"\n",
    "\n",
    "standalone_parameters[\"datasets\"] = [\n",
    "    {\n",
    "        \"labels\": ALL_SERIAL_NUMBERS,\n",
    "        \"domains\": ALL_DISTANCES_FEET_NARROWED,\n",
    "        \"num_examples_per_domain_per_label\": 100,\n",
    "        \"pickle_path\": os.path.join(get_datasets_base_path(), \"oracle.Run1_framed_2000Examples_stratified_ds.2022A.pkl\"),\n",
    "        \"source_or_target_dataset\": \"source\",\n",
    "        \"x_transforms\": [\"unit_mag\", \"minus_two\"],\n",
    "        \"episode_transforms\": [],\n",
    "        \"domain_prefix\": \"ORACLE_\"\n",
    "    },\n",
    "    {\n",
    "        \"labels\": ALL_NODES,\n",
    "        \"domains\": ALL_DAYS,\n",
    "        \"num_examples_per_domain_per_label\": 100,\n",
    "        \"pickle_path\": os.path.join(get_datasets_base_path(), \"cores.stratified_ds.2022A.pkl\"),\n",
    "        \"source_or_target_dataset\": \"target\",\n",
    "        \"x_transforms\": [\"unit_power\", \"times_zero\"],\n",
    "        \"episode_transforms\": [],\n",
    "        \"domain_prefix\": \"CORES_\"\n",
    "    }   \n",
    "]\n",
    "\n",
    "standalone_parameters[\"torch_default_dtype\"] = \"torch.float32\" \n",
    "\n",
    "\n",
    "\n",
    "standalone_parameters[\"x_net\"] =     [\n",
    "    {\"class\": \"nnReshape\", \"kargs\": {\"shape\":[-1, 1, 2, 256]}},\n",
    "    {\"class\": \"Conv2d\", \"kargs\": { \"in_channels\":1, \"out_channels\":256, \"kernel_size\":(1,7), \"bias\":False, \"padding\":(0,3), },},\n",
    "    {\"class\": \"ReLU\", \"kargs\": {\"inplace\": True}},\n",
    "    {\"class\": \"BatchNorm2d\", \"kargs\": {\"num_features\":256}},\n",
    "\n",
    "    {\"class\": \"Conv2d\", \"kargs\": { \"in_channels\":256, \"out_channels\":80, \"kernel_size\":(2,7), \"bias\":True, \"padding\":(0,3), },},\n",
    "    {\"class\": \"ReLU\", \"kargs\": {\"inplace\": True}},\n",
    "    {\"class\": \"BatchNorm2d\", \"kargs\": {\"num_features\":80}},\n",
    "    {\"class\": \"Flatten\", \"kargs\": {}},\n",
    "\n",
    "    {\"class\": \"Linear\", \"kargs\": {\"in_features\": 80*256, \"out_features\": 256}}, # 80 units per IQ pair\n",
    "    {\"class\": \"ReLU\", \"kargs\": {\"inplace\": True}},\n",
    "    {\"class\": \"BatchNorm1d\", \"kargs\": {\"num_features\":256}},\n",
    "\n",
    "    {\"class\": \"Linear\", \"kargs\": {\"in_features\": 256, \"out_features\": 256}},\n",
    "]\n",
    "\n",
    "# Parameters relevant to results\n",
    "# These parameters will basically never need to change\n",
    "standalone_parameters[\"NUM_LOGS_PER_EPOCH\"] = 10\n",
    "standalone_parameters[\"BEST_MODEL_PATH\"] = \"./best_model.pth\"\n",
    "\n",
    "\n",
    "\n",
    "\n"
   ]
  },
  {
   "cell_type": "code",
   "execution_count": 4,
   "id": "1c34422b",
   "metadata": {
    "execution": {
     "iopub.execute_input": "2022-03-28T08:53:30.158223Z",
     "iopub.status.busy": "2022-03-28T08:53:30.157548Z",
     "iopub.status.idle": "2022-03-28T08:53:30.176839Z",
     "shell.execute_reply": "2022-03-28T08:53:30.176041Z"
    },
    "papermill": {
     "duration": 0.047869,
     "end_time": "2022-03-28T08:53:30.176993",
     "exception": false,
     "start_time": "2022-03-28T08:53:30.129124",
     "status": "completed"
    },
    "tags": [
     "injected-parameters"
    ]
   },
   "outputs": [],
   "source": [
    "# Parameters\n",
    "parameters = {\n",
    "    \"experiment_name\": \"tl_3-jitter10v2:cores -> oracle.run1.framed\",\n",
    "    \"device\": \"cuda\",\n",
    "    \"lr\": 0.0001,\n",
    "    \"x_shape\": [2, 256],\n",
    "    \"n_shot\": 3,\n",
    "    \"n_query\": 2,\n",
    "    \"train_k_factor\": 3,\n",
    "    \"val_k_factor\": 2,\n",
    "    \"test_k_factor\": 2,\n",
    "    \"torch_default_dtype\": \"torch.float32\",\n",
    "    \"n_epoch\": 50,\n",
    "    \"patience\": 3,\n",
    "    \"criteria_for_best\": \"target_accuracy\",\n",
    "    \"x_net\": [\n",
    "        {\"class\": \"nnReshape\", \"kargs\": {\"shape\": [-1, 1, 2, 256]}},\n",
    "        {\n",
    "            \"class\": \"Conv2d\",\n",
    "            \"kargs\": {\n",
    "                \"in_channels\": 1,\n",
    "                \"out_channels\": 256,\n",
    "                \"kernel_size\": [1, 7],\n",
    "                \"bias\": False,\n",
    "                \"padding\": [0, 3],\n",
    "            },\n",
    "        },\n",
    "        {\"class\": \"ReLU\", \"kargs\": {\"inplace\": True}},\n",
    "        {\"class\": \"BatchNorm2d\", \"kargs\": {\"num_features\": 256}},\n",
    "        {\n",
    "            \"class\": \"Conv2d\",\n",
    "            \"kargs\": {\n",
    "                \"in_channels\": 256,\n",
    "                \"out_channels\": 80,\n",
    "                \"kernel_size\": [2, 7],\n",
    "                \"bias\": True,\n",
    "                \"padding\": [0, 3],\n",
    "            },\n",
    "        },\n",
    "        {\"class\": \"ReLU\", \"kargs\": {\"inplace\": True}},\n",
    "        {\"class\": \"BatchNorm2d\", \"kargs\": {\"num_features\": 80}},\n",
    "        {\"class\": \"Flatten\", \"kargs\": {}},\n",
    "        {\"class\": \"Linear\", \"kargs\": {\"in_features\": 20480, \"out_features\": 256}},\n",
    "        {\"class\": \"ReLU\", \"kargs\": {\"inplace\": True}},\n",
    "        {\"class\": \"BatchNorm1d\", \"kargs\": {\"num_features\": 256}},\n",
    "        {\"class\": \"Linear\", \"kargs\": {\"in_features\": 256, \"out_features\": 256}},\n",
    "    ],\n",
    "    \"NUM_LOGS_PER_EPOCH\": 10,\n",
    "    \"BEST_MODEL_PATH\": \"./best_model.pth\",\n",
    "    \"n_way\": 16,\n",
    "    \"datasets\": [\n",
    "        {\n",
    "            \"labels\": [\n",
    "                \"1-10.\",\n",
    "                \"1-11.\",\n",
    "                \"1-15.\",\n",
    "                \"1-16.\",\n",
    "                \"1-17.\",\n",
    "                \"1-18.\",\n",
    "                \"1-19.\",\n",
    "                \"10-4.\",\n",
    "                \"10-7.\",\n",
    "                \"11-1.\",\n",
    "                \"11-14.\",\n",
    "                \"11-17.\",\n",
    "                \"11-20.\",\n",
    "                \"11-7.\",\n",
    "                \"13-20.\",\n",
    "                \"13-8.\",\n",
    "                \"14-10.\",\n",
    "                \"14-11.\",\n",
    "                \"14-14.\",\n",
    "                \"14-7.\",\n",
    "                \"15-1.\",\n",
    "                \"15-20.\",\n",
    "                \"16-1.\",\n",
    "                \"16-16.\",\n",
    "                \"17-10.\",\n",
    "                \"17-11.\",\n",
    "                \"17-2.\",\n",
    "                \"19-1.\",\n",
    "                \"19-16.\",\n",
    "                \"19-19.\",\n",
    "                \"19-20.\",\n",
    "                \"19-3.\",\n",
    "                \"2-10.\",\n",
    "                \"2-11.\",\n",
    "                \"2-17.\",\n",
    "                \"2-18.\",\n",
    "                \"2-20.\",\n",
    "                \"2-3.\",\n",
    "                \"2-4.\",\n",
    "                \"2-5.\",\n",
    "                \"2-6.\",\n",
    "                \"2-7.\",\n",
    "                \"2-8.\",\n",
    "                \"3-13.\",\n",
    "                \"3-18.\",\n",
    "                \"3-3.\",\n",
    "                \"4-1.\",\n",
    "                \"4-10.\",\n",
    "                \"4-11.\",\n",
    "                \"4-19.\",\n",
    "                \"5-5.\",\n",
    "                \"6-15.\",\n",
    "                \"7-10.\",\n",
    "                \"7-14.\",\n",
    "                \"8-18.\",\n",
    "                \"8-20.\",\n",
    "                \"8-3.\",\n",
    "                \"8-8.\",\n",
    "            ],\n",
    "            \"domains\": [1, 2, 3, 4, 5],\n",
    "            \"num_examples_per_domain_per_label\": -1,\n",
    "            \"pickle_path\": \"/root/csc500-main/datasets/cores.stratified_ds.2022A.pkl\",\n",
    "            \"source_or_target_dataset\": \"source\",\n",
    "            \"x_transforms\": [\n",
    "                \"unit_mag\",\n",
    "                \"jitter_256_10\",\n",
    "                \"lowpass_+/-10MHz\",\n",
    "                \"take_200\",\n",
    "            ],\n",
    "            \"episode_transforms\": [],\n",
    "            \"domain_prefix\": \"C_\",\n",
    "        },\n",
    "        {\n",
    "            \"labels\": [\n",
    "                \"3123D52\",\n",
    "                \"3123D65\",\n",
    "                \"3123D79\",\n",
    "                \"3123D80\",\n",
    "                \"3123D54\",\n",
    "                \"3123D70\",\n",
    "                \"3123D7B\",\n",
    "                \"3123D89\",\n",
    "                \"3123D58\",\n",
    "                \"3123D76\",\n",
    "                \"3123D7D\",\n",
    "                \"3123EFE\",\n",
    "                \"3123D64\",\n",
    "                \"3123D78\",\n",
    "                \"3123D7E\",\n",
    "                \"3124E4A\",\n",
    "            ],\n",
    "            \"domains\": [32, 38, 8, 44, 14, 50, 20, 26],\n",
    "            \"num_examples_per_domain_per_label\": 2000,\n",
    "            \"pickle_path\": \"/root/csc500-main/datasets/oracle.Run1_framed_2000Examples_stratified_ds.2022A.pkl\",\n",
    "            \"source_or_target_dataset\": \"target\",\n",
    "            \"x_transforms\": [\n",
    "                \"unit_mag\",\n",
    "                \"jitter_256_10\",\n",
    "                \"take_200\",\n",
    "                \"resample_20Msps_to_25Msps\",\n",
    "            ],\n",
    "            \"episode_transforms\": [],\n",
    "            \"domain_prefix\": \"O_\",\n",
    "        },\n",
    "    ],\n",
    "    \"seed\": 500,\n",
    "    \"dataset_seed\": 500,\n",
    "}\n"
   ]
  },
  {
   "cell_type": "code",
   "execution_count": 5,
   "id": "8fa1cc33",
   "metadata": {
    "execution": {
     "iopub.execute_input": "2022-03-28T08:53:30.229635Z",
     "iopub.status.busy": "2022-03-28T08:53:30.229060Z",
     "iopub.status.idle": "2022-03-28T08:53:30.246679Z",
     "shell.execute_reply": "2022-03-28T08:53:30.245890Z"
    },
    "papermill": {
     "duration": 0.041612,
     "end_time": "2022-03-28T08:53:30.246835",
     "exception": false,
     "start_time": "2022-03-28T08:53:30.205223",
     "status": "completed"
    },
    "tags": []
   },
   "outputs": [],
   "source": [
    "# Set this to True if you want to run this template directly\n",
    "STANDALONE = False\n",
    "if STANDALONE:\n",
    "    print(\"parameters not injected, running with standalone_parameters\")\n",
    "    parameters = standalone_parameters\n",
    "\n",
    "if not 'parameters' in locals() and not 'parameters' in globals():\n",
    "    raise Exception(\"Parameter injection failed\")\n",
    "\n",
    "#Use an easy dict for all the parameters\n",
    "p = EasyDict(parameters)\n",
    "\n",
    "if \"x_shape\" not in p:\n",
    "    p.x_shape = [2,256] # Default to this if we dont supply x_shape\n",
    "\n",
    "\n",
    "supplied_keys = set(p.keys())\n",
    "\n",
    "if  supplied_keys != required_parameters:\n",
    "    print(\"Parameters are incorrect\")\n",
    "    if len(supplied_keys - required_parameters)>0: print(\"Shouldn't have:\", str(supplied_keys - required_parameters))\n",
    "    if len(required_parameters - supplied_keys)>0: print(\"Need to have:\", str(required_parameters - supplied_keys))\n",
    "    raise RuntimeError(\"Parameters are incorrect\")"
   ]
  },
  {
   "cell_type": "code",
   "execution_count": 6,
   "id": "3a028d58",
   "metadata": {
    "execution": {
     "iopub.execute_input": "2022-03-28T08:53:30.297012Z",
     "iopub.status.busy": "2022-03-28T08:53:30.296644Z",
     "iopub.status.idle": "2022-03-28T08:53:30.314247Z",
     "shell.execute_reply": "2022-03-28T08:53:30.313442Z"
    },
    "papermill": {
     "duration": 0.039996,
     "end_time": "2022-03-28T08:53:30.314401",
     "exception": false,
     "start_time": "2022-03-28T08:53:30.274405",
     "status": "completed"
    },
    "tags": []
   },
   "outputs": [],
   "source": [
    "###################################\n",
    "# Set the RNGs and make it all deterministic\n",
    "###################################\n",
    "np.random.seed(p.seed)\n",
    "random.seed(p.seed)\n",
    "torch.manual_seed(p.seed)\n",
    "\n",
    "torch.use_deterministic_algorithms(True) "
   ]
  },
  {
   "cell_type": "code",
   "execution_count": 7,
   "id": "b691acf6",
   "metadata": {
    "execution": {
     "iopub.execute_input": "2022-03-28T08:53:30.362975Z",
     "iopub.status.busy": "2022-03-28T08:53:30.362605Z",
     "iopub.status.idle": "2022-03-28T08:53:30.379978Z",
     "shell.execute_reply": "2022-03-28T08:53:30.379144Z"
    },
    "papermill": {
     "duration": 0.039822,
     "end_time": "2022-03-28T08:53:30.380131",
     "exception": false,
     "start_time": "2022-03-28T08:53:30.340309",
     "status": "completed"
    },
    "tags": []
   },
   "outputs": [],
   "source": [
    "###########################################\n",
    "# The stratified datasets honor this\n",
    "###########################################\n",
    "torch.set_default_dtype(eval(p.torch_default_dtype))"
   ]
  },
  {
   "cell_type": "code",
   "execution_count": 8,
   "id": "b5fba671",
   "metadata": {
    "execution": {
     "iopub.execute_input": "2022-03-28T08:53:30.429456Z",
     "iopub.status.busy": "2022-03-28T08:53:30.429090Z",
     "iopub.status.idle": "2022-03-28T08:53:30.479456Z",
     "shell.execute_reply": "2022-03-28T08:53:30.478750Z"
    },
    "papermill": {
     "duration": 0.072589,
     "end_time": "2022-03-28T08:53:30.479627",
     "exception": false,
     "start_time": "2022-03-28T08:53:30.407038",
     "status": "completed"
    },
    "tags": []
   },
   "outputs": [],
   "source": [
    "###################################\n",
    "# Build the network(s)\n",
    "# Note: It's critical to do this AFTER setting the RNG\n",
    "###################################\n",
    "x_net = build_sequential(p.x_net)"
   ]
  },
  {
   "cell_type": "code",
   "execution_count": 9,
   "id": "5d7e61cc",
   "metadata": {
    "execution": {
     "iopub.execute_input": "2022-03-28T08:53:30.533077Z",
     "iopub.status.busy": "2022-03-28T08:53:30.532711Z",
     "iopub.status.idle": "2022-03-28T08:53:30.559012Z",
     "shell.execute_reply": "2022-03-28T08:53:30.558196Z"
    },
    "papermill": {
     "duration": 0.050042,
     "end_time": "2022-03-28T08:53:30.559167",
     "exception": false,
     "start_time": "2022-03-28T08:53:30.509125",
     "status": "completed"
    },
    "tags": []
   },
   "outputs": [],
   "source": [
    "start_time_secs = time.time()"
   ]
  },
  {
   "cell_type": "code",
   "execution_count": 10,
   "id": "c6b67dfd",
   "metadata": {
    "execution": {
     "iopub.execute_input": "2022-03-28T08:53:30.616008Z",
     "iopub.status.busy": "2022-03-28T08:53:30.612050Z",
     "iopub.status.idle": "2022-03-28T08:53:30.630343Z",
     "shell.execute_reply": "2022-03-28T08:53:30.629632Z"
    },
    "papermill": {
     "duration": 0.043771,
     "end_time": "2022-03-28T08:53:30.630503",
     "exception": false,
     "start_time": "2022-03-28T08:53:30.586732",
     "status": "completed"
    },
    "tags": []
   },
   "outputs": [],
   "source": [
    "p.domains_source = []\n",
    "p.domains_target = []\n",
    "\n",
    "\n",
    "train_original_source = []\n",
    "val_original_source   = []\n",
    "test_original_source  = []\n",
    "\n",
    "train_original_target = []\n",
    "val_original_target   = []\n",
    "test_original_target  = []"
   ]
  },
  {
   "cell_type": "code",
   "execution_count": 11,
   "id": "e3d9c3d3",
   "metadata": {
    "execution": {
     "iopub.execute_input": "2022-03-28T08:53:30.681680Z",
     "iopub.status.busy": "2022-03-28T08:53:30.681313Z",
     "iopub.status.idle": "2022-03-28T08:53:30.698142Z",
     "shell.execute_reply": "2022-03-28T08:53:30.697331Z"
    },
    "papermill": {
     "duration": 0.039436,
     "end_time": "2022-03-28T08:53:30.698299",
     "exception": false,
     "start_time": "2022-03-28T08:53:30.658863",
     "status": "completed"
    },
    "tags": []
   },
   "outputs": [],
   "source": [
    "# global_x_transform_func = lambda x: normalize(x.to(torch.get_default_dtype()), \"unit_power\") # unit_power, unit_mag\n",
    "# global_x_transform_func = lambda x: normalize(x, \"unit_power\") # unit_power, unit_mag"
   ]
  },
  {
   "cell_type": "code",
   "execution_count": 12,
   "id": "acb78fd2",
   "metadata": {
    "execution": {
     "iopub.execute_input": "2022-03-28T08:53:30.755051Z",
     "iopub.status.busy": "2022-03-28T08:53:30.754469Z",
     "iopub.status.idle": "2022-03-28T08:53:30.772626Z",
     "shell.execute_reply": "2022-03-28T08:53:30.771806Z"
    },
    "papermill": {
     "duration": 0.048214,
     "end_time": "2022-03-28T08:53:30.772782",
     "exception": false,
     "start_time": "2022-03-28T08:53:30.724568",
     "status": "completed"
    },
    "tags": []
   },
   "outputs": [],
   "source": [
    "def add_dataset(\n",
    "    labels,\n",
    "    domains,\n",
    "    pickle_path,\n",
    "    x_transforms,\n",
    "    episode_transforms,\n",
    "    domain_prefix,\n",
    "    num_examples_per_domain_per_label,\n",
    "    source_or_target_dataset:str,\n",
    "    iterator_seed=p.seed,\n",
    "    dataset_seed=p.dataset_seed,\n",
    "    n_shot=p.n_shot,\n",
    "    n_way=p.n_way,\n",
    "    n_query=p.n_query,\n",
    "    train_val_test_k_factors=(p.train_k_factor,p.val_k_factor,p.test_k_factor),\n",
    "):\n",
    "   \n",
    "    if x_transforms == []: x_transform = None\n",
    "    else: x_transform = get_chained_transform(x_transforms)\n",
    "    \n",
    "    if episode_transforms == []: episode_transform = None\n",
    "    else: raise Exception(\"episode_transforms not implemented\")\n",
    "    \n",
    "    episode_transform = lambda tup, _prefix=domain_prefix: (_prefix + str(tup[0]), tup[1])\n",
    "\n",
    "\n",
    "    eaf = Episodic_Accessor_Factory(\n",
    "        labels=labels,\n",
    "        domains=domains,\n",
    "        num_examples_per_domain_per_label=num_examples_per_domain_per_label,\n",
    "        iterator_seed=iterator_seed,\n",
    "        dataset_seed=dataset_seed,\n",
    "        n_shot=n_shot,\n",
    "        n_way=n_way,\n",
    "        n_query=n_query,\n",
    "        train_val_test_k_factors=train_val_test_k_factors,\n",
    "        pickle_path=pickle_path,\n",
    "        x_transform_func=x_transform,\n",
    "    )\n",
    "\n",
    "    train, val, test = eaf.get_train(), eaf.get_val(), eaf.get_test()\n",
    "    train = Lazy_Iterable_Wrapper(train, episode_transform)\n",
    "    val = Lazy_Iterable_Wrapper(val, episode_transform)\n",
    "    test = Lazy_Iterable_Wrapper(test, episode_transform)\n",
    "\n",
    "    if source_or_target_dataset==\"source\":\n",
    "        train_original_source.append(train)\n",
    "        val_original_source.append(val)\n",
    "        test_original_source.append(test)\n",
    "\n",
    "        p.domains_source.extend(\n",
    "            [domain_prefix + str(u) for u in domains]\n",
    "        )\n",
    "    elif source_or_target_dataset==\"target\":\n",
    "        train_original_target.append(train)\n",
    "        val_original_target.append(val)\n",
    "        test_original_target.append(test)\n",
    "        p.domains_target.extend(\n",
    "            [domain_prefix + str(u) for u in domains]\n",
    "        )\n",
    "    else:\n",
    "        raise Exception(f\"invalid source_or_target_dataset: {source_or_target_dataset}\")\n",
    "    "
   ]
  },
  {
   "cell_type": "code",
   "execution_count": 13,
   "id": "fe266617",
   "metadata": {
    "execution": {
     "iopub.execute_input": "2022-03-28T08:53:30.832241Z",
     "iopub.status.busy": "2022-03-28T08:53:30.825138Z",
     "iopub.status.idle": "2022-03-28T08:55:21.180779Z",
     "shell.execute_reply": "2022-03-28T08:55:21.180326Z"
    },
    "papermill": {
     "duration": 110.378993,
     "end_time": "2022-03-28T08:55:21.180889",
     "exception": false,
     "start_time": "2022-03-28T08:53:30.801896",
     "status": "completed"
    },
    "tags": []
   },
   "outputs": [],
   "source": [
    "for ds in p.datasets:\n",
    "    add_dataset(**ds)"
   ]
  },
  {
   "cell_type": "code",
   "execution_count": 14,
   "id": "b90d65ac",
   "metadata": {
    "execution": {
     "iopub.execute_input": "2022-03-28T08:55:21.226330Z",
     "iopub.status.busy": "2022-03-28T08:55:21.225767Z",
     "iopub.status.idle": "2022-03-28T08:55:21.248156Z",
     "shell.execute_reply": "2022-03-28T08:55:21.247769Z"
    },
    "papermill": {
     "duration": 0.045825,
     "end_time": "2022-03-28T08:55:21.248235",
     "exception": false,
     "start_time": "2022-03-28T08:55:21.202410",
     "status": "completed"
    },
    "tags": []
   },
   "outputs": [],
   "source": [
    "# from steves_utils.CORES.utils import (\n",
    "#     ALL_NODES,\n",
    "#     ALL_NODES_MINIMUM_1000_EXAMPLES,\n",
    "#     ALL_DAYS\n",
    "# )\n",
    "\n",
    "# add_dataset(\n",
    "#     labels=ALL_NODES,\n",
    "#     domains = ALL_DAYS,\n",
    "#     num_examples_per_domain_per_label=100,\n",
    "#     pickle_path=os.path.join(get_datasets_base_path(), \"cores.stratified_ds.2022A.pkl\"),\n",
    "#     source_or_target_dataset=\"target\",\n",
    "#     x_transform_func=global_x_transform_func,\n",
    "#     domain_modifier=lambda u: f\"cores_{u}\"\n",
    "# )"
   ]
  },
  {
   "cell_type": "code",
   "execution_count": 15,
   "id": "76db484d",
   "metadata": {
    "execution": {
     "iopub.execute_input": "2022-03-28T08:55:21.298118Z",
     "iopub.status.busy": "2022-03-28T08:55:21.297562Z",
     "iopub.status.idle": "2022-03-28T08:55:21.318207Z",
     "shell.execute_reply": "2022-03-28T08:55:21.317826Z"
    },
    "papermill": {
     "duration": 0.04312,
     "end_time": "2022-03-28T08:55:21.318282",
     "exception": false,
     "start_time": "2022-03-28T08:55:21.275162",
     "status": "completed"
    },
    "tags": []
   },
   "outputs": [],
   "source": [
    "# from steves_utils.ORACLE.utils_v2 import (\n",
    "#     ALL_DISTANCES_FEET,\n",
    "#     ALL_RUNS,\n",
    "#     ALL_SERIAL_NUMBERS,\n",
    "# )\n",
    "\n",
    "\n",
    "# add_dataset(\n",
    "#     labels=ALL_SERIAL_NUMBERS,\n",
    "#     domains = list(set(ALL_DISTANCES_FEET) - {2,62}),\n",
    "#     num_examples_per_domain_per_label=100,\n",
    "#     pickle_path=os.path.join(get_datasets_base_path(), \"oracle.Run2_framed_2000Examples_stratified_ds.2022A.pkl\"),\n",
    "#     source_or_target_dataset=\"source\",\n",
    "#     x_transform_func=global_x_transform_func,\n",
    "#     domain_modifier=lambda u: f\"oracle1_{u}\"\n",
    "# )\n"
   ]
  },
  {
   "cell_type": "code",
   "execution_count": 16,
   "id": "97dea9d2",
   "metadata": {
    "execution": {
     "iopub.execute_input": "2022-03-28T08:55:21.363016Z",
     "iopub.status.busy": "2022-03-28T08:55:21.362501Z",
     "iopub.status.idle": "2022-03-28T08:55:21.380305Z",
     "shell.execute_reply": "2022-03-28T08:55:21.379899Z"
    },
    "papermill": {
     "duration": 0.041283,
     "end_time": "2022-03-28T08:55:21.380382",
     "exception": false,
     "start_time": "2022-03-28T08:55:21.339099",
     "status": "completed"
    },
    "tags": []
   },
   "outputs": [],
   "source": [
    "# from steves_utils.ORACLE.utils_v2 import (\n",
    "#     ALL_DISTANCES_FEET,\n",
    "#     ALL_RUNS,\n",
    "#     ALL_SERIAL_NUMBERS,\n",
    "# )\n",
    "\n",
    "\n",
    "# add_dataset(\n",
    "#     labels=ALL_SERIAL_NUMBERS,\n",
    "#     domains = list(set(ALL_DISTANCES_FEET) - {2,62,56}),\n",
    "#     num_examples_per_domain_per_label=100,\n",
    "#     pickle_path=os.path.join(get_datasets_base_path(), \"oracle.Run2_framed_2000Examples_stratified_ds.2022A.pkl\"),\n",
    "#     source_or_target_dataset=\"source\",\n",
    "#     x_transform_func=global_x_transform_func,\n",
    "#     domain_modifier=lambda u: f\"oracle2_{u}\"\n",
    "# )"
   ]
  },
  {
   "cell_type": "code",
   "execution_count": 17,
   "id": "6f289866",
   "metadata": {
    "execution": {
     "iopub.execute_input": "2022-03-28T08:55:21.428410Z",
     "iopub.status.busy": "2022-03-28T08:55:21.427858Z",
     "iopub.status.idle": "2022-03-28T08:55:21.446343Z",
     "shell.execute_reply": "2022-03-28T08:55:21.445960Z"
    },
    "papermill": {
     "duration": 0.041094,
     "end_time": "2022-03-28T08:55:21.446417",
     "exception": false,
     "start_time": "2022-03-28T08:55:21.405323",
     "status": "completed"
    },
    "tags": []
   },
   "outputs": [],
   "source": [
    "# add_dataset(\n",
    "#     labels=list(range(19)),\n",
    "#     domains = [0,1,2],\n",
    "#     num_examples_per_domain_per_label=100,\n",
    "#     pickle_path=os.path.join(get_datasets_base_path(), \"metehan.stratified_ds.2022A.pkl\"),\n",
    "#     source_or_target_dataset=\"target\",\n",
    "#     x_transform_func=global_x_transform_func,\n",
    "#     domain_modifier=lambda u: f\"met_{u}\"\n",
    "# )"
   ]
  },
  {
   "cell_type": "code",
   "execution_count": 18,
   "id": "86a863c3",
   "metadata": {
    "execution": {
     "iopub.execute_input": "2022-03-28T08:55:21.490705Z",
     "iopub.status.busy": "2022-03-28T08:55:21.490151Z",
     "iopub.status.idle": "2022-03-28T08:55:21.507522Z",
     "shell.execute_reply": "2022-03-28T08:55:21.507130Z"
    },
    "papermill": {
     "duration": 0.040836,
     "end_time": "2022-03-28T08:55:21.507613",
     "exception": false,
     "start_time": "2022-03-28T08:55:21.466777",
     "status": "completed"
    },
    "tags": []
   },
   "outputs": [],
   "source": [
    "# # from steves_utils.wisig.utils import (\n",
    "# #     ALL_NODES_MINIMUM_100_EXAMPLES,\n",
    "# #     ALL_NODES_MINIMUM_500_EXAMPLES,\n",
    "# #     ALL_NODES_MINIMUM_1000_EXAMPLES,\n",
    "# #     ALL_DAYS\n",
    "# # )\n",
    "\n",
    "# import steves_utils.wisig.utils as wisig\n",
    "\n",
    "\n",
    "# add_dataset(\n",
    "#     labels=wisig.ALL_NODES_MINIMUM_100_EXAMPLES,\n",
    "#     domains = wisig.ALL_DAYS,\n",
    "#     num_examples_per_domain_per_label=100,\n",
    "#     pickle_path=os.path.join(get_datasets_base_path(), \"wisig.node3-19.stratified_ds.2022A.pkl\"),\n",
    "#     source_or_target_dataset=\"target\",\n",
    "#     x_transform_func=global_x_transform_func,\n",
    "#     domain_modifier=lambda u: f\"wisig_{u}\"\n",
    "# )"
   ]
  },
  {
   "cell_type": "code",
   "execution_count": 19,
   "id": "fd5442bc",
   "metadata": {
    "execution": {
     "iopub.execute_input": "2022-03-28T08:55:21.559301Z",
     "iopub.status.busy": "2022-03-28T08:55:21.558737Z",
     "iopub.status.idle": "2022-03-28T08:55:21.578352Z",
     "shell.execute_reply": "2022-03-28T08:55:21.577969Z"
    },
    "papermill": {
     "duration": 0.044589,
     "end_time": "2022-03-28T08:55:21.578432",
     "exception": false,
     "start_time": "2022-03-28T08:55:21.533843",
     "status": "completed"
    },
    "tags": []
   },
   "outputs": [],
   "source": [
    "###################################\n",
    "# Build the dataset\n",
    "###################################\n",
    "train_original_source = Iterable_Aggregator(train_original_source, p.seed)\n",
    "val_original_source = Iterable_Aggregator(val_original_source, p.seed)\n",
    "test_original_source = Iterable_Aggregator(test_original_source, p.seed)\n",
    "\n",
    "\n",
    "train_original_target = Iterable_Aggregator(train_original_target, p.seed)\n",
    "val_original_target = Iterable_Aggregator(val_original_target, p.seed)\n",
    "test_original_target = Iterable_Aggregator(test_original_target, p.seed)\n",
    "\n",
    "# For CNN We only use X and Y. And we only train on the source.\n",
    "# Properly form the data using a transform lambda and Lazy_Iterable_Wrapper. Finally wrap them in a dataloader\n",
    "\n",
    "transform_lambda = lambda ex: ex[1] # Original is (<domain>, <episode>) so we strip down to episode only\n",
    "\n",
    "train_processed_source = Lazy_Iterable_Wrapper(train_original_source, transform_lambda)\n",
    "val_processed_source   = Lazy_Iterable_Wrapper(val_original_source, transform_lambda)\n",
    "test_processed_source  = Lazy_Iterable_Wrapper(test_original_source, transform_lambda)\n",
    "\n",
    "train_processed_target = Lazy_Iterable_Wrapper(train_original_target, transform_lambda)\n",
    "val_processed_target   = Lazy_Iterable_Wrapper(val_original_target, transform_lambda)\n",
    "test_processed_target  = Lazy_Iterable_Wrapper(test_original_target, transform_lambda)\n",
    "\n",
    "datasets = EasyDict({\n",
    "    \"source\": {\n",
    "        \"original\": {\"train\":train_original_source, \"val\":val_original_source, \"test\":test_original_source},\n",
    "        \"processed\": {\"train\":train_processed_source, \"val\":val_processed_source, \"test\":test_processed_source}\n",
    "    },\n",
    "    \"target\": {\n",
    "        \"original\": {\"train\":train_original_target, \"val\":val_original_target, \"test\":test_original_target},\n",
    "        \"processed\": {\"train\":train_processed_target, \"val\":val_processed_target, \"test\":test_processed_target}\n",
    "    },\n",
    "})"
   ]
  },
  {
   "cell_type": "code",
   "execution_count": 20,
   "id": "5b3c01fc",
   "metadata": {
    "execution": {
     "iopub.execute_input": "2022-03-28T08:55:21.625126Z",
     "iopub.status.busy": "2022-03-28T08:55:21.624571Z",
     "iopub.status.idle": "2022-03-28T08:55:35.802994Z",
     "shell.execute_reply": "2022-03-28T08:55:35.802481Z"
    },
    "papermill": {
     "duration": 14.20285,
     "end_time": "2022-03-28T08:55:35.803136",
     "exception": false,
     "start_time": "2022-03-28T08:55:21.600286",
     "status": "completed"
    },
    "tags": []
   },
   "outputs": [
    {
     "name": "stdout",
     "output_type": "stream",
     "text": [
      "{'C_2', 'C_4', 'C_3', 'C_1', 'C_5'}\n"
     ]
    },
    {
     "name": "stdout",
     "output_type": "stream",
     "text": [
      "{'O_8', 'O_38', 'O_14', 'O_50', 'O_26', 'O_20', 'O_44', 'O_32'}\n"
     ]
    },
    {
     "name": "stdout",
     "output_type": "stream",
     "text": [
      "tensor([[[0., 0., 0.,  ..., 0., 0., 0.],\n",
      "         [0., 0., 0.,  ..., 0., 0., 0.]],\n",
      "\n",
      "        [[0., 0., 0.,  ..., 0., 0., 0.],\n",
      "         [0., 0., 0.,  ..., 0., 0., 0.]],\n",
      "\n",
      "        [[0., 0., 0.,  ..., 0., 0., 0.],\n",
      "         [0., 0., 0.,  ..., 0., 0., 0.]],\n",
      "\n",
      "        ...,\n",
      "\n",
      "        [[0., 0., 0.,  ..., 0., 0., 0.],\n",
      "         [0., 0., 0.,  ..., 0., 0., 0.]],\n",
      "\n",
      "        [[0., 0., 0.,  ..., 0., 0., 0.],\n",
      "         [0., 0., 0.,  ..., 0., 0., 0.]],\n",
      "\n",
      "        [[0., 0., 0.,  ..., 0., 0., 0.],\n",
      "         [0., 0., 0.,  ..., 0., 0., 0.]]])\n"
     ]
    }
   ],
   "source": [
    "from steves_utils.transforms import get_average_magnitude, get_average_power\n",
    "\n",
    "print(set([u for u,_ in val_original_source]))\n",
    "print(set([u for u,_ in val_original_target]))\n",
    "\n",
    "s_x, s_y, q_x, q_y, _ = next(iter(train_processed_source))\n",
    "print(s_x)\n",
    "\n",
    "# for ds in [\n",
    "#     train_processed_source,\n",
    "#     val_processed_source,\n",
    "#     test_processed_source,\n",
    "#     train_processed_target,\n",
    "#     val_processed_target,\n",
    "#     test_processed_target\n",
    "# ]:\n",
    "#     for s_x, s_y, q_x, q_y, _ in ds:\n",
    "#         for X in (s_x, q_x):\n",
    "#             for x in X:\n",
    "#                 assert np.isclose(get_average_magnitude(x.numpy()), 1.0)\n",
    "#                 assert np.isclose(get_average_power(x.numpy()), 1.0)\n",
    "                "
   ]
  },
  {
   "cell_type": "code",
   "execution_count": 21,
   "id": "bbdacba1",
   "metadata": {
    "execution": {
     "iopub.execute_input": "2022-03-28T08:55:35.871165Z",
     "iopub.status.busy": "2022-03-28T08:55:35.870785Z",
     "iopub.status.idle": "2022-03-28T08:55:35.978570Z",
     "shell.execute_reply": "2022-03-28T08:55:35.979241Z"
    },
    "papermill": {
     "duration": 0.13748,
     "end_time": "2022-03-28T08:55:35.979433",
     "exception": false,
     "start_time": "2022-03-28T08:55:35.841953",
     "status": "completed"
    },
    "tags": []
   },
   "outputs": [
    {
     "name": "stdout",
     "output_type": "stream",
     "text": [
      "(2, 256)\n"
     ]
    }
   ],
   "source": [
    "###################################\n",
    "# Build the model\n",
    "###################################\n",
    "# easfsl only wants a tuple for the shape\n",
    "model = Steves_Prototypical_Network(x_net, device=p.device, x_shape=tuple(p.x_shape))\n",
    "optimizer = Adam(params=model.parameters(), lr=p.lr)"
   ]
  },
  {
   "cell_type": "code",
   "execution_count": 22,
   "id": "22b39ac5",
   "metadata": {
    "execution": {
     "iopub.execute_input": "2022-03-28T08:55:36.035745Z",
     "iopub.status.busy": "2022-03-28T08:55:36.035356Z",
     "iopub.status.idle": "2022-03-28T09:08:28.711877Z",
     "shell.execute_reply": "2022-03-28T09:08:28.711538Z"
    },
    "papermill": {
     "duration": 772.704699,
     "end_time": "2022-03-28T09:08:28.711969",
     "exception": false,
     "start_time": "2022-03-28T08:55:36.007270",
     "status": "completed"
    },
    "tags": []
   },
   "outputs": [
    {
     "name": "stdout",
     "output_type": "stream",
     "text": [
      "epoch: 1, [batch: 1 / 6317], examples_per_second: 34.1888, train_label_loss: 2.7728, \n"
     ]
    },
    {
     "name": "stdout",
     "output_type": "stream",
     "text": [
      "epoch: 1, [batch: 632 / 6317], examples_per_second: 3730.5245, train_label_loss: 0.1882, \n"
     ]
    },
    {
     "name": "stdout",
     "output_type": "stream",
     "text": [
      "epoch: 1, [batch: 1264 / 6317], examples_per_second: 3826.7241, train_label_loss: 0.0031, \n"
     ]
    },
    {
     "name": "stdout",
     "output_type": "stream",
     "text": [
      "epoch: 1, [batch: 1895 / 6317], examples_per_second: 3779.2475, train_label_loss: 0.0728, \n"
     ]
    },
    {
     "name": "stdout",
     "output_type": "stream",
     "text": [
      "epoch: 1, [batch: 2527 / 6317], examples_per_second: 3722.9044, train_label_loss: 0.0059, \n"
     ]
    },
    {
     "name": "stdout",
     "output_type": "stream",
     "text": [
      "epoch: 1, [batch: 3159 / 6317], examples_per_second: 3758.0499, train_label_loss: 0.0178, \n"
     ]
    },
    {
     "name": "stdout",
     "output_type": "stream",
     "text": [
      "epoch: 1, [batch: 3790 / 6317], examples_per_second: 3873.2840, train_label_loss: 0.0007, \n"
     ]
    },
    {
     "name": "stdout",
     "output_type": "stream",
     "text": [
      "epoch: 1, [batch: 4422 / 6317], examples_per_second: 3771.3357, train_label_loss: 0.0056, \n"
     ]
    },
    {
     "name": "stdout",
     "output_type": "stream",
     "text": [
      "epoch: 1, [batch: 5053 / 6317], examples_per_second: 3899.0081, train_label_loss: 0.0005, \n"
     ]
    },
    {
     "name": "stdout",
     "output_type": "stream",
     "text": [
      "epoch: 1, [batch: 5685 / 6317], examples_per_second: 3964.8984, train_label_loss: 0.0025, \n"
     ]
    },
    {
     "name": "stdout",
     "output_type": "stream",
     "text": [
      "=============================================================\n",
      "epoch: 1, source_val_acc_label: 0.9961, target_val_acc_label: 0.3607, source_val_label_loss: 0.0156, target_val_label_loss: 1.7907, \n",
      "=============================================================\n"
     ]
    },
    {
     "name": "stdout",
     "output_type": "stream",
     "text": [
      "New best\n"
     ]
    },
    {
     "name": "stdout",
     "output_type": "stream",
     "text": [
      "epoch: 2, [batch: 1 / 6315], examples_per_second: 4.4128, train_label_loss: 0.0310, \n"
     ]
    },
    {
     "name": "stdout",
     "output_type": "stream",
     "text": [
      "epoch: 2, [batch: 632 / 6315], examples_per_second: 3841.6961, train_label_loss: 0.0927, \n"
     ]
    },
    {
     "name": "stdout",
     "output_type": "stream",
     "text": [
      "epoch: 2, [batch: 1263 / 6315], examples_per_second: 3931.2295, train_label_loss: 0.0105, \n"
     ]
    },
    {
     "name": "stdout",
     "output_type": "stream",
     "text": [
      "epoch: 2, [batch: 1895 / 6315], examples_per_second: 3902.3382, train_label_loss: 0.0000, \n"
     ]
    },
    {
     "name": "stdout",
     "output_type": "stream",
     "text": [
      "epoch: 2, [batch: 2526 / 6315], examples_per_second: 3960.8666, train_label_loss: 0.0011, \n"
     ]
    },
    {
     "name": "stdout",
     "output_type": "stream",
     "text": [
      "epoch: 2, [batch: 3158 / 6315], examples_per_second: 3893.0450, train_label_loss: 0.0130, \n"
     ]
    },
    {
     "name": "stdout",
     "output_type": "stream",
     "text": [
      "epoch: 2, [batch: 3789 / 6315], examples_per_second: 3968.4041, train_label_loss: 0.0012, \n"
     ]
    },
    {
     "name": "stdout",
     "output_type": "stream",
     "text": [
      "epoch: 2, [batch: 4420 / 6315], examples_per_second: 3887.1323, train_label_loss: 0.0001, \n"
     ]
    },
    {
     "name": "stdout",
     "output_type": "stream",
     "text": [
      "epoch: 2, [batch: 5052 / 6315], examples_per_second: 3981.2013, train_label_loss: 0.0046, \n"
     ]
    },
    {
     "name": "stdout",
     "output_type": "stream",
     "text": [
      "epoch: 2, [batch: 5683 / 6315], examples_per_second: 3840.4018, train_label_loss: 0.1045, \n"
     ]
    },
    {
     "name": "stdout",
     "output_type": "stream",
     "text": [
      "=============================================================\n",
      "epoch: 2, source_val_acc_label: 0.9991, target_val_acc_label: 0.3530, source_val_label_loss: 0.0058, target_val_label_loss: 1.9080, \n",
      "=============================================================\n"
     ]
    },
    {
     "name": "stdout",
     "output_type": "stream",
     "text": [
      "epoch: 3, [batch: 1 / 6325], examples_per_second: 4.3344, train_label_loss: 0.0012, \n"
     ]
    },
    {
     "name": "stdout",
     "output_type": "stream",
     "text": [
      "epoch: 3, [batch: 633 / 6325], examples_per_second: 3726.5721, train_label_loss: 0.0000, \n"
     ]
    },
    {
     "name": "stdout",
     "output_type": "stream",
     "text": [
      "epoch: 3, [batch: 1265 / 6325], examples_per_second: 3782.0478, train_label_loss: 0.0025, \n"
     ]
    },
    {
     "name": "stdout",
     "output_type": "stream",
     "text": [
      "epoch: 3, [batch: 1898 / 6325], examples_per_second: 3800.8685, train_label_loss: 0.0001, \n"
     ]
    },
    {
     "name": "stdout",
     "output_type": "stream",
     "text": [
      "epoch: 3, [batch: 2530 / 6325], examples_per_second: 3786.6842, train_label_loss: 0.0001, \n"
     ]
    },
    {
     "name": "stdout",
     "output_type": "stream",
     "text": [
      "epoch: 3, [batch: 3163 / 6325], examples_per_second: 3825.8880, train_label_loss: 0.0002, \n"
     ]
    },
    {
     "name": "stdout",
     "output_type": "stream",
     "text": [
      "epoch: 3, [batch: 3795 / 6325], examples_per_second: 3802.7560, train_label_loss: 0.0000, \n"
     ]
    },
    {
     "name": "stdout",
     "output_type": "stream",
     "text": [
      "epoch: 3, [batch: 4427 / 6325], examples_per_second: 3920.9945, train_label_loss: 0.0167, \n"
     ]
    },
    {
     "name": "stdout",
     "output_type": "stream",
     "text": [
      "epoch: 3, [batch: 5060 / 6325], examples_per_second: 3939.5171, train_label_loss: 0.0000, \n"
     ]
    },
    {
     "name": "stdout",
     "output_type": "stream",
     "text": [
      "epoch: 3, [batch: 5692 / 6325], examples_per_second: 3994.4157, train_label_loss: 0.0000, \n"
     ]
    },
    {
     "name": "stdout",
     "output_type": "stream",
     "text": [
      "=============================================================\n",
      "epoch: 3, source_val_acc_label: 0.9968, target_val_acc_label: 0.2650, source_val_label_loss: 0.0110, target_val_label_loss: 2.5482, \n",
      "=============================================================\n"
     ]
    },
    {
     "name": "stdout",
     "output_type": "stream",
     "text": [
      "epoch: 4, [batch: 1 / 6307], examples_per_second: 4.3527, train_label_loss: 0.0358, \n"
     ]
    },
    {
     "name": "stdout",
     "output_type": "stream",
     "text": [
      "epoch: 4, [batch: 631 / 6307], examples_per_second: 3826.3742, train_label_loss: 0.0015, \n"
     ]
    },
    {
     "name": "stdout",
     "output_type": "stream",
     "text": [
      "epoch: 4, [batch: 1262 / 6307], examples_per_second: 3815.0961, train_label_loss: 0.0000, \n"
     ]
    },
    {
     "name": "stdout",
     "output_type": "stream",
     "text": [
      "epoch: 4, [batch: 1892 / 6307], examples_per_second: 3762.0118, train_label_loss: 0.0003, \n"
     ]
    },
    {
     "name": "stdout",
     "output_type": "stream",
     "text": [
      "epoch: 4, [batch: 2523 / 6307], examples_per_second: 3884.6021, train_label_loss: 0.0014, \n"
     ]
    },
    {
     "name": "stdout",
     "output_type": "stream",
     "text": [
      "epoch: 4, [batch: 3154 / 6307], examples_per_second: 3850.6103, train_label_loss: 0.0001, \n"
     ]
    },
    {
     "name": "stdout",
     "output_type": "stream",
     "text": [
      "epoch: 4, [batch: 3784 / 6307], examples_per_second: 3847.1606, train_label_loss: 0.0006, \n"
     ]
    },
    {
     "name": "stdout",
     "output_type": "stream",
     "text": [
      "epoch: 4, [batch: 4415 / 6307], examples_per_second: 3977.0785, train_label_loss: 0.0304, \n"
     ]
    },
    {
     "name": "stdout",
     "output_type": "stream",
     "text": [
      "epoch: 4, [batch: 5045 / 6307], examples_per_second: 3996.0559, train_label_loss: 0.0000, \n"
     ]
    },
    {
     "name": "stdout",
     "output_type": "stream",
     "text": [
      "epoch: 4, [batch: 5676 / 6307], examples_per_second: 3910.4646, train_label_loss: 0.0001, \n"
     ]
    },
    {
     "name": "stdout",
     "output_type": "stream",
     "text": [
      "=============================================================\n",
      "epoch: 4, source_val_acc_label: 0.9990, target_val_acc_label: 0.3419, source_val_label_loss: 0.0056, target_val_label_loss: 1.9992, \n",
      "=============================================================\n"
     ]
    },
    {
     "name": "stdout",
     "output_type": "stream",
     "text": [
      "epoch: 5, [batch: 1 / 6302], examples_per_second: 4.3171, train_label_loss: 0.0000, \n"
     ]
    },
    {
     "name": "stdout",
     "output_type": "stream",
     "text": [
      "epoch: 5, [batch: 631 / 6302], examples_per_second: 3814.1959, train_label_loss: 0.0000, \n"
     ]
    },
    {
     "name": "stdout",
     "output_type": "stream",
     "text": [
      "epoch: 5, [batch: 1261 / 6302], examples_per_second: 3825.2277, train_label_loss: 0.0000, \n"
     ]
    },
    {
     "name": "stdout",
     "output_type": "stream",
     "text": [
      "epoch: 5, [batch: 1891 / 6302], examples_per_second: 3812.4945, train_label_loss: 0.0001, \n"
     ]
    },
    {
     "name": "stdout",
     "output_type": "stream",
     "text": [
      "epoch: 5, [batch: 2521 / 6302], examples_per_second: 3775.2254, train_label_loss: 0.0000, \n"
     ]
    },
    {
     "name": "stdout",
     "output_type": "stream",
     "text": [
      "epoch: 5, [batch: 3151 / 6302], examples_per_second: 3829.8343, train_label_loss: 0.0007, \n"
     ]
    },
    {
     "name": "stdout",
     "output_type": "stream",
     "text": [
      "epoch: 5, [batch: 3781 / 6302], examples_per_second: 3912.3803, train_label_loss: 0.0003, \n"
     ]
    },
    {
     "name": "stdout",
     "output_type": "stream",
     "text": [
      "epoch: 5, [batch: 4411 / 6302], examples_per_second: 3970.3583, train_label_loss: 0.0001, \n"
     ]
    },
    {
     "name": "stdout",
     "output_type": "stream",
     "text": [
      "epoch: 5, [batch: 5041 / 6302], examples_per_second: 3948.9150, train_label_loss: 0.0253, \n"
     ]
    },
    {
     "name": "stdout",
     "output_type": "stream",
     "text": [
      "epoch: 5, [batch: 5671 / 6302], examples_per_second: 3889.0260, train_label_loss: 0.0000, \n"
     ]
    },
    {
     "name": "stdout",
     "output_type": "stream",
     "text": [
      "=============================================================\n",
      "epoch: 5, source_val_acc_label: 0.9987, target_val_acc_label: 0.2945, source_val_label_loss: 0.0068, target_val_label_loss: 2.3786, \n",
      "=============================================================\n"
     ]
    },
    {
     "name": "stdout",
     "output_type": "stream",
     "text": [
      "Patience (3) exhausted\n"
     ]
    }
   ],
   "source": [
    "###################################\n",
    "# train\n",
    "###################################\n",
    "jig = PTN_Train_Eval_Test_Jig(model, p.BEST_MODEL_PATH, p.device)\n",
    "\n",
    "jig.train(\n",
    "    train_iterable=datasets.source.processed.train,\n",
    "    source_val_iterable=datasets.source.processed.val,\n",
    "    target_val_iterable=datasets.target.processed.val,\n",
    "    num_epochs=p.n_epoch,\n",
    "    num_logs_per_epoch=p.NUM_LOGS_PER_EPOCH,\n",
    "    patience=p.patience,\n",
    "    optimizer=optimizer,\n",
    "    criteria_for_best=p.criteria_for_best,\n",
    ")"
   ]
  },
  {
   "cell_type": "code",
   "execution_count": 23,
   "id": "31e8fabf",
   "metadata": {
    "execution": {
     "iopub.execute_input": "2022-03-28T09:08:28.791279Z",
     "iopub.status.busy": "2022-03-28T09:08:28.790917Z",
     "iopub.status.idle": "2022-03-28T09:08:28.824341Z",
     "shell.execute_reply": "2022-03-28T09:08:28.823638Z"
    },
    "papermill": {
     "duration": 0.07571,
     "end_time": "2022-03-28T09:08:28.824497",
     "exception": false,
     "start_time": "2022-03-28T09:08:28.748787",
     "status": "completed"
    },
    "tags": []
   },
   "outputs": [],
   "source": [
    "total_experiment_time_secs = time.time() - start_time_secs"
   ]
  },
  {
   "cell_type": "code",
   "execution_count": 24,
   "id": "87b9595b",
   "metadata": {
    "execution": {
     "iopub.execute_input": "2022-03-28T09:08:28.911965Z",
     "iopub.status.busy": "2022-03-28T09:08:28.911366Z",
     "iopub.status.idle": "2022-03-28T09:11:13.188290Z",
     "shell.execute_reply": "2022-03-28T09:11:13.187504Z"
    },
    "papermill": {
     "duration": 164.322503,
     "end_time": "2022-03-28T09:11:13.188478",
     "exception": false,
     "start_time": "2022-03-28T09:08:28.865975",
     "status": "completed"
    },
    "tags": []
   },
   "outputs": [],
   "source": [
    "###################################\n",
    "# Evaluate the model\n",
    "###################################\n",
    "source_test_label_accuracy, source_test_label_loss = jig.test(datasets.source.processed.test)\n",
    "target_test_label_accuracy, target_test_label_loss = jig.test(datasets.target.processed.test)\n",
    "\n",
    "source_val_label_accuracy, source_val_label_loss = jig.test(datasets.source.processed.val)\n",
    "target_val_label_accuracy, target_val_label_loss = jig.test(datasets.target.processed.val)\n",
    "\n",
    "history = jig.get_history()\n",
    "\n",
    "total_epochs_trained = len(history[\"epoch_indices\"])\n",
    "\n",
    "val_dl = Iterable_Aggregator((datasets.source.original.val,datasets.target.original.val))\n",
    "\n",
    "confusion = ptn_confusion_by_domain_over_dataloader(model, p.device, val_dl)\n",
    "per_domain_accuracy = per_domain_accuracy_from_confusion(confusion)\n",
    "\n",
    "# Add a key to per_domain_accuracy for if it was a source domain\n",
    "for domain, accuracy in per_domain_accuracy.items():\n",
    "    per_domain_accuracy[domain] = {\n",
    "        \"accuracy\": accuracy,\n",
    "        \"source?\": domain in p.domains_source\n",
    "    }\n",
    "\n",
    "# Do an independent accuracy assesment JUST TO BE SURE!\n",
    "# _source_test_label_accuracy = independent_accuracy_assesment(model, datasets.source.processed.test, p.device)\n",
    "# _target_test_label_accuracy = independent_accuracy_assesment(model, datasets.target.processed.test, p.device)\n",
    "# _source_val_label_accuracy = independent_accuracy_assesment(model, datasets.source.processed.val, p.device)\n",
    "# _target_val_label_accuracy = independent_accuracy_assesment(model, datasets.target.processed.val, p.device)\n",
    "\n",
    "# assert(_source_test_label_accuracy == source_test_label_accuracy)\n",
    "# assert(_target_test_label_accuracy == target_test_label_accuracy)\n",
    "# assert(_source_val_label_accuracy == source_val_label_accuracy)\n",
    "# assert(_target_val_label_accuracy == target_val_label_accuracy)\n",
    "\n",
    "experiment = {\n",
    "    \"experiment_name\": p.experiment_name,\n",
    "    \"parameters\": dict(p),\n",
    "    \"results\": {\n",
    "        \"source_test_label_accuracy\": source_test_label_accuracy,\n",
    "        \"source_test_label_loss\": source_test_label_loss,\n",
    "        \"target_test_label_accuracy\": target_test_label_accuracy,\n",
    "        \"target_test_label_loss\": target_test_label_loss,\n",
    "        \"source_val_label_accuracy\": source_val_label_accuracy,\n",
    "        \"source_val_label_loss\": source_val_label_loss,\n",
    "        \"target_val_label_accuracy\": target_val_label_accuracy,\n",
    "        \"target_val_label_loss\": target_val_label_loss,\n",
    "        \"total_epochs_trained\": total_epochs_trained,\n",
    "        \"total_experiment_time_secs\": total_experiment_time_secs,\n",
    "        \"confusion\": confusion,\n",
    "        \"per_domain_accuracy\": per_domain_accuracy,\n",
    "    },\n",
    "    \"history\": history,\n",
    "    \"dataset_metrics\": get_dataset_metrics(datasets, \"ptn\"),\n",
    "}"
   ]
  },
  {
   "cell_type": "code",
   "execution_count": 25,
   "id": "54a21829",
   "metadata": {
    "execution": {
     "iopub.execute_input": "2022-03-28T09:11:13.276110Z",
     "iopub.status.busy": "2022-03-28T09:11:13.275733Z",
     "iopub.status.idle": "2022-03-28T09:11:13.485297Z",
     "shell.execute_reply": "2022-03-28T09:11:13.485654Z"
    },
    "papermill": {
     "duration": 0.253902,
     "end_time": "2022-03-28T09:11:13.485798",
     "exception": false,
     "start_time": "2022-03-28T09:11:13.231896",
     "status": "completed"
    },
    "tags": []
   },
   "outputs": [
    {
     "data": {
      "image/png": "[encoded data removed]",
      "text/plain": [
       "<Figure size 1080x504 with 1 Axes>"
      ]
     },
     "metadata": {
      "needs_background": "light"
     },
     "output_type": "display_data"
    }
   ],
   "source": [
    "ax = get_loss_curve(experiment)\n",
    "plt.show()"
   ]
  },
  {
   "cell_type": "code",
   "execution_count": 26,
   "id": "fd8a0f60",
   "metadata": {
    "execution": {
     "iopub.execute_input": "2022-03-28T09:11:13.588757Z",
     "iopub.status.busy": "2022-03-28T09:11:13.588380Z",
     "iopub.status.idle": "2022-03-28T09:11:13.964692Z",
     "shell.execute_reply": "2022-03-28T09:11:13.965383Z"
    },
    "papermill": {
     "duration": 0.420319,
     "end_time": "2022-03-28T09:11:13.965613",
     "exception": false,
     "start_time": "2022-03-28T09:11:13.545294",
     "status": "completed"
    },
    "tags": []
   },
   "outputs": [
    {
     "data": {
      "text/plain": [
       "<AxesSubplot:title={'center':'Results'}>"
      ]
     },
     "execution_count": 26,
     "metadata": {},
     "output_type": "execute_result"
    },
    {
     "data": {
      "image/png": "[encoded data removed]",
      "text/plain": [
       "<Figure size 1080x504 with 1 Axes>"
      ]
     },
     "metadata": {
      "needs_background": "light"
     },
     "output_type": "display_data"
    }
   ],
   "source": [
    "get_results_table(experiment)"
   ]
  },
  {
   "cell_type": "code",
   "execution_count": 27,
   "id": "cf8dc689",
   "metadata": {
    "execution": {
     "iopub.execute_input": "2022-03-28T09:11:14.056567Z",
     "iopub.status.busy": "2022-03-28T09:11:14.056151Z",
     "iopub.status.idle": "2022-03-28T09:11:14.303459Z",
     "shell.execute_reply": "2022-03-28T09:11:14.304205Z"
    },
    "papermill": {
     "duration": 0.291908,
     "end_time": "2022-03-28T09:11:14.304405",
     "exception": false,
     "start_time": "2022-03-28T09:11:14.012497",
     "status": "completed"
    },
    "tags": []
   },
   "outputs": [
    {
     "data": {
      "text/plain": [
       "<AxesSubplot:title={'center':'Per Domain Validation Accuracy'}, xlabel='domain'>"
      ]
     },
     "execution_count": 27,
     "metadata": {},
     "output_type": "execute_result"
    },
    {
     "data": {
      "image/png": "[encoded data removed]",
      "text/plain": [
       "<Figure size 1080x504 with 1 Axes>"
      ]
     },
     "metadata": {
      "needs_background": "light"
     },
     "output_type": "display_data"
    }
   ],
   "source": [
    "get_domain_accuracies(experiment)"
   ]
  },
  {
   "cell_type": "code",
   "execution_count": 28,
   "id": "a74ae082",
   "metadata": {
    "execution": {
     "iopub.execute_input": "2022-03-28T09:11:14.398315Z",
     "iopub.status.busy": "2022-03-28T09:11:14.397491Z",
     "iopub.status.idle": "2022-03-28T09:11:14.420853Z",
     "shell.execute_reply": "2022-03-28T09:11:14.420018Z"
    },
    "papermill": {
     "duration": 0.069519,
     "end_time": "2022-03-28T09:11:14.421024",
     "exception": false,
     "start_time": "2022-03-28T09:11:14.351505",
     "status": "completed"
    },
    "tags": []
   },
   "outputs": [
    {
     "name": "stdout",
     "output_type": "stream",
     "text": [
      "Source Test Label Accuracy: 0.995997191011236 Target Test Label Accuracy: 0.36451822916666665\n",
      "Source Val Label Accuracy: 0.9961428571428571 Target Val Label Accuracy: 0.3607421875\n"
     ]
    }
   ],
   "source": [
    "print(\"Source Test Label Accuracy:\", experiment[\"results\"][\"source_test_label_accuracy\"], \"Target Test Label Accuracy:\", experiment[\"results\"][\"target_test_label_accuracy\"])\n",
    "print(\"Source Val Label Accuracy:\", experiment[\"results\"][\"source_val_label_accuracy\"], \"Target Val Label Accuracy:\", experiment[\"results\"][\"target_val_label_accuracy\"])"
   ]
  },
  {
   "cell_type": "code",
   "execution_count": 29,
   "id": "dacca602",
   "metadata": {
    "execution": {
     "iopub.execute_input": "2022-03-28T09:11:14.514644Z",
     "iopub.status.busy": "2022-03-28T09:11:14.514273Z",
     "iopub.status.idle": "2022-03-28T09:11:14.541250Z",
     "shell.execute_reply": "2022-03-28T09:11:14.541939Z"
    },
    "papermill": {
     "duration": 0.074185,
     "end_time": "2022-03-28T09:11:14.542151",
     "exception": false,
     "start_time": "2022-03-28T09:11:14.467966",
     "status": "completed"
    },
    "tags": [
     "experiment_json"
    ]
   },
   "outputs": [
    {
     "data": {
      "text/plain": [
       "'{\"experiment_name\": \"tl_3-jitter10v2:cores -> oracle.run1.framed\", \"parameters\": {\"experiment_name\": \"tl_3-jitter10v2:cores -> oracle.run1.framed\", \"device\": \"cuda\", \"lr\": 0.0001, \"x_shape\": [2, 256], \"n_shot\": 3, \"n_query\": 2, \"train_k_factor\": 3, \"val_k_factor\": 2, \"test_k_factor\": 2, \"torch_default_dtype\": \"torch.float32\", \"n_epoch\": 50, \"patience\": 3, \"criteria_for_best\": \"target_accuracy\", \"x_net\": [{\"class\": \"nnReshape\", \"kargs\": {\"shape\": [-1, 1, 2, 256]}}, {\"class\": \"Conv2d\", \"kargs\": {\"in_channels\": 1, \"out_channels\": 256, \"kernel_size\": [1, 7], \"bias\": false, \"padding\": [0, 3]}}, {\"class\": \"ReLU\", \"kargs\": {\"inplace\": true}}, {\"class\": \"BatchNorm2d\", \"kargs\": {\"num_features\": 256}}, {\"class\": \"Conv2d\", \"kargs\": {\"in_channels\": 256, \"out_channels\": 80, \"kernel_size\": [2, 7], \"bias\": true, \"padding\": [0, 3]}}, {\"class\": \"ReLU\", \"kargs\": {\"inplace\": true}}, {\"class\": \"BatchNorm2d\", \"kargs\": {\"num_features\": 80}}, {\"class\": \"Flatten\", \"kargs\": {}}, {\"class\": \"Linear\", \"kargs\": {\"in_features\": 20480, \"out_features\": 256}}, {\"class\": \"ReLU\", \"kargs\": {\"inplace\": true}}, {\"class\": \"BatchNorm1d\", \"kargs\": {\"num_features\": 256}}, {\"class\": \"Linear\", \"kargs\": {\"in_features\": 256, \"out_features\": 256}}], \"NUM_LOGS_PER_EPOCH\": 10, \"BEST_MODEL_PATH\": \"./best_model.pth\", \"n_way\": 16, \"datasets\": [{\"labels\": [\"1-10.\", \"1-11.\", \"1-15.\", \"1-16.\", \"1-17.\", \"1-18.\", \"1-19.\", \"10-4.\", \"10-7.\", \"11-1.\", \"11-14.\", \"11-17.\", \"11-20.\", \"11-7.\", \"13-20.\", \"13-8.\", \"14-10.\", \"14-11.\", \"14-14.\", \"14-7.\", \"15-1.\", \"15-20.\", \"16-1.\", \"16-16.\", \"17-10.\", \"17-11.\", \"17-2.\", \"19-1.\", \"19-16.\", \"19-19.\", \"19-20.\", \"19-3.\", \"2-10.\", \"2-11.\", \"2-17.\", \"2-18.\", \"2-20.\", \"2-3.\", \"2-4.\", \"2-5.\", \"2-6.\", \"2-7.\", \"2-8.\", \"3-13.\", \"3-18.\", \"3-3.\", \"4-1.\", \"4-10.\", \"4-11.\", \"4-19.\", \"5-5.\", \"6-15.\", \"7-10.\", \"7-14.\", \"8-18.\", \"8-20.\", \"8-3.\", \"8-8.\"], \"domains\": [1, 2, 3, 4, 5], \"num_examples_per_domain_per_label\": -1, \"pickle_path\": \"/root/csc500-main/datasets/cores.stratified_ds.2022A.pkl\", \"source_or_target_dataset\": \"source\", \"x_transforms\": [\"unit_mag\", \"jitter_256_10\", \"lowpass_+/-10MHz\", \"take_200\"], \"episode_transforms\": [], \"domain_prefix\": \"C_\"}, {\"labels\": [\"3123D52\", \"3123D65\", \"3123D79\", \"3123D80\", \"3123D54\", \"3123D70\", \"3123D7B\", \"3123D89\", \"3123D58\", \"3123D76\", \"3123D7D\", \"3123EFE\", \"3123D64\", \"3123D78\", \"3123D7E\", \"3124E4A\"], \"domains\": [32, 38, 8, 44, 14, 50, 20, 26], \"num_examples_per_domain_per_label\": 2000, \"pickle_path\": \"/root/csc500-main/datasets/oracle.Run1_framed_2000Examples_stratified_ds.2022A.pkl\", \"source_or_target_dataset\": \"target\", \"x_transforms\": [\"unit_mag\", \"jitter_256_10\", \"take_200\", \"resample_20Msps_to_25Msps\"], \"episode_transforms\": [], \"domain_prefix\": \"O_\"}], \"seed\": 500, \"dataset_seed\": 500, \"domains_source\": [\"C_1\", \"C_2\", \"C_3\", \"C_4\", \"C_5\"], \"domains_target\": [\"O_32\", \"O_38\", \"O_8\", \"O_44\", \"O_14\", \"O_50\", \"O_20\", \"O_26\"]}, \"results\": {\"source_test_label_accuracy\": 0.995997191011236, \"source_test_label_loss\": 0.01856447383761406, \"target_test_label_accuracy\": 0.36451822916666665, \"target_test_label_loss\": 1.7894998788833618, \"source_val_label_accuracy\": 0.9961428571428571, \"source_val_label_loss\": 0.015620816498994827, \"target_val_label_accuracy\": 0.3607421875, \"target_val_label_loss\": 1.7906688451766968, \"total_epochs_trained\": 5, \"total_experiment_time_secs\": 898.2650256156921, \"confusion\": {\"C_4\": {\"38\": {\"38\": 40}, \"3\": {\"3\": 122, \"50\": 1, \"52\": 1}, \"24\": {\"24\": 56}, \"49\": {\"49\": 20}, \"7\": {\"7\": 24}, \"17\": {\"17\": 80}, \"43\": {\"43\": 148}, \"30\": {\"30\": 43, \"17\": 1}, \"44\": {\"44\": 132}, \"23\": {\"23\": 144}, \"37\": {\"37\": 23, \"16\": 1}, \"4\": {\"4\": 132}, \"57\": {\"57\": 100}, \"16\": {\"16\": 96}, \"18\": {\"18\": 105, \"36\": 2, \"15\": 1}, \"20\": {\"20\": 124}, \"45\": {\"45\": 96}, \"15\": {\"15\": 132}, \"52\": {\"52\": 116}, \"19\": {\"19\": 140}, \"54\": {\"54\": 108}, \"56\": {\"2\": 1, \"56\": 129}, \"40\": {\"40\": 134}, \"28\": {\"28\": 29, \"34\": 3}, \"2\": {\"2\": 36}, \"9\": {\"9\": 120}, \"0\": {\"0\": 80}, \"36\": {\"36\": 91, \"18\": 1}, \"55\": {\"55\": 130}, \"35\": {\"35\": 40}, \"39\": {\"39\": 20}, \"31\": {\"31\": 28}, \"14\": {\"0\": 2, \"14\": 12, \"1\": 1, \"57\": 1}, \"12\": {\"12\": 92}, \"6\": {\"6\": 106, \"52\": 6}, \"26\": {\"26\": 23, \"18\": 1}, \"50\": {\"50\": 129, \"3\": 3}, \"21\": {\"21\": 122}, \"46\": {\"46\": 137, \"47\": 3}, \"51\": {\"51\": 140}, \"41\": {\"41\": 36}, \"34\": {\"34\": 22, \"31\": 1, \"28\": 1}, \"47\": {\"47\": 120}, \"5\": {\"5\": 105, \"18\": 1, \"16\": 1, \"15\": 1}, \"1\": {\"1\": 40}, \"48\": {\"48\": 134}, \"29\": {\"29\": 118}, \"22\": {\"22\": 128}, \"10\": {\"10\": 132}, \"32\": {\"32\": 24}, \"13\": {\"13\": 112}, \"42\": {\"42\": 32}, \"27\": {\"27\": 138}, \"8\": {\"8\": 142}, \"33\": {\"33\": 36}, \"25\": {\"25\": 132}, \"11\": {\"11\": 104}, \"53\": {\"53\": 112}}, \"C_2\": {\"32\": {\"32\": 27, \"54\": 1}, \"17\": {\"17\": 104}, \"38\": {\"38\": 20}, \"2\": {\"2\": 32}, \"43\": {\"43\": 144}, \"56\": {\"56\": 144}, \"37\": {\"37\": 36}, \"49\": {\"49\": 24}, \"0\": {\"0\": 48}, \"29\": {\"29\": 128}, \"35\": {\"35\": 32}, \"18\": {\"18\": 48}, \"25\": {\"25\": 136}, \"23\": {\"23\": 124}, \"15\": {\"15\": 146}, \"21\": {\"21\": 120}, \"51\": {\"51\": 128}, \"20\": {\"20\": 138}, \"7\": {\"7\": 36}, \"50\": {\"50\": 136}, \"31\": {\"31\": 28}, \"30\": {\"30\": 140}, \"19\": {\"19\": 156}, \"9\": {\"9\": 144}, \"52\": {\"52\": 124}, \"45\": {\"45\": 125, \"4\": 2, \"12\": 1}, \"8\": {\"8\": 154}, \"55\": {\"55\": 160}, \"12\": {\"12\": 92}, \"40\": {\"40\": 140}, \"28\": {\"28\": 28}, \"36\": {\"36\": 116}, \"39\": {\"39\": 28}, \"46\": {\"46\": 122}, \"14\": {\"14\": 20, \"57\": 3, \"0\": 1}, \"57\": {\"57\": 142}, \"34\": {\"34\": 28}, \"1\": {\"1\": 112}, \"53\": {\"53\": 136}, \"48\": {\"48\": 130}, \"3\": {\"3\": 91, \"46\": 1}, \"16\": {\"16\": 152}, \"6\": {\"6\": 124}, \"10\": {\"10\": 112}, \"13\": {\"13\": 116}, \"26\": {\"26\": 24}, \"24\": {\"24\": 96}, \"44\": {\"44\": 100}, \"27\": {\"27\": 150}, \"22\": {\"22\": 128}, \"33\": {\"33\": 28}, \"47\": {\"47\": 118}, \"5\": {\"5\": 118, \"11\": 2}, \"4\": {\"4\": 138}, \"41\": {\"41\": 20}, \"11\": {\"11\": 150}, \"54\": {\"54\": 108}, \"42\": {\"42\": 36}}, \"C_3\": {\"5\": {\"5\": 116}, \"32\": {\"32\": 28}, \"33\": {\"33\": 28}, \"49\": {\"49\": 20}, \"39\": {\"39\": 16}, \"11\": {\"11\": 142}, \"8\": {\"8\": 116}, \"26\": {\"26\": 24}, \"51\": {\"51\": 122}, \"4\": {\"4\": 146}, \"52\": {\"52\": 118}, \"47\": {\"47\": 92}, \"17\": {\"17\": 107, \"24\": 1}, \"53\": {\"53\": 136}, \"2\": {\"2\": 32}, \"12\": {\"12\": 91, \"17\": 1}, \"37\": {\"37\": 28}, \"9\": {\"9\": 148}, \"13\": {\"13\": 128}, \"54\": {\"54\": 100}, \"31\": {\"31\": 28}, \"34\": {\"34\": 32}, \"24\": {\"24\": 104}, \"7\": {\"7\": 36}, \"50\": {\"50\": 116, \"11\": 1, \"52\": 1}, \"46\": {\"46\": 128}, \"44\": {\"44\": 88}, \"40\": {\"40\": 116}, \"21\": {\"21\": 128}, \"45\": {\"45\": 57, \"17\": 3}, \"16\": {\"16\": 126}, \"14\": {\"14\": 37, \"0\": 3}, \"36\": {\"36\": 100}, \"56\": {\"56\": 114}, \"10\": {\"10\": 64}, \"18\": {\"18\": 84}, \"48\": {\"48\": 116}, \"38\": {\"38\": 28}, \"27\": {\"27\": 130}, \"42\": {\"42\": 28}, \"15\": {\"15\": 134}, \"1\": {\"1\": 100}, \"28\": {\"28\": 28}, \"43\": {\"43\": 136}, \"0\": {\"0\": 124}, \"57\": {\"57\": 124}, \"3\": {\"3\": 147, \"25\": 1}, \"29\": {\"29\": 124}, \"41\": {\"41\": 28}, \"25\": {\"25\": 146}, \"6\": {\"6\": 86, \"20\": 1, \"17\": 1}, \"35\": {\"35\": 28}, \"20\": {\"20\": 126}, \"23\": {\"23\": 134}, \"22\": {\"22\": 140}, \"19\": {\"19\": 116}, \"55\": {\"55\": 124}, \"30\": {\"30\": 120}}, \"C_1\": {\"24\": {\"24\": 102, \"22\": 6}, \"25\": {\"25\": 140}, \"45\": {\"45\": 144}, \"42\": {\"42\": 40}, \"2\": {\"2\": 36}, \"9\": {\"9\": 150}, \"21\": {\"21\": 124}, \"26\": {\"26\": 24}, \"49\": {\"49\": 32}, \"39\": {\"39\": 28}, \"46\": {\"46\": 136}, \"17\": {\"17\": 64}, \"19\": {\"19\": 156}, \"23\": {\"23\": 132}, \"1\": {\"1\": 98, \"57\": 2}, \"29\": {\"29\": 140}, \"56\": {\"56\": 150}, \"37\": {\"37\": 32}, \"33\": {\"33\": 32}, \"55\": {\"55\": 142}, \"30\": {\"30\": 120}, \"0\": {\"0\": 152}, \"36\": {\"36\": 64}, \"32\": {\"32\": 32}, \"31\": {\"31\": 28}, \"15\": {\"15\": 137, \"11\": 1}, \"12\": {\"12\": 116}, \"38\": {\"38\": 24}, \"40\": {\"40\": 146}, \"14\": {\"14\": 24}, \"13\": {\"13\": 150}, \"48\": {\"48\": 148}, \"34\": {\"34\": 24}, \"44\": {\"44\": 130}, \"5\": {\"5\": 152}, \"11\": {\"11\": 138, \"10\": 2}, \"7\": {\"7\": 28}, \"18\": {\"18\": 72}, \"52\": {\"52\": 132}, \"51\": {\"51\": 142}, \"41\": {\"41\": 24}, \"16\": {\"16\": 140}, \"22\": {\"22\": 123, \"24\": 10, \"11\": 1}, \"3\": {\"3\": 139, \"49\": 1}, \"54\": {\"54\": 104}, \"27\": {\"27\": 144}, \"20\": {\"20\": 140}, \"8\": {\"8\": 137, \"6\": 1}, \"50\": {\"50\": 144}, \"57\": {\"57\": 140}, \"4\": {\"4\": 132}, \"47\": {\"47\": 146}, \"10\": {\"10\": 96}, \"35\": {\"35\": 36}, \"53\": {\"53\": 126}, \"6\": {\"6\": 96}, \"43\": {\"43\": 140}, \"28\": {\"28\": 28}}, \"C_5\": {\"35\": {\"35\": 36}, \"57\": {\"57\": 132}, \"20\": {\"20\": 144}, \"12\": {\"12\": 96}, \"32\": {\"32\": 32}, \"25\": {\"25\": 138}, \"44\": {\"44\": 147, \"47\": 1}, \"31\": {\"31\": 35, \"40\": 1}, \"11\": {\"11\": 144, \"15\": 6}, \"47\": {\"47\": 100}, \"23\": {\"23\": 124}, \"43\": {\"43\": 144}, \"37\": {\"37\": 24}, \"5\": {\"5\": 128}, \"45\": {\"45\": 119, \"17\": 2, \"6\": 1, \"4\": 2}, \"7\": {\"7\": 32}, \"13\": {\"13\": 136}, \"49\": {\"49\": 36}, \"46\": {\"46\": 148}, \"16\": {\"16\": 136}, \"54\": {\"54\": 112}, \"19\": {\"19\": 152}, \"55\": {\"55\": 150}, \"30\": {\"30\": 128}, \"34\": {\"34\": 36}, \"50\": {\"50\": 129, \"21\": 1, \"20\": 3, \"16\": 1}, \"3\": {\"3\": 98, \"56\": 2}, \"10\": {\"10\": 68}, \"27\": {\"27\": 142}, \"33\": {\"33\": 32}, \"56\": {\"56\": 142}, \"9\": {\"9\": 150}, \"14\": {\"14\": 44}, \"4\": {\"4\": 100}, \"42\": {\"42\": 40}, \"24\": {\"24\": 80}, \"39\": {\"39\": 20}, \"52\": {\"52\": 130}, \"2\": {\"2\": 28}, \"28\": {\"28\": 32}, \"53\": {\"53\": 122}, \"17\": {\"17\": 116}, \"29\": {\"29\": 132}, \"38\": {\"38\": 32}, \"15\": {\"15\": 140, \"11\": 4}, \"26\": {\"26\": 24}, \"21\": {\"21\": 144}, \"41\": {\"41\": 28}, \"48\": {\"48\": 136}, \"22\": {\"22\": 28}, \"8\": {\"8\": 148}, \"18\": {\"18\": 64}, \"0\": {\"0\": 122}, \"1\": {\"1\": 137, \"48\": 1}, \"40\": {\"40\": 123, \"31\": 1}, \"6\": {\"6\": 128}, \"51\": {\"51\": 142}, \"36\": {\"36\": 92}}, \"O_50\": {\"7\": {\"5\": 36, \"6\": 15, \"13\": 49, \"10\": 28, \"7\": 80, \"8\": 17, \"3\": 2, \"1\": 2, \"4\": 8, \"15\": 1, \"0\": 2}, \"10\": {\"8\": 43, \"6\": 17, \"10\": 73, \"0\": 27, \"13\": 34, \"7\": 30, \"5\": 11, \"2\": 1, \"3\": 3, \"4\": 1}, \"0\": {\"2\": 64, \"0\": 106, \"6\": 11, \"10\": 31, \"8\": 4, \"5\": 7, \"13\": 9, \"1\": 5, \"7\": 2, \"4\": 1}, \"11\": {\"11\": 123, \"9\": 37, \"1\": 18, \"15\": 23, \"14\": 23, \"12\": 10, \"2\": 1, \"4\": 3, \"6\": 1, \"0\": 1}, \"2\": {\"2\": 141, \"1\": 7, \"0\": 58, \"15\": 3, \"10\": 4, \"6\": 4, \"14\": 20, \"11\": 1, \"13\": 1, \"5\": 1}, \"14\": {\"14\": 146, \"2\": 11, \"11\": 17, \"12\": 34, \"9\": 16, \"1\": 7, \"15\": 8, \"0\": 1}, \"9\": {\"11\": 57, \"14\": 23, \"12\": 52, \"9\": 105, \"15\": 2, \"4\": 1}, \"13\": {\"10\": 41, \"8\": 7, \"15\": 6, \"6\": 37, \"7\": 45, \"5\": 39, \"13\": 43, \"0\": 8, \"1\": 5, \"4\": 7, \"2\": 2}, \"8\": {\"8\": 138, \"0\": 13, \"10\": 44, \"7\": 6, \"3\": 34, \"2\": 1, \"13\": 3, \"5\": 1}, \"15\": {\"11\": 20, \"4\": 40, \"13\": 5, \"15\": 70, \"1\": 59, \"14\": 9, \"6\": 17, \"7\": 2, \"2\": 2, \"5\": 10, \"0\": 4, \"12\": 1, \"9\": 1}, \"4\": {\"4\": 48, \"15\": 48, \"5\": 29, \"11\": 9, \"7\": 10, \"6\": 26, \"1\": 44, \"13\": 12, \"0\": 3, \"2\": 4, \"10\": 4, \"14\": 3}, \"5\": {\"4\": 25, \"7\": 53, \"15\": 9, \"13\": 46, \"1\": 14, \"10\": 16, \"6\": 29, \"5\": 38, \"0\": 4, \"2\": 4, \"3\": 1, \"8\": 1}, \"3\": {\"8\": 47, \"3\": 187, \"7\": 5, \"10\": 1}, \"1\": {\"15\": 69, \"5\": 8, \"1\": 59, \"4\": 31, \"6\": 24, \"14\": 6, \"11\": 18, \"0\": 6, \"2\": 10, \"13\": 6, \"7\": 1, \"10\": 2}, \"6\": {\"6\": 48, \"13\": 43, \"15\": 15, \"4\": 28, \"5\": 33, \"1\": 22, \"7\": 15, \"14\": 2, \"10\": 13, \"0\": 19, \"2\": 2}, \"12\": {\"12\": 141, \"14\": 47, \"9\": 33, \"11\": 18, \"2\": 1}}, \"O_14\": {\"14\": {\"13\": 25, \"2\": 41, \"4\": 12, \"14\": 55, \"0\": 7, \"10\": 40, \"1\": 5, \"3\": 20, \"7\": 1, \"5\": 6, \"6\": 27, \"11\": 1}, \"6\": {\"14\": 31, \"6\": 63, \"3\": 6, \"2\": 48, \"4\": 6, \"13\": 68, \"7\": 2, \"5\": 12, \"15\": 2, \"10\": 2}, \"5\": {\"1\": 49, \"5\": 49, \"3\": 20, \"15\": 4, \"4\": 41, \"7\": 19, \"2\": 35, \"8\": 5, \"13\": 4, \"14\": 10, \"10\": 1, \"6\": 3}, \"15\": {\"15\": 157, \"7\": 55, \"5\": 5, \"2\": 9, \"6\": 8, \"1\": 2, \"13\": 3, \"4\": 1}, \"11\": {\"12\": 6, \"11\": 155, \"0\": 41, \"10\": 10, \"9\": 26, \"3\": 1, \"14\": 1}, \"8\": {\"8\": 194, \"2\": 1, \"9\": 6, \"0\": 6, \"4\": 2, \"1\": 13, \"10\": 2, \"3\": 12, \"5\": 4}, \"12\": {\"11\": 10, \"9\": 37, \"12\": 193}, \"1\": {\"5\": 36, \"1\": 99, \"8\": 7, \"7\": 41, \"4\": 22, \"3\": 10, \"2\": 17, \"14\": 2, \"13\": 1, \"6\": 4, \"15\": 1}, \"2\": {\"4\": 26, \"14\": 38, \"5\": 19, \"6\": 32, \"2\": 51, \"3\": 19, \"1\": 16, \"10\": 5, \"13\": 24, \"7\": 3, \"0\": 2, \"15\": 5}, \"13\": {\"6\": 78, \"13\": 62, \"14\": 32, \"4\": 10, \"5\": 5, \"2\": 24, \"10\": 24, \"15\": 3, \"0\": 1, \"3\": 1}, \"3\": {\"4\": 27, \"5\": 24, \"3\": 67, \"2\": 21, \"10\": 28, \"1\": 20, \"0\": 19, \"8\": 10, \"14\": 17, \"13\": 5, \"6\": 2}, \"0\": {\"0\": 115, \"3\": 20, \"4\": 5, \"10\": 40, \"11\": 35, \"13\": 1, \"9\": 12, \"14\": 2, \"8\": 8, \"1\": 1, \"5\": 1}, \"9\": {\"12\": 55, \"9\": 129, \"0\": 17, \"11\": 29, \"8\": 9, \"10\": 1}, \"4\": {\"3\": 33, \"14\": 12, \"5\": 40, \"4\": 49, \"15\": 1, \"6\": 10, \"7\": 6, \"8\": 6, \"2\": 34, \"13\": 9, \"1\": 30, \"0\": 5, \"10\": 5}, \"7\": {\"7\": 122, \"15\": 52, \"1\": 38, \"5\": 18, \"13\": 2, \"4\": 3, \"2\": 4, \"6\": 1}, \"10\": {\"11\": 15, \"13\": 8, \"14\": 28, \"0\": 46, \"3\": 26, \"10\": 106, \"2\": 5, \"5\": 1, \"4\": 3, \"8\": 1, \"9\": 1}}, \"O_32\": {\"4\": {\"5\": 17, \"2\": 56, \"13\": 26, \"0\": 44, \"4\": 43, \"7\": 30, \"8\": 16, \"14\": 6, \"11\": 2}, \"14\": {\"11\": 71, \"14\": 52, \"3\": 17, \"5\": 15, \"7\": 40, \"8\": 5, \"2\": 5, \"0\": 9, \"13\": 19, \"4\": 7}, \"5\": {\"8\": 26, \"14\": 29, \"5\": 41, \"0\": 28, \"13\": 24, \"7\": 30, \"2\": 15, \"11\": 20, \"4\": 16, \"3\": 10, \"15\": 1}, \"10\": {\"10\": 200, \"1\": 36, \"12\": 2, \"6\": 2}, \"13\": {\"5\": 34, \"14\": 16, \"7\": 27, \"0\": 23, \"4\": 23, \"2\": 8, \"13\": 49, \"8\": 23, \"3\": 22, \"11\": 15}, \"9\": {\"9\": 210, \"12\": 22, \"2\": 7, \"4\": 1}, \"6\": {\"6\": 221, \"10\": 2, \"12\": 15, \"9\": 1, \"1\": 1}, \"3\": {\"3\": 109, \"8\": 27, \"14\": 22, \"11\": 31, \"13\": 19, \"5\": 21, \"7\": 4, \"15\": 3, \"0\": 4}, \"15\": {\"15\": 212, \"8\": 10, \"3\": 13, \"0\": 4, \"14\": 1}, \"7\": {\"14\": 50, \"5\": 30, \"0\": 18, \"4\": 22, \"13\": 21, \"11\": 31, \"8\": 8, \"2\": 20, \"7\": 37, \"3\": 3}, \"12\": {\"12\": 209, \"9\": 17, \"6\": 13, \"10\": 1}, \"8\": {\"8\": 80, \"4\": 9, \"5\": 37, \"15\": 7, \"2\": 3, \"14\": 8, \"13\": 36, \"0\": 38, \"3\": 17, \"11\": 2, \"7\": 3}, \"11\": {\"11\": 114, \"14\": 63, \"7\": 9, \"5\": 9, \"13\": 11, \"3\": 27, \"2\": 1, \"0\": 2, \"8\": 2, \"4\": 2}, \"2\": {\"2\": 115, \"5\": 8, \"0\": 26, \"14\": 5, \"4\": 48, \"9\": 2, \"13\": 4, \"8\": 6, \"7\": 24, \"11\": 2}, \"1\": {\"1\": 193, \"10\": 46, \"6\": 1}, \"0\": {\"8\": 34, \"5\": 33, \"7\": 27, \"13\": 15, \"0\": 47, \"4\": 39, \"11\": 6, \"2\": 24, \"3\": 2, \"14\": 10, \"9\": 1, \"15\": 2}}, \"O_44\": {\"8\": {\"8\": 85, \"0\": 91, \"15\": 36, \"5\": 27, \"4\": 1}, \"11\": {\"13\": 48, \"11\": 142, \"9\": 4, \"6\": 39, \"2\": 1, \"7\": 6}, \"14\": {\"4\": 81, \"5\": 24, \"14\": 88, \"0\": 8, \"8\": 4, \"15\": 33, \"13\": 2}, \"10\": {\"2\": 45, \"10\": 78, \"7\": 13, \"1\": 49, \"3\": 8, \"11\": 2, \"12\": 42, \"6\": 2, \"9\": 1}, \"3\": {\"3\": 142, \"2\": 18, \"1\": 38, \"12\": 30, \"9\": 1, \"7\": 4, \"10\": 7}, \"15\": {\"15\": 81, \"14\": 24, \"4\": 26, \"0\": 47, \"8\": 40, \"5\": 22}, \"2\": {\"10\": 28, \"1\": 23, \"2\": 86, \"9\": 17, \"12\": 13, \"7\": 49, \"3\": 14, \"6\": 9, \"13\": 1}, \"12\": {\"1\": 73, \"3\": 17, \"10\": 41, \"12\": 102, \"2\": 6, \"7\": 1}, \"4\": {\"5\": 22, \"4\": 89, \"14\": 77, \"15\": 28, \"13\": 6, \"9\": 5, \"0\": 5, \"6\": 3, \"8\": 5}, \"1\": {\"1\": 65, \"12\": 55, \"10\": 51, \"3\": 44, \"2\": 18, \"7\": 4, \"9\": 3}, \"0\": {\"15\": 47, \"8\": 62, \"0\": 80, \"5\": 44, \"14\": 5, \"4\": 2}, \"9\": {\"13\": 38, \"10\": 3, \"9\": 76, \"7\": 54, \"6\": 27, \"4\": 4, \"2\": 29, \"3\": 2, \"14\": 3, \"11\": 1, \"1\": 2, \"12\": 1}, \"5\": {\"5\": 106, \"0\": 53, \"15\": 19, \"4\": 19, \"14\": 25, \"8\": 18}, \"6\": {\"13\": 58, \"11\": 44, \"6\": 71, \"2\": 9, \"7\": 19, \"9\": 38, \"10\": 1}, \"7\": {\"2\": 54, \"9\": 58, \"7\": 84, \"13\": 8, \"6\": 12, \"12\": 3, \"1\": 8, \"3\": 11, \"10\": 2}, \"13\": {\"7\": 18, \"13\": 72, \"6\": 57, \"11\": 34, \"9\": 44, \"4\": 9, \"14\": 6}}, \"O_8\": {\"13\": {\"7\": 29, \"9\": 2, \"13\": 38, \"4\": 38, \"1\": 9, \"11\": 5, \"0\": 34, \"14\": 20, \"6\": 22, \"10\": 24, \"2\": 2, \"8\": 8, \"5\": 7, \"15\": 2}, \"3\": {\"12\": 35, \"3\": 102, \"2\": 64, \"15\": 27, \"0\": 1, \"7\": 7, \"8\": 4}, \"15\": {\"7\": 18, \"8\": 44, \"15\": 65, \"12\": 48, \"4\": 2, \"3\": 18, \"0\": 7, \"6\": 13, \"2\": 15, \"10\": 2, \"11\": 1, \"13\": 6, \"14\": 1}, \"4\": {\"12\": 2, \"4\": 28, \"0\": 32, \"10\": 31, \"7\": 26, \"13\": 25, \"11\": 10, \"6\": 24, \"5\": 6, \"14\": 34, \"8\": 9, \"15\": 4, \"1\": 9}, \"7\": {\"8\": 14, \"14\": 8, \"0\": 38, \"11\": 1, \"13\": 17, \"7\": 58, \"4\": 21, \"2\": 13, \"6\": 34, \"15\": 22, \"12\": 4, \"10\": 5, \"3\": 4, \"1\": 1}, \"2\": {\"3\": 59, \"12\": 28, \"7\": 20, \"0\": 7, \"2\": 93, \"6\": 11, \"8\": 5, \"15\": 14, \"4\": 1, \"14\": 1, \"10\": 1}, \"1\": {\"10\": 19, \"1\": 59, \"14\": 31, \"8\": 15, \"5\": 37, \"11\": 60, \"7\": 1, \"6\": 5, \"13\": 3, \"4\": 8, \"15\": 1, \"0\": 1}, \"0\": {\"13\": 25, \"7\": 42, \"4\": 30, \"0\": 55, \"10\": 16, \"14\": 19, \"6\": 30, \"2\": 7, \"8\": 6, \"9\": 1, \"11\": 2, \"5\": 1, \"15\": 5, \"1\": 1}, \"12\": {\"15\": 44, \"12\": 80, \"2\": 27, \"3\": 45, \"8\": 24, \"7\": 12, \"6\": 6, \"0\": 1, \"11\": 1}, \"6\": {\"6\": 40, \"12\": 7, \"1\": 5, \"4\": 19, \"8\": 26, \"14\": 17, \"7\": 32, \"0\": 30, \"10\": 20, \"11\": 5, \"15\": 11, \"13\": 23, \"5\": 1, \"2\": 4}, \"11\": {\"1\": 56, \"11\": 84, \"10\": 7, \"14\": 22, \"4\": 8, \"5\": 45, \"8\": 11, \"13\": 3, \"0\": 1, \"6\": 2, \"7\": 1}, \"9\": {\"9\": 228, \"4\": 1, \"0\": 1, \"10\": 3, \"5\": 7}, \"5\": {\"11\": 46, \"10\": 25, \"4\": 14, \"6\": 2, \"5\": 78, \"13\": 13, \"1\": 34, \"9\": 2, \"14\": 25, \"8\": 1}, \"10\": {\"13\": 26, \"10\": 40, \"4\": 26, \"1\": 23, \"14\": 23, \"5\": 27, \"0\": 30, \"7\": 13, \"6\": 16, \"11\": 12, \"9\": 1, \"15\": 1, \"8\": 2}, \"14\": {\"14\": 28, \"10\": 39, \"4\": 23, \"13\": 23, \"7\": 10, \"0\": 25, \"1\": 27, \"11\": 11, \"8\": 12, \"6\": 16, \"5\": 23, \"15\": 3}, \"8\": {\"15\": 30, \"7\": 14, \"8\": 89, \"11\": 13, \"2\": 4, \"4\": 9, \"6\": 18, \"5\": 5, \"13\": 6, \"12\": 20, \"10\": 6, \"1\": 12, \"14\": 10, \"0\": 4}}, \"O_20\": {\"6\": {\"6\": 74, \"14\": 39, \"7\": 21, \"11\": 15, \"3\": 5, \"10\": 24, \"13\": 1, \"8\": 15, \"9\": 15, \"2\": 9, \"4\": 14, \"12\": 5, \"5\": 1, \"1\": 1, \"0\": 1}, \"11\": {\"11\": 161, \"6\": 17, \"13\": 18, \"9\": 12, \"7\": 12, \"2\": 11, \"15\": 1, \"12\": 3, \"3\": 2, \"14\": 1, \"8\": 1, \"10\": 1}, \"5\": {\"2\": 11, \"9\": 11, \"0\": 42, \"15\": 24, \"8\": 20, \"13\": 11, \"12\": 20, \"1\": 20, \"10\": 2, \"5\": 27, \"3\": 16, \"4\": 23, \"7\": 8, \"6\": 1, \"11\": 1, \"14\": 3}, \"14\": {\"6\": 43, \"14\": 60, \"7\": 12, \"8\": 16, \"10\": 67, \"3\": 6, \"13\": 1, \"1\": 2, \"9\": 6, \"4\": 17, \"12\": 3, \"2\": 1, \"5\": 4, \"11\": 2}, \"2\": {\"7\": 25, \"1\": 8, \"12\": 23, \"3\": 16, \"13\": 21, \"2\": 28, \"10\": 9, \"5\": 14, \"6\": 18, \"11\": 19, \"9\": 26, \"4\": 8, \"14\": 4, \"8\": 12, \"0\": 4, \"15\": 5}, \"7\": {\"12\": 15, \"2\": 26, \"6\": 26, \"4\": 15, \"8\": 15, \"7\": 20, \"9\": 31, \"3\": 16, \"1\": 10, \"5\": 13, \"11\": 19, \"14\": 11, \"10\": 7, \"0\": 4, \"13\": 10, \"15\": 2}, \"3\": {\"7\": 18, \"2\": 24, \"1\": 17, \"13\": 18, \"8\": 29, \"5\": 16, \"9\": 17, \"3\": 18, \"12\": 18, \"0\": 11, \"4\": 26, \"6\": 5, \"14\": 11, \"10\": 4, \"15\": 5, \"11\": 3}, \"4\": {\"12\": 17, \"14\": 18, \"4\": 56, \"8\": 27, \"3\": 9, \"6\": 7, \"2\": 13, \"5\": 21, \"1\": 11, \"0\": 13, \"15\": 4, \"9\": 11, \"10\": 22, \"7\": 8, \"13\": 3}, \"9\": {\"5\": 19, \"6\": 23, \"9\": 25, \"2\": 27, \"15\": 8, \"12\": 15, \"3\": 15, \"1\": 13, \"0\": 8, \"10\": 7, \"8\": 18, \"13\": 18, \"7\": 25, \"11\": 7, \"14\": 4, \"4\": 8}, \"12\": {\"8\": 16, \"0\": 21, \"6\": 6, \"4\": 28, \"1\": 22, \"7\": 15, \"2\": 21, \"5\": 23, \"3\": 10, \"13\": 11, \"9\": 21, \"15\": 16, \"11\": 4, \"10\": 2, \"14\": 7, \"12\": 17}, \"0\": {\"2\": 6, \"0\": 55, \"15\": 54, \"3\": 6, \"1\": 24, \"4\": 19, \"5\": 25, \"12\": 23, \"9\": 4, \"10\": 2, \"8\": 5, \"13\": 13, \"7\": 2, \"6\": 1, \"14\": 1}, \"10\": {\"10\": 58, \"6\": 29, \"14\": 57, \"4\": 21, \"7\": 15, \"8\": 27, \"12\": 7, \"3\": 6, \"9\": 6, \"1\": 2, \"5\": 6, \"2\": 4, \"0\": 2}, \"8\": {\"8\": 29, \"5\": 18, \"13\": 3, \"4\": 39, \"7\": 16, \"9\": 11, \"6\": 13, \"3\": 20, \"10\": 21, \"12\": 16, \"1\": 11, \"2\": 15, \"14\": 18, \"0\": 6, \"11\": 1, \"15\": 3}, \"13\": {\"7\": 15, \"9\": 12, \"15\": 28, \"13\": 78, \"2\": 26, \"12\": 4, \"3\": 12, \"11\": 19, \"5\": 10, \"6\": 3, \"1\": 11, \"0\": 15, \"4\": 2, \"8\": 5}, \"1\": {\"1\": 34, \"8\": 15, \"5\": 28, \"12\": 22, \"3\": 6, \"0\": 35, \"2\": 10, \"13\": 25, \"15\": 26, \"4\": 19, \"7\": 11, \"14\": 1, \"9\": 7, \"11\": 1}, \"15\": {\"3\": 7, \"5\": 25, \"1\": 36, \"0\": 38, \"15\": 39, \"13\": 36, \"4\": 9, \"9\": 10, \"7\": 5, \"2\": 12, \"12\": 15, \"10\": 1, \"8\": 3, \"6\": 1, \"11\": 3}}, \"O_38\": {\"3\": {\"9\": 61, \"3\": 94, \"7\": 18, \"5\": 21, \"6\": 33, \"0\": 8, \"8\": 5}, \"8\": {\"1\": 19, \"10\": 26, \"6\": 6, \"8\": 49, \"5\": 45, \"7\": 19, \"0\": 34, \"13\": 18, \"15\": 15, \"2\": 4, \"9\": 5}, \"0\": {\"8\": 50, \"1\": 6, \"7\": 53, \"10\": 24, \"9\": 3, \"0\": 33, \"4\": 1, \"6\": 7, \"3\": 9, \"12\": 3, \"5\": 41, \"13\": 7, \"15\": 3}, \"2\": {\"12\": 3, \"2\": 140, \"15\": 16, \"13\": 22, \"14\": 36, \"10\": 8, \"1\": 4, \"11\": 9, \"8\": 2}, \"4\": {\"12\": 41, \"4\": 179, \"10\": 11, \"11\": 5, \"0\": 2, \"14\": 1, \"7\": 1}, \"7\": {\"7\": 108, \"0\": 49, \"5\": 33, \"6\": 7, \"8\": 17, \"3\": 7, \"10\": 12, \"4\": 2, \"9\": 3, \"13\": 1, \"12\": 1}, \"12\": {\"12\": 122, \"10\": 30, \"4\": 40, \"14\": 19, \"11\": 24, \"2\": 2, \"0\": 1, \"8\": 1, \"13\": 1}, \"6\": {\"6\": 117, \"3\": 17, \"9\": 72, \"1\": 10, \"15\": 1, \"5\": 9, \"8\": 5, \"7\": 2, \"0\": 5, \"13\": 2}, \"15\": {\"13\": 47, \"7\": 2, \"15\": 76, \"5\": 15, \"10\": 14, \"1\": 48, \"2\": 12, \"0\": 5, \"6\": 3, \"8\": 17, \"9\": 1}, \"11\": {\"14\": 66, \"12\": 52, \"11\": 95, \"15\": 2, \"2\": 14, \"13\": 2, \"10\": 3, \"8\": 1, \"4\": 3, \"1\": 1, \"0\": 1}, \"9\": {\"9\": 111, \"6\": 85, \"3\": 32, \"7\": 2, \"5\": 7, \"8\": 3}, \"14\": {\"11\": 72, \"14\": 101, \"10\": 8, \"12\": 23, \"2\": 33, \"13\": 3}, \"10\": {\"12\": 32, \"10\": 73, \"2\": 15, \"8\": 20, \"4\": 15, \"11\": 8, \"7\": 9, \"0\": 21, \"15\": 10, \"13\": 19, \"14\": 12, \"5\": 5, \"1\": 1}, \"5\": {\"0\": 36, \"9\": 14, \"8\": 40, \"1\": 15, \"5\": 52, \"6\": 17, \"10\": 9, \"7\": 27, \"13\": 8, \"15\": 12, \"3\": 7, \"12\": 1, \"4\": 1, \"2\": 1}, \"1\": {\"1\": 154, \"13\": 18, \"15\": 34, \"8\": 3, \"5\": 8, \"10\": 1, \"2\": 2, \"6\": 15, \"0\": 2, \"9\": 3}, \"13\": {\"10\": 19, \"15\": 45, \"13\": 75, \"5\": 9, \"1\": 20, \"8\": 23, \"2\": 27, \"0\": 13, \"14\": 3, \"11\": 2, \"12\": 2, \"6\": 2}}, \"O_26\": {\"5\": {\"13\": 33, \"5\": 44, \"2\": 27, \"4\": 4, \"9\": 34, \"8\": 7, \"7\": 13, \"10\": 8, \"15\": 26, \"6\": 14, \"1\": 5, \"14\": 4, \"3\": 16, \"0\": 5}, \"8\": {\"8\": 31, \"9\": 14, \"14\": 13, \"7\": 16, \"4\": 26, \"10\": 24, \"13\": 7, \"15\": 10, \"0\": 22, \"1\": 14, \"2\": 19, \"5\": 10, \"3\": 6, \"6\": 25, \"11\": 3}, \"4\": {\"14\": 37, \"9\": 7, \"1\": 43, \"7\": 20, \"0\": 30, \"10\": 24, \"3\": 11, \"4\": 25, \"8\": 18, \"2\": 12, \"5\": 5, \"6\": 6, \"15\": 2}, \"12\": {\"12\": 191, \"11\": 42, \"10\": 1, \"6\": 4, \"9\": 1, \"0\": 1}, \"6\": {\"11\": 5, \"8\": 18, \"5\": 5, \"0\": 17, \"15\": 24, \"10\": 20, \"4\": 6, \"6\": 61, \"13\": 22, \"9\": 39, \"14\": 8, \"1\": 5, \"12\": 5, \"7\": 4, \"2\": 1}, \"7\": {\"5\": 13, \"7\": 23, \"3\": 34, \"14\": 20, \"1\": 19, \"4\": 35, \"2\": 32, \"0\": 8, \"8\": 20, \"15\": 14, \"9\": 7, \"13\": 5, \"10\": 7, \"6\": 3}, \"10\": {\"0\": 26, \"9\": 23, \"10\": 26, \"6\": 24, \"1\": 17, \"15\": 15, \"4\": 27, \"8\": 23, \"7\": 11, \"14\": 23, \"13\": 4, \"2\": 5, \"5\": 12, \"12\": 1, \"3\": 3}, \"0\": {\"14\": 36, \"10\": 36, \"0\": 20, \"4\": 34, \"1\": 28, \"2\": 9, \"6\": 17, \"8\": 17, \"7\": 11, \"15\": 8, \"3\": 6, \"9\": 10, \"5\": 3, \"13\": 3, \"12\": 2}, \"15\": {\"0\": 8, \"13\": 38, \"15\": 34, \"3\": 8, \"10\": 14, \"9\": 23, \"5\": 35, \"6\": 22, \"8\": 12, \"4\": 5, \"11\": 4, \"2\": 15, \"7\": 16, \"1\": 2, \"14\": 4}, \"9\": {\"5\": 32, \"15\": 28, \"13\": 26, \"4\": 7, \"9\": 55, \"6\": 23, \"7\": 4, \"8\": 18, \"10\": 11, \"0\": 10, \"3\": 5, \"14\": 7, \"12\": 4, \"1\": 3, \"2\": 7}, \"11\": {\"11\": 165, \"12\": 57, \"6\": 10, \"9\": 3, \"15\": 2, \"13\": 3}, \"14\": {\"2\": 9, \"14\": 44, \"7\": 16, \"0\": 25, \"1\": 42, \"3\": 6, \"4\": 37, \"6\": 9, \"8\": 14, \"15\": 9, \"10\": 20, \"9\": 7, \"5\": 1, \"13\": 1}, \"2\": {\"2\": 51, \"6\": 3, \"13\": 9, \"5\": 23, \"3\": 50, \"7\": 28, \"0\": 9, \"15\": 19, \"1\": 10, \"8\": 12, \"4\": 7, \"14\": 7, \"10\": 3, \"9\": 9}, \"13\": {\"10\": 2, \"0\": 5, \"13\": 64, \"5\": 48, \"6\": 16, \"7\": 6, \"2\": 15, \"15\": 38, \"9\": 24, \"3\": 8, \"8\": 10, \"12\": 1, \"11\": 1, \"14\": 2}, \"3\": {\"9\": 3, \"3\": 60, \"5\": 22, \"2\": 58, \"1\": 20, \"7\": 21, \"8\": 9, \"15\": 11, \"10\": 9, \"14\": 5, \"4\": 13, \"13\": 5, \"0\": 3, \"6\": 1}, \"1\": {\"9\": 7, \"1\": 74, \"3\": 11, \"8\": 15, \"10\": 17, \"4\": 32, \"7\": 18, \"14\": 37, \"0\": 18, \"6\": 5, \"13\": 2, \"2\": 2, \"5\": 2}}}, \"per_domain_accuracy\": {\"C_4\": {\"accuracy\": 0.993560606060606, \"source?\": true}, \"C_2\": {\"accuracy\": 0.9980688202247191, \"source?\": true}, \"C_3\": {\"accuracy\": 0.9975818452380952, \"source?\": true}, \"C_1\": {\"accuracy\": 0.995945945945946, \"source?\": true}, \"C_5\": {\"accuracy\": 0.9954608938547486, \"source?\": true}, \"O_50\": {\"accuracy\": 0.40260416666666665, \"source?\": false}, \"O_14\": {\"accuracy\": 0.43385416666666665, \"source?\": false}, \"O_32\": {\"accuracy\": 0.503125, \"source?\": false}, \"O_44\": {\"accuracy\": 0.3768229166666667, \"source?\": false}, \"O_8\": {\"accuracy\": 0.3033854166666667, \"source?\": false}, \"O_20\": {\"accuracy\": 0.20286458333333332, \"source?\": false}, \"O_38\": {\"accuracy\": 0.41119791666666666, \"source?\": false}, \"O_26\": {\"accuracy\": 0.2520833333333333, \"source?\": false}}}, \"history\": {\"epoch_indices\": [1, 2, 3, 4, 5], \"train_label_loss\": [0.05341920201467023, 0.013261931697977779, 0.007097147126038687, 0.005581745975396021, 0.004662517755593689], \"source_val_label_loss\": [0.015620816498994827, 0.005824303720146418, 0.011034222319722176, 0.005571385845541954, 0.0068145450204610825], \"target_val_label_loss\": [1.7906688451766968, 1.9080451726913452, 2.548177719116211, 1.9992084503173828, 2.3786444664001465], \"source_val_acc_label\": [0.9961428571428571, 0.9990714285714286, 0.9967857142857143, 0.9989642857142857, 0.9987142857142857], \"target_val_acc_label\": [0.3607421875, 0.35302734375, 0.2650065104166667, 0.3419270833333333, 0.29446614583333336]}, \"dataset_metrics\": {\"source\": {\"train\": {\"n_unique_x\": 175169, \"n_unique_y\": 58, \"n_batch/episode\": 6311}, \"val\": {\"n_unique_x\": 37166, \"n_unique_y\": 58, \"n_batch/episode\": 875}, \"test\": {\"n_unique_x\": 37642, \"n_unique_y\": 58, \"n_batch/episode\": 890}}, \"target\": {\"train\": {\"n_unique_x\": 179200, \"n_unique_y\": 16, \"n_batch/episode\": 6720}, \"val\": {\"n_unique_x\": 38400, \"n_unique_y\": 16, \"n_batch/episode\": 960}, \"test\": {\"n_unique_x\": 38400, \"n_unique_y\": 16, \"n_batch/episode\": 960}}}}'"
      ]
     },
     "execution_count": 29,
     "metadata": {},
     "output_type": "execute_result"
    }
   ],
   "source": [
    "json.dumps(experiment)"
   ]
  }
 ],
 "metadata": {
  "celltoolbar": "Tags",
  "kernelspec": {
   "display_name": "Python 3 (ipykernel)",
   "language": "python",
   "name": "python3"
  },
  "language_info": {
   "codemirror_mode": {
    "name": "ipython",
    "version": 3
   },
   "file_extension": ".py",
   "mimetype": "text/x-python",
   "name": "python",
   "nbconvert_exporter": "python",
   "pygments_lexer": "ipython3",
   "version": "3.8.12"
  },
  "papermill": {
   "default_parameters": {},
   "duration": 1069.86404,
   "end_time": "2022-03-28T09:11:17.103237",
   "environment_variables": {},
   "exception": null,
   "input_path": "/root/csc500-main/csc500-notebooks/templates/tl_ptn_template.ipynb",
   "output_path": "trial.ipynb",
   "parameters": {
    "parameters": {
     "BEST_MODEL_PATH": "./best_model.pth",
     "NUM_LOGS_PER_EPOCH": 10,
     "criteria_for_best": "target_accuracy",
     "dataset_seed": 500,
     "datasets": [
      {
       "domain_prefix": "C_",
       "domains": [
        1,
        2,
        3,
        4,
        5
       ],
       "episode_transforms": [],
       "labels": [
        "1-10.",
        "1-11.",
        "1-15.",
        "1-16.",
        "1-17.",
        "1-18.",
        "1-19.",
        "10-4.",
        "10-7.",
        "11-1.",
        "11-14.",
        "11-17.",
        "11-20.",
        "11-7.",
        "13-20.",
        "13-8.",
        "14-10.",
        "14-11.",
        "14-14.",
        "14-7.",
        "15-1.",
        "15-20.",
        "16-1.",
        "16-16.",
        "17-10.",
        "17-11.",
        "17-2.",
        "19-1.",
        "19-16.",
        "19-19.",
        "19-20.",
        "19-3.",
        "2-10.",
        "2-11.",
        "2-17.",
        "2-18.",
        "2-20.",
        "2-3.",
        "2-4.",
        "2-5.",
        "2-6.",
        "2-7.",
        "2-8.",
        "3-13.",
        "3-18.",
        "3-3.",
        "4-1.",
        "4-10.",
        "4-11.",
        "4-19.",
        "5-5.",
        "6-15.",
        "7-10.",
        "7-14.",
        "8-18.",
        "8-20.",
        "8-3.",
        "8-8."
       ],
       "num_examples_per_domain_per_label": -1,
       "pickle_path": "/root/csc500-main/datasets/cores.stratified_ds.2022A.pkl",
       "source_or_target_dataset": "source",
       "x_transforms": [
        "unit_mag",
        "jitter_256_10",
        "lowpass_+/-10MHz",
        "take_200"
       ]
      },
      {
       "domain_prefix": "O_",
       "domains": [
        32,
        38,
        8,
        44,
        14,
        50,
        20,
        26
       ],
       "episode_transforms": [],
       "labels": [
        "3123D52",
        "3123D65",
        "3123D79",
        "3123D80",
        "3123D54",
        "3123D70",
        "3123D7B",
        "3123D89",
        "3123D58",
        "3123D76",
        "3123D7D",
        "3123EFE",
        "3123D64",
        "3123D78",
        "3123D7E",
        "3124E4A"
       ],
       "num_examples_per_domain_per_label": 2000,
       "pickle_path": "/root/csc500-main/datasets/oracle.Run1_framed_2000Examples_stratified_ds.2022A.pkl",
       "source_or_target_dataset": "target",
       "x_transforms": [
        "unit_mag",
        "jitter_256_10",
        "take_200",
        "resample_20Msps_to_25Msps"
       ]
      }
     ],
     "device": "cuda",
     "experiment_name": "tl_3-jitter10v2:cores -> oracle.run1.framed",
     "lr": 0.0001,
     "n_epoch": 50,
     "n_query": 2,
     "n_shot": 3,
     "n_way": 16,
     "patience": 3,
     "seed": 500,
     "test_k_factor": 2,
     "torch_default_dtype": "torch.float32",
     "train_k_factor": 3,
     "val_k_factor": 2,
     "x_net": [
      {
       "class": "nnReshape",
       "kargs": {
        "shape": [
         -1,
         1,
         2,
         256
        ]
       }
      },
      {
       "class": "Conv2d",
       "kargs": {
        "bias": false,
        "in_channels": 1,
        "kernel_size": [
         1,
         7
        ],
        "out_channels": 256,
        "padding": [
         0,
         3
        ]
       }
      },
      {
       "class": "ReLU",
       "kargs": {
        "inplace": true
       }
      },
      {
       "class": "BatchNorm2d",
       "kargs": {
        "num_features": 256
       }
      },
      {
       "class": "Conv2d",
       "kargs": {
        "bias": true,
        "in_channels": 256,
        "kernel_size": [
         2,
         7
        ],
        "out_channels": 80,
        "padding": [
         0,
         3
        ]
       }
      },
      {
       "class": "ReLU",
       "kargs": {
        "inplace": true
       }
      },
      {
       "class": "BatchNorm2d",
       "kargs": {
        "num_features": 80
       }
      },
      {
       "class": "Flatten",
       "kargs": {}
      },
      {
       "class": "Linear",
       "kargs": {
        "in_features": 20480,
        "out_features": 256
       }
      },
      {
       "class": "ReLU",
       "kargs": {
        "inplace": true
       }
      },
      {
       "class": "BatchNorm1d",
       "kargs": {
        "num_features": 256
       }
      },
      {
       "class": "Linear",
       "kargs": {
        "in_features": 256,
        "out_features": 256
       }
      }
     ],
     "x_shape": [
      2,
      256
     ]
    }
   },
   "start_time": "2022-03-28T08:53:27.239197",
   "version": "2.3.4"
  }
 },
 "nbformat": 4,
 "nbformat_minor": 5
}