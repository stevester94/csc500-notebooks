{
 "cells": [
  {
   "cell_type": "markdown",
   "id": "9fea5f46",
   "metadata": {
    "papermill": {
     "duration": 0.029356,
     "end_time": "2022-03-28T10:45:26.478364",
     "exception": false,
     "start_time": "2022-03-28T10:45:26.449008",
     "status": "completed"
    },
    "tags": []
   },
   "source": [
    "# Transfer Learning Template"
   ]
  },
  {
   "cell_type": "code",
   "execution_count": 1,
   "id": "0902182a",
   "metadata": {
    "execution": {
     "iopub.execute_input": "2022-03-28T10:45:26.542070Z",
     "iopub.status.busy": "2022-03-28T10:45:26.541213Z",
     "iopub.status.idle": "2022-03-28T10:45:28.416880Z",
     "shell.execute_reply": "2022-03-28T10:45:28.417571Z"
    },
    "papermill": {
     "duration": 1.916178,
     "end_time": "2022-03-28T10:45:28.417914",
     "exception": false,
     "start_time": "2022-03-28T10:45:26.501736",
     "status": "completed"
    },
    "tags": []
   },
   "outputs": [],
   "source": [
    "%load_ext autoreload\n",
    "%autoreload 2\n",
    "%matplotlib inline\n",
    "\n",
    "    \n",
    "import os, json, sys, time, random\n",
    "import numpy as np\n",
    "import torch\n",
    "from torch.optim import Adam\n",
    "from  easydict import EasyDict\n",
    "import matplotlib.pyplot as plt\n",
    "\n",
    "from steves_models.steves_ptn import Steves_Prototypical_Network\n",
    "\n",
    "from steves_utils.lazy_iterable_wrapper import Lazy_Iterable_Wrapper\n",
    "from steves_utils.iterable_aggregator import Iterable_Aggregator\n",
    "from steves_utils.ptn_train_eval_test_jig import  PTN_Train_Eval_Test_Jig\n",
    "from steves_utils.torch_sequential_builder import build_sequential\n",
    "from steves_utils.torch_utils import get_dataset_metrics, ptn_confusion_by_domain_over_dataloader\n",
    "from steves_utils.utils_v2 import (per_domain_accuracy_from_confusion, get_datasets_base_path)\n",
    "from steves_utils.PTN.utils import independent_accuracy_assesment\n",
    "\n",
    "from torch.utils.data import DataLoader\n",
    "\n",
    "from steves_utils.stratified_dataset.episodic_accessor import Episodic_Accessor_Factory\n",
    "\n",
    "from steves_utils.ptn_do_report import (\n",
    "    get_loss_curve,\n",
    "    get_results_table,\n",
    "    get_parameters_table,\n",
    "    get_domain_accuracies,\n",
    ")\n",
    "\n",
    "from steves_utils.transforms import get_chained_transform"
   ]
  },
  {
   "cell_type": "markdown",
   "id": "41c840b4",
   "metadata": {
    "papermill": {
     "duration": 0.019397,
     "end_time": "2022-03-28T10:45:28.465434",
     "exception": false,
     "start_time": "2022-03-28T10:45:28.446037",
     "status": "completed"
    },
    "tags": []
   },
   "source": [
    "# Allowed Parameters\n",
    "These are allowed parameters, not defaults\n",
    "Each of these values need to be present in the injected parameters (the notebook will raise an exception if they are not present)\n",
    "\n",
    "Papermill uses the cell tag \"parameters\" to inject the real parameters below this cell.\n",
    "Enable tags to see what I mean"
   ]
  },
  {
   "cell_type": "code",
   "execution_count": 2,
   "id": "fd44eb83",
   "metadata": {
    "execution": {
     "iopub.execute_input": "2022-03-28T10:45:28.508652Z",
     "iopub.status.busy": "2022-03-28T10:45:28.508131Z",
     "iopub.status.idle": "2022-03-28T10:45:28.531595Z",
     "shell.execute_reply": "2022-03-28T10:45:28.530750Z"
    },
    "papermill": {
     "duration": 0.046923,
     "end_time": "2022-03-28T10:45:28.531756",
     "exception": false,
     "start_time": "2022-03-28T10:45:28.484833",
     "status": "completed"
    },
    "tags": []
   },
   "outputs": [],
   "source": [
    "required_parameters = {\n",
    "    \"experiment_name\",\n",
    "    \"lr\",\n",
    "    \"device\",\n",
    "    \"seed\",\n",
    "    \"dataset_seed\",\n",
    "    \"n_shot\",\n",
    "    \"n_query\",\n",
    "    \"n_way\",\n",
    "    \"train_k_factor\",\n",
    "    \"val_k_factor\",\n",
    "    \"test_k_factor\",\n",
    "    \"n_epoch\",\n",
    "    \"patience\",\n",
    "    \"criteria_for_best\",\n",
    "    \"x_net\",\n",
    "    \"datasets\",\n",
    "    \"torch_default_dtype\",\n",
    "    \"NUM_LOGS_PER_EPOCH\",\n",
    "    \"BEST_MODEL_PATH\",\n",
    "    \"x_shape\",\n",
    "}"
   ]
  },
  {
   "cell_type": "code",
   "execution_count": 3,
   "id": "fa3f0049",
   "metadata": {
    "execution": {
     "iopub.execute_input": "2022-03-28T10:45:28.592544Z",
     "iopub.status.busy": "2022-03-28T10:45:28.591340Z",
     "iopub.status.idle": "2022-03-28T10:45:28.612613Z",
     "shell.execute_reply": "2022-03-28T10:45:28.611791Z"
    },
    "papermill": {
     "duration": 0.054093,
     "end_time": "2022-03-28T10:45:28.612773",
     "exception": false,
     "start_time": "2022-03-28T10:45:28.558680",
     "status": "completed"
    },
    "tags": [
     "parameters"
    ]
   },
   "outputs": [],
   "source": [
    "from steves_utils.CORES.utils import (\n",
    "    ALL_NODES,\n",
    "    ALL_NODES_MINIMUM_1000_EXAMPLES,\n",
    "    ALL_DAYS\n",
    ")\n",
    "\n",
    "from steves_utils.ORACLE.utils_v2 import (\n",
    "    ALL_DISTANCES_FEET_NARROWED,\n",
    "    ALL_RUNS,\n",
    "    ALL_SERIAL_NUMBERS,\n",
    ")\n",
    "\n",
    "standalone_parameters = {}\n",
    "standalone_parameters[\"experiment_name\"] = \"STANDALONE PTN\"\n",
    "standalone_parameters[\"lr\"] = 0.001\n",
    "standalone_parameters[\"device\"] = \"cuda\"\n",
    "\n",
    "standalone_parameters[\"seed\"] = 1337\n",
    "standalone_parameters[\"dataset_seed\"] = 1337\n",
    "\n",
    "standalone_parameters[\"n_way\"] = 8\n",
    "standalone_parameters[\"n_shot\"] = 3\n",
    "standalone_parameters[\"n_query\"]  = 2\n",
    "standalone_parameters[\"train_k_factor\"] = 1\n",
    "standalone_parameters[\"val_k_factor\"] = 2\n",
    "standalone_parameters[\"test_k_factor\"] = 2\n",
    "\n",
    "\n",
    "standalone_parameters[\"n_epoch\"] = 50\n",
    "\n",
    "standalone_parameters[\"patience\"] = 10\n",
    "standalone_parameters[\"criteria_for_best\"] = \"source_loss\"\n",
    "\n",
    "standalone_parameters[\"datasets\"] = [\n",
    "    {\n",
    "        \"labels\": ALL_SERIAL_NUMBERS,\n",
    "        \"domains\": ALL_DISTANCES_FEET_NARROWED,\n",
    "        \"num_examples_per_domain_per_label\": 100,\n",
    "        \"pickle_path\": os.path.join(get_datasets_base_path(), \"oracle.Run1_framed_2000Examples_stratified_ds.2022A.pkl\"),\n",
    "        \"source_or_target_dataset\": \"source\",\n",
    "        \"x_transforms\": [\"unit_mag\", \"minus_two\"],\n",
    "        \"episode_transforms\": [],\n",
    "        \"domain_prefix\": \"ORACLE_\"\n",
    "    },\n",
    "    {\n",
    "        \"labels\": ALL_NODES,\n",
    "        \"domains\": ALL_DAYS,\n",
    "        \"num_examples_per_domain_per_label\": 100,\n",
    "        \"pickle_path\": os.path.join(get_datasets_base_path(), \"cores.stratified_ds.2022A.pkl\"),\n",
    "        \"source_or_target_dataset\": \"target\",\n",
    "        \"x_transforms\": [\"unit_power\", \"times_zero\"],\n",
    "        \"episode_transforms\": [],\n",
    "        \"domain_prefix\": \"CORES_\"\n",
    "    }   \n",
    "]\n",
    "\n",
    "standalone_parameters[\"torch_default_dtype\"] = \"torch.float32\" \n",
    "\n",
    "\n",
    "\n",
    "standalone_parameters[\"x_net\"] =     [\n",
    "    {\"class\": \"nnReshape\", \"kargs\": {\"shape\":[-1, 1, 2, 256]}},\n",
    "    {\"class\": \"Conv2d\", \"kargs\": { \"in_channels\":1, \"out_channels\":256, \"kernel_size\":(1,7), \"bias\":False, \"padding\":(0,3), },},\n",
    "    {\"class\": \"ReLU\", \"kargs\": {\"inplace\": True}},\n",
    "    {\"class\": \"BatchNorm2d\", \"kargs\": {\"num_features\":256}},\n",
    "\n",
    "    {\"class\": \"Conv2d\", \"kargs\": { \"in_channels\":256, \"out_channels\":80, \"kernel_size\":(2,7), \"bias\":True, \"padding\":(0,3), },},\n",
    "    {\"class\": \"ReLU\", \"kargs\": {\"inplace\": True}},\n",
    "    {\"class\": \"BatchNorm2d\", \"kargs\": {\"num_features\":80}},\n",
    "    {\"class\": \"Flatten\", \"kargs\": {}},\n",
    "\n",
    "    {\"class\": \"Linear\", \"kargs\": {\"in_features\": 80*256, \"out_features\": 256}}, # 80 units per IQ pair\n",
    "    {\"class\": \"ReLU\", \"kargs\": {\"inplace\": True}},\n",
    "    {\"class\": \"BatchNorm1d\", \"kargs\": {\"num_features\":256}},\n",
    "\n",
    "    {\"class\": \"Linear\", \"kargs\": {\"in_features\": 256, \"out_features\": 256}},\n",
    "]\n",
    "\n",
    "# Parameters relevant to results\n",
    "# These parameters will basically never need to change\n",
    "standalone_parameters[\"NUM_LOGS_PER_EPOCH\"] = 10\n",
    "standalone_parameters[\"BEST_MODEL_PATH\"] = \"./best_model.pth\"\n",
    "\n",
    "\n",
    "\n",
    "\n"
   ]
  },
  {
   "cell_type": "code",
   "execution_count": 4,
   "id": "3629841a",
   "metadata": {
    "execution": {
     "iopub.execute_input": "2022-03-28T10:45:28.676993Z",
     "iopub.status.busy": "2022-03-28T10:45:28.676232Z",
     "iopub.status.idle": "2022-03-28T10:45:28.696137Z",
     "shell.execute_reply": "2022-03-28T10:45:28.694969Z"
    },
    "papermill": {
     "duration": 0.055378,
     "end_time": "2022-03-28T10:45:28.696373",
     "exception": false,
     "start_time": "2022-03-28T10:45:28.640995",
     "status": "completed"
    },
    "tags": [
     "injected-parameters"
    ]
   },
   "outputs": [],
   "source": [
    "# Parameters\n",
    "parameters = {\n",
    "    \"experiment_name\": \"tl_3-jitter10v2:oracle.run1.framed -> cores\",\n",
    "    \"device\": \"cuda\",\n",
    "    \"lr\": 0.0001,\n",
    "    \"x_shape\": [2, 256],\n",
    "    \"n_shot\": 3,\n",
    "    \"n_query\": 2,\n",
    "    \"train_k_factor\": 3,\n",
    "    \"val_k_factor\": 2,\n",
    "    \"test_k_factor\": 2,\n",
    "    \"torch_default_dtype\": \"torch.float32\",\n",
    "    \"n_epoch\": 50,\n",
    "    \"patience\": 3,\n",
    "    \"criteria_for_best\": \"target_accuracy\",\n",
    "    \"x_net\": [\n",
    "        {\"class\": \"nnReshape\", \"kargs\": {\"shape\": [-1, 1, 2, 256]}},\n",
    "        {\n",
    "            \"class\": \"Conv2d\",\n",
    "            \"kargs\": {\n",
    "                \"in_channels\": 1,\n",
    "                \"out_channels\": 256,\n",
    "                \"kernel_size\": [1, 7],\n",
    "                \"bias\": False,\n",
    "                \"padding\": [0, 3],\n",
    "            },\n",
    "        },\n",
    "        {\"class\": \"ReLU\", \"kargs\": {\"inplace\": True}},\n",
    "        {\"class\": \"BatchNorm2d\", \"kargs\": {\"num_features\": 256}},\n",
    "        {\n",
    "            \"class\": \"Conv2d\",\n",
    "            \"kargs\": {\n",
    "                \"in_channels\": 256,\n",
    "                \"out_channels\": 80,\n",
    "                \"kernel_size\": [2, 7],\n",
    "                \"bias\": True,\n",
    "                \"padding\": [0, 3],\n",
    "            },\n",
    "        },\n",
    "        {\"class\": \"ReLU\", \"kargs\": {\"inplace\": True}},\n",
    "        {\"class\": \"BatchNorm2d\", \"kargs\": {\"num_features\": 80}},\n",
    "        {\"class\": \"Flatten\", \"kargs\": {}},\n",
    "        {\"class\": \"Linear\", \"kargs\": {\"in_features\": 20480, \"out_features\": 256}},\n",
    "        {\"class\": \"ReLU\", \"kargs\": {\"inplace\": True}},\n",
    "        {\"class\": \"BatchNorm1d\", \"kargs\": {\"num_features\": 256}},\n",
    "        {\"class\": \"Linear\", \"kargs\": {\"in_features\": 256, \"out_features\": 256}},\n",
    "    ],\n",
    "    \"NUM_LOGS_PER_EPOCH\": 10,\n",
    "    \"BEST_MODEL_PATH\": \"./best_model.pth\",\n",
    "    \"n_way\": 16,\n",
    "    \"datasets\": [\n",
    "        {\n",
    "            \"labels\": [\n",
    "                \"1-10.\",\n",
    "                \"1-11.\",\n",
    "                \"1-15.\",\n",
    "                \"1-16.\",\n",
    "                \"1-17.\",\n",
    "                \"1-18.\",\n",
    "                \"1-19.\",\n",
    "                \"10-4.\",\n",
    "                \"10-7.\",\n",
    "                \"11-1.\",\n",
    "                \"11-14.\",\n",
    "                \"11-17.\",\n",
    "                \"11-20.\",\n",
    "                \"11-7.\",\n",
    "                \"13-20.\",\n",
    "                \"13-8.\",\n",
    "                \"14-10.\",\n",
    "                \"14-11.\",\n",
    "                \"14-14.\",\n",
    "                \"14-7.\",\n",
    "                \"15-1.\",\n",
    "                \"15-20.\",\n",
    "                \"16-1.\",\n",
    "                \"16-16.\",\n",
    "                \"17-10.\",\n",
    "                \"17-11.\",\n",
    "                \"17-2.\",\n",
    "                \"19-1.\",\n",
    "                \"19-16.\",\n",
    "                \"19-19.\",\n",
    "                \"19-20.\",\n",
    "                \"19-3.\",\n",
    "                \"2-10.\",\n",
    "                \"2-11.\",\n",
    "                \"2-17.\",\n",
    "                \"2-18.\",\n",
    "                \"2-20.\",\n",
    "                \"2-3.\",\n",
    "                \"2-4.\",\n",
    "                \"2-5.\",\n",
    "                \"2-6.\",\n",
    "                \"2-7.\",\n",
    "                \"2-8.\",\n",
    "                \"3-13.\",\n",
    "                \"3-18.\",\n",
    "                \"3-3.\",\n",
    "                \"4-1.\",\n",
    "                \"4-10.\",\n",
    "                \"4-11.\",\n",
    "                \"4-19.\",\n",
    "                \"5-5.\",\n",
    "                \"6-15.\",\n",
    "                \"7-10.\",\n",
    "                \"7-14.\",\n",
    "                \"8-18.\",\n",
    "                \"8-20.\",\n",
    "                \"8-3.\",\n",
    "                \"8-8.\",\n",
    "            ],\n",
    "            \"domains\": [1, 2, 3, 4, 5],\n",
    "            \"num_examples_per_domain_per_label\": -1,\n",
    "            \"pickle_path\": \"/root/csc500-main/datasets/cores.stratified_ds.2022A.pkl\",\n",
    "            \"source_or_target_dataset\": \"target\",\n",
    "            \"x_transforms\": [\"jitter_256_10\", \"lowpass_+/-10MHz\", \"take_200\"],\n",
    "            \"episode_transforms\": [],\n",
    "            \"domain_prefix\": \"C_\",\n",
    "        },\n",
    "        {\n",
    "            \"labels\": [\n",
    "                \"3123D52\",\n",
    "                \"3123D65\",\n",
    "                \"3123D79\",\n",
    "                \"3123D80\",\n",
    "                \"3123D54\",\n",
    "                \"3123D70\",\n",
    "                \"3123D7B\",\n",
    "                \"3123D89\",\n",
    "                \"3123D58\",\n",
    "                \"3123D76\",\n",
    "                \"3123D7D\",\n",
    "                \"3123EFE\",\n",
    "                \"3123D64\",\n",
    "                \"3123D78\",\n",
    "                \"3123D7E\",\n",
    "                \"3124E4A\",\n",
    "            ],\n",
    "            \"domains\": [32, 38, 8, 44, 14, 50, 20, 26],\n",
    "            \"num_examples_per_domain_per_label\": 2000,\n",
    "            \"pickle_path\": \"/root/csc500-main/datasets/oracle.Run1_framed_2000Examples_stratified_ds.2022A.pkl\",\n",
    "            \"source_or_target_dataset\": \"source\",\n",
    "            \"x_transforms\": [\"jitter_256_10\", \"take_200\", \"resample_20Msps_to_25Msps\"],\n",
    "            \"episode_transforms\": [],\n",
    "            \"domain_prefix\": \"O_\",\n",
    "        },\n",
    "    ],\n",
    "    \"seed\": 154325,\n",
    "    \"dataset_seed\": 154325,\n",
    "}\n"
   ]
  },
  {
   "cell_type": "code",
   "execution_count": 5,
   "id": "8fa1cc33",
   "metadata": {
    "execution": {
     "iopub.execute_input": "2022-03-28T10:45:28.751699Z",
     "iopub.status.busy": "2022-03-28T10:45:28.751293Z",
     "iopub.status.idle": "2022-03-28T10:45:28.775301Z",
     "shell.execute_reply": "2022-03-28T10:45:28.774486Z"
    },
    "papermill": {
     "duration": 0.050691,
     "end_time": "2022-03-28T10:45:28.775466",
     "exception": false,
     "start_time": "2022-03-28T10:45:28.724775",
     "status": "completed"
    },
    "tags": []
   },
   "outputs": [],
   "source": [
    "# Set this to True if you want to run this template directly\n",
    "STANDALONE = False\n",
    "if STANDALONE:\n",
    "    print(\"parameters not injected, running with standalone_parameters\")\n",
    "    parameters = standalone_parameters\n",
    "\n",
    "if not 'parameters' in locals() and not 'parameters' in globals():\n",
    "    raise Exception(\"Parameter injection failed\")\n",
    "\n",
    "#Use an easy dict for all the parameters\n",
    "p = EasyDict(parameters)\n",
    "\n",
    "if \"x_shape\" not in p:\n",
    "    p.x_shape = [2,256] # Default to this if we dont supply x_shape\n",
    "\n",
    "\n",
    "supplied_keys = set(p.keys())\n",
    "\n",
    "if  supplied_keys != required_parameters:\n",
    "    print(\"Parameters are incorrect\")\n",
    "    if len(supplied_keys - required_parameters)>0: print(\"Shouldn't have:\", str(supplied_keys - required_parameters))\n",
    "    if len(required_parameters - supplied_keys)>0: print(\"Need to have:\", str(required_parameters - supplied_keys))\n",
    "    raise RuntimeError(\"Parameters are incorrect\")"
   ]
  },
  {
   "cell_type": "code",
   "execution_count": 6,
   "id": "3a028d58",
   "metadata": {
    "execution": {
     "iopub.execute_input": "2022-03-28T10:45:28.824234Z",
     "iopub.status.busy": "2022-03-28T10:45:28.823845Z",
     "iopub.status.idle": "2022-03-28T10:45:28.845142Z",
     "shell.execute_reply": "2022-03-28T10:45:28.845777Z"
    },
    "papermill": {
     "duration": 0.044337,
     "end_time": "2022-03-28T10:45:28.845963",
     "exception": false,
     "start_time": "2022-03-28T10:45:28.801626",
     "status": "completed"
    },
    "tags": []
   },
   "outputs": [],
   "source": [
    "###################################\n",
    "# Set the RNGs and make it all deterministic\n",
    "###################################\n",
    "np.random.seed(p.seed)\n",
    "random.seed(p.seed)\n",
    "torch.manual_seed(p.seed)\n",
    "\n",
    "torch.use_deterministic_algorithms(True) "
   ]
  },
  {
   "cell_type": "code",
   "execution_count": 7,
   "id": "b691acf6",
   "metadata": {
    "execution": {
     "iopub.execute_input": "2022-03-28T10:45:28.894687Z",
     "iopub.status.busy": "2022-03-28T10:45:28.893756Z",
     "iopub.status.idle": "2022-03-28T10:45:28.913416Z",
     "shell.execute_reply": "2022-03-28T10:45:28.914079Z"
    },
    "papermill": {
     "duration": 0.04365,
     "end_time": "2022-03-28T10:45:28.914259",
     "exception": false,
     "start_time": "2022-03-28T10:45:28.870609",
     "status": "completed"
    },
    "tags": []
   },
   "outputs": [],
   "source": [
    "###########################################\n",
    "# The stratified datasets honor this\n",
    "###########################################\n",
    "torch.set_default_dtype(eval(p.torch_default_dtype))"
   ]
  },
  {
   "cell_type": "code",
   "execution_count": 8,
   "id": "b5fba671",
   "metadata": {
    "execution": {
     "iopub.execute_input": "2022-03-28T10:45:28.962000Z",
     "iopub.status.busy": "2022-03-28T10:45:28.961176Z",
     "iopub.status.idle": "2022-03-28T10:45:29.017296Z",
     "shell.execute_reply": "2022-03-28T10:45:29.016592Z"
    },
    "papermill": {
     "duration": 0.078726,
     "end_time": "2022-03-28T10:45:29.017448",
     "exception": false,
     "start_time": "2022-03-28T10:45:28.938722",
     "status": "completed"
    },
    "tags": []
   },
   "outputs": [],
   "source": [
    "###################################\n",
    "# Build the network(s)\n",
    "# Note: It's critical to do this AFTER setting the RNG\n",
    "###################################\n",
    "x_net = build_sequential(p.x_net)"
   ]
  },
  {
   "cell_type": "code",
   "execution_count": 9,
   "id": "5d7e61cc",
   "metadata": {
    "execution": {
     "iopub.execute_input": "2022-03-28T10:45:29.067546Z",
     "iopub.status.busy": "2022-03-28T10:45:29.067172Z",
     "iopub.status.idle": "2022-03-28T10:45:29.092331Z",
     "shell.execute_reply": "2022-03-28T10:45:29.091484Z"
    },
    "papermill": {
     "duration": 0.047734,
     "end_time": "2022-03-28T10:45:29.092486",
     "exception": false,
     "start_time": "2022-03-28T10:45:29.044752",
     "status": "completed"
    },
    "tags": []
   },
   "outputs": [],
   "source": [
    "start_time_secs = time.time()"
   ]
  },
  {
   "cell_type": "code",
   "execution_count": 10,
   "id": "c6b67dfd",
   "metadata": {
    "execution": {
     "iopub.execute_input": "2022-03-28T10:45:29.141497Z",
     "iopub.status.busy": "2022-03-28T10:45:29.141133Z",
     "iopub.status.idle": "2022-03-28T10:45:29.158479Z",
     "shell.execute_reply": "2022-03-28T10:45:29.157679Z"
    },
    "papermill": {
     "duration": 0.040313,
     "end_time": "2022-03-28T10:45:29.158632",
     "exception": false,
     "start_time": "2022-03-28T10:45:29.118319",
     "status": "completed"
    },
    "tags": []
   },
   "outputs": [],
   "source": [
    "p.domains_source = []\n",
    "p.domains_target = []\n",
    "\n",
    "\n",
    "train_original_source = []\n",
    "val_original_source   = []\n",
    "test_original_source  = []\n",
    "\n",
    "train_original_target = []\n",
    "val_original_target   = []\n",
    "test_original_target  = []"
   ]
  },
  {
   "cell_type": "code",
   "execution_count": 11,
   "id": "e3d9c3d3",
   "metadata": {
    "execution": {
     "iopub.execute_input": "2022-03-28T10:45:29.262278Z",
     "iopub.status.busy": "2022-03-28T10:45:29.261904Z",
     "iopub.status.idle": "2022-03-28T10:45:29.278900Z",
     "shell.execute_reply": "2022-03-28T10:45:29.278083Z"
    },
    "papermill": {
     "duration": 0.039923,
     "end_time": "2022-03-28T10:45:29.279066",
     "exception": false,
     "start_time": "2022-03-28T10:45:29.239143",
     "status": "completed"
    },
    "tags": []
   },
   "outputs": [],
   "source": [
    "# global_x_transform_func = lambda x: normalize(x.to(torch.get_default_dtype()), \"unit_power\") # unit_power, unit_mag\n",
    "# global_x_transform_func = lambda x: normalize(x, \"unit_power\") # unit_power, unit_mag"
   ]
  },
  {
   "cell_type": "code",
   "execution_count": 12,
   "id": "acb78fd2",
   "metadata": {
    "execution": {
     "iopub.execute_input": "2022-03-28T10:45:29.336921Z",
     "iopub.status.busy": "2022-03-28T10:45:29.336067Z",
     "iopub.status.idle": "2022-03-28T10:45:29.354335Z",
     "shell.execute_reply": "2022-03-28T10:45:29.353532Z"
    },
    "papermill": {
     "duration": 0.048633,
     "end_time": "2022-03-28T10:45:29.354490",
     "exception": false,
     "start_time": "2022-03-28T10:45:29.305857",
     "status": "completed"
    },
    "tags": []
   },
   "outputs": [],
   "source": [
    "def add_dataset(\n",
    "    labels,\n",
    "    domains,\n",
    "    pickle_path,\n",
    "    x_transforms,\n",
    "    episode_transforms,\n",
    "    domain_prefix,\n",
    "    num_examples_per_domain_per_label,\n",
    "    source_or_target_dataset:str,\n",
    "    iterator_seed=p.seed,\n",
    "    dataset_seed=p.dataset_seed,\n",
    "    n_shot=p.n_shot,\n",
    "    n_way=p.n_way,\n",
    "    n_query=p.n_query,\n",
    "    train_val_test_k_factors=(p.train_k_factor,p.val_k_factor,p.test_k_factor),\n",
    "):\n",
    "   \n",
    "    if x_transforms == []: x_transform = None\n",
    "    else: x_transform = get_chained_transform(x_transforms)\n",
    "    \n",
    "    if episode_transforms == []: episode_transform = None\n",
    "    else: raise Exception(\"episode_transforms not implemented\")\n",
    "    \n",
    "    episode_transform = lambda tup, _prefix=domain_prefix: (_prefix + str(tup[0]), tup[1])\n",
    "\n",
    "\n",
    "    eaf = Episodic_Accessor_Factory(\n",
    "        labels=labels,\n",
    "        domains=domains,\n",
    "        num_examples_per_domain_per_label=num_examples_per_domain_per_label,\n",
    "        iterator_seed=iterator_seed,\n",
    "        dataset_seed=dataset_seed,\n",
    "        n_shot=n_shot,\n",
    "        n_way=n_way,\n",
    "        n_query=n_query,\n",
    "        train_val_test_k_factors=train_val_test_k_factors,\n",
    "        pickle_path=pickle_path,\n",
    "        x_transform_func=x_transform,\n",
    "    )\n",
    "\n",
    "    train, val, test = eaf.get_train(), eaf.get_val(), eaf.get_test()\n",
    "    train = Lazy_Iterable_Wrapper(train, episode_transform)\n",
    "    val = Lazy_Iterable_Wrapper(val, episode_transform)\n",
    "    test = Lazy_Iterable_Wrapper(test, episode_transform)\n",
    "\n",
    "    if source_or_target_dataset==\"source\":\n",
    "        train_original_source.append(train)\n",
    "        val_original_source.append(val)\n",
    "        test_original_source.append(test)\n",
    "\n",
    "        p.domains_source.extend(\n",
    "            [domain_prefix + str(u) for u in domains]\n",
    "        )\n",
    "    elif source_or_target_dataset==\"target\":\n",
    "        train_original_target.append(train)\n",
    "        val_original_target.append(val)\n",
    "        test_original_target.append(test)\n",
    "        p.domains_target.extend(\n",
    "            [domain_prefix + str(u) for u in domains]\n",
    "        )\n",
    "    else:\n",
    "        raise Exception(f\"invalid source_or_target_dataset: {source_or_target_dataset}\")\n",
    "    "
   ]
  },
  {
   "cell_type": "code",
   "execution_count": 13,
   "id": "fe266617",
   "metadata": {
    "execution": {
     "iopub.execute_input": "2022-03-28T10:45:29.402857Z",
     "iopub.status.busy": "2022-03-28T10:45:29.402191Z",
     "iopub.status.idle": "2022-03-28T10:46:34.418450Z",
     "shell.execute_reply": "2022-03-28T10:46:34.417554Z"
    },
    "papermill": {
     "duration": 65.038753,
     "end_time": "2022-03-28T10:46:34.418632",
     "exception": false,
     "start_time": "2022-03-28T10:45:29.379879",
     "status": "completed"
    },
    "tags": []
   },
   "outputs": [],
   "source": [
    "for ds in p.datasets:\n",
    "    add_dataset(**ds)"
   ]
  },
  {
   "cell_type": "code",
   "execution_count": 14,
   "id": "b90d65ac",
   "metadata": {
    "execution": {
     "iopub.execute_input": "2022-03-28T10:46:34.472643Z",
     "iopub.status.busy": "2022-03-28T10:46:34.472035Z",
     "iopub.status.idle": "2022-03-28T10:46:34.496240Z",
     "shell.execute_reply": "2022-03-28T10:46:34.495406Z"
    },
    "papermill": {
     "duration": 0.048244,
     "end_time": "2022-03-28T10:46:34.496400",
     "exception": false,
     "start_time": "2022-03-28T10:46:34.448156",
     "status": "completed"
    },
    "tags": []
   },
   "outputs": [],
   "source": [
    "# from steves_utils.CORES.utils import (\n",
    "#     ALL_NODES,\n",
    "#     ALL_NODES_MINIMUM_1000_EXAMPLES,\n",
    "#     ALL_DAYS\n",
    "# )\n",
    "\n",
    "# add_dataset(\n",
    "#     labels=ALL_NODES,\n",
    "#     domains = ALL_DAYS,\n",
    "#     num_examples_per_domain_per_label=100,\n",
    "#     pickle_path=os.path.join(get_datasets_base_path(), \"cores.stratified_ds.2022A.pkl\"),\n",
    "#     source_or_target_dataset=\"target\",\n",
    "#     x_transform_func=global_x_transform_func,\n",
    "#     domain_modifier=lambda u: f\"cores_{u}\"\n",
    "# )"
   ]
  },
  {
   "cell_type": "code",
   "execution_count": 15,
   "id": "76db484d",
   "metadata": {
    "execution": {
     "iopub.execute_input": "2022-03-28T10:46:34.551215Z",
     "iopub.status.busy": "2022-03-28T10:46:34.550295Z",
     "iopub.status.idle": "2022-03-28T10:46:34.573270Z",
     "shell.execute_reply": "2022-03-28T10:46:34.572450Z"
    },
    "papermill": {
     "duration": 0.047275,
     "end_time": "2022-03-28T10:46:34.573425",
     "exception": false,
     "start_time": "2022-03-28T10:46:34.526150",
     "status": "completed"
    },
    "tags": []
   },
   "outputs": [],
   "source": [
    "# from steves_utils.ORACLE.utils_v2 import (\n",
    "#     ALL_DISTANCES_FEET,\n",
    "#     ALL_RUNS,\n",
    "#     ALL_SERIAL_NUMBERS,\n",
    "# )\n",
    "\n",
    "\n",
    "# add_dataset(\n",
    "#     labels=ALL_SERIAL_NUMBERS,\n",
    "#     domains = list(set(ALL_DISTANCES_FEET) - {2,62}),\n",
    "#     num_examples_per_domain_per_label=100,\n",
    "#     pickle_path=os.path.join(get_datasets_base_path(), \"oracle.Run2_framed_2000Examples_stratified_ds.2022A.pkl\"),\n",
    "#     source_or_target_dataset=\"source\",\n",
    "#     x_transform_func=global_x_transform_func,\n",
    "#     domain_modifier=lambda u: f\"oracle1_{u}\"\n",
    "# )\n"
   ]
  },
  {
   "cell_type": "code",
   "execution_count": 16,
   "id": "97dea9d2",
   "metadata": {
    "execution": {
     "iopub.execute_input": "2022-03-28T10:46:34.626419Z",
     "iopub.status.busy": "2022-03-28T10:46:34.625969Z",
     "iopub.status.idle": "2022-03-28T10:46:34.648245Z",
     "shell.execute_reply": "2022-03-28T10:46:34.647403Z"
    },
    "papermill": {
     "duration": 0.047118,
     "end_time": "2022-03-28T10:46:34.648404",
     "exception": false,
     "start_time": "2022-03-28T10:46:34.601286",
     "status": "completed"
    },
    "tags": []
   },
   "outputs": [],
   "source": [
    "# from steves_utils.ORACLE.utils_v2 import (\n",
    "#     ALL_DISTANCES_FEET,\n",
    "#     ALL_RUNS,\n",
    "#     ALL_SERIAL_NUMBERS,\n",
    "# )\n",
    "\n",
    "\n",
    "# add_dataset(\n",
    "#     labels=ALL_SERIAL_NUMBERS,\n",
    "#     domains = list(set(ALL_DISTANCES_FEET) - {2,62,56}),\n",
    "#     num_examples_per_domain_per_label=100,\n",
    "#     pickle_path=os.path.join(get_datasets_base_path(), \"oracle.Run2_framed_2000Examples_stratified_ds.2022A.pkl\"),\n",
    "#     source_or_target_dataset=\"source\",\n",
    "#     x_transform_func=global_x_transform_func,\n",
    "#     domain_modifier=lambda u: f\"oracle2_{u}\"\n",
    "# )"
   ]
  },
  {
   "cell_type": "code",
   "execution_count": 17,
   "id": "6f289866",
   "metadata": {
    "execution": {
     "iopub.execute_input": "2022-03-28T10:46:34.702219Z",
     "iopub.status.busy": "2022-03-28T10:46:34.701847Z",
     "iopub.status.idle": "2022-03-28T10:46:34.720410Z",
     "shell.execute_reply": "2022-03-28T10:46:34.719590Z"
    },
    "papermill": {
     "duration": 0.042043,
     "end_time": "2022-03-28T10:46:34.720567",
     "exception": false,
     "start_time": "2022-03-28T10:46:34.678524",
     "status": "completed"
    },
    "tags": []
   },
   "outputs": [],
   "source": [
    "# add_dataset(\n",
    "#     labels=list(range(19)),\n",
    "#     domains = [0,1,2],\n",
    "#     num_examples_per_domain_per_label=100,\n",
    "#     pickle_path=os.path.join(get_datasets_base_path(), \"metehan.stratified_ds.2022A.pkl\"),\n",
    "#     source_or_target_dataset=\"target\",\n",
    "#     x_transform_func=global_x_transform_func,\n",
    "#     domain_modifier=lambda u: f\"met_{u}\"\n",
    "# )"
   ]
  },
  {
   "cell_type": "code",
   "execution_count": 18,
   "id": "86a863c3",
   "metadata": {
    "execution": {
     "iopub.execute_input": "2022-03-28T10:46:34.782556Z",
     "iopub.status.busy": "2022-03-28T10:46:34.780416Z",
     "iopub.status.idle": "2022-03-28T10:46:34.801853Z",
     "shell.execute_reply": "2022-03-28T10:46:34.801136Z"
    },
    "papermill": {
     "duration": 0.051557,
     "end_time": "2022-03-28T10:46:34.802011",
     "exception": false,
     "start_time": "2022-03-28T10:46:34.750454",
     "status": "completed"
    },
    "tags": []
   },
   "outputs": [],
   "source": [
    "# # from steves_utils.wisig.utils import (\n",
    "# #     ALL_NODES_MINIMUM_100_EXAMPLES,\n",
    "# #     ALL_NODES_MINIMUM_500_EXAMPLES,\n",
    "# #     ALL_NODES_MINIMUM_1000_EXAMPLES,\n",
    "# #     ALL_DAYS\n",
    "# # )\n",
    "\n",
    "# import steves_utils.wisig.utils as wisig\n",
    "\n",
    "\n",
    "# add_dataset(\n",
    "#     labels=wisig.ALL_NODES_MINIMUM_100_EXAMPLES,\n",
    "#     domains = wisig.ALL_DAYS,\n",
    "#     num_examples_per_domain_per_label=100,\n",
    "#     pickle_path=os.path.join(get_datasets_base_path(), \"wisig.node3-19.stratified_ds.2022A.pkl\"),\n",
    "#     source_or_target_dataset=\"target\",\n",
    "#     x_transform_func=global_x_transform_func,\n",
    "#     domain_modifier=lambda u: f\"wisig_{u}\"\n",
    "# )"
   ]
  },
  {
   "cell_type": "code",
   "execution_count": 19,
   "id": "fd5442bc",
   "metadata": {
    "execution": {
     "iopub.execute_input": "2022-03-28T10:46:34.859636Z",
     "iopub.status.busy": "2022-03-28T10:46:34.858574Z",
     "iopub.status.idle": "2022-03-28T10:46:34.879256Z",
     "shell.execute_reply": "2022-03-28T10:46:34.878437Z"
    },
    "papermill": {
     "duration": 0.050544,
     "end_time": "2022-03-28T10:46:34.879414",
     "exception": false,
     "start_time": "2022-03-28T10:46:34.828870",
     "status": "completed"
    },
    "tags": []
   },
   "outputs": [],
   "source": [
    "###################################\n",
    "# Build the dataset\n",
    "###################################\n",
    "train_original_source = Iterable_Aggregator(train_original_source, p.seed)\n",
    "val_original_source = Iterable_Aggregator(val_original_source, p.seed)\n",
    "test_original_source = Iterable_Aggregator(test_original_source, p.seed)\n",
    "\n",
    "\n",
    "train_original_target = Iterable_Aggregator(train_original_target, p.seed)\n",
    "val_original_target = Iterable_Aggregator(val_original_target, p.seed)\n",
    "test_original_target = Iterable_Aggregator(test_original_target, p.seed)\n",
    "\n",
    "# For CNN We only use X and Y. And we only train on the source.\n",
    "# Properly form the data using a transform lambda and Lazy_Iterable_Wrapper. Finally wrap them in a dataloader\n",
    "\n",
    "transform_lambda = lambda ex: ex[1] # Original is (<domain>, <episode>) so we strip down to episode only\n",
    "\n",
    "train_processed_source = Lazy_Iterable_Wrapper(train_original_source, transform_lambda)\n",
    "val_processed_source   = Lazy_Iterable_Wrapper(val_original_source, transform_lambda)\n",
    "test_processed_source  = Lazy_Iterable_Wrapper(test_original_source, transform_lambda)\n",
    "\n",
    "train_processed_target = Lazy_Iterable_Wrapper(train_original_target, transform_lambda)\n",
    "val_processed_target   = Lazy_Iterable_Wrapper(val_original_target, transform_lambda)\n",
    "test_processed_target  = Lazy_Iterable_Wrapper(test_original_target, transform_lambda)\n",
    "\n",
    "datasets = EasyDict({\n",
    "    \"source\": {\n",
    "        \"original\": {\"train\":train_original_source, \"val\":val_original_source, \"test\":test_original_source},\n",
    "        \"processed\": {\"train\":train_processed_source, \"val\":val_processed_source, \"test\":test_processed_source}\n",
    "    },\n",
    "    \"target\": {\n",
    "        \"original\": {\"train\":train_original_target, \"val\":val_original_target, \"test\":test_original_target},\n",
    "        \"processed\": {\"train\":train_processed_target, \"val\":val_processed_target, \"test\":test_processed_target}\n",
    "    },\n",
    "})"
   ]
  },
  {
   "cell_type": "code",
   "execution_count": 20,
   "id": "5b3c01fc",
   "metadata": {
    "execution": {
     "iopub.execute_input": "2022-03-28T10:46:34.934556Z",
     "iopub.status.busy": "2022-03-28T10:46:34.934184Z",
     "iopub.status.idle": "2022-03-28T10:46:49.276301Z",
     "shell.execute_reply": "2022-03-28T10:46:49.277008Z"
    },
    "papermill": {
     "duration": 14.36707,
     "end_time": "2022-03-28T10:46:49.277226",
     "exception": false,
     "start_time": "2022-03-28T10:46:34.910156",
     "status": "completed"
    },
    "tags": []
   },
   "outputs": [
    {
     "name": "stdout",
     "output_type": "stream",
     "text": [
      "{'O_50', 'O_8', 'O_14', 'O_38', 'O_26', 'O_44', 'O_20', 'O_32'}\n"
     ]
    },
    {
     "name": "stdout",
     "output_type": "stream",
     "text": [
      "{'C_1', 'C_2', 'C_5', 'C_3', 'C_4'}\n"
     ]
    },
    {
     "name": "stdout",
     "output_type": "stream",
     "text": [
      "tensor([[[0., 0., 0.,  ..., 0., 0., 0.],\n",
      "         [0., 0., 0.,  ..., 0., 0., 0.]],\n",
      "\n",
      "        [[0., 0., 0.,  ..., 0., 0., 0.],\n",
      "         [0., 0., 0.,  ..., 0., 0., 0.]],\n",
      "\n",
      "        [[0., 0., 0.,  ..., 0., 0., 0.],\n",
      "         [0., 0., 0.,  ..., 0., 0., 0.]],\n",
      "\n",
      "        ...,\n",
      "\n",
      "        [[0., 0., 0.,  ..., 0., 0., 0.],\n",
      "         [0., 0., 0.,  ..., 0., 0., 0.]],\n",
      "\n",
      "        [[0., 0., 0.,  ..., 0., 0., 0.],\n",
      "         [0., 0., 0.,  ..., 0., 0., 0.]],\n",
      "\n",
      "        [[0., 0., 0.,  ..., 0., 0., 0.],\n",
      "         [0., 0., 0.,  ..., 0., 0., 0.]]])\n"
     ]
    }
   ],
   "source": [
    "from steves_utils.transforms import get_average_magnitude, get_average_power\n",
    "\n",
    "print(set([u for u,_ in val_original_source]))\n",
    "print(set([u for u,_ in val_original_target]))\n",
    "\n",
    "s_x, s_y, q_x, q_y, _ = next(iter(train_processed_source))\n",
    "print(s_x)\n",
    "\n",
    "# for ds in [\n",
    "#     train_processed_source,\n",
    "#     val_processed_source,\n",
    "#     test_processed_source,\n",
    "#     train_processed_target,\n",
    "#     val_processed_target,\n",
    "#     test_processed_target\n",
    "# ]:\n",
    "#     for s_x, s_y, q_x, q_y, _ in ds:\n",
    "#         for X in (s_x, q_x):\n",
    "#             for x in X:\n",
    "#                 assert np.isclose(get_average_magnitude(x.numpy()), 1.0)\n",
    "#                 assert np.isclose(get_average_power(x.numpy()), 1.0)\n",
    "                "
   ]
  },
  {
   "cell_type": "code",
   "execution_count": 21,
   "id": "bbdacba1",
   "metadata": {
    "execution": {
     "iopub.execute_input": "2022-03-28T10:46:49.338386Z",
     "iopub.status.busy": "2022-03-28T10:46:49.337818Z",
     "iopub.status.idle": "2022-03-28T10:46:49.484707Z",
     "shell.execute_reply": "2022-03-28T10:46:49.484379Z"
    },
    "papermill": {
     "duration": 0.177445,
     "end_time": "2022-03-28T10:46:49.484785",
     "exception": false,
     "start_time": "2022-03-28T10:46:49.307340",
     "status": "completed"
    },
    "tags": []
   },
   "outputs": [
    {
     "name": "stdout",
     "output_type": "stream",
     "text": [
      "(2, 256)\n"
     ]
    }
   ],
   "source": [
    "###################################\n",
    "# Build the model\n",
    "###################################\n",
    "# easfsl only wants a tuple for the shape\n",
    "model = Steves_Prototypical_Network(x_net, device=p.device, x_shape=tuple(p.x_shape))\n",
    "optimizer = Adam(params=model.parameters(), lr=p.lr)"
   ]
  },
  {
   "cell_type": "code",
   "execution_count": 22,
   "id": "22b39ac5",
   "metadata": {
    "execution": {
     "iopub.execute_input": "2022-03-28T10:46:49.538214Z",
     "iopub.status.busy": "2022-03-28T10:46:49.537664Z",
     "iopub.status.idle": "2022-03-28T11:01:44.219914Z",
     "shell.execute_reply": "2022-03-28T11:01:44.219563Z"
    },
    "papermill": {
     "duration": 894.713013,
     "end_time": "2022-03-28T11:01:44.219999",
     "exception": false,
     "start_time": "2022-03-28T10:46:49.506986",
     "status": "completed"
    },
    "tags": []
   },
   "outputs": [
    {
     "name": "stdout",
     "output_type": "stream",
     "text": [
      "epoch: 1, [batch: 1 / 6720], examples_per_second: 32.2933, train_label_loss: 2.6950, \n"
     ]
    },
    {
     "name": "stdout",
     "output_type": "stream",
     "text": [
      "epoch: 1, [batch: 672 / 6720], examples_per_second: 3781.6465, train_label_loss: 1.1368, \n"
     ]
    },
    {
     "name": "stdout",
     "output_type": "stream",
     "text": [
      "epoch: 1, [batch: 1344 / 6720], examples_per_second: 3881.6482, train_label_loss: 0.9417, \n"
     ]
    },
    {
     "name": "stdout",
     "output_type": "stream",
     "text": [
      "epoch: 1, [batch: 2016 / 6720], examples_per_second: 3910.1461, train_label_loss: 1.4959, \n"
     ]
    },
    {
     "name": "stdout",
     "output_type": "stream",
     "text": [
      "epoch: 1, [batch: 2688 / 6720], examples_per_second: 3852.3099, train_label_loss: 1.3375, \n"
     ]
    },
    {
     "name": "stdout",
     "output_type": "stream",
     "text": [
      "epoch: 1, [batch: 3360 / 6720], examples_per_second: 4245.3427, train_label_loss: 1.0379, \n"
     ]
    },
    {
     "name": "stdout",
     "output_type": "stream",
     "text": [
      "epoch: 1, [batch: 4032 / 6720], examples_per_second: 4293.1110, train_label_loss: 1.0256, \n"
     ]
    },
    {
     "name": "stdout",
     "output_type": "stream",
     "text": [
      "epoch: 1, [batch: 4704 / 6720], examples_per_second: 4224.5458, train_label_loss: 1.1412, \n"
     ]
    },
    {
     "name": "stdout",
     "output_type": "stream",
     "text": [
      "epoch: 1, [batch: 5376 / 6720], examples_per_second: 4276.0632, train_label_loss: 1.1162, \n"
     ]
    },
    {
     "name": "stdout",
     "output_type": "stream",
     "text": [
      "epoch: 1, [batch: 6048 / 6720], examples_per_second: 4291.7317, train_label_loss: 0.6808, \n"
     ]
    },
    {
     "name": "stdout",
     "output_type": "stream",
     "text": [
      "=============================================================\n",
      "epoch: 1, source_val_acc_label: 0.5103, target_val_acc_label: 0.3566, source_val_label_loss: 245.2712, target_val_label_loss: 5842.1880, \n",
      "=============================================================\n"
     ]
    },
    {
     "name": "stdout",
     "output_type": "stream",
     "text": [
      "New best\n"
     ]
    },
    {
     "name": "stdout",
     "output_type": "stream",
     "text": [
      "epoch: 2, [batch: 1 / 6720], examples_per_second: 4.3356, train_label_loss: 295.7301, \n"
     ]
    },
    {
     "name": "stdout",
     "output_type": "stream",
     "text": [
      "epoch: 2, [batch: 672 / 6720], examples_per_second: 4620.2837, train_label_loss: 0.4386, \n"
     ]
    },
    {
     "name": "stdout",
     "output_type": "stream",
     "text": [
      "epoch: 2, [batch: 1344 / 6720], examples_per_second: 5004.5695, train_label_loss: 0.7231, \n"
     ]
    },
    {
     "name": "stdout",
     "output_type": "stream",
     "text": [
      "epoch: 2, [batch: 2016 / 6720], examples_per_second: 5061.7627, train_label_loss: 0.3896, \n"
     ]
    },
    {
     "name": "stdout",
     "output_type": "stream",
     "text": [
      "epoch: 2, [batch: 2688 / 6720], examples_per_second: 5259.9030, train_label_loss: 0.7518, \n"
     ]
    },
    {
     "name": "stdout",
     "output_type": "stream",
     "text": [
      "epoch: 2, [batch: 3360 / 6720], examples_per_second: 5385.4738, train_label_loss: 0.5547, \n"
     ]
    },
    {
     "name": "stdout",
     "output_type": "stream",
     "text": [
      "epoch: 2, [batch: 4032 / 6720], examples_per_second: 5087.7477, train_label_loss: 0.9080, \n"
     ]
    },
    {
     "name": "stdout",
     "output_type": "stream",
     "text": [
      "epoch: 2, [batch: 4704 / 6720], examples_per_second: 5199.7831, train_label_loss: 0.6126, \n"
     ]
    },
    {
     "name": "stdout",
     "output_type": "stream",
     "text": [
      "epoch: 2, [batch: 5376 / 6720], examples_per_second: 5252.2036, train_label_loss: 0.8071, \n"
     ]
    },
    {
     "name": "stdout",
     "output_type": "stream",
     "text": [
      "epoch: 2, [batch: 6048 / 6720], examples_per_second: 4935.5082, train_label_loss: 0.7316, \n"
     ]
    },
    {
     "name": "stdout",
     "output_type": "stream",
     "text": [
      "=============================================================\n",
      "epoch: 2, source_val_acc_label: 0.7773, target_val_acc_label: 0.6725, source_val_label_loss: 0.6156, target_val_label_loss: 313.4939, \n",
      "=============================================================\n"
     ]
    },
    {
     "name": "stdout",
     "output_type": "stream",
     "text": [
      "New best\n"
     ]
    },
    {
     "name": "stdout",
     "output_type": "stream",
     "text": [
      "epoch: 3, [batch: 1 / 6720], examples_per_second: 5.1876, train_label_loss: 0.6851, \n"
     ]
    },
    {
     "name": "stdout",
     "output_type": "stream",
     "text": [
      "epoch: 3, [batch: 672 / 6720], examples_per_second: 4664.2691, train_label_loss: 0.7472, \n"
     ]
    },
    {
     "name": "stdout",
     "output_type": "stream",
     "text": [
      "epoch: 3, [batch: 1344 / 6720], examples_per_second: 4878.5028, train_label_loss: 0.4123, \n"
     ]
    },
    {
     "name": "stdout",
     "output_type": "stream",
     "text": [
      "epoch: 3, [batch: 2016 / 6720], examples_per_second: 4977.9567, train_label_loss: 0.9390, \n"
     ]
    },
    {
     "name": "stdout",
     "output_type": "stream",
     "text": [
      "epoch: 3, [batch: 2688 / 6720], examples_per_second: 4736.1260, train_label_loss: 0.4732, \n"
     ]
    },
    {
     "name": "stdout",
     "output_type": "stream",
     "text": [
      "epoch: 3, [batch: 3360 / 6720], examples_per_second: 5101.6751, train_label_loss: 0.4262, \n"
     ]
    },
    {
     "name": "stdout",
     "output_type": "stream",
     "text": [
      "epoch: 3, [batch: 4032 / 6720], examples_per_second: 5147.0635, train_label_loss: 0.5004, \n"
     ]
    },
    {
     "name": "stdout",
     "output_type": "stream",
     "text": [
      "epoch: 3, [batch: 4704 / 6720], examples_per_second: 5233.1517, train_label_loss: 0.6330, \n"
     ]
    },
    {
     "name": "stdout",
     "output_type": "stream",
     "text": [
      "epoch: 3, [batch: 5376 / 6720], examples_per_second: 5166.9654, train_label_loss: 0.4371, \n"
     ]
    },
    {
     "name": "stdout",
     "output_type": "stream",
     "text": [
      "epoch: 3, [batch: 6048 / 6720], examples_per_second: 5135.0766, train_label_loss: 0.6457, \n"
     ]
    },
    {
     "name": "stdout",
     "output_type": "stream",
     "text": [
      "=============================================================\n",
      "epoch: 3, source_val_acc_label: 0.8127, target_val_acc_label: 0.6559, source_val_label_loss: 0.5320, target_val_label_loss: 370.2781, \n",
      "=============================================================\n"
     ]
    },
    {
     "name": "stdout",
     "output_type": "stream",
     "text": [
      "epoch: 4, [batch: 1 / 6720], examples_per_second: 3.9403, train_label_loss: 0.4288, \n"
     ]
    },
    {
     "name": "stdout",
     "output_type": "stream",
     "text": [
      "epoch: 4, [batch: 672 / 6720], examples_per_second: 3782.5260, train_label_loss: 0.3808, \n"
     ]
    },
    {
     "name": "stdout",
     "output_type": "stream",
     "text": [
      "epoch: 4, [batch: 1344 / 6720], examples_per_second: 4000.4331, train_label_loss: 0.5842, \n"
     ]
    },
    {
     "name": "stdout",
     "output_type": "stream",
     "text": [
      "epoch: 4, [batch: 2016 / 6720], examples_per_second: 3934.0374, train_label_loss: 0.1693, \n"
     ]
    },
    {
     "name": "stdout",
     "output_type": "stream",
     "text": [
      "epoch: 4, [batch: 2688 / 6720], examples_per_second: 3907.8364, train_label_loss: 0.3493, \n"
     ]
    },
    {
     "name": "stdout",
     "output_type": "stream",
     "text": [
      "epoch: 4, [batch: 3360 / 6720], examples_per_second: 3886.7767, train_label_loss: 0.2207, \n"
     ]
    },
    {
     "name": "stdout",
     "output_type": "stream",
     "text": [
      "epoch: 4, [batch: 4032 / 6720], examples_per_second: 3935.5629, train_label_loss: 0.4141, \n"
     ]
    },
    {
     "name": "stdout",
     "output_type": "stream",
     "text": [
      "epoch: 4, [batch: 4704 / 6720], examples_per_second: 4088.3693, train_label_loss: 0.3675, \n"
     ]
    },
    {
     "name": "stdout",
     "output_type": "stream",
     "text": [
      "epoch: 4, [batch: 5376 / 6720], examples_per_second: 4566.1598, train_label_loss: 0.2097, \n"
     ]
    },
    {
     "name": "stdout",
     "output_type": "stream",
     "text": [
      "epoch: 4, [batch: 6048 / 6720], examples_per_second: 4916.4146, train_label_loss: 0.3880, \n"
     ]
    },
    {
     "name": "stdout",
     "output_type": "stream",
     "text": [
      "=============================================================\n",
      "epoch: 4, source_val_acc_label: 0.8737, target_val_acc_label: 0.6551, source_val_label_loss: 0.3539, target_val_label_loss: 385.5177, \n",
      "=============================================================\n"
     ]
    },
    {
     "name": "stdout",
     "output_type": "stream",
     "text": [
      "epoch: 5, [batch: 1 / 6720], examples_per_second: 4.0559, train_label_loss: 0.4254, \n"
     ]
    },
    {
     "name": "stdout",
     "output_type": "stream",
     "text": [
      "epoch: 5, [batch: 672 / 6720], examples_per_second: 3813.5070, train_label_loss: 0.5118, \n"
     ]
    },
    {
     "name": "stdout",
     "output_type": "stream",
     "text": [
      "epoch: 5, [batch: 1344 / 6720], examples_per_second: 3881.4704, train_label_loss: 0.3639, \n"
     ]
    },
    {
     "name": "stdout",
     "output_type": "stream",
     "text": [
      "epoch: 5, [batch: 2016 / 6720], examples_per_second: 3871.4790, train_label_loss: 0.5584, \n"
     ]
    },
    {
     "name": "stdout",
     "output_type": "stream",
     "text": [
      "epoch: 5, [batch: 2688 / 6720], examples_per_second: 3859.2247, train_label_loss: 0.2427, \n"
     ]
    },
    {
     "name": "stdout",
     "output_type": "stream",
     "text": [
      "epoch: 5, [batch: 3360 / 6720], examples_per_second: 3930.4750, train_label_loss: 0.7438, \n"
     ]
    },
    {
     "name": "stdout",
     "output_type": "stream",
     "text": [
      "epoch: 5, [batch: 4032 / 6720], examples_per_second: 3890.4630, train_label_loss: 0.1812, \n"
     ]
    },
    {
     "name": "stdout",
     "output_type": "stream",
     "text": [
      "epoch: 5, [batch: 4704 / 6720], examples_per_second: 3992.7189, train_label_loss: 0.2151, \n"
     ]
    },
    {
     "name": "stdout",
     "output_type": "stream",
     "text": [
      "epoch: 5, [batch: 5376 / 6720], examples_per_second: 4492.1324, train_label_loss: 0.1446, \n"
     ]
    },
    {
     "name": "stdout",
     "output_type": "stream",
     "text": [
      "epoch: 5, [batch: 6048 / 6720], examples_per_second: 4677.1220, train_label_loss: 0.5040, \n"
     ]
    },
    {
     "name": "stdout",
     "output_type": "stream",
     "text": [
      "=============================================================\n",
      "epoch: 5, source_val_acc_label: 0.8663, target_val_acc_label: 0.6456, source_val_label_loss: 0.3759, target_val_label_loss: 352.9278, \n",
      "=============================================================\n"
     ]
    },
    {
     "name": "stdout",
     "output_type": "stream",
     "text": [
      "epoch: 6, [batch: 1 / 6720], examples_per_second: 4.0168, train_label_loss: 0.2091, \n"
     ]
    },
    {
     "name": "stdout",
     "output_type": "stream",
     "text": [
      "epoch: 6, [batch: 672 / 6720], examples_per_second: 3852.7878, train_label_loss: 0.2571, \n"
     ]
    },
    {
     "name": "stdout",
     "output_type": "stream",
     "text": [
      "epoch: 6, [batch: 1344 / 6720], examples_per_second: 3949.7774, train_label_loss: 0.5774, \n"
     ]
    },
    {
     "name": "stdout",
     "output_type": "stream",
     "text": [
      "epoch: 6, [batch: 2016 / 6720], examples_per_second: 3990.5861, train_label_loss: 0.3794, \n"
     ]
    },
    {
     "name": "stdout",
     "output_type": "stream",
     "text": [
      "epoch: 6, [batch: 2688 / 6720], examples_per_second: 3960.2787, train_label_loss: 0.2531, \n"
     ]
    },
    {
     "name": "stdout",
     "output_type": "stream",
     "text": [
      "epoch: 6, [batch: 3360 / 6720], examples_per_second: 4062.4903, train_label_loss: 0.4560, \n"
     ]
    },
    {
     "name": "stdout",
     "output_type": "stream",
     "text": [
      "epoch: 6, [batch: 4032 / 6720], examples_per_second: 3969.9385, train_label_loss: 0.5194, \n"
     ]
    },
    {
     "name": "stdout",
     "output_type": "stream",
     "text": [
      "epoch: 6, [batch: 4704 / 6720], examples_per_second: 3922.6820, train_label_loss: 0.1945, \n"
     ]
    },
    {
     "name": "stdout",
     "output_type": "stream",
     "text": [
      "epoch: 6, [batch: 5376 / 6720], examples_per_second: 4361.9446, train_label_loss: 0.2560, \n"
     ]
    },
    {
     "name": "stdout",
     "output_type": "stream",
     "text": [
      "epoch: 6, [batch: 6048 / 6720], examples_per_second: 4583.1726, train_label_loss: 0.2908, \n"
     ]
    },
    {
     "name": "stdout",
     "output_type": "stream",
     "text": [
      "=============================================================\n",
      "epoch: 6, source_val_acc_label: 0.8664, target_val_acc_label: 0.6489, source_val_label_loss: 0.3680, target_val_label_loss: 486.9267, \n",
      "=============================================================\n"
     ]
    },
    {
     "name": "stdout",
     "output_type": "stream",
     "text": [
      "Patience (3) exhausted\n"
     ]
    }
   ],
   "source": [
    "###################################\n",
    "# train\n",
    "###################################\n",
    "jig = PTN_Train_Eval_Test_Jig(model, p.BEST_MODEL_PATH, p.device)\n",
    "\n",
    "jig.train(\n",
    "    train_iterable=datasets.source.processed.train,\n",
    "    source_val_iterable=datasets.source.processed.val,\n",
    "    target_val_iterable=datasets.target.processed.val,\n",
    "    num_epochs=p.n_epoch,\n",
    "    num_logs_per_epoch=p.NUM_LOGS_PER_EPOCH,\n",
    "    patience=p.patience,\n",
    "    optimizer=optimizer,\n",
    "    criteria_for_best=p.criteria_for_best,\n",
    ")"
   ]
  },
  {
   "cell_type": "code",
   "execution_count": 23,
   "id": "31e8fabf",
   "metadata": {
    "execution": {
     "iopub.execute_input": "2022-03-28T11:01:44.308214Z",
     "iopub.status.busy": "2022-03-28T11:01:44.307718Z",
     "iopub.status.idle": "2022-03-28T11:01:44.339694Z",
     "shell.execute_reply": "2022-03-28T11:01:44.340339Z"
    },
    "papermill": {
     "duration": 0.079094,
     "end_time": "2022-03-28T11:01:44.340542",
     "exception": false,
     "start_time": "2022-03-28T11:01:44.261448",
     "status": "completed"
    },
    "tags": []
   },
   "outputs": [],
   "source": [
    "total_experiment_time_secs = time.time() - start_time_secs"
   ]
  },
  {
   "cell_type": "code",
   "execution_count": 24,
   "id": "87b9595b",
   "metadata": {
    "execution": {
     "iopub.execute_input": "2022-03-28T11:01:44.433063Z",
     "iopub.status.busy": "2022-03-28T11:01:44.432668Z",
     "iopub.status.idle": "2022-03-28T11:04:29.883176Z",
     "shell.execute_reply": "2022-03-28T11:04:29.882443Z"
    },
    "papermill": {
     "duration": 165.497623,
     "end_time": "2022-03-28T11:04:29.883356",
     "exception": false,
     "start_time": "2022-03-28T11:01:44.385733",
     "status": "completed"
    },
    "tags": []
   },
   "outputs": [],
   "source": [
    "###################################\n",
    "# Evaluate the model\n",
    "###################################\n",
    "source_test_label_accuracy, source_test_label_loss = jig.test(datasets.source.processed.test)\n",
    "target_test_label_accuracy, target_test_label_loss = jig.test(datasets.target.processed.test)\n",
    "\n",
    "source_val_label_accuracy, source_val_label_loss = jig.test(datasets.source.processed.val)\n",
    "target_val_label_accuracy, target_val_label_loss = jig.test(datasets.target.processed.val)\n",
    "\n",
    "history = jig.get_history()\n",
    "\n",
    "total_epochs_trained = len(history[\"epoch_indices\"])\n",
    "\n",
    "val_dl = Iterable_Aggregator((datasets.source.original.val,datasets.target.original.val))\n",
    "\n",
    "confusion = ptn_confusion_by_domain_over_dataloader(model, p.device, val_dl)\n",
    "per_domain_accuracy = per_domain_accuracy_from_confusion(confusion)\n",
    "\n",
    "# Add a key to per_domain_accuracy for if it was a source domain\n",
    "for domain, accuracy in per_domain_accuracy.items():\n",
    "    per_domain_accuracy[domain] = {\n",
    "        \"accuracy\": accuracy,\n",
    "        \"source?\": domain in p.domains_source\n",
    "    }\n",
    "\n",
    "# Do an independent accuracy assesment JUST TO BE SURE!\n",
    "# _source_test_label_accuracy = independent_accuracy_assesment(model, datasets.source.processed.test, p.device)\n",
    "# _target_test_label_accuracy = independent_accuracy_assesment(model, datasets.target.processed.test, p.device)\n",
    "# _source_val_label_accuracy = independent_accuracy_assesment(model, datasets.source.processed.val, p.device)\n",
    "# _target_val_label_accuracy = independent_accuracy_assesment(model, datasets.target.processed.val, p.device)\n",
    "\n",
    "# assert(_source_test_label_accuracy == source_test_label_accuracy)\n",
    "# assert(_target_test_label_accuracy == target_test_label_accuracy)\n",
    "# assert(_source_val_label_accuracy == source_val_label_accuracy)\n",
    "# assert(_target_val_label_accuracy == target_val_label_accuracy)\n",
    "\n",
    "experiment = {\n",
    "    \"experiment_name\": p.experiment_name,\n",
    "    \"parameters\": dict(p),\n",
    "    \"results\": {\n",
    "        \"source_test_label_accuracy\": source_test_label_accuracy,\n",
    "        \"source_test_label_loss\": source_test_label_loss,\n",
    "        \"target_test_label_accuracy\": target_test_label_accuracy,\n",
    "        \"target_test_label_loss\": target_test_label_loss,\n",
    "        \"source_val_label_accuracy\": source_val_label_accuracy,\n",
    "        \"source_val_label_loss\": source_val_label_loss,\n",
    "        \"target_val_label_accuracy\": target_val_label_accuracy,\n",
    "        \"target_val_label_loss\": target_val_label_loss,\n",
    "        \"total_epochs_trained\": total_epochs_trained,\n",
    "        \"total_experiment_time_secs\": total_experiment_time_secs,\n",
    "        \"confusion\": confusion,\n",
    "        \"per_domain_accuracy\": per_domain_accuracy,\n",
    "    },\n",
    "    \"history\": history,\n",
    "    \"dataset_metrics\": get_dataset_metrics(datasets, \"ptn\"),\n",
    "}"
   ]
  },
  {
   "cell_type": "code",
   "execution_count": 25,
   "id": "54a21829",
   "metadata": {
    "execution": {
     "iopub.execute_input": "2022-03-28T11:04:29.976464Z",
     "iopub.status.busy": "2022-03-28T11:04:29.974585Z",
     "iopub.status.idle": "2022-03-28T11:04:30.195777Z",
     "shell.execute_reply": "2022-03-28T11:04:30.195035Z"
    },
    "papermill": {
     "duration": 0.264477,
     "end_time": "2022-03-28T11:04:30.195937",
     "exception": false,
     "start_time": "2022-03-28T11:04:29.931460",
     "status": "completed"
    },
    "tags": []
   },
   "outputs": [
    {
     "data": {
      "image/png": "[encoded data removed]",
      "text/plain": [
       "<Figure size 1080x504 with 1 Axes>"
      ]
     },
     "metadata": {
      "needs_background": "light"
     },
     "output_type": "display_data"
    }
   ],
   "source": [
    "ax = get_loss_curve(experiment)\n",
    "plt.show()"
   ]
  },
  {
   "cell_type": "code",
   "execution_count": 26,
   "id": "fd8a0f60",
   "metadata": {
    "execution": {
     "iopub.execute_input": "2022-03-28T11:04:30.288142Z",
     "iopub.status.busy": "2022-03-28T11:04:30.287771Z",
     "iopub.status.idle": "2022-03-28T11:04:30.683265Z",
     "shell.execute_reply": "2022-03-28T11:04:30.683974Z"
    },
    "papermill": {
     "duration": 0.441134,
     "end_time": "2022-03-28T11:04:30.684165",
     "exception": false,
     "start_time": "2022-03-28T11:04:30.243031",
     "status": "completed"
    },
    "tags": []
   },
   "outputs": [
    {
     "data": {
      "text/plain": [
       "<AxesSubplot:title={'center':'Results'}>"
      ]
     },
     "execution_count": 26,
     "metadata": {},
     "output_type": "execute_result"
    },
    {
     "data": {
      "image/png": "[encoded data removed]",
      "text/plain": [
       "<Figure size 1080x504 with 1 Axes>"
      ]
     },
     "metadata": {
      "needs_background": "light"
     },
     "output_type": "display_data"
    }
   ],
   "source": [
    "get_results_table(experiment)"
   ]
  },
  {
   "cell_type": "code",
   "execution_count": 27,
   "id": "cf8dc689",
   "metadata": {
    "execution": {
     "iopub.execute_input": "2022-03-28T11:04:30.782232Z",
     "iopub.status.busy": "2022-03-28T11:04:30.781862Z",
     "iopub.status.idle": "2022-03-28T11:04:31.022115Z",
     "shell.execute_reply": "2022-03-28T11:04:31.021384Z"
    },
    "papermill": {
     "duration": 0.287511,
     "end_time": "2022-03-28T11:04:31.022272",
     "exception": false,
     "start_time": "2022-03-28T11:04:30.734761",
     "status": "completed"
    },
    "tags": []
   },
   "outputs": [
    {
     "data": {
      "text/plain": [
       "<AxesSubplot:title={'center':'Per Domain Validation Accuracy'}, xlabel='domain'>"
      ]
     },
     "execution_count": 27,
     "metadata": {},
     "output_type": "execute_result"
    },
    {
     "data": {
      "image/png": "[encoded data removed]",
      "text/plain": [
       "<Figure size 1080x504 with 1 Axes>"
      ]
     },
     "metadata": {
      "needs_background": "light"
     },
     "output_type": "display_data"
    }
   ],
   "source": [
    "get_domain_accuracies(experiment)"
   ]
  },
  {
   "cell_type": "code",
   "execution_count": 28,
   "id": "a74ae082",
   "metadata": {
    "execution": {
     "iopub.execute_input": "2022-03-28T11:04:31.123494Z",
     "iopub.status.busy": "2022-03-28T11:04:31.123118Z",
     "iopub.status.idle": "2022-03-28T11:04:31.148294Z",
     "shell.execute_reply": "2022-03-28T11:04:31.147481Z"
    },
    "papermill": {
     "duration": 0.074513,
     "end_time": "2022-03-28T11:04:31.148450",
     "exception": false,
     "start_time": "2022-03-28T11:04:31.073937",
     "status": "completed"
    },
    "tags": []
   },
   "outputs": [
    {
     "name": "stdout",
     "output_type": "stream",
     "text": [
      "Source Test Label Accuracy: 0.77470703125 Target Test Label Accuracy: 0.6719624860022396\n",
      "Source Val Label Accuracy: 0.7772786458333333 Target Val Label Accuracy: 0.6725185926773455\n"
     ]
    }
   ],
   "source": [
    "print(\"Source Test Label Accuracy:\", experiment[\"results\"][\"source_test_label_accuracy\"], \"Target Test Label Accuracy:\", experiment[\"results\"][\"target_test_label_accuracy\"])\n",
    "print(\"Source Val Label Accuracy:\", experiment[\"results\"][\"source_val_label_accuracy\"], \"Target Val Label Accuracy:\", experiment[\"results\"][\"target_val_label_accuracy\"])"
   ]
  },
  {
   "cell_type": "code",
   "execution_count": 29,
   "id": "dacca602",
   "metadata": {
    "execution": {
     "iopub.execute_input": "2022-03-28T11:04:31.256591Z",
     "iopub.status.busy": "2022-03-28T11:04:31.256210Z",
     "iopub.status.idle": "2022-03-28T11:04:31.277939Z",
     "shell.execute_reply": "2022-03-28T11:04:31.278613Z"
    },
    "papermill": {
     "duration": 0.069723,
     "end_time": "2022-03-28T11:04:31.278811",
     "exception": false,
     "start_time": "2022-03-28T11:04:31.209088",
     "status": "completed"
    },
    "tags": [
     "experiment_json"
    ]
   },
   "outputs": [
    {
     "data": {
      "text/plain": [
       "'{\"experiment_name\": \"tl_3-jitter10v2:oracle.run1.framed -> cores\", \"parameters\": {\"experiment_name\": \"tl_3-jitter10v2:oracle.run1.framed -> cores\", \"device\": \"cuda\", \"lr\": 0.0001, \"x_shape\": [2, 256], \"n_shot\": 3, \"n_query\": 2, \"train_k_factor\": 3, \"val_k_factor\": 2, \"test_k_factor\": 2, \"torch_default_dtype\": \"torch.float32\", \"n_epoch\": 50, \"patience\": 3, \"criteria_for_best\": \"target_accuracy\", \"x_net\": [{\"class\": \"nnReshape\", \"kargs\": {\"shape\": [-1, 1, 2, 256]}}, {\"class\": \"Conv2d\", \"kargs\": {\"in_channels\": 1, \"out_channels\": 256, \"kernel_size\": [1, 7], \"bias\": false, \"padding\": [0, 3]}}, {\"class\": \"ReLU\", \"kargs\": {\"inplace\": true}}, {\"class\": \"BatchNorm2d\", \"kargs\": {\"num_features\": 256}}, {\"class\": \"Conv2d\", \"kargs\": {\"in_channels\": 256, \"out_channels\": 80, \"kernel_size\": [2, 7], \"bias\": true, \"padding\": [0, 3]}}, {\"class\": \"ReLU\", \"kargs\": {\"inplace\": true}}, {\"class\": \"BatchNorm2d\", \"kargs\": {\"num_features\": 80}}, {\"class\": \"Flatten\", \"kargs\": {}}, {\"class\": \"Linear\", \"kargs\": {\"in_features\": 20480, \"out_features\": 256}}, {\"class\": \"ReLU\", \"kargs\": {\"inplace\": true}}, {\"class\": \"BatchNorm1d\", \"kargs\": {\"num_features\": 256}}, {\"class\": \"Linear\", \"kargs\": {\"in_features\": 256, \"out_features\": 256}}], \"NUM_LOGS_PER_EPOCH\": 10, \"BEST_MODEL_PATH\": \"./best_model.pth\", \"n_way\": 16, \"datasets\": [{\"labels\": [\"1-10.\", \"1-11.\", \"1-15.\", \"1-16.\", \"1-17.\", \"1-18.\", \"1-19.\", \"10-4.\", \"10-7.\", \"11-1.\", \"11-14.\", \"11-17.\", \"11-20.\", \"11-7.\", \"13-20.\", \"13-8.\", \"14-10.\", \"14-11.\", \"14-14.\", \"14-7.\", \"15-1.\", \"15-20.\", \"16-1.\", \"16-16.\", \"17-10.\", \"17-11.\", \"17-2.\", \"19-1.\", \"19-16.\", \"19-19.\", \"19-20.\", \"19-3.\", \"2-10.\", \"2-11.\", \"2-17.\", \"2-18.\", \"2-20.\", \"2-3.\", \"2-4.\", \"2-5.\", \"2-6.\", \"2-7.\", \"2-8.\", \"3-13.\", \"3-18.\", \"3-3.\", \"4-1.\", \"4-10.\", \"4-11.\", \"4-19.\", \"5-5.\", \"6-15.\", \"7-10.\", \"7-14.\", \"8-18.\", \"8-20.\", \"8-3.\", \"8-8.\"], \"domains\": [1, 2, 3, 4, 5], \"num_examples_per_domain_per_label\": -1, \"pickle_path\": \"/root/csc500-main/datasets/cores.stratified_ds.2022A.pkl\", \"source_or_target_dataset\": \"target\", \"x_transforms\": [\"jitter_256_10\", \"lowpass_+/-10MHz\", \"take_200\"], \"episode_transforms\": [], \"domain_prefix\": \"C_\"}, {\"labels\": [\"3123D52\", \"3123D65\", \"3123D79\", \"3123D80\", \"3123D54\", \"3123D70\", \"3123D7B\", \"3123D89\", \"3123D58\", \"3123D76\", \"3123D7D\", \"3123EFE\", \"3123D64\", \"3123D78\", \"3123D7E\", \"3124E4A\"], \"domains\": [32, 38, 8, 44, 14, 50, 20, 26], \"num_examples_per_domain_per_label\": 2000, \"pickle_path\": \"/root/csc500-main/datasets/oracle.Run1_framed_2000Examples_stratified_ds.2022A.pkl\", \"source_or_target_dataset\": \"source\", \"x_transforms\": [\"jitter_256_10\", \"take_200\", \"resample_20Msps_to_25Msps\"], \"episode_transforms\": [], \"domain_prefix\": \"O_\"}], \"seed\": 154325, \"dataset_seed\": 154325, \"domains_source\": [\"O_32\", \"O_38\", \"O_8\", \"O_44\", \"O_14\", \"O_50\", \"O_20\", \"O_26\"], \"domains_target\": [\"C_1\", \"C_2\", \"C_3\", \"C_4\", \"C_5\"]}, \"results\": {\"source_test_label_accuracy\": 0.77470703125, \"source_test_label_loss\": 0.6239708065986633, \"target_test_label_accuracy\": 0.6719624860022396, \"target_test_label_loss\": 315.40826416015625, \"source_val_label_accuracy\": 0.7772786458333333, \"source_val_label_loss\": 0.6155881285667419, \"target_val_label_accuracy\": 0.6725185926773455, \"target_val_label_loss\": 313.493896484375, \"total_epochs_trained\": 6, \"total_experiment_time_secs\": 975.2481591701508, \"confusion\": {\"O_8\": {\"13\": {\"10\": 45, \"13\": 163, \"1\": 8, \"7\": 18, \"5\": 4, \"6\": 2}, \"9\": {\"9\": 240}, \"15\": {\"15\": 181, \"12\": 31, \"2\": 28}, \"2\": {\"2\": 112, \"3\": 40, \"12\": 13, \"15\": 75}, \"3\": {\"3\": 240}, \"8\": {\"8\": 221, \"6\": 17, \"4\": 1, \"7\": 1}, \"5\": {\"1\": 16, \"5\": 153, \"10\": 42, \"11\": 19, \"13\": 8, \"4\": 1, \"14\": 1}, \"14\": {\"14\": 222, \"4\": 13, \"11\": 5}, \"1\": {\"1\": 94, \"10\": 49, \"13\": 25, \"5\": 8, \"11\": 59, \"6\": 4, \"7\": 1}, \"0\": {\"0\": 240}, \"10\": {\"10\": 99, \"1\": 63, \"13\": 39, \"11\": 16, \"5\": 22, \"6\": 1}, \"6\": {\"6\": 194, \"7\": 30, \"1\": 10, \"13\": 2, \"11\": 2, \"10\": 1, \"8\": 1}, \"11\": {\"1\": 64, \"11\": 73, \"14\": 18, \"10\": 25, \"4\": 33, \"5\": 15, \"6\": 8, \"13\": 3, \"7\": 1}, \"7\": {\"7\": 200, \"6\": 35, \"13\": 4, \"1\": 1}, \"4\": {\"4\": 218, \"11\": 16, \"14\": 5, \"8\": 1}, \"12\": {\"15\": 44, \"12\": 188, \"2\": 8}}, \"O_38\": {\"13\": {\"13\": 207, \"10\": 15, \"0\": 9, \"14\": 9}, \"12\": {\"5\": 26, \"12\": 183, \"8\": 30, \"9\": 1}, \"2\": {\"2\": 177, \"14\": 63}, \"9\": {\"9\": 188, \"5\": 20, \"7\": 16, \"8\": 15, \"12\": 1}, \"15\": {\"1\": 9, \"15\": 212, \"12\": 12, \"5\": 5, \"8\": 2}, \"5\": {\"5\": 74, \"8\": 61, \"7\": 13, \"12\": 42, \"9\": 44, \"15\": 5, \"14\": 1}, \"14\": {\"2\": 69, \"14\": 155, \"13\": 16}, \"0\": {\"7\": 14, \"0\": 97, \"4\": 69, \"10\": 31, \"3\": 15, \"13\": 10, \"8\": 1, \"9\": 1, \"14\": 1, \"5\": 1}, \"3\": {\"3\": 240}, \"1\": {\"1\": 240}, \"11\": {\"11\": 240}, \"7\": {\"7\": 224, \"9\": 14, \"5\": 1, \"8\": 1}, \"8\": {\"8\": 79, \"5\": 48, \"7\": 11, \"12\": 64, \"9\": 30, \"14\": 3, \"0\": 4, \"15\": 1}, \"4\": {\"4\": 195, \"0\": 40, \"10\": 5}, \"10\": {\"10\": 189, \"0\": 28, \"13\": 16, \"4\": 5, \"3\": 2}, \"6\": {\"6\": 240}}, \"O_26\": {\"10\": {\"10\": 142, \"14\": 49, \"15\": 32, \"0\": 12, \"6\": 4, \"5\": 1}, \"12\": {\"12\": 240}, \"1\": {\"1\": 179, \"14\": 26, \"5\": 26, \"6\": 1, \"15\": 8}, \"0\": {\"0\": 166, \"2\": 16, \"10\": 38, \"14\": 17, \"15\": 2, \"8\": 1}, \"15\": {\"10\": 63, \"5\": 55, \"6\": 29, \"15\": 76, \"14\": 11, \"0\": 3, \"1\": 3}, \"13\": {\"4\": 13, \"13\": 179, \"9\": 28, \"8\": 10, \"2\": 3, \"3\": 2, \"7\": 5}, \"8\": {\"8\": 129, \"9\": 46, \"2\": 34, \"7\": 30, \"13\": 1}, \"3\": {\"3\": 226, \"7\": 13, \"13\": 1}, \"11\": {\"11\": 240}, \"4\": {\"4\": 236, \"13\": 3, \"3\": 1}, \"6\": {\"6\": 179, \"5\": 39, \"15\": 20, \"10\": 2}, \"7\": {\"7\": 165, \"2\": 34, \"8\": 23, \"3\": 17, \"13\": 1}, \"14\": {\"1\": 5, \"14\": 171, \"10\": 41, \"0\": 11, \"15\": 9, \"5\": 3}, \"2\": {\"2\": 94, \"0\": 19, \"7\": 75, \"8\": 40, \"9\": 4, \"3\": 8}, \"5\": {\"15\": 38, \"5\": 143, \"14\": 3, \"6\": 45, \"1\": 11}, \"9\": {\"9\": 153, \"8\": 43, \"13\": 40, \"0\": 1, \"7\": 1, \"2\": 2}}, \"O_20\": {\"5\": {\"5\": 167, \"1\": 41, \"9\": 8, \"3\": 24}, \"15\": {\"12\": 17, \"15\": 199, \"1\": 19, \"2\": 2, \"13\": 3}, \"9\": {\"9\": 175, \"7\": 17, \"1\": 26, \"3\": 14, \"5\": 8}, \"7\": {\"6\": 9, \"7\": 173, \"9\": 25, \"1\": 2, \"12\": 4, \"4\": 6, \"2\": 21}, \"3\": {\"9\": 37, \"3\": 140, \"1\": 5, \"8\": 33, \"5\": 22, \"7\": 2, \"0\": 1}, \"8\": {\"8\": 194, \"3\": 28, \"14\": 18}, \"4\": {\"4\": 140, \"12\": 39, \"2\": 56, \"7\": 3, \"6\": 1, \"13\": 1}, \"6\": {\"6\": 228, \"7\": 12}, \"2\": {\"12\": 58, \"4\": 75, \"2\": 97, \"7\": 10}, \"12\": {\"12\": 142, \"2\": 60, \"4\": 20, \"15\": 16, \"7\": 1, \"13\": 1}, \"0\": {\"0\": 235, \"11\": 2, \"5\": 2, \"3\": 1}, \"13\": {\"13\": 226, \"15\": 6, \"12\": 5, \"4\": 3}, \"10\": {\"10\": 240}, \"11\": {\"11\": 240}, \"14\": {\"14\": 224, \"8\": 16}, \"1\": {\"1\": 172, \"5\": 50, \"3\": 5, \"9\": 13}}, \"O_50\": {\"1\": {\"1\": 225, \"13\": 13, \"12\": 2}, \"2\": {\"2\": 218, \"0\": 22}, \"8\": {\"8\": 238, \"10\": 2}, \"7\": {\"7\": 221, \"4\": 6, \"5\": 13}, \"14\": {\"14\": 240}, \"6\": {\"6\": 182, \"5\": 41, \"15\": 17}, \"3\": {\"3\": 240}, \"4\": {\"4\": 218, \"5\": 5, \"7\": 15, \"15\": 2}, \"12\": {\"12\": 149, \"11\": 71, \"9\": 13, \"15\": 7}, \"15\": {\"15\": 214, \"12\": 9, \"6\": 7, \"9\": 7, \"5\": 3}, \"11\": {\"12\": 82, \"11\": 156, \"15\": 1, \"9\": 1}, \"0\": {\"0\": 200, \"10\": 5, \"2\": 35}, \"9\": {\"12\": 32, \"9\": 192, \"11\": 11, \"15\": 5}, \"10\": {\"10\": 234, \"8\": 2, \"0\": 4}, \"5\": {\"13\": 10, \"6\": 40, \"1\": 1, \"4\": 15, \"7\": 61, \"5\": 102, \"15\": 10, \"11\": 1}, \"13\": {\"13\": 239, \"1\": 1}}, \"O_32\": {\"2\": {\"2\": 213, \"4\": 27}, \"6\": {\"6\": 240}, \"5\": {\"7\": 62, \"5\": 101, \"0\": 19, \"14\": 17, \"15\": 18, \"8\": 23}, \"12\": {\"12\": 240}, \"13\": {\"13\": 177, \"3\": 31, \"4\": 18, \"11\": 14}, \"9\": {\"9\": 216, \"12\": 20, \"2\": 4}, \"11\": {\"11\": 239, \"13\": 1}, \"1\": {\"1\": 240}, \"3\": {\"3\": 234, \"13\": 6}, \"7\": {\"7\": 118, \"5\": 45, \"0\": 55, \"8\": 12, \"14\": 10}, \"14\": {\"14\": 79, \"8\": 85, \"0\": 41, \"7\": 15, \"5\": 13, \"2\": 2, \"15\": 1, \"4\": 3, \"13\": 1}, \"8\": {\"8\": 118, \"14\": 73, \"7\": 20, \"0\": 12, \"4\": 6, \"5\": 10, \"3\": 1}, \"4\": {\"4\": 218, \"2\": 21, \"13\": 1}, \"0\": {\"7\": 61, \"8\": 20, \"0\": 127, \"14\": 19, \"5\": 13}, \"10\": {\"10\": 239, \"6\": 1}, \"15\": {\"15\": 235, \"5\": 5}}, \"O_44\": {\"13\": {\"13\": 197, \"6\": 41, \"9\": 2}, \"4\": {\"4\": 142, \"14\": 89, \"15\": 7, \"5\": 2}, \"6\": {\"6\": 192, \"13\": 34, \"9\": 13, \"7\": 1}, \"0\": {\"0\": 220, \"8\": 19, \"15\": 1}, \"10\": {\"10\": 197, \"7\": 27, \"2\": 13, \"1\": 3}, \"7\": {\"7\": 215, \"9\": 17, \"10\": 8}, \"14\": {\"14\": 167, \"4\": 50, \"5\": 14, \"15\": 9}, \"15\": {\"14\": 21, \"5\": 28, \"15\": 177, \"8\": 11, \"0\": 3}, \"5\": {\"5\": 173, \"15\": 53, \"14\": 11, \"8\": 3}, \"2\": {\"2\": 221, \"1\": 19}, \"9\": {\"9\": 98, \"13\": 13, \"7\": 82, \"6\": 44, \"10\": 1, \"2\": 2}, \"12\": {\"12\": 227, \"3\": 13}, \"8\": {\"8\": 161, \"0\": 73, \"5\": 4, \"15\": 2}, \"3\": {\"3\": 234, \"12\": 6}, \"1\": {\"1\": 217, \"2\": 23}, \"11\": {\"11\": 240}}, \"O_14\": {\"1\": {\"1\": 240}, \"15\": {\"15\": 240}, \"10\": {\"10\": 237, \"4\": 3}, \"2\": {\"5\": 83, \"6\": 20, \"4\": 24, \"2\": 40, \"7\": 29, \"14\": 31, \"13\": 12, \"3\": 1}, \"9\": {\"9\": 240}, \"5\": {\"14\": 8, \"5\": 142, \"2\": 81, \"4\": 2, \"7\": 3, \"13\": 3, \"3\": 1}, \"7\": {\"7\": 207, \"13\": 7, \"5\": 2, \"2\": 16, \"14\": 4, \"6\": 4}, \"13\": {\"7\": 14, \"6\": 79, \"13\": 45, \"15\": 13, \"5\": 25, \"14\": 37, \"4\": 6, \"3\": 9, \"2\": 12}, \"8\": {\"8\": 210, \"0\": 30}, \"6\": {\"13\": 58, \"6\": 137, \"7\": 28, \"2\": 3, \"14\": 10, \"3\": 4}, \"3\": {\"3\": 223, \"14\": 10, \"0\": 5, \"6\": 1, \"13\": 1}, \"12\": {\"12\": 240}, \"0\": {\"0\": 165, \"8\": 62, \"3\": 12, \"10\": 1}, \"4\": {\"4\": 232, \"2\": 5, \"5\": 1, \"10\": 2}, \"14\": {\"3\": 17, \"14\": 172, \"2\": 24, \"13\": 15, \"7\": 8, \"5\": 4}, \"11\": {\"11\": 240}}, \"C_2\": {\"21\": {\"21\": 120}, \"4\": {\"20\": 6, \"4\": 47, \"27\": 11, \"8\": 11, \"30\": 3, \"0\": 5, \"47\": 18, \"52\": 5, \"40\": 12, \"48\": 10, \"41\": 1, \"51\": 1}, \"6\": {\"6\": 123, \"45\": 1}, \"10\": {\"10\": 72, \"11\": 14, \"16\": 5, \"23\": 1, \"42\": 1, \"15\": 10, \"24\": 2, \"25\": 6, \"28\": 1}, \"33\": {\"56\": 1, \"33\": 9, \"32\": 4, \"14\": 3, \"2\": 4, \"17\": 2, \"13\": 3, \"38\": 1, \"0\": 1}, \"56\": {\"33\": 1, \"56\": 59, \"9\": 10, \"57\": 8, \"1\": 20, \"2\": 2, \"22\": 9, \"29\": 7, \"13\": 3, \"14\": 1, \"7\": 1, \"36\": 1}, \"20\": {\"8\": 6, \"20\": 110, \"47\": 1, \"52\": 8, \"30\": 5, \"27\": 2}, \"24\": {\"24\": 50, \"10\": 5, \"42\": 1, \"25\": 1, \"43\": 11, \"23\": 8, \"55\": 10, \"54\": 7, \"26\": 1, \"35\": 1, \"53\": 1}, \"45\": {\"45\": 123, \"6\": 4, \"3\": 1}, \"32\": {\"32\": 14, \"38\": 4, \"26\": 1, \"39\": 1, \"2\": 1, \"1\": 1, \"13\": 3, \"57\": 1, \"36\": 2}, \"27\": {\"4\": 8, \"27\": 69, \"36\": 1, \"46\": 1, \"47\": 6, \"48\": 6, \"40\": 1, \"8\": 27, \"30\": 5, \"20\": 12, \"51\": 3, \"21\": 2, \"52\": 3, \"41\": 2, \"57\": 1, \"0\": 1}, \"53\": {\"53\": 96, \"26\": 7, \"31\": 4, \"55\": 3, \"39\": 2, \"54\": 4, \"43\": 6, \"23\": 9, \"49\": 3, \"24\": 1, \"10\": 1}, \"8\": {\"8\": 125, \"4\": 3, \"41\": 1, \"47\": 1, \"20\": 12, \"27\": 6, \"52\": 5, \"30\": 4, \"48\": 2, \"40\": 1}, \"54\": {\"10\": 5, \"23\": 7, \"24\": 3, \"26\": 2, \"49\": 3, \"54\": 57, \"35\": 1, \"55\": 6, \"53\": 8, \"43\": 10, \"42\": 3, \"39\": 2, \"11\": 1}, \"50\": {\"50\": 133, \"12\": 1}, \"44\": {\"44\": 94, \"4\": 1, \"51\": 1, \"40\": 2, \"48\": 1, \"22\": 1}, \"5\": {\"5\": 114, \"46\": 6}, \"38\": {\"38\": 8, \"32\": 4, \"36\": 3, \"2\": 3, \"49\": 1, \"13\": 1}, \"19\": {\"19\": 127, \"11\": 1, \"25\": 1, \"34\": 1, \"16\": 2}, \"1\": {\"22\": 6, \"38\": 1, \"1\": 47, \"32\": 3, \"14\": 3, \"44\": 1, \"57\": 12, \"9\": 7, \"56\": 14, \"29\": 6, \"13\": 4, \"17\": 4, \"51\": 1, \"47\": 1, \"48\": 1, \"36\": 1}, \"30\": {\"30\": 137, \"52\": 4, \"20\": 3}, \"15\": {\"15\": 72, \"16\": 20, \"11\": 19, \"34\": 4, \"10\": 12, \"25\": 15, \"28\": 1, \"19\": 1}, \"23\": {\"23\": 69, \"54\": 8, \"43\": 24, \"49\": 4, \"53\": 23, \"42\": 1, \"55\": 3, \"39\": 1, \"24\": 9, \"11\": 3, \"15\": 1}, \"35\": {\"35\": 19, \"54\": 2, \"55\": 2, \"49\": 1, \"23\": 2, \"39\": 2, \"24\": 2, \"10\": 1, \"53\": 1}, \"22\": {\"22\": 77, \"33\": 1, \"48\": 3, \"2\": 1, \"1\": 8, \"9\": 16, \"44\": 2, \"56\": 7, \"51\": 1, \"57\": 10, \"40\": 1, \"47\": 1}, \"40\": {\"40\": 63, \"20\": 7, \"48\": 15, \"47\": 14, \"30\": 13, \"5\": 3, \"57\": 1, \"8\": 4, \"46\": 7, \"4\": 5, \"52\": 5, \"50\": 1, \"45\": 1, \"51\": 1}, \"46\": {\"46\": 74, \"5\": 20, \"12\": 9, \"50\": 19, \"3\": 1, \"6\": 3}, \"3\": {\"3\": 90, \"12\": 2}, \"48\": {\"48\": 58, \"51\": 3, \"27\": 5, \"20\": 3, \"40\": 26, \"8\": 8, \"47\": 10, \"57\": 3, \"0\": 5, \"4\": 13, \"30\": 4, \"52\": 6, \"41\": 1, \"21\": 1, \"13\": 1, \"46\": 1}, \"52\": {\"52\": 117, \"30\": 3, \"20\": 3, \"27\": 1}, \"2\": {\"17\": 2, \"1\": 1, \"2\": 6, \"9\": 5, \"33\": 3, \"32\": 1, \"57\": 4, \"13\": 3, \"56\": 2, \"7\": 1, \"38\": 1, \"29\": 1, \"36\": 2}, \"26\": {\"26\": 13, \"7\": 1, \"49\": 1, \"53\": 2, \"2\": 1, \"42\": 1, \"54\": 1, \"32\": 1, \"23\": 1, \"43\": 1, \"37\": 1}, \"17\": {\"2\": 4, \"17\": 72, \"37\": 3, \"33\": 3, \"38\": 1, \"29\": 2, \"7\": 4, \"54\": 1, \"13\": 8, \"56\": 2, \"36\": 1, \"53\": 2, \"1\": 1}, \"55\": {\"26\": 1, \"54\": 19, \"35\": 6, \"55\": 77, \"24\": 7, \"42\": 3, \"37\": 1, \"23\": 10, \"43\": 10, \"10\": 1, \"53\": 7, \"31\": 1, \"29\": 1}, \"51\": {\"51\": 81, \"57\": 2, \"40\": 3, \"48\": 6, \"27\": 9, \"13\": 2, \"36\": 6, \"47\": 4, \"4\": 5, \"9\": 2, \"8\": 2}, \"42\": {\"54\": 5, \"55\": 5, \"42\": 18, \"23\": 1, \"43\": 2, \"24\": 1, \"53\": 1, \"49\": 2, \"31\": 1}, \"41\": {\"41\": 12, \"3\": 1, \"48\": 2, \"13\": 1, \"9\": 1, \"4\": 2, \"21\": 1}, \"31\": {\"35\": 1, \"49\": 1, \"31\": 20, \"24\": 1, \"17\": 1, \"37\": 1, \"54\": 1, \"23\": 1, \"55\": 1}, \"16\": {\"25\": 13, \"15\": 14, \"16\": 80, \"28\": 4, \"11\": 17, \"10\": 9, \"24\": 1}, \"36\": {\"36\": 92, \"53\": 1, \"57\": 2, \"33\": 3, \"38\": 2, \"13\": 7, \"51\": 3, \"37\": 1, \"47\": 1, \"9\": 2, \"17\": 1, \"22\": 1}, \"49\": {\"15\": 1, \"49\": 4, \"7\": 1, \"42\": 2, \"2\": 2, \"53\": 1, \"54\": 1, \"43\": 2, \"23\": 4, \"26\": 1, \"35\": 1, \"39\": 2, \"33\": 1, \"24\": 1}, \"0\": {\"0\": 19, \"3\": 1, \"40\": 2, \"4\": 2, \"46\": 4, \"48\": 8, \"8\": 3, \"47\": 3, \"20\": 4, \"30\": 1, \"51\": 1}, \"18\": {\"25\": 4, \"18\": 43, \"19\": 1}, \"25\": {\"15\": 22, \"25\": 72, \"18\": 5, \"34\": 2, \"11\": 12, \"49\": 1, \"10\": 3, \"42\": 1, \"28\": 4, \"16\": 14, \"54\": 1, \"19\": 4, \"43\": 3, \"24\": 1, \"23\": 1}, \"9\": {\"36\": 7, \"9\": 76, \"1\": 7, \"57\": 18, \"40\": 1, \"56\": 2, \"22\": 4, \"2\": 3, \"41\": 2, \"29\": 1, \"51\": 1}, \"47\": {\"0\": 3, \"47\": 48, \"21\": 2, \"40\": 18, \"5\": 1, \"20\": 9, \"48\": 12, \"8\": 8, \"30\": 6, \"27\": 7, \"51\": 3, \"4\": 12, \"52\": 3}, \"7\": {\"7\": 23, \"13\": 1, \"17\": 4, \"33\": 1, \"53\": 2, \"31\": 1, \"32\": 1, \"37\": 1, \"38\": 1, \"29\": 1}, \"37\": {\"7\": 8, \"37\": 22, \"26\": 2, \"13\": 2, \"4\": 1, \"39\": 1}, \"13\": {\"37\": 1, \"7\": 4, \"32\": 2, \"13\": 51, \"17\": 10, \"33\": 2, \"1\": 3, \"9\": 5, \"2\": 4, \"51\": 4, \"57\": 12, \"56\": 1, \"29\": 4, \"36\": 9, \"22\": 1, \"38\": 2, \"0\": 1}, \"14\": {\"26\": 2, \"39\": 1, \"14\": 7, \"1\": 2, \"33\": 2, \"55\": 3, \"9\": 1, \"13\": 1, \"37\": 1, \"35\": 2, \"29\": 2}, \"34\": {\"25\": 2, \"34\": 15, \"15\": 3, \"11\": 2, \"24\": 2, \"43\": 1, \"16\": 1, \"53\": 1, \"42\": 1}, \"57\": {\"57\": 95, \"1\": 1, \"4\": 3, \"36\": 6, \"2\": 1, \"9\": 16, \"22\": 4, \"13\": 6, \"47\": 1, \"56\": 1, \"51\": 4, \"38\": 1, \"48\": 1}, \"11\": {\"34\": 3, \"11\": 71, \"15\": 16, \"28\": 2, \"25\": 8, \"16\": 20, \"10\": 17, \"18\": 1}, \"39\": {\"39\": 16, \"26\": 1, \"32\": 1, \"2\": 1, \"35\": 2, \"53\": 1, \"55\": 1, \"54\": 1, \"13\": 1, \"24\": 1, \"23\": 2}, \"12\": {\"12\": 91, \"3\": 1}, \"28\": {\"34\": 1, \"28\": 20, \"11\": 1, \"25\": 2, \"18\": 1, \"15\": 3}, \"29\": {\"1\": 12, \"29\": 95, \"14\": 2, \"17\": 3, \"56\": 8, \"7\": 2, \"35\": 1, \"37\": 1, \"22\": 1, \"9\": 1, \"13\": 2}, \"43\": {\"43\": 84, \"35\": 1, \"55\": 3, \"23\": 21, \"54\": 12, \"53\": 4, \"16\": 1, \"24\": 8, \"19\": 1, \"10\": 1, \"39\": 1, \"49\": 2, \"11\": 1}}, \"C_5\": {\"12\": {\"12\": 96}, \"8\": {\"1\": 16, \"8\": 73, \"20\": 24, \"47\": 2, \"4\": 1, \"48\": 8, \"13\": 2, \"9\": 2, \"52\": 8, \"27\": 1, \"56\": 1, \"30\": 1, \"57\": 2, \"5\": 1}, \"29\": {\"29\": 105, \"35\": 1, \"2\": 3, \"55\": 10, \"36\": 4, \"32\": 1, \"23\": 3, \"43\": 2, \"39\": 1, \"22\": 1, \"17\": 1}, \"57\": {\"57\": 56, \"0\": 8, \"47\": 11, \"27\": 4, \"40\": 5, \"48\": 9, \"1\": 2, \"56\": 10, \"20\": 6, \"9\": 1, \"8\": 5, \"5\": 4, \"3\": 1, \"13\": 2, \"52\": 1, \"21\": 1}, \"38\": {\"1\": 1, \"57\": 2, \"38\": 12, \"13\": 2, \"37\": 2, \"8\": 2, \"39\": 2, \"56\": 2, \"47\": 1, \"17\": 1, \"41\": 1, \"22\": 1, \"43\": 1, \"27\": 1, \"51\": 1}, \"23\": {\"55\": 18, \"23\": 66, \"26\": 1, \"53\": 20, \"42\": 2, \"54\": 5, \"43\": 3, \"36\": 1, \"2\": 2, \"33\": 1, \"24\": 2, \"17\": 2, \"25\": 1}, \"56\": {\"48\": 7, \"57\": 11, \"56\": 85, \"14\": 2, \"13\": 3, \"40\": 8, \"9\": 2, \"8\": 4, \"0\": 7, \"27\": 4, \"52\": 1, \"51\": 1, \"47\": 1, \"5\": 2}, \"49\": {\"49\": 20, \"42\": 1, \"54\": 9, \"24\": 2, \"53\": 2, \"33\": 1, \"36\": 1}, \"4\": {\"4\": 98, \"3\": 2}, \"48\": {\"8\": 7, \"48\": 48, \"30\": 1, \"7\": 2, \"20\": 4, \"52\": 7, \"47\": 3, \"56\": 10, \"9\": 3, \"4\": 1, \"51\": 1, \"57\": 19, \"13\": 3, \"40\": 5, \"5\": 1, \"1\": 6, \"0\": 9, \"21\": 3, \"14\": 2, \"46\": 1}, \"21\": {\"21\": 139, \"30\": 1, \"52\": 4}, \"30\": {\"30\": 126, \"46\": 2}, \"1\": {\"1\": 85, \"21\": 10, \"4\": 3, \"9\": 10, \"52\": 14, \"5\": 3, \"46\": 5, \"20\": 10, \"30\": 1, \"0\": 2, \"47\": 4, \"8\": 1}, \"34\": {\"34\": 25, \"35\": 1, \"31\": 4, \"54\": 1, \"19\": 2, \"10\": 2, \"24\": 1}, \"35\": {\"49\": 4, \"23\": 1, \"36\": 2, \"25\": 1, \"35\": 15, \"42\": 1, \"54\": 5, \"24\": 2, \"53\": 1, \"26\": 2, \"19\": 1, \"31\": 1}, \"55\": {\"55\": 93, \"2\": 2, \"24\": 4, \"23\": 16, \"53\": 16, \"36\": 2, \"17\": 8, \"54\": 3, \"43\": 5, \"35\": 1, \"33\": 1, \"42\": 1}, \"5\": {\"5\": 57, \"4\": 13, \"47\": 4, \"9\": 3, \"30\": 2, \"45\": 4, \"46\": 9, \"48\": 4, \"0\": 15, \"3\": 5, \"57\": 2, \"40\": 1, \"6\": 2, \"1\": 1}, \"52\": {\"52\": 115, \"8\": 1, \"20\": 9, \"21\": 1}, \"6\": {\"6\": 100, \"50\": 27, \"45\": 1}, \"36\": {\"36\": 60, \"35\": 2, \"54\": 8, \"42\": 1, \"23\": 6, \"24\": 4, \"53\": 2, \"49\": 1, \"55\": 2, \"29\": 1, \"33\": 5}, \"41\": {\"41\": 6, \"47\": 2, \"37\": 2, \"39\": 3, \"38\": 2, \"51\": 1, \"32\": 2, \"14\": 2, \"46\": 1, \"27\": 1, \"43\": 3, \"17\": 1, \"57\": 1, \"7\": 1}, \"3\": {\"3\": 96, \"46\": 1, \"4\": 2, \"30\": 1}, \"28\": {\"28\": 28, \"19\": 1, \"11\": 2, \"16\": 1}, \"18\": {\"18\": 59, \"16\": 1, \"28\": 1, \"19\": 1, \"11\": 2}, \"25\": {\"25\": 68, \"18\": 2, \"15\": 17, \"16\": 12, \"24\": 1, \"54\": 3, \"11\": 23, \"19\": 6, \"10\": 3, \"53\": 1}, \"47\": {\"47\": 38, \"48\": 5, \"1\": 8, \"56\": 10, \"52\": 2, \"57\": 8, \"0\": 10, \"9\": 4, \"27\": 2, \"4\": 1, \"5\": 2, \"20\": 2, \"8\": 1, \"14\": 1, \"40\": 5, \"30\": 1}, \"13\": {\"13\": 52, \"47\": 5, \"38\": 3, \"8\": 6, \"39\": 1, \"56\": 11, \"14\": 5, \"32\": 1, \"17\": 4, \"20\": 3, \"27\": 21, \"55\": 1, \"1\": 1, \"9\": 1, \"57\": 3, \"51\": 15, \"44\": 1, \"48\": 8, \"40\": 4, \"43\": 9, \"46\": 1, \"52\": 1, \"41\": 2, \"7\": 1}, \"11\": {\"11\": 83, \"15\": 21, \"19\": 5, \"25\": 18, \"16\": 10, \"28\": 3, \"18\": 4}, \"53\": {\"53\": 98, \"33\": 1, \"26\": 1, \"23\": 14, \"42\": 4, \"51\": 1, \"55\": 14, \"27\": 1, \"54\": 4, \"36\": 1, \"35\": 1, \"48\": 1, \"32\": 1, \"10\": 1, \"40\": 1}, \"33\": {\"33\": 13, \"23\": 1, \"42\": 1, \"36\": 5, \"53\": 1, \"26\": 1, \"55\": 3, \"49\": 3, \"17\": 1, \"35\": 3}, \"46\": {\"46\": 114, \"9\": 18, \"4\": 6, \"30\": 9, \"20\": 1}, \"50\": {\"6\": 15, \"50\": 131, \"45\": 2}, \"10\": {\"15\": 3, \"10\": 50, \"19\": 1, \"31\": 1, \"16\": 5, \"11\": 1, \"54\": 1, \"25\": 1, \"24\": 4, \"18\": 1}, \"15\": {\"11\": 12, \"15\": 84, \"10\": 2, \"18\": 2, \"16\": 27, \"25\": 9, \"19\": 1, \"28\": 1}, \"44\": {\"44\": 119, \"13\": 2, \"5\": 1, \"40\": 9, \"56\": 3, \"27\": 2, \"48\": 1, \"57\": 3}, \"2\": {\"33\": 1, \"2\": 16, \"55\": 3, \"17\": 4, \"32\": 2, \"49\": 1, \"24\": 1}, \"7\": {\"8\": 7, \"0\": 1, \"1\": 3, \"48\": 2, \"7\": 14, \"47\": 1, \"20\": 1, \"57\": 1, \"46\": 1, \"13\": 1}, \"43\": {\"39\": 4, \"43\": 107, \"17\": 17, \"37\": 3, \"55\": 3, \"13\": 1, \"27\": 1, \"42\": 1, \"32\": 1}, \"32\": {\"43\": 1, \"32\": 24, \"17\": 1, \"2\": 1, \"14\": 3, \"41\": 1, \"53\": 1}, \"0\": {\"0\": 44, \"57\": 10, \"9\": 9, \"1\": 11, \"4\": 2, \"47\": 6, \"48\": 9, \"20\": 1, \"46\": 6, \"5\": 6, \"40\": 6, \"27\": 1, \"56\": 5, \"30\": 6, \"6\": 1, \"52\": 1}, \"39\": {\"27\": 2, \"39\": 10, \"14\": 4, \"38\": 1, \"41\": 1, \"43\": 1, \"51\": 1}, \"26\": {\"32\": 2, \"17\": 3, \"53\": 2, \"23\": 1, \"26\": 10, \"42\": 1, \"38\": 1, \"43\": 2, \"24\": 1, \"2\": 1}, \"27\": {\"57\": 4, \"27\": 68, \"48\": 2, \"56\": 8, \"13\": 17, \"51\": 3, \"40\": 5, \"47\": 2, \"38\": 1, \"43\": 1, \"8\": 1}, \"54\": {\"54\": 68, \"35\": 2, \"33\": 2, \"31\": 3, \"36\": 8, \"42\": 1, \"55\": 4, \"24\": 6, \"49\": 8, \"16\": 2, \"19\": 1, \"10\": 1, \"11\": 1, \"53\": 3, \"25\": 1, \"23\": 1}, \"17\": {\"43\": 24, \"17\": 80, \"38\": 1, \"32\": 1, \"14\": 1, \"55\": 3, \"51\": 2, \"13\": 1, \"27\": 2, \"53\": 1}, \"14\": {\"17\": 1, \"14\": 9, \"2\": 3, \"43\": 1, \"7\": 4, \"26\": 1, \"56\": 3, \"32\": 4, \"47\": 1, \"41\": 2, \"13\": 3, \"27\": 3, \"8\": 1, \"51\": 1, \"1\": 1, \"22\": 1, \"29\": 1, \"48\": 1, \"37\": 1, \"55\": 1, \"57\": 1}, \"16\": {\"16\": 95, \"11\": 18, \"15\": 16, \"10\": 4, \"18\": 2, \"19\": 2, \"25\": 9, \"28\": 1, \"54\": 1}, \"9\": {\"9\": 99, \"46\": 17, \"4\": 5, \"52\": 5, \"0\": 3, \"30\": 6, \"3\": 1, \"48\": 3, \"1\": 4, \"57\": 1, \"21\": 3, \"47\": 1}, \"19\": {\"19\": 118, \"15\": 8, \"11\": 5, \"31\": 3, \"10\": 2, \"25\": 5, \"16\": 9, \"34\": 1, \"18\": 1}, \"20\": {\"20\": 121, \"52\": 11, \"21\": 3, \"8\": 2, \"9\": 1}, \"37\": {\"13\": 1, \"2\": 1, \"37\": 10, \"43\": 2, \"8\": 1, \"14\": 3, \"56\": 1, \"39\": 1, \"17\": 3, \"53\": 1}, \"24\": {\"24\": 47, \"54\": 10, \"42\": 3, \"31\": 1, \"53\": 2, \"35\": 2, \"49\": 2, \"36\": 2, \"55\": 2, \"15\": 3, \"26\": 1, \"10\": 2, \"33\": 1, \"23\": 1, \"16\": 1}, \"40\": {\"40\": 72, \"0\": 8, \"8\": 3, \"56\": 10, \"48\": 4, \"57\": 10, \"9\": 2, \"44\": 4, \"7\": 1, \"13\": 3, \"27\": 4, \"47\": 1}, \"45\": {\"45\": 120, \"6\": 3, \"50\": 1}, \"22\": {\"13\": 1, \"22\": 24, \"29\": 1, \"40\": 1, \"41\": 1}, \"42\": {\"42\": 25, \"10\": 1, \"15\": 2, \"49\": 1, \"26\": 2, \"53\": 3, \"54\": 1, \"11\": 1, \"31\": 1, \"24\": 2, \"33\": 1}, \"51\": {\"13\": 16, \"8\": 4, \"51\": 66, \"27\": 10, \"48\": 5, \"14\": 1, \"40\": 2, \"43\": 4, \"17\": 3, \"38\": 3, \"57\": 1, \"56\": 1, \"47\": 2}, \"31\": {\"31\": 30, \"54\": 1, \"11\": 1, \"24\": 1, \"10\": 2, \"15\": 1}}, \"C_1\": {\"27\": {\"27\": 89, \"33\": 2, \"49\": 1, \"32\": 1, \"29\": 23, \"1\": 9, \"47\": 13, \"55\": 2, \"38\": 1, \"44\": 1}, \"2\": {\"2\": 15, \"8\": 2, \"30\": 6, \"57\": 2, \"48\": 4, \"21\": 2, \"13\": 3, \"52\": 2}, \"33\": {\"38\": 2, \"33\": 21, \"49\": 2, \"55\": 1, \"37\": 2, \"17\": 2, \"41\": 1, \"51\": 1}, \"45\": {\"45\": 150, \"6\": 6}, \"38\": {\"38\": 9, \"55\": 2, \"7\": 2, \"49\": 2, \"33\": 1, \"1\": 1, \"32\": 1, \"57\": 1, \"36\": 1, \"39\": 2, \"17\": 1, \"37\": 1}, \"4\": {\"4\": 110, \"0\": 8, \"22\": 2, \"20\": 1, \"8\": 1, \"56\": 8, \"14\": 1, \"13\": 1}, \"31\": {\"38\": 1, \"33\": 2, \"31\": 17, \"55\": 1, \"17\": 1, \"7\": 1, \"32\": 3, \"49\": 1, \"24\": 1}, \"55\": {\"32\": 2, \"55\": 108, \"38\": 3, \"24\": 2, \"31\": 4, \"33\": 1, \"39\": 3, \"1\": 5, \"7\": 1, \"42\": 1, \"17\": 2, \"23\": 2, \"27\": 1, \"53\": 1, \"29\": 2, \"19\": 1, \"47\": 1}, \"32\": {\"31\": 4, \"55\": 2, \"32\": 15, \"7\": 3, \"37\": 1, \"42\": 1, \"49\": 2, \"17\": 4}, \"57\": {\"57\": 104, \"2\": 3, \"40\": 14, \"21\": 2, \"8\": 4, \"30\": 3, \"51\": 5, \"48\": 2, \"9\": 3}, \"14\": {\"14\": 17, \"30\": 1, \"52\": 3, \"4\": 2, \"8\": 1}, \"16\": {\"16\": 81, \"34\": 2, \"15\": 10, \"24\": 2, \"10\": 10, \"11\": 3, \"54\": 1, \"25\": 26, \"19\": 4, \"23\": 1}, \"34\": {\"34\": 16, \"15\": 4, \"28\": 1, \"54\": 2, \"10\": 1}, \"56\": {\"56\": 126}, \"24\": {\"24\": 68, \"26\": 4, \"23\": 20, \"10\": 1, \"39\": 1, \"42\": 2, \"28\": 1, \"53\": 8, \"54\": 1, \"19\": 1, \"55\": 1}, \"30\": {\"30\": 91, \"13\": 9, \"52\": 4, \"12\": 2, \"57\": 1, \"22\": 1, \"0\": 1, \"21\": 2, \"3\": 1}, \"17\": {\"17\": 44, \"33\": 3, \"9\": 1, \"49\": 6, \"37\": 3, \"55\": 3, \"1\": 1, \"31\": 1, \"41\": 1, \"38\": 1}, \"13\": {\"13\": 108, \"14\": 1, \"52\": 20, \"22\": 4, \"30\": 5}, \"39\": {\"55\": 2, \"39\": 17, \"37\": 1, \"49\": 1, \"24\": 2, \"23\": 1, \"17\": 1, \"53\": 2, \"38\": 1}, \"50\": {\"50\": 146}, \"20\": {\"20\": 120, \"3\": 18, \"0\": 1, \"30\": 1}, \"41\": {\"41\": 17, \"9\": 1, \"37\": 1, \"17\": 1, \"33\": 1, \"51\": 2, \"48\": 1}, \"53\": {\"53\": 91, \"24\": 11, \"26\": 2, \"10\": 1, \"23\": 16, \"16\": 1, \"55\": 3, \"33\": 1}, \"48\": {\"8\": 19, \"48\": 88, \"30\": 6, \"36\": 2, \"13\": 7, \"40\": 2, \"21\": 12, \"51\": 1, \"52\": 2, \"22\": 2, \"9\": 1}, \"36\": {\"36\": 37, \"2\": 7, \"22\": 1, \"48\": 3, \"40\": 4, \"8\": 6, \"30\": 2, \"9\": 4}, \"8\": {\"8\": 67, \"36\": 4, \"14\": 4, \"22\": 4, \"21\": 11, \"12\": 1, \"48\": 23, \"30\": 8, \"52\": 8, \"9\": 4, \"51\": 1, \"13\": 4, \"57\": 1}, \"15\": {\"15\": 82, \"25\": 11, \"16\": 9, \"54\": 2, \"11\": 11, \"10\": 3, \"19\": 12, \"18\": 2}, \"40\": {\"2\": 2, \"40\": 87, \"44\": 11, \"14\": 1, \"8\": 5, \"4\": 8, \"21\": 2, \"57\": 26, \"30\": 1, \"51\": 1, \"13\": 1, \"22\": 4, \"48\": 1, \"0\": 1, \"36\": 2, \"9\": 2, \"45\": 1}, \"37\": {\"37\": 18, \"57\": 1, \"31\": 2, \"9\": 1, \"41\": 2, \"17\": 1, \"51\": 2, \"21\": 2, \"36\": 1, \"48\": 1, \"33\": 1}, \"21\": {\"8\": 6, \"21\": 85, \"22\": 2, \"20\": 1, \"30\": 7, \"13\": 4, \"48\": 6, \"52\": 8, \"40\": 1}, \"35\": {\"35\": 35, \"11\": 1}, \"49\": {\"33\": 2, \"49\": 21, \"17\": 6, \"1\": 1, \"7\": 2}, \"26\": {\"39\": 1, \"24\": 1, \"23\": 3, \"25\": 1, \"53\": 2, \"26\": 13, \"28\": 1, \"16\": 1, \"42\": 1}, \"28\": {\"28\": 24, \"15\": 1, \"23\": 2, \"19\": 1}, \"12\": {\"12\": 113, \"20\": 2, \"52\": 1}, \"5\": {\"5\": 152}, \"29\": {\"47\": 22, \"29\": 88, \"7\": 2, \"51\": 2, \"17\": 1, \"1\": 8, \"27\": 14, \"55\": 2, \"38\": 1}, \"47\": {\"47\": 94, \"29\": 23, \"7\": 1, \"40\": 1, \"27\": 10, \"55\": 2, \"51\": 1, \"1\": 8}, \"10\": {\"10\": 58, \"34\": 2, \"25\": 8, \"16\": 10, \"19\": 4, \"15\": 7, \"54\": 2, \"11\": 3, \"28\": 2}, \"18\": {\"18\": 66, \"15\": 3, \"46\": 1, \"11\": 2}, \"9\": {\"9\": 76, \"8\": 11, \"48\": 8, \"36\": 4, \"57\": 4, \"51\": 10, \"40\": 6, \"21\": 3, \"30\": 4}, \"3\": {\"3\": 129, \"20\": 5, \"50\": 4, \"6\": 2}, \"52\": {\"52\": 107, \"22\": 12, \"30\": 2, \"13\": 7, \"14\": 3, \"21\": 1}, \"25\": {\"34\": 1, \"25\": 80, \"10\": 11, \"28\": 2, \"54\": 1, \"11\": 7, \"16\": 25, \"15\": 7, \"19\": 2}, \"19\": {\"25\": 5, \"19\": 108, \"10\": 8, \"54\": 13, \"11\": 9, \"15\": 10, \"23\": 1, \"34\": 1, \"16\": 1}, \"11\": {\"11\": 100, \"25\": 7, \"16\": 1, \"19\": 4, \"15\": 19, \"18\": 1, \"10\": 4}, \"7\": {\"7\": 19, \"38\": 1, \"55\": 1, \"47\": 1, \"33\": 1, \"49\": 2, \"32\": 2, \"17\": 1}, \"23\": {\"23\": 101, \"53\": 13, \"24\": 14, \"42\": 2, \"26\": 1, \"28\": 1, \"10\": 1, \"16\": 2, \"25\": 1}, \"44\": {\"44\": 100, \"57\": 3, \"8\": 3, \"22\": 1, \"30\": 1, \"40\": 16, \"0\": 2, \"56\": 3, \"4\": 2, \"45\": 1}, \"42\": {\"42\": 25, \"34\": 1, \"39\": 6, \"23\": 4, \"31\": 1, \"26\": 1, \"47\": 1, \"53\": 1}, \"54\": {\"54\": 76, \"19\": 11, \"24\": 2, \"43\": 5, \"23\": 2, \"15\": 2, \"10\": 3, \"42\": 1, \"16\": 1, \"11\": 1}, \"1\": {\"1\": 58, \"32\": 2, \"38\": 1, \"29\": 8, \"42\": 2, \"55\": 4, \"27\": 8, \"47\": 14, \"49\": 2, \"7\": 1}, \"46\": {\"46\": 121, \"50\": 6, \"6\": 1}, \"6\": {\"6\": 89, \"50\": 3, \"45\": 4}, \"43\": {\"43\": 129, \"26\": 2, \"54\": 8, \"24\": 3, \"23\": 2}, \"51\": {\"37\": 2, \"51\": 114, \"33\": 2, \"21\": 1, \"57\": 4, \"9\": 10, \"36\": 2, \"52\": 1, \"55\": 1, \"17\": 1, \"47\": 1, \"40\": 1, \"29\": 1, \"48\": 1}, \"22\": {\"22\": 98, \"30\": 1, \"12\": 8, \"13\": 8, \"0\": 3, \"52\": 16, \"21\": 2}, \"0\": {\"0\": 127, \"13\": 1}}, \"C_4\": {\"32\": {\"38\": 2, \"55\": 2, \"32\": 9, \"35\": 1, \"31\": 3, \"24\": 2, \"42\": 2, \"54\": 2, \"15\": 1}, \"2\": {\"2\": 17, \"36\": 1, \"29\": 5, \"49\": 1, \"53\": 1, \"7\": 3, \"13\": 1, \"39\": 1, \"37\": 2, \"17\": 2, \"14\": 2}, \"41\": {\"41\": 21, \"53\": 1, \"37\": 3, \"7\": 3, \"14\": 2, \"44\": 1, \"49\": 3, \"17\": 1, \"36\": 1}, \"11\": {\"11\": 60, \"55\": 1, \"28\": 1, \"34\": 2, \"32\": 1, \"25\": 8, \"16\": 10, \"15\": 8, \"10\": 4, \"18\": 3, \"19\": 3, \"53\": 1}, \"57\": {\"57\": 67, \"13\": 14, \"27\": 1, \"1\": 4, \"36\": 4, \"56\": 2, \"17\": 1, \"29\": 2, \"39\": 1, \"2\": 1, \"37\": 1, \"4\": 1, \"51\": 1}, \"6\": {\"6\": 104, \"50\": 4, \"3\": 4}, \"23\": {\"23\": 61, \"11\": 1, \"43\": 24, \"24\": 6, \"7\": 1, \"54\": 4, \"41\": 1, \"31\": 1, \"32\": 1, \"42\": 4, \"55\": 6, \"53\": 18, \"33\": 3, \"35\": 1, \"17\": 1, \"10\": 3}, \"52\": {\"20\": 15, \"52\": 94, \"21\": 5, \"22\": 1, \"9\": 1}, \"38\": {\"38\": 36, \"53\": 1, \"55\": 1, \"35\": 1, \"15\": 1}, \"50\": {\"50\": 123, \"3\": 7, \"6\": 2}, \"55\": {\"32\": 4, \"55\": 87, \"43\": 23, \"53\": 3, \"38\": 1, \"54\": 17, \"23\": 6, \"33\": 4, \"42\": 1, \"35\": 3, \"31\": 1, \"49\": 1, \"10\": 1}, \"46\": {\"46\": 111, \"22\": 22, \"4\": 2, \"0\": 4, \"47\": 1, \"40\": 1, \"12\": 3, \"20\": 1, \"21\": 5, \"45\": 2, \"8\": 1, \"44\": 1}, \"37\": {\"20\": 2, \"37\": 9, \"8\": 2, \"57\": 2, \"27\": 2, \"13\": 2, \"36\": 1, \"39\": 1, \"7\": 2, \"4\": 1}, \"20\": {\"46\": 2, \"20\": 107, \"21\": 1, \"52\": 8}, \"49\": {\"41\": 3, \"37\": 2, \"43\": 2, \"13\": 2, \"49\": 3, \"29\": 1, \"54\": 1, \"57\": 2, \"39\": 1, \"36\": 1, \"55\": 1, \"17\": 1}, \"45\": {\"45\": 93, \"5\": 1, \"3\": 1, \"6\": 1}, \"54\": {\"43\": 11, \"55\": 15, \"24\": 1, \"54\": 60, \"23\": 4, \"41\": 1, \"53\": 4, \"16\": 2, \"15\": 2, \"31\": 1, \"10\": 3, \"42\": 2, \"33\": 1, \"35\": 1}, \"3\": {\"3\": 103, \"50\": 13, \"6\": 4, \"5\": 4}, \"13\": {\"13\": 89, \"36\": 6, \"57\": 15, \"27\": 5, \"4\": 7, \"1\": 1, \"2\": 2, \"56\": 3, \"29\": 4, \"44\": 4, \"51\": 7, \"9\": 1, \"37\": 4, \"41\": 1, \"17\": 2, \"47\": 1}, \"18\": {\"18\": 101, \"25\": 4, \"16\": 1, \"11\": 1, \"19\": 1}, \"21\": {\"21\": 126}, \"43\": {\"43\": 80, \"23\": 14, \"33\": 2, \"24\": 2, \"55\": 16, \"53\": 14, \"54\": 13, \"32\": 1, \"17\": 1, \"10\": 1}, \"47\": {\"4\": 8, \"47\": 47, \"44\": 8, \"0\": 2, \"40\": 14, \"9\": 12, \"27\": 2, \"46\": 1, \"21\": 2, \"13\": 2, \"52\": 3, \"8\": 5, \"48\": 8, \"22\": 1, \"20\": 3, \"51\": 2}, \"4\": {\"47\": 15, \"4\": 41, \"8\": 9, \"52\": 2, \"56\": 2, \"27\": 5, \"51\": 7, \"48\": 20, \"13\": 2, \"40\": 10, \"9\": 9, \"21\": 2, \"44\": 6, \"20\": 2}, \"12\": {\"12\": 92}, \"9\": {\"20\": 10, \"8\": 14, \"52\": 15, \"9\": 27, \"22\": 2, \"51\": 2, \"48\": 10, \"13\": 2, \"27\": 4, \"12\": 2, \"5\": 1, \"47\": 5, \"0\": 4, \"21\": 3, \"40\": 14, \"4\": 9, \"46\": 2, \"30\": 1, \"44\": 1}, \"7\": {\"7\": 9, \"56\": 1, \"17\": 2, \"49\": 1, \"2\": 2, \"39\": 3, \"13\": 1, \"53\": 1, \"37\": 2, \"33\": 1, \"36\": 1}, \"56\": {\"56\": 84, \"44\": 3, \"57\": 6, \"13\": 7, \"20\": 1, \"4\": 1, \"27\": 3, \"47\": 1, \"51\": 3, \"29\": 1, \"40\": 1, \"48\": 1}, \"28\": {\"11\": 2, \"28\": 17, \"10\": 1, \"34\": 3, \"16\": 4, \"25\": 2, \"15\": 3}, \"44\": {\"44\": 90, \"0\": 4, \"4\": 10, \"47\": 6, \"5\": 2, \"9\": 4, \"40\": 6, \"48\": 4, \"51\": 1, \"39\": 1, \"20\": 1, \"46\": 1, \"56\": 2}, \"24\": {\"54\": 2, \"24\": 26, \"43\": 6, \"55\": 6, \"53\": 5, \"32\": 1, \"33\": 1, \"23\": 5, \"31\": 1, \"42\": 1, \"26\": 1, \"13\": 1}, \"33\": {\"33\": 26, \"43\": 2, \"31\": 1, \"55\": 4, \"2\": 1, \"7\": 1, \"24\": 1}, \"35\": {\"35\": 15, \"19\": 3, \"53\": 1, \"16\": 2, \"42\": 1, \"54\": 2, \"33\": 2, \"18\": 1, \"28\": 3, \"26\": 1, \"55\": 4, \"11\": 2, \"32\": 1, \"24\": 1, \"25\": 1}, \"51\": {\"51\": 77, \"27\": 20, \"4\": 6, \"9\": 5, \"8\": 2, \"56\": 6, \"47\": 4, \"13\": 10, \"36\": 1, \"48\": 3, \"44\": 3, \"5\": 1}, \"39\": {\"36\": 3, \"39\": 7, \"57\": 3, \"4\": 1, \"7\": 1, \"37\": 2, \"56\": 1, \"47\": 2}, \"36\": {\"36\": 65, \"37\": 2, \"13\": 10, \"43\": 1, \"57\": 7, \"51\": 2, \"27\": 1, \"47\": 1, \"17\": 3}, \"19\": {\"19\": 124, \"16\": 1, \"18\": 2, \"34\": 1, \"25\": 7, \"15\": 1, \"28\": 1, \"11\": 3}, \"0\": {\"0\": 45, \"4\": 2, \"52\": 3, \"20\": 3, \"21\": 2, \"27\": 1, \"9\": 2, \"8\": 1, \"45\": 2, \"46\": 10, \"47\": 3, \"40\": 1, \"22\": 2, \"48\": 3}, \"15\": {\"15\": 89, \"16\": 6, \"25\": 9, \"10\": 18, \"11\": 6, \"34\": 2, \"32\": 1, \"28\": 3, \"19\": 1, \"43\": 1}, \"29\": {\"29\": 95, \"2\": 9, \"1\": 2, \"14\": 1, \"41\": 1, \"17\": 6, \"57\": 8, \"13\": 2}, \"30\": {\"30\": 43, \"12\": 1}, \"1\": {\"39\": 2, \"1\": 27, \"29\": 2, \"56\": 4, \"13\": 1, \"2\": 3, \"57\": 1}, \"22\": {\"22\": 117, \"46\": 11}, \"40\": {\"40\": 50, \"46\": 12, \"4\": 7, \"9\": 13, \"48\": 12, \"47\": 12, \"30\": 2, \"52\": 1, \"0\": 6, \"3\": 1, \"5\": 2, \"45\": 2, \"44\": 8, \"21\": 3, \"27\": 3, \"22\": 3, \"56\": 1, \"8\": 1, \"12\": 2, \"20\": 5}, \"8\": {\"8\": 108, \"20\": 9, \"9\": 5, \"0\": 2, \"52\": 4}, \"53\": {\"53\": 69, \"41\": 1, \"42\": 6, \"24\": 5, \"15\": 2, \"55\": 7, \"54\": 9, \"32\": 1, \"33\": 1, \"23\": 18, \"43\": 16, \"10\": 2, \"26\": 1}, \"34\": {\"15\": 2, \"28\": 3, \"34\": 11, \"53\": 1, \"11\": 4, \"18\": 1, \"16\": 1, \"32\": 1}, \"10\": {\"10\": 87, \"28\": 1, \"26\": 3, \"32\": 2, \"15\": 15, \"16\": 5, \"43\": 1, \"53\": 1, \"19\": 1, \"35\": 1, \"18\": 1, \"25\": 3, \"11\": 1}, \"31\": {\"31\": 15, \"42\": 3, \"15\": 2, \"7\": 1, \"26\": 3, \"38\": 1, \"23\": 1, \"39\": 1, \"32\": 1}, \"17\": {\"7\": 2, \"17\": 64, \"13\": 3, \"29\": 3, \"36\": 2, \"2\": 2, \"41\": 1, \"43\": 1, \"57\": 1, \"4\": 1}, \"16\": {\"11\": 10, \"16\": 51, \"28\": 2, \"25\": 9, \"35\": 2, \"15\": 9, \"10\": 7, \"18\": 2, \"34\": 4}, \"42\": {\"42\": 14, \"53\": 5, \"31\": 2, \"26\": 1, \"43\": 1, \"23\": 2, \"10\": 1, \"33\": 2, \"55\": 1, \"24\": 3}, \"27\": {\"27\": 64, \"4\": 10, \"47\": 14, \"39\": 2, \"51\": 12, \"37\": 1, \"48\": 9, \"52\": 1, \"9\": 3, \"8\": 10, \"44\": 5, \"40\": 5, \"13\": 2, \"56\": 1, \"0\": 3}, \"14\": {\"14\": 10, \"53\": 1, \"29\": 2, \"49\": 1, \"2\": 1, \"57\": 1}, \"25\": {\"25\": 56, \"19\": 9, \"15\": 12, \"10\": 7, \"11\": 15, \"16\": 9, \"42\": 1, \"18\": 4, \"43\": 2, \"54\": 2, \"23\": 3, \"38\": 1, \"55\": 1}, \"48\": {\"44\": 5, \"48\": 41, \"27\": 5, \"52\": 7, \"4\": 7, \"21\": 3, \"47\": 10, \"20\": 9, \"12\": 1, \"9\": 8, \"40\": 13, \"46\": 4, \"8\": 16, \"0\": 2, \"5\": 1}, \"26\": {\"26\": 12, \"23\": 1, \"31\": 4, \"53\": 1, \"10\": 5, \"15\": 1}, \"5\": {\"5\": 92, \"3\": 10, \"50\": 5, \"45\": 1}}, \"C_3\": {\"14\": {\"1\": 1, \"9\": 2, \"14\": 24, \"24\": 1, \"42\": 1, \"55\": 1, \"49\": 3, \"26\": 1, \"37\": 2, \"23\": 1, \"54\": 3}, \"18\": {\"18\": 78, \"15\": 2, \"19\": 1, \"28\": 1, \"25\": 2}, \"30\": {\"30\": 120}, \"16\": {\"16\": 89, \"28\": 2, \"10\": 11, \"15\": 14, \"43\": 1, \"11\": 23, \"19\": 4, \"25\": 12}, \"1\": {\"1\": 73, \"29\": 6, \"56\": 5, \"57\": 8, \"17\": 1, \"13\": 3, \"22\": 3, \"48\": 1}, \"20\": {\"52\": 13, \"41\": 1, \"20\": 108, \"8\": 3, \"30\": 3, \"27\": 1, \"21\": 2, \"47\": 1}, \"7\": {\"9\": 2, \"56\": 1, \"32\": 1, \"8\": 3, \"38\": 1, \"13\": 2, \"2\": 1, \"46\": 1, \"17\": 1, \"41\": 2, \"51\": 2, \"7\": 5, \"22\": 1, \"47\": 2, \"20\": 2, \"30\": 2, \"5\": 1, \"40\": 1, \"36\": 1, \"4\": 1, \"0\": 2, \"57\": 1}, \"52\": {\"52\": 110, \"20\": 18, \"30\": 1, \"3\": 1}, \"9\": {\"56\": 9, \"9\": 97, \"17\": 4, \"41\": 1, \"0\": 1, \"13\": 3, \"40\": 3, \"36\": 2, \"22\": 8, \"51\": 3, \"57\": 5, \"48\": 2, \"39\": 1, \"38\": 1}, \"23\": {\"42\": 3, \"23\": 83, \"26\": 1, \"55\": 11, \"25\": 2, \"43\": 11, \"54\": 8, \"24\": 13, \"53\": 8, \"1\": 1, \"10\": 1, \"11\": 2}, \"55\": {\"55\": 76, \"43\": 27, \"31\": 5, \"23\": 17, \"26\": 6, \"54\": 17, \"24\": 7, \"17\": 1, \"29\": 1, \"53\": 7}, \"29\": {\"1\": 8, \"29\": 104, \"55\": 1, \"17\": 3, \"57\": 5, \"13\": 2, \"22\": 1, \"37\": 1, \"36\": 1}, \"56\": {\"29\": 3, \"7\": 1, \"56\": 69, \"57\": 8, \"48\": 5, \"2\": 1, \"40\": 1, \"13\": 2, \"9\": 12, \"44\": 1, \"36\": 2, \"53\": 1, \"22\": 20, \"1\": 3, \"32\": 2, \"0\": 1, \"47\": 1, \"51\": 1}, \"3\": {\"3\": 101, \"50\": 11, \"12\": 11, \"6\": 1}, \"42\": {\"42\": 9, \"55\": 3, \"43\": 3, \"31\": 2, \"26\": 1, \"35\": 4, \"23\": 2, \"53\": 1, \"54\": 3}, \"6\": {\"6\": 86, \"45\": 2}, \"5\": {\"5\": 114, \"46\": 2}, \"27\": {\"41\": 4, \"47\": 7, \"27\": 52, \"21\": 2, \"0\": 8, \"38\": 1, \"30\": 5, \"4\": 7, \"52\": 8, \"20\": 16, \"8\": 23, \"48\": 4, \"40\": 4, \"56\": 1, \"13\": 1, \"51\": 1}, \"47\": {\"41\": 2, \"27\": 9, \"4\": 9, \"0\": 7, \"46\": 4, \"47\": 35, \"33\": 1, \"20\": 12, \"52\": 2, \"48\": 2, \"21\": 3, \"56\": 1, \"30\": 2, \"40\": 1, \"8\": 2}, \"39\": {\"39\": 10, \"13\": 2, \"57\": 3, \"36\": 1}, \"34\": {\"34\": 18, \"35\": 3, \"42\": 1, \"18\": 1, \"19\": 2, \"54\": 2, \"10\": 1, \"43\": 1, \"24\": 3}, \"4\": {\"4\": 40, \"47\": 8, \"2\": 1, \"20\": 10, \"33\": 1, \"0\": 6, \"27\": 11, \"8\": 17, \"7\": 1, \"41\": 1, \"52\": 6, \"48\": 9, \"30\": 6, \"40\": 6, \"21\": 1, \"46\": 1, \"5\": 1}, \"24\": {\"24\": 53, \"54\": 6, \"42\": 3, \"15\": 3, \"23\": 17, \"53\": 4, \"25\": 1, \"10\": 2, \"43\": 6, \"16\": 1, \"31\": 1, \"35\": 1, \"55\": 6}, \"46\": {\"5\": 21, \"46\": 85, \"50\": 9, \"3\": 2, \"21\": 1}, \"50\": {\"50\": 121, \"3\": 4, \"12\": 1}, \"38\": {\"4\": 2, \"38\": 12, \"8\": 1, \"48\": 1, \"51\": 1, \"13\": 1, \"33\": 1, \"2\": 1, \"5\": 1, \"9\": 1, \"40\": 1, \"30\": 2, \"52\": 2, \"27\": 1}, \"54\": {\"24\": 3, \"54\": 40, \"31\": 1, \"42\": 1, \"55\": 21, \"23\": 10, \"43\": 14, \"26\": 1, \"53\": 7, \"16\": 1, \"15\": 1}, \"35\": {\"24\": 4, \"54\": 3, \"31\": 2, \"35\": 10, \"55\": 3, \"16\": 2, \"15\": 1, \"10\": 1, \"25\": 1, \"19\": 1}, \"2\": {\"2\": 16, \"33\": 2, \"51\": 2, \"7\": 6, \"56\": 1, \"47\": 1, \"48\": 2, \"57\": 1, \"38\": 1}, \"41\": {\"41\": 12, \"20\": 2, \"5\": 2, \"40\": 1, \"52\": 3, \"7\": 1, \"27\": 3, \"2\": 2, \"33\": 1, \"48\": 1}, \"57\": {\"39\": 3, \"57\": 65, \"36\": 7, \"9\": 5, \"1\": 3, \"13\": 7, \"17\": 3, \"47\": 1, \"40\": 1, \"29\": 8, \"56\": 9, \"32\": 2, \"2\": 3, \"51\": 1}, \"25\": {\"16\": 15, \"42\": 1, \"25\": 71, \"18\": 6, \"28\": 1, \"10\": 7, \"19\": 4, \"11\": 20, \"24\": 3, \"23\": 3, \"15\": 18, \"54\": 1}, \"48\": {\"33\": 2, \"40\": 8, \"21\": 2, \"48\": 46, \"0\": 12, \"51\": 2, \"4\": 14, \"30\": 1, \"27\": 4, \"20\": 3, \"22\": 3, \"8\": 5, \"9\": 6, \"52\": 1, \"13\": 2, \"56\": 1, \"47\": 1, \"36\": 1, \"46\": 2}, \"33\": {\"48\": 2, \"33\": 13, \"47\": 4, \"51\": 1, \"27\": 3, \"0\": 2, \"36\": 1, \"40\": 2}, \"45\": {\"45\": 58, \"6\": 2}, \"13\": {\"33\": 1, \"36\": 11, \"9\": 10, \"13\": 64, \"17\": 11, \"32\": 2, \"0\": 1, \"57\": 6, \"48\": 2, \"40\": 1, \"51\": 9, \"27\": 2, \"7\": 2, \"56\": 1, \"22\": 2, \"1\": 1}, \"36\": {\"36\": 62, \"32\": 4, \"9\": 5, \"7\": 4, \"13\": 6, \"22\": 1, \"51\": 5, \"57\": 4, \"2\": 1, \"39\": 1, \"14\": 1, \"37\": 1, \"17\": 3, \"1\": 2}, \"43\": {\"43\": 70, \"55\": 19, \"26\": 2, \"23\": 11, \"54\": 9, \"53\": 7, \"24\": 7, \"25\": 1, \"31\": 4, \"35\": 1, \"16\": 1}, \"28\": {\"28\": 24, \"25\": 2, \"18\": 1, \"15\": 1}, \"0\": {\"40\": 14, \"0\": 64, \"52\": 2, \"8\": 3, \"47\": 6, \"22\": 1, \"27\": 8, \"48\": 11, \"4\": 4, \"30\": 5, \"20\": 3, \"9\": 3}, \"12\": {\"12\": 88, \"3\": 4}, \"31\": {\"31\": 16, \"24\": 1, \"55\": 2, \"53\": 2, \"42\": 1, \"54\": 3, \"26\": 1, \"43\": 1, \"23\": 1}, \"40\": {\"0\": 10, \"47\": 7, \"48\": 16, \"33\": 1, \"40\": 46, \"4\": 8, \"7\": 1, \"22\": 4, \"5\": 2, \"52\": 2, \"30\": 4, \"9\": 6, \"44\": 1, \"46\": 2, \"56\": 1, \"27\": 2, \"20\": 1, \"50\": 1, \"8\": 1}, \"44\": {\"44\": 59, \"5\": 1, \"0\": 3, \"22\": 9, \"45\": 1, \"40\": 2, \"56\": 2, \"48\": 1, \"30\": 2, \"47\": 3, \"4\": 1, \"7\": 1, \"9\": 2, \"12\": 1}, \"32\": {\"32\": 18, \"36\": 6, \"13\": 1, \"17\": 1, \"2\": 1, \"37\": 1}, \"26\": {\"55\": 2, \"31\": 1, \"53\": 4, \"26\": 17}, \"8\": {\"8\": 77, \"20\": 13, \"0\": 1, \"47\": 4, \"27\": 6, \"21\": 5, \"52\": 7, \"4\": 1, \"30\": 2}, \"10\": {\"10\": 38, \"15\": 8, \"11\": 7, \"18\": 1, \"16\": 8, \"25\": 2}, \"15\": {\"15\": 68, \"24\": 2, \"10\": 11, \"16\": 21, \"25\": 23, \"23\": 1, \"19\": 5, \"11\": 9, \"43\": 1, \"18\": 1}, \"21\": {\"21\": 128}, \"37\": {\"37\": 20, \"55\": 1, \"53\": 1, \"17\": 5, \"36\": 1}, \"17\": {\"17\": 78, \"13\": 13, \"1\": 1, \"32\": 3, \"51\": 3, \"37\": 1, \"36\": 5, \"57\": 2, \"29\": 1, \"53\": 1}, \"51\": {\"33\": 3, \"51\": 81, \"2\": 5, \"38\": 2, \"7\": 2, \"17\": 4, \"13\": 5, \"36\": 4, \"8\": 2, \"27\": 4, \"4\": 1, \"32\": 1, \"9\": 5, \"20\": 1, \"48\": 2, \"40\": 1, \"22\": 1}, \"53\": {\"53\": 93, \"43\": 11, \"23\": 9, \"26\": 6, \"55\": 5, \"49\": 4, \"24\": 4, \"54\": 8, \"31\": 2, \"10\": 1, \"13\": 1}, \"19\": {\"18\": 1, \"10\": 1, \"19\": 124, \"15\": 4, \"25\": 4, \"11\": 2}, \"49\": {\"49\": 15, \"9\": 1, \"23\": 1, \"32\": 1, \"53\": 1, \"57\": 1}, \"11\": {\"11\": 72, \"10\": 11, \"34\": 1, \"19\": 3, \"25\": 14, \"15\": 12, \"16\": 25}, \"22\": {\"22\": 65, \"9\": 12, \"7\": 1, \"0\": 2, \"40\": 11, \"52\": 1, \"56\": 19, \"48\": 9, \"44\": 2, \"1\": 3, \"41\": 1, \"29\": 1, \"57\": 2, \"27\": 1}}}, \"per_domain_accuracy\": {\"O_8\": {\"accuracy\": 0.7390625, \"source?\": true}, \"O_38\": {\"accuracy\": 0.765625, \"source?\": true}, \"O_26\": {\"accuracy\": 0.7078125, \"source?\": true}, \"O_20\": {\"accuracy\": 0.7791666666666667, \"source?\": true}, \"O_50\": {\"accuracy\": 0.8510416666666667, \"source?\": true}, \"O_32\": {\"accuracy\": 0.7901041666666667, \"source?\": true}, \"O_44\": {\"accuracy\": 0.8015625, \"source?\": true}, \"O_14\": {\"accuracy\": 0.7838541666666666, \"source?\": true}, \"C_2\": {\"accuracy\": 0.65625, \"source?\": false}, \"C_5\": {\"accuracy\": 0.6653792134831461, \"source?\": false}, \"C_1\": {\"accuracy\": 0.7494848901098901, \"source?\": false}, \"C_4\": {\"accuracy\": 0.6489520958083832, \"source?\": false}, \"C_3\": {\"accuracy\": 0.6377923976608187, \"source?\": false}}}, \"history\": {\"epoch_indices\": [1, 2, 3, 4, 5, 6], \"train_label_loss\": [1.1147286023634175, 1.2950788803176865, 0.5873225489343029, 0.3995057467820256, 0.3499202934337691, 0.33687923249062374], \"source_val_label_loss\": [245.27120971679688, 0.6155881285667419, 0.5319578051567078, 0.3539348542690277, 0.3758760690689087, 0.36797448992729187], \"target_val_label_loss\": [5842.18798828125, 313.493896484375, 370.27813720703125, 385.5177307128906, 352.92779541015625, 486.9266662597656], \"source_val_acc_label\": [0.5103190104166667, 0.7772786458333333, 0.8127278645833333, 0.8736653645833333, 0.86630859375, 0.8663736979166666], \"target_val_acc_label\": [0.3565503432494279, 0.6725185926773455, 0.6558566933638444, 0.655141590389016, 0.6455949656750573, 0.6488844393592678]}, \"dataset_metrics\": {\"source\": {\"train\": {\"n_unique_x\": 179200, \"n_unique_y\": 16, \"n_batch/episode\": 6720}, \"val\": {\"n_unique_x\": 38400, \"n_unique_y\": 16, \"n_batch/episode\": 960}, \"test\": {\"n_unique_x\": 38400, \"n_unique_y\": 16, \"n_batch/episode\": 960}}, \"target\": {\"train\": {\"n_unique_x\": 175127, \"n_unique_y\": 58, \"n_batch/episode\": 6303}, \"val\": {\"n_unique_x\": 37135, \"n_unique_y\": 58, \"n_batch/episode\": 874}, \"test\": {\"n_unique_x\": 37673, \"n_unique_y\": 58, \"n_batch/episode\": 893}}}}'"
      ]
     },
     "execution_count": 29,
     "metadata": {},
     "output_type": "execute_result"
    }
   ],
   "source": [
    "json.dumps(experiment)"
   ]
  }
 ],
 "metadata": {
  "celltoolbar": "Tags",
  "kernelspec": {
   "display_name": "Python 3 (ipykernel)",
   "language": "python",
   "name": "python3"
  },
  "language_info": {
   "codemirror_mode": {
    "name": "ipython",
    "version": 3
   },
   "file_extension": ".py",
   "mimetype": "text/x-python",
   "name": "python",
   "nbconvert_exporter": "python",
   "pygments_lexer": "ipython3",
   "version": "3.8.12"
  },
  "papermill": {
   "default_parameters": {},
   "duration": 1148.333778,
   "end_time": "2022-03-28T11:04:33.840844",
   "environment_variables": {},
   "exception": null,
   "input_path": "/root/csc500-main/csc500-notebooks/templates/tl_ptn_template.ipynb",
   "output_path": "trial.ipynb",
   "parameters": {
    "parameters": {
     "BEST_MODEL_PATH": "./best_model.pth",
     "NUM_LOGS_PER_EPOCH": 10,
     "criteria_for_best": "target_accuracy",
     "dataset_seed": 154325,
     "datasets": [
      {
       "domain_prefix": "C_",
       "domains": [
        1,
        2,
        3,
        4,
        5
       ],
       "episode_transforms": [],
       "labels": [
        "1-10.",
        "1-11.",
        "1-15.",
        "1-16.",
        "1-17.",
        "1-18.",
        "1-19.",
        "10-4.",
        "10-7.",
        "11-1.",
        "11-14.",
        "11-17.",
        "11-20.",
        "11-7.",
        "13-20.",
        "13-8.",
        "14-10.",
        "14-11.",
        "14-14.",
        "14-7.",
        "15-1.",
        "15-20.",
        "16-1.",
        "16-16.",
        "17-10.",
        "17-11.",
        "17-2.",
        "19-1.",
        "19-16.",
        "19-19.",
        "19-20.",
        "19-3.",
        "2-10.",
        "2-11.",
        "2-17.",
        "2-18.",
        "2-20.",
        "2-3.",
        "2-4.",
        "2-5.",
        "2-6.",
        "2-7.",
        "2-8.",
        "3-13.",
        "3-18.",
        "3-3.",
        "4-1.",
        "4-10.",
        "4-11.",
        "4-19.",
        "5-5.",
        "6-15.",
        "7-10.",
        "7-14.",
        "8-18.",
        "8-20.",
        "8-3.",
        "8-8."
       ],
       "num_examples_per_domain_per_label": -1,
       "pickle_path": "/root/csc500-main/datasets/cores.stratified_ds.2022A.pkl",
       "source_or_target_dataset": "target",
       "x_transforms": [
        "jitter_256_10",
        "lowpass_+/-10MHz",
        "take_200"
       ]
      },
      {
       "domain_prefix": "O_",
       "domains": [
        32,
        38,
        8,
        44,
        14,
        50,
        20,
        26
       ],
       "episode_transforms": [],
       "labels": [
        "3123D52",
        "3123D65",
        "3123D79",
        "3123D80",
        "3123D54",
        "3123D70",
        "3123D7B",
        "3123D89",
        "3123D58",
        "3123D76",
        "3123D7D",
        "3123EFE",
        "3123D64",
        "3123D78",
        "3123D7E",
        "3124E4A"
       ],
       "num_examples_per_domain_per_label": 2000,
       "pickle_path": "/root/csc500-main/datasets/oracle.Run1_framed_2000Examples_stratified_ds.2022A.pkl",
       "source_or_target_dataset": "source",
       "x_transforms": [
        "jitter_256_10",
        "take_200",
        "resample_20Msps_to_25Msps"
       ]
      }
     ],
     "device": "cuda",
     "experiment_name": "tl_3-jitter10v2:oracle.run1.framed -> cores",
     "lr": 0.0001,
     "n_epoch": 50,
     "n_query": 2,
     "n_shot": 3,
     "n_way": 16,
     "patience": 3,
     "seed": 154325,
     "test_k_factor": 2,
     "torch_default_dtype": "torch.float32",
     "train_k_factor": 3,
     "val_k_factor": 2,
     "x_net": [
      {
       "class": "nnReshape",
       "kargs": {
        "shape": [
         -1,
         1,
         2,
         256
        ]
       }
      },
      {
       "class": "Conv2d",
       "kargs": {
        "bias": false,
        "in_channels": 1,
        "kernel_size": [
         1,
         7
        ],
        "out_channels": 256,
        "padding": [
         0,
         3
        ]
       }
      },
      {
       "class": "ReLU",
       "kargs": {
        "inplace": true
       }
      },
      {
       "class": "BatchNorm2d",
       "kargs": {
        "num_features": 256
       }
      },
      {
       "class": "Conv2d",
       "kargs": {
        "bias": true,
        "in_channels": 256,
        "kernel_size": [
         2,
         7
        ],
        "out_channels": 80,
        "padding": [
         0,
         3
        ]
       }
      },
      {
       "class": "ReLU",
       "kargs": {
        "inplace": true
       }
      },
      {
       "class": "BatchNorm2d",
       "kargs": {
        "num_features": 80
       }
      },
      {
       "class": "Flatten",
       "kargs": {}
      },
      {
       "class": "Linear",
       "kargs": {
        "in_features": 20480,
        "out_features": 256
       }
      },
      {
       "class": "ReLU",
       "kargs": {
        "inplace": true
       }
      },
      {
       "class": "BatchNorm1d",
       "kargs": {
        "num_features": 256
       }
      },
      {
       "class": "Linear",
       "kargs": {
        "in_features": 256,
        "out_features": 256
       }
      }
     ],
     "x_shape": [
      2,
      256
     ]
    }
   },
   "start_time": "2022-03-28T10:45:25.507066",
   "version": "2.3.4"
  }
 },
 "nbformat": 4,
 "nbformat_minor": 5
}