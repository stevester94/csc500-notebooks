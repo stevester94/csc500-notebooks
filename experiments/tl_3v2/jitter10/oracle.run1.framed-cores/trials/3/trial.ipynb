{
 "cells": [
  {
   "cell_type": "markdown",
   "id": "9fea5f46",
   "metadata": {
    "papermill": {
     "duration": 0.028645,
     "end_time": "2022-03-28T09:52:23.699567",
     "exception": false,
     "start_time": "2022-03-28T09:52:23.670922",
     "status": "completed"
    },
    "tags": []
   },
   "source": [
    "# Transfer Learning Template"
   ]
  },
  {
   "cell_type": "code",
   "execution_count": 1,
   "id": "0902182a",
   "metadata": {
    "execution": {
     "iopub.execute_input": "2022-03-28T09:52:23.762231Z",
     "iopub.status.busy": "2022-03-28T09:52:23.761348Z",
     "iopub.status.idle": "2022-03-28T09:52:25.615051Z",
     "shell.execute_reply": "2022-03-28T09:52:25.614593Z"
    },
    "papermill": {
     "duration": 1.891939,
     "end_time": "2022-03-28T09:52:25.615162",
     "exception": false,
     "start_time": "2022-03-28T09:52:23.723223",
     "status": "completed"
    },
    "tags": []
   },
   "outputs": [],
   "source": [
    "%load_ext autoreload\n",
    "%autoreload 2\n",
    "%matplotlib inline\n",
    "\n",
    "    \n",
    "import os, json, sys, time, random\n",
    "import numpy as np\n",
    "import torch\n",
    "from torch.optim import Adam\n",
    "from  easydict import EasyDict\n",
    "import matplotlib.pyplot as plt\n",
    "\n",
    "from steves_models.steves_ptn import Steves_Prototypical_Network\n",
    "\n",
    "from steves_utils.lazy_iterable_wrapper import Lazy_Iterable_Wrapper\n",
    "from steves_utils.iterable_aggregator import Iterable_Aggregator\n",
    "from steves_utils.ptn_train_eval_test_jig import  PTN_Train_Eval_Test_Jig\n",
    "from steves_utils.torch_sequential_builder import build_sequential\n",
    "from steves_utils.torch_utils import get_dataset_metrics, ptn_confusion_by_domain_over_dataloader\n",
    "from steves_utils.utils_v2 import (per_domain_accuracy_from_confusion, get_datasets_base_path)\n",
    "from steves_utils.PTN.utils import independent_accuracy_assesment\n",
    "\n",
    "from torch.utils.data import DataLoader\n",
    "\n",
    "from steves_utils.stratified_dataset.episodic_accessor import Episodic_Accessor_Factory\n",
    "\n",
    "from steves_utils.ptn_do_report import (\n",
    "    get_loss_curve,\n",
    "    get_results_table,\n",
    "    get_parameters_table,\n",
    "    get_domain_accuracies,\n",
    ")\n",
    "\n",
    "from steves_utils.transforms import get_chained_transform"
   ]
  },
  {
   "cell_type": "markdown",
   "id": "41c840b4",
   "metadata": {
    "papermill": {
     "duration": 0.018816,
     "end_time": "2022-03-28T09:52:25.653891",
     "exception": false,
     "start_time": "2022-03-28T09:52:25.635075",
     "status": "completed"
    },
    "tags": []
   },
   "source": [
    "# Allowed Parameters\n",
    "These are allowed parameters, not defaults\n",
    "Each of these values need to be present in the injected parameters (the notebook will raise an exception if they are not present)\n",
    "\n",
    "Papermill uses the cell tag \"parameters\" to inject the real parameters below this cell.\n",
    "Enable tags to see what I mean"
   ]
  },
  {
   "cell_type": "code",
   "execution_count": 2,
   "id": "fd44eb83",
   "metadata": {
    "execution": {
     "iopub.execute_input": "2022-03-28T09:52:25.697532Z",
     "iopub.status.busy": "2022-03-28T09:52:25.697149Z",
     "iopub.status.idle": "2022-03-28T09:52:25.719485Z",
     "shell.execute_reply": "2022-03-28T09:52:25.719113Z"
    },
    "papermill": {
     "duration": 0.046576,
     "end_time": "2022-03-28T09:52:25.719564",
     "exception": false,
     "start_time": "2022-03-28T09:52:25.672988",
     "status": "completed"
    },
    "tags": []
   },
   "outputs": [],
   "source": [
    "required_parameters = {\n",
    "    \"experiment_name\",\n",
    "    \"lr\",\n",
    "    \"device\",\n",
    "    \"seed\",\n",
    "    \"dataset_seed\",\n",
    "    \"n_shot\",\n",
    "    \"n_query\",\n",
    "    \"n_way\",\n",
    "    \"train_k_factor\",\n",
    "    \"val_k_factor\",\n",
    "    \"test_k_factor\",\n",
    "    \"n_epoch\",\n",
    "    \"patience\",\n",
    "    \"criteria_for_best\",\n",
    "    \"x_net\",\n",
    "    \"datasets\",\n",
    "    \"torch_default_dtype\",\n",
    "    \"NUM_LOGS_PER_EPOCH\",\n",
    "    \"BEST_MODEL_PATH\",\n",
    "    \"x_shape\",\n",
    "}"
   ]
  },
  {
   "cell_type": "code",
   "execution_count": 3,
   "id": "fa3f0049",
   "metadata": {
    "execution": {
     "iopub.execute_input": "2022-03-28T09:52:25.767702Z",
     "iopub.status.busy": "2022-03-28T09:52:25.767124Z",
     "iopub.status.idle": "2022-03-28T09:52:25.786668Z",
     "shell.execute_reply": "2022-03-28T09:52:25.786218Z"
    },
    "papermill": {
     "duration": 0.047941,
     "end_time": "2022-03-28T09:52:25.786737",
     "exception": false,
     "start_time": "2022-03-28T09:52:25.738796",
     "status": "completed"
    },
    "tags": [
     "parameters"
    ]
   },
   "outputs": [],
   "source": [
    "from steves_utils.CORES.utils import (\n",
    "    ALL_NODES,\n",
    "    ALL_NODES_MINIMUM_1000_EXAMPLES,\n",
    "    ALL_DAYS\n",
    ")\n",
    "\n",
    "from steves_utils.ORACLE.utils_v2 import (\n",
    "    ALL_DISTANCES_FEET_NARROWED,\n",
    "    ALL_RUNS,\n",
    "    ALL_SERIAL_NUMBERS,\n",
    ")\n",
    "\n",
    "standalone_parameters = {}\n",
    "standalone_parameters[\"experiment_name\"] = \"STANDALONE PTN\"\n",
    "standalone_parameters[\"lr\"] = 0.001\n",
    "standalone_parameters[\"device\"] = \"cuda\"\n",
    "\n",
    "standalone_parameters[\"seed\"] = 1337\n",
    "standalone_parameters[\"dataset_seed\"] = 1337\n",
    "\n",
    "standalone_parameters[\"n_way\"] = 8\n",
    "standalone_parameters[\"n_shot\"] = 3\n",
    "standalone_parameters[\"n_query\"]  = 2\n",
    "standalone_parameters[\"train_k_factor\"] = 1\n",
    "standalone_parameters[\"val_k_factor\"] = 2\n",
    "standalone_parameters[\"test_k_factor\"] = 2\n",
    "\n",
    "\n",
    "standalone_parameters[\"n_epoch\"] = 50\n",
    "\n",
    "standalone_parameters[\"patience\"] = 10\n",
    "standalone_parameters[\"criteria_for_best\"] = \"source_loss\"\n",
    "\n",
    "standalone_parameters[\"datasets\"] = [\n",
    "    {\n",
    "        \"labels\": ALL_SERIAL_NUMBERS,\n",
    "        \"domains\": ALL_DISTANCES_FEET_NARROWED,\n",
    "        \"num_examples_per_domain_per_label\": 100,\n",
    "        \"pickle_path\": os.path.join(get_datasets_base_path(), \"oracle.Run1_framed_2000Examples_stratified_ds.2022A.pkl\"),\n",
    "        \"source_or_target_dataset\": \"source\",\n",
    "        \"x_transforms\": [\"unit_mag\", \"minus_two\"],\n",
    "        \"episode_transforms\": [],\n",
    "        \"domain_prefix\": \"ORACLE_\"\n",
    "    },\n",
    "    {\n",
    "        \"labels\": ALL_NODES,\n",
    "        \"domains\": ALL_DAYS,\n",
    "        \"num_examples_per_domain_per_label\": 100,\n",
    "        \"pickle_path\": os.path.join(get_datasets_base_path(), \"cores.stratified_ds.2022A.pkl\"),\n",
    "        \"source_or_target_dataset\": \"target\",\n",
    "        \"x_transforms\": [\"unit_power\", \"times_zero\"],\n",
    "        \"episode_transforms\": [],\n",
    "        \"domain_prefix\": \"CORES_\"\n",
    "    }   \n",
    "]\n",
    "\n",
    "standalone_parameters[\"torch_default_dtype\"] = \"torch.float32\" \n",
    "\n",
    "\n",
    "\n",
    "standalone_parameters[\"x_net\"] =     [\n",
    "    {\"class\": \"nnReshape\", \"kargs\": {\"shape\":[-1, 1, 2, 256]}},\n",
    "    {\"class\": \"Conv2d\", \"kargs\": { \"in_channels\":1, \"out_channels\":256, \"kernel_size\":(1,7), \"bias\":False, \"padding\":(0,3), },},\n",
    "    {\"class\": \"ReLU\", \"kargs\": {\"inplace\": True}},\n",
    "    {\"class\": \"BatchNorm2d\", \"kargs\": {\"num_features\":256}},\n",
    "\n",
    "    {\"class\": \"Conv2d\", \"kargs\": { \"in_channels\":256, \"out_channels\":80, \"kernel_size\":(2,7), \"bias\":True, \"padding\":(0,3), },},\n",
    "    {\"class\": \"ReLU\", \"kargs\": {\"inplace\": True}},\n",
    "    {\"class\": \"BatchNorm2d\", \"kargs\": {\"num_features\":80}},\n",
    "    {\"class\": \"Flatten\", \"kargs\": {}},\n",
    "\n",
    "    {\"class\": \"Linear\", \"kargs\": {\"in_features\": 80*256, \"out_features\": 256}}, # 80 units per IQ pair\n",
    "    {\"class\": \"ReLU\", \"kargs\": {\"inplace\": True}},\n",
    "    {\"class\": \"BatchNorm1d\", \"kargs\": {\"num_features\":256}},\n",
    "\n",
    "    {\"class\": \"Linear\", \"kargs\": {\"in_features\": 256, \"out_features\": 256}},\n",
    "]\n",
    "\n",
    "# Parameters relevant to results\n",
    "# These parameters will basically never need to change\n",
    "standalone_parameters[\"NUM_LOGS_PER_EPOCH\"] = 10\n",
    "standalone_parameters[\"BEST_MODEL_PATH\"] = \"./best_model.pth\"\n",
    "\n",
    "\n",
    "\n",
    "\n"
   ]
  },
  {
   "cell_type": "code",
   "execution_count": 4,
   "id": "45d53b01",
   "metadata": {
    "execution": {
     "iopub.execute_input": "2022-03-28T09:52:25.838522Z",
     "iopub.status.busy": "2022-03-28T09:52:25.833162Z",
     "iopub.status.idle": "2022-03-28T09:52:25.859243Z",
     "shell.execute_reply": "2022-03-28T09:52:25.858875Z"
    },
    "papermill": {
     "duration": 0.053444,
     "end_time": "2022-03-28T09:52:25.859312",
     "exception": false,
     "start_time": "2022-03-28T09:52:25.805868",
     "status": "completed"
    },
    "tags": [
     "injected-parameters"
    ]
   },
   "outputs": [],
   "source": [
    "# Parameters\n",
    "parameters = {\n",
    "    \"experiment_name\": \"tl_3-jitter10v2:oracle.run1.framed -> cores\",\n",
    "    \"device\": \"cuda\",\n",
    "    \"lr\": 0.0001,\n",
    "    \"x_shape\": [2, 256],\n",
    "    \"n_shot\": 3,\n",
    "    \"n_query\": 2,\n",
    "    \"train_k_factor\": 3,\n",
    "    \"val_k_factor\": 2,\n",
    "    \"test_k_factor\": 2,\n",
    "    \"torch_default_dtype\": \"torch.float32\",\n",
    "    \"n_epoch\": 50,\n",
    "    \"patience\": 3,\n",
    "    \"criteria_for_best\": \"target_accuracy\",\n",
    "    \"x_net\": [\n",
    "        {\"class\": \"nnReshape\", \"kargs\": {\"shape\": [-1, 1, 2, 256]}},\n",
    "        {\n",
    "            \"class\": \"Conv2d\",\n",
    "            \"kargs\": {\n",
    "                \"in_channels\": 1,\n",
    "                \"out_channels\": 256,\n",
    "                \"kernel_size\": [1, 7],\n",
    "                \"bias\": False,\n",
    "                \"padding\": [0, 3],\n",
    "            },\n",
    "        },\n",
    "        {\"class\": \"ReLU\", \"kargs\": {\"inplace\": True}},\n",
    "        {\"class\": \"BatchNorm2d\", \"kargs\": {\"num_features\": 256}},\n",
    "        {\n",
    "            \"class\": \"Conv2d\",\n",
    "            \"kargs\": {\n",
    "                \"in_channels\": 256,\n",
    "                \"out_channels\": 80,\n",
    "                \"kernel_size\": [2, 7],\n",
    "                \"bias\": True,\n",
    "                \"padding\": [0, 3],\n",
    "            },\n",
    "        },\n",
    "        {\"class\": \"ReLU\", \"kargs\": {\"inplace\": True}},\n",
    "        {\"class\": \"BatchNorm2d\", \"kargs\": {\"num_features\": 80}},\n",
    "        {\"class\": \"Flatten\", \"kargs\": {}},\n",
    "        {\"class\": \"Linear\", \"kargs\": {\"in_features\": 20480, \"out_features\": 256}},\n",
    "        {\"class\": \"ReLU\", \"kargs\": {\"inplace\": True}},\n",
    "        {\"class\": \"BatchNorm1d\", \"kargs\": {\"num_features\": 256}},\n",
    "        {\"class\": \"Linear\", \"kargs\": {\"in_features\": 256, \"out_features\": 256}},\n",
    "    ],\n",
    "    \"NUM_LOGS_PER_EPOCH\": 10,\n",
    "    \"BEST_MODEL_PATH\": \"./best_model.pth\",\n",
    "    \"n_way\": 16,\n",
    "    \"datasets\": [\n",
    "        {\n",
    "            \"labels\": [\n",
    "                \"1-10.\",\n",
    "                \"1-11.\",\n",
    "                \"1-15.\",\n",
    "                \"1-16.\",\n",
    "                \"1-17.\",\n",
    "                \"1-18.\",\n",
    "                \"1-19.\",\n",
    "                \"10-4.\",\n",
    "                \"10-7.\",\n",
    "                \"11-1.\",\n",
    "                \"11-14.\",\n",
    "                \"11-17.\",\n",
    "                \"11-20.\",\n",
    "                \"11-7.\",\n",
    "                \"13-20.\",\n",
    "                \"13-8.\",\n",
    "                \"14-10.\",\n",
    "                \"14-11.\",\n",
    "                \"14-14.\",\n",
    "                \"14-7.\",\n",
    "                \"15-1.\",\n",
    "                \"15-20.\",\n",
    "                \"16-1.\",\n",
    "                \"16-16.\",\n",
    "                \"17-10.\",\n",
    "                \"17-11.\",\n",
    "                \"17-2.\",\n",
    "                \"19-1.\",\n",
    "                \"19-16.\",\n",
    "                \"19-19.\",\n",
    "                \"19-20.\",\n",
    "                \"19-3.\",\n",
    "                \"2-10.\",\n",
    "                \"2-11.\",\n",
    "                \"2-17.\",\n",
    "                \"2-18.\",\n",
    "                \"2-20.\",\n",
    "                \"2-3.\",\n",
    "                \"2-4.\",\n",
    "                \"2-5.\",\n",
    "                \"2-6.\",\n",
    "                \"2-7.\",\n",
    "                \"2-8.\",\n",
    "                \"3-13.\",\n",
    "                \"3-18.\",\n",
    "                \"3-3.\",\n",
    "                \"4-1.\",\n",
    "                \"4-10.\",\n",
    "                \"4-11.\",\n",
    "                \"4-19.\",\n",
    "                \"5-5.\",\n",
    "                \"6-15.\",\n",
    "                \"7-10.\",\n",
    "                \"7-14.\",\n",
    "                \"8-18.\",\n",
    "                \"8-20.\",\n",
    "                \"8-3.\",\n",
    "                \"8-8.\",\n",
    "            ],\n",
    "            \"domains\": [1, 2, 3, 4, 5],\n",
    "            \"num_examples_per_domain_per_label\": -1,\n",
    "            \"pickle_path\": \"/root/csc500-main/datasets/cores.stratified_ds.2022A.pkl\",\n",
    "            \"source_or_target_dataset\": \"target\",\n",
    "            \"x_transforms\": [\n",
    "                \"unit_power\",\n",
    "                \"jitter_256_10\",\n",
    "                \"lowpass_+/-10MHz\",\n",
    "                \"take_200\",\n",
    "            ],\n",
    "            \"episode_transforms\": [],\n",
    "            \"domain_prefix\": \"C_\",\n",
    "        },\n",
    "        {\n",
    "            \"labels\": [\n",
    "                \"3123D52\",\n",
    "                \"3123D65\",\n",
    "                \"3123D79\",\n",
    "                \"3123D80\",\n",
    "                \"3123D54\",\n",
    "                \"3123D70\",\n",
    "                \"3123D7B\",\n",
    "                \"3123D89\",\n",
    "                \"3123D58\",\n",
    "                \"3123D76\",\n",
    "                \"3123D7D\",\n",
    "                \"3123EFE\",\n",
    "                \"3123D64\",\n",
    "                \"3123D78\",\n",
    "                \"3123D7E\",\n",
    "                \"3124E4A\",\n",
    "            ],\n",
    "            \"domains\": [32, 38, 8, 44, 14, 50, 20, 26],\n",
    "            \"num_examples_per_domain_per_label\": 2000,\n",
    "            \"pickle_path\": \"/root/csc500-main/datasets/oracle.Run1_framed_2000Examples_stratified_ds.2022A.pkl\",\n",
    "            \"source_or_target_dataset\": \"source\",\n",
    "            \"x_transforms\": [\n",
    "                \"unit_power\",\n",
    "                \"jitter_256_10\",\n",
    "                \"take_200\",\n",
    "                \"resample_20Msps_to_25Msps\",\n",
    "            ],\n",
    "            \"episode_transforms\": [],\n",
    "            \"domain_prefix\": \"O_\",\n",
    "        },\n",
    "    ],\n",
    "    \"seed\": 420,\n",
    "    \"dataset_seed\": 420,\n",
    "}\n"
   ]
  },
  {
   "cell_type": "code",
   "execution_count": 5,
   "id": "8fa1cc33",
   "metadata": {
    "execution": {
     "iopub.execute_input": "2022-03-28T09:52:25.907178Z",
     "iopub.status.busy": "2022-03-28T09:52:25.906803Z",
     "iopub.status.idle": "2022-03-28T09:52:25.926972Z",
     "shell.execute_reply": "2022-03-28T09:52:25.926606Z"
    },
    "papermill": {
     "duration": 0.048109,
     "end_time": "2022-03-28T09:52:25.927041",
     "exception": false,
     "start_time": "2022-03-28T09:52:25.878932",
     "status": "completed"
    },
    "tags": []
   },
   "outputs": [],
   "source": [
    "# Set this to True if you want to run this template directly\n",
    "STANDALONE = False\n",
    "if STANDALONE:\n",
    "    print(\"parameters not injected, running with standalone_parameters\")\n",
    "    parameters = standalone_parameters\n",
    "\n",
    "if not 'parameters' in locals() and not 'parameters' in globals():\n",
    "    raise Exception(\"Parameter injection failed\")\n",
    "\n",
    "#Use an easy dict for all the parameters\n",
    "p = EasyDict(parameters)\n",
    "\n",
    "if \"x_shape\" not in p:\n",
    "    p.x_shape = [2,256] # Default to this if we dont supply x_shape\n",
    "\n",
    "\n",
    "supplied_keys = set(p.keys())\n",
    "\n",
    "if  supplied_keys != required_parameters:\n",
    "    print(\"Parameters are incorrect\")\n",
    "    if len(supplied_keys - required_parameters)>0: print(\"Shouldn't have:\", str(supplied_keys - required_parameters))\n",
    "    if len(required_parameters - supplied_keys)>0: print(\"Need to have:\", str(required_parameters - supplied_keys))\n",
    "    raise RuntimeError(\"Parameters are incorrect\")"
   ]
  },
  {
   "cell_type": "code",
   "execution_count": 6,
   "id": "3a028d58",
   "metadata": {
    "execution": {
     "iopub.execute_input": "2022-03-28T09:52:25.970889Z",
     "iopub.status.busy": "2022-03-28T09:52:25.970521Z",
     "iopub.status.idle": "2022-03-28T09:52:25.991721Z",
     "shell.execute_reply": "2022-03-28T09:52:25.991325Z"
    },
    "papermill": {
     "duration": 0.045158,
     "end_time": "2022-03-28T09:52:25.991790",
     "exception": false,
     "start_time": "2022-03-28T09:52:25.946632",
     "status": "completed"
    },
    "tags": []
   },
   "outputs": [],
   "source": [
    "###################################\n",
    "# Set the RNGs and make it all deterministic\n",
    "###################################\n",
    "np.random.seed(p.seed)\n",
    "random.seed(p.seed)\n",
    "torch.manual_seed(p.seed)\n",
    "\n",
    "torch.use_deterministic_algorithms(True) "
   ]
  },
  {
   "cell_type": "code",
   "execution_count": 7,
   "id": "b691acf6",
   "metadata": {
    "execution": {
     "iopub.execute_input": "2022-03-28T09:52:26.035160Z",
     "iopub.status.busy": "2022-03-28T09:52:26.034143Z",
     "iopub.status.idle": "2022-03-28T09:52:26.056610Z",
     "shell.execute_reply": "2022-03-28T09:52:26.056289Z"
    },
    "papermill": {
     "duration": 0.045314,
     "end_time": "2022-03-28T09:52:26.056678",
     "exception": false,
     "start_time": "2022-03-28T09:52:26.011364",
     "status": "completed"
    },
    "tags": []
   },
   "outputs": [],
   "source": [
    "###########################################\n",
    "# The stratified datasets honor this\n",
    "###########################################\n",
    "torch.set_default_dtype(eval(p.torch_default_dtype))"
   ]
  },
  {
   "cell_type": "code",
   "execution_count": 8,
   "id": "b5fba671",
   "metadata": {
    "execution": {
     "iopub.execute_input": "2022-03-28T09:52:26.099161Z",
     "iopub.status.busy": "2022-03-28T09:52:26.098788Z",
     "iopub.status.idle": "2022-03-28T09:52:26.154644Z",
     "shell.execute_reply": "2022-03-28T09:52:26.154324Z"
    },
    "papermill": {
     "duration": 0.078263,
     "end_time": "2022-03-28T09:52:26.154713",
     "exception": false,
     "start_time": "2022-03-28T09:52:26.076450",
     "status": "completed"
    },
    "tags": []
   },
   "outputs": [],
   "source": [
    "###################################\n",
    "# Build the network(s)\n",
    "# Note: It's critical to do this AFTER setting the RNG\n",
    "###################################\n",
    "x_net = build_sequential(p.x_net)"
   ]
  },
  {
   "cell_type": "code",
   "execution_count": 9,
   "id": "5d7e61cc",
   "metadata": {
    "execution": {
     "iopub.execute_input": "2022-03-28T09:52:26.197570Z",
     "iopub.status.busy": "2022-03-28T09:52:26.196760Z",
     "iopub.status.idle": "2022-03-28T09:52:26.219704Z",
     "shell.execute_reply": "2022-03-28T09:52:26.219374Z"
    },
    "papermill": {
     "duration": 0.045402,
     "end_time": "2022-03-28T09:52:26.219773",
     "exception": false,
     "start_time": "2022-03-28T09:52:26.174371",
     "status": "completed"
    },
    "tags": []
   },
   "outputs": [],
   "source": [
    "start_time_secs = time.time()"
   ]
  },
  {
   "cell_type": "code",
   "execution_count": 10,
   "id": "c6b67dfd",
   "metadata": {
    "execution": {
     "iopub.execute_input": "2022-03-28T09:52:26.265327Z",
     "iopub.status.busy": "2022-03-28T09:52:26.264505Z",
     "iopub.status.idle": "2022-03-28T09:52:26.290844Z",
     "shell.execute_reply": "2022-03-28T09:52:26.290021Z"
    },
    "papermill": {
     "duration": 0.051271,
     "end_time": "2022-03-28T09:52:26.290997",
     "exception": false,
     "start_time": "2022-03-28T09:52:26.239726",
     "status": "completed"
    },
    "tags": []
   },
   "outputs": [],
   "source": [
    "p.domains_source = []\n",
    "p.domains_target = []\n",
    "\n",
    "\n",
    "train_original_source = []\n",
    "val_original_source   = []\n",
    "test_original_source  = []\n",
    "\n",
    "train_original_target = []\n",
    "val_original_target   = []\n",
    "test_original_target  = []"
   ]
  },
  {
   "cell_type": "code",
   "execution_count": 11,
   "id": "e3d9c3d3",
   "metadata": {
    "execution": {
     "iopub.execute_input": "2022-03-28T09:52:26.340848Z",
     "iopub.status.busy": "2022-03-28T09:52:26.339769Z",
     "iopub.status.idle": "2022-03-28T09:52:26.362021Z",
     "shell.execute_reply": "2022-03-28T09:52:26.361224Z"
    },
    "papermill": {
     "duration": 0.046187,
     "end_time": "2022-03-28T09:52:26.362169",
     "exception": false,
     "start_time": "2022-03-28T09:52:26.315982",
     "status": "completed"
    },
    "tags": []
   },
   "outputs": [],
   "source": [
    "# global_x_transform_func = lambda x: normalize(x.to(torch.get_default_dtype()), \"unit_power\") # unit_power, unit_mag\n",
    "# global_x_transform_func = lambda x: normalize(x, \"unit_power\") # unit_power, unit_mag"
   ]
  },
  {
   "cell_type": "code",
   "execution_count": 12,
   "id": "acb78fd2",
   "metadata": {
    "execution": {
     "iopub.execute_input": "2022-03-28T09:52:26.415470Z",
     "iopub.status.busy": "2022-03-28T09:52:26.414809Z",
     "iopub.status.idle": "2022-03-28T09:52:26.435474Z",
     "shell.execute_reply": "2022-03-28T09:52:26.434663Z"
    },
    "papermill": {
     "duration": 0.047489,
     "end_time": "2022-03-28T09:52:26.435643",
     "exception": false,
     "start_time": "2022-03-28T09:52:26.388154",
     "status": "completed"
    },
    "tags": []
   },
   "outputs": [],
   "source": [
    "def add_dataset(\n",
    "    labels,\n",
    "    domains,\n",
    "    pickle_path,\n",
    "    x_transforms,\n",
    "    episode_transforms,\n",
    "    domain_prefix,\n",
    "    num_examples_per_domain_per_label,\n",
    "    source_or_target_dataset:str,\n",
    "    iterator_seed=p.seed,\n",
    "    dataset_seed=p.dataset_seed,\n",
    "    n_shot=p.n_shot,\n",
    "    n_way=p.n_way,\n",
    "    n_query=p.n_query,\n",
    "    train_val_test_k_factors=(p.train_k_factor,p.val_k_factor,p.test_k_factor),\n",
    "):\n",
    "   \n",
    "    if x_transforms == []: x_transform = None\n",
    "    else: x_transform = get_chained_transform(x_transforms)\n",
    "    \n",
    "    if episode_transforms == []: episode_transform = None\n",
    "    else: raise Exception(\"episode_transforms not implemented\")\n",
    "    \n",
    "    episode_transform = lambda tup, _prefix=domain_prefix: (_prefix + str(tup[0]), tup[1])\n",
    "\n",
    "\n",
    "    eaf = Episodic_Accessor_Factory(\n",
    "        labels=labels,\n",
    "        domains=domains,\n",
    "        num_examples_per_domain_per_label=num_examples_per_domain_per_label,\n",
    "        iterator_seed=iterator_seed,\n",
    "        dataset_seed=dataset_seed,\n",
    "        n_shot=n_shot,\n",
    "        n_way=n_way,\n",
    "        n_query=n_query,\n",
    "        train_val_test_k_factors=train_val_test_k_factors,\n",
    "        pickle_path=pickle_path,\n",
    "        x_transform_func=x_transform,\n",
    "    )\n",
    "\n",
    "    train, val, test = eaf.get_train(), eaf.get_val(), eaf.get_test()\n",
    "    train = Lazy_Iterable_Wrapper(train, episode_transform)\n",
    "    val = Lazy_Iterable_Wrapper(val, episode_transform)\n",
    "    test = Lazy_Iterable_Wrapper(test, episode_transform)\n",
    "\n",
    "    if source_or_target_dataset==\"source\":\n",
    "        train_original_source.append(train)\n",
    "        val_original_source.append(val)\n",
    "        test_original_source.append(test)\n",
    "\n",
    "        p.domains_source.extend(\n",
    "            [domain_prefix + str(u) for u in domains]\n",
    "        )\n",
    "    elif source_or_target_dataset==\"target\":\n",
    "        train_original_target.append(train)\n",
    "        val_original_target.append(val)\n",
    "        test_original_target.append(test)\n",
    "        p.domains_target.extend(\n",
    "            [domain_prefix + str(u) for u in domains]\n",
    "        )\n",
    "    else:\n",
    "        raise Exception(f\"invalid source_or_target_dataset: {source_or_target_dataset}\")\n",
    "    "
   ]
  },
  {
   "cell_type": "code",
   "execution_count": 13,
   "id": "fe266617",
   "metadata": {
    "execution": {
     "iopub.execute_input": "2022-03-28T09:52:26.489936Z",
     "iopub.status.busy": "2022-03-28T09:52:26.487238Z",
     "iopub.status.idle": "2022-03-28T09:54:16.471885Z",
     "shell.execute_reply": "2022-03-28T09:54:16.471078Z"
    },
    "papermill": {
     "duration": 110.008528,
     "end_time": "2022-03-28T09:54:16.472067",
     "exception": false,
     "start_time": "2022-03-28T09:52:26.463539",
     "status": "completed"
    },
    "tags": []
   },
   "outputs": [],
   "source": [
    "for ds in p.datasets:\n",
    "    add_dataset(**ds)"
   ]
  },
  {
   "cell_type": "code",
   "execution_count": 14,
   "id": "b90d65ac",
   "metadata": {
    "execution": {
     "iopub.execute_input": "2022-03-28T09:54:16.522802Z",
     "iopub.status.busy": "2022-03-28T09:54:16.522158Z",
     "iopub.status.idle": "2022-03-28T09:54:16.549589Z",
     "shell.execute_reply": "2022-03-28T09:54:16.548787Z"
    },
    "papermill": {
     "duration": 0.052498,
     "end_time": "2022-03-28T09:54:16.549741",
     "exception": false,
     "start_time": "2022-03-28T09:54:16.497243",
     "status": "completed"
    },
    "tags": []
   },
   "outputs": [],
   "source": [
    "# from steves_utils.CORES.utils import (\n",
    "#     ALL_NODES,\n",
    "#     ALL_NODES_MINIMUM_1000_EXAMPLES,\n",
    "#     ALL_DAYS\n",
    "# )\n",
    "\n",
    "# add_dataset(\n",
    "#     labels=ALL_NODES,\n",
    "#     domains = ALL_DAYS,\n",
    "#     num_examples_per_domain_per_label=100,\n",
    "#     pickle_path=os.path.join(get_datasets_base_path(), \"cores.stratified_ds.2022A.pkl\"),\n",
    "#     source_or_target_dataset=\"target\",\n",
    "#     x_transform_func=global_x_transform_func,\n",
    "#     domain_modifier=lambda u: f\"cores_{u}\"\n",
    "# )"
   ]
  },
  {
   "cell_type": "code",
   "execution_count": 15,
   "id": "76db484d",
   "metadata": {
    "execution": {
     "iopub.execute_input": "2022-03-28T09:54:16.600072Z",
     "iopub.status.busy": "2022-03-28T09:54:16.599695Z",
     "iopub.status.idle": "2022-03-28T09:54:16.624110Z",
     "shell.execute_reply": "2022-03-28T09:54:16.623275Z"
    },
    "papermill": {
     "duration": 0.047853,
     "end_time": "2022-03-28T09:54:16.624260",
     "exception": false,
     "start_time": "2022-03-28T09:54:16.576407",
     "status": "completed"
    },
    "tags": []
   },
   "outputs": [],
   "source": [
    "# from steves_utils.ORACLE.utils_v2 import (\n",
    "#     ALL_DISTANCES_FEET,\n",
    "#     ALL_RUNS,\n",
    "#     ALL_SERIAL_NUMBERS,\n",
    "# )\n",
    "\n",
    "\n",
    "# add_dataset(\n",
    "#     labels=ALL_SERIAL_NUMBERS,\n",
    "#     domains = list(set(ALL_DISTANCES_FEET) - {2,62}),\n",
    "#     num_examples_per_domain_per_label=100,\n",
    "#     pickle_path=os.path.join(get_datasets_base_path(), \"oracle.Run2_framed_2000Examples_stratified_ds.2022A.pkl\"),\n",
    "#     source_or_target_dataset=\"source\",\n",
    "#     x_transform_func=global_x_transform_func,\n",
    "#     domain_modifier=lambda u: f\"oracle1_{u}\"\n",
    "# )\n"
   ]
  },
  {
   "cell_type": "code",
   "execution_count": 16,
   "id": "97dea9d2",
   "metadata": {
    "execution": {
     "iopub.execute_input": "2022-03-28T09:54:16.675601Z",
     "iopub.status.busy": "2022-03-28T09:54:16.674411Z",
     "iopub.status.idle": "2022-03-28T09:54:16.697360Z",
     "shell.execute_reply": "2022-03-28T09:54:16.696560Z"
    },
    "papermill": {
     "duration": 0.046035,
     "end_time": "2022-03-28T09:54:16.697509",
     "exception": false,
     "start_time": "2022-03-28T09:54:16.651474",
     "status": "completed"
    },
    "tags": []
   },
   "outputs": [],
   "source": [
    "# from steves_utils.ORACLE.utils_v2 import (\n",
    "#     ALL_DISTANCES_FEET,\n",
    "#     ALL_RUNS,\n",
    "#     ALL_SERIAL_NUMBERS,\n",
    "# )\n",
    "\n",
    "\n",
    "# add_dataset(\n",
    "#     labels=ALL_SERIAL_NUMBERS,\n",
    "#     domains = list(set(ALL_DISTANCES_FEET) - {2,62,56}),\n",
    "#     num_examples_per_domain_per_label=100,\n",
    "#     pickle_path=os.path.join(get_datasets_base_path(), \"oracle.Run2_framed_2000Examples_stratified_ds.2022A.pkl\"),\n",
    "#     source_or_target_dataset=\"source\",\n",
    "#     x_transform_func=global_x_transform_func,\n",
    "#     domain_modifier=lambda u: f\"oracle2_{u}\"\n",
    "# )"
   ]
  },
  {
   "cell_type": "code",
   "execution_count": 17,
   "id": "6f289866",
   "metadata": {
    "execution": {
     "iopub.execute_input": "2022-03-28T09:54:16.748420Z",
     "iopub.status.busy": "2022-03-28T09:54:16.747349Z",
     "iopub.status.idle": "2022-03-28T09:54:16.769037Z",
     "shell.execute_reply": "2022-03-28T09:54:16.768257Z"
    },
    "papermill": {
     "duration": 0.045401,
     "end_time": "2022-03-28T09:54:16.769185",
     "exception": false,
     "start_time": "2022-03-28T09:54:16.723784",
     "status": "completed"
    },
    "tags": []
   },
   "outputs": [],
   "source": [
    "# add_dataset(\n",
    "#     labels=list(range(19)),\n",
    "#     domains = [0,1,2],\n",
    "#     num_examples_per_domain_per_label=100,\n",
    "#     pickle_path=os.path.join(get_datasets_base_path(), \"metehan.stratified_ds.2022A.pkl\"),\n",
    "#     source_or_target_dataset=\"target\",\n",
    "#     x_transform_func=global_x_transform_func,\n",
    "#     domain_modifier=lambda u: f\"met_{u}\"\n",
    "# )"
   ]
  },
  {
   "cell_type": "code",
   "execution_count": 18,
   "id": "86a863c3",
   "metadata": {
    "execution": {
     "iopub.execute_input": "2022-03-28T09:54:16.821940Z",
     "iopub.status.busy": "2022-03-28T09:54:16.821567Z",
     "iopub.status.idle": "2022-03-28T09:54:16.838449Z",
     "shell.execute_reply": "2022-03-28T09:54:16.837648Z"
    },
    "papermill": {
     "duration": 0.040175,
     "end_time": "2022-03-28T09:54:16.838599",
     "exception": false,
     "start_time": "2022-03-28T09:54:16.798424",
     "status": "completed"
    },
    "tags": []
   },
   "outputs": [],
   "source": [
    "# # from steves_utils.wisig.utils import (\n",
    "# #     ALL_NODES_MINIMUM_100_EXAMPLES,\n",
    "# #     ALL_NODES_MINIMUM_500_EXAMPLES,\n",
    "# #     ALL_NODES_MINIMUM_1000_EXAMPLES,\n",
    "# #     ALL_DAYS\n",
    "# # )\n",
    "\n",
    "# import steves_utils.wisig.utils as wisig\n",
    "\n",
    "\n",
    "# add_dataset(\n",
    "#     labels=wisig.ALL_NODES_MINIMUM_100_EXAMPLES,\n",
    "#     domains = wisig.ALL_DAYS,\n",
    "#     num_examples_per_domain_per_label=100,\n",
    "#     pickle_path=os.path.join(get_datasets_base_path(), \"wisig.node3-19.stratified_ds.2022A.pkl\"),\n",
    "#     source_or_target_dataset=\"target\",\n",
    "#     x_transform_func=global_x_transform_func,\n",
    "#     domain_modifier=lambda u: f\"wisig_{u}\"\n",
    "# )"
   ]
  },
  {
   "cell_type": "code",
   "execution_count": 19,
   "id": "fd5442bc",
   "metadata": {
    "execution": {
     "iopub.execute_input": "2022-03-28T09:54:16.900565Z",
     "iopub.status.busy": "2022-03-28T09:54:16.899746Z",
     "iopub.status.idle": "2022-03-28T09:54:16.920071Z",
     "shell.execute_reply": "2022-03-28T09:54:16.919672Z"
    },
    "papermill": {
     "duration": 0.053755,
     "end_time": "2022-03-28T09:54:16.920160",
     "exception": false,
     "start_time": "2022-03-28T09:54:16.866405",
     "status": "completed"
    },
    "tags": []
   },
   "outputs": [],
   "source": [
    "###################################\n",
    "# Build the dataset\n",
    "###################################\n",
    "train_original_source = Iterable_Aggregator(train_original_source, p.seed)\n",
    "val_original_source = Iterable_Aggregator(val_original_source, p.seed)\n",
    "test_original_source = Iterable_Aggregator(test_original_source, p.seed)\n",
    "\n",
    "\n",
    "train_original_target = Iterable_Aggregator(train_original_target, p.seed)\n",
    "val_original_target = Iterable_Aggregator(val_original_target, p.seed)\n",
    "test_original_target = Iterable_Aggregator(test_original_target, p.seed)\n",
    "\n",
    "# For CNN We only use X and Y. And we only train on the source.\n",
    "# Properly form the data using a transform lambda and Lazy_Iterable_Wrapper. Finally wrap them in a dataloader\n",
    "\n",
    "transform_lambda = lambda ex: ex[1] # Original is (<domain>, <episode>) so we strip down to episode only\n",
    "\n",
    "train_processed_source = Lazy_Iterable_Wrapper(train_original_source, transform_lambda)\n",
    "val_processed_source   = Lazy_Iterable_Wrapper(val_original_source, transform_lambda)\n",
    "test_processed_source  = Lazy_Iterable_Wrapper(test_original_source, transform_lambda)\n",
    "\n",
    "train_processed_target = Lazy_Iterable_Wrapper(train_original_target, transform_lambda)\n",
    "val_processed_target   = Lazy_Iterable_Wrapper(val_original_target, transform_lambda)\n",
    "test_processed_target  = Lazy_Iterable_Wrapper(test_original_target, transform_lambda)\n",
    "\n",
    "datasets = EasyDict({\n",
    "    \"source\": {\n",
    "        \"original\": {\"train\":train_original_source, \"val\":val_original_source, \"test\":test_original_source},\n",
    "        \"processed\": {\"train\":train_processed_source, \"val\":val_processed_source, \"test\":test_processed_source}\n",
    "    },\n",
    "    \"target\": {\n",
    "        \"original\": {\"train\":train_original_target, \"val\":val_original_target, \"test\":test_original_target},\n",
    "        \"processed\": {\"train\":train_processed_target, \"val\":val_processed_target, \"test\":test_processed_target}\n",
    "    },\n",
    "})"
   ]
  },
  {
   "cell_type": "code",
   "execution_count": 20,
   "id": "5b3c01fc",
   "metadata": {
    "execution": {
     "iopub.execute_input": "2022-03-28T09:54:16.965317Z",
     "iopub.status.busy": "2022-03-28T09:54:16.964758Z",
     "iopub.status.idle": "2022-03-28T09:54:30.690902Z",
     "shell.execute_reply": "2022-03-28T09:54:30.691635Z"
    },
    "papermill": {
     "duration": 13.75054,
     "end_time": "2022-03-28T09:54:30.691867",
     "exception": false,
     "start_time": "2022-03-28T09:54:16.941327",
     "status": "completed"
    },
    "tags": []
   },
   "outputs": [
    {
     "name": "stdout",
     "output_type": "stream",
     "text": [
      "{'O_44', 'O_8', 'O_38', 'O_20', 'O_32', 'O_50', 'O_26', 'O_14'}\n"
     ]
    },
    {
     "name": "stdout",
     "output_type": "stream",
     "text": [
      "{'C_2', 'C_5', 'C_3', 'C_4', 'C_1'}\n"
     ]
    },
    {
     "name": "stdout",
     "output_type": "stream",
     "text": [
      "tensor([[[0., 0., 0.,  ..., 0., 0., 0.],\n",
      "         [0., 0., 0.,  ..., 0., 0., 0.]],\n",
      "\n",
      "        [[0., 0., 0.,  ..., 0., 0., 0.],\n",
      "         [0., 0., 0.,  ..., 0., 0., 0.]],\n",
      "\n",
      "        [[0., 0., 0.,  ..., 0., 0., 0.],\n",
      "         [0., 0., 0.,  ..., 0., 0., 0.]],\n",
      "\n",
      "        ...,\n",
      "\n",
      "        [[0., 0., 0.,  ..., 0., 0., 0.],\n",
      "         [0., 0., 0.,  ..., 0., 0., 0.]],\n",
      "\n",
      "        [[0., 0., 0.,  ..., 0., 0., 0.],\n",
      "         [0., 0., 0.,  ..., 0., 0., 0.]],\n",
      "\n",
      "        [[0., 0., 0.,  ..., 0., 0., 0.],\n",
      "         [0., 0., 0.,  ..., 0., 0., 0.]]])\n"
     ]
    }
   ],
   "source": [
    "from steves_utils.transforms import get_average_magnitude, get_average_power\n",
    "\n",
    "print(set([u for u,_ in val_original_source]))\n",
    "print(set([u for u,_ in val_original_target]))\n",
    "\n",
    "s_x, s_y, q_x, q_y, _ = next(iter(train_processed_source))\n",
    "print(s_x)\n",
    "\n",
    "# for ds in [\n",
    "#     train_processed_source,\n",
    "#     val_processed_source,\n",
    "#     test_processed_source,\n",
    "#     train_processed_target,\n",
    "#     val_processed_target,\n",
    "#     test_processed_target\n",
    "# ]:\n",
    "#     for s_x, s_y, q_x, q_y, _ in ds:\n",
    "#         for X in (s_x, q_x):\n",
    "#             for x in X:\n",
    "#                 assert np.isclose(get_average_magnitude(x.numpy()), 1.0)\n",
    "#                 assert np.isclose(get_average_power(x.numpy()), 1.0)\n",
    "                "
   ]
  },
  {
   "cell_type": "code",
   "execution_count": 21,
   "id": "bbdacba1",
   "metadata": {
    "execution": {
     "iopub.execute_input": "2022-03-28T09:54:30.746684Z",
     "iopub.status.busy": "2022-03-28T09:54:30.746295Z",
     "iopub.status.idle": "2022-03-28T09:54:30.884365Z",
     "shell.execute_reply": "2022-03-28T09:54:30.884902Z"
    },
    "papermill": {
     "duration": 0.166178,
     "end_time": "2022-03-28T09:54:30.885097",
     "exception": false,
     "start_time": "2022-03-28T09:54:30.718919",
     "status": "completed"
    },
    "tags": []
   },
   "outputs": [
    {
     "name": "stdout",
     "output_type": "stream",
     "text": [
      "(2, 256)\n"
     ]
    }
   ],
   "source": [
    "###################################\n",
    "# Build the model\n",
    "###################################\n",
    "# easfsl only wants a tuple for the shape\n",
    "model = Steves_Prototypical_Network(x_net, device=p.device, x_shape=tuple(p.x_shape))\n",
    "optimizer = Adam(params=model.parameters(), lr=p.lr)"
   ]
  },
  {
   "cell_type": "code",
   "execution_count": 22,
   "id": "22b39ac5",
   "metadata": {
    "execution": {
     "iopub.execute_input": "2022-03-28T09:54:30.942048Z",
     "iopub.status.busy": "2022-03-28T09:54:30.941666Z",
     "iopub.status.idle": "2022-03-28T10:09:19.235059Z",
     "shell.execute_reply": "2022-03-28T10:09:19.234713Z"
    },
    "papermill": {
     "duration": 888.321916,
     "end_time": "2022-03-28T10:09:19.235144",
     "exception": false,
     "start_time": "2022-03-28T09:54:30.913228",
     "status": "completed"
    },
    "tags": []
   },
   "outputs": [
    {
     "name": "stdout",
     "output_type": "stream",
     "text": [
      "epoch: 1, [batch: 1 / 6720], examples_per_second: 32.9826, train_label_loss: 2.7917, \n"
     ]
    },
    {
     "name": "stdout",
     "output_type": "stream",
     "text": [
      "epoch: 1, [batch: 672 / 6720], examples_per_second: 3826.0862, train_label_loss: 2.8238, \n"
     ]
    },
    {
     "name": "stdout",
     "output_type": "stream",
     "text": [
      "epoch: 1, [batch: 1344 / 6720], examples_per_second: 3904.5836, train_label_loss: 2.7583, \n"
     ]
    },
    {
     "name": "stdout",
     "output_type": "stream",
     "text": [
      "epoch: 1, [batch: 2016 / 6720], examples_per_second: 3901.4136, train_label_loss: 2.2122, \n"
     ]
    },
    {
     "name": "stdout",
     "output_type": "stream",
     "text": [
      "epoch: 1, [batch: 2688 / 6720], examples_per_second: 3907.6439, train_label_loss: 1.5773, \n"
     ]
    },
    {
     "name": "stdout",
     "output_type": "stream",
     "text": [
      "epoch: 1, [batch: 3360 / 6720], examples_per_second: 3913.0575, train_label_loss: 1.2293, \n"
     ]
    },
    {
     "name": "stdout",
     "output_type": "stream",
     "text": [
      "epoch: 1, [batch: 4032 / 6720], examples_per_second: 3952.1733, train_label_loss: 2.0578, \n"
     ]
    },
    {
     "name": "stdout",
     "output_type": "stream",
     "text": [
      "epoch: 1, [batch: 4704 / 6720], examples_per_second: 3888.0236, train_label_loss: 1.4188, \n"
     ]
    },
    {
     "name": "stdout",
     "output_type": "stream",
     "text": [
      "epoch: 1, [batch: 5376 / 6720], examples_per_second: 3976.0707, train_label_loss: 2.0375, \n"
     ]
    },
    {
     "name": "stdout",
     "output_type": "stream",
     "text": [
      "epoch: 1, [batch: 6048 / 6720], examples_per_second: 3932.7640, train_label_loss: 0.6719, \n"
     ]
    },
    {
     "name": "stdout",
     "output_type": "stream",
     "text": [
      "=============================================================\n",
      "epoch: 1, source_val_acc_label: 0.6342, target_val_acc_label: 0.9111, source_val_label_loss: 1.1105, target_val_label_loss: 2.3060, \n",
      "=============================================================\n"
     ]
    },
    {
     "name": "stdout",
     "output_type": "stream",
     "text": [
      "New best\n"
     ]
    },
    {
     "name": "stdout",
     "output_type": "stream",
     "text": [
      "epoch: 2, [batch: 1 / 6720], examples_per_second: 4.5212, train_label_loss: 1.3788, \n"
     ]
    },
    {
     "name": "stdout",
     "output_type": "stream",
     "text": [
      "epoch: 2, [batch: 672 / 6720], examples_per_second: 3868.8598, train_label_loss: 1.1915, \n"
     ]
    },
    {
     "name": "stdout",
     "output_type": "stream",
     "text": [
      "epoch: 2, [batch: 1344 / 6720], examples_per_second: 3944.9516, train_label_loss: 1.0117, \n"
     ]
    },
    {
     "name": "stdout",
     "output_type": "stream",
     "text": [
      "epoch: 2, [batch: 2016 / 6720], examples_per_second: 3958.3210, train_label_loss: 0.6856, \n"
     ]
    },
    {
     "name": "stdout",
     "output_type": "stream",
     "text": [
      "epoch: 2, [batch: 2688 / 6720], examples_per_second: 3828.5270, train_label_loss: 0.9608, \n"
     ]
    },
    {
     "name": "stdout",
     "output_type": "stream",
     "text": [
      "epoch: 2, [batch: 3360 / 6720], examples_per_second: 3874.1054, train_label_loss: 0.8659, \n"
     ]
    },
    {
     "name": "stdout",
     "output_type": "stream",
     "text": [
      "epoch: 2, [batch: 4032 / 6720], examples_per_second: 3978.7281, train_label_loss: 0.6697, \n"
     ]
    },
    {
     "name": "stdout",
     "output_type": "stream",
     "text": [
      "epoch: 2, [batch: 4704 / 6720], examples_per_second: 3898.2793, train_label_loss: 0.9116, \n"
     ]
    },
    {
     "name": "stdout",
     "output_type": "stream",
     "text": [
      "epoch: 2, [batch: 5376 / 6720], examples_per_second: 3909.2168, train_label_loss: 1.3948, \n"
     ]
    },
    {
     "name": "stdout",
     "output_type": "stream",
     "text": [
      "epoch: 2, [batch: 6048 / 6720], examples_per_second: 3891.9256, train_label_loss: 0.8325, \n"
     ]
    },
    {
     "name": "stdout",
     "output_type": "stream",
     "text": [
      "=============================================================\n",
      "epoch: 2, source_val_acc_label: 0.6411, target_val_acc_label: 0.9486, source_val_label_loss: 0.9522, target_val_label_loss: 0.3896, \n",
      "=============================================================\n"
     ]
    },
    {
     "name": "stdout",
     "output_type": "stream",
     "text": [
      "New best\n"
     ]
    },
    {
     "name": "stdout",
     "output_type": "stream",
     "text": [
      "epoch: 3, [batch: 1 / 6720], examples_per_second: 4.4412, train_label_loss: 0.6569, \n"
     ]
    },
    {
     "name": "stdout",
     "output_type": "stream",
     "text": [
      "epoch: 3, [batch: 672 / 6720], examples_per_second: 3915.5587, train_label_loss: 1.3079, \n"
     ]
    },
    {
     "name": "stdout",
     "output_type": "stream",
     "text": [
      "epoch: 3, [batch: 1344 / 6720], examples_per_second: 3881.2467, train_label_loss: 1.3268, \n"
     ]
    },
    {
     "name": "stdout",
     "output_type": "stream",
     "text": [
      "epoch: 3, [batch: 2016 / 6720], examples_per_second: 3867.6908, train_label_loss: 0.9347, \n"
     ]
    },
    {
     "name": "stdout",
     "output_type": "stream",
     "text": [
      "epoch: 3, [batch: 2688 / 6720], examples_per_second: 3885.1595, train_label_loss: 0.8007, \n"
     ]
    },
    {
     "name": "stdout",
     "output_type": "stream",
     "text": [
      "epoch: 3, [batch: 3360 / 6720], examples_per_second: 3825.8429, train_label_loss: 0.9080, \n"
     ]
    },
    {
     "name": "stdout",
     "output_type": "stream",
     "text": [
      "epoch: 3, [batch: 4032 / 6720], examples_per_second: 3802.6171, train_label_loss: 0.6771, \n"
     ]
    },
    {
     "name": "stdout",
     "output_type": "stream",
     "text": [
      "epoch: 3, [batch: 4704 / 6720], examples_per_second: 3939.6953, train_label_loss: 0.5998, \n"
     ]
    },
    {
     "name": "stdout",
     "output_type": "stream",
     "text": [
      "epoch: 3, [batch: 5376 / 6720], examples_per_second: 3880.7514, train_label_loss: 0.8151, \n"
     ]
    },
    {
     "name": "stdout",
     "output_type": "stream",
     "text": [
      "epoch: 3, [batch: 6048 / 6720], examples_per_second: 3821.1930, train_label_loss: 0.7397, \n"
     ]
    },
    {
     "name": "stdout",
     "output_type": "stream",
     "text": [
      "=============================================================\n",
      "epoch: 3, source_val_acc_label: 0.6441, target_val_acc_label: 0.9459, source_val_label_loss: 0.9330, target_val_label_loss: 0.3713, \n",
      "=============================================================\n"
     ]
    },
    {
     "name": "stdout",
     "output_type": "stream",
     "text": [
      "epoch: 4, [batch: 1 / 6720], examples_per_second: 4.3573, train_label_loss: 1.0530, \n"
     ]
    },
    {
     "name": "stdout",
     "output_type": "stream",
     "text": [
      "epoch: 4, [batch: 672 / 6720], examples_per_second: 4326.7193, train_label_loss: 1.2104, \n"
     ]
    },
    {
     "name": "stdout",
     "output_type": "stream",
     "text": [
      "epoch: 4, [batch: 1344 / 6720], examples_per_second: 4427.9802, train_label_loss: 0.6133, \n"
     ]
    },
    {
     "name": "stdout",
     "output_type": "stream",
     "text": [
      "epoch: 4, [batch: 2016 / 6720], examples_per_second: 4560.7970, train_label_loss: 0.5810, \n"
     ]
    },
    {
     "name": "stdout",
     "output_type": "stream",
     "text": [
      "epoch: 4, [batch: 2688 / 6720], examples_per_second: 4281.7784, train_label_loss: 1.2863, \n"
     ]
    },
    {
     "name": "stdout",
     "output_type": "stream",
     "text": [
      "epoch: 4, [batch: 3360 / 6720], examples_per_second: 4202.9787, train_label_loss: 1.2245, \n"
     ]
    },
    {
     "name": "stdout",
     "output_type": "stream",
     "text": [
      "epoch: 4, [batch: 4032 / 6720], examples_per_second: 4434.1717, train_label_loss: 0.7356, \n"
     ]
    },
    {
     "name": "stdout",
     "output_type": "stream",
     "text": [
      "epoch: 4, [batch: 4704 / 6720], examples_per_second: 5291.3331, train_label_loss: 0.6083, \n"
     ]
    },
    {
     "name": "stdout",
     "output_type": "stream",
     "text": [
      "epoch: 4, [batch: 5376 / 6720], examples_per_second: 5379.8030, train_label_loss: 0.9046, \n"
     ]
    },
    {
     "name": "stdout",
     "output_type": "stream",
     "text": [
      "epoch: 4, [batch: 6048 / 6720], examples_per_second: 5403.8840, train_label_loss: 0.8296, \n"
     ]
    },
    {
     "name": "stdout",
     "output_type": "stream",
     "text": [
      "=============================================================\n",
      "epoch: 4, source_val_acc_label: 0.6751, target_val_acc_label: 0.9486, source_val_label_loss: 0.8597, target_val_label_loss: 0.3467, \n",
      "=============================================================\n"
     ]
    },
    {
     "name": "stdout",
     "output_type": "stream",
     "text": [
      "epoch: 5, [batch: 1 / 6720], examples_per_second: 5.5005, train_label_loss: 0.5914, \n"
     ]
    },
    {
     "name": "stdout",
     "output_type": "stream",
     "text": [
      "epoch: 5, [batch: 672 / 6720], examples_per_second: 4695.4476, train_label_loss: 1.0478, \n"
     ]
    },
    {
     "name": "stdout",
     "output_type": "stream",
     "text": [
      "epoch: 5, [batch: 1344 / 6720], examples_per_second: 4931.2560, train_label_loss: 0.7204, \n"
     ]
    },
    {
     "name": "stdout",
     "output_type": "stream",
     "text": [
      "epoch: 5, [batch: 2016 / 6720], examples_per_second: 4941.0272, train_label_loss: 0.8892, \n"
     ]
    },
    {
     "name": "stdout",
     "output_type": "stream",
     "text": [
      "epoch: 5, [batch: 2688 / 6720], examples_per_second: 4968.1720, train_label_loss: 1.1393, \n"
     ]
    },
    {
     "name": "stdout",
     "output_type": "stream",
     "text": [
      "epoch: 5, [batch: 3360 / 6720], examples_per_second: 4924.3204, train_label_loss: 0.8477, \n"
     ]
    },
    {
     "name": "stdout",
     "output_type": "stream",
     "text": [
      "epoch: 5, [batch: 4032 / 6720], examples_per_second: 5232.8578, train_label_loss: 0.7961, \n"
     ]
    },
    {
     "name": "stdout",
     "output_type": "stream",
     "text": [
      "epoch: 5, [batch: 4704 / 6720], examples_per_second: 5357.4862, train_label_loss: 0.8964, \n"
     ]
    },
    {
     "name": "stdout",
     "output_type": "stream",
     "text": [
      "epoch: 5, [batch: 5376 / 6720], examples_per_second: 5416.9102, train_label_loss: 0.8698, \n"
     ]
    },
    {
     "name": "stdout",
     "output_type": "stream",
     "text": [
      "epoch: 5, [batch: 6048 / 6720], examples_per_second: 5426.0733, train_label_loss: 0.4565, \n"
     ]
    },
    {
     "name": "stdout",
     "output_type": "stream",
     "text": [
      "=============================================================\n",
      "epoch: 5, source_val_acc_label: 0.6851, target_val_acc_label: 0.9386, source_val_label_loss: 0.8454, target_val_label_loss: 0.4400, \n",
      "=============================================================\n"
     ]
    },
    {
     "name": "stdout",
     "output_type": "stream",
     "text": [
      "epoch: 6, [batch: 1 / 6720], examples_per_second: 5.5383, train_label_loss: 0.5125, \n"
     ]
    },
    {
     "name": "stdout",
     "output_type": "stream",
     "text": [
      "epoch: 6, [batch: 672 / 6720], examples_per_second: 5048.7928, train_label_loss: 0.6594, \n"
     ]
    },
    {
     "name": "stdout",
     "output_type": "stream",
     "text": [
      "epoch: 6, [batch: 1344 / 6720], examples_per_second: 5022.1116, train_label_loss: 1.1777, \n"
     ]
    },
    {
     "name": "stdout",
     "output_type": "stream",
     "text": [
      "epoch: 6, [batch: 2016 / 6720], examples_per_second: 5385.6215, train_label_loss: 1.1865, \n"
     ]
    },
    {
     "name": "stdout",
     "output_type": "stream",
     "text": [
      "epoch: 6, [batch: 2688 / 6720], examples_per_second: 5002.6311, train_label_loss: 0.5040, \n"
     ]
    },
    {
     "name": "stdout",
     "output_type": "stream",
     "text": [
      "epoch: 6, [batch: 3360 / 6720], examples_per_second: 3898.2445, train_label_loss: 0.5228, \n"
     ]
    },
    {
     "name": "stdout",
     "output_type": "stream",
     "text": [
      "epoch: 6, [batch: 4032 / 6720], examples_per_second: 3792.6114, train_label_loss: 0.8850, \n"
     ]
    },
    {
     "name": "stdout",
     "output_type": "stream",
     "text": [
      "epoch: 6, [batch: 4704 / 6720], examples_per_second: 3876.0935, train_label_loss: 0.7041, \n"
     ]
    },
    {
     "name": "stdout",
     "output_type": "stream",
     "text": [
      "epoch: 6, [batch: 5376 / 6720], examples_per_second: 4032.0649, train_label_loss: 1.3423, \n"
     ]
    },
    {
     "name": "stdout",
     "output_type": "stream",
     "text": [
      "epoch: 6, [batch: 6048 / 6720], examples_per_second: 3966.1261, train_label_loss: 0.7444, \n"
     ]
    },
    {
     "name": "stdout",
     "output_type": "stream",
     "text": [
      "=============================================================\n",
      "epoch: 6, source_val_acc_label: 0.7026, target_val_acc_label: 0.9355, source_val_label_loss: 0.7903, target_val_label_loss: 0.5720, \n",
      "=============================================================\n"
     ]
    },
    {
     "name": "stdout",
     "output_type": "stream",
     "text": [
      "Patience (3) exhausted\n"
     ]
    }
   ],
   "source": [
    "###################################\n",
    "# train\n",
    "###################################\n",
    "jig = PTN_Train_Eval_Test_Jig(model, p.BEST_MODEL_PATH, p.device)\n",
    "\n",
    "jig.train(\n",
    "    train_iterable=datasets.source.processed.train,\n",
    "    source_val_iterable=datasets.source.processed.val,\n",
    "    target_val_iterable=datasets.target.processed.val,\n",
    "    num_epochs=p.n_epoch,\n",
    "    num_logs_per_epoch=p.NUM_LOGS_PER_EPOCH,\n",
    "    patience=p.patience,\n",
    "    optimizer=optimizer,\n",
    "    criteria_for_best=p.criteria_for_best,\n",
    ")"
   ]
  },
  {
   "cell_type": "code",
   "execution_count": 23,
   "id": "31e8fabf",
   "metadata": {
    "execution": {
     "iopub.execute_input": "2022-03-28T10:09:19.321612Z",
     "iopub.status.busy": "2022-03-28T10:09:19.321240Z",
     "iopub.status.idle": "2022-03-28T10:09:19.355044Z",
     "shell.execute_reply": "2022-03-28T10:09:19.354331Z"
    },
    "papermill": {
     "duration": 0.079465,
     "end_time": "2022-03-28T10:09:19.355211",
     "exception": false,
     "start_time": "2022-03-28T10:09:19.275746",
     "status": "completed"
    },
    "tags": []
   },
   "outputs": [],
   "source": [
    "total_experiment_time_secs = time.time() - start_time_secs"
   ]
  },
  {
   "cell_type": "code",
   "execution_count": 24,
   "id": "87b9595b",
   "metadata": {
    "execution": {
     "iopub.execute_input": "2022-03-28T10:09:19.449801Z",
     "iopub.status.busy": "2022-03-28T10:09:19.449136Z",
     "iopub.status.idle": "2022-03-28T10:11:58.193333Z",
     "shell.execute_reply": "2022-03-28T10:11:58.192452Z"
    },
    "papermill": {
     "duration": 158.790618,
     "end_time": "2022-03-28T10:11:58.193511",
     "exception": false,
     "start_time": "2022-03-28T10:09:19.402893",
     "status": "completed"
    },
    "tags": []
   },
   "outputs": [],
   "source": [
    "###################################\n",
    "# Evaluate the model\n",
    "###################################\n",
    "source_test_label_accuracy, source_test_label_loss = jig.test(datasets.source.processed.test)\n",
    "target_test_label_accuracy, target_test_label_loss = jig.test(datasets.target.processed.test)\n",
    "\n",
    "source_val_label_accuracy, source_val_label_loss = jig.test(datasets.source.processed.val)\n",
    "target_val_label_accuracy, target_val_label_loss = jig.test(datasets.target.processed.val)\n",
    "\n",
    "history = jig.get_history()\n",
    "\n",
    "total_epochs_trained = len(history[\"epoch_indices\"])\n",
    "\n",
    "val_dl = Iterable_Aggregator((datasets.source.original.val,datasets.target.original.val))\n",
    "\n",
    "confusion = ptn_confusion_by_domain_over_dataloader(model, p.device, val_dl)\n",
    "per_domain_accuracy = per_domain_accuracy_from_confusion(confusion)\n",
    "\n",
    "# Add a key to per_domain_accuracy for if it was a source domain\n",
    "for domain, accuracy in per_domain_accuracy.items():\n",
    "    per_domain_accuracy[domain] = {\n",
    "        \"accuracy\": accuracy,\n",
    "        \"source?\": domain in p.domains_source\n",
    "    }\n",
    "\n",
    "# Do an independent accuracy assesment JUST TO BE SURE!\n",
    "# _source_test_label_accuracy = independent_accuracy_assesment(model, datasets.source.processed.test, p.device)\n",
    "# _target_test_label_accuracy = independent_accuracy_assesment(model, datasets.target.processed.test, p.device)\n",
    "# _source_val_label_accuracy = independent_accuracy_assesment(model, datasets.source.processed.val, p.device)\n",
    "# _target_val_label_accuracy = independent_accuracy_assesment(model, datasets.target.processed.val, p.device)\n",
    "\n",
    "# assert(_source_test_label_accuracy == source_test_label_accuracy)\n",
    "# assert(_target_test_label_accuracy == target_test_label_accuracy)\n",
    "# assert(_source_val_label_accuracy == source_val_label_accuracy)\n",
    "# assert(_target_val_label_accuracy == target_val_label_accuracy)\n",
    "\n",
    "experiment = {\n",
    "    \"experiment_name\": p.experiment_name,\n",
    "    \"parameters\": dict(p),\n",
    "    \"results\": {\n",
    "        \"source_test_label_accuracy\": source_test_label_accuracy,\n",
    "        \"source_test_label_loss\": source_test_label_loss,\n",
    "        \"target_test_label_accuracy\": target_test_label_accuracy,\n",
    "        \"target_test_label_loss\": target_test_label_loss,\n",
    "        \"source_val_label_accuracy\": source_val_label_accuracy,\n",
    "        \"source_val_label_loss\": source_val_label_loss,\n",
    "        \"target_val_label_accuracy\": target_val_label_accuracy,\n",
    "        \"target_val_label_loss\": target_val_label_loss,\n",
    "        \"total_epochs_trained\": total_epochs_trained,\n",
    "        \"total_experiment_time_secs\": total_experiment_time_secs,\n",
    "        \"confusion\": confusion,\n",
    "        \"per_domain_accuracy\": per_domain_accuracy,\n",
    "    },\n",
    "    \"history\": history,\n",
    "    \"dataset_metrics\": get_dataset_metrics(datasets, \"ptn\"),\n",
    "}"
   ]
  },
  {
   "cell_type": "code",
   "execution_count": 25,
   "id": "54a21829",
   "metadata": {
    "execution": {
     "iopub.execute_input": "2022-03-28T10:11:58.286258Z",
     "iopub.status.busy": "2022-03-28T10:11:58.285890Z",
     "iopub.status.idle": "2022-03-28T10:11:58.513363Z",
     "shell.execute_reply": "2022-03-28T10:11:58.512671Z"
    },
    "papermill": {
     "duration": 0.272773,
     "end_time": "2022-03-28T10:11:58.513527",
     "exception": false,
     "start_time": "2022-03-28T10:11:58.240754",
     "status": "completed"
    },
    "tags": []
   },
   "outputs": [
    {
     "data": {
      "image/png": "[encoded data removed]",
      "text/plain": [
       "<Figure size 1080x504 with 1 Axes>"
      ]
     },
     "metadata": {
      "needs_background": "light"
     },
     "output_type": "display_data"
    }
   ],
   "source": [
    "ax = get_loss_curve(experiment)\n",
    "plt.show()"
   ]
  },
  {
   "cell_type": "code",
   "execution_count": 26,
   "id": "fd8a0f60",
   "metadata": {
    "execution": {
     "iopub.execute_input": "2022-03-28T10:11:58.604702Z",
     "iopub.status.busy": "2022-03-28T10:11:58.604337Z",
     "iopub.status.idle": "2022-03-28T10:11:58.961288Z",
     "shell.execute_reply": "2022-03-28T10:11:58.960902Z"
    },
    "papermill": {
     "duration": 0.402419,
     "end_time": "2022-03-28T10:11:58.961362",
     "exception": false,
     "start_time": "2022-03-28T10:11:58.558943",
     "status": "completed"
    },
    "tags": []
   },
   "outputs": [
    {
     "data": {
      "text/plain": [
       "<AxesSubplot:title={'center':'Results'}>"
      ]
     },
     "execution_count": 26,
     "metadata": {},
     "output_type": "execute_result"
    },
    {
     "data": {
      "image/png": "[encoded data removed]",
      "text/plain": [
       "<Figure size 1080x504 with 1 Axes>"
      ]
     },
     "metadata": {
      "needs_background": "light"
     },
     "output_type": "display_data"
    }
   ],
   "source": [
    "get_results_table(experiment)"
   ]
  },
  {
   "cell_type": "code",
   "execution_count": 27,
   "id": "cf8dc689",
   "metadata": {
    "execution": {
     "iopub.execute_input": "2022-03-28T10:11:59.052049Z",
     "iopub.status.busy": "2022-03-28T10:11:59.051667Z",
     "iopub.status.idle": "2022-03-28T10:11:59.292914Z",
     "shell.execute_reply": "2022-03-28T10:11:59.292078Z"
    },
    "papermill": {
     "duration": 0.288126,
     "end_time": "2022-03-28T10:11:59.293070",
     "exception": false,
     "start_time": "2022-03-28T10:11:59.004944",
     "status": "completed"
    },
    "tags": []
   },
   "outputs": [
    {
     "data": {
      "text/plain": [
       "<AxesSubplot:title={'center':'Per Domain Validation Accuracy'}, xlabel='domain'>"
      ]
     },
     "execution_count": 27,
     "metadata": {},
     "output_type": "execute_result"
    },
    {
     "data": {
      "image/png": "[encoded data removed]",
      "text/plain": [
       "<Figure size 1080x504 with 1 Axes>"
      ]
     },
     "metadata": {
      "needs_background": "light"
     },
     "output_type": "display_data"
    }
   ],
   "source": [
    "get_domain_accuracies(experiment)"
   ]
  },
  {
   "cell_type": "code",
   "execution_count": 28,
   "id": "a74ae082",
   "metadata": {
    "execution": {
     "iopub.execute_input": "2022-03-28T10:11:59.391674Z",
     "iopub.status.busy": "2022-03-28T10:11:59.391288Z",
     "iopub.status.idle": "2022-03-28T10:11:59.419560Z",
     "shell.execute_reply": "2022-03-28T10:11:59.418728Z"
    },
    "papermill": {
     "duration": 0.07754,
     "end_time": "2022-03-28T10:11:59.419723",
     "exception": false,
     "start_time": "2022-03-28T10:11:59.342183",
     "status": "completed"
    },
    "tags": []
   },
   "outputs": [
    {
     "name": "stdout",
     "output_type": "stream",
     "text": [
      "Source Test Label Accuracy: 0.64404296875 Target Test Label Accuracy: 0.9503386004514672\n",
      "Source Val Label Accuracy: 0.6410807291666667 Target Val Label Accuracy: 0.9486428571428571\n"
     ]
    }
   ],
   "source": [
    "print(\"Source Test Label Accuracy:\", experiment[\"results\"][\"source_test_label_accuracy\"], \"Target Test Label Accuracy:\", experiment[\"results\"][\"target_test_label_accuracy\"])\n",
    "print(\"Source Val Label Accuracy:\", experiment[\"results\"][\"source_val_label_accuracy\"], \"Target Val Label Accuracy:\", experiment[\"results\"][\"target_val_label_accuracy\"])"
   ]
  },
  {
   "cell_type": "code",
   "execution_count": 29,
   "id": "dacca602",
   "metadata": {
    "execution": {
     "iopub.execute_input": "2022-03-28T10:11:59.517484Z",
     "iopub.status.busy": "2022-03-28T10:11:59.516891Z",
     "iopub.status.idle": "2022-03-28T10:11:59.540859Z",
     "shell.execute_reply": "2022-03-28T10:11:59.541556Z"
    },
    "papermill": {
     "duration": 0.072732,
     "end_time": "2022-03-28T10:11:59.541734",
     "exception": false,
     "start_time": "2022-03-28T10:11:59.469002",
     "status": "completed"
    },
    "tags": [
     "experiment_json"
    ]
   },
   "outputs": [
    {
     "data": {
      "text/plain": [
       "'{\"experiment_name\": \"tl_3-jitter10v2:oracle.run1.framed -> cores\", \"parameters\": {\"experiment_name\": \"tl_3-jitter10v2:oracle.run1.framed -> cores\", \"device\": \"cuda\", \"lr\": 0.0001, \"x_shape\": [2, 256], \"n_shot\": 3, \"n_query\": 2, \"train_k_factor\": 3, \"val_k_factor\": 2, \"test_k_factor\": 2, \"torch_default_dtype\": \"torch.float32\", \"n_epoch\": 50, \"patience\": 3, \"criteria_for_best\": \"target_accuracy\", \"x_net\": [{\"class\": \"nnReshape\", \"kargs\": {\"shape\": [-1, 1, 2, 256]}}, {\"class\": \"Conv2d\", \"kargs\": {\"in_channels\": 1, \"out_channels\": 256, \"kernel_size\": [1, 7], \"bias\": false, \"padding\": [0, 3]}}, {\"class\": \"ReLU\", \"kargs\": {\"inplace\": true}}, {\"class\": \"BatchNorm2d\", \"kargs\": {\"num_features\": 256}}, {\"class\": \"Conv2d\", \"kargs\": {\"in_channels\": 256, \"out_channels\": 80, \"kernel_size\": [2, 7], \"bias\": true, \"padding\": [0, 3]}}, {\"class\": \"ReLU\", \"kargs\": {\"inplace\": true}}, {\"class\": \"BatchNorm2d\", \"kargs\": {\"num_features\": 80}}, {\"class\": \"Flatten\", \"kargs\": {}}, {\"class\": \"Linear\", \"kargs\": {\"in_features\": 20480, \"out_features\": 256}}, {\"class\": \"ReLU\", \"kargs\": {\"inplace\": true}}, {\"class\": \"BatchNorm1d\", \"kargs\": {\"num_features\": 256}}, {\"class\": \"Linear\", \"kargs\": {\"in_features\": 256, \"out_features\": 256}}], \"NUM_LOGS_PER_EPOCH\": 10, \"BEST_MODEL_PATH\": \"./best_model.pth\", \"n_way\": 16, \"datasets\": [{\"labels\": [\"1-10.\", \"1-11.\", \"1-15.\", \"1-16.\", \"1-17.\", \"1-18.\", \"1-19.\", \"10-4.\", \"10-7.\", \"11-1.\", \"11-14.\", \"11-17.\", \"11-20.\", \"11-7.\", \"13-20.\", \"13-8.\", \"14-10.\", \"14-11.\", \"14-14.\", \"14-7.\", \"15-1.\", \"15-20.\", \"16-1.\", \"16-16.\", \"17-10.\", \"17-11.\", \"17-2.\", \"19-1.\", \"19-16.\", \"19-19.\", \"19-20.\", \"19-3.\", \"2-10.\", \"2-11.\", \"2-17.\", \"2-18.\", \"2-20.\", \"2-3.\", \"2-4.\", \"2-5.\", \"2-6.\", \"2-7.\", \"2-8.\", \"3-13.\", \"3-18.\", \"3-3.\", \"4-1.\", \"4-10.\", \"4-11.\", \"4-19.\", \"5-5.\", \"6-15.\", \"7-10.\", \"7-14.\", \"8-18.\", \"8-20.\", \"8-3.\", \"8-8.\"], \"domains\": [1, 2, 3, 4, 5], \"num_examples_per_domain_per_label\": -1, \"pickle_path\": \"/root/csc500-main/datasets/cores.stratified_ds.2022A.pkl\", \"source_or_target_dataset\": \"target\", \"x_transforms\": [\"unit_power\", \"jitter_256_10\", \"lowpass_+/-10MHz\", \"take_200\"], \"episode_transforms\": [], \"domain_prefix\": \"C_\"}, {\"labels\": [\"3123D52\", \"3123D65\", \"3123D79\", \"3123D80\", \"3123D54\", \"3123D70\", \"3123D7B\", \"3123D89\", \"3123D58\", \"3123D76\", \"3123D7D\", \"3123EFE\", \"3123D64\", \"3123D78\", \"3123D7E\", \"3124E4A\"], \"domains\": [32, 38, 8, 44, 14, 50, 20, 26], \"num_examples_per_domain_per_label\": 2000, \"pickle_path\": \"/root/csc500-main/datasets/oracle.Run1_framed_2000Examples_stratified_ds.2022A.pkl\", \"source_or_target_dataset\": \"source\", \"x_transforms\": [\"unit_power\", \"jitter_256_10\", \"take_200\", \"resample_20Msps_to_25Msps\"], \"episode_transforms\": [], \"domain_prefix\": \"O_\"}], \"seed\": 420, \"dataset_seed\": 420, \"domains_source\": [\"O_32\", \"O_38\", \"O_8\", \"O_44\", \"O_14\", \"O_50\", \"O_20\", \"O_26\"], \"domains_target\": [\"C_1\", \"C_2\", \"C_3\", \"C_4\", \"C_5\"]}, \"results\": {\"source_test_label_accuracy\": 0.64404296875, \"source_test_label_loss\": 0.9473528861999512, \"target_test_label_accuracy\": 0.9503386004514672, \"target_test_label_loss\": 0.33116286993026733, \"source_val_label_accuracy\": 0.6410807291666667, \"source_val_label_loss\": 0.9522320032119751, \"target_val_label_accuracy\": 0.9486428571428571, \"target_val_label_loss\": 0.38955745100975037, \"total_epochs_trained\": 6, \"total_experiment_time_secs\": 1013.1345782279968, \"confusion\": {\"O_14\": {\"15\": {\"7\": 27, \"15\": 213}, \"5\": {\"5\": 129, \"4\": 72, \"1\": 31, \"7\": 4, \"3\": 4}, \"7\": {\"7\": 219, \"15\": 18, \"1\": 3}, \"4\": {\"4\": 164, \"5\": 33, \"3\": 22, \"1\": 12, \"2\": 9}, \"10\": {\"10\": 193, \"0\": 45, \"11\": 2}, \"11\": {\"11\": 196, \"9\": 14, \"10\": 24, \"0\": 6}, \"12\": {\"12\": 238, \"9\": 2}, \"0\": {\"0\": 166, \"3\": 6, \"10\": 60, \"8\": 4, \"11\": 4}, \"14\": {\"13\": 33, \"14\": 150, \"2\": 19, \"6\": 31, \"3\": 7}, \"8\": {\"8\": 240}, \"13\": {\"6\": 96, \"14\": 58, \"13\": 53, \"2\": 27, \"3\": 1, \"4\": 1, \"5\": 2, \"10\": 1, \"15\": 1}, \"6\": {\"2\": 20, \"6\": 117, \"14\": 29, \"13\": 74}, \"1\": {\"1\": 209, \"5\": 23, \"7\": 1, \"4\": 7}, \"3\": {\"3\": 203, \"4\": 24, \"0\": 2, \"14\": 5, \"2\": 5, \"5\": 1}, \"9\": {\"9\": 236, \"11\": 1, \"12\": 3}, \"2\": {\"4\": 25, \"13\": 27, \"2\": 110, \"6\": 19, \"5\": 14, \"15\": 5, \"14\": 22, \"3\": 18}}, \"O_20\": {\"4\": {\"3\": 6, \"4\": 171, \"8\": 48, \"10\": 12, \"12\": 2, \"5\": 1}, \"10\": {\"10\": 156, \"14\": 67, \"4\": 5, \"8\": 10, \"6\": 2}, \"15\": {\"0\": 39, \"15\": 130, \"1\": 46, \"13\": 12, \"5\": 7, \"12\": 3, \"2\": 1, \"3\": 2}, \"0\": {\"7\": 1, \"0\": 67, \"1\": 44, \"15\": 46, \"5\": 53, \"3\": 7, \"12\": 16, \"2\": 3, \"13\": 1, \"9\": 2}, \"6\": {\"6\": 219, \"14\": 13, \"8\": 1, \"7\": 5, \"10\": 2}, \"3\": {\"3\": 94, \"12\": 46, \"8\": 18, \"7\": 11, \"5\": 21, \"1\": 6, \"9\": 29, \"2\": 7, \"4\": 7, \"0\": 1}, \"7\": {\"7\": 132, \"9\": 42, \"2\": 36, \"12\": 4, \"3\": 15, \"8\": 10, \"6\": 1}, \"2\": {\"2\": 87, \"7\": 41, \"9\": 72, \"13\": 10, \"1\": 5, \"12\": 12, \"3\": 8, \"0\": 3, \"5\": 1, \"15\": 1}, \"8\": {\"3\": 14, \"8\": 147, \"4\": 37, \"10\": 18, \"7\": 14, \"6\": 6, \"12\": 2, \"9\": 1, \"14\": 1}, \"11\": {\"11\": 240}, \"14\": {\"14\": 157, \"10\": 55, \"6\": 23, \"8\": 5}, \"12\": {\"3\": 54, \"12\": 75, \"9\": 29, \"5\": 31, \"0\": 15, \"1\": 21, \"2\": 10, \"7\": 3, \"15\": 2}, \"13\": {\"13\": 217, \"15\": 2, \"2\": 14, \"9\": 4, \"12\": 2, \"1\": 1}, \"9\": {\"2\": 68, \"3\": 30, \"9\": 76, \"7\": 32, \"1\": 6, \"12\": 16, \"15\": 2, \"13\": 7, \"8\": 2, \"0\": 1}, \"5\": {\"12\": 30, \"1\": 36, \"0\": 58, \"3\": 11, \"15\": 14, \"5\": 85, \"2\": 2, \"13\": 1, \"9\": 3}, \"1\": {\"2\": 5, \"0\": 56, \"12\": 25, \"1\": 59, \"5\": 37, \"15\": 44, \"9\": 6, \"3\": 3, \"13\": 4, \"4\": 1}}, \"O_50\": {\"5\": {\"7\": 61, \"13\": 52, \"5\": 47, \"4\": 26, \"6\": 46, \"1\": 4, \"10\": 2, \"15\": 1, \"0\": 1}, \"12\": {\"12\": 210, \"14\": 9, \"9\": 21}, \"14\": {\"14\": 228, \"11\": 3, \"12\": 8, \"9\": 1}, \"4\": {\"4\": 67, \"7\": 8, \"15\": 63, \"6\": 20, \"1\": 57, \"5\": 21, \"13\": 4}, \"13\": {\"7\": 58, \"13\": 103, \"5\": 48, \"6\": 19, \"4\": 4, \"0\": 3, \"10\": 5}, \"10\": {\"10\": 213, \"7\": 12, \"5\": 1, \"0\": 9, \"8\": 2, \"13\": 3}, \"9\": {\"11\": 47, \"9\": 166, \"12\": 25, \"14\": 2}, \"15\": {\"15\": 158, \"4\": 26, \"6\": 2, \"1\": 46, \"11\": 8}, \"6\": {\"6\": 97, \"1\": 29, \"5\": 30, \"4\": 59, \"13\": 21, \"2\": 2, \"10\": 1, \"15\": 1}, \"2\": {\"2\": 219, \"0\": 21}, \"0\": {\"0\": 212, \"10\": 9, \"2\": 18, \"13\": 1}, \"11\": {\"11\": 179, \"9\": 34, \"15\": 13, \"14\": 9, \"1\": 2, \"12\": 3}, \"3\": {\"3\": 233, \"8\": 7}, \"8\": {\"8\": 229, \"3\": 6, \"10\": 5}, \"7\": {\"7\": 139, \"13\": 52, \"5\": 31, \"10\": 15, \"6\": 3}, \"1\": {\"1\": 132, \"6\": 19, \"11\": 1, \"5\": 2, \"4\": 34, \"15\": 49, \"0\": 1, \"2\": 2}}, \"O_26\": {\"7\": {\"7\": 134, \"8\": 26, \"0\": 5, \"4\": 14, \"2\": 23, \"3\": 28, \"15\": 4, \"14\": 4, \"1\": 2}, \"6\": {\"6\": 148, \"10\": 19, \"9\": 19, \"8\": 29, \"0\": 4, \"15\": 14, \"4\": 1, \"13\": 6}, \"14\": {\"14\": 66, \"10\": 20, \"4\": 44, \"1\": 78, \"8\": 5, \"0\": 24, \"7\": 3}, \"15\": {\"5\": 46, \"15\": 70, \"9\": 65, \"13\": 15, \"2\": 10, \"8\": 15, \"7\": 5, \"6\": 11, \"10\": 3}, \"5\": {\"13\": 28, \"5\": 122, \"15\": 38, \"9\": 28, \"2\": 23, \"3\": 1}, \"10\": {\"0\": 49, \"6\": 21, \"4\": 19, \"8\": 36, \"14\": 20, \"10\": 77, \"1\": 12, \"7\": 4, \"9\": 1, \"15\": 1}, \"4\": {\"14\": 43, \"0\": 42, \"8\": 16, \"4\": 74, \"1\": 35, \"10\": 19, \"7\": 11}, \"11\": {\"11\": 236, \"12\": 4}, \"13\": {\"13\": 173, \"5\": 52, \"9\": 5, \"6\": 1, \"15\": 5, \"2\": 3, \"3\": 1}, \"2\": {\"15\": 12, \"2\": 82, \"3\": 91, \"5\": 22, \"0\": 1, \"7\": 23, \"9\": 5, \"13\": 2, \"8\": 2}, \"0\": {\"10\": 50, \"8\": 20, \"14\": 54, \"0\": 45, \"4\": 42, \"6\": 5, \"7\": 8, \"1\": 14, \"15\": 2}, \"12\": {\"12\": 235, \"11\": 5}, \"3\": {\"2\": 60, \"3\": 152, \"7\": 28}, \"9\": {\"9\": 88, \"5\": 22, \"15\": 71, \"7\": 3, \"6\": 24, \"13\": 10, \"10\": 3, \"8\": 15, \"2\": 4}, \"8\": {\"8\": 103, \"4\": 19, \"0\": 20, \"10\": 32, \"7\": 23, \"9\": 14, \"6\": 10, \"14\": 4, \"15\": 10, \"2\": 4, \"1\": 1}, \"1\": {\"14\": 64, \"1\": 104, \"0\": 27, \"8\": 5, \"4\": 33, \"7\": 4, \"10\": 2, \"3\": 1}}, \"O_32\": {\"7\": {\"7\": 101, \"13\": 17, \"5\": 18, \"4\": 30, \"14\": 50, \"2\": 4, \"11\": 11, \"0\": 6, \"3\": 1, \"8\": 2}, \"2\": {\"2\": 187, \"0\": 16, \"4\": 32, \"7\": 3, \"14\": 1, \"13\": 1}, \"5\": {\"5\": 48, \"13\": 54, \"3\": 20, \"8\": 28, \"4\": 24, \"7\": 27, \"0\": 17, \"14\": 13, \"11\": 5, \"2\": 4}, \"6\": {\"6\": 240}, \"13\": {\"13\": 65, \"14\": 13, \"5\": 66, \"3\": 30, \"7\": 18, \"0\": 17, \"8\": 22, \"2\": 1, \"11\": 4, \"4\": 4}, \"4\": {\"2\": 43, \"0\": 72, \"4\": 83, \"7\": 22, \"5\": 6, \"8\": 3, \"13\": 4, \"14\": 7}, \"3\": {\"3\": 214, \"13\": 11, \"11\": 6, \"8\": 3, \"5\": 5, \"14\": 1}, \"0\": {\"0\": 106, \"8\": 11, \"5\": 29, \"13\": 16, \"4\": 48, \"2\": 20, \"7\": 9, \"14\": 1}, \"9\": {\"9\": 237, \"12\": 3}, \"12\": {\"12\": 240}, \"8\": {\"5\": 37, \"0\": 12, \"13\": 33, \"8\": 148, \"3\": 6, \"4\": 3, \"7\": 1}, \"14\": {\"7\": 55, \"14\": 76, \"4\": 11, \"5\": 11, \"11\": 73, \"2\": 2, \"13\": 8, \"0\": 1, \"3\": 2, \"8\": 1}, \"15\": {\"15\": 237, \"8\": 3}, \"11\": {\"11\": 173, \"14\": 56, \"7\": 4, \"3\": 4, \"13\": 2, \"5\": 1}, \"10\": {\"10\": 237, \"1\": 3}, \"1\": {\"1\": 239, \"10\": 1}}, \"O_44\": {\"11\": {\"11\": 177, \"13\": 32, \"6\": 31}, \"7\": {\"7\": 146, \"9\": 43, \"2\": 42, \"6\": 7, \"10\": 1, \"13\": 1}, \"6\": {\"13\": 36, \"6\": 147, \"9\": 22, \"11\": 19, \"7\": 15, \"2\": 1}, \"12\": {\"12\": 171, \"1\": 45, \"10\": 21, \"3\": 3}, \"4\": {\"14\": 83, \"4\": 152, \"15\": 3, \"13\": 1, \"11\": 1}, \"13\": {\"13\": 131, \"6\": 41, \"11\": 38, \"9\": 29, \"7\": 1}, \"8\": {\"8\": 162, \"0\": 66, \"5\": 3, \"15\": 8, \"14\": 1}, \"5\": {\"5\": 205, \"0\": 16, \"15\": 7, \"8\": 4, \"14\": 8}, \"14\": {\"15\": 18, \"14\": 131, \"4\": 89, \"5\": 1, \"0\": 1}, \"3\": {\"1\": 37, \"3\": 199, \"12\": 2, \"10\": 1, \"2\": 1}, \"10\": {\"10\": 150, \"12\": 26, \"2\": 31, \"1\": 33}, \"1\": {\"1\": 119, \"3\": 30, \"12\": 60, \"10\": 21, \"2\": 10}, \"2\": {\"10\": 18, \"2\": 176, \"1\": 11, \"7\": 35}, \"15\": {\"15\": 188, \"5\": 9, \"14\": 16, \"0\": 19, \"8\": 7, \"4\": 1}, \"9\": {\"9\": 129, \"2\": 4, \"7\": 40, \"6\": 32, \"13\": 33, \"11\": 1, \"3\": 1}, \"0\": {\"8\": 78, \"0\": 132, \"15\": 14, \"5\": 15, \"14\": 1}}, \"O_8\": {\"10\": {\"10\": 141, \"5\": 11, \"13\": 21, \"14\": 55, \"4\": 12}, \"6\": {\"7\": 48, \"6\": 142, \"4\": 29, \"0\": 9, \"13\": 8, \"8\": 1, \"1\": 1, \"10\": 1, \"14\": 1}, \"13\": {\"4\": 32, \"13\": 85, \"14\": 22, \"10\": 34, \"0\": 49, \"6\": 14, \"7\": 3, \"5\": 1}, \"3\": {\"3\": 194, \"2\": 31, \"12\": 10, \"15\": 5}, \"9\": {\"9\": 240}, \"1\": {\"11\": 79, \"1\": 151, \"5\": 7, \"14\": 3}, \"5\": {\"5\": 207, \"1\": 11, \"10\": 12, \"14\": 4, \"11\": 6}, \"11\": {\"1\": 105, \"11\": 121, \"5\": 11, \"8\": 2, \"14\": 1}, \"4\": {\"6\": 38, \"4\": 110, \"14\": 35, \"10\": 14, \"13\": 38, \"7\": 4, \"0\": 1}, \"14\": {\"14\": 108, \"5\": 6, \"10\": 50, \"13\": 18, \"4\": 48, \"11\": 1, \"1\": 6, \"0\": 1, \"6\": 2}, \"12\": {\"12\": 122, \"15\": 69, \"3\": 41, \"8\": 7, \"2\": 1}, \"7\": {\"7\": 164, \"0\": 6, \"6\": 63, \"2\": 1, \"13\": 6}, \"0\": {\"0\": 162, \"4\": 4, \"13\": 44, \"7\": 19, \"10\": 7, \"6\": 4}, \"15\": {\"15\": 168, \"12\": 52, \"8\": 17, \"2\": 1, \"3\": 2}, \"2\": {\"2\": 199, \"3\": 29, \"7\": 8, \"15\": 1, \"12\": 3}, \"8\": {\"8\": 228, \"15\": 11, \"11\": 1}}, \"O_38\": {\"4\": {\"4\": 222, \"12\": 18}, \"7\": {\"7\": 171, \"0\": 44, \"5\": 20, \"8\": 4, \"3\": 1}, \"12\": {\"12\": 209, \"10\": 13, \"4\": 17, \"14\": 1}, \"10\": {\"8\": 15, \"10\": 161, \"12\": 31, \"15\": 6, \"14\": 4, \"13\": 12, \"2\": 1, \"0\": 8, \"7\": 1, \"5\": 1}, \"0\": {\"0\": 60, \"7\": 63, \"5\": 45, \"8\": 50, \"9\": 2, \"10\": 6, \"3\": 9, \"1\": 1, \"12\": 2, \"15\": 2}, \"1\": {\"1\": 231, \"13\": 2, \"15\": 6, \"6\": 1}, \"5\": {\"5\": 81, \"7\": 19, \"15\": 7, \"1\": 10, \"0\": 33, \"3\": 7, \"8\": 51, \"6\": 22, \"10\": 2, \"9\": 6, \"13\": 2}, \"15\": {\"15\": 110, \"5\": 10, \"13\": 72, \"1\": 23, \"8\": 13, \"10\": 12}, \"9\": {\"9\": 116, \"6\": 88, \"3\": 34, \"5\": 2}, \"11\": {\"11\": 168, \"14\": 68, \"12\": 3, \"10\": 1}, \"14\": {\"14\": 168, \"11\": 54, \"2\": 13, \"10\": 3, \"12\": 2}, \"6\": {\"9\": 60, \"6\": 176, \"3\": 1, \"5\": 3}, \"8\": {\"5\": 44, \"7\": 10, \"0\": 52, \"8\": 117, \"15\": 6, \"10\": 8, \"1\": 1, \"13\": 2}, \"3\": {\"3\": 195, \"9\": 26, \"7\": 8, \"6\": 6, \"5\": 5}, \"2\": {\"2\": 219, \"13\": 7, \"14\": 14}, \"13\": {\"15\": 76, \"10\": 23, \"13\": 113, \"2\": 7, \"8\": 6, \"1\": 13, \"14\": 2}}, \"C_4\": {\"42\": {\"42\": 30, \"34\": 2}, \"0\": {\"0\": 79, \"38\": 1}, \"1\": {\"1\": 40}, \"39\": {\"39\": 20}, \"28\": {\"28\": 28, \"55\": 2, \"34\": 2}, \"53\": {\"53\": 121, \"25\": 2, \"51\": 1}, \"19\": {\"19\": 143, \"44\": 1}, \"34\": {\"42\": 2, \"34\": 22}, \"33\": {\"33\": 36}, \"32\": {\"46\": 2, \"32\": 22}, \"10\": {\"10\": 133, \"13\": 3}, \"46\": {\"32\": 3, \"46\": 123, \"49\": 2, \"47\": 2, \"0\": 2, \"5\": 2}, \"20\": {\"20\": 111, \"25\": 4, \"23\": 2, \"3\": 2, \"8\": 1, \"50\": 2}, \"5\": {\"5\": 105, \"23\": 2, \"0\": 1}, \"40\": {\"40\": 121, \"4\": 1, \"33\": 2}, \"51\": {\"51\": 144}, \"37\": {\"37\": 24}, \"17\": {\"17\": 67, \"27\": 12, \"8\": 1}, \"45\": {\"45\": 88, \"27\": 4, \"19\": 2, \"4\": 2}, \"13\": {\"13\": 135, \"43\": 2, \"10\": 5}, \"27\": {\"17\": 20, \"27\": 116, \"54\": 2, \"55\": 2, \"9\": 4}, \"24\": {\"24\": 53, \"13\": 3}, \"30\": {\"30\": 44}, \"31\": {\"31\": 28}, \"41\": {\"41\": 34, \"10\": 1, \"13\": 1}, \"36\": {\"36\": 81, \"20\": 3, \"3\": 7, \"34\": 1}, \"16\": {\"16\": 92, \"15\": 2, \"23\": 1, \"46\": 1}, \"22\": {\"22\": 126, \"43\": 2}, \"44\": {\"44\": 126, \"29\": 1, \"19\": 3, \"40\": 2}, \"9\": {\"9\": 138, \"4\": 2}, \"57\": {\"57\": 99, \"35\": 1}, \"8\": {\"8\": 138}, \"23\": {\"23\": 132}, \"47\": {\"47\": 120}, \"43\": {\"43\": 138}, \"49\": {\"49\": 20}, \"3\": {\"3\": 96, \"36\": 13, \"6\": 2, \"50\": 2, \"20\": 5, \"25\": 5, \"52\": 1}, \"12\": {\"12\": 89, \"21\": 3}, \"38\": {\"38\": 38, \"0\": 2}, \"7\": {\"7\": 24}, \"14\": {\"14\": 10, \"57\": 2, \"35\": 3, \"56\": 1}, \"15\": {\"15\": 140, \"32\": 1, \"16\": 4, \"0\": 1}, \"25\": {\"25\": 110, \"23\": 11, \"18\": 6, \"36\": 1}, \"26\": {\"26\": 24}, \"21\": {\"21\": 129, \"50\": 2, \"12\": 1}, \"48\": {\"48\": 143, \"54\": 1}, \"56\": {\"56\": 134}, \"11\": {\"11\": 102, \"24\": 2}, \"2\": {\"2\": 36}, \"6\": {\"6\": 94, \"15\": 1, \"53\": 8, \"51\": 5, \"3\": 2, \"20\": 2}, \"55\": {\"55\": 139, \"47\": 1}, \"54\": {\"54\": 106, \"48\": 2}, \"29\": {\"29\": 124}, \"50\": {\"50\": 95, \"25\": 5, \"36\": 4, \"18\": 1, \"3\": 7, \"21\": 2, \"53\": 2, \"20\": 6}, \"52\": {\"52\": 116}, \"35\": {\"35\": 37, \"57\": 3}, \"4\": {\"4\": 116, \"40\": 2, \"9\": 2}, \"18\": {\"18\": 108}}, \"C_5\": {\"43\": {\"43\": 150, \"11\": 2}, \"35\": {\"35\": 31, \"0\": 4, \"56\": 1}, \"54\": {\"54\": 112}, \"22\": {\"22\": 28}, \"16\": {\"16\": 146}, \"5\": {\"5\": 124, \"40\": 2, \"36\": 2}, \"28\": {\"28\": 32}, \"14\": {\"31\": 2, \"57\": 4, \"0\": 4, \"36\": 12, \"47\": 2, \"14\": 13, \"46\": 1, \"56\": 2, \"2\": 1, \"35\": 1, \"49\": 1, \"3\": 1}, \"51\": {\"51\": 127, \"53\": 1}, \"19\": {\"19\": 135, \"55\": 1, \"5\": 1, \"27\": 1, \"40\": 1, \"30\": 1}, \"31\": {\"31\": 36}, \"10\": {\"10\": 62, \"13\": 6}, \"21\": {\"21\": 136}, \"3\": {\"3\": 92, \"46\": 8}, \"57\": {\"57\": 132}, \"9\": {\"9\": 116, \"27\": 7, \"48\": 19, \"55\": 1, \"45\": 2, \"30\": 1}, \"8\": {\"8\": 131, \"55\": 1}, \"46\": {\"46\": 133, \"31\": 1, \"3\": 6}, \"23\": {\"23\": 123, \"46\": 1}, \"37\": {\"37\": 24}, \"34\": {\"34\": 35, \"40\": 1}, \"4\": {\"19\": 4, \"4\": 94, \"32\": 2}, \"6\": {\"8\": 3, \"6\": 117, \"18\": 1, \"1\": 3, \"55\": 3, \"25\": 1}, \"48\": {\"48\": 126, \"27\": 1, \"9\": 7, \"45\": 2}, \"44\": {\"44\": 138}, \"40\": {\"40\": 119, \"29\": 2, \"34\": 1, \"19\": 2}, \"12\": {\"12\": 94, \"51\": 2}, \"30\": {\"30\": 125, \"48\": 2, \"9\": 1}, \"39\": {\"39\": 19, \"41\": 1}, \"45\": {\"45\": 88, \"30\": 3, \"9\": 8, \"48\": 13, \"27\": 7, \"1\": 1, \"4\": 1, \"55\": 1, \"17\": 2}, \"36\": {\"36\": 89, \"29\": 1, \"14\": 2}, \"27\": {\"27\": 135, \"9\": 5}, \"32\": {\"32\": 29, \"48\": 1, \"27\": 2}, \"52\": {\"52\": 129, \"16\": 1}, \"0\": {\"0\": 107, \"35\": 9, \"56\": 5, \"2\": 2, \"31\": 1}, \"26\": {\"26\": 24}, \"1\": {\"1\": 145, \"9\": 1, \"48\": 1, \"55\": 1}, \"53\": {\"53\": 138, \"6\": 1, \"50\": 2, \"18\": 1, \"25\": 2, \"23\": 1, \"8\": 1}, \"25\": {\"25\": 132, \"42\": 1, \"41\": 1, \"23\": 4, \"18\": 4, \"8\": 2}, \"24\": {\"24\": 79, \"11\": 1}, \"7\": {\"7\": 32}, \"18\": {\"18\": 60, \"25\": 4}, \"20\": {\"20\": 143, \"50\": 1}, \"33\": {\"33\": 32}, \"55\": {\"55\": 140}, \"41\": {\"41\": 28}, \"42\": {\"42\": 37, \"46\": 1, \"18\": 2}, \"49\": {\"49\": 36}, \"13\": {\"13\": 128, \"10\": 16, \"43\": 1, \"11\": 2, \"46\": 1}, \"38\": {\"38\": 32}, \"2\": {\"2\": 25, \"56\": 2, \"31\": 1}, \"47\": {\"47\": 100}, \"17\": {\"17\": 116}, \"11\": {\"11\": 148, \"43\": 5, \"46\": 1}, \"29\": {\"29\": 128, \"40\": 4}, \"50\": {\"50\": 117, \"52\": 1, \"23\": 5, \"20\": 10, \"25\": 2, \"21\": 3}, \"56\": {\"56\": 148}, \"15\": {\"15\": 137, \"11\": 3, \"43\": 2}}, \"C_2\": {\"49\": {\"49\": 24}, \"13\": {\"13\": 114, \"10\": 2}, \"37\": {\"37\": 36}, \"41\": {\"41\": 17, \"18\": 1, \"25\": 2}, \"15\": {\"15\": 140, \"7\": 1, \"46\": 1}, \"56\": {\"56\": 139, \"11\": 1, \"0\": 2}, \"14\": {\"56\": 7, \"1\": 2, \"22\": 1, \"14\": 12, \"47\": 1, \"42\": 1}, \"3\": {\"3\": 84, \"52\": 3, \"21\": 5}, \"38\": {\"38\": 20}, \"43\": {\"43\": 138}, \"33\": {\"33\": 27, \"48\": 1}, \"47\": {\"47\": 138}, \"30\": {\"30\": 140, \"2\": 1, \"25\": 2, \"48\": 1}, \"39\": {\"39\": 28}, \"12\": {\"12\": 90, \"20\": 2}, \"6\": {\"6\": 108, \"30\": 1, \"50\": 11, \"46\": 2, \"25\": 1, \"18\": 1}, \"51\": {\"51\": 133, \"53\": 1}, \"5\": {\"5\": 118, \"47\": 2}, \"34\": {\"34\": 27, \"2\": 1}, \"35\": {\"35\": 30, \"40\": 1, \"19\": 1}, \"0\": {\"0\": 48}, \"7\": {\"15\": 3, \"7\": 33}, \"24\": {\"24\": 88, \"38\": 2, \"43\": 2, \"10\": 4}, \"8\": {\"8\": 136}, \"20\": {\"20\": 119, \"53\": 5}, \"36\": {\"36\": 116}, \"42\": {\"42\": 35, \"55\": 1}, \"1\": {\"1\": 103, \"57\": 9}, \"4\": {\"4\": 148}, \"28\": {\"28\": 28}, \"50\": {\"50\": 114, \"6\": 12, \"23\": 2, \"8\": 1, \"30\": 2, \"25\": 3, \"20\": 1, \"53\": 1}, \"45\": {\"45\": 110, \"4\": 8, \"48\": 2, \"17\": 1, \"9\": 7}, \"18\": {\"18\": 41, \"41\": 1, \"30\": 2, \"25\": 4}, \"57\": {\"57\": 117, \"1\": 3}, \"46\": {\"15\": 4, \"46\": 95, \"16\": 12, \"52\": 13, \"43\": 1, \"11\": 1, \"7\": 1, \"28\": 1}, \"23\": {\"23\": 148}, \"27\": {\"27\": 138}, \"19\": {\"19\": 130, \"40\": 4}, \"22\": {\"22\": 133, \"56\": 3}, \"17\": {\"17\": 97, \"54\": 3, \"30\": 2, \"27\": 2}, \"55\": {\"55\": 132, \"57\": 3, \"47\": 1}, \"44\": {\"44\": 99, \"9\": 1}, \"26\": {\"26\": 24}, \"31\": {\"31\": 28}, \"16\": {\"16\": 129, \"46\": 1}, \"11\": {\"11\": 128}, \"25\": {\"25\": 95, \"18\": 6, \"30\": 10, \"6\": 7, \"23\": 4, \"41\": 3, \"49\": 1}, \"54\": {\"54\": 94, \"17\": 14}, \"32\": {\"32\": 24, \"17\": 4}, \"52\": {\"52\": 120, \"46\": 4}, \"40\": {\"35\": 4, \"40\": 126, \"19\": 1, \"9\": 1}, \"2\": {\"2\": 32}, \"10\": {\"10\": 110}, \"53\": {\"53\": 133, \"20\": 3}, \"9\": {\"9\": 146, \"19\": 2, \"40\": 2}, \"21\": {\"21\": 119, \"3\": 1}, \"48\": {\"48\": 137, \"33\": 1}, \"29\": {\"29\": 123, \"19\": 1, \"40\": 2, \"9\": 2}}, \"C_1\": {\"9\": {\"9\": 138, \"8\": 2, \"18\": 2}, \"25\": {\"25\": 124, \"26\": 1, \"18\": 3}, \"41\": {\"41\": 24}, \"29\": {\"29\": 140}, \"46\": {\"46\": 124, \"53\": 4}, \"4\": {\"4\": 123, \"40\": 4, \"29\": 2, \"9\": 1, \"19\": 2}, \"31\": {\"31\": 28}, \"36\": {\"36\": 62, \"3\": 2}, \"20\": {\"20\": 127, \"13\": 1}, \"7\": {\"7\": 28}, \"6\": {\"6\": 88, \"17\": 1, \"48\": 5, \"5\": 2}, \"16\": {\"16\": 138}, \"17\": {\"17\": 64}, \"50\": {\"50\": 144, \"6\": 2, \"48\": 2}, \"57\": {\"57\": 130, \"56\": 13, \"1\": 1}, \"23\": {\"23\": 119, \"49\": 5, \"31\": 1, \"15\": 8, \"21\": 1, \"0\": 2}, \"3\": {\"3\": 116, \"36\": 3, \"20\": 3, \"16\": 2, \"12\": 2}, \"53\": {\"53\": 140}, \"49\": {\"49\": 23, \"15\": 3, \"31\": 1, \"23\": 5}, \"56\": {\"56\": 135, \"57\": 15, \"1\": 1, \"5\": 1}, \"51\": {\"51\": 140, \"20\": 2}, \"26\": {\"26\": 24}, \"43\": {\"43\": 144}, \"22\": {\"22\": 110, \"10\": 3, \"15\": 1, \"52\": 10, \"21\": 8, \"24\": 4}, \"45\": {\"45\": 144, \"7\": 2}, \"13\": {\"13\": 151, \"20\": 1}, \"12\": {\"12\": 115, \"51\": 1}, \"54\": {\"54\": 101, \"55\": 3}, \"24\": {\"24\": 78, \"21\": 16, \"15\": 3, \"22\": 6, \"52\": 2, \"11\": 1, \"23\": 1, \"10\": 1}, \"44\": {\"44\": 130, \"35\": 4, \"29\": 1, \"19\": 1}, \"28\": {\"28\": 28}, \"33\": {\"33\": 32}, \"38\": {\"38\": 24}, \"0\": {\"0\": 142, \"23\": 2}, \"47\": {\"47\": 154}, \"42\": {\"42\": 38, \"57\": 2}, \"34\": {\"34\": 24}, \"48\": {\"48\": 136, \"50\": 2, \"5\": 4}, \"35\": {\"35\": 27, \"44\": 9}, \"2\": {\"2\": 36}, \"30\": {\"30\": 120}, \"18\": {\"18\": 71, \"25\": 1}, \"37\": {\"37\": 32}, \"1\": {\"1\": 98, \"19\": 1, \"57\": 1}, \"11\": {\"11\": 125, \"52\": 12, \"10\": 1}, \"55\": {\"55\": 129, \"54\": 1}, \"15\": {\"15\": 138, \"31\": 1, \"21\": 11}, \"10\": {\"10\": 92, \"11\": 1, \"52\": 3}, \"27\": {\"27\": 160}, \"19\": {\"19\": 146}, \"14\": {\"30\": 7, \"14\": 10, \"45\": 1, \"46\": 1, \"51\": 1, \"9\": 2, \"25\": 1, \"53\": 1}, \"8\": {\"8\": 139, \"48\": 1}, \"5\": {\"5\": 136}, \"39\": {\"39\": 28}, \"52\": {\"52\": 105, \"10\": 5, \"24\": 1, \"22\": 3, \"11\": 8}, \"21\": {\"21\": 94, \"22\": 4, \"24\": 11, \"23\": 2, \"15\": 13}, \"40\": {\"40\": 142, \"29\": 4, \"19\": 4, \"1\": 2}, \"32\": {\"32\": 32}}, \"C_3\": {\"56\": {\"56\": 120}, \"4\": {\"4\": 139, \"45\": 2, \"54\": 2, \"40\": 2, \"17\": 1}, \"34\": {\"34\": 31, \"57\": 1}, \"52\": {\"52\": 131, \"3\": 5}, \"32\": {\"32\": 28}, \"46\": {\"46\": 109, \"3\": 1, \"15\": 10, \"16\": 5, \"52\": 7, \"6\": 1, \"26\": 2, \"20\": 1}, \"12\": {\"20\": 2, \"12\": 84, \"8\": 4, \"53\": 2}, \"20\": {\"20\": 126, \"50\": 6}, \"54\": {\"54\": 96, \"27\": 2, \"17\": 2}, \"22\": {\"22\": 134, \"56\": 1, \"0\": 2, \"14\": 3}, \"26\": {\"26\": 24}, \"31\": {\"31\": 28}, \"10\": {\"10\": 64}, \"27\": {\"27\": 142, \"17\": 2}, \"40\": {\"40\": 121, \"4\": 1, \"19\": 9, \"29\": 3, \"54\": 2}, \"28\": {\"28\": 27, \"35\": 1}, \"5\": {\"5\": 115, \"23\": 1}, \"30\": {\"30\": 118, \"33\": 1, \"48\": 1}, \"7\": {\"7\": 36}, \"18\": {\"18\": 75, \"30\": 1, \"36\": 4, \"25\": 4}, \"39\": {\"5\": 3, \"39\": 13}, \"50\": {\"18\": 3, \"20\": 17, \"50\": 102, \"52\": 10, \"3\": 2, \"46\": 2}, \"49\": {\"49\": 18, \"5\": 2}, \"43\": {\"43\": 121, \"24\": 1}, \"29\": {\"29\": 114}, \"35\": {\"35\": 22, \"57\": 1, \"1\": 3, \"34\": 2}, \"13\": {\"13\": 122, \"11\": 2}, \"36\": {\"36\": 100}, \"11\": {\"11\": 146}, \"57\": {\"57\": 121, \"1\": 2, \"34\": 1}, \"9\": {\"9\": 128, \"40\": 2}, \"25\": {\"25\": 93, \"30\": 10, \"50\": 1, \"41\": 4, \"6\": 13, \"33\": 1, \"18\": 7, \"23\": 1}, \"16\": {\"16\": 123, \"23\": 1, \"52\": 2}, \"53\": {\"53\": 118}, \"33\": {\"33\": 27, \"25\": 1}, \"51\": {\"51\": 128}, \"44\": {\"44\": 85, \"40\": 3}, \"48\": {\"48\": 114}, \"6\": {\"6\": 63, \"18\": 7, \"50\": 2, \"46\": 2, \"16\": 1, \"30\": 1, \"20\": 1, \"25\": 10, \"53\": 1}, \"23\": {\"23\": 144}, \"1\": {\"57\": 5, \"1\": 90, \"28\": 1, \"35\": 3, \"34\": 1}, \"17\": {\"33\": 2, \"17\": 98, \"54\": 6, \"2\": 2}, \"21\": {\"21\": 122}, \"14\": {\"28\": 3, \"22\": 7, \"14\": 25, \"34\": 1, \"1\": 2, \"56\": 1, \"57\": 1}, \"55\": {\"39\": 3, \"55\": 132, \"47\": 9}, \"41\": {\"41\": 28}, \"3\": {\"3\": 116, \"52\": 17, \"46\": 1, \"21\": 1, \"16\": 1, \"20\": 2}, \"38\": {\"38\": 26, \"36\": 2}, \"2\": {\"2\": 32}, \"8\": {\"8\": 141, \"12\": 1}, \"37\": {\"37\": 28}, \"45\": {\"54\": 1, \"45\": 50, \"4\": 3, \"27\": 2, \"32\": 4}, \"42\": {\"42\": 28}, \"24\": {\"24\": 92, \"43\": 11, \"10\": 1}, \"15\": {\"15\": 136}, \"0\": {\"0\": 124}, \"47\": {\"47\": 79, \"35\": 1, \"55\": 11, \"1\": 1}, \"19\": {\"19\": 117, \"29\": 2, \"4\": 1}}}, \"per_domain_accuracy\": {\"O_14\": {\"accuracy\": 0.7385416666666667, \"source?\": true}, \"O_20\": {\"accuracy\": 0.55, \"source?\": true}, \"O_50\": {\"accuracy\": 0.6854166666666667, \"source?\": true}, \"O_26\": {\"accuracy\": 0.49713541666666666, \"source?\": true}, \"O_32\": {\"accuracy\": 0.68515625, \"source?\": true}, \"O_44\": {\"accuracy\": 0.6549479166666666, \"source?\": true}, \"O_8\": {\"accuracy\": 0.6619791666666667, \"source?\": true}, \"O_38\": {\"accuracy\": 0.65546875, \"source?\": true}, \"C_4\": {\"accuracy\": 0.9519086826347305, \"source?\": false}, \"C_5\": {\"accuracy\": 0.9483240223463687, \"source?\": false}, \"C_2\": {\"accuracy\": 0.9533928571428572, \"source?\": false}, \"C_1\": {\"accuracy\": 0.9493885869565217, \"source?\": false}, \"C_3\": {\"accuracy\": 0.9400735294117647, \"source?\": false}}}, \"history\": {\"epoch_indices\": [1, 2, 3, 4, 5, 6], \"train_label_loss\": [1.8189908796921372, 0.9474496011799645, 0.8861256687990612, 0.8512286879920534, 0.8203345903905019, 0.7984761961780134], \"source_val_label_loss\": [1.1105016469955444, 0.9522320032119751, 0.9330196976661682, 0.8596913814544678, 0.8453772068023682, 0.7903337478637695], \"target_val_label_loss\": [2.3060169219970703, 0.38955745100975037, 0.37127721309661865, 0.34671345353126526, 0.4399896264076233, 0.5719987154006958], \"source_val_acc_label\": [0.6341796875, 0.6410807291666667, 0.6440755208333333, 0.6750651041666667, 0.68505859375, 0.70263671875], \"target_val_acc_label\": [0.9110714285714285, 0.9486428571428571, 0.9459285714285715, 0.9486428571428571, 0.9385714285714286, 0.9355357142857142]}, \"dataset_metrics\": {\"source\": {\"train\": {\"n_unique_x\": 179200, \"n_unique_y\": 16, \"n_batch/episode\": 6720}, \"val\": {\"n_unique_x\": 38400, \"n_unique_y\": 16, \"n_batch/episode\": 960}, \"test\": {\"n_unique_x\": 38400, \"n_unique_y\": 16, \"n_batch/episode\": 960}}, \"target\": {\"train\": {\"n_unique_x\": 175158, \"n_unique_y\": 58, \"n_batch/episode\": 6317}, \"val\": {\"n_unique_x\": 37216, \"n_unique_y\": 58, \"n_batch/episode\": 875}, \"test\": {\"n_unique_x\": 37596, \"n_unique_y\": 58, \"n_batch/episode\": 886}}}}'"
      ]
     },
     "execution_count": 29,
     "metadata": {},
     "output_type": "execute_result"
    }
   ],
   "source": [
    "json.dumps(experiment)"
   ]
  }
 ],
 "metadata": {
  "celltoolbar": "Tags",
  "kernelspec": {
   "display_name": "Python 3 (ipykernel)",
   "language": "python",
   "name": "python3"
  },
  "language_info": {
   "codemirror_mode": {
    "name": "ipython",
    "version": 3
   },
   "file_extension": ".py",
   "mimetype": "text/x-python",
   "name": "python",
   "nbconvert_exporter": "python",
   "pygments_lexer": "ipython3",
   "version": "3.8.12"
  },
  "papermill": {
   "default_parameters": {},
   "duration": 1179.368707,
   "end_time": "2022-03-28T10:12:02.205701",
   "environment_variables": {},
   "exception": null,
   "input_path": "/root/csc500-main/csc500-notebooks/templates/tl_ptn_template.ipynb",
   "output_path": "trial.ipynb",
   "parameters": {
    "parameters": {
     "BEST_MODEL_PATH": "./best_model.pth",
     "NUM_LOGS_PER_EPOCH": 10,
     "criteria_for_best": "target_accuracy",
     "dataset_seed": 420,
     "datasets": [
      {
       "domain_prefix": "C_",
       "domains": [
        1,
        2,
        3,
        4,
        5
       ],
       "episode_transforms": [],
       "labels": [
        "1-10.",
        "1-11.",
        "1-15.",
        "1-16.",
        "1-17.",
        "1-18.",
        "1-19.",
        "10-4.",
        "10-7.",
        "11-1.",
        "11-14.",
        "11-17.",
        "11-20.",
        "11-7.",
        "13-20.",
        "13-8.",
        "14-10.",
        "14-11.",
        "14-14.",
        "14-7.",
        "15-1.",
        "15-20.",
        "16-1.",
        "16-16.",
        "17-10.",
        "17-11.",
        "17-2.",
        "19-1.",
        "19-16.",
        "19-19.",
        "19-20.",
        "19-3.",
        "2-10.",
        "2-11.",
        "2-17.",
        "2-18.",
        "2-20.",
        "2-3.",
        "2-4.",
        "2-5.",
        "2-6.",
        "2-7.",
        "2-8.",
        "3-13.",
        "3-18.",
        "3-3.",
        "4-1.",
        "4-10.",
        "4-11.",
        "4-19.",
        "5-5.",
        "6-15.",
        "7-10.",
        "7-14.",
        "8-18.",
        "8-20.",
        "8-3.",
        "8-8."
       ],
       "num_examples_per_domain_per_label": -1,
       "pickle_path": "/root/csc500-main/datasets/cores.stratified_ds.2022A.pkl",
       "source_or_target_dataset": "target",
       "x_transforms": [
        "unit_power",
        "jitter_256_10",
        "lowpass_+/-10MHz",
        "take_200"
       ]
      },
      {
       "domain_prefix": "O_",
       "domains": [
        32,
        38,
        8,
        44,
        14,
        50,
        20,
        26
       ],
       "episode_transforms": [],
       "labels": [
        "3123D52",
        "3123D65",
        "3123D79",
        "3123D80",
        "3123D54",
        "3123D70",
        "3123D7B",
        "3123D89",
        "3123D58",
        "3123D76",
        "3123D7D",
        "3123EFE",
        "3123D64",
        "3123D78",
        "3123D7E",
        "3124E4A"
       ],
       "num_examples_per_domain_per_label": 2000,
       "pickle_path": "/root/csc500-main/datasets/oracle.Run1_framed_2000Examples_stratified_ds.2022A.pkl",
       "source_or_target_dataset": "source",
       "x_transforms": [
        "unit_power",
        "jitter_256_10",
        "take_200",
        "resample_20Msps_to_25Msps"
       ]
      }
     ],
     "device": "cuda",
     "experiment_name": "tl_3-jitter10v2:oracle.run1.framed -> cores",
     "lr": 0.0001,
     "n_epoch": 50,
     "n_query": 2,
     "n_shot": 3,
     "n_way": 16,
     "patience": 3,
     "seed": 420,
     "test_k_factor": 2,
     "torch_default_dtype": "torch.float32",
     "train_k_factor": 3,
     "val_k_factor": 2,
     "x_net": [
      {
       "class": "nnReshape",
       "kargs": {
        "shape": [
         -1,
         1,
         2,
         256
        ]
       }
      },
      {
       "class": "Conv2d",
       "kargs": {
        "bias": false,
        "in_channels": 1,
        "kernel_size": [
         1,
         7
        ],
        "out_channels": 256,
        "padding": [
         0,
         3
        ]
       }
      },
      {
       "class": "ReLU",
       "kargs": {
        "inplace": true
       }
      },
      {
       "class": "BatchNorm2d",
       "kargs": {
        "num_features": 256
       }
      },
      {
       "class": "Conv2d",
       "kargs": {
        "bias": true,
        "in_channels": 256,
        "kernel_size": [
         2,
         7
        ],
        "out_channels": 80,
        "padding": [
         0,
         3
        ]
       }
      },
      {
       "class": "ReLU",
       "kargs": {
        "inplace": true
       }
      },
      {
       "class": "BatchNorm2d",
       "kargs": {
        "num_features": 80
       }
      },
      {
       "class": "Flatten",
       "kargs": {}
      },
      {
       "class": "Linear",
       "kargs": {
        "in_features": 20480,
        "out_features": 256
       }
      },
      {
       "class": "ReLU",
       "kargs": {
        "inplace": true
       }
      },
      {
       "class": "BatchNorm1d",
       "kargs": {
        "num_features": 256
       }
      },
      {
       "class": "Linear",
       "kargs": {
        "in_features": 256,
        "out_features": 256
       }
      }
     ],
     "x_shape": [
      2,
      256
     ]
    }
   },
   "start_time": "2022-03-28T09:52:22.836994",
   "version": "2.3.4"
  }
 },
 "nbformat": 4,
 "nbformat_minor": 5
}