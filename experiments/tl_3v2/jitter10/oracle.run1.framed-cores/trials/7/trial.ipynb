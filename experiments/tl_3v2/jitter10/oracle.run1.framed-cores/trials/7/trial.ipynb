{
 "cells": [
  {
   "cell_type": "markdown",
   "id": "9fea5f46",
   "metadata": {
    "papermill": {
     "duration": 0.031572,
     "end_time": "2022-03-28T10:28:28.832489",
     "exception": false,
     "start_time": "2022-03-28T10:28:28.800917",
     "status": "completed"
    },
    "tags": []
   },
   "source": [
    "# Transfer Learning Template"
   ]
  },
  {
   "cell_type": "code",
   "execution_count": 1,
   "id": "0902182a",
   "metadata": {
    "execution": {
     "iopub.execute_input": "2022-03-28T10:28:28.893053Z",
     "iopub.status.busy": "2022-03-28T10:28:28.886147Z",
     "iopub.status.idle": "2022-03-28T10:28:30.703497Z",
     "shell.execute_reply": "2022-03-28T10:28:30.703047Z"
    },
    "papermill": {
     "duration": 1.849273,
     "end_time": "2022-03-28T10:28:30.703613",
     "exception": false,
     "start_time": "2022-03-28T10:28:28.854340",
     "status": "completed"
    },
    "tags": []
   },
   "outputs": [],
   "source": [
    "%load_ext autoreload\n",
    "%autoreload 2\n",
    "%matplotlib inline\n",
    "\n",
    "    \n",
    "import os, json, sys, time, random\n",
    "import numpy as np\n",
    "import torch\n",
    "from torch.optim import Adam\n",
    "from  easydict import EasyDict\n",
    "import matplotlib.pyplot as plt\n",
    "\n",
    "from steves_models.steves_ptn import Steves_Prototypical_Network\n",
    "\n",
    "from steves_utils.lazy_iterable_wrapper import Lazy_Iterable_Wrapper\n",
    "from steves_utils.iterable_aggregator import Iterable_Aggregator\n",
    "from steves_utils.ptn_train_eval_test_jig import  PTN_Train_Eval_Test_Jig\n",
    "from steves_utils.torch_sequential_builder import build_sequential\n",
    "from steves_utils.torch_utils import get_dataset_metrics, ptn_confusion_by_domain_over_dataloader\n",
    "from steves_utils.utils_v2 import (per_domain_accuracy_from_confusion, get_datasets_base_path)\n",
    "from steves_utils.PTN.utils import independent_accuracy_assesment\n",
    "\n",
    "from torch.utils.data import DataLoader\n",
    "\n",
    "from steves_utils.stratified_dataset.episodic_accessor import Episodic_Accessor_Factory\n",
    "\n",
    "from steves_utils.ptn_do_report import (\n",
    "    get_loss_curve,\n",
    "    get_results_table,\n",
    "    get_parameters_table,\n",
    "    get_domain_accuracies,\n",
    ")\n",
    "\n",
    "from steves_utils.transforms import get_chained_transform"
   ]
  },
  {
   "cell_type": "markdown",
   "id": "41c840b4",
   "metadata": {
    "papermill": {
     "duration": 0.018995,
     "end_time": "2022-03-28T10:28:30.742634",
     "exception": false,
     "start_time": "2022-03-28T10:28:30.723639",
     "status": "completed"
    },
    "tags": []
   },
   "source": [
    "# Allowed Parameters\n",
    "These are allowed parameters, not defaults\n",
    "Each of these values need to be present in the injected parameters (the notebook will raise an exception if they are not present)\n",
    "\n",
    "Papermill uses the cell tag \"parameters\" to inject the real parameters below this cell.\n",
    "Enable tags to see what I mean"
   ]
  },
  {
   "cell_type": "code",
   "execution_count": 2,
   "id": "fd44eb83",
   "metadata": {
    "execution": {
     "iopub.execute_input": "2022-03-28T10:28:30.786884Z",
     "iopub.status.busy": "2022-03-28T10:28:30.786503Z",
     "iopub.status.idle": "2022-03-28T10:28:30.810181Z",
     "shell.execute_reply": "2022-03-28T10:28:30.809859Z"
    },
    "papermill": {
     "duration": 0.048199,
     "end_time": "2022-03-28T10:28:30.810250",
     "exception": false,
     "start_time": "2022-03-28T10:28:30.762051",
     "status": "completed"
    },
    "tags": []
   },
   "outputs": [],
   "source": [
    "required_parameters = {\n",
    "    \"experiment_name\",\n",
    "    \"lr\",\n",
    "    \"device\",\n",
    "    \"seed\",\n",
    "    \"dataset_seed\",\n",
    "    \"n_shot\",\n",
    "    \"n_query\",\n",
    "    \"n_way\",\n",
    "    \"train_k_factor\",\n",
    "    \"val_k_factor\",\n",
    "    \"test_k_factor\",\n",
    "    \"n_epoch\",\n",
    "    \"patience\",\n",
    "    \"criteria_for_best\",\n",
    "    \"x_net\",\n",
    "    \"datasets\",\n",
    "    \"torch_default_dtype\",\n",
    "    \"NUM_LOGS_PER_EPOCH\",\n",
    "    \"BEST_MODEL_PATH\",\n",
    "    \"x_shape\",\n",
    "}"
   ]
  },
  {
   "cell_type": "code",
   "execution_count": 3,
   "id": "fa3f0049",
   "metadata": {
    "execution": {
     "iopub.execute_input": "2022-03-28T10:28:30.865119Z",
     "iopub.status.busy": "2022-03-28T10:28:30.862247Z",
     "iopub.status.idle": "2022-03-28T10:28:30.884886Z",
     "shell.execute_reply": "2022-03-28T10:28:30.884505Z"
    },
    "papermill": {
     "duration": 0.05515,
     "end_time": "2022-03-28T10:28:30.884970",
     "exception": false,
     "start_time": "2022-03-28T10:28:30.829820",
     "status": "completed"
    },
    "tags": [
     "parameters"
    ]
   },
   "outputs": [],
   "source": [
    "from steves_utils.CORES.utils import (\n",
    "    ALL_NODES,\n",
    "    ALL_NODES_MINIMUM_1000_EXAMPLES,\n",
    "    ALL_DAYS\n",
    ")\n",
    "\n",
    "from steves_utils.ORACLE.utils_v2 import (\n",
    "    ALL_DISTANCES_FEET_NARROWED,\n",
    "    ALL_RUNS,\n",
    "    ALL_SERIAL_NUMBERS,\n",
    ")\n",
    "\n",
    "standalone_parameters = {}\n",
    "standalone_parameters[\"experiment_name\"] = \"STANDALONE PTN\"\n",
    "standalone_parameters[\"lr\"] = 0.001\n",
    "standalone_parameters[\"device\"] = \"cuda\"\n",
    "\n",
    "standalone_parameters[\"seed\"] = 1337\n",
    "standalone_parameters[\"dataset_seed\"] = 1337\n",
    "\n",
    "standalone_parameters[\"n_way\"] = 8\n",
    "standalone_parameters[\"n_shot\"] = 3\n",
    "standalone_parameters[\"n_query\"]  = 2\n",
    "standalone_parameters[\"train_k_factor\"] = 1\n",
    "standalone_parameters[\"val_k_factor\"] = 2\n",
    "standalone_parameters[\"test_k_factor\"] = 2\n",
    "\n",
    "\n",
    "standalone_parameters[\"n_epoch\"] = 50\n",
    "\n",
    "standalone_parameters[\"patience\"] = 10\n",
    "standalone_parameters[\"criteria_for_best\"] = \"source_loss\"\n",
    "\n",
    "standalone_parameters[\"datasets\"] = [\n",
    "    {\n",
    "        \"labels\": ALL_SERIAL_NUMBERS,\n",
    "        \"domains\": ALL_DISTANCES_FEET_NARROWED,\n",
    "        \"num_examples_per_domain_per_label\": 100,\n",
    "        \"pickle_path\": os.path.join(get_datasets_base_path(), \"oracle.Run1_framed_2000Examples_stratified_ds.2022A.pkl\"),\n",
    "        \"source_or_target_dataset\": \"source\",\n",
    "        \"x_transforms\": [\"unit_mag\", \"minus_two\"],\n",
    "        \"episode_transforms\": [],\n",
    "        \"domain_prefix\": \"ORACLE_\"\n",
    "    },\n",
    "    {\n",
    "        \"labels\": ALL_NODES,\n",
    "        \"domains\": ALL_DAYS,\n",
    "        \"num_examples_per_domain_per_label\": 100,\n",
    "        \"pickle_path\": os.path.join(get_datasets_base_path(), \"cores.stratified_ds.2022A.pkl\"),\n",
    "        \"source_or_target_dataset\": \"target\",\n",
    "        \"x_transforms\": [\"unit_power\", \"times_zero\"],\n",
    "        \"episode_transforms\": [],\n",
    "        \"domain_prefix\": \"CORES_\"\n",
    "    }   \n",
    "]\n",
    "\n",
    "standalone_parameters[\"torch_default_dtype\"] = \"torch.float32\" \n",
    "\n",
    "\n",
    "\n",
    "standalone_parameters[\"x_net\"] =     [\n",
    "    {\"class\": \"nnReshape\", \"kargs\": {\"shape\":[-1, 1, 2, 256]}},\n",
    "    {\"class\": \"Conv2d\", \"kargs\": { \"in_channels\":1, \"out_channels\":256, \"kernel_size\":(1,7), \"bias\":False, \"padding\":(0,3), },},\n",
    "    {\"class\": \"ReLU\", \"kargs\": {\"inplace\": True}},\n",
    "    {\"class\": \"BatchNorm2d\", \"kargs\": {\"num_features\":256}},\n",
    "\n",
    "    {\"class\": \"Conv2d\", \"kargs\": { \"in_channels\":256, \"out_channels\":80, \"kernel_size\":(2,7), \"bias\":True, \"padding\":(0,3), },},\n",
    "    {\"class\": \"ReLU\", \"kargs\": {\"inplace\": True}},\n",
    "    {\"class\": \"BatchNorm2d\", \"kargs\": {\"num_features\":80}},\n",
    "    {\"class\": \"Flatten\", \"kargs\": {}},\n",
    "\n",
    "    {\"class\": \"Linear\", \"kargs\": {\"in_features\": 80*256, \"out_features\": 256}}, # 80 units per IQ pair\n",
    "    {\"class\": \"ReLU\", \"kargs\": {\"inplace\": True}},\n",
    "    {\"class\": \"BatchNorm1d\", \"kargs\": {\"num_features\":256}},\n",
    "\n",
    "    {\"class\": \"Linear\", \"kargs\": {\"in_features\": 256, \"out_features\": 256}},\n",
    "]\n",
    "\n",
    "# Parameters relevant to results\n",
    "# These parameters will basically never need to change\n",
    "standalone_parameters[\"NUM_LOGS_PER_EPOCH\"] = 10\n",
    "standalone_parameters[\"BEST_MODEL_PATH\"] = \"./best_model.pth\"\n",
    "\n",
    "\n",
    "\n",
    "\n"
   ]
  },
  {
   "cell_type": "code",
   "execution_count": 4,
   "id": "1ada2ca5",
   "metadata": {
    "execution": {
     "iopub.execute_input": "2022-03-28T10:28:30.937394Z",
     "iopub.status.busy": "2022-03-28T10:28:30.936958Z",
     "iopub.status.idle": "2022-03-28T10:28:30.957524Z",
     "shell.execute_reply": "2022-03-28T10:28:30.957829Z"
    },
    "papermill": {
     "duration": 0.053384,
     "end_time": "2022-03-28T10:28:30.957910",
     "exception": false,
     "start_time": "2022-03-28T10:28:30.904526",
     "status": "completed"
    },
    "tags": [
     "injected-parameters"
    ]
   },
   "outputs": [],
   "source": [
    "# Parameters\n",
    "parameters = {\n",
    "    \"experiment_name\": \"tl_3-jitter10v2:oracle.run1.framed -> cores\",\n",
    "    \"device\": \"cuda\",\n",
    "    \"lr\": 0.0001,\n",
    "    \"x_shape\": [2, 256],\n",
    "    \"n_shot\": 3,\n",
    "    \"n_query\": 2,\n",
    "    \"train_k_factor\": 3,\n",
    "    \"val_k_factor\": 2,\n",
    "    \"test_k_factor\": 2,\n",
    "    \"torch_default_dtype\": \"torch.float32\",\n",
    "    \"n_epoch\": 50,\n",
    "    \"patience\": 3,\n",
    "    \"criteria_for_best\": \"target_accuracy\",\n",
    "    \"x_net\": [\n",
    "        {\"class\": \"nnReshape\", \"kargs\": {\"shape\": [-1, 1, 2, 256]}},\n",
    "        {\n",
    "            \"class\": \"Conv2d\",\n",
    "            \"kargs\": {\n",
    "                \"in_channels\": 1,\n",
    "                \"out_channels\": 256,\n",
    "                \"kernel_size\": [1, 7],\n",
    "                \"bias\": False,\n",
    "                \"padding\": [0, 3],\n",
    "            },\n",
    "        },\n",
    "        {\"class\": \"ReLU\", \"kargs\": {\"inplace\": True}},\n",
    "        {\"class\": \"BatchNorm2d\", \"kargs\": {\"num_features\": 256}},\n",
    "        {\n",
    "            \"class\": \"Conv2d\",\n",
    "            \"kargs\": {\n",
    "                \"in_channels\": 256,\n",
    "                \"out_channels\": 80,\n",
    "                \"kernel_size\": [2, 7],\n",
    "                \"bias\": True,\n",
    "                \"padding\": [0, 3],\n",
    "            },\n",
    "        },\n",
    "        {\"class\": \"ReLU\", \"kargs\": {\"inplace\": True}},\n",
    "        {\"class\": \"BatchNorm2d\", \"kargs\": {\"num_features\": 80}},\n",
    "        {\"class\": \"Flatten\", \"kargs\": {}},\n",
    "        {\"class\": \"Linear\", \"kargs\": {\"in_features\": 20480, \"out_features\": 256}},\n",
    "        {\"class\": \"ReLU\", \"kargs\": {\"inplace\": True}},\n",
    "        {\"class\": \"BatchNorm1d\", \"kargs\": {\"num_features\": 256}},\n",
    "        {\"class\": \"Linear\", \"kargs\": {\"in_features\": 256, \"out_features\": 256}},\n",
    "    ],\n",
    "    \"NUM_LOGS_PER_EPOCH\": 10,\n",
    "    \"BEST_MODEL_PATH\": \"./best_model.pth\",\n",
    "    \"n_way\": 16,\n",
    "    \"datasets\": [\n",
    "        {\n",
    "            \"labels\": [\n",
    "                \"1-10.\",\n",
    "                \"1-11.\",\n",
    "                \"1-15.\",\n",
    "                \"1-16.\",\n",
    "                \"1-17.\",\n",
    "                \"1-18.\",\n",
    "                \"1-19.\",\n",
    "                \"10-4.\",\n",
    "                \"10-7.\",\n",
    "                \"11-1.\",\n",
    "                \"11-14.\",\n",
    "                \"11-17.\",\n",
    "                \"11-20.\",\n",
    "                \"11-7.\",\n",
    "                \"13-20.\",\n",
    "                \"13-8.\",\n",
    "                \"14-10.\",\n",
    "                \"14-11.\",\n",
    "                \"14-14.\",\n",
    "                \"14-7.\",\n",
    "                \"15-1.\",\n",
    "                \"15-20.\",\n",
    "                \"16-1.\",\n",
    "                \"16-16.\",\n",
    "                \"17-10.\",\n",
    "                \"17-11.\",\n",
    "                \"17-2.\",\n",
    "                \"19-1.\",\n",
    "                \"19-16.\",\n",
    "                \"19-19.\",\n",
    "                \"19-20.\",\n",
    "                \"19-3.\",\n",
    "                \"2-10.\",\n",
    "                \"2-11.\",\n",
    "                \"2-17.\",\n",
    "                \"2-18.\",\n",
    "                \"2-20.\",\n",
    "                \"2-3.\",\n",
    "                \"2-4.\",\n",
    "                \"2-5.\",\n",
    "                \"2-6.\",\n",
    "                \"2-7.\",\n",
    "                \"2-8.\",\n",
    "                \"3-13.\",\n",
    "                \"3-18.\",\n",
    "                \"3-3.\",\n",
    "                \"4-1.\",\n",
    "                \"4-10.\",\n",
    "                \"4-11.\",\n",
    "                \"4-19.\",\n",
    "                \"5-5.\",\n",
    "                \"6-15.\",\n",
    "                \"7-10.\",\n",
    "                \"7-14.\",\n",
    "                \"8-18.\",\n",
    "                \"8-20.\",\n",
    "                \"8-3.\",\n",
    "                \"8-8.\",\n",
    "            ],\n",
    "            \"domains\": [1, 2, 3, 4, 5],\n",
    "            \"num_examples_per_domain_per_label\": -1,\n",
    "            \"pickle_path\": \"/root/csc500-main/datasets/cores.stratified_ds.2022A.pkl\",\n",
    "            \"source_or_target_dataset\": \"target\",\n",
    "            \"x_transforms\": [\n",
    "                \"unit_mag\",\n",
    "                \"jitter_256_10\",\n",
    "                \"lowpass_+/-10MHz\",\n",
    "                \"take_200\",\n",
    "            ],\n",
    "            \"episode_transforms\": [],\n",
    "            \"domain_prefix\": \"C_\",\n",
    "        },\n",
    "        {\n",
    "            \"labels\": [\n",
    "                \"3123D52\",\n",
    "                \"3123D65\",\n",
    "                \"3123D79\",\n",
    "                \"3123D80\",\n",
    "                \"3123D54\",\n",
    "                \"3123D70\",\n",
    "                \"3123D7B\",\n",
    "                \"3123D89\",\n",
    "                \"3123D58\",\n",
    "                \"3123D76\",\n",
    "                \"3123D7D\",\n",
    "                \"3123EFE\",\n",
    "                \"3123D64\",\n",
    "                \"3123D78\",\n",
    "                \"3123D7E\",\n",
    "                \"3124E4A\",\n",
    "            ],\n",
    "            \"domains\": [32, 38, 8, 44, 14, 50, 20, 26],\n",
    "            \"num_examples_per_domain_per_label\": 2000,\n",
    "            \"pickle_path\": \"/root/csc500-main/datasets/oracle.Run1_framed_2000Examples_stratified_ds.2022A.pkl\",\n",
    "            \"source_or_target_dataset\": \"source\",\n",
    "            \"x_transforms\": [\n",
    "                \"unit_mag\",\n",
    "                \"jitter_256_10\",\n",
    "                \"take_200\",\n",
    "                \"resample_20Msps_to_25Msps\",\n",
    "            ],\n",
    "            \"episode_transforms\": [],\n",
    "            \"domain_prefix\": \"O_\",\n",
    "        },\n",
    "    ],\n",
    "    \"seed\": 154325,\n",
    "    \"dataset_seed\": 154325,\n",
    "}\n"
   ]
  },
  {
   "cell_type": "code",
   "execution_count": 5,
   "id": "8fa1cc33",
   "metadata": {
    "execution": {
     "iopub.execute_input": "2022-03-28T10:28:31.004200Z",
     "iopub.status.busy": "2022-03-28T10:28:31.003827Z",
     "iopub.status.idle": "2022-03-28T10:28:31.025083Z",
     "shell.execute_reply": "2022-03-28T10:28:31.025373Z"
    },
    "papermill": {
     "duration": 0.047696,
     "end_time": "2022-03-28T10:28:31.025459",
     "exception": false,
     "start_time": "2022-03-28T10:28:30.977763",
     "status": "completed"
    },
    "tags": []
   },
   "outputs": [],
   "source": [
    "# Set this to True if you want to run this template directly\n",
    "STANDALONE = False\n",
    "if STANDALONE:\n",
    "    print(\"parameters not injected, running with standalone_parameters\")\n",
    "    parameters = standalone_parameters\n",
    "\n",
    "if not 'parameters' in locals() and not 'parameters' in globals():\n",
    "    raise Exception(\"Parameter injection failed\")\n",
    "\n",
    "#Use an easy dict for all the parameters\n",
    "p = EasyDict(parameters)\n",
    "\n",
    "if \"x_shape\" not in p:\n",
    "    p.x_shape = [2,256] # Default to this if we dont supply x_shape\n",
    "\n",
    "\n",
    "supplied_keys = set(p.keys())\n",
    "\n",
    "if  supplied_keys != required_parameters:\n",
    "    print(\"Parameters are incorrect\")\n",
    "    if len(supplied_keys - required_parameters)>0: print(\"Shouldn't have:\", str(supplied_keys - required_parameters))\n",
    "    if len(required_parameters - supplied_keys)>0: print(\"Need to have:\", str(required_parameters - supplied_keys))\n",
    "    raise RuntimeError(\"Parameters are incorrect\")"
   ]
  },
  {
   "cell_type": "code",
   "execution_count": 6,
   "id": "3a028d58",
   "metadata": {
    "execution": {
     "iopub.execute_input": "2022-03-28T10:28:31.068007Z",
     "iopub.status.busy": "2022-03-28T10:28:31.067641Z",
     "iopub.status.idle": "2022-03-28T10:28:31.089185Z",
     "shell.execute_reply": "2022-03-28T10:28:31.088870Z"
    },
    "papermill": {
     "duration": 0.044103,
     "end_time": "2022-03-28T10:28:31.089252",
     "exception": false,
     "start_time": "2022-03-28T10:28:31.045149",
     "status": "completed"
    },
    "tags": []
   },
   "outputs": [],
   "source": [
    "###################################\n",
    "# Set the RNGs and make it all deterministic\n",
    "###################################\n",
    "np.random.seed(p.seed)\n",
    "random.seed(p.seed)\n",
    "torch.manual_seed(p.seed)\n",
    "\n",
    "torch.use_deterministic_algorithms(True) "
   ]
  },
  {
   "cell_type": "code",
   "execution_count": 7,
   "id": "b691acf6",
   "metadata": {
    "execution": {
     "iopub.execute_input": "2022-03-28T10:28:31.132403Z",
     "iopub.status.busy": "2022-03-28T10:28:31.132038Z",
     "iopub.status.idle": "2022-03-28T10:28:31.154321Z",
     "shell.execute_reply": "2022-03-28T10:28:31.153957Z"
    },
    "papermill": {
     "duration": 0.045236,
     "end_time": "2022-03-28T10:28:31.154390",
     "exception": false,
     "start_time": "2022-03-28T10:28:31.109154",
     "status": "completed"
    },
    "tags": []
   },
   "outputs": [],
   "source": [
    "###########################################\n",
    "# The stratified datasets honor this\n",
    "###########################################\n",
    "torch.set_default_dtype(eval(p.torch_default_dtype))"
   ]
  },
  {
   "cell_type": "code",
   "execution_count": 8,
   "id": "b5fba671",
   "metadata": {
    "execution": {
     "iopub.execute_input": "2022-03-28T10:28:31.197678Z",
     "iopub.status.busy": "2022-03-28T10:28:31.197315Z",
     "iopub.status.idle": "2022-03-28T10:28:31.251624Z",
     "shell.execute_reply": "2022-03-28T10:28:31.251296Z"
    },
    "papermill": {
     "duration": 0.077431,
     "end_time": "2022-03-28T10:28:31.251695",
     "exception": false,
     "start_time": "2022-03-28T10:28:31.174264",
     "status": "completed"
    },
    "tags": []
   },
   "outputs": [],
   "source": [
    "###################################\n",
    "# Build the network(s)\n",
    "# Note: It's critical to do this AFTER setting the RNG\n",
    "###################################\n",
    "x_net = build_sequential(p.x_net)"
   ]
  },
  {
   "cell_type": "code",
   "execution_count": 9,
   "id": "5d7e61cc",
   "metadata": {
    "execution": {
     "iopub.execute_input": "2022-03-28T10:28:31.296233Z",
     "iopub.status.busy": "2022-03-28T10:28:31.295871Z",
     "iopub.status.idle": "2022-03-28T10:28:31.320798Z",
     "shell.execute_reply": "2022-03-28T10:28:31.320479Z"
    },
    "papermill": {
     "duration": 0.04864,
     "end_time": "2022-03-28T10:28:31.320866",
     "exception": false,
     "start_time": "2022-03-28T10:28:31.272226",
     "status": "completed"
    },
    "tags": []
   },
   "outputs": [],
   "source": [
    "start_time_secs = time.time()"
   ]
  },
  {
   "cell_type": "code",
   "execution_count": 10,
   "id": "c6b67dfd",
   "metadata": {
    "execution": {
     "iopub.execute_input": "2022-03-28T10:28:31.365677Z",
     "iopub.status.busy": "2022-03-28T10:28:31.365311Z",
     "iopub.status.idle": "2022-03-28T10:28:31.387398Z",
     "shell.execute_reply": "2022-03-28T10:28:31.387081Z"
    },
    "papermill": {
     "duration": 0.046468,
     "end_time": "2022-03-28T10:28:31.387467",
     "exception": false,
     "start_time": "2022-03-28T10:28:31.340999",
     "status": "completed"
    },
    "tags": []
   },
   "outputs": [],
   "source": [
    "p.domains_source = []\n",
    "p.domains_target = []\n",
    "\n",
    "\n",
    "train_original_source = []\n",
    "val_original_source   = []\n",
    "test_original_source  = []\n",
    "\n",
    "train_original_target = []\n",
    "val_original_target   = []\n",
    "test_original_target  = []"
   ]
  },
  {
   "cell_type": "code",
   "execution_count": 11,
   "id": "e3d9c3d3",
   "metadata": {
    "execution": {
     "iopub.execute_input": "2022-03-28T10:28:31.431111Z",
     "iopub.status.busy": "2022-03-28T10:28:31.430745Z",
     "iopub.status.idle": "2022-03-28T10:28:31.453264Z",
     "shell.execute_reply": "2022-03-28T10:28:31.453570Z"
    },
    "papermill": {
     "duration": 0.04598,
     "end_time": "2022-03-28T10:28:31.453649",
     "exception": false,
     "start_time": "2022-03-28T10:28:31.407669",
     "status": "completed"
    },
    "tags": []
   },
   "outputs": [],
   "source": [
    "# global_x_transform_func = lambda x: normalize(x.to(torch.get_default_dtype()), \"unit_power\") # unit_power, unit_mag\n",
    "# global_x_transform_func = lambda x: normalize(x, \"unit_power\") # unit_power, unit_mag"
   ]
  },
  {
   "cell_type": "code",
   "execution_count": 12,
   "id": "acb78fd2",
   "metadata": {
    "execution": {
     "iopub.execute_input": "2022-03-28T10:28:31.508268Z",
     "iopub.status.busy": "2022-03-28T10:28:31.507886Z",
     "iopub.status.idle": "2022-03-28T10:28:31.530240Z",
     "shell.execute_reply": "2022-03-28T10:28:31.529874Z"
    },
    "papermill": {
     "duration": 0.056136,
     "end_time": "2022-03-28T10:28:31.530309",
     "exception": false,
     "start_time": "2022-03-28T10:28:31.474173",
     "status": "completed"
    },
    "tags": []
   },
   "outputs": [],
   "source": [
    "def add_dataset(\n",
    "    labels,\n",
    "    domains,\n",
    "    pickle_path,\n",
    "    x_transforms,\n",
    "    episode_transforms,\n",
    "    domain_prefix,\n",
    "    num_examples_per_domain_per_label,\n",
    "    source_or_target_dataset:str,\n",
    "    iterator_seed=p.seed,\n",
    "    dataset_seed=p.dataset_seed,\n",
    "    n_shot=p.n_shot,\n",
    "    n_way=p.n_way,\n",
    "    n_query=p.n_query,\n",
    "    train_val_test_k_factors=(p.train_k_factor,p.val_k_factor,p.test_k_factor),\n",
    "):\n",
    "   \n",
    "    if x_transforms == []: x_transform = None\n",
    "    else: x_transform = get_chained_transform(x_transforms)\n",
    "    \n",
    "    if episode_transforms == []: episode_transform = None\n",
    "    else: raise Exception(\"episode_transforms not implemented\")\n",
    "    \n",
    "    episode_transform = lambda tup, _prefix=domain_prefix: (_prefix + str(tup[0]), tup[1])\n",
    "\n",
    "\n",
    "    eaf = Episodic_Accessor_Factory(\n",
    "        labels=labels,\n",
    "        domains=domains,\n",
    "        num_examples_per_domain_per_label=num_examples_per_domain_per_label,\n",
    "        iterator_seed=iterator_seed,\n",
    "        dataset_seed=dataset_seed,\n",
    "        n_shot=n_shot,\n",
    "        n_way=n_way,\n",
    "        n_query=n_query,\n",
    "        train_val_test_k_factors=train_val_test_k_factors,\n",
    "        pickle_path=pickle_path,\n",
    "        x_transform_func=x_transform,\n",
    "    )\n",
    "\n",
    "    train, val, test = eaf.get_train(), eaf.get_val(), eaf.get_test()\n",
    "    train = Lazy_Iterable_Wrapper(train, episode_transform)\n",
    "    val = Lazy_Iterable_Wrapper(val, episode_transform)\n",
    "    test = Lazy_Iterable_Wrapper(test, episode_transform)\n",
    "\n",
    "    if source_or_target_dataset==\"source\":\n",
    "        train_original_source.append(train)\n",
    "        val_original_source.append(val)\n",
    "        test_original_source.append(test)\n",
    "\n",
    "        p.domains_source.extend(\n",
    "            [domain_prefix + str(u) for u in domains]\n",
    "        )\n",
    "    elif source_or_target_dataset==\"target\":\n",
    "        train_original_target.append(train)\n",
    "        val_original_target.append(val)\n",
    "        test_original_target.append(test)\n",
    "        p.domains_target.extend(\n",
    "            [domain_prefix + str(u) for u in domains]\n",
    "        )\n",
    "    else:\n",
    "        raise Exception(f\"invalid source_or_target_dataset: {source_or_target_dataset}\")\n",
    "    "
   ]
  },
  {
   "cell_type": "code",
   "execution_count": 13,
   "id": "fe266617",
   "metadata": {
    "execution": {
     "iopub.execute_input": "2022-03-28T10:28:31.574852Z",
     "iopub.status.busy": "2022-03-28T10:28:31.574488Z",
     "iopub.status.idle": "2022-03-28T10:30:21.823448Z",
     "shell.execute_reply": "2022-03-28T10:30:21.822655Z"
    },
    "papermill": {
     "duration": 110.272856,
     "end_time": "2022-03-28T10:30:21.823672",
     "exception": false,
     "start_time": "2022-03-28T10:28:31.550816",
     "status": "completed"
    },
    "tags": []
   },
   "outputs": [],
   "source": [
    "for ds in p.datasets:\n",
    "    add_dataset(**ds)"
   ]
  },
  {
   "cell_type": "code",
   "execution_count": 14,
   "id": "b90d65ac",
   "metadata": {
    "execution": {
     "iopub.execute_input": "2022-03-28T10:30:21.876364Z",
     "iopub.status.busy": "2022-03-28T10:30:21.875988Z",
     "iopub.status.idle": "2022-03-28T10:30:21.901195Z",
     "shell.execute_reply": "2022-03-28T10:30:21.900382Z"
    },
    "papermill": {
     "duration": 0.049774,
     "end_time": "2022-03-28T10:30:21.901349",
     "exception": false,
     "start_time": "2022-03-28T10:30:21.851575",
     "status": "completed"
    },
    "tags": []
   },
   "outputs": [],
   "source": [
    "# from steves_utils.CORES.utils import (\n",
    "#     ALL_NODES,\n",
    "#     ALL_NODES_MINIMUM_1000_EXAMPLES,\n",
    "#     ALL_DAYS\n",
    "# )\n",
    "\n",
    "# add_dataset(\n",
    "#     labels=ALL_NODES,\n",
    "#     domains = ALL_DAYS,\n",
    "#     num_examples_per_domain_per_label=100,\n",
    "#     pickle_path=os.path.join(get_datasets_base_path(), \"cores.stratified_ds.2022A.pkl\"),\n",
    "#     source_or_target_dataset=\"target\",\n",
    "#     x_transform_func=global_x_transform_func,\n",
    "#     domain_modifier=lambda u: f\"cores_{u}\"\n",
    "# )"
   ]
  },
  {
   "cell_type": "code",
   "execution_count": 15,
   "id": "76db484d",
   "metadata": {
    "execution": {
     "iopub.execute_input": "2022-03-28T10:30:21.957071Z",
     "iopub.status.busy": "2022-03-28T10:30:21.956231Z",
     "iopub.status.idle": "2022-03-28T10:30:21.973942Z",
     "shell.execute_reply": "2022-03-28T10:30:21.973120Z"
    },
    "papermill": {
     "duration": 0.046372,
     "end_time": "2022-03-28T10:30:21.974099",
     "exception": false,
     "start_time": "2022-03-28T10:30:21.927727",
     "status": "completed"
    },
    "tags": []
   },
   "outputs": [],
   "source": [
    "# from steves_utils.ORACLE.utils_v2 import (\n",
    "#     ALL_DISTANCES_FEET,\n",
    "#     ALL_RUNS,\n",
    "#     ALL_SERIAL_NUMBERS,\n",
    "# )\n",
    "\n",
    "\n",
    "# add_dataset(\n",
    "#     labels=ALL_SERIAL_NUMBERS,\n",
    "#     domains = list(set(ALL_DISTANCES_FEET) - {2,62}),\n",
    "#     num_examples_per_domain_per_label=100,\n",
    "#     pickle_path=os.path.join(get_datasets_base_path(), \"oracle.Run2_framed_2000Examples_stratified_ds.2022A.pkl\"),\n",
    "#     source_or_target_dataset=\"source\",\n",
    "#     x_transform_func=global_x_transform_func,\n",
    "#     domain_modifier=lambda u: f\"oracle1_{u}\"\n",
    "# )\n"
   ]
  },
  {
   "cell_type": "code",
   "execution_count": 16,
   "id": "97dea9d2",
   "metadata": {
    "execution": {
     "iopub.execute_input": "2022-03-28T10:30:22.033111Z",
     "iopub.status.busy": "2022-03-28T10:30:22.029727Z",
     "iopub.status.idle": "2022-03-28T10:30:22.046642Z",
     "shell.execute_reply": "2022-03-28T10:30:22.045832Z"
    },
    "papermill": {
     "duration": 0.043911,
     "end_time": "2022-03-28T10:30:22.046796",
     "exception": false,
     "start_time": "2022-03-28T10:30:22.002885",
     "status": "completed"
    },
    "tags": []
   },
   "outputs": [],
   "source": [
    "# from steves_utils.ORACLE.utils_v2 import (\n",
    "#     ALL_DISTANCES_FEET,\n",
    "#     ALL_RUNS,\n",
    "#     ALL_SERIAL_NUMBERS,\n",
    "# )\n",
    "\n",
    "\n",
    "# add_dataset(\n",
    "#     labels=ALL_SERIAL_NUMBERS,\n",
    "#     domains = list(set(ALL_DISTANCES_FEET) - {2,62,56}),\n",
    "#     num_examples_per_domain_per_label=100,\n",
    "#     pickle_path=os.path.join(get_datasets_base_path(), \"oracle.Run2_framed_2000Examples_stratified_ds.2022A.pkl\"),\n",
    "#     source_or_target_dataset=\"source\",\n",
    "#     x_transform_func=global_x_transform_func,\n",
    "#     domain_modifier=lambda u: f\"oracle2_{u}\"\n",
    "# )"
   ]
  },
  {
   "cell_type": "code",
   "execution_count": 17,
   "id": "6f289866",
   "metadata": {
    "execution": {
     "iopub.execute_input": "2022-03-28T10:30:22.100467Z",
     "iopub.status.busy": "2022-03-28T10:30:22.099878Z",
     "iopub.status.idle": "2022-03-28T10:30:22.121422Z",
     "shell.execute_reply": "2022-03-28T10:30:22.120603Z"
    },
    "papermill": {
     "duration": 0.046479,
     "end_time": "2022-03-28T10:30:22.121576",
     "exception": false,
     "start_time": "2022-03-28T10:30:22.075097",
     "status": "completed"
    },
    "tags": []
   },
   "outputs": [],
   "source": [
    "# add_dataset(\n",
    "#     labels=list(range(19)),\n",
    "#     domains = [0,1,2],\n",
    "#     num_examples_per_domain_per_label=100,\n",
    "#     pickle_path=os.path.join(get_datasets_base_path(), \"metehan.stratified_ds.2022A.pkl\"),\n",
    "#     source_or_target_dataset=\"target\",\n",
    "#     x_transform_func=global_x_transform_func,\n",
    "#     domain_modifier=lambda u: f\"met_{u}\"\n",
    "# )"
   ]
  },
  {
   "cell_type": "code",
   "execution_count": 18,
   "id": "86a863c3",
   "metadata": {
    "execution": {
     "iopub.execute_input": "2022-03-28T10:30:22.172071Z",
     "iopub.status.busy": "2022-03-28T10:30:22.171697Z",
     "iopub.status.idle": "2022-03-28T10:30:22.188755Z",
     "shell.execute_reply": "2022-03-28T10:30:22.187931Z"
    },
    "papermill": {
     "duration": 0.040558,
     "end_time": "2022-03-28T10:30:22.188911",
     "exception": false,
     "start_time": "2022-03-28T10:30:22.148353",
     "status": "completed"
    },
    "tags": []
   },
   "outputs": [],
   "source": [
    "# # from steves_utils.wisig.utils import (\n",
    "# #     ALL_NODES_MINIMUM_100_EXAMPLES,\n",
    "# #     ALL_NODES_MINIMUM_500_EXAMPLES,\n",
    "# #     ALL_NODES_MINIMUM_1000_EXAMPLES,\n",
    "# #     ALL_DAYS\n",
    "# # )\n",
    "\n",
    "# import steves_utils.wisig.utils as wisig\n",
    "\n",
    "\n",
    "# add_dataset(\n",
    "#     labels=wisig.ALL_NODES_MINIMUM_100_EXAMPLES,\n",
    "#     domains = wisig.ALL_DAYS,\n",
    "#     num_examples_per_domain_per_label=100,\n",
    "#     pickle_path=os.path.join(get_datasets_base_path(), \"wisig.node3-19.stratified_ds.2022A.pkl\"),\n",
    "#     source_or_target_dataset=\"target\",\n",
    "#     x_transform_func=global_x_transform_func,\n",
    "#     domain_modifier=lambda u: f\"wisig_{u}\"\n",
    "# )"
   ]
  },
  {
   "cell_type": "code",
   "execution_count": 19,
   "id": "fd5442bc",
   "metadata": {
    "execution": {
     "iopub.execute_input": "2022-03-28T10:30:22.249239Z",
     "iopub.status.busy": "2022-03-28T10:30:22.248312Z",
     "iopub.status.idle": "2022-03-28T10:30:22.264683Z",
     "shell.execute_reply": "2022-03-28T10:30:22.263867Z"
    },
    "papermill": {
     "duration": 0.048705,
     "end_time": "2022-03-28T10:30:22.264838",
     "exception": false,
     "start_time": "2022-03-28T10:30:22.216133",
     "status": "completed"
    },
    "tags": []
   },
   "outputs": [],
   "source": [
    "###################################\n",
    "# Build the dataset\n",
    "###################################\n",
    "train_original_source = Iterable_Aggregator(train_original_source, p.seed)\n",
    "val_original_source = Iterable_Aggregator(val_original_source, p.seed)\n",
    "test_original_source = Iterable_Aggregator(test_original_source, p.seed)\n",
    "\n",
    "\n",
    "train_original_target = Iterable_Aggregator(train_original_target, p.seed)\n",
    "val_original_target = Iterable_Aggregator(val_original_target, p.seed)\n",
    "test_original_target = Iterable_Aggregator(test_original_target, p.seed)\n",
    "\n",
    "# For CNN We only use X and Y. And we only train on the source.\n",
    "# Properly form the data using a transform lambda and Lazy_Iterable_Wrapper. Finally wrap them in a dataloader\n",
    "\n",
    "transform_lambda = lambda ex: ex[1] # Original is (<domain>, <episode>) so we strip down to episode only\n",
    "\n",
    "train_processed_source = Lazy_Iterable_Wrapper(train_original_source, transform_lambda)\n",
    "val_processed_source   = Lazy_Iterable_Wrapper(val_original_source, transform_lambda)\n",
    "test_processed_source  = Lazy_Iterable_Wrapper(test_original_source, transform_lambda)\n",
    "\n",
    "train_processed_target = Lazy_Iterable_Wrapper(train_original_target, transform_lambda)\n",
    "val_processed_target   = Lazy_Iterable_Wrapper(val_original_target, transform_lambda)\n",
    "test_processed_target  = Lazy_Iterable_Wrapper(test_original_target, transform_lambda)\n",
    "\n",
    "datasets = EasyDict({\n",
    "    \"source\": {\n",
    "        \"original\": {\"train\":train_original_source, \"val\":val_original_source, \"test\":test_original_source},\n",
    "        \"processed\": {\"train\":train_processed_source, \"val\":val_processed_source, \"test\":test_processed_source}\n",
    "    },\n",
    "    \"target\": {\n",
    "        \"original\": {\"train\":train_original_target, \"val\":val_original_target, \"test\":test_original_target},\n",
    "        \"processed\": {\"train\":train_processed_target, \"val\":val_processed_target, \"test\":test_processed_target}\n",
    "    },\n",
    "})"
   ]
  },
  {
   "cell_type": "code",
   "execution_count": 20,
   "id": "5b3c01fc",
   "metadata": {
    "execution": {
     "iopub.execute_input": "2022-03-28T10:30:22.321466Z",
     "iopub.status.busy": "2022-03-28T10:30:22.320434Z",
     "iopub.status.idle": "2022-03-28T10:30:36.704106Z",
     "shell.execute_reply": "2022-03-28T10:30:36.703219Z"
    },
    "papermill": {
     "duration": 14.409897,
     "end_time": "2022-03-28T10:30:36.704284",
     "exception": false,
     "start_time": "2022-03-28T10:30:22.294387",
     "status": "completed"
    },
    "tags": []
   },
   "outputs": [
    {
     "name": "stdout",
     "output_type": "stream",
     "text": [
      "{'O_14', 'O_26', 'O_8', 'O_44', 'O_50', 'O_20', 'O_32', 'O_38'}\n"
     ]
    },
    {
     "name": "stdout",
     "output_type": "stream",
     "text": [
      "{'C_2', 'C_1', 'C_5', 'C_4', 'C_3'}\n"
     ]
    },
    {
     "name": "stdout",
     "output_type": "stream",
     "text": [
      "tensor([[[0., 0., 0.,  ..., 0., 0., 0.],\n",
      "         [0., 0., 0.,  ..., 0., 0., 0.]],\n",
      "\n",
      "        [[0., 0., 0.,  ..., 0., 0., 0.],\n",
      "         [0., 0., 0.,  ..., 0., 0., 0.]],\n",
      "\n",
      "        [[0., 0., 0.,  ..., 0., 0., 0.],\n",
      "         [0., 0., 0.,  ..., 0., 0., 0.]],\n",
      "\n",
      "        ...,\n",
      "\n",
      "        [[0., 0., 0.,  ..., 0., 0., 0.],\n",
      "         [0., 0., 0.,  ..., 0., 0., 0.]],\n",
      "\n",
      "        [[0., 0., 0.,  ..., 0., 0., 0.],\n",
      "         [0., 0., 0.,  ..., 0., 0., 0.]],\n",
      "\n",
      "        [[0., 0., 0.,  ..., 0., 0., 0.],\n",
      "         [0., 0., 0.,  ..., 0., 0., 0.]]])\n"
     ]
    }
   ],
   "source": [
    "from steves_utils.transforms import get_average_magnitude, get_average_power\n",
    "\n",
    "print(set([u for u,_ in val_original_source]))\n",
    "print(set([u for u,_ in val_original_target]))\n",
    "\n",
    "s_x, s_y, q_x, q_y, _ = next(iter(train_processed_source))\n",
    "print(s_x)\n",
    "\n",
    "# for ds in [\n",
    "#     train_processed_source,\n",
    "#     val_processed_source,\n",
    "#     test_processed_source,\n",
    "#     train_processed_target,\n",
    "#     val_processed_target,\n",
    "#     test_processed_target\n",
    "# ]:\n",
    "#     for s_x, s_y, q_x, q_y, _ in ds:\n",
    "#         for X in (s_x, q_x):\n",
    "#             for x in X:\n",
    "#                 assert np.isclose(get_average_magnitude(x.numpy()), 1.0)\n",
    "#                 assert np.isclose(get_average_power(x.numpy()), 1.0)\n",
    "                "
   ]
  },
  {
   "cell_type": "code",
   "execution_count": 21,
   "id": "bbdacba1",
   "metadata": {
    "execution": {
     "iopub.execute_input": "2022-03-28T10:30:36.762538Z",
     "iopub.status.busy": "2022-03-28T10:30:36.761972Z",
     "iopub.status.idle": "2022-03-28T10:30:36.874214Z",
     "shell.execute_reply": "2022-03-28T10:30:36.873440Z"
    },
    "papermill": {
     "duration": 0.143553,
     "end_time": "2022-03-28T10:30:36.874380",
     "exception": false,
     "start_time": "2022-03-28T10:30:36.730827",
     "status": "completed"
    },
    "tags": []
   },
   "outputs": [
    {
     "name": "stdout",
     "output_type": "stream",
     "text": [
      "(2, 256)\n"
     ]
    }
   ],
   "source": [
    "###################################\n",
    "# Build the model\n",
    "###################################\n",
    "# easfsl only wants a tuple for the shape\n",
    "model = Steves_Prototypical_Network(x_net, device=p.device, x_shape=tuple(p.x_shape))\n",
    "optimizer = Adam(params=model.parameters(), lr=p.lr)"
   ]
  },
  {
   "cell_type": "code",
   "execution_count": 22,
   "id": "22b39ac5",
   "metadata": {
    "execution": {
     "iopub.execute_input": "2022-03-28T10:30:36.927861Z",
     "iopub.status.busy": "2022-03-28T10:30:36.927297Z",
     "iopub.status.idle": "2022-03-28T10:48:10.310389Z",
     "shell.execute_reply": "2022-03-28T10:48:10.310049Z"
    },
    "papermill": {
     "duration": 1053.410632,
     "end_time": "2022-03-28T10:48:10.310470",
     "exception": false,
     "start_time": "2022-03-28T10:30:36.899838",
     "status": "completed"
    },
    "tags": []
   },
   "outputs": [
    {
     "name": "stdout",
     "output_type": "stream",
     "text": [
      "epoch: 1, [batch: 1 / 6720], examples_per_second: 32.8598, train_label_loss: 2.8027, \n"
     ]
    },
    {
     "name": "stdout",
     "output_type": "stream",
     "text": [
      "epoch: 1, [batch: 672 / 6720], examples_per_second: 3823.6403, train_label_loss: 2.7566, \n"
     ]
    },
    {
     "name": "stdout",
     "output_type": "stream",
     "text": [
      "epoch: 1, [batch: 1344 / 6720], examples_per_second: 3826.8996, train_label_loss: 2.7550, \n"
     ]
    },
    {
     "name": "stdout",
     "output_type": "stream",
     "text": [
      "epoch: 1, [batch: 2016 / 6720], examples_per_second: 3874.7672, train_label_loss: 2.8144, \n"
     ]
    },
    {
     "name": "stdout",
     "output_type": "stream",
     "text": [
      "epoch: 1, [batch: 2688 / 6720], examples_per_second: 3936.6306, train_label_loss: 2.7740, \n"
     ]
    },
    {
     "name": "stdout",
     "output_type": "stream",
     "text": [
      "epoch: 1, [batch: 3360 / 6720], examples_per_second: 4560.3387, train_label_loss: 2.5964, \n"
     ]
    },
    {
     "name": "stdout",
     "output_type": "stream",
     "text": [
      "epoch: 1, [batch: 4032 / 6720], examples_per_second: 4436.2071, train_label_loss: 1.5311, \n"
     ]
    },
    {
     "name": "stdout",
     "output_type": "stream",
     "text": [
      "epoch: 1, [batch: 4704 / 6720], examples_per_second: 3844.1021, train_label_loss: 1.4061, \n"
     ]
    },
    {
     "name": "stdout",
     "output_type": "stream",
     "text": [
      "epoch: 1, [batch: 5376 / 6720], examples_per_second: 3870.6746, train_label_loss: 1.2808, \n"
     ]
    },
    {
     "name": "stdout",
     "output_type": "stream",
     "text": [
      "epoch: 1, [batch: 6048 / 6720], examples_per_second: 3918.5620, train_label_loss: 1.3253, \n"
     ]
    },
    {
     "name": "stdout",
     "output_type": "stream",
     "text": [
      "=============================================================\n",
      "epoch: 1, source_val_acc_label: 0.3791, target_val_acc_label: 0.6830, source_val_label_loss: 1.7345, target_val_label_loss: 1.4333, \n",
      "=============================================================\n"
     ]
    },
    {
     "name": "stdout",
     "output_type": "stream",
     "text": [
      "New best\n"
     ]
    },
    {
     "name": "stdout",
     "output_type": "stream",
     "text": [
      "epoch: 2, [batch: 1 / 6720], examples_per_second: 3.9788, train_label_loss: 1.2104, \n"
     ]
    },
    {
     "name": "stdout",
     "output_type": "stream",
     "text": [
      "epoch: 2, [batch: 672 / 6720], examples_per_second: 3866.1319, train_label_loss: 1.3184, \n"
     ]
    },
    {
     "name": "stdout",
     "output_type": "stream",
     "text": [
      "epoch: 2, [batch: 1344 / 6720], examples_per_second: 3961.0992, train_label_loss: 2.0129, \n"
     ]
    },
    {
     "name": "stdout",
     "output_type": "stream",
     "text": [
      "epoch: 2, [batch: 2016 / 6720], examples_per_second: 4033.3770, train_label_loss: 1.0765, \n"
     ]
    },
    {
     "name": "stdout",
     "output_type": "stream",
     "text": [
      "epoch: 2, [batch: 2688 / 6720], examples_per_second: 3975.1526, train_label_loss: 1.3059, \n"
     ]
    },
    {
     "name": "stdout",
     "output_type": "stream",
     "text": [
      "epoch: 2, [batch: 3360 / 6720], examples_per_second: 4422.3838, train_label_loss: 0.6652, \n"
     ]
    },
    {
     "name": "stdout",
     "output_type": "stream",
     "text": [
      "epoch: 2, [batch: 4032 / 6720], examples_per_second: 4631.2807, train_label_loss: 0.8016, \n"
     ]
    },
    {
     "name": "stdout",
     "output_type": "stream",
     "text": [
      "epoch: 2, [batch: 4704 / 6720], examples_per_second: 4156.4989, train_label_loss: 0.5424, \n"
     ]
    },
    {
     "name": "stdout",
     "output_type": "stream",
     "text": [
      "epoch: 2, [batch: 5376 / 6720], examples_per_second: 3884.0225, train_label_loss: 1.4058, \n"
     ]
    },
    {
     "name": "stdout",
     "output_type": "stream",
     "text": [
      "epoch: 2, [batch: 6048 / 6720], examples_per_second: 3881.6474, train_label_loss: 0.9563, \n"
     ]
    },
    {
     "name": "stdout",
     "output_type": "stream",
     "text": [
      "=============================================================\n",
      "epoch: 2, source_val_acc_label: 0.6541, target_val_acc_label: 0.9473, source_val_label_loss: 0.9382, target_val_label_loss: 0.3055, \n",
      "=============================================================\n"
     ]
    },
    {
     "name": "stdout",
     "output_type": "stream",
     "text": [
      "New best\n"
     ]
    },
    {
     "name": "stdout",
     "output_type": "stream",
     "text": [
      "epoch: 3, [batch: 1 / 6720], examples_per_second: 4.0130, train_label_loss: 1.3414, \n"
     ]
    },
    {
     "name": "stdout",
     "output_type": "stream",
     "text": [
      "epoch: 3, [batch: 672 / 6720], examples_per_second: 3827.3508, train_label_loss: 0.8212, \n"
     ]
    },
    {
     "name": "stdout",
     "output_type": "stream",
     "text": [
      "epoch: 3, [batch: 1344 / 6720], examples_per_second: 3840.0523, train_label_loss: 0.8946, \n"
     ]
    },
    {
     "name": "stdout",
     "output_type": "stream",
     "text": [
      "epoch: 3, [batch: 2016 / 6720], examples_per_second: 4024.6377, train_label_loss: 1.1293, \n"
     ]
    },
    {
     "name": "stdout",
     "output_type": "stream",
     "text": [
      "epoch: 3, [batch: 2688 / 6720], examples_per_second: 3955.7536, train_label_loss: 0.8029, \n"
     ]
    },
    {
     "name": "stdout",
     "output_type": "stream",
     "text": [
      "epoch: 3, [batch: 3360 / 6720], examples_per_second: 4352.3495, train_label_loss: 0.6056, \n"
     ]
    },
    {
     "name": "stdout",
     "output_type": "stream",
     "text": [
      "epoch: 3, [batch: 4032 / 6720], examples_per_second: 4482.9356, train_label_loss: 0.7706, \n"
     ]
    },
    {
     "name": "stdout",
     "output_type": "stream",
     "text": [
      "epoch: 3, [batch: 4704 / 6720], examples_per_second: 4225.1606, train_label_loss: 0.7844, \n"
     ]
    },
    {
     "name": "stdout",
     "output_type": "stream",
     "text": [
      "epoch: 3, [batch: 5376 / 6720], examples_per_second: 3865.7946, train_label_loss: 0.5294, \n"
     ]
    },
    {
     "name": "stdout",
     "output_type": "stream",
     "text": [
      "epoch: 3, [batch: 6048 / 6720], examples_per_second: 3786.1064, train_label_loss: 1.2755, \n"
     ]
    },
    {
     "name": "stdout",
     "output_type": "stream",
     "text": [
      "=============================================================\n",
      "epoch: 3, source_val_acc_label: 0.6721, target_val_acc_label: 0.9535, source_val_label_loss: 0.8916, target_val_label_loss: 0.2635, \n",
      "=============================================================\n"
     ]
    },
    {
     "name": "stdout",
     "output_type": "stream",
     "text": [
      "New best\n"
     ]
    },
    {
     "name": "stdout",
     "output_type": "stream",
     "text": [
      "epoch: 4, [batch: 1 / 6720], examples_per_second: 4.0379, train_label_loss: 0.9326, \n"
     ]
    },
    {
     "name": "stdout",
     "output_type": "stream",
     "text": [
      "epoch: 4, [batch: 672 / 6720], examples_per_second: 3900.2661, train_label_loss: 0.6176, \n"
     ]
    },
    {
     "name": "stdout",
     "output_type": "stream",
     "text": [
      "epoch: 4, [batch: 1344 / 6720], examples_per_second: 4020.9514, train_label_loss: 0.5361, \n"
     ]
    },
    {
     "name": "stdout",
     "output_type": "stream",
     "text": [
      "epoch: 4, [batch: 2016 / 6720], examples_per_second: 3990.8763, train_label_loss: 0.5384, \n"
     ]
    },
    {
     "name": "stdout",
     "output_type": "stream",
     "text": [
      "epoch: 4, [batch: 2688 / 6720], examples_per_second: 3985.8733, train_label_loss: 0.7964, \n"
     ]
    },
    {
     "name": "stdout",
     "output_type": "stream",
     "text": [
      "epoch: 4, [batch: 3360 / 6720], examples_per_second: 4351.3630, train_label_loss: 0.6231, \n"
     ]
    },
    {
     "name": "stdout",
     "output_type": "stream",
     "text": [
      "epoch: 4, [batch: 4032 / 6720], examples_per_second: 4524.0516, train_label_loss: 1.0016, \n"
     ]
    },
    {
     "name": "stdout",
     "output_type": "stream",
     "text": [
      "epoch: 4, [batch: 4704 / 6720], examples_per_second: 4521.6641, train_label_loss: 0.9791, \n"
     ]
    },
    {
     "name": "stdout",
     "output_type": "stream",
     "text": [
      "epoch: 4, [batch: 5376 / 6720], examples_per_second: 3941.3192, train_label_loss: 0.6572, \n"
     ]
    },
    {
     "name": "stdout",
     "output_type": "stream",
     "text": [
      "epoch: 4, [batch: 6048 / 6720], examples_per_second: 3934.9104, train_label_loss: 0.6739, \n"
     ]
    },
    {
     "name": "stdout",
     "output_type": "stream",
     "text": [
      "=============================================================\n",
      "epoch: 4, source_val_acc_label: 0.6776, target_val_acc_label: 0.9524, source_val_label_loss: 0.8645, target_val_label_loss: 0.2831, \n",
      "=============================================================\n"
     ]
    },
    {
     "name": "stdout",
     "output_type": "stream",
     "text": [
      "epoch: 5, [batch: 1 / 6720], examples_per_second: 4.0236, train_label_loss: 1.2030, \n"
     ]
    },
    {
     "name": "stdout",
     "output_type": "stream",
     "text": [
      "epoch: 5, [batch: 672 / 6720], examples_per_second: 3836.3940, train_label_loss: 0.9890, \n"
     ]
    },
    {
     "name": "stdout",
     "output_type": "stream",
     "text": [
      "epoch: 5, [batch: 1344 / 6720], examples_per_second: 3805.2319, train_label_loss: 0.8386, \n"
     ]
    },
    {
     "name": "stdout",
     "output_type": "stream",
     "text": [
      "epoch: 5, [batch: 2016 / 6720], examples_per_second: 3843.8890, train_label_loss: 1.3132, \n"
     ]
    },
    {
     "name": "stdout",
     "output_type": "stream",
     "text": [
      "epoch: 5, [batch: 2688 / 6720], examples_per_second: 3878.4515, train_label_loss: 1.1536, \n"
     ]
    },
    {
     "name": "stdout",
     "output_type": "stream",
     "text": [
      "epoch: 5, [batch: 3360 / 6720], examples_per_second: 4362.0416, train_label_loss: 1.3439, \n"
     ]
    },
    {
     "name": "stdout",
     "output_type": "stream",
     "text": [
      "epoch: 5, [batch: 4032 / 6720], examples_per_second: 4493.8215, train_label_loss: 0.5854, \n"
     ]
    },
    {
     "name": "stdout",
     "output_type": "stream",
     "text": [
      "epoch: 5, [batch: 4704 / 6720], examples_per_second: 4364.2479, train_label_loss: 0.7325, \n"
     ]
    },
    {
     "name": "stdout",
     "output_type": "stream",
     "text": [
      "epoch: 5, [batch: 5376 / 6720], examples_per_second: 4371.4338, train_label_loss: 0.7941, \n"
     ]
    },
    {
     "name": "stdout",
     "output_type": "stream",
     "text": [
      "epoch: 5, [batch: 6048 / 6720], examples_per_second: 4275.6709, train_label_loss: 0.6684, \n"
     ]
    },
    {
     "name": "stdout",
     "output_type": "stream",
     "text": [
      "=============================================================\n",
      "epoch: 5, source_val_acc_label: 0.6922, target_val_acc_label: 0.9473, source_val_label_loss: 0.8401, target_val_label_loss: 0.3123, \n",
      "=============================================================\n"
     ]
    },
    {
     "name": "stdout",
     "output_type": "stream",
     "text": [
      "epoch: 6, [batch: 1 / 6720], examples_per_second: 4.4200, train_label_loss: 0.7737, \n"
     ]
    },
    {
     "name": "stdout",
     "output_type": "stream",
     "text": [
      "epoch: 6, [batch: 672 / 6720], examples_per_second: 4806.3134, train_label_loss: 0.5022, \n"
     ]
    },
    {
     "name": "stdout",
     "output_type": "stream",
     "text": [
      "epoch: 6, [batch: 1344 / 6720], examples_per_second: 4901.0956, train_label_loss: 0.8198, \n"
     ]
    },
    {
     "name": "stdout",
     "output_type": "stream",
     "text": [
      "epoch: 6, [batch: 2016 / 6720], examples_per_second: 5238.1351, train_label_loss: 0.7027, \n"
     ]
    },
    {
     "name": "stdout",
     "output_type": "stream",
     "text": [
      "epoch: 6, [batch: 2688 / 6720], examples_per_second: 5308.3205, train_label_loss: 0.9057, \n"
     ]
    },
    {
     "name": "stdout",
     "output_type": "stream",
     "text": [
      "epoch: 6, [batch: 3360 / 6720], examples_per_second: 5232.8227, train_label_loss: 0.8004, \n"
     ]
    },
    {
     "name": "stdout",
     "output_type": "stream",
     "text": [
      "epoch: 6, [batch: 4032 / 6720], examples_per_second: 5019.5426, train_label_loss: 0.9022, \n"
     ]
    },
    {
     "name": "stdout",
     "output_type": "stream",
     "text": [
      "epoch: 6, [batch: 4704 / 6720], examples_per_second: 5252.1142, train_label_loss: 1.1321, \n"
     ]
    },
    {
     "name": "stdout",
     "output_type": "stream",
     "text": [
      "epoch: 6, [batch: 5376 / 6720], examples_per_second: 5500.4861, train_label_loss: 0.6936, \n"
     ]
    },
    {
     "name": "stdout",
     "output_type": "stream",
     "text": [
      "epoch: 6, [batch: 6048 / 6720], examples_per_second: 5361.0310, train_label_loss: 0.9042, \n"
     ]
    },
    {
     "name": "stdout",
     "output_type": "stream",
     "text": [
      "=============================================================\n",
      "epoch: 6, source_val_acc_label: 0.6806, target_val_acc_label: 0.9400, source_val_label_loss: 0.8503, target_val_label_loss: 0.4398, \n",
      "=============================================================\n"
     ]
    },
    {
     "name": "stdout",
     "output_type": "stream",
     "text": [
      "epoch: 7, [batch: 1 / 6720], examples_per_second: 5.4728, train_label_loss: 0.4443, \n"
     ]
    },
    {
     "name": "stdout",
     "output_type": "stream",
     "text": [
      "epoch: 7, [batch: 672 / 6720], examples_per_second: 5119.2090, train_label_loss: 0.5177, \n"
     ]
    },
    {
     "name": "stdout",
     "output_type": "stream",
     "text": [
      "epoch: 7, [batch: 1344 / 6720], examples_per_second: 5392.5551, train_label_loss: 0.6846, \n"
     ]
    },
    {
     "name": "stdout",
     "output_type": "stream",
     "text": [
      "epoch: 7, [batch: 2016 / 6720], examples_per_second: 5356.5935, train_label_loss: 0.5774, \n"
     ]
    },
    {
     "name": "stdout",
     "output_type": "stream",
     "text": [
      "epoch: 7, [batch: 2688 / 6720], examples_per_second: 5426.8890, train_label_loss: 0.6886, \n"
     ]
    },
    {
     "name": "stdout",
     "output_type": "stream",
     "text": [
      "epoch: 7, [batch: 3360 / 6720], examples_per_second: 5453.7322, train_label_loss: 0.5849, \n"
     ]
    },
    {
     "name": "stdout",
     "output_type": "stream",
     "text": [
      "epoch: 7, [batch: 4032 / 6720], examples_per_second: 5426.6313, train_label_loss: 0.5978, \n"
     ]
    },
    {
     "name": "stdout",
     "output_type": "stream",
     "text": [
      "epoch: 7, [batch: 4704 / 6720], examples_per_second: 4053.1139, train_label_loss: 0.6734, \n"
     ]
    },
    {
     "name": "stdout",
     "output_type": "stream",
     "text": [
      "epoch: 7, [batch: 5376 / 6720], examples_per_second: 3925.7613, train_label_loss: 0.9425, \n"
     ]
    },
    {
     "name": "stdout",
     "output_type": "stream",
     "text": [
      "epoch: 7, [batch: 6048 / 6720], examples_per_second: 4083.3250, train_label_loss: 0.8252, \n"
     ]
    },
    {
     "name": "stdout",
     "output_type": "stream",
     "text": [
      "=============================================================\n",
      "epoch: 7, source_val_acc_label: 0.6873, target_val_acc_label: 0.9372, source_val_label_loss: 0.8313, target_val_label_loss: 0.4390, \n",
      "=============================================================\n"
     ]
    },
    {
     "name": "stdout",
     "output_type": "stream",
     "text": [
      "Patience (3) exhausted\n"
     ]
    }
   ],
   "source": [
    "###################################\n",
    "# train\n",
    "###################################\n",
    "jig = PTN_Train_Eval_Test_Jig(model, p.BEST_MODEL_PATH, p.device)\n",
    "\n",
    "jig.train(\n",
    "    train_iterable=datasets.source.processed.train,\n",
    "    source_val_iterable=datasets.source.processed.val,\n",
    "    target_val_iterable=datasets.target.processed.val,\n",
    "    num_epochs=p.n_epoch,\n",
    "    num_logs_per_epoch=p.NUM_LOGS_PER_EPOCH,\n",
    "    patience=p.patience,\n",
    "    optimizer=optimizer,\n",
    "    criteria_for_best=p.criteria_for_best,\n",
    ")"
   ]
  },
  {
   "cell_type": "code",
   "execution_count": 23,
   "id": "31e8fabf",
   "metadata": {
    "execution": {
     "iopub.execute_input": "2022-03-28T10:48:10.402938Z",
     "iopub.status.busy": "2022-03-28T10:48:10.402394Z",
     "iopub.status.idle": "2022-03-28T10:48:10.435695Z",
     "shell.execute_reply": "2022-03-28T10:48:10.434976Z"
    },
    "papermill": {
     "duration": 0.081447,
     "end_time": "2022-03-28T10:48:10.435848",
     "exception": false,
     "start_time": "2022-03-28T10:48:10.354401",
     "status": "completed"
    },
    "tags": []
   },
   "outputs": [],
   "source": [
    "total_experiment_time_secs = time.time() - start_time_secs"
   ]
  },
  {
   "cell_type": "code",
   "execution_count": 24,
   "id": "87b9595b",
   "metadata": {
    "execution": {
     "iopub.execute_input": "2022-03-28T10:48:10.537579Z",
     "iopub.status.busy": "2022-03-28T10:48:10.536723Z",
     "iopub.status.idle": "2022-03-28T10:50:52.363620Z",
     "shell.execute_reply": "2022-03-28T10:50:52.363021Z"
    },
    "papermill": {
     "duration": 161.880343,
     "end_time": "2022-03-28T10:50:52.363767",
     "exception": false,
     "start_time": "2022-03-28T10:48:10.483424",
     "status": "completed"
    },
    "tags": []
   },
   "outputs": [],
   "source": [
    "###################################\n",
    "# Evaluate the model\n",
    "###################################\n",
    "source_test_label_accuracy, source_test_label_loss = jig.test(datasets.source.processed.test)\n",
    "target_test_label_accuracy, target_test_label_loss = jig.test(datasets.target.processed.test)\n",
    "\n",
    "source_val_label_accuracy, source_val_label_loss = jig.test(datasets.source.processed.val)\n",
    "target_val_label_accuracy, target_val_label_loss = jig.test(datasets.target.processed.val)\n",
    "\n",
    "history = jig.get_history()\n",
    "\n",
    "total_epochs_trained = len(history[\"epoch_indices\"])\n",
    "\n",
    "val_dl = Iterable_Aggregator((datasets.source.original.val,datasets.target.original.val))\n",
    "\n",
    "confusion = ptn_confusion_by_domain_over_dataloader(model, p.device, val_dl)\n",
    "per_domain_accuracy = per_domain_accuracy_from_confusion(confusion)\n",
    "\n",
    "# Add a key to per_domain_accuracy for if it was a source domain\n",
    "for domain, accuracy in per_domain_accuracy.items():\n",
    "    per_domain_accuracy[domain] = {\n",
    "        \"accuracy\": accuracy,\n",
    "        \"source?\": domain in p.domains_source\n",
    "    }\n",
    "\n",
    "# Do an independent accuracy assesment JUST TO BE SURE!\n",
    "# _source_test_label_accuracy = independent_accuracy_assesment(model, datasets.source.processed.test, p.device)\n",
    "# _target_test_label_accuracy = independent_accuracy_assesment(model, datasets.target.processed.test, p.device)\n",
    "# _source_val_label_accuracy = independent_accuracy_assesment(model, datasets.source.processed.val, p.device)\n",
    "# _target_val_label_accuracy = independent_accuracy_assesment(model, datasets.target.processed.val, p.device)\n",
    "\n",
    "# assert(_source_test_label_accuracy == source_test_label_accuracy)\n",
    "# assert(_target_test_label_accuracy == target_test_label_accuracy)\n",
    "# assert(_source_val_label_accuracy == source_val_label_accuracy)\n",
    "# assert(_target_val_label_accuracy == target_val_label_accuracy)\n",
    "\n",
    "experiment = {\n",
    "    \"experiment_name\": p.experiment_name,\n",
    "    \"parameters\": dict(p),\n",
    "    \"results\": {\n",
    "        \"source_test_label_accuracy\": source_test_label_accuracy,\n",
    "        \"source_test_label_loss\": source_test_label_loss,\n",
    "        \"target_test_label_accuracy\": target_test_label_accuracy,\n",
    "        \"target_test_label_loss\": target_test_label_loss,\n",
    "        \"source_val_label_accuracy\": source_val_label_accuracy,\n",
    "        \"source_val_label_loss\": source_val_label_loss,\n",
    "        \"target_val_label_accuracy\": target_val_label_accuracy,\n",
    "        \"target_val_label_loss\": target_val_label_loss,\n",
    "        \"total_epochs_trained\": total_epochs_trained,\n",
    "        \"total_experiment_time_secs\": total_experiment_time_secs,\n",
    "        \"confusion\": confusion,\n",
    "        \"per_domain_accuracy\": per_domain_accuracy,\n",
    "    },\n",
    "    \"history\": history,\n",
    "    \"dataset_metrics\": get_dataset_metrics(datasets, \"ptn\"),\n",
    "}"
   ]
  },
  {
   "cell_type": "code",
   "execution_count": 25,
   "id": "54a21829",
   "metadata": {
    "execution": {
     "iopub.execute_input": "2022-03-28T10:50:52.472281Z",
     "iopub.status.busy": "2022-03-28T10:50:52.471694Z",
     "iopub.status.idle": "2022-03-28T10:50:52.705160Z",
     "shell.execute_reply": "2022-03-28T10:50:52.705879Z"
    },
    "papermill": {
     "duration": 0.28818,
     "end_time": "2022-03-28T10:50:52.706120",
     "exception": false,
     "start_time": "2022-03-28T10:50:52.417940",
     "status": "completed"
    },
    "tags": []
   },
   "outputs": [
    {
     "data": {
      "image/png": "[encoded data removed]",
      "text/plain": [
       "<Figure size 1080x504 with 1 Axes>"
      ]
     },
     "metadata": {
      "needs_background": "light"
     },
     "output_type": "display_data"
    }
   ],
   "source": [
    "ax = get_loss_curve(experiment)\n",
    "plt.show()"
   ]
  },
  {
   "cell_type": "code",
   "execution_count": 26,
   "id": "fd8a0f60",
   "metadata": {
    "execution": {
     "iopub.execute_input": "2022-03-28T10:50:52.808897Z",
     "iopub.status.busy": "2022-03-28T10:50:52.808517Z",
     "iopub.status.idle": "2022-03-28T10:50:53.170413Z",
     "shell.execute_reply": "2022-03-28T10:50:53.170899Z"
    },
    "papermill": {
     "duration": 0.412456,
     "end_time": "2022-03-28T10:50:53.171057",
     "exception": false,
     "start_time": "2022-03-28T10:50:52.758601",
     "status": "completed"
    },
    "tags": []
   },
   "outputs": [
    {
     "data": {
      "text/plain": [
       "<AxesSubplot:title={'center':'Results'}>"
      ]
     },
     "execution_count": 26,
     "metadata": {},
     "output_type": "execute_result"
    },
    {
     "data": {
      "image/png": "[encoded data removed]",
      "text/plain": [
       "<Figure size 1080x504 with 1 Axes>"
      ]
     },
     "metadata": {
      "needs_background": "light"
     },
     "output_type": "display_data"
    }
   ],
   "source": [
    "get_results_table(experiment)"
   ]
  },
  {
   "cell_type": "code",
   "execution_count": 27,
   "id": "cf8dc689",
   "metadata": {
    "execution": {
     "iopub.execute_input": "2022-03-28T10:50:53.299751Z",
     "iopub.status.busy": "2022-03-28T10:50:53.299354Z",
     "iopub.status.idle": "2022-03-28T10:50:53.538589Z",
     "shell.execute_reply": "2022-03-28T10:50:53.539342Z"
    },
    "papermill": {
     "duration": 0.304264,
     "end_time": "2022-03-28T10:50:53.539596",
     "exception": false,
     "start_time": "2022-03-28T10:50:53.235332",
     "status": "completed"
    },
    "tags": []
   },
   "outputs": [
    {
     "data": {
      "text/plain": [
       "<AxesSubplot:title={'center':'Per Domain Validation Accuracy'}, xlabel='domain'>"
      ]
     },
     "execution_count": 27,
     "metadata": {},
     "output_type": "execute_result"
    },
    {
     "data": {
      "image/png": "[encoded data removed]",
      "text/plain": [
       "<Figure size 1080x504 with 1 Axes>"
      ]
     },
     "metadata": {
      "needs_background": "light"
     },
     "output_type": "display_data"
    }
   ],
   "source": [
    "get_domain_accuracies(experiment)"
   ]
  },
  {
   "cell_type": "code",
   "execution_count": 28,
   "id": "a74ae082",
   "metadata": {
    "execution": {
     "iopub.execute_input": "2022-03-28T10:50:53.642786Z",
     "iopub.status.busy": "2022-03-28T10:50:53.642404Z",
     "iopub.status.idle": "2022-03-28T10:50:53.669139Z",
     "shell.execute_reply": "2022-03-28T10:50:53.668418Z"
    },
    "papermill": {
     "duration": 0.079397,
     "end_time": "2022-03-28T10:50:53.669313",
     "exception": false,
     "start_time": "2022-03-28T10:50:53.589916",
     "status": "completed"
    },
    "tags": []
   },
   "outputs": [
    {
     "name": "stdout",
     "output_type": "stream",
     "text": [
      "Source Test Label Accuracy: 0.671875 Target Test Label Accuracy: 0.9534924412094065\n",
      "Source Val Label Accuracy: 0.6721354166666667 Target Val Label Accuracy: 0.9535183066361556\n"
     ]
    }
   ],
   "source": [
    "print(\"Source Test Label Accuracy:\", experiment[\"results\"][\"source_test_label_accuracy\"], \"Target Test Label Accuracy:\", experiment[\"results\"][\"target_test_label_accuracy\"])\n",
    "print(\"Source Val Label Accuracy:\", experiment[\"results\"][\"source_val_label_accuracy\"], \"Target Val Label Accuracy:\", experiment[\"results\"][\"target_val_label_accuracy\"])"
   ]
  },
  {
   "cell_type": "code",
   "execution_count": 29,
   "id": "dacca602",
   "metadata": {
    "execution": {
     "iopub.execute_input": "2022-03-28T10:50:53.774686Z",
     "iopub.status.busy": "2022-03-28T10:50:53.774317Z",
     "iopub.status.idle": "2022-03-28T10:50:53.800694Z",
     "shell.execute_reply": "2022-03-28T10:50:53.801371Z"
    },
    "papermill": {
     "duration": 0.078185,
     "end_time": "2022-03-28T10:50:53.801576",
     "exception": false,
     "start_time": "2022-03-28T10:50:53.723391",
     "status": "completed"
    },
    "tags": [
     "experiment_json"
    ]
   },
   "outputs": [
    {
     "data": {
      "text/plain": [
       "'{\"experiment_name\": \"tl_3-jitter10v2:oracle.run1.framed -> cores\", \"parameters\": {\"experiment_name\": \"tl_3-jitter10v2:oracle.run1.framed -> cores\", \"device\": \"cuda\", \"lr\": 0.0001, \"x_shape\": [2, 256], \"n_shot\": 3, \"n_query\": 2, \"train_k_factor\": 3, \"val_k_factor\": 2, \"test_k_factor\": 2, \"torch_default_dtype\": \"torch.float32\", \"n_epoch\": 50, \"patience\": 3, \"criteria_for_best\": \"target_accuracy\", \"x_net\": [{\"class\": \"nnReshape\", \"kargs\": {\"shape\": [-1, 1, 2, 256]}}, {\"class\": \"Conv2d\", \"kargs\": {\"in_channels\": 1, \"out_channels\": 256, \"kernel_size\": [1, 7], \"bias\": false, \"padding\": [0, 3]}}, {\"class\": \"ReLU\", \"kargs\": {\"inplace\": true}}, {\"class\": \"BatchNorm2d\", \"kargs\": {\"num_features\": 256}}, {\"class\": \"Conv2d\", \"kargs\": {\"in_channels\": 256, \"out_channels\": 80, \"kernel_size\": [2, 7], \"bias\": true, \"padding\": [0, 3]}}, {\"class\": \"ReLU\", \"kargs\": {\"inplace\": true}}, {\"class\": \"BatchNorm2d\", \"kargs\": {\"num_features\": 80}}, {\"class\": \"Flatten\", \"kargs\": {}}, {\"class\": \"Linear\", \"kargs\": {\"in_features\": 20480, \"out_features\": 256}}, {\"class\": \"ReLU\", \"kargs\": {\"inplace\": true}}, {\"class\": \"BatchNorm1d\", \"kargs\": {\"num_features\": 256}}, {\"class\": \"Linear\", \"kargs\": {\"in_features\": 256, \"out_features\": 256}}], \"NUM_LOGS_PER_EPOCH\": 10, \"BEST_MODEL_PATH\": \"./best_model.pth\", \"n_way\": 16, \"datasets\": [{\"labels\": [\"1-10.\", \"1-11.\", \"1-15.\", \"1-16.\", \"1-17.\", \"1-18.\", \"1-19.\", \"10-4.\", \"10-7.\", \"11-1.\", \"11-14.\", \"11-17.\", \"11-20.\", \"11-7.\", \"13-20.\", \"13-8.\", \"14-10.\", \"14-11.\", \"14-14.\", \"14-7.\", \"15-1.\", \"15-20.\", \"16-1.\", \"16-16.\", \"17-10.\", \"17-11.\", \"17-2.\", \"19-1.\", \"19-16.\", \"19-19.\", \"19-20.\", \"19-3.\", \"2-10.\", \"2-11.\", \"2-17.\", \"2-18.\", \"2-20.\", \"2-3.\", \"2-4.\", \"2-5.\", \"2-6.\", \"2-7.\", \"2-8.\", \"3-13.\", \"3-18.\", \"3-3.\", \"4-1.\", \"4-10.\", \"4-11.\", \"4-19.\", \"5-5.\", \"6-15.\", \"7-10.\", \"7-14.\", \"8-18.\", \"8-20.\", \"8-3.\", \"8-8.\"], \"domains\": [1, 2, 3, 4, 5], \"num_examples_per_domain_per_label\": -1, \"pickle_path\": \"/root/csc500-main/datasets/cores.stratified_ds.2022A.pkl\", \"source_or_target_dataset\": \"target\", \"x_transforms\": [\"unit_mag\", \"jitter_256_10\", \"lowpass_+/-10MHz\", \"take_200\"], \"episode_transforms\": [], \"domain_prefix\": \"C_\"}, {\"labels\": [\"3123D52\", \"3123D65\", \"3123D79\", \"3123D80\", \"3123D54\", \"3123D70\", \"3123D7B\", \"3123D89\", \"3123D58\", \"3123D76\", \"3123D7D\", \"3123EFE\", \"3123D64\", \"3123D78\", \"3123D7E\", \"3124E4A\"], \"domains\": [32, 38, 8, 44, 14, 50, 20, 26], \"num_examples_per_domain_per_label\": 2000, \"pickle_path\": \"/root/csc500-main/datasets/oracle.Run1_framed_2000Examples_stratified_ds.2022A.pkl\", \"source_or_target_dataset\": \"source\", \"x_transforms\": [\"unit_mag\", \"jitter_256_10\", \"take_200\", \"resample_20Msps_to_25Msps\"], \"episode_transforms\": [], \"domain_prefix\": \"O_\"}], \"seed\": 154325, \"dataset_seed\": 154325, \"domains_source\": [\"O_32\", \"O_38\", \"O_8\", \"O_44\", \"O_14\", \"O_50\", \"O_20\", \"O_26\"], \"domains_target\": [\"C_1\", \"C_2\", \"C_3\", \"C_4\", \"C_5\"]}, \"results\": {\"source_test_label_accuracy\": 0.671875, \"source_test_label_loss\": 0.8913658857345581, \"target_test_label_accuracy\": 0.9534924412094065, \"target_test_label_loss\": 0.31505951285362244, \"source_val_label_accuracy\": 0.6721354166666667, \"source_val_label_loss\": 0.8915658593177795, \"target_val_label_accuracy\": 0.9535183066361556, \"target_val_label_loss\": 0.26347634196281433, \"total_epochs_trained\": 7, \"total_experiment_time_secs\": 1179.1135714054108, \"confusion\": {\"O_8\": {\"13\": {\"10\": 22, \"13\": 89, \"0\": 52, \"4\": 50, \"6\": 9, \"14\": 17, \"7\": 1}, \"9\": {\"9\": 240}, \"15\": {\"12\": 38, \"15\": 192, \"8\": 10}, \"2\": {\"2\": 202, \"3\": 28, \"15\": 3, \"7\": 4, \"12\": 2, \"8\": 1}, \"3\": {\"2\": 24, \"3\": 201, \"12\": 15}, \"8\": {\"8\": 234, \"15\": 5, \"12\": 1}, \"5\": {\"5\": 210, \"11\": 7, \"10\": 5, \"1\": 13, \"14\": 5}, \"14\": {\"10\": 55, \"14\": 119, \"4\": 43, \"13\": 12, \"1\": 7, \"6\": 1, \"11\": 2, \"5\": 1}, \"1\": {\"1\": 141, \"11\": 89, \"14\": 4, \"5\": 4, \"4\": 1, \"10\": 1}, \"0\": {\"13\": 40, \"0\": 185, \"6\": 5, \"7\": 6, \"4\": 2, \"14\": 1, \"10\": 1}, \"10\": {\"10\": 169, \"13\": 10, \"14\": 53, \"4\": 6, \"5\": 2}, \"6\": {\"6\": 161, \"13\": 5, \"4\": 21, \"0\": 9, \"7\": 43, \"8\": 1}, \"11\": {\"11\": 106, \"1\": 110, \"5\": 23, \"8\": 1}, \"7\": {\"6\": 51, \"7\": 182, \"0\": 6, \"8\": 1}, \"4\": {\"14\": 30, \"4\": 140, \"13\": 44, \"0\": 5, \"6\": 18, \"10\": 3}, \"12\": {\"3\": 32, \"15\": 65, \"12\": 139, \"8\": 4}}, \"O_38\": {\"13\": {\"13\": 117, \"15\": 81, \"2\": 16, \"10\": 17, \"8\": 5, \"1\": 3, \"14\": 1}, \"12\": {\"12\": 204, \"4\": 17, \"10\": 18, \"14\": 1}, \"2\": {\"2\": 212, \"14\": 18, \"13\": 9, \"11\": 1}, \"9\": {\"9\": 141, \"6\": 67, \"3\": 30, \"5\": 2}, \"15\": {\"15\": 127, \"1\": 25, \"13\": 67, \"8\": 14, \"5\": 3, \"0\": 3, \"10\": 1}, \"5\": {\"8\": 50, \"7\": 20, \"6\": 12, \"15\": 4, \"5\": 101, \"0\": 32, \"1\": 6, \"9\": 5, \"3\": 7, \"10\": 3}, \"14\": {\"14\": 176, \"11\": 51, \"2\": 12, \"10\": 1}, \"0\": {\"0\": 59, \"5\": 32, \"7\": 62, \"8\": 61, \"3\": 12, \"6\": 2, \"10\": 9, \"15\": 2, \"13\": 1}, \"3\": {\"3\": 194, \"9\": 21, \"6\": 7, \"7\": 11, \"0\": 4, \"5\": 3}, \"1\": {\"1\": 221, \"15\": 17, \"5\": 1, \"13\": 1}, \"11\": {\"11\": 163, \"14\": 70, \"10\": 4, \"2\": 3}, \"7\": {\"0\": 56, \"7\": 163, \"5\": 10, \"8\": 9, \"3\": 2}, \"8\": {\"15\": 16, \"8\": 125, \"0\": 50, \"5\": 32, \"10\": 5, \"7\": 8, \"13\": 1, \"1\": 3}, \"4\": {\"4\": 212, \"12\": 28}, \"10\": {\"10\": 170, \"13\": 22, \"12\": 23, \"14\": 3, \"8\": 10, \"0\": 5, \"5\": 1, \"15\": 5, \"2\": 1}, \"6\": {\"9\": 67, \"6\": 170, \"5\": 2, \"3\": 1}}, \"O_26\": {\"10\": {\"10\": 95, \"4\": 8, \"0\": 55, \"8\": 32, \"6\": 17, \"1\": 8, \"14\": 21, \"15\": 1, \"9\": 2, \"7\": 1}, \"12\": {\"11\": 7, \"12\": 233}, \"1\": {\"4\": 53, \"1\": 87, \"14\": 49, \"3\": 1, \"0\": 26, \"10\": 13, \"8\": 7, \"7\": 4}, \"0\": {\"4\": 53, \"10\": 49, \"14\": 45, \"8\": 24, \"0\": 48, \"1\": 16, \"7\": 3, \"9\": 1, \"6\": 1}, \"15\": {\"8\": 27, \"15\": 86, \"5\": 32, \"2\": 9, \"9\": 63, \"7\": 7, \"13\": 8, \"6\": 7, \"10\": 1}, \"13\": {\"5\": 61, \"13\": 160, \"9\": 8, \"15\": 5, \"2\": 3, \"6\": 3}, \"8\": {\"8\": 90, \"0\": 32, \"4\": 15, \"9\": 19, \"10\": 30, \"6\": 10, \"7\": 15, \"15\": 19, \"2\": 1, \"14\": 7, \"5\": 2}, \"3\": {\"2\": 53, \"3\": 163, \"7\": 22, \"1\": 1, \"4\": 1}, \"11\": {\"11\": 232, \"12\": 8}, \"4\": {\"4\": 83, \"0\": 26, \"10\": 13, \"14\": 42, \"1\": 38, \"7\": 14, \"8\": 22, \"15\": 1, \"3\": 1}, \"6\": {\"6\": 177, \"10\": 22, \"15\": 5, \"9\": 27, \"8\": 9}, \"7\": {\"15\": 5, \"14\": 2, \"8\": 16, \"7\": 137, \"3\": 26, \"4\": 26, \"2\": 24, \"5\": 3, \"0\": 1}, \"14\": {\"1\": 64, \"4\": 46, \"0\": 33, \"14\": 70, \"10\": 14, \"7\": 3, \"8\": 10}, \"2\": {\"2\": 105, \"3\": 73, \"5\": 21, \"15\": 14, \"7\": 18, \"8\": 4, \"13\": 1, \"9\": 4}, \"5\": {\"5\": 128, \"15\": 42, \"13\": 38, \"9\": 20, \"8\": 2, \"2\": 8, \"6\": 1, \"7\": 1}, \"9\": {\"6\": 18, \"15\": 74, \"8\": 25, \"9\": 90, \"5\": 17, \"2\": 2, \"10\": 1, \"13\": 10, \"4\": 1, \"7\": 1, \"0\": 1}}, \"O_20\": {\"5\": {\"1\": 44, \"5\": 117, \"0\": 38, \"12\": 23, \"15\": 8, \"3\": 7, \"2\": 1, \"4\": 1, \"13\": 1}, \"15\": {\"15\": 145, \"0\": 39, \"1\": 39, \"13\": 5, \"5\": 7, \"12\": 4, \"9\": 1}, \"9\": {\"9\": 95, \"2\": 59, \"12\": 25, \"7\": 25, \"3\": 23, \"13\": 8, \"1\": 3, \"0\": 1, \"8\": 1}, \"7\": {\"8\": 10, \"2\": 33, \"7\": 169, \"9\": 20, \"3\": 7, \"6\": 1}, \"3\": {\"12\": 36, \"3\": 127, \"2\": 8, \"1\": 3, \"9\": 29, \"4\": 7, \"5\": 10, \"7\": 10, \"8\": 9, \"0\": 1}, \"8\": {\"8\": 157, \"3\": 12, \"10\": 22, \"4\": 42, \"6\": 1, \"7\": 4, \"14\": 2}, \"4\": {\"4\": 195, \"8\": 31, \"5\": 2, \"3\": 7, \"10\": 4, \"12\": 1}, \"6\": {\"14\": 23, \"6\": 208, \"8\": 2, \"7\": 5, \"10\": 2}, \"2\": {\"9\": 66, \"3\": 10, \"2\": 104, \"7\": 44, \"13\": 7, \"1\": 1, \"12\": 6, \"8\": 1, \"0\": 1}, \"12\": {\"9\": 16, \"12\": 102, \"3\": 53, \"2\": 5, \"1\": 31, \"0\": 9, \"5\": 21, \"15\": 2, \"13\": 1}, \"0\": {\"5\": 48, \"1\": 43, \"12\": 18, \"0\": 84, \"15\": 42, \"3\": 3, \"9\": 1, \"2\": 1}, \"13\": {\"13\": 224, \"12\": 2, \"2\": 10, \"9\": 2, \"15\": 2}, \"10\": {\"10\": 188, \"14\": 37, \"8\": 14, \"4\": 1}, \"11\": {\"11\": 240}, \"14\": {\"14\": 179, \"10\": 43, \"6\": 15, \"8\": 3}, \"1\": {\"13\": 5, \"0\": 54, \"5\": 55, \"15\": 35, \"1\": 67, \"12\": 20, \"3\": 3, \"9\": 1}}, \"O_50\": {\"1\": {\"6\": 19, \"1\": 135, \"4\": 29, \"15\": 53, \"11\": 1, \"5\": 3}, \"2\": {\"2\": 230, \"0\": 10}, \"8\": {\"8\": 234, \"3\": 5, \"10\": 1}, \"7\": {\"7\": 147, \"5\": 28, \"13\": 46, \"10\": 19}, \"14\": {\"14\": 234, \"12\": 5, \"11\": 1}, \"6\": {\"13\": 21, \"6\": 123, \"4\": 28, \"5\": 41, \"1\": 23, \"15\": 3, \"0\": 1}, \"3\": {\"3\": 239, \"8\": 1}, \"4\": {\"4\": 68, \"6\": 36, \"1\": 53, \"5\": 26, \"15\": 48, \"13\": 6, \"7\": 3}, \"12\": {\"12\": 201, \"9\": 29, \"11\": 2, \"14\": 8}, \"15\": {\"15\": 157, \"1\": 52, \"4\": 26, \"11\": 5}, \"11\": {\"11\": 206, \"14\": 6, \"15\": 9, \"9\": 19}, \"0\": {\"0\": 208, \"10\": 11, \"2\": 20, \"13\": 1}, \"9\": {\"9\": 182, \"11\": 36, \"12\": 20, \"14\": 2}, \"10\": {\"10\": 207, \"7\": 16, \"0\": 9, \"13\": 5, \"5\": 1, \"8\": 2}, \"5\": {\"6\": 41, \"7\": 67, \"13\": 43, \"15\": 1, \"5\": 65, \"4\": 15, \"1\": 7, \"0\": 1}, \"13\": {\"13\": 127, \"7\": 33, \"6\": 23, \"5\": 51, \"10\": 1, \"4\": 4, \"0\": 1}}, \"O_32\": {\"2\": {\"4\": 42, \"2\": 187, \"0\": 9, \"7\": 1, \"5\": 1}, \"6\": {\"6\": 240}, \"5\": {\"5\": 48, \"14\": 10, \"0\": 29, \"3\": 19, \"8\": 36, \"4\": 14, \"13\": 55, \"7\": 25, \"11\": 1, \"2\": 3}, \"12\": {\"12\": 240}, \"13\": {\"7\": 19, \"13\": 65, \"0\": 14, \"14\": 9, \"5\": 60, \"8\": 34, \"4\": 9, \"3\": 28, \"11\": 2}, \"9\": {\"9\": 239, \"12\": 1}, \"11\": {\"11\": 188, \"14\": 43, \"7\": 5, \"13\": 1, \"5\": 3}, \"1\": {\"1\": 237, \"10\": 3}, \"3\": {\"3\": 231, \"15\": 1, \"13\": 4, \"11\": 1, \"5\": 3}, \"7\": {\"7\": 103, \"0\": 6, \"13\": 22, \"4\": 22, \"14\": 45, \"5\": 24, \"2\": 6, \"8\": 1, \"11\": 11}, \"14\": {\"11\": 81, \"7\": 59, \"14\": 59, \"3\": 3, \"5\": 12, \"13\": 14, \"2\": 4, \"4\": 7, \"8\": 1}, \"8\": {\"8\": 157, \"0\": 14, \"13\": 38, \"5\": 29, \"15\": 2}, \"4\": {\"4\": 104, \"0\": 57, \"5\": 9, \"2\": 38, \"7\": 23, \"13\": 5, \"14\": 4}, \"0\": {\"0\": 105, \"13\": 13, \"4\": 54, \"5\": 17, \"2\": 15, \"7\": 16, \"8\": 17, \"14\": 3}, \"10\": {\"10\": 240}, \"15\": {\"15\": 238, \"8\": 2}}, \"O_44\": {\"13\": {\"13\": 149, \"6\": 26, \"11\": 33, \"9\": 30, \"4\": 1, \"7\": 1}, \"4\": {\"4\": 148, \"14\": 88, \"15\": 3, \"13\": 1}, \"6\": {\"11\": 11, \"6\": 164, \"9\": 25, \"13\": 34, \"7\": 6}, \"0\": {\"8\": 79, \"0\": 130, \"15\": 20, \"5\": 11}, \"10\": {\"2\": 18, \"1\": 24, \"10\": 176, \"12\": 21, \"7\": 1}, \"7\": {\"7\": 143, \"2\": 37, \"13\": 1, \"9\": 46, \"6\": 11, \"3\": 2}, \"14\": {\"15\": 25, \"4\": 74, \"5\": 6, \"14\": 135}, \"15\": {\"14\": 13, \"5\": 9, \"15\": 184, \"0\": 25, \"8\": 7, \"4\": 2}, \"5\": {\"5\": 196, \"14\": 15, \"8\": 7, \"0\": 15, \"15\": 7}, \"2\": {\"2\": 173, \"7\": 34, \"1\": 8, \"10\": 21, \"9\": 1, \"3\": 1, \"6\": 1, \"12\": 1}, \"9\": {\"7\": 40, \"9\": 129, \"13\": 34, \"6\": 28, \"2\": 8, \"11\": 1}, \"12\": {\"12\": 187, \"1\": 36, \"10\": 16, \"3\": 1}, \"8\": {\"0\": 89, \"8\": 134, \"15\": 13, \"5\": 4}, \"3\": {\"3\": 215, \"1\": 22, \"12\": 2, \"7\": 1}, \"1\": {\"1\": 137, \"12\": 50, \"3\": 27, \"10\": 19, \"2\": 7}, \"11\": {\"13\": 30, \"11\": 176, \"6\": 34}}, \"O_14\": {\"1\": {\"4\": 5, \"1\": 212, \"5\": 23}, \"15\": {\"15\": 209, \"7\": 31}, \"10\": {\"10\": 201, \"0\": 39}, \"2\": {\"3\": 20, \"2\": 116, \"14\": 36, \"4\": 16, \"6\": 17, \"5\": 13, \"13\": 20, \"15\": 2}, \"9\": {\"9\": 240}, \"5\": {\"5\": 152, \"1\": 34, \"4\": 45, \"2\": 9}, \"7\": {\"7\": 227, \"15\": 13}, \"13\": {\"13\": 59, \"6\": 77, \"2\": 33, \"14\": 66, \"3\": 1, \"4\": 1, \"5\": 3}, \"8\": {\"8\": 240}, \"6\": {\"13\": 77, \"6\": 124, \"2\": 19, \"14\": 20}, \"3\": {\"3\": 220, \"4\": 8, \"14\": 8, \"2\": 4}, \"12\": {\"12\": 240}, \"0\": {\"0\": 176, \"10\": 58, \"11\": 4, \"3\": 2}, \"4\": {\"4\": 173, \"5\": 34, \"3\": 16, \"1\": 7, \"2\": 10}, \"14\": {\"14\": 180, \"3\": 8, \"6\": 12, \"13\": 31, \"4\": 1, \"2\": 8}, \"11\": {\"11\": 209, \"9\": 14, \"10\": 13, \"0\": 4}}, \"C_2\": {\"21\": {\"21\": 120}, \"4\": {\"4\": 130}, \"6\": {\"6\": 110, \"46\": 1, \"8\": 1, \"50\": 8, \"18\": 1, \"25\": 1, \"30\": 2}, \"10\": {\"10\": 111, \"24\": 1}, \"33\": {\"33\": 28}, \"56\": {\"56\": 118, \"0\": 2, \"22\": 2}, \"20\": {\"53\": 30, \"20\": 101, \"12\": 1}, \"24\": {\"24\": 94, \"43\": 1, \"38\": 1}, \"45\": {\"45\": 105, \"4\": 12, \"17\": 7, \"32\": 2, \"54\": 1, \"40\": 1}, \"32\": {\"32\": 27, \"17\": 1}, \"27\": {\"27\": 148}, \"53\": {\"20\": 27, \"53\": 109}, \"8\": {\"8\": 160}, \"54\": {\"54\": 103, \"17\": 5}, \"50\": {\"50\": 121, \"25\": 3, \"6\": 7, \"18\": 2, \"36\": 1}, \"44\": {\"44\": 100}, \"5\": {\"5\": 117, \"57\": 2, \"47\": 1}, \"38\": {\"38\": 20}, \"19\": {\"19\": 132}, \"1\": {\"1\": 108, \"14\": 1, \"57\": 3}, \"30\": {\"30\": 143, \"18\": 1}, \"15\": {\"15\": 144}, \"23\": {\"23\": 146}, \"35\": {\"40\": 2, \"35\": 30}, \"22\": {\"22\": 127, \"14\": 1}, \"40\": {\"40\": 134, \"19\": 4, \"9\": 2}, \"46\": {\"46\": 87, \"15\": 9, \"16\": 11, \"52\": 17, \"28\": 1, \"11\": 1}, \"3\": {\"3\": 89, \"21\": 2, \"46\": 1}, \"48\": {\"48\": 148}, \"52\": {\"52\": 118, \"46\": 2, \"16\": 4}, \"2\": {\"2\": 32}, \"26\": {\"26\": 24}, \"17\": {\"17\": 103, \"45\": 1}, \"55\": {\"55\": 133, \"42\": 1, \"57\": 10}, \"51\": {\"51\": 122}, \"42\": {\"42\": 35, \"55\": 1}, \"41\": {\"25\": 1, \"18\": 4, \"41\": 15}, \"31\": {\"31\": 28}, \"16\": {\"16\": 138}, \"36\": {\"36\": 115, \"25\": 1}, \"49\": {\"49\": 22, \"34\": 1, \"23\": 1}, \"0\": {\"0\": 48}, \"18\": {\"41\": 4, \"18\": 43, \"30\": 1}, \"25\": {\"36\": 12, \"25\": 103, \"6\": 2, \"50\": 5, \"2\": 1, \"8\": 16, \"41\": 2, \"54\": 3, \"27\": 2}, \"9\": {\"9\": 119, \"40\": 3}, \"47\": {\"47\": 132}, \"7\": {\"7\": 35, \"15\": 1}, \"37\": {\"37\": 35, \"11\": 1}, \"13\": {\"13\": 113, \"11\": 2, \"15\": 1}, \"14\": {\"31\": 3, \"56\": 4, \"14\": 6, \"1\": 3, \"9\": 1, \"22\": 3, \"39\": 1, \"47\": 1, \"5\": 1, \"0\": 1}, \"34\": {\"34\": 28}, \"57\": {\"57\": 134, \"55\": 6}, \"11\": {\"11\": 138}, \"39\": {\"39\": 28}, \"12\": {\"12\": 86, \"8\": 2, \"53\": 2, \"20\": 2}, \"28\": {\"28\": 28}, \"29\": {\"29\": 128}, \"43\": {\"43\": 140}}, \"C_5\": {\"12\": {\"12\": 96}, \"8\": {\"8\": 133, \"25\": 9}, \"29\": {\"29\": 128, \"36\": 2, \"5\": 2}, \"57\": {\"57\": 126}, \"38\": {\"38\": 32}, \"23\": {\"23\": 124}, \"56\": {\"56\": 135, \"35\": 3}, \"49\": {\"49\": 36}, \"4\": {\"4\": 96, \"27\": 4}, \"48\": {\"48\": 130, \"9\": 6}, \"21\": {\"21\": 144}, \"30\": {\"55\": 9, \"30\": 119}, \"1\": {\"1\": 147, \"55\": 1}, \"34\": {\"34\": 36}, \"35\": {\"35\": 30, \"56\": 3, \"31\": 3}, \"55\": {\"55\": 136, \"30\": 15, \"17\": 1}, \"5\": {\"5\": 117, \"40\": 4, \"47\": 1}, \"52\": {\"52\": 124, \"16\": 2}, \"6\": {\"6\": 124, \"8\": 2, \"30\": 1, \"17\": 1}, \"36\": {\"36\": 92}, \"41\": {\"41\": 27, \"39\": 1}, \"3\": {\"3\": 88, \"46\": 12}, \"28\": {\"28\": 30, \"34\": 2}, \"18\": {\"18\": 64}, \"25\": {\"25\": 101, \"8\": 23, \"6\": 7, \"50\": 1, \"55\": 3, \"18\": 1}, \"47\": {\"47\": 100}, \"13\": {\"13\": 147, \"10\": 7, \"3\": 1, \"24\": 2, \"15\": 2, \"0\": 1}, \"11\": {\"11\": 138, \"15\": 3, \"43\": 3}, \"53\": {\"53\": 140, \"8\": 1, \"6\": 1, \"30\": 1, \"25\": 1}, \"33\": {\"33\": 32}, \"46\": {\"3\": 11, \"46\": 134, \"2\": 1, \"56\": 1, \"0\": 1}, \"50\": {\"50\": 115, \"16\": 2, \"20\": 23, \"51\": 2, \"21\": 2, \"42\": 1, \"23\": 2, \"25\": 1}, \"10\": {\"10\": 67, \"13\": 1}, \"15\": {\"15\": 135, \"13\": 1, \"43\": 1, \"11\": 1}, \"44\": {\"44\": 140}, \"2\": {\"2\": 27, \"0\": 1}, \"7\": {\"7\": 31, \"53\": 1}, \"43\": {\"43\": 137, \"11\": 1}, \"32\": {\"32\": 32}, \"0\": {\"0\": 121, \"56\": 3}, \"39\": {\"39\": 19, \"41\": 1}, \"26\": {\"26\": 24}, \"27\": {\"27\": 112}, \"54\": {\"54\": 109, \"1\": 2, \"57\": 1}, \"17\": {\"17\": 110, \"30\": 5, \"26\": 1}, \"14\": {\"3\": 3, \"14\": 23, \"2\": 3, \"0\": 1, \"56\": 1, \"31\": 4, \"34\": 1, \"54\": 2, \"57\": 2, \"36\": 2, \"49\": 1, \"33\": 1}, \"16\": {\"16\": 148}, \"9\": {\"9\": 128, \"4\": 2, \"45\": 4, \"48\": 12, \"27\": 2}, \"19\": {\"19\": 152}, \"20\": {\"20\": 126, \"50\": 12}, \"37\": {\"37\": 24}, \"24\": {\"24\": 80}, \"40\": {\"40\": 121, \"5\": 1}, \"45\": {\"9\": 18, \"45\": 79, \"4\": 2, \"27\": 16, \"48\": 7, \"30\": 2}, \"22\": {\"22\": 28}, \"42\": {\"42\": 38, \"35\": 1, \"0\": 1}, \"51\": {\"51\": 114, \"8\": 2, \"25\": 1, \"50\": 1}, \"31\": {\"31\": 36}}, \"C_1\": {\"27\": {\"27\": 142}, \"2\": {\"2\": 36}, \"33\": {\"33\": 32}, \"45\": {\"45\": 151, \"7\": 4, \"42\": 1}, \"38\": {\"38\": 24}, \"4\": {\"4\": 128, \"2\": 2, \"40\": 2}, \"31\": {\"31\": 24, \"15\": 3, \"49\": 1}, \"55\": {\"55\": 132, \"42\": 2, \"54\": 6}, \"32\": {\"32\": 32}, \"57\": {\"57\": 118, \"1\": 20, \"19\": 2}, \"14\": {\"14\": 5, \"30\": 1, \"53\": 4, \"8\": 1, \"18\": 2, \"9\": 6, \"25\": 2, \"26\": 1, \"41\": 1, \"45\": 1}, \"16\": {\"16\": 140}, \"34\": {\"34\": 24}, \"56\": {\"56\": 125, \"57\": 1}, \"24\": {\"24\": 94, \"21\": 10, \"22\": 4}, \"30\": {\"30\": 109, \"9\": 3}, \"17\": {\"17\": 63, \"2\": 1}, \"13\": {\"13\": 137, \"9\": 1}, \"39\": {\"39\": 28}, \"50\": {\"50\": 145, \"48\": 1}, \"20\": {\"20\": 140}, \"41\": {\"41\": 24}, \"53\": {\"53\": 126}, \"48\": {\"48\": 138, \"6\": 1, \"50\": 3}, \"36\": {\"36\": 64}, \"8\": {\"8\": 140}, \"15\": {\"15\": 129, \"49\": 2, \"31\": 1}, \"40\": {\"40\": 153, \"57\": 1, \"19\": 2}, \"37\": {\"37\": 32}, \"21\": {\"49\": 5, \"21\": 101, \"31\": 1, \"24\": 9, \"22\": 3, \"15\": 1}, \"35\": {\"35\": 32, \"44\": 4}, \"49\": {\"15\": 4, \"49\": 24, \"24\": 3, \"21\": 1}, \"26\": {\"26\": 24}, \"28\": {\"28\": 28}, \"12\": {\"12\": 116}, \"5\": {\"8\": 5, \"5\": 134, \"9\": 3, \"6\": 6, \"48\": 4}, \"29\": {\"29\": 140}, \"47\": {\"47\": 140}, \"10\": {\"10\": 92, \"52\": 4}, \"18\": {\"18\": 69, \"50\": 1, \"5\": 2}, \"9\": {\"9\": 123, \"30\": 3}, \"3\": {\"3\": 138, \"36\": 2}, \"52\": {\"52\": 123, \"10\": 8, \"22\": 1}, \"25\": {\"18\": 14, \"25\": 120, \"14\": 1, \"30\": 1}, \"19\": {\"19\": 145, \"57\": 5, \"29\": 1, \"1\": 5}, \"11\": {\"11\": 127, \"28\": 2, \"15\": 2, \"22\": 1, \"52\": 2, \"21\": 2}, \"7\": {\"7\": 24, \"45\": 4}, \"23\": {\"23\": 131, \"0\": 3, \"15\": 2}, \"44\": {\"44\": 129, \"35\": 3}, \"42\": {\"42\": 40}, \"54\": {\"54\": 103, \"55\": 1}, \"1\": {\"1\": 82, \"57\": 17, \"19\": 1}, \"46\": {\"46\": 120, \"53\": 6, \"41\": 2}, \"6\": {\"6\": 93, \"30\": 1, \"48\": 1, \"8\": 1}, \"43\": {\"43\": 144}, \"51\": {\"51\": 142}, \"22\": {\"22\": 124, \"11\": 1, \"24\": 6, \"28\": 2, \"21\": 3}, \"0\": {\"0\": 126, \"23\": 2}}, \"C_4\": {\"32\": {\"32\": 24}, \"2\": {\"2\": 36}, \"41\": {\"41\": 36}, \"11\": {\"11\": 92, \"49\": 1, \"32\": 1, \"15\": 5, \"22\": 1, \"46\": 1, \"43\": 1}, \"57\": {\"57\": 98, \"35\": 2}, \"6\": {\"6\": 95, \"3\": 2, \"37\": 1, \"20\": 4, \"51\": 3, \"53\": 5, \"36\": 1, \"23\": 1}, \"23\": {\"23\": 136}, \"52\": {\"52\": 116}, \"38\": {\"38\": 40}, \"50\": {\"50\": 103, \"21\": 19, \"18\": 1, \"8\": 2, \"20\": 1, \"25\": 3, \"3\": 1, \"23\": 1, \"53\": 1}, \"55\": {\"55\": 152}, \"46\": {\"46\": 144, \"0\": 5, \"47\": 3, \"38\": 2}, \"37\": {\"37\": 24}, \"20\": {\"23\": 1, \"20\": 111, \"18\": 1, \"26\": 1, \"3\": 4}, \"49\": {\"49\": 20}, \"45\": {\"45\": 96}, \"54\": {\"54\": 103, \"48\": 3, \"28\": 2}, \"3\": {\"3\": 93, \"21\": 1, \"20\": 14, \"36\": 12, \"25\": 2, \"18\": 2}, \"13\": {\"13\": 152}, \"18\": {\"18\": 106, \"17\": 1, \"23\": 1}, \"21\": {\"21\": 117, \"50\": 8, \"8\": 1}, \"43\": {\"43\": 144}, \"47\": {\"47\": 120}, \"4\": {\"4\": 130, \"9\": 2}, \"12\": {\"12\": 92}, \"9\": {\"9\": 124, \"17\": 1, \"4\": 1, \"33\": 2}, \"7\": {\"7\": 24}, \"56\": {\"56\": 111, \"46\": 1}, \"28\": {\"28\": 32}, \"44\": {\"44\": 130, \"19\": 2}, \"24\": {\"24\": 55, \"46\": 1}, \"33\": {\"33\": 36}, \"35\": {\"35\": 35, \"57\": 5}, \"51\": {\"51\": 137, \"8\": 1}, \"39\": {\"39\": 20}, \"36\": {\"36\": 82, \"3\": 9, \"54\": 1}, \"19\": {\"19\": 138, \"40\": 2}, \"0\": {\"0\": 79, \"2\": 1}, \"15\": {\"15\": 134, \"47\": 1, \"46\": 1}, \"29\": {\"29\": 122, \"57\": 2}, \"30\": {\"30\": 44}, \"1\": {\"1\": 40}, \"22\": {\"22\": 128}, \"40\": {\"40\": 142, \"44\": 4}, \"8\": {\"8\": 128}, \"53\": {\"53\": 137, \"6\": 1}, \"34\": {\"34\": 24}, \"10\": {\"10\": 114, \"46\": 1, \"13\": 7}, \"31\": {\"31\": 27, \"52\": 1}, \"17\": {\"17\": 75, \"27\": 5}, \"16\": {\"16\": 96}, \"42\": {\"42\": 32}, \"27\": {\"27\": 137, \"17\": 5}, \"14\": {\"14\": 6, \"57\": 1, \"0\": 1, \"29\": 2, \"46\": 2, \"40\": 1, \"49\": 1, \"35\": 2}, \"25\": {\"8\": 11, \"25\": 101, \"36\": 4, \"30\": 1, \"3\": 1, \"50\": 3, \"21\": 1}, \"48\": {\"48\": 130, \"54\": 2}, \"26\": {\"26\": 24}, \"5\": {\"5\": 105, \"46\": 3}}, \"C_3\": {\"14\": {\"29\": 4, \"14\": 18, \"56\": 7, \"0\": 1, \"49\": 1, \"1\": 3, \"47\": 1, \"22\": 1, \"57\": 2, \"9\": 1, \"44\": 1}, \"18\": {\"18\": 84}, \"30\": {\"30\": 120}, \"16\": {\"16\": 156}, \"1\": {\"1\": 92, \"34\": 4, \"57\": 3, \"28\": 1}, \"20\": {\"20\": 130, \"50\": 2}, \"7\": {\"7\": 32, \"43\": 4}, \"52\": {\"52\": 130}, \"9\": {\"9\": 140}, \"23\": {\"23\": 143, \"9\": 1}, \"55\": {\"55\": 162, \"47\": 2}, \"29\": {\"29\": 126}, \"56\": {\"56\": 134}, \"3\": {\"3\": 110, \"52\": 7, \"20\": 7}, \"42\": {\"42\": 26, \"48\": 2}, \"6\": {\"6\": 65, \"41\": 3, \"26\": 2, \"2\": 1, \"36\": 2, \"30\": 2, \"18\": 7, \"50\": 3, \"38\": 1, \"25\": 1, \"15\": 1}, \"5\": {\"5\": 114, \"23\": 1, \"47\": 1}, \"27\": {\"27\": 144}, \"47\": {\"47\": 84, \"55\": 8}, \"39\": {\"39\": 14, \"5\": 2}, \"34\": {\"34\": 27, \"35\": 3, \"1\": 2}, \"4\": {\"4\": 126}, \"24\": {\"24\": 104}, \"46\": {\"46\": 96, \"26\": 2, \"52\": 10, \"23\": 1, \"20\": 1, \"15\": 2, \"16\": 6}, \"50\": {\"50\": 115, \"20\": 5, \"3\": 2, \"6\": 2, \"38\": 2}, \"38\": {\"38\": 26, \"50\": 1, \"4\": 1}, \"54\": {\"54\": 94, \"17\": 6}, \"35\": {\"35\": 27, \"34\": 1}, \"2\": {\"2\": 32}, \"41\": {\"41\": 28}, \"57\": {\"57\": 117, \"35\": 1}, \"25\": {\"25\": 126, \"36\": 4, \"18\": 4, \"2\": 1, \"50\": 5, \"6\": 4, \"30\": 3, \"8\": 2, \"54\": 1}, \"48\": {\"42\": 4, \"48\": 111, \"9\": 1}, \"33\": {\"33\": 28}, \"45\": {\"45\": 55, \"32\": 2, \"4\": 3}, \"13\": {\"13\": 126}, \"36\": {\"36\": 99, \"25\": 1}, \"43\": {\"43\": 132}, \"28\": {\"28\": 26, \"1\": 2}, \"0\": {\"0\": 124}, \"12\": {\"12\": 92}, \"31\": {\"31\": 28}, \"40\": {\"40\": 93, \"19\": 14, \"57\": 4, \"30\": 1, \"48\": 1, \"27\": 1, \"29\": 1, \"4\": 1}, \"44\": {\"44\": 84, \"40\": 1, \"19\": 2, \"29\": 1}, \"32\": {\"32\": 28}, \"26\": {\"26\": 24}, \"8\": {\"8\": 116}, \"10\": {\"10\": 64}, \"15\": {\"15\": 138, \"5\": 1, \"23\": 2, \"55\": 1}, \"21\": {\"21\": 126, \"51\": 2}, \"37\": {\"37\": 28}, \"17\": {\"17\": 107, \"54\": 1}, \"51\": {\"51\": 124}, \"53\": {\"53\": 142, \"12\": 1, \"25\": 1}, \"19\": {\"40\": 8, \"19\": 128}, \"49\": {\"49\": 20}, \"11\": {\"11\": 138}, \"22\": {\"14\": 1, \"22\": 126, \"0\": 3}}}, \"per_domain_accuracy\": {\"O_8\": {\"accuracy\": 0.7057291666666666, \"source?\": true}, \"O_38\": {\"accuracy\": 0.6653645833333334, \"source?\": true}, \"O_26\": {\"accuracy\": 0.5166666666666667, \"source?\": true}, \"O_20\": {\"accuracy\": 0.6252604166666667, \"source?\": true}, \"O_50\": {\"accuracy\": 0.71953125, \"source?\": true}, \"O_32\": {\"accuracy\": 0.6981770833333333, \"source?\": true}, \"O_44\": {\"accuracy\": 0.6708333333333333, \"source?\": true}, \"O_14\": {\"accuracy\": 0.7755208333333333, \"source?\": true}, \"C_2\": {\"accuracy\": 0.9479758522727273, \"source?\": false}, \"C_5\": {\"accuracy\": 0.944873595505618, \"source?\": false}, \"C_1\": {\"accuracy\": 0.9562156593406593, \"source?\": false}, \"C_4\": {\"accuracy\": 0.9597679640718563, \"source?\": false}, \"C_3\": {\"accuracy\": 0.9592470760233918, \"source?\": false}}}, \"history\": {\"epoch_indices\": [1, 2, 3, 4, 5, 6, 7], \"train_label_loss\": [2.2076991117071536, 1.197493570892229, 0.9117097607636381, 0.8738201564089173, 0.8494663661789327, 0.8298437334996249, 0.8095998133665749], \"source_val_label_loss\": [1.734532356262207, 0.938163697719574, 0.8915658593177795, 0.864517331123352, 0.8401327729225159, 0.850342869758606, 0.831318736076355], \"target_val_label_loss\": [1.4333250522613525, 0.305493026971817, 0.26347634196281433, 0.28311267495155334, 0.3123086392879486, 0.4397910237312317, 0.4390486180782318], \"source_val_acc_label\": [0.3790690104166667, 0.6540690104166667, 0.6721354166666667, 0.67763671875, 0.6921549479166667, 0.68056640625, 0.6872721354166667], \"target_val_acc_label\": [0.6830306064073226, 0.9473326659038902, 0.9535183066361556, 0.9524098970251716, 0.9473326659038902, 0.9400028604118993, 0.9372497139588101]}, \"dataset_metrics\": {\"source\": {\"train\": {\"n_unique_x\": 179200, \"n_unique_y\": 16, \"n_batch/episode\": 6720}, \"val\": {\"n_unique_x\": 38400, \"n_unique_y\": 16, \"n_batch/episode\": 960}, \"test\": {\"n_unique_x\": 38400, \"n_unique_y\": 16, \"n_batch/episode\": 960}}, \"target\": {\"train\": {\"n_unique_x\": 175127, \"n_unique_y\": 58, \"n_batch/episode\": 6303}, \"val\": {\"n_unique_x\": 37135, \"n_unique_y\": 58, \"n_batch/episode\": 874}, \"test\": {\"n_unique_x\": 37673, \"n_unique_y\": 58, \"n_batch/episode\": 893}}}}'"
      ]
     },
     "execution_count": 29,
     "metadata": {},
     "output_type": "execute_result"
    }
   ],
   "source": [
    "json.dumps(experiment)"
   ]
  }
 ],
 "metadata": {
  "celltoolbar": "Tags",
  "kernelspec": {
   "display_name": "Python 3 (ipykernel)",
   "language": "python",
   "name": "python3"
  },
  "language_info": {
   "codemirror_mode": {
    "name": "ipython",
    "version": 3
   },
   "file_extension": ".py",
   "mimetype": "text/x-python",
   "name": "python",
   "nbconvert_exporter": "python",
   "pygments_lexer": "ipython3",
   "version": "3.8.12"
  },
  "papermill": {
   "default_parameters": {},
   "duration": 1348.329073,
   "end_time": "2022-03-28T10:50:56.272751",
   "environment_variables": {},
   "exception": null,
   "input_path": "/root/csc500-main/csc500-notebooks/templates/tl_ptn_template.ipynb",
   "output_path": "trial.ipynb",
   "parameters": {
    "parameters": {
     "BEST_MODEL_PATH": "./best_model.pth",
     "NUM_LOGS_PER_EPOCH": 10,
     "criteria_for_best": "target_accuracy",
     "dataset_seed": 154325,
     "datasets": [
      {
       "domain_prefix": "C_",
       "domains": [
        1,
        2,
        3,
        4,
        5
       ],
       "episode_transforms": [],
       "labels": [
        "1-10.",
        "1-11.",
        "1-15.",
        "1-16.",
        "1-17.",
        "1-18.",
        "1-19.",
        "10-4.",
        "10-7.",
        "11-1.",
        "11-14.",
        "11-17.",
        "11-20.",
        "11-7.",
        "13-20.",
        "13-8.",
        "14-10.",
        "14-11.",
        "14-14.",
        "14-7.",
        "15-1.",
        "15-20.",
        "16-1.",
        "16-16.",
        "17-10.",
        "17-11.",
        "17-2.",
        "19-1.",
        "19-16.",
        "19-19.",
        "19-20.",
        "19-3.",
        "2-10.",
        "2-11.",
        "2-17.",
        "2-18.",
        "2-20.",
        "2-3.",
        "2-4.",
        "2-5.",
        "2-6.",
        "2-7.",
        "2-8.",
        "3-13.",
        "3-18.",
        "3-3.",
        "4-1.",
        "4-10.",
        "4-11.",
        "4-19.",
        "5-5.",
        "6-15.",
        "7-10.",
        "7-14.",
        "8-18.",
        "8-20.",
        "8-3.",
        "8-8."
       ],
       "num_examples_per_domain_per_label": -1,
       "pickle_path": "/root/csc500-main/datasets/cores.stratified_ds.2022A.pkl",
       "source_or_target_dataset": "target",
       "x_transforms": [
        "unit_mag",
        "jitter_256_10",
        "lowpass_+/-10MHz",
        "take_200"
       ]
      },
      {
       "domain_prefix": "O_",
       "domains": [
        32,
        38,
        8,
        44,
        14,
        50,
        20,
        26
       ],
       "episode_transforms": [],
       "labels": [
        "3123D52",
        "3123D65",
        "3123D79",
        "3123D80",
        "3123D54",
        "3123D70",
        "3123D7B",
        "3123D89",
        "3123D58",
        "3123D76",
        "3123D7D",
        "3123EFE",
        "3123D64",
        "3123D78",
        "3123D7E",
        "3124E4A"
       ],
       "num_examples_per_domain_per_label": 2000,
       "pickle_path": "/root/csc500-main/datasets/oracle.Run1_framed_2000Examples_stratified_ds.2022A.pkl",
       "source_or_target_dataset": "source",
       "x_transforms": [
        "unit_mag",
        "jitter_256_10",
        "take_200",
        "resample_20Msps_to_25Msps"
       ]
      }
     ],
     "device": "cuda",
     "experiment_name": "tl_3-jitter10v2:oracle.run1.framed -> cores",
     "lr": 0.0001,
     "n_epoch": 50,
     "n_query": 2,
     "n_shot": 3,
     "n_way": 16,
     "patience": 3,
     "seed": 154325,
     "test_k_factor": 2,
     "torch_default_dtype": "torch.float32",
     "train_k_factor": 3,
     "val_k_factor": 2,
     "x_net": [
      {
       "class": "nnReshape",
       "kargs": {
        "shape": [
         -1,
         1,
         2,
         256
        ]
       }
      },
      {
       "class": "Conv2d",
       "kargs": {
        "bias": false,
        "in_channels": 1,
        "kernel_size": [
         1,
         7
        ],
        "out_channels": 256,
        "padding": [
         0,
         3
        ]
       }
      },
      {
       "class": "ReLU",
       "kargs": {
        "inplace": true
       }
      },
      {
       "class": "BatchNorm2d",
       "kargs": {
        "num_features": 256
       }
      },
      {
       "class": "Conv2d",
       "kargs": {
        "bias": true,
        "in_channels": 256,
        "kernel_size": [
         2,
         7
        ],
        "out_channels": 80,
        "padding": [
         0,
         3
        ]
       }
      },
      {
       "class": "ReLU",
       "kargs": {
        "inplace": true
       }
      },
      {
       "class": "BatchNorm2d",
       "kargs": {
        "num_features": 80
       }
      },
      {
       "class": "Flatten",
       "kargs": {}
      },
      {
       "class": "Linear",
       "kargs": {
        "in_features": 20480,
        "out_features": 256
       }
      },
      {
       "class": "ReLU",
       "kargs": {
        "inplace": true
       }
      },
      {
       "class": "BatchNorm1d",
       "kargs": {
        "num_features": 256
       }
      },
      {
       "class": "Linear",
       "kargs": {
        "in_features": 256,
        "out_features": 256
       }
      }
     ],
     "x_shape": [
      2,
      256
     ]
    }
   },
   "start_time": "2022-03-28T10:28:27.943678",
   "version": "2.3.4"
  }
 },
 "nbformat": 4,
 "nbformat_minor": 5
}