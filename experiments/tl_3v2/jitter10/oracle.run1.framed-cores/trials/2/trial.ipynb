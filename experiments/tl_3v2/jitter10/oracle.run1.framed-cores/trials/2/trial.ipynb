{
 "cells": [
  {
   "cell_type": "markdown",
   "id": "9fea5f46",
   "metadata": {
    "papermill": {
     "duration": 0.028925,
     "end_time": "2022-03-28T09:35:25.029141",
     "exception": false,
     "start_time": "2022-03-28T09:35:25.000216",
     "status": "completed"
    },
    "tags": []
   },
   "source": [
    "# Transfer Learning Template"
   ]
  },
  {
   "cell_type": "code",
   "execution_count": 1,
   "id": "0902182a",
   "metadata": {
    "execution": {
     "iopub.execute_input": "2022-03-28T09:35:25.089309Z",
     "iopub.status.busy": "2022-03-28T09:35:25.077661Z",
     "iopub.status.idle": "2022-03-28T09:35:26.914849Z",
     "shell.execute_reply": "2022-03-28T09:35:26.914394Z"
    },
    "papermill": {
     "duration": 1.863694,
     "end_time": "2022-03-28T09:35:26.914953",
     "exception": false,
     "start_time": "2022-03-28T09:35:25.051259",
     "status": "completed"
    },
    "tags": []
   },
   "outputs": [],
   "source": [
    "%load_ext autoreload\n",
    "%autoreload 2\n",
    "%matplotlib inline\n",
    "\n",
    "    \n",
    "import os, json, sys, time, random\n",
    "import numpy as np\n",
    "import torch\n",
    "from torch.optim import Adam\n",
    "from  easydict import EasyDict\n",
    "import matplotlib.pyplot as plt\n",
    "\n",
    "from steves_models.steves_ptn import Steves_Prototypical_Network\n",
    "\n",
    "from steves_utils.lazy_iterable_wrapper import Lazy_Iterable_Wrapper\n",
    "from steves_utils.iterable_aggregator import Iterable_Aggregator\n",
    "from steves_utils.ptn_train_eval_test_jig import  PTN_Train_Eval_Test_Jig\n",
    "from steves_utils.torch_sequential_builder import build_sequential\n",
    "from steves_utils.torch_utils import get_dataset_metrics, ptn_confusion_by_domain_over_dataloader\n",
    "from steves_utils.utils_v2 import (per_domain_accuracy_from_confusion, get_datasets_base_path)\n",
    "from steves_utils.PTN.utils import independent_accuracy_assesment\n",
    "\n",
    "from torch.utils.data import DataLoader\n",
    "\n",
    "from steves_utils.stratified_dataset.episodic_accessor import Episodic_Accessor_Factory\n",
    "\n",
    "from steves_utils.ptn_do_report import (\n",
    "    get_loss_curve,\n",
    "    get_results_table,\n",
    "    get_parameters_table,\n",
    "    get_domain_accuracies,\n",
    ")\n",
    "\n",
    "from steves_utils.transforms import get_chained_transform"
   ]
  },
  {
   "cell_type": "markdown",
   "id": "41c840b4",
   "metadata": {
    "papermill": {
     "duration": 0.019843,
     "end_time": "2022-03-28T09:35:26.954974",
     "exception": false,
     "start_time": "2022-03-28T09:35:26.935131",
     "status": "completed"
    },
    "tags": []
   },
   "source": [
    "# Allowed Parameters\n",
    "These are allowed parameters, not defaults\n",
    "Each of these values need to be present in the injected parameters (the notebook will raise an exception if they are not present)\n",
    "\n",
    "Papermill uses the cell tag \"parameters\" to inject the real parameters below this cell.\n",
    "Enable tags to see what I mean"
   ]
  },
  {
   "cell_type": "code",
   "execution_count": 2,
   "id": "fd44eb83",
   "metadata": {
    "execution": {
     "iopub.execute_input": "2022-03-28T09:35:27.000012Z",
     "iopub.status.busy": "2022-03-28T09:35:26.999581Z",
     "iopub.status.idle": "2022-03-28T09:35:27.022107Z",
     "shell.execute_reply": "2022-03-28T09:35:27.021280Z"
    },
    "papermill": {
     "duration": 0.047634,
     "end_time": "2022-03-28T09:35:27.022264",
     "exception": false,
     "start_time": "2022-03-28T09:35:26.974630",
     "status": "completed"
    },
    "tags": []
   },
   "outputs": [],
   "source": [
    "required_parameters = {\n",
    "    \"experiment_name\",\n",
    "    \"lr\",\n",
    "    \"device\",\n",
    "    \"seed\",\n",
    "    \"dataset_seed\",\n",
    "    \"n_shot\",\n",
    "    \"n_query\",\n",
    "    \"n_way\",\n",
    "    \"train_k_factor\",\n",
    "    \"val_k_factor\",\n",
    "    \"test_k_factor\",\n",
    "    \"n_epoch\",\n",
    "    \"patience\",\n",
    "    \"criteria_for_best\",\n",
    "    \"x_net\",\n",
    "    \"datasets\",\n",
    "    \"torch_default_dtype\",\n",
    "    \"NUM_LOGS_PER_EPOCH\",\n",
    "    \"BEST_MODEL_PATH\",\n",
    "    \"x_shape\",\n",
    "}"
   ]
  },
  {
   "cell_type": "code",
   "execution_count": 3,
   "id": "fa3f0049",
   "metadata": {
    "execution": {
     "iopub.execute_input": "2022-03-28T09:35:27.082690Z",
     "iopub.status.busy": "2022-03-28T09:35:27.081677Z",
     "iopub.status.idle": "2022-03-28T09:35:27.116688Z",
     "shell.execute_reply": "2022-03-28T09:35:27.115861Z"
    },
    "papermill": {
     "duration": 0.069679,
     "end_time": "2022-03-28T09:35:27.116844",
     "exception": false,
     "start_time": "2022-03-28T09:35:27.047165",
     "status": "completed"
    },
    "tags": [
     "parameters"
    ]
   },
   "outputs": [],
   "source": [
    "from steves_utils.CORES.utils import (\n",
    "    ALL_NODES,\n",
    "    ALL_NODES_MINIMUM_1000_EXAMPLES,\n",
    "    ALL_DAYS\n",
    ")\n",
    "\n",
    "from steves_utils.ORACLE.utils_v2 import (\n",
    "    ALL_DISTANCES_FEET_NARROWED,\n",
    "    ALL_RUNS,\n",
    "    ALL_SERIAL_NUMBERS,\n",
    ")\n",
    "\n",
    "standalone_parameters = {}\n",
    "standalone_parameters[\"experiment_name\"] = \"STANDALONE PTN\"\n",
    "standalone_parameters[\"lr\"] = 0.001\n",
    "standalone_parameters[\"device\"] = \"cuda\"\n",
    "\n",
    "standalone_parameters[\"seed\"] = 1337\n",
    "standalone_parameters[\"dataset_seed\"] = 1337\n",
    "\n",
    "standalone_parameters[\"n_way\"] = 8\n",
    "standalone_parameters[\"n_shot\"] = 3\n",
    "standalone_parameters[\"n_query\"]  = 2\n",
    "standalone_parameters[\"train_k_factor\"] = 1\n",
    "standalone_parameters[\"val_k_factor\"] = 2\n",
    "standalone_parameters[\"test_k_factor\"] = 2\n",
    "\n",
    "\n",
    "standalone_parameters[\"n_epoch\"] = 50\n",
    "\n",
    "standalone_parameters[\"patience\"] = 10\n",
    "standalone_parameters[\"criteria_for_best\"] = \"source_loss\"\n",
    "\n",
    "standalone_parameters[\"datasets\"] = [\n",
    "    {\n",
    "        \"labels\": ALL_SERIAL_NUMBERS,\n",
    "        \"domains\": ALL_DISTANCES_FEET_NARROWED,\n",
    "        \"num_examples_per_domain_per_label\": 100,\n",
    "        \"pickle_path\": os.path.join(get_datasets_base_path(), \"oracle.Run1_framed_2000Examples_stratified_ds.2022A.pkl\"),\n",
    "        \"source_or_target_dataset\": \"source\",\n",
    "        \"x_transforms\": [\"unit_mag\", \"minus_two\"],\n",
    "        \"episode_transforms\": [],\n",
    "        \"domain_prefix\": \"ORACLE_\"\n",
    "    },\n",
    "    {\n",
    "        \"labels\": ALL_NODES,\n",
    "        \"domains\": ALL_DAYS,\n",
    "        \"num_examples_per_domain_per_label\": 100,\n",
    "        \"pickle_path\": os.path.join(get_datasets_base_path(), \"cores.stratified_ds.2022A.pkl\"),\n",
    "        \"source_or_target_dataset\": \"target\",\n",
    "        \"x_transforms\": [\"unit_power\", \"times_zero\"],\n",
    "        \"episode_transforms\": [],\n",
    "        \"domain_prefix\": \"CORES_\"\n",
    "    }   \n",
    "]\n",
    "\n",
    "standalone_parameters[\"torch_default_dtype\"] = \"torch.float32\" \n",
    "\n",
    "\n",
    "\n",
    "standalone_parameters[\"x_net\"] =     [\n",
    "    {\"class\": \"nnReshape\", \"kargs\": {\"shape\":[-1, 1, 2, 256]}},\n",
    "    {\"class\": \"Conv2d\", \"kargs\": { \"in_channels\":1, \"out_channels\":256, \"kernel_size\":(1,7), \"bias\":False, \"padding\":(0,3), },},\n",
    "    {\"class\": \"ReLU\", \"kargs\": {\"inplace\": True}},\n",
    "    {\"class\": \"BatchNorm2d\", \"kargs\": {\"num_features\":256}},\n",
    "\n",
    "    {\"class\": \"Conv2d\", \"kargs\": { \"in_channels\":256, \"out_channels\":80, \"kernel_size\":(2,7), \"bias\":True, \"padding\":(0,3), },},\n",
    "    {\"class\": \"ReLU\", \"kargs\": {\"inplace\": True}},\n",
    "    {\"class\": \"BatchNorm2d\", \"kargs\": {\"num_features\":80}},\n",
    "    {\"class\": \"Flatten\", \"kargs\": {}},\n",
    "\n",
    "    {\"class\": \"Linear\", \"kargs\": {\"in_features\": 80*256, \"out_features\": 256}}, # 80 units per IQ pair\n",
    "    {\"class\": \"ReLU\", \"kargs\": {\"inplace\": True}},\n",
    "    {\"class\": \"BatchNorm1d\", \"kargs\": {\"num_features\":256}},\n",
    "\n",
    "    {\"class\": \"Linear\", \"kargs\": {\"in_features\": 256, \"out_features\": 256}},\n",
    "]\n",
    "\n",
    "# Parameters relevant to results\n",
    "# These parameters will basically never need to change\n",
    "standalone_parameters[\"NUM_LOGS_PER_EPOCH\"] = 10\n",
    "standalone_parameters[\"BEST_MODEL_PATH\"] = \"./best_model.pth\"\n",
    "\n",
    "\n",
    "\n",
    "\n"
   ]
  },
  {
   "cell_type": "code",
   "execution_count": 4,
   "id": "fbb14570",
   "metadata": {
    "execution": {
     "iopub.execute_input": "2022-03-28T09:35:27.176107Z",
     "iopub.status.busy": "2022-03-28T09:35:27.173558Z",
     "iopub.status.idle": "2022-03-28T09:35:27.199046Z",
     "shell.execute_reply": "2022-03-28T09:35:27.198225Z"
    },
    "papermill": {
     "duration": 0.058703,
     "end_time": "2022-03-28T09:35:27.199202",
     "exception": false,
     "start_time": "2022-03-28T09:35:27.140499",
     "status": "completed"
    },
    "tags": [
     "injected-parameters"
    ]
   },
   "outputs": [],
   "source": [
    "# Parameters\n",
    "parameters = {\n",
    "    \"experiment_name\": \"tl_3-jitter10v2:oracle.run1.framed -> cores\",\n",
    "    \"device\": \"cuda\",\n",
    "    \"lr\": 0.0001,\n",
    "    \"x_shape\": [2, 256],\n",
    "    \"n_shot\": 3,\n",
    "    \"n_query\": 2,\n",
    "    \"train_k_factor\": 3,\n",
    "    \"val_k_factor\": 2,\n",
    "    \"test_k_factor\": 2,\n",
    "    \"torch_default_dtype\": \"torch.float32\",\n",
    "    \"n_epoch\": 50,\n",
    "    \"patience\": 3,\n",
    "    \"criteria_for_best\": \"target_accuracy\",\n",
    "    \"x_net\": [\n",
    "        {\"class\": \"nnReshape\", \"kargs\": {\"shape\": [-1, 1, 2, 256]}},\n",
    "        {\n",
    "            \"class\": \"Conv2d\",\n",
    "            \"kargs\": {\n",
    "                \"in_channels\": 1,\n",
    "                \"out_channels\": 256,\n",
    "                \"kernel_size\": [1, 7],\n",
    "                \"bias\": False,\n",
    "                \"padding\": [0, 3],\n",
    "            },\n",
    "        },\n",
    "        {\"class\": \"ReLU\", \"kargs\": {\"inplace\": True}},\n",
    "        {\"class\": \"BatchNorm2d\", \"kargs\": {\"num_features\": 256}},\n",
    "        {\n",
    "            \"class\": \"Conv2d\",\n",
    "            \"kargs\": {\n",
    "                \"in_channels\": 256,\n",
    "                \"out_channels\": 80,\n",
    "                \"kernel_size\": [2, 7],\n",
    "                \"bias\": True,\n",
    "                \"padding\": [0, 3],\n",
    "            },\n",
    "        },\n",
    "        {\"class\": \"ReLU\", \"kargs\": {\"inplace\": True}},\n",
    "        {\"class\": \"BatchNorm2d\", \"kargs\": {\"num_features\": 80}},\n",
    "        {\"class\": \"Flatten\", \"kargs\": {}},\n",
    "        {\"class\": \"Linear\", \"kargs\": {\"in_features\": 20480, \"out_features\": 256}},\n",
    "        {\"class\": \"ReLU\", \"kargs\": {\"inplace\": True}},\n",
    "        {\"class\": \"BatchNorm1d\", \"kargs\": {\"num_features\": 256}},\n",
    "        {\"class\": \"Linear\", \"kargs\": {\"in_features\": 256, \"out_features\": 256}},\n",
    "    ],\n",
    "    \"NUM_LOGS_PER_EPOCH\": 10,\n",
    "    \"BEST_MODEL_PATH\": \"./best_model.pth\",\n",
    "    \"n_way\": 16,\n",
    "    \"datasets\": [\n",
    "        {\n",
    "            \"labels\": [\n",
    "                \"1-10.\",\n",
    "                \"1-11.\",\n",
    "                \"1-15.\",\n",
    "                \"1-16.\",\n",
    "                \"1-17.\",\n",
    "                \"1-18.\",\n",
    "                \"1-19.\",\n",
    "                \"10-4.\",\n",
    "                \"10-7.\",\n",
    "                \"11-1.\",\n",
    "                \"11-14.\",\n",
    "                \"11-17.\",\n",
    "                \"11-20.\",\n",
    "                \"11-7.\",\n",
    "                \"13-20.\",\n",
    "                \"13-8.\",\n",
    "                \"14-10.\",\n",
    "                \"14-11.\",\n",
    "                \"14-14.\",\n",
    "                \"14-7.\",\n",
    "                \"15-1.\",\n",
    "                \"15-20.\",\n",
    "                \"16-1.\",\n",
    "                \"16-16.\",\n",
    "                \"17-10.\",\n",
    "                \"17-11.\",\n",
    "                \"17-2.\",\n",
    "                \"19-1.\",\n",
    "                \"19-16.\",\n",
    "                \"19-19.\",\n",
    "                \"19-20.\",\n",
    "                \"19-3.\",\n",
    "                \"2-10.\",\n",
    "                \"2-11.\",\n",
    "                \"2-17.\",\n",
    "                \"2-18.\",\n",
    "                \"2-20.\",\n",
    "                \"2-3.\",\n",
    "                \"2-4.\",\n",
    "                \"2-5.\",\n",
    "                \"2-6.\",\n",
    "                \"2-7.\",\n",
    "                \"2-8.\",\n",
    "                \"3-13.\",\n",
    "                \"3-18.\",\n",
    "                \"3-3.\",\n",
    "                \"4-1.\",\n",
    "                \"4-10.\",\n",
    "                \"4-11.\",\n",
    "                \"4-19.\",\n",
    "                \"5-5.\",\n",
    "                \"6-15.\",\n",
    "                \"7-10.\",\n",
    "                \"7-14.\",\n",
    "                \"8-18.\",\n",
    "                \"8-20.\",\n",
    "                \"8-3.\",\n",
    "                \"8-8.\",\n",
    "            ],\n",
    "            \"domains\": [1, 2, 3, 4, 5],\n",
    "            \"num_examples_per_domain_per_label\": -1,\n",
    "            \"pickle_path\": \"/root/csc500-main/datasets/cores.stratified_ds.2022A.pkl\",\n",
    "            \"source_or_target_dataset\": \"target\",\n",
    "            \"x_transforms\": [\"jitter_256_10\", \"lowpass_+/-10MHz\", \"take_200\"],\n",
    "            \"episode_transforms\": [],\n",
    "            \"domain_prefix\": \"C_\",\n",
    "        },\n",
    "        {\n",
    "            \"labels\": [\n",
    "                \"3123D52\",\n",
    "                \"3123D65\",\n",
    "                \"3123D79\",\n",
    "                \"3123D80\",\n",
    "                \"3123D54\",\n",
    "                \"3123D70\",\n",
    "                \"3123D7B\",\n",
    "                \"3123D89\",\n",
    "                \"3123D58\",\n",
    "                \"3123D76\",\n",
    "                \"3123D7D\",\n",
    "                \"3123EFE\",\n",
    "                \"3123D64\",\n",
    "                \"3123D78\",\n",
    "                \"3123D7E\",\n",
    "                \"3124E4A\",\n",
    "            ],\n",
    "            \"domains\": [32, 38, 8, 44, 14, 50, 20, 26],\n",
    "            \"num_examples_per_domain_per_label\": 2000,\n",
    "            \"pickle_path\": \"/root/csc500-main/datasets/oracle.Run1_framed_2000Examples_stratified_ds.2022A.pkl\",\n",
    "            \"source_or_target_dataset\": \"source\",\n",
    "            \"x_transforms\": [\"jitter_256_10\", \"take_200\", \"resample_20Msps_to_25Msps\"],\n",
    "            \"episode_transforms\": [],\n",
    "            \"domain_prefix\": \"O_\",\n",
    "        },\n",
    "    ],\n",
    "    \"seed\": 1337,\n",
    "    \"dataset_seed\": 1337,\n",
    "}\n"
   ]
  },
  {
   "cell_type": "code",
   "execution_count": 5,
   "id": "8fa1cc33",
   "metadata": {
    "execution": {
     "iopub.execute_input": "2022-03-28T09:35:27.254938Z",
     "iopub.status.busy": "2022-03-28T09:35:27.254089Z",
     "iopub.status.idle": "2022-03-28T09:35:27.275197Z",
     "shell.execute_reply": "2022-03-28T09:35:27.274398Z"
    },
    "papermill": {
     "duration": 0.049324,
     "end_time": "2022-03-28T09:35:27.275354",
     "exception": false,
     "start_time": "2022-03-28T09:35:27.226030",
     "status": "completed"
    },
    "tags": []
   },
   "outputs": [],
   "source": [
    "# Set this to True if you want to run this template directly\n",
    "STANDALONE = False\n",
    "if STANDALONE:\n",
    "    print(\"parameters not injected, running with standalone_parameters\")\n",
    "    parameters = standalone_parameters\n",
    "\n",
    "if not 'parameters' in locals() and not 'parameters' in globals():\n",
    "    raise Exception(\"Parameter injection failed\")\n",
    "\n",
    "#Use an easy dict for all the parameters\n",
    "p = EasyDict(parameters)\n",
    "\n",
    "if \"x_shape\" not in p:\n",
    "    p.x_shape = [2,256] # Default to this if we dont supply x_shape\n",
    "\n",
    "\n",
    "supplied_keys = set(p.keys())\n",
    "\n",
    "if  supplied_keys != required_parameters:\n",
    "    print(\"Parameters are incorrect\")\n",
    "    if len(supplied_keys - required_parameters)>0: print(\"Shouldn't have:\", str(supplied_keys - required_parameters))\n",
    "    if len(required_parameters - supplied_keys)>0: print(\"Need to have:\", str(required_parameters - supplied_keys))\n",
    "    raise RuntimeError(\"Parameters are incorrect\")"
   ]
  },
  {
   "cell_type": "code",
   "execution_count": 6,
   "id": "3a028d58",
   "metadata": {
    "execution": {
     "iopub.execute_input": "2022-03-28T09:35:27.327644Z",
     "iopub.status.busy": "2022-03-28T09:35:27.327057Z",
     "iopub.status.idle": "2022-03-28T09:35:27.348952Z",
     "shell.execute_reply": "2022-03-28T09:35:27.348161Z"
    },
    "papermill": {
     "duration": 0.047019,
     "end_time": "2022-03-28T09:35:27.349105",
     "exception": false,
     "start_time": "2022-03-28T09:35:27.302086",
     "status": "completed"
    },
    "tags": []
   },
   "outputs": [],
   "source": [
    "###################################\n",
    "# Set the RNGs and make it all deterministic\n",
    "###################################\n",
    "np.random.seed(p.seed)\n",
    "random.seed(p.seed)\n",
    "torch.manual_seed(p.seed)\n",
    "\n",
    "torch.use_deterministic_algorithms(True) "
   ]
  },
  {
   "cell_type": "code",
   "execution_count": 7,
   "id": "b691acf6",
   "metadata": {
    "execution": {
     "iopub.execute_input": "2022-03-28T09:35:27.397802Z",
     "iopub.status.busy": "2022-03-28T09:35:27.396717Z",
     "iopub.status.idle": "2022-03-28T09:35:27.422278Z",
     "shell.execute_reply": "2022-03-28T09:35:27.421456Z"
    },
    "papermill": {
     "duration": 0.049357,
     "end_time": "2022-03-28T09:35:27.422432",
     "exception": false,
     "start_time": "2022-03-28T09:35:27.373075",
     "status": "completed"
    },
    "tags": []
   },
   "outputs": [],
   "source": [
    "###########################################\n",
    "# The stratified datasets honor this\n",
    "###########################################\n",
    "torch.set_default_dtype(eval(p.torch_default_dtype))"
   ]
  },
  {
   "cell_type": "code",
   "execution_count": 8,
   "id": "b5fba671",
   "metadata": {
    "execution": {
     "iopub.execute_input": "2022-03-28T09:35:27.470638Z",
     "iopub.status.busy": "2022-03-28T09:35:27.470266Z",
     "iopub.status.idle": "2022-03-28T09:35:27.522764Z",
     "shell.execute_reply": "2022-03-28T09:35:27.522042Z"
    },
    "papermill": {
     "duration": 0.075126,
     "end_time": "2022-03-28T09:35:27.522918",
     "exception": false,
     "start_time": "2022-03-28T09:35:27.447792",
     "status": "completed"
    },
    "tags": []
   },
   "outputs": [],
   "source": [
    "###################################\n",
    "# Build the network(s)\n",
    "# Note: It's critical to do this AFTER setting the RNG\n",
    "###################################\n",
    "x_net = build_sequential(p.x_net)"
   ]
  },
  {
   "cell_type": "code",
   "execution_count": 9,
   "id": "5d7e61cc",
   "metadata": {
    "execution": {
     "iopub.execute_input": "2022-03-28T09:35:27.571697Z",
     "iopub.status.busy": "2022-03-28T09:35:27.571302Z",
     "iopub.status.idle": "2022-03-28T09:35:27.593280Z",
     "shell.execute_reply": "2022-03-28T09:35:27.592472Z"
    },
    "papermill": {
     "duration": 0.04499,
     "end_time": "2022-03-28T09:35:27.593431",
     "exception": false,
     "start_time": "2022-03-28T09:35:27.548441",
     "status": "completed"
    },
    "tags": []
   },
   "outputs": [],
   "source": [
    "start_time_secs = time.time()"
   ]
  },
  {
   "cell_type": "code",
   "execution_count": 10,
   "id": "c6b67dfd",
   "metadata": {
    "execution": {
     "iopub.execute_input": "2022-03-28T09:35:27.645462Z",
     "iopub.status.busy": "2022-03-28T09:35:27.644822Z",
     "iopub.status.idle": "2022-03-28T09:35:27.667950Z",
     "shell.execute_reply": "2022-03-28T09:35:27.667134Z"
    },
    "papermill": {
     "duration": 0.048569,
     "end_time": "2022-03-28T09:35:27.668107",
     "exception": false,
     "start_time": "2022-03-28T09:35:27.619538",
     "status": "completed"
    },
    "tags": []
   },
   "outputs": [],
   "source": [
    "p.domains_source = []\n",
    "p.domains_target = []\n",
    "\n",
    "\n",
    "train_original_source = []\n",
    "val_original_source   = []\n",
    "test_original_source  = []\n",
    "\n",
    "train_original_target = []\n",
    "val_original_target   = []\n",
    "test_original_target  = []"
   ]
  },
  {
   "cell_type": "code",
   "execution_count": 11,
   "id": "e3d9c3d3",
   "metadata": {
    "execution": {
     "iopub.execute_input": "2022-03-28T09:35:27.721033Z",
     "iopub.status.busy": "2022-03-28T09:35:27.720396Z",
     "iopub.status.idle": "2022-03-28T09:35:27.738973Z",
     "shell.execute_reply": "2022-03-28T09:35:27.738261Z"
    },
    "papermill": {
     "duration": 0.041526,
     "end_time": "2022-03-28T09:35:27.739140",
     "exception": false,
     "start_time": "2022-03-28T09:35:27.697614",
     "status": "completed"
    },
    "tags": []
   },
   "outputs": [],
   "source": [
    "# global_x_transform_func = lambda x: normalize(x.to(torch.get_default_dtype()), \"unit_power\") # unit_power, unit_mag\n",
    "# global_x_transform_func = lambda x: normalize(x, \"unit_power\") # unit_power, unit_mag"
   ]
  },
  {
   "cell_type": "code",
   "execution_count": 12,
   "id": "acb78fd2",
   "metadata": {
    "execution": {
     "iopub.execute_input": "2022-03-28T09:35:27.794286Z",
     "iopub.status.busy": "2022-03-28T09:35:27.793645Z",
     "iopub.status.idle": "2022-03-28T09:35:27.813780Z",
     "shell.execute_reply": "2022-03-28T09:35:27.812971Z"
    },
    "papermill": {
     "duration": 0.047291,
     "end_time": "2022-03-28T09:35:27.813931",
     "exception": false,
     "start_time": "2022-03-28T09:35:27.766640",
     "status": "completed"
    },
    "tags": []
   },
   "outputs": [],
   "source": [
    "def add_dataset(\n",
    "    labels,\n",
    "    domains,\n",
    "    pickle_path,\n",
    "    x_transforms,\n",
    "    episode_transforms,\n",
    "    domain_prefix,\n",
    "    num_examples_per_domain_per_label,\n",
    "    source_or_target_dataset:str,\n",
    "    iterator_seed=p.seed,\n",
    "    dataset_seed=p.dataset_seed,\n",
    "    n_shot=p.n_shot,\n",
    "    n_way=p.n_way,\n",
    "    n_query=p.n_query,\n",
    "    train_val_test_k_factors=(p.train_k_factor,p.val_k_factor,p.test_k_factor),\n",
    "):\n",
    "   \n",
    "    if x_transforms == []: x_transform = None\n",
    "    else: x_transform = get_chained_transform(x_transforms)\n",
    "    \n",
    "    if episode_transforms == []: episode_transform = None\n",
    "    else: raise Exception(\"episode_transforms not implemented\")\n",
    "    \n",
    "    episode_transform = lambda tup, _prefix=domain_prefix: (_prefix + str(tup[0]), tup[1])\n",
    "\n",
    "\n",
    "    eaf = Episodic_Accessor_Factory(\n",
    "        labels=labels,\n",
    "        domains=domains,\n",
    "        num_examples_per_domain_per_label=num_examples_per_domain_per_label,\n",
    "        iterator_seed=iterator_seed,\n",
    "        dataset_seed=dataset_seed,\n",
    "        n_shot=n_shot,\n",
    "        n_way=n_way,\n",
    "        n_query=n_query,\n",
    "        train_val_test_k_factors=train_val_test_k_factors,\n",
    "        pickle_path=pickle_path,\n",
    "        x_transform_func=x_transform,\n",
    "    )\n",
    "\n",
    "    train, val, test = eaf.get_train(), eaf.get_val(), eaf.get_test()\n",
    "    train = Lazy_Iterable_Wrapper(train, episode_transform)\n",
    "    val = Lazy_Iterable_Wrapper(val, episode_transform)\n",
    "    test = Lazy_Iterable_Wrapper(test, episode_transform)\n",
    "\n",
    "    if source_or_target_dataset==\"source\":\n",
    "        train_original_source.append(train)\n",
    "        val_original_source.append(val)\n",
    "        test_original_source.append(test)\n",
    "\n",
    "        p.domains_source.extend(\n",
    "            [domain_prefix + str(u) for u in domains]\n",
    "        )\n",
    "    elif source_or_target_dataset==\"target\":\n",
    "        train_original_target.append(train)\n",
    "        val_original_target.append(val)\n",
    "        test_original_target.append(test)\n",
    "        p.domains_target.extend(\n",
    "            [domain_prefix + str(u) for u in domains]\n",
    "        )\n",
    "    else:\n",
    "        raise Exception(f\"invalid source_or_target_dataset: {source_or_target_dataset}\")\n",
    "    "
   ]
  },
  {
   "cell_type": "code",
   "execution_count": 13,
   "id": "fe266617",
   "metadata": {
    "execution": {
     "iopub.execute_input": "2022-03-28T09:35:27.863323Z",
     "iopub.status.busy": "2022-03-28T09:35:27.862946Z",
     "iopub.status.idle": "2022-03-28T09:36:33.443450Z",
     "shell.execute_reply": "2022-03-28T09:36:33.442545Z"
    },
    "papermill": {
     "duration": 65.603599,
     "end_time": "2022-03-28T09:36:33.443648",
     "exception": false,
     "start_time": "2022-03-28T09:35:27.840049",
     "status": "completed"
    },
    "tags": []
   },
   "outputs": [],
   "source": [
    "for ds in p.datasets:\n",
    "    add_dataset(**ds)"
   ]
  },
  {
   "cell_type": "code",
   "execution_count": 14,
   "id": "b90d65ac",
   "metadata": {
    "execution": {
     "iopub.execute_input": "2022-03-28T09:36:33.494773Z",
     "iopub.status.busy": "2022-03-28T09:36:33.494193Z",
     "iopub.status.idle": "2022-03-28T09:36:33.519714Z",
     "shell.execute_reply": "2022-03-28T09:36:33.519001Z"
    },
    "papermill": {
     "duration": 0.050566,
     "end_time": "2022-03-28T09:36:33.519879",
     "exception": false,
     "start_time": "2022-03-28T09:36:33.469313",
     "status": "completed"
    },
    "tags": []
   },
   "outputs": [],
   "source": [
    "# from steves_utils.CORES.utils import (\n",
    "#     ALL_NODES,\n",
    "#     ALL_NODES_MINIMUM_1000_EXAMPLES,\n",
    "#     ALL_DAYS\n",
    "# )\n",
    "\n",
    "# add_dataset(\n",
    "#     labels=ALL_NODES,\n",
    "#     domains = ALL_DAYS,\n",
    "#     num_examples_per_domain_per_label=100,\n",
    "#     pickle_path=os.path.join(get_datasets_base_path(), \"cores.stratified_ds.2022A.pkl\"),\n",
    "#     source_or_target_dataset=\"target\",\n",
    "#     x_transform_func=global_x_transform_func,\n",
    "#     domain_modifier=lambda u: f\"cores_{u}\"\n",
    "# )"
   ]
  },
  {
   "cell_type": "code",
   "execution_count": 15,
   "id": "76db484d",
   "metadata": {
    "execution": {
     "iopub.execute_input": "2022-03-28T09:36:33.577373Z",
     "iopub.status.busy": "2022-03-28T09:36:33.568392Z",
     "iopub.status.idle": "2022-03-28T09:36:33.588671Z",
     "shell.execute_reply": "2022-03-28T09:36:33.589354Z"
    },
    "papermill": {
     "duration": 0.044587,
     "end_time": "2022-03-28T09:36:33.589537",
     "exception": false,
     "start_time": "2022-03-28T09:36:33.544950",
     "status": "completed"
    },
    "tags": []
   },
   "outputs": [],
   "source": [
    "# from steves_utils.ORACLE.utils_v2 import (\n",
    "#     ALL_DISTANCES_FEET,\n",
    "#     ALL_RUNS,\n",
    "#     ALL_SERIAL_NUMBERS,\n",
    "# )\n",
    "\n",
    "\n",
    "# add_dataset(\n",
    "#     labels=ALL_SERIAL_NUMBERS,\n",
    "#     domains = list(set(ALL_DISTANCES_FEET) - {2,62}),\n",
    "#     num_examples_per_domain_per_label=100,\n",
    "#     pickle_path=os.path.join(get_datasets_base_path(), \"oracle.Run2_framed_2000Examples_stratified_ds.2022A.pkl\"),\n",
    "#     source_or_target_dataset=\"source\",\n",
    "#     x_transform_func=global_x_transform_func,\n",
    "#     domain_modifier=lambda u: f\"oracle1_{u}\"\n",
    "# )\n"
   ]
  },
  {
   "cell_type": "code",
   "execution_count": 16,
   "id": "97dea9d2",
   "metadata": {
    "execution": {
     "iopub.execute_input": "2022-03-28T09:36:33.641053Z",
     "iopub.status.busy": "2022-03-28T09:36:33.640142Z",
     "iopub.status.idle": "2022-03-28T09:36:33.661212Z",
     "shell.execute_reply": "2022-03-28T09:36:33.661901Z"
    },
    "papermill": {
     "duration": 0.046029,
     "end_time": "2022-03-28T09:36:33.662085",
     "exception": false,
     "start_time": "2022-03-28T09:36:33.616056",
     "status": "completed"
    },
    "tags": []
   },
   "outputs": [],
   "source": [
    "# from steves_utils.ORACLE.utils_v2 import (\n",
    "#     ALL_DISTANCES_FEET,\n",
    "#     ALL_RUNS,\n",
    "#     ALL_SERIAL_NUMBERS,\n",
    "# )\n",
    "\n",
    "\n",
    "# add_dataset(\n",
    "#     labels=ALL_SERIAL_NUMBERS,\n",
    "#     domains = list(set(ALL_DISTANCES_FEET) - {2,62,56}),\n",
    "#     num_examples_per_domain_per_label=100,\n",
    "#     pickle_path=os.path.join(get_datasets_base_path(), \"oracle.Run2_framed_2000Examples_stratified_ds.2022A.pkl\"),\n",
    "#     source_or_target_dataset=\"source\",\n",
    "#     x_transform_func=global_x_transform_func,\n",
    "#     domain_modifier=lambda u: f\"oracle2_{u}\"\n",
    "# )"
   ]
  },
  {
   "cell_type": "code",
   "execution_count": 17,
   "id": "6f289866",
   "metadata": {
    "execution": {
     "iopub.execute_input": "2022-03-28T09:36:33.713961Z",
     "iopub.status.busy": "2022-03-28T09:36:33.713584Z",
     "iopub.status.idle": "2022-03-28T09:36:33.730812Z",
     "shell.execute_reply": "2022-03-28T09:36:33.729997Z"
    },
    "papermill": {
     "duration": 0.040375,
     "end_time": "2022-03-28T09:36:33.730969",
     "exception": false,
     "start_time": "2022-03-28T09:36:33.690594",
     "status": "completed"
    },
    "tags": []
   },
   "outputs": [],
   "source": [
    "# add_dataset(\n",
    "#     labels=list(range(19)),\n",
    "#     domains = [0,1,2],\n",
    "#     num_examples_per_domain_per_label=100,\n",
    "#     pickle_path=os.path.join(get_datasets_base_path(), \"metehan.stratified_ds.2022A.pkl\"),\n",
    "#     source_or_target_dataset=\"target\",\n",
    "#     x_transform_func=global_x_transform_func,\n",
    "#     domain_modifier=lambda u: f\"met_{u}\"\n",
    "# )"
   ]
  },
  {
   "cell_type": "code",
   "execution_count": 18,
   "id": "86a863c3",
   "metadata": {
    "execution": {
     "iopub.execute_input": "2022-03-28T09:36:33.785884Z",
     "iopub.status.busy": "2022-03-28T09:36:33.782129Z",
     "iopub.status.idle": "2022-03-28T09:36:33.804611Z",
     "shell.execute_reply": "2022-03-28T09:36:33.803791Z"
    },
    "papermill": {
     "duration": 0.047788,
     "end_time": "2022-03-28T09:36:33.804768",
     "exception": false,
     "start_time": "2022-03-28T09:36:33.756980",
     "status": "completed"
    },
    "tags": []
   },
   "outputs": [],
   "source": [
    "# # from steves_utils.wisig.utils import (\n",
    "# #     ALL_NODES_MINIMUM_100_EXAMPLES,\n",
    "# #     ALL_NODES_MINIMUM_500_EXAMPLES,\n",
    "# #     ALL_NODES_MINIMUM_1000_EXAMPLES,\n",
    "# #     ALL_DAYS\n",
    "# # )\n",
    "\n",
    "# import steves_utils.wisig.utils as wisig\n",
    "\n",
    "\n",
    "# add_dataset(\n",
    "#     labels=wisig.ALL_NODES_MINIMUM_100_EXAMPLES,\n",
    "#     domains = wisig.ALL_DAYS,\n",
    "#     num_examples_per_domain_per_label=100,\n",
    "#     pickle_path=os.path.join(get_datasets_base_path(), \"wisig.node3-19.stratified_ds.2022A.pkl\"),\n",
    "#     source_or_target_dataset=\"target\",\n",
    "#     x_transform_func=global_x_transform_func,\n",
    "#     domain_modifier=lambda u: f\"wisig_{u}\"\n",
    "# )"
   ]
  },
  {
   "cell_type": "code",
   "execution_count": 19,
   "id": "fd5442bc",
   "metadata": {
    "execution": {
     "iopub.execute_input": "2022-03-28T09:36:33.859661Z",
     "iopub.status.busy": "2022-03-28T09:36:33.858639Z",
     "iopub.status.idle": "2022-03-28T09:36:33.877771Z",
     "shell.execute_reply": "2022-03-28T09:36:33.878456Z"
    },
    "papermill": {
     "duration": 0.048947,
     "end_time": "2022-03-28T09:36:33.878636",
     "exception": false,
     "start_time": "2022-03-28T09:36:33.829689",
     "status": "completed"
    },
    "tags": []
   },
   "outputs": [],
   "source": [
    "###################################\n",
    "# Build the dataset\n",
    "###################################\n",
    "train_original_source = Iterable_Aggregator(train_original_source, p.seed)\n",
    "val_original_source = Iterable_Aggregator(val_original_source, p.seed)\n",
    "test_original_source = Iterable_Aggregator(test_original_source, p.seed)\n",
    "\n",
    "\n",
    "train_original_target = Iterable_Aggregator(train_original_target, p.seed)\n",
    "val_original_target = Iterable_Aggregator(val_original_target, p.seed)\n",
    "test_original_target = Iterable_Aggregator(test_original_target, p.seed)\n",
    "\n",
    "# For CNN We only use X and Y. And we only train on the source.\n",
    "# Properly form the data using a transform lambda and Lazy_Iterable_Wrapper. Finally wrap them in a dataloader\n",
    "\n",
    "transform_lambda = lambda ex: ex[1] # Original is (<domain>, <episode>) so we strip down to episode only\n",
    "\n",
    "train_processed_source = Lazy_Iterable_Wrapper(train_original_source, transform_lambda)\n",
    "val_processed_source   = Lazy_Iterable_Wrapper(val_original_source, transform_lambda)\n",
    "test_processed_source  = Lazy_Iterable_Wrapper(test_original_source, transform_lambda)\n",
    "\n",
    "train_processed_target = Lazy_Iterable_Wrapper(train_original_target, transform_lambda)\n",
    "val_processed_target   = Lazy_Iterable_Wrapper(val_original_target, transform_lambda)\n",
    "test_processed_target  = Lazy_Iterable_Wrapper(test_original_target, transform_lambda)\n",
    "\n",
    "datasets = EasyDict({\n",
    "    \"source\": {\n",
    "        \"original\": {\"train\":train_original_source, \"val\":val_original_source, \"test\":test_original_source},\n",
    "        \"processed\": {\"train\":train_processed_source, \"val\":val_processed_source, \"test\":test_processed_source}\n",
    "    },\n",
    "    \"target\": {\n",
    "        \"original\": {\"train\":train_original_target, \"val\":val_original_target, \"test\":test_original_target},\n",
    "        \"processed\": {\"train\":train_processed_target, \"val\":val_processed_target, \"test\":test_processed_target}\n",
    "    },\n",
    "})"
   ]
  },
  {
   "cell_type": "code",
   "execution_count": 20,
   "id": "5b3c01fc",
   "metadata": {
    "execution": {
     "iopub.execute_input": "2022-03-28T09:36:33.931623Z",
     "iopub.status.busy": "2022-03-28T09:36:33.931228Z",
     "iopub.status.idle": "2022-03-28T09:36:47.954966Z",
     "shell.execute_reply": "2022-03-28T09:36:47.955687Z"
    },
    "papermill": {
     "duration": 14.048807,
     "end_time": "2022-03-28T09:36:47.955901",
     "exception": false,
     "start_time": "2022-03-28T09:36:33.907094",
     "status": "completed"
    },
    "tags": []
   },
   "outputs": [
    {
     "name": "stdout",
     "output_type": "stream",
     "text": [
      "{'O_14', 'O_20', 'O_8', 'O_32', 'O_44', 'O_26', 'O_50', 'O_38'}\n"
     ]
    },
    {
     "name": "stdout",
     "output_type": "stream",
     "text": [
      "{'C_4', 'C_5', 'C_3', 'C_2', 'C_1'}\n"
     ]
    },
    {
     "name": "stdout",
     "output_type": "stream",
     "text": [
      "tensor([[[0., 0., 0.,  ..., 0., 0., 0.],\n",
      "         [0., 0., 0.,  ..., 0., 0., 0.]],\n",
      "\n",
      "        [[0., 0., 0.,  ..., 0., 0., 0.],\n",
      "         [0., 0., 0.,  ..., 0., 0., 0.]],\n",
      "\n",
      "        [[0., 0., 0.,  ..., 0., 0., 0.],\n",
      "         [0., 0., 0.,  ..., 0., 0., 0.]],\n",
      "\n",
      "        ...,\n",
      "\n",
      "        [[0., 0., 0.,  ..., 0., 0., 0.],\n",
      "         [0., 0., 0.,  ..., 0., 0., 0.]],\n",
      "\n",
      "        [[0., 0., 0.,  ..., 0., 0., 0.],\n",
      "         [0., 0., 0.,  ..., 0., 0., 0.]],\n",
      "\n",
      "        [[0., 0., 0.,  ..., 0., 0., 0.],\n",
      "         [0., 0., 0.,  ..., 0., 0., 0.]]])\n"
     ]
    }
   ],
   "source": [
    "from steves_utils.transforms import get_average_magnitude, get_average_power\n",
    "\n",
    "print(set([u for u,_ in val_original_source]))\n",
    "print(set([u for u,_ in val_original_target]))\n",
    "\n",
    "s_x, s_y, q_x, q_y, _ = next(iter(train_processed_source))\n",
    "print(s_x)\n",
    "\n",
    "# for ds in [\n",
    "#     train_processed_source,\n",
    "#     val_processed_source,\n",
    "#     test_processed_source,\n",
    "#     train_processed_target,\n",
    "#     val_processed_target,\n",
    "#     test_processed_target\n",
    "# ]:\n",
    "#     for s_x, s_y, q_x, q_y, _ in ds:\n",
    "#         for X in (s_x, q_x):\n",
    "#             for x in X:\n",
    "#                 assert np.isclose(get_average_magnitude(x.numpy()), 1.0)\n",
    "#                 assert np.isclose(get_average_power(x.numpy()), 1.0)\n",
    "                "
   ]
  },
  {
   "cell_type": "code",
   "execution_count": 21,
   "id": "bbdacba1",
   "metadata": {
    "execution": {
     "iopub.execute_input": "2022-03-28T09:36:48.011929Z",
     "iopub.status.busy": "2022-03-28T09:36:48.011525Z",
     "iopub.status.idle": "2022-03-28T09:36:48.266435Z",
     "shell.execute_reply": "2022-03-28T09:36:48.265683Z"
    },
    "papermill": {
     "duration": 0.281757,
     "end_time": "2022-03-28T09:36:48.266609",
     "exception": false,
     "start_time": "2022-03-28T09:36:47.984852",
     "status": "completed"
    },
    "tags": []
   },
   "outputs": [
    {
     "name": "stdout",
     "output_type": "stream",
     "text": [
      "(2, 256)\n"
     ]
    }
   ],
   "source": [
    "###################################\n",
    "# Build the model\n",
    "###################################\n",
    "# easfsl only wants a tuple for the shape\n",
    "model = Steves_Prototypical_Network(x_net, device=p.device, x_shape=tuple(p.x_shape))\n",
    "optimizer = Adam(params=model.parameters(), lr=p.lr)"
   ]
  },
  {
   "cell_type": "code",
   "execution_count": 22,
   "id": "22b39ac5",
   "metadata": {
    "execution": {
     "iopub.execute_input": "2022-03-28T09:36:48.324247Z",
     "iopub.status.busy": "2022-03-28T09:36:48.323592Z",
     "iopub.status.idle": "2022-03-28T10:02:30.126703Z",
     "shell.execute_reply": "2022-03-28T10:02:30.126352Z"
    },
    "papermill": {
     "duration": 1541.831968,
     "end_time": "2022-03-28T10:02:30.126790",
     "exception": false,
     "start_time": "2022-03-28T09:36:48.294822",
     "status": "completed"
    },
    "tags": []
   },
   "outputs": [
    {
     "name": "stdout",
     "output_type": "stream",
     "text": [
      "epoch: 1, [batch: 1 / 6720], examples_per_second: 32.6804, train_label_loss: 2.7597, \n"
     ]
    },
    {
     "name": "stdout",
     "output_type": "stream",
     "text": [
      "epoch: 1, [batch: 672 / 6720], examples_per_second: 3778.9285, train_label_loss: 1.1771, \n"
     ]
    },
    {
     "name": "stdout",
     "output_type": "stream",
     "text": [
      "epoch: 1, [batch: 1344 / 6720], examples_per_second: 3813.0710, train_label_loss: 1.0129, \n"
     ]
    },
    {
     "name": "stdout",
     "output_type": "stream",
     "text": [
      "epoch: 1, [batch: 2016 / 6720], examples_per_second: 3851.0657, train_label_loss: 0.9687, \n"
     ]
    },
    {
     "name": "stdout",
     "output_type": "stream",
     "text": [
      "epoch: 1, [batch: 2688 / 6720], examples_per_second: 3821.5688, train_label_loss: 0.8701, \n"
     ]
    },
    {
     "name": "stdout",
     "output_type": "stream",
     "text": [
      "epoch: 1, [batch: 3360 / 6720], examples_per_second: 3854.3784, train_label_loss: 1.1533, \n"
     ]
    },
    {
     "name": "stdout",
     "output_type": "stream",
     "text": [
      "epoch: 1, [batch: 4032 / 6720], examples_per_second: 3901.1366, train_label_loss: 0.8925, \n"
     ]
    },
    {
     "name": "stdout",
     "output_type": "stream",
     "text": [
      "epoch: 1, [batch: 4704 / 6720], examples_per_second: 3941.3117, train_label_loss: 1.4106, \n"
     ]
    },
    {
     "name": "stdout",
     "output_type": "stream",
     "text": [
      "epoch: 1, [batch: 5376 / 6720], examples_per_second: 4142.6687, train_label_loss: 0.4859, \n"
     ]
    },
    {
     "name": "stdout",
     "output_type": "stream",
     "text": [
      "epoch: 1, [batch: 6048 / 6720], examples_per_second: 4459.2954, train_label_loss: 0.7679, \n"
     ]
    },
    {
     "name": "stdout",
     "output_type": "stream",
     "text": [
      "=============================================================\n",
      "epoch: 1, source_val_acc_label: 0.5035, target_val_acc_label: 0.4035, source_val_label_loss: 11.5531, target_val_label_loss: 2273.0852, \n",
      "=============================================================\n"
     ]
    },
    {
     "name": "stdout",
     "output_type": "stream",
     "text": [
      "New best\n"
     ]
    },
    {
     "name": "stdout",
     "output_type": "stream",
     "text": [
      "epoch: 2, [batch: 1 / 6720], examples_per_second: 4.1781, train_label_loss: 25.8144, \n"
     ]
    },
    {
     "name": "stdout",
     "output_type": "stream",
     "text": [
      "epoch: 2, [batch: 672 / 6720], examples_per_second: 3936.4184, train_label_loss: 1.5270, \n"
     ]
    },
    {
     "name": "stdout",
     "output_type": "stream",
     "text": [
      "epoch: 2, [batch: 1344 / 6720], examples_per_second: 3881.2459, train_label_loss: 0.8969, \n"
     ]
    },
    {
     "name": "stdout",
     "output_type": "stream",
     "text": [
      "epoch: 2, [batch: 2016 / 6720], examples_per_second: 3835.7724, train_label_loss: 0.6387, \n"
     ]
    },
    {
     "name": "stdout",
     "output_type": "stream",
     "text": [
      "epoch: 2, [batch: 2688 / 6720], examples_per_second: 3834.2367, train_label_loss: 0.6748, \n"
     ]
    },
    {
     "name": "stdout",
     "output_type": "stream",
     "text": [
      "epoch: 2, [batch: 3360 / 6720], examples_per_second: 3972.7133, train_label_loss: 0.5648, \n"
     ]
    },
    {
     "name": "stdout",
     "output_type": "stream",
     "text": [
      "epoch: 2, [batch: 4032 / 6720], examples_per_second: 3904.0524, train_label_loss: 0.5826, \n"
     ]
    },
    {
     "name": "stdout",
     "output_type": "stream",
     "text": [
      "epoch: 2, [batch: 4704 / 6720], examples_per_second: 3934.5449, train_label_loss: 0.8423, \n"
     ]
    },
    {
     "name": "stdout",
     "output_type": "stream",
     "text": [
      "epoch: 2, [batch: 5376 / 6720], examples_per_second: 4106.2326, train_label_loss: 0.8686, \n"
     ]
    },
    {
     "name": "stdout",
     "output_type": "stream",
     "text": [
      "epoch: 2, [batch: 6048 / 6720], examples_per_second: 4525.4037, train_label_loss: 0.7330, \n"
     ]
    },
    {
     "name": "stdout",
     "output_type": "stream",
     "text": [
      "=============================================================\n",
      "epoch: 2, source_val_acc_label: 0.8029, target_val_acc_label: 0.4801, source_val_label_loss: 0.5586, target_val_label_loss: 1279.5156, \n",
      "=============================================================\n"
     ]
    },
    {
     "name": "stdout",
     "output_type": "stream",
     "text": [
      "New best\n"
     ]
    },
    {
     "name": "stdout",
     "output_type": "stream",
     "text": [
      "epoch: 3, [batch: 1 / 6720], examples_per_second: 4.2873, train_label_loss: 0.5178, \n"
     ]
    },
    {
     "name": "stdout",
     "output_type": "stream",
     "text": [
      "epoch: 3, [batch: 672 / 6720], examples_per_second: 3805.5582, train_label_loss: 0.3015, \n"
     ]
    },
    {
     "name": "stdout",
     "output_type": "stream",
     "text": [
      "epoch: 3, [batch: 1344 / 6720], examples_per_second: 3904.5220, train_label_loss: 0.2999, \n"
     ]
    },
    {
     "name": "stdout",
     "output_type": "stream",
     "text": [
      "epoch: 3, [batch: 2016 / 6720], examples_per_second: 3909.0357, train_label_loss: 0.2614, \n"
     ]
    },
    {
     "name": "stdout",
     "output_type": "stream",
     "text": [
      "epoch: 3, [batch: 2688 / 6720], examples_per_second: 3823.7327, train_label_loss: 0.2720, \n"
     ]
    },
    {
     "name": "stdout",
     "output_type": "stream",
     "text": [
      "epoch: 3, [batch: 3360 / 6720], examples_per_second: 3806.8088, train_label_loss: 0.5007, \n"
     ]
    },
    {
     "name": "stdout",
     "output_type": "stream",
     "text": [
      "epoch: 3, [batch: 4032 / 6720], examples_per_second: 3797.1203, train_label_loss: 0.6131, \n"
     ]
    },
    {
     "name": "stdout",
     "output_type": "stream",
     "text": [
      "epoch: 3, [batch: 4704 / 6720], examples_per_second: 3827.1867, train_label_loss: 0.4430, \n"
     ]
    },
    {
     "name": "stdout",
     "output_type": "stream",
     "text": [
      "epoch: 3, [batch: 5376 / 6720], examples_per_second: 4169.3324, train_label_loss: 0.2888, \n"
     ]
    },
    {
     "name": "stdout",
     "output_type": "stream",
     "text": [
      "epoch: 3, [batch: 6048 / 6720], examples_per_second: 4264.1997, train_label_loss: 0.1910, \n"
     ]
    },
    {
     "name": "stdout",
     "output_type": "stream",
     "text": [
      "=============================================================\n",
      "epoch: 3, source_val_acc_label: 0.8502, target_val_acc_label: 0.5451, source_val_label_loss: 0.4147, target_val_label_loss: 805.7278, \n",
      "=============================================================\n"
     ]
    },
    {
     "name": "stdout",
     "output_type": "stream",
     "text": [
      "New best\n"
     ]
    },
    {
     "name": "stdout",
     "output_type": "stream",
     "text": [
      "epoch: 4, [batch: 1 / 6720], examples_per_second: 4.1942, train_label_loss: 0.2283, \n"
     ]
    },
    {
     "name": "stdout",
     "output_type": "stream",
     "text": [
      "epoch: 4, [batch: 672 / 6720], examples_per_second: 3867.8152, train_label_loss: 0.2842, \n"
     ]
    },
    {
     "name": "stdout",
     "output_type": "stream",
     "text": [
      "epoch: 4, [batch: 1344 / 6720], examples_per_second: 3877.7186, train_label_loss: 0.4770, \n"
     ]
    },
    {
     "name": "stdout",
     "output_type": "stream",
     "text": [
      "epoch: 4, [batch: 2016 / 6720], examples_per_second: 3924.0984, train_label_loss: 0.3783, \n"
     ]
    },
    {
     "name": "stdout",
     "output_type": "stream",
     "text": [
      "epoch: 4, [batch: 2688 / 6720], examples_per_second: 3928.8377, train_label_loss: 0.4238, \n"
     ]
    },
    {
     "name": "stdout",
     "output_type": "stream",
     "text": [
      "epoch: 4, [batch: 3360 / 6720], examples_per_second: 3983.9107, train_label_loss: 0.2971, \n"
     ]
    },
    {
     "name": "stdout",
     "output_type": "stream",
     "text": [
      "epoch: 4, [batch: 4032 / 6720], examples_per_second: 3864.5138, train_label_loss: 0.3827, \n"
     ]
    },
    {
     "name": "stdout",
     "output_type": "stream",
     "text": [
      "epoch: 4, [batch: 4704 / 6720], examples_per_second: 3794.2446, train_label_loss: 0.2630, \n"
     ]
    },
    {
     "name": "stdout",
     "output_type": "stream",
     "text": [
      "epoch: 4, [batch: 5376 / 6720], examples_per_second: 3972.2502, train_label_loss: 0.3106, \n"
     ]
    },
    {
     "name": "stdout",
     "output_type": "stream",
     "text": [
      "epoch: 4, [batch: 6048 / 6720], examples_per_second: 4235.3497, train_label_loss: 0.2248, \n"
     ]
    },
    {
     "name": "stdout",
     "output_type": "stream",
     "text": [
      "=============================================================\n",
      "epoch: 4, source_val_acc_label: 0.8682, target_val_acc_label: 0.6078, source_val_label_loss: 0.3655, target_val_label_loss: 407.8715, \n",
      "=============================================================\n"
     ]
    },
    {
     "name": "stdout",
     "output_type": "stream",
     "text": [
      "New best\n"
     ]
    },
    {
     "name": "stdout",
     "output_type": "stream",
     "text": [
      "epoch: 5, [batch: 1 / 6720], examples_per_second: 4.0971, train_label_loss: 0.3627, \n"
     ]
    },
    {
     "name": "stdout",
     "output_type": "stream",
     "text": [
      "epoch: 5, [batch: 672 / 6720], examples_per_second: 3873.7241, train_label_loss: 0.1834, \n"
     ]
    },
    {
     "name": "stdout",
     "output_type": "stream",
     "text": [
      "epoch: 5, [batch: 1344 / 6720], examples_per_second: 4033.0491, train_label_loss: 0.6376, \n"
     ]
    },
    {
     "name": "stdout",
     "output_type": "stream",
     "text": [
      "epoch: 5, [batch: 2016 / 6720], examples_per_second: 4012.0076, train_label_loss: 0.5162, \n"
     ]
    },
    {
     "name": "stdout",
     "output_type": "stream",
     "text": [
      "epoch: 5, [batch: 2688 / 6720], examples_per_second: 3995.1717, train_label_loss: 0.2959, \n"
     ]
    },
    {
     "name": "stdout",
     "output_type": "stream",
     "text": [
      "epoch: 5, [batch: 3360 / 6720], examples_per_second: 3979.3476, train_label_loss: 0.5845, \n"
     ]
    },
    {
     "name": "stdout",
     "output_type": "stream",
     "text": [
      "epoch: 5, [batch: 4032 / 6720], examples_per_second: 3954.4713, train_label_loss: 0.3693, \n"
     ]
    },
    {
     "name": "stdout",
     "output_type": "stream",
     "text": [
      "epoch: 5, [batch: 4704 / 6720], examples_per_second: 3891.3888, train_label_loss: 0.2035, \n"
     ]
    },
    {
     "name": "stdout",
     "output_type": "stream",
     "text": [
      "epoch: 5, [batch: 5376 / 6720], examples_per_second: 4128.4553, train_label_loss: 0.4627, \n"
     ]
    },
    {
     "name": "stdout",
     "output_type": "stream",
     "text": [
      "epoch: 5, [batch: 6048 / 6720], examples_per_second: 4424.0784, train_label_loss: 0.4212, \n"
     ]
    },
    {
     "name": "stdout",
     "output_type": "stream",
     "text": [
      "=============================================================\n",
      "epoch: 5, source_val_acc_label: 0.8664, target_val_acc_label: 0.5940, source_val_label_loss: 0.3621, target_val_label_loss: 455.5791, \n",
      "=============================================================\n"
     ]
    },
    {
     "name": "stdout",
     "output_type": "stream",
     "text": [
      "epoch: 6, [batch: 1 / 6720], examples_per_second: 4.4951, train_label_loss: 0.4073, \n"
     ]
    },
    {
     "name": "stdout",
     "output_type": "stream",
     "text": [
      "epoch: 6, [batch: 672 / 6720], examples_per_second: 4120.1789, train_label_loss: 0.4643, \n"
     ]
    },
    {
     "name": "stdout",
     "output_type": "stream",
     "text": [
      "epoch: 6, [batch: 1344 / 6720], examples_per_second: 4165.6827, train_label_loss: 0.4477, \n"
     ]
    },
    {
     "name": "stdout",
     "output_type": "stream",
     "text": [
      "epoch: 6, [batch: 2016 / 6720], examples_per_second: 4244.2905, train_label_loss: 0.3171, \n"
     ]
    },
    {
     "name": "stdout",
     "output_type": "stream",
     "text": [
      "epoch: 6, [batch: 2688 / 6720], examples_per_second: 4893.0496, train_label_loss: 0.2569, \n"
     ]
    },
    {
     "name": "stdout",
     "output_type": "stream",
     "text": [
      "epoch: 6, [batch: 3360 / 6720], examples_per_second: 4991.2501, train_label_loss: 0.2792, \n"
     ]
    },
    {
     "name": "stdout",
     "output_type": "stream",
     "text": [
      "epoch: 6, [batch: 4032 / 6720], examples_per_second: 4979.7068, train_label_loss: 0.2445, \n"
     ]
    },
    {
     "name": "stdout",
     "output_type": "stream",
     "text": [
      "epoch: 6, [batch: 4704 / 6720], examples_per_second: 4851.7804, train_label_loss: 0.4839, \n"
     ]
    },
    {
     "name": "stdout",
     "output_type": "stream",
     "text": [
      "epoch: 6, [batch: 5376 / 6720], examples_per_second: 5220.1943, train_label_loss: 0.3086, \n"
     ]
    },
    {
     "name": "stdout",
     "output_type": "stream",
     "text": [
      "epoch: 6, [batch: 6048 / 6720], examples_per_second: 5025.3239, train_label_loss: 0.1179, \n"
     ]
    },
    {
     "name": "stdout",
     "output_type": "stream",
     "text": [
      "=============================================================\n",
      "epoch: 6, source_val_acc_label: 0.8826, target_val_acc_label: 0.6362, source_val_label_loss: 0.3302, target_val_label_loss: 559.5749, \n",
      "=============================================================\n"
     ]
    },
    {
     "name": "stdout",
     "output_type": "stream",
     "text": [
      "New best\n"
     ]
    },
    {
     "name": "stdout",
     "output_type": "stream",
     "text": [
      "epoch: 7, [batch: 1 / 6720], examples_per_second: 5.2446, train_label_loss: 0.1048, \n"
     ]
    },
    {
     "name": "stdout",
     "output_type": "stream",
     "text": [
      "epoch: 7, [batch: 672 / 6720], examples_per_second: 4744.8475, train_label_loss: 0.5644, \n"
     ]
    },
    {
     "name": "stdout",
     "output_type": "stream",
     "text": [
      "epoch: 7, [batch: 1344 / 6720], examples_per_second: 4871.5740, train_label_loss: 0.2615, \n"
     ]
    },
    {
     "name": "stdout",
     "output_type": "stream",
     "text": [
      "epoch: 7, [batch: 2016 / 6720], examples_per_second: 5071.6852, train_label_loss: 0.2712, \n"
     ]
    },
    {
     "name": "stdout",
     "output_type": "stream",
     "text": [
      "epoch: 7, [batch: 2688 / 6720], examples_per_second: 4868.0668, train_label_loss: 0.6039, \n"
     ]
    },
    {
     "name": "stdout",
     "output_type": "stream",
     "text": [
      "epoch: 7, [batch: 3360 / 6720], examples_per_second: 4973.6684, train_label_loss: 0.5794, \n"
     ]
    },
    {
     "name": "stdout",
     "output_type": "stream",
     "text": [
      "epoch: 7, [batch: 4032 / 6720], examples_per_second: 5152.8004, train_label_loss: 0.1264, \n"
     ]
    },
    {
     "name": "stdout",
     "output_type": "stream",
     "text": [
      "epoch: 7, [batch: 4704 / 6720], examples_per_second: 5383.6278, train_label_loss: 0.3701, \n"
     ]
    },
    {
     "name": "stdout",
     "output_type": "stream",
     "text": [
      "epoch: 7, [batch: 5376 / 6720], examples_per_second: 5381.0093, train_label_loss: 0.3487, \n"
     ]
    },
    {
     "name": "stdout",
     "output_type": "stream",
     "text": [
      "epoch: 7, [batch: 6048 / 6720], examples_per_second: 5411.6576, train_label_loss: 0.1686, \n"
     ]
    },
    {
     "name": "stdout",
     "output_type": "stream",
     "text": [
      "=============================================================\n",
      "epoch: 7, source_val_acc_label: 0.8743, target_val_acc_label: 0.6286, source_val_label_loss: 0.3413, target_val_label_loss: 426.7429, \n",
      "=============================================================\n"
     ]
    },
    {
     "name": "stdout",
     "output_type": "stream",
     "text": [
      "epoch: 8, [batch: 1 / 6720], examples_per_second: 5.4779, train_label_loss: 0.2709, \n"
     ]
    },
    {
     "name": "stdout",
     "output_type": "stream",
     "text": [
      "epoch: 8, [batch: 672 / 6720], examples_per_second: 4262.5016, train_label_loss: 0.5552, \n"
     ]
    },
    {
     "name": "stdout",
     "output_type": "stream",
     "text": [
      "epoch: 8, [batch: 1344 / 6720], examples_per_second: 3925.4871, train_label_loss: 0.2329, \n"
     ]
    },
    {
     "name": "stdout",
     "output_type": "stream",
     "text": [
      "epoch: 8, [batch: 2016 / 6720], examples_per_second: 3900.5452, train_label_loss: 0.4176, \n"
     ]
    },
    {
     "name": "stdout",
     "output_type": "stream",
     "text": [
      "epoch: 8, [batch: 2688 / 6720], examples_per_second: 3914.3969, train_label_loss: 0.3142, \n"
     ]
    },
    {
     "name": "stdout",
     "output_type": "stream",
     "text": [
      "epoch: 8, [batch: 3360 / 6720], examples_per_second: 3951.8411, train_label_loss: 0.3331, \n"
     ]
    },
    {
     "name": "stdout",
     "output_type": "stream",
     "text": [
      "epoch: 8, [batch: 4032 / 6720], examples_per_second: 3951.1898, train_label_loss: 0.2750, \n"
     ]
    },
    {
     "name": "stdout",
     "output_type": "stream",
     "text": [
      "epoch: 8, [batch: 4704 / 6720], examples_per_second: 3903.7023, train_label_loss: 0.2534, \n"
     ]
    },
    {
     "name": "stdout",
     "output_type": "stream",
     "text": [
      "epoch: 8, [batch: 5376 / 6720], examples_per_second: 3922.2776, train_label_loss: 0.6000, \n"
     ]
    },
    {
     "name": "stdout",
     "output_type": "stream",
     "text": [
      "epoch: 8, [batch: 6048 / 6720], examples_per_second: 3936.6480, train_label_loss: 0.2608, \n"
     ]
    },
    {
     "name": "stdout",
     "output_type": "stream",
     "text": [
      "=============================================================\n",
      "epoch: 8, source_val_acc_label: 0.8768, target_val_acc_label: 0.6282, source_val_label_loss: 0.3397, target_val_label_loss: 409.4281, \n",
      "=============================================================\n"
     ]
    },
    {
     "name": "stdout",
     "output_type": "stream",
     "text": [
      "epoch: 9, [batch: 1 / 6720], examples_per_second: 4.2154, train_label_loss: 0.2039, \n"
     ]
    },
    {
     "name": "stdout",
     "output_type": "stream",
     "text": [
      "epoch: 9, [batch: 672 / 6720], examples_per_second: 4118.6586, train_label_loss: 0.4279, \n"
     ]
    },
    {
     "name": "stdout",
     "output_type": "stream",
     "text": [
      "epoch: 9, [batch: 1344 / 6720], examples_per_second: 3901.8472, train_label_loss: 0.4474, \n"
     ]
    },
    {
     "name": "stdout",
     "output_type": "stream",
     "text": [
      "epoch: 9, [batch: 2016 / 6720], examples_per_second: 3960.8780, train_label_loss: 0.3937, \n"
     ]
    },
    {
     "name": "stdout",
     "output_type": "stream",
     "text": [
      "epoch: 9, [batch: 2688 / 6720], examples_per_second: 3826.2195, train_label_loss: 0.3088, \n"
     ]
    },
    {
     "name": "stdout",
     "output_type": "stream",
     "text": [
      "epoch: 9, [batch: 3360 / 6720], examples_per_second: 3858.1890, train_label_loss: 0.6027, \n"
     ]
    },
    {
     "name": "stdout",
     "output_type": "stream",
     "text": [
      "epoch: 9, [batch: 4032 / 6720], examples_per_second: 3945.3598, train_label_loss: 0.3316, \n"
     ]
    },
    {
     "name": "stdout",
     "output_type": "stream",
     "text": [
      "epoch: 9, [batch: 4704 / 6720], examples_per_second: 3941.1542, train_label_loss: 0.2759, \n"
     ]
    },
    {
     "name": "stdout",
     "output_type": "stream",
     "text": [
      "epoch: 9, [batch: 5376 / 6720], examples_per_second: 3906.0827, train_label_loss: 0.4441, \n"
     ]
    },
    {
     "name": "stdout",
     "output_type": "stream",
     "text": [
      "epoch: 9, [batch: 6048 / 6720], examples_per_second: 3891.9764, train_label_loss: 0.1935, \n"
     ]
    },
    {
     "name": "stdout",
     "output_type": "stream",
     "text": [
      "=============================================================\n",
      "epoch: 9, source_val_acc_label: 0.8850, target_val_acc_label: 0.6107, source_val_label_loss: 0.3280, target_val_label_loss: 602.5980, \n",
      "=============================================================\n"
     ]
    },
    {
     "name": "stdout",
     "output_type": "stream",
     "text": [
      "epoch: 10, [batch: 1 / 6720], examples_per_second: 4.1700, train_label_loss: 0.2772, \n"
     ]
    },
    {
     "name": "stdout",
     "output_type": "stream",
     "text": [
      "epoch: 10, [batch: 672 / 6720], examples_per_second: 4006.4631, train_label_loss: 0.3887, \n"
     ]
    },
    {
     "name": "stdout",
     "output_type": "stream",
     "text": [
      "epoch: 10, [batch: 1344 / 6720], examples_per_second: 3893.4696, train_label_loss: 0.1413, \n"
     ]
    },
    {
     "name": "stdout",
     "output_type": "stream",
     "text": [
      "epoch: 10, [batch: 2016 / 6720], examples_per_second: 3890.4107, train_label_loss: 0.1330, \n"
     ]
    },
    {
     "name": "stdout",
     "output_type": "stream",
     "text": [
      "epoch: 10, [batch: 2688 / 6720], examples_per_second: 3839.7000, train_label_loss: 0.2740, \n"
     ]
    },
    {
     "name": "stdout",
     "output_type": "stream",
     "text": [
      "epoch: 10, [batch: 3360 / 6720], examples_per_second: 3834.9201, train_label_loss: 0.5333, \n"
     ]
    },
    {
     "name": "stdout",
     "output_type": "stream",
     "text": [
      "epoch: 10, [batch: 4032 / 6720], examples_per_second: 3795.1763, train_label_loss: 0.2976, \n"
     ]
    },
    {
     "name": "stdout",
     "output_type": "stream",
     "text": [
      "epoch: 10, [batch: 4704 / 6720], examples_per_second: 3893.0451, train_label_loss: 0.3267, \n"
     ]
    },
    {
     "name": "stdout",
     "output_type": "stream",
     "text": [
      "epoch: 10, [batch: 5376 / 6720], examples_per_second: 3958.3486, train_label_loss: 0.3173, \n"
     ]
    },
    {
     "name": "stdout",
     "output_type": "stream",
     "text": [
      "epoch: 10, [batch: 6048 / 6720], examples_per_second: 3844.2316, train_label_loss: 0.3212, \n"
     ]
    },
    {
     "name": "stdout",
     "output_type": "stream",
     "text": [
      "=============================================================\n",
      "epoch: 10, source_val_acc_label: 0.8781, target_val_acc_label: 0.6018, source_val_label_loss: 0.3342, target_val_label_loss: 800.7226, \n",
      "=============================================================\n"
     ]
    },
    {
     "name": "stdout",
     "output_type": "stream",
     "text": [
      "Patience (3) exhausted\n"
     ]
    }
   ],
   "source": [
    "###################################\n",
    "# train\n",
    "###################################\n",
    "jig = PTN_Train_Eval_Test_Jig(model, p.BEST_MODEL_PATH, p.device)\n",
    "\n",
    "jig.train(\n",
    "    train_iterable=datasets.source.processed.train,\n",
    "    source_val_iterable=datasets.source.processed.val,\n",
    "    target_val_iterable=datasets.target.processed.val,\n",
    "    num_epochs=p.n_epoch,\n",
    "    num_logs_per_epoch=p.NUM_LOGS_PER_EPOCH,\n",
    "    patience=p.patience,\n",
    "    optimizer=optimizer,\n",
    "    criteria_for_best=p.criteria_for_best,\n",
    ")"
   ]
  },
  {
   "cell_type": "code",
   "execution_count": 23,
   "id": "31e8fabf",
   "metadata": {
    "execution": {
     "iopub.execute_input": "2022-03-28T10:02:30.240115Z",
     "iopub.status.busy": "2022-03-28T10:02:30.239552Z",
     "iopub.status.idle": "2022-03-28T10:02:30.273945Z",
     "shell.execute_reply": "2022-03-28T10:02:30.273229Z"
    },
    "papermill": {
     "duration": 0.093591,
     "end_time": "2022-03-28T10:02:30.274099",
     "exception": false,
     "start_time": "2022-03-28T10:02:30.180508",
     "status": "completed"
    },
    "tags": []
   },
   "outputs": [],
   "source": [
    "total_experiment_time_secs = time.time() - start_time_secs"
   ]
  },
  {
   "cell_type": "code",
   "execution_count": 24,
   "id": "87b9595b",
   "metadata": {
    "execution": {
     "iopub.execute_input": "2022-03-28T10:02:30.444370Z",
     "iopub.status.busy": "2022-03-28T10:02:30.443962Z",
     "iopub.status.idle": "2022-03-28T10:05:14.040772Z",
     "shell.execute_reply": "2022-03-28T10:05:14.040016Z"
    },
    "papermill": {
     "duration": 163.708689,
     "end_time": "2022-03-28T10:05:14.040962",
     "exception": false,
     "start_time": "2022-03-28T10:02:30.332273",
     "status": "completed"
    },
    "tags": []
   },
   "outputs": [],
   "source": [
    "###################################\n",
    "# Evaluate the model\n",
    "###################################\n",
    "source_test_label_accuracy, source_test_label_loss = jig.test(datasets.source.processed.test)\n",
    "target_test_label_accuracy, target_test_label_loss = jig.test(datasets.target.processed.test)\n",
    "\n",
    "source_val_label_accuracy, source_val_label_loss = jig.test(datasets.source.processed.val)\n",
    "target_val_label_accuracy, target_val_label_loss = jig.test(datasets.target.processed.val)\n",
    "\n",
    "history = jig.get_history()\n",
    "\n",
    "total_epochs_trained = len(history[\"epoch_indices\"])\n",
    "\n",
    "val_dl = Iterable_Aggregator((datasets.source.original.val,datasets.target.original.val))\n",
    "\n",
    "confusion = ptn_confusion_by_domain_over_dataloader(model, p.device, val_dl)\n",
    "per_domain_accuracy = per_domain_accuracy_from_confusion(confusion)\n",
    "\n",
    "# Add a key to per_domain_accuracy for if it was a source domain\n",
    "for domain, accuracy in per_domain_accuracy.items():\n",
    "    per_domain_accuracy[domain] = {\n",
    "        \"accuracy\": accuracy,\n",
    "        \"source?\": domain in p.domains_source\n",
    "    }\n",
    "\n",
    "# Do an independent accuracy assesment JUST TO BE SURE!\n",
    "# _source_test_label_accuracy = independent_accuracy_assesment(model, datasets.source.processed.test, p.device)\n",
    "# _target_test_label_accuracy = independent_accuracy_assesment(model, datasets.target.processed.test, p.device)\n",
    "# _source_val_label_accuracy = independent_accuracy_assesment(model, datasets.source.processed.val, p.device)\n",
    "# _target_val_label_accuracy = independent_accuracy_assesment(model, datasets.target.processed.val, p.device)\n",
    "\n",
    "# assert(_source_test_label_accuracy == source_test_label_accuracy)\n",
    "# assert(_target_test_label_accuracy == target_test_label_accuracy)\n",
    "# assert(_source_val_label_accuracy == source_val_label_accuracy)\n",
    "# assert(_target_val_label_accuracy == target_val_label_accuracy)\n",
    "\n",
    "experiment = {\n",
    "    \"experiment_name\": p.experiment_name,\n",
    "    \"parameters\": dict(p),\n",
    "    \"results\": {\n",
    "        \"source_test_label_accuracy\": source_test_label_accuracy,\n",
    "        \"source_test_label_loss\": source_test_label_loss,\n",
    "        \"target_test_label_accuracy\": target_test_label_accuracy,\n",
    "        \"target_test_label_loss\": target_test_label_loss,\n",
    "        \"source_val_label_accuracy\": source_val_label_accuracy,\n",
    "        \"source_val_label_loss\": source_val_label_loss,\n",
    "        \"target_val_label_accuracy\": target_val_label_accuracy,\n",
    "        \"target_val_label_loss\": target_val_label_loss,\n",
    "        \"total_epochs_trained\": total_epochs_trained,\n",
    "        \"total_experiment_time_secs\": total_experiment_time_secs,\n",
    "        \"confusion\": confusion,\n",
    "        \"per_domain_accuracy\": per_domain_accuracy,\n",
    "    },\n",
    "    \"history\": history,\n",
    "    \"dataset_metrics\": get_dataset_metrics(datasets, \"ptn\"),\n",
    "}"
   ]
  },
  {
   "cell_type": "code",
   "execution_count": 25,
   "id": "54a21829",
   "metadata": {
    "execution": {
     "iopub.execute_input": "2022-03-28T10:05:14.159927Z",
     "iopub.status.busy": "2022-03-28T10:05:14.159538Z",
     "iopub.status.idle": "2022-03-28T10:05:14.369180Z",
     "shell.execute_reply": "2022-03-28T10:05:14.368466Z"
    },
    "papermill": {
     "duration": 0.267678,
     "end_time": "2022-03-28T10:05:14.369358",
     "exception": false,
     "start_time": "2022-03-28T10:05:14.101680",
     "status": "completed"
    },
    "tags": []
   },
   "outputs": [
    {
     "data": {
      "image/png": "[encoded data removed]",
      "text/plain": [
       "<Figure size 1080x504 with 1 Axes>"
      ]
     },
     "metadata": {
      "needs_background": "light"
     },
     "output_type": "display_data"
    }
   ],
   "source": [
    "ax = get_loss_curve(experiment)\n",
    "plt.show()"
   ]
  },
  {
   "cell_type": "code",
   "execution_count": 26,
   "id": "fd8a0f60",
   "metadata": {
    "execution": {
     "iopub.execute_input": "2022-03-28T10:05:14.490330Z",
     "iopub.status.busy": "2022-03-28T10:05:14.489947Z",
     "iopub.status.idle": "2022-03-28T10:05:14.863468Z",
     "shell.execute_reply": "2022-03-28T10:05:14.863807Z"
    },
    "papermill": {
     "duration": 0.432978,
     "end_time": "2022-03-28T10:05:14.863926",
     "exception": false,
     "start_time": "2022-03-28T10:05:14.430948",
     "status": "completed"
    },
    "tags": []
   },
   "outputs": [
    {
     "data": {
      "text/plain": [
       "<AxesSubplot:title={'center':'Results'}>"
      ]
     },
     "execution_count": 26,
     "metadata": {},
     "output_type": "execute_result"
    },
    {
     "data": {
      "image/png": "[encoded data removed]",
      "text/plain": [
       "<Figure size 1080x504 with 1 Axes>"
      ]
     },
     "metadata": {
      "needs_background": "light"
     },
     "output_type": "display_data"
    }
   ],
   "source": [
    "get_results_table(experiment)"
   ]
  },
  {
   "cell_type": "code",
   "execution_count": 27,
   "id": "cf8dc689",
   "metadata": {
    "execution": {
     "iopub.execute_input": "2022-03-28T10:05:14.983145Z",
     "iopub.status.busy": "2022-03-28T10:05:14.982766Z",
     "iopub.status.idle": "2022-03-28T10:05:15.221100Z",
     "shell.execute_reply": "2022-03-28T10:05:15.221434Z"
    },
    "papermill": {
     "duration": 0.299793,
     "end_time": "2022-03-28T10:05:15.221574",
     "exception": false,
     "start_time": "2022-03-28T10:05:14.921781",
     "status": "completed"
    },
    "tags": []
   },
   "outputs": [
    {
     "data": {
      "text/plain": [
       "<AxesSubplot:title={'center':'Per Domain Validation Accuracy'}, xlabel='domain'>"
      ]
     },
     "execution_count": 27,
     "metadata": {},
     "output_type": "execute_result"
    },
    {
     "data": {
      "image/png": "[encoded data removed]",
      "text/plain": [
       "<Figure size 1080x504 with 1 Axes>"
      ]
     },
     "metadata": {
      "needs_background": "light"
     },
     "output_type": "display_data"
    }
   ],
   "source": [
    "get_domain_accuracies(experiment)"
   ]
  },
  {
   "cell_type": "code",
   "execution_count": 28,
   "id": "a74ae082",
   "metadata": {
    "execution": {
     "iopub.execute_input": "2022-03-28T10:05:15.345689Z",
     "iopub.status.busy": "2022-03-28T10:05:15.345260Z",
     "iopub.status.idle": "2022-03-28T10:05:15.372413Z",
     "shell.execute_reply": "2022-03-28T10:05:15.373110Z"
    },
    "papermill": {
     "duration": 0.091749,
     "end_time": "2022-03-28T10:05:15.373307",
     "exception": false,
     "start_time": "2022-03-28T10:05:15.281558",
     "status": "completed"
    },
    "tags": []
   },
   "outputs": [
    {
     "name": "stdout",
     "output_type": "stream",
     "text": [
      "Source Test Label Accuracy: 0.8848307291666667 Target Test Label Accuracy: 0.6414141414141414\n",
      "Source Val Label Accuracy: 0.8826171875 Target Val Label Accuracy: 0.6361658105022832\n"
     ]
    }
   ],
   "source": [
    "print(\"Source Test Label Accuracy:\", experiment[\"results\"][\"source_test_label_accuracy\"], \"Target Test Label Accuracy:\", experiment[\"results\"][\"target_test_label_accuracy\"])\n",
    "print(\"Source Val Label Accuracy:\", experiment[\"results\"][\"source_val_label_accuracy\"], \"Target Val Label Accuracy:\", experiment[\"results\"][\"target_val_label_accuracy\"])"
   ]
  },
  {
   "cell_type": "code",
   "execution_count": 29,
   "id": "dacca602",
   "metadata": {
    "execution": {
     "iopub.execute_input": "2022-03-28T10:05:15.500433Z",
     "iopub.status.busy": "2022-03-28T10:05:15.500048Z",
     "iopub.status.idle": "2022-03-28T10:05:15.527779Z",
     "shell.execute_reply": "2022-03-28T10:05:15.528471Z"
    },
    "papermill": {
     "duration": 0.091721,
     "end_time": "2022-03-28T10:05:15.528705",
     "exception": false,
     "start_time": "2022-03-28T10:05:15.436984",
     "status": "completed"
    },
    "tags": [
     "experiment_json"
    ]
   },
   "outputs": [
    {
     "data": {
      "text/plain": [
       "'{\"experiment_name\": \"tl_3-jitter10v2:oracle.run1.framed -> cores\", \"parameters\": {\"experiment_name\": \"tl_3-jitter10v2:oracle.run1.framed -> cores\", \"device\": \"cuda\", \"lr\": 0.0001, \"x_shape\": [2, 256], \"n_shot\": 3, \"n_query\": 2, \"train_k_factor\": 3, \"val_k_factor\": 2, \"test_k_factor\": 2, \"torch_default_dtype\": \"torch.float32\", \"n_epoch\": 50, \"patience\": 3, \"criteria_for_best\": \"target_accuracy\", \"x_net\": [{\"class\": \"nnReshape\", \"kargs\": {\"shape\": [-1, 1, 2, 256]}}, {\"class\": \"Conv2d\", \"kargs\": {\"in_channels\": 1, \"out_channels\": 256, \"kernel_size\": [1, 7], \"bias\": false, \"padding\": [0, 3]}}, {\"class\": \"ReLU\", \"kargs\": {\"inplace\": true}}, {\"class\": \"BatchNorm2d\", \"kargs\": {\"num_features\": 256}}, {\"class\": \"Conv2d\", \"kargs\": {\"in_channels\": 256, \"out_channels\": 80, \"kernel_size\": [2, 7], \"bias\": true, \"padding\": [0, 3]}}, {\"class\": \"ReLU\", \"kargs\": {\"inplace\": true}}, {\"class\": \"BatchNorm2d\", \"kargs\": {\"num_features\": 80}}, {\"class\": \"Flatten\", \"kargs\": {}}, {\"class\": \"Linear\", \"kargs\": {\"in_features\": 20480, \"out_features\": 256}}, {\"class\": \"ReLU\", \"kargs\": {\"inplace\": true}}, {\"class\": \"BatchNorm1d\", \"kargs\": {\"num_features\": 256}}, {\"class\": \"Linear\", \"kargs\": {\"in_features\": 256, \"out_features\": 256}}], \"NUM_LOGS_PER_EPOCH\": 10, \"BEST_MODEL_PATH\": \"./best_model.pth\", \"n_way\": 16, \"datasets\": [{\"labels\": [\"1-10.\", \"1-11.\", \"1-15.\", \"1-16.\", \"1-17.\", \"1-18.\", \"1-19.\", \"10-4.\", \"10-7.\", \"11-1.\", \"11-14.\", \"11-17.\", \"11-20.\", \"11-7.\", \"13-20.\", \"13-8.\", \"14-10.\", \"14-11.\", \"14-14.\", \"14-7.\", \"15-1.\", \"15-20.\", \"16-1.\", \"16-16.\", \"17-10.\", \"17-11.\", \"17-2.\", \"19-1.\", \"19-16.\", \"19-19.\", \"19-20.\", \"19-3.\", \"2-10.\", \"2-11.\", \"2-17.\", \"2-18.\", \"2-20.\", \"2-3.\", \"2-4.\", \"2-5.\", \"2-6.\", \"2-7.\", \"2-8.\", \"3-13.\", \"3-18.\", \"3-3.\", \"4-1.\", \"4-10.\", \"4-11.\", \"4-19.\", \"5-5.\", \"6-15.\", \"7-10.\", \"7-14.\", \"8-18.\", \"8-20.\", \"8-3.\", \"8-8.\"], \"domains\": [1, 2, 3, 4, 5], \"num_examples_per_domain_per_label\": -1, \"pickle_path\": \"/root/csc500-main/datasets/cores.stratified_ds.2022A.pkl\", \"source_or_target_dataset\": \"target\", \"x_transforms\": [\"jitter_256_10\", \"lowpass_+/-10MHz\", \"take_200\"], \"episode_transforms\": [], \"domain_prefix\": \"C_\"}, {\"labels\": [\"3123D52\", \"3123D65\", \"3123D79\", \"3123D80\", \"3123D54\", \"3123D70\", \"3123D7B\", \"3123D89\", \"3123D58\", \"3123D76\", \"3123D7D\", \"3123EFE\", \"3123D64\", \"3123D78\", \"3123D7E\", \"3124E4A\"], \"domains\": [32, 38, 8, 44, 14, 50, 20, 26], \"num_examples_per_domain_per_label\": 2000, \"pickle_path\": \"/root/csc500-main/datasets/oracle.Run1_framed_2000Examples_stratified_ds.2022A.pkl\", \"source_or_target_dataset\": \"source\", \"x_transforms\": [\"jitter_256_10\", \"take_200\", \"resample_20Msps_to_25Msps\"], \"episode_transforms\": [], \"domain_prefix\": \"O_\"}], \"seed\": 1337, \"dataset_seed\": 1337, \"domains_source\": [\"O_32\", \"O_38\", \"O_8\", \"O_44\", \"O_14\", \"O_50\", \"O_20\", \"O_26\"], \"domains_target\": [\"C_1\", \"C_2\", \"C_3\", \"C_4\", \"C_5\"]}, \"results\": {\"source_test_label_accuracy\": 0.8848307291666667, \"source_test_label_loss\": 0.3310622274875641, \"target_test_label_accuracy\": 0.6414141414141414, \"target_test_label_loss\": 585.0182495117188, \"source_val_label_accuracy\": 0.8826171875, \"source_val_label_loss\": 0.3301791250705719, \"target_val_label_accuracy\": 0.6361658105022832, \"target_val_label_loss\": 559.5748901367188, \"total_epochs_trained\": 10, \"total_experiment_time_secs\": 1622.6803781986237, \"confusion\": {\"O_14\": {\"15\": {\"15\": 240}, \"3\": {\"3\": 239, \"13\": 1}, \"6\": {\"13\": 59, \"6\": 150, \"2\": 9, \"14\": 22}, \"1\": {\"1\": 240}, \"8\": {\"8\": 240}, \"10\": {\"10\": 240}, \"9\": {\"9\": 240}, \"13\": {\"14\": 79, \"13\": 53, \"2\": 16, \"15\": 17, \"6\": 75}, \"12\": {\"12\": 240}, \"5\": {\"5\": 219, \"2\": 14, \"4\": 5, \"3\": 2}, \"0\": {\"0\": 235, \"10\": 2, \"3\": 3}, \"2\": {\"5\": 28, \"6\": 14, \"2\": 145, \"4\": 5, \"14\": 31, \"13\": 14, \"3\": 3}, \"11\": {\"11\": 240}, \"14\": {\"14\": 192, \"2\": 6, \"13\": 33, \"6\": 6, \"3\": 3}, \"7\": {\"7\": 240}, \"4\": {\"4\": 234, \"5\": 6}}, \"O_20\": {\"3\": {\"5\": 27, \"3\": 184, \"9\": 10, \"0\": 3, \"8\": 13, \"1\": 3}, \"15\": {\"15\": 209, \"12\": 22, \"13\": 2, \"1\": 5, \"2\": 2}, \"8\": {\"8\": 226, \"3\": 7, \"14\": 6, \"0\": 1}, \"4\": {\"4\": 234, \"12\": 5, \"2\": 1}, \"14\": {\"14\": 238, \"8\": 2}, \"0\": {\"0\": 236, \"3\": 3, \"8\": 1}, \"7\": {\"7\": 216, \"2\": 5, \"9\": 19}, \"6\": {\"6\": 240}, \"10\": {\"10\": 240}, \"5\": {\"1\": 27, \"5\": 196, \"3\": 16, \"9\": 1}, \"2\": {\"2\": 200, \"12\": 30, \"15\": 2, \"7\": 6, \"13\": 1, \"9\": 1}, \"12\": {\"12\": 220, \"2\": 13, \"15\": 7}, \"9\": {\"9\": 223, \"5\": 1, \"1\": 4, \"7\": 8, \"3\": 4}, \"1\": {\"1\": 210, \"5\": 26, \"9\": 4}, \"11\": {\"11\": 240}, \"13\": {\"13\": 239, \"12\": 1}}, \"O_38\": {\"5\": {\"8\": 92, \"7\": 15, \"5\": 110, \"13\": 2, \"15\": 9, \"9\": 11, \"0\": 1}, \"8\": {\"8\": 135, \"5\": 67, \"0\": 4, \"15\": 12, \"13\": 2, \"7\": 19, \"12\": 1}, \"11\": {\"11\": 240}, \"1\": {\"1\": 240}, \"10\": {\"10\": 221, \"0\": 11, \"13\": 8}, \"15\": {\"15\": 223, \"8\": 6, \"5\": 6, \"1\": 5}, \"3\": {\"3\": 240}, \"7\": {\"7\": 229, \"5\": 4, \"8\": 2, \"0\": 5}, \"4\": {\"4\": 238, \"10\": 2}, \"14\": {\"14\": 222, \"2\": 18}, \"9\": {\"9\": 236, \"8\": 1, \"5\": 3}, \"12\": {\"12\": 240}, \"6\": {\"6\": 240}, \"2\": {\"2\": 232, \"14\": 8}, \"0\": {\"7\": 25, \"0\": 166, \"13\": 10, \"3\": 16, \"10\": 21, \"5\": 2}, \"13\": {\"13\": 226, \"10\": 9, \"0\": 1, \"2\": 4}}, \"O_8\": {\"9\": {\"9\": 240}, \"10\": {\"5\": 3, \"10\": 217, \"13\": 18, \"4\": 2}, \"13\": {\"13\": 188, \"10\": 40, \"6\": 7, \"7\": 5}, \"0\": {\"0\": 240}, \"1\": {\"11\": 49, \"1\": 186, \"4\": 2, \"5\": 3}, \"15\": {\"15\": 221, \"12\": 19}, \"5\": {\"5\": 209, \"1\": 10, \"10\": 16, \"11\": 4, \"14\": 1}, \"3\": {\"3\": 240}, \"6\": {\"13\": 5, \"6\": 215, \"7\": 19, \"4\": 1}, \"11\": {\"11\": 137, \"1\": 95, \"5\": 6, \"14\": 2}, \"8\": {\"8\": 240}, \"4\": {\"4\": 240}, \"12\": {\"12\": 202, \"15\": 38}, \"14\": {\"14\": 227, \"4\": 9, \"11\": 4}, \"2\": {\"2\": 192, \"3\": 42, \"12\": 6}, \"7\": {\"7\": 218, \"6\": 20, \"13\": 2}}, \"O_50\": {\"7\": {\"7\": 226, \"5\": 9, \"4\": 5}, \"3\": {\"3\": 240}, \"8\": {\"8\": 239, \"10\": 1}, \"2\": {\"2\": 224, \"0\": 16}, \"14\": {\"14\": 240}, \"4\": {\"4\": 212, \"7\": 11, \"5\": 12, \"6\": 5}, \"6\": {\"6\": 196, \"15\": 9, \"5\": 35}, \"15\": {\"15\": 225, \"11\": 3, \"6\": 11, \"9\": 1}, \"10\": {\"10\": 238, \"0\": 2}, \"11\": {\"11\": 222, \"9\": 9, \"15\": 2, \"12\": 7}, \"13\": {\"13\": 240}, \"9\": {\"11\": 21, \"9\": 195, \"12\": 24}, \"0\": {\"0\": 223, \"2\": 16, \"10\": 1}, \"1\": {\"1\": 235, \"13\": 4, \"0\": 1}, \"12\": {\"12\": 225, \"9\": 11, \"11\": 4}, \"5\": {\"5\": 103, \"4\": 12, \"7\": 58, \"6\": 53, \"13\": 9, \"15\": 5}}, \"O_32\": {\"8\": {\"8\": 209, \"14\": 6, \"7\": 2, \"0\": 16, \"5\": 5, \"4\": 2}, \"14\": {\"14\": 161, \"7\": 58, \"2\": 4, \"4\": 2, \"0\": 4, \"5\": 6, \"3\": 2, \"8\": 3}, \"2\": {\"2\": 214, \"4\": 26}, \"0\": {\"5\": 10, \"0\": 178, \"7\": 28, \"14\": 5, \"8\": 19}, \"1\": {\"1\": 240}, \"10\": {\"10\": 240}, \"11\": {\"11\": 240}, \"5\": {\"5\": 129, \"7\": 53, \"14\": 3, \"8\": 31, \"0\": 24}, \"15\": {\"15\": 240}, \"3\": {\"3\": 236, \"13\": 4}, \"12\": {\"12\": 240}, \"7\": {\"5\": 26, \"7\": 176, \"0\": 19, \"14\": 19}, \"13\": {\"13\": 192, \"3\": 25, \"4\": 23}, \"6\": {\"6\": 240}, \"4\": {\"4\": 214, \"2\": 24, \"13\": 2}, \"9\": {\"9\": 233, \"12\": 7}}, \"O_26\": {\"4\": {\"4\": 240}, \"12\": {\"12\": 240}, \"10\": {\"14\": 50, \"10\": 170, \"15\": 2, \"0\": 16, \"6\": 2}, \"0\": {\"0\": 182, \"14\": 17, \"10\": 34, \"1\": 2, \"8\": 4, \"15\": 1}, \"13\": {\"2\": 9, \"13\": 213, \"9\": 18}, \"9\": {\"2\": 17, \"13\": 17, \"9\": 186, \"8\": 18, \"7\": 2}, \"3\": {\"3\": 220, \"7\": 14, \"4\": 1, \"2\": 5}, \"2\": {\"2\": 164, \"7\": 27, \"3\": 26, \"9\": 17, \"14\": 1, \"0\": 2, \"8\": 1, \"15\": 2}, \"5\": {\"5\": 210, \"15\": 30}, \"14\": {\"1\": 4, \"14\": 173, \"0\": 13, \"10\": 50}, \"8\": {\"8\": 197, \"7\": 31, \"9\": 11, \"2\": 1}, \"7\": {\"7\": 200, \"8\": 23, \"2\": 9, \"3\": 7, \"9\": 1}, \"6\": {\"6\": 223, \"10\": 3, \"15\": 13, \"5\": 1}, \"11\": {\"11\": 240}, \"15\": {\"15\": 177, \"6\": 19, \"0\": 1, \"5\": 38, \"14\": 1, \"10\": 3, \"1\": 1}, \"1\": {\"1\": 189, \"14\": 39, \"6\": 4, \"10\": 6, \"15\": 2}}, \"O_44\": {\"12\": {\"12\": 240}, \"7\": {\"7\": 221, \"9\": 17, \"10\": 2}, \"5\": {\"5\": 205, \"15\": 13, \"14\": 14, \"4\": 4, \"8\": 3, \"0\": 1}, \"15\": {\"15\": 216, \"8\": 8, \"14\": 11, \"5\": 4, \"4\": 1}, \"8\": {\"0\": 51, \"8\": 180, \"15\": 4, \"5\": 5}, \"2\": {\"2\": 231, \"1\": 8, \"10\": 1}, \"13\": {\"13\": 198, \"6\": 37, \"9\": 5}, \"4\": {\"4\": 158, \"14\": 81, \"15\": 1}, \"0\": {\"8\": 23, \"0\": 217}, \"6\": {\"6\": 192, \"13\": 35, \"9\": 13}, \"9\": {\"7\": 81, \"9\": 111, \"6\": 27, \"13\": 18, \"4\": 1, \"10\": 1, \"2\": 1}, \"11\": {\"11\": 240}, \"10\": {\"10\": 218, \"2\": 7, \"1\": 10, \"7\": 5}, \"14\": {\"14\": 143, \"4\": 69, \"5\": 13, \"15\": 15}, \"1\": {\"1\": 229, \"2\": 11}, \"3\": {\"3\": 238, \"12\": 2}}, \"C_3\": {\"43\": {\"51\": 11, \"37\": 6, \"7\": 1, \"43\": 46, \"55\": 11, \"24\": 8, \"36\": 5, \"8\": 4, \"27\": 3, \"53\": 5, \"57\": 3, \"17\": 6, \"13\": 4, \"16\": 1, \"15\": 1, \"23\": 6, \"2\": 1, \"11\": 3, \"20\": 1, \"26\": 1, \"48\": 1}, \"9\": {\"8\": 8, \"33\": 2, \"9\": 48, \"39\": 1, \"20\": 6, \"4\": 9, \"14\": 2, \"32\": 1, \"36\": 2, \"27\": 6, \"1\": 9, \"48\": 14, \"29\": 9, \"57\": 16, \"30\": 3, \"40\": 5, \"52\": 2, \"7\": 1, \"55\": 2, \"56\": 2, \"47\": 1, \"17\": 1}, \"6\": {\"6\": 88}, \"3\": {\"3\": 144}, \"16\": {\"16\": 50, \"15\": 15, \"11\": 18, \"53\": 15, \"23\": 12, \"10\": 7, \"25\": 6, \"18\": 2, \"43\": 2, \"37\": 1, \"24\": 1, \"36\": 1, \"55\": 2, \"54\": 2}, \"51\": {\"24\": 1, \"51\": 79, \"37\": 1, \"41\": 1, \"17\": 1, \"7\": 1, \"38\": 1, \"36\": 4, \"2\": 3, \"8\": 4, \"13\": 13, \"27\": 3, \"55\": 2, \"29\": 1, \"20\": 3, \"57\": 4, \"42\": 1, \"48\": 1, \"52\": 2, \"54\": 1, \"23\": 1}, \"31\": {\"24\": 4, \"51\": 1, \"31\": 12, \"23\": 2, \"43\": 2, \"37\": 2, \"7\": 1, \"36\": 1, \"28\": 1, \"11\": 1, \"15\": 1}, \"46\": {\"46\": 133, \"50\": 1}, \"19\": {\"19\": 102, \"54\": 4, \"34\": 1, \"32\": 1, \"15\": 5, \"16\": 2, \"23\": 2, \"11\": 1, \"25\": 3, \"18\": 1, \"55\": 1, \"53\": 1}, \"8\": {\"14\": 1, \"46\": 1, \"8\": 103, \"47\": 1, \"27\": 6, \"57\": 8, \"48\": 10, \"41\": 1, \"20\": 5, \"30\": 2, \"4\": 2, \"13\": 1, \"55\": 1, \"7\": 2, \"36\": 1, \"52\": 4, \"9\": 3}, \"18\": {\"18\": 51, \"28\": 2, \"10\": 2, \"11\": 4, \"15\": 7, \"16\": 9, \"19\": 2, \"25\": 6, \"24\": 1}, \"37\": {\"43\": 5, \"37\": 14, \"24\": 3, \"31\": 1, \"7\": 2, \"23\": 1, \"13\": 1, \"51\": 1}, \"24\": {\"24\": 36, \"36\": 7, \"23\": 5, \"28\": 1, \"49\": 3, \"15\": 2, \"26\": 2, \"55\": 11, \"53\": 3, \"2\": 3, \"43\": 10, \"51\": 9, \"8\": 2, \"13\": 2, \"35\": 2, \"31\": 1, \"37\": 2, \"42\": 1, \"17\": 2}, \"10\": {\"16\": 10, \"18\": 1, \"10\": 21, \"26\": 3, \"31\": 1, \"53\": 6, \"23\": 2, \"24\": 6, \"43\": 2, \"11\": 3, \"15\": 3, \"55\": 2, \"25\": 3, \"37\": 1}, \"44\": {\"6\": 10, \"44\": 45, \"5\": 9, \"0\": 2, \"46\": 4, \"45\": 5, \"30\": 2, \"22\": 3, \"9\": 1, \"3\": 1, \"50\": 1, \"40\": 3, \"1\": 1, \"47\": 1}, \"14\": {\"37\": 1, \"8\": 1, \"36\": 2, \"33\": 5, \"14\": 13, \"32\": 3, \"4\": 1, \"48\": 1, \"27\": 1, \"57\": 3, \"29\": 3, \"43\": 1, \"20\": 1, \"35\": 2, \"1\": 2}, \"38\": {\"38\": 10, \"8\": 6, \"33\": 2, \"13\": 2, \"51\": 1, \"39\": 1, \"49\": 1, \"55\": 1, \"7\": 2, \"29\": 1, \"17\": 1}, \"53\": {\"53\": 45, \"24\": 8, \"36\": 6, \"10\": 4, \"39\": 1, \"11\": 7, \"7\": 1, \"23\": 14, \"15\": 8, \"43\": 13, \"51\": 8, \"17\": 2, \"16\": 7, \"13\": 2, \"55\": 5, \"37\": 2, \"8\": 2, \"52\": 1, \"54\": 1, \"1\": 1, \"27\": 1, \"9\": 1}, \"20\": {\"20\": 122, \"52\": 3, \"48\": 4, \"30\": 1, \"8\": 1, \"57\": 1}, \"32\": {\"9\": 1, \"32\": 15, \"38\": 1, \"36\": 1, \"27\": 2, \"33\": 2, \"4\": 2, \"42\": 2, \"57\": 2}, \"36\": {\"36\": 41, \"32\": 1, \"39\": 2, \"38\": 2, \"7\": 3, \"17\": 7, \"20\": 1, \"51\": 7, \"14\": 2, \"43\": 1, \"13\": 7, \"2\": 2, \"54\": 3, \"55\": 3, \"48\": 1, \"9\": 2, \"27\": 2, \"16\": 1, \"57\": 5, \"26\": 1, \"4\": 2, \"24\": 1, \"8\": 3}, \"33\": {\"32\": 2, \"8\": 4, \"39\": 1, \"33\": 8, \"41\": 3, \"7\": 1, \"42\": 1, \"57\": 1, \"27\": 1, \"38\": 1, \"1\": 2, \"13\": 1, \"9\": 2}, \"56\": {\"56\": 105, \"22\": 12, \"0\": 8, \"1\": 3, \"47\": 5, \"52\": 2, \"9\": 1}, \"23\": {\"54\": 6, \"23\": 63, \"2\": 1, \"26\": 1, \"53\": 13, \"11\": 4, \"34\": 2, \"10\": 1, \"24\": 2, \"43\": 12, \"25\": 2, \"55\": 12, \"17\": 1, \"15\": 4, \"31\": 2, \"13\": 1, \"42\": 1, \"29\": 1, \"19\": 1}, \"54\": {\"54\": 58, \"23\": 9, \"28\": 2, \"17\": 3, \"35\": 1, \"26\": 2, \"15\": 3, \"25\": 1, \"55\": 9, \"53\": 3, \"43\": 2, \"11\": 1, \"34\": 1, \"42\": 1, \"19\": 2, \"24\": 2}, \"21\": {\"21\": 126}, \"28\": {\"28\": 12, \"54\": 4, \"17\": 1, \"15\": 5, \"26\": 1, \"23\": 1, \"53\": 1, \"31\": 1, \"16\": 2}, \"26\": {\"26\": 10, \"36\": 2, \"31\": 4, \"7\": 1, \"42\": 1, \"24\": 2, \"17\": 1, \"23\": 1, \"55\": 1, \"43\": 1}, \"48\": {\"48\": 68, \"47\": 11, \"1\": 7, \"56\": 1, \"14\": 2, \"43\": 1, \"29\": 1, \"9\": 5, \"30\": 2, \"8\": 3, \"20\": 7, \"0\": 1, \"40\": 1, \"52\": 4, \"4\": 1, \"27\": 1}, \"52\": {\"52\": 114, \"47\": 1, \"1\": 1, \"20\": 2}, \"39\": {\"38\": 2, \"33\": 2, \"41\": 3, \"35\": 1, \"7\": 1, \"39\": 6, \"14\": 1}, \"22\": {\"22\": 134, \"40\": 1, \"0\": 3, \"56\": 1, \"1\": 1}, \"13\": {\"13\": 100, \"51\": 8, \"2\": 1, \"8\": 9, \"36\": 1, \"20\": 1, \"48\": 2, \"1\": 1, \"7\": 1, \"33\": 1, \"57\": 1, \"55\": 1, \"27\": 1}, \"2\": {\"35\": 1, \"27\": 3, \"42\": 1, \"2\": 7, \"8\": 2, \"7\": 3, \"9\": 1, \"4\": 1, \"36\": 6, \"29\": 1, \"38\": 1, \"51\": 2, \"49\": 1, \"33\": 1, \"20\": 1}, \"34\": {\"34\": 22, \"35\": 4, \"55\": 2, \"28\": 1, \"15\": 1, \"54\": 1, \"24\": 1}, \"27\": {\"29\": 7, \"27\": 48, \"54\": 1, \"57\": 12, \"38\": 2, \"41\": 2, \"9\": 8, \"20\": 2, \"8\": 13, \"4\": 6, \"48\": 11, \"36\": 1, \"47\": 5, \"55\": 2, \"52\": 2, \"31\": 1, \"49\": 1, \"39\": 1, \"33\": 1, \"1\": 2, \"14\": 1, \"17\": 3}, \"45\": {\"45\": 57, \"5\": 2, \"44\": 1}, \"35\": {\"2\": 1, \"35\": 14, \"29\": 1, \"38\": 1, \"28\": 2, \"33\": 1, \"42\": 1, \"31\": 1, \"34\": 2, \"36\": 2, \"39\": 1, \"26\": 1}, \"29\": {\"29\": 46, \"41\": 3, \"56\": 2, \"54\": 1, \"27\": 15, \"4\": 17, \"40\": 2, \"51\": 1, \"1\": 5, \"43\": 2, \"14\": 3, \"36\": 2, \"47\": 1, \"9\": 7, \"57\": 7, \"8\": 3, \"35\": 2, \"28\": 1, \"44\": 1, \"34\": 1, \"42\": 1, \"0\": 1, \"23\": 1, \"48\": 2, \"17\": 1}, \"25\": {\"31\": 3, \"43\": 4, \"25\": 57, \"15\": 15, \"11\": 13, \"49\": 4, \"16\": 17, \"23\": 3, \"10\": 4, \"19\": 7, \"53\": 5, \"18\": 7, \"51\": 1, \"24\": 2, \"55\": 1, \"36\": 1}, \"0\": {\"0\": 122, \"56\": 2}, \"41\": {\"41\": 15, \"29\": 1, \"33\": 1, \"52\": 3, \"20\": 4, \"47\": 4}, \"11\": {\"31\": 2, \"15\": 13, \"53\": 10, \"25\": 12, \"11\": 58, \"49\": 1, \"42\": 3, \"18\": 2, \"16\": 9, \"51\": 3, \"43\": 6, \"24\": 5, \"10\": 5, \"54\": 1, \"23\": 6, \"55\": 3, \"13\": 1, \"8\": 1, \"19\": 1}, \"5\": {\"5\": 108}, \"1\": {\"27\": 2, \"57\": 8, \"29\": 5, \"1\": 40, \"14\": 2, \"47\": 10, \"48\": 11, \"51\": 1, \"9\": 2, \"4\": 2, \"56\": 5, \"0\": 3, \"52\": 1, \"30\": 3, \"36\": 1, \"8\": 1, \"40\": 2, \"20\": 1}, \"57\": {\"41\": 4, \"57\": 31, \"4\": 4, \"27\": 6, \"52\": 6, \"36\": 1, \"1\": 8, \"29\": 5, \"14\": 1, \"20\": 9, \"48\": 10, \"17\": 1, \"9\": 12, \"8\": 15, \"33\": 1, \"7\": 1, \"23\": 1}, \"17\": {\"17\": 49, \"36\": 6, \"43\": 9, \"35\": 1, \"39\": 1, \"32\": 1, \"26\": 1, \"29\": 4, \"2\": 2, \"54\": 4, \"51\": 4, \"55\": 9, \"23\": 5, \"19\": 1, \"53\": 1, \"9\": 3, \"57\": 1, \"4\": 2, \"11\": 1, \"24\": 2, \"27\": 1}, \"7\": {\"51\": 3, \"41\": 2, \"7\": 17, \"33\": 1, \"42\": 1, \"20\": 2, \"13\": 4, \"2\": 1, \"39\": 1, \"52\": 1, \"47\": 1, \"37\": 1, \"57\": 1}, \"12\": {\"12\": 91, \"3\": 1}, \"47\": {\"47\": 79, \"48\": 2, \"22\": 3, \"20\": 1, \"52\": 2, \"30\": 1, \"1\": 2, \"40\": 1, \"57\": 1}, \"40\": {\"40\": 74, \"0\": 15, \"44\": 6, \"9\": 3, \"30\": 17, \"56\": 1, \"5\": 4, \"29\": 2, \"1\": 4, \"47\": 1, \"22\": 2, \"4\": 3, \"57\": 1, \"48\": 2, \"45\": 1}, \"15\": {\"10\": 1, \"31\": 2, \"15\": 57, \"16\": 14, \"28\": 4, \"11\": 27, \"53\": 6, \"23\": 6, \"18\": 6, \"25\": 9, \"43\": 3, \"55\": 2, \"19\": 1, \"13\": 1, \"24\": 2, \"17\": 1}, \"42\": {\"26\": 2, \"55\": 2, \"28\": 1, \"49\": 1, \"42\": 13, \"14\": 1, \"31\": 1, \"2\": 1, \"35\": 2, \"11\": 1, \"32\": 1, \"23\": 1, \"43\": 1}, \"55\": {\"20\": 1, \"31\": 1, \"34\": 3, \"55\": 53, \"43\": 17, \"17\": 10, \"53\": 4, \"36\": 8, \"8\": 4, \"54\": 5, \"25\": 1, \"24\": 10, \"51\": 8, \"9\": 1, \"23\": 9, \"29\": 1, \"35\": 2, \"39\": 1, \"42\": 2, \"37\": 1, \"26\": 3, \"27\": 1, \"19\": 1, \"4\": 1, \"13\": 1, \"15\": 1}, \"49\": {\"31\": 1, \"7\": 3, \"42\": 1, \"49\": 4, \"38\": 1, \"55\": 2, \"2\": 1, \"43\": 3, \"24\": 2, \"36\": 1, \"13\": 1}, \"30\": {\"30\": 115, \"0\": 3, \"9\": 1, \"3\": 1}, \"50\": {\"50\": 127, \"3\": 5, \"46\": 2}, \"4\": {\"9\": 19, \"4\": 50, \"57\": 9, \"14\": 4, \"29\": 13, \"47\": 1, \"44\": 1, \"40\": 9, \"27\": 15, \"45\": 3, \"55\": 1, \"17\": 2, \"1\": 3, \"13\": 1, \"20\": 1, \"50\": 1, \"56\": 1, \"8\": 1, \"54\": 1}}, \"C_4\": {\"35\": {\"38\": 3, \"49\": 1, \"35\": 11, \"32\": 3, \"57\": 1, \"33\": 2, \"10\": 1, \"55\": 5, \"27\": 2, \"17\": 1, \"4\": 2, \"29\": 1, \"31\": 1, \"28\": 1, \"26\": 1, \"36\": 1, \"54\": 2, \"2\": 1}, \"25\": {\"32\": 2, \"34\": 5, \"53\": 9, \"11\": 8, \"26\": 3, \"28\": 2, \"25\": 52, \"10\": 11, \"24\": 1, \"18\": 12, \"16\": 6, \"15\": 10, \"51\": 1, \"19\": 4, \"42\": 1, \"36\": 1, \"23\": 2, \"27\": 1, \"43\": 3}, \"24\": {\"14\": 1, \"24\": 22, \"31\": 3, \"37\": 1, \"43\": 6, \"32\": 3, \"23\": 4, \"51\": 2, \"7\": 2, \"41\": 3, \"52\": 1, \"35\": 1, \"49\": 1, \"54\": 1, \"33\": 2, \"11\": 1, \"38\": 1, \"36\": 1}, \"48\": {\"48\": 83, \"44\": 1, \"1\": 6, \"47\": 20, \"9\": 9, \"2\": 1, \"57\": 4, \"29\": 3, \"4\": 1, \"21\": 2, \"20\": 2, \"52\": 1, \"8\": 2, \"27\": 3}, \"51\": {\"38\": 3, \"13\": 7, \"51\": 103, \"7\": 2, \"2\": 1, \"4\": 1, \"57\": 1, \"36\": 9, \"8\": 7, \"20\": 2, \"55\": 4, \"37\": 4}, \"13\": {\"13\": 95, \"1\": 1, \"39\": 2, \"27\": 1, \"57\": 1, \"8\": 12, \"29\": 1, \"20\": 3, \"47\": 1, \"55\": 1, \"48\": 1, \"4\": 1}, \"14\": {\"35\": 1, \"13\": 2, \"51\": 1, \"21\": 1, \"14\": 5, \"2\": 1, \"27\": 1, \"55\": 1, \"52\": 2, \"38\": 1}, \"32\": {\"13\": 1, \"38\": 2, \"55\": 3, \"51\": 1, \"32\": 2, \"7\": 1, \"49\": 4, \"43\": 2, \"2\": 1, \"39\": 1, \"35\": 1, \"33\": 2, \"41\": 1, \"37\": 1, \"54\": 1}, \"30\": {\"30\": 44}, \"34\": {\"14\": 1, \"38\": 1, \"26\": 4, \"16\": 1, \"43\": 1, \"28\": 1, \"25\": 1, \"34\": 8, \"54\": 1, \"42\": 2, \"33\": 1, \"10\": 1, \"23\": 1}, \"9\": {\"48\": 27, \"8\": 6, \"9\": 49, \"4\": 13, \"2\": 2, \"40\": 3, \"29\": 10, \"47\": 10, \"57\": 4, \"20\": 4, \"23\": 1, \"55\": 1, \"52\": 1, \"27\": 4, \"44\": 1}, \"1\": {\"1\": 31, \"47\": 2, \"27\": 1, \"57\": 2, \"56\": 2, \"48\": 1, \"9\": 1}, \"0\": {\"0\": 80}, \"38\": {\"14\": 3, \"24\": 2, \"13\": 1, \"55\": 2, \"29\": 2, \"57\": 2, \"32\": 2, \"49\": 1, \"25\": 1, \"26\": 1, \"38\": 14, \"2\": 2, \"4\": 1, \"54\": 1, \"23\": 2, \"36\": 2, \"27\": 1}, \"22\": {\"22\": 128}, \"40\": {\"40\": 80, \"44\": 7, \"57\": 1, \"0\": 2, \"46\": 18, \"56\": 3, \"50\": 2, \"48\": 1, \"22\": 2, \"5\": 2, \"29\": 2}, \"6\": {\"6\": 110, \"3\": 2}, \"16\": {\"16\": 35, \"11\": 9, \"53\": 9, \"31\": 1, \"25\": 5, \"10\": 8, \"26\": 1, \"15\": 11, \"24\": 1, \"38\": 2, \"2\": 1, \"43\": 2, \"42\": 2, \"51\": 2, \"55\": 1, \"23\": 3, \"34\": 1, \"27\": 1, \"54\": 1}, \"11\": {\"11\": 32, \"16\": 11, \"15\": 13, \"53\": 7, \"10\": 6, \"24\": 3, \"25\": 10, \"36\": 3, \"19\": 3, \"23\": 5, \"18\": 3, \"43\": 2, \"26\": 1, \"42\": 1, \"28\": 2, \"41\": 1, \"55\": 1}, \"20\": {\"20\": 118, \"21\": 2, \"47\": 2}, \"17\": {\"54\": 10, \"17\": 36, \"24\": 2, \"33\": 3, \"32\": 1, \"38\": 4, \"55\": 6, \"43\": 4, \"23\": 3, \"29\": 2, \"53\": 2, \"49\": 1, \"42\": 1, \"27\": 2, \"19\": 3}, \"26\": {\"54\": 1, \"17\": 1, \"16\": 1, \"26\": 8, \"34\": 2, \"25\": 1, \"35\": 2, \"23\": 4, \"11\": 2, \"42\": 1, \"10\": 1}, \"54\": {\"54\": 49, \"38\": 3, \"33\": 5, \"19\": 2, \"55\": 12, \"26\": 2, \"42\": 1, \"35\": 3, \"24\": 1, \"17\": 7, \"15\": 2, \"53\": 6, \"10\": 2, \"43\": 5, \"41\": 2, \"36\": 1, \"25\": 1, \"9\": 1, \"34\": 1, \"23\": 1, \"27\": 1}, \"55\": {\"55\": 57, \"54\": 8, \"37\": 1, \"7\": 4, \"17\": 5, \"23\": 10, \"26\": 2, \"2\": 2, \"27\": 4, \"24\": 3, \"33\": 2, \"35\": 3, \"43\": 18, \"18\": 1, \"51\": 5, \"4\": 2, \"36\": 5, \"19\": 4, \"10\": 3, \"53\": 3, \"41\": 4, \"49\": 1, \"38\": 1, \"42\": 1, \"28\": 1, \"57\": 1, \"15\": 1, \"29\": 1, \"8\": 1}, \"50\": {\"50\": 122, \"3\": 8, \"18\": 1, \"6\": 1}, \"19\": {\"34\": 2, \"19\": 120, \"35\": 1, \"54\": 8, \"17\": 1, \"25\": 4, \"18\": 2, \"55\": 1, \"33\": 1, \"23\": 2}, \"44\": {\"44\": 70, \"40\": 26, \"46\": 6, \"45\": 8, \"56\": 3, \"4\": 1, \"3\": 2, \"5\": 5, \"21\": 1}, \"47\": {\"1\": 5, \"47\": 111, \"48\": 2, \"57\": 1, \"20\": 1}, \"33\": {\"54\": 6, \"17\": 2, \"19\": 1, \"29\": 1, \"33\": 13, \"35\": 4, \"55\": 5, \"41\": 1, \"42\": 1, \"23\": 1, \"43\": 1}, \"5\": {\"5\": 108}, \"18\": {\"18\": 66, \"28\": 3, \"25\": 13, \"11\": 5, \"16\": 4, \"19\": 4, \"17\": 1, \"15\": 5, \"23\": 2, \"43\": 2, \"41\": 1, \"53\": 1, \"10\": 1}, \"21\": {\"21\": 124}, \"41\": {\"54\": 3, \"37\": 1, \"55\": 3, \"43\": 2, \"51\": 4, \"41\": 11, \"48\": 1, \"36\": 2, \"23\": 1, \"10\": 1, \"13\": 1, \"32\": 1, \"53\": 1, \"8\": 1, \"38\": 1, \"2\": 1, \"24\": 1}, \"23\": {\"23\": 57, \"41\": 4, \"24\": 6, \"15\": 8, \"35\": 1, \"31\": 1, \"42\": 2, \"17\": 1, \"10\": 8, \"53\": 10, \"11\": 2, \"18\": 5, \"25\": 2, \"54\": 3, \"19\": 2, \"43\": 9, \"55\": 4, \"26\": 1, \"38\": 1, \"28\": 1}, \"39\": {\"39\": 13, \"13\": 3, \"27\": 1, \"37\": 1, \"8\": 1, \"1\": 1}, \"37\": {\"37\": 12, \"39\": 1, \"32\": 6, \"36\": 1, \"1\": 1, \"51\": 1, \"49\": 1, \"52\": 1}, \"8\": {\"8\": 123, \"57\": 2, \"48\": 5, \"20\": 6, \"9\": 1, \"27\": 1, \"13\": 3, \"52\": 1, \"4\": 1, \"51\": 1}, \"49\": {\"49\": 8, \"8\": 1, \"17\": 1, \"32\": 2, \"31\": 3, \"55\": 1, \"14\": 1, \"2\": 1, \"51\": 2}, \"53\": {\"28\": 1, \"16\": 7, \"43\": 8, \"24\": 8, \"53\": 47, \"41\": 2, \"18\": 1, \"32\": 1, \"15\": 11, \"42\": 1, \"7\": 1, \"10\": 15, \"36\": 4, \"55\": 2, \"25\": 4, \"8\": 1, \"27\": 1, \"23\": 6, \"51\": 4, \"11\": 6, \"49\": 1, \"38\": 2, \"33\": 2, \"34\": 1, \"57\": 2, \"13\": 1}, \"31\": {\"49\": 2, \"31\": 10, \"28\": 1, \"11\": 1, \"24\": 2, \"55\": 1, \"23\": 4, \"42\": 3, \"53\": 3, \"43\": 1}, \"28\": {\"19\": 5, \"28\": 14, \"34\": 2, \"25\": 4, \"53\": 1, \"17\": 2, \"55\": 1, \"35\": 1, \"18\": 2}, \"3\": {\"3\": 119, \"50\": 4, \"12\": 1}, \"27\": {\"27\": 76, \"21\": 1, \"4\": 10, \"9\": 10, \"26\": 1, \"36\": 4, \"13\": 1, \"2\": 4, \"47\": 2, \"54\": 3, \"29\": 9, \"53\": 1, \"51\": 1, \"8\": 4, \"55\": 3, \"35\": 1, \"7\": 1, \"57\": 3, \"48\": 3}, \"46\": {\"46\": 125, \"22\": 3}, \"12\": {\"12\": 92}, \"7\": {\"24\": 3, \"39\": 2, \"7\": 7, \"51\": 2, \"43\": 3, \"36\": 1, \"13\": 1, \"54\": 1, \"8\": 2, \"41\": 2}, \"4\": {\"4\": 56, \"27\": 9, \"9\": 15, \"40\": 3, \"48\": 6, \"57\": 7, \"17\": 2, \"21\": 3, \"29\": 13, \"44\": 5, \"20\": 2, \"35\": 1, \"14\": 1, \"52\": 2, \"1\": 2, \"47\": 3, \"8\": 2}, \"42\": {\"43\": 1, \"28\": 1, \"23\": 2, \"54\": 2, \"31\": 3, \"33\": 5, \"10\": 2, \"42\": 10, \"41\": 2, \"17\": 1, \"32\": 1, \"16\": 1, \"26\": 1}, \"43\": {\"41\": 2, \"55\": 11, \"43\": 64, \"24\": 1, \"23\": 6, \"54\": 3, \"8\": 1, \"51\": 12, \"15\": 2, \"36\": 5, \"53\": 3, \"27\": 3, \"25\": 1, \"13\": 3, \"39\": 2, \"32\": 2, \"49\": 1, \"31\": 2, \"2\": 1, \"38\": 2, \"7\": 1, \"48\": 1, \"17\": 1}, \"29\": {\"4\": 19, \"7\": 1, \"9\": 12, \"27\": 8, \"29\": 51, \"14\": 1, \"48\": 9, \"57\": 9, \"8\": 3, \"21\": 1, \"44\": 1, \"20\": 1, \"13\": 1, \"47\": 3}, \"57\": {\"57\": 39, \"1\": 3, \"48\": 9, \"20\": 6, \"47\": 16, \"38\": 2, \"52\": 9, \"4\": 6, \"9\": 4, \"13\": 1, \"55\": 1, \"30\": 1, \"36\": 1, \"8\": 2}, \"52\": {\"52\": 102, \"29\": 1, \"36\": 1}, \"45\": {\"45\": 66, \"50\": 5, \"30\": 7, \"40\": 2, \"3\": 1, \"47\": 1, \"0\": 1, \"44\": 9, \"5\": 2, \"46\": 1, \"21\": 1}, \"36\": {\"38\": 1, \"36\": 42, \"27\": 6, \"51\": 10, \"10\": 1, \"41\": 1, \"55\": 7, \"43\": 2, \"9\": 1, \"57\": 1, \"4\": 3, \"13\": 11, \"8\": 4, \"53\": 1, \"47\": 1}, \"10\": {\"16\": 9, \"10\": 51, \"23\": 9, \"38\": 1, \"26\": 1, \"2\": 3, \"11\": 10, \"24\": 2, \"53\": 8, \"42\": 1, \"19\": 1, \"41\": 2, \"18\": 2, \"15\": 12, \"43\": 2, \"55\": 6, \"25\": 3, \"37\": 1, \"36\": 1, \"54\": 1}, \"15\": {\"23\": 6, \"15\": 47, \"41\": 1, \"25\": 7, \"10\": 19, \"19\": 3, \"16\": 6, \"24\": 2, \"11\": 6, \"36\": 5, \"18\": 4, \"27\": 3, \"8\": 1, \"53\": 14, \"17\": 1, \"55\": 3, \"48\": 1, \"26\": 1, \"34\": 1, \"43\": 3}, \"56\": {\"56\": 118, \"0\": 5, \"46\": 1}, \"2\": {\"2\": 12, \"1\": 6, \"24\": 2, \"57\": 4, \"27\": 1, \"9\": 1, \"47\": 2, \"54\": 1, \"8\": 1, \"48\": 1, \"39\": 1, \"13\": 2, \"56\": 1, \"7\": 1}}, \"C_5\": {\"47\": {\"47\": 61, \"9\": 4, \"14\": 1, \"27\": 3, \"56\": 5, \"1\": 1, \"57\": 9, \"20\": 4, \"52\": 7, \"29\": 2, \"48\": 1, \"36\": 1, \"21\": 1}, \"53\": {\"55\": 3, \"33\": 1, \"23\": 20, \"53\": 61, \"38\": 1, \"51\": 11, \"41\": 1, \"13\": 1, \"31\": 4, \"42\": 3, \"49\": 1, \"10\": 6, \"11\": 8, \"54\": 3, \"7\": 1, \"16\": 5, \"24\": 3, \"20\": 1, \"15\": 5, \"8\": 2, \"17\": 4, \"48\": 1, \"43\": 2, \"19\": 1, \"25\": 1}, \"29\": {\"29\": 54, \"47\": 5, \"8\": 2, \"48\": 18, \"57\": 8, \"1\": 9, \"20\": 4, \"27\": 8, \"36\": 4, \"9\": 3, \"52\": 2, \"13\": 1, \"46\": 1, \"30\": 3, \"14\": 1, \"35\": 1, \"19\": 1, \"55\": 1}, \"52\": {\"52\": 123, \"1\": 1, \"21\": 6}, \"55\": {\"55\": 56, \"17\": 12, \"27\": 5, \"42\": 1, \"38\": 1, \"36\": 5, \"34\": 1, \"24\": 2, \"28\": 1, \"23\": 14, \"32\": 1, \"10\": 2, \"54\": 12, \"19\": 6, \"16\": 3, \"53\": 9, \"15\": 3, \"8\": 1, \"41\": 1, \"49\": 2, \"7\": 1, \"18\": 1, \"25\": 2, \"11\": 1, \"43\": 1}, \"17\": {\"49\": 3, \"55\": 17, \"17\": 41, \"41\": 2, \"34\": 2, \"32\": 1, \"36\": 3, \"31\": 3, \"54\": 12, \"23\": 7, \"53\": 5, \"35\": 1, \"33\": 2, \"51\": 1, \"10\": 1, \"19\": 2, \"43\": 3, \"27\": 4, \"38\": 2, \"18\": 1, \"24\": 2, \"29\": 1}, \"42\": {\"53\": 3, \"42\": 13, \"55\": 2, \"16\": 1, \"38\": 1, \"15\": 2, \"11\": 1, \"31\": 5, \"24\": 1, \"25\": 2, \"23\": 3, \"26\": 1, \"2\": 2, \"49\": 2, \"10\": 1}, \"33\": {\"55\": 4, \"54\": 1, \"33\": 16, \"24\": 2, \"17\": 2, \"41\": 1, \"32\": 2, \"38\": 1, \"34\": 1, \"31\": 1, \"36\": 1}, \"11\": {\"11\": 67, \"42\": 5, \"18\": 5, \"53\": 11, \"15\": 15, \"16\": 22, \"23\": 6, \"10\": 3, \"24\": 1, \"25\": 4, \"19\": 2, \"43\": 2, \"55\": 2, \"26\": 1, \"51\": 1, \"8\": 1}, \"19\": {\"33\": 3, \"19\": 100, \"28\": 1, \"10\": 1, \"23\": 2, \"55\": 2, \"25\": 3, \"16\": 1, \"26\": 2, \"32\": 1, \"17\": 1, \"18\": 1}, \"1\": {\"1\": 110, \"29\": 2, \"52\": 7, \"4\": 1, \"30\": 6, \"57\": 2, \"9\": 8, \"48\": 2, \"13\": 1, \"47\": 2, \"8\": 1, \"20\": 2}, \"44\": {\"44\": 119, \"45\": 6, \"5\": 13, \"40\": 4}, \"49\": {\"49\": 11, \"33\": 2, \"41\": 3, \"31\": 2, \"54\": 3, \"35\": 2, \"17\": 1, \"43\": 1, \"13\": 1, \"55\": 3, \"32\": 1, \"28\": 1, \"23\": 3, \"24\": 2}, \"4\": {\"4\": 57, \"44\": 9, \"45\": 9, \"5\": 10, \"14\": 1, \"30\": 5, \"40\": 7, \"9\": 2}, \"6\": {\"6\": 115, \"50\": 1}, \"39\": {\"39\": 6, \"52\": 1, \"34\": 1, \"43\": 2, \"20\": 2, \"37\": 1, \"2\": 1, \"8\": 2, \"7\": 1, \"47\": 1, \"36\": 1, \"51\": 1}, \"50\": {\"50\": 148}, \"56\": {\"56\": 116, \"3\": 1, \"21\": 1, \"46\": 3, \"29\": 1, \"0\": 7, \"27\": 1}, \"25\": {\"25\": 64, \"28\": 4, \"31\": 1, \"10\": 5, \"16\": 21, \"42\": 2, \"18\": 3, \"54\": 1, \"11\": 13, \"24\": 2, \"53\": 2, \"15\": 13, \"19\": 6, \"23\": 4, \"55\": 1, \"17\": 1, \"43\": 1}, \"28\": {\"28\": 22, \"49\": 1, \"17\": 1, \"25\": 1, \"33\": 1, \"26\": 2, \"18\": 2, \"42\": 1, \"19\": 1}, \"35\": {\"35\": 11, \"37\": 1, \"41\": 1, \"24\": 1, \"54\": 2, \"49\": 2, \"43\": 1, \"7\": 1, \"10\": 1, \"51\": 4, \"55\": 1, \"23\": 1, \"2\": 1, \"31\": 1, \"17\": 1, \"11\": 1, \"8\": 1, \"13\": 3, \"36\": 1}, \"24\": {\"24\": 39, \"55\": 4, \"14\": 1, \"49\": 1, \"31\": 1, \"8\": 3, \"23\": 4, \"16\": 1, \"53\": 5, \"41\": 1, \"13\": 4, \"27\": 1, \"43\": 2, \"15\": 1, \"17\": 1, \"11\": 1, \"38\": 1, \"51\": 6, \"10\": 2, \"35\": 1}, \"21\": {\"21\": 131, \"52\": 1}, \"45\": {\"45\": 124}, \"16\": {\"28\": 2, \"16\": 46, \"15\": 15, \"42\": 7, \"23\": 7, \"35\": 1, \"38\": 2, \"24\": 3, \"31\": 3, \"25\": 13, \"11\": 18, \"55\": 4, \"10\": 2, \"53\": 8, \"43\": 3, \"8\": 2, \"26\": 1, \"37\": 1, \"18\": 2, \"19\": 2, \"51\": 2}, \"37\": {\"39\": 1, \"55\": 1, \"37\": 9, \"49\": 2, \"14\": 1, \"8\": 1, \"51\": 2, \"21\": 1, \"20\": 1, \"26\": 1, \"42\": 1, \"43\": 1, \"13\": 1, \"24\": 1}, \"57\": {\"57\": 82, \"47\": 8, \"56\": 4, \"9\": 1, \"20\": 3, \"6\": 1, \"1\": 12, \"48\": 5, \"30\": 5, \"52\": 7, \"29\": 2, \"27\": 1, \"14\": 1}, \"34\": {\"34\": 23, \"33\": 6, \"54\": 3, \"55\": 2, \"17\": 1, \"19\": 1}, \"38\": {\"38\": 13, \"27\": 1, \"35\": 2, \"42\": 2, \"8\": 3, \"41\": 2, \"14\": 1, \"33\": 1, \"17\": 1, \"43\": 1, \"37\": 1, \"32\": 1, \"51\": 1, \"55\": 2}, \"48\": {\"48\": 64, \"9\": 8, \"30\": 5, \"20\": 7, \"14\": 1, \"57\": 14, \"29\": 5, \"46\": 2, \"47\": 3, \"27\": 5, \"8\": 4, \"1\": 9, \"35\": 1, \"52\": 2}, \"26\": {\"26\": 13, \"16\": 3, \"31\": 3, \"49\": 1, \"28\": 1, \"15\": 1, \"34\": 1, \"54\": 1}, \"9\": {\"9\": 109, \"1\": 8, \"40\": 2, \"57\": 1, \"30\": 17, \"4\": 3, \"29\": 2, \"46\": 6, \"56\": 1, \"48\": 1, \"45\": 1, \"0\": 1}, \"18\": {\"15\": 8, \"11\": 4, \"18\": 37, \"25\": 6, \"16\": 3, \"19\": 4, \"28\": 1, \"10\": 1}, \"3\": {\"3\": 100}, \"23\": {\"23\": 46, \"26\": 1, \"15\": 4, \"38\": 2, \"53\": 14, \"31\": 1, \"16\": 6, \"24\": 10, \"42\": 1, \"54\": 4, \"55\": 6, \"10\": 5, \"43\": 6, \"11\": 2, \"27\": 4, \"51\": 2, \"8\": 2, \"41\": 1, \"35\": 2, \"49\": 1, \"36\": 1, \"19\": 1, \"13\": 1, \"17\": 1}, \"15\": {\"10\": 9, \"38\": 1, \"15\": 73, \"53\": 12, \"24\": 5, \"25\": 6, \"42\": 4, \"11\": 19, \"36\": 1, \"23\": 4, \"55\": 3, \"18\": 4, \"16\": 6, \"43\": 1, \"31\": 2, \"28\": 1, \"35\": 1, \"27\": 2}, \"10\": {\"23\": 1, \"37\": 1, \"10\": 35, \"18\": 1, \"15\": 6, \"11\": 5, \"8\": 1, \"53\": 5, \"7\": 1, \"24\": 1, \"27\": 1, \"55\": 1, \"42\": 4, \"13\": 1, \"31\": 2, \"2\": 1, \"19\": 1}, \"46\": {\"46\": 146, \"0\": 2}, \"22\": {\"22\": 27, \"56\": 1}, \"54\": {\"23\": 10, \"27\": 8, \"17\": 5, \"41\": 2, \"49\": 1, \"54\": 48, \"31\": 1, \"32\": 3, \"36\": 6, \"35\": 2, \"43\": 6, \"14\": 2, \"55\": 6, \"53\": 3, \"8\": 1, \"37\": 1, \"24\": 2, \"34\": 1, \"29\": 1, \"51\": 2, \"48\": 1}, \"27\": {\"47\": 2, \"38\": 2, \"35\": 3, \"37\": 1, \"49\": 2, \"55\": 3, \"27\": 71, \"43\": 3, \"51\": 3, \"33\": 1, \"41\": 2, \"13\": 3, \"36\": 7, \"14\": 6, \"9\": 6, \"48\": 11, \"54\": 6, \"8\": 4, \"29\": 7, \"23\": 1, \"1\": 2, \"32\": 3, \"2\": 1, \"30\": 2, \"24\": 1, \"4\": 3, \"57\": 3, \"17\": 1}, \"41\": {\"49\": 1, \"41\": 7, \"14\": 1, \"38\": 3, \"2\": 4, \"24\": 2, \"43\": 1, \"32\": 1, \"27\": 2, \"42\": 1, \"51\": 2, \"23\": 1, \"47\": 2}, \"31\": {\"34\": 1, \"41\": 3, \"24\": 2, \"31\": 9, \"53\": 5, \"54\": 2, \"42\": 3, \"23\": 2, \"19\": 1, \"10\": 3, \"38\": 1, \"25\": 1, \"35\": 1, \"49\": 1, \"32\": 1}, \"0\": {\"0\": 122, \"29\": 1, \"40\": 1}, \"7\": {\"2\": 2, \"39\": 2, \"57\": 2, \"7\": 11, \"13\": 1, \"8\": 6, \"14\": 4, \"36\": 1, \"27\": 1, \"32\": 1, \"38\": 1}, \"2\": {\"39\": 3, \"41\": 1, \"2\": 18, \"43\": 1, \"51\": 2, \"13\": 1, \"14\": 1, \"36\": 1}, \"14\": {\"14\": 16, \"27\": 1, \"29\": 2, \"20\": 4, \"2\": 1, \"8\": 8, \"13\": 2, \"36\": 4, \"52\": 1, \"7\": 3, \"57\": 2}, \"40\": {\"46\": 3, \"5\": 4, \"40\": 100, \"6\": 3, \"4\": 1, \"44\": 5, \"0\": 3, \"1\": 1, \"22\": 2, \"47\": 1, \"9\": 1}, \"5\": {\"5\": 112, \"44\": 12, \"45\": 3, \"4\": 1}, \"12\": {\"12\": 96}, \"43\": {\"43\": 73, \"13\": 19, \"48\": 3, \"35\": 2, \"39\": 2, \"51\": 18, \"53\": 2, \"24\": 1, \"8\": 8, \"27\": 2, \"2\": 1, \"41\": 1, \"57\": 4, \"10\": 1, \"14\": 1, \"29\": 1, \"55\": 1, \"52\": 1, \"17\": 1}, \"13\": {\"13\": 107, \"8\": 11, \"7\": 2, \"57\": 1, \"20\": 13, \"35\": 1, \"47\": 2, \"14\": 2, \"52\": 1, \"46\": 1, \"37\": 1, \"21\": 2, \"23\": 1, \"27\": 1, \"55\": 1, \"48\": 1}, \"36\": {\"2\": 3, \"43\": 4, \"54\": 5, \"32\": 4, \"49\": 1, \"36\": 44, \"37\": 1, \"27\": 8, \"7\": 1, \"35\": 1, \"17\": 3, \"8\": 1, \"51\": 2, \"57\": 3, \"47\": 1, \"13\": 3, \"19\": 1, \"41\": 1, \"23\": 1, \"34\": 1, \"29\": 1, \"24\": 2}, \"8\": {\"8\": 110, \"27\": 2, \"7\": 3, \"29\": 3, \"14\": 3, \"13\": 9, \"20\": 6, \"1\": 2, \"47\": 2, \"48\": 1, \"51\": 1, \"55\": 1, \"57\": 2, \"39\": 2, \"36\": 1, \"43\": 2}, \"32\": {\"17\": 2, \"32\": 13, \"33\": 3, \"36\": 5, \"39\": 2, \"28\": 1, \"41\": 1, \"14\": 1, \"51\": 1, \"24\": 1, \"54\": 2}, \"30\": {\"30\": 119, \"9\": 6, \"1\": 2, \"4\": 1}, \"51\": {\"2\": 4, \"51\": 75, \"37\": 1, \"49\": 2, \"8\": 9, \"15\": 1, \"1\": 1, \"20\": 3, \"43\": 21, \"36\": 2, \"27\": 5, \"13\": 5, \"55\": 1, \"41\": 1, \"38\": 1, \"47\": 2, \"31\": 1, \"7\": 2, \"53\": 1}, \"20\": {\"20\": 131, \"56\": 1, \"1\": 1, \"52\": 4, \"30\": 1}}, \"C_1\": {\"46\": {\"46\": 140}, \"16\": {\"28\": 3, \"16\": 50, \"54\": 1, \"25\": 14, \"23\": 13, \"18\": 2, \"10\": 9, \"53\": 10, \"11\": 9, \"51\": 3, \"15\": 15, \"26\": 2, \"43\": 1, \"24\": 2}, \"26\": {\"16\": 4, \"28\": 1, \"53\": 2, \"15\": 1, \"26\": 8, \"17\": 1, \"23\": 3, \"10\": 2, \"42\": 1, \"18\": 1}, \"10\": {\"16\": 5, \"51\": 2, \"23\": 10, \"15\": 9, \"34\": 2, \"10\": 39, \"38\": 1, \"25\": 2, \"53\": 9, \"24\": 2, \"19\": 2, \"11\": 3, \"54\": 2, \"18\": 3, \"28\": 1, \"33\": 1, \"9\": 1, \"43\": 1, \"48\": 1}, \"9\": {\"9\": 64, \"7\": 2, \"33\": 1, \"38\": 3, \"48\": 15, \"30\": 8, \"32\": 2, \"8\": 18, \"23\": 3, \"36\": 3, \"47\": 4, \"55\": 4, \"43\": 7, \"29\": 3, \"51\": 6, \"21\": 2, \"14\": 2, \"39\": 1, \"27\": 2, \"19\": 1, \"57\": 2, \"13\": 2, \"24\": 1}, \"28\": {\"10\": 3, \"11\": 3, \"28\": 10, \"25\": 2, \"53\": 4, \"43\": 1, \"37\": 1, \"33\": 1, \"24\": 1, \"16\": 1, \"15\": 1}, \"51\": {\"51\": 113, \"17\": 1, \"39\": 2, \"49\": 2, \"41\": 3, \"47\": 2, \"38\": 2, \"8\": 6, \"43\": 3, \"36\": 5, \"9\": 5, \"13\": 5, \"55\": 2, \"48\": 3, \"54\": 1, \"23\": 1}, \"1\": {\"1\": 39, \"8\": 5, \"29\": 12, \"47\": 2, \"7\": 5, \"2\": 2, \"48\": 5, \"43\": 4, \"14\": 2, \"32\": 4, \"30\": 2, \"54\": 1, \"55\": 2, \"23\": 1, \"4\": 1, \"9\": 8, \"38\": 1, \"36\": 1, \"52\": 1, \"19\": 1, \"57\": 1}, \"55\": {\"9\": 10, \"55\": 68, \"23\": 4, \"49\": 3, \"51\": 8, \"32\": 2, \"24\": 3, \"7\": 5, \"48\": 4, \"42\": 1, \"43\": 18, \"53\": 1, \"47\": 3, \"13\": 1, \"37\": 4, \"14\": 1, \"33\": 1, \"26\": 1, \"38\": 2, \"8\": 1, \"2\": 2, \"17\": 2, \"54\": 1, \"29\": 2}, \"27\": {\"52\": 15, \"27\": 67, \"29\": 2, \"30\": 4, \"1\": 3, \"22\": 5, \"0\": 1, \"36\": 1, \"21\": 7, \"47\": 10, \"13\": 1, \"57\": 3, \"39\": 1, \"7\": 1, \"4\": 2, \"9\": 1}, \"22\": {\"52\": 8, \"0\": 7, \"22\": 107, \"14\": 1, \"21\": 1}, \"52\": {\"22\": 3, \"52\": 117, \"21\": 5, \"9\": 1}, \"3\": {\"3\": 140}, \"33\": {\"55\": 5, \"23\": 1, \"33\": 10, \"42\": 2, \"2\": 1, \"39\": 1, \"41\": 1, \"24\": 2, \"37\": 1, \"48\": 1, \"31\": 4, \"43\": 1, \"54\": 2}, \"47\": {\"47\": 56, \"9\": 6, \"22\": 3, \"57\": 4, \"1\": 3, \"14\": 1, \"30\": 6, \"48\": 1, \"27\": 13, \"29\": 4, \"21\": 10, \"52\": 5, \"36\": 1, \"8\": 4, \"7\": 1, \"32\": 1, \"2\": 1}, \"42\": {\"26\": 3, \"42\": 19, \"35\": 1, \"43\": 2, \"17\": 5, \"24\": 1, \"53\": 3, \"37\": 1, \"32\": 1, \"15\": 1, \"23\": 1, \"54\": 1, \"10\": 1}, \"12\": {\"12\": 116}, \"23\": {\"33\": 3, \"23\": 67, \"53\": 8, \"25\": 2, \"54\": 7, \"38\": 1, \"24\": 13, \"17\": 1, \"10\": 7, \"1\": 1, \"16\": 1, \"43\": 9, \"19\": 1, \"51\": 2, \"15\": 2, \"9\": 3, \"55\": 3, \"31\": 1}, \"49\": {\"49\": 12, \"23\": 1, \"41\": 1, \"31\": 2, \"55\": 1, \"32\": 3, \"37\": 3, \"43\": 1, \"36\": 1, \"8\": 1, \"24\": 2, \"39\": 2, \"33\": 2}, \"7\": {\"33\": 2, \"7\": 5, \"36\": 4, \"8\": 2, \"55\": 1, \"39\": 2, \"48\": 1, \"9\": 3, \"38\": 3, \"32\": 2, \"37\": 1, \"29\": 2}, \"4\": {\"4\": 79, \"50\": 8, \"6\": 7, \"30\": 5, \"40\": 16, \"1\": 2, \"57\": 7, \"56\": 2, \"5\": 2, \"45\": 1, \"29\": 2, \"27\": 1}, \"50\": {\"50\": 133, \"6\": 1}, \"19\": {\"19\": 116, \"26\": 5, \"35\": 3, \"23\": 2, \"54\": 3, \"42\": 2, \"10\": 4, \"24\": 2, \"43\": 2, \"15\": 4, \"16\": 2, \"53\": 5, \"34\": 1, \"17\": 1, \"11\": 2}, \"11\": {\"28\": 6, \"11\": 54, \"25\": 11, \"16\": 13, \"17\": 2, \"15\": 14, \"42\": 1, \"24\": 5, \"10\": 10, \"53\": 12, \"23\": 2, \"55\": 2, \"35\": 2, \"26\": 1, \"18\": 2, \"43\": 1, \"19\": 1, \"8\": 1}, \"31\": {\"49\": 4, \"31\": 14, \"41\": 3, \"48\": 2, \"23\": 1, \"33\": 1, \"8\": 3}, \"41\": {\"41\": 7, \"31\": 1, \"24\": 1, \"55\": 1, \"51\": 8, \"33\": 3, \"43\": 1, \"27\": 2}, \"56\": {\"56\": 138}, \"0\": {\"0\": 148}, \"57\": {\"57\": 87, \"47\": 3, \"1\": 2, \"30\": 12, \"40\": 4, \"52\": 4, \"29\": 3, \"48\": 2, \"22\": 2, \"21\": 2, \"55\": 1, \"8\": 1, \"27\": 4, \"9\": 1}, \"53\": {\"53\": 53, \"33\": 2, \"11\": 9, \"26\": 3, \"43\": 4, \"24\": 5, \"37\": 5, \"10\": 11, \"51\": 5, \"54\": 3, \"23\": 6, \"15\": 7, \"9\": 4, \"25\": 2, \"16\": 9, \"55\": 2, \"29\": 1, \"31\": 2, \"49\": 1, \"28\": 1, \"19\": 4, \"36\": 1}, \"43\": {\"37\": 1, \"33\": 3, \"43\": 67, \"41\": 2, \"38\": 1, \"26\": 1, \"42\": 2, \"31\": 1, \"32\": 3, \"49\": 4, \"9\": 7, \"24\": 3, \"54\": 6, \"17\": 3, \"1\": 1, \"23\": 6, \"51\": 5, \"55\": 14, \"29\": 3, \"48\": 1, \"39\": 3, \"7\": 1, \"36\": 1, \"19\": 1, \"47\": 1, \"16\": 1, \"8\": 1, \"57\": 1}, \"37\": {\"2\": 1, \"53\": 2, \"36\": 6, \"51\": 1, \"32\": 2, \"39\": 1, \"55\": 4, \"17\": 2, \"8\": 2, \"37\": 4, \"43\": 3, \"24\": 2, \"38\": 1, \"9\": 1}, \"2\": {\"9\": 3, \"2\": 8, \"8\": 8, \"1\": 2, \"36\": 1, \"33\": 1, \"27\": 2, \"30\": 2, \"48\": 5, \"55\": 1, \"54\": 1, \"21\": 1, \"13\": 1}, \"6\": {\"6\": 95, \"50\": 1}, \"13\": {\"13\": 149, \"14\": 1}, \"18\": {\"18\": 41, \"11\": 10, \"25\": 6, \"35\": 2, \"16\": 4, \"10\": 3, \"54\": 2, \"15\": 1, \"19\": 2, \"42\": 1}, \"36\": {\"36\": 44, \"49\": 1, \"30\": 3, \"52\": 2, \"8\": 2, \"1\": 2, \"27\": 2, \"43\": 1, \"29\": 1, \"47\": 2, \"32\": 1, \"42\": 1, \"13\": 2}, \"29\": {\"47\": 14, \"17\": 1, \"1\": 15, \"29\": 60, \"2\": 1, \"30\": 6, \"38\": 1, \"8\": 4, \"27\": 6, \"23\": 1, \"55\": 3, \"4\": 4, \"48\": 5, \"9\": 4, \"57\": 7, \"21\": 1, \"56\": 1, \"32\": 1, \"54\": 1, \"40\": 3, \"43\": 1}, \"39\": {\"39\": 10, \"17\": 1, \"31\": 2, \"41\": 2, \"55\": 2, \"8\": 1, \"51\": 2, \"35\": 1, \"49\": 3, \"43\": 2, \"27\": 1, \"24\": 1}, \"17\": {\"28\": 2, \"9\": 3, \"26\": 1, \"17\": 18, \"53\": 1, \"55\": 8, \"7\": 1, \"54\": 7, \"23\": 5, \"24\": 4, \"43\": 3, \"1\": 1, \"37\": 2, \"31\": 1, \"41\": 1, \"19\": 1, \"42\": 4, \"32\": 1}, \"21\": {\"21\": 113, \"22\": 3, \"0\": 2, \"52\": 4, \"29\": 1, \"8\": 1}, \"25\": {\"28\": 2, \"19\": 8, \"11\": 12, \"25\": 59, \"26\": 1, \"16\": 12, \"32\": 1, \"34\": 2, \"35\": 2, \"15\": 11, \"53\": 11, \"10\": 5, \"18\": 1, \"23\": 3, \"24\": 1, \"55\": 1}, \"45\": {\"45\": 142}, \"38\": {\"21\": 2, \"38\": 8, \"36\": 2, \"1\": 1, \"54\": 1, \"13\": 1, \"27\": 1, \"51\": 3, \"32\": 3, \"37\": 1, \"8\": 1}, \"30\": {\"30\": 100, \"57\": 6, \"13\": 5, \"8\": 1, \"52\": 2, \"47\": 1, \"21\": 3, \"1\": 1, \"4\": 1}, \"24\": {\"41\": 2, \"24\": 43, \"51\": 13, \"31\": 2, \"55\": 5, \"42\": 1, \"38\": 3, \"37\": 1, \"49\": 4, \"43\": 4, \"23\": 9, \"17\": 1, \"1\": 1, \"47\": 1, \"36\": 3, \"13\": 1, \"9\": 3, \"32\": 2, \"53\": 4, \"39\": 1, \"25\": 1, \"7\": 1, \"48\": 2}, \"20\": {\"20\": 136, \"3\": 4}, \"8\": {\"9\": 4, \"30\": 11, \"8\": 90, \"7\": 2, \"32\": 2, \"2\": 2, \"13\": 3, \"1\": 1, \"17\": 1, \"47\": 6, \"48\": 8, \"43\": 1, \"29\": 4, \"4\": 1, \"36\": 2, \"37\": 1, \"55\": 1}, \"35\": {\"35\": 25, \"26\": 2, \"19\": 2, \"34\": 3, \"17\": 2, \"42\": 2}, \"54\": {\"54\": 55, \"39\": 1, \"34\": 2, \"32\": 1, \"17\": 6, \"7\": 1, \"23\": 9, \"24\": 8, \"43\": 9, \"16\": 1, \"19\": 3, \"55\": 2, \"8\": 1, \"15\": 1, \"35\": 1, \"26\": 1, \"31\": 1, \"1\": 1}, \"5\": {\"5\": 148}, \"48\": {\"48\": 68, \"8\": 27, \"1\": 7, \"9\": 8, \"43\": 4, \"36\": 3, \"13\": 4, \"30\": 11, \"52\": 1, \"27\": 2, \"14\": 1, \"2\": 1, \"32\": 1, \"4\": 1, \"24\": 1, \"55\": 3, \"29\": 1}, \"15\": {\"25\": 10, \"15\": 54, \"28\": 1, \"11\": 11, \"42\": 1, \"10\": 15, \"18\": 3, \"23\": 6, \"54\": 1, \"53\": 14, \"16\": 17, \"55\": 1, \"24\": 2, \"19\": 5, \"21\": 1}, \"34\": {\"23\": 4, \"34\": 9, \"15\": 3, \"43\": 1, \"7\": 1, \"29\": 1, \"19\": 1, \"35\": 1, \"33\": 1, \"54\": 1, \"53\": 1}, \"14\": {\"14\": 13, \"12\": 2, \"22\": 1, \"57\": 2, \"47\": 1, \"13\": 2, \"30\": 1, \"29\": 1, \"48\": 1}, \"32\": {\"32\": 18, \"31\": 1, \"55\": 3, \"54\": 1, \"47\": 2, \"49\": 2, \"43\": 1, \"8\": 1, \"1\": 1, \"9\": 1, \"37\": 1}, \"40\": {\"40\": 80, \"50\": 3, \"44\": 5, \"56\": 26, \"45\": 6, \"6\": 3, \"57\": 4, \"20\": 1, \"52\": 1, \"30\": 2, \"29\": 2, \"4\": 11, \"14\": 1, \"5\": 2, \"0\": 1}, \"44\": {\"44\": 136}}, \"C_2\": {\"36\": {\"41\": 3, \"36\": 46, \"31\": 2, \"27\": 11, \"8\": 10, \"39\": 1, \"48\": 2, \"16\": 1, \"32\": 1, \"23\": 3, \"7\": 1, \"55\": 6, \"57\": 1, \"51\": 10, \"24\": 1, \"43\": 1, \"4\": 3, \"17\": 3, \"13\": 4, \"2\": 1, \"38\": 2, \"29\": 1, \"9\": 1, \"54\": 1}, \"5\": {\"5\": 120}, \"45\": {\"45\": 109, \"44\": 7, \"5\": 7, \"6\": 2, \"40\": 2, \"50\": 1}, \"49\": {\"49\": 10, \"7\": 2, \"8\": 1, \"54\": 2, \"17\": 2, \"11\": 1, \"15\": 1, \"26\": 1, \"16\": 2, \"36\": 1, \"19\": 1}, \"50\": {\"50\": 130, \"6\": 3, \"12\": 2, \"3\": 1}, \"4\": {\"4\": 56, \"52\": 1, \"14\": 1, \"9\": 15, \"48\": 7, \"1\": 9, \"29\": 14, \"32\": 1, \"56\": 1, \"44\": 1, \"57\": 7, \"40\": 10, \"27\": 2, \"45\": 1, \"30\": 3, \"8\": 4, \"47\": 1, \"5\": 1, \"23\": 1, \"50\": 1, \"55\": 1}, \"43\": {\"7\": 2, \"39\": 3, \"37\": 1, \"43\": 72, \"24\": 7, \"13\": 4, \"17\": 5, \"31\": 3, \"54\": 3, \"36\": 8, \"53\": 5, \"23\": 6, \"27\": 3, \"15\": 2, \"55\": 13, \"10\": 2, \"42\": 1, \"14\": 2, \"25\": 1, \"34\": 1, \"16\": 1, \"51\": 3}, \"41\": {\"52\": 2, \"41\": 10, \"38\": 1, \"36\": 1, \"2\": 1, \"55\": 1, \"8\": 4}, \"37\": {\"7\": 1, \"37\": 19, \"8\": 3, \"41\": 1, \"13\": 2, \"23\": 2, \"24\": 2, \"51\": 1, \"33\": 1, \"20\": 2, \"43\": 2}, \"12\": {\"12\": 90, \"50\": 2}, \"33\": {\"33\": 11, \"36\": 1, \"9\": 1, \"51\": 1, \"42\": 1, \"2\": 5, \"38\": 1, \"55\": 1, \"31\": 1, \"41\": 1, \"8\": 1, \"32\": 1, \"39\": 1, \"7\": 1}, \"7\": {\"41\": 1, \"37\": 1, \"7\": 12, \"8\": 3, \"55\": 2, \"39\": 1, \"31\": 2, \"36\": 2, \"17\": 1, \"48\": 1, \"38\": 1, \"24\": 2, \"13\": 1, \"20\": 1, \"51\": 2, \"52\": 1, \"47\": 1, \"43\": 1}, \"56\": {\"56\": 82, \"47\": 24, \"0\": 2, \"22\": 13, \"48\": 5, \"1\": 5, \"40\": 2, \"57\": 1, \"52\": 2, \"30\": 2, \"14\": 1, \"8\": 1}, \"14\": {\"14\": 13, \"41\": 2, \"56\": 1, \"42\": 1, \"1\": 1, \"57\": 2, \"13\": 1, \"20\": 2, \"36\": 1}, \"52\": {\"52\": 117, \"30\": 2, \"47\": 2, \"21\": 1, \"1\": 1, \"40\": 1}, \"44\": {\"45\": 22, \"5\": 9, \"40\": 3, \"44\": 52, \"22\": 2, \"46\": 4, \"6\": 1, \"0\": 2, \"47\": 1}, \"48\": {\"40\": 3, \"48\": 93, \"0\": 2, \"4\": 2, \"20\": 2, \"1\": 11, \"57\": 10, \"47\": 10, \"56\": 2, \"30\": 7, \"14\": 1, \"9\": 1}, \"20\": {\"48\": 2, \"20\": 115, \"1\": 1, \"8\": 3, \"30\": 1, \"52\": 6}, \"55\": {\"41\": 1, \"54\": 4, \"7\": 2, \"55\": 61, \"32\": 1, \"42\": 1, \"43\": 21, \"17\": 7, \"36\": 10, \"9\": 1, \"57\": 2, \"2\": 2, \"13\": 4, \"29\": 3, \"37\": 1, \"4\": 2, \"53\": 2, \"27\": 7, \"24\": 2, \"51\": 1, \"15\": 1, \"25\": 2, \"31\": 1, \"14\": 1, \"11\": 1, \"23\": 3}, \"32\": {\"32\": 7, \"54\": 2, \"36\": 2, \"41\": 1, \"2\": 1, \"9\": 1, \"39\": 2, \"29\": 4, \"53\": 1, \"14\": 2, \"17\": 1, \"33\": 2, \"38\": 1, \"27\": 1}, \"40\": {\"44\": 8, \"40\": 67, \"45\": 11, \"48\": 5, \"14\": 1, \"47\": 4, \"1\": 2, \"33\": 1, \"0\": 4, \"30\": 11, \"9\": 3, \"5\": 5, \"4\": 7, \"57\": 2, \"29\": 1, \"50\": 2, \"27\": 1, \"36\": 1}, \"54\": {\"54\": 66, \"35\": 2, \"39\": 1, \"16\": 1, \"53\": 5, \"19\": 2, \"23\": 13, \"43\": 3, \"55\": 7, \"24\": 1, \"17\": 2, \"26\": 1, \"49\": 1, \"42\": 2, \"32\": 1}, \"17\": {\"55\": 9, \"17\": 48, \"33\": 2, \"42\": 7, \"36\": 5, \"49\": 2, \"39\": 1, \"29\": 2, \"1\": 1, \"54\": 3, \"7\": 3, \"43\": 4, \"23\": 5, \"40\": 1, \"27\": 2, \"4\": 2, \"31\": 1, \"14\": 1, \"16\": 2, \"11\": 1, \"51\": 1, \"24\": 1}, \"38\": {\"38\": 9, \"41\": 1, \"8\": 2, \"48\": 1, \"13\": 2, \"47\": 2, \"36\": 1, \"2\": 1, \"20\": 1}, \"24\": {\"24\": 39, \"31\": 1, \"36\": 5, \"15\": 3, \"7\": 3, \"34\": 2, \"26\": 1, \"43\": 15, \"39\": 3, \"37\": 3, \"55\": 3, \"53\": 5, \"13\": 2, \"11\": 1, \"51\": 5, \"23\": 1, \"27\": 2, \"16\": 1, \"10\": 1}, \"1\": {\"1\": 39, \"20\": 1, \"48\": 16, \"30\": 7, \"47\": 13, \"40\": 5, \"0\": 2, \"56\": 5, \"52\": 4, \"29\": 4, \"22\": 4, \"4\": 1, \"57\": 5, \"27\": 2, \"9\": 4}, \"6\": {\"6\": 124}, \"34\": {\"34\": 14, \"23\": 3, \"18\": 1, \"15\": 1, \"54\": 2, \"26\": 2, \"49\": 1, \"28\": 2, \"11\": 1, \"35\": 1}, \"11\": {\"11\": 33, \"15\": 17, \"18\": 1, \"16\": 20, \"53\": 14, \"24\": 5, \"31\": 2, \"43\": 8, \"10\": 15, \"23\": 7, \"36\": 1, \"19\": 1, \"26\": 1, \"42\": 1, \"34\": 1, \"37\": 2, \"25\": 1, \"55\": 3, \"51\": 1, \"27\": 2}, \"9\": {\"9\": 55, \"33\": 1, \"40\": 10, \"14\": 1, \"29\": 24, \"57\": 7, \"32\": 3, \"55\": 2, \"48\": 4, \"27\": 13, \"4\": 22, \"43\": 1, \"8\": 2, \"50\": 1, \"1\": 3, \"54\": 1}, \"8\": {\"8\": 106, \"27\": 8, \"57\": 7, \"1\": 1, \"20\": 14, \"52\": 7, \"48\": 1, \"41\": 1, \"47\": 4, \"51\": 1, \"14\": 1, \"4\": 1}, \"22\": {\"22\": 124, \"0\": 3, \"56\": 3, \"30\": 2, \"27\": 1, \"47\": 2, \"44\": 1}, \"26\": {\"26\": 11, \"19\": 1, \"42\": 3, \"28\": 1, \"53\": 2, \"54\": 2, \"23\": 1, \"16\": 1, \"15\": 1, \"36\": 1}, \"23\": {\"24\": 2, \"42\": 2, \"23\": 59, \"16\": 6, \"54\": 6, \"53\": 18, \"43\": 13, \"7\": 1, \"31\": 1, \"55\": 10, \"17\": 4, \"36\": 1, \"25\": 2, \"15\": 3, \"11\": 4, \"19\": 4, \"10\": 4, \"27\": 1, \"26\": 1, \"28\": 2, \"49\": 1, \"18\": 1}, \"10\": {\"10\": 49, \"13\": 2, \"49\": 1, \"53\": 8, \"11\": 10, \"15\": 2, \"51\": 3, \"37\": 1, \"24\": 4, \"43\": 4, \"25\": 5, \"16\": 6, \"8\": 2, \"57\": 1, \"23\": 1, \"36\": 2, \"18\": 3, \"7\": 2, \"55\": 4, \"27\": 1, \"54\": 1}, \"18\": {\"34\": 1, \"18\": 26, \"28\": 4, \"53\": 2, \"16\": 1, \"15\": 2, \"10\": 4, \"25\": 4, \"11\": 2, \"49\": 1, \"54\": 1}, \"13\": {\"13\": 77, \"20\": 4, \"47\": 1, \"51\": 8, \"8\": 8, \"56\": 5, \"48\": 2, \"57\": 2, \"36\": 3, \"17\": 1, \"2\": 1, \"31\": 1, \"9\": 1, \"55\": 1, \"43\": 1}, \"30\": {\"30\": 121, \"57\": 1, \"29\": 1, \"0\": 1, \"52\": 4}, \"42\": {\"31\": 3, \"24\": 2, \"34\": 1, \"42\": 9, \"26\": 2, \"55\": 4, \"39\": 4, \"54\": 3, \"17\": 3, \"53\": 2, \"7\": 1, \"23\": 1, \"35\": 1}, \"31\": {\"24\": 2, \"31\": 7, \"18\": 1, \"7\": 1, \"23\": 1, \"2\": 1, \"43\": 5, \"37\": 4, \"16\": 1, \"55\": 2, \"38\": 1, \"17\": 1, \"13\": 1}, \"46\": {\"46\": 127, \"5\": 1}, \"57\": {\"1\": 5, \"48\": 18, \"0\": 1, \"57\": 67, \"44\": 1, \"9\": 4, \"56\": 3, \"27\": 10, \"30\": 1, \"36\": 2, \"47\": 10, \"20\": 12, \"4\": 1, \"29\": 2, \"52\": 4, \"14\": 1}, \"47\": {\"47\": 121, \"52\": 2, \"1\": 3, \"57\": 1, \"30\": 4, \"9\": 2, \"48\": 2, \"27\": 1, \"56\": 2}, \"35\": {\"35\": 22, \"17\": 2, \"36\": 1, \"31\": 1, \"24\": 1, \"19\": 1, \"33\": 1, \"55\": 2, \"34\": 1}, \"15\": {\"19\": 3, \"15\": 44, \"11\": 21, \"25\": 7, \"16\": 21, \"53\": 6, \"55\": 1, \"10\": 12, \"36\": 1, \"24\": 4, \"54\": 1, \"23\": 5, \"57\": 1, \"43\": 3, \"26\": 1, \"49\": 1}, \"25\": {\"19\": 5, \"25\": 62, \"26\": 1, \"16\": 20, \"36\": 2, \"53\": 7, \"43\": 3, \"23\": 4, \"15\": 11, \"13\": 2, \"54\": 1, \"10\": 5, \"11\": 9, \"34\": 1, \"7\": 1, \"28\": 1, \"18\": 1}, \"19\": {\"19\": 127, \"35\": 1, \"25\": 5, \"16\": 1, \"54\": 1, \"18\": 1}, \"51\": {\"47\": 2, \"32\": 1, \"51\": 68, \"20\": 9, \"36\": 7, \"8\": 8, \"13\": 10, \"31\": 1, \"52\": 2, \"48\": 2, \"37\": 1, \"27\": 5, \"43\": 3, \"57\": 2, \"41\": 2, \"23\": 1, \"24\": 2, \"54\": 1, \"29\": 1}, \"53\": {\"53\": 47, \"24\": 9, \"39\": 2, \"13\": 4, \"28\": 3, \"18\": 1, \"31\": 3, \"36\": 4, \"8\": 2, \"10\": 4, \"37\": 3, \"25\": 2, \"11\": 7, \"43\": 11, \"23\": 8, \"51\": 2, \"16\": 7, \"15\": 3, \"19\": 2, \"49\": 2, \"42\": 1, \"34\": 1, \"55\": 4, \"27\": 1, \"20\": 1}, \"21\": {\"21\": 120}, \"39\": {\"42\": 1, \"2\": 1, \"39\": 10, \"51\": 1, \"33\": 3, \"55\": 1, \"13\": 5, \"7\": 1, \"43\": 2, \"41\": 1, \"1\": 1, \"8\": 1}, \"2\": {\"2\": 10, \"8\": 2, \"41\": 2, \"20\": 1, \"27\": 2, \"55\": 1, \"9\": 1, \"17\": 1, \"13\": 1, \"57\": 1, \"51\": 3, \"33\": 2, \"39\": 1, \"1\": 1, \"31\": 1, \"38\": 1, \"47\": 1}, \"16\": {\"53\": 12, \"16\": 61, \"15\": 9, \"25\": 17, \"28\": 1, \"23\": 6, \"18\": 1, \"43\": 7, \"55\": 4, \"24\": 4, \"11\": 18, \"10\": 6, \"26\": 1, \"34\": 1, \"7\": 1, \"54\": 1}, \"0\": {\"0\": 45, \"9\": 1, \"40\": 2}, \"3\": {\"3\": 91, \"6\": 1}, \"27\": {\"33\": 1, \"27\": 65, \"38\": 1, \"48\": 2, \"36\": 7, \"32\": 1, \"1\": 8, \"8\": 15, \"20\": 5, \"9\": 2, \"24\": 1, \"51\": 3, \"4\": 4, \"40\": 2, \"57\": 8, \"55\": 2, \"56\": 2, \"13\": 1, \"17\": 1, \"41\": 3, \"42\": 1, \"2\": 1, \"52\": 1, \"29\": 5}, \"28\": {\"49\": 4, \"28\": 11, \"54\": 1, \"18\": 1, \"15\": 2, \"34\": 2, \"53\": 2, \"26\": 1, \"55\": 1, \"42\": 1, \"10\": 1, \"16\": 1}, \"29\": {\"14\": 2, \"29\": 54, \"38\": 1, \"48\": 5, \"33\": 1, \"39\": 1, \"32\": 3, \"4\": 14, \"7\": 2, \"56\": 1, \"2\": 1, \"36\": 2, \"9\": 16, \"1\": 5, \"55\": 2, \"40\": 3, \"27\": 8, \"8\": 1, \"57\": 4, \"23\": 2}}}, \"per_domain_accuracy\": {\"O_14\": {\"accuracy\": 0.88203125, \"source?\": true}, \"O_20\": {\"accuracy\": 0.9247395833333333, \"source?\": true}, \"O_38\": {\"accuracy\": 0.8953125, \"source?\": true}, \"O_8\": {\"accuracy\": 0.8885416666666667, \"source?\": true}, \"O_50\": {\"accuracy\": 0.90703125, \"source?\": true}, \"O_32\": {\"accuracy\": 0.8807291666666667, \"source?\": true}, \"O_26\": {\"accuracy\": 0.8395833333333333, \"source?\": true}, \"O_44\": {\"accuracy\": 0.84296875, \"source?\": true}, \"C_3\": {\"accuracy\": 0.6133720930232558, \"source?\": false}, \"C_4\": {\"accuracy\": 0.6359848484848485, \"source?\": false}, \"C_5\": {\"accuracy\": 0.6581703910614525, \"source?\": false}, \"C_1\": {\"accuracy\": 0.6606898907103825, \"source?\": false}, \"C_2\": {\"accuracy\": 0.6108757062146892, \"source?\": false}}}, \"history\": {\"epoch_indices\": [1, 2, 3, 4, 5, 6, 7, 8, 9, 10], \"train_label_loss\": [1.063290057384542, 0.72191847135712, 0.40690635787101376, 0.36171974933628614, 0.3457704848377034, 0.339027908645914, 0.3297897610669246, 0.3245025703677952, 0.31854386605638346, 0.31919590954147725], \"source_val_label_loss\": [11.553074836730957, 0.5586403608322144, 0.41467103362083435, 0.36546504497528076, 0.3620660603046417, 0.3301791250705719, 0.34133991599082947, 0.33966773748397827, 0.3279609978199005, 0.33417049050331116], \"target_val_label_loss\": [2273.085205078125, 1279.515625, 805.7278442382812, 407.87152099609375, 455.5790710449219, 559.5748901367188, 426.7428894042969, 409.4280700683594, 602.5980224609375, 800.7225952148438], \"source_val_acc_label\": [0.5034830729166667, 0.8029296875, 0.8501627604166667, 0.8682291666666667, 0.86640625, 0.8826171875, 0.8742513020833333, 0.8767903645833334, 0.8850260416666667, 0.878125], \"target_val_acc_label\": [0.4035388127853881, 0.48005850456621, 0.545126997716895, 0.607769691780822, 0.5940353881278538, 0.6361658105022832, 0.6285673515981736, 0.6282462899543378, 0.610730593607306, 0.6017765410958904]}, \"dataset_metrics\": {\"source\": {\"train\": {\"n_unique_x\": 179200, \"n_unique_y\": 16, \"n_batch/episode\": 6720}, \"val\": {\"n_unique_x\": 38400, \"n_unique_y\": 16, \"n_batch/episode\": 960}, \"test\": {\"n_unique_x\": 38400, \"n_unique_y\": 16, \"n_batch/episode\": 960}}, \"target\": {\"train\": {\"n_unique_x\": 175212, \"n_unique_y\": 58, \"n_batch/episode\": 6322}, \"val\": {\"n_unique_x\": 37196, \"n_unique_y\": 58, \"n_batch/episode\": 876}, \"test\": {\"n_unique_x\": 37634, \"n_unique_y\": 58, \"n_batch/episode\": 891}}}}'"
      ]
     },
     "execution_count": 29,
     "metadata": {},
     "output_type": "execute_result"
    }
   ],
   "source": [
    "json.dumps(experiment)"
   ]
  }
 ],
 "metadata": {
  "celltoolbar": "Tags",
  "kernelspec": {
   "display_name": "Python 3 (ipykernel)",
   "language": "python",
   "name": "python3"
  },
  "language_info": {
   "codemirror_mode": {
    "name": "ipython",
    "version": 3
   },
   "file_extension": ".py",
   "mimetype": "text/x-python",
   "name": "python",
   "nbconvert_exporter": "python",
   "pygments_lexer": "ipython3",
   "version": "3.8.12"
  },
  "papermill": {
   "default_parameters": {},
   "duration": 1794.832263,
   "end_time": "2022-03-28T10:05:19.104262",
   "environment_variables": {},
   "exception": null,
   "input_path": "/root/csc500-main/csc500-notebooks/templates/tl_ptn_template.ipynb",
   "output_path": "trial.ipynb",
   "parameters": {
    "parameters": {
     "BEST_MODEL_PATH": "./best_model.pth",
     "NUM_LOGS_PER_EPOCH": 10,
     "criteria_for_best": "target_accuracy",
     "dataset_seed": 1337,
     "datasets": [
      {
       "domain_prefix": "C_",
       "domains": [
        1,
        2,
        3,
        4,
        5
       ],
       "episode_transforms": [],
       "labels": [
        "1-10.",
        "1-11.",
        "1-15.",
        "1-16.",
        "1-17.",
        "1-18.",
        "1-19.",
        "10-4.",
        "10-7.",
        "11-1.",
        "11-14.",
        "11-17.",
        "11-20.",
        "11-7.",
        "13-20.",
        "13-8.",
        "14-10.",
        "14-11.",
        "14-14.",
        "14-7.",
        "15-1.",
        "15-20.",
        "16-1.",
        "16-16.",
        "17-10.",
        "17-11.",
        "17-2.",
        "19-1.",
        "19-16.",
        "19-19.",
        "19-20.",
        "19-3.",
        "2-10.",
        "2-11.",
        "2-17.",
        "2-18.",
        "2-20.",
        "2-3.",
        "2-4.",
        "2-5.",
        "2-6.",
        "2-7.",
        "2-8.",
        "3-13.",
        "3-18.",
        "3-3.",
        "4-1.",
        "4-10.",
        "4-11.",
        "4-19.",
        "5-5.",
        "6-15.",
        "7-10.",
        "7-14.",
        "8-18.",
        "8-20.",
        "8-3.",
        "8-8."
       ],
       "num_examples_per_domain_per_label": -1,
       "pickle_path": "/root/csc500-main/datasets/cores.stratified_ds.2022A.pkl",
       "source_or_target_dataset": "target",
       "x_transforms": [
        "jitter_256_10",
        "lowpass_+/-10MHz",
        "take_200"
       ]
      },
      {
       "domain_prefix": "O_",
       "domains": [
        32,
        38,
        8,
        44,
        14,
        50,
        20,
        26
       ],
       "episode_transforms": [],
       "labels": [
        "3123D52",
        "3123D65",
        "3123D79",
        "3123D80",
        "3123D54",
        "3123D70",
        "3123D7B",
        "3123D89",
        "3123D58",
        "3123D76",
        "3123D7D",
        "3123EFE",
        "3123D64",
        "3123D78",
        "3123D7E",
        "3124E4A"
       ],
       "num_examples_per_domain_per_label": 2000,
       "pickle_path": "/root/csc500-main/datasets/oracle.Run1_framed_2000Examples_stratified_ds.2022A.pkl",
       "source_or_target_dataset": "source",
       "x_transforms": [
        "jitter_256_10",
        "take_200",
        "resample_20Msps_to_25Msps"
       ]
      }
     ],
     "device": "cuda",
     "experiment_name": "tl_3-jitter10v2:oracle.run1.framed -> cores",
     "lr": 0.0001,
     "n_epoch": 50,
     "n_query": 2,
     "n_shot": 3,
     "n_way": 16,
     "patience": 3,
     "seed": 1337,
     "test_k_factor": 2,
     "torch_default_dtype": "torch.float32",
     "train_k_factor": 3,
     "val_k_factor": 2,
     "x_net": [
      {
       "class": "nnReshape",
       "kargs": {
        "shape": [
         -1,
         1,
         2,
         256
        ]
       }
      },
      {
       "class": "Conv2d",
       "kargs": {
        "bias": false,
        "in_channels": 1,
        "kernel_size": [
         1,
         7
        ],
        "out_channels": 256,
        "padding": [
         0,
         3
        ]
       }
      },
      {
       "class": "ReLU",
       "kargs": {
        "inplace": true
       }
      },
      {
       "class": "BatchNorm2d",
       "kargs": {
        "num_features": 256
       }
      },
      {
       "class": "Conv2d",
       "kargs": {
        "bias": true,
        "in_channels": 256,
        "kernel_size": [
         2,
         7
        ],
        "out_channels": 80,
        "padding": [
         0,
         3
        ]
       }
      },
      {
       "class": "ReLU",
       "kargs": {
        "inplace": true
       }
      },
      {
       "class": "BatchNorm2d",
       "kargs": {
        "num_features": 80
       }
      },
      {
       "class": "Flatten",
       "kargs": {}
      },
      {
       "class": "Linear",
       "kargs": {
        "in_features": 20480,
        "out_features": 256
       }
      },
      {
       "class": "ReLU",
       "kargs": {
        "inplace": true
       }
      },
      {
       "class": "BatchNorm1d",
       "kargs": {
        "num_features": 256
       }
      },
      {
       "class": "Linear",
       "kargs": {
        "in_features": 256,
        "out_features": 256
       }
      }
     ],
     "x_shape": [
      2,
      256
     ]
    }
   },
   "start_time": "2022-03-28T09:35:24.271999",
   "version": "2.3.4"
  }
 },
 "nbformat": 4,
 "nbformat_minor": 5
}