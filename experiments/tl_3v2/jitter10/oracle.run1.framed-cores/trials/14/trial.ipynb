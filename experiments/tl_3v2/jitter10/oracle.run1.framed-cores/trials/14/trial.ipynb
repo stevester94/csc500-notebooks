{
 "cells": [
  {
   "cell_type": "markdown",
   "id": "9fea5f46",
   "metadata": {
    "papermill": {
     "duration": 0.031422,
     "end_time": "2022-03-28T11:49:44.076768",
     "exception": false,
     "start_time": "2022-03-28T11:49:44.045346",
     "status": "completed"
    },
    "tags": []
   },
   "source": [
    "# Transfer Learning Template"
   ]
  },
  {
   "cell_type": "code",
   "execution_count": 1,
   "id": "0902182a",
   "metadata": {
    "execution": {
     "iopub.execute_input": "2022-03-28T11:49:44.138072Z",
     "iopub.status.busy": "2022-03-28T11:49:44.137224Z",
     "iopub.status.idle": "2022-03-28T11:49:46.026184Z",
     "shell.execute_reply": "2022-03-28T11:49:46.025692Z"
    },
    "papermill": {
     "duration": 1.927748,
     "end_time": "2022-03-28T11:49:46.026286",
     "exception": false,
     "start_time": "2022-03-28T11:49:44.098538",
     "status": "completed"
    },
    "tags": []
   },
   "outputs": [],
   "source": [
    "%load_ext autoreload\n",
    "%autoreload 2\n",
    "%matplotlib inline\n",
    "\n",
    "    \n",
    "import os, json, sys, time, random\n",
    "import numpy as np\n",
    "import torch\n",
    "from torch.optim import Adam\n",
    "from  easydict import EasyDict\n",
    "import matplotlib.pyplot as plt\n",
    "\n",
    "from steves_models.steves_ptn import Steves_Prototypical_Network\n",
    "\n",
    "from steves_utils.lazy_iterable_wrapper import Lazy_Iterable_Wrapper\n",
    "from steves_utils.iterable_aggregator import Iterable_Aggregator\n",
    "from steves_utils.ptn_train_eval_test_jig import  PTN_Train_Eval_Test_Jig\n",
    "from steves_utils.torch_sequential_builder import build_sequential\n",
    "from steves_utils.torch_utils import get_dataset_metrics, ptn_confusion_by_domain_over_dataloader\n",
    "from steves_utils.utils_v2 import (per_domain_accuracy_from_confusion, get_datasets_base_path)\n",
    "from steves_utils.PTN.utils import independent_accuracy_assesment\n",
    "\n",
    "from torch.utils.data import DataLoader\n",
    "\n",
    "from steves_utils.stratified_dataset.episodic_accessor import Episodic_Accessor_Factory\n",
    "\n",
    "from steves_utils.ptn_do_report import (\n",
    "    get_loss_curve,\n",
    "    get_results_table,\n",
    "    get_parameters_table,\n",
    "    get_domain_accuracies,\n",
    ")\n",
    "\n",
    "from steves_utils.transforms import get_chained_transform"
   ]
  },
  {
   "cell_type": "markdown",
   "id": "41c840b4",
   "metadata": {
    "papermill": {
     "duration": 0.018546,
     "end_time": "2022-03-28T11:49:46.069162",
     "exception": false,
     "start_time": "2022-03-28T11:49:46.050616",
     "status": "completed"
    },
    "tags": []
   },
   "source": [
    "# Allowed Parameters\n",
    "These are allowed parameters, not defaults\n",
    "Each of these values need to be present in the injected parameters (the notebook will raise an exception if they are not present)\n",
    "\n",
    "Papermill uses the cell tag \"parameters\" to inject the real parameters below this cell.\n",
    "Enable tags to see what I mean"
   ]
  },
  {
   "cell_type": "code",
   "execution_count": 2,
   "id": "fd44eb83",
   "metadata": {
    "execution": {
     "iopub.execute_input": "2022-03-28T11:49:46.110848Z",
     "iopub.status.busy": "2022-03-28T11:49:46.110466Z",
     "iopub.status.idle": "2022-03-28T11:49:46.132611Z",
     "shell.execute_reply": "2022-03-28T11:49:46.131814Z"
    },
    "papermill": {
     "duration": 0.04546,
     "end_time": "2022-03-28T11:49:46.132765",
     "exception": false,
     "start_time": "2022-03-28T11:49:46.087305",
     "status": "completed"
    },
    "tags": []
   },
   "outputs": [],
   "source": [
    "required_parameters = {\n",
    "    \"experiment_name\",\n",
    "    \"lr\",\n",
    "    \"device\",\n",
    "    \"seed\",\n",
    "    \"dataset_seed\",\n",
    "    \"n_shot\",\n",
    "    \"n_query\",\n",
    "    \"n_way\",\n",
    "    \"train_k_factor\",\n",
    "    \"val_k_factor\",\n",
    "    \"test_k_factor\",\n",
    "    \"n_epoch\",\n",
    "    \"patience\",\n",
    "    \"criteria_for_best\",\n",
    "    \"x_net\",\n",
    "    \"datasets\",\n",
    "    \"torch_default_dtype\",\n",
    "    \"NUM_LOGS_PER_EPOCH\",\n",
    "    \"BEST_MODEL_PATH\",\n",
    "    \"x_shape\",\n",
    "}"
   ]
  },
  {
   "cell_type": "code",
   "execution_count": 3,
   "id": "fa3f0049",
   "metadata": {
    "execution": {
     "iopub.execute_input": "2022-03-28T11:49:46.193426Z",
     "iopub.status.busy": "2022-03-28T11:49:46.192524Z",
     "iopub.status.idle": "2022-03-28T11:49:46.212185Z",
     "shell.execute_reply": "2022-03-28T11:49:46.211337Z"
    },
    "papermill": {
     "duration": 0.053231,
     "end_time": "2022-03-28T11:49:46.212339",
     "exception": false,
     "start_time": "2022-03-28T11:49:46.159108",
     "status": "completed"
    },
    "tags": [
     "parameters"
    ]
   },
   "outputs": [],
   "source": [
    "from steves_utils.CORES.utils import (\n",
    "    ALL_NODES,\n",
    "    ALL_NODES_MINIMUM_1000_EXAMPLES,\n",
    "    ALL_DAYS\n",
    ")\n",
    "\n",
    "from steves_utils.ORACLE.utils_v2 import (\n",
    "    ALL_DISTANCES_FEET_NARROWED,\n",
    "    ALL_RUNS,\n",
    "    ALL_SERIAL_NUMBERS,\n",
    ")\n",
    "\n",
    "standalone_parameters = {}\n",
    "standalone_parameters[\"experiment_name\"] = \"STANDALONE PTN\"\n",
    "standalone_parameters[\"lr\"] = 0.001\n",
    "standalone_parameters[\"device\"] = \"cuda\"\n",
    "\n",
    "standalone_parameters[\"seed\"] = 1337\n",
    "standalone_parameters[\"dataset_seed\"] = 1337\n",
    "\n",
    "standalone_parameters[\"n_way\"] = 8\n",
    "standalone_parameters[\"n_shot\"] = 3\n",
    "standalone_parameters[\"n_query\"]  = 2\n",
    "standalone_parameters[\"train_k_factor\"] = 1\n",
    "standalone_parameters[\"val_k_factor\"] = 2\n",
    "standalone_parameters[\"test_k_factor\"] = 2\n",
    "\n",
    "\n",
    "standalone_parameters[\"n_epoch\"] = 50\n",
    "\n",
    "standalone_parameters[\"patience\"] = 10\n",
    "standalone_parameters[\"criteria_for_best\"] = \"source_loss\"\n",
    "\n",
    "standalone_parameters[\"datasets\"] = [\n",
    "    {\n",
    "        \"labels\": ALL_SERIAL_NUMBERS,\n",
    "        \"domains\": ALL_DISTANCES_FEET_NARROWED,\n",
    "        \"num_examples_per_domain_per_label\": 100,\n",
    "        \"pickle_path\": os.path.join(get_datasets_base_path(), \"oracle.Run1_framed_2000Examples_stratified_ds.2022A.pkl\"),\n",
    "        \"source_or_target_dataset\": \"source\",\n",
    "        \"x_transforms\": [\"unit_mag\", \"minus_two\"],\n",
    "        \"episode_transforms\": [],\n",
    "        \"domain_prefix\": \"ORACLE_\"\n",
    "    },\n",
    "    {\n",
    "        \"labels\": ALL_NODES,\n",
    "        \"domains\": ALL_DAYS,\n",
    "        \"num_examples_per_domain_per_label\": 100,\n",
    "        \"pickle_path\": os.path.join(get_datasets_base_path(), \"cores.stratified_ds.2022A.pkl\"),\n",
    "        \"source_or_target_dataset\": \"target\",\n",
    "        \"x_transforms\": [\"unit_power\", \"times_zero\"],\n",
    "        \"episode_transforms\": [],\n",
    "        \"domain_prefix\": \"CORES_\"\n",
    "    }   \n",
    "]\n",
    "\n",
    "standalone_parameters[\"torch_default_dtype\"] = \"torch.float32\" \n",
    "\n",
    "\n",
    "\n",
    "standalone_parameters[\"x_net\"] =     [\n",
    "    {\"class\": \"nnReshape\", \"kargs\": {\"shape\":[-1, 1, 2, 256]}},\n",
    "    {\"class\": \"Conv2d\", \"kargs\": { \"in_channels\":1, \"out_channels\":256, \"kernel_size\":(1,7), \"bias\":False, \"padding\":(0,3), },},\n",
    "    {\"class\": \"ReLU\", \"kargs\": {\"inplace\": True}},\n",
    "    {\"class\": \"BatchNorm2d\", \"kargs\": {\"num_features\":256}},\n",
    "\n",
    "    {\"class\": \"Conv2d\", \"kargs\": { \"in_channels\":256, \"out_channels\":80, \"kernel_size\":(2,7), \"bias\":True, \"padding\":(0,3), },},\n",
    "    {\"class\": \"ReLU\", \"kargs\": {\"inplace\": True}},\n",
    "    {\"class\": \"BatchNorm2d\", \"kargs\": {\"num_features\":80}},\n",
    "    {\"class\": \"Flatten\", \"kargs\": {}},\n",
    "\n",
    "    {\"class\": \"Linear\", \"kargs\": {\"in_features\": 80*256, \"out_features\": 256}}, # 80 units per IQ pair\n",
    "    {\"class\": \"ReLU\", \"kargs\": {\"inplace\": True}},\n",
    "    {\"class\": \"BatchNorm1d\", \"kargs\": {\"num_features\":256}},\n",
    "\n",
    "    {\"class\": \"Linear\", \"kargs\": {\"in_features\": 256, \"out_features\": 256}},\n",
    "]\n",
    "\n",
    "# Parameters relevant to results\n",
    "# These parameters will basically never need to change\n",
    "standalone_parameters[\"NUM_LOGS_PER_EPOCH\"] = 10\n",
    "standalone_parameters[\"BEST_MODEL_PATH\"] = \"./best_model.pth\"\n",
    "\n",
    "\n",
    "\n",
    "\n"
   ]
  },
  {
   "cell_type": "code",
   "execution_count": 4,
   "id": "9a06c8b2",
   "metadata": {
    "execution": {
     "iopub.execute_input": "2022-03-28T11:49:46.273360Z",
     "iopub.status.busy": "2022-03-28T11:49:46.265914Z",
     "iopub.status.idle": "2022-03-28T11:49:46.292563Z",
     "shell.execute_reply": "2022-03-28T11:49:46.291790Z"
    },
    "papermill": {
     "duration": 0.055231,
     "end_time": "2022-03-28T11:49:46.292755",
     "exception": false,
     "start_time": "2022-03-28T11:49:46.237524",
     "status": "completed"
    },
    "tags": [
     "injected-parameters"
    ]
   },
   "outputs": [],
   "source": [
    "# Parameters\n",
    "parameters = {\n",
    "    \"experiment_name\": \"tl_3-jitter10v2:oracle.run1.framed -> cores\",\n",
    "    \"device\": \"cuda\",\n",
    "    \"lr\": 0.0001,\n",
    "    \"x_shape\": [2, 256],\n",
    "    \"n_shot\": 3,\n",
    "    \"n_query\": 2,\n",
    "    \"train_k_factor\": 3,\n",
    "    \"val_k_factor\": 2,\n",
    "    \"test_k_factor\": 2,\n",
    "    \"torch_default_dtype\": \"torch.float32\",\n",
    "    \"n_epoch\": 50,\n",
    "    \"patience\": 3,\n",
    "    \"criteria_for_best\": \"target_accuracy\",\n",
    "    \"x_net\": [\n",
    "        {\"class\": \"nnReshape\", \"kargs\": {\"shape\": [-1, 1, 2, 256]}},\n",
    "        {\n",
    "            \"class\": \"Conv2d\",\n",
    "            \"kargs\": {\n",
    "                \"in_channels\": 1,\n",
    "                \"out_channels\": 256,\n",
    "                \"kernel_size\": [1, 7],\n",
    "                \"bias\": False,\n",
    "                \"padding\": [0, 3],\n",
    "            },\n",
    "        },\n",
    "        {\"class\": \"ReLU\", \"kargs\": {\"inplace\": True}},\n",
    "        {\"class\": \"BatchNorm2d\", \"kargs\": {\"num_features\": 256}},\n",
    "        {\n",
    "            \"class\": \"Conv2d\",\n",
    "            \"kargs\": {\n",
    "                \"in_channels\": 256,\n",
    "                \"out_channels\": 80,\n",
    "                \"kernel_size\": [2, 7],\n",
    "                \"bias\": True,\n",
    "                \"padding\": [0, 3],\n",
    "            },\n",
    "        },\n",
    "        {\"class\": \"ReLU\", \"kargs\": {\"inplace\": True}},\n",
    "        {\"class\": \"BatchNorm2d\", \"kargs\": {\"num_features\": 80}},\n",
    "        {\"class\": \"Flatten\", \"kargs\": {}},\n",
    "        {\"class\": \"Linear\", \"kargs\": {\"in_features\": 20480, \"out_features\": 256}},\n",
    "        {\"class\": \"ReLU\", \"kargs\": {\"inplace\": True}},\n",
    "        {\"class\": \"BatchNorm1d\", \"kargs\": {\"num_features\": 256}},\n",
    "        {\"class\": \"Linear\", \"kargs\": {\"in_features\": 256, \"out_features\": 256}},\n",
    "    ],\n",
    "    \"NUM_LOGS_PER_EPOCH\": 10,\n",
    "    \"BEST_MODEL_PATH\": \"./best_model.pth\",\n",
    "    \"n_way\": 16,\n",
    "    \"datasets\": [\n",
    "        {\n",
    "            \"labels\": [\n",
    "                \"1-10.\",\n",
    "                \"1-11.\",\n",
    "                \"1-15.\",\n",
    "                \"1-16.\",\n",
    "                \"1-17.\",\n",
    "                \"1-18.\",\n",
    "                \"1-19.\",\n",
    "                \"10-4.\",\n",
    "                \"10-7.\",\n",
    "                \"11-1.\",\n",
    "                \"11-14.\",\n",
    "                \"11-17.\",\n",
    "                \"11-20.\",\n",
    "                \"11-7.\",\n",
    "                \"13-20.\",\n",
    "                \"13-8.\",\n",
    "                \"14-10.\",\n",
    "                \"14-11.\",\n",
    "                \"14-14.\",\n",
    "                \"14-7.\",\n",
    "                \"15-1.\",\n",
    "                \"15-20.\",\n",
    "                \"16-1.\",\n",
    "                \"16-16.\",\n",
    "                \"17-10.\",\n",
    "                \"17-11.\",\n",
    "                \"17-2.\",\n",
    "                \"19-1.\",\n",
    "                \"19-16.\",\n",
    "                \"19-19.\",\n",
    "                \"19-20.\",\n",
    "                \"19-3.\",\n",
    "                \"2-10.\",\n",
    "                \"2-11.\",\n",
    "                \"2-17.\",\n",
    "                \"2-18.\",\n",
    "                \"2-20.\",\n",
    "                \"2-3.\",\n",
    "                \"2-4.\",\n",
    "                \"2-5.\",\n",
    "                \"2-6.\",\n",
    "                \"2-7.\",\n",
    "                \"2-8.\",\n",
    "                \"3-13.\",\n",
    "                \"3-18.\",\n",
    "                \"3-3.\",\n",
    "                \"4-1.\",\n",
    "                \"4-10.\",\n",
    "                \"4-11.\",\n",
    "                \"4-19.\",\n",
    "                \"5-5.\",\n",
    "                \"6-15.\",\n",
    "                \"7-10.\",\n",
    "                \"7-14.\",\n",
    "                \"8-18.\",\n",
    "                \"8-20.\",\n",
    "                \"8-3.\",\n",
    "                \"8-8.\",\n",
    "            ],\n",
    "            \"domains\": [1, 2, 3, 4, 5],\n",
    "            \"num_examples_per_domain_per_label\": -1,\n",
    "            \"pickle_path\": \"/root/csc500-main/datasets/cores.stratified_ds.2022A.pkl\",\n",
    "            \"source_or_target_dataset\": \"target\",\n",
    "            \"x_transforms\": [\"jitter_256_10\", \"lowpass_+/-10MHz\", \"take_200\"],\n",
    "            \"episode_transforms\": [],\n",
    "            \"domain_prefix\": \"C_\",\n",
    "        },\n",
    "        {\n",
    "            \"labels\": [\n",
    "                \"3123D52\",\n",
    "                \"3123D65\",\n",
    "                \"3123D79\",\n",
    "                \"3123D80\",\n",
    "                \"3123D54\",\n",
    "                \"3123D70\",\n",
    "                \"3123D7B\",\n",
    "                \"3123D89\",\n",
    "                \"3123D58\",\n",
    "                \"3123D76\",\n",
    "                \"3123D7D\",\n",
    "                \"3123EFE\",\n",
    "                \"3123D64\",\n",
    "                \"3123D78\",\n",
    "                \"3123D7E\",\n",
    "                \"3124E4A\",\n",
    "            ],\n",
    "            \"domains\": [32, 38, 8, 44, 14, 50, 20, 26],\n",
    "            \"num_examples_per_domain_per_label\": 2000,\n",
    "            \"pickle_path\": \"/root/csc500-main/datasets/oracle.Run1_framed_2000Examples_stratified_ds.2022A.pkl\",\n",
    "            \"source_or_target_dataset\": \"source\",\n",
    "            \"x_transforms\": [\"jitter_256_10\", \"take_200\", \"resample_20Msps_to_25Msps\"],\n",
    "            \"episode_transforms\": [],\n",
    "            \"domain_prefix\": \"O_\",\n",
    "        },\n",
    "    ],\n",
    "    \"seed\": 500,\n",
    "    \"dataset_seed\": 500,\n",
    "}\n"
   ]
  },
  {
   "cell_type": "code",
   "execution_count": 5,
   "id": "8fa1cc33",
   "metadata": {
    "execution": {
     "iopub.execute_input": "2022-03-28T11:49:46.345302Z",
     "iopub.status.busy": "2022-03-28T11:49:46.344663Z",
     "iopub.status.idle": "2022-03-28T11:49:46.361792Z",
     "shell.execute_reply": "2022-03-28T11:49:46.360953Z"
    },
    "papermill": {
     "duration": 0.040745,
     "end_time": "2022-03-28T11:49:46.361958",
     "exception": false,
     "start_time": "2022-03-28T11:49:46.321213",
     "status": "completed"
    },
    "tags": []
   },
   "outputs": [],
   "source": [
    "# Set this to True if you want to run this template directly\n",
    "STANDALONE = False\n",
    "if STANDALONE:\n",
    "    print(\"parameters not injected, running with standalone_parameters\")\n",
    "    parameters = standalone_parameters\n",
    "\n",
    "if not 'parameters' in locals() and not 'parameters' in globals():\n",
    "    raise Exception(\"Parameter injection failed\")\n",
    "\n",
    "#Use an easy dict for all the parameters\n",
    "p = EasyDict(parameters)\n",
    "\n",
    "if \"x_shape\" not in p:\n",
    "    p.x_shape = [2,256] # Default to this if we dont supply x_shape\n",
    "\n",
    "\n",
    "supplied_keys = set(p.keys())\n",
    "\n",
    "if  supplied_keys != required_parameters:\n",
    "    print(\"Parameters are incorrect\")\n",
    "    if len(supplied_keys - required_parameters)>0: print(\"Shouldn't have:\", str(supplied_keys - required_parameters))\n",
    "    if len(required_parameters - supplied_keys)>0: print(\"Need to have:\", str(required_parameters - supplied_keys))\n",
    "    raise RuntimeError(\"Parameters are incorrect\")"
   ]
  },
  {
   "cell_type": "code",
   "execution_count": 6,
   "id": "3a028d58",
   "metadata": {
    "execution": {
     "iopub.execute_input": "2022-03-28T11:49:46.412388Z",
     "iopub.status.busy": "2022-03-28T11:49:46.411447Z",
     "iopub.status.idle": "2022-03-28T11:49:46.431611Z",
     "shell.execute_reply": "2022-03-28T11:49:46.430793Z"
    },
    "papermill": {
     "duration": 0.044206,
     "end_time": "2022-03-28T11:49:46.431784",
     "exception": false,
     "start_time": "2022-03-28T11:49:46.387578",
     "status": "completed"
    },
    "tags": []
   },
   "outputs": [],
   "source": [
    "###################################\n",
    "# Set the RNGs and make it all deterministic\n",
    "###################################\n",
    "np.random.seed(p.seed)\n",
    "random.seed(p.seed)\n",
    "torch.manual_seed(p.seed)\n",
    "\n",
    "torch.use_deterministic_algorithms(True) "
   ]
  },
  {
   "cell_type": "code",
   "execution_count": 7,
   "id": "b691acf6",
   "metadata": {
    "execution": {
     "iopub.execute_input": "2022-03-28T11:49:46.485579Z",
     "iopub.status.busy": "2022-03-28T11:49:46.484948Z",
     "iopub.status.idle": "2022-03-28T11:49:46.505961Z",
     "shell.execute_reply": "2022-03-28T11:49:46.505166Z"
    },
    "papermill": {
     "duration": 0.045071,
     "end_time": "2022-03-28T11:49:46.506134",
     "exception": false,
     "start_time": "2022-03-28T11:49:46.461063",
     "status": "completed"
    },
    "tags": []
   },
   "outputs": [],
   "source": [
    "###########################################\n",
    "# The stratified datasets honor this\n",
    "###########################################\n",
    "torch.set_default_dtype(eval(p.torch_default_dtype))"
   ]
  },
  {
   "cell_type": "code",
   "execution_count": 8,
   "id": "b5fba671",
   "metadata": {
    "execution": {
     "iopub.execute_input": "2022-03-28T11:49:46.557343Z",
     "iopub.status.busy": "2022-03-28T11:49:46.556685Z",
     "iopub.status.idle": "2022-03-28T11:49:46.611186Z",
     "shell.execute_reply": "2022-03-28T11:49:46.610858Z"
    },
    "papermill": {
     "duration": 0.077102,
     "end_time": "2022-03-28T11:49:46.611273",
     "exception": false,
     "start_time": "2022-03-28T11:49:46.534171",
     "status": "completed"
    },
    "tags": []
   },
   "outputs": [],
   "source": [
    "###################################\n",
    "# Build the network(s)\n",
    "# Note: It's critical to do this AFTER setting the RNG\n",
    "###################################\n",
    "x_net = build_sequential(p.x_net)"
   ]
  },
  {
   "cell_type": "code",
   "execution_count": 9,
   "id": "5d7e61cc",
   "metadata": {
    "execution": {
     "iopub.execute_input": "2022-03-28T11:49:46.654728Z",
     "iopub.status.busy": "2022-03-28T11:49:46.654328Z",
     "iopub.status.idle": "2022-03-28T11:49:46.678710Z",
     "shell.execute_reply": "2022-03-28T11:49:46.678347Z"
    },
    "papermill": {
     "duration": 0.047942,
     "end_time": "2022-03-28T11:49:46.678779",
     "exception": false,
     "start_time": "2022-03-28T11:49:46.630837",
     "status": "completed"
    },
    "tags": []
   },
   "outputs": [],
   "source": [
    "start_time_secs = time.time()"
   ]
  },
  {
   "cell_type": "code",
   "execution_count": 10,
   "id": "c6b67dfd",
   "metadata": {
    "execution": {
     "iopub.execute_input": "2022-03-28T11:49:46.729234Z",
     "iopub.status.busy": "2022-03-28T11:49:46.728870Z",
     "iopub.status.idle": "2022-03-28T11:49:46.741107Z",
     "shell.execute_reply": "2022-03-28T11:49:46.740746Z"
    },
    "papermill": {
     "duration": 0.042963,
     "end_time": "2022-03-28T11:49:46.741175",
     "exception": false,
     "start_time": "2022-03-28T11:49:46.698212",
     "status": "completed"
    },
    "tags": []
   },
   "outputs": [],
   "source": [
    "p.domains_source = []\n",
    "p.domains_target = []\n",
    "\n",
    "\n",
    "train_original_source = []\n",
    "val_original_source   = []\n",
    "test_original_source  = []\n",
    "\n",
    "train_original_target = []\n",
    "val_original_target   = []\n",
    "test_original_target  = []"
   ]
  },
  {
   "cell_type": "code",
   "execution_count": 11,
   "id": "e3d9c3d3",
   "metadata": {
    "execution": {
     "iopub.execute_input": "2022-03-28T11:49:46.784305Z",
     "iopub.status.busy": "2022-03-28T11:49:46.783664Z",
     "iopub.status.idle": "2022-03-28T11:49:46.804361Z",
     "shell.execute_reply": "2022-03-28T11:49:46.804001Z"
    },
    "papermill": {
     "duration": 0.0435,
     "end_time": "2022-03-28T11:49:46.804435",
     "exception": false,
     "start_time": "2022-03-28T11:49:46.760935",
     "status": "completed"
    },
    "tags": []
   },
   "outputs": [],
   "source": [
    "# global_x_transform_func = lambda x: normalize(x.to(torch.get_default_dtype()), \"unit_power\") # unit_power, unit_mag\n",
    "# global_x_transform_func = lambda x: normalize(x, \"unit_power\") # unit_power, unit_mag"
   ]
  },
  {
   "cell_type": "code",
   "execution_count": 12,
   "id": "acb78fd2",
   "metadata": {
    "execution": {
     "iopub.execute_input": "2022-03-28T11:49:46.856789Z",
     "iopub.status.busy": "2022-03-28T11:49:46.856408Z",
     "iopub.status.idle": "2022-03-28T11:49:46.873626Z",
     "shell.execute_reply": "2022-03-28T11:49:46.873262Z"
    },
    "papermill": {
     "duration": 0.049696,
     "end_time": "2022-03-28T11:49:46.873694",
     "exception": false,
     "start_time": "2022-03-28T11:49:46.823998",
     "status": "completed"
    },
    "tags": []
   },
   "outputs": [],
   "source": [
    "def add_dataset(\n",
    "    labels,\n",
    "    domains,\n",
    "    pickle_path,\n",
    "    x_transforms,\n",
    "    episode_transforms,\n",
    "    domain_prefix,\n",
    "    num_examples_per_domain_per_label,\n",
    "    source_or_target_dataset:str,\n",
    "    iterator_seed=p.seed,\n",
    "    dataset_seed=p.dataset_seed,\n",
    "    n_shot=p.n_shot,\n",
    "    n_way=p.n_way,\n",
    "    n_query=p.n_query,\n",
    "    train_val_test_k_factors=(p.train_k_factor,p.val_k_factor,p.test_k_factor),\n",
    "):\n",
    "   \n",
    "    if x_transforms == []: x_transform = None\n",
    "    else: x_transform = get_chained_transform(x_transforms)\n",
    "    \n",
    "    if episode_transforms == []: episode_transform = None\n",
    "    else: raise Exception(\"episode_transforms not implemented\")\n",
    "    \n",
    "    episode_transform = lambda tup, _prefix=domain_prefix: (_prefix + str(tup[0]), tup[1])\n",
    "\n",
    "\n",
    "    eaf = Episodic_Accessor_Factory(\n",
    "        labels=labels,\n",
    "        domains=domains,\n",
    "        num_examples_per_domain_per_label=num_examples_per_domain_per_label,\n",
    "        iterator_seed=iterator_seed,\n",
    "        dataset_seed=dataset_seed,\n",
    "        n_shot=n_shot,\n",
    "        n_way=n_way,\n",
    "        n_query=n_query,\n",
    "        train_val_test_k_factors=train_val_test_k_factors,\n",
    "        pickle_path=pickle_path,\n",
    "        x_transform_func=x_transform,\n",
    "    )\n",
    "\n",
    "    train, val, test = eaf.get_train(), eaf.get_val(), eaf.get_test()\n",
    "    train = Lazy_Iterable_Wrapper(train, episode_transform)\n",
    "    val = Lazy_Iterable_Wrapper(val, episode_transform)\n",
    "    test = Lazy_Iterable_Wrapper(test, episode_transform)\n",
    "\n",
    "    if source_or_target_dataset==\"source\":\n",
    "        train_original_source.append(train)\n",
    "        val_original_source.append(val)\n",
    "        test_original_source.append(test)\n",
    "\n",
    "        p.domains_source.extend(\n",
    "            [domain_prefix + str(u) for u in domains]\n",
    "        )\n",
    "    elif source_or_target_dataset==\"target\":\n",
    "        train_original_target.append(train)\n",
    "        val_original_target.append(val)\n",
    "        test_original_target.append(test)\n",
    "        p.domains_target.extend(\n",
    "            [domain_prefix + str(u) for u in domains]\n",
    "        )\n",
    "    else:\n",
    "        raise Exception(f\"invalid source_or_target_dataset: {source_or_target_dataset}\")\n",
    "    "
   ]
  },
  {
   "cell_type": "code",
   "execution_count": 13,
   "id": "fe266617",
   "metadata": {
    "execution": {
     "iopub.execute_input": "2022-03-28T11:49:46.924070Z",
     "iopub.status.busy": "2022-03-28T11:49:46.920064Z",
     "iopub.status.idle": "2022-03-28T11:50:51.328951Z",
     "shell.execute_reply": "2022-03-28T11:50:51.329650Z"
    },
    "papermill": {
     "duration": 64.436262,
     "end_time": "2022-03-28T11:50:51.329891",
     "exception": false,
     "start_time": "2022-03-28T11:49:46.893629",
     "status": "completed"
    },
    "tags": []
   },
   "outputs": [],
   "source": [
    "for ds in p.datasets:\n",
    "    add_dataset(**ds)"
   ]
  },
  {
   "cell_type": "code",
   "execution_count": 14,
   "id": "b90d65ac",
   "metadata": {
    "execution": {
     "iopub.execute_input": "2022-03-28T11:50:51.383564Z",
     "iopub.status.busy": "2022-03-28T11:50:51.382802Z",
     "iopub.status.idle": "2022-03-28T11:50:51.407625Z",
     "shell.execute_reply": "2022-03-28T11:50:51.406793Z"
    },
    "papermill": {
     "duration": 0.048512,
     "end_time": "2022-03-28T11:50:51.407783",
     "exception": false,
     "start_time": "2022-03-28T11:50:51.359271",
     "status": "completed"
    },
    "tags": []
   },
   "outputs": [],
   "source": [
    "# from steves_utils.CORES.utils import (\n",
    "#     ALL_NODES,\n",
    "#     ALL_NODES_MINIMUM_1000_EXAMPLES,\n",
    "#     ALL_DAYS\n",
    "# )\n",
    "\n",
    "# add_dataset(\n",
    "#     labels=ALL_NODES,\n",
    "#     domains = ALL_DAYS,\n",
    "#     num_examples_per_domain_per_label=100,\n",
    "#     pickle_path=os.path.join(get_datasets_base_path(), \"cores.stratified_ds.2022A.pkl\"),\n",
    "#     source_or_target_dataset=\"target\",\n",
    "#     x_transform_func=global_x_transform_func,\n",
    "#     domain_modifier=lambda u: f\"cores_{u}\"\n",
    "# )"
   ]
  },
  {
   "cell_type": "code",
   "execution_count": 15,
   "id": "76db484d",
   "metadata": {
    "execution": {
     "iopub.execute_input": "2022-03-28T11:50:51.456735Z",
     "iopub.status.busy": "2022-03-28T11:50:51.455630Z",
     "iopub.status.idle": "2022-03-28T11:50:51.474300Z",
     "shell.execute_reply": "2022-03-28T11:50:51.473456Z"
    },
    "papermill": {
     "duration": 0.040403,
     "end_time": "2022-03-28T11:50:51.474461",
     "exception": false,
     "start_time": "2022-03-28T11:50:51.434058",
     "status": "completed"
    },
    "tags": []
   },
   "outputs": [],
   "source": [
    "# from steves_utils.ORACLE.utils_v2 import (\n",
    "#     ALL_DISTANCES_FEET,\n",
    "#     ALL_RUNS,\n",
    "#     ALL_SERIAL_NUMBERS,\n",
    "# )\n",
    "\n",
    "\n",
    "# add_dataset(\n",
    "#     labels=ALL_SERIAL_NUMBERS,\n",
    "#     domains = list(set(ALL_DISTANCES_FEET) - {2,62}),\n",
    "#     num_examples_per_domain_per_label=100,\n",
    "#     pickle_path=os.path.join(get_datasets_base_path(), \"oracle.Run2_framed_2000Examples_stratified_ds.2022A.pkl\"),\n",
    "#     source_or_target_dataset=\"source\",\n",
    "#     x_transform_func=global_x_transform_func,\n",
    "#     domain_modifier=lambda u: f\"oracle1_{u}\"\n",
    "# )\n"
   ]
  },
  {
   "cell_type": "code",
   "execution_count": 16,
   "id": "97dea9d2",
   "metadata": {
    "execution": {
     "iopub.execute_input": "2022-03-28T11:50:51.529148Z",
     "iopub.status.busy": "2022-03-28T11:50:51.527776Z",
     "iopub.status.idle": "2022-03-28T11:50:51.550076Z",
     "shell.execute_reply": "2022-03-28T11:50:51.549364Z"
    },
    "papermill": {
     "duration": 0.047079,
     "end_time": "2022-03-28T11:50:51.550234",
     "exception": false,
     "start_time": "2022-03-28T11:50:51.503155",
     "status": "completed"
    },
    "tags": []
   },
   "outputs": [],
   "source": [
    "# from steves_utils.ORACLE.utils_v2 import (\n",
    "#     ALL_DISTANCES_FEET,\n",
    "#     ALL_RUNS,\n",
    "#     ALL_SERIAL_NUMBERS,\n",
    "# )\n",
    "\n",
    "\n",
    "# add_dataset(\n",
    "#     labels=ALL_SERIAL_NUMBERS,\n",
    "#     domains = list(set(ALL_DISTANCES_FEET) - {2,62,56}),\n",
    "#     num_examples_per_domain_per_label=100,\n",
    "#     pickle_path=os.path.join(get_datasets_base_path(), \"oracle.Run2_framed_2000Examples_stratified_ds.2022A.pkl\"),\n",
    "#     source_or_target_dataset=\"source\",\n",
    "#     x_transform_func=global_x_transform_func,\n",
    "#     domain_modifier=lambda u: f\"oracle2_{u}\"\n",
    "# )"
   ]
  },
  {
   "cell_type": "code",
   "execution_count": 17,
   "id": "6f289866",
   "metadata": {
    "execution": {
     "iopub.execute_input": "2022-03-28T11:50:51.600948Z",
     "iopub.status.busy": "2022-03-28T11:50:51.600577Z",
     "iopub.status.idle": "2022-03-28T11:50:51.622313Z",
     "shell.execute_reply": "2022-03-28T11:50:51.621568Z"
    },
    "papermill": {
     "duration": 0.046232,
     "end_time": "2022-03-28T11:50:51.622470",
     "exception": false,
     "start_time": "2022-03-28T11:50:51.576238",
     "status": "completed"
    },
    "tags": []
   },
   "outputs": [],
   "source": [
    "# add_dataset(\n",
    "#     labels=list(range(19)),\n",
    "#     domains = [0,1,2],\n",
    "#     num_examples_per_domain_per_label=100,\n",
    "#     pickle_path=os.path.join(get_datasets_base_path(), \"metehan.stratified_ds.2022A.pkl\"),\n",
    "#     source_or_target_dataset=\"target\",\n",
    "#     x_transform_func=global_x_transform_func,\n",
    "#     domain_modifier=lambda u: f\"met_{u}\"\n",
    "# )"
   ]
  },
  {
   "cell_type": "code",
   "execution_count": 18,
   "id": "86a863c3",
   "metadata": {
    "execution": {
     "iopub.execute_input": "2022-03-28T11:50:51.676090Z",
     "iopub.status.busy": "2022-03-28T11:50:51.675061Z",
     "iopub.status.idle": "2022-03-28T11:50:51.697952Z",
     "shell.execute_reply": "2022-03-28T11:50:51.697204Z"
    },
    "papermill": {
     "duration": 0.047078,
     "end_time": "2022-03-28T11:50:51.698108",
     "exception": false,
     "start_time": "2022-03-28T11:50:51.651030",
     "status": "completed"
    },
    "tags": []
   },
   "outputs": [],
   "source": [
    "# # from steves_utils.wisig.utils import (\n",
    "# #     ALL_NODES_MINIMUM_100_EXAMPLES,\n",
    "# #     ALL_NODES_MINIMUM_500_EXAMPLES,\n",
    "# #     ALL_NODES_MINIMUM_1000_EXAMPLES,\n",
    "# #     ALL_DAYS\n",
    "# # )\n",
    "\n",
    "# import steves_utils.wisig.utils as wisig\n",
    "\n",
    "\n",
    "# add_dataset(\n",
    "#     labels=wisig.ALL_NODES_MINIMUM_100_EXAMPLES,\n",
    "#     domains = wisig.ALL_DAYS,\n",
    "#     num_examples_per_domain_per_label=100,\n",
    "#     pickle_path=os.path.join(get_datasets_base_path(), \"wisig.node3-19.stratified_ds.2022A.pkl\"),\n",
    "#     source_or_target_dataset=\"target\",\n",
    "#     x_transform_func=global_x_transform_func,\n",
    "#     domain_modifier=lambda u: f\"wisig_{u}\"\n",
    "# )"
   ]
  },
  {
   "cell_type": "code",
   "execution_count": 19,
   "id": "fd5442bc",
   "metadata": {
    "execution": {
     "iopub.execute_input": "2022-03-28T11:50:51.757690Z",
     "iopub.status.busy": "2022-03-28T11:50:51.757109Z",
     "iopub.status.idle": "2022-03-28T11:50:51.778372Z",
     "shell.execute_reply": "2022-03-28T11:50:51.777568Z"
    },
    "papermill": {
     "duration": 0.05165,
     "end_time": "2022-03-28T11:50:51.778529",
     "exception": false,
     "start_time": "2022-03-28T11:50:51.726879",
     "status": "completed"
    },
    "tags": []
   },
   "outputs": [],
   "source": [
    "###################################\n",
    "# Build the dataset\n",
    "###################################\n",
    "train_original_source = Iterable_Aggregator(train_original_source, p.seed)\n",
    "val_original_source = Iterable_Aggregator(val_original_source, p.seed)\n",
    "test_original_source = Iterable_Aggregator(test_original_source, p.seed)\n",
    "\n",
    "\n",
    "train_original_target = Iterable_Aggregator(train_original_target, p.seed)\n",
    "val_original_target = Iterable_Aggregator(val_original_target, p.seed)\n",
    "test_original_target = Iterable_Aggregator(test_original_target, p.seed)\n",
    "\n",
    "# For CNN We only use X and Y. And we only train on the source.\n",
    "# Properly form the data using a transform lambda and Lazy_Iterable_Wrapper. Finally wrap them in a dataloader\n",
    "\n",
    "transform_lambda = lambda ex: ex[1] # Original is (<domain>, <episode>) so we strip down to episode only\n",
    "\n",
    "train_processed_source = Lazy_Iterable_Wrapper(train_original_source, transform_lambda)\n",
    "val_processed_source   = Lazy_Iterable_Wrapper(val_original_source, transform_lambda)\n",
    "test_processed_source  = Lazy_Iterable_Wrapper(test_original_source, transform_lambda)\n",
    "\n",
    "train_processed_target = Lazy_Iterable_Wrapper(train_original_target, transform_lambda)\n",
    "val_processed_target   = Lazy_Iterable_Wrapper(val_original_target, transform_lambda)\n",
    "test_processed_target  = Lazy_Iterable_Wrapper(test_original_target, transform_lambda)\n",
    "\n",
    "datasets = EasyDict({\n",
    "    \"source\": {\n",
    "        \"original\": {\"train\":train_original_source, \"val\":val_original_source, \"test\":test_original_source},\n",
    "        \"processed\": {\"train\":train_processed_source, \"val\":val_processed_source, \"test\":test_processed_source}\n",
    "    },\n",
    "    \"target\": {\n",
    "        \"original\": {\"train\":train_original_target, \"val\":val_original_target, \"test\":test_original_target},\n",
    "        \"processed\": {\"train\":train_processed_target, \"val\":val_processed_target, \"test\":test_processed_target}\n",
    "    },\n",
    "})"
   ]
  },
  {
   "cell_type": "code",
   "execution_count": 20,
   "id": "5b3c01fc",
   "metadata": {
    "execution": {
     "iopub.execute_input": "2022-03-28T11:50:51.836066Z",
     "iopub.status.busy": "2022-03-28T11:50:51.834436Z",
     "iopub.status.idle": "2022-03-28T11:51:05.893059Z",
     "shell.execute_reply": "2022-03-28T11:51:05.892347Z"
    },
    "papermill": {
     "duration": 14.085788,
     "end_time": "2022-03-28T11:51:05.893240",
     "exception": false,
     "start_time": "2022-03-28T11:50:51.807452",
     "status": "completed"
    },
    "tags": []
   },
   "outputs": [
    {
     "name": "stdout",
     "output_type": "stream",
     "text": [
      "{'O_26', 'O_20', 'O_14', 'O_50', 'O_38', 'O_8', 'O_32', 'O_44'}\n"
     ]
    },
    {
     "name": "stdout",
     "output_type": "stream",
     "text": [
      "{'C_1', 'C_2', 'C_3', 'C_4', 'C_5'}\n"
     ]
    },
    {
     "name": "stdout",
     "output_type": "stream",
     "text": [
      "tensor([[[0., 0., 0.,  ..., 0., 0., 0.],\n",
      "         [0., 0., 0.,  ..., 0., 0., 0.]],\n",
      "\n",
      "        [[0., 0., 0.,  ..., 0., 0., 0.],\n",
      "         [0., 0., 0.,  ..., 0., 0., 0.]],\n",
      "\n",
      "        [[0., 0., 0.,  ..., 0., 0., 0.],\n",
      "         [0., 0., 0.,  ..., 0., 0., 0.]],\n",
      "\n",
      "        ...,\n",
      "\n",
      "        [[0., 0., 0.,  ..., 0., 0., 0.],\n",
      "         [0., 0., 0.,  ..., 0., 0., 0.]],\n",
      "\n",
      "        [[0., 0., 0.,  ..., 0., 0., 0.],\n",
      "         [0., 0., 0.,  ..., 0., 0., 0.]],\n",
      "\n",
      "        [[0., 0., 0.,  ..., 0., 0., 0.],\n",
      "         [0., 0., 0.,  ..., 0., 0., 0.]]])\n"
     ]
    }
   ],
   "source": [
    "from steves_utils.transforms import get_average_magnitude, get_average_power\n",
    "\n",
    "print(set([u for u,_ in val_original_source]))\n",
    "print(set([u for u,_ in val_original_target]))\n",
    "\n",
    "s_x, s_y, q_x, q_y, _ = next(iter(train_processed_source))\n",
    "print(s_x)\n",
    "\n",
    "# for ds in [\n",
    "#     train_processed_source,\n",
    "#     val_processed_source,\n",
    "#     test_processed_source,\n",
    "#     train_processed_target,\n",
    "#     val_processed_target,\n",
    "#     test_processed_target\n",
    "# ]:\n",
    "#     for s_x, s_y, q_x, q_y, _ in ds:\n",
    "#         for X in (s_x, q_x):\n",
    "#             for x in X:\n",
    "#                 assert np.isclose(get_average_magnitude(x.numpy()), 1.0)\n",
    "#                 assert np.isclose(get_average_power(x.numpy()), 1.0)\n",
    "                "
   ]
  },
  {
   "cell_type": "code",
   "execution_count": 21,
   "id": "bbdacba1",
   "metadata": {
    "execution": {
     "iopub.execute_input": "2022-03-28T11:51:05.954085Z",
     "iopub.status.busy": "2022-03-28T11:51:05.953269Z",
     "iopub.status.idle": "2022-03-28T11:51:06.069222Z",
     "shell.execute_reply": "2022-03-28T11:51:06.069887Z"
    },
    "papermill": {
     "duration": 0.146406,
     "end_time": "2022-03-28T11:51:06.070081",
     "exception": false,
     "start_time": "2022-03-28T11:51:05.923675",
     "status": "completed"
    },
    "tags": []
   },
   "outputs": [
    {
     "name": "stdout",
     "output_type": "stream",
     "text": [
      "(2, 256)\n"
     ]
    }
   ],
   "source": [
    "###################################\n",
    "# Build the model\n",
    "###################################\n",
    "# easfsl only wants a tuple for the shape\n",
    "model = Steves_Prototypical_Network(x_net, device=p.device, x_shape=tuple(p.x_shape))\n",
    "optimizer = Adam(params=model.parameters(), lr=p.lr)"
   ]
  },
  {
   "cell_type": "code",
   "execution_count": 22,
   "id": "22b39ac5",
   "metadata": {
    "execution": {
     "iopub.execute_input": "2022-03-28T11:51:06.122079Z",
     "iopub.status.busy": "2022-03-28T11:51:06.121450Z",
     "iopub.status.idle": "2022-03-28T12:08:36.496885Z",
     "shell.execute_reply": "2022-03-28T12:08:36.496537Z"
    },
    "papermill": {
     "duration": 1050.401057,
     "end_time": "2022-03-28T12:08:36.496972",
     "exception": false,
     "start_time": "2022-03-28T11:51:06.095915",
     "status": "completed"
    },
    "tags": []
   },
   "outputs": [
    {
     "name": "stdout",
     "output_type": "stream",
     "text": [
      "epoch: 1, [batch: 1 / 6720], examples_per_second: 32.5509, train_label_loss: 2.7939, \n"
     ]
    },
    {
     "name": "stdout",
     "output_type": "stream",
     "text": [
      "epoch: 1, [batch: 672 / 6720], examples_per_second: 3797.4720, train_label_loss: 1.1015, \n"
     ]
    },
    {
     "name": "stdout",
     "output_type": "stream",
     "text": [
      "epoch: 1, [batch: 1344 / 6720], examples_per_second: 3930.8183, train_label_loss: 0.9497, \n"
     ]
    },
    {
     "name": "stdout",
     "output_type": "stream",
     "text": [
      "epoch: 1, [batch: 2016 / 6720], examples_per_second: 3903.3920, train_label_loss: 0.8282, \n"
     ]
    },
    {
     "name": "stdout",
     "output_type": "stream",
     "text": [
      "epoch: 1, [batch: 2688 / 6720], examples_per_second: 3827.5967, train_label_loss: 1.4284, \n"
     ]
    },
    {
     "name": "stdout",
     "output_type": "stream",
     "text": [
      "epoch: 1, [batch: 3360 / 6720], examples_per_second: 3764.5879, train_label_loss: 1.0169, \n"
     ]
    },
    {
     "name": "stdout",
     "output_type": "stream",
     "text": [
      "epoch: 1, [batch: 4032 / 6720], examples_per_second: 4173.9434, train_label_loss: 1.3706, \n"
     ]
    },
    {
     "name": "stdout",
     "output_type": "stream",
     "text": [
      "epoch: 1, [batch: 4704 / 6720], examples_per_second: 4282.1287, train_label_loss: 1.4315, \n"
     ]
    },
    {
     "name": "stdout",
     "output_type": "stream",
     "text": [
      "epoch: 1, [batch: 5376 / 6720], examples_per_second: 4359.0147, train_label_loss: 1.4866, \n"
     ]
    },
    {
     "name": "stdout",
     "output_type": "stream",
     "text": [
      "epoch: 1, [batch: 6048 / 6720], examples_per_second: 3915.5286, train_label_loss: 0.8218, \n"
     ]
    },
    {
     "name": "stdout",
     "output_type": "stream",
     "text": [
      "=============================================================\n",
      "epoch: 1, source_val_acc_label: 0.4874, target_val_acc_label: 0.2034, source_val_label_loss: 150.3299, target_val_label_loss: 4505.3892, \n",
      "=============================================================\n"
     ]
    },
    {
     "name": "stdout",
     "output_type": "stream",
     "text": [
      "New best\n"
     ]
    },
    {
     "name": "stdout",
     "output_type": "stream",
     "text": [
      "epoch: 2, [batch: 1 / 6720], examples_per_second: 3.9524, train_label_loss: 0.7839, \n"
     ]
    },
    {
     "name": "stdout",
     "output_type": "stream",
     "text": [
      "epoch: 2, [batch: 672 / 6720], examples_per_second: 3975.3891, train_label_loss: 0.9334, \n"
     ]
    },
    {
     "name": "stdout",
     "output_type": "stream",
     "text": [
      "epoch: 2, [batch: 1344 / 6720], examples_per_second: 4026.7836, train_label_loss: 1.2030, \n"
     ]
    },
    {
     "name": "stdout",
     "output_type": "stream",
     "text": [
      "epoch: 2, [batch: 2016 / 6720], examples_per_second: 3964.1087, train_label_loss: 0.6612, \n"
     ]
    },
    {
     "name": "stdout",
     "output_type": "stream",
     "text": [
      "epoch: 2, [batch: 2688 / 6720], examples_per_second: 3904.3043, train_label_loss: 0.5102, \n"
     ]
    },
    {
     "name": "stdout",
     "output_type": "stream",
     "text": [
      "epoch: 2, [batch: 3360 / 6720], examples_per_second: 4041.9381, train_label_loss: 0.6125, \n"
     ]
    },
    {
     "name": "stdout",
     "output_type": "stream",
     "text": [
      "epoch: 2, [batch: 4032 / 6720], examples_per_second: 4287.8441, train_label_loss: 0.6999, \n"
     ]
    },
    {
     "name": "stdout",
     "output_type": "stream",
     "text": [
      "epoch: 2, [batch: 4704 / 6720], examples_per_second: 4382.5708, train_label_loss: 0.7880, \n"
     ]
    },
    {
     "name": "stdout",
     "output_type": "stream",
     "text": [
      "epoch: 2, [batch: 5376 / 6720], examples_per_second: 4588.9590, train_label_loss: 0.4615, \n"
     ]
    },
    {
     "name": "stdout",
     "output_type": "stream",
     "text": [
      "epoch: 2, [batch: 6048 / 6720], examples_per_second: 3916.5561, train_label_loss: 0.4143, \n"
     ]
    },
    {
     "name": "stdout",
     "output_type": "stream",
     "text": [
      "=============================================================\n",
      "epoch: 2, source_val_acc_label: 0.7843, target_val_acc_label: 0.6688, source_val_label_loss: 0.6071, target_val_label_loss: 276.2951, \n",
      "=============================================================\n"
     ]
    },
    {
     "name": "stdout",
     "output_type": "stream",
     "text": [
      "New best\n"
     ]
    },
    {
     "name": "stdout",
     "output_type": "stream",
     "text": [
      "epoch: 3, [batch: 1 / 6720], examples_per_second: 4.0133, train_label_loss: 1.1652, \n"
     ]
    },
    {
     "name": "stdout",
     "output_type": "stream",
     "text": [
      "epoch: 3, [batch: 672 / 6720], examples_per_second: 3846.0767, train_label_loss: 0.4764, \n"
     ]
    },
    {
     "name": "stdout",
     "output_type": "stream",
     "text": [
      "epoch: 3, [batch: 1344 / 6720], examples_per_second: 3928.3131, train_label_loss: 0.5028, \n"
     ]
    },
    {
     "name": "stdout",
     "output_type": "stream",
     "text": [
      "epoch: 3, [batch: 2016 / 6720], examples_per_second: 3903.5550, train_label_loss: 0.3575, \n"
     ]
    },
    {
     "name": "stdout",
     "output_type": "stream",
     "text": [
      "epoch: 3, [batch: 2688 / 6720], examples_per_second: 3820.6329, train_label_loss: 0.5030, \n"
     ]
    },
    {
     "name": "stdout",
     "output_type": "stream",
     "text": [
      "epoch: 3, [batch: 3360 / 6720], examples_per_second: 3988.5736, train_label_loss: 0.6296, \n"
     ]
    },
    {
     "name": "stdout",
     "output_type": "stream",
     "text": [
      "epoch: 3, [batch: 4032 / 6720], examples_per_second: 4186.7428, train_label_loss: 0.3613, \n"
     ]
    },
    {
     "name": "stdout",
     "output_type": "stream",
     "text": [
      "epoch: 3, [batch: 4704 / 6720], examples_per_second: 4403.4670, train_label_loss: 0.4552, \n"
     ]
    },
    {
     "name": "stdout",
     "output_type": "stream",
     "text": [
      "epoch: 3, [batch: 5376 / 6720], examples_per_second: 4453.4647, train_label_loss: 0.5693, \n"
     ]
    },
    {
     "name": "stdout",
     "output_type": "stream",
     "text": [
      "epoch: 3, [batch: 6048 / 6720], examples_per_second: 4352.8871, train_label_loss: 0.3259, \n"
     ]
    },
    {
     "name": "stdout",
     "output_type": "stream",
     "text": [
      "=============================================================\n",
      "epoch: 3, source_val_acc_label: 0.8610, target_val_acc_label: 0.6721, source_val_label_loss: 0.3985, target_val_label_loss: 439.8920, \n",
      "=============================================================\n"
     ]
    },
    {
     "name": "stdout",
     "output_type": "stream",
     "text": [
      "New best\n"
     ]
    },
    {
     "name": "stdout",
     "output_type": "stream",
     "text": [
      "epoch: 4, [batch: 1 / 6720], examples_per_second: 4.4454, train_label_loss: 0.7271, \n"
     ]
    },
    {
     "name": "stdout",
     "output_type": "stream",
     "text": [
      "epoch: 4, [batch: 672 / 6720], examples_per_second: 4054.7501, train_label_loss: 0.2242, \n"
     ]
    },
    {
     "name": "stdout",
     "output_type": "stream",
     "text": [
      "epoch: 4, [batch: 1344 / 6720], examples_per_second: 4863.0384, train_label_loss: 0.4293, \n"
     ]
    },
    {
     "name": "stdout",
     "output_type": "stream",
     "text": [
      "epoch: 4, [batch: 2016 / 6720], examples_per_second: 4919.6345, train_label_loss: 0.3072, \n"
     ]
    },
    {
     "name": "stdout",
     "output_type": "stream",
     "text": [
      "epoch: 4, [batch: 2688 / 6720], examples_per_second: 4790.9042, train_label_loss: 0.4582, \n"
     ]
    },
    {
     "name": "stdout",
     "output_type": "stream",
     "text": [
      "epoch: 4, [batch: 3360 / 6720], examples_per_second: 5221.2170, train_label_loss: 0.4874, \n"
     ]
    },
    {
     "name": "stdout",
     "output_type": "stream",
     "text": [
      "epoch: 4, [batch: 4032 / 6720], examples_per_second: 4940.2371, train_label_loss: 0.4846, \n"
     ]
    },
    {
     "name": "stdout",
     "output_type": "stream",
     "text": [
      "epoch: 4, [batch: 4704 / 6720], examples_per_second: 5116.6007, train_label_loss: 0.6823, \n"
     ]
    },
    {
     "name": "stdout",
     "output_type": "stream",
     "text": [
      "epoch: 4, [batch: 5376 / 6720], examples_per_second: 5159.5323, train_label_loss: 0.2776, \n"
     ]
    },
    {
     "name": "stdout",
     "output_type": "stream",
     "text": [
      "epoch: 4, [batch: 6048 / 6720], examples_per_second: 5245.2328, train_label_loss: 0.4609, \n"
     ]
    },
    {
     "name": "stdout",
     "output_type": "stream",
     "text": [
      "=============================================================\n",
      "epoch: 4, source_val_acc_label: 0.8489, target_val_acc_label: 0.6625, source_val_label_loss: 0.4183, target_val_label_loss: 504.7403, \n",
      "=============================================================\n"
     ]
    },
    {
     "name": "stdout",
     "output_type": "stream",
     "text": [
      "epoch: 5, [batch: 1 / 6720], examples_per_second: 5.2991, train_label_loss: 0.3841, \n"
     ]
    },
    {
     "name": "stdout",
     "output_type": "stream",
     "text": [
      "epoch: 5, [batch: 672 / 6720], examples_per_second: 4892.0683, train_label_loss: 0.7017, \n"
     ]
    },
    {
     "name": "stdout",
     "output_type": "stream",
     "text": [
      "epoch: 5, [batch: 1344 / 6720], examples_per_second: 4881.3396, train_label_loss: 0.1920, \n"
     ]
    },
    {
     "name": "stdout",
     "output_type": "stream",
     "text": [
      "epoch: 5, [batch: 2016 / 6720], examples_per_second: 4930.4228, train_label_loss: 0.3983, \n"
     ]
    },
    {
     "name": "stdout",
     "output_type": "stream",
     "text": [
      "epoch: 5, [batch: 2688 / 6720], examples_per_second: 4865.2665, train_label_loss: 0.2668, \n"
     ]
    },
    {
     "name": "stdout",
     "output_type": "stream",
     "text": [
      "epoch: 5, [batch: 3360 / 6720], examples_per_second: 4960.4525, train_label_loss: 0.2101, \n"
     ]
    },
    {
     "name": "stdout",
     "output_type": "stream",
     "text": [
      "epoch: 5, [batch: 4032 / 6720], examples_per_second: 4950.4547, train_label_loss: 0.2577, \n"
     ]
    },
    {
     "name": "stdout",
     "output_type": "stream",
     "text": [
      "epoch: 5, [batch: 4704 / 6720], examples_per_second: 5224.3467, train_label_loss: 0.2496, \n"
     ]
    },
    {
     "name": "stdout",
     "output_type": "stream",
     "text": [
      "epoch: 5, [batch: 5376 / 6720], examples_per_second: 5339.7857, train_label_loss: 0.2482, \n"
     ]
    },
    {
     "name": "stdout",
     "output_type": "stream",
     "text": [
      "epoch: 5, [batch: 6048 / 6720], examples_per_second: 5381.1893, train_label_loss: 0.7889, \n"
     ]
    },
    {
     "name": "stdout",
     "output_type": "stream",
     "text": [
      "=============================================================\n",
      "epoch: 5, source_val_acc_label: 0.8739, target_val_acc_label: 0.5870, source_val_label_loss: 0.3525, target_val_label_loss: 939.3584, \n",
      "=============================================================\n"
     ]
    },
    {
     "name": "stdout",
     "output_type": "stream",
     "text": [
      "epoch: 6, [batch: 1 / 6720], examples_per_second: 4.9745, train_label_loss: 0.4604, \n"
     ]
    },
    {
     "name": "stdout",
     "output_type": "stream",
     "text": [
      "epoch: 6, [batch: 672 / 6720], examples_per_second: 3830.5347, train_label_loss: 0.3688, \n"
     ]
    },
    {
     "name": "stdout",
     "output_type": "stream",
     "text": [
      "epoch: 6, [batch: 1344 / 6720], examples_per_second: 3939.1643, train_label_loss: 0.3572, \n"
     ]
    },
    {
     "name": "stdout",
     "output_type": "stream",
     "text": [
      "epoch: 6, [batch: 2016 / 6720], examples_per_second: 3940.6631, train_label_loss: 0.3390, \n"
     ]
    },
    {
     "name": "stdout",
     "output_type": "stream",
     "text": [
      "epoch: 6, [batch: 2688 / 6720], examples_per_second: 3976.1687, train_label_loss: 0.3743, \n"
     ]
    },
    {
     "name": "stdout",
     "output_type": "stream",
     "text": [
      "epoch: 6, [batch: 3360 / 6720], examples_per_second: 3970.6452, train_label_loss: 0.2649, \n"
     ]
    },
    {
     "name": "stdout",
     "output_type": "stream",
     "text": [
      "epoch: 6, [batch: 4032 / 6720], examples_per_second: 3931.7208, train_label_loss: 0.3015, \n"
     ]
    },
    {
     "name": "stdout",
     "output_type": "stream",
     "text": [
      "epoch: 6, [batch: 4704 / 6720], examples_per_second: 3830.7772, train_label_loss: 0.2739, \n"
     ]
    },
    {
     "name": "stdout",
     "output_type": "stream",
     "text": [
      "epoch: 6, [batch: 5376 / 6720], examples_per_second: 3780.5787, train_label_loss: 0.0898, \n"
     ]
    },
    {
     "name": "stdout",
     "output_type": "stream",
     "text": [
      "epoch: 6, [batch: 6048 / 6720], examples_per_second: 4100.3957, train_label_loss: 0.5582, \n"
     ]
    },
    {
     "name": "stdout",
     "output_type": "stream",
     "text": [
      "=============================================================\n",
      "epoch: 6, source_val_acc_label: 0.8470, target_val_acc_label: 0.6651, source_val_label_loss: 0.4267, target_val_label_loss: 484.2709, \n",
      "=============================================================\n"
     ]
    },
    {
     "name": "stdout",
     "output_type": "stream",
     "text": [
      "epoch: 7, [batch: 1 / 6720], examples_per_second: 4.4580, train_label_loss: 0.3606, \n"
     ]
    },
    {
     "name": "stdout",
     "output_type": "stream",
     "text": [
      "epoch: 7, [batch: 672 / 6720], examples_per_second: 3767.7218, train_label_loss: 0.3293, \n"
     ]
    },
    {
     "name": "stdout",
     "output_type": "stream",
     "text": [
      "epoch: 7, [batch: 1344 / 6720], examples_per_second: 3925.9797, train_label_loss: 0.4248, \n"
     ]
    },
    {
     "name": "stdout",
     "output_type": "stream",
     "text": [
      "epoch: 7, [batch: 2016 / 6720], examples_per_second: 3902.2624, train_label_loss: 0.2719, \n"
     ]
    },
    {
     "name": "stdout",
     "output_type": "stream",
     "text": [
      "epoch: 7, [batch: 2688 / 6720], examples_per_second: 3855.8948, train_label_loss: 0.1713, \n"
     ]
    },
    {
     "name": "stdout",
     "output_type": "stream",
     "text": [
      "epoch: 7, [batch: 3360 / 6720], examples_per_second: 3940.6725, train_label_loss: 0.2547, \n"
     ]
    },
    {
     "name": "stdout",
     "output_type": "stream",
     "text": [
      "epoch: 7, [batch: 4032 / 6720], examples_per_second: 4000.7896, train_label_loss: 0.4105, \n"
     ]
    },
    {
     "name": "stdout",
     "output_type": "stream",
     "text": [
      "epoch: 7, [batch: 4704 / 6720], examples_per_second: 3958.9404, train_label_loss: 0.3353, \n"
     ]
    },
    {
     "name": "stdout",
     "output_type": "stream",
     "text": [
      "epoch: 7, [batch: 5376 / 6720], examples_per_second: 3949.1623, train_label_loss: 0.4097, \n"
     ]
    },
    {
     "name": "stdout",
     "output_type": "stream",
     "text": [
      "epoch: 7, [batch: 6048 / 6720], examples_per_second: 4242.4177, train_label_loss: 0.3924, \n"
     ]
    },
    {
     "name": "stdout",
     "output_type": "stream",
     "text": [
      "=============================================================\n",
      "epoch: 7, source_val_acc_label: 0.8827, target_val_acc_label: 0.6684, source_val_label_loss: 0.3332, target_val_label_loss: 591.0931, \n",
      "=============================================================\n"
     ]
    },
    {
     "name": "stdout",
     "output_type": "stream",
     "text": [
      "Patience (3) exhausted\n"
     ]
    }
   ],
   "source": [
    "###################################\n",
    "# train\n",
    "###################################\n",
    "jig = PTN_Train_Eval_Test_Jig(model, p.BEST_MODEL_PATH, p.device)\n",
    "\n",
    "jig.train(\n",
    "    train_iterable=datasets.source.processed.train,\n",
    "    source_val_iterable=datasets.source.processed.val,\n",
    "    target_val_iterable=datasets.target.processed.val,\n",
    "    num_epochs=p.n_epoch,\n",
    "    num_logs_per_epoch=p.NUM_LOGS_PER_EPOCH,\n",
    "    patience=p.patience,\n",
    "    optimizer=optimizer,\n",
    "    criteria_for_best=p.criteria_for_best,\n",
    ")"
   ]
  },
  {
   "cell_type": "code",
   "execution_count": 23,
   "id": "31e8fabf",
   "metadata": {
    "execution": {
     "iopub.execute_input": "2022-03-28T12:08:36.589785Z",
     "iopub.status.busy": "2022-03-28T12:08:36.589230Z",
     "iopub.status.idle": "2022-03-28T12:08:36.622441Z",
     "shell.execute_reply": "2022-03-28T12:08:36.621646Z"
    },
    "papermill": {
     "duration": 0.081978,
     "end_time": "2022-03-28T12:08:36.622600",
     "exception": false,
     "start_time": "2022-03-28T12:08:36.540622",
     "status": "completed"
    },
    "tags": []
   },
   "outputs": [],
   "source": [
    "total_experiment_time_secs = time.time() - start_time_secs"
   ]
  },
  {
   "cell_type": "code",
   "execution_count": 24,
   "id": "87b9595b",
   "metadata": {
    "execution": {
     "iopub.execute_input": "2022-03-28T12:08:36.723040Z",
     "iopub.status.busy": "2022-03-28T12:08:36.722442Z",
     "iopub.status.idle": "2022-03-28T12:11:22.645091Z",
     "shell.execute_reply": "2022-03-28T12:11:22.645812Z"
    },
    "papermill": {
     "duration": 165.97596,
     "end_time": "2022-03-28T12:11:22.646075",
     "exception": false,
     "start_time": "2022-03-28T12:08:36.670115",
     "status": "completed"
    },
    "tags": []
   },
   "outputs": [],
   "source": [
    "###################################\n",
    "# Evaluate the model\n",
    "###################################\n",
    "source_test_label_accuracy, source_test_label_loss = jig.test(datasets.source.processed.test)\n",
    "target_test_label_accuracy, target_test_label_loss = jig.test(datasets.target.processed.test)\n",
    "\n",
    "source_val_label_accuracy, source_val_label_loss = jig.test(datasets.source.processed.val)\n",
    "target_val_label_accuracy, target_val_label_loss = jig.test(datasets.target.processed.val)\n",
    "\n",
    "history = jig.get_history()\n",
    "\n",
    "total_epochs_trained = len(history[\"epoch_indices\"])\n",
    "\n",
    "val_dl = Iterable_Aggregator((datasets.source.original.val,datasets.target.original.val))\n",
    "\n",
    "confusion = ptn_confusion_by_domain_over_dataloader(model, p.device, val_dl)\n",
    "per_domain_accuracy = per_domain_accuracy_from_confusion(confusion)\n",
    "\n",
    "# Add a key to per_domain_accuracy for if it was a source domain\n",
    "for domain, accuracy in per_domain_accuracy.items():\n",
    "    per_domain_accuracy[domain] = {\n",
    "        \"accuracy\": accuracy,\n",
    "        \"source?\": domain in p.domains_source\n",
    "    }\n",
    "\n",
    "# Do an independent accuracy assesment JUST TO BE SURE!\n",
    "# _source_test_label_accuracy = independent_accuracy_assesment(model, datasets.source.processed.test, p.device)\n",
    "# _target_test_label_accuracy = independent_accuracy_assesment(model, datasets.target.processed.test, p.device)\n",
    "# _source_val_label_accuracy = independent_accuracy_assesment(model, datasets.source.processed.val, p.device)\n",
    "# _target_val_label_accuracy = independent_accuracy_assesment(model, datasets.target.processed.val, p.device)\n",
    "\n",
    "# assert(_source_test_label_accuracy == source_test_label_accuracy)\n",
    "# assert(_target_test_label_accuracy == target_test_label_accuracy)\n",
    "# assert(_source_val_label_accuracy == source_val_label_accuracy)\n",
    "# assert(_target_val_label_accuracy == target_val_label_accuracy)\n",
    "\n",
    "experiment = {\n",
    "    \"experiment_name\": p.experiment_name,\n",
    "    \"parameters\": dict(p),\n",
    "    \"results\": {\n",
    "        \"source_test_label_accuracy\": source_test_label_accuracy,\n",
    "        \"source_test_label_loss\": source_test_label_loss,\n",
    "        \"target_test_label_accuracy\": target_test_label_accuracy,\n",
    "        \"target_test_label_loss\": target_test_label_loss,\n",
    "        \"source_val_label_accuracy\": source_val_label_accuracy,\n",
    "        \"source_val_label_loss\": source_val_label_loss,\n",
    "        \"target_val_label_accuracy\": target_val_label_accuracy,\n",
    "        \"target_val_label_loss\": target_val_label_loss,\n",
    "        \"total_epochs_trained\": total_epochs_trained,\n",
    "        \"total_experiment_time_secs\": total_experiment_time_secs,\n",
    "        \"confusion\": confusion,\n",
    "        \"per_domain_accuracy\": per_domain_accuracy,\n",
    "    },\n",
    "    \"history\": history,\n",
    "    \"dataset_metrics\": get_dataset_metrics(datasets, \"ptn\"),\n",
    "}"
   ]
  },
  {
   "cell_type": "code",
   "execution_count": 25,
   "id": "54a21829",
   "metadata": {
    "execution": {
     "iopub.execute_input": "2022-03-28T12:11:22.744459Z",
     "iopub.status.busy": "2022-03-28T12:11:22.744081Z",
     "iopub.status.idle": "2022-03-28T12:11:22.959276Z",
     "shell.execute_reply": "2022-03-28T12:11:22.960000Z"
    },
    "papermill": {
     "duration": 0.264224,
     "end_time": "2022-03-28T12:11:22.960240",
     "exception": false,
     "start_time": "2022-03-28T12:11:22.696016",
     "status": "completed"
    },
    "tags": []
   },
   "outputs": [
    {
     "data": {
      "image/png": "[encoded data removed]",
      "text/plain": [
       "<Figure size 1080x504 with 1 Axes>"
      ]
     },
     "metadata": {
      "needs_background": "light"
     },
     "output_type": "display_data"
    }
   ],
   "source": [
    "ax = get_loss_curve(experiment)\n",
    "plt.show()"
   ]
  },
  {
   "cell_type": "code",
   "execution_count": 26,
   "id": "fd8a0f60",
   "metadata": {
    "execution": {
     "iopub.execute_input": "2022-03-28T12:11:23.059024Z",
     "iopub.status.busy": "2022-03-28T12:11:23.058654Z",
     "iopub.status.idle": "2022-03-28T12:11:23.373843Z",
     "shell.execute_reply": "2022-03-28T12:11:23.374538Z"
    },
    "papermill": {
     "duration": 0.363935,
     "end_time": "2022-03-28T12:11:23.374735",
     "exception": false,
     "start_time": "2022-03-28T12:11:23.010800",
     "status": "completed"
    },
    "tags": []
   },
   "outputs": [
    {
     "data": {
      "text/plain": [
       "<AxesSubplot:title={'center':'Results'}>"
      ]
     },
     "execution_count": 26,
     "metadata": {},
     "output_type": "execute_result"
    },
    {
     "data": {
      "image/png": "[encoded data removed]",
      "text/plain": [
       "<Figure size 1080x504 with 1 Axes>"
      ]
     },
     "metadata": {
      "needs_background": "light"
     },
     "output_type": "display_data"
    }
   ],
   "source": [
    "get_results_table(experiment)"
   ]
  },
  {
   "cell_type": "code",
   "execution_count": 27,
   "id": "cf8dc689",
   "metadata": {
    "execution": {
     "iopub.execute_input": "2022-03-28T12:11:23.474560Z",
     "iopub.status.busy": "2022-03-28T12:11:23.474193Z",
     "iopub.status.idle": "2022-03-28T12:11:23.709125Z",
     "shell.execute_reply": "2022-03-28T12:11:23.709808Z"
    },
    "papermill": {
     "duration": 0.284578,
     "end_time": "2022-03-28T12:11:23.709996",
     "exception": false,
     "start_time": "2022-03-28T12:11:23.425418",
     "status": "completed"
    },
    "tags": []
   },
   "outputs": [
    {
     "data": {
      "text/plain": [
       "<AxesSubplot:title={'center':'Per Domain Validation Accuracy'}, xlabel='domain'>"
      ]
     },
     "execution_count": 27,
     "metadata": {},
     "output_type": "execute_result"
    },
    {
     "data": {
      "image/png": "[encoded data removed]",
      "text/plain": [
       "<Figure size 1080x504 with 1 Axes>"
      ]
     },
     "metadata": {
      "needs_background": "light"
     },
     "output_type": "display_data"
    }
   ],
   "source": [
    "get_domain_accuracies(experiment)"
   ]
  },
  {
   "cell_type": "code",
   "execution_count": 28,
   "id": "a74ae082",
   "metadata": {
    "execution": {
     "iopub.execute_input": "2022-03-28T12:11:23.813883Z",
     "iopub.status.busy": "2022-03-28T12:11:23.813500Z",
     "iopub.status.idle": "2022-03-28T12:11:23.837778Z",
     "shell.execute_reply": "2022-03-28T12:11:23.837031Z"
    },
    "papermill": {
     "duration": 0.076342,
     "end_time": "2022-03-28T12:11:23.837954",
     "exception": false,
     "start_time": "2022-03-28T12:11:23.761612",
     "status": "completed"
    },
    "tags": []
   },
   "outputs": [
    {
     "name": "stdout",
     "output_type": "stream",
     "text": [
      "Source Test Label Accuracy: 0.8631510416666667 Target Test Label Accuracy: 0.6652738764044944\n",
      "Source Val Label Accuracy: 0.86103515625 Target Val Label Accuracy: 0.6721428571428572\n"
     ]
    }
   ],
   "source": [
    "print(\"Source Test Label Accuracy:\", experiment[\"results\"][\"source_test_label_accuracy\"], \"Target Test Label Accuracy:\", experiment[\"results\"][\"target_test_label_accuracy\"])\n",
    "print(\"Source Val Label Accuracy:\", experiment[\"results\"][\"source_val_label_accuracy\"], \"Target Val Label Accuracy:\", experiment[\"results\"][\"target_val_label_accuracy\"])"
   ]
  },
  {
   "cell_type": "code",
   "execution_count": 29,
   "id": "dacca602",
   "metadata": {
    "execution": {
     "iopub.execute_input": "2022-03-28T12:11:23.948359Z",
     "iopub.status.busy": "2022-03-28T12:11:23.947859Z",
     "iopub.status.idle": "2022-03-28T12:11:23.969655Z",
     "shell.execute_reply": "2022-03-28T12:11:23.970331Z"
    },
    "papermill": {
     "duration": 0.074219,
     "end_time": "2022-03-28T12:11:23.970526",
     "exception": false,
     "start_time": "2022-03-28T12:11:23.896307",
     "status": "completed"
    },
    "tags": [
     "experiment_json"
    ]
   },
   "outputs": [
    {
     "data": {
      "text/plain": [
       "'{\"experiment_name\": \"tl_3-jitter10v2:oracle.run1.framed -> cores\", \"parameters\": {\"experiment_name\": \"tl_3-jitter10v2:oracle.run1.framed -> cores\", \"device\": \"cuda\", \"lr\": 0.0001, \"x_shape\": [2, 256], \"n_shot\": 3, \"n_query\": 2, \"train_k_factor\": 3, \"val_k_factor\": 2, \"test_k_factor\": 2, \"torch_default_dtype\": \"torch.float32\", \"n_epoch\": 50, \"patience\": 3, \"criteria_for_best\": \"target_accuracy\", \"x_net\": [{\"class\": \"nnReshape\", \"kargs\": {\"shape\": [-1, 1, 2, 256]}}, {\"class\": \"Conv2d\", \"kargs\": {\"in_channels\": 1, \"out_channels\": 256, \"kernel_size\": [1, 7], \"bias\": false, \"padding\": [0, 3]}}, {\"class\": \"ReLU\", \"kargs\": {\"inplace\": true}}, {\"class\": \"BatchNorm2d\", \"kargs\": {\"num_features\": 256}}, {\"class\": \"Conv2d\", \"kargs\": {\"in_channels\": 256, \"out_channels\": 80, \"kernel_size\": [2, 7], \"bias\": true, \"padding\": [0, 3]}}, {\"class\": \"ReLU\", \"kargs\": {\"inplace\": true}}, {\"class\": \"BatchNorm2d\", \"kargs\": {\"num_features\": 80}}, {\"class\": \"Flatten\", \"kargs\": {}}, {\"class\": \"Linear\", \"kargs\": {\"in_features\": 20480, \"out_features\": 256}}, {\"class\": \"ReLU\", \"kargs\": {\"inplace\": true}}, {\"class\": \"BatchNorm1d\", \"kargs\": {\"num_features\": 256}}, {\"class\": \"Linear\", \"kargs\": {\"in_features\": 256, \"out_features\": 256}}], \"NUM_LOGS_PER_EPOCH\": 10, \"BEST_MODEL_PATH\": \"./best_model.pth\", \"n_way\": 16, \"datasets\": [{\"labels\": [\"1-10.\", \"1-11.\", \"1-15.\", \"1-16.\", \"1-17.\", \"1-18.\", \"1-19.\", \"10-4.\", \"10-7.\", \"11-1.\", \"11-14.\", \"11-17.\", \"11-20.\", \"11-7.\", \"13-20.\", \"13-8.\", \"14-10.\", \"14-11.\", \"14-14.\", \"14-7.\", \"15-1.\", \"15-20.\", \"16-1.\", \"16-16.\", \"17-10.\", \"17-11.\", \"17-2.\", \"19-1.\", \"19-16.\", \"19-19.\", \"19-20.\", \"19-3.\", \"2-10.\", \"2-11.\", \"2-17.\", \"2-18.\", \"2-20.\", \"2-3.\", \"2-4.\", \"2-5.\", \"2-6.\", \"2-7.\", \"2-8.\", \"3-13.\", \"3-18.\", \"3-3.\", \"4-1.\", \"4-10.\", \"4-11.\", \"4-19.\", \"5-5.\", \"6-15.\", \"7-10.\", \"7-14.\", \"8-18.\", \"8-20.\", \"8-3.\", \"8-8.\"], \"domains\": [1, 2, 3, 4, 5], \"num_examples_per_domain_per_label\": -1, \"pickle_path\": \"/root/csc500-main/datasets/cores.stratified_ds.2022A.pkl\", \"source_or_target_dataset\": \"target\", \"x_transforms\": [\"jitter_256_10\", \"lowpass_+/-10MHz\", \"take_200\"], \"episode_transforms\": [], \"domain_prefix\": \"C_\"}, {\"labels\": [\"3123D52\", \"3123D65\", \"3123D79\", \"3123D80\", \"3123D54\", \"3123D70\", \"3123D7B\", \"3123D89\", \"3123D58\", \"3123D76\", \"3123D7D\", \"3123EFE\", \"3123D64\", \"3123D78\", \"3123D7E\", \"3124E4A\"], \"domains\": [32, 38, 8, 44, 14, 50, 20, 26], \"num_examples_per_domain_per_label\": 2000, \"pickle_path\": \"/root/csc500-main/datasets/oracle.Run1_framed_2000Examples_stratified_ds.2022A.pkl\", \"source_or_target_dataset\": \"source\", \"x_transforms\": [\"jitter_256_10\", \"take_200\", \"resample_20Msps_to_25Msps\"], \"episode_transforms\": [], \"domain_prefix\": \"O_\"}], \"seed\": 500, \"dataset_seed\": 500, \"domains_source\": [\"O_32\", \"O_38\", \"O_8\", \"O_44\", \"O_14\", \"O_50\", \"O_20\", \"O_26\"], \"domains_target\": [\"C_1\", \"C_2\", \"C_3\", \"C_4\", \"C_5\"]}, \"results\": {\"source_test_label_accuracy\": 0.8631510416666667, \"source_test_label_loss\": 0.3925156891345978, \"target_test_label_accuracy\": 0.6652738764044944, \"target_test_label_loss\": 447.16790771484375, \"source_val_label_accuracy\": 0.86103515625, \"source_val_label_loss\": 0.3984706997871399, \"target_val_label_accuracy\": 0.6721428571428572, \"target_val_label_loss\": 439.8919982910156, \"total_epochs_trained\": 7, \"total_experiment_time_secs\": 1129.9424970149994, \"confusion\": {\"O_50\": {\"7\": {\"7\": 222, \"5\": 15, \"4\": 3}, \"10\": {\"10\": 236, \"8\": 2, \"0\": 2}, \"0\": {\"0\": 229, \"2\": 10, \"10\": 1}, \"11\": {\"11\": 236, \"12\": 1, \"9\": 3}, \"2\": {\"2\": 225, \"0\": 15}, \"14\": {\"14\": 240}, \"9\": {\"11\": 17, \"9\": 204, \"12\": 18, \"15\": 1}, \"13\": {\"13\": 239, \"1\": 1}, \"8\": {\"8\": 240}, \"15\": {\"15\": 228, \"6\": 11, \"11\": 1}, \"4\": {\"4\": 197, \"15\": 11, \"5\": 13, \"6\": 4, \"7\": 15}, \"5\": {\"4\": 11, \"7\": 66, \"5\": 112, \"15\": 4, \"13\": 4, \"6\": 42, \"1\": 1}, \"3\": {\"3\": 240}, \"1\": {\"1\": 236, \"13\": 4}, \"6\": {\"6\": 196, \"5\": 32, \"15\": 12}, \"12\": {\"12\": 225, \"9\": 13, \"11\": 2}}, \"O_14\": {\"14\": {\"13\": 30, \"14\": 191, \"2\": 11, \"3\": 3, \"6\": 5}, \"6\": {\"6\": 152, \"13\": 66, \"2\": 4, \"14\": 16, \"3\": 2}, \"5\": {\"5\": 228, \"2\": 10, \"14\": 1, \"4\": 1}, \"15\": {\"15\": 240}, \"11\": {\"11\": 240}, \"8\": {\"8\": 240}, \"12\": {\"12\": 240}, \"1\": {\"1\": 240}, \"2\": {\"13\": 10, \"4\": 23, \"3\": 16, \"5\": 34, \"2\": 104, \"14\": 39, \"6\": 14}, \"13\": {\"14\": 80, \"13\": 48, \"6\": 78, \"2\": 19, \"15\": 13, \"4\": 1, \"0\": 1}, \"3\": {\"3\": 236, \"0\": 1, \"14\": 2, \"13\": 1}, \"0\": {\"0\": 222, \"10\": 5, \"3\": 13}, \"9\": {\"9\": 240}, \"4\": {\"4\": 236, \"5\": 4}, \"7\": {\"7\": 239, \"5\": 1}, \"10\": {\"10\": 240}}, \"O_32\": {\"4\": {\"4\": 209, \"2\": 29, \"13\": 2}, \"14\": {\"14\": 145, \"7\": 55, \"5\": 17, \"8\": 4, \"2\": 11, \"3\": 1, \"0\": 5, \"4\": 2}, \"5\": {\"5\": 131, \"7\": 60, \"0\": 18, \"8\": 16, \"14\": 15}, \"10\": {\"10\": 240}, \"13\": {\"4\": 17, \"13\": 195, \"3\": 23, \"11\": 5}, \"9\": {\"9\": 233, \"4\": 2, \"2\": 2, \"12\": 3}, \"6\": {\"6\": 240}, \"3\": {\"3\": 236, \"13\": 4}, \"15\": {\"15\": 239, \"8\": 1}, \"7\": {\"0\": 11, \"7\": 180, \"5\": 21, \"14\": 27, \"8\": 1}, \"12\": {\"12\": 240}, \"8\": {\"8\": 184, \"14\": 3, \"5\": 11, \"0\": 35, \"7\": 5, \"2\": 1, \"4\": 1}, \"11\": {\"11\": 240}, \"2\": {\"2\": 215, \"4\": 25}, \"1\": {\"1\": 240}, \"0\": {\"8\": 25, \"0\": 181, \"5\": 11, \"7\": 19, \"14\": 4}}, \"O_44\": {\"8\": {\"0\": 64, \"8\": 149, \"15\": 12, \"5\": 15}, \"11\": {\"11\": 240}, \"14\": {\"14\": 165, \"4\": 50, \"15\": 12, \"5\": 13}, \"10\": {\"10\": 225, \"2\": 3, \"7\": 9, \"1\": 3}, \"3\": {\"3\": 228, \"12\": 12}, \"15\": {\"15\": 174, \"14\": 33, \"8\": 12, \"5\": 18, \"0\": 1, \"4\": 2}, \"2\": {\"2\": 231, \"10\": 1, \"1\": 8}, \"12\": {\"12\": 234, \"3\": 6}, \"4\": {\"14\": 88, \"4\": 142, \"15\": 8, \"5\": 1, \"9\": 1}, \"1\": {\"1\": 230, \"2\": 10}, \"0\": {\"0\": 210, \"8\": 30}, \"9\": {\"6\": 41, \"7\": 88, \"9\": 94, \"13\": 16, \"4\": 1}, \"5\": {\"5\": 212, \"8\": 2, \"15\": 12, \"14\": 14}, \"6\": {\"6\": 188, \"13\": 36, \"9\": 15, \"7\": 1}, \"7\": {\"9\": 29, \"7\": 208, \"10\": 3}, \"13\": {\"13\": 201, \"6\": 37, \"9\": 2}}, \"O_8\": {\"13\": {\"13\": 199, \"10\": 24, \"6\": 4, \"7\": 13}, \"3\": {\"3\": 240}, \"15\": {\"15\": 212, \"12\": 27, \"2\": 1}, \"4\": {\"4\": 232, \"14\": 2, \"10\": 1, \"8\": 2, \"11\": 1, \"6\": 2}, \"7\": {\"7\": 212, \"13\": 5, \"6\": 22, \"10\": 1}, \"2\": {\"3\": 43, \"2\": 177, \"12\": 15, \"15\": 5}, \"1\": {\"1\": 186, \"11\": 47, \"10\": 4, \"5\": 2, \"4\": 1}, \"0\": {\"0\": 240}, \"12\": {\"15\": 44, \"12\": 195, \"2\": 1}, \"6\": {\"13\": 2, \"6\": 204, \"7\": 31, \"4\": 2, \"10\": 1}, \"11\": {\"11\": 135, \"8\": 2, \"1\": 95, \"5\": 4, \"14\": 4}, \"9\": {\"9\": 240}, \"5\": {\"5\": 192, \"11\": 7, \"14\": 4, \"1\": 14, \"10\": 23}, \"10\": {\"10\": 196, \"13\": 36, \"5\": 5, \"1\": 2, \"6\": 1}, \"14\": {\"14\": 224, \"4\": 13, \"11\": 3}, \"8\": {\"8\": 237, \"6\": 2, \"4\": 1}}, \"O_20\": {\"6\": {\"6\": 239, \"7\": 1}, \"11\": {\"11\": 240}, \"5\": {\"5\": 163, \"1\": 48, \"3\": 26, \"9\": 3}, \"14\": {\"14\": 227, \"8\": 13}, \"2\": {\"2\": 192, \"12\": 23, \"7\": 23, \"13\": 1, \"9\": 1}, \"7\": {\"7\": 202, \"6\": 1, \"2\": 18, \"9\": 18, \"12\": 1}, \"3\": {\"3\": 155, \"5\": 33, \"8\": 25, \"9\": 21, \"1\": 3, \"0\": 3}, \"4\": {\"4\": 235, \"2\": 1, \"12\": 3, \"10\": 1}, \"9\": {\"9\": 202, \"3\": 9, \"7\": 17, \"1\": 7, \"5\": 5}, \"12\": {\"12\": 186, \"15\": 20, \"4\": 7, \"2\": 26, \"7\": 1}, \"0\": {\"0\": 239, \"3\": 1}, \"10\": {\"10\": 240}, \"8\": {\"8\": 210, \"14\": 17, \"3\": 13}, \"13\": {\"13\": 232, \"2\": 5, \"15\": 1, \"12\": 2}, \"1\": {\"1\": 174, \"5\": 43, \"9\": 20, \"15\": 3}, \"15\": {\"15\": 193, \"12\": 35, \"1\": 11, \"9\": 1}}, \"O_38\": {\"3\": {\"3\": 240}, \"8\": {\"8\": 127, \"5\": 80, \"7\": 19, \"15\": 8, \"0\": 2, \"9\": 1, \"13\": 3}, \"0\": {\"0\": 160, \"7\": 26, \"10\": 22, \"3\": 16, \"4\": 1, \"13\": 13, \"5\": 1, \"8\": 1}, \"2\": {\"14\": 32, \"2\": 207, \"13\": 1}, \"4\": {\"4\": 240}, \"7\": {\"7\": 235, \"8\": 3, \"5\": 1, \"0\": 1}, \"12\": {\"12\": 240}, \"6\": {\"6\": 240}, \"15\": {\"15\": 217, \"8\": 6, \"5\": 11, \"1\": 6}, \"11\": {\"11\": 240}, \"9\": {\"9\": 235, \"7\": 1, \"5\": 4}, \"14\": {\"14\": 221, \"2\": 19}, \"10\": {\"10\": 208, \"0\": 19, \"13\": 9, \"4\": 4}, \"5\": {\"5\": 126, \"8\": 77, \"7\": 18, \"9\": 9, \"15\": 10}, \"1\": {\"1\": 240}, \"13\": {\"13\": 227, \"10\": 10, \"0\": 3}}, \"O_26\": {\"5\": {\"5\": 192, \"15\": 45, \"6\": 3}, \"8\": {\"8\": 186, \"9\": 26, \"7\": 27, \"2\": 1}, \"4\": {\"4\": 240}, \"12\": {\"12\": 240}, \"6\": {\"6\": 212, \"15\": 16, \"10\": 5, \"5\": 4, \"1\": 3}, \"7\": {\"3\": 13, \"7\": 188, \"9\": 5, \"2\": 13, \"8\": 21}, \"10\": {\"14\": 49, \"10\": 162, \"0\": 16, \"6\": 6, \"15\": 7}, \"0\": {\"0\": 179, \"8\": 4, \"14\": 21, \"10\": 35, \"2\": 1}, \"15\": {\"15\": 141, \"5\": 57, \"6\": 25, \"10\": 13, \"14\": 3, \"0\": 1}, \"9\": {\"9\": 147, \"8\": 64, \"13\": 19, \"2\": 8, \"7\": 2}, \"11\": {\"11\": 240}, \"14\": {\"14\": 164, \"10\": 51, \"1\": 9, \"0\": 14, \"15\": 2}, \"2\": {\"9\": 15, \"7\": 30, \"2\": 158, \"3\": 22, \"0\": 6, \"8\": 7, \"15\": 1, \"13\": 1}, \"13\": {\"13\": 211, \"2\": 10, \"9\": 11, \"3\": 7, \"7\": 1}, \"3\": {\"3\": 219, \"2\": 3, \"7\": 17, \"9\": 1}, \"1\": {\"1\": 199, \"14\": 35, \"10\": 5, \"6\": 1}}, \"C_4\": {\"38\": {\"38\": 22, \"23\": 2, \"55\": 6, \"14\": 1, \"26\": 4, \"17\": 2, \"33\": 1, \"57\": 1, \"32\": 1}, \"3\": {\"3\": 114, \"50\": 8, \"5\": 2}, \"24\": {\"24\": 17, \"43\": 11, \"31\": 3, \"51\": 1, \"27\": 1, \"41\": 2, \"16\": 1, \"11\": 1, \"15\": 4, \"2\": 1, \"23\": 1, \"47\": 2, \"9\": 1, \"13\": 2, \"48\": 1, \"39\": 1, \"49\": 2, \"57\": 1, \"42\": 1, \"10\": 1, \"53\": 1}, \"49\": {\"49\": 8, \"43\": 3, \"51\": 2, \"37\": 2, \"2\": 1, \"24\": 2, \"41\": 1, \"7\": 1}, \"7\": {\"20\": 1, \"7\": 8, \"41\": 4, \"13\": 1, \"49\": 1, \"43\": 3, \"53\": 1, \"27\": 1, \"39\": 1, \"37\": 1, \"8\": 1, \"51\": 1}, \"17\": {\"38\": 2, \"17\": 40, \"42\": 2, \"33\": 5, \"35\": 2, \"23\": 2, \"54\": 8, \"2\": 1, \"53\": 1, \"44\": 3, \"25\": 1, \"29\": 6, \"14\": 2, \"31\": 1, \"32\": 1, \"15\": 1, \"55\": 2}, \"43\": {\"24\": 12, \"43\": 81, \"39\": 2, \"4\": 1, \"41\": 2, \"23\": 6, \"37\": 2, \"15\": 1, \"52\": 1, \"13\": 4, \"9\": 3, \"10\": 2, \"53\": 8, \"0\": 1, \"47\": 1, \"27\": 3, \"36\": 2, \"56\": 2, \"48\": 6, \"49\": 2, \"7\": 1, \"2\": 2, \"57\": 2, \"25\": 1}, \"30\": {\"30\": 44}, \"44\": {\"44\": 118, \"40\": 2, \"4\": 7, \"29\": 1, \"9\": 2, \"27\": 1, \"56\": 1}, \"23\": {\"43\": 15, \"38\": 1, \"7\": 1, \"23\": 62, \"10\": 7, \"53\": 11, \"57\": 5, \"56\": 2, \"15\": 8, \"11\": 7, \"17\": 1, \"16\": 2, \"27\": 5, \"4\": 2, \"25\": 4, \"55\": 2, \"24\": 2, \"41\": 1, \"33\": 1, \"49\": 1, \"31\": 2, \"1\": 1, \"54\": 1}, \"37\": {\"20\": 2, \"37\": 11, \"7\": 1, \"41\": 2, \"51\": 5, \"36\": 2, \"5\": 1}, \"4\": {\"4\": 66, \"41\": 1, \"48\": 3, \"44\": 10, \"56\": 9, \"40\": 12, \"9\": 6, \"27\": 12, \"1\": 3, \"57\": 9, \"47\": 1}, \"57\": {\"57\": 61, \"14\": 1, \"1\": 6, \"4\": 5, \"2\": 2, \"44\": 3, \"27\": 5, \"56\": 10, \"40\": 1, \"48\": 1, \"9\": 3, \"49\": 1, \"37\": 1}, \"16\": {\"38\": 2, \"24\": 5, \"10\": 9, \"16\": 45, \"23\": 7, \"47\": 1, \"15\": 9, \"11\": 4, \"53\": 5, \"55\": 1, \"25\": 1, \"43\": 2, \"40\": 1, \"33\": 1, \"31\": 1, \"2\": 1, \"54\": 1}, \"18\": {\"17\": 1, \"18\": 83, \"32\": 1, \"34\": 1, \"38\": 1, \"11\": 2, \"25\": 12, \"55\": 2, \"16\": 2, \"15\": 1, \"23\": 1, \"53\": 1}, \"20\": {\"20\": 122, \"21\": 1, \"52\": 1}, \"45\": {\"30\": 1, \"45\": 68, \"12\": 10, \"50\": 4, \"21\": 10, \"3\": 1, \"40\": 1, \"8\": 1}, \"15\": {\"15\": 63, \"32\": 1, \"24\": 4, \"33\": 1, \"49\": 2, \"11\": 5, \"16\": 10, \"23\": 6, \"38\": 1, \"10\": 15, \"43\": 4, \"25\": 4, \"53\": 7, \"48\": 1, \"42\": 1, \"31\": 1, \"54\": 3, \"4\": 1, \"18\": 1, \"27\": 1}, \"52\": {\"52\": 116}, \"19\": {\"19\": 140}, \"54\": {\"54\": 59, \"38\": 2, \"55\": 13, \"31\": 1, \"26\": 1, \"42\": 2, \"34\": 1, \"35\": 4, \"23\": 5, \"17\": 4, \"10\": 3, \"16\": 1, \"29\": 7, \"57\": 1, \"33\": 3, \"25\": 1}, \"56\": {\"2\": 1, \"56\": 75, \"4\": 11, \"9\": 7, \"1\": 2, \"57\": 9, \"40\": 9, \"27\": 10, \"48\": 4, \"13\": 1, \"44\": 1}, \"40\": {\"40\": 81, \"9\": 17, \"27\": 4, \"56\": 10, \"48\": 11, \"4\": 6, \"45\": 1, \"47\": 1, \"57\": 1, \"8\": 2}, \"28\": {\"28\": 26, \"55\": 1, \"18\": 2, \"26\": 2, \"34\": 1}, \"2\": {\"17\": 1, \"2\": 22, \"9\": 1, \"7\": 1, \"1\": 4, \"40\": 1, \"33\": 1, \"43\": 1, \"56\": 1, \"57\": 1, \"41\": 1, \"53\": 1}, \"9\": {\"40\": 15, \"9\": 54, \"27\": 13, \"1\": 4, \"56\": 5, \"57\": 5, \"13\": 2, \"4\": 7, \"48\": 9, \"44\": 2, \"47\": 1, \"20\": 1, \"45\": 2}, \"0\": {\"0\": 70, \"52\": 4, \"47\": 1, \"46\": 4, \"6\": 1}, \"36\": {\"36\": 54, \"51\": 13, \"7\": 2, \"37\": 2, \"8\": 10, \"47\": 6, \"48\": 2, \"13\": 2, \"52\": 1}, \"55\": {\"35\": 5, \"54\": 12, \"55\": 94, \"14\": 2, \"38\": 5, \"29\": 4, \"25\": 2, \"23\": 1, \"17\": 4, \"34\": 1}, \"35\": {\"54\": 4, \"35\": 15, \"29\": 6, \"55\": 4, \"32\": 1, \"38\": 1, \"17\": 2, \"11\": 1, \"18\": 3, \"34\": 1, \"25\": 1, \"27\": 1}, \"39\": {\"39\": 10, \"37\": 1, \"36\": 3, \"41\": 1, \"13\": 1, \"47\": 4}, \"31\": {\"31\": 10, \"43\": 2, \"41\": 2, \"32\": 1, \"16\": 1, \"10\": 2, \"25\": 2, \"49\": 1, \"23\": 3, \"54\": 3, \"11\": 1}, \"14\": {\"54\": 2, \"7\": 1, \"27\": 1, \"38\": 2, \"14\": 4, \"23\": 1, \"55\": 1, \"33\": 2, \"1\": 1, \"57\": 1}, \"12\": {\"12\": 92}, \"6\": {\"6\": 112}, \"26\": {\"1\": 1, \"26\": 13, \"28\": 2, \"2\": 1, \"33\": 4, \"54\": 1, \"35\": 1, \"57\": 1}, \"50\": {\"3\": 6, \"50\": 122, \"21\": 2, \"6\": 2}, \"21\": {\"21\": 119, \"12\": 2, \"30\": 1}, \"46\": {\"46\": 136, \"0\": 2, \"22\": 2}, \"51\": {\"51\": 119, \"36\": 9, \"8\": 4, \"47\": 2, \"20\": 1, \"52\": 2, \"13\": 3}, \"41\": {\"41\": 21, \"13\": 1, \"36\": 4, \"37\": 2, \"27\": 1, \"47\": 2, \"24\": 2, \"7\": 1, \"51\": 1, \"46\": 1}, \"34\": {\"34\": 14, \"28\": 4, \"35\": 1, \"18\": 1, \"38\": 2, \"26\": 2}, \"47\": {\"52\": 20, \"47\": 61, \"40\": 2, \"0\": 9, \"20\": 6, \"46\": 6, \"48\": 3, \"8\": 7, \"9\": 1, \"13\": 4, \"39\": 1}, \"5\": {\"5\": 108}, \"1\": {\"57\": 7, \"1\": 21, \"27\": 2, \"9\": 3, \"53\": 1, \"4\": 2, \"49\": 1, \"56\": 1, \"40\": 2}, \"48\": {\"48\": 79, \"13\": 6, \"40\": 5, \"20\": 4, \"9\": 8, \"12\": 1, \"8\": 8, \"52\": 2, \"47\": 8, \"56\": 5, \"30\": 1, \"0\": 2, \"21\": 2, \"45\": 1, \"27\": 1, \"46\": 1}, \"29\": {\"29\": 106, \"27\": 1, \"17\": 5, \"56\": 1, \"44\": 3, \"35\": 1, \"54\": 1}, \"22\": {\"22\": 128}, \"10\": {\"10\": 31, \"15\": 18, \"41\": 1, \"16\": 11, \"25\": 11, \"11\": 14, \"33\": 1, \"47\": 1, \"32\": 1, \"55\": 3, \"53\": 11, \"43\": 13, \"23\": 8, \"54\": 3, \"24\": 1, \"13\": 1, \"51\": 1, \"56\": 2}, \"32\": {\"42\": 2, \"10\": 2, \"32\": 10, \"27\": 1, \"49\": 1, \"54\": 1, \"47\": 1, \"25\": 1, \"55\": 1, \"26\": 1, \"1\": 1, \"2\": 1, \"38\": 1}, \"13\": {\"13\": 58, \"7\": 1, \"8\": 7, \"37\": 2, \"52\": 6, \"51\": 15, \"0\": 2, \"9\": 1, \"43\": 2, \"36\": 4, \"47\": 6, \"20\": 3, \"48\": 2, \"56\": 2, \"22\": 1}, \"42\": {\"15\": 4, \"32\": 3, \"33\": 5, \"18\": 1, \"42\": 12, \"38\": 2, \"23\": 1, \"55\": 1, \"54\": 1, \"31\": 1, \"24\": 1}, \"27\": {\"44\": 11, \"27\": 40, \"57\": 7, \"9\": 13, \"56\": 19, \"1\": 3, \"2\": 4, \"40\": 11, \"4\": 19, \"48\": 3, \"47\": 2, \"43\": 1, \"29\": 1, \"36\": 1, \"24\": 2, \"13\": 1}, \"8\": {\"8\": 132, \"20\": 6, \"51\": 1, \"47\": 2, \"48\": 1}, \"33\": {\"33\": 20, \"32\": 1, \"26\": 2, \"42\": 1, \"38\": 1, \"10\": 1, \"35\": 1, \"17\": 2, \"54\": 4, \"49\": 1, \"14\": 1, \"31\": 1}, \"25\": {\"25\": 61, \"10\": 10, \"34\": 3, \"23\": 10, \"55\": 15, \"15\": 10, \"11\": 1, \"18\": 5, \"53\": 2, \"29\": 2, \"54\": 4, \"42\": 2, \"31\": 2, \"38\": 1, \"35\": 2, \"16\": 2}, \"11\": {\"11\": 44, \"10\": 12, \"38\": 2, \"15\": 8, \"42\": 3, \"48\": 1, \"55\": 4, \"23\": 7, \"43\": 1, \"53\": 5, \"16\": 8, \"54\": 2, \"25\": 4, \"24\": 1, \"31\": 1, \"35\": 1}, \"53\": {\"53\": 45, \"42\": 2, \"41\": 4, \"24\": 3, \"57\": 1, \"43\": 21, \"48\": 2, \"23\": 7, \"10\": 8, \"16\": 4, \"15\": 6, \"11\": 4, \"13\": 1, \"7\": 1, \"29\": 1, \"51\": 1, \"25\": 1}}, \"C_2\": {\"32\": {\"2\": 1, \"56\": 2, \"32\": 12, \"39\": 2, \"1\": 5, \"33\": 1, \"4\": 4, \"49\": 1}, \"17\": {\"56\": 6, \"17\": 56, \"32\": 1, \"39\": 3, \"49\": 2, \"26\": 1, \"1\": 7, \"10\": 1, \"42\": 2, \"23\": 2, \"53\": 1, \"15\": 1, \"22\": 2, \"57\": 1, \"54\": 2, \"29\": 5, \"14\": 1, \"9\": 4, \"4\": 1, \"44\": 1, \"55\": 1, \"11\": 2, \"27\": 1}, \"38\": {\"38\": 9, \"51\": 4, \"8\": 1, \"36\": 2, \"41\": 1, \"30\": 1, \"13\": 2}, \"2\": {\"37\": 4, \"2\": 14, \"33\": 1, \"7\": 2, \"17\": 1, \"57\": 1, \"22\": 3, \"53\": 1, \"41\": 2, \"43\": 1, \"38\": 1, \"48\": 1}, \"43\": {\"37\": 4, \"23\": 2, \"53\": 24, \"43\": 54, \"7\": 1, \"48\": 2, \"31\": 4, \"13\": 2, \"57\": 6, \"10\": 1, \"24\": 7, \"16\": 9, \"11\": 8, \"36\": 3, \"27\": 4, \"47\": 1, \"41\": 1, \"49\": 1, \"51\": 1, \"56\": 4, \"2\": 1, \"39\": 2, \"17\": 1, \"15\": 1}, \"56\": {\"56\": 80, \"32\": 3, \"14\": 2, \"1\": 7, \"22\": 8, \"33\": 1, \"17\": 4, \"27\": 1, \"24\": 3, \"43\": 3, \"23\": 1, \"4\": 2, \"44\": 3, \"29\": 6, \"54\": 3, \"9\": 6, \"40\": 4, \"2\": 1, \"57\": 6}, \"37\": {\"38\": 3, \"37\": 10, \"2\": 1, \"57\": 1, \"39\": 1, \"53\": 1, \"41\": 1, \"31\": 5, \"51\": 2, \"13\": 3, \"33\": 1, \"48\": 1, \"36\": 2, \"43\": 2, \"15\": 1, \"4\": 1}, \"49\": {\"49\": 9, \"15\": 2, \"32\": 1, \"39\": 1, \"23\": 4, \"42\": 2, \"10\": 2, \"2\": 1, \"16\": 1, \"55\": 1}, \"0\": {\"0\": 27, \"38\": 1, \"30\": 3, \"33\": 1, \"5\": 5, \"46\": 1, \"48\": 1, \"47\": 3, \"41\": 2, \"8\": 1, \"20\": 1, \"52\": 2}, \"29\": {\"29\": 95, \"9\": 17, \"44\": 3, \"17\": 3, \"54\": 3, \"56\": 1, \"14\": 2, \"22\": 1, \"1\": 1, \"4\": 1, \"55\": 1}, \"35\": {\"35\": 31, \"55\": 1}, \"18\": {\"18\": 32, \"28\": 3, \"34\": 3, \"23\": 1, \"25\": 2, \"10\": 2, \"55\": 1, \"15\": 1, \"26\": 1, \"16\": 1, \"42\": 1}, \"25\": {\"49\": 1, \"25\": 65, \"10\": 6, \"55\": 10, \"53\": 1, \"23\": 4, \"15\": 19, \"16\": 9, \"54\": 5, \"18\": 4, \"11\": 8, \"24\": 1, \"34\": 2, \"17\": 1}, \"23\": {\"23\": 59, \"39\": 2, \"15\": 9, \"43\": 1, \"49\": 2, \"25\": 3, \"42\": 1, \"17\": 5, \"2\": 1, \"29\": 1, \"11\": 5, \"54\": 5, \"16\": 7, \"56\": 5, \"55\": 7, \"10\": 4, \"53\": 5, \"9\": 1, \"24\": 1}, \"15\": {\"15\": 58, \"23\": 11, \"49\": 1, \"28\": 1, \"53\": 7, \"10\": 12, \"16\": 17, \"11\": 19, \"54\": 4, \"43\": 2, \"25\": 7, \"55\": 4, \"22\": 1, \"7\": 2}, \"21\": {\"21\": 120}, \"51\": {\"51\": 96, \"8\": 12, \"38\": 1, \"41\": 1, \"52\": 3, \"36\": 5, \"48\": 1, \"13\": 1, \"20\": 4, \"50\": 2, \"47\": 2}, \"20\": {\"20\": 136, \"8\": 1, \"30\": 1}, \"7\": {\"51\": 1, \"7\": 21, \"53\": 1, \"2\": 1, \"36\": 1, \"48\": 1, \"0\": 2, \"13\": 2, \"33\": 2, \"41\": 1, \"37\": 1, \"30\": 1, \"49\": 1}, \"50\": {\"50\": 134, \"3\": 2}, \"31\": {\"31\": 15, \"33\": 1, \"43\": 1, \"37\": 8, \"56\": 1, \"39\": 1, \"53\": 1}, \"30\": {\"30\": 140}, \"19\": {\"19\": 156}, \"9\": {\"17\": 6, \"9\": 104, \"29\": 15, \"14\": 1, \"56\": 5, \"1\": 5, \"44\": 4, \"4\": 3, \"54\": 1}, \"52\": {\"52\": 123, \"30\": 1}, \"45\": {\"50\": 14, \"3\": 3, \"45\": 94, \"27\": 1, \"6\": 3, \"12\": 9, \"46\": 2, \"21\": 1, \"30\": 1}, \"8\": {\"8\": 125, \"36\": 2, \"20\": 18, \"30\": 2, \"47\": 2, \"13\": 1, \"52\": 2, \"51\": 2}, \"55\": {\"9\": 2, \"17\": 1, \"29\": 4, \"55\": 129, \"42\": 8, \"54\": 11, \"25\": 3, \"23\": 1, \"15\": 1}, \"12\": {\"12\": 92}, \"40\": {\"40\": 79, \"48\": 6, \"41\": 1, \"37\": 1, \"1\": 6, \"4\": 14, \"57\": 11, \"44\": 1, \"56\": 2, \"22\": 5, \"27\": 7, \"55\": 1, \"2\": 1, \"33\": 1, \"17\": 1, \"39\": 1, \"29\": 1, \"9\": 1}, \"28\": {\"18\": 2, \"28\": 14, \"23\": 1, \"16\": 1, \"15\": 2, \"25\": 2, \"55\": 3, \"34\": 1, \"17\": 1, \"42\": 1}, \"36\": {\"36\": 60, \"57\": 1, \"41\": 2, \"20\": 3, \"27\": 5, \"48\": 4, \"47\": 4, \"52\": 1, \"8\": 10, \"51\": 16, \"40\": 3, \"30\": 2, \"37\": 3, \"13\": 2}, \"39\": {\"39\": 13, \"2\": 1, \"49\": 1, \"32\": 1, \"53\": 1, \"33\": 1, \"27\": 1, \"37\": 1, \"17\": 2, \"43\": 1, \"24\": 4, \"57\": 1}, \"46\": {\"46\": 112, \"21\": 3, \"5\": 7}, \"14\": {\"14\": 9, \"37\": 1, \"55\": 2, \"39\": 1, \"1\": 1, \"27\": 1, \"4\": 1, \"2\": 1, \"29\": 1, \"22\": 1, \"57\": 1, \"56\": 1, \"40\": 1, \"54\": 1, \"31\": 1}, \"57\": {\"57\": 83, \"37\": 1, \"33\": 3, \"27\": 13, \"7\": 2, \"22\": 15, \"4\": 1, \"56\": 3, \"36\": 3, \"48\": 8, \"47\": 1, \"2\": 2, \"53\": 1, \"39\": 2, \"52\": 1, \"24\": 1, \"43\": 1, \"8\": 1}, \"34\": {\"34\": 20, \"55\": 2, \"54\": 1, \"26\": 1, \"28\": 2, \"18\": 1, \"49\": 1}, \"1\": {\"1\": 64, \"32\": 2, \"27\": 2, \"4\": 6, \"56\": 15, \"22\": 9, \"40\": 5, \"17\": 3, \"14\": 1, \"37\": 1, \"57\": 2, \"39\": 2}, \"53\": {\"53\": 59, \"39\": 1, \"27\": 8, \"7\": 3, \"11\": 14, \"16\": 8, \"2\": 1, \"17\": 5, \"10\": 3, \"23\": 6, \"48\": 1, \"4\": 1, \"36\": 4, \"24\": 3, \"43\": 8, \"9\": 1, \"22\": 2, \"49\": 1, \"31\": 1, \"57\": 2, \"15\": 4}, \"48\": {\"48\": 72, \"30\": 4, \"27\": 13, \"13\": 2, \"52\": 4, \"8\": 7, \"0\": 2, \"22\": 3, \"1\": 1, \"20\": 2, \"57\": 2, \"36\": 2, \"47\": 9, \"40\": 2, \"38\": 1, \"7\": 1, \"46\": 1, \"5\": 1, \"45\": 1}, \"3\": {\"3\": 88, \"6\": 4}, \"16\": {\"39\": 1, \"16\": 58, \"10\": 6, \"43\": 7, \"17\": 5, \"11\": 23, \"42\": 1, \"15\": 16, \"27\": 3, \"23\": 8, \"24\": 3, \"36\": 1, \"53\": 7, \"48\": 1, \"1\": 1, \"54\": 1, \"25\": 5, \"49\": 1, \"55\": 1, \"13\": 1, \"57\": 1, \"56\": 1}, \"6\": {\"6\": 116, \"3\": 7, \"46\": 1}, \"10\": {\"23\": 2, \"10\": 42, \"11\": 16, \"31\": 3, \"16\": 11, \"43\": 4, \"17\": 1, \"15\": 11, \"27\": 1, \"7\": 1, \"25\": 2, \"53\": 6, \"24\": 2, \"57\": 1, \"14\": 1, \"49\": 1, \"39\": 1, \"34\": 1, \"36\": 1, \"56\": 1, \"54\": 2, \"55\": 1}, \"13\": {\"13\": 59, \"52\": 8, \"48\": 8, \"36\": 6, \"0\": 3, \"20\": 3, \"5\": 4, \"51\": 7, \"57\": 2, \"47\": 6, \"8\": 5, \"7\": 2, \"27\": 1, \"30\": 1, \"43\": 1}, \"26\": {\"26\": 10, \"35\": 1, \"10\": 3, \"25\": 1, \"54\": 3, \"15\": 3, \"29\": 1, \"18\": 1, \"55\": 1}, \"24\": {\"43\": 13, \"39\": 2, \"24\": 29, \"27\": 4, \"49\": 1, \"41\": 1, \"10\": 6, \"56\": 2, \"23\": 6, \"57\": 5, \"53\": 7, \"16\": 6, \"11\": 2, \"7\": 1, \"37\": 1, \"36\": 3, \"2\": 1, \"17\": 2, \"25\": 1, \"15\": 1, \"48\": 1, \"1\": 1}, \"44\": {\"44\": 91, \"4\": 1, \"1\": 3, \"56\": 1, \"29\": 1, \"9\": 2, \"40\": 1}, \"27\": {\"27\": 70, \"30\": 2, \"51\": 6, \"7\": 3, \"47\": 4, \"40\": 2, \"36\": 10, \"48\": 20, \"2\": 4, \"4\": 1, \"57\": 16, \"45\": 1, \"13\": 2, \"38\": 1, \"53\": 1, \"20\": 2, \"8\": 4, \"22\": 1}, \"22\": {\"22\": 54, \"33\": 3, \"44\": 4, \"7\": 1, \"1\": 7, \"27\": 8, \"40\": 4, \"29\": 2, \"57\": 23, \"9\": 7, \"43\": 1, \"56\": 2, \"4\": 5, \"38\": 1, \"14\": 1, \"32\": 1, \"17\": 2, \"48\": 2}, \"33\": {\"22\": 2, \"23\": 1, \"32\": 1, \"33\": 7, \"7\": 2, \"2\": 3, \"48\": 1, \"1\": 1, \"57\": 1, \"39\": 1, \"37\": 2, \"0\": 1, \"41\": 1, \"4\": 1, \"31\": 1, \"49\": 1, \"51\": 1}, \"47\": {\"0\": 3, \"47\": 75, \"30\": 14, \"52\": 9, \"8\": 4, \"27\": 3, \"20\": 3, \"48\": 4, \"5\": 1, \"21\": 1, \"36\": 1}, \"5\": {\"5\": 118, \"46\": 2}, \"4\": {\"4\": 80, \"9\": 1, \"2\": 2, \"1\": 7, \"56\": 8, \"40\": 18, \"22\": 11, \"57\": 7, \"27\": 3, \"32\": 1}, \"41\": {\"0\": 3, \"41\": 8, \"51\": 2, \"38\": 2, \"52\": 1, \"13\": 1, \"27\": 2, \"48\": 1}, \"11\": {\"11\": 54, \"49\": 2, \"29\": 2, \"31\": 1, \"54\": 2, \"10\": 8, \"53\": 14, \"16\": 13, \"36\": 1, \"56\": 3, \"24\": 8, \"1\": 1, \"23\": 6, \"27\": 1, \"43\": 12, \"55\": 1, \"25\": 6, \"15\": 9, \"57\": 2, \"39\": 3, \"48\": 1}, \"54\": {\"15\": 6, \"26\": 2, \"42\": 4, \"54\": 56, \"55\": 14, \"25\": 3, \"29\": 5, \"44\": 1, \"9\": 4, \"17\": 2, \"23\": 5, \"49\": 1, \"14\": 1, \"1\": 1, \"10\": 2, \"11\": 1}, \"42\": {\"42\": 18, \"55\": 4, \"14\": 2, \"10\": 2, \"23\": 3, \"17\": 2, \"54\": 5}}, \"C_3\": {\"5\": {\"5\": 115, \"46\": 1}, \"32\": {\"4\": 1, \"17\": 1, \"9\": 3, \"32\": 17, \"57\": 2, \"40\": 1, \"22\": 1, \"53\": 1, \"1\": 1}, \"33\": {\"47\": 4, \"8\": 1, \"33\": 15, \"0\": 3, \"20\": 1, \"2\": 1, \"38\": 1, \"52\": 1, \"36\": 1}, \"49\": {\"26\": 1, \"49\": 8, \"57\": 1, \"36\": 1, \"51\": 3, \"13\": 2, \"41\": 1, \"55\": 1, \"56\": 1, \"43\": 1}, \"39\": {\"2\": 1, \"33\": 1, \"57\": 1, \"39\": 8, \"36\": 1, \"23\": 1, \"22\": 1, \"17\": 1, \"56\": 1}, \"11\": {\"53\": 13, \"11\": 55, \"49\": 1, \"23\": 9, \"43\": 6, \"16\": 23, \"54\": 1, \"24\": 5, \"25\": 5, \"10\": 3, \"27\": 2, \"48\": 1, \"17\": 1, \"55\": 3, \"1\": 1, \"15\": 4, \"31\": 1, \"26\": 2, \"39\": 1, \"56\": 1, \"29\": 1, \"13\": 1, \"22\": 1, \"57\": 1}, \"8\": {\"8\": 88, \"20\": 18, \"41\": 2, \"36\": 2, \"13\": 1, \"30\": 3, \"47\": 1, \"0\": 1}, \"26\": {\"17\": 1, \"11\": 1, \"26\": 12, \"2\": 2, \"16\": 2, \"48\": 1, \"24\": 1, \"32\": 2, \"43\": 1, \"33\": 1}, \"51\": {\"51\": 94, \"7\": 1, \"36\": 7, \"8\": 12, \"47\": 2, \"13\": 3, \"20\": 1, \"33\": 1, \"48\": 1}, \"4\": {\"4\": 81, \"32\": 3, \"40\": 14, \"1\": 8, \"22\": 7, \"9\": 22, \"44\": 1, \"27\": 1, \"57\": 7, \"29\": 1, \"56\": 1}, \"52\": {\"52\": 118}, \"47\": {\"47\": 48, \"52\": 17, \"22\": 1, \"41\": 2, \"0\": 3, \"36\": 2, \"5\": 1, \"48\": 3, \"30\": 4, \"20\": 5, \"3\": 1, \"46\": 4, \"27\": 1}, \"17\": {\"11\": 1, \"17\": 39, \"32\": 1, \"56\": 3, \"9\": 11, \"53\": 9, \"43\": 2, \"4\": 2, \"48\": 1, \"24\": 6, \"1\": 14, \"57\": 6, \"27\": 3, \"40\": 2, \"23\": 3, \"49\": 1, \"18\": 1, \"29\": 1, \"31\": 1, \"22\": 1}, \"53\": {\"17\": 9, \"11\": 10, \"53\": 53, \"56\": 2, \"23\": 3, \"27\": 3, \"13\": 5, \"57\": 4, \"33\": 3, \"31\": 2, \"2\": 3, \"48\": 2, \"16\": 6, \"24\": 3, \"10\": 1, \"1\": 2, \"43\": 10, \"8\": 1, \"49\": 2, \"26\": 2, \"38\": 2, \"7\": 1, \"36\": 2, \"25\": 1, \"47\": 1, \"15\": 2, \"55\": 1}, \"2\": {\"17\": 1, \"2\": 9, \"49\": 1, \"39\": 1, \"51\": 1, \"22\": 1, \"26\": 1, \"56\": 6, \"27\": 1, \"36\": 4, \"38\": 1, \"33\": 2, \"9\": 1, \"57\": 1, \"7\": 1}, \"12\": {\"12\": 92}, \"37\": {\"7\": 3, \"38\": 1, \"37\": 12, \"56\": 2, \"27\": 2, \"2\": 2, \"13\": 3, \"51\": 2, \"36\": 1}, \"9\": {\"40\": 10, \"9\": 71, \"32\": 2, \"57\": 14, \"22\": 8, \"4\": 18, \"56\": 5, \"1\": 9, \"27\": 2, \"29\": 4, \"14\": 1, \"17\": 3, \"53\": 1}, \"13\": {\"7\": 5, \"13\": 68, \"8\": 4, \"52\": 3, \"33\": 1, \"43\": 2, \"47\": 9, \"36\": 6, \"51\": 12, \"27\": 3, \"56\": 2, \"20\": 6, \"30\": 1, \"41\": 2, \"49\": 1, \"38\": 1, \"0\": 1, \"46\": 1}, \"54\": {\"31\": 1, \"54\": 56, \"15\": 2, \"29\": 6, \"14\": 3, \"35\": 6, \"23\": 3, \"10\": 2, \"55\": 12, \"1\": 2, \"24\": 1, \"9\": 1, \"42\": 2, \"18\": 1, \"25\": 2}, \"31\": {\"24\": 7, \"31\": 13, \"23\": 2, \"15\": 1, \"56\": 1, \"53\": 1, \"16\": 1, \"54\": 1, \"11\": 1}, \"34\": {\"34\": 30, \"42\": 1, \"19\": 1}, \"24\": {\"31\": 3, \"24\": 45, \"32\": 1, \"26\": 4, \"53\": 12, \"11\": 10, \"43\": 5, \"10\": 3, \"16\": 4, \"56\": 2, \"15\": 3, \"23\": 6, \"48\": 1, \"27\": 1, \"36\": 1, \"57\": 2, \"13\": 1}, \"7\": {\"7\": 21, \"52\": 2, \"47\": 1, \"51\": 3, \"20\": 3, \"41\": 2, \"30\": 2, \"13\": 1, \"33\": 1}, \"50\": {\"50\": 105, \"5\": 1, \"6\": 2, \"3\": 9, \"46\": 1}, \"46\": {\"46\": 111, \"5\": 9, \"3\": 8}, \"44\": {\"44\": 73, \"9\": 4, \"4\": 5, \"1\": 2, \"40\": 2, \"50\": 1, \"29\": 1}, \"40\": {\"9\": 12, \"40\": 68, \"1\": 4, \"32\": 1, \"22\": 6, \"56\": 3, \"44\": 2, \"57\": 2, \"4\": 16, \"17\": 1, \"27\": 1}, \"21\": {\"21\": 128}, \"45\": {\"50\": 10, \"45\": 35, \"5\": 2, \"12\": 4, \"6\": 3, \"20\": 2, \"30\": 3, \"21\": 1}, \"16\": {\"16\": 66, \"15\": 7, \"23\": 5, \"24\": 4, \"43\": 14, \"53\": 8, \"10\": 5, \"11\": 10, \"56\": 1, \"25\": 1, \"54\": 1, \"17\": 2, \"13\": 1, \"57\": 1}, \"14\": {\"17\": 1, \"10\": 1, \"42\": 1, \"14\": 16, \"31\": 3, \"28\": 2, \"29\": 3, \"53\": 1, \"55\": 2, \"57\": 2, \"44\": 1, \"1\": 3, \"35\": 2, \"32\": 1, \"24\": 1}, \"36\": {\"36\": 46, \"38\": 3, \"7\": 4, \"8\": 6, \"52\": 4, \"51\": 6, \"27\": 3, \"13\": 6, \"48\": 5, \"47\": 7, \"37\": 1, \"0\": 5, \"30\": 1, \"2\": 1, \"20\": 1, \"53\": 1}, \"56\": {\"56\": 61, \"48\": 10, \"1\": 2, \"22\": 16, \"2\": 1, \"27\": 10, \"57\": 2, \"13\": 4, \"4\": 1, \"40\": 4, \"37\": 1, \"36\": 1, \"32\": 1}, \"10\": {\"10\": 28, \"16\": 4, \"57\": 3, \"15\": 5, \"25\": 6, \"28\": 2, \"51\": 1, \"23\": 2, \"11\": 4, \"53\": 3, \"24\": 3, \"26\": 1, \"13\": 1, \"54\": 1}, \"18\": {\"18\": 57, \"25\": 8, \"11\": 1, \"28\": 4, \"54\": 4, \"15\": 1, \"23\": 2, \"31\": 1, \"42\": 2, \"10\": 1, \"55\": 2, \"19\": 1}, \"48\": {\"48\": 52, \"57\": 1, \"0\": 18, \"47\": 4, \"38\": 2, \"33\": 2, \"20\": 2, \"56\": 6, \"22\": 6, \"27\": 9, \"8\": 5, \"13\": 2, \"36\": 1, \"52\": 2, \"2\": 1, \"7\": 1, \"30\": 1, \"51\": 1}, \"38\": {\"37\": 2, \"38\": 12, \"39\": 1, \"27\": 2, \"47\": 1, \"36\": 3, \"20\": 1, \"0\": 1, \"22\": 1, \"48\": 1, \"7\": 2, \"30\": 1}, \"27\": {\"27\": 73, \"38\": 1, \"0\": 2, \"39\": 1, \"2\": 5, \"33\": 1, \"9\": 1, \"22\": 13, \"48\": 8, \"36\": 3, \"56\": 7, \"47\": 3, \"13\": 1, \"40\": 4, \"8\": 2, \"4\": 1, \"30\": 1, \"57\": 1, \"32\": 1, \"43\": 1}, \"42\": {\"42\": 22, \"55\": 1, \"35\": 1, \"14\": 1, \"28\": 1, \"54\": 1, \"25\": 1}, \"15\": {\"16\": 15, \"11\": 14, \"15\": 50, \"25\": 10, \"31\": 3, \"23\": 17, \"10\": 3, \"53\": 3, \"17\": 2, \"55\": 4, \"24\": 4, \"14\": 1, \"18\": 1, \"43\": 2, \"54\": 1, \"22\": 2, \"1\": 1, \"20\": 1}, \"1\": {\"1\": 58, \"32\": 2, \"14\": 1, \"9\": 9, \"57\": 5, \"17\": 5, \"44\": 1, \"29\": 3, \"4\": 6, \"56\": 2, \"40\": 6, \"22\": 2}, \"28\": {\"28\": 26, \"14\": 1, \"18\": 1}, \"43\": {\"26\": 3, \"38\": 1, \"48\": 3, \"43\": 72, \"31\": 1, \"36\": 6, \"22\": 2, \"27\": 4, \"23\": 2, \"15\": 3, \"17\": 3, \"57\": 6, \"53\": 13, \"24\": 1, \"13\": 4, \"11\": 4, \"56\": 2, \"2\": 2, \"7\": 1, \"16\": 2, \"40\": 1}, \"0\": {\"33\": 1, \"0\": 63, \"41\": 3, \"47\": 13, \"30\": 12, \"52\": 13, \"13\": 1, \"48\": 5, \"20\": 2, \"27\": 1, \"3\": 1, \"56\": 2, \"5\": 3, \"38\": 1, \"7\": 1, \"46\": 1, \"21\": 1}, \"57\": {\"57\": 63, \"49\": 3, \"27\": 8, \"2\": 1, \"17\": 5, \"22\": 11, \"40\": 4, \"4\": 5, \"9\": 11, \"43\": 1, \"56\": 7, \"32\": 2, \"13\": 1, \"1\": 2}, \"3\": {\"3\": 148}, \"29\": {\"29\": 105, \"14\": 3, \"4\": 2, \"44\": 2, \"55\": 2, \"1\": 4, \"23\": 1, \"17\": 3, \"54\": 1, \"9\": 1}, \"41\": {\"41\": 23, \"51\": 1, \"52\": 1, \"30\": 2, \"47\": 1}, \"25\": {\"25\": 76, \"11\": 9, \"15\": 19, \"54\": 7, \"10\": 8, \"42\": 1, \"53\": 1, \"16\": 6, \"18\": 4, \"17\": 1, \"23\": 3, \"55\": 6, \"28\": 3, \"24\": 1, \"35\": 1}, \"6\": {\"6\": 86, \"3\": 2}, \"35\": {\"35\": 16, \"25\": 1, \"42\": 2, \"14\": 1, \"55\": 1, \"28\": 2, \"54\": 4, \"23\": 1}, \"20\": {\"20\": 120, \"30\": 2, \"52\": 4}, \"23\": {\"11\": 13, \"14\": 3, \"23\": 75, \"15\": 5, \"1\": 1, \"16\": 9, \"17\": 7, \"54\": 3, \"43\": 1, \"29\": 2, \"25\": 3, \"57\": 1, \"55\": 6, \"24\": 2, \"10\": 1, \"53\": 2}, \"22\": {\"22\": 52, \"0\": 1, \"2\": 2, \"56\": 18, \"27\": 8, \"57\": 9, \"9\": 11, \"13\": 2, \"40\": 12, \"4\": 4, \"48\": 8, \"17\": 4, \"36\": 1, \"1\": 3, \"30\": 3, \"32\": 1, \"44\": 1}, \"19\": {\"19\": 116}, \"55\": {\"42\": 5, \"54\": 7, \"55\": 90, \"35\": 2, \"14\": 2, \"17\": 1, \"23\": 9, \"10\": 2, \"29\": 1, \"18\": 1, \"31\": 1, \"15\": 2, \"1\": 1}, \"30\": {\"30\": 119, \"52\": 1}}, \"C_1\": {\"24\": {\"23\": 14, \"24\": 57, \"49\": 3, \"26\": 1, \"10\": 2, \"39\": 2, \"37\": 2, \"25\": 1, \"9\": 3, \"57\": 1, \"16\": 2, \"53\": 6, \"55\": 6, \"44\": 1, \"31\": 1, \"2\": 1, \"28\": 3, \"42\": 1, \"17\": 1}, \"25\": {\"26\": 2, \"24\": 3, \"25\": 70, \"11\": 7, \"16\": 14, \"15\": 19, \"31\": 2, \"54\": 3, \"1\": 1, \"23\": 2, \"27\": 1, \"29\": 1, \"10\": 7, \"55\": 2, \"43\": 1, \"34\": 1, \"18\": 3, \"28\": 1}, \"45\": {\"45\": 144}, \"42\": {\"42\": 17, \"17\": 4, \"55\": 4, \"15\": 1, \"34\": 4, \"10\": 2, \"11\": 1, \"53\": 1, \"32\": 1, \"27\": 1, \"23\": 2, \"18\": 1, \"43\": 1}, \"2\": {\"9\": 6, \"2\": 17, \"56\": 2, \"8\": 4, \"48\": 2, \"33\": 1, \"49\": 1, \"38\": 1, \"37\": 1, \"44\": 1}, \"9\": {\"21\": 1, \"49\": 1, \"48\": 19, \"9\": 77, \"8\": 15, \"51\": 7, \"52\": 2, \"2\": 2, \"13\": 6, \"0\": 3, \"37\": 2, \"36\": 2, \"30\": 6, \"56\": 4, \"41\": 1, \"20\": 2}, \"21\": {\"21\": 102, \"52\": 14, \"22\": 8}, \"26\": {\"26\": 11, \"55\": 1, \"31\": 2, \"15\": 1, \"16\": 3, \"29\": 2, \"1\": 1, \"24\": 1, \"10\": 1, \"42\": 1}, \"49\": {\"49\": 17, \"32\": 2, \"37\": 3, \"14\": 2, \"9\": 1, \"51\": 2, \"22\": 1, \"33\": 2, \"2\": 1, \"36\": 1}, \"39\": {\"24\": 3, \"17\": 1, \"23\": 1, \"7\": 2, \"27\": 3, \"39\": 8, \"28\": 1, \"55\": 1, \"26\": 1, \"32\": 2, \"38\": 2, \"31\": 1, \"33\": 1, \"49\": 1}, \"46\": {\"46\": 135, \"5\": 1}, \"17\": {\"24\": 6, \"17\": 28, \"47\": 6, \"55\": 3, \"53\": 3, \"8\": 1, \"27\": 5, \"15\": 1, \"10\": 1, \"44\": 1, \"39\": 1, \"38\": 1, \"16\": 1, \"7\": 3, \"42\": 1, \"1\": 2}, \"19\": {\"19\": 153, \"43\": 3}, \"23\": {\"24\": 15, \"49\": 1, \"26\": 1, \"53\": 21, \"39\": 1, \"23\": 51, \"57\": 3, \"55\": 8, \"16\": 6, \"10\": 3, \"51\": 1, \"17\": 2, \"27\": 2, \"15\": 2, \"48\": 2, \"33\": 2, \"31\": 2, \"38\": 1, \"28\": 1, \"32\": 1, \"2\": 1, \"7\": 1, \"8\": 1, \"9\": 2, \"11\": 1}, \"1\": {\"17\": 3, \"1\": 75, \"55\": 6, \"29\": 4, \"40\": 3, \"27\": 7, \"47\": 2}, \"29\": {\"29\": 132, \"1\": 3, \"43\": 2, \"47\": 2, \"27\": 1}, \"56\": {\"45\": 20, \"56\": 80, \"50\": 8, \"5\": 7, \"22\": 2, \"46\": 3, \"6\": 8, \"20\": 3, \"8\": 4, \"0\": 6, \"48\": 4, \"9\": 2, \"57\": 1, \"13\": 2}, \"37\": {\"36\": 2, \"32\": 1, \"49\": 3, \"37\": 11, \"51\": 1, \"8\": 3, \"33\": 4, \"9\": 3, \"22\": 1, \"13\": 1, \"21\": 1, \"2\": 1}, \"33\": {\"33\": 19, \"49\": 3, \"23\": 1, \"21\": 1, \"37\": 2, \"38\": 1, \"51\": 2, \"48\": 2, \"8\": 1}, \"55\": {\"55\": 82, \"24\": 11, \"17\": 1, \"7\": 3, \"23\": 10, \"42\": 4, \"53\": 5, \"27\": 13, \"47\": 6, \"1\": 3, \"57\": 3, \"31\": 1}, \"30\": {\"0\": 1, \"21\": 1, \"30\": 110, \"14\": 3, \"13\": 4, \"8\": 1}, \"0\": {\"0\": 151, \"22\": 1}, \"36\": {\"36\": 61, \"48\": 1, \"21\": 2}, \"32\": {\"55\": 2, \"32\": 20, \"33\": 2, \"27\": 1, \"31\": 3, \"39\": 2, \"8\": 1, \"53\": 1}, \"31\": {\"32\": 1, \"49\": 2, \"38\": 3, \"31\": 8, \"39\": 2, \"28\": 1, \"36\": 1, \"55\": 1, \"17\": 1, \"47\": 1, \"25\": 1, \"23\": 2, \"53\": 3, \"2\": 1}, \"15\": {\"15\": 65, \"31\": 2, \"16\": 7, \"25\": 14, \"11\": 18, \"55\": 6, \"17\": 1, \"18\": 2, \"42\": 1, \"10\": 3, \"54\": 3, \"47\": 4, \"1\": 1, \"23\": 2, \"43\": 4, \"29\": 1, \"39\": 1, \"26\": 1, \"53\": 2}, \"12\": {\"12\": 113, \"20\": 2, \"13\": 1}, \"38\": {\"33\": 4, \"48\": 1, \"49\": 2, \"23\": 1, \"27\": 1, \"9\": 2, \"2\": 1, \"55\": 1, \"38\": 9, \"51\": 1, \"39\": 1}, \"40\": {\"40\": 126, \"47\": 6, \"44\": 2, \"27\": 2, \"4\": 9, \"1\": 1}, \"14\": {\"14\": 22, \"30\": 2}, \"13\": {\"13\": 150}, \"48\": {\"14\": 2, \"30\": 16, \"48\": 64, \"41\": 1, \"8\": 23, \"33\": 1, \"2\": 1, \"50\": 4, \"46\": 2, \"12\": 1, \"13\": 10, \"9\": 15, \"56\": 1, \"6\": 1, \"51\": 3, \"44\": 1, \"21\": 2}, \"34\": {\"34\": 10, \"15\": 1, \"11\": 1, \"26\": 1, \"43\": 2, \"54\": 3, \"25\": 2, \"42\": 1, \"10\": 2, \"16\": 1}, \"44\": {\"44\": 108, \"48\": 3, \"56\": 5, \"4\": 5, \"57\": 5, \"6\": 1, \"2\": 1, \"8\": 1, \"50\": 1}, \"5\": {\"5\": 152}, \"11\": {\"55\": 1, \"24\": 1, \"25\": 16, \"11\": 65, \"19\": 1, \"42\": 2, \"18\": 6, \"10\": 5, \"16\": 11, \"54\": 3, \"17\": 1, \"43\": 5, \"53\": 3, \"15\": 16, \"39\": 1, \"26\": 1, \"23\": 1, \"29\": 1}, \"7\": {\"7\": 14, \"2\": 1, \"33\": 2, \"38\": 2, \"37\": 1, \"24\": 1, \"55\": 2, \"9\": 1, \"14\": 1, \"39\": 1, \"17\": 1, \"53\": 1}, \"18\": {\"18\": 50, \"16\": 3, \"39\": 1, \"54\": 5, \"25\": 3, \"29\": 2, \"43\": 3, \"11\": 1, \"34\": 1, \"15\": 1, \"10\": 1, \"19\": 1}, \"52\": {\"52\": 121, \"22\": 6, \"21\": 3, \"0\": 2}, \"51\": {\"51\": 107, \"41\": 1, \"36\": 8, \"9\": 11, \"33\": 1, \"21\": 6, \"13\": 3, \"52\": 1, \"48\": 2, \"8\": 2}, \"41\": {\"51\": 5, \"14\": 1, \"41\": 12, \"36\": 1, \"30\": 3, \"9\": 2}, \"16\": {\"16\": 56, \"23\": 10, \"10\": 5, \"25\": 12, \"15\": 4, \"31\": 2, \"53\": 15, \"54\": 1, \"17\": 2, \"9\": 1, \"24\": 15, \"55\": 2, \"11\": 6, \"21\": 1, \"48\": 1, \"49\": 2, \"28\": 2, \"36\": 1, \"42\": 1, \"8\": 1}, \"22\": {\"22\": 117, \"0\": 3, \"52\": 11, \"21\": 3}, \"3\": {\"3\": 139, \"20\": 1}, \"54\": {\"54\": 85, \"43\": 6, \"18\": 3, \"10\": 1, \"29\": 2, \"34\": 3, \"17\": 1, \"42\": 1, \"25\": 1, \"15\": 1}, \"27\": {\"27\": 88, \"47\": 20, \"55\": 14, \"57\": 11, \"7\": 1, \"31\": 1, \"17\": 3, \"29\": 1, \"24\": 1, \"42\": 1, \"1\": 3}, \"20\": {\"20\": 120, \"12\": 10, \"13\": 1, \"3\": 8, \"0\": 1}, \"8\": {\"8\": 75, \"9\": 10, \"30\": 17, \"13\": 16, \"51\": 2, \"50\": 1, \"48\": 9, \"46\": 1, \"45\": 1, \"56\": 2, \"6\": 1, \"44\": 1, \"21\": 2}, \"50\": {\"50\": 141, \"6\": 3}, \"57\": {\"57\": 107, \"2\": 1, \"44\": 14, \"9\": 4, \"48\": 2, \"23\": 1, \"56\": 3, \"8\": 2, \"4\": 2, \"30\": 1, \"7\": 2, \"47\": 1}, \"4\": {\"4\": 104, \"40\": 10, \"32\": 2, \"44\": 4, \"57\": 7, \"47\": 1, \"9\": 2, \"27\": 2}, \"47\": {\"57\": 1, \"47\": 87, \"17\": 4, \"1\": 9, \"27\": 17, \"42\": 1, \"55\": 15, \"23\": 1, \"4\": 2, \"53\": 1, \"40\": 1, \"39\": 2, \"44\": 1, \"10\": 2, \"31\": 1, \"29\": 1}, \"10\": {\"10\": 35, \"53\": 5, \"43\": 2, \"11\": 4, \"25\": 10, \"33\": 1, \"16\": 12, \"42\": 2, \"54\": 1, \"15\": 4, \"1\": 1, \"24\": 4, \"17\": 3, \"55\": 6, \"47\": 2, \"26\": 1, \"28\": 1, \"23\": 1, \"8\": 1}, \"35\": {\"35\": 35, \"19\": 1}, \"53\": {\"39\": 1, \"53\": 75, \"33\": 1, \"28\": 5, \"37\": 1, \"24\": 6, \"10\": 5, \"9\": 2, \"56\": 1, \"23\": 8, \"16\": 5, \"13\": 1, \"27\": 3, \"55\": 9, \"31\": 1, \"51\": 1, \"47\": 1}, \"6\": {\"6\": 96}, \"43\": {\"43\": 111, \"54\": 13, \"47\": 4, \"15\": 3, \"55\": 1, \"34\": 3, \"42\": 3, \"29\": 1, \"27\": 1}, \"28\": {\"53\": 4, \"10\": 2, \"28\": 10, \"27\": 1, \"24\": 7, \"16\": 1, \"31\": 1, \"39\": 1, \"38\": 1}}, \"C_5\": {\"35\": {\"35\": 12, \"27\": 2, \"2\": 2, \"55\": 1, \"32\": 2, \"18\": 1, \"36\": 5, \"54\": 2, \"17\": 2, \"49\": 4, \"31\": 1, \"33\": 1, \"53\": 1}, \"57\": {\"47\": 11, \"57\": 37, \"0\": 11, \"3\": 2, \"56\": 10, \"8\": 8, \"46\": 6, \"52\": 10, \"7\": 2, \"20\": 5, \"1\": 11, \"5\": 3, \"21\": 3, \"9\": 9, \"13\": 1, \"39\": 1, \"48\": 1, \"43\": 1}, \"20\": {\"20\": 143, \"21\": 1}, \"12\": {\"12\": 95, \"6\": 1}, \"32\": {\"32\": 27, \"49\": 1, \"29\": 1, \"55\": 1, \"44\": 1, \"17\": 1}, \"25\": {\"25\": 76, \"31\": 3, \"15\": 7, \"55\": 7, \"11\": 17, \"42\": 2, \"18\": 4, \"16\": 11, \"54\": 1, \"53\": 5, \"41\": 1, \"17\": 2, \"10\": 2}, \"44\": {\"44\": 128, \"27\": 8, \"40\": 3, \"46\": 1, \"17\": 3, \"4\": 1, \"48\": 2, \"29\": 1, \"56\": 1}, \"31\": {\"11\": 2, \"54\": 4, \"31\": 19, \"49\": 3, \"26\": 1, \"35\": 2, \"36\": 2, \"25\": 1, \"17\": 1, \"55\": 1}, \"11\": {\"11\": 63, \"16\": 9, \"54\": 3, \"25\": 13, \"10\": 6, \"49\": 4, \"15\": 19, \"35\": 2, \"42\": 3, \"24\": 5, \"53\": 5, \"23\": 7, \"43\": 1, \"29\": 3, \"55\": 5, \"36\": 2}, \"47\": {\"20\": 5, \"57\": 10, \"47\": 30, \"52\": 9, \"21\": 3, \"3\": 2, \"1\": 6, \"56\": 7, \"13\": 3, \"0\": 9, \"38\": 1, \"51\": 1, \"46\": 3, \"9\": 4, \"4\": 1, \"8\": 3, \"5\": 1, \"30\": 1, \"43\": 1}, \"23\": {\"23\": 74, \"37\": 1, \"41\": 2, \"17\": 2, \"14\": 2, \"8\": 1, \"42\": 2, \"24\": 6, \"53\": 9, \"43\": 4, \"57\": 2, \"10\": 1, \"16\": 3, \"54\": 3, \"15\": 1, \"51\": 1, \"38\": 1, \"36\": 2, \"11\": 2, \"47\": 1, \"48\": 3, \"5\": 1}, \"43\": {\"7\": 4, \"52\": 5, \"43\": 66, \"39\": 1, \"51\": 21, \"13\": 15, \"48\": 4, \"1\": 1, \"9\": 1, \"46\": 1, \"56\": 2, \"8\": 10, \"20\": 4, \"57\": 4, \"23\": 1, \"41\": 1, \"14\": 2, \"47\": 1}, \"37\": {\"7\": 6, \"41\": 1, \"47\": 1, \"37\": 11, \"21\": 1, \"39\": 1, \"43\": 2, \"40\": 1}, \"5\": {\"5\": 83, \"9\": 10, \"48\": 16, \"14\": 1, \"57\": 6, \"4\": 6, \"1\": 1, \"47\": 1, \"40\": 1, \"8\": 2, \"30\": 1}, \"45\": {\"45\": 115, \"6\": 8, \"50\": 1}, \"7\": {\"7\": 21, \"52\": 2, \"38\": 1, \"8\": 3, \"57\": 1, \"20\": 1, \"21\": 2, \"1\": 1}, \"13\": {\"13\": 91, \"0\": 6, \"43\": 8, \"52\": 7, \"46\": 1, \"48\": 1, \"47\": 4, \"57\": 4, \"51\": 7, \"5\": 1, \"14\": 1, \"20\": 1, \"21\": 1, \"56\": 3}, \"49\": {\"54\": 5, \"55\": 4, \"24\": 1, \"49\": 20, \"35\": 2, \"33\": 2, \"2\": 1, \"29\": 1}, \"46\": {\"46\": 146, \"52\": 2}, \"16\": {\"16\": 57, \"11\": 10, \"36\": 5, \"24\": 4, \"53\": 8, \"23\": 12, \"25\": 4, \"10\": 3, \"43\": 2, \"48\": 2, \"15\": 22, \"56\": 1, \"55\": 1, \"54\": 1, \"51\": 3, \"42\": 1}, \"54\": {\"11\": 4, \"49\": 1, \"10\": 5, \"54\": 52, \"53\": 5, \"17\": 7, \"31\": 5, \"36\": 12, \"25\": 4, \"24\": 2, \"35\": 3, \"55\": 4, \"42\": 1, \"29\": 1, \"27\": 3, \"15\": 2, \"16\": 1}, \"19\": {\"19\": 150, \"34\": 2}, \"55\": {\"55\": 93, \"49\": 5, \"10\": 2, \"33\": 2, \"26\": 4, \"31\": 3, \"36\": 5, \"34\": 1, \"17\": 5, \"54\": 9, \"29\": 10, \"15\": 2, \"25\": 3, \"16\": 1, \"11\": 1, \"53\": 2, \"35\": 1, \"48\": 1}, \"30\": {\"30\": 113, \"20\": 3, \"50\": 1, \"4\": 1, \"9\": 1, \"6\": 2, \"12\": 2, \"45\": 3, \"1\": 2}, \"34\": {\"34\": 31, \"19\": 3, \"54\": 1, \"31\": 1}, \"50\": {\"50\": 134}, \"3\": {\"3\": 100}, \"10\": {\"31\": 1, \"10\": 23, \"49\": 1, \"25\": 4, \"53\": 2, \"15\": 4, \"11\": 6, \"35\": 2, \"33\": 1, \"36\": 2, \"17\": 2, \"51\": 1, \"54\": 1, \"16\": 6, \"48\": 1, \"24\": 4, \"29\": 3, \"14\": 2, \"55\": 1, \"43\": 1}, \"27\": {\"27\": 92, \"48\": 5, \"17\": 8, \"39\": 1, \"22\": 3, \"44\": 9, \"53\": 7, \"23\": 6, \"24\": 2, \"36\": 3, \"2\": 2, \"38\": 1, \"40\": 2, \"16\": 1}, \"33\": {\"10\": 1, \"54\": 2, \"49\": 2, \"55\": 3, \"32\": 1, \"33\": 16, \"17\": 1, \"42\": 1, \"26\": 1, \"31\": 1, \"35\": 2, \"36\": 1}, \"56\": {\"9\": 6, \"56\": 62, \"38\": 1, \"46\": 8, \"57\": 6, \"3\": 2, \"52\": 9, \"47\": 5, \"51\": 3, \"0\": 15, \"20\": 3, \"1\": 9, \"5\": 2, \"21\": 2, \"8\": 2, \"14\": 1, \"40\": 1, \"37\": 1, \"13\": 2, \"48\": 2}, \"9\": {\"4\": 2, \"9\": 79, \"47\": 6, \"30\": 14, \"46\": 7, \"6\": 3, \"51\": 1, \"20\": 2, \"56\": 4, \"1\": 15, \"45\": 5, \"57\": 6, \"52\": 1, \"0\": 3, \"5\": 2}, \"14\": {\"14\": 12, \"27\": 1, \"9\": 1, \"38\": 3, \"13\": 3, \"47\": 3, \"1\": 1, \"8\": 6, \"52\": 1, \"51\": 2, \"48\": 4, \"2\": 3, \"0\": 1, \"57\": 2, \"40\": 1}, \"4\": {\"4\": 68, \"57\": 1, \"47\": 1, \"9\": 6, \"1\": 3, \"56\": 2, \"5\": 14, \"30\": 1, \"48\": 1, \"40\": 1, \"20\": 1, \"44\": 1}, \"42\": {\"42\": 20, \"24\": 5, \"39\": 1, \"2\": 3, \"41\": 2, \"11\": 1, \"48\": 1, \"55\": 1, \"16\": 1, \"38\": 1, \"15\": 1, \"10\": 1, \"53\": 1, \"9\": 1}, \"24\": {\"24\": 41, \"39\": 1, \"42\": 3, \"41\": 1, \"16\": 3, \"10\": 3, \"53\": 4, \"11\": 2, \"23\": 11, \"43\": 1, \"38\": 1, \"2\": 2, \"57\": 1, \"40\": 2, \"17\": 1, \"15\": 1, \"8\": 1, \"51\": 1}, \"39\": {\"7\": 2, \"9\": 1, \"39\": 10, \"8\": 1, \"47\": 1, \"37\": 1, \"1\": 1, \"43\": 2, \"57\": 1}, \"52\": {\"52\": 128, \"21\": 1, \"46\": 1}, \"2\": {\"2\": 19, \"38\": 1, \"22\": 1, \"39\": 2, \"42\": 2, \"41\": 1, \"24\": 1, \"29\": 1}, \"28\": {\"28\": 26, \"18\": 6}, \"53\": {\"17\": 4, \"53\": 50, \"36\": 4, \"49\": 1, \"15\": 9, \"10\": 4, \"24\": 5, \"23\": 13, \"55\": 2, \"9\": 1, \"48\": 2, \"16\": 10, \"27\": 1, \"1\": 1, \"25\": 1, \"51\": 1, \"38\": 1, \"42\": 1, \"35\": 1, \"43\": 5, \"11\": 1, \"54\": 2, \"56\": 1, \"13\": 1}, \"17\": {\"54\": 10, \"55\": 4, \"49\": 1, \"17\": 65, \"2\": 1, \"36\": 3, \"44\": 3, \"15\": 2, \"23\": 3, \"53\": 4, \"29\": 3, \"27\": 7, \"40\": 1, \"24\": 2, \"33\": 3, \"39\": 1, \"22\": 2, \"16\": 1}, \"29\": {\"29\": 113, \"49\": 2, \"26\": 1, \"32\": 6, \"55\": 6, \"22\": 1, \"36\": 1, \"17\": 2}, \"38\": {\"30\": 2, \"38\": 6, \"22\": 1, \"39\": 1, \"40\": 2, \"14\": 2, \"8\": 1, \"24\": 1, \"51\": 4, \"42\": 1, \"7\": 1, \"5\": 1, \"53\": 1, \"48\": 3, \"41\": 3, \"56\": 1, \"57\": 1}, \"15\": {\"54\": 7, \"17\": 4, \"35\": 1, \"14\": 2, \"2\": 3, \"42\": 4, \"24\": 4, \"15\": 56, \"49\": 2, \"10\": 5, \"53\": 9, \"11\": 11, \"16\": 13, \"55\": 3, \"25\": 6, \"23\": 4, \"36\": 2, \"39\": 2, \"31\": 2, \"33\": 1, \"57\": 1, \"48\": 1, \"27\": 1}, \"26\": {\"26\": 15, \"28\": 1, \"55\": 3, \"32\": 1, \"18\": 1, \"31\": 1, \"17\": 1, \"19\": 1}, \"21\": {\"21\": 136, \"52\": 8}, \"41\": {\"38\": 3, \"41\": 16, \"39\": 2, \"48\": 2, \"47\": 1, \"51\": 1, \"7\": 1, \"43\": 1, \"20\": 1}, \"48\": {\"48\": 85, \"47\": 2, \"5\": 13, \"22\": 1, \"2\": 2, \"14\": 5, \"51\": 2, \"4\": 6, \"57\": 3, \"40\": 7, \"9\": 3, \"23\": 3, \"8\": 1, \"56\": 2, \"1\": 1}, \"22\": {\"5\": 3, \"44\": 3, \"22\": 15, \"33\": 2, \"48\": 1, \"27\": 2, \"14\": 1, \"38\": 1}, \"8\": {\"8\": 93, \"37\": 1, \"9\": 4, \"1\": 7, \"14\": 1, \"13\": 2, \"20\": 13, \"57\": 2, \"56\": 3, \"47\": 5, \"51\": 3, \"52\": 7, \"7\": 1, \"30\": 4, \"43\": 1, \"21\": 1}, \"18\": {\"18\": 45, \"36\": 1, \"54\": 1, \"29\": 1, \"19\": 1, \"55\": 1, \"25\": 9, \"16\": 1, \"10\": 2, \"11\": 1, \"31\": 1}, \"0\": {\"0\": 96, \"47\": 3, \"13\": 2, \"57\": 3, \"3\": 3, \"56\": 1, \"46\": 10, \"52\": 3, \"8\": 1}, \"1\": {\"1\": 52, \"47\": 3, \"30\": 14, \"7\": 1, \"57\": 6, \"20\": 25, \"56\": 6, \"46\": 13, \"13\": 1, \"0\": 2, \"9\": 6, \"50\": 1, \"52\": 6, \"8\": 1, \"21\": 1}, \"40\": {\"44\": 7, \"40\": 91, \"4\": 4, \"48\": 9, \"14\": 2, \"27\": 3, \"5\": 3, \"47\": 1, \"9\": 1, \"22\": 1, \"57\": 1, \"56\": 1}, \"6\": {\"6\": 122, \"50\": 6}, \"51\": {\"7\": 2, \"43\": 11, \"51\": 64, \"8\": 23, \"21\": 2, \"20\": 10, \"1\": 1, \"52\": 5, \"13\": 9, \"57\": 8, \"56\": 2, \"37\": 1, \"47\": 2, \"14\": 2}, \"36\": {\"36\": 52, \"2\": 1, \"35\": 6, \"32\": 1, \"17\": 10, \"27\": 4, \"54\": 9, \"53\": 2, \"29\": 1, \"23\": 2, \"33\": 2, \"55\": 2}}}, \"per_domain_accuracy\": {\"O_50\": {\"accuracy\": 0.9127604166666666, \"source?\": true}, \"O_14\": {\"accuracy\": 0.86875, \"source?\": true}, \"O_32\": {\"accuracy\": 0.871875, \"source?\": true}, \"O_44\": {\"accuracy\": 0.8153645833333333, \"source?\": true}, \"O_8\": {\"accuracy\": 0.86484375, \"source?\": true}, \"O_20\": {\"accuracy\": 0.8669270833333333, \"source?\": true}, \"O_38\": {\"accuracy\": 0.8861979166666667, \"source?\": true}, \"O_26\": {\"accuracy\": 0.8015625, \"source?\": true}, \"C_4\": {\"accuracy\": 0.6755681818181818, \"source?\": false}, \"C_2\": {\"accuracy\": 0.6520365168539326, \"source?\": false}, \"C_3\": {\"accuracy\": 0.6471354166666666, \"source?\": false}, \"C_1\": {\"accuracy\": 0.7271959459459459, \"source?\": false}, \"C_5\": {\"accuracy\": 0.6555516759776536, \"source?\": false}}}, \"history\": {\"epoch_indices\": [1, 2, 3, 4, 5, 6, 7], \"train_label_loss\": [1.104374382075011, 1.301987156332914, 0.5501910721223491, 0.3767518771041761, 0.3576051962295813, 0.34926007317068675, 0.33551165777663255], \"source_val_label_loss\": [150.3299102783203, 0.6071060299873352, 0.3984706997871399, 0.41832396388053894, 0.3525301516056061, 0.4266875386238098, 0.3331751823425293], \"target_val_label_loss\": [4505.38916015625, 276.2950744628906, 439.8919982910156, 504.7403259277344, 939.3583984375, 484.2708740234375, 591.0930786132812], \"source_val_acc_label\": [0.48736979166666666, 0.78427734375, 0.86103515625, 0.8488606770833333, 0.8738932291666667, 0.8470052083333334, 0.8826822916666667], \"target_val_acc_label\": [0.20335714285714285, 0.6687857142857143, 0.6721428571428572, 0.6625357142857143, 0.5869642857142857, 0.6650714285714285, 0.6683928571428571]}, \"dataset_metrics\": {\"source\": {\"train\": {\"n_unique_x\": 179200, \"n_unique_y\": 16, \"n_batch/episode\": 6720}, \"val\": {\"n_unique_x\": 38400, \"n_unique_y\": 16, \"n_batch/episode\": 960}, \"test\": {\"n_unique_x\": 38400, \"n_unique_y\": 16, \"n_batch/episode\": 960}}, \"target\": {\"train\": {\"n_unique_x\": 175197, \"n_unique_y\": 58, \"n_batch/episode\": 6309}, \"val\": {\"n_unique_x\": 37166, \"n_unique_y\": 58, \"n_batch/episode\": 875}, \"test\": {\"n_unique_x\": 37642, \"n_unique_y\": 58, \"n_batch/episode\": 890}}}}'"
      ]
     },
     "execution_count": 29,
     "metadata": {},
     "output_type": "execute_result"
    }
   ],
   "source": [
    "json.dumps(experiment)"
   ]
  }
 ],
 "metadata": {
  "celltoolbar": "Tags",
  "kernelspec": {
   "display_name": "Python 3 (ipykernel)",
   "language": "python",
   "name": "python3"
  },
  "language_info": {
   "codemirror_mode": {
    "name": "ipython",
    "version": 3
   },
   "file_extension": ".py",
   "mimetype": "text/x-python",
   "name": "python",
   "nbconvert_exporter": "python",
   "pygments_lexer": "ipython3",
   "version": "3.8.12"
  },
  "papermill": {
   "default_parameters": {},
   "duration": 1303.535781,
   "end_time": "2022-03-28T12:11:26.635091",
   "environment_variables": {},
   "exception": null,
   "input_path": "/root/csc500-main/csc500-notebooks/templates/tl_ptn_template.ipynb",
   "output_path": "trial.ipynb",
   "parameters": {
    "parameters": {
     "BEST_MODEL_PATH": "./best_model.pth",
     "NUM_LOGS_PER_EPOCH": 10,
     "criteria_for_best": "target_accuracy",
     "dataset_seed": 500,
     "datasets": [
      {
       "domain_prefix": "C_",
       "domains": [
        1,
        2,
        3,
        4,
        5
       ],
       "episode_transforms": [],
       "labels": [
        "1-10.",
        "1-11.",
        "1-15.",
        "1-16.",
        "1-17.",
        "1-18.",
        "1-19.",
        "10-4.",
        "10-7.",
        "11-1.",
        "11-14.",
        "11-17.",
        "11-20.",
        "11-7.",
        "13-20.",
        "13-8.",
        "14-10.",
        "14-11.",
        "14-14.",
        "14-7.",
        "15-1.",
        "15-20.",
        "16-1.",
        "16-16.",
        "17-10.",
        "17-11.",
        "17-2.",
        "19-1.",
        "19-16.",
        "19-19.",
        "19-20.",
        "19-3.",
        "2-10.",
        "2-11.",
        "2-17.",
        "2-18.",
        "2-20.",
        "2-3.",
        "2-4.",
        "2-5.",
        "2-6.",
        "2-7.",
        "2-8.",
        "3-13.",
        "3-18.",
        "3-3.",
        "4-1.",
        "4-10.",
        "4-11.",
        "4-19.",
        "5-5.",
        "6-15.",
        "7-10.",
        "7-14.",
        "8-18.",
        "8-20.",
        "8-3.",
        "8-8."
       ],
       "num_examples_per_domain_per_label": -1,
       "pickle_path": "/root/csc500-main/datasets/cores.stratified_ds.2022A.pkl",
       "source_or_target_dataset": "target",
       "x_transforms": [
        "jitter_256_10",
        "lowpass_+/-10MHz",
        "take_200"
       ]
      },
      {
       "domain_prefix": "O_",
       "domains": [
        32,
        38,
        8,
        44,
        14,
        50,
        20,
        26
       ],
       "episode_transforms": [],
       "labels": [
        "3123D52",
        "3123D65",
        "3123D79",
        "3123D80",
        "3123D54",
        "3123D70",
        "3123D7B",
        "3123D89",
        "3123D58",
        "3123D76",
        "3123D7D",
        "3123EFE",
        "3123D64",
        "3123D78",
        "3123D7E",
        "3124E4A"
       ],
       "num_examples_per_domain_per_label": 2000,
       "pickle_path": "/root/csc500-main/datasets/oracle.Run1_framed_2000Examples_stratified_ds.2022A.pkl",
       "source_or_target_dataset": "source",
       "x_transforms": [
        "jitter_256_10",
        "take_200",
        "resample_20Msps_to_25Msps"
       ]
      }
     ],
     "device": "cuda",
     "experiment_name": "tl_3-jitter10v2:oracle.run1.framed -> cores",
     "lr": 0.0001,
     "n_epoch": 50,
     "n_query": 2,
     "n_shot": 3,
     "n_way": 16,
     "patience": 3,
     "seed": 500,
     "test_k_factor": 2,
     "torch_default_dtype": "torch.float32",
     "train_k_factor": 3,
     "val_k_factor": 2,
     "x_net": [
      {
       "class": "nnReshape",
       "kargs": {
        "shape": [
         -1,
         1,
         2,
         256
        ]
       }
      },
      {
       "class": "Conv2d",
       "kargs": {
        "bias": false,
        "in_channels": 1,
        "kernel_size": [
         1,
         7
        ],
        "out_channels": 256,
        "padding": [
         0,
         3
        ]
       }
      },
      {
       "class": "ReLU",
       "kargs": {
        "inplace": true
       }
      },
      {
       "class": "BatchNorm2d",
       "kargs": {
        "num_features": 256
       }
      },
      {
       "class": "Conv2d",
       "kargs": {
        "bias": true,
        "in_channels": 256,
        "kernel_size": [
         2,
         7
        ],
        "out_channels": 80,
        "padding": [
         0,
         3
        ]
       }
      },
      {
       "class": "ReLU",
       "kargs": {
        "inplace": true
       }
      },
      {
       "class": "BatchNorm2d",
       "kargs": {
        "num_features": 80
       }
      },
      {
       "class": "Flatten",
       "kargs": {}
      },
      {
       "class": "Linear",
       "kargs": {
        "in_features": 20480,
        "out_features": 256
       }
      },
      {
       "class": "ReLU",
       "kargs": {
        "inplace": true
       }
      },
      {
       "class": "BatchNorm1d",
       "kargs": {
        "num_features": 256
       }
      },
      {
       "class": "Linear",
       "kargs": {
        "in_features": 256,
        "out_features": 256
       }
      }
     ],
     "x_shape": [
      2,
      256
     ]
    }
   },
   "start_time": "2022-03-28T11:49:43.099310",
   "version": "2.3.4"
  }
 },
 "nbformat": 4,
 "nbformat_minor": 5
}