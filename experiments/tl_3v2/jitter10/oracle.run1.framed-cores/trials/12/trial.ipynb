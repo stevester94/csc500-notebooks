{
 "cells": [
  {
   "cell_type": "markdown",
   "id": "9fea5f46",
   "metadata": {
    "papermill": {
     "duration": 0.02866,
     "end_time": "2022-03-28T11:29:47.327576",
     "exception": false,
     "start_time": "2022-03-28T11:29:47.298916",
     "status": "completed"
    },
    "tags": []
   },
   "source": [
    "# Transfer Learning Template"
   ]
  },
  {
   "cell_type": "code",
   "execution_count": 1,
   "id": "0902182a",
   "metadata": {
    "execution": {
     "iopub.execute_input": "2022-03-28T11:29:47.390093Z",
     "iopub.status.busy": "2022-03-28T11:29:47.389232Z",
     "iopub.status.idle": "2022-03-28T11:29:49.215347Z",
     "shell.execute_reply": "2022-03-28T11:29:49.214977Z"
    },
    "papermill": {
     "duration": 1.864239,
     "end_time": "2022-03-28T11:29:49.215433",
     "exception": false,
     "start_time": "2022-03-28T11:29:47.351194",
     "status": "completed"
    },
    "tags": []
   },
   "outputs": [],
   "source": [
    "%load_ext autoreload\n",
    "%autoreload 2\n",
    "%matplotlib inline\n",
    "\n",
    "    \n",
    "import os, json, sys, time, random\n",
    "import numpy as np\n",
    "import torch\n",
    "from torch.optim import Adam\n",
    "from  easydict import EasyDict\n",
    "import matplotlib.pyplot as plt\n",
    "\n",
    "from steves_models.steves_ptn import Steves_Prototypical_Network\n",
    "\n",
    "from steves_utils.lazy_iterable_wrapper import Lazy_Iterable_Wrapper\n",
    "from steves_utils.iterable_aggregator import Iterable_Aggregator\n",
    "from steves_utils.ptn_train_eval_test_jig import  PTN_Train_Eval_Test_Jig\n",
    "from steves_utils.torch_sequential_builder import build_sequential\n",
    "from steves_utils.torch_utils import get_dataset_metrics, ptn_confusion_by_domain_over_dataloader\n",
    "from steves_utils.utils_v2 import (per_domain_accuracy_from_confusion, get_datasets_base_path)\n",
    "from steves_utils.PTN.utils import independent_accuracy_assesment\n",
    "\n",
    "from torch.utils.data import DataLoader\n",
    "\n",
    "from steves_utils.stratified_dataset.episodic_accessor import Episodic_Accessor_Factory\n",
    "\n",
    "from steves_utils.ptn_do_report import (\n",
    "    get_loss_curve,\n",
    "    get_results_table,\n",
    "    get_parameters_table,\n",
    "    get_domain_accuracies,\n",
    ")\n",
    "\n",
    "from steves_utils.transforms import get_chained_transform"
   ]
  },
  {
   "cell_type": "markdown",
   "id": "41c840b4",
   "metadata": {
    "papermill": {
     "duration": 0.019372,
     "end_time": "2022-03-28T11:29:49.254406",
     "exception": false,
     "start_time": "2022-03-28T11:29:49.235034",
     "status": "completed"
    },
    "tags": []
   },
   "source": [
    "# Allowed Parameters\n",
    "These are allowed parameters, not defaults\n",
    "Each of these values need to be present in the injected parameters (the notebook will raise an exception if they are not present)\n",
    "\n",
    "Papermill uses the cell tag \"parameters\" to inject the real parameters below this cell.\n",
    "Enable tags to see what I mean"
   ]
  },
  {
   "cell_type": "code",
   "execution_count": 2,
   "id": "fd44eb83",
   "metadata": {
    "execution": {
     "iopub.execute_input": "2022-03-28T11:29:49.299612Z",
     "iopub.status.busy": "2022-03-28T11:29:49.299209Z",
     "iopub.status.idle": "2022-03-28T11:29:49.323476Z",
     "shell.execute_reply": "2022-03-28T11:29:49.323107Z"
    },
    "papermill": {
     "duration": 0.049882,
     "end_time": "2022-03-28T11:29:49.323558",
     "exception": false,
     "start_time": "2022-03-28T11:29:49.273676",
     "status": "completed"
    },
    "tags": []
   },
   "outputs": [],
   "source": [
    "required_parameters = {\n",
    "    \"experiment_name\",\n",
    "    \"lr\",\n",
    "    \"device\",\n",
    "    \"seed\",\n",
    "    \"dataset_seed\",\n",
    "    \"n_shot\",\n",
    "    \"n_query\",\n",
    "    \"n_way\",\n",
    "    \"train_k_factor\",\n",
    "    \"val_k_factor\",\n",
    "    \"test_k_factor\",\n",
    "    \"n_epoch\",\n",
    "    \"patience\",\n",
    "    \"criteria_for_best\",\n",
    "    \"x_net\",\n",
    "    \"datasets\",\n",
    "    \"torch_default_dtype\",\n",
    "    \"NUM_LOGS_PER_EPOCH\",\n",
    "    \"BEST_MODEL_PATH\",\n",
    "    \"x_shape\",\n",
    "}"
   ]
  },
  {
   "cell_type": "code",
   "execution_count": 3,
   "id": "fa3f0049",
   "metadata": {
    "execution": {
     "iopub.execute_input": "2022-03-28T11:29:49.375548Z",
     "iopub.status.busy": "2022-03-28T11:29:49.375033Z",
     "iopub.status.idle": "2022-03-28T11:29:49.397069Z",
     "shell.execute_reply": "2022-03-28T11:29:49.396700Z"
    },
    "papermill": {
     "duration": 0.053955,
     "end_time": "2022-03-28T11:29:49.397145",
     "exception": false,
     "start_time": "2022-03-28T11:29:49.343190",
     "status": "completed"
    },
    "tags": [
     "parameters"
    ]
   },
   "outputs": [],
   "source": [
    "from steves_utils.CORES.utils import (\n",
    "    ALL_NODES,\n",
    "    ALL_NODES_MINIMUM_1000_EXAMPLES,\n",
    "    ALL_DAYS\n",
    ")\n",
    "\n",
    "from steves_utils.ORACLE.utils_v2 import (\n",
    "    ALL_DISTANCES_FEET_NARROWED,\n",
    "    ALL_RUNS,\n",
    "    ALL_SERIAL_NUMBERS,\n",
    ")\n",
    "\n",
    "standalone_parameters = {}\n",
    "standalone_parameters[\"experiment_name\"] = \"STANDALONE PTN\"\n",
    "standalone_parameters[\"lr\"] = 0.001\n",
    "standalone_parameters[\"device\"] = \"cuda\"\n",
    "\n",
    "standalone_parameters[\"seed\"] = 1337\n",
    "standalone_parameters[\"dataset_seed\"] = 1337\n",
    "\n",
    "standalone_parameters[\"n_way\"] = 8\n",
    "standalone_parameters[\"n_shot\"] = 3\n",
    "standalone_parameters[\"n_query\"]  = 2\n",
    "standalone_parameters[\"train_k_factor\"] = 1\n",
    "standalone_parameters[\"val_k_factor\"] = 2\n",
    "standalone_parameters[\"test_k_factor\"] = 2\n",
    "\n",
    "\n",
    "standalone_parameters[\"n_epoch\"] = 50\n",
    "\n",
    "standalone_parameters[\"patience\"] = 10\n",
    "standalone_parameters[\"criteria_for_best\"] = \"source_loss\"\n",
    "\n",
    "standalone_parameters[\"datasets\"] = [\n",
    "    {\n",
    "        \"labels\": ALL_SERIAL_NUMBERS,\n",
    "        \"domains\": ALL_DISTANCES_FEET_NARROWED,\n",
    "        \"num_examples_per_domain_per_label\": 100,\n",
    "        \"pickle_path\": os.path.join(get_datasets_base_path(), \"oracle.Run1_framed_2000Examples_stratified_ds.2022A.pkl\"),\n",
    "        \"source_or_target_dataset\": \"source\",\n",
    "        \"x_transforms\": [\"unit_mag\", \"minus_two\"],\n",
    "        \"episode_transforms\": [],\n",
    "        \"domain_prefix\": \"ORACLE_\"\n",
    "    },\n",
    "    {\n",
    "        \"labels\": ALL_NODES,\n",
    "        \"domains\": ALL_DAYS,\n",
    "        \"num_examples_per_domain_per_label\": 100,\n",
    "        \"pickle_path\": os.path.join(get_datasets_base_path(), \"cores.stratified_ds.2022A.pkl\"),\n",
    "        \"source_or_target_dataset\": \"target\",\n",
    "        \"x_transforms\": [\"unit_power\", \"times_zero\"],\n",
    "        \"episode_transforms\": [],\n",
    "        \"domain_prefix\": \"CORES_\"\n",
    "    }   \n",
    "]\n",
    "\n",
    "standalone_parameters[\"torch_default_dtype\"] = \"torch.float32\" \n",
    "\n",
    "\n",
    "\n",
    "standalone_parameters[\"x_net\"] =     [\n",
    "    {\"class\": \"nnReshape\", \"kargs\": {\"shape\":[-1, 1, 2, 256]}},\n",
    "    {\"class\": \"Conv2d\", \"kargs\": { \"in_channels\":1, \"out_channels\":256, \"kernel_size\":(1,7), \"bias\":False, \"padding\":(0,3), },},\n",
    "    {\"class\": \"ReLU\", \"kargs\": {\"inplace\": True}},\n",
    "    {\"class\": \"BatchNorm2d\", \"kargs\": {\"num_features\":256}},\n",
    "\n",
    "    {\"class\": \"Conv2d\", \"kargs\": { \"in_channels\":256, \"out_channels\":80, \"kernel_size\":(2,7), \"bias\":True, \"padding\":(0,3), },},\n",
    "    {\"class\": \"ReLU\", \"kargs\": {\"inplace\": True}},\n",
    "    {\"class\": \"BatchNorm2d\", \"kargs\": {\"num_features\":80}},\n",
    "    {\"class\": \"Flatten\", \"kargs\": {}},\n",
    "\n",
    "    {\"class\": \"Linear\", \"kargs\": {\"in_features\": 80*256, \"out_features\": 256}}, # 80 units per IQ pair\n",
    "    {\"class\": \"ReLU\", \"kargs\": {\"inplace\": True}},\n",
    "    {\"class\": \"BatchNorm1d\", \"kargs\": {\"num_features\":256}},\n",
    "\n",
    "    {\"class\": \"Linear\", \"kargs\": {\"in_features\": 256, \"out_features\": 256}},\n",
    "]\n",
    "\n",
    "# Parameters relevant to results\n",
    "# These parameters will basically never need to change\n",
    "standalone_parameters[\"NUM_LOGS_PER_EPOCH\"] = 10\n",
    "standalone_parameters[\"BEST_MODEL_PATH\"] = \"./best_model.pth\"\n",
    "\n",
    "\n",
    "\n",
    "\n"
   ]
  },
  {
   "cell_type": "code",
   "execution_count": 4,
   "id": "79cc121e",
   "metadata": {
    "execution": {
     "iopub.execute_input": "2022-03-28T11:29:49.452004Z",
     "iopub.status.busy": "2022-03-28T11:29:49.438587Z",
     "iopub.status.idle": "2022-03-28T11:29:49.471334Z",
     "shell.execute_reply": "2022-03-28T11:29:49.470966Z"
    },
    "papermill": {
     "duration": 0.054819,
     "end_time": "2022-03-28T11:29:49.471405",
     "exception": false,
     "start_time": "2022-03-28T11:29:49.416586",
     "status": "completed"
    },
    "tags": [
     "injected-parameters"
    ]
   },
   "outputs": [],
   "source": [
    "# Parameters\n",
    "parameters = {\n",
    "    \"experiment_name\": \"tl_3-jitter10v2:oracle.run1.framed -> cores\",\n",
    "    \"device\": \"cuda\",\n",
    "    \"lr\": 0.0001,\n",
    "    \"x_shape\": [2, 256],\n",
    "    \"n_shot\": 3,\n",
    "    \"n_query\": 2,\n",
    "    \"train_k_factor\": 3,\n",
    "    \"val_k_factor\": 2,\n",
    "    \"test_k_factor\": 2,\n",
    "    \"torch_default_dtype\": \"torch.float32\",\n",
    "    \"n_epoch\": 50,\n",
    "    \"patience\": 3,\n",
    "    \"criteria_for_best\": \"target_accuracy\",\n",
    "    \"x_net\": [\n",
    "        {\"class\": \"nnReshape\", \"kargs\": {\"shape\": [-1, 1, 2, 256]}},\n",
    "        {\n",
    "            \"class\": \"Conv2d\",\n",
    "            \"kargs\": {\n",
    "                \"in_channels\": 1,\n",
    "                \"out_channels\": 256,\n",
    "                \"kernel_size\": [1, 7],\n",
    "                \"bias\": False,\n",
    "                \"padding\": [0, 3],\n",
    "            },\n",
    "        },\n",
    "        {\"class\": \"ReLU\", \"kargs\": {\"inplace\": True}},\n",
    "        {\"class\": \"BatchNorm2d\", \"kargs\": {\"num_features\": 256}},\n",
    "        {\n",
    "            \"class\": \"Conv2d\",\n",
    "            \"kargs\": {\n",
    "                \"in_channels\": 256,\n",
    "                \"out_channels\": 80,\n",
    "                \"kernel_size\": [2, 7],\n",
    "                \"bias\": True,\n",
    "                \"padding\": [0, 3],\n",
    "            },\n",
    "        },\n",
    "        {\"class\": \"ReLU\", \"kargs\": {\"inplace\": True}},\n",
    "        {\"class\": \"BatchNorm2d\", \"kargs\": {\"num_features\": 80}},\n",
    "        {\"class\": \"Flatten\", \"kargs\": {}},\n",
    "        {\"class\": \"Linear\", \"kargs\": {\"in_features\": 20480, \"out_features\": 256}},\n",
    "        {\"class\": \"ReLU\", \"kargs\": {\"inplace\": True}},\n",
    "        {\"class\": \"BatchNorm1d\", \"kargs\": {\"num_features\": 256}},\n",
    "        {\"class\": \"Linear\", \"kargs\": {\"in_features\": 256, \"out_features\": 256}},\n",
    "    ],\n",
    "    \"NUM_LOGS_PER_EPOCH\": 10,\n",
    "    \"BEST_MODEL_PATH\": \"./best_model.pth\",\n",
    "    \"n_way\": 16,\n",
    "    \"datasets\": [\n",
    "        {\n",
    "            \"labels\": [\n",
    "                \"1-10.\",\n",
    "                \"1-11.\",\n",
    "                \"1-15.\",\n",
    "                \"1-16.\",\n",
    "                \"1-17.\",\n",
    "                \"1-18.\",\n",
    "                \"1-19.\",\n",
    "                \"10-4.\",\n",
    "                \"10-7.\",\n",
    "                \"11-1.\",\n",
    "                \"11-14.\",\n",
    "                \"11-17.\",\n",
    "                \"11-20.\",\n",
    "                \"11-7.\",\n",
    "                \"13-20.\",\n",
    "                \"13-8.\",\n",
    "                \"14-10.\",\n",
    "                \"14-11.\",\n",
    "                \"14-14.\",\n",
    "                \"14-7.\",\n",
    "                \"15-1.\",\n",
    "                \"15-20.\",\n",
    "                \"16-1.\",\n",
    "                \"16-16.\",\n",
    "                \"17-10.\",\n",
    "                \"17-11.\",\n",
    "                \"17-2.\",\n",
    "                \"19-1.\",\n",
    "                \"19-16.\",\n",
    "                \"19-19.\",\n",
    "                \"19-20.\",\n",
    "                \"19-3.\",\n",
    "                \"2-10.\",\n",
    "                \"2-11.\",\n",
    "                \"2-17.\",\n",
    "                \"2-18.\",\n",
    "                \"2-20.\",\n",
    "                \"2-3.\",\n",
    "                \"2-4.\",\n",
    "                \"2-5.\",\n",
    "                \"2-6.\",\n",
    "                \"2-7.\",\n",
    "                \"2-8.\",\n",
    "                \"3-13.\",\n",
    "                \"3-18.\",\n",
    "                \"3-3.\",\n",
    "                \"4-1.\",\n",
    "                \"4-10.\",\n",
    "                \"4-11.\",\n",
    "                \"4-19.\",\n",
    "                \"5-5.\",\n",
    "                \"6-15.\",\n",
    "                \"7-10.\",\n",
    "                \"7-14.\",\n",
    "                \"8-18.\",\n",
    "                \"8-20.\",\n",
    "                \"8-3.\",\n",
    "                \"8-8.\",\n",
    "            ],\n",
    "            \"domains\": [1, 2, 3, 4, 5],\n",
    "            \"num_examples_per_domain_per_label\": -1,\n",
    "            \"pickle_path\": \"/root/csc500-main/datasets/cores.stratified_ds.2022A.pkl\",\n",
    "            \"source_or_target_dataset\": \"target\",\n",
    "            \"x_transforms\": [\n",
    "                \"unit_power\",\n",
    "                \"jitter_256_10\",\n",
    "                \"lowpass_+/-10MHz\",\n",
    "                \"take_200\",\n",
    "            ],\n",
    "            \"episode_transforms\": [],\n",
    "            \"domain_prefix\": \"C_\",\n",
    "        },\n",
    "        {\n",
    "            \"labels\": [\n",
    "                \"3123D52\",\n",
    "                \"3123D65\",\n",
    "                \"3123D79\",\n",
    "                \"3123D80\",\n",
    "                \"3123D54\",\n",
    "                \"3123D70\",\n",
    "                \"3123D7B\",\n",
    "                \"3123D89\",\n",
    "                \"3123D58\",\n",
    "                \"3123D76\",\n",
    "                \"3123D7D\",\n",
    "                \"3123EFE\",\n",
    "                \"3123D64\",\n",
    "                \"3123D78\",\n",
    "                \"3123D7E\",\n",
    "                \"3124E4A\",\n",
    "            ],\n",
    "            \"domains\": [32, 38, 8, 44, 14, 50, 20, 26],\n",
    "            \"num_examples_per_domain_per_label\": 2000,\n",
    "            \"pickle_path\": \"/root/csc500-main/datasets/oracle.Run1_framed_2000Examples_stratified_ds.2022A.pkl\",\n",
    "            \"source_or_target_dataset\": \"source\",\n",
    "            \"x_transforms\": [\n",
    "                \"unit_power\",\n",
    "                \"jitter_256_10\",\n",
    "                \"take_200\",\n",
    "                \"resample_20Msps_to_25Msps\",\n",
    "            ],\n",
    "            \"episode_transforms\": [],\n",
    "            \"domain_prefix\": \"O_\",\n",
    "        },\n",
    "    ],\n",
    "    \"seed\": 500,\n",
    "    \"dataset_seed\": 500,\n",
    "}\n"
   ]
  },
  {
   "cell_type": "code",
   "execution_count": 5,
   "id": "8fa1cc33",
   "metadata": {
    "execution": {
     "iopub.execute_input": "2022-03-28T11:29:49.515939Z",
     "iopub.status.busy": "2022-03-28T11:29:49.515556Z",
     "iopub.status.idle": "2022-03-28T11:29:49.532762Z",
     "shell.execute_reply": "2022-03-28T11:29:49.532398Z"
    },
    "papermill": {
     "duration": 0.041575,
     "end_time": "2022-03-28T11:29:49.532833",
     "exception": false,
     "start_time": "2022-03-28T11:29:49.491258",
     "status": "completed"
    },
    "tags": []
   },
   "outputs": [],
   "source": [
    "# Set this to True if you want to run this template directly\n",
    "STANDALONE = False\n",
    "if STANDALONE:\n",
    "    print(\"parameters not injected, running with standalone_parameters\")\n",
    "    parameters = standalone_parameters\n",
    "\n",
    "if not 'parameters' in locals() and not 'parameters' in globals():\n",
    "    raise Exception(\"Parameter injection failed\")\n",
    "\n",
    "#Use an easy dict for all the parameters\n",
    "p = EasyDict(parameters)\n",
    "\n",
    "if \"x_shape\" not in p:\n",
    "    p.x_shape = [2,256] # Default to this if we dont supply x_shape\n",
    "\n",
    "\n",
    "supplied_keys = set(p.keys())\n",
    "\n",
    "if  supplied_keys != required_parameters:\n",
    "    print(\"Parameters are incorrect\")\n",
    "    if len(supplied_keys - required_parameters)>0: print(\"Shouldn't have:\", str(supplied_keys - required_parameters))\n",
    "    if len(required_parameters - supplied_keys)>0: print(\"Need to have:\", str(required_parameters - supplied_keys))\n",
    "    raise RuntimeError(\"Parameters are incorrect\")"
   ]
  },
  {
   "cell_type": "code",
   "execution_count": 6,
   "id": "3a028d58",
   "metadata": {
    "execution": {
     "iopub.execute_input": "2022-03-28T11:29:49.577526Z",
     "iopub.status.busy": "2022-03-28T11:29:49.577159Z",
     "iopub.status.idle": "2022-03-28T11:29:49.597830Z",
     "shell.execute_reply": "2022-03-28T11:29:49.597465Z"
    },
    "papermill": {
     "duration": 0.045543,
     "end_time": "2022-03-28T11:29:49.597900",
     "exception": false,
     "start_time": "2022-03-28T11:29:49.552357",
     "status": "completed"
    },
    "tags": []
   },
   "outputs": [],
   "source": [
    "###################################\n",
    "# Set the RNGs and make it all deterministic\n",
    "###################################\n",
    "np.random.seed(p.seed)\n",
    "random.seed(p.seed)\n",
    "torch.manual_seed(p.seed)\n",
    "\n",
    "torch.use_deterministic_algorithms(True) "
   ]
  },
  {
   "cell_type": "code",
   "execution_count": 7,
   "id": "b691acf6",
   "metadata": {
    "execution": {
     "iopub.execute_input": "2022-03-28T11:29:49.642068Z",
     "iopub.status.busy": "2022-03-28T11:29:49.640867Z",
     "iopub.status.idle": "2022-03-28T11:29:49.661520Z",
     "shell.execute_reply": "2022-03-28T11:29:49.661154Z"
    },
    "papermill": {
     "duration": 0.043785,
     "end_time": "2022-03-28T11:29:49.661591",
     "exception": false,
     "start_time": "2022-03-28T11:29:49.617806",
     "status": "completed"
    },
    "tags": []
   },
   "outputs": [],
   "source": [
    "###########################################\n",
    "# The stratified datasets honor this\n",
    "###########################################\n",
    "torch.set_default_dtype(eval(p.torch_default_dtype))"
   ]
  },
  {
   "cell_type": "code",
   "execution_count": 8,
   "id": "b5fba671",
   "metadata": {
    "execution": {
     "iopub.execute_input": "2022-03-28T11:29:49.704684Z",
     "iopub.status.busy": "2022-03-28T11:29:49.704313Z",
     "iopub.status.idle": "2022-03-28T11:29:49.762510Z",
     "shell.execute_reply": "2022-03-28T11:29:49.762194Z"
    },
    "papermill": {
     "duration": 0.081095,
     "end_time": "2022-03-28T11:29:49.762580",
     "exception": false,
     "start_time": "2022-03-28T11:29:49.681485",
     "status": "completed"
    },
    "tags": []
   },
   "outputs": [],
   "source": [
    "###################################\n",
    "# Build the network(s)\n",
    "# Note: It's critical to do this AFTER setting the RNG\n",
    "###################################\n",
    "x_net = build_sequential(p.x_net)"
   ]
  },
  {
   "cell_type": "code",
   "execution_count": 9,
   "id": "5d7e61cc",
   "metadata": {
    "execution": {
     "iopub.execute_input": "2022-03-28T11:29:49.806815Z",
     "iopub.status.busy": "2022-03-28T11:29:49.806450Z",
     "iopub.status.idle": "2022-03-28T11:29:49.830082Z",
     "shell.execute_reply": "2022-03-28T11:29:49.829716Z"
    },
    "papermill": {
     "duration": 0.047436,
     "end_time": "2022-03-28T11:29:49.830153",
     "exception": false,
     "start_time": "2022-03-28T11:29:49.782717",
     "status": "completed"
    },
    "tags": []
   },
   "outputs": [],
   "source": [
    "start_time_secs = time.time()"
   ]
  },
  {
   "cell_type": "code",
   "execution_count": 10,
   "id": "c6b67dfd",
   "metadata": {
    "execution": {
     "iopub.execute_input": "2022-03-28T11:29:49.878899Z",
     "iopub.status.busy": "2022-03-28T11:29:49.878528Z",
     "iopub.status.idle": "2022-03-28T11:29:49.902867Z",
     "shell.execute_reply": "2022-03-28T11:29:49.902157Z"
    },
    "papermill": {
     "duration": 0.052736,
     "end_time": "2022-03-28T11:29:49.903028",
     "exception": false,
     "start_time": "2022-03-28T11:29:49.850292",
     "status": "completed"
    },
    "tags": []
   },
   "outputs": [],
   "source": [
    "p.domains_source = []\n",
    "p.domains_target = []\n",
    "\n",
    "\n",
    "train_original_source = []\n",
    "val_original_source   = []\n",
    "test_original_source  = []\n",
    "\n",
    "train_original_target = []\n",
    "val_original_target   = []\n",
    "test_original_target  = []"
   ]
  },
  {
   "cell_type": "code",
   "execution_count": 11,
   "id": "e3d9c3d3",
   "metadata": {
    "execution": {
     "iopub.execute_input": "2022-03-28T11:29:49.949590Z",
     "iopub.status.busy": "2022-03-28T11:29:49.949227Z",
     "iopub.status.idle": "2022-03-28T11:29:49.972310Z",
     "shell.execute_reply": "2022-03-28T11:29:49.971478Z"
    },
    "papermill": {
     "duration": 0.045033,
     "end_time": "2022-03-28T11:29:49.972463",
     "exception": false,
     "start_time": "2022-03-28T11:29:49.927430",
     "status": "completed"
    },
    "tags": []
   },
   "outputs": [],
   "source": [
    "# global_x_transform_func = lambda x: normalize(x.to(torch.get_default_dtype()), \"unit_power\") # unit_power, unit_mag\n",
    "# global_x_transform_func = lambda x: normalize(x, \"unit_power\") # unit_power, unit_mag"
   ]
  },
  {
   "cell_type": "code",
   "execution_count": 12,
   "id": "acb78fd2",
   "metadata": {
    "execution": {
     "iopub.execute_input": "2022-03-28T11:29:50.030575Z",
     "iopub.status.busy": "2022-03-28T11:29:50.029730Z",
     "iopub.status.idle": "2022-03-28T11:29:50.052321Z",
     "shell.execute_reply": "2022-03-28T11:29:50.051504Z"
    },
    "papermill": {
     "duration": 0.054507,
     "end_time": "2022-03-28T11:29:50.052475",
     "exception": false,
     "start_time": "2022-03-28T11:29:49.997968",
     "status": "completed"
    },
    "tags": []
   },
   "outputs": [],
   "source": [
    "def add_dataset(\n",
    "    labels,\n",
    "    domains,\n",
    "    pickle_path,\n",
    "    x_transforms,\n",
    "    episode_transforms,\n",
    "    domain_prefix,\n",
    "    num_examples_per_domain_per_label,\n",
    "    source_or_target_dataset:str,\n",
    "    iterator_seed=p.seed,\n",
    "    dataset_seed=p.dataset_seed,\n",
    "    n_shot=p.n_shot,\n",
    "    n_way=p.n_way,\n",
    "    n_query=p.n_query,\n",
    "    train_val_test_k_factors=(p.train_k_factor,p.val_k_factor,p.test_k_factor),\n",
    "):\n",
    "   \n",
    "    if x_transforms == []: x_transform = None\n",
    "    else: x_transform = get_chained_transform(x_transforms)\n",
    "    \n",
    "    if episode_transforms == []: episode_transform = None\n",
    "    else: raise Exception(\"episode_transforms not implemented\")\n",
    "    \n",
    "    episode_transform = lambda tup, _prefix=domain_prefix: (_prefix + str(tup[0]), tup[1])\n",
    "\n",
    "\n",
    "    eaf = Episodic_Accessor_Factory(\n",
    "        labels=labels,\n",
    "        domains=domains,\n",
    "        num_examples_per_domain_per_label=num_examples_per_domain_per_label,\n",
    "        iterator_seed=iterator_seed,\n",
    "        dataset_seed=dataset_seed,\n",
    "        n_shot=n_shot,\n",
    "        n_way=n_way,\n",
    "        n_query=n_query,\n",
    "        train_val_test_k_factors=train_val_test_k_factors,\n",
    "        pickle_path=pickle_path,\n",
    "        x_transform_func=x_transform,\n",
    "    )\n",
    "\n",
    "    train, val, test = eaf.get_train(), eaf.get_val(), eaf.get_test()\n",
    "    train = Lazy_Iterable_Wrapper(train, episode_transform)\n",
    "    val = Lazy_Iterable_Wrapper(val, episode_transform)\n",
    "    test = Lazy_Iterable_Wrapper(test, episode_transform)\n",
    "\n",
    "    if source_or_target_dataset==\"source\":\n",
    "        train_original_source.append(train)\n",
    "        val_original_source.append(val)\n",
    "        test_original_source.append(test)\n",
    "\n",
    "        p.domains_source.extend(\n",
    "            [domain_prefix + str(u) for u in domains]\n",
    "        )\n",
    "    elif source_or_target_dataset==\"target\":\n",
    "        train_original_target.append(train)\n",
    "        val_original_target.append(val)\n",
    "        test_original_target.append(test)\n",
    "        p.domains_target.extend(\n",
    "            [domain_prefix + str(u) for u in domains]\n",
    "        )\n",
    "    else:\n",
    "        raise Exception(f\"invalid source_or_target_dataset: {source_or_target_dataset}\")\n",
    "    "
   ]
  },
  {
   "cell_type": "code",
   "execution_count": 13,
   "id": "fe266617",
   "metadata": {
    "execution": {
     "iopub.execute_input": "2022-03-28T11:29:50.103523Z",
     "iopub.status.busy": "2022-03-28T11:29:50.102967Z",
     "iopub.status.idle": "2022-03-28T11:31:42.209431Z",
     "shell.execute_reply": "2022-03-28T11:31:42.209023Z"
    },
    "papermill": {
     "duration": 112.129494,
     "end_time": "2022-03-28T11:31:42.209543",
     "exception": false,
     "start_time": "2022-03-28T11:29:50.080049",
     "status": "completed"
    },
    "tags": []
   },
   "outputs": [],
   "source": [
    "for ds in p.datasets:\n",
    "    add_dataset(**ds)"
   ]
  },
  {
   "cell_type": "code",
   "execution_count": 14,
   "id": "b90d65ac",
   "metadata": {
    "execution": {
     "iopub.execute_input": "2022-03-28T11:31:42.255326Z",
     "iopub.status.busy": "2022-03-28T11:31:42.254754Z",
     "iopub.status.idle": "2022-03-28T11:31:42.277281Z",
     "shell.execute_reply": "2022-03-28T11:31:42.276886Z"
    },
    "papermill": {
     "duration": 0.046127,
     "end_time": "2022-03-28T11:31:42.277362",
     "exception": false,
     "start_time": "2022-03-28T11:31:42.231235",
     "status": "completed"
    },
    "tags": []
   },
   "outputs": [],
   "source": [
    "# from steves_utils.CORES.utils import (\n",
    "#     ALL_NODES,\n",
    "#     ALL_NODES_MINIMUM_1000_EXAMPLES,\n",
    "#     ALL_DAYS\n",
    "# )\n",
    "\n",
    "# add_dataset(\n",
    "#     labels=ALL_NODES,\n",
    "#     domains = ALL_DAYS,\n",
    "#     num_examples_per_domain_per_label=100,\n",
    "#     pickle_path=os.path.join(get_datasets_base_path(), \"cores.stratified_ds.2022A.pkl\"),\n",
    "#     source_or_target_dataset=\"target\",\n",
    "#     x_transform_func=global_x_transform_func,\n",
    "#     domain_modifier=lambda u: f\"cores_{u}\"\n",
    "# )"
   ]
  },
  {
   "cell_type": "code",
   "execution_count": 15,
   "id": "76db484d",
   "metadata": {
    "execution": {
     "iopub.execute_input": "2022-03-28T11:31:42.324610Z",
     "iopub.status.busy": "2022-03-28T11:31:42.323839Z",
     "iopub.status.idle": "2022-03-28T11:31:42.339300Z",
     "shell.execute_reply": "2022-03-28T11:31:42.338910Z"
    },
    "papermill": {
     "duration": 0.041671,
     "end_time": "2022-03-28T11:31:42.339375",
     "exception": false,
     "start_time": "2022-03-28T11:31:42.297704",
     "status": "completed"
    },
    "tags": []
   },
   "outputs": [],
   "source": [
    "# from steves_utils.ORACLE.utils_v2 import (\n",
    "#     ALL_DISTANCES_FEET,\n",
    "#     ALL_RUNS,\n",
    "#     ALL_SERIAL_NUMBERS,\n",
    "# )\n",
    "\n",
    "\n",
    "# add_dataset(\n",
    "#     labels=ALL_SERIAL_NUMBERS,\n",
    "#     domains = list(set(ALL_DISTANCES_FEET) - {2,62}),\n",
    "#     num_examples_per_domain_per_label=100,\n",
    "#     pickle_path=os.path.join(get_datasets_base_path(), \"oracle.Run2_framed_2000Examples_stratified_ds.2022A.pkl\"),\n",
    "#     source_or_target_dataset=\"source\",\n",
    "#     x_transform_func=global_x_transform_func,\n",
    "#     domain_modifier=lambda u: f\"oracle1_{u}\"\n",
    "# )\n"
   ]
  },
  {
   "cell_type": "code",
   "execution_count": 16,
   "id": "97dea9d2",
   "metadata": {
    "execution": {
     "iopub.execute_input": "2022-03-28T11:31:42.384087Z",
     "iopub.status.busy": "2022-03-28T11:31:42.383337Z",
     "iopub.status.idle": "2022-03-28T11:31:42.400998Z",
     "shell.execute_reply": "2022-03-28T11:31:42.400423Z"
    },
    "papermill": {
     "duration": 0.041223,
     "end_time": "2022-03-28T11:31:42.401110",
     "exception": false,
     "start_time": "2022-03-28T11:31:42.359887",
     "status": "completed"
    },
    "tags": []
   },
   "outputs": [],
   "source": [
    "# from steves_utils.ORACLE.utils_v2 import (\n",
    "#     ALL_DISTANCES_FEET,\n",
    "#     ALL_RUNS,\n",
    "#     ALL_SERIAL_NUMBERS,\n",
    "# )\n",
    "\n",
    "\n",
    "# add_dataset(\n",
    "#     labels=ALL_SERIAL_NUMBERS,\n",
    "#     domains = list(set(ALL_DISTANCES_FEET) - {2,62,56}),\n",
    "#     num_examples_per_domain_per_label=100,\n",
    "#     pickle_path=os.path.join(get_datasets_base_path(), \"oracle.Run2_framed_2000Examples_stratified_ds.2022A.pkl\"),\n",
    "#     source_or_target_dataset=\"source\",\n",
    "#     x_transform_func=global_x_transform_func,\n",
    "#     domain_modifier=lambda u: f\"oracle2_{u}\"\n",
    "# )"
   ]
  },
  {
   "cell_type": "code",
   "execution_count": 17,
   "id": "6f289866",
   "metadata": {
    "execution": {
     "iopub.execute_input": "2022-03-28T11:31:42.448633Z",
     "iopub.status.busy": "2022-03-28T11:31:42.448075Z",
     "iopub.status.idle": "2022-03-28T11:31:42.465537Z",
     "shell.execute_reply": "2022-03-28T11:31:42.465145Z"
    },
    "papermill": {
     "duration": 0.040277,
     "end_time": "2022-03-28T11:31:42.465614",
     "exception": false,
     "start_time": "2022-03-28T11:31:42.425337",
     "status": "completed"
    },
    "tags": []
   },
   "outputs": [],
   "source": [
    "# add_dataset(\n",
    "#     labels=list(range(19)),\n",
    "#     domains = [0,1,2],\n",
    "#     num_examples_per_domain_per_label=100,\n",
    "#     pickle_path=os.path.join(get_datasets_base_path(), \"metehan.stratified_ds.2022A.pkl\"),\n",
    "#     source_or_target_dataset=\"target\",\n",
    "#     x_transform_func=global_x_transform_func,\n",
    "#     domain_modifier=lambda u: f\"met_{u}\"\n",
    "# )"
   ]
  },
  {
   "cell_type": "code",
   "execution_count": 18,
   "id": "86a863c3",
   "metadata": {
    "execution": {
     "iopub.execute_input": "2022-03-28T11:31:42.510556Z",
     "iopub.status.busy": "2022-03-28T11:31:42.509790Z",
     "iopub.status.idle": "2022-03-28T11:31:42.527260Z",
     "shell.execute_reply": "2022-03-28T11:31:42.526882Z"
    },
    "papermill": {
     "duration": 0.040962,
     "end_time": "2022-03-28T11:31:42.527335",
     "exception": false,
     "start_time": "2022-03-28T11:31:42.486373",
     "status": "completed"
    },
    "tags": []
   },
   "outputs": [],
   "source": [
    "# # from steves_utils.wisig.utils import (\n",
    "# #     ALL_NODES_MINIMUM_100_EXAMPLES,\n",
    "# #     ALL_NODES_MINIMUM_500_EXAMPLES,\n",
    "# #     ALL_NODES_MINIMUM_1000_EXAMPLES,\n",
    "# #     ALL_DAYS\n",
    "# # )\n",
    "\n",
    "# import steves_utils.wisig.utils as wisig\n",
    "\n",
    "\n",
    "# add_dataset(\n",
    "#     labels=wisig.ALL_NODES_MINIMUM_100_EXAMPLES,\n",
    "#     domains = wisig.ALL_DAYS,\n",
    "#     num_examples_per_domain_per_label=100,\n",
    "#     pickle_path=os.path.join(get_datasets_base_path(), \"wisig.node3-19.stratified_ds.2022A.pkl\"),\n",
    "#     source_or_target_dataset=\"target\",\n",
    "#     x_transform_func=global_x_transform_func,\n",
    "#     domain_modifier=lambda u: f\"wisig_{u}\"\n",
    "# )"
   ]
  },
  {
   "cell_type": "code",
   "execution_count": 19,
   "id": "fd5442bc",
   "metadata": {
    "execution": {
     "iopub.execute_input": "2022-03-28T11:31:42.574604Z",
     "iopub.status.busy": "2022-03-28T11:31:42.573701Z",
     "iopub.status.idle": "2022-03-28T11:31:42.592588Z",
     "shell.execute_reply": "2022-03-28T11:31:42.592200Z"
    },
    "papermill": {
     "duration": 0.044879,
     "end_time": "2022-03-28T11:31:42.592666",
     "exception": false,
     "start_time": "2022-03-28T11:31:42.547787",
     "status": "completed"
    },
    "tags": []
   },
   "outputs": [],
   "source": [
    "###################################\n",
    "# Build the dataset\n",
    "###################################\n",
    "train_original_source = Iterable_Aggregator(train_original_source, p.seed)\n",
    "val_original_source = Iterable_Aggregator(val_original_source, p.seed)\n",
    "test_original_source = Iterable_Aggregator(test_original_source, p.seed)\n",
    "\n",
    "\n",
    "train_original_target = Iterable_Aggregator(train_original_target, p.seed)\n",
    "val_original_target = Iterable_Aggregator(val_original_target, p.seed)\n",
    "test_original_target = Iterable_Aggregator(test_original_target, p.seed)\n",
    "\n",
    "# For CNN We only use X and Y. And we only train on the source.\n",
    "# Properly form the data using a transform lambda and Lazy_Iterable_Wrapper. Finally wrap them in a dataloader\n",
    "\n",
    "transform_lambda = lambda ex: ex[1] # Original is (<domain>, <episode>) so we strip down to episode only\n",
    "\n",
    "train_processed_source = Lazy_Iterable_Wrapper(train_original_source, transform_lambda)\n",
    "val_processed_source   = Lazy_Iterable_Wrapper(val_original_source, transform_lambda)\n",
    "test_processed_source  = Lazy_Iterable_Wrapper(test_original_source, transform_lambda)\n",
    "\n",
    "train_processed_target = Lazy_Iterable_Wrapper(train_original_target, transform_lambda)\n",
    "val_processed_target   = Lazy_Iterable_Wrapper(val_original_target, transform_lambda)\n",
    "test_processed_target  = Lazy_Iterable_Wrapper(test_original_target, transform_lambda)\n",
    "\n",
    "datasets = EasyDict({\n",
    "    \"source\": {\n",
    "        \"original\": {\"train\":train_original_source, \"val\":val_original_source, \"test\":test_original_source},\n",
    "        \"processed\": {\"train\":train_processed_source, \"val\":val_processed_source, \"test\":test_processed_source}\n",
    "    },\n",
    "    \"target\": {\n",
    "        \"original\": {\"train\":train_original_target, \"val\":val_original_target, \"test\":test_original_target},\n",
    "        \"processed\": {\"train\":train_processed_target, \"val\":val_processed_target, \"test\":test_processed_target}\n",
    "    },\n",
    "})"
   ]
  },
  {
   "cell_type": "code",
   "execution_count": 20,
   "id": "5b3c01fc",
   "metadata": {
    "execution": {
     "iopub.execute_input": "2022-03-28T11:31:42.639010Z",
     "iopub.status.busy": "2022-03-28T11:31:42.638077Z",
     "iopub.status.idle": "2022-03-28T11:31:56.650684Z",
     "shell.execute_reply": "2022-03-28T11:31:56.649826Z"
    },
    "papermill": {
     "duration": 14.037174,
     "end_time": "2022-03-28T11:31:56.650874",
     "exception": false,
     "start_time": "2022-03-28T11:31:42.613700",
     "status": "completed"
    },
    "tags": []
   },
   "outputs": [
    {
     "name": "stdout",
     "output_type": "stream",
     "text": [
      "{'O_14', 'O_32', 'O_44', 'O_38', 'O_26', 'O_20', 'O_8', 'O_50'}\n"
     ]
    },
    {
     "name": "stdout",
     "output_type": "stream",
     "text": [
      "{'C_5', 'C_3', 'C_2', 'C_1', 'C_4'}\n"
     ]
    },
    {
     "name": "stdout",
     "output_type": "stream",
     "text": [
      "tensor([[[0., 0., 0.,  ..., 0., 0., 0.],\n",
      "         [0., 0., 0.,  ..., 0., 0., 0.]],\n",
      "\n",
      "        [[0., 0., 0.,  ..., 0., 0., 0.],\n",
      "         [0., 0., 0.,  ..., 0., 0., 0.]],\n",
      "\n",
      "        [[0., 0., 0.,  ..., 0., 0., 0.],\n",
      "         [0., 0., 0.,  ..., 0., 0., 0.]],\n",
      "\n",
      "        ...,\n",
      "\n",
      "        [[0., 0., 0.,  ..., 0., 0., 0.],\n",
      "         [0., 0., 0.,  ..., 0., 0., 0.]],\n",
      "\n",
      "        [[0., 0., 0.,  ..., 0., 0., 0.],\n",
      "         [0., 0., 0.,  ..., 0., 0., 0.]],\n",
      "\n",
      "        [[0., 0., 0.,  ..., 0., 0., 0.],\n",
      "         [0., 0., 0.,  ..., 0., 0., 0.]]])\n"
     ]
    }
   ],
   "source": [
    "from steves_utils.transforms import get_average_magnitude, get_average_power\n",
    "\n",
    "print(set([u for u,_ in val_original_source]))\n",
    "print(set([u for u,_ in val_original_target]))\n",
    "\n",
    "s_x, s_y, q_x, q_y, _ = next(iter(train_processed_source))\n",
    "print(s_x)\n",
    "\n",
    "# for ds in [\n",
    "#     train_processed_source,\n",
    "#     val_processed_source,\n",
    "#     test_processed_source,\n",
    "#     train_processed_target,\n",
    "#     val_processed_target,\n",
    "#     test_processed_target\n",
    "# ]:\n",
    "#     for s_x, s_y, q_x, q_y, _ in ds:\n",
    "#         for X in (s_x, q_x):\n",
    "#             for x in X:\n",
    "#                 assert np.isclose(get_average_magnitude(x.numpy()), 1.0)\n",
    "#                 assert np.isclose(get_average_power(x.numpy()), 1.0)\n",
    "                "
   ]
  },
  {
   "cell_type": "code",
   "execution_count": 21,
   "id": "bbdacba1",
   "metadata": {
    "execution": {
     "iopub.execute_input": "2022-03-28T11:31:56.709236Z",
     "iopub.status.busy": "2022-03-28T11:31:56.708461Z",
     "iopub.status.idle": "2022-03-28T11:31:56.869263Z",
     "shell.execute_reply": "2022-03-28T11:31:56.868950Z"
    },
    "papermill": {
     "duration": 0.191807,
     "end_time": "2022-03-28T11:31:56.869343",
     "exception": false,
     "start_time": "2022-03-28T11:31:56.677536",
     "status": "completed"
    },
    "tags": []
   },
   "outputs": [
    {
     "name": "stdout",
     "output_type": "stream",
     "text": [
      "(2, 256)\n"
     ]
    }
   ],
   "source": [
    "###################################\n",
    "# Build the model\n",
    "###################################\n",
    "# easfsl only wants a tuple for the shape\n",
    "model = Steves_Prototypical_Network(x_net, device=p.device, x_shape=tuple(p.x_shape))\n",
    "optimizer = Adam(params=model.parameters(), lr=p.lr)"
   ]
  },
  {
   "cell_type": "code",
   "execution_count": 22,
   "id": "22b39ac5",
   "metadata": {
    "execution": {
     "iopub.execute_input": "2022-03-28T11:31:56.918162Z",
     "iopub.status.busy": "2022-03-28T11:31:56.917685Z",
     "iopub.status.idle": "2022-03-28T11:46:55.286157Z",
     "shell.execute_reply": "2022-03-28T11:46:55.285810Z"
    },
    "papermill": {
     "duration": 898.39453,
     "end_time": "2022-03-28T11:46:55.286242",
     "exception": false,
     "start_time": "2022-03-28T11:31:56.891712",
     "status": "completed"
    },
    "tags": []
   },
   "outputs": [
    {
     "name": "stdout",
     "output_type": "stream",
     "text": [
      "epoch: 1, [batch: 1 / 6720], examples_per_second: 32.6233, train_label_loss: 2.8021, \n"
     ]
    },
    {
     "name": "stdout",
     "output_type": "stream",
     "text": [
      "epoch: 1, [batch: 672 / 6720], examples_per_second: 4134.8643, train_label_loss: 2.7606, \n"
     ]
    },
    {
     "name": "stdout",
     "output_type": "stream",
     "text": [
      "epoch: 1, [batch: 1344 / 6720], examples_per_second: 4203.1019, train_label_loss: 2.8156, \n"
     ]
    },
    {
     "name": "stdout",
     "output_type": "stream",
     "text": [
      "epoch: 1, [batch: 2016 / 6720], examples_per_second: 4336.5096, train_label_loss: 2.8089, \n"
     ]
    },
    {
     "name": "stdout",
     "output_type": "stream",
     "text": [
      "epoch: 1, [batch: 2688 / 6720], examples_per_second: 3940.8436, train_label_loss: 2.7754, \n"
     ]
    },
    {
     "name": "stdout",
     "output_type": "stream",
     "text": [
      "epoch: 1, [batch: 3360 / 6720], examples_per_second: 3902.1985, train_label_loss: 1.4478, \n"
     ]
    },
    {
     "name": "stdout",
     "output_type": "stream",
     "text": [
      "epoch: 1, [batch: 4032 / 6720], examples_per_second: 3892.1258, train_label_loss: 1.9680, \n"
     ]
    },
    {
     "name": "stdout",
     "output_type": "stream",
     "text": [
      "epoch: 1, [batch: 4704 / 6720], examples_per_second: 3845.2750, train_label_loss: 1.3388, \n"
     ]
    },
    {
     "name": "stdout",
     "output_type": "stream",
     "text": [
      "epoch: 1, [batch: 5376 / 6720], examples_per_second: 3910.9404, train_label_loss: 1.4819, \n"
     ]
    },
    {
     "name": "stdout",
     "output_type": "stream",
     "text": [
      "epoch: 1, [batch: 6048 / 6720], examples_per_second: 3810.5398, train_label_loss: 1.9228, \n"
     ]
    },
    {
     "name": "stdout",
     "output_type": "stream",
     "text": [
      "=============================================================\n",
      "epoch: 1, source_val_acc_label: 0.3903, target_val_acc_label: 0.7468, source_val_label_loss: 1.5924, target_val_label_loss: 1.4825, \n",
      "=============================================================\n"
     ]
    },
    {
     "name": "stdout",
     "output_type": "stream",
     "text": [
      "New best\n"
     ]
    },
    {
     "name": "stdout",
     "output_type": "stream",
     "text": [
      "epoch: 2, [batch: 1 / 6720], examples_per_second: 3.9807, train_label_loss: 1.2445, \n"
     ]
    },
    {
     "name": "stdout",
     "output_type": "stream",
     "text": [
      "epoch: 2, [batch: 672 / 6720], examples_per_second: 4055.1179, train_label_loss: 2.0228, \n"
     ]
    },
    {
     "name": "stdout",
     "output_type": "stream",
     "text": [
      "epoch: 2, [batch: 1344 / 6720], examples_per_second: 4554.0128, train_label_loss: 1.4184, \n"
     ]
    },
    {
     "name": "stdout",
     "output_type": "stream",
     "text": [
      "epoch: 2, [batch: 2016 / 6720], examples_per_second: 4969.6640, train_label_loss: 1.1763, \n"
     ]
    },
    {
     "name": "stdout",
     "output_type": "stream",
     "text": [
      "epoch: 2, [batch: 2688 / 6720], examples_per_second: 3886.1226, train_label_loss: 0.8454, \n"
     ]
    },
    {
     "name": "stdout",
     "output_type": "stream",
     "text": [
      "epoch: 2, [batch: 3360 / 6720], examples_per_second: 3781.1413, train_label_loss: 0.9679, \n"
     ]
    },
    {
     "name": "stdout",
     "output_type": "stream",
     "text": [
      "epoch: 2, [batch: 4032 / 6720], examples_per_second: 3864.0541, train_label_loss: 1.1220, \n"
     ]
    },
    {
     "name": "stdout",
     "output_type": "stream",
     "text": [
      "epoch: 2, [batch: 4704 / 6720], examples_per_second: 3811.2144, train_label_loss: 0.7423, \n"
     ]
    },
    {
     "name": "stdout",
     "output_type": "stream",
     "text": [
      "epoch: 2, [batch: 5376 / 6720], examples_per_second: 3886.3288, train_label_loss: 1.2849, \n"
     ]
    },
    {
     "name": "stdout",
     "output_type": "stream",
     "text": [
      "epoch: 2, [batch: 6048 / 6720], examples_per_second: 3929.7318, train_label_loss: 0.8248, \n"
     ]
    },
    {
     "name": "stdout",
     "output_type": "stream",
     "text": [
      "=============================================================\n",
      "epoch: 2, source_val_acc_label: 0.6633, target_val_acc_label: 0.9676, source_val_label_loss: 0.9136, target_val_label_loss: 0.1442, \n",
      "=============================================================\n"
     ]
    },
    {
     "name": "stdout",
     "output_type": "stream",
     "text": [
      "New best\n"
     ]
    },
    {
     "name": "stdout",
     "output_type": "stream",
     "text": [
      "epoch: 3, [batch: 1 / 6720], examples_per_second: 3.9750, train_label_loss: 1.2967, \n"
     ]
    },
    {
     "name": "stdout",
     "output_type": "stream",
     "text": [
      "epoch: 3, [batch: 672 / 6720], examples_per_second: 3918.2323, train_label_loss: 0.7929, \n"
     ]
    },
    {
     "name": "stdout",
     "output_type": "stream",
     "text": [
      "epoch: 3, [batch: 1344 / 6720], examples_per_second: 4270.1308, train_label_loss: 0.6091, \n"
     ]
    },
    {
     "name": "stdout",
     "output_type": "stream",
     "text": [
      "epoch: 3, [batch: 2016 / 6720], examples_per_second: 4231.5689, train_label_loss: 0.6350, \n"
     ]
    },
    {
     "name": "stdout",
     "output_type": "stream",
     "text": [
      "epoch: 3, [batch: 2688 / 6720], examples_per_second: 4213.9806, train_label_loss: 0.6992, \n"
     ]
    },
    {
     "name": "stdout",
     "output_type": "stream",
     "text": [
      "epoch: 3, [batch: 3360 / 6720], examples_per_second: 4255.3292, train_label_loss: 0.6805, \n"
     ]
    },
    {
     "name": "stdout",
     "output_type": "stream",
     "text": [
      "epoch: 3, [batch: 4032 / 6720], examples_per_second: 4298.3339, train_label_loss: 0.8459, \n"
     ]
    },
    {
     "name": "stdout",
     "output_type": "stream",
     "text": [
      "epoch: 3, [batch: 4704 / 6720], examples_per_second: 4147.4541, train_label_loss: 1.0860, \n"
     ]
    },
    {
     "name": "stdout",
     "output_type": "stream",
     "text": [
      "epoch: 3, [batch: 5376 / 6720], examples_per_second: 4189.8386, train_label_loss: 1.1755, \n"
     ]
    },
    {
     "name": "stdout",
     "output_type": "stream",
     "text": [
      "epoch: 3, [batch: 6048 / 6720], examples_per_second: 4537.8651, train_label_loss: 1.1815, \n"
     ]
    },
    {
     "name": "stdout",
     "output_type": "stream",
     "text": [
      "=============================================================\n",
      "epoch: 3, source_val_acc_label: 0.6597, target_val_acc_label: 0.9632, source_val_label_loss: 0.9048, target_val_label_loss: 0.1541, \n",
      "=============================================================\n"
     ]
    },
    {
     "name": "stdout",
     "output_type": "stream",
     "text": [
      "epoch: 4, [batch: 1 / 6720], examples_per_second: 5.3195, train_label_loss: 0.7951, \n"
     ]
    },
    {
     "name": "stdout",
     "output_type": "stream",
     "text": [
      "epoch: 4, [batch: 672 / 6720], examples_per_second: 4868.2951, train_label_loss: 0.8070, \n"
     ]
    },
    {
     "name": "stdout",
     "output_type": "stream",
     "text": [
      "epoch: 4, [batch: 1344 / 6720], examples_per_second: 5172.8932, train_label_loss: 0.6471, \n"
     ]
    },
    {
     "name": "stdout",
     "output_type": "stream",
     "text": [
      "epoch: 4, [batch: 2016 / 6720], examples_per_second: 5083.2433, train_label_loss: 0.5972, \n"
     ]
    },
    {
     "name": "stdout",
     "output_type": "stream",
     "text": [
      "epoch: 4, [batch: 2688 / 6720], examples_per_second: 4879.5823, train_label_loss: 1.0495, \n"
     ]
    },
    {
     "name": "stdout",
     "output_type": "stream",
     "text": [
      "epoch: 4, [batch: 3360 / 6720], examples_per_second: 4861.8696, train_label_loss: 1.1794, \n"
     ]
    },
    {
     "name": "stdout",
     "output_type": "stream",
     "text": [
      "epoch: 4, [batch: 4032 / 6720], examples_per_second: 5130.5234, train_label_loss: 1.3072, \n"
     ]
    },
    {
     "name": "stdout",
     "output_type": "stream",
     "text": [
      "epoch: 4, [batch: 4704 / 6720], examples_per_second: 5314.9183, train_label_loss: 1.4565, \n"
     ]
    },
    {
     "name": "stdout",
     "output_type": "stream",
     "text": [
      "epoch: 4, [batch: 5376 / 6720], examples_per_second: 5345.7974, train_label_loss: 1.1344, \n"
     ]
    },
    {
     "name": "stdout",
     "output_type": "stream",
     "text": [
      "epoch: 4, [batch: 6048 / 6720], examples_per_second: 5320.6714, train_label_loss: 0.8183, \n"
     ]
    },
    {
     "name": "stdout",
     "output_type": "stream",
     "text": [
      "=============================================================\n",
      "epoch: 4, source_val_acc_label: 0.6740, target_val_acc_label: 0.9615, source_val_label_loss: 0.8679, target_val_label_loss: 0.1646, \n",
      "=============================================================\n"
     ]
    },
    {
     "name": "stdout",
     "output_type": "stream",
     "text": [
      "epoch: 5, [batch: 1 / 6720], examples_per_second: 5.4787, train_label_loss: 0.8485, \n"
     ]
    },
    {
     "name": "stdout",
     "output_type": "stream",
     "text": [
      "epoch: 5, [batch: 672 / 6720], examples_per_second: 4819.9688, train_label_loss: 0.8117, \n"
     ]
    },
    {
     "name": "stdout",
     "output_type": "stream",
     "text": [
      "epoch: 5, [batch: 1344 / 6720], examples_per_second: 4820.3025, train_label_loss: 0.7591, \n"
     ]
    },
    {
     "name": "stdout",
     "output_type": "stream",
     "text": [
      "epoch: 5, [batch: 2016 / 6720], examples_per_second: 4907.4927, train_label_loss: 0.6769, \n"
     ]
    },
    {
     "name": "stdout",
     "output_type": "stream",
     "text": [
      "epoch: 5, [batch: 2688 / 6720], examples_per_second: 4831.6878, train_label_loss: 0.7002, \n"
     ]
    },
    {
     "name": "stdout",
     "output_type": "stream",
     "text": [
      "epoch: 5, [batch: 3360 / 6720], examples_per_second: 4961.1911, train_label_loss: 0.8789, \n"
     ]
    },
    {
     "name": "stdout",
     "output_type": "stream",
     "text": [
      "epoch: 5, [batch: 4032 / 6720], examples_per_second: 4971.7034, train_label_loss: 0.7964, \n"
     ]
    },
    {
     "name": "stdout",
     "output_type": "stream",
     "text": [
      "epoch: 5, [batch: 4704 / 6720], examples_per_second: 4246.3014, train_label_loss: 0.6127, \n"
     ]
    },
    {
     "name": "stdout",
     "output_type": "stream",
     "text": [
      "epoch: 5, [batch: 5376 / 6720], examples_per_second: 3945.9253, train_label_loss: 0.6577, \n"
     ]
    },
    {
     "name": "stdout",
     "output_type": "stream",
     "text": [
      "epoch: 5, [batch: 6048 / 6720], examples_per_second: 3957.4150, train_label_loss: 1.0050, \n"
     ]
    },
    {
     "name": "stdout",
     "output_type": "stream",
     "text": [
      "=============================================================\n",
      "epoch: 5, source_val_acc_label: 0.6842, target_val_acc_label: 0.9595, source_val_label_loss: 0.8426, target_val_label_loss: 0.1535, \n",
      "=============================================================\n"
     ]
    },
    {
     "name": "stdout",
     "output_type": "stream",
     "text": [
      "epoch: 6, [batch: 1 / 6720], examples_per_second: 4.0550, train_label_loss: 1.1176, \n"
     ]
    },
    {
     "name": "stdout",
     "output_type": "stream",
     "text": [
      "epoch: 6, [batch: 672 / 6720], examples_per_second: 3868.8246, train_label_loss: 0.5925, \n"
     ]
    },
    {
     "name": "stdout",
     "output_type": "stream",
     "text": [
      "epoch: 6, [batch: 1344 / 6720], examples_per_second: 3854.5672, train_label_loss: 0.7605, \n"
     ]
    },
    {
     "name": "stdout",
     "output_type": "stream",
     "text": [
      "epoch: 6, [batch: 2016 / 6720], examples_per_second: 3838.7571, train_label_loss: 0.9205, \n"
     ]
    },
    {
     "name": "stdout",
     "output_type": "stream",
     "text": [
      "epoch: 6, [batch: 2688 / 6720], examples_per_second: 3783.4979, train_label_loss: 0.5879, \n"
     ]
    },
    {
     "name": "stdout",
     "output_type": "stream",
     "text": [
      "epoch: 6, [batch: 3360 / 6720], examples_per_second: 4075.6818, train_label_loss: 0.6880, \n"
     ]
    },
    {
     "name": "stdout",
     "output_type": "stream",
     "text": [
      "epoch: 6, [batch: 4032 / 6720], examples_per_second: 4292.2431, train_label_loss: 1.0323, \n"
     ]
    },
    {
     "name": "stdout",
     "output_type": "stream",
     "text": [
      "epoch: 6, [batch: 4704 / 6720], examples_per_second: 4141.0239, train_label_loss: 1.0818, \n"
     ]
    },
    {
     "name": "stdout",
     "output_type": "stream",
     "text": [
      "epoch: 6, [batch: 5376 / 6720], examples_per_second: 3792.7545, train_label_loss: 0.4671, \n"
     ]
    },
    {
     "name": "stdout",
     "output_type": "stream",
     "text": [
      "epoch: 6, [batch: 6048 / 6720], examples_per_second: 3785.6753, train_label_loss: 1.0217, \n"
     ]
    },
    {
     "name": "stdout",
     "output_type": "stream",
     "text": [
      "=============================================================\n",
      "epoch: 6, source_val_acc_label: 0.6835, target_val_acc_label: 0.9573, source_val_label_loss: 0.8514, target_val_label_loss: 0.1786, \n",
      "=============================================================\n"
     ]
    },
    {
     "name": "stdout",
     "output_type": "stream",
     "text": [
      "Patience (3) exhausted\n"
     ]
    }
   ],
   "source": [
    "###################################\n",
    "# train\n",
    "###################################\n",
    "jig = PTN_Train_Eval_Test_Jig(model, p.BEST_MODEL_PATH, p.device)\n",
    "\n",
    "jig.train(\n",
    "    train_iterable=datasets.source.processed.train,\n",
    "    source_val_iterable=datasets.source.processed.val,\n",
    "    target_val_iterable=datasets.target.processed.val,\n",
    "    num_epochs=p.n_epoch,\n",
    "    num_logs_per_epoch=p.NUM_LOGS_PER_EPOCH,\n",
    "    patience=p.patience,\n",
    "    optimizer=optimizer,\n",
    "    criteria_for_best=p.criteria_for_best,\n",
    ")"
   ]
  },
  {
   "cell_type": "code",
   "execution_count": 23,
   "id": "31e8fabf",
   "metadata": {
    "execution": {
     "iopub.execute_input": "2022-03-28T11:46:55.376071Z",
     "iopub.status.busy": "2022-03-28T11:46:55.375697Z",
     "iopub.status.idle": "2022-03-28T11:46:55.407324Z",
     "shell.execute_reply": "2022-03-28T11:46:55.406509Z"
    },
    "papermill": {
     "duration": 0.079382,
     "end_time": "2022-03-28T11:46:55.407496",
     "exception": false,
     "start_time": "2022-03-28T11:46:55.328114",
     "status": "completed"
    },
    "tags": []
   },
   "outputs": [],
   "source": [
    "total_experiment_time_secs = time.time() - start_time_secs"
   ]
  },
  {
   "cell_type": "code",
   "execution_count": 24,
   "id": "87b9595b",
   "metadata": {
    "execution": {
     "iopub.execute_input": "2022-03-28T11:46:55.511861Z",
     "iopub.status.busy": "2022-03-28T11:46:55.511339Z",
     "iopub.status.idle": "2022-03-28T11:49:38.948008Z",
     "shell.execute_reply": "2022-03-28T11:49:38.947346Z"
    },
    "papermill": {
     "duration": 163.494721,
     "end_time": "2022-03-28T11:49:38.948195",
     "exception": false,
     "start_time": "2022-03-28T11:46:55.453474",
     "status": "completed"
    },
    "tags": []
   },
   "outputs": [],
   "source": [
    "###################################\n",
    "# Evaluate the model\n",
    "###################################\n",
    "source_test_label_accuracy, source_test_label_loss = jig.test(datasets.source.processed.test)\n",
    "target_test_label_accuracy, target_test_label_loss = jig.test(datasets.target.processed.test)\n",
    "\n",
    "source_val_label_accuracy, source_val_label_loss = jig.test(datasets.source.processed.val)\n",
    "target_val_label_accuracy, target_val_label_loss = jig.test(datasets.target.processed.val)\n",
    "\n",
    "history = jig.get_history()\n",
    "\n",
    "total_epochs_trained = len(history[\"epoch_indices\"])\n",
    "\n",
    "val_dl = Iterable_Aggregator((datasets.source.original.val,datasets.target.original.val))\n",
    "\n",
    "confusion = ptn_confusion_by_domain_over_dataloader(model, p.device, val_dl)\n",
    "per_domain_accuracy = per_domain_accuracy_from_confusion(confusion)\n",
    "\n",
    "# Add a key to per_domain_accuracy for if it was a source domain\n",
    "for domain, accuracy in per_domain_accuracy.items():\n",
    "    per_domain_accuracy[domain] = {\n",
    "        \"accuracy\": accuracy,\n",
    "        \"source?\": domain in p.domains_source\n",
    "    }\n",
    "\n",
    "# Do an independent accuracy assesment JUST TO BE SURE!\n",
    "# _source_test_label_accuracy = independent_accuracy_assesment(model, datasets.source.processed.test, p.device)\n",
    "# _target_test_label_accuracy = independent_accuracy_assesment(model, datasets.target.processed.test, p.device)\n",
    "# _source_val_label_accuracy = independent_accuracy_assesment(model, datasets.source.processed.val, p.device)\n",
    "# _target_val_label_accuracy = independent_accuracy_assesment(model, datasets.target.processed.val, p.device)\n",
    "\n",
    "# assert(_source_test_label_accuracy == source_test_label_accuracy)\n",
    "# assert(_target_test_label_accuracy == target_test_label_accuracy)\n",
    "# assert(_source_val_label_accuracy == source_val_label_accuracy)\n",
    "# assert(_target_val_label_accuracy == target_val_label_accuracy)\n",
    "\n",
    "experiment = {\n",
    "    \"experiment_name\": p.experiment_name,\n",
    "    \"parameters\": dict(p),\n",
    "    \"results\": {\n",
    "        \"source_test_label_accuracy\": source_test_label_accuracy,\n",
    "        \"source_test_label_loss\": source_test_label_loss,\n",
    "        \"target_test_label_accuracy\": target_test_label_accuracy,\n",
    "        \"target_test_label_loss\": target_test_label_loss,\n",
    "        \"source_val_label_accuracy\": source_val_label_accuracy,\n",
    "        \"source_val_label_loss\": source_val_label_loss,\n",
    "        \"target_val_label_accuracy\": target_val_label_accuracy,\n",
    "        \"target_val_label_loss\": target_val_label_loss,\n",
    "        \"total_epochs_trained\": total_epochs_trained,\n",
    "        \"total_experiment_time_secs\": total_experiment_time_secs,\n",
    "        \"confusion\": confusion,\n",
    "        \"per_domain_accuracy\": per_domain_accuracy,\n",
    "    },\n",
    "    \"history\": history,\n",
    "    \"dataset_metrics\": get_dataset_metrics(datasets, \"ptn\"),\n",
    "}"
   ]
  },
  {
   "cell_type": "code",
   "execution_count": 25,
   "id": "54a21829",
   "metadata": {
    "execution": {
     "iopub.execute_input": "2022-03-28T11:49:39.054976Z",
     "iopub.status.busy": "2022-03-28T11:49:39.054573Z",
     "iopub.status.idle": "2022-03-28T11:49:39.282882Z",
     "shell.execute_reply": "2022-03-28T11:49:39.283590Z"
    },
    "papermill": {
     "duration": 0.275531,
     "end_time": "2022-03-28T11:49:39.283828",
     "exception": false,
     "start_time": "2022-03-28T11:49:39.008297",
     "status": "completed"
    },
    "tags": []
   },
   "outputs": [
    {
     "data": {
      "image/png": "[encoded data removed]",
      "text/plain": [
       "<Figure size 1080x504 with 1 Axes>"
      ]
     },
     "metadata": {
      "needs_background": "light"
     },
     "output_type": "display_data"
    }
   ],
   "source": [
    "ax = get_loss_curve(experiment)\n",
    "plt.show()"
   ]
  },
  {
   "cell_type": "code",
   "execution_count": 26,
   "id": "fd8a0f60",
   "metadata": {
    "execution": {
     "iopub.execute_input": "2022-03-28T11:49:39.380093Z",
     "iopub.status.busy": "2022-03-28T11:49:39.379712Z",
     "iopub.status.idle": "2022-03-28T11:49:39.702178Z",
     "shell.execute_reply": "2022-03-28T11:49:39.702877Z"
    },
    "papermill": {
     "duration": 0.369188,
     "end_time": "2022-03-28T11:49:39.703112",
     "exception": false,
     "start_time": "2022-03-28T11:49:39.333924",
     "status": "completed"
    },
    "tags": []
   },
   "outputs": [
    {
     "data": {
      "text/plain": [
       "<AxesSubplot:title={'center':'Results'}>"
      ]
     },
     "execution_count": 26,
     "metadata": {},
     "output_type": "execute_result"
    },
    {
     "data": {
      "image/png": "[encoded data removed]",
      "text/plain": [
       "<Figure size 1080x504 with 1 Axes>"
      ]
     },
     "metadata": {
      "needs_background": "light"
     },
     "output_type": "display_data"
    }
   ],
   "source": [
    "get_results_table(experiment)"
   ]
  },
  {
   "cell_type": "code",
   "execution_count": 27,
   "id": "cf8dc689",
   "metadata": {
    "execution": {
     "iopub.execute_input": "2022-03-28T11:49:39.799188Z",
     "iopub.status.busy": "2022-03-28T11:49:39.798581Z",
     "iopub.status.idle": "2022-03-28T11:49:40.036162Z",
     "shell.execute_reply": "2022-03-28T11:49:40.036876Z"
    },
    "papermill": {
     "duration": 0.286172,
     "end_time": "2022-03-28T11:49:40.037113",
     "exception": false,
     "start_time": "2022-03-28T11:49:39.750941",
     "status": "completed"
    },
    "tags": []
   },
   "outputs": [
    {
     "data": {
      "text/plain": [
       "<AxesSubplot:title={'center':'Per Domain Validation Accuracy'}, xlabel='domain'>"
      ]
     },
     "execution_count": 27,
     "metadata": {},
     "output_type": "execute_result"
    },
    {
     "data": {
      "image/png": "[encoded data removed]",
      "text/plain": [
       "<Figure size 1080x504 with 1 Axes>"
      ]
     },
     "metadata": {
      "needs_background": "light"
     },
     "output_type": "display_data"
    }
   ],
   "source": [
    "get_domain_accuracies(experiment)"
   ]
  },
  {
   "cell_type": "code",
   "execution_count": 28,
   "id": "a74ae082",
   "metadata": {
    "execution": {
     "iopub.execute_input": "2022-03-28T11:49:40.136948Z",
     "iopub.status.busy": "2022-03-28T11:49:40.136564Z",
     "iopub.status.idle": "2022-03-28T11:49:40.160894Z",
     "shell.execute_reply": "2022-03-28T11:49:40.160044Z"
    },
    "papermill": {
     "duration": 0.073594,
     "end_time": "2022-03-28T11:49:40.161072",
     "exception": false,
     "start_time": "2022-03-28T11:49:40.087478",
     "status": "completed"
    },
    "tags": []
   },
   "outputs": [
    {
     "name": "stdout",
     "output_type": "stream",
     "text": [
      "Source Test Label Accuracy: 0.6649088541666667 Target Test Label Accuracy: 0.9646418539325843\n",
      "Source Val Label Accuracy: 0.6633138020833333 Target Val Label Accuracy: 0.9676428571428571\n"
     ]
    }
   ],
   "source": [
    "print(\"Source Test Label Accuracy:\", experiment[\"results\"][\"source_test_label_accuracy\"], \"Target Test Label Accuracy:\", experiment[\"results\"][\"target_test_label_accuracy\"])\n",
    "print(\"Source Val Label Accuracy:\", experiment[\"results\"][\"source_val_label_accuracy\"], \"Target Val Label Accuracy:\", experiment[\"results\"][\"target_val_label_accuracy\"])"
   ]
  },
  {
   "cell_type": "code",
   "execution_count": 29,
   "id": "dacca602",
   "metadata": {
    "execution": {
     "iopub.execute_input": "2022-03-28T11:49:40.261617Z",
     "iopub.status.busy": "2022-03-28T11:49:40.261241Z",
     "iopub.status.idle": "2022-03-28T11:49:40.283292Z",
     "shell.execute_reply": "2022-03-28T11:49:40.284290Z"
    },
    "papermill": {
     "duration": 0.071292,
     "end_time": "2022-03-28T11:49:40.284568",
     "exception": false,
     "start_time": "2022-03-28T11:49:40.213276",
     "status": "completed"
    },
    "tags": [
     "experiment_json"
    ]
   },
   "outputs": [
    {
     "data": {
      "text/plain": [
       "'{\"experiment_name\": \"tl_3-jitter10v2:oracle.run1.framed -> cores\", \"parameters\": {\"experiment_name\": \"tl_3-jitter10v2:oracle.run1.framed -> cores\", \"device\": \"cuda\", \"lr\": 0.0001, \"x_shape\": [2, 256], \"n_shot\": 3, \"n_query\": 2, \"train_k_factor\": 3, \"val_k_factor\": 2, \"test_k_factor\": 2, \"torch_default_dtype\": \"torch.float32\", \"n_epoch\": 50, \"patience\": 3, \"criteria_for_best\": \"target_accuracy\", \"x_net\": [{\"class\": \"nnReshape\", \"kargs\": {\"shape\": [-1, 1, 2, 256]}}, {\"class\": \"Conv2d\", \"kargs\": {\"in_channels\": 1, \"out_channels\": 256, \"kernel_size\": [1, 7], \"bias\": false, \"padding\": [0, 3]}}, {\"class\": \"ReLU\", \"kargs\": {\"inplace\": true}}, {\"class\": \"BatchNorm2d\", \"kargs\": {\"num_features\": 256}}, {\"class\": \"Conv2d\", \"kargs\": {\"in_channels\": 256, \"out_channels\": 80, \"kernel_size\": [2, 7], \"bias\": true, \"padding\": [0, 3]}}, {\"class\": \"ReLU\", \"kargs\": {\"inplace\": true}}, {\"class\": \"BatchNorm2d\", \"kargs\": {\"num_features\": 80}}, {\"class\": \"Flatten\", \"kargs\": {}}, {\"class\": \"Linear\", \"kargs\": {\"in_features\": 20480, \"out_features\": 256}}, {\"class\": \"ReLU\", \"kargs\": {\"inplace\": true}}, {\"class\": \"BatchNorm1d\", \"kargs\": {\"num_features\": 256}}, {\"class\": \"Linear\", \"kargs\": {\"in_features\": 256, \"out_features\": 256}}], \"NUM_LOGS_PER_EPOCH\": 10, \"BEST_MODEL_PATH\": \"./best_model.pth\", \"n_way\": 16, \"datasets\": [{\"labels\": [\"1-10.\", \"1-11.\", \"1-15.\", \"1-16.\", \"1-17.\", \"1-18.\", \"1-19.\", \"10-4.\", \"10-7.\", \"11-1.\", \"11-14.\", \"11-17.\", \"11-20.\", \"11-7.\", \"13-20.\", \"13-8.\", \"14-10.\", \"14-11.\", \"14-14.\", \"14-7.\", \"15-1.\", \"15-20.\", \"16-1.\", \"16-16.\", \"17-10.\", \"17-11.\", \"17-2.\", \"19-1.\", \"19-16.\", \"19-19.\", \"19-20.\", \"19-3.\", \"2-10.\", \"2-11.\", \"2-17.\", \"2-18.\", \"2-20.\", \"2-3.\", \"2-4.\", \"2-5.\", \"2-6.\", \"2-7.\", \"2-8.\", \"3-13.\", \"3-18.\", \"3-3.\", \"4-1.\", \"4-10.\", \"4-11.\", \"4-19.\", \"5-5.\", \"6-15.\", \"7-10.\", \"7-14.\", \"8-18.\", \"8-20.\", \"8-3.\", \"8-8.\"], \"domains\": [1, 2, 3, 4, 5], \"num_examples_per_domain_per_label\": -1, \"pickle_path\": \"/root/csc500-main/datasets/cores.stratified_ds.2022A.pkl\", \"source_or_target_dataset\": \"target\", \"x_transforms\": [\"unit_power\", \"jitter_256_10\", \"lowpass_+/-10MHz\", \"take_200\"], \"episode_transforms\": [], \"domain_prefix\": \"C_\"}, {\"labels\": [\"3123D52\", \"3123D65\", \"3123D79\", \"3123D80\", \"3123D54\", \"3123D70\", \"3123D7B\", \"3123D89\", \"3123D58\", \"3123D76\", \"3123D7D\", \"3123EFE\", \"3123D64\", \"3123D78\", \"3123D7E\", \"3124E4A\"], \"domains\": [32, 38, 8, 44, 14, 50, 20, 26], \"num_examples_per_domain_per_label\": 2000, \"pickle_path\": \"/root/csc500-main/datasets/oracle.Run1_framed_2000Examples_stratified_ds.2022A.pkl\", \"source_or_target_dataset\": \"source\", \"x_transforms\": [\"unit_power\", \"jitter_256_10\", \"take_200\", \"resample_20Msps_to_25Msps\"], \"episode_transforms\": [], \"domain_prefix\": \"O_\"}], \"seed\": 500, \"dataset_seed\": 500, \"domains_source\": [\"O_32\", \"O_38\", \"O_8\", \"O_44\", \"O_14\", \"O_50\", \"O_20\", \"O_26\"], \"domains_target\": [\"C_1\", \"C_2\", \"C_3\", \"C_4\", \"C_5\"]}, \"results\": {\"source_test_label_accuracy\": 0.6649088541666667, \"source_test_label_loss\": 0.9154930710792542, \"target_test_label_accuracy\": 0.9646418539325843, \"target_test_label_loss\": 0.16488665342330933, \"source_val_label_accuracy\": 0.6633138020833333, \"source_val_label_loss\": 0.9136113524436951, \"target_val_label_accuracy\": 0.9676428571428571, \"target_val_label_loss\": 0.14421826601028442, \"total_epochs_trained\": 6, \"total_experiment_time_secs\": 1025.5766372680664, \"confusion\": {\"O_50\": {\"7\": {\"13\": 55, \"7\": 138, \"5\": 24, \"10\": 22, \"4\": 1}, \"10\": {\"10\": 208, \"7\": 14, \"13\": 5, \"8\": 7, \"0\": 6}, \"0\": {\"0\": 204, \"10\": 12, \"2\": 22, \"6\": 1, \"13\": 1}, \"11\": {\"11\": 193, \"9\": 15, \"14\": 20, \"15\": 11, \"1\": 1}, \"2\": {\"2\": 220, \"0\": 19, \"1\": 1}, \"14\": {\"14\": 226, \"11\": 7, \"12\": 6, \"9\": 1}, \"9\": {\"11\": 33, \"9\": 170, \"12\": 33, \"14\": 4}, \"13\": {\"7\": 43, \"13\": 121, \"5\": 54, \"6\": 10, \"10\": 9, \"0\": 2, \"4\": 1}, \"8\": {\"8\": 230, \"10\": 6, \"3\": 4}, \"15\": {\"15\": 160, \"1\": 40, \"4\": 36, \"11\": 4}, \"4\": {\"4\": 65, \"6\": 34, \"15\": 40, \"1\": 64, \"5\": 22, \"13\": 6, \"0\": 1, \"7\": 8}, \"5\": {\"4\": 15, \"7\": 56, \"13\": 62, \"6\": 31, \"5\": 63, \"1\": 7, \"15\": 1, \"10\": 4, \"0\": 1}, \"3\": {\"3\": 239, \"8\": 1}, \"1\": {\"1\": 123, \"4\": 33, \"6\": 23, \"15\": 56, \"5\": 1, \"14\": 2, \"11\": 1, \"0\": 1}, \"6\": {\"6\": 110, \"4\": 44, \"5\": 40, \"15\": 2, \"0\": 4, \"1\": 28, \"13\": 9, \"2\": 3}, \"12\": {\"12\": 201, \"14\": 12, \"11\": 2, \"9\": 25}}, \"O_14\": {\"14\": {\"6\": 24, \"14\": 163, \"2\": 14, \"13\": 34, \"3\": 5}, \"6\": {\"6\": 130, \"2\": 25, \"13\": 69, \"14\": 16}, \"5\": {\"1\": 27, \"5\": 142, \"4\": 60, \"2\": 10, \"7\": 1}, \"15\": {\"15\": 209, \"7\": 31}, \"11\": {\"11\": 214, \"10\": 11, \"9\": 14, \"0\": 1}, \"8\": {\"8\": 240}, \"12\": {\"12\": 240}, \"1\": {\"1\": 208, \"5\": 26, \"4\": 6}, \"2\": {\"2\": 97, \"5\": 20, \"14\": 42, \"4\": 21, \"6\": 33, \"13\": 19, \"15\": 3, \"3\": 4, \"7\": 1}, \"13\": {\"14\": 83, \"6\": 73, \"13\": 58, \"5\": 7, \"2\": 19}, \"3\": {\"3\": 213, \"4\": 20, \"14\": 4, \"2\": 3}, \"0\": {\"10\": 67, \"0\": 172, \"11\": 1}, \"9\": {\"9\": 240}, \"4\": {\"5\": 32, \"4\": 179, \"2\": 9, \"13\": 1, \"3\": 13, \"1\": 5, \"14\": 1}, \"7\": {\"7\": 223, \"15\": 17}, \"10\": {\"10\": 191, \"0\": 49}}, \"O_32\": {\"4\": {\"0\": 77, \"4\": 73, \"2\": 32, \"7\": 26, \"5\": 15, \"13\": 4, \"14\": 7, \"8\": 6}, \"14\": {\"7\": 52, \"11\": 68, \"14\": 73, \"4\": 12, \"5\": 13, \"13\": 15, \"2\": 1, \"3\": 2, \"0\": 4}, \"5\": {\"8\": 30, \"7\": 42, \"13\": 57, \"5\": 36, \"0\": 18, \"4\": 16, \"14\": 17, \"2\": 2, \"3\": 20, \"11\": 2}, \"10\": {\"10\": 240}, \"13\": {\"5\": 58, \"13\": 83, \"8\": 39, \"0\": 10, \"4\": 5, \"14\": 12, \"3\": 10, \"7\": 19, \"11\": 4}, \"9\": {\"9\": 239, \"12\": 1}, \"6\": {\"6\": 240}, \"3\": {\"3\": 220, \"11\": 3, \"13\": 7, \"5\": 7, \"14\": 3}, \"15\": {\"15\": 234, \"8\": 1, \"3\": 5}, \"7\": {\"5\": 16, \"7\": 107, \"4\": 19, \"14\": 55, \"13\": 15, \"2\": 5, \"11\": 11, \"0\": 11, \"8\": 1}, \"12\": {\"12\": 240}, \"8\": {\"8\": 145, \"3\": 2, \"14\": 2, \"13\": 44, \"4\": 9, \"5\": 22, \"0\": 12, \"15\": 1, \"7\": 2, \"11\": 1}, \"11\": {\"11\": 183, \"14\": 47, \"7\": 7, \"5\": 1, \"3\": 1, \"13\": 1}, \"2\": {\"2\": 192, \"0\": 19, \"4\": 26, \"13\": 1, \"5\": 1, \"7\": 1}, \"1\": {\"1\": 240}, \"0\": {\"0\": 103, \"4\": 62, \"2\": 23, \"5\": 15, \"14\": 4, \"8\": 16, \"7\": 15, \"13\": 2}}, \"O_44\": {\"8\": {\"0\": 87, \"8\": 132, \"15\": 10, \"5\": 11}, \"11\": {\"11\": 166, \"13\": 45, \"9\": 3, \"6\": 26}, \"14\": {\"14\": 147, \"4\": 67, \"5\": 5, \"15\": 21}, \"10\": {\"10\": 171, \"12\": 28, \"2\": 19, \"1\": 20, \"3\": 1, \"7\": 1}, \"3\": {\"3\": 203, \"1\": 32, \"12\": 3, \"7\": 1, \"2\": 1}, \"15\": {\"15\": 186, \"8\": 3, \"14\": 22, \"5\": 13, \"0\": 15, \"4\": 1}, \"2\": {\"2\": 167, \"7\": 33, \"6\": 2, \"1\": 15, \"3\": 1, \"10\": 21, \"9\": 1}, \"12\": {\"12\": 176, \"1\": 43, \"10\": 17, \"3\": 4}, \"4\": {\"4\": 150, \"14\": 80, \"15\": 9, \"13\": 1}, \"1\": {\"1\": 145, \"12\": 46, \"10\": 23, \"3\": 22, \"2\": 4}, \"0\": {\"0\": 128, \"15\": 14, \"8\": 74, \"5\": 24}, \"9\": {\"13\": 22, \"9\": 127, \"7\": 57, \"6\": 23, \"2\": 9, \"3\": 1, \"11\": 1}, \"5\": {\"5\": 182, \"8\": 9, \"0\": 30, \"15\": 12, \"14\": 7}, \"6\": {\"6\": 153, \"11\": 23, \"7\": 7, \"13\": 28, \"9\": 29}, \"7\": {\"7\": 141, \"9\": 46, \"6\": 5, \"2\": 44, \"10\": 1, \"3\": 2, \"1\": 1}, \"13\": {\"13\": 131, \"9\": 33, \"7\": 3, \"11\": 43, \"6\": 30}}, \"O_8\": {\"13\": {\"13\": 88, \"0\": 61, \"4\": 39, \"10\": 21, \"14\": 24, \"6\": 6, \"1\": 1}, \"3\": {\"3\": 207, \"12\": 11, \"2\": 22}, \"15\": {\"15\": 204, \"12\": 28, \"8\": 6, \"3\": 2}, \"4\": {\"4\": 151, \"13\": 40, \"6\": 20, \"14\": 27, \"10\": 1, \"0\": 1}, \"7\": {\"7\": 201, \"0\": 5, \"6\": 32, \"4\": 2}, \"2\": {\"2\": 197, \"3\": 37, \"7\": 5, \"15\": 1}, \"1\": {\"1\": 176, \"11\": 61, \"14\": 1, \"5\": 2}, \"0\": {\"0\": 182, \"13\": 42, \"6\": 6, \"7\": 6, \"4\": 4}, \"12\": {\"15\": 75, \"12\": 129, \"3\": 32, \"2\": 1, \"8\": 3}, \"6\": {\"13\": 4, \"6\": 176, \"7\": 33, \"4\": 21, \"0\": 6}, \"11\": {\"11\": 139, \"1\": 96, \"5\": 4, \"8\": 1}, \"9\": {\"9\": 240}, \"5\": {\"5\": 218, \"14\": 1, \"1\": 7, \"11\": 2, \"10\": 12}, \"10\": {\"10\": 170, \"14\": 56, \"13\": 12, \"4\": 2}, \"14\": {\"4\": 29, \"14\": 145, \"10\": 48, \"13\": 13, \"1\": 5}, \"8\": {\"8\": 232, \"15\": 8}}, \"O_20\": {\"6\": {\"6\": 216, \"7\": 2, \"14\": 21, \"10\": 1}, \"11\": {\"11\": 240}, \"5\": {\"5\": 97, \"15\": 9, \"0\": 43, \"1\": 38, \"12\": 37, \"3\": 15, \"9\": 1}, \"14\": {\"14\": 172, \"6\": 19, \"10\": 45, \"8\": 4}, \"2\": {\"2\": 101, \"9\": 72, \"13\": 17, \"7\": 33, \"12\": 8, \"3\": 8, \"1\": 1}, \"7\": {\"2\": 30, \"7\": 174, \"3\": 9, \"9\": 16, \"8\": 11}, \"3\": {\"12\": 48, \"3\": 116, \"9\": 24, \"2\": 16, \"7\": 14, \"8\": 9, \"4\": 6, \"5\": 5, \"0\": 1, \"13\": 1}, \"4\": {\"4\": 201, \"8\": 32, \"3\": 6, \"10\": 1}, \"9\": {\"9\": 84, \"3\": 36, \"2\": 82, \"7\": 17, \"12\": 14, \"13\": 5, \"1\": 1, \"0\": 1}, \"12\": {\"12\": 81, \"5\": 42, \"3\": 40, \"0\": 10, \"9\": 25, \"2\": 8, \"1\": 29, \"15\": 4, \"4\": 1}, \"0\": {\"5\": 64, \"15\": 51, \"0\": 70, \"1\": 30, \"12\": 19, \"9\": 1, \"3\": 3, \"2\": 2}, \"10\": {\"14\": 39, \"10\": 181, \"8\": 18, \"6\": 1, \"4\": 1}, \"8\": {\"8\": 163, \"4\": 30, \"7\": 11, \"3\": 5, \"10\": 29, \"9\": 2}, \"13\": {\"13\": 214, \"9\": 10, \"2\": 11, \"1\": 2, \"15\": 1, \"12\": 1, \"3\": 1}, \"1\": {\"12\": 22, \"9\": 2, \"0\": 52, \"5\": 31, \"1\": 83, \"15\": 49, \"13\": 1}, \"15\": {\"15\": 148, \"1\": 44, \"0\": 28, \"12\": 4, \"5\": 12, \"13\": 4}}, \"O_38\": {\"3\": {\"9\": 51, \"3\": 161, \"7\": 13, \"5\": 4, \"0\": 6, \"6\": 5}, \"8\": {\"5\": 49, \"0\": 39, \"7\": 9, \"8\": 120, \"15\": 10, \"13\": 4, \"1\": 2, \"6\": 1, \"10\": 6}, \"0\": {\"8\": 68, \"0\": 53, \"7\": 66, \"6\": 1, \"5\": 32, \"3\": 8, \"10\": 6, \"15\": 3, \"9\": 2, \"12\": 1}, \"2\": {\"14\": 28, \"2\": 201, \"11\": 4, \"13\": 4, \"10\": 2, \"15\": 1}, \"4\": {\"4\": 216, \"12\": 24}, \"7\": {\"7\": 161, \"5\": 12, \"0\": 60, \"8\": 5, \"10\": 1, \"3\": 1}, \"12\": {\"12\": 215, \"10\": 3, \"4\": 22}, \"6\": {\"6\": 161, \"9\": 70, \"1\": 1, \"3\": 4, \"5\": 3, \"0\": 1}, \"15\": {\"15\": 130, \"0\": 1, \"13\": 58, \"1\": 37, \"8\": 5, \"10\": 7, \"5\": 2}, \"11\": {\"11\": 156, \"14\": 75, \"2\": 6, \"12\": 3}, \"9\": {\"6\": 79, \"9\": 131, \"3\": 30}, \"14\": {\"11\": 79, \"14\": 148, \"2\": 11, \"10\": 1, \"12\": 1}, \"10\": {\"10\": 158, \"0\": 9, \"12\": 32, \"13\": 11, \"15\": 10, \"8\": 11, \"14\": 5, \"2\": 4}, \"5\": {\"0\": 31, \"8\": 51, \"15\": 10, \"6\": 15, \"5\": 94, \"7\": 20, \"1\": 9, \"9\": 3, \"10\": 1, \"13\": 1, \"3\": 4, \"4\": 1}, \"1\": {\"1\": 234, \"15\": 5, \"13\": 1}, \"13\": {\"10\": 18, \"13\": 130, \"1\": 11, \"15\": 68, \"2\": 7, \"8\": 3, \"14\": 2, \"0\": 1}}, \"O_26\": {\"5\": {\"5\": 124, \"13\": 41, \"2\": 12, \"15\": 41, \"9\": 19, \"8\": 2, \"7\": 1}, \"8\": {\"8\": 94, \"0\": 18, \"4\": 22, \"9\": 21, \"10\": 32, \"7\": 19, \"1\": 7, \"15\": 13, \"14\": 1, \"2\": 1, \"6\": 12}, \"4\": {\"4\": 81, \"14\": 54, \"0\": 35, \"8\": 13, \"1\": 33, \"7\": 10, \"10\": 13, \"9\": 1}, \"12\": {\"12\": 236, \"11\": 4}, \"6\": {\"6\": 173, \"0\": 6, \"10\": 23, \"9\": 23, \"8\": 10, \"15\": 3, \"13\": 2}, \"7\": {\"7\": 169, \"8\": 12, \"3\": 23, \"2\": 14, \"15\": 4, \"4\": 13, \"5\": 1, \"1\": 1, \"9\": 2, \"14\": 1}, \"10\": {\"8\": 36, \"10\": 93, \"14\": 16, \"6\": 26, \"9\": 4, \"0\": 49, \"1\": 11, \"4\": 5}, \"0\": {\"4\": 35, \"14\": 43, \"10\": 46, \"0\": 54, \"1\": 28, \"15\": 2, \"8\": 21, \"6\": 4, \"7\": 4, \"9\": 3}, \"15\": {\"2\": 8, \"5\": 39, \"15\": 66, \"9\": 84, \"8\": 13, \"6\": 7, \"7\": 3, \"13\": 17, \"10\": 2, \"0\": 1}, \"9\": {\"9\": 89, \"6\": 23, \"8\": 36, \"15\": 65, \"5\": 9, \"10\": 9, \"7\": 1, \"13\": 5, \"4\": 1, \"2\": 1, \"0\": 1}, \"11\": {\"11\": 235, \"12\": 5}, \"14\": {\"4\": 35, \"14\": 57, \"0\": 54, \"10\": 12, \"1\": 73, \"8\": 6, \"7\": 3}, \"2\": {\"2\": 98, \"7\": 19, \"5\": 19, \"15\": 14, \"3\": 82, \"9\": 6, \"8\": 1, \"4\": 1}, \"13\": {\"5\": 64, \"13\": 151, \"15\": 8, \"6\": 6, \"2\": 6, \"9\": 5}, \"3\": {\"3\": 164, \"2\": 48, \"7\": 28}, \"1\": {\"14\": 79, \"1\": 85, \"0\": 19, \"4\": 44, \"10\": 8, \"8\": 4, \"7\": 1}}, \"C_4\": {\"38\": {\"38\": 39, \"2\": 1}, \"3\": {\"3\": 103, \"25\": 6, \"36\": 12, \"18\": 1, \"6\": 1, \"50\": 1}, \"24\": {\"24\": 56}, \"49\": {\"49\": 20}, \"7\": {\"7\": 24}, \"17\": {\"17\": 76, \"27\": 4}, \"43\": {\"43\": 148}, \"30\": {\"30\": 44}, \"44\": {\"44\": 123, \"19\": 9}, \"23\": {\"23\": 144}, \"37\": {\"37\": 24}, \"4\": {\"4\": 132}, \"57\": {\"57\": 81, \"55\": 18, \"35\": 1}, \"16\": {\"16\": 95, \"5\": 1}, \"18\": {\"18\": 107, \"46\": 1}, \"20\": {\"20\": 122, \"50\": 2}, \"45\": {\"45\": 96}, \"15\": {\"15\": 129, \"5\": 1, \"11\": 2}, \"52\": {\"52\": 116}, \"19\": {\"19\": 131, \"44\": 9}, \"54\": {\"54\": 107, \"26\": 1}, \"56\": {\"56\": 130}, \"40\": {\"40\": 134}, \"28\": {\"28\": 32}, \"2\": {\"2\": 36}, \"9\": {\"9\": 120}, \"0\": {\"0\": 79, \"38\": 1}, \"36\": {\"36\": 88, \"25\": 1, \"23\": 1, \"50\": 2}, \"55\": {\"55\": 112, \"57\": 16, \"35\": 2}, \"35\": {\"35\": 40}, \"39\": {\"39\": 20}, \"31\": {\"31\": 28}, \"14\": {\"38\": 2, \"14\": 10, \"1\": 2, \"2\": 1, \"55\": 1}, \"12\": {\"12\": 92}, \"6\": {\"6\": 95, \"3\": 2, \"52\": 3, \"53\": 7, \"51\": 2, \"20\": 1, \"16\": 2}, \"26\": {\"26\": 24}, \"50\": {\"3\": 1, \"50\": 100, \"36\": 7, \"21\": 5, \"53\": 2, \"25\": 5, \"20\": 11, \"6\": 1}, \"21\": {\"21\": 121, \"8\": 1}, \"46\": {\"46\": 130, \"43\": 1, \"47\": 1, \"0\": 1, \"49\": 1, \"38\": 1, \"32\": 3, \"5\": 2}, \"51\": {\"51\": 137, \"53\": 2, \"20\": 1}, \"41\": {\"41\": 35, \"31\": 1}, \"34\": {\"34\": 24}, \"47\": {\"47\": 120}, \"5\": {\"5\": 102, \"42\": 2, \"47\": 2, \"23\": 2}, \"1\": {\"1\": 40}, \"48\": {\"48\": 134}, \"29\": {\"29\": 117, \"35\": 1}, \"22\": {\"22\": 128}, \"10\": {\"10\": 131, \"11\": 1}, \"32\": {\"32\": 24}, \"13\": {\"13\": 112}, \"42\": {\"42\": 32}, \"27\": {\"27\": 134, \"17\": 4}, \"8\": {\"8\": 142}, \"33\": {\"33\": 36}, \"25\": {\"25\": 123, \"18\": 5, \"36\": 3, \"3\": 1}, \"11\": {\"11\": 104}, \"53\": {\"6\": 5, \"53\": 105, \"3\": 1, \"25\": 1}}, \"C_2\": {\"32\": {\"32\": 28}, \"17\": {\"17\": 104}, \"38\": {\"38\": 20}, \"2\": {\"2\": 32}, \"43\": {\"43\": 144}, \"56\": {\"56\": 144}, \"37\": {\"37\": 36}, \"49\": {\"49\": 24}, \"0\": {\"0\": 48}, \"29\": {\"29\": 128}, \"35\": {\"35\": 31, \"9\": 1}, \"18\": {\"18\": 48}, \"25\": {\"25\": 121, \"18\": 5, \"50\": 3, \"6\": 7}, \"23\": {\"23\": 124}, \"15\": {\"15\": 145, \"7\": 1}, \"21\": {\"21\": 120}, \"51\": {\"51\": 127, \"53\": 1}, \"20\": {\"20\": 136, \"36\": 1, \"8\": 1}, \"7\": {\"7\": 35, \"15\": 1}, \"50\": {\"50\": 117, \"6\": 11, \"18\": 1, \"3\": 1, \"25\": 3, \"41\": 1, \"53\": 1, \"8\": 1}, \"31\": {\"31\": 28}, \"30\": {\"30\": 140}, \"19\": {\"19\": 155, \"40\": 1}, \"9\": {\"9\": 142, \"35\": 1, \"4\": 1}, \"52\": {\"52\": 124}, \"45\": {\"45\": 125, \"4\": 1, \"9\": 2}, \"8\": {\"8\": 154}, \"55\": {\"55\": 159, \"1\": 1}, \"12\": {\"12\": 92}, \"40\": {\"40\": 140}, \"28\": {\"28\": 28}, \"36\": {\"36\": 116}, \"39\": {\"39\": 28}, \"46\": {\"46\": 105, \"15\": 8, \"39\": 2, \"52\": 4, \"16\": 2, \"43\": 1}, \"14\": {\"56\": 2, \"14\": 8, \"55\": 1, \"1\": 5, \"42\": 1, \"0\": 3, \"57\": 3, \"47\": 1}, \"57\": {\"57\": 140, \"1\": 1, \"42\": 1}, \"34\": {\"34\": 28}, \"1\": {\"1\": 109, \"57\": 3}, \"53\": {\"53\": 134, \"20\": 2}, \"48\": {\"48\": 130}, \"3\": {\"3\": 89, \"52\": 2, \"46\": 1}, \"16\": {\"16\": 151, \"15\": 1}, \"6\": {\"6\": 95, \"50\": 21, \"25\": 5, \"30\": 1, \"8\": 1, \"46\": 1}, \"10\": {\"10\": 112}, \"13\": {\"13\": 116}, \"26\": {\"26\": 24}, \"24\": {\"24\": 90, \"43\": 6}, \"44\": {\"44\": 100}, \"27\": {\"27\": 150}, \"22\": {\"22\": 128}, \"33\": {\"33\": 28}, \"47\": {\"47\": 118}, \"5\": {\"5\": 119, \"0\": 1}, \"4\": {\"4\": 137, \"9\": 1}, \"41\": {\"41\": 20}, \"11\": {\"11\": 150}, \"54\": {\"54\": 105, \"17\": 3}, \"42\": {\"42\": 36}}, \"C_3\": {\"5\": {\"5\": 116}, \"32\": {\"32\": 28}, \"33\": {\"33\": 28}, \"49\": {\"49\": 20}, \"39\": {\"39\": 16}, \"11\": {\"11\": 142}, \"8\": {\"8\": 115, \"36\": 1}, \"26\": {\"26\": 24}, \"51\": {\"51\": 122}, \"4\": {\"4\": 146}, \"52\": {\"52\": 112, \"3\": 6}, \"47\": {\"47\": 90, \"57\": 1, \"42\": 1}, \"17\": {\"17\": 104, \"27\": 2, \"24\": 1, \"54\": 1}, \"53\": {\"53\": 136}, \"2\": {\"2\": 32}, \"12\": {\"12\": 92}, \"37\": {\"37\": 28}, \"9\": {\"9\": 148}, \"13\": {\"13\": 126, \"15\": 1, \"24\": 1}, \"54\": {\"54\": 98, \"17\": 1, \"32\": 1}, \"31\": {\"31\": 28}, \"34\": {\"34\": 31, \"1\": 1}, \"24\": {\"24\": 101, \"43\": 3}, \"7\": {\"7\": 36}, \"50\": {\"50\": 89, \"41\": 1, \"20\": 12, \"52\": 5, \"6\": 3, \"46\": 3, \"3\": 1, \"18\": 1, \"25\": 2, \"16\": 1}, \"46\": {\"46\": 112, \"52\": 4, \"15\": 3, \"16\": 2, \"25\": 4, \"3\": 1, \"6\": 1, \"23\": 1}, \"44\": {\"44\": 88}, \"40\": {\"40\": 116}, \"21\": {\"21\": 128}, \"45\": {\"45\": 55, \"4\": 3, \"19\": 1, \"9\": 1}, \"16\": {\"16\": 125, \"15\": 1}, \"14\": {\"14\": 11, \"56\": 7, \"1\": 5, \"35\": 2, \"22\": 4, \"34\": 4, \"0\": 3, \"57\": 2, \"42\": 1, \"28\": 1}, \"36\": {\"36\": 100}, \"56\": {\"56\": 114}, \"10\": {\"10\": 64}, \"18\": {\"18\": 81, \"25\": 1, \"6\": 2}, \"48\": {\"48\": 116}, \"38\": {\"38\": 27, \"2\": 1}, \"27\": {\"27\": 130}, \"42\": {\"42\": 28}, \"15\": {\"15\": 130, \"5\": 2, \"26\": 1, \"23\": 1}, \"1\": {\"1\": 84, \"57\": 16}, \"28\": {\"28\": 28}, \"43\": {\"43\": 134, \"24\": 2}, \"0\": {\"0\": 123, \"55\": 1}, \"57\": {\"57\": 113, \"35\": 1, \"1\": 10}, \"3\": {\"3\": 134, \"25\": 1, \"52\": 12, \"50\": 1}, \"29\": {\"29\": 124}, \"41\": {\"41\": 28}, \"25\": {\"18\": 10, \"25\": 126, \"6\": 9, \"30\": 1}, \"6\": {\"41\": 3, \"25\": 11, \"6\": 42, \"30\": 6, \"46\": 2, \"23\": 3, \"18\": 14, \"50\": 1, \"52\": 4, \"36\": 1, \"8\": 1}, \"35\": {\"35\": 27, \"57\": 1}, \"20\": {\"20\": 125, \"50\": 1}, \"23\": {\"23\": 134}, \"22\": {\"22\": 139, \"14\": 1}, \"19\": {\"19\": 113, \"9\": 1, \"29\": 1, \"40\": 1}, \"55\": {\"55\": 121, \"0\": 3}, \"30\": {\"30\": 120}}, \"C_1\": {\"24\": {\"21\": 12, \"24\": 83, \"22\": 5, \"23\": 7, \"28\": 1}, \"25\": {\"25\": 138, \"18\": 2}, \"45\": {\"45\": 144}, \"42\": {\"42\": 39, \"54\": 1}, \"2\": {\"2\": 36}, \"9\": {\"9\": 150}, \"21\": {\"21\": 85, \"28\": 1, \"22\": 9, \"24\": 14, \"52\": 9, \"23\": 6}, \"26\": {\"26\": 24}, \"49\": {\"49\": 31, \"38\": 1}, \"39\": {\"39\": 28}, \"46\": {\"46\": 130, \"53\": 6}, \"17\": {\"17\": 64}, \"19\": {\"19\": 155, \"1\": 1}, \"23\": {\"23\": 131, \"24\": 1}, \"1\": {\"1\": 95, \"57\": 3, \"19\": 2}, \"29\": {\"29\": 140}, \"56\": {\"56\": 144, \"57\": 6}, \"37\": {\"37\": 32}, \"33\": {\"33\": 32}, \"55\": {\"55\": 142}, \"30\": {\"30\": 120}, \"0\": {\"0\": 146, \"31\": 4, \"15\": 1, \"23\": 1}, \"36\": {\"36\": 64}, \"32\": {\"32\": 31, \"55\": 1}, \"31\": {\"31\": 26, \"0\": 2}, \"15\": {\"15\": 138}, \"12\": {\"12\": 116}, \"38\": {\"38\": 23, \"39\": 1}, \"40\": {\"40\": 146}, \"14\": {\"14\": 18, \"7\": 1, \"26\": 1, \"30\": 2, \"17\": 1, \"8\": 1}, \"13\": {\"13\": 150}, \"48\": {\"48\": 147, \"6\": 1}, \"34\": {\"34\": 24}, \"44\": {\"44\": 130}, \"5\": {\"5\": 148, \"9\": 4}, \"11\": {\"11\": 140}, \"7\": {\"7\": 28}, \"18\": {\"18\": 72}, \"52\": {\"52\": 92, \"21\": 7, \"22\": 19, \"24\": 5, \"15\": 6, \"28\": 2, \"23\": 1}, \"51\": {\"51\": 142}, \"41\": {\"41\": 24}, \"16\": {\"16\": 140}, \"22\": {\"22\": 95, \"24\": 8, \"52\": 17, \"21\": 12, \"15\": 1, \"10\": 1}, \"3\": {\"3\": 137, \"36\": 1, \"13\": 1, \"12\": 1}, \"54\": {\"54\": 104}, \"27\": {\"27\": 144}, \"20\": {\"20\": 139, \"13\": 1}, \"8\": {\"8\": 138}, \"50\": {\"50\": 144}, \"57\": {\"57\": 133, \"56\": 5, \"1\": 2}, \"4\": {\"4\": 132}, \"47\": {\"47\": 146}, \"10\": {\"10\": 95, \"11\": 1}, \"35\": {\"35\": 36}, \"53\": {\"53\": 126}, \"6\": {\"6\": 95, \"8\": 1}, \"43\": {\"43\": 140}, \"28\": {\"28\": 26, \"21\": 1, \"22\": 1}}, \"C_5\": {\"35\": {\"35\": 36}, \"57\": {\"57\": 132}, \"20\": {\"20\": 143, \"25\": 1}, \"12\": {\"12\": 95, \"20\": 1}, \"32\": {\"32\": 32}, \"25\": {\"25\": 135, \"18\": 2, \"50\": 1}, \"44\": {\"44\": 147, \"56\": 1}, \"31\": {\"31\": 36}, \"11\": {\"11\": 145, \"43\": 5}, \"47\": {\"47\": 100}, \"23\": {\"23\": 124}, \"43\": {\"43\": 142, \"11\": 1, \"15\": 1}, \"37\": {\"37\": 24}, \"5\": {\"5\": 128}, \"45\": {\"45\": 100, \"27\": 9, \"55\": 2, \"9\": 5, \"48\": 8}, \"7\": {\"7\": 32}, \"13\": {\"13\": 126, \"10\": 9, \"24\": 1}, \"49\": {\"49\": 35, \"31\": 1}, \"46\": {\"46\": 142, \"3\": 6}, \"16\": {\"16\": 135, \"52\": 1}, \"54\": {\"54\": 112}, \"19\": {\"19\": 152}, \"55\": {\"55\": 150}, \"30\": {\"30\": 121, \"17\": 7}, \"34\": {\"34\": 36}, \"50\": {\"50\": 120, \"23\": 1, \"20\": 7, \"18\": 1, \"25\": 4, \"8\": 1}, \"3\": {\"46\": 10, \"3\": 90}, \"10\": {\"10\": 65, \"13\": 2, \"24\": 1}, \"27\": {\"27\": 141, \"45\": 1}, \"33\": {\"33\": 32}, \"56\": {\"56\": 142}, \"9\": {\"9\": 146, \"27\": 2, \"48\": 2}, \"14\": {\"31\": 7, \"14\": 12, \"49\": 4, \"35\": 1, \"57\": 7, \"36\": 3, \"34\": 2, \"54\": 1, \"29\": 2, \"40\": 2, \"3\": 2, \"46\": 1}, \"4\": {\"4\": 100}, \"42\": {\"42\": 39, \"57\": 1}, \"24\": {\"24\": 80}, \"39\": {\"39\": 19, \"41\": 1}, \"52\": {\"52\": 130}, \"2\": {\"2\": 27, \"56\": 1}, \"28\": {\"28\": 31, \"40\": 1}, \"53\": {\"53\": 122}, \"17\": {\"17\": 112, \"30\": 4}, \"29\": {\"29\": 132}, \"38\": {\"38\": 32}, \"15\": {\"15\": 144}, \"26\": {\"26\": 24}, \"21\": {\"21\": 144}, \"41\": {\"41\": 26, \"39\": 1, \"54\": 1}, \"48\": {\"48\": 135, \"55\": 1}, \"22\": {\"22\": 28}, \"8\": {\"8\": 148}, \"18\": {\"18\": 64}, \"0\": {\"35\": 2, \"0\": 120}, \"1\": {\"1\": 138}, \"40\": {\"40\": 123, \"28\": 1}, \"6\": {\"6\": 115, \"8\": 7, \"25\": 1, \"1\": 2, \"18\": 1, \"55\": 1, \"30\": 1}, \"51\": {\"51\": 142}, \"36\": {\"36\": 92}}}, \"per_domain_accuracy\": {\"O_50\": {\"accuracy\": 0.6955729166666667, \"source?\": true}, \"O_14\": {\"accuracy\": 0.76015625, \"source?\": true}, \"O_32\": {\"accuracy\": 0.6895833333333333, \"source?\": true}, \"O_44\": {\"accuracy\": 0.65234375, \"source?\": true}, \"O_8\": {\"accuracy\": 0.7434895833333334, \"source?\": true}, \"O_20\": {\"accuracy\": 0.6096354166666667, \"source?\": true}, \"O_38\": {\"accuracy\": 0.64296875, \"source?\": true}, \"O_26\": {\"accuracy\": 0.5127604166666667, \"source?\": true}, \"C_4\": {\"accuracy\": 0.9636363636363636, \"source?\": false}, \"C_2\": {\"accuracy\": 0.977001404494382, \"source?\": false}, \"C_3\": {\"accuracy\": 0.9575892857142857, \"source?\": false}, \"C_1\": {\"accuracy\": 0.9658783783783784, \"source?\": false}, \"C_5\": {\"accuracy\": 0.9732891061452514, \"source?\": false}}}, \"history\": {\"epoch_indices\": [1, 2, 3, 4, 5, 6], \"train_label_loss\": [2.1628246562378037, 1.0565172469509498, 0.915082896292387, 0.8788108897040643, 0.8534586863104432, 0.83313255415165], \"source_val_label_loss\": [1.5923742055892944, 0.9136113524436951, 0.9048247933387756, 0.8679237961769104, 0.8426049947738647, 0.8514145612716675], \"target_val_label_loss\": [1.482479453086853, 0.14421826601028442, 0.15413877367973328, 0.16458892822265625, 0.15354067087173462, 0.1785876601934433], \"source_val_acc_label\": [0.3902994791666667, 0.6633138020833333, 0.6597330729166667, 0.6739583333333333, 0.6842122395833333, 0.6835286458333333], \"target_val_acc_label\": [0.7468214285714285, 0.9676428571428571, 0.9632142857142857, 0.9615, 0.9595357142857143, 0.9573214285714285]}, \"dataset_metrics\": {\"source\": {\"train\": {\"n_unique_x\": 179200, \"n_unique_y\": 16, \"n_batch/episode\": 6720}, \"val\": {\"n_unique_x\": 38400, \"n_unique_y\": 16, \"n_batch/episode\": 960}, \"test\": {\"n_unique_x\": 38400, \"n_unique_y\": 16, \"n_batch/episode\": 960}}, \"target\": {\"train\": {\"n_unique_x\": 175197, \"n_unique_y\": 58, \"n_batch/episode\": 6309}, \"val\": {\"n_unique_x\": 37166, \"n_unique_y\": 58, \"n_batch/episode\": 875}, \"test\": {\"n_unique_x\": 37642, \"n_unique_y\": 58, \"n_batch/episode\": 890}}}}'"
      ]
     },
     "execution_count": 29,
     "metadata": {},
     "output_type": "execute_result"
    }
   ],
   "source": [
    "json.dumps(experiment)"
   ]
  }
 ],
 "metadata": {
  "celltoolbar": "Tags",
  "kernelspec": {
   "display_name": "Python 3 (ipykernel)",
   "language": "python",
   "name": "python3"
  },
  "language_info": {
   "codemirror_mode": {
    "name": "ipython",
    "version": 3
   },
   "file_extension": ".py",
   "mimetype": "text/x-python",
   "name": "python",
   "nbconvert_exporter": "python",
   "pygments_lexer": "ipython3",
   "version": "3.8.12"
  },
  "papermill": {
   "default_parameters": {},
   "duration": 1196.439574,
   "end_time": "2022-03-28T11:49:42.944599",
   "environment_variables": {},
   "exception": null,
   "input_path": "/root/csc500-main/csc500-notebooks/templates/tl_ptn_template.ipynb",
   "output_path": "trial.ipynb",
   "parameters": {
    "parameters": {
     "BEST_MODEL_PATH": "./best_model.pth",
     "NUM_LOGS_PER_EPOCH": 10,
     "criteria_for_best": "target_accuracy",
     "dataset_seed": 500,
     "datasets": [
      {
       "domain_prefix": "C_",
       "domains": [
        1,
        2,
        3,
        4,
        5
       ],
       "episode_transforms": [],
       "labels": [
        "1-10.",
        "1-11.",
        "1-15.",
        "1-16.",
        "1-17.",
        "1-18.",
        "1-19.",
        "10-4.",
        "10-7.",
        "11-1.",
        "11-14.",
        "11-17.",
        "11-20.",
        "11-7.",
        "13-20.",
        "13-8.",
        "14-10.",
        "14-11.",
        "14-14.",
        "14-7.",
        "15-1.",
        "15-20.",
        "16-1.",
        "16-16.",
        "17-10.",
        "17-11.",
        "17-2.",
        "19-1.",
        "19-16.",
        "19-19.",
        "19-20.",
        "19-3.",
        "2-10.",
        "2-11.",
        "2-17.",
        "2-18.",
        "2-20.",
        "2-3.",
        "2-4.",
        "2-5.",
        "2-6.",
        "2-7.",
        "2-8.",
        "3-13.",
        "3-18.",
        "3-3.",
        "4-1.",
        "4-10.",
        "4-11.",
        "4-19.",
        "5-5.",
        "6-15.",
        "7-10.",
        "7-14.",
        "8-18.",
        "8-20.",
        "8-3.",
        "8-8."
       ],
       "num_examples_per_domain_per_label": -1,
       "pickle_path": "/root/csc500-main/datasets/cores.stratified_ds.2022A.pkl",
       "source_or_target_dataset": "target",
       "x_transforms": [
        "unit_power",
        "jitter_256_10",
        "lowpass_+/-10MHz",
        "take_200"
       ]
      },
      {
       "domain_prefix": "O_",
       "domains": [
        32,
        38,
        8,
        44,
        14,
        50,
        20,
        26
       ],
       "episode_transforms": [],
       "labels": [
        "3123D52",
        "3123D65",
        "3123D79",
        "3123D80",
        "3123D54",
        "3123D70",
        "3123D7B",
        "3123D89",
        "3123D58",
        "3123D76",
        "3123D7D",
        "3123EFE",
        "3123D64",
        "3123D78",
        "3123D7E",
        "3124E4A"
       ],
       "num_examples_per_domain_per_label": 2000,
       "pickle_path": "/root/csc500-main/datasets/oracle.Run1_framed_2000Examples_stratified_ds.2022A.pkl",
       "source_or_target_dataset": "source",
       "x_transforms": [
        "unit_power",
        "jitter_256_10",
        "take_200",
        "resample_20Msps_to_25Msps"
       ]
      }
     ],
     "device": "cuda",
     "experiment_name": "tl_3-jitter10v2:oracle.run1.framed -> cores",
     "lr": 0.0001,
     "n_epoch": 50,
     "n_query": 2,
     "n_shot": 3,
     "n_way": 16,
     "patience": 3,
     "seed": 500,
     "test_k_factor": 2,
     "torch_default_dtype": "torch.float32",
     "train_k_factor": 3,
     "val_k_factor": 2,
     "x_net": [
      {
       "class": "nnReshape",
       "kargs": {
        "shape": [
         -1,
         1,
         2,
         256
        ]
       }
      },
      {
       "class": "Conv2d",
       "kargs": {
        "bias": false,
        "in_channels": 1,
        "kernel_size": [
         1,
         7
        ],
        "out_channels": 256,
        "padding": [
         0,
         3
        ]
       }
      },
      {
       "class": "ReLU",
       "kargs": {
        "inplace": true
       }
      },
      {
       "class": "BatchNorm2d",
       "kargs": {
        "num_features": 256
       }
      },
      {
       "class": "Conv2d",
       "kargs": {
        "bias": true,
        "in_channels": 256,
        "kernel_size": [
         2,
         7
        ],
        "out_channels": 80,
        "padding": [
         0,
         3
        ]
       }
      },
      {
       "class": "ReLU",
       "kargs": {
        "inplace": true
       }
      },
      {
       "class": "BatchNorm2d",
       "kargs": {
        "num_features": 80
       }
      },
      {
       "class": "Flatten",
       "kargs": {}
      },
      {
       "class": "Linear",
       "kargs": {
        "in_features": 20480,
        "out_features": 256
       }
      },
      {
       "class": "ReLU",
       "kargs": {
        "inplace": true
       }
      },
      {
       "class": "BatchNorm1d",
       "kargs": {
        "num_features": 256
       }
      },
      {
       "class": "Linear",
       "kargs": {
        "in_features": 256,
        "out_features": 256
       }
      }
     ],
     "x_shape": [
      2,
      256
     ]
    }
   },
   "start_time": "2022-03-28T11:29:46.505025",
   "version": "2.3.4"
  }
 },
 "nbformat": 4,
 "nbformat_minor": 5
}