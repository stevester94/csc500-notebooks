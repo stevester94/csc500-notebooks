{
 "cells": [
  {
   "cell_type": "markdown",
   "id": "9fea5f46",
   "metadata": {
    "papermill": {
     "duration": 0.029123,
     "end_time": "2022-03-28T11:10:49.950635",
     "exception": false,
     "start_time": "2022-03-28T11:10:49.921512",
     "status": "completed"
    },
    "tags": []
   },
   "source": [
    "# Transfer Learning Template"
   ]
  },
  {
   "cell_type": "code",
   "execution_count": 1,
   "id": "0902182a",
   "metadata": {
    "execution": {
     "iopub.execute_input": "2022-03-28T11:10:50.009832Z",
     "iopub.status.busy": "2022-03-28T11:10:50.008981Z",
     "iopub.status.idle": "2022-03-28T11:10:51.821133Z",
     "shell.execute_reply": "2022-03-28T11:10:51.820290Z"
    },
    "papermill": {
     "duration": 1.849238,
     "end_time": "2022-03-28T11:10:51.821324",
     "exception": false,
     "start_time": "2022-03-28T11:10:49.972086",
     "status": "completed"
    },
    "tags": []
   },
   "outputs": [],
   "source": [
    "%load_ext autoreload\n",
    "%autoreload 2\n",
    "%matplotlib inline\n",
    "\n",
    "    \n",
    "import os, json, sys, time, random\n",
    "import numpy as np\n",
    "import torch\n",
    "from torch.optim import Adam\n",
    "from  easydict import EasyDict\n",
    "import matplotlib.pyplot as plt\n",
    "\n",
    "from steves_models.steves_ptn import Steves_Prototypical_Network\n",
    "\n",
    "from steves_utils.lazy_iterable_wrapper import Lazy_Iterable_Wrapper\n",
    "from steves_utils.iterable_aggregator import Iterable_Aggregator\n",
    "from steves_utils.ptn_train_eval_test_jig import  PTN_Train_Eval_Test_Jig\n",
    "from steves_utils.torch_sequential_builder import build_sequential\n",
    "from steves_utils.torch_utils import get_dataset_metrics, ptn_confusion_by_domain_over_dataloader\n",
    "from steves_utils.utils_v2 import (per_domain_accuracy_from_confusion, get_datasets_base_path)\n",
    "from steves_utils.PTN.utils import independent_accuracy_assesment\n",
    "\n",
    "from torch.utils.data import DataLoader\n",
    "\n",
    "from steves_utils.stratified_dataset.episodic_accessor import Episodic_Accessor_Factory\n",
    "\n",
    "from steves_utils.ptn_do_report import (\n",
    "    get_loss_curve,\n",
    "    get_results_table,\n",
    "    get_parameters_table,\n",
    "    get_domain_accuracies,\n",
    ")\n",
    "\n",
    "from steves_utils.transforms import get_chained_transform"
   ]
  },
  {
   "cell_type": "markdown",
   "id": "41c840b4",
   "metadata": {
    "papermill": {
     "duration": 0.018492,
     "end_time": "2022-03-28T11:10:51.863017",
     "exception": false,
     "start_time": "2022-03-28T11:10:51.844525",
     "status": "completed"
    },
    "tags": []
   },
   "source": [
    "# Allowed Parameters\n",
    "These are allowed parameters, not defaults\n",
    "Each of these values need to be present in the injected parameters (the notebook will raise an exception if they are not present)\n",
    "\n",
    "Papermill uses the cell tag \"parameters\" to inject the real parameters below this cell.\n",
    "Enable tags to see what I mean"
   ]
  },
  {
   "cell_type": "code",
   "execution_count": 2,
   "id": "fd44eb83",
   "metadata": {
    "execution": {
     "iopub.execute_input": "2022-03-28T11:10:51.904444Z",
     "iopub.status.busy": "2022-03-28T11:10:51.904068Z",
     "iopub.status.idle": "2022-03-28T11:10:51.922924Z",
     "shell.execute_reply": "2022-03-28T11:10:51.922239Z"
    },
    "papermill": {
     "duration": 0.041363,
     "end_time": "2022-03-28T11:10:51.923075",
     "exception": false,
     "start_time": "2022-03-28T11:10:51.881712",
     "status": "completed"
    },
    "tags": []
   },
   "outputs": [],
   "source": [
    "required_parameters = {\n",
    "    \"experiment_name\",\n",
    "    \"lr\",\n",
    "    \"device\",\n",
    "    \"seed\",\n",
    "    \"dataset_seed\",\n",
    "    \"n_shot\",\n",
    "    \"n_query\",\n",
    "    \"n_way\",\n",
    "    \"train_k_factor\",\n",
    "    \"val_k_factor\",\n",
    "    \"test_k_factor\",\n",
    "    \"n_epoch\",\n",
    "    \"patience\",\n",
    "    \"criteria_for_best\",\n",
    "    \"x_net\",\n",
    "    \"datasets\",\n",
    "    \"torch_default_dtype\",\n",
    "    \"NUM_LOGS_PER_EPOCH\",\n",
    "    \"BEST_MODEL_PATH\",\n",
    "    \"x_shape\",\n",
    "}"
   ]
  },
  {
   "cell_type": "code",
   "execution_count": 3,
   "id": "fa3f0049",
   "metadata": {
    "execution": {
     "iopub.execute_input": "2022-03-28T11:10:51.977694Z",
     "iopub.status.busy": "2022-03-28T11:10:51.976808Z",
     "iopub.status.idle": "2022-03-28T11:10:51.995212Z",
     "shell.execute_reply": "2022-03-28T11:10:51.995855Z"
    },
    "papermill": {
     "duration": 0.047239,
     "end_time": "2022-03-28T11:10:51.996032",
     "exception": false,
     "start_time": "2022-03-28T11:10:51.948793",
     "status": "completed"
    },
    "tags": [
     "parameters"
    ]
   },
   "outputs": [],
   "source": [
    "from steves_utils.CORES.utils import (\n",
    "    ALL_NODES,\n",
    "    ALL_NODES_MINIMUM_1000_EXAMPLES,\n",
    "    ALL_DAYS\n",
    ")\n",
    "\n",
    "from steves_utils.ORACLE.utils_v2 import (\n",
    "    ALL_DISTANCES_FEET_NARROWED,\n",
    "    ALL_RUNS,\n",
    "    ALL_SERIAL_NUMBERS,\n",
    ")\n",
    "\n",
    "standalone_parameters = {}\n",
    "standalone_parameters[\"experiment_name\"] = \"STANDALONE PTN\"\n",
    "standalone_parameters[\"lr\"] = 0.001\n",
    "standalone_parameters[\"device\"] = \"cuda\"\n",
    "\n",
    "standalone_parameters[\"seed\"] = 1337\n",
    "standalone_parameters[\"dataset_seed\"] = 1337\n",
    "\n",
    "standalone_parameters[\"n_way\"] = 8\n",
    "standalone_parameters[\"n_shot\"] = 3\n",
    "standalone_parameters[\"n_query\"]  = 2\n",
    "standalone_parameters[\"train_k_factor\"] = 1\n",
    "standalone_parameters[\"val_k_factor\"] = 2\n",
    "standalone_parameters[\"test_k_factor\"] = 2\n",
    "\n",
    "\n",
    "standalone_parameters[\"n_epoch\"] = 50\n",
    "\n",
    "standalone_parameters[\"patience\"] = 10\n",
    "standalone_parameters[\"criteria_for_best\"] = \"source_loss\"\n",
    "\n",
    "standalone_parameters[\"datasets\"] = [\n",
    "    {\n",
    "        \"labels\": ALL_SERIAL_NUMBERS,\n",
    "        \"domains\": ALL_DISTANCES_FEET_NARROWED,\n",
    "        \"num_examples_per_domain_per_label\": 100,\n",
    "        \"pickle_path\": os.path.join(get_datasets_base_path(), \"oracle.Run1_framed_2000Examples_stratified_ds.2022A.pkl\"),\n",
    "        \"source_or_target_dataset\": \"source\",\n",
    "        \"x_transforms\": [\"unit_mag\", \"minus_two\"],\n",
    "        \"episode_transforms\": [],\n",
    "        \"domain_prefix\": \"ORACLE_\"\n",
    "    },\n",
    "    {\n",
    "        \"labels\": ALL_NODES,\n",
    "        \"domains\": ALL_DAYS,\n",
    "        \"num_examples_per_domain_per_label\": 100,\n",
    "        \"pickle_path\": os.path.join(get_datasets_base_path(), \"cores.stratified_ds.2022A.pkl\"),\n",
    "        \"source_or_target_dataset\": \"target\",\n",
    "        \"x_transforms\": [\"unit_power\", \"times_zero\"],\n",
    "        \"episode_transforms\": [],\n",
    "        \"domain_prefix\": \"CORES_\"\n",
    "    }   \n",
    "]\n",
    "\n",
    "standalone_parameters[\"torch_default_dtype\"] = \"torch.float32\" \n",
    "\n",
    "\n",
    "\n",
    "standalone_parameters[\"x_net\"] =     [\n",
    "    {\"class\": \"nnReshape\", \"kargs\": {\"shape\":[-1, 1, 2, 256]}},\n",
    "    {\"class\": \"Conv2d\", \"kargs\": { \"in_channels\":1, \"out_channels\":256, \"kernel_size\":(1,7), \"bias\":False, \"padding\":(0,3), },},\n",
    "    {\"class\": \"ReLU\", \"kargs\": {\"inplace\": True}},\n",
    "    {\"class\": \"BatchNorm2d\", \"kargs\": {\"num_features\":256}},\n",
    "\n",
    "    {\"class\": \"Conv2d\", \"kargs\": { \"in_channels\":256, \"out_channels\":80, \"kernel_size\":(2,7), \"bias\":True, \"padding\":(0,3), },},\n",
    "    {\"class\": \"ReLU\", \"kargs\": {\"inplace\": True}},\n",
    "    {\"class\": \"BatchNorm2d\", \"kargs\": {\"num_features\":80}},\n",
    "    {\"class\": \"Flatten\", \"kargs\": {}},\n",
    "\n",
    "    {\"class\": \"Linear\", \"kargs\": {\"in_features\": 80*256, \"out_features\": 256}}, # 80 units per IQ pair\n",
    "    {\"class\": \"ReLU\", \"kargs\": {\"inplace\": True}},\n",
    "    {\"class\": \"BatchNorm1d\", \"kargs\": {\"num_features\":256}},\n",
    "\n",
    "    {\"class\": \"Linear\", \"kargs\": {\"in_features\": 256, \"out_features\": 256}},\n",
    "]\n",
    "\n",
    "# Parameters relevant to results\n",
    "# These parameters will basically never need to change\n",
    "standalone_parameters[\"NUM_LOGS_PER_EPOCH\"] = 10\n",
    "standalone_parameters[\"BEST_MODEL_PATH\"] = \"./best_model.pth\"\n",
    "\n",
    "\n",
    "\n",
    "\n"
   ]
  },
  {
   "cell_type": "code",
   "execution_count": 4,
   "id": "bdd64f1a",
   "metadata": {
    "execution": {
     "iopub.execute_input": "2022-03-28T11:10:52.048389Z",
     "iopub.status.busy": "2022-03-28T11:10:52.047443Z",
     "iopub.status.idle": "2022-03-28T11:10:52.065602Z",
     "shell.execute_reply": "2022-03-28T11:10:52.066251Z"
    },
    "papermill": {
     "duration": 0.047266,
     "end_time": "2022-03-28T11:10:52.066422",
     "exception": false,
     "start_time": "2022-03-28T11:10:52.019156",
     "status": "completed"
    },
    "tags": [
     "injected-parameters"
    ]
   },
   "outputs": [],
   "source": [
    "# Parameters\n",
    "parameters = {\n",
    "    \"experiment_name\": \"tl_3-jitter10v2:oracle.run1.framed -> cores\",\n",
    "    \"device\": \"cuda\",\n",
    "    \"lr\": 0.0001,\n",
    "    \"x_shape\": [2, 256],\n",
    "    \"n_shot\": 3,\n",
    "    \"n_query\": 2,\n",
    "    \"train_k_factor\": 3,\n",
    "    \"val_k_factor\": 2,\n",
    "    \"test_k_factor\": 2,\n",
    "    \"torch_default_dtype\": \"torch.float32\",\n",
    "    \"n_epoch\": 50,\n",
    "    \"patience\": 3,\n",
    "    \"criteria_for_best\": \"target_accuracy\",\n",
    "    \"x_net\": [\n",
    "        {\"class\": \"nnReshape\", \"kargs\": {\"shape\": [-1, 1, 2, 256]}},\n",
    "        {\n",
    "            \"class\": \"Conv2d\",\n",
    "            \"kargs\": {\n",
    "                \"in_channels\": 1,\n",
    "                \"out_channels\": 256,\n",
    "                \"kernel_size\": [1, 7],\n",
    "                \"bias\": False,\n",
    "                \"padding\": [0, 3],\n",
    "            },\n",
    "        },\n",
    "        {\"class\": \"ReLU\", \"kargs\": {\"inplace\": True}},\n",
    "        {\"class\": \"BatchNorm2d\", \"kargs\": {\"num_features\": 256}},\n",
    "        {\n",
    "            \"class\": \"Conv2d\",\n",
    "            \"kargs\": {\n",
    "                \"in_channels\": 256,\n",
    "                \"out_channels\": 80,\n",
    "                \"kernel_size\": [2, 7],\n",
    "                \"bias\": True,\n",
    "                \"padding\": [0, 3],\n",
    "            },\n",
    "        },\n",
    "        {\"class\": \"ReLU\", \"kargs\": {\"inplace\": True}},\n",
    "        {\"class\": \"BatchNorm2d\", \"kargs\": {\"num_features\": 80}},\n",
    "        {\"class\": \"Flatten\", \"kargs\": {}},\n",
    "        {\"class\": \"Linear\", \"kargs\": {\"in_features\": 20480, \"out_features\": 256}},\n",
    "        {\"class\": \"ReLU\", \"kargs\": {\"inplace\": True}},\n",
    "        {\"class\": \"BatchNorm1d\", \"kargs\": {\"num_features\": 256}},\n",
    "        {\"class\": \"Linear\", \"kargs\": {\"in_features\": 256, \"out_features\": 256}},\n",
    "    ],\n",
    "    \"NUM_LOGS_PER_EPOCH\": 10,\n",
    "    \"BEST_MODEL_PATH\": \"./best_model.pth\",\n",
    "    \"n_way\": 16,\n",
    "    \"datasets\": [\n",
    "        {\n",
    "            \"labels\": [\n",
    "                \"1-10.\",\n",
    "                \"1-11.\",\n",
    "                \"1-15.\",\n",
    "                \"1-16.\",\n",
    "                \"1-17.\",\n",
    "                \"1-18.\",\n",
    "                \"1-19.\",\n",
    "                \"10-4.\",\n",
    "                \"10-7.\",\n",
    "                \"11-1.\",\n",
    "                \"11-14.\",\n",
    "                \"11-17.\",\n",
    "                \"11-20.\",\n",
    "                \"11-7.\",\n",
    "                \"13-20.\",\n",
    "                \"13-8.\",\n",
    "                \"14-10.\",\n",
    "                \"14-11.\",\n",
    "                \"14-14.\",\n",
    "                \"14-7.\",\n",
    "                \"15-1.\",\n",
    "                \"15-20.\",\n",
    "                \"16-1.\",\n",
    "                \"16-16.\",\n",
    "                \"17-10.\",\n",
    "                \"17-11.\",\n",
    "                \"17-2.\",\n",
    "                \"19-1.\",\n",
    "                \"19-16.\",\n",
    "                \"19-19.\",\n",
    "                \"19-20.\",\n",
    "                \"19-3.\",\n",
    "                \"2-10.\",\n",
    "                \"2-11.\",\n",
    "                \"2-17.\",\n",
    "                \"2-18.\",\n",
    "                \"2-20.\",\n",
    "                \"2-3.\",\n",
    "                \"2-4.\",\n",
    "                \"2-5.\",\n",
    "                \"2-6.\",\n",
    "                \"2-7.\",\n",
    "                \"2-8.\",\n",
    "                \"3-13.\",\n",
    "                \"3-18.\",\n",
    "                \"3-3.\",\n",
    "                \"4-1.\",\n",
    "                \"4-10.\",\n",
    "                \"4-11.\",\n",
    "                \"4-19.\",\n",
    "                \"5-5.\",\n",
    "                \"6-15.\",\n",
    "                \"7-10.\",\n",
    "                \"7-14.\",\n",
    "                \"8-18.\",\n",
    "                \"8-20.\",\n",
    "                \"8-3.\",\n",
    "                \"8-8.\",\n",
    "            ],\n",
    "            \"domains\": [1, 2, 3, 4, 5],\n",
    "            \"num_examples_per_domain_per_label\": -1,\n",
    "            \"pickle_path\": \"/root/csc500-main/datasets/cores.stratified_ds.2022A.pkl\",\n",
    "            \"source_or_target_dataset\": \"target\",\n",
    "            \"x_transforms\": [\"jitter_256_10\", \"lowpass_+/-10MHz\", \"take_200\"],\n",
    "            \"episode_transforms\": [],\n",
    "            \"domain_prefix\": \"C_\",\n",
    "        },\n",
    "        {\n",
    "            \"labels\": [\n",
    "                \"3123D52\",\n",
    "                \"3123D65\",\n",
    "                \"3123D79\",\n",
    "                \"3123D80\",\n",
    "                \"3123D54\",\n",
    "                \"3123D70\",\n",
    "                \"3123D7B\",\n",
    "                \"3123D89\",\n",
    "                \"3123D58\",\n",
    "                \"3123D76\",\n",
    "                \"3123D7D\",\n",
    "                \"3123EFE\",\n",
    "                \"3123D64\",\n",
    "                \"3123D78\",\n",
    "                \"3123D7E\",\n",
    "                \"3124E4A\",\n",
    "            ],\n",
    "            \"domains\": [32, 38, 8, 44, 14, 50, 20, 26],\n",
    "            \"num_examples_per_domain_per_label\": 2000,\n",
    "            \"pickle_path\": \"/root/csc500-main/datasets/oracle.Run1_framed_2000Examples_stratified_ds.2022A.pkl\",\n",
    "            \"source_or_target_dataset\": \"source\",\n",
    "            \"x_transforms\": [\"jitter_256_10\", \"take_200\", \"resample_20Msps_to_25Msps\"],\n",
    "            \"episode_transforms\": [],\n",
    "            \"domain_prefix\": \"O_\",\n",
    "        },\n",
    "    ],\n",
    "    \"seed\": 7,\n",
    "    \"dataset_seed\": 7,\n",
    "}\n"
   ]
  },
  {
   "cell_type": "code",
   "execution_count": 5,
   "id": "8fa1cc33",
   "metadata": {
    "execution": {
     "iopub.execute_input": "2022-03-28T11:10:52.113455Z",
     "iopub.status.busy": "2022-03-28T11:10:52.113088Z",
     "iopub.status.idle": "2022-03-28T11:10:52.131068Z",
     "shell.execute_reply": "2022-03-28T11:10:52.130379Z"
    },
    "papermill": {
     "duration": 0.040679,
     "end_time": "2022-03-28T11:10:52.131217",
     "exception": false,
     "start_time": "2022-03-28T11:10:52.090538",
     "status": "completed"
    },
    "tags": []
   },
   "outputs": [],
   "source": [
    "# Set this to True if you want to run this template directly\n",
    "STANDALONE = False\n",
    "if STANDALONE:\n",
    "    print(\"parameters not injected, running with standalone_parameters\")\n",
    "    parameters = standalone_parameters\n",
    "\n",
    "if not 'parameters' in locals() and not 'parameters' in globals():\n",
    "    raise Exception(\"Parameter injection failed\")\n",
    "\n",
    "#Use an easy dict for all the parameters\n",
    "p = EasyDict(parameters)\n",
    "\n",
    "if \"x_shape\" not in p:\n",
    "    p.x_shape = [2,256] # Default to this if we dont supply x_shape\n",
    "\n",
    "\n",
    "supplied_keys = set(p.keys())\n",
    "\n",
    "if  supplied_keys != required_parameters:\n",
    "    print(\"Parameters are incorrect\")\n",
    "    if len(supplied_keys - required_parameters)>0: print(\"Shouldn't have:\", str(supplied_keys - required_parameters))\n",
    "    if len(required_parameters - supplied_keys)>0: print(\"Need to have:\", str(required_parameters - supplied_keys))\n",
    "    raise RuntimeError(\"Parameters are incorrect\")"
   ]
  },
  {
   "cell_type": "code",
   "execution_count": 6,
   "id": "3a028d58",
   "metadata": {
    "execution": {
     "iopub.execute_input": "2022-03-28T11:10:52.176609Z",
     "iopub.status.busy": "2022-03-28T11:10:52.175897Z",
     "iopub.status.idle": "2022-03-28T11:10:52.194628Z",
     "shell.execute_reply": "2022-03-28T11:10:52.193977Z"
    },
    "papermill": {
     "duration": 0.039896,
     "end_time": "2022-03-28T11:10:52.194777",
     "exception": false,
     "start_time": "2022-03-28T11:10:52.154881",
     "status": "completed"
    },
    "tags": []
   },
   "outputs": [],
   "source": [
    "###################################\n",
    "# Set the RNGs and make it all deterministic\n",
    "###################################\n",
    "np.random.seed(p.seed)\n",
    "random.seed(p.seed)\n",
    "torch.manual_seed(p.seed)\n",
    "\n",
    "torch.use_deterministic_algorithms(True) "
   ]
  },
  {
   "cell_type": "code",
   "execution_count": 7,
   "id": "b691acf6",
   "metadata": {
    "execution": {
     "iopub.execute_input": "2022-03-28T11:10:52.251564Z",
     "iopub.status.busy": "2022-03-28T11:10:52.250929Z",
     "iopub.status.idle": "2022-03-28T11:10:52.259464Z",
     "shell.execute_reply": "2022-03-28T11:10:52.258784Z"
    },
    "papermill": {
     "duration": 0.040056,
     "end_time": "2022-03-28T11:10:52.259643",
     "exception": false,
     "start_time": "2022-03-28T11:10:52.219587",
     "status": "completed"
    },
    "tags": []
   },
   "outputs": [],
   "source": [
    "###########################################\n",
    "# The stratified datasets honor this\n",
    "###########################################\n",
    "torch.set_default_dtype(eval(p.torch_default_dtype))"
   ]
  },
  {
   "cell_type": "code",
   "execution_count": 8,
   "id": "b5fba671",
   "metadata": {
    "execution": {
     "iopub.execute_input": "2022-03-28T11:10:52.306603Z",
     "iopub.status.busy": "2022-03-28T11:10:52.306246Z",
     "iopub.status.idle": "2022-03-28T11:10:52.361734Z",
     "shell.execute_reply": "2022-03-28T11:10:52.361053Z"
    },
    "papermill": {
     "duration": 0.076561,
     "end_time": "2022-03-28T11:10:52.361879",
     "exception": false,
     "start_time": "2022-03-28T11:10:52.285318",
     "status": "completed"
    },
    "tags": []
   },
   "outputs": [],
   "source": [
    "###################################\n",
    "# Build the network(s)\n",
    "# Note: It's critical to do this AFTER setting the RNG\n",
    "###################################\n",
    "x_net = build_sequential(p.x_net)"
   ]
  },
  {
   "cell_type": "code",
   "execution_count": 9,
   "id": "5d7e61cc",
   "metadata": {
    "execution": {
     "iopub.execute_input": "2022-03-28T11:10:52.409358Z",
     "iopub.status.busy": "2022-03-28T11:10:52.409000Z",
     "iopub.status.idle": "2022-03-28T11:10:52.435904Z",
     "shell.execute_reply": "2022-03-28T11:10:52.435077Z"
    },
    "papermill": {
     "duration": 0.049325,
     "end_time": "2022-03-28T11:10:52.436055",
     "exception": false,
     "start_time": "2022-03-28T11:10:52.386730",
     "status": "completed"
    },
    "tags": []
   },
   "outputs": [],
   "source": [
    "start_time_secs = time.time()"
   ]
  },
  {
   "cell_type": "code",
   "execution_count": 10,
   "id": "c6b67dfd",
   "metadata": {
    "execution": {
     "iopub.execute_input": "2022-03-28T11:10:52.484318Z",
     "iopub.status.busy": "2022-03-28T11:10:52.483566Z",
     "iopub.status.idle": "2022-03-28T11:10:52.509000Z",
     "shell.execute_reply": "2022-03-28T11:10:52.508191Z"
    },
    "papermill": {
     "duration": 0.047123,
     "end_time": "2022-03-28T11:10:52.509151",
     "exception": false,
     "start_time": "2022-03-28T11:10:52.462028",
     "status": "completed"
    },
    "tags": []
   },
   "outputs": [],
   "source": [
    "p.domains_source = []\n",
    "p.domains_target = []\n",
    "\n",
    "\n",
    "train_original_source = []\n",
    "val_original_source   = []\n",
    "test_original_source  = []\n",
    "\n",
    "train_original_target = []\n",
    "val_original_target   = []\n",
    "test_original_target  = []"
   ]
  },
  {
   "cell_type": "code",
   "execution_count": 11,
   "id": "e3d9c3d3",
   "metadata": {
    "execution": {
     "iopub.execute_input": "2022-03-28T11:10:52.558157Z",
     "iopub.status.busy": "2022-03-28T11:10:52.557735Z",
     "iopub.status.idle": "2022-03-28T11:10:52.576456Z",
     "shell.execute_reply": "2022-03-28T11:10:52.575648Z"
    },
    "papermill": {
     "duration": 0.040104,
     "end_time": "2022-03-28T11:10:52.576607",
     "exception": false,
     "start_time": "2022-03-28T11:10:52.536503",
     "status": "completed"
    },
    "tags": []
   },
   "outputs": [],
   "source": [
    "# global_x_transform_func = lambda x: normalize(x.to(torch.get_default_dtype()), \"unit_power\") # unit_power, unit_mag\n",
    "# global_x_transform_func = lambda x: normalize(x, \"unit_power\") # unit_power, unit_mag"
   ]
  },
  {
   "cell_type": "code",
   "execution_count": 12,
   "id": "acb78fd2",
   "metadata": {
    "execution": {
     "iopub.execute_input": "2022-03-28T11:10:52.634716Z",
     "iopub.status.busy": "2022-03-28T11:10:52.634148Z",
     "iopub.status.idle": "2022-03-28T11:10:52.653903Z",
     "shell.execute_reply": "2022-03-28T11:10:52.653105Z"
    },
    "papermill": {
     "duration": 0.049999,
     "end_time": "2022-03-28T11:10:52.654055",
     "exception": false,
     "start_time": "2022-03-28T11:10:52.604056",
     "status": "completed"
    },
    "tags": []
   },
   "outputs": [],
   "source": [
    "def add_dataset(\n",
    "    labels,\n",
    "    domains,\n",
    "    pickle_path,\n",
    "    x_transforms,\n",
    "    episode_transforms,\n",
    "    domain_prefix,\n",
    "    num_examples_per_domain_per_label,\n",
    "    source_or_target_dataset:str,\n",
    "    iterator_seed=p.seed,\n",
    "    dataset_seed=p.dataset_seed,\n",
    "    n_shot=p.n_shot,\n",
    "    n_way=p.n_way,\n",
    "    n_query=p.n_query,\n",
    "    train_val_test_k_factors=(p.train_k_factor,p.val_k_factor,p.test_k_factor),\n",
    "):\n",
    "   \n",
    "    if x_transforms == []: x_transform = None\n",
    "    else: x_transform = get_chained_transform(x_transforms)\n",
    "    \n",
    "    if episode_transforms == []: episode_transform = None\n",
    "    else: raise Exception(\"episode_transforms not implemented\")\n",
    "    \n",
    "    episode_transform = lambda tup, _prefix=domain_prefix: (_prefix + str(tup[0]), tup[1])\n",
    "\n",
    "\n",
    "    eaf = Episodic_Accessor_Factory(\n",
    "        labels=labels,\n",
    "        domains=domains,\n",
    "        num_examples_per_domain_per_label=num_examples_per_domain_per_label,\n",
    "        iterator_seed=iterator_seed,\n",
    "        dataset_seed=dataset_seed,\n",
    "        n_shot=n_shot,\n",
    "        n_way=n_way,\n",
    "        n_query=n_query,\n",
    "        train_val_test_k_factors=train_val_test_k_factors,\n",
    "        pickle_path=pickle_path,\n",
    "        x_transform_func=x_transform,\n",
    "    )\n",
    "\n",
    "    train, val, test = eaf.get_train(), eaf.get_val(), eaf.get_test()\n",
    "    train = Lazy_Iterable_Wrapper(train, episode_transform)\n",
    "    val = Lazy_Iterable_Wrapper(val, episode_transform)\n",
    "    test = Lazy_Iterable_Wrapper(test, episode_transform)\n",
    "\n",
    "    if source_or_target_dataset==\"source\":\n",
    "        train_original_source.append(train)\n",
    "        val_original_source.append(val)\n",
    "        test_original_source.append(test)\n",
    "\n",
    "        p.domains_source.extend(\n",
    "            [domain_prefix + str(u) for u in domains]\n",
    "        )\n",
    "    elif source_or_target_dataset==\"target\":\n",
    "        train_original_target.append(train)\n",
    "        val_original_target.append(val)\n",
    "        test_original_target.append(test)\n",
    "        p.domains_target.extend(\n",
    "            [domain_prefix + str(u) for u in domains]\n",
    "        )\n",
    "    else:\n",
    "        raise Exception(f\"invalid source_or_target_dataset: {source_or_target_dataset}\")\n",
    "    "
   ]
  },
  {
   "cell_type": "code",
   "execution_count": 13,
   "id": "fe266617",
   "metadata": {
    "execution": {
     "iopub.execute_input": "2022-03-28T11:10:52.703773Z",
     "iopub.status.busy": "2022-03-28T11:10:52.703408Z",
     "iopub.status.idle": "2022-03-28T11:11:57.512771Z",
     "shell.execute_reply": "2022-03-28T11:11:57.513428Z"
    },
    "papermill": {
     "duration": 64.831957,
     "end_time": "2022-03-28T11:11:57.513662",
     "exception": false,
     "start_time": "2022-03-28T11:10:52.681705",
     "status": "completed"
    },
    "tags": []
   },
   "outputs": [],
   "source": [
    "for ds in p.datasets:\n",
    "    add_dataset(**ds)"
   ]
  },
  {
   "cell_type": "code",
   "execution_count": 14,
   "id": "b90d65ac",
   "metadata": {
    "execution": {
     "iopub.execute_input": "2022-03-28T11:11:57.562261Z",
     "iopub.status.busy": "2022-03-28T11:11:57.561704Z",
     "iopub.status.idle": "2022-03-28T11:11:57.587714Z",
     "shell.execute_reply": "2022-03-28T11:11:57.586924Z"
    },
    "papermill": {
     "duration": 0.049805,
     "end_time": "2022-03-28T11:11:57.587880",
     "exception": false,
     "start_time": "2022-03-28T11:11:57.538075",
     "status": "completed"
    },
    "tags": []
   },
   "outputs": [],
   "source": [
    "# from steves_utils.CORES.utils import (\n",
    "#     ALL_NODES,\n",
    "#     ALL_NODES_MINIMUM_1000_EXAMPLES,\n",
    "#     ALL_DAYS\n",
    "# )\n",
    "\n",
    "# add_dataset(\n",
    "#     labels=ALL_NODES,\n",
    "#     domains = ALL_DAYS,\n",
    "#     num_examples_per_domain_per_label=100,\n",
    "#     pickle_path=os.path.join(get_datasets_base_path(), \"cores.stratified_ds.2022A.pkl\"),\n",
    "#     source_or_target_dataset=\"target\",\n",
    "#     x_transform_func=global_x_transform_func,\n",
    "#     domain_modifier=lambda u: f\"cores_{u}\"\n",
    "# )"
   ]
  },
  {
   "cell_type": "code",
   "execution_count": 15,
   "id": "76db484d",
   "metadata": {
    "execution": {
     "iopub.execute_input": "2022-03-28T11:11:57.637301Z",
     "iopub.status.busy": "2022-03-28T11:11:57.636731Z",
     "iopub.status.idle": "2022-03-28T11:11:57.666618Z",
     "shell.execute_reply": "2022-03-28T11:11:57.665931Z"
    },
    "papermill": {
     "duration": 0.052061,
     "end_time": "2022-03-28T11:11:57.666779",
     "exception": false,
     "start_time": "2022-03-28T11:11:57.614718",
     "status": "completed"
    },
    "tags": []
   },
   "outputs": [],
   "source": [
    "# from steves_utils.ORACLE.utils_v2 import (\n",
    "#     ALL_DISTANCES_FEET,\n",
    "#     ALL_RUNS,\n",
    "#     ALL_SERIAL_NUMBERS,\n",
    "# )\n",
    "\n",
    "\n",
    "# add_dataset(\n",
    "#     labels=ALL_SERIAL_NUMBERS,\n",
    "#     domains = list(set(ALL_DISTANCES_FEET) - {2,62}),\n",
    "#     num_examples_per_domain_per_label=100,\n",
    "#     pickle_path=os.path.join(get_datasets_base_path(), \"oracle.Run2_framed_2000Examples_stratified_ds.2022A.pkl\"),\n",
    "#     source_or_target_dataset=\"source\",\n",
    "#     x_transform_func=global_x_transform_func,\n",
    "#     domain_modifier=lambda u: f\"oracle1_{u}\"\n",
    "# )\n"
   ]
  },
  {
   "cell_type": "code",
   "execution_count": 16,
   "id": "97dea9d2",
   "metadata": {
    "execution": {
     "iopub.execute_input": "2022-03-28T11:11:57.714681Z",
     "iopub.status.busy": "2022-03-28T11:11:57.714298Z",
     "iopub.status.idle": "2022-03-28T11:11:57.740916Z",
     "shell.execute_reply": "2022-03-28T11:11:57.740238Z"
    },
    "papermill": {
     "duration": 0.050029,
     "end_time": "2022-03-28T11:11:57.741075",
     "exception": false,
     "start_time": "2022-03-28T11:11:57.691046",
     "status": "completed"
    },
    "tags": []
   },
   "outputs": [],
   "source": [
    "# from steves_utils.ORACLE.utils_v2 import (\n",
    "#     ALL_DISTANCES_FEET,\n",
    "#     ALL_RUNS,\n",
    "#     ALL_SERIAL_NUMBERS,\n",
    "# )\n",
    "\n",
    "\n",
    "# add_dataset(\n",
    "#     labels=ALL_SERIAL_NUMBERS,\n",
    "#     domains = list(set(ALL_DISTANCES_FEET) - {2,62,56}),\n",
    "#     num_examples_per_domain_per_label=100,\n",
    "#     pickle_path=os.path.join(get_datasets_base_path(), \"oracle.Run2_framed_2000Examples_stratified_ds.2022A.pkl\"),\n",
    "#     source_or_target_dataset=\"source\",\n",
    "#     x_transform_func=global_x_transform_func,\n",
    "#     domain_modifier=lambda u: f\"oracle2_{u}\"\n",
    "# )"
   ]
  },
  {
   "cell_type": "code",
   "execution_count": 17,
   "id": "6f289866",
   "metadata": {
    "execution": {
     "iopub.execute_input": "2022-03-28T11:11:57.794784Z",
     "iopub.status.busy": "2022-03-28T11:11:57.794379Z",
     "iopub.status.idle": "2022-03-28T11:11:57.820846Z",
     "shell.execute_reply": "2022-03-28T11:11:57.820175Z"
    },
    "papermill": {
     "duration": 0.051529,
     "end_time": "2022-03-28T11:11:57.821009",
     "exception": false,
     "start_time": "2022-03-28T11:11:57.769480",
     "status": "completed"
    },
    "tags": []
   },
   "outputs": [],
   "source": [
    "# add_dataset(\n",
    "#     labels=list(range(19)),\n",
    "#     domains = [0,1,2],\n",
    "#     num_examples_per_domain_per_label=100,\n",
    "#     pickle_path=os.path.join(get_datasets_base_path(), \"metehan.stratified_ds.2022A.pkl\"),\n",
    "#     source_or_target_dataset=\"target\",\n",
    "#     x_transform_func=global_x_transform_func,\n",
    "#     domain_modifier=lambda u: f\"met_{u}\"\n",
    "# )"
   ]
  },
  {
   "cell_type": "code",
   "execution_count": 18,
   "id": "86a863c3",
   "metadata": {
    "execution": {
     "iopub.execute_input": "2022-03-28T11:11:57.871206Z",
     "iopub.status.busy": "2022-03-28T11:11:57.870832Z",
     "iopub.status.idle": "2022-03-28T11:11:57.897374Z",
     "shell.execute_reply": "2022-03-28T11:11:57.896547Z"
    },
    "papermill": {
     "duration": 0.050436,
     "end_time": "2022-03-28T11:11:57.897530",
     "exception": false,
     "start_time": "2022-03-28T11:11:57.847094",
     "status": "completed"
    },
    "tags": []
   },
   "outputs": [],
   "source": [
    "# # from steves_utils.wisig.utils import (\n",
    "# #     ALL_NODES_MINIMUM_100_EXAMPLES,\n",
    "# #     ALL_NODES_MINIMUM_500_EXAMPLES,\n",
    "# #     ALL_NODES_MINIMUM_1000_EXAMPLES,\n",
    "# #     ALL_DAYS\n",
    "# # )\n",
    "\n",
    "# import steves_utils.wisig.utils as wisig\n",
    "\n",
    "\n",
    "# add_dataset(\n",
    "#     labels=wisig.ALL_NODES_MINIMUM_100_EXAMPLES,\n",
    "#     domains = wisig.ALL_DAYS,\n",
    "#     num_examples_per_domain_per_label=100,\n",
    "#     pickle_path=os.path.join(get_datasets_base_path(), \"wisig.node3-19.stratified_ds.2022A.pkl\"),\n",
    "#     source_or_target_dataset=\"target\",\n",
    "#     x_transform_func=global_x_transform_func,\n",
    "#     domain_modifier=lambda u: f\"wisig_{u}\"\n",
    "# )"
   ]
  },
  {
   "cell_type": "code",
   "execution_count": 19,
   "id": "fd5442bc",
   "metadata": {
    "execution": {
     "iopub.execute_input": "2022-03-28T11:11:57.952317Z",
     "iopub.status.busy": "2022-03-28T11:11:57.951737Z",
     "iopub.status.idle": "2022-03-28T11:11:57.975849Z",
     "shell.execute_reply": "2022-03-28T11:11:57.975028Z"
    },
    "papermill": {
     "duration": 0.05199,
     "end_time": "2022-03-28T11:11:57.976005",
     "exception": false,
     "start_time": "2022-03-28T11:11:57.924015",
     "status": "completed"
    },
    "tags": []
   },
   "outputs": [],
   "source": [
    "###################################\n",
    "# Build the dataset\n",
    "###################################\n",
    "train_original_source = Iterable_Aggregator(train_original_source, p.seed)\n",
    "val_original_source = Iterable_Aggregator(val_original_source, p.seed)\n",
    "test_original_source = Iterable_Aggregator(test_original_source, p.seed)\n",
    "\n",
    "\n",
    "train_original_target = Iterable_Aggregator(train_original_target, p.seed)\n",
    "val_original_target = Iterable_Aggregator(val_original_target, p.seed)\n",
    "test_original_target = Iterable_Aggregator(test_original_target, p.seed)\n",
    "\n",
    "# For CNN We only use X and Y. And we only train on the source.\n",
    "# Properly form the data using a transform lambda and Lazy_Iterable_Wrapper. Finally wrap them in a dataloader\n",
    "\n",
    "transform_lambda = lambda ex: ex[1] # Original is (<domain>, <episode>) so we strip down to episode only\n",
    "\n",
    "train_processed_source = Lazy_Iterable_Wrapper(train_original_source, transform_lambda)\n",
    "val_processed_source   = Lazy_Iterable_Wrapper(val_original_source, transform_lambda)\n",
    "test_processed_source  = Lazy_Iterable_Wrapper(test_original_source, transform_lambda)\n",
    "\n",
    "train_processed_target = Lazy_Iterable_Wrapper(train_original_target, transform_lambda)\n",
    "val_processed_target   = Lazy_Iterable_Wrapper(val_original_target, transform_lambda)\n",
    "test_processed_target  = Lazy_Iterable_Wrapper(test_original_target, transform_lambda)\n",
    "\n",
    "datasets = EasyDict({\n",
    "    \"source\": {\n",
    "        \"original\": {\"train\":train_original_source, \"val\":val_original_source, \"test\":test_original_source},\n",
    "        \"processed\": {\"train\":train_processed_source, \"val\":val_processed_source, \"test\":test_processed_source}\n",
    "    },\n",
    "    \"target\": {\n",
    "        \"original\": {\"train\":train_original_target, \"val\":val_original_target, \"test\":test_original_target},\n",
    "        \"processed\": {\"train\":train_processed_target, \"val\":val_processed_target, \"test\":test_processed_target}\n",
    "    },\n",
    "})"
   ]
  },
  {
   "cell_type": "code",
   "execution_count": 20,
   "id": "5b3c01fc",
   "metadata": {
    "execution": {
     "iopub.execute_input": "2022-03-28T11:11:58.026681Z",
     "iopub.status.busy": "2022-03-28T11:11:58.025672Z",
     "iopub.status.idle": "2022-03-28T11:12:12.384720Z",
     "shell.execute_reply": "2022-03-28T11:12:12.385550Z"
    },
    "papermill": {
     "duration": 14.384538,
     "end_time": "2022-03-28T11:12:12.385767",
     "exception": false,
     "start_time": "2022-03-28T11:11:58.001229",
     "status": "completed"
    },
    "tags": []
   },
   "outputs": [
    {
     "name": "stdout",
     "output_type": "stream",
     "text": [
      "{'O_38', 'O_26', 'O_14', 'O_44', 'O_20', 'O_8', 'O_50', 'O_32'}\n"
     ]
    },
    {
     "name": "stdout",
     "output_type": "stream",
     "text": [
      "{'C_5', 'C_3', 'C_4', 'C_1', 'C_2'}\n"
     ]
    },
    {
     "name": "stdout",
     "output_type": "stream",
     "text": [
      "tensor([[[0., 0., 0.,  ..., 0., 0., 0.],\n",
      "         [0., 0., 0.,  ..., 0., 0., 0.]],\n",
      "\n",
      "        [[0., 0., 0.,  ..., 0., 0., 0.],\n",
      "         [0., 0., 0.,  ..., 0., 0., 0.]],\n",
      "\n",
      "        [[0., 0., 0.,  ..., 0., 0., 0.],\n",
      "         [0., 0., 0.,  ..., 0., 0., 0.]],\n",
      "\n",
      "        ...,\n",
      "\n",
      "        [[0., 0., 0.,  ..., 0., 0., 0.],\n",
      "         [0., 0., 0.,  ..., 0., 0., 0.]],\n",
      "\n",
      "        [[0., 0., 0.,  ..., 0., 0., 0.],\n",
      "         [0., 0., 0.,  ..., 0., 0., 0.]],\n",
      "\n",
      "        [[0., 0., 0.,  ..., 0., 0., 0.],\n",
      "         [0., 0., 0.,  ..., 0., 0., 0.]]])\n"
     ]
    }
   ],
   "source": [
    "from steves_utils.transforms import get_average_magnitude, get_average_power\n",
    "\n",
    "print(set([u for u,_ in val_original_source]))\n",
    "print(set([u for u,_ in val_original_target]))\n",
    "\n",
    "s_x, s_y, q_x, q_y, _ = next(iter(train_processed_source))\n",
    "print(s_x)\n",
    "\n",
    "# for ds in [\n",
    "#     train_processed_source,\n",
    "#     val_processed_source,\n",
    "#     test_processed_source,\n",
    "#     train_processed_target,\n",
    "#     val_processed_target,\n",
    "#     test_processed_target\n",
    "# ]:\n",
    "#     for s_x, s_y, q_x, q_y, _ in ds:\n",
    "#         for X in (s_x, q_x):\n",
    "#             for x in X:\n",
    "#                 assert np.isclose(get_average_magnitude(x.numpy()), 1.0)\n",
    "#                 assert np.isclose(get_average_power(x.numpy()), 1.0)\n",
    "                "
   ]
  },
  {
   "cell_type": "code",
   "execution_count": 21,
   "id": "bbdacba1",
   "metadata": {
    "execution": {
     "iopub.execute_input": "2022-03-28T11:12:12.443979Z",
     "iopub.status.busy": "2022-03-28T11:12:12.442640Z",
     "iopub.status.idle": "2022-03-28T11:12:12.664080Z",
     "shell.execute_reply": "2022-03-28T11:12:12.664753Z"
    },
    "papermill": {
     "duration": 0.252722,
     "end_time": "2022-03-28T11:12:12.664947",
     "exception": false,
     "start_time": "2022-03-28T11:12:12.412225",
     "status": "completed"
    },
    "tags": []
   },
   "outputs": [
    {
     "name": "stdout",
     "output_type": "stream",
     "text": [
      "(2, 256)\n"
     ]
    }
   ],
   "source": [
    "###################################\n",
    "# Build the model\n",
    "###################################\n",
    "# easfsl only wants a tuple for the shape\n",
    "model = Steves_Prototypical_Network(x_net, device=p.device, x_shape=tuple(p.x_shape))\n",
    "optimizer = Adam(params=model.parameters(), lr=p.lr)"
   ]
  },
  {
   "cell_type": "code",
   "execution_count": 22,
   "id": "22b39ac5",
   "metadata": {
    "execution": {
     "iopub.execute_input": "2022-03-28T11:12:12.720279Z",
     "iopub.status.busy": "2022-03-28T11:12:12.719883Z",
     "iopub.status.idle": "2022-03-28T11:37:55.326699Z",
     "shell.execute_reply": "2022-03-28T11:37:55.326361Z"
    },
    "papermill": {
     "duration": 1542.633122,
     "end_time": "2022-03-28T11:37:55.326782",
     "exception": false,
     "start_time": "2022-03-28T11:12:12.693660",
     "status": "completed"
    },
    "tags": []
   },
   "outputs": [
    {
     "name": "stdout",
     "output_type": "stream",
     "text": [
      "epoch: 1, [batch: 1 / 6720], examples_per_second: 31.0002, train_label_loss: 2.7517, \n"
     ]
    },
    {
     "name": "stdout",
     "output_type": "stream",
     "text": [
      "epoch: 1, [batch: 672 / 6720], examples_per_second: 3869.1858, train_label_loss: 1.1928, \n"
     ]
    },
    {
     "name": "stdout",
     "output_type": "stream",
     "text": [
      "epoch: 1, [batch: 1344 / 6720], examples_per_second: 3881.6177, train_label_loss: 1.0300, \n"
     ]
    },
    {
     "name": "stdout",
     "output_type": "stream",
     "text": [
      "epoch: 1, [batch: 2016 / 6720], examples_per_second: 3891.0734, train_label_loss: 1.4440, \n"
     ]
    },
    {
     "name": "stdout",
     "output_type": "stream",
     "text": [
      "epoch: 1, [batch: 2688 / 6720], examples_per_second: 4004.4003, train_label_loss: 1.0872, \n"
     ]
    },
    {
     "name": "stdout",
     "output_type": "stream",
     "text": [
      "epoch: 1, [batch: 3360 / 6720], examples_per_second: 3975.1139, train_label_loss: 1.1075, \n"
     ]
    },
    {
     "name": "stdout",
     "output_type": "stream",
     "text": [
      "epoch: 1, [batch: 4032 / 6720], examples_per_second: 4382.8579, train_label_loss: 1.4686, \n"
     ]
    },
    {
     "name": "stdout",
     "output_type": "stream",
     "text": [
      "epoch: 1, [batch: 4704 / 6720], examples_per_second: 4330.9156, train_label_loss: 0.8860, \n"
     ]
    },
    {
     "name": "stdout",
     "output_type": "stream",
     "text": [
      "epoch: 1, [batch: 5376 / 6720], examples_per_second: 4092.0009, train_label_loss: 1.4735, \n"
     ]
    },
    {
     "name": "stdout",
     "output_type": "stream",
     "text": [
      "epoch: 1, [batch: 6048 / 6720], examples_per_second: 3952.2881, train_label_loss: 1.0770, \n"
     ]
    },
    {
     "name": "stdout",
     "output_type": "stream",
     "text": [
      "=============================================================\n",
      "epoch: 1, source_val_acc_label: 0.4009, target_val_acc_label: 0.2321, source_val_label_loss: 193.6649, target_val_label_loss: 3917.6978, \n",
      "=============================================================\n"
     ]
    },
    {
     "name": "stdout",
     "output_type": "stream",
     "text": [
      "New best\n"
     ]
    },
    {
     "name": "stdout",
     "output_type": "stream",
     "text": [
      "epoch: 2, [batch: 1 / 6720], examples_per_second: 3.8965, train_label_loss: 2.1666, \n"
     ]
    },
    {
     "name": "stdout",
     "output_type": "stream",
     "text": [
      "epoch: 2, [batch: 672 / 6720], examples_per_second: 3854.6490, train_label_loss: 1.3656, \n"
     ]
    },
    {
     "name": "stdout",
     "output_type": "stream",
     "text": [
      "epoch: 2, [batch: 1344 / 6720], examples_per_second: 3940.7248, train_label_loss: 1.0485, \n"
     ]
    },
    {
     "name": "stdout",
     "output_type": "stream",
     "text": [
      "epoch: 2, [batch: 2016 / 6720], examples_per_second: 3938.1329, train_label_loss: 1.0273, \n"
     ]
    },
    {
     "name": "stdout",
     "output_type": "stream",
     "text": [
      "epoch: 2, [batch: 2688 / 6720], examples_per_second: 3888.6398, train_label_loss: 1.2077, \n"
     ]
    },
    {
     "name": "stdout",
     "output_type": "stream",
     "text": [
      "epoch: 2, [batch: 3360 / 6720], examples_per_second: 4064.8113, train_label_loss: 1.0888, \n"
     ]
    },
    {
     "name": "stdout",
     "output_type": "stream",
     "text": [
      "epoch: 2, [batch: 4032 / 6720], examples_per_second: 4447.2171, train_label_loss: 1.1336, \n"
     ]
    },
    {
     "name": "stdout",
     "output_type": "stream",
     "text": [
      "epoch: 2, [batch: 4704 / 6720], examples_per_second: 4763.6732, train_label_loss: 1.3069, \n"
     ]
    },
    {
     "name": "stdout",
     "output_type": "stream",
     "text": [
      "epoch: 2, [batch: 5376 / 6720], examples_per_second: 3958.5453, train_label_loss: 1.1996, \n"
     ]
    },
    {
     "name": "stdout",
     "output_type": "stream",
     "text": [
      "epoch: 2, [batch: 6048 / 6720], examples_per_second: 3948.3413, train_label_loss: 1.4090, \n"
     ]
    },
    {
     "name": "stdout",
     "output_type": "stream",
     "text": [
      "=============================================================\n",
      "epoch: 2, source_val_acc_label: 0.5503, target_val_acc_label: 0.5218, source_val_label_loss: 1.1886, target_val_label_loss: 511.6800, \n",
      "=============================================================\n"
     ]
    },
    {
     "name": "stdout",
     "output_type": "stream",
     "text": [
      "New best\n"
     ]
    },
    {
     "name": "stdout",
     "output_type": "stream",
     "text": [
      "epoch: 3, [batch: 1 / 6720], examples_per_second: 3.9833, train_label_loss: 0.9724, \n"
     ]
    },
    {
     "name": "stdout",
     "output_type": "stream",
     "text": [
      "epoch: 3, [batch: 672 / 6720], examples_per_second: 3776.0619, train_label_loss: 1.3705, \n"
     ]
    },
    {
     "name": "stdout",
     "output_type": "stream",
     "text": [
      "epoch: 3, [batch: 1344 / 6720], examples_per_second: 3898.7542, train_label_loss: 0.6123, \n"
     ]
    },
    {
     "name": "stdout",
     "output_type": "stream",
     "text": [
      "epoch: 3, [batch: 2016 / 6720], examples_per_second: 3862.3445, train_label_loss: 0.7637, \n"
     ]
    },
    {
     "name": "stdout",
     "output_type": "stream",
     "text": [
      "epoch: 3, [batch: 2688 / 6720], examples_per_second: 3857.9787, train_label_loss: 0.7809, \n"
     ]
    },
    {
     "name": "stdout",
     "output_type": "stream",
     "text": [
      "epoch: 3, [batch: 3360 / 6720], examples_per_second: 3901.4752, train_label_loss: 0.7954, \n"
     ]
    },
    {
     "name": "stdout",
     "output_type": "stream",
     "text": [
      "epoch: 3, [batch: 4032 / 6720], examples_per_second: 4275.6758, train_label_loss: 0.4934, \n"
     ]
    },
    {
     "name": "stdout",
     "output_type": "stream",
     "text": [
      "epoch: 3, [batch: 4704 / 6720], examples_per_second: 4393.9192, train_label_loss: 0.5106, \n"
     ]
    },
    {
     "name": "stdout",
     "output_type": "stream",
     "text": [
      "epoch: 3, [batch: 5376 / 6720], examples_per_second: 3946.7391, train_label_loss: 0.4285, \n"
     ]
    },
    {
     "name": "stdout",
     "output_type": "stream",
     "text": [
      "epoch: 3, [batch: 6048 / 6720], examples_per_second: 3890.9657, train_label_loss: 0.2381, \n"
     ]
    },
    {
     "name": "stdout",
     "output_type": "stream",
     "text": [
      "=============================================================\n",
      "epoch: 3, source_val_acc_label: 0.8331, target_val_acc_label: 0.5871, source_val_label_loss: 0.4774, target_val_label_loss: 497.6983, \n",
      "=============================================================\n"
     ]
    },
    {
     "name": "stdout",
     "output_type": "stream",
     "text": [
      "New best\n"
     ]
    },
    {
     "name": "stdout",
     "output_type": "stream",
     "text": [
      "epoch: 4, [batch: 1 / 6720], examples_per_second: 3.9501, train_label_loss: 0.3914, \n"
     ]
    },
    {
     "name": "stdout",
     "output_type": "stream",
     "text": [
      "epoch: 4, [batch: 672 / 6720], examples_per_second: 3839.4217, train_label_loss: 0.3439, \n"
     ]
    },
    {
     "name": "stdout",
     "output_type": "stream",
     "text": [
      "epoch: 4, [batch: 1344 / 6720], examples_per_second: 4054.7267, train_label_loss: 0.2980, \n"
     ]
    },
    {
     "name": "stdout",
     "output_type": "stream",
     "text": [
      "epoch: 4, [batch: 2016 / 6720], examples_per_second: 3977.9151, train_label_loss: 0.3897, \n"
     ]
    },
    {
     "name": "stdout",
     "output_type": "stream",
     "text": [
      "epoch: 4, [batch: 2688 / 6720], examples_per_second: 3865.3844, train_label_loss: 0.4554, \n"
     ]
    },
    {
     "name": "stdout",
     "output_type": "stream",
     "text": [
      "epoch: 4, [batch: 3360 / 6720], examples_per_second: 3933.7720, train_label_loss: 0.3801, \n"
     ]
    },
    {
     "name": "stdout",
     "output_type": "stream",
     "text": [
      "epoch: 4, [batch: 4032 / 6720], examples_per_second: 4357.8292, train_label_loss: 0.1768, \n"
     ]
    },
    {
     "name": "stdout",
     "output_type": "stream",
     "text": [
      "epoch: 4, [batch: 4704 / 6720], examples_per_second: 4457.4015, train_label_loss: 0.3437, \n"
     ]
    },
    {
     "name": "stdout",
     "output_type": "stream",
     "text": [
      "epoch: 4, [batch: 5376 / 6720], examples_per_second: 3950.3130, train_label_loss: 0.3761, \n"
     ]
    },
    {
     "name": "stdout",
     "output_type": "stream",
     "text": [
      "epoch: 4, [batch: 6048 / 6720], examples_per_second: 3975.1262, train_label_loss: 0.4079, \n"
     ]
    },
    {
     "name": "stdout",
     "output_type": "stream",
     "text": [
      "=============================================================\n",
      "epoch: 4, source_val_acc_label: 0.8612, target_val_acc_label: 0.6002, source_val_label_loss: 0.3917, target_val_label_loss: 585.6514, \n",
      "=============================================================\n"
     ]
    },
    {
     "name": "stdout",
     "output_type": "stream",
     "text": [
      "New best\n"
     ]
    },
    {
     "name": "stdout",
     "output_type": "stream",
     "text": [
      "epoch: 5, [batch: 1 / 6720], examples_per_second: 4.0246, train_label_loss: 0.4632, \n"
     ]
    },
    {
     "name": "stdout",
     "output_type": "stream",
     "text": [
      "epoch: 5, [batch: 672 / 6720], examples_per_second: 3826.2293, train_label_loss: 0.4183, \n"
     ]
    },
    {
     "name": "stdout",
     "output_type": "stream",
     "text": [
      "epoch: 5, [batch: 1344 / 6720], examples_per_second: 3832.5053, train_label_loss: 0.4220, \n"
     ]
    },
    {
     "name": "stdout",
     "output_type": "stream",
     "text": [
      "epoch: 5, [batch: 2016 / 6720], examples_per_second: 3839.0400, train_label_loss: 0.3884, \n"
     ]
    },
    {
     "name": "stdout",
     "output_type": "stream",
     "text": [
      "epoch: 5, [batch: 2688 / 6720], examples_per_second: 3798.6041, train_label_loss: 0.1701, \n"
     ]
    },
    {
     "name": "stdout",
     "output_type": "stream",
     "text": [
      "epoch: 5, [batch: 3360 / 6720], examples_per_second: 4021.8640, train_label_loss: 0.3086, \n"
     ]
    },
    {
     "name": "stdout",
     "output_type": "stream",
     "text": [
      "epoch: 5, [batch: 4032 / 6720], examples_per_second: 4183.3083, train_label_loss: 0.4275, \n"
     ]
    },
    {
     "name": "stdout",
     "output_type": "stream",
     "text": [
      "epoch: 5, [batch: 4704 / 6720], examples_per_second: 4493.9751, train_label_loss: 0.3066, \n"
     ]
    },
    {
     "name": "stdout",
     "output_type": "stream",
     "text": [
      "epoch: 5, [batch: 5376 / 6720], examples_per_second: 3950.0467, train_label_loss: 0.2430, \n"
     ]
    },
    {
     "name": "stdout",
     "output_type": "stream",
     "text": [
      "epoch: 5, [batch: 6048 / 6720], examples_per_second: 3865.9104, train_label_loss: 0.1558, \n"
     ]
    },
    {
     "name": "stdout",
     "output_type": "stream",
     "text": [
      "=============================================================\n",
      "epoch: 5, source_val_acc_label: 0.8659, target_val_acc_label: 0.5676, source_val_label_loss: 0.3743, target_val_label_loss: 817.8456, \n",
      "=============================================================\n"
     ]
    },
    {
     "name": "stdout",
     "output_type": "stream",
     "text": [
      "epoch: 6, [batch: 1 / 6720], examples_per_second: 3.9492, train_label_loss: 0.5007, \n"
     ]
    },
    {
     "name": "stdout",
     "output_type": "stream",
     "text": [
      "epoch: 6, [batch: 672 / 6720], examples_per_second: 3858.7486, train_label_loss: 0.2384, \n"
     ]
    },
    {
     "name": "stdout",
     "output_type": "stream",
     "text": [
      "epoch: 6, [batch: 1344 / 6720], examples_per_second: 3997.5839, train_label_loss: 0.0927, \n"
     ]
    },
    {
     "name": "stdout",
     "output_type": "stream",
     "text": [
      "epoch: 6, [batch: 2016 / 6720], examples_per_second: 3963.7882, train_label_loss: 0.3587, \n"
     ]
    },
    {
     "name": "stdout",
     "output_type": "stream",
     "text": [
      "epoch: 6, [batch: 2688 / 6720], examples_per_second: 3926.3463, train_label_loss: 0.1325, \n"
     ]
    },
    {
     "name": "stdout",
     "output_type": "stream",
     "text": [
      "epoch: 6, [batch: 3360 / 6720], examples_per_second: 4119.7650, train_label_loss: 0.3075, \n"
     ]
    },
    {
     "name": "stdout",
     "output_type": "stream",
     "text": [
      "epoch: 6, [batch: 4032 / 6720], examples_per_second: 4258.6445, train_label_loss: 0.2519, \n"
     ]
    },
    {
     "name": "stdout",
     "output_type": "stream",
     "text": [
      "epoch: 6, [batch: 4704 / 6720], examples_per_second: 4240.1366, train_label_loss: 0.2905, \n"
     ]
    },
    {
     "name": "stdout",
     "output_type": "stream",
     "text": [
      "epoch: 6, [batch: 5376 / 6720], examples_per_second: 4253.4650, train_label_loss: 0.4880, \n"
     ]
    },
    {
     "name": "stdout",
     "output_type": "stream",
     "text": [
      "epoch: 6, [batch: 6048 / 6720], examples_per_second: 4340.0453, train_label_loss: 0.3934, \n"
     ]
    },
    {
     "name": "stdout",
     "output_type": "stream",
     "text": [
      "=============================================================\n",
      "epoch: 6, source_val_acc_label: 0.8805, target_val_acc_label: 0.7667, source_val_label_loss: 0.3426, target_val_label_loss: 450.5168, \n",
      "=============================================================\n"
     ]
    },
    {
     "name": "stdout",
     "output_type": "stream",
     "text": [
      "New best\n"
     ]
    },
    {
     "name": "stdout",
     "output_type": "stream",
     "text": [
      "epoch: 7, [batch: 1 / 6720], examples_per_second: 4.4081, train_label_loss: 0.3722, \n"
     ]
    },
    {
     "name": "stdout",
     "output_type": "stream",
     "text": [
      "epoch: 7, [batch: 672 / 6720], examples_per_second: 4838.2758, train_label_loss: 0.3087, \n"
     ]
    },
    {
     "name": "stdout",
     "output_type": "stream",
     "text": [
      "epoch: 7, [batch: 1344 / 6720], examples_per_second: 5082.9057, train_label_loss: 0.3388, \n"
     ]
    },
    {
     "name": "stdout",
     "output_type": "stream",
     "text": [
      "epoch: 7, [batch: 2016 / 6720], examples_per_second: 5323.4755, train_label_loss: 0.4572, \n"
     ]
    },
    {
     "name": "stdout",
     "output_type": "stream",
     "text": [
      "epoch: 7, [batch: 2688 / 6720], examples_per_second: 5168.4144, train_label_loss: 0.2104, \n"
     ]
    },
    {
     "name": "stdout",
     "output_type": "stream",
     "text": [
      "epoch: 7, [batch: 3360 / 6720], examples_per_second: 5454.0134, train_label_loss: 0.4261, \n"
     ]
    },
    {
     "name": "stdout",
     "output_type": "stream",
     "text": [
      "epoch: 7, [batch: 4032 / 6720], examples_per_second: 5235.2193, train_label_loss: 0.3606, \n"
     ]
    },
    {
     "name": "stdout",
     "output_type": "stream",
     "text": [
      "epoch: 7, [batch: 4704 / 6720], examples_per_second: 4771.3005, train_label_loss: 0.2351, \n"
     ]
    },
    {
     "name": "stdout",
     "output_type": "stream",
     "text": [
      "epoch: 7, [batch: 5376 / 6720], examples_per_second: 4918.4498, train_label_loss: 0.2281, \n"
     ]
    },
    {
     "name": "stdout",
     "output_type": "stream",
     "text": [
      "epoch: 7, [batch: 6048 / 6720], examples_per_second: 5015.7666, train_label_loss: 0.2221, \n"
     ]
    },
    {
     "name": "stdout",
     "output_type": "stream",
     "text": [
      "=============================================================\n",
      "epoch: 7, source_val_acc_label: 0.8816, target_val_acc_label: 0.7468, source_val_label_loss: 0.3370, target_val_label_loss: 663.7230, \n",
      "=============================================================\n"
     ]
    },
    {
     "name": "stdout",
     "output_type": "stream",
     "text": [
      "epoch: 8, [batch: 1 / 6720], examples_per_second: 5.2259, train_label_loss: 0.3559, \n"
     ]
    },
    {
     "name": "stdout",
     "output_type": "stream",
     "text": [
      "epoch: 8, [batch: 672 / 6720], examples_per_second: 4867.4625, train_label_loss: 0.3234, \n"
     ]
    },
    {
     "name": "stdout",
     "output_type": "stream",
     "text": [
      "epoch: 8, [batch: 1344 / 6720], examples_per_second: 4881.9660, train_label_loss: 0.2429, \n"
     ]
    },
    {
     "name": "stdout",
     "output_type": "stream",
     "text": [
      "epoch: 8, [batch: 2016 / 6720], examples_per_second: 4923.9087, train_label_loss: 0.3649, \n"
     ]
    },
    {
     "name": "stdout",
     "output_type": "stream",
     "text": [
      "epoch: 8, [batch: 2688 / 6720], examples_per_second: 5244.1637, train_label_loss: 0.3898, \n"
     ]
    },
    {
     "name": "stdout",
     "output_type": "stream",
     "text": [
      "epoch: 8, [batch: 3360 / 6720], examples_per_second: 5334.7616, train_label_loss: 0.1433, \n"
     ]
    },
    {
     "name": "stdout",
     "output_type": "stream",
     "text": [
      "epoch: 8, [batch: 4032 / 6720], examples_per_second: 5272.0298, train_label_loss: 0.3631, \n"
     ]
    },
    {
     "name": "stdout",
     "output_type": "stream",
     "text": [
      "epoch: 8, [batch: 4704 / 6720], examples_per_second: 5254.7245, train_label_loss: 0.2411, \n"
     ]
    },
    {
     "name": "stdout",
     "output_type": "stream",
     "text": [
      "epoch: 8, [batch: 5376 / 6720], examples_per_second: 5176.6547, train_label_loss: 0.1862, \n"
     ]
    },
    {
     "name": "stdout",
     "output_type": "stream",
     "text": [
      "epoch: 8, [batch: 6048 / 6720], examples_per_second: 5401.3170, train_label_loss: 0.4221, \n"
     ]
    },
    {
     "name": "stdout",
     "output_type": "stream",
     "text": [
      "=============================================================\n",
      "epoch: 8, source_val_acc_label: 0.8813, target_val_acc_label: 0.7126, source_val_label_loss: 0.3330, target_val_label_loss: 820.3420, \n",
      "=============================================================\n"
     ]
    },
    {
     "name": "stdout",
     "output_type": "stream",
     "text": [
      "epoch: 9, [batch: 1 / 6720], examples_per_second: 4.1207, train_label_loss: 0.2978, \n"
     ]
    },
    {
     "name": "stdout",
     "output_type": "stream",
     "text": [
      "epoch: 9, [batch: 672 / 6720], examples_per_second: 3825.2182, train_label_loss: 0.3006, \n"
     ]
    },
    {
     "name": "stdout",
     "output_type": "stream",
     "text": [
      "epoch: 9, [batch: 1344 / 6720], examples_per_second: 3850.7396, train_label_loss: 0.1047, \n"
     ]
    },
    {
     "name": "stdout",
     "output_type": "stream",
     "text": [
      "epoch: 9, [batch: 2016 / 6720], examples_per_second: 3822.4466, train_label_loss: 0.3471, \n"
     ]
    },
    {
     "name": "stdout",
     "output_type": "stream",
     "text": [
      "epoch: 9, [batch: 2688 / 6720], examples_per_second: 3845.0046, train_label_loss: 0.1012, \n"
     ]
    },
    {
     "name": "stdout",
     "output_type": "stream",
     "text": [
      "epoch: 9, [batch: 3360 / 6720], examples_per_second: 3866.6789, train_label_loss: 0.3125, \n"
     ]
    },
    {
     "name": "stdout",
     "output_type": "stream",
     "text": [
      "epoch: 9, [batch: 4032 / 6720], examples_per_second: 3838.9833, train_label_loss: 0.2008, \n"
     ]
    },
    {
     "name": "stdout",
     "output_type": "stream",
     "text": [
      "epoch: 9, [batch: 4704 / 6720], examples_per_second: 3767.9592, train_label_loss: 0.2719, \n"
     ]
    },
    {
     "name": "stdout",
     "output_type": "stream",
     "text": [
      "epoch: 9, [batch: 5376 / 6720], examples_per_second: 4043.0370, train_label_loss: 0.2903, \n"
     ]
    },
    {
     "name": "stdout",
     "output_type": "stream",
     "text": [
      "epoch: 9, [batch: 6048 / 6720], examples_per_second: 4291.3019, train_label_loss: 0.3413, \n"
     ]
    },
    {
     "name": "stdout",
     "output_type": "stream",
     "text": [
      "=============================================================\n",
      "epoch: 9, source_val_acc_label: 0.8872, target_val_acc_label: 0.6940, source_val_label_loss: 0.3171, target_val_label_loss: 1595.7300, \n",
      "=============================================================\n"
     ]
    },
    {
     "name": "stdout",
     "output_type": "stream",
     "text": [
      "epoch: 10, [batch: 1 / 6720], examples_per_second: 4.0143, train_label_loss: 0.2951, \n"
     ]
    },
    {
     "name": "stdout",
     "output_type": "stream",
     "text": [
      "epoch: 10, [batch: 672 / 6720], examples_per_second: 3887.7742, train_label_loss: 0.7109, \n"
     ]
    },
    {
     "name": "stdout",
     "output_type": "stream",
     "text": [
      "epoch: 10, [batch: 1344 / 6720], examples_per_second: 3781.5378, train_label_loss: 0.2750, \n"
     ]
    },
    {
     "name": "stdout",
     "output_type": "stream",
     "text": [
      "epoch: 10, [batch: 2016 / 6720], examples_per_second: 3872.5359, train_label_loss: 0.1621, \n"
     ]
    },
    {
     "name": "stdout",
     "output_type": "stream",
     "text": [
      "epoch: 10, [batch: 2688 / 6720], examples_per_second: 3802.4567, train_label_loss: 0.2376, \n"
     ]
    },
    {
     "name": "stdout",
     "output_type": "stream",
     "text": [
      "epoch: 10, [batch: 3360 / 6720], examples_per_second: 3895.6934, train_label_loss: 0.1330, \n"
     ]
    },
    {
     "name": "stdout",
     "output_type": "stream",
     "text": [
      "epoch: 10, [batch: 4032 / 6720], examples_per_second: 3957.0023, train_label_loss: 0.2716, \n"
     ]
    },
    {
     "name": "stdout",
     "output_type": "stream",
     "text": [
      "epoch: 10, [batch: 4704 / 6720], examples_per_second: 3846.2708, train_label_loss: 0.2452, \n"
     ]
    },
    {
     "name": "stdout",
     "output_type": "stream",
     "text": [
      "epoch: 10, [batch: 5376 / 6720], examples_per_second: 4275.9190, train_label_loss: 0.3895, \n"
     ]
    },
    {
     "name": "stdout",
     "output_type": "stream",
     "text": [
      "epoch: 10, [batch: 6048 / 6720], examples_per_second: 4550.0284, train_label_loss: 0.2433, \n"
     ]
    },
    {
     "name": "stdout",
     "output_type": "stream",
     "text": [
      "=============================================================\n",
      "epoch: 10, source_val_acc_label: 0.8812, target_val_acc_label: 0.6611, source_val_label_loss: 0.3376, target_val_label_loss: 2420.8049, \n",
      "=============================================================\n"
     ]
    },
    {
     "name": "stdout",
     "output_type": "stream",
     "text": [
      "Patience (3) exhausted\n"
     ]
    }
   ],
   "source": [
    "###################################\n",
    "# train\n",
    "###################################\n",
    "jig = PTN_Train_Eval_Test_Jig(model, p.BEST_MODEL_PATH, p.device)\n",
    "\n",
    "jig.train(\n",
    "    train_iterable=datasets.source.processed.train,\n",
    "    source_val_iterable=datasets.source.processed.val,\n",
    "    target_val_iterable=datasets.target.processed.val,\n",
    "    num_epochs=p.n_epoch,\n",
    "    num_logs_per_epoch=p.NUM_LOGS_PER_EPOCH,\n",
    "    patience=p.patience,\n",
    "    optimizer=optimizer,\n",
    "    criteria_for_best=p.criteria_for_best,\n",
    ")"
   ]
  },
  {
   "cell_type": "code",
   "execution_count": 23,
   "id": "31e8fabf",
   "metadata": {
    "execution": {
     "iopub.execute_input": "2022-03-28T11:37:55.448482Z",
     "iopub.status.busy": "2022-03-28T11:37:55.447937Z",
     "iopub.status.idle": "2022-03-28T11:37:55.478405Z",
     "shell.execute_reply": "2022-03-28T11:37:55.479066Z"
    },
    "papermill": {
     "duration": 0.099499,
     "end_time": "2022-03-28T11:37:55.479267",
     "exception": false,
     "start_time": "2022-03-28T11:37:55.379768",
     "status": "completed"
    },
    "tags": []
   },
   "outputs": [],
   "source": [
    "total_experiment_time_secs = time.time() - start_time_secs"
   ]
  },
  {
   "cell_type": "code",
   "execution_count": 24,
   "id": "87b9595b",
   "metadata": {
    "execution": {
     "iopub.execute_input": "2022-03-28T11:37:55.602117Z",
     "iopub.status.busy": "2022-03-28T11:37:55.601238Z",
     "iopub.status.idle": "2022-03-28T11:40:41.988543Z",
     "shell.execute_reply": "2022-03-28T11:40:41.987771Z"
    },
    "papermill": {
     "duration": 166.451631,
     "end_time": "2022-03-28T11:40:41.988730",
     "exception": false,
     "start_time": "2022-03-28T11:37:55.537099",
     "status": "completed"
    },
    "tags": []
   },
   "outputs": [],
   "source": [
    "###################################\n",
    "# Evaluate the model\n",
    "###################################\n",
    "source_test_label_accuracy, source_test_label_loss = jig.test(datasets.source.processed.test)\n",
    "target_test_label_accuracy, target_test_label_loss = jig.test(datasets.target.processed.test)\n",
    "\n",
    "source_val_label_accuracy, source_val_label_loss = jig.test(datasets.source.processed.val)\n",
    "target_val_label_accuracy, target_val_label_loss = jig.test(datasets.target.processed.val)\n",
    "\n",
    "history = jig.get_history()\n",
    "\n",
    "total_epochs_trained = len(history[\"epoch_indices\"])\n",
    "\n",
    "val_dl = Iterable_Aggregator((datasets.source.original.val,datasets.target.original.val))\n",
    "\n",
    "confusion = ptn_confusion_by_domain_over_dataloader(model, p.device, val_dl)\n",
    "per_domain_accuracy = per_domain_accuracy_from_confusion(confusion)\n",
    "\n",
    "# Add a key to per_domain_accuracy for if it was a source domain\n",
    "for domain, accuracy in per_domain_accuracy.items():\n",
    "    per_domain_accuracy[domain] = {\n",
    "        \"accuracy\": accuracy,\n",
    "        \"source?\": domain in p.domains_source\n",
    "    }\n",
    "\n",
    "# Do an independent accuracy assesment JUST TO BE SURE!\n",
    "# _source_test_label_accuracy = independent_accuracy_assesment(model, datasets.source.processed.test, p.device)\n",
    "# _target_test_label_accuracy = independent_accuracy_assesment(model, datasets.target.processed.test, p.device)\n",
    "# _source_val_label_accuracy = independent_accuracy_assesment(model, datasets.source.processed.val, p.device)\n",
    "# _target_val_label_accuracy = independent_accuracy_assesment(model, datasets.target.processed.val, p.device)\n",
    "\n",
    "# assert(_source_test_label_accuracy == source_test_label_accuracy)\n",
    "# assert(_target_test_label_accuracy == target_test_label_accuracy)\n",
    "# assert(_source_val_label_accuracy == source_val_label_accuracy)\n",
    "# assert(_target_val_label_accuracy == target_val_label_accuracy)\n",
    "\n",
    "experiment = {\n",
    "    \"experiment_name\": p.experiment_name,\n",
    "    \"parameters\": dict(p),\n",
    "    \"results\": {\n",
    "        \"source_test_label_accuracy\": source_test_label_accuracy,\n",
    "        \"source_test_label_loss\": source_test_label_loss,\n",
    "        \"target_test_label_accuracy\": target_test_label_accuracy,\n",
    "        \"target_test_label_loss\": target_test_label_loss,\n",
    "        \"source_val_label_accuracy\": source_val_label_accuracy,\n",
    "        \"source_val_label_loss\": source_val_label_loss,\n",
    "        \"target_val_label_accuracy\": target_val_label_accuracy,\n",
    "        \"target_val_label_loss\": target_val_label_loss,\n",
    "        \"total_epochs_trained\": total_epochs_trained,\n",
    "        \"total_experiment_time_secs\": total_experiment_time_secs,\n",
    "        \"confusion\": confusion,\n",
    "        \"per_domain_accuracy\": per_domain_accuracy,\n",
    "    },\n",
    "    \"history\": history,\n",
    "    \"dataset_metrics\": get_dataset_metrics(datasets, \"ptn\"),\n",
    "}"
   ]
  },
  {
   "cell_type": "code",
   "execution_count": 25,
   "id": "54a21829",
   "metadata": {
    "execution": {
     "iopub.execute_input": "2022-03-28T11:40:42.104341Z",
     "iopub.status.busy": "2022-03-28T11:40:42.103972Z",
     "iopub.status.idle": "2022-03-28T11:40:42.329424Z",
     "shell.execute_reply": "2022-03-28T11:40:42.328599Z"
    },
    "papermill": {
     "duration": 0.282848,
     "end_time": "2022-03-28T11:40:42.329582",
     "exception": false,
     "start_time": "2022-03-28T11:40:42.046734",
     "status": "completed"
    },
    "tags": []
   },
   "outputs": [
    {
     "data": {
      "image/png": "[encoded data removed]",
      "text/plain": [
       "<Figure size 1080x504 with 1 Axes>"
      ]
     },
     "metadata": {
      "needs_background": "light"
     },
     "output_type": "display_data"
    }
   ],
   "source": [
    "ax = get_loss_curve(experiment)\n",
    "plt.show()"
   ]
  },
  {
   "cell_type": "code",
   "execution_count": 26,
   "id": "fd8a0f60",
   "metadata": {
    "execution": {
     "iopub.execute_input": "2022-03-28T11:40:42.445768Z",
     "iopub.status.busy": "2022-03-28T11:40:42.445404Z",
     "iopub.status.idle": "2022-03-28T11:40:42.793963Z",
     "shell.execute_reply": "2022-03-28T11:40:42.793649Z"
    },
    "papermill": {
     "duration": 0.406868,
     "end_time": "2022-03-28T11:40:42.794038",
     "exception": false,
     "start_time": "2022-03-28T11:40:42.387170",
     "status": "completed"
    },
    "tags": []
   },
   "outputs": [
    {
     "data": {
      "text/plain": [
       "<AxesSubplot:title={'center':'Results'}>"
      ]
     },
     "execution_count": 26,
     "metadata": {},
     "output_type": "execute_result"
    },
    {
     "data": {
      "image/png": "[encoded data removed]",
      "text/plain": [
       "<Figure size 1080x504 with 1 Axes>"
      ]
     },
     "metadata": {
      "needs_background": "light"
     },
     "output_type": "display_data"
    }
   ],
   "source": [
    "get_results_table(experiment)"
   ]
  },
  {
   "cell_type": "code",
   "execution_count": 27,
   "id": "cf8dc689",
   "metadata": {
    "execution": {
     "iopub.execute_input": "2022-03-28T11:40:42.909350Z",
     "iopub.status.busy": "2022-03-28T11:40:42.908986Z",
     "iopub.status.idle": "2022-03-28T11:40:43.153316Z",
     "shell.execute_reply": "2022-03-28T11:40:43.153003Z"
    },
    "papermill": {
     "duration": 0.303932,
     "end_time": "2022-03-28T11:40:43.153391",
     "exception": false,
     "start_time": "2022-03-28T11:40:42.849459",
     "status": "completed"
    },
    "tags": []
   },
   "outputs": [
    {
     "data": {
      "text/plain": [
       "<AxesSubplot:title={'center':'Per Domain Validation Accuracy'}, xlabel='domain'>"
      ]
     },
     "execution_count": 27,
     "metadata": {},
     "output_type": "execute_result"
    },
    {
     "data": {
      "image/png": "[encoded data removed]",
      "text/plain": [
       "<Figure size 1080x504 with 1 Axes>"
      ]
     },
     "metadata": {
      "needs_background": "light"
     },
     "output_type": "display_data"
    }
   ],
   "source": [
    "get_domain_accuracies(experiment)"
   ]
  },
  {
   "cell_type": "code",
   "execution_count": 28,
   "id": "a74ae082",
   "metadata": {
    "execution": {
     "iopub.execute_input": "2022-03-28T11:40:43.270898Z",
     "iopub.status.busy": "2022-03-28T11:40:43.270528Z",
     "iopub.status.idle": "2022-03-28T11:40:43.296685Z",
     "shell.execute_reply": "2022-03-28T11:40:43.296363Z"
    },
    "papermill": {
     "duration": 0.086723,
     "end_time": "2022-03-28T11:40:43.296755",
     "exception": false,
     "start_time": "2022-03-28T11:40:43.210032",
     "status": "completed"
    },
    "tags": []
   },
   "outputs": [
    {
     "name": "stdout",
     "output_type": "stream",
     "text": [
      "Source Test Label Accuracy: 0.8828125 Target Test Label Accuracy: 0.7639124293785311\n",
      "Source Val Label Accuracy: 0.8805338541666666 Target Val Label Accuracy: 0.7667142857142857\n"
     ]
    }
   ],
   "source": [
    "print(\"Source Test Label Accuracy:\", experiment[\"results\"][\"source_test_label_accuracy\"], \"Target Test Label Accuracy:\", experiment[\"results\"][\"target_test_label_accuracy\"])\n",
    "print(\"Source Val Label Accuracy:\", experiment[\"results\"][\"source_val_label_accuracy\"], \"Target Val Label Accuracy:\", experiment[\"results\"][\"target_val_label_accuracy\"])"
   ]
  },
  {
   "cell_type": "code",
   "execution_count": 29,
   "id": "dacca602",
   "metadata": {
    "execution": {
     "iopub.execute_input": "2022-03-28T11:40:43.414928Z",
     "iopub.status.busy": "2022-03-28T11:40:43.414564Z",
     "iopub.status.idle": "2022-03-28T11:40:43.441505Z",
     "shell.execute_reply": "2022-03-28T11:40:43.441184Z"
    },
    "papermill": {
     "duration": 0.08694,
     "end_time": "2022-03-28T11:40:43.441575",
     "exception": false,
     "start_time": "2022-03-28T11:40:43.354635",
     "status": "completed"
    },
    "tags": [
     "experiment_json"
    ]
   },
   "outputs": [
    {
     "data": {
      "text/plain": [
       "'{\"experiment_name\": \"tl_3-jitter10v2:oracle.run1.framed -> cores\", \"parameters\": {\"experiment_name\": \"tl_3-jitter10v2:oracle.run1.framed -> cores\", \"device\": \"cuda\", \"lr\": 0.0001, \"x_shape\": [2, 256], \"n_shot\": 3, \"n_query\": 2, \"train_k_factor\": 3, \"val_k_factor\": 2, \"test_k_factor\": 2, \"torch_default_dtype\": \"torch.float32\", \"n_epoch\": 50, \"patience\": 3, \"criteria_for_best\": \"target_accuracy\", \"x_net\": [{\"class\": \"nnReshape\", \"kargs\": {\"shape\": [-1, 1, 2, 256]}}, {\"class\": \"Conv2d\", \"kargs\": {\"in_channels\": 1, \"out_channels\": 256, \"kernel_size\": [1, 7], \"bias\": false, \"padding\": [0, 3]}}, {\"class\": \"ReLU\", \"kargs\": {\"inplace\": true}}, {\"class\": \"BatchNorm2d\", \"kargs\": {\"num_features\": 256}}, {\"class\": \"Conv2d\", \"kargs\": {\"in_channels\": 256, \"out_channels\": 80, \"kernel_size\": [2, 7], \"bias\": true, \"padding\": [0, 3]}}, {\"class\": \"ReLU\", \"kargs\": {\"inplace\": true}}, {\"class\": \"BatchNorm2d\", \"kargs\": {\"num_features\": 80}}, {\"class\": \"Flatten\", \"kargs\": {}}, {\"class\": \"Linear\", \"kargs\": {\"in_features\": 20480, \"out_features\": 256}}, {\"class\": \"ReLU\", \"kargs\": {\"inplace\": true}}, {\"class\": \"BatchNorm1d\", \"kargs\": {\"num_features\": 256}}, {\"class\": \"Linear\", \"kargs\": {\"in_features\": 256, \"out_features\": 256}}], \"NUM_LOGS_PER_EPOCH\": 10, \"BEST_MODEL_PATH\": \"./best_model.pth\", \"n_way\": 16, \"datasets\": [{\"labels\": [\"1-10.\", \"1-11.\", \"1-15.\", \"1-16.\", \"1-17.\", \"1-18.\", \"1-19.\", \"10-4.\", \"10-7.\", \"11-1.\", \"11-14.\", \"11-17.\", \"11-20.\", \"11-7.\", \"13-20.\", \"13-8.\", \"14-10.\", \"14-11.\", \"14-14.\", \"14-7.\", \"15-1.\", \"15-20.\", \"16-1.\", \"16-16.\", \"17-10.\", \"17-11.\", \"17-2.\", \"19-1.\", \"19-16.\", \"19-19.\", \"19-20.\", \"19-3.\", \"2-10.\", \"2-11.\", \"2-17.\", \"2-18.\", \"2-20.\", \"2-3.\", \"2-4.\", \"2-5.\", \"2-6.\", \"2-7.\", \"2-8.\", \"3-13.\", \"3-18.\", \"3-3.\", \"4-1.\", \"4-10.\", \"4-11.\", \"4-19.\", \"5-5.\", \"6-15.\", \"7-10.\", \"7-14.\", \"8-18.\", \"8-20.\", \"8-3.\", \"8-8.\"], \"domains\": [1, 2, 3, 4, 5], \"num_examples_per_domain_per_label\": -1, \"pickle_path\": \"/root/csc500-main/datasets/cores.stratified_ds.2022A.pkl\", \"source_or_target_dataset\": \"target\", \"x_transforms\": [\"jitter_256_10\", \"lowpass_+/-10MHz\", \"take_200\"], \"episode_transforms\": [], \"domain_prefix\": \"C_\"}, {\"labels\": [\"3123D52\", \"3123D65\", \"3123D79\", \"3123D80\", \"3123D54\", \"3123D70\", \"3123D7B\", \"3123D89\", \"3123D58\", \"3123D76\", \"3123D7D\", \"3123EFE\", \"3123D64\", \"3123D78\", \"3123D7E\", \"3124E4A\"], \"domains\": [32, 38, 8, 44, 14, 50, 20, 26], \"num_examples_per_domain_per_label\": 2000, \"pickle_path\": \"/root/csc500-main/datasets/oracle.Run1_framed_2000Examples_stratified_ds.2022A.pkl\", \"source_or_target_dataset\": \"source\", \"x_transforms\": [\"jitter_256_10\", \"take_200\", \"resample_20Msps_to_25Msps\"], \"episode_transforms\": [], \"domain_prefix\": \"O_\"}], \"seed\": 7, \"dataset_seed\": 7, \"domains_source\": [\"O_32\", \"O_38\", \"O_8\", \"O_44\", \"O_14\", \"O_50\", \"O_20\", \"O_26\"], \"domains_target\": [\"C_1\", \"C_2\", \"C_3\", \"C_4\", \"C_5\"]}, \"results\": {\"source_test_label_accuracy\": 0.8828125, \"source_test_label_loss\": 0.334328293800354, \"target_test_label_accuracy\": 0.7639124293785311, \"target_test_label_loss\": 447.7144470214844, \"source_val_label_accuracy\": 0.8805338541666666, \"source_val_label_loss\": 0.3425511419773102, \"target_val_label_accuracy\": 0.7667142857142857, \"target_val_label_loss\": 450.516845703125, \"total_epochs_trained\": 10, \"total_experiment_time_secs\": 1623.0430862903595, \"confusion\": {\"O_26\": {\"0\": {\"0\": 178, \"14\": 23, \"8\": 8, \"10\": 30, \"1\": 1}, \"4\": {\"4\": 240}, \"14\": {\"14\": 176, \"10\": 44, \"0\": 14, \"1\": 5, \"15\": 1}, \"12\": {\"12\": 240}, \"8\": {\"7\": 36, \"8\": 186, \"9\": 17, \"2\": 1}, \"7\": {\"7\": 197, \"2\": 16, \"8\": 15, \"3\": 10, \"9\": 2}, \"13\": {\"13\": 219, \"2\": 8, \"9\": 11, \"3\": 2}, \"5\": {\"5\": 220, \"6\": 3, \"15\": 17}, \"15\": {\"5\": 39, \"15\": 173, \"1\": 4, \"10\": 8, \"6\": 15, \"0\": 1}, \"10\": {\"10\": 177, \"14\": 41, \"0\": 15, \"6\": 3, \"15\": 4}, \"3\": {\"3\": 231, \"7\": 8, \"2\": 1}, \"9\": {\"9\": 194, \"8\": 22, \"13\": 10, \"2\": 11, \"7\": 3}, \"6\": {\"6\": 219, \"15\": 12, \"10\": 4, \"5\": 3, \"1\": 2}, \"1\": {\"1\": 195, \"14\": 35, \"10\": 3, \"6\": 3, \"15\": 4}, \"11\": {\"11\": 240}, \"2\": {\"2\": 135, \"13\": 2, \"7\": 41, \"3\": 27, \"8\": 10, \"9\": 23, \"10\": 1, \"0\": 1}}, \"O_44\": {\"1\": {\"1\": 236, \"2\": 4}, \"11\": {\"11\": 240}, \"3\": {\"3\": 235, \"12\": 5}, \"6\": {\"6\": 205, \"13\": 25, \"9\": 10}, \"7\": {\"7\": 214, \"9\": 23, \"10\": 3}, \"5\": {\"5\": 215, \"15\": 14, \"8\": 2, \"14\": 9}, \"2\": {\"2\": 232, \"1\": 7, \"10\": 1}, \"15\": {\"15\": 202, \"8\": 10, \"14\": 19, \"5\": 8, \"4\": 1}, \"10\": {\"10\": 227, \"7\": 4, \"1\": 6, \"2\": 3}, \"13\": {\"13\": 206, \"6\": 33, \"9\": 1}, \"8\": {\"15\": 7, \"8\": 168, \"0\": 63, \"5\": 2}, \"4\": {\"4\": 141, \"14\": 98, \"13\": 1}, \"9\": {\"9\": 122, \"7\": 54, \"13\": 24, \"6\": 39, \"2\": 1}, \"14\": {\"4\": 47, \"14\": 176, \"5\": 6, \"15\": 11}, \"0\": {\"0\": 214, \"8\": 26}, \"12\": {\"12\": 236, \"3\": 4}}, \"O_50\": {\"15\": {\"15\": 233, \"6\": 6, \"11\": 1}, \"4\": {\"4\": 203, \"5\": 6, \"7\": 19, \"15\": 10, \"6\": 2}, \"6\": {\"6\": 204, \"15\": 11, \"5\": 25}, \"2\": {\"2\": 230, \"0\": 10}, \"5\": {\"7\": 64, \"4\": 9, \"6\": 60, \"5\": 99, \"13\": 7, \"15\": 1}, \"9\": {\"9\": 205, \"11\": 17, \"12\": 18}, \"8\": {\"8\": 240}, \"12\": {\"12\": 228, \"9\": 9, \"11\": 3}, \"10\": {\"10\": 240}, \"1\": {\"1\": 238, \"13\": 2}, \"0\": {\"0\": 229, \"2\": 10, \"10\": 1}, \"3\": {\"3\": 240}, \"13\": {\"13\": 240}, \"11\": {\"11\": 227, \"12\": 5, \"9\": 6, \"15\": 2}, \"7\": {\"7\": 219, \"4\": 4, \"5\": 17}, \"14\": {\"14\": 240}}, \"O_38\": {\"15\": {\"15\": 220, \"5\": 5, \"1\": 5, \"8\": 10}, \"11\": {\"11\": 240}, \"10\": {\"10\": 218, \"0\": 14, \"13\": 8}, \"14\": {\"14\": 228, \"2\": 12}, \"6\": {\"6\": 240}, \"4\": {\"4\": 240}, \"13\": {\"13\": 222, \"0\": 6, \"10\": 9, \"2\": 2, \"14\": 1}, \"3\": {\"3\": 240}, \"7\": {\"7\": 235, \"0\": 3, \"5\": 2}, \"8\": {\"8\": 125, \"5\": 80, \"7\": 29, \"15\": 3, \"13\": 2, \"0\": 1}, \"1\": {\"1\": 240}, \"5\": {\"5\": 103, \"15\": 9, \"8\": 99, \"7\": 19, \"9\": 8, \"13\": 2}, \"0\": {\"3\": 4, \"0\": 181, \"7\": 30, \"13\": 9, \"10\": 15, \"8\": 1}, \"2\": {\"2\": 225, \"14\": 15}, \"12\": {\"12\": 240}, \"9\": {\"9\": 237, \"5\": 3}}, \"O_20\": {\"10\": {\"10\": 240}, \"7\": {\"7\": 217, \"2\": 10, \"9\": 11, \"6\": 1, \"4\": 1}, \"4\": {\"4\": 237, \"12\": 3}, \"13\": {\"13\": 239, \"2\": 1}, \"1\": {\"1\": 205, \"9\": 11, \"5\": 21, \"15\": 2, \"3\": 1}, \"0\": {\"0\": 235, \"3\": 1, \"8\": 4}, \"12\": {\"12\": 192, \"2\": 23, \"15\": 21, \"4\": 3, \"7\": 1}, \"5\": {\"5\": 203, \"3\": 15, \"1\": 21, \"9\": 1}, \"6\": {\"6\": 236, \"7\": 4}, \"2\": {\"12\": 30, \"2\": 190, \"7\": 15, \"15\": 4, \"13\": 1}, \"8\": {\"8\": 221, \"14\": 11, \"3\": 8}, \"11\": {\"11\": 240}, \"9\": {\"9\": 213, \"3\": 5, \"1\": 13, \"7\": 8, \"5\": 1}, \"14\": {\"14\": 233, \"8\": 7}, \"15\": {\"15\": 202, \"12\": 22, \"1\": 12, \"2\": 3, \"9\": 1}, \"3\": {\"3\": 171, \"5\": 29, \"8\": 19, \"1\": 2, \"9\": 15, \"0\": 4}}, \"O_14\": {\"14\": {\"14\": 186, \"13\": 30, \"6\": 6, \"3\": 9, \"2\": 9}, \"0\": {\"0\": 231, \"3\": 7, \"14\": 1, \"10\": 1}, \"4\": {\"4\": 237, \"5\": 3}, \"11\": {\"11\": 240}, \"13\": {\"6\": 106, \"14\": 58, \"2\": 17, \"13\": 52, \"15\": 5, \"3\": 2}, \"9\": {\"9\": 240}, \"3\": {\"3\": 230, \"2\": 2, \"14\": 8}, \"6\": {\"13\": 49, \"6\": 163, \"14\": 19, \"2\": 6, \"3\": 3}, \"1\": {\"1\": 240}, \"5\": {\"5\": 230, \"2\": 5, \"4\": 3, \"7\": 2}, \"12\": {\"12\": 240}, \"10\": {\"10\": 240}, \"8\": {\"8\": 240}, \"7\": {\"7\": 240}, \"15\": {\"15\": 240}, \"2\": {\"14\": 29, \"2\": 147, \"6\": 24, \"5\": 27, \"4\": 1, \"13\": 8, \"3\": 4}}, \"O_32\": {\"11\": {\"11\": 240}, \"1\": {\"1\": 240}, \"2\": {\"2\": 223, \"4\": 17}, \"0\": {\"0\": 171, \"5\": 11, \"7\": 33, \"8\": 24, \"14\": 1}, \"3\": {\"3\": 229, \"13\": 11}, \"8\": {\"8\": 180, \"4\": 5, \"5\": 20, \"0\": 29, \"7\": 2, \"14\": 3, \"15\": 1}, \"12\": {\"12\": 240}, \"5\": {\"5\": 128, \"0\": 33, \"7\": 48, \"8\": 23, \"14\": 8}, \"15\": {\"15\": 239, \"8\": 1}, \"7\": {\"7\": 148, \"0\": 21, \"5\": 45, \"14\": 22, \"8\": 4}, \"4\": {\"4\": 209, \"2\": 28, \"13\": 3}, \"14\": {\"7\": 55, \"0\": 8, \"14\": 164, \"5\": 6, \"8\": 5, \"2\": 1, \"4\": 1}, \"10\": {\"10\": 240}, \"6\": {\"6\": 240}, \"13\": {\"13\": 211, \"3\": 15, \"4\": 14}, \"9\": {\"9\": 237, \"2\": 1, \"12\": 2}}, \"O_8\": {\"9\": {\"9\": 240}, \"11\": {\"11\": 138, \"1\": 97, \"8\": 2, \"14\": 1, \"5\": 2}, \"8\": {\"8\": 240}, \"4\": {\"4\": 238, \"6\": 1, \"14\": 1}, \"13\": {\"13\": 203, \"10\": 16, \"7\": 15, \"6\": 6}, \"14\": {\"14\": 235, \"4\": 5}, \"2\": {\"2\": 181, \"3\": 38, \"12\": 17, \"15\": 4}, \"3\": {\"3\": 240}, \"1\": {\"1\": 189, \"11\": 48, \"5\": 3}, \"0\": {\"0\": 240}, \"5\": {\"5\": 203, \"1\": 12, \"11\": 6, \"10\": 14, \"14\": 5}, \"15\": {\"15\": 199, \"12\": 41}, \"10\": {\"10\": 215, \"13\": 23, \"5\": 1, \"6\": 1}, \"12\": {\"12\": 195, \"15\": 45}, \"6\": {\"6\": 224, \"7\": 16}, \"7\": {\"7\": 223, \"6\": 14, \"13\": 3}}, \"C_5\": {\"26\": {\"7\": 1, \"26\": 15, \"42\": 2, \"53\": 1, \"38\": 1, \"51\": 1, \"16\": 1, \"15\": 1, \"23\": 1}, \"7\": {\"11\": 1, \"15\": 2, \"7\": 13, \"51\": 1, \"37\": 3, \"21\": 1, \"38\": 2, \"1\": 1, \"8\": 2, \"12\": 1, \"39\": 2, \"17\": 2, \"23\": 1}, \"56\": {\"56\": 142}, \"36\": {\"36\": 81, \"48\": 2, \"20\": 1, \"29\": 3, \"43\": 2, \"14\": 1, \"35\": 1, \"44\": 1}, \"47\": {\"47\": 100}, \"2\": {\"2\": 28}, \"15\": {\"15\": 39, \"26\": 1, \"10\": 4, \"42\": 3, \"22\": 1, \"43\": 13, \"16\": 14, \"11\": 8, \"49\": 2, \"55\": 16, \"23\": 5, \"31\": 6, \"17\": 4, \"24\": 4, \"36\": 1, \"51\": 6, \"54\": 9, \"27\": 3, \"13\": 2, \"19\": 3, \"38\": 1, \"41\": 1, \"25\": 1, \"29\": 2, \"8\": 3}, \"14\": {\"36\": 2, \"14\": 39, \"47\": 2, \"57\": 1}, \"27\": {\"27\": 141, \"57\": 2, \"44\": 1, \"48\": 2}, \"40\": {\"40\": 124}, \"49\": {\"49\": 30, \"36\": 2, \"35\": 2, \"14\": 2}, \"45\": {\"45\": 124}, \"46\": {\"46\": 134, \"0\": 2}, \"11\": {\"15\": 4, \"11\": 40, \"41\": 2, \"24\": 6, \"43\": 7, \"10\": 4, \"31\": 9, \"28\": 3, \"42\": 2, \"23\": 4, \"17\": 4, \"55\": 9, \"14\": 1, \"51\": 7, \"54\": 6, \"27\": 2, \"19\": 4, \"53\": 2, \"34\": 1, \"37\": 3, \"7\": 2, \"48\": 1, \"8\": 2, \"16\": 3, \"36\": 1, \"13\": 1}, \"30\": {\"30\": 112}, \"0\": {\"0\": 124}, \"10\": {\"10\": 43, \"2\": 4, \"49\": 2, \"56\": 1, \"24\": 5, \"29\": 2, \"36\": 2, \"41\": 2, \"43\": 2, \"13\": 2, \"54\": 2, \"15\": 1}, \"1\": {\"1\": 148}, \"42\": {\"23\": 3, \"25\": 1, \"15\": 4, \"26\": 2, \"2\": 1, \"37\": 1, \"42\": 14, \"32\": 1, \"16\": 2, \"51\": 1, \"38\": 2, \"54\": 1, \"18\": 1, \"7\": 2, \"22\": 1, \"31\": 1, \"29\": 1, \"17\": 1}, \"54\": {\"54\": 89, \"32\": 3, \"34\": 1, \"11\": 1, \"27\": 5, \"51\": 2, \"55\": 1, \"17\": 2, \"43\": 5, \"23\": 1, \"36\": 2}, \"55\": {\"42\": 3, \"54\": 19, \"8\": 13, \"23\": 3, \"55\": 29, \"32\": 3, \"36\": 6, \"7\": 4, \"33\": 2, \"41\": 1, \"31\": 1, \"17\": 5, \"27\": 26, \"11\": 9, \"44\": 1, \"48\": 7, \"40\": 1, \"43\": 3, \"15\": 5, \"51\": 3, \"16\": 1, \"29\": 2, \"26\": 1, \"19\": 1, \"21\": 1, \"20\": 1, \"57\": 1}, \"23\": {\"17\": 17, \"54\": 5, \"51\": 15, \"55\": 4, \"43\": 4, \"11\": 3, \"23\": 37, \"7\": 3, \"42\": 3, \"25\": 1, \"15\": 7, \"16\": 9, \"53\": 2, \"44\": 2, \"36\": 1, \"37\": 2, \"38\": 1, \"41\": 1, \"26\": 1, \"29\": 1, \"8\": 5}, \"25\": {\"25\": 94, \"42\": 1, \"53\": 23, \"11\": 1, \"19\": 2, \"17\": 4, \"16\": 6, \"51\": 7, \"15\": 3, \"27\": 1, \"23\": 3, \"43\": 1, \"26\": 2, \"31\": 1, \"18\": 1, \"8\": 1, \"55\": 1}, \"28\": {\"28\": 23, \"34\": 2, \"10\": 1, \"7\": 1, \"31\": 2, \"33\": 1, \"15\": 1, \"42\": 1}, \"32\": {\"32\": 32}, \"9\": {\"9\": 142}, \"39\": {\"39\": 19, \"12\": 1}, \"3\": {\"3\": 99, \"46\": 1}, \"29\": {\"29\": 118}, \"17\": {\"54\": 6, \"41\": 2, \"17\": 59, \"55\": 8, \"19\": 1, \"27\": 2, \"51\": 4, \"24\": 1, \"16\": 2, \"23\": 10, \"48\": 3, \"15\": 3, \"8\": 5, \"7\": 3, \"32\": 1, \"12\": 1, \"44\": 1, \"53\": 2, \"43\": 1, \"1\": 1}, \"35\": {\"49\": 1, \"35\": 35}, \"44\": {\"44\": 152}, \"5\": {\"5\": 128}, \"33\": {\"34\": 6, \"41\": 2, \"33\": 17, \"27\": 1, \"11\": 1, \"31\": 1, \"16\": 1, \"54\": 1, \"36\": 2}, \"34\": {\"34\": 36}, \"13\": {\"13\": 130, \"56\": 6, \"52\": 2}, \"41\": {\"41\": 13, \"39\": 1, \"54\": 2, \"27\": 3, \"17\": 1, \"32\": 1, \"48\": 4, \"57\": 1, \"8\": 2}, \"6\": {\"6\": 128}, \"51\": {\"51\": 61, \"11\": 6, \"55\": 10, \"15\": 7, \"22\": 1, \"23\": 12, \"20\": 3, \"38\": 3, \"8\": 7, \"17\": 7, \"9\": 2, \"16\": 4, \"54\": 1, \"53\": 5, \"44\": 4, \"42\": 1, \"56\": 1, \"43\": 2, \"5\": 1}, \"50\": {\"50\": 144}, \"37\": {\"39\": 3, \"55\": 2, \"7\": 1, \"37\": 5, \"10\": 1, \"41\": 2, \"16\": 1, \"52\": 2, \"15\": 1, \"32\": 1, \"54\": 1, \"17\": 1, \"11\": 2, \"21\": 1}, \"19\": {\"19\": 116, \"34\": 4, \"27\": 4, \"24\": 1, \"36\": 1, \"54\": 5, \"29\": 3, \"23\": 1, \"15\": 1, \"42\": 1, \"31\": 2, \"48\": 2, \"44\": 1, \"11\": 1, \"55\": 1}, \"57\": {\"57\": 132}, \"21\": {\"21\": 132, \"52\": 2, \"5\": 1, \"20\": 4, \"46\": 1, \"6\": 2, \"12\": 2}, \"24\": {\"47\": 2, \"24\": 68, \"49\": 1, \"55\": 1, \"15\": 2, \"43\": 5, \"40\": 1}, \"8\": {\"21\": 15, \"39\": 1, \"8\": 49, \"46\": 1, \"42\": 1, \"41\": 4, \"1\": 11, \"7\": 2, \"12\": 3, \"48\": 7, \"55\": 4, \"23\": 2, \"17\": 4, \"20\": 12, \"57\": 7, \"52\": 1, \"4\": 1, \"30\": 3, \"43\": 1, \"56\": 1}, \"12\": {\"12\": 90, \"6\": 3, \"21\": 2, \"8\": 1}, \"48\": {\"48\": 129, \"9\": 3}, \"43\": {\"43\": 120, \"11\": 2, \"20\": 1, \"15\": 1, \"44\": 1, \"55\": 3, \"36\": 7, \"17\": 1, \"13\": 2, \"56\": 1, \"29\": 1, \"51\": 1, \"24\": 1, \"47\": 2, \"57\": 2, \"8\": 2, \"21\": 2}, \"53\": {\"53\": 79, \"26\": 1, \"38\": 2, \"23\": 5, \"18\": 5, \"16\": 21, \"36\": 2, \"17\": 6, \"54\": 1, \"51\": 9, \"25\": 10, \"11\": 2, \"37\": 1, \"15\": 2, \"19\": 1, \"55\": 1}, \"38\": {\"42\": 2, \"38\": 10, \"15\": 1, \"23\": 5, \"51\": 2, \"7\": 6, \"21\": 1, \"16\": 1, \"1\": 1, \"55\": 2, \"11\": 1}, \"16\": {\"53\": 24, \"26\": 2, \"51\": 9, \"16\": 65, \"38\": 3, \"8\": 2, \"55\": 4, \"11\": 5, \"17\": 3, \"23\": 4, \"15\": 5, \"25\": 12, \"41\": 1, \"28\": 1, \"42\": 1, \"54\": 1}, \"22\": {\"22\": 28}, \"4\": {\"4\": 100}, \"18\": {\"18\": 46, \"16\": 3, \"23\": 3, \"25\": 4, \"15\": 1, \"11\": 1, \"53\": 2, \"38\": 1, \"51\": 2, \"17\": 1}, \"20\": {\"20\": 101, \"21\": 12, \"12\": 5, \"1\": 8, \"15\": 1, \"52\": 8, \"6\": 1, \"17\": 1, \"27\": 1, \"8\": 3, \"45\": 1, \"30\": 2}, \"52\": {\"52\": 140}, \"31\": {\"31\": 35, \"24\": 1}}, \"C_1\": {\"41\": {\"48\": 2, \"41\": 14, \"19\": 1, \"13\": 1, \"17\": 1, \"14\": 1, \"18\": 1, \"51\": 1, \"33\": 1, \"37\": 1}, \"40\": {\"40\": 110}, \"45\": {\"45\": 138}, \"51\": {\"41\": 2, \"51\": 74, \"26\": 3, \"8\": 7, \"17\": 7, \"37\": 2, \"12\": 1, \"48\": 7, \"16\": 4, \"9\": 8, \"30\": 3, \"33\": 2, \"4\": 1, \"19\": 3, \"6\": 1, \"15\": 5, \"24\": 1, \"11\": 7, \"55\": 1, \"29\": 2, \"36\": 2, \"25\": 1, \"13\": 2, \"23\": 1, \"53\": 1}, \"5\": {\"5\": 154}, \"30\": {\"30\": 120}, \"42\": {\"42\": 32, \"51\": 1, \"54\": 3, \"9\": 1, \"8\": 1, \"23\": 1, \"15\": 1}, \"46\": {\"46\": 136}, \"48\": {\"48\": 65, \"8\": 15, \"2\": 1, \"51\": 6, \"36\": 2, \"50\": 3, \"9\": 11, \"30\": 10, \"56\": 2, \"13\": 7, \"24\": 1, \"1\": 2, \"23\": 2, \"57\": 1, \"14\": 2, \"37\": 1, \"15\": 1, \"6\": 1, \"19\": 1}, \"53\": {\"53\": 84, \"25\": 21, \"51\": 5, \"16\": 15, \"17\": 4, \"18\": 4, \"19\": 1, \"9\": 3, \"48\": 3, \"23\": 1, \"11\": 2, \"26\": 1}, \"47\": {\"47\": 152}, \"49\": {\"32\": 4, \"49\": 20, \"33\": 1, \"31\": 2, \"38\": 2, \"39\": 1, \"47\": 1, \"27\": 1}, \"36\": {\"36\": 50, \"30\": 3, \"47\": 1, \"56\": 1, \"13\": 3, \"12\": 2, \"39\": 1, \"21\": 1, \"32\": 2}, \"32\": {\"32\": 32}, \"34\": {\"34\": 21, \"54\": 1, \"51\": 1, \"41\": 1}, \"29\": {\"29\": 140}, \"35\": {\"35\": 33, \"55\": 1, \"19\": 2}, \"3\": {\"3\": 134}, \"16\": {\"16\": 84, \"51\": 8, \"41\": 2, \"25\": 16, \"53\": 15, \"18\": 2, \"17\": 2, \"48\": 2, \"19\": 3, \"37\": 1, \"10\": 1, \"33\": 1, \"24\": 1, \"23\": 1, \"11\": 1}, \"26\": {\"26\": 11, \"51\": 1, \"17\": 4, \"16\": 3, \"2\": 2, \"11\": 1, \"25\": 2}, \"57\": {\"57\": 144}, \"44\": {\"44\": 128}, \"0\": {\"0\": 152}, \"4\": {\"4\": 132}, \"31\": {\"31\": 25, \"55\": 2, \"49\": 1}, \"11\": {\"51\": 5, \"54\": 3, \"24\": 5, \"11\": 55, \"15\": 24, \"23\": 10, \"10\": 14, \"17\": 3, \"35\": 1, \"19\": 4, \"9\": 3, \"48\": 2, \"43\": 3, \"16\": 3, \"55\": 2, \"31\": 1, \"41\": 1, \"25\": 1}, \"6\": {\"6\": 91, \"50\": 5}, \"54\": {\"54\": 88, \"42\": 2, \"19\": 4, \"24\": 2, \"23\": 3, \"55\": 1, \"48\": 1, \"1\": 1, \"8\": 2}, \"17\": {\"41\": 4, \"17\": 28, \"1\": 2, \"51\": 9, \"42\": 1, \"48\": 1, \"8\": 5, \"33\": 1, \"11\": 1, \"26\": 1, \"16\": 3, \"4\": 1, \"30\": 1, \"37\": 1, \"55\": 1, \"36\": 1, \"12\": 1, \"13\": 1, \"54\": 1}, \"20\": {\"20\": 125, \"3\": 3}, \"13\": {\"20\": 8, \"13\": 110, \"24\": 1, \"12\": 11, \"30\": 7, \"50\": 1, \"48\": 1, \"8\": 2, \"6\": 2, \"46\": 4, \"36\": 2, \"23\": 1}, \"33\": {\"13\": 2, \"33\": 8, \"15\": 1, \"48\": 1, \"9\": 3, \"57\": 2, \"23\": 1, \"17\": 1, \"41\": 2, \"8\": 2, \"7\": 3, \"14\": 1, \"37\": 1, \"26\": 1, \"36\": 2, \"12\": 1}, \"24\": {\"24\": 83, \"31\": 7, \"17\": 1, \"43\": 5, \"36\": 1, \"10\": 1, \"55\": 6, \"23\": 3, \"15\": 1}, \"52\": {\"52\": 130, \"22\": 2}, \"2\": {\"57\": 5, \"33\": 1, \"30\": 4, \"2\": 13, \"1\": 3, \"48\": 4, \"9\": 2, \"41\": 2, \"29\": 1, \"13\": 1}, \"19\": {\"33\": 2, \"19\": 96, \"34\": 3, \"35\": 3, \"42\": 3, \"11\": 5, \"54\": 14, \"51\": 2, \"55\": 10, \"40\": 1, \"10\": 1, \"1\": 2, \"15\": 2, \"23\": 5, \"29\": 7}, \"39\": {\"52\": 1, \"39\": 22, \"49\": 2, \"47\": 2, \"43\": 1}, \"8\": {\"8\": 87, \"30\": 14, \"48\": 5, \"57\": 3, \"17\": 2, \"44\": 1, \"13\": 7, \"12\": 3, \"9\": 7, \"33\": 1, \"23\": 1, \"36\": 3, \"1\": 1, \"50\": 3, \"2\": 2}, \"21\": {\"21\": 124}, \"10\": {\"11\": 8, \"31\": 2, \"10\": 46, \"15\": 9, \"23\": 3, \"24\": 8, \"19\": 4, \"43\": 4, \"54\": 8, \"55\": 1, \"28\": 1, \"36\": 2}, \"37\": {\"51\": 3, \"37\": 13, \"17\": 2, \"26\": 1, \"8\": 2, \"33\": 1, \"7\": 1, \"2\": 1, \"1\": 1, \"9\": 1, \"13\": 1, \"19\": 1, \"29\": 1, \"36\": 1, \"54\": 1, \"48\": 1}, \"25\": {\"25\": 79, \"53\": 27, \"16\": 13, \"9\": 3, \"18\": 4, \"51\": 3, \"54\": 1, \"23\": 3, \"24\": 1, \"11\": 3, \"26\": 3, \"17\": 2, \"40\": 1, \"13\": 1}, \"27\": {\"27\": 130}, \"23\": {\"23\": 41, \"51\": 5, \"39\": 2, \"16\": 1, \"32\": 1, \"28\": 2, \"36\": 2, \"17\": 1, \"54\": 10, \"15\": 3, \"48\": 1, \"24\": 18, \"53\": 1, \"55\": 22, \"27\": 2, \"19\": 3, \"43\": 10, \"11\": 2, \"9\": 1, \"31\": 1, \"33\": 1, \"8\": 1, \"2\": 1, \"37\": 2, \"10\": 2}, \"1\": {\"1\": 97, \"4\": 2, \"57\": 1}, \"50\": {\"50\": 151, \"6\": 1}, \"12\": {\"12\": 110, \"48\": 1, \"56\": 1, \"13\": 2, \"3\": 2}, \"18\": {\"18\": 46, \"53\": 9, \"41\": 1, \"51\": 3, \"25\": 11, \"11\": 1, \"9\": 1}, \"38\": {\"38\": 21, \"22\": 2, \"49\": 1}, \"14\": {\"14\": 22, \"30\": 2}, \"56\": {\"56\": 142}, \"55\": {\"55\": 157, \"47\": 1, \"1\": 2}, \"9\": {\"9\": 50, \"8\": 32, \"2\": 2, \"48\": 8, \"57\": 2, \"36\": 7, \"30\": 7, \"17\": 1, \"4\": 2, \"55\": 7, \"12\": 1, \"13\": 5, \"23\": 4, \"51\": 4, \"44\": 1, \"40\": 1, \"37\": 1, \"1\": 2, \"24\": 1}, \"15\": {\"24\": 10, \"26\": 2, \"15\": 59, \"23\": 14, \"33\": 1, \"10\": 12, \"19\": 3, \"54\": 9, \"11\": 8, \"16\": 3, \"55\": 6, \"43\": 4, \"1\": 1, \"53\": 2, \"51\": 2, \"25\": 1, \"28\": 1, \"17\": 2, \"37\": 1, \"42\": 2, \"9\": 3}, \"28\": {\"28\": 18, \"10\": 2, \"15\": 3, \"43\": 2, \"23\": 1, \"11\": 1, \"39\": 1}, \"7\": {\"7\": 28}, \"43\": {\"43\": 136}, \"22\": {\"22\": 134, \"21\": 1, \"0\": 1}}, \"C_3\": {\"1\": {\"1\": 100}, \"9\": {\"9\": 123, \"29\": 1}, \"22\": {\"22\": 136}, \"43\": {\"43\": 94, \"26\": 3, \"10\": 1, \"31\": 6, \"7\": 2, \"57\": 4, \"24\": 8, \"11\": 1, \"8\": 1, \"15\": 2, \"49\": 3, \"56\": 1, \"23\": 1, \"22\": 1, \"55\": 5, \"13\": 3}, \"49\": {\"49\": 19, \"31\": 1}, \"50\": {\"50\": 122, \"46\": 5, \"21\": 4, \"3\": 5, \"12\": 1, \"6\": 1}, \"53\": {\"53\": 71, \"36\": 2, \"51\": 6, \"25\": 13, \"16\": 20, \"54\": 4, \"18\": 6, \"15\": 8, \"17\": 1, \"38\": 2, \"11\": 2, \"23\": 1}, \"10\": {\"10\": 40, \"31\": 2, \"49\": 2, \"42\": 4, \"43\": 4, \"51\": 1, \"15\": 1, \"13\": 2, \"57\": 2, \"14\": 1, \"23\": 1, \"17\": 1, \"24\": 3}, \"48\": {\"48\": 116}, \"8\": {\"8\": 46, \"12\": 2, \"39\": 1, \"41\": 4, \"36\": 11, \"17\": 6, \"22\": 1, \"52\": 16, \"2\": 1, \"11\": 5, \"20\": 16, \"30\": 7, \"27\": 8, \"9\": 1, \"21\": 1, \"48\": 3, \"23\": 4, \"13\": 1, \"56\": 1, \"32\": 1, \"43\": 1, \"44\": 1}, \"31\": {\"31\": 22, \"28\": 1, \"43\": 1, \"57\": 2, \"56\": 1, \"7\": 1}, \"56\": {\"56\": 134}, \"25\": {\"25\": 66, \"28\": 1, \"37\": 1, \"11\": 6, \"51\": 9, \"31\": 1, \"15\": 7, \"16\": 7, \"53\": 20, \"36\": 2, \"54\": 3, \"19\": 4, \"43\": 5, \"26\": 1, \"2\": 1, \"35\": 1, \"23\": 1, \"18\": 6}, \"28\": {\"28\": 24, \"31\": 2, \"42\": 2}, \"38\": {\"38\": 10, \"51\": 4, \"54\": 3, \"33\": 2, \"36\": 1, \"37\": 1, \"23\": 3, \"16\": 1, \"32\": 1, \"41\": 1, \"45\": 1}, \"5\": {\"5\": 116}, \"12\": {\"12\": 91, \"50\": 1}, \"6\": {\"6\": 87, \"5\": 1}, \"19\": {\"19\": 105, \"35\": 5, \"42\": 3, \"37\": 1, \"34\": 3, \"11\": 1, \"55\": 9, \"54\": 1, \"17\": 4, \"15\": 3, \"29\": 7, \"53\": 1, \"24\": 1, \"28\": 4, \"16\": 1, \"31\": 2, \"23\": 1}, \"26\": {\"26\": 7, \"23\": 1, \"34\": 2, \"31\": 4, \"43\": 6, \"35\": 3, \"15\": 1}, \"32\": {\"33\": 4, \"57\": 1, \"8\": 3, \"38\": 1, \"32\": 9, \"2\": 1, \"36\": 2, \"27\": 4, \"29\": 2, \"26\": 1}, \"33\": {\"33\": 28}, \"3\": {\"3\": 118}, \"51\": {\"38\": 2, \"51\": 61, \"37\": 6, \"11\": 6, \"17\": 7, \"54\": 10, \"53\": 3, \"32\": 1, \"4\": 1, \"43\": 1, \"15\": 5, \"16\": 8, \"56\": 1, \"23\": 4, \"36\": 6, \"26\": 1, \"8\": 4, \"25\": 1}, \"16\": {\"25\": 11, \"16\": 70, \"36\": 1, \"53\": 22, \"17\": 4, \"54\": 4, \"51\": 8, \"18\": 2, \"52\": 1, \"11\": 6, \"23\": 1, \"19\": 1, \"8\": 4, \"15\": 3}, \"46\": {\"46\": 140}, \"7\": {\"7\": 35, \"49\": 1}, \"47\": {\"47\": 92}, \"39\": {\"39\": 16}, \"40\": {\"40\": 132, \"1\": 1, \"48\": 1, \"44\": 2}, \"14\": {\"39\": 2, \"7\": 1, \"14\": 27, \"29\": 2, \"57\": 5, \"48\": 2, \"55\": 1}, \"37\": {\"2\": 1, \"38\": 1, \"54\": 2, \"37\": 18, \"25\": 1, \"36\": 1, \"43\": 1, \"51\": 2, \"17\": 1}, \"2\": {\"2\": 17, \"23\": 2, \"33\": 3, \"32\": 2, \"9\": 2, \"27\": 3, \"4\": 1, \"11\": 1, \"8\": 1}, \"21\": {\"21\": 120}, \"35\": {\"35\": 27, \"2\": 1}, \"54\": {\"38\": 2, \"37\": 1, \"54\": 43, \"16\": 2, \"2\": 1, \"36\": 4, \"23\": 4, \"17\": 4, \"51\": 17, \"53\": 4, \"18\": 1, \"32\": 3, \"15\": 6, \"11\": 4, \"42\": 1, \"8\": 1, \"29\": 2}, \"52\": {\"52\": 107, \"20\": 3, \"21\": 6}, \"29\": {\"29\": 118}, \"20\": {\"20\": 115, \"30\": 6, \"21\": 2, \"46\": 2, \"8\": 2, \"41\": 1, \"52\": 4}, \"18\": {\"18\": 52, \"54\": 4, \"11\": 2, \"53\": 9, \"25\": 6, \"16\": 6, \"51\": 2, \"15\": 2, \"23\": 1}, \"11\": {\"11\": 40, \"43\": 16, \"13\": 3, \"10\": 4, \"54\": 6, \"8\": 7, \"24\": 4, \"15\": 11, \"23\": 10, \"19\": 2, \"36\": 5, \"51\": 4, \"17\": 3, \"53\": 2, \"55\": 9, \"29\": 1, \"57\": 1, \"49\": 1, \"16\": 6, \"14\": 1, \"26\": 1, \"34\": 1, \"27\": 1, \"18\": 1, \"25\": 2}, \"0\": {\"0\": 124}, \"36\": {\"51\": 8, \"36\": 34, \"22\": 4, \"48\": 3, \"43\": 1, \"13\": 3, \"33\": 2, \"10\": 1, \"8\": 10, \"27\": 3, \"15\": 2, \"11\": 6, \"9\": 1, \"54\": 1, \"17\": 12, \"44\": 1, \"1\": 1, \"29\": 1, \"38\": 1, \"35\": 1, \"26\": 1, \"2\": 1, \"40\": 1, \"4\": 1}, \"17\": {\"39\": 1, \"51\": 4, \"8\": 10, \"36\": 5, \"23\": 7, \"33\": 2, \"35\": 3, \"17\": 29, \"34\": 1, \"11\": 1, \"29\": 5, \"4\": 3, \"54\": 3, \"40\": 2, \"9\": 9, \"27\": 9, \"57\": 1, \"38\": 2, \"32\": 2, \"2\": 5, \"15\": 2, \"48\": 1, \"53\": 1}, \"30\": {\"30\": 114}, \"42\": {\"42\": 25, \"14\": 1, \"29\": 2}, \"45\": {\"45\": 60}, \"4\": {\"4\": 138, \"9\": 9, \"40\": 1}, \"23\": {\"43\": 9, \"31\": 3, \"2\": 2, \"37\": 2, \"8\": 11, \"32\": 2, \"17\": 6, \"26\": 3, \"38\": 1, \"53\": 2, \"4\": 1, \"23\": 28, \"11\": 10, \"55\": 4, \"51\": 14, \"16\": 4, \"56\": 1, \"20\": 2, \"27\": 3, \"29\": 2, \"15\": 5, \"25\": 2, \"19\": 1, \"34\": 3, \"1\": 1, \"36\": 4, \"9\": 1, \"57\": 3, \"13\": 4}, \"13\": {\"13\": 78, \"0\": 7, \"7\": 7, \"47\": 12, \"52\": 6, \"43\": 1, \"57\": 2, \"1\": 2, \"56\": 4, \"23\": 3, \"22\": 1, \"38\": 1, \"15\": 1, \"20\": 2, \"44\": 1}, \"15\": {\"17\": 3, \"8\": 5, \"38\": 1, \"15\": 28, \"34\": 1, \"11\": 13, \"19\": 4, \"23\": 14, \"54\": 7, \"24\": 4, \"43\": 10, \"13\": 2, \"18\": 2, \"51\": 4, \"25\": 6, \"29\": 1, \"36\": 5, \"16\": 2, \"53\": 3, \"56\": 1, \"55\": 6, \"31\": 2, \"10\": 1, \"37\": 3}, \"57\": {\"57\": 124}, \"27\": {\"27\": 126, \"4\": 2, \"29\": 1, \"9\": 3, \"57\": 2}, \"44\": {\"44\": 88}, \"34\": {\"34\": 29, \"57\": 1, \"31\": 1, \"19\": 1}, \"41\": {\"41\": 24, \"33\": 2, \"20\": 2}, \"24\": {\"32\": 1, \"24\": 79, \"13\": 3, \"43\": 7, \"36\": 2, \"56\": 3, \"8\": 1, \"49\": 1, \"7\": 1, \"11\": 1, \"10\": 1, \"55\": 4}, \"55\": {\"55\": 112, \"19\": 1, \"56\": 1, \"13\": 2, \"1\": 2}}, \"C_4\": {\"52\": {\"52\": 116}, \"6\": {\"6\": 109, \"50\": 1, \"3\": 1, \"5\": 1}, \"14\": {\"14\": 12, \"40\": 1, \"33\": 1, \"29\": 2}, \"49\": {\"49\": 12, \"2\": 2, \"32\": 2, \"7\": 1, \"13\": 1, \"43\": 2}, \"0\": {\"0\": 80}, \"46\": {\"46\": 150, \"0\": 1, \"22\": 5}, \"41\": {\"43\": 2, \"14\": 2, \"39\": 4, \"42\": 1, \"41\": 7, \"31\": 2, \"37\": 2, \"49\": 3, \"10\": 2, \"17\": 1, \"35\": 1, \"54\": 2, \"28\": 2, \"52\": 2, \"33\": 2, \"55\": 1}, \"24\": {\"24\": 28, \"34\": 1, \"49\": 1, \"43\": 9, \"7\": 4, \"38\": 3, \"1\": 1, \"42\": 1, \"11\": 2, \"32\": 2, \"41\": 2, \"28\": 1, \"27\": 1}, \"25\": {\"25\": 90, \"53\": 22, \"16\": 4, \"18\": 14, \"11\": 1, \"23\": 8, \"15\": 6, \"51\": 3, \"54\": 1, \"26\": 1, \"43\": 1, \"10\": 1}, \"40\": {\"40\": 138}, \"38\": {\"38\": 36, \"13\": 4}, \"13\": {\"13\": 152}, \"9\": {\"9\": 102, \"48\": 2, \"4\": 3, \"44\": 1}, \"45\": {\"45\": 96}, \"43\": {\"43\": 99, \"7\": 3, \"42\": 1, \"24\": 4, \"32\": 2, \"38\": 3, \"56\": 2, \"55\": 16, \"13\": 5, \"2\": 1, \"39\": 1, \"33\": 2, \"51\": 1, \"27\": 1, \"47\": 1, \"11\": 2}, \"10\": {\"24\": 9, \"10\": 53, \"28\": 1, \"43\": 20, \"37\": 1, \"36\": 1, \"38\": 2, \"23\": 3, \"11\": 3, \"55\": 14, \"19\": 2, \"51\": 2, \"13\": 7, \"16\": 1, \"54\": 3, \"15\": 3, \"56\": 1, \"31\": 2, \"7\": 1, \"2\": 1}, \"15\": {\"53\": 2, \"41\": 2, \"34\": 1, \"15\": 38, \"28\": 3, \"51\": 12, \"24\": 2, \"23\": 12, \"27\": 2, \"11\": 7, \"10\": 3, \"16\": 4, \"19\": 4, \"54\": 5, \"55\": 5, \"43\": 10, \"8\": 4, \"36\": 6, \"32\": 1, \"42\": 1, \"17\": 2, \"56\": 1, \"25\": 1}, \"39\": {\"39\": 20}, \"4\": {\"4\": 130, \"9\": 2}, \"53\": {\"53\": 80, \"51\": 6, \"18\": 9, \"25\": 15, \"42\": 1, \"23\": 4, \"16\": 6, \"36\": 1, \"15\": 5, \"27\": 2, \"34\": 1, \"17\": 1, \"10\": 1}, \"1\": {\"1\": 40}, \"28\": {\"42\": 3, \"23\": 2, \"28\": 15, \"10\": 3, \"15\": 1, \"25\": 1, \"54\": 1, \"16\": 3, \"36\": 2, \"11\": 1}, \"54\": {\"42\": 2, \"4\": 6, \"36\": 6, \"54\": 28, \"27\": 19, \"33\": 3, \"37\": 2, \"41\": 4, \"35\": 5, \"17\": 6, \"55\": 7, \"51\": 3, \"8\": 3, \"48\": 3, \"15\": 1, \"43\": 2, \"23\": 1, \"32\": 4, \"31\": 1, \"24\": 1, \"29\": 1}, \"21\": {\"21\": 117, \"12\": 7, \"52\": 2, \"3\": 2, \"8\": 1, \"30\": 1, \"20\": 2}, \"7\": {\"7\": 20, \"24\": 1, \"13\": 2, \"32\": 1}, \"8\": {\"4\": 3, \"39\": 3, \"8\": 47, \"30\": 5, \"20\": 29, \"12\": 6, \"21\": 12, \"54\": 4, \"52\": 13, \"23\": 1, \"27\": 7, \"48\": 2, \"50\": 1, \"44\": 1, \"15\": 1, \"56\": 1}, \"42\": {\"54\": 2, \"15\": 4, \"27\": 2, \"11\": 2, \"42\": 4, \"41\": 1, \"35\": 2, \"24\": 1, \"37\": 2, \"17\": 3, \"18\": 1, \"10\": 2, \"34\": 1, \"53\": 1, \"8\": 1, \"28\": 1, \"23\": 1, \"19\": 1}, \"11\": {\"42\": 1, \"11\": 29, \"32\": 3, \"2\": 1, \"24\": 7, \"17\": 1, \"36\": 2, \"43\": 8, \"10\": 7, \"23\": 7, \"16\": 2, \"55\": 7, \"51\": 9, \"15\": 8, \"13\": 2, \"54\": 2, \"18\": 1, \"38\": 1, \"7\": 1, \"19\": 2, \"8\": 1, \"53\": 1, \"27\": 1}, \"33\": {\"41\": 3, \"39\": 3, \"33\": 16, \"36\": 1, \"27\": 3, \"35\": 5, \"54\": 1, \"43\": 2, \"34\": 1, \"55\": 1}, \"27\": {\"9\": 20, \"27\": 80, \"33\": 3, \"54\": 1, \"49\": 1, \"4\": 23, \"48\": 7, \"19\": 1, \"40\": 1, \"29\": 1, \"36\": 1, \"51\": 1, \"8\": 2}, \"19\": {\"19\": 108, \"35\": 3, \"33\": 2, \"55\": 20, \"27\": 3, \"4\": 1, \"8\": 1, \"29\": 4, \"11\": 1, \"43\": 1}, \"2\": {\"2\": 35, \"38\": 1}, \"3\": {\"3\": 114, \"6\": 1, \"50\": 5}, \"57\": {\"57\": 98, \"55\": 1, \"29\": 1}, \"20\": {\"20\": 99, \"12\": 1, \"3\": 2, \"27\": 4, \"21\": 4, \"8\": 2}, \"23\": {\"23\": 44, \"41\": 1, \"26\": 1, \"51\": 14, \"34\": 2, \"36\": 6, \"11\": 6, \"16\": 9, \"28\": 1, \"53\": 9, \"43\": 1, \"17\": 5, \"15\": 12, \"55\": 3, \"18\": 1, \"44\": 1, \"54\": 1, \"37\": 1, \"8\": 3, \"42\": 1, \"25\": 1, \"10\": 2, \"29\": 1, \"57\": 1, \"27\": 1}, \"22\": {\"22\": 128}, \"29\": {\"29\": 124}, \"36\": {\"36\": 28, \"51\": 5, \"33\": 3, \"54\": 8, \"17\": 9, \"52\": 3, \"30\": 1, \"57\": 2, \"11\": 5, \"27\": 5, \"15\": 3, \"8\": 7, \"4\": 1, \"48\": 1, \"16\": 1, \"40\": 1, \"42\": 2, \"39\": 1, \"28\": 1, \"49\": 1, \"21\": 2, \"24\": 1, \"44\": 1}, \"51\": {\"36\": 10, \"51\": 47, \"42\": 4, \"45\": 2, \"15\": 6, \"41\": 3, \"17\": 3, \"27\": 9, \"16\": 6, \"10\": 2, \"54\": 6, \"23\": 15, \"19\": 1, \"11\": 4, \"53\": 2, \"43\": 4, \"56\": 2, \"8\": 2, \"44\": 1, \"40\": 1, \"48\": 1, \"9\": 1}, \"31\": {\"38\": 2, \"54\": 1, \"41\": 1, \"49\": 3, \"43\": 4, \"8\": 1, \"31\": 5, \"7\": 1, \"24\": 1, \"37\": 1, \"51\": 1, \"10\": 1, \"33\": 1, \"19\": 2, \"32\": 3}, \"12\": {\"12\": 91, \"21\": 1}, \"56\": {\"56\": 138}, \"5\": {\"5\": 108}, \"35\": {\"33\": 2, \"35\": 36, \"1\": 1, \"54\": 1}, \"17\": {\"17\": 29, \"42\": 3, \"54\": 10, \"8\": 2, \"36\": 8, \"34\": 1, \"33\": 2, \"28\": 1, \"35\": 2, \"27\": 6, \"23\": 5, \"29\": 1, \"4\": 4, \"44\": 1, \"41\": 1, \"15\": 1, \"51\": 2, \"10\": 1}, \"32\": {\"32\": 15, \"14\": 1, \"7\": 4, \"43\": 3, \"57\": 1}, \"47\": {\"47\": 120}, \"18\": {\"53\": 11, \"26\": 1, \"18\": 67, \"35\": 1, \"51\": 5, \"23\": 4, \"16\": 6, \"25\": 9, \"13\": 1, \"36\": 2, \"11\": 1}, \"26\": {\"51\": 2, \"53\": 2, \"15\": 1, \"26\": 13, \"16\": 2, \"36\": 1, \"17\": 1, \"28\": 1, \"42\": 1}, \"50\": {\"50\": 115, \"6\": 2, \"3\": 5}, \"55\": {\"55\": 120, \"43\": 2, \"9\": 2}, \"34\": {\"15\": 3, \"26\": 1, \"34\": 9, \"23\": 1, \"28\": 2, \"41\": 1, \"43\": 1, \"42\": 1, \"16\": 1, \"27\": 1, \"19\": 1, \"55\": 2}, \"30\": {\"30\": 43, \"12\": 1}, \"37\": {\"31\": 1, \"37\": 8, \"2\": 1, \"54\": 1, \"35\": 1, \"21\": 1, \"32\": 1, \"10\": 1, \"52\": 1, \"42\": 1, \"43\": 1, \"33\": 1, \"56\": 1, \"17\": 1, \"14\": 1, \"8\": 2}, \"44\": {\"44\": 132}, \"48\": {\"48\": 118}, \"16\": {\"34\": 2, \"16\": 36, \"15\": 9, \"51\": 12, \"25\": 5, \"36\": 3, \"28\": 1, \"35\": 1, \"19\": 2, \"53\": 6, \"18\": 2, \"17\": 3, \"55\": 1, \"23\": 3, \"27\": 1, \"43\": 2, \"42\": 2, \"41\": 1, \"11\": 4}}, \"C_2\": {\"11\": {\"13\": 2, \"10\": 3, \"35\": 1, \"11\": 35, \"2\": 1, \"37\": 3, \"34\": 2, \"23\": 6, \"31\": 1, \"51\": 8, \"43\": 11, \"15\": 7, \"54\": 7, \"56\": 1, \"53\": 5, \"36\": 8, \"16\": 5, \"27\": 3, \"17\": 5, \"24\": 5, \"55\": 7, \"57\": 1, \"41\": 1, \"38\": 1, \"19\": 1}, \"21\": {\"21\": 120}, \"19\": {\"19\": 120, \"32\": 1, \"42\": 2, \"55\": 10, \"17\": 1, \"35\": 1, \"33\": 1, \"11\": 1, \"29\": 2, \"57\": 1}, \"20\": {\"21\": 8, \"12\": 6, \"33\": 2, \"20\": 42, \"17\": 8, \"30\": 20, \"52\": 13, \"36\": 3, \"27\": 5, \"54\": 1, \"48\": 4, \"10\": 1, \"8\": 7, \"23\": 1, \"50\": 5, \"46\": 1, \"11\": 1}, \"9\": {\"9\": 140}, \"10\": {\"11\": 3, \"10\": 57, \"8\": 2, \"15\": 2, \"23\": 2, \"37\": 2, \"43\": 4, \"7\": 1, \"24\": 11, \"13\": 8, \"55\": 7, \"16\": 2, \"19\": 2, \"57\": 2, \"39\": 1, \"42\": 1, \"31\": 2, \"35\": 1, \"33\": 2}, \"37\": {\"13\": 5, \"37\": 6, \"8\": 1, \"41\": 2, \"55\": 1, \"23\": 1, \"31\": 5, \"43\": 1, \"38\": 2, \"11\": 1, \"20\": 1, \"15\": 2, \"34\": 1, \"28\": 1, \"2\": 2, \"51\": 1, \"7\": 1, \"10\": 1, \"54\": 1}, \"32\": {\"9\": 2, \"20\": 1, \"36\": 1, \"32\": 11, \"33\": 3, \"57\": 1, \"27\": 2, \"29\": 4, \"8\": 1, \"17\": 2}, \"3\": {\"3\": 92}, \"39\": {\"32\": 2, \"48\": 1, \"43\": 2, \"39\": 11, \"52\": 2, \"29\": 1, \"47\": 1, \"7\": 2, \"15\": 1, \"2\": 1, \"31\": 1, \"41\": 1, \"57\": 1, \"22\": 1}, \"45\": {\"45\": 128}, \"50\": {\"50\": 129, \"12\": 5, \"6\": 2}, \"40\": {\"40\": 138, \"4\": 1, \"9\": 1}, \"46\": {\"46\": 128}, \"12\": {\"12\": 89, \"21\": 2, \"50\": 1}, \"13\": {\"37\": 1, \"46\": 1, \"13\": 82, \"38\": 2, \"47\": 7, \"56\": 7, \"22\": 3, \"52\": 5, \"10\": 1, \"1\": 2, \"7\": 2, \"5\": 1, \"11\": 1, \"24\": 1}, \"47\": {\"47\": 132}, \"15\": {\"15\": 40, \"37\": 1, \"51\": 14, \"31\": 1, \"23\": 22, \"24\": 1, \"55\": 1, \"54\": 14, \"43\": 5, \"16\": 7, \"11\": 7, \"36\": 6, \"25\": 5, \"27\": 3, \"53\": 2, \"19\": 1, \"8\": 3, \"7\": 1, \"26\": 2, \"10\": 1, \"9\": 1, \"13\": 1, \"20\": 1, \"29\": 1, \"17\": 1}, \"54\": {\"35\": 1, \"15\": 5, \"54\": 43, \"36\": 9, \"26\": 1, \"23\": 8, \"37\": 1, \"51\": 12, \"8\": 1, \"49\": 3, \"13\": 1, \"17\": 5, \"16\": 4, \"9\": 4, \"43\": 1, \"4\": 1, \"20\": 3, \"29\": 1, \"40\": 1, \"11\": 1, \"27\": 1, \"57\": 1}, \"48\": {\"48\": 148}, \"23\": {\"54\": 9, \"15\": 9, \"39\": 2, \"23\": 40, \"37\": 1, \"28\": 1, \"33\": 3, \"36\": 12, \"17\": 2, \"9\": 3, \"11\": 13, \"2\": 1, \"51\": 14, \"16\": 4, \"43\": 3, \"27\": 7, \"20\": 3, \"57\": 3, \"8\": 4, \"53\": 1, \"22\": 1, \"4\": 1, \"25\": 1, \"29\": 1, \"48\": 1, \"55\": 1, \"13\": 1}, \"29\": {\"29\": 124, \"56\": 1, \"36\": 1, \"35\": 1, \"44\": 1}, \"38\": {\"38\": 20}, \"53\": {\"53\": 74, \"18\": 5, \"25\": 14, \"26\": 4, \"51\": 7, \"36\": 6, \"54\": 2, \"16\": 15, \"15\": 8, \"23\": 1}, \"27\": {\"27\": 62, \"48\": 20, \"33\": 3, \"2\": 4, \"44\": 2, \"17\": 5, \"4\": 4, \"20\": 10, \"8\": 13, \"9\": 3, \"30\": 3, \"57\": 9, \"51\": 2, \"32\": 2, \"37\": 2, \"13\": 1, \"40\": 1, \"15\": 1, \"43\": 1, \"29\": 1, \"45\": 1}, \"43\": {\"43\": 88, \"42\": 4, \"13\": 13, \"41\": 1, \"38\": 3, \"55\": 4, \"7\": 4, \"15\": 1, \"22\": 2, \"24\": 7, \"23\": 3, \"17\": 1, \"11\": 3, \"36\": 1, \"35\": 1, \"16\": 1, \"27\": 1, \"57\": 2, \"56\": 2, \"52\": 1, \"29\": 1}, \"35\": {\"27\": 2, \"29\": 2, \"35\": 8, \"28\": 1, \"33\": 2, \"42\": 4, \"9\": 2, \"17\": 2, \"4\": 2, \"51\": 2, \"23\": 1, \"32\": 2, \"10\": 1, \"15\": 1}, \"0\": {\"0\": 48}, \"52\": {\"52\": 121, \"30\": 1, \"21\": 2}, \"8\": {\"37\": 1, \"8\": 40, \"2\": 5, \"30\": 13, \"20\": 19, \"52\": 9, \"43\": 2, \"17\": 7, \"21\": 3, \"27\": 8, \"36\": 1, \"5\": 1, \"57\": 1, \"51\": 3, \"50\": 4, \"45\": 2, \"34\": 1, \"48\": 4, \"23\": 1, \"15\": 1, \"12\": 1, \"11\": 1}, \"24\": {\"55\": 10, \"43\": 8, \"10\": 3, \"24\": 58, \"14\": 1, \"1\": 1, \"7\": 2, \"20\": 1, \"13\": 6, \"31\": 2, \"38\": 1, \"37\": 2, \"57\": 1}, \"18\": {\"25\": 3, \"18\": 32, \"34\": 1, \"53\": 4, \"26\": 2, \"16\": 3, \"15\": 1, \"54\": 1, \"51\": 1}, \"25\": {\"8\": 4, \"53\": 20, \"25\": 76, \"51\": 6, \"49\": 1, \"18\": 6, \"54\": 3, \"28\": 1, \"16\": 13, \"24\": 1, \"17\": 4, \"36\": 2, \"23\": 1, \"42\": 1, \"19\": 1, \"33\": 1, \"11\": 1, \"27\": 2, \"15\": 2, \"43\": 1, \"55\": 1}, \"57\": {\"57\": 136}, \"55\": {\"55\": 120, \"43\": 4, \"1\": 2, \"57\": 3, \"14\": 1, \"13\": 2, \"29\": 2}, \"36\": {\"51\": 12, \"20\": 5, \"36\": 41, \"37\": 1, \"17\": 9, \"39\": 1, \"23\": 12, \"27\": 9, \"32\": 1, \"54\": 6, \"11\": 2, \"8\": 6, \"2\": 1, \"48\": 1, \"13\": 1, \"15\": 2, \"57\": 1, \"41\": 2, \"53\": 2, \"4\": 1}, \"17\": {\"17\": 29, \"2\": 2, \"41\": 1, \"33\": 5, \"49\": 1, \"9\": 8, \"16\": 2, \"54\": 4, \"27\": 12, \"20\": 2, \"7\": 2, \"36\": 3, \"43\": 2, \"23\": 2, \"29\": 9, \"57\": 1, \"8\": 8, \"10\": 1, \"37\": 1, \"32\": 2, \"42\": 1, \"34\": 1, \"35\": 1, \"51\": 2, \"15\": 1, \"11\": 1}, \"2\": {\"57\": 1, \"2\": 23, \"8\": 2, \"7\": 2, \"33\": 4}, \"34\": {\"34\": 5, \"2\": 1, \"23\": 2, \"49\": 2, \"33\": 2, \"37\": 1, \"28\": 2, \"11\": 1, \"16\": 2, \"54\": 3, \"35\": 1, \"32\": 1, \"51\": 1, \"17\": 2, \"42\": 2}, \"1\": {\"1\": 112}, \"51\": {\"34\": 4, \"36\": 6, \"17\": 9, \"51\": 64, \"49\": 3, \"23\": 8, \"54\": 8, \"16\": 5, \"8\": 4, \"32\": 1, \"2\": 1, \"52\": 1, \"15\": 8, \"11\": 2, \"53\": 2, \"10\": 1, \"28\": 1, \"14\": 1, \"26\": 1, \"35\": 1, \"20\": 4, \"22\": 1}, \"31\": {\"31\": 23, \"23\": 1, \"42\": 2, \"37\": 2}, \"49\": {\"11\": 1, \"49\": 9, \"15\": 2, \"51\": 2, \"8\": 2, \"54\": 1, \"28\": 1, \"16\": 3, \"35\": 1, \"34\": 2}, \"14\": {\"55\": 1, \"14\": 13, \"29\": 4, \"56\": 3, \"1\": 1, \"57\": 1, \"48\": 1}, \"33\": {\"33\": 21, \"29\": 1, \"37\": 1, \"32\": 1, \"48\": 2, \"57\": 1, \"2\": 1}, \"41\": {\"27\": 1, \"33\": 1, \"2\": 4, \"30\": 1, \"8\": 1, \"39\": 1, \"41\": 4, \"52\": 4, \"17\": 1, \"48\": 1, \"20\": 1}, \"28\": {\"17\": 2, \"11\": 2, \"28\": 11, \"2\": 1, \"51\": 3, \"24\": 1, \"34\": 1, \"37\": 1, \"49\": 2, \"16\": 2, \"26\": 1, \"43\": 1}, \"5\": {\"5\": 120}, \"16\": {\"16\": 64, \"36\": 5, \"8\": 2, \"26\": 3, \"54\": 6, \"53\": 14, \"32\": 1, \"15\": 12, \"25\": 11, \"49\": 1, \"51\": 10, \"10\": 1, \"18\": 3, \"11\": 7, \"43\": 3, \"23\": 4, \"27\": 1, \"17\": 1, \"55\": 1}, \"4\": {\"4\": 126, \"44\": 1, \"40\": 1}, \"22\": {\"22\": 136}, \"6\": {\"6\": 116, \"46\": 2}, \"30\": {\"30\": 124}, \"26\": {\"26\": 14, \"28\": 1, \"8\": 2, \"54\": 1, \"18\": 1, \"16\": 1, \"15\": 2, \"25\": 1, \"53\": 1}, \"56\": {\"56\": 142}, \"42\": {\"42\": 32, \"55\": 2, \"31\": 2}, \"44\": {\"44\": 100}, \"7\": {\"7\": 29, \"10\": 1, \"36\": 1, \"57\": 1, \"33\": 2, \"8\": 2}}}, \"per_domain_accuracy\": {\"O_26\": {\"accuracy\": 0.8385416666666666, \"source?\": true}, \"O_44\": {\"accuracy\": 0.8513020833333333, \"source?\": true}, \"O_50\": {\"accuracy\": 0.9153645833333334, \"source?\": true}, \"O_38\": {\"accuracy\": 0.8942708333333333, \"source?\": true}, \"O_20\": {\"accuracy\": 0.9046875, \"source?\": true}, \"O_14\": {\"accuracy\": 0.884375, \"source?\": true}, \"O_32\": {\"accuracy\": 0.86953125, \"source?\": true}, \"O_8\": {\"accuracy\": 0.8861979166666667, \"source?\": true}, \"C_5\": {\"accuracy\": 0.7892807262569832, \"source?\": false}, \"C_1\": {\"accuracy\": 0.8024796195652174, \"source?\": false}, \"C_3\": {\"accuracy\": 0.7636029411764705, \"source?\": false}, \"C_4\": {\"accuracy\": 0.7477409638554217, \"source?\": false}, \"C_2\": {\"accuracy\": 0.7272727272727273, \"source?\": false}}}, \"history\": {\"epoch_indices\": [1, 2, 3, 4, 5, 6, 7, 8, 9, 10], \"train_label_loss\": [1.165785381721244, 1.539903618111497, 0.6704035984374406, 0.37834258841827423, 0.34655232729357, 0.3352938388258086, 0.3213550538528666, 0.310429035660456, 0.30340509056889764, 0.2970321474103479], \"source_val_label_loss\": [193.66493225097656, 1.1886014938354492, 0.4774487316608429, 0.3917369842529297, 0.37429213523864746, 0.3425511419773102, 0.3369634747505188, 0.3330399692058563, 0.3170699179172516, 0.33756330609321594], \"target_val_label_loss\": [3917.69775390625, 511.67999267578125, 497.69830322265625, 585.6514282226562, 817.8456420898438, 450.516845703125, 663.7230224609375, 820.342041015625, 1595.72998046875, 2420.804931640625], \"source_val_acc_label\": [0.40091145833333336, 0.55029296875, 0.8330729166666667, 0.86123046875, 0.86591796875, 0.8805338541666666, 0.8816080729166667, 0.88134765625, 0.8871744791666667, 0.88115234375], \"target_val_acc_label\": [0.23207142857142857, 0.5218214285714285, 0.5871428571428572, 0.6002142857142857, 0.5675714285714286, 0.7667142857142857, 0.7467857142857143, 0.7126071428571429, 0.6939642857142857, 0.6611071428571429]}, \"dataset_metrics\": {\"source\": {\"train\": {\"n_unique_x\": 179200, \"n_unique_y\": 16, \"n_batch/episode\": 6720}, \"val\": {\"n_unique_x\": 38400, \"n_unique_y\": 16, \"n_batch/episode\": 960}, \"test\": {\"n_unique_x\": 38400, \"n_unique_y\": 16, \"n_batch/episode\": 960}}, \"target\": {\"train\": {\"n_unique_x\": 175203, \"n_unique_y\": 58, \"n_batch/episode\": 6321}, \"val\": {\"n_unique_x\": 37151, \"n_unique_y\": 58, \"n_batch/episode\": 875}, \"test\": {\"n_unique_x\": 37548, \"n_unique_y\": 58, \"n_batch/episode\": 885}}}}'"
      ]
     },
     "execution_count": 29,
     "metadata": {},
     "output_type": "execute_result"
    }
   ],
   "source": [
    "json.dumps(experiment)"
   ]
  }
 ],
 "metadata": {
  "celltoolbar": "Tags",
  "kernelspec": {
   "display_name": "Python 3 (ipykernel)",
   "language": "python",
   "name": "python3"
  },
  "language_info": {
   "codemirror_mode": {
    "name": "ipython",
    "version": 3
   },
   "file_extension": ".py",
   "mimetype": "text/x-python",
   "name": "python",
   "nbconvert_exporter": "python",
   "pygments_lexer": "ipython3",
   "version": "3.8.12"
  },
  "papermill": {
   "default_parameters": {},
   "duration": 1797.724599,
   "end_time": "2022-03-28T11:40:46.900549",
   "environment_variables": {},
   "exception": null,
   "input_path": "/root/csc500-main/csc500-notebooks/templates/tl_ptn_template.ipynb",
   "output_path": "trial.ipynb",
   "parameters": {
    "parameters": {
     "BEST_MODEL_PATH": "./best_model.pth",
     "NUM_LOGS_PER_EPOCH": 10,
     "criteria_for_best": "target_accuracy",
     "dataset_seed": 7,
     "datasets": [
      {
       "domain_prefix": "C_",
       "domains": [
        1,
        2,
        3,
        4,
        5
       ],
       "episode_transforms": [],
       "labels": [
        "1-10.",
        "1-11.",
        "1-15.",
        "1-16.",
        "1-17.",
        "1-18.",
        "1-19.",
        "10-4.",
        "10-7.",
        "11-1.",
        "11-14.",
        "11-17.",
        "11-20.",
        "11-7.",
        "13-20.",
        "13-8.",
        "14-10.",
        "14-11.",
        "14-14.",
        "14-7.",
        "15-1.",
        "15-20.",
        "16-1.",
        "16-16.",
        "17-10.",
        "17-11.",
        "17-2.",
        "19-1.",
        "19-16.",
        "19-19.",
        "19-20.",
        "19-3.",
        "2-10.",
        "2-11.",
        "2-17.",
        "2-18.",
        "2-20.",
        "2-3.",
        "2-4.",
        "2-5.",
        "2-6.",
        "2-7.",
        "2-8.",
        "3-13.",
        "3-18.",
        "3-3.",
        "4-1.",
        "4-10.",
        "4-11.",
        "4-19.",
        "5-5.",
        "6-15.",
        "7-10.",
        "7-14.",
        "8-18.",
        "8-20.",
        "8-3.",
        "8-8."
       ],
       "num_examples_per_domain_per_label": -1,
       "pickle_path": "/root/csc500-main/datasets/cores.stratified_ds.2022A.pkl",
       "source_or_target_dataset": "target",
       "x_transforms": [
        "jitter_256_10",
        "lowpass_+/-10MHz",
        "take_200"
       ]
      },
      {
       "domain_prefix": "O_",
       "domains": [
        32,
        38,
        8,
        44,
        14,
        50,
        20,
        26
       ],
       "episode_transforms": [],
       "labels": [
        "3123D52",
        "3123D65",
        "3123D79",
        "3123D80",
        "3123D54",
        "3123D70",
        "3123D7B",
        "3123D89",
        "3123D58",
        "3123D76",
        "3123D7D",
        "3123EFE",
        "3123D64",
        "3123D78",
        "3123D7E",
        "3124E4A"
       ],
       "num_examples_per_domain_per_label": 2000,
       "pickle_path": "/root/csc500-main/datasets/oracle.Run1_framed_2000Examples_stratified_ds.2022A.pkl",
       "source_or_target_dataset": "source",
       "x_transforms": [
        "jitter_256_10",
        "take_200",
        "resample_20Msps_to_25Msps"
       ]
      }
     ],
     "device": "cuda",
     "experiment_name": "tl_3-jitter10v2:oracle.run1.framed -> cores",
     "lr": 0.0001,
     "n_epoch": 50,
     "n_query": 2,
     "n_shot": 3,
     "n_way": 16,
     "patience": 3,
     "seed": 7,
     "test_k_factor": 2,
     "torch_default_dtype": "torch.float32",
     "train_k_factor": 3,
     "val_k_factor": 2,
     "x_net": [
      {
       "class": "nnReshape",
       "kargs": {
        "shape": [
         -1,
         1,
         2,
         256
        ]
       }
      },
      {
       "class": "Conv2d",
       "kargs": {
        "bias": false,
        "in_channels": 1,
        "kernel_size": [
         1,
         7
        ],
        "out_channels": 256,
        "padding": [
         0,
         3
        ]
       }
      },
      {
       "class": "ReLU",
       "kargs": {
        "inplace": true
       }
      },
      {
       "class": "BatchNorm2d",
       "kargs": {
        "num_features": 256
       }
      },
      {
       "class": "Conv2d",
       "kargs": {
        "bias": true,
        "in_channels": 256,
        "kernel_size": [
         2,
         7
        ],
        "out_channels": 80,
        "padding": [
         0,
         3
        ]
       }
      },
      {
       "class": "ReLU",
       "kargs": {
        "inplace": true
       }
      },
      {
       "class": "BatchNorm2d",
       "kargs": {
        "num_features": 80
       }
      },
      {
       "class": "Flatten",
       "kargs": {}
      },
      {
       "class": "Linear",
       "kargs": {
        "in_features": 20480,
        "out_features": 256
       }
      },
      {
       "class": "ReLU",
       "kargs": {
        "inplace": true
       }
      },
      {
       "class": "BatchNorm1d",
       "kargs": {
        "num_features": 256
       }
      },
      {
       "class": "Linear",
       "kargs": {
        "in_features": 256,
        "out_features": 256
       }
      }
     ],
     "x_shape": [
      2,
      256
     ]
    }
   },
   "start_time": "2022-03-28T11:10:49.175950",
   "version": "2.3.4"
  }
 },
 "nbformat": 4,
 "nbformat_minor": 5
}