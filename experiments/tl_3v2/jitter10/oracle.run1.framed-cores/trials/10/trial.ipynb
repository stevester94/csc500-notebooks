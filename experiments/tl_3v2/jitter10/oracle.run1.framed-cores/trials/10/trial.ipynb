{
 "cells": [
  {
   "cell_type": "markdown",
   "id": "9fea5f46",
   "metadata": {
    "papermill": {
     "duration": 0.027956,
     "end_time": "2022-03-28T11:04:34.831627",
     "exception": false,
     "start_time": "2022-03-28T11:04:34.803671",
     "status": "completed"
    },
    "tags": []
   },
   "source": [
    "# Transfer Learning Template"
   ]
  },
  {
   "cell_type": "code",
   "execution_count": 1,
   "id": "0902182a",
   "metadata": {
    "execution": {
     "iopub.execute_input": "2022-03-28T11:04:34.893538Z",
     "iopub.status.busy": "2022-03-28T11:04:34.892687Z",
     "iopub.status.idle": "2022-03-28T11:04:36.701680Z",
     "shell.execute_reply": "2022-03-28T11:04:36.701181Z"
    },
    "papermill": {
     "duration": 1.847261,
     "end_time": "2022-03-28T11:04:36.701786",
     "exception": false,
     "start_time": "2022-03-28T11:04:34.854525",
     "status": "completed"
    },
    "tags": []
   },
   "outputs": [],
   "source": [
    "%load_ext autoreload\n",
    "%autoreload 2\n",
    "%matplotlib inline\n",
    "\n",
    "    \n",
    "import os, json, sys, time, random\n",
    "import numpy as np\n",
    "import torch\n",
    "from torch.optim import Adam\n",
    "from  easydict import EasyDict\n",
    "import matplotlib.pyplot as plt\n",
    "\n",
    "from steves_models.steves_ptn import Steves_Prototypical_Network\n",
    "\n",
    "from steves_utils.lazy_iterable_wrapper import Lazy_Iterable_Wrapper\n",
    "from steves_utils.iterable_aggregator import Iterable_Aggregator\n",
    "from steves_utils.ptn_train_eval_test_jig import  PTN_Train_Eval_Test_Jig\n",
    "from steves_utils.torch_sequential_builder import build_sequential\n",
    "from steves_utils.torch_utils import get_dataset_metrics, ptn_confusion_by_domain_over_dataloader\n",
    "from steves_utils.utils_v2 import (per_domain_accuracy_from_confusion, get_datasets_base_path)\n",
    "from steves_utils.PTN.utils import independent_accuracy_assesment\n",
    "\n",
    "from torch.utils.data import DataLoader\n",
    "\n",
    "from steves_utils.stratified_dataset.episodic_accessor import Episodic_Accessor_Factory\n",
    "\n",
    "from steves_utils.ptn_do_report import (\n",
    "    get_loss_curve,\n",
    "    get_results_table,\n",
    "    get_parameters_table,\n",
    "    get_domain_accuracies,\n",
    ")\n",
    "\n",
    "from steves_utils.transforms import get_chained_transform"
   ]
  },
  {
   "cell_type": "markdown",
   "id": "41c840b4",
   "metadata": {
    "papermill": {
     "duration": 0.019009,
     "end_time": "2022-03-28T11:04:36.740710",
     "exception": false,
     "start_time": "2022-03-28T11:04:36.721701",
     "status": "completed"
    },
    "tags": []
   },
   "source": [
    "# Allowed Parameters\n",
    "These are allowed parameters, not defaults\n",
    "Each of these values need to be present in the injected parameters (the notebook will raise an exception if they are not present)\n",
    "\n",
    "Papermill uses the cell tag \"parameters\" to inject the real parameters below this cell.\n",
    "Enable tags to see what I mean"
   ]
  },
  {
   "cell_type": "code",
   "execution_count": 2,
   "id": "fd44eb83",
   "metadata": {
    "execution": {
     "iopub.execute_input": "2022-03-28T11:04:36.783639Z",
     "iopub.status.busy": "2022-03-28T11:04:36.783239Z",
     "iopub.status.idle": "2022-03-28T11:04:36.805077Z",
     "shell.execute_reply": "2022-03-28T11:04:36.804369Z"
    },
    "papermill": {
     "duration": 0.044953,
     "end_time": "2022-03-28T11:04:36.805232",
     "exception": false,
     "start_time": "2022-03-28T11:04:36.760279",
     "status": "completed"
    },
    "tags": []
   },
   "outputs": [],
   "source": [
    "required_parameters = {\n",
    "    \"experiment_name\",\n",
    "    \"lr\",\n",
    "    \"device\",\n",
    "    \"seed\",\n",
    "    \"dataset_seed\",\n",
    "    \"n_shot\",\n",
    "    \"n_query\",\n",
    "    \"n_way\",\n",
    "    \"train_k_factor\",\n",
    "    \"val_k_factor\",\n",
    "    \"test_k_factor\",\n",
    "    \"n_epoch\",\n",
    "    \"patience\",\n",
    "    \"criteria_for_best\",\n",
    "    \"x_net\",\n",
    "    \"datasets\",\n",
    "    \"torch_default_dtype\",\n",
    "    \"NUM_LOGS_PER_EPOCH\",\n",
    "    \"BEST_MODEL_PATH\",\n",
    "    \"x_shape\",\n",
    "}"
   ]
  },
  {
   "cell_type": "code",
   "execution_count": 3,
   "id": "fa3f0049",
   "metadata": {
    "execution": {
     "iopub.execute_input": "2022-03-28T11:04:36.857876Z",
     "iopub.status.busy": "2022-03-28T11:04:36.857178Z",
     "iopub.status.idle": "2022-03-28T11:04:36.880531Z",
     "shell.execute_reply": "2022-03-28T11:04:36.879721Z"
    },
    "papermill": {
     "duration": 0.05245,
     "end_time": "2022-03-28T11:04:36.880687",
     "exception": false,
     "start_time": "2022-03-28T11:04:36.828237",
     "status": "completed"
    },
    "tags": [
     "parameters"
    ]
   },
   "outputs": [],
   "source": [
    "from steves_utils.CORES.utils import (\n",
    "    ALL_NODES,\n",
    "    ALL_NODES_MINIMUM_1000_EXAMPLES,\n",
    "    ALL_DAYS\n",
    ")\n",
    "\n",
    "from steves_utils.ORACLE.utils_v2 import (\n",
    "    ALL_DISTANCES_FEET_NARROWED,\n",
    "    ALL_RUNS,\n",
    "    ALL_SERIAL_NUMBERS,\n",
    ")\n",
    "\n",
    "standalone_parameters = {}\n",
    "standalone_parameters[\"experiment_name\"] = \"STANDALONE PTN\"\n",
    "standalone_parameters[\"lr\"] = 0.001\n",
    "standalone_parameters[\"device\"] = \"cuda\"\n",
    "\n",
    "standalone_parameters[\"seed\"] = 1337\n",
    "standalone_parameters[\"dataset_seed\"] = 1337\n",
    "\n",
    "standalone_parameters[\"n_way\"] = 8\n",
    "standalone_parameters[\"n_shot\"] = 3\n",
    "standalone_parameters[\"n_query\"]  = 2\n",
    "standalone_parameters[\"train_k_factor\"] = 1\n",
    "standalone_parameters[\"val_k_factor\"] = 2\n",
    "standalone_parameters[\"test_k_factor\"] = 2\n",
    "\n",
    "\n",
    "standalone_parameters[\"n_epoch\"] = 50\n",
    "\n",
    "standalone_parameters[\"patience\"] = 10\n",
    "standalone_parameters[\"criteria_for_best\"] = \"source_loss\"\n",
    "\n",
    "standalone_parameters[\"datasets\"] = [\n",
    "    {\n",
    "        \"labels\": ALL_SERIAL_NUMBERS,\n",
    "        \"domains\": ALL_DISTANCES_FEET_NARROWED,\n",
    "        \"num_examples_per_domain_per_label\": 100,\n",
    "        \"pickle_path\": os.path.join(get_datasets_base_path(), \"oracle.Run1_framed_2000Examples_stratified_ds.2022A.pkl\"),\n",
    "        \"source_or_target_dataset\": \"source\",\n",
    "        \"x_transforms\": [\"unit_mag\", \"minus_two\"],\n",
    "        \"episode_transforms\": [],\n",
    "        \"domain_prefix\": \"ORACLE_\"\n",
    "    },\n",
    "    {\n",
    "        \"labels\": ALL_NODES,\n",
    "        \"domains\": ALL_DAYS,\n",
    "        \"num_examples_per_domain_per_label\": 100,\n",
    "        \"pickle_path\": os.path.join(get_datasets_base_path(), \"cores.stratified_ds.2022A.pkl\"),\n",
    "        \"source_or_target_dataset\": \"target\",\n",
    "        \"x_transforms\": [\"unit_power\", \"times_zero\"],\n",
    "        \"episode_transforms\": [],\n",
    "        \"domain_prefix\": \"CORES_\"\n",
    "    }   \n",
    "]\n",
    "\n",
    "standalone_parameters[\"torch_default_dtype\"] = \"torch.float32\" \n",
    "\n",
    "\n",
    "\n",
    "standalone_parameters[\"x_net\"] =     [\n",
    "    {\"class\": \"nnReshape\", \"kargs\": {\"shape\":[-1, 1, 2, 256]}},\n",
    "    {\"class\": \"Conv2d\", \"kargs\": { \"in_channels\":1, \"out_channels\":256, \"kernel_size\":(1,7), \"bias\":False, \"padding\":(0,3), },},\n",
    "    {\"class\": \"ReLU\", \"kargs\": {\"inplace\": True}},\n",
    "    {\"class\": \"BatchNorm2d\", \"kargs\": {\"num_features\":256}},\n",
    "\n",
    "    {\"class\": \"Conv2d\", \"kargs\": { \"in_channels\":256, \"out_channels\":80, \"kernel_size\":(2,7), \"bias\":True, \"padding\":(0,3), },},\n",
    "    {\"class\": \"ReLU\", \"kargs\": {\"inplace\": True}},\n",
    "    {\"class\": \"BatchNorm2d\", \"kargs\": {\"num_features\":80}},\n",
    "    {\"class\": \"Flatten\", \"kargs\": {}},\n",
    "\n",
    "    {\"class\": \"Linear\", \"kargs\": {\"in_features\": 80*256, \"out_features\": 256}}, # 80 units per IQ pair\n",
    "    {\"class\": \"ReLU\", \"kargs\": {\"inplace\": True}},\n",
    "    {\"class\": \"BatchNorm1d\", \"kargs\": {\"num_features\":256}},\n",
    "\n",
    "    {\"class\": \"Linear\", \"kargs\": {\"in_features\": 256, \"out_features\": 256}},\n",
    "]\n",
    "\n",
    "# Parameters relevant to results\n",
    "# These parameters will basically never need to change\n",
    "standalone_parameters[\"NUM_LOGS_PER_EPOCH\"] = 10\n",
    "standalone_parameters[\"BEST_MODEL_PATH\"] = \"./best_model.pth\"\n",
    "\n",
    "\n",
    "\n",
    "\n"
   ]
  },
  {
   "cell_type": "code",
   "execution_count": 4,
   "id": "cc9358a9",
   "metadata": {
    "execution": {
     "iopub.execute_input": "2022-03-28T11:04:36.936753Z",
     "iopub.status.busy": "2022-03-28T11:04:36.935792Z",
     "iopub.status.idle": "2022-03-28T11:04:36.955190Z",
     "shell.execute_reply": "2022-03-28T11:04:36.954384Z"
    },
    "papermill": {
     "duration": 0.049045,
     "end_time": "2022-03-28T11:04:36.955344",
     "exception": false,
     "start_time": "2022-03-28T11:04:36.906299",
     "status": "completed"
    },
    "tags": [
     "injected-parameters"
    ]
   },
   "outputs": [],
   "source": [
    "# Parameters\n",
    "parameters = {\n",
    "    \"experiment_name\": \"tl_3-jitter10v2:oracle.run1.framed -> cores\",\n",
    "    \"device\": \"cuda\",\n",
    "    \"lr\": 0.0001,\n",
    "    \"x_shape\": [2, 256],\n",
    "    \"n_shot\": 3,\n",
    "    \"n_query\": 2,\n",
    "    \"train_k_factor\": 3,\n",
    "    \"val_k_factor\": 2,\n",
    "    \"test_k_factor\": 2,\n",
    "    \"torch_default_dtype\": \"torch.float32\",\n",
    "    \"n_epoch\": 50,\n",
    "    \"patience\": 3,\n",
    "    \"criteria_for_best\": \"target_accuracy\",\n",
    "    \"x_net\": [\n",
    "        {\"class\": \"nnReshape\", \"kargs\": {\"shape\": [-1, 1, 2, 256]}},\n",
    "        {\n",
    "            \"class\": \"Conv2d\",\n",
    "            \"kargs\": {\n",
    "                \"in_channels\": 1,\n",
    "                \"out_channels\": 256,\n",
    "                \"kernel_size\": [1, 7],\n",
    "                \"bias\": False,\n",
    "                \"padding\": [0, 3],\n",
    "            },\n",
    "        },\n",
    "        {\"class\": \"ReLU\", \"kargs\": {\"inplace\": True}},\n",
    "        {\"class\": \"BatchNorm2d\", \"kargs\": {\"num_features\": 256}},\n",
    "        {\n",
    "            \"class\": \"Conv2d\",\n",
    "            \"kargs\": {\n",
    "                \"in_channels\": 256,\n",
    "                \"out_channels\": 80,\n",
    "                \"kernel_size\": [2, 7],\n",
    "                \"bias\": True,\n",
    "                \"padding\": [0, 3],\n",
    "            },\n",
    "        },\n",
    "        {\"class\": \"ReLU\", \"kargs\": {\"inplace\": True}},\n",
    "        {\"class\": \"BatchNorm2d\", \"kargs\": {\"num_features\": 80}},\n",
    "        {\"class\": \"Flatten\", \"kargs\": {}},\n",
    "        {\"class\": \"Linear\", \"kargs\": {\"in_features\": 20480, \"out_features\": 256}},\n",
    "        {\"class\": \"ReLU\", \"kargs\": {\"inplace\": True}},\n",
    "        {\"class\": \"BatchNorm1d\", \"kargs\": {\"num_features\": 256}},\n",
    "        {\"class\": \"Linear\", \"kargs\": {\"in_features\": 256, \"out_features\": 256}},\n",
    "    ],\n",
    "    \"NUM_LOGS_PER_EPOCH\": 10,\n",
    "    \"BEST_MODEL_PATH\": \"./best_model.pth\",\n",
    "    \"n_way\": 16,\n",
    "    \"datasets\": [\n",
    "        {\n",
    "            \"labels\": [\n",
    "                \"1-10.\",\n",
    "                \"1-11.\",\n",
    "                \"1-15.\",\n",
    "                \"1-16.\",\n",
    "                \"1-17.\",\n",
    "                \"1-18.\",\n",
    "                \"1-19.\",\n",
    "                \"10-4.\",\n",
    "                \"10-7.\",\n",
    "                \"11-1.\",\n",
    "                \"11-14.\",\n",
    "                \"11-17.\",\n",
    "                \"11-20.\",\n",
    "                \"11-7.\",\n",
    "                \"13-20.\",\n",
    "                \"13-8.\",\n",
    "                \"14-10.\",\n",
    "                \"14-11.\",\n",
    "                \"14-14.\",\n",
    "                \"14-7.\",\n",
    "                \"15-1.\",\n",
    "                \"15-20.\",\n",
    "                \"16-1.\",\n",
    "                \"16-16.\",\n",
    "                \"17-10.\",\n",
    "                \"17-11.\",\n",
    "                \"17-2.\",\n",
    "                \"19-1.\",\n",
    "                \"19-16.\",\n",
    "                \"19-19.\",\n",
    "                \"19-20.\",\n",
    "                \"19-3.\",\n",
    "                \"2-10.\",\n",
    "                \"2-11.\",\n",
    "                \"2-17.\",\n",
    "                \"2-18.\",\n",
    "                \"2-20.\",\n",
    "                \"2-3.\",\n",
    "                \"2-4.\",\n",
    "                \"2-5.\",\n",
    "                \"2-6.\",\n",
    "                \"2-7.\",\n",
    "                \"2-8.\",\n",
    "                \"3-13.\",\n",
    "                \"3-18.\",\n",
    "                \"3-3.\",\n",
    "                \"4-1.\",\n",
    "                \"4-10.\",\n",
    "                \"4-11.\",\n",
    "                \"4-19.\",\n",
    "                \"5-5.\",\n",
    "                \"6-15.\",\n",
    "                \"7-10.\",\n",
    "                \"7-14.\",\n",
    "                \"8-18.\",\n",
    "                \"8-20.\",\n",
    "                \"8-3.\",\n",
    "                \"8-8.\",\n",
    "            ],\n",
    "            \"domains\": [1, 2, 3, 4, 5],\n",
    "            \"num_examples_per_domain_per_label\": -1,\n",
    "            \"pickle_path\": \"/root/csc500-main/datasets/cores.stratified_ds.2022A.pkl\",\n",
    "            \"source_or_target_dataset\": \"target\",\n",
    "            \"x_transforms\": [\n",
    "                \"unit_mag\",\n",
    "                \"jitter_256_10\",\n",
    "                \"lowpass_+/-10MHz\",\n",
    "                \"take_200\",\n",
    "            ],\n",
    "            \"episode_transforms\": [],\n",
    "            \"domain_prefix\": \"C_\",\n",
    "        },\n",
    "        {\n",
    "            \"labels\": [\n",
    "                \"3123D52\",\n",
    "                \"3123D65\",\n",
    "                \"3123D79\",\n",
    "                \"3123D80\",\n",
    "                \"3123D54\",\n",
    "                \"3123D70\",\n",
    "                \"3123D7B\",\n",
    "                \"3123D89\",\n",
    "                \"3123D58\",\n",
    "                \"3123D76\",\n",
    "                \"3123D7D\",\n",
    "                \"3123EFE\",\n",
    "                \"3123D64\",\n",
    "                \"3123D78\",\n",
    "                \"3123D7E\",\n",
    "                \"3124E4A\",\n",
    "            ],\n",
    "            \"domains\": [32, 38, 8, 44, 14, 50, 20, 26],\n",
    "            \"num_examples_per_domain_per_label\": 2000,\n",
    "            \"pickle_path\": \"/root/csc500-main/datasets/oracle.Run1_framed_2000Examples_stratified_ds.2022A.pkl\",\n",
    "            \"source_or_target_dataset\": \"source\",\n",
    "            \"x_transforms\": [\n",
    "                \"unit_mag\",\n",
    "                \"jitter_256_10\",\n",
    "                \"take_200\",\n",
    "                \"resample_20Msps_to_25Msps\",\n",
    "            ],\n",
    "            \"episode_transforms\": [],\n",
    "            \"domain_prefix\": \"O_\",\n",
    "        },\n",
    "    ],\n",
    "    \"seed\": 7,\n",
    "    \"dataset_seed\": 7,\n",
    "}\n"
   ]
  },
  {
   "cell_type": "code",
   "execution_count": 5,
   "id": "8fa1cc33",
   "metadata": {
    "execution": {
     "iopub.execute_input": "2022-03-28T11:04:37.008846Z",
     "iopub.status.busy": "2022-03-28T11:04:37.008259Z",
     "iopub.status.idle": "2022-03-28T11:04:37.026156Z",
     "shell.execute_reply": "2022-03-28T11:04:37.025350Z"
    },
    "papermill": {
     "duration": 0.041956,
     "end_time": "2022-03-28T11:04:37.026311",
     "exception": false,
     "start_time": "2022-03-28T11:04:36.984355",
     "status": "completed"
    },
    "tags": []
   },
   "outputs": [],
   "source": [
    "# Set this to True if you want to run this template directly\n",
    "STANDALONE = False\n",
    "if STANDALONE:\n",
    "    print(\"parameters not injected, running with standalone_parameters\")\n",
    "    parameters = standalone_parameters\n",
    "\n",
    "if not 'parameters' in locals() and not 'parameters' in globals():\n",
    "    raise Exception(\"Parameter injection failed\")\n",
    "\n",
    "#Use an easy dict for all the parameters\n",
    "p = EasyDict(parameters)\n",
    "\n",
    "if \"x_shape\" not in p:\n",
    "    p.x_shape = [2,256] # Default to this if we dont supply x_shape\n",
    "\n",
    "\n",
    "supplied_keys = set(p.keys())\n",
    "\n",
    "if  supplied_keys != required_parameters:\n",
    "    print(\"Parameters are incorrect\")\n",
    "    if len(supplied_keys - required_parameters)>0: print(\"Shouldn't have:\", str(supplied_keys - required_parameters))\n",
    "    if len(required_parameters - supplied_keys)>0: print(\"Need to have:\", str(required_parameters - supplied_keys))\n",
    "    raise RuntimeError(\"Parameters are incorrect\")"
   ]
  },
  {
   "cell_type": "code",
   "execution_count": 6,
   "id": "3a028d58",
   "metadata": {
    "execution": {
     "iopub.execute_input": "2022-03-28T11:04:37.073004Z",
     "iopub.status.busy": "2022-03-28T11:04:37.072639Z",
     "iopub.status.idle": "2022-03-28T11:04:37.090985Z",
     "shell.execute_reply": "2022-03-28T11:04:37.090184Z"
    },
    "papermill": {
     "duration": 0.040624,
     "end_time": "2022-03-28T11:04:37.091140",
     "exception": false,
     "start_time": "2022-03-28T11:04:37.050516",
     "status": "completed"
    },
    "tags": []
   },
   "outputs": [],
   "source": [
    "###################################\n",
    "# Set the RNGs and make it all deterministic\n",
    "###################################\n",
    "np.random.seed(p.seed)\n",
    "random.seed(p.seed)\n",
    "torch.manual_seed(p.seed)\n",
    "\n",
    "torch.use_deterministic_algorithms(True) "
   ]
  },
  {
   "cell_type": "code",
   "execution_count": 7,
   "id": "b691acf6",
   "metadata": {
    "execution": {
     "iopub.execute_input": "2022-03-28T11:04:37.142864Z",
     "iopub.status.busy": "2022-03-28T11:04:37.142085Z",
     "iopub.status.idle": "2022-03-28T11:04:37.160003Z",
     "shell.execute_reply": "2022-03-28T11:04:37.159167Z"
    },
    "papermill": {
     "duration": 0.040175,
     "end_time": "2022-03-28T11:04:37.160159",
     "exception": false,
     "start_time": "2022-03-28T11:04:37.119984",
     "status": "completed"
    },
    "tags": []
   },
   "outputs": [],
   "source": [
    "###########################################\n",
    "# The stratified datasets honor this\n",
    "###########################################\n",
    "torch.set_default_dtype(eval(p.torch_default_dtype))"
   ]
  },
  {
   "cell_type": "code",
   "execution_count": 8,
   "id": "b5fba671",
   "metadata": {
    "execution": {
     "iopub.execute_input": "2022-03-28T11:04:37.208846Z",
     "iopub.status.busy": "2022-03-28T11:04:37.208482Z",
     "iopub.status.idle": "2022-03-28T11:04:37.259818Z",
     "shell.execute_reply": "2022-03-28T11:04:37.259098Z"
    },
    "papermill": {
     "duration": 0.07364,
     "end_time": "2022-03-28T11:04:37.259971",
     "exception": false,
     "start_time": "2022-03-28T11:04:37.186331",
     "status": "completed"
    },
    "tags": []
   },
   "outputs": [],
   "source": [
    "###################################\n",
    "# Build the network(s)\n",
    "# Note: It's critical to do this AFTER setting the RNG\n",
    "###################################\n",
    "x_net = build_sequential(p.x_net)"
   ]
  },
  {
   "cell_type": "code",
   "execution_count": 9,
   "id": "5d7e61cc",
   "metadata": {
    "execution": {
     "iopub.execute_input": "2022-03-28T11:04:37.307378Z",
     "iopub.status.busy": "2022-03-28T11:04:37.307014Z",
     "iopub.status.idle": "2022-03-28T11:04:37.328657Z",
     "shell.execute_reply": "2022-03-28T11:04:37.327859Z"
    },
    "papermill": {
     "duration": 0.044701,
     "end_time": "2022-03-28T11:04:37.328814",
     "exception": false,
     "start_time": "2022-03-28T11:04:37.284113",
     "status": "completed"
    },
    "tags": []
   },
   "outputs": [],
   "source": [
    "start_time_secs = time.time()"
   ]
  },
  {
   "cell_type": "code",
   "execution_count": 10,
   "id": "c6b67dfd",
   "metadata": {
    "execution": {
     "iopub.execute_input": "2022-03-28T11:04:37.378054Z",
     "iopub.status.busy": "2022-03-28T11:04:37.377626Z",
     "iopub.status.idle": "2022-03-28T11:04:37.395732Z",
     "shell.execute_reply": "2022-03-28T11:04:37.394911Z"
    },
    "papermill": {
     "duration": 0.041018,
     "end_time": "2022-03-28T11:04:37.395888",
     "exception": false,
     "start_time": "2022-03-28T11:04:37.354870",
     "status": "completed"
    },
    "tags": []
   },
   "outputs": [],
   "source": [
    "p.domains_source = []\n",
    "p.domains_target = []\n",
    "\n",
    "\n",
    "train_original_source = []\n",
    "val_original_source   = []\n",
    "test_original_source  = []\n",
    "\n",
    "train_original_target = []\n",
    "val_original_target   = []\n",
    "test_original_target  = []"
   ]
  },
  {
   "cell_type": "code",
   "execution_count": 11,
   "id": "e3d9c3d3",
   "metadata": {
    "execution": {
     "iopub.execute_input": "2022-03-28T11:04:37.446535Z",
     "iopub.status.busy": "2022-03-28T11:04:37.446168Z",
     "iopub.status.idle": "2022-03-28T11:04:37.468519Z",
     "shell.execute_reply": "2022-03-28T11:04:37.467719Z"
    },
    "papermill": {
     "duration": 0.046627,
     "end_time": "2022-03-28T11:04:37.468673",
     "exception": false,
     "start_time": "2022-03-28T11:04:37.422046",
     "status": "completed"
    },
    "tags": []
   },
   "outputs": [],
   "source": [
    "# global_x_transform_func = lambda x: normalize(x.to(torch.get_default_dtype()), \"unit_power\") # unit_power, unit_mag\n",
    "# global_x_transform_func = lambda x: normalize(x, \"unit_power\") # unit_power, unit_mag"
   ]
  },
  {
   "cell_type": "code",
   "execution_count": 12,
   "id": "acb78fd2",
   "metadata": {
    "execution": {
     "iopub.execute_input": "2022-03-28T11:04:37.522650Z",
     "iopub.status.busy": "2022-03-28T11:04:37.522267Z",
     "iopub.status.idle": "2022-03-28T11:04:37.540858Z",
     "shell.execute_reply": "2022-03-28T11:04:37.540154Z"
    },
    "papermill": {
     "duration": 0.045602,
     "end_time": "2022-03-28T11:04:37.541008",
     "exception": false,
     "start_time": "2022-03-28T11:04:37.495406",
     "status": "completed"
    },
    "tags": []
   },
   "outputs": [],
   "source": [
    "def add_dataset(\n",
    "    labels,\n",
    "    domains,\n",
    "    pickle_path,\n",
    "    x_transforms,\n",
    "    episode_transforms,\n",
    "    domain_prefix,\n",
    "    num_examples_per_domain_per_label,\n",
    "    source_or_target_dataset:str,\n",
    "    iterator_seed=p.seed,\n",
    "    dataset_seed=p.dataset_seed,\n",
    "    n_shot=p.n_shot,\n",
    "    n_way=p.n_way,\n",
    "    n_query=p.n_query,\n",
    "    train_val_test_k_factors=(p.train_k_factor,p.val_k_factor,p.test_k_factor),\n",
    "):\n",
    "   \n",
    "    if x_transforms == []: x_transform = None\n",
    "    else: x_transform = get_chained_transform(x_transforms)\n",
    "    \n",
    "    if episode_transforms == []: episode_transform = None\n",
    "    else: raise Exception(\"episode_transforms not implemented\")\n",
    "    \n",
    "    episode_transform = lambda tup, _prefix=domain_prefix: (_prefix + str(tup[0]), tup[1])\n",
    "\n",
    "\n",
    "    eaf = Episodic_Accessor_Factory(\n",
    "        labels=labels,\n",
    "        domains=domains,\n",
    "        num_examples_per_domain_per_label=num_examples_per_domain_per_label,\n",
    "        iterator_seed=iterator_seed,\n",
    "        dataset_seed=dataset_seed,\n",
    "        n_shot=n_shot,\n",
    "        n_way=n_way,\n",
    "        n_query=n_query,\n",
    "        train_val_test_k_factors=train_val_test_k_factors,\n",
    "        pickle_path=pickle_path,\n",
    "        x_transform_func=x_transform,\n",
    "    )\n",
    "\n",
    "    train, val, test = eaf.get_train(), eaf.get_val(), eaf.get_test()\n",
    "    train = Lazy_Iterable_Wrapper(train, episode_transform)\n",
    "    val = Lazy_Iterable_Wrapper(val, episode_transform)\n",
    "    test = Lazy_Iterable_Wrapper(test, episode_transform)\n",
    "\n",
    "    if source_or_target_dataset==\"source\":\n",
    "        train_original_source.append(train)\n",
    "        val_original_source.append(val)\n",
    "        test_original_source.append(test)\n",
    "\n",
    "        p.domains_source.extend(\n",
    "            [domain_prefix + str(u) for u in domains]\n",
    "        )\n",
    "    elif source_or_target_dataset==\"target\":\n",
    "        train_original_target.append(train)\n",
    "        val_original_target.append(val)\n",
    "        test_original_target.append(test)\n",
    "        p.domains_target.extend(\n",
    "            [domain_prefix + str(u) for u in domains]\n",
    "        )\n",
    "    else:\n",
    "        raise Exception(f\"invalid source_or_target_dataset: {source_or_target_dataset}\")\n",
    "    "
   ]
  },
  {
   "cell_type": "code",
   "execution_count": 13,
   "id": "fe266617",
   "metadata": {
    "execution": {
     "iopub.execute_input": "2022-03-28T11:04:37.600511Z",
     "iopub.status.busy": "2022-03-28T11:04:37.600145Z",
     "iopub.status.idle": "2022-03-28T11:06:27.048093Z",
     "shell.execute_reply": "2022-03-28T11:06:27.047308Z"
    },
    "papermill": {
     "duration": 109.478282,
     "end_time": "2022-03-28T11:06:27.048284",
     "exception": false,
     "start_time": "2022-03-28T11:04:37.570002",
     "status": "completed"
    },
    "tags": []
   },
   "outputs": [],
   "source": [
    "for ds in p.datasets:\n",
    "    add_dataset(**ds)"
   ]
  },
  {
   "cell_type": "code",
   "execution_count": 14,
   "id": "b90d65ac",
   "metadata": {
    "execution": {
     "iopub.execute_input": "2022-03-28T11:06:27.098970Z",
     "iopub.status.busy": "2022-03-28T11:06:27.098588Z",
     "iopub.status.idle": "2022-03-28T11:06:27.125230Z",
     "shell.execute_reply": "2022-03-28T11:06:27.124412Z"
    },
    "papermill": {
     "duration": 0.05136,
     "end_time": "2022-03-28T11:06:27.125392",
     "exception": false,
     "start_time": "2022-03-28T11:06:27.074032",
     "status": "completed"
    },
    "tags": []
   },
   "outputs": [],
   "source": [
    "# from steves_utils.CORES.utils import (\n",
    "#     ALL_NODES,\n",
    "#     ALL_NODES_MINIMUM_1000_EXAMPLES,\n",
    "#     ALL_DAYS\n",
    "# )\n",
    "\n",
    "# add_dataset(\n",
    "#     labels=ALL_NODES,\n",
    "#     domains = ALL_DAYS,\n",
    "#     num_examples_per_domain_per_label=100,\n",
    "#     pickle_path=os.path.join(get_datasets_base_path(), \"cores.stratified_ds.2022A.pkl\"),\n",
    "#     source_or_target_dataset=\"target\",\n",
    "#     x_transform_func=global_x_transform_func,\n",
    "#     domain_modifier=lambda u: f\"cores_{u}\"\n",
    "# )"
   ]
  },
  {
   "cell_type": "code",
   "execution_count": 15,
   "id": "76db484d",
   "metadata": {
    "execution": {
     "iopub.execute_input": "2022-03-28T11:06:27.175574Z",
     "iopub.status.busy": "2022-03-28T11:06:27.175178Z",
     "iopub.status.idle": "2022-03-28T11:06:27.196379Z",
     "shell.execute_reply": "2022-03-28T11:06:27.195558Z"
    },
    "papermill": {
     "duration": 0.044546,
     "end_time": "2022-03-28T11:06:27.196537",
     "exception": false,
     "start_time": "2022-03-28T11:06:27.151991",
     "status": "completed"
    },
    "tags": []
   },
   "outputs": [],
   "source": [
    "# from steves_utils.ORACLE.utils_v2 import (\n",
    "#     ALL_DISTANCES_FEET,\n",
    "#     ALL_RUNS,\n",
    "#     ALL_SERIAL_NUMBERS,\n",
    "# )\n",
    "\n",
    "\n",
    "# add_dataset(\n",
    "#     labels=ALL_SERIAL_NUMBERS,\n",
    "#     domains = list(set(ALL_DISTANCES_FEET) - {2,62}),\n",
    "#     num_examples_per_domain_per_label=100,\n",
    "#     pickle_path=os.path.join(get_datasets_base_path(), \"oracle.Run2_framed_2000Examples_stratified_ds.2022A.pkl\"),\n",
    "#     source_or_target_dataset=\"source\",\n",
    "#     x_transform_func=global_x_transform_func,\n",
    "#     domain_modifier=lambda u: f\"oracle1_{u}\"\n",
    "# )\n"
   ]
  },
  {
   "cell_type": "code",
   "execution_count": 16,
   "id": "97dea9d2",
   "metadata": {
    "execution": {
     "iopub.execute_input": "2022-03-28T11:06:27.250131Z",
     "iopub.status.busy": "2022-03-28T11:06:27.249755Z",
     "iopub.status.idle": "2022-03-28T11:06:27.266964Z",
     "shell.execute_reply": "2022-03-28T11:06:27.266251Z"
    },
    "papermill": {
     "duration": 0.040844,
     "end_time": "2022-03-28T11:06:27.267121",
     "exception": false,
     "start_time": "2022-03-28T11:06:27.226277",
     "status": "completed"
    },
    "tags": []
   },
   "outputs": [],
   "source": [
    "# from steves_utils.ORACLE.utils_v2 import (\n",
    "#     ALL_DISTANCES_FEET,\n",
    "#     ALL_RUNS,\n",
    "#     ALL_SERIAL_NUMBERS,\n",
    "# )\n",
    "\n",
    "\n",
    "# add_dataset(\n",
    "#     labels=ALL_SERIAL_NUMBERS,\n",
    "#     domains = list(set(ALL_DISTANCES_FEET) - {2,62,56}),\n",
    "#     num_examples_per_domain_per_label=100,\n",
    "#     pickle_path=os.path.join(get_datasets_base_path(), \"oracle.Run2_framed_2000Examples_stratified_ds.2022A.pkl\"),\n",
    "#     source_or_target_dataset=\"source\",\n",
    "#     x_transform_func=global_x_transform_func,\n",
    "#     domain_modifier=lambda u: f\"oracle2_{u}\"\n",
    "# )"
   ]
  },
  {
   "cell_type": "code",
   "execution_count": 17,
   "id": "6f289866",
   "metadata": {
    "execution": {
     "iopub.execute_input": "2022-03-28T11:06:27.329286Z",
     "iopub.status.busy": "2022-03-28T11:06:27.319049Z",
     "iopub.status.idle": "2022-03-28T11:06:27.340512Z",
     "shell.execute_reply": "2022-03-28T11:06:27.339699Z"
    },
    "papermill": {
     "duration": 0.04543,
     "end_time": "2022-03-28T11:06:27.340668",
     "exception": false,
     "start_time": "2022-03-28T11:06:27.295238",
     "status": "completed"
    },
    "tags": []
   },
   "outputs": [],
   "source": [
    "# add_dataset(\n",
    "#     labels=list(range(19)),\n",
    "#     domains = [0,1,2],\n",
    "#     num_examples_per_domain_per_label=100,\n",
    "#     pickle_path=os.path.join(get_datasets_base_path(), \"metehan.stratified_ds.2022A.pkl\"),\n",
    "#     source_or_target_dataset=\"target\",\n",
    "#     x_transform_func=global_x_transform_func,\n",
    "#     domain_modifier=lambda u: f\"met_{u}\"\n",
    "# )"
   ]
  },
  {
   "cell_type": "code",
   "execution_count": 18,
   "id": "86a863c3",
   "metadata": {
    "execution": {
     "iopub.execute_input": "2022-03-28T11:06:27.394018Z",
     "iopub.status.busy": "2022-03-28T11:06:27.393447Z",
     "iopub.status.idle": "2022-03-28T11:06:27.416193Z",
     "shell.execute_reply": "2022-03-28T11:06:27.415623Z"
    },
    "papermill": {
     "duration": 0.048048,
     "end_time": "2022-03-28T11:06:27.416317",
     "exception": false,
     "start_time": "2022-03-28T11:06:27.368269",
     "status": "completed"
    },
    "tags": []
   },
   "outputs": [],
   "source": [
    "# # from steves_utils.wisig.utils import (\n",
    "# #     ALL_NODES_MINIMUM_100_EXAMPLES,\n",
    "# #     ALL_NODES_MINIMUM_500_EXAMPLES,\n",
    "# #     ALL_NODES_MINIMUM_1000_EXAMPLES,\n",
    "# #     ALL_DAYS\n",
    "# # )\n",
    "\n",
    "# import steves_utils.wisig.utils as wisig\n",
    "\n",
    "\n",
    "# add_dataset(\n",
    "#     labels=wisig.ALL_NODES_MINIMUM_100_EXAMPLES,\n",
    "#     domains = wisig.ALL_DAYS,\n",
    "#     num_examples_per_domain_per_label=100,\n",
    "#     pickle_path=os.path.join(get_datasets_base_path(), \"wisig.node3-19.stratified_ds.2022A.pkl\"),\n",
    "#     source_or_target_dataset=\"target\",\n",
    "#     x_transform_func=global_x_transform_func,\n",
    "#     domain_modifier=lambda u: f\"wisig_{u}\"\n",
    "# )"
   ]
  },
  {
   "cell_type": "code",
   "execution_count": 19,
   "id": "fd5442bc",
   "metadata": {
    "execution": {
     "iopub.execute_input": "2022-03-28T11:06:27.469621Z",
     "iopub.status.busy": "2022-03-28T11:06:27.469233Z",
     "iopub.status.idle": "2022-03-28T11:06:27.487991Z",
     "shell.execute_reply": "2022-03-28T11:06:27.487139Z"
    },
    "papermill": {
     "duration": 0.04495,
     "end_time": "2022-03-28T11:06:27.488156",
     "exception": false,
     "start_time": "2022-03-28T11:06:27.443206",
     "status": "completed"
    },
    "tags": []
   },
   "outputs": [],
   "source": [
    "###################################\n",
    "# Build the dataset\n",
    "###################################\n",
    "train_original_source = Iterable_Aggregator(train_original_source, p.seed)\n",
    "val_original_source = Iterable_Aggregator(val_original_source, p.seed)\n",
    "test_original_source = Iterable_Aggregator(test_original_source, p.seed)\n",
    "\n",
    "\n",
    "train_original_target = Iterable_Aggregator(train_original_target, p.seed)\n",
    "val_original_target = Iterable_Aggregator(val_original_target, p.seed)\n",
    "test_original_target = Iterable_Aggregator(test_original_target, p.seed)\n",
    "\n",
    "# For CNN We only use X and Y. And we only train on the source.\n",
    "# Properly form the data using a transform lambda and Lazy_Iterable_Wrapper. Finally wrap them in a dataloader\n",
    "\n",
    "transform_lambda = lambda ex: ex[1] # Original is (<domain>, <episode>) so we strip down to episode only\n",
    "\n",
    "train_processed_source = Lazy_Iterable_Wrapper(train_original_source, transform_lambda)\n",
    "val_processed_source   = Lazy_Iterable_Wrapper(val_original_source, transform_lambda)\n",
    "test_processed_source  = Lazy_Iterable_Wrapper(test_original_source, transform_lambda)\n",
    "\n",
    "train_processed_target = Lazy_Iterable_Wrapper(train_original_target, transform_lambda)\n",
    "val_processed_target   = Lazy_Iterable_Wrapper(val_original_target, transform_lambda)\n",
    "test_processed_target  = Lazy_Iterable_Wrapper(test_original_target, transform_lambda)\n",
    "\n",
    "datasets = EasyDict({\n",
    "    \"source\": {\n",
    "        \"original\": {\"train\":train_original_source, \"val\":val_original_source, \"test\":test_original_source},\n",
    "        \"processed\": {\"train\":train_processed_source, \"val\":val_processed_source, \"test\":test_processed_source}\n",
    "    },\n",
    "    \"target\": {\n",
    "        \"original\": {\"train\":train_original_target, \"val\":val_original_target, \"test\":test_original_target},\n",
    "        \"processed\": {\"train\":train_processed_target, \"val\":val_processed_target, \"test\":test_processed_target}\n",
    "    },\n",
    "})"
   ]
  },
  {
   "cell_type": "code",
   "execution_count": 20,
   "id": "5b3c01fc",
   "metadata": {
    "execution": {
     "iopub.execute_input": "2022-03-28T11:06:27.543586Z",
     "iopub.status.busy": "2022-03-28T11:06:27.543046Z",
     "iopub.status.idle": "2022-03-28T11:06:41.638196Z",
     "shell.execute_reply": "2022-03-28T11:06:41.637334Z"
    },
    "papermill": {
     "duration": 14.121936,
     "end_time": "2022-03-28T11:06:41.638375",
     "exception": false,
     "start_time": "2022-03-28T11:06:27.516439",
     "status": "completed"
    },
    "tags": []
   },
   "outputs": [
    {
     "name": "stdout",
     "output_type": "stream",
     "text": [
      "{'O_8', 'O_32', 'O_44', 'O_38', 'O_26', 'O_14', 'O_50', 'O_20'}\n"
     ]
    },
    {
     "name": "stdout",
     "output_type": "stream",
     "text": [
      "{'C_3', 'C_2', 'C_5', 'C_4', 'C_1'}\n"
     ]
    },
    {
     "name": "stdout",
     "output_type": "stream",
     "text": [
      "tensor([[[0., 0., 0.,  ..., 0., 0., 0.],\n",
      "         [0., 0., 0.,  ..., 0., 0., 0.]],\n",
      "\n",
      "        [[0., 0., 0.,  ..., 0., 0., 0.],\n",
      "         [0., 0., 0.,  ..., 0., 0., 0.]],\n",
      "\n",
      "        [[0., 0., 0.,  ..., 0., 0., 0.],\n",
      "         [0., 0., 0.,  ..., 0., 0., 0.]],\n",
      "\n",
      "        ...,\n",
      "\n",
      "        [[0., 0., 0.,  ..., 0., 0., 0.],\n",
      "         [0., 0., 0.,  ..., 0., 0., 0.]],\n",
      "\n",
      "        [[0., 0., 0.,  ..., 0., 0., 0.],\n",
      "         [0., 0., 0.,  ..., 0., 0., 0.]],\n",
      "\n",
      "        [[0., 0., 0.,  ..., 0., 0., 0.],\n",
      "         [0., 0., 0.,  ..., 0., 0., 0.]]])\n"
     ]
    }
   ],
   "source": [
    "from steves_utils.transforms import get_average_magnitude, get_average_power\n",
    "\n",
    "print(set([u for u,_ in val_original_source]))\n",
    "print(set([u for u,_ in val_original_target]))\n",
    "\n",
    "s_x, s_y, q_x, q_y, _ = next(iter(train_processed_source))\n",
    "print(s_x)\n",
    "\n",
    "# for ds in [\n",
    "#     train_processed_source,\n",
    "#     val_processed_source,\n",
    "#     test_processed_source,\n",
    "#     train_processed_target,\n",
    "#     val_processed_target,\n",
    "#     test_processed_target\n",
    "# ]:\n",
    "#     for s_x, s_y, q_x, q_y, _ in ds:\n",
    "#         for X in (s_x, q_x):\n",
    "#             for x in X:\n",
    "#                 assert np.isclose(get_average_magnitude(x.numpy()), 1.0)\n",
    "#                 assert np.isclose(get_average_power(x.numpy()), 1.0)\n",
    "                "
   ]
  },
  {
   "cell_type": "code",
   "execution_count": 21,
   "id": "bbdacba1",
   "metadata": {
    "execution": {
     "iopub.execute_input": "2022-03-28T11:06:41.696055Z",
     "iopub.status.busy": "2022-03-28T11:06:41.695503Z",
     "iopub.status.idle": "2022-03-28T11:06:41.866146Z",
     "shell.execute_reply": "2022-03-28T11:06:41.865769Z"
    },
    "papermill": {
     "duration": 0.202081,
     "end_time": "2022-03-28T11:06:41.866258",
     "exception": false,
     "start_time": "2022-03-28T11:06:41.664177",
     "status": "completed"
    },
    "tags": []
   },
   "outputs": [
    {
     "name": "stdout",
     "output_type": "stream",
     "text": [
      "(2, 256)\n"
     ]
    }
   ],
   "source": [
    "###################################\n",
    "# Build the model\n",
    "###################################\n",
    "# easfsl only wants a tuple for the shape\n",
    "model = Steves_Prototypical_Network(x_net, device=p.device, x_shape=tuple(p.x_shape))\n",
    "optimizer = Adam(params=model.parameters(), lr=p.lr)"
   ]
  },
  {
   "cell_type": "code",
   "execution_count": 22,
   "id": "22b39ac5",
   "metadata": {
    "execution": {
     "iopub.execute_input": "2022-03-28T11:06:41.930202Z",
     "iopub.status.busy": "2022-03-28T11:06:41.929366Z",
     "iopub.status.idle": "2022-03-28T11:27:04.346925Z",
     "shell.execute_reply": "2022-03-28T11:27:04.346581Z"
    },
    "papermill": {
     "duration": 1222.45768,
     "end_time": "2022-03-28T11:27:04.347009",
     "exception": false,
     "start_time": "2022-03-28T11:06:41.889329",
     "status": "completed"
    },
    "tags": []
   },
   "outputs": [
    {
     "name": "stdout",
     "output_type": "stream",
     "text": [
      "epoch: 1, [batch: 1 / 6720], examples_per_second: 33.7981, train_label_loss: 2.7793, \n"
     ]
    },
    {
     "name": "stdout",
     "output_type": "stream",
     "text": [
      "epoch: 1, [batch: 672 / 6720], examples_per_second: 3820.9432, train_label_loss: 2.7862, \n"
     ]
    },
    {
     "name": "stdout",
     "output_type": "stream",
     "text": [
      "epoch: 1, [batch: 1344 / 6720], examples_per_second: 3919.1245, train_label_loss: 2.8160, \n"
     ]
    },
    {
     "name": "stdout",
     "output_type": "stream",
     "text": [
      "epoch: 1, [batch: 2016 / 6720], examples_per_second: 3924.1393, train_label_loss: 2.7659, \n"
     ]
    },
    {
     "name": "stdout",
     "output_type": "stream",
     "text": [
      "epoch: 1, [batch: 2688 / 6720], examples_per_second: 3940.7979, train_label_loss: 1.9194, \n"
     ]
    },
    {
     "name": "stdout",
     "output_type": "stream",
     "text": [
      "epoch: 1, [batch: 3360 / 6720], examples_per_second: 4292.2311, train_label_loss: 1.5555, \n"
     ]
    },
    {
     "name": "stdout",
     "output_type": "stream",
     "text": [
      "epoch: 1, [batch: 4032 / 6720], examples_per_second: 4184.4024, train_label_loss: 1.4474, \n"
     ]
    },
    {
     "name": "stdout",
     "output_type": "stream",
     "text": [
      "epoch: 1, [batch: 4704 / 6720], examples_per_second: 4191.0118, train_label_loss: 2.3396, \n"
     ]
    },
    {
     "name": "stdout",
     "output_type": "stream",
     "text": [
      "epoch: 1, [batch: 5376 / 6720], examples_per_second: 4324.4854, train_label_loss: 2.1876, \n"
     ]
    },
    {
     "name": "stdout",
     "output_type": "stream",
     "text": [
      "epoch: 1, [batch: 6048 / 6720], examples_per_second: 4265.9875, train_label_loss: 0.9547, \n"
     ]
    },
    {
     "name": "stdout",
     "output_type": "stream",
     "text": [
      "=============================================================\n",
      "epoch: 1, source_val_acc_label: 0.5820, target_val_acc_label: 0.8312, source_val_label_loss: 1.1885, target_val_label_loss: 5.7782, \n",
      "=============================================================\n"
     ]
    },
    {
     "name": "stdout",
     "output_type": "stream",
     "text": [
      "New best\n"
     ]
    },
    {
     "name": "stdout",
     "output_type": "stream",
     "text": [
      "epoch: 2, [batch: 1 / 6720], examples_per_second: 4.4478, train_label_loss: 1.5833, \n"
     ]
    },
    {
     "name": "stdout",
     "output_type": "stream",
     "text": [
      "epoch: 2, [batch: 672 / 6720], examples_per_second: 4815.5966, train_label_loss: 1.2256, \n"
     ]
    },
    {
     "name": "stdout",
     "output_type": "stream",
     "text": [
      "epoch: 2, [batch: 1344 / 6720], examples_per_second: 4934.3986, train_label_loss: 1.0018, \n"
     ]
    },
    {
     "name": "stdout",
     "output_type": "stream",
     "text": [
      "epoch: 2, [batch: 2016 / 6720], examples_per_second: 4961.6873, train_label_loss: 0.7429, \n"
     ]
    },
    {
     "name": "stdout",
     "output_type": "stream",
     "text": [
      "epoch: 2, [batch: 2688 / 6720], examples_per_second: 5049.9947, train_label_loss: 0.8796, \n"
     ]
    },
    {
     "name": "stdout",
     "output_type": "stream",
     "text": [
      "epoch: 2, [batch: 3360 / 6720], examples_per_second: 5182.8206, train_label_loss: 0.9232, \n"
     ]
    },
    {
     "name": "stdout",
     "output_type": "stream",
     "text": [
      "epoch: 2, [batch: 4032 / 6720], examples_per_second: 5386.8491, train_label_loss: 0.5682, \n"
     ]
    },
    {
     "name": "stdout",
     "output_type": "stream",
     "text": [
      "epoch: 2, [batch: 4704 / 6720], examples_per_second: 5113.7626, train_label_loss: 1.4242, \n"
     ]
    },
    {
     "name": "stdout",
     "output_type": "stream",
     "text": [
      "epoch: 2, [batch: 5376 / 6720], examples_per_second: 5140.3851, train_label_loss: 0.4209, \n"
     ]
    },
    {
     "name": "stdout",
     "output_type": "stream",
     "text": [
      "epoch: 2, [batch: 6048 / 6720], examples_per_second: 5031.9878, train_label_loss: 0.5195, \n"
     ]
    },
    {
     "name": "stdout",
     "output_type": "stream",
     "text": [
      "=============================================================\n",
      "epoch: 2, source_val_acc_label: 0.6435, target_val_acc_label: 0.9156, source_val_label_loss: 0.9535, target_val_label_loss: 2.0764, \n",
      "=============================================================\n"
     ]
    },
    {
     "name": "stdout",
     "output_type": "stream",
     "text": [
      "New best\n"
     ]
    },
    {
     "name": "stdout",
     "output_type": "stream",
     "text": [
      "epoch: 3, [batch: 1 / 6720], examples_per_second: 5.3027, train_label_loss: 0.5790, \n"
     ]
    },
    {
     "name": "stdout",
     "output_type": "stream",
     "text": [
      "epoch: 3, [batch: 672 / 6720], examples_per_second: 4944.5194, train_label_loss: 1.2334, \n"
     ]
    },
    {
     "name": "stdout",
     "output_type": "stream",
     "text": [
      "epoch: 3, [batch: 1344 / 6720], examples_per_second: 5218.8118, train_label_loss: 0.6711, \n"
     ]
    },
    {
     "name": "stdout",
     "output_type": "stream",
     "text": [
      "epoch: 3, [batch: 2016 / 6720], examples_per_second: 5397.7944, train_label_loss: 0.8666, \n"
     ]
    },
    {
     "name": "stdout",
     "output_type": "stream",
     "text": [
      "epoch: 3, [batch: 2688 / 6720], examples_per_second: 4971.8119, train_label_loss: 1.0966, \n"
     ]
    },
    {
     "name": "stdout",
     "output_type": "stream",
     "text": [
      "epoch: 3, [batch: 3360 / 6720], examples_per_second: 5062.9555, train_label_loss: 0.9044, \n"
     ]
    },
    {
     "name": "stdout",
     "output_type": "stream",
     "text": [
      "epoch: 3, [batch: 4032 / 6720], examples_per_second: 3959.2309, train_label_loss: 1.1664, \n"
     ]
    },
    {
     "name": "stdout",
     "output_type": "stream",
     "text": [
      "epoch: 3, [batch: 4704 / 6720], examples_per_second: 3844.4375, train_label_loss: 0.6627, \n"
     ]
    },
    {
     "name": "stdout",
     "output_type": "stream",
     "text": [
      "epoch: 3, [batch: 5376 / 6720], examples_per_second: 3958.6840, train_label_loss: 0.9292, \n"
     ]
    },
    {
     "name": "stdout",
     "output_type": "stream",
     "text": [
      "epoch: 3, [batch: 6048 / 6720], examples_per_second: 4046.1362, train_label_loss: 0.6419, \n"
     ]
    },
    {
     "name": "stdout",
     "output_type": "stream",
     "text": [
      "=============================================================\n",
      "epoch: 3, source_val_acc_label: 0.6314, target_val_acc_label: 0.9103, source_val_label_loss: 0.9712, target_val_label_loss: 2.1875, \n",
      "=============================================================\n"
     ]
    },
    {
     "name": "stdout",
     "output_type": "stream",
     "text": [
      "epoch: 4, [batch: 1 / 6720], examples_per_second: 4.0047, train_label_loss: 0.8259, \n"
     ]
    },
    {
     "name": "stdout",
     "output_type": "stream",
     "text": [
      "epoch: 4, [batch: 672 / 6720], examples_per_second: 3891.0766, train_label_loss: 0.4711, \n"
     ]
    },
    {
     "name": "stdout",
     "output_type": "stream",
     "text": [
      "epoch: 4, [batch: 1344 / 6720], examples_per_second: 3951.0555, train_label_loss: 0.7205, \n"
     ]
    },
    {
     "name": "stdout",
     "output_type": "stream",
     "text": [
      "epoch: 4, [batch: 2016 / 6720], examples_per_second: 3998.5648, train_label_loss: 0.7079, \n"
     ]
    },
    {
     "name": "stdout",
     "output_type": "stream",
     "text": [
      "epoch: 4, [batch: 2688 / 6720], examples_per_second: 4568.0634, train_label_loss: 0.7032, \n"
     ]
    },
    {
     "name": "stdout",
     "output_type": "stream",
     "text": [
      "epoch: 4, [batch: 3360 / 6720], examples_per_second: 4804.6265, train_label_loss: 0.6168, \n"
     ]
    },
    {
     "name": "stdout",
     "output_type": "stream",
     "text": [
      "epoch: 4, [batch: 4032 / 6720], examples_per_second: 4148.7551, train_label_loss: 0.7839, \n"
     ]
    },
    {
     "name": "stdout",
     "output_type": "stream",
     "text": [
      "epoch: 4, [batch: 4704 / 6720], examples_per_second: 3950.5890, train_label_loss: 0.9651, \n"
     ]
    },
    {
     "name": "stdout",
     "output_type": "stream",
     "text": [
      "epoch: 4, [batch: 5376 / 6720], examples_per_second: 3973.9039, train_label_loss: 0.7383, \n"
     ]
    },
    {
     "name": "stdout",
     "output_type": "stream",
     "text": [
      "epoch: 4, [batch: 6048 / 6720], examples_per_second: 4073.1087, train_label_loss: 1.1508, \n"
     ]
    },
    {
     "name": "stdout",
     "output_type": "stream",
     "text": [
      "=============================================================\n",
      "epoch: 4, source_val_acc_label: 0.6888, target_val_acc_label: 0.9159, source_val_label_loss: 0.8304, target_val_label_loss: 1.6957, \n",
      "=============================================================\n"
     ]
    },
    {
     "name": "stdout",
     "output_type": "stream",
     "text": [
      "New best\n"
     ]
    },
    {
     "name": "stdout",
     "output_type": "stream",
     "text": [
      "epoch: 5, [batch: 1 / 6720], examples_per_second: 4.0871, train_label_loss: 1.2666, \n"
     ]
    },
    {
     "name": "stdout",
     "output_type": "stream",
     "text": [
      "epoch: 5, [batch: 672 / 6720], examples_per_second: 3919.0414, train_label_loss: 0.5886, \n"
     ]
    },
    {
     "name": "stdout",
     "output_type": "stream",
     "text": [
      "epoch: 5, [batch: 1344 / 6720], examples_per_second: 3944.8580, train_label_loss: 0.6474, \n"
     ]
    },
    {
     "name": "stdout",
     "output_type": "stream",
     "text": [
      "epoch: 5, [batch: 2016 / 6720], examples_per_second: 3875.9539, train_label_loss: 0.6084, \n"
     ]
    },
    {
     "name": "stdout",
     "output_type": "stream",
     "text": [
      "epoch: 5, [batch: 2688 / 6720], examples_per_second: 4279.8142, train_label_loss: 0.6679, \n"
     ]
    },
    {
     "name": "stdout",
     "output_type": "stream",
     "text": [
      "epoch: 5, [batch: 3360 / 6720], examples_per_second: 4434.6448, train_label_loss: 0.6801, \n"
     ]
    },
    {
     "name": "stdout",
     "output_type": "stream",
     "text": [
      "epoch: 5, [batch: 4032 / 6720], examples_per_second: 3948.0549, train_label_loss: 0.8386, \n"
     ]
    },
    {
     "name": "stdout",
     "output_type": "stream",
     "text": [
      "epoch: 5, [batch: 4704 / 6720], examples_per_second: 3848.2651, train_label_loss: 1.1043, \n"
     ]
    },
    {
     "name": "stdout",
     "output_type": "stream",
     "text": [
      "epoch: 5, [batch: 5376 / 6720], examples_per_second: 3869.8955, train_label_loss: 0.5583, \n"
     ]
    },
    {
     "name": "stdout",
     "output_type": "stream",
     "text": [
      "epoch: 5, [batch: 6048 / 6720], examples_per_second: 3931.2616, train_label_loss: 0.5804, \n"
     ]
    },
    {
     "name": "stdout",
     "output_type": "stream",
     "text": [
      "=============================================================\n",
      "epoch: 5, source_val_acc_label: 0.6933, target_val_acc_label: 0.8981, source_val_label_loss: 0.8134, target_val_label_loss: 2.7586, \n",
      "=============================================================\n"
     ]
    },
    {
     "name": "stdout",
     "output_type": "stream",
     "text": [
      "epoch: 6, [batch: 1 / 6720], examples_per_second: 4.0216, train_label_loss: 0.6143, \n"
     ]
    },
    {
     "name": "stdout",
     "output_type": "stream",
     "text": [
      "epoch: 6, [batch: 672 / 6720], examples_per_second: 3936.2094, train_label_loss: 0.9316, \n"
     ]
    },
    {
     "name": "stdout",
     "output_type": "stream",
     "text": [
      "epoch: 6, [batch: 1344 / 6720], examples_per_second: 3891.5863, train_label_loss: 0.5996, \n"
     ]
    },
    {
     "name": "stdout",
     "output_type": "stream",
     "text": [
      "epoch: 6, [batch: 2016 / 6720], examples_per_second: 3799.4644, train_label_loss: 0.8135, \n"
     ]
    },
    {
     "name": "stdout",
     "output_type": "stream",
     "text": [
      "epoch: 6, [batch: 2688 / 6720], examples_per_second: 4222.7657, train_label_loss: 0.4872, \n"
     ]
    },
    {
     "name": "stdout",
     "output_type": "stream",
     "text": [
      "epoch: 6, [batch: 3360 / 6720], examples_per_second: 4445.1299, train_label_loss: 0.7994, \n"
     ]
    },
    {
     "name": "stdout",
     "output_type": "stream",
     "text": [
      "epoch: 6, [batch: 4032 / 6720], examples_per_second: 4240.2419, train_label_loss: 0.5006, \n"
     ]
    },
    {
     "name": "stdout",
     "output_type": "stream",
     "text": [
      "epoch: 6, [batch: 4704 / 6720], examples_per_second: 3883.5767, train_label_loss: 0.8694, \n"
     ]
    },
    {
     "name": "stdout",
     "output_type": "stream",
     "text": [
      "epoch: 6, [batch: 5376 / 6720], examples_per_second: 3951.6468, train_label_loss: 0.8790, \n"
     ]
    },
    {
     "name": "stdout",
     "output_type": "stream",
     "text": [
      "epoch: 6, [batch: 6048 / 6720], examples_per_second: 3941.9097, train_label_loss: 0.5013, \n"
     ]
    },
    {
     "name": "stdout",
     "output_type": "stream",
     "text": [
      "=============================================================\n",
      "epoch: 6, source_val_acc_label: 0.6910, target_val_acc_label: 0.8800, source_val_label_loss: 0.8317, target_val_label_loss: 3.3436, \n",
      "=============================================================\n"
     ]
    },
    {
     "name": "stdout",
     "output_type": "stream",
     "text": [
      "epoch: 7, [batch: 1 / 6720], examples_per_second: 3.9909, train_label_loss: 0.7069, \n"
     ]
    },
    {
     "name": "stdout",
     "output_type": "stream",
     "text": [
      "epoch: 7, [batch: 672 / 6720], examples_per_second: 3903.7551, train_label_loss: 0.7299, \n"
     ]
    },
    {
     "name": "stdout",
     "output_type": "stream",
     "text": [
      "epoch: 7, [batch: 1344 / 6720], examples_per_second: 4026.1131, train_label_loss: 0.7650, \n"
     ]
    },
    {
     "name": "stdout",
     "output_type": "stream",
     "text": [
      "epoch: 7, [batch: 2016 / 6720], examples_per_second: 4001.1711, train_label_loss: 0.5191, \n"
     ]
    },
    {
     "name": "stdout",
     "output_type": "stream",
     "text": [
      "epoch: 7, [batch: 2688 / 6720], examples_per_second: 4303.5275, train_label_loss: 0.5692, \n"
     ]
    },
    {
     "name": "stdout",
     "output_type": "stream",
     "text": [
      "epoch: 7, [batch: 3360 / 6720], examples_per_second: 4561.5183, train_label_loss: 0.5596, \n"
     ]
    },
    {
     "name": "stdout",
     "output_type": "stream",
     "text": [
      "epoch: 7, [batch: 4032 / 6720], examples_per_second: 4507.7479, train_label_loss: 0.5371, \n"
     ]
    },
    {
     "name": "stdout",
     "output_type": "stream",
     "text": [
      "epoch: 7, [batch: 4704 / 6720], examples_per_second: 3886.5231, train_label_loss: 0.9137, \n"
     ]
    },
    {
     "name": "stdout",
     "output_type": "stream",
     "text": [
      "epoch: 7, [batch: 5376 / 6720], examples_per_second: 3834.0423, train_label_loss: 1.0350, \n"
     ]
    },
    {
     "name": "stdout",
     "output_type": "stream",
     "text": [
      "epoch: 7, [batch: 6048 / 6720], examples_per_second: 3822.3997, train_label_loss: 0.9330, \n"
     ]
    },
    {
     "name": "stdout",
     "output_type": "stream",
     "text": [
      "=============================================================\n",
      "epoch: 7, source_val_acc_label: 0.7076, target_val_acc_label: 0.8790, source_val_label_loss: 0.7730, target_val_label_loss: 3.1613, \n",
      "=============================================================\n"
     ]
    },
    {
     "name": "stdout",
     "output_type": "stream",
     "text": [
      "epoch: 8, [batch: 1 / 6720], examples_per_second: 4.0307, train_label_loss: 0.5985, \n"
     ]
    },
    {
     "name": "stdout",
     "output_type": "stream",
     "text": [
      "epoch: 8, [batch: 672 / 6720], examples_per_second: 3915.4486, train_label_loss: 0.6004, \n"
     ]
    },
    {
     "name": "stdout",
     "output_type": "stream",
     "text": [
      "epoch: 8, [batch: 1344 / 6720], examples_per_second: 3881.7877, train_label_loss: 0.7298, \n"
     ]
    },
    {
     "name": "stdout",
     "output_type": "stream",
     "text": [
      "epoch: 8, [batch: 2016 / 6720], examples_per_second: 3920.8313, train_label_loss: 0.8772, \n"
     ]
    },
    {
     "name": "stdout",
     "output_type": "stream",
     "text": [
      "epoch: 8, [batch: 2688 / 6720], examples_per_second: 4218.4317, train_label_loss: 0.8983, \n"
     ]
    },
    {
     "name": "stdout",
     "output_type": "stream",
     "text": [
      "epoch: 8, [batch: 3360 / 6720], examples_per_second: 4285.9366, train_label_loss: 0.5457, \n"
     ]
    },
    {
     "name": "stdout",
     "output_type": "stream",
     "text": [
      "epoch: 8, [batch: 4032 / 6720], examples_per_second: 4397.2525, train_label_loss: 0.4568, \n"
     ]
    },
    {
     "name": "stdout",
     "output_type": "stream",
     "text": [
      "epoch: 8, [batch: 4704 / 6720], examples_per_second: 3891.0491, train_label_loss: 0.6817, \n"
     ]
    },
    {
     "name": "stdout",
     "output_type": "stream",
     "text": [
      "epoch: 8, [batch: 5376 / 6720], examples_per_second: 3901.6192, train_label_loss: 1.2495, \n"
     ]
    },
    {
     "name": "stdout",
     "output_type": "stream",
     "text": [
      "epoch: 8, [batch: 6048 / 6720], examples_per_second: 3937.5873, train_label_loss: 1.2015, \n"
     ]
    },
    {
     "name": "stdout",
     "output_type": "stream",
     "text": [
      "=============================================================\n",
      "epoch: 8, source_val_acc_label: 0.7139, target_val_acc_label: 0.8618, source_val_label_loss: 0.7504, target_val_label_loss: 5.2998, \n",
      "=============================================================\n"
     ]
    },
    {
     "name": "stdout",
     "output_type": "stream",
     "text": [
      "Patience (3) exhausted\n"
     ]
    }
   ],
   "source": [
    "###################################\n",
    "# train\n",
    "###################################\n",
    "jig = PTN_Train_Eval_Test_Jig(model, p.BEST_MODEL_PATH, p.device)\n",
    "\n",
    "jig.train(\n",
    "    train_iterable=datasets.source.processed.train,\n",
    "    source_val_iterable=datasets.source.processed.val,\n",
    "    target_val_iterable=datasets.target.processed.val,\n",
    "    num_epochs=p.n_epoch,\n",
    "    num_logs_per_epoch=p.NUM_LOGS_PER_EPOCH,\n",
    "    patience=p.patience,\n",
    "    optimizer=optimizer,\n",
    "    criteria_for_best=p.criteria_for_best,\n",
    ")"
   ]
  },
  {
   "cell_type": "code",
   "execution_count": 23,
   "id": "31e8fabf",
   "metadata": {
    "execution": {
     "iopub.execute_input": "2022-03-28T11:27:04.449309Z",
     "iopub.status.busy": "2022-03-28T11:27:04.448485Z",
     "iopub.status.idle": "2022-03-28T11:27:04.483621Z",
     "shell.execute_reply": "2022-03-28T11:27:04.482908Z"
    },
    "papermill": {
     "duration": 0.089256,
     "end_time": "2022-03-28T11:27:04.483789",
     "exception": false,
     "start_time": "2022-03-28T11:27:04.394533",
     "status": "completed"
    },
    "tags": []
   },
   "outputs": [],
   "source": [
    "total_experiment_time_secs = time.time() - start_time_secs"
   ]
  },
  {
   "cell_type": "code",
   "execution_count": 24,
   "id": "87b9595b",
   "metadata": {
    "execution": {
     "iopub.execute_input": "2022-03-28T11:27:04.594481Z",
     "iopub.status.busy": "2022-03-28T11:27:04.594078Z",
     "iopub.status.idle": "2022-03-28T11:29:42.247323Z",
     "shell.execute_reply": "2022-03-28T11:29:42.248037Z"
    },
    "papermill": {
     "duration": 157.709022,
     "end_time": "2022-03-28T11:29:42.248272",
     "exception": false,
     "start_time": "2022-03-28T11:27:04.539250",
     "status": "completed"
    },
    "tags": []
   },
   "outputs": [],
   "source": [
    "###################################\n",
    "# Evaluate the model\n",
    "###################################\n",
    "source_test_label_accuracy, source_test_label_loss = jig.test(datasets.source.processed.test)\n",
    "target_test_label_accuracy, target_test_label_loss = jig.test(datasets.target.processed.test)\n",
    "\n",
    "source_val_label_accuracy, source_val_label_loss = jig.test(datasets.source.processed.val)\n",
    "target_val_label_accuracy, target_val_label_loss = jig.test(datasets.target.processed.val)\n",
    "\n",
    "history = jig.get_history()\n",
    "\n",
    "total_epochs_trained = len(history[\"epoch_indices\"])\n",
    "\n",
    "val_dl = Iterable_Aggregator((datasets.source.original.val,datasets.target.original.val))\n",
    "\n",
    "confusion = ptn_confusion_by_domain_over_dataloader(model, p.device, val_dl)\n",
    "per_domain_accuracy = per_domain_accuracy_from_confusion(confusion)\n",
    "\n",
    "# Add a key to per_domain_accuracy for if it was a source domain\n",
    "for domain, accuracy in per_domain_accuracy.items():\n",
    "    per_domain_accuracy[domain] = {\n",
    "        \"accuracy\": accuracy,\n",
    "        \"source?\": domain in p.domains_source\n",
    "    }\n",
    "\n",
    "# Do an independent accuracy assesment JUST TO BE SURE!\n",
    "# _source_test_label_accuracy = independent_accuracy_assesment(model, datasets.source.processed.test, p.device)\n",
    "# _target_test_label_accuracy = independent_accuracy_assesment(model, datasets.target.processed.test, p.device)\n",
    "# _source_val_label_accuracy = independent_accuracy_assesment(model, datasets.source.processed.val, p.device)\n",
    "# _target_val_label_accuracy = independent_accuracy_assesment(model, datasets.target.processed.val, p.device)\n",
    "\n",
    "# assert(_source_test_label_accuracy == source_test_label_accuracy)\n",
    "# assert(_target_test_label_accuracy == target_test_label_accuracy)\n",
    "# assert(_source_val_label_accuracy == source_val_label_accuracy)\n",
    "# assert(_target_val_label_accuracy == target_val_label_accuracy)\n",
    "\n",
    "experiment = {\n",
    "    \"experiment_name\": p.experiment_name,\n",
    "    \"parameters\": dict(p),\n",
    "    \"results\": {\n",
    "        \"source_test_label_accuracy\": source_test_label_accuracy,\n",
    "        \"source_test_label_loss\": source_test_label_loss,\n",
    "        \"target_test_label_accuracy\": target_test_label_accuracy,\n",
    "        \"target_test_label_loss\": target_test_label_loss,\n",
    "        \"source_val_label_accuracy\": source_val_label_accuracy,\n",
    "        \"source_val_label_loss\": source_val_label_loss,\n",
    "        \"target_val_label_accuracy\": target_val_label_accuracy,\n",
    "        \"target_val_label_loss\": target_val_label_loss,\n",
    "        \"total_epochs_trained\": total_epochs_trained,\n",
    "        \"total_experiment_time_secs\": total_experiment_time_secs,\n",
    "        \"confusion\": confusion,\n",
    "        \"per_domain_accuracy\": per_domain_accuracy,\n",
    "    },\n",
    "    \"history\": history,\n",
    "    \"dataset_metrics\": get_dataset_metrics(datasets, \"ptn\"),\n",
    "}"
   ]
  },
  {
   "cell_type": "code",
   "execution_count": 25,
   "id": "54a21829",
   "metadata": {
    "execution": {
     "iopub.execute_input": "2022-03-28T11:29:42.349186Z",
     "iopub.status.busy": "2022-03-28T11:29:42.348821Z",
     "iopub.status.idle": "2022-03-28T11:29:42.584415Z",
     "shell.execute_reply": "2022-03-28T11:29:42.585099Z"
    },
    "papermill": {
     "duration": 0.285666,
     "end_time": "2022-03-28T11:29:42.585325",
     "exception": false,
     "start_time": "2022-03-28T11:29:42.299659",
     "status": "completed"
    },
    "tags": []
   },
   "outputs": [
    {
     "data": {
      "image/png": "[encoded data removed]",
      "text/plain": [
       "<Figure size 1080x504 with 1 Axes>"
      ]
     },
     "metadata": {
      "needs_background": "light"
     },
     "output_type": "display_data"
    }
   ],
   "source": [
    "ax = get_loss_curve(experiment)\n",
    "plt.show()"
   ]
  },
  {
   "cell_type": "code",
   "execution_count": 26,
   "id": "fd8a0f60",
   "metadata": {
    "execution": {
     "iopub.execute_input": "2022-03-28T11:29:42.688140Z",
     "iopub.status.busy": "2022-03-28T11:29:42.687741Z",
     "iopub.status.idle": "2022-03-28T11:29:43.062006Z",
     "shell.execute_reply": "2022-03-28T11:29:43.062674Z"
    },
    "papermill": {
     "duration": 0.425101,
     "end_time": "2022-03-28T11:29:43.062864",
     "exception": false,
     "start_time": "2022-03-28T11:29:42.637763",
     "status": "completed"
    },
    "tags": []
   },
   "outputs": [
    {
     "data": {
      "text/plain": [
       "<AxesSubplot:title={'center':'Results'}>"
      ]
     },
     "execution_count": 26,
     "metadata": {},
     "output_type": "execute_result"
    },
    {
     "data": {
      "image/png": "[encoded data removed]",
      "text/plain": [
       "<Figure size 1080x504 with 1 Axes>"
      ]
     },
     "metadata": {
      "needs_background": "light"
     },
     "output_type": "display_data"
    }
   ],
   "source": [
    "get_results_table(experiment)"
   ]
  },
  {
   "cell_type": "code",
   "execution_count": 27,
   "id": "cf8dc689",
   "metadata": {
    "execution": {
     "iopub.execute_input": "2022-03-28T11:29:43.168526Z",
     "iopub.status.busy": "2022-03-28T11:29:43.168164Z",
     "iopub.status.idle": "2022-03-28T11:29:43.403050Z",
     "shell.execute_reply": "2022-03-28T11:29:43.403780Z"
    },
    "papermill": {
     "duration": 0.287019,
     "end_time": "2022-03-28T11:29:43.403978",
     "exception": false,
     "start_time": "2022-03-28T11:29:43.116959",
     "status": "completed"
    },
    "tags": []
   },
   "outputs": [
    {
     "data": {
      "text/plain": [
       "<AxesSubplot:title={'center':'Per Domain Validation Accuracy'}, xlabel='domain'>"
      ]
     },
     "execution_count": 27,
     "metadata": {},
     "output_type": "execute_result"
    },
    {
     "data": {
      "image/png": "[encoded data removed]",
      "text/plain": [
       "<Figure size 1080x504 with 1 Axes>"
      ]
     },
     "metadata": {
      "needs_background": "light"
     },
     "output_type": "display_data"
    }
   ],
   "source": [
    "get_domain_accuracies(experiment)"
   ]
  },
  {
   "cell_type": "code",
   "execution_count": 28,
   "id": "a74ae082",
   "metadata": {
    "execution": {
     "iopub.execute_input": "2022-03-28T11:29:43.510884Z",
     "iopub.status.busy": "2022-03-28T11:29:43.510513Z",
     "iopub.status.idle": "2022-03-28T11:29:43.532803Z",
     "shell.execute_reply": "2022-03-28T11:29:43.533471Z"
    },
    "papermill": {
     "duration": 0.075738,
     "end_time": "2022-03-28T11:29:43.533655",
     "exception": false,
     "start_time": "2022-03-28T11:29:43.457917",
     "status": "completed"
    },
    "tags": []
   },
   "outputs": [
    {
     "name": "stdout",
     "output_type": "stream",
     "text": [
      "Source Test Label Accuracy: 0.6860026041666667 Target Test Label Accuracy: 0.9168079096045197\n",
      "Source Val Label Accuracy: 0.6888020833333334 Target Val Label Accuracy: 0.9159285714285714\n"
     ]
    }
   ],
   "source": [
    "print(\"Source Test Label Accuracy:\", experiment[\"results\"][\"source_test_label_accuracy\"], \"Target Test Label Accuracy:\", experiment[\"results\"][\"target_test_label_accuracy\"])\n",
    "print(\"Source Val Label Accuracy:\", experiment[\"results\"][\"source_val_label_accuracy\"], \"Target Val Label Accuracy:\", experiment[\"results\"][\"target_val_label_accuracy\"])"
   ]
  },
  {
   "cell_type": "code",
   "execution_count": 29,
   "id": "dacca602",
   "metadata": {
    "execution": {
     "iopub.execute_input": "2022-03-28T11:29:43.643367Z",
     "iopub.status.busy": "2022-03-28T11:29:43.643007Z",
     "iopub.status.idle": "2022-03-28T11:29:43.667231Z",
     "shell.execute_reply": "2022-03-28T11:29:43.667933Z"
    },
    "papermill": {
     "duration": 0.078492,
     "end_time": "2022-03-28T11:29:43.668136",
     "exception": false,
     "start_time": "2022-03-28T11:29:43.589644",
     "status": "completed"
    },
    "tags": [
     "experiment_json"
    ]
   },
   "outputs": [
    {
     "data": {
      "text/plain": [
       "'{\"experiment_name\": \"tl_3-jitter10v2:oracle.run1.framed -> cores\", \"parameters\": {\"experiment_name\": \"tl_3-jitter10v2:oracle.run1.framed -> cores\", \"device\": \"cuda\", \"lr\": 0.0001, \"x_shape\": [2, 256], \"n_shot\": 3, \"n_query\": 2, \"train_k_factor\": 3, \"val_k_factor\": 2, \"test_k_factor\": 2, \"torch_default_dtype\": \"torch.float32\", \"n_epoch\": 50, \"patience\": 3, \"criteria_for_best\": \"target_accuracy\", \"x_net\": [{\"class\": \"nnReshape\", \"kargs\": {\"shape\": [-1, 1, 2, 256]}}, {\"class\": \"Conv2d\", \"kargs\": {\"in_channels\": 1, \"out_channels\": 256, \"kernel_size\": [1, 7], \"bias\": false, \"padding\": [0, 3]}}, {\"class\": \"ReLU\", \"kargs\": {\"inplace\": true}}, {\"class\": \"BatchNorm2d\", \"kargs\": {\"num_features\": 256}}, {\"class\": \"Conv2d\", \"kargs\": {\"in_channels\": 256, \"out_channels\": 80, \"kernel_size\": [2, 7], \"bias\": true, \"padding\": [0, 3]}}, {\"class\": \"ReLU\", \"kargs\": {\"inplace\": true}}, {\"class\": \"BatchNorm2d\", \"kargs\": {\"num_features\": 80}}, {\"class\": \"Flatten\", \"kargs\": {}}, {\"class\": \"Linear\", \"kargs\": {\"in_features\": 20480, \"out_features\": 256}}, {\"class\": \"ReLU\", \"kargs\": {\"inplace\": true}}, {\"class\": \"BatchNorm1d\", \"kargs\": {\"num_features\": 256}}, {\"class\": \"Linear\", \"kargs\": {\"in_features\": 256, \"out_features\": 256}}], \"NUM_LOGS_PER_EPOCH\": 10, \"BEST_MODEL_PATH\": \"./best_model.pth\", \"n_way\": 16, \"datasets\": [{\"labels\": [\"1-10.\", \"1-11.\", \"1-15.\", \"1-16.\", \"1-17.\", \"1-18.\", \"1-19.\", \"10-4.\", \"10-7.\", \"11-1.\", \"11-14.\", \"11-17.\", \"11-20.\", \"11-7.\", \"13-20.\", \"13-8.\", \"14-10.\", \"14-11.\", \"14-14.\", \"14-7.\", \"15-1.\", \"15-20.\", \"16-1.\", \"16-16.\", \"17-10.\", \"17-11.\", \"17-2.\", \"19-1.\", \"19-16.\", \"19-19.\", \"19-20.\", \"19-3.\", \"2-10.\", \"2-11.\", \"2-17.\", \"2-18.\", \"2-20.\", \"2-3.\", \"2-4.\", \"2-5.\", \"2-6.\", \"2-7.\", \"2-8.\", \"3-13.\", \"3-18.\", \"3-3.\", \"4-1.\", \"4-10.\", \"4-11.\", \"4-19.\", \"5-5.\", \"6-15.\", \"7-10.\", \"7-14.\", \"8-18.\", \"8-20.\", \"8-3.\", \"8-8.\"], \"domains\": [1, 2, 3, 4, 5], \"num_examples_per_domain_per_label\": -1, \"pickle_path\": \"/root/csc500-main/datasets/cores.stratified_ds.2022A.pkl\", \"source_or_target_dataset\": \"target\", \"x_transforms\": [\"unit_mag\", \"jitter_256_10\", \"lowpass_+/-10MHz\", \"take_200\"], \"episode_transforms\": [], \"domain_prefix\": \"C_\"}, {\"labels\": [\"3123D52\", \"3123D65\", \"3123D79\", \"3123D80\", \"3123D54\", \"3123D70\", \"3123D7B\", \"3123D89\", \"3123D58\", \"3123D76\", \"3123D7D\", \"3123EFE\", \"3123D64\", \"3123D78\", \"3123D7E\", \"3124E4A\"], \"domains\": [32, 38, 8, 44, 14, 50, 20, 26], \"num_examples_per_domain_per_label\": 2000, \"pickle_path\": \"/root/csc500-main/datasets/oracle.Run1_framed_2000Examples_stratified_ds.2022A.pkl\", \"source_or_target_dataset\": \"source\", \"x_transforms\": [\"unit_mag\", \"jitter_256_10\", \"take_200\", \"resample_20Msps_to_25Msps\"], \"episode_transforms\": [], \"domain_prefix\": \"O_\"}], \"seed\": 7, \"dataset_seed\": 7, \"domains_source\": [\"O_32\", \"O_38\", \"O_8\", \"O_44\", \"O_14\", \"O_50\", \"O_20\", \"O_26\"], \"domains_target\": [\"C_1\", \"C_2\", \"C_3\", \"C_4\", \"C_5\"]}, \"results\": {\"source_test_label_accuracy\": 0.6860026041666667, \"source_test_label_loss\": 0.8271715044975281, \"target_test_label_accuracy\": 0.9168079096045197, \"target_test_label_loss\": 1.742350697517395, \"source_val_label_accuracy\": 0.6888020833333334, \"source_val_label_loss\": 0.8303616046905518, \"target_val_label_accuracy\": 0.9159285714285714, \"target_val_label_loss\": 1.6956506967544556, \"total_epochs_trained\": 8, \"total_experiment_time_secs\": 1347.1544649600983, \"confusion\": {\"O_26\": {\"0\": {\"14\": 49, \"10\": 58, \"8\": 26, \"4\": 30, \"0\": 61, \"1\": 11, \"7\": 2, \"6\": 2, \"9\": 1}, \"4\": {\"14\": 40, \"4\": 100, \"8\": 29, \"0\": 25, \"7\": 10, \"1\": 30, \"10\": 6}, \"14\": {\"14\": 67, \"0\": 49, \"10\": 15, \"4\": 40, \"1\": 64, \"8\": 5}, \"12\": {\"12\": 232, \"11\": 8}, \"8\": {\"7\": 25, \"14\": 10, \"8\": 115, \"15\": 22, \"4\": 19, \"0\": 10, \"10\": 16, \"9\": 10, \"6\": 8, \"1\": 2, \"2\": 2, \"5\": 1}, \"7\": {\"7\": 167, \"2\": 18, \"5\": 1, \"4\": 14, \"3\": 23, \"1\": 2, \"8\": 9, \"14\": 3, \"0\": 1, \"15\": 2}, \"13\": {\"13\": 183, \"5\": 43, \"15\": 6, \"2\": 3, \"9\": 5}, \"5\": {\"5\": 139, \"13\": 34, \"15\": 38, \"8\": 2, \"2\": 12, \"9\": 13, \"3\": 1, \"7\": 1}, \"15\": {\"5\": 26, \"15\": 86, \"9\": 70, \"13\": 7, \"8\": 32, \"7\": 6, \"2\": 5, \"6\": 6, \"10\": 1, \"4\": 1}, \"10\": {\"6\": 24, \"0\": 40, \"8\": 33, \"10\": 107, \"14\": 17, \"4\": 12, \"15\": 2, \"7\": 2, \"1\": 3}, \"3\": {\"3\": 163, \"2\": 55, \"7\": 18, \"5\": 4}, \"9\": {\"9\": 111, \"15\": 76, \"13\": 10, \"5\": 25, \"8\": 10, \"2\": 2, \"6\": 5, \"7\": 1}, \"6\": {\"9\": 24, \"6\": 180, \"8\": 7, \"10\": 21, \"15\": 4, \"14\": 1, \"0\": 2, \"13\": 1}, \"1\": {\"4\": 50, \"1\": 107, \"14\": 55, \"10\": 4, \"0\": 14, \"7\": 6, \"8\": 3, \"3\": 1}, \"11\": {\"11\": 237, \"12\": 3}, \"2\": {\"5\": 26, \"2\": 87, \"13\": 4, \"3\": 76, \"7\": 27, \"15\": 14, \"8\": 5, \"9\": 1}}, \"O_44\": {\"1\": {\"1\": 141, \"12\": 54, \"3\": 20, \"2\": 8, \"10\": 17}, \"11\": {\"11\": 183, \"13\": 38, \"6\": 19}, \"3\": {\"3\": 208, \"1\": 30, \"12\": 2}, \"6\": {\"6\": 157, \"13\": 38, \"7\": 7, \"11\": 22, \"9\": 16}, \"7\": {\"7\": 160, \"9\": 31, \"6\": 7, \"2\": 40, \"13\": 1, \"1\": 1}, \"5\": {\"5\": 208, \"0\": 9, \"8\": 5, \"15\": 11, \"14\": 7}, \"2\": {\"2\": 177, \"9\": 1, \"7\": 30, \"10\": 23, \"1\": 9}, \"15\": {\"15\": 174, \"14\": 33, \"0\": 22, \"8\": 2, \"5\": 9}, \"10\": {\"10\": 184, \"1\": 25, \"2\": 23, \"12\": 8}, \"13\": {\"13\": 153, \"11\": 22, \"6\": 42, \"9\": 17, \"4\": 4, \"7\": 2}, \"8\": {\"0\": 103, \"8\": 123, \"15\": 12, \"5\": 2}, \"4\": {\"4\": 162, \"14\": 73, \"13\": 4, \"15\": 1}, \"9\": {\"13\": 22, \"9\": 122, \"6\": 27, \"7\": 65, \"2\": 3, \"4\": 1}, \"14\": {\"4\": 81, \"14\": 127, \"5\": 6, \"15\": 26}, \"0\": {\"0\": 131, \"15\": 9, \"8\": 83, \"5\": 17}, \"12\": {\"12\": 199, \"1\": 35, \"10\": 6}}, \"O_50\": {\"15\": {\"15\": 173, \"4\": 35, \"1\": 28, \"11\": 4}, \"4\": {\"4\": 89, \"6\": 35, \"15\": 62, \"1\": 26, \"5\": 19, \"2\": 1, \"7\": 6, \"13\": 2}, \"6\": {\"6\": 133, \"5\": 37, \"4\": 30, \"13\": 25, \"1\": 12, \"0\": 3}, \"2\": {\"2\": 222, \"0\": 18}, \"5\": {\"7\": 58, \"5\": 58, \"6\": 56, \"13\": 38, \"4\": 27, \"1\": 3}, \"9\": {\"9\": 190, \"11\": 29, \"12\": 21}, \"8\": {\"8\": 231, \"3\": 2, \"10\": 7}, \"12\": {\"12\": 213, \"14\": 6, \"9\": 17, \"11\": 4}, \"10\": {\"0\": 14, \"10\": 214, \"8\": 5, \"7\": 3, \"13\": 4}, \"1\": {\"4\": 29, \"5\": 2, \"1\": 156, \"15\": 36, \"6\": 15, \"14\": 1, \"11\": 1}, \"0\": {\"0\": 209, \"2\": 24, \"10\": 7}, \"3\": {\"3\": 240}, \"13\": {\"13\": 128, \"7\": 55, \"6\": 20, \"5\": 28, \"4\": 2, \"10\": 6, \"0\": 1}, \"11\": {\"11\": 197, \"9\": 28, \"15\": 9, \"1\": 1, \"14\": 3, \"12\": 2}, \"7\": {\"7\": 164, \"13\": 42, \"5\": 30, \"6\": 1, \"10\": 3}, \"14\": {\"14\": 235, \"12\": 4, \"11\": 1}}, \"O_38\": {\"15\": {\"8\": 12, \"15\": 140, \"10\": 4, \"13\": 72, \"5\": 1, \"1\": 11}, \"11\": {\"11\": 217, \"14\": 18, \"12\": 5}, \"10\": {\"10\": 162, \"13\": 17, \"14\": 3, \"0\": 9, \"12\": 36, \"8\": 12, \"15\": 1}, \"14\": {\"14\": 195, \"11\": 23, \"2\": 16, \"10\": 4, \"13\": 2}, \"6\": {\"6\": 187, \"9\": 52, \"5\": 1}, \"4\": {\"4\": 218, \"12\": 22}, \"13\": {\"13\": 140, \"15\": 49, \"10\": 24, \"8\": 11, \"0\": 1, \"2\": 12, \"1\": 3}, \"3\": {\"9\": 21, \"3\": 195, \"5\": 4, \"7\": 14, \"0\": 3, \"6\": 3}, \"7\": {\"0\": 69, \"7\": 149, \"5\": 11, \"3\": 6, \"8\": 5}, \"8\": {\"0\": 41, \"8\": 134, \"5\": 48, \"7\": 9, \"10\": 4, \"1\": 1, \"13\": 1, \"15\": 2}, \"1\": {\"1\": 226, \"15\": 13, \"8\": 1}, \"5\": {\"5\": 90, \"8\": 66, \"1\": 8, \"7\": 18, \"3\": 10, \"0\": 26, \"10\": 2, \"15\": 8, \"6\": 7, \"13\": 3, \"9\": 2}, \"0\": {\"7\": 66, \"3\": 14, \"8\": 52, \"10\": 9, \"5\": 16, \"0\": 80, \"13\": 1, \"9\": 1, \"15\": 1}, \"2\": {\"2\": 216, \"14\": 19, \"13\": 5}, \"12\": {\"12\": 209, \"10\": 24, \"4\": 7}, \"9\": {\"9\": 140, \"6\": 85, \"5\": 5, \"3\": 10}}, \"O_20\": {\"10\": {\"10\": 180, \"14\": 44, \"8\": 16}, \"7\": {\"7\": 164, \"9\": 27, \"2\": 31, \"8\": 4, \"3\": 11, \"6\": 2, \"12\": 1}, \"4\": {\"4\": 186, \"8\": 43, \"3\": 7, \"10\": 4}, \"13\": {\"13\": 221, \"9\": 6, \"2\": 12, \"15\": 1}, \"1\": {\"15\": 57, \"12\": 24, \"5\": 39, \"1\": 84, \"0\": 35, \"9\": 1}, \"0\": {\"15\": 41, \"0\": 63, \"5\": 68, \"3\": 10, \"1\": 36, \"12\": 21, \"2\": 1}, \"12\": {\"0\": 10, \"9\": 17, \"1\": 32, \"5\": 22, \"12\": 108, \"3\": 40, \"2\": 9, \"15\": 1, \"13\": 1}, \"5\": {\"5\": 126, \"1\": 27, \"0\": 55, \"12\": 20, \"3\": 9, \"15\": 3}, \"6\": {\"6\": 221, \"14\": 16, \"7\": 3}, \"2\": {\"9\": 71, \"8\": 1, \"7\": 48, \"2\": 85, \"13\": 18, \"12\": 7, \"1\": 2, \"3\": 8}, \"8\": {\"8\": 162, \"10\": 17, \"3\": 16, \"4\": 32, \"7\": 9, \"6\": 2, \"2\": 1, \"9\": 1}, \"11\": {\"11\": 240}, \"9\": {\"9\": 96, \"2\": 65, \"7\": 22, \"3\": 27, \"13\": 9, \"12\": 18, \"1\": 1, \"0\": 1, \"8\": 1}, \"14\": {\"10\": 48, \"14\": 176, \"6\": 13, \"8\": 3}, \"15\": {\"15\": 151, \"5\": 5, \"0\": 35, \"12\": 2, \"1\": 43, \"13\": 4}, \"3\": {\"3\": 112, \"2\": 11, \"12\": 48, \"8\": 14, \"9\": 23, \"7\": 13, \"4\": 6, \"1\": 5, \"5\": 4, \"0\": 4}}, \"O_14\": {\"14\": {\"14\": 160, \"13\": 47, \"2\": 13, \"3\": 3, \"6\": 15, \"10\": 1, \"4\": 1}, \"0\": {\"10\": 73, \"0\": 160, \"3\": 5, \"11\": 2}, \"4\": {\"4\": 164, \"2\": 3, \"1\": 15, \"5\": 45, \"3\": 12, \"13\": 1}, \"11\": {\"11\": 192, \"9\": 25, \"10\": 15, \"0\": 8}, \"13\": {\"6\": 88, \"14\": 58, \"13\": 53, \"3\": 2, \"2\": 33, \"15\": 1, \"4\": 1, \"5\": 4}, \"9\": {\"9\": 238, \"11\": 1, \"12\": 1}, \"3\": {\"3\": 221, \"2\": 5, \"14\": 4, \"4\": 10}, \"6\": {\"6\": 131, \"13\": 67, \"14\": 17, \"2\": 25}, \"1\": {\"1\": 222, \"5\": 15, \"4\": 3}, \"5\": {\"4\": 54, \"1\": 30, \"5\": 151, \"2\": 5}, \"12\": {\"12\": 239, \"9\": 1}, \"10\": {\"10\": 200, \"0\": 40}, \"8\": {\"8\": 240}, \"7\": {\"7\": 232, \"15\": 7, \"5\": 1}, \"15\": {\"15\": 225, \"7\": 15}, \"2\": {\"2\": 106, \"6\": 32, \"13\": 29, \"5\": 16, \"14\": 32, \"3\": 11, \"15\": 7, \"4\": 7}}, \"O_32\": {\"11\": {\"14\": 35, \"11\": 202, \"7\": 1, \"13\": 2}, \"1\": {\"1\": 239, \"10\": 1}, \"2\": {\"2\": 186, \"4\": 42, \"0\": 7, \"5\": 1, \"7\": 3, \"14\": 1}, \"0\": {\"0\": 111, \"4\": 46, \"5\": 21, \"7\": 17, \"8\": 28, \"14\": 2, \"13\": 5, \"2\": 10}, \"3\": {\"3\": 229, \"13\": 4, \"5\": 4, \"8\": 3}, \"8\": {\"13\": 22, \"8\": 169, \"0\": 17, \"5\": 29, \"3\": 2, \"7\": 1}, \"12\": {\"12\": 240}, \"5\": {\"7\": 25, \"4\": 12, \"5\": 51, \"3\": 11, \"13\": 65, \"0\": 32, \"14\": 9, \"8\": 34, \"11\": 1}, \"15\": {\"15\": 237, \"8\": 3}, \"7\": {\"14\": 43, \"0\": 10, \"7\": 72, \"13\": 31, \"2\": 4, \"5\": 40, \"11\": 7, \"4\": 31, \"8\": 2}, \"4\": {\"4\": 108, \"0\": 58, \"5\": 15, \"7\": 17, \"2\": 31, \"14\": 4, \"13\": 5, \"8\": 2}, \"14\": {\"7\": 34, \"4\": 9, \"11\": 56, \"14\": 98, \"13\": 15, \"8\": 2, \"3\": 5, \"5\": 14, \"2\": 2, \"0\": 5}, \"10\": {\"10\": 238, \"1\": 2}, \"6\": {\"6\": 240}, \"13\": {\"13\": 74, \"8\": 32, \"0\": 10, \"14\": 20, \"5\": 59, \"7\": 26, \"3\": 17, \"4\": 2}, \"9\": {\"9\": 240}}, \"O_8\": {\"9\": {\"9\": 240}, \"11\": {\"1\": 110, \"11\": 120, \"5\": 9, \"8\": 1}, \"8\": {\"8\": 236, \"15\": 3, \"12\": 1}, \"4\": {\"6\": 23, \"4\": 147, \"10\": 1, \"13\": 41, \"14\": 28}, \"13\": {\"13\": 97, \"6\": 17, \"4\": 36, \"10\": 12, \"14\": 17, \"0\": 56, \"7\": 5}, \"14\": {\"14\": 138, \"10\": 65, \"4\": 20, \"13\": 13, \"1\": 3, \"11\": 1}, \"2\": {\"3\": 30, \"2\": 205, \"7\": 5}, \"3\": {\"3\": 215, \"2\": 17, \"12\": 8}, \"1\": {\"1\": 167, \"11\": 68, \"14\": 2, \"5\": 3}, \"0\": {\"0\": 206, \"13\": 20, \"7\": 10, \"6\": 3, \"10\": 1}, \"5\": {\"5\": 211, \"10\": 11, \"14\": 3, \"11\": 5, \"1\": 10}, \"15\": {\"15\": 193, \"12\": 42, \"8\": 5}, \"10\": {\"14\": 63, \"10\": 166, \"13\": 6, \"5\": 1, \"4\": 4}, \"12\": {\"12\": 135, \"15\": 74, \"3\": 28, \"8\": 3}, \"6\": {\"0\": 4, \"6\": 145, \"7\": 54, \"4\": 27, \"13\": 9, \"14\": 1}, \"7\": {\"7\": 195, \"6\": 38, \"8\": 1, \"13\": 1, \"0\": 5}}, \"C_5\": {\"26\": {\"26\": 21, \"51\": 1, \"6\": 2}, \"7\": {\"7\": 26, \"21\": 2, \"12\": 2, \"38\": 2}, \"56\": {\"56\": 135, \"0\": 7}, \"36\": {\"36\": 90, \"57\": 1, \"40\": 1}, \"47\": {\"47\": 98, \"14\": 2}, \"2\": {\"2\": 26, \"31\": 2}, \"15\": {\"15\": 152}, \"14\": {\"36\": 5, \"49\": 7, \"33\": 5, \"14\": 11, \"35\": 1, \"57\": 6, \"46\": 4, \"47\": 4, \"3\": 1}, \"27\": {\"27\": 138, \"48\": 2, \"9\": 6}, \"40\": {\"40\": 119, \"28\": 1, \"19\": 1, \"5\": 2, \"9\": 1}, \"49\": {\"49\": 36}, \"45\": {\"30\": 4, \"45\": 79, \"26\": 1, \"17\": 1, \"9\": 14, \"5\": 2, \"55\": 3, \"27\": 12, \"48\": 6, \"1\": 2}, \"46\": {\"46\": 127, \"3\": 9}, \"11\": {\"11\": 128, \"15\": 1, \"16\": 1}, \"30\": {\"30\": 102, \"55\": 9, \"17\": 1}, \"0\": {\"0\": 106, \"56\": 17, \"2\": 1}, \"10\": {\"10\": 67, \"24\": 1}, \"1\": {\"1\": 148}, \"42\": {\"42\": 38, \"2\": 1, \"0\": 1}, \"54\": {\"54\": 107, \"1\": 5}, \"55\": {\"17\": 14, \"55\": 118, \"51\": 1, \"48\": 3, \"30\": 14, \"1\": 1, \"6\": 1}, \"23\": {\"23\": 124}, \"25\": {\"25\": 112, \"8\": 27, \"17\": 1, \"1\": 1, \"23\": 3, \"6\": 2, \"9\": 2, \"55\": 2, \"53\": 2}, \"28\": {\"28\": 30, \"34\": 2}, \"32\": {\"32\": 32}, \"9\": {\"9\": 125, \"27\": 7, \"45\": 9, \"17\": 1}, \"39\": {\"39\": 18, \"41\": 1, \"42\": 1}, \"3\": {\"3\": 93, \"46\": 7}, \"29\": {\"29\": 108, \"44\": 10}, \"17\": {\"17\": 89, \"55\": 12, \"48\": 1, \"45\": 4, \"1\": 1, \"30\": 7, \"26\": 2}, \"35\": {\"35\": 35, \"31\": 1}, \"44\": {\"44\": 143, \"29\": 9}, \"5\": {\"5\": 127, \"40\": 1}, \"33\": {\"33\": 32}, \"34\": {\"5\": 1, \"34\": 35}, \"13\": {\"3\": 1, \"13\": 131, \"43\": 1, \"52\": 3, \"11\": 2}, \"41\": {\"41\": 26, \"47\": 2}, \"6\": {\"6\": 112, \"17\": 2, \"8\": 4, \"1\": 1, \"55\": 7, \"25\": 2}, \"51\": {\"51\": 123, \"21\": 6, \"7\": 2, \"53\": 2, \"50\": 3, \"12\": 1, \"20\": 1}, \"50\": {\"50\": 108, \"25\": 5, \"8\": 5, \"20\": 14, \"51\": 5, \"53\": 7}, \"37\": {\"37\": 24}, \"19\": {\"19\": 139, \"5\": 2, \"45\": 2, \"4\": 1}, \"57\": {\"57\": 131, \"14\": 1}, \"21\": {\"21\": 144}, \"24\": {\"24\": 75, \"11\": 4, \"15\": 1}, \"8\": {\"8\": 127, \"25\": 3}, \"12\": {\"12\": 73, \"7\": 2, \"21\": 2, \"53\": 4, \"8\": 2, \"6\": 2, \"50\": 4, \"20\": 2, \"4\": 1, \"51\": 4}, \"48\": {\"48\": 128, \"55\": 1, \"9\": 3}, \"43\": {\"43\": 147, \"52\": 3}, \"53\": {\"50\": 8, \"53\": 130, \"25\": 5, \"51\": 2, \"7\": 1, \"8\": 2}, \"38\": {\"38\": 32}, \"16\": {\"16\": 138, \"52\": 4}, \"22\": {\"22\": 28}, \"4\": {\"4\": 64, \"51\": 1, \"27\": 13, \"45\": 10, \"9\": 6, \"19\": 4, \"48\": 2}, \"18\": {\"18\": 63, \"8\": 1}, \"20\": {\"20\": 142, \"21\": 2}, \"52\": {\"52\": 119, \"43\": 10, \"16\": 10, \"8\": 1}, \"31\": {\"31\": 34, \"2\": 1, \"35\": 1}}, \"C_1\": {\"41\": {\"41\": 24}, \"40\": {\"40\": 86, \"19\": 4, \"29\": 10, \"4\": 3, \"1\": 2, \"57\": 5}, \"45\": {\"45\": 115, \"55\": 21, \"7\": 1, \"42\": 1}, \"51\": {\"51\": 146, \"13\": 1, \"3\": 1}, \"5\": {\"5\": 143, \"8\": 1, \"25\": 6, \"48\": 3, \"6\": 1}, \"30\": {\"30\": 117, \"55\": 2, \"9\": 1}, \"42\": {\"45\": 1, \"42\": 36, \"55\": 3}, \"46\": {\"46\": 85, \"37\": 4, \"53\": 14, \"13\": 15, \"51\": 4, \"5\": 6, \"3\": 2, \"4\": 2, \"48\": 1, \"50\": 3}, \"48\": {\"48\": 115, \"6\": 4, \"50\": 10, \"46\": 1, \"2\": 2, \"30\": 2}, \"53\": {\"53\": 128, \"14\": 1, \"13\": 3, \"6\": 1, \"46\": 2, \"4\": 1, \"50\": 1, \"51\": 1, \"41\": 2, \"3\": 1, \"25\": 2, \"48\": 1}, \"47\": {\"47\": 152}, \"49\": {\"49\": 32}, \"36\": {\"36\": 64}, \"32\": {\"32\": 32}, \"34\": {\"34\": 24}, \"29\": {\"29\": 140}, \"35\": {\"35\": 29, \"44\": 7}, \"3\": {\"3\": 109, \"20\": 4, \"16\": 1, \"51\": 10, \"12\": 10}, \"16\": {\"16\": 140}, \"26\": {\"26\": 24}, \"57\": {\"57\": 122, \"19\": 11, \"1\": 11}, \"44\": {\"44\": 124, \"35\": 4}, \"0\": {\"0\": 147, \"23\": 4, \"15\": 1}, \"4\": {\"4\": 84, \"19\": 7, \"57\": 2, \"1\": 6, \"29\": 15, \"17\": 4, \"40\": 10, \"46\": 1, \"50\": 2, \"13\": 1}, \"31\": {\"31\": 23, \"49\": 4, \"23\": 1}, \"11\": {\"11\": 116, \"52\": 24}, \"6\": {\"6\": 75, \"5\": 4, \"8\": 2, \"2\": 5, \"46\": 2, \"50\": 3, \"17\": 2, \"48\": 2, \"53\": 1}, \"54\": {\"54\": 104}, \"17\": {\"17\": 51, \"2\": 6, \"1\": 1, \"8\": 4, \"9\": 2}, \"20\": {\"20\": 119, \"3\": 2, \"51\": 3, \"13\": 1, \"16\": 3}, \"13\": {\"41\": 4, \"13\": 131, \"51\": 5, \"12\": 4, \"20\": 3, \"53\": 2, \"3\": 1}, \"33\": {\"33\": 32}, \"24\": {\"11\": 2, \"24\": 90, \"22\": 4, \"15\": 5, \"52\": 1, \"21\": 6}, \"52\": {\"52\": 101, \"24\": 2, \"11\": 26, \"10\": 3}, \"2\": {\"2\": 34, \"17\": 2}, \"19\": {\"19\": 133, \"57\": 13, \"1\": 8, \"45\": 2}, \"39\": {\"39\": 28}, \"8\": {\"8\": 135, \"30\": 1, \"48\": 2, \"17\": 2}, \"21\": {\"21\": 110, \"24\": 3, \"15\": 11}, \"10\": {\"10\": 95, \"22\": 1}, \"37\": {\"37\": 31, \"46\": 1}, \"25\": {\"25\": 137, \"14\": 1, \"18\": 5, \"13\": 1}, \"27\": {\"27\": 130}, \"23\": {\"23\": 135, \"31\": 1}, \"1\": {\"19\": 18, \"1\": 72, \"45\": 2, \"57\": 8}, \"50\": {\"50\": 112, \"4\": 1, \"6\": 7, \"48\": 21, \"2\": 4, \"17\": 4, \"46\": 1, \"5\": 2}, \"12\": {\"12\": 114, \"3\": 2}, \"18\": {\"18\": 70, \"25\": 2}, \"38\": {\"38\": 22, \"0\": 2}, \"14\": {\"37\": 2, \"30\": 1, \"25\": 1, \"7\": 4, \"45\": 3, \"55\": 3, \"14\": 6, \"18\": 1, \"53\": 2, \"33\": 1}, \"56\": {\"56\": 142}, \"55\": {\"55\": 136, \"45\": 23, \"42\": 1}, \"9\": {\"9\": 137, \"30\": 1}, \"15\": {\"15\": 144, \"21\": 2}, \"28\": {\"28\": 28}, \"7\": {\"7\": 28}, \"43\": {\"43\": 136}, \"22\": {\"22\": 135, \"28\": 1}}, \"C_3\": {\"1\": {\"1\": 86, \"35\": 2, \"34\": 5, \"57\": 5, \"28\": 2}, \"9\": {\"9\": 124}, \"22\": {\"22\": 136}, \"43\": {\"43\": 136}, \"49\": {\"49\": 20}, \"50\": {\"50\": 126, \"20\": 6, \"6\": 1, \"46\": 2, \"18\": 1, \"3\": 1, \"25\": 1}, \"53\": {\"53\": 119, \"8\": 7, \"12\": 5, \"38\": 1, \"51\": 2, \"25\": 1, \"50\": 1}, \"10\": {\"10\": 64}, \"48\": {\"48\": 102, \"27\": 2, \"55\": 11, \"17\": 1}, \"8\": {\"8\": 133, \"25\": 3, \"36\": 2}, \"31\": {\"31\": 28}, \"56\": {\"56\": 134}, \"25\": {\"25\": 101, \"2\": 4, \"8\": 20, \"50\": 8, \"6\": 3, \"54\": 1, \"36\": 2, \"4\": 1, \"30\": 2}, \"28\": {\"1\": 2, \"28\": 26}, \"38\": {\"38\": 27, \"50\": 1}, \"5\": {\"5\": 111, \"47\": 5}, \"12\": {\"12\": 81, \"50\": 1, \"53\": 4, \"17\": 1, \"38\": 2, \"2\": 1, \"51\": 2}, \"6\": {\"6\": 59, \"25\": 3, \"41\": 2, \"18\": 12, \"23\": 2, \"46\": 5, \"8\": 2, \"3\": 1, \"50\": 1, \"20\": 1}, \"19\": {\"19\": 129, \"40\": 12, \"29\": 6, \"32\": 2, \"42\": 1, \"35\": 1, \"9\": 1}, \"26\": {\"26\": 24}, \"32\": {\"32\": 24, \"4\": 2, \"27\": 2}, \"33\": {\"33\": 28}, \"3\": {\"3\": 88, \"46\": 2, \"52\": 10, \"20\": 11, \"50\": 5, \"25\": 1, \"21\": 1}, \"51\": {\"51\": 117, \"53\": 6, \"12\": 1, \"3\": 2, \"50\": 2}, \"16\": {\"16\": 137, \"46\": 1}, \"46\": {\"46\": 124, \"52\": 3, \"20\": 4, \"16\": 5, \"6\": 2, \"15\": 1, \"3\": 1}, \"7\": {\"7\": 34, \"15\": 1, \"11\": 1}, \"47\": {\"47\": 90, \"5\": 1, \"55\": 1}, \"39\": {\"39\": 16}, \"40\": {\"40\": 102, \"19\": 20, \"4\": 9, \"44\": 3, \"9\": 2}, \"14\": {\"35\": 8, \"14\": 12, \"0\": 1, \"29\": 2, \"56\": 5, \"57\": 5, \"44\": 1, \"22\": 5, \"34\": 1}, \"37\": {\"37\": 28}, \"2\": {\"2\": 32}, \"21\": {\"21\": 118, \"51\": 2}, \"35\": {\"35\": 28}, \"54\": {\"54\": 99, \"30\": 1}, \"52\": {\"52\": 107, \"20\": 2, \"16\": 6, \"3\": 1}, \"29\": {\"29\": 118}, \"20\": {\"20\": 127, \"52\": 1, \"3\": 4}, \"18\": {\"18\": 77, \"6\": 6, \"41\": 1}, \"11\": {\"11\": 141, \"43\": 1}, \"0\": {\"0\": 123, \"47\": 1}, \"36\": {\"36\": 86, \"33\": 6, \"25\": 1, \"30\": 7}, \"17\": {\"17\": 105, \"54\": 1, \"27\": 2}, \"30\": {\"30\": 112, \"36\": 2}, \"42\": {\"42\": 28}, \"45\": {\"45\": 52, \"54\": 3, \"4\": 1, \"27\": 1, \"40\": 2, \"25\": 1}, \"4\": {\"45\": 3, \"4\": 127, \"27\": 3, \"32\": 2, \"40\": 3, \"19\": 8, \"54\": 1, \"9\": 1}, \"23\": {\"23\": 132, \"27\": 1, \"17\": 1}, \"13\": {\"13\": 127, \"52\": 1}, \"15\": {\"15\": 124, \"18\": 1, \"7\": 2, \"23\": 1}, \"57\": {\"57\": 124}, \"27\": {\"27\": 134}, \"44\": {\"44\": 86, \"57\": 2}, \"34\": {\"34\": 30, \"28\": 2}, \"41\": {\"41\": 25, \"6\": 3}, \"24\": {\"24\": 104}, \"55\": {\"55\": 117, \"48\": 1}}, \"C_4\": {\"52\": {\"52\": 112, \"16\": 3, \"15\": 1}, \"6\": {\"6\": 84, \"37\": 1, \"53\": 7, \"20\": 8, \"50\": 3, \"51\": 7, \"8\": 1, \"16\": 1}, \"14\": {\"14\": 11, \"29\": 3, \"1\": 1, \"35\": 1}, \"49\": {\"49\": 20}, \"0\": {\"0\": 74, \"38\": 3, \"32\": 1, \"2\": 1, \"46\": 1}, \"46\": {\"46\": 148, \"32\": 2, \"5\": 2, \"47\": 3, \"41\": 1}, \"41\": {\"41\": 36}, \"24\": {\"24\": 50, \"11\": 4, \"43\": 1, \"41\": 1}, \"25\": {\"25\": 103, \"8\": 17, \"3\": 11, \"36\": 10, \"45\": 1, \"50\": 6, \"51\": 1, \"20\": 2, \"48\": 1}, \"40\": {\"40\": 116, \"45\": 1, \"19\": 11, \"29\": 2, \"48\": 1, \"4\": 2, \"44\": 3, \"25\": 1, \"50\": 1}, \"38\": {\"49\": 2, \"0\": 2, \"38\": 36}, \"13\": {\"13\": 151, \"10\": 1}, \"9\": {\"9\": 99, \"17\": 2, \"4\": 5, \"27\": 2}, \"45\": {\"45\": 62, \"9\": 1, \"27\": 7, \"17\": 9, \"4\": 9, \"48\": 1, \"19\": 2, \"40\": 4, \"21\": 1}, \"43\": {\"43\": 143, \"11\": 1}, \"10\": {\"10\": 130}, \"15\": {\"15\": 123, \"11\": 1, \"16\": 2, \"52\": 1, \"23\": 1}, \"39\": {\"39\": 20}, \"4\": {\"4\": 118, \"9\": 9, \"27\": 3, \"40\": 1, \"8\": 1}, \"53\": {\"53\": 110, \"6\": 11, \"51\": 5, \"21\": 1, \"25\": 1, \"50\": 2, \"3\": 2}, \"1\": {\"1\": 33, \"56\": 3, \"14\": 1, \"57\": 2, \"29\": 1}, \"28\": {\"28\": 32}, \"54\": {\"54\": 101, \"48\": 7}, \"21\": {\"21\": 115, \"3\": 1, \"50\": 8, \"8\": 3, \"12\": 1, \"25\": 2, \"36\": 1, \"6\": 1}, \"7\": {\"7\": 22, \"39\": 1, \"18\": 1}, \"8\": {\"8\": 132, \"25\": 1, \"51\": 1, \"50\": 2}, \"42\": {\"42\": 32}, \"11\": {\"11\": 95, \"5\": 2, \"43\": 6, \"46\": 1}, \"33\": {\"33\": 35, \"55\": 1}, \"27\": {\"27\": 135, \"17\": 3, \"45\": 1, \"9\": 2, \"4\": 1}, \"19\": {\"19\": 128, \"40\": 5, \"44\": 9, \"4\": 2}, \"2\": {\"2\": 36}, \"3\": {\"3\": 99, \"30\": 1, \"25\": 5, \"36\": 2, \"20\": 8, \"45\": 1, \"6\": 2, \"8\": 2}, \"57\": {\"57\": 92, \"35\": 8}, \"20\": {\"20\": 108, \"3\": 2, \"50\": 1, \"8\": 1}, \"23\": {\"23\": 119, \"18\": 9}, \"22\": {\"22\": 128}, \"29\": {\"29\": 124}, \"36\": {\"36\": 86, \"3\": 3, \"30\": 1, \"25\": 1, \"21\": 1}, \"51\": {\"51\": 121, \"53\": 6, \"36\": 1, \"21\": 1, \"50\": 1, \"20\": 2}, \"31\": {\"31\": 27, \"39\": 1}, \"12\": {\"12\": 69, \"53\": 5, \"8\": 1, \"21\": 10, \"50\": 3, \"51\": 2, \"30\": 1, \"45\": 1}, \"56\": {\"56\": 137, \"1\": 1}, \"5\": {\"39\": 1, \"5\": 92, \"23\": 3, \"46\": 11, \"49\": 1}, \"35\": {\"35\": 30, \"57\": 8, \"19\": 1, \"40\": 1}, \"17\": {\"17\": 73, \"40\": 1, \"45\": 1, \"27\": 2, \"15\": 1, \"9\": 2}, \"32\": {\"32\": 24}, \"47\": {\"47\": 120}, \"18\": {\"18\": 94, \"23\": 13, \"47\": 1}, \"26\": {\"26\": 22, \"54\": 2}, \"50\": {\"50\": 94, \"20\": 2, \"21\": 10, \"8\": 5, \"25\": 6, \"53\": 4, \"6\": 1}, \"55\": {\"55\": 124}, \"34\": {\"34\": 24}, \"30\": {\"30\": 44}, \"37\": {\"37\": 24}, \"44\": {\"44\": 130, \"19\": 2}, \"48\": {\"48\": 105, \"28\": 3, \"17\": 1, \"54\": 7, \"27\": 2}, \"16\": {\"16\": 96}}, \"C_2\": {\"11\": {\"11\": 130}, \"21\": {\"21\": 117, \"53\": 1, \"51\": 2}, \"19\": {\"19\": 134, \"9\": 6}, \"20\": {\"20\": 120, \"53\": 6, \"12\": 2}, \"9\": {\"9\": 132, \"19\": 4, \"40\": 2, \"42\": 2}, \"10\": {\"10\": 112}, \"37\": {\"37\": 36}, \"32\": {\"32\": 28}, \"3\": {\"3\": 88, \"53\": 2, \"51\": 1, \"40\": 1}, \"39\": {\"39\": 28}, \"45\": {\"40\": 7, \"45\": 94, \"4\": 13, \"9\": 5, \"32\": 2, \"17\": 2, \"54\": 2, \"27\": 1, \"48\": 1, \"29\": 1}, \"50\": {\"50\": 124, \"41\": 1, \"6\": 8, \"25\": 1, \"36\": 1, \"30\": 1}, \"40\": {\"40\": 104, \"35\": 5, \"29\": 3, \"9\": 12, \"44\": 2, \"19\": 11, \"57\": 2, \"4\": 1}, \"46\": {\"46\": 107, \"52\": 3, \"16\": 7, \"15\": 5, \"6\": 5, \"7\": 1}, \"12\": {\"12\": 79, \"25\": 5, \"53\": 2, \"20\": 4, \"51\": 1, \"52\": 1}, \"13\": {\"13\": 116}, \"47\": {\"47\": 132}, \"15\": {\"15\": 142}, \"54\": {\"54\": 99, \"27\": 5, \"17\": 2, \"48\": 1, \"4\": 1}, \"48\": {\"48\": 145, \"34\": 2, \"42\": 1}, \"23\": {\"23\": 142}, \"29\": {\"29\": 122, \"57\": 2, \"19\": 3, \"44\": 1}, \"38\": {\"38\": 19, \"24\": 1}, \"53\": {\"53\": 104, \"20\": 20, \"51\": 4, \"25\": 1, \"8\": 4, \"45\": 1, \"4\": 1, \"12\": 1}, \"27\": {\"27\": 140, \"25\": 2, \"30\": 2, \"36\": 4, \"17\": 2}, \"43\": {\"43\": 142, \"11\": 1, \"5\": 1}, \"35\": {\"35\": 16, \"40\": 7, \"9\": 6, \"17\": 1, \"4\": 2}, \"0\": {\"0\": 47, \"47\": 1}, \"52\": {\"52\": 112, \"16\": 11, \"6\": 1}, \"8\": {\"8\": 108, \"20\": 2, \"6\": 6, \"25\": 10, \"50\": 2}, \"24\": {\"10\": 3, \"24\": 92, \"38\": 1}, \"18\": {\"18\": 47, \"41\": 1}, \"25\": {\"25\": 108, \"8\": 21, \"18\": 1, \"50\": 6, \"36\": 7, \"6\": 1, \"27\": 2, \"9\": 1, \"40\": 1}, \"57\": {\"57\": 131, \"1\": 5}, \"55\": {\"55\": 134}, \"36\": {\"36\": 112, \"25\": 2, \"18\": 2}, \"17\": {\"17\": 99, \"30\": 2, \"48\": 1, \"36\": 2}, \"2\": {\"2\": 32}, \"34\": {\"34\": 28}, \"1\": {\"1\": 93, \"57\": 15, \"14\": 2, \"55\": 2}, \"51\": {\"51\": 123, \"53\": 6, \"3\": 2, \"20\": 3, \"50\": 2}, \"31\": {\"31\": 28}, \"49\": {\"49\": 24}, \"14\": {\"31\": 1, \"14\": 11, \"29\": 3, \"57\": 2, \"0\": 2, \"56\": 3, \"1\": 1, \"55\": 1}, \"33\": {\"33\": 28}, \"41\": {\"41\": 18, \"36\": 2}, \"28\": {\"28\": 26, \"23\": 1, \"30\": 1}, \"5\": {\"5\": 118, \"47\": 1, \"39\": 1}, \"16\": {\"16\": 150}, \"4\": {\"4\": 107, \"40\": 11, \"45\": 2, \"19\": 2, \"9\": 6}, \"22\": {\"22\": 135, \"56\": 1}, \"6\": {\"50\": 10, \"6\": 102, \"8\": 3, \"25\": 2, \"46\": 1}, \"30\": {\"30\": 123, \"23\": 1}, \"26\": {\"26\": 24}, \"56\": {\"56\": 142}, \"42\": {\"42\": 36}, \"44\": {\"44\": 100}, \"7\": {\"7\": 36}}}, \"per_domain_accuracy\": {\"O_26\": {\"accuracy\": 0.5578125, \"source?\": true}, \"O_44\": {\"accuracy\": 0.6794270833333333, \"source?\": true}, \"O_50\": {\"accuracy\": 0.7427083333333333, \"source?\": true}, \"O_38\": {\"accuracy\": 0.7026041666666667, \"source?\": true}, \"O_20\": {\"accuracy\": 0.6184895833333334, \"source?\": true}, \"O_14\": {\"accuracy\": 0.7640625, \"source?\": true}, \"O_32\": {\"accuracy\": 0.7119791666666667, \"source?\": true}, \"O_8\": {\"accuracy\": 0.7333333333333333, \"source?\": true}, \"C_5\": {\"accuracy\": 0.9100907821229051, \"source?\": false}, \"C_1\": {\"accuracy\": 0.9018342391304348, \"source?\": false}, \"C_3\": {\"accuracy\": 0.928125, \"source?\": false}, \"C_4\": {\"accuracy\": 0.9126506024096386, \"source?\": false}, \"C_2\": {\"accuracy\": 0.9279119318181818, \"source?\": false}}}, \"history\": {\"epoch_indices\": [1, 2, 3, 4, 5, 6, 7, 8], \"train_label_loss\": [2.0008131135698584, 0.9456930497395141, 0.8776504549596991, 0.8408680535719864, 0.8080588157244382, 0.7856631521224267, 0.7655309754091182, 0.7444775654579557], \"source_val_label_loss\": [1.1885342597961426, 0.9535133242607117, 0.9712072610855103, 0.8303616046905518, 0.8134403228759766, 0.8317378163337708, 0.7729530930519104, 0.7503926753997803], \"target_val_label_loss\": [5.778234481811523, 2.076444625854492, 2.187537431716919, 1.6956506967544556, 2.758594274520874, 3.3436336517333984, 3.1613454818725586, 5.299843788146973], \"source_val_acc_label\": [0.58203125, 0.64345703125, 0.6313802083333333, 0.6888020833333334, 0.6932942708333333, 0.6910481770833333, 0.7076497395833333, 0.7138997395833333], \"target_val_acc_label\": [0.8311785714285714, 0.9155714285714286, 0.91025, 0.9159285714285714, 0.8981071428571429, 0.88, 0.8790357142857143, 0.8618214285714285]}, \"dataset_metrics\": {\"source\": {\"train\": {\"n_unique_x\": 179200, \"n_unique_y\": 16, \"n_batch/episode\": 6720}, \"val\": {\"n_unique_x\": 38400, \"n_unique_y\": 16, \"n_batch/episode\": 960}, \"test\": {\"n_unique_x\": 38400, \"n_unique_y\": 16, \"n_batch/episode\": 960}}, \"target\": {\"train\": {\"n_unique_x\": 175203, \"n_unique_y\": 58, \"n_batch/episode\": 6321}, \"val\": {\"n_unique_x\": 37151, \"n_unique_y\": 58, \"n_batch/episode\": 875}, \"test\": {\"n_unique_x\": 37548, \"n_unique_y\": 58, \"n_batch/episode\": 885}}}}'"
      ]
     },
     "execution_count": 29,
     "metadata": {},
     "output_type": "execute_result"
    }
   ],
   "source": [
    "json.dumps(experiment)"
   ]
  }
 ],
 "metadata": {
  "celltoolbar": "Tags",
  "kernelspec": {
   "display_name": "Python 3 (ipykernel)",
   "language": "python",
   "name": "python3"
  },
  "language_info": {
   "codemirror_mode": {
    "name": "ipython",
    "version": 3
   },
   "file_extension": ".py",
   "mimetype": "text/x-python",
   "name": "python",
   "nbconvert_exporter": "python",
   "pygments_lexer": "ipython3",
   "version": "3.8.12"
  },
  "papermill": {
   "default_parameters": {},
   "duration": 1512.347019,
   "end_time": "2022-03-28T11:29:46.337083",
   "environment_variables": {},
   "exception": null,
   "input_path": "/root/csc500-main/csc500-notebooks/templates/tl_ptn_template.ipynb",
   "output_path": "trial.ipynb",
   "parameters": {
    "parameters": {
     "BEST_MODEL_PATH": "./best_model.pth",
     "NUM_LOGS_PER_EPOCH": 10,
     "criteria_for_best": "target_accuracy",
     "dataset_seed": 7,
     "datasets": [
      {
       "domain_prefix": "C_",
       "domains": [
        1,
        2,
        3,
        4,
        5
       ],
       "episode_transforms": [],
       "labels": [
        "1-10.",
        "1-11.",
        "1-15.",
        "1-16.",
        "1-17.",
        "1-18.",
        "1-19.",
        "10-4.",
        "10-7.",
        "11-1.",
        "11-14.",
        "11-17.",
        "11-20.",
        "11-7.",
        "13-20.",
        "13-8.",
        "14-10.",
        "14-11.",
        "14-14.",
        "14-7.",
        "15-1.",
        "15-20.",
        "16-1.",
        "16-16.",
        "17-10.",
        "17-11.",
        "17-2.",
        "19-1.",
        "19-16.",
        "19-19.",
        "19-20.",
        "19-3.",
        "2-10.",
        "2-11.",
        "2-17.",
        "2-18.",
        "2-20.",
        "2-3.",
        "2-4.",
        "2-5.",
        "2-6.",
        "2-7.",
        "2-8.",
        "3-13.",
        "3-18.",
        "3-3.",
        "4-1.",
        "4-10.",
        "4-11.",
        "4-19.",
        "5-5.",
        "6-15.",
        "7-10.",
        "7-14.",
        "8-18.",
        "8-20.",
        "8-3.",
        "8-8."
       ],
       "num_examples_per_domain_per_label": -1,
       "pickle_path": "/root/csc500-main/datasets/cores.stratified_ds.2022A.pkl",
       "source_or_target_dataset": "target",
       "x_transforms": [
        "unit_mag",
        "jitter_256_10",
        "lowpass_+/-10MHz",
        "take_200"
       ]
      },
      {
       "domain_prefix": "O_",
       "domains": [
        32,
        38,
        8,
        44,
        14,
        50,
        20,
        26
       ],
       "episode_transforms": [],
       "labels": [
        "3123D52",
        "3123D65",
        "3123D79",
        "3123D80",
        "3123D54",
        "3123D70",
        "3123D7B",
        "3123D89",
        "3123D58",
        "3123D76",
        "3123D7D",
        "3123EFE",
        "3123D64",
        "3123D78",
        "3123D7E",
        "3124E4A"
       ],
       "num_examples_per_domain_per_label": 2000,
       "pickle_path": "/root/csc500-main/datasets/oracle.Run1_framed_2000Examples_stratified_ds.2022A.pkl",
       "source_or_target_dataset": "source",
       "x_transforms": [
        "unit_mag",
        "jitter_256_10",
        "take_200",
        "resample_20Msps_to_25Msps"
       ]
      }
     ],
     "device": "cuda",
     "experiment_name": "tl_3-jitter10v2:oracle.run1.framed -> cores",
     "lr": 0.0001,
     "n_epoch": 50,
     "n_query": 2,
     "n_shot": 3,
     "n_way": 16,
     "patience": 3,
     "seed": 7,
     "test_k_factor": 2,
     "torch_default_dtype": "torch.float32",
     "train_k_factor": 3,
     "val_k_factor": 2,
     "x_net": [
      {
       "class": "nnReshape",
       "kargs": {
        "shape": [
         -1,
         1,
         2,
         256
        ]
       }
      },
      {
       "class": "Conv2d",
       "kargs": {
        "bias": false,
        "in_channels": 1,
        "kernel_size": [
         1,
         7
        ],
        "out_channels": 256,
        "padding": [
         0,
         3
        ]
       }
      },
      {
       "class": "ReLU",
       "kargs": {
        "inplace": true
       }
      },
      {
       "class": "BatchNorm2d",
       "kargs": {
        "num_features": 256
       }
      },
      {
       "class": "Conv2d",
       "kargs": {
        "bias": true,
        "in_channels": 256,
        "kernel_size": [
         2,
         7
        ],
        "out_channels": 80,
        "padding": [
         0,
         3
        ]
       }
      },
      {
       "class": "ReLU",
       "kargs": {
        "inplace": true
       }
      },
      {
       "class": "BatchNorm2d",
       "kargs": {
        "num_features": 80
       }
      },
      {
       "class": "Flatten",
       "kargs": {}
      },
      {
       "class": "Linear",
       "kargs": {
        "in_features": 20480,
        "out_features": 256
       }
      },
      {
       "class": "ReLU",
       "kargs": {
        "inplace": true
       }
      },
      {
       "class": "BatchNorm1d",
       "kargs": {
        "num_features": 256
       }
      },
      {
       "class": "Linear",
       "kargs": {
        "in_features": 256,
        "out_features": 256
       }
      }
     ],
     "x_shape": [
      2,
      256
     ]
    }
   },
   "start_time": "2022-03-28T11:04:33.990064",
   "version": "2.3.4"
  }
 },
 "nbformat": 4,
 "nbformat_minor": 5
}