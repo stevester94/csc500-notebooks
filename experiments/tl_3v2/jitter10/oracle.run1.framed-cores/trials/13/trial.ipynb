{
 "cells": [
  {
   "cell_type": "markdown",
   "id": "9fea5f46",
   "metadata": {
    "papermill": {
     "duration": 0.029936,
     "end_time": "2022-03-28T11:40:47.943437",
     "exception": false,
     "start_time": "2022-03-28T11:40:47.913501",
     "status": "completed"
    },
    "tags": []
   },
   "source": [
    "# Transfer Learning Template"
   ]
  },
  {
   "cell_type": "code",
   "execution_count": 1,
   "id": "0902182a",
   "metadata": {
    "execution": {
     "iopub.execute_input": "2022-03-28T11:40:48.005186Z",
     "iopub.status.busy": "2022-03-28T11:40:47.998766Z",
     "iopub.status.idle": "2022-03-28T11:40:49.811224Z",
     "shell.execute_reply": "2022-03-28T11:40:49.811552Z"
    },
    "papermill": {
     "duration": 1.846078,
     "end_time": "2022-03-28T11:40:49.811761",
     "exception": false,
     "start_time": "2022-03-28T11:40:47.965683",
     "status": "completed"
    },
    "tags": []
   },
   "outputs": [],
   "source": [
    "%load_ext autoreload\n",
    "%autoreload 2\n",
    "%matplotlib inline\n",
    "\n",
    "    \n",
    "import os, json, sys, time, random\n",
    "import numpy as np\n",
    "import torch\n",
    "from torch.optim import Adam\n",
    "from  easydict import EasyDict\n",
    "import matplotlib.pyplot as plt\n",
    "\n",
    "from steves_models.steves_ptn import Steves_Prototypical_Network\n",
    "\n",
    "from steves_utils.lazy_iterable_wrapper import Lazy_Iterable_Wrapper\n",
    "from steves_utils.iterable_aggregator import Iterable_Aggregator\n",
    "from steves_utils.ptn_train_eval_test_jig import  PTN_Train_Eval_Test_Jig\n",
    "from steves_utils.torch_sequential_builder import build_sequential\n",
    "from steves_utils.torch_utils import get_dataset_metrics, ptn_confusion_by_domain_over_dataloader\n",
    "from steves_utils.utils_v2 import (per_domain_accuracy_from_confusion, get_datasets_base_path)\n",
    "from steves_utils.PTN.utils import independent_accuracy_assesment\n",
    "\n",
    "from torch.utils.data import DataLoader\n",
    "\n",
    "from steves_utils.stratified_dataset.episodic_accessor import Episodic_Accessor_Factory\n",
    "\n",
    "from steves_utils.ptn_do_report import (\n",
    "    get_loss_curve,\n",
    "    get_results_table,\n",
    "    get_parameters_table,\n",
    "    get_domain_accuracies,\n",
    ")\n",
    "\n",
    "from steves_utils.transforms import get_chained_transform"
   ]
  },
  {
   "cell_type": "markdown",
   "id": "41c840b4",
   "metadata": {
    "papermill": {
     "duration": 0.019208,
     "end_time": "2022-03-28T11:40:49.850686",
     "exception": false,
     "start_time": "2022-03-28T11:40:49.831478",
     "status": "completed"
    },
    "tags": []
   },
   "source": [
    "# Allowed Parameters\n",
    "These are allowed parameters, not defaults\n",
    "Each of these values need to be present in the injected parameters (the notebook will raise an exception if they are not present)\n",
    "\n",
    "Papermill uses the cell tag \"parameters\" to inject the real parameters below this cell.\n",
    "Enable tags to see what I mean"
   ]
  },
  {
   "cell_type": "code",
   "execution_count": 2,
   "id": "fd44eb83",
   "metadata": {
    "execution": {
     "iopub.execute_input": "2022-03-28T11:40:49.892364Z",
     "iopub.status.busy": "2022-03-28T11:40:49.891985Z",
     "iopub.status.idle": "2022-03-28T11:40:49.910782Z",
     "shell.execute_reply": "2022-03-28T11:40:49.910467Z"
    },
    "papermill": {
     "duration": 0.041178,
     "end_time": "2022-03-28T11:40:49.910851",
     "exception": false,
     "start_time": "2022-03-28T11:40:49.869673",
     "status": "completed"
    },
    "tags": []
   },
   "outputs": [],
   "source": [
    "required_parameters = {\n",
    "    \"experiment_name\",\n",
    "    \"lr\",\n",
    "    \"device\",\n",
    "    \"seed\",\n",
    "    \"dataset_seed\",\n",
    "    \"n_shot\",\n",
    "    \"n_query\",\n",
    "    \"n_way\",\n",
    "    \"train_k_factor\",\n",
    "    \"val_k_factor\",\n",
    "    \"test_k_factor\",\n",
    "    \"n_epoch\",\n",
    "    \"patience\",\n",
    "    \"criteria_for_best\",\n",
    "    \"x_net\",\n",
    "    \"datasets\",\n",
    "    \"torch_default_dtype\",\n",
    "    \"NUM_LOGS_PER_EPOCH\",\n",
    "    \"BEST_MODEL_PATH\",\n",
    "    \"x_shape\",\n",
    "}"
   ]
  },
  {
   "cell_type": "code",
   "execution_count": 3,
   "id": "fa3f0049",
   "metadata": {
    "execution": {
     "iopub.execute_input": "2022-03-28T11:40:49.958224Z",
     "iopub.status.busy": "2022-03-28T11:40:49.957815Z",
     "iopub.status.idle": "2022-03-28T11:40:49.976811Z",
     "shell.execute_reply": "2022-03-28T11:40:49.976495Z"
    },
    "papermill": {
     "duration": 0.046991,
     "end_time": "2022-03-28T11:40:49.976879",
     "exception": false,
     "start_time": "2022-03-28T11:40:49.929888",
     "status": "completed"
    },
    "tags": [
     "parameters"
    ]
   },
   "outputs": [],
   "source": [
    "from steves_utils.CORES.utils import (\n",
    "    ALL_NODES,\n",
    "    ALL_NODES_MINIMUM_1000_EXAMPLES,\n",
    "    ALL_DAYS\n",
    ")\n",
    "\n",
    "from steves_utils.ORACLE.utils_v2 import (\n",
    "    ALL_DISTANCES_FEET_NARROWED,\n",
    "    ALL_RUNS,\n",
    "    ALL_SERIAL_NUMBERS,\n",
    ")\n",
    "\n",
    "standalone_parameters = {}\n",
    "standalone_parameters[\"experiment_name\"] = \"STANDALONE PTN\"\n",
    "standalone_parameters[\"lr\"] = 0.001\n",
    "standalone_parameters[\"device\"] = \"cuda\"\n",
    "\n",
    "standalone_parameters[\"seed\"] = 1337\n",
    "standalone_parameters[\"dataset_seed\"] = 1337\n",
    "\n",
    "standalone_parameters[\"n_way\"] = 8\n",
    "standalone_parameters[\"n_shot\"] = 3\n",
    "standalone_parameters[\"n_query\"]  = 2\n",
    "standalone_parameters[\"train_k_factor\"] = 1\n",
    "standalone_parameters[\"val_k_factor\"] = 2\n",
    "standalone_parameters[\"test_k_factor\"] = 2\n",
    "\n",
    "\n",
    "standalone_parameters[\"n_epoch\"] = 50\n",
    "\n",
    "standalone_parameters[\"patience\"] = 10\n",
    "standalone_parameters[\"criteria_for_best\"] = \"source_loss\"\n",
    "\n",
    "standalone_parameters[\"datasets\"] = [\n",
    "    {\n",
    "        \"labels\": ALL_SERIAL_NUMBERS,\n",
    "        \"domains\": ALL_DISTANCES_FEET_NARROWED,\n",
    "        \"num_examples_per_domain_per_label\": 100,\n",
    "        \"pickle_path\": os.path.join(get_datasets_base_path(), \"oracle.Run1_framed_2000Examples_stratified_ds.2022A.pkl\"),\n",
    "        \"source_or_target_dataset\": \"source\",\n",
    "        \"x_transforms\": [\"unit_mag\", \"minus_two\"],\n",
    "        \"episode_transforms\": [],\n",
    "        \"domain_prefix\": \"ORACLE_\"\n",
    "    },\n",
    "    {\n",
    "        \"labels\": ALL_NODES,\n",
    "        \"domains\": ALL_DAYS,\n",
    "        \"num_examples_per_domain_per_label\": 100,\n",
    "        \"pickle_path\": os.path.join(get_datasets_base_path(), \"cores.stratified_ds.2022A.pkl\"),\n",
    "        \"source_or_target_dataset\": \"target\",\n",
    "        \"x_transforms\": [\"unit_power\", \"times_zero\"],\n",
    "        \"episode_transforms\": [],\n",
    "        \"domain_prefix\": \"CORES_\"\n",
    "    }   \n",
    "]\n",
    "\n",
    "standalone_parameters[\"torch_default_dtype\"] = \"torch.float32\" \n",
    "\n",
    "\n",
    "\n",
    "standalone_parameters[\"x_net\"] =     [\n",
    "    {\"class\": \"nnReshape\", \"kargs\": {\"shape\":[-1, 1, 2, 256]}},\n",
    "    {\"class\": \"Conv2d\", \"kargs\": { \"in_channels\":1, \"out_channels\":256, \"kernel_size\":(1,7), \"bias\":False, \"padding\":(0,3), },},\n",
    "    {\"class\": \"ReLU\", \"kargs\": {\"inplace\": True}},\n",
    "    {\"class\": \"BatchNorm2d\", \"kargs\": {\"num_features\":256}},\n",
    "\n",
    "    {\"class\": \"Conv2d\", \"kargs\": { \"in_channels\":256, \"out_channels\":80, \"kernel_size\":(2,7), \"bias\":True, \"padding\":(0,3), },},\n",
    "    {\"class\": \"ReLU\", \"kargs\": {\"inplace\": True}},\n",
    "    {\"class\": \"BatchNorm2d\", \"kargs\": {\"num_features\":80}},\n",
    "    {\"class\": \"Flatten\", \"kargs\": {}},\n",
    "\n",
    "    {\"class\": \"Linear\", \"kargs\": {\"in_features\": 80*256, \"out_features\": 256}}, # 80 units per IQ pair\n",
    "    {\"class\": \"ReLU\", \"kargs\": {\"inplace\": True}},\n",
    "    {\"class\": \"BatchNorm1d\", \"kargs\": {\"num_features\":256}},\n",
    "\n",
    "    {\"class\": \"Linear\", \"kargs\": {\"in_features\": 256, \"out_features\": 256}},\n",
    "]\n",
    "\n",
    "# Parameters relevant to results\n",
    "# These parameters will basically never need to change\n",
    "standalone_parameters[\"NUM_LOGS_PER_EPOCH\"] = 10\n",
    "standalone_parameters[\"BEST_MODEL_PATH\"] = \"./best_model.pth\"\n",
    "\n",
    "\n",
    "\n",
    "\n"
   ]
  },
  {
   "cell_type": "code",
   "execution_count": 4,
   "id": "c577375c",
   "metadata": {
    "execution": {
     "iopub.execute_input": "2022-03-28T11:40:50.031779Z",
     "iopub.status.busy": "2022-03-28T11:40:50.031333Z",
     "iopub.status.idle": "2022-03-28T11:40:50.050106Z",
     "shell.execute_reply": "2022-03-28T11:40:50.049791Z"
    },
    "papermill": {
     "duration": 0.053851,
     "end_time": "2022-03-28T11:40:50.050175",
     "exception": false,
     "start_time": "2022-03-28T11:40:49.996324",
     "status": "completed"
    },
    "tags": [
     "injected-parameters"
    ]
   },
   "outputs": [],
   "source": [
    "# Parameters\n",
    "parameters = {\n",
    "    \"experiment_name\": \"tl_3-jitter10v2:oracle.run1.framed -> cores\",\n",
    "    \"device\": \"cuda\",\n",
    "    \"lr\": 0.0001,\n",
    "    \"x_shape\": [2, 256],\n",
    "    \"n_shot\": 3,\n",
    "    \"n_query\": 2,\n",
    "    \"train_k_factor\": 3,\n",
    "    \"val_k_factor\": 2,\n",
    "    \"test_k_factor\": 2,\n",
    "    \"torch_default_dtype\": \"torch.float32\",\n",
    "    \"n_epoch\": 50,\n",
    "    \"patience\": 3,\n",
    "    \"criteria_for_best\": \"target_accuracy\",\n",
    "    \"x_net\": [\n",
    "        {\"class\": \"nnReshape\", \"kargs\": {\"shape\": [-1, 1, 2, 256]}},\n",
    "        {\n",
    "            \"class\": \"Conv2d\",\n",
    "            \"kargs\": {\n",
    "                \"in_channels\": 1,\n",
    "                \"out_channels\": 256,\n",
    "                \"kernel_size\": [1, 7],\n",
    "                \"bias\": False,\n",
    "                \"padding\": [0, 3],\n",
    "            },\n",
    "        },\n",
    "        {\"class\": \"ReLU\", \"kargs\": {\"inplace\": True}},\n",
    "        {\"class\": \"BatchNorm2d\", \"kargs\": {\"num_features\": 256}},\n",
    "        {\n",
    "            \"class\": \"Conv2d\",\n",
    "            \"kargs\": {\n",
    "                \"in_channels\": 256,\n",
    "                \"out_channels\": 80,\n",
    "                \"kernel_size\": [2, 7],\n",
    "                \"bias\": True,\n",
    "                \"padding\": [0, 3],\n",
    "            },\n",
    "        },\n",
    "        {\"class\": \"ReLU\", \"kargs\": {\"inplace\": True}},\n",
    "        {\"class\": \"BatchNorm2d\", \"kargs\": {\"num_features\": 80}},\n",
    "        {\"class\": \"Flatten\", \"kargs\": {}},\n",
    "        {\"class\": \"Linear\", \"kargs\": {\"in_features\": 20480, \"out_features\": 256}},\n",
    "        {\"class\": \"ReLU\", \"kargs\": {\"inplace\": True}},\n",
    "        {\"class\": \"BatchNorm1d\", \"kargs\": {\"num_features\": 256}},\n",
    "        {\"class\": \"Linear\", \"kargs\": {\"in_features\": 256, \"out_features\": 256}},\n",
    "    ],\n",
    "    \"NUM_LOGS_PER_EPOCH\": 10,\n",
    "    \"BEST_MODEL_PATH\": \"./best_model.pth\",\n",
    "    \"n_way\": 16,\n",
    "    \"datasets\": [\n",
    "        {\n",
    "            \"labels\": [\n",
    "                \"1-10.\",\n",
    "                \"1-11.\",\n",
    "                \"1-15.\",\n",
    "                \"1-16.\",\n",
    "                \"1-17.\",\n",
    "                \"1-18.\",\n",
    "                \"1-19.\",\n",
    "                \"10-4.\",\n",
    "                \"10-7.\",\n",
    "                \"11-1.\",\n",
    "                \"11-14.\",\n",
    "                \"11-17.\",\n",
    "                \"11-20.\",\n",
    "                \"11-7.\",\n",
    "                \"13-20.\",\n",
    "                \"13-8.\",\n",
    "                \"14-10.\",\n",
    "                \"14-11.\",\n",
    "                \"14-14.\",\n",
    "                \"14-7.\",\n",
    "                \"15-1.\",\n",
    "                \"15-20.\",\n",
    "                \"16-1.\",\n",
    "                \"16-16.\",\n",
    "                \"17-10.\",\n",
    "                \"17-11.\",\n",
    "                \"17-2.\",\n",
    "                \"19-1.\",\n",
    "                \"19-16.\",\n",
    "                \"19-19.\",\n",
    "                \"19-20.\",\n",
    "                \"19-3.\",\n",
    "                \"2-10.\",\n",
    "                \"2-11.\",\n",
    "                \"2-17.\",\n",
    "                \"2-18.\",\n",
    "                \"2-20.\",\n",
    "                \"2-3.\",\n",
    "                \"2-4.\",\n",
    "                \"2-5.\",\n",
    "                \"2-6.\",\n",
    "                \"2-7.\",\n",
    "                \"2-8.\",\n",
    "                \"3-13.\",\n",
    "                \"3-18.\",\n",
    "                \"3-3.\",\n",
    "                \"4-1.\",\n",
    "                \"4-10.\",\n",
    "                \"4-11.\",\n",
    "                \"4-19.\",\n",
    "                \"5-5.\",\n",
    "                \"6-15.\",\n",
    "                \"7-10.\",\n",
    "                \"7-14.\",\n",
    "                \"8-18.\",\n",
    "                \"8-20.\",\n",
    "                \"8-3.\",\n",
    "                \"8-8.\",\n",
    "            ],\n",
    "            \"domains\": [1, 2, 3, 4, 5],\n",
    "            \"num_examples_per_domain_per_label\": -1,\n",
    "            \"pickle_path\": \"/root/csc500-main/datasets/cores.stratified_ds.2022A.pkl\",\n",
    "            \"source_or_target_dataset\": \"target\",\n",
    "            \"x_transforms\": [\n",
    "                \"unit_mag\",\n",
    "                \"jitter_256_10\",\n",
    "                \"lowpass_+/-10MHz\",\n",
    "                \"take_200\",\n",
    "            ],\n",
    "            \"episode_transforms\": [],\n",
    "            \"domain_prefix\": \"C_\",\n",
    "        },\n",
    "        {\n",
    "            \"labels\": [\n",
    "                \"3123D52\",\n",
    "                \"3123D65\",\n",
    "                \"3123D79\",\n",
    "                \"3123D80\",\n",
    "                \"3123D54\",\n",
    "                \"3123D70\",\n",
    "                \"3123D7B\",\n",
    "                \"3123D89\",\n",
    "                \"3123D58\",\n",
    "                \"3123D76\",\n",
    "                \"3123D7D\",\n",
    "                \"3123EFE\",\n",
    "                \"3123D64\",\n",
    "                \"3123D78\",\n",
    "                \"3123D7E\",\n",
    "                \"3124E4A\",\n",
    "            ],\n",
    "            \"domains\": [32, 38, 8, 44, 14, 50, 20, 26],\n",
    "            \"num_examples_per_domain_per_label\": 2000,\n",
    "            \"pickle_path\": \"/root/csc500-main/datasets/oracle.Run1_framed_2000Examples_stratified_ds.2022A.pkl\",\n",
    "            \"source_or_target_dataset\": \"source\",\n",
    "            \"x_transforms\": [\n",
    "                \"unit_mag\",\n",
    "                \"jitter_256_10\",\n",
    "                \"take_200\",\n",
    "                \"resample_20Msps_to_25Msps\",\n",
    "            ],\n",
    "            \"episode_transforms\": [],\n",
    "            \"domain_prefix\": \"O_\",\n",
    "        },\n",
    "    ],\n",
    "    \"seed\": 500,\n",
    "    \"dataset_seed\": 500,\n",
    "}\n"
   ]
  },
  {
   "cell_type": "code",
   "execution_count": 5,
   "id": "8fa1cc33",
   "metadata": {
    "execution": {
     "iopub.execute_input": "2022-03-28T11:40:50.092984Z",
     "iopub.status.busy": "2022-03-28T11:40:50.092617Z",
     "iopub.status.idle": "2022-03-28T11:40:50.109727Z",
     "shell.execute_reply": "2022-03-28T11:40:50.109415Z"
    },
    "papermill": {
     "duration": 0.040129,
     "end_time": "2022-03-28T11:40:50.109796",
     "exception": false,
     "start_time": "2022-03-28T11:40:50.069667",
     "status": "completed"
    },
    "tags": []
   },
   "outputs": [],
   "source": [
    "# Set this to True if you want to run this template directly\n",
    "STANDALONE = False\n",
    "if STANDALONE:\n",
    "    print(\"parameters not injected, running with standalone_parameters\")\n",
    "    parameters = standalone_parameters\n",
    "\n",
    "if not 'parameters' in locals() and not 'parameters' in globals():\n",
    "    raise Exception(\"Parameter injection failed\")\n",
    "\n",
    "#Use an easy dict for all the parameters\n",
    "p = EasyDict(parameters)\n",
    "\n",
    "if \"x_shape\" not in p:\n",
    "    p.x_shape = [2,256] # Default to this if we dont supply x_shape\n",
    "\n",
    "\n",
    "supplied_keys = set(p.keys())\n",
    "\n",
    "if  supplied_keys != required_parameters:\n",
    "    print(\"Parameters are incorrect\")\n",
    "    if len(supplied_keys - required_parameters)>0: print(\"Shouldn't have:\", str(supplied_keys - required_parameters))\n",
    "    if len(required_parameters - supplied_keys)>0: print(\"Need to have:\", str(required_parameters - supplied_keys))\n",
    "    raise RuntimeError(\"Parameters are incorrect\")"
   ]
  },
  {
   "cell_type": "code",
   "execution_count": 6,
   "id": "3a028d58",
   "metadata": {
    "execution": {
     "iopub.execute_input": "2022-03-28T11:40:50.152667Z",
     "iopub.status.busy": "2022-03-28T11:40:50.152306Z",
     "iopub.status.idle": "2022-03-28T11:40:50.168802Z",
     "shell.execute_reply": "2022-03-28T11:40:50.168484Z"
    },
    "papermill": {
     "duration": 0.03927,
     "end_time": "2022-03-28T11:40:50.168871",
     "exception": false,
     "start_time": "2022-03-28T11:40:50.129601",
     "status": "completed"
    },
    "tags": []
   },
   "outputs": [],
   "source": [
    "###################################\n",
    "# Set the RNGs and make it all deterministic\n",
    "###################################\n",
    "np.random.seed(p.seed)\n",
    "random.seed(p.seed)\n",
    "torch.manual_seed(p.seed)\n",
    "\n",
    "torch.use_deterministic_algorithms(True) "
   ]
  },
  {
   "cell_type": "code",
   "execution_count": 7,
   "id": "b691acf6",
   "metadata": {
    "execution": {
     "iopub.execute_input": "2022-03-28T11:40:50.210918Z",
     "iopub.status.busy": "2022-03-28T11:40:50.210559Z",
     "iopub.status.idle": "2022-03-28T11:40:50.232867Z",
     "shell.execute_reply": "2022-03-28T11:40:50.232179Z"
    },
    "papermill": {
     "duration": 0.044739,
     "end_time": "2022-03-28T11:40:50.233014",
     "exception": false,
     "start_time": "2022-03-28T11:40:50.188275",
     "status": "completed"
    },
    "tags": []
   },
   "outputs": [],
   "source": [
    "###########################################\n",
    "# The stratified datasets honor this\n",
    "###########################################\n",
    "torch.set_default_dtype(eval(p.torch_default_dtype))"
   ]
  },
  {
   "cell_type": "code",
   "execution_count": 8,
   "id": "b5fba671",
   "metadata": {
    "execution": {
     "iopub.execute_input": "2022-03-28T11:40:50.279407Z",
     "iopub.status.busy": "2022-03-28T11:40:50.279050Z",
     "iopub.status.idle": "2022-03-28T11:40:50.328164Z",
     "shell.execute_reply": "2022-03-28T11:40:50.328786Z"
    },
    "papermill": {
     "duration": 0.070646,
     "end_time": "2022-03-28T11:40:50.328965",
     "exception": false,
     "start_time": "2022-03-28T11:40:50.258319",
     "status": "completed"
    },
    "tags": []
   },
   "outputs": [],
   "source": [
    "###################################\n",
    "# Build the network(s)\n",
    "# Note: It's critical to do this AFTER setting the RNG\n",
    "###################################\n",
    "x_net = build_sequential(p.x_net)"
   ]
  },
  {
   "cell_type": "code",
   "execution_count": 9,
   "id": "5d7e61cc",
   "metadata": {
    "execution": {
     "iopub.execute_input": "2022-03-28T11:40:50.374837Z",
     "iopub.status.busy": "2022-03-28T11:40:50.374479Z",
     "iopub.status.idle": "2022-03-28T11:40:50.399483Z",
     "shell.execute_reply": "2022-03-28T11:40:50.398786Z"
    },
    "papermill": {
     "duration": 0.047679,
     "end_time": "2022-03-28T11:40:50.399650",
     "exception": false,
     "start_time": "2022-03-28T11:40:50.351971",
     "status": "completed"
    },
    "tags": []
   },
   "outputs": [],
   "source": [
    "start_time_secs = time.time()"
   ]
  },
  {
   "cell_type": "code",
   "execution_count": 10,
   "id": "c6b67dfd",
   "metadata": {
    "execution": {
     "iopub.execute_input": "2022-03-28T11:40:50.451489Z",
     "iopub.status.busy": "2022-03-28T11:40:50.451131Z",
     "iopub.status.idle": "2022-03-28T11:40:50.471284Z",
     "shell.execute_reply": "2022-03-28T11:40:50.470590Z"
    },
    "papermill": {
     "duration": 0.042956,
     "end_time": "2022-03-28T11:40:50.471433",
     "exception": false,
     "start_time": "2022-03-28T11:40:50.428477",
     "status": "completed"
    },
    "tags": []
   },
   "outputs": [],
   "source": [
    "p.domains_source = []\n",
    "p.domains_target = []\n",
    "\n",
    "\n",
    "train_original_source = []\n",
    "val_original_source   = []\n",
    "test_original_source  = []\n",
    "\n",
    "train_original_target = []\n",
    "val_original_target   = []\n",
    "test_original_target  = []"
   ]
  },
  {
   "cell_type": "code",
   "execution_count": 11,
   "id": "e3d9c3d3",
   "metadata": {
    "execution": {
     "iopub.execute_input": "2022-03-28T11:40:50.521125Z",
     "iopub.status.busy": "2022-03-28T11:40:50.520766Z",
     "iopub.status.idle": "2022-03-28T11:40:50.537330Z",
     "shell.execute_reply": "2022-03-28T11:40:50.536539Z"
    },
    "papermill": {
     "duration": 0.038613,
     "end_time": "2022-03-28T11:40:50.537480",
     "exception": false,
     "start_time": "2022-03-28T11:40:50.498867",
     "status": "completed"
    },
    "tags": []
   },
   "outputs": [],
   "source": [
    "# global_x_transform_func = lambda x: normalize(x.to(torch.get_default_dtype()), \"unit_power\") # unit_power, unit_mag\n",
    "# global_x_transform_func = lambda x: normalize(x, \"unit_power\") # unit_power, unit_mag"
   ]
  },
  {
   "cell_type": "code",
   "execution_count": 12,
   "id": "acb78fd2",
   "metadata": {
    "execution": {
     "iopub.execute_input": "2022-03-28T11:40:50.594439Z",
     "iopub.status.busy": "2022-03-28T11:40:50.585253Z",
     "iopub.status.idle": "2022-03-28T11:40:50.611680Z",
     "shell.execute_reply": "2022-03-28T11:40:50.610969Z"
    },
    "papermill": {
     "duration": 0.048845,
     "end_time": "2022-03-28T11:40:50.611828",
     "exception": false,
     "start_time": "2022-03-28T11:40:50.562983",
     "status": "completed"
    },
    "tags": []
   },
   "outputs": [],
   "source": [
    "def add_dataset(\n",
    "    labels,\n",
    "    domains,\n",
    "    pickle_path,\n",
    "    x_transforms,\n",
    "    episode_transforms,\n",
    "    domain_prefix,\n",
    "    num_examples_per_domain_per_label,\n",
    "    source_or_target_dataset:str,\n",
    "    iterator_seed=p.seed,\n",
    "    dataset_seed=p.dataset_seed,\n",
    "    n_shot=p.n_shot,\n",
    "    n_way=p.n_way,\n",
    "    n_query=p.n_query,\n",
    "    train_val_test_k_factors=(p.train_k_factor,p.val_k_factor,p.test_k_factor),\n",
    "):\n",
    "   \n",
    "    if x_transforms == []: x_transform = None\n",
    "    else: x_transform = get_chained_transform(x_transforms)\n",
    "    \n",
    "    if episode_transforms == []: episode_transform = None\n",
    "    else: raise Exception(\"episode_transforms not implemented\")\n",
    "    \n",
    "    episode_transform = lambda tup, _prefix=domain_prefix: (_prefix + str(tup[0]), tup[1])\n",
    "\n",
    "\n",
    "    eaf = Episodic_Accessor_Factory(\n",
    "        labels=labels,\n",
    "        domains=domains,\n",
    "        num_examples_per_domain_per_label=num_examples_per_domain_per_label,\n",
    "        iterator_seed=iterator_seed,\n",
    "        dataset_seed=dataset_seed,\n",
    "        n_shot=n_shot,\n",
    "        n_way=n_way,\n",
    "        n_query=n_query,\n",
    "        train_val_test_k_factors=train_val_test_k_factors,\n",
    "        pickle_path=pickle_path,\n",
    "        x_transform_func=x_transform,\n",
    "    )\n",
    "\n",
    "    train, val, test = eaf.get_train(), eaf.get_val(), eaf.get_test()\n",
    "    train = Lazy_Iterable_Wrapper(train, episode_transform)\n",
    "    val = Lazy_Iterable_Wrapper(val, episode_transform)\n",
    "    test = Lazy_Iterable_Wrapper(test, episode_transform)\n",
    "\n",
    "    if source_or_target_dataset==\"source\":\n",
    "        train_original_source.append(train)\n",
    "        val_original_source.append(val)\n",
    "        test_original_source.append(test)\n",
    "\n",
    "        p.domains_source.extend(\n",
    "            [domain_prefix + str(u) for u in domains]\n",
    "        )\n",
    "    elif source_or_target_dataset==\"target\":\n",
    "        train_original_target.append(train)\n",
    "        val_original_target.append(val)\n",
    "        test_original_target.append(test)\n",
    "        p.domains_target.extend(\n",
    "            [domain_prefix + str(u) for u in domains]\n",
    "        )\n",
    "    else:\n",
    "        raise Exception(f\"invalid source_or_target_dataset: {source_or_target_dataset}\")\n",
    "    "
   ]
  },
  {
   "cell_type": "code",
   "execution_count": 13,
   "id": "fe266617",
   "metadata": {
    "execution": {
     "iopub.execute_input": "2022-03-28T11:40:50.663217Z",
     "iopub.status.busy": "2022-03-28T11:40:50.662861Z",
     "iopub.status.idle": "2022-03-28T11:42:41.716836Z",
     "shell.execute_reply": "2022-03-28T11:42:41.716103Z"
    },
    "papermill": {
     "duration": 111.076291,
     "end_time": "2022-03-28T11:42:41.717023",
     "exception": false,
     "start_time": "2022-03-28T11:40:50.640732",
     "status": "completed"
    },
    "tags": []
   },
   "outputs": [],
   "source": [
    "for ds in p.datasets:\n",
    "    add_dataset(**ds)"
   ]
  },
  {
   "cell_type": "code",
   "execution_count": 14,
   "id": "b90d65ac",
   "metadata": {
    "execution": {
     "iopub.execute_input": "2022-03-28T11:42:41.764909Z",
     "iopub.status.busy": "2022-03-28T11:42:41.764384Z",
     "iopub.status.idle": "2022-03-28T11:42:41.787075Z",
     "shell.execute_reply": "2022-03-28T11:42:41.786371Z"
    },
    "papermill": {
     "duration": 0.045369,
     "end_time": "2022-03-28T11:42:41.787226",
     "exception": false,
     "start_time": "2022-03-28T11:42:41.741857",
     "status": "completed"
    },
    "tags": []
   },
   "outputs": [],
   "source": [
    "# from steves_utils.CORES.utils import (\n",
    "#     ALL_NODES,\n",
    "#     ALL_NODES_MINIMUM_1000_EXAMPLES,\n",
    "#     ALL_DAYS\n",
    "# )\n",
    "\n",
    "# add_dataset(\n",
    "#     labels=ALL_NODES,\n",
    "#     domains = ALL_DAYS,\n",
    "#     num_examples_per_domain_per_label=100,\n",
    "#     pickle_path=os.path.join(get_datasets_base_path(), \"cores.stratified_ds.2022A.pkl\"),\n",
    "#     source_or_target_dataset=\"target\",\n",
    "#     x_transform_func=global_x_transform_func,\n",
    "#     domain_modifier=lambda u: f\"cores_{u}\"\n",
    "# )"
   ]
  },
  {
   "cell_type": "code",
   "execution_count": 15,
   "id": "76db484d",
   "metadata": {
    "execution": {
     "iopub.execute_input": "2022-03-28T11:42:41.838015Z",
     "iopub.status.busy": "2022-03-28T11:42:41.837650Z",
     "iopub.status.idle": "2022-03-28T11:42:41.854649Z",
     "shell.execute_reply": "2022-03-28T11:42:41.853954Z"
    },
    "papermill": {
     "duration": 0.038729,
     "end_time": "2022-03-28T11:42:41.854800",
     "exception": false,
     "start_time": "2022-03-28T11:42:41.816071",
     "status": "completed"
    },
    "tags": []
   },
   "outputs": [],
   "source": [
    "# from steves_utils.ORACLE.utils_v2 import (\n",
    "#     ALL_DISTANCES_FEET,\n",
    "#     ALL_RUNS,\n",
    "#     ALL_SERIAL_NUMBERS,\n",
    "# )\n",
    "\n",
    "\n",
    "# add_dataset(\n",
    "#     labels=ALL_SERIAL_NUMBERS,\n",
    "#     domains = list(set(ALL_DISTANCES_FEET) - {2,62}),\n",
    "#     num_examples_per_domain_per_label=100,\n",
    "#     pickle_path=os.path.join(get_datasets_base_path(), \"oracle.Run2_framed_2000Examples_stratified_ds.2022A.pkl\"),\n",
    "#     source_or_target_dataset=\"source\",\n",
    "#     x_transform_func=global_x_transform_func,\n",
    "#     domain_modifier=lambda u: f\"oracle1_{u}\"\n",
    "# )\n"
   ]
  },
  {
   "cell_type": "code",
   "execution_count": 16,
   "id": "97dea9d2",
   "metadata": {
    "execution": {
     "iopub.execute_input": "2022-03-28T11:42:41.902371Z",
     "iopub.status.busy": "2022-03-28T11:42:41.902004Z",
     "iopub.status.idle": "2022-03-28T11:42:41.918923Z",
     "shell.execute_reply": "2022-03-28T11:42:41.918224Z"
    },
    "papermill": {
     "duration": 0.038673,
     "end_time": "2022-03-28T11:42:41.919074",
     "exception": false,
     "start_time": "2022-03-28T11:42:41.880401",
     "status": "completed"
    },
    "tags": []
   },
   "outputs": [],
   "source": [
    "# from steves_utils.ORACLE.utils_v2 import (\n",
    "#     ALL_DISTANCES_FEET,\n",
    "#     ALL_RUNS,\n",
    "#     ALL_SERIAL_NUMBERS,\n",
    "# )\n",
    "\n",
    "\n",
    "# add_dataset(\n",
    "#     labels=ALL_SERIAL_NUMBERS,\n",
    "#     domains = list(set(ALL_DISTANCES_FEET) - {2,62,56}),\n",
    "#     num_examples_per_domain_per_label=100,\n",
    "#     pickle_path=os.path.join(get_datasets_base_path(), \"oracle.Run2_framed_2000Examples_stratified_ds.2022A.pkl\"),\n",
    "#     source_or_target_dataset=\"source\",\n",
    "#     x_transform_func=global_x_transform_func,\n",
    "#     domain_modifier=lambda u: f\"oracle2_{u}\"\n",
    "# )"
   ]
  },
  {
   "cell_type": "code",
   "execution_count": 17,
   "id": "6f289866",
   "metadata": {
    "execution": {
     "iopub.execute_input": "2022-03-28T11:42:41.967258Z",
     "iopub.status.busy": "2022-03-28T11:42:41.966897Z",
     "iopub.status.idle": "2022-03-28T11:42:41.982890Z",
     "shell.execute_reply": "2022-03-28T11:42:41.982299Z"
    },
    "papermill": {
     "duration": 0.038911,
     "end_time": "2022-03-28T11:42:41.983040",
     "exception": false,
     "start_time": "2022-03-28T11:42:41.944129",
     "status": "completed"
    },
    "tags": []
   },
   "outputs": [],
   "source": [
    "# add_dataset(\n",
    "#     labels=list(range(19)),\n",
    "#     domains = [0,1,2],\n",
    "#     num_examples_per_domain_per_label=100,\n",
    "#     pickle_path=os.path.join(get_datasets_base_path(), \"metehan.stratified_ds.2022A.pkl\"),\n",
    "#     source_or_target_dataset=\"target\",\n",
    "#     x_transform_func=global_x_transform_func,\n",
    "#     domain_modifier=lambda u: f\"met_{u}\"\n",
    "# )"
   ]
  },
  {
   "cell_type": "code",
   "execution_count": 18,
   "id": "86a863c3",
   "metadata": {
    "execution": {
     "iopub.execute_input": "2022-03-28T11:42:42.030508Z",
     "iopub.status.busy": "2022-03-28T11:42:42.030146Z",
     "iopub.status.idle": "2022-03-28T11:42:42.046893Z",
     "shell.execute_reply": "2022-03-28T11:42:42.046204Z"
    },
    "papermill": {
     "duration": 0.038683,
     "end_time": "2022-03-28T11:42:42.047041",
     "exception": false,
     "start_time": "2022-03-28T11:42:42.008358",
     "status": "completed"
    },
    "tags": []
   },
   "outputs": [],
   "source": [
    "# # from steves_utils.wisig.utils import (\n",
    "# #     ALL_NODES_MINIMUM_100_EXAMPLES,\n",
    "# #     ALL_NODES_MINIMUM_500_EXAMPLES,\n",
    "# #     ALL_NODES_MINIMUM_1000_EXAMPLES,\n",
    "# #     ALL_DAYS\n",
    "# # )\n",
    "\n",
    "# import steves_utils.wisig.utils as wisig\n",
    "\n",
    "\n",
    "# add_dataset(\n",
    "#     labels=wisig.ALL_NODES_MINIMUM_100_EXAMPLES,\n",
    "#     domains = wisig.ALL_DAYS,\n",
    "#     num_examples_per_domain_per_label=100,\n",
    "#     pickle_path=os.path.join(get_datasets_base_path(), \"wisig.node3-19.stratified_ds.2022A.pkl\"),\n",
    "#     source_or_target_dataset=\"target\",\n",
    "#     x_transform_func=global_x_transform_func,\n",
    "#     domain_modifier=lambda u: f\"wisig_{u}\"\n",
    "# )"
   ]
  },
  {
   "cell_type": "code",
   "execution_count": 19,
   "id": "fd5442bc",
   "metadata": {
    "execution": {
     "iopub.execute_input": "2022-03-28T11:42:42.098127Z",
     "iopub.status.busy": "2022-03-28T11:42:42.097554Z",
     "iopub.status.idle": "2022-03-28T11:42:42.115591Z",
     "shell.execute_reply": "2022-03-28T11:42:42.114874Z"
    },
    "papermill": {
     "duration": 0.043021,
     "end_time": "2022-03-28T11:42:42.115742",
     "exception": false,
     "start_time": "2022-03-28T11:42:42.072721",
     "status": "completed"
    },
    "tags": []
   },
   "outputs": [],
   "source": [
    "###################################\n",
    "# Build the dataset\n",
    "###################################\n",
    "train_original_source = Iterable_Aggregator(train_original_source, p.seed)\n",
    "val_original_source = Iterable_Aggregator(val_original_source, p.seed)\n",
    "test_original_source = Iterable_Aggregator(test_original_source, p.seed)\n",
    "\n",
    "\n",
    "train_original_target = Iterable_Aggregator(train_original_target, p.seed)\n",
    "val_original_target = Iterable_Aggregator(val_original_target, p.seed)\n",
    "test_original_target = Iterable_Aggregator(test_original_target, p.seed)\n",
    "\n",
    "# For CNN We only use X and Y. And we only train on the source.\n",
    "# Properly form the data using a transform lambda and Lazy_Iterable_Wrapper. Finally wrap them in a dataloader\n",
    "\n",
    "transform_lambda = lambda ex: ex[1] # Original is (<domain>, <episode>) so we strip down to episode only\n",
    "\n",
    "train_processed_source = Lazy_Iterable_Wrapper(train_original_source, transform_lambda)\n",
    "val_processed_source   = Lazy_Iterable_Wrapper(val_original_source, transform_lambda)\n",
    "test_processed_source  = Lazy_Iterable_Wrapper(test_original_source, transform_lambda)\n",
    "\n",
    "train_processed_target = Lazy_Iterable_Wrapper(train_original_target, transform_lambda)\n",
    "val_processed_target   = Lazy_Iterable_Wrapper(val_original_target, transform_lambda)\n",
    "test_processed_target  = Lazy_Iterable_Wrapper(test_original_target, transform_lambda)\n",
    "\n",
    "datasets = EasyDict({\n",
    "    \"source\": {\n",
    "        \"original\": {\"train\":train_original_source, \"val\":val_original_source, \"test\":test_original_source},\n",
    "        \"processed\": {\"train\":train_processed_source, \"val\":val_processed_source, \"test\":test_processed_source}\n",
    "    },\n",
    "    \"target\": {\n",
    "        \"original\": {\"train\":train_original_target, \"val\":val_original_target, \"test\":test_original_target},\n",
    "        \"processed\": {\"train\":train_processed_target, \"val\":val_processed_target, \"test\":test_processed_target}\n",
    "    },\n",
    "})"
   ]
  },
  {
   "cell_type": "code",
   "execution_count": 20,
   "id": "5b3c01fc",
   "metadata": {
    "execution": {
     "iopub.execute_input": "2022-03-28T11:42:42.163685Z",
     "iopub.status.busy": "2022-03-28T11:42:42.163298Z",
     "iopub.status.idle": "2022-03-28T11:42:56.039812Z",
     "shell.execute_reply": "2022-03-28T11:42:56.038931Z"
    },
    "papermill": {
     "duration": 13.899273,
     "end_time": "2022-03-28T11:42:56.039994",
     "exception": false,
     "start_time": "2022-03-28T11:42:42.140721",
     "status": "completed"
    },
    "tags": []
   },
   "outputs": [
    {
     "name": "stdout",
     "output_type": "stream",
     "text": [
      "{'O_50', 'O_38', 'O_26', 'O_32', 'O_8', 'O_44', 'O_14', 'O_20'}\n"
     ]
    },
    {
     "name": "stdout",
     "output_type": "stream",
     "text": [
      "{'C_3', 'C_4', 'C_1', 'C_2', 'C_5'}\n"
     ]
    },
    {
     "name": "stdout",
     "output_type": "stream",
     "text": [
      "tensor([[[0., 0., 0.,  ..., 0., 0., 0.],\n",
      "         [0., 0., 0.,  ..., 0., 0., 0.]],\n",
      "\n",
      "        [[0., 0., 0.,  ..., 0., 0., 0.],\n",
      "         [0., 0., 0.,  ..., 0., 0., 0.]],\n",
      "\n",
      "        [[0., 0., 0.,  ..., 0., 0., 0.],\n",
      "         [0., 0., 0.,  ..., 0., 0., 0.]],\n",
      "\n",
      "        ...,\n",
      "\n",
      "        [[0., 0., 0.,  ..., 0., 0., 0.],\n",
      "         [0., 0., 0.,  ..., 0., 0., 0.]],\n",
      "\n",
      "        [[0., 0., 0.,  ..., 0., 0., 0.],\n",
      "         [0., 0., 0.,  ..., 0., 0., 0.]],\n",
      "\n",
      "        [[0., 0., 0.,  ..., 0., 0., 0.],\n",
      "         [0., 0., 0.,  ..., 0., 0., 0.]]])\n"
     ]
    }
   ],
   "source": [
    "from steves_utils.transforms import get_average_magnitude, get_average_power\n",
    "\n",
    "print(set([u for u,_ in val_original_source]))\n",
    "print(set([u for u,_ in val_original_target]))\n",
    "\n",
    "s_x, s_y, q_x, q_y, _ = next(iter(train_processed_source))\n",
    "print(s_x)\n",
    "\n",
    "# for ds in [\n",
    "#     train_processed_source,\n",
    "#     val_processed_source,\n",
    "#     test_processed_source,\n",
    "#     train_processed_target,\n",
    "#     val_processed_target,\n",
    "#     test_processed_target\n",
    "# ]:\n",
    "#     for s_x, s_y, q_x, q_y, _ in ds:\n",
    "#         for X in (s_x, q_x):\n",
    "#             for x in X:\n",
    "#                 assert np.isclose(get_average_magnitude(x.numpy()), 1.0)\n",
    "#                 assert np.isclose(get_average_power(x.numpy()), 1.0)\n",
    "                "
   ]
  },
  {
   "cell_type": "code",
   "execution_count": 21,
   "id": "bbdacba1",
   "metadata": {
    "execution": {
     "iopub.execute_input": "2022-03-28T11:42:56.098784Z",
     "iopub.status.busy": "2022-03-28T11:42:56.098420Z",
     "iopub.status.idle": "2022-03-28T11:42:56.188821Z",
     "shell.execute_reply": "2022-03-28T11:42:56.188499Z"
    },
    "papermill": {
     "duration": 0.119907,
     "end_time": "2022-03-28T11:42:56.188896",
     "exception": false,
     "start_time": "2022-03-28T11:42:56.068989",
     "status": "completed"
    },
    "tags": []
   },
   "outputs": [
    {
     "name": "stdout",
     "output_type": "stream",
     "text": [
      "(2, 256)\n"
     ]
    }
   ],
   "source": [
    "###################################\n",
    "# Build the model\n",
    "###################################\n",
    "# easfsl only wants a tuple for the shape\n",
    "model = Steves_Prototypical_Network(x_net, device=p.device, x_shape=tuple(p.x_shape))\n",
    "optimizer = Adam(params=model.parameters(), lr=p.lr)"
   ]
  },
  {
   "cell_type": "code",
   "execution_count": 22,
   "id": "22b39ac5",
   "metadata": {
    "execution": {
     "iopub.execute_input": "2022-03-28T11:42:56.238228Z",
     "iopub.status.busy": "2022-03-28T11:42:56.237858Z",
     "iopub.status.idle": "2022-03-28T11:58:07.117869Z",
     "shell.execute_reply": "2022-03-28T11:58:07.117531Z"
    },
    "papermill": {
     "duration": 910.906598,
     "end_time": "2022-03-28T11:58:07.117953",
     "exception": false,
     "start_time": "2022-03-28T11:42:56.211355",
     "status": "completed"
    },
    "tags": []
   },
   "outputs": [
    {
     "name": "stdout",
     "output_type": "stream",
     "text": [
      "epoch: 1, [batch: 1 / 6720], examples_per_second: 32.4877, train_label_loss: 2.7813, \n"
     ]
    },
    {
     "name": "stdout",
     "output_type": "stream",
     "text": [
      "epoch: 1, [batch: 672 / 6720], examples_per_second: 3859.7997, train_label_loss: 2.7814, \n"
     ]
    },
    {
     "name": "stdout",
     "output_type": "stream",
     "text": [
      "epoch: 1, [batch: 1344 / 6720], examples_per_second: 3911.0221, train_label_loss: 2.7928, \n"
     ]
    },
    {
     "name": "stdout",
     "output_type": "stream",
     "text": [
      "epoch: 1, [batch: 2016 / 6720], examples_per_second: 3912.2933, train_label_loss: 2.7210, \n"
     ]
    },
    {
     "name": "stdout",
     "output_type": "stream",
     "text": [
      "epoch: 1, [batch: 2688 / 6720], examples_per_second: 4007.8507, train_label_loss: 1.7120, \n"
     ]
    },
    {
     "name": "stdout",
     "output_type": "stream",
     "text": [
      "epoch: 1, [batch: 3360 / 6720], examples_per_second: 4221.9804, train_label_loss: 1.4408, \n"
     ]
    },
    {
     "name": "stdout",
     "output_type": "stream",
     "text": [
      "epoch: 1, [batch: 4032 / 6720], examples_per_second: 4383.7849, train_label_loss: 1.7937, \n"
     ]
    },
    {
     "name": "stdout",
     "output_type": "stream",
     "text": [
      "epoch: 1, [batch: 4704 / 6720], examples_per_second: 3819.9471, train_label_loss: 1.3545, \n"
     ]
    },
    {
     "name": "stdout",
     "output_type": "stream",
     "text": [
      "epoch: 1, [batch: 5376 / 6720], examples_per_second: 3821.7363, train_label_loss: 1.5531, \n"
     ]
    },
    {
     "name": "stdout",
     "output_type": "stream",
     "text": [
      "epoch: 1, [batch: 6048 / 6720], examples_per_second: 3826.5766, train_label_loss: 1.4897, \n"
     ]
    },
    {
     "name": "stdout",
     "output_type": "stream",
     "text": [
      "=============================================================\n",
      "epoch: 1, source_val_acc_label: 0.5514, target_val_acc_label: 0.8879, source_val_label_loss: 1.2190, target_val_label_loss: 3.6730, \n",
      "=============================================================\n"
     ]
    },
    {
     "name": "stdout",
     "output_type": "stream",
     "text": [
      "New best\n"
     ]
    },
    {
     "name": "stdout",
     "output_type": "stream",
     "text": [
      "epoch: 2, [batch: 1 / 6720], examples_per_second: 4.0099, train_label_loss: 1.0744, \n"
     ]
    },
    {
     "name": "stdout",
     "output_type": "stream",
     "text": [
      "epoch: 2, [batch: 672 / 6720], examples_per_second: 3822.0449, train_label_loss: 1.2968, \n"
     ]
    },
    {
     "name": "stdout",
     "output_type": "stream",
     "text": [
      "epoch: 2, [batch: 1344 / 6720], examples_per_second: 3766.4794, train_label_loss: 1.1999, \n"
     ]
    },
    {
     "name": "stdout",
     "output_type": "stream",
     "text": [
      "epoch: 2, [batch: 2016 / 6720], examples_per_second: 3821.0959, train_label_loss: 1.0791, \n"
     ]
    },
    {
     "name": "stdout",
     "output_type": "stream",
     "text": [
      "epoch: 2, [batch: 2688 / 6720], examples_per_second: 3999.8050, train_label_loss: 0.7606, \n"
     ]
    },
    {
     "name": "stdout",
     "output_type": "stream",
     "text": [
      "epoch: 2, [batch: 3360 / 6720], examples_per_second: 4242.4889, train_label_loss: 0.9147, \n"
     ]
    },
    {
     "name": "stdout",
     "output_type": "stream",
     "text": [
      "epoch: 2, [batch: 4032 / 6720], examples_per_second: 4301.7097, train_label_loss: 1.2103, \n"
     ]
    },
    {
     "name": "stdout",
     "output_type": "stream",
     "text": [
      "epoch: 2, [batch: 4704 / 6720], examples_per_second: 4275.6624, train_label_loss: 0.7791, \n"
     ]
    },
    {
     "name": "stdout",
     "output_type": "stream",
     "text": [
      "epoch: 2, [batch: 5376 / 6720], examples_per_second: 4450.3898, train_label_loss: 1.0785, \n"
     ]
    },
    {
     "name": "stdout",
     "output_type": "stream",
     "text": [
      "epoch: 2, [batch: 6048 / 6720], examples_per_second: 4605.5874, train_label_loss: 0.8470, \n"
     ]
    },
    {
     "name": "stdout",
     "output_type": "stream",
     "text": [
      "=============================================================\n",
      "epoch: 2, source_val_acc_label: 0.6748, target_val_acc_label: 0.9536, source_val_label_loss: 0.8786, target_val_label_loss: 0.3628, \n",
      "=============================================================\n"
     ]
    },
    {
     "name": "stdout",
     "output_type": "stream",
     "text": [
      "New best\n"
     ]
    },
    {
     "name": "stdout",
     "output_type": "stream",
     "text": [
      "epoch: 3, [batch: 1 / 6720], examples_per_second: 4.4362, train_label_loss: 1.3599, \n"
     ]
    },
    {
     "name": "stdout",
     "output_type": "stream",
     "text": [
      "epoch: 3, [batch: 672 / 6720], examples_per_second: 4774.8987, train_label_loss: 0.6217, \n"
     ]
    },
    {
     "name": "stdout",
     "output_type": "stream",
     "text": [
      "epoch: 3, [batch: 1344 / 6720], examples_per_second: 5051.0070, train_label_loss: 0.6804, \n"
     ]
    },
    {
     "name": "stdout",
     "output_type": "stream",
     "text": [
      "epoch: 3, [batch: 2016 / 6720], examples_per_second: 5012.5021, train_label_loss: 0.5854, \n"
     ]
    },
    {
     "name": "stdout",
     "output_type": "stream",
     "text": [
      "epoch: 3, [batch: 2688 / 6720], examples_per_second: 4868.5140, train_label_loss: 0.7211, \n"
     ]
    },
    {
     "name": "stdout",
     "output_type": "stream",
     "text": [
      "epoch: 3, [batch: 3360 / 6720], examples_per_second: 4888.3456, train_label_loss: 0.6337, \n"
     ]
    },
    {
     "name": "stdout",
     "output_type": "stream",
     "text": [
      "epoch: 3, [batch: 4032 / 6720], examples_per_second: 4850.0027, train_label_loss: 0.8870, \n"
     ]
    },
    {
     "name": "stdout",
     "output_type": "stream",
     "text": [
      "epoch: 3, [batch: 4704 / 6720], examples_per_second: 4882.2792, train_label_loss: 0.8919, \n"
     ]
    },
    {
     "name": "stdout",
     "output_type": "stream",
     "text": [
      "epoch: 3, [batch: 5376 / 6720], examples_per_second: 4983.3443, train_label_loss: 1.2292, \n"
     ]
    },
    {
     "name": "stdout",
     "output_type": "stream",
     "text": [
      "epoch: 3, [batch: 6048 / 6720], examples_per_second: 5174.1260, train_label_loss: 1.1545, \n"
     ]
    },
    {
     "name": "stdout",
     "output_type": "stream",
     "text": [
      "=============================================================\n",
      "epoch: 3, source_val_acc_label: 0.6550, target_val_acc_label: 0.9456, source_val_label_loss: 0.9020, target_val_label_loss: 0.5006, \n",
      "=============================================================\n"
     ]
    },
    {
     "name": "stdout",
     "output_type": "stream",
     "text": [
      "epoch: 4, [batch: 1 / 6720], examples_per_second: 5.2469, train_label_loss: 0.8270, \n"
     ]
    },
    {
     "name": "stdout",
     "output_type": "stream",
     "text": [
      "epoch: 4, [batch: 672 / 6720], examples_per_second: 5147.6085, train_label_loss: 0.7636, \n"
     ]
    },
    {
     "name": "stdout",
     "output_type": "stream",
     "text": [
      "epoch: 4, [batch: 1344 / 6720], examples_per_second: 5331.4019, train_label_loss: 0.6420, \n"
     ]
    },
    {
     "name": "stdout",
     "output_type": "stream",
     "text": [
      "epoch: 4, [batch: 2016 / 6720], examples_per_second: 5247.7950, train_label_loss: 0.6206, \n"
     ]
    },
    {
     "name": "stdout",
     "output_type": "stream",
     "text": [
      "epoch: 4, [batch: 2688 / 6720], examples_per_second: 5129.6199, train_label_loss: 1.0513, \n"
     ]
    },
    {
     "name": "stdout",
     "output_type": "stream",
     "text": [
      "epoch: 4, [batch: 3360 / 6720], examples_per_second: 4306.8879, train_label_loss: 1.1066, \n"
     ]
    },
    {
     "name": "stdout",
     "output_type": "stream",
     "text": [
      "epoch: 4, [batch: 4032 / 6720], examples_per_second: 3978.8072, train_label_loss: 1.3189, \n"
     ]
    },
    {
     "name": "stdout",
     "output_type": "stream",
     "text": [
      "epoch: 4, [batch: 4704 / 6720], examples_per_second: 3915.7219, train_label_loss: 1.5764, \n"
     ]
    },
    {
     "name": "stdout",
     "output_type": "stream",
     "text": [
      "epoch: 4, [batch: 5376 / 6720], examples_per_second: 3955.0717, train_label_loss: 0.8936, \n"
     ]
    },
    {
     "name": "stdout",
     "output_type": "stream",
     "text": [
      "epoch: 4, [batch: 6048 / 6720], examples_per_second: 3821.3815, train_label_loss: 0.8543, \n"
     ]
    },
    {
     "name": "stdout",
     "output_type": "stream",
     "text": [
      "=============================================================\n",
      "epoch: 4, source_val_acc_label: 0.6928, target_val_acc_label: 0.9439, source_val_label_loss: 0.8151, target_val_label_loss: 0.6932, \n",
      "=============================================================\n"
     ]
    },
    {
     "name": "stdout",
     "output_type": "stream",
     "text": [
      "epoch: 5, [batch: 1 / 6720], examples_per_second: 3.9642, train_label_loss: 0.5847, \n"
     ]
    },
    {
     "name": "stdout",
     "output_type": "stream",
     "text": [
      "epoch: 5, [batch: 672 / 6720], examples_per_second: 3908.3537, train_label_loss: 0.7721, \n"
     ]
    },
    {
     "name": "stdout",
     "output_type": "stream",
     "text": [
      "epoch: 5, [batch: 1344 / 6720], examples_per_second: 3927.9923, train_label_loss: 0.6574, \n"
     ]
    },
    {
     "name": "stdout",
     "output_type": "stream",
     "text": [
      "epoch: 5, [batch: 2016 / 6720], examples_per_second: 4346.4474, train_label_loss: 0.5164, \n"
     ]
    },
    {
     "name": "stdout",
     "output_type": "stream",
     "text": [
      "epoch: 5, [batch: 2688 / 6720], examples_per_second: 4464.4860, train_label_loss: 0.6529, \n"
     ]
    },
    {
     "name": "stdout",
     "output_type": "stream",
     "text": [
      "epoch: 5, [batch: 3360 / 6720], examples_per_second: 4579.3976, train_label_loss: 0.7864, \n"
     ]
    },
    {
     "name": "stdout",
     "output_type": "stream",
     "text": [
      "epoch: 5, [batch: 4032 / 6720], examples_per_second: 4027.1017, train_label_loss: 0.7170, \n"
     ]
    },
    {
     "name": "stdout",
     "output_type": "stream",
     "text": [
      "epoch: 5, [batch: 4704 / 6720], examples_per_second: 3917.9359, train_label_loss: 0.5058, \n"
     ]
    },
    {
     "name": "stdout",
     "output_type": "stream",
     "text": [
      "epoch: 5, [batch: 5376 / 6720], examples_per_second: 3884.0252, train_label_loss: 0.7017, \n"
     ]
    },
    {
     "name": "stdout",
     "output_type": "stream",
     "text": [
      "epoch: 5, [batch: 6048 / 6720], examples_per_second: 4033.7812, train_label_loss: 0.9905, \n"
     ]
    },
    {
     "name": "stdout",
     "output_type": "stream",
     "text": [
      "=============================================================\n",
      "epoch: 5, source_val_acc_label: 0.6933, target_val_acc_label: 0.9278, source_val_label_loss: 0.8128, target_val_label_loss: 1.2541, \n",
      "=============================================================\n"
     ]
    },
    {
     "name": "stdout",
     "output_type": "stream",
     "text": [
      "epoch: 6, [batch: 1 / 6720], examples_per_second: 4.0048, train_label_loss: 1.2335, \n"
     ]
    },
    {
     "name": "stdout",
     "output_type": "stream",
     "text": [
      "epoch: 6, [batch: 672 / 6720], examples_per_second: 3886.0213, train_label_loss: 0.5121, \n"
     ]
    },
    {
     "name": "stdout",
     "output_type": "stream",
     "text": [
      "epoch: 6, [batch: 1344 / 6720], examples_per_second: 4082.9639, train_label_loss: 0.7730, \n"
     ]
    },
    {
     "name": "stdout",
     "output_type": "stream",
     "text": [
      "epoch: 6, [batch: 2016 / 6720], examples_per_second: 4291.4122, train_label_loss: 0.9119, \n"
     ]
    },
    {
     "name": "stdout",
     "output_type": "stream",
     "text": [
      "epoch: 6, [batch: 2688 / 6720], examples_per_second: 4292.4620, train_label_loss: 0.6081, \n"
     ]
    },
    {
     "name": "stdout",
     "output_type": "stream",
     "text": [
      "epoch: 6, [batch: 3360 / 6720], examples_per_second: 4483.3810, train_label_loss: 0.5664, \n"
     ]
    },
    {
     "name": "stdout",
     "output_type": "stream",
     "text": [
      "epoch: 6, [batch: 4032 / 6720], examples_per_second: 3868.1431, train_label_loss: 0.9655, \n"
     ]
    },
    {
     "name": "stdout",
     "output_type": "stream",
     "text": [
      "epoch: 6, [batch: 4704 / 6720], examples_per_second: 3871.0968, train_label_loss: 1.0744, \n"
     ]
    },
    {
     "name": "stdout",
     "output_type": "stream",
     "text": [
      "epoch: 6, [batch: 5376 / 6720], examples_per_second: 3868.4666, train_label_loss: 0.3658, \n"
     ]
    },
    {
     "name": "stdout",
     "output_type": "stream",
     "text": [
      "epoch: 6, [batch: 6048 / 6720], examples_per_second: 3831.7337, train_label_loss: 0.9178, \n"
     ]
    },
    {
     "name": "stdout",
     "output_type": "stream",
     "text": [
      "=============================================================\n",
      "epoch: 6, source_val_acc_label: 0.6957, target_val_acc_label: 0.9157, source_val_label_loss: 0.7961, target_val_label_loss: 2.5189, \n",
      "=============================================================\n"
     ]
    },
    {
     "name": "stdout",
     "output_type": "stream",
     "text": [
      "Patience (3) exhausted\n"
     ]
    }
   ],
   "source": [
    "###################################\n",
    "# train\n",
    "###################################\n",
    "jig = PTN_Train_Eval_Test_Jig(model, p.BEST_MODEL_PATH, p.device)\n",
    "\n",
    "jig.train(\n",
    "    train_iterable=datasets.source.processed.train,\n",
    "    source_val_iterable=datasets.source.processed.val,\n",
    "    target_val_iterable=datasets.target.processed.val,\n",
    "    num_epochs=p.n_epoch,\n",
    "    num_logs_per_epoch=p.NUM_LOGS_PER_EPOCH,\n",
    "    patience=p.patience,\n",
    "    optimizer=optimizer,\n",
    "    criteria_for_best=p.criteria_for_best,\n",
    ")"
   ]
  },
  {
   "cell_type": "code",
   "execution_count": 23,
   "id": "31e8fabf",
   "metadata": {
    "execution": {
     "iopub.execute_input": "2022-03-28T11:58:07.205306Z",
     "iopub.status.busy": "2022-03-28T11:58:07.204757Z",
     "iopub.status.idle": "2022-03-28T11:58:07.238104Z",
     "shell.execute_reply": "2022-03-28T11:58:07.238767Z"
    },
    "papermill": {
     "duration": 0.079982,
     "end_time": "2022-03-28T11:58:07.238945",
     "exception": false,
     "start_time": "2022-03-28T11:58:07.158963",
     "status": "completed"
    },
    "tags": []
   },
   "outputs": [],
   "source": [
    "total_experiment_time_secs = time.time() - start_time_secs"
   ]
  },
  {
   "cell_type": "code",
   "execution_count": 24,
   "id": "87b9595b",
   "metadata": {
    "execution": {
     "iopub.execute_input": "2022-03-28T11:58:07.334448Z",
     "iopub.status.busy": "2022-03-28T11:58:07.333682Z",
     "iopub.status.idle": "2022-03-28T12:00:49.112843Z",
     "shell.execute_reply": "2022-03-28T12:00:49.113528Z"
    },
    "papermill": {
     "duration": 161.82832,
     "end_time": "2022-03-28T12:00:49.113755",
     "exception": false,
     "start_time": "2022-03-28T11:58:07.285435",
     "status": "completed"
    },
    "tags": []
   },
   "outputs": [],
   "source": [
    "###################################\n",
    "# Evaluate the model\n",
    "###################################\n",
    "source_test_label_accuracy, source_test_label_loss = jig.test(datasets.source.processed.test)\n",
    "target_test_label_accuracy, target_test_label_loss = jig.test(datasets.target.processed.test)\n",
    "\n",
    "source_val_label_accuracy, source_val_label_loss = jig.test(datasets.source.processed.val)\n",
    "target_val_label_accuracy, target_val_label_loss = jig.test(datasets.target.processed.val)\n",
    "\n",
    "history = jig.get_history()\n",
    "\n",
    "total_epochs_trained = len(history[\"epoch_indices\"])\n",
    "\n",
    "val_dl = Iterable_Aggregator((datasets.source.original.val,datasets.target.original.val))\n",
    "\n",
    "confusion = ptn_confusion_by_domain_over_dataloader(model, p.device, val_dl)\n",
    "per_domain_accuracy = per_domain_accuracy_from_confusion(confusion)\n",
    "\n",
    "# Add a key to per_domain_accuracy for if it was a source domain\n",
    "for domain, accuracy in per_domain_accuracy.items():\n",
    "    per_domain_accuracy[domain] = {\n",
    "        \"accuracy\": accuracy,\n",
    "        \"source?\": domain in p.domains_source\n",
    "    }\n",
    "\n",
    "# Do an independent accuracy assesment JUST TO BE SURE!\n",
    "# _source_test_label_accuracy = independent_accuracy_assesment(model, datasets.source.processed.test, p.device)\n",
    "# _target_test_label_accuracy = independent_accuracy_assesment(model, datasets.target.processed.test, p.device)\n",
    "# _source_val_label_accuracy = independent_accuracy_assesment(model, datasets.source.processed.val, p.device)\n",
    "# _target_val_label_accuracy = independent_accuracy_assesment(model, datasets.target.processed.val, p.device)\n",
    "\n",
    "# assert(_source_test_label_accuracy == source_test_label_accuracy)\n",
    "# assert(_target_test_label_accuracy == target_test_label_accuracy)\n",
    "# assert(_source_val_label_accuracy == source_val_label_accuracy)\n",
    "# assert(_target_val_label_accuracy == target_val_label_accuracy)\n",
    "\n",
    "experiment = {\n",
    "    \"experiment_name\": p.experiment_name,\n",
    "    \"parameters\": dict(p),\n",
    "    \"results\": {\n",
    "        \"source_test_label_accuracy\": source_test_label_accuracy,\n",
    "        \"source_test_label_loss\": source_test_label_loss,\n",
    "        \"target_test_label_accuracy\": target_test_label_accuracy,\n",
    "        \"target_test_label_loss\": target_test_label_loss,\n",
    "        \"source_val_label_accuracy\": source_val_label_accuracy,\n",
    "        \"source_val_label_loss\": source_val_label_loss,\n",
    "        \"target_val_label_accuracy\": target_val_label_accuracy,\n",
    "        \"target_val_label_loss\": target_val_label_loss,\n",
    "        \"total_epochs_trained\": total_epochs_trained,\n",
    "        \"total_experiment_time_secs\": total_experiment_time_secs,\n",
    "        \"confusion\": confusion,\n",
    "        \"per_domain_accuracy\": per_domain_accuracy,\n",
    "    },\n",
    "    \"history\": history,\n",
    "    \"dataset_metrics\": get_dataset_metrics(datasets, \"ptn\"),\n",
    "}"
   ]
  },
  {
   "cell_type": "code",
   "execution_count": 25,
   "id": "54a21829",
   "metadata": {
    "execution": {
     "iopub.execute_input": "2022-03-28T12:00:49.207614Z",
     "iopub.status.busy": "2022-03-28T12:00:49.207030Z",
     "iopub.status.idle": "2022-03-28T12:00:49.427453Z",
     "shell.execute_reply": "2022-03-28T12:00:49.428177Z"
    },
    "papermill": {
     "duration": 0.267355,
     "end_time": "2022-03-28T12:00:49.428363",
     "exception": false,
     "start_time": "2022-03-28T12:00:49.161008",
     "status": "completed"
    },
    "tags": []
   },
   "outputs": [
    {
     "data": {
      "image/png": "[encoded data removed]",
      "text/plain": [
       "<Figure size 1080x504 with 1 Axes>"
      ]
     },
     "metadata": {
      "needs_background": "light"
     },
     "output_type": "display_data"
    }
   ],
   "source": [
    "ax = get_loss_curve(experiment)\n",
    "plt.show()"
   ]
  },
  {
   "cell_type": "code",
   "execution_count": 26,
   "id": "fd8a0f60",
   "metadata": {
    "execution": {
     "iopub.execute_input": "2022-03-28T12:00:49.522501Z",
     "iopub.status.busy": "2022-03-28T12:00:49.522128Z",
     "iopub.status.idle": "2022-03-28T12:00:49.865887Z",
     "shell.execute_reply": "2022-03-28T12:00:49.866185Z"
    },
    "papermill": {
     "duration": 0.38924,
     "end_time": "2022-03-28T12:00:49.866282",
     "exception": false,
     "start_time": "2022-03-28T12:00:49.477042",
     "status": "completed"
    },
    "tags": []
   },
   "outputs": [
    {
     "data": {
      "text/plain": [
       "<AxesSubplot:title={'center':'Results'}>"
      ]
     },
     "execution_count": 26,
     "metadata": {},
     "output_type": "execute_result"
    },
    {
     "data": {
      "image/png": "[encoded data removed]",
      "text/plain": [
       "<Figure size 1080x504 with 1 Axes>"
      ]
     },
     "metadata": {
      "needs_background": "light"
     },
     "output_type": "display_data"
    }
   ],
   "source": [
    "get_results_table(experiment)"
   ]
  },
  {
   "cell_type": "code",
   "execution_count": 27,
   "id": "cf8dc689",
   "metadata": {
    "execution": {
     "iopub.execute_input": "2022-03-28T12:00:49.956518Z",
     "iopub.status.busy": "2022-03-28T12:00:49.956148Z",
     "iopub.status.idle": "2022-03-28T12:00:50.191340Z",
     "shell.execute_reply": "2022-03-28T12:00:50.192027Z"
    },
    "papermill": {
     "duration": 0.282245,
     "end_time": "2022-03-28T12:00:50.192206",
     "exception": false,
     "start_time": "2022-03-28T12:00:49.909961",
     "status": "completed"
    },
    "tags": []
   },
   "outputs": [
    {
     "data": {
      "text/plain": [
       "<AxesSubplot:title={'center':'Per Domain Validation Accuracy'}, xlabel='domain'>"
      ]
     },
     "execution_count": 27,
     "metadata": {},
     "output_type": "execute_result"
    },
    {
     "data": {
      "image/png": "[encoded data removed]",
      "text/plain": [
       "<Figure size 1080x504 with 1 Axes>"
      ]
     },
     "metadata": {
      "needs_background": "light"
     },
     "output_type": "display_data"
    }
   ],
   "source": [
    "get_domain_accuracies(experiment)"
   ]
  },
  {
   "cell_type": "code",
   "execution_count": 28,
   "id": "a74ae082",
   "metadata": {
    "execution": {
     "iopub.execute_input": "2022-03-28T12:00:50.289508Z",
     "iopub.status.busy": "2022-03-28T12:00:50.289137Z",
     "iopub.status.idle": "2022-03-28T12:00:50.312561Z",
     "shell.execute_reply": "2022-03-28T12:00:50.311816Z"
    },
    "papermill": {
     "duration": 0.071379,
     "end_time": "2022-03-28T12:00:50.312714",
     "exception": false,
     "start_time": "2022-03-28T12:00:50.241335",
     "status": "completed"
    },
    "tags": []
   },
   "outputs": [
    {
     "name": "stdout",
     "output_type": "stream",
     "text": [
      "Source Test Label Accuracy: 0.6768880208333333 Target Test Label Accuracy: 0.9568469101123596\n",
      "Source Val Label Accuracy: 0.6748046875 Target Val Label Accuracy: 0.9536428571428571\n"
     ]
    }
   ],
   "source": [
    "print(\"Source Test Label Accuracy:\", experiment[\"results\"][\"source_test_label_accuracy\"], \"Target Test Label Accuracy:\", experiment[\"results\"][\"target_test_label_accuracy\"])\n",
    "print(\"Source Val Label Accuracy:\", experiment[\"results\"][\"source_val_label_accuracy\"], \"Target Val Label Accuracy:\", experiment[\"results\"][\"target_val_label_accuracy\"])"
   ]
  },
  {
   "cell_type": "code",
   "execution_count": 29,
   "id": "dacca602",
   "metadata": {
    "execution": {
     "iopub.execute_input": "2022-03-28T12:00:50.413465Z",
     "iopub.status.busy": "2022-03-28T12:00:50.413089Z",
     "iopub.status.idle": "2022-03-28T12:00:50.434929Z",
     "shell.execute_reply": "2022-03-28T12:00:50.435636Z"
    },
    "papermill": {
     "duration": 0.069564,
     "end_time": "2022-03-28T12:00:50.435818",
     "exception": false,
     "start_time": "2022-03-28T12:00:50.366254",
     "status": "completed"
    },
    "tags": [
     "experiment_json"
    ]
   },
   "outputs": [
    {
     "data": {
      "text/plain": [
       "'{\"experiment_name\": \"tl_3-jitter10v2:oracle.run1.framed -> cores\", \"parameters\": {\"experiment_name\": \"tl_3-jitter10v2:oracle.run1.framed -> cores\", \"device\": \"cuda\", \"lr\": 0.0001, \"x_shape\": [2, 256], \"n_shot\": 3, \"n_query\": 2, \"train_k_factor\": 3, \"val_k_factor\": 2, \"test_k_factor\": 2, \"torch_default_dtype\": \"torch.float32\", \"n_epoch\": 50, \"patience\": 3, \"criteria_for_best\": \"target_accuracy\", \"x_net\": [{\"class\": \"nnReshape\", \"kargs\": {\"shape\": [-1, 1, 2, 256]}}, {\"class\": \"Conv2d\", \"kargs\": {\"in_channels\": 1, \"out_channels\": 256, \"kernel_size\": [1, 7], \"bias\": false, \"padding\": [0, 3]}}, {\"class\": \"ReLU\", \"kargs\": {\"inplace\": true}}, {\"class\": \"BatchNorm2d\", \"kargs\": {\"num_features\": 256}}, {\"class\": \"Conv2d\", \"kargs\": {\"in_channels\": 256, \"out_channels\": 80, \"kernel_size\": [2, 7], \"bias\": true, \"padding\": [0, 3]}}, {\"class\": \"ReLU\", \"kargs\": {\"inplace\": true}}, {\"class\": \"BatchNorm2d\", \"kargs\": {\"num_features\": 80}}, {\"class\": \"Flatten\", \"kargs\": {}}, {\"class\": \"Linear\", \"kargs\": {\"in_features\": 20480, \"out_features\": 256}}, {\"class\": \"ReLU\", \"kargs\": {\"inplace\": true}}, {\"class\": \"BatchNorm1d\", \"kargs\": {\"num_features\": 256}}, {\"class\": \"Linear\", \"kargs\": {\"in_features\": 256, \"out_features\": 256}}], \"NUM_LOGS_PER_EPOCH\": 10, \"BEST_MODEL_PATH\": \"./best_model.pth\", \"n_way\": 16, \"datasets\": [{\"labels\": [\"1-10.\", \"1-11.\", \"1-15.\", \"1-16.\", \"1-17.\", \"1-18.\", \"1-19.\", \"10-4.\", \"10-7.\", \"11-1.\", \"11-14.\", \"11-17.\", \"11-20.\", \"11-7.\", \"13-20.\", \"13-8.\", \"14-10.\", \"14-11.\", \"14-14.\", \"14-7.\", \"15-1.\", \"15-20.\", \"16-1.\", \"16-16.\", \"17-10.\", \"17-11.\", \"17-2.\", \"19-1.\", \"19-16.\", \"19-19.\", \"19-20.\", \"19-3.\", \"2-10.\", \"2-11.\", \"2-17.\", \"2-18.\", \"2-20.\", \"2-3.\", \"2-4.\", \"2-5.\", \"2-6.\", \"2-7.\", \"2-8.\", \"3-13.\", \"3-18.\", \"3-3.\", \"4-1.\", \"4-10.\", \"4-11.\", \"4-19.\", \"5-5.\", \"6-15.\", \"7-10.\", \"7-14.\", \"8-18.\", \"8-20.\", \"8-3.\", \"8-8.\"], \"domains\": [1, 2, 3, 4, 5], \"num_examples_per_domain_per_label\": -1, \"pickle_path\": \"/root/csc500-main/datasets/cores.stratified_ds.2022A.pkl\", \"source_or_target_dataset\": \"target\", \"x_transforms\": [\"unit_mag\", \"jitter_256_10\", \"lowpass_+/-10MHz\", \"take_200\"], \"episode_transforms\": [], \"domain_prefix\": \"C_\"}, {\"labels\": [\"3123D52\", \"3123D65\", \"3123D79\", \"3123D80\", \"3123D54\", \"3123D70\", \"3123D7B\", \"3123D89\", \"3123D58\", \"3123D76\", \"3123D7D\", \"3123EFE\", \"3123D64\", \"3123D78\", \"3123D7E\", \"3124E4A\"], \"domains\": [32, 38, 8, 44, 14, 50, 20, 26], \"num_examples_per_domain_per_label\": 2000, \"pickle_path\": \"/root/csc500-main/datasets/oracle.Run1_framed_2000Examples_stratified_ds.2022A.pkl\", \"source_or_target_dataset\": \"source\", \"x_transforms\": [\"unit_mag\", \"jitter_256_10\", \"take_200\", \"resample_20Msps_to_25Msps\"], \"episode_transforms\": [], \"domain_prefix\": \"O_\"}], \"seed\": 500, \"dataset_seed\": 500, \"domains_source\": [\"O_32\", \"O_38\", \"O_8\", \"O_44\", \"O_14\", \"O_50\", \"O_20\", \"O_26\"], \"domains_target\": [\"C_1\", \"C_2\", \"C_3\", \"C_4\", \"C_5\"]}, \"results\": {\"source_test_label_accuracy\": 0.6768880208333333, \"source_test_label_loss\": 0.8823245763778687, \"target_test_label_accuracy\": 0.9568469101123596, \"target_test_label_loss\": 0.3056361675262451, \"source_val_label_accuracy\": 0.6748046875, \"source_val_label_loss\": 0.8785771131515503, \"target_val_label_accuracy\": 0.9536428571428571, \"target_val_label_loss\": 0.36279353499412537, \"total_epochs_trained\": 6, \"total_experiment_time_secs\": 1036.8383646011353, \"confusion\": {\"O_50\": {\"7\": {\"4\": 4, \"7\": 138, \"5\": 29, \"10\": 14, \"13\": 55}, \"10\": {\"10\": 218, \"7\": 6, \"0\": 7, \"8\": 6, \"13\": 3}, \"0\": {\"0\": 207, \"2\": 20, \"6\": 1, \"13\": 1, \"10\": 11}, \"11\": {\"11\": 196, \"9\": 15, \"14\": 16, \"15\": 12, \"1\": 1}, \"2\": {\"2\": 224, \"0\": 15, \"6\": 1}, \"14\": {\"14\": 232, \"12\": 4, \"11\": 4}, \"9\": {\"9\": 175, \"12\": 36, \"11\": 29}, \"13\": {\"13\": 126, \"6\": 13, \"7\": 38, \"5\": 51, \"10\": 10, \"0\": 2}, \"8\": {\"8\": 232, \"10\": 5, \"3\": 3}, \"15\": {\"11\": 5, \"15\": 160, \"4\": 36, \"1\": 39}, \"4\": {\"4\": 75, \"6\": 33, \"15\": 41, \"1\": 59, \"5\": 21, \"7\": 7, \"13\": 4}, \"5\": {\"4\": 17, \"7\": 61, \"13\": 52, \"5\": 66, \"6\": 32, \"1\": 8, \"15\": 1, \"10\": 2, \"0\": 1}, \"3\": {\"3\": 238, \"8\": 2}, \"1\": {\"1\": 135, \"4\": 26, \"6\": 27, \"15\": 48, \"5\": 1, \"14\": 1, \"11\": 1, \"0\": 1}, \"6\": {\"6\": 116, \"4\": 38, \"5\": 46, \"15\": 2, \"0\": 2, \"1\": 25, \"13\": 10, \"2\": 1}, \"12\": {\"12\": 199, \"14\": 12, \"11\": 3, \"9\": 26}}, \"O_14\": {\"14\": {\"6\": 25, \"14\": 158, \"2\": 14, \"13\": 35, \"3\": 8}, \"6\": {\"6\": 126, \"13\": 80, \"14\": 21, \"2\": 13}, \"5\": {\"5\": 145, \"4\": 57, \"1\": 28, \"2\": 9, \"15\": 1}, \"15\": {\"7\": 36, \"15\": 204}, \"11\": {\"11\": 206, \"9\": 19, \"10\": 11, \"0\": 4}, \"8\": {\"8\": 240}, \"12\": {\"12\": 240}, \"1\": {\"1\": 217, \"5\": 16, \"4\": 6, \"7\": 1}, \"2\": {\"2\": 94, \"13\": 19, \"6\": 40, \"14\": 42, \"5\": 17, \"3\": 6, \"4\": 17, \"15\": 5}, \"13\": {\"14\": 83, \"6\": 73, \"13\": 58, \"2\": 22, \"5\": 2, \"3\": 1, \"4\": 1}, \"3\": {\"3\": 214, \"4\": 20, \"14\": 3, \"2\": 3}, \"0\": {\"10\": 61, \"0\": 169, \"11\": 6, \"8\": 2, \"14\": 1, \"3\": 1}, \"9\": {\"9\": 239, \"12\": 1}, \"4\": {\"4\": 172, \"5\": 34, \"2\": 7, \"1\": 10, \"3\": 17}, \"7\": {\"7\": 222, \"15\": 17, \"5\": 1}, \"10\": {\"10\": 196, \"0\": 44}}, \"O_32\": {\"4\": {\"0\": 65, \"4\": 80, \"2\": 45, \"7\": 22, \"5\": 14, \"14\": 7, \"8\": 1, \"13\": 6}, \"14\": {\"14\": 76, \"11\": 67, \"4\": 12, \"7\": 53, \"5\": 9, \"2\": 3, \"13\": 16, \"3\": 1, \"0\": 2, \"8\": 1}, \"5\": {\"8\": 30, \"14\": 17, \"13\": 55, \"5\": 46, \"7\": 30, \"3\": 23, \"4\": 12, \"2\": 2, \"0\": 20, \"11\": 5}, \"10\": {\"10\": 239, \"1\": 1}, \"13\": {\"0\": 12, \"13\": 66, \"5\": 60, \"8\": 37, \"14\": 16, \"7\": 31, \"11\": 4, \"3\": 12, \"4\": 2}, \"9\": {\"9\": 237, \"2\": 1, \"12\": 2}, \"6\": {\"6\": 240}, \"3\": {\"3\": 220, \"11\": 1, \"13\": 6, \"5\": 7, \"14\": 3, \"8\": 3}, \"15\": {\"15\": 236, \"8\": 2, \"3\": 1, \"13\": 1}, \"7\": {\"0\": 4, \"5\": 22, \"7\": 107, \"14\": 56, \"4\": 21, \"11\": 6, \"2\": 7, \"13\": 15, \"8\": 2}, \"12\": {\"12\": 240}, \"8\": {\"8\": 137, \"13\": 54, \"5\": 22, \"14\": 1, \"4\": 7, \"0\": 12, \"3\": 6, \"7\": 1}, \"11\": {\"14\": 57, \"11\": 171, \"7\": 8, \"5\": 2, \"13\": 2}, \"2\": {\"2\": 196, \"0\": 15, \"4\": 24, \"13\": 1, \"7\": 2, \"5\": 2}, \"1\": {\"1\": 240}, \"0\": {\"0\": 113, \"5\": 17, \"4\": 57, \"2\": 13, \"7\": 14, \"8\": 17, \"13\": 7, \"14\": 2}}, \"O_44\": {\"8\": {\"8\": 131, \"0\": 86, \"15\": 14, \"5\": 9}, \"11\": {\"11\": 171, \"6\": 33, \"9\": 1, \"13\": 35}, \"14\": {\"14\": 148, \"5\": 9, \"4\": 63, \"15\": 20}, \"10\": {\"10\": 179, \"1\": 19, \"2\": 23, \"12\": 18, \"3\": 1}, \"3\": {\"3\": 212, \"1\": 21, \"12\": 5, \"2\": 2}, \"15\": {\"15\": 190, \"14\": 20, \"0\": 21, \"5\": 7, \"8\": 2}, \"2\": {\"2\": 178, \"7\": 30, \"1\": 12, \"10\": 17, \"3\": 1, \"6\": 1, \"12\": 1}, \"12\": {\"12\": 179, \"1\": 45, \"10\": 12, \"3\": 4}, \"4\": {\"14\": 77, \"4\": 161, \"15\": 2}, \"1\": {\"3\": 23, \"1\": 138, \"12\": 58, \"10\": 13, \"2\": 8}, \"0\": {\"0\": 137, \"15\": 12, \"8\": 78, \"5\": 13}, \"9\": {\"13\": 22, \"9\": 131, \"7\": 58, \"6\": 23, \"2\": 6}, \"5\": {\"5\": 183, \"0\": 33, \"4\": 2, \"15\": 11, \"8\": 5, \"14\": 6}, \"6\": {\"6\": 158, \"7\": 7, \"13\": 33, \"9\": 23, \"2\": 2, \"11\": 17}, \"7\": {\"7\": 140, \"9\": 48, \"2\": 43, \"6\": 5, \"3\": 4}, \"13\": {\"13\": 142, \"11\": 37, \"9\": 29, \"7\": 3, \"6\": 29}}, \"O_8\": {\"13\": {\"13\": 95, \"4\": 36, \"0\": 53, \"14\": 20, \"10\": 25, \"6\": 11}, \"3\": {\"3\": 221, \"2\": 12, \"12\": 7}, \"15\": {\"3\": 4, \"15\": 196, \"12\": 34, \"8\": 6}, \"4\": {\"4\": 150, \"13\": 44, \"6\": 15, \"14\": 26, \"10\": 5}, \"7\": {\"7\": 200, \"0\": 9, \"13\": 1, \"6\": 30}, \"2\": {\"2\": 200, \"3\": 33, \"7\": 6, \"15\": 1}, \"1\": {\"1\": 172, \"11\": 66, \"5\": 2}, \"0\": {\"7\": 6, \"0\": 189, \"13\": 34, \"4\": 9, \"6\": 2}, \"12\": {\"15\": 77, \"12\": 133, \"3\": 29, \"8\": 1}, \"6\": {\"13\": 10, \"7\": 44, \"6\": 165, \"4\": 19, \"0\": 2}, \"11\": {\"11\": 136, \"1\": 100, \"14\": 1, \"5\": 3}, \"9\": {\"9\": 240}, \"5\": {\"5\": 210, \"1\": 7, \"11\": 3, \"10\": 18, \"14\": 2}, \"10\": {\"14\": 58, \"10\": 166, \"4\": 2, \"13\": 13, \"5\": 1}, \"14\": {\"4\": 29, \"10\": 51, \"14\": 139, \"13\": 11, \"1\": 8, \"6\": 1, \"11\": 1}, \"8\": {\"8\": 234, \"15\": 6}}, \"O_20\": {\"6\": {\"6\": 216, \"14\": 21, \"10\": 1, \"7\": 2}, \"11\": {\"11\": 240}, \"5\": {\"1\": 44, \"5\": 106, \"12\": 37, \"3\": 11, \"0\": 37, \"15\": 5}, \"14\": {\"14\": 181, \"10\": 47, \"6\": 11, \"8\": 1}, \"2\": {\"2\": 107, \"9\": 73, \"13\": 12, \"7\": 34, \"12\": 8, \"3\": 6}, \"7\": {\"2\": 33, \"7\": 176, \"9\": 16, \"3\": 6, \"6\": 1, \"8\": 8}, \"3\": {\"12\": 47, \"3\": 132, \"7\": 14, \"4\": 5, \"9\": 24, \"8\": 7, \"5\": 4, \"2\": 7}, \"4\": {\"4\": 199, \"8\": 30, \"3\": 6, \"7\": 1, \"10\": 3, \"0\": 1}, \"9\": {\"9\": 88, \"3\": 39, \"2\": 75, \"7\": 20, \"13\": 10, \"12\": 6, \"1\": 1, \"5\": 1}, \"12\": {\"12\": 90, \"5\": 40, \"3\": 37, \"0\": 11, \"9\": 21, \"13\": 3, \"1\": 30, \"2\": 4, \"15\": 4}, \"0\": {\"1\": 34, \"15\": 47, \"5\": 53, \"0\": 74, \"12\": 23, \"3\": 4, \"9\": 2, \"13\": 1, \"2\": 2}, \"10\": {\"14\": 57, \"10\": 163, \"8\": 15, \"4\": 4, \"6\": 1}, \"8\": {\"8\": 177, \"4\": 26, \"10\": 18, \"7\": 13, \"3\": 5, \"6\": 1}, \"13\": {\"13\": 215, \"9\": 11, \"2\": 10, \"15\": 3, \"1\": 1}, \"1\": {\"1\": 79, \"12\": 26, \"5\": 43, \"0\": 43, \"15\": 47, \"3\": 1, \"13\": 1}, \"15\": {\"15\": 142, \"0\": 32, \"1\": 51, \"12\": 10, \"5\": 2, \"13\": 2, \"3\": 1}}, \"O_38\": {\"3\": {\"3\": 179, \"9\": 31, \"6\": 5, \"0\": 4, \"7\": 17, \"5\": 4}, \"8\": {\"5\": 45, \"0\": 35, \"8\": 128, \"7\": 8, \"15\": 10, \"13\": 7, \"1\": 1, \"10\": 6}, \"0\": {\"8\": 55, \"7\": 73, \"0\": 63, \"6\": 1, \"5\": 29, \"3\": 10, \"10\": 7, \"12\": 1, \"15\": 1}, \"2\": {\"14\": 21, \"2\": 217, \"13\": 2}, \"4\": {\"4\": 221, \"12\": 18, \"10\": 1}, \"7\": {\"7\": 168, \"5\": 10, \"0\": 55, \"8\": 5, \"10\": 1, \"3\": 1}, \"12\": {\"12\": 214, \"10\": 7, \"4\": 18, \"14\": 1}, \"6\": {\"6\": 177, \"9\": 59, \"1\": 1, \"5\": 2, \"3\": 1}, \"15\": {\"13\": 73, \"15\": 130, \"8\": 4, \"1\": 28, \"10\": 2, \"5\": 3}, \"11\": {\"11\": 185, \"14\": 51, \"12\": 3, \"2\": 1}, \"9\": {\"9\": 143, \"6\": 83, \"3\": 14}, \"14\": {\"11\": 40, \"14\": 187, \"12\": 3, \"2\": 9, \"10\": 1}, \"10\": {\"14\": 6, \"10\": 170, \"0\": 9, \"13\": 8, \"12\": 32, \"7\": 1, \"15\": 4, \"8\": 7, \"2\": 3}, \"5\": {\"0\": 25, \"5\": 96, \"8\": 51, \"6\": 15, \"7\": 22, \"15\": 13, \"9\": 3, \"10\": 1, \"3\": 6, \"1\": 5, \"13\": 2, \"4\": 1}, \"1\": {\"1\": 235, \"15\": 4, \"13\": 1}, \"13\": {\"10\": 19, \"13\": 124, \"1\": 8, \"15\": 77, \"5\": 1, \"8\": 4, \"2\": 5, \"14\": 2}}, \"O_26\": {\"5\": {\"5\": 128, \"2\": 11, \"15\": 42, \"9\": 25, \"13\": 30, \"8\": 2, \"7\": 1, \"3\": 1}, \"8\": {\"8\": 104, \"0\": 26, \"10\": 32, \"4\": 26, \"15\": 16, \"1\": 2, \"9\": 7, \"2\": 2, \"7\": 11, \"6\": 12, \"14\": 2}, \"4\": {\"4\": 83, \"10\": 18, \"8\": 13, \"14\": 44, \"0\": 44, \"1\": 33, \"7\": 5}, \"12\": {\"12\": 232, \"11\": 8}, \"6\": {\"6\": 180, \"10\": 19, \"9\": 20, \"8\": 9, \"15\": 4, \"0\": 6, \"13\": 2}, \"7\": {\"7\": 154, \"2\": 17, \"8\": 17, \"3\": 26, \"0\": 2, \"1\": 2, \"4\": 16, \"9\": 1, \"14\": 2, \"5\": 1, \"15\": 2}, \"10\": {\"0\": 56, \"10\": 88, \"6\": 21, \"9\": 2, \"15\": 2, \"1\": 9, \"4\": 9, \"8\": 38, \"14\": 15}, \"0\": {\"4\": 44, \"0\": 48, \"10\": 51, \"14\": 41, \"1\": 30, \"8\": 18, \"6\": 4, \"7\": 3, \"9\": 1}, \"15\": {\"15\": 73, \"5\": 35, \"7\": 3, \"9\": 67, \"6\": 11, \"8\": 23, \"2\": 12, \"13\": 14, \"10\": 1, \"0\": 1}, \"9\": {\"9\": 107, \"8\": 25, \"15\": 55, \"6\": 18, \"13\": 7, \"5\": 21, \"2\": 4, \"10\": 3}, \"11\": {\"11\": 234, \"12\": 6}, \"14\": {\"4\": 35, \"14\": 72, \"0\": 49, \"1\": 73, \"10\": 7, \"8\": 3, \"7\": 1}, \"2\": {\"2\": 90, \"7\": 13, \"8\": 2, \"9\": 6, \"3\": 88, \"5\": 22, \"15\": 18, \"4\": 1}, \"13\": {\"5\": 61, \"13\": 164, \"9\": 9, \"2\": 1, \"15\": 3, \"6\": 2}, \"3\": {\"3\": 158, \"2\": 52, \"7\": 30}, \"1\": {\"4\": 35, \"1\": 88, \"14\": 84, \"10\": 6, \"0\": 22, \"8\": 4, \"7\": 1}}, \"C_4\": {\"38\": {\"38\": 38, \"0\": 1, \"7\": 1}, \"3\": {\"20\": 19, \"3\": 97, \"25\": 5, \"36\": 3}, \"24\": {\"24\": 56}, \"49\": {\"49\": 20}, \"7\": {\"7\": 22, \"41\": 2}, \"17\": {\"17\": 78, \"27\": 2}, \"43\": {\"43\": 148}, \"30\": {\"30\": 44}, \"44\": {\"44\": 122, \"19\": 10}, \"23\": {\"23\": 144}, \"37\": {\"37\": 24}, \"4\": {\"4\": 132}, \"57\": {\"57\": 100}, \"16\": {\"16\": 95, \"20\": 1}, \"18\": {\"18\": 101, \"21\": 1, \"23\": 4, \"8\": 1, \"46\": 1}, \"20\": {\"3\": 16, \"20\": 108}, \"45\": {\"45\": 96}, \"15\": {\"15\": 130, \"31\": 1, \"52\": 1}, \"52\": {\"52\": 116}, \"19\": {\"19\": 133, \"44\": 6, \"40\": 1}, \"54\": {\"54\": 105, \"26\": 3}, \"56\": {\"56\": 130}, \"40\": {\"40\": 133, \"9\": 1}, \"28\": {\"28\": 32}, \"2\": {\"2\": 36}, \"9\": {\"9\": 117, \"27\": 2, \"48\": 1}, \"0\": {\"0\": 79, \"2\": 1}, \"36\": {\"36\": 87, \"3\": 3, \"25\": 2}, \"55\": {\"55\": 130}, \"35\": {\"57\": 1, \"35\": 39}, \"39\": {\"39\": 20}, \"31\": {\"31\": 28}, \"14\": {\"0\": 2, \"14\": 11, \"1\": 2, \"57\": 1}, \"12\": {\"12\": 87, \"50\": 3, \"20\": 2}, \"6\": {\"6\": 102, \"53\": 4, \"51\": 2, \"3\": 1, \"20\": 1, \"16\": 2}, \"26\": {\"26\": 22, \"54\": 2}, \"50\": {\"50\": 112, \"53\": 4, \"25\": 4, \"21\": 6, \"12\": 2, \"6\": 1, \"20\": 1, \"36\": 1, \"3\": 1}, \"21\": {\"21\": 121, \"8\": 1}, \"46\": {\"46\": 127, \"5\": 5, \"47\": 2, \"0\": 1, \"49\": 1, \"32\": 2, \"52\": 1, \"23\": 1}, \"51\": {\"51\": 130, \"3\": 2, \"53\": 6, \"6\": 2}, \"41\": {\"41\": 36}, \"34\": {\"34\": 23, \"42\": 1}, \"47\": {\"47\": 120}, \"5\": {\"5\": 95, \"42\": 1, \"46\": 5, \"23\": 4, \"52\": 1, \"47\": 2}, \"1\": {\"1\": 40}, \"48\": {\"48\": 130, \"54\": 3, \"17\": 1}, \"29\": {\"29\": 115, \"35\": 1, \"40\": 1, \"44\": 1}, \"22\": {\"22\": 126, \"38\": 2}, \"10\": {\"10\": 131, \"15\": 1}, \"32\": {\"32\": 24}, \"13\": {\"13\": 112}, \"42\": {\"42\": 32}, \"27\": {\"27\": 135, \"17\": 3}, \"8\": {\"8\": 139, \"25\": 2, \"21\": 1}, \"33\": {\"33\": 35, \"28\": 1}, \"25\": {\"36\": 11, \"25\": 102, \"21\": 6, \"20\": 6, \"3\": 6, \"50\": 1}, \"11\": {\"11\": 103, \"16\": 1}, \"53\": {\"6\": 9, \"53\": 102, \"50\": 1}}, \"C_2\": {\"32\": {\"17\": 1, \"32\": 27}, \"17\": {\"17\": 102, \"32\": 1, \"54\": 1}, \"38\": {\"38\": 20}, \"2\": {\"2\": 32}, \"43\": {\"43\": 143, \"46\": 1}, \"56\": {\"56\": 144}, \"37\": {\"37\": 36}, \"49\": {\"49\": 24}, \"0\": {\"0\": 48}, \"29\": {\"29\": 128}, \"35\": {\"35\": 31, \"4\": 1}, \"18\": {\"18\": 48}, \"25\": {\"25\": 101, \"8\": 12, \"20\": 1, \"50\": 13, \"6\": 7, \"12\": 1, \"53\": 1}, \"23\": {\"23\": 124}, \"15\": {\"15\": 146}, \"21\": {\"21\": 120}, \"51\": {\"51\": 124, \"21\": 2, \"50\": 2}, \"20\": {\"20\": 124, \"53\": 13, \"51\": 1}, \"7\": {\"7\": 33, \"28\": 2, \"15\": 1}, \"50\": {\"50\": 121, \"6\": 9, \"25\": 6}, \"31\": {\"31\": 28}, \"30\": {\"30\": 139, \"18\": 1}, \"19\": {\"19\": 154, \"40\": 1, \"9\": 1}, \"9\": {\"9\": 128, \"40\": 16}, \"52\": {\"52\": 113, \"46\": 2, \"16\": 9}, \"45\": {\"45\": 125, \"4\": 2, \"40\": 1}, \"8\": {\"8\": 152, \"25\": 2}, \"55\": {\"55\": 142, \"57\": 17, \"1\": 1}, \"12\": {\"12\": 92}, \"40\": {\"40\": 103, \"9\": 35, \"48\": 2}, \"28\": {\"28\": 27, \"7\": 1}, \"36\": {\"36\": 116}, \"39\": {\"39\": 27, \"41\": 1}, \"46\": {\"46\": 103, \"52\": 9, \"16\": 7, \"15\": 3}, \"14\": {\"56\": 2, \"14\": 8, \"55\": 2, \"1\": 4, \"0\": 3, \"29\": 3, \"57\": 1, \"44\": 1}, \"57\": {\"57\": 125, \"55\": 12, \"1\": 5}, \"34\": {\"34\": 26, \"32\": 1, \"48\": 1}, \"1\": {\"1\": 91, \"55\": 6, \"57\": 15}, \"53\": {\"53\": 121, \"20\": 13, \"12\": 2}, \"48\": {\"48\": 129, \"33\": 1}, \"3\": {\"3\": 91, \"21\": 1}, \"16\": {\"16\": 147, \"52\": 2, \"46\": 2, \"53\": 1}, \"6\": {\"6\": 111, \"50\": 10, \"25\": 2, \"46\": 1}, \"10\": {\"10\": 107, \"24\": 5}, \"13\": {\"13\": 116}, \"26\": {\"26\": 24}, \"24\": {\"24\": 89, \"10\": 6, \"16\": 1}, \"44\": {\"44\": 100}, \"27\": {\"27\": 147, \"54\": 3}, \"22\": {\"22\": 128}, \"33\": {\"33\": 26, \"48\": 2}, \"47\": {\"47\": 118}, \"5\": {\"5\": 119, \"23\": 1}, \"4\": {\"4\": 137, \"35\": 1}, \"41\": {\"41\": 20}, \"11\": {\"11\": 150}, \"54\": {\"54\": 98, \"27\": 10}, \"42\": {\"42\": 36}}, \"C_3\": {\"5\": {\"5\": 116}, \"32\": {\"32\": 28}, \"33\": {\"33\": 28}, \"49\": {\"49\": 20}, \"39\": {\"39\": 15, \"47\": 1}, \"11\": {\"11\": 142}, \"8\": {\"8\": 116}, \"26\": {\"26\": 24}, \"51\": {\"51\": 120, \"53\": 2}, \"4\": {\"4\": 144, \"45\": 1, \"27\": 1}, \"52\": {\"52\": 109, \"16\": 7, \"46\": 2}, \"47\": {\"47\": 86, \"23\": 2, \"48\": 1, \"42\": 1, \"5\": 1, \"55\": 1}, \"17\": {\"17\": 105, \"27\": 2, \"7\": 1}, \"53\": {\"53\": 136}, \"2\": {\"2\": 32}, \"12\": {\"12\": 90, \"8\": 2}, \"37\": {\"37\": 28}, \"9\": {\"9\": 148}, \"13\": {\"13\": 128}, \"54\": {\"54\": 100}, \"31\": {\"31\": 28}, \"34\": {\"34\": 31, \"1\": 1}, \"24\": {\"24\": 103, \"10\": 1}, \"7\": {\"7\": 36}, \"50\": {\"50\": 87, \"41\": 1, \"25\": 10, \"20\": 15, \"46\": 2, \"38\": 1, \"18\": 1, \"52\": 1}, \"46\": {\"46\": 104, \"20\": 4, \"52\": 14, \"16\": 5, \"26\": 1}, \"44\": {\"44\": 88}, \"40\": {\"40\": 114, \"27\": 1, \"19\": 1}, \"21\": {\"21\": 128}, \"45\": {\"45\": 53, \"40\": 2, \"4\": 3, \"19\": 1, \"9\": 1}, \"16\": {\"16\": 125, \"20\": 1}, \"14\": {\"14\": 11, \"56\": 6, \"1\": 3, \"35\": 3, \"22\": 5, \"0\": 3, \"57\": 5, \"31\": 1, \"48\": 1, \"34\": 2}, \"36\": {\"36\": 100}, \"56\": {\"56\": 114}, \"10\": {\"10\": 60, \"24\": 4}, \"18\": {\"18\": 83, \"41\": 1}, \"48\": {\"48\": 113, \"42\": 3}, \"38\": {\"38\": 28}, \"27\": {\"27\": 130}, \"42\": {\"42\": 26, \"48\": 2}, \"15\": {\"15\": 130, \"16\": 1, \"26\": 1, \"46\": 1, \"52\": 1}, \"1\": {\"1\": 93, \"57\": 7}, \"28\": {\"28\": 28}, \"43\": {\"43\": 136}, \"0\": {\"0\": 124}, \"57\": {\"57\": 120, \"35\": 3, \"1\": 1}, \"3\": {\"3\": 144, \"20\": 2, \"50\": 1, \"52\": 1}, \"29\": {\"29\": 124}, \"41\": {\"41\": 27, \"18\": 1}, \"25\": {\"8\": 9, \"25\": 128, \"50\": 6, \"38\": 2, \"20\": 1}, \"6\": {\"41\": 3, \"25\": 2, \"6\": 68, \"30\": 3, \"46\": 1, \"18\": 6, \"8\": 2, \"20\": 1, \"36\": 1, \"52\": 1}, \"35\": {\"35\": 28}, \"20\": {\"20\": 117, \"50\": 9}, \"23\": {\"23\": 134}, \"22\": {\"22\": 140}, \"19\": {\"19\": 116}, \"55\": {\"55\": 122, \"47\": 2}, \"30\": {\"30\": 120}}, \"C_1\": {\"24\": {\"24\": 90, \"22\": 10, \"52\": 8}, \"25\": {\"25\": 140}, \"45\": {\"45\": 127, \"42\": 6, \"55\": 11}, \"42\": {\"42\": 36, \"45\": 3, \"55\": 1}, \"2\": {\"2\": 35, \"17\": 1}, \"9\": {\"9\": 140, \"30\": 8, \"5\": 2}, \"21\": {\"21\": 119, \"52\": 1, \"15\": 4}, \"26\": {\"26\": 24}, \"49\": {\"49\": 31, \"31\": 1}, \"39\": {\"39\": 28}, \"46\": {\"46\": 113, \"53\": 10, \"25\": 2, \"13\": 9, \"20\": 2}, \"17\": {\"17\": 64}, \"19\": {\"1\": 13, \"19\": 139, \"57\": 3, \"45\": 1}, \"23\": {\"23\": 130, \"0\": 1, \"15\": 1}, \"1\": {\"1\": 88, \"34\": 1, \"19\": 11}, \"29\": {\"29\": 139, \"1\": 1}, \"56\": {\"56\": 149, \"34\": 1}, \"37\": {\"37\": 32}, \"33\": {\"33\": 32}, \"55\": {\"55\": 117, \"42\": 3, \"45\": 16, \"54\": 6}, \"30\": {\"30\": 114, \"9\": 6}, \"0\": {\"0\": 146, \"31\": 5, \"23\": 1}, \"36\": {\"36\": 64}, \"32\": {\"32\": 31, \"33\": 1}, \"31\": {\"31\": 27, \"23\": 1}, \"15\": {\"15\": 137, \"21\": 1}, \"12\": {\"12\": 116}, \"38\": {\"38\": 23, \"31\": 1}, \"40\": {\"40\": 146}, \"14\": {\"14\": 17, \"7\": 1, \"26\": 1, \"30\": 2, \"17\": 1, \"25\": 1, \"8\": 1}, \"13\": {\"13\": 124, \"51\": 21, \"46\": 1, \"12\": 4}, \"48\": {\"48\": 134, \"50\": 10, \"6\": 4}, \"34\": {\"34\": 24}, \"44\": {\"44\": 130}, \"5\": {\"5\": 142, \"6\": 6, \"30\": 1, \"48\": 2, \"8\": 1}, \"11\": {\"11\": 122, \"24\": 2, \"22\": 16}, \"7\": {\"7\": 28}, \"18\": {\"18\": 72}, \"52\": {\"52\": 100, \"24\": 14, \"10\": 12, \"22\": 3, \"11\": 2, \"21\": 1}, \"51\": {\"51\": 134, \"13\": 8}, \"41\": {\"41\": 24}, \"16\": {\"16\": 140}, \"22\": {\"22\": 96, \"11\": 22, \"24\": 11, \"52\": 3, \"10\": 2}, \"3\": {\"3\": 134, \"20\": 2, \"12\": 3, \"53\": 1}, \"54\": {\"54\": 93, \"55\": 10, \"45\": 1}, \"27\": {\"27\": 144}, \"20\": {\"20\": 140}, \"8\": {\"8\": 138}, \"50\": {\"50\": 137, \"46\": 3, \"48\": 4}, \"57\": {\"57\": 137, \"1\": 2, \"19\": 1}, \"4\": {\"4\": 132}, \"47\": {\"47\": 146}, \"10\": {\"10\": 90, \"24\": 2, \"22\": 1, \"52\": 3}, \"35\": {\"35\": 35, \"44\": 1}, \"53\": {\"53\": 123, \"3\": 1, \"25\": 2}, \"6\": {\"6\": 94, \"5\": 2}, \"43\": {\"43\": 140}, \"28\": {\"28\": 28}}, \"C_5\": {\"35\": {\"35\": 36}, \"57\": {\"57\": 132}, \"20\": {\"20\": 141, \"25\": 1, \"50\": 2}, \"12\": {\"7\": 2, \"12\": 94}, \"32\": {\"32\": 31, \"27\": 1}, \"25\": {\"25\": 133, \"53\": 5}, \"44\": {\"44\": 147, \"34\": 1}, \"31\": {\"31\": 30, \"49\": 6}, \"11\": {\"11\": 147, \"16\": 1, \"43\": 2}, \"47\": {\"47\": 100}, \"23\": {\"23\": 124}, \"43\": {\"43\": 138, \"52\": 4, \"11\": 2}, \"37\": {\"37\": 24}, \"5\": {\"5\": 127, \"40\": 1}, \"45\": {\"45\": 100, \"27\": 11, \"55\": 2, \"48\": 3, \"17\": 1, \"30\": 3, \"9\": 3, \"4\": 1}, \"7\": {\"7\": 31, \"53\": 1}, \"13\": {\"13\": 135, \"15\": 1}, \"49\": {\"49\": 30, \"31\": 6}, \"46\": {\"46\": 142, \"3\": 6}, \"16\": {\"16\": 136}, \"54\": {\"54\": 110, \"1\": 2}, \"19\": {\"19\": 152}, \"55\": {\"55\": 143, \"48\": 4, \"9\": 2, \"30\": 1}, \"30\": {\"30\": 124, \"17\": 3, \"55\": 1}, \"34\": {\"34\": 34, \"5\": 1, \"32\": 1}, \"50\": {\"50\": 122, \"20\": 4, \"51\": 3, \"25\": 4, \"7\": 1}, \"3\": {\"46\": 8, \"3\": 92}, \"10\": {\"10\": 67, \"15\": 1}, \"27\": {\"27\": 138, \"45\": 1, \"9\": 1, \"32\": 2}, \"33\": {\"33\": 32}, \"56\": {\"56\": 141, \"2\": 1}, \"9\": {\"9\": 127, \"48\": 18, \"17\": 3, \"55\": 1, \"45\": 1}, \"14\": {\"46\": 2, \"31\": 6, \"14\": 14, \"49\": 4, \"35\": 1, \"57\": 6, \"40\": 3, \"36\": 3, \"33\": 1, \"54\": 1, \"34\": 1, \"3\": 2}, \"4\": {\"4\": 99, \"27\": 1}, \"42\": {\"42\": 38, \"39\": 1, \"1\": 1}, \"24\": {\"24\": 80}, \"39\": {\"39\": 20}, \"52\": {\"52\": 125, \"43\": 5}, \"2\": {\"2\": 24, \"0\": 1, \"56\": 3}, \"28\": {\"28\": 32}, \"53\": {\"53\": 121, \"25\": 1}, \"17\": {\"17\": 109, \"30\": 7}, \"29\": {\"29\": 131, \"44\": 1}, \"38\": {\"38\": 32}, \"15\": {\"15\": 144}, \"26\": {\"26\": 23, \"6\": 1}, \"21\": {\"21\": 144}, \"41\": {\"41\": 27, \"54\": 1}, \"48\": {\"48\": 121, \"9\": 11, \"55\": 4}, \"22\": {\"22\": 28}, \"8\": {\"8\": 148}, \"18\": {\"18\": 64}, \"0\": {\"0\": 118, \"35\": 1, \"56\": 2, \"2\": 1}, \"1\": {\"1\": 138}, \"40\": {\"40\": 122, \"5\": 2}, \"6\": {\"6\": 121, \"8\": 4, \"17\": 1, \"30\": 1, \"55\": 1}, \"51\": {\"51\": 138, \"53\": 1, \"20\": 3}, \"36\": {\"36\": 89, \"57\": 3}}}, \"per_domain_accuracy\": {\"O_50\": {\"accuracy\": 0.7127604166666667, \"source?\": true}, \"O_14\": {\"accuracy\": 0.7552083333333334, \"source?\": true}, \"O_32\": {\"accuracy\": 0.6885416666666667, \"source?\": true}, \"O_44\": {\"accuracy\": 0.6713541666666667, \"source?\": true}, \"O_8\": {\"accuracy\": 0.7411458333333333, \"source?\": true}, \"O_20\": {\"accuracy\": 0.62109375, \"source?\": true}, \"O_38\": {\"accuracy\": 0.68671875, \"source?\": true}, \"O_26\": {\"accuracy\": 0.5216145833333333, \"source?\": true}, \"C_4\": {\"accuracy\": 0.9568181818181818, \"source?\": false}, \"C_2\": {\"accuracy\": 0.9461025280898876, \"source?\": false}, \"C_3\": {\"accuracy\": 0.9627976190476191, \"source?\": false}, \"C_1\": {\"accuracy\": 0.941722972972973, \"source?\": false}, \"C_5\": {\"accuracy\": 0.9619413407821229, \"source?\": false}}}, \"history\": {\"epoch_indices\": [1, 2, 3, 4, 5, 6], \"train_label_loss\": [1.9551614115014673, 0.9479505805653475, 0.8727217030711472, 0.8314034095566187, 0.7998894643393301, 0.7774352735130206], \"source_val_label_loss\": [1.2189828157424927, 0.8785771131515503, 0.901992917060852, 0.8151182532310486, 0.8127501606941223, 0.796105682849884], \"target_val_label_loss\": [3.672987222671509, 0.36279353499412537, 0.5006173849105835, 0.6931847929954529, 1.2541438341140747, 2.518920421600342], \"source_val_acc_label\": [0.5513671875, 0.6748046875, 0.65498046875, 0.6928385416666667, 0.69326171875, 0.695703125], \"target_val_acc_label\": [0.8878928571428572, 0.9536428571428571, 0.9455714285714286, 0.9439285714285715, 0.9278214285714286, 0.91575]}, \"dataset_metrics\": {\"source\": {\"train\": {\"n_unique_x\": 179200, \"n_unique_y\": 16, \"n_batch/episode\": 6720}, \"val\": {\"n_unique_x\": 38400, \"n_unique_y\": 16, \"n_batch/episode\": 960}, \"test\": {\"n_unique_x\": 38400, \"n_unique_y\": 16, \"n_batch/episode\": 960}}, \"target\": {\"train\": {\"n_unique_x\": 175197, \"n_unique_y\": 58, \"n_batch/episode\": 6309}, \"val\": {\"n_unique_x\": 37166, \"n_unique_y\": 58, \"n_batch/episode\": 875}, \"test\": {\"n_unique_x\": 37642, \"n_unique_y\": 58, \"n_batch/episode\": 890}}}}'"
      ]
     },
     "execution_count": 29,
     "metadata": {},
     "output_type": "execute_result"
    }
   ],
   "source": [
    "json.dumps(experiment)"
   ]
  }
 ],
 "metadata": {
  "celltoolbar": "Tags",
  "kernelspec": {
   "display_name": "Python 3 (ipykernel)",
   "language": "python",
   "name": "python3"
  },
  "language_info": {
   "codemirror_mode": {
    "name": "ipython",
    "version": 3
   },
   "file_extension": ".py",
   "mimetype": "text/x-python",
   "name": "python",
   "nbconvert_exporter": "python",
   "pygments_lexer": "ipython3",
   "version": "3.8.12"
  },
  "papermill": {
   "default_parameters": {},
   "duration": 1205.907946,
   "end_time": "2022-03-28T12:00:52.996887",
   "environment_variables": {},
   "exception": null,
   "input_path": "/root/csc500-main/csc500-notebooks/templates/tl_ptn_template.ipynb",
   "output_path": "trial.ipynb",
   "parameters": {
    "parameters": {
     "BEST_MODEL_PATH": "./best_model.pth",
     "NUM_LOGS_PER_EPOCH": 10,
     "criteria_for_best": "target_accuracy",
     "dataset_seed": 500,
     "datasets": [
      {
       "domain_prefix": "C_",
       "domains": [
        1,
        2,
        3,
        4,
        5
       ],
       "episode_transforms": [],
       "labels": [
        "1-10.",
        "1-11.",
        "1-15.",
        "1-16.",
        "1-17.",
        "1-18.",
        "1-19.",
        "10-4.",
        "10-7.",
        "11-1.",
        "11-14.",
        "11-17.",
        "11-20.",
        "11-7.",
        "13-20.",
        "13-8.",
        "14-10.",
        "14-11.",
        "14-14.",
        "14-7.",
        "15-1.",
        "15-20.",
        "16-1.",
        "16-16.",
        "17-10.",
        "17-11.",
        "17-2.",
        "19-1.",
        "19-16.",
        "19-19.",
        "19-20.",
        "19-3.",
        "2-10.",
        "2-11.",
        "2-17.",
        "2-18.",
        "2-20.",
        "2-3.",
        "2-4.",
        "2-5.",
        "2-6.",
        "2-7.",
        "2-8.",
        "3-13.",
        "3-18.",
        "3-3.",
        "4-1.",
        "4-10.",
        "4-11.",
        "4-19.",
        "5-5.",
        "6-15.",
        "7-10.",
        "7-14.",
        "8-18.",
        "8-20.",
        "8-3.",
        "8-8."
       ],
       "num_examples_per_domain_per_label": -1,
       "pickle_path": "/root/csc500-main/datasets/cores.stratified_ds.2022A.pkl",
       "source_or_target_dataset": "target",
       "x_transforms": [
        "unit_mag",
        "jitter_256_10",
        "lowpass_+/-10MHz",
        "take_200"
       ]
      },
      {
       "domain_prefix": "O_",
       "domains": [
        32,
        38,
        8,
        44,
        14,
        50,
        20,
        26
       ],
       "episode_transforms": [],
       "labels": [
        "3123D52",
        "3123D65",
        "3123D79",
        "3123D80",
        "3123D54",
        "3123D70",
        "3123D7B",
        "3123D89",
        "3123D58",
        "3123D76",
        "3123D7D",
        "3123EFE",
        "3123D64",
        "3123D78",
        "3123D7E",
        "3124E4A"
       ],
       "num_examples_per_domain_per_label": 2000,
       "pickle_path": "/root/csc500-main/datasets/oracle.Run1_framed_2000Examples_stratified_ds.2022A.pkl",
       "source_or_target_dataset": "source",
       "x_transforms": [
        "unit_mag",
        "jitter_256_10",
        "take_200",
        "resample_20Msps_to_25Msps"
       ]
      }
     ],
     "device": "cuda",
     "experiment_name": "tl_3-jitter10v2:oracle.run1.framed -> cores",
     "lr": 0.0001,
     "n_epoch": 50,
     "n_query": 2,
     "n_shot": 3,
     "n_way": 16,
     "patience": 3,
     "seed": 500,
     "test_k_factor": 2,
     "torch_default_dtype": "torch.float32",
     "train_k_factor": 3,
     "val_k_factor": 2,
     "x_net": [
      {
       "class": "nnReshape",
       "kargs": {
        "shape": [
         -1,
         1,
         2,
         256
        ]
       }
      },
      {
       "class": "Conv2d",
       "kargs": {
        "bias": false,
        "in_channels": 1,
        "kernel_size": [
         1,
         7
        ],
        "out_channels": 256,
        "padding": [
         0,
         3
        ]
       }
      },
      {
       "class": "ReLU",
       "kargs": {
        "inplace": true
       }
      },
      {
       "class": "BatchNorm2d",
       "kargs": {
        "num_features": 256
       }
      },
      {
       "class": "Conv2d",
       "kargs": {
        "bias": true,
        "in_channels": 256,
        "kernel_size": [
         2,
         7
        ],
        "out_channels": 80,
        "padding": [
         0,
         3
        ]
       }
      },
      {
       "class": "ReLU",
       "kargs": {
        "inplace": true
       }
      },
      {
       "class": "BatchNorm2d",
       "kargs": {
        "num_features": 80
       }
      },
      {
       "class": "Flatten",
       "kargs": {}
      },
      {
       "class": "Linear",
       "kargs": {
        "in_features": 20480,
        "out_features": 256
       }
      },
      {
       "class": "ReLU",
       "kargs": {
        "inplace": true
       }
      },
      {
       "class": "BatchNorm1d",
       "kargs": {
        "num_features": 256
       }
      },
      {
       "class": "Linear",
       "kargs": {
        "in_features": 256,
        "out_features": 256
       }
      }
     ],
     "x_shape": [
      2,
      256
     ]
    }
   },
   "start_time": "2022-03-28T11:40:47.088941",
   "version": "2.3.4"
  }
 },
 "nbformat": 4,
 "nbformat_minor": 5
}