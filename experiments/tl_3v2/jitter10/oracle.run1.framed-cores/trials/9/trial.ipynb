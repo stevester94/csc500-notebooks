{
 "cells": [
  {
   "cell_type": "markdown",
   "id": "9fea5f46",
   "metadata": {
    "papermill": {
     "duration": 0.029421,
     "end_time": "2022-03-28T10:50:57.214303",
     "exception": false,
     "start_time": "2022-03-28T10:50:57.184882",
     "status": "completed"
    },
    "tags": []
   },
   "source": [
    "# Transfer Learning Template"
   ]
  },
  {
   "cell_type": "code",
   "execution_count": 1,
   "id": "0902182a",
   "metadata": {
    "execution": {
     "iopub.execute_input": "2022-03-28T10:50:57.280410Z",
     "iopub.status.busy": "2022-03-28T10:50:57.279520Z",
     "iopub.status.idle": "2022-03-28T10:50:59.160173Z",
     "shell.execute_reply": "2022-03-28T10:50:59.159701Z"
    },
    "papermill": {
     "duration": 1.922702,
     "end_time": "2022-03-28T10:50:59.160280",
     "exception": false,
     "start_time": "2022-03-28T10:50:57.237578",
     "status": "completed"
    },
    "tags": []
   },
   "outputs": [],
   "source": [
    "%load_ext autoreload\n",
    "%autoreload 2\n",
    "%matplotlib inline\n",
    "\n",
    "    \n",
    "import os, json, sys, time, random\n",
    "import numpy as np\n",
    "import torch\n",
    "from torch.optim import Adam\n",
    "from  easydict import EasyDict\n",
    "import matplotlib.pyplot as plt\n",
    "\n",
    "from steves_models.steves_ptn import Steves_Prototypical_Network\n",
    "\n",
    "from steves_utils.lazy_iterable_wrapper import Lazy_Iterable_Wrapper\n",
    "from steves_utils.iterable_aggregator import Iterable_Aggregator\n",
    "from steves_utils.ptn_train_eval_test_jig import  PTN_Train_Eval_Test_Jig\n",
    "from steves_utils.torch_sequential_builder import build_sequential\n",
    "from steves_utils.torch_utils import get_dataset_metrics, ptn_confusion_by_domain_over_dataloader\n",
    "from steves_utils.utils_v2 import (per_domain_accuracy_from_confusion, get_datasets_base_path)\n",
    "from steves_utils.PTN.utils import independent_accuracy_assesment\n",
    "\n",
    "from torch.utils.data import DataLoader\n",
    "\n",
    "from steves_utils.stratified_dataset.episodic_accessor import Episodic_Accessor_Factory\n",
    "\n",
    "from steves_utils.ptn_do_report import (\n",
    "    get_loss_curve,\n",
    "    get_results_table,\n",
    "    get_parameters_table,\n",
    "    get_domain_accuracies,\n",
    ")\n",
    "\n",
    "from steves_utils.transforms import get_chained_transform"
   ]
  },
  {
   "cell_type": "markdown",
   "id": "41c840b4",
   "metadata": {
    "papermill": {
     "duration": 0.018944,
     "end_time": "2022-03-28T10:50:59.198843",
     "exception": false,
     "start_time": "2022-03-28T10:50:59.179899",
     "status": "completed"
    },
    "tags": []
   },
   "source": [
    "# Allowed Parameters\n",
    "These are allowed parameters, not defaults\n",
    "Each of these values need to be present in the injected parameters (the notebook will raise an exception if they are not present)\n",
    "\n",
    "Papermill uses the cell tag \"parameters\" to inject the real parameters below this cell.\n",
    "Enable tags to see what I mean"
   ]
  },
  {
   "cell_type": "code",
   "execution_count": 2,
   "id": "fd44eb83",
   "metadata": {
    "execution": {
     "iopub.execute_input": "2022-03-28T10:50:59.242574Z",
     "iopub.status.busy": "2022-03-28T10:50:59.242200Z",
     "iopub.status.idle": "2022-03-28T10:50:59.267274Z",
     "shell.execute_reply": "2022-03-28T10:50:59.267581Z"
    },
    "papermill": {
     "duration": 0.050031,
     "end_time": "2022-03-28T10:50:59.267662",
     "exception": false,
     "start_time": "2022-03-28T10:50:59.217631",
     "status": "completed"
    },
    "tags": []
   },
   "outputs": [],
   "source": [
    "required_parameters = {\n",
    "    \"experiment_name\",\n",
    "    \"lr\",\n",
    "    \"device\",\n",
    "    \"seed\",\n",
    "    \"dataset_seed\",\n",
    "    \"n_shot\",\n",
    "    \"n_query\",\n",
    "    \"n_way\",\n",
    "    \"train_k_factor\",\n",
    "    \"val_k_factor\",\n",
    "    \"test_k_factor\",\n",
    "    \"n_epoch\",\n",
    "    \"patience\",\n",
    "    \"criteria_for_best\",\n",
    "    \"x_net\",\n",
    "    \"datasets\",\n",
    "    \"torch_default_dtype\",\n",
    "    \"NUM_LOGS_PER_EPOCH\",\n",
    "    \"BEST_MODEL_PATH\",\n",
    "    \"x_shape\",\n",
    "}"
   ]
  },
  {
   "cell_type": "code",
   "execution_count": 3,
   "id": "fa3f0049",
   "metadata": {
    "execution": {
     "iopub.execute_input": "2022-03-28T10:50:59.321086Z",
     "iopub.status.busy": "2022-03-28T10:50:59.320679Z",
     "iopub.status.idle": "2022-03-28T10:50:59.345840Z",
     "shell.execute_reply": "2022-03-28T10:50:59.345490Z"
    },
    "papermill": {
     "duration": 0.058857,
     "end_time": "2022-03-28T10:50:59.345909",
     "exception": false,
     "start_time": "2022-03-28T10:50:59.287052",
     "status": "completed"
    },
    "tags": [
     "parameters"
    ]
   },
   "outputs": [],
   "source": [
    "from steves_utils.CORES.utils import (\n",
    "    ALL_NODES,\n",
    "    ALL_NODES_MINIMUM_1000_EXAMPLES,\n",
    "    ALL_DAYS\n",
    ")\n",
    "\n",
    "from steves_utils.ORACLE.utils_v2 import (\n",
    "    ALL_DISTANCES_FEET_NARROWED,\n",
    "    ALL_RUNS,\n",
    "    ALL_SERIAL_NUMBERS,\n",
    ")\n",
    "\n",
    "standalone_parameters = {}\n",
    "standalone_parameters[\"experiment_name\"] = \"STANDALONE PTN\"\n",
    "standalone_parameters[\"lr\"] = 0.001\n",
    "standalone_parameters[\"device\"] = \"cuda\"\n",
    "\n",
    "standalone_parameters[\"seed\"] = 1337\n",
    "standalone_parameters[\"dataset_seed\"] = 1337\n",
    "\n",
    "standalone_parameters[\"n_way\"] = 8\n",
    "standalone_parameters[\"n_shot\"] = 3\n",
    "standalone_parameters[\"n_query\"]  = 2\n",
    "standalone_parameters[\"train_k_factor\"] = 1\n",
    "standalone_parameters[\"val_k_factor\"] = 2\n",
    "standalone_parameters[\"test_k_factor\"] = 2\n",
    "\n",
    "\n",
    "standalone_parameters[\"n_epoch\"] = 50\n",
    "\n",
    "standalone_parameters[\"patience\"] = 10\n",
    "standalone_parameters[\"criteria_for_best\"] = \"source_loss\"\n",
    "\n",
    "standalone_parameters[\"datasets\"] = [\n",
    "    {\n",
    "        \"labels\": ALL_SERIAL_NUMBERS,\n",
    "        \"domains\": ALL_DISTANCES_FEET_NARROWED,\n",
    "        \"num_examples_per_domain_per_label\": 100,\n",
    "        \"pickle_path\": os.path.join(get_datasets_base_path(), \"oracle.Run1_framed_2000Examples_stratified_ds.2022A.pkl\"),\n",
    "        \"source_or_target_dataset\": \"source\",\n",
    "        \"x_transforms\": [\"unit_mag\", \"minus_two\"],\n",
    "        \"episode_transforms\": [],\n",
    "        \"domain_prefix\": \"ORACLE_\"\n",
    "    },\n",
    "    {\n",
    "        \"labels\": ALL_NODES,\n",
    "        \"domains\": ALL_DAYS,\n",
    "        \"num_examples_per_domain_per_label\": 100,\n",
    "        \"pickle_path\": os.path.join(get_datasets_base_path(), \"cores.stratified_ds.2022A.pkl\"),\n",
    "        \"source_or_target_dataset\": \"target\",\n",
    "        \"x_transforms\": [\"unit_power\", \"times_zero\"],\n",
    "        \"episode_transforms\": [],\n",
    "        \"domain_prefix\": \"CORES_\"\n",
    "    }   \n",
    "]\n",
    "\n",
    "standalone_parameters[\"torch_default_dtype\"] = \"torch.float32\" \n",
    "\n",
    "\n",
    "\n",
    "standalone_parameters[\"x_net\"] =     [\n",
    "    {\"class\": \"nnReshape\", \"kargs\": {\"shape\":[-1, 1, 2, 256]}},\n",
    "    {\"class\": \"Conv2d\", \"kargs\": { \"in_channels\":1, \"out_channels\":256, \"kernel_size\":(1,7), \"bias\":False, \"padding\":(0,3), },},\n",
    "    {\"class\": \"ReLU\", \"kargs\": {\"inplace\": True}},\n",
    "    {\"class\": \"BatchNorm2d\", \"kargs\": {\"num_features\":256}},\n",
    "\n",
    "    {\"class\": \"Conv2d\", \"kargs\": { \"in_channels\":256, \"out_channels\":80, \"kernel_size\":(2,7), \"bias\":True, \"padding\":(0,3), },},\n",
    "    {\"class\": \"ReLU\", \"kargs\": {\"inplace\": True}},\n",
    "    {\"class\": \"BatchNorm2d\", \"kargs\": {\"num_features\":80}},\n",
    "    {\"class\": \"Flatten\", \"kargs\": {}},\n",
    "\n",
    "    {\"class\": \"Linear\", \"kargs\": {\"in_features\": 80*256, \"out_features\": 256}}, # 80 units per IQ pair\n",
    "    {\"class\": \"ReLU\", \"kargs\": {\"inplace\": True}},\n",
    "    {\"class\": \"BatchNorm1d\", \"kargs\": {\"num_features\":256}},\n",
    "\n",
    "    {\"class\": \"Linear\", \"kargs\": {\"in_features\": 256, \"out_features\": 256}},\n",
    "]\n",
    "\n",
    "# Parameters relevant to results\n",
    "# These parameters will basically never need to change\n",
    "standalone_parameters[\"NUM_LOGS_PER_EPOCH\"] = 10\n",
    "standalone_parameters[\"BEST_MODEL_PATH\"] = \"./best_model.pth\"\n",
    "\n",
    "\n",
    "\n",
    "\n"
   ]
  },
  {
   "cell_type": "code",
   "execution_count": 4,
   "id": "a00d2c24",
   "metadata": {
    "execution": {
     "iopub.execute_input": "2022-03-28T10:50:59.400480Z",
     "iopub.status.busy": "2022-03-28T10:50:59.387113Z",
     "iopub.status.idle": "2022-03-28T10:50:59.424694Z",
     "shell.execute_reply": "2022-03-28T10:50:59.424330Z"
    },
    "papermill": {
     "duration": 0.059427,
     "end_time": "2022-03-28T10:50:59.424762",
     "exception": false,
     "start_time": "2022-03-28T10:50:59.365335",
     "status": "completed"
    },
    "tags": [
     "injected-parameters"
    ]
   },
   "outputs": [],
   "source": [
    "# Parameters\n",
    "parameters = {\n",
    "    \"experiment_name\": \"tl_3-jitter10v2:oracle.run1.framed -> cores\",\n",
    "    \"device\": \"cuda\",\n",
    "    \"lr\": 0.0001,\n",
    "    \"x_shape\": [2, 256],\n",
    "    \"n_shot\": 3,\n",
    "    \"n_query\": 2,\n",
    "    \"train_k_factor\": 3,\n",
    "    \"val_k_factor\": 2,\n",
    "    \"test_k_factor\": 2,\n",
    "    \"torch_default_dtype\": \"torch.float32\",\n",
    "    \"n_epoch\": 50,\n",
    "    \"patience\": 3,\n",
    "    \"criteria_for_best\": \"target_accuracy\",\n",
    "    \"x_net\": [\n",
    "        {\"class\": \"nnReshape\", \"kargs\": {\"shape\": [-1, 1, 2, 256]}},\n",
    "        {\n",
    "            \"class\": \"Conv2d\",\n",
    "            \"kargs\": {\n",
    "                \"in_channels\": 1,\n",
    "                \"out_channels\": 256,\n",
    "                \"kernel_size\": [1, 7],\n",
    "                \"bias\": False,\n",
    "                \"padding\": [0, 3],\n",
    "            },\n",
    "        },\n",
    "        {\"class\": \"ReLU\", \"kargs\": {\"inplace\": True}},\n",
    "        {\"class\": \"BatchNorm2d\", \"kargs\": {\"num_features\": 256}},\n",
    "        {\n",
    "            \"class\": \"Conv2d\",\n",
    "            \"kargs\": {\n",
    "                \"in_channels\": 256,\n",
    "                \"out_channels\": 80,\n",
    "                \"kernel_size\": [2, 7],\n",
    "                \"bias\": True,\n",
    "                \"padding\": [0, 3],\n",
    "            },\n",
    "        },\n",
    "        {\"class\": \"ReLU\", \"kargs\": {\"inplace\": True}},\n",
    "        {\"class\": \"BatchNorm2d\", \"kargs\": {\"num_features\": 80}},\n",
    "        {\"class\": \"Flatten\", \"kargs\": {}},\n",
    "        {\"class\": \"Linear\", \"kargs\": {\"in_features\": 20480, \"out_features\": 256}},\n",
    "        {\"class\": \"ReLU\", \"kargs\": {\"inplace\": True}},\n",
    "        {\"class\": \"BatchNorm1d\", \"kargs\": {\"num_features\": 256}},\n",
    "        {\"class\": \"Linear\", \"kargs\": {\"in_features\": 256, \"out_features\": 256}},\n",
    "    ],\n",
    "    \"NUM_LOGS_PER_EPOCH\": 10,\n",
    "    \"BEST_MODEL_PATH\": \"./best_model.pth\",\n",
    "    \"n_way\": 16,\n",
    "    \"datasets\": [\n",
    "        {\n",
    "            \"labels\": [\n",
    "                \"1-10.\",\n",
    "                \"1-11.\",\n",
    "                \"1-15.\",\n",
    "                \"1-16.\",\n",
    "                \"1-17.\",\n",
    "                \"1-18.\",\n",
    "                \"1-19.\",\n",
    "                \"10-4.\",\n",
    "                \"10-7.\",\n",
    "                \"11-1.\",\n",
    "                \"11-14.\",\n",
    "                \"11-17.\",\n",
    "                \"11-20.\",\n",
    "                \"11-7.\",\n",
    "                \"13-20.\",\n",
    "                \"13-8.\",\n",
    "                \"14-10.\",\n",
    "                \"14-11.\",\n",
    "                \"14-14.\",\n",
    "                \"14-7.\",\n",
    "                \"15-1.\",\n",
    "                \"15-20.\",\n",
    "                \"16-1.\",\n",
    "                \"16-16.\",\n",
    "                \"17-10.\",\n",
    "                \"17-11.\",\n",
    "                \"17-2.\",\n",
    "                \"19-1.\",\n",
    "                \"19-16.\",\n",
    "                \"19-19.\",\n",
    "                \"19-20.\",\n",
    "                \"19-3.\",\n",
    "                \"2-10.\",\n",
    "                \"2-11.\",\n",
    "                \"2-17.\",\n",
    "                \"2-18.\",\n",
    "                \"2-20.\",\n",
    "                \"2-3.\",\n",
    "                \"2-4.\",\n",
    "                \"2-5.\",\n",
    "                \"2-6.\",\n",
    "                \"2-7.\",\n",
    "                \"2-8.\",\n",
    "                \"3-13.\",\n",
    "                \"3-18.\",\n",
    "                \"3-3.\",\n",
    "                \"4-1.\",\n",
    "                \"4-10.\",\n",
    "                \"4-11.\",\n",
    "                \"4-19.\",\n",
    "                \"5-5.\",\n",
    "                \"6-15.\",\n",
    "                \"7-10.\",\n",
    "                \"7-14.\",\n",
    "                \"8-18.\",\n",
    "                \"8-20.\",\n",
    "                \"8-3.\",\n",
    "                \"8-8.\",\n",
    "            ],\n",
    "            \"domains\": [1, 2, 3, 4, 5],\n",
    "            \"num_examples_per_domain_per_label\": -1,\n",
    "            \"pickle_path\": \"/root/csc500-main/datasets/cores.stratified_ds.2022A.pkl\",\n",
    "            \"source_or_target_dataset\": \"target\",\n",
    "            \"x_transforms\": [\n",
    "                \"unit_power\",\n",
    "                \"jitter_256_10\",\n",
    "                \"lowpass_+/-10MHz\",\n",
    "                \"take_200\",\n",
    "            ],\n",
    "            \"episode_transforms\": [],\n",
    "            \"domain_prefix\": \"C_\",\n",
    "        },\n",
    "        {\n",
    "            \"labels\": [\n",
    "                \"3123D52\",\n",
    "                \"3123D65\",\n",
    "                \"3123D79\",\n",
    "                \"3123D80\",\n",
    "                \"3123D54\",\n",
    "                \"3123D70\",\n",
    "                \"3123D7B\",\n",
    "                \"3123D89\",\n",
    "                \"3123D58\",\n",
    "                \"3123D76\",\n",
    "                \"3123D7D\",\n",
    "                \"3123EFE\",\n",
    "                \"3123D64\",\n",
    "                \"3123D78\",\n",
    "                \"3123D7E\",\n",
    "                \"3124E4A\",\n",
    "            ],\n",
    "            \"domains\": [32, 38, 8, 44, 14, 50, 20, 26],\n",
    "            \"num_examples_per_domain_per_label\": 2000,\n",
    "            \"pickle_path\": \"/root/csc500-main/datasets/oracle.Run1_framed_2000Examples_stratified_ds.2022A.pkl\",\n",
    "            \"source_or_target_dataset\": \"source\",\n",
    "            \"x_transforms\": [\n",
    "                \"unit_power\",\n",
    "                \"jitter_256_10\",\n",
    "                \"take_200\",\n",
    "                \"resample_20Msps_to_25Msps\",\n",
    "            ],\n",
    "            \"episode_transforms\": [],\n",
    "            \"domain_prefix\": \"O_\",\n",
    "        },\n",
    "    ],\n",
    "    \"seed\": 7,\n",
    "    \"dataset_seed\": 7,\n",
    "}\n"
   ]
  },
  {
   "cell_type": "code",
   "execution_count": 5,
   "id": "8fa1cc33",
   "metadata": {
    "execution": {
     "iopub.execute_input": "2022-03-28T10:50:59.471609Z",
     "iopub.status.busy": "2022-03-28T10:50:59.471131Z",
     "iopub.status.idle": "2022-03-28T10:50:59.496622Z",
     "shell.execute_reply": "2022-03-28T10:50:59.496264Z"
    },
    "papermill": {
     "duration": 0.052521,
     "end_time": "2022-03-28T10:50:59.496693",
     "exception": false,
     "start_time": "2022-03-28T10:50:59.444172",
     "status": "completed"
    },
    "tags": []
   },
   "outputs": [],
   "source": [
    "# Set this to True if you want to run this template directly\n",
    "STANDALONE = False\n",
    "if STANDALONE:\n",
    "    print(\"parameters not injected, running with standalone_parameters\")\n",
    "    parameters = standalone_parameters\n",
    "\n",
    "if not 'parameters' in locals() and not 'parameters' in globals():\n",
    "    raise Exception(\"Parameter injection failed\")\n",
    "\n",
    "#Use an easy dict for all the parameters\n",
    "p = EasyDict(parameters)\n",
    "\n",
    "if \"x_shape\" not in p:\n",
    "    p.x_shape = [2,256] # Default to this if we dont supply x_shape\n",
    "\n",
    "\n",
    "supplied_keys = set(p.keys())\n",
    "\n",
    "if  supplied_keys != required_parameters:\n",
    "    print(\"Parameters are incorrect\")\n",
    "    if len(supplied_keys - required_parameters)>0: print(\"Shouldn't have:\", str(supplied_keys - required_parameters))\n",
    "    if len(required_parameters - supplied_keys)>0: print(\"Need to have:\", str(required_parameters - supplied_keys))\n",
    "    raise RuntimeError(\"Parameters are incorrect\")"
   ]
  },
  {
   "cell_type": "code",
   "execution_count": 6,
   "id": "3a028d58",
   "metadata": {
    "execution": {
     "iopub.execute_input": "2022-03-28T10:50:59.538833Z",
     "iopub.status.busy": "2022-03-28T10:50:59.538468Z",
     "iopub.status.idle": "2022-03-28T10:50:59.561127Z",
     "shell.execute_reply": "2022-03-28T10:50:59.560812Z"
    },
    "papermill": {
     "duration": 0.04485,
     "end_time": "2022-03-28T10:50:59.561196",
     "exception": false,
     "start_time": "2022-03-28T10:50:59.516346",
     "status": "completed"
    },
    "tags": []
   },
   "outputs": [],
   "source": [
    "###################################\n",
    "# Set the RNGs and make it all deterministic\n",
    "###################################\n",
    "np.random.seed(p.seed)\n",
    "random.seed(p.seed)\n",
    "torch.manual_seed(p.seed)\n",
    "\n",
    "torch.use_deterministic_algorithms(True) "
   ]
  },
  {
   "cell_type": "code",
   "execution_count": 7,
   "id": "b691acf6",
   "metadata": {
    "execution": {
     "iopub.execute_input": "2022-03-28T10:50:59.603961Z",
     "iopub.status.busy": "2022-03-28T10:50:59.603599Z",
     "iopub.status.idle": "2022-03-28T10:50:59.629414Z",
     "shell.execute_reply": "2022-03-28T10:50:59.629098Z"
    },
    "papermill": {
     "duration": 0.048857,
     "end_time": "2022-03-28T10:50:59.629482",
     "exception": false,
     "start_time": "2022-03-28T10:50:59.580625",
     "status": "completed"
    },
    "tags": []
   },
   "outputs": [],
   "source": [
    "###########################################\n",
    "# The stratified datasets honor this\n",
    "###########################################\n",
    "torch.set_default_dtype(eval(p.torch_default_dtype))"
   ]
  },
  {
   "cell_type": "code",
   "execution_count": 8,
   "id": "b5fba671",
   "metadata": {
    "execution": {
     "iopub.execute_input": "2022-03-28T10:50:59.671566Z",
     "iopub.status.busy": "2022-03-28T10:50:59.671188Z",
     "iopub.status.idle": "2022-03-28T10:50:59.727506Z",
     "shell.execute_reply": "2022-03-28T10:50:59.727191Z"
    },
    "papermill": {
     "duration": 0.078779,
     "end_time": "2022-03-28T10:50:59.727584",
     "exception": false,
     "start_time": "2022-03-28T10:50:59.648805",
     "status": "completed"
    },
    "tags": []
   },
   "outputs": [],
   "source": [
    "###################################\n",
    "# Build the network(s)\n",
    "# Note: It's critical to do this AFTER setting the RNG\n",
    "###################################\n",
    "x_net = build_sequential(p.x_net)"
   ]
  },
  {
   "cell_type": "code",
   "execution_count": 9,
   "id": "5d7e61cc",
   "metadata": {
    "execution": {
     "iopub.execute_input": "2022-03-28T10:50:59.770142Z",
     "iopub.status.busy": "2022-03-28T10:50:59.769782Z",
     "iopub.status.idle": "2022-03-28T10:50:59.792539Z",
     "shell.execute_reply": "2022-03-28T10:50:59.792215Z"
    },
    "papermill": {
     "duration": 0.045316,
     "end_time": "2022-03-28T10:50:59.792613",
     "exception": false,
     "start_time": "2022-03-28T10:50:59.747297",
     "status": "completed"
    },
    "tags": []
   },
   "outputs": [],
   "source": [
    "start_time_secs = time.time()"
   ]
  },
  {
   "cell_type": "code",
   "execution_count": 10,
   "id": "c6b67dfd",
   "metadata": {
    "execution": {
     "iopub.execute_input": "2022-03-28T10:50:59.837778Z",
     "iopub.status.busy": "2022-03-28T10:50:59.837407Z",
     "iopub.status.idle": "2022-03-28T10:50:59.863049Z",
     "shell.execute_reply": "2022-03-28T10:50:59.862728Z"
    },
    "papermill": {
     "duration": 0.050316,
     "end_time": "2022-03-28T10:50:59.863123",
     "exception": false,
     "start_time": "2022-03-28T10:50:59.812807",
     "status": "completed"
    },
    "tags": []
   },
   "outputs": [],
   "source": [
    "p.domains_source = []\n",
    "p.domains_target = []\n",
    "\n",
    "\n",
    "train_original_source = []\n",
    "val_original_source   = []\n",
    "test_original_source  = []\n",
    "\n",
    "train_original_target = []\n",
    "val_original_target   = []\n",
    "test_original_target  = []"
   ]
  },
  {
   "cell_type": "code",
   "execution_count": 11,
   "id": "e3d9c3d3",
   "metadata": {
    "execution": {
     "iopub.execute_input": "2022-03-28T10:50:59.906486Z",
     "iopub.status.busy": "2022-03-28T10:50:59.906118Z",
     "iopub.status.idle": "2022-03-28T10:50:59.930889Z",
     "shell.execute_reply": "2022-03-28T10:50:59.930537Z"
    },
    "papermill": {
     "duration": 0.047606,
     "end_time": "2022-03-28T10:50:59.930957",
     "exception": false,
     "start_time": "2022-03-28T10:50:59.883351",
     "status": "completed"
    },
    "tags": []
   },
   "outputs": [],
   "source": [
    "# global_x_transform_func = lambda x: normalize(x.to(torch.get_default_dtype()), \"unit_power\") # unit_power, unit_mag\n",
    "# global_x_transform_func = lambda x: normalize(x, \"unit_power\") # unit_power, unit_mag"
   ]
  },
  {
   "cell_type": "code",
   "execution_count": 12,
   "id": "acb78fd2",
   "metadata": {
    "execution": {
     "iopub.execute_input": "2022-03-28T10:50:59.982829Z",
     "iopub.status.busy": "2022-03-28T10:50:59.982447Z",
     "iopub.status.idle": "2022-03-28T10:51:00.005835Z",
     "shell.execute_reply": "2022-03-28T10:51:00.005039Z"
    },
    "papermill": {
     "duration": 0.054837,
     "end_time": "2022-03-28T10:51:00.006004",
     "exception": false,
     "start_time": "2022-03-28T10:50:59.951167",
     "status": "completed"
    },
    "tags": []
   },
   "outputs": [],
   "source": [
    "def add_dataset(\n",
    "    labels,\n",
    "    domains,\n",
    "    pickle_path,\n",
    "    x_transforms,\n",
    "    episode_transforms,\n",
    "    domain_prefix,\n",
    "    num_examples_per_domain_per_label,\n",
    "    source_or_target_dataset:str,\n",
    "    iterator_seed=p.seed,\n",
    "    dataset_seed=p.dataset_seed,\n",
    "    n_shot=p.n_shot,\n",
    "    n_way=p.n_way,\n",
    "    n_query=p.n_query,\n",
    "    train_val_test_k_factors=(p.train_k_factor,p.val_k_factor,p.test_k_factor),\n",
    "):\n",
    "   \n",
    "    if x_transforms == []: x_transform = None\n",
    "    else: x_transform = get_chained_transform(x_transforms)\n",
    "    \n",
    "    if episode_transforms == []: episode_transform = None\n",
    "    else: raise Exception(\"episode_transforms not implemented\")\n",
    "    \n",
    "    episode_transform = lambda tup, _prefix=domain_prefix: (_prefix + str(tup[0]), tup[1])\n",
    "\n",
    "\n",
    "    eaf = Episodic_Accessor_Factory(\n",
    "        labels=labels,\n",
    "        domains=domains,\n",
    "        num_examples_per_domain_per_label=num_examples_per_domain_per_label,\n",
    "        iterator_seed=iterator_seed,\n",
    "        dataset_seed=dataset_seed,\n",
    "        n_shot=n_shot,\n",
    "        n_way=n_way,\n",
    "        n_query=n_query,\n",
    "        train_val_test_k_factors=train_val_test_k_factors,\n",
    "        pickle_path=pickle_path,\n",
    "        x_transform_func=x_transform,\n",
    "    )\n",
    "\n",
    "    train, val, test = eaf.get_train(), eaf.get_val(), eaf.get_test()\n",
    "    train = Lazy_Iterable_Wrapper(train, episode_transform)\n",
    "    val = Lazy_Iterable_Wrapper(val, episode_transform)\n",
    "    test = Lazy_Iterable_Wrapper(test, episode_transform)\n",
    "\n",
    "    if source_or_target_dataset==\"source\":\n",
    "        train_original_source.append(train)\n",
    "        val_original_source.append(val)\n",
    "        test_original_source.append(test)\n",
    "\n",
    "        p.domains_source.extend(\n",
    "            [domain_prefix + str(u) for u in domains]\n",
    "        )\n",
    "    elif source_or_target_dataset==\"target\":\n",
    "        train_original_target.append(train)\n",
    "        val_original_target.append(val)\n",
    "        test_original_target.append(test)\n",
    "        p.domains_target.extend(\n",
    "            [domain_prefix + str(u) for u in domains]\n",
    "        )\n",
    "    else:\n",
    "        raise Exception(f\"invalid source_or_target_dataset: {source_or_target_dataset}\")\n",
    "    "
   ]
  },
  {
   "cell_type": "code",
   "execution_count": 13,
   "id": "fe266617",
   "metadata": {
    "execution": {
     "iopub.execute_input": "2022-03-28T10:51:00.056141Z",
     "iopub.status.busy": "2022-03-28T10:51:00.055781Z",
     "iopub.status.idle": "2022-03-28T10:52:52.484710Z",
     "shell.execute_reply": "2022-03-28T10:52:52.484113Z"
    },
    "papermill": {
     "duration": 112.451102,
     "end_time": "2022-03-28T10:52:52.484865",
     "exception": false,
     "start_time": "2022-03-28T10:51:00.033763",
     "status": "completed"
    },
    "tags": []
   },
   "outputs": [],
   "source": [
    "for ds in p.datasets:\n",
    "    add_dataset(**ds)"
   ]
  },
  {
   "cell_type": "code",
   "execution_count": 14,
   "id": "b90d65ac",
   "metadata": {
    "execution": {
     "iopub.execute_input": "2022-03-28T10:52:52.540796Z",
     "iopub.status.busy": "2022-03-28T10:52:52.540403Z",
     "iopub.status.idle": "2022-03-28T10:52:52.563943Z",
     "shell.execute_reply": "2022-03-28T10:52:52.563369Z"
    },
    "papermill": {
     "duration": 0.050228,
     "end_time": "2022-03-28T10:52:52.564076",
     "exception": false,
     "start_time": "2022-03-28T10:52:52.513848",
     "status": "completed"
    },
    "tags": []
   },
   "outputs": [],
   "source": [
    "# from steves_utils.CORES.utils import (\n",
    "#     ALL_NODES,\n",
    "#     ALL_NODES_MINIMUM_1000_EXAMPLES,\n",
    "#     ALL_DAYS\n",
    "# )\n",
    "\n",
    "# add_dataset(\n",
    "#     labels=ALL_NODES,\n",
    "#     domains = ALL_DAYS,\n",
    "#     num_examples_per_domain_per_label=100,\n",
    "#     pickle_path=os.path.join(get_datasets_base_path(), \"cores.stratified_ds.2022A.pkl\"),\n",
    "#     source_or_target_dataset=\"target\",\n",
    "#     x_transform_func=global_x_transform_func,\n",
    "#     domain_modifier=lambda u: f\"cores_{u}\"\n",
    "# )"
   ]
  },
  {
   "cell_type": "code",
   "execution_count": 15,
   "id": "76db484d",
   "metadata": {
    "execution": {
     "iopub.execute_input": "2022-03-28T10:52:52.620499Z",
     "iopub.status.busy": "2022-03-28T10:52:52.620107Z",
     "iopub.status.idle": "2022-03-28T10:52:52.642971Z",
     "shell.execute_reply": "2022-03-28T10:52:52.642423Z"
    },
    "papermill": {
     "duration": 0.050151,
     "end_time": "2022-03-28T10:52:52.643109",
     "exception": false,
     "start_time": "2022-03-28T10:52:52.592958",
     "status": "completed"
    },
    "tags": []
   },
   "outputs": [],
   "source": [
    "# from steves_utils.ORACLE.utils_v2 import (\n",
    "#     ALL_DISTANCES_FEET,\n",
    "#     ALL_RUNS,\n",
    "#     ALL_SERIAL_NUMBERS,\n",
    "# )\n",
    "\n",
    "\n",
    "# add_dataset(\n",
    "#     labels=ALL_SERIAL_NUMBERS,\n",
    "#     domains = list(set(ALL_DISTANCES_FEET) - {2,62}),\n",
    "#     num_examples_per_domain_per_label=100,\n",
    "#     pickle_path=os.path.join(get_datasets_base_path(), \"oracle.Run2_framed_2000Examples_stratified_ds.2022A.pkl\"),\n",
    "#     source_or_target_dataset=\"source\",\n",
    "#     x_transform_func=global_x_transform_func,\n",
    "#     domain_modifier=lambda u: f\"oracle1_{u}\"\n",
    "# )\n"
   ]
  },
  {
   "cell_type": "code",
   "execution_count": 16,
   "id": "97dea9d2",
   "metadata": {
    "execution": {
     "iopub.execute_input": "2022-03-28T10:52:52.700773Z",
     "iopub.status.busy": "2022-03-28T10:52:52.700391Z",
     "iopub.status.idle": "2022-03-28T10:52:52.723445Z",
     "shell.execute_reply": "2022-03-28T10:52:52.722416Z"
    },
    "papermill": {
     "duration": 0.050314,
     "end_time": "2022-03-28T10:52:52.723727",
     "exception": false,
     "start_time": "2022-03-28T10:52:52.673413",
     "status": "completed"
    },
    "tags": []
   },
   "outputs": [],
   "source": [
    "# from steves_utils.ORACLE.utils_v2 import (\n",
    "#     ALL_DISTANCES_FEET,\n",
    "#     ALL_RUNS,\n",
    "#     ALL_SERIAL_NUMBERS,\n",
    "# )\n",
    "\n",
    "\n",
    "# add_dataset(\n",
    "#     labels=ALL_SERIAL_NUMBERS,\n",
    "#     domains = list(set(ALL_DISTANCES_FEET) - {2,62,56}),\n",
    "#     num_examples_per_domain_per_label=100,\n",
    "#     pickle_path=os.path.join(get_datasets_base_path(), \"oracle.Run2_framed_2000Examples_stratified_ds.2022A.pkl\"),\n",
    "#     source_or_target_dataset=\"source\",\n",
    "#     x_transform_func=global_x_transform_func,\n",
    "#     domain_modifier=lambda u: f\"oracle2_{u}\"\n",
    "# )"
   ]
  },
  {
   "cell_type": "code",
   "execution_count": 17,
   "id": "6f289866",
   "metadata": {
    "execution": {
     "iopub.execute_input": "2022-03-28T10:52:52.778769Z",
     "iopub.status.busy": "2022-03-28T10:52:52.778196Z",
     "iopub.status.idle": "2022-03-28T10:52:52.795166Z",
     "shell.execute_reply": "2022-03-28T10:52:52.795672Z"
    },
    "papermill": {
     "duration": 0.04356,
     "end_time": "2022-03-28T10:52:52.795830",
     "exception": false,
     "start_time": "2022-03-28T10:52:52.752270",
     "status": "completed"
    },
    "tags": []
   },
   "outputs": [],
   "source": [
    "# add_dataset(\n",
    "#     labels=list(range(19)),\n",
    "#     domains = [0,1,2],\n",
    "#     num_examples_per_domain_per_label=100,\n",
    "#     pickle_path=os.path.join(get_datasets_base_path(), \"metehan.stratified_ds.2022A.pkl\"),\n",
    "#     source_or_target_dataset=\"target\",\n",
    "#     x_transform_func=global_x_transform_func,\n",
    "#     domain_modifier=lambda u: f\"met_{u}\"\n",
    "# )"
   ]
  },
  {
   "cell_type": "code",
   "execution_count": 18,
   "id": "86a863c3",
   "metadata": {
    "execution": {
     "iopub.execute_input": "2022-03-28T10:52:52.852810Z",
     "iopub.status.busy": "2022-03-28T10:52:52.852421Z",
     "iopub.status.idle": "2022-03-28T10:52:52.874257Z",
     "shell.execute_reply": "2022-03-28T10:52:52.873127Z"
    },
    "papermill": {
     "duration": 0.048974,
     "end_time": "2022-03-28T10:52:52.874510",
     "exception": false,
     "start_time": "2022-03-28T10:52:52.825536",
     "status": "completed"
    },
    "tags": []
   },
   "outputs": [],
   "source": [
    "# # from steves_utils.wisig.utils import (\n",
    "# #     ALL_NODES_MINIMUM_100_EXAMPLES,\n",
    "# #     ALL_NODES_MINIMUM_500_EXAMPLES,\n",
    "# #     ALL_NODES_MINIMUM_1000_EXAMPLES,\n",
    "# #     ALL_DAYS\n",
    "# # )\n",
    "\n",
    "# import steves_utils.wisig.utils as wisig\n",
    "\n",
    "\n",
    "# add_dataset(\n",
    "#     labels=wisig.ALL_NODES_MINIMUM_100_EXAMPLES,\n",
    "#     domains = wisig.ALL_DAYS,\n",
    "#     num_examples_per_domain_per_label=100,\n",
    "#     pickle_path=os.path.join(get_datasets_base_path(), \"wisig.node3-19.stratified_ds.2022A.pkl\"),\n",
    "#     source_or_target_dataset=\"target\",\n",
    "#     x_transform_func=global_x_transform_func,\n",
    "#     domain_modifier=lambda u: f\"wisig_{u}\"\n",
    "# )"
   ]
  },
  {
   "cell_type": "code",
   "execution_count": 19,
   "id": "fd5442bc",
   "metadata": {
    "execution": {
     "iopub.execute_input": "2022-03-28T10:52:52.938068Z",
     "iopub.status.busy": "2022-03-28T10:52:52.937461Z",
     "iopub.status.idle": "2022-03-28T10:52:52.960105Z",
     "shell.execute_reply": "2022-03-28T10:52:52.958790Z"
    },
    "papermill": {
     "duration": 0.055506,
     "end_time": "2022-03-28T10:52:52.960293",
     "exception": false,
     "start_time": "2022-03-28T10:52:52.904787",
     "status": "completed"
    },
    "tags": []
   },
   "outputs": [],
   "source": [
    "###################################\n",
    "# Build the dataset\n",
    "###################################\n",
    "train_original_source = Iterable_Aggregator(train_original_source, p.seed)\n",
    "val_original_source = Iterable_Aggregator(val_original_source, p.seed)\n",
    "test_original_source = Iterable_Aggregator(test_original_source, p.seed)\n",
    "\n",
    "\n",
    "train_original_target = Iterable_Aggregator(train_original_target, p.seed)\n",
    "val_original_target = Iterable_Aggregator(val_original_target, p.seed)\n",
    "test_original_target = Iterable_Aggregator(test_original_target, p.seed)\n",
    "\n",
    "# For CNN We only use X and Y. And we only train on the source.\n",
    "# Properly form the data using a transform lambda and Lazy_Iterable_Wrapper. Finally wrap them in a dataloader\n",
    "\n",
    "transform_lambda = lambda ex: ex[1] # Original is (<domain>, <episode>) so we strip down to episode only\n",
    "\n",
    "train_processed_source = Lazy_Iterable_Wrapper(train_original_source, transform_lambda)\n",
    "val_processed_source   = Lazy_Iterable_Wrapper(val_original_source, transform_lambda)\n",
    "test_processed_source  = Lazy_Iterable_Wrapper(test_original_source, transform_lambda)\n",
    "\n",
    "train_processed_target = Lazy_Iterable_Wrapper(train_original_target, transform_lambda)\n",
    "val_processed_target   = Lazy_Iterable_Wrapper(val_original_target, transform_lambda)\n",
    "test_processed_target  = Lazy_Iterable_Wrapper(test_original_target, transform_lambda)\n",
    "\n",
    "datasets = EasyDict({\n",
    "    \"source\": {\n",
    "        \"original\": {\"train\":train_original_source, \"val\":val_original_source, \"test\":test_original_source},\n",
    "        \"processed\": {\"train\":train_processed_source, \"val\":val_processed_source, \"test\":test_processed_source}\n",
    "    },\n",
    "    \"target\": {\n",
    "        \"original\": {\"train\":train_original_target, \"val\":val_original_target, \"test\":test_original_target},\n",
    "        \"processed\": {\"train\":train_processed_target, \"val\":val_processed_target, \"test\":test_processed_target}\n",
    "    },\n",
    "})"
   ]
  },
  {
   "cell_type": "code",
   "execution_count": 20,
   "id": "5b3c01fc",
   "metadata": {
    "execution": {
     "iopub.execute_input": "2022-03-28T10:52:53.019378Z",
     "iopub.status.busy": "2022-03-28T10:52:53.018995Z",
     "iopub.status.idle": "2022-03-28T10:53:07.291579Z",
     "shell.execute_reply": "2022-03-28T10:53:07.292574Z"
    },
    "papermill": {
     "duration": 14.302831,
     "end_time": "2022-03-28T10:53:07.292885",
     "exception": false,
     "start_time": "2022-03-28T10:52:52.990054",
     "status": "completed"
    },
    "tags": []
   },
   "outputs": [
    {
     "name": "stdout",
     "output_type": "stream",
     "text": [
      "{'O_32', 'O_50', 'O_8', 'O_44', 'O_26', 'O_20', 'O_14', 'O_38'}\n"
     ]
    },
    {
     "name": "stdout",
     "output_type": "stream",
     "text": [
      "{'C_1', 'C_4', 'C_2', 'C_3', 'C_5'}\n"
     ]
    },
    {
     "name": "stdout",
     "output_type": "stream",
     "text": [
      "tensor([[[0., 0., 0.,  ..., 0., 0., 0.],\n",
      "         [0., 0., 0.,  ..., 0., 0., 0.]],\n",
      "\n",
      "        [[0., 0., 0.,  ..., 0., 0., 0.],\n",
      "         [0., 0., 0.,  ..., 0., 0., 0.]],\n",
      "\n",
      "        [[0., 0., 0.,  ..., 0., 0., 0.],\n",
      "         [0., 0., 0.,  ..., 0., 0., 0.]],\n",
      "\n",
      "        ...,\n",
      "\n",
      "        [[0., 0., 0.,  ..., 0., 0., 0.],\n",
      "         [0., 0., 0.,  ..., 0., 0., 0.]],\n",
      "\n",
      "        [[0., 0., 0.,  ..., 0., 0., 0.],\n",
      "         [0., 0., 0.,  ..., 0., 0., 0.]],\n",
      "\n",
      "        [[0., 0., 0.,  ..., 0., 0., 0.],\n",
      "         [0., 0., 0.,  ..., 0., 0., 0.]]])\n"
     ]
    }
   ],
   "source": [
    "from steves_utils.transforms import get_average_magnitude, get_average_power\n",
    "\n",
    "print(set([u for u,_ in val_original_source]))\n",
    "print(set([u for u,_ in val_original_target]))\n",
    "\n",
    "s_x, s_y, q_x, q_y, _ = next(iter(train_processed_source))\n",
    "print(s_x)\n",
    "\n",
    "# for ds in [\n",
    "#     train_processed_source,\n",
    "#     val_processed_source,\n",
    "#     test_processed_source,\n",
    "#     train_processed_target,\n",
    "#     val_processed_target,\n",
    "#     test_processed_target\n",
    "# ]:\n",
    "#     for s_x, s_y, q_x, q_y, _ in ds:\n",
    "#         for X in (s_x, q_x):\n",
    "#             for x in X:\n",
    "#                 assert np.isclose(get_average_magnitude(x.numpy()), 1.0)\n",
    "#                 assert np.isclose(get_average_power(x.numpy()), 1.0)\n",
    "                "
   ]
  },
  {
   "cell_type": "code",
   "execution_count": 21,
   "id": "bbdacba1",
   "metadata": {
    "execution": {
     "iopub.execute_input": "2022-03-28T10:53:07.354379Z",
     "iopub.status.busy": "2022-03-28T10:53:07.353026Z",
     "iopub.status.idle": "2022-03-28T10:53:07.530282Z",
     "shell.execute_reply": "2022-03-28T10:53:07.530597Z"
    },
    "papermill": {
     "duration": 0.209225,
     "end_time": "2022-03-28T10:53:07.530738",
     "exception": false,
     "start_time": "2022-03-28T10:53:07.321513",
     "status": "completed"
    },
    "tags": []
   },
   "outputs": [
    {
     "name": "stdout",
     "output_type": "stream",
     "text": [
      "(2, 256)\n"
     ]
    }
   ],
   "source": [
    "###################################\n",
    "# Build the model\n",
    "###################################\n",
    "# easfsl only wants a tuple for the shape\n",
    "model = Steves_Prototypical_Network(x_net, device=p.device, x_shape=tuple(p.x_shape))\n",
    "optimizer = Adam(params=model.parameters(), lr=p.lr)"
   ]
  },
  {
   "cell_type": "code",
   "execution_count": 22,
   "id": "22b39ac5",
   "metadata": {
    "execution": {
     "iopub.execute_input": "2022-03-28T10:53:07.586149Z",
     "iopub.status.busy": "2022-03-28T10:53:07.585760Z",
     "iopub.status.idle": "2022-03-28T11:07:59.414479Z",
     "shell.execute_reply": "2022-03-28T11:07:59.414137Z"
    },
    "papermill": {
     "duration": 891.860654,
     "end_time": "2022-03-28T11:07:59.414566",
     "exception": false,
     "start_time": "2022-03-28T10:53:07.553912",
     "status": "completed"
    },
    "tags": []
   },
   "outputs": [
    {
     "name": "stdout",
     "output_type": "stream",
     "text": [
      "epoch: 1, [batch: 1 / 6720], examples_per_second: 32.8616, train_label_loss: 2.7692, \n"
     ]
    },
    {
     "name": "stdout",
     "output_type": "stream",
     "text": [
      "epoch: 1, [batch: 672 / 6720], examples_per_second: 3831.2434, train_label_loss: 2.7795, \n"
     ]
    },
    {
     "name": "stdout",
     "output_type": "stream",
     "text": [
      "epoch: 1, [batch: 1344 / 6720], examples_per_second: 4422.6723, train_label_loss: 2.7712, \n"
     ]
    },
    {
     "name": "stdout",
     "output_type": "stream",
     "text": [
      "epoch: 1, [batch: 2016 / 6720], examples_per_second: 4522.2982, train_label_loss: 2.0506, \n"
     ]
    },
    {
     "name": "stdout",
     "output_type": "stream",
     "text": [
      "epoch: 1, [batch: 2688 / 6720], examples_per_second: 4287.6249, train_label_loss: 1.4931, \n"
     ]
    },
    {
     "name": "stdout",
     "output_type": "stream",
     "text": [
      "epoch: 1, [batch: 3360 / 6720], examples_per_second: 3957.3590, train_label_loss: 1.2103, \n"
     ]
    },
    {
     "name": "stdout",
     "output_type": "stream",
     "text": [
      "epoch: 1, [batch: 4032 / 6720], examples_per_second: 3947.1946, train_label_loss: 1.4602, \n"
     ]
    },
    {
     "name": "stdout",
     "output_type": "stream",
     "text": [
      "epoch: 1, [batch: 4704 / 6720], examples_per_second: 3920.0934, train_label_loss: 2.3752, \n"
     ]
    },
    {
     "name": "stdout",
     "output_type": "stream",
     "text": [
      "epoch: 1, [batch: 5376 / 6720], examples_per_second: 3885.9758, train_label_loss: 1.4626, \n"
     ]
    },
    {
     "name": "stdout",
     "output_type": "stream",
     "text": [
      "epoch: 1, [batch: 6048 / 6720], examples_per_second: 3959.3138, train_label_loss: 0.8951, \n"
     ]
    },
    {
     "name": "stdout",
     "output_type": "stream",
     "text": [
      "=============================================================\n",
      "epoch: 1, source_val_acc_label: 0.6022, target_val_acc_label: 0.8860, source_val_label_loss: 1.0817, target_val_label_loss: 4.1121, \n",
      "=============================================================\n"
     ]
    },
    {
     "name": "stdout",
     "output_type": "stream",
     "text": [
      "New best\n"
     ]
    },
    {
     "name": "stdout",
     "output_type": "stream",
     "text": [
      "epoch: 2, [batch: 1 / 6720], examples_per_second: 3.9127, train_label_loss: 1.6048, \n"
     ]
    },
    {
     "name": "stdout",
     "output_type": "stream",
     "text": [
      "epoch: 2, [batch: 672 / 6720], examples_per_second: 3941.9329, train_label_loss: 1.2726, \n"
     ]
    },
    {
     "name": "stdout",
     "output_type": "stream",
     "text": [
      "epoch: 2, [batch: 1344 / 6720], examples_per_second: 4317.8938, train_label_loss: 1.0327, \n"
     ]
    },
    {
     "name": "stdout",
     "output_type": "stream",
     "text": [
      "epoch: 2, [batch: 2016 / 6720], examples_per_second: 4524.3601, train_label_loss: 0.7414, \n"
     ]
    },
    {
     "name": "stdout",
     "output_type": "stream",
     "text": [
      "epoch: 2, [batch: 2688 / 6720], examples_per_second: 3879.6205, train_label_loss: 0.8419, \n"
     ]
    },
    {
     "name": "stdout",
     "output_type": "stream",
     "text": [
      "epoch: 2, [batch: 3360 / 6720], examples_per_second: 4006.7145, train_label_loss: 0.8672, \n"
     ]
    },
    {
     "name": "stdout",
     "output_type": "stream",
     "text": [
      "epoch: 2, [batch: 4032 / 6720], examples_per_second: 3899.2571, train_label_loss: 0.6137, \n"
     ]
    },
    {
     "name": "stdout",
     "output_type": "stream",
     "text": [
      "epoch: 2, [batch: 4704 / 6720], examples_per_second: 3835.1525, train_label_loss: 1.3353, \n"
     ]
    },
    {
     "name": "stdout",
     "output_type": "stream",
     "text": [
      "epoch: 2, [batch: 5376 / 6720], examples_per_second: 3911.8428, train_label_loss: 0.4163, \n"
     ]
    },
    {
     "name": "stdout",
     "output_type": "stream",
     "text": [
      "epoch: 2, [batch: 6048 / 6720], examples_per_second: 3894.0255, train_label_loss: 0.5344, \n"
     ]
    },
    {
     "name": "stdout",
     "output_type": "stream",
     "text": [
      "=============================================================\n",
      "epoch: 2, source_val_acc_label: 0.6505, target_val_acc_label: 0.9480, source_val_label_loss: 0.9300, target_val_label_loss: 0.8675, \n",
      "=============================================================\n"
     ]
    },
    {
     "name": "stdout",
     "output_type": "stream",
     "text": [
      "New best\n"
     ]
    },
    {
     "name": "stdout",
     "output_type": "stream",
     "text": [
      "epoch: 3, [batch: 1 / 6720], examples_per_second: 4.0018, train_label_loss: 0.5368, \n"
     ]
    },
    {
     "name": "stdout",
     "output_type": "stream",
     "text": [
      "epoch: 3, [batch: 672 / 6720], examples_per_second: 3868.6940, train_label_loss: 1.0425, \n"
     ]
    },
    {
     "name": "stdout",
     "output_type": "stream",
     "text": [
      "epoch: 3, [batch: 1344 / 6720], examples_per_second: 4459.9083, train_label_loss: 0.6654, \n"
     ]
    },
    {
     "name": "stdout",
     "output_type": "stream",
     "text": [
      "epoch: 3, [batch: 2016 / 6720], examples_per_second: 4516.1789, train_label_loss: 0.8094, \n"
     ]
    },
    {
     "name": "stdout",
     "output_type": "stream",
     "text": [
      "epoch: 3, [batch: 2688 / 6720], examples_per_second: 3875.3991, train_label_loss: 1.0183, \n"
     ]
    },
    {
     "name": "stdout",
     "output_type": "stream",
     "text": [
      "epoch: 3, [batch: 3360 / 6720], examples_per_second: 3936.1768, train_label_loss: 0.8961, \n"
     ]
    },
    {
     "name": "stdout",
     "output_type": "stream",
     "text": [
      "epoch: 3, [batch: 4032 / 6720], examples_per_second: 3906.9529, train_label_loss: 1.0829, \n"
     ]
    },
    {
     "name": "stdout",
     "output_type": "stream",
     "text": [
      "epoch: 3, [batch: 4704 / 6720], examples_per_second: 3885.3000, train_label_loss: 0.6995, \n"
     ]
    },
    {
     "name": "stdout",
     "output_type": "stream",
     "text": [
      "epoch: 3, [batch: 5376 / 6720], examples_per_second: 3959.6135, train_label_loss: 0.8584, \n"
     ]
    },
    {
     "name": "stdout",
     "output_type": "stream",
     "text": [
      "epoch: 3, [batch: 6048 / 6720], examples_per_second: 3911.1072, train_label_loss: 0.6558, \n"
     ]
    },
    {
     "name": "stdout",
     "output_type": "stream",
     "text": [
      "=============================================================\n",
      "epoch: 3, source_val_acc_label: 0.6475, target_val_acc_label: 0.9405, source_val_label_loss: 0.9267, target_val_label_loss: 1.1372, \n",
      "=============================================================\n"
     ]
    },
    {
     "name": "stdout",
     "output_type": "stream",
     "text": [
      "epoch: 4, [batch: 1 / 6720], examples_per_second: 4.0092, train_label_loss: 0.9119, \n"
     ]
    },
    {
     "name": "stdout",
     "output_type": "stream",
     "text": [
      "epoch: 4, [batch: 672 / 6720], examples_per_second: 4042.1414, train_label_loss: 0.5501, \n"
     ]
    },
    {
     "name": "stdout",
     "output_type": "stream",
     "text": [
      "epoch: 4, [batch: 1344 / 6720], examples_per_second: 4292.4107, train_label_loss: 0.6609, \n"
     ]
    },
    {
     "name": "stdout",
     "output_type": "stream",
     "text": [
      "epoch: 4, [batch: 2016 / 6720], examples_per_second: 4301.5122, train_label_loss: 0.6835, \n"
     ]
    },
    {
     "name": "stdout",
     "output_type": "stream",
     "text": [
      "epoch: 4, [batch: 2688 / 6720], examples_per_second: 4267.8630, train_label_loss: 0.7288, \n"
     ]
    },
    {
     "name": "stdout",
     "output_type": "stream",
     "text": [
      "epoch: 4, [batch: 3360 / 6720], examples_per_second: 4240.9724, train_label_loss: 0.7493, \n"
     ]
    },
    {
     "name": "stdout",
     "output_type": "stream",
     "text": [
      "epoch: 4, [batch: 4032 / 6720], examples_per_second: 4311.8939, train_label_loss: 0.8361, \n"
     ]
    },
    {
     "name": "stdout",
     "output_type": "stream",
     "text": [
      "epoch: 4, [batch: 4704 / 6720], examples_per_second: 4129.1778, train_label_loss: 1.0274, \n"
     ]
    },
    {
     "name": "stdout",
     "output_type": "stream",
     "text": [
      "epoch: 4, [batch: 5376 / 6720], examples_per_second: 4217.2712, train_label_loss: 0.8173, \n"
     ]
    },
    {
     "name": "stdout",
     "output_type": "stream",
     "text": [
      "epoch: 4, [batch: 6048 / 6720], examples_per_second: 4447.6510, train_label_loss: 0.9338, \n"
     ]
    },
    {
     "name": "stdout",
     "output_type": "stream",
     "text": [
      "=============================================================\n",
      "epoch: 4, source_val_acc_label: 0.6884, target_val_acc_label: 0.9373, source_val_label_loss: 0.8282, target_val_label_loss: 1.2843, \n",
      "=============================================================\n"
     ]
    },
    {
     "name": "stdout",
     "output_type": "stream",
     "text": [
      "epoch: 5, [batch: 1 / 6720], examples_per_second: 5.2765, train_label_loss: 1.3277, \n"
     ]
    },
    {
     "name": "stdout",
     "output_type": "stream",
     "text": [
      "epoch: 5, [batch: 672 / 6720], examples_per_second: 4814.5219, train_label_loss: 0.7052, \n"
     ]
    },
    {
     "name": "stdout",
     "output_type": "stream",
     "text": [
      "epoch: 5, [batch: 1344 / 6720], examples_per_second: 5139.9338, train_label_loss: 0.6585, \n"
     ]
    },
    {
     "name": "stdout",
     "output_type": "stream",
     "text": [
      "epoch: 5, [batch: 2016 / 6720], examples_per_second: 5376.4130, train_label_loss: 0.6003, \n"
     ]
    },
    {
     "name": "stdout",
     "output_type": "stream",
     "text": [
      "epoch: 5, [batch: 2688 / 6720], examples_per_second: 5136.1066, train_label_loss: 0.6508, \n"
     ]
    },
    {
     "name": "stdout",
     "output_type": "stream",
     "text": [
      "epoch: 5, [batch: 3360 / 6720], examples_per_second: 5336.4850, train_label_loss: 0.6923, \n"
     ]
    },
    {
     "name": "stdout",
     "output_type": "stream",
     "text": [
      "epoch: 5, [batch: 4032 / 6720], examples_per_second: 5174.9093, train_label_loss: 0.8564, \n"
     ]
    },
    {
     "name": "stdout",
     "output_type": "stream",
     "text": [
      "epoch: 5, [batch: 4704 / 6720], examples_per_second: 5223.3467, train_label_loss: 1.0011, \n"
     ]
    },
    {
     "name": "stdout",
     "output_type": "stream",
     "text": [
      "epoch: 5, [batch: 5376 / 6720], examples_per_second: 5203.8374, train_label_loss: 0.5782, \n"
     ]
    },
    {
     "name": "stdout",
     "output_type": "stream",
     "text": [
      "epoch: 5, [batch: 6048 / 6720], examples_per_second: 5249.5905, train_label_loss: 0.4941, \n"
     ]
    },
    {
     "name": "stdout",
     "output_type": "stream",
     "text": [
      "=============================================================\n",
      "epoch: 5, source_val_acc_label: 0.6951, target_val_acc_label: 0.8981, source_val_label_loss: 0.8037, target_val_label_loss: 5.6653, \n",
      "=============================================================\n"
     ]
    },
    {
     "name": "stdout",
     "output_type": "stream",
     "text": [
      "epoch: 6, [batch: 1 / 6720], examples_per_second: 5.3554, train_label_loss: 0.5829, \n"
     ]
    },
    {
     "name": "stdout",
     "output_type": "stream",
     "text": [
      "epoch: 6, [batch: 672 / 6720], examples_per_second: 5108.4078, train_label_loss: 0.9465, \n"
     ]
    },
    {
     "name": "stdout",
     "output_type": "stream",
     "text": [
      "epoch: 6, [batch: 1344 / 6720], examples_per_second: 5197.9243, train_label_loss: 0.6375, \n"
     ]
    },
    {
     "name": "stdout",
     "output_type": "stream",
     "text": [
      "epoch: 6, [batch: 2016 / 6720], examples_per_second: 5272.2899, train_label_loss: 0.9021, \n"
     ]
    },
    {
     "name": "stdout",
     "output_type": "stream",
     "text": [
      "epoch: 6, [batch: 2688 / 6720], examples_per_second: 5201.5013, train_label_loss: 0.4914, \n"
     ]
    },
    {
     "name": "stdout",
     "output_type": "stream",
     "text": [
      "epoch: 6, [batch: 3360 / 6720], examples_per_second: 5036.6076, train_label_loss: 0.7204, \n"
     ]
    },
    {
     "name": "stdout",
     "output_type": "stream",
     "text": [
      "epoch: 6, [batch: 4032 / 6720], examples_per_second: 4994.4429, train_label_loss: 0.5666, \n"
     ]
    },
    {
     "name": "stdout",
     "output_type": "stream",
     "text": [
      "epoch: 6, [batch: 4704 / 6720], examples_per_second: 4058.3746, train_label_loss: 0.8616, \n"
     ]
    },
    {
     "name": "stdout",
     "output_type": "stream",
     "text": [
      "epoch: 6, [batch: 5376 / 6720], examples_per_second: 3878.8113, train_label_loss: 0.8192, \n"
     ]
    },
    {
     "name": "stdout",
     "output_type": "stream",
     "text": [
      "epoch: 6, [batch: 6048 / 6720], examples_per_second: 3887.1091, train_label_loss: 0.4805, \n"
     ]
    },
    {
     "name": "stdout",
     "output_type": "stream",
     "text": [
      "=============================================================\n",
      "epoch: 6, source_val_acc_label: 0.6867, target_val_acc_label: 0.8912, source_val_label_loss: 0.8291, target_val_label_loss: 8.7264, \n",
      "=============================================================\n"
     ]
    },
    {
     "name": "stdout",
     "output_type": "stream",
     "text": [
      "Patience (3) exhausted\n"
     ]
    }
   ],
   "source": [
    "###################################\n",
    "# train\n",
    "###################################\n",
    "jig = PTN_Train_Eval_Test_Jig(model, p.BEST_MODEL_PATH, p.device)\n",
    "\n",
    "jig.train(\n",
    "    train_iterable=datasets.source.processed.train,\n",
    "    source_val_iterable=datasets.source.processed.val,\n",
    "    target_val_iterable=datasets.target.processed.val,\n",
    "    num_epochs=p.n_epoch,\n",
    "    num_logs_per_epoch=p.NUM_LOGS_PER_EPOCH,\n",
    "    patience=p.patience,\n",
    "    optimizer=optimizer,\n",
    "    criteria_for_best=p.criteria_for_best,\n",
    ")"
   ]
  },
  {
   "cell_type": "code",
   "execution_count": 23,
   "id": "31e8fabf",
   "metadata": {
    "execution": {
     "iopub.execute_input": "2022-03-28T11:07:59.498878Z",
     "iopub.status.busy": "2022-03-28T11:07:59.498331Z",
     "iopub.status.idle": "2022-03-28T11:07:59.531224Z",
     "shell.execute_reply": "2022-03-28T11:07:59.530479Z"
    },
    "papermill": {
     "duration": 0.077509,
     "end_time": "2022-03-28T11:07:59.531379",
     "exception": false,
     "start_time": "2022-03-28T11:07:59.453870",
     "status": "completed"
    },
    "tags": []
   },
   "outputs": [],
   "source": [
    "total_experiment_time_secs = time.time() - start_time_secs"
   ]
  },
  {
   "cell_type": "code",
   "execution_count": 24,
   "id": "87b9595b",
   "metadata": {
    "execution": {
     "iopub.execute_input": "2022-03-28T11:07:59.622550Z",
     "iopub.status.busy": "2022-03-28T11:07:59.621958Z",
     "iopub.status.idle": "2022-03-28T11:10:44.368791Z",
     "shell.execute_reply": "2022-03-28T11:10:44.367913Z"
    },
    "papermill": {
     "duration": 164.793302,
     "end_time": "2022-03-28T11:10:44.368974",
     "exception": false,
     "start_time": "2022-03-28T11:07:59.575672",
     "status": "completed"
    },
    "tags": []
   },
   "outputs": [],
   "source": [
    "###################################\n",
    "# Evaluate the model\n",
    "###################################\n",
    "source_test_label_accuracy, source_test_label_loss = jig.test(datasets.source.processed.test)\n",
    "target_test_label_accuracy, target_test_label_loss = jig.test(datasets.target.processed.test)\n",
    "\n",
    "source_val_label_accuracy, source_val_label_loss = jig.test(datasets.source.processed.val)\n",
    "target_val_label_accuracy, target_val_label_loss = jig.test(datasets.target.processed.val)\n",
    "\n",
    "history = jig.get_history()\n",
    "\n",
    "total_epochs_trained = len(history[\"epoch_indices\"])\n",
    "\n",
    "val_dl = Iterable_Aggregator((datasets.source.original.val,datasets.target.original.val))\n",
    "\n",
    "confusion = ptn_confusion_by_domain_over_dataloader(model, p.device, val_dl)\n",
    "per_domain_accuracy = per_domain_accuracy_from_confusion(confusion)\n",
    "\n",
    "# Add a key to per_domain_accuracy for if it was a source domain\n",
    "for domain, accuracy in per_domain_accuracy.items():\n",
    "    per_domain_accuracy[domain] = {\n",
    "        \"accuracy\": accuracy,\n",
    "        \"source?\": domain in p.domains_source\n",
    "    }\n",
    "\n",
    "# Do an independent accuracy assesment JUST TO BE SURE!\n",
    "# _source_test_label_accuracy = independent_accuracy_assesment(model, datasets.source.processed.test, p.device)\n",
    "# _target_test_label_accuracy = independent_accuracy_assesment(model, datasets.target.processed.test, p.device)\n",
    "# _source_val_label_accuracy = independent_accuracy_assesment(model, datasets.source.processed.val, p.device)\n",
    "# _target_val_label_accuracy = independent_accuracy_assesment(model, datasets.target.processed.val, p.device)\n",
    "\n",
    "# assert(_source_test_label_accuracy == source_test_label_accuracy)\n",
    "# assert(_target_test_label_accuracy == target_test_label_accuracy)\n",
    "# assert(_source_val_label_accuracy == source_val_label_accuracy)\n",
    "# assert(_target_val_label_accuracy == target_val_label_accuracy)\n",
    "\n",
    "experiment = {\n",
    "    \"experiment_name\": p.experiment_name,\n",
    "    \"parameters\": dict(p),\n",
    "    \"results\": {\n",
    "        \"source_test_label_accuracy\": source_test_label_accuracy,\n",
    "        \"source_test_label_loss\": source_test_label_loss,\n",
    "        \"target_test_label_accuracy\": target_test_label_accuracy,\n",
    "        \"target_test_label_loss\": target_test_label_loss,\n",
    "        \"source_val_label_accuracy\": source_val_label_accuracy,\n",
    "        \"source_val_label_loss\": source_val_label_loss,\n",
    "        \"target_val_label_accuracy\": target_val_label_accuracy,\n",
    "        \"target_val_label_loss\": target_val_label_loss,\n",
    "        \"total_epochs_trained\": total_epochs_trained,\n",
    "        \"total_experiment_time_secs\": total_experiment_time_secs,\n",
    "        \"confusion\": confusion,\n",
    "        \"per_domain_accuracy\": per_domain_accuracy,\n",
    "    },\n",
    "    \"history\": history,\n",
    "    \"dataset_metrics\": get_dataset_metrics(datasets, \"ptn\"),\n",
    "}"
   ]
  },
  {
   "cell_type": "code",
   "execution_count": 25,
   "id": "54a21829",
   "metadata": {
    "execution": {
     "iopub.execute_input": "2022-03-28T11:10:44.461157Z",
     "iopub.status.busy": "2022-03-28T11:10:44.460670Z",
     "iopub.status.idle": "2022-03-28T11:10:44.686516Z",
     "shell.execute_reply": "2022-03-28T11:10:44.685827Z"
    },
    "papermill": {
     "duration": 0.27014,
     "end_time": "2022-03-28T11:10:44.686681",
     "exception": false,
     "start_time": "2022-03-28T11:10:44.416541",
     "status": "completed"
    },
    "tags": []
   },
   "outputs": [
    {
     "data": {
      "image/png": "[encoded data removed]",
      "text/plain": [
       "<Figure size 1080x504 with 1 Axes>"
      ]
     },
     "metadata": {
      "needs_background": "light"
     },
     "output_type": "display_data"
    }
   ],
   "source": [
    "ax = get_loss_curve(experiment)\n",
    "plt.show()"
   ]
  },
  {
   "cell_type": "code",
   "execution_count": 26,
   "id": "fd8a0f60",
   "metadata": {
    "execution": {
     "iopub.execute_input": "2022-03-28T11:10:44.778662Z",
     "iopub.status.busy": "2022-03-28T11:10:44.778296Z",
     "iopub.status.idle": "2022-03-28T11:10:45.082908Z",
     "shell.execute_reply": "2022-03-28T11:10:45.082542Z"
    },
    "papermill": {
     "duration": 0.349483,
     "end_time": "2022-03-28T11:10:45.082981",
     "exception": false,
     "start_time": "2022-03-28T11:10:44.733498",
     "status": "completed"
    },
    "tags": []
   },
   "outputs": [
    {
     "data": {
      "text/plain": [
       "<AxesSubplot:title={'center':'Results'}>"
      ]
     },
     "execution_count": 26,
     "metadata": {},
     "output_type": "execute_result"
    },
    {
     "data": {
      "image/png": "[encoded data removed]",
      "text/plain": [
       "<Figure size 1080x504 with 1 Axes>"
      ]
     },
     "metadata": {
      "needs_background": "light"
     },
     "output_type": "display_data"
    }
   ],
   "source": [
    "get_results_table(experiment)"
   ]
  },
  {
   "cell_type": "code",
   "execution_count": 27,
   "id": "cf8dc689",
   "metadata": {
    "execution": {
     "iopub.execute_input": "2022-03-28T11:10:45.172530Z",
     "iopub.status.busy": "2022-03-28T11:10:45.172165Z",
     "iopub.status.idle": "2022-03-28T11:10:45.412918Z",
     "shell.execute_reply": "2022-03-28T11:10:45.412208Z"
    },
    "papermill": {
     "duration": 0.286906,
     "end_time": "2022-03-28T11:10:45.413100",
     "exception": false,
     "start_time": "2022-03-28T11:10:45.126194",
     "status": "completed"
    },
    "tags": []
   },
   "outputs": [
    {
     "data": {
      "text/plain": [
       "<AxesSubplot:title={'center':'Per Domain Validation Accuracy'}, xlabel='domain'>"
      ]
     },
     "execution_count": 27,
     "metadata": {},
     "output_type": "execute_result"
    },
    {
     "data": {
      "image/png": "[encoded data removed]",
      "text/plain": [
       "<Figure size 1080x504 with 1 Axes>"
      ]
     },
     "metadata": {
      "needs_background": "light"
     },
     "output_type": "display_data"
    }
   ],
   "source": [
    "get_domain_accuracies(experiment)"
   ]
  },
  {
   "cell_type": "code",
   "execution_count": 28,
   "id": "a74ae082",
   "metadata": {
    "execution": {
     "iopub.execute_input": "2022-03-28T11:10:45.513720Z",
     "iopub.status.busy": "2022-03-28T11:10:45.513152Z",
     "iopub.status.idle": "2022-03-28T11:10:45.540907Z",
     "shell.execute_reply": "2022-03-28T11:10:45.540094Z"
    },
    "papermill": {
     "duration": 0.076449,
     "end_time": "2022-03-28T11:10:45.541064",
     "exception": false,
     "start_time": "2022-03-28T11:10:45.464615",
     "status": "completed"
    },
    "tags": []
   },
   "outputs": [
    {
     "name": "stdout",
     "output_type": "stream",
     "text": [
      "Source Test Label Accuracy: 0.6508138020833333 Target Test Label Accuracy: 0.947316384180791\n",
      "Source Val Label Accuracy: 0.65048828125 Target Val Label Accuracy: 0.9479642857142857\n"
     ]
    }
   ],
   "source": [
    "print(\"Source Test Label Accuracy:\", experiment[\"results\"][\"source_test_label_accuracy\"], \"Target Test Label Accuracy:\", experiment[\"results\"][\"target_test_label_accuracy\"])\n",
    "print(\"Source Val Label Accuracy:\", experiment[\"results\"][\"source_val_label_accuracy\"], \"Target Val Label Accuracy:\", experiment[\"results\"][\"target_val_label_accuracy\"])"
   ]
  },
  {
   "cell_type": "code",
   "execution_count": 29,
   "id": "dacca602",
   "metadata": {
    "execution": {
     "iopub.execute_input": "2022-03-28T11:10:45.639997Z",
     "iopub.status.busy": "2022-03-28T11:10:45.639522Z",
     "iopub.status.idle": "2022-03-28T11:10:45.663664Z",
     "shell.execute_reply": "2022-03-28T11:10:45.664352Z"
    },
    "papermill": {
     "duration": 0.072766,
     "end_time": "2022-03-28T11:10:45.664536",
     "exception": false,
     "start_time": "2022-03-28T11:10:45.591770",
     "status": "completed"
    },
    "tags": [
     "experiment_json"
    ]
   },
   "outputs": [
    {
     "data": {
      "text/plain": [
       "'{\"experiment_name\": \"tl_3-jitter10v2:oracle.run1.framed -> cores\", \"parameters\": {\"experiment_name\": \"tl_3-jitter10v2:oracle.run1.framed -> cores\", \"device\": \"cuda\", \"lr\": 0.0001, \"x_shape\": [2, 256], \"n_shot\": 3, \"n_query\": 2, \"train_k_factor\": 3, \"val_k_factor\": 2, \"test_k_factor\": 2, \"torch_default_dtype\": \"torch.float32\", \"n_epoch\": 50, \"patience\": 3, \"criteria_for_best\": \"target_accuracy\", \"x_net\": [{\"class\": \"nnReshape\", \"kargs\": {\"shape\": [-1, 1, 2, 256]}}, {\"class\": \"Conv2d\", \"kargs\": {\"in_channels\": 1, \"out_channels\": 256, \"kernel_size\": [1, 7], \"bias\": false, \"padding\": [0, 3]}}, {\"class\": \"ReLU\", \"kargs\": {\"inplace\": true}}, {\"class\": \"BatchNorm2d\", \"kargs\": {\"num_features\": 256}}, {\"class\": \"Conv2d\", \"kargs\": {\"in_channels\": 256, \"out_channels\": 80, \"kernel_size\": [2, 7], \"bias\": true, \"padding\": [0, 3]}}, {\"class\": \"ReLU\", \"kargs\": {\"inplace\": true}}, {\"class\": \"BatchNorm2d\", \"kargs\": {\"num_features\": 80}}, {\"class\": \"Flatten\", \"kargs\": {}}, {\"class\": \"Linear\", \"kargs\": {\"in_features\": 20480, \"out_features\": 256}}, {\"class\": \"ReLU\", \"kargs\": {\"inplace\": true}}, {\"class\": \"BatchNorm1d\", \"kargs\": {\"num_features\": 256}}, {\"class\": \"Linear\", \"kargs\": {\"in_features\": 256, \"out_features\": 256}}], \"NUM_LOGS_PER_EPOCH\": 10, \"BEST_MODEL_PATH\": \"./best_model.pth\", \"n_way\": 16, \"datasets\": [{\"labels\": [\"1-10.\", \"1-11.\", \"1-15.\", \"1-16.\", \"1-17.\", \"1-18.\", \"1-19.\", \"10-4.\", \"10-7.\", \"11-1.\", \"11-14.\", \"11-17.\", \"11-20.\", \"11-7.\", \"13-20.\", \"13-8.\", \"14-10.\", \"14-11.\", \"14-14.\", \"14-7.\", \"15-1.\", \"15-20.\", \"16-1.\", \"16-16.\", \"17-10.\", \"17-11.\", \"17-2.\", \"19-1.\", \"19-16.\", \"19-19.\", \"19-20.\", \"19-3.\", \"2-10.\", \"2-11.\", \"2-17.\", \"2-18.\", \"2-20.\", \"2-3.\", \"2-4.\", \"2-5.\", \"2-6.\", \"2-7.\", \"2-8.\", \"3-13.\", \"3-18.\", \"3-3.\", \"4-1.\", \"4-10.\", \"4-11.\", \"4-19.\", \"5-5.\", \"6-15.\", \"7-10.\", \"7-14.\", \"8-18.\", \"8-20.\", \"8-3.\", \"8-8.\"], \"domains\": [1, 2, 3, 4, 5], \"num_examples_per_domain_per_label\": -1, \"pickle_path\": \"/root/csc500-main/datasets/cores.stratified_ds.2022A.pkl\", \"source_or_target_dataset\": \"target\", \"x_transforms\": [\"unit_power\", \"jitter_256_10\", \"lowpass_+/-10MHz\", \"take_200\"], \"episode_transforms\": [], \"domain_prefix\": \"C_\"}, {\"labels\": [\"3123D52\", \"3123D65\", \"3123D79\", \"3123D80\", \"3123D54\", \"3123D70\", \"3123D7B\", \"3123D89\", \"3123D58\", \"3123D76\", \"3123D7D\", \"3123EFE\", \"3123D64\", \"3123D78\", \"3123D7E\", \"3124E4A\"], \"domains\": [32, 38, 8, 44, 14, 50, 20, 26], \"num_examples_per_domain_per_label\": 2000, \"pickle_path\": \"/root/csc500-main/datasets/oracle.Run1_framed_2000Examples_stratified_ds.2022A.pkl\", \"source_or_target_dataset\": \"source\", \"x_transforms\": [\"unit_power\", \"jitter_256_10\", \"take_200\", \"resample_20Msps_to_25Msps\"], \"episode_transforms\": [], \"domain_prefix\": \"O_\"}], \"seed\": 7, \"dataset_seed\": 7, \"domains_source\": [\"O_32\", \"O_38\", \"O_8\", \"O_44\", \"O_14\", \"O_50\", \"O_20\", \"O_26\"], \"domains_target\": [\"C_1\", \"C_2\", \"C_3\", \"C_4\", \"C_5\"]}, \"results\": {\"source_test_label_accuracy\": 0.6508138020833333, \"source_test_label_loss\": 0.9184431433677673, \"target_test_label_accuracy\": 0.947316384180791, \"target_test_label_loss\": 1.0924363136291504, \"source_val_label_accuracy\": 0.65048828125, \"source_val_label_loss\": 0.9300156235694885, \"target_val_label_accuracy\": 0.9479642857142857, \"target_val_label_loss\": 0.8674631714820862, \"total_epochs_trained\": 6, \"total_experiment_time_secs\": 1019.7374818325043, \"confusion\": {\"O_26\": {\"0\": {\"1\": 20, \"10\": 45, \"8\": 29, \"4\": 39, \"0\": 52, \"7\": 6, \"14\": 45, \"6\": 2, \"9\": 2}, \"4\": {\"4\": 84, \"10\": 7, \"0\": 45, \"14\": 42, \"7\": 9, \"8\": 13, \"1\": 39, \"15\": 1}, \"14\": {\"0\": 49, \"1\": 54, \"4\": 45, \"8\": 2, \"10\": 22, \"14\": 66, \"7\": 2}, \"12\": {\"12\": 238, \"11\": 2}, \"8\": {\"2\": 2, \"8\": 79, \"15\": 16, \"4\": 26, \"0\": 22, \"10\": 33, \"14\": 15, \"7\": 18, \"9\": 15, \"6\": 11, \"1\": 3}, \"7\": {\"7\": 151, \"2\": 19, \"3\": 23, \"4\": 15, \"8\": 13, \"1\": 6, \"15\": 2, \"10\": 2, \"14\": 4, \"5\": 1, \"9\": 2, \"0\": 2}, \"13\": {\"13\": 161, \"5\": 52, \"6\": 5, \"15\": 12, \"9\": 5, \"2\": 5}, \"5\": {\"15\": 37, \"5\": 123, \"13\": 37, \"8\": 2, \"2\": 14, \"9\": 25, \"6\": 1, \"3\": 1}, \"15\": {\"5\": 37, \"15\": 80, \"13\": 10, \"8\": 21, \"7\": 6, \"9\": 68, \"2\": 8, \"6\": 5, \"10\": 2, \"14\": 1, \"4\": 1, \"0\": 1}, \"10\": {\"14\": 17, \"0\": 50, \"10\": 94, \"8\": 36, \"4\": 18, \"9\": 7, \"6\": 15, \"15\": 1, \"1\": 2}, \"3\": {\"3\": 151, \"2\": 57, \"7\": 30, \"5\": 1, \"8\": 1}, \"9\": {\"9\": 98, \"5\": 17, \"15\": 69, \"8\": 19, \"13\": 6, \"6\": 23, \"10\": 1, \"2\": 4, \"7\": 2, \"0\": 1}, \"6\": {\"6\": 160, \"0\": 8, \"15\": 6, \"8\": 13, \"10\": 27, \"9\": 23, \"14\": 1, \"13\": 1, \"5\": 1}, \"1\": {\"4\": 64, \"14\": 50, \"1\": 92, \"0\": 18, \"8\": 5, \"7\": 8, \"10\": 2, \"3\": 1}, \"11\": {\"11\": 237, \"12\": 3}, \"2\": {\"15\": 12, \"13\": 2, \"2\": 83, \"7\": 27, \"3\": 79, \"5\": 29, \"9\": 4, \"8\": 4}}, \"O_44\": {\"1\": {\"1\": 121, \"12\": 46, \"3\": 31, \"10\": 28, \"7\": 1, \"2\": 13}, \"11\": {\"11\": 171, \"13\": 42, \"6\": 27}, \"3\": {\"3\": 211, \"1\": 28, \"12\": 1}, \"6\": {\"6\": 155, \"9\": 20, \"13\": 32, \"7\": 12, \"11\": 21}, \"7\": {\"7\": 161, \"6\": 8, \"2\": 41, \"9\": 29, \"1\": 1}, \"5\": {\"5\": 192, \"0\": 20, \"8\": 8, \"15\": 8, \"14\": 12}, \"2\": {\"2\": 175, \"7\": 30, \"10\": 20, \"1\": 11, \"9\": 2, \"3\": 2}, \"15\": {\"15\": 165, \"14\": 35, \"0\": 14, \"8\": 9, \"5\": 16, \"4\": 1}, \"10\": {\"10\": 160, \"1\": 33, \"2\": 20, \"12\": 27}, \"13\": {\"11\": 36, \"13\": 131, \"9\": 29, \"6\": 35, \"4\": 6, \"7\": 3}, \"8\": {\"0\": 93, \"8\": 132, \"15\": 14, \"5\": 1}, \"4\": {\"14\": 61, \"4\": 175, \"15\": 3, \"5\": 1}, \"9\": {\"11\": 2, \"9\": 124, \"13\": 26, \"7\": 64, \"6\": 22, \"2\": 2}, \"14\": {\"4\": 87, \"14\": 120, \"5\": 10, \"15\": 22, \"0\": 1}, \"0\": {\"0\": 141, \"15\": 7, \"8\": 76, \"5\": 16}, \"12\": {\"10\": 18, \"12\": 176, \"1\": 46}}, \"O_50\": {\"15\": {\"15\": 159, \"4\": 30, \"1\": 42, \"11\": 7, \"5\": 1, \"6\": 1}, \"4\": {\"4\": 63, \"6\": 31, \"5\": 19, \"15\": 65, \"1\": 53, \"2\": 1, \"7\": 6, \"13\": 2}, \"6\": {\"6\": 109, \"5\": 43, \"15\": 2, \"13\": 22, \"7\": 3, \"1\": 23, \"4\": 32, \"0\": 5, \"10\": 1}, \"2\": {\"2\": 214, \"0\": 24, \"6\": 1, \"4\": 1}, \"5\": {\"7\": 53, \"13\": 37, \"5\": 63, \"6\": 54, \"10\": 4, \"4\": 23, \"1\": 6}, \"9\": {\"11\": 33, \"9\": 188, \"12\": 19}, \"8\": {\"8\": 227, \"10\": 5, \"3\": 8}, \"12\": {\"12\": 208, \"9\": 21, \"14\": 8, \"11\": 3}, \"10\": {\"0\": 8, \"10\": 205, \"8\": 11, \"7\": 9, \"5\": 1, \"13\": 6}, \"1\": {\"4\": 41, \"5\": 4, \"1\": 130, \"6\": 22, \"15\": 40, \"2\": 2, \"11\": 1}, \"0\": {\"0\": 203, \"2\": 23, \"10\": 10, \"13\": 4}, \"3\": {\"3\": 234, \"8\": 6}, \"13\": {\"13\": 108, \"7\": 61, \"5\": 47, \"6\": 14, \"4\": 2, \"10\": 7, \"0\": 1}, \"11\": {\"11\": 207, \"9\": 19, \"4\": 1, \"15\": 8, \"14\": 5}, \"7\": {\"7\": 148, \"13\": 48, \"5\": 34, \"10\": 10}, \"14\": {\"14\": 228, \"12\": 8, \"11\": 2, \"9\": 1, \"15\": 1}}, \"O_38\": {\"15\": {\"8\": 14, \"15\": 115, \"13\": 78, \"1\": 16, \"10\": 13, \"2\": 1, \"5\": 1, \"0\": 2}, \"11\": {\"11\": 160, \"14\": 73, \"12\": 6, \"2\": 1}, \"10\": {\"10\": 160, \"13\": 13, \"14\": 5, \"8\": 17, \"0\": 8, \"12\": 19, \"15\": 15, \"5\": 1, \"2\": 1, \"11\": 1}, \"14\": {\"11\": 83, \"14\": 137, \"2\": 17, \"10\": 2, \"13\": 1}, \"6\": {\"6\": 161, \"5\": 8, \"9\": 69, \"0\": 1, \"3\": 1}, \"4\": {\"4\": 214, \"12\": 26}, \"13\": {\"13\": 105, \"15\": 90, \"10\": 22, \"8\": 6, \"1\": 8, \"2\": 9}, \"3\": {\"9\": 38, \"3\": 179, \"5\": 6, \"6\": 7, \"0\": 3, \"7\": 7}, \"7\": {\"0\": 52, \"7\": 164, \"8\": 7, \"5\": 15, \"3\": 2}, \"8\": {\"0\": 37, \"8\": 147, \"7\": 7, \"5\": 38, \"10\": 4, \"15\": 5, \"13\": 2}, \"1\": {\"1\": 218, \"13\": 2, \"15\": 18, \"8\": 2}, \"5\": {\"5\": 77, \"8\": 68, \"1\": 9, \"7\": 21, \"0\": 40, \"15\": 6, \"10\": 2, \"13\": 3, \"3\": 8, \"6\": 4, \"9\": 2}, \"0\": {\"7\": 64, \"3\": 11, \"8\": 66, \"5\": 37, \"10\": 5, \"15\": 3, \"0\": 52, \"13\": 1, \"9\": 1}, \"2\": {\"2\": 212, \"14\": 25, \"13\": 2, \"11\": 1}, \"12\": {\"12\": 212, \"10\": 14, \"4\": 11, \"11\": 2, \"14\": 1}, \"9\": {\"9\": 128, \"3\": 26, \"6\": 83, \"5\": 2, \"7\": 1}}, \"O_20\": {\"10\": {\"8\": 26, \"10\": 153, \"14\": 58, \"4\": 3}, \"7\": {\"7\": 153, \"9\": 29, \"3\": 12, \"2\": 31, \"6\": 4, \"8\": 11}, \"4\": {\"4\": 186, \"8\": 36, \"10\": 4, \"3\": 8, \"12\": 4, \"0\": 1, \"5\": 1}, \"13\": {\"13\": 213, \"2\": 9, \"12\": 1, \"9\": 7, \"15\": 8, \"1\": 1, \"7\": 1}, \"1\": {\"15\": 47, \"12\": 28, \"1\": 74, \"0\": 45, \"5\": 39, \"3\": 4, \"13\": 1, \"9\": 2}, \"0\": {\"15\": 43, \"5\": 54, \"0\": 67, \"12\": 24, \"1\": 42, \"3\": 7, \"9\": 2, \"8\": 1}, \"12\": {\"5\": 34, \"9\": 28, \"12\": 83, \"0\": 11, \"3\": 48, \"13\": 4, \"1\": 20, \"15\": 3, \"2\": 8, \"4\": 1}, \"5\": {\"0\": 43, \"1\": 42, \"5\": 97, \"15\": 9, \"12\": 39, \"3\": 8, \"9\": 1, \"4\": 1}, \"6\": {\"6\": 206, \"14\": 27, \"8\": 3, \"10\": 3, \"7\": 1}, \"2\": {\"12\": 15, \"7\": 38, \"8\": 2, \"9\": 57, \"2\": 89, \"13\": 15, \"1\": 6, \"15\": 4, \"3\": 14}, \"8\": {\"4\": 39, \"8\": 140, \"3\": 9, \"10\": 36, \"14\": 3, \"7\": 11, \"6\": 1, \"2\": 1}, \"11\": {\"11\": 240}, \"9\": {\"2\": 72, \"12\": 23, \"7\": 23, \"9\": 84, \"3\": 29, \"8\": 2, \"13\": 4, \"0\": 1, \"1\": 1, \"15\": 1}, \"14\": {\"14\": 167, \"10\": 42, \"6\": 28, \"8\": 3}, \"15\": {\"15\": 141, \"0\": 33, \"5\": 15, \"13\": 9, \"12\": 4, \"1\": 37, \"2\": 1}, \"3\": {\"3\": 93, \"4\": 18, \"0\": 4, \"12\": 43, \"8\": 17, \"7\": 15, \"9\": 21, \"2\": 12, \"5\": 11, \"1\": 6}}, \"O_14\": {\"14\": {\"14\": 173, \"2\": 9, \"6\": 14, \"13\": 42, \"3\": 2}, \"0\": {\"10\": 73, \"0\": 155, \"3\": 6, \"11\": 6}, \"4\": {\"5\": 40, \"4\": 165, \"2\": 6, \"1\": 8, \"3\": 21}, \"11\": {\"11\": 200, \"9\": 16, \"10\": 19, \"0\": 5}, \"13\": {\"6\": 83, \"13\": 59, \"14\": 68, \"2\": 19, \"3\": 1, \"5\": 9, \"10\": 1}, \"9\": {\"9\": 237, \"12\": 1, \"11\": 2}, \"3\": {\"3\": 207, \"2\": 10, \"4\": 19, \"14\": 3, \"0\": 1}, \"6\": {\"13\": 60, \"6\": 127, \"2\": 22, \"14\": 31}, \"1\": {\"1\": 220, \"5\": 17, \"4\": 3}, \"5\": {\"3\": 2, \"5\": 157, \"1\": 20, \"4\": 57, \"2\": 4}, \"12\": {\"12\": 238, \"9\": 2}, \"10\": {\"10\": 209, \"0\": 29, \"3\": 2}, \"8\": {\"8\": 240}, \"7\": {\"7\": 223, \"15\": 17}, \"15\": {\"15\": 216, \"7\": 24}, \"2\": {\"2\": 113, \"14\": 34, \"15\": 4, \"13\": 19, \"5\": 25, \"6\": 30, \"3\": 8, \"4\": 7}}, \"O_32\": {\"11\": {\"14\": 39, \"11\": 190, \"3\": 2, \"13\": 4, \"7\": 3, \"5\": 2}, \"1\": {\"1\": 235, \"10\": 5}, \"2\": {\"2\": 185, \"4\": 44, \"7\": 3, \"0\": 6, \"5\": 1, \"14\": 1}, \"0\": {\"0\": 97, \"4\": 63, \"7\": 16, \"8\": 24, \"14\": 1, \"2\": 17, \"13\": 6, \"5\": 16}, \"3\": {\"3\": 229, \"13\": 3, \"5\": 7, \"8\": 1}, \"8\": {\"8\": 170, \"5\": 27, \"0\": 17, \"13\": 23, \"15\": 1, \"4\": 1, \"3\": 1}, \"12\": {\"12\": 240}, \"5\": {\"13\": 62, \"5\": 53, \"4\": 14, \"3\": 11, \"7\": 35, \"0\": 25, \"14\": 11, \"8\": 25, \"11\": 3, \"2\": 1}, \"15\": {\"15\": 236, \"3\": 2, \"8\": 2}, \"7\": {\"7\": 91, \"14\": 49, \"5\": 32, \"2\": 5, \"13\": 18, \"11\": 7, \"4\": 27, \"0\": 9, \"8\": 1, \"3\": 1}, \"4\": {\"4\": 91, \"5\": 15, \"0\": 67, \"7\": 19, \"2\": 34, \"14\": 7, \"8\": 4, \"13\": 3}, \"14\": {\"14\": 80, \"2\": 4, \"5\": 8, \"11\": 66, \"7\": 55, \"13\": 13, \"8\": 2, \"4\": 5, \"0\": 4, \"3\": 3}, \"10\": {\"10\": 237, \"1\": 3}, \"6\": {\"6\": 240}, \"13\": {\"13\": 67, \"8\": 41, \"0\": 19, \"14\": 8, \"5\": 62, \"3\": 22, \"7\": 16, \"4\": 4, \"11\": 1}, \"9\": {\"9\": 240}}, \"O_8\": {\"9\": {\"9\": 240}, \"11\": {\"1\": 110, \"11\": 112, \"8\": 2, \"5\": 14, \"4\": 2}, \"8\": {\"8\": 231, \"15\": 9}, \"4\": {\"13\": 41, \"4\": 118, \"6\": 35, \"14\": 35, \"10\": 9, \"0\": 2}, \"13\": {\"13\": 86, \"6\": 16, \"4\": 35, \"10\": 16, \"14\": 20, \"0\": 63, \"7\": 4}, \"14\": {\"14\": 99, \"4\": 32, \"11\": 1, \"10\": 73, \"13\": 21, \"1\": 13, \"6\": 1}, \"2\": {\"2\": 185, \"3\": 40, \"15\": 7, \"7\": 6, \"12\": 2}, \"3\": {\"2\": 18, \"3\": 208, \"12\": 13, \"15\": 1}, \"1\": {\"11\": 81, \"1\": 153, \"14\": 3, \"5\": 3}, \"0\": {\"13\": 47, \"0\": 173, \"7\": 9, \"6\": 7, \"10\": 2, \"4\": 2}, \"5\": {\"5\": 203, \"1\": 16, \"10\": 14, \"11\": 4, \"14\": 3}, \"15\": {\"15\": 185, \"12\": 44, \"8\": 10, \"3\": 1}, \"10\": {\"10\": 147, \"14\": 61, \"13\": 17, \"4\": 6, \"5\": 4, \"11\": 1, \"1\": 1, \"0\": 3}, \"12\": {\"12\": 124, \"15\": 73, \"3\": 38, \"8\": 4, \"7\": 1}, \"6\": {\"0\": 8, \"6\": 145, \"4\": 28, \"13\": 8, \"7\": 50, \"14\": 1}, \"7\": {\"7\": 174, \"13\": 3, \"6\": 52, \"4\": 3, \"0\": 8}}, \"C_5\": {\"26\": {\"26\": 24}, \"7\": {\"7\": 32}, \"56\": {\"56\": 130, \"35\": 5, \"0\": 7}, \"36\": {\"36\": 91, \"14\": 1}, \"47\": {\"47\": 100}, \"2\": {\"2\": 28}, \"15\": {\"15\": 152}, \"14\": {\"36\": 6, \"2\": 3, \"33\": 2, \"14\": 13, \"35\": 2, \"28\": 2, \"57\": 2, \"56\": 2, \"49\": 6, \"3\": 1, \"47\": 2, \"0\": 1, \"34\": 2}, \"27\": {\"45\": 2, \"27\": 141, \"4\": 1, \"48\": 2}, \"40\": {\"40\": 116, \"28\": 4, \"5\": 2, \"44\": 2}, \"49\": {\"49\": 36}, \"45\": {\"30\": 4, \"45\": 77, \"26\": 1, \"33\": 1, \"55\": 4, \"9\": 11, \"48\": 16, \"17\": 1, \"1\": 4, \"27\": 5}, \"46\": {\"49\": 2, \"46\": 127, \"3\": 7}, \"11\": {\"11\": 127, \"43\": 3}, \"30\": {\"30\": 112}, \"0\": {\"0\": 108, \"35\": 2, \"56\": 14}, \"10\": {\"10\": 62, \"13\": 5, \"24\": 1}, \"1\": {\"1\": 140, \"55\": 8}, \"42\": {\"42\": 38, \"2\": 1, \"0\": 1}, \"54\": {\"54\": 112}, \"55\": {\"55\": 149, \"1\": 3}, \"23\": {\"23\": 124}, \"25\": {\"25\": 140, \"8\": 7, \"18\": 3, \"50\": 2}, \"28\": {\"28\": 32}, \"32\": {\"32\": 32}, \"9\": {\"9\": 129, \"45\": 8, \"19\": 1, \"27\": 3, \"48\": 1}, \"39\": {\"39\": 20}, \"3\": {\"46\": 8, \"49\": 5, \"3\": 86, \"2\": 1}, \"29\": {\"29\": 117, \"22\": 1}, \"17\": {\"17\": 114, \"45\": 1, \"30\": 1}, \"35\": {\"35\": 28, \"56\": 8}, \"44\": {\"44\": 151, \"29\": 1}, \"5\": {\"5\": 122, \"34\": 2, \"40\": 2, \"44\": 2}, \"33\": {\"33\": 31, \"5\": 1}, \"34\": {\"44\": 1, \"34\": 35}, \"13\": {\"15\": 1, \"13\": 127, \"10\": 7, \"11\": 2, \"24\": 1}, \"41\": {\"41\": 28}, \"6\": {\"6\": 118, \"55\": 4, \"8\": 4, \"1\": 1, \"18\": 1}, \"51\": {\"51\": 135, \"30\": 1, \"12\": 2}, \"50\": {\"50\": 119, \"20\": 16, \"23\": 2, \"25\": 6, \"53\": 1}, \"37\": {\"37\": 24}, \"19\": {\"19\": 142, \"5\": 2}, \"57\": {\"57\": 132}, \"21\": {\"21\": 144}, \"24\": {\"24\": 80}, \"8\": {\"8\": 130}, \"12\": {\"12\": 93, \"27\": 1, \"7\": 1, \"45\": 1}, \"48\": {\"48\": 131, \"9\": 1}, \"43\": {\"43\": 144, \"11\": 3, \"15\": 3}, \"53\": {\"53\": 147, \"50\": 1}, \"38\": {\"38\": 32}, \"16\": {\"16\": 139, \"52\": 3}, \"22\": {\"22\": 28}, \"4\": {\"4\": 82, \"5\": 3, \"19\": 6, \"27\": 3, \"45\": 2, \"9\": 3, \"44\": 1}, \"18\": {\"18\": 64}, \"20\": {\"20\": 144}, \"52\": {\"52\": 138, \"16\": 2}, \"31\": {\"31\": 36}}, \"C_1\": {\"41\": {\"41\": 24}, \"40\": {\"29\": 13, \"40\": 83, \"57\": 2, \"54\": 2, \"45\": 2, \"56\": 3, \"19\": 2, \"35\": 2, \"1\": 1}, \"45\": {\"45\": 137, \"55\": 1}, \"51\": {\"51\": 148}, \"5\": {\"5\": 151, \"6\": 1, \"9\": 2}, \"30\": {\"30\": 120}, \"42\": {\"42\": 40}, \"46\": {\"46\": 134, \"53\": 2}, \"48\": {\"48\": 126, \"6\": 4, \"9\": 2, \"5\": 2}, \"53\": {\"53\": 143, \"41\": 1}, \"47\": {\"47\": 152}, \"49\": {\"49\": 32}, \"36\": {\"36\": 64}, \"32\": {\"32\": 32}, \"34\": {\"34\": 24}, \"29\": {\"29\": 131, \"19\": 2, \"56\": 6, \"40\": 1}, \"35\": {\"35\": 34, \"44\": 2}, \"3\": {\"3\": 130, \"20\": 4}, \"16\": {\"16\": 140}, \"26\": {\"26\": 24}, \"57\": {\"57\": 125, \"56\": 12, \"29\": 2, \"1\": 2, \"34\": 1, \"19\": 2}, \"44\": {\"44\": 125, \"35\": 3}, \"0\": {\"0\": 148, \"23\": 4}, \"4\": {\"4\": 108, \"19\": 10, \"29\": 7, \"57\": 2, \"56\": 1, \"17\": 1, \"40\": 3}, \"31\": {\"31\": 28}, \"11\": {\"11\": 139, \"28\": 1}, \"6\": {\"6\": 88, \"8\": 4, \"5\": 4}, \"54\": {\"54\": 104}, \"17\": {\"17\": 64}, \"20\": {\"20\": 128}, \"13\": {\"13\": 150}, \"33\": {\"33\": 32}, \"24\": {\"24\": 92, \"21\": 12, \"22\": 2, \"49\": 1, \"23\": 1}, \"52\": {\"52\": 117, \"10\": 15}, \"2\": {\"2\": 36}, \"19\": {\"19\": 156}, \"39\": {\"39\": 28}, \"8\": {\"8\": 135, \"6\": 1, \"30\": 1, \"9\": 3}, \"21\": {\"21\": 98, \"22\": 7, \"15\": 8, \"24\": 9, \"49\": 2}, \"10\": {\"10\": 78, \"52\": 17, \"15\": 1}, \"37\": {\"37\": 32}, \"25\": {\"25\": 132, \"18\": 11, \"30\": 1}, \"27\": {\"27\": 130}, \"23\": {\"23\": 122, \"0\": 6, \"15\": 8}, \"1\": {\"1\": 99, \"57\": 1}, \"50\": {\"50\": 152}, \"12\": {\"12\": 116}, \"18\": {\"18\": 62, \"25\": 10}, \"38\": {\"38\": 24}, \"14\": {\"37\": 1, \"30\": 2, \"25\": 1, \"45\": 5, \"13\": 1, \"14\": 6, \"54\": 1, \"55\": 2, \"53\": 2, \"7\": 2, \"5\": 1}, \"56\": {\"56\": 132, \"57\": 8, \"1\": 2}, \"55\": {\"55\": 155, \"54\": 3, \"29\": 2}, \"9\": {\"9\": 138}, \"15\": {\"15\": 140, \"23\": 5, \"49\": 1}, \"28\": {\"28\": 27, \"11\": 1}, \"7\": {\"7\": 28}, \"43\": {\"43\": 136}, \"22\": {\"22\": 117, \"11\": 6, \"28\": 1, \"21\": 6, \"24\": 2, \"10\": 2, \"49\": 1, \"15\": 1}}, \"C_3\": {\"1\": {\"1\": 97, \"34\": 1, \"57\": 2}, \"9\": {\"9\": 121, \"19\": 2, \"29\": 1}, \"22\": {\"22\": 127, \"0\": 9}, \"43\": {\"43\": 134, \"49\": 2}, \"49\": {\"49\": 16, \"43\": 4}, \"50\": {\"50\": 104, \"52\": 7, \"20\": 11, \"46\": 4, \"3\": 8, \"6\": 1, \"25\": 2, \"18\": 1}, \"53\": {\"53\": 136}, \"10\": {\"10\": 64}, \"48\": {\"48\": 115, \"27\": 1}, \"8\": {\"8\": 137, \"36\": 1}, \"31\": {\"31\": 28}, \"56\": {\"56\": 134}, \"25\": {\"25\": 121, \"30\": 8, \"6\": 5, \"50\": 1, \"23\": 1, \"27\": 1, \"33\": 2, \"36\": 1, \"3\": 1, \"8\": 1}, \"28\": {\"28\": 28}, \"38\": {\"38\": 28}, \"5\": {\"5\": 95, \"55\": 14, \"47\": 7}, \"12\": {\"12\": 91, \"8\": 1}, \"6\": {\"25\": 10, \"41\": 3, \"6\": 57, \"46\": 5, \"18\": 10, \"23\": 1, \"3\": 1, \"50\": 1}, \"19\": {\"19\": 136, \"40\": 4, \"29\": 3, \"44\": 3, \"9\": 4, \"32\": 2}, \"26\": {\"26\": 24}, \"32\": {\"32\": 28}, \"33\": {\"33\": 28}, \"3\": {\"3\": 101, \"46\": 2, \"52\": 10, \"20\": 5}, \"51\": {\"51\": 128}, \"16\": {\"16\": 137, \"46\": 1}, \"46\": {\"46\": 132, \"52\": 4, \"15\": 1, \"16\": 2, \"3\": 1}, \"7\": {\"7\": 36}, \"47\": {\"47\": 81, \"5\": 5, \"55\": 6}, \"39\": {\"39\": 15, \"5\": 1}, \"40\": {\"40\": 100, \"44\": 7, \"19\": 23, \"9\": 4, \"29\": 2}, \"14\": {\"35\": 7, \"39\": 1, \"14\": 15, \"0\": 1, \"57\": 3, \"34\": 2, \"56\": 4, \"22\": 5, \"28\": 2}, \"37\": {\"37\": 28}, \"2\": {\"2\": 32}, \"21\": {\"21\": 120}, \"35\": {\"35\": 25, \"57\": 1, \"1\": 2}, \"54\": {\"54\": 89, \"17\": 10, \"27\": 1}, \"52\": {\"52\": 115, \"3\": 1}, \"29\": {\"40\": 2, \"29\": 111, \"9\": 2, \"44\": 2, \"57\": 1}, \"20\": {\"20\": 127, \"3\": 1, \"50\": 4}, \"18\": {\"18\": 82, \"25\": 2}, \"11\": {\"11\": 142}, \"0\": {\"0\": 117, \"22\": 7}, \"36\": {\"36\": 98, \"2\": 2}, \"17\": {\"17\": 94, \"54\": 14}, \"30\": {\"30\": 113, \"33\": 1}, \"42\": {\"42\": 28}, \"45\": {\"45\": 52, \"32\": 2, \"40\": 1, \"54\": 2, \"27\": 1, \"4\": 2}, \"4\": {\"4\": 148}, \"23\": {\"23\": 134}, \"13\": {\"13\": 128}, \"15\": {\"15\": 127, \"23\": 1}, \"57\": {\"57\": 123, \"35\": 1}, \"27\": {\"27\": 132, \"54\": 2}, \"44\": {\"44\": 72, \"40\": 6, \"34\": 2, \"29\": 3, \"19\": 1, \"9\": 2, \"4\": 2}, \"34\": {\"34\": 32}, \"41\": {\"41\": 28}, \"24\": {\"24\": 103, \"43\": 1}, \"55\": {\"55\": 102, \"47\": 5, \"5\": 11}}, \"C_4\": {\"52\": {\"52\": 116}, \"6\": {\"6\": 97, \"37\": 1, \"51\": 3, \"53\": 2, \"20\": 6, \"3\": 1, \"16\": 1, \"50\": 1}, \"14\": {\"14\": 11, \"29\": 3, \"1\": 1, \"35\": 1}, \"49\": {\"49\": 20}, \"0\": {\"0\": 80}, \"46\": {\"46\": 146, \"32\": 1, \"5\": 2, \"47\": 3, \"0\": 2, \"49\": 1, \"22\": 1}, \"41\": {\"41\": 36}, \"24\": {\"24\": 54, \"43\": 1, \"7\": 1}, \"25\": {\"25\": 134, \"36\": 10, \"3\": 4, \"18\": 4}, \"40\": {\"40\": 118, \"44\": 2, \"55\": 1, \"57\": 1, \"9\": 3, \"19\": 11, \"4\": 2}, \"38\": {\"38\": 40}, \"13\": {\"13\": 150, \"10\": 2}, \"9\": {\"9\": 100, \"4\": 5, \"19\": 1, \"27\": 2}, \"45\": {\"9\": 1, \"45\": 79, \"27\": 10, \"44\": 1, \"17\": 4, \"19\": 1}, \"43\": {\"43\": 144}, \"10\": {\"10\": 129, \"13\": 1}, \"15\": {\"15\": 122, \"16\": 4, \"52\": 1, \"23\": 1}, \"39\": {\"39\": 20}, \"4\": {\"4\": 126, \"19\": 2, \"48\": 2, \"40\": 2}, \"53\": {\"53\": 129, \"20\": 2, \"23\": 1}, \"1\": {\"1\": 38, \"29\": 1, \"57\": 1}, \"28\": {\"28\": 32}, \"54\": {\"54\": 107, \"28\": 1}, \"21\": {\"21\": 132}, \"7\": {\"7\": 22, \"32\": 1, \"0\": 1}, \"8\": {\"8\": 136}, \"42\": {\"42\": 31, \"34\": 1}, \"11\": {\"11\": 100, \"5\": 2, \"43\": 1, \"46\": 1}, \"33\": {\"33\": 31, \"48\": 1, \"4\": 1, \"44\": 1, \"55\": 2}, \"27\": {\"27\": 139, \"17\": 3}, \"19\": {\"19\": 135, \"40\": 4, \"55\": 2, \"29\": 2, \"44\": 1}, \"2\": {\"2\": 36}, \"3\": {\"3\": 104, \"25\": 7, \"50\": 1, \"20\": 6, \"36\": 2}, \"57\": {\"57\": 96, \"35\": 4}, \"20\": {\"20\": 110, \"25\": 2}, \"23\": {\"23\": 127, \"18\": 1}, \"22\": {\"22\": 127, \"43\": 1}, \"29\": {\"29\": 123, \"1\": 1}, \"36\": {\"36\": 86, \"3\": 3, \"18\": 1, \"48\": 1, \"25\": 1}, \"51\": {\"51\": 132}, \"31\": {\"31\": 27, \"41\": 1}, \"12\": {\"12\": 92}, \"56\": {\"56\": 137, \"14\": 1}, \"5\": {\"39\": 1, \"5\": 104, \"23\": 1, \"46\": 2}, \"35\": {\"35\": 37, \"57\": 3}, \"17\": {\"17\": 71, \"27\": 5, \"48\": 2, \"44\": 1, \"4\": 1}, \"32\": {\"32\": 23, \"46\": 1}, \"47\": {\"47\": 120}, \"18\": {\"18\": 103, \"42\": 1, \"46\": 1, \"23\": 1, \"25\": 2}, \"26\": {\"26\": 24}, \"50\": {\"50\": 98, \"20\": 6, \"36\": 1, \"25\": 9, \"8\": 2, \"3\": 1, \"21\": 2, \"6\": 1, \"53\": 2}, \"55\": {\"55\": 124}, \"34\": {\"34\": 23, \"42\": 1}, \"30\": {\"30\": 40, \"8\": 4}, \"37\": {\"37\": 24}, \"44\": {\"44\": 116, \"48\": 2, \"19\": 12, \"29\": 2}, \"48\": {\"48\": 116, \"54\": 1, \"4\": 1}, \"16\": {\"16\": 96}}, \"C_2\": {\"11\": {\"11\": 130}, \"21\": {\"21\": 120}, \"19\": {\"19\": 128, \"40\": 7, \"1\": 2, \"9\": 1, \"29\": 1, \"44\": 1}, \"20\": {\"20\": 117, \"53\": 9, \"36\": 1, \"8\": 1}, \"9\": {\"9\": 129, \"40\": 10, \"35\": 1}, \"10\": {\"10\": 112}, \"37\": {\"37\": 36}, \"32\": {\"32\": 28}, \"3\": {\"3\": 87, \"21\": 3, \"52\": 2}, \"39\": {\"39\": 28}, \"45\": {\"45\": 100, \"4\": 9, \"40\": 3, \"44\": 1, \"9\": 5, \"19\": 1, \"27\": 1, \"32\": 1, \"17\": 3, \"54\": 3, \"48\": 1}, \"50\": {\"50\": 119, \"41\": 1, \"6\": 8, \"3\": 1, \"30\": 2, \"52\": 1, \"25\": 3, \"46\": 1}, \"40\": {\"40\": 98, \"29\": 8, \"44\": 3, \"9\": 12, \"19\": 17, \"35\": 2}, \"46\": {\"46\": 96, \"15\": 13, \"52\": 9, \"7\": 2, \"16\": 8}, \"12\": {\"12\": 92}, \"13\": {\"13\": 116}, \"47\": {\"47\": 131, \"55\": 1}, \"15\": {\"15\": 142}, \"54\": {\"54\": 103, \"17\": 5}, \"48\": {\"48\": 148}, \"23\": {\"23\": 142}, \"29\": {\"29\": 128}, \"38\": {\"38\": 20}, \"53\": {\"53\": 131, \"20\": 5}, \"27\": {\"27\": 143, \"36\": 3, \"48\": 1, \"8\": 2, \"54\": 1}, \"43\": {\"43\": 142, \"24\": 2}, \"35\": {\"35\": 15, \"40\": 3, \"19\": 4, \"9\": 9, \"44\": 1}, \"0\": {\"0\": 46, \"22\": 2}, \"52\": {\"52\": 123, \"6\": 1}, \"8\": {\"8\": 128}, \"24\": {\"10\": 6, \"24\": 87, \"43\": 3}, \"18\": {\"18\": 48}, \"25\": {\"25\": 139, \"6\": 5, \"30\": 1, \"18\": 2, \"36\": 1}, \"57\": {\"57\": 135, \"1\": 1}, \"55\": {\"55\": 133, \"42\": 1}, \"36\": {\"36\": 116}, \"17\": {\"17\": 104}, \"2\": {\"2\": 32}, \"34\": {\"34\": 28}, \"1\": {\"1\": 108, \"57\": 4}, \"51\": {\"51\": 136}, \"31\": {\"31\": 28}, \"49\": {\"49\": 24}, \"14\": {\"31\": 1, \"14\": 12, \"29\": 2, \"57\": 2, \"0\": 2, \"56\": 3, \"1\": 1, \"19\": 1}, \"33\": {\"33\": 24, \"32\": 2, \"48\": 2}, \"41\": {\"41\": 19, \"18\": 1}, \"28\": {\"28\": 27, \"23\": 1}, \"5\": {\"5\": 119, \"31\": 1}, \"16\": {\"16\": 150}, \"4\": {\"4\": 115, \"17\": 1, \"45\": 3, \"19\": 2, \"27\": 1, \"9\": 6}, \"22\": {\"22\": 136}, \"6\": {\"50\": 9, \"6\": 106, \"25\": 1, \"46\": 2}, \"30\": {\"30\": 124}, \"26\": {\"26\": 24}, \"56\": {\"56\": 142}, \"42\": {\"42\": 36}, \"44\": {\"44\": 82, \"29\": 6, \"40\": 2, \"19\": 6, \"35\": 2, \"1\": 2}, \"7\": {\"7\": 36}}}, \"per_domain_accuracy\": {\"O_26\": {\"accuracy\": 0.5075520833333333, \"source?\": true}, \"O_44\": {\"accuracy\": 0.6536458333333334, \"source?\": true}, \"O_50\": {\"accuracy\": 0.7015625, \"source?\": true}, \"O_38\": {\"accuracy\": 0.6356770833333333, \"source?\": true}, \"O_20\": {\"accuracy\": 0.5692708333333333, \"source?\": true}, \"O_14\": {\"accuracy\": 0.7653645833333333, \"source?\": true}, \"O_32\": {\"accuracy\": 0.6981770833333333, \"source?\": true}, \"O_8\": {\"accuracy\": 0.67265625, \"source?\": true}, \"C_5\": {\"accuracy\": 0.9484986033519553, \"source?\": false}, \"C_1\": {\"accuracy\": 0.9504076086956522, \"source?\": false}, \"C_3\": {\"accuracy\": 0.9367647058823529, \"source?\": false}, \"C_4\": {\"accuracy\": 0.9544427710843374, \"source?\": false}, \"C_2\": {\"accuracy\": 0.9495738636363636, \"source?\": false}}}, \"history\": {\"epoch_indices\": [1, 2, 3, 4, 5, 6], \"train_label_loss\": [1.8342719874921298, 0.93160464232344, 0.8732937071516755, 0.8369278342374379, 0.8041885304575165, 0.7768969304793115], \"source_val_label_loss\": [1.0817385911941528, 0.9300156235694885, 0.926687479019165, 0.8282415866851807, 0.8037167191505432, 0.829095721244812], \"target_val_label_loss\": [4.1120686531066895, 0.8674631714820862, 1.1372227668762207, 1.2843097448349, 5.665297508239746, 8.72635555267334], \"source_val_acc_label\": [0.6021809895833333, 0.65048828125, 0.6474609375, 0.6884114583333333, 0.6951171875, 0.6866861979166666], \"target_val_acc_label\": [0.8860357142857143, 0.9479642857142857, 0.9405, 0.9373214285714285, 0.8981428571428571, 0.8911785714285714]}, \"dataset_metrics\": {\"source\": {\"train\": {\"n_unique_x\": 179200, \"n_unique_y\": 16, \"n_batch/episode\": 6720}, \"val\": {\"n_unique_x\": 38400, \"n_unique_y\": 16, \"n_batch/episode\": 960}, \"test\": {\"n_unique_x\": 38400, \"n_unique_y\": 16, \"n_batch/episode\": 960}}, \"target\": {\"train\": {\"n_unique_x\": 175203, \"n_unique_y\": 58, \"n_batch/episode\": 6321}, \"val\": {\"n_unique_x\": 37151, \"n_unique_y\": 58, \"n_batch/episode\": 875}, \"test\": {\"n_unique_x\": 37548, \"n_unique_y\": 58, \"n_batch/episode\": 885}}}}'"
      ]
     },
     "execution_count": 29,
     "metadata": {},
     "output_type": "execute_result"
    }
   ],
   "source": [
    "json.dumps(experiment)"
   ]
  }
 ],
 "metadata": {
  "celltoolbar": "Tags",
  "kernelspec": {
   "display_name": "Python 3 (ipykernel)",
   "language": "python",
   "name": "python3"
  },
  "language_info": {
   "codemirror_mode": {
    "name": "ipython",
    "version": 3
   },
   "file_extension": ".py",
   "mimetype": "text/x-python",
   "name": "python",
   "nbconvert_exporter": "python",
   "pygments_lexer": "ipython3",
   "version": "3.8.12"
  },
  "papermill": {
   "default_parameters": {},
   "duration": 1192.576145,
   "end_time": "2022-03-28T11:10:49.015203",
   "environment_variables": {},
   "exception": null,
   "input_path": "/root/csc500-main/csc500-notebooks/templates/tl_ptn_template.ipynb",
   "output_path": "trial.ipynb",
   "parameters": {
    "parameters": {
     "BEST_MODEL_PATH": "./best_model.pth",
     "NUM_LOGS_PER_EPOCH": 10,
     "criteria_for_best": "target_accuracy",
     "dataset_seed": 7,
     "datasets": [
      {
       "domain_prefix": "C_",
       "domains": [
        1,
        2,
        3,
        4,
        5
       ],
       "episode_transforms": [],
       "labels": [
        "1-10.",
        "1-11.",
        "1-15.",
        "1-16.",
        "1-17.",
        "1-18.",
        "1-19.",
        "10-4.",
        "10-7.",
        "11-1.",
        "11-14.",
        "11-17.",
        "11-20.",
        "11-7.",
        "13-20.",
        "13-8.",
        "14-10.",
        "14-11.",
        "14-14.",
        "14-7.",
        "15-1.",
        "15-20.",
        "16-1.",
        "16-16.",
        "17-10.",
        "17-11.",
        "17-2.",
        "19-1.",
        "19-16.",
        "19-19.",
        "19-20.",
        "19-3.",
        "2-10.",
        "2-11.",
        "2-17.",
        "2-18.",
        "2-20.",
        "2-3.",
        "2-4.",
        "2-5.",
        "2-6.",
        "2-7.",
        "2-8.",
        "3-13.",
        "3-18.",
        "3-3.",
        "4-1.",
        "4-10.",
        "4-11.",
        "4-19.",
        "5-5.",
        "6-15.",
        "7-10.",
        "7-14.",
        "8-18.",
        "8-20.",
        "8-3.",
        "8-8."
       ],
       "num_examples_per_domain_per_label": -1,
       "pickle_path": "/root/csc500-main/datasets/cores.stratified_ds.2022A.pkl",
       "source_or_target_dataset": "target",
       "x_transforms": [
        "unit_power",
        "jitter_256_10",
        "lowpass_+/-10MHz",
        "take_200"
       ]
      },
      {
       "domain_prefix": "O_",
       "domains": [
        32,
        38,
        8,
        44,
        14,
        50,
        20,
        26
       ],
       "episode_transforms": [],
       "labels": [
        "3123D52",
        "3123D65",
        "3123D79",
        "3123D80",
        "3123D54",
        "3123D70",
        "3123D7B",
        "3123D89",
        "3123D58",
        "3123D76",
        "3123D7D",
        "3123EFE",
        "3123D64",
        "3123D78",
        "3123D7E",
        "3124E4A"
       ],
       "num_examples_per_domain_per_label": 2000,
       "pickle_path": "/root/csc500-main/datasets/oracle.Run1_framed_2000Examples_stratified_ds.2022A.pkl",
       "source_or_target_dataset": "source",
       "x_transforms": [
        "unit_power",
        "jitter_256_10",
        "take_200",
        "resample_20Msps_to_25Msps"
       ]
      }
     ],
     "device": "cuda",
     "experiment_name": "tl_3-jitter10v2:oracle.run1.framed -> cores",
     "lr": 0.0001,
     "n_epoch": 50,
     "n_query": 2,
     "n_shot": 3,
     "n_way": 16,
     "patience": 3,
     "seed": 7,
     "test_k_factor": 2,
     "torch_default_dtype": "torch.float32",
     "train_k_factor": 3,
     "val_k_factor": 2,
     "x_net": [
      {
       "class": "nnReshape",
       "kargs": {
        "shape": [
         -1,
         1,
         2,
         256
        ]
       }
      },
      {
       "class": "Conv2d",
       "kargs": {
        "bias": false,
        "in_channels": 1,
        "kernel_size": [
         1,
         7
        ],
        "out_channels": 256,
        "padding": [
         0,
         3
        ]
       }
      },
      {
       "class": "ReLU",
       "kargs": {
        "inplace": true
       }
      },
      {
       "class": "BatchNorm2d",
       "kargs": {
        "num_features": 256
       }
      },
      {
       "class": "Conv2d",
       "kargs": {
        "bias": true,
        "in_channels": 256,
        "kernel_size": [
         2,
         7
        ],
        "out_channels": 80,
        "padding": [
         0,
         3
        ]
       }
      },
      {
       "class": "ReLU",
       "kargs": {
        "inplace": true
       }
      },
      {
       "class": "BatchNorm2d",
       "kargs": {
        "num_features": 80
       }
      },
      {
       "class": "Flatten",
       "kargs": {}
      },
      {
       "class": "Linear",
       "kargs": {
        "in_features": 20480,
        "out_features": 256
       }
      },
      {
       "class": "ReLU",
       "kargs": {
        "inplace": true
       }
      },
      {
       "class": "BatchNorm1d",
       "kargs": {
        "num_features": 256
       }
      },
      {
       "class": "Linear",
       "kargs": {
        "in_features": 256,
        "out_features": 256
       }
      }
     ],
     "x_shape": [
      2,
      256
     ]
    }
   },
   "start_time": "2022-03-28T10:50:56.439058",
   "version": "2.3.4"
  }
 },
 "nbformat": 4,
 "nbformat_minor": 5
}