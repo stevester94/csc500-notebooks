{
 "cells": [
  {
   "cell_type": "markdown",
   "id": "9fea5f46",
   "metadata": {
    "papermill": {
     "duration": 0.030145,
     "end_time": "2022-03-28T10:05:20.242250",
     "exception": false,
     "start_time": "2022-03-28T10:05:20.212105",
     "status": "completed"
    },
    "tags": []
   },
   "source": [
    "# Transfer Learning Template"
   ]
  },
  {
   "cell_type": "code",
   "execution_count": 1,
   "id": "0902182a",
   "metadata": {
    "execution": {
     "iopub.execute_input": "2022-03-28T10:05:20.306979Z",
     "iopub.status.busy": "2022-03-28T10:05:20.291595Z",
     "iopub.status.idle": "2022-03-28T10:05:22.111052Z",
     "shell.execute_reply": "2022-03-28T10:05:22.111380Z"
    },
    "papermill": {
     "duration": 1.847,
     "end_time": "2022-03-28T10:05:22.111585",
     "exception": false,
     "start_time": "2022-03-28T10:05:20.264585",
     "status": "completed"
    },
    "tags": []
   },
   "outputs": [],
   "source": [
    "%load_ext autoreload\n",
    "%autoreload 2\n",
    "%matplotlib inline\n",
    "\n",
    "    \n",
    "import os, json, sys, time, random\n",
    "import numpy as np\n",
    "import torch\n",
    "from torch.optim import Adam\n",
    "from  easydict import EasyDict\n",
    "import matplotlib.pyplot as plt\n",
    "\n",
    "from steves_models.steves_ptn import Steves_Prototypical_Network\n",
    "\n",
    "from steves_utils.lazy_iterable_wrapper import Lazy_Iterable_Wrapper\n",
    "from steves_utils.iterable_aggregator import Iterable_Aggregator\n",
    "from steves_utils.ptn_train_eval_test_jig import  PTN_Train_Eval_Test_Jig\n",
    "from steves_utils.torch_sequential_builder import build_sequential\n",
    "from steves_utils.torch_utils import get_dataset_metrics, ptn_confusion_by_domain_over_dataloader\n",
    "from steves_utils.utils_v2 import (per_domain_accuracy_from_confusion, get_datasets_base_path)\n",
    "from steves_utils.PTN.utils import independent_accuracy_assesment\n",
    "\n",
    "from torch.utils.data import DataLoader\n",
    "\n",
    "from steves_utils.stratified_dataset.episodic_accessor import Episodic_Accessor_Factory\n",
    "\n",
    "from steves_utils.ptn_do_report import (\n",
    "    get_loss_curve,\n",
    "    get_results_table,\n",
    "    get_parameters_table,\n",
    "    get_domain_accuracies,\n",
    ")\n",
    "\n",
    "from steves_utils.transforms import get_chained_transform"
   ]
  },
  {
   "cell_type": "markdown",
   "id": "41c840b4",
   "metadata": {
    "papermill": {
     "duration": 0.019305,
     "end_time": "2022-03-28T10:05:22.150927",
     "exception": false,
     "start_time": "2022-03-28T10:05:22.131622",
     "status": "completed"
    },
    "tags": []
   },
   "source": [
    "# Allowed Parameters\n",
    "These are allowed parameters, not defaults\n",
    "Each of these values need to be present in the injected parameters (the notebook will raise an exception if they are not present)\n",
    "\n",
    "Papermill uses the cell tag \"parameters\" to inject the real parameters below this cell.\n",
    "Enable tags to see what I mean"
   ]
  },
  {
   "cell_type": "code",
   "execution_count": 2,
   "id": "fd44eb83",
   "metadata": {
    "execution": {
     "iopub.execute_input": "2022-03-28T10:05:22.193193Z",
     "iopub.status.busy": "2022-03-28T10:05:22.192696Z",
     "iopub.status.idle": "2022-03-28T10:05:22.215798Z",
     "shell.execute_reply": "2022-03-28T10:05:22.215056Z"
    },
    "papermill": {
     "duration": 0.045763,
     "end_time": "2022-03-28T10:05:22.215954",
     "exception": false,
     "start_time": "2022-03-28T10:05:22.170191",
     "status": "completed"
    },
    "tags": []
   },
   "outputs": [],
   "source": [
    "required_parameters = {\n",
    "    \"experiment_name\",\n",
    "    \"lr\",\n",
    "    \"device\",\n",
    "    \"seed\",\n",
    "    \"dataset_seed\",\n",
    "    \"n_shot\",\n",
    "    \"n_query\",\n",
    "    \"n_way\",\n",
    "    \"train_k_factor\",\n",
    "    \"val_k_factor\",\n",
    "    \"test_k_factor\",\n",
    "    \"n_epoch\",\n",
    "    \"patience\",\n",
    "    \"criteria_for_best\",\n",
    "    \"x_net\",\n",
    "    \"datasets\",\n",
    "    \"torch_default_dtype\",\n",
    "    \"NUM_LOGS_PER_EPOCH\",\n",
    "    \"BEST_MODEL_PATH\",\n",
    "    \"x_shape\",\n",
    "}"
   ]
  },
  {
   "cell_type": "code",
   "execution_count": 3,
   "id": "fa3f0049",
   "metadata": {
    "execution": {
     "iopub.execute_input": "2022-03-28T10:05:22.271606Z",
     "iopub.status.busy": "2022-03-28T10:05:22.271173Z",
     "iopub.status.idle": "2022-03-28T10:05:22.290816Z",
     "shell.execute_reply": "2022-03-28T10:05:22.290023Z"
    },
    "papermill": {
     "duration": 0.04849,
     "end_time": "2022-03-28T10:05:22.290971",
     "exception": false,
     "start_time": "2022-03-28T10:05:22.242481",
     "status": "completed"
    },
    "tags": [
     "parameters"
    ]
   },
   "outputs": [],
   "source": [
    "from steves_utils.CORES.utils import (\n",
    "    ALL_NODES,\n",
    "    ALL_NODES_MINIMUM_1000_EXAMPLES,\n",
    "    ALL_DAYS\n",
    ")\n",
    "\n",
    "from steves_utils.ORACLE.utils_v2 import (\n",
    "    ALL_DISTANCES_FEET_NARROWED,\n",
    "    ALL_RUNS,\n",
    "    ALL_SERIAL_NUMBERS,\n",
    ")\n",
    "\n",
    "standalone_parameters = {}\n",
    "standalone_parameters[\"experiment_name\"] = \"STANDALONE PTN\"\n",
    "standalone_parameters[\"lr\"] = 0.001\n",
    "standalone_parameters[\"device\"] = \"cuda\"\n",
    "\n",
    "standalone_parameters[\"seed\"] = 1337\n",
    "standalone_parameters[\"dataset_seed\"] = 1337\n",
    "\n",
    "standalone_parameters[\"n_way\"] = 8\n",
    "standalone_parameters[\"n_shot\"] = 3\n",
    "standalone_parameters[\"n_query\"]  = 2\n",
    "standalone_parameters[\"train_k_factor\"] = 1\n",
    "standalone_parameters[\"val_k_factor\"] = 2\n",
    "standalone_parameters[\"test_k_factor\"] = 2\n",
    "\n",
    "\n",
    "standalone_parameters[\"n_epoch\"] = 50\n",
    "\n",
    "standalone_parameters[\"patience\"] = 10\n",
    "standalone_parameters[\"criteria_for_best\"] = \"source_loss\"\n",
    "\n",
    "standalone_parameters[\"datasets\"] = [\n",
    "    {\n",
    "        \"labels\": ALL_SERIAL_NUMBERS,\n",
    "        \"domains\": ALL_DISTANCES_FEET_NARROWED,\n",
    "        \"num_examples_per_domain_per_label\": 100,\n",
    "        \"pickle_path\": os.path.join(get_datasets_base_path(), \"oracle.Run1_framed_2000Examples_stratified_ds.2022A.pkl\"),\n",
    "        \"source_or_target_dataset\": \"source\",\n",
    "        \"x_transforms\": [\"unit_mag\", \"minus_two\"],\n",
    "        \"episode_transforms\": [],\n",
    "        \"domain_prefix\": \"ORACLE_\"\n",
    "    },\n",
    "    {\n",
    "        \"labels\": ALL_NODES,\n",
    "        \"domains\": ALL_DAYS,\n",
    "        \"num_examples_per_domain_per_label\": 100,\n",
    "        \"pickle_path\": os.path.join(get_datasets_base_path(), \"cores.stratified_ds.2022A.pkl\"),\n",
    "        \"source_or_target_dataset\": \"target\",\n",
    "        \"x_transforms\": [\"unit_power\", \"times_zero\"],\n",
    "        \"episode_transforms\": [],\n",
    "        \"domain_prefix\": \"CORES_\"\n",
    "    }   \n",
    "]\n",
    "\n",
    "standalone_parameters[\"torch_default_dtype\"] = \"torch.float32\" \n",
    "\n",
    "\n",
    "\n",
    "standalone_parameters[\"x_net\"] =     [\n",
    "    {\"class\": \"nnReshape\", \"kargs\": {\"shape\":[-1, 1, 2, 256]}},\n",
    "    {\"class\": \"Conv2d\", \"kargs\": { \"in_channels\":1, \"out_channels\":256, \"kernel_size\":(1,7), \"bias\":False, \"padding\":(0,3), },},\n",
    "    {\"class\": \"ReLU\", \"kargs\": {\"inplace\": True}},\n",
    "    {\"class\": \"BatchNorm2d\", \"kargs\": {\"num_features\":256}},\n",
    "\n",
    "    {\"class\": \"Conv2d\", \"kargs\": { \"in_channels\":256, \"out_channels\":80, \"kernel_size\":(2,7), \"bias\":True, \"padding\":(0,3), },},\n",
    "    {\"class\": \"ReLU\", \"kargs\": {\"inplace\": True}},\n",
    "    {\"class\": \"BatchNorm2d\", \"kargs\": {\"num_features\":80}},\n",
    "    {\"class\": \"Flatten\", \"kargs\": {}},\n",
    "\n",
    "    {\"class\": \"Linear\", \"kargs\": {\"in_features\": 80*256, \"out_features\": 256}}, # 80 units per IQ pair\n",
    "    {\"class\": \"ReLU\", \"kargs\": {\"inplace\": True}},\n",
    "    {\"class\": \"BatchNorm1d\", \"kargs\": {\"num_features\":256}},\n",
    "\n",
    "    {\"class\": \"Linear\", \"kargs\": {\"in_features\": 256, \"out_features\": 256}},\n",
    "]\n",
    "\n",
    "# Parameters relevant to results\n",
    "# These parameters will basically never need to change\n",
    "standalone_parameters[\"NUM_LOGS_PER_EPOCH\"] = 10\n",
    "standalone_parameters[\"BEST_MODEL_PATH\"] = \"./best_model.pth\"\n",
    "\n",
    "\n",
    "\n",
    "\n"
   ]
  },
  {
   "cell_type": "code",
   "execution_count": 4,
   "id": "9e798faa",
   "metadata": {
    "execution": {
     "iopub.execute_input": "2022-03-28T10:05:22.344169Z",
     "iopub.status.busy": "2022-03-28T10:05:22.338499Z",
     "iopub.status.idle": "2022-03-28T10:05:22.370409Z",
     "shell.execute_reply": "2022-03-28T10:05:22.369690Z"
    },
    "papermill": {
     "duration": 0.05475,
     "end_time": "2022-03-28T10:05:22.370566",
     "exception": false,
     "start_time": "2022-03-28T10:05:22.315816",
     "status": "completed"
    },
    "tags": [
     "injected-parameters"
    ]
   },
   "outputs": [],
   "source": [
    "# Parameters\n",
    "parameters = {\n",
    "    \"experiment_name\": \"tl_3-jitter10v2:oracle.run1.framed -> cores\",\n",
    "    \"device\": \"cuda\",\n",
    "    \"lr\": 0.0001,\n",
    "    \"x_shape\": [2, 256],\n",
    "    \"n_shot\": 3,\n",
    "    \"n_query\": 2,\n",
    "    \"train_k_factor\": 3,\n",
    "    \"val_k_factor\": 2,\n",
    "    \"test_k_factor\": 2,\n",
    "    \"torch_default_dtype\": \"torch.float32\",\n",
    "    \"n_epoch\": 50,\n",
    "    \"patience\": 3,\n",
    "    \"criteria_for_best\": \"target_accuracy\",\n",
    "    \"x_net\": [\n",
    "        {\"class\": \"nnReshape\", \"kargs\": {\"shape\": [-1, 1, 2, 256]}},\n",
    "        {\n",
    "            \"class\": \"Conv2d\",\n",
    "            \"kargs\": {\n",
    "                \"in_channels\": 1,\n",
    "                \"out_channels\": 256,\n",
    "                \"kernel_size\": [1, 7],\n",
    "                \"bias\": False,\n",
    "                \"padding\": [0, 3],\n",
    "            },\n",
    "        },\n",
    "        {\"class\": \"ReLU\", \"kargs\": {\"inplace\": True}},\n",
    "        {\"class\": \"BatchNorm2d\", \"kargs\": {\"num_features\": 256}},\n",
    "        {\n",
    "            \"class\": \"Conv2d\",\n",
    "            \"kargs\": {\n",
    "                \"in_channels\": 256,\n",
    "                \"out_channels\": 80,\n",
    "                \"kernel_size\": [2, 7],\n",
    "                \"bias\": True,\n",
    "                \"padding\": [0, 3],\n",
    "            },\n",
    "        },\n",
    "        {\"class\": \"ReLU\", \"kargs\": {\"inplace\": True}},\n",
    "        {\"class\": \"BatchNorm2d\", \"kargs\": {\"num_features\": 80}},\n",
    "        {\"class\": \"Flatten\", \"kargs\": {}},\n",
    "        {\"class\": \"Linear\", \"kargs\": {\"in_features\": 20480, \"out_features\": 256}},\n",
    "        {\"class\": \"ReLU\", \"kargs\": {\"inplace\": True}},\n",
    "        {\"class\": \"BatchNorm1d\", \"kargs\": {\"num_features\": 256}},\n",
    "        {\"class\": \"Linear\", \"kargs\": {\"in_features\": 256, \"out_features\": 256}},\n",
    "    ],\n",
    "    \"NUM_LOGS_PER_EPOCH\": 10,\n",
    "    \"BEST_MODEL_PATH\": \"./best_model.pth\",\n",
    "    \"n_way\": 16,\n",
    "    \"datasets\": [\n",
    "        {\n",
    "            \"labels\": [\n",
    "                \"1-10.\",\n",
    "                \"1-11.\",\n",
    "                \"1-15.\",\n",
    "                \"1-16.\",\n",
    "                \"1-17.\",\n",
    "                \"1-18.\",\n",
    "                \"1-19.\",\n",
    "                \"10-4.\",\n",
    "                \"10-7.\",\n",
    "                \"11-1.\",\n",
    "                \"11-14.\",\n",
    "                \"11-17.\",\n",
    "                \"11-20.\",\n",
    "                \"11-7.\",\n",
    "                \"13-20.\",\n",
    "                \"13-8.\",\n",
    "                \"14-10.\",\n",
    "                \"14-11.\",\n",
    "                \"14-14.\",\n",
    "                \"14-7.\",\n",
    "                \"15-1.\",\n",
    "                \"15-20.\",\n",
    "                \"16-1.\",\n",
    "                \"16-16.\",\n",
    "                \"17-10.\",\n",
    "                \"17-11.\",\n",
    "                \"17-2.\",\n",
    "                \"19-1.\",\n",
    "                \"19-16.\",\n",
    "                \"19-19.\",\n",
    "                \"19-20.\",\n",
    "                \"19-3.\",\n",
    "                \"2-10.\",\n",
    "                \"2-11.\",\n",
    "                \"2-17.\",\n",
    "                \"2-18.\",\n",
    "                \"2-20.\",\n",
    "                \"2-3.\",\n",
    "                \"2-4.\",\n",
    "                \"2-5.\",\n",
    "                \"2-6.\",\n",
    "                \"2-7.\",\n",
    "                \"2-8.\",\n",
    "                \"3-13.\",\n",
    "                \"3-18.\",\n",
    "                \"3-3.\",\n",
    "                \"4-1.\",\n",
    "                \"4-10.\",\n",
    "                \"4-11.\",\n",
    "                \"4-19.\",\n",
    "                \"5-5.\",\n",
    "                \"6-15.\",\n",
    "                \"7-10.\",\n",
    "                \"7-14.\",\n",
    "                \"8-18.\",\n",
    "                \"8-20.\",\n",
    "                \"8-3.\",\n",
    "                \"8-8.\",\n",
    "            ],\n",
    "            \"domains\": [1, 2, 3, 4, 5],\n",
    "            \"num_examples_per_domain_per_label\": -1,\n",
    "            \"pickle_path\": \"/root/csc500-main/datasets/cores.stratified_ds.2022A.pkl\",\n",
    "            \"source_or_target_dataset\": \"target\",\n",
    "            \"x_transforms\": [\n",
    "                \"unit_mag\",\n",
    "                \"jitter_256_10\",\n",
    "                \"lowpass_+/-10MHz\",\n",
    "                \"take_200\",\n",
    "            ],\n",
    "            \"episode_transforms\": [],\n",
    "            \"domain_prefix\": \"C_\",\n",
    "        },\n",
    "        {\n",
    "            \"labels\": [\n",
    "                \"3123D52\",\n",
    "                \"3123D65\",\n",
    "                \"3123D79\",\n",
    "                \"3123D80\",\n",
    "                \"3123D54\",\n",
    "                \"3123D70\",\n",
    "                \"3123D7B\",\n",
    "                \"3123D89\",\n",
    "                \"3123D58\",\n",
    "                \"3123D76\",\n",
    "                \"3123D7D\",\n",
    "                \"3123EFE\",\n",
    "                \"3123D64\",\n",
    "                \"3123D78\",\n",
    "                \"3123D7E\",\n",
    "                \"3124E4A\",\n",
    "            ],\n",
    "            \"domains\": [32, 38, 8, 44, 14, 50, 20, 26],\n",
    "            \"num_examples_per_domain_per_label\": 2000,\n",
    "            \"pickle_path\": \"/root/csc500-main/datasets/oracle.Run1_framed_2000Examples_stratified_ds.2022A.pkl\",\n",
    "            \"source_or_target_dataset\": \"source\",\n",
    "            \"x_transforms\": [\n",
    "                \"unit_mag\",\n",
    "                \"jitter_256_10\",\n",
    "                \"take_200\",\n",
    "                \"resample_20Msps_to_25Msps\",\n",
    "            ],\n",
    "            \"episode_transforms\": [],\n",
    "            \"domain_prefix\": \"O_\",\n",
    "        },\n",
    "    ],\n",
    "    \"seed\": 420,\n",
    "    \"dataset_seed\": 420,\n",
    "}\n"
   ]
  },
  {
   "cell_type": "code",
   "execution_count": 5,
   "id": "8fa1cc33",
   "metadata": {
    "execution": {
     "iopub.execute_input": "2022-03-28T10:05:22.420233Z",
     "iopub.status.busy": "2022-03-28T10:05:22.419856Z",
     "iopub.status.idle": "2022-03-28T10:05:22.437048Z",
     "shell.execute_reply": "2022-03-28T10:05:22.436329Z"
    },
    "papermill": {
     "duration": 0.041329,
     "end_time": "2022-03-28T10:05:22.437205",
     "exception": false,
     "start_time": "2022-03-28T10:05:22.395876",
     "status": "completed"
    },
    "tags": []
   },
   "outputs": [],
   "source": [
    "# Set this to True if you want to run this template directly\n",
    "STANDALONE = False\n",
    "if STANDALONE:\n",
    "    print(\"parameters not injected, running with standalone_parameters\")\n",
    "    parameters = standalone_parameters\n",
    "\n",
    "if not 'parameters' in locals() and not 'parameters' in globals():\n",
    "    raise Exception(\"Parameter injection failed\")\n",
    "\n",
    "#Use an easy dict for all the parameters\n",
    "p = EasyDict(parameters)\n",
    "\n",
    "if \"x_shape\" not in p:\n",
    "    p.x_shape = [2,256] # Default to this if we dont supply x_shape\n",
    "\n",
    "\n",
    "supplied_keys = set(p.keys())\n",
    "\n",
    "if  supplied_keys != required_parameters:\n",
    "    print(\"Parameters are incorrect\")\n",
    "    if len(supplied_keys - required_parameters)>0: print(\"Shouldn't have:\", str(supplied_keys - required_parameters))\n",
    "    if len(required_parameters - supplied_keys)>0: print(\"Need to have:\", str(required_parameters - supplied_keys))\n",
    "    raise RuntimeError(\"Parameters are incorrect\")"
   ]
  },
  {
   "cell_type": "code",
   "execution_count": 6,
   "id": "3a028d58",
   "metadata": {
    "execution": {
     "iopub.execute_input": "2022-03-28T10:05:22.484035Z",
     "iopub.status.busy": "2022-03-28T10:05:22.483658Z",
     "iopub.status.idle": "2022-03-28T10:05:22.504300Z",
     "shell.execute_reply": "2022-03-28T10:05:22.503583Z"
    },
    "papermill": {
     "duration": 0.043582,
     "end_time": "2022-03-28T10:05:22.504456",
     "exception": false,
     "start_time": "2022-03-28T10:05:22.460874",
     "status": "completed"
    },
    "tags": []
   },
   "outputs": [],
   "source": [
    "###################################\n",
    "# Set the RNGs and make it all deterministic\n",
    "###################################\n",
    "np.random.seed(p.seed)\n",
    "random.seed(p.seed)\n",
    "torch.manual_seed(p.seed)\n",
    "\n",
    "torch.use_deterministic_algorithms(True) "
   ]
  },
  {
   "cell_type": "code",
   "execution_count": 7,
   "id": "b691acf6",
   "metadata": {
    "execution": {
     "iopub.execute_input": "2022-03-28T10:05:22.553056Z",
     "iopub.status.busy": "2022-03-28T10:05:22.552689Z",
     "iopub.status.idle": "2022-03-28T10:05:22.573962Z",
     "shell.execute_reply": "2022-03-28T10:05:22.573249Z"
    },
    "papermill": {
     "duration": 0.045156,
     "end_time": "2022-03-28T10:05:22.574117",
     "exception": false,
     "start_time": "2022-03-28T10:05:22.528961",
     "status": "completed"
    },
    "tags": []
   },
   "outputs": [],
   "source": [
    "###########################################\n",
    "# The stratified datasets honor this\n",
    "###########################################\n",
    "torch.set_default_dtype(eval(p.torch_default_dtype))"
   ]
  },
  {
   "cell_type": "code",
   "execution_count": 8,
   "id": "b5fba671",
   "metadata": {
    "execution": {
     "iopub.execute_input": "2022-03-28T10:05:22.622613Z",
     "iopub.status.busy": "2022-03-28T10:05:22.622246Z",
     "iopub.status.idle": "2022-03-28T10:05:22.672469Z",
     "shell.execute_reply": "2022-03-28T10:05:22.671751Z"
    },
    "papermill": {
     "duration": 0.072969,
     "end_time": "2022-03-28T10:05:22.672627",
     "exception": false,
     "start_time": "2022-03-28T10:05:22.599658",
     "status": "completed"
    },
    "tags": []
   },
   "outputs": [],
   "source": [
    "###################################\n",
    "# Build the network(s)\n",
    "# Note: It's critical to do this AFTER setting the RNG\n",
    "###################################\n",
    "x_net = build_sequential(p.x_net)"
   ]
  },
  {
   "cell_type": "code",
   "execution_count": 9,
   "id": "5d7e61cc",
   "metadata": {
    "execution": {
     "iopub.execute_input": "2022-03-28T10:05:22.726493Z",
     "iopub.status.busy": "2022-03-28T10:05:22.725937Z",
     "iopub.status.idle": "2022-03-28T10:05:22.750911Z",
     "shell.execute_reply": "2022-03-28T10:05:22.750196Z"
    },
    "papermill": {
     "duration": 0.04963,
     "end_time": "2022-03-28T10:05:22.751067",
     "exception": false,
     "start_time": "2022-03-28T10:05:22.701437",
     "status": "completed"
    },
    "tags": []
   },
   "outputs": [],
   "source": [
    "start_time_secs = time.time()"
   ]
  },
  {
   "cell_type": "code",
   "execution_count": 10,
   "id": "c6b67dfd",
   "metadata": {
    "execution": {
     "iopub.execute_input": "2022-03-28T10:05:22.803273Z",
     "iopub.status.busy": "2022-03-28T10:05:22.802904Z",
     "iopub.status.idle": "2022-03-28T10:05:22.825005Z",
     "shell.execute_reply": "2022-03-28T10:05:22.825685Z"
    },
    "papermill": {
     "duration": 0.047089,
     "end_time": "2022-03-28T10:05:22.825866",
     "exception": false,
     "start_time": "2022-03-28T10:05:22.778777",
     "status": "completed"
    },
    "tags": []
   },
   "outputs": [],
   "source": [
    "p.domains_source = []\n",
    "p.domains_target = []\n",
    "\n",
    "\n",
    "train_original_source = []\n",
    "val_original_source   = []\n",
    "test_original_source  = []\n",
    "\n",
    "train_original_target = []\n",
    "val_original_target   = []\n",
    "test_original_target  = []"
   ]
  },
  {
   "cell_type": "code",
   "execution_count": 11,
   "id": "e3d9c3d3",
   "metadata": {
    "execution": {
     "iopub.execute_input": "2022-03-28T10:05:22.876129Z",
     "iopub.status.busy": "2022-03-28T10:05:22.875759Z",
     "iopub.status.idle": "2022-03-28T10:05:22.897991Z",
     "shell.execute_reply": "2022-03-28T10:05:22.897236Z"
    },
    "papermill": {
     "duration": 0.045646,
     "end_time": "2022-03-28T10:05:22.898148",
     "exception": false,
     "start_time": "2022-03-28T10:05:22.852502",
     "status": "completed"
    },
    "tags": []
   },
   "outputs": [],
   "source": [
    "# global_x_transform_func = lambda x: normalize(x.to(torch.get_default_dtype()), \"unit_power\") # unit_power, unit_mag\n",
    "# global_x_transform_func = lambda x: normalize(x, \"unit_power\") # unit_power, unit_mag"
   ]
  },
  {
   "cell_type": "code",
   "execution_count": 12,
   "id": "acb78fd2",
   "metadata": {
    "execution": {
     "iopub.execute_input": "2022-03-28T10:05:22.951283Z",
     "iopub.status.busy": "2022-03-28T10:05:22.950846Z",
     "iopub.status.idle": "2022-03-28T10:05:22.968825Z",
     "shell.execute_reply": "2022-03-28T10:05:22.969504Z"
    },
    "papermill": {
     "duration": 0.045603,
     "end_time": "2022-03-28T10:05:22.969683",
     "exception": false,
     "start_time": "2022-03-28T10:05:22.924080",
     "status": "completed"
    },
    "tags": []
   },
   "outputs": [],
   "source": [
    "def add_dataset(\n",
    "    labels,\n",
    "    domains,\n",
    "    pickle_path,\n",
    "    x_transforms,\n",
    "    episode_transforms,\n",
    "    domain_prefix,\n",
    "    num_examples_per_domain_per_label,\n",
    "    source_or_target_dataset:str,\n",
    "    iterator_seed=p.seed,\n",
    "    dataset_seed=p.dataset_seed,\n",
    "    n_shot=p.n_shot,\n",
    "    n_way=p.n_way,\n",
    "    n_query=p.n_query,\n",
    "    train_val_test_k_factors=(p.train_k_factor,p.val_k_factor,p.test_k_factor),\n",
    "):\n",
    "   \n",
    "    if x_transforms == []: x_transform = None\n",
    "    else: x_transform = get_chained_transform(x_transforms)\n",
    "    \n",
    "    if episode_transforms == []: episode_transform = None\n",
    "    else: raise Exception(\"episode_transforms not implemented\")\n",
    "    \n",
    "    episode_transform = lambda tup, _prefix=domain_prefix: (_prefix + str(tup[0]), tup[1])\n",
    "\n",
    "\n",
    "    eaf = Episodic_Accessor_Factory(\n",
    "        labels=labels,\n",
    "        domains=domains,\n",
    "        num_examples_per_domain_per_label=num_examples_per_domain_per_label,\n",
    "        iterator_seed=iterator_seed,\n",
    "        dataset_seed=dataset_seed,\n",
    "        n_shot=n_shot,\n",
    "        n_way=n_way,\n",
    "        n_query=n_query,\n",
    "        train_val_test_k_factors=train_val_test_k_factors,\n",
    "        pickle_path=pickle_path,\n",
    "        x_transform_func=x_transform,\n",
    "    )\n",
    "\n",
    "    train, val, test = eaf.get_train(), eaf.get_val(), eaf.get_test()\n",
    "    train = Lazy_Iterable_Wrapper(train, episode_transform)\n",
    "    val = Lazy_Iterable_Wrapper(val, episode_transform)\n",
    "    test = Lazy_Iterable_Wrapper(test, episode_transform)\n",
    "\n",
    "    if source_or_target_dataset==\"source\":\n",
    "        train_original_source.append(train)\n",
    "        val_original_source.append(val)\n",
    "        test_original_source.append(test)\n",
    "\n",
    "        p.domains_source.extend(\n",
    "            [domain_prefix + str(u) for u in domains]\n",
    "        )\n",
    "    elif source_or_target_dataset==\"target\":\n",
    "        train_original_target.append(train)\n",
    "        val_original_target.append(val)\n",
    "        test_original_target.append(test)\n",
    "        p.domains_target.extend(\n",
    "            [domain_prefix + str(u) for u in domains]\n",
    "        )\n",
    "    else:\n",
    "        raise Exception(f\"invalid source_or_target_dataset: {source_or_target_dataset}\")\n",
    "    "
   ]
  },
  {
   "cell_type": "code",
   "execution_count": 13,
   "id": "fe266617",
   "metadata": {
    "execution": {
     "iopub.execute_input": "2022-03-28T10:05:23.020391Z",
     "iopub.status.busy": "2022-03-28T10:05:23.020026Z",
     "iopub.status.idle": "2022-03-28T10:07:13.161255Z",
     "shell.execute_reply": "2022-03-28T10:07:13.160465Z"
    },
    "papermill": {
     "duration": 110.1653,
     "end_time": "2022-03-28T10:07:13.161440",
     "exception": false,
     "start_time": "2022-03-28T10:05:22.996140",
     "status": "completed"
    },
    "tags": []
   },
   "outputs": [],
   "source": [
    "for ds in p.datasets:\n",
    "    add_dataset(**ds)"
   ]
  },
  {
   "cell_type": "code",
   "execution_count": 14,
   "id": "b90d65ac",
   "metadata": {
    "execution": {
     "iopub.execute_input": "2022-03-28T10:07:13.211536Z",
     "iopub.status.busy": "2022-03-28T10:07:13.210803Z",
     "iopub.status.idle": "2022-03-28T10:07:13.238007Z",
     "shell.execute_reply": "2022-03-28T10:07:13.237294Z"
    },
    "papermill": {
     "duration": 0.051456,
     "end_time": "2022-03-28T10:07:13.238173",
     "exception": false,
     "start_time": "2022-03-28T10:07:13.186717",
     "status": "completed"
    },
    "tags": []
   },
   "outputs": [],
   "source": [
    "# from steves_utils.CORES.utils import (\n",
    "#     ALL_NODES,\n",
    "#     ALL_NODES_MINIMUM_1000_EXAMPLES,\n",
    "#     ALL_DAYS\n",
    "# )\n",
    "\n",
    "# add_dataset(\n",
    "#     labels=ALL_NODES,\n",
    "#     domains = ALL_DAYS,\n",
    "#     num_examples_per_domain_per_label=100,\n",
    "#     pickle_path=os.path.join(get_datasets_base_path(), \"cores.stratified_ds.2022A.pkl\"),\n",
    "#     source_or_target_dataset=\"target\",\n",
    "#     x_transform_func=global_x_transform_func,\n",
    "#     domain_modifier=lambda u: f\"cores_{u}\"\n",
    "# )"
   ]
  },
  {
   "cell_type": "code",
   "execution_count": 15,
   "id": "76db484d",
   "metadata": {
    "execution": {
     "iopub.execute_input": "2022-03-28T10:07:13.288105Z",
     "iopub.status.busy": "2022-03-28T10:07:13.287633Z",
     "iopub.status.idle": "2022-03-28T10:07:13.314030Z",
     "shell.execute_reply": "2022-03-28T10:07:13.313202Z"
    },
    "papermill": {
     "duration": 0.050337,
     "end_time": "2022-03-28T10:07:13.314193",
     "exception": false,
     "start_time": "2022-03-28T10:07:13.263856",
     "status": "completed"
    },
    "tags": []
   },
   "outputs": [],
   "source": [
    "# from steves_utils.ORACLE.utils_v2 import (\n",
    "#     ALL_DISTANCES_FEET,\n",
    "#     ALL_RUNS,\n",
    "#     ALL_SERIAL_NUMBERS,\n",
    "# )\n",
    "\n",
    "\n",
    "# add_dataset(\n",
    "#     labels=ALL_SERIAL_NUMBERS,\n",
    "#     domains = list(set(ALL_DISTANCES_FEET) - {2,62}),\n",
    "#     num_examples_per_domain_per_label=100,\n",
    "#     pickle_path=os.path.join(get_datasets_base_path(), \"oracle.Run2_framed_2000Examples_stratified_ds.2022A.pkl\"),\n",
    "#     source_or_target_dataset=\"source\",\n",
    "#     x_transform_func=global_x_transform_func,\n",
    "#     domain_modifier=lambda u: f\"oracle1_{u}\"\n",
    "# )\n"
   ]
  },
  {
   "cell_type": "code",
   "execution_count": 16,
   "id": "97dea9d2",
   "metadata": {
    "execution": {
     "iopub.execute_input": "2022-03-28T10:07:13.364583Z",
     "iopub.status.busy": "2022-03-28T10:07:13.364198Z",
     "iopub.status.idle": "2022-03-28T10:07:13.387901Z",
     "shell.execute_reply": "2022-03-28T10:07:13.387039Z"
    },
    "papermill": {
     "duration": 0.047986,
     "end_time": "2022-03-28T10:07:13.388074",
     "exception": false,
     "start_time": "2022-03-28T10:07:13.340088",
     "status": "completed"
    },
    "tags": []
   },
   "outputs": [],
   "source": [
    "# from steves_utils.ORACLE.utils_v2 import (\n",
    "#     ALL_DISTANCES_FEET,\n",
    "#     ALL_RUNS,\n",
    "#     ALL_SERIAL_NUMBERS,\n",
    "# )\n",
    "\n",
    "\n",
    "# add_dataset(\n",
    "#     labels=ALL_SERIAL_NUMBERS,\n",
    "#     domains = list(set(ALL_DISTANCES_FEET) - {2,62,56}),\n",
    "#     num_examples_per_domain_per_label=100,\n",
    "#     pickle_path=os.path.join(get_datasets_base_path(), \"oracle.Run2_framed_2000Examples_stratified_ds.2022A.pkl\"),\n",
    "#     source_or_target_dataset=\"source\",\n",
    "#     x_transform_func=global_x_transform_func,\n",
    "#     domain_modifier=lambda u: f\"oracle2_{u}\"\n",
    "# )"
   ]
  },
  {
   "cell_type": "code",
   "execution_count": 17,
   "id": "6f289866",
   "metadata": {
    "execution": {
     "iopub.execute_input": "2022-03-28T10:07:13.441934Z",
     "iopub.status.busy": "2022-03-28T10:07:13.441561Z",
     "iopub.status.idle": "2022-03-28T10:07:13.464512Z",
     "shell.execute_reply": "2022-03-28T10:07:13.463793Z"
    },
    "papermill": {
     "duration": 0.047248,
     "end_time": "2022-03-28T10:07:13.464671",
     "exception": false,
     "start_time": "2022-03-28T10:07:13.417423",
     "status": "completed"
    },
    "tags": []
   },
   "outputs": [],
   "source": [
    "# add_dataset(\n",
    "#     labels=list(range(19)),\n",
    "#     domains = [0,1,2],\n",
    "#     num_examples_per_domain_per_label=100,\n",
    "#     pickle_path=os.path.join(get_datasets_base_path(), \"metehan.stratified_ds.2022A.pkl\"),\n",
    "#     source_or_target_dataset=\"target\",\n",
    "#     x_transform_func=global_x_transform_func,\n",
    "#     domain_modifier=lambda u: f\"met_{u}\"\n",
    "# )"
   ]
  },
  {
   "cell_type": "code",
   "execution_count": 18,
   "id": "86a863c3",
   "metadata": {
    "execution": {
     "iopub.execute_input": "2022-03-28T10:07:13.518011Z",
     "iopub.status.busy": "2022-03-28T10:07:13.517636Z",
     "iopub.status.idle": "2022-03-28T10:07:13.540332Z",
     "shell.execute_reply": "2022-03-28T10:07:13.539614Z"
    },
    "papermill": {
     "duration": 0.046693,
     "end_time": "2022-03-28T10:07:13.540490",
     "exception": false,
     "start_time": "2022-03-28T10:07:13.493797",
     "status": "completed"
    },
    "tags": []
   },
   "outputs": [],
   "source": [
    "# # from steves_utils.wisig.utils import (\n",
    "# #     ALL_NODES_MINIMUM_100_EXAMPLES,\n",
    "# #     ALL_NODES_MINIMUM_500_EXAMPLES,\n",
    "# #     ALL_NODES_MINIMUM_1000_EXAMPLES,\n",
    "# #     ALL_DAYS\n",
    "# # )\n",
    "\n",
    "# import steves_utils.wisig.utils as wisig\n",
    "\n",
    "\n",
    "# add_dataset(\n",
    "#     labels=wisig.ALL_NODES_MINIMUM_100_EXAMPLES,\n",
    "#     domains = wisig.ALL_DAYS,\n",
    "#     num_examples_per_domain_per_label=100,\n",
    "#     pickle_path=os.path.join(get_datasets_base_path(), \"wisig.node3-19.stratified_ds.2022A.pkl\"),\n",
    "#     source_or_target_dataset=\"target\",\n",
    "#     x_transform_func=global_x_transform_func,\n",
    "#     domain_modifier=lambda u: f\"wisig_{u}\"\n",
    "# )"
   ]
  },
  {
   "cell_type": "code",
   "execution_count": 19,
   "id": "fd5442bc",
   "metadata": {
    "execution": {
     "iopub.execute_input": "2022-03-28T10:07:13.596187Z",
     "iopub.status.busy": "2022-03-28T10:07:13.595797Z",
     "iopub.status.idle": "2022-03-28T10:07:13.613973Z",
     "shell.execute_reply": "2022-03-28T10:07:13.613252Z"
    },
    "papermill": {
     "duration": 0.044522,
     "end_time": "2022-03-28T10:07:13.614131",
     "exception": false,
     "start_time": "2022-03-28T10:07:13.569609",
     "status": "completed"
    },
    "tags": []
   },
   "outputs": [],
   "source": [
    "###################################\n",
    "# Build the dataset\n",
    "###################################\n",
    "train_original_source = Iterable_Aggregator(train_original_source, p.seed)\n",
    "val_original_source = Iterable_Aggregator(val_original_source, p.seed)\n",
    "test_original_source = Iterable_Aggregator(test_original_source, p.seed)\n",
    "\n",
    "\n",
    "train_original_target = Iterable_Aggregator(train_original_target, p.seed)\n",
    "val_original_target = Iterable_Aggregator(val_original_target, p.seed)\n",
    "test_original_target = Iterable_Aggregator(test_original_target, p.seed)\n",
    "\n",
    "# For CNN We only use X and Y. And we only train on the source.\n",
    "# Properly form the data using a transform lambda and Lazy_Iterable_Wrapper. Finally wrap them in a dataloader\n",
    "\n",
    "transform_lambda = lambda ex: ex[1] # Original is (<domain>, <episode>) so we strip down to episode only\n",
    "\n",
    "train_processed_source = Lazy_Iterable_Wrapper(train_original_source, transform_lambda)\n",
    "val_processed_source   = Lazy_Iterable_Wrapper(val_original_source, transform_lambda)\n",
    "test_processed_source  = Lazy_Iterable_Wrapper(test_original_source, transform_lambda)\n",
    "\n",
    "train_processed_target = Lazy_Iterable_Wrapper(train_original_target, transform_lambda)\n",
    "val_processed_target   = Lazy_Iterable_Wrapper(val_original_target, transform_lambda)\n",
    "test_processed_target  = Lazy_Iterable_Wrapper(test_original_target, transform_lambda)\n",
    "\n",
    "datasets = EasyDict({\n",
    "    \"source\": {\n",
    "        \"original\": {\"train\":train_original_source, \"val\":val_original_source, \"test\":test_original_source},\n",
    "        \"processed\": {\"train\":train_processed_source, \"val\":val_processed_source, \"test\":test_processed_source}\n",
    "    },\n",
    "    \"target\": {\n",
    "        \"original\": {\"train\":train_original_target, \"val\":val_original_target, \"test\":test_original_target},\n",
    "        \"processed\": {\"train\":train_processed_target, \"val\":val_processed_target, \"test\":test_processed_target}\n",
    "    },\n",
    "})"
   ]
  },
  {
   "cell_type": "code",
   "execution_count": 20,
   "id": "5b3c01fc",
   "metadata": {
    "execution": {
     "iopub.execute_input": "2022-03-28T10:07:13.665000Z",
     "iopub.status.busy": "2022-03-28T10:07:13.664431Z",
     "iopub.status.idle": "2022-03-28T10:07:27.592525Z",
     "shell.execute_reply": "2022-03-28T10:07:27.591803Z"
    },
    "papermill": {
     "duration": 13.954109,
     "end_time": "2022-03-28T10:07:27.592690",
     "exception": false,
     "start_time": "2022-03-28T10:07:13.638581",
     "status": "completed"
    },
    "tags": []
   },
   "outputs": [
    {
     "name": "stdout",
     "output_type": "stream",
     "text": [
      "{'O_38', 'O_8', 'O_44', 'O_50', 'O_20', 'O_14', 'O_26', 'O_32'}\n"
     ]
    },
    {
     "name": "stdout",
     "output_type": "stream",
     "text": [
      "{'C_5', 'C_4', 'C_1', 'C_3', 'C_2'}\n"
     ]
    },
    {
     "name": "stdout",
     "output_type": "stream",
     "text": [
      "tensor([[[0., 0., 0.,  ..., 0., 0., 0.],\n",
      "         [0., 0., 0.,  ..., 0., 0., 0.]],\n",
      "\n",
      "        [[0., 0., 0.,  ..., 0., 0., 0.],\n",
      "         [0., 0., 0.,  ..., 0., 0., 0.]],\n",
      "\n",
      "        [[0., 0., 0.,  ..., 0., 0., 0.],\n",
      "         [0., 0., 0.,  ..., 0., 0., 0.]],\n",
      "\n",
      "        ...,\n",
      "\n",
      "        [[0., 0., 0.,  ..., 0., 0., 0.],\n",
      "         [0., 0., 0.,  ..., 0., 0., 0.]],\n",
      "\n",
      "        [[0., 0., 0.,  ..., 0., 0., 0.],\n",
      "         [0., 0., 0.,  ..., 0., 0., 0.]],\n",
      "\n",
      "        [[0., 0., 0.,  ..., 0., 0., 0.],\n",
      "         [0., 0., 0.,  ..., 0., 0., 0.]]])\n"
     ]
    }
   ],
   "source": [
    "from steves_utils.transforms import get_average_magnitude, get_average_power\n",
    "\n",
    "print(set([u for u,_ in val_original_source]))\n",
    "print(set([u for u,_ in val_original_target]))\n",
    "\n",
    "s_x, s_y, q_x, q_y, _ = next(iter(train_processed_source))\n",
    "print(s_x)\n",
    "\n",
    "# for ds in [\n",
    "#     train_processed_source,\n",
    "#     val_processed_source,\n",
    "#     test_processed_source,\n",
    "#     train_processed_target,\n",
    "#     val_processed_target,\n",
    "#     test_processed_target\n",
    "# ]:\n",
    "#     for s_x, s_y, q_x, q_y, _ in ds:\n",
    "#         for X in (s_x, q_x):\n",
    "#             for x in X:\n",
    "#                 assert np.isclose(get_average_magnitude(x.numpy()), 1.0)\n",
    "#                 assert np.isclose(get_average_power(x.numpy()), 1.0)\n",
    "                "
   ]
  },
  {
   "cell_type": "code",
   "execution_count": 21,
   "id": "bbdacba1",
   "metadata": {
    "execution": {
     "iopub.execute_input": "2022-03-28T10:07:27.655665Z",
     "iopub.status.busy": "2022-03-28T10:07:27.654886Z",
     "iopub.status.idle": "2022-03-28T10:07:27.751680Z",
     "shell.execute_reply": "2022-03-28T10:07:27.751996Z"
    },
    "papermill": {
     "duration": 0.128282,
     "end_time": "2022-03-28T10:07:27.752127",
     "exception": false,
     "start_time": "2022-03-28T10:07:27.623845",
     "status": "completed"
    },
    "tags": []
   },
   "outputs": [
    {
     "name": "stdout",
     "output_type": "stream",
     "text": [
      "(2, 256)\n"
     ]
    }
   ],
   "source": [
    "###################################\n",
    "# Build the model\n",
    "###################################\n",
    "# easfsl only wants a tuple for the shape\n",
    "model = Steves_Prototypical_Network(x_net, device=p.device, x_shape=tuple(p.x_shape))\n",
    "optimizer = Adam(params=model.parameters(), lr=p.lr)"
   ]
  },
  {
   "cell_type": "code",
   "execution_count": 22,
   "id": "22b39ac5",
   "metadata": {
    "execution": {
     "iopub.execute_input": "2022-03-28T10:07:27.802377Z",
     "iopub.status.busy": "2022-03-28T10:07:27.802001Z",
     "iopub.status.idle": "2022-03-28T10:22:28.784879Z",
     "shell.execute_reply": "2022-03-28T10:22:28.784533Z"
    },
    "papermill": {
     "duration": 901.010056,
     "end_time": "2022-03-28T10:22:28.784967",
     "exception": false,
     "start_time": "2022-03-28T10:07:27.774911",
     "status": "completed"
    },
    "tags": []
   },
   "outputs": [
    {
     "name": "stdout",
     "output_type": "stream",
     "text": [
      "epoch: 1, [batch: 1 / 6720], examples_per_second: 33.8854, train_label_loss: 2.7839, \n"
     ]
    },
    {
     "name": "stdout",
     "output_type": "stream",
     "text": [
      "epoch: 1, [batch: 672 / 6720], examples_per_second: 3857.0615, train_label_loss: 2.8218, \n"
     ]
    },
    {
     "name": "stdout",
     "output_type": "stream",
     "text": [
      "epoch: 1, [batch: 1344 / 6720], examples_per_second: 3793.9708, train_label_loss: 2.7743, \n"
     ]
    },
    {
     "name": "stdout",
     "output_type": "stream",
     "text": [
      "epoch: 1, [batch: 2016 / 6720], examples_per_second: 3844.7367, train_label_loss: 2.7477, \n"
     ]
    },
    {
     "name": "stdout",
     "output_type": "stream",
     "text": [
      "epoch: 1, [batch: 2688 / 6720], examples_per_second: 4027.5312, train_label_loss: 1.4728, \n"
     ]
    },
    {
     "name": "stdout",
     "output_type": "stream",
     "text": [
      "epoch: 1, [batch: 3360 / 6720], examples_per_second: 3932.2882, train_label_loss: 1.2166, \n"
     ]
    },
    {
     "name": "stdout",
     "output_type": "stream",
     "text": [
      "epoch: 1, [batch: 4032 / 6720], examples_per_second: 3901.9477, train_label_loss: 1.9309, \n"
     ]
    },
    {
     "name": "stdout",
     "output_type": "stream",
     "text": [
      "epoch: 1, [batch: 4704 / 6720], examples_per_second: 4125.2940, train_label_loss: 1.3092, \n"
     ]
    },
    {
     "name": "stdout",
     "output_type": "stream",
     "text": [
      "epoch: 1, [batch: 5376 / 6720], examples_per_second: 4447.3446, train_label_loss: 1.8499, \n"
     ]
    },
    {
     "name": "stdout",
     "output_type": "stream",
     "text": [
      "epoch: 1, [batch: 6048 / 6720], examples_per_second: 4493.6995, train_label_loss: 0.9057, \n"
     ]
    },
    {
     "name": "stdout",
     "output_type": "stream",
     "text": [
      "=============================================================\n",
      "epoch: 1, source_val_acc_label: 0.6077, target_val_acc_label: 0.6449, source_val_label_loss: 1.2006, target_val_label_loss: 36.2232, \n",
      "=============================================================\n"
     ]
    },
    {
     "name": "stdout",
     "output_type": "stream",
     "text": [
      "New best\n"
     ]
    },
    {
     "name": "stdout",
     "output_type": "stream",
     "text": [
      "epoch: 2, [batch: 1 / 6720], examples_per_second: 4.4837, train_label_loss: 1.4629, \n"
     ]
    },
    {
     "name": "stdout",
     "output_type": "stream",
     "text": [
      "epoch: 2, [batch: 672 / 6720], examples_per_second: 4126.7884, train_label_loss: 1.3287, \n"
     ]
    },
    {
     "name": "stdout",
     "output_type": "stream",
     "text": [
      "epoch: 2, [batch: 1344 / 6720], examples_per_second: 4376.1337, train_label_loss: 0.9338, \n"
     ]
    },
    {
     "name": "stdout",
     "output_type": "stream",
     "text": [
      "epoch: 2, [batch: 2016 / 6720], examples_per_second: 4912.6090, train_label_loss: 0.8823, \n"
     ]
    },
    {
     "name": "stdout",
     "output_type": "stream",
     "text": [
      "epoch: 2, [batch: 2688 / 6720], examples_per_second: 4987.9361, train_label_loss: 0.9137, \n"
     ]
    },
    {
     "name": "stdout",
     "output_type": "stream",
     "text": [
      "epoch: 2, [batch: 3360 / 6720], examples_per_second: 5179.3737, train_label_loss: 0.8792, \n"
     ]
    },
    {
     "name": "stdout",
     "output_type": "stream",
     "text": [
      "epoch: 2, [batch: 4032 / 6720], examples_per_second: 5023.8864, train_label_loss: 0.6765, \n"
     ]
    },
    {
     "name": "stdout",
     "output_type": "stream",
     "text": [
      "epoch: 2, [batch: 4704 / 6720], examples_per_second: 4893.0673, train_label_loss: 0.8263, \n"
     ]
    },
    {
     "name": "stdout",
     "output_type": "stream",
     "text": [
      "epoch: 2, [batch: 5376 / 6720], examples_per_second: 4859.1787, train_label_loss: 1.2463, \n"
     ]
    },
    {
     "name": "stdout",
     "output_type": "stream",
     "text": [
      "epoch: 2, [batch: 6048 / 6720], examples_per_second: 4877.3722, train_label_loss: 0.8084, \n"
     ]
    },
    {
     "name": "stdout",
     "output_type": "stream",
     "text": [
      "=============================================================\n",
      "epoch: 2, source_val_acc_label: 0.6399, target_val_acc_label: 0.8741, source_val_label_loss: 0.9491, target_val_label_loss: 7.6719, \n",
      "=============================================================\n"
     ]
    },
    {
     "name": "stdout",
     "output_type": "stream",
     "text": [
      "New best\n"
     ]
    },
    {
     "name": "stdout",
     "output_type": "stream",
     "text": [
      "epoch: 3, [batch: 1 / 6720], examples_per_second: 5.4066, train_label_loss: 0.5871, \n"
     ]
    },
    {
     "name": "stdout",
     "output_type": "stream",
     "text": [
      "epoch: 3, [batch: 672 / 6720], examples_per_second: 5245.3958, train_label_loss: 1.1493, \n"
     ]
    },
    {
     "name": "stdout",
     "output_type": "stream",
     "text": [
      "epoch: 3, [batch: 1344 / 6720], examples_per_second: 5474.1965, train_label_loss: 1.1710, \n"
     ]
    },
    {
     "name": "stdout",
     "output_type": "stream",
     "text": [
      "epoch: 3, [batch: 2016 / 6720], examples_per_second: 5429.2677, train_label_loss: 0.9361, \n"
     ]
    },
    {
     "name": "stdout",
     "output_type": "stream",
     "text": [
      "epoch: 3, [batch: 2688 / 6720], examples_per_second: 5457.9691, train_label_loss: 0.8070, \n"
     ]
    },
    {
     "name": "stdout",
     "output_type": "stream",
     "text": [
      "epoch: 3, [batch: 3360 / 6720], examples_per_second: 5419.2523, train_label_loss: 0.7553, \n"
     ]
    },
    {
     "name": "stdout",
     "output_type": "stream",
     "text": [
      "epoch: 3, [batch: 4032 / 6720], examples_per_second: 5312.7210, train_label_loss: 0.6133, \n"
     ]
    },
    {
     "name": "stdout",
     "output_type": "stream",
     "text": [
      "epoch: 3, [batch: 4704 / 6720], examples_per_second: 5174.9199, train_label_loss: 0.7170, \n"
     ]
    },
    {
     "name": "stdout",
     "output_type": "stream",
     "text": [
      "epoch: 3, [batch: 5376 / 6720], examples_per_second: 4187.3933, train_label_loss: 0.7613, \n"
     ]
    },
    {
     "name": "stdout",
     "output_type": "stream",
     "text": [
      "epoch: 3, [batch: 6048 / 6720], examples_per_second: 4019.7755, train_label_loss: 0.6507, \n"
     ]
    },
    {
     "name": "stdout",
     "output_type": "stream",
     "text": [
      "=============================================================\n",
      "epoch: 3, source_val_acc_label: 0.6426, target_val_acc_label: 0.8264, source_val_label_loss: 0.9561, target_val_label_loss: 11.8213, \n",
      "=============================================================\n"
     ]
    },
    {
     "name": "stdout",
     "output_type": "stream",
     "text": [
      "epoch: 4, [batch: 1 / 6720], examples_per_second: 4.1257, train_label_loss: 1.0378, \n"
     ]
    },
    {
     "name": "stdout",
     "output_type": "stream",
     "text": [
      "epoch: 4, [batch: 672 / 6720], examples_per_second: 3931.3246, train_label_loss: 1.1643, \n"
     ]
    },
    {
     "name": "stdout",
     "output_type": "stream",
     "text": [
      "epoch: 4, [batch: 1344 / 6720], examples_per_second: 3876.8023, train_label_loss: 0.6191, \n"
     ]
    },
    {
     "name": "stdout",
     "output_type": "stream",
     "text": [
      "epoch: 4, [batch: 2016 / 6720], examples_per_second: 3897.9692, train_label_loss: 0.5646, \n"
     ]
    },
    {
     "name": "stdout",
     "output_type": "stream",
     "text": [
      "epoch: 4, [batch: 2688 / 6720], examples_per_second: 3900.7708, train_label_loss: 1.3888, \n"
     ]
    },
    {
     "name": "stdout",
     "output_type": "stream",
     "text": [
      "epoch: 4, [batch: 3360 / 6720], examples_per_second: 4057.4176, train_label_loss: 1.4187, \n"
     ]
    },
    {
     "name": "stdout",
     "output_type": "stream",
     "text": [
      "epoch: 4, [batch: 4032 / 6720], examples_per_second: 4291.7685, train_label_loss: 0.7361, \n"
     ]
    },
    {
     "name": "stdout",
     "output_type": "stream",
     "text": [
      "epoch: 4, [batch: 4704 / 6720], examples_per_second: 4471.9908, train_label_loss: 0.8216, \n"
     ]
    },
    {
     "name": "stdout",
     "output_type": "stream",
     "text": [
      "epoch: 4, [batch: 5376 / 6720], examples_per_second: 4604.4792, train_label_loss: 0.7961, \n"
     ]
    },
    {
     "name": "stdout",
     "output_type": "stream",
     "text": [
      "epoch: 4, [batch: 6048 / 6720], examples_per_second: 4014.8283, train_label_loss: 0.7808, \n"
     ]
    },
    {
     "name": "stdout",
     "output_type": "stream",
     "text": [
      "=============================================================\n",
      "epoch: 4, source_val_acc_label: 0.6805, target_val_acc_label: 0.8129, source_val_label_loss: 0.8461, target_val_label_loss: 14.7884, \n",
      "=============================================================\n"
     ]
    },
    {
     "name": "stdout",
     "output_type": "stream",
     "text": [
      "epoch: 5, [batch: 1 / 6720], examples_per_second: 4.0675, train_label_loss: 0.7069, \n"
     ]
    },
    {
     "name": "stdout",
     "output_type": "stream",
     "text": [
      "epoch: 5, [batch: 672 / 6720], examples_per_second: 3896.0974, train_label_loss: 1.1501, \n"
     ]
    },
    {
     "name": "stdout",
     "output_type": "stream",
     "text": [
      "epoch: 5, [batch: 1344 / 6720], examples_per_second: 3994.8553, train_label_loss: 0.7666, \n"
     ]
    },
    {
     "name": "stdout",
     "output_type": "stream",
     "text": [
      "epoch: 5, [batch: 2016 / 6720], examples_per_second: 3803.4939, train_label_loss: 0.7721, \n"
     ]
    },
    {
     "name": "stdout",
     "output_type": "stream",
     "text": [
      "epoch: 5, [batch: 2688 / 6720], examples_per_second: 3843.0951, train_label_loss: 1.1473, \n"
     ]
    },
    {
     "name": "stdout",
     "output_type": "stream",
     "text": [
      "epoch: 5, [batch: 3360 / 6720], examples_per_second: 3892.9038, train_label_loss: 0.8583, \n"
     ]
    },
    {
     "name": "stdout",
     "output_type": "stream",
     "text": [
      "epoch: 5, [batch: 4032 / 6720], examples_per_second: 4126.4292, train_label_loss: 0.9214, \n"
     ]
    },
    {
     "name": "stdout",
     "output_type": "stream",
     "text": [
      "epoch: 5, [batch: 4704 / 6720], examples_per_second: 4241.6897, train_label_loss: 0.8003, \n"
     ]
    },
    {
     "name": "stdout",
     "output_type": "stream",
     "text": [
      "epoch: 5, [batch: 5376 / 6720], examples_per_second: 4432.8507, train_label_loss: 0.8778, \n"
     ]
    },
    {
     "name": "stdout",
     "output_type": "stream",
     "text": [
      "epoch: 5, [batch: 6048 / 6720], examples_per_second: 3967.9711, train_label_loss: 0.3809, \n"
     ]
    },
    {
     "name": "stdout",
     "output_type": "stream",
     "text": [
      "=============================================================\n",
      "epoch: 5, source_val_acc_label: 0.7096, target_val_acc_label: 0.7965, source_val_label_loss: 0.7788, target_val_label_loss: 38.8242, \n",
      "=============================================================\n"
     ]
    },
    {
     "name": "stdout",
     "output_type": "stream",
     "text": [
      "epoch: 6, [batch: 1 / 6720], examples_per_second: 4.0373, train_label_loss: 0.3502, \n"
     ]
    },
    {
     "name": "stdout",
     "output_type": "stream",
     "text": [
      "epoch: 6, [batch: 672 / 6720], examples_per_second: 3941.8132, train_label_loss: 0.5548, \n"
     ]
    },
    {
     "name": "stdout",
     "output_type": "stream",
     "text": [
      "epoch: 6, [batch: 1344 / 6720], examples_per_second: 3900.6843, train_label_loss: 1.1476, \n"
     ]
    },
    {
     "name": "stdout",
     "output_type": "stream",
     "text": [
      "epoch: 6, [batch: 2016 / 6720], examples_per_second: 3901.0553, train_label_loss: 1.0655, \n"
     ]
    },
    {
     "name": "stdout",
     "output_type": "stream",
     "text": [
      "epoch: 6, [batch: 2688 / 6720], examples_per_second: 3767.3455, train_label_loss: 0.3934, \n"
     ]
    },
    {
     "name": "stdout",
     "output_type": "stream",
     "text": [
      "epoch: 6, [batch: 3360 / 6720], examples_per_second: 3872.3573, train_label_loss: 0.4480, \n"
     ]
    },
    {
     "name": "stdout",
     "output_type": "stream",
     "text": [
      "epoch: 6, [batch: 4032 / 6720], examples_per_second: 4015.0975, train_label_loss: 0.8844, \n"
     ]
    },
    {
     "name": "stdout",
     "output_type": "stream",
     "text": [
      "epoch: 6, [batch: 4704 / 6720], examples_per_second: 4280.6718, train_label_loss: 0.7342, \n"
     ]
    },
    {
     "name": "stdout",
     "output_type": "stream",
     "text": [
      "epoch: 6, [batch: 5376 / 6720], examples_per_second: 4348.3468, train_label_loss: 1.4279, \n"
     ]
    },
    {
     "name": "stdout",
     "output_type": "stream",
     "text": [
      "epoch: 6, [batch: 6048 / 6720], examples_per_second: 3834.4872, train_label_loss: 0.7867, \n"
     ]
    },
    {
     "name": "stdout",
     "output_type": "stream",
     "text": [
      "=============================================================\n",
      "epoch: 6, source_val_acc_label: 0.7415, target_val_acc_label: 0.7556, source_val_label_loss: 0.7046, target_val_label_loss: 86.0239, \n",
      "=============================================================\n"
     ]
    },
    {
     "name": "stdout",
     "output_type": "stream",
     "text": [
      "Patience (3) exhausted\n"
     ]
    }
   ],
   "source": [
    "###################################\n",
    "# train\n",
    "###################################\n",
    "jig = PTN_Train_Eval_Test_Jig(model, p.BEST_MODEL_PATH, p.device)\n",
    "\n",
    "jig.train(\n",
    "    train_iterable=datasets.source.processed.train,\n",
    "    source_val_iterable=datasets.source.processed.val,\n",
    "    target_val_iterable=datasets.target.processed.val,\n",
    "    num_epochs=p.n_epoch,\n",
    "    num_logs_per_epoch=p.NUM_LOGS_PER_EPOCH,\n",
    "    patience=p.patience,\n",
    "    optimizer=optimizer,\n",
    "    criteria_for_best=p.criteria_for_best,\n",
    ")"
   ]
  },
  {
   "cell_type": "code",
   "execution_count": 23,
   "id": "31e8fabf",
   "metadata": {
    "execution": {
     "iopub.execute_input": "2022-03-28T10:22:28.871360Z",
     "iopub.status.busy": "2022-03-28T10:22:28.870800Z",
     "iopub.status.idle": "2022-03-28T10:22:28.904025Z",
     "shell.execute_reply": "2022-03-28T10:22:28.904703Z"
    },
    "papermill": {
     "duration": 0.079735,
     "end_time": "2022-03-28T10:22:28.904900",
     "exception": false,
     "start_time": "2022-03-28T10:22:28.825165",
     "status": "completed"
    },
    "tags": []
   },
   "outputs": [],
   "source": [
    "total_experiment_time_secs = time.time() - start_time_secs"
   ]
  },
  {
   "cell_type": "code",
   "execution_count": 24,
   "id": "87b9595b",
   "metadata": {
    "execution": {
     "iopub.execute_input": "2022-03-28T10:22:29.004034Z",
     "iopub.status.busy": "2022-03-28T10:22:29.003138Z",
     "iopub.status.idle": "2022-03-28T10:25:14.689666Z",
     "shell.execute_reply": "2022-03-28T10:25:14.690353Z"
    },
    "papermill": {
     "duration": 165.738794,
     "end_time": "2022-03-28T10:25:14.690590",
     "exception": false,
     "start_time": "2022-03-28T10:22:28.951796",
     "status": "completed"
    },
    "tags": []
   },
   "outputs": [],
   "source": [
    "###################################\n",
    "# Evaluate the model\n",
    "###################################\n",
    "source_test_label_accuracy, source_test_label_loss = jig.test(datasets.source.processed.test)\n",
    "target_test_label_accuracy, target_test_label_loss = jig.test(datasets.target.processed.test)\n",
    "\n",
    "source_val_label_accuracy, source_val_label_loss = jig.test(datasets.source.processed.val)\n",
    "target_val_label_accuracy, target_val_label_loss = jig.test(datasets.target.processed.val)\n",
    "\n",
    "history = jig.get_history()\n",
    "\n",
    "total_epochs_trained = len(history[\"epoch_indices\"])\n",
    "\n",
    "val_dl = Iterable_Aggregator((datasets.source.original.val,datasets.target.original.val))\n",
    "\n",
    "confusion = ptn_confusion_by_domain_over_dataloader(model, p.device, val_dl)\n",
    "per_domain_accuracy = per_domain_accuracy_from_confusion(confusion)\n",
    "\n",
    "# Add a key to per_domain_accuracy for if it was a source domain\n",
    "for domain, accuracy in per_domain_accuracy.items():\n",
    "    per_domain_accuracy[domain] = {\n",
    "        \"accuracy\": accuracy,\n",
    "        \"source?\": domain in p.domains_source\n",
    "    }\n",
    "\n",
    "# Do an independent accuracy assesment JUST TO BE SURE!\n",
    "# _source_test_label_accuracy = independent_accuracy_assesment(model, datasets.source.processed.test, p.device)\n",
    "# _target_test_label_accuracy = independent_accuracy_assesment(model, datasets.target.processed.test, p.device)\n",
    "# _source_val_label_accuracy = independent_accuracy_assesment(model, datasets.source.processed.val, p.device)\n",
    "# _target_val_label_accuracy = independent_accuracy_assesment(model, datasets.target.processed.val, p.device)\n",
    "\n",
    "# assert(_source_test_label_accuracy == source_test_label_accuracy)\n",
    "# assert(_target_test_label_accuracy == target_test_label_accuracy)\n",
    "# assert(_source_val_label_accuracy == source_val_label_accuracy)\n",
    "# assert(_target_val_label_accuracy == target_val_label_accuracy)\n",
    "\n",
    "experiment = {\n",
    "    \"experiment_name\": p.experiment_name,\n",
    "    \"parameters\": dict(p),\n",
    "    \"results\": {\n",
    "        \"source_test_label_accuracy\": source_test_label_accuracy,\n",
    "        \"source_test_label_loss\": source_test_label_loss,\n",
    "        \"target_test_label_accuracy\": target_test_label_accuracy,\n",
    "        \"target_test_label_loss\": target_test_label_loss,\n",
    "        \"source_val_label_accuracy\": source_val_label_accuracy,\n",
    "        \"source_val_label_loss\": source_val_label_loss,\n",
    "        \"target_val_label_accuracy\": target_val_label_accuracy,\n",
    "        \"target_val_label_loss\": target_val_label_loss,\n",
    "        \"total_epochs_trained\": total_epochs_trained,\n",
    "        \"total_experiment_time_secs\": total_experiment_time_secs,\n",
    "        \"confusion\": confusion,\n",
    "        \"per_domain_accuracy\": per_domain_accuracy,\n",
    "    },\n",
    "    \"history\": history,\n",
    "    \"dataset_metrics\": get_dataset_metrics(datasets, \"ptn\"),\n",
    "}"
   ]
  },
  {
   "cell_type": "code",
   "execution_count": 25,
   "id": "54a21829",
   "metadata": {
    "execution": {
     "iopub.execute_input": "2022-03-28T10:25:14.784656Z",
     "iopub.status.busy": "2022-03-28T10:25:14.782898Z",
     "iopub.status.idle": "2022-03-28T10:25:14.998442Z",
     "shell.execute_reply": "2022-03-28T10:25:14.999216Z"
    },
    "papermill": {
     "duration": 0.261284,
     "end_time": "2022-03-28T10:25:14.999458",
     "exception": false,
     "start_time": "2022-03-28T10:25:14.738174",
     "status": "completed"
    },
    "tags": []
   },
   "outputs": [
    {
     "data": {
      "image/png": "[encoded data removed]",
      "text/plain": [
       "<Figure size 1080x504 with 1 Axes>"
      ]
     },
     "metadata": {
      "needs_background": "light"
     },
     "output_type": "display_data"
    }
   ],
   "source": [
    "ax = get_loss_curve(experiment)\n",
    "plt.show()"
   ]
  },
  {
   "cell_type": "code",
   "execution_count": 26,
   "id": "fd8a0f60",
   "metadata": {
    "execution": {
     "iopub.execute_input": "2022-03-28T10:25:15.094070Z",
     "iopub.status.busy": "2022-03-28T10:25:15.093695Z",
     "iopub.status.idle": "2022-03-28T10:25:15.477250Z",
     "shell.execute_reply": "2022-03-28T10:25:15.477931Z"
    },
    "papermill": {
     "duration": 0.429958,
     "end_time": "2022-03-28T10:25:15.478127",
     "exception": false,
     "start_time": "2022-03-28T10:25:15.048169",
     "status": "completed"
    },
    "tags": []
   },
   "outputs": [
    {
     "data": {
      "text/plain": [
       "<AxesSubplot:title={'center':'Results'}>"
      ]
     },
     "execution_count": 26,
     "metadata": {},
     "output_type": "execute_result"
    },
    {
     "data": {
      "image/png": "[encoded data removed]",
      "text/plain": [
       "<Figure size 1080x504 with 1 Axes>"
      ]
     },
     "metadata": {
      "needs_background": "light"
     },
     "output_type": "display_data"
    }
   ],
   "source": [
    "get_results_table(experiment)"
   ]
  },
  {
   "cell_type": "code",
   "execution_count": 27,
   "id": "cf8dc689",
   "metadata": {
    "execution": {
     "iopub.execute_input": "2022-03-28T10:25:15.574263Z",
     "iopub.status.busy": "2022-03-28T10:25:15.573700Z",
     "iopub.status.idle": "2022-03-28T10:25:15.811677Z",
     "shell.execute_reply": "2022-03-28T10:25:15.812374Z"
    },
    "papermill": {
     "duration": 0.28589,
     "end_time": "2022-03-28T10:25:15.812598",
     "exception": false,
     "start_time": "2022-03-28T10:25:15.526708",
     "status": "completed"
    },
    "tags": []
   },
   "outputs": [
    {
     "data": {
      "text/plain": [
       "<AxesSubplot:title={'center':'Per Domain Validation Accuracy'}, xlabel='domain'>"
      ]
     },
     "execution_count": 27,
     "metadata": {},
     "output_type": "execute_result"
    },
    {
     "data": {
      "image/png": "[encoded data removed]",
      "text/plain": [
       "<Figure size 1080x504 with 1 Axes>"
      ]
     },
     "metadata": {
      "needs_background": "light"
     },
     "output_type": "display_data"
    }
   ],
   "source": [
    "get_domain_accuracies(experiment)"
   ]
  },
  {
   "cell_type": "code",
   "execution_count": 28,
   "id": "a74ae082",
   "metadata": {
    "execution": {
     "iopub.execute_input": "2022-03-28T10:25:15.911803Z",
     "iopub.status.busy": "2022-03-28T10:25:15.911412Z",
     "iopub.status.idle": "2022-03-28T10:25:15.938057Z",
     "shell.execute_reply": "2022-03-28T10:25:15.937337Z"
    },
    "papermill": {
     "duration": 0.075338,
     "end_time": "2022-03-28T10:25:15.938217",
     "exception": false,
     "start_time": "2022-03-28T10:25:15.862879",
     "status": "completed"
    },
    "tags": []
   },
   "outputs": [
    {
     "name": "stdout",
     "output_type": "stream",
     "text": [
      "Source Test Label Accuracy: 0.6444010416666667 Target Test Label Accuracy: 0.8729190180586908\n",
      "Source Val Label Accuracy: 0.6399088541666667 Target Val Label Accuracy: 0.8741071428571429\n"
     ]
    }
   ],
   "source": [
    "print(\"Source Test Label Accuracy:\", experiment[\"results\"][\"source_test_label_accuracy\"], \"Target Test Label Accuracy:\", experiment[\"results\"][\"target_test_label_accuracy\"])\n",
    "print(\"Source Val Label Accuracy:\", experiment[\"results\"][\"source_val_label_accuracy\"], \"Target Val Label Accuracy:\", experiment[\"results\"][\"target_val_label_accuracy\"])"
   ]
  },
  {
   "cell_type": "code",
   "execution_count": 29,
   "id": "dacca602",
   "metadata": {
    "execution": {
     "iopub.execute_input": "2022-03-28T10:25:16.035965Z",
     "iopub.status.busy": "2022-03-28T10:25:16.035592Z",
     "iopub.status.idle": "2022-03-28T10:25:16.060864Z",
     "shell.execute_reply": "2022-03-28T10:25:16.061545Z"
    },
    "papermill": {
     "duration": 0.074573,
     "end_time": "2022-03-28T10:25:16.061731",
     "exception": false,
     "start_time": "2022-03-28T10:25:15.987158",
     "status": "completed"
    },
    "tags": [
     "experiment_json"
    ]
   },
   "outputs": [
    {
     "data": {
      "text/plain": [
       "'{\"experiment_name\": \"tl_3-jitter10v2:oracle.run1.framed -> cores\", \"parameters\": {\"experiment_name\": \"tl_3-jitter10v2:oracle.run1.framed -> cores\", \"device\": \"cuda\", \"lr\": 0.0001, \"x_shape\": [2, 256], \"n_shot\": 3, \"n_query\": 2, \"train_k_factor\": 3, \"val_k_factor\": 2, \"test_k_factor\": 2, \"torch_default_dtype\": \"torch.float32\", \"n_epoch\": 50, \"patience\": 3, \"criteria_for_best\": \"target_accuracy\", \"x_net\": [{\"class\": \"nnReshape\", \"kargs\": {\"shape\": [-1, 1, 2, 256]}}, {\"class\": \"Conv2d\", \"kargs\": {\"in_channels\": 1, \"out_channels\": 256, \"kernel_size\": [1, 7], \"bias\": false, \"padding\": [0, 3]}}, {\"class\": \"ReLU\", \"kargs\": {\"inplace\": true}}, {\"class\": \"BatchNorm2d\", \"kargs\": {\"num_features\": 256}}, {\"class\": \"Conv2d\", \"kargs\": {\"in_channels\": 256, \"out_channels\": 80, \"kernel_size\": [2, 7], \"bias\": true, \"padding\": [0, 3]}}, {\"class\": \"ReLU\", \"kargs\": {\"inplace\": true}}, {\"class\": \"BatchNorm2d\", \"kargs\": {\"num_features\": 80}}, {\"class\": \"Flatten\", \"kargs\": {}}, {\"class\": \"Linear\", \"kargs\": {\"in_features\": 20480, \"out_features\": 256}}, {\"class\": \"ReLU\", \"kargs\": {\"inplace\": true}}, {\"class\": \"BatchNorm1d\", \"kargs\": {\"num_features\": 256}}, {\"class\": \"Linear\", \"kargs\": {\"in_features\": 256, \"out_features\": 256}}], \"NUM_LOGS_PER_EPOCH\": 10, \"BEST_MODEL_PATH\": \"./best_model.pth\", \"n_way\": 16, \"datasets\": [{\"labels\": [\"1-10.\", \"1-11.\", \"1-15.\", \"1-16.\", \"1-17.\", \"1-18.\", \"1-19.\", \"10-4.\", \"10-7.\", \"11-1.\", \"11-14.\", \"11-17.\", \"11-20.\", \"11-7.\", \"13-20.\", \"13-8.\", \"14-10.\", \"14-11.\", \"14-14.\", \"14-7.\", \"15-1.\", \"15-20.\", \"16-1.\", \"16-16.\", \"17-10.\", \"17-11.\", \"17-2.\", \"19-1.\", \"19-16.\", \"19-19.\", \"19-20.\", \"19-3.\", \"2-10.\", \"2-11.\", \"2-17.\", \"2-18.\", \"2-20.\", \"2-3.\", \"2-4.\", \"2-5.\", \"2-6.\", \"2-7.\", \"2-8.\", \"3-13.\", \"3-18.\", \"3-3.\", \"4-1.\", \"4-10.\", \"4-11.\", \"4-19.\", \"5-5.\", \"6-15.\", \"7-10.\", \"7-14.\", \"8-18.\", \"8-20.\", \"8-3.\", \"8-8.\"], \"domains\": [1, 2, 3, 4, 5], \"num_examples_per_domain_per_label\": -1, \"pickle_path\": \"/root/csc500-main/datasets/cores.stratified_ds.2022A.pkl\", \"source_or_target_dataset\": \"target\", \"x_transforms\": [\"unit_mag\", \"jitter_256_10\", \"lowpass_+/-10MHz\", \"take_200\"], \"episode_transforms\": [], \"domain_prefix\": \"C_\"}, {\"labels\": [\"3123D52\", \"3123D65\", \"3123D79\", \"3123D80\", \"3123D54\", \"3123D70\", \"3123D7B\", \"3123D89\", \"3123D58\", \"3123D76\", \"3123D7D\", \"3123EFE\", \"3123D64\", \"3123D78\", \"3123D7E\", \"3124E4A\"], \"domains\": [32, 38, 8, 44, 14, 50, 20, 26], \"num_examples_per_domain_per_label\": 2000, \"pickle_path\": \"/root/csc500-main/datasets/oracle.Run1_framed_2000Examples_stratified_ds.2022A.pkl\", \"source_or_target_dataset\": \"source\", \"x_transforms\": [\"unit_mag\", \"jitter_256_10\", \"take_200\", \"resample_20Msps_to_25Msps\"], \"episode_transforms\": [], \"domain_prefix\": \"O_\"}], \"seed\": 420, \"dataset_seed\": 420, \"domains_source\": [\"O_32\", \"O_38\", \"O_8\", \"O_44\", \"O_14\", \"O_50\", \"O_20\", \"O_26\"], \"domains_target\": [\"C_1\", \"C_2\", \"C_3\", \"C_4\", \"C_5\"]}, \"results\": {\"source_test_label_accuracy\": 0.6444010416666667, \"source_test_label_loss\": 0.9474113583564758, \"target_test_label_accuracy\": 0.8729190180586908, \"target_test_label_loss\": 7.600657939910889, \"source_val_label_accuracy\": 0.6399088541666667, \"source_val_label_loss\": 0.9491297006607056, \"target_val_label_accuracy\": 0.8741071428571429, \"target_val_label_loss\": 7.671858310699463, \"total_epochs_trained\": 6, \"total_experiment_time_secs\": 1026.1536242961884, \"confusion\": {\"O_14\": {\"15\": {\"15\": 218, \"7\": 22}, \"5\": {\"5\": 141, \"4\": 58, \"1\": 34, \"7\": 2, \"13\": 1, \"3\": 3, \"2\": 1}, \"7\": {\"7\": 223, \"15\": 16, \"1\": 1}, \"4\": {\"4\": 172, \"3\": 14, \"5\": 31, \"1\": 12, \"2\": 10, \"13\": 1}, \"10\": {\"10\": 198, \"0\": 41, \"11\": 1}, \"11\": {\"11\": 197, \"10\": 24, \"9\": 15, \"0\": 4}, \"12\": {\"12\": 237, \"9\": 3}, \"0\": {\"0\": 162, \"10\": 63, \"3\": 8, \"8\": 2, \"11\": 5}, \"14\": {\"14\": 147, \"13\": 42, \"6\": 27, \"2\": 17, \"3\": 7}, \"8\": {\"8\": 240}, \"13\": {\"6\": 91, \"14\": 60, \"13\": 62, \"2\": 21, \"4\": 3, \"5\": 2, \"15\": 1}, \"6\": {\"2\": 18, \"6\": 108, \"14\": 27, \"13\": 87}, \"1\": {\"1\": 211, \"5\": 26, \"4\": 3}, \"3\": {\"3\": 215, \"4\": 17, \"14\": 7, \"0\": 1}, \"9\": {\"9\": 237, \"12\": 2, \"11\": 1}, \"2\": {\"4\": 27, \"3\": 14, \"2\": 106, \"5\": 17, \"6\": 25, \"13\": 18, \"14\": 26, \"15\": 7}}, \"O_20\": {\"4\": {\"3\": 6, \"4\": 175, \"8\": 40, \"5\": 3, \"12\": 2, \"10\": 14}, \"10\": {\"10\": 159, \"14\": 59, \"8\": 16, \"4\": 4, \"6\": 2}, \"15\": {\"2\": 1, \"15\": 119, \"1\": 51, \"12\": 8, \"0\": 43, \"13\": 7, \"5\": 8, \"9\": 2, \"3\": 1}, \"0\": {\"7\": 1, \"15\": 51, \"1\": 48, \"5\": 51, \"12\": 14, \"3\": 7, \"0\": 61, \"2\": 3, \"9\": 3, \"8\": 1}, \"6\": {\"6\": 213, \"8\": 1, \"14\": 20, \"10\": 3, \"7\": 3}, \"3\": {\"3\": 93, \"15\": 1, \"2\": 13, \"12\": 45, \"5\": 15, \"1\": 7, \"8\": 13, \"9\": 28, \"4\": 11, \"7\": 13, \"0\": 1}, \"7\": {\"7\": 155, \"2\": 45, \"8\": 11, \"9\": 21, \"3\": 7, \"6\": 1}, \"2\": {\"9\": 70, \"7\": 40, \"2\": 94, \"13\": 10, \"15\": 3, \"3\": 12, \"1\": 3, \"12\": 6, \"5\": 1, \"8\": 1}, \"8\": {\"8\": 125, \"4\": 42, \"10\": 23, \"14\": 5, \"3\": 17, \"7\": 23, \"6\": 2, \"9\": 2, \"2\": 1}, \"11\": {\"11\": 240}, \"14\": {\"14\": 156, \"6\": 28, \"10\": 48, \"8\": 8}, \"12\": {\"12\": 72, \"15\": 5, \"5\": 31, \"9\": 24, \"0\": 23, \"2\": 9, \"3\": 54, \"1\": 20, \"4\": 1, \"7\": 1}, \"13\": {\"13\": 207, \"2\": 20, \"15\": 3, \"9\": 7, \"12\": 3}, \"9\": {\"2\": 60, \"3\": 29, \"9\": 73, \"13\": 18, \"12\": 21, \"7\": 31, \"8\": 2, \"1\": 3, \"15\": 1, \"0\": 1, \"5\": 1}, \"5\": {\"12\": 27, \"0\": 43, \"5\": 88, \"1\": 50, \"15\": 18, \"3\": 9, \"9\": 3, \"2\": 1, \"4\": 1}, \"1\": {\"2\": 2, \"15\": 55, \"5\": 33, \"1\": 65, \"0\": 46, \"12\": 29, \"3\": 5, \"9\": 4, \"13\": 1}}, \"O_50\": {\"5\": {\"13\": 50, \"7\": 67, \"5\": 55, \"4\": 25, \"6\": 36, \"1\": 4, \"0\": 1, \"10\": 2}, \"12\": {\"9\": 22, \"12\": 208, \"14\": 8, \"11\": 2}, \"14\": {\"14\": 227, \"11\": 6, \"12\": 7}, \"4\": {\"4\": 68, \"7\": 9, \"15\": 68, \"1\": 50, \"5\": 20, \"6\": 21, \"13\": 4}, \"13\": {\"7\": 61, \"13\": 101, \"5\": 52, \"6\": 14, \"10\": 7, \"4\": 3, \"0\": 2}, \"10\": {\"10\": 204, \"7\": 11, \"5\": 2, \"0\": 10, \"8\": 7, \"13\": 6}, \"9\": {\"9\": 179, \"11\": 37, \"12\": 23, \"14\": 1}, \"15\": {\"15\": 169, \"4\": 24, \"6\": 5, \"11\": 4, \"1\": 37, \"14\": 1}, \"6\": {\"6\": 110, \"5\": 22, \"1\": 21, \"13\": 25, \"4\": 51, \"2\": 2, \"15\": 1, \"10\": 2, \"0\": 4, \"7\": 2}, \"2\": {\"2\": 228, \"0\": 12}, \"0\": {\"0\": 211, \"10\": 12, \"2\": 17}, \"11\": {\"11\": 181, \"9\": 33, \"15\": 13, \"14\": 8, \"1\": 2, \"12\": 3}, \"3\": {\"3\": 234, \"8\": 6}, \"8\": {\"8\": 231, \"3\": 2, \"10\": 7}, \"7\": {\"7\": 150, \"13\": 45, \"5\": 34, \"10\": 10, \"6\": 1}, \"1\": {\"6\": 30, \"1\": 132, \"11\": 2, \"15\": 37, \"4\": 35, \"0\": 2, \"2\": 2}}, \"O_26\": {\"7\": {\"7\": 136, \"2\": 26, \"3\": 33, \"8\": 13, \"4\": 18, \"0\": 5, \"15\": 5, \"14\": 3, \"1\": 1}, \"6\": {\"13\": 7, \"6\": 155, \"8\": 23, \"9\": 19, \"10\": 27, \"0\": 1, \"15\": 6, \"5\": 1, \"7\": 1}, \"14\": {\"1\": 74, \"0\": 35, \"4\": 46, \"10\": 19, \"14\": 54, \"8\": 8, \"7\": 4}, \"15\": {\"15\": 81, \"5\": 41, \"9\": 57, \"13\": 11, \"2\": 14, \"8\": 21, \"6\": 8, \"10\": 2, \"7\": 3, \"0\": 2}, \"5\": {\"13\": 44, \"5\": 107, \"15\": 44, \"9\": 28, \"2\": 15, \"6\": 1, \"7\": 1}, \"10\": {\"10\": 88, \"6\": 20, \"14\": 26, \"0\": 44, \"4\": 14, \"8\": 33, \"1\": 7, \"7\": 4, \"15\": 3, \"9\": 1}, \"4\": {\"14\": 43, \"0\": 39, \"4\": 64, \"8\": 20, \"10\": 13, \"1\": 43, \"7\": 17, \"15\": 1}, \"11\": {\"11\": 231, \"12\": 9}, \"13\": {\"13\": 166, \"5\": 53, \"15\": 7, \"9\": 6, \"2\": 5, \"3\": 1, \"6\": 1, \"7\": 1}, \"2\": {\"15\": 11, \"2\": 82, \"3\": 83, \"5\": 18, \"0\": 1, \"7\": 32, \"9\": 7, \"4\": 1, \"8\": 2, \"13\": 3}, \"0\": {\"4\": 40, \"8\": 26, \"14\": 38, \"0\": 54, \"10\": 45, \"6\": 5, \"1\": 22, \"7\": 9, \"9\": 1}, \"12\": {\"12\": 235, \"11\": 5}, \"3\": {\"3\": 148, \"2\": 60, \"7\": 31, \"4\": 1}, \"9\": {\"9\": 79, \"5\": 24, \"15\": 60, \"7\": 4, \"6\": 23, \"8\": 25, \"10\": 4, \"13\": 14, \"2\": 6, \"4\": 1}, \"8\": {\"15\": 15, \"0\": 27, \"8\": 85, \"10\": 35, \"9\": 13, \"7\": 18, \"4\": 23, \"6\": 15, \"14\": 4, \"5\": 1, \"1\": 2, \"2\": 2}, \"1\": {\"1\": 107, \"14\": 57, \"0\": 19, \"4\": 41, \"7\": 4, \"3\": 2, \"10\": 8, \"8\": 2}}, \"O_32\": {\"7\": {\"7\": 93, \"13\": 16, \"5\": 14, \"0\": 10, \"4\": 36, \"2\": 9, \"14\": 50, \"11\": 10, \"8\": 2}, \"2\": {\"2\": 186, \"0\": 18, \"4\": 31, \"7\": 2, \"14\": 2, \"13\": 1}, \"5\": {\"5\": 49, \"8\": 30, \"13\": 58, \"3\": 18, \"4\": 14, \"7\": 24, \"0\": 25, \"14\": 15, \"11\": 2, \"2\": 5}, \"6\": {\"6\": 240}, \"13\": {\"7\": 28, \"3\": 29, \"5\": 65, \"13\": 62, \"8\": 26, \"2\": 1, \"0\": 11, \"14\": 11, \"11\": 2, \"4\": 5}, \"4\": {\"2\": 39, \"13\": 9, \"7\": 30, \"0\": 61, \"4\": 81, \"8\": 4, \"5\": 12, \"14\": 4}, \"3\": {\"3\": 216, \"13\": 12, \"5\": 6, \"11\": 4, \"14\": 1, \"8\": 1}, \"0\": {\"0\": 93, \"8\": 13, \"2\": 18, \"7\": 14, \"4\": 57, \"5\": 32, \"13\": 13}, \"9\": {\"9\": 237, \"12\": 3}, \"12\": {\"12\": 240}, \"8\": {\"5\": 48, \"8\": 145, \"13\": 25, \"3\": 5, \"4\": 4, \"0\": 11, \"15\": 2}, \"14\": {\"13\": 13, \"14\": 71, \"11\": 71, \"4\": 8, \"5\": 12, \"7\": 53, \"2\": 5, \"0\": 5, \"3\": 1, \"8\": 1}, \"15\": {\"15\": 233, \"3\": 2, \"8\": 5}, \"11\": {\"11\": 189, \"14\": 41, \"4\": 1, \"7\": 5, \"3\": 1, \"5\": 1, \"13\": 2}, \"10\": {\"10\": 239, \"1\": 1}, \"1\": {\"1\": 232, \"10\": 8}}, \"O_44\": {\"11\": {\"11\": 179, \"13\": 36, \"6\": 25}, \"7\": {\"7\": 149, \"9\": 41, \"2\": 41, \"10\": 1, \"6\": 7, \"13\": 1}, \"6\": {\"6\": 152, \"9\": 23, \"11\": 17, \"13\": 36, \"7\": 12}, \"12\": {\"12\": 167, \"1\": 46, \"10\": 24, \"3\": 3}, \"4\": {\"14\": 75, \"4\": 158, \"15\": 4, \"13\": 2, \"11\": 1}, \"13\": {\"13\": 136, \"6\": 40, \"11\": 39, \"9\": 24, \"7\": 1}, \"8\": {\"8\": 163, \"0\": 65, \"5\": 6, \"15\": 6}, \"5\": {\"5\": 204, \"15\": 6, \"0\": 15, \"8\": 2, \"4\": 2, \"14\": 11}, \"14\": {\"15\": 17, \"14\": 140, \"4\": 82, \"5\": 1}, \"3\": {\"1\": 36, \"3\": 202, \"12\": 2}, \"10\": {\"10\": 170, \"2\": 30, \"1\": 22, \"12\": 18}, \"1\": {\"12\": 60, \"1\": 114, \"3\": 31, \"2\": 12, \"10\": 23}, \"2\": {\"2\": 183, \"10\": 18, \"7\": 29, \"1\": 7, \"3\": 1, \"9\": 1, \"6\": 1}, \"15\": {\"15\": 176, \"5\": 10, \"14\": 26, \"0\": 21, \"8\": 6, \"4\": 1}, \"9\": {\"9\": 137, \"2\": 3, \"7\": 44, \"6\": 28, \"13\": 27, \"3\": 1}, \"0\": {\"8\": 70, \"0\": 137, \"15\": 15, \"5\": 18}}, \"O_8\": {\"10\": {\"10\": 146, \"14\": 64, \"4\": 13, \"13\": 13, \"1\": 1, \"5\": 3}, \"6\": {\"7\": 53, \"6\": 115, \"0\": 17, \"4\": 38, \"13\": 13, \"8\": 3, \"14\": 1}, \"13\": {\"13\": 63, \"4\": 40, \"1\": 1, \"0\": 65, \"10\": 35, \"14\": 19, \"6\": 14, \"7\": 3}, \"3\": {\"3\": 195, \"2\": 35, \"12\": 9, \"15\": 1}, \"9\": {\"9\": 240}, \"1\": {\"11\": 99, \"1\": 120, \"5\": 19, \"14\": 2}, \"5\": {\"5\": 200, \"14\": 6, \"1\": 15, \"10\": 7, \"11\": 12}, \"11\": {\"1\": 110, \"11\": 113, \"5\": 14, \"8\": 3}, \"4\": {\"7\": 2, \"14\": 32, \"4\": 104, \"6\": 28, \"13\": 50, \"10\": 17, \"0\": 7}, \"14\": {\"14\": 108, \"10\": 64, \"13\": 19, \"4\": 37, \"5\": 2, \"6\": 4, \"1\": 6}, \"12\": {\"12\": 127, \"15\": 66, \"3\": 40, \"8\": 6, \"2\": 1}, \"7\": {\"7\": 168, \"0\": 13, \"6\": 50, \"8\": 2, \"13\": 2, \"4\": 3, \"15\": 1, \"2\": 1}, \"0\": {\"0\": 147, \"10\": 4, \"13\": 41, \"7\": 20, \"4\": 12, \"6\": 14, \"14\": 2}, \"15\": {\"15\": 167, \"12\": 51, \"7\": 3, \"8\": 17, \"6\": 1, \"2\": 1}, \"2\": {\"2\": 195, \"3\": 31, \"7\": 10, \"15\": 3, \"12\": 1}, \"8\": {\"8\": 229, \"15\": 8, \"6\": 1, \"12\": 1, \"7\": 1}}, \"O_38\": {\"4\": {\"4\": 225, \"12\": 15}, \"7\": {\"7\": 164, \"0\": 51, \"5\": 20, \"8\": 3, \"3\": 2}, \"12\": {\"12\": 202, \"4\": 19, \"10\": 17, \"11\": 2}, \"10\": {\"7\": 2, \"10\": 159, \"8\": 9, \"12\": 31, \"15\": 4, \"2\": 2, \"4\": 1, \"0\": 11, \"13\": 17, \"14\": 3, \"5\": 1}, \"0\": {\"0\": 62, \"7\": 65, \"5\": 41, \"8\": 52, \"9\": 3, \"10\": 5, \"3\": 8, \"15\": 1, \"12\": 3}, \"1\": {\"1\": 232, \"13\": 1, \"15\": 6, \"6\": 1}, \"5\": {\"0\": 27, \"7\": 25, \"13\": 4, \"15\": 6, \"5\": 78, \"3\": 3, \"8\": 59, \"1\": 9, \"6\": 24, \"10\": 2, \"9\": 3}, \"15\": {\"15\": 116, \"1\": 22, \"13\": 71, \"10\": 9, \"8\": 15, \"5\": 7}, \"9\": {\"9\": 120, \"6\": 85, \"3\": 34, \"5\": 1}, \"11\": {\"11\": 186, \"14\": 52, \"10\": 1, \"12\": 1}, \"14\": {\"14\": 175, \"2\": 17, \"11\": 39, \"10\": 6, \"13\": 1, \"12\": 2}, \"6\": {\"9\": 56, \"6\": 180, \"3\": 1, \"5\": 3}, \"8\": {\"5\": 48, \"7\": 12, \"0\": 56, \"8\": 107, \"13\": 5, \"15\": 5, \"10\": 6, \"12\": 1}, \"3\": {\"3\": 188, \"9\": 31, \"7\": 11, \"6\": 4, \"5\": 4, \"0\": 2}, \"2\": {\"2\": 216, \"13\": 6, \"14\": 17, \"15\": 1}, \"13\": {\"13\": 109, \"10\": 26, \"15\": 82, \"2\": 10, \"1\": 7, \"8\": 4, \"5\": 1, \"14\": 1}}, \"C_4\": {\"42\": {\"42\": 30, \"34\": 2}, \"0\": {\"0\": 79, \"2\": 1}, \"1\": {\"1\": 38, \"56\": 2}, \"39\": {\"39\": 19, \"31\": 1}, \"28\": {\"28\": 28, \"17\": 2, \"34\": 2}, \"53\": {\"53\": 122, \"8\": 1, \"50\": 1}, \"19\": {\"19\": 112, \"44\": 10, \"40\": 7, \"29\": 3, \"4\": 4, \"55\": 2, \"45\": 1, \"33\": 1, \"9\": 4}, \"34\": {\"34\": 24}, \"33\": {\"33\": 26, \"48\": 1, \"28\": 3, \"40\": 1, \"35\": 2, \"9\": 1, \"4\": 1, \"54\": 1}, \"32\": {\"46\": 2, \"32\": 22}, \"10\": {\"10\": 119, \"13\": 17}, \"46\": {\"46\": 125, \"5\": 3, \"49\": 3, \"47\": 2, \"32\": 1}, \"20\": {\"20\": 109, \"8\": 4, \"30\": 1, \"6\": 1, \"25\": 2, \"3\": 5}, \"5\": {\"5\": 102, \"23\": 4, \"18\": 2}, \"40\": {\"19\": 19, \"40\": 52, \"29\": 5, \"9\": 13, \"4\": 15, \"45\": 1, \"27\": 3, \"44\": 12, \"25\": 1, \"28\": 1, \"33\": 2}, \"51\": {\"51\": 140, \"20\": 2, \"53\": 2}, \"37\": {\"37\": 24}, \"17\": {\"17\": 49, \"27\": 13, \"30\": 2, \"4\": 4, \"55\": 2, \"9\": 1, \"26\": 2, \"54\": 2, \"45\": 1, \"48\": 1, \"8\": 2, \"40\": 1}, \"45\": {\"9\": 14, \"27\": 10, \"45\": 30, \"44\": 4, \"17\": 8, \"4\": 8, \"40\": 8, \"12\": 3, \"25\": 2, \"30\": 2, \"19\": 4, \"54\": 1, \"21\": 2}, \"13\": {\"13\": 120, \"10\": 20, \"43\": 2}, \"27\": {\"17\": 9, \"27\": 104, \"9\": 12, \"54\": 2, \"48\": 3, \"44\": 2, \"4\": 7, \"45\": 2, \"30\": 1, \"19\": 1, \"40\": 1}, \"24\": {\"24\": 56}, \"30\": {\"30\": 37, \"8\": 3, \"40\": 1, \"25\": 2, \"21\": 1}, \"31\": {\"31\": 28}, \"41\": {\"41\": 34, \"10\": 1, \"13\": 1}, \"36\": {\"36\": 86, \"3\": 5, \"26\": 1}, \"16\": {\"16\": 90, \"15\": 2, \"23\": 1, \"52\": 2, \"18\": 1}, \"22\": {\"22\": 128}, \"44\": {\"44\": 93, \"35\": 1, \"19\": 23, \"57\": 2, \"4\": 3, \"40\": 7, \"29\": 2, \"45\": 1}, \"9\": {\"17\": 3, \"33\": 2, \"26\": 1, \"9\": 85, \"27\": 11, \"4\": 20, \"19\": 2, \"12\": 1, \"54\": 5, \"48\": 2, \"40\": 5, \"25\": 2, \"8\": 1}, \"57\": {\"57\": 98, \"35\": 2}, \"8\": {\"8\": 131, \"50\": 1, \"4\": 1, \"25\": 3, \"20\": 2}, \"23\": {\"23\": 129, \"18\": 3}, \"47\": {\"47\": 120}, \"43\": {\"43\": 138}, \"49\": {\"49\": 16, \"46\": 2, \"32\": 2}, \"3\": {\"3\": 93, \"36\": 12, \"6\": 2, \"50\": 3, \"20\": 5, \"25\": 6, \"53\": 2, \"8\": 1}, \"12\": {\"12\": 57, \"21\": 17, \"8\": 4, \"17\": 2, \"4\": 1, \"27\": 1, \"50\": 6, \"25\": 2, \"51\": 2}, \"38\": {\"38\": 37, \"2\": 2, \"0\": 1}, \"7\": {\"7\": 24}, \"14\": {\"38\": 2, \"57\": 2, \"14\": 6, \"29\": 3, \"0\": 1, \"35\": 2}, \"15\": {\"15\": 143, \"39\": 1, \"23\": 1, \"11\": 1}, \"25\": {\"25\": 84, \"8\": 26, \"44\": 2, \"21\": 3, \"20\": 1, \"3\": 3, \"45\": 1, \"36\": 1, \"50\": 4, \"53\": 2, \"23\": 1}, \"26\": {\"26\": 17, \"55\": 2, \"54\": 2, \"9\": 1, \"48\": 2}, \"21\": {\"21\": 117, \"8\": 4, \"27\": 3, \"12\": 2, \"25\": 3, \"50\": 3}, \"48\": {\"48\": 137, \"28\": 5, \"54\": 2}, \"56\": {\"56\": 134}, \"11\": {\"11\": 102, \"24\": 1, \"15\": 1}, \"2\": {\"38\": 3, \"2\": 33}, \"6\": {\"6\": 102, \"36\": 1, \"3\": 1, \"51\": 2, \"53\": 1, \"20\": 5}, \"55\": {\"55\": 140}, \"54\": {\"54\": 97, \"34\": 2, \"42\": 1, \"48\": 7, \"17\": 1}, \"29\": {\"29\": 122, \"35\": 2}, \"50\": {\"50\": 85, \"25\": 11, \"17\": 1, \"21\": 10, \"8\": 4, \"12\": 2, \"53\": 4, \"3\": 2, \"36\": 1, \"4\": 1, \"20\": 1}, \"52\": {\"52\": 116}, \"35\": {\"35\": 37, \"57\": 3}, \"4\": {\"4\": 57, \"9\": 29, \"44\": 4, \"40\": 6, \"19\": 6, \"27\": 12, \"45\": 1, \"12\": 1, \"33\": 2, \"17\": 2}, \"18\": {\"18\": 106, \"23\": 2}}, \"C_5\": {\"43\": {\"43\": 152}, \"35\": {\"35\": 28, \"56\": 8}, \"54\": {\"54\": 112}, \"22\": {\"22\": 28}, \"16\": {\"16\": 146}, \"5\": {\"5\": 115, \"40\": 5, \"19\": 2, \"45\": 1, \"44\": 2, \"14\": 2, \"17\": 1}, \"28\": {\"28\": 31, \"34\": 1}, \"14\": {\"3\": 7, \"28\": 1, \"36\": 9, \"14\": 13, \"57\": 3, \"40\": 2, \"34\": 3, \"46\": 4, \"2\": 1, \"47\": 1}, \"51\": {\"51\": 126, \"53\": 1, \"50\": 1}, \"19\": {\"5\": 5, \"19\": 118, \"48\": 1, \"36\": 1, \"9\": 3, \"44\": 4, \"17\": 1, \"45\": 2, \"40\": 3, \"27\": 2}, \"31\": {\"31\": 35, \"2\": 1}, \"10\": {\"10\": 68}, \"21\": {\"21\": 136}, \"3\": {\"3\": 82, \"46\": 16, \"49\": 1, \"24\": 1}, \"57\": {\"57\": 132}, \"9\": {\"19\": 2, \"54\": 1, \"9\": 82, \"45\": 11, \"27\": 14, \"32\": 2, \"53\": 1, \"17\": 1, \"48\": 12, \"30\": 4, \"55\": 11, \"40\": 1, \"1\": 2, \"8\": 1, \"5\": 1}, \"8\": {\"8\": 124, \"55\": 1, \"50\": 2, \"6\": 2, \"25\": 3}, \"46\": {\"46\": 132, \"3\": 7, \"49\": 1}, \"23\": {\"23\": 123, \"8\": 1}, \"37\": {\"37\": 24}, \"34\": {\"34\": 32, \"28\": 4}, \"4\": {\"30\": 6, \"4\": 38, \"45\": 19, \"27\": 11, \"12\": 1, \"55\": 3, \"1\": 3, \"17\": 3, \"19\": 3, \"9\": 7, \"6\": 1, \"5\": 3, \"26\": 1, \"32\": 1}, \"6\": {\"8\": 7, \"6\": 110, \"26\": 2, \"25\": 4, \"1\": 3, \"55\": 1, \"30\": 1}, \"48\": {\"48\": 125, \"45\": 3, \"9\": 1, \"55\": 5, \"5\": 1, \"30\": 1}, \"44\": {\"44\": 138}, \"40\": {\"40\": 104, \"30\": 1, \"33\": 2, \"5\": 7, \"29\": 2, \"36\": 2, \"44\": 4, \"19\": 2}, \"12\": {\"12\": 54, \"4\": 2, \"53\": 14, \"8\": 4, \"38\": 2, \"20\": 2, \"40\": 1, \"50\": 4, \"9\": 2, \"30\": 1, \"25\": 3, \"7\": 2, \"26\": 1, \"51\": 4}, \"30\": {\"30\": 107, \"55\": 9, \"17\": 6, \"12\": 1, \"19\": 1, \"48\": 2, \"9\": 1, \"27\": 1}, \"39\": {\"39\": 20}, \"45\": {\"45\": 74, \"9\": 10, \"4\": 1, \"1\": 4, \"32\": 1, \"55\": 6, \"27\": 9, \"48\": 9, \"17\": 4, \"19\": 1, \"54\": 1, \"30\": 4}, \"36\": {\"36\": 91, \"57\": 1}, \"27\": {\"27\": 120, \"9\": 6, \"33\": 1, \"55\": 5, \"48\": 5, \"19\": 3}, \"32\": {\"32\": 32}, \"52\": {\"52\": 129, \"16\": 1}, \"0\": {\"0\": 122, \"56\": 2}, \"26\": {\"26\": 22, \"6\": 2}, \"1\": {\"1\": 143, \"55\": 2, \"9\": 1, \"48\": 1, \"54\": 1}, \"53\": {\"25\": 6, \"53\": 136, \"50\": 1, \"6\": 1, \"38\": 1, \"30\": 1}, \"25\": {\"25\": 105, \"53\": 17, \"18\": 1, \"6\": 3, \"50\": 3, \"8\": 12, \"17\": 1, \"20\": 2}, \"24\": {\"24\": 80}, \"7\": {\"7\": 28, \"8\": 1, \"38\": 2, \"53\": 1}, \"18\": {\"18\": 64}, \"20\": {\"20\": 135, \"50\": 9}, \"33\": {\"33\": 32}, \"55\": {\"55\": 129, \"1\": 2, \"48\": 5, \"9\": 3, \"19\": 1}, \"41\": {\"41\": 25, \"39\": 1, \"1\": 2}, \"42\": {\"42\": 36, \"46\": 1, \"23\": 1, \"18\": 2}, \"49\": {\"49\": 35, \"3\": 1}, \"13\": {\"13\": 141, \"16\": 2, \"11\": 3, \"43\": 1, \"46\": 1}, \"38\": {\"38\": 25, \"6\": 2, \"26\": 1, \"53\": 1, \"12\": 1, \"7\": 2}, \"2\": {\"2\": 24, \"31\": 3, \"57\": 1}, \"47\": {\"47\": 100}, \"17\": {\"19\": 1, \"17\": 78, \"26\": 2, \"30\": 13, \"45\": 10, \"48\": 1, \"55\": 7, \"9\": 3, \"4\": 1}, \"11\": {\"11\": 151, \"43\": 2, \"42\": 1}, \"29\": {\"29\": 132}, \"50\": {\"50\": 108, \"51\": 3, \"20\": 16, \"23\": 2, \"53\": 2, \"21\": 2, \"25\": 5}, \"56\": {\"56\": 143, \"35\": 5}, \"15\": {\"15\": 139, \"11\": 3}}, \"C_2\": {\"49\": {\"49\": 24}, \"13\": {\"13\": 116}, \"37\": {\"37\": 36}, \"41\": {\"30\": 7, \"41\": 10, \"18\": 3}, \"15\": {\"15\": 142}, \"56\": {\"56\": 141, \"11\": 1}, \"14\": {\"56\": 7, \"1\": 1, \"22\": 1, \"14\": 7, \"55\": 1, \"31\": 3, \"42\": 3, \"29\": 1}, \"3\": {\"3\": 76, \"21\": 8, \"50\": 1, \"53\": 4, \"20\": 2, \"52\": 1}, \"38\": {\"38\": 20}, \"43\": {\"43\": 138}, \"33\": {\"49\": 2, \"4\": 2, \"33\": 19, \"55\": 2, \"48\": 2, \"44\": 1}, \"47\": {\"47\": 138}, \"30\": {\"30\": 139, \"2\": 1, \"41\": 1, \"18\": 2, \"36\": 1}, \"39\": {\"39\": 28}, \"12\": {\"12\": 71, \"20\": 7, \"25\": 2, \"53\": 10, \"8\": 1, \"6\": 1}, \"6\": {\"6\": 106, \"30\": 1, \"50\": 9, \"46\": 4, \"8\": 1, \"25\": 1, \"36\": 1, \"18\": 1}, \"51\": {\"51\": 133, \"20\": 1}, \"5\": {\"5\": 114, \"0\": 3, \"55\": 1, \"47\": 2}, \"34\": {\"34\": 25, \"48\": 1, \"2\": 2}, \"35\": {\"4\": 1, \"35\": 16, \"45\": 3, \"40\": 5, \"44\": 2, \"17\": 1, \"9\": 2, \"33\": 1, \"54\": 1}, \"0\": {\"0\": 46, \"5\": 1, \"22\": 1}, \"7\": {\"7\": 36}, \"24\": {\"24\": 94, \"10\": 1, \"43\": 1}, \"8\": {\"8\": 114, \"12\": 4, \"53\": 3, \"6\": 2, \"4\": 1, \"25\": 6, \"17\": 1, \"20\": 2, \"9\": 1, \"36\": 1, \"40\": 1}, \"20\": {\"20\": 102, \"53\": 13, \"12\": 6, \"51\": 2, \"8\": 1}, \"36\": {\"36\": 104, \"18\": 1, \"54\": 1, \"25\": 3, \"8\": 1, \"30\": 1, \"50\": 3, \"27\": 2}, \"42\": {\"42\": 35, \"55\": 1}, \"1\": {\"1\": 105, \"57\": 3, \"55\": 4}, \"4\": {\"33\": 3, \"19\": 21, \"4\": 48, \"54\": 4, \"9\": 22, \"26\": 2, \"40\": 6, \"14\": 2, \"17\": 16, \"27\": 3, \"35\": 1, \"29\": 3, \"44\": 3, \"45\": 10, \"36\": 1, \"8\": 1, \"32\": 2}, \"28\": {\"28\": 27, \"7\": 1}, \"50\": {\"50\": 124, \"4\": 1, \"6\": 7, \"30\": 1, \"49\": 1, \"53\": 1, \"8\": 1}, \"45\": {\"33\": 1, \"45\": 38, \"54\": 10, \"4\": 13, \"17\": 14, \"40\": 8, \"35\": 1, \"19\": 9, \"27\": 5, \"29\": 4, \"9\": 13, \"48\": 3, \"44\": 3, \"8\": 1, \"26\": 4, \"12\": 1}, \"18\": {\"18\": 45, \"41\": 2, \"30\": 1}, \"57\": {\"57\": 115, \"1\": 5}, \"46\": {\"46\": 112, \"52\": 9, \"16\": 5, \"15\": 2}, \"23\": {\"23\": 148}, \"27\": {\"27\": 127, \"36\": 2, \"54\": 4, \"44\": 1, \"17\": 1, \"19\": 1, \"30\": 2}, \"19\": {\"44\": 4, \"19\": 109, \"29\": 3, \"4\": 2, \"9\": 10, \"40\": 4, \"45\": 2}, \"22\": {\"22\": 134, \"56\": 2}, \"17\": {\"27\": 2, \"17\": 85, \"32\": 5, \"54\": 6, \"9\": 2, \"19\": 1, \"49\": 1, \"48\": 2}, \"55\": {\"55\": 132, \"1\": 3, \"57\": 1}, \"44\": {\"19\": 13, \"44\": 60, \"57\": 2, \"40\": 4, \"29\": 12, \"4\": 3, \"9\": 5, \"45\": 1}, \"26\": {\"26\": 13, \"12\": 1, \"49\": 1, \"27\": 4, \"25\": 3, \"54\": 1, \"45\": 1}, \"31\": {\"31\": 28}, \"16\": {\"16\": 130}, \"11\": {\"11\": 128}, \"25\": {\"50\": 11, \"25\": 83, \"36\": 9, \"8\": 18, \"53\": 1, \"27\": 3, \"32\": 1}, \"54\": {\"54\": 104, \"27\": 2, \"17\": 2}, \"32\": {\"4\": 1, \"32\": 16, \"48\": 4, \"17\": 3, \"33\": 4}, \"52\": {\"52\": 120, \"46\": 2, \"16\": 1, \"18\": 1}, \"40\": {\"54\": 3, \"4\": 7, \"26\": 1, \"40\": 32, \"29\": 12, \"9\": 27, \"19\": 27, \"33\": 2, \"45\": 5, \"17\": 1, \"44\": 9, \"57\": 2, \"42\": 2, \"32\": 1, \"27\": 1}, \"2\": {\"2\": 32}, \"10\": {\"10\": 110}, \"53\": {\"53\": 108, \"20\": 23, \"25\": 2, \"12\": 3}, \"9\": {\"9\": 105, \"44\": 3, \"35\": 1, \"40\": 6, \"19\": 14, \"4\": 6, \"29\": 11, \"55\": 4}, \"21\": {\"21\": 120}, \"48\": {\"48\": 135, \"34\": 2, \"17\": 1}, \"29\": {\"44\": 3, \"29\": 112, \"19\": 4, \"45\": 1, \"40\": 1, \"57\": 5, \"55\": 2}}, \"C_1\": {\"9\": {\"7\": 2, \"9\": 127, \"8\": 3, \"5\": 2, \"30\": 8}, \"25\": {\"25\": 114, \"18\": 2, \"5\": 6, \"50\": 1, \"53\": 1, \"37\": 2, \"14\": 1, \"46\": 1}, \"41\": {\"41\": 24}, \"29\": {\"29\": 123, \"57\": 8, \"19\": 5, \"56\": 1, \"35\": 2, \"40\": 1}, \"46\": {\"46\": 86, \"51\": 5, \"13\": 5, \"50\": 3, \"48\": 3, \"53\": 20, \"4\": 1, \"40\": 1, \"5\": 1, \"2\": 1, \"41\": 1, \"25\": 1}, \"4\": {\"4\": 54, \"29\": 13, \"17\": 8, \"19\": 4, \"40\": 15, \"8\": 3, \"48\": 4, \"50\": 10, \"46\": 1, \"45\": 2, \"5\": 2, \"6\": 7, \"2\": 5, \"25\": 1, \"56\": 1, \"57\": 1, \"1\": 1}, \"31\": {\"31\": 24, \"11\": 1, \"22\": 3}, \"36\": {\"36\": 64}, \"20\": {\"20\": 128}, \"7\": {\"7\": 28}, \"6\": {\"6\": 73, \"29\": 1, \"2\": 4, \"17\": 1, \"9\": 3, \"40\": 2, \"48\": 4, \"50\": 3, \"4\": 1, \"5\": 4}, \"16\": {\"16\": 138}, \"17\": {\"17\": 58, \"7\": 1, \"45\": 1, \"40\": 1, \"6\": 1, \"48\": 1, \"9\": 1}, \"50\": {\"50\": 86, \"53\": 4, \"48\": 24, \"2\": 2, \"46\": 5, \"6\": 5, \"40\": 4, \"8\": 6, \"5\": 8, \"4\": 3, \"29\": 1}, \"57\": {\"57\": 140, \"19\": 4}, \"23\": {\"23\": 124, \"0\": 8, \"15\": 3, \"24\": 1}, \"3\": {\"3\": 117, \"12\": 4, \"25\": 1, \"46\": 1, \"20\": 3}, \"53\": {\"53\": 136, \"19\": 1, \"13\": 1, \"20\": 2}, \"49\": {\"49\": 31, \"24\": 1}, \"56\": {\"56\": 145, \"57\": 4, \"44\": 1, \"19\": 2}, \"51\": {\"51\": 135, \"53\": 2, \"20\": 1, \"3\": 3, \"13\": 1}, \"26\": {\"26\": 24}, \"43\": {\"43\": 144}, \"22\": {\"22\": 104, \"31\": 5, \"10\": 1, \"15\": 6, \"21\": 4, \"11\": 12, \"24\": 3, \"28\": 1}, \"45\": {\"45\": 141, \"55\": 1, \"42\": 2, \"19\": 2}, \"13\": {\"13\": 145, \"41\": 2, \"51\": 4, \"53\": 1}, \"12\": {\"12\": 112, \"3\": 3, \"20\": 1}, \"54\": {\"54\": 98, \"55\": 6}, \"24\": {\"24\": 79, \"15\": 10, \"21\": 15, \"22\": 1, \"49\": 2, \"23\": 1}, \"44\": {\"44\": 133, \"35\": 3}, \"28\": {\"28\": 26, \"11\": 2}, \"33\": {\"33\": 32}, \"38\": {\"38\": 24}, \"0\": {\"0\": 139, \"23\": 4, \"15\": 1}, \"47\": {\"47\": 154}, \"42\": {\"42\": 40}, \"34\": {\"34\": 24}, \"48\": {\"48\": 105, \"29\": 1, \"2\": 2, \"50\": 10, \"25\": 4, \"6\": 6, \"8\": 3, \"5\": 8, \"17\": 3}, \"35\": {\"44\": 6, \"35\": 30}, \"2\": {\"2\": 29, \"17\": 3, \"5\": 2, \"6\": 2}, \"30\": {\"30\": 110, \"9\": 8, \"19\": 1, \"5\": 1}, \"18\": {\"18\": 72}, \"37\": {\"37\": 32}, \"1\": {\"1\": 89, \"19\": 7, \"57\": 1, \"45\": 2, \"44\": 1}, \"11\": {\"11\": 136, \"28\": 1, \"22\": 1}, \"55\": {\"55\": 122, \"45\": 3, \"54\": 5}, \"15\": {\"15\": 140, \"24\": 4, \"21\": 4, \"31\": 1, \"22\": 1}, \"10\": {\"10\": 95, \"52\": 1}, \"27\": {\"27\": 160}, \"19\": {\"19\": 135, \"1\": 4, \"56\": 4, \"57\": 2, \"46\": 1}, \"14\": {\"45\": 2, \"14\": 8, \"30\": 4, \"13\": 1, \"51\": 1, \"42\": 1, \"8\": 1, \"25\": 3, \"7\": 2, \"53\": 1}, \"8\": {\"8\": 132, \"5\": 2, \"30\": 2, \"9\": 3, \"17\": 1}, \"5\": {\"5\": 120, \"6\": 4, \"2\": 1, \"25\": 2, \"8\": 3, \"53\": 1, \"18\": 1, \"9\": 1, \"30\": 2, \"50\": 1}, \"39\": {\"39\": 28}, \"52\": {\"52\": 117, \"10\": 5}, \"21\": {\"21\": 102, \"24\": 18, \"31\": 1, \"15\": 3}, \"40\": {\"4\": 12, \"19\": 27, \"40\": 42, \"29\": 30, \"17\": 2, \"56\": 8, \"57\": 9, \"48\": 4, \"42\": 2, \"1\": 5, \"44\": 2, \"50\": 4, \"6\": 1, \"35\": 2, \"45\": 2}, \"32\": {\"32\": 32}}, \"C_3\": {\"56\": {\"56\": 120}, \"4\": {\"32\": 6, \"4\": 55, \"27\": 18, \"17\": 12, \"44\": 3, \"45\": 6, \"48\": 1, \"40\": 12, \"9\": 6, \"25\": 1, \"19\": 14, \"29\": 3, \"54\": 8, \"8\": 1}, \"34\": {\"34\": 30, \"1\": 1, \"57\": 1}, \"52\": {\"52\": 133, \"46\": 3}, \"32\": {\"32\": 12, \"54\": 4, \"17\": 3, \"27\": 4, \"48\": 3, \"36\": 1, \"9\": 1}, \"46\": {\"46\": 120, \"52\": 8, \"15\": 2, \"3\": 1, \"26\": 1, \"16\": 4}, \"12\": {\"12\": 77, \"50\": 1, \"53\": 6, \"51\": 2, \"8\": 3, \"36\": 2, \"25\": 1}, \"20\": {\"20\": 128, \"50\": 4}, \"54\": {\"54\": 66, \"32\": 2, \"17\": 20, \"4\": 2, \"36\": 3, \"27\": 5, \"30\": 2}, \"22\": {\"22\": 130, \"0\": 10}, \"26\": {\"26\": 24}, \"31\": {\"31\": 28}, \"10\": {\"10\": 64}, \"27\": {\"27\": 123, \"19\": 6, \"48\": 4, \"44\": 1, \"9\": 2, \"45\": 1, \"42\": 1, \"4\": 2, \"17\": 4}, \"40\": {\"4\": 17, \"40\": 37, \"44\": 19, \"17\": 2, \"9\": 9, \"27\": 6, \"48\": 1, \"19\": 37, \"57\": 1, \"30\": 1, \"29\": 2, \"45\": 2, \"54\": 1, \"36\": 1}, \"28\": {\"28\": 27, \"35\": 1}, \"5\": {\"5\": 109, \"23\": 1, \"47\": 4, \"48\": 2}, \"30\": {\"30\": 119, \"36\": 1}, \"7\": {\"7\": 36}, \"18\": {\"18\": 82, \"6\": 2}, \"39\": {\"39\": 15, \"5\": 1}, \"50\": {\"18\": 2, \"50\": 118, \"3\": 4, \"20\": 8, \"25\": 2, \"52\": 1, \"46\": 1}, \"49\": {\"49\": 18, \"39\": 1, \"5\": 1}, \"43\": {\"43\": 122}, \"29\": {\"29\": 99, \"35\": 2, \"45\": 1, \"1\": 2, \"19\": 1, \"40\": 1, \"57\": 2, \"9\": 6}, \"35\": {\"35\": 25, \"57\": 3}, \"13\": {\"13\": 122, \"11\": 2}, \"36\": {\"36\": 92, \"25\": 4, \"54\": 1, \"18\": 1, \"30\": 1, \"53\": 1}, \"11\": {\"11\": 146}, \"57\": {\"57\": 121, \"1\": 2, \"35\": 1}, \"9\": {\"9\": 130}, \"25\": {\"25\": 91, \"36\": 5, \"38\": 3, \"50\": 8, \"2\": 1, \"8\": 16, \"9\": 1, \"19\": 1, \"3\": 2, \"18\": 1, \"4\": 1}, \"16\": {\"16\": 123, \"6\": 1, \"52\": 2}, \"53\": {\"53\": 111, \"12\": 5, \"8\": 1, \"51\": 1}, \"33\": {\"33\": 28}, \"51\": {\"51\": 128}, \"44\": {\"44\": 56, \"34\": 3, \"40\": 2, \"42\": 1, \"19\": 10, \"45\": 2, \"54\": 1, \"57\": 1, \"9\": 3, \"4\": 3, \"27\": 1, \"32\": 1, \"29\": 4}, \"48\": {\"48\": 110, \"19\": 1, \"5\": 2, \"27\": 1}, \"6\": {\"6\": 65, \"18\": 4, \"41\": 3, \"30\": 5, \"50\": 3, \"46\": 4, \"36\": 1, \"20\": 2, \"25\": 1}, \"23\": {\"23\": 144}, \"1\": {\"1\": 99, \"57\": 1}, \"17\": {\"33\": 2, \"17\": 87, \"44\": 1, \"27\": 6, \"54\": 10, \"45\": 1, \"9\": 1}, \"21\": {\"21\": 122}, \"14\": {\"57\": 10, \"28\": 2, \"22\": 6, \"14\": 11, \"29\": 1, \"35\": 2, \"34\": 3, \"9\": 1, \"1\": 2, \"0\": 1, \"56\": 1}, \"55\": {\"55\": 141, \"47\": 3}, \"41\": {\"41\": 27, \"6\": 1}, \"3\": {\"3\": 91, \"50\": 7, \"52\": 7, \"21\": 4, \"20\": 28, \"38\": 1}, \"38\": {\"38\": 28}, \"2\": {\"2\": 32}, \"8\": {\"44\": 2, \"8\": 108, \"50\": 5, \"36\": 3, \"25\": 10, \"53\": 7, \"38\": 2, \"40\": 1, \"12\": 1, \"6\": 2, \"4\": 1}, \"37\": {\"37\": 28}, \"45\": {\"42\": 1, \"17\": 7, \"27\": 7, \"44\": 3, \"45\": 19, \"40\": 6, \"9\": 2, \"4\": 6, \"19\": 3, \"30\": 2, \"54\": 1, \"32\": 2, \"36\": 1}, \"42\": {\"42\": 28}, \"24\": {\"24\": 104}, \"15\": {\"15\": 136}, \"0\": {\"0\": 120, \"22\": 4}, \"47\": {\"47\": 84, \"9\": 1, \"42\": 1, \"5\": 3, \"55\": 3}, \"19\": {\"19\": 98, \"44\": 5, \"27\": 5, \"40\": 3, \"29\": 2, \"4\": 1, \"14\": 2, \"9\": 4}}}, \"per_domain_accuracy\": {\"O_14\": {\"accuracy\": 0.7484375, \"source?\": true}, \"O_20\": {\"accuracy\": 0.5455729166666666, \"source?\": true}, \"O_50\": {\"accuracy\": 0.7, \"source?\": true}, \"O_26\": {\"accuracy\": 0.4875, \"source?\": true}, \"O_32\": {\"accuracy\": 0.6786458333333333, \"source?\": true}, \"O_44\": {\"accuracy\": 0.6684895833333333, \"source?\": true}, \"O_8\": {\"accuracy\": 0.6346354166666667, \"source?\": true}, \"O_38\": {\"accuracy\": 0.6559895833333333, \"source?\": true}, \"C_4\": {\"accuracy\": 0.8587200598802395, \"source?\": false}, \"C_5\": {\"accuracy\": 0.8928072625698324, \"source?\": false}, \"C_2\": {\"accuracy\": 0.8598214285714286, \"source?\": false}, \"C_1\": {\"accuracy\": 0.8848505434782609, \"source?\": false}, \"C_3\": {\"accuracy\": 0.872610294117647, \"source?\": false}}}, \"history\": {\"epoch_indices\": [1, 2, 3, 4, 5, 6], \"train_label_loss\": [1.9239009962727627, 0.9634795745657313, 0.8807049456318574, 0.8428753458717394, 0.8010655260334413, 0.7043477321464923], \"source_val_label_loss\": [1.2005921602249146, 0.9491297006607056, 0.9560775756835938, 0.8460954427719116, 0.7788174748420715, 0.7046117782592773], \"target_val_label_loss\": [36.22319030761719, 7.671858310699463, 11.82130241394043, 14.788354873657227, 38.82422637939453, 86.02388000488281], \"source_val_acc_label\": [0.6077473958333334, 0.6399088541666667, 0.642578125, 0.6805338541666667, 0.7095703125, 0.7415364583333334], \"target_val_acc_label\": [0.6448571428571429, 0.8741071428571429, 0.8264285714285714, 0.8128928571428572, 0.7965357142857142, 0.7555714285714286]}, \"dataset_metrics\": {\"source\": {\"train\": {\"n_unique_x\": 179200, \"n_unique_y\": 16, \"n_batch/episode\": 6720}, \"val\": {\"n_unique_x\": 38400, \"n_unique_y\": 16, \"n_batch/episode\": 960}, \"test\": {\"n_unique_x\": 38400, \"n_unique_y\": 16, \"n_batch/episode\": 960}}, \"target\": {\"train\": {\"n_unique_x\": 175158, \"n_unique_y\": 58, \"n_batch/episode\": 6317}, \"val\": {\"n_unique_x\": 37216, \"n_unique_y\": 58, \"n_batch/episode\": 875}, \"test\": {\"n_unique_x\": 37596, \"n_unique_y\": 58, \"n_batch/episode\": 886}}}}'"
      ]
     },
     "execution_count": 29,
     "metadata": {},
     "output_type": "execute_result"
    }
   ],
   "source": [
    "json.dumps(experiment)"
   ]
  }
 ],
 "metadata": {
  "celltoolbar": "Tags",
  "kernelspec": {
   "display_name": "Python 3 (ipykernel)",
   "language": "python",
   "name": "python3"
  },
  "language_info": {
   "codemirror_mode": {
    "name": "ipython",
    "version": 3
   },
   "file_extension": ".py",
   "mimetype": "text/x-python",
   "name": "python",
   "nbconvert_exporter": "python",
   "pygments_lexer": "ipython3",
   "version": "3.8.12"
  },
  "papermill": {
   "default_parameters": {},
   "duration": 1199.342631,
   "end_time": "2022-03-28T10:25:18.621341",
   "environment_variables": {},
   "exception": null,
   "input_path": "/root/csc500-main/csc500-notebooks/templates/tl_ptn_template.ipynb",
   "output_path": "trial.ipynb",
   "parameters": {
    "parameters": {
     "BEST_MODEL_PATH": "./best_model.pth",
     "NUM_LOGS_PER_EPOCH": 10,
     "criteria_for_best": "target_accuracy",
     "dataset_seed": 420,
     "datasets": [
      {
       "domain_prefix": "C_",
       "domains": [
        1,
        2,
        3,
        4,
        5
       ],
       "episode_transforms": [],
       "labels": [
        "1-10.",
        "1-11.",
        "1-15.",
        "1-16.",
        "1-17.",
        "1-18.",
        "1-19.",
        "10-4.",
        "10-7.",
        "11-1.",
        "11-14.",
        "11-17.",
        "11-20.",
        "11-7.",
        "13-20.",
        "13-8.",
        "14-10.",
        "14-11.",
        "14-14.",
        "14-7.",
        "15-1.",
        "15-20.",
        "16-1.",
        "16-16.",
        "17-10.",
        "17-11.",
        "17-2.",
        "19-1.",
        "19-16.",
        "19-19.",
        "19-20.",
        "19-3.",
        "2-10.",
        "2-11.",
        "2-17.",
        "2-18.",
        "2-20.",
        "2-3.",
        "2-4.",
        "2-5.",
        "2-6.",
        "2-7.",
        "2-8.",
        "3-13.",
        "3-18.",
        "3-3.",
        "4-1.",
        "4-10.",
        "4-11.",
        "4-19.",
        "5-5.",
        "6-15.",
        "7-10.",
        "7-14.",
        "8-18.",
        "8-20.",
        "8-3.",
        "8-8."
       ],
       "num_examples_per_domain_per_label": -1,
       "pickle_path": "/root/csc500-main/datasets/cores.stratified_ds.2022A.pkl",
       "source_or_target_dataset": "target",
       "x_transforms": [
        "unit_mag",
        "jitter_256_10",
        "lowpass_+/-10MHz",
        "take_200"
       ]
      },
      {
       "domain_prefix": "O_",
       "domains": [
        32,
        38,
        8,
        44,
        14,
        50,
        20,
        26
       ],
       "episode_transforms": [],
       "labels": [
        "3123D52",
        "3123D65",
        "3123D79",
        "3123D80",
        "3123D54",
        "3123D70",
        "3123D7B",
        "3123D89",
        "3123D58",
        "3123D76",
        "3123D7D",
        "3123EFE",
        "3123D64",
        "3123D78",
        "3123D7E",
        "3124E4A"
       ],
       "num_examples_per_domain_per_label": 2000,
       "pickle_path": "/root/csc500-main/datasets/oracle.Run1_framed_2000Examples_stratified_ds.2022A.pkl",
       "source_or_target_dataset": "source",
       "x_transforms": [
        "unit_mag",
        "jitter_256_10",
        "take_200",
        "resample_20Msps_to_25Msps"
       ]
      }
     ],
     "device": "cuda",
     "experiment_name": "tl_3-jitter10v2:oracle.run1.framed -> cores",
     "lr": 0.0001,
     "n_epoch": 50,
     "n_query": 2,
     "n_shot": 3,
     "n_way": 16,
     "patience": 3,
     "seed": 420,
     "test_k_factor": 2,
     "torch_default_dtype": "torch.float32",
     "train_k_factor": 3,
     "val_k_factor": 2,
     "x_net": [
      {
       "class": "nnReshape",
       "kargs": {
        "shape": [
         -1,
         1,
         2,
         256
        ]
       }
      },
      {
       "class": "Conv2d",
       "kargs": {
        "bias": false,
        "in_channels": 1,
        "kernel_size": [
         1,
         7
        ],
        "out_channels": 256,
        "padding": [
         0,
         3
        ]
       }
      },
      {
       "class": "ReLU",
       "kargs": {
        "inplace": true
       }
      },
      {
       "class": "BatchNorm2d",
       "kargs": {
        "num_features": 256
       }
      },
      {
       "class": "Conv2d",
       "kargs": {
        "bias": true,
        "in_channels": 256,
        "kernel_size": [
         2,
         7
        ],
        "out_channels": 80,
        "padding": [
         0,
         3
        ]
       }
      },
      {
       "class": "ReLU",
       "kargs": {
        "inplace": true
       }
      },
      {
       "class": "BatchNorm2d",
       "kargs": {
        "num_features": 80
       }
      },
      {
       "class": "Flatten",
       "kargs": {}
      },
      {
       "class": "Linear",
       "kargs": {
        "in_features": 20480,
        "out_features": 256
       }
      },
      {
       "class": "ReLU",
       "kargs": {
        "inplace": true
       }
      },
      {
       "class": "BatchNorm1d",
       "kargs": {
        "num_features": 256
       }
      },
      {
       "class": "Linear",
       "kargs": {
        "in_features": 256,
        "out_features": 256
       }
      }
     ],
     "x_shape": [
      2,
      256
     ]
    }
   },
   "start_time": "2022-03-28T10:05:19.278710",
   "version": "2.3.4"
  }
 },
 "nbformat": 4,
 "nbformat_minor": 5
}