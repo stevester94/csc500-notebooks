{
 "cells": [
  {
   "cell_type": "markdown",
   "id": "9fea5f46",
   "metadata": {
    "papermill": {
     "duration": 0.028033,
     "end_time": "2022-03-28T10:25:19.743694",
     "exception": false,
     "start_time": "2022-03-28T10:25:19.715661",
     "status": "completed"
    },
    "tags": []
   },
   "source": [
    "# Transfer Learning Template"
   ]
  },
  {
   "cell_type": "code",
   "execution_count": 1,
   "id": "0902182a",
   "metadata": {
    "execution": {
     "iopub.execute_input": "2022-03-28T10:25:19.806184Z",
     "iopub.status.busy": "2022-03-28T10:25:19.804928Z",
     "iopub.status.idle": "2022-03-28T10:25:21.614110Z",
     "shell.execute_reply": "2022-03-28T10:25:21.613654Z"
    },
    "papermill": {
     "duration": 1.847077,
     "end_time": "2022-03-28T10:25:21.614211",
     "exception": false,
     "start_time": "2022-03-28T10:25:19.767134",
     "status": "completed"
    },
    "tags": []
   },
   "outputs": [],
   "source": [
    "%load_ext autoreload\n",
    "%autoreload 2\n",
    "%matplotlib inline\n",
    "\n",
    "    \n",
    "import os, json, sys, time, random\n",
    "import numpy as np\n",
    "import torch\n",
    "from torch.optim import Adam\n",
    "from  easydict import EasyDict\n",
    "import matplotlib.pyplot as plt\n",
    "\n",
    "from steves_models.steves_ptn import Steves_Prototypical_Network\n",
    "\n",
    "from steves_utils.lazy_iterable_wrapper import Lazy_Iterable_Wrapper\n",
    "from steves_utils.iterable_aggregator import Iterable_Aggregator\n",
    "from steves_utils.ptn_train_eval_test_jig import  PTN_Train_Eval_Test_Jig\n",
    "from steves_utils.torch_sequential_builder import build_sequential\n",
    "from steves_utils.torch_utils import get_dataset_metrics, ptn_confusion_by_domain_over_dataloader\n",
    "from steves_utils.utils_v2 import (per_domain_accuracy_from_confusion, get_datasets_base_path)\n",
    "from steves_utils.PTN.utils import independent_accuracy_assesment\n",
    "\n",
    "from torch.utils.data import DataLoader\n",
    "\n",
    "from steves_utils.stratified_dataset.episodic_accessor import Episodic_Accessor_Factory\n",
    "\n",
    "from steves_utils.ptn_do_report import (\n",
    "    get_loss_curve,\n",
    "    get_results_table,\n",
    "    get_parameters_table,\n",
    "    get_domain_accuracies,\n",
    ")\n",
    "\n",
    "from steves_utils.transforms import get_chained_transform"
   ]
  },
  {
   "cell_type": "markdown",
   "id": "41c840b4",
   "metadata": {
    "papermill": {
     "duration": 0.019085,
     "end_time": "2022-03-28T10:25:21.652976",
     "exception": false,
     "start_time": "2022-03-28T10:25:21.633891",
     "status": "completed"
    },
    "tags": []
   },
   "source": [
    "# Allowed Parameters\n",
    "These are allowed parameters, not defaults\n",
    "Each of these values need to be present in the injected parameters (the notebook will raise an exception if they are not present)\n",
    "\n",
    "Papermill uses the cell tag \"parameters\" to inject the real parameters below this cell.\n",
    "Enable tags to see what I mean"
   ]
  },
  {
   "cell_type": "code",
   "execution_count": 2,
   "id": "fd44eb83",
   "metadata": {
    "execution": {
     "iopub.execute_input": "2022-03-28T10:25:21.696120Z",
     "iopub.status.busy": "2022-03-28T10:25:21.695732Z",
     "iopub.status.idle": "2022-03-28T10:25:21.718700Z",
     "shell.execute_reply": "2022-03-28T10:25:21.718301Z"
    },
    "papermill": {
     "duration": 0.046757,
     "end_time": "2022-03-28T10:25:21.718788",
     "exception": false,
     "start_time": "2022-03-28T10:25:21.672031",
     "status": "completed"
    },
    "tags": []
   },
   "outputs": [],
   "source": [
    "required_parameters = {\n",
    "    \"experiment_name\",\n",
    "    \"lr\",\n",
    "    \"device\",\n",
    "    \"seed\",\n",
    "    \"dataset_seed\",\n",
    "    \"n_shot\",\n",
    "    \"n_query\",\n",
    "    \"n_way\",\n",
    "    \"train_k_factor\",\n",
    "    \"val_k_factor\",\n",
    "    \"test_k_factor\",\n",
    "    \"n_epoch\",\n",
    "    \"patience\",\n",
    "    \"criteria_for_best\",\n",
    "    \"x_net\",\n",
    "    \"datasets\",\n",
    "    \"torch_default_dtype\",\n",
    "    \"NUM_LOGS_PER_EPOCH\",\n",
    "    \"BEST_MODEL_PATH\",\n",
    "    \"x_shape\",\n",
    "}"
   ]
  },
  {
   "cell_type": "code",
   "execution_count": 3,
   "id": "fa3f0049",
   "metadata": {
    "execution": {
     "iopub.execute_input": "2022-03-28T10:25:21.772552Z",
     "iopub.status.busy": "2022-03-28T10:25:21.770757Z",
     "iopub.status.idle": "2022-03-28T10:25:21.794775Z",
     "shell.execute_reply": "2022-03-28T10:25:21.794372Z"
    },
    "papermill": {
     "duration": 0.056342,
     "end_time": "2022-03-28T10:25:21.794864",
     "exception": false,
     "start_time": "2022-03-28T10:25:21.738522",
     "status": "completed"
    },
    "tags": [
     "parameters"
    ]
   },
   "outputs": [],
   "source": [
    "from steves_utils.CORES.utils import (\n",
    "    ALL_NODES,\n",
    "    ALL_NODES_MINIMUM_1000_EXAMPLES,\n",
    "    ALL_DAYS\n",
    ")\n",
    "\n",
    "from steves_utils.ORACLE.utils_v2 import (\n",
    "    ALL_DISTANCES_FEET_NARROWED,\n",
    "    ALL_RUNS,\n",
    "    ALL_SERIAL_NUMBERS,\n",
    ")\n",
    "\n",
    "standalone_parameters = {}\n",
    "standalone_parameters[\"experiment_name\"] = \"STANDALONE PTN\"\n",
    "standalone_parameters[\"lr\"] = 0.001\n",
    "standalone_parameters[\"device\"] = \"cuda\"\n",
    "\n",
    "standalone_parameters[\"seed\"] = 1337\n",
    "standalone_parameters[\"dataset_seed\"] = 1337\n",
    "\n",
    "standalone_parameters[\"n_way\"] = 8\n",
    "standalone_parameters[\"n_shot\"] = 3\n",
    "standalone_parameters[\"n_query\"]  = 2\n",
    "standalone_parameters[\"train_k_factor\"] = 1\n",
    "standalone_parameters[\"val_k_factor\"] = 2\n",
    "standalone_parameters[\"test_k_factor\"] = 2\n",
    "\n",
    "\n",
    "standalone_parameters[\"n_epoch\"] = 50\n",
    "\n",
    "standalone_parameters[\"patience\"] = 10\n",
    "standalone_parameters[\"criteria_for_best\"] = \"source_loss\"\n",
    "\n",
    "standalone_parameters[\"datasets\"] = [\n",
    "    {\n",
    "        \"labels\": ALL_SERIAL_NUMBERS,\n",
    "        \"domains\": ALL_DISTANCES_FEET_NARROWED,\n",
    "        \"num_examples_per_domain_per_label\": 100,\n",
    "        \"pickle_path\": os.path.join(get_datasets_base_path(), \"oracle.Run1_framed_2000Examples_stratified_ds.2022A.pkl\"),\n",
    "        \"source_or_target_dataset\": \"source\",\n",
    "        \"x_transforms\": [\"unit_mag\", \"minus_two\"],\n",
    "        \"episode_transforms\": [],\n",
    "        \"domain_prefix\": \"ORACLE_\"\n",
    "    },\n",
    "    {\n",
    "        \"labels\": ALL_NODES,\n",
    "        \"domains\": ALL_DAYS,\n",
    "        \"num_examples_per_domain_per_label\": 100,\n",
    "        \"pickle_path\": os.path.join(get_datasets_base_path(), \"cores.stratified_ds.2022A.pkl\"),\n",
    "        \"source_or_target_dataset\": \"target\",\n",
    "        \"x_transforms\": [\"unit_power\", \"times_zero\"],\n",
    "        \"episode_transforms\": [],\n",
    "        \"domain_prefix\": \"CORES_\"\n",
    "    }   \n",
    "]\n",
    "\n",
    "standalone_parameters[\"torch_default_dtype\"] = \"torch.float32\" \n",
    "\n",
    "\n",
    "\n",
    "standalone_parameters[\"x_net\"] =     [\n",
    "    {\"class\": \"nnReshape\", \"kargs\": {\"shape\":[-1, 1, 2, 256]}},\n",
    "    {\"class\": \"Conv2d\", \"kargs\": { \"in_channels\":1, \"out_channels\":256, \"kernel_size\":(1,7), \"bias\":False, \"padding\":(0,3), },},\n",
    "    {\"class\": \"ReLU\", \"kargs\": {\"inplace\": True}},\n",
    "    {\"class\": \"BatchNorm2d\", \"kargs\": {\"num_features\":256}},\n",
    "\n",
    "    {\"class\": \"Conv2d\", \"kargs\": { \"in_channels\":256, \"out_channels\":80, \"kernel_size\":(2,7), \"bias\":True, \"padding\":(0,3), },},\n",
    "    {\"class\": \"ReLU\", \"kargs\": {\"inplace\": True}},\n",
    "    {\"class\": \"BatchNorm2d\", \"kargs\": {\"num_features\":80}},\n",
    "    {\"class\": \"Flatten\", \"kargs\": {}},\n",
    "\n",
    "    {\"class\": \"Linear\", \"kargs\": {\"in_features\": 80*256, \"out_features\": 256}}, # 80 units per IQ pair\n",
    "    {\"class\": \"ReLU\", \"kargs\": {\"inplace\": True}},\n",
    "    {\"class\": \"BatchNorm1d\", \"kargs\": {\"num_features\":256}},\n",
    "\n",
    "    {\"class\": \"Linear\", \"kargs\": {\"in_features\": 256, \"out_features\": 256}},\n",
    "]\n",
    "\n",
    "# Parameters relevant to results\n",
    "# These parameters will basically never need to change\n",
    "standalone_parameters[\"NUM_LOGS_PER_EPOCH\"] = 10\n",
    "standalone_parameters[\"BEST_MODEL_PATH\"] = \"./best_model.pth\"\n",
    "\n",
    "\n",
    "\n",
    "\n"
   ]
  },
  {
   "cell_type": "code",
   "execution_count": 4,
   "id": "f61ca22f",
   "metadata": {
    "execution": {
     "iopub.execute_input": "2022-03-28T10:25:21.849243Z",
     "iopub.status.busy": "2022-03-28T10:25:21.848799Z",
     "iopub.status.idle": "2022-03-28T10:25:21.870518Z",
     "shell.execute_reply": "2022-03-28T10:25:21.870831Z"
    },
    "papermill": {
     "duration": 0.056374,
     "end_time": "2022-03-28T10:25:21.870944",
     "exception": false,
     "start_time": "2022-03-28T10:25:21.814570",
     "status": "completed"
    },
    "tags": [
     "injected-parameters"
    ]
   },
   "outputs": [],
   "source": [
    "# Parameters\n",
    "parameters = {\n",
    "    \"experiment_name\": \"tl_3-jitter10v2:oracle.run1.framed -> cores\",\n",
    "    \"device\": \"cuda\",\n",
    "    \"lr\": 0.0001,\n",
    "    \"x_shape\": [2, 256],\n",
    "    \"n_shot\": 3,\n",
    "    \"n_query\": 2,\n",
    "    \"train_k_factor\": 3,\n",
    "    \"val_k_factor\": 2,\n",
    "    \"test_k_factor\": 2,\n",
    "    \"torch_default_dtype\": \"torch.float32\",\n",
    "    \"n_epoch\": 50,\n",
    "    \"patience\": 3,\n",
    "    \"criteria_for_best\": \"target_accuracy\",\n",
    "    \"x_net\": [\n",
    "        {\"class\": \"nnReshape\", \"kargs\": {\"shape\": [-1, 1, 2, 256]}},\n",
    "        {\n",
    "            \"class\": \"Conv2d\",\n",
    "            \"kargs\": {\n",
    "                \"in_channels\": 1,\n",
    "                \"out_channels\": 256,\n",
    "                \"kernel_size\": [1, 7],\n",
    "                \"bias\": False,\n",
    "                \"padding\": [0, 3],\n",
    "            },\n",
    "        },\n",
    "        {\"class\": \"ReLU\", \"kargs\": {\"inplace\": True}},\n",
    "        {\"class\": \"BatchNorm2d\", \"kargs\": {\"num_features\": 256}},\n",
    "        {\n",
    "            \"class\": \"Conv2d\",\n",
    "            \"kargs\": {\n",
    "                \"in_channels\": 256,\n",
    "                \"out_channels\": 80,\n",
    "                \"kernel_size\": [2, 7],\n",
    "                \"bias\": True,\n",
    "                \"padding\": [0, 3],\n",
    "            },\n",
    "        },\n",
    "        {\"class\": \"ReLU\", \"kargs\": {\"inplace\": True}},\n",
    "        {\"class\": \"BatchNorm2d\", \"kargs\": {\"num_features\": 80}},\n",
    "        {\"class\": \"Flatten\", \"kargs\": {}},\n",
    "        {\"class\": \"Linear\", \"kargs\": {\"in_features\": 20480, \"out_features\": 256}},\n",
    "        {\"class\": \"ReLU\", \"kargs\": {\"inplace\": True}},\n",
    "        {\"class\": \"BatchNorm1d\", \"kargs\": {\"num_features\": 256}},\n",
    "        {\"class\": \"Linear\", \"kargs\": {\"in_features\": 256, \"out_features\": 256}},\n",
    "    ],\n",
    "    \"NUM_LOGS_PER_EPOCH\": 10,\n",
    "    \"BEST_MODEL_PATH\": \"./best_model.pth\",\n",
    "    \"n_way\": 16,\n",
    "    \"datasets\": [\n",
    "        {\n",
    "            \"labels\": [\n",
    "                \"1-10.\",\n",
    "                \"1-11.\",\n",
    "                \"1-15.\",\n",
    "                \"1-16.\",\n",
    "                \"1-17.\",\n",
    "                \"1-18.\",\n",
    "                \"1-19.\",\n",
    "                \"10-4.\",\n",
    "                \"10-7.\",\n",
    "                \"11-1.\",\n",
    "                \"11-14.\",\n",
    "                \"11-17.\",\n",
    "                \"11-20.\",\n",
    "                \"11-7.\",\n",
    "                \"13-20.\",\n",
    "                \"13-8.\",\n",
    "                \"14-10.\",\n",
    "                \"14-11.\",\n",
    "                \"14-14.\",\n",
    "                \"14-7.\",\n",
    "                \"15-1.\",\n",
    "                \"15-20.\",\n",
    "                \"16-1.\",\n",
    "                \"16-16.\",\n",
    "                \"17-10.\",\n",
    "                \"17-11.\",\n",
    "                \"17-2.\",\n",
    "                \"19-1.\",\n",
    "                \"19-16.\",\n",
    "                \"19-19.\",\n",
    "                \"19-20.\",\n",
    "                \"19-3.\",\n",
    "                \"2-10.\",\n",
    "                \"2-11.\",\n",
    "                \"2-17.\",\n",
    "                \"2-18.\",\n",
    "                \"2-20.\",\n",
    "                \"2-3.\",\n",
    "                \"2-4.\",\n",
    "                \"2-5.\",\n",
    "                \"2-6.\",\n",
    "                \"2-7.\",\n",
    "                \"2-8.\",\n",
    "                \"3-13.\",\n",
    "                \"3-18.\",\n",
    "                \"3-3.\",\n",
    "                \"4-1.\",\n",
    "                \"4-10.\",\n",
    "                \"4-11.\",\n",
    "                \"4-19.\",\n",
    "                \"5-5.\",\n",
    "                \"6-15.\",\n",
    "                \"7-10.\",\n",
    "                \"7-14.\",\n",
    "                \"8-18.\",\n",
    "                \"8-20.\",\n",
    "                \"8-3.\",\n",
    "                \"8-8.\",\n",
    "            ],\n",
    "            \"domains\": [1, 2, 3, 4, 5],\n",
    "            \"num_examples_per_domain_per_label\": -1,\n",
    "            \"pickle_path\": \"/root/csc500-main/datasets/cores.stratified_ds.2022A.pkl\",\n",
    "            \"source_or_target_dataset\": \"target\",\n",
    "            \"x_transforms\": [\n",
    "                \"unit_power\",\n",
    "                \"jitter_256_10\",\n",
    "                \"lowpass_+/-10MHz\",\n",
    "                \"take_200\",\n",
    "            ],\n",
    "            \"episode_transforms\": [],\n",
    "            \"domain_prefix\": \"C_\",\n",
    "        },\n",
    "        {\n",
    "            \"labels\": [\n",
    "                \"3123D52\",\n",
    "                \"3123D65\",\n",
    "                \"3123D79\",\n",
    "                \"3123D80\",\n",
    "                \"3123D54\",\n",
    "                \"3123D70\",\n",
    "                \"3123D7B\",\n",
    "                \"3123D89\",\n",
    "                \"3123D58\",\n",
    "                \"3123D76\",\n",
    "                \"3123D7D\",\n",
    "                \"3123EFE\",\n",
    "                \"3123D64\",\n",
    "                \"3123D78\",\n",
    "                \"3123D7E\",\n",
    "                \"3124E4A\",\n",
    "            ],\n",
    "            \"domains\": [32, 38, 8, 44, 14, 50, 20, 26],\n",
    "            \"num_examples_per_domain_per_label\": 2000,\n",
    "            \"pickle_path\": \"/root/csc500-main/datasets/oracle.Run1_framed_2000Examples_stratified_ds.2022A.pkl\",\n",
    "            \"source_or_target_dataset\": \"source\",\n",
    "            \"x_transforms\": [\n",
    "                \"unit_power\",\n",
    "                \"jitter_256_10\",\n",
    "                \"take_200\",\n",
    "                \"resample_20Msps_to_25Msps\",\n",
    "            ],\n",
    "            \"episode_transforms\": [],\n",
    "            \"domain_prefix\": \"O_\",\n",
    "        },\n",
    "    ],\n",
    "    \"seed\": 154325,\n",
    "    \"dataset_seed\": 154325,\n",
    "}\n"
   ]
  },
  {
   "cell_type": "code",
   "execution_count": 5,
   "id": "8fa1cc33",
   "metadata": {
    "execution": {
     "iopub.execute_input": "2022-03-28T10:25:21.917742Z",
     "iopub.status.busy": "2022-03-28T10:25:21.917367Z",
     "iopub.status.idle": "2022-03-28T10:25:21.939016Z",
     "shell.execute_reply": "2022-03-28T10:25:21.939329Z"
    },
    "papermill": {
     "duration": 0.048447,
     "end_time": "2022-03-28T10:25:21.939442",
     "exception": false,
     "start_time": "2022-03-28T10:25:21.890995",
     "status": "completed"
    },
    "tags": []
   },
   "outputs": [],
   "source": [
    "# Set this to True if you want to run this template directly\n",
    "STANDALONE = False\n",
    "if STANDALONE:\n",
    "    print(\"parameters not injected, running with standalone_parameters\")\n",
    "    parameters = standalone_parameters\n",
    "\n",
    "if not 'parameters' in locals() and not 'parameters' in globals():\n",
    "    raise Exception(\"Parameter injection failed\")\n",
    "\n",
    "#Use an easy dict for all the parameters\n",
    "p = EasyDict(parameters)\n",
    "\n",
    "if \"x_shape\" not in p:\n",
    "    p.x_shape = [2,256] # Default to this if we dont supply x_shape\n",
    "\n",
    "\n",
    "supplied_keys = set(p.keys())\n",
    "\n",
    "if  supplied_keys != required_parameters:\n",
    "    print(\"Parameters are incorrect\")\n",
    "    if len(supplied_keys - required_parameters)>0: print(\"Shouldn't have:\", str(supplied_keys - required_parameters))\n",
    "    if len(required_parameters - supplied_keys)>0: print(\"Need to have:\", str(required_parameters - supplied_keys))\n",
    "    raise RuntimeError(\"Parameters are incorrect\")"
   ]
  },
  {
   "cell_type": "code",
   "execution_count": 6,
   "id": "3a028d58",
   "metadata": {
    "execution": {
     "iopub.execute_input": "2022-03-28T10:25:21.983340Z",
     "iopub.status.busy": "2022-03-28T10:25:21.982973Z",
     "iopub.status.idle": "2022-03-28T10:25:22.006499Z",
     "shell.execute_reply": "2022-03-28T10:25:22.006105Z"
    },
    "papermill": {
     "duration": 0.047352,
     "end_time": "2022-03-28T10:25:22.006587",
     "exception": false,
     "start_time": "2022-03-28T10:25:21.959235",
     "status": "completed"
    },
    "tags": []
   },
   "outputs": [],
   "source": [
    "###################################\n",
    "# Set the RNGs and make it all deterministic\n",
    "###################################\n",
    "np.random.seed(p.seed)\n",
    "random.seed(p.seed)\n",
    "torch.manual_seed(p.seed)\n",
    "\n",
    "torch.use_deterministic_algorithms(True) "
   ]
  },
  {
   "cell_type": "code",
   "execution_count": 7,
   "id": "b691acf6",
   "metadata": {
    "execution": {
     "iopub.execute_input": "2022-03-28T10:25:22.050102Z",
     "iopub.status.busy": "2022-03-28T10:25:22.049687Z",
     "iopub.status.idle": "2022-03-28T10:25:22.075434Z",
     "shell.execute_reply": "2022-03-28T10:25:22.075043Z"
    },
    "papermill": {
     "duration": 0.04874,
     "end_time": "2022-03-28T10:25:22.075522",
     "exception": false,
     "start_time": "2022-03-28T10:25:22.026782",
     "status": "completed"
    },
    "tags": []
   },
   "outputs": [],
   "source": [
    "###########################################\n",
    "# The stratified datasets honor this\n",
    "###########################################\n",
    "torch.set_default_dtype(eval(p.torch_default_dtype))"
   ]
  },
  {
   "cell_type": "code",
   "execution_count": 8,
   "id": "b5fba671",
   "metadata": {
    "execution": {
     "iopub.execute_input": "2022-03-28T10:25:22.119221Z",
     "iopub.status.busy": "2022-03-28T10:25:22.118849Z",
     "iopub.status.idle": "2022-03-28T10:25:22.177841Z",
     "shell.execute_reply": "2022-03-28T10:25:22.177464Z"
    },
    "papermill": {
     "duration": 0.082222,
     "end_time": "2022-03-28T10:25:22.177943",
     "exception": false,
     "start_time": "2022-03-28T10:25:22.095721",
     "status": "completed"
    },
    "tags": []
   },
   "outputs": [],
   "source": [
    "###################################\n",
    "# Build the network(s)\n",
    "# Note: It's critical to do this AFTER setting the RNG\n",
    "###################################\n",
    "x_net = build_sequential(p.x_net)"
   ]
  },
  {
   "cell_type": "code",
   "execution_count": 9,
   "id": "5d7e61cc",
   "metadata": {
    "execution": {
     "iopub.execute_input": "2022-03-28T10:25:22.221616Z",
     "iopub.status.busy": "2022-03-28T10:25:22.221221Z",
     "iopub.status.idle": "2022-03-28T10:25:22.241849Z",
     "shell.execute_reply": "2022-03-28T10:25:22.241456Z"
    },
    "papermill": {
     "duration": 0.043319,
     "end_time": "2022-03-28T10:25:22.241937",
     "exception": false,
     "start_time": "2022-03-28T10:25:22.198618",
     "status": "completed"
    },
    "tags": []
   },
   "outputs": [],
   "source": [
    "start_time_secs = time.time()"
   ]
  },
  {
   "cell_type": "code",
   "execution_count": 10,
   "id": "c6b67dfd",
   "metadata": {
    "execution": {
     "iopub.execute_input": "2022-03-28T10:25:22.286839Z",
     "iopub.status.busy": "2022-03-28T10:25:22.286238Z",
     "iopub.status.idle": "2022-03-28T10:25:22.309535Z",
     "shell.execute_reply": "2022-03-28T10:25:22.309143Z"
    },
    "papermill": {
     "duration": 0.047504,
     "end_time": "2022-03-28T10:25:22.309622",
     "exception": false,
     "start_time": "2022-03-28T10:25:22.262118",
     "status": "completed"
    },
    "tags": []
   },
   "outputs": [],
   "source": [
    "p.domains_source = []\n",
    "p.domains_target = []\n",
    "\n",
    "\n",
    "train_original_source = []\n",
    "val_original_source   = []\n",
    "test_original_source  = []\n",
    "\n",
    "train_original_target = []\n",
    "val_original_target   = []\n",
    "test_original_target  = []"
   ]
  },
  {
   "cell_type": "code",
   "execution_count": 11,
   "id": "e3d9c3d3",
   "metadata": {
    "execution": {
     "iopub.execute_input": "2022-03-28T10:25:22.353582Z",
     "iopub.status.busy": "2022-03-28T10:25:22.353213Z",
     "iopub.status.idle": "2022-03-28T10:25:22.376610Z",
     "shell.execute_reply": "2022-03-28T10:25:22.376219Z"
    },
    "papermill": {
     "duration": 0.046397,
     "end_time": "2022-03-28T10:25:22.376695",
     "exception": false,
     "start_time": "2022-03-28T10:25:22.330298",
     "status": "completed"
    },
    "tags": []
   },
   "outputs": [],
   "source": [
    "# global_x_transform_func = lambda x: normalize(x.to(torch.get_default_dtype()), \"unit_power\") # unit_power, unit_mag\n",
    "# global_x_transform_func = lambda x: normalize(x, \"unit_power\") # unit_power, unit_mag"
   ]
  },
  {
   "cell_type": "code",
   "execution_count": 12,
   "id": "acb78fd2",
   "metadata": {
    "execution": {
     "iopub.execute_input": "2022-03-28T10:25:22.429750Z",
     "iopub.status.busy": "2022-03-28T10:25:22.429358Z",
     "iopub.status.idle": "2022-03-28T10:25:22.450384Z",
     "shell.execute_reply": "2022-03-28T10:25:22.449986Z"
    },
    "papermill": {
     "duration": 0.053423,
     "end_time": "2022-03-28T10:25:22.450474",
     "exception": false,
     "start_time": "2022-03-28T10:25:22.397051",
     "status": "completed"
    },
    "tags": []
   },
   "outputs": [],
   "source": [
    "def add_dataset(\n",
    "    labels,\n",
    "    domains,\n",
    "    pickle_path,\n",
    "    x_transforms,\n",
    "    episode_transforms,\n",
    "    domain_prefix,\n",
    "    num_examples_per_domain_per_label,\n",
    "    source_or_target_dataset:str,\n",
    "    iterator_seed=p.seed,\n",
    "    dataset_seed=p.dataset_seed,\n",
    "    n_shot=p.n_shot,\n",
    "    n_way=p.n_way,\n",
    "    n_query=p.n_query,\n",
    "    train_val_test_k_factors=(p.train_k_factor,p.val_k_factor,p.test_k_factor),\n",
    "):\n",
    "   \n",
    "    if x_transforms == []: x_transform = None\n",
    "    else: x_transform = get_chained_transform(x_transforms)\n",
    "    \n",
    "    if episode_transforms == []: episode_transform = None\n",
    "    else: raise Exception(\"episode_transforms not implemented\")\n",
    "    \n",
    "    episode_transform = lambda tup, _prefix=domain_prefix: (_prefix + str(tup[0]), tup[1])\n",
    "\n",
    "\n",
    "    eaf = Episodic_Accessor_Factory(\n",
    "        labels=labels,\n",
    "        domains=domains,\n",
    "        num_examples_per_domain_per_label=num_examples_per_domain_per_label,\n",
    "        iterator_seed=iterator_seed,\n",
    "        dataset_seed=dataset_seed,\n",
    "        n_shot=n_shot,\n",
    "        n_way=n_way,\n",
    "        n_query=n_query,\n",
    "        train_val_test_k_factors=train_val_test_k_factors,\n",
    "        pickle_path=pickle_path,\n",
    "        x_transform_func=x_transform,\n",
    "    )\n",
    "\n",
    "    train, val, test = eaf.get_train(), eaf.get_val(), eaf.get_test()\n",
    "    train = Lazy_Iterable_Wrapper(train, episode_transform)\n",
    "    val = Lazy_Iterable_Wrapper(val, episode_transform)\n",
    "    test = Lazy_Iterable_Wrapper(test, episode_transform)\n",
    "\n",
    "    if source_or_target_dataset==\"source\":\n",
    "        train_original_source.append(train)\n",
    "        val_original_source.append(val)\n",
    "        test_original_source.append(test)\n",
    "\n",
    "        p.domains_source.extend(\n",
    "            [domain_prefix + str(u) for u in domains]\n",
    "        )\n",
    "    elif source_or_target_dataset==\"target\":\n",
    "        train_original_target.append(train)\n",
    "        val_original_target.append(val)\n",
    "        test_original_target.append(test)\n",
    "        p.domains_target.extend(\n",
    "            [domain_prefix + str(u) for u in domains]\n",
    "        )\n",
    "    else:\n",
    "        raise Exception(f\"invalid source_or_target_dataset: {source_or_target_dataset}\")\n",
    "    "
   ]
  },
  {
   "cell_type": "code",
   "execution_count": 13,
   "id": "fe266617",
   "metadata": {
    "execution": {
     "iopub.execute_input": "2022-03-28T10:25:22.495021Z",
     "iopub.status.busy": "2022-03-28T10:25:22.494654Z",
     "iopub.status.idle": "2022-03-28T10:27:13.511816Z",
     "shell.execute_reply": "2022-03-28T10:27:13.511006Z"
    },
    "papermill": {
     "duration": 111.04078,
     "end_time": "2022-03-28T10:27:13.512001",
     "exception": false,
     "start_time": "2022-03-28T10:25:22.471221",
     "status": "completed"
    },
    "tags": []
   },
   "outputs": [],
   "source": [
    "for ds in p.datasets:\n",
    "    add_dataset(**ds)"
   ]
  },
  {
   "cell_type": "code",
   "execution_count": 14,
   "id": "b90d65ac",
   "metadata": {
    "execution": {
     "iopub.execute_input": "2022-03-28T10:27:13.563477Z",
     "iopub.status.busy": "2022-03-28T10:27:13.563094Z",
     "iopub.status.idle": "2022-03-28T10:27:13.588697Z",
     "shell.execute_reply": "2022-03-28T10:27:13.587936Z"
    },
    "papermill": {
     "duration": 0.050163,
     "end_time": "2022-03-28T10:27:13.588858",
     "exception": false,
     "start_time": "2022-03-28T10:27:13.538695",
     "status": "completed"
    },
    "tags": []
   },
   "outputs": [],
   "source": [
    "# from steves_utils.CORES.utils import (\n",
    "#     ALL_NODES,\n",
    "#     ALL_NODES_MINIMUM_1000_EXAMPLES,\n",
    "#     ALL_DAYS\n",
    "# )\n",
    "\n",
    "# add_dataset(\n",
    "#     labels=ALL_NODES,\n",
    "#     domains = ALL_DAYS,\n",
    "#     num_examples_per_domain_per_label=100,\n",
    "#     pickle_path=os.path.join(get_datasets_base_path(), \"cores.stratified_ds.2022A.pkl\"),\n",
    "#     source_or_target_dataset=\"target\",\n",
    "#     x_transform_func=global_x_transform_func,\n",
    "#     domain_modifier=lambda u: f\"cores_{u}\"\n",
    "# )"
   ]
  },
  {
   "cell_type": "code",
   "execution_count": 15,
   "id": "76db484d",
   "metadata": {
    "execution": {
     "iopub.execute_input": "2022-03-28T10:27:13.642012Z",
     "iopub.status.busy": "2022-03-28T10:27:13.641437Z",
     "iopub.status.idle": "2022-03-28T10:27:13.665329Z",
     "shell.execute_reply": "2022-03-28T10:27:13.664502Z"
    },
    "papermill": {
     "duration": 0.049673,
     "end_time": "2022-03-28T10:27:13.665488",
     "exception": false,
     "start_time": "2022-03-28T10:27:13.615815",
     "status": "completed"
    },
    "tags": []
   },
   "outputs": [],
   "source": [
    "# from steves_utils.ORACLE.utils_v2 import (\n",
    "#     ALL_DISTANCES_FEET,\n",
    "#     ALL_RUNS,\n",
    "#     ALL_SERIAL_NUMBERS,\n",
    "# )\n",
    "\n",
    "\n",
    "# add_dataset(\n",
    "#     labels=ALL_SERIAL_NUMBERS,\n",
    "#     domains = list(set(ALL_DISTANCES_FEET) - {2,62}),\n",
    "#     num_examples_per_domain_per_label=100,\n",
    "#     pickle_path=os.path.join(get_datasets_base_path(), \"oracle.Run2_framed_2000Examples_stratified_ds.2022A.pkl\"),\n",
    "#     source_or_target_dataset=\"source\",\n",
    "#     x_transform_func=global_x_transform_func,\n",
    "#     domain_modifier=lambda u: f\"oracle1_{u}\"\n",
    "# )\n"
   ]
  },
  {
   "cell_type": "code",
   "execution_count": 16,
   "id": "97dea9d2",
   "metadata": {
    "execution": {
     "iopub.execute_input": "2022-03-28T10:27:13.718242Z",
     "iopub.status.busy": "2022-03-28T10:27:13.716358Z",
     "iopub.status.idle": "2022-03-28T10:27:13.739414Z",
     "shell.execute_reply": "2022-03-28T10:27:13.738592Z"
    },
    "papermill": {
     "duration": 0.047479,
     "end_time": "2022-03-28T10:27:13.739590",
     "exception": false,
     "start_time": "2022-03-28T10:27:13.692111",
     "status": "completed"
    },
    "tags": []
   },
   "outputs": [],
   "source": [
    "# from steves_utils.ORACLE.utils_v2 import (\n",
    "#     ALL_DISTANCES_FEET,\n",
    "#     ALL_RUNS,\n",
    "#     ALL_SERIAL_NUMBERS,\n",
    "# )\n",
    "\n",
    "\n",
    "# add_dataset(\n",
    "#     labels=ALL_SERIAL_NUMBERS,\n",
    "#     domains = list(set(ALL_DISTANCES_FEET) - {2,62,56}),\n",
    "#     num_examples_per_domain_per_label=100,\n",
    "#     pickle_path=os.path.join(get_datasets_base_path(), \"oracle.Run2_framed_2000Examples_stratified_ds.2022A.pkl\"),\n",
    "#     source_or_target_dataset=\"source\",\n",
    "#     x_transform_func=global_x_transform_func,\n",
    "#     domain_modifier=lambda u: f\"oracle2_{u}\"\n",
    "# )"
   ]
  },
  {
   "cell_type": "code",
   "execution_count": 17,
   "id": "6f289866",
   "metadata": {
    "execution": {
     "iopub.execute_input": "2022-03-28T10:27:13.790249Z",
     "iopub.status.busy": "2022-03-28T10:27:13.789349Z",
     "iopub.status.idle": "2022-03-28T10:27:13.811650Z",
     "shell.execute_reply": "2022-03-28T10:27:13.810815Z"
    },
    "papermill": {
     "duration": 0.046619,
     "end_time": "2022-03-28T10:27:13.811810",
     "exception": false,
     "start_time": "2022-03-28T10:27:13.765191",
     "status": "completed"
    },
    "tags": []
   },
   "outputs": [],
   "source": [
    "# add_dataset(\n",
    "#     labels=list(range(19)),\n",
    "#     domains = [0,1,2],\n",
    "#     num_examples_per_domain_per_label=100,\n",
    "#     pickle_path=os.path.join(get_datasets_base_path(), \"metehan.stratified_ds.2022A.pkl\"),\n",
    "#     source_or_target_dataset=\"target\",\n",
    "#     x_transform_func=global_x_transform_func,\n",
    "#     domain_modifier=lambda u: f\"met_{u}\"\n",
    "# )"
   ]
  },
  {
   "cell_type": "code",
   "execution_count": 18,
   "id": "86a863c3",
   "metadata": {
    "execution": {
     "iopub.execute_input": "2022-03-28T10:27:13.863245Z",
     "iopub.status.busy": "2022-03-28T10:27:13.862629Z",
     "iopub.status.idle": "2022-03-28T10:27:13.885745Z",
     "shell.execute_reply": "2022-03-28T10:27:13.884917Z"
    },
    "papermill": {
     "duration": 0.048267,
     "end_time": "2022-03-28T10:27:13.885905",
     "exception": false,
     "start_time": "2022-03-28T10:27:13.837638",
     "status": "completed"
    },
    "tags": []
   },
   "outputs": [],
   "source": [
    "# # from steves_utils.wisig.utils import (\n",
    "# #     ALL_NODES_MINIMUM_100_EXAMPLES,\n",
    "# #     ALL_NODES_MINIMUM_500_EXAMPLES,\n",
    "# #     ALL_NODES_MINIMUM_1000_EXAMPLES,\n",
    "# #     ALL_DAYS\n",
    "# # )\n",
    "\n",
    "# import steves_utils.wisig.utils as wisig\n",
    "\n",
    "\n",
    "# add_dataset(\n",
    "#     labels=wisig.ALL_NODES_MINIMUM_100_EXAMPLES,\n",
    "#     domains = wisig.ALL_DAYS,\n",
    "#     num_examples_per_domain_per_label=100,\n",
    "#     pickle_path=os.path.join(get_datasets_base_path(), \"wisig.node3-19.stratified_ds.2022A.pkl\"),\n",
    "#     source_or_target_dataset=\"target\",\n",
    "#     x_transform_func=global_x_transform_func,\n",
    "#     domain_modifier=lambda u: f\"wisig_{u}\"\n",
    "# )"
   ]
  },
  {
   "cell_type": "code",
   "execution_count": 19,
   "id": "fd5442bc",
   "metadata": {
    "execution": {
     "iopub.execute_input": "2022-03-28T10:27:13.943008Z",
     "iopub.status.busy": "2022-03-28T10:27:13.942011Z",
     "iopub.status.idle": "2022-03-28T10:27:13.963735Z",
     "shell.execute_reply": "2022-03-28T10:27:13.962890Z"
    },
    "papermill": {
     "duration": 0.051515,
     "end_time": "2022-03-28T10:27:13.963895",
     "exception": false,
     "start_time": "2022-03-28T10:27:13.912380",
     "status": "completed"
    },
    "tags": []
   },
   "outputs": [],
   "source": [
    "###################################\n",
    "# Build the dataset\n",
    "###################################\n",
    "train_original_source = Iterable_Aggregator(train_original_source, p.seed)\n",
    "val_original_source = Iterable_Aggregator(val_original_source, p.seed)\n",
    "test_original_source = Iterable_Aggregator(test_original_source, p.seed)\n",
    "\n",
    "\n",
    "train_original_target = Iterable_Aggregator(train_original_target, p.seed)\n",
    "val_original_target = Iterable_Aggregator(val_original_target, p.seed)\n",
    "test_original_target = Iterable_Aggregator(test_original_target, p.seed)\n",
    "\n",
    "# For CNN We only use X and Y. And we only train on the source.\n",
    "# Properly form the data using a transform lambda and Lazy_Iterable_Wrapper. Finally wrap them in a dataloader\n",
    "\n",
    "transform_lambda = lambda ex: ex[1] # Original is (<domain>, <episode>) so we strip down to episode only\n",
    "\n",
    "train_processed_source = Lazy_Iterable_Wrapper(train_original_source, transform_lambda)\n",
    "val_processed_source   = Lazy_Iterable_Wrapper(val_original_source, transform_lambda)\n",
    "test_processed_source  = Lazy_Iterable_Wrapper(test_original_source, transform_lambda)\n",
    "\n",
    "train_processed_target = Lazy_Iterable_Wrapper(train_original_target, transform_lambda)\n",
    "val_processed_target   = Lazy_Iterable_Wrapper(val_original_target, transform_lambda)\n",
    "test_processed_target  = Lazy_Iterable_Wrapper(test_original_target, transform_lambda)\n",
    "\n",
    "datasets = EasyDict({\n",
    "    \"source\": {\n",
    "        \"original\": {\"train\":train_original_source, \"val\":val_original_source, \"test\":test_original_source},\n",
    "        \"processed\": {\"train\":train_processed_source, \"val\":val_processed_source, \"test\":test_processed_source}\n",
    "    },\n",
    "    \"target\": {\n",
    "        \"original\": {\"train\":train_original_target, \"val\":val_original_target, \"test\":test_original_target},\n",
    "        \"processed\": {\"train\":train_processed_target, \"val\":val_processed_target, \"test\":test_processed_target}\n",
    "    },\n",
    "})"
   ]
  },
  {
   "cell_type": "code",
   "execution_count": 20,
   "id": "5b3c01fc",
   "metadata": {
    "execution": {
     "iopub.execute_input": "2022-03-28T10:27:14.017563Z",
     "iopub.status.busy": "2022-03-28T10:27:14.016984Z",
     "iopub.status.idle": "2022-03-28T10:27:27.880219Z",
     "shell.execute_reply": "2022-03-28T10:27:27.879323Z"
    },
    "papermill": {
     "duration": 13.890573,
     "end_time": "2022-03-28T10:27:27.880397",
     "exception": false,
     "start_time": "2022-03-28T10:27:13.989824",
     "status": "completed"
    },
    "tags": []
   },
   "outputs": [
    {
     "name": "stdout",
     "output_type": "stream",
     "text": [
      "{'O_26', 'O_8', 'O_50', 'O_14', 'O_32', 'O_44', 'O_38', 'O_20'}\n"
     ]
    },
    {
     "name": "stdout",
     "output_type": "stream",
     "text": [
      "{'C_2', 'C_1', 'C_5', 'C_3', 'C_4'}\n"
     ]
    },
    {
     "name": "stdout",
     "output_type": "stream",
     "text": [
      "tensor([[[0., 0., 0.,  ..., 0., 0., 0.],\n",
      "         [0., 0., 0.,  ..., 0., 0., 0.]],\n",
      "\n",
      "        [[0., 0., 0.,  ..., 0., 0., 0.],\n",
      "         [0., 0., 0.,  ..., 0., 0., 0.]],\n",
      "\n",
      "        [[0., 0., 0.,  ..., 0., 0., 0.],\n",
      "         [0., 0., 0.,  ..., 0., 0., 0.]],\n",
      "\n",
      "        ...,\n",
      "\n",
      "        [[0., 0., 0.,  ..., 0., 0., 0.],\n",
      "         [0., 0., 0.,  ..., 0., 0., 0.]],\n",
      "\n",
      "        [[0., 0., 0.,  ..., 0., 0., 0.],\n",
      "         [0., 0., 0.,  ..., 0., 0., 0.]],\n",
      "\n",
      "        [[0., 0., 0.,  ..., 0., 0., 0.],\n",
      "         [0., 0., 0.,  ..., 0., 0., 0.]]])\n"
     ]
    }
   ],
   "source": [
    "from steves_utils.transforms import get_average_magnitude, get_average_power\n",
    "\n",
    "print(set([u for u,_ in val_original_source]))\n",
    "print(set([u for u,_ in val_original_target]))\n",
    "\n",
    "s_x, s_y, q_x, q_y, _ = next(iter(train_processed_source))\n",
    "print(s_x)\n",
    "\n",
    "# for ds in [\n",
    "#     train_processed_source,\n",
    "#     val_processed_source,\n",
    "#     test_processed_source,\n",
    "#     train_processed_target,\n",
    "#     val_processed_target,\n",
    "#     test_processed_target\n",
    "# ]:\n",
    "#     for s_x, s_y, q_x, q_y, _ in ds:\n",
    "#         for X in (s_x, q_x):\n",
    "#             for x in X:\n",
    "#                 assert np.isclose(get_average_magnitude(x.numpy()), 1.0)\n",
    "#                 assert np.isclose(get_average_power(x.numpy()), 1.0)\n",
    "                "
   ]
  },
  {
   "cell_type": "code",
   "execution_count": 21,
   "id": "bbdacba1",
   "metadata": {
    "execution": {
     "iopub.execute_input": "2022-03-28T10:27:27.947763Z",
     "iopub.status.busy": "2022-03-28T10:27:27.946040Z",
     "iopub.status.idle": "2022-03-28T10:27:28.178377Z",
     "shell.execute_reply": "2022-03-28T10:27:28.177605Z"
    },
    "papermill": {
     "duration": 0.264446,
     "end_time": "2022-03-28T10:27:28.178573",
     "exception": false,
     "start_time": "2022-03-28T10:27:27.914127",
     "status": "completed"
    },
    "tags": []
   },
   "outputs": [
    {
     "name": "stdout",
     "output_type": "stream",
     "text": [
      "(2, 256)\n"
     ]
    }
   ],
   "source": [
    "###################################\n",
    "# Build the model\n",
    "###################################\n",
    "# easfsl only wants a tuple for the shape\n",
    "model = Steves_Prototypical_Network(x_net, device=p.device, x_shape=tuple(p.x_shape))\n",
    "optimizer = Adam(params=model.parameters(), lr=p.lr)"
   ]
  },
  {
   "cell_type": "code",
   "execution_count": 22,
   "id": "22b39ac5",
   "metadata": {
    "execution": {
     "iopub.execute_input": "2022-03-28T10:27:28.236216Z",
     "iopub.status.busy": "2022-03-28T10:27:28.235833Z",
     "iopub.status.idle": "2022-03-28T10:42:40.132950Z",
     "shell.execute_reply": "2022-03-28T10:42:40.132597Z"
    },
    "papermill": {
     "duration": 911.923205,
     "end_time": "2022-03-28T10:42:40.133037",
     "exception": false,
     "start_time": "2022-03-28T10:27:28.209832",
     "status": "completed"
    },
    "tags": []
   },
   "outputs": [
    {
     "name": "stdout",
     "output_type": "stream",
     "text": [
      "epoch: 1, [batch: 1 / 6720], examples_per_second: 33.5531, train_label_loss: 2.8010, \n"
     ]
    },
    {
     "name": "stdout",
     "output_type": "stream",
     "text": [
      "epoch: 1, [batch: 672 / 6720], examples_per_second: 4771.6156, train_label_loss: 2.8250, \n"
     ]
    },
    {
     "name": "stdout",
     "output_type": "stream",
     "text": [
      "epoch: 1, [batch: 1344 / 6720], examples_per_second: 5096.1782, train_label_loss: 2.8236, \n"
     ]
    },
    {
     "name": "stdout",
     "output_type": "stream",
     "text": [
      "epoch: 1, [batch: 2016 / 6720], examples_per_second: 4953.8504, train_label_loss: 2.5530, \n"
     ]
    },
    {
     "name": "stdout",
     "output_type": "stream",
     "text": [
      "epoch: 1, [batch: 2688 / 6720], examples_per_second: 4822.0833, train_label_loss: 1.6053, \n"
     ]
    },
    {
     "name": "stdout",
     "output_type": "stream",
     "text": [
      "epoch: 1, [batch: 3360 / 6720], examples_per_second: 4926.9754, train_label_loss: 1.4152, \n"
     ]
    },
    {
     "name": "stdout",
     "output_type": "stream",
     "text": [
      "epoch: 1, [batch: 4032 / 6720], examples_per_second: 5201.2419, train_label_loss: 1.3683, \n"
     ]
    },
    {
     "name": "stdout",
     "output_type": "stream",
     "text": [
      "epoch: 1, [batch: 4704 / 6720], examples_per_second: 5086.2652, train_label_loss: 1.2024, \n"
     ]
    },
    {
     "name": "stdout",
     "output_type": "stream",
     "text": [
      "epoch: 1, [batch: 5376 / 6720], examples_per_second: 5075.8912, train_label_loss: 1.2811, \n"
     ]
    },
    {
     "name": "stdout",
     "output_type": "stream",
     "text": [
      "epoch: 1, [batch: 6048 / 6720], examples_per_second: 5444.0170, train_label_loss: 1.4053, \n"
     ]
    },
    {
     "name": "stdout",
     "output_type": "stream",
     "text": [
      "=============================================================\n",
      "epoch: 1, source_val_acc_label: 0.5377, target_val_acc_label: 0.8417, source_val_label_loss: 1.3385, target_val_label_loss: 10.5283, \n",
      "=============================================================\n"
     ]
    },
    {
     "name": "stdout",
     "output_type": "stream",
     "text": [
      "New best\n"
     ]
    },
    {
     "name": "stdout",
     "output_type": "stream",
     "text": [
      "epoch: 2, [batch: 1 / 6720], examples_per_second: 5.5274, train_label_loss: 0.9359, \n"
     ]
    },
    {
     "name": "stdout",
     "output_type": "stream",
     "text": [
      "epoch: 2, [batch: 672 / 6720], examples_per_second: 5195.5851, train_label_loss: 0.7947, \n"
     ]
    },
    {
     "name": "stdout",
     "output_type": "stream",
     "text": [
      "epoch: 2, [batch: 1344 / 6720], examples_per_second: 5391.2158, train_label_loss: 1.4212, \n"
     ]
    },
    {
     "name": "stdout",
     "output_type": "stream",
     "text": [
      "epoch: 2, [batch: 2016 / 6720], examples_per_second: 5469.8133, train_label_loss: 0.5503, \n"
     ]
    },
    {
     "name": "stdout",
     "output_type": "stream",
     "text": [
      "epoch: 2, [batch: 2688 / 6720], examples_per_second: 5034.8608, train_label_loss: 0.9306, \n"
     ]
    },
    {
     "name": "stdout",
     "output_type": "stream",
     "text": [
      "epoch: 2, [batch: 3360 / 6720], examples_per_second: 4882.0288, train_label_loss: 0.6852, \n"
     ]
    },
    {
     "name": "stdout",
     "output_type": "stream",
     "text": [
      "epoch: 2, [batch: 4032 / 6720], examples_per_second: 4936.7699, train_label_loss: 0.6837, \n"
     ]
    },
    {
     "name": "stdout",
     "output_type": "stream",
     "text": [
      "epoch: 2, [batch: 4704 / 6720], examples_per_second: 3898.3602, train_label_loss: 0.6189, \n"
     ]
    },
    {
     "name": "stdout",
     "output_type": "stream",
     "text": [
      "epoch: 2, [batch: 5376 / 6720], examples_per_second: 3810.8690, train_label_loss: 1.3333, \n"
     ]
    },
    {
     "name": "stdout",
     "output_type": "stream",
     "text": [
      "epoch: 2, [batch: 6048 / 6720], examples_per_second: 3908.2316, train_label_loss: 0.9444, \n"
     ]
    },
    {
     "name": "stdout",
     "output_type": "stream",
     "text": [
      "=============================================================\n",
      "epoch: 2, source_val_acc_label: 0.6576, target_val_acc_label: 0.9530, source_val_label_loss: 0.9180, target_val_label_loss: 0.5069, \n",
      "=============================================================\n"
     ]
    },
    {
     "name": "stdout",
     "output_type": "stream",
     "text": [
      "New best\n"
     ]
    },
    {
     "name": "stdout",
     "output_type": "stream",
     "text": [
      "epoch: 3, [batch: 1 / 6720], examples_per_second: 4.0064, train_label_loss: 1.3941, \n"
     ]
    },
    {
     "name": "stdout",
     "output_type": "stream",
     "text": [
      "epoch: 3, [batch: 672 / 6720], examples_per_second: 3802.4312, train_label_loss: 0.6722, \n"
     ]
    },
    {
     "name": "stdout",
     "output_type": "stream",
     "text": [
      "epoch: 3, [batch: 1344 / 6720], examples_per_second: 3862.7420, train_label_loss: 0.9411, \n"
     ]
    },
    {
     "name": "stdout",
     "output_type": "stream",
     "text": [
      "epoch: 3, [batch: 2016 / 6720], examples_per_second: 3863.3340, train_label_loss: 1.2080, \n"
     ]
    },
    {
     "name": "stdout",
     "output_type": "stream",
     "text": [
      "epoch: 3, [batch: 2688 / 6720], examples_per_second: 3875.5763, train_label_loss: 0.7710, \n"
     ]
    },
    {
     "name": "stdout",
     "output_type": "stream",
     "text": [
      "epoch: 3, [batch: 3360 / 6720], examples_per_second: 4375.8512, train_label_loss: 0.6087, \n"
     ]
    },
    {
     "name": "stdout",
     "output_type": "stream",
     "text": [
      "epoch: 3, [batch: 4032 / 6720], examples_per_second: 4494.5038, train_label_loss: 0.7721, \n"
     ]
    },
    {
     "name": "stdout",
     "output_type": "stream",
     "text": [
      "epoch: 3, [batch: 4704 / 6720], examples_per_second: 3885.1426, train_label_loss: 0.7666, \n"
     ]
    },
    {
     "name": "stdout",
     "output_type": "stream",
     "text": [
      "epoch: 3, [batch: 5376 / 6720], examples_per_second: 3883.9091, train_label_loss: 0.5655, \n"
     ]
    },
    {
     "name": "stdout",
     "output_type": "stream",
     "text": [
      "epoch: 3, [batch: 6048 / 6720], examples_per_second: 3928.5454, train_label_loss: 1.1486, \n"
     ]
    },
    {
     "name": "stdout",
     "output_type": "stream",
     "text": [
      "=============================================================\n",
      "epoch: 3, source_val_acc_label: 0.6776, target_val_acc_label: 0.9440, source_val_label_loss: 0.8687, target_val_label_loss: 0.9393, \n",
      "=============================================================\n"
     ]
    },
    {
     "name": "stdout",
     "output_type": "stream",
     "text": [
      "epoch: 4, [batch: 1 / 6720], examples_per_second: 4.0124, train_label_loss: 0.7956, \n"
     ]
    },
    {
     "name": "stdout",
     "output_type": "stream",
     "text": [
      "epoch: 4, [batch: 672 / 6720], examples_per_second: 3838.7979, train_label_loss: 0.5626, \n"
     ]
    },
    {
     "name": "stdout",
     "output_type": "stream",
     "text": [
      "epoch: 4, [batch: 1344 / 6720], examples_per_second: 3887.2168, train_label_loss: 0.5888, \n"
     ]
    },
    {
     "name": "stdout",
     "output_type": "stream",
     "text": [
      "epoch: 4, [batch: 2016 / 6720], examples_per_second: 3870.4673, train_label_loss: 0.6675, \n"
     ]
    },
    {
     "name": "stdout",
     "output_type": "stream",
     "text": [
      "epoch: 4, [batch: 2688 / 6720], examples_per_second: 3875.1405, train_label_loss: 0.8098, \n"
     ]
    },
    {
     "name": "stdout",
     "output_type": "stream",
     "text": [
      "epoch: 4, [batch: 3360 / 6720], examples_per_second: 4210.3953, train_label_loss: 0.5416, \n"
     ]
    },
    {
     "name": "stdout",
     "output_type": "stream",
     "text": [
      "epoch: 4, [batch: 4032 / 6720], examples_per_second: 4543.1102, train_label_loss: 1.0039, \n"
     ]
    },
    {
     "name": "stdout",
     "output_type": "stream",
     "text": [
      "epoch: 4, [batch: 4704 / 6720], examples_per_second: 3784.6974, train_label_loss: 0.9401, \n"
     ]
    },
    {
     "name": "stdout",
     "output_type": "stream",
     "text": [
      "epoch: 4, [batch: 5376 / 6720], examples_per_second: 3841.1694, train_label_loss: 0.5960, \n"
     ]
    },
    {
     "name": "stdout",
     "output_type": "stream",
     "text": [
      "epoch: 4, [batch: 6048 / 6720], examples_per_second: 3892.1366, train_label_loss: 0.7324, \n"
     ]
    },
    {
     "name": "stdout",
     "output_type": "stream",
     "text": [
      "=============================================================\n",
      "epoch: 4, source_val_acc_label: 0.6823, target_val_acc_label: 0.9355, source_val_label_loss: 0.8484, target_val_label_loss: 1.9605, \n",
      "=============================================================\n"
     ]
    },
    {
     "name": "stdout",
     "output_type": "stream",
     "text": [
      "epoch: 5, [batch: 1 / 6720], examples_per_second: 4.0021, train_label_loss: 1.0054, \n"
     ]
    },
    {
     "name": "stdout",
     "output_type": "stream",
     "text": [
      "epoch: 5, [batch: 672 / 6720], examples_per_second: 3840.0159, train_label_loss: 0.9921, \n"
     ]
    },
    {
     "name": "stdout",
     "output_type": "stream",
     "text": [
      "epoch: 5, [batch: 1344 / 6720], examples_per_second: 3829.5997, train_label_loss: 0.7349, \n"
     ]
    },
    {
     "name": "stdout",
     "output_type": "stream",
     "text": [
      "epoch: 5, [batch: 2016 / 6720], examples_per_second: 3877.3182, train_label_loss: 1.2616, \n"
     ]
    },
    {
     "name": "stdout",
     "output_type": "stream",
     "text": [
      "epoch: 5, [batch: 2688 / 6720], examples_per_second: 4057.1596, train_label_loss: 1.0260, \n"
     ]
    },
    {
     "name": "stdout",
     "output_type": "stream",
     "text": [
      "epoch: 5, [batch: 3360 / 6720], examples_per_second: 4447.1475, train_label_loss: 1.3613, \n"
     ]
    },
    {
     "name": "stdout",
     "output_type": "stream",
     "text": [
      "epoch: 5, [batch: 4032 / 6720], examples_per_second: 4745.0591, train_label_loss: 0.5701, \n"
     ]
    },
    {
     "name": "stdout",
     "output_type": "stream",
     "text": [
      "epoch: 5, [batch: 4704 / 6720], examples_per_second: 3955.8171, train_label_loss: 0.6531, \n"
     ]
    },
    {
     "name": "stdout",
     "output_type": "stream",
     "text": [
      "epoch: 5, [batch: 5376 / 6720], examples_per_second: 3995.4768, train_label_loss: 0.7499, \n"
     ]
    },
    {
     "name": "stdout",
     "output_type": "stream",
     "text": [
      "epoch: 5, [batch: 6048 / 6720], examples_per_second: 3985.5313, train_label_loss: 0.5651, \n"
     ]
    },
    {
     "name": "stdout",
     "output_type": "stream",
     "text": [
      "=============================================================\n",
      "epoch: 5, source_val_acc_label: 0.6959, target_val_acc_label: 0.9314, source_val_label_loss: 0.8182, target_val_label_loss: 2.1479, \n",
      "=============================================================\n"
     ]
    },
    {
     "name": "stdout",
     "output_type": "stream",
     "text": [
      "epoch: 6, [batch: 1 / 6720], examples_per_second: 4.0077, train_label_loss: 0.7557, \n"
     ]
    },
    {
     "name": "stdout",
     "output_type": "stream",
     "text": [
      "epoch: 6, [batch: 672 / 6720], examples_per_second: 3868.3753, train_label_loss: 0.4491, \n"
     ]
    },
    {
     "name": "stdout",
     "output_type": "stream",
     "text": [
      "epoch: 6, [batch: 1344 / 6720], examples_per_second: 3869.7967, train_label_loss: 0.8232, \n"
     ]
    },
    {
     "name": "stdout",
     "output_type": "stream",
     "text": [
      "epoch: 6, [batch: 2016 / 6720], examples_per_second: 4010.3056, train_label_loss: 0.6873, \n"
     ]
    },
    {
     "name": "stdout",
     "output_type": "stream",
     "text": [
      "epoch: 6, [batch: 2688 / 6720], examples_per_second: 4267.3474, train_label_loss: 0.8294, \n"
     ]
    },
    {
     "name": "stdout",
     "output_type": "stream",
     "text": [
      "epoch: 6, [batch: 3360 / 6720], examples_per_second: 4393.1350, train_label_loss: 0.8103, \n"
     ]
    },
    {
     "name": "stdout",
     "output_type": "stream",
     "text": [
      "epoch: 6, [batch: 4032 / 6720], examples_per_second: 4559.8739, train_label_loss: 0.9100, \n"
     ]
    },
    {
     "name": "stdout",
     "output_type": "stream",
     "text": [
      "epoch: 6, [batch: 4704 / 6720], examples_per_second: 3814.3728, train_label_loss: 0.9501, \n"
     ]
    },
    {
     "name": "stdout",
     "output_type": "stream",
     "text": [
      "epoch: 6, [batch: 5376 / 6720], examples_per_second: 3800.2058, train_label_loss: 0.6092, \n"
     ]
    },
    {
     "name": "stdout",
     "output_type": "stream",
     "text": [
      "epoch: 6, [batch: 6048 / 6720], examples_per_second: 3852.2149, train_label_loss: 0.8838, \n"
     ]
    },
    {
     "name": "stdout",
     "output_type": "stream",
     "text": [
      "=============================================================\n",
      "epoch: 6, source_val_acc_label: 0.6986, target_val_acc_label: 0.9017, source_val_label_loss: 0.8005, target_val_label_loss: 5.2782, \n",
      "=============================================================\n"
     ]
    },
    {
     "name": "stdout",
     "output_type": "stream",
     "text": [
      "Patience (3) exhausted\n"
     ]
    }
   ],
   "source": [
    "###################################\n",
    "# train\n",
    "###################################\n",
    "jig = PTN_Train_Eval_Test_Jig(model, p.BEST_MODEL_PATH, p.device)\n",
    "\n",
    "jig.train(\n",
    "    train_iterable=datasets.source.processed.train,\n",
    "    source_val_iterable=datasets.source.processed.val,\n",
    "    target_val_iterable=datasets.target.processed.val,\n",
    "    num_epochs=p.n_epoch,\n",
    "    num_logs_per_epoch=p.NUM_LOGS_PER_EPOCH,\n",
    "    patience=p.patience,\n",
    "    optimizer=optimizer,\n",
    "    criteria_for_best=p.criteria_for_best,\n",
    ")"
   ]
  },
  {
   "cell_type": "code",
   "execution_count": 23,
   "id": "31e8fabf",
   "metadata": {
    "execution": {
     "iopub.execute_input": "2022-03-28T10:42:40.219421Z",
     "iopub.status.busy": "2022-03-28T10:42:40.218848Z",
     "iopub.status.idle": "2022-03-28T10:42:40.251178Z",
     "shell.execute_reply": "2022-03-28T10:42:40.250355Z"
    },
    "papermill": {
     "duration": 0.077629,
     "end_time": "2022-03-28T10:42:40.251354",
     "exception": false,
     "start_time": "2022-03-28T10:42:40.173725",
     "status": "completed"
    },
    "tags": []
   },
   "outputs": [],
   "source": [
    "total_experiment_time_secs = time.time() - start_time_secs"
   ]
  },
  {
   "cell_type": "code",
   "execution_count": 24,
   "id": "87b9595b",
   "metadata": {
    "execution": {
     "iopub.execute_input": "2022-03-28T10:42:40.357816Z",
     "iopub.status.busy": "2022-03-28T10:42:40.356827Z",
     "iopub.status.idle": "2022-03-28T10:45:20.514194Z",
     "shell.execute_reply": "2022-03-28T10:45:20.514868Z"
    },
    "papermill": {
     "duration": 160.208616,
     "end_time": "2022-03-28T10:45:20.515102",
     "exception": false,
     "start_time": "2022-03-28T10:42:40.306486",
     "status": "completed"
    },
    "tags": []
   },
   "outputs": [],
   "source": [
    "###################################\n",
    "# Evaluate the model\n",
    "###################################\n",
    "source_test_label_accuracy, source_test_label_loss = jig.test(datasets.source.processed.test)\n",
    "target_test_label_accuracy, target_test_label_loss = jig.test(datasets.target.processed.test)\n",
    "\n",
    "source_val_label_accuracy, source_val_label_loss = jig.test(datasets.source.processed.val)\n",
    "target_val_label_accuracy, target_val_label_loss = jig.test(datasets.target.processed.val)\n",
    "\n",
    "history = jig.get_history()\n",
    "\n",
    "total_epochs_trained = len(history[\"epoch_indices\"])\n",
    "\n",
    "val_dl = Iterable_Aggregator((datasets.source.original.val,datasets.target.original.val))\n",
    "\n",
    "confusion = ptn_confusion_by_domain_over_dataloader(model, p.device, val_dl)\n",
    "per_domain_accuracy = per_domain_accuracy_from_confusion(confusion)\n",
    "\n",
    "# Add a key to per_domain_accuracy for if it was a source domain\n",
    "for domain, accuracy in per_domain_accuracy.items():\n",
    "    per_domain_accuracy[domain] = {\n",
    "        \"accuracy\": accuracy,\n",
    "        \"source?\": domain in p.domains_source\n",
    "    }\n",
    "\n",
    "# Do an independent accuracy assesment JUST TO BE SURE!\n",
    "# _source_test_label_accuracy = independent_accuracy_assesment(model, datasets.source.processed.test, p.device)\n",
    "# _target_test_label_accuracy = independent_accuracy_assesment(model, datasets.target.processed.test, p.device)\n",
    "# _source_val_label_accuracy = independent_accuracy_assesment(model, datasets.source.processed.val, p.device)\n",
    "# _target_val_label_accuracy = independent_accuracy_assesment(model, datasets.target.processed.val, p.device)\n",
    "\n",
    "# assert(_source_test_label_accuracy == source_test_label_accuracy)\n",
    "# assert(_target_test_label_accuracy == target_test_label_accuracy)\n",
    "# assert(_source_val_label_accuracy == source_val_label_accuracy)\n",
    "# assert(_target_val_label_accuracy == target_val_label_accuracy)\n",
    "\n",
    "experiment = {\n",
    "    \"experiment_name\": p.experiment_name,\n",
    "    \"parameters\": dict(p),\n",
    "    \"results\": {\n",
    "        \"source_test_label_accuracy\": source_test_label_accuracy,\n",
    "        \"source_test_label_loss\": source_test_label_loss,\n",
    "        \"target_test_label_accuracy\": target_test_label_accuracy,\n",
    "        \"target_test_label_loss\": target_test_label_loss,\n",
    "        \"source_val_label_accuracy\": source_val_label_accuracy,\n",
    "        \"source_val_label_loss\": source_val_label_loss,\n",
    "        \"target_val_label_accuracy\": target_val_label_accuracy,\n",
    "        \"target_val_label_loss\": target_val_label_loss,\n",
    "        \"total_epochs_trained\": total_epochs_trained,\n",
    "        \"total_experiment_time_secs\": total_experiment_time_secs,\n",
    "        \"confusion\": confusion,\n",
    "        \"per_domain_accuracy\": per_domain_accuracy,\n",
    "    },\n",
    "    \"history\": history,\n",
    "    \"dataset_metrics\": get_dataset_metrics(datasets, \"ptn\"),\n",
    "}"
   ]
  },
  {
   "cell_type": "code",
   "execution_count": 25,
   "id": "54a21829",
   "metadata": {
    "execution": {
     "iopub.execute_input": "2022-03-28T10:45:20.614839Z",
     "iopub.status.busy": "2022-03-28T10:45:20.613339Z",
     "iopub.status.idle": "2022-03-28T10:45:20.841751Z",
     "shell.execute_reply": "2022-03-28T10:45:20.842440Z"
    },
    "papermill": {
     "duration": 0.273956,
     "end_time": "2022-03-28T10:45:20.842642",
     "exception": false,
     "start_time": "2022-03-28T10:45:20.568686",
     "status": "completed"
    },
    "tags": []
   },
   "outputs": [
    {
     "data": {
      "image/png": "[encoded data removed]",
      "text/plain": [
       "<Figure size 1080x504 with 1 Axes>"
      ]
     },
     "metadata": {
      "needs_background": "light"
     },
     "output_type": "display_data"
    }
   ],
   "source": [
    "ax = get_loss_curve(experiment)\n",
    "plt.show()"
   ]
  },
  {
   "cell_type": "code",
   "execution_count": 26,
   "id": "fd8a0f60",
   "metadata": {
    "execution": {
     "iopub.execute_input": "2022-03-28T10:45:20.938013Z",
     "iopub.status.busy": "2022-03-28T10:45:20.937452Z",
     "iopub.status.idle": "2022-03-28T10:45:21.278995Z",
     "shell.execute_reply": "2022-03-28T10:45:21.279318Z"
    },
    "papermill": {
     "duration": 0.388675,
     "end_time": "2022-03-28T10:45:21.279451",
     "exception": false,
     "start_time": "2022-03-28T10:45:20.890776",
     "status": "completed"
    },
    "tags": []
   },
   "outputs": [
    {
     "data": {
      "text/plain": [
       "<AxesSubplot:title={'center':'Results'}>"
      ]
     },
     "execution_count": 26,
     "metadata": {},
     "output_type": "execute_result"
    },
    {
     "data": {
      "image/png": "[encoded data removed]",
      "text/plain": [
       "<Figure size 1080x504 with 1 Axes>"
      ]
     },
     "metadata": {
      "needs_background": "light"
     },
     "output_type": "display_data"
    }
   ],
   "source": [
    "get_results_table(experiment)"
   ]
  },
  {
   "cell_type": "code",
   "execution_count": 27,
   "id": "cf8dc689",
   "metadata": {
    "execution": {
     "iopub.execute_input": "2022-03-28T10:45:21.370935Z",
     "iopub.status.busy": "2022-03-28T10:45:21.370368Z",
     "iopub.status.idle": "2022-03-28T10:45:21.612900Z",
     "shell.execute_reply": "2022-03-28T10:45:21.612472Z"
    },
    "papermill": {
     "duration": 0.289097,
     "end_time": "2022-03-28T10:45:21.613003",
     "exception": false,
     "start_time": "2022-03-28T10:45:21.323906",
     "status": "completed"
    },
    "tags": []
   },
   "outputs": [
    {
     "data": {
      "text/plain": [
       "<AxesSubplot:title={'center':'Per Domain Validation Accuracy'}, xlabel='domain'>"
      ]
     },
     "execution_count": 27,
     "metadata": {},
     "output_type": "execute_result"
    },
    {
     "data": {
      "image/png": "[encoded data removed]",
      "text/plain": [
       "<Figure size 1080x504 with 1 Axes>"
      ]
     },
     "metadata": {
      "needs_background": "light"
     },
     "output_type": "display_data"
    }
   ],
   "source": [
    "get_domain_accuracies(experiment)"
   ]
  },
  {
   "cell_type": "code",
   "execution_count": 28,
   "id": "a74ae082",
   "metadata": {
    "execution": {
     "iopub.execute_input": "2022-03-28T10:45:21.706540Z",
     "iopub.status.busy": "2022-03-28T10:45:21.705953Z",
     "iopub.status.idle": "2022-03-28T10:45:21.731407Z",
     "shell.execute_reply": "2022-03-28T10:45:21.730999Z"
    },
    "papermill": {
     "duration": 0.072814,
     "end_time": "2022-03-28T10:45:21.731504",
     "exception": false,
     "start_time": "2022-03-28T10:45:21.658690",
     "status": "completed"
    },
    "tags": []
   },
   "outputs": [
    {
     "name": "stdout",
     "output_type": "stream",
     "text": [
      "Source Test Label Accuracy: 0.6569986979166667 Target Test Label Accuracy: 0.957026875699888\n",
      "Source Val Label Accuracy: 0.6575520833333334 Target Val Label Accuracy: 0.9530177345537757\n"
     ]
    }
   ],
   "source": [
    "print(\"Source Test Label Accuracy:\", experiment[\"results\"][\"source_test_label_accuracy\"], \"Target Test Label Accuracy:\", experiment[\"results\"][\"target_test_label_accuracy\"])\n",
    "print(\"Source Val Label Accuracy:\", experiment[\"results\"][\"source_val_label_accuracy\"], \"Target Val Label Accuracy:\", experiment[\"results\"][\"target_val_label_accuracy\"])"
   ]
  },
  {
   "cell_type": "code",
   "execution_count": 29,
   "id": "dacca602",
   "metadata": {
    "execution": {
     "iopub.execute_input": "2022-03-28T10:45:21.826686Z",
     "iopub.status.busy": "2022-03-28T10:45:21.826122Z",
     "iopub.status.idle": "2022-03-28T10:45:21.849745Z",
     "shell.execute_reply": "2022-03-28T10:45:21.849332Z"
    },
    "papermill": {
     "duration": 0.072499,
     "end_time": "2022-03-28T10:45:21.849840",
     "exception": false,
     "start_time": "2022-03-28T10:45:21.777341",
     "status": "completed"
    },
    "tags": [
     "experiment_json"
    ]
   },
   "outputs": [
    {
     "data": {
      "text/plain": [
       "'{\"experiment_name\": \"tl_3-jitter10v2:oracle.run1.framed -> cores\", \"parameters\": {\"experiment_name\": \"tl_3-jitter10v2:oracle.run1.framed -> cores\", \"device\": \"cuda\", \"lr\": 0.0001, \"x_shape\": [2, 256], \"n_shot\": 3, \"n_query\": 2, \"train_k_factor\": 3, \"val_k_factor\": 2, \"test_k_factor\": 2, \"torch_default_dtype\": \"torch.float32\", \"n_epoch\": 50, \"patience\": 3, \"criteria_for_best\": \"target_accuracy\", \"x_net\": [{\"class\": \"nnReshape\", \"kargs\": {\"shape\": [-1, 1, 2, 256]}}, {\"class\": \"Conv2d\", \"kargs\": {\"in_channels\": 1, \"out_channels\": 256, \"kernel_size\": [1, 7], \"bias\": false, \"padding\": [0, 3]}}, {\"class\": \"ReLU\", \"kargs\": {\"inplace\": true}}, {\"class\": \"BatchNorm2d\", \"kargs\": {\"num_features\": 256}}, {\"class\": \"Conv2d\", \"kargs\": {\"in_channels\": 256, \"out_channels\": 80, \"kernel_size\": [2, 7], \"bias\": true, \"padding\": [0, 3]}}, {\"class\": \"ReLU\", \"kargs\": {\"inplace\": true}}, {\"class\": \"BatchNorm2d\", \"kargs\": {\"num_features\": 80}}, {\"class\": \"Flatten\", \"kargs\": {}}, {\"class\": \"Linear\", \"kargs\": {\"in_features\": 20480, \"out_features\": 256}}, {\"class\": \"ReLU\", \"kargs\": {\"inplace\": true}}, {\"class\": \"BatchNorm1d\", \"kargs\": {\"num_features\": 256}}, {\"class\": \"Linear\", \"kargs\": {\"in_features\": 256, \"out_features\": 256}}], \"NUM_LOGS_PER_EPOCH\": 10, \"BEST_MODEL_PATH\": \"./best_model.pth\", \"n_way\": 16, \"datasets\": [{\"labels\": [\"1-10.\", \"1-11.\", \"1-15.\", \"1-16.\", \"1-17.\", \"1-18.\", \"1-19.\", \"10-4.\", \"10-7.\", \"11-1.\", \"11-14.\", \"11-17.\", \"11-20.\", \"11-7.\", \"13-20.\", \"13-8.\", \"14-10.\", \"14-11.\", \"14-14.\", \"14-7.\", \"15-1.\", \"15-20.\", \"16-1.\", \"16-16.\", \"17-10.\", \"17-11.\", \"17-2.\", \"19-1.\", \"19-16.\", \"19-19.\", \"19-20.\", \"19-3.\", \"2-10.\", \"2-11.\", \"2-17.\", \"2-18.\", \"2-20.\", \"2-3.\", \"2-4.\", \"2-5.\", \"2-6.\", \"2-7.\", \"2-8.\", \"3-13.\", \"3-18.\", \"3-3.\", \"4-1.\", \"4-10.\", \"4-11.\", \"4-19.\", \"5-5.\", \"6-15.\", \"7-10.\", \"7-14.\", \"8-18.\", \"8-20.\", \"8-3.\", \"8-8.\"], \"domains\": [1, 2, 3, 4, 5], \"num_examples_per_domain_per_label\": -1, \"pickle_path\": \"/root/csc500-main/datasets/cores.stratified_ds.2022A.pkl\", \"source_or_target_dataset\": \"target\", \"x_transforms\": [\"unit_power\", \"jitter_256_10\", \"lowpass_+/-10MHz\", \"take_200\"], \"episode_transforms\": [], \"domain_prefix\": \"C_\"}, {\"labels\": [\"3123D52\", \"3123D65\", \"3123D79\", \"3123D80\", \"3123D54\", \"3123D70\", \"3123D7B\", \"3123D89\", \"3123D58\", \"3123D76\", \"3123D7D\", \"3123EFE\", \"3123D64\", \"3123D78\", \"3123D7E\", \"3124E4A\"], \"domains\": [32, 38, 8, 44, 14, 50, 20, 26], \"num_examples_per_domain_per_label\": 2000, \"pickle_path\": \"/root/csc500-main/datasets/oracle.Run1_framed_2000Examples_stratified_ds.2022A.pkl\", \"source_or_target_dataset\": \"source\", \"x_transforms\": [\"unit_power\", \"jitter_256_10\", \"take_200\", \"resample_20Msps_to_25Msps\"], \"episode_transforms\": [], \"domain_prefix\": \"O_\"}], \"seed\": 154325, \"dataset_seed\": 154325, \"domains_source\": [\"O_32\", \"O_38\", \"O_8\", \"O_44\", \"O_14\", \"O_50\", \"O_20\", \"O_26\"], \"domains_target\": [\"C_1\", \"C_2\", \"C_3\", \"C_4\", \"C_5\"]}, \"results\": {\"source_test_label_accuracy\": 0.6569986979166667, \"source_test_label_loss\": 0.9169855117797852, \"target_test_label_accuracy\": 0.957026875699888, \"target_test_label_loss\": 0.3969833254814148, \"source_val_label_accuracy\": 0.6575520833333334, \"source_val_label_loss\": 0.9179704785346985, \"target_val_label_accuracy\": 0.9530177345537757, \"target_val_label_loss\": 0.5069291591644287, \"total_epochs_trained\": 6, \"total_experiment_time_secs\": 1038.0082864761353, \"confusion\": {\"O_8\": {\"13\": {\"10\": 25, \"13\": 78, \"4\": 42, \"0\": 58, \"14\": 25, \"6\": 10, \"7\": 2}, \"9\": {\"9\": 240}, \"15\": {\"12\": 38, \"15\": 188, \"8\": 14}, \"2\": {\"2\": 202, \"3\": 25, \"15\": 5, \"7\": 7, \"12\": 1}, \"3\": {\"3\": 200, \"2\": 19, \"12\": 20, \"15\": 1}, \"8\": {\"8\": 235, \"15\": 4, \"6\": 1}, \"5\": {\"1\": 17, \"5\": 202, \"10\": 7, \"11\": 6, \"14\": 8}, \"14\": {\"14\": 120, \"4\": 36, \"10\": 60, \"13\": 17, \"1\": 4, \"5\": 1, \"11\": 2}, \"1\": {\"1\": 142, \"11\": 92, \"14\": 3, \"5\": 3}, \"0\": {\"7\": 7, \"0\": 181, \"13\": 44, \"6\": 5, \"4\": 1, \"10\": 1, \"14\": 1}, \"10\": {\"10\": 159, \"14\": 54, \"13\": 17, \"4\": 9, \"5\": 1}, \"6\": {\"6\": 147, \"0\": 6, \"7\": 49, \"4\": 23, \"8\": 3, \"13\": 10, \"14\": 2}, \"11\": {\"11\": 115, \"1\": 109, \"5\": 15, \"14\": 1}, \"7\": {\"6\": 48, \"7\": 178, \"0\": 11, \"13\": 2, \"2\": 1}, \"4\": {\"4\": 132, \"14\": 36, \"13\": 43, \"10\": 4, \"6\": 23, \"0\": 2}, \"12\": {\"15\": 75, \"12\": 140, \"8\": 2, \"3\": 23}}, \"O_38\": {\"13\": {\"13\": 115, \"15\": 83, \"10\": 17, \"1\": 9, \"0\": 1, \"2\": 9, \"8\": 6}, \"12\": {\"12\": 207, \"4\": 19, \"10\": 13, \"14\": 1}, \"2\": {\"2\": 204, \"14\": 22, \"13\": 13, \"11\": 1}, \"9\": {\"9\": 135, \"6\": 74, \"3\": 29, \"5\": 2}, \"15\": {\"13\": 73, \"15\": 116, \"1\": 26, \"8\": 11, \"10\": 7, \"2\": 1, \"5\": 3, \"0\": 3}, \"5\": {\"8\": 45, \"7\": 30, \"5\": 98, \"6\": 16, \"15\": 3, \"1\": 6, \"3\": 5, \"0\": 29, \"9\": 5, \"13\": 2, \"10\": 1}, \"14\": {\"14\": 161, \"11\": 69, \"2\": 7, \"12\": 2, \"10\": 1}, \"0\": {\"7\": 71, \"5\": 33, \"8\": 57, \"0\": 56, \"3\": 10, \"6\": 2, \"10\": 8, \"9\": 1, \"13\": 1, \"15\": 1}, \"3\": {\"3\": 197, \"9\": 23, \"6\": 8, \"7\": 6, \"0\": 3, \"5\": 3}, \"1\": {\"1\": 226, \"15\": 12, \"5\": 1, \"13\": 1}, \"11\": {\"11\": 161, \"14\": 72, \"10\": 2, \"2\": 5}, \"7\": {\"0\": 46, \"7\": 175, \"8\": 8, \"5\": 9, \"3\": 2}, \"8\": {\"15\": 15, \"8\": 117, \"0\": 55, \"5\": 31, \"10\": 10, \"13\": 3, \"7\": 7, \"1\": 2}, \"4\": {\"4\": 209, \"12\": 29, \"10\": 2}, \"10\": {\"10\": 171, \"13\": 11, \"12\": 22, \"14\": 4, \"0\": 7, \"8\": 11, \"15\": 10, \"2\": 3, \"11\": 1}, \"6\": {\"9\": 62, \"6\": 175, \"5\": 3}}, \"O_26\": {\"10\": {\"10\": 93, \"4\": 9, \"0\": 44, \"8\": 35, \"6\": 19, \"14\": 28, \"1\": 11, \"9\": 1}, \"12\": {\"11\": 13, \"12\": 227}, \"1\": {\"4\": 58, \"1\": 84, \"14\": 56, \"0\": 19, \"7\": 9, \"10\": 9, \"8\": 5}, \"0\": {\"10\": 40, \"0\": 56, \"8\": 20, \"4\": 41, \"6\": 6, \"14\": 45, \"1\": 28, \"7\": 3, \"9\": 1}, \"15\": {\"8\": 28, \"9\": 67, \"5\": 42, \"2\": 13, \"15\": 66, \"13\": 11, \"7\": 5, \"10\": 2, \"6\": 6}, \"13\": {\"5\": 48, \"13\": 168, \"9\": 7, \"15\": 8, \"2\": 5, \"6\": 2, \"3\": 2}, \"8\": {\"8\": 89, \"10\": 34, \"15\": 19, \"4\": 12, \"9\": 20, \"6\": 14, \"0\": 27, \"7\": 15, \"2\": 4, \"14\": 4, \"1\": 2}, \"3\": {\"3\": 159, \"7\": 27, \"15\": 1, \"2\": 52, \"1\": 1}, \"11\": {\"11\": 228, \"12\": 12}, \"4\": {\"4\": 70, \"0\": 35, \"1\": 43, \"7\": 17, \"14\": 37, \"8\": 19, \"10\": 15, \"9\": 2, \"15\": 1, \"6\": 1}, \"6\": {\"6\": 177, \"8\": 8, \"9\": 25, \"13\": 2, \"15\": 8, \"10\": 17, \"0\": 2, \"5\": 1}, \"7\": {\"2\": 20, \"14\": 4, \"15\": 5, \"7\": 131, \"4\": 24, \"8\": 19, \"3\": 29, \"1\": 3, \"5\": 3, \"0\": 1, \"10\": 1}, \"14\": {\"1\": 61, \"0\": 41, \"14\": 66, \"4\": 45, \"8\": 10, \"10\": 12, \"7\": 4, \"15\": 1}, \"2\": {\"2\": 93, \"5\": 21, \"15\": 18, \"7\": 20, \"8\": 7, \"3\": 74, \"9\": 5, \"6\": 1, \"13\": 1}, \"5\": {\"5\": 124, \"9\": 24, \"15\": 39, \"13\": 41, \"2\": 10, \"6\": 1, \"3\": 1}, \"9\": {\"6\": 22, \"15\": 58, \"8\": 26, \"9\": 102, \"13\": 11, \"5\": 18, \"10\": 1, \"7\": 1, \"2\": 1}}, \"O_20\": {\"5\": {\"0\": 44, \"5\": 97, \"1\": 41, \"12\": 33, \"15\": 10, \"3\": 12, \"4\": 2, \"13\": 1}, \"15\": {\"0\": 40, \"15\": 144, \"1\": 40, \"13\": 5, \"5\": 8, \"12\": 2, \"9\": 1}, \"9\": {\"9\": 90, \"2\": 71, \"7\": 21, \"3\": 24, \"13\": 6, \"1\": 4, \"12\": 23, \"15\": 1}, \"7\": {\"8\": 9, \"7\": 159, \"9\": 24, \"2\": 32, \"3\": 14, \"13\": 1, \"12\": 1}, \"3\": {\"3\": 97, \"2\": 18, \"9\": 25, \"12\": 55, \"4\": 6, \"1\": 4, \"8\": 12, \"7\": 11, \"5\": 12}, \"8\": {\"8\": 156, \"4\": 41, \"3\": 10, \"7\": 13, \"6\": 4, \"14\": 4, \"10\": 12}, \"4\": {\"8\": 34, \"4\": 186, \"5\": 1, \"3\": 11, \"10\": 6, \"12\": 2}, \"6\": {\"14\": 21, \"6\": 216, \"10\": 1, \"7\": 2}, \"2\": {\"9\": 72, \"7\": 34, \"2\": 98, \"13\": 13, \"12\": 10, \"3\": 11, \"1\": 1, \"0\": 1}, \"12\": {\"9\": 11, \"12\": 91, \"5\": 29, \"3\": 52, \"0\": 12, \"1\": 29, \"4\": 1, \"8\": 2, \"2\": 9, \"15\": 3, \"7\": 1}, \"0\": {\"5\": 56, \"0\": 65, \"3\": 2, \"15\": 53, \"12\": 16, \"1\": 44, \"2\": 1, \"9\": 2, \"4\": 1}, \"13\": {\"13\": 218, \"2\": 12, \"9\": 6, \"15\": 1, \"1\": 2, \"0\": 1}, \"10\": {\"10\": 179, \"14\": 43, \"8\": 14, \"4\": 4}, \"11\": {\"11\": 240}, \"14\": {\"14\": 172, \"10\": 45, \"8\": 4, \"6\": 19}, \"1\": {\"1\": 69, \"0\": 49, \"5\": 50, \"3\": 3, \"12\": 33, \"15\": 33, \"2\": 2, \"13\": 1}}, \"O_50\": {\"1\": {\"6\": 27, \"1\": 128, \"4\": 29, \"15\": 53, \"11\": 2, \"5\": 1}, \"2\": {\"2\": 230, \"0\": 10}, \"8\": {\"8\": 226, \"3\": 9, \"10\": 5}, \"7\": {\"7\": 151, \"13\": 45, \"5\": 30, \"10\": 13, \"0\": 1}, \"14\": {\"14\": 231, \"12\": 6, \"11\": 3}, \"6\": {\"13\": 21, \"4\": 38, \"6\": 113, \"1\": 23, \"5\": 37, \"15\": 3, \"0\": 5}, \"3\": {\"3\": 238, \"8\": 2}, \"4\": {\"4\": 73, \"6\": 35, \"1\": 58, \"5\": 27, \"15\": 39, \"13\": 5, \"7\": 3}, \"12\": {\"12\": 207, \"9\": 21, \"14\": 7, \"11\": 5}, \"15\": {\"15\": 153, \"1\": 47, \"4\": 30, \"11\": 8, \"6\": 2}, \"11\": {\"11\": 200, \"9\": 21, \"14\": 10, \"15\": 8, \"12\": 1}, \"0\": {\"0\": 208, \"10\": 13, \"2\": 18, \"5\": 1}, \"9\": {\"9\": 173, \"12\": 26, \"11\": 39, \"14\": 2}, \"10\": {\"10\": 207, \"7\": 17, \"13\": 6, \"0\": 6, \"8\": 3, \"5\": 1}, \"5\": {\"6\": 44, \"7\": 63, \"13\": 55, \"5\": 59, \"4\": 13, \"1\": 3, \"15\": 2, \"0\": 1}, \"13\": {\"5\": 56, \"7\": 40, \"13\": 116, \"6\": 22, \"0\": 1, \"10\": 2, \"4\": 3}}, \"O_32\": {\"2\": {\"4\": 51, \"2\": 179, \"0\": 9, \"7\": 1}, \"6\": {\"6\": 240}, \"5\": {\"5\": 50, \"14\": 9, \"0\": 29, \"3\": 16, \"8\": 38, \"13\": 55, \"7\": 22, \"4\": 17, \"11\": 4}, \"12\": {\"12\": 240}, \"13\": {\"7\": 18, \"13\": 73, \"5\": 63, \"8\": 28, \"4\": 7, \"14\": 14, \"3\": 27, \"0\": 8, \"11\": 2}, \"9\": {\"9\": 239, \"12\": 1}, \"11\": {\"11\": 177, \"14\": 52, \"7\": 4, \"13\": 2, \"5\": 5}, \"1\": {\"1\": 235, \"10\": 5}, \"3\": {\"3\": 220, \"13\": 10, \"5\": 5, \"8\": 4, \"14\": 1}, \"7\": {\"7\": 92, \"5\": 30, \"0\": 14, \"14\": 50, \"13\": 21, \"11\": 11, \"4\": 18, \"2\": 4}, \"14\": {\"11\": 81, \"14\": 51, \"7\": 66, \"5\": 16, \"13\": 15, \"2\": 2, \"4\": 6, \"0\": 1, \"3\": 2}, \"8\": {\"8\": 160, \"0\": 10, \"13\": 41, \"5\": 24, \"3\": 2, \"4\": 1, \"14\": 1, \"15\": 1}, \"4\": {\"4\": 109, \"0\": 49, \"5\": 8, \"2\": 34, \"7\": 27, \"13\": 7, \"14\": 3, \"8\": 3}, \"0\": {\"0\": 103, \"5\": 24, \"2\": 18, \"4\": 56, \"8\": 15, \"7\": 12, \"14\": 3, \"13\": 9}, \"10\": {\"10\": 237, \"1\": 3}, \"15\": {\"15\": 239, \"3\": 1}}, \"O_44\": {\"13\": {\"9\": 33, \"13\": 139, \"6\": 34, \"11\": 31, \"4\": 2, \"7\": 1}, \"4\": {\"4\": 141, \"14\": 91, \"15\": 5, \"13\": 2, \"5\": 1}, \"6\": {\"11\": 12, \"6\": 159, \"9\": 21, \"13\": 42, \"7\": 6}, \"0\": {\"0\": 125, \"15\": 17, \"8\": 83, \"5\": 15}, \"10\": {\"10\": 170, \"1\": 22, \"2\": 24, \"12\": 24}, \"7\": {\"7\": 146, \"2\": 40, \"1\": 1, \"6\": 12, \"9\": 38, \"3\": 3}, \"14\": {\"15\": 23, \"4\": 68, \"5\": 4, \"14\": 145}, \"15\": {\"14\": 14, \"5\": 10, \"15\": 183, \"0\": 27, \"8\": 4, \"4\": 2}, \"5\": {\"5\": 189, \"8\": 9, \"14\": 9, \"0\": 21, \"15\": 11, \"4\": 1}, \"2\": {\"2\": 165, \"7\": 38, \"1\": 14, \"10\": 20, \"3\": 2, \"12\": 1}, \"9\": {\"7\": 35, \"9\": 132, \"13\": 37, \"6\": 28, \"2\": 8}, \"12\": {\"12\": 184, \"1\": 40, \"10\": 16}, \"8\": {\"8\": 124, \"0\": 101, \"15\": 10, \"5\": 5}, \"3\": {\"3\": 208, \"1\": 31, \"7\": 1}, \"1\": {\"12\": 53, \"1\": 127, \"3\": 31, \"10\": 21, \"2\": 8}, \"11\": {\"13\": 37, \"11\": 177, \"6\": 26}}, \"O_14\": {\"1\": {\"1\": 220, \"5\": 19, \"7\": 1}, \"15\": {\"15\": 209, \"7\": 31}, \"10\": {\"10\": 206, \"0\": 33, \"11\": 1}, \"2\": {\"3\": 21, \"2\": 118, \"14\": 32, \"4\": 16, \"13\": 21, \"6\": 14, \"5\": 17, \"15\": 1}, \"9\": {\"9\": 239, \"12\": 1}, \"5\": {\"5\": 140, \"4\": 52, \"1\": 41, \"2\": 4, \"3\": 1, \"7\": 1, \"15\": 1}, \"7\": {\"7\": 225, \"15\": 15}, \"13\": {\"13\": 52, \"6\": 74, \"2\": 35, \"14\": 77, \"3\": 1, \"5\": 1}, \"8\": {\"8\": 240}, \"6\": {\"13\": 82, \"6\": 125, \"2\": 10, \"14\": 23}, \"3\": {\"3\": 206, \"4\": 18, \"14\": 8, \"2\": 7, \"0\": 1}, \"12\": {\"12\": 240}, \"0\": {\"0\": 175, \"10\": 56, \"3\": 3, \"11\": 3, \"8\": 3}, \"4\": {\"4\": 164, \"1\": 5, \"3\": 23, \"5\": 34, \"2\": 14}, \"14\": {\"14\": 176, \"3\": 3, \"6\": 15, \"13\": 32, \"2\": 14}, \"11\": {\"11\": 202, \"9\": 14, \"10\": 22, \"0\": 2}}, \"C_2\": {\"21\": {\"21\": 120}, \"4\": {\"4\": 123, \"9\": 3, \"45\": 1, \"40\": 1, \"29\": 1, \"48\": 1}, \"6\": {\"6\": 106, \"46\": 2, \"50\": 12, \"25\": 2, \"18\": 1, \"30\": 1}, \"10\": {\"10\": 109, \"24\": 3}, \"33\": {\"33\": 28}, \"56\": {\"56\": 118, \"0\": 2, \"22\": 2}, \"20\": {\"20\": 121, \"53\": 11}, \"24\": {\"24\": 88, \"43\": 4, \"38\": 2, \"10\": 2}, \"45\": {\"45\": 113, \"32\": 1, \"4\": 8, \"54\": 3, \"17\": 3}, \"32\": {\"32\": 28}, \"27\": {\"27\": 148}, \"53\": {\"53\": 129, \"20\": 7}, \"8\": {\"8\": 160}, \"54\": {\"54\": 108}, \"50\": {\"50\": 117, \"6\": 12, \"25\": 3, \"18\": 2}, \"44\": {\"45\": 1, \"44\": 82, \"19\": 6, \"29\": 6, \"40\": 5}, \"5\": {\"5\": 119, \"47\": 1}, \"38\": {\"38\": 19, \"24\": 1}, \"19\": {\"40\": 16, \"19\": 112, \"9\": 4}, \"1\": {\"1\": 97, \"57\": 15}, \"30\": {\"30\": 141, \"23\": 3}, \"15\": {\"15\": 144}, \"23\": {\"23\": 145, \"2\": 1}, \"35\": {\"35\": 29, \"9\": 1, \"40\": 2}, \"22\": {\"22\": 127, \"56\": 1}, \"40\": {\"40\": 118, \"9\": 5, \"19\": 15, \"4\": 2}, \"46\": {\"46\": 103, \"15\": 9, \"52\": 12, \"16\": 1, \"11\": 1}, \"3\": {\"3\": 84, \"21\": 6, \"52\": 2}, \"48\": {\"48\": 148}, \"52\": {\"52\": 124}, \"2\": {\"2\": 32}, \"26\": {\"26\": 24}, \"17\": {\"17\": 100, \"54\": 4}, \"55\": {\"55\": 138, \"42\": 2, \"57\": 2, \"1\": 1, \"47\": 1}, \"51\": {\"51\": 122}, \"42\": {\"42\": 29, \"55\": 7}, \"41\": {\"41\": 19, \"18\": 1}, \"31\": {\"31\": 28}, \"16\": {\"16\": 137, \"46\": 1}, \"36\": {\"36\": 116}, \"49\": {\"49\": 24}, \"0\": {\"0\": 48}, \"18\": {\"41\": 3, \"18\": 45}, \"25\": {\"49\": 1, \"25\": 136, \"36\": 3, \"30\": 2, \"41\": 4}, \"9\": {\"9\": 113, \"4\": 4, \"35\": 3, \"40\": 2}, \"47\": {\"47\": 132}, \"7\": {\"7\": 36}, \"37\": {\"37\": 36}, \"13\": {\"13\": 114, \"10\": 1, \"43\": 1}, \"14\": {\"14\": 13, \"56\": 4, \"1\": 1, \"22\": 2, \"31\": 1, \"47\": 1, \"0\": 2}, \"34\": {\"34\": 28}, \"57\": {\"57\": 127, \"1\": 12, \"55\": 1}, \"11\": {\"11\": 138}, \"39\": {\"39\": 28}, \"12\": {\"12\": 91, \"8\": 1}, \"28\": {\"28\": 28}, \"29\": {\"29\": 126, \"19\": 2}, \"43\": {\"43\": 140}}, \"C_5\": {\"12\": {\"12\": 93, \"7\": 1, \"6\": 2}, \"8\": {\"8\": 142}, \"29\": {\"29\": 132}, \"57\": {\"57\": 126}, \"38\": {\"38\": 32}, \"23\": {\"23\": 124}, \"56\": {\"56\": 137, \"0\": 1}, \"49\": {\"49\": 36}, \"4\": {\"4\": 100}, \"48\": {\"48\": 134, \"9\": 1, \"45\": 1}, \"21\": {\"21\": 144}, \"30\": {\"30\": 128}, \"1\": {\"1\": 144, \"55\": 4}, \"34\": {\"34\": 35, \"28\": 1}, \"35\": {\"35\": 33, \"56\": 1, \"0\": 2}, \"55\": {\"55\": 143, \"1\": 9}, \"5\": {\"5\": 116, \"40\": 3, \"44\": 3}, \"52\": {\"52\": 125, \"16\": 1}, \"6\": {\"6\": 116, \"8\": 9, \"18\": 1, \"25\": 2}, \"36\": {\"36\": 92}, \"41\": {\"41\": 28}, \"3\": {\"3\": 82, \"46\": 18}, \"28\": {\"28\": 30, \"34\": 2}, \"18\": {\"18\": 64}, \"25\": {\"25\": 128, \"18\": 4, \"6\": 1, \"50\": 2, \"8\": 1}, \"47\": {\"47\": 100}, \"13\": {\"13\": 144, \"10\": 10, \"24\": 2, \"15\": 1, \"11\": 2, \"43\": 1}, \"11\": {\"11\": 128, \"43\": 16}, \"53\": {\"53\": 141, \"8\": 2, \"6\": 1}, \"33\": {\"33\": 32}, \"46\": {\"46\": 134, \"3\": 14}, \"50\": {\"50\": 127, \"53\": 1, \"52\": 1, \"20\": 13, \"23\": 3, \"21\": 3}, \"10\": {\"10\": 63, \"13\": 5}, \"15\": {\"15\": 135, \"13\": 2, \"43\": 1}, \"44\": {\"44\": 140}, \"2\": {\"2\": 25, \"31\": 3}, \"7\": {\"7\": 32}, \"43\": {\"43\": 118, \"11\": 20}, \"32\": {\"32\": 31, \"9\": 1}, \"0\": {\"0\": 117, \"56\": 4, \"35\": 3}, \"39\": {\"39\": 20}, \"26\": {\"26\": 24}, \"27\": {\"27\": 112}, \"54\": {\"54\": 112}, \"17\": {\"17\": 116}, \"14\": {\"3\": 3, \"36\": 5, \"14\": 22, \"2\": 3, \"0\": 1, \"56\": 1, \"31\": 4, \"34\": 1, \"54\": 2, \"57\": 1, \"49\": 1}, \"16\": {\"16\": 148}, \"9\": {\"9\": 146, \"27\": 2}, \"19\": {\"19\": 149, \"40\": 1, \"27\": 2}, \"20\": {\"20\": 131, \"50\": 5, \"25\": 2}, \"37\": {\"37\": 24}, \"24\": {\"24\": 80}, \"40\": {\"40\": 122}, \"45\": {\"9\": 12, \"45\": 76, \"4\": 3, \"48\": 8, \"55\": 2, \"30\": 6, \"27\": 14, \"1\": 3}, \"22\": {\"22\": 28}, \"42\": {\"42\": 38, \"35\": 1, \"0\": 1}, \"51\": {\"51\": 114, \"53\": 3, \"20\": 1}, \"31\": {\"31\": 35, \"2\": 1}}, \"C_1\": {\"27\": {\"27\": 142}, \"2\": {\"2\": 36}, \"33\": {\"33\": 32}, \"45\": {\"45\": 153, \"42\": 2, \"7\": 1}, \"38\": {\"38\": 24}, \"4\": {\"4\": 128, \"17\": 2, \"19\": 2}, \"31\": {\"31\": 22, \"23\": 2, \"15\": 3, \"49\": 1}, \"55\": {\"55\": 136, \"54\": 4}, \"32\": {\"32\": 32}, \"57\": {\"57\": 127, \"1\": 6, \"56\": 7}, \"14\": {\"14\": 5, \"30\": 1, \"53\": 4, \"8\": 1, \"18\": 2, \"9\": 4, \"42\": 2, \"45\": 2, \"25\": 2, \"41\": 1}, \"16\": {\"16\": 140}, \"34\": {\"34\": 24}, \"56\": {\"57\": 15, \"56\": 111}, \"24\": {\"24\": 97, \"22\": 2, \"52\": 5, \"21\": 4}, \"30\": {\"30\": 112}, \"17\": {\"17\": 64}, \"13\": {\"13\": 136, \"12\": 1, \"51\": 1}, \"39\": {\"39\": 28}, \"50\": {\"50\": 144, \"46\": 2}, \"20\": {\"20\": 140}, \"41\": {\"41\": 24}, \"53\": {\"53\": 126}, \"48\": {\"48\": 142}, \"36\": {\"36\": 64}, \"8\": {\"8\": 140}, \"15\": {\"15\": 115, \"23\": 16, \"31\": 1}, \"40\": {\"57\": 4, \"40\": 123, \"50\": 1, \"29\": 12, \"4\": 3, \"1\": 2, \"19\": 2, \"56\": 7, \"45\": 2}, \"37\": {\"37\": 32}, \"21\": {\"24\": 16, \"21\": 85, \"31\": 1, \"15\": 6, \"22\": 6, \"52\": 5, \"28\": 1}, \"35\": {\"35\": 35, \"44\": 1}, \"49\": {\"49\": 29, \"15\": 1, \"23\": 1, \"21\": 1}, \"26\": {\"26\": 24}, \"28\": {\"28\": 25, \"22\": 2, \"10\": 1}, \"12\": {\"12\": 116}, \"5\": {\"5\": 148, \"9\": 4}, \"29\": {\"29\": 136, \"57\": 2, \"56\": 2}, \"47\": {\"47\": 140}, \"10\": {\"10\": 93, \"28\": 1, \"22\": 2}, \"18\": {\"18\": 62, \"25\": 7, \"50\": 1, \"20\": 1, \"5\": 1}, \"9\": {\"9\": 126}, \"3\": {\"3\": 137, \"36\": 2, \"12\": 1}, \"52\": {\"52\": 107, \"24\": 6, \"22\": 15, \"21\": 4}, \"25\": {\"25\": 128, \"18\": 8}, \"19\": {\"19\": 155, \"1\": 1}, \"11\": {\"11\": 131, \"15\": 2, \"22\": 1, \"21\": 2}, \"7\": {\"7\": 28}, \"23\": {\"15\": 25, \"23\": 106, \"31\": 3, \"49\": 1, \"21\": 1}, \"44\": {\"44\": 130, \"35\": 2}, \"42\": {\"42\": 39, \"45\": 1}, \"54\": {\"54\": 104}, \"1\": {\"1\": 96, \"57\": 3, \"56\": 1}, \"46\": {\"46\": 122, \"53\": 5, \"41\": 1}, \"6\": {\"6\": 94, \"2\": 1, \"30\": 1}, \"43\": {\"43\": 144}, \"51\": {\"51\": 142}, \"22\": {\"22\": 109, \"24\": 1, \"11\": 4, \"10\": 4, \"52\": 11, \"21\": 4, \"28\": 3}, \"0\": {\"0\": 127, \"23\": 1}}, \"C_4\": {\"32\": {\"32\": 23, \"46\": 1}, \"2\": {\"2\": 36}, \"41\": {\"41\": 35, \"31\": 1}, \"11\": {\"11\": 95, \"41\": 1, \"32\": 1, \"43\": 4, \"22\": 1}, \"57\": {\"57\": 98, \"35\": 2}, \"6\": {\"6\": 92, \"37\": 1, \"20\": 6, \"51\": 2, \"53\": 8, \"52\": 1, \"3\": 1, \"23\": 1}, \"23\": {\"23\": 136}, \"52\": {\"52\": 116}, \"38\": {\"38\": 40}, \"50\": {\"50\": 116, \"36\": 3, \"20\": 4, \"21\": 1, \"3\": 2, \"25\": 3, \"53\": 2, \"23\": 1}, \"55\": {\"55\": 152}, \"46\": {\"32\": 3, \"46\": 137, \"0\": 8, \"49\": 3, \"5\": 2, \"38\": 1}, \"37\": {\"37\": 24}, \"20\": {\"23\": 1, \"20\": 111, \"25\": 2, \"3\": 4}, \"49\": {\"49\": 19, \"46\": 1}, \"45\": {\"45\": 88, \"27\": 2, \"40\": 2, \"9\": 4}, \"54\": {\"54\": 106, \"28\": 2}, \"3\": {\"3\": 105, \"36\": 7, \"20\": 7, \"25\": 4, \"50\": 1}, \"13\": {\"13\": 151, \"10\": 1}, \"18\": {\"18\": 107, \"25\": 1}, \"21\": {\"21\": 126}, \"43\": {\"43\": 144}, \"47\": {\"47\": 120}, \"4\": {\"4\": 126, \"9\": 2, \"48\": 2, \"44\": 2}, \"12\": {\"12\": 92}, \"9\": {\"9\": 122, \"54\": 1, \"27\": 2, \"48\": 1, \"4\": 2}, \"7\": {\"7\": 24}, \"56\": {\"56\": 111, \"46\": 1}, \"28\": {\"54\": 2, \"28\": 30}, \"44\": {\"44\": 122, \"19\": 5, \"45\": 1, \"4\": 2, \"40\": 2}, \"24\": {\"24\": 55, \"46\": 1}, \"33\": {\"33\": 35, \"40\": 1}, \"35\": {\"35\": 33, \"57\": 7}, \"51\": {\"51\": 137, \"20\": 1}, \"39\": {\"39\": 20}, \"36\": {\"36\": 88, \"25\": 1, \"3\": 3}, \"19\": {\"19\": 134, \"44\": 6}, \"0\": {\"0\": 79, \"46\": 1}, \"15\": {\"15\": 134, \"5\": 1, \"11\": 1}, \"29\": {\"29\": 122, \"57\": 2}, \"30\": {\"30\": 43, \"8\": 1}, \"1\": {\"1\": 40}, \"22\": {\"22\": 128}, \"40\": {\"55\": 2, \"40\": 142, \"19\": 2}, \"8\": {\"8\": 128}, \"53\": {\"53\": 138}, \"34\": {\"34\": 24}, \"10\": {\"10\": 118, \"43\": 1, \"13\": 3}, \"31\": {\"31\": 28}, \"17\": {\"17\": 77, \"27\": 3}, \"16\": {\"16\": 95, \"15\": 1}, \"42\": {\"42\": 32}, \"27\": {\"27\": 139, \"17\": 3}, \"14\": {\"14\": 7, \"57\": 3, \"0\": 1, \"46\": 1, \"49\": 1, \"47\": 1, \"35\": 2}, \"25\": {\"25\": 113, \"36\": 3, \"18\": 4, \"23\": 2}, \"48\": {\"48\": 132}, \"26\": {\"26\": 24}, \"5\": {\"5\": 105, \"22\": 1, \"46\": 2}}, \"C_3\": {\"14\": {\"1\": 2, \"14\": 22, \"56\": 6, \"29\": 1, \"34\": 2, \"28\": 2, \"47\": 1, \"22\": 1, \"57\": 2, \"0\": 1}, \"18\": {\"18\": 83, \"25\": 1}, \"30\": {\"30\": 120}, \"16\": {\"16\": 155, \"46\": 1}, \"1\": {\"1\": 93, \"57\": 6, \"34\": 1}, \"20\": {\"20\": 132}, \"7\": {\"7\": 36}, \"52\": {\"52\": 127, \"3\": 3}, \"9\": {\"9\": 140}, \"23\": {\"23\": 143, \"47\": 1}, \"55\": {\"55\": 151, \"47\": 13}, \"29\": {\"29\": 122, \"40\": 2, \"19\": 1, \"9\": 1}, \"56\": {\"56\": 134}, \"3\": {\"3\": 105, \"20\": 7, \"50\": 3, \"52\": 6, \"21\": 3}, \"42\": {\"42\": 28}, \"6\": {\"6\": 63, \"26\": 1, \"46\": 1, \"25\": 7, \"36\": 2, \"30\": 2, \"18\": 7, \"23\": 1, \"50\": 3, \"38\": 1}, \"5\": {\"5\": 112, \"47\": 4}, \"27\": {\"27\": 141, \"17\": 2, \"48\": 1}, \"47\": {\"47\": 79, \"55\": 13}, \"39\": {\"39\": 15, \"5\": 1}, \"34\": {\"34\": 28, \"35\": 3, \"57\": 1}, \"4\": {\"4\": 121, \"27\": 3, \"19\": 2}, \"24\": {\"24\": 104}, \"46\": {\"46\": 110, \"52\": 2, \"16\": 4, \"26\": 1, \"15\": 1}, \"50\": {\"50\": 111, \"20\": 11, \"6\": 2, \"52\": 1, \"3\": 1}, \"38\": {\"38\": 27, \"25\": 1}, \"54\": {\"54\": 89, \"17\": 11}, \"35\": {\"35\": 26, \"34\": 2}, \"2\": {\"2\": 31, \"36\": 1}, \"41\": {\"41\": 28}, \"57\": {\"57\": 115, \"1\": 3}, \"25\": {\"25\": 128, \"33\": 1, \"18\": 6, \"6\": 9, \"30\": 6}, \"48\": {\"48\": 116}, \"33\": {\"33\": 28}, \"45\": {\"45\": 51, \"32\": 2, \"4\": 5, \"54\": 2}, \"13\": {\"13\": 126}, \"36\": {\"36\": 98, \"2\": 2}, \"43\": {\"43\": 132}, \"28\": {\"28\": 26, \"1\": 1, \"57\": 1}, \"0\": {\"0\": 123, \"22\": 1}, \"12\": {\"12\": 91, \"50\": 1}, \"31\": {\"31\": 28}, \"40\": {\"40\": 96, \"19\": 14, \"9\": 2, \"27\": 1, \"44\": 2, \"29\": 1}, \"44\": {\"44\": 67, \"19\": 6, \"40\": 7, \"4\": 2, \"9\": 5, \"29\": 1}, \"32\": {\"32\": 28}, \"26\": {\"26\": 24}, \"8\": {\"8\": 116}, \"10\": {\"10\": 64}, \"15\": {\"15\": 140, \"5\": 1, \"23\": 1}, \"21\": {\"21\": 128}, \"37\": {\"37\": 28}, \"17\": {\"17\": 94, \"54\": 14}, \"51\": {\"51\": 124}, \"53\": {\"53\": 143, \"8\": 1}, \"19\": {\"40\": 6, \"19\": 128, \"44\": 1, \"29\": 1}, \"49\": {\"49\": 20}, \"11\": {\"11\": 138}, \"22\": {\"14\": 1, \"22\": 123, \"0\": 6}}}, \"per_domain_accuracy\": {\"O_8\": {\"accuracy\": 0.6924479166666667, \"source?\": true}, \"O_38\": {\"accuracy\": 0.65703125, \"source?\": true}, \"O_26\": {\"accuracy\": 0.5033854166666667, \"source?\": true}, \"O_20\": {\"accuracy\": 0.59296875, \"source?\": true}, \"O_50\": {\"accuracy\": 0.7065104166666667, \"source?\": true}, \"O_32\": {\"accuracy\": 0.6885416666666667, \"source?\": true}, \"O_44\": {\"accuracy\": 0.6546875, \"source?\": true}, \"O_14\": {\"accuracy\": 0.76484375, \"source?\": true}, \"C_2\": {\"accuracy\": 0.9509943181818182, \"source?\": false}, \"C_5\": {\"accuracy\": 0.9529494382022472, \"source?\": false}, \"C_1\": {\"accuracy\": 0.9472870879120879, \"source?\": false}, \"C_4\": {\"accuracy\": 0.9644461077844312, \"source?\": false}, \"C_3\": {\"accuracy\": 0.950109649122807, \"source?\": false}}}, \"history\": {\"epoch_indices\": [1, 2, 3, 4, 5, 6], \"train_label_loss\": [1.9483702683910018, 0.9503717475127251, 0.8888091762151037, 0.8520446696895219, 0.8244488172587894, 0.8026707216032913], \"source_val_label_loss\": [1.3384647369384766, 0.9179704785346985, 0.8686841130256653, 0.8484272956848145, 0.8182430267333984, 0.8004630208015442], \"target_val_label_loss\": [10.52825927734375, 0.5069291591644287, 0.939312756061554, 1.9605319499969482, 2.1479434967041016, 5.27820348739624], \"source_val_acc_label\": [0.5377278645833333, 0.6575520833333334, 0.6775716145833334, 0.6822916666666666, 0.6959309895833333, 0.6986002604166667], \"target_val_acc_label\": [0.8417119565217391, 0.9530177345537757, 0.9440431922196796, 0.9354977116704806, 0.9314216247139588, 0.9016733409610984]}, \"dataset_metrics\": {\"source\": {\"train\": {\"n_unique_x\": 179200, \"n_unique_y\": 16, \"n_batch/episode\": 6720}, \"val\": {\"n_unique_x\": 38400, \"n_unique_y\": 16, \"n_batch/episode\": 960}, \"test\": {\"n_unique_x\": 38400, \"n_unique_y\": 16, \"n_batch/episode\": 960}}, \"target\": {\"train\": {\"n_unique_x\": 175127, \"n_unique_y\": 58, \"n_batch/episode\": 6303}, \"val\": {\"n_unique_x\": 37135, \"n_unique_y\": 58, \"n_batch/episode\": 874}, \"test\": {\"n_unique_x\": 37673, \"n_unique_y\": 58, \"n_batch/episode\": 893}}}}'"
      ]
     },
     "execution_count": 29,
     "metadata": {},
     "output_type": "execute_result"
    }
   ],
   "source": [
    "json.dumps(experiment)"
   ]
  }
 ],
 "metadata": {
  "celltoolbar": "Tags",
  "kernelspec": {
   "display_name": "Python 3 (ipykernel)",
   "language": "python",
   "name": "python3"
  },
  "language_info": {
   "codemirror_mode": {
    "name": "ipython",
    "version": 3
   },
   "file_extension": ".py",
   "mimetype": "text/x-python",
   "name": "python",
   "nbconvert_exporter": "python",
   "pygments_lexer": "ipython3",
   "version": "3.8.12"
  },
  "papermill": {
   "default_parameters": {},
   "duration": 1206.578918,
   "end_time": "2022-03-28T10:45:25.360292",
   "environment_variables": {},
   "exception": null,
   "input_path": "/root/csc500-main/csc500-notebooks/templates/tl_ptn_template.ipynb",
   "output_path": "trial.ipynb",
   "parameters": {
    "parameters": {
     "BEST_MODEL_PATH": "./best_model.pth",
     "NUM_LOGS_PER_EPOCH": 10,
     "criteria_for_best": "target_accuracy",
     "dataset_seed": 154325,
     "datasets": [
      {
       "domain_prefix": "C_",
       "domains": [
        1,
        2,
        3,
        4,
        5
       ],
       "episode_transforms": [],
       "labels": [
        "1-10.",
        "1-11.",
        "1-15.",
        "1-16.",
        "1-17.",
        "1-18.",
        "1-19.",
        "10-4.",
        "10-7.",
        "11-1.",
        "11-14.",
        "11-17.",
        "11-20.",
        "11-7.",
        "13-20.",
        "13-8.",
        "14-10.",
        "14-11.",
        "14-14.",
        "14-7.",
        "15-1.",
        "15-20.",
        "16-1.",
        "16-16.",
        "17-10.",
        "17-11.",
        "17-2.",
        "19-1.",
        "19-16.",
        "19-19.",
        "19-20.",
        "19-3.",
        "2-10.",
        "2-11.",
        "2-17.",
        "2-18.",
        "2-20.",
        "2-3.",
        "2-4.",
        "2-5.",
        "2-6.",
        "2-7.",
        "2-8.",
        "3-13.",
        "3-18.",
        "3-3.",
        "4-1.",
        "4-10.",
        "4-11.",
        "4-19.",
        "5-5.",
        "6-15.",
        "7-10.",
        "7-14.",
        "8-18.",
        "8-20.",
        "8-3.",
        "8-8."
       ],
       "num_examples_per_domain_per_label": -1,
       "pickle_path": "/root/csc500-main/datasets/cores.stratified_ds.2022A.pkl",
       "source_or_target_dataset": "target",
       "x_transforms": [
        "unit_power",
        "jitter_256_10",
        "lowpass_+/-10MHz",
        "take_200"
       ]
      },
      {
       "domain_prefix": "O_",
       "domains": [
        32,
        38,
        8,
        44,
        14,
        50,
        20,
        26
       ],
       "episode_transforms": [],
       "labels": [
        "3123D52",
        "3123D65",
        "3123D79",
        "3123D80",
        "3123D54",
        "3123D70",
        "3123D7B",
        "3123D89",
        "3123D58",
        "3123D76",
        "3123D7D",
        "3123EFE",
        "3123D64",
        "3123D78",
        "3123D7E",
        "3124E4A"
       ],
       "num_examples_per_domain_per_label": 2000,
       "pickle_path": "/root/csc500-main/datasets/oracle.Run1_framed_2000Examples_stratified_ds.2022A.pkl",
       "source_or_target_dataset": "source",
       "x_transforms": [
        "unit_power",
        "jitter_256_10",
        "take_200",
        "resample_20Msps_to_25Msps"
       ]
      }
     ],
     "device": "cuda",
     "experiment_name": "tl_3-jitter10v2:oracle.run1.framed -> cores",
     "lr": 0.0001,
     "n_epoch": 50,
     "n_query": 2,
     "n_shot": 3,
     "n_way": 16,
     "patience": 3,
     "seed": 154325,
     "test_k_factor": 2,
     "torch_default_dtype": "torch.float32",
     "train_k_factor": 3,
     "val_k_factor": 2,
     "x_net": [
      {
       "class": "nnReshape",
       "kargs": {
        "shape": [
         -1,
         1,
         2,
         256
        ]
       }
      },
      {
       "class": "Conv2d",
       "kargs": {
        "bias": false,
        "in_channels": 1,
        "kernel_size": [
         1,
         7
        ],
        "out_channels": 256,
        "padding": [
         0,
         3
        ]
       }
      },
      {
       "class": "ReLU",
       "kargs": {
        "inplace": true
       }
      },
      {
       "class": "BatchNorm2d",
       "kargs": {
        "num_features": 256
       }
      },
      {
       "class": "Conv2d",
       "kargs": {
        "bias": true,
        "in_channels": 256,
        "kernel_size": [
         2,
         7
        ],
        "out_channels": 80,
        "padding": [
         0,
         3
        ]
       }
      },
      {
       "class": "ReLU",
       "kargs": {
        "inplace": true
       }
      },
      {
       "class": "BatchNorm2d",
       "kargs": {
        "num_features": 80
       }
      },
      {
       "class": "Flatten",
       "kargs": {}
      },
      {
       "class": "Linear",
       "kargs": {
        "in_features": 20480,
        "out_features": 256
       }
      },
      {
       "class": "ReLU",
       "kargs": {
        "inplace": true
       }
      },
      {
       "class": "BatchNorm1d",
       "kargs": {
        "num_features": 256
       }
      },
      {
       "class": "Linear",
       "kargs": {
        "in_features": 256,
        "out_features": 256
       }
      }
     ],
     "x_shape": [
      2,
      256
     ]
    }
   },
   "start_time": "2022-03-28T10:25:18.781374",
   "version": "2.3.4"
  }
 },
 "nbformat": 4,
 "nbformat_minor": 5
}