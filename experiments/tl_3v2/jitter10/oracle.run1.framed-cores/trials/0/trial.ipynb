{
 "cells": [
  {
   "cell_type": "markdown",
   "id": "9fea5f46",
   "metadata": {
    "papermill": {
     "duration": 0.029793,
     "end_time": "2022-03-28T09:15:31.623149",
     "exception": false,
     "start_time": "2022-03-28T09:15:31.593356",
     "status": "completed"
    },
    "tags": []
   },
   "source": [
    "# Transfer Learning Template"
   ]
  },
  {
   "cell_type": "code",
   "execution_count": 1,
   "id": "0902182a",
   "metadata": {
    "execution": {
     "iopub.execute_input": "2022-03-28T09:15:31.686163Z",
     "iopub.status.busy": "2022-03-28T09:15:31.685289Z",
     "iopub.status.idle": "2022-03-28T09:15:33.518221Z",
     "shell.execute_reply": "2022-03-28T09:15:33.517269Z"
    },
    "papermill": {
     "duration": 1.872933,
     "end_time": "2022-03-28T09:15:33.518418",
     "exception": false,
     "start_time": "2022-03-28T09:15:31.645485",
     "status": "completed"
    },
    "tags": []
   },
   "outputs": [],
   "source": [
    "%load_ext autoreload\n",
    "%autoreload 2\n",
    "%matplotlib inline\n",
    "\n",
    "    \n",
    "import os, json, sys, time, random\n",
    "import numpy as np\n",
    "import torch\n",
    "from torch.optim import Adam\n",
    "from  easydict import EasyDict\n",
    "import matplotlib.pyplot as plt\n",
    "\n",
    "from steves_models.steves_ptn import Steves_Prototypical_Network\n",
    "\n",
    "from steves_utils.lazy_iterable_wrapper import Lazy_Iterable_Wrapper\n",
    "from steves_utils.iterable_aggregator import Iterable_Aggregator\n",
    "from steves_utils.ptn_train_eval_test_jig import  PTN_Train_Eval_Test_Jig\n",
    "from steves_utils.torch_sequential_builder import build_sequential\n",
    "from steves_utils.torch_utils import get_dataset_metrics, ptn_confusion_by_domain_over_dataloader\n",
    "from steves_utils.utils_v2 import (per_domain_accuracy_from_confusion, get_datasets_base_path)\n",
    "from steves_utils.PTN.utils import independent_accuracy_assesment\n",
    "\n",
    "from torch.utils.data import DataLoader\n",
    "\n",
    "from steves_utils.stratified_dataset.episodic_accessor import Episodic_Accessor_Factory\n",
    "\n",
    "from steves_utils.ptn_do_report import (\n",
    "    get_loss_curve,\n",
    "    get_results_table,\n",
    "    get_parameters_table,\n",
    "    get_domain_accuracies,\n",
    ")\n",
    "\n",
    "from steves_utils.transforms import get_chained_transform"
   ]
  },
  {
   "cell_type": "markdown",
   "id": "41c840b4",
   "metadata": {
    "papermill": {
     "duration": 0.019278,
     "end_time": "2022-03-28T09:15:33.571165",
     "exception": false,
     "start_time": "2022-03-28T09:15:33.551887",
     "status": "completed"
    },
    "tags": []
   },
   "source": [
    "# Allowed Parameters\n",
    "These are allowed parameters, not defaults\n",
    "Each of these values need to be present in the injected parameters (the notebook will raise an exception if they are not present)\n",
    "\n",
    "Papermill uses the cell tag \"parameters\" to inject the real parameters below this cell.\n",
    "Enable tags to see what I mean"
   ]
  },
  {
   "cell_type": "code",
   "execution_count": 2,
   "id": "fd44eb83",
   "metadata": {
    "execution": {
     "iopub.execute_input": "2022-03-28T09:15:33.613328Z",
     "iopub.status.busy": "2022-03-28T09:15:33.612655Z",
     "iopub.status.idle": "2022-03-28T09:15:33.632486Z",
     "shell.execute_reply": "2022-03-28T09:15:33.631728Z"
    },
    "papermill": {
     "duration": 0.04243,
     "end_time": "2022-03-28T09:15:33.632652",
     "exception": false,
     "start_time": "2022-03-28T09:15:33.590222",
     "status": "completed"
    },
    "tags": []
   },
   "outputs": [],
   "source": [
    "required_parameters = {\n",
    "    \"experiment_name\",\n",
    "    \"lr\",\n",
    "    \"device\",\n",
    "    \"seed\",\n",
    "    \"dataset_seed\",\n",
    "    \"n_shot\",\n",
    "    \"n_query\",\n",
    "    \"n_way\",\n",
    "    \"train_k_factor\",\n",
    "    \"val_k_factor\",\n",
    "    \"test_k_factor\",\n",
    "    \"n_epoch\",\n",
    "    \"patience\",\n",
    "    \"criteria_for_best\",\n",
    "    \"x_net\",\n",
    "    \"datasets\",\n",
    "    \"torch_default_dtype\",\n",
    "    \"NUM_LOGS_PER_EPOCH\",\n",
    "    \"BEST_MODEL_PATH\",\n",
    "    \"x_shape\",\n",
    "}"
   ]
  },
  {
   "cell_type": "code",
   "execution_count": 3,
   "id": "fa3f0049",
   "metadata": {
    "execution": {
     "iopub.execute_input": "2022-03-28T09:15:33.687551Z",
     "iopub.status.busy": "2022-03-28T09:15:33.687105Z",
     "iopub.status.idle": "2022-03-28T09:15:33.708809Z",
     "shell.execute_reply": "2022-03-28T09:15:33.708293Z"
    },
    "papermill": {
     "duration": 0.049931,
     "end_time": "2022-03-28T09:15:33.708886",
     "exception": false,
     "start_time": "2022-03-28T09:15:33.658955",
     "status": "completed"
    },
    "tags": [
     "parameters"
    ]
   },
   "outputs": [],
   "source": [
    "from steves_utils.CORES.utils import (\n",
    "    ALL_NODES,\n",
    "    ALL_NODES_MINIMUM_1000_EXAMPLES,\n",
    "    ALL_DAYS\n",
    ")\n",
    "\n",
    "from steves_utils.ORACLE.utils_v2 import (\n",
    "    ALL_DISTANCES_FEET_NARROWED,\n",
    "    ALL_RUNS,\n",
    "    ALL_SERIAL_NUMBERS,\n",
    ")\n",
    "\n",
    "standalone_parameters = {}\n",
    "standalone_parameters[\"experiment_name\"] = \"STANDALONE PTN\"\n",
    "standalone_parameters[\"lr\"] = 0.001\n",
    "standalone_parameters[\"device\"] = \"cuda\"\n",
    "\n",
    "standalone_parameters[\"seed\"] = 1337\n",
    "standalone_parameters[\"dataset_seed\"] = 1337\n",
    "\n",
    "standalone_parameters[\"n_way\"] = 8\n",
    "standalone_parameters[\"n_shot\"] = 3\n",
    "standalone_parameters[\"n_query\"]  = 2\n",
    "standalone_parameters[\"train_k_factor\"] = 1\n",
    "standalone_parameters[\"val_k_factor\"] = 2\n",
    "standalone_parameters[\"test_k_factor\"] = 2\n",
    "\n",
    "\n",
    "standalone_parameters[\"n_epoch\"] = 50\n",
    "\n",
    "standalone_parameters[\"patience\"] = 10\n",
    "standalone_parameters[\"criteria_for_best\"] = \"source_loss\"\n",
    "\n",
    "standalone_parameters[\"datasets\"] = [\n",
    "    {\n",
    "        \"labels\": ALL_SERIAL_NUMBERS,\n",
    "        \"domains\": ALL_DISTANCES_FEET_NARROWED,\n",
    "        \"num_examples_per_domain_per_label\": 100,\n",
    "        \"pickle_path\": os.path.join(get_datasets_base_path(), \"oracle.Run1_framed_2000Examples_stratified_ds.2022A.pkl\"),\n",
    "        \"source_or_target_dataset\": \"source\",\n",
    "        \"x_transforms\": [\"unit_mag\", \"minus_two\"],\n",
    "        \"episode_transforms\": [],\n",
    "        \"domain_prefix\": \"ORACLE_\"\n",
    "    },\n",
    "    {\n",
    "        \"labels\": ALL_NODES,\n",
    "        \"domains\": ALL_DAYS,\n",
    "        \"num_examples_per_domain_per_label\": 100,\n",
    "        \"pickle_path\": os.path.join(get_datasets_base_path(), \"cores.stratified_ds.2022A.pkl\"),\n",
    "        \"source_or_target_dataset\": \"target\",\n",
    "        \"x_transforms\": [\"unit_power\", \"times_zero\"],\n",
    "        \"episode_transforms\": [],\n",
    "        \"domain_prefix\": \"CORES_\"\n",
    "    }   \n",
    "]\n",
    "\n",
    "standalone_parameters[\"torch_default_dtype\"] = \"torch.float32\" \n",
    "\n",
    "\n",
    "\n",
    "standalone_parameters[\"x_net\"] =     [\n",
    "    {\"class\": \"nnReshape\", \"kargs\": {\"shape\":[-1, 1, 2, 256]}},\n",
    "    {\"class\": \"Conv2d\", \"kargs\": { \"in_channels\":1, \"out_channels\":256, \"kernel_size\":(1,7), \"bias\":False, \"padding\":(0,3), },},\n",
    "    {\"class\": \"ReLU\", \"kargs\": {\"inplace\": True}},\n",
    "    {\"class\": \"BatchNorm2d\", \"kargs\": {\"num_features\":256}},\n",
    "\n",
    "    {\"class\": \"Conv2d\", \"kargs\": { \"in_channels\":256, \"out_channels\":80, \"kernel_size\":(2,7), \"bias\":True, \"padding\":(0,3), },},\n",
    "    {\"class\": \"ReLU\", \"kargs\": {\"inplace\": True}},\n",
    "    {\"class\": \"BatchNorm2d\", \"kargs\": {\"num_features\":80}},\n",
    "    {\"class\": \"Flatten\", \"kargs\": {}},\n",
    "\n",
    "    {\"class\": \"Linear\", \"kargs\": {\"in_features\": 80*256, \"out_features\": 256}}, # 80 units per IQ pair\n",
    "    {\"class\": \"ReLU\", \"kargs\": {\"inplace\": True}},\n",
    "    {\"class\": \"BatchNorm1d\", \"kargs\": {\"num_features\":256}},\n",
    "\n",
    "    {\"class\": \"Linear\", \"kargs\": {\"in_features\": 256, \"out_features\": 256}},\n",
    "]\n",
    "\n",
    "# Parameters relevant to results\n",
    "# These parameters will basically never need to change\n",
    "standalone_parameters[\"NUM_LOGS_PER_EPOCH\"] = 10\n",
    "standalone_parameters[\"BEST_MODEL_PATH\"] = \"./best_model.pth\"\n",
    "\n",
    "\n",
    "\n",
    "\n"
   ]
  },
  {
   "cell_type": "code",
   "execution_count": 4,
   "id": "5b63744b",
   "metadata": {
    "execution": {
     "iopub.execute_input": "2022-03-28T09:15:33.757864Z",
     "iopub.status.busy": "2022-03-28T09:15:33.755642Z",
     "iopub.status.idle": "2022-03-28T09:15:33.778895Z",
     "shell.execute_reply": "2022-03-28T09:15:33.778525Z"
    },
    "papermill": {
     "duration": 0.049984,
     "end_time": "2022-03-28T09:15:33.778967",
     "exception": false,
     "start_time": "2022-03-28T09:15:33.728983",
     "status": "completed"
    },
    "tags": [
     "injected-parameters"
    ]
   },
   "outputs": [],
   "source": [
    "# Parameters\n",
    "parameters = {\n",
    "    \"experiment_name\": \"tl_3-jitter10v2:oracle.run1.framed -> cores\",\n",
    "    \"device\": \"cuda\",\n",
    "    \"lr\": 0.0001,\n",
    "    \"x_shape\": [2, 256],\n",
    "    \"n_shot\": 3,\n",
    "    \"n_query\": 2,\n",
    "    \"train_k_factor\": 3,\n",
    "    \"val_k_factor\": 2,\n",
    "    \"test_k_factor\": 2,\n",
    "    \"torch_default_dtype\": \"torch.float32\",\n",
    "    \"n_epoch\": 50,\n",
    "    \"patience\": 3,\n",
    "    \"criteria_for_best\": \"target_accuracy\",\n",
    "    \"x_net\": [\n",
    "        {\"class\": \"nnReshape\", \"kargs\": {\"shape\": [-1, 1, 2, 256]}},\n",
    "        {\n",
    "            \"class\": \"Conv2d\",\n",
    "            \"kargs\": {\n",
    "                \"in_channels\": 1,\n",
    "                \"out_channels\": 256,\n",
    "                \"kernel_size\": [1, 7],\n",
    "                \"bias\": False,\n",
    "                \"padding\": [0, 3],\n",
    "            },\n",
    "        },\n",
    "        {\"class\": \"ReLU\", \"kargs\": {\"inplace\": True}},\n",
    "        {\"class\": \"BatchNorm2d\", \"kargs\": {\"num_features\": 256}},\n",
    "        {\n",
    "            \"class\": \"Conv2d\",\n",
    "            \"kargs\": {\n",
    "                \"in_channels\": 256,\n",
    "                \"out_channels\": 80,\n",
    "                \"kernel_size\": [2, 7],\n",
    "                \"bias\": True,\n",
    "                \"padding\": [0, 3],\n",
    "            },\n",
    "        },\n",
    "        {\"class\": \"ReLU\", \"kargs\": {\"inplace\": True}},\n",
    "        {\"class\": \"BatchNorm2d\", \"kargs\": {\"num_features\": 80}},\n",
    "        {\"class\": \"Flatten\", \"kargs\": {}},\n",
    "        {\"class\": \"Linear\", \"kargs\": {\"in_features\": 20480, \"out_features\": 256}},\n",
    "        {\"class\": \"ReLU\", \"kargs\": {\"inplace\": True}},\n",
    "        {\"class\": \"BatchNorm1d\", \"kargs\": {\"num_features\": 256}},\n",
    "        {\"class\": \"Linear\", \"kargs\": {\"in_features\": 256, \"out_features\": 256}},\n",
    "    ],\n",
    "    \"NUM_LOGS_PER_EPOCH\": 10,\n",
    "    \"BEST_MODEL_PATH\": \"./best_model.pth\",\n",
    "    \"n_way\": 16,\n",
    "    \"datasets\": [\n",
    "        {\n",
    "            \"labels\": [\n",
    "                \"1-10.\",\n",
    "                \"1-11.\",\n",
    "                \"1-15.\",\n",
    "                \"1-16.\",\n",
    "                \"1-17.\",\n",
    "                \"1-18.\",\n",
    "                \"1-19.\",\n",
    "                \"10-4.\",\n",
    "                \"10-7.\",\n",
    "                \"11-1.\",\n",
    "                \"11-14.\",\n",
    "                \"11-17.\",\n",
    "                \"11-20.\",\n",
    "                \"11-7.\",\n",
    "                \"13-20.\",\n",
    "                \"13-8.\",\n",
    "                \"14-10.\",\n",
    "                \"14-11.\",\n",
    "                \"14-14.\",\n",
    "                \"14-7.\",\n",
    "                \"15-1.\",\n",
    "                \"15-20.\",\n",
    "                \"16-1.\",\n",
    "                \"16-16.\",\n",
    "                \"17-10.\",\n",
    "                \"17-11.\",\n",
    "                \"17-2.\",\n",
    "                \"19-1.\",\n",
    "                \"19-16.\",\n",
    "                \"19-19.\",\n",
    "                \"19-20.\",\n",
    "                \"19-3.\",\n",
    "                \"2-10.\",\n",
    "                \"2-11.\",\n",
    "                \"2-17.\",\n",
    "                \"2-18.\",\n",
    "                \"2-20.\",\n",
    "                \"2-3.\",\n",
    "                \"2-4.\",\n",
    "                \"2-5.\",\n",
    "                \"2-6.\",\n",
    "                \"2-7.\",\n",
    "                \"2-8.\",\n",
    "                \"3-13.\",\n",
    "                \"3-18.\",\n",
    "                \"3-3.\",\n",
    "                \"4-1.\",\n",
    "                \"4-10.\",\n",
    "                \"4-11.\",\n",
    "                \"4-19.\",\n",
    "                \"5-5.\",\n",
    "                \"6-15.\",\n",
    "                \"7-10.\",\n",
    "                \"7-14.\",\n",
    "                \"8-18.\",\n",
    "                \"8-20.\",\n",
    "                \"8-3.\",\n",
    "                \"8-8.\",\n",
    "            ],\n",
    "            \"domains\": [1, 2, 3, 4, 5],\n",
    "            \"num_examples_per_domain_per_label\": -1,\n",
    "            \"pickle_path\": \"/root/csc500-main/datasets/cores.stratified_ds.2022A.pkl\",\n",
    "            \"source_or_target_dataset\": \"target\",\n",
    "            \"x_transforms\": [\n",
    "                \"unit_power\",\n",
    "                \"jitter_256_10\",\n",
    "                \"lowpass_+/-10MHz\",\n",
    "                \"take_200\",\n",
    "            ],\n",
    "            \"episode_transforms\": [],\n",
    "            \"domain_prefix\": \"C_\",\n",
    "        },\n",
    "        {\n",
    "            \"labels\": [\n",
    "                \"3123D52\",\n",
    "                \"3123D65\",\n",
    "                \"3123D79\",\n",
    "                \"3123D80\",\n",
    "                \"3123D54\",\n",
    "                \"3123D70\",\n",
    "                \"3123D7B\",\n",
    "                \"3123D89\",\n",
    "                \"3123D58\",\n",
    "                \"3123D76\",\n",
    "                \"3123D7D\",\n",
    "                \"3123EFE\",\n",
    "                \"3123D64\",\n",
    "                \"3123D78\",\n",
    "                \"3123D7E\",\n",
    "                \"3124E4A\",\n",
    "            ],\n",
    "            \"domains\": [32, 38, 8, 44, 14, 50, 20, 26],\n",
    "            \"num_examples_per_domain_per_label\": 2000,\n",
    "            \"pickle_path\": \"/root/csc500-main/datasets/oracle.Run1_framed_2000Examples_stratified_ds.2022A.pkl\",\n",
    "            \"source_or_target_dataset\": \"source\",\n",
    "            \"x_transforms\": [\n",
    "                \"unit_power\",\n",
    "                \"jitter_256_10\",\n",
    "                \"take_200\",\n",
    "                \"resample_20Msps_to_25Msps\",\n",
    "            ],\n",
    "            \"episode_transforms\": [],\n",
    "            \"domain_prefix\": \"O_\",\n",
    "        },\n",
    "    ],\n",
    "    \"seed\": 1337,\n",
    "    \"dataset_seed\": 1337,\n",
    "}\n"
   ]
  },
  {
   "cell_type": "code",
   "execution_count": 5,
   "id": "8fa1cc33",
   "metadata": {
    "execution": {
     "iopub.execute_input": "2022-03-28T09:15:33.821862Z",
     "iopub.status.busy": "2022-03-28T09:15:33.821476Z",
     "iopub.status.idle": "2022-03-28T09:15:33.840622Z",
     "shell.execute_reply": "2022-03-28T09:15:33.840252Z"
    },
    "papermill": {
     "duration": 0.042223,
     "end_time": "2022-03-28T09:15:33.840708",
     "exception": false,
     "start_time": "2022-03-28T09:15:33.798485",
     "status": "completed"
    },
    "tags": []
   },
   "outputs": [],
   "source": [
    "# Set this to True if you want to run this template directly\n",
    "STANDALONE = False\n",
    "if STANDALONE:\n",
    "    print(\"parameters not injected, running with standalone_parameters\")\n",
    "    parameters = standalone_parameters\n",
    "\n",
    "if not 'parameters' in locals() and not 'parameters' in globals():\n",
    "    raise Exception(\"Parameter injection failed\")\n",
    "\n",
    "#Use an easy dict for all the parameters\n",
    "p = EasyDict(parameters)\n",
    "\n",
    "if \"x_shape\" not in p:\n",
    "    p.x_shape = [2,256] # Default to this if we dont supply x_shape\n",
    "\n",
    "\n",
    "supplied_keys = set(p.keys())\n",
    "\n",
    "if  supplied_keys != required_parameters:\n",
    "    print(\"Parameters are incorrect\")\n",
    "    if len(supplied_keys - required_parameters)>0: print(\"Shouldn't have:\", str(supplied_keys - required_parameters))\n",
    "    if len(required_parameters - supplied_keys)>0: print(\"Need to have:\", str(required_parameters - supplied_keys))\n",
    "    raise RuntimeError(\"Parameters are incorrect\")"
   ]
  },
  {
   "cell_type": "code",
   "execution_count": 6,
   "id": "3a028d58",
   "metadata": {
    "execution": {
     "iopub.execute_input": "2022-03-28T09:15:33.882268Z",
     "iopub.status.busy": "2022-03-28T09:15:33.881871Z",
     "iopub.status.idle": "2022-03-28T09:15:33.900445Z",
     "shell.execute_reply": "2022-03-28T09:15:33.900855Z"
    },
    "papermill": {
     "duration": 0.040877,
     "end_time": "2022-03-28T09:15:33.900936",
     "exception": false,
     "start_time": "2022-03-28T09:15:33.860059",
     "status": "completed"
    },
    "tags": []
   },
   "outputs": [],
   "source": [
    "###################################\n",
    "# Set the RNGs and make it all deterministic\n",
    "###################################\n",
    "np.random.seed(p.seed)\n",
    "random.seed(p.seed)\n",
    "torch.manual_seed(p.seed)\n",
    "\n",
    "torch.use_deterministic_algorithms(True) "
   ]
  },
  {
   "cell_type": "code",
   "execution_count": 7,
   "id": "b691acf6",
   "metadata": {
    "execution": {
     "iopub.execute_input": "2022-03-28T09:15:33.942496Z",
     "iopub.status.busy": "2022-03-28T09:15:33.941967Z",
     "iopub.status.idle": "2022-03-28T09:15:33.960044Z",
     "shell.execute_reply": "2022-03-28T09:15:33.959668Z"
    },
    "papermill": {
     "duration": 0.039522,
     "end_time": "2022-03-28T09:15:33.960113",
     "exception": false,
     "start_time": "2022-03-28T09:15:33.920591",
     "status": "completed"
    },
    "tags": []
   },
   "outputs": [],
   "source": [
    "###########################################\n",
    "# The stratified datasets honor this\n",
    "###########################################\n",
    "torch.set_default_dtype(eval(p.torch_default_dtype))"
   ]
  },
  {
   "cell_type": "code",
   "execution_count": 8,
   "id": "b5fba671",
   "metadata": {
    "execution": {
     "iopub.execute_input": "2022-03-28T09:15:34.002327Z",
     "iopub.status.busy": "2022-03-28T09:15:34.001955Z",
     "iopub.status.idle": "2022-03-28T09:15:34.053459Z",
     "shell.execute_reply": "2022-03-28T09:15:34.053137Z"
    },
    "papermill": {
     "duration": 0.07375,
     "end_time": "2022-03-28T09:15:34.053530",
     "exception": false,
     "start_time": "2022-03-28T09:15:33.979780",
     "status": "completed"
    },
    "tags": []
   },
   "outputs": [],
   "source": [
    "###################################\n",
    "# Build the network(s)\n",
    "# Note: It's critical to do this AFTER setting the RNG\n",
    "###################################\n",
    "x_net = build_sequential(p.x_net)"
   ]
  },
  {
   "cell_type": "code",
   "execution_count": 9,
   "id": "5d7e61cc",
   "metadata": {
    "execution": {
     "iopub.execute_input": "2022-03-28T09:15:34.096244Z",
     "iopub.status.busy": "2022-03-28T09:15:34.095877Z",
     "iopub.status.idle": "2022-03-28T09:15:34.116631Z",
     "shell.execute_reply": "2022-03-28T09:15:34.116264Z"
    },
    "papermill": {
     "duration": 0.04339,
     "end_time": "2022-03-28T09:15:34.116701",
     "exception": false,
     "start_time": "2022-03-28T09:15:34.073311",
     "status": "completed"
    },
    "tags": []
   },
   "outputs": [],
   "source": [
    "start_time_secs = time.time()"
   ]
  },
  {
   "cell_type": "code",
   "execution_count": 10,
   "id": "c6b67dfd",
   "metadata": {
    "execution": {
     "iopub.execute_input": "2022-03-28T09:15:34.159113Z",
     "iopub.status.busy": "2022-03-28T09:15:34.158743Z",
     "iopub.status.idle": "2022-03-28T09:15:34.177205Z",
     "shell.execute_reply": "2022-03-28T09:15:34.176882Z"
    },
    "papermill": {
     "duration": 0.040969,
     "end_time": "2022-03-28T09:15:34.177275",
     "exception": false,
     "start_time": "2022-03-28T09:15:34.136306",
     "status": "completed"
    },
    "tags": []
   },
   "outputs": [],
   "source": [
    "p.domains_source = []\n",
    "p.domains_target = []\n",
    "\n",
    "\n",
    "train_original_source = []\n",
    "val_original_source   = []\n",
    "test_original_source  = []\n",
    "\n",
    "train_original_target = []\n",
    "val_original_target   = []\n",
    "test_original_target  = []"
   ]
  },
  {
   "cell_type": "code",
   "execution_count": 11,
   "id": "e3d9c3d3",
   "metadata": {
    "execution": {
     "iopub.execute_input": "2022-03-28T09:15:34.219506Z",
     "iopub.status.busy": "2022-03-28T09:15:34.219134Z",
     "iopub.status.idle": "2022-03-28T09:15:34.236995Z",
     "shell.execute_reply": "2022-03-28T09:15:34.236624Z"
    },
    "papermill": {
     "duration": 0.039864,
     "end_time": "2022-03-28T09:15:34.237065",
     "exception": false,
     "start_time": "2022-03-28T09:15:34.197201",
     "status": "completed"
    },
    "tags": []
   },
   "outputs": [],
   "source": [
    "# global_x_transform_func = lambda x: normalize(x.to(torch.get_default_dtype()), \"unit_power\") # unit_power, unit_mag\n",
    "# global_x_transform_func = lambda x: normalize(x, \"unit_power\") # unit_power, unit_mag"
   ]
  },
  {
   "cell_type": "code",
   "execution_count": 12,
   "id": "acb78fd2",
   "metadata": {
    "execution": {
     "iopub.execute_input": "2022-03-28T09:15:34.285905Z",
     "iopub.status.busy": "2022-03-28T09:15:34.285314Z",
     "iopub.status.idle": "2022-03-28T09:15:34.305547Z",
     "shell.execute_reply": "2022-03-28T09:15:34.304840Z"
    },
    "papermill": {
     "duration": 0.046669,
     "end_time": "2022-03-28T09:15:34.305703",
     "exception": false,
     "start_time": "2022-03-28T09:15:34.259034",
     "status": "completed"
    },
    "tags": []
   },
   "outputs": [],
   "source": [
    "def add_dataset(\n",
    "    labels,\n",
    "    domains,\n",
    "    pickle_path,\n",
    "    x_transforms,\n",
    "    episode_transforms,\n",
    "    domain_prefix,\n",
    "    num_examples_per_domain_per_label,\n",
    "    source_or_target_dataset:str,\n",
    "    iterator_seed=p.seed,\n",
    "    dataset_seed=p.dataset_seed,\n",
    "    n_shot=p.n_shot,\n",
    "    n_way=p.n_way,\n",
    "    n_query=p.n_query,\n",
    "    train_val_test_k_factors=(p.train_k_factor,p.val_k_factor,p.test_k_factor),\n",
    "):\n",
    "   \n",
    "    if x_transforms == []: x_transform = None\n",
    "    else: x_transform = get_chained_transform(x_transforms)\n",
    "    \n",
    "    if episode_transforms == []: episode_transform = None\n",
    "    else: raise Exception(\"episode_transforms not implemented\")\n",
    "    \n",
    "    episode_transform = lambda tup, _prefix=domain_prefix: (_prefix + str(tup[0]), tup[1])\n",
    "\n",
    "\n",
    "    eaf = Episodic_Accessor_Factory(\n",
    "        labels=labels,\n",
    "        domains=domains,\n",
    "        num_examples_per_domain_per_label=num_examples_per_domain_per_label,\n",
    "        iterator_seed=iterator_seed,\n",
    "        dataset_seed=dataset_seed,\n",
    "        n_shot=n_shot,\n",
    "        n_way=n_way,\n",
    "        n_query=n_query,\n",
    "        train_val_test_k_factors=train_val_test_k_factors,\n",
    "        pickle_path=pickle_path,\n",
    "        x_transform_func=x_transform,\n",
    "    )\n",
    "\n",
    "    train, val, test = eaf.get_train(), eaf.get_val(), eaf.get_test()\n",
    "    train = Lazy_Iterable_Wrapper(train, episode_transform)\n",
    "    val = Lazy_Iterable_Wrapper(val, episode_transform)\n",
    "    test = Lazy_Iterable_Wrapper(test, episode_transform)\n",
    "\n",
    "    if source_or_target_dataset==\"source\":\n",
    "        train_original_source.append(train)\n",
    "        val_original_source.append(val)\n",
    "        test_original_source.append(test)\n",
    "\n",
    "        p.domains_source.extend(\n",
    "            [domain_prefix + str(u) for u in domains]\n",
    "        )\n",
    "    elif source_or_target_dataset==\"target\":\n",
    "        train_original_target.append(train)\n",
    "        val_original_target.append(val)\n",
    "        test_original_target.append(test)\n",
    "        p.domains_target.extend(\n",
    "            [domain_prefix + str(u) for u in domains]\n",
    "        )\n",
    "    else:\n",
    "        raise Exception(f\"invalid source_or_target_dataset: {source_or_target_dataset}\")\n",
    "    "
   ]
  },
  {
   "cell_type": "code",
   "execution_count": 13,
   "id": "fe266617",
   "metadata": {
    "execution": {
     "iopub.execute_input": "2022-03-28T09:15:34.354922Z",
     "iopub.status.busy": "2022-03-28T09:15:34.354552Z",
     "iopub.status.idle": "2022-03-28T09:17:25.559177Z",
     "shell.execute_reply": "2022-03-28T09:17:25.558424Z"
    },
    "papermill": {
     "duration": 111.227366,
     "end_time": "2022-03-28T09:17:25.559365",
     "exception": false,
     "start_time": "2022-03-28T09:15:34.331999",
     "status": "completed"
    },
    "tags": []
   },
   "outputs": [],
   "source": [
    "for ds in p.datasets:\n",
    "    add_dataset(**ds)"
   ]
  },
  {
   "cell_type": "code",
   "execution_count": 14,
   "id": "b90d65ac",
   "metadata": {
    "execution": {
     "iopub.execute_input": "2022-03-28T09:17:25.608884Z",
     "iopub.status.busy": "2022-03-28T09:17:25.608497Z",
     "iopub.status.idle": "2022-03-28T09:17:25.631261Z",
     "shell.execute_reply": "2022-03-28T09:17:25.630533Z"
    },
    "papermill": {
     "duration": 0.046392,
     "end_time": "2022-03-28T09:17:25.631421",
     "exception": false,
     "start_time": "2022-03-28T09:17:25.585029",
     "status": "completed"
    },
    "tags": []
   },
   "outputs": [],
   "source": [
    "# from steves_utils.CORES.utils import (\n",
    "#     ALL_NODES,\n",
    "#     ALL_NODES_MINIMUM_1000_EXAMPLES,\n",
    "#     ALL_DAYS\n",
    "# )\n",
    "\n",
    "# add_dataset(\n",
    "#     labels=ALL_NODES,\n",
    "#     domains = ALL_DAYS,\n",
    "#     num_examples_per_domain_per_label=100,\n",
    "#     pickle_path=os.path.join(get_datasets_base_path(), \"cores.stratified_ds.2022A.pkl\"),\n",
    "#     source_or_target_dataset=\"target\",\n",
    "#     x_transform_func=global_x_transform_func,\n",
    "#     domain_modifier=lambda u: f\"cores_{u}\"\n",
    "# )"
   ]
  },
  {
   "cell_type": "code",
   "execution_count": 15,
   "id": "76db484d",
   "metadata": {
    "execution": {
     "iopub.execute_input": "2022-03-28T09:17:25.684855Z",
     "iopub.status.busy": "2022-03-28T09:17:25.684168Z",
     "iopub.status.idle": "2022-03-28T09:17:25.708282Z",
     "shell.execute_reply": "2022-03-28T09:17:25.707492Z"
    },
    "papermill": {
     "duration": 0.049404,
     "end_time": "2022-03-28T09:17:25.708447",
     "exception": false,
     "start_time": "2022-03-28T09:17:25.659043",
     "status": "completed"
    },
    "tags": []
   },
   "outputs": [],
   "source": [
    "# from steves_utils.ORACLE.utils_v2 import (\n",
    "#     ALL_DISTANCES_FEET,\n",
    "#     ALL_RUNS,\n",
    "#     ALL_SERIAL_NUMBERS,\n",
    "# )\n",
    "\n",
    "\n",
    "# add_dataset(\n",
    "#     labels=ALL_SERIAL_NUMBERS,\n",
    "#     domains = list(set(ALL_DISTANCES_FEET) - {2,62}),\n",
    "#     num_examples_per_domain_per_label=100,\n",
    "#     pickle_path=os.path.join(get_datasets_base_path(), \"oracle.Run2_framed_2000Examples_stratified_ds.2022A.pkl\"),\n",
    "#     source_or_target_dataset=\"source\",\n",
    "#     x_transform_func=global_x_transform_func,\n",
    "#     domain_modifier=lambda u: f\"oracle1_{u}\"\n",
    "# )\n"
   ]
  },
  {
   "cell_type": "code",
   "execution_count": 16,
   "id": "97dea9d2",
   "metadata": {
    "execution": {
     "iopub.execute_input": "2022-03-28T09:17:25.763025Z",
     "iopub.status.busy": "2022-03-28T09:17:25.762644Z",
     "iopub.status.idle": "2022-03-28T09:17:25.785482Z",
     "shell.execute_reply": "2022-03-28T09:17:25.784674Z"
    },
    "papermill": {
     "duration": 0.047452,
     "end_time": "2022-03-28T09:17:25.785643",
     "exception": false,
     "start_time": "2022-03-28T09:17:25.738191",
     "status": "completed"
    },
    "tags": []
   },
   "outputs": [],
   "source": [
    "# from steves_utils.ORACLE.utils_v2 import (\n",
    "#     ALL_DISTANCES_FEET,\n",
    "#     ALL_RUNS,\n",
    "#     ALL_SERIAL_NUMBERS,\n",
    "# )\n",
    "\n",
    "\n",
    "# add_dataset(\n",
    "#     labels=ALL_SERIAL_NUMBERS,\n",
    "#     domains = list(set(ALL_DISTANCES_FEET) - {2,62,56}),\n",
    "#     num_examples_per_domain_per_label=100,\n",
    "#     pickle_path=os.path.join(get_datasets_base_path(), \"oracle.Run2_framed_2000Examples_stratified_ds.2022A.pkl\"),\n",
    "#     source_or_target_dataset=\"source\",\n",
    "#     x_transform_func=global_x_transform_func,\n",
    "#     domain_modifier=lambda u: f\"oracle2_{u}\"\n",
    "# )"
   ]
  },
  {
   "cell_type": "code",
   "execution_count": 17,
   "id": "6f289866",
   "metadata": {
    "execution": {
     "iopub.execute_input": "2022-03-28T09:17:25.836678Z",
     "iopub.status.busy": "2022-03-28T09:17:25.836299Z",
     "iopub.status.idle": "2022-03-28T09:17:25.859683Z",
     "shell.execute_reply": "2022-03-28T09:17:25.858808Z"
    },
    "papermill": {
     "duration": 0.047686,
     "end_time": "2022-03-28T09:17:25.859843",
     "exception": false,
     "start_time": "2022-03-28T09:17:25.812157",
     "status": "completed"
    },
    "tags": []
   },
   "outputs": [],
   "source": [
    "# add_dataset(\n",
    "#     labels=list(range(19)),\n",
    "#     domains = [0,1,2],\n",
    "#     num_examples_per_domain_per_label=100,\n",
    "#     pickle_path=os.path.join(get_datasets_base_path(), \"metehan.stratified_ds.2022A.pkl\"),\n",
    "#     source_or_target_dataset=\"target\",\n",
    "#     x_transform_func=global_x_transform_func,\n",
    "#     domain_modifier=lambda u: f\"met_{u}\"\n",
    "# )"
   ]
  },
  {
   "cell_type": "code",
   "execution_count": 18,
   "id": "86a863c3",
   "metadata": {
    "execution": {
     "iopub.execute_input": "2022-03-28T09:17:25.912182Z",
     "iopub.status.busy": "2022-03-28T09:17:25.911657Z",
     "iopub.status.idle": "2022-03-28T09:17:25.934739Z",
     "shell.execute_reply": "2022-03-28T09:17:25.933936Z"
    },
    "papermill": {
     "duration": 0.04764,
     "end_time": "2022-03-28T09:17:25.934895",
     "exception": false,
     "start_time": "2022-03-28T09:17:25.887255",
     "status": "completed"
    },
    "tags": []
   },
   "outputs": [],
   "source": [
    "# # from steves_utils.wisig.utils import (\n",
    "# #     ALL_NODES_MINIMUM_100_EXAMPLES,\n",
    "# #     ALL_NODES_MINIMUM_500_EXAMPLES,\n",
    "# #     ALL_NODES_MINIMUM_1000_EXAMPLES,\n",
    "# #     ALL_DAYS\n",
    "# # )\n",
    "\n",
    "# import steves_utils.wisig.utils as wisig\n",
    "\n",
    "\n",
    "# add_dataset(\n",
    "#     labels=wisig.ALL_NODES_MINIMUM_100_EXAMPLES,\n",
    "#     domains = wisig.ALL_DAYS,\n",
    "#     num_examples_per_domain_per_label=100,\n",
    "#     pickle_path=os.path.join(get_datasets_base_path(), \"wisig.node3-19.stratified_ds.2022A.pkl\"),\n",
    "#     source_or_target_dataset=\"target\",\n",
    "#     x_transform_func=global_x_transform_func,\n",
    "#     domain_modifier=lambda u: f\"wisig_{u}\"\n",
    "# )"
   ]
  },
  {
   "cell_type": "code",
   "execution_count": 19,
   "id": "fd5442bc",
   "metadata": {
    "execution": {
     "iopub.execute_input": "2022-03-28T09:17:25.993773Z",
     "iopub.status.busy": "2022-03-28T09:17:25.993181Z",
     "iopub.status.idle": "2022-03-28T09:17:26.015667Z",
     "shell.execute_reply": "2022-03-28T09:17:26.014905Z"
    },
    "papermill": {
     "duration": 0.052452,
     "end_time": "2022-03-28T09:17:26.015828",
     "exception": false,
     "start_time": "2022-03-28T09:17:25.963376",
     "status": "completed"
    },
    "tags": []
   },
   "outputs": [],
   "source": [
    "###################################\n",
    "# Build the dataset\n",
    "###################################\n",
    "train_original_source = Iterable_Aggregator(train_original_source, p.seed)\n",
    "val_original_source = Iterable_Aggregator(val_original_source, p.seed)\n",
    "test_original_source = Iterable_Aggregator(test_original_source, p.seed)\n",
    "\n",
    "\n",
    "train_original_target = Iterable_Aggregator(train_original_target, p.seed)\n",
    "val_original_target = Iterable_Aggregator(val_original_target, p.seed)\n",
    "test_original_target = Iterable_Aggregator(test_original_target, p.seed)\n",
    "\n",
    "# For CNN We only use X and Y. And we only train on the source.\n",
    "# Properly form the data using a transform lambda and Lazy_Iterable_Wrapper. Finally wrap them in a dataloader\n",
    "\n",
    "transform_lambda = lambda ex: ex[1] # Original is (<domain>, <episode>) so we strip down to episode only\n",
    "\n",
    "train_processed_source = Lazy_Iterable_Wrapper(train_original_source, transform_lambda)\n",
    "val_processed_source   = Lazy_Iterable_Wrapper(val_original_source, transform_lambda)\n",
    "test_processed_source  = Lazy_Iterable_Wrapper(test_original_source, transform_lambda)\n",
    "\n",
    "train_processed_target = Lazy_Iterable_Wrapper(train_original_target, transform_lambda)\n",
    "val_processed_target   = Lazy_Iterable_Wrapper(val_original_target, transform_lambda)\n",
    "test_processed_target  = Lazy_Iterable_Wrapper(test_original_target, transform_lambda)\n",
    "\n",
    "datasets = EasyDict({\n",
    "    \"source\": {\n",
    "        \"original\": {\"train\":train_original_source, \"val\":val_original_source, \"test\":test_original_source},\n",
    "        \"processed\": {\"train\":train_processed_source, \"val\":val_processed_source, \"test\":test_processed_source}\n",
    "    },\n",
    "    \"target\": {\n",
    "        \"original\": {\"train\":train_original_target, \"val\":val_original_target, \"test\":test_original_target},\n",
    "        \"processed\": {\"train\":train_processed_target, \"val\":val_processed_target, \"test\":test_processed_target}\n",
    "    },\n",
    "})"
   ]
  },
  {
   "cell_type": "code",
   "execution_count": 20,
   "id": "5b3c01fc",
   "metadata": {
    "execution": {
     "iopub.execute_input": "2022-03-28T09:17:26.070642Z",
     "iopub.status.busy": "2022-03-28T09:17:26.070009Z",
     "iopub.status.idle": "2022-03-28T09:17:40.308146Z",
     "shell.execute_reply": "2022-03-28T09:17:40.307294Z"
    },
    "papermill": {
     "duration": 14.264749,
     "end_time": "2022-03-28T09:17:40.308343",
     "exception": false,
     "start_time": "2022-03-28T09:17:26.043594",
     "status": "completed"
    },
    "tags": []
   },
   "outputs": [
    {
     "name": "stdout",
     "output_type": "stream",
     "text": [
      "{'O_26', 'O_14', 'O_20', 'O_50', 'O_8', 'O_32', 'O_38', 'O_44'}\n"
     ]
    },
    {
     "name": "stdout",
     "output_type": "stream",
     "text": [
      "{'C_2', 'C_4', 'C_5', 'C_3', 'C_1'}\n"
     ]
    },
    {
     "name": "stdout",
     "output_type": "stream",
     "text": [
      "tensor([[[0., 0., 0.,  ..., 0., 0., 0.],\n",
      "         [0., 0., 0.,  ..., 0., 0., 0.]],\n",
      "\n",
      "        [[0., 0., 0.,  ..., 0., 0., 0.],\n",
      "         [0., 0., 0.,  ..., 0., 0., 0.]],\n",
      "\n",
      "        [[0., 0., 0.,  ..., 0., 0., 0.],\n",
      "         [0., 0., 0.,  ..., 0., 0., 0.]],\n",
      "\n",
      "        ...,\n",
      "\n",
      "        [[0., 0., 0.,  ..., 0., 0., 0.],\n",
      "         [0., 0., 0.,  ..., 0., 0., 0.]],\n",
      "\n",
      "        [[0., 0., 0.,  ..., 0., 0., 0.],\n",
      "         [0., 0., 0.,  ..., 0., 0., 0.]],\n",
      "\n",
      "        [[0., 0., 0.,  ..., 0., 0., 0.],\n",
      "         [0., 0., 0.,  ..., 0., 0., 0.]]])\n"
     ]
    }
   ],
   "source": [
    "from steves_utils.transforms import get_average_magnitude, get_average_power\n",
    "\n",
    "print(set([u for u,_ in val_original_source]))\n",
    "print(set([u for u,_ in val_original_target]))\n",
    "\n",
    "s_x, s_y, q_x, q_y, _ = next(iter(train_processed_source))\n",
    "print(s_x)\n",
    "\n",
    "# for ds in [\n",
    "#     train_processed_source,\n",
    "#     val_processed_source,\n",
    "#     test_processed_source,\n",
    "#     train_processed_target,\n",
    "#     val_processed_target,\n",
    "#     test_processed_target\n",
    "# ]:\n",
    "#     for s_x, s_y, q_x, q_y, _ in ds:\n",
    "#         for X in (s_x, q_x):\n",
    "#             for x in X:\n",
    "#                 assert np.isclose(get_average_magnitude(x.numpy()), 1.0)\n",
    "#                 assert np.isclose(get_average_power(x.numpy()), 1.0)\n",
    "                "
   ]
  },
  {
   "cell_type": "code",
   "execution_count": 21,
   "id": "bbdacba1",
   "metadata": {
    "execution": {
     "iopub.execute_input": "2022-03-28T09:17:40.367910Z",
     "iopub.status.busy": "2022-03-28T09:17:40.367324Z",
     "iopub.status.idle": "2022-03-28T09:17:40.482067Z",
     "shell.execute_reply": "2022-03-28T09:17:40.482752Z"
    },
    "papermill": {
     "duration": 0.144708,
     "end_time": "2022-03-28T09:17:40.482982",
     "exception": false,
     "start_time": "2022-03-28T09:17:40.338274",
     "status": "completed"
    },
    "tags": []
   },
   "outputs": [
    {
     "name": "stdout",
     "output_type": "stream",
     "text": [
      "(2, 256)\n"
     ]
    }
   ],
   "source": [
    "###################################\n",
    "# Build the model\n",
    "###################################\n",
    "# easfsl only wants a tuple for the shape\n",
    "model = Steves_Prototypical_Network(x_net, device=p.device, x_shape=tuple(p.x_shape))\n",
    "optimizer = Adam(params=model.parameters(), lr=p.lr)"
   ]
  },
  {
   "cell_type": "code",
   "execution_count": 22,
   "id": "22b39ac5",
   "metadata": {
    "execution": {
     "iopub.execute_input": "2022-03-28T09:17:40.537885Z",
     "iopub.status.busy": "2022-03-28T09:17:40.537513Z",
     "iopub.status.idle": "2022-03-28T09:32:32.431079Z",
     "shell.execute_reply": "2022-03-28T09:32:32.430737Z"
    },
    "papermill": {
     "duration": 891.918179,
     "end_time": "2022-03-28T09:32:32.431161",
     "exception": false,
     "start_time": "2022-03-28T09:17:40.512982",
     "status": "completed"
    },
    "tags": []
   },
   "outputs": [
    {
     "name": "stdout",
     "output_type": "stream",
     "text": [
      "epoch: 1, [batch: 1 / 6720], examples_per_second: 33.5525, train_label_loss: 2.8044, \n"
     ]
    },
    {
     "name": "stdout",
     "output_type": "stream",
     "text": [
      "epoch: 1, [batch: 672 / 6720], examples_per_second: 3810.9153, train_label_loss: 2.8150, \n"
     ]
    },
    {
     "name": "stdout",
     "output_type": "stream",
     "text": [
      "epoch: 1, [batch: 1344 / 6720], examples_per_second: 3857.2183, train_label_loss: 2.1920, \n"
     ]
    },
    {
     "name": "stdout",
     "output_type": "stream",
     "text": [
      "epoch: 1, [batch: 2016 / 6720], examples_per_second: 3783.1802, train_label_loss: 1.4216, \n"
     ]
    },
    {
     "name": "stdout",
     "output_type": "stream",
     "text": [
      "epoch: 1, [batch: 2688 / 6720], examples_per_second: 3766.0014, train_label_loss: 1.9361, \n"
     ]
    },
    {
     "name": "stdout",
     "output_type": "stream",
     "text": [
      "epoch: 1, [batch: 3360 / 6720], examples_per_second: 3756.1751, train_label_loss: 1.8856, \n"
     ]
    },
    {
     "name": "stdout",
     "output_type": "stream",
     "text": [
      "epoch: 1, [batch: 4032 / 6720], examples_per_second: 4136.8669, train_label_loss: 1.4760, \n"
     ]
    },
    {
     "name": "stdout",
     "output_type": "stream",
     "text": [
      "epoch: 1, [batch: 4704 / 6720], examples_per_second: 4343.9775, train_label_loss: 1.3405, \n"
     ]
    },
    {
     "name": "stdout",
     "output_type": "stream",
     "text": [
      "epoch: 1, [batch: 5376 / 6720], examples_per_second: 3965.0780, train_label_loss: 1.1418, \n"
     ]
    },
    {
     "name": "stdout",
     "output_type": "stream",
     "text": [
      "epoch: 1, [batch: 6048 / 6720], examples_per_second: 3885.7493, train_label_loss: 0.9660, \n"
     ]
    },
    {
     "name": "stdout",
     "output_type": "stream",
     "text": [
      "=============================================================\n",
      "epoch: 1, source_val_acc_label: 0.6289, target_val_acc_label: 0.9294, source_val_label_loss: 1.0817, target_val_label_loss: 0.8164, \n",
      "=============================================================\n"
     ]
    },
    {
     "name": "stdout",
     "output_type": "stream",
     "text": [
      "New best\n"
     ]
    },
    {
     "name": "stdout",
     "output_type": "stream",
     "text": [
      "epoch: 2, [batch: 1 / 6720], examples_per_second: 3.9997, train_label_loss: 1.4063, \n"
     ]
    },
    {
     "name": "stdout",
     "output_type": "stream",
     "text": [
      "epoch: 2, [batch: 672 / 6720], examples_per_second: 3911.9117, train_label_loss: 0.9018, \n"
     ]
    },
    {
     "name": "stdout",
     "output_type": "stream",
     "text": [
      "epoch: 2, [batch: 1344 / 6720], examples_per_second: 3915.2000, train_label_loss: 0.6568, \n"
     ]
    },
    {
     "name": "stdout",
     "output_type": "stream",
     "text": [
      "epoch: 2, [batch: 2016 / 6720], examples_per_second: 3917.2935, train_label_loss: 1.2061, \n"
     ]
    },
    {
     "name": "stdout",
     "output_type": "stream",
     "text": [
      "epoch: 2, [batch: 2688 / 6720], examples_per_second: 3820.5547, train_label_loss: 1.0003, \n"
     ]
    },
    {
     "name": "stdout",
     "output_type": "stream",
     "text": [
      "epoch: 2, [batch: 3360 / 6720], examples_per_second: 4245.5465, train_label_loss: 1.0149, \n"
     ]
    },
    {
     "name": "stdout",
     "output_type": "stream",
     "text": [
      "epoch: 2, [batch: 4032 / 6720], examples_per_second: 4291.5925, train_label_loss: 0.7168, \n"
     ]
    },
    {
     "name": "stdout",
     "output_type": "stream",
     "text": [
      "epoch: 2, [batch: 4704 / 6720], examples_per_second: 4181.8421, train_label_loss: 1.1392, \n"
     ]
    },
    {
     "name": "stdout",
     "output_type": "stream",
     "text": [
      "epoch: 2, [batch: 5376 / 6720], examples_per_second: 3832.2076, train_label_loss: 1.2885, \n"
     ]
    },
    {
     "name": "stdout",
     "output_type": "stream",
     "text": [
      "epoch: 2, [batch: 6048 / 6720], examples_per_second: 3858.4329, train_label_loss: 0.7504, \n"
     ]
    },
    {
     "name": "stdout",
     "output_type": "stream",
     "text": [
      "=============================================================\n",
      "epoch: 2, source_val_acc_label: 0.6436, target_val_acc_label: 0.9622, source_val_label_loss: 0.9407, target_val_label_loss: 0.1770, \n",
      "=============================================================\n"
     ]
    },
    {
     "name": "stdout",
     "output_type": "stream",
     "text": [
      "New best\n"
     ]
    },
    {
     "name": "stdout",
     "output_type": "stream",
     "text": [
      "epoch: 3, [batch: 1 / 6720], examples_per_second: 3.9840, train_label_loss: 1.2433, \n"
     ]
    },
    {
     "name": "stdout",
     "output_type": "stream",
     "text": [
      "epoch: 3, [batch: 672 / 6720], examples_per_second: 3954.6669, train_label_loss: 0.5711, \n"
     ]
    },
    {
     "name": "stdout",
     "output_type": "stream",
     "text": [
      "epoch: 3, [batch: 1344 / 6720], examples_per_second: 3799.9338, train_label_loss: 0.7911, \n"
     ]
    },
    {
     "name": "stdout",
     "output_type": "stream",
     "text": [
      "epoch: 3, [batch: 2016 / 6720], examples_per_second: 3853.6040, train_label_loss: 0.7187, \n"
     ]
    },
    {
     "name": "stdout",
     "output_type": "stream",
     "text": [
      "epoch: 3, [batch: 2688 / 6720], examples_per_second: 4017.6513, train_label_loss: 0.7206, \n"
     ]
    },
    {
     "name": "stdout",
     "output_type": "stream",
     "text": [
      "epoch: 3, [batch: 3360 / 6720], examples_per_second: 4347.9788, train_label_loss: 1.2844, \n"
     ]
    },
    {
     "name": "stdout",
     "output_type": "stream",
     "text": [
      "epoch: 3, [batch: 4032 / 6720], examples_per_second: 4563.4888, train_label_loss: 1.2594, \n"
     ]
    },
    {
     "name": "stdout",
     "output_type": "stream",
     "text": [
      "epoch: 3, [batch: 4704 / 6720], examples_per_second: 3872.5159, train_label_loss: 0.6340, \n"
     ]
    },
    {
     "name": "stdout",
     "output_type": "stream",
     "text": [
      "epoch: 3, [batch: 5376 / 6720], examples_per_second: 3998.0812, train_label_loss: 0.9421, \n"
     ]
    },
    {
     "name": "stdout",
     "output_type": "stream",
     "text": [
      "epoch: 3, [batch: 6048 / 6720], examples_per_second: 3921.9464, train_label_loss: 0.6128, \n"
     ]
    },
    {
     "name": "stdout",
     "output_type": "stream",
     "text": [
      "=============================================================\n",
      "epoch: 3, source_val_acc_label: 0.6582, target_val_acc_label: 0.9519, source_val_label_loss: 0.9093, target_val_label_loss: 0.4237, \n",
      "=============================================================\n"
     ]
    },
    {
     "name": "stdout",
     "output_type": "stream",
     "text": [
      "epoch: 4, [batch: 1 / 6720], examples_per_second: 3.9535, train_label_loss: 0.9503, \n"
     ]
    },
    {
     "name": "stdout",
     "output_type": "stream",
     "text": [
      "epoch: 4, [batch: 672 / 6720], examples_per_second: 3844.7859, train_label_loss: 0.7372, \n"
     ]
    },
    {
     "name": "stdout",
     "output_type": "stream",
     "text": [
      "epoch: 4, [batch: 1344 / 6720], examples_per_second: 3882.7224, train_label_loss: 1.2952, \n"
     ]
    },
    {
     "name": "stdout",
     "output_type": "stream",
     "text": [
      "epoch: 4, [batch: 2016 / 6720], examples_per_second: 3920.7630, train_label_loss: 1.0273, \n"
     ]
    },
    {
     "name": "stdout",
     "output_type": "stream",
     "text": [
      "epoch: 4, [batch: 2688 / 6720], examples_per_second: 4288.7712, train_label_loss: 0.8576, \n"
     ]
    },
    {
     "name": "stdout",
     "output_type": "stream",
     "text": [
      "epoch: 4, [batch: 3360 / 6720], examples_per_second: 4399.1729, train_label_loss: 0.4743, \n"
     ]
    },
    {
     "name": "stdout",
     "output_type": "stream",
     "text": [
      "epoch: 4, [batch: 4032 / 6720], examples_per_second: 4410.6163, train_label_loss: 1.2407, \n"
     ]
    },
    {
     "name": "stdout",
     "output_type": "stream",
     "text": [
      "epoch: 4, [batch: 4704 / 6720], examples_per_second: 4445.8266, train_label_loss: 0.6502, \n"
     ]
    },
    {
     "name": "stdout",
     "output_type": "stream",
     "text": [
      "epoch: 4, [batch: 5376 / 6720], examples_per_second: 4495.8672, train_label_loss: 1.1049, \n"
     ]
    },
    {
     "name": "stdout",
     "output_type": "stream",
     "text": [
      "epoch: 4, [batch: 6048 / 6720], examples_per_second: 4584.3288, train_label_loss: 0.7237, \n"
     ]
    },
    {
     "name": "stdout",
     "output_type": "stream",
     "text": [
      "=============================================================\n",
      "epoch: 4, source_val_acc_label: 0.6801, target_val_acc_label: 0.9448, source_val_label_loss: 0.8449, target_val_label_loss: 0.7955, \n",
      "=============================================================\n"
     ]
    },
    {
     "name": "stdout",
     "output_type": "stream",
     "text": [
      "epoch: 5, [batch: 1 / 6720], examples_per_second: 4.6648, train_label_loss: 0.7571, \n"
     ]
    },
    {
     "name": "stdout",
     "output_type": "stream",
     "text": [
      "epoch: 5, [batch: 672 / 6720], examples_per_second: 5080.1324, train_label_loss: 0.7065, \n"
     ]
    },
    {
     "name": "stdout",
     "output_type": "stream",
     "text": [
      "epoch: 5, [batch: 1344 / 6720], examples_per_second: 5424.0649, train_label_loss: 0.6366, \n"
     ]
    },
    {
     "name": "stdout",
     "output_type": "stream",
     "text": [
      "epoch: 5, [batch: 2016 / 6720], examples_per_second: 5265.5527, train_label_loss: 1.1207, \n"
     ]
    },
    {
     "name": "stdout",
     "output_type": "stream",
     "text": [
      "epoch: 5, [batch: 2688 / 6720], examples_per_second: 5182.7731, train_label_loss: 0.7634, \n"
     ]
    },
    {
     "name": "stdout",
     "output_type": "stream",
     "text": [
      "epoch: 5, [batch: 3360 / 6720], examples_per_second: 5420.1716, train_label_loss: 0.6480, \n"
     ]
    },
    {
     "name": "stdout",
     "output_type": "stream",
     "text": [
      "epoch: 5, [batch: 4032 / 6720], examples_per_second: 5294.8999, train_label_loss: 0.6625, \n"
     ]
    },
    {
     "name": "stdout",
     "output_type": "stream",
     "text": [
      "epoch: 5, [batch: 4704 / 6720], examples_per_second: 5184.2503, train_label_loss: 0.6657, \n"
     ]
    },
    {
     "name": "stdout",
     "output_type": "stream",
     "text": [
      "epoch: 5, [batch: 5376 / 6720], examples_per_second: 5078.1599, train_label_loss: 1.0680, \n"
     ]
    },
    {
     "name": "stdout",
     "output_type": "stream",
     "text": [
      "epoch: 5, [batch: 6048 / 6720], examples_per_second: 4985.5470, train_label_loss: 0.4648, \n"
     ]
    },
    {
     "name": "stdout",
     "output_type": "stream",
     "text": [
      "=============================================================\n",
      "epoch: 5, source_val_acc_label: 0.6938, target_val_acc_label: 0.9458, source_val_label_loss: 0.8012, target_val_label_loss: 1.3035, \n",
      "=============================================================\n"
     ]
    },
    {
     "name": "stdout",
     "output_type": "stream",
     "text": [
      "epoch: 6, [batch: 1 / 6720], examples_per_second: 5.2473, train_label_loss: 0.6572, \n"
     ]
    },
    {
     "name": "stdout",
     "output_type": "stream",
     "text": [
      "epoch: 6, [batch: 672 / 6720], examples_per_second: 4951.4753, train_label_loss: 0.9529, \n"
     ]
    },
    {
     "name": "stdout",
     "output_type": "stream",
     "text": [
      "epoch: 6, [batch: 1344 / 6720], examples_per_second: 5026.7894, train_label_loss: 1.2426, \n"
     ]
    },
    {
     "name": "stdout",
     "output_type": "stream",
     "text": [
      "epoch: 6, [batch: 2016 / 6720], examples_per_second: 5160.3222, train_label_loss: 0.6573, \n"
     ]
    },
    {
     "name": "stdout",
     "output_type": "stream",
     "text": [
      "epoch: 6, [batch: 2688 / 6720], examples_per_second: 5288.7923, train_label_loss: 0.5538, \n"
     ]
    },
    {
     "name": "stdout",
     "output_type": "stream",
     "text": [
      "epoch: 6, [batch: 3360 / 6720], examples_per_second: 4903.6368, train_label_loss: 0.4504, \n"
     ]
    },
    {
     "name": "stdout",
     "output_type": "stream",
     "text": [
      "epoch: 6, [batch: 4032 / 6720], examples_per_second: 5044.6388, train_label_loss: 0.6525, \n"
     ]
    },
    {
     "name": "stdout",
     "output_type": "stream",
     "text": [
      "epoch: 6, [batch: 4704 / 6720], examples_per_second: 5357.7334, train_label_loss: 0.6969, \n"
     ]
    },
    {
     "name": "stdout",
     "output_type": "stream",
     "text": [
      "epoch: 6, [batch: 5376 / 6720], examples_per_second: 5340.1404, train_label_loss: 0.5723, \n"
     ]
    },
    {
     "name": "stdout",
     "output_type": "stream",
     "text": [
      "epoch: 6, [batch: 6048 / 6720], examples_per_second: 4926.8343, train_label_loss: 0.5341, \n"
     ]
    },
    {
     "name": "stdout",
     "output_type": "stream",
     "text": [
      "=============================================================\n",
      "epoch: 6, source_val_acc_label: 0.7428, target_val_acc_label: 0.9451, source_val_label_loss: 0.6860, target_val_label_loss: 2.5062, \n",
      "=============================================================\n"
     ]
    },
    {
     "name": "stdout",
     "output_type": "stream",
     "text": [
      "Patience (3) exhausted\n"
     ]
    }
   ],
   "source": [
    "###################################\n",
    "# train\n",
    "###################################\n",
    "jig = PTN_Train_Eval_Test_Jig(model, p.BEST_MODEL_PATH, p.device)\n",
    "\n",
    "jig.train(\n",
    "    train_iterable=datasets.source.processed.train,\n",
    "    source_val_iterable=datasets.source.processed.val,\n",
    "    target_val_iterable=datasets.target.processed.val,\n",
    "    num_epochs=p.n_epoch,\n",
    "    num_logs_per_epoch=p.NUM_LOGS_PER_EPOCH,\n",
    "    patience=p.patience,\n",
    "    optimizer=optimizer,\n",
    "    criteria_for_best=p.criteria_for_best,\n",
    ")"
   ]
  },
  {
   "cell_type": "code",
   "execution_count": 23,
   "id": "31e8fabf",
   "metadata": {
    "execution": {
     "iopub.execute_input": "2022-03-28T09:32:32.519188Z",
     "iopub.status.busy": "2022-03-28T09:32:32.518624Z",
     "iopub.status.idle": "2022-03-28T09:32:32.552394Z",
     "shell.execute_reply": "2022-03-28T09:32:32.551578Z"
    },
    "papermill": {
     "duration": 0.080063,
     "end_time": "2022-03-28T09:32:32.552548",
     "exception": false,
     "start_time": "2022-03-28T09:32:32.472485",
     "status": "completed"
    },
    "tags": []
   },
   "outputs": [],
   "source": [
    "total_experiment_time_secs = time.time() - start_time_secs"
   ]
  },
  {
   "cell_type": "code",
   "execution_count": 24,
   "id": "87b9595b",
   "metadata": {
    "execution": {
     "iopub.execute_input": "2022-03-28T09:32:32.651078Z",
     "iopub.status.busy": "2022-03-28T09:32:32.650478Z",
     "iopub.status.idle": "2022-03-28T09:35:20.094166Z",
     "shell.execute_reply": "2022-03-28T09:35:20.093351Z"
    },
    "papermill": {
     "duration": 167.495246,
     "end_time": "2022-03-28T09:35:20.094364",
     "exception": false,
     "start_time": "2022-03-28T09:32:32.599118",
     "status": "completed"
    },
    "tags": []
   },
   "outputs": [],
   "source": [
    "###################################\n",
    "# Evaluate the model\n",
    "###################################\n",
    "source_test_label_accuracy, source_test_label_loss = jig.test(datasets.source.processed.test)\n",
    "target_test_label_accuracy, target_test_label_loss = jig.test(datasets.target.processed.test)\n",
    "\n",
    "source_val_label_accuracy, source_val_label_loss = jig.test(datasets.source.processed.val)\n",
    "target_val_label_accuracy, target_val_label_loss = jig.test(datasets.target.processed.val)\n",
    "\n",
    "history = jig.get_history()\n",
    "\n",
    "total_epochs_trained = len(history[\"epoch_indices\"])\n",
    "\n",
    "val_dl = Iterable_Aggregator((datasets.source.original.val,datasets.target.original.val))\n",
    "\n",
    "confusion = ptn_confusion_by_domain_over_dataloader(model, p.device, val_dl)\n",
    "per_domain_accuracy = per_domain_accuracy_from_confusion(confusion)\n",
    "\n",
    "# Add a key to per_domain_accuracy for if it was a source domain\n",
    "for domain, accuracy in per_domain_accuracy.items():\n",
    "    per_domain_accuracy[domain] = {\n",
    "        \"accuracy\": accuracy,\n",
    "        \"source?\": domain in p.domains_source\n",
    "    }\n",
    "\n",
    "# Do an independent accuracy assesment JUST TO BE SURE!\n",
    "# _source_test_label_accuracy = independent_accuracy_assesment(model, datasets.source.processed.test, p.device)\n",
    "# _target_test_label_accuracy = independent_accuracy_assesment(model, datasets.target.processed.test, p.device)\n",
    "# _source_val_label_accuracy = independent_accuracy_assesment(model, datasets.source.processed.val, p.device)\n",
    "# _target_val_label_accuracy = independent_accuracy_assesment(model, datasets.target.processed.val, p.device)\n",
    "\n",
    "# assert(_source_test_label_accuracy == source_test_label_accuracy)\n",
    "# assert(_target_test_label_accuracy == target_test_label_accuracy)\n",
    "# assert(_source_val_label_accuracy == source_val_label_accuracy)\n",
    "# assert(_target_val_label_accuracy == target_val_label_accuracy)\n",
    "\n",
    "experiment = {\n",
    "    \"experiment_name\": p.experiment_name,\n",
    "    \"parameters\": dict(p),\n",
    "    \"results\": {\n",
    "        \"source_test_label_accuracy\": source_test_label_accuracy,\n",
    "        \"source_test_label_loss\": source_test_label_loss,\n",
    "        \"target_test_label_accuracy\": target_test_label_accuracy,\n",
    "        \"target_test_label_loss\": target_test_label_loss,\n",
    "        \"source_val_label_accuracy\": source_val_label_accuracy,\n",
    "        \"source_val_label_loss\": source_val_label_loss,\n",
    "        \"target_val_label_accuracy\": target_val_label_accuracy,\n",
    "        \"target_val_label_loss\": target_val_label_loss,\n",
    "        \"total_epochs_trained\": total_epochs_trained,\n",
    "        \"total_experiment_time_secs\": total_experiment_time_secs,\n",
    "        \"confusion\": confusion,\n",
    "        \"per_domain_accuracy\": per_domain_accuracy,\n",
    "    },\n",
    "    \"history\": history,\n",
    "    \"dataset_metrics\": get_dataset_metrics(datasets, \"ptn\"),\n",
    "}"
   ]
  },
  {
   "cell_type": "code",
   "execution_count": 25,
   "id": "54a21829",
   "metadata": {
    "execution": {
     "iopub.execute_input": "2022-03-28T09:35:20.190052Z",
     "iopub.status.busy": "2022-03-28T09:35:20.189459Z",
     "iopub.status.idle": "2022-03-28T09:35:20.406597Z",
     "shell.execute_reply": "2022-03-28T09:35:20.407311Z"
    },
    "papermill": {
     "duration": 0.2627,
     "end_time": "2022-03-28T09:35:20.407521",
     "exception": false,
     "start_time": "2022-03-28T09:35:20.144821",
     "status": "completed"
    },
    "tags": []
   },
   "outputs": [
    {
     "data": {
      "image/png": "[encoded data removed]",
      "text/plain": [
       "<Figure size 1080x504 with 1 Axes>"
      ]
     },
     "metadata": {
      "needs_background": "light"
     },
     "output_type": "display_data"
    }
   ],
   "source": [
    "ax = get_loss_curve(experiment)\n",
    "plt.show()"
   ]
  },
  {
   "cell_type": "code",
   "execution_count": 26,
   "id": "fd8a0f60",
   "metadata": {
    "execution": {
     "iopub.execute_input": "2022-03-28T09:35:20.501321Z",
     "iopub.status.busy": "2022-03-28T09:35:20.500942Z",
     "iopub.status.idle": "2022-03-28T09:35:20.882199Z",
     "shell.execute_reply": "2022-03-28T09:35:20.882915Z"
    },
    "papermill": {
     "duration": 0.427725,
     "end_time": "2022-03-28T09:35:20.883119",
     "exception": false,
     "start_time": "2022-03-28T09:35:20.455394",
     "status": "completed"
    },
    "tags": []
   },
   "outputs": [
    {
     "data": {
      "text/plain": [
       "<AxesSubplot:title={'center':'Results'}>"
      ]
     },
     "execution_count": 26,
     "metadata": {},
     "output_type": "execute_result"
    },
    {
     "data": {
      "image/png": "[encoded data removed]",
      "text/plain": [
       "<Figure size 1080x504 with 1 Axes>"
      ]
     },
     "metadata": {
      "needs_background": "light"
     },
     "output_type": "display_data"
    }
   ],
   "source": [
    "get_results_table(experiment)"
   ]
  },
  {
   "cell_type": "code",
   "execution_count": 27,
   "id": "cf8dc689",
   "metadata": {
    "execution": {
     "iopub.execute_input": "2022-03-28T09:35:20.976947Z",
     "iopub.status.busy": "2022-03-28T09:35:20.976386Z",
     "iopub.status.idle": "2022-03-28T09:35:21.213297Z",
     "shell.execute_reply": "2022-03-28T09:35:21.213998Z"
    },
    "papermill": {
     "duration": 0.284111,
     "end_time": "2022-03-28T09:35:21.214229",
     "exception": false,
     "start_time": "2022-03-28T09:35:20.930118",
     "status": "completed"
    },
    "tags": []
   },
   "outputs": [
    {
     "data": {
      "text/plain": [
       "<AxesSubplot:title={'center':'Per Domain Validation Accuracy'}, xlabel='domain'>"
      ]
     },
     "execution_count": 27,
     "metadata": {},
     "output_type": "execute_result"
    },
    {
     "data": {
      "image/png": "[encoded data removed]",
      "text/plain": [
       "<Figure size 1080x504 with 1 Axes>"
      ]
     },
     "metadata": {
      "needs_background": "light"
     },
     "output_type": "display_data"
    }
   ],
   "source": [
    "get_domain_accuracies(experiment)"
   ]
  },
  {
   "cell_type": "code",
   "execution_count": 28,
   "id": "a74ae082",
   "metadata": {
    "execution": {
     "iopub.execute_input": "2022-03-28T09:35:21.311928Z",
     "iopub.status.busy": "2022-03-28T09:35:21.311456Z",
     "iopub.status.idle": "2022-03-28T09:35:21.338804Z",
     "shell.execute_reply": "2022-03-28T09:35:21.337988Z"
    },
    "papermill": {
     "duration": 0.074273,
     "end_time": "2022-03-28T09:35:21.338958",
     "exception": false,
     "start_time": "2022-03-28T09:35:21.264685",
     "status": "completed"
    },
    "tags": []
   },
   "outputs": [
    {
     "name": "stdout",
     "output_type": "stream",
     "text": [
      "Source Test Label Accuracy: 0.6503255208333333 Target Test Label Accuracy: 0.9579124579124579\n",
      "Source Val Label Accuracy: 0.6435872395833333 Target Val Label Accuracy: 0.9621860730593608\n"
     ]
    }
   ],
   "source": [
    "print(\"Source Test Label Accuracy:\", experiment[\"results\"][\"source_test_label_accuracy\"], \"Target Test Label Accuracy:\", experiment[\"results\"][\"target_test_label_accuracy\"])\n",
    "print(\"Source Val Label Accuracy:\", experiment[\"results\"][\"source_val_label_accuracy\"], \"Target Val Label Accuracy:\", experiment[\"results\"][\"target_val_label_accuracy\"])"
   ]
  },
  {
   "cell_type": "code",
   "execution_count": 29,
   "id": "dacca602",
   "metadata": {
    "execution": {
     "iopub.execute_input": "2022-03-28T09:35:21.437050Z",
     "iopub.status.busy": "2022-03-28T09:35:21.435693Z",
     "iopub.status.idle": "2022-03-28T09:35:21.458823Z",
     "shell.execute_reply": "2022-03-28T09:35:21.459503Z"
    },
    "papermill": {
     "duration": 0.071328,
     "end_time": "2022-03-28T09:35:21.459728",
     "exception": false,
     "start_time": "2022-03-28T09:35:21.388400",
     "status": "completed"
    },
    "tags": [
     "experiment_json"
    ]
   },
   "outputs": [
    {
     "data": {
      "text/plain": [
       "'{\"experiment_name\": \"tl_3-jitter10v2:oracle.run1.framed -> cores\", \"parameters\": {\"experiment_name\": \"tl_3-jitter10v2:oracle.run1.framed -> cores\", \"device\": \"cuda\", \"lr\": 0.0001, \"x_shape\": [2, 256], \"n_shot\": 3, \"n_query\": 2, \"train_k_factor\": 3, \"val_k_factor\": 2, \"test_k_factor\": 2, \"torch_default_dtype\": \"torch.float32\", \"n_epoch\": 50, \"patience\": 3, \"criteria_for_best\": \"target_accuracy\", \"x_net\": [{\"class\": \"nnReshape\", \"kargs\": {\"shape\": [-1, 1, 2, 256]}}, {\"class\": \"Conv2d\", \"kargs\": {\"in_channels\": 1, \"out_channels\": 256, \"kernel_size\": [1, 7], \"bias\": false, \"padding\": [0, 3]}}, {\"class\": \"ReLU\", \"kargs\": {\"inplace\": true}}, {\"class\": \"BatchNorm2d\", \"kargs\": {\"num_features\": 256}}, {\"class\": \"Conv2d\", \"kargs\": {\"in_channels\": 256, \"out_channels\": 80, \"kernel_size\": [2, 7], \"bias\": true, \"padding\": [0, 3]}}, {\"class\": \"ReLU\", \"kargs\": {\"inplace\": true}}, {\"class\": \"BatchNorm2d\", \"kargs\": {\"num_features\": 80}}, {\"class\": \"Flatten\", \"kargs\": {}}, {\"class\": \"Linear\", \"kargs\": {\"in_features\": 20480, \"out_features\": 256}}, {\"class\": \"ReLU\", \"kargs\": {\"inplace\": true}}, {\"class\": \"BatchNorm1d\", \"kargs\": {\"num_features\": 256}}, {\"class\": \"Linear\", \"kargs\": {\"in_features\": 256, \"out_features\": 256}}], \"NUM_LOGS_PER_EPOCH\": 10, \"BEST_MODEL_PATH\": \"./best_model.pth\", \"n_way\": 16, \"datasets\": [{\"labels\": [\"1-10.\", \"1-11.\", \"1-15.\", \"1-16.\", \"1-17.\", \"1-18.\", \"1-19.\", \"10-4.\", \"10-7.\", \"11-1.\", \"11-14.\", \"11-17.\", \"11-20.\", \"11-7.\", \"13-20.\", \"13-8.\", \"14-10.\", \"14-11.\", \"14-14.\", \"14-7.\", \"15-1.\", \"15-20.\", \"16-1.\", \"16-16.\", \"17-10.\", \"17-11.\", \"17-2.\", \"19-1.\", \"19-16.\", \"19-19.\", \"19-20.\", \"19-3.\", \"2-10.\", \"2-11.\", \"2-17.\", \"2-18.\", \"2-20.\", \"2-3.\", \"2-4.\", \"2-5.\", \"2-6.\", \"2-7.\", \"2-8.\", \"3-13.\", \"3-18.\", \"3-3.\", \"4-1.\", \"4-10.\", \"4-11.\", \"4-19.\", \"5-5.\", \"6-15.\", \"7-10.\", \"7-14.\", \"8-18.\", \"8-20.\", \"8-3.\", \"8-8.\"], \"domains\": [1, 2, 3, 4, 5], \"num_examples_per_domain_per_label\": -1, \"pickle_path\": \"/root/csc500-main/datasets/cores.stratified_ds.2022A.pkl\", \"source_or_target_dataset\": \"target\", \"x_transforms\": [\"unit_power\", \"jitter_256_10\", \"lowpass_+/-10MHz\", \"take_200\"], \"episode_transforms\": [], \"domain_prefix\": \"C_\"}, {\"labels\": [\"3123D52\", \"3123D65\", \"3123D79\", \"3123D80\", \"3123D54\", \"3123D70\", \"3123D7B\", \"3123D89\", \"3123D58\", \"3123D76\", \"3123D7D\", \"3123EFE\", \"3123D64\", \"3123D78\", \"3123D7E\", \"3124E4A\"], \"domains\": [32, 38, 8, 44, 14, 50, 20, 26], \"num_examples_per_domain_per_label\": 2000, \"pickle_path\": \"/root/csc500-main/datasets/oracle.Run1_framed_2000Examples_stratified_ds.2022A.pkl\", \"source_or_target_dataset\": \"source\", \"x_transforms\": [\"unit_power\", \"jitter_256_10\", \"take_200\", \"resample_20Msps_to_25Msps\"], \"episode_transforms\": [], \"domain_prefix\": \"O_\"}], \"seed\": 1337, \"dataset_seed\": 1337, \"domains_source\": [\"O_32\", \"O_38\", \"O_8\", \"O_44\", \"O_14\", \"O_50\", \"O_20\", \"O_26\"], \"domains_target\": [\"C_1\", \"C_2\", \"C_3\", \"C_4\", \"C_5\"]}, \"results\": {\"source_test_label_accuracy\": 0.6503255208333333, \"source_test_label_loss\": 0.92780601978302, \"target_test_label_accuracy\": 0.9579124579124579, \"target_test_label_loss\": 0.30368852615356445, \"source_val_label_accuracy\": 0.6435872395833333, \"source_val_label_loss\": 0.9407055974006653, \"target_val_label_accuracy\": 0.9621860730593608, \"target_val_label_loss\": 0.17702192068099976, \"total_epochs_trained\": 6, \"total_experiment_time_secs\": 1018.4348034858704, \"confusion\": {\"O_14\": {\"15\": {\"15\": 221, \"7\": 18, \"2\": 1}, \"3\": {\"3\": 197, \"4\": 27, \"0\": 6, \"10\": 4, \"5\": 2, \"2\": 2, \"14\": 2}, \"6\": {\"6\": 129, \"14\": 23, \"2\": 17, \"13\": 71}, \"1\": {\"1\": 202, \"4\": 12, \"5\": 23, \"7\": 2, \"3\": 1}, \"8\": {\"8\": 240}, \"10\": {\"10\": 200, \"0\": 37, \"14\": 1, \"3\": 1, \"11\": 1}, \"9\": {\"9\": 240}, \"13\": {\"14\": 73, \"13\": 73, \"6\": 64, \"2\": 23, \"5\": 4, \"10\": 2, \"4\": 1}, \"12\": {\"12\": 238, \"9\": 2}, \"5\": {\"1\": 28, \"4\": 72, \"5\": 124, \"2\": 8, \"15\": 2, \"3\": 3, \"7\": 2, \"6\": 1}, \"0\": {\"0\": 166, \"10\": 66, \"11\": 4, \"3\": 4}, \"2\": {\"6\": 33, \"2\": 109, \"4\": 13, \"14\": 39, \"15\": 8, \"13\": 10, \"5\": 22, \"3\": 4, \"7\": 2}, \"11\": {\"11\": 197, \"10\": 21, \"9\": 20, \"0\": 2}, \"14\": {\"6\": 20, \"13\": 50, \"14\": 150, \"2\": 18, \"10\": 1, \"3\": 1}, \"7\": {\"7\": 217, \"1\": 2, \"15\": 20, \"5\": 1}, \"4\": {\"3\": 17, \"4\": 152, \"5\": 48, \"2\": 12, \"1\": 11}}, \"O_20\": {\"3\": {\"9\": 26, \"3\": 88, \"5\": 15, \"12\": 42, \"7\": 29, \"4\": 9, \"8\": 12, \"2\": 10, \"0\": 5, \"1\": 4}, \"15\": {\"15\": 138, \"1\": 45, \"13\": 10, \"5\": 14, \"12\": 7, \"0\": 22, \"9\": 2, \"2\": 2}, \"8\": {\"8\": 151, \"7\": 9, \"4\": 50, \"10\": 17, \"3\": 8, \"14\": 2, \"9\": 1, \"6\": 2}, \"4\": {\"4\": 177, \"8\": 48, \"3\": 10, \"10\": 5}, \"14\": {\"6\": 32, \"14\": 162, \"10\": 43, \"8\": 2, \"4\": 1}, \"0\": {\"0\": 71, \"1\": 42, \"7\": 1, \"12\": 22, \"5\": 64, \"15\": 28, \"3\": 8, \"8\": 1, \"9\": 2, \"13\": 1}, \"7\": {\"2\": 28, \"8\": 9, \"7\": 156, \"6\": 6, \"3\": 11, \"9\": 30}, \"6\": {\"6\": 216, \"14\": 19, \"8\": 3, \"10\": 2}, \"10\": {\"14\": 57, \"10\": 148, \"4\": 16, \"8\": 19}, \"5\": {\"0\": 65, \"5\": 92, \"1\": 39, \"12\": 28, \"3\": 12, \"15\": 4}, \"2\": {\"2\": 83, \"7\": 33, \"13\": 12, \"9\": 85, \"3\": 12, \"12\": 7, \"0\": 2, \"1\": 3, \"15\": 3}, \"12\": {\"3\": 55, \"12\": 62, \"9\": 23, \"1\": 32, \"15\": 8, \"5\": 30, \"0\": 21, \"2\": 5, \"7\": 2, \"8\": 1, \"13\": 1}, \"9\": {\"9\": 87, \"13\": 4, \"7\": 30, \"2\": 67, \"3\": 20, \"12\": 21, \"0\": 4, \"5\": 2, \"1\": 3, \"8\": 2}, \"1\": {\"0\": 43, \"1\": 71, \"5\": 37, \"15\": 51, \"12\": 28, \"2\": 2, \"9\": 3, \"13\": 2, \"3\": 3}, \"11\": {\"11\": 240}, \"13\": {\"13\": 207, \"15\": 9, \"2\": 18, \"9\": 3, \"1\": 1, \"12\": 2}}, \"O_38\": {\"5\": {\"0\": 34, \"8\": 62, \"7\": 19, \"9\": 2, \"5\": 87, \"15\": 9, \"1\": 2, \"3\": 11, \"6\": 12, \"13\": 2}, \"8\": {\"8\": 137, \"7\": 15, \"15\": 5, \"0\": 29, \"1\": 1, \"10\": 14, \"5\": 36, \"13\": 3}, \"11\": {\"11\": 151, \"14\": 82, \"2\": 1, \"10\": 4, \"12\": 2}, \"1\": {\"1\": 227, \"15\": 13}, \"10\": {\"10\": 159, \"8\": 24, \"12\": 16, \"0\": 4, \"13\": 25, \"2\": 3, \"15\": 3, \"7\": 1, \"14\": 2, \"11\": 2, \"4\": 1}, \"15\": {\"15\": 118, \"8\": 9, \"13\": 85, \"10\": 5, \"1\": 15, \"5\": 5, \"2\": 2, \"0\": 1}, \"3\": {\"3\": 195, \"9\": 24, \"7\": 14, \"0\": 3, \"5\": 3, \"6\": 1}, \"7\": {\"7\": 158, \"0\": 60, \"5\": 6, \"8\": 10, \"3\": 6}, \"4\": {\"4\": 208, \"12\": 32}, \"14\": {\"11\": 52, \"14\": 160, \"2\": 28}, \"9\": {\"9\": 122, \"6\": 82, \"3\": 31, \"8\": 1, \"5\": 4}, \"12\": {\"12\": 215, \"4\": 16, \"10\": 8, \"11\": 1}, \"6\": {\"5\": 1, \"6\": 174, \"9\": 64, \"3\": 1}, \"2\": {\"2\": 215, \"11\": 1, \"14\": 22, \"10\": 1, \"13\": 1}, \"0\": {\"0\": 63, \"8\": 57, \"7\": 55, \"10\": 9, \"5\": 33, \"3\": 19, \"13\": 2, \"9\": 1, \"6\": 1}, \"13\": {\"13\": 127, \"15\": 67, \"10\": 21, \"2\": 12, \"1\": 5, \"0\": 1, \"5\": 3, \"8\": 4}}, \"O_8\": {\"9\": {\"9\": 240}, \"10\": {\"5\": 9, \"10\": 151, \"13\": 20, \"14\": 46, \"4\": 14}, \"13\": {\"10\": 22, \"4\": 32, \"0\": 54, \"6\": 10, \"13\": 93, \"14\": 27, \"7\": 2}, \"0\": {\"10\": 3, \"0\": 172, \"7\": 14, \"13\": 46, \"6\": 3, \"4\": 2}, \"1\": {\"1\": 155, \"11\": 78, \"5\": 4, \"14\": 2, \"10\": 1}, \"15\": {\"15\": 181, \"8\": 16, \"12\": 40, \"3\": 2, \"7\": 1}, \"5\": {\"5\": 214, \"1\": 12, \"10\": 6, \"14\": 4, \"11\": 4}, \"3\": {\"2\": 24, \"3\": 200, \"12\": 15, \"15\": 1}, \"6\": {\"13\": 5, \"6\": 139, \"7\": 61, \"4\": 28, \"0\": 4, \"14\": 2, \"11\": 1}, \"11\": {\"1\": 95, \"5\": 8, \"11\": 135, \"4\": 1, \"8\": 1}, \"8\": {\"15\": 13, \"8\": 225, \"11\": 2}, \"4\": {\"4\": 110, \"0\": 4, \"6\": 34, \"13\": 48, \"14\": 36, \"10\": 8}, \"12\": {\"12\": 132, \"15\": 60, \"3\": 41, \"8\": 6, \"2\": 1}, \"14\": {\"10\": 52, \"14\": 121, \"4\": 38, \"1\": 12, \"13\": 9, \"11\": 2, \"5\": 4, \"6\": 1, \"0\": 1}, \"2\": {\"15\": 6, \"2\": 188, \"3\": 39, \"7\": 5, \"12\": 2}, \"7\": {\"7\": 179, \"6\": 49, \"0\": 9, \"15\": 1, \"13\": 1, \"4\": 1}}, \"O_50\": {\"7\": {\"5\": 25, \"7\": 140, \"10\": 20, \"13\": 54, \"6\": 1}, \"3\": {\"3\": 234, \"8\": 6}, \"8\": {\"8\": 225, \"10\": 12, \"3\": 3}, \"2\": {\"2\": 215, \"1\": 2, \"0\": 23}, \"14\": {\"14\": 229, \"12\": 7, \"9\": 1, \"11\": 3}, \"4\": {\"15\": 45, \"6\": 50, \"4\": 81, \"1\": 43, \"13\": 7, \"5\": 12, \"7\": 2}, \"6\": {\"6\": 120, \"15\": 3, \"4\": 42, \"0\": 2, \"13\": 25, \"1\": 13, \"5\": 33, \"2\": 1, \"7\": 1}, \"15\": {\"15\": 158, \"1\": 52, \"11\": 7, \"4\": 23}, \"10\": {\"10\": 209, \"7\": 10, \"8\": 8, \"13\": 5, \"0\": 8}, \"11\": {\"11\": 196, \"9\": 27, \"15\": 9, \"14\": 6, \"1\": 1, \"12\": 1}, \"13\": {\"13\": 110, \"7\": 52, \"5\": 56, \"6\": 18, \"10\": 4}, \"9\": {\"11\": 47, \"9\": 172, \"12\": 19, \"14\": 2}, \"0\": {\"0\": 195, \"13\": 2, \"2\": 28, \"10\": 15}, \"1\": {\"15\": 48, \"1\": 120, \"4\": 46, \"6\": 23, \"2\": 1, \"14\": 1, \"5\": 1}, \"12\": {\"12\": 205, \"14\": 18, \"9\": 16, \"11\": 1}, \"5\": {\"5\": 58, \"6\": 55, \"7\": 53, \"13\": 47, \"4\": 18, \"1\": 7, \"15\": 1, \"10\": 1}}, \"O_32\": {\"8\": {\"13\": 39, \"8\": 152, \"3\": 7, \"5\": 26, \"7\": 1, \"0\": 14, \"4\": 1}, \"14\": {\"11\": 69, \"4\": 8, \"14\": 64, \"7\": 67, \"5\": 13, \"0\": 5, \"3\": 5, \"13\": 7, \"2\": 2}, \"2\": {\"2\": 166, \"0\": 18, \"4\": 53, \"7\": 3}, \"0\": {\"2\": 19, \"13\": 7, \"0\": 96, \"4\": 68, \"7\": 13, \"8\": 22, \"5\": 13, \"14\": 2}, \"1\": {\"1\": 234, \"10\": 6}, \"10\": {\"10\": 238, \"1\": 2}, \"11\": {\"11\": 157, \"14\": 65, \"7\": 8, \"5\": 5, \"13\": 4, \"3\": 1}, \"5\": {\"7\": 31, \"11\": 6, \"3\": 22, \"13\": 57, \"14\": 16, \"8\": 31, \"5\": 47, \"4\": 15, \"0\": 13, \"2\": 2}, \"15\": {\"15\": 235, \"8\": 4, \"3\": 1}, \"3\": {\"3\": 212, \"13\": 8, \"5\": 11, \"14\": 1, \"11\": 6, \"8\": 2}, \"12\": {\"12\": 240}, \"7\": {\"5\": 16, \"14\": 49, \"7\": 102, \"13\": 18, \"4\": 30, \"11\": 10, \"0\": 12, \"3\": 1, \"8\": 1, \"2\": 1}, \"13\": {\"13\": 62, \"5\": 68, \"3\": 16, \"0\": 12, \"8\": 31, \"14\": 16, \"4\": 15, \"11\": 3, \"7\": 17}, \"6\": {\"6\": 240}, \"4\": {\"0\": 71, \"7\": 29, \"2\": 37, \"4\": 85, \"13\": 7, \"5\": 7, \"14\": 3, \"8\": 1}, \"9\": {\"9\": 238, \"12\": 1, \"2\": 1}}, \"O_26\": {\"4\": {\"4\": 83, \"1\": 34, \"14\": 40, \"0\": 31, \"7\": 13, \"8\": 23, \"10\": 15, \"2\": 1}, \"12\": {\"12\": 236, \"11\": 4}, \"10\": {\"14\": 25, \"10\": 86, \"8\": 35, \"0\": 55, \"4\": 13, \"9\": 2, \"1\": 10, \"15\": 1, \"6\": 13}, \"0\": {\"8\": 21, \"10\": 55, \"1\": 28, \"0\": 53, \"6\": 8, \"7\": 7, \"14\": 39, \"4\": 29}, \"13\": {\"5\": 52, \"13\": 160, \"15\": 13, \"9\": 12, \"2\": 2, \"6\": 1}, \"9\": {\"5\": 28, \"15\": 78, \"9\": 74, \"6\": 23, \"8\": 9, \"7\": 6, \"13\": 16, \"10\": 4, \"2\": 2}, \"3\": {\"3\": 155, \"7\": 23, \"2\": 59, \"8\": 1, \"4\": 1, \"9\": 1}, \"2\": {\"2\": 91, \"7\": 26, \"3\": 75, \"5\": 20, \"8\": 2, \"9\": 10, \"15\": 15, \"0\": 1}, \"5\": {\"9\": 27, \"5\": 97, \"13\": 32, \"15\": 62, \"8\": 3, \"2\": 15, \"3\": 1, \"6\": 1, \"7\": 2}, \"14\": {\"10\": 26, \"4\": 40, \"14\": 68, \"0\": 45, \"1\": 55, \"8\": 6}, \"8\": {\"8\": 86, \"7\": 22, \"1\": 4, \"4\": 19, \"0\": 18, \"10\": 44, \"9\": 14, \"15\": 11, \"2\": 4, \"14\": 8, \"3\": 1, \"6\": 9}, \"7\": {\"8\": 23, \"3\": 30, \"7\": 136, \"2\": 27, \"1\": 4, \"4\": 13, \"0\": 6, \"15\": 1}, \"6\": {\"6\": 165, \"10\": 28, \"9\": 27, \"8\": 5, \"15\": 10, \"13\": 1, \"0\": 3, \"5\": 1}, \"11\": {\"11\": 235, \"12\": 5}, \"15\": {\"15\": 73, \"6\": 11, \"5\": 41, \"9\": 65, \"8\": 17, \"13\": 18, \"0\": 1, \"7\": 4, \"2\": 6, \"14\": 1, \"10\": 3}, \"1\": {\"4\": 35, \"14\": 78, \"10\": 11, \"0\": 18, \"1\": 88, \"7\": 7, \"8\": 3}}, \"O_44\": {\"12\": {\"12\": 168, \"1\": 48, \"10\": 23, \"3\": 1}, \"7\": {\"7\": 146, \"2\": 41, \"6\": 10, \"9\": 37, \"3\": 4, \"10\": 1, \"13\": 1}, \"5\": {\"5\": 186, \"15\": 12, \"0\": 22, \"14\": 12, \"4\": 3, \"8\": 5}, \"15\": {\"14\": 17, \"15\": 171, \"8\": 12, \"4\": 2, \"0\": 22, \"5\": 16}, \"8\": {\"8\": 156, \"0\": 74, \"15\": 6, \"5\": 3, \"14\": 1}, \"2\": {\"2\": 168, \"1\": 7, \"7\": 42, \"10\": 18, \"9\": 1, \"3\": 3, \"6\": 1}, \"13\": {\"6\": 29, \"13\": 138, \"11\": 38, \"9\": 31, \"4\": 1, \"7\": 3}, \"4\": {\"4\": 169, \"14\": 68, \"15\": 3}, \"0\": {\"8\": 74, \"0\": 128, \"15\": 13, \"5\": 25}, \"6\": {\"9\": 39, \"6\": 143, \"13\": 34, \"11\": 17, \"7\": 7}, \"9\": {\"9\": 138, \"7\": 45, \"6\": 16, \"13\": 37, \"2\": 3, \"3\": 1}, \"11\": {\"6\": 23, \"11\": 174, \"13\": 41, \"9\": 2}, \"10\": {\"1\": 29, \"10\": 171, \"2\": 15, \"12\": 24, \"3\": 1}, \"14\": {\"14\": 120, \"4\": 83, \"15\": 23, \"5\": 14}, \"1\": {\"1\": 118, \"12\": 62, \"3\": 32, \"2\": 11, \"10\": 17}, \"3\": {\"3\": 201, \"1\": 31, \"7\": 1, \"2\": 4, \"12\": 3}}, \"C_3\": {\"43\": {\"43\": 128}, \"9\": {\"9\": 150}, \"6\": {\"6\": 59, \"18\": 14, \"26\": 3, \"25\": 4, \"30\": 2, \"46\": 2, \"2\": 1, \"41\": 1, \"16\": 1, \"23\": 1}, \"3\": {\"3\": 136, \"20\": 3, \"21\": 2, \"52\": 3}, \"16\": {\"16\": 134}, \"51\": {\"51\": 128}, \"31\": {\"31\": 28}, \"46\": {\"16\": 10, \"46\": 114, \"52\": 7, \"41\": 1, \"26\": 1, \"3\": 1}, \"19\": {\"19\": 105, \"40\": 19}, \"8\": {\"8\": 151, \"38\": 1}, \"18\": {\"18\": 83, \"6\": 1}, \"37\": {\"37\": 28}, \"24\": {\"24\": 103, \"43\": 1}, \"10\": {\"10\": 64}, \"44\": {\"44\": 88}, \"14\": {\"14\": 13, \"28\": 2, \"22\": 7, \"56\": 1, \"57\": 3, \"34\": 5, \"29\": 2, \"35\": 2, \"1\": 1, \"47\": 2, \"0\": 2}, \"38\": {\"38\": 28}, \"53\": {\"53\": 137, \"20\": 1, \"8\": 2}, \"20\": {\"20\": 125, \"50\": 7}, \"32\": {\"32\": 28}, \"36\": {\"36\": 97, \"2\": 3}, \"33\": {\"33\": 28}, \"56\": {\"56\": 136}, \"23\": {\"23\": 130}, \"54\": {\"54\": 89, \"17\": 11}, \"21\": {\"21\": 126}, \"28\": {\"28\": 28}, \"26\": {\"26\": 24}, \"48\": {\"48\": 116}, \"52\": {\"52\": 116, \"46\": 2}, \"39\": {\"39\": 16}, \"22\": {\"22\": 140}, \"13\": {\"13\": 128}, \"2\": {\"2\": 30, \"36\": 2}, \"34\": {\"34\": 32}, \"27\": {\"27\": 132}, \"45\": {\"45\": 57, \"17\": 1, \"9\": 2}, \"35\": {\"35\": 27, \"14\": 1}, \"29\": {\"29\": 128}, \"25\": {\"25\": 130, \"6\": 4, \"50\": 5, \"30\": 1, \"20\": 3, \"18\": 1}, \"0\": {\"0\": 124}, \"41\": {\"41\": 28}, \"11\": {\"11\": 142}, \"5\": {\"5\": 105, \"39\": 1, \"55\": 2}, \"1\": {\"57\": 2, \"1\": 98}, \"57\": {\"57\": 114, \"1\": 2}, \"17\": {\"17\": 92, \"54\": 14, \"10\": 1, \"24\": 1}, \"7\": {\"7\": 36}, \"12\": {\"12\": 91, \"20\": 1}, \"47\": {\"47\": 86, \"42\": 1, \"5\": 2, \"55\": 3}, \"40\": {\"19\": 10, \"40\": 124, \"29\": 2}, \"15\": {\"15\": 140, \"23\": 2}, \"42\": {\"42\": 28}, \"55\": {\"55\": 144, \"47\": 2, \"5\": 4}, \"49\": {\"49\": 20}, \"30\": {\"30\": 119, \"23\": 1}, \"50\": {\"50\": 102, \"20\": 19, \"52\": 4, \"25\": 5, \"16\": 1, \"3\": 2, \"46\": 1}, \"4\": {\"4\": 130, \"40\": 3, \"9\": 3}}, \"C_4\": {\"35\": {\"35\": 39, \"57\": 1}, \"25\": {\"25\": 118, \"3\": 2, \"36\": 13, \"20\": 1}, \"24\": {\"24\": 56}, \"48\": {\"48\": 138}, \"51\": {\"51\": 144}, \"13\": {\"13\": 105, \"10\": 15}, \"14\": {\"35\": 5, \"0\": 1, \"14\": 3, \"29\": 1, \"38\": 1, \"57\": 2, \"56\": 3}, \"32\": {\"32\": 22, \"49\": 2}, \"30\": {\"30\": 44}, \"34\": {\"34\": 24}, \"9\": {\"9\": 135, \"4\": 1}, \"1\": {\"1\": 40}, \"0\": {\"0\": 80}, \"38\": {\"38\": 39, \"2\": 1}, \"22\": {\"22\": 128}, \"40\": {\"40\": 119, \"19\": 1}, \"6\": {\"20\": 3, \"6\": 94, \"53\": 7, \"25\": 1, \"51\": 2, \"52\": 1, \"36\": 2, \"3\": 2}, \"16\": {\"16\": 95, \"5\": 1}, \"11\": {\"11\": 104}, \"20\": {\"20\": 122}, \"17\": {\"17\": 74, \"27\": 6}, \"26\": {\"26\": 24}, \"54\": {\"54\": 108}, \"55\": {\"55\": 154}, \"50\": {\"50\": 105, \"21\": 5, \"53\": 5, \"36\": 3, \"20\": 6, \"3\": 1, \"25\": 4, \"55\": 1, \"8\": 1, \"51\": 1}, \"19\": {\"19\": 133, \"4\": 3, \"44\": 6}, \"44\": {\"44\": 117, \"19\": 2, \"40\": 1, \"29\": 2}, \"47\": {\"47\": 120}, \"33\": {\"33\": 36}, \"5\": {\"5\": 106, \"47\": 2}, \"18\": {\"18\": 107, \"54\": 1}, \"21\": {\"21\": 124}, \"41\": {\"41\": 36}, \"23\": {\"23\": 128}, \"39\": {\"39\": 20}, \"37\": {\"37\": 24}, \"8\": {\"8\": 144}, \"49\": {\"49\": 17, \"32\": 3}, \"53\": {\"53\": 139, \"6\": 1}, \"31\": {\"31\": 28}, \"28\": {\"28\": 32}, \"3\": {\"3\": 102, \"20\": 7, \"36\": 12, \"50\": 1, \"25\": 2}, \"27\": {\"27\": 133, \"17\": 3, \"9\": 2}, \"46\": {\"46\": 116, \"32\": 3, \"7\": 1, \"5\": 3, \"49\": 4, \"47\": 1}, \"12\": {\"12\": 92}, \"7\": {\"7\": 23, \"46\": 1}, \"4\": {\"4\": 131, \"9\": 1}, \"42\": {\"42\": 32}, \"43\": {\"43\": 128, \"7\": 1, \"22\": 1}, \"29\": {\"29\": 119, \"57\": 1}, \"57\": {\"57\": 97, \"35\": 3}, \"52\": {\"52\": 103, \"31\": 1}, \"45\": {\"45\": 93, \"17\": 3}, \"36\": {\"36\": 88, \"25\": 3, \"3\": 1}, \"10\": {\"10\": 113, \"13\": 13}, \"15\": {\"15\": 132, \"16\": 2}, \"56\": {\"56\": 124}, \"2\": {\"2\": 36}}, \"C_5\": {\"47\": {\"47\": 100}, \"53\": {\"53\": 150}, \"29\": {\"29\": 126}, \"52\": {\"52\": 129, \"16\": 1}, \"55\": {\"55\": 141, \"30\": 2, \"48\": 1}, \"17\": {\"17\": 114, \"30\": 2}, \"42\": {\"42\": 40}, \"33\": {\"33\": 32}, \"11\": {\"11\": 146, \"43\": 2}, \"19\": {\"19\": 118}, \"1\": {\"1\": 144}, \"44\": {\"44\": 142}, \"49\": {\"49\": 36}, \"4\": {\"4\": 98, \"45\": 2}, \"6\": {\"6\": 113, \"8\": 2, \"18\": 1}, \"39\": {\"39\": 20}, \"50\": {\"50\": 108, \"20\": 26, \"51\": 1, \"25\": 4, \"53\": 3, \"21\": 4, \"23\": 1, \"16\": 1}, \"56\": {\"56\": 130}, \"25\": {\"25\": 135, \"8\": 8, \"20\": 1}, \"28\": {\"28\": 30, \"34\": 2}, \"35\": {\"35\": 36}, \"24\": {\"24\": 80}, \"21\": {\"21\": 132}, \"45\": {\"45\": 94, \"9\": 12, \"48\": 8, \"17\": 1, \"1\": 2, \"27\": 4, \"4\": 1, \"30\": 2}, \"16\": {\"16\": 142, \"23\": 2}, \"37\": {\"37\": 24}, \"57\": {\"57\": 132}, \"34\": {\"34\": 36}, \"38\": {\"38\": 32}, \"48\": {\"48\": 128, \"9\": 2}, \"26\": {\"26\": 24}, \"9\": {\"9\": 145, \"27\": 2, \"45\": 2, \"48\": 3}, \"18\": {\"18\": 64}, \"3\": {\"3\": 72, \"46\": 26, \"49\": 1, \"14\": 1}, \"23\": {\"23\": 124}, \"15\": {\"15\": 150, \"11\": 2, \"43\": 1, \"24\": 1}, \"10\": {\"10\": 68}, \"46\": {\"46\": 133, \"3\": 15}, \"22\": {\"22\": 28}, \"54\": {\"54\": 112}, \"27\": {\"27\": 160}, \"41\": {\"41\": 28}, \"31\": {\"31\": 34, \"2\": 2}, \"0\": {\"0\": 121, \"56\": 2, \"35\": 1}, \"7\": {\"7\": 32}, \"2\": {\"2\": 27, \"31\": 1}, \"14\": {\"49\": 4, \"14\": 13, \"28\": 3, \"57\": 9, \"36\": 3, \"3\": 4, \"46\": 7, \"31\": 1}, \"40\": {\"40\": 120, \"14\": 2, \"19\": 2}, \"5\": {\"5\": 128}, \"12\": {\"12\": 93, \"7\": 1, \"20\": 2}, \"43\": {\"43\": 137, \"11\": 5}, \"13\": {\"13\": 145, \"24\": 1, \"11\": 2}, \"36\": {\"36\": 92}, \"8\": {\"8\": 150}, \"32\": {\"32\": 31, \"27\": 1}, \"30\": {\"30\": 127, \"55\": 1}, \"51\": {\"51\": 136, \"50\": 1, \"20\": 1}, \"20\": {\"20\": 116, \"50\": 22}}, \"C_1\": {\"46\": {\"46\": 137, \"53\": 2, \"51\": 1}, \"16\": {\"16\": 134}, \"26\": {\"26\": 24}, \"10\": {\"10\": 87, \"52\": 9}, \"9\": {\"9\": 156}, \"28\": {\"28\": 28}, \"51\": {\"51\": 138, \"13\": 18}, \"1\": {\"1\": 99, \"19\": 1}, \"55\": {\"55\": 147, \"54\": 1}, \"27\": {\"27\": 124}, \"22\": {\"22\": 111, \"11\": 10, \"21\": 2, \"15\": 1}, \"52\": {\"52\": 119, \"10\": 5, \"11\": 1, \"24\": 1}, \"3\": {\"3\": 140}, \"33\": {\"33\": 32}, \"47\": {\"47\": 120}, \"42\": {\"42\": 38, \"55\": 2}, \"12\": {\"12\": 116}, \"23\": {\"23\": 125, \"15\": 4, \"0\": 2, \"49\": 1}, \"49\": {\"49\": 25, \"23\": 6, \"15\": 1}, \"7\": {\"7\": 28}, \"4\": {\"4\": 128, \"19\": 2, \"40\": 2}, \"50\": {\"50\": 134}, \"19\": {\"19\": 153, \"1\": 1}, \"11\": {\"11\": 138, \"22\": 2}, \"31\": {\"31\": 28}, \"41\": {\"41\": 24}, \"56\": {\"56\": 134, \"57\": 4}, \"0\": {\"0\": 144, \"49\": 2, \"23\": 2}, \"57\": {\"57\": 125, \"19\": 1, \"56\": 1, \"1\": 1}, \"53\": {\"53\": 140}, \"43\": {\"43\": 144}, \"37\": {\"37\": 32}, \"2\": {\"2\": 36}, \"6\": {\"6\": 96}, \"13\": {\"13\": 135, \"51\": 15}, \"18\": {\"18\": 71, \"25\": 1}, \"36\": {\"36\": 64}, \"29\": {\"29\": 140}, \"39\": {\"39\": 28}, \"17\": {\"17\": 62, \"8\": 2}, \"21\": {\"21\": 101, \"15\": 12, \"22\": 3, \"24\": 7, \"23\": 1}, \"25\": {\"25\": 131, \"18\": 1}, \"45\": {\"45\": 141, \"42\": 1}, \"38\": {\"38\": 22, \"0\": 2}, \"30\": {\"30\": 120}, \"24\": {\"24\": 93, \"21\": 11, \"15\": 3, \"52\": 1}, \"20\": {\"20\": 140}, \"8\": {\"8\": 140}, \"35\": {\"35\": 34, \"44\": 2}, \"54\": {\"54\": 104}, \"5\": {\"5\": 142, \"9\": 6}, \"48\": {\"48\": 142, \"9\": 2}, \"15\": {\"15\": 125, \"21\": 11, \"24\": 3, \"23\": 2, \"0\": 1}, \"34\": {\"34\": 24}, \"14\": {\"42\": 2, \"53\": 2, \"26\": 2, \"14\": 9, \"25\": 1, \"30\": 2, \"45\": 1, \"51\": 2, \"37\": 1, \"13\": 1, \"9\": 1}, \"32\": {\"32\": 32}, \"40\": {\"40\": 141, \"29\": 5, \"19\": 1, \"4\": 1}, \"44\": {\"44\": 130, \"35\": 6}}, \"C_2\": {\"36\": {\"36\": 116}, \"5\": {\"5\": 120}, \"45\": {\"4\": 5, \"45\": 117, \"32\": 2, \"27\": 1, \"17\": 3}, \"49\": {\"49\": 23, \"54\": 1}, \"50\": {\"50\": 120, \"6\": 9, \"25\": 3, \"53\": 1, \"8\": 1, \"20\": 1, \"36\": 1}, \"4\": {\"4\": 136, \"45\": 1, \"35\": 1}, \"43\": {\"43\": 148}, \"41\": {\"41\": 20}, \"37\": {\"37\": 36}, \"12\": {\"12\": 92}, \"33\": {\"33\": 28}, \"7\": {\"7\": 36}, \"56\": {\"56\": 139, \"22\": 1}, \"14\": {\"56\": 8, \"22\": 1, \"14\": 7, \"29\": 2, \"0\": 2, \"57\": 3, \"47\": 1}, \"52\": {\"52\": 119, \"46\": 4, \"16\": 1}, \"44\": {\"44\": 90, \"40\": 2, \"29\": 2, \"9\": 2}, \"48\": {\"48\": 144}, \"20\": {\"20\": 113, \"53\": 14, \"8\": 1}, \"55\": {\"55\": 140, \"42\": 2, \"47\": 2}, \"32\": {\"32\": 27, \"17\": 1}, \"40\": {\"40\": 121, \"19\": 13, \"9\": 2}, \"54\": {\"54\": 107, \"17\": 1}, \"17\": {\"17\": 103, \"32\": 1}, \"38\": {\"38\": 20}, \"24\": {\"24\": 96}, \"1\": {\"1\": 107, \"57\": 5}, \"6\": {\"6\": 112, \"25\": 6, \"50\": 6}, \"34\": {\"34\": 28}, \"11\": {\"11\": 136}, \"9\": {\"9\": 148, \"35\": 2}, \"8\": {\"8\": 152}, \"22\": {\"22\": 135, \"56\": 1}, \"26\": {\"26\": 24}, \"23\": {\"23\": 146}, \"10\": {\"10\": 112}, \"18\": {\"18\": 48}, \"13\": {\"13\": 116}, \"30\": {\"30\": 128}, \"42\": {\"42\": 35, \"55\": 1}, \"31\": {\"31\": 28}, \"46\": {\"46\": 100, \"52\": 12, \"16\": 8, \"15\": 8}, \"57\": {\"57\": 140, \"1\": 2}, \"47\": {\"47\": 138}, \"35\": {\"40\": 4, \"35\": 23, \"9\": 5}, \"15\": {\"15\": 132}, \"25\": {\"25\": 132, \"6\": 4}, \"19\": {\"19\": 135, \"40\": 1}, \"51\": {\"51\": 127, \"53\": 1}, \"53\": {\"20\": 12, \"53\": 120, \"25\": 1, \"50\": 1}, \"21\": {\"21\": 118, \"3\": 2}, \"39\": {\"39\": 28}, \"2\": {\"2\": 30, \"34\": 2}, \"16\": {\"16\": 150}, \"0\": {\"0\": 48}, \"3\": {\"3\": 77, \"21\": 15}, \"27\": {\"27\": 142}, \"28\": {\"28\": 28}, \"29\": {\"29\": 128}}}, \"per_domain_accuracy\": {\"O_14\": {\"accuracy\": 0.7434895833333334, \"source?\": true}, \"O_20\": {\"accuracy\": 0.5596354166666667, \"source?\": true}, \"O_38\": {\"accuracy\": 0.6552083333333333, \"source?\": true}, \"O_8\": {\"accuracy\": 0.6861979166666666, \"source?\": true}, \"O_50\": {\"accuracy\": 0.69453125, \"source?\": true}, \"O_32\": {\"accuracy\": 0.66875, \"source?\": true}, \"O_26\": {\"accuracy\": 0.49114583333333334, \"source?\": true}, \"O_44\": {\"accuracy\": 0.6497395833333334, \"source?\": true}, \"C_3\": {\"accuracy\": 0.9562136627906976, \"source?\": false}, \"C_4\": {\"accuracy\": 0.9634469696969697, \"source?\": false}, \"C_5\": {\"accuracy\": 0.9598463687150838, \"source?\": false}, \"C_1\": {\"accuracy\": 0.9656762295081968, \"source?\": false}, \"C_2\": {\"accuracy\": 0.965572033898305, \"source?\": false}}}, \"history\": {\"epoch_indices\": [1, 2, 3, 4, 5, 6], \"train_label_loss\": [1.7169317151286771, 0.9346929846464523, 0.8711666241376883, 0.8324225032524694, 0.7952412347264942, 0.7096520437526384], \"source_val_label_loss\": [1.0817278623580933, 0.9407055974006653, 0.9093026518821716, 0.8449003100395203, 0.8012399077415466, 0.6860325336456299], \"target_val_label_loss\": [0.8163658976554871, 0.17702192068099976, 0.4237305223941803, 0.7954556345939636, 1.3035422563552856, 2.5062108039855957], \"source_val_acc_label\": [0.6288736979166667, 0.6435872395833333, 0.6582356770833333, 0.680078125, 0.69384765625, 0.7427734375], \"target_val_acc_label\": [0.9294021118721462, 0.9621860730593608, 0.951912100456621, 0.9448130707762558, 0.945847602739726, 0.9450627853881278]}, \"dataset_metrics\": {\"source\": {\"train\": {\"n_unique_x\": 179200, \"n_unique_y\": 16, \"n_batch/episode\": 6720}, \"val\": {\"n_unique_x\": 38400, \"n_unique_y\": 16, \"n_batch/episode\": 960}, \"test\": {\"n_unique_x\": 38400, \"n_unique_y\": 16, \"n_batch/episode\": 960}}, \"target\": {\"train\": {\"n_unique_x\": 175212, \"n_unique_y\": 58, \"n_batch/episode\": 6322}, \"val\": {\"n_unique_x\": 37196, \"n_unique_y\": 58, \"n_batch/episode\": 876}, \"test\": {\"n_unique_x\": 37634, \"n_unique_y\": 58, \"n_batch/episode\": 891}}}}'"
      ]
     },
     "execution_count": 29,
     "metadata": {},
     "output_type": "execute_result"
    }
   ],
   "source": [
    "json.dumps(experiment)"
   ]
  }
 ],
 "metadata": {
  "celltoolbar": "Tags",
  "kernelspec": {
   "display_name": "Python 3 (ipykernel)",
   "language": "python",
   "name": "python3"
  },
  "language_info": {
   "codemirror_mode": {
    "name": "ipython",
    "version": 3
   },
   "file_extension": ".py",
   "mimetype": "text/x-python",
   "name": "python",
   "nbconvert_exporter": "python",
   "pygments_lexer": "ipython3",
   "version": "3.8.12"
  },
  "papermill": {
   "default_parameters": {},
   "duration": 1193.816486,
   "end_time": "2022-03-28T09:35:24.121096",
   "environment_variables": {},
   "exception": null,
   "input_path": "/root/csc500-main/csc500-notebooks/templates/tl_ptn_template.ipynb",
   "output_path": "trial.ipynb",
   "parameters": {
    "parameters": {
     "BEST_MODEL_PATH": "./best_model.pth",
     "NUM_LOGS_PER_EPOCH": 10,
     "criteria_for_best": "target_accuracy",
     "dataset_seed": 1337,
     "datasets": [
      {
       "domain_prefix": "C_",
       "domains": [
        1,
        2,
        3,
        4,
        5
       ],
       "episode_transforms": [],
       "labels": [
        "1-10.",
        "1-11.",
        "1-15.",
        "1-16.",
        "1-17.",
        "1-18.",
        "1-19.",
        "10-4.",
        "10-7.",
        "11-1.",
        "11-14.",
        "11-17.",
        "11-20.",
        "11-7.",
        "13-20.",
        "13-8.",
        "14-10.",
        "14-11.",
        "14-14.",
        "14-7.",
        "15-1.",
        "15-20.",
        "16-1.",
        "16-16.",
        "17-10.",
        "17-11.",
        "17-2.",
        "19-1.",
        "19-16.",
        "19-19.",
        "19-20.",
        "19-3.",
        "2-10.",
        "2-11.",
        "2-17.",
        "2-18.",
        "2-20.",
        "2-3.",
        "2-4.",
        "2-5.",
        "2-6.",
        "2-7.",
        "2-8.",
        "3-13.",
        "3-18.",
        "3-3.",
        "4-1.",
        "4-10.",
        "4-11.",
        "4-19.",
        "5-5.",
        "6-15.",
        "7-10.",
        "7-14.",
        "8-18.",
        "8-20.",
        "8-3.",
        "8-8."
       ],
       "num_examples_per_domain_per_label": -1,
       "pickle_path": "/root/csc500-main/datasets/cores.stratified_ds.2022A.pkl",
       "source_or_target_dataset": "target",
       "x_transforms": [
        "unit_power",
        "jitter_256_10",
        "lowpass_+/-10MHz",
        "take_200"
       ]
      },
      {
       "domain_prefix": "O_",
       "domains": [
        32,
        38,
        8,
        44,
        14,
        50,
        20,
        26
       ],
       "episode_transforms": [],
       "labels": [
        "3123D52",
        "3123D65",
        "3123D79",
        "3123D80",
        "3123D54",
        "3123D70",
        "3123D7B",
        "3123D89",
        "3123D58",
        "3123D76",
        "3123D7D",
        "3123EFE",
        "3123D64",
        "3123D78",
        "3123D7E",
        "3124E4A"
       ],
       "num_examples_per_domain_per_label": 2000,
       "pickle_path": "/root/csc500-main/datasets/oracle.Run1_framed_2000Examples_stratified_ds.2022A.pkl",
       "source_or_target_dataset": "source",
       "x_transforms": [
        "unit_power",
        "jitter_256_10",
        "take_200",
        "resample_20Msps_to_25Msps"
       ]
      }
     ],
     "device": "cuda",
     "experiment_name": "tl_3-jitter10v2:oracle.run1.framed -> cores",
     "lr": 0.0001,
     "n_epoch": 50,
     "n_query": 2,
     "n_shot": 3,
     "n_way": 16,
     "patience": 3,
     "seed": 1337,
     "test_k_factor": 2,
     "torch_default_dtype": "torch.float32",
     "train_k_factor": 3,
     "val_k_factor": 2,
     "x_net": [
      {
       "class": "nnReshape",
       "kargs": {
        "shape": [
         -1,
         1,
         2,
         256
        ]
       }
      },
      {
       "class": "Conv2d",
       "kargs": {
        "bias": false,
        "in_channels": 1,
        "kernel_size": [
         1,
         7
        ],
        "out_channels": 256,
        "padding": [
         0,
         3
        ]
       }
      },
      {
       "class": "ReLU",
       "kargs": {
        "inplace": true
       }
      },
      {
       "class": "BatchNorm2d",
       "kargs": {
        "num_features": 256
       }
      },
      {
       "class": "Conv2d",
       "kargs": {
        "bias": true,
        "in_channels": 256,
        "kernel_size": [
         2,
         7
        ],
        "out_channels": 80,
        "padding": [
         0,
         3
        ]
       }
      },
      {
       "class": "ReLU",
       "kargs": {
        "inplace": true
       }
      },
      {
       "class": "BatchNorm2d",
       "kargs": {
        "num_features": 80
       }
      },
      {
       "class": "Flatten",
       "kargs": {}
      },
      {
       "class": "Linear",
       "kargs": {
        "in_features": 20480,
        "out_features": 256
       }
      },
      {
       "class": "ReLU",
       "kargs": {
        "inplace": true
       }
      },
      {
       "class": "BatchNorm1d",
       "kargs": {
        "num_features": 256
       }
      },
      {
       "class": "Linear",
       "kargs": {
        "in_features": 256,
        "out_features": 256
       }
      }
     ],
     "x_shape": [
      2,
      256
     ]
    }
   },
   "start_time": "2022-03-28T09:15:30.304610",
   "version": "2.3.4"
  }
 },
 "nbformat": 4,
 "nbformat_minor": 5
}