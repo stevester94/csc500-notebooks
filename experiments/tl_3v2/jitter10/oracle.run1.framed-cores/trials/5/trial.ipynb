{
 "cells": [
  {
   "cell_type": "markdown",
   "id": "9fea5f46",
   "metadata": {
    "papermill": {
     "duration": 0.028713,
     "end_time": "2022-03-28T10:12:03.267267",
     "exception": false,
     "start_time": "2022-03-28T10:12:03.238554",
     "status": "completed"
    },
    "tags": []
   },
   "source": [
    "# Transfer Learning Template"
   ]
  },
  {
   "cell_type": "code",
   "execution_count": 1,
   "id": "0902182a",
   "metadata": {
    "execution": {
     "iopub.execute_input": "2022-03-28T10:12:03.331084Z",
     "iopub.status.busy": "2022-03-28T10:12:03.330221Z",
     "iopub.status.idle": "2022-03-28T10:12:05.236069Z",
     "shell.execute_reply": "2022-03-28T10:12:05.235027Z"
    },
    "papermill": {
     "duration": 1.945252,
     "end_time": "2022-03-28T10:12:05.236272",
     "exception": false,
     "start_time": "2022-03-28T10:12:03.291020",
     "status": "completed"
    },
    "tags": []
   },
   "outputs": [],
   "source": [
    "%load_ext autoreload\n",
    "%autoreload 2\n",
    "%matplotlib inline\n",
    "\n",
    "    \n",
    "import os, json, sys, time, random\n",
    "import numpy as np\n",
    "import torch\n",
    "from torch.optim import Adam\n",
    "from  easydict import EasyDict\n",
    "import matplotlib.pyplot as plt\n",
    "\n",
    "from steves_models.steves_ptn import Steves_Prototypical_Network\n",
    "\n",
    "from steves_utils.lazy_iterable_wrapper import Lazy_Iterable_Wrapper\n",
    "from steves_utils.iterable_aggregator import Iterable_Aggregator\n",
    "from steves_utils.ptn_train_eval_test_jig import  PTN_Train_Eval_Test_Jig\n",
    "from steves_utils.torch_sequential_builder import build_sequential\n",
    "from steves_utils.torch_utils import get_dataset_metrics, ptn_confusion_by_domain_over_dataloader\n",
    "from steves_utils.utils_v2 import (per_domain_accuracy_from_confusion, get_datasets_base_path)\n",
    "from steves_utils.PTN.utils import independent_accuracy_assesment\n",
    "\n",
    "from torch.utils.data import DataLoader\n",
    "\n",
    "from steves_utils.stratified_dataset.episodic_accessor import Episodic_Accessor_Factory\n",
    "\n",
    "from steves_utils.ptn_do_report import (\n",
    "    get_loss_curve,\n",
    "    get_results_table,\n",
    "    get_parameters_table,\n",
    "    get_domain_accuracies,\n",
    ")\n",
    "\n",
    "from steves_utils.transforms import get_chained_transform"
   ]
  },
  {
   "cell_type": "markdown",
   "id": "41c840b4",
   "metadata": {
    "papermill": {
     "duration": 0.018507,
     "end_time": "2022-03-28T10:12:05.278976",
     "exception": false,
     "start_time": "2022-03-28T10:12:05.260469",
     "status": "completed"
    },
    "tags": []
   },
   "source": [
    "# Allowed Parameters\n",
    "These are allowed parameters, not defaults\n",
    "Each of these values need to be present in the injected parameters (the notebook will raise an exception if they are not present)\n",
    "\n",
    "Papermill uses the cell tag \"parameters\" to inject the real parameters below this cell.\n",
    "Enable tags to see what I mean"
   ]
  },
  {
   "cell_type": "code",
   "execution_count": 2,
   "id": "fd44eb83",
   "metadata": {
    "execution": {
     "iopub.execute_input": "2022-03-28T10:12:05.323373Z",
     "iopub.status.busy": "2022-03-28T10:12:05.322979Z",
     "iopub.status.idle": "2022-03-28T10:12:05.346327Z",
     "shell.execute_reply": "2022-03-28T10:12:05.345564Z"
    },
    "papermill": {
     "duration": 0.04782,
     "end_time": "2022-03-28T10:12:05.346494",
     "exception": false,
     "start_time": "2022-03-28T10:12:05.298674",
     "status": "completed"
    },
    "tags": []
   },
   "outputs": [],
   "source": [
    "required_parameters = {\n",
    "    \"experiment_name\",\n",
    "    \"lr\",\n",
    "    \"device\",\n",
    "    \"seed\",\n",
    "    \"dataset_seed\",\n",
    "    \"n_shot\",\n",
    "    \"n_query\",\n",
    "    \"n_way\",\n",
    "    \"train_k_factor\",\n",
    "    \"val_k_factor\",\n",
    "    \"test_k_factor\",\n",
    "    \"n_epoch\",\n",
    "    \"patience\",\n",
    "    \"criteria_for_best\",\n",
    "    \"x_net\",\n",
    "    \"datasets\",\n",
    "    \"torch_default_dtype\",\n",
    "    \"NUM_LOGS_PER_EPOCH\",\n",
    "    \"BEST_MODEL_PATH\",\n",
    "    \"x_shape\",\n",
    "}"
   ]
  },
  {
   "cell_type": "code",
   "execution_count": 3,
   "id": "fa3f0049",
   "metadata": {
    "execution": {
     "iopub.execute_input": "2022-03-28T10:12:05.409440Z",
     "iopub.status.busy": "2022-03-28T10:12:05.408528Z",
     "iopub.status.idle": "2022-03-28T10:12:05.432793Z",
     "shell.execute_reply": "2022-03-28T10:12:05.431975Z"
    },
    "papermill": {
     "duration": 0.058834,
     "end_time": "2022-03-28T10:12:05.432958",
     "exception": false,
     "start_time": "2022-03-28T10:12:05.374124",
     "status": "completed"
    },
    "tags": [
     "parameters"
    ]
   },
   "outputs": [],
   "source": [
    "from steves_utils.CORES.utils import (\n",
    "    ALL_NODES,\n",
    "    ALL_NODES_MINIMUM_1000_EXAMPLES,\n",
    "    ALL_DAYS\n",
    ")\n",
    "\n",
    "from steves_utils.ORACLE.utils_v2 import (\n",
    "    ALL_DISTANCES_FEET_NARROWED,\n",
    "    ALL_RUNS,\n",
    "    ALL_SERIAL_NUMBERS,\n",
    ")\n",
    "\n",
    "standalone_parameters = {}\n",
    "standalone_parameters[\"experiment_name\"] = \"STANDALONE PTN\"\n",
    "standalone_parameters[\"lr\"] = 0.001\n",
    "standalone_parameters[\"device\"] = \"cuda\"\n",
    "\n",
    "standalone_parameters[\"seed\"] = 1337\n",
    "standalone_parameters[\"dataset_seed\"] = 1337\n",
    "\n",
    "standalone_parameters[\"n_way\"] = 8\n",
    "standalone_parameters[\"n_shot\"] = 3\n",
    "standalone_parameters[\"n_query\"]  = 2\n",
    "standalone_parameters[\"train_k_factor\"] = 1\n",
    "standalone_parameters[\"val_k_factor\"] = 2\n",
    "standalone_parameters[\"test_k_factor\"] = 2\n",
    "\n",
    "\n",
    "standalone_parameters[\"n_epoch\"] = 50\n",
    "\n",
    "standalone_parameters[\"patience\"] = 10\n",
    "standalone_parameters[\"criteria_for_best\"] = \"source_loss\"\n",
    "\n",
    "standalone_parameters[\"datasets\"] = [\n",
    "    {\n",
    "        \"labels\": ALL_SERIAL_NUMBERS,\n",
    "        \"domains\": ALL_DISTANCES_FEET_NARROWED,\n",
    "        \"num_examples_per_domain_per_label\": 100,\n",
    "        \"pickle_path\": os.path.join(get_datasets_base_path(), \"oracle.Run1_framed_2000Examples_stratified_ds.2022A.pkl\"),\n",
    "        \"source_or_target_dataset\": \"source\",\n",
    "        \"x_transforms\": [\"unit_mag\", \"minus_two\"],\n",
    "        \"episode_transforms\": [],\n",
    "        \"domain_prefix\": \"ORACLE_\"\n",
    "    },\n",
    "    {\n",
    "        \"labels\": ALL_NODES,\n",
    "        \"domains\": ALL_DAYS,\n",
    "        \"num_examples_per_domain_per_label\": 100,\n",
    "        \"pickle_path\": os.path.join(get_datasets_base_path(), \"cores.stratified_ds.2022A.pkl\"),\n",
    "        \"source_or_target_dataset\": \"target\",\n",
    "        \"x_transforms\": [\"unit_power\", \"times_zero\"],\n",
    "        \"episode_transforms\": [],\n",
    "        \"domain_prefix\": \"CORES_\"\n",
    "    }   \n",
    "]\n",
    "\n",
    "standalone_parameters[\"torch_default_dtype\"] = \"torch.float32\" \n",
    "\n",
    "\n",
    "\n",
    "standalone_parameters[\"x_net\"] =     [\n",
    "    {\"class\": \"nnReshape\", \"kargs\": {\"shape\":[-1, 1, 2, 256]}},\n",
    "    {\"class\": \"Conv2d\", \"kargs\": { \"in_channels\":1, \"out_channels\":256, \"kernel_size\":(1,7), \"bias\":False, \"padding\":(0,3), },},\n",
    "    {\"class\": \"ReLU\", \"kargs\": {\"inplace\": True}},\n",
    "    {\"class\": \"BatchNorm2d\", \"kargs\": {\"num_features\":256}},\n",
    "\n",
    "    {\"class\": \"Conv2d\", \"kargs\": { \"in_channels\":256, \"out_channels\":80, \"kernel_size\":(2,7), \"bias\":True, \"padding\":(0,3), },},\n",
    "    {\"class\": \"ReLU\", \"kargs\": {\"inplace\": True}},\n",
    "    {\"class\": \"BatchNorm2d\", \"kargs\": {\"num_features\":80}},\n",
    "    {\"class\": \"Flatten\", \"kargs\": {}},\n",
    "\n",
    "    {\"class\": \"Linear\", \"kargs\": {\"in_features\": 80*256, \"out_features\": 256}}, # 80 units per IQ pair\n",
    "    {\"class\": \"ReLU\", \"kargs\": {\"inplace\": True}},\n",
    "    {\"class\": \"BatchNorm1d\", \"kargs\": {\"num_features\":256}},\n",
    "\n",
    "    {\"class\": \"Linear\", \"kargs\": {\"in_features\": 256, \"out_features\": 256}},\n",
    "]\n",
    "\n",
    "# Parameters relevant to results\n",
    "# These parameters will basically never need to change\n",
    "standalone_parameters[\"NUM_LOGS_PER_EPOCH\"] = 10\n",
    "standalone_parameters[\"BEST_MODEL_PATH\"] = \"./best_model.pth\"\n",
    "\n",
    "\n",
    "\n",
    "\n"
   ]
  },
  {
   "cell_type": "code",
   "execution_count": 4,
   "id": "a92b6001",
   "metadata": {
    "execution": {
     "iopub.execute_input": "2022-03-28T10:12:05.486437Z",
     "iopub.status.busy": "2022-03-28T10:12:05.480106Z",
     "iopub.status.idle": "2022-03-28T10:12:05.513810Z",
     "shell.execute_reply": "2022-03-28T10:12:05.512987Z"
    },
    "papermill": {
     "duration": 0.055144,
     "end_time": "2022-03-28T10:12:05.513968",
     "exception": false,
     "start_time": "2022-03-28T10:12:05.458824",
     "status": "completed"
    },
    "tags": [
     "injected-parameters"
    ]
   },
   "outputs": [],
   "source": [
    "# Parameters\n",
    "parameters = {\n",
    "    \"experiment_name\": \"tl_3-jitter10v2:oracle.run1.framed -> cores\",\n",
    "    \"device\": \"cuda\",\n",
    "    \"lr\": 0.0001,\n",
    "    \"x_shape\": [2, 256],\n",
    "    \"n_shot\": 3,\n",
    "    \"n_query\": 2,\n",
    "    \"train_k_factor\": 3,\n",
    "    \"val_k_factor\": 2,\n",
    "    \"test_k_factor\": 2,\n",
    "    \"torch_default_dtype\": \"torch.float32\",\n",
    "    \"n_epoch\": 50,\n",
    "    \"patience\": 3,\n",
    "    \"criteria_for_best\": \"target_accuracy\",\n",
    "    \"x_net\": [\n",
    "        {\"class\": \"nnReshape\", \"kargs\": {\"shape\": [-1, 1, 2, 256]}},\n",
    "        {\n",
    "            \"class\": \"Conv2d\",\n",
    "            \"kargs\": {\n",
    "                \"in_channels\": 1,\n",
    "                \"out_channels\": 256,\n",
    "                \"kernel_size\": [1, 7],\n",
    "                \"bias\": False,\n",
    "                \"padding\": [0, 3],\n",
    "            },\n",
    "        },\n",
    "        {\"class\": \"ReLU\", \"kargs\": {\"inplace\": True}},\n",
    "        {\"class\": \"BatchNorm2d\", \"kargs\": {\"num_features\": 256}},\n",
    "        {\n",
    "            \"class\": \"Conv2d\",\n",
    "            \"kargs\": {\n",
    "                \"in_channels\": 256,\n",
    "                \"out_channels\": 80,\n",
    "                \"kernel_size\": [2, 7],\n",
    "                \"bias\": True,\n",
    "                \"padding\": [0, 3],\n",
    "            },\n",
    "        },\n",
    "        {\"class\": \"ReLU\", \"kargs\": {\"inplace\": True}},\n",
    "        {\"class\": \"BatchNorm2d\", \"kargs\": {\"num_features\": 80}},\n",
    "        {\"class\": \"Flatten\", \"kargs\": {}},\n",
    "        {\"class\": \"Linear\", \"kargs\": {\"in_features\": 20480, \"out_features\": 256}},\n",
    "        {\"class\": \"ReLU\", \"kargs\": {\"inplace\": True}},\n",
    "        {\"class\": \"BatchNorm1d\", \"kargs\": {\"num_features\": 256}},\n",
    "        {\"class\": \"Linear\", \"kargs\": {\"in_features\": 256, \"out_features\": 256}},\n",
    "    ],\n",
    "    \"NUM_LOGS_PER_EPOCH\": 10,\n",
    "    \"BEST_MODEL_PATH\": \"./best_model.pth\",\n",
    "    \"n_way\": 16,\n",
    "    \"datasets\": [\n",
    "        {\n",
    "            \"labels\": [\n",
    "                \"1-10.\",\n",
    "                \"1-11.\",\n",
    "                \"1-15.\",\n",
    "                \"1-16.\",\n",
    "                \"1-17.\",\n",
    "                \"1-18.\",\n",
    "                \"1-19.\",\n",
    "                \"10-4.\",\n",
    "                \"10-7.\",\n",
    "                \"11-1.\",\n",
    "                \"11-14.\",\n",
    "                \"11-17.\",\n",
    "                \"11-20.\",\n",
    "                \"11-7.\",\n",
    "                \"13-20.\",\n",
    "                \"13-8.\",\n",
    "                \"14-10.\",\n",
    "                \"14-11.\",\n",
    "                \"14-14.\",\n",
    "                \"14-7.\",\n",
    "                \"15-1.\",\n",
    "                \"15-20.\",\n",
    "                \"16-1.\",\n",
    "                \"16-16.\",\n",
    "                \"17-10.\",\n",
    "                \"17-11.\",\n",
    "                \"17-2.\",\n",
    "                \"19-1.\",\n",
    "                \"19-16.\",\n",
    "                \"19-19.\",\n",
    "                \"19-20.\",\n",
    "                \"19-3.\",\n",
    "                \"2-10.\",\n",
    "                \"2-11.\",\n",
    "                \"2-17.\",\n",
    "                \"2-18.\",\n",
    "                \"2-20.\",\n",
    "                \"2-3.\",\n",
    "                \"2-4.\",\n",
    "                \"2-5.\",\n",
    "                \"2-6.\",\n",
    "                \"2-7.\",\n",
    "                \"2-8.\",\n",
    "                \"3-13.\",\n",
    "                \"3-18.\",\n",
    "                \"3-3.\",\n",
    "                \"4-1.\",\n",
    "                \"4-10.\",\n",
    "                \"4-11.\",\n",
    "                \"4-19.\",\n",
    "                \"5-5.\",\n",
    "                \"6-15.\",\n",
    "                \"7-10.\",\n",
    "                \"7-14.\",\n",
    "                \"8-18.\",\n",
    "                \"8-20.\",\n",
    "                \"8-3.\",\n",
    "                \"8-8.\",\n",
    "            ],\n",
    "            \"domains\": [1, 2, 3, 4, 5],\n",
    "            \"num_examples_per_domain_per_label\": -1,\n",
    "            \"pickle_path\": \"/root/csc500-main/datasets/cores.stratified_ds.2022A.pkl\",\n",
    "            \"source_or_target_dataset\": \"target\",\n",
    "            \"x_transforms\": [\"jitter_256_10\", \"lowpass_+/-10MHz\", \"take_200\"],\n",
    "            \"episode_transforms\": [],\n",
    "            \"domain_prefix\": \"C_\",\n",
    "        },\n",
    "        {\n",
    "            \"labels\": [\n",
    "                \"3123D52\",\n",
    "                \"3123D65\",\n",
    "                \"3123D79\",\n",
    "                \"3123D80\",\n",
    "                \"3123D54\",\n",
    "                \"3123D70\",\n",
    "                \"3123D7B\",\n",
    "                \"3123D89\",\n",
    "                \"3123D58\",\n",
    "                \"3123D76\",\n",
    "                \"3123D7D\",\n",
    "                \"3123EFE\",\n",
    "                \"3123D64\",\n",
    "                \"3123D78\",\n",
    "                \"3123D7E\",\n",
    "                \"3124E4A\",\n",
    "            ],\n",
    "            \"domains\": [32, 38, 8, 44, 14, 50, 20, 26],\n",
    "            \"num_examples_per_domain_per_label\": 2000,\n",
    "            \"pickle_path\": \"/root/csc500-main/datasets/oracle.Run1_framed_2000Examples_stratified_ds.2022A.pkl\",\n",
    "            \"source_or_target_dataset\": \"source\",\n",
    "            \"x_transforms\": [\"jitter_256_10\", \"take_200\", \"resample_20Msps_to_25Msps\"],\n",
    "            \"episode_transforms\": [],\n",
    "            \"domain_prefix\": \"O_\",\n",
    "        },\n",
    "    ],\n",
    "    \"seed\": 420,\n",
    "    \"dataset_seed\": 420,\n",
    "}\n"
   ]
  },
  {
   "cell_type": "code",
   "execution_count": 5,
   "id": "8fa1cc33",
   "metadata": {
    "execution": {
     "iopub.execute_input": "2022-03-28T10:12:05.566240Z",
     "iopub.status.busy": "2022-03-28T10:12:05.565412Z",
     "iopub.status.idle": "2022-03-28T10:12:05.586144Z",
     "shell.execute_reply": "2022-03-28T10:12:05.585340Z"
    },
    "papermill": {
     "duration": 0.047342,
     "end_time": "2022-03-28T10:12:05.586298",
     "exception": false,
     "start_time": "2022-03-28T10:12:05.538956",
     "status": "completed"
    },
    "tags": []
   },
   "outputs": [],
   "source": [
    "# Set this to True if you want to run this template directly\n",
    "STANDALONE = False\n",
    "if STANDALONE:\n",
    "    print(\"parameters not injected, running with standalone_parameters\")\n",
    "    parameters = standalone_parameters\n",
    "\n",
    "if not 'parameters' in locals() and not 'parameters' in globals():\n",
    "    raise Exception(\"Parameter injection failed\")\n",
    "\n",
    "#Use an easy dict for all the parameters\n",
    "p = EasyDict(parameters)\n",
    "\n",
    "if \"x_shape\" not in p:\n",
    "    p.x_shape = [2,256] # Default to this if we dont supply x_shape\n",
    "\n",
    "\n",
    "supplied_keys = set(p.keys())\n",
    "\n",
    "if  supplied_keys != required_parameters:\n",
    "    print(\"Parameters are incorrect\")\n",
    "    if len(supplied_keys - required_parameters)>0: print(\"Shouldn't have:\", str(supplied_keys - required_parameters))\n",
    "    if len(required_parameters - supplied_keys)>0: print(\"Need to have:\", str(required_parameters - supplied_keys))\n",
    "    raise RuntimeError(\"Parameters are incorrect\")"
   ]
  },
  {
   "cell_type": "code",
   "execution_count": 6,
   "id": "3a028d58",
   "metadata": {
    "execution": {
     "iopub.execute_input": "2022-03-28T10:12:05.634474Z",
     "iopub.status.busy": "2022-03-28T10:12:05.632429Z",
     "iopub.status.idle": "2022-03-28T10:12:05.654450Z",
     "shell.execute_reply": "2022-03-28T10:12:05.655111Z"
    },
    "papermill": {
     "duration": 0.044108,
     "end_time": "2022-03-28T10:12:05.655290",
     "exception": false,
     "start_time": "2022-03-28T10:12:05.611182",
     "status": "completed"
    },
    "tags": []
   },
   "outputs": [],
   "source": [
    "###################################\n",
    "# Set the RNGs and make it all deterministic\n",
    "###################################\n",
    "np.random.seed(p.seed)\n",
    "random.seed(p.seed)\n",
    "torch.manual_seed(p.seed)\n",
    "\n",
    "torch.use_deterministic_algorithms(True) "
   ]
  },
  {
   "cell_type": "code",
   "execution_count": 7,
   "id": "b691acf6",
   "metadata": {
    "execution": {
     "iopub.execute_input": "2022-03-28T10:12:05.706393Z",
     "iopub.status.busy": "2022-03-28T10:12:05.706023Z",
     "iopub.status.idle": "2022-03-28T10:12:05.727958Z",
     "shell.execute_reply": "2022-03-28T10:12:05.727244Z"
    },
    "papermill": {
     "duration": 0.044057,
     "end_time": "2022-03-28T10:12:05.728111",
     "exception": false,
     "start_time": "2022-03-28T10:12:05.684054",
     "status": "completed"
    },
    "tags": []
   },
   "outputs": [],
   "source": [
    "###########################################\n",
    "# The stratified datasets honor this\n",
    "###########################################\n",
    "torch.set_default_dtype(eval(p.torch_default_dtype))"
   ]
  },
  {
   "cell_type": "code",
   "execution_count": 8,
   "id": "b5fba671",
   "metadata": {
    "execution": {
     "iopub.execute_input": "2022-03-28T10:12:05.779079Z",
     "iopub.status.busy": "2022-03-28T10:12:05.778653Z",
     "iopub.status.idle": "2022-03-28T10:12:05.834013Z",
     "shell.execute_reply": "2022-03-28T10:12:05.834665Z"
    },
    "papermill": {
     "duration": 0.078953,
     "end_time": "2022-03-28T10:12:05.834910",
     "exception": false,
     "start_time": "2022-03-28T10:12:05.755957",
     "status": "completed"
    },
    "tags": []
   },
   "outputs": [],
   "source": [
    "###################################\n",
    "# Build the network(s)\n",
    "# Note: It's critical to do this AFTER setting the RNG\n",
    "###################################\n",
    "x_net = build_sequential(p.x_net)"
   ]
  },
  {
   "cell_type": "code",
   "execution_count": 9,
   "id": "5d7e61cc",
   "metadata": {
    "execution": {
     "iopub.execute_input": "2022-03-28T10:12:05.884101Z",
     "iopub.status.busy": "2022-03-28T10:12:05.883734Z",
     "iopub.status.idle": "2022-03-28T10:12:05.911741Z",
     "shell.execute_reply": "2022-03-28T10:12:05.910938Z"
    },
    "papermill": {
     "duration": 0.051208,
     "end_time": "2022-03-28T10:12:05.911925",
     "exception": false,
     "start_time": "2022-03-28T10:12:05.860717",
     "status": "completed"
    },
    "tags": []
   },
   "outputs": [],
   "source": [
    "start_time_secs = time.time()"
   ]
  },
  {
   "cell_type": "code",
   "execution_count": 10,
   "id": "c6b67dfd",
   "metadata": {
    "execution": {
     "iopub.execute_input": "2022-03-28T10:12:05.964054Z",
     "iopub.status.busy": "2022-03-28T10:12:05.963680Z",
     "iopub.status.idle": "2022-03-28T10:12:05.988207Z",
     "shell.execute_reply": "2022-03-28T10:12:05.987376Z"
    },
    "papermill": {
     "duration": 0.049293,
     "end_time": "2022-03-28T10:12:05.988374",
     "exception": false,
     "start_time": "2022-03-28T10:12:05.939081",
     "status": "completed"
    },
    "tags": []
   },
   "outputs": [],
   "source": [
    "p.domains_source = []\n",
    "p.domains_target = []\n",
    "\n",
    "\n",
    "train_original_source = []\n",
    "val_original_source   = []\n",
    "test_original_source  = []\n",
    "\n",
    "train_original_target = []\n",
    "val_original_target   = []\n",
    "test_original_target  = []"
   ]
  },
  {
   "cell_type": "code",
   "execution_count": 11,
   "id": "e3d9c3d3",
   "metadata": {
    "execution": {
     "iopub.execute_input": "2022-03-28T10:12:06.039676Z",
     "iopub.status.busy": "2022-03-28T10:12:06.039283Z",
     "iopub.status.idle": "2022-03-28T10:12:06.064361Z",
     "shell.execute_reply": "2022-03-28T10:12:06.063644Z"
    },
    "papermill": {
     "duration": 0.047569,
     "end_time": "2022-03-28T10:12:06.064526",
     "exception": false,
     "start_time": "2022-03-28T10:12:06.016957",
     "status": "completed"
    },
    "tags": []
   },
   "outputs": [],
   "source": [
    "# global_x_transform_func = lambda x: normalize(x.to(torch.get_default_dtype()), \"unit_power\") # unit_power, unit_mag\n",
    "# global_x_transform_func = lambda x: normalize(x, \"unit_power\") # unit_power, unit_mag"
   ]
  },
  {
   "cell_type": "code",
   "execution_count": 12,
   "id": "acb78fd2",
   "metadata": {
    "execution": {
     "iopub.execute_input": "2022-03-28T10:12:06.120354Z",
     "iopub.status.busy": "2022-03-28T10:12:06.119635Z",
     "iopub.status.idle": "2022-03-28T10:12:06.140870Z",
     "shell.execute_reply": "2022-03-28T10:12:06.140080Z"
    },
    "papermill": {
     "duration": 0.048681,
     "end_time": "2022-03-28T10:12:06.141039",
     "exception": false,
     "start_time": "2022-03-28T10:12:06.092358",
     "status": "completed"
    },
    "tags": []
   },
   "outputs": [],
   "source": [
    "def add_dataset(\n",
    "    labels,\n",
    "    domains,\n",
    "    pickle_path,\n",
    "    x_transforms,\n",
    "    episode_transforms,\n",
    "    domain_prefix,\n",
    "    num_examples_per_domain_per_label,\n",
    "    source_or_target_dataset:str,\n",
    "    iterator_seed=p.seed,\n",
    "    dataset_seed=p.dataset_seed,\n",
    "    n_shot=p.n_shot,\n",
    "    n_way=p.n_way,\n",
    "    n_query=p.n_query,\n",
    "    train_val_test_k_factors=(p.train_k_factor,p.val_k_factor,p.test_k_factor),\n",
    "):\n",
    "   \n",
    "    if x_transforms == []: x_transform = None\n",
    "    else: x_transform = get_chained_transform(x_transforms)\n",
    "    \n",
    "    if episode_transforms == []: episode_transform = None\n",
    "    else: raise Exception(\"episode_transforms not implemented\")\n",
    "    \n",
    "    episode_transform = lambda tup, _prefix=domain_prefix: (_prefix + str(tup[0]), tup[1])\n",
    "\n",
    "\n",
    "    eaf = Episodic_Accessor_Factory(\n",
    "        labels=labels,\n",
    "        domains=domains,\n",
    "        num_examples_per_domain_per_label=num_examples_per_domain_per_label,\n",
    "        iterator_seed=iterator_seed,\n",
    "        dataset_seed=dataset_seed,\n",
    "        n_shot=n_shot,\n",
    "        n_way=n_way,\n",
    "        n_query=n_query,\n",
    "        train_val_test_k_factors=train_val_test_k_factors,\n",
    "        pickle_path=pickle_path,\n",
    "        x_transform_func=x_transform,\n",
    "    )\n",
    "\n",
    "    train, val, test = eaf.get_train(), eaf.get_val(), eaf.get_test()\n",
    "    train = Lazy_Iterable_Wrapper(train, episode_transform)\n",
    "    val = Lazy_Iterable_Wrapper(val, episode_transform)\n",
    "    test = Lazy_Iterable_Wrapper(test, episode_transform)\n",
    "\n",
    "    if source_or_target_dataset==\"source\":\n",
    "        train_original_source.append(train)\n",
    "        val_original_source.append(val)\n",
    "        test_original_source.append(test)\n",
    "\n",
    "        p.domains_source.extend(\n",
    "            [domain_prefix + str(u) for u in domains]\n",
    "        )\n",
    "    elif source_or_target_dataset==\"target\":\n",
    "        train_original_target.append(train)\n",
    "        val_original_target.append(val)\n",
    "        test_original_target.append(test)\n",
    "        p.domains_target.extend(\n",
    "            [domain_prefix + str(u) for u in domains]\n",
    "        )\n",
    "    else:\n",
    "        raise Exception(f\"invalid source_or_target_dataset: {source_or_target_dataset}\")\n",
    "    "
   ]
  },
  {
   "cell_type": "code",
   "execution_count": 13,
   "id": "fe266617",
   "metadata": {
    "execution": {
     "iopub.execute_input": "2022-03-28T10:12:06.191504Z",
     "iopub.status.busy": "2022-03-28T10:12:06.191132Z",
     "iopub.status.idle": "2022-03-28T10:13:10.482718Z",
     "shell.execute_reply": "2022-03-28T10:13:10.481936Z"
    },
    "papermill": {
     "duration": 64.314131,
     "end_time": "2022-03-28T10:13:10.482897",
     "exception": false,
     "start_time": "2022-03-28T10:12:06.168766",
     "status": "completed"
    },
    "tags": []
   },
   "outputs": [],
   "source": [
    "for ds in p.datasets:\n",
    "    add_dataset(**ds)"
   ]
  },
  {
   "cell_type": "code",
   "execution_count": 14,
   "id": "b90d65ac",
   "metadata": {
    "execution": {
     "iopub.execute_input": "2022-03-28T10:13:10.534093Z",
     "iopub.status.busy": "2022-03-28T10:13:10.533522Z",
     "iopub.status.idle": "2022-03-28T10:13:10.559703Z",
     "shell.execute_reply": "2022-03-28T10:13:10.558978Z"
    },
    "papermill": {
     "duration": 0.05068,
     "end_time": "2022-03-28T10:13:10.559861",
     "exception": false,
     "start_time": "2022-03-28T10:13:10.509181",
     "status": "completed"
    },
    "tags": []
   },
   "outputs": [],
   "source": [
    "# from steves_utils.CORES.utils import (\n",
    "#     ALL_NODES,\n",
    "#     ALL_NODES_MINIMUM_1000_EXAMPLES,\n",
    "#     ALL_DAYS\n",
    "# )\n",
    "\n",
    "# add_dataset(\n",
    "#     labels=ALL_NODES,\n",
    "#     domains = ALL_DAYS,\n",
    "#     num_examples_per_domain_per_label=100,\n",
    "#     pickle_path=os.path.join(get_datasets_base_path(), \"cores.stratified_ds.2022A.pkl\"),\n",
    "#     source_or_target_dataset=\"target\",\n",
    "#     x_transform_func=global_x_transform_func,\n",
    "#     domain_modifier=lambda u: f\"cores_{u}\"\n",
    "# )"
   ]
  },
  {
   "cell_type": "code",
   "execution_count": 15,
   "id": "76db484d",
   "metadata": {
    "execution": {
     "iopub.execute_input": "2022-03-28T10:13:10.610516Z",
     "iopub.status.busy": "2022-03-28T10:13:10.610146Z",
     "iopub.status.idle": "2022-03-28T10:13:10.633225Z",
     "shell.execute_reply": "2022-03-28T10:13:10.632526Z"
    },
    "papermill": {
     "duration": 0.046265,
     "end_time": "2022-03-28T10:13:10.633381",
     "exception": false,
     "start_time": "2022-03-28T10:13:10.587116",
     "status": "completed"
    },
    "tags": []
   },
   "outputs": [],
   "source": [
    "# from steves_utils.ORACLE.utils_v2 import (\n",
    "#     ALL_DISTANCES_FEET,\n",
    "#     ALL_RUNS,\n",
    "#     ALL_SERIAL_NUMBERS,\n",
    "# )\n",
    "\n",
    "\n",
    "# add_dataset(\n",
    "#     labels=ALL_SERIAL_NUMBERS,\n",
    "#     domains = list(set(ALL_DISTANCES_FEET) - {2,62}),\n",
    "#     num_examples_per_domain_per_label=100,\n",
    "#     pickle_path=os.path.join(get_datasets_base_path(), \"oracle.Run2_framed_2000Examples_stratified_ds.2022A.pkl\"),\n",
    "#     source_or_target_dataset=\"source\",\n",
    "#     x_transform_func=global_x_transform_func,\n",
    "#     domain_modifier=lambda u: f\"oracle1_{u}\"\n",
    "# )\n"
   ]
  },
  {
   "cell_type": "code",
   "execution_count": 16,
   "id": "97dea9d2",
   "metadata": {
    "execution": {
     "iopub.execute_input": "2022-03-28T10:13:10.684847Z",
     "iopub.status.busy": "2022-03-28T10:13:10.684481Z",
     "iopub.status.idle": "2022-03-28T10:13:10.707834Z",
     "shell.execute_reply": "2022-03-28T10:13:10.707109Z"
    },
    "papermill": {
     "duration": 0.047044,
     "end_time": "2022-03-28T10:13:10.707987",
     "exception": false,
     "start_time": "2022-03-28T10:13:10.660943",
     "status": "completed"
    },
    "tags": []
   },
   "outputs": [],
   "source": [
    "# from steves_utils.ORACLE.utils_v2 import (\n",
    "#     ALL_DISTANCES_FEET,\n",
    "#     ALL_RUNS,\n",
    "#     ALL_SERIAL_NUMBERS,\n",
    "# )\n",
    "\n",
    "\n",
    "# add_dataset(\n",
    "#     labels=ALL_SERIAL_NUMBERS,\n",
    "#     domains = list(set(ALL_DISTANCES_FEET) - {2,62,56}),\n",
    "#     num_examples_per_domain_per_label=100,\n",
    "#     pickle_path=os.path.join(get_datasets_base_path(), \"oracle.Run2_framed_2000Examples_stratified_ds.2022A.pkl\"),\n",
    "#     source_or_target_dataset=\"source\",\n",
    "#     x_transform_func=global_x_transform_func,\n",
    "#     domain_modifier=lambda u: f\"oracle2_{u}\"\n",
    "# )"
   ]
  },
  {
   "cell_type": "code",
   "execution_count": 17,
   "id": "6f289866",
   "metadata": {
    "execution": {
     "iopub.execute_input": "2022-03-28T10:13:10.758010Z",
     "iopub.status.busy": "2022-03-28T10:13:10.757643Z",
     "iopub.status.idle": "2022-03-28T10:13:10.776330Z",
     "shell.execute_reply": "2022-03-28T10:13:10.775631Z"
    },
    "papermill": {
     "duration": 0.041311,
     "end_time": "2022-03-28T10:13:10.776489",
     "exception": false,
     "start_time": "2022-03-28T10:13:10.735178",
     "status": "completed"
    },
    "tags": []
   },
   "outputs": [],
   "source": [
    "# add_dataset(\n",
    "#     labels=list(range(19)),\n",
    "#     domains = [0,1,2],\n",
    "#     num_examples_per_domain_per_label=100,\n",
    "#     pickle_path=os.path.join(get_datasets_base_path(), \"metehan.stratified_ds.2022A.pkl\"),\n",
    "#     source_or_target_dataset=\"target\",\n",
    "#     x_transform_func=global_x_transform_func,\n",
    "#     domain_modifier=lambda u: f\"met_{u}\"\n",
    "# )"
   ]
  },
  {
   "cell_type": "code",
   "execution_count": 18,
   "id": "86a863c3",
   "metadata": {
    "execution": {
     "iopub.execute_input": "2022-03-28T10:13:10.829642Z",
     "iopub.status.busy": "2022-03-28T10:13:10.829267Z",
     "iopub.status.idle": "2022-03-28T10:13:10.851307Z",
     "shell.execute_reply": "2022-03-28T10:13:10.850612Z"
    },
    "papermill": {
     "duration": 0.045591,
     "end_time": "2022-03-28T10:13:10.851462",
     "exception": false,
     "start_time": "2022-03-28T10:13:10.805871",
     "status": "completed"
    },
    "tags": []
   },
   "outputs": [],
   "source": [
    "# # from steves_utils.wisig.utils import (\n",
    "# #     ALL_NODES_MINIMUM_100_EXAMPLES,\n",
    "# #     ALL_NODES_MINIMUM_500_EXAMPLES,\n",
    "# #     ALL_NODES_MINIMUM_1000_EXAMPLES,\n",
    "# #     ALL_DAYS\n",
    "# # )\n",
    "\n",
    "# import steves_utils.wisig.utils as wisig\n",
    "\n",
    "\n",
    "# add_dataset(\n",
    "#     labels=wisig.ALL_NODES_MINIMUM_100_EXAMPLES,\n",
    "#     domains = wisig.ALL_DAYS,\n",
    "#     num_examples_per_domain_per_label=100,\n",
    "#     pickle_path=os.path.join(get_datasets_base_path(), \"wisig.node3-19.stratified_ds.2022A.pkl\"),\n",
    "#     source_or_target_dataset=\"target\",\n",
    "#     x_transform_func=global_x_transform_func,\n",
    "#     domain_modifier=lambda u: f\"wisig_{u}\"\n",
    "# )"
   ]
  },
  {
   "cell_type": "code",
   "execution_count": 19,
   "id": "fd5442bc",
   "metadata": {
    "execution": {
     "iopub.execute_input": "2022-03-28T10:13:10.906229Z",
     "iopub.status.busy": "2022-03-28T10:13:10.905848Z",
     "iopub.status.idle": "2022-03-28T10:13:10.926596Z",
     "shell.execute_reply": "2022-03-28T10:13:10.925888Z"
    },
    "papermill": {
     "duration": 0.046422,
     "end_time": "2022-03-28T10:13:10.926751",
     "exception": false,
     "start_time": "2022-03-28T10:13:10.880329",
     "status": "completed"
    },
    "tags": []
   },
   "outputs": [],
   "source": [
    "###################################\n",
    "# Build the dataset\n",
    "###################################\n",
    "train_original_source = Iterable_Aggregator(train_original_source, p.seed)\n",
    "val_original_source = Iterable_Aggregator(val_original_source, p.seed)\n",
    "test_original_source = Iterable_Aggregator(test_original_source, p.seed)\n",
    "\n",
    "\n",
    "train_original_target = Iterable_Aggregator(train_original_target, p.seed)\n",
    "val_original_target = Iterable_Aggregator(val_original_target, p.seed)\n",
    "test_original_target = Iterable_Aggregator(test_original_target, p.seed)\n",
    "\n",
    "# For CNN We only use X and Y. And we only train on the source.\n",
    "# Properly form the data using a transform lambda and Lazy_Iterable_Wrapper. Finally wrap them in a dataloader\n",
    "\n",
    "transform_lambda = lambda ex: ex[1] # Original is (<domain>, <episode>) so we strip down to episode only\n",
    "\n",
    "train_processed_source = Lazy_Iterable_Wrapper(train_original_source, transform_lambda)\n",
    "val_processed_source   = Lazy_Iterable_Wrapper(val_original_source, transform_lambda)\n",
    "test_processed_source  = Lazy_Iterable_Wrapper(test_original_source, transform_lambda)\n",
    "\n",
    "train_processed_target = Lazy_Iterable_Wrapper(train_original_target, transform_lambda)\n",
    "val_processed_target   = Lazy_Iterable_Wrapper(val_original_target, transform_lambda)\n",
    "test_processed_target  = Lazy_Iterable_Wrapper(test_original_target, transform_lambda)\n",
    "\n",
    "datasets = EasyDict({\n",
    "    \"source\": {\n",
    "        \"original\": {\"train\":train_original_source, \"val\":val_original_source, \"test\":test_original_source},\n",
    "        \"processed\": {\"train\":train_processed_source, \"val\":val_processed_source, \"test\":test_processed_source}\n",
    "    },\n",
    "    \"target\": {\n",
    "        \"original\": {\"train\":train_original_target, \"val\":val_original_target, \"test\":test_original_target},\n",
    "        \"processed\": {\"train\":train_processed_target, \"val\":val_processed_target, \"test\":test_processed_target}\n",
    "    },\n",
    "})"
   ]
  },
  {
   "cell_type": "code",
   "execution_count": 20,
   "id": "5b3c01fc",
   "metadata": {
    "execution": {
     "iopub.execute_input": "2022-03-28T10:13:10.979970Z",
     "iopub.status.busy": "2022-03-28T10:13:10.979591Z",
     "iopub.status.idle": "2022-03-28T10:13:25.302818Z",
     "shell.execute_reply": "2022-03-28T10:13:25.301951Z"
    },
    "papermill": {
     "duration": 14.349515,
     "end_time": "2022-03-28T10:13:25.302994",
     "exception": false,
     "start_time": "2022-03-28T10:13:10.953479",
     "status": "completed"
    },
    "tags": []
   },
   "outputs": [
    {
     "name": "stdout",
     "output_type": "stream",
     "text": [
      "{'O_38', 'O_44', 'O_8', 'O_14', 'O_50', 'O_32', 'O_26', 'O_20'}\n"
     ]
    },
    {
     "name": "stdout",
     "output_type": "stream",
     "text": [
      "{'C_4', 'C_1', 'C_3', 'C_2', 'C_5'}\n"
     ]
    },
    {
     "name": "stdout",
     "output_type": "stream",
     "text": [
      "tensor([[[0., 0., 0.,  ..., 0., 0., 0.],\n",
      "         [0., 0., 0.,  ..., 0., 0., 0.]],\n",
      "\n",
      "        [[0., 0., 0.,  ..., 0., 0., 0.],\n",
      "         [0., 0., 0.,  ..., 0., 0., 0.]],\n",
      "\n",
      "        [[0., 0., 0.,  ..., 0., 0., 0.],\n",
      "         [0., 0., 0.,  ..., 0., 0., 0.]],\n",
      "\n",
      "        ...,\n",
      "\n",
      "        [[0., 0., 0.,  ..., 0., 0., 0.],\n",
      "         [0., 0., 0.,  ..., 0., 0., 0.]],\n",
      "\n",
      "        [[0., 0., 0.,  ..., 0., 0., 0.],\n",
      "         [0., 0., 0.,  ..., 0., 0., 0.]],\n",
      "\n",
      "        [[0., 0., 0.,  ..., 0., 0., 0.],\n",
      "         [0., 0., 0.,  ..., 0., 0., 0.]]])\n"
     ]
    }
   ],
   "source": [
    "from steves_utils.transforms import get_average_magnitude, get_average_power\n",
    "\n",
    "print(set([u for u,_ in val_original_source]))\n",
    "print(set([u for u,_ in val_original_target]))\n",
    "\n",
    "s_x, s_y, q_x, q_y, _ = next(iter(train_processed_source))\n",
    "print(s_x)\n",
    "\n",
    "# for ds in [\n",
    "#     train_processed_source,\n",
    "#     val_processed_source,\n",
    "#     test_processed_source,\n",
    "#     train_processed_target,\n",
    "#     val_processed_target,\n",
    "#     test_processed_target\n",
    "# ]:\n",
    "#     for s_x, s_y, q_x, q_y, _ in ds:\n",
    "#         for X in (s_x, q_x):\n",
    "#             for x in X:\n",
    "#                 assert np.isclose(get_average_magnitude(x.numpy()), 1.0)\n",
    "#                 assert np.isclose(get_average_power(x.numpy()), 1.0)\n",
    "                "
   ]
  },
  {
   "cell_type": "code",
   "execution_count": 21,
   "id": "bbdacba1",
   "metadata": {
    "execution": {
     "iopub.execute_input": "2022-03-28T10:13:25.361998Z",
     "iopub.status.busy": "2022-03-28T10:13:25.361431Z",
     "iopub.status.idle": "2022-03-28T10:13:25.578170Z",
     "shell.execute_reply": "2022-03-28T10:13:25.578840Z"
    },
    "papermill": {
     "duration": 0.246537,
     "end_time": "2022-03-28T10:13:25.579070",
     "exception": false,
     "start_time": "2022-03-28T10:13:25.332533",
     "status": "completed"
    },
    "tags": []
   },
   "outputs": [
    {
     "name": "stdout",
     "output_type": "stream",
     "text": [
      "(2, 256)\n"
     ]
    }
   ],
   "source": [
    "###################################\n",
    "# Build the model\n",
    "###################################\n",
    "# easfsl only wants a tuple for the shape\n",
    "model = Steves_Prototypical_Network(x_net, device=p.device, x_shape=tuple(p.x_shape))\n",
    "optimizer = Adam(params=model.parameters(), lr=p.lr)"
   ]
  },
  {
   "cell_type": "code",
   "execution_count": 22,
   "id": "22b39ac5",
   "metadata": {
    "execution": {
     "iopub.execute_input": "2022-03-28T10:13:25.635581Z",
     "iopub.status.busy": "2022-03-28T10:13:25.635004Z",
     "iopub.status.idle": "2022-03-28T10:26:05.208730Z",
     "shell.execute_reply": "2022-03-28T10:26:05.208028Z"
    },
    "papermill": {
     "duration": 759.601441,
     "end_time": "2022-03-28T10:26:05.208905",
     "exception": false,
     "start_time": "2022-03-28T10:13:25.607464",
     "status": "completed"
    },
    "tags": []
   },
   "outputs": [
    {
     "name": "stdout",
     "output_type": "stream",
     "text": [
      "epoch: 1, [batch: 1 / 6720], examples_per_second: 31.9307, train_label_loss: 2.7774, \n"
     ]
    },
    {
     "name": "stdout",
     "output_type": "stream",
     "text": [
      "epoch: 1, [batch: 672 / 6720], examples_per_second: 3775.7051, train_label_loss: 1.1207, \n"
     ]
    },
    {
     "name": "stdout",
     "output_type": "stream",
     "text": [
      "epoch: 1, [batch: 1344 / 6720], examples_per_second: 3881.7353, train_label_loss: 1.2957, \n"
     ]
    },
    {
     "name": "stdout",
     "output_type": "stream",
     "text": [
      "epoch: 1, [batch: 2016 / 6720], examples_per_second: 3974.1452, train_label_loss: 1.2064, \n"
     ]
    },
    {
     "name": "stdout",
     "output_type": "stream",
     "text": [
      "epoch: 1, [batch: 2688 / 6720], examples_per_second: 4222.3334, train_label_loss: 1.4716, \n"
     ]
    },
    {
     "name": "stdout",
     "output_type": "stream",
     "text": [
      "epoch: 1, [batch: 3360 / 6720], examples_per_second: 4669.6201, train_label_loss: 1.0288, \n"
     ]
    },
    {
     "name": "stdout",
     "output_type": "stream",
     "text": [
      "epoch: 1, [batch: 4032 / 6720], examples_per_second: 3913.5633, train_label_loss: 0.8772, \n"
     ]
    },
    {
     "name": "stdout",
     "output_type": "stream",
     "text": [
      "epoch: 1, [batch: 4704 / 6720], examples_per_second: 3828.7883, train_label_loss: 1.0712, \n"
     ]
    },
    {
     "name": "stdout",
     "output_type": "stream",
     "text": [
      "epoch: 1, [batch: 5376 / 6720], examples_per_second: 3886.4934, train_label_loss: 1.0991, \n"
     ]
    },
    {
     "name": "stdout",
     "output_type": "stream",
     "text": [
      "epoch: 1, [batch: 6048 / 6720], examples_per_second: 3892.5104, train_label_loss: 1.1212, \n"
     ]
    },
    {
     "name": "stdout",
     "output_type": "stream",
     "text": [
      "=============================================================\n",
      "epoch: 1, source_val_acc_label: 0.5076, target_val_acc_label: 0.7678, source_val_label_loss: 8.5063, target_val_label_loss: 145.3328, \n",
      "=============================================================\n"
     ]
    },
    {
     "name": "stdout",
     "output_type": "stream",
     "text": [
      "New best\n"
     ]
    },
    {
     "name": "stdout",
     "output_type": "stream",
     "text": [
      "epoch: 2, [batch: 1 / 6720], examples_per_second: 4.0079, train_label_loss: 1.1951, \n"
     ]
    },
    {
     "name": "stdout",
     "output_type": "stream",
     "text": [
      "epoch: 2, [batch: 672 / 6720], examples_per_second: 3825.3972, train_label_loss: 0.9334, \n"
     ]
    },
    {
     "name": "stdout",
     "output_type": "stream",
     "text": [
      "epoch: 2, [batch: 1344 / 6720], examples_per_second: 3851.4538, train_label_loss: 0.8882, \n"
     ]
    },
    {
     "name": "stdout",
     "output_type": "stream",
     "text": [
      "epoch: 2, [batch: 2016 / 6720], examples_per_second: 4159.3855, train_label_loss: 0.6315, \n"
     ]
    },
    {
     "name": "stdout",
     "output_type": "stream",
     "text": [
      "epoch: 2, [batch: 2688 / 6720], examples_per_second: 4438.9264, train_label_loss: 0.5735, \n"
     ]
    },
    {
     "name": "stdout",
     "output_type": "stream",
     "text": [
      "epoch: 2, [batch: 3360 / 6720], examples_per_second: 4668.3571, train_label_loss: 0.6418, \n"
     ]
    },
    {
     "name": "stdout",
     "output_type": "stream",
     "text": [
      "epoch: 2, [batch: 4032 / 6720], examples_per_second: 3933.0611, train_label_loss: 0.9605, \n"
     ]
    },
    {
     "name": "stdout",
     "output_type": "stream",
     "text": [
      "epoch: 2, [batch: 4704 / 6720], examples_per_second: 3878.3123, train_label_loss: 0.6629, \n"
     ]
    },
    {
     "name": "stdout",
     "output_type": "stream",
     "text": [
      "epoch: 2, [batch: 5376 / 6720], examples_per_second: 3805.0470, train_label_loss: 0.4718, \n"
     ]
    },
    {
     "name": "stdout",
     "output_type": "stream",
     "text": [
      "epoch: 2, [batch: 6048 / 6720], examples_per_second: 3903.2182, train_label_loss: 0.3923, \n"
     ]
    },
    {
     "name": "stdout",
     "output_type": "stream",
     "text": [
      "=============================================================\n",
      "epoch: 2, source_val_acc_label: 0.7811, target_val_acc_label: 0.6284, source_val_label_loss: 0.6196, target_val_label_loss: 476.0916, \n",
      "=============================================================\n"
     ]
    },
    {
     "name": "stdout",
     "output_type": "stream",
     "text": [
      "epoch: 3, [batch: 1 / 6720], examples_per_second: 3.9710, train_label_loss: 0.7829, \n"
     ]
    },
    {
     "name": "stdout",
     "output_type": "stream",
     "text": [
      "epoch: 3, [batch: 672 / 6720], examples_per_second: 3851.5332, train_label_loss: 0.3393, \n"
     ]
    },
    {
     "name": "stdout",
     "output_type": "stream",
     "text": [
      "epoch: 3, [batch: 1344 / 6720], examples_per_second: 3937.7853, train_label_loss: 0.5197, \n"
     ]
    },
    {
     "name": "stdout",
     "output_type": "stream",
     "text": [
      "epoch: 3, [batch: 2016 / 6720], examples_per_second: 4076.8117, train_label_loss: 0.4158, \n"
     ]
    },
    {
     "name": "stdout",
     "output_type": "stream",
     "text": [
      "epoch: 3, [batch: 2688 / 6720], examples_per_second: 4236.9525, train_label_loss: 0.6948, \n"
     ]
    },
    {
     "name": "stdout",
     "output_type": "stream",
     "text": [
      "epoch: 3, [batch: 3360 / 6720], examples_per_second: 4629.5503, train_label_loss: 0.5745, \n"
     ]
    },
    {
     "name": "stdout",
     "output_type": "stream",
     "text": [
      "epoch: 3, [batch: 4032 / 6720], examples_per_second: 3907.1605, train_label_loss: 0.4685, \n"
     ]
    },
    {
     "name": "stdout",
     "output_type": "stream",
     "text": [
      "epoch: 3, [batch: 4704 / 6720], examples_per_second: 3872.6023, train_label_loss: 1.1314, \n"
     ]
    },
    {
     "name": "stdout",
     "output_type": "stream",
     "text": [
      "epoch: 3, [batch: 5376 / 6720], examples_per_second: 3879.2875, train_label_loss: 0.1673, \n"
     ]
    },
    {
     "name": "stdout",
     "output_type": "stream",
     "text": [
      "epoch: 3, [batch: 6048 / 6720], examples_per_second: 3824.2622, train_label_loss: 0.3750, \n"
     ]
    },
    {
     "name": "stdout",
     "output_type": "stream",
     "text": [
      "=============================================================\n",
      "epoch: 3, source_val_acc_label: 0.8682, target_val_acc_label: 0.6407, source_val_label_loss: 0.3876, target_val_label_loss: 327.3866, \n",
      "=============================================================\n"
     ]
    },
    {
     "name": "stdout",
     "output_type": "stream",
     "text": [
      "epoch: 4, [batch: 1 / 6720], examples_per_second: 4.0127, train_label_loss: 0.3251, \n"
     ]
    },
    {
     "name": "stdout",
     "output_type": "stream",
     "text": [
      "epoch: 4, [batch: 672 / 6720], examples_per_second: 3850.0563, train_label_loss: 0.3488, \n"
     ]
    },
    {
     "name": "stdout",
     "output_type": "stream",
     "text": [
      "epoch: 4, [batch: 1344 / 6720], examples_per_second: 3829.1396, train_label_loss: 0.1969, \n"
     ]
    },
    {
     "name": "stdout",
     "output_type": "stream",
     "text": [
      "epoch: 4, [batch: 2016 / 6720], examples_per_second: 4041.0245, train_label_loss: 0.3196, \n"
     ]
    },
    {
     "name": "stdout",
     "output_type": "stream",
     "text": [
      "epoch: 4, [batch: 2688 / 6720], examples_per_second: 4342.6260, train_label_loss: 0.4900, \n"
     ]
    },
    {
     "name": "stdout",
     "output_type": "stream",
     "text": [
      "epoch: 4, [batch: 3360 / 6720], examples_per_second: 4346.9160, train_label_loss: 0.5017, \n"
     ]
    },
    {
     "name": "stdout",
     "output_type": "stream",
     "text": [
      "epoch: 4, [batch: 4032 / 6720], examples_per_second: 4437.9027, train_label_loss: 0.3320, \n"
     ]
    },
    {
     "name": "stdout",
     "output_type": "stream",
     "text": [
      "epoch: 4, [batch: 4704 / 6720], examples_per_second: 4253.9686, train_label_loss: 0.4239, \n"
     ]
    },
    {
     "name": "stdout",
     "output_type": "stream",
     "text": [
      "epoch: 4, [batch: 5376 / 6720], examples_per_second: 4255.4857, train_label_loss: 0.3600, \n"
     ]
    },
    {
     "name": "stdout",
     "output_type": "stream",
     "text": [
      "epoch: 4, [batch: 6048 / 6720], examples_per_second: 4129.4039, train_label_loss: 0.2047, \n"
     ]
    },
    {
     "name": "stdout",
     "output_type": "stream",
     "text": [
      "=============================================================\n",
      "epoch: 4, source_val_acc_label: 0.8677, target_val_acc_label: 0.6132, source_val_label_loss: 0.3750, target_val_label_loss: 335.2155, \n",
      "=============================================================\n"
     ]
    },
    {
     "name": "stdout",
     "output_type": "stream",
     "text": [
      "epoch: 5, [batch: 1 / 6720], examples_per_second: 4.7156, train_label_loss: 0.4933, \n"
     ]
    },
    {
     "name": "stdout",
     "output_type": "stream",
     "text": [
      "epoch: 5, [batch: 672 / 6720], examples_per_second: 5041.7385, train_label_loss: 0.5024, \n"
     ]
    },
    {
     "name": "stdout",
     "output_type": "stream",
     "text": [
      "epoch: 5, [batch: 1344 / 6720], examples_per_second: 5406.6722, train_label_loss: 0.3983, \n"
     ]
    },
    {
     "name": "stdout",
     "output_type": "stream",
     "text": [
      "epoch: 5, [batch: 2016 / 6720], examples_per_second: 5168.0501, train_label_loss: 0.2342, \n"
     ]
    },
    {
     "name": "stdout",
     "output_type": "stream",
     "text": [
      "epoch: 5, [batch: 2688 / 6720], examples_per_second: 4891.5792, train_label_loss: 0.3367, \n"
     ]
    },
    {
     "name": "stdout",
     "output_type": "stream",
     "text": [
      "epoch: 5, [batch: 3360 / 6720], examples_per_second: 5230.2591, train_label_loss: 0.2702, \n"
     ]
    },
    {
     "name": "stdout",
     "output_type": "stream",
     "text": [
      "epoch: 5, [batch: 4032 / 6720], examples_per_second: 4967.3497, train_label_loss: 0.5220, \n"
     ]
    },
    {
     "name": "stdout",
     "output_type": "stream",
     "text": [
      "epoch: 5, [batch: 4704 / 6720], examples_per_second: 4809.2346, train_label_loss: 0.3901, \n"
     ]
    },
    {
     "name": "stdout",
     "output_type": "stream",
     "text": [
      "epoch: 5, [batch: 5376 / 6720], examples_per_second: 4872.3696, train_label_loss: 0.3849, \n"
     ]
    },
    {
     "name": "stdout",
     "output_type": "stream",
     "text": [
      "epoch: 5, [batch: 6048 / 6720], examples_per_second: 4909.0343, train_label_loss: 0.5748, \n"
     ]
    },
    {
     "name": "stdout",
     "output_type": "stream",
     "text": [
      "=============================================================\n",
      "epoch: 5, source_val_acc_label: 0.8831, target_val_acc_label: 0.5696, source_val_label_loss: 0.3375, target_val_label_loss: 475.9945, \n",
      "=============================================================\n"
     ]
    },
    {
     "name": "stdout",
     "output_type": "stream",
     "text": [
      "Patience (3) exhausted\n"
     ]
    }
   ],
   "source": [
    "###################################\n",
    "# train\n",
    "###################################\n",
    "jig = PTN_Train_Eval_Test_Jig(model, p.BEST_MODEL_PATH, p.device)\n",
    "\n",
    "jig.train(\n",
    "    train_iterable=datasets.source.processed.train,\n",
    "    source_val_iterable=datasets.source.processed.val,\n",
    "    target_val_iterable=datasets.target.processed.val,\n",
    "    num_epochs=p.n_epoch,\n",
    "    num_logs_per_epoch=p.NUM_LOGS_PER_EPOCH,\n",
    "    patience=p.patience,\n",
    "    optimizer=optimizer,\n",
    "    criteria_for_best=p.criteria_for_best,\n",
    ")"
   ]
  },
  {
   "cell_type": "code",
   "execution_count": 23,
   "id": "31e8fabf",
   "metadata": {
    "execution": {
     "iopub.execute_input": "2022-03-28T10:26:05.294421Z",
     "iopub.status.busy": "2022-03-28T10:26:05.293788Z",
     "iopub.status.idle": "2022-03-28T10:26:05.327687Z",
     "shell.execute_reply": "2022-03-28T10:26:05.326961Z"
    },
    "papermill": {
     "duration": 0.076697,
     "end_time": "2022-03-28T10:26:05.327854",
     "exception": false,
     "start_time": "2022-03-28T10:26:05.251157",
     "status": "completed"
    },
    "tags": []
   },
   "outputs": [],
   "source": [
    "total_experiment_time_secs = time.time() - start_time_secs"
   ]
  },
  {
   "cell_type": "code",
   "execution_count": 24,
   "id": "87b9595b",
   "metadata": {
    "execution": {
     "iopub.execute_input": "2022-03-28T10:26:05.432945Z",
     "iopub.status.busy": "2022-03-28T10:26:05.429985Z",
     "iopub.status.idle": "2022-03-28T10:28:23.768895Z",
     "shell.execute_reply": "2022-03-28T10:28:23.768167Z"
    },
    "papermill": {
     "duration": 138.393875,
     "end_time": "2022-03-28T10:28:23.769081",
     "exception": false,
     "start_time": "2022-03-28T10:26:05.375206",
     "status": "completed"
    },
    "tags": []
   },
   "outputs": [],
   "source": [
    "###################################\n",
    "# Evaluate the model\n",
    "###################################\n",
    "source_test_label_accuracy, source_test_label_loss = jig.test(datasets.source.processed.test)\n",
    "target_test_label_accuracy, target_test_label_loss = jig.test(datasets.target.processed.test)\n",
    "\n",
    "source_val_label_accuracy, source_val_label_loss = jig.test(datasets.source.processed.val)\n",
    "target_val_label_accuracy, target_val_label_loss = jig.test(datasets.target.processed.val)\n",
    "\n",
    "history = jig.get_history()\n",
    "\n",
    "total_epochs_trained = len(history[\"epoch_indices\"])\n",
    "\n",
    "val_dl = Iterable_Aggregator((datasets.source.original.val,datasets.target.original.val))\n",
    "\n",
    "confusion = ptn_confusion_by_domain_over_dataloader(model, p.device, val_dl)\n",
    "per_domain_accuracy = per_domain_accuracy_from_confusion(confusion)\n",
    "\n",
    "# Add a key to per_domain_accuracy for if it was a source domain\n",
    "for domain, accuracy in per_domain_accuracy.items():\n",
    "    per_domain_accuracy[domain] = {\n",
    "        \"accuracy\": accuracy,\n",
    "        \"source?\": domain in p.domains_source\n",
    "    }\n",
    "\n",
    "# Do an independent accuracy assesment JUST TO BE SURE!\n",
    "# _source_test_label_accuracy = independent_accuracy_assesment(model, datasets.source.processed.test, p.device)\n",
    "# _target_test_label_accuracy = independent_accuracy_assesment(model, datasets.target.processed.test, p.device)\n",
    "# _source_val_label_accuracy = independent_accuracy_assesment(model, datasets.source.processed.val, p.device)\n",
    "# _target_val_label_accuracy = independent_accuracy_assesment(model, datasets.target.processed.val, p.device)\n",
    "\n",
    "# assert(_source_test_label_accuracy == source_test_label_accuracy)\n",
    "# assert(_target_test_label_accuracy == target_test_label_accuracy)\n",
    "# assert(_source_val_label_accuracy == source_val_label_accuracy)\n",
    "# assert(_target_val_label_accuracy == target_val_label_accuracy)\n",
    "\n",
    "experiment = {\n",
    "    \"experiment_name\": p.experiment_name,\n",
    "    \"parameters\": dict(p),\n",
    "    \"results\": {\n",
    "        \"source_test_label_accuracy\": source_test_label_accuracy,\n",
    "        \"source_test_label_loss\": source_test_label_loss,\n",
    "        \"target_test_label_accuracy\": target_test_label_accuracy,\n",
    "        \"target_test_label_loss\": target_test_label_loss,\n",
    "        \"source_val_label_accuracy\": source_val_label_accuracy,\n",
    "        \"source_val_label_loss\": source_val_label_loss,\n",
    "        \"target_val_label_accuracy\": target_val_label_accuracy,\n",
    "        \"target_val_label_loss\": target_val_label_loss,\n",
    "        \"total_epochs_trained\": total_epochs_trained,\n",
    "        \"total_experiment_time_secs\": total_experiment_time_secs,\n",
    "        \"confusion\": confusion,\n",
    "        \"per_domain_accuracy\": per_domain_accuracy,\n",
    "    },\n",
    "    \"history\": history,\n",
    "    \"dataset_metrics\": get_dataset_metrics(datasets, \"ptn\"),\n",
    "}"
   ]
  },
  {
   "cell_type": "code",
   "execution_count": 25,
   "id": "54a21829",
   "metadata": {
    "execution": {
     "iopub.execute_input": "2022-03-28T10:28:23.854467Z",
     "iopub.status.busy": "2022-03-28T10:28:23.853846Z",
     "iopub.status.idle": "2022-03-28T10:28:24.064748Z",
     "shell.execute_reply": "2022-03-28T10:28:24.064043Z"
    },
    "papermill": {
     "duration": 0.252497,
     "end_time": "2022-03-28T10:28:24.064901",
     "exception": false,
     "start_time": "2022-03-28T10:28:23.812404",
     "status": "completed"
    },
    "tags": []
   },
   "outputs": [
    {
     "data": {
      "image/png": "[encoded data removed]",
      "text/plain": [
       "<Figure size 1080x504 with 1 Axes>"
      ]
     },
     "metadata": {
      "needs_background": "light"
     },
     "output_type": "display_data"
    }
   ],
   "source": [
    "ax = get_loss_curve(experiment)\n",
    "plt.show()"
   ]
  },
  {
   "cell_type": "code",
   "execution_count": 26,
   "id": "fd8a0f60",
   "metadata": {
    "execution": {
     "iopub.execute_input": "2022-03-28T10:28:24.148539Z",
     "iopub.status.busy": "2022-03-28T10:28:24.147920Z",
     "iopub.status.idle": "2022-03-28T10:28:24.476043Z",
     "shell.execute_reply": "2022-03-28T10:28:24.476711Z"
    },
    "papermill": {
     "duration": 0.370047,
     "end_time": "2022-03-28T10:28:24.476889",
     "exception": false,
     "start_time": "2022-03-28T10:28:24.106842",
     "status": "completed"
    },
    "tags": []
   },
   "outputs": [
    {
     "data": {
      "text/plain": [
       "<AxesSubplot:title={'center':'Results'}>"
      ]
     },
     "execution_count": 26,
     "metadata": {},
     "output_type": "execute_result"
    },
    {
     "data": {
      "image/png": "[encoded data removed]",
      "text/plain": [
       "<Figure size 1080x504 with 1 Axes>"
      ]
     },
     "metadata": {
      "needs_background": "light"
     },
     "output_type": "display_data"
    }
   ],
   "source": [
    "get_results_table(experiment)"
   ]
  },
  {
   "cell_type": "code",
   "execution_count": 27,
   "id": "cf8dc689",
   "metadata": {
    "execution": {
     "iopub.execute_input": "2022-03-28T10:28:24.565732Z",
     "iopub.status.busy": "2022-03-28T10:28:24.565121Z",
     "iopub.status.idle": "2022-03-28T10:28:24.802088Z",
     "shell.execute_reply": "2022-03-28T10:28:24.801405Z"
    },
    "papermill": {
     "duration": 0.279261,
     "end_time": "2022-03-28T10:28:24.802248",
     "exception": false,
     "start_time": "2022-03-28T10:28:24.522987",
     "status": "completed"
    },
    "tags": []
   },
   "outputs": [
    {
     "data": {
      "text/plain": [
       "<AxesSubplot:title={'center':'Per Domain Validation Accuracy'}, xlabel='domain'>"
      ]
     },
     "execution_count": 27,
     "metadata": {},
     "output_type": "execute_result"
    },
    {
     "data": {
      "image/png": "[encoded data removed]",
      "text/plain": [
       "<Figure size 1080x504 with 1 Axes>"
      ]
     },
     "metadata": {
      "needs_background": "light"
     },
     "output_type": "display_data"
    }
   ],
   "source": [
    "get_domain_accuracies(experiment)"
   ]
  },
  {
   "cell_type": "code",
   "execution_count": 28,
   "id": "a74ae082",
   "metadata": {
    "execution": {
     "iopub.execute_input": "2022-03-28T10:28:24.894263Z",
     "iopub.status.busy": "2022-03-28T10:28:24.893636Z",
     "iopub.status.idle": "2022-03-28T10:28:24.922280Z",
     "shell.execute_reply": "2022-03-28T10:28:24.921496Z"
    },
    "papermill": {
     "duration": 0.074075,
     "end_time": "2022-03-28T10:28:24.922429",
     "exception": false,
     "start_time": "2022-03-28T10:28:24.848354",
     "status": "completed"
    },
    "tags": []
   },
   "outputs": [
    {
     "name": "stdout",
     "output_type": "stream",
     "text": [
      "Source Test Label Accuracy: 0.5069986979166666 Target Test Label Accuracy: 0.7629796839729119\n",
      "Source Val Label Accuracy: 0.5076497395833334 Target Val Label Accuracy: 0.7678214285714285\n"
     ]
    }
   ],
   "source": [
    "print(\"Source Test Label Accuracy:\", experiment[\"results\"][\"source_test_label_accuracy\"], \"Target Test Label Accuracy:\", experiment[\"results\"][\"target_test_label_accuracy\"])\n",
    "print(\"Source Val Label Accuracy:\", experiment[\"results\"][\"source_val_label_accuracy\"], \"Target Val Label Accuracy:\", experiment[\"results\"][\"target_val_label_accuracy\"])"
   ]
  },
  {
   "cell_type": "code",
   "execution_count": 29,
   "id": "dacca602",
   "metadata": {
    "execution": {
     "iopub.execute_input": "2022-03-28T10:28:25.012085Z",
     "iopub.status.busy": "2022-03-28T10:28:25.011722Z",
     "iopub.status.idle": "2022-03-28T10:28:25.038186Z",
     "shell.execute_reply": "2022-03-28T10:28:25.038844Z"
    },
    "papermill": {
     "duration": 0.070626,
     "end_time": "2022-03-28T10:28:25.039018",
     "exception": false,
     "start_time": "2022-03-28T10:28:24.968392",
     "status": "completed"
    },
    "tags": [
     "experiment_json"
    ]
   },
   "outputs": [
    {
     "data": {
      "text/plain": [
       "'{\"experiment_name\": \"tl_3-jitter10v2:oracle.run1.framed -> cores\", \"parameters\": {\"experiment_name\": \"tl_3-jitter10v2:oracle.run1.framed -> cores\", \"device\": \"cuda\", \"lr\": 0.0001, \"x_shape\": [2, 256], \"n_shot\": 3, \"n_query\": 2, \"train_k_factor\": 3, \"val_k_factor\": 2, \"test_k_factor\": 2, \"torch_default_dtype\": \"torch.float32\", \"n_epoch\": 50, \"patience\": 3, \"criteria_for_best\": \"target_accuracy\", \"x_net\": [{\"class\": \"nnReshape\", \"kargs\": {\"shape\": [-1, 1, 2, 256]}}, {\"class\": \"Conv2d\", \"kargs\": {\"in_channels\": 1, \"out_channels\": 256, \"kernel_size\": [1, 7], \"bias\": false, \"padding\": [0, 3]}}, {\"class\": \"ReLU\", \"kargs\": {\"inplace\": true}}, {\"class\": \"BatchNorm2d\", \"kargs\": {\"num_features\": 256}}, {\"class\": \"Conv2d\", \"kargs\": {\"in_channels\": 256, \"out_channels\": 80, \"kernel_size\": [2, 7], \"bias\": true, \"padding\": [0, 3]}}, {\"class\": \"ReLU\", \"kargs\": {\"inplace\": true}}, {\"class\": \"BatchNorm2d\", \"kargs\": {\"num_features\": 80}}, {\"class\": \"Flatten\", \"kargs\": {}}, {\"class\": \"Linear\", \"kargs\": {\"in_features\": 20480, \"out_features\": 256}}, {\"class\": \"ReLU\", \"kargs\": {\"inplace\": true}}, {\"class\": \"BatchNorm1d\", \"kargs\": {\"num_features\": 256}}, {\"class\": \"Linear\", \"kargs\": {\"in_features\": 256, \"out_features\": 256}}], \"NUM_LOGS_PER_EPOCH\": 10, \"BEST_MODEL_PATH\": \"./best_model.pth\", \"n_way\": 16, \"datasets\": [{\"labels\": [\"1-10.\", \"1-11.\", \"1-15.\", \"1-16.\", \"1-17.\", \"1-18.\", \"1-19.\", \"10-4.\", \"10-7.\", \"11-1.\", \"11-14.\", \"11-17.\", \"11-20.\", \"11-7.\", \"13-20.\", \"13-8.\", \"14-10.\", \"14-11.\", \"14-14.\", \"14-7.\", \"15-1.\", \"15-20.\", \"16-1.\", \"16-16.\", \"17-10.\", \"17-11.\", \"17-2.\", \"19-1.\", \"19-16.\", \"19-19.\", \"19-20.\", \"19-3.\", \"2-10.\", \"2-11.\", \"2-17.\", \"2-18.\", \"2-20.\", \"2-3.\", \"2-4.\", \"2-5.\", \"2-6.\", \"2-7.\", \"2-8.\", \"3-13.\", \"3-18.\", \"3-3.\", \"4-1.\", \"4-10.\", \"4-11.\", \"4-19.\", \"5-5.\", \"6-15.\", \"7-10.\", \"7-14.\", \"8-18.\", \"8-20.\", \"8-3.\", \"8-8.\"], \"domains\": [1, 2, 3, 4, 5], \"num_examples_per_domain_per_label\": -1, \"pickle_path\": \"/root/csc500-main/datasets/cores.stratified_ds.2022A.pkl\", \"source_or_target_dataset\": \"target\", \"x_transforms\": [\"jitter_256_10\", \"lowpass_+/-10MHz\", \"take_200\"], \"episode_transforms\": [], \"domain_prefix\": \"C_\"}, {\"labels\": [\"3123D52\", \"3123D65\", \"3123D79\", \"3123D80\", \"3123D54\", \"3123D70\", \"3123D7B\", \"3123D89\", \"3123D58\", \"3123D76\", \"3123D7D\", \"3123EFE\", \"3123D64\", \"3123D78\", \"3123D7E\", \"3124E4A\"], \"domains\": [32, 38, 8, 44, 14, 50, 20, 26], \"num_examples_per_domain_per_label\": 2000, \"pickle_path\": \"/root/csc500-main/datasets/oracle.Run1_framed_2000Examples_stratified_ds.2022A.pkl\", \"source_or_target_dataset\": \"source\", \"x_transforms\": [\"jitter_256_10\", \"take_200\", \"resample_20Msps_to_25Msps\"], \"episode_transforms\": [], \"domain_prefix\": \"O_\"}], \"seed\": 420, \"dataset_seed\": 420, \"domains_source\": [\"O_32\", \"O_38\", \"O_8\", \"O_44\", \"O_14\", \"O_50\", \"O_20\", \"O_26\"], \"domains_target\": [\"C_1\", \"C_2\", \"C_3\", \"C_4\", \"C_5\"]}, \"results\": {\"source_test_label_accuracy\": 0.5069986979166666, \"source_test_label_loss\": 8.454183578491211, \"target_test_label_accuracy\": 0.7629796839729119, \"target_test_label_loss\": 145.7711944580078, \"source_val_label_accuracy\": 0.5076497395833334, \"source_val_label_loss\": 8.506275177001953, \"target_val_label_accuracy\": 0.7678214285714285, \"target_val_label_loss\": 145.3328399658203, \"total_epochs_trained\": 5, \"total_experiment_time_secs\": 839.416440486908, \"confusion\": {\"O_14\": {\"15\": {\"15\": 240}, \"5\": {\"5\": 128, \"8\": 91, \"2\": 21}, \"7\": {\"7\": 234, \"5\": 3, \"8\": 3}, \"4\": {\"4\": 239, \"2\": 1}, \"10\": {\"10\": 240}, \"11\": {\"11\": 240}, \"12\": {\"12\": 237, \"0\": 3}, \"0\": {\"13\": 41, \"3\": 11, \"0\": 71, \"14\": 61, \"2\": 14, \"12\": 16, \"6\": 26}, \"14\": {\"14\": 146, \"3\": 12, \"2\": 16, \"0\": 44, \"13\": 19, \"6\": 3}, \"8\": {\"5\": 103, \"8\": 128, \"2\": 6, \"7\": 3}, \"13\": {\"6\": 66, \"3\": 19, \"14\": 32, \"13\": 41, \"0\": 50, \"15\": 17, \"2\": 9, \"4\": 3, \"5\": 2, \"12\": 1}, \"6\": {\"3\": 41, \"0\": 12, \"6\": 110, \"13\": 53, \"14\": 20, \"2\": 4}, \"1\": {\"1\": 240}, \"3\": {\"3\": 197, \"6\": 25, \"13\": 12, \"14\": 2, \"0\": 3, \"2\": 1}, \"9\": {\"9\": 238, \"10\": 2}, \"2\": {\"2\": 74, \"6\": 10, \"4\": 42, \"3\": 50, \"5\": 28, \"14\": 13, \"0\": 11, \"8\": 10, \"13\": 2}}, \"O_20\": {\"4\": {\"4\": 199, \"12\": 25, \"15\": 16}, \"10\": {\"10\": 235, \"13\": 5}, \"15\": {\"2\": 23, \"7\": 25, \"15\": 64, \"4\": 47, \"1\": 7, \"6\": 17, \"12\": 56, \"9\": 1}, \"0\": {\"0\": 217, \"8\": 22, \"14\": 1}, \"6\": {\"6\": 124, \"2\": 20, \"7\": 74, \"15\": 12, \"9\": 3, \"1\": 5, \"12\": 2}, \"3\": {\"5\": 63, \"3\": 65, \"9\": 24, \"14\": 49, \"8\": 31, \"1\": 8}, \"7\": {\"6\": 85, \"7\": 83, \"15\": 21, \"1\": 18, \"9\": 13, \"2\": 16, \"12\": 4}, \"2\": {\"7\": 24, \"2\": 135, \"6\": 27, \"15\": 23, \"12\": 31}, \"8\": {\"8\": 134, \"14\": 83, \"5\": 6, \"3\": 15, \"0\": 2}, \"11\": {\"11\": 240}, \"14\": {\"14\": 112, \"3\": 57, \"5\": 10, \"0\": 2, \"8\": 57, \"9\": 2}, \"12\": {\"12\": 101, \"2\": 39, \"15\": 74, \"4\": 24, \"6\": 2}, \"13\": {\"13\": 223, \"10\": 3, \"2\": 9, \"12\": 2, \"4\": 3}, \"9\": {\"9\": 138, \"7\": 22, \"1\": 58, \"5\": 8, \"6\": 10, \"3\": 3, \"14\": 1}, \"5\": {\"3\": 51, \"9\": 21, \"5\": 122, \"1\": 34, \"8\": 1, \"14\": 11}, \"1\": {\"9\": 76, \"1\": 115, \"5\": 31, \"7\": 9, \"3\": 6, \"6\": 3}}, \"O_50\": {\"5\": {\"7\": 36, \"11\": 9, \"4\": 44, \"6\": 25, \"5\": 38, \"8\": 9, \"9\": 12, \"15\": 15, \"3\": 33, \"13\": 11, \"12\": 5, \"1\": 2, \"10\": 1}, \"12\": {\"5\": 9, \"11\": 31, \"13\": 42, \"8\": 44, \"6\": 14, \"10\": 14, \"15\": 17, \"9\": 17, \"12\": 19, \"7\": 1, \"1\": 20, \"3\": 7, \"4\": 4, \"0\": 1}, \"14\": {\"14\": 201, \"2\": 39}, \"4\": {\"4\": 69, \"6\": 12, \"7\": 79, \"3\": 29, \"11\": 1, \"5\": 33, \"15\": 6, \"9\": 7, \"12\": 3, \"13\": 1}, \"13\": {\"8\": 72, \"1\": 23, \"13\": 65, \"11\": 17, \"10\": 17, \"9\": 7, \"12\": 14, \"3\": 2, \"5\": 2, \"15\": 14, \"6\": 7}, \"10\": {\"0\": 15, \"10\": 167, \"11\": 2, \"8\": 6, \"1\": 46, \"9\": 2, \"2\": 1, \"6\": 1}, \"9\": {\"8\": 31, \"13\": 32, \"15\": 34, \"6\": 22, \"12\": 25, \"9\": 31, \"3\": 14, \"11\": 21, \"1\": 8, \"5\": 8, \"10\": 4, \"0\": 1, \"4\": 5, \"7\": 2, \"2\": 2}, \"15\": {\"13\": 28, \"15\": 21, \"7\": 6, \"12\": 26, \"6\": 37, \"5\": 16, \"3\": 29, \"9\": 31, \"8\": 15, \"10\": 1, \"11\": 18, \"1\": 3, \"4\": 9}, \"6\": {\"11\": 25, \"3\": 38, \"6\": 38, \"15\": 27, \"12\": 20, \"5\": 23, \"9\": 32, \"7\": 9, \"4\": 4, \"8\": 11, \"13\": 11, \"10\": 1, \"1\": 1}, \"2\": {\"2\": 174, \"0\": 27, \"14\": 38, \"1\": 1}, \"0\": {\"0\": 189, \"10\": 10, \"2\": 38, \"11\": 3}, \"11\": {\"8\": 50, \"11\": 26, \"13\": 44, \"9\": 16, \"15\": 18, \"0\": 3, \"1\": 28, \"6\": 14, \"12\": 26, \"10\": 12, \"3\": 3}, \"3\": {\"7\": 21, \"5\": 39, \"4\": 22, \"3\": 53, \"15\": 31, \"6\": 29, \"9\": 18, \"11\": 9, \"13\": 3, \"12\": 13, \"8\": 1, \"1\": 1}, \"8\": {\"0\": 1, \"1\": 45, \"12\": 13, \"15\": 5, \"8\": 78, \"10\": 31, \"11\": 16, \"13\": 45, \"9\": 5, \"3\": 1}, \"7\": {\"4\": 93, \"3\": 21, \"6\": 9, \"7\": 92, \"5\": 21, \"15\": 4}, \"1\": {\"1\": 63, \"10\": 116, \"8\": 21, \"9\": 3, \"2\": 1, \"13\": 14, \"12\": 3, \"11\": 9, \"0\": 10}}, \"O_26\": {\"7\": {\"9\": 62, \"7\": 106, \"3\": 13, \"2\": 13, \"8\": 46}, \"6\": {\"6\": 112, \"5\": 25, \"14\": 21, \"1\": 61, \"15\": 13, \"10\": 3, \"11\": 5}, \"14\": {\"6\": 28, \"10\": 65, \"0\": 17, \"15\": 23, \"14\": 76, \"1\": 13, \"5\": 18}, \"15\": {\"15\": 82, \"10\": 22, \"0\": 19, \"5\": 56, \"6\": 25, \"1\": 10, \"14\": 25, \"2\": 1}, \"5\": {\"14\": 22, \"5\": 105, \"6\": 33, \"10\": 8, \"15\": 59, \"1\": 9, \"0\": 4}, \"10\": {\"14\": 70, \"15\": 35, \"5\": 13, \"0\": 17, \"10\": 85, \"6\": 14, \"1\": 6}, \"4\": {\"4\": 236, \"13\": 4}, \"11\": {\"11\": 188, \"1\": 41, \"6\": 11}, \"13\": {\"13\": 144, \"3\": 81, \"2\": 9, \"9\": 6}, \"2\": {\"8\": 12, \"2\": 150, \"3\": 25, \"13\": 4, \"0\": 5, \"9\": 28, \"7\": 15, \"10\": 1}, \"0\": {\"15\": 9, \"0\": 161, \"10\": 34, \"1\": 4, \"8\": 8, \"5\": 1, \"14\": 19, \"2\": 1, \"6\": 3}, \"12\": {\"12\": 239, \"8\": 1}, \"3\": {\"13\": 57, \"3\": 153, \"9\": 19, \"7\": 10, \"2\": 1}, \"9\": {\"3\": 25, \"9\": 58, \"8\": 67, \"7\": 52, \"2\": 27, \"0\": 4, \"13\": 7}, \"8\": {\"8\": 137, \"0\": 5, \"7\": 46, \"9\": 43, \"12\": 4, \"2\": 4, \"3\": 1}, \"1\": {\"6\": 74, \"10\": 4, \"1\": 111, \"15\": 7, \"5\": 6, \"11\": 25, \"14\": 12, \"0\": 1}}, \"O_32\": {\"7\": {\"8\": 39, \"0\": 58, \"7\": 63, \"5\": 34, \"15\": 6, \"11\": 2, \"14\": 30, \"1\": 7, \"9\": 1}, \"2\": {\"2\": 138, \"4\": 57, \"5\": 3, \"14\": 17, \"7\": 1, \"9\": 5, \"0\": 3, \"13\": 1, \"8\": 4, \"10\": 8, \"15\": 2, \"3\": 1}, \"5\": {\"5\": 38, \"7\": 57, \"15\": 30, \"0\": 38, \"8\": 29, \"14\": 25, \"1\": 18, \"2\": 3, \"11\": 1, \"13\": 1}, \"6\": {\"6\": 222, \"11\": 16, \"12\": 1, \"13\": 1}, \"13\": {\"3\": 56, \"9\": 30, \"13\": 92, \"11\": 10, \"12\": 34, \"4\": 16, \"0\": 1, \"7\": 1}, \"4\": {\"4\": 133, \"3\": 21, \"9\": 25, \"2\": 52, \"0\": 2, \"13\": 3, \"8\": 1, \"10\": 3}, \"3\": {\"3\": 106, \"13\": 48, \"4\": 20, \"9\": 39, \"12\": 20, \"7\": 3, \"5\": 1, \"15\": 1, \"14\": 1, \"2\": 1}, \"0\": {\"8\": 38, \"5\": 36, \"14\": 25, \"7\": 51, \"0\": 78, \"15\": 4, \"2\": 2, \"1\": 2, \"13\": 1, \"9\": 1, \"11\": 2}, \"9\": {\"9\": 39, \"12\": 33, \"11\": 21, \"13\": 35, \"2\": 16, \"3\": 30, \"4\": 55, \"6\": 2, \"0\": 1, \"10\": 6, \"7\": 1, \"14\": 1}, \"12\": {\"9\": 49, \"12\": 102, \"13\": 49, \"3\": 29, \"2\": 1, \"4\": 9, \"11\": 1}, \"8\": {\"0\": 52, \"7\": 36, \"8\": 58, \"13\": 1, \"2\": 16, \"14\": 53, \"5\": 11, \"15\": 7, \"11\": 1, \"1\": 3, \"4\": 1, \"10\": 1}, \"14\": {\"7\": 31, \"0\": 25, \"8\": 49, \"14\": 67, \"5\": 10, \"2\": 43, \"15\": 3, \"4\": 3, \"11\": 1, \"1\": 2, \"9\": 2, \"13\": 2, \"10\": 2}, \"15\": {\"5\": 40, \"7\": 31, \"14\": 11, \"1\": 65, \"0\": 19, \"15\": 61, \"8\": 8, \"3\": 2, \"2\": 3}, \"11\": {\"11\": 225, \"9\": 2, \"6\": 8, \"13\": 4, \"5\": 1}, \"10\": {\"10\": 202, \"4\": 11, \"8\": 2, \"14\": 4, \"2\": 16, \"9\": 5}, \"1\": {\"15\": 62, \"13\": 1, \"14\": 7, \"5\": 30, \"7\": 22, \"1\": 100, \"8\": 8, \"0\": 10}}, \"O_44\": {\"11\": {\"11\": 231, \"13\": 8, \"6\": 1}, \"7\": {\"15\": 20, \"9\": 26, \"5\": 34, \"14\": 16, \"7\": 37, \"4\": 34, \"1\": 4, \"10\": 23, \"0\": 11, \"2\": 7, \"13\": 6, \"8\": 13, \"6\": 9}, \"6\": {\"6\": 74, \"13\": 79, \"11\": 7, \"7\": 14, \"9\": 39, \"5\": 12, \"15\": 1, \"10\": 2, \"14\": 3, \"4\": 9}, \"12\": {\"12\": 155, \"3\": 79, \"2\": 2, \"8\": 2, \"1\": 2}, \"4\": {\"14\": 26, \"10\": 21, \"9\": 27, \"6\": 24, \"4\": 20, \"0\": 16, \"5\": 24, \"15\": 17, \"7\": 24, \"1\": 9, \"2\": 13, \"12\": 1, \"13\": 2, \"8\": 14, \"3\": 2}, \"13\": {\"13\": 110, \"6\": 79, \"5\": 6, \"11\": 12, \"9\": 21, \"14\": 2, \"7\": 5, \"15\": 1, \"4\": 3, \"10\": 1}, \"8\": {\"15\": 22, \"8\": 27, \"14\": 22, \"0\": 52, \"5\": 7, \"1\": 41, \"2\": 31, \"4\": 7, \"10\": 12, \"7\": 9, \"9\": 5, \"12\": 2, \"3\": 3}, \"5\": {\"7\": 34, \"10\": 28, \"9\": 24, \"5\": 21, \"14\": 23, \"2\": 21, \"4\": 24, \"15\": 20, \"1\": 8, \"8\": 17, \"0\": 8, \"13\": 5, \"6\": 5, \"3\": 1, \"12\": 1}, \"14\": {\"1\": 10, \"4\": 19, \"2\": 11, \"7\": 31, \"5\": 26, \"15\": 26, \"8\": 16, \"0\": 17, \"9\": 12, \"10\": 32, \"6\": 12, \"14\": 26, \"13\": 2}, \"3\": {\"12\": 100, \"3\": 135, \"8\": 2, \"0\": 1, \"10\": 1, \"2\": 1}, \"10\": {\"10\": 27, \"7\": 17, \"8\": 22, \"4\": 20, \"14\": 24, \"1\": 12, \"15\": 27, \"0\": 18, \"5\": 23, \"9\": 16, \"2\": 18, \"6\": 7, \"3\": 2, \"13\": 6, \"12\": 1}, \"1\": {\"1\": 86, \"8\": 17, \"0\": 73, \"3\": 25, \"2\": 25, \"10\": 5, \"15\": 5, \"4\": 1, \"12\": 1, \"7\": 2}, \"2\": {\"0\": 72, \"3\": 11, \"2\": 28, \"4\": 4, \"8\": 26, \"15\": 19, \"1\": 44, \"5\": 9, \"12\": 2, \"7\": 4, \"10\": 10, \"14\": 8, \"13\": 1, \"9\": 2}, \"15\": {\"0\": 44, \"5\": 21, \"10\": 17, \"14\": 21, \"8\": 33, \"4\": 10, \"1\": 18, \"2\": 26, \"15\": 21, \"9\": 11, \"7\": 12, \"3\": 3, \"6\": 2, \"13\": 1}, \"9\": {\"9\": 37, \"4\": 27, \"13\": 32, \"6\": 29, \"5\": 22, \"15\": 8, \"11\": 4, \"0\": 9, \"14\": 20, \"10\": 15, \"1\": 4, \"7\": 16, \"8\": 6, \"2\": 8, \"12\": 2, \"3\": 1}, \"0\": {\"8\": 19, \"1\": 59, \"0\": 88, \"10\": 6, \"14\": 2, \"12\": 3, \"3\": 20, \"2\": 29, \"15\": 9, \"4\": 3, \"5\": 2}}, \"O_8\": {\"10\": {\"6\": 59, \"5\": 21, \"13\": 47, \"10\": 91, \"1\": 9, \"7\": 11, \"11\": 2}, \"6\": {\"7\": 23, \"6\": 200, \"5\": 2, \"10\": 15}, \"13\": {\"7\": 56, \"13\": 146, \"10\": 31, \"5\": 6, \"6\": 1}, \"3\": {\"3\": 239, \"9\": 1}, \"9\": {\"9\": 239, \"3\": 1}, \"1\": {\"5\": 51, \"1\": 119, \"11\": 59, \"10\": 4, \"8\": 6, \"6\": 1}, \"5\": {\"13\": 16, \"5\": 124, \"10\": 30, \"1\": 53, \"8\": 6, \"11\": 9, \"6\": 2}, \"11\": {\"8\": 30, \"11\": 107, \"1\": 81, \"5\": 11, \"14\": 8, \"4\": 2, \"10\": 1}, \"4\": {\"4\": 171, \"8\": 63, \"14\": 3, \"5\": 1, \"6\": 1, \"1\": 1}, \"14\": {\"14\": 215, \"4\": 10, \"8\": 15}, \"12\": {\"12\": 188, \"15\": 50, \"2\": 2}, \"7\": {\"7\": 196, \"13\": 13, \"10\": 20, \"6\": 11}, \"0\": {\"0\": 236, \"14\": 4}, \"15\": {\"15\": 171, \"12\": 65, \"2\": 4}, \"2\": {\"3\": 32, \"2\": 170, \"12\": 27, \"15\": 11}, \"8\": {\"8\": 118, \"11\": 15, \"4\": 79, \"1\": 14, \"14\": 6, \"6\": 4, \"10\": 1, \"5\": 3}}, \"O_38\": {\"4\": {\"0\": 53, \"13\": 61, \"10\": 31, \"2\": 7, \"4\": 56, \"14\": 30, \"3\": 1, \"7\": 1}, \"7\": {\"7\": 60, \"9\": 30, \"2\": 45, \"8\": 19, \"5\": 17, \"4\": 8, \"14\": 33, \"13\": 6, \"10\": 1, \"1\": 1, \"12\": 8, \"0\": 9, \"6\": 2, \"15\": 1}, \"12\": {\"5\": 29, \"12\": 52, \"14\": 2, \"15\": 63, \"1\": 22, \"9\": 32, \"8\": 24, \"7\": 8, \"2\": 6, \"6\": 2}, \"10\": {\"0\": 37, \"4\": 37, \"10\": 103, \"13\": 39, \"3\": 17, \"14\": 6, \"2\": 1}, \"0\": {\"4\": 36, \"0\": 36, \"5\": 1, \"13\": 32, \"3\": 15, \"2\": 17, \"10\": 64, \"14\": 29, \"7\": 7, \"9\": 2, \"8\": 1}, \"1\": {\"6\": 60, \"1\": 177, \"15\": 2, \"5\": 1}, \"5\": {\"5\": 19, \"9\": 29, \"7\": 23, \"15\": 53, \"2\": 10, \"12\": 35, \"14\": 3, \"8\": 29, \"1\": 34, \"0\": 1, \"6\": 4}, \"15\": {\"15\": 106, \"5\": 11, \"1\": 95, \"7\": 2, \"12\": 10, \"8\": 4, \"9\": 7, \"6\": 5}, \"9\": {\"12\": 43, \"9\": 43, \"15\": 24, \"8\": 41, \"5\": 38, \"7\": 27, \"14\": 6, \"10\": 1, \"6\": 2, \"2\": 7, \"1\": 6, \"13\": 1, \"0\": 1}, \"11\": {\"11\": 220, \"3\": 20}, \"14\": {\"14\": 51, \"7\": 40, \"9\": 6, \"4\": 27, \"2\": 49, \"5\": 4, \"13\": 25, \"8\": 3, \"0\": 28, \"10\": 7}, \"6\": {\"6\": 176, \"1\": 64}, \"8\": {\"9\": 21, \"14\": 13, \"15\": 51, \"12\": 26, \"1\": 31, \"8\": 26, \"7\": 22, \"2\": 12, \"5\": 29, \"6\": 7, \"0\": 2}, \"3\": {\"3\": 219, \"11\": 15, \"10\": 5, \"4\": 1}, \"2\": {\"12\": 3, \"14\": 46, \"4\": 7, \"7\": 61, \"8\": 14, \"0\": 12, \"9\": 13, \"2\": 46, \"13\": 26, \"5\": 11, \"10\": 1}, \"13\": {\"2\": 17, \"0\": 43, \"10\": 36, \"4\": 55, \"13\": 51, \"14\": 30, \"3\": 3, \"7\": 4, \"5\": 1}}, \"C_4\": {\"42\": {\"19\": 1, \"53\": 1, \"23\": 2, \"26\": 1, \"31\": 4, \"17\": 2, \"42\": 11, \"11\": 1, \"32\": 2, \"28\": 3, \"15\": 1, \"54\": 2, \"25\": 1}, \"0\": {\"0\": 70, \"22\": 4, \"52\": 2, \"56\": 4}, \"1\": {\"1\": 31, \"47\": 7, \"17\": 1, \"8\": 1}, \"39\": {\"39\": 15, \"2\": 2, \"19\": 1, \"51\": 2}, \"28\": {\"28\": 16, \"16\": 3, \"34\": 2, \"33\": 1, \"32\": 2, \"15\": 4, \"26\": 2, \"42\": 2}, \"53\": {\"19\": 13, \"26\": 2, \"53\": 80, \"17\": 2, \"23\": 11, \"16\": 3, \"15\": 1, \"54\": 3, \"10\": 5, \"11\": 1, \"25\": 1, \"55\": 2}, \"19\": {\"53\": 26, \"19\": 64, \"17\": 4, \"43\": 3, \"54\": 15, \"23\": 8, \"24\": 1, \"25\": 2, \"55\": 5, \"15\": 3, \"32\": 2, \"28\": 2, \"8\": 1, \"18\": 1, \"41\": 2, \"44\": 1, \"36\": 2, \"10\": 2}, \"34\": {\"28\": 3, \"53\": 3, \"34\": 8, \"25\": 1, \"11\": 2, \"23\": 1, \"17\": 1, \"24\": 2, \"26\": 3}, \"33\": {\"32\": 4, \"49\": 3, \"55\": 4, \"17\": 2, \"35\": 5, \"33\": 10, \"54\": 5, \"28\": 1, \"42\": 1, \"19\": 1}, \"32\": {\"32\": 15, \"43\": 2, \"55\": 1, \"39\": 2, \"19\": 1, \"38\": 1, \"37\": 1, \"41\": 1}, \"10\": {\"10\": 114, \"28\": 1, \"53\": 7, \"23\": 2, \"11\": 1, \"16\": 3, \"15\": 7, \"51\": 1}, \"46\": {\"46\": 127, \"22\": 4, \"40\": 1, \"50\": 2}, \"20\": {\"20\": 103, \"1\": 1, \"9\": 1, \"36\": 2, \"21\": 5, \"27\": 1, \"48\": 3, \"40\": 2, \"57\": 1, \"4\": 1, \"44\": 1, \"47\": 1}, \"5\": {\"5\": 100, \"3\": 5, \"6\": 3}, \"40\": {\"20\": 10, \"40\": 78, \"21\": 17, \"12\": 4, \"46\": 1, \"44\": 8, \"48\": 1, \"57\": 1, \"55\": 1, \"56\": 1, \"51\": 2}, \"51\": {\"51\": 122, \"33\": 1, \"38\": 2, \"54\": 1, \"17\": 1, \"29\": 2, \"48\": 3, \"35\": 1, \"13\": 1, \"36\": 2, \"25\": 1, \"55\": 1, \"53\": 1, \"8\": 1, \"47\": 1, \"27\": 3}, \"37\": {\"36\": 2, \"38\": 2, \"41\": 2, \"37\": 11, \"13\": 1, \"49\": 1, \"7\": 2, \"52\": 1, \"24\": 1, \"57\": 1}, \"17\": {\"37\": 2, \"17\": 44, \"33\": 3, \"35\": 2, \"8\": 1, \"19\": 2, \"23\": 1, \"54\": 8, \"55\": 6, \"36\": 5, \"27\": 1, \"41\": 1, \"43\": 1, \"29\": 2, \"53\": 1}, \"45\": {\"45\": 88, \"4\": 1, \"12\": 4, \"44\": 2, \"20\": 1}, \"13\": {\"13\": 130, \"14\": 2, \"48\": 1, \"56\": 4, \"2\": 2, \"29\": 1, \"57\": 2}, \"27\": {\"27\": 97, \"51\": 11, \"8\": 10, \"26\": 1, \"48\": 3, \"41\": 1, \"54\": 1, \"9\": 3, \"17\": 2, \"19\": 2, \"57\": 2, \"13\": 1, \"53\": 1, \"4\": 4, \"36\": 1, \"29\": 2, \"16\": 1, \"43\": 1}, \"24\": {\"41\": 3, \"24\": 45, \"31\": 2, \"43\": 1, \"23\": 1, \"53\": 1, \"32\": 1, \"36\": 2}, \"30\": {\"30\": 41, \"44\": 2, \"12\": 1}, \"31\": {\"31\": 16, \"23\": 2, \"24\": 1, \"41\": 5, \"33\": 2, \"15\": 1, \"55\": 1}, \"41\": {\"41\": 27, \"32\": 2, \"55\": 1, \"43\": 1, \"38\": 1, \"49\": 3, \"16\": 1}, \"36\": {\"36\": 50, \"51\": 13, \"38\": 4, \"7\": 3, \"55\": 3, \"27\": 4, \"29\": 4, \"19\": 1, \"54\": 2, \"37\": 1, \"33\": 2, \"35\": 2, \"17\": 1, \"8\": 1, \"11\": 1}, \"16\": {\"16\": 72, \"11\": 11, \"25\": 3, \"23\": 1, \"15\": 3, \"24\": 1, \"53\": 2, \"43\": 1, \"10\": 2}, \"22\": {\"22\": 128}, \"44\": {\"44\": 105, \"12\": 5, \"9\": 2, \"21\": 10, \"29\": 1, \"40\": 4, \"20\": 2, \"3\": 2, \"4\": 1}, \"9\": {\"9\": 109, \"27\": 2, \"20\": 4, \"29\": 4, \"4\": 11, \"21\": 1, \"48\": 4, \"57\": 1, \"19\": 1, \"8\": 2, \"10\": 1}, \"57\": {\"57\": 80, \"36\": 1, \"8\": 7, \"20\": 1, \"1\": 4, \"27\": 1, \"47\": 5, \"43\": 1}, \"8\": {\"8\": 105, \"29\": 18, \"2\": 1, \"4\": 5, \"51\": 1, \"48\": 3, \"13\": 1, \"9\": 1, \"20\": 2, \"57\": 1}, \"23\": {\"23\": 78, \"54\": 7, \"26\": 1, \"17\": 1, \"10\": 3, \"42\": 2, \"53\": 18, \"9\": 1, \"16\": 1, \"43\": 2, \"25\": 4, \"19\": 2, \"55\": 9, \"44\": 1, \"48\": 1, \"4\": 1}, \"47\": {\"47\": 106, \"20\": 6, \"48\": 2, \"19\": 1, \"1\": 3, \"57\": 2}, \"43\": {\"49\": 5, \"43\": 103, \"28\": 2, \"7\": 2, \"55\": 7, \"23\": 4, \"16\": 1, \"15\": 2, \"19\": 1, \"10\": 2, \"25\": 1, \"41\": 2, \"24\": 2, \"0\": 1, \"36\": 1, \"53\": 2}, \"49\": {\"43\": 3, \"38\": 4, \"49\": 5, \"19\": 1, \"53\": 1, \"37\": 2, \"51\": 1, \"41\": 3}, \"3\": {\"3\": 106, \"5\": 10, \"50\": 8}, \"12\": {\"12\": 82, \"48\": 1, \"44\": 4, \"36\": 1, \"30\": 2, \"40\": 2}, \"38\": {\"49\": 2, \"38\": 30, \"28\": 1, \"7\": 3, \"14\": 1, \"27\": 1, \"2\": 1, \"51\": 1}, \"7\": {\"43\": 3, \"49\": 1, \"7\": 7, \"51\": 5, \"37\": 4, \"36\": 2, \"38\": 2}, \"14\": {\"14\": 10, \"51\": 1, \"57\": 2, \"39\": 1, \"35\": 1, \"8\": 1}, \"15\": {\"16\": 16, \"11\": 20, \"15\": 84, \"23\": 3, \"10\": 11, \"19\": 2, \"18\": 2, \"42\": 2, \"53\": 4, \"36\": 1, \"25\": 1}, \"25\": {\"16\": 7, \"25\": 98, \"41\": 1, \"54\": 1, \"18\": 4, \"53\": 5, \"19\": 1, \"15\": 5, \"11\": 4, \"4\": 1, \"55\": 1}, \"26\": {\"34\": 3, \"49\": 1, \"26\": 11, \"31\": 3, \"41\": 1, \"17\": 2, \"43\": 1, \"19\": 2}, \"21\": {\"44\": 6, \"21\": 106, \"46\": 2, \"40\": 3, \"27\": 2, \"20\": 2, \"56\": 2, \"45\": 4, \"5\": 2, \"47\": 2, \"9\": 1}, \"48\": {\"48\": 104, \"1\": 1, \"8\": 8, \"21\": 1, \"29\": 3, \"52\": 2, \"27\": 2, \"9\": 14, \"44\": 1, \"57\": 2, \"17\": 1, \"20\": 2, \"4\": 3}, \"56\": {\"56\": 124, \"0\": 2, \"46\": 2, \"52\": 3, \"20\": 1, \"35\": 1, \"44\": 1}, \"11\": {\"11\": 72, \"15\": 15, \"42\": 1, \"10\": 3, \"16\": 8, \"23\": 2, \"53\": 1, \"36\": 1, \"27\": 1}, \"2\": {\"2\": 26, \"39\": 1, \"1\": 1, \"47\": 4, \"51\": 1, \"13\": 3}, \"6\": {\"6\": 112}, \"55\": {\"7\": 2, \"55\": 104, \"54\": 5, \"32\": 1, \"43\": 9, \"33\": 2, \"31\": 1, \"35\": 1, \"23\": 4, \"19\": 3, \"53\": 2, \"29\": 1, \"20\": 1, \"36\": 3, \"27\": 1}, \"54\": {\"42\": 1, \"54\": 76, \"32\": 2, \"19\": 4, \"41\": 1, \"17\": 6, \"24\": 3, \"55\": 6, \"23\": 1, \"27\": 2, \"51\": 1, \"43\": 2, \"53\": 1, \"36\": 2}, \"29\": {\"29\": 90, \"14\": 2, \"27\": 3, \"48\": 2, \"8\": 6, \"9\": 2, \"47\": 4, \"4\": 3, \"21\": 2, \"57\": 5, \"28\": 1, \"20\": 2, \"15\": 1, \"44\": 1}, \"50\": {\"50\": 115, \"3\": 7}, \"52\": {\"52\": 112, \"9\": 1, \"29\": 1, \"21\": 1, \"48\": 1}, \"35\": {\"55\": 3, \"33\": 1, \"54\": 1, \"35\": 17, \"32\": 3, \"23\": 2, \"36\": 6, \"41\": 1, \"49\": 2, \"43\": 1, \"2\": 1, \"51\": 2}, \"4\": {\"4\": 68, \"33\": 1, \"48\": 4, \"44\": 2, \"9\": 19, \"47\": 3, \"40\": 2, \"29\": 8, \"8\": 6, \"19\": 1, \"27\": 2, \"21\": 2, \"15\": 1, \"55\": 1}, \"18\": {\"18\": 76, \"51\": 1, \"10\": 3, \"16\": 5, \"24\": 1, \"11\": 3, \"15\": 9, \"19\": 2, \"25\": 7, \"28\": 1}}, \"C_5\": {\"43\": {\"43\": 121, \"37\": 2, \"35\": 6, \"36\": 3, \"24\": 1, \"51\": 4, \"8\": 6, \"13\": 6, \"53\": 1, \"55\": 1, \"19\": 1}, \"35\": {\"43\": 7, \"36\": 2, \"35\": 18, \"37\": 6, \"41\": 1, \"54\": 1, \"24\": 1}, \"54\": {\"51\": 12, \"54\": 70, \"23\": 2, \"49\": 3, \"16\": 1, \"53\": 3, \"17\": 5, \"55\": 7, \"43\": 3, \"11\": 1, \"19\": 3, \"31\": 2}, \"22\": {\"22\": 25, \"3\": 2, \"9\": 1}, \"16\": {\"16\": 90, \"10\": 1, \"28\": 4, \"11\": 23, \"15\": 11, \"36\": 1, \"25\": 4, \"23\": 2, \"53\": 2, \"19\": 4, \"42\": 2, \"24\": 1, \"43\": 1}, \"5\": {\"5\": 113, \"44\": 7, \"12\": 6, \"40\": 1, \"6\": 1}, \"28\": {\"10\": 2, \"28\": 18, \"19\": 1, \"25\": 1, \"53\": 2, \"31\": 2, \"26\": 2, \"11\": 2, \"54\": 2}, \"14\": {\"14\": 36, \"13\": 1, \"29\": 2, \"57\": 1, \"2\": 1, \"48\": 1, \"39\": 2}, \"51\": {\"51\": 102, \"7\": 2, \"23\": 2, \"43\": 5, \"27\": 1, \"53\": 2, \"25\": 2, \"11\": 1, \"33\": 1, \"20\": 1, \"39\": 1, \"8\": 2, \"48\": 1, \"36\": 2, \"29\": 2, \"15\": 1}, \"19\": {\"54\": 4, \"19\": 73, \"28\": 1, \"53\": 22, \"23\": 9, \"42\": 1, \"24\": 2, \"55\": 13, \"15\": 2, \"25\": 2, \"16\": 1, \"31\": 1, \"26\": 2, \"17\": 3, \"18\": 1, \"33\": 2, \"10\": 1}, \"31\": {\"54\": 3, \"31\": 19, \"42\": 4, \"27\": 1, \"49\": 1, \"23\": 2, \"33\": 2, \"19\": 2, \"53\": 2}, \"10\": {\"54\": 1, \"10\": 55, \"27\": 1, \"23\": 1, \"11\": 2, \"53\": 1, \"31\": 2, \"16\": 1, \"24\": 2, \"18\": 1, \"43\": 1}, \"21\": {\"21\": 123, \"56\": 5, \"0\": 2, \"46\": 2, \"29\": 1, \"55\": 1, \"30\": 1, \"9\": 1}, \"3\": {\"3\": 100}, \"57\": {\"57\": 112, \"47\": 6, \"20\": 12, \"1\": 2}, \"9\": {\"9\": 124, \"30\": 11, \"4\": 7, \"40\": 1, \"20\": 1, \"44\": 1, \"48\": 1}, \"8\": {\"8\": 113, \"27\": 2, \"29\": 6, \"19\": 1, \"47\": 2, \"53\": 1, \"57\": 2, \"20\": 1, \"7\": 1, \"48\": 2, \"43\": 1}, \"46\": {\"46\": 123, \"0\": 7, \"21\": 4, \"48\": 1, \"56\": 4, \"44\": 1}, \"23\": {\"19\": 1, \"34\": 3, \"23\": 68, \"33\": 2, \"43\": 4, \"31\": 2, \"55\": 16, \"53\": 7, \"42\": 3, \"17\": 4, \"36\": 2, \"54\": 8, \"25\": 1, \"41\": 2, \"10\": 1}, \"37\": {\"37\": 20, \"13\": 1, \"14\": 1, \"43\": 2}, \"34\": {\"34\": 15, \"33\": 4, \"32\": 1, \"17\": 1, \"55\": 6, \"53\": 1, \"54\": 4, \"41\": 2, \"49\": 2}, \"4\": {\"4\": 82, \"30\": 1, \"44\": 1, \"1\": 5, \"36\": 1, \"5\": 3, \"12\": 4, \"9\": 3}, \"6\": {\"6\": 119, \"45\": 2, \"50\": 7}, \"48\": {\"19\": 1, \"48\": 86, \"32\": 1, \"8\": 5, \"57\": 1, \"9\": 3, \"29\": 10, \"20\": 2, \"1\": 16, \"36\": 1, \"54\": 1, \"27\": 2, \"34\": 1, \"30\": 2, \"23\": 2, \"17\": 1, \"15\": 1}, \"44\": {\"44\": 127, \"5\": 9, \"6\": 1, \"20\": 1}, \"40\": {\"40\": 116, \"44\": 2, \"46\": 2, \"9\": 4}, \"12\": {\"12\": 90, \"40\": 1, \"4\": 1, \"5\": 2, \"44\": 2}, \"30\": {\"4\": 2, \"30\": 112, \"9\": 4, \"1\": 2, \"20\": 2, \"40\": 2, \"48\": 1, \"57\": 1, \"27\": 2}, \"39\": {\"39\": 16, \"36\": 4}, \"45\": {\"45\": 117, \"47\": 1, \"50\": 3, \"6\": 3}, \"36\": {\"36\": 51, \"35\": 4, \"7\": 2, \"2\": 3, \"14\": 2, \"4\": 1, \"43\": 6, \"51\": 11, \"8\": 5, \"34\": 1, \"16\": 1, \"39\": 2, \"26\": 1, \"19\": 1, \"54\": 1}, \"27\": {\"32\": 2, \"27\": 81, \"39\": 1, \"14\": 2, \"38\": 1, \"19\": 3, \"36\": 3, \"48\": 12, \"17\": 2, \"8\": 14, \"25\": 1, \"51\": 6, \"7\": 2, \"29\": 4, \"56\": 1, \"52\": 1, \"23\": 1, \"57\": 2, \"1\": 1}, \"32\": {\"27\": 4, \"32\": 15, \"24\": 1, \"23\": 2, \"7\": 1, \"38\": 1, \"8\": 2, \"51\": 4, \"33\": 2}, \"52\": {\"46\": 2, \"52\": 114, \"56\": 7, \"20\": 1, \"5\": 1, \"21\": 4, \"8\": 1}, \"0\": {\"0\": 117, \"48\": 1, \"36\": 1, \"27\": 2, \"35\": 1, \"21\": 1, \"56\": 1}, \"26\": {\"26\": 17, \"38\": 1, \"17\": 2, \"28\": 1, \"19\": 2, \"25\": 1}, \"1\": {\"1\": 102, \"20\": 10, \"9\": 7, \"30\": 11, \"48\": 3, \"57\": 3, \"36\": 1, \"27\": 1, \"46\": 1, \"29\": 2, \"13\": 1, \"47\": 1, \"52\": 1, \"43\": 1, \"40\": 2, \"55\": 1}, \"53\": {\"53\": 97, \"28\": 1, \"19\": 11, \"23\": 8, \"17\": 4, \"55\": 8, \"36\": 2, \"54\": 4, \"51\": 2, \"16\": 1, \"33\": 2, \"31\": 1, \"34\": 4, \"18\": 1}, \"25\": {\"25\": 106, \"28\": 2, \"18\": 4, \"16\": 17, \"11\": 8, \"55\": 1, \"19\": 2, \"53\": 1, \"15\": 3}, \"24\": {\"23\": 2, \"24\": 61, \"49\": 2, \"10\": 4, \"2\": 1, \"36\": 3, \"31\": 2, \"37\": 2, \"42\": 2, \"19\": 1}, \"7\": {\"7\": 27, \"8\": 2, \"36\": 2, \"19\": 1}, \"18\": {\"18\": 48, \"11\": 3, \"53\": 1, \"23\": 1, \"25\": 7, \"24\": 2, \"15\": 1, \"16\": 1}, \"20\": {\"1\": 4, \"20\": 91, \"7\": 1, \"57\": 25, \"9\": 3, \"47\": 7, \"56\": 1, \"52\": 1, \"17\": 1, \"27\": 4, \"55\": 1, \"48\": 1, \"32\": 1, \"23\": 1, \"29\": 2}, \"33\": {\"33\": 10, \"32\": 2, \"55\": 2, \"54\": 4, \"41\": 4, \"36\": 2, \"34\": 2, \"51\": 5, \"26\": 1}, \"55\": {\"55\": 89, \"54\": 11, \"17\": 11, \"19\": 6, \"24\": 1, \"23\": 4, \"25\": 2, \"53\": 8, \"51\": 2, \"15\": 2, \"37\": 1, \"34\": 1, \"11\": 1, \"48\": 1}, \"41\": {\"33\": 1, \"41\": 15, \"37\": 1, \"35\": 1, \"34\": 1, \"19\": 1, \"14\": 1, \"49\": 1, \"23\": 1, \"54\": 1, \"48\": 1, \"36\": 1, \"38\": 1, \"7\": 1}, \"42\": {\"42\": 28, \"28\": 1, \"23\": 2, \"16\": 3, \"43\": 1, \"17\": 1, \"15\": 1, \"53\": 2, \"55\": 1}, \"49\": {\"49\": 28, \"41\": 1, \"29\": 1, \"24\": 1, \"35\": 2, \"37\": 2, \"15\": 1}, \"13\": {\"13\": 131, \"56\": 5, \"47\": 1, \"17\": 1, \"51\": 1, \"21\": 2, \"54\": 1, \"1\": 2, \"39\": 1, \"8\": 1, \"29\": 2}, \"38\": {\"38\": 20, \"7\": 4, \"29\": 1, \"54\": 1, \"17\": 2, \"8\": 1, \"14\": 1, \"41\": 1, \"32\": 1}, \"2\": {\"2\": 23, \"39\": 1, \"36\": 2, \"43\": 1, \"35\": 1}, \"47\": {\"47\": 83, \"57\": 7, \"23\": 1, \"48\": 1, \"20\": 2, \"21\": 1, \"13\": 2, \"52\": 2, \"43\": 1}, \"17\": {\"17\": 73, \"23\": 2, \"33\": 1, \"38\": 7, \"11\": 1, \"55\": 12, \"27\": 1, \"53\": 4, \"54\": 14, \"19\": 1}, \"11\": {\"11\": 103, \"16\": 26, \"54\": 1, \"10\": 3, \"53\": 1, \"25\": 9, \"15\": 4, \"19\": 1, \"31\": 3, \"28\": 1, \"55\": 2}, \"29\": {\"48\": 4, \"47\": 2, \"29\": 97, \"14\": 1, \"20\": 11, \"54\": 1, \"27\": 1, \"57\": 9, \"36\": 2, \"1\": 3, \"43\": 1}, \"50\": {\"50\": 138}, \"56\": {\"56\": 131, \"14\": 1, \"21\": 4, \"52\": 5, \"57\": 1, \"0\": 4, \"20\": 1, \"13\": 1}, \"15\": {\"15\": 98, \"25\": 2, \"11\": 20, \"33\": 2, \"16\": 11, \"53\": 5, \"24\": 1, \"17\": 1, \"23\": 2}}, \"C_2\": {\"49\": {\"49\": 15, \"23\": 1, \"19\": 2, \"37\": 1, \"53\": 2, \"34\": 3}, \"13\": {\"13\": 100, \"38\": 1, \"14\": 3, \"47\": 2, \"57\": 4, \"54\": 1, \"52\": 2, \"24\": 2, \"9\": 1}, \"37\": {\"37\": 30, \"35\": 1, \"11\": 1, \"7\": 2, \"38\": 1, \"51\": 1}, \"41\": {\"38\": 4, \"41\": 11, \"1\": 1, \"39\": 1, \"47\": 1, \"2\": 1, \"20\": 1}, \"15\": {\"15\": 112, \"34\": 1, \"16\": 8, \"56\": 1, \"17\": 1, \"19\": 2, \"11\": 9, \"53\": 5, \"37\": 1, \"42\": 1, \"25\": 1}, \"56\": {\"56\": 124, \"0\": 4, \"22\": 6, \"9\": 1, \"52\": 2, \"11\": 1, \"17\": 1, \"4\": 1, \"30\": 2}, \"14\": {\"38\": 2, \"14\": 14, \"41\": 2, \"47\": 1, \"2\": 1, \"32\": 1, \"13\": 2, \"29\": 1}, \"3\": {\"3\": 88, \"6\": 4}, \"38\": {\"38\": 12, \"33\": 1, \"13\": 2, \"23\": 1, \"14\": 2, \"57\": 2}, \"43\": {\"37\": 2, \"43\": 110, \"17\": 1, \"24\": 6, \"54\": 1, \"23\": 6, \"55\": 5, \"31\": 2, \"53\": 1, \"10\": 1, \"15\": 1, \"36\": 2}, \"33\": {\"39\": 2, \"34\": 1, \"36\": 1, \"33\": 12, \"51\": 4, \"41\": 2, \"32\": 2, \"55\": 2, \"8\": 1, \"20\": 1}, \"47\": {\"47\": 118, \"55\": 1, \"40\": 2, \"52\": 5, \"23\": 1, \"57\": 2, \"56\": 2, \"30\": 4, \"53\": 1, \"48\": 2}, \"30\": {\"30\": 135, \"4\": 1, \"47\": 2, \"27\": 1, \"1\": 1, \"56\": 2, \"52\": 2}, \"39\": {\"39\": 16, \"7\": 2, \"38\": 1, \"55\": 1, \"16\": 1, \"19\": 1, \"41\": 1, \"51\": 1, \"2\": 1, \"42\": 2, \"14\": 1}, \"12\": {\"12\": 92}, \"6\": {\"6\": 121, \"3\": 3}, \"51\": {\"51\": 121, \"36\": 1, \"10\": 1, \"54\": 1, \"1\": 1, \"27\": 2, \"41\": 2, \"8\": 1, \"57\": 3, \"19\": 1}, \"5\": {\"5\": 106, \"46\": 13, \"21\": 1}, \"34\": {\"34\": 15, \"28\": 2, \"15\": 1, \"17\": 1, \"53\": 2, \"35\": 1, \"24\": 1, \"25\": 1, \"54\": 2, \"49\": 2}, \"35\": {\"35\": 16, \"33\": 1, \"54\": 2, \"23\": 1, \"17\": 2, \"32\": 3, \"51\": 2, \"27\": 1, \"38\": 2, \"49\": 1, \"39\": 1}, \"0\": {\"0\": 43, \"30\": 3, \"46\": 1, \"48\": 1}, \"7\": {\"7\": 31, \"24\": 2, \"55\": 2, \"43\": 1}, \"24\": {\"24\": 78, \"27\": 1, \"37\": 2, \"10\": 1, \"13\": 1, \"43\": 9, \"42\": 1, \"23\": 1, \"36\": 2}, \"8\": {\"1\": 2, \"8\": 85, \"29\": 22, \"19\": 1, \"27\": 5, \"20\": 6, \"57\": 3, \"9\": 5, \"11\": 2, \"13\": 1, \"4\": 4}, \"20\": {\"20\": 82, \"4\": 3, \"48\": 29, \"9\": 1, \"23\": 1, \"1\": 3, \"8\": 1, \"40\": 1, \"30\": 2, \"15\": 1}, \"36\": {\"36\": 75, \"51\": 17, \"9\": 2, \"13\": 2, \"55\": 5, \"48\": 2, \"57\": 2, \"27\": 3, \"14\": 2, \"8\": 2, \"39\": 1, \"29\": 2, \"19\": 1}, \"42\": {\"42\": 29, \"51\": 2, \"23\": 4, \"17\": 1}, \"1\": {\"20\": 8, \"1\": 70, \"57\": 2, \"48\": 14, \"30\": 6, \"40\": 3, \"8\": 1, \"51\": 1, \"9\": 1, \"13\": 1, \"29\": 1, \"4\": 1, \"17\": 1, \"52\": 2}, \"4\": {\"4\": 69, \"30\": 1, \"20\": 13, \"48\": 13, \"57\": 2, \"47\": 2, \"9\": 15, \"27\": 3, \"29\": 8, \"1\": 10, \"40\": 4, \"8\": 4, \"19\": 1, \"36\": 1, \"53\": 1, \"51\": 1}, \"28\": {\"28\": 15, \"35\": 1, \"34\": 1, \"10\": 1, \"15\": 2, \"49\": 1, \"19\": 2, \"37\": 1, \"23\": 2, \"18\": 1, \"9\": 1}, \"50\": {\"50\": 127, \"21\": 3, \"46\": 2, \"3\": 2, \"12\": 1, \"5\": 1}, \"45\": {\"45\": 125, \"12\": 1, \"6\": 2}, \"18\": {\"18\": 30, \"10\": 2, \"23\": 1, \"11\": 3, \"16\": 3, \"28\": 2, \"25\": 4, \"19\": 2, \"17\": 1}, \"57\": {\"57\": 104, \"1\": 5, \"48\": 2, \"9\": 2, \"8\": 2, \"20\": 2, \"23\": 1, \"27\": 1, \"4\": 1}, \"46\": {\"46\": 123, \"5\": 5}, \"23\": {\"23\": 113, \"54\": 6, \"53\": 11, \"17\": 4, \"19\": 2, \"56\": 1, \"4\": 1, \"43\": 4, \"8\": 1, \"55\": 2, \"35\": 1, \"42\": 2}, \"27\": {\"27\": 103, \"29\": 9, \"43\": 1, \"51\": 10, \"8\": 6, \"23\": 1, \"2\": 2, \"17\": 2, \"9\": 1, \"13\": 1, \"40\": 1, \"4\": 1}, \"19\": {\"19\": 54, \"26\": 2, \"16\": 5, \"54\": 5, \"23\": 16, \"42\": 1, \"53\": 26, \"28\": 2, \"10\": 1, \"35\": 1, \"49\": 2, \"36\": 1, \"17\": 6, \"15\": 4, \"43\": 1, \"11\": 6, \"9\": 1}, \"22\": {\"22\": 122, \"0\": 2, \"21\": 2, \"29\": 2, \"52\": 2, \"30\": 2, \"56\": 4}, \"17\": {\"55\": 9, \"17\": 68, \"54\": 16, \"51\": 1, \"19\": 3, \"13\": 1, \"36\": 3, \"23\": 1, \"16\": 1, \"53\": 1}, \"55\": {\"55\": 102, \"26\": 1, \"39\": 3, \"37\": 2, \"9\": 1, \"13\": 2, \"19\": 3, \"17\": 3, \"23\": 6, \"54\": 2, \"24\": 2, \"36\": 3, \"43\": 2, \"51\": 2, \"27\": 2}, \"44\": {\"44\": 87, \"27\": 1, \"40\": 4, \"12\": 5, \"50\": 2, \"4\": 1}, \"26\": {\"23\": 1, \"17\": 1, \"53\": 5, \"54\": 2, \"26\": 11, \"35\": 2, \"27\": 1, \"11\": 1}, \"31\": {\"31\": 16, \"55\": 4, \"39\": 6, \"34\": 1, \"41\": 1}, \"16\": {\"11\": 10, \"16\": 90, \"28\": 1, \"42\": 1, \"15\": 9, \"25\": 5, \"55\": 2, \"36\": 2, \"10\": 4, \"23\": 1, \"19\": 4, \"34\": 1}, \"11\": {\"11\": 84, \"25\": 3, \"34\": 2, \"23\": 4, \"26\": 1, \"15\": 19, \"16\": 5, \"10\": 4, \"36\": 2, \"53\": 4}, \"25\": {\"11\": 2, \"15\": 4, \"25\": 104, \"19\": 2, \"43\": 2, \"35\": 1, \"23\": 2, \"16\": 6, \"53\": 3}, \"54\": {\"54\": 69, \"23\": 4, \"26\": 2, \"55\": 1, \"27\": 3, \"7\": 1, \"53\": 4, \"11\": 3, \"17\": 12, \"19\": 2, \"35\": 2, \"49\": 2, \"36\": 1, \"18\": 1, \"43\": 1}, \"32\": {\"32\": 13, \"51\": 4, \"8\": 2, \"54\": 1, \"19\": 2, \"41\": 1, \"33\": 2, \"42\": 1, \"36\": 2}, \"52\": {\"0\": 2, \"52\": 112, \"9\": 2, \"56\": 3, \"47\": 3, \"36\": 1, \"1\": 1}, \"40\": {\"40\": 103, \"30\": 5, \"10\": 1, \"29\": 1, \"0\": 1, \"48\": 3, \"50\": 5, \"44\": 2, \"8\": 2, \"4\": 3, \"1\": 2, \"20\": 1, \"13\": 1, \"47\": 2}, \"2\": {\"38\": 3, \"36\": 1, \"2\": 22, \"35\": 1, \"51\": 2, \"32\": 2, \"39\": 1}, \"10\": {\"10\": 75, \"2\": 1, \"28\": 2, \"36\": 2, \"11\": 11, \"53\": 1, \"15\": 9, \"16\": 4, \"23\": 4, \"54\": 1}, \"53\": {\"53\": 102, \"54\": 6, \"23\": 13, \"34\": 1, \"19\": 7, \"17\": 3, \"25\": 3, \"8\": 1}, \"9\": {\"4\": 11, \"20\": 1, \"9\": 71, \"35\": 1, \"47\": 3, \"8\": 16, \"40\": 2, \"27\": 9, \"48\": 8, \"57\": 5, \"29\": 12, \"36\": 2, \"1\": 3, \"32\": 1, \"28\": 1, \"55\": 2, \"54\": 1, \"56\": 1}, \"21\": {\"21\": 115, \"47\": 1, \"22\": 1, \"30\": 1, \"46\": 2}, \"48\": {\"48\": 101, \"57\": 6, \"20\": 16, \"1\": 4, \"8\": 3, \"27\": 1, \"51\": 1, \"54\": 1, \"4\": 2, \"47\": 3}, \"29\": {\"29\": 74, \"8\": 21, \"4\": 9, \"27\": 6, \"57\": 5, \"9\": 5, \"40\": 1, \"1\": 3, \"20\": 3, \"48\": 1}}, \"C_1\": {\"9\": {\"9\": 127, \"57\": 2, \"55\": 1, \"29\": 3, \"8\": 7, \"12\": 1, \"1\": 1}, \"25\": {\"25\": 104, \"18\": 2, \"16\": 9, \"11\": 7, \"19\": 2, \"10\": 4}, \"41\": {\"41\": 16, \"51\": 2, \"7\": 4, \"48\": 1, \"29\": 1}, \"29\": {\"4\": 3, \"30\": 12, \"1\": 10, \"29\": 81, \"14\": 1, \"19\": 1, \"40\": 1, \"21\": 1, \"8\": 13, \"45\": 1, \"22\": 1, \"47\": 7, \"48\": 4, \"9\": 1, \"2\": 1, \"27\": 2}, \"46\": {\"46\": 89, \"44\": 35, \"45\": 4}, \"4\": {\"4\": 75, \"55\": 2, \"48\": 2, \"40\": 14, \"57\": 6, \"29\": 1, \"30\": 8, \"50\": 11, \"6\": 4, \"2\": 1, \"14\": 4, \"13\": 2, \"20\": 1, \"36\": 1}, \"31\": {\"31\": 25, \"33\": 2, \"10\": 1}, \"36\": {\"36\": 58, \"47\": 4, \"21\": 2}, \"20\": {\"20\": 118, \"3\": 5, \"0\": 5}, \"7\": {\"17\": 1, \"7\": 15, \"41\": 5, \"51\": 5, \"32\": 2}, \"6\": {\"6\": 90, \"50\": 4, \"56\": 2}, \"16\": {\"25\": 1, \"16\": 113, \"11\": 7, \"10\": 5, \"8\": 1, \"19\": 1, \"15\": 8, \"48\": 2}, \"17\": {\"17\": 35, \"41\": 1, \"54\": 10, \"37\": 1, \"35\": 2, \"42\": 4, \"9\": 2, \"55\": 2, \"33\": 1, \"51\": 2, \"48\": 4}, \"50\": {\"50\": 141, \"8\": 1, \"40\": 3, \"4\": 1, \"6\": 2}, \"57\": {\"57\": 122, \"8\": 1, \"30\": 13, \"24\": 1, \"13\": 2, \"21\": 2, \"48\": 1, \"40\": 2}, \"23\": {\"23\": 102, \"37\": 1, \"10\": 1, \"24\": 5, \"25\": 1, \"35\": 3, \"15\": 3, \"19\": 5, \"12\": 1, \"11\": 1, \"7\": 1, \"54\": 6, \"28\": 1, \"42\": 2, \"1\": 2, \"53\": 1}, \"3\": {\"12\": 1, \"3\": 118, \"0\": 2, \"20\": 4, \"22\": 1}, \"53\": {\"53\": 102, \"34\": 3, \"19\": 12, \"33\": 1, \"18\": 1, \"24\": 1, \"23\": 8, \"55\": 3, \"15\": 4, \"26\": 1, \"35\": 2, \"16\": 2}, \"49\": {\"49\": 22, \"55\": 2, \"39\": 1, \"38\": 2, \"53\": 1, \"17\": 1, \"43\": 1, \"32\": 1, \"19\": 1}, \"56\": {\"56\": 149, \"55\": 1, \"44\": 2}, \"51\": {\"9\": 3, \"55\": 6, \"51\": 119, \"32\": 3, \"19\": 1, \"1\": 2, \"54\": 2, \"27\": 1, \"11\": 1, \"7\": 1, \"33\": 1, \"53\": 1, \"48\": 1}, \"26\": {\"26\": 15, \"53\": 2, \"34\": 4, \"25\": 1, \"19\": 2}, \"43\": {\"41\": 1, \"49\": 6, \"55\": 7, \"43\": 120, \"19\": 1, \"32\": 1, \"37\": 2, \"10\": 1, \"40\": 1, \"29\": 1, \"51\": 3}, \"22\": {\"22\": 115, \"52\": 7, \"20\": 2, \"0\": 4, \"29\": 2, \"4\": 1, \"12\": 4, \"21\": 1}, \"45\": {\"45\": 142, \"44\": 2, \"46\": 2}, \"13\": {\"13\": 132, \"55\": 1, \"27\": 3, \"22\": 4, \"21\": 6, \"29\": 2, \"30\": 1, \"57\": 1, \"52\": 2}, \"12\": {\"12\": 101, \"4\": 2, \"57\": 1, \"0\": 6, \"8\": 1, \"52\": 2, \"22\": 1, \"46\": 1, \"27\": 1}, \"54\": {\"54\": 79, \"42\": 3, \"39\": 1, \"24\": 2, \"17\": 4, \"19\": 1, \"51\": 2, \"23\": 9, \"35\": 2, \"29\": 1}, \"24\": {\"24\": 84, \"10\": 2, \"23\": 9, \"13\": 1, \"42\": 1, \"54\": 2, \"55\": 5, \"43\": 2, \"53\": 2}, \"44\": {\"44\": 124, \"46\": 10, \"45\": 1, \"56\": 1}, \"28\": {\"34\": 1, \"28\": 22, \"23\": 2, \"7\": 1, \"54\": 2}, \"33\": {\"33\": 16, \"55\": 4, \"43\": 2, \"31\": 2, \"42\": 3, \"41\": 2, \"25\": 1, \"13\": 1, \"35\": 1}, \"38\": {\"31\": 2, \"36\": 2, \"38\": 7, \"43\": 2, \"49\": 3, \"23\": 1, \"37\": 3, \"39\": 3, \"52\": 1}, \"0\": {\"0\": 135, \"12\": 5, \"20\": 2, \"56\": 2}, \"47\": {\"47\": 144, \"36\": 1, \"29\": 1, \"27\": 4, \"4\": 1, \"9\": 1, \"57\": 2}, \"42\": {\"42\": 27, \"34\": 1, \"33\": 4, \"10\": 1, \"55\": 1, \"54\": 2, \"17\": 1, \"23\": 1, \"29\": 2}, \"34\": {\"34\": 19, \"15\": 1, \"26\": 1, \"23\": 2, \"35\": 1}, \"48\": {\"48\": 103, \"39\": 1, \"2\": 3, \"47\": 1, \"8\": 14, \"1\": 4, \"29\": 3, \"9\": 3, \"55\": 1, \"50\": 1, \"53\": 1, \"54\": 1, \"32\": 1, \"17\": 1, \"13\": 1, \"57\": 2, \"19\": 1}, \"35\": {\"35\": 23, \"54\": 5, \"19\": 1, \"33\": 1, \"17\": 2, \"23\": 1, \"31\": 1, \"53\": 1, \"18\": 1}, \"2\": {\"48\": 5, \"2\": 23, \"29\": 4, \"39\": 1, \"34\": 1, \"30\": 1, \"19\": 1}, \"30\": {\"30\": 109, \"57\": 6, \"14\": 2, \"13\": 2, \"1\": 1}, \"18\": {\"18\": 54, \"13\": 1, \"35\": 2, \"25\": 2, \"10\": 2, \"11\": 7, \"16\": 2, \"54\": 1, \"19\": 1}, \"37\": {\"36\": 2, \"37\": 22, \"55\": 5, \"32\": 1, \"1\": 1, \"43\": 1}, \"1\": {\"48\": 2, \"1\": 85, \"39\": 2, \"8\": 4, \"19\": 1, \"30\": 1, \"54\": 1, \"7\": 1, \"2\": 1, \"9\": 1, \"46\": 1}, \"11\": {\"11\": 98, \"23\": 4, \"25\": 7, \"15\": 6, \"16\": 14, \"19\": 1, \"53\": 2, \"9\": 1, \"10\": 4, \"57\": 1}, \"55\": {\"55\": 102, \"37\": 5, \"38\": 1, \"51\": 11, \"17\": 2, \"25\": 1, \"24\": 2, \"43\": 2, \"10\": 1, \"1\": 2, \"50\": 1}, \"15\": {\"16\": 14, \"10\": 10, \"15\": 104, \"17\": 2, \"25\": 1, \"18\": 1, \"11\": 7, \"54\": 3, \"19\": 3, \"28\": 2, \"7\": 1, \"53\": 2}, \"10\": {\"19\": 1, \"10\": 62, \"28\": 4, \"11\": 3, \"54\": 1, \"24\": 1, \"13\": 1, \"15\": 15, \"53\": 4, \"25\": 1, \"8\": 1, \"16\": 2}, \"27\": {\"27\": 130, \"30\": 1, \"13\": 4, \"47\": 8, \"52\": 4, \"21\": 9, \"46\": 1, \"4\": 2, \"22\": 1}, \"19\": {\"23\": 15, \"53\": 19, \"17\": 5, \"19\": 68, \"10\": 6, \"25\": 4, \"55\": 2, \"54\": 8, \"15\": 2, \"16\": 8, \"9\": 1, \"35\": 1, \"26\": 1, \"34\": 4, \"24\": 2}, \"14\": {\"57\": 1, \"14\": 15, \"47\": 2, \"29\": 1, \"30\": 5}, \"8\": {\"48\": 6, \"1\": 5, \"8\": 119, \"16\": 1, \"10\": 1, \"9\": 6, \"19\": 1, \"30\": 1}, \"5\": {\"5\": 136}, \"39\": {\"33\": 1, \"47\": 3, \"49\": 1, \"39\": 2, \"37\": 2, \"27\": 1, \"41\": 1, \"38\": 3, \"55\": 3, \"32\": 2, \"43\": 4, \"31\": 1, \"1\": 2, \"13\": 1, \"51\": 1}, \"52\": {\"52\": 100, \"27\": 2, \"48\": 1, \"22\": 12, \"21\": 2, \"12\": 2, \"29\": 2, \"40\": 1}, \"21\": {\"21\": 105, \"52\": 2, \"27\": 9, \"48\": 1, \"22\": 2, \"46\": 1, \"45\": 2, \"13\": 1, \"29\": 1}, \"40\": {\"40\": 108, \"36\": 1, \"27\": 2, \"8\": 1, \"48\": 2, \"6\": 6, \"4\": 8, \"50\": 11, \"57\": 2, \"56\": 5, \"30\": 3, \"45\": 2, \"13\": 1}, \"32\": {\"32\": 25, \"55\": 1, \"41\": 2, \"51\": 4}}, \"C_3\": {\"56\": {\"34\": 1, \"56\": 106, \"52\": 2, \"40\": 1, \"21\": 4, \"47\": 2, \"22\": 4}, \"4\": {\"27\": 8, \"4\": 93, \"7\": 1, \"9\": 13, \"54\": 1, \"57\": 3, \"36\": 2, \"40\": 2, \"17\": 1, \"48\": 10, \"8\": 8, \"55\": 1, \"23\": 1, \"1\": 2}, \"34\": {\"32\": 2, \"55\": 2, \"34\": 20, \"42\": 1, \"31\": 1, \"38\": 2, \"24\": 1, \"49\": 1, \"35\": 1, \"19\": 1}, \"52\": {\"52\": 123, \"47\": 4, \"30\": 2, \"36\": 1, \"20\": 4, \"55\": 1, \"29\": 1}, \"32\": {\"32\": 15, \"2\": 4, \"36\": 4, \"17\": 1, \"27\": 1, \"10\": 1, \"56\": 1, \"48\": 1}, \"46\": {\"46\": 117, \"21\": 15, \"50\": 1, \"5\": 3}, \"12\": {\"12\": 88, \"45\": 2, \"46\": 2}, \"20\": {\"52\": 12, \"20\": 105, \"8\": 2, \"47\": 4, \"30\": 2, \"17\": 1, \"48\": 3, \"1\": 2, \"19\": 1}, \"54\": {\"54\": 74, \"17\": 6, \"19\": 3, \"23\": 9, \"55\": 3, \"11\": 1, \"25\": 1, \"24\": 1, \"53\": 2}, \"22\": {\"22\": 133, \"36\": 1, \"20\": 1, \"0\": 1, \"27\": 1, \"30\": 2, \"29\": 1}, \"26\": {\"26\": 18, \"32\": 1, \"31\": 2, \"37\": 2, \"23\": 1}, \"31\": {\"31\": 18, \"18\": 1, \"24\": 1, \"43\": 2, \"55\": 2, \"37\": 2, \"26\": 2}, \"10\": {\"10\": 40, \"11\": 6, \"24\": 1, \"15\": 7, \"16\": 2, \"18\": 2, \"25\": 2, \"31\": 1, \"26\": 1, \"19\": 2}, \"27\": {\"27\": 85, \"4\": 5, \"33\": 3, \"8\": 25, \"32\": 2, \"57\": 6, \"9\": 4, \"29\": 10, \"16\": 1, \"14\": 1, \"48\": 1, \"56\": 1}, \"40\": {\"20\": 9, \"40\": 92, \"30\": 11, \"9\": 4, \"47\": 1, \"44\": 7, \"0\": 3, \"52\": 5, \"1\": 3, \"4\": 1}, \"28\": {\"28\": 13, \"10\": 3, \"42\": 1, \"24\": 1, \"15\": 3, \"16\": 1, \"25\": 4, \"23\": 1, \"19\": 1}, \"5\": {\"5\": 112, \"21\": 2, \"46\": 2}, \"30\": {\"52\": 3, \"20\": 3, \"30\": 104, \"0\": 2, \"48\": 3, \"36\": 2, \"40\": 3}, \"7\": {\"13\": 2, \"52\": 2, \"7\": 24, \"56\": 1, \"47\": 2, \"38\": 1, \"41\": 1, \"39\": 1, \"2\": 1, \"55\": 1}, \"18\": {\"18\": 62, \"25\": 5, \"15\": 6, \"16\": 6, \"28\": 1, \"11\": 3, \"54\": 1}, \"39\": {\"35\": 1, \"39\": 9, \"2\": 1, \"33\": 2, \"29\": 2, \"14\": 1}, \"50\": {\"50\": 112, \"3\": 7, \"12\": 3, \"5\": 6, \"4\": 1, \"46\": 6, \"21\": 1}, \"49\": {\"35\": 1, \"43\": 4, \"2\": 1, \"49\": 7, \"24\": 4, \"7\": 1, \"12\": 1, \"16\": 1}, \"43\": {\"43\": 102, \"37\": 1, \"25\": 1, \"23\": 1, \"24\": 4, \"17\": 1, \"19\": 1, \"55\": 4, \"31\": 1, \"49\": 4, \"53\": 2}, \"29\": {\"29\": 52, \"57\": 6, \"32\": 1, \"8\": 27, \"9\": 10, \"48\": 2, \"15\": 1, \"1\": 2, \"27\": 7, \"54\": 1, \"51\": 1, \"20\": 1, \"39\": 1, \"36\": 1, \"55\": 1}, \"35\": {\"35\": 16, \"51\": 4, \"27\": 1, \"14\": 1, \"25\": 1, \"55\": 2, \"42\": 1, \"38\": 1, \"26\": 1}, \"13\": {\"7\": 3, \"33\": 1, \"13\": 99, \"10\": 1, \"2\": 1, \"27\": 1, \"14\": 1, \"1\": 2, \"31\": 1, \"47\": 4, \"57\": 3, \"52\": 5, \"17\": 2}, \"36\": {\"51\": 22, \"2\": 2, \"36\": 50, \"33\": 1, \"10\": 1, \"29\": 4, \"17\": 1, \"11\": 1, \"9\": 2, \"8\": 1, \"54\": 1, \"42\": 1, \"35\": 2, \"48\": 1, \"43\": 1, \"27\": 4, \"16\": 1, \"55\": 2, \"57\": 2}, \"11\": {\"11\": 108, \"18\": 1, \"15\": 14, \"10\": 2, \"25\": 5, \"19\": 1, \"16\": 8, \"53\": 2, \"28\": 2, \"14\": 1, \"23\": 2}, \"57\": {\"57\": 104, \"9\": 2, \"33\": 3, \"1\": 7, \"13\": 1, \"54\": 2, \"27\": 1, \"29\": 1, \"48\": 1, \"20\": 2}, \"9\": {\"9\": 82, \"33\": 1, \"8\": 6, \"29\": 9, \"48\": 8, \"57\": 6, \"4\": 7, \"0\": 1, \"25\": 1, \"40\": 3, \"36\": 2, \"30\": 1, \"1\": 2, \"27\": 1}, \"25\": {\"25\": 96, \"28\": 5, \"18\": 4, \"11\": 4, \"15\": 6, \"16\": 13, \"54\": 2}, \"16\": {\"33\": 1, \"16\": 80, \"23\": 3, \"15\": 19, \"54\": 1, \"10\": 1, \"11\": 12, \"25\": 3, \"28\": 2, \"43\": 2, \"51\": 2}, \"53\": {\"33\": 1, \"53\": 95, \"10\": 1, \"16\": 1, \"31\": 2, \"19\": 3, \"18\": 3, \"54\": 3, \"14\": 1, \"23\": 7, \"25\": 1}, \"33\": {\"57\": 4, \"33\": 22, \"28\": 1, \"17\": 1}, \"51\": {\"51\": 114, \"36\": 4, \"54\": 2, \"8\": 2, \"16\": 1, \"24\": 1, \"27\": 2, \"29\": 2}, \"44\": {\"48\": 1, \"44\": 74, \"40\": 1, \"45\": 2, \"1\": 1, \"9\": 1, \"50\": 3, \"12\": 2, \"21\": 1, \"3\": 2}, \"48\": {\"20\": 17, \"48\": 67, \"4\": 7, \"29\": 4, \"1\": 6, \"27\": 1, \"36\": 1, \"40\": 3, \"9\": 2, \"47\": 1, \"2\": 1, \"8\": 3, \"19\": 1}, \"6\": {\"6\": 88}, \"23\": {\"23\": 115, \"43\": 2, \"55\": 1, \"19\": 2, \"34\": 2, \"24\": 4, \"53\": 5, \"15\": 1, \"37\": 1, \"54\": 4, \"18\": 3, \"16\": 1, \"42\": 1, \"13\": 1, \"27\": 1}, \"1\": {\"1\": 62, \"48\": 8, \"27\": 3, \"52\": 2, \"47\": 6, \"54\": 1, \"24\": 1, \"20\": 4, \"4\": 2, \"30\": 2, \"29\": 1, \"57\": 4, \"8\": 1, \"9\": 2, \"15\": 1}, \"17\": {\"34\": 2, \"17\": 80, \"57\": 1, \"15\": 1, \"55\": 5, \"54\": 1, \"51\": 10, \"25\": 1, \"35\": 2, \"36\": 2, \"48\": 1, \"18\": 1, \"29\": 1}, \"21\": {\"21\": 106, \"46\": 7, \"3\": 5, \"40\": 2, \"5\": 2}, \"14\": {\"33\": 5, \"39\": 2, \"14\": 21, \"7\": 3, \"57\": 3, \"54\": 1, \"13\": 1, \"17\": 1, \"12\": 1, \"20\": 1, \"32\": 1}, \"55\": {\"55\": 116, \"37\": 6, \"36\": 3, \"43\": 7, \"51\": 3, \"10\": 1, \"35\": 2, \"34\": 1, \"17\": 2, \"23\": 1, \"13\": 2}, \"41\": {\"41\": 22, \"4\": 1, \"47\": 2, \"48\": 1, \"0\": 1, \"19\": 1}, \"3\": {\"3\": 137, \"5\": 1}, \"38\": {\"38\": 21, \"2\": 3, \"27\": 4}, \"2\": {\"2\": 21, \"37\": 1, \"39\": 1, \"38\": 1, \"42\": 2, \"51\": 1, \"34\": 2, \"36\": 2, \"1\": 1}, \"8\": {\"8\": 77, \"4\": 4, \"32\": 1, \"1\": 6, \"53\": 1, \"9\": 11, \"29\": 14, \"27\": 20, \"23\": 1, \"16\": 1, \"40\": 1, \"42\": 1, \"57\": 2, \"55\": 1, \"13\": 1}, \"37\": {\"49\": 2, \"37\": 19, \"43\": 4, \"26\": 1, \"57\": 2}, \"45\": {\"5\": 1, \"44\": 2, \"45\": 54, \"12\": 3}, \"42\": {\"42\": 18, \"2\": 2, \"34\": 3, \"8\": 1, \"19\": 1, \"35\": 1, \"55\": 2}, \"24\": {\"49\": 2, \"31\": 2, \"24\": 77, \"43\": 7, \"51\": 3, \"10\": 1, \"25\": 1, \"23\": 5, \"19\": 1, \"55\": 3, \"17\": 1, \"8\": 1}, \"15\": {\"15\": 95, \"32\": 1, \"10\": 3, \"16\": 13, \"19\": 3, \"24\": 1, \"27\": 1, \"18\": 1, \"11\": 10, \"53\": 5, \"25\": 2, \"28\": 1}, \"0\": {\"0\": 113, \"47\": 2, \"52\": 6, \"22\": 1, \"27\": 1, \"51\": 1}, \"47\": {\"47\": 71, \"52\": 6, \"20\": 5, \"1\": 3, \"0\": 3, \"22\": 2, \"30\": 1, \"40\": 1}, \"19\": {\"19\": 63, \"23\": 11, \"36\": 1, \"53\": 15, \"16\": 6, \"29\": 2, \"9\": 1, \"54\": 5, \"11\": 4, \"25\": 2, \"28\": 2, \"10\": 2, \"26\": 1, \"15\": 1, \"43\": 1, \"55\": 2, \"18\": 1}}}, \"per_domain_accuracy\": {\"O_14\": {\"accuracy\": 0.7299479166666667, \"source?\": true}, \"O_20\": {\"accuracy\": 0.60078125, \"source?\": true}, \"O_50\": {\"accuracy\": 0.34479166666666666, \"source?\": true}, \"O_26\": {\"accuracy\": 0.5580729166666667, \"source?\": true}, \"O_32\": {\"accuracy\": 0.44895833333333335, \"source?\": true}, \"O_44\": {\"accuracy\": 0.29244791666666664, \"source?\": true}, \"O_8\": {\"accuracy\": 0.7109375, \"source?\": true}, \"O_38\": {\"accuracy\": 0.37526041666666665, \"source?\": true}, \"C_4\": {\"accuracy\": 0.7548652694610778, \"source?\": false}, \"C_5\": {\"accuracy\": 0.7676326815642458, \"source?\": false}, \"C_2\": {\"accuracy\": 0.7616071428571428, \"source?\": false}, \"C_1\": {\"accuracy\": 0.7975543478260869, \"source?\": false}, \"C_3\": {\"accuracy\": 0.7549632352941177, \"source?\": false}}}, \"history\": {\"epoch_indices\": [1, 2, 3, 4, 5], \"train_label_loss\": [1.1321731251908378, 1.2449571196810298, 0.43409396442030335, 0.3590652764492136, 0.3406317716636251], \"source_val_label_loss\": [8.506275177001953, 0.6196081638336182, 0.3875677287578583, 0.3750399351119995, 0.33746492862701416], \"target_val_label_loss\": [145.3328399658203, 476.09161376953125, 327.3865661621094, 335.2154541015625, 475.9945373535156], \"source_val_acc_label\": [0.5076497395833334, 0.7810546875, 0.8681966145833333, 0.86767578125, 0.8830729166666667], \"target_val_acc_label\": [0.7678214285714285, 0.6283928571428572, 0.6407142857142857, 0.61325, 0.5696071428571429]}, \"dataset_metrics\": {\"source\": {\"train\": {\"n_unique_x\": 179200, \"n_unique_y\": 16, \"n_batch/episode\": 6720}, \"val\": {\"n_unique_x\": 38400, \"n_unique_y\": 16, \"n_batch/episode\": 960}, \"test\": {\"n_unique_x\": 38400, \"n_unique_y\": 16, \"n_batch/episode\": 960}}, \"target\": {\"train\": {\"n_unique_x\": 175158, \"n_unique_y\": 58, \"n_batch/episode\": 6317}, \"val\": {\"n_unique_x\": 37216, \"n_unique_y\": 58, \"n_batch/episode\": 875}, \"test\": {\"n_unique_x\": 37596, \"n_unique_y\": 58, \"n_batch/episode\": 886}}}}'"
      ]
     },
     "execution_count": 29,
     "metadata": {},
     "output_type": "execute_result"
    }
   ],
   "source": [
    "json.dumps(experiment)"
   ]
  }
 ],
 "metadata": {
  "celltoolbar": "Tags",
  "kernelspec": {
   "display_name": "Python 3 (ipykernel)",
   "language": "python",
   "name": "python3"
  },
  "language_info": {
   "codemirror_mode": {
    "name": "ipython",
    "version": 3
   },
   "file_extension": ".py",
   "mimetype": "text/x-python",
   "name": "python",
   "nbconvert_exporter": "python",
   "pygments_lexer": "ipython3",
   "version": "3.8.12"
  },
  "papermill": {
   "default_parameters": {},
   "duration": 985.401553,
   "end_time": "2022-03-28T10:28:27.798154",
   "environment_variables": {},
   "exception": null,
   "input_path": "/root/csc500-main/csc500-notebooks/templates/tl_ptn_template.ipynb",
   "output_path": "trial.ipynb",
   "parameters": {
    "parameters": {
     "BEST_MODEL_PATH": "./best_model.pth",
     "NUM_LOGS_PER_EPOCH": 10,
     "criteria_for_best": "target_accuracy",
     "dataset_seed": 420,
     "datasets": [
      {
       "domain_prefix": "C_",
       "domains": [
        1,
        2,
        3,
        4,
        5
       ],
       "episode_transforms": [],
       "labels": [
        "1-10.",
        "1-11.",
        "1-15.",
        "1-16.",
        "1-17.",
        "1-18.",
        "1-19.",
        "10-4.",
        "10-7.",
        "11-1.",
        "11-14.",
        "11-17.",
        "11-20.",
        "11-7.",
        "13-20.",
        "13-8.",
        "14-10.",
        "14-11.",
        "14-14.",
        "14-7.",
        "15-1.",
        "15-20.",
        "16-1.",
        "16-16.",
        "17-10.",
        "17-11.",
        "17-2.",
        "19-1.",
        "19-16.",
        "19-19.",
        "19-20.",
        "19-3.",
        "2-10.",
        "2-11.",
        "2-17.",
        "2-18.",
        "2-20.",
        "2-3.",
        "2-4.",
        "2-5.",
        "2-6.",
        "2-7.",
        "2-8.",
        "3-13.",
        "3-18.",
        "3-3.",
        "4-1.",
        "4-10.",
        "4-11.",
        "4-19.",
        "5-5.",
        "6-15.",
        "7-10.",
        "7-14.",
        "8-18.",
        "8-20.",
        "8-3.",
        "8-8."
       ],
       "num_examples_per_domain_per_label": -1,
       "pickle_path": "/root/csc500-main/datasets/cores.stratified_ds.2022A.pkl",
       "source_or_target_dataset": "target",
       "x_transforms": [
        "jitter_256_10",
        "lowpass_+/-10MHz",
        "take_200"
       ]
      },
      {
       "domain_prefix": "O_",
       "domains": [
        32,
        38,
        8,
        44,
        14,
        50,
        20,
        26
       ],
       "episode_transforms": [],
       "labels": [
        "3123D52",
        "3123D65",
        "3123D79",
        "3123D80",
        "3123D54",
        "3123D70",
        "3123D7B",
        "3123D89",
        "3123D58",
        "3123D76",
        "3123D7D",
        "3123EFE",
        "3123D64",
        "3123D78",
        "3123D7E",
        "3124E4A"
       ],
       "num_examples_per_domain_per_label": 2000,
       "pickle_path": "/root/csc500-main/datasets/oracle.Run1_framed_2000Examples_stratified_ds.2022A.pkl",
       "source_or_target_dataset": "source",
       "x_transforms": [
        "jitter_256_10",
        "take_200",
        "resample_20Msps_to_25Msps"
       ]
      }
     ],
     "device": "cuda",
     "experiment_name": "tl_3-jitter10v2:oracle.run1.framed -> cores",
     "lr": 0.0001,
     "n_epoch": 50,
     "n_query": 2,
     "n_shot": 3,
     "n_way": 16,
     "patience": 3,
     "seed": 420,
     "test_k_factor": 2,
     "torch_default_dtype": "torch.float32",
     "train_k_factor": 3,
     "val_k_factor": 2,
     "x_net": [
      {
       "class": "nnReshape",
       "kargs": {
        "shape": [
         -1,
         1,
         2,
         256
        ]
       }
      },
      {
       "class": "Conv2d",
       "kargs": {
        "bias": false,
        "in_channels": 1,
        "kernel_size": [
         1,
         7
        ],
        "out_channels": 256,
        "padding": [
         0,
         3
        ]
       }
      },
      {
       "class": "ReLU",
       "kargs": {
        "inplace": true
       }
      },
      {
       "class": "BatchNorm2d",
       "kargs": {
        "num_features": 256
       }
      },
      {
       "class": "Conv2d",
       "kargs": {
        "bias": true,
        "in_channels": 256,
        "kernel_size": [
         2,
         7
        ],
        "out_channels": 80,
        "padding": [
         0,
         3
        ]
       }
      },
      {
       "class": "ReLU",
       "kargs": {
        "inplace": true
       }
      },
      {
       "class": "BatchNorm2d",
       "kargs": {
        "num_features": 80
       }
      },
      {
       "class": "Flatten",
       "kargs": {}
      },
      {
       "class": "Linear",
       "kargs": {
        "in_features": 20480,
        "out_features": 256
       }
      },
      {
       "class": "ReLU",
       "kargs": {
        "inplace": true
       }
      },
      {
       "class": "BatchNorm1d",
       "kargs": {
        "num_features": 256
       }
      },
      {
       "class": "Linear",
       "kargs": {
        "in_features": 256,
        "out_features": 256
       }
      }
     ],
     "x_shape": [
      2,
      256
     ]
    }
   },
   "start_time": "2022-03-28T10:12:02.396601",
   "version": "2.3.4"
  }
 },
 "nbformat": 4,
 "nbformat_minor": 5
}