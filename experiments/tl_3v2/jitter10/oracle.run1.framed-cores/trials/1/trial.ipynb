{
 "cells": [
  {
   "cell_type": "markdown",
   "id": "9fea5f46",
   "metadata": {
    "papermill": {
     "duration": 0.044025,
     "end_time": "2022-03-28T09:29:42.110213",
     "exception": false,
     "start_time": "2022-03-28T09:29:42.066188",
     "status": "completed"
    },
    "tags": []
   },
   "source": [
    "# Transfer Learning Template"
   ]
  },
  {
   "cell_type": "code",
   "execution_count": 1,
   "id": "0902182a",
   "metadata": {
    "execution": {
     "iopub.execute_input": "2022-03-28T09:29:42.169060Z",
     "iopub.status.busy": "2022-03-28T09:29:42.156815Z",
     "iopub.status.idle": "2022-03-28T09:29:44.011264Z",
     "shell.execute_reply": "2022-03-28T09:29:44.010794Z"
    },
    "papermill": {
     "duration": 1.881745,
     "end_time": "2022-03-28T09:29:44.011377",
     "exception": false,
     "start_time": "2022-03-28T09:29:42.129632",
     "status": "completed"
    },
    "tags": []
   },
   "outputs": [],
   "source": [
    "%load_ext autoreload\n",
    "%autoreload 2\n",
    "%matplotlib inline\n",
    "\n",
    "    \n",
    "import os, json, sys, time, random\n",
    "import numpy as np\n",
    "import torch\n",
    "from torch.optim import Adam\n",
    "from  easydict import EasyDict\n",
    "import matplotlib.pyplot as plt\n",
    "\n",
    "from steves_models.steves_ptn import Steves_Prototypical_Network\n",
    "\n",
    "from steves_utils.lazy_iterable_wrapper import Lazy_Iterable_Wrapper\n",
    "from steves_utils.iterable_aggregator import Iterable_Aggregator\n",
    "from steves_utils.ptn_train_eval_test_jig import  PTN_Train_Eval_Test_Jig\n",
    "from steves_utils.torch_sequential_builder import build_sequential\n",
    "from steves_utils.torch_utils import get_dataset_metrics, ptn_confusion_by_domain_over_dataloader\n",
    "from steves_utils.utils_v2 import (per_domain_accuracy_from_confusion, get_datasets_base_path)\n",
    "from steves_utils.PTN.utils import independent_accuracy_assesment\n",
    "\n",
    "from torch.utils.data import DataLoader\n",
    "\n",
    "from steves_utils.stratified_dataset.episodic_accessor import Episodic_Accessor_Factory\n",
    "\n",
    "from steves_utils.ptn_do_report import (\n",
    "    get_loss_curve,\n",
    "    get_results_table,\n",
    "    get_parameters_table,\n",
    "    get_domain_accuracies,\n",
    ")\n",
    "\n",
    "from steves_utils.transforms import get_chained_transform"
   ]
  },
  {
   "cell_type": "markdown",
   "id": "41c840b4",
   "metadata": {
    "papermill": {
     "duration": 0.018934,
     "end_time": "2022-03-28T09:29:44.049968",
     "exception": false,
     "start_time": "2022-03-28T09:29:44.031034",
     "status": "completed"
    },
    "tags": []
   },
   "source": [
    "# Allowed Parameters\n",
    "These are allowed parameters, not defaults\n",
    "Each of these values need to be present in the injected parameters (the notebook will raise an exception if they are not present)\n",
    "\n",
    "Papermill uses the cell tag \"parameters\" to inject the real parameters below this cell.\n",
    "Enable tags to see what I mean"
   ]
  },
  {
   "cell_type": "code",
   "execution_count": 2,
   "id": "fd44eb83",
   "metadata": {
    "execution": {
     "iopub.execute_input": "2022-03-28T09:29:44.093580Z",
     "iopub.status.busy": "2022-03-28T09:29:44.092991Z",
     "iopub.status.idle": "2022-03-28T09:29:44.115926Z",
     "shell.execute_reply": "2022-03-28T09:29:44.115085Z"
    },
    "papermill": {
     "duration": 0.047055,
     "end_time": "2022-03-28T09:29:44.116081",
     "exception": false,
     "start_time": "2022-03-28T09:29:44.069026",
     "status": "completed"
    },
    "tags": []
   },
   "outputs": [],
   "source": [
    "required_parameters = {\n",
    "    \"experiment_name\",\n",
    "    \"lr\",\n",
    "    \"device\",\n",
    "    \"seed\",\n",
    "    \"dataset_seed\",\n",
    "    \"n_shot\",\n",
    "    \"n_query\",\n",
    "    \"n_way\",\n",
    "    \"train_k_factor\",\n",
    "    \"val_k_factor\",\n",
    "    \"test_k_factor\",\n",
    "    \"n_epoch\",\n",
    "    \"patience\",\n",
    "    \"criteria_for_best\",\n",
    "    \"x_net\",\n",
    "    \"datasets\",\n",
    "    \"torch_default_dtype\",\n",
    "    \"NUM_LOGS_PER_EPOCH\",\n",
    "    \"BEST_MODEL_PATH\",\n",
    "    \"x_shape\",\n",
    "}"
   ]
  },
  {
   "cell_type": "code",
   "execution_count": 3,
   "id": "fa3f0049",
   "metadata": {
    "execution": {
     "iopub.execute_input": "2022-03-28T09:29:44.179946Z",
     "iopub.status.busy": "2022-03-28T09:29:44.179062Z",
     "iopub.status.idle": "2022-03-28T09:29:44.199096Z",
     "shell.execute_reply": "2022-03-28T09:29:44.198353Z"
    },
    "papermill": {
     "duration": 0.054958,
     "end_time": "2022-03-28T09:29:44.199251",
     "exception": false,
     "start_time": "2022-03-28T09:29:44.144293",
     "status": "completed"
    },
    "tags": [
     "parameters"
    ]
   },
   "outputs": [],
   "source": [
    "from steves_utils.CORES.utils import (\n",
    "    ALL_NODES,\n",
    "    ALL_NODES_MINIMUM_1000_EXAMPLES,\n",
    "    ALL_DAYS\n",
    ")\n",
    "\n",
    "from steves_utils.ORACLE.utils_v2 import (\n",
    "    ALL_DISTANCES_FEET_NARROWED,\n",
    "    ALL_RUNS,\n",
    "    ALL_SERIAL_NUMBERS,\n",
    ")\n",
    "\n",
    "standalone_parameters = {}\n",
    "standalone_parameters[\"experiment_name\"] = \"STANDALONE PTN\"\n",
    "standalone_parameters[\"lr\"] = 0.001\n",
    "standalone_parameters[\"device\"] = \"cuda\"\n",
    "\n",
    "standalone_parameters[\"seed\"] = 1337\n",
    "standalone_parameters[\"dataset_seed\"] = 1337\n",
    "\n",
    "standalone_parameters[\"n_way\"] = 8\n",
    "standalone_parameters[\"n_shot\"] = 3\n",
    "standalone_parameters[\"n_query\"]  = 2\n",
    "standalone_parameters[\"train_k_factor\"] = 1\n",
    "standalone_parameters[\"val_k_factor\"] = 2\n",
    "standalone_parameters[\"test_k_factor\"] = 2\n",
    "\n",
    "\n",
    "standalone_parameters[\"n_epoch\"] = 50\n",
    "\n",
    "standalone_parameters[\"patience\"] = 10\n",
    "standalone_parameters[\"criteria_for_best\"] = \"source_loss\"\n",
    "\n",
    "standalone_parameters[\"datasets\"] = [\n",
    "    {\n",
    "        \"labels\": ALL_SERIAL_NUMBERS,\n",
    "        \"domains\": ALL_DISTANCES_FEET_NARROWED,\n",
    "        \"num_examples_per_domain_per_label\": 100,\n",
    "        \"pickle_path\": os.path.join(get_datasets_base_path(), \"oracle.Run1_framed_2000Examples_stratified_ds.2022A.pkl\"),\n",
    "        \"source_or_target_dataset\": \"source\",\n",
    "        \"x_transforms\": [\"unit_mag\", \"minus_two\"],\n",
    "        \"episode_transforms\": [],\n",
    "        \"domain_prefix\": \"ORACLE_\"\n",
    "    },\n",
    "    {\n",
    "        \"labels\": ALL_NODES,\n",
    "        \"domains\": ALL_DAYS,\n",
    "        \"num_examples_per_domain_per_label\": 100,\n",
    "        \"pickle_path\": os.path.join(get_datasets_base_path(), \"cores.stratified_ds.2022A.pkl\"),\n",
    "        \"source_or_target_dataset\": \"target\",\n",
    "        \"x_transforms\": [\"unit_power\", \"times_zero\"],\n",
    "        \"episode_transforms\": [],\n",
    "        \"domain_prefix\": \"CORES_\"\n",
    "    }   \n",
    "]\n",
    "\n",
    "standalone_parameters[\"torch_default_dtype\"] = \"torch.float32\" \n",
    "\n",
    "\n",
    "\n",
    "standalone_parameters[\"x_net\"] =     [\n",
    "    {\"class\": \"nnReshape\", \"kargs\": {\"shape\":[-1, 1, 2, 256]}},\n",
    "    {\"class\": \"Conv2d\", \"kargs\": { \"in_channels\":1, \"out_channels\":256, \"kernel_size\":(1,7), \"bias\":False, \"padding\":(0,3), },},\n",
    "    {\"class\": \"ReLU\", \"kargs\": {\"inplace\": True}},\n",
    "    {\"class\": \"BatchNorm2d\", \"kargs\": {\"num_features\":256}},\n",
    "\n",
    "    {\"class\": \"Conv2d\", \"kargs\": { \"in_channels\":256, \"out_channels\":80, \"kernel_size\":(2,7), \"bias\":True, \"padding\":(0,3), },},\n",
    "    {\"class\": \"ReLU\", \"kargs\": {\"inplace\": True}},\n",
    "    {\"class\": \"BatchNorm2d\", \"kargs\": {\"num_features\":80}},\n",
    "    {\"class\": \"Flatten\", \"kargs\": {}},\n",
    "\n",
    "    {\"class\": \"Linear\", \"kargs\": {\"in_features\": 80*256, \"out_features\": 256}}, # 80 units per IQ pair\n",
    "    {\"class\": \"ReLU\", \"kargs\": {\"inplace\": True}},\n",
    "    {\"class\": \"BatchNorm1d\", \"kargs\": {\"num_features\":256}},\n",
    "\n",
    "    {\"class\": \"Linear\", \"kargs\": {\"in_features\": 256, \"out_features\": 256}},\n",
    "]\n",
    "\n",
    "# Parameters relevant to results\n",
    "# These parameters will basically never need to change\n",
    "standalone_parameters[\"NUM_LOGS_PER_EPOCH\"] = 10\n",
    "standalone_parameters[\"BEST_MODEL_PATH\"] = \"./best_model.pth\"\n",
    "\n",
    "\n",
    "\n",
    "\n"
   ]
  },
  {
   "cell_type": "code",
   "execution_count": 4,
   "id": "b63aecde",
   "metadata": {
    "execution": {
     "iopub.execute_input": "2022-03-28T09:29:44.260523Z",
     "iopub.status.busy": "2022-03-28T09:29:44.259689Z",
     "iopub.status.idle": "2022-03-28T09:29:44.279673Z",
     "shell.execute_reply": "2022-03-28T09:29:44.278941Z"
    },
    "papermill": {
     "duration": 0.056084,
     "end_time": "2022-03-28T09:29:44.279827",
     "exception": false,
     "start_time": "2022-03-28T09:29:44.223743",
     "status": "completed"
    },
    "tags": [
     "injected-parameters"
    ]
   },
   "outputs": [],
   "source": [
    "# Parameters\n",
    "parameters = {\n",
    "    \"experiment_name\": \"tl_3-jitter10v2:oracle.run1.framed -> cores\",\n",
    "    \"device\": \"cuda\",\n",
    "    \"lr\": 0.0001,\n",
    "    \"x_shape\": [2, 256],\n",
    "    \"n_shot\": 3,\n",
    "    \"n_query\": 2,\n",
    "    \"train_k_factor\": 3,\n",
    "    \"val_k_factor\": 2,\n",
    "    \"test_k_factor\": 2,\n",
    "    \"torch_default_dtype\": \"torch.float32\",\n",
    "    \"n_epoch\": 50,\n",
    "    \"patience\": 3,\n",
    "    \"criteria_for_best\": \"target_accuracy\",\n",
    "    \"x_net\": [\n",
    "        {\"class\": \"nnReshape\", \"kargs\": {\"shape\": [-1, 1, 2, 256]}},\n",
    "        {\n",
    "            \"class\": \"Conv2d\",\n",
    "            \"kargs\": {\n",
    "                \"in_channels\": 1,\n",
    "                \"out_channels\": 256,\n",
    "                \"kernel_size\": [1, 7],\n",
    "                \"bias\": False,\n",
    "                \"padding\": [0, 3],\n",
    "            },\n",
    "        },\n",
    "        {\"class\": \"ReLU\", \"kargs\": {\"inplace\": True}},\n",
    "        {\"class\": \"BatchNorm2d\", \"kargs\": {\"num_features\": 256}},\n",
    "        {\n",
    "            \"class\": \"Conv2d\",\n",
    "            \"kargs\": {\n",
    "                \"in_channels\": 256,\n",
    "                \"out_channels\": 80,\n",
    "                \"kernel_size\": [2, 7],\n",
    "                \"bias\": True,\n",
    "                \"padding\": [0, 3],\n",
    "            },\n",
    "        },\n",
    "        {\"class\": \"ReLU\", \"kargs\": {\"inplace\": True}},\n",
    "        {\"class\": \"BatchNorm2d\", \"kargs\": {\"num_features\": 80}},\n",
    "        {\"class\": \"Flatten\", \"kargs\": {}},\n",
    "        {\"class\": \"Linear\", \"kargs\": {\"in_features\": 20480, \"out_features\": 256}},\n",
    "        {\"class\": \"ReLU\", \"kargs\": {\"inplace\": True}},\n",
    "        {\"class\": \"BatchNorm1d\", \"kargs\": {\"num_features\": 256}},\n",
    "        {\"class\": \"Linear\", \"kargs\": {\"in_features\": 256, \"out_features\": 256}},\n",
    "    ],\n",
    "    \"NUM_LOGS_PER_EPOCH\": 10,\n",
    "    \"BEST_MODEL_PATH\": \"./best_model.pth\",\n",
    "    \"n_way\": 16,\n",
    "    \"datasets\": [\n",
    "        {\n",
    "            \"labels\": [\n",
    "                \"1-10.\",\n",
    "                \"1-11.\",\n",
    "                \"1-15.\",\n",
    "                \"1-16.\",\n",
    "                \"1-17.\",\n",
    "                \"1-18.\",\n",
    "                \"1-19.\",\n",
    "                \"10-4.\",\n",
    "                \"10-7.\",\n",
    "                \"11-1.\",\n",
    "                \"11-14.\",\n",
    "                \"11-17.\",\n",
    "                \"11-20.\",\n",
    "                \"11-7.\",\n",
    "                \"13-20.\",\n",
    "                \"13-8.\",\n",
    "                \"14-10.\",\n",
    "                \"14-11.\",\n",
    "                \"14-14.\",\n",
    "                \"14-7.\",\n",
    "                \"15-1.\",\n",
    "                \"15-20.\",\n",
    "                \"16-1.\",\n",
    "                \"16-16.\",\n",
    "                \"17-10.\",\n",
    "                \"17-11.\",\n",
    "                \"17-2.\",\n",
    "                \"19-1.\",\n",
    "                \"19-16.\",\n",
    "                \"19-19.\",\n",
    "                \"19-20.\",\n",
    "                \"19-3.\",\n",
    "                \"2-10.\",\n",
    "                \"2-11.\",\n",
    "                \"2-17.\",\n",
    "                \"2-18.\",\n",
    "                \"2-20.\",\n",
    "                \"2-3.\",\n",
    "                \"2-4.\",\n",
    "                \"2-5.\",\n",
    "                \"2-6.\",\n",
    "                \"2-7.\",\n",
    "                \"2-8.\",\n",
    "                \"3-13.\",\n",
    "                \"3-18.\",\n",
    "                \"3-3.\",\n",
    "                \"4-1.\",\n",
    "                \"4-10.\",\n",
    "                \"4-11.\",\n",
    "                \"4-19.\",\n",
    "                \"5-5.\",\n",
    "                \"6-15.\",\n",
    "                \"7-10.\",\n",
    "                \"7-14.\",\n",
    "                \"8-18.\",\n",
    "                \"8-20.\",\n",
    "                \"8-3.\",\n",
    "                \"8-8.\",\n",
    "            ],\n",
    "            \"domains\": [1, 2, 3, 4, 5],\n",
    "            \"num_examples_per_domain_per_label\": -1,\n",
    "            \"pickle_path\": \"/root/csc500-main/datasets/cores.stratified_ds.2022A.pkl\",\n",
    "            \"source_or_target_dataset\": \"target\",\n",
    "            \"x_transforms\": [\n",
    "                \"unit_mag\",\n",
    "                \"jitter_256_10\",\n",
    "                \"lowpass_+/-10MHz\",\n",
    "                \"take_200\",\n",
    "            ],\n",
    "            \"episode_transforms\": [],\n",
    "            \"domain_prefix\": \"C_\",\n",
    "        },\n",
    "        {\n",
    "            \"labels\": [\n",
    "                \"3123D52\",\n",
    "                \"3123D65\",\n",
    "                \"3123D79\",\n",
    "                \"3123D80\",\n",
    "                \"3123D54\",\n",
    "                \"3123D70\",\n",
    "                \"3123D7B\",\n",
    "                \"3123D89\",\n",
    "                \"3123D58\",\n",
    "                \"3123D76\",\n",
    "                \"3123D7D\",\n",
    "                \"3123EFE\",\n",
    "                \"3123D64\",\n",
    "                \"3123D78\",\n",
    "                \"3123D7E\",\n",
    "                \"3124E4A\",\n",
    "            ],\n",
    "            \"domains\": [32, 38, 8, 44, 14, 50, 20, 26],\n",
    "            \"num_examples_per_domain_per_label\": 2000,\n",
    "            \"pickle_path\": \"/root/csc500-main/datasets/oracle.Run1_framed_2000Examples_stratified_ds.2022A.pkl\",\n",
    "            \"source_or_target_dataset\": \"source\",\n",
    "            \"x_transforms\": [\n",
    "                \"unit_mag\",\n",
    "                \"jitter_256_10\",\n",
    "                \"take_200\",\n",
    "                \"resample_20Msps_to_25Msps\",\n",
    "            ],\n",
    "            \"episode_transforms\": [],\n",
    "            \"domain_prefix\": \"O_\",\n",
    "        },\n",
    "    ],\n",
    "    \"seed\": 1337,\n",
    "    \"dataset_seed\": 1337,\n",
    "}\n"
   ]
  },
  {
   "cell_type": "code",
   "execution_count": 5,
   "id": "8fa1cc33",
   "metadata": {
    "execution": {
     "iopub.execute_input": "2022-03-28T09:29:44.333526Z",
     "iopub.status.busy": "2022-03-28T09:29:44.332005Z",
     "iopub.status.idle": "2022-03-28T09:29:44.351921Z",
     "shell.execute_reply": "2022-03-28T09:29:44.351157Z"
    },
    "papermill": {
     "duration": 0.047903,
     "end_time": "2022-03-28T09:29:44.352074",
     "exception": false,
     "start_time": "2022-03-28T09:29:44.304171",
     "status": "completed"
    },
    "tags": []
   },
   "outputs": [],
   "source": [
    "# Set this to True if you want to run this template directly\n",
    "STANDALONE = False\n",
    "if STANDALONE:\n",
    "    print(\"parameters not injected, running with standalone_parameters\")\n",
    "    parameters = standalone_parameters\n",
    "\n",
    "if not 'parameters' in locals() and not 'parameters' in globals():\n",
    "    raise Exception(\"Parameter injection failed\")\n",
    "\n",
    "#Use an easy dict for all the parameters\n",
    "p = EasyDict(parameters)\n",
    "\n",
    "if \"x_shape\" not in p:\n",
    "    p.x_shape = [2,256] # Default to this if we dont supply x_shape\n",
    "\n",
    "\n",
    "supplied_keys = set(p.keys())\n",
    "\n",
    "if  supplied_keys != required_parameters:\n",
    "    print(\"Parameters are incorrect\")\n",
    "    if len(supplied_keys - required_parameters)>0: print(\"Shouldn't have:\", str(supplied_keys - required_parameters))\n",
    "    if len(required_parameters - supplied_keys)>0: print(\"Need to have:\", str(required_parameters - supplied_keys))\n",
    "    raise RuntimeError(\"Parameters are incorrect\")"
   ]
  },
  {
   "cell_type": "code",
   "execution_count": 6,
   "id": "3a028d58",
   "metadata": {
    "execution": {
     "iopub.execute_input": "2022-03-28T09:29:44.399816Z",
     "iopub.status.busy": "2022-03-28T09:29:44.399437Z",
     "iopub.status.idle": "2022-03-28T09:29:44.422287Z",
     "shell.execute_reply": "2022-03-28T09:29:44.421496Z"
    },
    "papermill": {
     "duration": 0.046175,
     "end_time": "2022-03-28T09:29:44.422439",
     "exception": false,
     "start_time": "2022-03-28T09:29:44.376264",
     "status": "completed"
    },
    "tags": []
   },
   "outputs": [],
   "source": [
    "###################################\n",
    "# Set the RNGs and make it all deterministic\n",
    "###################################\n",
    "np.random.seed(p.seed)\n",
    "random.seed(p.seed)\n",
    "torch.manual_seed(p.seed)\n",
    "\n",
    "torch.use_deterministic_algorithms(True) "
   ]
  },
  {
   "cell_type": "code",
   "execution_count": 7,
   "id": "b691acf6",
   "metadata": {
    "execution": {
     "iopub.execute_input": "2022-03-28T09:29:44.472254Z",
     "iopub.status.busy": "2022-03-28T09:29:44.471138Z",
     "iopub.status.idle": "2022-03-28T09:29:44.490961Z",
     "shell.execute_reply": "2022-03-28T09:29:44.490172Z"
    },
    "papermill": {
     "duration": 0.043899,
     "end_time": "2022-03-28T09:29:44.491111",
     "exception": false,
     "start_time": "2022-03-28T09:29:44.447212",
     "status": "completed"
    },
    "tags": []
   },
   "outputs": [],
   "source": [
    "###########################################\n",
    "# The stratified datasets honor this\n",
    "###########################################\n",
    "torch.set_default_dtype(eval(p.torch_default_dtype))"
   ]
  },
  {
   "cell_type": "code",
   "execution_count": 8,
   "id": "b5fba671",
   "metadata": {
    "execution": {
     "iopub.execute_input": "2022-03-28T09:29:44.544467Z",
     "iopub.status.busy": "2022-03-28T09:29:44.543501Z",
     "iopub.status.idle": "2022-03-28T09:29:44.599303Z",
     "shell.execute_reply": "2022-03-28T09:29:44.598589Z"
    },
    "papermill": {
     "duration": 0.079268,
     "end_time": "2022-03-28T09:29:44.599457",
     "exception": false,
     "start_time": "2022-03-28T09:29:44.520189",
     "status": "completed"
    },
    "tags": []
   },
   "outputs": [],
   "source": [
    "###################################\n",
    "# Build the network(s)\n",
    "# Note: It's critical to do this AFTER setting the RNG\n",
    "###################################\n",
    "x_net = build_sequential(p.x_net)"
   ]
  },
  {
   "cell_type": "code",
   "execution_count": 9,
   "id": "5d7e61cc",
   "metadata": {
    "execution": {
     "iopub.execute_input": "2022-03-28T09:29:44.648775Z",
     "iopub.status.busy": "2022-03-28T09:29:44.648047Z",
     "iopub.status.idle": "2022-03-28T09:29:44.674838Z",
     "shell.execute_reply": "2022-03-28T09:29:44.674042Z"
    },
    "papermill": {
     "duration": 0.050854,
     "end_time": "2022-03-28T09:29:44.674991",
     "exception": false,
     "start_time": "2022-03-28T09:29:44.624137",
     "status": "completed"
    },
    "tags": []
   },
   "outputs": [],
   "source": [
    "start_time_secs = time.time()"
   ]
  },
  {
   "cell_type": "code",
   "execution_count": 10,
   "id": "c6b67dfd",
   "metadata": {
    "execution": {
     "iopub.execute_input": "2022-03-28T09:29:44.723364Z",
     "iopub.status.busy": "2022-03-28T09:29:44.722811Z",
     "iopub.status.idle": "2022-03-28T09:29:44.743785Z",
     "shell.execute_reply": "2022-03-28T09:29:44.742946Z"
    },
    "papermill": {
     "duration": 0.044095,
     "end_time": "2022-03-28T09:29:44.743941",
     "exception": false,
     "start_time": "2022-03-28T09:29:44.699846",
     "status": "completed"
    },
    "tags": []
   },
   "outputs": [],
   "source": [
    "p.domains_source = []\n",
    "p.domains_target = []\n",
    "\n",
    "\n",
    "train_original_source = []\n",
    "val_original_source   = []\n",
    "test_original_source  = []\n",
    "\n",
    "train_original_target = []\n",
    "val_original_target   = []\n",
    "test_original_target  = []"
   ]
  },
  {
   "cell_type": "code",
   "execution_count": 11,
   "id": "e3d9c3d3",
   "metadata": {
    "execution": {
     "iopub.execute_input": "2022-03-28T09:29:44.798413Z",
     "iopub.status.busy": "2022-03-28T09:29:44.796670Z",
     "iopub.status.idle": "2022-03-28T09:29:44.817831Z",
     "shell.execute_reply": "2022-03-28T09:29:44.817127Z"
    },
    "papermill": {
     "duration": 0.044973,
     "end_time": "2022-03-28T09:29:44.817983",
     "exception": false,
     "start_time": "2022-03-28T09:29:44.773010",
     "status": "completed"
    },
    "tags": []
   },
   "outputs": [],
   "source": [
    "# global_x_transform_func = lambda x: normalize(x.to(torch.get_default_dtype()), \"unit_power\") # unit_power, unit_mag\n",
    "# global_x_transform_func = lambda x: normalize(x, \"unit_power\") # unit_power, unit_mag"
   ]
  },
  {
   "cell_type": "code",
   "execution_count": 12,
   "id": "acb78fd2",
   "metadata": {
    "execution": {
     "iopub.execute_input": "2022-03-28T09:29:44.877228Z",
     "iopub.status.busy": "2022-03-28T09:29:44.876321Z",
     "iopub.status.idle": "2022-03-28T09:29:44.895911Z",
     "shell.execute_reply": "2022-03-28T09:29:44.895142Z"
    },
    "papermill": {
     "duration": 0.052138,
     "end_time": "2022-03-28T09:29:44.896065",
     "exception": false,
     "start_time": "2022-03-28T09:29:44.843927",
     "status": "completed"
    },
    "tags": []
   },
   "outputs": [],
   "source": [
    "def add_dataset(\n",
    "    labels,\n",
    "    domains,\n",
    "    pickle_path,\n",
    "    x_transforms,\n",
    "    episode_transforms,\n",
    "    domain_prefix,\n",
    "    num_examples_per_domain_per_label,\n",
    "    source_or_target_dataset:str,\n",
    "    iterator_seed=p.seed,\n",
    "    dataset_seed=p.dataset_seed,\n",
    "    n_shot=p.n_shot,\n",
    "    n_way=p.n_way,\n",
    "    n_query=p.n_query,\n",
    "    train_val_test_k_factors=(p.train_k_factor,p.val_k_factor,p.test_k_factor),\n",
    "):\n",
    "   \n",
    "    if x_transforms == []: x_transform = None\n",
    "    else: x_transform = get_chained_transform(x_transforms)\n",
    "    \n",
    "    if episode_transforms == []: episode_transform = None\n",
    "    else: raise Exception(\"episode_transforms not implemented\")\n",
    "    \n",
    "    episode_transform = lambda tup, _prefix=domain_prefix: (_prefix + str(tup[0]), tup[1])\n",
    "\n",
    "\n",
    "    eaf = Episodic_Accessor_Factory(\n",
    "        labels=labels,\n",
    "        domains=domains,\n",
    "        num_examples_per_domain_per_label=num_examples_per_domain_per_label,\n",
    "        iterator_seed=iterator_seed,\n",
    "        dataset_seed=dataset_seed,\n",
    "        n_shot=n_shot,\n",
    "        n_way=n_way,\n",
    "        n_query=n_query,\n",
    "        train_val_test_k_factors=train_val_test_k_factors,\n",
    "        pickle_path=pickle_path,\n",
    "        x_transform_func=x_transform,\n",
    "    )\n",
    "\n",
    "    train, val, test = eaf.get_train(), eaf.get_val(), eaf.get_test()\n",
    "    train = Lazy_Iterable_Wrapper(train, episode_transform)\n",
    "    val = Lazy_Iterable_Wrapper(val, episode_transform)\n",
    "    test = Lazy_Iterable_Wrapper(test, episode_transform)\n",
    "\n",
    "    if source_or_target_dataset==\"source\":\n",
    "        train_original_source.append(train)\n",
    "        val_original_source.append(val)\n",
    "        test_original_source.append(test)\n",
    "\n",
    "        p.domains_source.extend(\n",
    "            [domain_prefix + str(u) for u in domains]\n",
    "        )\n",
    "    elif source_or_target_dataset==\"target\":\n",
    "        train_original_target.append(train)\n",
    "        val_original_target.append(val)\n",
    "        test_original_target.append(test)\n",
    "        p.domains_target.extend(\n",
    "            [domain_prefix + str(u) for u in domains]\n",
    "        )\n",
    "    else:\n",
    "        raise Exception(f\"invalid source_or_target_dataset: {source_or_target_dataset}\")\n",
    "    "
   ]
  },
  {
   "cell_type": "code",
   "execution_count": 13,
   "id": "fe266617",
   "metadata": {
    "execution": {
     "iopub.execute_input": "2022-03-28T09:29:44.945963Z",
     "iopub.status.busy": "2022-03-28T09:29:44.945394Z",
     "iopub.status.idle": "2022-03-28T09:31:36.276562Z",
     "shell.execute_reply": "2022-03-28T09:31:36.275769Z"
    },
    "papermill": {
     "duration": 111.355908,
     "end_time": "2022-03-28T09:31:36.276748",
     "exception": false,
     "start_time": "2022-03-28T09:29:44.920840",
     "status": "completed"
    },
    "tags": []
   },
   "outputs": [],
   "source": [
    "for ds in p.datasets:\n",
    "    add_dataset(**ds)"
   ]
  },
  {
   "cell_type": "code",
   "execution_count": 14,
   "id": "b90d65ac",
   "metadata": {
    "execution": {
     "iopub.execute_input": "2022-03-28T09:31:36.326352Z",
     "iopub.status.busy": "2022-03-28T09:31:36.325967Z",
     "iopub.status.idle": "2022-03-28T09:31:36.350610Z",
     "shell.execute_reply": "2022-03-28T09:31:36.349889Z"
    },
    "papermill": {
     "duration": 0.048721,
     "end_time": "2022-03-28T09:31:36.350765",
     "exception": false,
     "start_time": "2022-03-28T09:31:36.302044",
     "status": "completed"
    },
    "tags": []
   },
   "outputs": [],
   "source": [
    "# from steves_utils.CORES.utils import (\n",
    "#     ALL_NODES,\n",
    "#     ALL_NODES_MINIMUM_1000_EXAMPLES,\n",
    "#     ALL_DAYS\n",
    "# )\n",
    "\n",
    "# add_dataset(\n",
    "#     labels=ALL_NODES,\n",
    "#     domains = ALL_DAYS,\n",
    "#     num_examples_per_domain_per_label=100,\n",
    "#     pickle_path=os.path.join(get_datasets_base_path(), \"cores.stratified_ds.2022A.pkl\"),\n",
    "#     source_or_target_dataset=\"target\",\n",
    "#     x_transform_func=global_x_transform_func,\n",
    "#     domain_modifier=lambda u: f\"cores_{u}\"\n",
    "# )"
   ]
  },
  {
   "cell_type": "code",
   "execution_count": 15,
   "id": "76db484d",
   "metadata": {
    "execution": {
     "iopub.execute_input": "2022-03-28T09:31:36.403582Z",
     "iopub.status.busy": "2022-03-28T09:31:36.403153Z",
     "iopub.status.idle": "2022-03-28T09:31:36.426084Z",
     "shell.execute_reply": "2022-03-28T09:31:36.425367Z"
    },
    "papermill": {
     "duration": 0.047227,
     "end_time": "2022-03-28T09:31:36.426242",
     "exception": false,
     "start_time": "2022-03-28T09:31:36.379015",
     "status": "completed"
    },
    "tags": []
   },
   "outputs": [],
   "source": [
    "# from steves_utils.ORACLE.utils_v2 import (\n",
    "#     ALL_DISTANCES_FEET,\n",
    "#     ALL_RUNS,\n",
    "#     ALL_SERIAL_NUMBERS,\n",
    "# )\n",
    "\n",
    "\n",
    "# add_dataset(\n",
    "#     labels=ALL_SERIAL_NUMBERS,\n",
    "#     domains = list(set(ALL_DISTANCES_FEET) - {2,62}),\n",
    "#     num_examples_per_domain_per_label=100,\n",
    "#     pickle_path=os.path.join(get_datasets_base_path(), \"oracle.Run2_framed_2000Examples_stratified_ds.2022A.pkl\"),\n",
    "#     source_or_target_dataset=\"source\",\n",
    "#     x_transform_func=global_x_transform_func,\n",
    "#     domain_modifier=lambda u: f\"oracle1_{u}\"\n",
    "# )\n"
   ]
  },
  {
   "cell_type": "code",
   "execution_count": 16,
   "id": "97dea9d2",
   "metadata": {
    "execution": {
     "iopub.execute_input": "2022-03-28T09:31:36.475278Z",
     "iopub.status.busy": "2022-03-28T09:31:36.474905Z",
     "iopub.status.idle": "2022-03-28T09:31:36.493368Z",
     "shell.execute_reply": "2022-03-28T09:31:36.492651Z"
    },
    "papermill": {
     "duration": 0.041247,
     "end_time": "2022-03-28T09:31:36.493523",
     "exception": false,
     "start_time": "2022-03-28T09:31:36.452276",
     "status": "completed"
    },
    "tags": []
   },
   "outputs": [],
   "source": [
    "# from steves_utils.ORACLE.utils_v2 import (\n",
    "#     ALL_DISTANCES_FEET,\n",
    "#     ALL_RUNS,\n",
    "#     ALL_SERIAL_NUMBERS,\n",
    "# )\n",
    "\n",
    "\n",
    "# add_dataset(\n",
    "#     labels=ALL_SERIAL_NUMBERS,\n",
    "#     domains = list(set(ALL_DISTANCES_FEET) - {2,62,56}),\n",
    "#     num_examples_per_domain_per_label=100,\n",
    "#     pickle_path=os.path.join(get_datasets_base_path(), \"oracle.Run2_framed_2000Examples_stratified_ds.2022A.pkl\"),\n",
    "#     source_or_target_dataset=\"source\",\n",
    "#     x_transform_func=global_x_transform_func,\n",
    "#     domain_modifier=lambda u: f\"oracle2_{u}\"\n",
    "# )"
   ]
  },
  {
   "cell_type": "code",
   "execution_count": 17,
   "id": "6f289866",
   "metadata": {
    "execution": {
     "iopub.execute_input": "2022-03-28T09:31:36.547882Z",
     "iopub.status.busy": "2022-03-28T09:31:36.547228Z",
     "iopub.status.idle": "2022-03-28T09:31:36.571979Z",
     "shell.execute_reply": "2022-03-28T09:31:36.571236Z"
    },
    "papermill": {
     "duration": 0.05198,
     "end_time": "2022-03-28T09:31:36.572142",
     "exception": false,
     "start_time": "2022-03-28T09:31:36.520162",
     "status": "completed"
    },
    "tags": []
   },
   "outputs": [],
   "source": [
    "# add_dataset(\n",
    "#     labels=list(range(19)),\n",
    "#     domains = [0,1,2],\n",
    "#     num_examples_per_domain_per_label=100,\n",
    "#     pickle_path=os.path.join(get_datasets_base_path(), \"metehan.stratified_ds.2022A.pkl\"),\n",
    "#     source_or_target_dataset=\"target\",\n",
    "#     x_transform_func=global_x_transform_func,\n",
    "#     domain_modifier=lambda u: f\"met_{u}\"\n",
    "# )"
   ]
  },
  {
   "cell_type": "code",
   "execution_count": 18,
   "id": "86a863c3",
   "metadata": {
    "execution": {
     "iopub.execute_input": "2022-03-28T09:31:36.623974Z",
     "iopub.status.busy": "2022-03-28T09:31:36.623598Z",
     "iopub.status.idle": "2022-03-28T09:31:36.641828Z",
     "shell.execute_reply": "2022-03-28T09:31:36.641086Z"
    },
    "papermill": {
     "duration": 0.04091,
     "end_time": "2022-03-28T09:31:36.641979",
     "exception": false,
     "start_time": "2022-03-28T09:31:36.601069",
     "status": "completed"
    },
    "tags": []
   },
   "outputs": [],
   "source": [
    "# # from steves_utils.wisig.utils import (\n",
    "# #     ALL_NODES_MINIMUM_100_EXAMPLES,\n",
    "# #     ALL_NODES_MINIMUM_500_EXAMPLES,\n",
    "# #     ALL_NODES_MINIMUM_1000_EXAMPLES,\n",
    "# #     ALL_DAYS\n",
    "# # )\n",
    "\n",
    "# import steves_utils.wisig.utils as wisig\n",
    "\n",
    "\n",
    "# add_dataset(\n",
    "#     labels=wisig.ALL_NODES_MINIMUM_100_EXAMPLES,\n",
    "#     domains = wisig.ALL_DAYS,\n",
    "#     num_examples_per_domain_per_label=100,\n",
    "#     pickle_path=os.path.join(get_datasets_base_path(), \"wisig.node3-19.stratified_ds.2022A.pkl\"),\n",
    "#     source_or_target_dataset=\"target\",\n",
    "#     x_transform_func=global_x_transform_func,\n",
    "#     domain_modifier=lambda u: f\"wisig_{u}\"\n",
    "# )"
   ]
  },
  {
   "cell_type": "code",
   "execution_count": 19,
   "id": "fd5442bc",
   "metadata": {
    "execution": {
     "iopub.execute_input": "2022-03-28T09:31:36.693169Z",
     "iopub.status.busy": "2022-03-28T09:31:36.692791Z",
     "iopub.status.idle": "2022-03-28T09:31:36.711888Z",
     "shell.execute_reply": "2022-03-28T09:31:36.711082Z"
    },
    "papermill": {
     "duration": 0.044218,
     "end_time": "2022-03-28T09:31:36.712041",
     "exception": false,
     "start_time": "2022-03-28T09:31:36.667823",
     "status": "completed"
    },
    "tags": []
   },
   "outputs": [],
   "source": [
    "###################################\n",
    "# Build the dataset\n",
    "###################################\n",
    "train_original_source = Iterable_Aggregator(train_original_source, p.seed)\n",
    "val_original_source = Iterable_Aggregator(val_original_source, p.seed)\n",
    "test_original_source = Iterable_Aggregator(test_original_source, p.seed)\n",
    "\n",
    "\n",
    "train_original_target = Iterable_Aggregator(train_original_target, p.seed)\n",
    "val_original_target = Iterable_Aggregator(val_original_target, p.seed)\n",
    "test_original_target = Iterable_Aggregator(test_original_target, p.seed)\n",
    "\n",
    "# For CNN We only use X and Y. And we only train on the source.\n",
    "# Properly form the data using a transform lambda and Lazy_Iterable_Wrapper. Finally wrap them in a dataloader\n",
    "\n",
    "transform_lambda = lambda ex: ex[1] # Original is (<domain>, <episode>) so we strip down to episode only\n",
    "\n",
    "train_processed_source = Lazy_Iterable_Wrapper(train_original_source, transform_lambda)\n",
    "val_processed_source   = Lazy_Iterable_Wrapper(val_original_source, transform_lambda)\n",
    "test_processed_source  = Lazy_Iterable_Wrapper(test_original_source, transform_lambda)\n",
    "\n",
    "train_processed_target = Lazy_Iterable_Wrapper(train_original_target, transform_lambda)\n",
    "val_processed_target   = Lazy_Iterable_Wrapper(val_original_target, transform_lambda)\n",
    "test_processed_target  = Lazy_Iterable_Wrapper(test_original_target, transform_lambda)\n",
    "\n",
    "datasets = EasyDict({\n",
    "    \"source\": {\n",
    "        \"original\": {\"train\":train_original_source, \"val\":val_original_source, \"test\":test_original_source},\n",
    "        \"processed\": {\"train\":train_processed_source, \"val\":val_processed_source, \"test\":test_processed_source}\n",
    "    },\n",
    "    \"target\": {\n",
    "        \"original\": {\"train\":train_original_target, \"val\":val_original_target, \"test\":test_original_target},\n",
    "        \"processed\": {\"train\":train_processed_target, \"val\":val_processed_target, \"test\":test_processed_target}\n",
    "    },\n",
    "})"
   ]
  },
  {
   "cell_type": "code",
   "execution_count": 20,
   "id": "5b3c01fc",
   "metadata": {
    "execution": {
     "iopub.execute_input": "2022-03-28T09:31:36.767898Z",
     "iopub.status.busy": "2022-03-28T09:31:36.767322Z",
     "iopub.status.idle": "2022-03-28T09:31:50.942969Z",
     "shell.execute_reply": "2022-03-28T09:31:50.943689Z"
    },
    "papermill": {
     "duration": 14.202255,
     "end_time": "2022-03-28T09:31:50.943908",
     "exception": false,
     "start_time": "2022-03-28T09:31:36.741653",
     "status": "completed"
    },
    "tags": []
   },
   "outputs": [
    {
     "name": "stdout",
     "output_type": "stream",
     "text": [
      "{'O_20', 'O_26', 'O_38', 'O_32', 'O_44', 'O_8', 'O_14', 'O_50'}\n"
     ]
    },
    {
     "name": "stdout",
     "output_type": "stream",
     "text": [
      "{'C_1', 'C_3', 'C_2', 'C_5', 'C_4'}\n"
     ]
    },
    {
     "name": "stdout",
     "output_type": "stream",
     "text": [
      "tensor([[[0., 0., 0.,  ..., 0., 0., 0.],\n",
      "         [0., 0., 0.,  ..., 0., 0., 0.]],\n",
      "\n",
      "        [[0., 0., 0.,  ..., 0., 0., 0.],\n",
      "         [0., 0., 0.,  ..., 0., 0., 0.]],\n",
      "\n",
      "        [[0., 0., 0.,  ..., 0., 0., 0.],\n",
      "         [0., 0., 0.,  ..., 0., 0., 0.]],\n",
      "\n",
      "        ...,\n",
      "\n",
      "        [[0., 0., 0.,  ..., 0., 0., 0.],\n",
      "         [0., 0., 0.,  ..., 0., 0., 0.]],\n",
      "\n",
      "        [[0., 0., 0.,  ..., 0., 0., 0.],\n",
      "         [0., 0., 0.,  ..., 0., 0., 0.]],\n",
      "\n",
      "        [[0., 0., 0.,  ..., 0., 0., 0.],\n",
      "         [0., 0., 0.,  ..., 0., 0., 0.]]])\n"
     ]
    }
   ],
   "source": [
    "from steves_utils.transforms import get_average_magnitude, get_average_power\n",
    "\n",
    "print(set([u for u,_ in val_original_source]))\n",
    "print(set([u for u,_ in val_original_target]))\n",
    "\n",
    "s_x, s_y, q_x, q_y, _ = next(iter(train_processed_source))\n",
    "print(s_x)\n",
    "\n",
    "# for ds in [\n",
    "#     train_processed_source,\n",
    "#     val_processed_source,\n",
    "#     test_processed_source,\n",
    "#     train_processed_target,\n",
    "#     val_processed_target,\n",
    "#     test_processed_target\n",
    "# ]:\n",
    "#     for s_x, s_y, q_x, q_y, _ in ds:\n",
    "#         for X in (s_x, q_x):\n",
    "#             for x in X:\n",
    "#                 assert np.isclose(get_average_magnitude(x.numpy()), 1.0)\n",
    "#                 assert np.isclose(get_average_power(x.numpy()), 1.0)\n",
    "                "
   ]
  },
  {
   "cell_type": "code",
   "execution_count": 21,
   "id": "bbdacba1",
   "metadata": {
    "execution": {
     "iopub.execute_input": "2022-03-28T09:31:51.006762Z",
     "iopub.status.busy": "2022-03-28T09:31:51.006114Z",
     "iopub.status.idle": "2022-03-28T09:31:51.185579Z",
     "shell.execute_reply": "2022-03-28T09:31:51.185170Z"
    },
    "papermill": {
     "duration": 0.2125,
     "end_time": "2022-03-28T09:31:51.185694",
     "exception": false,
     "start_time": "2022-03-28T09:31:50.973194",
     "status": "completed"
    },
    "tags": []
   },
   "outputs": [
    {
     "name": "stdout",
     "output_type": "stream",
     "text": [
      "(2, 256)\n"
     ]
    }
   ],
   "source": [
    "###################################\n",
    "# Build the model\n",
    "###################################\n",
    "# easfsl only wants a tuple for the shape\n",
    "model = Steves_Prototypical_Network(x_net, device=p.device, x_shape=tuple(p.x_shape))\n",
    "optimizer = Adam(params=model.parameters(), lr=p.lr)"
   ]
  },
  {
   "cell_type": "code",
   "execution_count": 22,
   "id": "22b39ac5",
   "metadata": {
    "execution": {
     "iopub.execute_input": "2022-03-28T09:31:51.238522Z",
     "iopub.status.busy": "2022-03-28T09:31:51.237882Z",
     "iopub.status.idle": "2022-03-28T09:49:36.822459Z",
     "shell.execute_reply": "2022-03-28T09:49:36.822118Z"
    },
    "papermill": {
     "duration": 1065.613832,
     "end_time": "2022-03-28T09:49:36.822539",
     "exception": false,
     "start_time": "2022-03-28T09:31:51.208707",
     "status": "completed"
    },
    "tags": []
   },
   "outputs": [
    {
     "name": "stdout",
     "output_type": "stream",
     "text": [
      "epoch: 1, [batch: 1 / 6720], examples_per_second: 33.2897, train_label_loss: 2.7457, \n"
     ]
    },
    {
     "name": "stdout",
     "output_type": "stream",
     "text": [
      "epoch: 1, [batch: 672 / 6720], examples_per_second: 3904.5394, train_label_loss: 2.8607, \n"
     ]
    },
    {
     "name": "stdout",
     "output_type": "stream",
     "text": [
      "epoch: 1, [batch: 1344 / 6720], examples_per_second: 4191.1460, train_label_loss: 2.7566, \n"
     ]
    },
    {
     "name": "stdout",
     "output_type": "stream",
     "text": [
      "epoch: 1, [batch: 2016 / 6720], examples_per_second: 4252.7496, train_label_loss: 2.7781, \n"
     ]
    },
    {
     "name": "stdout",
     "output_type": "stream",
     "text": [
      "epoch: 1, [batch: 2688 / 6720], examples_per_second: 4203.7409, train_label_loss: 2.2032, \n"
     ]
    },
    {
     "name": "stdout",
     "output_type": "stream",
     "text": [
      "epoch: 1, [batch: 3360 / 6720], examples_per_second: 4356.3483, train_label_loss: 1.6933, \n"
     ]
    },
    {
     "name": "stdout",
     "output_type": "stream",
     "text": [
      "epoch: 1, [batch: 4032 / 6720], examples_per_second: 4344.3878, train_label_loss: 1.4391, \n"
     ]
    },
    {
     "name": "stdout",
     "output_type": "stream",
     "text": [
      "epoch: 1, [batch: 4704 / 6720], examples_per_second: 4218.0152, train_label_loss: 1.3709, \n"
     ]
    },
    {
     "name": "stdout",
     "output_type": "stream",
     "text": [
      "epoch: 1, [batch: 5376 / 6720], examples_per_second: 4346.5637, train_label_loss: 1.5695, \n"
     ]
    },
    {
     "name": "stdout",
     "output_type": "stream",
     "text": [
      "epoch: 1, [batch: 6048 / 6720], examples_per_second: 4150.6540, train_label_loss: 1.5872, \n"
     ]
    },
    {
     "name": "stdout",
     "output_type": "stream",
     "text": [
      "=============================================================\n",
      "epoch: 1, source_val_acc_label: 0.4057, target_val_acc_label: 0.7326, source_val_label_loss: 1.6891, target_val_label_loss: 4.0111, \n",
      "=============================================================\n"
     ]
    },
    {
     "name": "stdout",
     "output_type": "stream",
     "text": [
      "New best\n"
     ]
    },
    {
     "name": "stdout",
     "output_type": "stream",
     "text": [
      "epoch: 2, [batch: 1 / 6720], examples_per_second: 5.1406, train_label_loss: 1.4018, \n"
     ]
    },
    {
     "name": "stdout",
     "output_type": "stream",
     "text": [
      "epoch: 2, [batch: 672 / 6720], examples_per_second: 4892.4538, train_label_loss: 1.2593, \n"
     ]
    },
    {
     "name": "stdout",
     "output_type": "stream",
     "text": [
      "epoch: 2, [batch: 1344 / 6720], examples_per_second: 5454.6154, train_label_loss: 0.7096, \n"
     ]
    },
    {
     "name": "stdout",
     "output_type": "stream",
     "text": [
      "epoch: 2, [batch: 2016 / 6720], examples_per_second: 5164.4616, train_label_loss: 1.4793, \n"
     ]
    },
    {
     "name": "stdout",
     "output_type": "stream",
     "text": [
      "epoch: 2, [batch: 2688 / 6720], examples_per_second: 4953.0528, train_label_loss: 1.0719, \n"
     ]
    },
    {
     "name": "stdout",
     "output_type": "stream",
     "text": [
      "epoch: 2, [batch: 3360 / 6720], examples_per_second: 4933.1067, train_label_loss: 1.1930, \n"
     ]
    },
    {
     "name": "stdout",
     "output_type": "stream",
     "text": [
      "epoch: 2, [batch: 4032 / 6720], examples_per_second: 4994.6455, train_label_loss: 0.8708, \n"
     ]
    },
    {
     "name": "stdout",
     "output_type": "stream",
     "text": [
      "epoch: 2, [batch: 4704 / 6720], examples_per_second: 5320.4468, train_label_loss: 1.1970, \n"
     ]
    },
    {
     "name": "stdout",
     "output_type": "stream",
     "text": [
      "epoch: 2, [batch: 5376 / 6720], examples_per_second: 5036.6453, train_label_loss: 1.3359, \n"
     ]
    },
    {
     "name": "stdout",
     "output_type": "stream",
     "text": [
      "epoch: 2, [batch: 6048 / 6720], examples_per_second: 5073.9075, train_label_loss: 0.6263, \n"
     ]
    },
    {
     "name": "stdout",
     "output_type": "stream",
     "text": [
      "=============================================================\n",
      "epoch: 2, source_val_acc_label: 0.6335, target_val_acc_label: 0.9552, source_val_label_loss: 0.9684, target_val_label_loss: 0.2040, \n",
      "=============================================================\n"
     ]
    },
    {
     "name": "stdout",
     "output_type": "stream",
     "text": [
      "New best\n"
     ]
    },
    {
     "name": "stdout",
     "output_type": "stream",
     "text": [
      "epoch: 3, [batch: 1 / 6720], examples_per_second: 5.3332, train_label_loss: 1.2426, \n"
     ]
    },
    {
     "name": "stdout",
     "output_type": "stream",
     "text": [
      "epoch: 3, [batch: 672 / 6720], examples_per_second: 4796.1623, train_label_loss: 0.5514, \n"
     ]
    },
    {
     "name": "stdout",
     "output_type": "stream",
     "text": [
      "epoch: 3, [batch: 1344 / 6720], examples_per_second: 4798.1592, train_label_loss: 0.5894, \n"
     ]
    },
    {
     "name": "stdout",
     "output_type": "stream",
     "text": [
      "epoch: 3, [batch: 2016 / 6720], examples_per_second: 4076.6508, train_label_loss: 0.7458, \n"
     ]
    },
    {
     "name": "stdout",
     "output_type": "stream",
     "text": [
      "epoch: 3, [batch: 2688 / 6720], examples_per_second: 3798.8314, train_label_loss: 0.6830, \n"
     ]
    },
    {
     "name": "stdout",
     "output_type": "stream",
     "text": [
      "epoch: 3, [batch: 3360 / 6720], examples_per_second: 3847.1398, train_label_loss: 1.3131, \n"
     ]
    },
    {
     "name": "stdout",
     "output_type": "stream",
     "text": [
      "epoch: 3, [batch: 4032 / 6720], examples_per_second: 3888.4484, train_label_loss: 1.2620, \n"
     ]
    },
    {
     "name": "stdout",
     "output_type": "stream",
     "text": [
      "epoch: 3, [batch: 4704 / 6720], examples_per_second: 3835.4491, train_label_loss: 0.6841, \n"
     ]
    },
    {
     "name": "stdout",
     "output_type": "stream",
     "text": [
      "epoch: 3, [batch: 5376 / 6720], examples_per_second: 3866.7735, train_label_loss: 1.0277, \n"
     ]
    },
    {
     "name": "stdout",
     "output_type": "stream",
     "text": [
      "epoch: 3, [batch: 6048 / 6720], examples_per_second: 4009.4957, train_label_loss: 0.6140, \n"
     ]
    },
    {
     "name": "stdout",
     "output_type": "stream",
     "text": [
      "=============================================================\n",
      "epoch: 3, source_val_acc_label: 0.6621, target_val_acc_label: 0.9572, source_val_label_loss: 0.9184, target_val_label_loss: 0.2005, \n",
      "=============================================================\n"
     ]
    },
    {
     "name": "stdout",
     "output_type": "stream",
     "text": [
      "New best\n"
     ]
    },
    {
     "name": "stdout",
     "output_type": "stream",
     "text": [
      "epoch: 4, [batch: 1 / 6720], examples_per_second: 3.9849, train_label_loss: 0.8794, \n"
     ]
    },
    {
     "name": "stdout",
     "output_type": "stream",
     "text": [
      "epoch: 4, [batch: 672 / 6720], examples_per_second: 4306.3294, train_label_loss: 0.5998, \n"
     ]
    },
    {
     "name": "stdout",
     "output_type": "stream",
     "text": [
      "epoch: 4, [batch: 1344 / 6720], examples_per_second: 4517.2836, train_label_loss: 1.2737, \n"
     ]
    },
    {
     "name": "stdout",
     "output_type": "stream",
     "text": [
      "epoch: 4, [batch: 2016 / 6720], examples_per_second: 4328.8482, train_label_loss: 1.0467, \n"
     ]
    },
    {
     "name": "stdout",
     "output_type": "stream",
     "text": [
      "epoch: 4, [batch: 2688 / 6720], examples_per_second: 3994.5942, train_label_loss: 0.8826, \n"
     ]
    },
    {
     "name": "stdout",
     "output_type": "stream",
     "text": [
      "epoch: 4, [batch: 3360 / 6720], examples_per_second: 3877.8807, train_label_loss: 0.5353, \n"
     ]
    },
    {
     "name": "stdout",
     "output_type": "stream",
     "text": [
      "epoch: 4, [batch: 4032 / 6720], examples_per_second: 3855.3482, train_label_loss: 1.2905, \n"
     ]
    },
    {
     "name": "stdout",
     "output_type": "stream",
     "text": [
      "epoch: 4, [batch: 4704 / 6720], examples_per_second: 3863.9048, train_label_loss: 0.6913, \n"
     ]
    },
    {
     "name": "stdout",
     "output_type": "stream",
     "text": [
      "epoch: 4, [batch: 5376 / 6720], examples_per_second: 3934.7278, train_label_loss: 1.0949, \n"
     ]
    },
    {
     "name": "stdout",
     "output_type": "stream",
     "text": [
      "epoch: 4, [batch: 6048 / 6720], examples_per_second: 4027.4425, train_label_loss: 0.7632, \n"
     ]
    },
    {
     "name": "stdout",
     "output_type": "stream",
     "text": [
      "=============================================================\n",
      "epoch: 4, source_val_acc_label: 0.6670, target_val_acc_label: 0.9473, source_val_label_loss: 0.9142, target_val_label_loss: 0.3408, \n",
      "=============================================================\n"
     ]
    },
    {
     "name": "stdout",
     "output_type": "stream",
     "text": [
      "epoch: 5, [batch: 1 / 6720], examples_per_second: 4.0266, train_label_loss: 0.7279, \n"
     ]
    },
    {
     "name": "stdout",
     "output_type": "stream",
     "text": [
      "epoch: 5, [batch: 672 / 6720], examples_per_second: 4169.0624, train_label_loss: 0.6360, \n"
     ]
    },
    {
     "name": "stdout",
     "output_type": "stream",
     "text": [
      "epoch: 5, [batch: 1344 / 6720], examples_per_second: 4634.5694, train_label_loss: 0.6974, \n"
     ]
    },
    {
     "name": "stdout",
     "output_type": "stream",
     "text": [
      "epoch: 5, [batch: 2016 / 6720], examples_per_second: 4366.4577, train_label_loss: 1.1908, \n"
     ]
    },
    {
     "name": "stdout",
     "output_type": "stream",
     "text": [
      "epoch: 5, [batch: 2688 / 6720], examples_per_second: 3855.6029, train_label_loss: 0.8304, \n"
     ]
    },
    {
     "name": "stdout",
     "output_type": "stream",
     "text": [
      "epoch: 5, [batch: 3360 / 6720], examples_per_second: 3934.2489, train_label_loss: 0.5819, \n"
     ]
    },
    {
     "name": "stdout",
     "output_type": "stream",
     "text": [
      "epoch: 5, [batch: 4032 / 6720], examples_per_second: 3862.8183, train_label_loss: 0.7243, \n"
     ]
    },
    {
     "name": "stdout",
     "output_type": "stream",
     "text": [
      "epoch: 5, [batch: 4704 / 6720], examples_per_second: 3805.9437, train_label_loss: 0.7313, \n"
     ]
    },
    {
     "name": "stdout",
     "output_type": "stream",
     "text": [
      "epoch: 5, [batch: 5376 / 6720], examples_per_second: 3788.2082, train_label_loss: 1.1861, \n"
     ]
    },
    {
     "name": "stdout",
     "output_type": "stream",
     "text": [
      "epoch: 5, [batch: 6048 / 6720], examples_per_second: 3827.1552, train_label_loss: 0.6009, \n"
     ]
    },
    {
     "name": "stdout",
     "output_type": "stream",
     "text": [
      "=============================================================\n",
      "epoch: 5, source_val_acc_label: 0.6858, target_val_acc_label: 0.9406, source_val_label_loss: 0.8380, target_val_label_loss: 0.4948, \n",
      "=============================================================\n"
     ]
    },
    {
     "name": "stdout",
     "output_type": "stream",
     "text": [
      "epoch: 6, [batch: 1 / 6720], examples_per_second: 4.0226, train_label_loss: 0.7264, \n"
     ]
    },
    {
     "name": "stdout",
     "output_type": "stream",
     "text": [
      "epoch: 6, [batch: 672 / 6720], examples_per_second: 4117.3538, train_label_loss: 0.9813, \n"
     ]
    },
    {
     "name": "stdout",
     "output_type": "stream",
     "text": [
      "epoch: 6, [batch: 1344 / 6720], examples_per_second: 4392.9918, train_label_loss: 1.1929, \n"
     ]
    },
    {
     "name": "stdout",
     "output_type": "stream",
     "text": [
      "epoch: 6, [batch: 2016 / 6720], examples_per_second: 4176.2435, train_label_loss: 0.8292, \n"
     ]
    },
    {
     "name": "stdout",
     "output_type": "stream",
     "text": [
      "epoch: 6, [batch: 2688 / 6720], examples_per_second: 3842.5698, train_label_loss: 0.4954, \n"
     ]
    },
    {
     "name": "stdout",
     "output_type": "stream",
     "text": [
      "epoch: 6, [batch: 3360 / 6720], examples_per_second: 4007.1515, train_label_loss: 0.3905, \n"
     ]
    },
    {
     "name": "stdout",
     "output_type": "stream",
     "text": [
      "epoch: 6, [batch: 4032 / 6720], examples_per_second: 3977.4405, train_label_loss: 0.6647, \n"
     ]
    },
    {
     "name": "stdout",
     "output_type": "stream",
     "text": [
      "epoch: 6, [batch: 4704 / 6720], examples_per_second: 3975.7335, train_label_loss: 0.9772, \n"
     ]
    },
    {
     "name": "stdout",
     "output_type": "stream",
     "text": [
      "epoch: 6, [batch: 5376 / 6720], examples_per_second: 3893.4849, train_label_loss: 0.8391, \n"
     ]
    },
    {
     "name": "stdout",
     "output_type": "stream",
     "text": [
      "epoch: 6, [batch: 6048 / 6720], examples_per_second: 3840.8101, train_label_loss: 0.7218, \n"
     ]
    },
    {
     "name": "stdout",
     "output_type": "stream",
     "text": [
      "=============================================================\n",
      "epoch: 6, source_val_acc_label: 0.6939, target_val_acc_label: 0.9329, source_val_label_loss: 0.8255, target_val_label_loss: 1.0639, \n",
      "=============================================================\n"
     ]
    },
    {
     "name": "stdout",
     "output_type": "stream",
     "text": [
      "epoch: 7, [batch: 1 / 6720], examples_per_second: 4.0367, train_label_loss: 0.4228, \n"
     ]
    },
    {
     "name": "stdout",
     "output_type": "stream",
     "text": [
      "epoch: 7, [batch: 672 / 6720], examples_per_second: 4114.4948, train_label_loss: 1.1543, \n"
     ]
    },
    {
     "name": "stdout",
     "output_type": "stream",
     "text": [
      "epoch: 7, [batch: 1344 / 6720], examples_per_second: 4517.9836, train_label_loss: 0.6331, \n"
     ]
    },
    {
     "name": "stdout",
     "output_type": "stream",
     "text": [
      "epoch: 7, [batch: 2016 / 6720], examples_per_second: 4541.4433, train_label_loss: 0.9709, \n"
     ]
    },
    {
     "name": "stdout",
     "output_type": "stream",
     "text": [
      "epoch: 7, [batch: 2688 / 6720], examples_per_second: 3953.2623, train_label_loss: 0.7343, \n"
     ]
    },
    {
     "name": "stdout",
     "output_type": "stream",
     "text": [
      "epoch: 7, [batch: 3360 / 6720], examples_per_second: 4019.3970, train_label_loss: 1.2465, \n"
     ]
    },
    {
     "name": "stdout",
     "output_type": "stream",
     "text": [
      "epoch: 7, [batch: 4032 / 6720], examples_per_second: 4070.2196, train_label_loss: 0.5302, \n"
     ]
    },
    {
     "name": "stdout",
     "output_type": "stream",
     "text": [
      "epoch: 7, [batch: 4704 / 6720], examples_per_second: 4009.1300, train_label_loss: 0.4718, \n"
     ]
    },
    {
     "name": "stdout",
     "output_type": "stream",
     "text": [
      "epoch: 7, [batch: 5376 / 6720], examples_per_second: 4055.6684, train_label_loss: 0.6132, \n"
     ]
    },
    {
     "name": "stdout",
     "output_type": "stream",
     "text": [
      "epoch: 7, [batch: 6048 / 6720], examples_per_second: 3958.2516, train_label_loss: 0.6673, \n"
     ]
    },
    {
     "name": "stdout",
     "output_type": "stream",
     "text": [
      "=============================================================\n",
      "epoch: 7, source_val_acc_label: 0.6779, target_val_acc_label: 0.9370, source_val_label_loss: 0.8466, target_val_label_loss: 1.3934, \n",
      "=============================================================\n"
     ]
    },
    {
     "name": "stdout",
     "output_type": "stream",
     "text": [
      "Patience (3) exhausted\n"
     ]
    }
   ],
   "source": [
    "###################################\n",
    "# train\n",
    "###################################\n",
    "jig = PTN_Train_Eval_Test_Jig(model, p.BEST_MODEL_PATH, p.device)\n",
    "\n",
    "jig.train(\n",
    "    train_iterable=datasets.source.processed.train,\n",
    "    source_val_iterable=datasets.source.processed.val,\n",
    "    target_val_iterable=datasets.target.processed.val,\n",
    "    num_epochs=p.n_epoch,\n",
    "    num_logs_per_epoch=p.NUM_LOGS_PER_EPOCH,\n",
    "    patience=p.patience,\n",
    "    optimizer=optimizer,\n",
    "    criteria_for_best=p.criteria_for_best,\n",
    ")"
   ]
  },
  {
   "cell_type": "code",
   "execution_count": 23,
   "id": "31e8fabf",
   "metadata": {
    "execution": {
     "iopub.execute_input": "2022-03-28T09:49:36.916259Z",
     "iopub.status.busy": "2022-03-28T09:49:36.915699Z",
     "iopub.status.idle": "2022-03-28T09:49:36.947670Z",
     "shell.execute_reply": "2022-03-28T09:49:36.946942Z"
    },
    "papermill": {
     "duration": 0.081452,
     "end_time": "2022-03-28T09:49:36.947822",
     "exception": false,
     "start_time": "2022-03-28T09:49:36.866370",
     "status": "completed"
    },
    "tags": []
   },
   "outputs": [],
   "source": [
    "total_experiment_time_secs = time.time() - start_time_secs"
   ]
  },
  {
   "cell_type": "code",
   "execution_count": 24,
   "id": "87b9595b",
   "metadata": {
    "execution": {
     "iopub.execute_input": "2022-03-28T09:49:37.048278Z",
     "iopub.status.busy": "2022-03-28T09:49:37.047688Z",
     "iopub.status.idle": "2022-03-28T09:52:17.922038Z",
     "shell.execute_reply": "2022-03-28T09:52:17.921310Z"
    },
    "papermill": {
     "duration": 160.922642,
     "end_time": "2022-03-28T09:52:17.922226",
     "exception": false,
     "start_time": "2022-03-28T09:49:36.999584",
     "status": "completed"
    },
    "tags": []
   },
   "outputs": [],
   "source": [
    "###################################\n",
    "# Evaluate the model\n",
    "###################################\n",
    "source_test_label_accuracy, source_test_label_loss = jig.test(datasets.source.processed.test)\n",
    "target_test_label_accuracy, target_test_label_loss = jig.test(datasets.target.processed.test)\n",
    "\n",
    "source_val_label_accuracy, source_val_label_loss = jig.test(datasets.source.processed.val)\n",
    "target_val_label_accuracy, target_val_label_loss = jig.test(datasets.target.processed.val)\n",
    "\n",
    "history = jig.get_history()\n",
    "\n",
    "total_epochs_trained = len(history[\"epoch_indices\"])\n",
    "\n",
    "val_dl = Iterable_Aggregator((datasets.source.original.val,datasets.target.original.val))\n",
    "\n",
    "confusion = ptn_confusion_by_domain_over_dataloader(model, p.device, val_dl)\n",
    "per_domain_accuracy = per_domain_accuracy_from_confusion(confusion)\n",
    "\n",
    "# Add a key to per_domain_accuracy for if it was a source domain\n",
    "for domain, accuracy in per_domain_accuracy.items():\n",
    "    per_domain_accuracy[domain] = {\n",
    "        \"accuracy\": accuracy,\n",
    "        \"source?\": domain in p.domains_source\n",
    "    }\n",
    "\n",
    "# Do an independent accuracy assesment JUST TO BE SURE!\n",
    "# _source_test_label_accuracy = independent_accuracy_assesment(model, datasets.source.processed.test, p.device)\n",
    "# _target_test_label_accuracy = independent_accuracy_assesment(model, datasets.target.processed.test, p.device)\n",
    "# _source_val_label_accuracy = independent_accuracy_assesment(model, datasets.source.processed.val, p.device)\n",
    "# _target_val_label_accuracy = independent_accuracy_assesment(model, datasets.target.processed.val, p.device)\n",
    "\n",
    "# assert(_source_test_label_accuracy == source_test_label_accuracy)\n",
    "# assert(_target_test_label_accuracy == target_test_label_accuracy)\n",
    "# assert(_source_val_label_accuracy == source_val_label_accuracy)\n",
    "# assert(_target_val_label_accuracy == target_val_label_accuracy)\n",
    "\n",
    "experiment = {\n",
    "    \"experiment_name\": p.experiment_name,\n",
    "    \"parameters\": dict(p),\n",
    "    \"results\": {\n",
    "        \"source_test_label_accuracy\": source_test_label_accuracy,\n",
    "        \"source_test_label_loss\": source_test_label_loss,\n",
    "        \"target_test_label_accuracy\": target_test_label_accuracy,\n",
    "        \"target_test_label_loss\": target_test_label_loss,\n",
    "        \"source_val_label_accuracy\": source_val_label_accuracy,\n",
    "        \"source_val_label_loss\": source_val_label_loss,\n",
    "        \"target_val_label_accuracy\": target_val_label_accuracy,\n",
    "        \"target_val_label_loss\": target_val_label_loss,\n",
    "        \"total_epochs_trained\": total_epochs_trained,\n",
    "        \"total_experiment_time_secs\": total_experiment_time_secs,\n",
    "        \"confusion\": confusion,\n",
    "        \"per_domain_accuracy\": per_domain_accuracy,\n",
    "    },\n",
    "    \"history\": history,\n",
    "    \"dataset_metrics\": get_dataset_metrics(datasets, \"ptn\"),\n",
    "}"
   ]
  },
  {
   "cell_type": "code",
   "execution_count": 25,
   "id": "54a21829",
   "metadata": {
    "execution": {
     "iopub.execute_input": "2022-03-28T09:52:18.020107Z",
     "iopub.status.busy": "2022-03-28T09:52:18.019739Z",
     "iopub.status.idle": "2022-03-28T09:52:18.245607Z",
     "shell.execute_reply": "2022-03-28T09:52:18.246278Z"
    },
    "papermill": {
     "duration": 0.273355,
     "end_time": "2022-03-28T09:52:18.246455",
     "exception": false,
     "start_time": "2022-03-28T09:52:17.973100",
     "status": "completed"
    },
    "tags": []
   },
   "outputs": [
    {
     "data": {
      "image/png": "[encoded data removed]",
      "text/plain": [
       "<Figure size 1080x504 with 1 Axes>"
      ]
     },
     "metadata": {
      "needs_background": "light"
     },
     "output_type": "display_data"
    }
   ],
   "source": [
    "ax = get_loss_curve(experiment)\n",
    "plt.show()"
   ]
  },
  {
   "cell_type": "code",
   "execution_count": 26,
   "id": "fd8a0f60",
   "metadata": {
    "execution": {
     "iopub.execute_input": "2022-03-28T09:52:18.354040Z",
     "iopub.status.busy": "2022-03-28T09:52:18.353467Z",
     "iopub.status.idle": "2022-03-28T09:52:18.688210Z",
     "shell.execute_reply": "2022-03-28T09:52:18.688907Z"
    },
    "papermill": {
     "duration": 0.393957,
     "end_time": "2022-03-28T09:52:18.689124",
     "exception": false,
     "start_time": "2022-03-28T09:52:18.295167",
     "status": "completed"
    },
    "tags": []
   },
   "outputs": [
    {
     "data": {
      "text/plain": [
       "<AxesSubplot:title={'center':'Results'}>"
      ]
     },
     "execution_count": 26,
     "metadata": {},
     "output_type": "execute_result"
    },
    {
     "data": {
      "image/png": "[encoded data removed]",
      "text/plain": [
       "<Figure size 1080x504 with 1 Axes>"
      ]
     },
     "metadata": {
      "needs_background": "light"
     },
     "output_type": "display_data"
    }
   ],
   "source": [
    "get_results_table(experiment)"
   ]
  },
  {
   "cell_type": "code",
   "execution_count": 27,
   "id": "cf8dc689",
   "metadata": {
    "execution": {
     "iopub.execute_input": "2022-03-28T09:52:18.790791Z",
     "iopub.status.busy": "2022-03-28T09:52:18.790419Z",
     "iopub.status.idle": "2022-03-28T09:52:19.027002Z",
     "shell.execute_reply": "2022-03-28T09:52:19.026252Z"
    },
    "papermill": {
     "duration": 0.287033,
     "end_time": "2022-03-28T09:52:19.027173",
     "exception": false,
     "start_time": "2022-03-28T09:52:18.740140",
     "status": "completed"
    },
    "tags": []
   },
   "outputs": [
    {
     "data": {
      "text/plain": [
       "<AxesSubplot:title={'center':'Per Domain Validation Accuracy'}, xlabel='domain'>"
      ]
     },
     "execution_count": 27,
     "metadata": {},
     "output_type": "execute_result"
    },
    {
     "data": {
      "image/png": "[encoded data removed]",
      "text/plain": [
       "<Figure size 1080x504 with 1 Axes>"
      ]
     },
     "metadata": {
      "needs_background": "light"
     },
     "output_type": "display_data"
    }
   ],
   "source": [
    "get_domain_accuracies(experiment)"
   ]
  },
  {
   "cell_type": "code",
   "execution_count": 28,
   "id": "a74ae082",
   "metadata": {
    "execution": {
     "iopub.execute_input": "2022-03-28T09:52:19.128225Z",
     "iopub.status.busy": "2022-03-28T09:52:19.127734Z",
     "iopub.status.idle": "2022-03-28T09:52:19.153766Z",
     "shell.execute_reply": "2022-03-28T09:52:19.153042Z"
    },
    "papermill": {
     "duration": 0.076294,
     "end_time": "2022-03-28T09:52:19.153927",
     "exception": false,
     "start_time": "2022-03-28T09:52:19.077633",
     "status": "completed"
    },
    "tags": []
   },
   "outputs": [
    {
     "name": "stdout",
     "output_type": "stream",
     "text": [
      "Source Test Label Accuracy: 0.66787109375 Target Test Label Accuracy: 0.9552118406285073\n",
      "Source Val Label Accuracy: 0.6620768229166667 Target Val Label Accuracy: 0.957156107305936\n"
     ]
    }
   ],
   "source": [
    "print(\"Source Test Label Accuracy:\", experiment[\"results\"][\"source_test_label_accuracy\"], \"Target Test Label Accuracy:\", experiment[\"results\"][\"target_test_label_accuracy\"])\n",
    "print(\"Source Val Label Accuracy:\", experiment[\"results\"][\"source_val_label_accuracy\"], \"Target Val Label Accuracy:\", experiment[\"results\"][\"target_val_label_accuracy\"])"
   ]
  },
  {
   "cell_type": "code",
   "execution_count": 29,
   "id": "dacca602",
   "metadata": {
    "execution": {
     "iopub.execute_input": "2022-03-28T09:52:19.258061Z",
     "iopub.status.busy": "2022-03-28T09:52:19.257552Z",
     "iopub.status.idle": "2022-03-28T09:52:19.278019Z",
     "shell.execute_reply": "2022-03-28T09:52:19.278700Z"
    },
    "papermill": {
     "duration": 0.071733,
     "end_time": "2022-03-28T09:52:19.278889",
     "exception": false,
     "start_time": "2022-03-28T09:52:19.207156",
     "status": "completed"
    },
    "tags": [
     "experiment_json"
    ]
   },
   "outputs": [
    {
     "data": {
      "text/plain": [
       "'{\"experiment_name\": \"tl_3-jitter10v2:oracle.run1.framed -> cores\", \"parameters\": {\"experiment_name\": \"tl_3-jitter10v2:oracle.run1.framed -> cores\", \"device\": \"cuda\", \"lr\": 0.0001, \"x_shape\": [2, 256], \"n_shot\": 3, \"n_query\": 2, \"train_k_factor\": 3, \"val_k_factor\": 2, \"test_k_factor\": 2, \"torch_default_dtype\": \"torch.float32\", \"n_epoch\": 50, \"patience\": 3, \"criteria_for_best\": \"target_accuracy\", \"x_net\": [{\"class\": \"nnReshape\", \"kargs\": {\"shape\": [-1, 1, 2, 256]}}, {\"class\": \"Conv2d\", \"kargs\": {\"in_channels\": 1, \"out_channels\": 256, \"kernel_size\": [1, 7], \"bias\": false, \"padding\": [0, 3]}}, {\"class\": \"ReLU\", \"kargs\": {\"inplace\": true}}, {\"class\": \"BatchNorm2d\", \"kargs\": {\"num_features\": 256}}, {\"class\": \"Conv2d\", \"kargs\": {\"in_channels\": 256, \"out_channels\": 80, \"kernel_size\": [2, 7], \"bias\": true, \"padding\": [0, 3]}}, {\"class\": \"ReLU\", \"kargs\": {\"inplace\": true}}, {\"class\": \"BatchNorm2d\", \"kargs\": {\"num_features\": 80}}, {\"class\": \"Flatten\", \"kargs\": {}}, {\"class\": \"Linear\", \"kargs\": {\"in_features\": 20480, \"out_features\": 256}}, {\"class\": \"ReLU\", \"kargs\": {\"inplace\": true}}, {\"class\": \"BatchNorm1d\", \"kargs\": {\"num_features\": 256}}, {\"class\": \"Linear\", \"kargs\": {\"in_features\": 256, \"out_features\": 256}}], \"NUM_LOGS_PER_EPOCH\": 10, \"BEST_MODEL_PATH\": \"./best_model.pth\", \"n_way\": 16, \"datasets\": [{\"labels\": [\"1-10.\", \"1-11.\", \"1-15.\", \"1-16.\", \"1-17.\", \"1-18.\", \"1-19.\", \"10-4.\", \"10-7.\", \"11-1.\", \"11-14.\", \"11-17.\", \"11-20.\", \"11-7.\", \"13-20.\", \"13-8.\", \"14-10.\", \"14-11.\", \"14-14.\", \"14-7.\", \"15-1.\", \"15-20.\", \"16-1.\", \"16-16.\", \"17-10.\", \"17-11.\", \"17-2.\", \"19-1.\", \"19-16.\", \"19-19.\", \"19-20.\", \"19-3.\", \"2-10.\", \"2-11.\", \"2-17.\", \"2-18.\", \"2-20.\", \"2-3.\", \"2-4.\", \"2-5.\", \"2-6.\", \"2-7.\", \"2-8.\", \"3-13.\", \"3-18.\", \"3-3.\", \"4-1.\", \"4-10.\", \"4-11.\", \"4-19.\", \"5-5.\", \"6-15.\", \"7-10.\", \"7-14.\", \"8-18.\", \"8-20.\", \"8-3.\", \"8-8.\"], \"domains\": [1, 2, 3, 4, 5], \"num_examples_per_domain_per_label\": -1, \"pickle_path\": \"/root/csc500-main/datasets/cores.stratified_ds.2022A.pkl\", \"source_or_target_dataset\": \"target\", \"x_transforms\": [\"unit_mag\", \"jitter_256_10\", \"lowpass_+/-10MHz\", \"take_200\"], \"episode_transforms\": [], \"domain_prefix\": \"C_\"}, {\"labels\": [\"3123D52\", \"3123D65\", \"3123D79\", \"3123D80\", \"3123D54\", \"3123D70\", \"3123D7B\", \"3123D89\", \"3123D58\", \"3123D76\", \"3123D7D\", \"3123EFE\", \"3123D64\", \"3123D78\", \"3123D7E\", \"3124E4A\"], \"domains\": [32, 38, 8, 44, 14, 50, 20, 26], \"num_examples_per_domain_per_label\": 2000, \"pickle_path\": \"/root/csc500-main/datasets/oracle.Run1_framed_2000Examples_stratified_ds.2022A.pkl\", \"source_or_target_dataset\": \"source\", \"x_transforms\": [\"unit_mag\", \"jitter_256_10\", \"take_200\", \"resample_20Msps_to_25Msps\"], \"episode_transforms\": [], \"domain_prefix\": \"O_\"}], \"seed\": 1337, \"dataset_seed\": 1337, \"domains_source\": [\"O_32\", \"O_38\", \"O_8\", \"O_44\", \"O_14\", \"O_50\", \"O_20\", \"O_26\"], \"domains_target\": [\"C_1\", \"C_2\", \"C_3\", \"C_4\", \"C_5\"]}, \"results\": {\"source_test_label_accuracy\": 0.66787109375, \"source_test_label_loss\": 0.9110627174377441, \"target_test_label_accuracy\": 0.9552118406285073, \"target_test_label_loss\": 0.2826904058456421, \"source_val_label_accuracy\": 0.6620768229166667, \"source_val_label_loss\": 0.9183515310287476, \"target_val_label_accuracy\": 0.957156107305936, \"target_val_label_loss\": 0.20047493278980255, \"total_epochs_trained\": 7, \"total_experiment_time_secs\": 1192.2729024887085, \"confusion\": {\"O_14\": {\"15\": {\"7\": 23, \"15\": 217}, \"3\": {\"3\": 208, \"4\": 15, \"2\": 2, \"14\": 11, \"5\": 1, \"0\": 1, \"10\": 2}, \"6\": {\"13\": 64, \"2\": 16, \"6\": 137, \"14\": 23}, \"1\": {\"1\": 220, \"5\": 19, \"7\": 1}, \"8\": {\"8\": 240}, \"10\": {\"10\": 199, \"0\": 41}, \"9\": {\"9\": 240}, \"13\": {\"14\": 75, \"13\": 64, \"5\": 7, \"6\": 76, \"2\": 16, \"4\": 1, \"15\": 1}, \"12\": {\"12\": 239, \"9\": 1}, \"5\": {\"5\": 144, \"4\": 54, \"1\": 32, \"2\": 8, \"3\": 2}, \"0\": {\"0\": 168, \"10\": 65, \"11\": 3, \"3\": 4}, \"2\": {\"6\": 31, \"2\": 104, \"4\": 14, \"14\": 40, \"3\": 6, \"13\": 19, \"5\": 24, \"15\": 2}, \"11\": {\"11\": 216, \"10\": 13, \"9\": 11}, \"14\": {\"14\": 168, \"6\": 19, \"2\": 15, \"13\": 35, \"3\": 3}, \"7\": {\"7\": 223, \"15\": 16, \"1\": 1}, \"4\": {\"4\": 166, \"5\": 51, \"3\": 12, \"2\": 10, \"1\": 1}}, \"O_20\": {\"3\": {\"9\": 25, \"3\": 113, \"7\": 15, \"12\": 46, \"8\": 14, \"2\": 10, \"5\": 8, \"4\": 3, \"1\": 2, \"0\": 4}, \"15\": {\"15\": 139, \"1\": 40, \"13\": 9, \"0\": 33, \"12\": 6, \"5\": 13}, \"8\": {\"8\": 147, \"6\": 1, \"4\": 41, \"10\": 24, \"3\": 13, \"14\": 6, \"7\": 7, \"2\": 1}, \"4\": {\"4\": 174, \"8\": 47, \"5\": 5, \"12\": 2, \"3\": 11, \"10\": 1}, \"14\": {\"6\": 22, \"14\": 157, \"10\": 58, \"8\": 3}, \"0\": {\"1\": 46, \"4\": 1, \"15\": 36, \"12\": 24, \"5\": 52, \"0\": 68, \"9\": 2, \"3\": 9, \"13\": 1, \"2\": 1}, \"7\": {\"7\": 156, \"9\": 27, \"8\": 15, \"2\": 31, \"3\": 10, \"6\": 1}, \"6\": {\"6\": 218, \"14\": 18, \"10\": 2, \"7\": 2}, \"10\": {\"6\": 3, \"10\": 177, \"8\": 20, \"14\": 40}, \"5\": {\"0\": 69, \"5\": 91, \"1\": 38, \"12\": 31, \"3\": 6, \"9\": 2, \"15\": 3}, \"2\": {\"7\": 32, \"2\": 91, \"9\": 76, \"13\": 11, \"3\": 11, \"12\": 14, \"1\": 3, \"0\": 1, \"8\": 1}, \"12\": {\"1\": 28, \"12\": 88, \"3\": 65, \"2\": 8, \"9\": 12, \"5\": 23, \"8\": 1, \"0\": 14, \"4\": 1}, \"9\": {\"3\": 35, \"13\": 4, \"7\": 29, \"2\": 80, \"1\": 2, \"9\": 80, \"12\": 7, \"8\": 3}, \"1\": {\"1\": 74, \"5\": 39, \"3\": 3, \"0\": 45, \"12\": 37, \"15\": 36, \"2\": 2, \"9\": 3, \"13\": 1}, \"11\": {\"11\": 240}, \"13\": {\"13\": 213, \"1\": 1, \"12\": 4, \"15\": 4, \"2\": 13, \"9\": 4, \"5\": 1}}, \"O_38\": {\"5\": {\"0\": 35, \"8\": 63, \"9\": 2, \"5\": 83, \"15\": 15, \"1\": 3, \"3\": 11, \"6\": 11, \"7\": 16, \"13\": 1}, \"8\": {\"8\": 134, \"7\": 11, \"0\": 39, \"1\": 2, \"15\": 6, \"10\": 9, \"5\": 38, \"13\": 1}, \"11\": {\"11\": 167, \"14\": 66, \"2\": 2, \"12\": 5}, \"1\": {\"1\": 219, \"15\": 17, \"13\": 2, \"5\": 1, \"8\": 1}, \"10\": {\"10\": 153, \"8\": 18, \"12\": 23, \"0\": 4, \"13\": 27, \"2\": 5, \"5\": 1, \"7\": 3, \"14\": 2, \"15\": 3, \"4\": 1}, \"15\": {\"10\": 2, \"8\": 9, \"13\": 79, \"15\": 128, \"1\": 16, \"5\": 6}, \"3\": {\"3\": 183, \"7\": 19, \"9\": 27, \"0\": 2, \"5\": 6, \"6\": 3}, \"7\": {\"7\": 164, \"0\": 53, \"8\": 10, \"3\": 4, \"5\": 9}, \"4\": {\"4\": 219, \"12\": 21}, \"14\": {\"11\": 44, \"14\": 174, \"2\": 20, \"10\": 1, \"12\": 1}, \"9\": {\"9\": 130, \"6\": 84, \"3\": 23, \"8\": 1, \"5\": 2}, \"12\": {\"12\": 209, \"4\": 19, \"10\": 11, \"11\": 1}, \"6\": {\"6\": 184, \"9\": 54, \"5\": 2}, \"2\": {\"2\": 219, \"14\": 17, \"11\": 1, \"10\": 2, \"13\": 1}, \"0\": {\"8\": 57, \"7\": 57, \"0\": 61, \"5\": 40, \"3\": 12, \"10\": 8, \"13\": 2, \"15\": 1, \"9\": 2}, \"13\": {\"13\": 137, \"15\": 72, \"10\": 11, \"2\": 10, \"1\": 6, \"0\": 2, \"8\": 1, \"5\": 1}}, \"O_8\": {\"9\": {\"9\": 240}, \"10\": {\"10\": 158, \"14\": 59, \"13\": 13, \"4\": 5, \"5\": 4, \"0\": 1}, \"13\": {\"0\": 63, \"14\": 25, \"13\": 80, \"4\": 30, \"7\": 3, \"10\": 29, \"6\": 9, \"11\": 1}, \"0\": {\"13\": 47, \"0\": 168, \"7\": 13, \"4\": 4, \"6\": 7, \"10\": 1}, \"1\": {\"5\": 6, \"1\": 153, \"11\": 74, \"14\": 6, \"10\": 1}, \"15\": {\"12\": 35, \"15\": 196, \"8\": 9}, \"5\": {\"5\": 214, \"11\": 5, \"1\": 9, \"14\": 4, \"10\": 8}, \"3\": {\"3\": 213, \"2\": 20, \"12\": 7}, \"6\": {\"0\": 5, \"4\": 18, \"6\": 164, \"7\": 45, \"13\": 6, \"15\": 1, \"14\": 1}, \"11\": {\"11\": 120, \"1\": 106, \"5\": 13, \"14\": 1}, \"8\": {\"8\": 235, \"15\": 5}, \"4\": {\"4\": 147, \"0\": 4, \"6\": 26, \"13\": 40, \"14\": 15, \"10\": 8}, \"12\": {\"12\": 123, \"15\": 67, \"3\": 43, \"2\": 2, \"8\": 5}, \"14\": {\"10\": 67, \"4\": 40, \"14\": 106, \"1\": 14, \"13\": 10, \"6\": 1, \"5\": 1, \"0\": 1}, \"2\": {\"15\": 6, \"2\": 174, \"3\": 50, \"7\": 6, \"12\": 4}, \"7\": {\"7\": 194, \"0\": 3, \"6\": 42, \"13\": 1}}, \"O_50\": {\"7\": {\"5\": 25, \"10\": 14, \"7\": 150, \"13\": 49, \"6\": 2}, \"3\": {\"3\": 236, \"8\": 4}, \"8\": {\"8\": 227, \"10\": 9, \"3\": 4}, \"2\": {\"2\": 213, \"0\": 26, \"1\": 1}, \"14\": {\"14\": 230, \"12\": 7, \"11\": 3}, \"4\": {\"15\": 56, \"6\": 39, \"1\": 50, \"5\": 14, \"4\": 73, \"7\": 2, \"13\": 6}, \"6\": {\"6\": 126, \"4\": 43, \"1\": 14, \"13\": 22, \"5\": 33, \"15\": 1, \"7\": 1}, \"15\": {\"15\": 151, \"1\": 54, \"4\": 25, \"11\": 10}, \"10\": {\"10\": 210, \"13\": 5, \"8\": 3, \"7\": 14, \"0\": 7, \"6\": 1}, \"11\": {\"11\": 208, \"9\": 23, \"15\": 3, \"12\": 2, \"14\": 4}, \"13\": {\"13\": 125, \"5\": 51, \"7\": 45, \"10\": 1, \"6\": 17, \"0\": 1}, \"9\": {\"11\": 39, \"9\": 175, \"12\": 25, \"14\": 1}, \"0\": {\"0\": 189, \"10\": 21, \"2\": 26, \"5\": 1, \"13\": 2, \"6\": 1}, \"1\": {\"4\": 31, \"1\": 128, \"15\": 53, \"6\": 26, \"2\": 1, \"14\": 1}, \"12\": {\"12\": 209, \"14\": 9, \"9\": 20, \"11\": 2}, \"5\": {\"5\": 69, \"6\": 52, \"7\": 56, \"13\": 35, \"4\": 16, \"1\": 9, \"15\": 1, \"10\": 2}}, \"O_32\": {\"8\": {\"13\": 34, \"8\": 161, \"0\": 11, \"5\": 27, \"4\": 6, \"3\": 1}, \"14\": {\"11\": 55, \"4\": 5, \"7\": 57, \"14\": 90, \"5\": 15, \"13\": 8, \"3\": 5, \"0\": 3, \"2\": 2}, \"2\": {\"2\": 174, \"0\": 18, \"4\": 44, \"7\": 3, \"14\": 1}, \"0\": {\"5\": 18, \"4\": 59, \"0\": 104, \"13\": 10, \"7\": 18, \"8\": 17, \"2\": 13, \"14\": 1}, \"1\": {\"1\": 239, \"10\": 1}, \"10\": {\"10\": 240}, \"11\": {\"11\": 176, \"14\": 54, \"3\": 4, \"7\": 5, \"13\": 1}, \"5\": {\"4\": 14, \"14\": 18, \"13\": 59, \"3\": 19, \"7\": 32, \"8\": 37, \"5\": 47, \"0\": 14}, \"15\": {\"15\": 237, \"8\": 3}, \"3\": {\"3\": 221, \"8\": 2, \"5\": 9, \"14\": 1, \"13\": 5, \"11\": 2}, \"12\": {\"12\": 240}, \"7\": {\"5\": 23, \"7\": 113, \"0\": 7, \"14\": 45, \"13\": 18, \"4\": 29, \"11\": 1, \"2\": 3, \"8\": 1}, \"13\": {\"8\": 36, \"3\": 16, \"5\": 61, \"13\": 75, \"14\": 11, \"7\": 13, \"0\": 17, \"4\": 10, \"11\": 1}, \"6\": {\"6\": 240}, \"4\": {\"0\": 70, \"4\": 90, \"2\": 34, \"5\": 9, \"7\": 27, \"13\": 3, \"14\": 6, \"8\": 1}, \"9\": {\"9\": 239, \"12\": 1}}, \"O_26\": {\"4\": {\"14\": 37, \"0\": 21, \"8\": 30, \"4\": 89, \"1\": 42, \"7\": 11, \"10\": 10}, \"12\": {\"12\": 237, \"11\": 3}, \"10\": {\"14\": 23, \"0\": 53, \"10\": 95, \"8\": 36, \"4\": 11, \"1\": 5, \"9\": 2, \"6\": 14, \"7\": 1}, \"0\": {\"8\": 27, \"10\": 64, \"1\": 19, \"4\": 32, \"0\": 43, \"6\": 7, \"14\": 42, \"7\": 6}, \"13\": {\"13\": 164, \"5\": 45, \"3\": 1, \"6\": 2, \"9\": 10, \"15\": 17, \"2\": 1}, \"9\": {\"5\": 18, \"15\": 84, \"9\": 91, \"6\": 18, \"8\": 15, \"7\": 4, \"13\": 6, \"0\": 1, \"10\": 3}, \"3\": {\"3\": 156, \"2\": 61, \"7\": 21, \"1\": 1, \"5\": 1}, \"2\": {\"5\": 27, \"7\": 28, \"3\": 75, \"2\": 93, \"9\": 5, \"15\": 10, \"10\": 1, \"13\": 1}, \"5\": {\"2\": 13, \"13\": 28, \"15\": 39, \"5\": 137, \"7\": 4, \"9\": 16, \"8\": 2, \"3\": 1}, \"14\": {\"4\": 32, \"1\": 52, \"0\": 47, \"14\": 76, \"10\": 19, \"7\": 2, \"8\": 11, \"15\": 1}, \"8\": {\"8\": 90, \"1\": 7, \"14\": 6, \"9\": 11, \"4\": 28, \"7\": 16, \"0\": 21, \"10\": 48, \"15\": 6, \"6\": 7}, \"7\": {\"8\": 18, \"7\": 147, \"15\": 5, \"3\": 25, \"0\": 1, \"2\": 22, \"4\": 17, \"1\": 2, \"9\": 3}, \"6\": {\"6\": 164, \"10\": 29, \"9\": 25, \"0\": 7, \"15\": 9, \"8\": 6}, \"11\": {\"11\": 233, \"12\": 7}, \"15\": {\"15\": 79, \"9\": 70, \"6\": 6, \"8\": 16, \"5\": 35, \"4\": 1, \"13\": 21, \"7\": 6, \"2\": 1, \"10\": 5}, \"1\": {\"4\": 34, \"14\": 77, \"1\": 89, \"10\": 9, \"0\": 19, \"7\": 7, \"3\": 2, \"8\": 3}}, \"O_44\": {\"12\": {\"12\": 177, \"1\": 44, \"10\": 19}, \"7\": {\"7\": 153, \"2\": 37, \"9\": 45, \"3\": 3, \"6\": 2}, \"5\": {\"5\": 189, \"15\": 9, \"0\": 24, \"14\": 10, \"8\": 4, \"4\": 4}, \"15\": {\"15\": 179, \"4\": 4, \"5\": 10, \"14\": 17, \"0\": 22, \"8\": 8}, \"8\": {\"8\": 158, \"0\": 69, \"15\": 6, \"5\": 6, \"14\": 1}, \"2\": {\"2\": 167, \"1\": 8, \"10\": 22, \"7\": 40, \"3\": 1, \"9\": 2}, \"13\": {\"6\": 38, \"9\": 43, \"13\": 129, \"11\": 28, \"4\": 1, \"7\": 1}, \"4\": {\"4\": 160, \"14\": 77, \"15\": 1, \"13\": 1, \"5\": 1}, \"0\": {\"8\": 69, \"15\": 8, \"0\": 128, \"5\": 35}, \"6\": {\"9\": 31, \"6\": 155, \"13\": 29, \"11\": 17, \"7\": 8}, \"9\": {\"9\": 142, \"7\": 46, \"13\": 31, \"6\": 16, \"2\": 4, \"3\": 1}, \"11\": {\"6\": 19, \"11\": 182, \"13\": 37, \"9\": 2}, \"10\": {\"1\": 25, \"10\": 157, \"12\": 35, \"2\": 21, \"3\": 1, \"7\": 1}, \"14\": {\"4\": 79, \"14\": 138, \"15\": 16, \"5\": 7}, \"1\": {\"3\": 33, \"1\": 108, \"10\": 20, \"12\": 68, \"2\": 11}, \"3\": {\"3\": 201, \"1\": 33, \"7\": 1, \"12\": 4, \"2\": 1}}, \"C_3\": {\"43\": {\"43\": 126, \"7\": 1, \"26\": 1}, \"9\": {\"9\": 150}, \"6\": {\"6\": 58, \"18\": 15, \"41\": 3, \"26\": 3, \"36\": 1, \"46\": 2, \"50\": 1, \"30\": 1, \"25\": 1, \"2\": 1, \"16\": 1, \"23\": 1}, \"3\": {\"3\": 120, \"20\": 15, \"50\": 1, \"52\": 6, \"46\": 2}, \"16\": {\"16\": 134}, \"51\": {\"51\": 128}, \"31\": {\"31\": 28}, \"46\": {\"46\": 114, \"16\": 6, \"50\": 1, \"52\": 4, \"20\": 2, \"41\": 1, \"6\": 1, \"26\": 3, \"3\": 2}, \"19\": {\"19\": 118, \"40\": 4, \"9\": 2}, \"8\": {\"8\": 152}, \"18\": {\"18\": 83, \"6\": 1}, \"37\": {\"37\": 28}, \"24\": {\"24\": 104}, \"10\": {\"10\": 64}, \"44\": {\"44\": 88}, \"14\": {\"9\": 1, \"14\": 12, \"28\": 2, \"22\": 7, \"56\": 1, \"57\": 3, \"34\": 5, \"29\": 2, \"35\": 3, \"1\": 1, \"47\": 1, \"0\": 2}, \"38\": {\"38\": 27, \"8\": 1}, \"53\": {\"53\": 137, \"8\": 2, \"12\": 1}, \"20\": {\"20\": 129, \"3\": 2, \"50\": 1}, \"32\": {\"32\": 28}, \"36\": {\"36\": 99, \"2\": 1}, \"33\": {\"33\": 28}, \"56\": {\"56\": 136}, \"23\": {\"23\": 130}, \"54\": {\"54\": 98, \"17\": 2}, \"21\": {\"21\": 126}, \"28\": {\"28\": 28}, \"26\": {\"26\": 24}, \"48\": {\"48\": 113, \"27\": 1, \"55\": 2}, \"52\": {\"52\": 118}, \"39\": {\"39\": 16}, \"22\": {\"14\": 2, \"22\": 135, \"56\": 1, \"0\": 2}, \"13\": {\"13\": 127, \"16\": 1}, \"2\": {\"2\": 31, \"36\": 1}, \"34\": {\"34\": 27, \"35\": 3, \"28\": 2}, \"27\": {\"27\": 132}, \"45\": {\"45\": 55, \"17\": 1, \"4\": 4}, \"35\": {\"35\": 28}, \"29\": {\"29\": 128}, \"25\": {\"2\": 4, \"25\": 102, \"36\": 13, \"38\": 2, \"6\": 2, \"18\": 3, \"50\": 6, \"30\": 2, \"8\": 7, \"41\": 2, \"17\": 1}, \"0\": {\"0\": 124}, \"41\": {\"41\": 28}, \"11\": {\"11\": 142}, \"5\": {\"5\": 106, \"47\": 2}, \"1\": {\"1\": 98, \"35\": 1, \"34\": 1}, \"57\": {\"57\": 114, \"1\": 2}, \"17\": {\"17\": 105, \"10\": 1, \"54\": 1, \"24\": 1}, \"7\": {\"7\": 32, \"43\": 3, \"11\": 1}, \"12\": {\"12\": 91, \"53\": 1}, \"47\": {\"47\": 85, \"42\": 1, \"55\": 6}, \"40\": {\"40\": 129, \"19\": 7}, \"15\": {\"15\": 140, \"23\": 2}, \"42\": {\"42\": 28}, \"55\": {\"55\": 138, \"47\": 8, \"9\": 1, \"5\": 3}, \"49\": {\"49\": 19, \"24\": 1}, \"30\": {\"30\": 115, \"23\": 1, \"18\": 1, \"17\": 1, \"25\": 2}, \"50\": {\"50\": 121, \"20\": 9, \"25\": 3, \"3\": 1}, \"4\": {\"4\": 132, \"40\": 1, \"45\": 2, \"44\": 1}}, \"C_4\": {\"35\": {\"35\": 39, \"57\": 1}, \"25\": {\"25\": 100, \"3\": 8, \"8\": 12, \"30\": 1, \"36\": 8, \"21\": 3, \"20\": 1, \"50\": 1}, \"24\": {\"24\": 56}, \"48\": {\"48\": 125, \"54\": 10, \"28\": 3}, \"51\": {\"51\": 144}, \"13\": {\"13\": 100, \"10\": 20}, \"14\": {\"35\": 5, \"0\": 3, \"14\": 3, \"29\": 1, \"38\": 1, \"57\": 2, \"56\": 1}, \"32\": {\"32\": 23, \"46\": 1}, \"30\": {\"30\": 44}, \"34\": {\"34\": 24}, \"9\": {\"9\": 136}, \"1\": {\"1\": 40}, \"0\": {\"0\": 79, \"38\": 1}, \"38\": {\"38\": 39, \"2\": 1}, \"22\": {\"22\": 128}, \"40\": {\"40\": 114, \"19\": 3, \"9\": 2, \"44\": 1}, \"6\": {\"20\": 6, \"6\": 97, \"51\": 3, \"53\": 2, \"25\": 1, \"3\": 1, \"52\": 1, \"36\": 1}, \"16\": {\"16\": 95, \"18\": 1}, \"11\": {\"11\": 104}, \"20\": {\"20\": 118, \"36\": 2, \"6\": 2}, \"17\": {\"17\": 74, \"27\": 6}, \"26\": {\"26\": 24}, \"54\": {\"54\": 102, \"26\": 1, \"48\": 3, \"28\": 2}, \"55\": {\"55\": 154}, \"50\": {\"50\": 105, \"21\": 11, \"8\": 6, \"36\": 2, \"20\": 1, \"25\": 4, \"53\": 2, \"57\": 1}, \"19\": {\"19\": 133, \"40\": 5, \"44\": 2, \"4\": 2}, \"44\": {\"44\": 114, \"19\": 2, \"40\": 4, \"9\": 2}, \"47\": {\"47\": 120}, \"33\": {\"33\": 36}, \"5\": {\"5\": 106, \"42\": 1, \"46\": 1}, \"18\": {\"18\": 99, \"23\": 4, \"54\": 2, \"27\": 1, \"50\": 2}, \"21\": {\"21\": 120, \"50\": 4}, \"41\": {\"41\": 36}, \"23\": {\"23\": 127, \"18\": 1}, \"39\": {\"39\": 20}, \"37\": {\"37\": 24}, \"8\": {\"8\": 143, \"25\": 1}, \"49\": {\"49\": 19, \"46\": 1}, \"53\": {\"53\": 140}, \"31\": {\"31\": 28}, \"28\": {\"28\": 29, \"48\": 3}, \"3\": {\"3\": 101, \"20\": 6, \"36\": 16, \"25\": 1}, \"27\": {\"17\": 3, \"27\": 135}, \"46\": {\"46\": 118, \"32\": 3, \"5\": 4, \"49\": 2, \"43\": 1}, \"12\": {\"12\": 90, \"21\": 2}, \"7\": {\"7\": 23, \"46\": 1}, \"4\": {\"4\": 132}, \"42\": {\"42\": 32}, \"43\": {\"43\": 128, \"11\": 1, \"7\": 1}, \"29\": {\"29\": 120}, \"57\": {\"57\": 98, \"35\": 2}, \"52\": {\"52\": 103, \"16\": 1}, \"45\": {\"45\": 96}, \"36\": {\"36\": 81, \"3\": 10, \"20\": 1}, \"10\": {\"10\": 112, \"13\": 14}, \"15\": {\"15\": 134}, \"56\": {\"56\": 124}, \"2\": {\"2\": 36}}, \"C_5\": {\"47\": {\"47\": 100}, \"53\": {\"53\": 150}, \"29\": {\"29\": 126}, \"52\": {\"52\": 127, \"46\": 1, \"16\": 2}, \"55\": {\"55\": 136, \"30\": 7, \"48\": 1}, \"17\": {\"17\": 111, \"26\": 1, \"30\": 3, \"55\": 1}, \"42\": {\"42\": 40}, \"33\": {\"33\": 32}, \"11\": {\"11\": 148}, \"19\": {\"19\": 118}, \"1\": {\"1\": 137, \"55\": 3, \"48\": 2, \"54\": 2}, \"44\": {\"44\": 142}, \"49\": {\"49\": 34, \"14\": 1, \"46\": 1}, \"4\": {\"4\": 96, \"6\": 1, \"45\": 2, \"12\": 1}, \"6\": {\"6\": 114, \"8\": 2}, \"39\": {\"39\": 20}, \"50\": {\"50\": 120, \"20\": 20, \"23\": 4, \"25\": 2, \"21\": 1, \"53\": 1}, \"56\": {\"56\": 130}, \"25\": {\"25\": 116, \"8\": 25, \"6\": 3}, \"28\": {\"28\": 31, \"34\": 1}, \"35\": {\"35\": 33, \"22\": 1, \"56\": 2}, \"24\": {\"24\": 79, \"46\": 1}, \"21\": {\"21\": 132}, \"45\": {\"45\": 91, \"9\": 16, \"30\": 2, \"17\": 1, \"32\": 1, \"48\": 4, \"1\": 1, \"27\": 7, \"55\": 1}, \"16\": {\"16\": 141, \"23\": 2, \"52\": 1}, \"37\": {\"37\": 23, \"16\": 1}, \"57\": {\"57\": 131, \"14\": 1}, \"34\": {\"34\": 35, \"28\": 1}, \"38\": {\"38\": 32}, \"48\": {\"48\": 130}, \"26\": {\"26\": 24}, \"9\": {\"9\": 139, \"48\": 4, \"27\": 2, \"45\": 5, \"17\": 2}, \"18\": {\"18\": 64}, \"3\": {\"3\": 84, \"46\": 16}, \"23\": {\"23\": 124}, \"15\": {\"15\": 149, \"11\": 2, \"46\": 1, \"24\": 1, \"52\": 1}, \"10\": {\"10\": 68}, \"46\": {\"46\": 137, \"3\": 10, \"49\": 1}, \"22\": {\"22\": 28}, \"54\": {\"54\": 110, \"1\": 1, \"48\": 1}, \"27\": {\"27\": 158, \"9\": 2}, \"41\": {\"41\": 28}, \"31\": {\"31\": 36}, \"0\": {\"2\": 1, \"0\": 119, \"35\": 1, \"56\": 3}, \"7\": {\"7\": 32}, \"2\": {\"2\": 28}, \"14\": {\"49\": 4, \"3\": 6, \"28\": 3, \"14\": 8, \"57\": 10, \"36\": 2, \"46\": 8, \"31\": 1, \"33\": 1, \"56\": 1}, \"40\": {\"40\": 120, \"5\": 4}, \"5\": {\"5\": 124, \"40\": 4}, \"12\": {\"12\": 96}, \"43\": {\"43\": 141, \"3\": 1}, \"13\": {\"13\": 145, \"15\": 1, \"11\": 2}, \"36\": {\"36\": 92}, \"8\": {\"8\": 140, \"25\": 8, \"55\": 1, \"26\": 1}, \"32\": {\"32\": 31, \"45\": 1}, \"30\": {\"30\": 120, \"17\": 5, \"55\": 3}, \"51\": {\"51\": 136, \"25\": 1, \"7\": 1}, \"20\": {\"20\": 130, \"50\": 8}}, \"C_1\": {\"46\": {\"46\": 132, \"53\": 8}, \"16\": {\"16\": 134}, \"26\": {\"26\": 24}, \"10\": {\"10\": 86, \"52\": 10}, \"9\": {\"9\": 154, \"30\": 2}, \"28\": {\"28\": 28}, \"51\": {\"51\": 156}, \"1\": {\"1\": 91, \"57\": 7, \"19\": 2}, \"55\": {\"55\": 140, \"42\": 3, \"45\": 4, \"54\": 1}, \"27\": {\"27\": 124}, \"22\": {\"22\": 114, \"28\": 2, \"24\": 2, \"21\": 1, \"52\": 1, \"11\": 3, \"15\": 1}, \"52\": {\"52\": 118, \"10\": 7, \"11\": 1}, \"3\": {\"3\": 133, \"12\": 6, \"36\": 1}, \"33\": {\"33\": 32}, \"47\": {\"47\": 119, \"44\": 1}, \"42\": {\"42\": 38, \"55\": 2}, \"12\": {\"12\": 114, \"3\": 2}, \"23\": {\"23\": 126, \"15\": 4, \"0\": 2}, \"49\": {\"49\": 30, \"31\": 1, \"15\": 1}, \"7\": {\"7\": 28}, \"4\": {\"4\": 128, \"29\": 2, \"50\": 2}, \"50\": {\"50\": 134}, \"19\": {\"19\": 140, \"1\": 9, \"57\": 5}, \"11\": {\"11\": 140}, \"31\": {\"31\": 24, \"15\": 4}, \"41\": {\"41\": 24}, \"56\": {\"56\": 138}, \"0\": {\"0\": 143, \"38\": 1, \"23\": 4}, \"57\": {\"57\": 122, \"1\": 3, \"19\": 3}, \"53\": {\"53\": 140}, \"43\": {\"43\": 144}, \"37\": {\"37\": 32}, \"2\": {\"2\": 35, \"6\": 1}, \"6\": {\"6\": 93, \"48\": 3}, \"13\": {\"13\": 147, \"41\": 1, \"51\": 2}, \"18\": {\"18\": 72}, \"36\": {\"36\": 64}, \"29\": {\"29\": 134, \"19\": 2, \"1\": 2, \"44\": 2}, \"39\": {\"39\": 28}, \"17\": {\"17\": 64}, \"21\": {\"21\": 110, \"22\": 2, \"24\": 11, \"15\": 1}, \"25\": {\"25\": 124, \"18\": 2, \"5\": 2, \"14\": 1, \"9\": 2, \"30\": 1}, \"45\": {\"45\": 140, \"55\": 2}, \"38\": {\"38\": 24}, \"30\": {\"30\": 111, \"9\": 9}, \"24\": {\"31\": 1, \"24\": 88, \"49\": 2, \"21\": 13, \"22\": 1, \"15\": 3}, \"20\": {\"20\": 137, \"3\": 3}, \"8\": {\"8\": 140}, \"35\": {\"35\": 35, \"44\": 1}, \"54\": {\"54\": 102, \"55\": 2}, \"5\": {\"5\": 136, \"25\": 1, \"6\": 1, \"48\": 6, \"9\": 3, \"30\": 1}, \"48\": {\"48\": 133, \"6\": 2, \"50\": 9}, \"15\": {\"15\": 134, \"21\": 2, \"31\": 2, \"49\": 1, \"23\": 2, \"0\": 1}, \"34\": {\"34\": 24}, \"14\": {\"42\": 2, \"53\": 2, \"26\": 2, \"14\": 10, \"25\": 1, \"9\": 4, \"51\": 1, \"37\": 1, \"13\": 1}, \"32\": {\"32\": 32}, \"40\": {\"40\": 143, \"30\": 1, \"29\": 1, \"4\": 1, \"19\": 1, \"9\": 1}, \"44\": {\"44\": 135, \"35\": 1}}, \"C_2\": {\"36\": {\"36\": 116}, \"5\": {\"5\": 120}, \"45\": {\"45\": 116, \"17\": 4, \"4\": 6, \"27\": 1, \"32\": 1}, \"49\": {\"49\": 23, \"54\": 1}, \"50\": {\"50\": 127, \"6\": 5, \"8\": 1, \"20\": 1, \"36\": 1, \"25\": 1}, \"4\": {\"4\": 137, \"35\": 1}, \"43\": {\"43\": 147, \"24\": 1}, \"41\": {\"41\": 15, \"18\": 4, \"36\": 1}, \"37\": {\"37\": 36}, \"12\": {\"12\": 87, \"20\": 4, \"53\": 1}, \"33\": {\"33\": 28}, \"7\": {\"7\": 35, \"15\": 1}, \"56\": {\"56\": 139, \"22\": 1}, \"14\": {\"56\": 9, \"14\": 10, \"29\": 2, \"57\": 3}, \"52\": {\"52\": 122, \"16\": 2}, \"44\": {\"44\": 93, \"19\": 2, \"9\": 1}, \"48\": {\"48\": 144}, \"20\": {\"20\": 112, \"53\": 15, \"8\": 1}, \"55\": {\"55\": 144}, \"32\": {\"32\": 26, \"17\": 2}, \"40\": {\"40\": 129, \"35\": 1, \"45\": 1, \"27\": 1, \"9\": 1, \"19\": 2, \"54\": 1}, \"54\": {\"54\": 101, \"27\": 6, \"17\": 1}, \"17\": {\"17\": 104}, \"38\": {\"38\": 19, \"24\": 1}, \"24\": {\"38\": 3, \"24\": 91, \"43\": 2}, \"1\": {\"1\": 102, \"57\": 6, \"55\": 3, \"29\": 1}, \"6\": {\"6\": 113, \"50\": 10, \"25\": 1}, \"34\": {\"34\": 28}, \"11\": {\"11\": 136}, \"9\": {\"9\": 150}, \"8\": {\"8\": 152}, \"22\": {\"22\": 132, \"56\": 4}, \"26\": {\"26\": 24}, \"23\": {\"23\": 146}, \"10\": {\"10\": 112}, \"18\": {\"18\": 46, \"41\": 2}, \"13\": {\"13\": 115, \"52\": 1}, \"30\": {\"30\": 128}, \"42\": {\"42\": 36}, \"31\": {\"31\": 28}, \"46\": {\"46\": 102, \"6\": 1, \"52\": 8, \"15\": 9, \"16\": 5, \"39\": 1, \"50\": 1, \"11\": 1}, \"57\": {\"57\": 138, \"1\": 4}, \"47\": {\"47\": 138}, \"35\": {\"35\": 32}, \"15\": {\"15\": 130, \"7\": 1, \"47\": 1}, \"25\": {\"25\": 107, \"36\": 8, \"6\": 3, \"8\": 14, \"50\": 1, \"30\": 1, \"27\": 2}, \"19\": {\"19\": 136}, \"51\": {\"51\": 128}, \"53\": {\"53\": 115, \"20\": 17, \"27\": 2}, \"21\": {\"21\": 120}, \"39\": {\"39\": 27, \"2\": 1}, \"2\": {\"2\": 32}, \"16\": {\"16\": 150}, \"0\": {\"0\": 48}, \"3\": {\"3\": 91, \"21\": 1}, \"27\": {\"27\": 142}, \"28\": {\"28\": 27, \"41\": 1}, \"29\": {\"29\": 128}}}, \"per_domain_accuracy\": {\"O_14\": {\"accuracy\": 0.7690104166666667, \"source?\": true}, \"O_20\": {\"accuracy\": 0.5796875, \"source?\": true}, \"O_38\": {\"accuracy\": 0.6677083333333333, \"source?\": true}, \"O_8\": {\"accuracy\": 0.69921875, \"source?\": true}, \"O_50\": {\"accuracy\": 0.7080729166666667, \"source?\": true}, \"O_32\": {\"accuracy\": 0.6994791666666667, \"source?\": true}, \"O_26\": {\"accuracy\": 0.51640625, \"source?\": true}, \"O_44\": {\"accuracy\": 0.65703125, \"source?\": true}, \"C_3\": {\"accuracy\": 0.9549418604651163, \"source?\": false}, \"C_4\": {\"accuracy\": 0.9515151515151515, \"source?\": false}, \"C_5\": {\"accuracy\": 0.9542597765363129, \"source?\": false}, \"C_1\": {\"accuracy\": 0.9605532786885246, \"source?\": false}, \"C_2\": {\"accuracy\": 0.9639830508474576, \"source?\": false}}}, \"history\": {\"epoch_indices\": [1, 2, 3, 4, 5, 6, 7], \"train_label_loss\": [1.975212156417824, 1.0068835259858697, 0.8917861080861518, 0.8575974388402843, 0.8336178251830417, 0.8091089781373739, 0.7860843647094], \"source_val_label_loss\": [1.6891496181488037, 0.968377411365509, 0.9183515310287476, 0.9142261743545532, 0.8380287885665894, 0.8254975080490112, 0.8465600609779358], \"target_val_label_loss\": [4.011106014251709, 0.20403744280338287, 0.20047493278980255, 0.3408389985561371, 0.4947889745235443, 1.0638889074325562, 1.3933680057525635], \"source_val_acc_label\": [0.4056640625, 0.63349609375, 0.6620768229166667, 0.6669596354166667, 0.6857747395833333, 0.6939127604166667, 0.6778971354166666], \"target_val_acc_label\": [0.7325556506849316, 0.9551940639269406, 0.957156107305936, 0.9473102168949772, 0.940603595890411, 0.9328624429223744, 0.936964897260274]}, \"dataset_metrics\": {\"source\": {\"train\": {\"n_unique_x\": 179200, \"n_unique_y\": 16, \"n_batch/episode\": 6720}, \"val\": {\"n_unique_x\": 38400, \"n_unique_y\": 16, \"n_batch/episode\": 960}, \"test\": {\"n_unique_x\": 38400, \"n_unique_y\": 16, \"n_batch/episode\": 960}}, \"target\": {\"train\": {\"n_unique_x\": 175212, \"n_unique_y\": 58, \"n_batch/episode\": 6322}, \"val\": {\"n_unique_x\": 37196, \"n_unique_y\": 58, \"n_batch/episode\": 876}, \"test\": {\"n_unique_x\": 37634, \"n_unique_y\": 58, \"n_batch/episode\": 891}}}}'"
      ]
     },
     "execution_count": 29,
     "metadata": {},
     "output_type": "execute_result"
    }
   ],
   "source": [
    "json.dumps(experiment)"
   ]
  }
 ],
 "metadata": {
  "celltoolbar": "Tags",
  "kernelspec": {
   "display_name": "Python 3 (ipykernel)",
   "language": "python",
   "name": "python3"
  },
  "language_info": {
   "codemirror_mode": {
    "name": "ipython",
    "version": 3
   },
   "file_extension": ".py",
   "mimetype": "text/x-python",
   "name": "python",
   "nbconvert_exporter": "python",
   "pygments_lexer": "ipython3",
   "version": "3.8.12"
  },
  "papermill": {
   "default_parameters": {},
   "duration": 1361.897868,
   "end_time": "2022-03-28T09:52:22.673684",
   "environment_variables": {},
   "exception": null,
   "input_path": "/root/csc500-main/csc500-notebooks/templates/tl_ptn_template.ipynb",
   "output_path": "trial.ipynb",
   "parameters": {
    "parameters": {
     "BEST_MODEL_PATH": "./best_model.pth",
     "NUM_LOGS_PER_EPOCH": 10,
     "criteria_for_best": "target_accuracy",
     "dataset_seed": 1337,
     "datasets": [
      {
       "domain_prefix": "C_",
       "domains": [
        1,
        2,
        3,
        4,
        5
       ],
       "episode_transforms": [],
       "labels": [
        "1-10.",
        "1-11.",
        "1-15.",
        "1-16.",
        "1-17.",
        "1-18.",
        "1-19.",
        "10-4.",
        "10-7.",
        "11-1.",
        "11-14.",
        "11-17.",
        "11-20.",
        "11-7.",
        "13-20.",
        "13-8.",
        "14-10.",
        "14-11.",
        "14-14.",
        "14-7.",
        "15-1.",
        "15-20.",
        "16-1.",
        "16-16.",
        "17-10.",
        "17-11.",
        "17-2.",
        "19-1.",
        "19-16.",
        "19-19.",
        "19-20.",
        "19-3.",
        "2-10.",
        "2-11.",
        "2-17.",
        "2-18.",
        "2-20.",
        "2-3.",
        "2-4.",
        "2-5.",
        "2-6.",
        "2-7.",
        "2-8.",
        "3-13.",
        "3-18.",
        "3-3.",
        "4-1.",
        "4-10.",
        "4-11.",
        "4-19.",
        "5-5.",
        "6-15.",
        "7-10.",
        "7-14.",
        "8-18.",
        "8-20.",
        "8-3.",
        "8-8."
       ],
       "num_examples_per_domain_per_label": -1,
       "pickle_path": "/root/csc500-main/datasets/cores.stratified_ds.2022A.pkl",
       "source_or_target_dataset": "target",
       "x_transforms": [
        "unit_mag",
        "jitter_256_10",
        "lowpass_+/-10MHz",
        "take_200"
       ]
      },
      {
       "domain_prefix": "O_",
       "domains": [
        32,
        38,
        8,
        44,
        14,
        50,
        20,
        26
       ],
       "episode_transforms": [],
       "labels": [
        "3123D52",
        "3123D65",
        "3123D79",
        "3123D80",
        "3123D54",
        "3123D70",
        "3123D7B",
        "3123D89",
        "3123D58",
        "3123D76",
        "3123D7D",
        "3123EFE",
        "3123D64",
        "3123D78",
        "3123D7E",
        "3124E4A"
       ],
       "num_examples_per_domain_per_label": 2000,
       "pickle_path": "/root/csc500-main/datasets/oracle.Run1_framed_2000Examples_stratified_ds.2022A.pkl",
       "source_or_target_dataset": "source",
       "x_transforms": [
        "unit_mag",
        "jitter_256_10",
        "take_200",
        "resample_20Msps_to_25Msps"
       ]
      }
     ],
     "device": "cuda",
     "experiment_name": "tl_3-jitter10v2:oracle.run1.framed -> cores",
     "lr": 0.0001,
     "n_epoch": 50,
     "n_query": 2,
     "n_shot": 3,
     "n_way": 16,
     "patience": 3,
     "seed": 1337,
     "test_k_factor": 2,
     "torch_default_dtype": "torch.float32",
     "train_k_factor": 3,
     "val_k_factor": 2,
     "x_net": [
      {
       "class": "nnReshape",
       "kargs": {
        "shape": [
         -1,
         1,
         2,
         256
        ]
       }
      },
      {
       "class": "Conv2d",
       "kargs": {
        "bias": false,
        "in_channels": 1,
        "kernel_size": [
         1,
         7
        ],
        "out_channels": 256,
        "padding": [
         0,
         3
        ]
       }
      },
      {
       "class": "ReLU",
       "kargs": {
        "inplace": true
       }
      },
      {
       "class": "BatchNorm2d",
       "kargs": {
        "num_features": 256
       }
      },
      {
       "class": "Conv2d",
       "kargs": {
        "bias": true,
        "in_channels": 256,
        "kernel_size": [
         2,
         7
        ],
        "out_channels": 80,
        "padding": [
         0,
         3
        ]
       }
      },
      {
       "class": "ReLU",
       "kargs": {
        "inplace": true
       }
      },
      {
       "class": "BatchNorm2d",
       "kargs": {
        "num_features": 80
       }
      },
      {
       "class": "Flatten",
       "kargs": {}
      },
      {
       "class": "Linear",
       "kargs": {
        "in_features": 20480,
        "out_features": 256
       }
      },
      {
       "class": "ReLU",
       "kargs": {
        "inplace": true
       }
      },
      {
       "class": "BatchNorm1d",
       "kargs": {
        "num_features": 256
       }
      },
      {
       "class": "Linear",
       "kargs": {
        "in_features": 256,
        "out_features": 256
       }
      }
     ],
     "x_shape": [
      2,
      256
     ]
    }
   },
   "start_time": "2022-03-28T09:29:40.775816",
   "version": "2.3.4"
  }
 },
 "nbformat": 4,
 "nbformat_minor": 5
}