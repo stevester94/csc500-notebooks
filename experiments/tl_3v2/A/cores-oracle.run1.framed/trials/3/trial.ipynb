{
 "cells": [
  {
   "cell_type": "markdown",
   "id": "9fea5f46",
   "metadata": {
    "papermill": {
     "duration": 0.017909,
     "end_time": "2022-03-25T03:09:03.221757",
     "exception": false,
     "start_time": "2022-03-25T03:09:03.203848",
     "status": "completed"
    },
    "tags": []
   },
   "source": [
    "# Transfer Learning Template"
   ]
  },
  {
   "cell_type": "code",
   "execution_count": 1,
   "id": "0902182a",
   "metadata": {
    "execution": {
     "iopub.execute_input": "2022-03-25T03:09:03.259557Z",
     "iopub.status.busy": "2022-03-25T03:09:03.259167Z",
     "iopub.status.idle": "2022-03-25T03:09:04.217384Z",
     "shell.execute_reply": "2022-03-25T03:09:04.216770Z"
    },
    "papermill": {
     "duration": 0.982892,
     "end_time": "2022-03-25T03:09:04.217502",
     "exception": false,
     "start_time": "2022-03-25T03:09:03.234610",
     "status": "completed"
    },
    "tags": []
   },
   "outputs": [],
   "source": [
    "%load_ext autoreload\n",
    "%autoreload 2\n",
    "%matplotlib inline\n",
    "\n",
    "    \n",
    "import os, json, sys, time, random\n",
    "import numpy as np\n",
    "import torch\n",
    "from torch.optim import Adam\n",
    "from  easydict import EasyDict\n",
    "import matplotlib.pyplot as plt\n",
    "\n",
    "from steves_models.steves_ptn import Steves_Prototypical_Network\n",
    "\n",
    "from steves_utils.lazy_iterable_wrapper import Lazy_Iterable_Wrapper\n",
    "from steves_utils.iterable_aggregator import Iterable_Aggregator\n",
    "from steves_utils.ptn_train_eval_test_jig import  PTN_Train_Eval_Test_Jig\n",
    "from steves_utils.torch_sequential_builder import build_sequential\n",
    "from steves_utils.torch_utils import get_dataset_metrics, ptn_confusion_by_domain_over_dataloader\n",
    "from steves_utils.utils_v2 import (per_domain_accuracy_from_confusion, get_datasets_base_path)\n",
    "from steves_utils.PTN.utils import independent_accuracy_assesment\n",
    "\n",
    "from torch.utils.data import DataLoader\n",
    "\n",
    "from steves_utils.stratified_dataset.episodic_accessor import Episodic_Accessor_Factory\n",
    "\n",
    "from steves_utils.ptn_do_report import (\n",
    "    get_loss_curve,\n",
    "    get_results_table,\n",
    "    get_parameters_table,\n",
    "    get_domain_accuracies,\n",
    ")\n",
    "\n",
    "from steves_utils.transforms import get_chained_transform"
   ]
  },
  {
   "cell_type": "markdown",
   "id": "41c840b4",
   "metadata": {
    "papermill": {
     "duration": 0.013246,
     "end_time": "2022-03-25T03:09:04.250602",
     "exception": false,
     "start_time": "2022-03-25T03:09:04.237356",
     "status": "completed"
    },
    "tags": []
   },
   "source": [
    "# Allowed Parameters\n",
    "These are allowed parameters, not defaults\n",
    "Each of these values need to be present in the injected parameters (the notebook will raise an exception if they are not present)\n",
    "\n",
    "Papermill uses the cell tag \"parameters\" to inject the real parameters below this cell.\n",
    "Enable tags to see what I mean"
   ]
  },
  {
   "cell_type": "code",
   "execution_count": 2,
   "id": "fd44eb83",
   "metadata": {
    "execution": {
     "iopub.execute_input": "2022-03-25T03:09:04.279465Z",
     "iopub.status.busy": "2022-03-25T03:09:04.279072Z",
     "iopub.status.idle": "2022-03-25T03:09:04.294846Z",
     "shell.execute_reply": "2022-03-25T03:09:04.294453Z"
    },
    "papermill": {
     "duration": 0.031622,
     "end_time": "2022-03-25T03:09:04.294931",
     "exception": false,
     "start_time": "2022-03-25T03:09:04.263309",
     "status": "completed"
    },
    "tags": []
   },
   "outputs": [],
   "source": [
    "required_parameters = {\n",
    "    \"experiment_name\",\n",
    "    \"lr\",\n",
    "    \"device\",\n",
    "    \"seed\",\n",
    "    \"dataset_seed\",\n",
    "    \"n_shot\",\n",
    "    \"n_query\",\n",
    "    \"n_way\",\n",
    "    \"train_k_factor\",\n",
    "    \"val_k_factor\",\n",
    "    \"test_k_factor\",\n",
    "    \"n_epoch\",\n",
    "    \"patience\",\n",
    "    \"criteria_for_best\",\n",
    "    \"x_net\",\n",
    "    \"datasets\",\n",
    "    \"torch_default_dtype\",\n",
    "    \"NUM_LOGS_PER_EPOCH\",\n",
    "    \"BEST_MODEL_PATH\",\n",
    "    \"x_shape\",\n",
    "}"
   ]
  },
  {
   "cell_type": "code",
   "execution_count": 3,
   "id": "fa3f0049",
   "metadata": {
    "execution": {
     "iopub.execute_input": "2022-03-25T03:09:04.332250Z",
     "iopub.status.busy": "2022-03-25T03:09:04.331827Z",
     "iopub.status.idle": "2022-03-25T03:09:04.345174Z",
     "shell.execute_reply": "2022-03-25T03:09:04.344666Z"
    },
    "papermill": {
     "duration": 0.032339,
     "end_time": "2022-03-25T03:09:04.345280",
     "exception": false,
     "start_time": "2022-03-25T03:09:04.312941",
     "status": "completed"
    },
    "tags": [
     "parameters"
    ]
   },
   "outputs": [],
   "source": [
    "from steves_utils.CORES.utils import (\n",
    "    ALL_NODES,\n",
    "    ALL_NODES_MINIMUM_1000_EXAMPLES,\n",
    "    ALL_DAYS\n",
    ")\n",
    "\n",
    "from steves_utils.ORACLE.utils_v2 import (\n",
    "    ALL_DISTANCES_FEET_NARROWED,\n",
    "    ALL_RUNS,\n",
    "    ALL_SERIAL_NUMBERS,\n",
    ")\n",
    "\n",
    "standalone_parameters = {}\n",
    "standalone_parameters[\"experiment_name\"] = \"STANDALONE PTN\"\n",
    "standalone_parameters[\"lr\"] = 0.001\n",
    "standalone_parameters[\"device\"] = \"cuda\"\n",
    "\n",
    "standalone_parameters[\"seed\"] = 1337\n",
    "standalone_parameters[\"dataset_seed\"] = 1337\n",
    "\n",
    "standalone_parameters[\"n_way\"] = 8\n",
    "standalone_parameters[\"n_shot\"] = 3\n",
    "standalone_parameters[\"n_query\"]  = 2\n",
    "standalone_parameters[\"train_k_factor\"] = 1\n",
    "standalone_parameters[\"val_k_factor\"] = 2\n",
    "standalone_parameters[\"test_k_factor\"] = 2\n",
    "\n",
    "\n",
    "standalone_parameters[\"n_epoch\"] = 50\n",
    "\n",
    "standalone_parameters[\"patience\"] = 10\n",
    "standalone_parameters[\"criteria_for_best\"] = \"source_loss\"\n",
    "\n",
    "standalone_parameters[\"datasets\"] = [\n",
    "    {\n",
    "        \"labels\": ALL_SERIAL_NUMBERS,\n",
    "        \"domains\": ALL_DISTANCES_FEET_NARROWED,\n",
    "        \"num_examples_per_domain_per_label\": 100,\n",
    "        \"pickle_path\": os.path.join(get_datasets_base_path(), \"oracle.Run1_framed_2000Examples_stratified_ds.2022A.pkl\"),\n",
    "        \"source_or_target_dataset\": \"source\",\n",
    "        \"x_transforms\": [\"unit_mag\", \"minus_two\"],\n",
    "        \"episode_transforms\": [],\n",
    "        \"domain_prefix\": \"ORACLE_\"\n",
    "    },\n",
    "    {\n",
    "        \"labels\": ALL_NODES,\n",
    "        \"domains\": ALL_DAYS,\n",
    "        \"num_examples_per_domain_per_label\": 100,\n",
    "        \"pickle_path\": os.path.join(get_datasets_base_path(), \"cores.stratified_ds.2022A.pkl\"),\n",
    "        \"source_or_target_dataset\": \"target\",\n",
    "        \"x_transforms\": [\"unit_power\", \"times_zero\"],\n",
    "        \"episode_transforms\": [],\n",
    "        \"domain_prefix\": \"CORES_\"\n",
    "    }   \n",
    "]\n",
    "\n",
    "standalone_parameters[\"torch_default_dtype\"] = \"torch.float32\" \n",
    "\n",
    "\n",
    "\n",
    "standalone_parameters[\"x_net\"] =     [\n",
    "    {\"class\": \"nnReshape\", \"kargs\": {\"shape\":[-1, 1, 2, 256]}},\n",
    "    {\"class\": \"Conv2d\", \"kargs\": { \"in_channels\":1, \"out_channels\":256, \"kernel_size\":(1,7), \"bias\":False, \"padding\":(0,3), },},\n",
    "    {\"class\": \"ReLU\", \"kargs\": {\"inplace\": True}},\n",
    "    {\"class\": \"BatchNorm2d\", \"kargs\": {\"num_features\":256}},\n",
    "\n",
    "    {\"class\": \"Conv2d\", \"kargs\": { \"in_channels\":256, \"out_channels\":80, \"kernel_size\":(2,7), \"bias\":True, \"padding\":(0,3), },},\n",
    "    {\"class\": \"ReLU\", \"kargs\": {\"inplace\": True}},\n",
    "    {\"class\": \"BatchNorm2d\", \"kargs\": {\"num_features\":80}},\n",
    "    {\"class\": \"Flatten\", \"kargs\": {}},\n",
    "\n",
    "    {\"class\": \"Linear\", \"kargs\": {\"in_features\": 80*256, \"out_features\": 256}}, # 80 units per IQ pair\n",
    "    {\"class\": \"ReLU\", \"kargs\": {\"inplace\": True}},\n",
    "    {\"class\": \"BatchNorm1d\", \"kargs\": {\"num_features\":256}},\n",
    "\n",
    "    {\"class\": \"Linear\", \"kargs\": {\"in_features\": 256, \"out_features\": 256}},\n",
    "]\n",
    "\n",
    "# Parameters relevant to results\n",
    "# These parameters will basically never need to change\n",
    "standalone_parameters[\"NUM_LOGS_PER_EPOCH\"] = 10\n",
    "standalone_parameters[\"BEST_MODEL_PATH\"] = \"./best_model.pth\"\n",
    "\n",
    "\n",
    "\n",
    "\n"
   ]
  },
  {
   "cell_type": "code",
   "execution_count": 4,
   "id": "0c296c17",
   "metadata": {
    "execution": {
     "iopub.execute_input": "2022-03-25T03:09:04.389497Z",
     "iopub.status.busy": "2022-03-25T03:09:04.389060Z",
     "iopub.status.idle": "2022-03-25T03:09:04.401929Z",
     "shell.execute_reply": "2022-03-25T03:09:04.401611Z"
    },
    "papermill": {
     "duration": 0.036172,
     "end_time": "2022-03-25T03:09:04.402021",
     "exception": false,
     "start_time": "2022-03-25T03:09:04.365849",
     "status": "completed"
    },
    "tags": [
     "injected-parameters"
    ]
   },
   "outputs": [],
   "source": [
    "# Parameters\n",
    "parameters = {\n",
    "    \"experiment_name\": \"tl_3Av2:cores -> oracle.run1.framed\",\n",
    "    \"device\": \"cuda\",\n",
    "    \"lr\": 0.0001,\n",
    "    \"x_shape\": [2, 200],\n",
    "    \"n_shot\": 3,\n",
    "    \"n_query\": 2,\n",
    "    \"train_k_factor\": 3,\n",
    "    \"val_k_factor\": 2,\n",
    "    \"test_k_factor\": 2,\n",
    "    \"torch_default_dtype\": \"torch.float32\",\n",
    "    \"n_epoch\": 50,\n",
    "    \"patience\": 3,\n",
    "    \"criteria_for_best\": \"target_accuracy\",\n",
    "    \"x_net\": [\n",
    "        {\"class\": \"nnReshape\", \"kargs\": {\"shape\": [-1, 1, 2, 200]}},\n",
    "        {\n",
    "            \"class\": \"Conv2d\",\n",
    "            \"kargs\": {\n",
    "                \"in_channels\": 1,\n",
    "                \"out_channels\": 256,\n",
    "                \"kernel_size\": [1, 7],\n",
    "                \"bias\": False,\n",
    "                \"padding\": [0, 3],\n",
    "            },\n",
    "        },\n",
    "        {\"class\": \"ReLU\", \"kargs\": {\"inplace\": True}},\n",
    "        {\"class\": \"BatchNorm2d\", \"kargs\": {\"num_features\": 256}},\n",
    "        {\n",
    "            \"class\": \"Conv2d\",\n",
    "            \"kargs\": {\n",
    "                \"in_channels\": 256,\n",
    "                \"out_channels\": 80,\n",
    "                \"kernel_size\": [2, 7],\n",
    "                \"bias\": True,\n",
    "                \"padding\": [0, 3],\n",
    "            },\n",
    "        },\n",
    "        {\"class\": \"ReLU\", \"kargs\": {\"inplace\": True}},\n",
    "        {\"class\": \"BatchNorm2d\", \"kargs\": {\"num_features\": 80}},\n",
    "        {\"class\": \"Flatten\", \"kargs\": {}},\n",
    "        {\"class\": \"Linear\", \"kargs\": {\"in_features\": 16000, \"out_features\": 256}},\n",
    "        {\"class\": \"ReLU\", \"kargs\": {\"inplace\": True}},\n",
    "        {\"class\": \"BatchNorm1d\", \"kargs\": {\"num_features\": 256}},\n",
    "        {\"class\": \"Linear\", \"kargs\": {\"in_features\": 256, \"out_features\": 256}},\n",
    "    ],\n",
    "    \"NUM_LOGS_PER_EPOCH\": 10,\n",
    "    \"BEST_MODEL_PATH\": \"./best_model.pth\",\n",
    "    \"n_way\": 16,\n",
    "    \"datasets\": [\n",
    "        {\n",
    "            \"labels\": [\n",
    "                \"1-10.\",\n",
    "                \"1-11.\",\n",
    "                \"1-15.\",\n",
    "                \"1-16.\",\n",
    "                \"1-17.\",\n",
    "                \"1-18.\",\n",
    "                \"1-19.\",\n",
    "                \"10-4.\",\n",
    "                \"10-7.\",\n",
    "                \"11-1.\",\n",
    "                \"11-14.\",\n",
    "                \"11-17.\",\n",
    "                \"11-20.\",\n",
    "                \"11-7.\",\n",
    "                \"13-20.\",\n",
    "                \"13-8.\",\n",
    "                \"14-10.\",\n",
    "                \"14-11.\",\n",
    "                \"14-14.\",\n",
    "                \"14-7.\",\n",
    "                \"15-1.\",\n",
    "                \"15-20.\",\n",
    "                \"16-1.\",\n",
    "                \"16-16.\",\n",
    "                \"17-10.\",\n",
    "                \"17-11.\",\n",
    "                \"17-2.\",\n",
    "                \"19-1.\",\n",
    "                \"19-16.\",\n",
    "                \"19-19.\",\n",
    "                \"19-20.\",\n",
    "                \"19-3.\",\n",
    "                \"2-10.\",\n",
    "                \"2-11.\",\n",
    "                \"2-17.\",\n",
    "                \"2-18.\",\n",
    "                \"2-20.\",\n",
    "                \"2-3.\",\n",
    "                \"2-4.\",\n",
    "                \"2-5.\",\n",
    "                \"2-6.\",\n",
    "                \"2-7.\",\n",
    "                \"2-8.\",\n",
    "                \"3-13.\",\n",
    "                \"3-18.\",\n",
    "                \"3-3.\",\n",
    "                \"4-1.\",\n",
    "                \"4-10.\",\n",
    "                \"4-11.\",\n",
    "                \"4-19.\",\n",
    "                \"5-5.\",\n",
    "                \"6-15.\",\n",
    "                \"7-10.\",\n",
    "                \"7-14.\",\n",
    "                \"8-18.\",\n",
    "                \"8-20.\",\n",
    "                \"8-3.\",\n",
    "                \"8-8.\",\n",
    "            ],\n",
    "            \"domains\": [1, 2, 3, 4, 5],\n",
    "            \"num_examples_per_domain_per_label\": -1,\n",
    "            \"pickle_path\": \"/mnt/wd500GB/CSC500/csc500-main/datasets/cores.stratified_ds.2022A.pkl\",\n",
    "            \"source_or_target_dataset\": \"source\",\n",
    "            \"x_transforms\": [\"unit_power\", \"take_200\"],\n",
    "            \"episode_transforms\": [],\n",
    "            \"domain_prefix\": \"C_\",\n",
    "        },\n",
    "        {\n",
    "            \"labels\": [\n",
    "                \"3123D52\",\n",
    "                \"3123D65\",\n",
    "                \"3123D79\",\n",
    "                \"3123D80\",\n",
    "                \"3123D54\",\n",
    "                \"3123D70\",\n",
    "                \"3123D7B\",\n",
    "                \"3123D89\",\n",
    "                \"3123D58\",\n",
    "                \"3123D76\",\n",
    "                \"3123D7D\",\n",
    "                \"3123EFE\",\n",
    "                \"3123D64\",\n",
    "                \"3123D78\",\n",
    "                \"3123D7E\",\n",
    "                \"3124E4A\",\n",
    "            ],\n",
    "            \"domains\": [32, 38, 8, 44, 14, 50, 20, 26],\n",
    "            \"num_examples_per_domain_per_label\": 2000,\n",
    "            \"pickle_path\": \"/mnt/wd500GB/CSC500/csc500-main/datasets/oracle.Run1_framed_2000Examples_stratified_ds.2022A.pkl\",\n",
    "            \"source_or_target_dataset\": \"target\",\n",
    "            \"x_transforms\": [\"unit_power\", \"take_200\", \"resample_20Msps_to_25Msps\"],\n",
    "            \"episode_transforms\": [],\n",
    "            \"domain_prefix\": \"O_\",\n",
    "        },\n",
    "    ],\n",
    "    \"seed\": 420,\n",
    "    \"dataset_seed\": 420,\n",
    "}\n"
   ]
  },
  {
   "cell_type": "code",
   "execution_count": 5,
   "id": "8fa1cc33",
   "metadata": {
    "execution": {
     "iopub.execute_input": "2022-03-25T03:09:04.435348Z",
     "iopub.status.busy": "2022-03-25T03:09:04.435087Z",
     "iopub.status.idle": "2022-03-25T03:09:04.450306Z",
     "shell.execute_reply": "2022-03-25T03:09:04.449840Z"
    },
    "papermill": {
     "duration": 0.031387,
     "end_time": "2022-03-25T03:09:04.450416",
     "exception": false,
     "start_time": "2022-03-25T03:09:04.419029",
     "status": "completed"
    },
    "tags": []
   },
   "outputs": [],
   "source": [
    "# Set this to True if you want to run this template directly\n",
    "STANDALONE = False\n",
    "if STANDALONE:\n",
    "    print(\"parameters not injected, running with standalone_parameters\")\n",
    "    parameters = standalone_parameters\n",
    "\n",
    "if not 'parameters' in locals() and not 'parameters' in globals():\n",
    "    raise Exception(\"Parameter injection failed\")\n",
    "\n",
    "#Use an easy dict for all the parameters\n",
    "p = EasyDict(parameters)\n",
    "\n",
    "if \"x_shape\" not in p:\n",
    "    p.x_shape = [2,256] # Default to this if we dont supply x_shape\n",
    "\n",
    "\n",
    "supplied_keys = set(p.keys())\n",
    "\n",
    "if  supplied_keys != required_parameters:\n",
    "    print(\"Parameters are incorrect\")\n",
    "    if len(supplied_keys - required_parameters)>0: print(\"Shouldn't have:\", str(supplied_keys - required_parameters))\n",
    "    if len(required_parameters - supplied_keys)>0: print(\"Need to have:\", str(required_parameters - supplied_keys))\n",
    "    raise RuntimeError(\"Parameters are incorrect\")"
   ]
  },
  {
   "cell_type": "code",
   "execution_count": 6,
   "id": "3a028d58",
   "metadata": {
    "execution": {
     "iopub.execute_input": "2022-03-25T03:09:04.482840Z",
     "iopub.status.busy": "2022-03-25T03:09:04.482566Z",
     "iopub.status.idle": "2022-03-25T03:09:04.496991Z",
     "shell.execute_reply": "2022-03-25T03:09:04.496481Z"
    },
    "papermill": {
     "duration": 0.030939,
     "end_time": "2022-03-25T03:09:04.497101",
     "exception": false,
     "start_time": "2022-03-25T03:09:04.466162",
     "status": "completed"
    },
    "tags": []
   },
   "outputs": [],
   "source": [
    "###################################\n",
    "# Set the RNGs and make it all deterministic\n",
    "###################################\n",
    "np.random.seed(p.seed)\n",
    "random.seed(p.seed)\n",
    "torch.manual_seed(p.seed)\n",
    "\n",
    "torch.use_deterministic_algorithms(True) "
   ]
  },
  {
   "cell_type": "code",
   "execution_count": 7,
   "id": "b691acf6",
   "metadata": {
    "execution": {
     "iopub.execute_input": "2022-03-25T03:09:04.531400Z",
     "iopub.status.busy": "2022-03-25T03:09:04.531103Z",
     "iopub.status.idle": "2022-03-25T03:09:04.544869Z",
     "shell.execute_reply": "2022-03-25T03:09:04.544451Z"
    },
    "papermill": {
     "duration": 0.029554,
     "end_time": "2022-03-25T03:09:04.544982",
     "exception": false,
     "start_time": "2022-03-25T03:09:04.515428",
     "status": "completed"
    },
    "tags": []
   },
   "outputs": [],
   "source": [
    "###########################################\n",
    "# The stratified datasets honor this\n",
    "###########################################\n",
    "torch.set_default_dtype(eval(p.torch_default_dtype))"
   ]
  },
  {
   "cell_type": "code",
   "execution_count": 8,
   "id": "b5fba671",
   "metadata": {
    "execution": {
     "iopub.execute_input": "2022-03-25T03:09:04.579700Z",
     "iopub.status.busy": "2022-03-25T03:09:04.579439Z",
     "iopub.status.idle": "2022-03-25T03:09:04.617757Z",
     "shell.execute_reply": "2022-03-25T03:09:04.618186Z"
    },
    "papermill": {
     "duration": 0.054731,
     "end_time": "2022-03-25T03:09:04.618324",
     "exception": false,
     "start_time": "2022-03-25T03:09:04.563593",
     "status": "completed"
    },
    "tags": []
   },
   "outputs": [],
   "source": [
    "###################################\n",
    "# Build the network(s)\n",
    "# Note: It's critical to do this AFTER setting the RNG\n",
    "###################################\n",
    "x_net = build_sequential(p.x_net)"
   ]
  },
  {
   "cell_type": "code",
   "execution_count": 9,
   "id": "5d7e61cc",
   "metadata": {
    "execution": {
     "iopub.execute_input": "2022-03-25T03:09:04.654995Z",
     "iopub.status.busy": "2022-03-25T03:09:04.654738Z",
     "iopub.status.idle": "2022-03-25T03:09:04.668300Z",
     "shell.execute_reply": "2022-03-25T03:09:04.668710Z"
    },
    "papermill": {
     "duration": 0.030102,
     "end_time": "2022-03-25T03:09:04.668840",
     "exception": false,
     "start_time": "2022-03-25T03:09:04.638738",
     "status": "completed"
    },
    "tags": []
   },
   "outputs": [],
   "source": [
    "start_time_secs = time.time()"
   ]
  },
  {
   "cell_type": "code",
   "execution_count": 10,
   "id": "c6b67dfd",
   "metadata": {
    "execution": {
     "iopub.execute_input": "2022-03-25T03:09:04.702768Z",
     "iopub.status.busy": "2022-03-25T03:09:04.702511Z",
     "iopub.status.idle": "2022-03-25T03:09:04.714695Z",
     "shell.execute_reply": "2022-03-25T03:09:04.714284Z"
    },
    "papermill": {
     "duration": 0.027953,
     "end_time": "2022-03-25T03:09:04.714800",
     "exception": false,
     "start_time": "2022-03-25T03:09:04.686847",
     "status": "completed"
    },
    "tags": []
   },
   "outputs": [],
   "source": [
    "p.domains_source = []\n",
    "p.domains_target = []\n",
    "\n",
    "\n",
    "train_original_source = []\n",
    "val_original_source   = []\n",
    "test_original_source  = []\n",
    "\n",
    "train_original_target = []\n",
    "val_original_target   = []\n",
    "test_original_target  = []"
   ]
  },
  {
   "cell_type": "code",
   "execution_count": 11,
   "id": "e3d9c3d3",
   "metadata": {
    "execution": {
     "iopub.execute_input": "2022-03-25T03:09:04.745185Z",
     "iopub.status.busy": "2022-03-25T03:09:04.744931Z",
     "iopub.status.idle": "2022-03-25T03:09:04.760855Z",
     "shell.execute_reply": "2022-03-25T03:09:04.760365Z"
    },
    "papermill": {
     "duration": 0.031112,
     "end_time": "2022-03-25T03:09:04.760958",
     "exception": false,
     "start_time": "2022-03-25T03:09:04.729846",
     "status": "completed"
    },
    "tags": []
   },
   "outputs": [],
   "source": [
    "# global_x_transform_func = lambda x: normalize(x.to(torch.get_default_dtype()), \"unit_power\") # unit_power, unit_mag\n",
    "# global_x_transform_func = lambda x: normalize(x, \"unit_power\") # unit_power, unit_mag"
   ]
  },
  {
   "cell_type": "code",
   "execution_count": 12,
   "id": "acb78fd2",
   "metadata": {
    "execution": {
     "iopub.execute_input": "2022-03-25T03:09:04.801709Z",
     "iopub.status.busy": "2022-03-25T03:09:04.795104Z",
     "iopub.status.idle": "2022-03-25T03:09:04.813065Z",
     "shell.execute_reply": "2022-03-25T03:09:04.813446Z"
    },
    "papermill": {
     "duration": 0.034202,
     "end_time": "2022-03-25T03:09:04.813579",
     "exception": false,
     "start_time": "2022-03-25T03:09:04.779377",
     "status": "completed"
    },
    "tags": []
   },
   "outputs": [],
   "source": [
    "def add_dataset(\n",
    "    labels,\n",
    "    domains,\n",
    "    pickle_path,\n",
    "    x_transforms,\n",
    "    episode_transforms,\n",
    "    domain_prefix,\n",
    "    num_examples_per_domain_per_label,\n",
    "    source_or_target_dataset:str,\n",
    "    iterator_seed=p.seed,\n",
    "    dataset_seed=p.dataset_seed,\n",
    "    n_shot=p.n_shot,\n",
    "    n_way=p.n_way,\n",
    "    n_query=p.n_query,\n",
    "    train_val_test_k_factors=(p.train_k_factor,p.val_k_factor,p.test_k_factor),\n",
    "):\n",
    "   \n",
    "    if x_transforms == []: x_transform = None\n",
    "    else: x_transform = get_chained_transform(x_transforms)\n",
    "    \n",
    "    if episode_transforms == []: episode_transform = None\n",
    "    else: raise Exception(\"episode_transforms not implemented\")\n",
    "    \n",
    "    episode_transform = lambda tup, _prefix=domain_prefix: (_prefix + str(tup[0]), tup[1])\n",
    "\n",
    "\n",
    "    eaf = Episodic_Accessor_Factory(\n",
    "        labels=labels,\n",
    "        domains=domains,\n",
    "        num_examples_per_domain_per_label=num_examples_per_domain_per_label,\n",
    "        iterator_seed=iterator_seed,\n",
    "        dataset_seed=dataset_seed,\n",
    "        n_shot=n_shot,\n",
    "        n_way=n_way,\n",
    "        n_query=n_query,\n",
    "        train_val_test_k_factors=train_val_test_k_factors,\n",
    "        pickle_path=pickle_path,\n",
    "        x_transform_func=x_transform,\n",
    "    )\n",
    "\n",
    "    train, val, test = eaf.get_train(), eaf.get_val(), eaf.get_test()\n",
    "    train = Lazy_Iterable_Wrapper(train, episode_transform)\n",
    "    val = Lazy_Iterable_Wrapper(val, episode_transform)\n",
    "    test = Lazy_Iterable_Wrapper(test, episode_transform)\n",
    "\n",
    "    if source_or_target_dataset==\"source\":\n",
    "        train_original_source.append(train)\n",
    "        val_original_source.append(val)\n",
    "        test_original_source.append(test)\n",
    "\n",
    "        p.domains_source.extend(\n",
    "            [domain_prefix + str(u) for u in domains]\n",
    "        )\n",
    "    elif source_or_target_dataset==\"target\":\n",
    "        train_original_target.append(train)\n",
    "        val_original_target.append(val)\n",
    "        test_original_target.append(test)\n",
    "        p.domains_target.extend(\n",
    "            [domain_prefix + str(u) for u in domains]\n",
    "        )\n",
    "    else:\n",
    "        raise Exception(f\"invalid source_or_target_dataset: {source_or_target_dataset}\")\n",
    "    "
   ]
  },
  {
   "cell_type": "code",
   "execution_count": 13,
   "id": "fe266617",
   "metadata": {
    "execution": {
     "iopub.execute_input": "2022-03-25T03:09:04.847225Z",
     "iopub.status.busy": "2022-03-25T03:09:04.846969Z",
     "iopub.status.idle": "2022-03-25T03:09:56.523046Z",
     "shell.execute_reply": "2022-03-25T03:09:56.522789Z"
    },
    "papermill": {
     "duration": 51.691936,
     "end_time": "2022-03-25T03:09:56.523111",
     "exception": false,
     "start_time": "2022-03-25T03:09:04.831175",
     "status": "completed"
    },
    "tags": []
   },
   "outputs": [],
   "source": [
    "for ds in p.datasets:\n",
    "    add_dataset(**ds)"
   ]
  },
  {
   "cell_type": "code",
   "execution_count": 14,
   "id": "b90d65ac",
   "metadata": {
    "execution": {
     "iopub.execute_input": "2022-03-25T03:09:56.554891Z",
     "iopub.status.busy": "2022-03-25T03:09:56.554568Z",
     "iopub.status.idle": "2022-03-25T03:09:56.569675Z",
     "shell.execute_reply": "2022-03-25T03:09:56.570112Z"
    },
    "papermill": {
     "duration": 0.032438,
     "end_time": "2022-03-25T03:09:56.570244",
     "exception": false,
     "start_time": "2022-03-25T03:09:56.537806",
     "status": "completed"
    },
    "tags": []
   },
   "outputs": [],
   "source": [
    "# from steves_utils.CORES.utils import (\n",
    "#     ALL_NODES,\n",
    "#     ALL_NODES_MINIMUM_1000_EXAMPLES,\n",
    "#     ALL_DAYS\n",
    "# )\n",
    "\n",
    "# add_dataset(\n",
    "#     labels=ALL_NODES,\n",
    "#     domains = ALL_DAYS,\n",
    "#     num_examples_per_domain_per_label=100,\n",
    "#     pickle_path=os.path.join(get_datasets_base_path(), \"cores.stratified_ds.2022A.pkl\"),\n",
    "#     source_or_target_dataset=\"target\",\n",
    "#     x_transform_func=global_x_transform_func,\n",
    "#     domain_modifier=lambda u: f\"cores_{u}\"\n",
    "# )"
   ]
  },
  {
   "cell_type": "code",
   "execution_count": 15,
   "id": "76db484d",
   "metadata": {
    "execution": {
     "iopub.execute_input": "2022-03-25T03:09:56.604242Z",
     "iopub.status.busy": "2022-03-25T03:09:56.603965Z",
     "iopub.status.idle": "2022-03-25T03:09:56.619129Z",
     "shell.execute_reply": "2022-03-25T03:09:56.618697Z"
    },
    "papermill": {
     "duration": 0.030657,
     "end_time": "2022-03-25T03:09:56.619234",
     "exception": false,
     "start_time": "2022-03-25T03:09:56.588577",
     "status": "completed"
    },
    "tags": []
   },
   "outputs": [],
   "source": [
    "# from steves_utils.ORACLE.utils_v2 import (\n",
    "#     ALL_DISTANCES_FEET,\n",
    "#     ALL_RUNS,\n",
    "#     ALL_SERIAL_NUMBERS,\n",
    "# )\n",
    "\n",
    "\n",
    "# add_dataset(\n",
    "#     labels=ALL_SERIAL_NUMBERS,\n",
    "#     domains = list(set(ALL_DISTANCES_FEET) - {2,62}),\n",
    "#     num_examples_per_domain_per_label=100,\n",
    "#     pickle_path=os.path.join(get_datasets_base_path(), \"oracle.Run2_framed_2000Examples_stratified_ds.2022A.pkl\"),\n",
    "#     source_or_target_dataset=\"source\",\n",
    "#     x_transform_func=global_x_transform_func,\n",
    "#     domain_modifier=lambda u: f\"oracle1_{u}\"\n",
    "# )\n"
   ]
  },
  {
   "cell_type": "code",
   "execution_count": 16,
   "id": "97dea9d2",
   "metadata": {
    "execution": {
     "iopub.execute_input": "2022-03-25T03:09:56.652224Z",
     "iopub.status.busy": "2022-03-25T03:09:56.651951Z",
     "iopub.status.idle": "2022-03-25T03:09:56.666711Z",
     "shell.execute_reply": "2022-03-25T03:09:56.666272Z"
    },
    "papermill": {
     "duration": 0.030292,
     "end_time": "2022-03-25T03:09:56.666816",
     "exception": false,
     "start_time": "2022-03-25T03:09:56.636524",
     "status": "completed"
    },
    "tags": []
   },
   "outputs": [],
   "source": [
    "# from steves_utils.ORACLE.utils_v2 import (\n",
    "#     ALL_DISTANCES_FEET,\n",
    "#     ALL_RUNS,\n",
    "#     ALL_SERIAL_NUMBERS,\n",
    "# )\n",
    "\n",
    "\n",
    "# add_dataset(\n",
    "#     labels=ALL_SERIAL_NUMBERS,\n",
    "#     domains = list(set(ALL_DISTANCES_FEET) - {2,62,56}),\n",
    "#     num_examples_per_domain_per_label=100,\n",
    "#     pickle_path=os.path.join(get_datasets_base_path(), \"oracle.Run2_framed_2000Examples_stratified_ds.2022A.pkl\"),\n",
    "#     source_or_target_dataset=\"source\",\n",
    "#     x_transform_func=global_x_transform_func,\n",
    "#     domain_modifier=lambda u: f\"oracle2_{u}\"\n",
    "# )"
   ]
  },
  {
   "cell_type": "code",
   "execution_count": 17,
   "id": "6f289866",
   "metadata": {
    "execution": {
     "iopub.execute_input": "2022-03-25T03:09:56.702180Z",
     "iopub.status.busy": "2022-03-25T03:09:56.701874Z",
     "iopub.status.idle": "2022-03-25T03:09:56.717796Z",
     "shell.execute_reply": "2022-03-25T03:09:56.717309Z"
    },
    "papermill": {
     "duration": 0.031367,
     "end_time": "2022-03-25T03:09:56.717898",
     "exception": false,
     "start_time": "2022-03-25T03:09:56.686531",
     "status": "completed"
    },
    "tags": []
   },
   "outputs": [],
   "source": [
    "# add_dataset(\n",
    "#     labels=list(range(19)),\n",
    "#     domains = [0,1,2],\n",
    "#     num_examples_per_domain_per_label=100,\n",
    "#     pickle_path=os.path.join(get_datasets_base_path(), \"metehan.stratified_ds.2022A.pkl\"),\n",
    "#     source_or_target_dataset=\"target\",\n",
    "#     x_transform_func=global_x_transform_func,\n",
    "#     domain_modifier=lambda u: f\"met_{u}\"\n",
    "# )"
   ]
  },
  {
   "cell_type": "code",
   "execution_count": 18,
   "id": "86a863c3",
   "metadata": {
    "execution": {
     "iopub.execute_input": "2022-03-25T03:09:56.755520Z",
     "iopub.status.busy": "2022-03-25T03:09:56.755259Z",
     "iopub.status.idle": "2022-03-25T03:09:56.771880Z",
     "shell.execute_reply": "2022-03-25T03:09:56.772295Z"
    },
    "papermill": {
     "duration": 0.033604,
     "end_time": "2022-03-25T03:09:56.772427",
     "exception": false,
     "start_time": "2022-03-25T03:09:56.738823",
     "status": "completed"
    },
    "tags": []
   },
   "outputs": [],
   "source": [
    "# # from steves_utils.wisig.utils import (\n",
    "# #     ALL_NODES_MINIMUM_100_EXAMPLES,\n",
    "# #     ALL_NODES_MINIMUM_500_EXAMPLES,\n",
    "# #     ALL_NODES_MINIMUM_1000_EXAMPLES,\n",
    "# #     ALL_DAYS\n",
    "# # )\n",
    "\n",
    "# import steves_utils.wisig.utils as wisig\n",
    "\n",
    "\n",
    "# add_dataset(\n",
    "#     labels=wisig.ALL_NODES_MINIMUM_100_EXAMPLES,\n",
    "#     domains = wisig.ALL_DAYS,\n",
    "#     num_examples_per_domain_per_label=100,\n",
    "#     pickle_path=os.path.join(get_datasets_base_path(), \"wisig.node3-19.stratified_ds.2022A.pkl\"),\n",
    "#     source_or_target_dataset=\"target\",\n",
    "#     x_transform_func=global_x_transform_func,\n",
    "#     domain_modifier=lambda u: f\"wisig_{u}\"\n",
    "# )"
   ]
  },
  {
   "cell_type": "code",
   "execution_count": 19,
   "id": "fd5442bc",
   "metadata": {
    "execution": {
     "iopub.execute_input": "2022-03-25T03:09:56.811521Z",
     "iopub.status.busy": "2022-03-25T03:09:56.811250Z",
     "iopub.status.idle": "2022-03-25T03:09:56.826959Z",
     "shell.execute_reply": "2022-03-25T03:09:56.826532Z"
    },
    "papermill": {
     "duration": 0.035443,
     "end_time": "2022-03-25T03:09:56.827063",
     "exception": false,
     "start_time": "2022-03-25T03:09:56.791620",
     "status": "completed"
    },
    "tags": []
   },
   "outputs": [],
   "source": [
    "###################################\n",
    "# Build the dataset\n",
    "###################################\n",
    "train_original_source = Iterable_Aggregator(train_original_source, p.seed)\n",
    "val_original_source = Iterable_Aggregator(val_original_source, p.seed)\n",
    "test_original_source = Iterable_Aggregator(test_original_source, p.seed)\n",
    "\n",
    "\n",
    "train_original_target = Iterable_Aggregator(train_original_target, p.seed)\n",
    "val_original_target = Iterable_Aggregator(val_original_target, p.seed)\n",
    "test_original_target = Iterable_Aggregator(test_original_target, p.seed)\n",
    "\n",
    "# For CNN We only use X and Y. And we only train on the source.\n",
    "# Properly form the data using a transform lambda and Lazy_Iterable_Wrapper. Finally wrap them in a dataloader\n",
    "\n",
    "transform_lambda = lambda ex: ex[1] # Original is (<domain>, <episode>) so we strip down to episode only\n",
    "\n",
    "train_processed_source = Lazy_Iterable_Wrapper(train_original_source, transform_lambda)\n",
    "val_processed_source   = Lazy_Iterable_Wrapper(val_original_source, transform_lambda)\n",
    "test_processed_source  = Lazy_Iterable_Wrapper(test_original_source, transform_lambda)\n",
    "\n",
    "train_processed_target = Lazy_Iterable_Wrapper(train_original_target, transform_lambda)\n",
    "val_processed_target   = Lazy_Iterable_Wrapper(val_original_target, transform_lambda)\n",
    "test_processed_target  = Lazy_Iterable_Wrapper(test_original_target, transform_lambda)\n",
    "\n",
    "datasets = EasyDict({\n",
    "    \"source\": {\n",
    "        \"original\": {\"train\":train_original_source, \"val\":val_original_source, \"test\":test_original_source},\n",
    "        \"processed\": {\"train\":train_processed_source, \"val\":val_processed_source, \"test\":test_processed_source}\n",
    "    },\n",
    "    \"target\": {\n",
    "        \"original\": {\"train\":train_original_target, \"val\":val_original_target, \"test\":test_original_target},\n",
    "        \"processed\": {\"train\":train_processed_target, \"val\":val_processed_target, \"test\":test_processed_target}\n",
    "    },\n",
    "})"
   ]
  },
  {
   "cell_type": "code",
   "execution_count": 20,
   "id": "5b3c01fc",
   "metadata": {
    "execution": {
     "iopub.execute_input": "2022-03-25T03:09:56.863444Z",
     "iopub.status.busy": "2022-03-25T03:09:56.863187Z",
     "iopub.status.idle": "2022-03-25T03:10:03.198512Z",
     "shell.execute_reply": "2022-03-25T03:10:03.198134Z"
    },
    "papermill": {
     "duration": 6.352043,
     "end_time": "2022-03-25T03:10:03.198595",
     "exception": false,
     "start_time": "2022-03-25T03:09:56.846552",
     "status": "completed"
    },
    "tags": []
   },
   "outputs": [
    {
     "name": "stdout",
     "output_type": "stream",
     "text": [
      "{'C_5', 'C_1', 'C_2', 'C_3', 'C_4'}\n"
     ]
    },
    {
     "name": "stdout",
     "output_type": "stream",
     "text": [
      "{'O_44', 'O_20', 'O_32', 'O_38', 'O_14', 'O_8', 'O_26', 'O_50'}\n"
     ]
    },
    {
     "name": "stdout",
     "output_type": "stream",
     "text": [
      "tensor([[[ 0.2059, -0.8351, -1.3194,  ...,  0.4291, -0.6931, -0.4587],\n",
      "         [ 0.4796,  0.5185, -0.0240,  ...,  0.0332,  0.5154, -0.0148]],\n",
      "\n",
      "        [[ 0.3565,  0.0842, -1.0172,  ...,  0.6927,  0.0026, -0.6698],\n",
      "         [ 0.1280,  0.5791,  0.7077,  ..., -0.5948,  0.3467,  0.6437]],\n",
      "\n",
      "        [[-0.4923, -0.1508,  0.6098,  ..., -0.2938, -0.0646,  0.2298],\n",
      "         [-0.0118, -0.7496, -1.1583,  ...,  0.5844, -0.7221, -0.5811]],\n",
      "\n",
      "        ...,\n",
      "\n",
      "        [[ 0.0802,  0.0972,  0.2466,  ...,  0.0595,  0.2867, -0.6743],\n",
      "         [-0.0085, -0.0207,  0.6245,  ...,  0.8237,  0.9731,  1.4008]],\n",
      "\n",
      "        [[-0.4428, -0.6833,  1.0148,  ..., -1.1058,  0.1245,  1.1608],\n",
      "         [ 0.1628, -0.8904, -0.7731,  ..., -0.8066, -1.4109,  0.5565]],\n",
      "\n",
      "        [[-0.7605,  0.1203,  1.3525,  ..., -0.6630,  1.0409,  0.3165],\n",
      "         [-0.2683, -1.1588,  0.2455,  ..., -1.4199, -0.5776,  1.2057]]])\n"
     ]
    }
   ],
   "source": [
    "from steves_utils.transforms import get_average_magnitude, get_average_power\n",
    "\n",
    "print(set([u for u,_ in val_original_source]))\n",
    "print(set([u for u,_ in val_original_target]))\n",
    "\n",
    "s_x, s_y, q_x, q_y, _ = next(iter(train_processed_source))\n",
    "print(s_x)\n",
    "\n",
    "# for ds in [\n",
    "#     train_processed_source,\n",
    "#     val_processed_source,\n",
    "#     test_processed_source,\n",
    "#     train_processed_target,\n",
    "#     val_processed_target,\n",
    "#     test_processed_target\n",
    "# ]:\n",
    "#     for s_x, s_y, q_x, q_y, _ in ds:\n",
    "#         for X in (s_x, q_x):\n",
    "#             for x in X:\n",
    "#                 assert np.isclose(get_average_magnitude(x.numpy()), 1.0)\n",
    "#                 assert np.isclose(get_average_power(x.numpy()), 1.0)\n",
    "                "
   ]
  },
  {
   "cell_type": "code",
   "execution_count": 21,
   "id": "bbdacba1",
   "metadata": {
    "execution": {
     "iopub.execute_input": "2022-03-25T03:10:03.234394Z",
     "iopub.status.busy": "2022-03-25T03:10:03.232764Z",
     "iopub.status.idle": "2022-03-25T03:10:03.286385Z",
     "shell.execute_reply": "2022-03-25T03:10:03.285900Z"
    },
    "papermill": {
     "duration": 0.070434,
     "end_time": "2022-03-25T03:10:03.286481",
     "exception": false,
     "start_time": "2022-03-25T03:10:03.216047",
     "status": "completed"
    },
    "tags": []
   },
   "outputs": [
    {
     "name": "stdout",
     "output_type": "stream",
     "text": [
      "(2, 200)\n"
     ]
    }
   ],
   "source": [
    "###################################\n",
    "# Build the model\n",
    "###################################\n",
    "# easfsl only wants a tuple for the shape\n",
    "model = Steves_Prototypical_Network(x_net, device=p.device, x_shape=tuple(p.x_shape))\n",
    "optimizer = Adam(params=model.parameters(), lr=p.lr)"
   ]
  },
  {
   "cell_type": "code",
   "execution_count": 22,
   "id": "22b39ac5",
   "metadata": {
    "execution": {
     "iopub.execute_input": "2022-03-25T03:10:03.324661Z",
     "iopub.status.busy": "2022-03-25T03:10:03.324073Z",
     "iopub.status.idle": "2022-03-25T03:25:19.001627Z",
     "shell.execute_reply": "2022-03-25T03:25:19.001398Z"
    },
    "papermill": {
     "duration": 915.695078,
     "end_time": "2022-03-25T03:25:19.001686",
     "exception": false,
     "start_time": "2022-03-25T03:10:03.306608",
     "status": "completed"
    },
    "tags": []
   },
   "outputs": [
    {
     "name": "stdout",
     "output_type": "stream",
     "text": [
      "epoch: 1, [batch: 1 / 6315], examples_per_second: 49.4276, train_label_loss: 2.6210, \n"
     ]
    },
    {
     "name": "stdout",
     "output_type": "stream",
     "text": [
      "epoch: 1, [batch: 632 / 6315], examples_per_second: 3742.2701, train_label_loss: 0.0071, \n"
     ]
    },
    {
     "name": "stdout",
     "output_type": "stream",
     "text": [
      "epoch: 1, [batch: 1263 / 6315], examples_per_second: 3731.1676, train_label_loss: 0.0454, \n"
     ]
    },
    {
     "name": "stdout",
     "output_type": "stream",
     "text": [
      "epoch: 1, [batch: 1895 / 6315], examples_per_second: 3734.8955, train_label_loss: 0.0001, \n"
     ]
    },
    {
     "name": "stdout",
     "output_type": "stream",
     "text": [
      "epoch: 1, [batch: 2526 / 6315], examples_per_second: 3701.8196, train_label_loss: 0.0001, \n"
     ]
    },
    {
     "name": "stdout",
     "output_type": "stream",
     "text": [
      "epoch: 1, [batch: 3158 / 6315], examples_per_second: 3711.5047, train_label_loss: 0.0004, \n"
     ]
    },
    {
     "name": "stdout",
     "output_type": "stream",
     "text": [
      "epoch: 1, [batch: 3789 / 6315], examples_per_second: 3715.6478, train_label_loss: 0.0056, \n"
     ]
    },
    {
     "name": "stdout",
     "output_type": "stream",
     "text": [
      "epoch: 1, [batch: 4420 / 6315], examples_per_second: 3703.0496, train_label_loss: 0.0017, \n"
     ]
    },
    {
     "name": "stdout",
     "output_type": "stream",
     "text": [
      "epoch: 1, [batch: 5052 / 6315], examples_per_second: 3712.4037, train_label_loss: 0.0004, \n"
     ]
    },
    {
     "name": "stdout",
     "output_type": "stream",
     "text": [
      "epoch: 1, [batch: 5683 / 6315], examples_per_second: 3596.3760, train_label_loss: 0.0007, \n"
     ]
    },
    {
     "name": "stdout",
     "output_type": "stream",
     "text": [
      "=============================================================\n",
      "epoch: 1, source_val_acc_label: 0.9980, target_val_acc_label: 0.3170, source_val_label_loss: 0.0104, target_val_label_loss: 1.9815, \n",
      "=============================================================\n"
     ]
    },
    {
     "name": "stdout",
     "output_type": "stream",
     "text": [
      "New best\n"
     ]
    },
    {
     "name": "stdout",
     "output_type": "stream",
     "text": [
      "epoch: 2, [batch: 1 / 6307], examples_per_second: 5.4958, train_label_loss: 0.0052, \n"
     ]
    },
    {
     "name": "stdout",
     "output_type": "stream",
     "text": [
      "epoch: 2, [batch: 631 / 6307], examples_per_second: 3692.8455, train_label_loss: 0.0001, \n"
     ]
    },
    {
     "name": "stdout",
     "output_type": "stream",
     "text": [
      "epoch: 2, [batch: 1262 / 6307], examples_per_second: 3717.1280, train_label_loss: 0.0002, \n"
     ]
    },
    {
     "name": "stdout",
     "output_type": "stream",
     "text": [
      "epoch: 2, [batch: 1892 / 6307], examples_per_second: 3720.7948, train_label_loss: 0.0000, \n"
     ]
    },
    {
     "name": "stdout",
     "output_type": "stream",
     "text": [
      "epoch: 2, [batch: 2523 / 6307], examples_per_second: 3667.5177, train_label_loss: 0.0001, \n"
     ]
    },
    {
     "name": "stdout",
     "output_type": "stream",
     "text": [
      "epoch: 2, [batch: 3154 / 6307], examples_per_second: 3721.5234, train_label_loss: 0.0000, \n"
     ]
    },
    {
     "name": "stdout",
     "output_type": "stream",
     "text": [
      "epoch: 2, [batch: 3784 / 6307], examples_per_second: 3725.1063, train_label_loss: 0.0000, \n"
     ]
    },
    {
     "name": "stdout",
     "output_type": "stream",
     "text": [
      "epoch: 2, [batch: 4415 / 6307], examples_per_second: 3694.8236, train_label_loss: 0.0004, \n"
     ]
    },
    {
     "name": "stdout",
     "output_type": "stream",
     "text": [
      "epoch: 2, [batch: 5045 / 6307], examples_per_second: 3705.6560, train_label_loss: 0.0019, \n"
     ]
    },
    {
     "name": "stdout",
     "output_type": "stream",
     "text": [
      "epoch: 2, [batch: 5676 / 6307], examples_per_second: 3712.7824, train_label_loss: 0.0001, \n"
     ]
    },
    {
     "name": "stdout",
     "output_type": "stream",
     "text": [
      "=============================================================\n",
      "epoch: 2, source_val_acc_label: 0.9986, target_val_acc_label: 0.3313, source_val_label_loss: 0.0089, target_val_label_loss: 2.2935, \n",
      "=============================================================\n"
     ]
    },
    {
     "name": "stdout",
     "output_type": "stream",
     "text": [
      "New best\n"
     ]
    },
    {
     "name": "stdout",
     "output_type": "stream",
     "text": [
      "epoch: 3, [batch: 1 / 6326], examples_per_second: 5.4774, train_label_loss: 0.0000, \n"
     ]
    },
    {
     "name": "stdout",
     "output_type": "stream",
     "text": [
      "epoch: 3, [batch: 633 / 6326], examples_per_second: 3688.0787, train_label_loss: 0.0000, \n"
     ]
    },
    {
     "name": "stdout",
     "output_type": "stream",
     "text": [
      "epoch: 3, [batch: 1266 / 6326], examples_per_second: 3695.5158, train_label_loss: 0.0000, \n"
     ]
    },
    {
     "name": "stdout",
     "output_type": "stream",
     "text": [
      "epoch: 3, [batch: 1898 / 6326], examples_per_second: 3636.1008, train_label_loss: 0.0002, \n"
     ]
    },
    {
     "name": "stdout",
     "output_type": "stream",
     "text": [
      "epoch: 3, [batch: 2531 / 6326], examples_per_second: 3651.7280, train_label_loss: 0.0000, \n"
     ]
    },
    {
     "name": "stdout",
     "output_type": "stream",
     "text": [
      "epoch: 3, [batch: 3163 / 6326], examples_per_second: 3694.1476, train_label_loss: 0.0000, \n"
     ]
    },
    {
     "name": "stdout",
     "output_type": "stream",
     "text": [
      "epoch: 3, [batch: 3796 / 6326], examples_per_second: 3696.7939, train_label_loss: 0.0305, \n"
     ]
    },
    {
     "name": "stdout",
     "output_type": "stream",
     "text": [
      "epoch: 3, [batch: 4428 / 6326], examples_per_second: 3687.5661, train_label_loss: 0.0000, \n"
     ]
    },
    {
     "name": "stdout",
     "output_type": "stream",
     "text": [
      "epoch: 3, [batch: 5061 / 6326], examples_per_second: 3677.8543, train_label_loss: 0.0000, \n"
     ]
    },
    {
     "name": "stdout",
     "output_type": "stream",
     "text": [
      "epoch: 3, [batch: 5693 / 6326], examples_per_second: 3655.7110, train_label_loss: 0.0000, \n"
     ]
    },
    {
     "name": "stdout",
     "output_type": "stream",
     "text": [
      "=============================================================\n",
      "epoch: 3, source_val_acc_label: 0.9983, target_val_acc_label: 0.3173, source_val_label_loss: 0.0092, target_val_label_loss: 2.4950, \n",
      "=============================================================\n"
     ]
    },
    {
     "name": "stdout",
     "output_type": "stream",
     "text": [
      "epoch: 4, [batch: 1 / 6302], examples_per_second: 5.3740, train_label_loss: 0.0001, \n"
     ]
    },
    {
     "name": "stdout",
     "output_type": "stream",
     "text": [
      "epoch: 4, [batch: 631 / 6302], examples_per_second: 3627.0587, train_label_loss: 0.0000, \n"
     ]
    },
    {
     "name": "stdout",
     "output_type": "stream",
     "text": [
      "epoch: 4, [batch: 1261 / 6302], examples_per_second: 3714.3677, train_label_loss: 0.0000, \n"
     ]
    },
    {
     "name": "stdout",
     "output_type": "stream",
     "text": [
      "epoch: 4, [batch: 1891 / 6302], examples_per_second: 3711.7306, train_label_loss: 0.0001, \n"
     ]
    },
    {
     "name": "stdout",
     "output_type": "stream",
     "text": [
      "epoch: 4, [batch: 2521 / 6302], examples_per_second: 3697.9679, train_label_loss: 0.0000, \n"
     ]
    },
    {
     "name": "stdout",
     "output_type": "stream",
     "text": [
      "epoch: 4, [batch: 3151 / 6302], examples_per_second: 3698.4370, train_label_loss: 0.0000, \n"
     ]
    },
    {
     "name": "stdout",
     "output_type": "stream",
     "text": [
      "epoch: 4, [batch: 3781 / 6302], examples_per_second: 3712.8641, train_label_loss: 0.0000, \n"
     ]
    },
    {
     "name": "stdout",
     "output_type": "stream",
     "text": [
      "epoch: 4, [batch: 4411 / 6302], examples_per_second: 3701.4751, train_label_loss: 0.0000, \n"
     ]
    },
    {
     "name": "stdout",
     "output_type": "stream",
     "text": [
      "epoch: 4, [batch: 5041 / 6302], examples_per_second: 3713.9612, train_label_loss: 0.0000, \n"
     ]
    },
    {
     "name": "stdout",
     "output_type": "stream",
     "text": [
      "epoch: 4, [batch: 5671 / 6302], examples_per_second: 3695.6661, train_label_loss: 0.0000, \n"
     ]
    },
    {
     "name": "stdout",
     "output_type": "stream",
     "text": [
      "=============================================================\n",
      "epoch: 4, source_val_acc_label: 0.9994, target_val_acc_label: 0.3220, source_val_label_loss: 0.0067, target_val_label_loss: 2.4567, \n",
      "=============================================================\n"
     ]
    },
    {
     "name": "stdout",
     "output_type": "stream",
     "text": [
      "epoch: 5, [batch: 1 / 6324], examples_per_second: 5.3197, train_label_loss: 0.0000, \n"
     ]
    },
    {
     "name": "stdout",
     "output_type": "stream",
     "text": [
      "epoch: 5, [batch: 633 / 6324], examples_per_second: 3668.7632, train_label_loss: 0.0000, \n"
     ]
    },
    {
     "name": "stdout",
     "output_type": "stream",
     "text": [
      "epoch: 5, [batch: 1265 / 6324], examples_per_second: 3705.7419, train_label_loss: 0.0005, \n"
     ]
    },
    {
     "name": "stdout",
     "output_type": "stream",
     "text": [
      "epoch: 5, [batch: 1897 / 6324], examples_per_second: 3713.5302, train_label_loss: 0.0000, \n"
     ]
    },
    {
     "name": "stdout",
     "output_type": "stream",
     "text": [
      "epoch: 5, [batch: 2530 / 6324], examples_per_second: 3696.4661, train_label_loss: 0.0000, \n"
     ]
    },
    {
     "name": "stdout",
     "output_type": "stream",
     "text": [
      "epoch: 5, [batch: 3162 / 6324], examples_per_second: 3690.2130, train_label_loss: 0.0003, \n"
     ]
    },
    {
     "name": "stdout",
     "output_type": "stream",
     "text": [
      "epoch: 5, [batch: 3794 / 6324], examples_per_second: 3694.8808, train_label_loss: 0.0000, \n"
     ]
    },
    {
     "name": "stdout",
     "output_type": "stream",
     "text": [
      "epoch: 5, [batch: 4427 / 6324], examples_per_second: 3677.1257, train_label_loss: 0.0000, \n"
     ]
    },
    {
     "name": "stdout",
     "output_type": "stream",
     "text": [
      "epoch: 5, [batch: 5059 / 6324], examples_per_second: 3676.2170, train_label_loss: 0.0000, \n"
     ]
    },
    {
     "name": "stdout",
     "output_type": "stream",
     "text": [
      "epoch: 5, [batch: 5691 / 6324], examples_per_second: 3690.4127, train_label_loss: 0.0000, \n"
     ]
    },
    {
     "name": "stdout",
     "output_type": "stream",
     "text": [
      "=============================================================\n",
      "epoch: 5, source_val_acc_label: 0.9988, target_val_acc_label: 0.2657, source_val_label_loss: 0.0093, target_val_label_loss: 3.5552, \n",
      "=============================================================\n"
     ]
    },
    {
     "name": "stdout",
     "output_type": "stream",
     "text": [
      "epoch: 6, [batch: 1 / 6313], examples_per_second: 5.4902, train_label_loss: 0.0000, \n"
     ]
    },
    {
     "name": "stdout",
     "output_type": "stream",
     "text": [
      "epoch: 6, [batch: 632 / 6313], examples_per_second: 3677.6773, train_label_loss: 0.0000, \n"
     ]
    },
    {
     "name": "stdout",
     "output_type": "stream",
     "text": [
      "epoch: 6, [batch: 1263 / 6313], examples_per_second: 3699.8078, train_label_loss: 0.0000, \n"
     ]
    },
    {
     "name": "stdout",
     "output_type": "stream",
     "text": [
      "epoch: 6, [batch: 1894 / 6313], examples_per_second: 3703.3848, train_label_loss: 0.0000, \n"
     ]
    },
    {
     "name": "stdout",
     "output_type": "stream",
     "text": [
      "epoch: 6, [batch: 2525 / 6313], examples_per_second: 3695.7389, train_label_loss: 0.0000, \n"
     ]
    },
    {
     "name": "stdout",
     "output_type": "stream",
     "text": [
      "epoch: 6, [batch: 3157 / 6313], examples_per_second: 3706.6492, train_label_loss: 0.0000, \n"
     ]
    },
    {
     "name": "stdout",
     "output_type": "stream",
     "text": [
      "epoch: 6, [batch: 3788 / 6313], examples_per_second: 3703.2607, train_label_loss: 0.0000, \n"
     ]
    },
    {
     "name": "stdout",
     "output_type": "stream",
     "text": [
      "epoch: 6, [batch: 4419 / 6313], examples_per_second: 3482.3190, train_label_loss: 0.0000, \n"
     ]
    },
    {
     "name": "stdout",
     "output_type": "stream",
     "text": [
      "epoch: 6, [batch: 5050 / 6313], examples_per_second: 3684.0213, train_label_loss: 0.0000, \n"
     ]
    },
    {
     "name": "stdout",
     "output_type": "stream",
     "text": [
      "epoch: 6, [batch: 5681 / 6313], examples_per_second: 3667.5705, train_label_loss: 0.0000, \n"
     ]
    },
    {
     "name": "stdout",
     "output_type": "stream",
     "text": [
      "=============================================================\n",
      "epoch: 6, source_val_acc_label: 0.9991, target_val_acc_label: 0.2884, source_val_label_loss: 0.0093, target_val_label_loss: 3.4820, \n",
      "=============================================================\n"
     ]
    },
    {
     "name": "stdout",
     "output_type": "stream",
     "text": [
      "Patience (3) exhausted\n"
     ]
    }
   ],
   "source": [
    "###################################\n",
    "# train\n",
    "###################################\n",
    "jig = PTN_Train_Eval_Test_Jig(model, p.BEST_MODEL_PATH, p.device)\n",
    "\n",
    "jig.train(\n",
    "    train_iterable=datasets.source.processed.train,\n",
    "    source_val_iterable=datasets.source.processed.val,\n",
    "    target_val_iterable=datasets.target.processed.val,\n",
    "    num_epochs=p.n_epoch,\n",
    "    num_logs_per_epoch=p.NUM_LOGS_PER_EPOCH,\n",
    "    patience=p.patience,\n",
    "    optimizer=optimizer,\n",
    "    criteria_for_best=p.criteria_for_best,\n",
    ")"
   ]
  },
  {
   "cell_type": "code",
   "execution_count": 23,
   "id": "31e8fabf",
   "metadata": {
    "execution": {
     "iopub.execute_input": "2022-03-25T03:25:19.058246Z",
     "iopub.status.busy": "2022-03-25T03:25:19.057949Z",
     "iopub.status.idle": "2022-03-25T03:25:19.076062Z",
     "shell.execute_reply": "2022-03-25T03:25:19.076480Z"
    },
    "papermill": {
     "duration": 0.048381,
     "end_time": "2022-03-25T03:25:19.076612",
     "exception": false,
     "start_time": "2022-03-25T03:25:19.028231",
     "status": "completed"
    },
    "tags": []
   },
   "outputs": [],
   "source": [
    "total_experiment_time_secs = time.time() - start_time_secs"
   ]
  },
  {
   "cell_type": "code",
   "execution_count": 24,
   "id": "87b9595b",
   "metadata": {
    "execution": {
     "iopub.execute_input": "2022-03-25T03:25:19.140979Z",
     "iopub.status.busy": "2022-03-25T03:25:19.136967Z",
     "iopub.status.idle": "2022-03-25T03:26:54.878822Z",
     "shell.execute_reply": "2022-03-25T03:26:54.878463Z"
    },
    "papermill": {
     "duration": 95.770424,
     "end_time": "2022-03-25T03:26:54.878909",
     "exception": false,
     "start_time": "2022-03-25T03:25:19.108485",
     "status": "completed"
    },
    "tags": []
   },
   "outputs": [],
   "source": [
    "###################################\n",
    "# Evaluate the model\n",
    "###################################\n",
    "source_test_label_accuracy, source_test_label_loss = jig.test(datasets.source.processed.test)\n",
    "target_test_label_accuracy, target_test_label_loss = jig.test(datasets.target.processed.test)\n",
    "\n",
    "source_val_label_accuracy, source_val_label_loss = jig.test(datasets.source.processed.val)\n",
    "target_val_label_accuracy, target_val_label_loss = jig.test(datasets.target.processed.val)\n",
    "\n",
    "history = jig.get_history()\n",
    "\n",
    "total_epochs_trained = len(history[\"epoch_indices\"])\n",
    "\n",
    "val_dl = Iterable_Aggregator((datasets.source.original.val,datasets.target.original.val))\n",
    "\n",
    "confusion = ptn_confusion_by_domain_over_dataloader(model, p.device, val_dl)\n",
    "per_domain_accuracy = per_domain_accuracy_from_confusion(confusion)\n",
    "\n",
    "# Add a key to per_domain_accuracy for if it was a source domain\n",
    "for domain, accuracy in per_domain_accuracy.items():\n",
    "    per_domain_accuracy[domain] = {\n",
    "        \"accuracy\": accuracy,\n",
    "        \"source?\": domain in p.domains_source\n",
    "    }\n",
    "\n",
    "# Do an independent accuracy assesment JUST TO BE SURE!\n",
    "# _source_test_label_accuracy = independent_accuracy_assesment(model, datasets.source.processed.test, p.device)\n",
    "# _target_test_label_accuracy = independent_accuracy_assesment(model, datasets.target.processed.test, p.device)\n",
    "# _source_val_label_accuracy = independent_accuracy_assesment(model, datasets.source.processed.val, p.device)\n",
    "# _target_val_label_accuracy = independent_accuracy_assesment(model, datasets.target.processed.val, p.device)\n",
    "\n",
    "# assert(_source_test_label_accuracy == source_test_label_accuracy)\n",
    "# assert(_target_test_label_accuracy == target_test_label_accuracy)\n",
    "# assert(_source_val_label_accuracy == source_val_label_accuracy)\n",
    "# assert(_target_val_label_accuracy == target_val_label_accuracy)\n",
    "\n",
    "experiment = {\n",
    "    \"experiment_name\": p.experiment_name,\n",
    "    \"parameters\": dict(p),\n",
    "    \"results\": {\n",
    "        \"source_test_label_accuracy\": source_test_label_accuracy,\n",
    "        \"source_test_label_loss\": source_test_label_loss,\n",
    "        \"target_test_label_accuracy\": target_test_label_accuracy,\n",
    "        \"target_test_label_loss\": target_test_label_loss,\n",
    "        \"source_val_label_accuracy\": source_val_label_accuracy,\n",
    "        \"source_val_label_loss\": source_val_label_loss,\n",
    "        \"target_val_label_accuracy\": target_val_label_accuracy,\n",
    "        \"target_val_label_loss\": target_val_label_loss,\n",
    "        \"total_epochs_trained\": total_epochs_trained,\n",
    "        \"total_experiment_time_secs\": total_experiment_time_secs,\n",
    "        \"confusion\": confusion,\n",
    "        \"per_domain_accuracy\": per_domain_accuracy,\n",
    "    },\n",
    "    \"history\": history,\n",
    "    \"dataset_metrics\": get_dataset_metrics(datasets, \"ptn\"),\n",
    "}"
   ]
  },
  {
   "cell_type": "code",
   "execution_count": 25,
   "id": "54a21829",
   "metadata": {
    "execution": {
     "iopub.execute_input": "2022-03-25T03:26:54.938101Z",
     "iopub.status.busy": "2022-03-25T03:26:54.937826Z",
     "iopub.status.idle": "2022-03-25T03:26:55.060577Z",
     "shell.execute_reply": "2022-03-25T03:26:55.060964Z"
    },
    "papermill": {
     "duration": 0.152802,
     "end_time": "2022-03-25T03:26:55.061090",
     "exception": false,
     "start_time": "2022-03-25T03:26:54.908288",
     "status": "completed"
    },
    "tags": []
   },
   "outputs": [
    {
     "data": {
      "image/png": "[encoded data removed]",
      "text/plain": [
       "<Figure size 1080x504 with 1 Axes>"
      ]
     },
     "metadata": {
      "needs_background": "light"
     },
     "output_type": "display_data"
    }
   ],
   "source": [
    "ax = get_loss_curve(experiment)\n",
    "plt.show()"
   ]
  },
  {
   "cell_type": "code",
   "execution_count": 26,
   "id": "fd8a0f60",
   "metadata": {
    "execution": {
     "iopub.execute_input": "2022-03-25T03:26:55.124192Z",
     "iopub.status.busy": "2022-03-25T03:26:55.123410Z",
     "iopub.status.idle": "2022-03-25T03:26:55.268174Z",
     "shell.execute_reply": "2022-03-25T03:26:55.268396Z"
    },
    "papermill": {
     "duration": 0.174572,
     "end_time": "2022-03-25T03:26:55.268474",
     "exception": false,
     "start_time": "2022-03-25T03:26:55.093902",
     "status": "completed"
    },
    "tags": []
   },
   "outputs": [
    {
     "data": {
      "text/plain": [
       "<AxesSubplot:title={'center':'Results'}>"
      ]
     },
     "execution_count": 26,
     "metadata": {},
     "output_type": "execute_result"
    },
    {
     "data": {
      "image/png": "[encoded data removed]",
      "text/plain": [
       "<Figure size 1080x504 with 1 Axes>"
      ]
     },
     "metadata": {
      "needs_background": "light"
     },
     "output_type": "display_data"
    }
   ],
   "source": [
    "get_results_table(experiment)"
   ]
  },
  {
   "cell_type": "code",
   "execution_count": 27,
   "id": "cf8dc689",
   "metadata": {
    "execution": {
     "iopub.execute_input": "2022-03-25T03:26:55.333710Z",
     "iopub.status.busy": "2022-03-25T03:26:55.329711Z",
     "iopub.status.idle": "2022-03-25T03:26:55.467240Z",
     "shell.execute_reply": "2022-03-25T03:26:55.466778Z"
    },
    "papermill": {
     "duration": 0.169168,
     "end_time": "2022-03-25T03:26:55.467339",
     "exception": false,
     "start_time": "2022-03-25T03:26:55.298171",
     "status": "completed"
    },
    "tags": []
   },
   "outputs": [
    {
     "data": {
      "text/plain": [
       "<AxesSubplot:title={'center':'Per Domain Validation Accuracy'}, xlabel='domain'>"
      ]
     },
     "execution_count": 27,
     "metadata": {},
     "output_type": "execute_result"
    },
    {
     "data": {
      "image/png": "[encoded data removed]",
      "text/plain": [
       "<Figure size 1080x504 with 1 Axes>"
      ]
     },
     "metadata": {
      "needs_background": "light"
     },
     "output_type": "display_data"
    }
   ],
   "source": [
    "get_domain_accuracies(experiment)"
   ]
  },
  {
   "cell_type": "code",
   "execution_count": 28,
   "id": "a74ae082",
   "metadata": {
    "execution": {
     "iopub.execute_input": "2022-03-25T03:26:55.533258Z",
     "iopub.status.busy": "2022-03-25T03:26:55.532109Z",
     "iopub.status.idle": "2022-03-25T03:26:55.549180Z",
     "shell.execute_reply": "2022-03-25T03:26:55.548730Z"
    },
    "papermill": {
     "duration": 0.04822,
     "end_time": "2022-03-25T03:26:55.549274",
     "exception": false,
     "start_time": "2022-03-25T03:26:55.501054",
     "status": "completed"
    },
    "tags": []
   },
   "outputs": [
    {
     "name": "stdout",
     "output_type": "stream",
     "text": [
      "Source Test Label Accuracy: 0.998589164785553 Target Test Label Accuracy: 0.3263020833333333\n",
      "Source Val Label Accuracy: 0.9985714285714286 Target Val Label Accuracy: 0.33128255208333335\n"
     ]
    }
   ],
   "source": [
    "print(\"Source Test Label Accuracy:\", experiment[\"results\"][\"source_test_label_accuracy\"], \"Target Test Label Accuracy:\", experiment[\"results\"][\"target_test_label_accuracy\"])\n",
    "print(\"Source Val Label Accuracy:\", experiment[\"results\"][\"source_val_label_accuracy\"], \"Target Val Label Accuracy:\", experiment[\"results\"][\"target_val_label_accuracy\"])"
   ]
  },
  {
   "cell_type": "code",
   "execution_count": 29,
   "id": "dacca602",
   "metadata": {
    "execution": {
     "iopub.execute_input": "2022-03-25T03:26:55.622328Z",
     "iopub.status.busy": "2022-03-25T03:26:55.615908Z",
     "iopub.status.idle": "2022-03-25T03:26:55.631829Z",
     "shell.execute_reply": "2022-03-25T03:26:55.632258Z"
    },
    "papermill": {
     "duration": 0.048867,
     "end_time": "2022-03-25T03:26:55.632381",
     "exception": false,
     "start_time": "2022-03-25T03:26:55.583514",
     "status": "completed"
    },
    "tags": [
     "experiment_json"
    ]
   },
   "outputs": [
    {
     "data": {
      "text/plain": [
       "'{\"experiment_name\": \"tl_3Av2:cores -> oracle.run1.framed\", \"parameters\": {\"experiment_name\": \"tl_3Av2:cores -> oracle.run1.framed\", \"device\": \"cuda\", \"lr\": 0.0001, \"x_shape\": [2, 200], \"n_shot\": 3, \"n_query\": 2, \"train_k_factor\": 3, \"val_k_factor\": 2, \"test_k_factor\": 2, \"torch_default_dtype\": \"torch.float32\", \"n_epoch\": 50, \"patience\": 3, \"criteria_for_best\": \"target_accuracy\", \"x_net\": [{\"class\": \"nnReshape\", \"kargs\": {\"shape\": [-1, 1, 2, 200]}}, {\"class\": \"Conv2d\", \"kargs\": {\"in_channels\": 1, \"out_channels\": 256, \"kernel_size\": [1, 7], \"bias\": false, \"padding\": [0, 3]}}, {\"class\": \"ReLU\", \"kargs\": {\"inplace\": true}}, {\"class\": \"BatchNorm2d\", \"kargs\": {\"num_features\": 256}}, {\"class\": \"Conv2d\", \"kargs\": {\"in_channels\": 256, \"out_channels\": 80, \"kernel_size\": [2, 7], \"bias\": true, \"padding\": [0, 3]}}, {\"class\": \"ReLU\", \"kargs\": {\"inplace\": true}}, {\"class\": \"BatchNorm2d\", \"kargs\": {\"num_features\": 80}}, {\"class\": \"Flatten\", \"kargs\": {}}, {\"class\": \"Linear\", \"kargs\": {\"in_features\": 16000, \"out_features\": 256}}, {\"class\": \"ReLU\", \"kargs\": {\"inplace\": true}}, {\"class\": \"BatchNorm1d\", \"kargs\": {\"num_features\": 256}}, {\"class\": \"Linear\", \"kargs\": {\"in_features\": 256, \"out_features\": 256}}], \"NUM_LOGS_PER_EPOCH\": 10, \"BEST_MODEL_PATH\": \"./best_model.pth\", \"n_way\": 16, \"datasets\": [{\"labels\": [\"1-10.\", \"1-11.\", \"1-15.\", \"1-16.\", \"1-17.\", \"1-18.\", \"1-19.\", \"10-4.\", \"10-7.\", \"11-1.\", \"11-14.\", \"11-17.\", \"11-20.\", \"11-7.\", \"13-20.\", \"13-8.\", \"14-10.\", \"14-11.\", \"14-14.\", \"14-7.\", \"15-1.\", \"15-20.\", \"16-1.\", \"16-16.\", \"17-10.\", \"17-11.\", \"17-2.\", \"19-1.\", \"19-16.\", \"19-19.\", \"19-20.\", \"19-3.\", \"2-10.\", \"2-11.\", \"2-17.\", \"2-18.\", \"2-20.\", \"2-3.\", \"2-4.\", \"2-5.\", \"2-6.\", \"2-7.\", \"2-8.\", \"3-13.\", \"3-18.\", \"3-3.\", \"4-1.\", \"4-10.\", \"4-11.\", \"4-19.\", \"5-5.\", \"6-15.\", \"7-10.\", \"7-14.\", \"8-18.\", \"8-20.\", \"8-3.\", \"8-8.\"], \"domains\": [1, 2, 3, 4, 5], \"num_examples_per_domain_per_label\": -1, \"pickle_path\": \"/mnt/wd500GB/CSC500/csc500-main/datasets/cores.stratified_ds.2022A.pkl\", \"source_or_target_dataset\": \"source\", \"x_transforms\": [\"unit_power\", \"take_200\"], \"episode_transforms\": [], \"domain_prefix\": \"C_\"}, {\"labels\": [\"3123D52\", \"3123D65\", \"3123D79\", \"3123D80\", \"3123D54\", \"3123D70\", \"3123D7B\", \"3123D89\", \"3123D58\", \"3123D76\", \"3123D7D\", \"3123EFE\", \"3123D64\", \"3123D78\", \"3123D7E\", \"3124E4A\"], \"domains\": [32, 38, 8, 44, 14, 50, 20, 26], \"num_examples_per_domain_per_label\": 2000, \"pickle_path\": \"/mnt/wd500GB/CSC500/csc500-main/datasets/oracle.Run1_framed_2000Examples_stratified_ds.2022A.pkl\", \"source_or_target_dataset\": \"target\", \"x_transforms\": [\"unit_power\", \"take_200\", \"resample_20Msps_to_25Msps\"], \"episode_transforms\": [], \"domain_prefix\": \"O_\"}], \"seed\": 420, \"dataset_seed\": 420, \"domains_source\": [\"C_1\", \"C_2\", \"C_3\", \"C_4\", \"C_5\"], \"domains_target\": [\"O_32\", \"O_38\", \"O_8\", \"O_44\", \"O_14\", \"O_50\", \"O_20\", \"O_26\"]}, \"results\": {\"source_test_label_accuracy\": 0.998589164785553, \"source_test_label_loss\": 0.007641894277185202, \"target_test_label_accuracy\": 0.3263020833333333, \"target_test_label_loss\": 2.306457757949829, \"source_val_label_accuracy\": 0.9985714285714286, \"source_val_label_loss\": 0.008864062838256359, \"target_val_label_accuracy\": 0.33128255208333335, \"target_val_label_loss\": 2.2935125827789307, \"total_epochs_trained\": 6, \"total_experiment_time_secs\": 974.4076161384583, \"confusion\": {\"C_4\": {\"42\": {\"42\": 32}, \"0\": {\"0\": 80}, \"1\": {\"1\": 40}, \"39\": {\"39\": 20}, \"28\": {\"28\": 32}, \"53\": {\"53\": 124}, \"19\": {\"19\": 144}, \"34\": {\"34\": 24}, \"33\": {\"33\": 36}, \"32\": {\"32\": 24}, \"10\": {\"10\": 136}, \"46\": {\"46\": 132, \"32\": 1, \"5\": 1}, \"20\": {\"20\": 122}, \"5\": {\"5\": 108}, \"40\": {\"40\": 124}, \"51\": {\"51\": 144}, \"37\": {\"37\": 24}, \"17\": {\"17\": 80}, \"45\": {\"45\": 96}, \"13\": {\"13\": 142}, \"27\": {\"27\": 144}, \"24\": {\"24\": 56}, \"30\": {\"30\": 44}, \"31\": {\"31\": 28}, \"41\": {\"41\": 34, \"10\": 1, \"13\": 1}, \"36\": {\"36\": 92}, \"16\": {\"16\": 96}, \"22\": {\"22\": 128}, \"44\": {\"44\": 131, \"28\": 1}, \"9\": {\"9\": 140}, \"57\": {\"57\": 100}, \"8\": {\"8\": 138}, \"23\": {\"23\": 132}, \"47\": {\"47\": 120}, \"43\": {\"43\": 138}, \"49\": {\"49\": 20}, \"3\": {\"3\": 122, \"5\": 1, \"50\": 1}, \"12\": {\"12\": 92}, \"38\": {\"38\": 40}, \"7\": {\"7\": 24}, \"14\": {\"14\": 16}, \"15\": {\"15\": 146}, \"25\": {\"25\": 128}, \"26\": {\"26\": 24}, \"21\": {\"21\": 132}, \"48\": {\"48\": 144}, \"56\": {\"56\": 134}, \"11\": {\"11\": 104}, \"2\": {\"2\": 36}, \"6\": {\"6\": 111, \"3\": 1}, \"55\": {\"55\": 140}, \"54\": {\"54\": 108}, \"29\": {\"29\": 123, \"34\": 1}, \"50\": {\"50\": 119, \"3\": 3}, \"52\": {\"52\": 116}, \"35\": {\"35\": 40}, \"4\": {\"4\": 120}, \"18\": {\"18\": 108}}, \"C_5\": {\"43\": {\"43\": 152}, \"35\": {\"35\": 36}, \"54\": {\"54\": 112}, \"22\": {\"22\": 28}, \"16\": {\"16\": 146}, \"5\": {\"5\": 128}, \"28\": {\"28\": 32}, \"14\": {\"14\": 44}, \"51\": {\"51\": 127, \"20\": 1}, \"19\": {\"19\": 140}, \"31\": {\"31\": 36}, \"10\": {\"10\": 68}, \"21\": {\"21\": 136}, \"3\": {\"3\": 99, \"49\": 1}, \"57\": {\"57\": 131, \"14\": 1}, \"9\": {\"9\": 146}, \"8\": {\"8\": 132}, \"46\": {\"46\": 140}, \"23\": {\"23\": 124}, \"37\": {\"37\": 24}, \"34\": {\"34\": 36}, \"4\": {\"4\": 100}, \"6\": {\"6\": 127, \"17\": 1}, \"48\": {\"48\": 132, \"1\": 4}, \"44\": {\"44\": 138}, \"40\": {\"40\": 124}, \"12\": {\"12\": 96}, \"30\": {\"30\": 128}, \"39\": {\"39\": 20}, \"45\": {\"45\": 122, \"55\": 1, \"53\": 1}, \"36\": {\"36\": 92}, \"27\": {\"27\": 139, \"32\": 1}, \"32\": {\"32\": 32}, \"52\": {\"52\": 130}, \"0\": {\"0\": 124}, \"26\": {\"26\": 24}, \"1\": {\"1\": 148}, \"53\": {\"53\": 146}, \"25\": {\"25\": 144}, \"24\": {\"24\": 80}, \"7\": {\"7\": 32}, \"18\": {\"18\": 64}, \"20\": {\"20\": 144}, \"33\": {\"33\": 32}, \"55\": {\"55\": 140}, \"41\": {\"41\": 28}, \"42\": {\"42\": 39, \"43\": 1}, \"49\": {\"49\": 36}, \"13\": {\"13\": 147, \"10\": 1}, \"38\": {\"38\": 32}, \"2\": {\"2\": 28}, \"47\": {\"47\": 100}, \"17\": {\"17\": 115, \"6\": 1}, \"11\": {\"11\": 153, \"15\": 1}, \"29\": {\"29\": 132}, \"50\": {\"50\": 137, \"18\": 1}, \"56\": {\"56\": 148}, \"15\": {\"15\": 142}}, \"C_2\": {\"49\": {\"49\": 24}, \"13\": {\"13\": 116}, \"37\": {\"37\": 36}, \"41\": {\"41\": 20}, \"15\": {\"15\": 142}, \"56\": {\"56\": 141, \"22\": 1}, \"14\": {\"14\": 23, \"31\": 1}, \"3\": {\"3\": 92}, \"38\": {\"38\": 20}, \"43\": {\"43\": 138}, \"33\": {\"33\": 28}, \"47\": {\"47\": 138}, \"30\": {\"30\": 144}, \"39\": {\"39\": 28}, \"12\": {\"12\": 92}, \"6\": {\"6\": 124}, \"51\": {\"51\": 134}, \"5\": {\"5\": 120}, \"34\": {\"34\": 28}, \"35\": {\"35\": 32}, \"0\": {\"0\": 48}, \"7\": {\"7\": 36}, \"24\": {\"24\": 96}, \"8\": {\"8\": 136}, \"20\": {\"20\": 124}, \"36\": {\"36\": 116}, \"42\": {\"42\": 36}, \"1\": {\"1\": 112}, \"4\": {\"4\": 148}, \"28\": {\"28\": 28}, \"50\": {\"50\": 136}, \"45\": {\"45\": 128}, \"18\": {\"18\": 48}, \"57\": {\"57\": 120}, \"46\": {\"46\": 128}, \"23\": {\"23\": 147, \"2\": 1}, \"27\": {\"27\": 138}, \"19\": {\"19\": 134}, \"22\": {\"22\": 136}, \"17\": {\"17\": 104}, \"55\": {\"55\": 136}, \"44\": {\"44\": 100}, \"26\": {\"26\": 24}, \"31\": {\"31\": 28}, \"16\": {\"16\": 130}, \"11\": {\"11\": 128}, \"25\": {\"25\": 126}, \"54\": {\"54\": 108}, \"32\": {\"32\": 28}, \"52\": {\"52\": 124}, \"40\": {\"40\": 132}, \"2\": {\"2\": 32}, \"10\": {\"10\": 110}, \"53\": {\"53\": 136}, \"9\": {\"9\": 150}, \"21\": {\"21\": 120}, \"48\": {\"48\": 138}, \"29\": {\"29\": 128}}, \"C_1\": {\"9\": {\"9\": 142}, \"25\": {\"25\": 128}, \"41\": {\"41\": 24}, \"29\": {\"29\": 139, \"56\": 1}, \"46\": {\"46\": 128}, \"4\": {\"4\": 132}, \"31\": {\"31\": 28}, \"36\": {\"36\": 64}, \"20\": {\"20\": 127, \"12\": 1}, \"7\": {\"7\": 28}, \"6\": {\"6\": 96}, \"16\": {\"16\": 138}, \"17\": {\"17\": 64}, \"50\": {\"50\": 148}, \"57\": {\"57\": 144}, \"23\": {\"23\": 136}, \"3\": {\"3\": 126}, \"53\": {\"53\": 140}, \"49\": {\"49\": 32}, \"56\": {\"56\": 152}, \"51\": {\"51\": 142}, \"26\": {\"26\": 24}, \"43\": {\"43\": 144}, \"22\": {\"22\": 136}, \"45\": {\"45\": 146}, \"13\": {\"13\": 152}, \"12\": {\"12\": 115, \"20\": 1}, \"54\": {\"54\": 104}, \"24\": {\"24\": 108}, \"44\": {\"44\": 136}, \"28\": {\"28\": 28}, \"33\": {\"33\": 32}, \"38\": {\"38\": 24}, \"0\": {\"0\": 144}, \"47\": {\"47\": 154}, \"42\": {\"42\": 40}, \"34\": {\"34\": 24}, \"48\": {\"48\": 142}, \"35\": {\"35\": 36}, \"2\": {\"2\": 36}, \"30\": {\"30\": 120}, \"18\": {\"18\": 72}, \"37\": {\"37\": 32}, \"1\": {\"1\": 100}, \"11\": {\"11\": 138}, \"55\": {\"55\": 130}, \"15\": {\"15\": 149, \"21\": 1}, \"10\": {\"10\": 96}, \"27\": {\"27\": 160}, \"19\": {\"19\": 146}, \"14\": {\"8\": 1, \"14\": 23}, \"8\": {\"8\": 140}, \"5\": {\"5\": 136}, \"39\": {\"39\": 28}, \"52\": {\"52\": 122}, \"21\": {\"21\": 123, \"23\": 1}, \"40\": {\"40\": 152}, \"32\": {\"32\": 32}}, \"C_3\": {\"56\": {\"56\": 120}, \"4\": {\"4\": 146}, \"34\": {\"34\": 32}, \"52\": {\"52\": 136}, \"32\": {\"32\": 28}, \"46\": {\"46\": 136}, \"12\": {\"12\": 92}, \"20\": {\"20\": 132}, \"54\": {\"54\": 100}, \"22\": {\"22\": 140}, \"26\": {\"26\": 24}, \"31\": {\"31\": 28}, \"10\": {\"10\": 64}, \"27\": {\"27\": 144}, \"40\": {\"40\": 136}, \"28\": {\"28\": 28}, \"5\": {\"5\": 116}, \"30\": {\"30\": 120}, \"7\": {\"7\": 36}, \"18\": {\"18\": 84}, \"39\": {\"39\": 16}, \"50\": {\"50\": 136}, \"49\": {\"49\": 20}, \"43\": {\"43\": 122}, \"29\": {\"29\": 114}, \"35\": {\"35\": 28}, \"13\": {\"13\": 124}, \"36\": {\"36\": 100}, \"11\": {\"11\": 146}, \"57\": {\"57\": 124}, \"9\": {\"9\": 130}, \"25\": {\"25\": 130}, \"16\": {\"16\": 126}, \"53\": {\"53\": 118}, \"33\": {\"33\": 28}, \"51\": {\"51\": 128}, \"44\": {\"44\": 88}, \"48\": {\"48\": 114}, \"6\": {\"6\": 88}, \"23\": {\"23\": 144}, \"1\": {\"1\": 100}, \"17\": {\"33\": 2, \"17\": 106}, \"21\": {\"21\": 122}, \"14\": {\"14\": 40}, \"55\": {\"55\": 144}, \"41\": {\"41\": 28}, \"3\": {\"3\": 138}, \"38\": {\"38\": 28}, \"2\": {\"2\": 32}, \"8\": {\"8\": 142}, \"37\": {\"37\": 28}, \"45\": {\"17\": 1, \"45\": 59}, \"42\": {\"42\": 28}, \"24\": {\"24\": 104}, \"15\": {\"15\": 136}, \"0\": {\"0\": 124}, \"47\": {\"47\": 92}, \"19\": {\"19\": 120}}, \"O_14\": {\"15\": {\"7\": 67, \"15\": 96, \"5\": 22, \"6\": 5, \"13\": 5, \"4\": 12, \"2\": 20, \"1\": 12, \"3\": 1}, \"5\": {\"4\": 51, \"6\": 11, \"2\": 35, \"3\": 19, \"1\": 28, \"5\": 40, \"7\": 17, \"0\": 3, \"15\": 12, \"14\": 11, \"13\": 6, \"8\": 7}, \"7\": {\"15\": 64, \"3\": 2, \"7\": 105, \"2\": 13, \"5\": 24, \"1\": 24, \"4\": 5, \"8\": 1, \"14\": 1, \"13\": 1}, \"4\": {\"2\": 35, \"6\": 22, \"1\": 25, \"4\": 37, \"7\": 5, \"3\": 21, \"5\": 43, \"8\": 15, \"10\": 4, \"0\": 5, \"14\": 19, \"15\": 4, \"13\": 5}, \"10\": {\"10\": 92, \"11\": 31, \"13\": 11, \"8\": 1, \"0\": 49, \"14\": 10, \"2\": 3, \"4\": 6, \"3\": 16, \"9\": 13, \"5\": 2, \"6\": 6}, \"11\": {\"11\": 96, \"0\": 47, \"13\": 4, \"9\": 26, \"10\": 43, \"12\": 15, \"14\": 3, \"2\": 1, \"3\": 2, \"4\": 1, \"6\": 2}, \"12\": {\"12\": 163, \"9\": 57, \"11\": 18, \"10\": 2}, \"0\": {\"0\": 53, \"13\": 4, \"10\": 55, \"14\": 14, \"8\": 6, \"3\": 27, \"11\": 34, \"2\": 11, \"9\": 19, \"4\": 11, \"5\": 3, \"6\": 2, \"1\": 1}, \"14\": {\"11\": 7, \"6\": 23, \"14\": 54, \"13\": 34, \"2\": 43, \"3\": 21, \"10\": 7, \"5\": 9, \"0\": 20, \"4\": 18, \"7\": 2, \"15\": 1, \"1\": 1}, \"8\": {\"8\": 118, \"1\": 35, \"3\": 29, \"4\": 15, \"10\": 2, \"0\": 14, \"7\": 2, \"5\": 19, \"2\": 2, \"14\": 1, \"9\": 3}, \"13\": {\"6\": 60, \"14\": 43, \"13\": 68, \"2\": 17, \"5\": 11, \"4\": 17, \"15\": 7, \"0\": 4, \"11\": 1, \"3\": 7, \"10\": 5}, \"6\": {\"0\": 4, \"14\": 41, \"2\": 33, \"13\": 56, \"6\": 52, \"1\": 1, \"4\": 20, \"10\": 5, \"3\": 13, \"15\": 5, \"5\": 8, \"11\": 2}, \"1\": {\"1\": 81, \"4\": 24, \"2\": 25, \"15\": 7, \"5\": 41, \"7\": 12, \"6\": 4, \"14\": 8, \"3\": 17, \"8\": 21}, \"3\": {\"3\": 46, \"14\": 29, \"0\": 20, \"2\": 25, \"4\": 28, \"8\": 20, \"6\": 15, \"13\": 9, \"5\": 26, \"10\": 10, \"1\": 9, \"9\": 2, \"11\": 1}, \"9\": {\"9\": 103, \"11\": 25, \"0\": 29, \"12\": 54, \"8\": 12, \"10\": 15, \"3\": 1, \"4\": 1}, \"2\": {\"13\": 14, \"2\": 34, \"4\": 37, \"1\": 13, \"3\": 17, \"5\": 40, \"0\": 6, \"7\": 8, \"6\": 28, \"15\": 12, \"14\": 27, \"11\": 1, \"10\": 1, \"8\": 2}}, \"O_20\": {\"4\": {\"10\": 39, \"14\": 17, \"5\": 17, \"3\": 19, \"4\": 41, \"8\": 24, \"6\": 9, \"9\": 11, \"0\": 15, \"2\": 6, \"12\": 22, \"1\": 6, \"7\": 6, \"13\": 3, \"15\": 5}, \"10\": {\"14\": 30, \"12\": 11, \"8\": 21, \"10\": 54, \"7\": 17, \"6\": 14, \"5\": 11, \"1\": 6, \"9\": 9, \"4\": 36, \"3\": 14, \"2\": 5, \"0\": 7, \"13\": 2, \"15\": 3}, \"15\": {\"15\": 37, \"1\": 34, \"9\": 11, \"3\": 20, \"12\": 21, \"5\": 22, \"8\": 7, \"13\": 21, \"2\": 17, \"0\": 27, \"10\": 4, \"4\": 6, \"7\": 11, \"6\": 1, \"14\": 1}, \"0\": {\"9\": 18, \"3\": 19, \"5\": 21, \"14\": 1, \"7\": 18, \"1\": 27, \"15\": 28, \"8\": 14, \"10\": 7, \"4\": 13, \"12\": 17, \"0\": 32, \"13\": 14, \"2\": 8, \"6\": 3}, \"6\": {\"10\": 30, \"14\": 37, \"2\": 15, \"12\": 4, \"6\": 44, \"5\": 3, \"0\": 3, \"8\": 32, \"7\": 22, \"13\": 3, \"4\": 8, \"11\": 13, \"3\": 13, \"1\": 4, \"9\": 8, \"15\": 1}, \"3\": {\"14\": 9, \"0\": 16, \"15\": 9, \"4\": 9, \"7\": 17, \"5\": 23, \"9\": 25, \"1\": 25, \"12\": 28, \"10\": 14, \"13\": 8, \"6\": 9, \"3\": 24, \"2\": 16, \"8\": 8}, \"7\": {\"11\": 14, \"7\": 24, \"2\": 24, \"3\": 19, \"14\": 10, \"13\": 13, \"9\": 34, \"12\": 10, \"8\": 23, \"0\": 10, \"10\": 12, \"5\": 8, \"15\": 10, \"1\": 10, \"4\": 7, \"6\": 12}, \"2\": {\"7\": 24, \"12\": 18, \"9\": 30, \"10\": 7, \"5\": 9, \"2\": 30, \"13\": 24, \"8\": 11, \"3\": 24, \"15\": 18, \"1\": 11, \"4\": 8, \"0\": 12, \"6\": 6, \"11\": 6, \"14\": 2}, \"8\": {\"0\": 12, \"7\": 14, \"5\": 13, \"14\": 26, \"8\": 38, \"10\": 30, \"6\": 18, \"4\": 33, \"9\": 9, \"3\": 18, \"2\": 11, \"12\": 10, \"13\": 2, \"1\": 2, \"11\": 3, \"15\": 1}, \"11\": {\"11\": 122, \"7\": 15, \"13\": 28, \"14\": 3, \"6\": 40, \"2\": 18, \"9\": 5, \"3\": 3, \"15\": 2, \"12\": 2, \"8\": 1, \"10\": 1}, \"14\": {\"6\": 34, \"2\": 5, \"14\": 46, \"8\": 35, \"10\": 38, \"9\": 10, \"4\": 23, \"12\": 3, \"0\": 10, \"7\": 18, \"11\": 1, \"13\": 3, \"3\": 10, \"5\": 2, \"1\": 1, \"15\": 1}, \"12\": {\"14\": 4, \"1\": 32, \"12\": 31, \"5\": 21, \"4\": 21, \"2\": 13, \"3\": 23, \"10\": 7, \"7\": 15, \"15\": 18, \"9\": 20, \"13\": 7, \"0\": 17, \"8\": 9, \"6\": 2}, \"13\": {\"13\": 57, \"11\": 13, \"2\": 26, \"8\": 5, \"7\": 24, \"15\": 26, \"12\": 10, \"5\": 13, \"9\": 20, \"1\": 15, \"6\": 5, \"3\": 16, \"0\": 8, \"10\": 1, \"4\": 1}, \"9\": {\"9\": 28, \"7\": 24, \"8\": 11, \"12\": 24, \"3\": 19, \"6\": 6, \"1\": 21, \"14\": 5, \"2\": 30, \"5\": 16, \"15\": 12, \"10\": 10, \"11\": 4, \"13\": 12, \"4\": 8, \"0\": 10}, \"5\": {\"7\": 12, \"12\": 16, \"8\": 13, \"3\": 23, \"9\": 16, \"15\": 19, \"13\": 17, \"1\": 25, \"0\": 31, \"10\": 4, \"4\": 14, \"5\": 27, \"2\": 18, \"6\": 3, \"14\": 2}, \"1\": {\"15\": 30, \"0\": 24, \"1\": 43, \"3\": 16, \"2\": 16, \"12\": 23, \"5\": 25, \"9\": 31, \"13\": 14, \"7\": 8, \"8\": 4, \"4\": 2, \"10\": 2, \"6\": 2}}, \"O_50\": {\"5\": {\"7\": 43, \"3\": 2, \"5\": 57, \"10\": 24, \"4\": 23, \"13\": 41, \"6\": 26, \"15\": 4, \"1\": 9, \"0\": 6, \"8\": 3, \"11\": 2}, \"12\": {\"9\": 62, \"12\": 109, \"11\": 17, \"14\": 50, \"1\": 2}, \"14\": {\"9\": 35, \"2\": 11, \"11\": 34, \"14\": 107, \"12\": 45, \"15\": 3, \"1\": 4, \"0\": 1}, \"4\": {\"15\": 31, \"3\": 2, \"4\": 62, \"5\": 28, \"11\": 9, \"0\": 4, \"6\": 21, \"10\": 1, \"13\": 27, \"1\": 43, \"7\": 9, \"2\": 1, \"9\": 2}, \"13\": {\"7\": 46, \"13\": 59, \"5\": 52, \"4\": 19, \"6\": 19, \"10\": 21, \"0\": 5, \"1\": 9, \"15\": 6, \"8\": 3, \"2\": 1}, \"10\": {\"7\": 22, \"8\": 37, \"3\": 2, \"13\": 16, \"10\": 98, \"0\": 35, \"6\": 6, \"5\": 19, \"2\": 2, \"1\": 2, \"4\": 1}, \"9\": {\"11\": 51, \"12\": 56, \"9\": 89, \"14\": 29, \"15\": 8, \"1\": 4, \"4\": 2, \"2\": 1}, \"15\": {\"15\": 71, \"5\": 6, \"6\": 33, \"1\": 57, \"11\": 23, \"14\": 6, \"4\": 32, \"13\": 6, \"9\": 2, \"12\": 1, \"7\": 2, \"2\": 1}, \"6\": {\"13\": 32, \"15\": 28, \"5\": 16, \"4\": 32, \"7\": 5, \"6\": 62, \"1\": 38, \"2\": 5, \"11\": 1, \"10\": 7, \"0\": 13, \"14\": 1}, \"2\": {\"2\": 124, \"0\": 74, \"14\": 11, \"4\": 2, \"1\": 14, \"10\": 7, \"6\": 2, \"11\": 2, \"12\": 1, \"15\": 2, \"9\": 1}, \"0\": {\"0\": 111, \"2\": 60, \"10\": 28, \"1\": 8, \"15\": 1, \"13\": 10, \"8\": 4, \"4\": 3, \"6\": 7, \"5\": 3, \"7\": 4, \"9\": 1}, \"11\": {\"11\": 73, \"9\": 46, \"1\": 20, \"14\": 37, \"15\": 30, \"12\": 21, \"4\": 9, \"0\": 2, \"2\": 1, \"6\": 1}, \"3\": {\"10\": 2, \"3\": 194, \"8\": 40, \"7\": 2, \"13\": 2}, \"8\": {\"3\": 28, \"8\": 142, \"10\": 51, \"13\": 1, \"7\": 12, \"0\": 3, \"5\": 2, \"2\": 1}, \"7\": {\"13\": 54, \"7\": 78, \"5\": 39, \"4\": 15, \"0\": 8, \"8\": 7, \"6\": 12, \"10\": 23, \"2\": 1, \"15\": 1, \"3\": 1, \"1\": 1}, \"1\": {\"1\": 83, \"6\": 29, \"15\": 47, \"2\": 11, \"14\": 1, \"4\": 30, \"5\": 6, \"0\": 13, \"13\": 7, \"9\": 4, \"11\": 7, \"7\": 2}}, \"O_26\": {\"7\": {\"3\": 31, \"10\": 16, \"9\": 13, \"2\": 23, \"15\": 13, \"14\": 19, \"5\": 24, \"4\": 18, \"13\": 8, \"7\": 26, \"6\": 7, \"8\": 18, \"1\": 13, \"0\": 11}, \"6\": {\"8\": 28, \"6\": 33, \"14\": 12, \"9\": 29, \"10\": 19, \"7\": 15, \"0\": 24, \"4\": 15, \"15\": 14, \"3\": 5, \"1\": 4, \"13\": 15, \"2\": 10, \"5\": 13, \"12\": 4}, \"14\": {\"0\": 25, \"4\": 31, \"9\": 13, \"8\": 21, \"14\": 27, \"7\": 23, \"10\": 31, \"3\": 5, \"1\": 30, \"15\": 4, \"6\": 13, \"13\": 4, \"5\": 7, \"2\": 6}, \"15\": {\"15\": 36, \"2\": 22, \"10\": 12, \"13\": 26, \"7\": 14, \"0\": 19, \"4\": 14, \"5\": 21, \"9\": 14, \"6\": 21, \"1\": 5, \"14\": 10, \"3\": 13, \"8\": 13}, \"5\": {\"8\": 11, \"5\": 44, \"2\": 21, \"15\": 24, \"13\": 44, \"7\": 7, \"6\": 13, \"14\": 8, \"9\": 24, \"3\": 23, \"4\": 6, \"1\": 4, \"10\": 3, \"0\": 8}, \"10\": {\"14\": 34, \"8\": 25, \"4\": 18, \"0\": 23, \"10\": 34, \"7\": 11, \"1\": 16, \"5\": 12, \"9\": 17, \"6\": 16, \"13\": 9, \"12\": 4, \"15\": 13, \"3\": 6, \"2\": 2}, \"4\": {\"0\": 27, \"7\": 13, \"14\": 33, \"2\": 10, \"3\": 14, \"8\": 13, \"9\": 21, \"6\": 12, \"10\": 23, \"15\": 7, \"4\": 33, \"1\": 24, \"5\": 8, \"13\": 2}, \"11\": {\"11\": 192, \"4\": 1, \"12\": 34, \"5\": 3, \"6\": 3, \"13\": 5, \"10\": 1, \"9\": 1}, \"13\": {\"9\": 20, \"8\": 22, \"13\": 47, \"2\": 27, \"15\": 23, \"5\": 41, \"4\": 5, \"6\": 15, \"14\": 4, \"7\": 12, \"10\": 7, \"1\": 1, \"3\": 11, \"0\": 4, \"12\": 1}, \"2\": {\"5\": 29, \"9\": 17, \"8\": 15, \"2\": 29, \"1\": 8, \"3\": 43, \"6\": 3, \"10\": 3, \"14\": 10, \"0\": 10, \"15\": 17, \"7\": 25, \"4\": 12, \"13\": 19}, \"0\": {\"15\": 8, \"8\": 13, \"14\": 32, \"10\": 33, \"0\": 33, \"4\": 23, \"6\": 18, \"9\": 14, \"1\": 21, \"3\": 6, \"5\": 11, \"2\": 5, \"12\": 2, \"7\": 17, \"13\": 4}, \"12\": {\"12\": 172, \"6\": 6, \"11\": 29, \"14\": 11, \"1\": 5, \"8\": 2, \"10\": 3, \"9\": 6, \"4\": 1, \"15\": 1, \"13\": 1, \"0\": 3}, \"3\": {\"7\": 26, \"3\": 47, \"10\": 7, \"5\": 23, \"2\": 42, \"8\": 17, \"9\": 16, \"4\": 13, \"0\": 12, \"15\": 16, \"14\": 5, \"1\": 8, \"6\": 2, \"13\": 6}, \"9\": {\"8\": 26, \"1\": 12, \"13\": 21, \"4\": 14, \"5\": 33, \"14\": 11, \"6\": 20, \"15\": 8, \"10\": 15, \"9\": 23, \"2\": 15, \"3\": 16, \"7\": 14, \"12\": 1, \"0\": 11}, \"8\": {\"15\": 17, \"5\": 18, \"8\": 27, \"14\": 19, \"4\": 20, \"13\": 16, \"1\": 14, \"2\": 8, \"0\": 25, \"7\": 15, \"10\": 18, \"9\": 11, \"3\": 13, \"6\": 19}, \"1\": {\"1\": 51, \"4\": 31, \"6\": 6, \"14\": 34, \"8\": 8, \"7\": 19, \"2\": 4, \"0\": 27, \"10\": 28, \"15\": 4, \"9\": 14, \"3\": 10, \"13\": 2, \"5\": 2}}, \"O_32\": {\"7\": {\"11\": 20, \"7\": 40, \"4\": 31, \"5\": 19, \"0\": 13, \"8\": 15, \"14\": 41, \"2\": 22, \"13\": 30, \"3\": 9}, \"2\": {\"13\": 18, \"4\": 47, \"2\": 69, \"11\": 8, \"14\": 13, \"8\": 14, \"0\": 37, \"7\": 25, \"5\": 9}, \"5\": {\"5\": 35, \"13\": 27, \"14\": 26, \"0\": 21, \"11\": 9, \"7\": 25, \"2\": 15, \"3\": 26, \"4\": 30, \"8\": 26}, \"6\": {\"6\": 207, \"12\": 32, \"10\": 1}, \"13\": {\"13\": 50, \"7\": 27, \"11\": 9, \"3\": 26, \"0\": 24, \"4\": 31, \"5\": 24, \"2\": 12, \"8\": 21, \"14\": 14, \"15\": 2}, \"4\": {\"13\": 26, \"4\": 37, \"2\": 57, \"5\": 23, \"0\": 27, \"11\": 4, \"7\": 38, \"8\": 14, \"14\": 12, \"3\": 2}, \"3\": {\"5\": 28, \"3\": 101, \"11\": 22, \"13\": 35, \"14\": 16, \"8\": 16, \"4\": 4, \"15\": 1, \"7\": 16, \"0\": 1}, \"0\": {\"0\": 52, \"5\": 13, \"8\": 37, \"4\": 29, \"2\": 39, \"11\": 7, \"13\": 27, \"7\": 13, \"14\": 20, \"9\": 2, \"3\": 1}, \"9\": {\"9\": 205, \"12\": 28, \"2\": 3, \"6\": 1, \"0\": 3}, \"12\": {\"12\": 196, \"9\": 19, \"6\": 23, \"10\": 2}, \"8\": {\"7\": 13, \"13\": 30, \"2\": 13, \"8\": 67, \"0\": 40, \"14\": 8, \"11\": 6, \"3\": 11, \"5\": 29, \"15\": 5, \"4\": 18}, \"14\": {\"13\": 16, \"4\": 17, \"11\": 66, \"3\": 21, \"0\": 7, \"8\": 5, \"14\": 52, \"5\": 18, \"2\": 11, \"7\": 27}, \"15\": {\"0\": 4, \"15\": 206, \"3\": 6, \"8\": 20, \"5\": 2, \"2\": 1, \"14\": 1}, \"11\": {\"11\": 67, \"3\": 23, \"14\": 62, \"7\": 35, \"8\": 3, \"4\": 13, \"5\": 15, \"0\": 6, \"13\": 13, \"2\": 3}, \"10\": {\"1\": 56, \"10\": 184}, \"1\": {\"1\": 195, \"10\": 45}}, \"O_44\": {\"11\": {\"9\": 13, \"11\": 135, \"6\": 27, \"13\": 57, \"7\": 6, \"4\": 2}, \"7\": {\"7\": 80, \"6\": 25, \"12\": 7, \"3\": 3, \"2\": 44, \"10\": 13, \"13\": 15, \"9\": 42, \"1\": 6, \"4\": 4, \"11\": 1}, \"6\": {\"6\": 87, \"9\": 28, \"7\": 24, \"11\": 29, \"13\": 62, \"2\": 6, \"10\": 2, \"4\": 2}, \"12\": {\"1\": 48, \"12\": 81, \"10\": 49, \"3\": 40, \"2\": 18, \"7\": 4}, \"4\": {\"4\": 91, \"14\": 75, \"15\": 26, \"9\": 6, \"5\": 17, \"0\": 7, \"13\": 12, \"6\": 2, \"11\": 2, \"8\": 2}, \"13\": {\"13\": 77, \"9\": 45, \"11\": 32, \"6\": 55, \"7\": 14, \"14\": 7, \"2\": 3, \"10\": 2, \"4\": 4, \"15\": 1}, \"8\": {\"5\": 38, \"15\": 28, \"0\": 71, \"14\": 8, \"8\": 91, \"4\": 4}, \"5\": {\"5\": 121, \"4\": 17, \"8\": 25, \"15\": 15, \"14\": 26, \"0\": 36}, \"14\": {\"14\": 93, \"4\": 54, \"15\": 34, \"0\": 16, \"5\": 19, \"8\": 14, \"13\": 4, \"7\": 2, \"9\": 3, \"6\": 1}, \"3\": {\"2\": 19, \"1\": 72, \"12\": 34, \"3\": 98, \"10\": 10, \"9\": 2, \"7\": 5}, \"10\": {\"12\": 54, \"10\": 84, \"1\": 32, \"7\": 11, \"3\": 12, \"9\": 3, \"2\": 42, \"6\": 2}, \"1\": {\"10\": 38, \"12\": 62, \"1\": 73, \"2\": 19, \"3\": 39, \"7\": 8, \"9\": 1}, \"2\": {\"10\": 41, \"2\": 73, \"1\": 27, \"7\": 42, \"3\": 13, \"12\": 10, \"9\": 24, \"6\": 7, \"13\": 3}, \"15\": {\"14\": 46, \"8\": 30, \"15\": 76, \"0\": 49, \"4\": 29, \"3\": 1, \"5\": 9}, \"9\": {\"13\": 45, \"7\": 41, \"10\": 3, \"9\": 68, \"4\": 7, \"3\": 7, \"6\": 36, \"11\": 8, \"2\": 17, \"14\": 4, \"1\": 3, \"12\": 1}, \"0\": {\"0\": 57, \"8\": 65, \"5\": 47, \"15\": 45, \"14\": 17, \"4\": 9}}, \"O_8\": {\"10\": {\"9\": 3, \"6\": 21, \"10\": 50, \"11\": 8, \"1\": 14, \"8\": 7, \"13\": 31, \"12\": 1, \"14\": 32, \"5\": 18, \"7\": 15, \"4\": 25, \"0\": 11, \"15\": 4}, \"6\": {\"0\": 40, \"7\": 24, \"15\": 15, \"4\": 27, \"11\": 3, \"6\": 37, \"13\": 31, \"10\": 8, \"14\": 22, \"8\": 13, \"2\": 10, \"1\": 4, \"12\": 2, \"3\": 3, \"5\": 1}, \"13\": {\"4\": 32, \"0\": 41, \"14\": 27, \"1\": 6, \"6\": 24, \"13\": 46, \"7\": 17, \"10\": 28, \"8\": 3, \"15\": 5, \"5\": 7, \"11\": 3, \"2\": 1}, \"3\": {\"2\": 74, \"12\": 33, \"15\": 27, \"7\": 17, \"3\": 67, \"6\": 9, \"0\": 7, \"8\": 3, \"13\": 3}, \"9\": {\"9\": 216, \"4\": 1, \"5\": 20, \"10\": 2, \"13\": 1}, \"1\": {\"11\": 52, \"10\": 21, \"8\": 12, \"14\": 33, \"5\": 41, \"1\": 52, \"13\": 7, \"4\": 11, \"15\": 3, \"6\": 3, \"7\": 3, \"0\": 2}, \"5\": {\"1\": 50, \"14\": 33, \"10\": 33, \"5\": 69, \"11\": 27, \"6\": 3, \"4\": 11, \"8\": 4, \"0\": 4, \"13\": 5, \"7\": 1}, \"11\": {\"10\": 15, \"11\": 94, \"1\": 50, \"14\": 19, \"0\": 1, \"5\": 24, \"6\": 3, \"8\": 15, \"12\": 2, \"15\": 3, \"13\": 6, \"4\": 6, \"7\": 2}, \"4\": {\"7\": 22, \"4\": 40, \"10\": 26, \"0\": 24, \"11\": 4, \"14\": 35, \"13\": 21, \"1\": 10, \"5\": 6, \"6\": 31, \"8\": 10, \"15\": 8, \"2\": 1, \"12\": 2}, \"14\": {\"6\": 19, \"7\": 22, \"1\": 20, \"4\": 27, \"5\": 9, \"13\": 22, \"11\": 16, \"0\": 18, \"14\": 41, \"10\": 33, \"8\": 10, \"15\": 2, \"2\": 1}, \"12\": {\"12\": 61, \"8\": 33, \"15\": 51, \"2\": 39, \"3\": 33, \"4\": 1, \"7\": 10, \"13\": 2, \"0\": 4, \"6\": 6}, \"7\": {\"4\": 20, \"7\": 48, \"0\": 48, \"6\": 27, \"8\": 12, \"12\": 8, \"10\": 9, \"2\": 16, \"13\": 18, \"15\": 18, \"14\": 11, \"3\": 5}, \"0\": {\"13\": 45, \"0\": 45, \"7\": 43, \"8\": 8, \"6\": 30, \"4\": 24, \"10\": 18, \"14\": 13, \"12\": 1, \"3\": 3, \"15\": 3, \"2\": 5, \"1\": 2}, \"15\": {\"6\": 19, \"7\": 21, \"0\": 12, \"15\": 46, \"4\": 8, \"2\": 24, \"12\": 39, \"3\": 28, \"13\": 7, \"8\": 29, \"10\": 2, \"11\": 2, \"1\": 1, \"14\": 2}, \"2\": {\"4\": 6, \"2\": 72, \"3\": 58, \"15\": 30, \"0\": 10, \"7\": 23, \"12\": 28, \"6\": 7, \"14\": 1, \"8\": 5}, \"8\": {\"4\": 15, \"7\": 13, \"6\": 11, \"11\": 19, \"15\": 37, \"8\": 59, \"5\": 3, \"14\": 13, \"13\": 8, \"0\": 7, \"2\": 4, \"12\": 28, \"10\": 7, \"1\": 11, \"3\": 5}}, \"O_38\": {\"4\": {\"4\": 182, \"12\": 55, \"13\": 1, \"14\": 1, \"10\": 1}, \"7\": {\"13\": 6, \"7\": 89, \"5\": 28, \"3\": 11, \"0\": 47, \"4\": 2, \"12\": 3, \"8\": 37, \"15\": 4, \"10\": 7, \"9\": 2, \"6\": 4}, \"12\": {\"12\": 171, \"4\": 44, \"14\": 8, \"10\": 9, \"7\": 3, \"8\": 1, \"11\": 3, \"15\": 1}, \"10\": {\"12\": 19, \"15\": 14, \"8\": 21, \"14\": 16, \"10\": 75, \"7\": 13, \"13\": 31, \"2\": 23, \"11\": 6, \"0\": 13, \"1\": 1, \"5\": 8}, \"0\": {\"3\": 20, \"8\": 38, \"5\": 27, \"7\": 47, \"9\": 3, \"4\": 2, \"12\": 2, \"0\": 67, \"13\": 4, \"10\": 11, \"15\": 11, \"1\": 4, \"6\": 4}, \"1\": {\"8\": 11, \"9\": 10, \"5\": 16, \"1\": 124, \"15\": 38, \"6\": 22, \"13\": 17, \"0\": 2}, \"5\": {\"8\": 35, \"15\": 25, \"6\": 23, \"7\": 21, \"5\": 48, \"1\": 19, \"9\": 25, \"0\": 27, \"13\": 5, \"10\": 3, \"3\": 8, \"2\": 1}, \"15\": {\"13\": 45, \"5\": 22, \"15\": 63, \"10\": 18, \"1\": 43, \"8\": 29, \"6\": 3, \"2\": 6, \"7\": 3, \"9\": 1, \"14\": 3, \"12\": 1, \"0\": 3}, \"9\": {\"9\": 111, \"6\": 66, \"3\": 37, \"5\": 14, \"7\": 4, \"1\": 4, \"8\": 1, \"15\": 1, \"0\": 2}, \"11\": {\"11\": 124, \"14\": 73, \"13\": 1, \"10\": 9, \"2\": 13, \"12\": 13, \"4\": 7}, \"14\": {\"11\": 43, \"10\": 13, \"14\": 132, \"2\": 38, \"12\": 7, \"13\": 5, \"15\": 2}, \"6\": {\"9\": 78, \"1\": 21, \"6\": 105, \"5\": 21, \"7\": 5, \"8\": 5, \"0\": 2, \"3\": 3}, \"8\": {\"3\": 5, \"5\": 47, \"8\": 57, \"9\": 4, \"0\": 39, \"13\": 14, \"15\": 20, \"6\": 7, \"10\": 13, \"7\": 29, \"12\": 2, \"2\": 1, \"1\": 2}, \"3\": {\"7\": 17, \"9\": 32, \"3\": 142, \"0\": 22, \"6\": 12, \"5\": 10, \"8\": 5}, \"2\": {\"2\": 125, \"10\": 23, \"13\": 31, \"11\": 11, \"15\": 12, \"14\": 36, \"8\": 1, \"0\": 1}, \"13\": {\"13\": 82, \"12\": 1, \"15\": 47, \"10\": 28, \"5\": 10, \"2\": 17, \"1\": 25, \"8\": 15, \"7\": 3, \"0\": 8, \"14\": 3, \"6\": 1}}}, \"per_domain_accuracy\": {\"C_4\": {\"accuracy\": 0.9977544910179641, \"source?\": true}, \"C_5\": {\"accuracy\": 0.9972067039106145, \"source?\": true}, \"C_2\": {\"accuracy\": 0.9994642857142857, \"source?\": true}, \"C_1\": {\"accuracy\": 0.9989809782608695, \"source?\": true}, \"C_3\": {\"accuracy\": 0.9994485294117647, \"source?\": true}, \"O_14\": {\"accuracy\": 0.3223958333333333, \"source?\": false}, \"O_20\": {\"accuracy\": 0.1765625, \"source?\": false}, \"O_50\": {\"accuracy\": 0.39557291666666666, \"source?\": false}, \"O_26\": {\"accuracy\": 0.22239583333333332, \"source?\": false}, \"O_32\": {\"accuracy\": 0.4591145833333333, \"source?\": false}, \"O_44\": {\"accuracy\": 0.3606770833333333, \"source?\": false}, \"O_8\": {\"accuracy\": 0.2716145833333333, \"source?\": false}, \"O_38\": {\"accuracy\": 0.44192708333333336, \"source?\": false}}}, \"history\": {\"epoch_indices\": [1, 2, 3, 4, 5, 6], \"train_label_loss\": [0.031694932973693184, 0.008997485883856467, 0.0063496152479199635, 0.003970352359899701, 0.0034636206600070787, 0.0026209091909790002], \"source_val_label_loss\": [0.010374018922448158, 0.008864062838256359, 0.009154983796179295, 0.006668144837021828, 0.009280663914978504, 0.009281288832426071], \"target_val_label_loss\": [1.9814964532852173, 2.2935125827789307, 2.494985580444336, 2.456730365753174, 3.5551838874816895, 3.4820194244384766], \"source_val_acc_label\": [0.9980357142857142, 0.9985714285714286, 0.9983214285714286, 0.9993571428571428, 0.9987857142857143, 0.9991428571428571], \"target_val_acc_label\": [0.3169921875, 0.33128255208333335, 0.31728515625, 0.32203776041666665, 0.26565755208333336, 0.2884114583333333]}, \"dataset_metrics\": {\"source\": {\"train\": {\"n_unique_x\": 175111, \"n_unique_y\": 58, \"n_batch/episode\": 6295}, \"val\": {\"n_unique_x\": 37216, \"n_unique_y\": 58, \"n_batch/episode\": 875}, \"test\": {\"n_unique_x\": 37596, \"n_unique_y\": 58, \"n_batch/episode\": 886}}, \"target\": {\"train\": {\"n_unique_x\": 179200, \"n_unique_y\": 16, \"n_batch/episode\": 6720}, \"val\": {\"n_unique_x\": 38400, \"n_unique_y\": 16, \"n_batch/episode\": 960}, \"test\": {\"n_unique_x\": 38400, \"n_unique_y\": 16, \"n_batch/episode\": 960}}}}'"
      ]
     },
     "execution_count": 29,
     "metadata": {},
     "output_type": "execute_result"
    }
   ],
   "source": [
    "json.dumps(experiment)"
   ]
  }
 ],
 "metadata": {
  "celltoolbar": "Tags",
  "kernelspec": {
   "display_name": "Python 3 (ipykernel)",
   "language": "python",
   "name": "python3"
  },
  "language_info": {
   "codemirror_mode": {
    "name": "ipython",
    "version": 3
   },
   "file_extension": ".py",
   "mimetype": "text/x-python",
   "name": "python",
   "nbconvert_exporter": "python",
   "pygments_lexer": "ipython3",
   "version": "3.8.10"
  },
  "papermill": {
   "default_parameters": {},
   "duration": 1074.441199,
   "end_time": "2022-03-25T03:26:56.972807",
   "environment_variables": {},
   "exception": null,
   "input_path": "/mnt/wd500GB/CSC500/csc500-main/csc500-notebooks/templates/tl_ptn_template.ipynb",
   "output_path": "trial.ipynb",
   "parameters": {
    "parameters": {
     "BEST_MODEL_PATH": "./best_model.pth",
     "NUM_LOGS_PER_EPOCH": 10,
     "criteria_for_best": "target_accuracy",
     "dataset_seed": 420,
     "datasets": [
      {
       "domain_prefix": "C_",
       "domains": [
        1,
        2,
        3,
        4,
        5
       ],
       "episode_transforms": [],
       "labels": [
        "1-10.",
        "1-11.",
        "1-15.",
        "1-16.",
        "1-17.",
        "1-18.",
        "1-19.",
        "10-4.",
        "10-7.",
        "11-1.",
        "11-14.",
        "11-17.",
        "11-20.",
        "11-7.",
        "13-20.",
        "13-8.",
        "14-10.",
        "14-11.",
        "14-14.",
        "14-7.",
        "15-1.",
        "15-20.",
        "16-1.",
        "16-16.",
        "17-10.",
        "17-11.",
        "17-2.",
        "19-1.",
        "19-16.",
        "19-19.",
        "19-20.",
        "19-3.",
        "2-10.",
        "2-11.",
        "2-17.",
        "2-18.",
        "2-20.",
        "2-3.",
        "2-4.",
        "2-5.",
        "2-6.",
        "2-7.",
        "2-8.",
        "3-13.",
        "3-18.",
        "3-3.",
        "4-1.",
        "4-10.",
        "4-11.",
        "4-19.",
        "5-5.",
        "6-15.",
        "7-10.",
        "7-14.",
        "8-18.",
        "8-20.",
        "8-3.",
        "8-8."
       ],
       "num_examples_per_domain_per_label": -1,
       "pickle_path": "/mnt/wd500GB/CSC500/csc500-main/datasets/cores.stratified_ds.2022A.pkl",
       "source_or_target_dataset": "source",
       "x_transforms": [
        "unit_power",
        "take_200"
       ]
      },
      {
       "domain_prefix": "O_",
       "domains": [
        32,
        38,
        8,
        44,
        14,
        50,
        20,
        26
       ],
       "episode_transforms": [],
       "labels": [
        "3123D52",
        "3123D65",
        "3123D79",
        "3123D80",
        "3123D54",
        "3123D70",
        "3123D7B",
        "3123D89",
        "3123D58",
        "3123D76",
        "3123D7D",
        "3123EFE",
        "3123D64",
        "3123D78",
        "3123D7E",
        "3124E4A"
       ],
       "num_examples_per_domain_per_label": 2000,
       "pickle_path": "/mnt/wd500GB/CSC500/csc500-main/datasets/oracle.Run1_framed_2000Examples_stratified_ds.2022A.pkl",
       "source_or_target_dataset": "target",
       "x_transforms": [
        "unit_power",
        "take_200",
        "resample_20Msps_to_25Msps"
       ]
      }
     ],
     "device": "cuda",
     "experiment_name": "tl_3Av2:cores -> oracle.run1.framed",
     "lr": 0.0001,
     "n_epoch": 50,
     "n_query": 2,
     "n_shot": 3,
     "n_way": 16,
     "patience": 3,
     "seed": 420,
     "test_k_factor": 2,
     "torch_default_dtype": "torch.float32",
     "train_k_factor": 3,
     "val_k_factor": 2,
     "x_net": [
      {
       "class": "nnReshape",
       "kargs": {
        "shape": [
         -1,
         1,
         2,
         200
        ]
       }
      },
      {
       "class": "Conv2d",
       "kargs": {
        "bias": false,
        "in_channels": 1,
        "kernel_size": [
         1,
         7
        ],
        "out_channels": 256,
        "padding": [
         0,
         3
        ]
       }
      },
      {
       "class": "ReLU",
       "kargs": {
        "inplace": true
       }
      },
      {
       "class": "BatchNorm2d",
       "kargs": {
        "num_features": 256
       }
      },
      {
       "class": "Conv2d",
       "kargs": {
        "bias": true,
        "in_channels": 256,
        "kernel_size": [
         2,
         7
        ],
        "out_channels": 80,
        "padding": [
         0,
         3
        ]
       }
      },
      {
       "class": "ReLU",
       "kargs": {
        "inplace": true
       }
      },
      {
       "class": "BatchNorm2d",
       "kargs": {
        "num_features": 80
       }
      },
      {
       "class": "Flatten",
       "kargs": {}
      },
      {
       "class": "Linear",
       "kargs": {
        "in_features": 16000,
        "out_features": 256
       }
      },
      {
       "class": "ReLU",
       "kargs": {
        "inplace": true
       }
      },
      {
       "class": "BatchNorm1d",
       "kargs": {
        "num_features": 256
       }
      },
      {
       "class": "Linear",
       "kargs": {
        "in_features": 256,
        "out_features": 256
       }
      }
     ],
     "x_shape": [
      2,
      200
     ]
    }
   },
   "start_time": "2022-03-25T03:09:02.531608",
   "version": "2.3.4"
  }
 },
 "nbformat": 4,
 "nbformat_minor": 5
}