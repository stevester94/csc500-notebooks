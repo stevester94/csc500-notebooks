{
 "cells": [
  {
   "cell_type": "markdown",
   "id": "9fea5f46",
   "metadata": {
    "papermill": {
     "duration": 0.019735,
     "end_time": "2022-03-25T06:30:20.830803",
     "exception": false,
     "start_time": "2022-03-25T06:30:20.811068",
     "status": "completed"
    },
    "tags": []
   },
   "source": [
    "# Transfer Learning Template"
   ]
  },
  {
   "cell_type": "code",
   "execution_count": 1,
   "id": "0902182a",
   "metadata": {
    "execution": {
     "iopub.execute_input": "2022-03-25T06:30:20.865813Z",
     "iopub.status.busy": "2022-03-25T06:30:20.857198Z",
     "iopub.status.idle": "2022-03-25T06:30:21.785427Z",
     "shell.execute_reply": "2022-03-25T06:30:21.784880Z"
    },
    "papermill": {
     "duration": 0.942137,
     "end_time": "2022-03-25T06:30:21.785543",
     "exception": false,
     "start_time": "2022-03-25T06:30:20.843406",
     "status": "completed"
    },
    "tags": []
   },
   "outputs": [],
   "source": [
    "%load_ext autoreload\n",
    "%autoreload 2\n",
    "%matplotlib inline\n",
    "\n",
    "    \n",
    "import os, json, sys, time, random\n",
    "import numpy as np\n",
    "import torch\n",
    "from torch.optim import Adam\n",
    "from  easydict import EasyDict\n",
    "import matplotlib.pyplot as plt\n",
    "\n",
    "from steves_models.steves_ptn import Steves_Prototypical_Network\n",
    "\n",
    "from steves_utils.lazy_iterable_wrapper import Lazy_Iterable_Wrapper\n",
    "from steves_utils.iterable_aggregator import Iterable_Aggregator\n",
    "from steves_utils.ptn_train_eval_test_jig import  PTN_Train_Eval_Test_Jig\n",
    "from steves_utils.torch_sequential_builder import build_sequential\n",
    "from steves_utils.torch_utils import get_dataset_metrics, ptn_confusion_by_domain_over_dataloader\n",
    "from steves_utils.utils_v2 import (per_domain_accuracy_from_confusion, get_datasets_base_path)\n",
    "from steves_utils.PTN.utils import independent_accuracy_assesment\n",
    "\n",
    "from torch.utils.data import DataLoader\n",
    "\n",
    "from steves_utils.stratified_dataset.episodic_accessor import Episodic_Accessor_Factory\n",
    "\n",
    "from steves_utils.ptn_do_report import (\n",
    "    get_loss_curve,\n",
    "    get_results_table,\n",
    "    get_parameters_table,\n",
    "    get_domain_accuracies,\n",
    ")\n",
    "\n",
    "from steves_utils.transforms import get_chained_transform"
   ]
  },
  {
   "cell_type": "markdown",
   "id": "41c840b4",
   "metadata": {
    "papermill": {
     "duration": 0.012329,
     "end_time": "2022-03-25T06:30:21.815783",
     "exception": false,
     "start_time": "2022-03-25T06:30:21.803454",
     "status": "completed"
    },
    "tags": []
   },
   "source": [
    "# Allowed Parameters\n",
    "These are allowed parameters, not defaults\n",
    "Each of these values need to be present in the injected parameters (the notebook will raise an exception if they are not present)\n",
    "\n",
    "Papermill uses the cell tag \"parameters\" to inject the real parameters below this cell.\n",
    "Enable tags to see what I mean"
   ]
  },
  {
   "cell_type": "code",
   "execution_count": 2,
   "id": "fd44eb83",
   "metadata": {
    "execution": {
     "iopub.execute_input": "2022-03-25T06:30:21.843862Z",
     "iopub.status.busy": "2022-03-25T06:30:21.843163Z",
     "iopub.status.idle": "2022-03-25T06:30:21.857859Z",
     "shell.execute_reply": "2022-03-25T06:30:21.857489Z"
    },
    "papermill": {
     "duration": 0.02985,
     "end_time": "2022-03-25T06:30:21.857936",
     "exception": false,
     "start_time": "2022-03-25T06:30:21.828086",
     "status": "completed"
    },
    "tags": []
   },
   "outputs": [],
   "source": [
    "required_parameters = {\n",
    "    \"experiment_name\",\n",
    "    \"lr\",\n",
    "    \"device\",\n",
    "    \"seed\",\n",
    "    \"dataset_seed\",\n",
    "    \"n_shot\",\n",
    "    \"n_query\",\n",
    "    \"n_way\",\n",
    "    \"train_k_factor\",\n",
    "    \"val_k_factor\",\n",
    "    \"test_k_factor\",\n",
    "    \"n_epoch\",\n",
    "    \"patience\",\n",
    "    \"criteria_for_best\",\n",
    "    \"x_net\",\n",
    "    \"datasets\",\n",
    "    \"torch_default_dtype\",\n",
    "    \"NUM_LOGS_PER_EPOCH\",\n",
    "    \"BEST_MODEL_PATH\",\n",
    "    \"x_shape\",\n",
    "}"
   ]
  },
  {
   "cell_type": "code",
   "execution_count": 3,
   "id": "fa3f0049",
   "metadata": {
    "execution": {
     "iopub.execute_input": "2022-03-25T06:30:21.896510Z",
     "iopub.status.busy": "2022-03-25T06:30:21.896110Z",
     "iopub.status.idle": "2022-03-25T06:30:21.910710Z",
     "shell.execute_reply": "2022-03-25T06:30:21.910296Z"
    },
    "papermill": {
     "duration": 0.035877,
     "end_time": "2022-03-25T06:30:21.910822",
     "exception": false,
     "start_time": "2022-03-25T06:30:21.874945",
     "status": "completed"
    },
    "tags": [
     "parameters"
    ]
   },
   "outputs": [],
   "source": [
    "from steves_utils.CORES.utils import (\n",
    "    ALL_NODES,\n",
    "    ALL_NODES_MINIMUM_1000_EXAMPLES,\n",
    "    ALL_DAYS\n",
    ")\n",
    "\n",
    "from steves_utils.ORACLE.utils_v2 import (\n",
    "    ALL_DISTANCES_FEET_NARROWED,\n",
    "    ALL_RUNS,\n",
    "    ALL_SERIAL_NUMBERS,\n",
    ")\n",
    "\n",
    "standalone_parameters = {}\n",
    "standalone_parameters[\"experiment_name\"] = \"STANDALONE PTN\"\n",
    "standalone_parameters[\"lr\"] = 0.001\n",
    "standalone_parameters[\"device\"] = \"cuda\"\n",
    "\n",
    "standalone_parameters[\"seed\"] = 1337\n",
    "standalone_parameters[\"dataset_seed\"] = 1337\n",
    "\n",
    "standalone_parameters[\"n_way\"] = 8\n",
    "standalone_parameters[\"n_shot\"] = 3\n",
    "standalone_parameters[\"n_query\"]  = 2\n",
    "standalone_parameters[\"train_k_factor\"] = 1\n",
    "standalone_parameters[\"val_k_factor\"] = 2\n",
    "standalone_parameters[\"test_k_factor\"] = 2\n",
    "\n",
    "\n",
    "standalone_parameters[\"n_epoch\"] = 50\n",
    "\n",
    "standalone_parameters[\"patience\"] = 10\n",
    "standalone_parameters[\"criteria_for_best\"] = \"source_loss\"\n",
    "\n",
    "standalone_parameters[\"datasets\"] = [\n",
    "    {\n",
    "        \"labels\": ALL_SERIAL_NUMBERS,\n",
    "        \"domains\": ALL_DISTANCES_FEET_NARROWED,\n",
    "        \"num_examples_per_domain_per_label\": 100,\n",
    "        \"pickle_path\": os.path.join(get_datasets_base_path(), \"oracle.Run1_framed_2000Examples_stratified_ds.2022A.pkl\"),\n",
    "        \"source_or_target_dataset\": \"source\",\n",
    "        \"x_transforms\": [\"unit_mag\", \"minus_two\"],\n",
    "        \"episode_transforms\": [],\n",
    "        \"domain_prefix\": \"ORACLE_\"\n",
    "    },\n",
    "    {\n",
    "        \"labels\": ALL_NODES,\n",
    "        \"domains\": ALL_DAYS,\n",
    "        \"num_examples_per_domain_per_label\": 100,\n",
    "        \"pickle_path\": os.path.join(get_datasets_base_path(), \"cores.stratified_ds.2022A.pkl\"),\n",
    "        \"source_or_target_dataset\": \"target\",\n",
    "        \"x_transforms\": [\"unit_power\", \"times_zero\"],\n",
    "        \"episode_transforms\": [],\n",
    "        \"domain_prefix\": \"CORES_\"\n",
    "    }   \n",
    "]\n",
    "\n",
    "standalone_parameters[\"torch_default_dtype\"] = \"torch.float32\" \n",
    "\n",
    "\n",
    "\n",
    "standalone_parameters[\"x_net\"] =     [\n",
    "    {\"class\": \"nnReshape\", \"kargs\": {\"shape\":[-1, 1, 2, 256]}},\n",
    "    {\"class\": \"Conv2d\", \"kargs\": { \"in_channels\":1, \"out_channels\":256, \"kernel_size\":(1,7), \"bias\":False, \"padding\":(0,3), },},\n",
    "    {\"class\": \"ReLU\", \"kargs\": {\"inplace\": True}},\n",
    "    {\"class\": \"BatchNorm2d\", \"kargs\": {\"num_features\":256}},\n",
    "\n",
    "    {\"class\": \"Conv2d\", \"kargs\": { \"in_channels\":256, \"out_channels\":80, \"kernel_size\":(2,7), \"bias\":True, \"padding\":(0,3), },},\n",
    "    {\"class\": \"ReLU\", \"kargs\": {\"inplace\": True}},\n",
    "    {\"class\": \"BatchNorm2d\", \"kargs\": {\"num_features\":80}},\n",
    "    {\"class\": \"Flatten\", \"kargs\": {}},\n",
    "\n",
    "    {\"class\": \"Linear\", \"kargs\": {\"in_features\": 80*256, \"out_features\": 256}}, # 80 units per IQ pair\n",
    "    {\"class\": \"ReLU\", \"kargs\": {\"inplace\": True}},\n",
    "    {\"class\": \"BatchNorm1d\", \"kargs\": {\"num_features\":256}},\n",
    "\n",
    "    {\"class\": \"Linear\", \"kargs\": {\"in_features\": 256, \"out_features\": 256}},\n",
    "]\n",
    "\n",
    "# Parameters relevant to results\n",
    "# These parameters will basically never need to change\n",
    "standalone_parameters[\"NUM_LOGS_PER_EPOCH\"] = 10\n",
    "standalone_parameters[\"BEST_MODEL_PATH\"] = \"./best_model.pth\"\n",
    "\n",
    "\n",
    "\n",
    "\n"
   ]
  },
  {
   "cell_type": "code",
   "execution_count": 4,
   "id": "c5768ece",
   "metadata": {
    "execution": {
     "iopub.execute_input": "2022-03-25T06:30:21.949038Z",
     "iopub.status.busy": "2022-03-25T06:30:21.948749Z",
     "iopub.status.idle": "2022-03-25T06:30:21.961717Z",
     "shell.execute_reply": "2022-03-25T06:30:21.961490Z"
    },
    "papermill": {
     "duration": 0.03657,
     "end_time": "2022-03-25T06:30:21.961773",
     "exception": false,
     "start_time": "2022-03-25T06:30:21.925203",
     "status": "completed"
    },
    "tags": [
     "injected-parameters"
    ]
   },
   "outputs": [],
   "source": [
    "# Parameters\n",
    "parameters = {\n",
    "    \"experiment_name\": \"tl_3Av2:cores -> oracle.run1.framed\",\n",
    "    \"device\": \"cuda\",\n",
    "    \"lr\": 0.0001,\n",
    "    \"x_shape\": [2, 200],\n",
    "    \"n_shot\": 3,\n",
    "    \"n_query\": 2,\n",
    "    \"train_k_factor\": 3,\n",
    "    \"val_k_factor\": 2,\n",
    "    \"test_k_factor\": 2,\n",
    "    \"torch_default_dtype\": \"torch.float32\",\n",
    "    \"n_epoch\": 50,\n",
    "    \"patience\": 3,\n",
    "    \"criteria_for_best\": \"target_accuracy\",\n",
    "    \"x_net\": [\n",
    "        {\"class\": \"nnReshape\", \"kargs\": {\"shape\": [-1, 1, 2, 200]}},\n",
    "        {\n",
    "            \"class\": \"Conv2d\",\n",
    "            \"kargs\": {\n",
    "                \"in_channels\": 1,\n",
    "                \"out_channels\": 256,\n",
    "                \"kernel_size\": [1, 7],\n",
    "                \"bias\": False,\n",
    "                \"padding\": [0, 3],\n",
    "            },\n",
    "        },\n",
    "        {\"class\": \"ReLU\", \"kargs\": {\"inplace\": True}},\n",
    "        {\"class\": \"BatchNorm2d\", \"kargs\": {\"num_features\": 256}},\n",
    "        {\n",
    "            \"class\": \"Conv2d\",\n",
    "            \"kargs\": {\n",
    "                \"in_channels\": 256,\n",
    "                \"out_channels\": 80,\n",
    "                \"kernel_size\": [2, 7],\n",
    "                \"bias\": True,\n",
    "                \"padding\": [0, 3],\n",
    "            },\n",
    "        },\n",
    "        {\"class\": \"ReLU\", \"kargs\": {\"inplace\": True}},\n",
    "        {\"class\": \"BatchNorm2d\", \"kargs\": {\"num_features\": 80}},\n",
    "        {\"class\": \"Flatten\", \"kargs\": {}},\n",
    "        {\"class\": \"Linear\", \"kargs\": {\"in_features\": 16000, \"out_features\": 256}},\n",
    "        {\"class\": \"ReLU\", \"kargs\": {\"inplace\": True}},\n",
    "        {\"class\": \"BatchNorm1d\", \"kargs\": {\"num_features\": 256}},\n",
    "        {\"class\": \"Linear\", \"kargs\": {\"in_features\": 256, \"out_features\": 256}},\n",
    "    ],\n",
    "    \"NUM_LOGS_PER_EPOCH\": 10,\n",
    "    \"BEST_MODEL_PATH\": \"./best_model.pth\",\n",
    "    \"n_way\": 16,\n",
    "    \"datasets\": [\n",
    "        {\n",
    "            \"labels\": [\n",
    "                \"1-10.\",\n",
    "                \"1-11.\",\n",
    "                \"1-15.\",\n",
    "                \"1-16.\",\n",
    "                \"1-17.\",\n",
    "                \"1-18.\",\n",
    "                \"1-19.\",\n",
    "                \"10-4.\",\n",
    "                \"10-7.\",\n",
    "                \"11-1.\",\n",
    "                \"11-14.\",\n",
    "                \"11-17.\",\n",
    "                \"11-20.\",\n",
    "                \"11-7.\",\n",
    "                \"13-20.\",\n",
    "                \"13-8.\",\n",
    "                \"14-10.\",\n",
    "                \"14-11.\",\n",
    "                \"14-14.\",\n",
    "                \"14-7.\",\n",
    "                \"15-1.\",\n",
    "                \"15-20.\",\n",
    "                \"16-1.\",\n",
    "                \"16-16.\",\n",
    "                \"17-10.\",\n",
    "                \"17-11.\",\n",
    "                \"17-2.\",\n",
    "                \"19-1.\",\n",
    "                \"19-16.\",\n",
    "                \"19-19.\",\n",
    "                \"19-20.\",\n",
    "                \"19-3.\",\n",
    "                \"2-10.\",\n",
    "                \"2-11.\",\n",
    "                \"2-17.\",\n",
    "                \"2-18.\",\n",
    "                \"2-20.\",\n",
    "                \"2-3.\",\n",
    "                \"2-4.\",\n",
    "                \"2-5.\",\n",
    "                \"2-6.\",\n",
    "                \"2-7.\",\n",
    "                \"2-8.\",\n",
    "                \"3-13.\",\n",
    "                \"3-18.\",\n",
    "                \"3-3.\",\n",
    "                \"4-1.\",\n",
    "                \"4-10.\",\n",
    "                \"4-11.\",\n",
    "                \"4-19.\",\n",
    "                \"5-5.\",\n",
    "                \"6-15.\",\n",
    "                \"7-10.\",\n",
    "                \"7-14.\",\n",
    "                \"8-18.\",\n",
    "                \"8-20.\",\n",
    "                \"8-3.\",\n",
    "                \"8-8.\",\n",
    "            ],\n",
    "            \"domains\": [1, 2, 3, 4, 5],\n",
    "            \"num_examples_per_domain_per_label\": -1,\n",
    "            \"pickle_path\": \"/mnt/wd500GB/CSC500/csc500-main/datasets/cores.stratified_ds.2022A.pkl\",\n",
    "            \"source_or_target_dataset\": \"source\",\n",
    "            \"x_transforms\": [\"unit_power\", \"take_200\"],\n",
    "            \"episode_transforms\": [],\n",
    "            \"domain_prefix\": \"C_\",\n",
    "        },\n",
    "        {\n",
    "            \"labels\": [\n",
    "                \"3123D52\",\n",
    "                \"3123D65\",\n",
    "                \"3123D79\",\n",
    "                \"3123D80\",\n",
    "                \"3123D54\",\n",
    "                \"3123D70\",\n",
    "                \"3123D7B\",\n",
    "                \"3123D89\",\n",
    "                \"3123D58\",\n",
    "                \"3123D76\",\n",
    "                \"3123D7D\",\n",
    "                \"3123EFE\",\n",
    "                \"3123D64\",\n",
    "                \"3123D78\",\n",
    "                \"3123D7E\",\n",
    "                \"3124E4A\",\n",
    "            ],\n",
    "            \"domains\": [32, 38, 8, 44, 14, 50, 20, 26],\n",
    "            \"num_examples_per_domain_per_label\": 2000,\n",
    "            \"pickle_path\": \"/mnt/wd500GB/CSC500/csc500-main/datasets/oracle.Run1_framed_2000Examples_stratified_ds.2022A.pkl\",\n",
    "            \"source_or_target_dataset\": \"target\",\n",
    "            \"x_transforms\": [\"unit_power\", \"take_200\", \"resample_20Msps_to_25Msps\"],\n",
    "            \"episode_transforms\": [],\n",
    "            \"domain_prefix\": \"O_\",\n",
    "        },\n",
    "    ],\n",
    "    \"seed\": 500,\n",
    "    \"dataset_seed\": 500,\n",
    "}\n"
   ]
  },
  {
   "cell_type": "code",
   "execution_count": 5,
   "id": "8fa1cc33",
   "metadata": {
    "execution": {
     "iopub.execute_input": "2022-03-25T06:30:21.991489Z",
     "iopub.status.busy": "2022-03-25T06:30:21.991168Z",
     "iopub.status.idle": "2022-03-25T06:30:22.006181Z",
     "shell.execute_reply": "2022-03-25T06:30:22.005761Z"
    },
    "papermill": {
     "duration": 0.031689,
     "end_time": "2022-03-25T06:30:22.006236",
     "exception": false,
     "start_time": "2022-03-25T06:30:21.974547",
     "status": "completed"
    },
    "tags": []
   },
   "outputs": [],
   "source": [
    "# Set this to True if you want to run this template directly\n",
    "STANDALONE = False\n",
    "if STANDALONE:\n",
    "    print(\"parameters not injected, running with standalone_parameters\")\n",
    "    parameters = standalone_parameters\n",
    "\n",
    "if not 'parameters' in locals() and not 'parameters' in globals():\n",
    "    raise Exception(\"Parameter injection failed\")\n",
    "\n",
    "#Use an easy dict for all the parameters\n",
    "p = EasyDict(parameters)\n",
    "\n",
    "if \"x_shape\" not in p:\n",
    "    p.x_shape = [2,256] # Default to this if we dont supply x_shape\n",
    "\n",
    "\n",
    "supplied_keys = set(p.keys())\n",
    "\n",
    "if  supplied_keys != required_parameters:\n",
    "    print(\"Parameters are incorrect\")\n",
    "    if len(supplied_keys - required_parameters)>0: print(\"Shouldn't have:\", str(supplied_keys - required_parameters))\n",
    "    if len(required_parameters - supplied_keys)>0: print(\"Need to have:\", str(required_parameters - supplied_keys))\n",
    "    raise RuntimeError(\"Parameters are incorrect\")"
   ]
  },
  {
   "cell_type": "code",
   "execution_count": 6,
   "id": "3a028d58",
   "metadata": {
    "execution": {
     "iopub.execute_input": "2022-03-25T06:30:22.033673Z",
     "iopub.status.busy": "2022-03-25T06:30:22.033428Z",
     "iopub.status.idle": "2022-03-25T06:30:22.045157Z",
     "shell.execute_reply": "2022-03-25T06:30:22.044937Z"
    },
    "papermill": {
     "duration": 0.026187,
     "end_time": "2022-03-25T06:30:22.045212",
     "exception": false,
     "start_time": "2022-03-25T06:30:22.019025",
     "status": "completed"
    },
    "tags": []
   },
   "outputs": [],
   "source": [
    "###################################\n",
    "# Set the RNGs and make it all deterministic\n",
    "###################################\n",
    "np.random.seed(p.seed)\n",
    "random.seed(p.seed)\n",
    "torch.manual_seed(p.seed)\n",
    "\n",
    "torch.use_deterministic_algorithms(True) "
   ]
  },
  {
   "cell_type": "code",
   "execution_count": 7,
   "id": "b691acf6",
   "metadata": {
    "execution": {
     "iopub.execute_input": "2022-03-25T06:30:22.072883Z",
     "iopub.status.busy": "2022-03-25T06:30:22.072563Z",
     "iopub.status.idle": "2022-03-25T06:30:22.088278Z",
     "shell.execute_reply": "2022-03-25T06:30:22.088473Z"
    },
    "papermill": {
     "duration": 0.030454,
     "end_time": "2022-03-25T06:30:22.088540",
     "exception": false,
     "start_time": "2022-03-25T06:30:22.058086",
     "status": "completed"
    },
    "tags": []
   },
   "outputs": [],
   "source": [
    "###########################################\n",
    "# The stratified datasets honor this\n",
    "###########################################\n",
    "torch.set_default_dtype(eval(p.torch_default_dtype))"
   ]
  },
  {
   "cell_type": "code",
   "execution_count": 8,
   "id": "b5fba671",
   "metadata": {
    "execution": {
     "iopub.execute_input": "2022-03-25T06:30:22.115965Z",
     "iopub.status.busy": "2022-03-25T06:30:22.115721Z",
     "iopub.status.idle": "2022-03-25T06:30:22.147997Z",
     "shell.execute_reply": "2022-03-25T06:30:22.147487Z"
    },
    "papermill": {
     "duration": 0.046726,
     "end_time": "2022-03-25T06:30:22.148107",
     "exception": false,
     "start_time": "2022-03-25T06:30:22.101381",
     "status": "completed"
    },
    "tags": []
   },
   "outputs": [],
   "source": [
    "###################################\n",
    "# Build the network(s)\n",
    "# Note: It's critical to do this AFTER setting the RNG\n",
    "###################################\n",
    "x_net = build_sequential(p.x_net)"
   ]
  },
  {
   "cell_type": "code",
   "execution_count": 9,
   "id": "5d7e61cc",
   "metadata": {
    "execution": {
     "iopub.execute_input": "2022-03-25T06:30:22.184121Z",
     "iopub.status.busy": "2022-03-25T06:30:22.183130Z",
     "iopub.status.idle": "2022-03-25T06:30:22.197671Z",
     "shell.execute_reply": "2022-03-25T06:30:22.197949Z"
    },
    "papermill": {
     "duration": 0.030614,
     "end_time": "2022-03-25T06:30:22.198055",
     "exception": false,
     "start_time": "2022-03-25T06:30:22.167441",
     "status": "completed"
    },
    "tags": []
   },
   "outputs": [],
   "source": [
    "start_time_secs = time.time()"
   ]
  },
  {
   "cell_type": "code",
   "execution_count": 10,
   "id": "c6b67dfd",
   "metadata": {
    "execution": {
     "iopub.execute_input": "2022-03-25T06:30:22.229776Z",
     "iopub.status.busy": "2022-03-25T06:30:22.229530Z",
     "iopub.status.idle": "2022-03-25T06:30:22.245014Z",
     "shell.execute_reply": "2022-03-25T06:30:22.244653Z"
    },
    "papermill": {
     "duration": 0.030964,
     "end_time": "2022-03-25T06:30:22.245088",
     "exception": false,
     "start_time": "2022-03-25T06:30:22.214124",
     "status": "completed"
    },
    "tags": []
   },
   "outputs": [],
   "source": [
    "p.domains_source = []\n",
    "p.domains_target = []\n",
    "\n",
    "\n",
    "train_original_source = []\n",
    "val_original_source   = []\n",
    "test_original_source  = []\n",
    "\n",
    "train_original_target = []\n",
    "val_original_target   = []\n",
    "test_original_target  = []"
   ]
  },
  {
   "cell_type": "code",
   "execution_count": 11,
   "id": "e3d9c3d3",
   "metadata": {
    "execution": {
     "iopub.execute_input": "2022-03-25T06:30:22.287778Z",
     "iopub.status.busy": "2022-03-25T06:30:22.287531Z",
     "iopub.status.idle": "2022-03-25T06:30:22.295418Z",
     "shell.execute_reply": "2022-03-25T06:30:22.294953Z"
    },
    "papermill": {
     "duration": 0.031336,
     "end_time": "2022-03-25T06:30:22.295516",
     "exception": false,
     "start_time": "2022-03-25T06:30:22.264180",
     "status": "completed"
    },
    "tags": []
   },
   "outputs": [],
   "source": [
    "# global_x_transform_func = lambda x: normalize(x.to(torch.get_default_dtype()), \"unit_power\") # unit_power, unit_mag\n",
    "# global_x_transform_func = lambda x: normalize(x, \"unit_power\") # unit_power, unit_mag"
   ]
  },
  {
   "cell_type": "code",
   "execution_count": 12,
   "id": "acb78fd2",
   "metadata": {
    "execution": {
     "iopub.execute_input": "2022-03-25T06:30:22.334202Z",
     "iopub.status.busy": "2022-03-25T06:30:22.333929Z",
     "iopub.status.idle": "2022-03-25T06:30:22.347782Z",
     "shell.execute_reply": "2022-03-25T06:30:22.347305Z"
    },
    "papermill": {
     "duration": 0.034297,
     "end_time": "2022-03-25T06:30:22.347881",
     "exception": false,
     "start_time": "2022-03-25T06:30:22.313584",
     "status": "completed"
    },
    "tags": []
   },
   "outputs": [],
   "source": [
    "def add_dataset(\n",
    "    labels,\n",
    "    domains,\n",
    "    pickle_path,\n",
    "    x_transforms,\n",
    "    episode_transforms,\n",
    "    domain_prefix,\n",
    "    num_examples_per_domain_per_label,\n",
    "    source_or_target_dataset:str,\n",
    "    iterator_seed=p.seed,\n",
    "    dataset_seed=p.dataset_seed,\n",
    "    n_shot=p.n_shot,\n",
    "    n_way=p.n_way,\n",
    "    n_query=p.n_query,\n",
    "    train_val_test_k_factors=(p.train_k_factor,p.val_k_factor,p.test_k_factor),\n",
    "):\n",
    "   \n",
    "    if x_transforms == []: x_transform = None\n",
    "    else: x_transform = get_chained_transform(x_transforms)\n",
    "    \n",
    "    if episode_transforms == []: episode_transform = None\n",
    "    else: raise Exception(\"episode_transforms not implemented\")\n",
    "    \n",
    "    episode_transform = lambda tup, _prefix=domain_prefix: (_prefix + str(tup[0]), tup[1])\n",
    "\n",
    "\n",
    "    eaf = Episodic_Accessor_Factory(\n",
    "        labels=labels,\n",
    "        domains=domains,\n",
    "        num_examples_per_domain_per_label=num_examples_per_domain_per_label,\n",
    "        iterator_seed=iterator_seed,\n",
    "        dataset_seed=dataset_seed,\n",
    "        n_shot=n_shot,\n",
    "        n_way=n_way,\n",
    "        n_query=n_query,\n",
    "        train_val_test_k_factors=train_val_test_k_factors,\n",
    "        pickle_path=pickle_path,\n",
    "        x_transform_func=x_transform,\n",
    "    )\n",
    "\n",
    "    train, val, test = eaf.get_train(), eaf.get_val(), eaf.get_test()\n",
    "    train = Lazy_Iterable_Wrapper(train, episode_transform)\n",
    "    val = Lazy_Iterable_Wrapper(val, episode_transform)\n",
    "    test = Lazy_Iterable_Wrapper(test, episode_transform)\n",
    "\n",
    "    if source_or_target_dataset==\"source\":\n",
    "        train_original_source.append(train)\n",
    "        val_original_source.append(val)\n",
    "        test_original_source.append(test)\n",
    "\n",
    "        p.domains_source.extend(\n",
    "            [domain_prefix + str(u) for u in domains]\n",
    "        )\n",
    "    elif source_or_target_dataset==\"target\":\n",
    "        train_original_target.append(train)\n",
    "        val_original_target.append(val)\n",
    "        test_original_target.append(test)\n",
    "        p.domains_target.extend(\n",
    "            [domain_prefix + str(u) for u in domains]\n",
    "        )\n",
    "    else:\n",
    "        raise Exception(f\"invalid source_or_target_dataset: {source_or_target_dataset}\")\n",
    "    "
   ]
  },
  {
   "cell_type": "code",
   "execution_count": 13,
   "id": "fe266617",
   "metadata": {
    "execution": {
     "iopub.execute_input": "2022-03-25T06:30:22.382394Z",
     "iopub.status.busy": "2022-03-25T06:30:22.380768Z",
     "iopub.status.idle": "2022-03-25T06:31:12.856989Z",
     "shell.execute_reply": "2022-03-25T06:31:12.856513Z"
    },
    "papermill": {
     "duration": 50.49059,
     "end_time": "2022-03-25T06:31:12.857099",
     "exception": false,
     "start_time": "2022-03-25T06:30:22.366509",
     "status": "completed"
    },
    "tags": []
   },
   "outputs": [],
   "source": [
    "for ds in p.datasets:\n",
    "    add_dataset(**ds)"
   ]
  },
  {
   "cell_type": "code",
   "execution_count": 14,
   "id": "b90d65ac",
   "metadata": {
    "execution": {
     "iopub.execute_input": "2022-03-25T06:31:12.895903Z",
     "iopub.status.busy": "2022-03-25T06:31:12.895208Z",
     "iopub.status.idle": "2022-03-25T06:31:12.908053Z",
     "shell.execute_reply": "2022-03-25T06:31:12.907576Z"
    },
    "papermill": {
     "duration": 0.032475,
     "end_time": "2022-03-25T06:31:12.908152",
     "exception": false,
     "start_time": "2022-03-25T06:31:12.875677",
     "status": "completed"
    },
    "tags": []
   },
   "outputs": [],
   "source": [
    "# from steves_utils.CORES.utils import (\n",
    "#     ALL_NODES,\n",
    "#     ALL_NODES_MINIMUM_1000_EXAMPLES,\n",
    "#     ALL_DAYS\n",
    "# )\n",
    "\n",
    "# add_dataset(\n",
    "#     labels=ALL_NODES,\n",
    "#     domains = ALL_DAYS,\n",
    "#     num_examples_per_domain_per_label=100,\n",
    "#     pickle_path=os.path.join(get_datasets_base_path(), \"cores.stratified_ds.2022A.pkl\"),\n",
    "#     source_or_target_dataset=\"target\",\n",
    "#     x_transform_func=global_x_transform_func,\n",
    "#     domain_modifier=lambda u: f\"cores_{u}\"\n",
    "# )"
   ]
  },
  {
   "cell_type": "code",
   "execution_count": 15,
   "id": "76db484d",
   "metadata": {
    "execution": {
     "iopub.execute_input": "2022-03-25T06:31:12.950329Z",
     "iopub.status.busy": "2022-03-25T06:31:12.942228Z",
     "iopub.status.idle": "2022-03-25T06:31:12.957327Z",
     "shell.execute_reply": "2022-03-25T06:31:12.957696Z"
    },
    "papermill": {
     "duration": 0.031104,
     "end_time": "2022-03-25T06:31:12.957814",
     "exception": false,
     "start_time": "2022-03-25T06:31:12.926710",
     "status": "completed"
    },
    "tags": []
   },
   "outputs": [],
   "source": [
    "# from steves_utils.ORACLE.utils_v2 import (\n",
    "#     ALL_DISTANCES_FEET,\n",
    "#     ALL_RUNS,\n",
    "#     ALL_SERIAL_NUMBERS,\n",
    "# )\n",
    "\n",
    "\n",
    "# add_dataset(\n",
    "#     labels=ALL_SERIAL_NUMBERS,\n",
    "#     domains = list(set(ALL_DISTANCES_FEET) - {2,62}),\n",
    "#     num_examples_per_domain_per_label=100,\n",
    "#     pickle_path=os.path.join(get_datasets_base_path(), \"oracle.Run2_framed_2000Examples_stratified_ds.2022A.pkl\"),\n",
    "#     source_or_target_dataset=\"source\",\n",
    "#     x_transform_func=global_x_transform_func,\n",
    "#     domain_modifier=lambda u: f\"oracle1_{u}\"\n",
    "# )\n"
   ]
  },
  {
   "cell_type": "code",
   "execution_count": 16,
   "id": "97dea9d2",
   "metadata": {
    "execution": {
     "iopub.execute_input": "2022-03-25T06:31:12.996698Z",
     "iopub.status.busy": "2022-03-25T06:31:12.991254Z",
     "iopub.status.idle": "2022-03-25T06:31:13.005937Z",
     "shell.execute_reply": "2022-03-25T06:31:13.006338Z"
    },
    "papermill": {
     "duration": 0.030635,
     "end_time": "2022-03-25T06:31:13.006455",
     "exception": false,
     "start_time": "2022-03-25T06:31:12.975820",
     "status": "completed"
    },
    "tags": []
   },
   "outputs": [],
   "source": [
    "# from steves_utils.ORACLE.utils_v2 import (\n",
    "#     ALL_DISTANCES_FEET,\n",
    "#     ALL_RUNS,\n",
    "#     ALL_SERIAL_NUMBERS,\n",
    "# )\n",
    "\n",
    "\n",
    "# add_dataset(\n",
    "#     labels=ALL_SERIAL_NUMBERS,\n",
    "#     domains = list(set(ALL_DISTANCES_FEET) - {2,62,56}),\n",
    "#     num_examples_per_domain_per_label=100,\n",
    "#     pickle_path=os.path.join(get_datasets_base_path(), \"oracle.Run2_framed_2000Examples_stratified_ds.2022A.pkl\"),\n",
    "#     source_or_target_dataset=\"source\",\n",
    "#     x_transform_func=global_x_transform_func,\n",
    "#     domain_modifier=lambda u: f\"oracle2_{u}\"\n",
    "# )"
   ]
  },
  {
   "cell_type": "code",
   "execution_count": 17,
   "id": "6f289866",
   "metadata": {
    "execution": {
     "iopub.execute_input": "2022-03-25T06:31:13.042099Z",
     "iopub.status.busy": "2022-03-25T06:31:13.041826Z",
     "iopub.status.idle": "2022-03-25T06:31:13.056550Z",
     "shell.execute_reply": "2022-03-25T06:31:13.056071Z"
    },
    "papermill": {
     "duration": 0.030359,
     "end_time": "2022-03-25T06:31:13.056649",
     "exception": false,
     "start_time": "2022-03-25T06:31:13.026290",
     "status": "completed"
    },
    "tags": []
   },
   "outputs": [],
   "source": [
    "# add_dataset(\n",
    "#     labels=list(range(19)),\n",
    "#     domains = [0,1,2],\n",
    "#     num_examples_per_domain_per_label=100,\n",
    "#     pickle_path=os.path.join(get_datasets_base_path(), \"metehan.stratified_ds.2022A.pkl\"),\n",
    "#     source_or_target_dataset=\"target\",\n",
    "#     x_transform_func=global_x_transform_func,\n",
    "#     domain_modifier=lambda u: f\"met_{u}\"\n",
    "# )"
   ]
  },
  {
   "cell_type": "code",
   "execution_count": 18,
   "id": "86a863c3",
   "metadata": {
    "execution": {
     "iopub.execute_input": "2022-03-25T06:31:13.088504Z",
     "iopub.status.busy": "2022-03-25T06:31:13.088257Z",
     "iopub.status.idle": "2022-03-25T06:31:13.098840Z",
     "shell.execute_reply": "2022-03-25T06:31:13.099126Z"
    },
    "papermill": {
     "duration": 0.026085,
     "end_time": "2022-03-25T06:31:13.099219",
     "exception": false,
     "start_time": "2022-03-25T06:31:13.073134",
     "status": "completed"
    },
    "tags": []
   },
   "outputs": [],
   "source": [
    "# # from steves_utils.wisig.utils import (\n",
    "# #     ALL_NODES_MINIMUM_100_EXAMPLES,\n",
    "# #     ALL_NODES_MINIMUM_500_EXAMPLES,\n",
    "# #     ALL_NODES_MINIMUM_1000_EXAMPLES,\n",
    "# #     ALL_DAYS\n",
    "# # )\n",
    "\n",
    "# import steves_utils.wisig.utils as wisig\n",
    "\n",
    "\n",
    "# add_dataset(\n",
    "#     labels=wisig.ALL_NODES_MINIMUM_100_EXAMPLES,\n",
    "#     domains = wisig.ALL_DAYS,\n",
    "#     num_examples_per_domain_per_label=100,\n",
    "#     pickle_path=os.path.join(get_datasets_base_path(), \"wisig.node3-19.stratified_ds.2022A.pkl\"),\n",
    "#     source_or_target_dataset=\"target\",\n",
    "#     x_transform_func=global_x_transform_func,\n",
    "#     domain_modifier=lambda u: f\"wisig_{u}\"\n",
    "# )"
   ]
  },
  {
   "cell_type": "code",
   "execution_count": 19,
   "id": "fd5442bc",
   "metadata": {
    "execution": {
     "iopub.execute_input": "2022-03-25T06:31:13.136448Z",
     "iopub.status.busy": "2022-03-25T06:31:13.136194Z",
     "iopub.status.idle": "2022-03-25T06:31:13.149719Z",
     "shell.execute_reply": "2022-03-25T06:31:13.149163Z"
    },
    "papermill": {
     "duration": 0.032112,
     "end_time": "2022-03-25T06:31:13.149820",
     "exception": false,
     "start_time": "2022-03-25T06:31:13.117708",
     "status": "completed"
    },
    "tags": []
   },
   "outputs": [],
   "source": [
    "###################################\n",
    "# Build the dataset\n",
    "###################################\n",
    "train_original_source = Iterable_Aggregator(train_original_source, p.seed)\n",
    "val_original_source = Iterable_Aggregator(val_original_source, p.seed)\n",
    "test_original_source = Iterable_Aggregator(test_original_source, p.seed)\n",
    "\n",
    "\n",
    "train_original_target = Iterable_Aggregator(train_original_target, p.seed)\n",
    "val_original_target = Iterable_Aggregator(val_original_target, p.seed)\n",
    "test_original_target = Iterable_Aggregator(test_original_target, p.seed)\n",
    "\n",
    "# For CNN We only use X and Y. And we only train on the source.\n",
    "# Properly form the data using a transform lambda and Lazy_Iterable_Wrapper. Finally wrap them in a dataloader\n",
    "\n",
    "transform_lambda = lambda ex: ex[1] # Original is (<domain>, <episode>) so we strip down to episode only\n",
    "\n",
    "train_processed_source = Lazy_Iterable_Wrapper(train_original_source, transform_lambda)\n",
    "val_processed_source   = Lazy_Iterable_Wrapper(val_original_source, transform_lambda)\n",
    "test_processed_source  = Lazy_Iterable_Wrapper(test_original_source, transform_lambda)\n",
    "\n",
    "train_processed_target = Lazy_Iterable_Wrapper(train_original_target, transform_lambda)\n",
    "val_processed_target   = Lazy_Iterable_Wrapper(val_original_target, transform_lambda)\n",
    "test_processed_target  = Lazy_Iterable_Wrapper(test_original_target, transform_lambda)\n",
    "\n",
    "datasets = EasyDict({\n",
    "    \"source\": {\n",
    "        \"original\": {\"train\":train_original_source, \"val\":val_original_source, \"test\":test_original_source},\n",
    "        \"processed\": {\"train\":train_processed_source, \"val\":val_processed_source, \"test\":test_processed_source}\n",
    "    },\n",
    "    \"target\": {\n",
    "        \"original\": {\"train\":train_original_target, \"val\":val_original_target, \"test\":test_original_target},\n",
    "        \"processed\": {\"train\":train_processed_target, \"val\":val_processed_target, \"test\":test_processed_target}\n",
    "    },\n",
    "})"
   ]
  },
  {
   "cell_type": "code",
   "execution_count": 20,
   "id": "5b3c01fc",
   "metadata": {
    "execution": {
     "iopub.execute_input": "2022-03-25T06:31:13.184594Z",
     "iopub.status.busy": "2022-03-25T06:31:13.184343Z",
     "iopub.status.idle": "2022-03-25T06:31:19.476336Z",
     "shell.execute_reply": "2022-03-25T06:31:19.475798Z"
    },
    "papermill": {
     "duration": 6.308749,
     "end_time": "2022-03-25T06:31:19.476448",
     "exception": false,
     "start_time": "2022-03-25T06:31:13.167699",
     "status": "completed"
    },
    "tags": []
   },
   "outputs": [
    {
     "name": "stdout",
     "output_type": "stream",
     "text": [
      "{'C_5', 'C_3', 'C_2', 'C_4', 'C_1'}\n"
     ]
    },
    {
     "name": "stdout",
     "output_type": "stream",
     "text": [
      "{'O_14', 'O_20', 'O_44', 'O_38', 'O_50', 'O_8', 'O_32', 'O_26'}\n"
     ]
    },
    {
     "name": "stdout",
     "output_type": "stream",
     "text": [
      "tensor([[[-0.1778, -0.1606, -0.6641,  ...,  1.5114,  0.4200, -0.4472],\n",
      "         [-0.1043,  0.0327,  0.5117,  ..., -0.4917,  0.0426, -0.1315]],\n",
      "\n",
      "        [[-0.3037, -0.8661, -0.5489,  ...,  0.0135, -0.0865, -0.1384],\n",
      "         [-0.1519, -0.5835, -0.9218,  ...,  0.0336, -0.4970,  0.0567]],\n",
      "\n",
      "        [[-0.1968, -0.1100, -0.3281,  ...,  0.8636,  0.1428, -0.4583],\n",
      "         [-0.0125,  0.2393,  0.9340,  ..., -1.0074, -0.0820,  0.1901]],\n",
      "\n",
      "        ...,\n",
      "\n",
      "        [[-0.1670, -0.7115,  0.8847,  ...,  0.0474,  0.8600,  1.1012],\n",
      "         [ 0.3980, -0.6805, -0.6084,  ..., -0.8290, -1.5487,  0.4929]],\n",
      "\n",
      "        [[-0.4865,  0.1470,  1.0268,  ...,  0.7184,  1.7804, -0.0248],\n",
      "         [-0.0662, -0.9834,  0.5176,  ..., -0.9068, -0.3167,  1.1676]],\n",
      "\n",
      "        [[ 0.0000, -0.0321, -0.0596,  ..., -0.3762,  1.4267,  0.0252],\n",
      "         [-0.0963, -0.0482, -0.1239,  ..., -1.1400,  0.0734,  1.2179]]])\n"
     ]
    }
   ],
   "source": [
    "from steves_utils.transforms import get_average_magnitude, get_average_power\n",
    "\n",
    "print(set([u for u,_ in val_original_source]))\n",
    "print(set([u for u,_ in val_original_target]))\n",
    "\n",
    "s_x, s_y, q_x, q_y, _ = next(iter(train_processed_source))\n",
    "print(s_x)\n",
    "\n",
    "# for ds in [\n",
    "#     train_processed_source,\n",
    "#     val_processed_source,\n",
    "#     test_processed_source,\n",
    "#     train_processed_target,\n",
    "#     val_processed_target,\n",
    "#     test_processed_target\n",
    "# ]:\n",
    "#     for s_x, s_y, q_x, q_y, _ in ds:\n",
    "#         for X in (s_x, q_x):\n",
    "#             for x in X:\n",
    "#                 assert np.isclose(get_average_magnitude(x.numpy()), 1.0)\n",
    "#                 assert np.isclose(get_average_power(x.numpy()), 1.0)\n",
    "                "
   ]
  },
  {
   "cell_type": "code",
   "execution_count": 21,
   "id": "bbdacba1",
   "metadata": {
    "execution": {
     "iopub.execute_input": "2022-03-25T06:31:19.511898Z",
     "iopub.status.busy": "2022-03-25T06:31:19.511398Z",
     "iopub.status.idle": "2022-03-25T06:31:19.561958Z",
     "shell.execute_reply": "2022-03-25T06:31:19.562360Z"
    },
    "papermill": {
     "duration": 0.069037,
     "end_time": "2022-03-25T06:31:19.562496",
     "exception": false,
     "start_time": "2022-03-25T06:31:19.493459",
     "status": "completed"
    },
    "tags": []
   },
   "outputs": [
    {
     "name": "stdout",
     "output_type": "stream",
     "text": [
      "(2, 200)\n"
     ]
    }
   ],
   "source": [
    "###################################\n",
    "# Build the model\n",
    "###################################\n",
    "# easfsl only wants a tuple for the shape\n",
    "model = Steves_Prototypical_Network(x_net, device=p.device, x_shape=tuple(p.x_shape))\n",
    "optimizer = Adam(params=model.parameters(), lr=p.lr)"
   ]
  },
  {
   "cell_type": "code",
   "execution_count": 22,
   "id": "22b39ac5",
   "metadata": {
    "execution": {
     "iopub.execute_input": "2022-03-25T06:31:19.599552Z",
     "iopub.status.busy": "2022-03-25T06:31:19.599299Z",
     "iopub.status.idle": "2022-03-25T06:51:56.276232Z",
     "shell.execute_reply": "2022-03-25T06:51:56.276005Z"
    },
    "papermill": {
     "duration": 1236.69503,
     "end_time": "2022-03-25T06:51:56.276290",
     "exception": false,
     "start_time": "2022-03-25T06:31:19.581260",
     "status": "completed"
    },
    "tags": []
   },
   "outputs": [
    {
     "name": "stdout",
     "output_type": "stream",
     "text": [
      "epoch: 1, [batch: 1 / 6317], examples_per_second: 50.9379, train_label_loss: 2.6430, \n"
     ]
    },
    {
     "name": "stdout",
     "output_type": "stream",
     "text": [
      "epoch: 1, [batch: 632 / 6317], examples_per_second: 3653.1457, train_label_loss: 0.0610, \n"
     ]
    },
    {
     "name": "stdout",
     "output_type": "stream",
     "text": [
      "epoch: 1, [batch: 1264 / 6317], examples_per_second: 3668.4162, train_label_loss: 0.0028, \n"
     ]
    },
    {
     "name": "stdout",
     "output_type": "stream",
     "text": [
      "epoch: 1, [batch: 1895 / 6317], examples_per_second: 3653.9767, train_label_loss: 0.0093, \n"
     ]
    },
    {
     "name": "stdout",
     "output_type": "stream",
     "text": [
      "epoch: 1, [batch: 2527 / 6317], examples_per_second: 3624.0189, train_label_loss: 0.0016, \n"
     ]
    },
    {
     "name": "stdout",
     "output_type": "stream",
     "text": [
      "epoch: 1, [batch: 3159 / 6317], examples_per_second: 3606.8629, train_label_loss: 0.0008, \n"
     ]
    },
    {
     "name": "stdout",
     "output_type": "stream",
     "text": [
      "epoch: 1, [batch: 3790 / 6317], examples_per_second: 3632.5254, train_label_loss: 0.0005, \n"
     ]
    },
    {
     "name": "stdout",
     "output_type": "stream",
     "text": [
      "epoch: 1, [batch: 4422 / 6317], examples_per_second: 3614.9564, train_label_loss: 0.0004, \n"
     ]
    },
    {
     "name": "stdout",
     "output_type": "stream",
     "text": [
      "epoch: 1, [batch: 5053 / 6317], examples_per_second: 3624.5894, train_label_loss: 0.0011, \n"
     ]
    },
    {
     "name": "stdout",
     "output_type": "stream",
     "text": [
      "epoch: 1, [batch: 5685 / 6317], examples_per_second: 3630.8694, train_label_loss: 0.0013, \n"
     ]
    },
    {
     "name": "stdout",
     "output_type": "stream",
     "text": [
      "=============================================================\n",
      "epoch: 1, source_val_acc_label: 0.9978, target_val_acc_label: 0.2629, source_val_label_loss: 0.0082, target_val_label_loss: 2.2970, \n",
      "=============================================================\n"
     ]
    },
    {
     "name": "stdout",
     "output_type": "stream",
     "text": [
      "New best\n"
     ]
    },
    {
     "name": "stdout",
     "output_type": "stream",
     "text": [
      "epoch: 2, [batch: 1 / 6315], examples_per_second: 5.4582, train_label_loss: 0.0003, \n"
     ]
    },
    {
     "name": "stdout",
     "output_type": "stream",
     "text": [
      "epoch: 2, [batch: 632 / 6315], examples_per_second: 3597.4366, train_label_loss: 0.0067, \n"
     ]
    },
    {
     "name": "stdout",
     "output_type": "stream",
     "text": [
      "epoch: 2, [batch: 1263 / 6315], examples_per_second: 3650.1639, train_label_loss: 0.0002, \n"
     ]
    },
    {
     "name": "stdout",
     "output_type": "stream",
     "text": [
      "epoch: 2, [batch: 1895 / 6315], examples_per_second: 3635.0655, train_label_loss: 0.0000, \n"
     ]
    },
    {
     "name": "stdout",
     "output_type": "stream",
     "text": [
      "epoch: 2, [batch: 2526 / 6315], examples_per_second: 3631.7335, train_label_loss: 0.0030, \n"
     ]
    },
    {
     "name": "stdout",
     "output_type": "stream",
     "text": [
      "epoch: 2, [batch: 3158 / 6315], examples_per_second: 3635.1502, train_label_loss: 0.0000, \n"
     ]
    },
    {
     "name": "stdout",
     "output_type": "stream",
     "text": [
      "epoch: 2, [batch: 3789 / 6315], examples_per_second: 3640.9904, train_label_loss: 0.0001, \n"
     ]
    },
    {
     "name": "stdout",
     "output_type": "stream",
     "text": [
      "epoch: 2, [batch: 4420 / 6315], examples_per_second: 3643.7016, train_label_loss: 0.0000, \n"
     ]
    },
    {
     "name": "stdout",
     "output_type": "stream",
     "text": [
      "epoch: 2, [batch: 5052 / 6315], examples_per_second: 3647.9119, train_label_loss: 0.0001, \n"
     ]
    },
    {
     "name": "stdout",
     "output_type": "stream",
     "text": [
      "epoch: 2, [batch: 5683 / 6315], examples_per_second: 3638.9557, train_label_loss: 0.0000, \n"
     ]
    },
    {
     "name": "stdout",
     "output_type": "stream",
     "text": [
      "=============================================================\n",
      "epoch: 2, source_val_acc_label: 0.9988, target_val_acc_label: 0.2730, source_val_label_loss: 0.0081, target_val_label_loss: 2.6917, \n",
      "=============================================================\n"
     ]
    },
    {
     "name": "stdout",
     "output_type": "stream",
     "text": [
      "New best\n"
     ]
    },
    {
     "name": "stdout",
     "output_type": "stream",
     "text": [
      "epoch: 3, [batch: 1 / 6325], examples_per_second: 5.4350, train_label_loss: 0.0000, \n"
     ]
    },
    {
     "name": "stdout",
     "output_type": "stream",
     "text": [
      "epoch: 3, [batch: 633 / 6325], examples_per_second: 3604.7961, train_label_loss: 0.0000, \n"
     ]
    },
    {
     "name": "stdout",
     "output_type": "stream",
     "text": [
      "epoch: 3, [batch: 1265 / 6325], examples_per_second: 3628.7763, train_label_loss: 0.0002, \n"
     ]
    },
    {
     "name": "stdout",
     "output_type": "stream",
     "text": [
      "epoch: 3, [batch: 1898 / 6325], examples_per_second: 3634.3123, train_label_loss: 0.0047, \n"
     ]
    },
    {
     "name": "stdout",
     "output_type": "stream",
     "text": [
      "epoch: 3, [batch: 2530 / 6325], examples_per_second: 3631.4191, train_label_loss: 0.0000, \n"
     ]
    },
    {
     "name": "stdout",
     "output_type": "stream",
     "text": [
      "epoch: 3, [batch: 3163 / 6325], examples_per_second: 3640.1307, train_label_loss: 0.0000, \n"
     ]
    },
    {
     "name": "stdout",
     "output_type": "stream",
     "text": [
      "epoch: 3, [batch: 3795 / 6325], examples_per_second: 3641.4234, train_label_loss: 0.0000, \n"
     ]
    },
    {
     "name": "stdout",
     "output_type": "stream",
     "text": [
      "epoch: 3, [batch: 4427 / 6325], examples_per_second: 3636.0129, train_label_loss: 0.0000, \n"
     ]
    },
    {
     "name": "stdout",
     "output_type": "stream",
     "text": [
      "epoch: 3, [batch: 5060 / 6325], examples_per_second: 3650.5793, train_label_loss: 0.0000, \n"
     ]
    },
    {
     "name": "stdout",
     "output_type": "stream",
     "text": [
      "epoch: 3, [batch: 5692 / 6325], examples_per_second: 3646.9968, train_label_loss: 0.0000, \n"
     ]
    },
    {
     "name": "stdout",
     "output_type": "stream",
     "text": [
      "=============================================================\n",
      "epoch: 3, source_val_acc_label: 0.9992, target_val_acc_label: 0.3129, source_val_label_loss: 0.0054, target_val_label_loss: 2.5813, \n",
      "=============================================================\n"
     ]
    },
    {
     "name": "stdout",
     "output_type": "stream",
     "text": [
      "New best\n"
     ]
    },
    {
     "name": "stdout",
     "output_type": "stream",
     "text": [
      "epoch: 4, [batch: 1 / 6307], examples_per_second: 5.4205, train_label_loss: 0.0003, \n"
     ]
    },
    {
     "name": "stdout",
     "output_type": "stream",
     "text": [
      "epoch: 4, [batch: 631 / 6307], examples_per_second: 3619.2976, train_label_loss: 0.0000, \n"
     ]
    },
    {
     "name": "stdout",
     "output_type": "stream",
     "text": [
      "epoch: 4, [batch: 1262 / 6307], examples_per_second: 3633.1122, train_label_loss: 0.0000, \n"
     ]
    },
    {
     "name": "stdout",
     "output_type": "stream",
     "text": [
      "epoch: 4, [batch: 1892 / 6307], examples_per_second: 3634.2118, train_label_loss: 0.0000, \n"
     ]
    },
    {
     "name": "stdout",
     "output_type": "stream",
     "text": [
      "epoch: 4, [batch: 2523 / 6307], examples_per_second: 3626.8390, train_label_loss: 0.0000, \n"
     ]
    },
    {
     "name": "stdout",
     "output_type": "stream",
     "text": [
      "epoch: 4, [batch: 3154 / 6307], examples_per_second: 3626.9270, train_label_loss: 0.0004, \n"
     ]
    },
    {
     "name": "stdout",
     "output_type": "stream",
     "text": [
      "epoch: 4, [batch: 3784 / 6307], examples_per_second: 3636.3117, train_label_loss: 0.0000, \n"
     ]
    },
    {
     "name": "stdout",
     "output_type": "stream",
     "text": [
      "epoch: 4, [batch: 4415 / 6307], examples_per_second: 3627.0682, train_label_loss: 0.0079, \n"
     ]
    },
    {
     "name": "stdout",
     "output_type": "stream",
     "text": [
      "epoch: 4, [batch: 5045 / 6307], examples_per_second: 3648.0230, train_label_loss: 0.0000, \n"
     ]
    },
    {
     "name": "stdout",
     "output_type": "stream",
     "text": [
      "epoch: 4, [batch: 5676 / 6307], examples_per_second: 3656.2062, train_label_loss: 0.0000, \n"
     ]
    },
    {
     "name": "stdout",
     "output_type": "stream",
     "text": [
      "=============================================================\n",
      "epoch: 4, source_val_acc_label: 0.9994, target_val_acc_label: 0.3772, source_val_label_loss: 0.0058, target_val_label_loss: 2.1262, \n",
      "=============================================================\n"
     ]
    },
    {
     "name": "stdout",
     "output_type": "stream",
     "text": [
      "New best\n"
     ]
    },
    {
     "name": "stdout",
     "output_type": "stream",
     "text": [
      "epoch: 5, [batch: 1 / 6302], examples_per_second: 5.4712, train_label_loss: 0.0000, \n"
     ]
    },
    {
     "name": "stdout",
     "output_type": "stream",
     "text": [
      "epoch: 5, [batch: 631 / 6302], examples_per_second: 3628.2290, train_label_loss: 0.0001, \n"
     ]
    },
    {
     "name": "stdout",
     "output_type": "stream",
     "text": [
      "epoch: 5, [batch: 1261 / 6302], examples_per_second: 3637.0009, train_label_loss: 0.0005, \n"
     ]
    },
    {
     "name": "stdout",
     "output_type": "stream",
     "text": [
      "epoch: 5, [batch: 1891 / 6302], examples_per_second: 3591.3314, train_label_loss: 0.0000, \n"
     ]
    },
    {
     "name": "stdout",
     "output_type": "stream",
     "text": [
      "epoch: 5, [batch: 2521 / 6302], examples_per_second: 3581.6542, train_label_loss: 0.0041, \n"
     ]
    },
    {
     "name": "stdout",
     "output_type": "stream",
     "text": [
      "epoch: 5, [batch: 3151 / 6302], examples_per_second: 3605.0400, train_label_loss: 0.0000, \n"
     ]
    },
    {
     "name": "stdout",
     "output_type": "stream",
     "text": [
      "epoch: 5, [batch: 3781 / 6302], examples_per_second: 3637.2598, train_label_loss: 0.0000, \n"
     ]
    },
    {
     "name": "stdout",
     "output_type": "stream",
     "text": [
      "epoch: 5, [batch: 4411 / 6302], examples_per_second: 3629.6206, train_label_loss: 0.0000, \n"
     ]
    },
    {
     "name": "stdout",
     "output_type": "stream",
     "text": [
      "epoch: 5, [batch: 5041 / 6302], examples_per_second: 3647.5483, train_label_loss: 0.0000, \n"
     ]
    },
    {
     "name": "stdout",
     "output_type": "stream",
     "text": [
      "epoch: 5, [batch: 5671 / 6302], examples_per_second: 3644.2319, train_label_loss: 0.0000, \n"
     ]
    },
    {
     "name": "stdout",
     "output_type": "stream",
     "text": [
      "=============================================================\n",
      "epoch: 5, source_val_acc_label: 0.9994, target_val_acc_label: 0.2690, source_val_label_loss: 0.0051, target_val_label_loss: 3.5048, \n",
      "=============================================================\n"
     ]
    },
    {
     "name": "stdout",
     "output_type": "stream",
     "text": [
      "epoch: 6, [batch: 1 / 6311], examples_per_second: 5.4223, train_label_loss: 0.0000, \n"
     ]
    },
    {
     "name": "stdout",
     "output_type": "stream",
     "text": [
      "epoch: 6, [batch: 632 / 6311], examples_per_second: 3613.9992, train_label_loss: 0.0002, \n"
     ]
    },
    {
     "name": "stdout",
     "output_type": "stream",
     "text": [
      "epoch: 6, [batch: 1263 / 6311], examples_per_second: 3643.3869, train_label_loss: 0.0000, \n"
     ]
    },
    {
     "name": "stdout",
     "output_type": "stream",
     "text": [
      "epoch: 6, [batch: 1894 / 6311], examples_per_second: 3643.4251, train_label_loss: 0.0000, \n"
     ]
    },
    {
     "name": "stdout",
     "output_type": "stream",
     "text": [
      "epoch: 6, [batch: 2525 / 6311], examples_per_second: 3631.4691, train_label_loss: 0.0000, \n"
     ]
    },
    {
     "name": "stdout",
     "output_type": "stream",
     "text": [
      "epoch: 6, [batch: 3156 / 6311], examples_per_second: 3621.8926, train_label_loss: 0.0000, \n"
     ]
    },
    {
     "name": "stdout",
     "output_type": "stream",
     "text": [
      "epoch: 6, [batch: 3787 / 6311], examples_per_second: 3610.7216, train_label_loss: 0.0000, \n"
     ]
    },
    {
     "name": "stdout",
     "output_type": "stream",
     "text": [
      "epoch: 6, [batch: 4418 / 6311], examples_per_second: 3582.0301, train_label_loss: 0.0001, \n"
     ]
    },
    {
     "name": "stdout",
     "output_type": "stream",
     "text": [
      "epoch: 6, [batch: 5049 / 6311], examples_per_second: 3613.7689, train_label_loss: 0.0000, \n"
     ]
    },
    {
     "name": "stdout",
     "output_type": "stream",
     "text": [
      "epoch: 6, [batch: 5680 / 6311], examples_per_second: 3636.2922, train_label_loss: 0.0000, \n"
     ]
    },
    {
     "name": "stdout",
     "output_type": "stream",
     "text": [
      "=============================================================\n",
      "epoch: 6, source_val_acc_label: 0.9989, target_val_acc_label: 0.2924, source_val_label_loss: 0.0086, target_val_label_loss: 3.5536, \n",
      "=============================================================\n"
     ]
    },
    {
     "name": "stdout",
     "output_type": "stream",
     "text": [
      "epoch: 7, [batch: 1 / 6310], examples_per_second: 5.4538, train_label_loss: 0.0000, \n"
     ]
    },
    {
     "name": "stdout",
     "output_type": "stream",
     "text": [
      "epoch: 7, [batch: 631 / 6310], examples_per_second: 3616.2237, train_label_loss: 0.0000, \n"
     ]
    },
    {
     "name": "stdout",
     "output_type": "stream",
     "text": [
      "epoch: 7, [batch: 1262 / 6310], examples_per_second: 3629.6380, train_label_loss: 0.0000, \n"
     ]
    },
    {
     "name": "stdout",
     "output_type": "stream",
     "text": [
      "epoch: 7, [batch: 1893 / 6310], examples_per_second: 3639.2042, train_label_loss: 0.0000, \n"
     ]
    },
    {
     "name": "stdout",
     "output_type": "stream",
     "text": [
      "epoch: 7, [batch: 2524 / 6310], examples_per_second: 3621.2301, train_label_loss: 0.0000, \n"
     ]
    },
    {
     "name": "stdout",
     "output_type": "stream",
     "text": [
      "epoch: 7, [batch: 3155 / 6310], examples_per_second: 3646.2952, train_label_loss: 0.0000, \n"
     ]
    },
    {
     "name": "stdout",
     "output_type": "stream",
     "text": [
      "epoch: 7, [batch: 3786 / 6310], examples_per_second: 3635.2012, train_label_loss: 0.0000, \n"
     ]
    },
    {
     "name": "stdout",
     "output_type": "stream",
     "text": [
      "epoch: 7, [batch: 4417 / 6310], examples_per_second: 3647.9875, train_label_loss: 0.0000, \n"
     ]
    },
    {
     "name": "stdout",
     "output_type": "stream",
     "text": [
      "epoch: 7, [batch: 5048 / 6310], examples_per_second: 3649.1373, train_label_loss: 0.0000, \n"
     ]
    },
    {
     "name": "stdout",
     "output_type": "stream",
     "text": [
      "epoch: 7, [batch: 5679 / 6310], examples_per_second: 3628.3065, train_label_loss: 0.0000, \n"
     ]
    },
    {
     "name": "stdout",
     "output_type": "stream",
     "text": [
      "=============================================================\n",
      "epoch: 7, source_val_acc_label: 0.9991, target_val_acc_label: 0.2676, source_val_label_loss: 0.0072, target_val_label_loss: 3.6274, \n",
      "=============================================================\n"
     ]
    },
    {
     "name": "stdout",
     "output_type": "stream",
     "text": [
      "epoch: 8, [batch: 1 / 6331], examples_per_second: 5.4433, train_label_loss: 0.0000, \n"
     ]
    },
    {
     "name": "stdout",
     "output_type": "stream",
     "text": [
      "epoch: 8, [batch: 634 / 6331], examples_per_second: 3610.2375, train_label_loss: 0.0000, \n"
     ]
    },
    {
     "name": "stdout",
     "output_type": "stream",
     "text": [
      "epoch: 8, [batch: 1267 / 6331], examples_per_second: 3644.9288, train_label_loss: 0.0000, \n"
     ]
    },
    {
     "name": "stdout",
     "output_type": "stream",
     "text": [
      "epoch: 8, [batch: 1900 / 6331], examples_per_second: 3633.3655, train_label_loss: 0.0001, \n"
     ]
    },
    {
     "name": "stdout",
     "output_type": "stream",
     "text": [
      "epoch: 8, [batch: 2533 / 6331], examples_per_second: 3625.9667, train_label_loss: 0.0000, \n"
     ]
    },
    {
     "name": "stdout",
     "output_type": "stream",
     "text": [
      "epoch: 8, [batch: 3166 / 6331], examples_per_second: 3638.9400, train_label_loss: 0.0000, \n"
     ]
    },
    {
     "name": "stdout",
     "output_type": "stream",
     "text": [
      "epoch: 8, [batch: 3799 / 6331], examples_per_second: 3635.2674, train_label_loss: 0.0000, \n"
     ]
    },
    {
     "name": "stdout",
     "output_type": "stream",
     "text": [
      "epoch: 8, [batch: 4432 / 6331], examples_per_second: 3622.9200, train_label_loss: 0.0000, \n"
     ]
    },
    {
     "name": "stdout",
     "output_type": "stream",
     "text": [
      "epoch: 8, [batch: 5065 / 6331], examples_per_second: 3641.6064, train_label_loss: 0.0000, \n"
     ]
    },
    {
     "name": "stdout",
     "output_type": "stream",
     "text": [
      "epoch: 8, [batch: 5698 / 6331], examples_per_second: 3643.4941, train_label_loss: 0.0000, \n"
     ]
    },
    {
     "name": "stdout",
     "output_type": "stream",
     "text": [
      "=============================================================\n",
      "epoch: 8, source_val_acc_label: 0.9993, target_val_acc_label: 0.2869, source_val_label_loss: 0.0075, target_val_label_loss: 3.8093, \n",
      "=============================================================\n"
     ]
    },
    {
     "name": "stdout",
     "output_type": "stream",
     "text": [
      "Patience (3) exhausted\n"
     ]
    }
   ],
   "source": [
    "###################################\n",
    "# train\n",
    "###################################\n",
    "jig = PTN_Train_Eval_Test_Jig(model, p.BEST_MODEL_PATH, p.device)\n",
    "\n",
    "jig.train(\n",
    "    train_iterable=datasets.source.processed.train,\n",
    "    source_val_iterable=datasets.source.processed.val,\n",
    "    target_val_iterable=datasets.target.processed.val,\n",
    "    num_epochs=p.n_epoch,\n",
    "    num_logs_per_epoch=p.NUM_LOGS_PER_EPOCH,\n",
    "    patience=p.patience,\n",
    "    optimizer=optimizer,\n",
    "    criteria_for_best=p.criteria_for_best,\n",
    ")"
   ]
  },
  {
   "cell_type": "code",
   "execution_count": 23,
   "id": "31e8fabf",
   "metadata": {
    "execution": {
     "iopub.execute_input": "2022-03-25T06:51:56.340130Z",
     "iopub.status.busy": "2022-03-25T06:51:56.339876Z",
     "iopub.status.idle": "2022-03-25T06:51:56.360720Z",
     "shell.execute_reply": "2022-03-25T06:51:56.360226Z"
    },
    "papermill": {
     "duration": 0.054042,
     "end_time": "2022-03-25T06:51:56.360826",
     "exception": false,
     "start_time": "2022-03-25T06:51:56.306784",
     "status": "completed"
    },
    "tags": []
   },
   "outputs": [],
   "source": [
    "total_experiment_time_secs = time.time() - start_time_secs"
   ]
  },
  {
   "cell_type": "code",
   "execution_count": 24,
   "id": "87b9595b",
   "metadata": {
    "execution": {
     "iopub.execute_input": "2022-03-25T06:51:56.433054Z",
     "iopub.status.busy": "2022-03-25T06:51:56.432791Z",
     "iopub.status.idle": "2022-03-25T06:53:28.225941Z",
     "shell.execute_reply": "2022-03-25T06:53:28.225494Z"
    },
    "papermill": {
     "duration": 91.82926,
     "end_time": "2022-03-25T06:53:28.226070",
     "exception": false,
     "start_time": "2022-03-25T06:51:56.396810",
     "status": "completed"
    },
    "tags": []
   },
   "outputs": [],
   "source": [
    "###################################\n",
    "# Evaluate the model\n",
    "###################################\n",
    "source_test_label_accuracy, source_test_label_loss = jig.test(datasets.source.processed.test)\n",
    "target_test_label_accuracy, target_test_label_loss = jig.test(datasets.target.processed.test)\n",
    "\n",
    "source_val_label_accuracy, source_val_label_loss = jig.test(datasets.source.processed.val)\n",
    "target_val_label_accuracy, target_val_label_loss = jig.test(datasets.target.processed.val)\n",
    "\n",
    "history = jig.get_history()\n",
    "\n",
    "total_epochs_trained = len(history[\"epoch_indices\"])\n",
    "\n",
    "val_dl = Iterable_Aggregator((datasets.source.original.val,datasets.target.original.val))\n",
    "\n",
    "confusion = ptn_confusion_by_domain_over_dataloader(model, p.device, val_dl)\n",
    "per_domain_accuracy = per_domain_accuracy_from_confusion(confusion)\n",
    "\n",
    "# Add a key to per_domain_accuracy for if it was a source domain\n",
    "for domain, accuracy in per_domain_accuracy.items():\n",
    "    per_domain_accuracy[domain] = {\n",
    "        \"accuracy\": accuracy,\n",
    "        \"source?\": domain in p.domains_source\n",
    "    }\n",
    "\n",
    "# Do an independent accuracy assesment JUST TO BE SURE!\n",
    "# _source_test_label_accuracy = independent_accuracy_assesment(model, datasets.source.processed.test, p.device)\n",
    "# _target_test_label_accuracy = independent_accuracy_assesment(model, datasets.target.processed.test, p.device)\n",
    "# _source_val_label_accuracy = independent_accuracy_assesment(model, datasets.source.processed.val, p.device)\n",
    "# _target_val_label_accuracy = independent_accuracy_assesment(model, datasets.target.processed.val, p.device)\n",
    "\n",
    "# assert(_source_test_label_accuracy == source_test_label_accuracy)\n",
    "# assert(_target_test_label_accuracy == target_test_label_accuracy)\n",
    "# assert(_source_val_label_accuracy == source_val_label_accuracy)\n",
    "# assert(_target_val_label_accuracy == target_val_label_accuracy)\n",
    "\n",
    "experiment = {\n",
    "    \"experiment_name\": p.experiment_name,\n",
    "    \"parameters\": dict(p),\n",
    "    \"results\": {\n",
    "        \"source_test_label_accuracy\": source_test_label_accuracy,\n",
    "        \"source_test_label_loss\": source_test_label_loss,\n",
    "        \"target_test_label_accuracy\": target_test_label_accuracy,\n",
    "        \"target_test_label_loss\": target_test_label_loss,\n",
    "        \"source_val_label_accuracy\": source_val_label_accuracy,\n",
    "        \"source_val_label_loss\": source_val_label_loss,\n",
    "        \"target_val_label_accuracy\": target_val_label_accuracy,\n",
    "        \"target_val_label_loss\": target_val_label_loss,\n",
    "        \"total_epochs_trained\": total_epochs_trained,\n",
    "        \"total_experiment_time_secs\": total_experiment_time_secs,\n",
    "        \"confusion\": confusion,\n",
    "        \"per_domain_accuracy\": per_domain_accuracy,\n",
    "    },\n",
    "    \"history\": history,\n",
    "    \"dataset_metrics\": get_dataset_metrics(datasets, \"ptn\"),\n",
    "}"
   ]
  },
  {
   "cell_type": "code",
   "execution_count": 25,
   "id": "54a21829",
   "metadata": {
    "execution": {
     "iopub.execute_input": "2022-03-25T06:53:28.299994Z",
     "iopub.status.busy": "2022-03-25T06:53:28.299735Z",
     "iopub.status.idle": "2022-03-25T06:53:28.427793Z",
     "shell.execute_reply": "2022-03-25T06:53:28.428211Z"
    },
    "papermill": {
     "duration": 0.163006,
     "end_time": "2022-03-25T06:53:28.428342",
     "exception": false,
     "start_time": "2022-03-25T06:53:28.265336",
     "status": "completed"
    },
    "tags": []
   },
   "outputs": [
    {
     "data": {
      "image/png": "[encoded data removed]",
      "text/plain": [
       "<Figure size 1080x504 with 1 Axes>"
      ]
     },
     "metadata": {
      "needs_background": "light"
     },
     "output_type": "display_data"
    }
   ],
   "source": [
    "ax = get_loss_curve(experiment)\n",
    "plt.show()"
   ]
  },
  {
   "cell_type": "code",
   "execution_count": 26,
   "id": "fd8a0f60",
   "metadata": {
    "execution": {
     "iopub.execute_input": "2022-03-25T06:53:28.498760Z",
     "iopub.status.busy": "2022-03-25T06:53:28.498504Z",
     "iopub.status.idle": "2022-03-25T06:53:28.641193Z",
     "shell.execute_reply": "2022-03-25T06:53:28.641475Z"
    },
    "papermill": {
     "duration": 0.176238,
     "end_time": "2022-03-25T06:53:28.641569",
     "exception": false,
     "start_time": "2022-03-25T06:53:28.465331",
     "status": "completed"
    },
    "tags": []
   },
   "outputs": [
    {
     "data": {
      "text/plain": [
       "<AxesSubplot:title={'center':'Results'}>"
      ]
     },
     "execution_count": 26,
     "metadata": {},
     "output_type": "execute_result"
    },
    {
     "data": {
      "image/png": "[encoded data removed]",
      "text/plain": [
       "<Figure size 1080x504 with 1 Axes>"
      ]
     },
     "metadata": {
      "needs_background": "light"
     },
     "output_type": "display_data"
    }
   ],
   "source": [
    "get_results_table(experiment)"
   ]
  },
  {
   "cell_type": "code",
   "execution_count": 27,
   "id": "cf8dc689",
   "metadata": {
    "execution": {
     "iopub.execute_input": "2022-03-25T06:53:28.723963Z",
     "iopub.status.busy": "2022-03-25T06:53:28.723712Z",
     "iopub.status.idle": "2022-03-25T06:53:28.856506Z",
     "shell.execute_reply": "2022-03-25T06:53:28.856901Z"
    },
    "papermill": {
     "duration": 0.169879,
     "end_time": "2022-03-25T06:53:28.857030",
     "exception": false,
     "start_time": "2022-03-25T06:53:28.687151",
     "status": "completed"
    },
    "tags": []
   },
   "outputs": [
    {
     "data": {
      "text/plain": [
       "<AxesSubplot:title={'center':'Per Domain Validation Accuracy'}, xlabel='domain'>"
      ]
     },
     "execution_count": 27,
     "metadata": {},
     "output_type": "execute_result"
    },
    {
     "data": {
      "image/png": "[encoded data removed]",
      "text/plain": [
       "<Figure size 1080x504 with 1 Axes>"
      ]
     },
     "metadata": {
      "needs_background": "light"
     },
     "output_type": "display_data"
    }
   ],
   "source": [
    "get_domain_accuracies(experiment)"
   ]
  },
  {
   "cell_type": "code",
   "execution_count": 28,
   "id": "a74ae082",
   "metadata": {
    "execution": {
     "iopub.execute_input": "2022-03-25T06:53:28.937912Z",
     "iopub.status.busy": "2022-03-25T06:53:28.937649Z",
     "iopub.status.idle": "2022-03-25T06:53:28.949480Z",
     "shell.execute_reply": "2022-03-25T06:53:28.949692Z"
    },
    "papermill": {
     "duration": 0.047191,
     "end_time": "2022-03-25T06:53:28.949764",
     "exception": false,
     "start_time": "2022-03-25T06:53:28.902573",
     "status": "completed"
    },
    "tags": []
   },
   "outputs": [
    {
     "name": "stdout",
     "output_type": "stream",
     "text": [
      "Source Test Label Accuracy: 0.9996488764044944 Target Test Label Accuracy: 0.38323567708333334\n",
      "Source Val Label Accuracy: 0.9994285714285714 Target Val Label Accuracy: 0.37721354166666665\n"
     ]
    }
   ],
   "source": [
    "print(\"Source Test Label Accuracy:\", experiment[\"results\"][\"source_test_label_accuracy\"], \"Target Test Label Accuracy:\", experiment[\"results\"][\"target_test_label_accuracy\"])\n",
    "print(\"Source Val Label Accuracy:\", experiment[\"results\"][\"source_val_label_accuracy\"], \"Target Val Label Accuracy:\", experiment[\"results\"][\"target_val_label_accuracy\"])"
   ]
  },
  {
   "cell_type": "code",
   "execution_count": 29,
   "id": "dacca602",
   "metadata": {
    "execution": {
     "iopub.execute_input": "2022-03-25T06:53:29.023465Z",
     "iopub.status.busy": "2022-03-25T06:53:29.022741Z",
     "iopub.status.idle": "2022-03-25T06:53:29.041110Z",
     "shell.execute_reply": "2022-03-25T06:53:29.041501Z"
    },
    "papermill": {
     "duration": 0.054482,
     "end_time": "2022-03-25T06:53:29.041624",
     "exception": false,
     "start_time": "2022-03-25T06:53:28.987142",
     "status": "completed"
    },
    "tags": [
     "experiment_json"
    ]
   },
   "outputs": [
    {
     "data": {
      "text/plain": [
       "'{\"experiment_name\": \"tl_3Av2:cores -> oracle.run1.framed\", \"parameters\": {\"experiment_name\": \"tl_3Av2:cores -> oracle.run1.framed\", \"device\": \"cuda\", \"lr\": 0.0001, \"x_shape\": [2, 200], \"n_shot\": 3, \"n_query\": 2, \"train_k_factor\": 3, \"val_k_factor\": 2, \"test_k_factor\": 2, \"torch_default_dtype\": \"torch.float32\", \"n_epoch\": 50, \"patience\": 3, \"criteria_for_best\": \"target_accuracy\", \"x_net\": [{\"class\": \"nnReshape\", \"kargs\": {\"shape\": [-1, 1, 2, 200]}}, {\"class\": \"Conv2d\", \"kargs\": {\"in_channels\": 1, \"out_channels\": 256, \"kernel_size\": [1, 7], \"bias\": false, \"padding\": [0, 3]}}, {\"class\": \"ReLU\", \"kargs\": {\"inplace\": true}}, {\"class\": \"BatchNorm2d\", \"kargs\": {\"num_features\": 256}}, {\"class\": \"Conv2d\", \"kargs\": {\"in_channels\": 256, \"out_channels\": 80, \"kernel_size\": [2, 7], \"bias\": true, \"padding\": [0, 3]}}, {\"class\": \"ReLU\", \"kargs\": {\"inplace\": true}}, {\"class\": \"BatchNorm2d\", \"kargs\": {\"num_features\": 80}}, {\"class\": \"Flatten\", \"kargs\": {}}, {\"class\": \"Linear\", \"kargs\": {\"in_features\": 16000, \"out_features\": 256}}, {\"class\": \"ReLU\", \"kargs\": {\"inplace\": true}}, {\"class\": \"BatchNorm1d\", \"kargs\": {\"num_features\": 256}}, {\"class\": \"Linear\", \"kargs\": {\"in_features\": 256, \"out_features\": 256}}], \"NUM_LOGS_PER_EPOCH\": 10, \"BEST_MODEL_PATH\": \"./best_model.pth\", \"n_way\": 16, \"datasets\": [{\"labels\": [\"1-10.\", \"1-11.\", \"1-15.\", \"1-16.\", \"1-17.\", \"1-18.\", \"1-19.\", \"10-4.\", \"10-7.\", \"11-1.\", \"11-14.\", \"11-17.\", \"11-20.\", \"11-7.\", \"13-20.\", \"13-8.\", \"14-10.\", \"14-11.\", \"14-14.\", \"14-7.\", \"15-1.\", \"15-20.\", \"16-1.\", \"16-16.\", \"17-10.\", \"17-11.\", \"17-2.\", \"19-1.\", \"19-16.\", \"19-19.\", \"19-20.\", \"19-3.\", \"2-10.\", \"2-11.\", \"2-17.\", \"2-18.\", \"2-20.\", \"2-3.\", \"2-4.\", \"2-5.\", \"2-6.\", \"2-7.\", \"2-8.\", \"3-13.\", \"3-18.\", \"3-3.\", \"4-1.\", \"4-10.\", \"4-11.\", \"4-19.\", \"5-5.\", \"6-15.\", \"7-10.\", \"7-14.\", \"8-18.\", \"8-20.\", \"8-3.\", \"8-8.\"], \"domains\": [1, 2, 3, 4, 5], \"num_examples_per_domain_per_label\": -1, \"pickle_path\": \"/mnt/wd500GB/CSC500/csc500-main/datasets/cores.stratified_ds.2022A.pkl\", \"source_or_target_dataset\": \"source\", \"x_transforms\": [\"unit_power\", \"take_200\"], \"episode_transforms\": [], \"domain_prefix\": \"C_\"}, {\"labels\": [\"3123D52\", \"3123D65\", \"3123D79\", \"3123D80\", \"3123D54\", \"3123D70\", \"3123D7B\", \"3123D89\", \"3123D58\", \"3123D76\", \"3123D7D\", \"3123EFE\", \"3123D64\", \"3123D78\", \"3123D7E\", \"3124E4A\"], \"domains\": [32, 38, 8, 44, 14, 50, 20, 26], \"num_examples_per_domain_per_label\": 2000, \"pickle_path\": \"/mnt/wd500GB/CSC500/csc500-main/datasets/oracle.Run1_framed_2000Examples_stratified_ds.2022A.pkl\", \"source_or_target_dataset\": \"target\", \"x_transforms\": [\"unit_power\", \"take_200\", \"resample_20Msps_to_25Msps\"], \"episode_transforms\": [], \"domain_prefix\": \"O_\"}], \"seed\": 500, \"dataset_seed\": 500, \"domains_source\": [\"C_1\", \"C_2\", \"C_3\", \"C_4\", \"C_5\"], \"domains_target\": [\"O_32\", \"O_38\", \"O_8\", \"O_44\", \"O_14\", \"O_50\", \"O_20\", \"O_26\"]}, \"results\": {\"source_test_label_accuracy\": 0.9996488764044944, \"source_test_label_loss\": 0.00790086667984724, \"target_test_label_accuracy\": 0.38323567708333334, \"target_test_label_loss\": 2.1123273372650146, \"source_val_label_accuracy\": 0.9994285714285714, \"source_val_label_loss\": 0.0058229658752679825, \"target_val_label_accuracy\": 0.37721354166666665, \"target_val_label_loss\": 2.1261610984802246, \"total_epochs_trained\": 8, \"total_experiment_time_secs\": 1294.1622476577759, \"confusion\": {\"C_4\": {\"38\": {\"38\": 40}, \"3\": {\"3\": 124}, \"24\": {\"24\": 56}, \"49\": {\"49\": 20}, \"7\": {\"7\": 24}, \"17\": {\"17\": 80}, \"43\": {\"43\": 148}, \"30\": {\"30\": 44}, \"44\": {\"44\": 132}, \"23\": {\"23\": 144}, \"37\": {\"37\": 24}, \"4\": {\"4\": 132}, \"57\": {\"57\": 100}, \"16\": {\"16\": 96}, \"18\": {\"18\": 107, \"53\": 1}, \"20\": {\"20\": 124}, \"45\": {\"45\": 96}, \"15\": {\"15\": 132}, \"52\": {\"52\": 116}, \"19\": {\"19\": 140}, \"54\": {\"54\": 108}, \"56\": {\"56\": 130}, \"40\": {\"40\": 134}, \"28\": {\"28\": 32}, \"2\": {\"2\": 36}, \"9\": {\"9\": 120}, \"0\": {\"0\": 80}, \"36\": {\"36\": 92}, \"55\": {\"55\": 130}, \"35\": {\"35\": 40}, \"39\": {\"39\": 20}, \"31\": {\"31\": 28}, \"14\": {\"14\": 16}, \"12\": {\"12\": 92}, \"6\": {\"6\": 112}, \"26\": {\"26\": 24}, \"50\": {\"50\": 131, \"3\": 1}, \"21\": {\"21\": 121, \"50\": 1}, \"46\": {\"46\": 140}, \"51\": {\"51\": 140}, \"41\": {\"41\": 36}, \"34\": {\"34\": 24}, \"47\": {\"47\": 120}, \"5\": {\"5\": 108}, \"1\": {\"1\": 40}, \"48\": {\"48\": 134}, \"29\": {\"29\": 118}, \"22\": {\"22\": 127, \"7\": 1}, \"10\": {\"10\": 132}, \"32\": {\"32\": 24}, \"13\": {\"13\": 112}, \"42\": {\"42\": 32}, \"27\": {\"27\": 138}, \"8\": {\"8\": 142}, \"33\": {\"33\": 36}, \"25\": {\"25\": 132}, \"11\": {\"11\": 104}, \"53\": {\"53\": 112}}, \"C_2\": {\"32\": {\"32\": 28}, \"17\": {\"17\": 104}, \"38\": {\"38\": 20}, \"2\": {\"2\": 32}, \"43\": {\"43\": 144}, \"56\": {\"56\": 144}, \"37\": {\"37\": 36}, \"49\": {\"49\": 24}, \"0\": {\"0\": 48}, \"29\": {\"29\": 128}, \"35\": {\"35\": 32}, \"18\": {\"18\": 48}, \"25\": {\"25\": 136}, \"23\": {\"23\": 124}, \"15\": {\"15\": 146}, \"21\": {\"21\": 120}, \"51\": {\"51\": 128}, \"20\": {\"20\": 138}, \"7\": {\"7\": 36}, \"50\": {\"50\": 136}, \"31\": {\"31\": 28}, \"30\": {\"30\": 140}, \"19\": {\"19\": 156}, \"9\": {\"9\": 144}, \"52\": {\"52\": 124}, \"45\": {\"45\": 128}, \"8\": {\"8\": 154}, \"55\": {\"55\": 160}, \"12\": {\"12\": 92}, \"40\": {\"40\": 140}, \"28\": {\"28\": 28}, \"36\": {\"36\": 116}, \"39\": {\"39\": 28}, \"46\": {\"46\": 122}, \"14\": {\"14\": 24}, \"57\": {\"57\": 142}, \"34\": {\"34\": 28}, \"1\": {\"1\": 112}, \"53\": {\"53\": 136}, \"48\": {\"48\": 130}, \"3\": {\"3\": 92}, \"16\": {\"16\": 152}, \"6\": {\"6\": 124}, \"10\": {\"10\": 112}, \"13\": {\"13\": 116}, \"26\": {\"26\": 24}, \"24\": {\"24\": 96}, \"44\": {\"44\": 100}, \"27\": {\"27\": 150}, \"22\": {\"22\": 128}, \"33\": {\"33\": 28}, \"47\": {\"47\": 118}, \"5\": {\"5\": 119, \"31\": 1}, \"4\": {\"4\": 138}, \"41\": {\"41\": 20}, \"11\": {\"11\": 150}, \"54\": {\"54\": 108}, \"42\": {\"42\": 36}}, \"C_3\": {\"5\": {\"5\": 116}, \"32\": {\"32\": 28}, \"33\": {\"33\": 28}, \"49\": {\"49\": 20}, \"39\": {\"39\": 16}, \"11\": {\"11\": 142}, \"8\": {\"8\": 116}, \"26\": {\"26\": 24}, \"51\": {\"51\": 122}, \"4\": {\"4\": 146}, \"52\": {\"52\": 118}, \"47\": {\"47\": 92}, \"17\": {\"17\": 107, \"56\": 1}, \"53\": {\"53\": 136}, \"2\": {\"2\": 32}, \"12\": {\"12\": 92}, \"37\": {\"37\": 28}, \"9\": {\"9\": 148}, \"13\": {\"13\": 128}, \"54\": {\"54\": 100}, \"31\": {\"31\": 28}, \"34\": {\"34\": 32}, \"24\": {\"24\": 104}, \"7\": {\"7\": 36}, \"50\": {\"50\": 117, \"21\": 1}, \"46\": {\"46\": 128}, \"44\": {\"44\": 87, \"29\": 1}, \"40\": {\"40\": 116}, \"21\": {\"21\": 128}, \"45\": {\"45\": 60}, \"16\": {\"16\": 126}, \"14\": {\"14\": 40}, \"36\": {\"36\": 100}, \"56\": {\"56\": 114}, \"10\": {\"10\": 64}, \"18\": {\"18\": 84}, \"48\": {\"48\": 116}, \"38\": {\"38\": 28}, \"27\": {\"27\": 130}, \"42\": {\"42\": 28}, \"15\": {\"15\": 134}, \"1\": {\"1\": 100}, \"28\": {\"28\": 28}, \"43\": {\"43\": 136}, \"0\": {\"0\": 124}, \"57\": {\"57\": 124}, \"3\": {\"3\": 148}, \"29\": {\"29\": 124}, \"41\": {\"41\": 28}, \"25\": {\"25\": 146}, \"6\": {\"6\": 87, \"11\": 1}, \"35\": {\"35\": 28}, \"20\": {\"20\": 126}, \"23\": {\"23\": 134}, \"22\": {\"22\": 140}, \"19\": {\"19\": 116}, \"55\": {\"55\": 124}, \"30\": {\"30\": 120}}, \"C_1\": {\"24\": {\"24\": 107, \"22\": 1}, \"25\": {\"25\": 140}, \"45\": {\"45\": 144}, \"42\": {\"42\": 40}, \"2\": {\"2\": 36}, \"9\": {\"9\": 150}, \"21\": {\"21\": 123, \"38\": 1}, \"26\": {\"26\": 24}, \"49\": {\"49\": 32}, \"39\": {\"39\": 28}, \"46\": {\"46\": 136}, \"17\": {\"17\": 64}, \"19\": {\"19\": 156}, \"23\": {\"23\": 132}, \"1\": {\"1\": 100}, \"29\": {\"29\": 139, \"56\": 1}, \"56\": {\"56\": 150}, \"37\": {\"37\": 32}, \"33\": {\"33\": 32}, \"55\": {\"55\": 142}, \"30\": {\"30\": 120}, \"0\": {\"0\": 152}, \"36\": {\"36\": 64}, \"32\": {\"32\": 31, \"55\": 1}, \"31\": {\"31\": 28}, \"15\": {\"15\": 138}, \"12\": {\"12\": 116}, \"38\": {\"38\": 24}, \"40\": {\"40\": 146}, \"14\": {\"14\": 24}, \"13\": {\"13\": 150}, \"48\": {\"48\": 148}, \"34\": {\"34\": 24}, \"44\": {\"44\": 130}, \"5\": {\"5\": 152}, \"11\": {\"11\": 140}, \"7\": {\"7\": 28}, \"18\": {\"18\": 72}, \"52\": {\"52\": 132}, \"51\": {\"51\": 142}, \"41\": {\"41\": 24}, \"16\": {\"16\": 140}, \"22\": {\"22\": 134}, \"3\": {\"3\": 139, \"36\": 1}, \"54\": {\"54\": 104}, \"27\": {\"27\": 144}, \"20\": {\"20\": 140}, \"8\": {\"8\": 138}, \"50\": {\"50\": 144}, \"57\": {\"57\": 140}, \"4\": {\"4\": 132}, \"47\": {\"47\": 146}, \"10\": {\"10\": 96}, \"35\": {\"35\": 36}, \"53\": {\"53\": 126}, \"6\": {\"6\": 95, \"8\": 1}, \"43\": {\"43\": 140}, \"28\": {\"28\": 28}}, \"C_5\": {\"35\": {\"35\": 36}, \"57\": {\"57\": 132}, \"20\": {\"20\": 144}, \"12\": {\"12\": 96}, \"32\": {\"32\": 32}, \"25\": {\"25\": 138}, \"44\": {\"44\": 148}, \"31\": {\"31\": 36}, \"11\": {\"11\": 150}, \"47\": {\"47\": 100}, \"23\": {\"23\": 124}, \"43\": {\"43\": 144}, \"37\": {\"37\": 24}, \"5\": {\"5\": 128}, \"45\": {\"45\": 124}, \"7\": {\"7\": 32}, \"13\": {\"13\": 136}, \"49\": {\"49\": 36}, \"46\": {\"46\": 148}, \"16\": {\"16\": 136}, \"54\": {\"54\": 112}, \"19\": {\"19\": 152}, \"55\": {\"55\": 150}, \"30\": {\"30\": 128}, \"34\": {\"34\": 36}, \"50\": {\"50\": 134}, \"3\": {\"3\": 100}, \"10\": {\"10\": 68}, \"27\": {\"27\": 142}, \"33\": {\"33\": 32}, \"56\": {\"56\": 142}, \"9\": {\"9\": 150}, \"14\": {\"14\": 44}, \"4\": {\"4\": 100}, \"42\": {\"42\": 40}, \"24\": {\"24\": 80}, \"39\": {\"39\": 20}, \"52\": {\"52\": 130}, \"2\": {\"2\": 28}, \"28\": {\"28\": 32}, \"53\": {\"53\": 122}, \"17\": {\"17\": 116}, \"29\": {\"29\": 132}, \"38\": {\"38\": 32}, \"15\": {\"15\": 144}, \"26\": {\"26\": 24}, \"21\": {\"21\": 144}, \"41\": {\"41\": 28}, \"48\": {\"48\": 136}, \"22\": {\"22\": 28}, \"8\": {\"8\": 148}, \"18\": {\"18\": 64}, \"0\": {\"0\": 122}, \"1\": {\"1\": 138}, \"40\": {\"40\": 124}, \"6\": {\"6\": 127, \"50\": 1}, \"51\": {\"51\": 142}, \"36\": {\"36\": 92}}, \"O_50\": {\"7\": {\"13\": 54, \"10\": 28, \"7\": 94, \"6\": 17, \"5\": 32, \"4\": 6, \"0\": 5, \"8\": 2, \"1\": 2}, \"10\": {\"13\": 27, \"8\": 39, \"10\": 100, \"5\": 20, \"0\": 25, \"7\": 24, \"2\": 4, \"4\": 1}, \"0\": {\"10\": 40, \"0\": 103, \"2\": 67, \"6\": 5, \"5\": 7, \"4\": 2, \"13\": 8, \"1\": 4, \"8\": 1, \"7\": 3}, \"11\": {\"11\": 109, \"9\": 53, \"1\": 14, \"15\": 19, \"4\": 2, \"12\": 14, \"14\": 29}, \"2\": {\"2\": 135, \"0\": 81, \"14\": 8, \"15\": 1, \"6\": 2, \"13\": 1, \"5\": 4, \"4\": 3, \"1\": 4, \"10\": 1}, \"14\": {\"14\": 122, \"12\": 40, \"1\": 7, \"9\": 32, \"6\": 1, \"11\": 31, \"15\": 4, \"2\": 2, \"4\": 1}, \"9\": {\"12\": 41, \"11\": 53, \"9\": 105, \"14\": 38, \"15\": 2, \"4\": 1}, \"13\": {\"7\": 51, \"6\": 22, \"13\": 61, \"10\": 32, \"4\": 16, \"5\": 45, \"0\": 8, \"1\": 4, \"15\": 1}, \"8\": {\"8\": 182, \"7\": 2, \"10\": 33, \"3\": 22, \"0\": 1}, \"15\": {\"15\": 85, \"6\": 26, \"11\": 28, \"13\": 2, \"0\": 1, \"1\": 49, \"4\": 39, \"5\": 5, \"2\": 1, \"14\": 3, \"9\": 1}, \"4\": {\"4\": 47, \"1\": 53, \"13\": 23, \"15\": 32, \"5\": 30, \"7\": 14, \"6\": 24, \"0\": 3, \"11\": 8, \"2\": 3, \"14\": 3}, \"5\": {\"4\": 22, \"13\": 53, \"6\": 18, \"5\": 57, \"15\": 5, \"10\": 17, \"7\": 39, \"1\": 17, \"0\": 9, \"2\": 2, \"8\": 1}, \"3\": {\"3\": 209, \"8\": 31}, \"1\": {\"15\": 46, \"6\": 23, \"4\": 32, \"1\": 99, \"5\": 6, \"2\": 3, \"14\": 6, \"11\": 17, \"13\": 4, \"0\": 4}, \"6\": {\"4\": 35, \"7\": 11, \"6\": 77, \"1\": 30, \"0\": 6, \"10\": 2, \"13\": 31, \"15\": 23, \"5\": 20, \"2\": 4, \"11\": 1}, \"12\": {\"12\": 122, \"14\": 37, \"9\": 69, \"11\": 11, \"1\": 1}}, \"O_14\": {\"14\": {\"0\": 11, \"6\": 39, \"4\": 17, \"14\": 68, \"3\": 27, \"13\": 40, \"2\": 25, \"10\": 9, \"11\": 1, \"5\": 3}, \"6\": {\"14\": 36, \"6\": 76, \"2\": 33, \"13\": 53, \"4\": 10, \"3\": 14, \"5\": 9, \"0\": 3, \"10\": 4, \"7\": 1, \"1\": 1}, \"5\": {\"2\": 35, \"5\": 54, \"4\": 44, \"1\": 40, \"7\": 8, \"14\": 6, \"15\": 16, \"3\": 21, \"13\": 4, \"8\": 4, \"10\": 1, \"6\": 7}, \"15\": {\"1\": 10, \"7\": 80, \"15\": 117, \"6\": 1, \"5\": 23, \"2\": 3, \"13\": 5, \"4\": 1}, \"11\": {\"11\": 136, \"10\": 19, \"9\": 38, \"0\": 38, \"14\": 5, \"12\": 3, \"13\": 1}, \"8\": {\"3\": 13, \"8\": 177, \"0\": 2, \"1\": 22, \"4\": 16, \"10\": 2, \"9\": 1, \"5\": 6, \"14\": 1}, \"12\": {\"12\": 192, \"9\": 43, \"11\": 5}, \"1\": {\"2\": 6, \"6\": 1, \"5\": 46, \"8\": 16, \"3\": 18, \"1\": 104, \"4\": 17, \"7\": 12, \"15\": 16, \"14\": 3, \"13\": 1}, \"2\": {\"6\": 41, \"2\": 49, \"15\": 7, \"13\": 24, \"14\": 33, \"5\": 22, \"3\": 32, \"4\": 19, \"1\": 8, \"7\": 2, \"10\": 2, \"8\": 1}, \"13\": {\"0\": 9, \"14\": 30, \"6\": 54, \"10\": 12, \"2\": 23, \"4\": 18, \"13\": 81, \"15\": 4, \"3\": 6, \"7\": 1, \"5\": 2}, \"3\": {\"0\": 23, \"5\": 17, \"13\": 10, \"3\": 72, \"4\": 39, \"8\": 6, \"6\": 14, \"10\": 8, \"14\": 19, \"2\": 22, \"1\": 9, \"9\": 1}, \"0\": {\"0\": 92, \"10\": 61, \"3\": 17, \"9\": 13, \"2\": 3, \"11\": 29, \"8\": 3, \"14\": 10, \"13\": 2, \"4\": 5, \"6\": 4, \"5\": 1}, \"9\": {\"9\": 130, \"11\": 20, \"12\": 50, \"0\": 19, \"8\": 8, \"10\": 13}, \"4\": {\"10\": 5, \"14\": 8, \"4\": 61, \"3\": 41, \"2\": 29, \"1\": 21, \"0\": 6, \"13\": 8, \"5\": 41, \"6\": 12, \"8\": 5, \"15\": 3}, \"7\": {\"7\": 118, \"15\": 67, \"1\": 25, \"5\": 19, \"2\": 9, \"13\": 1, \"6\": 1}, \"10\": {\"8\": 3, \"10\": 105, \"0\": 57, \"11\": 14, \"3\": 15, \"2\": 3, \"9\": 7, \"14\": 12, \"6\": 6, \"13\": 7, \"4\": 11}}, \"O_32\": {\"4\": {\"7\": 36, \"2\": 52, \"0\": 29, \"4\": 37, \"5\": 17, \"8\": 29, \"13\": 27, \"3\": 1, \"14\": 9, \"11\": 3}, \"14\": {\"11\": 55, \"5\": 13, \"2\": 19, \"14\": 46, \"8\": 12, \"4\": 10, \"3\": 6, \"7\": 51, \"0\": 12, \"13\": 16}, \"5\": {\"11\": 10, \"13\": 40, \"5\": 47, \"7\": 32, \"8\": 19, \"3\": 25, \"4\": 33, \"2\": 15, \"0\": 8, \"14\": 8, \"15\": 3}, \"10\": {\"10\": 228, \"1\": 11, \"6\": 1}, \"13\": {\"2\": 8, \"3\": 29, \"0\": 9, \"4\": 24, \"8\": 24, \"13\": 63, \"7\": 25, \"5\": 36, \"14\": 14, \"11\": 8}, \"9\": {\"9\": 217, \"12\": 12, \"8\": 1, \"0\": 8, \"2\": 2}, \"6\": {\"6\": 227, \"10\": 2, \"12\": 11}, \"3\": {\"7\": 7, \"3\": 121, \"11\": 11, \"13\": 37, \"15\": 5, \"14\": 10, \"8\": 18, \"4\": 2, \"5\": 28, \"0\": 1}, \"15\": {\"15\": 204, \"8\": 23, \"3\": 7, \"13\": 4, \"5\": 1, \"0\": 1}, \"7\": {\"2\": 32, \"8\": 11, \"7\": 44, \"11\": 18, \"5\": 22, \"4\": 23, \"14\": 41, \"13\": 25, \"0\": 17, \"3\": 7}, \"12\": {\"12\": 216, \"9\": 15, \"6\": 9}, \"8\": {\"7\": 17, \"8\": 55, \"0\": 32, \"4\": 19, \"13\": 28, \"15\": 15, \"5\": 33, \"14\": 10, \"3\": 15, \"2\": 14, \"11\": 2}, \"11\": {\"13\": 12, \"4\": 4, \"11\": 88, \"7\": 37, \"14\": 64, \"5\": 10, \"3\": 15, \"0\": 2, \"2\": 4, \"8\": 4}, \"2\": {\"5\": 9, \"2\": 84, \"4\": 53, \"14\": 18, \"7\": 23, \"0\": 36, \"13\": 8, \"8\": 7, \"9\": 1, \"11\": 1}, \"1\": {\"1\": 217, \"10\": 23}, \"0\": {\"8\": 45, \"2\": 36, \"4\": 27, \"0\": 76, \"7\": 12, \"5\": 13, \"13\": 12, \"14\": 15, \"11\": 4}}, \"O_44\": {\"8\": {\"0\": 86, \"8\": 97, \"15\": 32, \"5\": 21, \"14\": 2, \"4\": 2}, \"11\": {\"11\": 130, \"6\": 38, \"13\": 43, \"9\": 19, \"4\": 3, \"14\": 1, \"7\": 5, \"2\": 1}, \"14\": {\"4\": 72, \"14\": 88, \"5\": 28, \"15\": 38, \"8\": 5, \"0\": 8, \"13\": 1}, \"10\": {\"2\": 39, \"9\": 3, \"10\": 84, \"1\": 50, \"7\": 13, \"3\": 4, \"12\": 47}, \"3\": {\"3\": 140, \"12\": 29, \"1\": 44, \"7\": 6, \"9\": 1, \"2\": 9, \"10\": 11}, \"15\": {\"15\": 95, \"14\": 34, \"0\": 49, \"5\": 21, \"4\": 14, \"8\": 27}, \"2\": {\"10\": 35, \"7\": 54, \"2\": 71, \"6\": 8, \"9\": 20, \"1\": 35, \"12\": 9, \"3\": 8}, \"12\": {\"10\": 47, \"12\": 107, \"1\": 50, \"3\": 24, \"2\": 12}, \"4\": {\"4\": 113, \"13\": 8, \"14\": 79, \"5\": 11, \"15\": 19, \"9\": 4, \"11\": 2, \"6\": 3, \"0\": 1}, \"1\": {\"3\": 55, \"12\": 59, \"2\": 22, \"1\": 58, \"10\": 36, \"7\": 8, \"9\": 2}, \"0\": {\"0\": 76, \"14\": 11, \"8\": 68, \"15\": 45, \"5\": 36, \"4\": 4}, \"9\": {\"6\": 33, \"9\": 59, \"7\": 62, \"2\": 31, \"13\": 39, \"15\": 1, \"11\": 4, \"4\": 6, \"1\": 2, \"3\": 2, \"14\": 1}, \"5\": {\"5\": 94, \"14\": 34, \"0\": 53, \"4\": 15, \"8\": 29, \"15\": 15}, \"6\": {\"11\": 15, \"6\": 103, \"7\": 17, \"9\": 39, \"13\": 57, \"2\": 8, \"4\": 1}, \"7\": {\"9\": 48, \"10\": 6, \"7\": 76, \"2\": 53, \"1\": 11, \"6\": 17, \"13\": 16, \"3\": 12, \"12\": 1}, \"13\": {\"9\": 49, \"4\": 12, \"6\": 57, \"13\": 72, \"11\": 36, \"14\": 3, \"7\": 10, \"2\": 1}}, \"O_8\": {\"13\": {\"6\": 23, \"14\": 17, \"0\": 33, \"4\": 34, \"8\": 7, \"7\": 30, \"10\": 34, \"1\": 7, \"13\": 43, \"5\": 8, \"11\": 1, \"15\": 2, \"3\": 1}, \"3\": {\"12\": 35, \"2\": 81, \"3\": 87, \"8\": 2, \"15\": 25, \"6\": 4, \"7\": 5, \"0\": 1}, \"15\": {\"3\": 25, \"8\": 39, \"12\": 51, \"15\": 64, \"2\": 22, \"0\": 3, \"6\": 16, \"7\": 13, \"14\": 2, \"4\": 5}, \"4\": {\"7\": 18, \"10\": 23, \"6\": 27, \"8\": 8, \"4\": 36, \"1\": 23, \"14\": 31, \"13\": 30, \"0\": 23, \"11\": 9, \"15\": 2, \"5\": 7, \"12\": 3}, \"7\": {\"2\": 19, \"14\": 8, \"0\": 37, \"7\": 50, \"6\": 41, \"8\": 8, \"3\": 6, \"15\": 17, \"13\": 24, \"4\": 20, \"12\": 6, \"10\": 4}, \"2\": {\"2\": 61, \"6\": 12, \"3\": 61, \"12\": 24, \"15\": 37, \"14\": 1, \"13\": 5, \"7\": 24, \"8\": 2, \"0\": 12, \"4\": 1}, \"1\": {\"11\": 69, \"14\": 22, \"1\": 69, \"5\": 27, \"10\": 18, \"8\": 11, \"7\": 1, \"6\": 5, \"13\": 13, \"0\": 1, \"4\": 4}, \"0\": {\"7\": 31, \"0\": 52, \"13\": 43, \"14\": 11, \"4\": 38, \"10\": 19, \"6\": 34, \"15\": 5, \"2\": 1, \"5\": 2, \"8\": 3, \"12\": 1}, \"12\": {\"2\": 31, \"12\": 72, \"15\": 58, \"3\": 33, \"8\": 26, \"4\": 3, \"7\": 11, \"0\": 2, \"6\": 2, \"11\": 1, \"14\": 1}, \"6\": {\"6\": 35, \"15\": 16, \"4\": 31, \"2\": 5, \"8\": 24, \"7\": 40, \"0\": 24, \"13\": 26, \"10\": 12, \"14\": 16, \"3\": 5, \"5\": 1, \"1\": 2, \"12\": 2, \"11\": 1}, \"11\": {\"11\": 107, \"6\": 4, \"4\": 12, \"14\": 23, \"7\": 1, \"1\": 57, \"10\": 12, \"8\": 8, \"5\": 14, \"13\": 1, \"0\": 1}, \"9\": {\"9\": 239, \"5\": 1}, \"5\": {\"5\": 106, \"4\": 7, \"6\": 2, \"14\": 21, \"10\": 32, \"1\": 35, \"11\": 21, \"13\": 11, \"0\": 3, \"7\": 2}, \"10\": {\"6\": 10, \"13\": 31, \"11\": 9, \"4\": 23, \"10\": 54, \"14\": 33, \"7\": 7, \"5\": 23, \"1\": 25, \"0\": 25}, \"14\": {\"1\": 25, \"10\": 30, \"14\": 42, \"0\": 20, \"6\": 11, \"4\": 41, \"11\": 9, \"8\": 9, \"13\": 31, \"5\": 12, \"7\": 9, \"15\": 1}, \"8\": {\"7\": 17, \"8\": 92, \"15\": 32, \"12\": 21, \"4\": 14, \"6\": 15, \"1\": 9, \"13\": 8, \"2\": 2, \"14\": 9, \"11\": 12, \"0\": 5, \"3\": 1, \"10\": 3}}, \"O_20\": {\"6\": {\"10\": 19, \"4\": 10, \"14\": 56, \"8\": 25, \"2\": 11, \"3\": 4, \"9\": 10, \"12\": 7, \"11\": 9, \"7\": 28, \"6\": 55, \"5\": 2, \"13\": 4}, \"11\": {\"11\": 151, \"0\": 1, \"7\": 19, \"6\": 13, \"2\": 20, \"13\": 21, \"3\": 2, \"8\": 3, \"14\": 1, \"9\": 5, \"4\": 1, \"12\": 2, \"10\": 1}, \"5\": {\"12\": 28, \"13\": 10, \"5\": 30, \"4\": 14, \"0\": 32, \"1\": 21, \"2\": 25, \"15\": 29, \"9\": 12, \"3\": 18, \"14\": 4, \"10\": 2, \"8\": 9, \"7\": 6}, \"14\": {\"14\": 59, \"7\": 24, \"10\": 35, \"2\": 7, \"3\": 9, \"8\": 31, \"11\": 1, \"0\": 6, \"4\": 16, \"6\": 36, \"9\": 6, \"12\": 3, \"5\": 4, \"15\": 2, \"13\": 1}, \"2\": {\"13\": 31, \"5\": 16, \"3\": 19, \"4\": 8, \"9\": 30, \"2\": 30, \"12\": 21, \"1\": 17, \"0\": 1, \"15\": 12, \"7\": 30, \"8\": 6, \"10\": 10, \"14\": 4, \"11\": 3, \"6\": 2}, \"7\": {\"13\": 17, \"2\": 26, \"7\": 37, \"6\": 22, \"8\": 17, \"9\": 22, \"14\": 9, \"10\": 19, \"12\": 19, \"15\": 3, \"4\": 12, \"1\": 10, \"11\": 11, \"3\": 10, \"5\": 4, \"0\": 2}, \"3\": {\"12\": 30, \"0\": 8, \"4\": 20, \"13\": 11, \"6\": 3, \"1\": 23, \"5\": 19, \"3\": 27, \"9\": 28, \"15\": 11, \"2\": 16, \"8\": 12, \"10\": 18, \"7\": 13, \"14\": 1}, \"4\": {\"15\": 6, \"8\": 31, \"12\": 18, \"2\": 11, \"3\": 22, \"6\": 6, \"4\": 46, \"0\": 18, \"10\": 24, \"14\": 9, \"9\": 9, \"5\": 20, \"1\": 7, \"7\": 12, \"13\": 1}, \"9\": {\"13\": 14, \"12\": 36, \"9\": 34, \"0\": 5, \"4\": 8, \"3\": 33, \"7\": 21, \"2\": 35, \"1\": 15, \"15\": 13, \"5\": 11, \"8\": 6, \"10\": 5, \"6\": 3, \"14\": 1}, \"12\": {\"3\": 21, \"0\": 15, \"4\": 19, \"13\": 14, \"15\": 15, \"7\": 13, \"10\": 8, \"9\": 26, \"12\": 25, \"5\": 27, \"1\": 26, \"6\": 3, \"2\": 20, \"8\": 4, \"14\": 3, \"11\": 1}, \"0\": {\"0\": 50, \"9\": 9, \"5\": 25, \"8\": 17, \"2\": 11, \"1\": 23, \"4\": 19, \"15\": 30, \"12\": 31, \"13\": 6, \"10\": 2, \"3\": 8, \"7\": 7, \"14\": 2}, \"10\": {\"10\": 59, \"14\": 31, \"4\": 36, \"8\": 30, \"6\": 20, \"3\": 12, \"2\": 7, \"12\": 8, \"9\": 9, \"5\": 3, \"1\": 4, \"7\": 12, \"13\": 3, \"0\": 4, \"15\": 2}, \"8\": {\"2\": 12, \"4\": 32, \"6\": 17, \"8\": 49, \"14\": 31, \"0\": 7, \"10\": 18, \"11\": 1, \"9\": 14, \"7\": 18, \"12\": 13, \"5\": 12, \"3\": 10, \"15\": 4, \"1\": 1, \"13\": 1}, \"13\": {\"15\": 20, \"5\": 11, \"0\": 5, \"12\": 16, \"2\": 40, \"13\": 55, \"11\": 5, \"3\": 15, \"7\": 23, \"9\": 21, \"1\": 19, \"8\": 4, \"6\": 3, \"10\": 2, \"4\": 1}, \"1\": {\"5\": 25, \"13\": 16, \"4\": 12, \"1\": 33, \"15\": 34, \"12\": 33, \"3\": 20, \"10\": 5, \"9\": 20, \"2\": 15, \"0\": 13, \"7\": 7, \"8\": 5, \"14\": 2}, \"15\": {\"5\": 35, \"9\": 15, \"8\": 3, \"15\": 43, \"12\": 23, \"1\": 32, \"13\": 26, \"4\": 6, \"0\": 28, \"7\": 6, \"2\": 12, \"3\": 11}}, \"O_38\": {\"3\": {\"9\": 40, \"6\": 23, \"3\": 137, \"7\": 11, \"8\": 5, \"5\": 10, \"0\": 14}, \"8\": {\"1\": 12, \"5\": 51, \"7\": 31, \"8\": 63, \"9\": 3, \"0\": 26, \"10\": 20, \"15\": 21, \"13\": 10, \"3\": 1, \"6\": 1, \"14\": 1}, \"0\": {\"0\": 62, \"7\": 55, \"8\": 51, \"3\": 8, \"9\": 2, \"5\": 24, \"10\": 10, \"15\": 4, \"13\": 9, \"6\": 3, \"12\": 3, \"4\": 3, \"1\": 5, \"2\": 1}, \"2\": {\"2\": 148, \"10\": 10, \"14\": 48, \"13\": 18, \"11\": 10, \"15\": 6}, \"4\": {\"4\": 180, \"7\": 3, \"10\": 2, \"12\": 53, \"0\": 1, \"14\": 1}, \"7\": {\"7\": 119, \"5\": 27, \"0\": 44, \"8\": 28, \"15\": 3, \"9\": 6, \"6\": 4, \"10\": 4, \"3\": 3, \"13\": 1, \"4\": 1}, \"12\": {\"0\": 7, \"12\": 172, \"4\": 49, \"14\": 4, \"10\": 7, \"13\": 1}, \"6\": {\"1\": 18, \"6\": 121, \"7\": 10, \"3\": 5, \"5\": 9, \"9\": 72, \"8\": 2, \"0\": 3}, \"15\": {\"2\": 2, \"15\": 72, \"10\": 19, \"1\": 52, \"13\": 46, \"8\": 18, \"0\": 8, \"5\": 18, \"6\": 3, \"7\": 1, \"9\": 1}, \"11\": {\"14\": 79, \"11\": 134, \"2\": 18, \"12\": 3, \"10\": 1, \"4\": 3, \"13\": 2}, \"9\": {\"9\": 91, \"1\": 8, \"6\": 104, \"15\": 1, \"3\": 22, \"5\": 8, \"7\": 2, \"8\": 3, \"0\": 1}, \"14\": {\"14\": 140, \"11\": 44, \"2\": 26, \"12\": 14, \"10\": 12, \"4\": 1, \"15\": 1, \"13\": 2}, \"10\": {\"12\": 15, \"15\": 24, \"10\": 78, \"8\": 23, \"13\": 30, \"0\": 14, \"1\": 3, \"5\": 4, \"7\": 8, \"11\": 3, \"14\": 18, \"2\": 17, \"4\": 3}, \"5\": {\"8\": 47, \"5\": 52, \"15\": 11, \"0\": 21, \"1\": 24, \"9\": 17, \"6\": 20, \"7\": 30, \"3\": 4, \"10\": 6, \"13\": 7, \"2\": 1}, \"1\": {\"1\": 147, \"15\": 30, \"7\": 1, \"6\": 13, \"0\": 3, \"8\": 6, \"13\": 18, \"5\": 14, \"9\": 8}, \"13\": {\"2\": 23, \"13\": 93, \"15\": 35, \"8\": 12, \"1\": 22, \"10\": 35, \"5\": 12, \"14\": 3, \"0\": 4, \"7\": 1}}, \"O_26\": {\"5\": {\"5\": 44, \"13\": 34, \"3\": 23, \"15\": 40, \"2\": 21, \"9\": 20, \"7\": 13, \"14\": 5, \"1\": 5, \"4\": 5, \"0\": 3, \"10\": 8, \"6\": 11, \"8\": 8}, \"8\": {\"14\": 22, \"1\": 12, \"4\": 14, \"9\": 18, \"13\": 4, \"6\": 25, \"7\": 15, \"8\": 25, \"10\": 31, \"2\": 12, \"3\": 10, \"15\": 17, \"0\": 26, \"5\": 8, \"12\": 1}, \"4\": {\"1\": 37, \"15\": 6, \"9\": 12, \"4\": 28, \"3\": 14, \"13\": 3, \"6\": 11, \"10\": 20, \"14\": 25, \"8\": 20, \"0\": 29, \"5\": 3, \"7\": 23, \"2\": 8, \"12\": 1}, \"12\": {\"12\": 208, \"9\": 2, \"11\": 21, \"0\": 1, \"10\": 3, \"6\": 3, \"1\": 2}, \"6\": {\"13\": 13, \"4\": 13, \"1\": 12, \"5\": 15, \"15\": 23, \"6\": 53, \"10\": 28, \"9\": 22, \"8\": 22, \"7\": 2, \"2\": 4, \"14\": 9, \"0\": 18, \"12\": 5, \"3\": 1}, \"7\": {\"2\": 32, \"0\": 6, \"9\": 17, \"4\": 28, \"13\": 4, \"6\": 5, \"15\": 14, \"3\": 32, \"1\": 12, \"7\": 42, \"14\": 19, \"8\": 13, \"10\": 10, \"5\": 6}, \"10\": {\"0\": 18, \"1\": 22, \"9\": 15, \"14\": 21, \"10\": 31, \"7\": 7, \"6\": 34, \"8\": 19, \"4\": 32, \"15\": 11, \"13\": 11, \"5\": 11, \"12\": 1, \"2\": 3, \"3\": 4}, \"0\": {\"10\": 39, \"14\": 30, \"0\": 34, \"3\": 6, \"7\": 13, \"9\": 23, \"4\": 28, \"1\": 19, \"6\": 16, \"5\": 4, \"2\": 4, \"8\": 17, \"15\": 5, \"13\": 1, \"12\": 1}, \"15\": {\"0\": 15, \"5\": 29, \"14\": 2, \"9\": 26, \"13\": 26, \"6\": 21, \"15\": 39, \"10\": 20, \"7\": 15, \"2\": 16, \"1\": 3, \"8\": 12, \"3\": 9, \"4\": 7}, \"9\": {\"8\": 17, \"6\": 31, \"7\": 9, \"1\": 11, \"2\": 11, \"9\": 48, \"13\": 13, \"0\": 17, \"4\": 12, \"3\": 13, \"15\": 22, \"14\": 6, \"10\": 12, \"12\": 1, \"5\": 17}, \"11\": {\"11\": 216, \"12\": 21, \"5\": 1, \"9\": 1, \"8\": 1}, \"14\": {\"3\": 4, \"7\": 20, \"0\": 25, \"6\": 23, \"15\": 11, \"10\": 31, \"9\": 20, \"14\": 29, \"4\": 20, \"13\": 3, \"8\": 19, \"1\": 26, \"2\": 5, \"5\": 4}, \"2\": {\"4\": 13, \"8\": 9, \"7\": 20, \"3\": 40, \"5\": 29, \"2\": 45, \"15\": 23, \"14\": 8, \"0\": 1, \"13\": 20, \"9\": 18, \"6\": 5, \"10\": 4, \"1\": 5}, \"13\": {\"15\": 41, \"10\": 7, \"13\": 58, \"2\": 14, \"5\": 64, \"6\": 12, \"9\": 22, \"4\": 3, \"8\": 6, \"0\": 1, \"3\": 8, \"7\": 3, \"1\": 1}, \"3\": {\"3\": 67, \"5\": 19, \"2\": 34, \"8\": 13, \"14\": 6, \"0\": 7, \"15\": 18, \"1\": 6, \"7\": 26, \"9\": 18, \"13\": 8, \"6\": 2, \"4\": 12, \"10\": 4}, \"1\": {\"14\": 32, \"8\": 15, \"1\": 48, \"4\": 41, \"7\": 15, \"10\": 23, \"0\": 24, \"9\": 15, \"6\": 6, \"3\": 4, \"5\": 3, \"15\": 3, \"12\": 3, \"13\": 2, \"2\": 6}}}, \"per_domain_accuracy\": {\"C_4\": {\"accuracy\": 0.9992424242424243, \"source?\": true}, \"C_2\": {\"accuracy\": 0.9998244382022472, \"source?\": true}, \"C_3\": {\"accuracy\": 0.9992559523809523, \"source?\": true}, \"C_1\": {\"accuracy\": 0.9989864864864865, \"source?\": true}, \"C_5\": {\"accuracy\": 0.9998254189944135, \"source?\": true}, \"O_50\": {\"accuracy\": 0.44453125, \"source?\": false}, \"O_14\": {\"accuracy\": 0.425, \"source?\": false}, \"O_32\": {\"accuracy\": 0.5130208333333334, \"source?\": false}, \"O_44\": {\"accuracy\": 0.3809895833333333, \"source?\": false}, \"O_8\": {\"accuracy\": 0.31484375, \"source?\": false}, \"O_20\": {\"accuracy\": 0.20390625, \"source?\": false}, \"O_38\": {\"accuracy\": 0.47109375, \"source?\": false}, \"O_26\": {\"accuracy\": 0.2643229166666667, \"source?\": false}}}, \"history\": {\"epoch_indices\": [1, 2, 3, 4, 5, 6, 7, 8], \"train_label_loss\": [0.03218343245758601, 0.008660800088880972, 0.004903092803234626, 0.004972340870432322, 0.004197748110985552, 0.0031182869818083157, 0.0029832271078113148, 0.002411560752600637], \"source_val_label_loss\": [0.00816406961530447, 0.008134997449815273, 0.005427810829132795, 0.0058229658752679825, 0.005143948830664158, 0.00859216321259737, 0.007153981830924749, 0.0074536604806780815], \"target_val_label_loss\": [2.2969930171966553, 2.6917049884796143, 2.5813353061676025, 2.1261610984802246, 3.5047783851623535, 3.5536229610443115, 3.627378463745117, 3.80928897857666], \"source_val_acc_label\": [0.9977857142857143, 0.9988214285714285, 0.9991785714285715, 0.9994285714285714, 0.9993928571428572, 0.9989285714285714, 0.9991071428571429, 0.9992857142857143], \"target_val_acc_label\": [0.2628580729166667, 0.27301432291666666, 0.31292317708333334, 0.37721354166666665, 0.26897786458333334, 0.29241536458333334, 0.267578125, 0.28688151041666665]}, \"dataset_metrics\": {\"source\": {\"train\": {\"n_unique_x\": 175174, \"n_unique_y\": 58, \"n_batch/episode\": 6311}, \"val\": {\"n_unique_x\": 37166, \"n_unique_y\": 58, \"n_batch/episode\": 875}, \"test\": {\"n_unique_x\": 37642, \"n_unique_y\": 58, \"n_batch/episode\": 890}}, \"target\": {\"train\": {\"n_unique_x\": 179200, \"n_unique_y\": 16, \"n_batch/episode\": 6720}, \"val\": {\"n_unique_x\": 38400, \"n_unique_y\": 16, \"n_batch/episode\": 960}, \"test\": {\"n_unique_x\": 38400, \"n_unique_y\": 16, \"n_batch/episode\": 960}}}}'"
      ]
     },
     "execution_count": 29,
     "metadata": {},
     "output_type": "execute_result"
    }
   ],
   "source": [
    "json.dumps(experiment)"
   ]
  }
 ],
 "metadata": {
  "celltoolbar": "Tags",
  "kernelspec": {
   "display_name": "Python 3 (ipykernel)",
   "language": "python",
   "name": "python3"
  },
  "language_info": {
   "codemirror_mode": {
    "name": "ipython",
    "version": 3
   },
   "file_extension": ".py",
   "mimetype": "text/x-python",
   "name": "python",
   "nbconvert_exporter": "python",
   "pygments_lexer": "ipython3",
   "version": "3.8.10"
  },
  "papermill": {
   "default_parameters": {},
   "duration": 1390.114282,
   "end_time": "2022-03-25T06:53:30.391484",
   "environment_variables": {},
   "exception": null,
   "input_path": "/mnt/wd500GB/CSC500/csc500-main/csc500-notebooks/templates/tl_ptn_template.ipynb",
   "output_path": "trial.ipynb",
   "parameters": {
    "parameters": {
     "BEST_MODEL_PATH": "./best_model.pth",
     "NUM_LOGS_PER_EPOCH": 10,
     "criteria_for_best": "target_accuracy",
     "dataset_seed": 500,
     "datasets": [
      {
       "domain_prefix": "C_",
       "domains": [
        1,
        2,
        3,
        4,
        5
       ],
       "episode_transforms": [],
       "labels": [
        "1-10.",
        "1-11.",
        "1-15.",
        "1-16.",
        "1-17.",
        "1-18.",
        "1-19.",
        "10-4.",
        "10-7.",
        "11-1.",
        "11-14.",
        "11-17.",
        "11-20.",
        "11-7.",
        "13-20.",
        "13-8.",
        "14-10.",
        "14-11.",
        "14-14.",
        "14-7.",
        "15-1.",
        "15-20.",
        "16-1.",
        "16-16.",
        "17-10.",
        "17-11.",
        "17-2.",
        "19-1.",
        "19-16.",
        "19-19.",
        "19-20.",
        "19-3.",
        "2-10.",
        "2-11.",
        "2-17.",
        "2-18.",
        "2-20.",
        "2-3.",
        "2-4.",
        "2-5.",
        "2-6.",
        "2-7.",
        "2-8.",
        "3-13.",
        "3-18.",
        "3-3.",
        "4-1.",
        "4-10.",
        "4-11.",
        "4-19.",
        "5-5.",
        "6-15.",
        "7-10.",
        "7-14.",
        "8-18.",
        "8-20.",
        "8-3.",
        "8-8."
       ],
       "num_examples_per_domain_per_label": -1,
       "pickle_path": "/mnt/wd500GB/CSC500/csc500-main/datasets/cores.stratified_ds.2022A.pkl",
       "source_or_target_dataset": "source",
       "x_transforms": [
        "unit_power",
        "take_200"
       ]
      },
      {
       "domain_prefix": "O_",
       "domains": [
        32,
        38,
        8,
        44,
        14,
        50,
        20,
        26
       ],
       "episode_transforms": [],
       "labels": [
        "3123D52",
        "3123D65",
        "3123D79",
        "3123D80",
        "3123D54",
        "3123D70",
        "3123D7B",
        "3123D89",
        "3123D58",
        "3123D76",
        "3123D7D",
        "3123EFE",
        "3123D64",
        "3123D78",
        "3123D7E",
        "3124E4A"
       ],
       "num_examples_per_domain_per_label": 2000,
       "pickle_path": "/mnt/wd500GB/CSC500/csc500-main/datasets/oracle.Run1_framed_2000Examples_stratified_ds.2022A.pkl",
       "source_or_target_dataset": "target",
       "x_transforms": [
        "unit_power",
        "take_200",
        "resample_20Msps_to_25Msps"
       ]
      }
     ],
     "device": "cuda",
     "experiment_name": "tl_3Av2:cores -> oracle.run1.framed",
     "lr": 0.0001,
     "n_epoch": 50,
     "n_query": 2,
     "n_shot": 3,
     "n_way": 16,
     "patience": 3,
     "seed": 500,
     "test_k_factor": 2,
     "torch_default_dtype": "torch.float32",
     "train_k_factor": 3,
     "val_k_factor": 2,
     "x_net": [
      {
       "class": "nnReshape",
       "kargs": {
        "shape": [
         -1,
         1,
         2,
         200
        ]
       }
      },
      {
       "class": "Conv2d",
       "kargs": {
        "bias": false,
        "in_channels": 1,
        "kernel_size": [
         1,
         7
        ],
        "out_channels": 256,
        "padding": [
         0,
         3
        ]
       }
      },
      {
       "class": "ReLU",
       "kargs": {
        "inplace": true
       }
      },
      {
       "class": "BatchNorm2d",
       "kargs": {
        "num_features": 256
       }
      },
      {
       "class": "Conv2d",
       "kargs": {
        "bias": true,
        "in_channels": 256,
        "kernel_size": [
         2,
         7
        ],
        "out_channels": 80,
        "padding": [
         0,
         3
        ]
       }
      },
      {
       "class": "ReLU",
       "kargs": {
        "inplace": true
       }
      },
      {
       "class": "BatchNorm2d",
       "kargs": {
        "num_features": 80
       }
      },
      {
       "class": "Flatten",
       "kargs": {}
      },
      {
       "class": "Linear",
       "kargs": {
        "in_features": 16000,
        "out_features": 256
       }
      },
      {
       "class": "ReLU",
       "kargs": {
        "inplace": true
       }
      },
      {
       "class": "BatchNorm1d",
       "kargs": {
        "num_features": 256
       }
      },
      {
       "class": "Linear",
       "kargs": {
        "in_features": 256,
        "out_features": 256
       }
      }
     ],
     "x_shape": [
      2,
      200
     ]
    }
   },
   "start_time": "2022-03-25T06:30:20.277202",
   "version": "2.3.4"
  }
 },
 "nbformat": 4,
 "nbformat_minor": 5
}