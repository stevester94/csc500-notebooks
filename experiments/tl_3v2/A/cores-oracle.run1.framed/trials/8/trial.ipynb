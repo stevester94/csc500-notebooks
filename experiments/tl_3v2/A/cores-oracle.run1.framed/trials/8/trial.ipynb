{
 "cells": [
  {
   "cell_type": "markdown",
   "id": "9fea5f46",
   "metadata": {
    "papermill": {
     "duration": 0.018521,
     "end_time": "2022-03-25T04:45:58.334058",
     "exception": false,
     "start_time": "2022-03-25T04:45:58.315537",
     "status": "completed"
    },
    "tags": []
   },
   "source": [
    "# Transfer Learning Template"
   ]
  },
  {
   "cell_type": "code",
   "execution_count": 1,
   "id": "0902182a",
   "metadata": {
    "execution": {
     "iopub.execute_input": "2022-03-25T04:45:58.368481Z",
     "iopub.status.busy": "2022-03-25T04:45:58.368216Z",
     "iopub.status.idle": "2022-03-25T04:45:59.280471Z",
     "shell.execute_reply": "2022-03-25T04:45:59.280175Z"
    },
    "papermill": {
     "duration": 0.93374,
     "end_time": "2022-03-25T04:45:59.280538",
     "exception": false,
     "start_time": "2022-03-25T04:45:58.346798",
     "status": "completed"
    },
    "tags": []
   },
   "outputs": [],
   "source": [
    "%load_ext autoreload\n",
    "%autoreload 2\n",
    "%matplotlib inline\n",
    "\n",
    "    \n",
    "import os, json, sys, time, random\n",
    "import numpy as np\n",
    "import torch\n",
    "from torch.optim import Adam\n",
    "from  easydict import EasyDict\n",
    "import matplotlib.pyplot as plt\n",
    "\n",
    "from steves_models.steves_ptn import Steves_Prototypical_Network\n",
    "\n",
    "from steves_utils.lazy_iterable_wrapper import Lazy_Iterable_Wrapper\n",
    "from steves_utils.iterable_aggregator import Iterable_Aggregator\n",
    "from steves_utils.ptn_train_eval_test_jig import  PTN_Train_Eval_Test_Jig\n",
    "from steves_utils.torch_sequential_builder import build_sequential\n",
    "from steves_utils.torch_utils import get_dataset_metrics, ptn_confusion_by_domain_over_dataloader\n",
    "from steves_utils.utils_v2 import (per_domain_accuracy_from_confusion, get_datasets_base_path)\n",
    "from steves_utils.PTN.utils import independent_accuracy_assesment\n",
    "\n",
    "from torch.utils.data import DataLoader\n",
    "\n",
    "from steves_utils.stratified_dataset.episodic_accessor import Episodic_Accessor_Factory\n",
    "\n",
    "from steves_utils.ptn_do_report import (\n",
    "    get_loss_curve,\n",
    "    get_results_table,\n",
    "    get_parameters_table,\n",
    "    get_domain_accuracies,\n",
    ")\n",
    "\n",
    "from steves_utils.transforms import get_chained_transform"
   ]
  },
  {
   "cell_type": "markdown",
   "id": "41c840b4",
   "metadata": {
    "papermill": {
     "duration": 0.012679,
     "end_time": "2022-03-25T04:45:59.306466",
     "exception": false,
     "start_time": "2022-03-25T04:45:59.293787",
     "status": "completed"
    },
    "tags": []
   },
   "source": [
    "# Allowed Parameters\n",
    "These are allowed parameters, not defaults\n",
    "Each of these values need to be present in the injected parameters (the notebook will raise an exception if they are not present)\n",
    "\n",
    "Papermill uses the cell tag \"parameters\" to inject the real parameters below this cell.\n",
    "Enable tags to see what I mean"
   ]
  },
  {
   "cell_type": "code",
   "execution_count": 2,
   "id": "fd44eb83",
   "metadata": {
    "execution": {
     "iopub.execute_input": "2022-03-25T04:45:59.334806Z",
     "iopub.status.busy": "2022-03-25T04:45:59.334544Z",
     "iopub.status.idle": "2022-03-25T04:45:59.351481Z",
     "shell.execute_reply": "2022-03-25T04:45:59.351007Z"
    },
    "papermill": {
     "duration": 0.032444,
     "end_time": "2022-03-25T04:45:59.351583",
     "exception": false,
     "start_time": "2022-03-25T04:45:59.319139",
     "status": "completed"
    },
    "tags": []
   },
   "outputs": [],
   "source": [
    "required_parameters = {\n",
    "    \"experiment_name\",\n",
    "    \"lr\",\n",
    "    \"device\",\n",
    "    \"seed\",\n",
    "    \"dataset_seed\",\n",
    "    \"n_shot\",\n",
    "    \"n_query\",\n",
    "    \"n_way\",\n",
    "    \"train_k_factor\",\n",
    "    \"val_k_factor\",\n",
    "    \"test_k_factor\",\n",
    "    \"n_epoch\",\n",
    "    \"patience\",\n",
    "    \"criteria_for_best\",\n",
    "    \"x_net\",\n",
    "    \"datasets\",\n",
    "    \"torch_default_dtype\",\n",
    "    \"NUM_LOGS_PER_EPOCH\",\n",
    "    \"BEST_MODEL_PATH\",\n",
    "    \"x_shape\",\n",
    "}"
   ]
  },
  {
   "cell_type": "code",
   "execution_count": 3,
   "id": "fa3f0049",
   "metadata": {
    "execution": {
     "iopub.execute_input": "2022-03-25T04:45:59.392162Z",
     "iopub.status.busy": "2022-03-25T04:45:59.391875Z",
     "iopub.status.idle": "2022-03-25T04:45:59.405177Z",
     "shell.execute_reply": "2022-03-25T04:45:59.405388Z"
    },
    "papermill": {
     "duration": 0.035509,
     "end_time": "2022-03-25T04:45:59.405463",
     "exception": false,
     "start_time": "2022-03-25T04:45:59.369954",
     "status": "completed"
    },
    "tags": [
     "parameters"
    ]
   },
   "outputs": [],
   "source": [
    "from steves_utils.CORES.utils import (\n",
    "    ALL_NODES,\n",
    "    ALL_NODES_MINIMUM_1000_EXAMPLES,\n",
    "    ALL_DAYS\n",
    ")\n",
    "\n",
    "from steves_utils.ORACLE.utils_v2 import (\n",
    "    ALL_DISTANCES_FEET_NARROWED,\n",
    "    ALL_RUNS,\n",
    "    ALL_SERIAL_NUMBERS,\n",
    ")\n",
    "\n",
    "standalone_parameters = {}\n",
    "standalone_parameters[\"experiment_name\"] = \"STANDALONE PTN\"\n",
    "standalone_parameters[\"lr\"] = 0.001\n",
    "standalone_parameters[\"device\"] = \"cuda\"\n",
    "\n",
    "standalone_parameters[\"seed\"] = 1337\n",
    "standalone_parameters[\"dataset_seed\"] = 1337\n",
    "\n",
    "standalone_parameters[\"n_way\"] = 8\n",
    "standalone_parameters[\"n_shot\"] = 3\n",
    "standalone_parameters[\"n_query\"]  = 2\n",
    "standalone_parameters[\"train_k_factor\"] = 1\n",
    "standalone_parameters[\"val_k_factor\"] = 2\n",
    "standalone_parameters[\"test_k_factor\"] = 2\n",
    "\n",
    "\n",
    "standalone_parameters[\"n_epoch\"] = 50\n",
    "\n",
    "standalone_parameters[\"patience\"] = 10\n",
    "standalone_parameters[\"criteria_for_best\"] = \"source_loss\"\n",
    "\n",
    "standalone_parameters[\"datasets\"] = [\n",
    "    {\n",
    "        \"labels\": ALL_SERIAL_NUMBERS,\n",
    "        \"domains\": ALL_DISTANCES_FEET_NARROWED,\n",
    "        \"num_examples_per_domain_per_label\": 100,\n",
    "        \"pickle_path\": os.path.join(get_datasets_base_path(), \"oracle.Run1_framed_2000Examples_stratified_ds.2022A.pkl\"),\n",
    "        \"source_or_target_dataset\": \"source\",\n",
    "        \"x_transforms\": [\"unit_mag\", \"minus_two\"],\n",
    "        \"episode_transforms\": [],\n",
    "        \"domain_prefix\": \"ORACLE_\"\n",
    "    },\n",
    "    {\n",
    "        \"labels\": ALL_NODES,\n",
    "        \"domains\": ALL_DAYS,\n",
    "        \"num_examples_per_domain_per_label\": 100,\n",
    "        \"pickle_path\": os.path.join(get_datasets_base_path(), \"cores.stratified_ds.2022A.pkl\"),\n",
    "        \"source_or_target_dataset\": \"target\",\n",
    "        \"x_transforms\": [\"unit_power\", \"times_zero\"],\n",
    "        \"episode_transforms\": [],\n",
    "        \"domain_prefix\": \"CORES_\"\n",
    "    }   \n",
    "]\n",
    "\n",
    "standalone_parameters[\"torch_default_dtype\"] = \"torch.float32\" \n",
    "\n",
    "\n",
    "\n",
    "standalone_parameters[\"x_net\"] =     [\n",
    "    {\"class\": \"nnReshape\", \"kargs\": {\"shape\":[-1, 1, 2, 256]}},\n",
    "    {\"class\": \"Conv2d\", \"kargs\": { \"in_channels\":1, \"out_channels\":256, \"kernel_size\":(1,7), \"bias\":False, \"padding\":(0,3), },},\n",
    "    {\"class\": \"ReLU\", \"kargs\": {\"inplace\": True}},\n",
    "    {\"class\": \"BatchNorm2d\", \"kargs\": {\"num_features\":256}},\n",
    "\n",
    "    {\"class\": \"Conv2d\", \"kargs\": { \"in_channels\":256, \"out_channels\":80, \"kernel_size\":(2,7), \"bias\":True, \"padding\":(0,3), },},\n",
    "    {\"class\": \"ReLU\", \"kargs\": {\"inplace\": True}},\n",
    "    {\"class\": \"BatchNorm2d\", \"kargs\": {\"num_features\":80}},\n",
    "    {\"class\": \"Flatten\", \"kargs\": {}},\n",
    "\n",
    "    {\"class\": \"Linear\", \"kargs\": {\"in_features\": 80*256, \"out_features\": 256}}, # 80 units per IQ pair\n",
    "    {\"class\": \"ReLU\", \"kargs\": {\"inplace\": True}},\n",
    "    {\"class\": \"BatchNorm1d\", \"kargs\": {\"num_features\":256}},\n",
    "\n",
    "    {\"class\": \"Linear\", \"kargs\": {\"in_features\": 256, \"out_features\": 256}},\n",
    "]\n",
    "\n",
    "# Parameters relevant to results\n",
    "# These parameters will basically never need to change\n",
    "standalone_parameters[\"NUM_LOGS_PER_EPOCH\"] = 10\n",
    "standalone_parameters[\"BEST_MODEL_PATH\"] = \"./best_model.pth\"\n",
    "\n",
    "\n",
    "\n",
    "\n"
   ]
  },
  {
   "cell_type": "code",
   "execution_count": 4,
   "id": "3cfb27ff",
   "metadata": {
    "execution": {
     "iopub.execute_input": "2022-03-25T04:45:59.442698Z",
     "iopub.status.busy": "2022-03-25T04:45:59.442391Z",
     "iopub.status.idle": "2022-03-25T04:45:59.454964Z",
     "shell.execute_reply": "2022-03-25T04:45:59.454739Z"
    },
    "papermill": {
     "duration": 0.036526,
     "end_time": "2022-03-25T04:45:59.455021",
     "exception": false,
     "start_time": "2022-03-25T04:45:59.418495",
     "status": "completed"
    },
    "tags": [
     "injected-parameters"
    ]
   },
   "outputs": [],
   "source": [
    "# Parameters\n",
    "parameters = {\n",
    "    \"experiment_name\": \"tl_3Av2:cores -> oracle.run1.framed\",\n",
    "    \"device\": \"cuda\",\n",
    "    \"lr\": 0.0001,\n",
    "    \"x_shape\": [2, 200],\n",
    "    \"n_shot\": 3,\n",
    "    \"n_query\": 2,\n",
    "    \"train_k_factor\": 3,\n",
    "    \"val_k_factor\": 2,\n",
    "    \"test_k_factor\": 2,\n",
    "    \"torch_default_dtype\": \"torch.float32\",\n",
    "    \"n_epoch\": 50,\n",
    "    \"patience\": 3,\n",
    "    \"criteria_for_best\": \"target_accuracy\",\n",
    "    \"x_net\": [\n",
    "        {\"class\": \"nnReshape\", \"kargs\": {\"shape\": [-1, 1, 2, 200]}},\n",
    "        {\n",
    "            \"class\": \"Conv2d\",\n",
    "            \"kargs\": {\n",
    "                \"in_channels\": 1,\n",
    "                \"out_channels\": 256,\n",
    "                \"kernel_size\": [1, 7],\n",
    "                \"bias\": False,\n",
    "                \"padding\": [0, 3],\n",
    "            },\n",
    "        },\n",
    "        {\"class\": \"ReLU\", \"kargs\": {\"inplace\": True}},\n",
    "        {\"class\": \"BatchNorm2d\", \"kargs\": {\"num_features\": 256}},\n",
    "        {\n",
    "            \"class\": \"Conv2d\",\n",
    "            \"kargs\": {\n",
    "                \"in_channels\": 256,\n",
    "                \"out_channels\": 80,\n",
    "                \"kernel_size\": [2, 7],\n",
    "                \"bias\": True,\n",
    "                \"padding\": [0, 3],\n",
    "            },\n",
    "        },\n",
    "        {\"class\": \"ReLU\", \"kargs\": {\"inplace\": True}},\n",
    "        {\"class\": \"BatchNorm2d\", \"kargs\": {\"num_features\": 80}},\n",
    "        {\"class\": \"Flatten\", \"kargs\": {}},\n",
    "        {\"class\": \"Linear\", \"kargs\": {\"in_features\": 16000, \"out_features\": 256}},\n",
    "        {\"class\": \"ReLU\", \"kargs\": {\"inplace\": True}},\n",
    "        {\"class\": \"BatchNorm1d\", \"kargs\": {\"num_features\": 256}},\n",
    "        {\"class\": \"Linear\", \"kargs\": {\"in_features\": 256, \"out_features\": 256}},\n",
    "    ],\n",
    "    \"NUM_LOGS_PER_EPOCH\": 10,\n",
    "    \"BEST_MODEL_PATH\": \"./best_model.pth\",\n",
    "    \"n_way\": 16,\n",
    "    \"datasets\": [\n",
    "        {\n",
    "            \"labels\": [\n",
    "                \"1-10.\",\n",
    "                \"1-11.\",\n",
    "                \"1-15.\",\n",
    "                \"1-16.\",\n",
    "                \"1-17.\",\n",
    "                \"1-18.\",\n",
    "                \"1-19.\",\n",
    "                \"10-4.\",\n",
    "                \"10-7.\",\n",
    "                \"11-1.\",\n",
    "                \"11-14.\",\n",
    "                \"11-17.\",\n",
    "                \"11-20.\",\n",
    "                \"11-7.\",\n",
    "                \"13-20.\",\n",
    "                \"13-8.\",\n",
    "                \"14-10.\",\n",
    "                \"14-11.\",\n",
    "                \"14-14.\",\n",
    "                \"14-7.\",\n",
    "                \"15-1.\",\n",
    "                \"15-20.\",\n",
    "                \"16-1.\",\n",
    "                \"16-16.\",\n",
    "                \"17-10.\",\n",
    "                \"17-11.\",\n",
    "                \"17-2.\",\n",
    "                \"19-1.\",\n",
    "                \"19-16.\",\n",
    "                \"19-19.\",\n",
    "                \"19-20.\",\n",
    "                \"19-3.\",\n",
    "                \"2-10.\",\n",
    "                \"2-11.\",\n",
    "                \"2-17.\",\n",
    "                \"2-18.\",\n",
    "                \"2-20.\",\n",
    "                \"2-3.\",\n",
    "                \"2-4.\",\n",
    "                \"2-5.\",\n",
    "                \"2-6.\",\n",
    "                \"2-7.\",\n",
    "                \"2-8.\",\n",
    "                \"3-13.\",\n",
    "                \"3-18.\",\n",
    "                \"3-3.\",\n",
    "                \"4-1.\",\n",
    "                \"4-10.\",\n",
    "                \"4-11.\",\n",
    "                \"4-19.\",\n",
    "                \"5-5.\",\n",
    "                \"6-15.\",\n",
    "                \"7-10.\",\n",
    "                \"7-14.\",\n",
    "                \"8-18.\",\n",
    "                \"8-20.\",\n",
    "                \"8-3.\",\n",
    "                \"8-8.\",\n",
    "            ],\n",
    "            \"domains\": [1, 2, 3, 4, 5],\n",
    "            \"num_examples_per_domain_per_label\": -1,\n",
    "            \"pickle_path\": \"/mnt/wd500GB/CSC500/csc500-main/datasets/cores.stratified_ds.2022A.pkl\",\n",
    "            \"source_or_target_dataset\": \"source\",\n",
    "            \"x_transforms\": [\"take_200\"],\n",
    "            \"episode_transforms\": [],\n",
    "            \"domain_prefix\": \"C_\",\n",
    "        },\n",
    "        {\n",
    "            \"labels\": [\n",
    "                \"3123D52\",\n",
    "                \"3123D65\",\n",
    "                \"3123D79\",\n",
    "                \"3123D80\",\n",
    "                \"3123D54\",\n",
    "                \"3123D70\",\n",
    "                \"3123D7B\",\n",
    "                \"3123D89\",\n",
    "                \"3123D58\",\n",
    "                \"3123D76\",\n",
    "                \"3123D7D\",\n",
    "                \"3123EFE\",\n",
    "                \"3123D64\",\n",
    "                \"3123D78\",\n",
    "                \"3123D7E\",\n",
    "                \"3124E4A\",\n",
    "            ],\n",
    "            \"domains\": [32, 38, 8, 44, 14, 50, 20, 26],\n",
    "            \"num_examples_per_domain_per_label\": 2000,\n",
    "            \"pickle_path\": \"/mnt/wd500GB/CSC500/csc500-main/datasets/oracle.Run1_framed_2000Examples_stratified_ds.2022A.pkl\",\n",
    "            \"source_or_target_dataset\": \"target\",\n",
    "            \"x_transforms\": [\"take_200\", \"resample_20Msps_to_25Msps\"],\n",
    "            \"episode_transforms\": [],\n",
    "            \"domain_prefix\": \"O_\",\n",
    "        },\n",
    "    ],\n",
    "    \"seed\": 154325,\n",
    "    \"dataset_seed\": 154325,\n",
    "}\n"
   ]
  },
  {
   "cell_type": "code",
   "execution_count": 5,
   "id": "8fa1cc33",
   "metadata": {
    "execution": {
     "iopub.execute_input": "2022-03-25T04:45:59.485201Z",
     "iopub.status.busy": "2022-03-25T04:45:59.484923Z",
     "iopub.status.idle": "2022-03-25T04:45:59.499492Z",
     "shell.execute_reply": "2022-03-25T04:45:59.499067Z"
    },
    "papermill": {
     "duration": 0.031584,
     "end_time": "2022-03-25T04:45:59.499592",
     "exception": false,
     "start_time": "2022-03-25T04:45:59.468008",
     "status": "completed"
    },
    "tags": []
   },
   "outputs": [],
   "source": [
    "# Set this to True if you want to run this template directly\n",
    "STANDALONE = False\n",
    "if STANDALONE:\n",
    "    print(\"parameters not injected, running with standalone_parameters\")\n",
    "    parameters = standalone_parameters\n",
    "\n",
    "if not 'parameters' in locals() and not 'parameters' in globals():\n",
    "    raise Exception(\"Parameter injection failed\")\n",
    "\n",
    "#Use an easy dict for all the parameters\n",
    "p = EasyDict(parameters)\n",
    "\n",
    "if \"x_shape\" not in p:\n",
    "    p.x_shape = [2,256] # Default to this if we dont supply x_shape\n",
    "\n",
    "\n",
    "supplied_keys = set(p.keys())\n",
    "\n",
    "if  supplied_keys != required_parameters:\n",
    "    print(\"Parameters are incorrect\")\n",
    "    if len(supplied_keys - required_parameters)>0: print(\"Shouldn't have:\", str(supplied_keys - required_parameters))\n",
    "    if len(required_parameters - supplied_keys)>0: print(\"Need to have:\", str(required_parameters - supplied_keys))\n",
    "    raise RuntimeError(\"Parameters are incorrect\")"
   ]
  },
  {
   "cell_type": "code",
   "execution_count": 6,
   "id": "3a028d58",
   "metadata": {
    "execution": {
     "iopub.execute_input": "2022-03-25T04:45:59.533538Z",
     "iopub.status.busy": "2022-03-25T04:45:59.533282Z",
     "iopub.status.idle": "2022-03-25T04:45:59.549153Z",
     "shell.execute_reply": "2022-03-25T04:45:59.548722Z"
    },
    "papermill": {
     "duration": 0.03144,
     "end_time": "2022-03-25T04:45:59.549252",
     "exception": false,
     "start_time": "2022-03-25T04:45:59.517812",
     "status": "completed"
    },
    "tags": []
   },
   "outputs": [],
   "source": [
    "###################################\n",
    "# Set the RNGs and make it all deterministic\n",
    "###################################\n",
    "np.random.seed(p.seed)\n",
    "random.seed(p.seed)\n",
    "torch.manual_seed(p.seed)\n",
    "\n",
    "torch.use_deterministic_algorithms(True) "
   ]
  },
  {
   "cell_type": "code",
   "execution_count": 7,
   "id": "b691acf6",
   "metadata": {
    "execution": {
     "iopub.execute_input": "2022-03-25T04:45:59.582825Z",
     "iopub.status.busy": "2022-03-25T04:45:59.582574Z",
     "iopub.status.idle": "2022-03-25T04:45:59.597638Z",
     "shell.execute_reply": "2022-03-25T04:45:59.597234Z"
    },
    "papermill": {
     "duration": 0.030655,
     "end_time": "2022-03-25T04:45:59.597739",
     "exception": false,
     "start_time": "2022-03-25T04:45:59.567084",
     "status": "completed"
    },
    "tags": []
   },
   "outputs": [],
   "source": [
    "###########################################\n",
    "# The stratified datasets honor this\n",
    "###########################################\n",
    "torch.set_default_dtype(eval(p.torch_default_dtype))"
   ]
  },
  {
   "cell_type": "code",
   "execution_count": 8,
   "id": "b5fba671",
   "metadata": {
    "execution": {
     "iopub.execute_input": "2022-03-25T04:45:59.632529Z",
     "iopub.status.busy": "2022-03-25T04:45:59.632276Z",
     "iopub.status.idle": "2022-03-25T04:45:59.664331Z",
     "shell.execute_reply": "2022-03-25T04:45:59.663865Z"
    },
    "papermill": {
     "duration": 0.047297,
     "end_time": "2022-03-25T04:45:59.664437",
     "exception": false,
     "start_time": "2022-03-25T04:45:59.617140",
     "status": "completed"
    },
    "tags": []
   },
   "outputs": [],
   "source": [
    "###################################\n",
    "# Build the network(s)\n",
    "# Note: It's critical to do this AFTER setting the RNG\n",
    "###################################\n",
    "x_net = build_sequential(p.x_net)"
   ]
  },
  {
   "cell_type": "code",
   "execution_count": 9,
   "id": "5d7e61cc",
   "metadata": {
    "execution": {
     "iopub.execute_input": "2022-03-25T04:45:59.698976Z",
     "iopub.status.busy": "2022-03-25T04:45:59.698722Z",
     "iopub.status.idle": "2022-03-25T04:45:59.718415Z",
     "shell.execute_reply": "2022-03-25T04:45:59.717947Z"
    },
    "papermill": {
     "duration": 0.035187,
     "end_time": "2022-03-25T04:45:59.718522",
     "exception": false,
     "start_time": "2022-03-25T04:45:59.683335",
     "status": "completed"
    },
    "tags": []
   },
   "outputs": [],
   "source": [
    "start_time_secs = time.time()"
   ]
  },
  {
   "cell_type": "code",
   "execution_count": 10,
   "id": "c6b67dfd",
   "metadata": {
    "execution": {
     "iopub.execute_input": "2022-03-25T04:45:59.753950Z",
     "iopub.status.busy": "2022-03-25T04:45:59.753696Z",
     "iopub.status.idle": "2022-03-25T04:45:59.765372Z",
     "shell.execute_reply": "2022-03-25T04:45:59.764925Z"
    },
    "papermill": {
     "duration": 0.027608,
     "end_time": "2022-03-25T04:45:59.765472",
     "exception": false,
     "start_time": "2022-03-25T04:45:59.737864",
     "status": "completed"
    },
    "tags": []
   },
   "outputs": [],
   "source": [
    "p.domains_source = []\n",
    "p.domains_target = []\n",
    "\n",
    "\n",
    "train_original_source = []\n",
    "val_original_source   = []\n",
    "test_original_source  = []\n",
    "\n",
    "train_original_target = []\n",
    "val_original_target   = []\n",
    "test_original_target  = []"
   ]
  },
  {
   "cell_type": "code",
   "execution_count": 11,
   "id": "e3d9c3d3",
   "metadata": {
    "execution": {
     "iopub.execute_input": "2022-03-25T04:45:59.797375Z",
     "iopub.status.busy": "2022-03-25T04:45:59.796845Z",
     "iopub.status.idle": "2022-03-25T04:45:59.812940Z",
     "shell.execute_reply": "2022-03-25T04:45:59.812459Z"
    },
    "papermill": {
     "duration": 0.031487,
     "end_time": "2022-03-25T04:45:59.813039",
     "exception": false,
     "start_time": "2022-03-25T04:45:59.781552",
     "status": "completed"
    },
    "tags": []
   },
   "outputs": [],
   "source": [
    "# global_x_transform_func = lambda x: normalize(x.to(torch.get_default_dtype()), \"unit_power\") # unit_power, unit_mag\n",
    "# global_x_transform_func = lambda x: normalize(x, \"unit_power\") # unit_power, unit_mag"
   ]
  },
  {
   "cell_type": "code",
   "execution_count": 12,
   "id": "acb78fd2",
   "metadata": {
    "execution": {
     "iopub.execute_input": "2022-03-25T04:45:59.854535Z",
     "iopub.status.busy": "2022-03-25T04:45:59.849560Z",
     "iopub.status.idle": "2022-03-25T04:45:59.864978Z",
     "shell.execute_reply": "2022-03-25T04:45:59.864558Z"
    },
    "papermill": {
     "duration": 0.033573,
     "end_time": "2022-03-25T04:45:59.865080",
     "exception": false,
     "start_time": "2022-03-25T04:45:59.831507",
     "status": "completed"
    },
    "tags": []
   },
   "outputs": [],
   "source": [
    "def add_dataset(\n",
    "    labels,\n",
    "    domains,\n",
    "    pickle_path,\n",
    "    x_transforms,\n",
    "    episode_transforms,\n",
    "    domain_prefix,\n",
    "    num_examples_per_domain_per_label,\n",
    "    source_or_target_dataset:str,\n",
    "    iterator_seed=p.seed,\n",
    "    dataset_seed=p.dataset_seed,\n",
    "    n_shot=p.n_shot,\n",
    "    n_way=p.n_way,\n",
    "    n_query=p.n_query,\n",
    "    train_val_test_k_factors=(p.train_k_factor,p.val_k_factor,p.test_k_factor),\n",
    "):\n",
    "   \n",
    "    if x_transforms == []: x_transform = None\n",
    "    else: x_transform = get_chained_transform(x_transforms)\n",
    "    \n",
    "    if episode_transforms == []: episode_transform = None\n",
    "    else: raise Exception(\"episode_transforms not implemented\")\n",
    "    \n",
    "    episode_transform = lambda tup, _prefix=domain_prefix: (_prefix + str(tup[0]), tup[1])\n",
    "\n",
    "\n",
    "    eaf = Episodic_Accessor_Factory(\n",
    "        labels=labels,\n",
    "        domains=domains,\n",
    "        num_examples_per_domain_per_label=num_examples_per_domain_per_label,\n",
    "        iterator_seed=iterator_seed,\n",
    "        dataset_seed=dataset_seed,\n",
    "        n_shot=n_shot,\n",
    "        n_way=n_way,\n",
    "        n_query=n_query,\n",
    "        train_val_test_k_factors=train_val_test_k_factors,\n",
    "        pickle_path=pickle_path,\n",
    "        x_transform_func=x_transform,\n",
    "    )\n",
    "\n",
    "    train, val, test = eaf.get_train(), eaf.get_val(), eaf.get_test()\n",
    "    train = Lazy_Iterable_Wrapper(train, episode_transform)\n",
    "    val = Lazy_Iterable_Wrapper(val, episode_transform)\n",
    "    test = Lazy_Iterable_Wrapper(test, episode_transform)\n",
    "\n",
    "    if source_or_target_dataset==\"source\":\n",
    "        train_original_source.append(train)\n",
    "        val_original_source.append(val)\n",
    "        test_original_source.append(test)\n",
    "\n",
    "        p.domains_source.extend(\n",
    "            [domain_prefix + str(u) for u in domains]\n",
    "        )\n",
    "    elif source_or_target_dataset==\"target\":\n",
    "        train_original_target.append(train)\n",
    "        val_original_target.append(val)\n",
    "        test_original_target.append(test)\n",
    "        p.domains_target.extend(\n",
    "            [domain_prefix + str(u) for u in domains]\n",
    "        )\n",
    "    else:\n",
    "        raise Exception(f\"invalid source_or_target_dataset: {source_or_target_dataset}\")\n",
    "    "
   ]
  },
  {
   "cell_type": "code",
   "execution_count": 13,
   "id": "fe266617",
   "metadata": {
    "execution": {
     "iopub.execute_input": "2022-03-25T04:45:59.901264Z",
     "iopub.status.busy": "2022-03-25T04:45:59.901005Z",
     "iopub.status.idle": "2022-03-25T04:46:16.066202Z",
     "shell.execute_reply": "2022-03-25T04:46:16.065726Z"
    },
    "papermill": {
     "duration": 16.182879,
     "end_time": "2022-03-25T04:46:16.066312",
     "exception": false,
     "start_time": "2022-03-25T04:45:59.883433",
     "status": "completed"
    },
    "tags": []
   },
   "outputs": [],
   "source": [
    "for ds in p.datasets:\n",
    "    add_dataset(**ds)"
   ]
  },
  {
   "cell_type": "code",
   "execution_count": 14,
   "id": "b90d65ac",
   "metadata": {
    "execution": {
     "iopub.execute_input": "2022-03-25T04:46:16.102882Z",
     "iopub.status.busy": "2022-03-25T04:46:16.102337Z",
     "iopub.status.idle": "2022-03-25T04:46:16.117233Z",
     "shell.execute_reply": "2022-03-25T04:46:16.116863Z"
    },
    "papermill": {
     "duration": 0.031327,
     "end_time": "2022-03-25T04:46:16.117311",
     "exception": false,
     "start_time": "2022-03-25T04:46:16.085984",
     "status": "completed"
    },
    "tags": []
   },
   "outputs": [],
   "source": [
    "# from steves_utils.CORES.utils import (\n",
    "#     ALL_NODES,\n",
    "#     ALL_NODES_MINIMUM_1000_EXAMPLES,\n",
    "#     ALL_DAYS\n",
    "# )\n",
    "\n",
    "# add_dataset(\n",
    "#     labels=ALL_NODES,\n",
    "#     domains = ALL_DAYS,\n",
    "#     num_examples_per_domain_per_label=100,\n",
    "#     pickle_path=os.path.join(get_datasets_base_path(), \"cores.stratified_ds.2022A.pkl\"),\n",
    "#     source_or_target_dataset=\"target\",\n",
    "#     x_transform_func=global_x_transform_func,\n",
    "#     domain_modifier=lambda u: f\"cores_{u}\"\n",
    "# )"
   ]
  },
  {
   "cell_type": "code",
   "execution_count": 15,
   "id": "76db484d",
   "metadata": {
    "execution": {
     "iopub.execute_input": "2022-03-25T04:46:16.153352Z",
     "iopub.status.busy": "2022-03-25T04:46:16.150697Z",
     "iopub.status.idle": "2022-03-25T04:46:16.161991Z",
     "shell.execute_reply": "2022-03-25T04:46:16.162460Z"
    },
    "papermill": {
     "duration": 0.027364,
     "end_time": "2022-03-25T04:46:16.162585",
     "exception": false,
     "start_time": "2022-03-25T04:46:16.135221",
     "status": "completed"
    },
    "tags": []
   },
   "outputs": [],
   "source": [
    "# from steves_utils.ORACLE.utils_v2 import (\n",
    "#     ALL_DISTANCES_FEET,\n",
    "#     ALL_RUNS,\n",
    "#     ALL_SERIAL_NUMBERS,\n",
    "# )\n",
    "\n",
    "\n",
    "# add_dataset(\n",
    "#     labels=ALL_SERIAL_NUMBERS,\n",
    "#     domains = list(set(ALL_DISTANCES_FEET) - {2,62}),\n",
    "#     num_examples_per_domain_per_label=100,\n",
    "#     pickle_path=os.path.join(get_datasets_base_path(), \"oracle.Run2_framed_2000Examples_stratified_ds.2022A.pkl\"),\n",
    "#     source_or_target_dataset=\"source\",\n",
    "#     x_transform_func=global_x_transform_func,\n",
    "#     domain_modifier=lambda u: f\"oracle1_{u}\"\n",
    "# )\n"
   ]
  },
  {
   "cell_type": "code",
   "execution_count": 16,
   "id": "97dea9d2",
   "metadata": {
    "execution": {
     "iopub.execute_input": "2022-03-25T04:46:16.196244Z",
     "iopub.status.busy": "2022-03-25T04:46:16.195367Z",
     "iopub.status.idle": "2022-03-25T04:46:16.211831Z",
     "shell.execute_reply": "2022-03-25T04:46:16.211463Z"
    },
    "papermill": {
     "duration": 0.032089,
     "end_time": "2022-03-25T04:46:16.211910",
     "exception": false,
     "start_time": "2022-03-25T04:46:16.179821",
     "status": "completed"
    },
    "tags": []
   },
   "outputs": [],
   "source": [
    "# from steves_utils.ORACLE.utils_v2 import (\n",
    "#     ALL_DISTANCES_FEET,\n",
    "#     ALL_RUNS,\n",
    "#     ALL_SERIAL_NUMBERS,\n",
    "# )\n",
    "\n",
    "\n",
    "# add_dataset(\n",
    "#     labels=ALL_SERIAL_NUMBERS,\n",
    "#     domains = list(set(ALL_DISTANCES_FEET) - {2,62,56}),\n",
    "#     num_examples_per_domain_per_label=100,\n",
    "#     pickle_path=os.path.join(get_datasets_base_path(), \"oracle.Run2_framed_2000Examples_stratified_ds.2022A.pkl\"),\n",
    "#     source_or_target_dataset=\"source\",\n",
    "#     x_transform_func=global_x_transform_func,\n",
    "#     domain_modifier=lambda u: f\"oracle2_{u}\"\n",
    "# )"
   ]
  },
  {
   "cell_type": "code",
   "execution_count": 17,
   "id": "6f289866",
   "metadata": {
    "execution": {
     "iopub.execute_input": "2022-03-25T04:46:16.245475Z",
     "iopub.status.busy": "2022-03-25T04:46:16.245222Z",
     "iopub.status.idle": "2022-03-25T04:46:16.260766Z",
     "shell.execute_reply": "2022-03-25T04:46:16.260291Z"
    },
    "papermill": {
     "duration": 0.03121,
     "end_time": "2022-03-25T04:46:16.260865",
     "exception": false,
     "start_time": "2022-03-25T04:46:16.229655",
     "status": "completed"
    },
    "tags": []
   },
   "outputs": [],
   "source": [
    "# add_dataset(\n",
    "#     labels=list(range(19)),\n",
    "#     domains = [0,1,2],\n",
    "#     num_examples_per_domain_per_label=100,\n",
    "#     pickle_path=os.path.join(get_datasets_base_path(), \"metehan.stratified_ds.2022A.pkl\"),\n",
    "#     source_or_target_dataset=\"target\",\n",
    "#     x_transform_func=global_x_transform_func,\n",
    "#     domain_modifier=lambda u: f\"met_{u}\"\n",
    "# )"
   ]
  },
  {
   "cell_type": "code",
   "execution_count": 18,
   "id": "86a863c3",
   "metadata": {
    "execution": {
     "iopub.execute_input": "2022-03-25T04:46:16.295306Z",
     "iopub.status.busy": "2022-03-25T04:46:16.295049Z",
     "iopub.status.idle": "2022-03-25T04:46:16.311531Z",
     "shell.execute_reply": "2022-03-25T04:46:16.311052Z"
    },
    "papermill": {
     "duration": 0.031788,
     "end_time": "2022-03-25T04:46:16.311629",
     "exception": false,
     "start_time": "2022-03-25T04:46:16.279841",
     "status": "completed"
    },
    "tags": []
   },
   "outputs": [],
   "source": [
    "# # from steves_utils.wisig.utils import (\n",
    "# #     ALL_NODES_MINIMUM_100_EXAMPLES,\n",
    "# #     ALL_NODES_MINIMUM_500_EXAMPLES,\n",
    "# #     ALL_NODES_MINIMUM_1000_EXAMPLES,\n",
    "# #     ALL_DAYS\n",
    "# # )\n",
    "\n",
    "# import steves_utils.wisig.utils as wisig\n",
    "\n",
    "\n",
    "# add_dataset(\n",
    "#     labels=wisig.ALL_NODES_MINIMUM_100_EXAMPLES,\n",
    "#     domains = wisig.ALL_DAYS,\n",
    "#     num_examples_per_domain_per_label=100,\n",
    "#     pickle_path=os.path.join(get_datasets_base_path(), \"wisig.node3-19.stratified_ds.2022A.pkl\"),\n",
    "#     source_or_target_dataset=\"target\",\n",
    "#     x_transform_func=global_x_transform_func,\n",
    "#     domain_modifier=lambda u: f\"wisig_{u}\"\n",
    "# )"
   ]
  },
  {
   "cell_type": "code",
   "execution_count": 19,
   "id": "fd5442bc",
   "metadata": {
    "execution": {
     "iopub.execute_input": "2022-03-25T04:46:16.350984Z",
     "iopub.status.busy": "2022-03-25T04:46:16.350302Z",
     "iopub.status.idle": "2022-03-25T04:46:16.364734Z",
     "shell.execute_reply": "2022-03-25T04:46:16.364263Z"
    },
    "papermill": {
     "duration": 0.033635,
     "end_time": "2022-03-25T04:46:16.364833",
     "exception": false,
     "start_time": "2022-03-25T04:46:16.331198",
     "status": "completed"
    },
    "tags": []
   },
   "outputs": [],
   "source": [
    "###################################\n",
    "# Build the dataset\n",
    "###################################\n",
    "train_original_source = Iterable_Aggregator(train_original_source, p.seed)\n",
    "val_original_source = Iterable_Aggregator(val_original_source, p.seed)\n",
    "test_original_source = Iterable_Aggregator(test_original_source, p.seed)\n",
    "\n",
    "\n",
    "train_original_target = Iterable_Aggregator(train_original_target, p.seed)\n",
    "val_original_target = Iterable_Aggregator(val_original_target, p.seed)\n",
    "test_original_target = Iterable_Aggregator(test_original_target, p.seed)\n",
    "\n",
    "# For CNN We only use X and Y. And we only train on the source.\n",
    "# Properly form the data using a transform lambda and Lazy_Iterable_Wrapper. Finally wrap them in a dataloader\n",
    "\n",
    "transform_lambda = lambda ex: ex[1] # Original is (<domain>, <episode>) so we strip down to episode only\n",
    "\n",
    "train_processed_source = Lazy_Iterable_Wrapper(train_original_source, transform_lambda)\n",
    "val_processed_source   = Lazy_Iterable_Wrapper(val_original_source, transform_lambda)\n",
    "test_processed_source  = Lazy_Iterable_Wrapper(test_original_source, transform_lambda)\n",
    "\n",
    "train_processed_target = Lazy_Iterable_Wrapper(train_original_target, transform_lambda)\n",
    "val_processed_target   = Lazy_Iterable_Wrapper(val_original_target, transform_lambda)\n",
    "test_processed_target  = Lazy_Iterable_Wrapper(test_original_target, transform_lambda)\n",
    "\n",
    "datasets = EasyDict({\n",
    "    \"source\": {\n",
    "        \"original\": {\"train\":train_original_source, \"val\":val_original_source, \"test\":test_original_source},\n",
    "        \"processed\": {\"train\":train_processed_source, \"val\":val_processed_source, \"test\":test_processed_source}\n",
    "    },\n",
    "    \"target\": {\n",
    "        \"original\": {\"train\":train_original_target, \"val\":val_original_target, \"test\":test_original_target},\n",
    "        \"processed\": {\"train\":train_processed_target, \"val\":val_processed_target, \"test\":test_processed_target}\n",
    "    },\n",
    "})"
   ]
  },
  {
   "cell_type": "code",
   "execution_count": 20,
   "id": "5b3c01fc",
   "metadata": {
    "execution": {
     "iopub.execute_input": "2022-03-25T04:46:16.401940Z",
     "iopub.status.busy": "2022-03-25T04:46:16.401000Z",
     "iopub.status.idle": "2022-03-25T04:46:22.717454Z",
     "shell.execute_reply": "2022-03-25T04:46:22.717824Z"
    },
    "papermill": {
     "duration": 6.334505,
     "end_time": "2022-03-25T04:46:22.717929",
     "exception": false,
     "start_time": "2022-03-25T04:46:16.383424",
     "status": "completed"
    },
    "tags": []
   },
   "outputs": [
    {
     "name": "stdout",
     "output_type": "stream",
     "text": [
      "{'C_1', 'C_4', 'C_2', 'C_5', 'C_3'}\n"
     ]
    },
    {
     "name": "stdout",
     "output_type": "stream",
     "text": [
      "{'O_20', 'O_8', 'O_50', 'O_44', 'O_32', 'O_38', 'O_26', 'O_14'}\n"
     ]
    },
    {
     "name": "stdout",
     "output_type": "stream",
     "text": [
      "tensor([[[-5.8290e-03, -3.4181e-03,  1.2482e-02,  ..., -1.4923e-02,\n",
      "          -1.0559e-02,  5.3712e-03],\n",
      "         [ 2.6856e-03, -1.0102e-02, -5.7374e-03,  ...,  6.4699e-03,\n",
      "          -1.4649e-02, -7.7517e-03]],\n",
      "\n",
      "        [[-2.6246e-03,  1.8006e-03,  1.3153e-02,  ..., -1.1872e-02,\n",
      "          -3.0518e-05,  1.7334e-02],\n",
      "         [ 1.5259e-04, -7.6601e-03,  3.0824e-03,  ..., -9.8574e-03,\n",
      "          -1.6480e-02, -5.0660e-03]],\n",
      "\n",
      "        [[ 3.5096e-03, -1.2390e-02, -7.6601e-03,  ...,  1.0132e-02,\n",
      "          -4.9745e-03,  1.1689e-02],\n",
      "         [ 1.3214e-02,  2.5941e-03, -7.2328e-03,  ...,  9.3081e-03,\n",
      "          -1.6175e-03,  3.0518e-04]],\n",
      "\n",
      "        ...,\n",
      "\n",
      "        [[-1.8311e-03,  2.0447e-03,  4.8219e-03,  ..., -3.9979e-03,\n",
      "          -3.0518e-05,  1.3733e-03],\n",
      "         [ 5.0050e-03,  5.3102e-03, -1.1902e-03,  ...,  7.0192e-04,\n",
      "           5.4323e-03, -2.7772e-03]],\n",
      "\n",
      "        [[-3.0518e-05,  2.7161e-03, -1.5870e-03,  ...,  2.4109e-03,\n",
      "           4.3336e-03, -2.7467e-04],\n",
      "         [-3.9674e-04, -4.4557e-03, -4.9745e-03,  ...,  4.8829e-04,\n",
      "          -2.8992e-03, -3.9063e-03]],\n",
      "\n",
      "        [[-1.1597e-03,  1.1597e-03,  1.8921e-03,  ...,  6.3173e-03,\n",
      "           7.9958e-03,  2.8992e-03],\n",
      "         [-4.2726e-04,  2.7467e-04,  1.5259e-04,  ...,  3.2349e-03,\n",
      "           1.8311e-03, -2.1058e-03]]])\n"
     ]
    }
   ],
   "source": [
    "from steves_utils.transforms import get_average_magnitude, get_average_power\n",
    "\n",
    "print(set([u for u,_ in val_original_source]))\n",
    "print(set([u for u,_ in val_original_target]))\n",
    "\n",
    "s_x, s_y, q_x, q_y, _ = next(iter(train_processed_source))\n",
    "print(s_x)\n",
    "\n",
    "# for ds in [\n",
    "#     train_processed_source,\n",
    "#     val_processed_source,\n",
    "#     test_processed_source,\n",
    "#     train_processed_target,\n",
    "#     val_processed_target,\n",
    "#     test_processed_target\n",
    "# ]:\n",
    "#     for s_x, s_y, q_x, q_y, _ in ds:\n",
    "#         for X in (s_x, q_x):\n",
    "#             for x in X:\n",
    "#                 assert np.isclose(get_average_magnitude(x.numpy()), 1.0)\n",
    "#                 assert np.isclose(get_average_power(x.numpy()), 1.0)\n",
    "                "
   ]
  },
  {
   "cell_type": "code",
   "execution_count": 21,
   "id": "bbdacba1",
   "metadata": {
    "execution": {
     "iopub.execute_input": "2022-03-25T04:46:22.754356Z",
     "iopub.status.busy": "2022-03-25T04:46:22.753753Z",
     "iopub.status.idle": "2022-03-25T04:46:22.805390Z",
     "shell.execute_reply": "2022-03-25T04:46:22.804870Z"
    },
    "papermill": {
     "duration": 0.070027,
     "end_time": "2022-03-25T04:46:22.805501",
     "exception": false,
     "start_time": "2022-03-25T04:46:22.735474",
     "status": "completed"
    },
    "tags": []
   },
   "outputs": [
    {
     "name": "stdout",
     "output_type": "stream",
     "text": [
      "(2, 200)\n"
     ]
    }
   ],
   "source": [
    "###################################\n",
    "# Build the model\n",
    "###################################\n",
    "# easfsl only wants a tuple for the shape\n",
    "model = Steves_Prototypical_Network(x_net, device=p.device, x_shape=tuple(p.x_shape))\n",
    "optimizer = Adam(params=model.parameters(), lr=p.lr)"
   ]
  },
  {
   "cell_type": "code",
   "execution_count": 22,
   "id": "22b39ac5",
   "metadata": {
    "execution": {
     "iopub.execute_input": "2022-03-25T04:46:22.846337Z",
     "iopub.status.busy": "2022-03-25T04:46:22.845260Z",
     "iopub.status.idle": "2022-03-25T05:20:07.151139Z",
     "shell.execute_reply": "2022-03-25T05:20:07.150915Z"
    },
    "papermill": {
     "duration": 2024.323827,
     "end_time": "2022-03-25T05:20:07.151197",
     "exception": false,
     "start_time": "2022-03-25T04:46:22.827370",
     "status": "completed"
    },
    "tags": []
   },
   "outputs": [
    {
     "name": "stdout",
     "output_type": "stream",
     "text": [
      "epoch: 1, [batch: 1 / 6297], examples_per_second: 50.9862, train_label_loss: 2.0467, \n"
     ]
    },
    {
     "name": "stdout",
     "output_type": "stream",
     "text": [
      "epoch: 1, [batch: 630 / 6297], examples_per_second: 3617.2190, train_label_loss: 0.0928, \n"
     ]
    },
    {
     "name": "stdout",
     "output_type": "stream",
     "text": [
      "epoch: 1, [batch: 1260 / 6297], examples_per_second: 3616.3306, train_label_loss: 0.0570, \n"
     ]
    },
    {
     "name": "stdout",
     "output_type": "stream",
     "text": [
      "epoch: 1, [batch: 1889 / 6297], examples_per_second: 3601.1743, train_label_loss: 0.0041, \n"
     ]
    },
    {
     "name": "stdout",
     "output_type": "stream",
     "text": [
      "epoch: 1, [batch: 2519 / 6297], examples_per_second: 3588.1108, train_label_loss: 0.0003, \n"
     ]
    },
    {
     "name": "stdout",
     "output_type": "stream",
     "text": [
      "epoch: 1, [batch: 3149 / 6297], examples_per_second: 3583.7646, train_label_loss: 0.0005, \n"
     ]
    },
    {
     "name": "stdout",
     "output_type": "stream",
     "text": [
      "epoch: 1, [batch: 3778 / 6297], examples_per_second: 3584.4166, train_label_loss: 0.0106, \n"
     ]
    },
    {
     "name": "stdout",
     "output_type": "stream",
     "text": [
      "epoch: 1, [batch: 4408 / 6297], examples_per_second: 3606.6943, train_label_loss: 0.0007, \n"
     ]
    },
    {
     "name": "stdout",
     "output_type": "stream",
     "text": [
      "epoch: 1, [batch: 5037 / 6297], examples_per_second: 3618.4799, train_label_loss: 0.0000, \n"
     ]
    },
    {
     "name": "stdout",
     "output_type": "stream",
     "text": [
      "epoch: 1, [batch: 5667 / 6297], examples_per_second: 3606.4071, train_label_loss: 0.0003, \n"
     ]
    },
    {
     "name": "stdout",
     "output_type": "stream",
     "text": [
      "=============================================================\n",
      "epoch: 1, source_val_acc_label: 0.9981, target_val_acc_label: 0.4863, source_val_label_loss: 0.0076, target_val_label_loss: 1.8843, \n",
      "=============================================================\n"
     ]
    },
    {
     "name": "stdout",
     "output_type": "stream",
     "text": [
      "New best\n"
     ]
    },
    {
     "name": "stdout",
     "output_type": "stream",
     "text": [
      "epoch: 2, [batch: 1 / 6333], examples_per_second: 5.4427, train_label_loss: 0.0005, \n"
     ]
    },
    {
     "name": "stdout",
     "output_type": "stream",
     "text": [
      "epoch: 2, [batch: 634 / 6333], examples_per_second: 3613.6866, train_label_loss: 0.0001, \n"
     ]
    },
    {
     "name": "stdout",
     "output_type": "stream",
     "text": [
      "epoch: 2, [batch: 1267 / 6333], examples_per_second: 3618.5311, train_label_loss: 0.0007, \n"
     ]
    },
    {
     "name": "stdout",
     "output_type": "stream",
     "text": [
      "epoch: 2, [batch: 1900 / 6333], examples_per_second: 3609.0304, train_label_loss: 0.0000, \n"
     ]
    },
    {
     "name": "stdout",
     "output_type": "stream",
     "text": [
      "epoch: 2, [batch: 2533 / 6333], examples_per_second: 3586.4830, train_label_loss: 0.0000, \n"
     ]
    },
    {
     "name": "stdout",
     "output_type": "stream",
     "text": [
      "epoch: 2, [batch: 3167 / 6333], examples_per_second: 3591.1629, train_label_loss: 0.0000, \n"
     ]
    },
    {
     "name": "stdout",
     "output_type": "stream",
     "text": [
      "epoch: 2, [batch: 3800 / 6333], examples_per_second: 3608.3556, train_label_loss: 0.0000, \n"
     ]
    },
    {
     "name": "stdout",
     "output_type": "stream",
     "text": [
      "epoch: 2, [batch: 4433 / 6333], examples_per_second: 3609.3457, train_label_loss: 0.0003, \n"
     ]
    },
    {
     "name": "stdout",
     "output_type": "stream",
     "text": [
      "epoch: 2, [batch: 5066 / 6333], examples_per_second: 3640.7579, train_label_loss: 0.0016, \n"
     ]
    },
    {
     "name": "stdout",
     "output_type": "stream",
     "text": [
      "epoch: 2, [batch: 5699 / 6333], examples_per_second: 3645.7018, train_label_loss: 0.0010, \n"
     ]
    },
    {
     "name": "stdout",
     "output_type": "stream",
     "text": [
      "=============================================================\n",
      "epoch: 2, source_val_acc_label: 0.9967, target_val_acc_label: 0.4721, source_val_label_loss: 0.0208, target_val_label_loss: 1.7661, \n",
      "=============================================================\n"
     ]
    },
    {
     "name": "stdout",
     "output_type": "stream",
     "text": [
      "epoch: 3, [batch: 1 / 6305], examples_per_second: 5.4690, train_label_loss: 0.0047, \n"
     ]
    },
    {
     "name": "stdout",
     "output_type": "stream",
     "text": [
      "epoch: 3, [batch: 631 / 6305], examples_per_second: 3606.0858, train_label_loss: 0.0000, \n"
     ]
    },
    {
     "name": "stdout",
     "output_type": "stream",
     "text": [
      "epoch: 3, [batch: 1261 / 6305], examples_per_second: 3620.7289, train_label_loss: 0.0001, \n"
     ]
    },
    {
     "name": "stdout",
     "output_type": "stream",
     "text": [
      "epoch: 3, [batch: 1892 / 6305], examples_per_second: 3609.5518, train_label_loss: 0.0002, \n"
     ]
    },
    {
     "name": "stdout",
     "output_type": "stream",
     "text": [
      "epoch: 3, [batch: 2522 / 6305], examples_per_second: 3603.1621, train_label_loss: 0.0000, \n"
     ]
    },
    {
     "name": "stdout",
     "output_type": "stream",
     "text": [
      "epoch: 3, [batch: 3153 / 6305], examples_per_second: 3612.1233, train_label_loss: 0.0001, \n"
     ]
    },
    {
     "name": "stdout",
     "output_type": "stream",
     "text": [
      "epoch: 3, [batch: 3783 / 6305], examples_per_second: 3620.2430, train_label_loss: 0.0000, \n"
     ]
    },
    {
     "name": "stdout",
     "output_type": "stream",
     "text": [
      "epoch: 3, [batch: 4413 / 6305], examples_per_second: 3611.5984, train_label_loss: 0.0002, \n"
     ]
    },
    {
     "name": "stdout",
     "output_type": "stream",
     "text": [
      "epoch: 3, [batch: 5044 / 6305], examples_per_second: 3623.2769, train_label_loss: 0.0142, \n"
     ]
    },
    {
     "name": "stdout",
     "output_type": "stream",
     "text": [
      "epoch: 3, [batch: 5674 / 6305], examples_per_second: 3631.6065, train_label_loss: 0.0000, \n"
     ]
    },
    {
     "name": "stdout",
     "output_type": "stream",
     "text": [
      "=============================================================\n",
      "epoch: 3, source_val_acc_label: 0.9978, target_val_acc_label: 0.4829, source_val_label_loss: 0.0152, target_val_label_loss: 1.7261, \n",
      "=============================================================\n"
     ]
    },
    {
     "name": "stdout",
     "output_type": "stream",
     "text": [
      "epoch: 4, [batch: 1 / 6323], examples_per_second: 5.4274, train_label_loss: 0.0009, \n"
     ]
    },
    {
     "name": "stdout",
     "output_type": "stream",
     "text": [
      "epoch: 4, [batch: 633 / 6323], examples_per_second: 3606.0001, train_label_loss: 0.0000, \n"
     ]
    },
    {
     "name": "stdout",
     "output_type": "stream",
     "text": [
      "epoch: 4, [batch: 1265 / 6323], examples_per_second: 3620.6885, train_label_loss: 0.0000, \n"
     ]
    },
    {
     "name": "stdout",
     "output_type": "stream",
     "text": [
      "epoch: 4, [batch: 1897 / 6323], examples_per_second: 3629.8910, train_label_loss: 0.0000, \n"
     ]
    },
    {
     "name": "stdout",
     "output_type": "stream",
     "text": [
      "epoch: 4, [batch: 2529 / 6323], examples_per_second: 3617.0513, train_label_loss: 0.0044, \n"
     ]
    },
    {
     "name": "stdout",
     "output_type": "stream",
     "text": [
      "epoch: 4, [batch: 3162 / 6323], examples_per_second: 3631.1328, train_label_loss: 0.0000, \n"
     ]
    },
    {
     "name": "stdout",
     "output_type": "stream",
     "text": [
      "epoch: 4, [batch: 3794 / 6323], examples_per_second: 3642.3518, train_label_loss: 0.0000, \n"
     ]
    },
    {
     "name": "stdout",
     "output_type": "stream",
     "text": [
      "epoch: 4, [batch: 4426 / 6323], examples_per_second: 3594.3366, train_label_loss: 0.0000, \n"
     ]
    },
    {
     "name": "stdout",
     "output_type": "stream",
     "text": [
      "epoch: 4, [batch: 5058 / 6323], examples_per_second: 3612.1491, train_label_loss: 0.0040, \n"
     ]
    },
    {
     "name": "stdout",
     "output_type": "stream",
     "text": [
      "epoch: 4, [batch: 5690 / 6323], examples_per_second: 3614.9884, train_label_loss: 0.0000, \n"
     ]
    },
    {
     "name": "stdout",
     "output_type": "stream",
     "text": [
      "=============================================================\n",
      "epoch: 4, source_val_acc_label: 0.9995, target_val_acc_label: 0.4616, source_val_label_loss: 0.0072, target_val_label_loss: 1.7568, \n",
      "=============================================================\n"
     ]
    },
    {
     "name": "stdout",
     "output_type": "stream",
     "text": [
      "epoch: 5, [batch: 1 / 6317], examples_per_second: 5.4548, train_label_loss: 0.0000, \n"
     ]
    },
    {
     "name": "stdout",
     "output_type": "stream",
     "text": [
      "epoch: 5, [batch: 632 / 6317], examples_per_second: 3607.7382, train_label_loss: 0.0000, \n"
     ]
    },
    {
     "name": "stdout",
     "output_type": "stream",
     "text": [
      "epoch: 5, [batch: 1264 / 6317], examples_per_second: 3615.6420, train_label_loss: 0.0000, \n"
     ]
    },
    {
     "name": "stdout",
     "output_type": "stream",
     "text": [
      "epoch: 5, [batch: 1895 / 6317], examples_per_second: 3628.5029, train_label_loss: 0.0000, \n"
     ]
    },
    {
     "name": "stdout",
     "output_type": "stream",
     "text": [
      "epoch: 5, [batch: 2527 / 6317], examples_per_second: 3610.2254, train_label_loss: 0.0010, \n"
     ]
    },
    {
     "name": "stdout",
     "output_type": "stream",
     "text": [
      "epoch: 5, [batch: 3159 / 6317], examples_per_second: 3613.7133, train_label_loss: 0.1062, \n"
     ]
    },
    {
     "name": "stdout",
     "output_type": "stream",
     "text": [
      "epoch: 5, [batch: 3790 / 6317], examples_per_second: 3649.4295, train_label_loss: 0.0000, \n"
     ]
    },
    {
     "name": "stdout",
     "output_type": "stream",
     "text": [
      "epoch: 5, [batch: 4422 / 6317], examples_per_second: 3603.2568, train_label_loss: 0.0000, \n"
     ]
    },
    {
     "name": "stdout",
     "output_type": "stream",
     "text": [
      "epoch: 5, [batch: 5053 / 6317], examples_per_second: 3640.5915, train_label_loss: 0.0001, \n"
     ]
    },
    {
     "name": "stdout",
     "output_type": "stream",
     "text": [
      "epoch: 5, [batch: 5685 / 6317], examples_per_second: 3585.2892, train_label_loss: 0.0001, \n"
     ]
    },
    {
     "name": "stdout",
     "output_type": "stream",
     "text": [
      "=============================================================\n",
      "epoch: 5, source_val_acc_label: 0.9991, target_val_acc_label: 0.4996, source_val_label_loss: 0.0064, target_val_label_loss: 1.5953, \n",
      "=============================================================\n"
     ]
    },
    {
     "name": "stdout",
     "output_type": "stream",
     "text": [
      "New best\n"
     ]
    },
    {
     "name": "stdout",
     "output_type": "stream",
     "text": [
      "epoch: 6, [batch: 1 / 6329], examples_per_second: 5.4288, train_label_loss: 0.0003, \n"
     ]
    },
    {
     "name": "stdout",
     "output_type": "stream",
     "text": [
      "epoch: 6, [batch: 633 / 6329], examples_per_second: 3578.7118, train_label_loss: 0.0000, \n"
     ]
    },
    {
     "name": "stdout",
     "output_type": "stream",
     "text": [
      "epoch: 6, [batch: 1266 / 6329], examples_per_second: 3614.4618, train_label_loss: 0.0000, \n"
     ]
    },
    {
     "name": "stdout",
     "output_type": "stream",
     "text": [
      "epoch: 6, [batch: 1899 / 6329], examples_per_second: 3625.5319, train_label_loss: 0.0000, \n"
     ]
    },
    {
     "name": "stdout",
     "output_type": "stream",
     "text": [
      "epoch: 6, [batch: 2532 / 6329], examples_per_second: 3607.4850, train_label_loss: 0.0000, \n"
     ]
    },
    {
     "name": "stdout",
     "output_type": "stream",
     "text": [
      "epoch: 6, [batch: 3165 / 6329], examples_per_second: 3619.7064, train_label_loss: 0.0000, \n"
     ]
    },
    {
     "name": "stdout",
     "output_type": "stream",
     "text": [
      "epoch: 6, [batch: 3797 / 6329], examples_per_second: 3619.2454, train_label_loss: 0.0005, \n"
     ]
    },
    {
     "name": "stdout",
     "output_type": "stream",
     "text": [
      "epoch: 6, [batch: 4430 / 6329], examples_per_second: 3618.4810, train_label_loss: 0.0000, \n"
     ]
    },
    {
     "name": "stdout",
     "output_type": "stream",
     "text": [
      "epoch: 6, [batch: 5063 / 6329], examples_per_second: 3627.0453, train_label_loss: 0.0000, \n"
     ]
    },
    {
     "name": "stdout",
     "output_type": "stream",
     "text": [
      "epoch: 6, [batch: 5696 / 6329], examples_per_second: 3630.0084, train_label_loss: 0.0000, \n"
     ]
    },
    {
     "name": "stdout",
     "output_type": "stream",
     "text": [
      "=============================================================\n",
      "epoch: 6, source_val_acc_label: 0.9996, target_val_acc_label: 0.4195, source_val_label_loss: 0.0060, target_val_label_loss: 1.6979, \n",
      "=============================================================\n"
     ]
    },
    {
     "name": "stdout",
     "output_type": "stream",
     "text": [
      "epoch: 7, [batch: 1 / 6316], examples_per_second: 5.4157, train_label_loss: 0.0000, \n"
     ]
    },
    {
     "name": "stdout",
     "output_type": "stream",
     "text": [
      "epoch: 7, [batch: 632 / 6316], examples_per_second: 3600.4629, train_label_loss: 0.0001, \n"
     ]
    },
    {
     "name": "stdout",
     "output_type": "stream",
     "text": [
      "epoch: 7, [batch: 1264 / 6316], examples_per_second: 3624.1921, train_label_loss: 0.0004, \n"
     ]
    },
    {
     "name": "stdout",
     "output_type": "stream",
     "text": [
      "epoch: 7, [batch: 1895 / 6316], examples_per_second: 3622.4749, train_label_loss: 0.0000, \n"
     ]
    },
    {
     "name": "stdout",
     "output_type": "stream",
     "text": [
      "epoch: 7, [batch: 2527 / 6316], examples_per_second: 3614.2434, train_label_loss: 0.2716, \n"
     ]
    },
    {
     "name": "stdout",
     "output_type": "stream",
     "text": [
      "epoch: 7, [batch: 3158 / 6316], examples_per_second: 3596.7646, train_label_loss: 0.0015, \n"
     ]
    },
    {
     "name": "stdout",
     "output_type": "stream",
     "text": [
      "epoch: 7, [batch: 3790 / 6316], examples_per_second: 3619.6828, train_label_loss: 0.0000, \n"
     ]
    },
    {
     "name": "stdout",
     "output_type": "stream",
     "text": [
      "epoch: 7, [batch: 4421 / 6316], examples_per_second: 3610.5537, train_label_loss: 0.0000, \n"
     ]
    },
    {
     "name": "stdout",
     "output_type": "stream",
     "text": [
      "epoch: 7, [batch: 5053 / 6316], examples_per_second: 3625.9854, train_label_loss: 0.0000, \n"
     ]
    },
    {
     "name": "stdout",
     "output_type": "stream",
     "text": [
      "epoch: 7, [batch: 5684 / 6316], examples_per_second: 3625.6898, train_label_loss: 0.3963, \n"
     ]
    },
    {
     "name": "stdout",
     "output_type": "stream",
     "text": [
      "=============================================================\n",
      "epoch: 7, source_val_acc_label: 0.9994, target_val_acc_label: 0.4075, source_val_label_loss: 0.0117, target_val_label_loss: 1.7250, \n",
      "=============================================================\n"
     ]
    },
    {
     "name": "stdout",
     "output_type": "stream",
     "text": [
      "epoch: 8, [batch: 1 / 6315], examples_per_second: 5.4577, train_label_loss: 0.0000, \n"
     ]
    },
    {
     "name": "stdout",
     "output_type": "stream",
     "text": [
      "epoch: 8, [batch: 632 / 6315], examples_per_second: 3619.4044, train_label_loss: 0.0000, \n"
     ]
    },
    {
     "name": "stdout",
     "output_type": "stream",
     "text": [
      "epoch: 8, [batch: 1263 / 6315], examples_per_second: 3620.2050, train_label_loss: 0.0000, \n"
     ]
    },
    {
     "name": "stdout",
     "output_type": "stream",
     "text": [
      "epoch: 8, [batch: 1895 / 6315], examples_per_second: 3617.5180, train_label_loss: 0.0000, \n"
     ]
    },
    {
     "name": "stdout",
     "output_type": "stream",
     "text": [
      "epoch: 8, [batch: 2526 / 6315], examples_per_second: 3604.1088, train_label_loss: 0.0000, \n"
     ]
    },
    {
     "name": "stdout",
     "output_type": "stream",
     "text": [
      "epoch: 8, [batch: 3158 / 6315], examples_per_second: 3589.2138, train_label_loss: 0.0000, \n"
     ]
    },
    {
     "name": "stdout",
     "output_type": "stream",
     "text": [
      "epoch: 8, [batch: 3789 / 6315], examples_per_second: 3597.5617, train_label_loss: 0.0000, \n"
     ]
    },
    {
     "name": "stdout",
     "output_type": "stream",
     "text": [
      "epoch: 8, [batch: 4420 / 6315], examples_per_second: 3614.5408, train_label_loss: 0.0000, \n"
     ]
    },
    {
     "name": "stdout",
     "output_type": "stream",
     "text": [
      "epoch: 8, [batch: 5052 / 6315], examples_per_second: 3627.7840, train_label_loss: 0.0000, \n"
     ]
    },
    {
     "name": "stdout",
     "output_type": "stream",
     "text": [
      "epoch: 8, [batch: 5683 / 6315], examples_per_second: 3618.7650, train_label_loss: 0.0000, \n"
     ]
    },
    {
     "name": "stdout",
     "output_type": "stream",
     "text": [
      "=============================================================\n",
      "epoch: 8, source_val_acc_label: 0.9993, target_val_acc_label: 0.5205, source_val_label_loss: 0.0087, target_val_label_loss: 1.4849, \n",
      "=============================================================\n"
     ]
    },
    {
     "name": "stdout",
     "output_type": "stream",
     "text": [
      "New best\n"
     ]
    },
    {
     "name": "stdout",
     "output_type": "stream",
     "text": [
      "epoch: 9, [batch: 1 / 6317], examples_per_second: 5.4347, train_label_loss: 0.0000, \n"
     ]
    },
    {
     "name": "stdout",
     "output_type": "stream",
     "text": [
      "epoch: 9, [batch: 632 / 6317], examples_per_second: 3587.0389, train_label_loss: 0.0000, \n"
     ]
    },
    {
     "name": "stdout",
     "output_type": "stream",
     "text": [
      "epoch: 9, [batch: 1264 / 6317], examples_per_second: 3615.4575, train_label_loss: 0.0000, \n"
     ]
    },
    {
     "name": "stdout",
     "output_type": "stream",
     "text": [
      "epoch: 9, [batch: 1895 / 6317], examples_per_second: 3610.9843, train_label_loss: 0.0000, \n"
     ]
    },
    {
     "name": "stdout",
     "output_type": "stream",
     "text": [
      "epoch: 9, [batch: 2527 / 6317], examples_per_second: 3601.8475, train_label_loss: 0.0000, \n"
     ]
    },
    {
     "name": "stdout",
     "output_type": "stream",
     "text": [
      "epoch: 9, [batch: 3159 / 6317], examples_per_second: 3618.1887, train_label_loss: 0.0000, \n"
     ]
    },
    {
     "name": "stdout",
     "output_type": "stream",
     "text": [
      "epoch: 9, [batch: 3790 / 6317], examples_per_second: 3612.4731, train_label_loss: 0.0000, \n"
     ]
    },
    {
     "name": "stdout",
     "output_type": "stream",
     "text": [
      "epoch: 9, [batch: 4422 / 6317], examples_per_second: 3453.6704, train_label_loss: 0.0000, \n"
     ]
    },
    {
     "name": "stdout",
     "output_type": "stream",
     "text": [
      "epoch: 9, [batch: 5053 / 6317], examples_per_second: 3404.5001, train_label_loss: 0.0000, \n"
     ]
    },
    {
     "name": "stdout",
     "output_type": "stream",
     "text": [
      "epoch: 9, [batch: 5685 / 6317], examples_per_second: 3338.1574, train_label_loss: 0.0000, \n"
     ]
    },
    {
     "name": "stdout",
     "output_type": "stream",
     "text": [
      "=============================================================\n",
      "epoch: 9, source_val_acc_label: 0.9994, target_val_acc_label: 0.5221, source_val_label_loss: 0.0117, target_val_label_loss: 1.3888, \n",
      "=============================================================\n"
     ]
    },
    {
     "name": "stdout",
     "output_type": "stream",
     "text": [
      "New best\n"
     ]
    },
    {
     "name": "stdout",
     "output_type": "stream",
     "text": [
      "epoch: 10, [batch: 1 / 6296], examples_per_second: 5.0512, train_label_loss: 0.0027, \n"
     ]
    },
    {
     "name": "stdout",
     "output_type": "stream",
     "text": [
      "epoch: 10, [batch: 630 / 6296], examples_per_second: 3375.7849, train_label_loss: 0.0000, \n"
     ]
    },
    {
     "name": "stdout",
     "output_type": "stream",
     "text": [
      "epoch: 10, [batch: 1260 / 6296], examples_per_second: 3545.9308, train_label_loss: 0.0000, \n"
     ]
    },
    {
     "name": "stdout",
     "output_type": "stream",
     "text": [
      "epoch: 10, [batch: 1889 / 6296], examples_per_second: 3444.6716, train_label_loss: 0.0000, \n"
     ]
    },
    {
     "name": "stdout",
     "output_type": "stream",
     "text": [
      "epoch: 10, [batch: 2519 / 6296], examples_per_second: 3599.3157, train_label_loss: 0.0000, \n"
     ]
    },
    {
     "name": "stdout",
     "output_type": "stream",
     "text": [
      "epoch: 10, [batch: 3148 / 6296], examples_per_second: 3625.1438, train_label_loss: 0.0000, \n"
     ]
    },
    {
     "name": "stdout",
     "output_type": "stream",
     "text": [
      "epoch: 10, [batch: 3778 / 6296], examples_per_second: 3621.9276, train_label_loss: 0.0000, \n"
     ]
    },
    {
     "name": "stdout",
     "output_type": "stream",
     "text": [
      "epoch: 10, [batch: 4407 / 6296], examples_per_second: 3604.6040, train_label_loss: 0.0000, \n"
     ]
    },
    {
     "name": "stdout",
     "output_type": "stream",
     "text": [
      "epoch: 10, [batch: 5037 / 6296], examples_per_second: 3633.3584, train_label_loss: 0.0000, \n"
     ]
    },
    {
     "name": "stdout",
     "output_type": "stream",
     "text": [
      "epoch: 10, [batch: 5666 / 6296], examples_per_second: 3632.5697, train_label_loss: 0.0000, \n"
     ]
    },
    {
     "name": "stdout",
     "output_type": "stream",
     "text": [
      "=============================================================\n",
      "epoch: 10, source_val_acc_label: 0.9995, target_val_acc_label: 0.4651, source_val_label_loss: 0.0069, target_val_label_loss: 1.6020, \n",
      "=============================================================\n"
     ]
    },
    {
     "name": "stdout",
     "output_type": "stream",
     "text": [
      "epoch: 11, [batch: 1 / 6312], examples_per_second: 5.4527, train_label_loss: 0.0000, \n"
     ]
    },
    {
     "name": "stdout",
     "output_type": "stream",
     "text": [
      "epoch: 11, [batch: 632 / 6312], examples_per_second: 3605.0282, train_label_loss: 0.0000, \n"
     ]
    },
    {
     "name": "stdout",
     "output_type": "stream",
     "text": [
      "epoch: 11, [batch: 1263 / 6312], examples_per_second: 3617.6804, train_label_loss: 0.0009, \n"
     ]
    },
    {
     "name": "stdout",
     "output_type": "stream",
     "text": [
      "epoch: 11, [batch: 1894 / 6312], examples_per_second: 3615.8522, train_label_loss: 0.0000, \n"
     ]
    },
    {
     "name": "stdout",
     "output_type": "stream",
     "text": [
      "epoch: 11, [batch: 2525 / 6312], examples_per_second: 3591.2431, train_label_loss: 0.0000, \n"
     ]
    },
    {
     "name": "stdout",
     "output_type": "stream",
     "text": [
      "epoch: 11, [batch: 3156 / 6312], examples_per_second: 3621.0362, train_label_loss: 0.0000, \n"
     ]
    },
    {
     "name": "stdout",
     "output_type": "stream",
     "text": [
      "epoch: 11, [batch: 3787 / 6312], examples_per_second: 3624.2657, train_label_loss: 0.0000, \n"
     ]
    },
    {
     "name": "stdout",
     "output_type": "stream",
     "text": [
      "epoch: 11, [batch: 4418 / 6312], examples_per_second: 3623.1196, train_label_loss: 0.0000, \n"
     ]
    },
    {
     "name": "stdout",
     "output_type": "stream",
     "text": [
      "epoch: 11, [batch: 5049 / 6312], examples_per_second: 3629.5041, train_label_loss: 0.0000, \n"
     ]
    },
    {
     "name": "stdout",
     "output_type": "stream",
     "text": [
      "epoch: 11, [batch: 5680 / 6312], examples_per_second: 3624.2590, train_label_loss: 0.0010, \n"
     ]
    },
    {
     "name": "stdout",
     "output_type": "stream",
     "text": [
      "=============================================================\n",
      "epoch: 11, source_val_acc_label: 0.9994, target_val_acc_label: 0.5114, source_val_label_loss: 0.0049, target_val_label_loss: 1.4483, \n",
      "=============================================================\n"
     ]
    },
    {
     "name": "stdout",
     "output_type": "stream",
     "text": [
      "epoch: 12, [batch: 1 / 6321], examples_per_second: 5.4505, train_label_loss: 0.0000, \n"
     ]
    },
    {
     "name": "stdout",
     "output_type": "stream",
     "text": [
      "epoch: 12, [batch: 633 / 6321], examples_per_second: 3600.5056, train_label_loss: 0.0002, \n"
     ]
    },
    {
     "name": "stdout",
     "output_type": "stream",
     "text": [
      "epoch: 12, [batch: 1265 / 6321], examples_per_second: 3614.3131, train_label_loss: 0.0001, \n"
     ]
    },
    {
     "name": "stdout",
     "output_type": "stream",
     "text": [
      "epoch: 12, [batch: 1897 / 6321], examples_per_second: 3589.0916, train_label_loss: 0.0000, \n"
     ]
    },
    {
     "name": "stdout",
     "output_type": "stream",
     "text": [
      "epoch: 12, [batch: 2529 / 6321], examples_per_second: 3603.2255, train_label_loss: 0.0002, \n"
     ]
    },
    {
     "name": "stdout",
     "output_type": "stream",
     "text": [
      "epoch: 12, [batch: 3161 / 6321], examples_per_second: 3613.8215, train_label_loss: 0.0000, \n"
     ]
    },
    {
     "name": "stdout",
     "output_type": "stream",
     "text": [
      "epoch: 12, [batch: 3793 / 6321], examples_per_second: 3621.4805, train_label_loss: 0.0000, \n"
     ]
    },
    {
     "name": "stdout",
     "output_type": "stream",
     "text": [
      "epoch: 12, [batch: 4425 / 6321], examples_per_second: 3595.7257, train_label_loss: 0.0000, \n"
     ]
    },
    {
     "name": "stdout",
     "output_type": "stream",
     "text": [
      "epoch: 12, [batch: 5057 / 6321], examples_per_second: 3611.4886, train_label_loss: 0.0000, \n"
     ]
    },
    {
     "name": "stdout",
     "output_type": "stream",
     "text": [
      "epoch: 12, [batch: 5689 / 6321], examples_per_second: 3614.6550, train_label_loss: 0.0000, \n"
     ]
    },
    {
     "name": "stdout",
     "output_type": "stream",
     "text": [
      "=============================================================\n",
      "epoch: 12, source_val_acc_label: 0.9997, target_val_acc_label: 0.4318, source_val_label_loss: 0.0048, target_val_label_loss: 1.6427, \n",
      "=============================================================\n"
     ]
    },
    {
     "name": "stdout",
     "output_type": "stream",
     "text": [
      "epoch: 13, [batch: 1 / 6317], examples_per_second: 5.4644, train_label_loss: 0.0000, \n"
     ]
    },
    {
     "name": "stdout",
     "output_type": "stream",
     "text": [
      "epoch: 13, [batch: 632 / 6317], examples_per_second: 3616.3967, train_label_loss: 0.0000, \n"
     ]
    },
    {
     "name": "stdout",
     "output_type": "stream",
     "text": [
      "epoch: 13, [batch: 1264 / 6317], examples_per_second: 3610.8796, train_label_loss: 0.0000, \n"
     ]
    },
    {
     "name": "stdout",
     "output_type": "stream",
     "text": [
      "epoch: 13, [batch: 1895 / 6317], examples_per_second: 3609.4380, train_label_loss: 0.0000, \n"
     ]
    },
    {
     "name": "stdout",
     "output_type": "stream",
     "text": [
      "epoch: 13, [batch: 2527 / 6317], examples_per_second: 3599.9337, train_label_loss: 0.0000, \n"
     ]
    },
    {
     "name": "stdout",
     "output_type": "stream",
     "text": [
      "epoch: 13, [batch: 3159 / 6317], examples_per_second: 3620.0187, train_label_loss: 0.0000, \n"
     ]
    },
    {
     "name": "stdout",
     "output_type": "stream",
     "text": [
      "epoch: 13, [batch: 3790 / 6317], examples_per_second: 3611.3609, train_label_loss: 0.0000, \n"
     ]
    },
    {
     "name": "stdout",
     "output_type": "stream",
     "text": [
      "epoch: 13, [batch: 4422 / 6317], examples_per_second: 3612.4422, train_label_loss: 0.0000, \n"
     ]
    },
    {
     "name": "stdout",
     "output_type": "stream",
     "text": [
      "epoch: 13, [batch: 5053 / 6317], examples_per_second: 3629.1779, train_label_loss: 0.0000, \n"
     ]
    },
    {
     "name": "stdout",
     "output_type": "stream",
     "text": [
      "epoch: 13, [batch: 5685 / 6317], examples_per_second: 3615.8243, train_label_loss: 0.0000, \n"
     ]
    },
    {
     "name": "stdout",
     "output_type": "stream",
     "text": [
      "=============================================================\n",
      "epoch: 13, source_val_acc_label: 0.9995, target_val_acc_label: 0.4586, source_val_label_loss: 0.0118, target_val_label_loss: 1.5534, \n",
      "=============================================================\n"
     ]
    },
    {
     "name": "stdout",
     "output_type": "stream",
     "text": [
      "Patience (3) exhausted\n"
     ]
    }
   ],
   "source": [
    "###################################\n",
    "# train\n",
    "###################################\n",
    "jig = PTN_Train_Eval_Test_Jig(model, p.BEST_MODEL_PATH, p.device)\n",
    "\n",
    "jig.train(\n",
    "    train_iterable=datasets.source.processed.train,\n",
    "    source_val_iterable=datasets.source.processed.val,\n",
    "    target_val_iterable=datasets.target.processed.val,\n",
    "    num_epochs=p.n_epoch,\n",
    "    num_logs_per_epoch=p.NUM_LOGS_PER_EPOCH,\n",
    "    patience=p.patience,\n",
    "    optimizer=optimizer,\n",
    "    criteria_for_best=p.criteria_for_best,\n",
    ")"
   ]
  },
  {
   "cell_type": "code",
   "execution_count": 23,
   "id": "31e8fabf",
   "metadata": {
    "execution": {
     "iopub.execute_input": "2022-03-25T05:20:07.233301Z",
     "iopub.status.busy": "2022-03-25T05:20:07.232908Z",
     "iopub.status.idle": "2022-03-25T05:20:07.250404Z",
     "shell.execute_reply": "2022-03-25T05:20:07.250163Z"
    },
    "papermill": {
     "duration": 0.060242,
     "end_time": "2022-03-25T05:20:07.250468",
     "exception": false,
     "start_time": "2022-03-25T05:20:07.190226",
     "status": "completed"
    },
    "tags": []
   },
   "outputs": [],
   "source": [
    "total_experiment_time_secs = time.time() - start_time_secs"
   ]
  },
  {
   "cell_type": "code",
   "execution_count": 24,
   "id": "87b9595b",
   "metadata": {
    "execution": {
     "iopub.execute_input": "2022-03-25T05:20:07.334616Z",
     "iopub.status.busy": "2022-03-25T05:20:07.334197Z",
     "iopub.status.idle": "2022-03-25T05:21:38.871439Z",
     "shell.execute_reply": "2022-03-25T05:21:38.871831Z"
    },
    "papermill": {
     "duration": 91.582232,
     "end_time": "2022-03-25T05:21:38.871970",
     "exception": false,
     "start_time": "2022-03-25T05:20:07.289738",
     "status": "completed"
    },
    "tags": []
   },
   "outputs": [],
   "source": [
    "###################################\n",
    "# Evaluate the model\n",
    "###################################\n",
    "source_test_label_accuracy, source_test_label_loss = jig.test(datasets.source.processed.test)\n",
    "target_test_label_accuracy, target_test_label_loss = jig.test(datasets.target.processed.test)\n",
    "\n",
    "source_val_label_accuracy, source_val_label_loss = jig.test(datasets.source.processed.val)\n",
    "target_val_label_accuracy, target_val_label_loss = jig.test(datasets.target.processed.val)\n",
    "\n",
    "history = jig.get_history()\n",
    "\n",
    "total_epochs_trained = len(history[\"epoch_indices\"])\n",
    "\n",
    "val_dl = Iterable_Aggregator((datasets.source.original.val,datasets.target.original.val))\n",
    "\n",
    "confusion = ptn_confusion_by_domain_over_dataloader(model, p.device, val_dl)\n",
    "per_domain_accuracy = per_domain_accuracy_from_confusion(confusion)\n",
    "\n",
    "# Add a key to per_domain_accuracy for if it was a source domain\n",
    "for domain, accuracy in per_domain_accuracy.items():\n",
    "    per_domain_accuracy[domain] = {\n",
    "        \"accuracy\": accuracy,\n",
    "        \"source?\": domain in p.domains_source\n",
    "    }\n",
    "\n",
    "# Do an independent accuracy assesment JUST TO BE SURE!\n",
    "# _source_test_label_accuracy = independent_accuracy_assesment(model, datasets.source.processed.test, p.device)\n",
    "# _target_test_label_accuracy = independent_accuracy_assesment(model, datasets.target.processed.test, p.device)\n",
    "# _source_val_label_accuracy = independent_accuracy_assesment(model, datasets.source.processed.val, p.device)\n",
    "# _target_val_label_accuracy = independent_accuracy_assesment(model, datasets.target.processed.val, p.device)\n",
    "\n",
    "# assert(_source_test_label_accuracy == source_test_label_accuracy)\n",
    "# assert(_target_test_label_accuracy == target_test_label_accuracy)\n",
    "# assert(_source_val_label_accuracy == source_val_label_accuracy)\n",
    "# assert(_target_val_label_accuracy == target_val_label_accuracy)\n",
    "\n",
    "experiment = {\n",
    "    \"experiment_name\": p.experiment_name,\n",
    "    \"parameters\": dict(p),\n",
    "    \"results\": {\n",
    "        \"source_test_label_accuracy\": source_test_label_accuracy,\n",
    "        \"source_test_label_loss\": source_test_label_loss,\n",
    "        \"target_test_label_accuracy\": target_test_label_accuracy,\n",
    "        \"target_test_label_loss\": target_test_label_loss,\n",
    "        \"source_val_label_accuracy\": source_val_label_accuracy,\n",
    "        \"source_val_label_loss\": source_val_label_loss,\n",
    "        \"target_val_label_accuracy\": target_val_label_accuracy,\n",
    "        \"target_val_label_loss\": target_val_label_loss,\n",
    "        \"total_epochs_trained\": total_epochs_trained,\n",
    "        \"total_experiment_time_secs\": total_experiment_time_secs,\n",
    "        \"confusion\": confusion,\n",
    "        \"per_domain_accuracy\": per_domain_accuracy,\n",
    "    },\n",
    "    \"history\": history,\n",
    "    \"dataset_metrics\": get_dataset_metrics(datasets, \"ptn\"),\n",
    "}"
   ]
  },
  {
   "cell_type": "code",
   "execution_count": 25,
   "id": "54a21829",
   "metadata": {
    "execution": {
     "iopub.execute_input": "2022-03-25T05:21:38.960734Z",
     "iopub.status.busy": "2022-03-25T05:21:38.960464Z",
     "iopub.status.idle": "2022-03-25T05:21:39.095220Z",
     "shell.execute_reply": "2022-03-25T05:21:39.095636Z"
    },
    "papermill": {
     "duration": 0.178082,
     "end_time": "2022-03-25T05:21:39.095767",
     "exception": false,
     "start_time": "2022-03-25T05:21:38.917685",
     "status": "completed"
    },
    "tags": []
   },
   "outputs": [
    {
     "data": {
      "image/png": "[encoded data removed]",
      "text/plain": [
       "<Figure size 1080x504 with 1 Axes>"
      ]
     },
     "metadata": {
      "needs_background": "light"
     },
     "output_type": "display_data"
    }
   ],
   "source": [
    "ax = get_loss_curve(experiment)\n",
    "plt.show()"
   ]
  },
  {
   "cell_type": "code",
   "execution_count": 26,
   "id": "fd8a0f60",
   "metadata": {
    "execution": {
     "iopub.execute_input": "2022-03-25T05:21:39.184921Z",
     "iopub.status.busy": "2022-03-25T05:21:39.184663Z",
     "iopub.status.idle": "2022-03-25T05:21:39.329609Z",
     "shell.execute_reply": "2022-03-25T05:21:39.329987Z"
    },
    "papermill": {
     "duration": 0.188463,
     "end_time": "2022-03-25T05:21:39.330123",
     "exception": false,
     "start_time": "2022-03-25T05:21:39.141660",
     "status": "completed"
    },
    "tags": []
   },
   "outputs": [
    {
     "data": {
      "text/plain": [
       "<AxesSubplot:title={'center':'Results'}>"
      ]
     },
     "execution_count": 26,
     "metadata": {},
     "output_type": "execute_result"
    },
    {
     "data": {
      "image/png": "[encoded data removed]",
      "text/plain": [
       "<Figure size 1080x504 with 1 Axes>"
      ]
     },
     "metadata": {
      "needs_background": "light"
     },
     "output_type": "display_data"
    }
   ],
   "source": [
    "get_results_table(experiment)"
   ]
  },
  {
   "cell_type": "code",
   "execution_count": 27,
   "id": "cf8dc689",
   "metadata": {
    "execution": {
     "iopub.execute_input": "2022-03-25T05:21:39.422158Z",
     "iopub.status.busy": "2022-03-25T05:21:39.421645Z",
     "iopub.status.idle": "2022-03-25T05:21:39.552234Z",
     "shell.execute_reply": "2022-03-25T05:21:39.552651Z"
    },
    "papermill": {
     "duration": 0.175702,
     "end_time": "2022-03-25T05:21:39.552783",
     "exception": false,
     "start_time": "2022-03-25T05:21:39.377081",
     "status": "completed"
    },
    "tags": []
   },
   "outputs": [
    {
     "data": {
      "text/plain": [
       "<AxesSubplot:title={'center':'Per Domain Validation Accuracy'}, xlabel='domain'>"
      ]
     },
     "execution_count": 27,
     "metadata": {},
     "output_type": "execute_result"
    },
    {
     "data": {
      "image/png": "[encoded data removed]",
      "text/plain": [
       "<Figure size 1080x504 with 1 Axes>"
      ]
     },
     "metadata": {
      "needs_background": "light"
     },
     "output_type": "display_data"
    }
   ],
   "source": [
    "get_domain_accuracies(experiment)"
   ]
  },
  {
   "cell_type": "code",
   "execution_count": 28,
   "id": "a74ae082",
   "metadata": {
    "execution": {
     "iopub.execute_input": "2022-03-25T05:21:39.677045Z",
     "iopub.status.busy": "2022-03-25T05:21:39.676770Z",
     "iopub.status.idle": "2022-03-25T05:21:39.694402Z",
     "shell.execute_reply": "2022-03-25T05:21:39.693954Z"
    },
    "papermill": {
     "duration": 0.065732,
     "end_time": "2022-03-25T05:21:39.694507",
     "exception": false,
     "start_time": "2022-03-25T05:21:39.628775",
     "status": "completed"
    },
    "tags": []
   },
   "outputs": [
    {
     "name": "stdout",
     "output_type": "stream",
     "text": [
      "Source Test Label Accuracy: 0.999265117581187 Target Test Label Accuracy: 0.5265299479166666\n",
      "Source Val Label Accuracy: 0.9993921624713958 Target Val Label Accuracy: 0.5221028645833333\n"
     ]
    }
   ],
   "source": [
    "print(\"Source Test Label Accuracy:\", experiment[\"results\"][\"source_test_label_accuracy\"], \"Target Test Label Accuracy:\", experiment[\"results\"][\"target_test_label_accuracy\"])\n",
    "print(\"Source Val Label Accuracy:\", experiment[\"results\"][\"source_val_label_accuracy\"], \"Target Val Label Accuracy:\", experiment[\"results\"][\"target_val_label_accuracy\"])"
   ]
  },
  {
   "cell_type": "code",
   "execution_count": 29,
   "id": "dacca602",
   "metadata": {
    "execution": {
     "iopub.execute_input": "2022-03-25T05:21:39.794163Z",
     "iopub.status.busy": "2022-03-25T05:21:39.793895Z",
     "iopub.status.idle": "2022-03-25T05:21:39.811241Z",
     "shell.execute_reply": "2022-03-25T05:21:39.811632Z"
    },
    "papermill": {
     "duration": 0.066251,
     "end_time": "2022-03-25T05:21:39.811760",
     "exception": false,
     "start_time": "2022-03-25T05:21:39.745509",
     "status": "completed"
    },
    "tags": [
     "experiment_json"
    ]
   },
   "outputs": [
    {
     "data": {
      "text/plain": [
       "'{\"experiment_name\": \"tl_3Av2:cores -> oracle.run1.framed\", \"parameters\": {\"experiment_name\": \"tl_3Av2:cores -> oracle.run1.framed\", \"device\": \"cuda\", \"lr\": 0.0001, \"x_shape\": [2, 200], \"n_shot\": 3, \"n_query\": 2, \"train_k_factor\": 3, \"val_k_factor\": 2, \"test_k_factor\": 2, \"torch_default_dtype\": \"torch.float32\", \"n_epoch\": 50, \"patience\": 3, \"criteria_for_best\": \"target_accuracy\", \"x_net\": [{\"class\": \"nnReshape\", \"kargs\": {\"shape\": [-1, 1, 2, 200]}}, {\"class\": \"Conv2d\", \"kargs\": {\"in_channels\": 1, \"out_channels\": 256, \"kernel_size\": [1, 7], \"bias\": false, \"padding\": [0, 3]}}, {\"class\": \"ReLU\", \"kargs\": {\"inplace\": true}}, {\"class\": \"BatchNorm2d\", \"kargs\": {\"num_features\": 256}}, {\"class\": \"Conv2d\", \"kargs\": {\"in_channels\": 256, \"out_channels\": 80, \"kernel_size\": [2, 7], \"bias\": true, \"padding\": [0, 3]}}, {\"class\": \"ReLU\", \"kargs\": {\"inplace\": true}}, {\"class\": \"BatchNorm2d\", \"kargs\": {\"num_features\": 80}}, {\"class\": \"Flatten\", \"kargs\": {}}, {\"class\": \"Linear\", \"kargs\": {\"in_features\": 16000, \"out_features\": 256}}, {\"class\": \"ReLU\", \"kargs\": {\"inplace\": true}}, {\"class\": \"BatchNorm1d\", \"kargs\": {\"num_features\": 256}}, {\"class\": \"Linear\", \"kargs\": {\"in_features\": 256, \"out_features\": 256}}], \"NUM_LOGS_PER_EPOCH\": 10, \"BEST_MODEL_PATH\": \"./best_model.pth\", \"n_way\": 16, \"datasets\": [{\"labels\": [\"1-10.\", \"1-11.\", \"1-15.\", \"1-16.\", \"1-17.\", \"1-18.\", \"1-19.\", \"10-4.\", \"10-7.\", \"11-1.\", \"11-14.\", \"11-17.\", \"11-20.\", \"11-7.\", \"13-20.\", \"13-8.\", \"14-10.\", \"14-11.\", \"14-14.\", \"14-7.\", \"15-1.\", \"15-20.\", \"16-1.\", \"16-16.\", \"17-10.\", \"17-11.\", \"17-2.\", \"19-1.\", \"19-16.\", \"19-19.\", \"19-20.\", \"19-3.\", \"2-10.\", \"2-11.\", \"2-17.\", \"2-18.\", \"2-20.\", \"2-3.\", \"2-4.\", \"2-5.\", \"2-6.\", \"2-7.\", \"2-8.\", \"3-13.\", \"3-18.\", \"3-3.\", \"4-1.\", \"4-10.\", \"4-11.\", \"4-19.\", \"5-5.\", \"6-15.\", \"7-10.\", \"7-14.\", \"8-18.\", \"8-20.\", \"8-3.\", \"8-8.\"], \"domains\": [1, 2, 3, 4, 5], \"num_examples_per_domain_per_label\": -1, \"pickle_path\": \"/mnt/wd500GB/CSC500/csc500-main/datasets/cores.stratified_ds.2022A.pkl\", \"source_or_target_dataset\": \"source\", \"x_transforms\": [\"take_200\"], \"episode_transforms\": [], \"domain_prefix\": \"C_\"}, {\"labels\": [\"3123D52\", \"3123D65\", \"3123D79\", \"3123D80\", \"3123D54\", \"3123D70\", \"3123D7B\", \"3123D89\", \"3123D58\", \"3123D76\", \"3123D7D\", \"3123EFE\", \"3123D64\", \"3123D78\", \"3123D7E\", \"3124E4A\"], \"domains\": [32, 38, 8, 44, 14, 50, 20, 26], \"num_examples_per_domain_per_label\": 2000, \"pickle_path\": \"/mnt/wd500GB/CSC500/csc500-main/datasets/oracle.Run1_framed_2000Examples_stratified_ds.2022A.pkl\", \"source_or_target_dataset\": \"target\", \"x_transforms\": [\"take_200\", \"resample_20Msps_to_25Msps\"], \"episode_transforms\": [], \"domain_prefix\": \"O_\"}], \"seed\": 154325, \"dataset_seed\": 154325, \"domains_source\": [\"C_1\", \"C_2\", \"C_3\", \"C_4\", \"C_5\"], \"domains_target\": [\"O_32\", \"O_38\", \"O_8\", \"O_44\", \"O_14\", \"O_50\", \"O_20\", \"O_26\"]}, \"results\": {\"source_test_label_accuracy\": 0.999265117581187, \"source_test_label_loss\": 0.011598826386034489, \"target_test_label_accuracy\": 0.5265299479166666, \"target_test_label_loss\": 1.387234091758728, \"source_val_label_accuracy\": 0.9993921624713958, \"source_val_label_loss\": 0.011676677502691746, \"target_val_label_accuracy\": 0.5221028645833333, \"target_val_label_loss\": 1.3888416290283203, \"total_epochs_trained\": 13, \"total_experiment_time_secs\": 2047.5323767662048, \"confusion\": {\"C_2\": {\"21\": {\"21\": 120}, \"4\": {\"4\": 130}, \"6\": {\"6\": 124}, \"10\": {\"10\": 112}, \"33\": {\"33\": 28}, \"56\": {\"56\": 122}, \"20\": {\"20\": 132}, \"24\": {\"24\": 96}, \"45\": {\"45\": 128}, \"32\": {\"32\": 28}, \"27\": {\"27\": 148}, \"53\": {\"53\": 136}, \"8\": {\"8\": 160}, \"54\": {\"54\": 108}, \"50\": {\"50\": 134}, \"44\": {\"44\": 100}, \"5\": {\"5\": 120}, \"38\": {\"38\": 20}, \"19\": {\"19\": 132}, \"1\": {\"1\": 112}, \"30\": {\"30\": 144}, \"15\": {\"15\": 144}, \"23\": {\"23\": 146}, \"35\": {\"35\": 32}, \"22\": {\"22\": 128}, \"40\": {\"40\": 140}, \"46\": {\"46\": 126}, \"3\": {\"3\": 92}, \"48\": {\"48\": 148}, \"52\": {\"52\": 124}, \"2\": {\"2\": 32}, \"26\": {\"26\": 24}, \"17\": {\"17\": 104}, \"55\": {\"55\": 144}, \"51\": {\"51\": 122}, \"42\": {\"42\": 36}, \"41\": {\"41\": 19, \"1\": 1}, \"31\": {\"31\": 28}, \"16\": {\"16\": 138}, \"36\": {\"36\": 116}, \"49\": {\"49\": 24}, \"0\": {\"0\": 48}, \"18\": {\"18\": 48}, \"25\": {\"25\": 146}, \"9\": {\"9\": 122}, \"47\": {\"47\": 132}, \"7\": {\"7\": 36}, \"37\": {\"37\": 36}, \"13\": {\"13\": 116}, \"14\": {\"14\": 24}, \"34\": {\"34\": 28}, \"57\": {\"57\": 140}, \"11\": {\"11\": 138}, \"39\": {\"39\": 28}, \"12\": {\"12\": 92}, \"28\": {\"28\": 28}, \"29\": {\"29\": 128}, \"43\": {\"43\": 140}}, \"C_5\": {\"12\": {\"12\": 96}, \"8\": {\"8\": 142}, \"29\": {\"29\": 132}, \"57\": {\"57\": 126}, \"38\": {\"38\": 32}, \"23\": {\"23\": 124}, \"56\": {\"56\": 138}, \"49\": {\"49\": 36}, \"4\": {\"4\": 100}, \"48\": {\"48\": 136}, \"21\": {\"21\": 144}, \"30\": {\"30\": 128}, \"1\": {\"1\": 148}, \"34\": {\"34\": 36}, \"35\": {\"35\": 36}, \"55\": {\"55\": 152}, \"5\": {\"5\": 122}, \"52\": {\"52\": 126}, \"6\": {\"6\": 128}, \"36\": {\"36\": 92}, \"41\": {\"41\": 28}, \"3\": {\"3\": 100}, \"28\": {\"28\": 32}, \"18\": {\"18\": 64}, \"25\": {\"25\": 136}, \"47\": {\"47\": 100}, \"13\": {\"13\": 160}, \"11\": {\"11\": 143, \"15\": 1}, \"53\": {\"53\": 144}, \"33\": {\"33\": 32}, \"46\": {\"46\": 148}, \"50\": {\"50\": 148}, \"10\": {\"10\": 67, \"24\": 1}, \"15\": {\"15\": 137, \"11\": 1}, \"44\": {\"44\": 140}, \"2\": {\"2\": 28}, \"7\": {\"7\": 32}, \"43\": {\"43\": 138}, \"32\": {\"32\": 32}, \"0\": {\"0\": 124}, \"39\": {\"39\": 20}, \"26\": {\"26\": 24}, \"27\": {\"27\": 112}, \"54\": {\"54\": 112}, \"17\": {\"17\": 116}, \"14\": {\"14\": 43, \"57\": 1}, \"16\": {\"16\": 148}, \"9\": {\"9\": 148}, \"19\": {\"19\": 152}, \"20\": {\"20\": 138}, \"37\": {\"37\": 24}, \"24\": {\"24\": 80}, \"40\": {\"40\": 122}, \"45\": {\"45\": 124}, \"22\": {\"22\": 28}, \"42\": {\"42\": 38, \"47\": 1, \"21\": 1}, \"51\": {\"51\": 118}, \"31\": {\"31\": 36}}, \"C_1\": {\"27\": {\"27\": 142}, \"2\": {\"2\": 36}, \"33\": {\"33\": 32}, \"45\": {\"45\": 156}, \"38\": {\"38\": 24}, \"4\": {\"4\": 132}, \"31\": {\"31\": 28}, \"55\": {\"55\": 140}, \"32\": {\"32\": 32}, \"57\": {\"57\": 140}, \"14\": {\"14\": 24}, \"16\": {\"16\": 140}, \"34\": {\"34\": 24}, \"56\": {\"56\": 126}, \"24\": {\"24\": 108}, \"30\": {\"30\": 112}, \"17\": {\"17\": 64}, \"13\": {\"13\": 138}, \"39\": {\"39\": 28}, \"50\": {\"50\": 146}, \"20\": {\"20\": 139, \"12\": 1}, \"41\": {\"41\": 24}, \"53\": {\"53\": 126}, \"48\": {\"48\": 142}, \"36\": {\"36\": 64}, \"8\": {\"8\": 140}, \"15\": {\"15\": 132}, \"40\": {\"40\": 156}, \"37\": {\"37\": 32}, \"21\": {\"21\": 120}, \"35\": {\"35\": 36}, \"49\": {\"49\": 32}, \"26\": {\"26\": 24}, \"28\": {\"28\": 28}, \"12\": {\"12\": 116}, \"5\": {\"5\": 152}, \"29\": {\"29\": 140}, \"47\": {\"47\": 140}, \"10\": {\"10\": 96}, \"18\": {\"18\": 71, \"50\": 1}, \"9\": {\"9\": 126}, \"3\": {\"3\": 140}, \"52\": {\"52\": 132}, \"25\": {\"25\": 136}, \"19\": {\"19\": 156}, \"11\": {\"11\": 136}, \"7\": {\"7\": 28}, \"23\": {\"23\": 136}, \"44\": {\"44\": 132}, \"42\": {\"42\": 40}, \"54\": {\"54\": 104}, \"1\": {\"1\": 100}, \"46\": {\"46\": 128}, \"6\": {\"6\": 96}, \"43\": {\"43\": 144}, \"51\": {\"51\": 142}, \"22\": {\"22\": 136}, \"0\": {\"0\": 128}}, \"C_4\": {\"32\": {\"32\": 24}, \"2\": {\"2\": 36}, \"41\": {\"41\": 36}, \"11\": {\"11\": 101, \"10\": 1}, \"57\": {\"57\": 100}, \"6\": {\"6\": 112}, \"23\": {\"23\": 136}, \"52\": {\"52\": 116}, \"38\": {\"38\": 40}, \"50\": {\"50\": 132}, \"55\": {\"55\": 152}, \"46\": {\"46\": 154}, \"37\": {\"37\": 24}, \"20\": {\"20\": 118}, \"49\": {\"49\": 20}, \"45\": {\"45\": 96}, \"54\": {\"54\": 108}, \"3\": {\"3\": 122, \"50\": 2}, \"13\": {\"13\": 152}, \"18\": {\"18\": 108}, \"21\": {\"21\": 126}, \"43\": {\"43\": 144}, \"47\": {\"47\": 120}, \"4\": {\"4\": 132}, \"12\": {\"12\": 92}, \"9\": {\"9\": 126, \"27\": 1, \"4\": 1}, \"7\": {\"7\": 24}, \"56\": {\"56\": 112}, \"28\": {\"28\": 32}, \"44\": {\"44\": 132}, \"24\": {\"24\": 56}, \"33\": {\"33\": 36}, \"35\": {\"35\": 40}, \"51\": {\"51\": 138}, \"39\": {\"39\": 20}, \"36\": {\"36\": 92}, \"19\": {\"19\": 140}, \"0\": {\"0\": 80}, \"15\": {\"15\": 136}, \"29\": {\"29\": 124}, \"30\": {\"30\": 44}, \"1\": {\"1\": 40}, \"22\": {\"22\": 128}, \"40\": {\"40\": 146}, \"8\": {\"8\": 128}, \"53\": {\"53\": 138}, \"34\": {\"34\": 24}, \"10\": {\"10\": 122}, \"31\": {\"31\": 28}, \"17\": {\"17\": 80}, \"16\": {\"16\": 96}, \"42\": {\"42\": 32}, \"27\": {\"27\": 142}, \"14\": {\"14\": 16}, \"25\": {\"25\": 122}, \"48\": {\"48\": 132}, \"26\": {\"26\": 24}, \"5\": {\"5\": 108}}, \"C_3\": {\"14\": {\"14\": 40}, \"18\": {\"18\": 84}, \"30\": {\"30\": 120}, \"16\": {\"16\": 156}, \"1\": {\"1\": 100}, \"20\": {\"20\": 132}, \"7\": {\"7\": 36}, \"52\": {\"52\": 130}, \"9\": {\"9\": 140}, \"23\": {\"23\": 144}, \"55\": {\"55\": 164}, \"29\": {\"29\": 126}, \"56\": {\"56\": 134}, \"3\": {\"3\": 124}, \"42\": {\"42\": 28}, \"6\": {\"6\": 88}, \"5\": {\"5\": 116}, \"27\": {\"27\": 144}, \"47\": {\"47\": 92}, \"39\": {\"39\": 16}, \"34\": {\"34\": 31, \"23\": 1}, \"4\": {\"4\": 126}, \"24\": {\"24\": 104}, \"46\": {\"46\": 118}, \"50\": {\"50\": 125, \"3\": 1}, \"38\": {\"38\": 28}, \"54\": {\"54\": 100}, \"35\": {\"35\": 28}, \"2\": {\"2\": 32}, \"41\": {\"41\": 28}, \"57\": {\"57\": 118}, \"25\": {\"25\": 150}, \"48\": {\"48\": 116}, \"33\": {\"33\": 28}, \"45\": {\"45\": 60}, \"13\": {\"13\": 126}, \"36\": {\"36\": 100}, \"43\": {\"43\": 132}, \"28\": {\"28\": 28}, \"0\": {\"0\": 124}, \"12\": {\"12\": 92}, \"31\": {\"31\": 28}, \"40\": {\"40\": 116}, \"44\": {\"44\": 88}, \"32\": {\"32\": 28}, \"26\": {\"26\": 24}, \"8\": {\"8\": 116}, \"10\": {\"10\": 64}, \"15\": {\"15\": 142}, \"21\": {\"21\": 128}, \"37\": {\"37\": 28}, \"17\": {\"17\": 108}, \"51\": {\"51\": 124}, \"53\": {\"53\": 144}, \"19\": {\"19\": 136}, \"49\": {\"49\": 19, \"14\": 1}, \"11\": {\"11\": 138}, \"22\": {\"22\": 130}}, \"O_8\": {\"13\": {\"5\": 23, \"10\": 64, \"13\": 77, \"7\": 55, \"4\": 3, \"1\": 6, \"6\": 11, \"8\": 1}, \"9\": {\"9\": 236, \"3\": 4}, \"15\": {\"12\": 97, \"2\": 25, \"15\": 117, \"3\": 1}, \"2\": {\"2\": 134, \"3\": 46, \"12\": 31, \"15\": 29}, \"3\": {\"3\": 223, \"2\": 14, \"9\": 2, \"12\": 1}, \"8\": {\"4\": 51, \"7\": 4, \"8\": 99, \"11\": 33, \"6\": 11, \"14\": 18, \"13\": 3, \"10\": 2, \"1\": 16, \"5\": 3}, \"5\": {\"8\": 2, \"5\": 86, \"1\": 34, \"13\": 28, \"11\": 23, \"10\": 41, \"14\": 2, \"7\": 8, \"4\": 5, \"6\": 11}, \"14\": {\"11\": 12, \"14\": 142, \"4\": 52, \"8\": 26, \"6\": 2, \"0\": 2, \"1\": 2, \"5\": 2}, \"1\": {\"5\": 28, \"13\": 11, \"11\": 51, \"1\": 68, \"6\": 20, \"10\": 21, \"8\": 24, \"4\": 10, \"7\": 7}, \"0\": {\"0\": 240}, \"10\": {\"10\": 51, \"11\": 10, \"1\": 19, \"13\": 57, \"7\": 30, \"6\": 26, \"5\": 37, \"8\": 3, \"4\": 7}, \"6\": {\"6\": 58, \"13\": 32, \"8\": 11, \"7\": 58, \"5\": 11, \"4\": 20, \"1\": 20, \"10\": 25, \"11\": 5}, \"11\": {\"1\": 54, \"5\": 20, \"14\": 15, \"11\": 65, \"8\": 22, \"4\": 21, \"6\": 18, \"10\": 10, \"7\": 10, \"13\": 5}, \"7\": {\"6\": 59, \"13\": 50, \"7\": 85, \"10\": 24, \"5\": 10, \"1\": 6, \"4\": 4, \"8\": 1, \"11\": 1}, \"4\": {\"4\": 106, \"14\": 42, \"8\": 31, \"6\": 26, \"11\": 17, \"7\": 5, \"1\": 7, \"5\": 3, \"10\": 2, \"13\": 1}, \"12\": {\"12\": 121, \"15\": 105, \"2\": 14}}, \"O_38\": {\"13\": {\"10\": 16, \"13\": 143, \"0\": 39, \"7\": 28, \"14\": 7, \"2\": 5, \"9\": 1, \"4\": 1}, \"12\": {\"12\": 206, \"14\": 4, \"8\": 20, \"5\": 5, \"2\": 2, \"7\": 3}, \"2\": {\"8\": 17, \"2\": 151, \"7\": 18, \"14\": 31, \"5\": 9, \"12\": 6, \"13\": 7, \"9\": 1}, \"9\": {\"9\": 180, \"5\": 31, \"8\": 16, \"7\": 10, \"2\": 2, \"0\": 1}, \"15\": {\"6\": 5, \"15\": 191, \"1\": 6, \"5\": 22, \"8\": 15, \"9\": 1}, \"5\": {\"15\": 33, \"2\": 13, \"13\": 2, \"9\": 35, \"8\": 67, \"7\": 17, \"5\": 67, \"12\": 4, \"14\": 2}, \"14\": {\"14\": 155, \"2\": 41, \"4\": 5, \"0\": 4, \"7\": 18, \"13\": 10, \"12\": 6, \"8\": 1}, \"0\": {\"2\": 5, \"10\": 67, \"0\": 68, \"13\": 53, \"7\": 27, \"3\": 12, \"4\": 4, \"8\": 1, \"14\": 2, \"5\": 1}, \"3\": {\"3\": 237, \"11\": 2, \"0\": 1}, \"1\": {\"1\": 154, \"6\": 85, \"15\": 1}, \"11\": {\"11\": 236, \"3\": 4}, \"7\": {\"13\": 15, \"7\": 136, \"14\": 16, \"2\": 30, \"0\": 23, \"8\": 9, \"4\": 1, \"12\": 3, \"5\": 4, \"9\": 3}, \"8\": {\"7\": 18, \"8\": 60, \"5\": 60, \"9\": 23, \"2\": 31, \"15\": 30, \"0\": 1, \"12\": 12, \"14\": 2, \"13\": 3}, \"4\": {\"4\": 204, \"0\": 3, \"10\": 33}, \"10\": {\"10\": 145, \"0\": 34, \"4\": 36, \"13\": 18, \"3\": 3, \"14\": 3, \"7\": 1}, \"6\": {\"1\": 72, \"6\": 168}}, \"O_26\": {\"10\": {\"10\": 51, \"8\": 2, \"6\": 29, \"0\": 48, \"1\": 14, \"14\": 63, \"5\": 6, \"15\": 23, \"2\": 4}, \"12\": {\"12\": 177, \"3\": 3, \"8\": 24, \"7\": 6, \"4\": 2, \"13\": 4, \"9\": 20, \"2\": 2, \"0\": 2}, \"1\": {\"14\": 32, \"10\": 21, \"1\": 130, \"6\": 28, \"0\": 9, \"5\": 9, \"11\": 7, \"15\": 4}, \"0\": {\"7\": 6, \"1\": 5, \"0\": 85, \"10\": 50, \"6\": 11, \"2\": 17, \"8\": 12, \"14\": 34, \"5\": 3, \"15\": 10, \"9\": 7}, \"15\": {\"15\": 52, \"1\": 17, \"6\": 44, \"14\": 23, \"5\": 62, \"0\": 12, \"10\": 23, \"2\": 5, \"11\": 1, \"8\": 1}, \"13\": {\"4\": 18, \"3\": 38, \"13\": 114, \"2\": 12, \"7\": 13, \"9\": 26, \"8\": 7, \"12\": 12}, \"8\": {\"12\": 17, \"7\": 51, \"9\": 42, \"8\": 54, \"14\": 1, \"3\": 15, \"2\": 33, \"0\": 20, \"4\": 2, \"10\": 3, \"15\": 2}, \"3\": {\"2\": 21, \"4\": 11, \"3\": 80, \"13\": 43, \"7\": 30, \"9\": 30, \"8\": 19, \"12\": 6}, \"11\": {\"15\": 10, \"11\": 164, \"5\": 18, \"14\": 4, \"1\": 14, \"10\": 7, \"6\": 21, \"0\": 2}, \"4\": {\"4\": 193, \"3\": 24, \"13\": 14, \"12\": 4, \"9\": 2, \"7\": 3}, \"6\": {\"10\": 29, \"1\": 25, \"11\": 8, \"15\": 47, \"5\": 44, \"6\": 51, \"0\": 10, \"14\": 26}, \"7\": {\"7\": 55, \"8\": 48, \"9\": 34, \"3\": 35, \"2\": 36, \"0\": 8, \"13\": 17, \"12\": 5, \"10\": 2}, \"14\": {\"6\": 35, \"1\": 27, \"10\": 54, \"14\": 59, \"15\": 17, \"0\": 34, \"5\": 10, \"11\": 3, \"9\": 1}, \"2\": {\"8\": 41, \"2\": 63, \"0\": 19, \"9\": 31, \"3\": 22, \"7\": 37, \"10\": 4, \"13\": 14, \"15\": 4, \"12\": 1, \"6\": 1, \"4\": 1, \"14\": 1, \"5\": 1}, \"5\": {\"15\": 63, \"14\": 7, \"5\": 78, \"6\": 51, \"2\": 6, \"11\": 10, \"10\": 12, \"1\": 11, \"0\": 2}, \"9\": {\"7\": 29, \"4\": 7, \"9\": 48, \"8\": 26, \"13\": 27, \"14\": 1, \"3\": 33, \"2\": 37, \"0\": 11, \"12\": 13, \"10\": 4, \"15\": 4}}, \"O_20\": {\"5\": {\"2\": 18, \"5\": 31, \"6\": 5, \"1\": 36, \"15\": 9, \"3\": 42, \"14\": 16, \"7\": 17, \"12\": 13, \"4\": 4, \"9\": 25, \"8\": 21, \"10\": 1, \"0\": 2}, \"15\": {\"12\": 34, \"2\": 35, \"3\": 6, \"4\": 17, \"13\": 21, \"5\": 17, \"15\": 45, \"1\": 26, \"9\": 15, \"10\": 4, \"7\": 13, \"6\": 2, \"8\": 5}, \"9\": {\"1\": 38, \"15\": 16, \"4\": 7, \"12\": 15, \"5\": 34, \"3\": 38, \"2\": 13, \"14\": 5, \"6\": 11, \"9\": 27, \"7\": 21, \"8\": 10, \"10\": 1, \"13\": 4}, \"7\": {\"6\": 39, \"5\": 27, \"7\": 37, \"14\": 8, \"12\": 13, \"1\": 23, \"3\": 10, \"15\": 10, \"9\": 19, \"4\": 8, \"2\": 27, \"13\": 10, \"10\": 4, \"8\": 5}, \"3\": {\"14\": 24, \"3\": 30, \"5\": 38, \"4\": 6, \"1\": 22, \"8\": 43, \"9\": 26, \"7\": 18, \"0\": 6, \"2\": 9, \"12\": 7, \"6\": 7, \"15\": 4}, \"8\": {\"4\": 1, \"3\": 37, \"8\": 76, \"14\": 67, \"6\": 8, \"11\": 4, \"9\": 12, \"1\": 7, \"5\": 14, \"7\": 5, \"0\": 7, \"12\": 2}, \"4\": {\"10\": 31, \"4\": 77, \"6\": 21, \"7\": 12, \"2\": 13, \"1\": 6, \"12\": 35, \"14\": 6, \"9\": 10, \"15\": 14, \"13\": 7, \"5\": 6, \"3\": 2}, \"6\": {\"12\": 8, \"6\": 75, \"1\": 8, \"3\": 9, \"8\": 4, \"13\": 10, \"9\": 12, \"14\": 28, \"2\": 22, \"7\": 42, \"4\": 7, \"10\": 6, \"5\": 5, \"15\": 4}, \"2\": {\"1\": 14, \"13\": 29, \"6\": 16, \"4\": 15, \"7\": 32, \"2\": 37, \"9\": 12, \"12\": 32, \"15\": 36, \"10\": 8, \"5\": 6, \"3\": 2, \"8\": 1}, \"12\": {\"7\": 21, \"2\": 24, \"4\": 28, \"5\": 12, \"13\": 22, \"15\": 45, \"12\": 35, \"10\": 9, \"1\": 20, \"3\": 3, \"9\": 12, \"6\": 7, \"8\": 1, \"14\": 1}, \"0\": {\"14\": 9, \"0\": 175, \"8\": 20, \"3\": 15, \"11\": 17, \"5\": 4}, \"13\": {\"12\": 23, \"15\": 27, \"10\": 6, \"13\": 122, \"2\": 34, \"6\": 7, \"4\": 5, \"9\": 5, \"7\": 9, \"1\": 1, \"5\": 1}, \"10\": {\"4\": 52, \"12\": 17, \"10\": 144, \"2\": 7, \"15\": 1, \"5\": 1, \"6\": 5, \"13\": 9, \"7\": 4}, \"11\": {\"11\": 212, \"0\": 24, \"8\": 1, \"14\": 3}, \"14\": {\"8\": 64, \"14\": 92, \"3\": 28, \"5\": 7, \"6\": 16, \"1\": 8, \"9\": 5, \"7\": 8, \"0\": 6, \"2\": 1, \"4\": 4, \"11\": 1}, \"1\": {\"14\": 4, \"7\": 24, \"5\": 37, \"12\": 22, \"3\": 27, \"8\": 7, \"4\": 14, \"15\": 18, \"6\": 1, \"1\": 43, \"2\": 19, \"9\": 22, \"0\": 1, \"13\": 1}}, \"O_50\": {\"1\": {\"1\": 153, \"13\": 56, \"11\": 9, \"10\": 11, \"8\": 9, \"5\": 1, \"0\": 1}, \"2\": {\"2\": 154, \"14\": 41, \"0\": 45}, \"8\": {\"8\": 165, \"10\": 51, \"1\": 20, \"13\": 4}, \"7\": {\"7\": 135, \"4\": 69, \"5\": 33, \"15\": 2, \"6\": 1}, \"14\": {\"14\": 182, \"0\": 9, \"2\": 49}, \"6\": {\"6\": 82, \"15\": 73, \"5\": 32, \"12\": 2, \"3\": 3, \"9\": 20, \"11\": 24, \"4\": 1, \"13\": 1, \"7\": 2}, \"3\": {\"3\": 201, \"5\": 9, \"13\": 19, \"6\": 10, \"8\": 1}, \"4\": {\"4\": 115, \"7\": 87, \"5\": 20, \"15\": 13, \"6\": 4, \"9\": 1}, \"12\": {\"12\": 175, \"9\": 35, \"11\": 29, \"15\": 1}, \"15\": {\"15\": 99, \"9\": 26, \"6\": 69, \"5\": 26, \"11\": 12, \"7\": 3, \"13\": 2, \"4\": 2, \"12\": 1}, \"11\": {\"11\": 112, \"9\": 47, \"12\": 41, \"15\": 13, \"6\": 20, \"13\": 6, \"1\": 1}, \"0\": {\"0\": 150, \"2\": 46, \"10\": 26, \"8\": 4, \"14\": 13, \"1\": 1}, \"9\": {\"9\": 115, \"12\": 30, \"11\": 44, \"15\": 29, \"6\": 19, \"5\": 2, \"4\": 1}, \"10\": {\"10\": 140, \"1\": 6, \"8\": 62, \"0\": 31, \"2\": 1}, \"5\": {\"13\": 11, \"9\": 2, \"7\": 61, \"4\": 26, \"5\": 81, \"11\": 4, \"6\": 22, \"15\": 23, \"3\": 10}, \"13\": {\"13\": 166, \"1\": 35, \"11\": 16, \"5\": 2, \"3\": 13, \"8\": 6, \"6\": 2}}, \"O_32\": {\"2\": {\"2\": 105, \"4\": 74, \"13\": 25, \"3\": 18, \"0\": 5, \"9\": 1, \"14\": 12}, \"6\": {\"6\": 238, \"10\": 1, \"12\": 1}, \"5\": {\"8\": 36, \"5\": 107, \"14\": 23, \"7\": 39, \"15\": 7, \"2\": 1, \"0\": 26, \"4\": 1}, \"12\": {\"12\": 219, \"9\": 20, \"10\": 1}, \"13\": {\"4\": 36, \"13\": 110, \"11\": 16, \"3\": 58, \"9\": 2, \"2\": 18}, \"9\": {\"9\": 176, \"12\": 34, \"2\": 5, \"11\": 7, \"13\": 10, \"1\": 1, \"4\": 4, \"8\": 1, \"3\": 2}, \"11\": {\"11\": 214, \"13\": 20, \"3\": 6}, \"1\": {\"1\": 240}, \"3\": {\"2\": 27, \"3\": 128, \"4\": 34, \"11\": 1, \"8\": 3, \"13\": 46, \"14\": 1}, \"7\": {\"7\": 87, \"0\": 34, \"8\": 33, \"5\": 45, \"2\": 2, \"14\": 39}, \"14\": {\"2\": 26, \"7\": 52, \"13\": 1, \"0\": 28, \"14\": 81, \"5\": 17, \"4\": 10, \"8\": 23, \"3\": 2}, \"8\": {\"0\": 63, \"5\": 37, \"7\": 23, \"14\": 20, \"8\": 87, \"15\": 4, \"3\": 1, \"4\": 3, \"2\": 2}, \"4\": {\"2\": 91, \"3\": 39, \"13\": 45, \"4\": 62, \"14\": 2, \"0\": 1}, \"0\": {\"8\": 59, \"14\": 26, \"5\": 36, \"7\": 42, \"0\": 70, \"2\": 5, \"15\": 1, \"4\": 1}, \"10\": {\"10\": 235, \"12\": 5}, \"15\": {\"15\": 225, \"5\": 7, \"8\": 4, \"0\": 4}}, \"O_44\": {\"13\": {\"13\": 140, \"6\": 81, \"11\": 5, \"9\": 12, \"7\": 2}, \"4\": {\"9\": 31, \"14\": 45, \"15\": 24, \"4\": 58, \"5\": 30, \"7\": 35, \"2\": 7, \"6\": 2, \"10\": 5, \"8\": 3}, \"6\": {\"13\": 79, \"6\": 130, \"7\": 3, \"9\": 26, \"4\": 1, \"10\": 1}, \"0\": {\"0\": 160, \"8\": 70, \"2\": 2, \"15\": 5, \"5\": 2, \"14\": 1}, \"10\": {\"10\": 108, \"7\": 59, \"9\": 28, \"2\": 25, \"4\": 9, \"1\": 4, \"14\": 4, \"15\": 1, \"6\": 2}, \"7\": {\"10\": 43, \"7\": 99, \"4\": 27, \"5\": 1, \"14\": 9, \"6\": 5, \"9\": 54, \"2\": 2}, \"14\": {\"14\": 76, \"5\": 65, \"15\": 29, \"4\": 47, \"8\": 1, \"2\": 10, \"7\": 8, \"10\": 1, \"9\": 3}, \"15\": {\"15\": 107, \"2\": 6, \"8\": 56, \"14\": 22, \"4\": 15, \"0\": 8, \"5\": 22, \"1\": 4}, \"5\": {\"4\": 37, \"5\": 83, \"14\": 70, \"15\": 37, \"9\": 4, \"8\": 4, \"7\": 3, \"0\": 1, \"2\": 1}, \"2\": {\"7\": 3, \"2\": 158, \"15\": 9, \"1\": 38, \"14\": 8, \"10\": 16, \"4\": 4, \"5\": 2, \"9\": 2}, \"9\": {\"7\": 52, \"9\": 55, \"6\": 36, \"4\": 33, \"13\": 23, \"10\": 15, \"5\": 4, \"14\": 13, \"2\": 7, \"15\": 2}, \"12\": {\"3\": 111, \"12\": 129}, \"8\": {\"15\": 50, \"8\": 100, \"0\": 82, \"5\": 5, \"14\": 2, \"4\": 1}, \"3\": {\"3\": 146, \"12\": 93, \"0\": 1}, \"1\": {\"2\": 38, \"1\": 190, \"8\": 2, \"15\": 7, \"12\": 1, \"10\": 1, \"0\": 1}, \"11\": {\"11\": 237, \"13\": 3}}, \"O_14\": {\"1\": {\"9\": 9, \"1\": 229, \"4\": 2}, \"15\": {\"15\": 240}, \"10\": {\"10\": 183, \"12\": 15, \"9\": 16, \"4\": 20, \"5\": 2, \"0\": 2, \"2\": 2}, \"2\": {\"12\": 1, \"6\": 11, \"10\": 1, \"3\": 20, \"5\": 52, \"4\": 29, \"14\": 27, \"7\": 10, \"2\": 57, \"0\": 23, \"13\": 7, \"8\": 2}, \"9\": {\"9\": 198, \"10\": 17, \"1\": 21, \"4\": 1, \"12\": 3}, \"5\": {\"5\": 84, \"4\": 28, \"6\": 1, \"14\": 11, \"8\": 29, \"2\": 51, \"7\": 19, \"0\": 8, \"3\": 7, \"13\": 2}, \"7\": {\"7\": 188, \"3\": 19, \"2\": 3, \"5\": 15, \"8\": 13, \"4\": 1, \"14\": 1}, \"13\": {\"14\": 38, \"6\": 69, \"15\": 17, \"4\": 6, \"5\": 5, \"2\": 14, \"0\": 13, \"13\": 54, \"10\": 2, \"3\": 21, \"12\": 1}, \"8\": {\"8\": 149, \"0\": 5, \"4\": 18, \"2\": 7, \"5\": 40, \"12\": 3, \"7\": 14, \"3\": 3, \"14\": 1}, \"6\": {\"13\": 64, \"6\": 111, \"2\": 6, \"14\": 24, \"3\": 30, \"0\": 5}, \"3\": {\"3\": 99, \"2\": 21, \"14\": 26, \"6\": 22, \"5\": 7, \"0\": 32, \"13\": 20, \"7\": 10, \"8\": 3}, \"12\": {\"12\": 195, \"2\": 1, \"8\": 8, \"10\": 14, \"0\": 16, \"14\": 3, \"9\": 1, \"4\": 1, \"5\": 1}, \"0\": {\"6\": 10, \"3\": 38, \"0\": 90, \"2\": 22, \"5\": 10, \"14\": 42, \"4\": 10, \"12\": 9, \"13\": 5, \"10\": 1, \"8\": 3}, \"4\": {\"4\": 148, \"8\": 7, \"5\": 33, \"10\": 22, \"2\": 13, \"0\": 8, \"9\": 4, \"1\": 3, \"14\": 1, \"12\": 1}, \"14\": {\"3\": 37, \"0\": 40, \"2\": 49, \"14\": 71, \"6\": 19, \"5\": 8, \"13\": 15, \"7\": 1}, \"11\": {\"11\": 237, \"9\": 1, \"1\": 2}}}, \"per_domain_accuracy\": {\"C_2\": {\"accuracy\": 0.9998224431818182, \"source?\": true}, \"C_5\": {\"accuracy\": 0.9989466292134831, \"source?\": true}, \"C_1\": {\"accuracy\": 0.9996565934065934, \"source?\": true}, \"C_4\": {\"accuracy\": 0.999064371257485, \"source?\": true}, \"C_3\": {\"accuracy\": 0.9994517543859649, \"source?\": true}, \"O_8\": {\"accuracy\": 0.496875, \"source?\": false}, \"O_38\": {\"accuracy\": 0.6513020833333333, \"source?\": false}, \"O_26\": {\"accuracy\": 0.37864583333333335, \"source?\": false}, \"O_20\": {\"accuracy\": 0.32760416666666664, \"source?\": false}, \"O_50\": {\"accuracy\": 0.5794270833333334, \"source?\": false}, \"O_32\": {\"accuracy\": 0.6208333333333333, \"source?\": false}, \"O_44\": {\"accuracy\": 0.5145833333333333, \"source?\": false}, \"O_14\": {\"accuracy\": 0.6075520833333333, \"source?\": false}}}, \"history\": {\"epoch_indices\": [1, 2, 3, 4, 5, 6, 7, 8, 9, 10, 11, 12, 13], \"train_label_loss\": [0.03365518839710314, 0.009199756527128896, 0.006769700437319444, 0.00624970674166851, 0.00512826398580183, 0.003331276080620581, 0.004037914491002268, 0.0031151152019450795, 0.0022765590748241894, 0.002711414845273433, 0.00317913823656997, 0.0021868272039677313, 0.0017587013239764202], \"source_val_label_loss\": [0.007592190057039261, 0.020755913108587265, 0.01522222813218832, 0.007230063900351524, 0.006426594220101833, 0.0059662130661308765, 0.011694335378706455, 0.008688542060554028, 0.011676677502691746, 0.006857783533632755, 0.0048676747828722, 0.004789428785443306, 0.011766978539526463], \"target_val_label_loss\": [1.8843004703521729, 1.766058087348938, 1.7261412143707275, 1.7568347454071045, 1.5953364372253418, 1.6978715658187866, 1.7249759435653687, 1.4849375486373901, 1.3888416290283203, 1.6019638776779175, 1.4482985734939575, 1.6427403688430786, 1.5533647537231445], \"source_val_acc_label\": [0.9981049771167048, 0.9967105263157895, 0.9978189359267735, 0.9994636727688787, 0.9990703661327232, 0.999570938215103, 0.9994279176201373, 0.9993206521739131, 0.9993921624713958, 0.9995351830663616, 0.9993564073226545, 0.9996782036613272, 0.9995351830663616], \"target_val_acc_label\": [0.48629557291666664, 0.4720703125, 0.48291015625, 0.46162109375, 0.4996419270833333, 0.41946614583333336, 0.40748697916666665, 0.5204752604166667, 0.5221028645833333, 0.46510416666666665, 0.5113932291666666, 0.4317708333333333, 0.45859375]}, \"dataset_metrics\": {\"source\": {\"train\": {\"n_unique_x\": 175168, \"n_unique_y\": 58, \"n_batch/episode\": 6315}, \"val\": {\"n_unique_x\": 37135, \"n_unique_y\": 58, \"n_batch/episode\": 874}, \"test\": {\"n_unique_x\": 37673, \"n_unique_y\": 58, \"n_batch/episode\": 893}}, \"target\": {\"train\": {\"n_unique_x\": 179200, \"n_unique_y\": 16, \"n_batch/episode\": 6720}, \"val\": {\"n_unique_x\": 38400, \"n_unique_y\": 16, \"n_batch/episode\": 960}, \"test\": {\"n_unique_x\": 38400, \"n_unique_y\": 16, \"n_batch/episode\": 960}}}}'"
      ]
     },
     "execution_count": 29,
     "metadata": {},
     "output_type": "execute_result"
    }
   ],
   "source": [
    "json.dumps(experiment)"
   ]
  }
 ],
 "metadata": {
  "celltoolbar": "Tags",
  "kernelspec": {
   "display_name": "Python 3 (ipykernel)",
   "language": "python",
   "name": "python3"
  },
  "language_info": {
   "codemirror_mode": {
    "name": "ipython",
    "version": 3
   },
   "file_extension": ".py",
   "mimetype": "text/x-python",
   "name": "python",
   "nbconvert_exporter": "python",
   "pygments_lexer": "ipython3",
   "version": "3.8.10"
  },
  "papermill": {
   "default_parameters": {},
   "duration": 2143.693937,
   "end_time": "2022-03-25T05:21:41.275599",
   "environment_variables": {},
   "exception": null,
   "input_path": "/mnt/wd500GB/CSC500/csc500-main/csc500-notebooks/templates/tl_ptn_template.ipynb",
   "output_path": "trial.ipynb",
   "parameters": {
    "parameters": {
     "BEST_MODEL_PATH": "./best_model.pth",
     "NUM_LOGS_PER_EPOCH": 10,
     "criteria_for_best": "target_accuracy",
     "dataset_seed": 154325,
     "datasets": [
      {
       "domain_prefix": "C_",
       "domains": [
        1,
        2,
        3,
        4,
        5
       ],
       "episode_transforms": [],
       "labels": [
        "1-10.",
        "1-11.",
        "1-15.",
        "1-16.",
        "1-17.",
        "1-18.",
        "1-19.",
        "10-4.",
        "10-7.",
        "11-1.",
        "11-14.",
        "11-17.",
        "11-20.",
        "11-7.",
        "13-20.",
        "13-8.",
        "14-10.",
        "14-11.",
        "14-14.",
        "14-7.",
        "15-1.",
        "15-20.",
        "16-1.",
        "16-16.",
        "17-10.",
        "17-11.",
        "17-2.",
        "19-1.",
        "19-16.",
        "19-19.",
        "19-20.",
        "19-3.",
        "2-10.",
        "2-11.",
        "2-17.",
        "2-18.",
        "2-20.",
        "2-3.",
        "2-4.",
        "2-5.",
        "2-6.",
        "2-7.",
        "2-8.",
        "3-13.",
        "3-18.",
        "3-3.",
        "4-1.",
        "4-10.",
        "4-11.",
        "4-19.",
        "5-5.",
        "6-15.",
        "7-10.",
        "7-14.",
        "8-18.",
        "8-20.",
        "8-3.",
        "8-8."
       ],
       "num_examples_per_domain_per_label": -1,
       "pickle_path": "/mnt/wd500GB/CSC500/csc500-main/datasets/cores.stratified_ds.2022A.pkl",
       "source_or_target_dataset": "source",
       "x_transforms": [
        "take_200"
       ]
      },
      {
       "domain_prefix": "O_",
       "domains": [
        32,
        38,
        8,
        44,
        14,
        50,
        20,
        26
       ],
       "episode_transforms": [],
       "labels": [
        "3123D52",
        "3123D65",
        "3123D79",
        "3123D80",
        "3123D54",
        "3123D70",
        "3123D7B",
        "3123D89",
        "3123D58",
        "3123D76",
        "3123D7D",
        "3123EFE",
        "3123D64",
        "3123D78",
        "3123D7E",
        "3124E4A"
       ],
       "num_examples_per_domain_per_label": 2000,
       "pickle_path": "/mnt/wd500GB/CSC500/csc500-main/datasets/oracle.Run1_framed_2000Examples_stratified_ds.2022A.pkl",
       "source_or_target_dataset": "target",
       "x_transforms": [
        "take_200",
        "resample_20Msps_to_25Msps"
       ]
      }
     ],
     "device": "cuda",
     "experiment_name": "tl_3Av2:cores -> oracle.run1.framed",
     "lr": 0.0001,
     "n_epoch": 50,
     "n_query": 2,
     "n_shot": 3,
     "n_way": 16,
     "patience": 3,
     "seed": 154325,
     "test_k_factor": 2,
     "torch_default_dtype": "torch.float32",
     "train_k_factor": 3,
     "val_k_factor": 2,
     "x_net": [
      {
       "class": "nnReshape",
       "kargs": {
        "shape": [
         -1,
         1,
         2,
         200
        ]
       }
      },
      {
       "class": "Conv2d",
       "kargs": {
        "bias": false,
        "in_channels": 1,
        "kernel_size": [
         1,
         7
        ],
        "out_channels": 256,
        "padding": [
         0,
         3
        ]
       }
      },
      {
       "class": "ReLU",
       "kargs": {
        "inplace": true
       }
      },
      {
       "class": "BatchNorm2d",
       "kargs": {
        "num_features": 256
       }
      },
      {
       "class": "Conv2d",
       "kargs": {
        "bias": true,
        "in_channels": 256,
        "kernel_size": [
         2,
         7
        ],
        "out_channels": 80,
        "padding": [
         0,
         3
        ]
       }
      },
      {
       "class": "ReLU",
       "kargs": {
        "inplace": true
       }
      },
      {
       "class": "BatchNorm2d",
       "kargs": {
        "num_features": 80
       }
      },
      {
       "class": "Flatten",
       "kargs": {}
      },
      {
       "class": "Linear",
       "kargs": {
        "in_features": 16000,
        "out_features": 256
       }
      },
      {
       "class": "ReLU",
       "kargs": {
        "inplace": true
       }
      },
      {
       "class": "BatchNorm1d",
       "kargs": {
        "num_features": 256
       }
      },
      {
       "class": "Linear",
       "kargs": {
        "in_features": 256,
        "out_features": 256
       }
      }
     ],
     "x_shape": [
      2,
      200
     ]
    }
   },
   "start_time": "2022-03-25T04:45:57.581662",
   "version": "2.3.4"
  }
 },
 "nbformat": 4,
 "nbformat_minor": 5
}