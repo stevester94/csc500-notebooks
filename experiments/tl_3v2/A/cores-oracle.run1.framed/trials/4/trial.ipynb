{
 "cells": [
  {
   "cell_type": "markdown",
   "id": "9fea5f46",
   "metadata": {
    "papermill": {
     "duration": 0.013113,
     "end_time": "2022-03-25T03:26:57.858670",
     "exception": false,
     "start_time": "2022-03-25T03:26:57.845557",
     "status": "completed"
    },
    "tags": []
   },
   "source": [
    "# Transfer Learning Template"
   ]
  },
  {
   "cell_type": "code",
   "execution_count": 1,
   "id": "0902182a",
   "metadata": {
    "execution": {
     "iopub.execute_input": "2022-03-25T03:26:57.897993Z",
     "iopub.status.busy": "2022-03-25T03:26:57.897729Z",
     "iopub.status.idle": "2022-03-25T03:26:58.836611Z",
     "shell.execute_reply": "2022-03-25T03:26:58.837036Z"
    },
    "papermill": {
     "duration": 0.965991,
     "end_time": "2022-03-25T03:26:58.837233",
     "exception": false,
     "start_time": "2022-03-25T03:26:57.871242",
     "status": "completed"
    },
    "tags": []
   },
   "outputs": [],
   "source": [
    "%load_ext autoreload\n",
    "%autoreload 2\n",
    "%matplotlib inline\n",
    "\n",
    "    \n",
    "import os, json, sys, time, random\n",
    "import numpy as np\n",
    "import torch\n",
    "from torch.optim import Adam\n",
    "from  easydict import EasyDict\n",
    "import matplotlib.pyplot as plt\n",
    "\n",
    "from steves_models.steves_ptn import Steves_Prototypical_Network\n",
    "\n",
    "from steves_utils.lazy_iterable_wrapper import Lazy_Iterable_Wrapper\n",
    "from steves_utils.iterable_aggregator import Iterable_Aggregator\n",
    "from steves_utils.ptn_train_eval_test_jig import  PTN_Train_Eval_Test_Jig\n",
    "from steves_utils.torch_sequential_builder import build_sequential\n",
    "from steves_utils.torch_utils import get_dataset_metrics, ptn_confusion_by_domain_over_dataloader\n",
    "from steves_utils.utils_v2 import (per_domain_accuracy_from_confusion, get_datasets_base_path)\n",
    "from steves_utils.PTN.utils import independent_accuracy_assesment\n",
    "\n",
    "from torch.utils.data import DataLoader\n",
    "\n",
    "from steves_utils.stratified_dataset.episodic_accessor import Episodic_Accessor_Factory\n",
    "\n",
    "from steves_utils.ptn_do_report import (\n",
    "    get_loss_curve,\n",
    "    get_results_table,\n",
    "    get_parameters_table,\n",
    "    get_domain_accuracies,\n",
    ")\n",
    "\n",
    "from steves_utils.transforms import get_chained_transform"
   ]
  },
  {
   "cell_type": "markdown",
   "id": "41c840b4",
   "metadata": {
    "papermill": {
     "duration": 0.012529,
     "end_time": "2022-03-25T03:26:58.867360",
     "exception": false,
     "start_time": "2022-03-25T03:26:58.854831",
     "status": "completed"
    },
    "tags": []
   },
   "source": [
    "# Allowed Parameters\n",
    "These are allowed parameters, not defaults\n",
    "Each of these values need to be present in the injected parameters (the notebook will raise an exception if they are not present)\n",
    "\n",
    "Papermill uses the cell tag \"parameters\" to inject the real parameters below this cell.\n",
    "Enable tags to see what I mean"
   ]
  },
  {
   "cell_type": "code",
   "execution_count": 2,
   "id": "fd44eb83",
   "metadata": {
    "execution": {
     "iopub.execute_input": "2022-03-25T03:26:58.895791Z",
     "iopub.status.busy": "2022-03-25T03:26:58.895511Z",
     "iopub.status.idle": "2022-03-25T03:26:58.911720Z",
     "shell.execute_reply": "2022-03-25T03:26:58.912121Z"
    },
    "papermill": {
     "duration": 0.032155,
     "end_time": "2022-03-25T03:26:58.912246",
     "exception": false,
     "start_time": "2022-03-25T03:26:58.880091",
     "status": "completed"
    },
    "tags": []
   },
   "outputs": [],
   "source": [
    "required_parameters = {\n",
    "    \"experiment_name\",\n",
    "    \"lr\",\n",
    "    \"device\",\n",
    "    \"seed\",\n",
    "    \"dataset_seed\",\n",
    "    \"n_shot\",\n",
    "    \"n_query\",\n",
    "    \"n_way\",\n",
    "    \"train_k_factor\",\n",
    "    \"val_k_factor\",\n",
    "    \"test_k_factor\",\n",
    "    \"n_epoch\",\n",
    "    \"patience\",\n",
    "    \"criteria_for_best\",\n",
    "    \"x_net\",\n",
    "    \"datasets\",\n",
    "    \"torch_default_dtype\",\n",
    "    \"NUM_LOGS_PER_EPOCH\",\n",
    "    \"BEST_MODEL_PATH\",\n",
    "    \"x_shape\",\n",
    "}"
   ]
  },
  {
   "cell_type": "code",
   "execution_count": 3,
   "id": "fa3f0049",
   "metadata": {
    "execution": {
     "iopub.execute_input": "2022-03-25T03:26:58.949372Z",
     "iopub.status.busy": "2022-03-25T03:26:58.949018Z",
     "iopub.status.idle": "2022-03-25T03:26:58.961359Z",
     "shell.execute_reply": "2022-03-25T03:26:58.961570Z"
    },
    "papermill": {
     "duration": 0.031311,
     "end_time": "2022-03-25T03:26:58.961647",
     "exception": false,
     "start_time": "2022-03-25T03:26:58.930336",
     "status": "completed"
    },
    "tags": [
     "parameters"
    ]
   },
   "outputs": [],
   "source": [
    "from steves_utils.CORES.utils import (\n",
    "    ALL_NODES,\n",
    "    ALL_NODES_MINIMUM_1000_EXAMPLES,\n",
    "    ALL_DAYS\n",
    ")\n",
    "\n",
    "from steves_utils.ORACLE.utils_v2 import (\n",
    "    ALL_DISTANCES_FEET_NARROWED,\n",
    "    ALL_RUNS,\n",
    "    ALL_SERIAL_NUMBERS,\n",
    ")\n",
    "\n",
    "standalone_parameters = {}\n",
    "standalone_parameters[\"experiment_name\"] = \"STANDALONE PTN\"\n",
    "standalone_parameters[\"lr\"] = 0.001\n",
    "standalone_parameters[\"device\"] = \"cuda\"\n",
    "\n",
    "standalone_parameters[\"seed\"] = 1337\n",
    "standalone_parameters[\"dataset_seed\"] = 1337\n",
    "\n",
    "standalone_parameters[\"n_way\"] = 8\n",
    "standalone_parameters[\"n_shot\"] = 3\n",
    "standalone_parameters[\"n_query\"]  = 2\n",
    "standalone_parameters[\"train_k_factor\"] = 1\n",
    "standalone_parameters[\"val_k_factor\"] = 2\n",
    "standalone_parameters[\"test_k_factor\"] = 2\n",
    "\n",
    "\n",
    "standalone_parameters[\"n_epoch\"] = 50\n",
    "\n",
    "standalone_parameters[\"patience\"] = 10\n",
    "standalone_parameters[\"criteria_for_best\"] = \"source_loss\"\n",
    "\n",
    "standalone_parameters[\"datasets\"] = [\n",
    "    {\n",
    "        \"labels\": ALL_SERIAL_NUMBERS,\n",
    "        \"domains\": ALL_DISTANCES_FEET_NARROWED,\n",
    "        \"num_examples_per_domain_per_label\": 100,\n",
    "        \"pickle_path\": os.path.join(get_datasets_base_path(), \"oracle.Run1_framed_2000Examples_stratified_ds.2022A.pkl\"),\n",
    "        \"source_or_target_dataset\": \"source\",\n",
    "        \"x_transforms\": [\"unit_mag\", \"minus_two\"],\n",
    "        \"episode_transforms\": [],\n",
    "        \"domain_prefix\": \"ORACLE_\"\n",
    "    },\n",
    "    {\n",
    "        \"labels\": ALL_NODES,\n",
    "        \"domains\": ALL_DAYS,\n",
    "        \"num_examples_per_domain_per_label\": 100,\n",
    "        \"pickle_path\": os.path.join(get_datasets_base_path(), \"cores.stratified_ds.2022A.pkl\"),\n",
    "        \"source_or_target_dataset\": \"target\",\n",
    "        \"x_transforms\": [\"unit_power\", \"times_zero\"],\n",
    "        \"episode_transforms\": [],\n",
    "        \"domain_prefix\": \"CORES_\"\n",
    "    }   \n",
    "]\n",
    "\n",
    "standalone_parameters[\"torch_default_dtype\"] = \"torch.float32\" \n",
    "\n",
    "\n",
    "\n",
    "standalone_parameters[\"x_net\"] =     [\n",
    "    {\"class\": \"nnReshape\", \"kargs\": {\"shape\":[-1, 1, 2, 256]}},\n",
    "    {\"class\": \"Conv2d\", \"kargs\": { \"in_channels\":1, \"out_channels\":256, \"kernel_size\":(1,7), \"bias\":False, \"padding\":(0,3), },},\n",
    "    {\"class\": \"ReLU\", \"kargs\": {\"inplace\": True}},\n",
    "    {\"class\": \"BatchNorm2d\", \"kargs\": {\"num_features\":256}},\n",
    "\n",
    "    {\"class\": \"Conv2d\", \"kargs\": { \"in_channels\":256, \"out_channels\":80, \"kernel_size\":(2,7), \"bias\":True, \"padding\":(0,3), },},\n",
    "    {\"class\": \"ReLU\", \"kargs\": {\"inplace\": True}},\n",
    "    {\"class\": \"BatchNorm2d\", \"kargs\": {\"num_features\":80}},\n",
    "    {\"class\": \"Flatten\", \"kargs\": {}},\n",
    "\n",
    "    {\"class\": \"Linear\", \"kargs\": {\"in_features\": 80*256, \"out_features\": 256}}, # 80 units per IQ pair\n",
    "    {\"class\": \"ReLU\", \"kargs\": {\"inplace\": True}},\n",
    "    {\"class\": \"BatchNorm1d\", \"kargs\": {\"num_features\":256}},\n",
    "\n",
    "    {\"class\": \"Linear\", \"kargs\": {\"in_features\": 256, \"out_features\": 256}},\n",
    "]\n",
    "\n",
    "# Parameters relevant to results\n",
    "# These parameters will basically never need to change\n",
    "standalone_parameters[\"NUM_LOGS_PER_EPOCH\"] = 10\n",
    "standalone_parameters[\"BEST_MODEL_PATH\"] = \"./best_model.pth\"\n",
    "\n",
    "\n",
    "\n",
    "\n"
   ]
  },
  {
   "cell_type": "code",
   "execution_count": 4,
   "id": "155f82f1",
   "metadata": {
    "execution": {
     "iopub.execute_input": "2022-03-25T03:26:58.997822Z",
     "iopub.status.busy": "2022-03-25T03:26:58.997334Z",
     "iopub.status.idle": "2022-03-25T03:26:59.011828Z",
     "shell.execute_reply": "2022-03-25T03:26:59.011549Z"
    },
    "papermill": {
     "duration": 0.037063,
     "end_time": "2022-03-25T03:26:59.011894",
     "exception": false,
     "start_time": "2022-03-25T03:26:58.974831",
     "status": "completed"
    },
    "tags": [
     "injected-parameters"
    ]
   },
   "outputs": [],
   "source": [
    "# Parameters\n",
    "parameters = {\n",
    "    \"experiment_name\": \"tl_3Av2:cores -> oracle.run1.framed\",\n",
    "    \"device\": \"cuda\",\n",
    "    \"lr\": 0.0001,\n",
    "    \"x_shape\": [2, 200],\n",
    "    \"n_shot\": 3,\n",
    "    \"n_query\": 2,\n",
    "    \"train_k_factor\": 3,\n",
    "    \"val_k_factor\": 2,\n",
    "    \"test_k_factor\": 2,\n",
    "    \"torch_default_dtype\": \"torch.float32\",\n",
    "    \"n_epoch\": 50,\n",
    "    \"patience\": 3,\n",
    "    \"criteria_for_best\": \"target_accuracy\",\n",
    "    \"x_net\": [\n",
    "        {\"class\": \"nnReshape\", \"kargs\": {\"shape\": [-1, 1, 2, 200]}},\n",
    "        {\n",
    "            \"class\": \"Conv2d\",\n",
    "            \"kargs\": {\n",
    "                \"in_channels\": 1,\n",
    "                \"out_channels\": 256,\n",
    "                \"kernel_size\": [1, 7],\n",
    "                \"bias\": False,\n",
    "                \"padding\": [0, 3],\n",
    "            },\n",
    "        },\n",
    "        {\"class\": \"ReLU\", \"kargs\": {\"inplace\": True}},\n",
    "        {\"class\": \"BatchNorm2d\", \"kargs\": {\"num_features\": 256}},\n",
    "        {\n",
    "            \"class\": \"Conv2d\",\n",
    "            \"kargs\": {\n",
    "                \"in_channels\": 256,\n",
    "                \"out_channels\": 80,\n",
    "                \"kernel_size\": [2, 7],\n",
    "                \"bias\": True,\n",
    "                \"padding\": [0, 3],\n",
    "            },\n",
    "        },\n",
    "        {\"class\": \"ReLU\", \"kargs\": {\"inplace\": True}},\n",
    "        {\"class\": \"BatchNorm2d\", \"kargs\": {\"num_features\": 80}},\n",
    "        {\"class\": \"Flatten\", \"kargs\": {}},\n",
    "        {\"class\": \"Linear\", \"kargs\": {\"in_features\": 16000, \"out_features\": 256}},\n",
    "        {\"class\": \"ReLU\", \"kargs\": {\"inplace\": True}},\n",
    "        {\"class\": \"BatchNorm1d\", \"kargs\": {\"num_features\": 256}},\n",
    "        {\"class\": \"Linear\", \"kargs\": {\"in_features\": 256, \"out_features\": 256}},\n",
    "    ],\n",
    "    \"NUM_LOGS_PER_EPOCH\": 10,\n",
    "    \"BEST_MODEL_PATH\": \"./best_model.pth\",\n",
    "    \"n_way\": 16,\n",
    "    \"datasets\": [\n",
    "        {\n",
    "            \"labels\": [\n",
    "                \"1-10.\",\n",
    "                \"1-11.\",\n",
    "                \"1-15.\",\n",
    "                \"1-16.\",\n",
    "                \"1-17.\",\n",
    "                \"1-18.\",\n",
    "                \"1-19.\",\n",
    "                \"10-4.\",\n",
    "                \"10-7.\",\n",
    "                \"11-1.\",\n",
    "                \"11-14.\",\n",
    "                \"11-17.\",\n",
    "                \"11-20.\",\n",
    "                \"11-7.\",\n",
    "                \"13-20.\",\n",
    "                \"13-8.\",\n",
    "                \"14-10.\",\n",
    "                \"14-11.\",\n",
    "                \"14-14.\",\n",
    "                \"14-7.\",\n",
    "                \"15-1.\",\n",
    "                \"15-20.\",\n",
    "                \"16-1.\",\n",
    "                \"16-16.\",\n",
    "                \"17-10.\",\n",
    "                \"17-11.\",\n",
    "                \"17-2.\",\n",
    "                \"19-1.\",\n",
    "                \"19-16.\",\n",
    "                \"19-19.\",\n",
    "                \"19-20.\",\n",
    "                \"19-3.\",\n",
    "                \"2-10.\",\n",
    "                \"2-11.\",\n",
    "                \"2-17.\",\n",
    "                \"2-18.\",\n",
    "                \"2-20.\",\n",
    "                \"2-3.\",\n",
    "                \"2-4.\",\n",
    "                \"2-5.\",\n",
    "                \"2-6.\",\n",
    "                \"2-7.\",\n",
    "                \"2-8.\",\n",
    "                \"3-13.\",\n",
    "                \"3-18.\",\n",
    "                \"3-3.\",\n",
    "                \"4-1.\",\n",
    "                \"4-10.\",\n",
    "                \"4-11.\",\n",
    "                \"4-19.\",\n",
    "                \"5-5.\",\n",
    "                \"6-15.\",\n",
    "                \"7-10.\",\n",
    "                \"7-14.\",\n",
    "                \"8-18.\",\n",
    "                \"8-20.\",\n",
    "                \"8-3.\",\n",
    "                \"8-8.\",\n",
    "            ],\n",
    "            \"domains\": [1, 2, 3, 4, 5],\n",
    "            \"num_examples_per_domain_per_label\": -1,\n",
    "            \"pickle_path\": \"/mnt/wd500GB/CSC500/csc500-main/datasets/cores.stratified_ds.2022A.pkl\",\n",
    "            \"source_or_target_dataset\": \"source\",\n",
    "            \"x_transforms\": [\"unit_mag\", \"take_200\"],\n",
    "            \"episode_transforms\": [],\n",
    "            \"domain_prefix\": \"C_\",\n",
    "        },\n",
    "        {\n",
    "            \"labels\": [\n",
    "                \"3123D52\",\n",
    "                \"3123D65\",\n",
    "                \"3123D79\",\n",
    "                \"3123D80\",\n",
    "                \"3123D54\",\n",
    "                \"3123D70\",\n",
    "                \"3123D7B\",\n",
    "                \"3123D89\",\n",
    "                \"3123D58\",\n",
    "                \"3123D76\",\n",
    "                \"3123D7D\",\n",
    "                \"3123EFE\",\n",
    "                \"3123D64\",\n",
    "                \"3123D78\",\n",
    "                \"3123D7E\",\n",
    "                \"3124E4A\",\n",
    "            ],\n",
    "            \"domains\": [32, 38, 8, 44, 14, 50, 20, 26],\n",
    "            \"num_examples_per_domain_per_label\": 2000,\n",
    "            \"pickle_path\": \"/mnt/wd500GB/CSC500/csc500-main/datasets/oracle.Run1_framed_2000Examples_stratified_ds.2022A.pkl\",\n",
    "            \"source_or_target_dataset\": \"target\",\n",
    "            \"x_transforms\": [\"unit_mag\", \"take_200\", \"resample_20Msps_to_25Msps\"],\n",
    "            \"episode_transforms\": [],\n",
    "            \"domain_prefix\": \"O_\",\n",
    "        },\n",
    "    ],\n",
    "    \"seed\": 420,\n",
    "    \"dataset_seed\": 420,\n",
    "}\n"
   ]
  },
  {
   "cell_type": "code",
   "execution_count": 5,
   "id": "8fa1cc33",
   "metadata": {
    "execution": {
     "iopub.execute_input": "2022-03-25T03:26:59.043863Z",
     "iopub.status.busy": "2022-03-25T03:26:59.043591Z",
     "iopub.status.idle": "2022-03-25T03:26:59.057396Z",
     "shell.execute_reply": "2022-03-25T03:26:59.056911Z"
    },
    "papermill": {
     "duration": 0.031409,
     "end_time": "2022-03-25T03:26:59.057498",
     "exception": false,
     "start_time": "2022-03-25T03:26:59.026089",
     "status": "completed"
    },
    "tags": []
   },
   "outputs": [],
   "source": [
    "# Set this to True if you want to run this template directly\n",
    "STANDALONE = False\n",
    "if STANDALONE:\n",
    "    print(\"parameters not injected, running with standalone_parameters\")\n",
    "    parameters = standalone_parameters\n",
    "\n",
    "if not 'parameters' in locals() and not 'parameters' in globals():\n",
    "    raise Exception(\"Parameter injection failed\")\n",
    "\n",
    "#Use an easy dict for all the parameters\n",
    "p = EasyDict(parameters)\n",
    "\n",
    "if \"x_shape\" not in p:\n",
    "    p.x_shape = [2,256] # Default to this if we dont supply x_shape\n",
    "\n",
    "\n",
    "supplied_keys = set(p.keys())\n",
    "\n",
    "if  supplied_keys != required_parameters:\n",
    "    print(\"Parameters are incorrect\")\n",
    "    if len(supplied_keys - required_parameters)>0: print(\"Shouldn't have:\", str(supplied_keys - required_parameters))\n",
    "    if len(required_parameters - supplied_keys)>0: print(\"Need to have:\", str(required_parameters - supplied_keys))\n",
    "    raise RuntimeError(\"Parameters are incorrect\")"
   ]
  },
  {
   "cell_type": "code",
   "execution_count": 6,
   "id": "3a028d58",
   "metadata": {
    "execution": {
     "iopub.execute_input": "2022-03-25T03:26:59.090767Z",
     "iopub.status.busy": "2022-03-25T03:26:59.090496Z",
     "iopub.status.idle": "2022-03-25T03:26:59.104179Z",
     "shell.execute_reply": "2022-03-25T03:26:59.103678Z"
    },
    "papermill": {
     "duration": 0.029265,
     "end_time": "2022-03-25T03:26:59.104286",
     "exception": false,
     "start_time": "2022-03-25T03:26:59.075021",
     "status": "completed"
    },
    "tags": []
   },
   "outputs": [],
   "source": [
    "###################################\n",
    "# Set the RNGs and make it all deterministic\n",
    "###################################\n",
    "np.random.seed(p.seed)\n",
    "random.seed(p.seed)\n",
    "torch.manual_seed(p.seed)\n",
    "\n",
    "torch.use_deterministic_algorithms(True) "
   ]
  },
  {
   "cell_type": "code",
   "execution_count": 7,
   "id": "b691acf6",
   "metadata": {
    "execution": {
     "iopub.execute_input": "2022-03-25T03:26:59.137908Z",
     "iopub.status.busy": "2022-03-25T03:26:59.137645Z",
     "iopub.status.idle": "2022-03-25T03:26:59.153037Z",
     "shell.execute_reply": "2022-03-25T03:26:59.153441Z"
    },
    "papermill": {
     "duration": 0.030796,
     "end_time": "2022-03-25T03:26:59.153560",
     "exception": false,
     "start_time": "2022-03-25T03:26:59.122764",
     "status": "completed"
    },
    "tags": []
   },
   "outputs": [],
   "source": [
    "###########################################\n",
    "# The stratified datasets honor this\n",
    "###########################################\n",
    "torch.set_default_dtype(eval(p.torch_default_dtype))"
   ]
  },
  {
   "cell_type": "code",
   "execution_count": 8,
   "id": "b5fba671",
   "metadata": {
    "execution": {
     "iopub.execute_input": "2022-03-25T03:26:59.186218Z",
     "iopub.status.busy": "2022-03-25T03:26:59.185935Z",
     "iopub.status.idle": "2022-03-25T03:26:59.220983Z",
     "shell.execute_reply": "2022-03-25T03:26:59.220504Z"
    },
    "papermill": {
     "duration": 0.049951,
     "end_time": "2022-03-25T03:26:59.221094",
     "exception": false,
     "start_time": "2022-03-25T03:26:59.171143",
     "status": "completed"
    },
    "tags": []
   },
   "outputs": [],
   "source": [
    "###################################\n",
    "# Build the network(s)\n",
    "# Note: It's critical to do this AFTER setting the RNG\n",
    "###################################\n",
    "x_net = build_sequential(p.x_net)"
   ]
  },
  {
   "cell_type": "code",
   "execution_count": 9,
   "id": "5d7e61cc",
   "metadata": {
    "execution": {
     "iopub.execute_input": "2022-03-25T03:26:59.255395Z",
     "iopub.status.busy": "2022-03-25T03:26:59.255136Z",
     "iopub.status.idle": "2022-03-25T03:26:59.269840Z",
     "shell.execute_reply": "2022-03-25T03:26:59.270275Z"
    },
    "papermill": {
     "duration": 0.030918,
     "end_time": "2022-03-25T03:26:59.270399",
     "exception": false,
     "start_time": "2022-03-25T03:26:59.239481",
     "status": "completed"
    },
    "tags": []
   },
   "outputs": [],
   "source": [
    "start_time_secs = time.time()"
   ]
  },
  {
   "cell_type": "code",
   "execution_count": 10,
   "id": "c6b67dfd",
   "metadata": {
    "execution": {
     "iopub.execute_input": "2022-03-25T03:26:59.301607Z",
     "iopub.status.busy": "2022-03-25T03:26:59.301348Z",
     "iopub.status.idle": "2022-03-25T03:26:59.315673Z",
     "shell.execute_reply": "2022-03-25T03:26:59.315186Z"
    },
    "papermill": {
     "duration": 0.029798,
     "end_time": "2022-03-25T03:26:59.315774",
     "exception": false,
     "start_time": "2022-03-25T03:26:59.285976",
     "status": "completed"
    },
    "tags": []
   },
   "outputs": [],
   "source": [
    "p.domains_source = []\n",
    "p.domains_target = []\n",
    "\n",
    "\n",
    "train_original_source = []\n",
    "val_original_source   = []\n",
    "test_original_source  = []\n",
    "\n",
    "train_original_target = []\n",
    "val_original_target   = []\n",
    "test_original_target  = []"
   ]
  },
  {
   "cell_type": "code",
   "execution_count": 11,
   "id": "e3d9c3d3",
   "metadata": {
    "execution": {
     "iopub.execute_input": "2022-03-25T03:26:59.348456Z",
     "iopub.status.busy": "2022-03-25T03:26:59.348201Z",
     "iopub.status.idle": "2022-03-25T03:26:59.362838Z",
     "shell.execute_reply": "2022-03-25T03:26:59.362464Z"
    },
    "papermill": {
     "duration": 0.029677,
     "end_time": "2022-03-25T03:26:59.362916",
     "exception": false,
     "start_time": "2022-03-25T03:26:59.333239",
     "status": "completed"
    },
    "tags": []
   },
   "outputs": [],
   "source": [
    "# global_x_transform_func = lambda x: normalize(x.to(torch.get_default_dtype()), \"unit_power\") # unit_power, unit_mag\n",
    "# global_x_transform_func = lambda x: normalize(x, \"unit_power\") # unit_power, unit_mag"
   ]
  },
  {
   "cell_type": "code",
   "execution_count": 12,
   "id": "acb78fd2",
   "metadata": {
    "execution": {
     "iopub.execute_input": "2022-03-25T03:26:59.402644Z",
     "iopub.status.busy": "2022-03-25T03:26:59.396304Z",
     "iopub.status.idle": "2022-03-25T03:26:59.416861Z",
     "shell.execute_reply": "2022-03-25T03:26:59.416371Z"
    },
    "papermill": {
     "duration": 0.035311,
     "end_time": "2022-03-25T03:26:59.416962",
     "exception": false,
     "start_time": "2022-03-25T03:26:59.381651",
     "status": "completed"
    },
    "tags": []
   },
   "outputs": [],
   "source": [
    "def add_dataset(\n",
    "    labels,\n",
    "    domains,\n",
    "    pickle_path,\n",
    "    x_transforms,\n",
    "    episode_transforms,\n",
    "    domain_prefix,\n",
    "    num_examples_per_domain_per_label,\n",
    "    source_or_target_dataset:str,\n",
    "    iterator_seed=p.seed,\n",
    "    dataset_seed=p.dataset_seed,\n",
    "    n_shot=p.n_shot,\n",
    "    n_way=p.n_way,\n",
    "    n_query=p.n_query,\n",
    "    train_val_test_k_factors=(p.train_k_factor,p.val_k_factor,p.test_k_factor),\n",
    "):\n",
    "   \n",
    "    if x_transforms == []: x_transform = None\n",
    "    else: x_transform = get_chained_transform(x_transforms)\n",
    "    \n",
    "    if episode_transforms == []: episode_transform = None\n",
    "    else: raise Exception(\"episode_transforms not implemented\")\n",
    "    \n",
    "    episode_transform = lambda tup, _prefix=domain_prefix: (_prefix + str(tup[0]), tup[1])\n",
    "\n",
    "\n",
    "    eaf = Episodic_Accessor_Factory(\n",
    "        labels=labels,\n",
    "        domains=domains,\n",
    "        num_examples_per_domain_per_label=num_examples_per_domain_per_label,\n",
    "        iterator_seed=iterator_seed,\n",
    "        dataset_seed=dataset_seed,\n",
    "        n_shot=n_shot,\n",
    "        n_way=n_way,\n",
    "        n_query=n_query,\n",
    "        train_val_test_k_factors=train_val_test_k_factors,\n",
    "        pickle_path=pickle_path,\n",
    "        x_transform_func=x_transform,\n",
    "    )\n",
    "\n",
    "    train, val, test = eaf.get_train(), eaf.get_val(), eaf.get_test()\n",
    "    train = Lazy_Iterable_Wrapper(train, episode_transform)\n",
    "    val = Lazy_Iterable_Wrapper(val, episode_transform)\n",
    "    test = Lazy_Iterable_Wrapper(test, episode_transform)\n",
    "\n",
    "    if source_or_target_dataset==\"source\":\n",
    "        train_original_source.append(train)\n",
    "        val_original_source.append(val)\n",
    "        test_original_source.append(test)\n",
    "\n",
    "        p.domains_source.extend(\n",
    "            [domain_prefix + str(u) for u in domains]\n",
    "        )\n",
    "    elif source_or_target_dataset==\"target\":\n",
    "        train_original_target.append(train)\n",
    "        val_original_target.append(val)\n",
    "        test_original_target.append(test)\n",
    "        p.domains_target.extend(\n",
    "            [domain_prefix + str(u) for u in domains]\n",
    "        )\n",
    "    else:\n",
    "        raise Exception(f\"invalid source_or_target_dataset: {source_or_target_dataset}\")\n",
    "    "
   ]
  },
  {
   "cell_type": "code",
   "execution_count": 13,
   "id": "fe266617",
   "metadata": {
    "execution": {
     "iopub.execute_input": "2022-03-25T03:26:59.450289Z",
     "iopub.status.busy": "2022-03-25T03:26:59.450025Z",
     "iopub.status.idle": "2022-03-25T03:27:49.812568Z",
     "shell.execute_reply": "2022-03-25T03:27:49.812119Z"
    },
    "papermill": {
     "duration": 50.377395,
     "end_time": "2022-03-25T03:27:49.812665",
     "exception": false,
     "start_time": "2022-03-25T03:26:59.435270",
     "status": "completed"
    },
    "tags": []
   },
   "outputs": [],
   "source": [
    "for ds in p.datasets:\n",
    "    add_dataset(**ds)"
   ]
  },
  {
   "cell_type": "code",
   "execution_count": 14,
   "id": "b90d65ac",
   "metadata": {
    "execution": {
     "iopub.execute_input": "2022-03-25T03:27:49.853058Z",
     "iopub.status.busy": "2022-03-25T03:27:49.852753Z",
     "iopub.status.idle": "2022-03-25T03:27:49.870845Z",
     "shell.execute_reply": "2022-03-25T03:27:49.871295Z"
    },
    "papermill": {
     "duration": 0.038888,
     "end_time": "2022-03-25T03:27:49.871418",
     "exception": false,
     "start_time": "2022-03-25T03:27:49.832530",
     "status": "completed"
    },
    "tags": []
   },
   "outputs": [],
   "source": [
    "# from steves_utils.CORES.utils import (\n",
    "#     ALL_NODES,\n",
    "#     ALL_NODES_MINIMUM_1000_EXAMPLES,\n",
    "#     ALL_DAYS\n",
    "# )\n",
    "\n",
    "# add_dataset(\n",
    "#     labels=ALL_NODES,\n",
    "#     domains = ALL_DAYS,\n",
    "#     num_examples_per_domain_per_label=100,\n",
    "#     pickle_path=os.path.join(get_datasets_base_path(), \"cores.stratified_ds.2022A.pkl\"),\n",
    "#     source_or_target_dataset=\"target\",\n",
    "#     x_transform_func=global_x_transform_func,\n",
    "#     domain_modifier=lambda u: f\"cores_{u}\"\n",
    "# )"
   ]
  },
  {
   "cell_type": "code",
   "execution_count": 15,
   "id": "76db484d",
   "metadata": {
    "execution": {
     "iopub.execute_input": "2022-03-25T03:27:49.909200Z",
     "iopub.status.busy": "2022-03-25T03:27:49.908776Z",
     "iopub.status.idle": "2022-03-25T03:27:49.921345Z",
     "shell.execute_reply": "2022-03-25T03:27:49.921577Z"
    },
    "papermill": {
     "duration": 0.030157,
     "end_time": "2022-03-25T03:27:49.921659",
     "exception": false,
     "start_time": "2022-03-25T03:27:49.891502",
     "status": "completed"
    },
    "tags": []
   },
   "outputs": [],
   "source": [
    "# from steves_utils.ORACLE.utils_v2 import (\n",
    "#     ALL_DISTANCES_FEET,\n",
    "#     ALL_RUNS,\n",
    "#     ALL_SERIAL_NUMBERS,\n",
    "# )\n",
    "\n",
    "\n",
    "# add_dataset(\n",
    "#     labels=ALL_SERIAL_NUMBERS,\n",
    "#     domains = list(set(ALL_DISTANCES_FEET) - {2,62}),\n",
    "#     num_examples_per_domain_per_label=100,\n",
    "#     pickle_path=os.path.join(get_datasets_base_path(), \"oracle.Run2_framed_2000Examples_stratified_ds.2022A.pkl\"),\n",
    "#     source_or_target_dataset=\"source\",\n",
    "#     x_transform_func=global_x_transform_func,\n",
    "#     domain_modifier=lambda u: f\"oracle1_{u}\"\n",
    "# )\n"
   ]
  },
  {
   "cell_type": "code",
   "execution_count": 16,
   "id": "97dea9d2",
   "metadata": {
    "execution": {
     "iopub.execute_input": "2022-03-25T03:27:49.959706Z",
     "iopub.status.busy": "2022-03-25T03:27:49.959417Z",
     "iopub.status.idle": "2022-03-25T03:27:49.974400Z",
     "shell.execute_reply": "2022-03-25T03:27:49.974863Z"
    },
    "papermill": {
     "duration": 0.035342,
     "end_time": "2022-03-25T03:27:49.974986",
     "exception": false,
     "start_time": "2022-03-25T03:27:49.939644",
     "status": "completed"
    },
    "tags": []
   },
   "outputs": [],
   "source": [
    "# from steves_utils.ORACLE.utils_v2 import (\n",
    "#     ALL_DISTANCES_FEET,\n",
    "#     ALL_RUNS,\n",
    "#     ALL_SERIAL_NUMBERS,\n",
    "# )\n",
    "\n",
    "\n",
    "# add_dataset(\n",
    "#     labels=ALL_SERIAL_NUMBERS,\n",
    "#     domains = list(set(ALL_DISTANCES_FEET) - {2,62,56}),\n",
    "#     num_examples_per_domain_per_label=100,\n",
    "#     pickle_path=os.path.join(get_datasets_base_path(), \"oracle.Run2_framed_2000Examples_stratified_ds.2022A.pkl\"),\n",
    "#     source_or_target_dataset=\"source\",\n",
    "#     x_transform_func=global_x_transform_func,\n",
    "#     domain_modifier=lambda u: f\"oracle2_{u}\"\n",
    "# )"
   ]
  },
  {
   "cell_type": "code",
   "execution_count": 17,
   "id": "6f289866",
   "metadata": {
    "execution": {
     "iopub.execute_input": "2022-03-25T03:27:50.012421Z",
     "iopub.status.busy": "2022-03-25T03:27:50.011959Z",
     "iopub.status.idle": "2022-03-25T03:27:50.026391Z",
     "shell.execute_reply": "2022-03-25T03:27:50.026626Z"
    },
    "papermill": {
     "duration": 0.034569,
     "end_time": "2022-03-25T03:27:50.026714",
     "exception": false,
     "start_time": "2022-03-25T03:27:49.992145",
     "status": "completed"
    },
    "tags": []
   },
   "outputs": [],
   "source": [
    "# add_dataset(\n",
    "#     labels=list(range(19)),\n",
    "#     domains = [0,1,2],\n",
    "#     num_examples_per_domain_per_label=100,\n",
    "#     pickle_path=os.path.join(get_datasets_base_path(), \"metehan.stratified_ds.2022A.pkl\"),\n",
    "#     source_or_target_dataset=\"target\",\n",
    "#     x_transform_func=global_x_transform_func,\n",
    "#     domain_modifier=lambda u: f\"met_{u}\"\n",
    "# )"
   ]
  },
  {
   "cell_type": "code",
   "execution_count": 18,
   "id": "86a863c3",
   "metadata": {
    "execution": {
     "iopub.execute_input": "2022-03-25T03:27:50.062769Z",
     "iopub.status.busy": "2022-03-25T03:27:50.062443Z",
     "iopub.status.idle": "2022-03-25T03:27:50.078315Z",
     "shell.execute_reply": "2022-03-25T03:27:50.078663Z"
    },
    "papermill": {
     "duration": 0.035229,
     "end_time": "2022-03-25T03:27:50.078791",
     "exception": false,
     "start_time": "2022-03-25T03:27:50.043562",
     "status": "completed"
    },
    "tags": []
   },
   "outputs": [],
   "source": [
    "# # from steves_utils.wisig.utils import (\n",
    "# #     ALL_NODES_MINIMUM_100_EXAMPLES,\n",
    "# #     ALL_NODES_MINIMUM_500_EXAMPLES,\n",
    "# #     ALL_NODES_MINIMUM_1000_EXAMPLES,\n",
    "# #     ALL_DAYS\n",
    "# # )\n",
    "\n",
    "# import steves_utils.wisig.utils as wisig\n",
    "\n",
    "\n",
    "# add_dataset(\n",
    "#     labels=wisig.ALL_NODES_MINIMUM_100_EXAMPLES,\n",
    "#     domains = wisig.ALL_DAYS,\n",
    "#     num_examples_per_domain_per_label=100,\n",
    "#     pickle_path=os.path.join(get_datasets_base_path(), \"wisig.node3-19.stratified_ds.2022A.pkl\"),\n",
    "#     source_or_target_dataset=\"target\",\n",
    "#     x_transform_func=global_x_transform_func,\n",
    "#     domain_modifier=lambda u: f\"wisig_{u}\"\n",
    "# )"
   ]
  },
  {
   "cell_type": "code",
   "execution_count": 19,
   "id": "fd5442bc",
   "metadata": {
    "execution": {
     "iopub.execute_input": "2022-03-25T03:27:50.121967Z",
     "iopub.status.busy": "2022-03-25T03:27:50.121415Z",
     "iopub.status.idle": "2022-03-25T03:27:50.139148Z",
     "shell.execute_reply": "2022-03-25T03:27:50.139385Z"
    },
    "papermill": {
     "duration": 0.041602,
     "end_time": "2022-03-25T03:27:50.139472",
     "exception": false,
     "start_time": "2022-03-25T03:27:50.097870",
     "status": "completed"
    },
    "tags": []
   },
   "outputs": [],
   "source": [
    "###################################\n",
    "# Build the dataset\n",
    "###################################\n",
    "train_original_source = Iterable_Aggregator(train_original_source, p.seed)\n",
    "val_original_source = Iterable_Aggregator(val_original_source, p.seed)\n",
    "test_original_source = Iterable_Aggregator(test_original_source, p.seed)\n",
    "\n",
    "\n",
    "train_original_target = Iterable_Aggregator(train_original_target, p.seed)\n",
    "val_original_target = Iterable_Aggregator(val_original_target, p.seed)\n",
    "test_original_target = Iterable_Aggregator(test_original_target, p.seed)\n",
    "\n",
    "# For CNN We only use X and Y. And we only train on the source.\n",
    "# Properly form the data using a transform lambda and Lazy_Iterable_Wrapper. Finally wrap them in a dataloader\n",
    "\n",
    "transform_lambda = lambda ex: ex[1] # Original is (<domain>, <episode>) so we strip down to episode only\n",
    "\n",
    "train_processed_source = Lazy_Iterable_Wrapper(train_original_source, transform_lambda)\n",
    "val_processed_source   = Lazy_Iterable_Wrapper(val_original_source, transform_lambda)\n",
    "test_processed_source  = Lazy_Iterable_Wrapper(test_original_source, transform_lambda)\n",
    "\n",
    "train_processed_target = Lazy_Iterable_Wrapper(train_original_target, transform_lambda)\n",
    "val_processed_target   = Lazy_Iterable_Wrapper(val_original_target, transform_lambda)\n",
    "test_processed_target  = Lazy_Iterable_Wrapper(test_original_target, transform_lambda)\n",
    "\n",
    "datasets = EasyDict({\n",
    "    \"source\": {\n",
    "        \"original\": {\"train\":train_original_source, \"val\":val_original_source, \"test\":test_original_source},\n",
    "        \"processed\": {\"train\":train_processed_source, \"val\":val_processed_source, \"test\":test_processed_source}\n",
    "    },\n",
    "    \"target\": {\n",
    "        \"original\": {\"train\":train_original_target, \"val\":val_original_target, \"test\":test_original_target},\n",
    "        \"processed\": {\"train\":train_processed_target, \"val\":val_processed_target, \"test\":test_processed_target}\n",
    "    },\n",
    "})"
   ]
  },
  {
   "cell_type": "code",
   "execution_count": 20,
   "id": "5b3c01fc",
   "metadata": {
    "execution": {
     "iopub.execute_input": "2022-03-25T03:27:50.182211Z",
     "iopub.status.busy": "2022-03-25T03:27:50.181780Z",
     "iopub.status.idle": "2022-03-25T03:27:56.761508Z",
     "shell.execute_reply": "2022-03-25T03:27:56.761842Z"
    },
    "papermill": {
     "duration": 6.603124,
     "end_time": "2022-03-25T03:27:56.761953",
     "exception": false,
     "start_time": "2022-03-25T03:27:50.158829",
     "status": "completed"
    },
    "tags": []
   },
   "outputs": [
    {
     "name": "stdout",
     "output_type": "stream",
     "text": [
      "{'C_1', 'C_3', 'C_5', 'C_2', 'C_4'}\n"
     ]
    },
    {
     "name": "stdout",
     "output_type": "stream",
     "text": [
      "{'O_20', 'O_44', 'O_14', 'O_32', 'O_38', 'O_26', 'O_8', 'O_50'}\n"
     ]
    },
    {
     "name": "stdout",
     "output_type": "stream",
     "text": [
      "tensor([[[ 0.2162, -0.8773, -1.3860,  ...,  0.4507, -0.7281, -0.4818],\n",
      "         [ 0.5038,  0.5446, -0.0252,  ...,  0.0349,  0.5414, -0.0156]],\n",
      "\n",
      "        [[ 0.3737,  0.0883, -1.0663,  ...,  0.7262,  0.0027, -0.7022],\n",
      "         [ 0.1341,  0.6071,  0.7419,  ..., -0.6235,  0.3634,  0.6748]],\n",
      "\n",
      "        [[-0.5142, -0.1575,  0.6370,  ..., -0.3069, -0.0675,  0.2401],\n",
      "         [-0.0123, -0.7829, -1.2098,  ...,  0.6104, -0.7543, -0.6070]],\n",
      "\n",
      "        ...,\n",
      "\n",
      "        [[ 0.0857,  0.1039,  0.2636,  ...,  0.0636,  0.3065, -0.7208],\n",
      "         [-0.0091, -0.0221,  0.6675,  ...,  0.8805,  1.0403,  1.4974]],\n",
      "\n",
      "        [[-0.4654, -0.7183,  1.0668,  ..., -1.1624,  0.1308,  1.2202],\n",
      "         [ 0.1711, -0.9359, -0.8126,  ..., -0.8479, -1.4831,  0.5850]],\n",
      "\n",
      "        [[-0.8259,  0.1307,  1.4688,  ..., -0.7200,  1.1303,  0.3437],\n",
      "         [-0.2914, -1.2584,  0.2666,  ..., -1.5420, -0.6272,  1.3094]]])\n"
     ]
    }
   ],
   "source": [
    "from steves_utils.transforms import get_average_magnitude, get_average_power\n",
    "\n",
    "print(set([u for u,_ in val_original_source]))\n",
    "print(set([u for u,_ in val_original_target]))\n",
    "\n",
    "s_x, s_y, q_x, q_y, _ = next(iter(train_processed_source))\n",
    "print(s_x)\n",
    "\n",
    "# for ds in [\n",
    "#     train_processed_source,\n",
    "#     val_processed_source,\n",
    "#     test_processed_source,\n",
    "#     train_processed_target,\n",
    "#     val_processed_target,\n",
    "#     test_processed_target\n",
    "# ]:\n",
    "#     for s_x, s_y, q_x, q_y, _ in ds:\n",
    "#         for X in (s_x, q_x):\n",
    "#             for x in X:\n",
    "#                 assert np.isclose(get_average_magnitude(x.numpy()), 1.0)\n",
    "#                 assert np.isclose(get_average_power(x.numpy()), 1.0)\n",
    "                "
   ]
  },
  {
   "cell_type": "code",
   "execution_count": 21,
   "id": "bbdacba1",
   "metadata": {
    "execution": {
     "iopub.execute_input": "2022-03-25T03:27:56.794906Z",
     "iopub.status.busy": "2022-03-25T03:27:56.794494Z",
     "iopub.status.idle": "2022-03-25T03:27:56.845238Z",
     "shell.execute_reply": "2022-03-25T03:27:56.844772Z"
    },
    "papermill": {
     "duration": 0.068326,
     "end_time": "2022-03-25T03:27:56.845350",
     "exception": false,
     "start_time": "2022-03-25T03:27:56.777024",
     "status": "completed"
    },
    "tags": []
   },
   "outputs": [
    {
     "name": "stdout",
     "output_type": "stream",
     "text": [
      "(2, 200)\n"
     ]
    }
   ],
   "source": [
    "###################################\n",
    "# Build the model\n",
    "###################################\n",
    "# easfsl only wants a tuple for the shape\n",
    "model = Steves_Prototypical_Network(x_net, device=p.device, x_shape=tuple(p.x_shape))\n",
    "optimizer = Adam(params=model.parameters(), lr=p.lr)"
   ]
  },
  {
   "cell_type": "code",
   "execution_count": 22,
   "id": "22b39ac5",
   "metadata": {
    "execution": {
     "iopub.execute_input": "2022-03-25T03:27:56.882896Z",
     "iopub.status.busy": "2022-03-25T03:27:56.882626Z",
     "iopub.status.idle": "2022-03-25T03:48:33.759299Z",
     "shell.execute_reply": "2022-03-25T03:48:33.759067Z"
    },
    "papermill": {
     "duration": 1236.895762,
     "end_time": "2022-03-25T03:48:33.759357",
     "exception": false,
     "start_time": "2022-03-25T03:27:56.863595",
     "status": "completed"
    },
    "tags": []
   },
   "outputs": [
    {
     "name": "stdout",
     "output_type": "stream",
     "text": [
      "epoch: 1, [batch: 1 / 6315], examples_per_second: 48.6893, train_label_loss: 2.6198, \n"
     ]
    },
    {
     "name": "stdout",
     "output_type": "stream",
     "text": [
      "epoch: 1, [batch: 632 / 6315], examples_per_second: 3642.3337, train_label_loss: 0.0048, \n"
     ]
    },
    {
     "name": "stdout",
     "output_type": "stream",
     "text": [
      "epoch: 1, [batch: 1263 / 6315], examples_per_second: 3348.0710, train_label_loss: 0.0258, \n"
     ]
    },
    {
     "name": "stdout",
     "output_type": "stream",
     "text": [
      "epoch: 1, [batch: 1895 / 6315], examples_per_second: 3618.5167, train_label_loss: 0.0100, \n"
     ]
    },
    {
     "name": "stdout",
     "output_type": "stream",
     "text": [
      "epoch: 1, [batch: 2526 / 6315], examples_per_second: 3615.8843, train_label_loss: 0.0007, \n"
     ]
    },
    {
     "name": "stdout",
     "output_type": "stream",
     "text": [
      "epoch: 1, [batch: 3158 / 6315], examples_per_second: 3601.7590, train_label_loss: 0.0055, \n"
     ]
    },
    {
     "name": "stdout",
     "output_type": "stream",
     "text": [
      "epoch: 1, [batch: 3789 / 6315], examples_per_second: 3639.9707, train_label_loss: 0.0101, \n"
     ]
    },
    {
     "name": "stdout",
     "output_type": "stream",
     "text": [
      "epoch: 1, [batch: 4420 / 6315], examples_per_second: 3596.7360, train_label_loss: 0.0038, \n"
     ]
    },
    {
     "name": "stdout",
     "output_type": "stream",
     "text": [
      "epoch: 1, [batch: 5052 / 6315], examples_per_second: 3610.5969, train_label_loss: 0.0001, \n"
     ]
    },
    {
     "name": "stdout",
     "output_type": "stream",
     "text": [
      "epoch: 1, [batch: 5683 / 6315], examples_per_second: 3613.0652, train_label_loss: 0.0044, \n"
     ]
    },
    {
     "name": "stdout",
     "output_type": "stream",
     "text": [
      "=============================================================\n",
      "epoch: 1, source_val_acc_label: 0.9975, target_val_acc_label: 0.3103, source_val_label_loss: 0.0120, target_val_label_loss: 2.0408, \n",
      "=============================================================\n"
     ]
    },
    {
     "name": "stdout",
     "output_type": "stream",
     "text": [
      "New best\n"
     ]
    },
    {
     "name": "stdout",
     "output_type": "stream",
     "text": [
      "epoch: 2, [batch: 1 / 6307], examples_per_second: 5.3242, train_label_loss: 0.0015, \n"
     ]
    },
    {
     "name": "stdout",
     "output_type": "stream",
     "text": [
      "epoch: 2, [batch: 631 / 6307], examples_per_second: 3611.5801, train_label_loss: 0.0009, \n"
     ]
    },
    {
     "name": "stdout",
     "output_type": "stream",
     "text": [
      "epoch: 2, [batch: 1262 / 6307], examples_per_second: 3566.0760, train_label_loss: 0.0011, \n"
     ]
    },
    {
     "name": "stdout",
     "output_type": "stream",
     "text": [
      "epoch: 2, [batch: 1892 / 6307], examples_per_second: 3598.9242, train_label_loss: 0.0000, \n"
     ]
    },
    {
     "name": "stdout",
     "output_type": "stream",
     "text": [
      "epoch: 2, [batch: 2523 / 6307], examples_per_second: 3622.4678, train_label_loss: 0.0000, \n"
     ]
    },
    {
     "name": "stdout",
     "output_type": "stream",
     "text": [
      "epoch: 2, [batch: 3154 / 6307], examples_per_second: 3604.2757, train_label_loss: 0.0000, \n"
     ]
    },
    {
     "name": "stdout",
     "output_type": "stream",
     "text": [
      "epoch: 2, [batch: 3784 / 6307], examples_per_second: 3628.6326, train_label_loss: 0.0001, \n"
     ]
    },
    {
     "name": "stdout",
     "output_type": "stream",
     "text": [
      "epoch: 2, [batch: 4415 / 6307], examples_per_second: 3565.1691, train_label_loss: 0.0001, \n"
     ]
    },
    {
     "name": "stdout",
     "output_type": "stream",
     "text": [
      "epoch: 2, [batch: 5045 / 6307], examples_per_second: 3661.4556, train_label_loss: 0.0001, \n"
     ]
    },
    {
     "name": "stdout",
     "output_type": "stream",
     "text": [
      "epoch: 2, [batch: 5676 / 6307], examples_per_second: 3592.5390, train_label_loss: 0.0017, \n"
     ]
    },
    {
     "name": "stdout",
     "output_type": "stream",
     "text": [
      "=============================================================\n",
      "epoch: 2, source_val_acc_label: 0.9992, target_val_acc_label: 0.3001, source_val_label_loss: 0.0075, target_val_label_loss: 2.3233, \n",
      "=============================================================\n"
     ]
    },
    {
     "name": "stdout",
     "output_type": "stream",
     "text": [
      "epoch: 3, [batch: 1 / 6326], examples_per_second: 5.3599, train_label_loss: 0.0000, \n"
     ]
    },
    {
     "name": "stdout",
     "output_type": "stream",
     "text": [
      "epoch: 3, [batch: 633 / 6326], examples_per_second: 3594.6253, train_label_loss: 0.0000, \n"
     ]
    },
    {
     "name": "stdout",
     "output_type": "stream",
     "text": [
      "epoch: 3, [batch: 1266 / 6326], examples_per_second: 3595.1979, train_label_loss: 0.0000, \n"
     ]
    },
    {
     "name": "stdout",
     "output_type": "stream",
     "text": [
      "epoch: 3, [batch: 1898 / 6326], examples_per_second: 3459.7354, train_label_loss: 0.0001, \n"
     ]
    },
    {
     "name": "stdout",
     "output_type": "stream",
     "text": [
      "epoch: 3, [batch: 2531 / 6326], examples_per_second: 3651.4920, train_label_loss: 0.0000, \n"
     ]
    },
    {
     "name": "stdout",
     "output_type": "stream",
     "text": [
      "epoch: 3, [batch: 3163 / 6326], examples_per_second: 3638.2258, train_label_loss: 0.0201, \n"
     ]
    },
    {
     "name": "stdout",
     "output_type": "stream",
     "text": [
      "epoch: 3, [batch: 3796 / 6326], examples_per_second: 3627.0808, train_label_loss: 0.0103, \n"
     ]
    },
    {
     "name": "stdout",
     "output_type": "stream",
     "text": [
      "epoch: 3, [batch: 4428 / 6326], examples_per_second: 3597.7325, train_label_loss: 0.0000, \n"
     ]
    },
    {
     "name": "stdout",
     "output_type": "stream",
     "text": [
      "epoch: 3, [batch: 5061 / 6326], examples_per_second: 3675.8348, train_label_loss: 0.0207, \n"
     ]
    },
    {
     "name": "stdout",
     "output_type": "stream",
     "text": [
      "epoch: 3, [batch: 5693 / 6326], examples_per_second: 3625.1745, train_label_loss: 0.0027, \n"
     ]
    },
    {
     "name": "stdout",
     "output_type": "stream",
     "text": [
      "=============================================================\n",
      "epoch: 3, source_val_acc_label: 0.9992, target_val_acc_label: 0.3144, source_val_label_loss: 0.0092, target_val_label_loss: 2.4056, \n",
      "=============================================================\n"
     ]
    },
    {
     "name": "stdout",
     "output_type": "stream",
     "text": [
      "New best\n"
     ]
    },
    {
     "name": "stdout",
     "output_type": "stream",
     "text": [
      "epoch: 4, [batch: 1 / 6302], examples_per_second: 5.3542, train_label_loss: 0.0122, \n"
     ]
    },
    {
     "name": "stdout",
     "output_type": "stream",
     "text": [
      "epoch: 4, [batch: 631 / 6302], examples_per_second: 3600.8315, train_label_loss: 0.0000, \n"
     ]
    },
    {
     "name": "stdout",
     "output_type": "stream",
     "text": [
      "epoch: 4, [batch: 1261 / 6302], examples_per_second: 3537.7151, train_label_loss: 0.0012, \n"
     ]
    },
    {
     "name": "stdout",
     "output_type": "stream",
     "text": [
      "epoch: 4, [batch: 1891 / 6302], examples_per_second: 3623.5642, train_label_loss: 0.0010, \n"
     ]
    },
    {
     "name": "stdout",
     "output_type": "stream",
     "text": [
      "epoch: 4, [batch: 2521 / 6302], examples_per_second: 3634.9089, train_label_loss: 0.0000, \n"
     ]
    },
    {
     "name": "stdout",
     "output_type": "stream",
     "text": [
      "epoch: 4, [batch: 3151 / 6302], examples_per_second: 3681.8641, train_label_loss: 0.0000, \n"
     ]
    },
    {
     "name": "stdout",
     "output_type": "stream",
     "text": [
      "epoch: 4, [batch: 3781 / 6302], examples_per_second: 3671.4657, train_label_loss: 0.0000, \n"
     ]
    },
    {
     "name": "stdout",
     "output_type": "stream",
     "text": [
      "epoch: 4, [batch: 4411 / 6302], examples_per_second: 3720.0797, train_label_loss: 0.0001, \n"
     ]
    },
    {
     "name": "stdout",
     "output_type": "stream",
     "text": [
      "epoch: 4, [batch: 5041 / 6302], examples_per_second: 3558.2544, train_label_loss: 0.0000, \n"
     ]
    },
    {
     "name": "stdout",
     "output_type": "stream",
     "text": [
      "epoch: 4, [batch: 5671 / 6302], examples_per_second: 3689.3698, train_label_loss: 0.0000, \n"
     ]
    },
    {
     "name": "stdout",
     "output_type": "stream",
     "text": [
      "=============================================================\n",
      "epoch: 4, source_val_acc_label: 0.9989, target_val_acc_label: 0.3692, source_val_label_loss: 0.0110, target_val_label_loss: 2.0885, \n",
      "=============================================================\n"
     ]
    },
    {
     "name": "stdout",
     "output_type": "stream",
     "text": [
      "New best\n"
     ]
    },
    {
     "name": "stdout",
     "output_type": "stream",
     "text": [
      "epoch: 5, [batch: 1 / 6324], examples_per_second: 5.3023, train_label_loss: 0.0000, \n"
     ]
    },
    {
     "name": "stdout",
     "output_type": "stream",
     "text": [
      "epoch: 5, [batch: 633 / 6324], examples_per_second: 3636.0047, train_label_loss: 0.0000, \n"
     ]
    },
    {
     "name": "stdout",
     "output_type": "stream",
     "text": [
      "epoch: 5, [batch: 1265 / 6324], examples_per_second: 3656.7112, train_label_loss: 0.0001, \n"
     ]
    },
    {
     "name": "stdout",
     "output_type": "stream",
     "text": [
      "epoch: 5, [batch: 1897 / 6324], examples_per_second: 3519.9027, train_label_loss: 0.0000, \n"
     ]
    },
    {
     "name": "stdout",
     "output_type": "stream",
     "text": [
      "epoch: 5, [batch: 2530 / 6324], examples_per_second: 3611.8959, train_label_loss: 0.0000, \n"
     ]
    },
    {
     "name": "stdout",
     "output_type": "stream",
     "text": [
      "epoch: 5, [batch: 3162 / 6324], examples_per_second: 3608.4116, train_label_loss: 0.0000, \n"
     ]
    },
    {
     "name": "stdout",
     "output_type": "stream",
     "text": [
      "epoch: 5, [batch: 3794 / 6324], examples_per_second: 3669.2372, train_label_loss: 0.0000, \n"
     ]
    },
    {
     "name": "stdout",
     "output_type": "stream",
     "text": [
      "epoch: 5, [batch: 4427 / 6324], examples_per_second: 3478.9455, train_label_loss: 0.0000, \n"
     ]
    },
    {
     "name": "stdout",
     "output_type": "stream",
     "text": [
      "epoch: 5, [batch: 5059 / 6324], examples_per_second: 3472.1334, train_label_loss: 0.0000, \n"
     ]
    },
    {
     "name": "stdout",
     "output_type": "stream",
     "text": [
      "epoch: 5, [batch: 5691 / 6324], examples_per_second: 3692.7365, train_label_loss: 0.0000, \n"
     ]
    },
    {
     "name": "stdout",
     "output_type": "stream",
     "text": [
      "=============================================================\n",
      "epoch: 5, source_val_acc_label: 0.9992, target_val_acc_label: 0.3352, source_val_label_loss: 0.0081, target_val_label_loss: 2.5816, \n",
      "=============================================================\n"
     ]
    },
    {
     "name": "stdout",
     "output_type": "stream",
     "text": [
      "epoch: 6, [batch: 1 / 6313], examples_per_second: 5.3997, train_label_loss: 0.0000, \n"
     ]
    },
    {
     "name": "stdout",
     "output_type": "stream",
     "text": [
      "epoch: 6, [batch: 632 / 6313], examples_per_second: 3682.3809, train_label_loss: 0.0000, \n"
     ]
    },
    {
     "name": "stdout",
     "output_type": "stream",
     "text": [
      "epoch: 6, [batch: 1263 / 6313], examples_per_second: 3717.3654, train_label_loss: 0.0000, \n"
     ]
    },
    {
     "name": "stdout",
     "output_type": "stream",
     "text": [
      "epoch: 6, [batch: 1894 / 6313], examples_per_second: 3733.8905, train_label_loss: 0.0000, \n"
     ]
    },
    {
     "name": "stdout",
     "output_type": "stream",
     "text": [
      "epoch: 6, [batch: 2525 / 6313], examples_per_second: 3710.0914, train_label_loss: 0.0000, \n"
     ]
    },
    {
     "name": "stdout",
     "output_type": "stream",
     "text": [
      "epoch: 6, [batch: 3157 / 6313], examples_per_second: 3727.0157, train_label_loss: 0.0000, \n"
     ]
    },
    {
     "name": "stdout",
     "output_type": "stream",
     "text": [
      "epoch: 6, [batch: 3788 / 6313], examples_per_second: 3709.8654, train_label_loss: 0.0000, \n"
     ]
    },
    {
     "name": "stdout",
     "output_type": "stream",
     "text": [
      "epoch: 6, [batch: 4419 / 6313], examples_per_second: 3694.6068, train_label_loss: 0.0000, \n"
     ]
    },
    {
     "name": "stdout",
     "output_type": "stream",
     "text": [
      "epoch: 6, [batch: 5050 / 6313], examples_per_second: 3729.0401, train_label_loss: 0.0000, \n"
     ]
    },
    {
     "name": "stdout",
     "output_type": "stream",
     "text": [
      "epoch: 6, [batch: 5681 / 6313], examples_per_second: 3705.5375, train_label_loss: 0.0000, \n"
     ]
    },
    {
     "name": "stdout",
     "output_type": "stream",
     "text": [
      "=============================================================\n",
      "epoch: 6, source_val_acc_label: 0.9992, target_val_acc_label: 0.3269, source_val_label_loss: 0.0100, target_val_label_loss: 2.9357, \n",
      "=============================================================\n"
     ]
    },
    {
     "name": "stdout",
     "output_type": "stream",
     "text": [
      "epoch: 7, [batch: 1 / 6295], examples_per_second: 5.4919, train_label_loss: 0.0000, \n"
     ]
    },
    {
     "name": "stdout",
     "output_type": "stream",
     "text": [
      "epoch: 7, [batch: 630 / 6295], examples_per_second: 3678.0808, train_label_loss: 0.0000, \n"
     ]
    },
    {
     "name": "stdout",
     "output_type": "stream",
     "text": [
      "epoch: 7, [batch: 1259 / 6295], examples_per_second: 3708.8594, train_label_loss: 0.0000, \n"
     ]
    },
    {
     "name": "stdout",
     "output_type": "stream",
     "text": [
      "epoch: 7, [batch: 1889 / 6295], examples_per_second: 3705.0350, train_label_loss: 0.0000, \n"
     ]
    },
    {
     "name": "stdout",
     "output_type": "stream",
     "text": [
      "epoch: 7, [batch: 2518 / 6295], examples_per_second: 3716.5623, train_label_loss: 0.0000, \n"
     ]
    },
    {
     "name": "stdout",
     "output_type": "stream",
     "text": [
      "epoch: 7, [batch: 3148 / 6295], examples_per_second: 3717.9157, train_label_loss: 0.0006, \n"
     ]
    },
    {
     "name": "stdout",
     "output_type": "stream",
     "text": [
      "epoch: 7, [batch: 3777 / 6295], examples_per_second: 3722.5817, train_label_loss: 0.0000, \n"
     ]
    },
    {
     "name": "stdout",
     "output_type": "stream",
     "text": [
      "epoch: 7, [batch: 4406 / 6295], examples_per_second: 3720.0024, train_label_loss: 0.0000, \n"
     ]
    },
    {
     "name": "stdout",
     "output_type": "stream",
     "text": [
      "epoch: 7, [batch: 5036 / 6295], examples_per_second: 3730.4215, train_label_loss: 0.0000, \n"
     ]
    },
    {
     "name": "stdout",
     "output_type": "stream",
     "text": [
      "epoch: 7, [batch: 5665 / 6295], examples_per_second: 3739.5037, train_label_loss: 0.0000, \n"
     ]
    },
    {
     "name": "stdout",
     "output_type": "stream",
     "text": [
      "=============================================================\n",
      "epoch: 7, source_val_acc_label: 0.9993, target_val_acc_label: 0.3469, source_val_label_loss: 0.0092, target_val_label_loss: 2.9650, \n",
      "=============================================================\n"
     ]
    },
    {
     "name": "stdout",
     "output_type": "stream",
     "text": [
      "epoch: 8, [batch: 1 / 6293], examples_per_second: 5.4850, train_label_loss: 0.0000, \n"
     ]
    },
    {
     "name": "stdout",
     "output_type": "stream",
     "text": [
      "epoch: 8, [batch: 630 / 6293], examples_per_second: 3684.2952, train_label_loss: 0.0000, \n"
     ]
    },
    {
     "name": "stdout",
     "output_type": "stream",
     "text": [
      "epoch: 8, [batch: 1259 / 6293], examples_per_second: 3711.1230, train_label_loss: 0.0000, \n"
     ]
    },
    {
     "name": "stdout",
     "output_type": "stream",
     "text": [
      "epoch: 8, [batch: 1888 / 6293], examples_per_second: 3733.1102, train_label_loss: 0.0000, \n"
     ]
    },
    {
     "name": "stdout",
     "output_type": "stream",
     "text": [
      "epoch: 8, [batch: 2517 / 6293], examples_per_second: 3687.7469, train_label_loss: 0.0000, \n"
     ]
    },
    {
     "name": "stdout",
     "output_type": "stream",
     "text": [
      "epoch: 8, [batch: 3147 / 6293], examples_per_second: 3641.1827, train_label_loss: 0.0000, \n"
     ]
    },
    {
     "name": "stdout",
     "output_type": "stream",
     "text": [
      "epoch: 8, [batch: 3776 / 6293], examples_per_second: 3609.5545, train_label_loss: 0.0000, \n"
     ]
    },
    {
     "name": "stdout",
     "output_type": "stream",
     "text": [
      "epoch: 8, [batch: 4405 / 6293], examples_per_second: 3540.5630, train_label_loss: 0.0000, \n"
     ]
    },
    {
     "name": "stdout",
     "output_type": "stream",
     "text": [
      "epoch: 8, [batch: 5034 / 6293], examples_per_second: 3604.8035, train_label_loss: 0.0000, \n"
     ]
    },
    {
     "name": "stdout",
     "output_type": "stream",
     "text": [
      "epoch: 8, [batch: 5663 / 6293], examples_per_second: 3599.7024, train_label_loss: 0.0000, \n"
     ]
    },
    {
     "name": "stdout",
     "output_type": "stream",
     "text": [
      "=============================================================\n",
      "epoch: 8, source_val_acc_label: 0.9992, target_val_acc_label: 0.3610, source_val_label_loss: 0.0103, target_val_label_loss: 2.6717, \n",
      "=============================================================\n"
     ]
    },
    {
     "name": "stdout",
     "output_type": "stream",
     "text": [
      "Patience (3) exhausted\n"
     ]
    }
   ],
   "source": [
    "###################################\n",
    "# train\n",
    "###################################\n",
    "jig = PTN_Train_Eval_Test_Jig(model, p.BEST_MODEL_PATH, p.device)\n",
    "\n",
    "jig.train(\n",
    "    train_iterable=datasets.source.processed.train,\n",
    "    source_val_iterable=datasets.source.processed.val,\n",
    "    target_val_iterable=datasets.target.processed.val,\n",
    "    num_epochs=p.n_epoch,\n",
    "    num_logs_per_epoch=p.NUM_LOGS_PER_EPOCH,\n",
    "    patience=p.patience,\n",
    "    optimizer=optimizer,\n",
    "    criteria_for_best=p.criteria_for_best,\n",
    ")"
   ]
  },
  {
   "cell_type": "code",
   "execution_count": 23,
   "id": "31e8fabf",
   "metadata": {
    "execution": {
     "iopub.execute_input": "2022-03-25T03:48:33.825740Z",
     "iopub.status.busy": "2022-03-25T03:48:33.825477Z",
     "iopub.status.idle": "2022-03-25T03:48:33.844812Z",
     "shell.execute_reply": "2022-03-25T03:48:33.844341Z"
    },
    "papermill": {
     "duration": 0.054627,
     "end_time": "2022-03-25T03:48:33.844929",
     "exception": false,
     "start_time": "2022-03-25T03:48:33.790302",
     "status": "completed"
    },
    "tags": []
   },
   "outputs": [],
   "source": [
    "total_experiment_time_secs = time.time() - start_time_secs"
   ]
  },
  {
   "cell_type": "code",
   "execution_count": 24,
   "id": "87b9595b",
   "metadata": {
    "execution": {
     "iopub.execute_input": "2022-03-25T03:48:33.923811Z",
     "iopub.status.busy": "2022-03-25T03:48:33.923536Z",
     "iopub.status.idle": "2022-03-25T03:50:09.945088Z",
     "shell.execute_reply": "2022-03-25T03:50:09.944647Z"
    },
    "papermill": {
     "duration": 96.061955,
     "end_time": "2022-03-25T03:50:09.945197",
     "exception": false,
     "start_time": "2022-03-25T03:48:33.883242",
     "status": "completed"
    },
    "tags": []
   },
   "outputs": [],
   "source": [
    "###################################\n",
    "# Evaluate the model\n",
    "###################################\n",
    "source_test_label_accuracy, source_test_label_loss = jig.test(datasets.source.processed.test)\n",
    "target_test_label_accuracy, target_test_label_loss = jig.test(datasets.target.processed.test)\n",
    "\n",
    "source_val_label_accuracy, source_val_label_loss = jig.test(datasets.source.processed.val)\n",
    "target_val_label_accuracy, target_val_label_loss = jig.test(datasets.target.processed.val)\n",
    "\n",
    "history = jig.get_history()\n",
    "\n",
    "total_epochs_trained = len(history[\"epoch_indices\"])\n",
    "\n",
    "val_dl = Iterable_Aggregator((datasets.source.original.val,datasets.target.original.val))\n",
    "\n",
    "confusion = ptn_confusion_by_domain_over_dataloader(model, p.device, val_dl)\n",
    "per_domain_accuracy = per_domain_accuracy_from_confusion(confusion)\n",
    "\n",
    "# Add a key to per_domain_accuracy for if it was a source domain\n",
    "for domain, accuracy in per_domain_accuracy.items():\n",
    "    per_domain_accuracy[domain] = {\n",
    "        \"accuracy\": accuracy,\n",
    "        \"source?\": domain in p.domains_source\n",
    "    }\n",
    "\n",
    "# Do an independent accuracy assesment JUST TO BE SURE!\n",
    "# _source_test_label_accuracy = independent_accuracy_assesment(model, datasets.source.processed.test, p.device)\n",
    "# _target_test_label_accuracy = independent_accuracy_assesment(model, datasets.target.processed.test, p.device)\n",
    "# _source_val_label_accuracy = independent_accuracy_assesment(model, datasets.source.processed.val, p.device)\n",
    "# _target_val_label_accuracy = independent_accuracy_assesment(model, datasets.target.processed.val, p.device)\n",
    "\n",
    "# assert(_source_test_label_accuracy == source_test_label_accuracy)\n",
    "# assert(_target_test_label_accuracy == target_test_label_accuracy)\n",
    "# assert(_source_val_label_accuracy == source_val_label_accuracy)\n",
    "# assert(_target_val_label_accuracy == target_val_label_accuracy)\n",
    "\n",
    "experiment = {\n",
    "    \"experiment_name\": p.experiment_name,\n",
    "    \"parameters\": dict(p),\n",
    "    \"results\": {\n",
    "        \"source_test_label_accuracy\": source_test_label_accuracy,\n",
    "        \"source_test_label_loss\": source_test_label_loss,\n",
    "        \"target_test_label_accuracy\": target_test_label_accuracy,\n",
    "        \"target_test_label_loss\": target_test_label_loss,\n",
    "        \"source_val_label_accuracy\": source_val_label_accuracy,\n",
    "        \"source_val_label_loss\": source_val_label_loss,\n",
    "        \"target_val_label_accuracy\": target_val_label_accuracy,\n",
    "        \"target_val_label_loss\": target_val_label_loss,\n",
    "        \"total_epochs_trained\": total_epochs_trained,\n",
    "        \"total_experiment_time_secs\": total_experiment_time_secs,\n",
    "        \"confusion\": confusion,\n",
    "        \"per_domain_accuracy\": per_domain_accuracy,\n",
    "    },\n",
    "    \"history\": history,\n",
    "    \"dataset_metrics\": get_dataset_metrics(datasets, \"ptn\"),\n",
    "}"
   ]
  },
  {
   "cell_type": "code",
   "execution_count": 25,
   "id": "54a21829",
   "metadata": {
    "execution": {
     "iopub.execute_input": "2022-03-25T03:50:10.012809Z",
     "iopub.status.busy": "2022-03-25T03:50:10.012313Z",
     "iopub.status.idle": "2022-03-25T03:50:10.141700Z",
     "shell.execute_reply": "2022-03-25T03:50:10.141377Z"
    },
    "papermill": {
     "duration": 0.162937,
     "end_time": "2022-03-25T03:50:10.141787",
     "exception": false,
     "start_time": "2022-03-25T03:50:09.978850",
     "status": "completed"
    },
    "tags": []
   },
   "outputs": [
    {
     "data": {
      "image/png": "[encoded data removed]",
      "text/plain": [
       "<Figure size 1080x504 with 1 Axes>"
      ]
     },
     "metadata": {
      "needs_background": "light"
     },
     "output_type": "display_data"
    }
   ],
   "source": [
    "ax = get_loss_curve(experiment)\n",
    "plt.show()"
   ]
  },
  {
   "cell_type": "code",
   "execution_count": 26,
   "id": "fd8a0f60",
   "metadata": {
    "execution": {
     "iopub.execute_input": "2022-03-25T03:50:10.212455Z",
     "iopub.status.busy": "2022-03-25T03:50:10.212197Z",
     "iopub.status.idle": "2022-03-25T03:50:10.357603Z",
     "shell.execute_reply": "2022-03-25T03:50:10.357985Z"
    },
    "papermill": {
     "duration": 0.180438,
     "end_time": "2022-03-25T03:50:10.358132",
     "exception": false,
     "start_time": "2022-03-25T03:50:10.177694",
     "status": "completed"
    },
    "tags": []
   },
   "outputs": [
    {
     "data": {
      "text/plain": [
       "<AxesSubplot:title={'center':'Results'}>"
      ]
     },
     "execution_count": 26,
     "metadata": {},
     "output_type": "execute_result"
    },
    {
     "data": {
      "image/png": "[encoded data removed]",
      "text/plain": [
       "<Figure size 1080x504 with 1 Axes>"
      ]
     },
     "metadata": {
      "needs_background": "light"
     },
     "output_type": "display_data"
    }
   ],
   "source": [
    "get_results_table(experiment)"
   ]
  },
  {
   "cell_type": "code",
   "execution_count": 27,
   "id": "cf8dc689",
   "metadata": {
    "execution": {
     "iopub.execute_input": "2022-03-25T03:50:10.437184Z",
     "iopub.status.busy": "2022-03-25T03:50:10.436635Z",
     "iopub.status.idle": "2022-03-25T03:50:10.578984Z",
     "shell.execute_reply": "2022-03-25T03:50:10.579317Z"
    },
    "papermill": {
     "duration": 0.181191,
     "end_time": "2022-03-25T03:50:10.579422",
     "exception": false,
     "start_time": "2022-03-25T03:50:10.398231",
     "status": "completed"
    },
    "tags": []
   },
   "outputs": [
    {
     "data": {
      "text/plain": [
       "<AxesSubplot:title={'center':'Per Domain Validation Accuracy'}, xlabel='domain'>"
      ]
     },
     "execution_count": 27,
     "metadata": {},
     "output_type": "execute_result"
    },
    {
     "data": {
      "image/png": "[encoded data removed]",
      "text/plain": [
       "<Figure size 1080x504 with 1 Axes>"
      ]
     },
     "metadata": {
      "needs_background": "light"
     },
     "output_type": "display_data"
    }
   ],
   "source": [
    "get_domain_accuracies(experiment)"
   ]
  },
  {
   "cell_type": "code",
   "execution_count": 28,
   "id": "a74ae082",
   "metadata": {
    "execution": {
     "iopub.execute_input": "2022-03-25T03:50:10.657577Z",
     "iopub.status.busy": "2022-03-25T03:50:10.657236Z",
     "iopub.status.idle": "2022-03-25T03:50:10.672104Z",
     "shell.execute_reply": "2022-03-25T03:50:10.672504Z"
    },
    "papermill": {
     "duration": 0.054652,
     "end_time": "2022-03-25T03:50:10.672632",
     "exception": false,
     "start_time": "2022-03-25T03:50:10.617980",
     "status": "completed"
    },
    "tags": []
   },
   "outputs": [
    {
     "name": "stdout",
     "output_type": "stream",
     "text": [
      "Source Test Label Accuracy: 0.9988713318284425 Target Test Label Accuracy: 0.36689453125\n",
      "Source Val Label Accuracy: 0.9988571428571429 Target Val Label Accuracy: 0.36920572916666666\n"
     ]
    }
   ],
   "source": [
    "print(\"Source Test Label Accuracy:\", experiment[\"results\"][\"source_test_label_accuracy\"], \"Target Test Label Accuracy:\", experiment[\"results\"][\"target_test_label_accuracy\"])\n",
    "print(\"Source Val Label Accuracy:\", experiment[\"results\"][\"source_val_label_accuracy\"], \"Target Val Label Accuracy:\", experiment[\"results\"][\"target_val_label_accuracy\"])"
   ]
  },
  {
   "cell_type": "code",
   "execution_count": 29,
   "id": "dacca602",
   "metadata": {
    "execution": {
     "iopub.execute_input": "2022-03-25T03:50:10.753818Z",
     "iopub.status.busy": "2022-03-25T03:50:10.753046Z",
     "iopub.status.idle": "2022-03-25T03:50:10.771029Z",
     "shell.execute_reply": "2022-03-25T03:50:10.771343Z"
    },
    "papermill": {
     "duration": 0.056731,
     "end_time": "2022-03-25T03:50:10.771447",
     "exception": false,
     "start_time": "2022-03-25T03:50:10.714716",
     "status": "completed"
    },
    "tags": [
     "experiment_json"
    ]
   },
   "outputs": [
    {
     "data": {
      "text/plain": [
       "'{\"experiment_name\": \"tl_3Av2:cores -> oracle.run1.framed\", \"parameters\": {\"experiment_name\": \"tl_3Av2:cores -> oracle.run1.framed\", \"device\": \"cuda\", \"lr\": 0.0001, \"x_shape\": [2, 200], \"n_shot\": 3, \"n_query\": 2, \"train_k_factor\": 3, \"val_k_factor\": 2, \"test_k_factor\": 2, \"torch_default_dtype\": \"torch.float32\", \"n_epoch\": 50, \"patience\": 3, \"criteria_for_best\": \"target_accuracy\", \"x_net\": [{\"class\": \"nnReshape\", \"kargs\": {\"shape\": [-1, 1, 2, 200]}}, {\"class\": \"Conv2d\", \"kargs\": {\"in_channels\": 1, \"out_channels\": 256, \"kernel_size\": [1, 7], \"bias\": false, \"padding\": [0, 3]}}, {\"class\": \"ReLU\", \"kargs\": {\"inplace\": true}}, {\"class\": \"BatchNorm2d\", \"kargs\": {\"num_features\": 256}}, {\"class\": \"Conv2d\", \"kargs\": {\"in_channels\": 256, \"out_channels\": 80, \"kernel_size\": [2, 7], \"bias\": true, \"padding\": [0, 3]}}, {\"class\": \"ReLU\", \"kargs\": {\"inplace\": true}}, {\"class\": \"BatchNorm2d\", \"kargs\": {\"num_features\": 80}}, {\"class\": \"Flatten\", \"kargs\": {}}, {\"class\": \"Linear\", \"kargs\": {\"in_features\": 16000, \"out_features\": 256}}, {\"class\": \"ReLU\", \"kargs\": {\"inplace\": true}}, {\"class\": \"BatchNorm1d\", \"kargs\": {\"num_features\": 256}}, {\"class\": \"Linear\", \"kargs\": {\"in_features\": 256, \"out_features\": 256}}], \"NUM_LOGS_PER_EPOCH\": 10, \"BEST_MODEL_PATH\": \"./best_model.pth\", \"n_way\": 16, \"datasets\": [{\"labels\": [\"1-10.\", \"1-11.\", \"1-15.\", \"1-16.\", \"1-17.\", \"1-18.\", \"1-19.\", \"10-4.\", \"10-7.\", \"11-1.\", \"11-14.\", \"11-17.\", \"11-20.\", \"11-7.\", \"13-20.\", \"13-8.\", \"14-10.\", \"14-11.\", \"14-14.\", \"14-7.\", \"15-1.\", \"15-20.\", \"16-1.\", \"16-16.\", \"17-10.\", \"17-11.\", \"17-2.\", \"19-1.\", \"19-16.\", \"19-19.\", \"19-20.\", \"19-3.\", \"2-10.\", \"2-11.\", \"2-17.\", \"2-18.\", \"2-20.\", \"2-3.\", \"2-4.\", \"2-5.\", \"2-6.\", \"2-7.\", \"2-8.\", \"3-13.\", \"3-18.\", \"3-3.\", \"4-1.\", \"4-10.\", \"4-11.\", \"4-19.\", \"5-5.\", \"6-15.\", \"7-10.\", \"7-14.\", \"8-18.\", \"8-20.\", \"8-3.\", \"8-8.\"], \"domains\": [1, 2, 3, 4, 5], \"num_examples_per_domain_per_label\": -1, \"pickle_path\": \"/mnt/wd500GB/CSC500/csc500-main/datasets/cores.stratified_ds.2022A.pkl\", \"source_or_target_dataset\": \"source\", \"x_transforms\": [\"unit_mag\", \"take_200\"], \"episode_transforms\": [], \"domain_prefix\": \"C_\"}, {\"labels\": [\"3123D52\", \"3123D65\", \"3123D79\", \"3123D80\", \"3123D54\", \"3123D70\", \"3123D7B\", \"3123D89\", \"3123D58\", \"3123D76\", \"3123D7D\", \"3123EFE\", \"3123D64\", \"3123D78\", \"3123D7E\", \"3124E4A\"], \"domains\": [32, 38, 8, 44, 14, 50, 20, 26], \"num_examples_per_domain_per_label\": 2000, \"pickle_path\": \"/mnt/wd500GB/CSC500/csc500-main/datasets/oracle.Run1_framed_2000Examples_stratified_ds.2022A.pkl\", \"source_or_target_dataset\": \"target\", \"x_transforms\": [\"unit_mag\", \"take_200\", \"resample_20Msps_to_25Msps\"], \"episode_transforms\": [], \"domain_prefix\": \"O_\"}], \"seed\": 420, \"dataset_seed\": 420, \"domains_source\": [\"C_1\", \"C_2\", \"C_3\", \"C_4\", \"C_5\"], \"domains_target\": [\"O_32\", \"O_38\", \"O_8\", \"O_44\", \"O_14\", \"O_50\", \"O_20\", \"O_26\"]}, \"results\": {\"source_test_label_accuracy\": 0.9988713318284425, \"source_test_label_loss\": 0.01010635681450367, \"target_test_label_accuracy\": 0.36689453125, \"target_test_label_loss\": 2.07900333404541, \"source_val_label_accuracy\": 0.9988571428571429, \"source_val_label_loss\": 0.01100081205368042, \"target_val_label_accuracy\": 0.36920572916666666, \"target_val_label_loss\": 2.088463306427002, \"total_epochs_trained\": 8, \"total_experiment_time_secs\": 1294.5740144252777, \"confusion\": {\"C_4\": {\"42\": {\"42\": 32}, \"0\": {\"0\": 80}, \"1\": {\"1\": 40}, \"39\": {\"39\": 20}, \"28\": {\"28\": 32}, \"53\": {\"53\": 123, \"50\": 1}, \"19\": {\"19\": 144}, \"34\": {\"34\": 24}, \"33\": {\"33\": 36}, \"32\": {\"32\": 24}, \"10\": {\"10\": 136}, \"46\": {\"46\": 134}, \"20\": {\"20\": 122}, \"5\": {\"5\": 108}, \"40\": {\"40\": 124}, \"51\": {\"51\": 144}, \"37\": {\"37\": 24}, \"17\": {\"17\": 80}, \"45\": {\"45\": 95, \"9\": 1}, \"13\": {\"13\": 142}, \"27\": {\"27\": 144}, \"24\": {\"24\": 56}, \"30\": {\"30\": 44}, \"31\": {\"31\": 28}, \"41\": {\"41\": 34, \"10\": 1, \"13\": 1}, \"36\": {\"36\": 92}, \"16\": {\"16\": 96}, \"22\": {\"22\": 128}, \"44\": {\"44\": 132}, \"9\": {\"9\": 140}, \"57\": {\"57\": 100}, \"8\": {\"8\": 138}, \"23\": {\"23\": 132}, \"47\": {\"47\": 120}, \"43\": {\"43\": 138}, \"49\": {\"49\": 20}, \"3\": {\"3\": 124}, \"12\": {\"12\": 92}, \"38\": {\"38\": 40}, \"7\": {\"7\": 24}, \"14\": {\"14\": 15, \"46\": 1}, \"15\": {\"15\": 146}, \"25\": {\"25\": 128}, \"26\": {\"26\": 24}, \"21\": {\"21\": 132}, \"48\": {\"48\": 144}, \"56\": {\"56\": 134}, \"11\": {\"11\": 103, \"15\": 1}, \"2\": {\"2\": 36}, \"6\": {\"6\": 111, \"3\": 1}, \"55\": {\"55\": 140}, \"54\": {\"54\": 108}, \"29\": {\"29\": 124}, \"50\": {\"50\": 120, \"3\": 2}, \"52\": {\"52\": 116}, \"35\": {\"35\": 40}, \"4\": {\"4\": 120}, \"18\": {\"18\": 108}}, \"C_5\": {\"43\": {\"43\": 152}, \"35\": {\"35\": 36}, \"54\": {\"54\": 112}, \"22\": {\"22\": 28}, \"16\": {\"16\": 146}, \"5\": {\"5\": 128}, \"28\": {\"28\": 32}, \"14\": {\"14\": 41, \"29\": 3}, \"51\": {\"51\": 128}, \"19\": {\"19\": 140}, \"31\": {\"31\": 36}, \"10\": {\"10\": 68}, \"21\": {\"21\": 136}, \"3\": {\"3\": 100}, \"57\": {\"57\": 132}, \"9\": {\"9\": 146}, \"8\": {\"8\": 132}, \"46\": {\"46\": 140}, \"23\": {\"23\": 124}, \"37\": {\"37\": 24}, \"34\": {\"34\": 36}, \"4\": {\"4\": 100}, \"6\": {\"6\": 126, \"50\": 1, \"9\": 1}, \"48\": {\"48\": 136}, \"44\": {\"44\": 138}, \"40\": {\"40\": 124}, \"12\": {\"12\": 96}, \"30\": {\"30\": 128}, \"39\": {\"39\": 20}, \"45\": {\"45\": 121, \"9\": 1, \"50\": 2}, \"36\": {\"36\": 92}, \"27\": {\"27\": 140}, \"32\": {\"32\": 32}, \"52\": {\"52\": 130}, \"0\": {\"0\": 124}, \"26\": {\"26\": 24}, \"1\": {\"1\": 148}, \"53\": {\"53\": 146}, \"25\": {\"25\": 144}, \"24\": {\"24\": 80}, \"7\": {\"7\": 32}, \"18\": {\"18\": 64}, \"20\": {\"20\": 144}, \"33\": {\"33\": 32}, \"55\": {\"55\": 140}, \"41\": {\"41\": 28}, \"42\": {\"42\": 39, \"43\": 1}, \"49\": {\"49\": 36}, \"13\": {\"13\": 148}, \"38\": {\"38\": 32}, \"2\": {\"2\": 28}, \"47\": {\"47\": 100}, \"17\": {\"17\": 116}, \"11\": {\"11\": 154}, \"29\": {\"29\": 132}, \"50\": {\"50\": 137, \"18\": 1}, \"56\": {\"56\": 148}, \"15\": {\"15\": 142}}, \"C_2\": {\"49\": {\"49\": 24}, \"13\": {\"13\": 116}, \"37\": {\"37\": 36}, \"41\": {\"41\": 20}, \"15\": {\"15\": 142}, \"56\": {\"56\": 141, \"11\": 1}, \"14\": {\"14\": 23, \"31\": 1}, \"3\": {\"3\": 92}, \"38\": {\"38\": 20}, \"43\": {\"43\": 138}, \"33\": {\"33\": 28}, \"47\": {\"47\": 138}, \"30\": {\"30\": 144}, \"39\": {\"39\": 28}, \"12\": {\"12\": 92}, \"6\": {\"6\": 124}, \"51\": {\"51\": 134}, \"5\": {\"5\": 120}, \"34\": {\"34\": 28}, \"35\": {\"35\": 32}, \"0\": {\"0\": 48}, \"7\": {\"7\": 36}, \"24\": {\"24\": 96}, \"8\": {\"8\": 136}, \"20\": {\"20\": 124}, \"36\": {\"36\": 116}, \"42\": {\"42\": 36}, \"1\": {\"1\": 112}, \"4\": {\"4\": 148}, \"28\": {\"28\": 28}, \"50\": {\"50\": 136}, \"45\": {\"45\": 128}, \"18\": {\"18\": 48}, \"57\": {\"57\": 120}, \"46\": {\"46\": 128}, \"23\": {\"23\": 148}, \"27\": {\"27\": 138}, \"19\": {\"19\": 134}, \"22\": {\"22\": 136}, \"17\": {\"17\": 104}, \"55\": {\"55\": 136}, \"44\": {\"44\": 100}, \"26\": {\"26\": 24}, \"31\": {\"31\": 28}, \"16\": {\"16\": 130}, \"11\": {\"11\": 128}, \"25\": {\"25\": 126}, \"54\": {\"54\": 108}, \"32\": {\"32\": 28}, \"52\": {\"52\": 124}, \"40\": {\"40\": 132}, \"2\": {\"2\": 32}, \"10\": {\"10\": 110}, \"53\": {\"53\": 136}, \"9\": {\"9\": 150}, \"21\": {\"21\": 120}, \"48\": {\"48\": 138}, \"29\": {\"29\": 128}}, \"C_1\": {\"9\": {\"9\": 142}, \"25\": {\"25\": 128}, \"41\": {\"41\": 24}, \"29\": {\"29\": 140}, \"46\": {\"46\": 128}, \"4\": {\"4\": 132}, \"31\": {\"31\": 28}, \"36\": {\"36\": 64}, \"20\": {\"20\": 128}, \"7\": {\"7\": 28}, \"6\": {\"6\": 96}, \"16\": {\"16\": 138}, \"17\": {\"17\": 64}, \"50\": {\"50\": 148}, \"57\": {\"57\": 144}, \"23\": {\"23\": 136}, \"3\": {\"3\": 125, \"36\": 1}, \"53\": {\"53\": 140}, \"49\": {\"49\": 32}, \"56\": {\"56\": 152}, \"51\": {\"51\": 142}, \"26\": {\"26\": 24}, \"43\": {\"43\": 144}, \"22\": {\"22\": 134, \"24\": 2}, \"45\": {\"45\": 146}, \"13\": {\"13\": 152}, \"12\": {\"12\": 116}, \"54\": {\"54\": 104}, \"24\": {\"24\": 105, \"22\": 3}, \"44\": {\"44\": 136}, \"28\": {\"28\": 28}, \"33\": {\"33\": 32}, \"38\": {\"38\": 24}, \"0\": {\"0\": 144}, \"47\": {\"47\": 154}, \"42\": {\"42\": 40}, \"34\": {\"34\": 24}, \"48\": {\"48\": 142}, \"35\": {\"35\": 36}, \"2\": {\"2\": 36}, \"30\": {\"30\": 120}, \"18\": {\"18\": 72}, \"37\": {\"37\": 32}, \"1\": {\"1\": 100}, \"11\": {\"11\": 138}, \"55\": {\"55\": 130}, \"15\": {\"15\": 150}, \"10\": {\"10\": 96}, \"27\": {\"27\": 160}, \"19\": {\"19\": 146}, \"14\": {\"30\": 1, \"14\": 23}, \"8\": {\"8\": 140}, \"5\": {\"5\": 136}, \"39\": {\"39\": 28}, \"52\": {\"52\": 122}, \"21\": {\"21\": 124}, \"40\": {\"40\": 152}, \"32\": {\"32\": 32}}, \"C_3\": {\"56\": {\"56\": 120}, \"4\": {\"4\": 146}, \"34\": {\"34\": 32}, \"52\": {\"52\": 136}, \"32\": {\"32\": 28}, \"46\": {\"46\": 136}, \"12\": {\"12\": 92}, \"20\": {\"20\": 132}, \"54\": {\"54\": 100}, \"22\": {\"22\": 140}, \"26\": {\"26\": 24}, \"31\": {\"31\": 28}, \"10\": {\"10\": 64}, \"27\": {\"27\": 144}, \"40\": {\"40\": 136}, \"28\": {\"28\": 28}, \"5\": {\"5\": 116}, \"30\": {\"30\": 120}, \"7\": {\"7\": 36}, \"18\": {\"18\": 84}, \"39\": {\"39\": 16}, \"50\": {\"50\": 136}, \"49\": {\"49\": 20}, \"43\": {\"43\": 122}, \"29\": {\"29\": 114}, \"35\": {\"35\": 28}, \"13\": {\"13\": 124}, \"36\": {\"36\": 100}, \"11\": {\"11\": 146}, \"57\": {\"57\": 124}, \"9\": {\"9\": 130}, \"25\": {\"25\": 130}, \"16\": {\"16\": 126}, \"53\": {\"53\": 118}, \"33\": {\"33\": 28}, \"51\": {\"51\": 128}, \"44\": {\"44\": 88}, \"48\": {\"48\": 114}, \"6\": {\"6\": 88}, \"23\": {\"23\": 144}, \"1\": {\"1\": 100}, \"17\": {\"33\": 1, \"38\": 1, \"17\": 105, \"53\": 1}, \"21\": {\"21\": 122}, \"14\": {\"14\": 40}, \"55\": {\"55\": 144}, \"41\": {\"41\": 28}, \"3\": {\"3\": 138}, \"38\": {\"38\": 28}, \"2\": {\"2\": 32}, \"8\": {\"8\": 142}, \"37\": {\"37\": 28}, \"45\": {\"45\": 59, \"17\": 1}, \"42\": {\"42\": 28}, \"24\": {\"24\": 104}, \"15\": {\"15\": 136}, \"0\": {\"0\": 124}, \"47\": {\"47\": 92}, \"19\": {\"19\": 120}}, \"O_14\": {\"15\": {\"7\": 76, \"15\": 82, \"5\": 27, \"2\": 20, \"4\": 10, \"6\": 4, \"1\": 12, \"13\": 6, \"14\": 1, \"3\": 2}, \"5\": {\"5\": 37, \"4\": 59, \"2\": 31, \"1\": 49, \"3\": 22, \"15\": 16, \"13\": 4, \"6\": 3, \"7\": 10, \"8\": 4, \"0\": 3, \"10\": 1, \"14\": 1}, \"7\": {\"4\": 1, \"15\": 59, \"7\": 137, \"5\": 19, \"2\": 4, \"1\": 19, \"13\": 1}, \"4\": {\"2\": 29, \"3\": 53, \"4\": 61, \"0\": 6, \"5\": 31, \"1\": 23, \"14\": 8, \"13\": 6, \"8\": 12, \"6\": 4, \"11\": 1, \"15\": 3, \"10\": 2, \"7\": 1}, \"10\": {\"11\": 43, \"0\": 47, \"10\": 95, \"4\": 4, \"13\": 5, \"14\": 6, \"2\": 4, \"9\": 14, \"6\": 12, \"3\": 9, \"12\": 1}, \"11\": {\"9\": 21, \"11\": 121, \"6\": 5, \"0\": 40, \"10\": 34, \"12\": 9, \"13\": 6, \"14\": 4}, \"12\": {\"12\": 161, \"9\": 62, \"11\": 9, \"10\": 6, \"8\": 1, \"0\": 1}, \"0\": {\"0\": 72, \"4\": 11, \"3\": 24, \"2\": 5, \"10\": 52, \"9\": 28, \"14\": 12, \"8\": 2, \"11\": 20, \"5\": 1, \"13\": 7, \"6\": 5, \"1\": 1}, \"14\": {\"2\": 24, \"14\": 56, \"6\": 61, \"3\": 17, \"13\": 35, \"4\": 17, \"0\": 12, \"11\": 6, \"5\": 7, \"10\": 4, \"15\": 1}, \"8\": {\"8\": 182, \"1\": 26, \"4\": 8, \"3\": 11, \"5\": 7, \"0\": 1, \"9\": 4, \"2\": 1}, \"13\": {\"6\": 68, \"14\": 36, \"13\": 70, \"2\": 25, \"10\": 6, \"3\": 6, \"4\": 15, \"11\": 6, \"0\": 2, \"5\": 5, \"1\": 1}, \"6\": {\"4\": 11, \"14\": 48, \"13\": 69, \"6\": 54, \"5\": 4, \"2\": 28, \"0\": 4, \"10\": 8, \"3\": 9, \"15\": 3, \"7\": 1, \"11\": 1}, \"1\": {\"1\": 96, \"4\": 14, \"2\": 10, \"3\": 15, \"15\": 8, \"8\": 30, \"5\": 52, \"7\": 14, \"13\": 1}, \"3\": {\"3\": 49, \"2\": 30, \"8\": 7, \"4\": 40, \"0\": 19, \"14\": 15, \"1\": 12, \"5\": 35, \"6\": 12, \"10\": 13, \"13\": 4, \"9\": 3, \"15\": 1}, \"9\": {\"11\": 12, \"9\": 126, \"12\": 42, \"0\": 32, \"10\": 18, \"8\": 10}, \"2\": {\"15\": 12, \"3\": 36, \"6\": 34, \"0\": 5, \"4\": 31, \"5\": 32, \"1\": 7, \"2\": 35, \"13\": 17, \"14\": 27, \"7\": 1, \"11\": 1, \"10\": 1, \"8\": 1}}, \"O_20\": {\"4\": {\"5\": 17, \"10\": 47, \"4\": 55, \"3\": 14, \"0\": 19, \"7\": 5, \"14\": 26, \"15\": 2, \"12\": 12, \"8\": 22, \"2\": 6, \"9\": 13, \"1\": 1, \"6\": 1}, \"10\": {\"14\": 24, \"2\": 8, \"4\": 37, \"6\": 15, \"10\": 71, \"1\": 1, \"9\": 6, \"5\": 12, \"8\": 28, \"7\": 7, \"3\": 12, \"0\": 8, \"12\": 9, \"15\": 2}, \"15\": {\"15\": 43, \"7\": 10, \"13\": 26, \"1\": 29, \"9\": 17, \"5\": 23, \"12\": 20, \"4\": 7, \"3\": 18, \"2\": 18, \"0\": 25, \"8\": 3, \"10\": 1}, \"0\": {\"0\": 36, \"5\": 26, \"4\": 20, \"7\": 17, \"6\": 3, \"3\": 24, \"8\": 11, \"9\": 15, \"1\": 19, \"12\": 11, \"14\": 3, \"10\": 12, \"15\": 21, \"2\": 14, \"13\": 8}, \"6\": {\"5\": 5, \"6\": 53, \"8\": 33, \"14\": 38, \"11\": 18, \"3\": 5, \"10\": 26, \"0\": 6, \"7\": 34, \"2\": 9, \"12\": 2, \"4\": 7, \"9\": 2, \"13\": 2}, \"3\": {\"10\": 19, \"9\": 33, \"13\": 7, \"4\": 16, \"6\": 3, \"5\": 24, \"15\": 17, \"14\": 2, \"2\": 15, \"0\": 21, \"1\": 20, \"8\": 6, \"3\": 24, \"12\": 21, \"7\": 10, \"11\": 2}, \"7\": {\"2\": 36, \"13\": 24, \"0\": 9, \"7\": 32, \"9\": 20, \"10\": 16, \"14\": 9, \"8\": 17, \"11\": 11, \"4\": 7, \"3\": 13, \"15\": 5, \"6\": 17, \"12\": 8, \"5\": 10, \"1\": 6}, \"2\": {\"2\": 37, \"1\": 21, \"13\": 33, \"0\": 8, \"9\": 32, \"15\": 11, \"7\": 22, \"8\": 7, \"3\": 20, \"5\": 15, \"10\": 5, \"12\": 13, \"4\": 5, \"14\": 6, \"6\": 2, \"11\": 3}, \"8\": {\"8\": 46, \"2\": 10, \"14\": 31, \"4\": 39, \"0\": 12, \"7\": 21, \"6\": 23, \"10\": 31, \"5\": 7, \"9\": 6, \"3\": 7, \"12\": 5, \"15\": 1, \"13\": 1}, \"11\": {\"11\": 183, \"13\": 29, \"7\": 12, \"9\": 1, \"6\": 10, \"2\": 4, \"8\": 1}, \"14\": {\"4\": 23, \"2\": 4, \"10\": 42, \"6\": 34, \"14\": 61, \"8\": 46, \"0\": 3, \"11\": 3, \"9\": 3, \"7\": 14, \"13\": 1, \"3\": 5, \"15\": 1}, \"12\": {\"10\": 8, \"12\": 30, \"5\": 22, \"3\": 30, \"0\": 24, \"7\": 10, \"15\": 12, \"9\": 18, \"14\": 1, \"2\": 16, \"6\": 1, \"13\": 14, \"1\": 26, \"4\": 22, \"8\": 6}, \"13\": {\"11\": 17, \"1\": 10, \"2\": 31, \"14\": 1, \"13\": 90, \"7\": 27, \"15\": 18, \"3\": 10, \"0\": 7, \"9\": 13, \"6\": 6, \"5\": 5, \"12\": 5}, \"9\": {\"1\": 15, \"7\": 21, \"8\": 10, \"12\": 34, \"15\": 13, \"10\": 8, \"13\": 12, \"4\": 9, \"9\": 24, \"3\": 27, \"5\": 14, \"2\": 31, \"0\": 17, \"14\": 1, \"6\": 3, \"11\": 1}, \"5\": {\"15\": 29, \"4\": 14, \"0\": 31, \"3\": 21, \"5\": 30, \"8\": 8, \"12\": 21, \"9\": 12, \"1\": 22, \"6\": 3, \"10\": 11, \"7\": 14, \"13\": 10, \"2\": 14}, \"1\": {\"15\": 35, \"9\": 27, \"13\": 13, \"1\": 43, \"5\": 29, \"2\": 19, \"3\": 17, \"0\": 16, \"12\": 18, \"7\": 11, \"10\": 2, \"4\": 10}}, \"O_50\": {\"5\": {\"5\": 51, \"13\": 46, \"7\": 51, \"4\": 28, \"10\": 26, \"6\": 12, \"1\": 13, \"15\": 5, \"0\": 6, \"11\": 1, \"8\": 1}, \"12\": {\"9\": 46, \"12\": 131, \"14\": 54, \"11\": 9}, \"14\": {\"14\": 128, \"11\": 23, \"12\": 57, \"9\": 25, \"1\": 4, \"0\": 1, \"6\": 1, \"2\": 1}, \"4\": {\"15\": 37, \"13\": 22, \"4\": 56, \"5\": 24, \"6\": 35, \"11\": 5, \"0\": 4, \"1\": 33, \"7\": 16, \"10\": 8}, \"13\": {\"6\": 15, \"5\": 51, \"1\": 8, \"13\": 66, \"7\": 37, \"10\": 26, \"4\": 25, \"0\": 6, \"8\": 1, \"15\": 5}, \"10\": {\"13\": 21, \"10\": 88, \"3\": 3, \"8\": 33, \"7\": 29, \"5\": 20, \"0\": 38, \"4\": 1, \"6\": 2, \"2\": 5}, \"9\": {\"11\": 60, \"14\": 39, \"9\": 94, \"12\": 38, \"15\": 3, \"1\": 4, \"2\": 1, \"4\": 1}, \"15\": {\"15\": 98, \"1\": 58, \"9\": 7, \"6\": 24, \"4\": 23, \"13\": 4, \"5\": 7, \"14\": 3, \"7\": 1, \"11\": 15}, \"6\": {\"1\": 36, \"13\": 26, \"15\": 27, \"6\": 67, \"7\": 15, \"4\": 34, \"5\": 18, \"10\": 3, \"0\": 5, \"2\": 4, \"14\": 2, \"11\": 3}, \"2\": {\"2\": 160, \"0\": 68, \"6\": 2, \"14\": 4, \"1\": 3, \"10\": 2, \"12\": 1}, \"0\": {\"0\": 128, \"6\": 2, \"2\": 62, \"1\": 3, \"8\": 5, \"10\": 31, \"13\": 2, \"5\": 4, \"7\": 1, \"4\": 2}, \"11\": {\"11\": 87, \"15\": 28, \"9\": 62, \"6\": 3, \"1\": 26, \"14\": 24, \"12\": 5, \"4\": 3, \"5\": 1, \"0\": 1}, \"3\": {\"8\": 48, \"3\": 185, \"5\": 1, \"7\": 4, \"10\": 2}, \"8\": {\"8\": 162, \"3\": 27, \"10\": 31, \"7\": 4, \"5\": 2, \"13\": 4, \"0\": 10}, \"7\": {\"13\": 52, \"7\": 94, \"5\": 43, \"4\": 11, \"10\": 20, \"6\": 10, \"3\": 3, \"8\": 4, \"0\": 1, \"1\": 1, \"15\": 1}, \"1\": {\"1\": 77, \"15\": 36, \"9\": 4, \"13\": 10, \"6\": 31, \"11\": 17, \"0\": 11, \"4\": 35, \"14\": 6, \"2\": 8, \"5\": 3, \"7\": 1, \"10\": 1}}, \"O_26\": {\"7\": {\"14\": 23, \"1\": 8, \"7\": 33, \"2\": 30, \"15\": 12, \"4\": 23, \"5\": 16, \"3\": 15, \"10\": 7, \"13\": 10, \"8\": 13, \"9\": 23, \"0\": 20, \"6\": 7}, \"6\": {\"5\": 14, \"14\": 19, \"4\": 16, \"0\": 19, \"9\": 37, \"8\": 20, \"7\": 7, \"6\": 39, \"2\": 5, \"15\": 19, \"1\": 9, \"3\": 3, \"12\": 2, \"13\": 16, \"10\": 15}, \"14\": {\"10\": 39, \"4\": 29, \"9\": 16, \"1\": 40, \"15\": 6, \"0\": 28, \"14\": 33, \"6\": 6, \"8\": 16, \"5\": 5, \"2\": 8, \"3\": 1, \"7\": 12, \"13\": 1}, \"15\": {\"13\": 28, \"15\": 33, \"3\": 15, \"7\": 15, \"9\": 16, \"2\": 26, \"5\": 16, \"10\": 16, \"8\": 19, \"6\": 30, \"0\": 8, \"4\": 8, \"14\": 9, \"1\": 1}, \"5\": {\"13\": 58, \"8\": 16, \"5\": 48, \"2\": 21, \"7\": 8, \"10\": 11, \"6\": 7, \"15\": 16, \"3\": 15, \"9\": 26, \"4\": 4, \"0\": 6, \"14\": 4}, \"10\": {\"1\": 16, \"0\": 30, \"10\": 35, \"14\": 32, \"7\": 14, \"8\": 20, \"9\": 18, \"15\": 8, \"6\": 22, \"4\": 23, \"3\": 8, \"13\": 4, \"5\": 7, \"2\": 2, \"12\": 1}, \"4\": {\"7\": 16, \"1\": 24, \"3\": 12, \"4\": 33, \"6\": 14, \"0\": 32, \"8\": 16, \"9\": 14, \"10\": 29, \"14\": 29, \"5\": 5, \"2\": 6, \"15\": 8, \"13\": 2}, \"11\": {\"11\": 218, \"13\": 3, \"12\": 14, \"8\": 1, \"5\": 1, \"6\": 3}, \"13\": {\"13\": 87, \"15\": 25, \"5\": 37, \"6\": 18, \"14\": 2, \"2\": 21, \"7\": 7, \"8\": 15, \"9\": 18, \"3\": 8, \"10\": 2}, \"2\": {\"9\": 22, \"2\": 44, \"15\": 13, \"4\": 16, \"3\": 38, \"13\": 25, \"10\": 5, \"1\": 4, \"7\": 22, \"5\": 26, \"14\": 5, \"6\": 6, \"8\": 10, \"0\": 4}, \"0\": {\"6\": 27, \"15\": 7, \"7\": 15, \"2\": 6, \"0\": 33, \"4\": 22, \"10\": 29, \"1\": 25, \"12\": 3, \"8\": 19, \"14\": 33, \"9\": 11, \"3\": 5, \"13\": 3, \"5\": 2}, \"12\": {\"12\": 172, \"9\": 5, \"6\": 10, \"10\": 12, \"14\": 6, \"1\": 12, \"11\": 16, \"0\": 1, \"4\": 1, \"5\": 1, \"8\": 3, \"15\": 1}, \"3\": {\"3\": 62, \"15\": 13, \"13\": 7, \"14\": 11, \"5\": 15, \"7\": 33, \"2\": 46, \"10\": 5, \"4\": 12, \"9\": 15, \"0\": 4, \"8\": 11, \"1\": 3, \"6\": 3}, \"9\": {\"4\": 11, \"8\": 22, \"9\": 31, \"1\": 12, \"13\": 19, \"2\": 21, \"10\": 15, \"3\": 16, \"7\": 19, \"5\": 21, \"15\": 17, \"0\": 7, \"14\": 15, \"6\": 14}, \"8\": {\"8\": 28, \"1\": 13, \"10\": 25, \"14\": 22, \"6\": 19, \"4\": 18, \"2\": 12, \"13\": 14, \"9\": 17, \"0\": 20, \"7\": 18, \"5\": 10, \"15\": 22, \"3\": 2}, \"1\": {\"1\": 60, \"7\": 8, \"10\": 30, \"4\": 36, \"0\": 28, \"9\": 4, \"3\": 3, \"2\": 3, \"14\": 43, \"15\": 6, \"8\": 10, \"6\": 5, \"5\": 3, \"12\": 1}}, \"O_32\": {\"7\": {\"8\": 9, \"14\": 34, \"11\": 31, \"5\": 28, \"0\": 15, \"4\": 30, \"7\": 47, \"2\": 20, \"13\": 23, \"3\": 3}, \"2\": {\"13\": 9, \"2\": 86, \"8\": 12, \"4\": 44, \"11\": 5, \"7\": 31, \"0\": 28, \"14\": 17, \"5\": 7, \"9\": 1}, \"5\": {\"5\": 56, \"3\": 23, \"13\": 30, \"7\": 27, \"11\": 16, \"14\": 18, \"2\": 12, \"4\": 20, \"8\": 29, \"0\": 9}, \"6\": {\"6\": 229, \"12\": 11}, \"13\": {\"8\": 24, \"7\": 36, \"5\": 23, \"3\": 25, \"4\": 30, \"11\": 13, \"14\": 14, \"13\": 52, \"0\": 13, \"2\": 10}, \"4\": {\"13\": 24, \"4\": 38, \"7\": 44, \"0\": 25, \"5\": 16, \"2\": 40, \"14\": 20, \"11\": 4, \"8\": 27, \"3\": 2}, \"3\": {\"3\": 104, \"8\": 29, \"13\": 40, \"5\": 36, \"11\": 10, \"14\": 6, \"4\": 5, \"7\": 8, \"15\": 2}, \"0\": {\"8\": 29, \"0\": 86, \"5\": 10, \"7\": 15, \"2\": 44, \"4\": 25, \"13\": 10, \"14\": 16, \"15\": 1, \"9\": 2, \"11\": 2}, \"9\": {\"9\": 215, \"2\": 3, \"12\": 22}, \"12\": {\"12\": 201, \"9\": 24, \"6\": 14, \"10\": 1}, \"8\": {\"2\": 13, \"13\": 17, \"8\": 87, \"0\": 31, \"4\": 20, \"15\": 15, \"7\": 15, \"5\": 27, \"14\": 2, \"11\": 2, \"3\": 11}, \"14\": {\"14\": 51, \"2\": 21, \"0\": 19, \"8\": 10, \"4\": 17, \"11\": 58, \"7\": 31, \"3\": 6, \"5\": 12, \"13\": 15}, \"15\": {\"15\": 210, \"8\": 20, \"3\": 5, \"5\": 4, \"0\": 1}, \"11\": {\"11\": 90, \"13\": 13, \"7\": 46, \"14\": 55, \"0\": 4, \"5\": 12, \"4\": 11, \"2\": 4, \"3\": 2, \"8\": 3}, \"10\": {\"10\": 208, \"1\": 30, \"6\": 2}, \"1\": {\"1\": 211, \"10\": 29}}, \"O_44\": {\"11\": {\"11\": 151, \"13\": 57, \"6\": 22, \"9\": 9, \"4\": 1}, \"7\": {\"7\": 79, \"9\": 45, \"2\": 52, \"6\": 22, \"13\": 13, \"1\": 12, \"10\": 8, \"3\": 5, \"11\": 3, \"4\": 1}, \"6\": {\"6\": 100, \"9\": 41, \"13\": 67, \"11\": 15, \"7\": 14, \"2\": 2, \"4\": 1}, \"12\": {\"1\": 48, \"10\": 38, \"2\": 18, \"12\": 101, \"7\": 5, \"3\": 30}, \"4\": {\"4\": 110, \"14\": 64, \"13\": 21, \"0\": 5, \"15\": 17, \"7\": 1, \"5\": 13, \"9\": 5, \"11\": 3, \"6\": 1}, \"13\": {\"13\": 92, \"11\": 29, \"6\": 50, \"4\": 8, \"7\": 15, \"9\": 42, \"2\": 1, \"14\": 3}, \"8\": {\"5\": 22, \"8\": 124, \"14\": 5, \"0\": 63, \"15\": 26}, \"5\": {\"5\": 123, \"4\": 16, \"14\": 27, \"0\": 37, \"8\": 18, \"15\": 18, \"13\": 1}, \"14\": {\"14\": 81, \"4\": 67, \"15\": 43, \"0\": 10, \"5\": 24, \"13\": 4, \"8\": 5, \"9\": 3, \"6\": 1, \"11\": 2}, \"3\": {\"12\": 42, \"3\": 113, \"1\": 65, \"2\": 8, \"7\": 4, \"10\": 7, \"9\": 1}, \"10\": {\"12\": 34, \"1\": 31, \"10\": 99, \"2\": 50, \"7\": 11, \"9\": 3, \"3\": 10, \"6\": 2}, \"1\": {\"10\": 37, \"1\": 75, \"3\": 44, \"12\": 53, \"2\": 24, \"9\": 3, \"7\": 4}, \"2\": {\"9\": 29, \"12\": 12, \"6\": 10, \"2\": 77, \"1\": 29, \"10\": 34, \"7\": 37, \"3\": 9, \"13\": 3}, \"15\": {\"15\": 87, \"14\": 33, \"8\": 39, \"0\": 50, \"5\": 16, \"4\": 15}, \"9\": {\"13\": 41, \"7\": 51, \"9\": 65, \"6\": 36, \"2\": 24, \"14\": 4, \"3\": 4, \"11\": 7, \"4\": 4, \"1\": 4}, \"0\": {\"0\": 70, \"8\": 82, \"15\": 29, \"5\": 42, \"14\": 13, \"4\": 4}}, \"O_8\": {\"10\": {\"0\": 28, \"14\": 40, \"5\": 22, \"6\": 17, \"8\": 7, \"4\": 19, \"13\": 27, \"10\": 41, \"11\": 8, \"1\": 14, \"7\": 15, \"15\": 2}, \"6\": {\"0\": 36, \"4\": 28, \"8\": 10, \"13\": 29, \"11\": 5, \"7\": 31, \"6\": 31, \"1\": 8, \"15\": 16, \"12\": 5, \"2\": 3, \"10\": 12, \"14\": 23, \"3\": 2, \"5\": 1}, \"13\": {\"5\": 4, \"1\": 9, \"4\": 22, \"6\": 25, \"0\": 37, \"10\": 33, \"13\": 44, \"14\": 18, \"15\": 5, \"7\": 35, \"3\": 2, \"2\": 4, \"11\": 1, \"9\": 1}, \"3\": {\"3\": 57, \"15\": 33, \"12\": 35, \"2\": 81, \"7\": 8, \"8\": 5, \"6\": 9, \"0\": 7, \"13\": 1, \"4\": 4}, \"9\": {\"9\": 230, \"5\": 5, \"0\": 1, \"10\": 3, \"1\": 1}, \"1\": {\"1\": 62, \"5\": 31, \"14\": 21, \"11\": 59, \"10\": 17, \"6\": 5, \"8\": 21, \"13\": 7, \"12\": 1, \"4\": 13, \"7\": 2, \"15\": 1}, \"5\": {\"5\": 89, \"10\": 36, \"14\": 17, \"1\": 45, \"11\": 22, \"13\": 7, \"4\": 14, \"0\": 3, \"8\": 4, \"7\": 1, \"6\": 2}, \"11\": {\"1\": 55, \"10\": 8, \"8\": 25, \"11\": 102, \"4\": 7, \"5\": 14, \"12\": 4, \"15\": 5, \"14\": 15, \"6\": 4, \"13\": 1}, \"4\": {\"4\": 26, \"14\": 33, \"13\": 27, \"0\": 21, \"6\": 31, \"15\": 10, \"7\": 34, \"10\": 33, \"1\": 11, \"5\": 4, \"8\": 8, \"11\": 1, \"12\": 1}, \"14\": {\"14\": 40, \"1\": 29, \"6\": 20, \"4\": 30, \"5\": 19, \"13\": 18, \"7\": 11, \"10\": 34, \"0\": 14, \"12\": 1, \"11\": 9, \"8\": 7, \"3\": 2, \"15\": 5, \"2\": 1}, \"12\": {\"3\": 28, \"15\": 59, \"8\": 42, \"2\": 32, \"12\": 70, \"7\": 2, \"0\": 2, \"11\": 1, \"6\": 3, \"1\": 1}, \"7\": {\"7\": 46, \"13\": 23, \"2\": 11, \"6\": 31, \"4\": 25, \"3\": 7, \"12\": 4, \"10\": 13, \"0\": 39, \"15\": 14, \"8\": 12, \"14\": 13, \"1\": 1, \"11\": 1}, \"0\": {\"0\": 66, \"14\": 14, \"7\": 33, \"2\": 8, \"4\": 32, \"13\": 40, \"10\": 17, \"6\": 24, \"8\": 1, \"12\": 2, \"15\": 3}, \"15\": {\"6\": 21, \"7\": 14, \"0\": 5, \"12\": 53, \"3\": 18, \"15\": 61, \"8\": 41, \"2\": 13, \"14\": 5, \"4\": 6, \"13\": 2, \"1\": 1}, \"2\": {\"2\": 106, \"3\": 59, \"7\": 19, \"15\": 18, \"12\": 11, \"0\": 9, \"6\": 6, \"13\": 5, \"8\": 5, \"4\": 2}, \"8\": {\"14\": 14, \"0\": 3, \"11\": 34, \"15\": 39, \"8\": 61, \"12\": 20, \"4\": 8, \"7\": 12, \"5\": 2, \"6\": 14, \"13\": 5, \"10\": 3, \"3\": 6, \"1\": 15, \"2\": 4}}, \"O_38\": {\"4\": {\"4\": 169, \"12\": 68, \"11\": 2, \"7\": 1}, \"7\": {\"0\": 43, \"8\": 36, \"5\": 36, \"7\": 94, \"3\": 7, \"9\": 2, \"15\": 3, \"10\": 11, \"12\": 4, \"13\": 1, \"6\": 2, \"1\": 1}, \"12\": {\"4\": 53, \"12\": 171, \"10\": 6, \"14\": 5, \"0\": 3, \"7\": 2}, \"10\": {\"10\": 85, \"8\": 18, \"2\": 15, \"14\": 32, \"11\": 4, \"7\": 16, \"15\": 15, \"13\": 22, \"5\": 11, \"12\": 10, \"0\": 9, \"4\": 2, \"1\": 1}, \"0\": {\"8\": 45, \"3\": 18, \"7\": 58, \"0\": 64, \"5\": 21, \"9\": 6, \"12\": 6, \"4\": 3, \"13\": 4, \"15\": 2, \"6\": 3, \"10\": 9, \"1\": 1}, \"1\": {\"9\": 10, \"6\": 26, \"1\": 146, \"15\": 26, \"8\": 12, \"5\": 10, \"13\": 8, \"7\": 1, \"0\": 1}, \"5\": {\"8\": 46, \"5\": 51, \"1\": 21, \"7\": 23, \"0\": 24, \"15\": 27, \"6\": 18, \"9\": 16, \"13\": 7, \"3\": 1, \"10\": 6}, \"15\": {\"15\": 78, \"5\": 20, \"7\": 3, \"1\": 47, \"10\": 20, \"9\": 1, \"6\": 3, \"8\": 21, \"13\": 34, \"0\": 2, \"2\": 10, \"14\": 1}, \"9\": {\"6\": 86, \"8\": 4, \"9\": 93, \"1\": 8, \"3\": 32, \"7\": 6, \"0\": 2, \"5\": 8, \"15\": 1}, \"11\": {\"11\": 122, \"14\": 77, \"2\": 10, \"10\": 12, \"4\": 9, \"12\": 8, \"15\": 1, \"13\": 1}, \"14\": {\"14\": 129, \"10\": 31, \"11\": 36, \"12\": 5, \"2\": 33, \"15\": 1, \"13\": 4, \"8\": 1}, \"6\": {\"9\": 75, \"6\": 126, \"5\": 21, \"1\": 11, \"7\": 1, \"8\": 3, \"15\": 1, \"3\": 2}, \"8\": {\"7\": 33, \"15\": 24, \"8\": 58, \"10\": 14, \"0\": 36, \"5\": 49, \"13\": 14, \"3\": 5, \"9\": 1, \"6\": 4, \"1\": 1, \"2\": 1}, \"3\": {\"0\": 29, \"9\": 36, \"3\": 140, \"6\": 12, \"7\": 10, \"5\": 11, \"8\": 2}, \"2\": {\"13\": 42, \"2\": 124, \"15\": 14, \"11\": 6, \"10\": 30, \"14\": 21, \"1\": 2, \"5\": 1}, \"13\": {\"13\": 89, \"10\": 19, \"1\": 21, \"15\": 57, \"2\": 27, \"5\": 6, \"7\": 3, \"0\": 5, \"8\": 8, \"9\": 1, \"14\": 3, \"11\": 1}}}, \"per_domain_accuracy\": {\"C_4\": {\"accuracy\": 0.9983158682634731, \"source?\": true}, \"C_5\": {\"accuracy\": 0.9982541899441341, \"source?\": true}, \"C_2\": {\"accuracy\": 0.9996428571428572, \"source?\": true}, \"C_1\": {\"accuracy\": 0.9988111413043478, \"source?\": true}, \"C_3\": {\"accuracy\": 0.9992647058823529, \"source?\": true}, \"O_14\": {\"accuracy\": 0.3734375, \"source?\": false}, \"O_20\": {\"accuracy\": 0.2234375, \"source?\": false}, \"O_50\": {\"accuracy\": 0.4354166666666667, \"source?\": false}, \"O_26\": {\"accuracy\": 0.25755208333333335, \"source?\": false}, \"O_32\": {\"accuracy\": 0.51328125, \"source?\": false}, \"O_44\": {\"accuracy\": 0.40286458333333336, \"source?\": false}, \"O_8\": {\"accuracy\": 0.2947916666666667, \"source?\": false}, \"O_38\": {\"accuracy\": 0.45286458333333335, \"source?\": false}}}, \"history\": {\"epoch_indices\": [1, 2, 3, 4, 5, 6, 7, 8], \"train_label_loss\": [0.03112652349609468, 0.00830704056721979, 0.005999729950822095, 0.004540334767308642, 0.00365911613196407, 0.0030838448973096303, 0.0026943781863819753, 0.0028386133696693783], \"source_val_label_loss\": [0.01198508869856596, 0.007466703653335571, 0.009174054488539696, 0.01100081205368042, 0.008112136274576187, 0.009985520504415035, 0.009187355637550354, 0.010333062149584293], \"target_val_label_loss\": [2.0408074855804443, 2.3233156204223633, 2.4055750370025635, 2.088463306427002, 2.581625461578369, 2.9357123374938965, 2.965043067932129, 2.671696662902832], \"source_val_acc_label\": [0.9975, 0.9991785714285715, 0.9991785714285715, 0.9988571428571429, 0.9992142857142857, 0.9992142857142857, 0.9992857142857143, 0.99925], \"target_val_acc_label\": [0.31028645833333335, 0.30009765625, 0.31438802083333334, 0.36920572916666666, 0.33522135416666665, 0.32685546875, 0.34690755208333335, 0.36103515625]}, \"dataset_metrics\": {\"source\": {\"train\": {\"n_unique_x\": 175203, \"n_unique_y\": 58, \"n_batch/episode\": 6315}, \"val\": {\"n_unique_x\": 37216, \"n_unique_y\": 58, \"n_batch/episode\": 875}, \"test\": {\"n_unique_x\": 37596, \"n_unique_y\": 58, \"n_batch/episode\": 886}}, \"target\": {\"train\": {\"n_unique_x\": 179200, \"n_unique_y\": 16, \"n_batch/episode\": 6720}, \"val\": {\"n_unique_x\": 38400, \"n_unique_y\": 16, \"n_batch/episode\": 960}, \"test\": {\"n_unique_x\": 38400, \"n_unique_y\": 16, \"n_batch/episode\": 960}}}}'"
      ]
     },
     "execution_count": 29,
     "metadata": {},
     "output_type": "execute_result"
    }
   ],
   "source": [
    "json.dumps(experiment)"
   ]
  }
 ],
 "metadata": {
  "celltoolbar": "Tags",
  "kernelspec": {
   "display_name": "Python 3 (ipykernel)",
   "language": "python",
   "name": "python3"
  },
  "language_info": {
   "codemirror_mode": {
    "name": "ipython",
    "version": 3
   },
   "file_extension": ".py",
   "mimetype": "text/x-python",
   "name": "python",
   "nbconvert_exporter": "python",
   "pygments_lexer": "ipython3",
   "version": "3.8.10"
  },
  "papermill": {
   "default_parameters": {},
   "duration": 1395.044549,
   "end_time": "2022-03-25T03:50:12.120589",
   "environment_variables": {},
   "exception": null,
   "input_path": "/mnt/wd500GB/CSC500/csc500-main/csc500-notebooks/templates/tl_ptn_template.ipynb",
   "output_path": "trial.ipynb",
   "parameters": {
    "parameters": {
     "BEST_MODEL_PATH": "./best_model.pth",
     "NUM_LOGS_PER_EPOCH": 10,
     "criteria_for_best": "target_accuracy",
     "dataset_seed": 420,
     "datasets": [
      {
       "domain_prefix": "C_",
       "domains": [
        1,
        2,
        3,
        4,
        5
       ],
       "episode_transforms": [],
       "labels": [
        "1-10.",
        "1-11.",
        "1-15.",
        "1-16.",
        "1-17.",
        "1-18.",
        "1-19.",
        "10-4.",
        "10-7.",
        "11-1.",
        "11-14.",
        "11-17.",
        "11-20.",
        "11-7.",
        "13-20.",
        "13-8.",
        "14-10.",
        "14-11.",
        "14-14.",
        "14-7.",
        "15-1.",
        "15-20.",
        "16-1.",
        "16-16.",
        "17-10.",
        "17-11.",
        "17-2.",
        "19-1.",
        "19-16.",
        "19-19.",
        "19-20.",
        "19-3.",
        "2-10.",
        "2-11.",
        "2-17.",
        "2-18.",
        "2-20.",
        "2-3.",
        "2-4.",
        "2-5.",
        "2-6.",
        "2-7.",
        "2-8.",
        "3-13.",
        "3-18.",
        "3-3.",
        "4-1.",
        "4-10.",
        "4-11.",
        "4-19.",
        "5-5.",
        "6-15.",
        "7-10.",
        "7-14.",
        "8-18.",
        "8-20.",
        "8-3.",
        "8-8."
       ],
       "num_examples_per_domain_per_label": -1,
       "pickle_path": "/mnt/wd500GB/CSC500/csc500-main/datasets/cores.stratified_ds.2022A.pkl",
       "source_or_target_dataset": "source",
       "x_transforms": [
        "unit_mag",
        "take_200"
       ]
      },
      {
       "domain_prefix": "O_",
       "domains": [
        32,
        38,
        8,
        44,
        14,
        50,
        20,
        26
       ],
       "episode_transforms": [],
       "labels": [
        "3123D52",
        "3123D65",
        "3123D79",
        "3123D80",
        "3123D54",
        "3123D70",
        "3123D7B",
        "3123D89",
        "3123D58",
        "3123D76",
        "3123D7D",
        "3123EFE",
        "3123D64",
        "3123D78",
        "3123D7E",
        "3124E4A"
       ],
       "num_examples_per_domain_per_label": 2000,
       "pickle_path": "/mnt/wd500GB/CSC500/csc500-main/datasets/oracle.Run1_framed_2000Examples_stratified_ds.2022A.pkl",
       "source_or_target_dataset": "target",
       "x_transforms": [
        "unit_mag",
        "take_200",
        "resample_20Msps_to_25Msps"
       ]
      }
     ],
     "device": "cuda",
     "experiment_name": "tl_3Av2:cores -> oracle.run1.framed",
     "lr": 0.0001,
     "n_epoch": 50,
     "n_query": 2,
     "n_shot": 3,
     "n_way": 16,
     "patience": 3,
     "seed": 420,
     "test_k_factor": 2,
     "torch_default_dtype": "torch.float32",
     "train_k_factor": 3,
     "val_k_factor": 2,
     "x_net": [
      {
       "class": "nnReshape",
       "kargs": {
        "shape": [
         -1,
         1,
         2,
         200
        ]
       }
      },
      {
       "class": "Conv2d",
       "kargs": {
        "bias": false,
        "in_channels": 1,
        "kernel_size": [
         1,
         7
        ],
        "out_channels": 256,
        "padding": [
         0,
         3
        ]
       }
      },
      {
       "class": "ReLU",
       "kargs": {
        "inplace": true
       }
      },
      {
       "class": "BatchNorm2d",
       "kargs": {
        "num_features": 256
       }
      },
      {
       "class": "Conv2d",
       "kargs": {
        "bias": true,
        "in_channels": 256,
        "kernel_size": [
         2,
         7
        ],
        "out_channels": 80,
        "padding": [
         0,
         3
        ]
       }
      },
      {
       "class": "ReLU",
       "kargs": {
        "inplace": true
       }
      },
      {
       "class": "BatchNorm2d",
       "kargs": {
        "num_features": 80
       }
      },
      {
       "class": "Flatten",
       "kargs": {}
      },
      {
       "class": "Linear",
       "kargs": {
        "in_features": 16000,
        "out_features": 256
       }
      },
      {
       "class": "ReLU",
       "kargs": {
        "inplace": true
       }
      },
      {
       "class": "BatchNorm1d",
       "kargs": {
        "num_features": 256
       }
      },
      {
       "class": "Linear",
       "kargs": {
        "in_features": 256,
        "out_features": 256
       }
      }
     ],
     "x_shape": [
      2,
      200
     ]
    }
   },
   "start_time": "2022-03-25T03:26:57.076040",
   "version": "2.3.4"
  }
 },
 "nbformat": 4,
 "nbformat_minor": 5
}