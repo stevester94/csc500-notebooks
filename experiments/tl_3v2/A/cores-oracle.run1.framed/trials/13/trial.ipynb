{
 "cells": [
  {
   "cell_type": "markdown",
   "id": "9fea5f46",
   "metadata": {
    "papermill": {
     "duration": 0.016381,
     "end_time": "2022-03-25T06:53:31.332399",
     "exception": false,
     "start_time": "2022-03-25T06:53:31.316018",
     "status": "completed"
    },
    "tags": []
   },
   "source": [
    "# Transfer Learning Template"
   ]
  },
  {
   "cell_type": "code",
   "execution_count": 1,
   "id": "0902182a",
   "metadata": {
    "execution": {
     "iopub.execute_input": "2022-03-25T06:53:31.366753Z",
     "iopub.status.busy": "2022-03-25T06:53:31.366484Z",
     "iopub.status.idle": "2022-03-25T06:53:32.291796Z",
     "shell.execute_reply": "2022-03-25T06:53:32.291273Z"
    },
    "papermill": {
     "duration": 0.946841,
     "end_time": "2022-03-25T06:53:32.291912",
     "exception": false,
     "start_time": "2022-03-25T06:53:31.345071",
     "status": "completed"
    },
    "tags": []
   },
   "outputs": [],
   "source": [
    "%load_ext autoreload\n",
    "%autoreload 2\n",
    "%matplotlib inline\n",
    "\n",
    "    \n",
    "import os, json, sys, time, random\n",
    "import numpy as np\n",
    "import torch\n",
    "from torch.optim import Adam\n",
    "from  easydict import EasyDict\n",
    "import matplotlib.pyplot as plt\n",
    "\n",
    "from steves_models.steves_ptn import Steves_Prototypical_Network\n",
    "\n",
    "from steves_utils.lazy_iterable_wrapper import Lazy_Iterable_Wrapper\n",
    "from steves_utils.iterable_aggregator import Iterable_Aggregator\n",
    "from steves_utils.ptn_train_eval_test_jig import  PTN_Train_Eval_Test_Jig\n",
    "from steves_utils.torch_sequential_builder import build_sequential\n",
    "from steves_utils.torch_utils import get_dataset_metrics, ptn_confusion_by_domain_over_dataloader\n",
    "from steves_utils.utils_v2 import (per_domain_accuracy_from_confusion, get_datasets_base_path)\n",
    "from steves_utils.PTN.utils import independent_accuracy_assesment\n",
    "\n",
    "from torch.utils.data import DataLoader\n",
    "\n",
    "from steves_utils.stratified_dataset.episodic_accessor import Episodic_Accessor_Factory\n",
    "\n",
    "from steves_utils.ptn_do_report import (\n",
    "    get_loss_curve,\n",
    "    get_results_table,\n",
    "    get_parameters_table,\n",
    "    get_domain_accuracies,\n",
    ")\n",
    "\n",
    "from steves_utils.transforms import get_chained_transform"
   ]
  },
  {
   "cell_type": "markdown",
   "id": "41c840b4",
   "metadata": {
    "papermill": {
     "duration": 0.012468,
     "end_time": "2022-03-25T06:53:32.324138",
     "exception": false,
     "start_time": "2022-03-25T06:53:32.311670",
     "status": "completed"
    },
    "tags": []
   },
   "source": [
    "# Allowed Parameters\n",
    "These are allowed parameters, not defaults\n",
    "Each of these values need to be present in the injected parameters (the notebook will raise an exception if they are not present)\n",
    "\n",
    "Papermill uses the cell tag \"parameters\" to inject the real parameters below this cell.\n",
    "Enable tags to see what I mean"
   ]
  },
  {
   "cell_type": "code",
   "execution_count": 2,
   "id": "fd44eb83",
   "metadata": {
    "execution": {
     "iopub.execute_input": "2022-03-25T06:53:32.352916Z",
     "iopub.status.busy": "2022-03-25T06:53:32.352270Z",
     "iopub.status.idle": "2022-03-25T06:53:32.368658Z",
     "shell.execute_reply": "2022-03-25T06:53:32.368164Z"
    },
    "papermill": {
     "duration": 0.032031,
     "end_time": "2022-03-25T06:53:32.368760",
     "exception": false,
     "start_time": "2022-03-25T06:53:32.336729",
     "status": "completed"
    },
    "tags": []
   },
   "outputs": [],
   "source": [
    "required_parameters = {\n",
    "    \"experiment_name\",\n",
    "    \"lr\",\n",
    "    \"device\",\n",
    "    \"seed\",\n",
    "    \"dataset_seed\",\n",
    "    \"n_shot\",\n",
    "    \"n_query\",\n",
    "    \"n_way\",\n",
    "    \"train_k_factor\",\n",
    "    \"val_k_factor\",\n",
    "    \"test_k_factor\",\n",
    "    \"n_epoch\",\n",
    "    \"patience\",\n",
    "    \"criteria_for_best\",\n",
    "    \"x_net\",\n",
    "    \"datasets\",\n",
    "    \"torch_default_dtype\",\n",
    "    \"NUM_LOGS_PER_EPOCH\",\n",
    "    \"BEST_MODEL_PATH\",\n",
    "    \"x_shape\",\n",
    "}"
   ]
  },
  {
   "cell_type": "code",
   "execution_count": 3,
   "id": "fa3f0049",
   "metadata": {
    "execution": {
     "iopub.execute_input": "2022-03-25T06:53:32.407664Z",
     "iopub.status.busy": "2022-03-25T06:53:32.405060Z",
     "iopub.status.idle": "2022-03-25T06:53:32.421875Z",
     "shell.execute_reply": "2022-03-25T06:53:32.421393Z"
    },
    "papermill": {
     "duration": 0.036547,
     "end_time": "2022-03-25T06:53:32.421980",
     "exception": false,
     "start_time": "2022-03-25T06:53:32.385433",
     "status": "completed"
    },
    "tags": [
     "parameters"
    ]
   },
   "outputs": [],
   "source": [
    "from steves_utils.CORES.utils import (\n",
    "    ALL_NODES,\n",
    "    ALL_NODES_MINIMUM_1000_EXAMPLES,\n",
    "    ALL_DAYS\n",
    ")\n",
    "\n",
    "from steves_utils.ORACLE.utils_v2 import (\n",
    "    ALL_DISTANCES_FEET_NARROWED,\n",
    "    ALL_RUNS,\n",
    "    ALL_SERIAL_NUMBERS,\n",
    ")\n",
    "\n",
    "standalone_parameters = {}\n",
    "standalone_parameters[\"experiment_name\"] = \"STANDALONE PTN\"\n",
    "standalone_parameters[\"lr\"] = 0.001\n",
    "standalone_parameters[\"device\"] = \"cuda\"\n",
    "\n",
    "standalone_parameters[\"seed\"] = 1337\n",
    "standalone_parameters[\"dataset_seed\"] = 1337\n",
    "\n",
    "standalone_parameters[\"n_way\"] = 8\n",
    "standalone_parameters[\"n_shot\"] = 3\n",
    "standalone_parameters[\"n_query\"]  = 2\n",
    "standalone_parameters[\"train_k_factor\"] = 1\n",
    "standalone_parameters[\"val_k_factor\"] = 2\n",
    "standalone_parameters[\"test_k_factor\"] = 2\n",
    "\n",
    "\n",
    "standalone_parameters[\"n_epoch\"] = 50\n",
    "\n",
    "standalone_parameters[\"patience\"] = 10\n",
    "standalone_parameters[\"criteria_for_best\"] = \"source_loss\"\n",
    "\n",
    "standalone_parameters[\"datasets\"] = [\n",
    "    {\n",
    "        \"labels\": ALL_SERIAL_NUMBERS,\n",
    "        \"domains\": ALL_DISTANCES_FEET_NARROWED,\n",
    "        \"num_examples_per_domain_per_label\": 100,\n",
    "        \"pickle_path\": os.path.join(get_datasets_base_path(), \"oracle.Run1_framed_2000Examples_stratified_ds.2022A.pkl\"),\n",
    "        \"source_or_target_dataset\": \"source\",\n",
    "        \"x_transforms\": [\"unit_mag\", \"minus_two\"],\n",
    "        \"episode_transforms\": [],\n",
    "        \"domain_prefix\": \"ORACLE_\"\n",
    "    },\n",
    "    {\n",
    "        \"labels\": ALL_NODES,\n",
    "        \"domains\": ALL_DAYS,\n",
    "        \"num_examples_per_domain_per_label\": 100,\n",
    "        \"pickle_path\": os.path.join(get_datasets_base_path(), \"cores.stratified_ds.2022A.pkl\"),\n",
    "        \"source_or_target_dataset\": \"target\",\n",
    "        \"x_transforms\": [\"unit_power\", \"times_zero\"],\n",
    "        \"episode_transforms\": [],\n",
    "        \"domain_prefix\": \"CORES_\"\n",
    "    }   \n",
    "]\n",
    "\n",
    "standalone_parameters[\"torch_default_dtype\"] = \"torch.float32\" \n",
    "\n",
    "\n",
    "\n",
    "standalone_parameters[\"x_net\"] =     [\n",
    "    {\"class\": \"nnReshape\", \"kargs\": {\"shape\":[-1, 1, 2, 256]}},\n",
    "    {\"class\": \"Conv2d\", \"kargs\": { \"in_channels\":1, \"out_channels\":256, \"kernel_size\":(1,7), \"bias\":False, \"padding\":(0,3), },},\n",
    "    {\"class\": \"ReLU\", \"kargs\": {\"inplace\": True}},\n",
    "    {\"class\": \"BatchNorm2d\", \"kargs\": {\"num_features\":256}},\n",
    "\n",
    "    {\"class\": \"Conv2d\", \"kargs\": { \"in_channels\":256, \"out_channels\":80, \"kernel_size\":(2,7), \"bias\":True, \"padding\":(0,3), },},\n",
    "    {\"class\": \"ReLU\", \"kargs\": {\"inplace\": True}},\n",
    "    {\"class\": \"BatchNorm2d\", \"kargs\": {\"num_features\":80}},\n",
    "    {\"class\": \"Flatten\", \"kargs\": {}},\n",
    "\n",
    "    {\"class\": \"Linear\", \"kargs\": {\"in_features\": 80*256, \"out_features\": 256}}, # 80 units per IQ pair\n",
    "    {\"class\": \"ReLU\", \"kargs\": {\"inplace\": True}},\n",
    "    {\"class\": \"BatchNorm1d\", \"kargs\": {\"num_features\":256}},\n",
    "\n",
    "    {\"class\": \"Linear\", \"kargs\": {\"in_features\": 256, \"out_features\": 256}},\n",
    "]\n",
    "\n",
    "# Parameters relevant to results\n",
    "# These parameters will basically never need to change\n",
    "standalone_parameters[\"NUM_LOGS_PER_EPOCH\"] = 10\n",
    "standalone_parameters[\"BEST_MODEL_PATH\"] = \"./best_model.pth\"\n",
    "\n",
    "\n",
    "\n",
    "\n"
   ]
  },
  {
   "cell_type": "code",
   "execution_count": 4,
   "id": "024244ba",
   "metadata": {
    "execution": {
     "iopub.execute_input": "2022-03-25T06:53:32.463068Z",
     "iopub.status.busy": "2022-03-25T06:53:32.462639Z",
     "iopub.status.idle": "2022-03-25T06:53:32.475827Z",
     "shell.execute_reply": "2022-03-25T06:53:32.475397Z"
    },
    "papermill": {
     "duration": 0.036818,
     "end_time": "2022-03-25T06:53:32.475931",
     "exception": false,
     "start_time": "2022-03-25T06:53:32.439113",
     "status": "completed"
    },
    "tags": [
     "injected-parameters"
    ]
   },
   "outputs": [],
   "source": [
    "# Parameters\n",
    "parameters = {\n",
    "    \"experiment_name\": \"tl_3Av2:cores -> oracle.run1.framed\",\n",
    "    \"device\": \"cuda\",\n",
    "    \"lr\": 0.0001,\n",
    "    \"x_shape\": [2, 200],\n",
    "    \"n_shot\": 3,\n",
    "    \"n_query\": 2,\n",
    "    \"train_k_factor\": 3,\n",
    "    \"val_k_factor\": 2,\n",
    "    \"test_k_factor\": 2,\n",
    "    \"torch_default_dtype\": \"torch.float32\",\n",
    "    \"n_epoch\": 50,\n",
    "    \"patience\": 3,\n",
    "    \"criteria_for_best\": \"target_accuracy\",\n",
    "    \"x_net\": [\n",
    "        {\"class\": \"nnReshape\", \"kargs\": {\"shape\": [-1, 1, 2, 200]}},\n",
    "        {\n",
    "            \"class\": \"Conv2d\",\n",
    "            \"kargs\": {\n",
    "                \"in_channels\": 1,\n",
    "                \"out_channels\": 256,\n",
    "                \"kernel_size\": [1, 7],\n",
    "                \"bias\": False,\n",
    "                \"padding\": [0, 3],\n",
    "            },\n",
    "        },\n",
    "        {\"class\": \"ReLU\", \"kargs\": {\"inplace\": True}},\n",
    "        {\"class\": \"BatchNorm2d\", \"kargs\": {\"num_features\": 256}},\n",
    "        {\n",
    "            \"class\": \"Conv2d\",\n",
    "            \"kargs\": {\n",
    "                \"in_channels\": 256,\n",
    "                \"out_channels\": 80,\n",
    "                \"kernel_size\": [2, 7],\n",
    "                \"bias\": True,\n",
    "                \"padding\": [0, 3],\n",
    "            },\n",
    "        },\n",
    "        {\"class\": \"ReLU\", \"kargs\": {\"inplace\": True}},\n",
    "        {\"class\": \"BatchNorm2d\", \"kargs\": {\"num_features\": 80}},\n",
    "        {\"class\": \"Flatten\", \"kargs\": {}},\n",
    "        {\"class\": \"Linear\", \"kargs\": {\"in_features\": 16000, \"out_features\": 256}},\n",
    "        {\"class\": \"ReLU\", \"kargs\": {\"inplace\": True}},\n",
    "        {\"class\": \"BatchNorm1d\", \"kargs\": {\"num_features\": 256}},\n",
    "        {\"class\": \"Linear\", \"kargs\": {\"in_features\": 256, \"out_features\": 256}},\n",
    "    ],\n",
    "    \"NUM_LOGS_PER_EPOCH\": 10,\n",
    "    \"BEST_MODEL_PATH\": \"./best_model.pth\",\n",
    "    \"n_way\": 16,\n",
    "    \"datasets\": [\n",
    "        {\n",
    "            \"labels\": [\n",
    "                \"1-10.\",\n",
    "                \"1-11.\",\n",
    "                \"1-15.\",\n",
    "                \"1-16.\",\n",
    "                \"1-17.\",\n",
    "                \"1-18.\",\n",
    "                \"1-19.\",\n",
    "                \"10-4.\",\n",
    "                \"10-7.\",\n",
    "                \"11-1.\",\n",
    "                \"11-14.\",\n",
    "                \"11-17.\",\n",
    "                \"11-20.\",\n",
    "                \"11-7.\",\n",
    "                \"13-20.\",\n",
    "                \"13-8.\",\n",
    "                \"14-10.\",\n",
    "                \"14-11.\",\n",
    "                \"14-14.\",\n",
    "                \"14-7.\",\n",
    "                \"15-1.\",\n",
    "                \"15-20.\",\n",
    "                \"16-1.\",\n",
    "                \"16-16.\",\n",
    "                \"17-10.\",\n",
    "                \"17-11.\",\n",
    "                \"17-2.\",\n",
    "                \"19-1.\",\n",
    "                \"19-16.\",\n",
    "                \"19-19.\",\n",
    "                \"19-20.\",\n",
    "                \"19-3.\",\n",
    "                \"2-10.\",\n",
    "                \"2-11.\",\n",
    "                \"2-17.\",\n",
    "                \"2-18.\",\n",
    "                \"2-20.\",\n",
    "                \"2-3.\",\n",
    "                \"2-4.\",\n",
    "                \"2-5.\",\n",
    "                \"2-6.\",\n",
    "                \"2-7.\",\n",
    "                \"2-8.\",\n",
    "                \"3-13.\",\n",
    "                \"3-18.\",\n",
    "                \"3-3.\",\n",
    "                \"4-1.\",\n",
    "                \"4-10.\",\n",
    "                \"4-11.\",\n",
    "                \"4-19.\",\n",
    "                \"5-5.\",\n",
    "                \"6-15.\",\n",
    "                \"7-10.\",\n",
    "                \"7-14.\",\n",
    "                \"8-18.\",\n",
    "                \"8-20.\",\n",
    "                \"8-3.\",\n",
    "                \"8-8.\",\n",
    "            ],\n",
    "            \"domains\": [1, 2, 3, 4, 5],\n",
    "            \"num_examples_per_domain_per_label\": -1,\n",
    "            \"pickle_path\": \"/mnt/wd500GB/CSC500/csc500-main/datasets/cores.stratified_ds.2022A.pkl\",\n",
    "            \"source_or_target_dataset\": \"source\",\n",
    "            \"x_transforms\": [\"unit_mag\", \"take_200\"],\n",
    "            \"episode_transforms\": [],\n",
    "            \"domain_prefix\": \"C_\",\n",
    "        },\n",
    "        {\n",
    "            \"labels\": [\n",
    "                \"3123D52\",\n",
    "                \"3123D65\",\n",
    "                \"3123D79\",\n",
    "                \"3123D80\",\n",
    "                \"3123D54\",\n",
    "                \"3123D70\",\n",
    "                \"3123D7B\",\n",
    "                \"3123D89\",\n",
    "                \"3123D58\",\n",
    "                \"3123D76\",\n",
    "                \"3123D7D\",\n",
    "                \"3123EFE\",\n",
    "                \"3123D64\",\n",
    "                \"3123D78\",\n",
    "                \"3123D7E\",\n",
    "                \"3124E4A\",\n",
    "            ],\n",
    "            \"domains\": [32, 38, 8, 44, 14, 50, 20, 26],\n",
    "            \"num_examples_per_domain_per_label\": 2000,\n",
    "            \"pickle_path\": \"/mnt/wd500GB/CSC500/csc500-main/datasets/oracle.Run1_framed_2000Examples_stratified_ds.2022A.pkl\",\n",
    "            \"source_or_target_dataset\": \"target\",\n",
    "            \"x_transforms\": [\"unit_mag\", \"take_200\", \"resample_20Msps_to_25Msps\"],\n",
    "            \"episode_transforms\": [],\n",
    "            \"domain_prefix\": \"O_\",\n",
    "        },\n",
    "    ],\n",
    "    \"seed\": 500,\n",
    "    \"dataset_seed\": 500,\n",
    "}\n"
   ]
  },
  {
   "cell_type": "code",
   "execution_count": 5,
   "id": "8fa1cc33",
   "metadata": {
    "execution": {
     "iopub.execute_input": "2022-03-25T06:53:32.510919Z",
     "iopub.status.busy": "2022-03-25T06:53:32.507893Z",
     "iopub.status.idle": "2022-03-25T06:53:32.526374Z",
     "shell.execute_reply": "2022-03-25T06:53:32.525876Z"
    },
    "papermill": {
     "duration": 0.032551,
     "end_time": "2022-03-25T06:53:32.526476",
     "exception": false,
     "start_time": "2022-03-25T06:53:32.493925",
     "status": "completed"
    },
    "tags": []
   },
   "outputs": [],
   "source": [
    "# Set this to True if you want to run this template directly\n",
    "STANDALONE = False\n",
    "if STANDALONE:\n",
    "    print(\"parameters not injected, running with standalone_parameters\")\n",
    "    parameters = standalone_parameters\n",
    "\n",
    "if not 'parameters' in locals() and not 'parameters' in globals():\n",
    "    raise Exception(\"Parameter injection failed\")\n",
    "\n",
    "#Use an easy dict for all the parameters\n",
    "p = EasyDict(parameters)\n",
    "\n",
    "if \"x_shape\" not in p:\n",
    "    p.x_shape = [2,256] # Default to this if we dont supply x_shape\n",
    "\n",
    "\n",
    "supplied_keys = set(p.keys())\n",
    "\n",
    "if  supplied_keys != required_parameters:\n",
    "    print(\"Parameters are incorrect\")\n",
    "    if len(supplied_keys - required_parameters)>0: print(\"Shouldn't have:\", str(supplied_keys - required_parameters))\n",
    "    if len(required_parameters - supplied_keys)>0: print(\"Need to have:\", str(required_parameters - supplied_keys))\n",
    "    raise RuntimeError(\"Parameters are incorrect\")"
   ]
  },
  {
   "cell_type": "code",
   "execution_count": 6,
   "id": "3a028d58",
   "metadata": {
    "execution": {
     "iopub.execute_input": "2022-03-25T06:53:32.560886Z",
     "iopub.status.busy": "2022-03-25T06:53:32.560630Z",
     "iopub.status.idle": "2022-03-25T06:53:32.577027Z",
     "shell.execute_reply": "2022-03-25T06:53:32.576544Z"
    },
    "papermill": {
     "duration": 0.031653,
     "end_time": "2022-03-25T06:53:32.577129",
     "exception": false,
     "start_time": "2022-03-25T06:53:32.545476",
     "status": "completed"
    },
    "tags": []
   },
   "outputs": [],
   "source": [
    "###################################\n",
    "# Set the RNGs and make it all deterministic\n",
    "###################################\n",
    "np.random.seed(p.seed)\n",
    "random.seed(p.seed)\n",
    "torch.manual_seed(p.seed)\n",
    "\n",
    "torch.use_deterministic_algorithms(True) "
   ]
  },
  {
   "cell_type": "code",
   "execution_count": 7,
   "id": "b691acf6",
   "metadata": {
    "execution": {
     "iopub.execute_input": "2022-03-25T06:53:32.609409Z",
     "iopub.status.busy": "2022-03-25T06:53:32.609165Z",
     "iopub.status.idle": "2022-03-25T06:53:32.625029Z",
     "shell.execute_reply": "2022-03-25T06:53:32.624547Z"
    },
    "papermill": {
     "duration": 0.030474,
     "end_time": "2022-03-25T06:53:32.625132",
     "exception": false,
     "start_time": "2022-03-25T06:53:32.594658",
     "status": "completed"
    },
    "tags": []
   },
   "outputs": [],
   "source": [
    "###########################################\n",
    "# The stratified datasets honor this\n",
    "###########################################\n",
    "torch.set_default_dtype(eval(p.torch_default_dtype))"
   ]
  },
  {
   "cell_type": "code",
   "execution_count": 8,
   "id": "b5fba671",
   "metadata": {
    "execution": {
     "iopub.execute_input": "2022-03-25T06:53:32.658606Z",
     "iopub.status.busy": "2022-03-25T06:53:32.658354Z",
     "iopub.status.idle": "2022-03-25T06:53:32.696019Z",
     "shell.execute_reply": "2022-03-25T06:53:32.696444Z"
    },
    "papermill": {
     "duration": 0.052969,
     "end_time": "2022-03-25T06:53:32.696580",
     "exception": false,
     "start_time": "2022-03-25T06:53:32.643611",
     "status": "completed"
    },
    "tags": []
   },
   "outputs": [],
   "source": [
    "###################################\n",
    "# Build the network(s)\n",
    "# Note: It's critical to do this AFTER setting the RNG\n",
    "###################################\n",
    "x_net = build_sequential(p.x_net)"
   ]
  },
  {
   "cell_type": "code",
   "execution_count": 9,
   "id": "5d7e61cc",
   "metadata": {
    "execution": {
     "iopub.execute_input": "2022-03-25T06:53:32.730632Z",
     "iopub.status.busy": "2022-03-25T06:53:32.730378Z",
     "iopub.status.idle": "2022-03-25T06:53:32.741897Z",
     "shell.execute_reply": "2022-03-25T06:53:32.741632Z"
    },
    "papermill": {
     "duration": 0.026234,
     "end_time": "2022-03-25T06:53:32.741959",
     "exception": false,
     "start_time": "2022-03-25T06:53:32.715725",
     "status": "completed"
    },
    "tags": []
   },
   "outputs": [],
   "source": [
    "start_time_secs = time.time()"
   ]
  },
  {
   "cell_type": "code",
   "execution_count": 10,
   "id": "c6b67dfd",
   "metadata": {
    "execution": {
     "iopub.execute_input": "2022-03-25T06:53:32.781750Z",
     "iopub.status.busy": "2022-03-25T06:53:32.775143Z",
     "iopub.status.idle": "2022-03-25T06:53:32.789887Z",
     "shell.execute_reply": "2022-03-25T06:53:32.790309Z"
    },
    "papermill": {
     "duration": 0.031507,
     "end_time": "2022-03-25T06:53:32.790427",
     "exception": false,
     "start_time": "2022-03-25T06:53:32.758920",
     "status": "completed"
    },
    "tags": []
   },
   "outputs": [],
   "source": [
    "p.domains_source = []\n",
    "p.domains_target = []\n",
    "\n",
    "\n",
    "train_original_source = []\n",
    "val_original_source   = []\n",
    "test_original_source  = []\n",
    "\n",
    "train_original_target = []\n",
    "val_original_target   = []\n",
    "test_original_target  = []"
   ]
  },
  {
   "cell_type": "code",
   "execution_count": 11,
   "id": "e3d9c3d3",
   "metadata": {
    "execution": {
     "iopub.execute_input": "2022-03-25T06:53:32.824403Z",
     "iopub.status.busy": "2022-03-25T06:53:32.824155Z",
     "iopub.status.idle": "2022-03-25T06:53:32.840378Z",
     "shell.execute_reply": "2022-03-25T06:53:32.839885Z"
    },
    "papermill": {
     "duration": 0.031038,
     "end_time": "2022-03-25T06:53:32.840483",
     "exception": false,
     "start_time": "2022-03-25T06:53:32.809445",
     "status": "completed"
    },
    "tags": []
   },
   "outputs": [],
   "source": [
    "# global_x_transform_func = lambda x: normalize(x.to(torch.get_default_dtype()), \"unit_power\") # unit_power, unit_mag\n",
    "# global_x_transform_func = lambda x: normalize(x, \"unit_power\") # unit_power, unit_mag"
   ]
  },
  {
   "cell_type": "code",
   "execution_count": 12,
   "id": "acb78fd2",
   "metadata": {
    "execution": {
     "iopub.execute_input": "2022-03-25T06:53:32.876347Z",
     "iopub.status.busy": "2022-03-25T06:53:32.876086Z",
     "iopub.status.idle": "2022-03-25T06:53:32.888364Z",
     "shell.execute_reply": "2022-03-25T06:53:32.887878Z"
    },
    "papermill": {
     "duration": 0.029889,
     "end_time": "2022-03-25T06:53:32.888466",
     "exception": false,
     "start_time": "2022-03-25T06:53:32.858577",
     "status": "completed"
    },
    "tags": []
   },
   "outputs": [],
   "source": [
    "def add_dataset(\n",
    "    labels,\n",
    "    domains,\n",
    "    pickle_path,\n",
    "    x_transforms,\n",
    "    episode_transforms,\n",
    "    domain_prefix,\n",
    "    num_examples_per_domain_per_label,\n",
    "    source_or_target_dataset:str,\n",
    "    iterator_seed=p.seed,\n",
    "    dataset_seed=p.dataset_seed,\n",
    "    n_shot=p.n_shot,\n",
    "    n_way=p.n_way,\n",
    "    n_query=p.n_query,\n",
    "    train_val_test_k_factors=(p.train_k_factor,p.val_k_factor,p.test_k_factor),\n",
    "):\n",
    "   \n",
    "    if x_transforms == []: x_transform = None\n",
    "    else: x_transform = get_chained_transform(x_transforms)\n",
    "    \n",
    "    if episode_transforms == []: episode_transform = None\n",
    "    else: raise Exception(\"episode_transforms not implemented\")\n",
    "    \n",
    "    episode_transform = lambda tup, _prefix=domain_prefix: (_prefix + str(tup[0]), tup[1])\n",
    "\n",
    "\n",
    "    eaf = Episodic_Accessor_Factory(\n",
    "        labels=labels,\n",
    "        domains=domains,\n",
    "        num_examples_per_domain_per_label=num_examples_per_domain_per_label,\n",
    "        iterator_seed=iterator_seed,\n",
    "        dataset_seed=dataset_seed,\n",
    "        n_shot=n_shot,\n",
    "        n_way=n_way,\n",
    "        n_query=n_query,\n",
    "        train_val_test_k_factors=train_val_test_k_factors,\n",
    "        pickle_path=pickle_path,\n",
    "        x_transform_func=x_transform,\n",
    "    )\n",
    "\n",
    "    train, val, test = eaf.get_train(), eaf.get_val(), eaf.get_test()\n",
    "    train = Lazy_Iterable_Wrapper(train, episode_transform)\n",
    "    val = Lazy_Iterable_Wrapper(val, episode_transform)\n",
    "    test = Lazy_Iterable_Wrapper(test, episode_transform)\n",
    "\n",
    "    if source_or_target_dataset==\"source\":\n",
    "        train_original_source.append(train)\n",
    "        val_original_source.append(val)\n",
    "        test_original_source.append(test)\n",
    "\n",
    "        p.domains_source.extend(\n",
    "            [domain_prefix + str(u) for u in domains]\n",
    "        )\n",
    "    elif source_or_target_dataset==\"target\":\n",
    "        train_original_target.append(train)\n",
    "        val_original_target.append(val)\n",
    "        test_original_target.append(test)\n",
    "        p.domains_target.extend(\n",
    "            [domain_prefix + str(u) for u in domains]\n",
    "        )\n",
    "    else:\n",
    "        raise Exception(f\"invalid source_or_target_dataset: {source_or_target_dataset}\")\n",
    "    "
   ]
  },
  {
   "cell_type": "code",
   "execution_count": 13,
   "id": "fe266617",
   "metadata": {
    "execution": {
     "iopub.execute_input": "2022-03-25T06:53:32.922342Z",
     "iopub.status.busy": "2022-03-25T06:53:32.922084Z",
     "iopub.status.idle": "2022-03-25T06:54:22.258530Z",
     "shell.execute_reply": "2022-03-25T06:54:22.258073Z"
    },
    "papermill": {
     "duration": 49.351804,
     "end_time": "2022-03-25T06:54:22.258640",
     "exception": false,
     "start_time": "2022-03-25T06:53:32.906836",
     "status": "completed"
    },
    "tags": []
   },
   "outputs": [],
   "source": [
    "for ds in p.datasets:\n",
    "    add_dataset(**ds)"
   ]
  },
  {
   "cell_type": "code",
   "execution_count": 14,
   "id": "b90d65ac",
   "metadata": {
    "execution": {
     "iopub.execute_input": "2022-03-25T06:54:22.292002Z",
     "iopub.status.busy": "2022-03-25T06:54:22.291742Z",
     "iopub.status.idle": "2022-03-25T06:54:22.306446Z",
     "shell.execute_reply": "2022-03-25T06:54:22.305939Z"
    },
    "papermill": {
     "duration": 0.030217,
     "end_time": "2022-03-25T06:54:22.306549",
     "exception": false,
     "start_time": "2022-03-25T06:54:22.276332",
     "status": "completed"
    },
    "tags": []
   },
   "outputs": [],
   "source": [
    "# from steves_utils.CORES.utils import (\n",
    "#     ALL_NODES,\n",
    "#     ALL_NODES_MINIMUM_1000_EXAMPLES,\n",
    "#     ALL_DAYS\n",
    "# )\n",
    "\n",
    "# add_dataset(\n",
    "#     labels=ALL_NODES,\n",
    "#     domains = ALL_DAYS,\n",
    "#     num_examples_per_domain_per_label=100,\n",
    "#     pickle_path=os.path.join(get_datasets_base_path(), \"cores.stratified_ds.2022A.pkl\"),\n",
    "#     source_or_target_dataset=\"target\",\n",
    "#     x_transform_func=global_x_transform_func,\n",
    "#     domain_modifier=lambda u: f\"cores_{u}\"\n",
    "# )"
   ]
  },
  {
   "cell_type": "code",
   "execution_count": 15,
   "id": "76db484d",
   "metadata": {
    "execution": {
     "iopub.execute_input": "2022-03-25T06:54:22.339603Z",
     "iopub.status.busy": "2022-03-25T06:54:22.339299Z",
     "iopub.status.idle": "2022-03-25T06:54:22.355532Z",
     "shell.execute_reply": "2022-03-25T06:54:22.355051Z"
    },
    "papermill": {
     "duration": 0.031599,
     "end_time": "2022-03-25T06:54:22.355632",
     "exception": false,
     "start_time": "2022-03-25T06:54:22.324033",
     "status": "completed"
    },
    "tags": []
   },
   "outputs": [],
   "source": [
    "# from steves_utils.ORACLE.utils_v2 import (\n",
    "#     ALL_DISTANCES_FEET,\n",
    "#     ALL_RUNS,\n",
    "#     ALL_SERIAL_NUMBERS,\n",
    "# )\n",
    "\n",
    "\n",
    "# add_dataset(\n",
    "#     labels=ALL_SERIAL_NUMBERS,\n",
    "#     domains = list(set(ALL_DISTANCES_FEET) - {2,62}),\n",
    "#     num_examples_per_domain_per_label=100,\n",
    "#     pickle_path=os.path.join(get_datasets_base_path(), \"oracle.Run2_framed_2000Examples_stratified_ds.2022A.pkl\"),\n",
    "#     source_or_target_dataset=\"source\",\n",
    "#     x_transform_func=global_x_transform_func,\n",
    "#     domain_modifier=lambda u: f\"oracle1_{u}\"\n",
    "# )\n"
   ]
  },
  {
   "cell_type": "code",
   "execution_count": 16,
   "id": "97dea9d2",
   "metadata": {
    "execution": {
     "iopub.execute_input": "2022-03-25T06:54:22.390019Z",
     "iopub.status.busy": "2022-03-25T06:54:22.389745Z",
     "iopub.status.idle": "2022-03-25T06:54:22.403839Z",
     "shell.execute_reply": "2022-03-25T06:54:22.403371Z"
    },
    "papermill": {
     "duration": 0.029125,
     "end_time": "2022-03-25T06:54:22.403938",
     "exception": false,
     "start_time": "2022-03-25T06:54:22.374813",
     "status": "completed"
    },
    "tags": []
   },
   "outputs": [],
   "source": [
    "# from steves_utils.ORACLE.utils_v2 import (\n",
    "#     ALL_DISTANCES_FEET,\n",
    "#     ALL_RUNS,\n",
    "#     ALL_SERIAL_NUMBERS,\n",
    "# )\n",
    "\n",
    "\n",
    "# add_dataset(\n",
    "#     labels=ALL_SERIAL_NUMBERS,\n",
    "#     domains = list(set(ALL_DISTANCES_FEET) - {2,62,56}),\n",
    "#     num_examples_per_domain_per_label=100,\n",
    "#     pickle_path=os.path.join(get_datasets_base_path(), \"oracle.Run2_framed_2000Examples_stratified_ds.2022A.pkl\"),\n",
    "#     source_or_target_dataset=\"source\",\n",
    "#     x_transform_func=global_x_transform_func,\n",
    "#     domain_modifier=lambda u: f\"oracle2_{u}\"\n",
    "# )"
   ]
  },
  {
   "cell_type": "code",
   "execution_count": 17,
   "id": "6f289866",
   "metadata": {
    "execution": {
     "iopub.execute_input": "2022-03-25T06:54:22.438219Z",
     "iopub.status.busy": "2022-03-25T06:54:22.437813Z",
     "iopub.status.idle": "2022-03-25T06:54:22.448878Z",
     "shell.execute_reply": "2022-03-25T06:54:22.448614Z"
    },
    "papermill": {
     "duration": 0.026303,
     "end_time": "2022-03-25T06:54:22.448935",
     "exception": false,
     "start_time": "2022-03-25T06:54:22.422632",
     "status": "completed"
    },
    "tags": []
   },
   "outputs": [],
   "source": [
    "# add_dataset(\n",
    "#     labels=list(range(19)),\n",
    "#     domains = [0,1,2],\n",
    "#     num_examples_per_domain_per_label=100,\n",
    "#     pickle_path=os.path.join(get_datasets_base_path(), \"metehan.stratified_ds.2022A.pkl\"),\n",
    "#     source_or_target_dataset=\"target\",\n",
    "#     x_transform_func=global_x_transform_func,\n",
    "#     domain_modifier=lambda u: f\"met_{u}\"\n",
    "# )"
   ]
  },
  {
   "cell_type": "code",
   "execution_count": 18,
   "id": "86a863c3",
   "metadata": {
    "execution": {
     "iopub.execute_input": "2022-03-25T06:54:22.477810Z",
     "iopub.status.busy": "2022-03-25T06:54:22.477554Z",
     "iopub.status.idle": "2022-03-25T06:54:22.494239Z",
     "shell.execute_reply": "2022-03-25T06:54:22.494439Z"
    },
    "papermill": {
     "duration": 0.031981,
     "end_time": "2022-03-25T06:54:22.494497",
     "exception": false,
     "start_time": "2022-03-25T06:54:22.462516",
     "status": "completed"
    },
    "tags": []
   },
   "outputs": [],
   "source": [
    "# # from steves_utils.wisig.utils import (\n",
    "# #     ALL_NODES_MINIMUM_100_EXAMPLES,\n",
    "# #     ALL_NODES_MINIMUM_500_EXAMPLES,\n",
    "# #     ALL_NODES_MINIMUM_1000_EXAMPLES,\n",
    "# #     ALL_DAYS\n",
    "# # )\n",
    "\n",
    "# import steves_utils.wisig.utils as wisig\n",
    "\n",
    "\n",
    "# add_dataset(\n",
    "#     labels=wisig.ALL_NODES_MINIMUM_100_EXAMPLES,\n",
    "#     domains = wisig.ALL_DAYS,\n",
    "#     num_examples_per_domain_per_label=100,\n",
    "#     pickle_path=os.path.join(get_datasets_base_path(), \"wisig.node3-19.stratified_ds.2022A.pkl\"),\n",
    "#     source_or_target_dataset=\"target\",\n",
    "#     x_transform_func=global_x_transform_func,\n",
    "#     domain_modifier=lambda u: f\"wisig_{u}\"\n",
    "# )"
   ]
  },
  {
   "cell_type": "code",
   "execution_count": 19,
   "id": "fd5442bc",
   "metadata": {
    "execution": {
     "iopub.execute_input": "2022-03-25T06:54:22.525332Z",
     "iopub.status.busy": "2022-03-25T06:54:22.525080Z",
     "iopub.status.idle": "2022-03-25T06:54:22.536225Z",
     "shell.execute_reply": "2022-03-25T06:54:22.536426Z"
    },
    "papermill": {
     "duration": 0.028666,
     "end_time": "2022-03-25T06:54:22.536481",
     "exception": false,
     "start_time": "2022-03-25T06:54:22.507815",
     "status": "completed"
    },
    "tags": []
   },
   "outputs": [],
   "source": [
    "###################################\n",
    "# Build the dataset\n",
    "###################################\n",
    "train_original_source = Iterable_Aggregator(train_original_source, p.seed)\n",
    "val_original_source = Iterable_Aggregator(val_original_source, p.seed)\n",
    "test_original_source = Iterable_Aggregator(test_original_source, p.seed)\n",
    "\n",
    "\n",
    "train_original_target = Iterable_Aggregator(train_original_target, p.seed)\n",
    "val_original_target = Iterable_Aggregator(val_original_target, p.seed)\n",
    "test_original_target = Iterable_Aggregator(test_original_target, p.seed)\n",
    "\n",
    "# For CNN We only use X and Y. And we only train on the source.\n",
    "# Properly form the data using a transform lambda and Lazy_Iterable_Wrapper. Finally wrap them in a dataloader\n",
    "\n",
    "transform_lambda = lambda ex: ex[1] # Original is (<domain>, <episode>) so we strip down to episode only\n",
    "\n",
    "train_processed_source = Lazy_Iterable_Wrapper(train_original_source, transform_lambda)\n",
    "val_processed_source   = Lazy_Iterable_Wrapper(val_original_source, transform_lambda)\n",
    "test_processed_source  = Lazy_Iterable_Wrapper(test_original_source, transform_lambda)\n",
    "\n",
    "train_processed_target = Lazy_Iterable_Wrapper(train_original_target, transform_lambda)\n",
    "val_processed_target   = Lazy_Iterable_Wrapper(val_original_target, transform_lambda)\n",
    "test_processed_target  = Lazy_Iterable_Wrapper(test_original_target, transform_lambda)\n",
    "\n",
    "datasets = EasyDict({\n",
    "    \"source\": {\n",
    "        \"original\": {\"train\":train_original_source, \"val\":val_original_source, \"test\":test_original_source},\n",
    "        \"processed\": {\"train\":train_processed_source, \"val\":val_processed_source, \"test\":test_processed_source}\n",
    "    },\n",
    "    \"target\": {\n",
    "        \"original\": {\"train\":train_original_target, \"val\":val_original_target, \"test\":test_original_target},\n",
    "        \"processed\": {\"train\":train_processed_target, \"val\":val_processed_target, \"test\":test_processed_target}\n",
    "    },\n",
    "})"
   ]
  },
  {
   "cell_type": "code",
   "execution_count": 20,
   "id": "5b3c01fc",
   "metadata": {
    "execution": {
     "iopub.execute_input": "2022-03-25T06:54:22.568019Z",
     "iopub.status.busy": "2022-03-25T06:54:22.567377Z",
     "iopub.status.idle": "2022-03-25T06:54:28.816917Z",
     "shell.execute_reply": "2022-03-25T06:54:28.817426Z"
    },
    "papermill": {
     "duration": 6.26761,
     "end_time": "2022-03-25T06:54:28.817579",
     "exception": false,
     "start_time": "2022-03-25T06:54:22.549969",
     "status": "completed"
    },
    "tags": []
   },
   "outputs": [
    {
     "name": "stdout",
     "output_type": "stream",
     "text": [
      "{'C_4', 'C_2', 'C_3', 'C_5', 'C_1'}\n"
     ]
    },
    {
     "name": "stdout",
     "output_type": "stream",
     "text": [
      "{'O_20', 'O_44', 'O_26', 'O_38', 'O_14', 'O_32', 'O_8', 'O_50'}\n"
     ]
    },
    {
     "name": "stdout",
     "output_type": "stream",
     "text": [
      "tensor([[[-0.2011, -0.1816, -0.7509,  ...,  1.7091,  0.4750, -0.5057],\n",
      "         [-0.1180,  0.0369,  0.5786,  ..., -0.5560,  0.0482, -0.1487]],\n",
      "\n",
      "        [[-0.3510, -1.0008, -0.6342,  ...,  0.0155, -0.1000, -0.1599],\n",
      "         [-0.1755, -0.6742, -1.0652,  ...,  0.0389, -0.5742,  0.0655]],\n",
      "\n",
      "        [[-0.2248, -0.1256, -0.3747,  ...,  0.9864,  0.1631, -0.5235],\n",
      "         [-0.0143,  0.2733,  1.0668,  ..., -1.1506, -0.0937,  0.2171]],\n",
      "\n",
      "        ...,\n",
      "\n",
      "        [[-0.1884, -0.8024,  0.9978,  ...,  0.0535,  0.9699,  1.2420],\n",
      "         [ 0.4489, -0.7676, -0.6861,  ..., -0.9350, -1.7468,  0.5559]],\n",
      "\n",
      "        [[-0.5394,  0.1630,  1.1384,  ...,  0.7965,  1.9739, -0.0275],\n",
      "         [-0.0734, -1.0902,  0.5738,  ..., -1.0053, -0.3512,  1.2945]],\n",
      "\n",
      "        [[ 0.0000, -0.0395, -0.0734,  ..., -0.4630,  1.7562,  0.0311],\n",
      "         [-0.1186, -0.0593, -0.1525,  ..., -1.4032,  0.0903,  1.4992]]])\n"
     ]
    }
   ],
   "source": [
    "from steves_utils.transforms import get_average_magnitude, get_average_power\n",
    "\n",
    "print(set([u for u,_ in val_original_source]))\n",
    "print(set([u for u,_ in val_original_target]))\n",
    "\n",
    "s_x, s_y, q_x, q_y, _ = next(iter(train_processed_source))\n",
    "print(s_x)\n",
    "\n",
    "# for ds in [\n",
    "#     train_processed_source,\n",
    "#     val_processed_source,\n",
    "#     test_processed_source,\n",
    "#     train_processed_target,\n",
    "#     val_processed_target,\n",
    "#     test_processed_target\n",
    "# ]:\n",
    "#     for s_x, s_y, q_x, q_y, _ in ds:\n",
    "#         for X in (s_x, q_x):\n",
    "#             for x in X:\n",
    "#                 assert np.isclose(get_average_magnitude(x.numpy()), 1.0)\n",
    "#                 assert np.isclose(get_average_power(x.numpy()), 1.0)\n",
    "                "
   ]
  },
  {
   "cell_type": "code",
   "execution_count": 21,
   "id": "bbdacba1",
   "metadata": {
    "execution": {
     "iopub.execute_input": "2022-03-25T06:54:28.854604Z",
     "iopub.status.busy": "2022-03-25T06:54:28.854343Z",
     "iopub.status.idle": "2022-03-25T06:54:28.902059Z",
     "shell.execute_reply": "2022-03-25T06:54:28.901623Z"
    },
    "papermill": {
     "duration": 0.06456,
     "end_time": "2022-03-25T06:54:28.902153",
     "exception": false,
     "start_time": "2022-03-25T06:54:28.837593",
     "status": "completed"
    },
    "tags": []
   },
   "outputs": [
    {
     "name": "stdout",
     "output_type": "stream",
     "text": [
      "(2, 200)\n"
     ]
    }
   ],
   "source": [
    "###################################\n",
    "# Build the model\n",
    "###################################\n",
    "# easfsl only wants a tuple for the shape\n",
    "model = Steves_Prototypical_Network(x_net, device=p.device, x_shape=tuple(p.x_shape))\n",
    "optimizer = Adam(params=model.parameters(), lr=p.lr)"
   ]
  },
  {
   "cell_type": "code",
   "execution_count": 22,
   "id": "22b39ac5",
   "metadata": {
    "execution": {
     "iopub.execute_input": "2022-03-25T06:54:28.939101Z",
     "iopub.status.busy": "2022-03-25T06:54:28.938847Z",
     "iopub.status.idle": "2022-03-25T07:09:52.944845Z",
     "shell.execute_reply": "2022-03-25T07:09:52.944623Z"
    },
    "papermill": {
     "duration": 924.022472,
     "end_time": "2022-03-25T07:09:52.944903",
     "exception": false,
     "start_time": "2022-03-25T06:54:28.922431",
     "status": "completed"
    },
    "tags": []
   },
   "outputs": [
    {
     "name": "stdout",
     "output_type": "stream",
     "text": [
      "epoch: 1, [batch: 1 / 6317], examples_per_second: 50.0685, train_label_loss: 2.6342, \n"
     ]
    },
    {
     "name": "stdout",
     "output_type": "stream",
     "text": [
      "epoch: 1, [batch: 632 / 6317], examples_per_second: 3652.9733, train_label_loss: 0.0512, \n"
     ]
    },
    {
     "name": "stdout",
     "output_type": "stream",
     "text": [
      "epoch: 1, [batch: 1264 / 6317], examples_per_second: 3657.7805, train_label_loss: 0.0018, \n"
     ]
    },
    {
     "name": "stdout",
     "output_type": "stream",
     "text": [
      "epoch: 1, [batch: 1895 / 6317], examples_per_second: 3651.6346, train_label_loss: 0.0059, \n"
     ]
    },
    {
     "name": "stdout",
     "output_type": "stream",
     "text": [
      "epoch: 1, [batch: 2527 / 6317], examples_per_second: 3642.5854, train_label_loss: 0.0008, \n"
     ]
    },
    {
     "name": "stdout",
     "output_type": "stream",
     "text": [
      "epoch: 1, [batch: 3159 / 6317], examples_per_second: 3660.9959, train_label_loss: 0.0077, \n"
     ]
    },
    {
     "name": "stdout",
     "output_type": "stream",
     "text": [
      "epoch: 1, [batch: 3790 / 6317], examples_per_second: 3678.6719, train_label_loss: 0.0004, \n"
     ]
    },
    {
     "name": "stdout",
     "output_type": "stream",
     "text": [
      "epoch: 1, [batch: 4422 / 6317], examples_per_second: 3665.1714, train_label_loss: 0.0001, \n"
     ]
    },
    {
     "name": "stdout",
     "output_type": "stream",
     "text": [
      "epoch: 1, [batch: 5053 / 6317], examples_per_second: 3651.8498, train_label_loss: 0.0034, \n"
     ]
    },
    {
     "name": "stdout",
     "output_type": "stream",
     "text": [
      "epoch: 1, [batch: 5685 / 6317], examples_per_second: 3649.9159, train_label_loss: 0.0036, \n"
     ]
    },
    {
     "name": "stdout",
     "output_type": "stream",
     "text": [
      "=============================================================\n",
      "epoch: 1, source_val_acc_label: 0.9974, target_val_acc_label: 0.2689, source_val_label_loss: 0.0105, target_val_label_loss: 2.2740, \n",
      "=============================================================\n"
     ]
    },
    {
     "name": "stdout",
     "output_type": "stream",
     "text": [
      "New best\n"
     ]
    },
    {
     "name": "stdout",
     "output_type": "stream",
     "text": [
      "epoch: 2, [batch: 1 / 6315], examples_per_second: 5.4614, train_label_loss: 0.0003, \n"
     ]
    },
    {
     "name": "stdout",
     "output_type": "stream",
     "text": [
      "epoch: 2, [batch: 632 / 6315], examples_per_second: 3640.5250, train_label_loss: 0.0006, \n"
     ]
    },
    {
     "name": "stdout",
     "output_type": "stream",
     "text": [
      "epoch: 2, [batch: 1263 / 6315], examples_per_second: 3645.2590, train_label_loss: 0.0002, \n"
     ]
    },
    {
     "name": "stdout",
     "output_type": "stream",
     "text": [
      "epoch: 2, [batch: 1895 / 6315], examples_per_second: 3646.9465, train_label_loss: 0.0155, \n"
     ]
    },
    {
     "name": "stdout",
     "output_type": "stream",
     "text": [
      "epoch: 2, [batch: 2526 / 6315], examples_per_second: 3649.0783, train_label_loss: 0.0051, \n"
     ]
    },
    {
     "name": "stdout",
     "output_type": "stream",
     "text": [
      "epoch: 2, [batch: 3158 / 6315], examples_per_second: 3661.8744, train_label_loss: 0.0000, \n"
     ]
    },
    {
     "name": "stdout",
     "output_type": "stream",
     "text": [
      "epoch: 2, [batch: 3789 / 6315], examples_per_second: 3667.2220, train_label_loss: 0.0000, \n"
     ]
    },
    {
     "name": "stdout",
     "output_type": "stream",
     "text": [
      "epoch: 2, [batch: 4420 / 6315], examples_per_second: 3639.8668, train_label_loss: 0.0000, \n"
     ]
    },
    {
     "name": "stdout",
     "output_type": "stream",
     "text": [
      "epoch: 2, [batch: 5052 / 6315], examples_per_second: 3646.5041, train_label_loss: 0.0000, \n"
     ]
    },
    {
     "name": "stdout",
     "output_type": "stream",
     "text": [
      "epoch: 2, [batch: 5683 / 6315], examples_per_second: 3637.8615, train_label_loss: 0.0442, \n"
     ]
    },
    {
     "name": "stdout",
     "output_type": "stream",
     "text": [
      "=============================================================\n",
      "epoch: 2, source_val_acc_label: 0.9986, target_val_acc_label: 0.3210, source_val_label_loss: 0.0093, target_val_label_loss: 2.2144, \n",
      "=============================================================\n"
     ]
    },
    {
     "name": "stdout",
     "output_type": "stream",
     "text": [
      "New best\n"
     ]
    },
    {
     "name": "stdout",
     "output_type": "stream",
     "text": [
      "epoch: 3, [batch: 1 / 6325], examples_per_second: 5.4458, train_label_loss: 0.0000, \n"
     ]
    },
    {
     "name": "stdout",
     "output_type": "stream",
     "text": [
      "epoch: 3, [batch: 633 / 6325], examples_per_second: 3623.5004, train_label_loss: 0.0000, \n"
     ]
    },
    {
     "name": "stdout",
     "output_type": "stream",
     "text": [
      "epoch: 3, [batch: 1265 / 6325], examples_per_second: 3617.2390, train_label_loss: 0.0144, \n"
     ]
    },
    {
     "name": "stdout",
     "output_type": "stream",
     "text": [
      "epoch: 3, [batch: 1898 / 6325], examples_per_second: 3614.2558, train_label_loss: 0.0000, \n"
     ]
    },
    {
     "name": "stdout",
     "output_type": "stream",
     "text": [
      "epoch: 3, [batch: 2530 / 6325], examples_per_second: 3636.7989, train_label_loss: 0.0000, \n"
     ]
    },
    {
     "name": "stdout",
     "output_type": "stream",
     "text": [
      "epoch: 3, [batch: 3163 / 6325], examples_per_second: 3654.7083, train_label_loss: 0.0000, \n"
     ]
    },
    {
     "name": "stdout",
     "output_type": "stream",
     "text": [
      "epoch: 3, [batch: 3795 / 6325], examples_per_second: 3634.8146, train_label_loss: 0.0000, \n"
     ]
    },
    {
     "name": "stdout",
     "output_type": "stream",
     "text": [
      "epoch: 3, [batch: 4427 / 6325], examples_per_second: 3626.4151, train_label_loss: 0.0000, \n"
     ]
    },
    {
     "name": "stdout",
     "output_type": "stream",
     "text": [
      "epoch: 3, [batch: 5060 / 6325], examples_per_second: 3658.0764, train_label_loss: 0.0000, \n"
     ]
    },
    {
     "name": "stdout",
     "output_type": "stream",
     "text": [
      "epoch: 3, [batch: 5692 / 6325], examples_per_second: 3653.9351, train_label_loss: 0.0000, \n"
     ]
    },
    {
     "name": "stdout",
     "output_type": "stream",
     "text": [
      "=============================================================\n",
      "epoch: 3, source_val_acc_label: 0.9988, target_val_acc_label: 0.3014, source_val_label_loss: 0.0100, target_val_label_loss: 2.7989, \n",
      "=============================================================\n"
     ]
    },
    {
     "name": "stdout",
     "output_type": "stream",
     "text": [
      "epoch: 4, [batch: 1 / 6307], examples_per_second: 5.4484, train_label_loss: 0.0000, \n"
     ]
    },
    {
     "name": "stdout",
     "output_type": "stream",
     "text": [
      "epoch: 4, [batch: 631 / 6307], examples_per_second: 3626.5319, train_label_loss: 0.0000, \n"
     ]
    },
    {
     "name": "stdout",
     "output_type": "stream",
     "text": [
      "epoch: 4, [batch: 1262 / 6307], examples_per_second: 3632.3157, train_label_loss: 0.0000, \n"
     ]
    },
    {
     "name": "stdout",
     "output_type": "stream",
     "text": [
      "epoch: 4, [batch: 1892 / 6307], examples_per_second: 3659.7556, train_label_loss: 0.0000, \n"
     ]
    },
    {
     "name": "stdout",
     "output_type": "stream",
     "text": [
      "epoch: 4, [batch: 2523 / 6307], examples_per_second: 3639.9670, train_label_loss: 0.0000, \n"
     ]
    },
    {
     "name": "stdout",
     "output_type": "stream",
     "text": [
      "epoch: 4, [batch: 3154 / 6307], examples_per_second: 3654.4970, train_label_loss: 0.0000, \n"
     ]
    },
    {
     "name": "stdout",
     "output_type": "stream",
     "text": [
      "epoch: 4, [batch: 3784 / 6307], examples_per_second: 3657.8433, train_label_loss: 0.0140, \n"
     ]
    },
    {
     "name": "stdout",
     "output_type": "stream",
     "text": [
      "epoch: 4, [batch: 4415 / 6307], examples_per_second: 3644.6069, train_label_loss: 0.0002, \n"
     ]
    },
    {
     "name": "stdout",
     "output_type": "stream",
     "text": [
      "epoch: 4, [batch: 5045 / 6307], examples_per_second: 3642.4887, train_label_loss: 0.0000, \n"
     ]
    },
    {
     "name": "stdout",
     "output_type": "stream",
     "text": [
      "epoch: 4, [batch: 5676 / 6307], examples_per_second: 3647.6622, train_label_loss: 0.0004, \n"
     ]
    },
    {
     "name": "stdout",
     "output_type": "stream",
     "text": [
      "=============================================================\n",
      "epoch: 4, source_val_acc_label: 0.9993, target_val_acc_label: 0.2905, source_val_label_loss: 0.0060, target_val_label_loss: 3.1689, \n",
      "=============================================================\n"
     ]
    },
    {
     "name": "stdout",
     "output_type": "stream",
     "text": [
      "epoch: 5, [batch: 1 / 6302], examples_per_second: 5.4182, train_label_loss: 0.0000, \n"
     ]
    },
    {
     "name": "stdout",
     "output_type": "stream",
     "text": [
      "epoch: 5, [batch: 631 / 6302], examples_per_second: 3616.3763, train_label_loss: 0.0000, \n"
     ]
    },
    {
     "name": "stdout",
     "output_type": "stream",
     "text": [
      "epoch: 5, [batch: 1261 / 6302], examples_per_second: 3635.1452, train_label_loss: 0.0000, \n"
     ]
    },
    {
     "name": "stdout",
     "output_type": "stream",
     "text": [
      "epoch: 5, [batch: 1891 / 6302], examples_per_second: 3626.8545, train_label_loss: 0.0000, \n"
     ]
    },
    {
     "name": "stdout",
     "output_type": "stream",
     "text": [
      "epoch: 5, [batch: 2521 / 6302], examples_per_second: 3613.7066, train_label_loss: 0.0002, \n"
     ]
    },
    {
     "name": "stdout",
     "output_type": "stream",
     "text": [
      "epoch: 5, [batch: 3151 / 6302], examples_per_second: 3628.9329, train_label_loss: 0.0000, \n"
     ]
    },
    {
     "name": "stdout",
     "output_type": "stream",
     "text": [
      "epoch: 5, [batch: 3781 / 6302], examples_per_second: 3640.3309, train_label_loss: 0.0000, \n"
     ]
    },
    {
     "name": "stdout",
     "output_type": "stream",
     "text": [
      "epoch: 5, [batch: 4411 / 6302], examples_per_second: 3644.6426, train_label_loss: 0.0000, \n"
     ]
    },
    {
     "name": "stdout",
     "output_type": "stream",
     "text": [
      "epoch: 5, [batch: 5041 / 6302], examples_per_second: 3647.1252, train_label_loss: 0.0004, \n"
     ]
    },
    {
     "name": "stdout",
     "output_type": "stream",
     "text": [
      "epoch: 5, [batch: 5671 / 6302], examples_per_second: 3671.0423, train_label_loss: 0.0000, \n"
     ]
    },
    {
     "name": "stdout",
     "output_type": "stream",
     "text": [
      "=============================================================\n",
      "epoch: 5, source_val_acc_label: 0.9995, target_val_acc_label: 0.2631, source_val_label_loss: 0.0050, target_val_label_loss: 3.6364, \n",
      "=============================================================\n"
     ]
    },
    {
     "name": "stdout",
     "output_type": "stream",
     "text": [
      "epoch: 6, [batch: 1 / 6311], examples_per_second: 5.4632, train_label_loss: 0.0000, \n"
     ]
    },
    {
     "name": "stdout",
     "output_type": "stream",
     "text": [
      "epoch: 6, [batch: 632 / 6311], examples_per_second: 3624.7828, train_label_loss: 0.0000, \n"
     ]
    },
    {
     "name": "stdout",
     "output_type": "stream",
     "text": [
      "epoch: 6, [batch: 1263 / 6311], examples_per_second: 3664.9261, train_label_loss: 0.0000, \n"
     ]
    },
    {
     "name": "stdout",
     "output_type": "stream",
     "text": [
      "epoch: 6, [batch: 1894 / 6311], examples_per_second: 3651.1509, train_label_loss: 0.0000, \n"
     ]
    },
    {
     "name": "stdout",
     "output_type": "stream",
     "text": [
      "epoch: 6, [batch: 2525 / 6311], examples_per_second: 3634.0952, train_label_loss: 0.0000, \n"
     ]
    },
    {
     "name": "stdout",
     "output_type": "stream",
     "text": [
      "epoch: 6, [batch: 3156 / 6311], examples_per_second: 3667.8168, train_label_loss: 0.0000, \n"
     ]
    },
    {
     "name": "stdout",
     "output_type": "stream",
     "text": [
      "epoch: 6, [batch: 3787 / 6311], examples_per_second: 3653.7948, train_label_loss: 0.0671, \n"
     ]
    },
    {
     "name": "stdout",
     "output_type": "stream",
     "text": [
      "epoch: 6, [batch: 4418 / 6311], examples_per_second: 3658.8185, train_label_loss: 0.0000, \n"
     ]
    },
    {
     "name": "stdout",
     "output_type": "stream",
     "text": [
      "epoch: 6, [batch: 5049 / 6311], examples_per_second: 3646.9937, train_label_loss: 0.0000, \n"
     ]
    },
    {
     "name": "stdout",
     "output_type": "stream",
     "text": [
      "epoch: 6, [batch: 5680 / 6311], examples_per_second: 3658.8526, train_label_loss: 0.0000, \n"
     ]
    },
    {
     "name": "stdout",
     "output_type": "stream",
     "text": [
      "=============================================================\n",
      "epoch: 6, source_val_acc_label: 0.9993, target_val_acc_label: 0.2835, source_val_label_loss: 0.0077, target_val_label_loss: 3.6516, \n",
      "=============================================================\n"
     ]
    },
    {
     "name": "stdout",
     "output_type": "stream",
     "text": [
      "Patience (3) exhausted\n"
     ]
    }
   ],
   "source": [
    "###################################\n",
    "# train\n",
    "###################################\n",
    "jig = PTN_Train_Eval_Test_Jig(model, p.BEST_MODEL_PATH, p.device)\n",
    "\n",
    "jig.train(\n",
    "    train_iterable=datasets.source.processed.train,\n",
    "    source_val_iterable=datasets.source.processed.val,\n",
    "    target_val_iterable=datasets.target.processed.val,\n",
    "    num_epochs=p.n_epoch,\n",
    "    num_logs_per_epoch=p.NUM_LOGS_PER_EPOCH,\n",
    "    patience=p.patience,\n",
    "    optimizer=optimizer,\n",
    "    criteria_for_best=p.criteria_for_best,\n",
    ")"
   ]
  },
  {
   "cell_type": "code",
   "execution_count": 23,
   "id": "31e8fabf",
   "metadata": {
    "execution": {
     "iopub.execute_input": "2022-03-25T07:09:53.007748Z",
     "iopub.status.busy": "2022-03-25T07:09:53.004288Z",
     "iopub.status.idle": "2022-03-25T07:09:53.019779Z",
     "shell.execute_reply": "2022-03-25T07:09:53.019351Z"
    },
    "papermill": {
     "duration": 0.048653,
     "end_time": "2022-03-25T07:09:53.019883",
     "exception": false,
     "start_time": "2022-03-25T07:09:52.971230",
     "status": "completed"
    },
    "tags": []
   },
   "outputs": [],
   "source": [
    "total_experiment_time_secs = time.time() - start_time_secs"
   ]
  },
  {
   "cell_type": "code",
   "execution_count": 24,
   "id": "87b9595b",
   "metadata": {
    "execution": {
     "iopub.execute_input": "2022-03-25T07:09:53.084123Z",
     "iopub.status.busy": "2022-03-25T07:09:53.083863Z",
     "iopub.status.idle": "2022-03-25T07:11:24.559680Z",
     "shell.execute_reply": "2022-03-25T07:11:24.559196Z"
    },
    "papermill": {
     "duration": 91.508118,
     "end_time": "2022-03-25T07:11:24.559807",
     "exception": false,
     "start_time": "2022-03-25T07:09:53.051689",
     "status": "completed"
    },
    "tags": []
   },
   "outputs": [],
   "source": [
    "###################################\n",
    "# Evaluate the model\n",
    "###################################\n",
    "source_test_label_accuracy, source_test_label_loss = jig.test(datasets.source.processed.test)\n",
    "target_test_label_accuracy, target_test_label_loss = jig.test(datasets.target.processed.test)\n",
    "\n",
    "source_val_label_accuracy, source_val_label_loss = jig.test(datasets.source.processed.val)\n",
    "target_val_label_accuracy, target_val_label_loss = jig.test(datasets.target.processed.val)\n",
    "\n",
    "history = jig.get_history()\n",
    "\n",
    "total_epochs_trained = len(history[\"epoch_indices\"])\n",
    "\n",
    "val_dl = Iterable_Aggregator((datasets.source.original.val,datasets.target.original.val))\n",
    "\n",
    "confusion = ptn_confusion_by_domain_over_dataloader(model, p.device, val_dl)\n",
    "per_domain_accuracy = per_domain_accuracy_from_confusion(confusion)\n",
    "\n",
    "# Add a key to per_domain_accuracy for if it was a source domain\n",
    "for domain, accuracy in per_domain_accuracy.items():\n",
    "    per_domain_accuracy[domain] = {\n",
    "        \"accuracy\": accuracy,\n",
    "        \"source?\": domain in p.domains_source\n",
    "    }\n",
    "\n",
    "# Do an independent accuracy assesment JUST TO BE SURE!\n",
    "# _source_test_label_accuracy = independent_accuracy_assesment(model, datasets.source.processed.test, p.device)\n",
    "# _target_test_label_accuracy = independent_accuracy_assesment(model, datasets.target.processed.test, p.device)\n",
    "# _source_val_label_accuracy = independent_accuracy_assesment(model, datasets.source.processed.val, p.device)\n",
    "# _target_val_label_accuracy = independent_accuracy_assesment(model, datasets.target.processed.val, p.device)\n",
    "\n",
    "# assert(_source_test_label_accuracy == source_test_label_accuracy)\n",
    "# assert(_target_test_label_accuracy == target_test_label_accuracy)\n",
    "# assert(_source_val_label_accuracy == source_val_label_accuracy)\n",
    "# assert(_target_val_label_accuracy == target_val_label_accuracy)\n",
    "\n",
    "experiment = {\n",
    "    \"experiment_name\": p.experiment_name,\n",
    "    \"parameters\": dict(p),\n",
    "    \"results\": {\n",
    "        \"source_test_label_accuracy\": source_test_label_accuracy,\n",
    "        \"source_test_label_loss\": source_test_label_loss,\n",
    "        \"target_test_label_accuracy\": target_test_label_accuracy,\n",
    "        \"target_test_label_loss\": target_test_label_loss,\n",
    "        \"source_val_label_accuracy\": source_val_label_accuracy,\n",
    "        \"source_val_label_loss\": source_val_label_loss,\n",
    "        \"target_val_label_accuracy\": target_val_label_accuracy,\n",
    "        \"target_val_label_loss\": target_val_label_loss,\n",
    "        \"total_epochs_trained\": total_epochs_trained,\n",
    "        \"total_experiment_time_secs\": total_experiment_time_secs,\n",
    "        \"confusion\": confusion,\n",
    "        \"per_domain_accuracy\": per_domain_accuracy,\n",
    "    },\n",
    "    \"history\": history,\n",
    "    \"dataset_metrics\": get_dataset_metrics(datasets, \"ptn\"),\n",
    "}"
   ]
  },
  {
   "cell_type": "code",
   "execution_count": 25,
   "id": "54a21829",
   "metadata": {
    "execution": {
     "iopub.execute_input": "2022-03-25T07:11:24.622787Z",
     "iopub.status.busy": "2022-03-25T07:11:24.622491Z",
     "iopub.status.idle": "2022-03-25T07:11:24.744633Z",
     "shell.execute_reply": "2022-03-25T07:11:24.744162Z"
    },
    "papermill": {
     "duration": 0.150787,
     "end_time": "2022-03-25T07:11:24.744731",
     "exception": false,
     "start_time": "2022-03-25T07:11:24.593944",
     "status": "completed"
    },
    "tags": []
   },
   "outputs": [
    {
     "data": {
      "image/png": "[encoded data removed]",
      "text/plain": [
       "<Figure size 1080x504 with 1 Axes>"
      ]
     },
     "metadata": {
      "needs_background": "light"
     },
     "output_type": "display_data"
    }
   ],
   "source": [
    "ax = get_loss_curve(experiment)\n",
    "plt.show()"
   ]
  },
  {
   "cell_type": "code",
   "execution_count": 26,
   "id": "fd8a0f60",
   "metadata": {
    "execution": {
     "iopub.execute_input": "2022-03-25T07:11:24.806602Z",
     "iopub.status.busy": "2022-03-25T07:11:24.805750Z",
     "iopub.status.idle": "2022-03-25T07:11:24.946926Z",
     "shell.execute_reply": "2022-03-25T07:11:24.946665Z"
    },
    "papermill": {
     "duration": 0.170754,
     "end_time": "2022-03-25T07:11:24.946982",
     "exception": false,
     "start_time": "2022-03-25T07:11:24.776228",
     "status": "completed"
    },
    "tags": []
   },
   "outputs": [
    {
     "data": {
      "text/plain": [
       "<AxesSubplot:title={'center':'Results'}>"
      ]
     },
     "execution_count": 26,
     "metadata": {},
     "output_type": "execute_result"
    },
    {
     "data": {
      "image/png": "[encoded data removed]",
      "text/plain": [
       "<Figure size 1080x504 with 1 Axes>"
      ]
     },
     "metadata": {
      "needs_background": "light"
     },
     "output_type": "display_data"
    }
   ],
   "source": [
    "get_results_table(experiment)"
   ]
  },
  {
   "cell_type": "code",
   "execution_count": 27,
   "id": "cf8dc689",
   "metadata": {
    "execution": {
     "iopub.execute_input": "2022-03-25T07:11:25.007565Z",
     "iopub.status.busy": "2022-03-25T07:11:25.006658Z",
     "iopub.status.idle": "2022-03-25T07:11:25.137428Z",
     "shell.execute_reply": "2022-03-25T07:11:25.137808Z"
    },
    "papermill": {
     "duration": 0.161941,
     "end_time": "2022-03-25T07:11:25.137917",
     "exception": false,
     "start_time": "2022-03-25T07:11:24.975976",
     "status": "completed"
    },
    "tags": []
   },
   "outputs": [
    {
     "data": {
      "text/plain": [
       "<AxesSubplot:title={'center':'Per Domain Validation Accuracy'}, xlabel='domain'>"
      ]
     },
     "execution_count": 27,
     "metadata": {},
     "output_type": "execute_result"
    },
    {
     "data": {
      "image/png": "[encoded data removed]",
      "text/plain": [
       "<Figure size 1080x504 with 1 Axes>"
      ]
     },
     "metadata": {
      "needs_background": "light"
     },
     "output_type": "display_data"
    }
   ],
   "source": [
    "get_domain_accuracies(experiment)"
   ]
  },
  {
   "cell_type": "code",
   "execution_count": 28,
   "id": "a74ae082",
   "metadata": {
    "execution": {
     "iopub.execute_input": "2022-03-25T07:11:25.204165Z",
     "iopub.status.busy": "2022-03-25T07:11:25.203908Z",
     "iopub.status.idle": "2022-03-25T07:11:25.217063Z",
     "shell.execute_reply": "2022-03-25T07:11:25.216618Z"
    },
    "papermill": {
     "duration": 0.045608,
     "end_time": "2022-03-25T07:11:25.217152",
     "exception": false,
     "start_time": "2022-03-25T07:11:25.171544",
     "status": "completed"
    },
    "tags": []
   },
   "outputs": [
    {
     "name": "stdout",
     "output_type": "stream",
     "text": [
      "Source Test Label Accuracy: 0.9990168539325842 Target Test Label Accuracy: 0.31962890625\n",
      "Source Val Label Accuracy: 0.9985714285714286 Target Val Label Accuracy: 0.3209635416666667\n"
     ]
    }
   ],
   "source": [
    "print(\"Source Test Label Accuracy:\", experiment[\"results\"][\"source_test_label_accuracy\"], \"Target Test Label Accuracy:\", experiment[\"results\"][\"target_test_label_accuracy\"])\n",
    "print(\"Source Val Label Accuracy:\", experiment[\"results\"][\"source_val_label_accuracy\"], \"Target Val Label Accuracy:\", experiment[\"results\"][\"target_val_label_accuracy\"])"
   ]
  },
  {
   "cell_type": "code",
   "execution_count": 29,
   "id": "dacca602",
   "metadata": {
    "execution": {
     "iopub.execute_input": "2022-03-25T07:11:25.295374Z",
     "iopub.status.busy": "2022-03-25T07:11:25.284167Z",
     "iopub.status.idle": "2022-03-25T07:11:25.299861Z",
     "shell.execute_reply": "2022-03-25T07:11:25.300288Z"
    },
    "papermill": {
     "duration": 0.049369,
     "end_time": "2022-03-25T07:11:25.300406",
     "exception": false,
     "start_time": "2022-03-25T07:11:25.251037",
     "status": "completed"
    },
    "tags": [
     "experiment_json"
    ]
   },
   "outputs": [
    {
     "data": {
      "text/plain": [
       "'{\"experiment_name\": \"tl_3Av2:cores -> oracle.run1.framed\", \"parameters\": {\"experiment_name\": \"tl_3Av2:cores -> oracle.run1.framed\", \"device\": \"cuda\", \"lr\": 0.0001, \"x_shape\": [2, 200], \"n_shot\": 3, \"n_query\": 2, \"train_k_factor\": 3, \"val_k_factor\": 2, \"test_k_factor\": 2, \"torch_default_dtype\": \"torch.float32\", \"n_epoch\": 50, \"patience\": 3, \"criteria_for_best\": \"target_accuracy\", \"x_net\": [{\"class\": \"nnReshape\", \"kargs\": {\"shape\": [-1, 1, 2, 200]}}, {\"class\": \"Conv2d\", \"kargs\": {\"in_channels\": 1, \"out_channels\": 256, \"kernel_size\": [1, 7], \"bias\": false, \"padding\": [0, 3]}}, {\"class\": \"ReLU\", \"kargs\": {\"inplace\": true}}, {\"class\": \"BatchNorm2d\", \"kargs\": {\"num_features\": 256}}, {\"class\": \"Conv2d\", \"kargs\": {\"in_channels\": 256, \"out_channels\": 80, \"kernel_size\": [2, 7], \"bias\": true, \"padding\": [0, 3]}}, {\"class\": \"ReLU\", \"kargs\": {\"inplace\": true}}, {\"class\": \"BatchNorm2d\", \"kargs\": {\"num_features\": 80}}, {\"class\": \"Flatten\", \"kargs\": {}}, {\"class\": \"Linear\", \"kargs\": {\"in_features\": 16000, \"out_features\": 256}}, {\"class\": \"ReLU\", \"kargs\": {\"inplace\": true}}, {\"class\": \"BatchNorm1d\", \"kargs\": {\"num_features\": 256}}, {\"class\": \"Linear\", \"kargs\": {\"in_features\": 256, \"out_features\": 256}}], \"NUM_LOGS_PER_EPOCH\": 10, \"BEST_MODEL_PATH\": \"./best_model.pth\", \"n_way\": 16, \"datasets\": [{\"labels\": [\"1-10.\", \"1-11.\", \"1-15.\", \"1-16.\", \"1-17.\", \"1-18.\", \"1-19.\", \"10-4.\", \"10-7.\", \"11-1.\", \"11-14.\", \"11-17.\", \"11-20.\", \"11-7.\", \"13-20.\", \"13-8.\", \"14-10.\", \"14-11.\", \"14-14.\", \"14-7.\", \"15-1.\", \"15-20.\", \"16-1.\", \"16-16.\", \"17-10.\", \"17-11.\", \"17-2.\", \"19-1.\", \"19-16.\", \"19-19.\", \"19-20.\", \"19-3.\", \"2-10.\", \"2-11.\", \"2-17.\", \"2-18.\", \"2-20.\", \"2-3.\", \"2-4.\", \"2-5.\", \"2-6.\", \"2-7.\", \"2-8.\", \"3-13.\", \"3-18.\", \"3-3.\", \"4-1.\", \"4-10.\", \"4-11.\", \"4-19.\", \"5-5.\", \"6-15.\", \"7-10.\", \"7-14.\", \"8-18.\", \"8-20.\", \"8-3.\", \"8-8.\"], \"domains\": [1, 2, 3, 4, 5], \"num_examples_per_domain_per_label\": -1, \"pickle_path\": \"/mnt/wd500GB/CSC500/csc500-main/datasets/cores.stratified_ds.2022A.pkl\", \"source_or_target_dataset\": \"source\", \"x_transforms\": [\"unit_mag\", \"take_200\"], \"episode_transforms\": [], \"domain_prefix\": \"C_\"}, {\"labels\": [\"3123D52\", \"3123D65\", \"3123D79\", \"3123D80\", \"3123D54\", \"3123D70\", \"3123D7B\", \"3123D89\", \"3123D58\", \"3123D76\", \"3123D7D\", \"3123EFE\", \"3123D64\", \"3123D78\", \"3123D7E\", \"3124E4A\"], \"domains\": [32, 38, 8, 44, 14, 50, 20, 26], \"num_examples_per_domain_per_label\": 2000, \"pickle_path\": \"/mnt/wd500GB/CSC500/csc500-main/datasets/oracle.Run1_framed_2000Examples_stratified_ds.2022A.pkl\", \"source_or_target_dataset\": \"target\", \"x_transforms\": [\"unit_mag\", \"take_200\", \"resample_20Msps_to_25Msps\"], \"episode_transforms\": [], \"domain_prefix\": \"O_\"}], \"seed\": 500, \"dataset_seed\": 500, \"domains_source\": [\"C_1\", \"C_2\", \"C_3\", \"C_4\", \"C_5\"], \"domains_target\": [\"O_32\", \"O_38\", \"O_8\", \"O_44\", \"O_14\", \"O_50\", \"O_20\", \"O_26\"]}, \"results\": {\"source_test_label_accuracy\": 0.9990168539325842, \"source_test_label_loss\": 0.008527788333594799, \"target_test_label_accuracy\": 0.31962890625, \"target_test_label_loss\": 2.207037925720215, \"source_val_label_accuracy\": 0.9985714285714286, \"source_val_label_loss\": 0.0093173086643219, \"target_val_label_accuracy\": 0.3209635416666667, \"target_val_label_loss\": 2.214373826980591, \"total_epochs_trained\": 6, \"total_experiment_time_secs\": 980.2772562503815, \"confusion\": {\"C_4\": {\"38\": {\"38\": 40}, \"3\": {\"3\": 123, \"50\": 1}, \"24\": {\"24\": 55, \"43\": 1}, \"49\": {\"49\": 20}, \"7\": {\"7\": 24}, \"17\": {\"17\": 80}, \"43\": {\"43\": 148}, \"30\": {\"30\": 44}, \"44\": {\"44\": 132}, \"23\": {\"23\": 144}, \"37\": {\"37\": 24}, \"4\": {\"4\": 132}, \"57\": {\"57\": 100}, \"16\": {\"16\": 96}, \"18\": {\"18\": 106, \"8\": 1, \"10\": 1}, \"20\": {\"20\": 124}, \"45\": {\"45\": 96}, \"15\": {\"15\": 132}, \"52\": {\"52\": 116}, \"19\": {\"19\": 140}, \"54\": {\"54\": 108}, \"56\": {\"56\": 130}, \"40\": {\"40\": 134}, \"28\": {\"28\": 32}, \"2\": {\"2\": 36}, \"9\": {\"9\": 120}, \"0\": {\"0\": 80}, \"36\": {\"36\": 92}, \"55\": {\"55\": 130}, \"35\": {\"35\": 40}, \"39\": {\"39\": 20}, \"31\": {\"31\": 28}, \"14\": {\"14\": 15, \"33\": 1}, \"12\": {\"12\": 92}, \"6\": {\"6\": 111, \"3\": 1}, \"26\": {\"26\": 24}, \"50\": {\"50\": 129, \"3\": 2, \"17\": 1}, \"21\": {\"21\": 121, \"50\": 1}, \"46\": {\"46\": 140}, \"51\": {\"51\": 140}, \"41\": {\"41\": 36}, \"34\": {\"34\": 24}, \"47\": {\"47\": 120}, \"5\": {\"5\": 108}, \"1\": {\"1\": 40}, \"48\": {\"48\": 134}, \"29\": {\"29\": 118}, \"22\": {\"22\": 128}, \"10\": {\"10\": 132}, \"32\": {\"32\": 24}, \"13\": {\"13\": 112}, \"42\": {\"42\": 32}, \"27\": {\"27\": 138}, \"8\": {\"8\": 142}, \"33\": {\"33\": 36}, \"25\": {\"25\": 132}, \"11\": {\"11\": 104}, \"53\": {\"53\": 111, \"21\": 1}}, \"C_2\": {\"32\": {\"32\": 28}, \"17\": {\"17\": 104}, \"38\": {\"38\": 20}, \"2\": {\"2\": 32}, \"43\": {\"43\": 144}, \"56\": {\"56\": 144}, \"37\": {\"37\": 36}, \"49\": {\"49\": 24}, \"0\": {\"0\": 48}, \"29\": {\"29\": 128}, \"35\": {\"35\": 32}, \"18\": {\"18\": 48}, \"25\": {\"25\": 136}, \"23\": {\"23\": 124}, \"15\": {\"15\": 146}, \"21\": {\"21\": 120}, \"51\": {\"51\": 128}, \"20\": {\"20\": 138}, \"7\": {\"7\": 36}, \"50\": {\"50\": 136}, \"31\": {\"31\": 28}, \"30\": {\"30\": 140}, \"19\": {\"19\": 156}, \"9\": {\"9\": 144}, \"52\": {\"52\": 124}, \"45\": {\"45\": 128}, \"8\": {\"8\": 154}, \"55\": {\"55\": 160}, \"12\": {\"12\": 92}, \"40\": {\"40\": 140}, \"28\": {\"28\": 28}, \"36\": {\"36\": 116}, \"39\": {\"39\": 28}, \"46\": {\"46\": 122}, \"14\": {\"14\": 21, \"2\": 3}, \"57\": {\"57\": 142}, \"34\": {\"34\": 28}, \"1\": {\"1\": 112}, \"53\": {\"53\": 136}, \"48\": {\"48\": 130}, \"3\": {\"3\": 92}, \"16\": {\"16\": 152}, \"6\": {\"6\": 124}, \"10\": {\"10\": 112}, \"13\": {\"13\": 116}, \"26\": {\"26\": 24}, \"24\": {\"24\": 95, \"13\": 1}, \"44\": {\"44\": 100}, \"27\": {\"27\": 150}, \"22\": {\"22\": 128}, \"33\": {\"33\": 28}, \"47\": {\"47\": 118}, \"5\": {\"5\": 120}, \"4\": {\"4\": 138}, \"41\": {\"41\": 20}, \"11\": {\"11\": 150}, \"54\": {\"54\": 108}, \"42\": {\"42\": 36}}, \"C_3\": {\"5\": {\"5\": 116}, \"32\": {\"32\": 28}, \"33\": {\"33\": 28}, \"49\": {\"49\": 20}, \"39\": {\"39\": 16}, \"11\": {\"11\": 142}, \"8\": {\"8\": 116}, \"26\": {\"26\": 24}, \"51\": {\"51\": 122}, \"4\": {\"4\": 146}, \"52\": {\"52\": 118}, \"47\": {\"47\": 92}, \"17\": {\"17\": 106, \"50\": 1, \"24\": 1}, \"53\": {\"53\": 136}, \"2\": {\"2\": 32}, \"12\": {\"12\": 92}, \"37\": {\"37\": 28}, \"9\": {\"9\": 148}, \"13\": {\"13\": 127, \"24\": 1}, \"54\": {\"54\": 100}, \"31\": {\"31\": 28}, \"34\": {\"34\": 32}, \"24\": {\"24\": 104}, \"7\": {\"7\": 36}, \"50\": {\"50\": 118}, \"46\": {\"46\": 128}, \"44\": {\"44\": 87, \"29\": 1}, \"40\": {\"40\": 116}, \"21\": {\"21\": 128}, \"45\": {\"45\": 60}, \"16\": {\"16\": 126}, \"14\": {\"14\": 40}, \"36\": {\"36\": 100}, \"56\": {\"56\": 114}, \"10\": {\"10\": 64}, \"18\": {\"18\": 84}, \"48\": {\"48\": 116}, \"38\": {\"38\": 28}, \"27\": {\"27\": 130}, \"42\": {\"42\": 28}, \"15\": {\"15\": 134}, \"1\": {\"1\": 100}, \"28\": {\"28\": 28}, \"43\": {\"43\": 136}, \"0\": {\"0\": 124}, \"57\": {\"57\": 124}, \"3\": {\"3\": 147, \"5\": 1}, \"29\": {\"29\": 124}, \"41\": {\"41\": 28}, \"25\": {\"25\": 146}, \"6\": {\"6\": 87, \"11\": 1}, \"35\": {\"35\": 28}, \"20\": {\"20\": 126}, \"23\": {\"23\": 134}, \"22\": {\"22\": 140}, \"19\": {\"19\": 116}, \"55\": {\"55\": 124}, \"30\": {\"30\": 120}}, \"C_1\": {\"24\": {\"24\": 108}, \"25\": {\"25\": 140}, \"45\": {\"45\": 144}, \"42\": {\"42\": 40}, \"2\": {\"2\": 36}, \"9\": {\"9\": 150}, \"21\": {\"21\": 123, \"24\": 1}, \"26\": {\"26\": 24}, \"49\": {\"49\": 32}, \"39\": {\"39\": 28}, \"46\": {\"46\": 135, \"51\": 1}, \"17\": {\"17\": 64}, \"19\": {\"19\": 156}, \"23\": {\"23\": 132}, \"1\": {\"1\": 100}, \"29\": {\"29\": 140}, \"56\": {\"56\": 149, \"57\": 1}, \"37\": {\"37\": 32}, \"33\": {\"33\": 32}, \"55\": {\"55\": 142}, \"30\": {\"30\": 120}, \"0\": {\"0\": 152}, \"36\": {\"36\": 64}, \"32\": {\"32\": 32}, \"31\": {\"31\": 28}, \"15\": {\"15\": 138}, \"12\": {\"12\": 116}, \"38\": {\"38\": 24}, \"40\": {\"40\": 146}, \"14\": {\"14\": 23, \"30\": 1}, \"13\": {\"13\": 150}, \"48\": {\"48\": 148}, \"34\": {\"34\": 24}, \"44\": {\"44\": 130}, \"5\": {\"5\": 152}, \"11\": {\"11\": 140}, \"7\": {\"7\": 28}, \"18\": {\"18\": 72}, \"52\": {\"52\": 132}, \"51\": {\"51\": 142}, \"41\": {\"41\": 24}, \"16\": {\"16\": 140}, \"22\": {\"22\": 134}, \"3\": {\"3\": 140}, \"54\": {\"54\": 104}, \"27\": {\"27\": 144}, \"20\": {\"20\": 140}, \"8\": {\"8\": 138}, \"50\": {\"50\": 144}, \"57\": {\"57\": 140}, \"4\": {\"4\": 132}, \"47\": {\"47\": 146}, \"10\": {\"10\": 96}, \"35\": {\"35\": 36}, \"53\": {\"53\": 126}, \"6\": {\"6\": 95, \"8\": 1}, \"43\": {\"43\": 140}, \"28\": {\"28\": 28}}, \"C_5\": {\"35\": {\"35\": 36}, \"57\": {\"57\": 132}, \"20\": {\"20\": 144}, \"12\": {\"12\": 96}, \"32\": {\"32\": 32}, \"25\": {\"25\": 138}, \"44\": {\"44\": 147, \"56\": 1}, \"31\": {\"31\": 36}, \"11\": {\"11\": 150}, \"47\": {\"47\": 100}, \"23\": {\"23\": 124}, \"43\": {\"43\": 144}, \"37\": {\"37\": 24}, \"5\": {\"5\": 128}, \"45\": {\"45\": 123, \"50\": 1}, \"7\": {\"7\": 32}, \"13\": {\"13\": 136}, \"49\": {\"49\": 36}, \"46\": {\"46\": 147, \"3\": 1}, \"16\": {\"16\": 136}, \"54\": {\"54\": 112}, \"19\": {\"19\": 152}, \"55\": {\"55\": 150}, \"30\": {\"30\": 128}, \"34\": {\"34\": 36}, \"50\": {\"50\": 134}, \"3\": {\"3\": 99, \"23\": 1}, \"10\": {\"10\": 68}, \"27\": {\"27\": 142}, \"33\": {\"33\": 32}, \"56\": {\"56\": 142}, \"9\": {\"9\": 150}, \"14\": {\"14\": 40, \"40\": 1, \"54\": 2, \"46\": 1}, \"4\": {\"4\": 100}, \"42\": {\"42\": 39, \"33\": 1}, \"24\": {\"24\": 80}, \"39\": {\"39\": 20}, \"52\": {\"52\": 130}, \"2\": {\"2\": 28}, \"28\": {\"28\": 32}, \"53\": {\"53\": 122}, \"17\": {\"17\": 116}, \"29\": {\"29\": 132}, \"38\": {\"38\": 32}, \"15\": {\"15\": 144}, \"26\": {\"26\": 24}, \"21\": {\"21\": 144}, \"41\": {\"41\": 28}, \"48\": {\"48\": 136}, \"22\": {\"22\": 28}, \"8\": {\"8\": 148}, \"18\": {\"18\": 64}, \"0\": {\"0\": 122}, \"1\": {\"1\": 138}, \"40\": {\"40\": 124}, \"6\": {\"6\": 123, \"21\": 1, \"9\": 3, \"50\": 1}, \"51\": {\"51\": 142}, \"36\": {\"36\": 92}}, \"O_50\": {\"7\": {\"7\": 68, \"6\": 21, \"13\": 51, \"10\": 28, \"0\": 5, \"5\": 41, \"8\": 10, \"4\": 11, \"3\": 1, \"1\": 1, \"15\": 3}, \"10\": {\"10\": 77, \"8\": 44, \"5\": 18, \"0\": 25, \"13\": 30, \"4\": 5, \"6\": 10, \"1\": 6, \"7\": 21, \"2\": 4}, \"0\": {\"0\": 92, \"10\": 45, \"2\": 56, \"13\": 11, \"6\": 8, \"1\": 7, \"8\": 4, \"4\": 2, \"5\": 9, \"7\": 2, \"14\": 3, \"15\": 1}, \"11\": {\"15\": 33, \"11\": 84, \"1\": 18, \"9\": 47, \"12\": 11, \"4\": 7, \"14\": 36, \"2\": 1, \"6\": 2, \"0\": 1}, \"2\": {\"12\": 3, \"2\": 110, \"0\": 77, \"1\": 6, \"14\": 31, \"4\": 1, \"11\": 3, \"6\": 3, \"9\": 2, \"5\": 2, \"10\": 2}, \"14\": {\"12\": 44, \"14\": 91, \"2\": 17, \"11\": 34, \"9\": 36, \"1\": 5, \"15\": 7, \"0\": 3, \"6\": 1, \"4\": 1, \"5\": 1}, \"9\": {\"9\": 89, \"11\": 57, \"14\": 43, \"12\": 38, \"1\": 4, \"2\": 2, \"15\": 6, \"4\": 1}, \"13\": {\"7\": 49, \"4\": 20, \"13\": 43, \"15\": 6, \"6\": 30, \"10\": 32, \"8\": 2, \"1\": 12, \"0\": 7, \"5\": 38, \"2\": 1}, \"8\": {\"10\": 41, \"7\": 9, \"8\": 150, \"3\": 27, \"0\": 10, \"5\": 1, \"13\": 1, \"2\": 1}, \"15\": {\"1\": 50, \"13\": 12, \"6\": 37, \"15\": 53, \"11\": 30, \"4\": 38, \"5\": 7, \"7\": 4, \"0\": 3, \"9\": 6}, \"4\": {\"7\": 18, \"1\": 38, \"13\": 35, \"15\": 29, \"14\": 8, \"10\": 4, \"4\": 45, \"6\": 23, \"11\": 8, \"5\": 25, \"2\": 2, \"0\": 5}, \"5\": {\"13\": 37, \"4\": 33, \"1\": 15, \"5\": 48, \"6\": 21, \"10\": 25, \"7\": 38, \"15\": 13, \"0\": 5, \"8\": 1, \"2\": 3, \"3\": 1}, \"3\": {\"3\": 190, \"8\": 42, \"5\": 2, \"7\": 2, \"10\": 4}, \"1\": {\"15\": 41, \"5\": 9, \"11\": 23, \"1\": 67, \"4\": 33, \"6\": 34, \"13\": 10, \"0\": 11, \"2\": 3, \"10\": 1, \"14\": 7, \"9\": 1}, \"6\": {\"1\": 28, \"13\": 27, \"6\": 63, \"4\": 43, \"7\": 19, \"11\": 2, \"10\": 5, \"0\": 6, \"5\": 26, \"15\": 18, \"2\": 2, \"14\": 1}, \"12\": {\"12\": 116, \"9\": 45, \"14\": 63, \"11\": 14, \"2\": 1, \"1\": 1}}, \"O_14\": {\"14\": {\"14\": 69, \"6\": 36, \"0\": 11, \"4\": 7, \"3\": 34, \"2\": 32, \"1\": 1, \"13\": 26, \"10\": 13, \"9\": 1, \"11\": 6, \"5\": 4}, \"6\": {\"14\": 39, \"6\": 60, \"2\": 34, \"3\": 13, \"13\": 62, \"10\": 8, \"5\": 10, \"4\": 9, \"0\": 4, \"11\": 1}, \"5\": {\"1\": 33, \"4\": 56, \"5\": 43, \"15\": 4, \"2\": 32, \"3\": 23, \"7\": 15, \"13\": 6, \"6\": 14, \"8\": 4, \"14\": 5, \"0\": 4, \"9\": 1}, \"15\": {\"15\": 98, \"4\": 16, \"2\": 9, \"7\": 73, \"1\": 13, \"5\": 23, \"6\": 3, \"13\": 2, \"14\": 2, \"8\": 1}, \"11\": {\"0\": 58, \"11\": 89, \"10\": 37, \"9\": 20, \"12\": 18, \"14\": 8, \"3\": 3, \"2\": 3, \"13\": 3, \"5\": 1}, \"8\": {\"8\": 137, \"3\": 11, \"4\": 19, \"9\": 14, \"1\": 34, \"5\": 15, \"0\": 3, \"12\": 1, \"7\": 4, \"15\": 2}, \"12\": {\"12\": 158, \"9\": 59, \"0\": 8, \"8\": 1, \"11\": 12, \"10\": 2}, \"1\": {\"8\": 27, \"1\": 80, \"3\": 16, \"5\": 39, \"6\": 1, \"15\": 8, \"7\": 25, \"2\": 11, \"4\": 27, \"0\": 3, \"9\": 2, \"14\": 1}, \"2\": {\"6\": 38, \"1\": 13, \"13\": 31, \"3\": 31, \"10\": 4, \"4\": 21, \"14\": 27, \"5\": 23, \"2\": 35, \"0\": 7, \"7\": 3, \"15\": 5, \"9\": 2}, \"13\": {\"14\": 30, \"13\": 65, \"6\": 60, \"4\": 12, \"2\": 30, \"3\": 14, \"11\": 3, \"5\": 5, \"0\": 7, \"10\": 11, \"1\": 1, \"15\": 2}, \"3\": {\"0\": 15, \"3\": 49, \"4\": 32, \"14\": 27, \"8\": 4, \"10\": 15, \"13\": 11, \"9\": 6, \"5\": 30, \"6\": 16, \"2\": 18, \"1\": 17}, \"0\": {\"0\": 65, \"2\": 10, \"10\": 60, \"11\": 28, \"4\": 7, \"3\": 17, \"9\": 18, \"14\": 10, \"6\": 10, \"13\": 7, \"1\": 1, \"8\": 3, \"5\": 2, \"12\": 2}, \"9\": {\"12\": 44, \"9\": 120, \"11\": 21, \"3\": 8, \"8\": 8, \"10\": 10, \"0\": 27, \"1\": 1, \"4\": 1}, \"4\": {\"8\": 8, \"3\": 27, \"0\": 10, \"5\": 46, \"2\": 32, \"4\": 48, \"6\": 20, \"1\": 15, \"13\": 11, \"14\": 11, \"10\": 5, \"7\": 5, \"15\": 1, \"9\": 1}, \"7\": {\"1\": 31, \"7\": 103, \"4\": 7, \"2\": 5, \"15\": 76, \"5\": 12, \"8\": 4, \"3\": 2}, \"10\": {\"11\": 21, \"10\": 85, \"4\": 8, \"9\": 6, \"3\": 25, \"0\": 46, \"14\": 17, \"13\": 14, \"2\": 9, \"6\": 8, \"1\": 1}}, \"O_32\": {\"4\": {\"7\": 26, \"2\": 47, \"4\": 47, \"5\": 27, \"14\": 11, \"8\": 16, \"13\": 43, \"0\": 19, \"3\": 1, \"11\": 3}, \"14\": {\"0\": 20, \"7\": 38, \"11\": 60, \"4\": 13, \"14\": 53, \"5\": 18, \"3\": 7, \"2\": 13, \"13\": 10, \"8\": 8}, \"5\": {\"3\": 21, \"5\": 42, \"8\": 30, \"4\": 31, \"0\": 16, \"14\": 15, \"13\": 35, \"2\": 15, \"11\": 7, \"7\": 28}, \"10\": {\"1\": 27, \"10\": 206, \"12\": 5, \"6\": 2}, \"13\": {\"2\": 18, \"11\": 8, \"8\": 26, \"0\": 23, \"4\": 31, \"5\": 32, \"13\": 51, \"7\": 22, \"3\": 14, \"14\": 15}, \"9\": {\"9\": 196, \"12\": 24, \"6\": 3, \"0\": 9, \"2\": 7, \"4\": 1}, \"6\": {\"6\": 222, \"12\": 17, \"10\": 1}, \"3\": {\"13\": 30, \"4\": 6, \"14\": 12, \"3\": 92, \"7\": 13, \"8\": 23, \"5\": 37, \"2\": 4, \"11\": 15, \"15\": 5, \"0\": 3}, \"15\": {\"15\": 199, \"8\": 23, \"3\": 8, \"13\": 2, \"5\": 5, \"0\": 2, \"2\": 1}, \"7\": {\"7\": 43, \"4\": 24, \"8\": 12, \"5\": 17, \"14\": 39, \"2\": 28, \"11\": 25, \"13\": 28, \"0\": 17, \"3\": 6, \"15\": 1}, \"12\": {\"12\": 190, \"9\": 31, \"6\": 18, \"10\": 1}, \"8\": {\"7\": 5, \"8\": 73, \"0\": 39, \"15\": 12, \"13\": 28, \"5\": 18, \"3\": 18, \"2\": 14, \"4\": 22, \"11\": 3, \"14\": 8}, \"11\": {\"0\": 7, \"3\": 19, \"14\": 63, \"4\": 11, \"11\": 77, \"7\": 29, \"5\": 10, \"13\": 15, \"2\": 7, \"8\": 2}, \"2\": {\"2\": 65, \"7\": 23, \"4\": 52, \"0\": 36, \"5\": 17, \"13\": 17, \"14\": 12, \"8\": 10, \"11\": 5, \"3\": 2, \"9\": 1}, \"1\": {\"10\": 30, \"1\": 210}, \"0\": {\"4\": 37, \"2\": 32, \"5\": 12, \"0\": 72, \"8\": 35, \"13\": 14, \"7\": 13, \"14\": 12, \"15\": 5, \"9\": 2, \"11\": 4, \"3\": 2}}, \"O_44\": {\"8\": {\"0\": 86, \"8\": 94, \"5\": 16, \"15\": 34, \"14\": 8, \"4\": 2}, \"11\": {\"11\": 136, \"6\": 30, \"9\": 14, \"4\": 3, \"13\": 44, \"2\": 1, \"7\": 12}, \"14\": {\"0\": 20, \"14\": 60, \"5\": 37, \"8\": 9, \"4\": 61, \"15\": 42, \"13\": 5, \"9\": 3, \"11\": 2, \"7\": 1}, \"10\": {\"12\": 46, \"3\": 12, \"10\": 85, \"1\": 35, \"7\": 13, \"2\": 43, \"6\": 2, \"9\": 4}, \"3\": {\"3\": 118, \"12\": 36, \"7\": 7, \"1\": 57, \"2\": 13, \"10\": 7, \"9\": 2}, \"15\": {\"14\": 26, \"0\": 53, \"8\": 39, \"15\": 71, \"4\": 22, \"5\": 29}, \"2\": {\"2\": 74, \"9\": 23, \"7\": 59, \"10\": 36, \"6\": 12, \"3\": 8, \"1\": 15, \"13\": 4, \"12\": 9}, \"12\": {\"3\": 40, \"12\": 89, \"7\": 4, \"1\": 54, \"10\": 44, \"2\": 9}, \"4\": {\"13\": 11, \"4\": 79, \"15\": 19, \"14\": 76, \"0\": 9, \"5\": 25, \"6\": 4, \"8\": 3, \"11\": 2, \"9\": 9, \"7\": 3}, \"1\": {\"1\": 65, \"2\": 22, \"3\": 48, \"12\": 63, \"10\": 31, \"7\": 9, \"9\": 2}, \"0\": {\"0\": 72, \"14\": 11, \"8\": 58, \"15\": 58, \"5\": 38, \"4\": 3}, \"9\": {\"13\": 36, \"9\": 67, \"7\": 56, \"2\": 30, \"4\": 8, \"11\": 11, \"6\": 20, \"1\": 3, \"3\": 4, \"14\": 2, \"15\": 1, \"10\": 2}, \"5\": {\"0\": 37, \"5\": 97, \"8\": 31, \"4\": 26, \"15\": 13, \"14\": 36}, \"6\": {\"11\": 33, \"6\": 78, \"13\": 64, \"7\": 23, \"9\": 33, \"2\": 7, \"4\": 2}, \"7\": {\"9\": 37, \"2\": 54, \"6\": 22, \"1\": 16, \"7\": 71, \"3\": 7, \"10\": 10, \"4\": 7, \"11\": 1, \"13\": 14, \"12\": 1}, \"13\": {\"11\": 55, \"9\": 42, \"6\": 40, \"4\": 8, \"7\": 20, \"13\": 65, \"0\": 1, \"1\": 1, \"2\": 5, \"14\": 3}}, \"O_8\": {\"13\": {\"0\": 41, \"14\": 24, \"2\": 1, \"4\": 27, \"7\": 34, \"13\": 29, \"10\": 32, \"15\": 7, \"1\": 2, \"11\": 3, \"6\": 22, \"8\": 3, \"12\": 3, \"5\": 10, \"3\": 2}, \"3\": {\"7\": 24, \"2\": 68, \"12\": 33, \"3\": 69, \"4\": 4, \"15\": 20, \"14\": 1, \"8\": 2, \"6\": 9, \"0\": 5, \"13\": 5}, \"15\": {\"15\": 66, \"13\": 3, \"12\": 36, \"3\": 17, \"8\": 44, \"4\": 13, \"14\": 6, \"2\": 12, \"7\": 12, \"0\": 6, \"6\": 16, \"11\": 6, \"10\": 2, \"1\": 1}, \"4\": {\"7\": 21, \"10\": 35, \"0\": 21, \"4\": 36, \"11\": 10, \"6\": 27, \"13\": 26, \"14\": 30, \"1\": 14, \"15\": 8, \"12\": 1, \"3\": 1, \"8\": 4, \"5\": 6}, \"7\": {\"2\": 11, \"6\": 25, \"7\": 38, \"8\": 9, \"10\": 18, \"13\": 33, \"4\": 24, \"14\": 8, \"3\": 11, \"0\": 31, \"15\": 19, \"12\": 11, \"11\": 1, \"5\": 1}, \"2\": {\"7\": 25, \"13\": 8, \"2\": 69, \"3\": 67, \"15\": 15, \"12\": 19, \"0\": 13, \"6\": 18, \"4\": 5, \"8\": 1}, \"1\": {\"7\": 5, \"11\": 45, \"1\": 65, \"13\": 10, \"6\": 6, \"8\": 19, \"5\": 39, \"14\": 24, \"10\": 14, \"4\": 10, \"15\": 3}, \"0\": {\"7\": 29, \"13\": 29, \"6\": 19, \"4\": 30, \"0\": 50, \"10\": 27, \"2\": 9, \"8\": 9, \"14\": 22, \"5\": 3, \"3\": 4, \"12\": 3, \"15\": 6}, \"12\": {\"2\": 32, \"12\": 58, \"8\": 29, \"15\": 40, \"3\": 33, \"7\": 17, \"6\": 12, \"0\": 5, \"4\": 6, \"13\": 5, \"14\": 1, \"11\": 1, \"1\": 1}, \"6\": {\"4\": 28, \"13\": 24, \"6\": 30, \"8\": 14, \"14\": 27, \"12\": 9, \"7\": 38, \"0\": 15, \"10\": 14, \"2\": 12, \"15\": 16, \"1\": 5, \"11\": 1, \"5\": 2, \"3\": 5}, \"11\": {\"11\": 88, \"1\": 65, \"13\": 7, \"5\": 17, \"6\": 3, \"4\": 7, \"14\": 16, \"10\": 12, \"15\": 9, \"8\": 15, \"12\": 1}, \"9\": {\"9\": 230, \"5\": 5, \"10\": 1, \"14\": 1, \"13\": 2, \"0\": 1}, \"5\": {\"1\": 33, \"5\": 83, \"4\": 6, \"14\": 33, \"6\": 8, \"10\": 39, \"13\": 8, \"7\": 5, \"11\": 13, \"12\": 1, \"15\": 2, \"0\": 6, \"8\": 3}, \"10\": {\"0\": 29, \"4\": 29, \"10\": 46, \"5\": 34, \"14\": 25, \"13\": 28, \"7\": 12, \"1\": 14, \"11\": 4, \"6\": 12, \"15\": 3, \"8\": 2, \"3\": 1, \"12\": 1}, \"14\": {\"11\": 10, \"1\": 16, \"4\": 38, \"10\": 28, \"6\": 20, \"5\": 17, \"13\": 17, \"0\": 21, \"14\": 40, \"15\": 7, \"7\": 20, \"8\": 4, \"2\": 1, \"12\": 1}, \"8\": {\"7\": 16, \"5\": 6, \"4\": 14, \"1\": 16, \"8\": 49, \"0\": 3, \"6\": 24, \"15\": 44, \"12\": 16, \"14\": 14, \"11\": 24, \"3\": 3, \"10\": 7, \"13\": 2, \"2\": 2}}, \"O_20\": {\"6\": {\"8\": 26, \"12\": 9, \"6\": 46, \"10\": 28, \"13\": 7, \"7\": 25, \"14\": 28, \"3\": 16, \"2\": 21, \"9\": 9, \"11\": 5, \"4\": 15, \"1\": 1, \"5\": 3, \"0\": 1}, \"11\": {\"14\": 3, \"11\": 124, \"13\": 33, \"7\": 17, \"9\": 10, \"2\": 12, \"3\": 5, \"0\": 4, \"6\": 24, \"1\": 2, \"15\": 2, \"8\": 2, \"12\": 2}, \"5\": {\"12\": 23, \"2\": 16, \"1\": 21, \"9\": 14, \"6\": 3, \"15\": 24, \"0\": 23, \"5\": 30, \"4\": 18, \"7\": 11, \"3\": 24, \"8\": 19, \"10\": 6, \"13\": 7, \"14\": 1}, \"14\": {\"14\": 43, \"2\": 4, \"6\": 35, \"10\": 47, \"8\": 27, \"5\": 13, \"4\": 21, \"0\": 4, \"9\": 3, \"7\": 18, \"12\": 9, \"3\": 13, \"1\": 1, \"13\": 1, \"15\": 1}, \"2\": {\"13\": 26, \"12\": 22, \"15\": 13, \"9\": 23, \"1\": 13, \"11\": 13, \"2\": 25, \"5\": 16, \"3\": 17, \"0\": 5, \"8\": 11, \"14\": 3, \"7\": 28, \"10\": 8, \"6\": 13, \"4\": 4}, \"7\": {\"8\": 20, \"2\": 22, \"15\": 11, \"7\": 28, \"4\": 12, \"13\": 13, \"0\": 8, \"3\": 13, \"12\": 21, \"6\": 21, \"9\": 18, \"5\": 12, \"10\": 14, \"1\": 10, \"14\": 11, \"11\": 6}, \"3\": {\"12\": 27, \"7\": 17, \"13\": 12, \"4\": 19, \"8\": 14, \"1\": 21, \"9\": 12, \"15\": 17, \"2\": 24, \"0\": 10, \"5\": 19, \"3\": 26, \"6\": 6, \"14\": 7, \"10\": 9}, \"4\": {\"1\": 10, \"0\": 13, \"10\": 26, \"7\": 17, \"15\": 6, \"2\": 13, \"6\": 16, \"3\": 21, \"8\": 28, \"14\": 16, \"12\": 10, \"4\": 39, \"5\": 18, \"9\": 6, \"13\": 1}, \"9\": {\"5\": 6, \"12\": 29, \"7\": 21, \"3\": 24, \"8\": 6, \"2\": 27, \"9\": 24, \"13\": 14, \"10\": 9, \"15\": 26, \"1\": 28, \"0\": 5, \"6\": 7, \"4\": 8, \"11\": 2, \"14\": 4}, \"12\": {\"0\": 18, \"1\": 29, \"3\": 28, \"4\": 17, \"2\": 20, \"15\": 23, \"13\": 9, \"9\": 19, \"6\": 3, \"12\": 27, \"7\": 9, \"10\": 6, \"11\": 2, \"5\": 14, \"14\": 8, \"8\": 8}, \"0\": {\"5\": 28, \"9\": 6, \"1\": 17, \"2\": 7, \"6\": 7, \"4\": 20, \"3\": 14, \"15\": 30, \"8\": 27, \"12\": 23, \"7\": 16, \"0\": 35, \"13\": 3, \"10\": 5, \"14\": 2}, \"10\": {\"10\": 41, \"1\": 11, \"4\": 45, \"14\": 34, \"3\": 18, \"6\": 21, \"9\": 5, \"8\": 22, \"7\": 12, \"13\": 1, \"2\": 9, \"12\": 9, \"5\": 5, \"15\": 2, \"11\": 1, \"0\": 4}, \"8\": {\"8\": 36, \"7\": 19, \"10\": 24, \"6\": 15, \"15\": 4, \"4\": 31, \"0\": 13, \"14\": 27, \"5\": 16, \"2\": 10, \"3\": 16, \"13\": 3, \"9\": 8, \"1\": 5, \"12\": 11, \"11\": 2}, \"13\": {\"3\": 15, \"12\": 12, \"15\": 18, \"2\": 33, \"1\": 20, \"9\": 19, \"13\": 44, \"5\": 8, \"11\": 18, \"7\": 25, \"0\": 12, \"8\": 7, \"4\": 2, \"10\": 2, \"6\": 5}, \"1\": {\"5\": 26, \"4\": 9, \"2\": 20, \"15\": 31, \"9\": 13, \"7\": 10, \"12\": 24, \"13\": 14, \"3\": 22, \"14\": 2, \"10\": 8, \"0\": 23, \"1\": 23, \"6\": 3, \"8\": 10, \"11\": 2}, \"15\": {\"5\": 27, \"13\": 31, \"2\": 21, \"0\": 25, \"15\": 40, \"8\": 7, \"1\": 21, \"12\": 13, \"3\": 17, \"10\": 3, \"4\": 3, \"9\": 16, \"7\": 14, \"6\": 1, \"11\": 1}}, \"O_38\": {\"3\": {\"1\": 3, \"8\": 7, \"3\": 103, \"9\": 61, \"6\": 26, \"5\": 8, \"0\": 19, \"7\": 13}, \"8\": {\"10\": 19, \"8\": 51, \"7\": 33, \"13\": 18, \"6\": 5, \"0\": 35, \"15\": 24, \"5\": 38, \"3\": 2, \"1\": 12, \"9\": 3}, \"0\": {\"0\": 50, \"7\": 37, \"12\": 5, \"3\": 11, \"5\": 34, \"8\": 50, \"10\": 15, \"6\": 7, \"15\": 13, \"13\": 7, \"1\": 5, \"9\": 3, \"14\": 1, \"2\": 1, \"4\": 1}, \"2\": {\"11\": 9, \"2\": 106, \"14\": 42, \"8\": 1, \"10\": 29, \"15\": 15, \"13\": 31, \"1\": 6, \"0\": 1}, \"4\": {\"12\": 79, \"4\": 155, \"0\": 2, \"10\": 2, \"11\": 1, \"14\": 1}, \"7\": {\"7\": 89, \"13\": 6, \"0\": 50, \"8\": 37, \"5\": 26, \"3\": 8, \"15\": 4, \"10\": 10, \"6\": 5, \"9\": 3, \"12\": 2}, \"12\": {\"12\": 150, \"4\": 64, \"14\": 16, \"11\": 3, \"10\": 5, \"8\": 1, \"2\": 1}, \"6\": {\"9\": 84, \"1\": 17, \"6\": 101, \"5\": 26, \"3\": 3, \"15\": 4, \"13\": 1, \"8\": 2, \"7\": 2}, \"15\": {\"10\": 16, \"13\": 42, \"1\": 39, \"15\": 60, \"2\": 11, \"8\": 22, \"0\": 10, \"7\": 5, \"5\": 26, \"6\": 9}, \"11\": {\"14\": 80, \"11\": 121, \"2\": 17, \"4\": 4, \"10\": 8, \"12\": 8, \"0\": 1, \"13\": 1}, \"9\": {\"6\": 87, \"9\": 97, \"1\": 9, \"5\": 17, \"3\": 18, \"0\": 2, \"7\": 6, \"15\": 2, \"13\": 2}, \"14\": {\"11\": 55, \"14\": 104, \"10\": 30, \"2\": 28, \"12\": 19, \"15\": 1, \"13\": 3}, \"10\": {\"12\": 14, \"10\": 75, \"8\": 21, \"2\": 29, \"13\": 18, \"14\": 25, \"0\": 14, \"7\": 11, \"15\": 22, \"5\": 4, \"11\": 2, \"6\": 1, \"4\": 4}, \"5\": {\"13\": 14, \"7\": 18, \"5\": 54, \"15\": 35, \"0\": 22, \"6\": 25, \"3\": 5, \"8\": 26, \"1\": 20, \"10\": 8, \"9\": 12, \"2\": 1}, \"1\": {\"6\": 37, \"10\": 4, \"1\": 108, \"7\": 1, \"13\": 21, \"15\": 31, \"9\": 7, \"8\": 11, \"5\": 18, \"3\": 2}, \"13\": {\"10\": 26, \"13\": 66, \"15\": 39, \"8\": 16, \"1\": 23, \"0\": 13, \"5\": 18, \"7\": 3, \"2\": 33, \"14\": 3}}, \"O_26\": {\"5\": {\"13\": 30, \"5\": 34, \"15\": 29, \"7\": 12, \"9\": 27, \"2\": 34, \"3\": 18, \"1\": 6, \"6\": 14, \"8\": 17, \"4\": 5, \"0\": 2, \"14\": 4, \"10\": 8}, \"8\": {\"8\": 30, \"14\": 14, \"4\": 17, \"1\": 16, \"15\": 18, \"13\": 3, \"10\": 41, \"0\": 16, \"6\": 18, \"5\": 8, \"7\": 21, \"2\": 14, \"3\": 7, \"9\": 15, \"12\": 2}, \"4\": {\"0\": 30, \"15\": 6, \"1\": 38, \"14\": 25, \"4\": 30, \"10\": 24, \"7\": 17, \"9\": 12, \"6\": 17, \"8\": 14, \"2\": 9, \"5\": 5, \"3\": 11, \"13\": 2}, \"12\": {\"12\": 147, \"9\": 7, \"8\": 7, \"11\": 27, \"6\": 21, \"0\": 9, \"10\": 10, \"13\": 1, \"14\": 4, \"4\": 3, \"15\": 2, \"2\": 1, \"7\": 1}, \"6\": {\"9\": 29, \"8\": 31, \"14\": 20, \"15\": 26, \"13\": 13, \"0\": 15, \"2\": 7, \"10\": 20, \"6\": 30, \"5\": 11, \"1\": 11, \"7\": 6, \"4\": 13, \"12\": 6, \"3\": 2}, \"7\": {\"2\": 24, \"15\": 18, \"9\": 22, \"3\": 30, \"5\": 17, \"13\": 10, \"7\": 27, \"6\": 13, \"8\": 12, \"1\": 16, \"4\": 14, \"0\": 13, \"14\": 14, \"10\": 10}, \"10\": {\"7\": 10, \"6\": 28, \"1\": 23, \"14\": 38, \"9\": 11, \"13\": 10, \"8\": 29, \"4\": 26, \"10\": 23, \"2\": 7, \"3\": 10, \"15\": 7, \"0\": 14, \"5\": 2, \"12\": 2}, \"0\": {\"0\": 42, \"10\": 40, \"12\": 4, \"4\": 30, \"15\": 6, \"9\": 12, \"8\": 14, \"6\": 18, \"14\": 31, \"7\": 12, \"13\": 2, \"3\": 10, \"1\": 16, \"2\": 3}, \"15\": {\"14\": 6, \"15\": 38, \"12\": 2, \"2\": 14, \"9\": 22, \"5\": 27, \"6\": 12, \"7\": 16, \"3\": 16, \"13\": 21, \"10\": 17, \"8\": 24, \"4\": 15, \"1\": 2, \"0\": 8}, \"9\": {\"5\": 34, \"6\": 22, \"15\": 29, \"9\": 27, \"14\": 10, \"7\": 13, \"0\": 18, \"13\": 17, \"10\": 17, \"8\": 14, \"4\": 8, \"2\": 12, \"1\": 6, \"3\": 9, \"12\": 4}, \"11\": {\"11\": 189, \"5\": 6, \"13\": 9, \"12\": 25, \"6\": 7, \"14\": 2, \"8\": 1, \"15\": 1}, \"14\": {\"1\": 23, \"7\": 17, \"0\": 28, \"6\": 23, \"15\": 9, \"10\": 20, \"4\": 37, \"12\": 2, \"2\": 7, \"14\": 30, \"9\": 13, \"8\": 21, \"13\": 4, \"3\": 6}, \"2\": {\"8\": 15, \"7\": 23, \"2\": 43, \"5\": 29, \"13\": 23, \"3\": 32, \"6\": 7, \"9\": 16, \"10\": 7, \"15\": 20, \"14\": 6, \"4\": 8, \"0\": 7, \"1\": 4}, \"13\": {\"3\": 7, \"5\": 49, \"13\": 46, \"9\": 26, \"6\": 11, \"0\": 5, \"8\": 15, \"2\": 19, \"15\": 31, \"7\": 14, \"11\": 4, \"14\": 4, \"10\": 4, \"12\": 1, \"4\": 3, \"1\": 1}, \"3\": {\"3\": 58, \"14\": 7, \"15\": 18, \"0\": 12, \"7\": 30, \"9\": 21, \"4\": 8, \"13\": 10, \"5\": 24, \"2\": 22, \"1\": 9, \"8\": 10, \"6\": 3, \"10\": 8}, \"1\": {\"14\": 32, \"1\": 50, \"4\": 35, \"7\": 21, \"10\": 26, \"6\": 8, \"0\": 18, \"8\": 11, \"2\": 5, \"13\": 1, \"3\": 8, \"9\": 19, \"5\": 4, \"15\": 2}}}, \"per_domain_accuracy\": {\"C_4\": {\"accuracy\": 0.9979166666666667, \"source?\": true}, \"C_2\": {\"accuracy\": 0.9992977528089888, \"source?\": true}, \"C_3\": {\"accuracy\": 0.9988839285714286, \"source?\": true}, \"C_1\": {\"accuracy\": 0.9991554054054054, \"source?\": true}, \"C_5\": {\"accuracy\": 0.9975558659217877, \"source?\": true}, \"O_50\": {\"accuracy\": 0.3609375, \"source?\": false}, \"O_14\": {\"accuracy\": 0.33958333333333335, \"source?\": false}, \"O_32\": {\"accuracy\": 0.4786458333333333, \"source?\": false}, \"O_44\": {\"accuracy\": 0.34401041666666665, \"source?\": false}, \"O_8\": {\"accuracy\": 0.27239583333333334, \"source?\": false}, \"O_20\": {\"accuracy\": 0.16432291666666668, \"source?\": false}, \"O_38\": {\"accuracy\": 0.3880208333333333, \"source?\": false}, \"O_26\": {\"accuracy\": 0.21979166666666666, \"source?\": false}}}, \"history\": {\"epoch_indices\": [1, 2, 3, 4, 5, 6], \"train_label_loss\": [0.031856616750744624, 0.00819681864870371, 0.005528170176270894, 0.005054053480661181, 0.004489571157292474, 0.003038587567003935], \"source_val_label_loss\": [0.010492106899619102, 0.0093173086643219, 0.010016190819442272, 0.0060030315071344376, 0.004959239158779383, 0.007734396029263735], \"target_val_label_loss\": [2.274038076400757, 2.214373826980591, 2.7988598346710205, 3.168891668319702, 3.6364219188690186, 3.651557207107544], \"source_val_acc_label\": [0.9974285714285714, 0.9985714285714286, 0.99875, 0.9993214285714286, 0.9995, 0.9993214285714286], \"target_val_acc_label\": [0.2688802083333333, 0.3209635416666667, 0.3014322916666667, 0.29049479166666664, 0.2630533854166667, 0.28346354166666665]}, \"dataset_metrics\": {\"source\": {\"train\": {\"n_unique_x\": 175189, \"n_unique_y\": 58, \"n_batch/episode\": 6310}, \"val\": {\"n_unique_x\": 37166, \"n_unique_y\": 58, \"n_batch/episode\": 875}, \"test\": {\"n_unique_x\": 37642, \"n_unique_y\": 58, \"n_batch/episode\": 890}}, \"target\": {\"train\": {\"n_unique_x\": 179200, \"n_unique_y\": 16, \"n_batch/episode\": 6720}, \"val\": {\"n_unique_x\": 38400, \"n_unique_y\": 16, \"n_batch/episode\": 960}, \"test\": {\"n_unique_x\": 38400, \"n_unique_y\": 16, \"n_batch/episode\": 960}}}}'"
      ]
     },
     "execution_count": 29,
     "metadata": {},
     "output_type": "execute_result"
    }
   ],
   "source": [
    "json.dumps(experiment)"
   ]
  }
 ],
 "metadata": {
  "celltoolbar": "Tags",
  "kernelspec": {
   "display_name": "Python 3 (ipykernel)",
   "language": "python",
   "name": "python3"
  },
  "language_info": {
   "codemirror_mode": {
    "name": "ipython",
    "version": 3
   },
   "file_extension": ".py",
   "mimetype": "text/x-python",
   "name": "python",
   "nbconvert_exporter": "python",
   "pygments_lexer": "ipython3",
   "version": "3.8.10"
  },
  "papermill": {
   "default_parameters": {},
   "duration": 1076.114936,
   "end_time": "2022-03-25T07:11:26.640504",
   "environment_variables": {},
   "exception": null,
   "input_path": "/mnt/wd500GB/CSC500/csc500-main/csc500-notebooks/templates/tl_ptn_template.ipynb",
   "output_path": "trial.ipynb",
   "parameters": {
    "parameters": {
     "BEST_MODEL_PATH": "./best_model.pth",
     "NUM_LOGS_PER_EPOCH": 10,
     "criteria_for_best": "target_accuracy",
     "dataset_seed": 500,
     "datasets": [
      {
       "domain_prefix": "C_",
       "domains": [
        1,
        2,
        3,
        4,
        5
       ],
       "episode_transforms": [],
       "labels": [
        "1-10.",
        "1-11.",
        "1-15.",
        "1-16.",
        "1-17.",
        "1-18.",
        "1-19.",
        "10-4.",
        "10-7.",
        "11-1.",
        "11-14.",
        "11-17.",
        "11-20.",
        "11-7.",
        "13-20.",
        "13-8.",
        "14-10.",
        "14-11.",
        "14-14.",
        "14-7.",
        "15-1.",
        "15-20.",
        "16-1.",
        "16-16.",
        "17-10.",
        "17-11.",
        "17-2.",
        "19-1.",
        "19-16.",
        "19-19.",
        "19-20.",
        "19-3.",
        "2-10.",
        "2-11.",
        "2-17.",
        "2-18.",
        "2-20.",
        "2-3.",
        "2-4.",
        "2-5.",
        "2-6.",
        "2-7.",
        "2-8.",
        "3-13.",
        "3-18.",
        "3-3.",
        "4-1.",
        "4-10.",
        "4-11.",
        "4-19.",
        "5-5.",
        "6-15.",
        "7-10.",
        "7-14.",
        "8-18.",
        "8-20.",
        "8-3.",
        "8-8."
       ],
       "num_examples_per_domain_per_label": -1,
       "pickle_path": "/mnt/wd500GB/CSC500/csc500-main/datasets/cores.stratified_ds.2022A.pkl",
       "source_or_target_dataset": "source",
       "x_transforms": [
        "unit_mag",
        "take_200"
       ]
      },
      {
       "domain_prefix": "O_",
       "domains": [
        32,
        38,
        8,
        44,
        14,
        50,
        20,
        26
       ],
       "episode_transforms": [],
       "labels": [
        "3123D52",
        "3123D65",
        "3123D79",
        "3123D80",
        "3123D54",
        "3123D70",
        "3123D7B",
        "3123D89",
        "3123D58",
        "3123D76",
        "3123D7D",
        "3123EFE",
        "3123D64",
        "3123D78",
        "3123D7E",
        "3124E4A"
       ],
       "num_examples_per_domain_per_label": 2000,
       "pickle_path": "/mnt/wd500GB/CSC500/csc500-main/datasets/oracle.Run1_framed_2000Examples_stratified_ds.2022A.pkl",
       "source_or_target_dataset": "target",
       "x_transforms": [
        "unit_mag",
        "take_200",
        "resample_20Msps_to_25Msps"
       ]
      }
     ],
     "device": "cuda",
     "experiment_name": "tl_3Av2:cores -> oracle.run1.framed",
     "lr": 0.0001,
     "n_epoch": 50,
     "n_query": 2,
     "n_shot": 3,
     "n_way": 16,
     "patience": 3,
     "seed": 500,
     "test_k_factor": 2,
     "torch_default_dtype": "torch.float32",
     "train_k_factor": 3,
     "val_k_factor": 2,
     "x_net": [
      {
       "class": "nnReshape",
       "kargs": {
        "shape": [
         -1,
         1,
         2,
         200
        ]
       }
      },
      {
       "class": "Conv2d",
       "kargs": {
        "bias": false,
        "in_channels": 1,
        "kernel_size": [
         1,
         7
        ],
        "out_channels": 256,
        "padding": [
         0,
         3
        ]
       }
      },
      {
       "class": "ReLU",
       "kargs": {
        "inplace": true
       }
      },
      {
       "class": "BatchNorm2d",
       "kargs": {
        "num_features": 256
       }
      },
      {
       "class": "Conv2d",
       "kargs": {
        "bias": true,
        "in_channels": 256,
        "kernel_size": [
         2,
         7
        ],
        "out_channels": 80,
        "padding": [
         0,
         3
        ]
       }
      },
      {
       "class": "ReLU",
       "kargs": {
        "inplace": true
       }
      },
      {
       "class": "BatchNorm2d",
       "kargs": {
        "num_features": 80
       }
      },
      {
       "class": "Flatten",
       "kargs": {}
      },
      {
       "class": "Linear",
       "kargs": {
        "in_features": 16000,
        "out_features": 256
       }
      },
      {
       "class": "ReLU",
       "kargs": {
        "inplace": true
       }
      },
      {
       "class": "BatchNorm1d",
       "kargs": {
        "num_features": 256
       }
      },
      {
       "class": "Linear",
       "kargs": {
        "in_features": 256,
        "out_features": 256
       }
      }
     ],
     "x_shape": [
      2,
      200
     ]
    }
   },
   "start_time": "2022-03-25T06:53:30.525568",
   "version": "2.3.4"
  }
 },
 "nbformat": 4,
 "nbformat_minor": 5
}