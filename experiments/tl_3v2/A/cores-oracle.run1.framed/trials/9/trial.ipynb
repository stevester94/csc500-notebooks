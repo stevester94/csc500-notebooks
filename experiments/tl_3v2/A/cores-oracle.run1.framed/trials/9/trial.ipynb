{
 "cells": [
  {
   "cell_type": "markdown",
   "id": "9fea5f46",
   "metadata": {
    "papermill": {
     "duration": 0.018378,
     "end_time": "2022-03-25T05:21:41.966835",
     "exception": false,
     "start_time": "2022-03-25T05:21:41.948457",
     "status": "completed"
    },
    "tags": []
   },
   "source": [
    "# Transfer Learning Template"
   ]
  },
  {
   "cell_type": "code",
   "execution_count": 1,
   "id": "0902182a",
   "metadata": {
    "execution": {
     "iopub.execute_input": "2022-03-25T05:21:42.007365Z",
     "iopub.status.busy": "2022-03-25T05:21:42.001102Z",
     "iopub.status.idle": "2022-03-25T05:21:42.947697Z",
     "shell.execute_reply": "2022-03-25T05:21:42.947155Z"
    },
    "papermill": {
     "duration": 0.967765,
     "end_time": "2022-03-25T05:21:42.947810",
     "exception": false,
     "start_time": "2022-03-25T05:21:41.980045",
     "status": "completed"
    },
    "tags": []
   },
   "outputs": [],
   "source": [
    "%load_ext autoreload\n",
    "%autoreload 2\n",
    "%matplotlib inline\n",
    "\n",
    "    \n",
    "import os, json, sys, time, random\n",
    "import numpy as np\n",
    "import torch\n",
    "from torch.optim import Adam\n",
    "from  easydict import EasyDict\n",
    "import matplotlib.pyplot as plt\n",
    "\n",
    "from steves_models.steves_ptn import Steves_Prototypical_Network\n",
    "\n",
    "from steves_utils.lazy_iterable_wrapper import Lazy_Iterable_Wrapper\n",
    "from steves_utils.iterable_aggregator import Iterable_Aggregator\n",
    "from steves_utils.ptn_train_eval_test_jig import  PTN_Train_Eval_Test_Jig\n",
    "from steves_utils.torch_sequential_builder import build_sequential\n",
    "from steves_utils.torch_utils import get_dataset_metrics, ptn_confusion_by_domain_over_dataloader\n",
    "from steves_utils.utils_v2 import (per_domain_accuracy_from_confusion, get_datasets_base_path)\n",
    "from steves_utils.PTN.utils import independent_accuracy_assesment\n",
    "\n",
    "from torch.utils.data import DataLoader\n",
    "\n",
    "from steves_utils.stratified_dataset.episodic_accessor import Episodic_Accessor_Factory\n",
    "\n",
    "from steves_utils.ptn_do_report import (\n",
    "    get_loss_curve,\n",
    "    get_results_table,\n",
    "    get_parameters_table,\n",
    "    get_domain_accuracies,\n",
    ")\n",
    "\n",
    "from steves_utils.transforms import get_chained_transform"
   ]
  },
  {
   "cell_type": "markdown",
   "id": "41c840b4",
   "metadata": {
    "papermill": {
     "duration": 0.012446,
     "end_time": "2022-03-25T05:21:42.978628",
     "exception": false,
     "start_time": "2022-03-25T05:21:42.966182",
     "status": "completed"
    },
    "tags": []
   },
   "source": [
    "# Allowed Parameters\n",
    "These are allowed parameters, not defaults\n",
    "Each of these values need to be present in the injected parameters (the notebook will raise an exception if they are not present)\n",
    "\n",
    "Papermill uses the cell tag \"parameters\" to inject the real parameters below this cell.\n",
    "Enable tags to see what I mean"
   ]
  },
  {
   "cell_type": "code",
   "execution_count": 2,
   "id": "fd44eb83",
   "metadata": {
    "execution": {
     "iopub.execute_input": "2022-03-25T05:21:43.005958Z",
     "iopub.status.busy": "2022-03-25T05:21:43.005696Z",
     "iopub.status.idle": "2022-03-25T05:21:43.017194Z",
     "shell.execute_reply": "2022-03-25T05:21:43.016969Z"
    },
    "papermill": {
     "duration": 0.026028,
     "end_time": "2022-03-25T05:21:43.017252",
     "exception": false,
     "start_time": "2022-03-25T05:21:42.991224",
     "status": "completed"
    },
    "tags": []
   },
   "outputs": [],
   "source": [
    "required_parameters = {\n",
    "    \"experiment_name\",\n",
    "    \"lr\",\n",
    "    \"device\",\n",
    "    \"seed\",\n",
    "    \"dataset_seed\",\n",
    "    \"n_shot\",\n",
    "    \"n_query\",\n",
    "    \"n_way\",\n",
    "    \"train_k_factor\",\n",
    "    \"val_k_factor\",\n",
    "    \"test_k_factor\",\n",
    "    \"n_epoch\",\n",
    "    \"patience\",\n",
    "    \"criteria_for_best\",\n",
    "    \"x_net\",\n",
    "    \"datasets\",\n",
    "    \"torch_default_dtype\",\n",
    "    \"NUM_LOGS_PER_EPOCH\",\n",
    "    \"BEST_MODEL_PATH\",\n",
    "    \"x_shape\",\n",
    "}"
   ]
  },
  {
   "cell_type": "code",
   "execution_count": 3,
   "id": "fa3f0049",
   "metadata": {
    "execution": {
     "iopub.execute_input": "2022-03-25T05:21:43.057025Z",
     "iopub.status.busy": "2022-03-25T05:21:43.055866Z",
     "iopub.status.idle": "2022-03-25T05:21:43.069277Z",
     "shell.execute_reply": "2022-03-25T05:21:43.068790Z"
    },
    "papermill": {
     "duration": 0.035064,
     "end_time": "2022-03-25T05:21:43.069383",
     "exception": false,
     "start_time": "2022-03-25T05:21:43.034319",
     "status": "completed"
    },
    "tags": [
     "parameters"
    ]
   },
   "outputs": [],
   "source": [
    "from steves_utils.CORES.utils import (\n",
    "    ALL_NODES,\n",
    "    ALL_NODES_MINIMUM_1000_EXAMPLES,\n",
    "    ALL_DAYS\n",
    ")\n",
    "\n",
    "from steves_utils.ORACLE.utils_v2 import (\n",
    "    ALL_DISTANCES_FEET_NARROWED,\n",
    "    ALL_RUNS,\n",
    "    ALL_SERIAL_NUMBERS,\n",
    ")\n",
    "\n",
    "standalone_parameters = {}\n",
    "standalone_parameters[\"experiment_name\"] = \"STANDALONE PTN\"\n",
    "standalone_parameters[\"lr\"] = 0.001\n",
    "standalone_parameters[\"device\"] = \"cuda\"\n",
    "\n",
    "standalone_parameters[\"seed\"] = 1337\n",
    "standalone_parameters[\"dataset_seed\"] = 1337\n",
    "\n",
    "standalone_parameters[\"n_way\"] = 8\n",
    "standalone_parameters[\"n_shot\"] = 3\n",
    "standalone_parameters[\"n_query\"]  = 2\n",
    "standalone_parameters[\"train_k_factor\"] = 1\n",
    "standalone_parameters[\"val_k_factor\"] = 2\n",
    "standalone_parameters[\"test_k_factor\"] = 2\n",
    "\n",
    "\n",
    "standalone_parameters[\"n_epoch\"] = 50\n",
    "\n",
    "standalone_parameters[\"patience\"] = 10\n",
    "standalone_parameters[\"criteria_for_best\"] = \"source_loss\"\n",
    "\n",
    "standalone_parameters[\"datasets\"] = [\n",
    "    {\n",
    "        \"labels\": ALL_SERIAL_NUMBERS,\n",
    "        \"domains\": ALL_DISTANCES_FEET_NARROWED,\n",
    "        \"num_examples_per_domain_per_label\": 100,\n",
    "        \"pickle_path\": os.path.join(get_datasets_base_path(), \"oracle.Run1_framed_2000Examples_stratified_ds.2022A.pkl\"),\n",
    "        \"source_or_target_dataset\": \"source\",\n",
    "        \"x_transforms\": [\"unit_mag\", \"minus_two\"],\n",
    "        \"episode_transforms\": [],\n",
    "        \"domain_prefix\": \"ORACLE_\"\n",
    "    },\n",
    "    {\n",
    "        \"labels\": ALL_NODES,\n",
    "        \"domains\": ALL_DAYS,\n",
    "        \"num_examples_per_domain_per_label\": 100,\n",
    "        \"pickle_path\": os.path.join(get_datasets_base_path(), \"cores.stratified_ds.2022A.pkl\"),\n",
    "        \"source_or_target_dataset\": \"target\",\n",
    "        \"x_transforms\": [\"unit_power\", \"times_zero\"],\n",
    "        \"episode_transforms\": [],\n",
    "        \"domain_prefix\": \"CORES_\"\n",
    "    }   \n",
    "]\n",
    "\n",
    "standalone_parameters[\"torch_default_dtype\"] = \"torch.float32\" \n",
    "\n",
    "\n",
    "\n",
    "standalone_parameters[\"x_net\"] =     [\n",
    "    {\"class\": \"nnReshape\", \"kargs\": {\"shape\":[-1, 1, 2, 256]}},\n",
    "    {\"class\": \"Conv2d\", \"kargs\": { \"in_channels\":1, \"out_channels\":256, \"kernel_size\":(1,7), \"bias\":False, \"padding\":(0,3), },},\n",
    "    {\"class\": \"ReLU\", \"kargs\": {\"inplace\": True}},\n",
    "    {\"class\": \"BatchNorm2d\", \"kargs\": {\"num_features\":256}},\n",
    "\n",
    "    {\"class\": \"Conv2d\", \"kargs\": { \"in_channels\":256, \"out_channels\":80, \"kernel_size\":(2,7), \"bias\":True, \"padding\":(0,3), },},\n",
    "    {\"class\": \"ReLU\", \"kargs\": {\"inplace\": True}},\n",
    "    {\"class\": \"BatchNorm2d\", \"kargs\": {\"num_features\":80}},\n",
    "    {\"class\": \"Flatten\", \"kargs\": {}},\n",
    "\n",
    "    {\"class\": \"Linear\", \"kargs\": {\"in_features\": 80*256, \"out_features\": 256}}, # 80 units per IQ pair\n",
    "    {\"class\": \"ReLU\", \"kargs\": {\"inplace\": True}},\n",
    "    {\"class\": \"BatchNorm1d\", \"kargs\": {\"num_features\":256}},\n",
    "\n",
    "    {\"class\": \"Linear\", \"kargs\": {\"in_features\": 256, \"out_features\": 256}},\n",
    "]\n",
    "\n",
    "# Parameters relevant to results\n",
    "# These parameters will basically never need to change\n",
    "standalone_parameters[\"NUM_LOGS_PER_EPOCH\"] = 10\n",
    "standalone_parameters[\"BEST_MODEL_PATH\"] = \"./best_model.pth\"\n",
    "\n",
    "\n",
    "\n",
    "\n"
   ]
  },
  {
   "cell_type": "code",
   "execution_count": 4,
   "id": "cd05b23d",
   "metadata": {
    "execution": {
     "iopub.execute_input": "2022-03-25T05:21:43.109104Z",
     "iopub.status.busy": "2022-03-25T05:21:43.108807Z",
     "iopub.status.idle": "2022-03-25T05:21:43.121925Z",
     "shell.execute_reply": "2022-03-25T05:21:43.121443Z"
    },
    "papermill": {
     "duration": 0.035386,
     "end_time": "2022-03-25T05:21:43.122035",
     "exception": false,
     "start_time": "2022-03-25T05:21:43.086649",
     "status": "completed"
    },
    "tags": [
     "injected-parameters"
    ]
   },
   "outputs": [],
   "source": [
    "# Parameters\n",
    "parameters = {\n",
    "    \"experiment_name\": \"tl_3Av2:cores -> oracle.run1.framed\",\n",
    "    \"device\": \"cuda\",\n",
    "    \"lr\": 0.0001,\n",
    "    \"x_shape\": [2, 200],\n",
    "    \"n_shot\": 3,\n",
    "    \"n_query\": 2,\n",
    "    \"train_k_factor\": 3,\n",
    "    \"val_k_factor\": 2,\n",
    "    \"test_k_factor\": 2,\n",
    "    \"torch_default_dtype\": \"torch.float32\",\n",
    "    \"n_epoch\": 50,\n",
    "    \"patience\": 3,\n",
    "    \"criteria_for_best\": \"target_accuracy\",\n",
    "    \"x_net\": [\n",
    "        {\"class\": \"nnReshape\", \"kargs\": {\"shape\": [-1, 1, 2, 200]}},\n",
    "        {\n",
    "            \"class\": \"Conv2d\",\n",
    "            \"kargs\": {\n",
    "                \"in_channels\": 1,\n",
    "                \"out_channels\": 256,\n",
    "                \"kernel_size\": [1, 7],\n",
    "                \"bias\": False,\n",
    "                \"padding\": [0, 3],\n",
    "            },\n",
    "        },\n",
    "        {\"class\": \"ReLU\", \"kargs\": {\"inplace\": True}},\n",
    "        {\"class\": \"BatchNorm2d\", \"kargs\": {\"num_features\": 256}},\n",
    "        {\n",
    "            \"class\": \"Conv2d\",\n",
    "            \"kargs\": {\n",
    "                \"in_channels\": 256,\n",
    "                \"out_channels\": 80,\n",
    "                \"kernel_size\": [2, 7],\n",
    "                \"bias\": True,\n",
    "                \"padding\": [0, 3],\n",
    "            },\n",
    "        },\n",
    "        {\"class\": \"ReLU\", \"kargs\": {\"inplace\": True}},\n",
    "        {\"class\": \"BatchNorm2d\", \"kargs\": {\"num_features\": 80}},\n",
    "        {\"class\": \"Flatten\", \"kargs\": {}},\n",
    "        {\"class\": \"Linear\", \"kargs\": {\"in_features\": 16000, \"out_features\": 256}},\n",
    "        {\"class\": \"ReLU\", \"kargs\": {\"inplace\": True}},\n",
    "        {\"class\": \"BatchNorm1d\", \"kargs\": {\"num_features\": 256}},\n",
    "        {\"class\": \"Linear\", \"kargs\": {\"in_features\": 256, \"out_features\": 256}},\n",
    "    ],\n",
    "    \"NUM_LOGS_PER_EPOCH\": 10,\n",
    "    \"BEST_MODEL_PATH\": \"./best_model.pth\",\n",
    "    \"n_way\": 16,\n",
    "    \"datasets\": [\n",
    "        {\n",
    "            \"labels\": [\n",
    "                \"1-10.\",\n",
    "                \"1-11.\",\n",
    "                \"1-15.\",\n",
    "                \"1-16.\",\n",
    "                \"1-17.\",\n",
    "                \"1-18.\",\n",
    "                \"1-19.\",\n",
    "                \"10-4.\",\n",
    "                \"10-7.\",\n",
    "                \"11-1.\",\n",
    "                \"11-14.\",\n",
    "                \"11-17.\",\n",
    "                \"11-20.\",\n",
    "                \"11-7.\",\n",
    "                \"13-20.\",\n",
    "                \"13-8.\",\n",
    "                \"14-10.\",\n",
    "                \"14-11.\",\n",
    "                \"14-14.\",\n",
    "                \"14-7.\",\n",
    "                \"15-1.\",\n",
    "                \"15-20.\",\n",
    "                \"16-1.\",\n",
    "                \"16-16.\",\n",
    "                \"17-10.\",\n",
    "                \"17-11.\",\n",
    "                \"17-2.\",\n",
    "                \"19-1.\",\n",
    "                \"19-16.\",\n",
    "                \"19-19.\",\n",
    "                \"19-20.\",\n",
    "                \"19-3.\",\n",
    "                \"2-10.\",\n",
    "                \"2-11.\",\n",
    "                \"2-17.\",\n",
    "                \"2-18.\",\n",
    "                \"2-20.\",\n",
    "                \"2-3.\",\n",
    "                \"2-4.\",\n",
    "                \"2-5.\",\n",
    "                \"2-6.\",\n",
    "                \"2-7.\",\n",
    "                \"2-8.\",\n",
    "                \"3-13.\",\n",
    "                \"3-18.\",\n",
    "                \"3-3.\",\n",
    "                \"4-1.\",\n",
    "                \"4-10.\",\n",
    "                \"4-11.\",\n",
    "                \"4-19.\",\n",
    "                \"5-5.\",\n",
    "                \"6-15.\",\n",
    "                \"7-10.\",\n",
    "                \"7-14.\",\n",
    "                \"8-18.\",\n",
    "                \"8-20.\",\n",
    "                \"8-3.\",\n",
    "                \"8-8.\",\n",
    "            ],\n",
    "            \"domains\": [1, 2, 3, 4, 5],\n",
    "            \"num_examples_per_domain_per_label\": -1,\n",
    "            \"pickle_path\": \"/mnt/wd500GB/CSC500/csc500-main/datasets/cores.stratified_ds.2022A.pkl\",\n",
    "            \"source_or_target_dataset\": \"source\",\n",
    "            \"x_transforms\": [\"unit_power\", \"take_200\"],\n",
    "            \"episode_transforms\": [],\n",
    "            \"domain_prefix\": \"C_\",\n",
    "        },\n",
    "        {\n",
    "            \"labels\": [\n",
    "                \"3123D52\",\n",
    "                \"3123D65\",\n",
    "                \"3123D79\",\n",
    "                \"3123D80\",\n",
    "                \"3123D54\",\n",
    "                \"3123D70\",\n",
    "                \"3123D7B\",\n",
    "                \"3123D89\",\n",
    "                \"3123D58\",\n",
    "                \"3123D76\",\n",
    "                \"3123D7D\",\n",
    "                \"3123EFE\",\n",
    "                \"3123D64\",\n",
    "                \"3123D78\",\n",
    "                \"3123D7E\",\n",
    "                \"3124E4A\",\n",
    "            ],\n",
    "            \"domains\": [32, 38, 8, 44, 14, 50, 20, 26],\n",
    "            \"num_examples_per_domain_per_label\": 2000,\n",
    "            \"pickle_path\": \"/mnt/wd500GB/CSC500/csc500-main/datasets/oracle.Run1_framed_2000Examples_stratified_ds.2022A.pkl\",\n",
    "            \"source_or_target_dataset\": \"target\",\n",
    "            \"x_transforms\": [\"unit_power\", \"take_200\", \"resample_20Msps_to_25Msps\"],\n",
    "            \"episode_transforms\": [],\n",
    "            \"domain_prefix\": \"O_\",\n",
    "        },\n",
    "    ],\n",
    "    \"seed\": 7,\n",
    "    \"dataset_seed\": 7,\n",
    "}\n"
   ]
  },
  {
   "cell_type": "code",
   "execution_count": 5,
   "id": "8fa1cc33",
   "metadata": {
    "execution": {
     "iopub.execute_input": "2022-03-25T05:21:43.154328Z",
     "iopub.status.busy": "2022-03-25T05:21:43.154044Z",
     "iopub.status.idle": "2022-03-25T05:21:43.169683Z",
     "shell.execute_reply": "2022-03-25T05:21:43.169201Z"
    },
    "papermill": {
     "duration": 0.032525,
     "end_time": "2022-03-25T05:21:43.169782",
     "exception": false,
     "start_time": "2022-03-25T05:21:43.137257",
     "status": "completed"
    },
    "tags": []
   },
   "outputs": [],
   "source": [
    "# Set this to True if you want to run this template directly\n",
    "STANDALONE = False\n",
    "if STANDALONE:\n",
    "    print(\"parameters not injected, running with standalone_parameters\")\n",
    "    parameters = standalone_parameters\n",
    "\n",
    "if not 'parameters' in locals() and not 'parameters' in globals():\n",
    "    raise Exception(\"Parameter injection failed\")\n",
    "\n",
    "#Use an easy dict for all the parameters\n",
    "p = EasyDict(parameters)\n",
    "\n",
    "if \"x_shape\" not in p:\n",
    "    p.x_shape = [2,256] # Default to this if we dont supply x_shape\n",
    "\n",
    "\n",
    "supplied_keys = set(p.keys())\n",
    "\n",
    "if  supplied_keys != required_parameters:\n",
    "    print(\"Parameters are incorrect\")\n",
    "    if len(supplied_keys - required_parameters)>0: print(\"Shouldn't have:\", str(supplied_keys - required_parameters))\n",
    "    if len(required_parameters - supplied_keys)>0: print(\"Need to have:\", str(required_parameters - supplied_keys))\n",
    "    raise RuntimeError(\"Parameters are incorrect\")"
   ]
  },
  {
   "cell_type": "code",
   "execution_count": 6,
   "id": "3a028d58",
   "metadata": {
    "execution": {
     "iopub.execute_input": "2022-03-25T05:21:43.202023Z",
     "iopub.status.busy": "2022-03-25T05:21:43.201684Z",
     "iopub.status.idle": "2022-03-25T05:21:43.213364Z",
     "shell.execute_reply": "2022-03-25T05:21:43.212949Z"
    },
    "papermill": {
     "duration": 0.026428,
     "end_time": "2022-03-25T05:21:43.213442",
     "exception": false,
     "start_time": "2022-03-25T05:21:43.187014",
     "status": "completed"
    },
    "tags": []
   },
   "outputs": [],
   "source": [
    "###################################\n",
    "# Set the RNGs and make it all deterministic\n",
    "###################################\n",
    "np.random.seed(p.seed)\n",
    "random.seed(p.seed)\n",
    "torch.manual_seed(p.seed)\n",
    "\n",
    "torch.use_deterministic_algorithms(True) "
   ]
  },
  {
   "cell_type": "code",
   "execution_count": 7,
   "id": "b691acf6",
   "metadata": {
    "execution": {
     "iopub.execute_input": "2022-03-25T05:21:43.246410Z",
     "iopub.status.busy": "2022-03-25T05:21:43.245957Z",
     "iopub.status.idle": "2022-03-25T05:21:43.261667Z",
     "shell.execute_reply": "2022-03-25T05:21:43.261194Z"
    },
    "papermill": {
     "duration": 0.030732,
     "end_time": "2022-03-25T05:21:43.261769",
     "exception": false,
     "start_time": "2022-03-25T05:21:43.231037",
     "status": "completed"
    },
    "tags": []
   },
   "outputs": [],
   "source": [
    "###########################################\n",
    "# The stratified datasets honor this\n",
    "###########################################\n",
    "torch.set_default_dtype(eval(p.torch_default_dtype))"
   ]
  },
  {
   "cell_type": "code",
   "execution_count": 8,
   "id": "b5fba671",
   "metadata": {
    "execution": {
     "iopub.execute_input": "2022-03-25T05:21:43.294633Z",
     "iopub.status.busy": "2022-03-25T05:21:43.294386Z",
     "iopub.status.idle": "2022-03-25T05:21:43.330548Z",
     "shell.execute_reply": "2022-03-25T05:21:43.330041Z"
    },
    "papermill": {
     "duration": 0.051282,
     "end_time": "2022-03-25T05:21:43.330658",
     "exception": false,
     "start_time": "2022-03-25T05:21:43.279376",
     "status": "completed"
    },
    "tags": []
   },
   "outputs": [],
   "source": [
    "###################################\n",
    "# Build the network(s)\n",
    "# Note: It's critical to do this AFTER setting the RNG\n",
    "###################################\n",
    "x_net = build_sequential(p.x_net)"
   ]
  },
  {
   "cell_type": "code",
   "execution_count": 9,
   "id": "5d7e61cc",
   "metadata": {
    "execution": {
     "iopub.execute_input": "2022-03-25T05:21:43.363561Z",
     "iopub.status.busy": "2022-03-25T05:21:43.363227Z",
     "iopub.status.idle": "2022-03-25T05:21:43.376669Z",
     "shell.execute_reply": "2022-03-25T05:21:43.376190Z"
    },
    "papermill": {
     "duration": 0.028738,
     "end_time": "2022-03-25T05:21:43.376769",
     "exception": false,
     "start_time": "2022-03-25T05:21:43.348031",
     "status": "completed"
    },
    "tags": []
   },
   "outputs": [],
   "source": [
    "start_time_secs = time.time()"
   ]
  },
  {
   "cell_type": "code",
   "execution_count": 10,
   "id": "c6b67dfd",
   "metadata": {
    "execution": {
     "iopub.execute_input": "2022-03-25T05:21:43.411499Z",
     "iopub.status.busy": "2022-03-25T05:21:43.409886Z",
     "iopub.status.idle": "2022-03-25T05:21:43.426636Z",
     "shell.execute_reply": "2022-03-25T05:21:43.426214Z"
    },
    "papermill": {
     "duration": 0.031549,
     "end_time": "2022-03-25T05:21:43.426735",
     "exception": false,
     "start_time": "2022-03-25T05:21:43.395186",
     "status": "completed"
    },
    "tags": []
   },
   "outputs": [],
   "source": [
    "p.domains_source = []\n",
    "p.domains_target = []\n",
    "\n",
    "\n",
    "train_original_source = []\n",
    "val_original_source   = []\n",
    "test_original_source  = []\n",
    "\n",
    "train_original_target = []\n",
    "val_original_target   = []\n",
    "test_original_target  = []"
   ]
  },
  {
   "cell_type": "code",
   "execution_count": 11,
   "id": "e3d9c3d3",
   "metadata": {
    "execution": {
     "iopub.execute_input": "2022-03-25T05:21:43.457825Z",
     "iopub.status.busy": "2022-03-25T05:21:43.457575Z",
     "iopub.status.idle": "2022-03-25T05:21:43.473684Z",
     "shell.execute_reply": "2022-03-25T05:21:43.473266Z"
    },
    "papermill": {
     "duration": 0.031437,
     "end_time": "2022-03-25T05:21:43.473782",
     "exception": false,
     "start_time": "2022-03-25T05:21:43.442345",
     "status": "completed"
    },
    "tags": []
   },
   "outputs": [],
   "source": [
    "# global_x_transform_func = lambda x: normalize(x.to(torch.get_default_dtype()), \"unit_power\") # unit_power, unit_mag\n",
    "# global_x_transform_func = lambda x: normalize(x, \"unit_power\") # unit_power, unit_mag"
   ]
  },
  {
   "cell_type": "code",
   "execution_count": 12,
   "id": "acb78fd2",
   "metadata": {
    "execution": {
     "iopub.execute_input": "2022-03-25T05:21:43.513279Z",
     "iopub.status.busy": "2022-03-25T05:21:43.513006Z",
     "iopub.status.idle": "2022-03-25T05:21:43.527196Z",
     "shell.execute_reply": "2022-03-25T05:21:43.526782Z"
    },
    "papermill": {
     "duration": 0.035674,
     "end_time": "2022-03-25T05:21:43.527305",
     "exception": false,
     "start_time": "2022-03-25T05:21:43.491631",
     "status": "completed"
    },
    "tags": []
   },
   "outputs": [],
   "source": [
    "def add_dataset(\n",
    "    labels,\n",
    "    domains,\n",
    "    pickle_path,\n",
    "    x_transforms,\n",
    "    episode_transforms,\n",
    "    domain_prefix,\n",
    "    num_examples_per_domain_per_label,\n",
    "    source_or_target_dataset:str,\n",
    "    iterator_seed=p.seed,\n",
    "    dataset_seed=p.dataset_seed,\n",
    "    n_shot=p.n_shot,\n",
    "    n_way=p.n_way,\n",
    "    n_query=p.n_query,\n",
    "    train_val_test_k_factors=(p.train_k_factor,p.val_k_factor,p.test_k_factor),\n",
    "):\n",
    "   \n",
    "    if x_transforms == []: x_transform = None\n",
    "    else: x_transform = get_chained_transform(x_transforms)\n",
    "    \n",
    "    if episode_transforms == []: episode_transform = None\n",
    "    else: raise Exception(\"episode_transforms not implemented\")\n",
    "    \n",
    "    episode_transform = lambda tup, _prefix=domain_prefix: (_prefix + str(tup[0]), tup[1])\n",
    "\n",
    "\n",
    "    eaf = Episodic_Accessor_Factory(\n",
    "        labels=labels,\n",
    "        domains=domains,\n",
    "        num_examples_per_domain_per_label=num_examples_per_domain_per_label,\n",
    "        iterator_seed=iterator_seed,\n",
    "        dataset_seed=dataset_seed,\n",
    "        n_shot=n_shot,\n",
    "        n_way=n_way,\n",
    "        n_query=n_query,\n",
    "        train_val_test_k_factors=train_val_test_k_factors,\n",
    "        pickle_path=pickle_path,\n",
    "        x_transform_func=x_transform,\n",
    "    )\n",
    "\n",
    "    train, val, test = eaf.get_train(), eaf.get_val(), eaf.get_test()\n",
    "    train = Lazy_Iterable_Wrapper(train, episode_transform)\n",
    "    val = Lazy_Iterable_Wrapper(val, episode_transform)\n",
    "    test = Lazy_Iterable_Wrapper(test, episode_transform)\n",
    "\n",
    "    if source_or_target_dataset==\"source\":\n",
    "        train_original_source.append(train)\n",
    "        val_original_source.append(val)\n",
    "        test_original_source.append(test)\n",
    "\n",
    "        p.domains_source.extend(\n",
    "            [domain_prefix + str(u) for u in domains]\n",
    "        )\n",
    "    elif source_or_target_dataset==\"target\":\n",
    "        train_original_target.append(train)\n",
    "        val_original_target.append(val)\n",
    "        test_original_target.append(test)\n",
    "        p.domains_target.extend(\n",
    "            [domain_prefix + str(u) for u in domains]\n",
    "        )\n",
    "    else:\n",
    "        raise Exception(f\"invalid source_or_target_dataset: {source_or_target_dataset}\")\n",
    "    "
   ]
  },
  {
   "cell_type": "code",
   "execution_count": 13,
   "id": "fe266617",
   "metadata": {
    "execution": {
     "iopub.execute_input": "2022-03-25T05:21:43.560295Z",
     "iopub.status.busy": "2022-03-25T05:21:43.559914Z",
     "iopub.status.idle": "2022-03-25T05:22:33.877798Z",
     "shell.execute_reply": "2022-03-25T05:22:33.877317Z"
    },
    "papermill": {
     "duration": 50.333395,
     "end_time": "2022-03-25T05:22:33.877909",
     "exception": false,
     "start_time": "2022-03-25T05:21:43.544514",
     "status": "completed"
    },
    "tags": []
   },
   "outputs": [],
   "source": [
    "for ds in p.datasets:\n",
    "    add_dataset(**ds)"
   ]
  },
  {
   "cell_type": "code",
   "execution_count": 14,
   "id": "b90d65ac",
   "metadata": {
    "execution": {
     "iopub.execute_input": "2022-03-25T05:22:33.912314Z",
     "iopub.status.busy": "2022-03-25T05:22:33.912061Z",
     "iopub.status.idle": "2022-03-25T05:22:33.929190Z",
     "shell.execute_reply": "2022-03-25T05:22:33.928706Z"
    },
    "papermill": {
     "duration": 0.032461,
     "end_time": "2022-03-25T05:22:33.929289",
     "exception": false,
     "start_time": "2022-03-25T05:22:33.896828",
     "status": "completed"
    },
    "tags": []
   },
   "outputs": [],
   "source": [
    "# from steves_utils.CORES.utils import (\n",
    "#     ALL_NODES,\n",
    "#     ALL_NODES_MINIMUM_1000_EXAMPLES,\n",
    "#     ALL_DAYS\n",
    "# )\n",
    "\n",
    "# add_dataset(\n",
    "#     labels=ALL_NODES,\n",
    "#     domains = ALL_DAYS,\n",
    "#     num_examples_per_domain_per_label=100,\n",
    "#     pickle_path=os.path.join(get_datasets_base_path(), \"cores.stratified_ds.2022A.pkl\"),\n",
    "#     source_or_target_dataset=\"target\",\n",
    "#     x_transform_func=global_x_transform_func,\n",
    "#     domain_modifier=lambda u: f\"cores_{u}\"\n",
    "# )"
   ]
  },
  {
   "cell_type": "code",
   "execution_count": 15,
   "id": "76db484d",
   "metadata": {
    "execution": {
     "iopub.execute_input": "2022-03-25T05:22:33.967313Z",
     "iopub.status.busy": "2022-03-25T05:22:33.963068Z",
     "iopub.status.idle": "2022-03-25T05:22:33.978556Z",
     "shell.execute_reply": "2022-03-25T05:22:33.978945Z"
    },
    "papermill": {
     "duration": 0.031579,
     "end_time": "2022-03-25T05:22:33.979063",
     "exception": false,
     "start_time": "2022-03-25T05:22:33.947484",
     "status": "completed"
    },
    "tags": []
   },
   "outputs": [],
   "source": [
    "# from steves_utils.ORACLE.utils_v2 import (\n",
    "#     ALL_DISTANCES_FEET,\n",
    "#     ALL_RUNS,\n",
    "#     ALL_SERIAL_NUMBERS,\n",
    "# )\n",
    "\n",
    "\n",
    "# add_dataset(\n",
    "#     labels=ALL_SERIAL_NUMBERS,\n",
    "#     domains = list(set(ALL_DISTANCES_FEET) - {2,62}),\n",
    "#     num_examples_per_domain_per_label=100,\n",
    "#     pickle_path=os.path.join(get_datasets_base_path(), \"oracle.Run2_framed_2000Examples_stratified_ds.2022A.pkl\"),\n",
    "#     source_or_target_dataset=\"source\",\n",
    "#     x_transform_func=global_x_transform_func,\n",
    "#     domain_modifier=lambda u: f\"oracle1_{u}\"\n",
    "# )\n"
   ]
  },
  {
   "cell_type": "code",
   "execution_count": 16,
   "id": "97dea9d2",
   "metadata": {
    "execution": {
     "iopub.execute_input": "2022-03-25T05:22:34.017923Z",
     "iopub.status.busy": "2022-03-25T05:22:34.013896Z",
     "iopub.status.idle": "2022-03-25T05:22:34.027260Z",
     "shell.execute_reply": "2022-03-25T05:22:34.027633Z"
    },
    "papermill": {
     "duration": 0.029263,
     "end_time": "2022-03-25T05:22:34.027750",
     "exception": false,
     "start_time": "2022-03-25T05:22:33.998487",
     "status": "completed"
    },
    "tags": []
   },
   "outputs": [],
   "source": [
    "# from steves_utils.ORACLE.utils_v2 import (\n",
    "#     ALL_DISTANCES_FEET,\n",
    "#     ALL_RUNS,\n",
    "#     ALL_SERIAL_NUMBERS,\n",
    "# )\n",
    "\n",
    "\n",
    "# add_dataset(\n",
    "#     labels=ALL_SERIAL_NUMBERS,\n",
    "#     domains = list(set(ALL_DISTANCES_FEET) - {2,62,56}),\n",
    "#     num_examples_per_domain_per_label=100,\n",
    "#     pickle_path=os.path.join(get_datasets_base_path(), \"oracle.Run2_framed_2000Examples_stratified_ds.2022A.pkl\"),\n",
    "#     source_or_target_dataset=\"source\",\n",
    "#     x_transform_func=global_x_transform_func,\n",
    "#     domain_modifier=lambda u: f\"oracle2_{u}\"\n",
    "# )"
   ]
  },
  {
   "cell_type": "code",
   "execution_count": 17,
   "id": "6f289866",
   "metadata": {
    "execution": {
     "iopub.execute_input": "2022-03-25T05:22:34.061832Z",
     "iopub.status.busy": "2022-03-25T05:22:34.061582Z",
     "iopub.status.idle": "2022-03-25T05:22:34.072320Z",
     "shell.execute_reply": "2022-03-25T05:22:34.072068Z"
    },
    "papermill": {
     "duration": 0.025542,
     "end_time": "2022-03-25T05:22:34.072374",
     "exception": false,
     "start_time": "2022-03-25T05:22:34.046832",
     "status": "completed"
    },
    "tags": []
   },
   "outputs": [],
   "source": [
    "# add_dataset(\n",
    "#     labels=list(range(19)),\n",
    "#     domains = [0,1,2],\n",
    "#     num_examples_per_domain_per_label=100,\n",
    "#     pickle_path=os.path.join(get_datasets_base_path(), \"metehan.stratified_ds.2022A.pkl\"),\n",
    "#     source_or_target_dataset=\"target\",\n",
    "#     x_transform_func=global_x_transform_func,\n",
    "#     domain_modifier=lambda u: f\"met_{u}\"\n",
    "# )"
   ]
  },
  {
   "cell_type": "code",
   "execution_count": 18,
   "id": "86a863c3",
   "metadata": {
    "execution": {
     "iopub.execute_input": "2022-03-25T05:22:34.105941Z",
     "iopub.status.busy": "2022-03-25T05:22:34.105687Z",
     "iopub.status.idle": "2022-03-25T05:22:34.116959Z",
     "shell.execute_reply": "2022-03-25T05:22:34.116480Z"
    },
    "papermill": {
     "duration": 0.026402,
     "end_time": "2022-03-25T05:22:34.117057",
     "exception": false,
     "start_time": "2022-03-25T05:22:34.090655",
     "status": "completed"
    },
    "tags": []
   },
   "outputs": [],
   "source": [
    "# # from steves_utils.wisig.utils import (\n",
    "# #     ALL_NODES_MINIMUM_100_EXAMPLES,\n",
    "# #     ALL_NODES_MINIMUM_500_EXAMPLES,\n",
    "# #     ALL_NODES_MINIMUM_1000_EXAMPLES,\n",
    "# #     ALL_DAYS\n",
    "# # )\n",
    "\n",
    "# import steves_utils.wisig.utils as wisig\n",
    "\n",
    "\n",
    "# add_dataset(\n",
    "#     labels=wisig.ALL_NODES_MINIMUM_100_EXAMPLES,\n",
    "#     domains = wisig.ALL_DAYS,\n",
    "#     num_examples_per_domain_per_label=100,\n",
    "#     pickle_path=os.path.join(get_datasets_base_path(), \"wisig.node3-19.stratified_ds.2022A.pkl\"),\n",
    "#     source_or_target_dataset=\"target\",\n",
    "#     x_transform_func=global_x_transform_func,\n",
    "#     domain_modifier=lambda u: f\"wisig_{u}\"\n",
    "# )"
   ]
  },
  {
   "cell_type": "code",
   "execution_count": 19,
   "id": "fd5442bc",
   "metadata": {
    "execution": {
     "iopub.execute_input": "2022-03-25T05:22:34.150713Z",
     "iopub.status.busy": "2022-03-25T05:22:34.150448Z",
     "iopub.status.idle": "2022-03-25T05:22:34.162864Z",
     "shell.execute_reply": "2022-03-25T05:22:34.162493Z"
    },
    "papermill": {
     "duration": 0.029387,
     "end_time": "2022-03-25T05:22:34.162966",
     "exception": false,
     "start_time": "2022-03-25T05:22:34.133579",
     "status": "completed"
    },
    "tags": []
   },
   "outputs": [],
   "source": [
    "###################################\n",
    "# Build the dataset\n",
    "###################################\n",
    "train_original_source = Iterable_Aggregator(train_original_source, p.seed)\n",
    "val_original_source = Iterable_Aggregator(val_original_source, p.seed)\n",
    "test_original_source = Iterable_Aggregator(test_original_source, p.seed)\n",
    "\n",
    "\n",
    "train_original_target = Iterable_Aggregator(train_original_target, p.seed)\n",
    "val_original_target = Iterable_Aggregator(val_original_target, p.seed)\n",
    "test_original_target = Iterable_Aggregator(test_original_target, p.seed)\n",
    "\n",
    "# For CNN We only use X and Y. And we only train on the source.\n",
    "# Properly form the data using a transform lambda and Lazy_Iterable_Wrapper. Finally wrap them in a dataloader\n",
    "\n",
    "transform_lambda = lambda ex: ex[1] # Original is (<domain>, <episode>) so we strip down to episode only\n",
    "\n",
    "train_processed_source = Lazy_Iterable_Wrapper(train_original_source, transform_lambda)\n",
    "val_processed_source   = Lazy_Iterable_Wrapper(val_original_source, transform_lambda)\n",
    "test_processed_source  = Lazy_Iterable_Wrapper(test_original_source, transform_lambda)\n",
    "\n",
    "train_processed_target = Lazy_Iterable_Wrapper(train_original_target, transform_lambda)\n",
    "val_processed_target   = Lazy_Iterable_Wrapper(val_original_target, transform_lambda)\n",
    "test_processed_target  = Lazy_Iterable_Wrapper(test_original_target, transform_lambda)\n",
    "\n",
    "datasets = EasyDict({\n",
    "    \"source\": {\n",
    "        \"original\": {\"train\":train_original_source, \"val\":val_original_source, \"test\":test_original_source},\n",
    "        \"processed\": {\"train\":train_processed_source, \"val\":val_processed_source, \"test\":test_processed_source}\n",
    "    },\n",
    "    \"target\": {\n",
    "        \"original\": {\"train\":train_original_target, \"val\":val_original_target, \"test\":test_original_target},\n",
    "        \"processed\": {\"train\":train_processed_target, \"val\":val_processed_target, \"test\":test_processed_target}\n",
    "    },\n",
    "})"
   ]
  },
  {
   "cell_type": "code",
   "execution_count": 20,
   "id": "5b3c01fc",
   "metadata": {
    "execution": {
     "iopub.execute_input": "2022-03-25T05:22:34.198560Z",
     "iopub.status.busy": "2022-03-25T05:22:34.198300Z",
     "iopub.status.idle": "2022-03-25T05:22:40.453345Z",
     "shell.execute_reply": "2022-03-25T05:22:40.454065Z"
    },
    "papermill": {
     "duration": 6.27204,
     "end_time": "2022-03-25T05:22:40.454253",
     "exception": false,
     "start_time": "2022-03-25T05:22:34.182213",
     "status": "completed"
    },
    "tags": []
   },
   "outputs": [
    {
     "name": "stdout",
     "output_type": "stream",
     "text": [
      "{'C_4', 'C_2', 'C_5', 'C_3', 'C_1'}\n"
     ]
    },
    {
     "name": "stdout",
     "output_type": "stream",
     "text": [
      "{'O_32', 'O_26', 'O_8', 'O_20', 'O_50', 'O_44', 'O_14', 'O_38'}\n"
     ]
    },
    {
     "name": "stdout",
     "output_type": "stream",
     "text": [
      "tensor([[[ 0.0524, -0.0193,  0.2436,  ...,  0.1261, -1.1505, -0.8458],\n",
      "         [ 0.3658, -0.5304, -1.1658,  ...,  1.1598, -0.8239, -1.3663]],\n",
      "\n",
      "        [[ 0.0572, -0.0221, -0.7478,  ...,  0.2961,  0.6608, -0.0633],\n",
      "         [-0.3457, -0.0359,  0.6875,  ..., -1.3636,  0.1236,  1.9756]],\n",
      "\n",
      "        [[-0.1409, -0.3493,  0.6269,  ..., -0.4303, -1.0715,  0.6828],\n",
      "         [ 0.1875,  0.1808, -0.0702,  ...,  1.1002,  0.2751, -1.4260]],\n",
      "\n",
      "        ...,\n",
      "\n",
      "        [[-0.3109, -0.1287,  0.7943,  ..., -0.1773,  1.2339,  0.9861],\n",
      "         [-0.0049, -0.6825, -0.1384,  ...,  0.1992,  0.1676,  0.4591]],\n",
      "\n",
      "        [[ 0.2955,  0.4468, -0.5694,  ..., -0.1345, -1.1508, -0.8505],\n",
      "         [-0.2114,  0.5405,  0.6438,  ..., -0.0769,  0.7159,  0.1946]],\n",
      "\n",
      "        [[-0.1284, -0.1333,  0.6887,  ..., -1.0195,  0.0987,  0.5900],\n",
      "         [ 0.0469, -0.4048, -0.2592,  ..., -0.2049,  0.2913,  1.2984]]])\n"
     ]
    }
   ],
   "source": [
    "from steves_utils.transforms import get_average_magnitude, get_average_power\n",
    "\n",
    "print(set([u for u,_ in val_original_source]))\n",
    "print(set([u for u,_ in val_original_target]))\n",
    "\n",
    "s_x, s_y, q_x, q_y, _ = next(iter(train_processed_source))\n",
    "print(s_x)\n",
    "\n",
    "# for ds in [\n",
    "#     train_processed_source,\n",
    "#     val_processed_source,\n",
    "#     test_processed_source,\n",
    "#     train_processed_target,\n",
    "#     val_processed_target,\n",
    "#     test_processed_target\n",
    "# ]:\n",
    "#     for s_x, s_y, q_x, q_y, _ in ds:\n",
    "#         for X in (s_x, q_x):\n",
    "#             for x in X:\n",
    "#                 assert np.isclose(get_average_magnitude(x.numpy()), 1.0)\n",
    "#                 assert np.isclose(get_average_power(x.numpy()), 1.0)\n",
    "                "
   ]
  },
  {
   "cell_type": "code",
   "execution_count": 21,
   "id": "bbdacba1",
   "metadata": {
    "execution": {
     "iopub.execute_input": "2022-03-25T05:22:40.490840Z",
     "iopub.status.busy": "2022-03-25T05:22:40.490575Z",
     "iopub.status.idle": "2022-03-25T05:22:40.542484Z",
     "shell.execute_reply": "2022-03-25T05:22:40.542025Z"
    },
    "papermill": {
     "duration": 0.069796,
     "end_time": "2022-03-25T05:22:40.542598",
     "exception": false,
     "start_time": "2022-03-25T05:22:40.472802",
     "status": "completed"
    },
    "tags": []
   },
   "outputs": [
    {
     "name": "stdout",
     "output_type": "stream",
     "text": [
      "(2, 200)\n"
     ]
    }
   ],
   "source": [
    "###################################\n",
    "# Build the model\n",
    "###################################\n",
    "# easfsl only wants a tuple for the shape\n",
    "model = Steves_Prototypical_Network(x_net, device=p.device, x_shape=tuple(p.x_shape))\n",
    "optimizer = Adam(params=model.parameters(), lr=p.lr)"
   ]
  },
  {
   "cell_type": "code",
   "execution_count": 22,
   "id": "22b39ac5",
   "metadata": {
    "execution": {
     "iopub.execute_input": "2022-03-25T05:22:40.578325Z",
     "iopub.status.busy": "2022-03-25T05:22:40.577908Z",
     "iopub.status.idle": "2022-03-25T05:45:51.909356Z",
     "shell.execute_reply": "2022-03-25T05:45:51.909129Z"
    },
    "papermill": {
     "duration": 1391.348301,
     "end_time": "2022-03-25T05:45:51.909413",
     "exception": false,
     "start_time": "2022-03-25T05:22:40.561112",
     "status": "completed"
    },
    "tags": []
   },
   "outputs": [
    {
     "name": "stdout",
     "output_type": "stream",
     "text": [
      "epoch: 1, [batch: 1 / 6316], examples_per_second: 50.9793, train_label_loss: 2.5215, \n"
     ]
    },
    {
     "name": "stdout",
     "output_type": "stream",
     "text": [
      "epoch: 1, [batch: 632 / 6316], examples_per_second: 3634.3333, train_label_loss: 0.0216, \n"
     ]
    },
    {
     "name": "stdout",
     "output_type": "stream",
     "text": [
      "epoch: 1, [batch: 1264 / 6316], examples_per_second: 3628.5520, train_label_loss: 0.0362, \n"
     ]
    },
    {
     "name": "stdout",
     "output_type": "stream",
     "text": [
      "epoch: 1, [batch: 1895 / 6316], examples_per_second: 3648.1849, train_label_loss: 0.0043, \n"
     ]
    },
    {
     "name": "stdout",
     "output_type": "stream",
     "text": [
      "epoch: 1, [batch: 2527 / 6316], examples_per_second: 3617.7141, train_label_loss: 0.0005, \n"
     ]
    },
    {
     "name": "stdout",
     "output_type": "stream",
     "text": [
      "epoch: 1, [batch: 3158 / 6316], examples_per_second: 3617.2318, train_label_loss: 0.0008, \n"
     ]
    },
    {
     "name": "stdout",
     "output_type": "stream",
     "text": [
      "epoch: 1, [batch: 3790 / 6316], examples_per_second: 3611.3904, train_label_loss: 0.0001, \n"
     ]
    },
    {
     "name": "stdout",
     "output_type": "stream",
     "text": [
      "epoch: 1, [batch: 4421 / 6316], examples_per_second: 3600.9110, train_label_loss: 0.0005, \n"
     ]
    },
    {
     "name": "stdout",
     "output_type": "stream",
     "text": [
      "epoch: 1, [batch: 5053 / 6316], examples_per_second: 3591.6690, train_label_loss: 0.0088, \n"
     ]
    },
    {
     "name": "stdout",
     "output_type": "stream",
     "text": [
      "epoch: 1, [batch: 5684 / 6316], examples_per_second: 3620.5464, train_label_loss: 0.0003, \n"
     ]
    },
    {
     "name": "stdout",
     "output_type": "stream",
     "text": [
      "=============================================================\n",
      "epoch: 1, source_val_acc_label: 0.9964, target_val_acc_label: 0.2539, source_val_label_loss: 0.0137, target_val_label_loss: 2.3469, \n",
      "=============================================================\n"
     ]
    },
    {
     "name": "stdout",
     "output_type": "stream",
     "text": [
      "New best\n"
     ]
    },
    {
     "name": "stdout",
     "output_type": "stream",
     "text": [
      "epoch: 2, [batch: 1 / 6296], examples_per_second: 5.4557, train_label_loss: 0.0009, \n"
     ]
    },
    {
     "name": "stdout",
     "output_type": "stream",
     "text": [
      "epoch: 2, [batch: 630 / 6296], examples_per_second: 3596.3078, train_label_loss: 0.1440, \n"
     ]
    },
    {
     "name": "stdout",
     "output_type": "stream",
     "text": [
      "epoch: 2, [batch: 1260 / 6296], examples_per_second: 3634.3030, train_label_loss: 0.0003, \n"
     ]
    },
    {
     "name": "stdout",
     "output_type": "stream",
     "text": [
      "epoch: 2, [batch: 1889 / 6296], examples_per_second: 3637.0322, train_label_loss: 0.0283, \n"
     ]
    },
    {
     "name": "stdout",
     "output_type": "stream",
     "text": [
      "epoch: 2, [batch: 2519 / 6296], examples_per_second: 3609.8931, train_label_loss: 0.0000, \n"
     ]
    },
    {
     "name": "stdout",
     "output_type": "stream",
     "text": [
      "epoch: 2, [batch: 3148 / 6296], examples_per_second: 3623.2741, train_label_loss: 0.0000, \n"
     ]
    },
    {
     "name": "stdout",
     "output_type": "stream",
     "text": [
      "epoch: 2, [batch: 3778 / 6296], examples_per_second: 3636.0152, train_label_loss: 0.0054, \n"
     ]
    },
    {
     "name": "stdout",
     "output_type": "stream",
     "text": [
      "epoch: 2, [batch: 4407 / 6296], examples_per_second: 3610.5347, train_label_loss: 0.0000, \n"
     ]
    },
    {
     "name": "stdout",
     "output_type": "stream",
     "text": [
      "epoch: 2, [batch: 5037 / 6296], examples_per_second: 3634.2299, train_label_loss: 0.0618, \n"
     ]
    },
    {
     "name": "stdout",
     "output_type": "stream",
     "text": [
      "epoch: 2, [batch: 5666 / 6296], examples_per_second: 3639.4818, train_label_loss: 0.0000, \n"
     ]
    },
    {
     "name": "stdout",
     "output_type": "stream",
     "text": [
      "=============================================================\n",
      "epoch: 2, source_val_acc_label: 0.9988, target_val_acc_label: 0.2910, source_val_label_loss: 0.0083, target_val_label_loss: 2.7741, \n",
      "=============================================================\n"
     ]
    },
    {
     "name": "stdout",
     "output_type": "stream",
     "text": [
      "New best\n"
     ]
    },
    {
     "name": "stdout",
     "output_type": "stream",
     "text": [
      "epoch: 3, [batch: 1 / 6299], examples_per_second: 5.4728, train_label_loss: 0.0000, \n"
     ]
    },
    {
     "name": "stdout",
     "output_type": "stream",
     "text": [
      "epoch: 3, [batch: 630 / 6299], examples_per_second: 3619.1084, train_label_loss: 0.0000, \n"
     ]
    },
    {
     "name": "stdout",
     "output_type": "stream",
     "text": [
      "epoch: 3, [batch: 1260 / 6299], examples_per_second: 3627.4945, train_label_loss: 0.0000, \n"
     ]
    },
    {
     "name": "stdout",
     "output_type": "stream",
     "text": [
      "epoch: 3, [batch: 1890 / 6299], examples_per_second: 3635.7905, train_label_loss: 0.0000, \n"
     ]
    },
    {
     "name": "stdout",
     "output_type": "stream",
     "text": [
      "epoch: 3, [batch: 2520 / 6299], examples_per_second: 3620.4900, train_label_loss: 0.0000, \n"
     ]
    },
    {
     "name": "stdout",
     "output_type": "stream",
     "text": [
      "epoch: 3, [batch: 3150 / 6299], examples_per_second: 3625.7813, train_label_loss: 0.0026, \n"
     ]
    },
    {
     "name": "stdout",
     "output_type": "stream",
     "text": [
      "epoch: 3, [batch: 3779 / 6299], examples_per_second: 3618.1657, train_label_loss: 0.0000, \n"
     ]
    },
    {
     "name": "stdout",
     "output_type": "stream",
     "text": [
      "epoch: 3, [batch: 4409 / 6299], examples_per_second: 3610.1031, train_label_loss: 0.0000, \n"
     ]
    },
    {
     "name": "stdout",
     "output_type": "stream",
     "text": [
      "epoch: 3, [batch: 5039 / 6299], examples_per_second: 3637.3143, train_label_loss: 0.0000, \n"
     ]
    },
    {
     "name": "stdout",
     "output_type": "stream",
     "text": [
      "epoch: 3, [batch: 5669 / 6299], examples_per_second: 3627.6624, train_label_loss: 0.0124, \n"
     ]
    },
    {
     "name": "stdout",
     "output_type": "stream",
     "text": [
      "=============================================================\n",
      "epoch: 3, source_val_acc_label: 0.9990, target_val_acc_label: 0.2920, source_val_label_loss: 0.0067, target_val_label_loss: 2.9800, \n",
      "=============================================================\n"
     ]
    },
    {
     "name": "stdout",
     "output_type": "stream",
     "text": [
      "New best\n"
     ]
    },
    {
     "name": "stdout",
     "output_type": "stream",
     "text": [
      "epoch: 4, [batch: 1 / 6316], examples_per_second: 5.4547, train_label_loss: 0.0009, \n"
     ]
    },
    {
     "name": "stdout",
     "output_type": "stream",
     "text": [
      "epoch: 4, [batch: 632 / 6316], examples_per_second: 3588.5028, train_label_loss: 0.0000, \n"
     ]
    },
    {
     "name": "stdout",
     "output_type": "stream",
     "text": [
      "epoch: 4, [batch: 1264 / 6316], examples_per_second: 3621.9053, train_label_loss: 0.0000, \n"
     ]
    },
    {
     "name": "stdout",
     "output_type": "stream",
     "text": [
      "epoch: 4, [batch: 1895 / 6316], examples_per_second: 3631.6101, train_label_loss: 0.0004, \n"
     ]
    },
    {
     "name": "stdout",
     "output_type": "stream",
     "text": [
      "epoch: 4, [batch: 2527 / 6316], examples_per_second: 3614.0564, train_label_loss: 0.0000, \n"
     ]
    },
    {
     "name": "stdout",
     "output_type": "stream",
     "text": [
      "epoch: 4, [batch: 3158 / 6316], examples_per_second: 3630.4987, train_label_loss: 0.0002, \n"
     ]
    },
    {
     "name": "stdout",
     "output_type": "stream",
     "text": [
      "epoch: 4, [batch: 3790 / 6316], examples_per_second: 3637.4351, train_label_loss: 0.0000, \n"
     ]
    },
    {
     "name": "stdout",
     "output_type": "stream",
     "text": [
      "epoch: 4, [batch: 4421 / 6316], examples_per_second: 3619.5292, train_label_loss: 0.0000, \n"
     ]
    },
    {
     "name": "stdout",
     "output_type": "stream",
     "text": [
      "epoch: 4, [batch: 5053 / 6316], examples_per_second: 3630.1528, train_label_loss: 0.0000, \n"
     ]
    },
    {
     "name": "stdout",
     "output_type": "stream",
     "text": [
      "epoch: 4, [batch: 5684 / 6316], examples_per_second: 3620.4538, train_label_loss: 0.0000, \n"
     ]
    },
    {
     "name": "stdout",
     "output_type": "stream",
     "text": [
      "=============================================================\n",
      "epoch: 4, source_val_acc_label: 0.9994, target_val_acc_label: 0.3215, source_val_label_loss: 0.0080, target_val_label_loss: 2.3040, \n",
      "=============================================================\n"
     ]
    },
    {
     "name": "stdout",
     "output_type": "stream",
     "text": [
      "New best\n"
     ]
    },
    {
     "name": "stdout",
     "output_type": "stream",
     "text": [
      "epoch: 5, [batch: 1 / 6313], examples_per_second: 5.4547, train_label_loss: 0.0000, \n"
     ]
    },
    {
     "name": "stdout",
     "output_type": "stream",
     "text": [
      "epoch: 5, [batch: 632 / 6313], examples_per_second: 3604.4135, train_label_loss: 0.0000, \n"
     ]
    },
    {
     "name": "stdout",
     "output_type": "stream",
     "text": [
      "epoch: 5, [batch: 1263 / 6313], examples_per_second: 3635.8678, train_label_loss: 0.0000, \n"
     ]
    },
    {
     "name": "stdout",
     "output_type": "stream",
     "text": [
      "epoch: 5, [batch: 1894 / 6313], examples_per_second: 3635.1239, train_label_loss: 0.0021, \n"
     ]
    },
    {
     "name": "stdout",
     "output_type": "stream",
     "text": [
      "epoch: 5, [batch: 2525 / 6313], examples_per_second: 3614.3829, train_label_loss: 0.0000, \n"
     ]
    },
    {
     "name": "stdout",
     "output_type": "stream",
     "text": [
      "epoch: 5, [batch: 3157 / 6313], examples_per_second: 3623.6618, train_label_loss: 0.0000, \n"
     ]
    },
    {
     "name": "stdout",
     "output_type": "stream",
     "text": [
      "epoch: 5, [batch: 3788 / 6313], examples_per_second: 3628.2793, train_label_loss: 0.0000, \n"
     ]
    },
    {
     "name": "stdout",
     "output_type": "stream",
     "text": [
      "epoch: 5, [batch: 4419 / 6313], examples_per_second: 3615.6123, train_label_loss: 0.0000, \n"
     ]
    },
    {
     "name": "stdout",
     "output_type": "stream",
     "text": [
      "epoch: 5, [batch: 5050 / 6313], examples_per_second: 3630.8120, train_label_loss: 0.0000, \n"
     ]
    },
    {
     "name": "stdout",
     "output_type": "stream",
     "text": [
      "epoch: 5, [batch: 5681 / 6313], examples_per_second: 3629.7067, train_label_loss: 0.0000, \n"
     ]
    },
    {
     "name": "stdout",
     "output_type": "stream",
     "text": [
      "=============================================================\n",
      "epoch: 5, source_val_acc_label: 0.9997, target_val_acc_label: 0.3475, source_val_label_loss: 0.0066, target_val_label_loss: 2.3964, \n",
      "=============================================================\n"
     ]
    },
    {
     "name": "stdout",
     "output_type": "stream",
     "text": [
      "New best\n"
     ]
    },
    {
     "name": "stdout",
     "output_type": "stream",
     "text": [
      "epoch: 6, [batch: 1 / 6307], examples_per_second: 5.4232, train_label_loss: 0.0000, \n"
     ]
    },
    {
     "name": "stdout",
     "output_type": "stream",
     "text": [
      "epoch: 6, [batch: 631 / 6307], examples_per_second: 3620.6538, train_label_loss: 0.0000, \n"
     ]
    },
    {
     "name": "stdout",
     "output_type": "stream",
     "text": [
      "epoch: 6, [batch: 1262 / 6307], examples_per_second: 3623.3663, train_label_loss: 0.0000, \n"
     ]
    },
    {
     "name": "stdout",
     "output_type": "stream",
     "text": [
      "epoch: 6, [batch: 1892 / 6307], examples_per_second: 3628.2294, train_label_loss: 0.0000, \n"
     ]
    },
    {
     "name": "stdout",
     "output_type": "stream",
     "text": [
      "epoch: 6, [batch: 2523 / 6307], examples_per_second: 3622.8439, train_label_loss: 0.0000, \n"
     ]
    },
    {
     "name": "stdout",
     "output_type": "stream",
     "text": [
      "epoch: 6, [batch: 3154 / 6307], examples_per_second: 3631.1395, train_label_loss: 0.0000, \n"
     ]
    },
    {
     "name": "stdout",
     "output_type": "stream",
     "text": [
      "epoch: 6, [batch: 3784 / 6307], examples_per_second: 3642.4012, train_label_loss: 0.0000, \n"
     ]
    },
    {
     "name": "stdout",
     "output_type": "stream",
     "text": [
      "epoch: 6, [batch: 4415 / 6307], examples_per_second: 3621.5452, train_label_loss: 0.0000, \n"
     ]
    },
    {
     "name": "stdout",
     "output_type": "stream",
     "text": [
      "epoch: 6, [batch: 5045 / 6307], examples_per_second: 3631.3328, train_label_loss: 0.0000, \n"
     ]
    },
    {
     "name": "stdout",
     "output_type": "stream",
     "text": [
      "epoch: 6, [batch: 5676 / 6307], examples_per_second: 3629.5474, train_label_loss: 0.0000, \n"
     ]
    },
    {
     "name": "stdout",
     "output_type": "stream",
     "text": [
      "=============================================================\n",
      "epoch: 6, source_val_acc_label: 0.9992, target_val_acc_label: 0.2905, source_val_label_loss: 0.0087, target_val_label_loss: 3.6217, \n",
      "=============================================================\n"
     ]
    },
    {
     "name": "stdout",
     "output_type": "stream",
     "text": [
      "epoch: 7, [batch: 1 / 6303], examples_per_second: 5.4499, train_label_loss: 0.0000, \n"
     ]
    },
    {
     "name": "stdout",
     "output_type": "stream",
     "text": [
      "epoch: 7, [batch: 631 / 6303], examples_per_second: 3623.4056, train_label_loss: 0.0000, \n"
     ]
    },
    {
     "name": "stdout",
     "output_type": "stream",
     "text": [
      "epoch: 7, [batch: 1261 / 6303], examples_per_second: 3624.8369, train_label_loss: 0.0000, \n"
     ]
    },
    {
     "name": "stdout",
     "output_type": "stream",
     "text": [
      "epoch: 7, [batch: 1891 / 6303], examples_per_second: 3631.6000, train_label_loss: 0.0000, \n"
     ]
    },
    {
     "name": "stdout",
     "output_type": "stream",
     "text": [
      "epoch: 7, [batch: 2521 / 6303], examples_per_second: 3620.2649, train_label_loss: 0.0000, \n"
     ]
    },
    {
     "name": "stdout",
     "output_type": "stream",
     "text": [
      "epoch: 7, [batch: 3152 / 6303], examples_per_second: 3628.4770, train_label_loss: 0.0000, \n"
     ]
    },
    {
     "name": "stdout",
     "output_type": "stream",
     "text": [
      "epoch: 7, [batch: 3782 / 6303], examples_per_second: 3640.8948, train_label_loss: 0.0000, \n"
     ]
    },
    {
     "name": "stdout",
     "output_type": "stream",
     "text": [
      "epoch: 7, [batch: 4412 / 6303], examples_per_second: 3623.9579, train_label_loss: 0.0000, \n"
     ]
    },
    {
     "name": "stdout",
     "output_type": "stream",
     "text": [
      "epoch: 7, [batch: 5042 / 6303], examples_per_second: 3633.3519, train_label_loss: 0.0000, \n"
     ]
    },
    {
     "name": "stdout",
     "output_type": "stream",
     "text": [
      "epoch: 7, [batch: 5672 / 6303], examples_per_second: 3636.7308, train_label_loss: 0.0000, \n"
     ]
    },
    {
     "name": "stdout",
     "output_type": "stream",
     "text": [
      "=============================================================\n",
      "epoch: 7, source_val_acc_label: 0.9994, target_val_acc_label: 0.2922, source_val_label_loss: 0.0081, target_val_label_loss: 3.2355, \n",
      "=============================================================\n"
     ]
    },
    {
     "name": "stdout",
     "output_type": "stream",
     "text": [
      "epoch: 8, [batch: 1 / 6292], examples_per_second: 5.4579, train_label_loss: 0.0000, \n"
     ]
    },
    {
     "name": "stdout",
     "output_type": "stream",
     "text": [
      "epoch: 8, [batch: 630 / 6292], examples_per_second: 3604.2637, train_label_loss: 0.0000, \n"
     ]
    },
    {
     "name": "stdout",
     "output_type": "stream",
     "text": [
      "epoch: 8, [batch: 1259 / 6292], examples_per_second: 3614.9964, train_label_loss: 0.0000, \n"
     ]
    },
    {
     "name": "stdout",
     "output_type": "stream",
     "text": [
      "epoch: 8, [batch: 1888 / 6292], examples_per_second: 3614.9199, train_label_loss: 0.0000, \n"
     ]
    },
    {
     "name": "stdout",
     "output_type": "stream",
     "text": [
      "epoch: 8, [batch: 2517 / 6292], examples_per_second: 3628.9546, train_label_loss: 0.0000, \n"
     ]
    },
    {
     "name": "stdout",
     "output_type": "stream",
     "text": [
      "epoch: 8, [batch: 3146 / 6292], examples_per_second: 3637.3001, train_label_loss: 0.0000, \n"
     ]
    },
    {
     "name": "stdout",
     "output_type": "stream",
     "text": [
      "epoch: 8, [batch: 3775 / 6292], examples_per_second: 3627.4807, train_label_loss: 0.0000, \n"
     ]
    },
    {
     "name": "stdout",
     "output_type": "stream",
     "text": [
      "epoch: 8, [batch: 4404 / 6292], examples_per_second: 3614.5571, train_label_loss: 0.0000, \n"
     ]
    },
    {
     "name": "stdout",
     "output_type": "stream",
     "text": [
      "epoch: 8, [batch: 5033 / 6292], examples_per_second: 3622.0264, train_label_loss: 0.0000, \n"
     ]
    },
    {
     "name": "stdout",
     "output_type": "stream",
     "text": [
      "epoch: 8, [batch: 5662 / 6292], examples_per_second: 3625.0848, train_label_loss: 0.0000, \n"
     ]
    },
    {
     "name": "stdout",
     "output_type": "stream",
     "text": [
      "=============================================================\n",
      "epoch: 8, source_val_acc_label: 0.9994, target_val_acc_label: 0.2548, source_val_label_loss: 0.0086, target_val_label_loss: 4.1493, \n",
      "=============================================================\n"
     ]
    },
    {
     "name": "stdout",
     "output_type": "stream",
     "text": [
      "epoch: 9, [batch: 1 / 6305], examples_per_second: 5.4548, train_label_loss: 0.0000, \n"
     ]
    },
    {
     "name": "stdout",
     "output_type": "stream",
     "text": [
      "epoch: 9, [batch: 631 / 6305], examples_per_second: 3587.9044, train_label_loss: 0.0000, \n"
     ]
    },
    {
     "name": "stdout",
     "output_type": "stream",
     "text": [
      "epoch: 9, [batch: 1261 / 6305], examples_per_second: 3599.0565, train_label_loss: 0.0000, \n"
     ]
    },
    {
     "name": "stdout",
     "output_type": "stream",
     "text": [
      "epoch: 9, [batch: 1892 / 6305], examples_per_second: 3633.5396, train_label_loss: 0.0000, \n"
     ]
    },
    {
     "name": "stdout",
     "output_type": "stream",
     "text": [
      "epoch: 9, [batch: 2522 / 6305], examples_per_second: 3614.0410, train_label_loss: 0.0000, \n"
     ]
    },
    {
     "name": "stdout",
     "output_type": "stream",
     "text": [
      "epoch: 9, [batch: 3153 / 6305], examples_per_second: 3632.1856, train_label_loss: 0.0000, \n"
     ]
    },
    {
     "name": "stdout",
     "output_type": "stream",
     "text": [
      "epoch: 9, [batch: 3783 / 6305], examples_per_second: 3628.2586, train_label_loss: 0.0000, \n"
     ]
    },
    {
     "name": "stdout",
     "output_type": "stream",
     "text": [
      "epoch: 9, [batch: 4413 / 6305], examples_per_second: 3608.9058, train_label_loss: 0.0000, \n"
     ]
    },
    {
     "name": "stdout",
     "output_type": "stream",
     "text": [
      "epoch: 9, [batch: 5044 / 6305], examples_per_second: 3621.6486, train_label_loss: 0.0000, \n"
     ]
    },
    {
     "name": "stdout",
     "output_type": "stream",
     "text": [
      "epoch: 9, [batch: 5674 / 6305], examples_per_second: 3630.7031, train_label_loss: 0.0000, \n"
     ]
    },
    {
     "name": "stdout",
     "output_type": "stream",
     "text": [
      "=============================================================\n",
      "epoch: 9, source_val_acc_label: 0.9996, target_val_acc_label: 0.3467, source_val_label_loss: 0.0072, target_val_label_loss: 3.0814, \n",
      "=============================================================\n"
     ]
    },
    {
     "name": "stdout",
     "output_type": "stream",
     "text": [
      "Patience (3) exhausted\n"
     ]
    }
   ],
   "source": [
    "###################################\n",
    "# train\n",
    "###################################\n",
    "jig = PTN_Train_Eval_Test_Jig(model, p.BEST_MODEL_PATH, p.device)\n",
    "\n",
    "jig.train(\n",
    "    train_iterable=datasets.source.processed.train,\n",
    "    source_val_iterable=datasets.source.processed.val,\n",
    "    target_val_iterable=datasets.target.processed.val,\n",
    "    num_epochs=p.n_epoch,\n",
    "    num_logs_per_epoch=p.NUM_LOGS_PER_EPOCH,\n",
    "    patience=p.patience,\n",
    "    optimizer=optimizer,\n",
    "    criteria_for_best=p.criteria_for_best,\n",
    ")"
   ]
  },
  {
   "cell_type": "code",
   "execution_count": 23,
   "id": "31e8fabf",
   "metadata": {
    "execution": {
     "iopub.execute_input": "2022-03-25T05:45:51.976897Z",
     "iopub.status.busy": "2022-03-25T05:45:51.976605Z",
     "iopub.status.idle": "2022-03-25T05:45:51.995911Z",
     "shell.execute_reply": "2022-03-25T05:45:51.995546Z"
    },
    "papermill": {
     "duration": 0.054415,
     "end_time": "2022-03-25T05:45:51.996003",
     "exception": false,
     "start_time": "2022-03-25T05:45:51.941588",
     "status": "completed"
    },
    "tags": []
   },
   "outputs": [],
   "source": [
    "total_experiment_time_secs = time.time() - start_time_secs"
   ]
  },
  {
   "cell_type": "code",
   "execution_count": 24,
   "id": "87b9595b",
   "metadata": {
    "execution": {
     "iopub.execute_input": "2022-03-25T05:45:52.070367Z",
     "iopub.status.busy": "2022-03-25T05:45:52.070101Z",
     "iopub.status.idle": "2022-03-25T05:47:23.430132Z",
     "shell.execute_reply": "2022-03-25T05:47:23.430530Z"
    },
    "papermill": {
     "duration": 91.397765,
     "end_time": "2022-03-25T05:47:23.430662",
     "exception": false,
     "start_time": "2022-03-25T05:45:52.032897",
     "status": "completed"
    },
    "tags": []
   },
   "outputs": [],
   "source": [
    "###################################\n",
    "# Evaluate the model\n",
    "###################################\n",
    "source_test_label_accuracy, source_test_label_loss = jig.test(datasets.source.processed.test)\n",
    "target_test_label_accuracy, target_test_label_loss = jig.test(datasets.target.processed.test)\n",
    "\n",
    "source_val_label_accuracy, source_val_label_loss = jig.test(datasets.source.processed.val)\n",
    "target_val_label_accuracy, target_val_label_loss = jig.test(datasets.target.processed.val)\n",
    "\n",
    "history = jig.get_history()\n",
    "\n",
    "total_epochs_trained = len(history[\"epoch_indices\"])\n",
    "\n",
    "val_dl = Iterable_Aggregator((datasets.source.original.val,datasets.target.original.val))\n",
    "\n",
    "confusion = ptn_confusion_by_domain_over_dataloader(model, p.device, val_dl)\n",
    "per_domain_accuracy = per_domain_accuracy_from_confusion(confusion)\n",
    "\n",
    "# Add a key to per_domain_accuracy for if it was a source domain\n",
    "for domain, accuracy in per_domain_accuracy.items():\n",
    "    per_domain_accuracy[domain] = {\n",
    "        \"accuracy\": accuracy,\n",
    "        \"source?\": domain in p.domains_source\n",
    "    }\n",
    "\n",
    "# Do an independent accuracy assesment JUST TO BE SURE!\n",
    "# _source_test_label_accuracy = independent_accuracy_assesment(model, datasets.source.processed.test, p.device)\n",
    "# _target_test_label_accuracy = independent_accuracy_assesment(model, datasets.target.processed.test, p.device)\n",
    "# _source_val_label_accuracy = independent_accuracy_assesment(model, datasets.source.processed.val, p.device)\n",
    "# _target_val_label_accuracy = independent_accuracy_assesment(model, datasets.target.processed.val, p.device)\n",
    "\n",
    "# assert(_source_test_label_accuracy == source_test_label_accuracy)\n",
    "# assert(_target_test_label_accuracy == target_test_label_accuracy)\n",
    "# assert(_source_val_label_accuracy == source_val_label_accuracy)\n",
    "# assert(_target_val_label_accuracy == target_val_label_accuracy)\n",
    "\n",
    "experiment = {\n",
    "    \"experiment_name\": p.experiment_name,\n",
    "    \"parameters\": dict(p),\n",
    "    \"results\": {\n",
    "        \"source_test_label_accuracy\": source_test_label_accuracy,\n",
    "        \"source_test_label_loss\": source_test_label_loss,\n",
    "        \"target_test_label_accuracy\": target_test_label_accuracy,\n",
    "        \"target_test_label_loss\": target_test_label_loss,\n",
    "        \"source_val_label_accuracy\": source_val_label_accuracy,\n",
    "        \"source_val_label_loss\": source_val_label_loss,\n",
    "        \"target_val_label_accuracy\": target_val_label_accuracy,\n",
    "        \"target_val_label_loss\": target_val_label_loss,\n",
    "        \"total_epochs_trained\": total_epochs_trained,\n",
    "        \"total_experiment_time_secs\": total_experiment_time_secs,\n",
    "        \"confusion\": confusion,\n",
    "        \"per_domain_accuracy\": per_domain_accuracy,\n",
    "    },\n",
    "    \"history\": history,\n",
    "    \"dataset_metrics\": get_dataset_metrics(datasets, \"ptn\"),\n",
    "}"
   ]
  },
  {
   "cell_type": "code",
   "execution_count": 25,
   "id": "54a21829",
   "metadata": {
    "execution": {
     "iopub.execute_input": "2022-03-25T05:47:23.504233Z",
     "iopub.status.busy": "2022-03-25T05:47:23.503980Z",
     "iopub.status.idle": "2022-03-25T05:47:23.625633Z",
     "shell.execute_reply": "2022-03-25T05:47:23.626016Z"
    },
    "papermill": {
     "duration": 0.157145,
     "end_time": "2022-03-25T05:47:23.626127",
     "exception": false,
     "start_time": "2022-03-25T05:47:23.468982",
     "status": "completed"
    },
    "tags": []
   },
   "outputs": [
    {
     "data": {
      "image/png": "[encoded data removed]",
      "text/plain": [
       "<Figure size 1080x504 with 1 Axes>"
      ]
     },
     "metadata": {
      "needs_background": "light"
     },
     "output_type": "display_data"
    }
   ],
   "source": [
    "ax = get_loss_curve(experiment)\n",
    "plt.show()"
   ]
  },
  {
   "cell_type": "code",
   "execution_count": 26,
   "id": "fd8a0f60",
   "metadata": {
    "execution": {
     "iopub.execute_input": "2022-03-25T05:47:23.699430Z",
     "iopub.status.busy": "2022-03-25T05:47:23.699180Z",
     "iopub.status.idle": "2022-03-25T05:47:23.841842Z",
     "shell.execute_reply": "2022-03-25T05:47:23.842140Z"
    },
    "papermill": {
     "duration": 0.17855,
     "end_time": "2022-03-25T05:47:23.842228",
     "exception": false,
     "start_time": "2022-03-25T05:47:23.663678",
     "status": "completed"
    },
    "tags": []
   },
   "outputs": [
    {
     "data": {
      "text/plain": [
       "<AxesSubplot:title={'center':'Results'}>"
      ]
     },
     "execution_count": 26,
     "metadata": {},
     "output_type": "execute_result"
    },
    {
     "data": {
      "image/png": "[encoded data removed]",
      "text/plain": [
       "<Figure size 1080x504 with 1 Axes>"
      ]
     },
     "metadata": {
      "needs_background": "light"
     },
     "output_type": "display_data"
    }
   ],
   "source": [
    "get_results_table(experiment)"
   ]
  },
  {
   "cell_type": "code",
   "execution_count": 27,
   "id": "cf8dc689",
   "metadata": {
    "execution": {
     "iopub.execute_input": "2022-03-25T05:47:23.926465Z",
     "iopub.status.busy": "2022-03-25T05:47:23.926212Z",
     "iopub.status.idle": "2022-03-25T05:47:24.062493Z",
     "shell.execute_reply": "2022-03-25T05:47:24.062028Z"
    },
    "papermill": {
     "duration": 0.173048,
     "end_time": "2022-03-25T05:47:24.062589",
     "exception": false,
     "start_time": "2022-03-25T05:47:23.889541",
     "status": "completed"
    },
    "tags": []
   },
   "outputs": [
    {
     "data": {
      "text/plain": [
       "<AxesSubplot:title={'center':'Per Domain Validation Accuracy'}, xlabel='domain'>"
      ]
     },
     "execution_count": 27,
     "metadata": {},
     "output_type": "execute_result"
    },
    {
     "data": {
      "image/png": "[encoded data removed]",
      "text/plain": [
       "<Figure size 1080x504 with 1 Axes>"
      ]
     },
     "metadata": {
      "needs_background": "light"
     },
     "output_type": "display_data"
    }
   ],
   "source": [
    "get_domain_accuracies(experiment)"
   ]
  },
  {
   "cell_type": "code",
   "execution_count": 28,
   "id": "a74ae082",
   "metadata": {
    "execution": {
     "iopub.execute_input": "2022-03-25T05:47:24.142344Z",
     "iopub.status.busy": "2022-03-25T05:47:24.142087Z",
     "iopub.status.idle": "2022-03-25T05:47:24.157809Z",
     "shell.execute_reply": "2022-03-25T05:47:24.158174Z"
    },
    "papermill": {
     "duration": 0.054505,
     "end_time": "2022-03-25T05:47:24.158282",
     "exception": false,
     "start_time": "2022-03-25T05:47:24.103777",
     "status": "completed"
    },
    "tags": []
   },
   "outputs": [
    {
     "name": "stdout",
     "output_type": "stream",
     "text": [
      "Source Test Label Accuracy: 0.9994703389830508 Target Test Label Accuracy: 0.35201822916666664\n",
      "Source Val Label Accuracy: 0.9996785714285714 Target Val Label Accuracy: 0.3475260416666667\n"
     ]
    }
   ],
   "source": [
    "print(\"Source Test Label Accuracy:\", experiment[\"results\"][\"source_test_label_accuracy\"], \"Target Test Label Accuracy:\", experiment[\"results\"][\"target_test_label_accuracy\"])\n",
    "print(\"Source Val Label Accuracy:\", experiment[\"results\"][\"source_val_label_accuracy\"], \"Target Val Label Accuracy:\", experiment[\"results\"][\"target_val_label_accuracy\"])"
   ]
  },
  {
   "cell_type": "code",
   "execution_count": 29,
   "id": "dacca602",
   "metadata": {
    "execution": {
     "iopub.execute_input": "2022-03-25T05:47:24.235666Z",
     "iopub.status.busy": "2022-03-25T05:47:24.235416Z",
     "iopub.status.idle": "2022-03-25T05:47:24.248461Z",
     "shell.execute_reply": "2022-03-25T05:47:24.248833Z"
    },
    "papermill": {
     "duration": 0.050697,
     "end_time": "2022-03-25T05:47:24.248940",
     "exception": false,
     "start_time": "2022-03-25T05:47:24.198243",
     "status": "completed"
    },
    "tags": [
     "experiment_json"
    ]
   },
   "outputs": [
    {
     "data": {
      "text/plain": [
       "'{\"experiment_name\": \"tl_3Av2:cores -> oracle.run1.framed\", \"parameters\": {\"experiment_name\": \"tl_3Av2:cores -> oracle.run1.framed\", \"device\": \"cuda\", \"lr\": 0.0001, \"x_shape\": [2, 200], \"n_shot\": 3, \"n_query\": 2, \"train_k_factor\": 3, \"val_k_factor\": 2, \"test_k_factor\": 2, \"torch_default_dtype\": \"torch.float32\", \"n_epoch\": 50, \"patience\": 3, \"criteria_for_best\": \"target_accuracy\", \"x_net\": [{\"class\": \"nnReshape\", \"kargs\": {\"shape\": [-1, 1, 2, 200]}}, {\"class\": \"Conv2d\", \"kargs\": {\"in_channels\": 1, \"out_channels\": 256, \"kernel_size\": [1, 7], \"bias\": false, \"padding\": [0, 3]}}, {\"class\": \"ReLU\", \"kargs\": {\"inplace\": true}}, {\"class\": \"BatchNorm2d\", \"kargs\": {\"num_features\": 256}}, {\"class\": \"Conv2d\", \"kargs\": {\"in_channels\": 256, \"out_channels\": 80, \"kernel_size\": [2, 7], \"bias\": true, \"padding\": [0, 3]}}, {\"class\": \"ReLU\", \"kargs\": {\"inplace\": true}}, {\"class\": \"BatchNorm2d\", \"kargs\": {\"num_features\": 80}}, {\"class\": \"Flatten\", \"kargs\": {}}, {\"class\": \"Linear\", \"kargs\": {\"in_features\": 16000, \"out_features\": 256}}, {\"class\": \"ReLU\", \"kargs\": {\"inplace\": true}}, {\"class\": \"BatchNorm1d\", \"kargs\": {\"num_features\": 256}}, {\"class\": \"Linear\", \"kargs\": {\"in_features\": 256, \"out_features\": 256}}], \"NUM_LOGS_PER_EPOCH\": 10, \"BEST_MODEL_PATH\": \"./best_model.pth\", \"n_way\": 16, \"datasets\": [{\"labels\": [\"1-10.\", \"1-11.\", \"1-15.\", \"1-16.\", \"1-17.\", \"1-18.\", \"1-19.\", \"10-4.\", \"10-7.\", \"11-1.\", \"11-14.\", \"11-17.\", \"11-20.\", \"11-7.\", \"13-20.\", \"13-8.\", \"14-10.\", \"14-11.\", \"14-14.\", \"14-7.\", \"15-1.\", \"15-20.\", \"16-1.\", \"16-16.\", \"17-10.\", \"17-11.\", \"17-2.\", \"19-1.\", \"19-16.\", \"19-19.\", \"19-20.\", \"19-3.\", \"2-10.\", \"2-11.\", \"2-17.\", \"2-18.\", \"2-20.\", \"2-3.\", \"2-4.\", \"2-5.\", \"2-6.\", \"2-7.\", \"2-8.\", \"3-13.\", \"3-18.\", \"3-3.\", \"4-1.\", \"4-10.\", \"4-11.\", \"4-19.\", \"5-5.\", \"6-15.\", \"7-10.\", \"7-14.\", \"8-18.\", \"8-20.\", \"8-3.\", \"8-8.\"], \"domains\": [1, 2, 3, 4, 5], \"num_examples_per_domain_per_label\": -1, \"pickle_path\": \"/mnt/wd500GB/CSC500/csc500-main/datasets/cores.stratified_ds.2022A.pkl\", \"source_or_target_dataset\": \"source\", \"x_transforms\": [\"unit_power\", \"take_200\"], \"episode_transforms\": [], \"domain_prefix\": \"C_\"}, {\"labels\": [\"3123D52\", \"3123D65\", \"3123D79\", \"3123D80\", \"3123D54\", \"3123D70\", \"3123D7B\", \"3123D89\", \"3123D58\", \"3123D76\", \"3123D7D\", \"3123EFE\", \"3123D64\", \"3123D78\", \"3123D7E\", \"3124E4A\"], \"domains\": [32, 38, 8, 44, 14, 50, 20, 26], \"num_examples_per_domain_per_label\": 2000, \"pickle_path\": \"/mnt/wd500GB/CSC500/csc500-main/datasets/oracle.Run1_framed_2000Examples_stratified_ds.2022A.pkl\", \"source_or_target_dataset\": \"target\", \"x_transforms\": [\"unit_power\", \"take_200\", \"resample_20Msps_to_25Msps\"], \"episode_transforms\": [], \"domain_prefix\": \"O_\"}], \"seed\": 7, \"dataset_seed\": 7, \"domains_source\": [\"C_1\", \"C_2\", \"C_3\", \"C_4\", \"C_5\"], \"domains_target\": [\"O_32\", \"O_38\", \"O_8\", \"O_44\", \"O_14\", \"O_50\", \"O_20\", \"O_26\"]}, \"results\": {\"source_test_label_accuracy\": 0.9994703389830508, \"source_test_label_loss\": 0.005993260070681572, \"target_test_label_accuracy\": 0.35201822916666664, \"target_test_label_loss\": 2.3824620246887207, \"source_val_label_accuracy\": 0.9996785714285714, \"source_val_label_loss\": 0.006550895981490612, \"target_val_label_accuracy\": 0.3475260416666667, \"target_val_label_loss\": 2.396421432495117, \"total_epochs_trained\": 9, \"total_experiment_time_secs\": 1448.6191756725311, \"confusion\": {\"C_5\": {\"26\": {\"26\": 24}, \"7\": {\"7\": 32}, \"56\": {\"56\": 142}, \"36\": {\"36\": 92}, \"47\": {\"47\": 100}, \"2\": {\"2\": 28}, \"15\": {\"15\": 152}, \"14\": {\"14\": 44}, \"27\": {\"27\": 146}, \"40\": {\"40\": 124}, \"49\": {\"49\": 36}, \"45\": {\"45\": 123, \"17\": 1}, \"46\": {\"46\": 136}, \"11\": {\"11\": 130}, \"30\": {\"30\": 112}, \"0\": {\"0\": 124}, \"10\": {\"10\": 68}, \"1\": {\"1\": 147, \"48\": 1}, \"42\": {\"42\": 38, \"3\": 2}, \"54\": {\"54\": 112}, \"55\": {\"55\": 152}, \"23\": {\"23\": 124}, \"25\": {\"25\": 152}, \"28\": {\"28\": 32}, \"32\": {\"32\": 32}, \"9\": {\"9\": 142}, \"39\": {\"39\": 20}, \"3\": {\"3\": 100}, \"29\": {\"29\": 118}, \"17\": {\"17\": 116}, \"35\": {\"35\": 36}, \"44\": {\"44\": 152}, \"5\": {\"5\": 128}, \"33\": {\"33\": 32}, \"34\": {\"34\": 36}, \"13\": {\"13\": 138}, \"41\": {\"41\": 28}, \"6\": {\"6\": 128}, \"51\": {\"51\": 138}, \"50\": {\"50\": 144}, \"37\": {\"37\": 24}, \"19\": {\"19\": 144}, \"57\": {\"57\": 132}, \"21\": {\"21\": 144}, \"24\": {\"24\": 80}, \"8\": {\"8\": 130}, \"12\": {\"12\": 96}, \"48\": {\"48\": 132}, \"43\": {\"43\": 150}, \"53\": {\"53\": 148}, \"38\": {\"38\": 32}, \"16\": {\"16\": 142}, \"22\": {\"22\": 28}, \"4\": {\"4\": 100}, \"18\": {\"18\": 64}, \"20\": {\"20\": 144}, \"52\": {\"52\": 140}, \"31\": {\"31\": 36}}, \"C_1\": {\"41\": {\"41\": 24}, \"40\": {\"40\": 110}, \"45\": {\"45\": 138}, \"51\": {\"51\": 148}, \"5\": {\"5\": 154}, \"30\": {\"30\": 120}, \"42\": {\"42\": 40}, \"46\": {\"46\": 136}, \"48\": {\"48\": 134}, \"53\": {\"53\": 144}, \"47\": {\"47\": 152}, \"49\": {\"49\": 32}, \"36\": {\"36\": 64}, \"32\": {\"32\": 32}, \"34\": {\"34\": 24}, \"29\": {\"29\": 140}, \"35\": {\"35\": 36}, \"3\": {\"3\": 134}, \"16\": {\"16\": 140}, \"26\": {\"26\": 24}, \"57\": {\"57\": 144}, \"44\": {\"44\": 128}, \"0\": {\"0\": 152}, \"4\": {\"4\": 132}, \"31\": {\"31\": 28}, \"11\": {\"11\": 140}, \"6\": {\"6\": 96}, \"54\": {\"54\": 104}, \"17\": {\"17\": 64}, \"20\": {\"20\": 128}, \"13\": {\"13\": 150}, \"33\": {\"33\": 32}, \"24\": {\"24\": 108}, \"52\": {\"52\": 132}, \"2\": {\"2\": 36}, \"19\": {\"19\": 156}, \"39\": {\"39\": 28}, \"8\": {\"8\": 140}, \"21\": {\"21\": 124}, \"10\": {\"10\": 96}, \"37\": {\"37\": 32}, \"25\": {\"25\": 144}, \"27\": {\"27\": 130}, \"23\": {\"23\": 136}, \"1\": {\"1\": 100}, \"50\": {\"50\": 152}, \"12\": {\"12\": 116}, \"18\": {\"18\": 72}, \"38\": {\"38\": 24}, \"14\": {\"14\": 24}, \"56\": {\"56\": 142}, \"55\": {\"55\": 160}, \"9\": {\"9\": 138}, \"15\": {\"15\": 146}, \"28\": {\"28\": 28}, \"7\": {\"7\": 28}, \"43\": {\"43\": 136}, \"22\": {\"22\": 135, \"24\": 1}}, \"C_3\": {\"1\": {\"1\": 100}, \"9\": {\"9\": 124}, \"22\": {\"22\": 136}, \"43\": {\"43\": 136}, \"49\": {\"49\": 20}, \"50\": {\"50\": 138}, \"53\": {\"53\": 136}, \"10\": {\"10\": 64}, \"48\": {\"48\": 116}, \"8\": {\"8\": 138}, \"31\": {\"31\": 28}, \"56\": {\"56\": 134}, \"25\": {\"25\": 142}, \"28\": {\"28\": 28}, \"38\": {\"38\": 28}, \"5\": {\"5\": 116}, \"12\": {\"12\": 92}, \"6\": {\"6\": 88}, \"19\": {\"19\": 152}, \"26\": {\"26\": 24}, \"32\": {\"32\": 28}, \"33\": {\"33\": 28}, \"3\": {\"3\": 118}, \"51\": {\"51\": 128}, \"16\": {\"16\": 138}, \"46\": {\"46\": 140}, \"7\": {\"7\": 36}, \"47\": {\"47\": 92}, \"39\": {\"39\": 16}, \"40\": {\"40\": 136}, \"14\": {\"14\": 40}, \"37\": {\"37\": 28}, \"2\": {\"2\": 32}, \"21\": {\"21\": 120}, \"35\": {\"35\": 28}, \"54\": {\"54\": 100}, \"52\": {\"52\": 116}, \"29\": {\"29\": 118}, \"20\": {\"20\": 132}, \"18\": {\"18\": 84}, \"11\": {\"11\": 142}, \"0\": {\"0\": 124}, \"36\": {\"36\": 100}, \"17\": {\"17\": 108}, \"30\": {\"30\": 114}, \"42\": {\"42\": 28}, \"45\": {\"45\": 59, \"33\": 1}, \"4\": {\"4\": 148}, \"23\": {\"23\": 134}, \"13\": {\"13\": 128}, \"15\": {\"15\": 128}, \"57\": {\"57\": 124}, \"27\": {\"27\": 134}, \"44\": {\"44\": 88}, \"34\": {\"34\": 32}, \"41\": {\"41\": 28}, \"24\": {\"24\": 104}, \"55\": {\"55\": 118}}, \"C_4\": {\"52\": {\"52\": 116}, \"6\": {\"6\": 112}, \"14\": {\"14\": 16}, \"49\": {\"49\": 20}, \"0\": {\"0\": 80}, \"46\": {\"46\": 156}, \"41\": {\"41\": 36}, \"24\": {\"24\": 56}, \"25\": {\"25\": 152}, \"40\": {\"40\": 138}, \"38\": {\"38\": 40}, \"13\": {\"13\": 152}, \"9\": {\"9\": 108}, \"45\": {\"45\": 96}, \"43\": {\"43\": 144}, \"10\": {\"10\": 130}, \"15\": {\"15\": 128}, \"39\": {\"39\": 20}, \"4\": {\"4\": 132}, \"53\": {\"53\": 132}, \"1\": {\"1\": 40}, \"28\": {\"28\": 32}, \"54\": {\"54\": 108}, \"21\": {\"21\": 132}, \"7\": {\"7\": 24}, \"8\": {\"8\": 136}, \"42\": {\"42\": 32}, \"11\": {\"11\": 104}, \"33\": {\"33\": 36}, \"27\": {\"27\": 142}, \"19\": {\"19\": 144}, \"2\": {\"2\": 36}, \"3\": {\"3\": 120}, \"57\": {\"57\": 100}, \"20\": {\"20\": 112}, \"23\": {\"23\": 128}, \"22\": {\"22\": 128}, \"29\": {\"29\": 124}, \"36\": {\"36\": 92}, \"51\": {\"51\": 132}, \"31\": {\"31\": 28}, \"12\": {\"12\": 92}, \"56\": {\"56\": 138}, \"5\": {\"5\": 108}, \"35\": {\"35\": 40}, \"17\": {\"17\": 80}, \"32\": {\"32\": 24}, \"47\": {\"47\": 120}, \"18\": {\"18\": 107, \"22\": 1}, \"26\": {\"26\": 24}, \"50\": {\"50\": 122}, \"55\": {\"55\": 124}, \"34\": {\"34\": 24}, \"30\": {\"30\": 43, \"12\": 1}, \"37\": {\"37\": 24}, \"44\": {\"44\": 132}, \"48\": {\"48\": 118}, \"16\": {\"16\": 96}}, \"C_2\": {\"11\": {\"11\": 130}, \"21\": {\"21\": 120}, \"19\": {\"19\": 140}, \"20\": {\"20\": 128}, \"9\": {\"9\": 140}, \"10\": {\"10\": 112}, \"37\": {\"37\": 36}, \"32\": {\"32\": 28}, \"3\": {\"3\": 92}, \"39\": {\"39\": 28}, \"45\": {\"45\": 128}, \"50\": {\"50\": 136}, \"40\": {\"40\": 140}, \"46\": {\"46\": 128}, \"12\": {\"12\": 92}, \"13\": {\"13\": 116}, \"47\": {\"47\": 132}, \"15\": {\"15\": 142}, \"54\": {\"54\": 108}, \"48\": {\"48\": 148}, \"23\": {\"23\": 142}, \"29\": {\"29\": 128}, \"38\": {\"38\": 20}, \"53\": {\"53\": 136}, \"27\": {\"27\": 150}, \"43\": {\"43\": 144}, \"35\": {\"35\": 32}, \"0\": {\"0\": 48}, \"52\": {\"52\": 124}, \"8\": {\"8\": 128}, \"24\": {\"24\": 96}, \"18\": {\"18\": 48}, \"25\": {\"25\": 148}, \"57\": {\"57\": 136}, \"55\": {\"55\": 134}, \"36\": {\"36\": 116}, \"17\": {\"17\": 104}, \"2\": {\"2\": 32}, \"34\": {\"34\": 28}, \"1\": {\"1\": 112}, \"51\": {\"51\": 136}, \"31\": {\"31\": 28}, \"49\": {\"49\": 24}, \"14\": {\"14\": 24}, \"33\": {\"33\": 28}, \"41\": {\"41\": 20}, \"28\": {\"28\": 28}, \"5\": {\"5\": 120}, \"16\": {\"16\": 150}, \"4\": {\"4\": 128}, \"22\": {\"22\": 136}, \"6\": {\"6\": 117, \"7\": 1}, \"30\": {\"30\": 124}, \"26\": {\"26\": 24}, \"56\": {\"56\": 142}, \"42\": {\"42\": 36}, \"44\": {\"44\": 100}, \"7\": {\"7\": 36}}, \"O_26\": {\"0\": {\"4\": 28, \"8\": 27, \"6\": 18, \"10\": 31, \"9\": 15, \"3\": 4, \"0\": 23, \"1\": 21, \"12\": 1, \"13\": 5, \"15\": 20, \"2\": 6, \"14\": 23, \"7\": 13, \"5\": 5}, \"4\": {\"7\": 24, \"6\": 11, \"10\": 24, \"2\": 5, \"3\": 11, \"14\": 26, \"9\": 16, \"1\": 36, \"4\": 27, \"8\": 21, \"0\": 29, \"15\": 6, \"5\": 3, \"13\": 1}, \"14\": {\"0\": 32, \"10\": 32, \"8\": 16, \"1\": 35, \"6\": 13, \"13\": 2, \"15\": 8, \"7\": 15, \"14\": 24, \"9\": 15, \"4\": 28, \"12\": 4, \"3\": 6, \"5\": 4, \"2\": 6}, \"12\": {\"12\": 188, \"10\": 5, \"11\": 20, \"6\": 13, \"0\": 4, \"14\": 5, \"9\": 4, \"1\": 1}, \"8\": {\"9\": 20, \"8\": 19, \"0\": 18, \"10\": 21, \"7\": 15, \"4\": 18, \"5\": 18, \"15\": 17, \"6\": 23, \"2\": 14, \"14\": 18, \"13\": 11, \"3\": 10, \"1\": 18}, \"7\": {\"0\": 9, \"7\": 36, \"2\": 27, \"4\": 16, \"9\": 19, \"1\": 11, \"15\": 22, \"3\": 31, \"6\": 8, \"14\": 13, \"5\": 16, \"8\": 18, \"10\": 12, \"13\": 2}, \"13\": {\"13\": 72, \"15\": 35, \"7\": 10, \"9\": 18, \"5\": 43, \"0\": 2, \"2\": 17, \"6\": 12, \"8\": 12, \"11\": 1, \"14\": 5, \"4\": 3, \"3\": 4, \"10\": 6}, \"5\": {\"13\": 43, \"2\": 18, \"7\": 22, \"5\": 49, \"3\": 12, \"9\": 22, \"0\": 4, \"8\": 12, \"15\": 19, \"6\": 11, \"1\": 8, \"4\": 9, \"14\": 3, \"10\": 7, \"12\": 1}, \"15\": {\"7\": 19, \"2\": 22, \"13\": 25, \"5\": 26, \"4\": 9, \"3\": 15, \"14\": 7, \"15\": 33, \"6\": 22, \"8\": 20, \"10\": 8, \"9\": 22, \"0\": 8, \"1\": 4}, \"10\": {\"15\": 15, \"10\": 30, \"8\": 34, \"2\": 4, \"7\": 16, \"3\": 11, \"9\": 12, \"4\": 23, \"14\": 29, \"6\": 20, \"0\": 20, \"1\": 18, \"13\": 2, \"12\": 3, \"5\": 3}, \"3\": {\"2\": 40, \"7\": 34, \"5\": 11, \"9\": 19, \"0\": 11, \"4\": 16, \"14\": 7, \"15\": 19, \"10\": 9, \"3\": 46, \"13\": 9, \"6\": 3, \"8\": 7, \"1\": 9}, \"9\": {\"7\": 17, \"3\": 17, \"6\": 23, \"5\": 27, \"13\": 15, \"9\": 33, \"15\": 21, \"8\": 13, \"2\": 14, \"10\": 17, \"0\": 12, \"14\": 13, \"1\": 6, \"12\": 5, \"4\": 7}, \"6\": {\"15\": 20, \"9\": 19, \"10\": 34, \"14\": 13, \"3\": 5, \"7\": 11, \"0\": 16, \"6\": 42, \"8\": 34, \"2\": 4, \"13\": 10, \"4\": 11, \"5\": 14, \"1\": 5, \"12\": 2}, \"1\": {\"10\": 24, \"6\": 12, \"8\": 17, \"1\": 52, \"14\": 27, \"2\": 4, \"5\": 2, \"4\": 36, \"7\": 16, \"0\": 21, \"13\": 2, \"3\": 6, \"9\": 11, \"15\": 7, \"12\": 3}, \"11\": {\"11\": 196, \"12\": 33, \"6\": 2, \"9\": 2, \"14\": 1, \"13\": 4, \"15\": 1, \"5\": 1}, \"2\": {\"5\": 29, \"9\": 18, \"13\": 23, \"14\": 9, \"7\": 22, \"3\": 36, \"2\": 34, \"8\": 16, \"15\": 21, \"10\": 12, \"4\": 11, \"1\": 3, \"0\": 2, \"6\": 3, \"12\": 1}}, \"O_44\": {\"1\": {\"1\": 62, \"2\": 24, \"12\": 50, \"3\": 62, \"10\": 28, \"9\": 2, \"7\": 12}, \"11\": {\"11\": 131, \"6\": 35, \"4\": 4, \"9\": 11, \"13\": 50, \"14\": 4, \"7\": 5}, \"3\": {\"12\": 34, \"7\": 14, \"1\": 62, \"3\": 110, \"10\": 5, \"2\": 13, \"9\": 2}, \"6\": {\"7\": 28, \"2\": 11, \"6\": 82, \"11\": 26, \"9\": 37, \"13\": 55, \"4\": 1}, \"7\": {\"9\": 60, \"2\": 54, \"6\": 18, \"7\": 64, \"3\": 7, \"13\": 10, \"4\": 1, \"1\": 11, \"15\": 1, \"10\": 9, \"14\": 1, \"11\": 2, \"12\": 2}, \"5\": {\"4\": 18, \"8\": 28, \"15\": 14, \"5\": 114, \"14\": 31, \"0\": 34, \"13\": 1}, \"2\": {\"2\": 67, \"12\": 17, \"6\": 11, \"10\": 32, \"7\": 60, \"1\": 19, \"9\": 20, \"11\": 1, \"3\": 10, \"13\": 3}, \"15\": {\"4\": 21, \"0\": 43, \"14\": 45, \"15\": 85, \"8\": 24, \"5\": 22}, \"10\": {\"7\": 17, \"1\": 34, \"12\": 59, \"2\": 44, \"10\": 69, \"13\": 2, \"3\": 8, \"6\": 3, \"9\": 4}, \"13\": {\"11\": 50, \"13\": 71, \"9\": 38, \"7\": 21, \"6\": 43, \"4\": 9, \"14\": 5, \"2\": 3}, \"8\": {\"15\": 20, \"0\": 91, \"5\": 20, \"8\": 102, \"4\": 3, \"14\": 4}, \"4\": {\"14\": 72, \"4\": 92, \"9\": 15, \"11\": 6, \"5\": 12, \"13\": 18, \"15\": 21, \"7\": 1, \"6\": 2, \"0\": 1}, \"9\": {\"7\": 48, \"11\": 11, \"13\": 33, \"3\": 6, \"9\": 69, \"2\": 18, \"6\": 40, \"4\": 7, \"1\": 3, \"14\": 3, \"12\": 1, \"10\": 1}, \"14\": {\"4\": 79, \"15\": 38, \"14\": 80, \"5\": 25, \"0\": 8, \"8\": 5, \"13\": 2, \"9\": 2, \"11\": 1}, \"0\": {\"5\": 27, \"15\": 33, \"8\": 76, \"0\": 89, \"14\": 13, \"4\": 2}, \"12\": {\"1\": 63, \"12\": 91, \"10\": 43, \"3\": 28, \"2\": 11, \"7\": 4}}, \"O_50\": {\"15\": {\"15\": 79, \"4\": 27, \"1\": 54, \"11\": 26, \"9\": 6, \"14\": 2, \"6\": 35, \"5\": 5, \"13\": 4, \"7\": 2}, \"4\": {\"4\": 55, \"6\": 38, \"1\": 41, \"5\": 20, \"15\": 31, \"2\": 5, \"13\": 16, \"7\": 15, \"10\": 5, \"0\": 4, \"9\": 4, \"11\": 4, \"14\": 2}, \"6\": {\"4\": 37, \"6\": 60, \"13\": 22, \"5\": 21, \"1\": 40, \"10\": 5, \"15\": 31, \"0\": 7, \"7\": 12, \"14\": 1, \"2\": 4}, \"2\": {\"2\": 159, \"0\": 50, \"14\": 16, \"6\": 5, \"10\": 2, \"1\": 4, \"4\": 2, \"13\": 1, \"8\": 1}, \"5\": {\"5\": 41, \"7\": 52, \"13\": 49, \"10\": 27, \"4\": 28, \"1\": 11, \"0\": 7, \"6\": 20, \"15\": 3, \"8\": 2}, \"9\": {\"11\": 61, \"9\": 93, \"12\": 49, \"14\": 30, \"15\": 5, \"1\": 1, \"4\": 1}, \"8\": {\"10\": 40, \"8\": 161, \"7\": 8, \"3\": 23, \"13\": 1, \"0\": 5, \"5\": 2}, \"12\": {\"14\": 57, \"12\": 119, \"9\": 44, \"11\": 19, \"15\": 1}, \"10\": {\"0\": 35, \"5\": 17, \"10\": 88, \"2\": 5, \"8\": 34, \"13\": 34, \"7\": 21, \"3\": 3, \"6\": 2, \"4\": 1}, \"1\": {\"15\": 47, \"4\": 34, \"1\": 71, \"13\": 10, \"6\": 38, \"2\": 9, \"9\": 5, \"11\": 9, \"10\": 3, \"0\": 5, \"7\": 1, \"14\": 3, \"5\": 5}, \"0\": {\"0\": 125, \"2\": 48, \"8\": 9, \"4\": 3, \"10\": 28, \"13\": 7, \"7\": 5, \"5\": 5, \"1\": 5, \"6\": 4, \"15\": 1}, \"3\": {\"3\": 190, \"8\": 46, \"7\": 2, \"10\": 2}, \"13\": {\"7\": 41, \"6\": 21, \"1\": 15, \"5\": 47, \"13\": 52, \"15\": 4, \"10\": 28, \"4\": 25, \"0\": 6, \"2\": 1}, \"11\": {\"12\": 12, \"9\": 52, \"11\": 94, \"4\": 7, \"15\": 26, \"14\": 31, \"6\": 5, \"1\": 13}, \"7\": {\"7\": 84, \"10\": 32, \"5\": 52, \"13\": 43, \"6\": 5, \"1\": 4, \"4\": 12, \"8\": 2, \"0\": 5, \"15\": 1}, \"14\": {\"12\": 33, \"9\": 33, \"2\": 9, \"11\": 23, \"14\": 127, \"15\": 6, \"1\": 7, \"4\": 2}}, \"O_38\": {\"15\": {\"8\": 27, \"5\": 22, \"10\": 21, \"15\": 72, \"1\": 28, \"13\": 55, \"0\": 2, \"2\": 8, \"14\": 1, \"6\": 2, \"7\": 2}, \"11\": {\"2\": 17, \"14\": 80, \"11\": 114, \"12\": 6, \"10\": 12, \"4\": 4, \"15\": 4, \"13\": 3}, \"10\": {\"13\": 23, \"15\": 27, \"14\": 15, \"10\": 83, \"12\": 8, \"2\": 21, \"7\": 16, \"11\": 12, \"8\": 19, \"0\": 7, \"5\": 5, \"4\": 2, \"1\": 2}, \"14\": {\"14\": 110, \"11\": 67, \"10\": 26, \"2\": 32, \"13\": 2, \"12\": 2, \"4\": 1}, \"6\": {\"6\": 105, \"9\": 80, \"5\": 22, \"1\": 12, \"3\": 7, \"0\": 4, \"7\": 4, \"8\": 6}, \"4\": {\"4\": 147, \"12\": 81, \"7\": 3, \"11\": 2, \"10\": 4, \"14\": 1, \"0\": 2}, \"13\": {\"15\": 43, \"5\": 12, \"13\": 64, \"2\": 32, \"10\": 38, \"8\": 15, \"1\": 20, \"9\": 1, \"11\": 3, \"7\": 2, \"6\": 1, \"12\": 1, \"0\": 4, \"14\": 4}, \"3\": {\"9\": 42, \"3\": 144, \"5\": 7, \"6\": 13, \"1\": 1, \"0\": 20, \"8\": 6, \"7\": 6, \"4\": 1}, \"7\": {\"0\": 53, \"9\": 7, \"7\": 82, \"8\": 41, \"4\": 4, \"5\": 29, \"1\": 3, \"3\": 6, \"12\": 2, \"6\": 6, \"15\": 2, \"10\": 5}, \"8\": {\"8\": 53, \"5\": 56, \"7\": 29, \"15\": 26, \"10\": 12, \"0\": 36, \"12\": 4, \"13\": 9, \"9\": 2, \"1\": 7, \"2\": 1, \"6\": 4, \"3\": 1}, \"1\": {\"1\": 131, \"10\": 2, \"13\": 19, \"6\": 21, \"15\": 31, \"9\": 3, \"5\": 23, \"0\": 2, \"8\": 8}, \"5\": {\"8\": 49, \"10\": 6, \"15\": 23, \"13\": 11, \"7\": 29, \"0\": 27, \"5\": 43, \"9\": 13, \"6\": 20, \"1\": 18, \"3\": 1}, \"0\": {\"7\": 52, \"9\": 7, \"5\": 26, \"0\": 69, \"8\": 33, \"6\": 7, \"12\": 7, \"13\": 5, \"3\": 13, \"15\": 10, \"1\": 4, \"10\": 4, \"2\": 1, \"4\": 2}, \"2\": {\"13\": 36, \"2\": 115, \"14\": 34, \"15\": 16, \"11\": 11, \"10\": 26, \"0\": 1, \"1\": 1}, \"12\": {\"12\": 161, \"4\": 62, \"11\": 4, \"14\": 3, \"8\": 1, \"10\": 7, \"2\": 1, \"0\": 1}, \"9\": {\"8\": 7, \"9\": 90, \"3\": 15, \"5\": 16, \"6\": 85, \"0\": 10, \"7\": 7, \"1\": 10}}, \"O_20\": {\"10\": {\"8\": 28, \"4\": 48, \"3\": 17, \"14\": 38, \"0\": 6, \"7\": 14, \"9\": 11, \"5\": 9, \"10\": 39, \"2\": 6, \"6\": 17, \"13\": 1, \"12\": 6}, \"7\": {\"6\": 13, \"8\": 14, \"7\": 42, \"11\": 10, \"15\": 5, \"12\": 11, \"0\": 12, \"2\": 24, \"3\": 19, \"4\": 9, \"14\": 14, \"5\": 8, \"9\": 19, \"10\": 13, \"1\": 5, \"13\": 22}, \"4\": {\"14\": 20, \"3\": 19, \"8\": 28, \"0\": 18, \"4\": 37, \"10\": 35, \"1\": 9, \"7\": 12, \"9\": 12, \"12\": 17, \"5\": 11, \"6\": 9, \"2\": 8, \"13\": 2, \"15\": 3}, \"13\": {\"13\": 50, \"12\": 12, \"9\": 25, \"15\": 23, \"3\": 14, \"1\": 20, \"6\": 3, \"2\": 35, \"7\": 22, \"11\": 5, \"0\": 16, \"5\": 8, \"8\": 4, \"10\": 1, \"4\": 2}, \"1\": {\"0\": 27, \"5\": 38, \"15\": 29, \"1\": 26, \"7\": 10, \"9\": 21, \"3\": 22, \"10\": 4, \"4\": 10, \"13\": 14, \"8\": 3, \"12\": 22, \"2\": 12, \"11\": 1, \"14\": 1}, \"0\": {\"8\": 15, \"12\": 19, \"9\": 11, \"15\": 15, \"2\": 8, \"5\": 26, \"4\": 22, \"3\": 19, \"10\": 12, \"14\": 4, \"13\": 5, \"1\": 24, \"7\": 8, \"0\": 50, \"6\": 2}, \"12\": {\"0\": 23, \"3\": 25, \"15\": 20, \"8\": 11, \"5\": 19, \"1\": 28, \"9\": 27, \"4\": 14, \"12\": 21, \"2\": 17, \"13\": 10, \"10\": 8, \"7\": 15, \"14\": 2}, \"5\": {\"3\": 19, \"12\": 32, \"15\": 18, \"9\": 19, \"1\": 35, \"5\": 30, \"10\": 10, \"2\": 11, \"8\": 10, \"0\": 21, \"4\": 19, \"13\": 8, \"6\": 2, \"7\": 5, \"14\": 1}, \"6\": {\"7\": 28, \"10\": 19, \"6\": 72, \"14\": 52, \"8\": 30, \"4\": 10, \"2\": 7, \"3\": 2, \"11\": 8, \"12\": 3, \"0\": 2, \"13\": 5, \"9\": 2}, \"2\": {\"3\": 24, \"12\": 22, \"1\": 21, \"13\": 20, \"15\": 10, \"4\": 8, \"9\": 29, \"7\": 18, \"2\": 33, \"0\": 18, \"14\": 6, \"10\": 4, \"11\": 4, \"8\": 3, \"6\": 7, \"5\": 13}, \"8\": {\"13\": 4, \"6\": 28, \"10\": 30, \"9\": 12, \"3\": 11, \"8\": 42, \"7\": 23, \"5\": 7, \"4\": 27, \"0\": 14, \"14\": 26, \"2\": 6, \"1\": 1, \"12\": 9}, \"11\": {\"6\": 30, \"11\": 154, \"2\": 9, \"14\": 2, \"7\": 17, \"13\": 13, \"9\": 4, \"3\": 1, \"8\": 4, \"4\": 1, \"0\": 2, \"10\": 2, \"12\": 1}, \"9\": {\"9\": 30, \"0\": 13, \"2\": 28, \"7\": 17, \"1\": 13, \"13\": 18, \"15\": 17, \"3\": 16, \"8\": 8, \"6\": 4, \"4\": 17, \"5\": 26, \"12\": 19, \"10\": 12, \"14\": 2}, \"14\": {\"14\": 61, \"8\": 41, \"6\": 37, \"3\": 4, \"2\": 4, \"4\": 27, \"10\": 42, \"7\": 12, \"0\": 5, \"5\": 4, \"13\": 1, \"1\": 1, \"9\": 1}, \"15\": {\"1\": 31, \"15\": 43, \"13\": 25, \"9\": 25, \"3\": 21, \"5\": 22, \"2\": 20, \"12\": 22, \"4\": 5, \"0\": 16, \"7\": 7, \"10\": 1, \"8\": 2}, \"3\": {\"3\": 32, \"13\": 13, \"2\": 20, \"1\": 23, \"6\": 4, \"0\": 27, \"9\": 20, \"8\": 4, \"4\": 17, \"12\": 16, \"7\": 12, \"5\": 18, \"10\": 17, \"15\": 13, \"14\": 4}}, \"O_14\": {\"14\": {\"13\": 43, \"2\": 32, \"5\": 5, \"6\": 41, \"14\": 58, \"3\": 19, \"4\": 23, \"0\": 10, \"11\": 2, \"1\": 2, \"10\": 5}, \"0\": {\"0\": 72, \"11\": 41, \"10\": 50, \"8\": 3, \"9\": 13, \"13\": 9, \"3\": 27, \"5\": 3, \"14\": 9, \"4\": 11, \"2\": 1, \"6\": 1}, \"4\": {\"5\": 28, \"13\": 13, \"6\": 15, \"4\": 49, \"1\": 25, \"14\": 14, \"9\": 2, \"0\": 13, \"3\": 44, \"2\": 29, \"8\": 3, \"15\": 4, \"10\": 1}, \"11\": {\"11\": 98, \"10\": 58, \"13\": 2, \"9\": 31, \"0\": 37, \"12\": 8, \"6\": 1, \"14\": 4, \"3\": 1}, \"13\": {\"13\": 58, \"14\": 42, \"2\": 34, \"6\": 58, \"10\": 8, \"4\": 13, \"15\": 3, \"3\": 8, \"0\": 5, \"11\": 3, \"5\": 7, \"1\": 1}, \"9\": {\"12\": 46, \"9\": 125, \"10\": 19, \"0\": 21, \"3\": 1, \"11\": 25, \"8\": 3}, \"3\": {\"2\": 30, \"13\": 9, \"3\": 47, \"5\": 27, \"0\": 26, \"4\": 47, \"1\": 22, \"14\": 14, \"6\": 8, \"8\": 5, \"10\": 4, \"9\": 1}, \"6\": {\"13\": 48, \"14\": 47, \"6\": 79, \"2\": 34, \"4\": 14, \"3\": 8, \"1\": 1, \"5\": 3, \"11\": 2, \"0\": 4}, \"1\": {\"7\": 13, \"1\": 90, \"4\": 21, \"6\": 2, \"5\": 44, \"2\": 12, \"3\": 16, \"15\": 13, \"14\": 1, \"8\": 26, \"0\": 2}, \"5\": {\"3\": 29, \"4\": 34, \"5\": 57, \"14\": 10, \"1\": 40, \"13\": 5, \"15\": 13, \"7\": 9, \"2\": 28, \"6\": 10, \"8\": 2, \"0\": 3}, \"12\": {\"12\": 165, \"9\": 65, \"11\": 9, \"10\": 1}, \"10\": {\"0\": 50, \"10\": 100, \"6\": 2, \"11\": 50, \"3\": 10, \"14\": 9, \"9\": 14, \"4\": 2, \"2\": 1, \"13\": 2}, \"8\": {\"1\": 35, \"9\": 6, \"8\": 170, \"3\": 11, \"4\": 12, \"13\": 1, \"5\": 3, \"15\": 1, \"0\": 1}, \"7\": {\"1\": 18, \"15\": 78, \"7\": 123, \"5\": 16, \"4\": 2, \"13\": 1, \"2\": 2}, \"15\": {\"15\": 124, \"2\": 7, \"6\": 6, \"7\": 54, \"13\": 6, \"1\": 17, \"5\": 20, \"4\": 4, \"14\": 2}, \"2\": {\"2\": 44, \"13\": 23, \"3\": 20, \"14\": 27, \"6\": 29, \"4\": 30, \"1\": 11, \"0\": 7, \"5\": 37, \"7\": 3, \"15\": 7, \"11\": 2}}, \"O_32\": {\"11\": {\"14\": 47, \"11\": 89, \"7\": 35, \"3\": 17, \"13\": 16, \"8\": 2, \"5\": 18, \"2\": 5, \"4\": 10, \"0\": 1}, \"1\": {\"1\": 200, \"10\": 40}, \"2\": {\"11\": 5, \"7\": 23, \"13\": 12, \"2\": 63, \"4\": 53, \"0\": 40, \"5\": 15, \"14\": 18, \"8\": 10, \"3\": 1}, \"0\": {\"0\": 71, \"2\": 40, \"7\": 15, \"8\": 29, \"4\": 35, \"15\": 5, \"5\": 12, \"14\": 20, \"13\": 6, \"9\": 3, \"11\": 3, \"3\": 1}, \"3\": {\"3\": 95, \"13\": 44, \"11\": 20, \"8\": 24, \"5\": 27, \"15\": 5, \"14\": 9, \"7\": 12, \"4\": 3, \"2\": 1}, \"8\": {\"4\": 33, \"13\": 20, \"8\": 79, \"5\": 21, \"15\": 18, \"0\": 32, \"3\": 6, \"7\": 8, \"14\": 13, \"2\": 6, \"11\": 4}, \"12\": {\"12\": 212, \"6\": 9, \"9\": 19}, \"5\": {\"7\": 32, \"13\": 37, \"4\": 19, \"3\": 30, \"11\": 21, \"8\": 27, \"14\": 21, \"5\": 29, \"0\": 11, \"2\": 12, \"15\": 1}, \"15\": {\"15\": 208, \"13\": 7, \"3\": 2, \"14\": 1, \"8\": 19, \"0\": 3}, \"7\": {\"14\": 40, \"8\": 19, \"4\": 29, \"3\": 9, \"7\": 38, \"2\": 16, \"5\": 26, \"11\": 30, \"13\": 23, \"0\": 10}, \"4\": {\"4\": 58, \"13\": 27, \"8\": 22, \"2\": 29, \"5\": 26, \"14\": 17, \"0\": 23, \"11\": 14, \"7\": 19, \"3\": 4, \"15\": 1}, \"14\": {\"14\": 39, \"2\": 29, \"13\": 17, \"11\": 50, \"7\": 45, \"4\": 8, \"5\": 13, \"3\": 8, \"8\": 12, \"0\": 18, \"9\": 1}, \"10\": {\"10\": 212, \"1\": 26, \"6\": 2}, \"6\": {\"6\": 228, \"1\": 1, \"12\": 9, \"10\": 2}, \"13\": {\"8\": 31, \"3\": 25, \"13\": 50, \"2\": 10, \"5\": 32, \"7\": 20, \"14\": 12, \"0\": 8, \"11\": 21, \"4\": 31}, \"9\": {\"9\": 217, \"12\": 19, \"0\": 3, \"2\": 1}}, \"O_8\": {\"9\": {\"9\": 231, \"5\": 3, \"10\": 3, \"4\": 1, \"13\": 1, \"14\": 1}, \"11\": {\"1\": 66, \"11\": 79, \"10\": 14, \"4\": 7, \"8\": 17, \"14\": 23, \"5\": 20, \"15\": 4, \"6\": 6, \"7\": 1, \"13\": 3}, \"8\": {\"15\": 51, \"14\": 10, \"8\": 62, \"11\": 20, \"12\": 23, \"7\": 14, \"3\": 1, \"4\": 13, \"13\": 9, \"1\": 8, \"0\": 5, \"10\": 4, \"6\": 18, \"2\": 1, \"5\": 1}, \"4\": {\"7\": 13, \"15\": 9, \"10\": 30, \"0\": 26, \"6\": 35, \"14\": 31, \"4\": 38, \"13\": 30, \"12\": 1, \"11\": 3, \"8\": 8, \"1\": 11, \"5\": 5}, \"13\": {\"0\": 34, \"6\": 37, \"10\": 33, \"15\": 4, \"7\": 19, \"4\": 32, \"2\": 2, \"13\": 43, \"14\": 21, \"11\": 5, \"1\": 3, \"8\": 4, \"5\": 2, \"12\": 1}, \"14\": {\"10\": 36, \"4\": 23, \"6\": 22, \"0\": 20, \"5\": 23, \"13\": 31, \"14\": 27, \"11\": 11, \"1\": 19, \"8\": 16, \"15\": 1, \"7\": 11}, \"2\": {\"2\": 85, \"3\": 73, \"12\": 22, \"15\": 16, \"7\": 11, \"10\": 2, \"8\": 4, \"0\": 12, \"13\": 5, \"4\": 4, \"6\": 5, \"14\": 1}, \"3\": {\"3\": 87, \"2\": 61, \"14\": 1, \"0\": 6, \"15\": 30, \"13\": 2, \"8\": 7, \"12\": 35, \"7\": 8, \"4\": 1, \"6\": 2}, \"1\": {\"10\": 30, \"5\": 36, \"1\": 68, \"14\": 26, \"11\": 42, \"13\": 8, \"4\": 13, \"6\": 5, \"8\": 10, \"7\": 1, \"0\": 1}, \"0\": {\"14\": 23, \"6\": 37, \"7\": 27, \"4\": 32, \"0\": 42, \"10\": 23, \"13\": 35, \"12\": 3, \"15\": 3, \"8\": 5, \"5\": 2, \"3\": 3, \"2\": 3, \"1\": 1, \"11\": 1}, \"5\": {\"5\": 72, \"14\": 29, \"10\": 43, \"1\": 49, \"11\": 17, \"0\": 3, \"13\": 11, \"7\": 1, \"6\": 3, \"4\": 8, \"8\": 4}, \"15\": {\"0\": 4, \"12\": 48, \"8\": 26, \"10\": 3, \"2\": 11, \"15\": 65, \"7\": 29, \"14\": 3, \"6\": 15, \"4\": 9, \"3\": 21, \"1\": 1, \"13\": 3, \"11\": 2}, \"10\": {\"14\": 37, \"0\": 16, \"1\": 23, \"10\": 43, \"6\": 25, \"13\": 32, \"4\": 19, \"8\": 7, \"5\": 25, \"15\": 1, \"11\": 9, \"7\": 3}, \"12\": {\"2\": 27, \"15\": 48, \"12\": 71, \"8\": 25, \"7\": 13, \"3\": 46, \"1\": 1, \"6\": 3, \"11\": 1, \"0\": 1, \"14\": 1, \"13\": 2, \"4\": 1}, \"6\": {\"6\": 39, \"14\": 26, \"10\": 13, \"7\": 32, \"15\": 17, \"4\": 36, \"0\": 35, \"8\": 12, \"13\": 18, \"11\": 2, \"1\": 2, \"2\": 2, \"12\": 5, \"3\": 1}, \"7\": {\"12\": 8, \"10\": 12, \"14\": 14, \"0\": 33, \"13\": 13, \"1\": 3, \"2\": 9, \"4\": 19, \"6\": 24, \"7\": 52, \"8\": 16, \"3\": 10, \"15\": 24, \"11\": 3}}}, \"per_domain_accuracy\": {\"C_5\": {\"accuracy\": 0.9993016759776536, \"source?\": true}, \"C_1\": {\"accuracy\": 0.9998301630434783, \"source?\": true}, \"C_3\": {\"accuracy\": 0.9998161764705882, \"source?\": true}, \"C_4\": {\"accuracy\": 0.9996234939759037, \"source?\": true}, \"C_2\": {\"accuracy\": 0.9998224431818182, \"source?\": true}, \"O_26\": {\"accuracy\": 0.23541666666666666, \"source?\": false}, \"O_44\": {\"accuracy\": 0.35885416666666664, \"source?\": false}, \"O_50\": {\"accuracy\": 0.4161458333333333, \"source?\": false}, \"O_38\": {\"accuracy\": 0.4122395833333333, \"source?\": false}, \"O_20\": {\"accuracy\": 0.1984375, \"source?\": false}, \"O_14\": {\"accuracy\": 0.37994791666666666, \"source?\": false}, \"O_32\": {\"accuracy\": 0.49166666666666664, \"source?\": false}, \"O_8\": {\"accuracy\": 0.2875, \"source?\": false}}}, \"history\": {\"epoch_indices\": [1, 2, 3, 4, 5, 6, 7, 8, 9], \"train_label_loss\": [0.031339119502283144, 0.0093985114832295, 0.007098219655115645, 0.0038333688088124703, 0.004134723967816101, 0.0036566953242661085, 0.0030503061437779848, 0.002961249214393621, 0.0029168804297498288], \"source_val_label_loss\": [0.013672317378222942, 0.008322766982018948, 0.006720735225826502, 0.008015350438654423, 0.006550895981490612, 0.008669452741742134, 0.008087916299700737, 0.008586305193603039, 0.007205807603895664], \"target_val_label_loss\": [2.34690260887146, 2.7741284370422363, 2.9800102710723877, 2.3039910793304443, 2.396421432495117, 3.6217422485351562, 3.235532522201538, 4.149267196655273, 3.0814194679260254], \"source_val_acc_label\": [0.9964285714285714, 0.9988214285714285, 0.9990357142857142, 0.9993571428571428, 0.9996785714285714, 0.99925, 0.9994285714285714, 0.9993928571428572, 0.9995714285714286], \"target_val_acc_label\": [0.25390625, 0.29098307291666664, 0.2919921875, 0.32151692708333335, 0.3475260416666667, 0.29046223958333334, 0.2921875, 0.25478515625, 0.34674479166666666]}, \"dataset_metrics\": {\"source\": {\"train\": {\"n_unique_x\": 175192, \"n_unique_y\": 58, \"n_batch/episode\": 6298}, \"val\": {\"n_unique_x\": 37151, \"n_unique_y\": 58, \"n_batch/episode\": 875}, \"test\": {\"n_unique_x\": 37548, \"n_unique_y\": 58, \"n_batch/episode\": 885}}, \"target\": {\"train\": {\"n_unique_x\": 179200, \"n_unique_y\": 16, \"n_batch/episode\": 6720}, \"val\": {\"n_unique_x\": 38400, \"n_unique_y\": 16, \"n_batch/episode\": 960}, \"test\": {\"n_unique_x\": 38400, \"n_unique_y\": 16, \"n_batch/episode\": 960}}}}'"
      ]
     },
     "execution_count": 29,
     "metadata": {},
     "output_type": "execute_result"
    }
   ],
   "source": [
    "json.dumps(experiment)"
   ]
  }
 ],
 "metadata": {
  "celltoolbar": "Tags",
  "kernelspec": {
   "display_name": "Python 3 (ipykernel)",
   "language": "python",
   "name": "python3"
  },
  "language_info": {
   "codemirror_mode": {
    "name": "ipython",
    "version": 3
   },
   "file_extension": ".py",
   "mimetype": "text/x-python",
   "name": "python",
   "nbconvert_exporter": "python",
   "pygments_lexer": "ipython3",
   "version": "3.8.10"
  },
  "papermill": {
   "default_parameters": {},
   "duration": 1544.193255,
   "end_time": "2022-03-25T05:47:25.599067",
   "environment_variables": {},
   "exception": null,
   "input_path": "/mnt/wd500GB/CSC500/csc500-main/csc500-notebooks/templates/tl_ptn_template.ipynb",
   "output_path": "trial.ipynb",
   "parameters": {
    "parameters": {
     "BEST_MODEL_PATH": "./best_model.pth",
     "NUM_LOGS_PER_EPOCH": 10,
     "criteria_for_best": "target_accuracy",
     "dataset_seed": 7,
     "datasets": [
      {
       "domain_prefix": "C_",
       "domains": [
        1,
        2,
        3,
        4,
        5
       ],
       "episode_transforms": [],
       "labels": [
        "1-10.",
        "1-11.",
        "1-15.",
        "1-16.",
        "1-17.",
        "1-18.",
        "1-19.",
        "10-4.",
        "10-7.",
        "11-1.",
        "11-14.",
        "11-17.",
        "11-20.",
        "11-7.",
        "13-20.",
        "13-8.",
        "14-10.",
        "14-11.",
        "14-14.",
        "14-7.",
        "15-1.",
        "15-20.",
        "16-1.",
        "16-16.",
        "17-10.",
        "17-11.",
        "17-2.",
        "19-1.",
        "19-16.",
        "19-19.",
        "19-20.",
        "19-3.",
        "2-10.",
        "2-11.",
        "2-17.",
        "2-18.",
        "2-20.",
        "2-3.",
        "2-4.",
        "2-5.",
        "2-6.",
        "2-7.",
        "2-8.",
        "3-13.",
        "3-18.",
        "3-3.",
        "4-1.",
        "4-10.",
        "4-11.",
        "4-19.",
        "5-5.",
        "6-15.",
        "7-10.",
        "7-14.",
        "8-18.",
        "8-20.",
        "8-3.",
        "8-8."
       ],
       "num_examples_per_domain_per_label": -1,
       "pickle_path": "/mnt/wd500GB/CSC500/csc500-main/datasets/cores.stratified_ds.2022A.pkl",
       "source_or_target_dataset": "source",
       "x_transforms": [
        "unit_power",
        "take_200"
       ]
      },
      {
       "domain_prefix": "O_",
       "domains": [
        32,
        38,
        8,
        44,
        14,
        50,
        20,
        26
       ],
       "episode_transforms": [],
       "labels": [
        "3123D52",
        "3123D65",
        "3123D79",
        "3123D80",
        "3123D54",
        "3123D70",
        "3123D7B",
        "3123D89",
        "3123D58",
        "3123D76",
        "3123D7D",
        "3123EFE",
        "3123D64",
        "3123D78",
        "3123D7E",
        "3124E4A"
       ],
       "num_examples_per_domain_per_label": 2000,
       "pickle_path": "/mnt/wd500GB/CSC500/csc500-main/datasets/oracle.Run1_framed_2000Examples_stratified_ds.2022A.pkl",
       "source_or_target_dataset": "target",
       "x_transforms": [
        "unit_power",
        "take_200",
        "resample_20Msps_to_25Msps"
       ]
      }
     ],
     "device": "cuda",
     "experiment_name": "tl_3Av2:cores -> oracle.run1.framed",
     "lr": 0.0001,
     "n_epoch": 50,
     "n_query": 2,
     "n_shot": 3,
     "n_way": 16,
     "patience": 3,
     "seed": 7,
     "test_k_factor": 2,
     "torch_default_dtype": "torch.float32",
     "train_k_factor": 3,
     "val_k_factor": 2,
     "x_net": [
      {
       "class": "nnReshape",
       "kargs": {
        "shape": [
         -1,
         1,
         2,
         200
        ]
       }
      },
      {
       "class": "Conv2d",
       "kargs": {
        "bias": false,
        "in_channels": 1,
        "kernel_size": [
         1,
         7
        ],
        "out_channels": 256,
        "padding": [
         0,
         3
        ]
       }
      },
      {
       "class": "ReLU",
       "kargs": {
        "inplace": true
       }
      },
      {
       "class": "BatchNorm2d",
       "kargs": {
        "num_features": 256
       }
      },
      {
       "class": "Conv2d",
       "kargs": {
        "bias": true,
        "in_channels": 256,
        "kernel_size": [
         2,
         7
        ],
        "out_channels": 80,
        "padding": [
         0,
         3
        ]
       }
      },
      {
       "class": "ReLU",
       "kargs": {
        "inplace": true
       }
      },
      {
       "class": "BatchNorm2d",
       "kargs": {
        "num_features": 80
       }
      },
      {
       "class": "Flatten",
       "kargs": {}
      },
      {
       "class": "Linear",
       "kargs": {
        "in_features": 16000,
        "out_features": 256
       }
      },
      {
       "class": "ReLU",
       "kargs": {
        "inplace": true
       }
      },
      {
       "class": "BatchNorm1d",
       "kargs": {
        "num_features": 256
       }
      },
      {
       "class": "Linear",
       "kargs": {
        "in_features": 256,
        "out_features": 256
       }
      }
     ],
     "x_shape": [
      2,
      200
     ]
    }
   },
   "start_time": "2022-03-25T05:21:41.405812",
   "version": "2.3.4"
  }
 },
 "nbformat": 4,
 "nbformat_minor": 5
}