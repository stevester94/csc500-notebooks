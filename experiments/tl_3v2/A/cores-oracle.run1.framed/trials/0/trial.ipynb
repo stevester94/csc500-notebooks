{
 "cells": [
  {
   "cell_type": "markdown",
   "id": "9fea5f46",
   "metadata": {
    "papermill": {
     "duration": 0.013373,
     "end_time": "2022-03-25T02:13:30.890188",
     "exception": false,
     "start_time": "2022-03-25T02:13:30.876815",
     "status": "completed"
    },
    "tags": []
   },
   "source": [
    "# Transfer Learning Template"
   ]
  },
  {
   "cell_type": "code",
   "execution_count": 1,
   "id": "0902182a",
   "metadata": {
    "execution": {
     "iopub.execute_input": "2022-03-25T02:13:30.930165Z",
     "iopub.status.busy": "2022-03-25T02:13:30.929843Z",
     "iopub.status.idle": "2022-03-25T02:13:32.005272Z",
     "shell.execute_reply": "2022-03-25T02:13:32.005676Z"
    },
    "papermill": {
     "duration": 1.103076,
     "end_time": "2022-03-25T02:13:32.005865",
     "exception": false,
     "start_time": "2022-03-25T02:13:30.902789",
     "status": "completed"
    },
    "tags": []
   },
   "outputs": [],
   "source": [
    "%load_ext autoreload\n",
    "%autoreload 2\n",
    "%matplotlib inline\n",
    "\n",
    "    \n",
    "import os, json, sys, time, random\n",
    "import numpy as np\n",
    "import torch\n",
    "from torch.optim import Adam\n",
    "from  easydict import EasyDict\n",
    "import matplotlib.pyplot as plt\n",
    "\n",
    "from steves_models.steves_ptn import Steves_Prototypical_Network\n",
    "\n",
    "from steves_utils.lazy_iterable_wrapper import Lazy_Iterable_Wrapper\n",
    "from steves_utils.iterable_aggregator import Iterable_Aggregator\n",
    "from steves_utils.ptn_train_eval_test_jig import  PTN_Train_Eval_Test_Jig\n",
    "from steves_utils.torch_sequential_builder import build_sequential\n",
    "from steves_utils.torch_utils import get_dataset_metrics, ptn_confusion_by_domain_over_dataloader\n",
    "from steves_utils.utils_v2 import (per_domain_accuracy_from_confusion, get_datasets_base_path)\n",
    "from steves_utils.PTN.utils import independent_accuracy_assesment\n",
    "\n",
    "from torch.utils.data import DataLoader\n",
    "\n",
    "from steves_utils.stratified_dataset.episodic_accessor import Episodic_Accessor_Factory\n",
    "\n",
    "from steves_utils.ptn_do_report import (\n",
    "    get_loss_curve,\n",
    "    get_results_table,\n",
    "    get_parameters_table,\n",
    "    get_domain_accuracies,\n",
    ")\n",
    "\n",
    "from steves_utils.transforms import get_chained_transform"
   ]
  },
  {
   "cell_type": "markdown",
   "id": "41c840b4",
   "metadata": {
    "papermill": {
     "duration": 0.012862,
     "end_time": "2022-03-25T02:13:32.037947",
     "exception": false,
     "start_time": "2022-03-25T02:13:32.025085",
     "status": "completed"
    },
    "tags": []
   },
   "source": [
    "# Allowed Parameters\n",
    "These are allowed parameters, not defaults\n",
    "Each of these values need to be present in the injected parameters (the notebook will raise an exception if they are not present)\n",
    "\n",
    "Papermill uses the cell tag \"parameters\" to inject the real parameters below this cell.\n",
    "Enable tags to see what I mean"
   ]
  },
  {
   "cell_type": "code",
   "execution_count": 2,
   "id": "fd44eb83",
   "metadata": {
    "execution": {
     "iopub.execute_input": "2022-03-25T02:13:32.066170Z",
     "iopub.status.busy": "2022-03-25T02:13:32.065889Z",
     "iopub.status.idle": "2022-03-25T02:13:32.082176Z",
     "shell.execute_reply": "2022-03-25T02:13:32.081772Z"
    },
    "papermill": {
     "duration": 0.031997,
     "end_time": "2022-03-25T02:13:32.082270",
     "exception": false,
     "start_time": "2022-03-25T02:13:32.050273",
     "status": "completed"
    },
    "tags": []
   },
   "outputs": [],
   "source": [
    "required_parameters = {\n",
    "    \"experiment_name\",\n",
    "    \"lr\",\n",
    "    \"device\",\n",
    "    \"seed\",\n",
    "    \"dataset_seed\",\n",
    "    \"n_shot\",\n",
    "    \"n_query\",\n",
    "    \"n_way\",\n",
    "    \"train_k_factor\",\n",
    "    \"val_k_factor\",\n",
    "    \"test_k_factor\",\n",
    "    \"n_epoch\",\n",
    "    \"patience\",\n",
    "    \"criteria_for_best\",\n",
    "    \"x_net\",\n",
    "    \"datasets\",\n",
    "    \"torch_default_dtype\",\n",
    "    \"NUM_LOGS_PER_EPOCH\",\n",
    "    \"BEST_MODEL_PATH\",\n",
    "    \"x_shape\",\n",
    "}"
   ]
  },
  {
   "cell_type": "code",
   "execution_count": 3,
   "id": "fa3f0049",
   "metadata": {
    "execution": {
     "iopub.execute_input": "2022-03-25T02:13:32.123280Z",
     "iopub.status.busy": "2022-03-25T02:13:32.122798Z",
     "iopub.status.idle": "2022-03-25T02:13:32.136922Z",
     "shell.execute_reply": "2022-03-25T02:13:32.137346Z"
    },
    "papermill": {
     "duration": 0.036945,
     "end_time": "2022-03-25T02:13:32.137453",
     "exception": false,
     "start_time": "2022-03-25T02:13:32.100508",
     "status": "completed"
    },
    "tags": [
     "parameters"
    ]
   },
   "outputs": [],
   "source": [
    "from steves_utils.CORES.utils import (\n",
    "    ALL_NODES,\n",
    "    ALL_NODES_MINIMUM_1000_EXAMPLES,\n",
    "    ALL_DAYS\n",
    ")\n",
    "\n",
    "from steves_utils.ORACLE.utils_v2 import (\n",
    "    ALL_DISTANCES_FEET_NARROWED,\n",
    "    ALL_RUNS,\n",
    "    ALL_SERIAL_NUMBERS,\n",
    ")\n",
    "\n",
    "standalone_parameters = {}\n",
    "standalone_parameters[\"experiment_name\"] = \"STANDALONE PTN\"\n",
    "standalone_parameters[\"lr\"] = 0.001\n",
    "standalone_parameters[\"device\"] = \"cuda\"\n",
    "\n",
    "standalone_parameters[\"seed\"] = 1337\n",
    "standalone_parameters[\"dataset_seed\"] = 1337\n",
    "\n",
    "standalone_parameters[\"n_way\"] = 8\n",
    "standalone_parameters[\"n_shot\"] = 3\n",
    "standalone_parameters[\"n_query\"]  = 2\n",
    "standalone_parameters[\"train_k_factor\"] = 1\n",
    "standalone_parameters[\"val_k_factor\"] = 2\n",
    "standalone_parameters[\"test_k_factor\"] = 2\n",
    "\n",
    "\n",
    "standalone_parameters[\"n_epoch\"] = 50\n",
    "\n",
    "standalone_parameters[\"patience\"] = 10\n",
    "standalone_parameters[\"criteria_for_best\"] = \"source_loss\"\n",
    "\n",
    "standalone_parameters[\"datasets\"] = [\n",
    "    {\n",
    "        \"labels\": ALL_SERIAL_NUMBERS,\n",
    "        \"domains\": ALL_DISTANCES_FEET_NARROWED,\n",
    "        \"num_examples_per_domain_per_label\": 100,\n",
    "        \"pickle_path\": os.path.join(get_datasets_base_path(), \"oracle.Run1_framed_2000Examples_stratified_ds.2022A.pkl\"),\n",
    "        \"source_or_target_dataset\": \"source\",\n",
    "        \"x_transforms\": [\"unit_mag\", \"minus_two\"],\n",
    "        \"episode_transforms\": [],\n",
    "        \"domain_prefix\": \"ORACLE_\"\n",
    "    },\n",
    "    {\n",
    "        \"labels\": ALL_NODES,\n",
    "        \"domains\": ALL_DAYS,\n",
    "        \"num_examples_per_domain_per_label\": 100,\n",
    "        \"pickle_path\": os.path.join(get_datasets_base_path(), \"cores.stratified_ds.2022A.pkl\"),\n",
    "        \"source_or_target_dataset\": \"target\",\n",
    "        \"x_transforms\": [\"unit_power\", \"times_zero\"],\n",
    "        \"episode_transforms\": [],\n",
    "        \"domain_prefix\": \"CORES_\"\n",
    "    }   \n",
    "]\n",
    "\n",
    "standalone_parameters[\"torch_default_dtype\"] = \"torch.float32\" \n",
    "\n",
    "\n",
    "\n",
    "standalone_parameters[\"x_net\"] =     [\n",
    "    {\"class\": \"nnReshape\", \"kargs\": {\"shape\":[-1, 1, 2, 256]}},\n",
    "    {\"class\": \"Conv2d\", \"kargs\": { \"in_channels\":1, \"out_channels\":256, \"kernel_size\":(1,7), \"bias\":False, \"padding\":(0,3), },},\n",
    "    {\"class\": \"ReLU\", \"kargs\": {\"inplace\": True}},\n",
    "    {\"class\": \"BatchNorm2d\", \"kargs\": {\"num_features\":256}},\n",
    "\n",
    "    {\"class\": \"Conv2d\", \"kargs\": { \"in_channels\":256, \"out_channels\":80, \"kernel_size\":(2,7), \"bias\":True, \"padding\":(0,3), },},\n",
    "    {\"class\": \"ReLU\", \"kargs\": {\"inplace\": True}},\n",
    "    {\"class\": \"BatchNorm2d\", \"kargs\": {\"num_features\":80}},\n",
    "    {\"class\": \"Flatten\", \"kargs\": {}},\n",
    "\n",
    "    {\"class\": \"Linear\", \"kargs\": {\"in_features\": 80*256, \"out_features\": 256}}, # 80 units per IQ pair\n",
    "    {\"class\": \"ReLU\", \"kargs\": {\"inplace\": True}},\n",
    "    {\"class\": \"BatchNorm1d\", \"kargs\": {\"num_features\":256}},\n",
    "\n",
    "    {\"class\": \"Linear\", \"kargs\": {\"in_features\": 256, \"out_features\": 256}},\n",
    "]\n",
    "\n",
    "# Parameters relevant to results\n",
    "# These parameters will basically never need to change\n",
    "standalone_parameters[\"NUM_LOGS_PER_EPOCH\"] = 10\n",
    "standalone_parameters[\"BEST_MODEL_PATH\"] = \"./best_model.pth\"\n",
    "\n",
    "\n",
    "\n",
    "\n"
   ]
  },
  {
   "cell_type": "code",
   "execution_count": 4,
   "id": "944fb238",
   "metadata": {
    "execution": {
     "iopub.execute_input": "2022-03-25T02:13:32.178584Z",
     "iopub.status.busy": "2022-03-25T02:13:32.174045Z",
     "iopub.status.idle": "2022-03-25T02:13:32.192973Z",
     "shell.execute_reply": "2022-03-25T02:13:32.193325Z"
    },
    "papermill": {
     "duration": 0.038821,
     "end_time": "2022-03-25T02:13:32.193431",
     "exception": false,
     "start_time": "2022-03-25T02:13:32.154610",
     "status": "completed"
    },
    "tags": [
     "injected-parameters"
    ]
   },
   "outputs": [],
   "source": [
    "# Parameters\n",
    "parameters = {\n",
    "    \"experiment_name\": \"tl_3Av2:cores -> oracle.run1.framed\",\n",
    "    \"device\": \"cuda\",\n",
    "    \"lr\": 0.0001,\n",
    "    \"x_shape\": [2, 200],\n",
    "    \"n_shot\": 3,\n",
    "    \"n_query\": 2,\n",
    "    \"train_k_factor\": 3,\n",
    "    \"val_k_factor\": 2,\n",
    "    \"test_k_factor\": 2,\n",
    "    \"torch_default_dtype\": \"torch.float32\",\n",
    "    \"n_epoch\": 50,\n",
    "    \"patience\": 3,\n",
    "    \"criteria_for_best\": \"target_accuracy\",\n",
    "    \"x_net\": [\n",
    "        {\"class\": \"nnReshape\", \"kargs\": {\"shape\": [-1, 1, 2, 200]}},\n",
    "        {\n",
    "            \"class\": \"Conv2d\",\n",
    "            \"kargs\": {\n",
    "                \"in_channels\": 1,\n",
    "                \"out_channels\": 256,\n",
    "                \"kernel_size\": [1, 7],\n",
    "                \"bias\": False,\n",
    "                \"padding\": [0, 3],\n",
    "            },\n",
    "        },\n",
    "        {\"class\": \"ReLU\", \"kargs\": {\"inplace\": True}},\n",
    "        {\"class\": \"BatchNorm2d\", \"kargs\": {\"num_features\": 256}},\n",
    "        {\n",
    "            \"class\": \"Conv2d\",\n",
    "            \"kargs\": {\n",
    "                \"in_channels\": 256,\n",
    "                \"out_channels\": 80,\n",
    "                \"kernel_size\": [2, 7],\n",
    "                \"bias\": True,\n",
    "                \"padding\": [0, 3],\n",
    "            },\n",
    "        },\n",
    "        {\"class\": \"ReLU\", \"kargs\": {\"inplace\": True}},\n",
    "        {\"class\": \"BatchNorm2d\", \"kargs\": {\"num_features\": 80}},\n",
    "        {\"class\": \"Flatten\", \"kargs\": {}},\n",
    "        {\"class\": \"Linear\", \"kargs\": {\"in_features\": 16000, \"out_features\": 256}},\n",
    "        {\"class\": \"ReLU\", \"kargs\": {\"inplace\": True}},\n",
    "        {\"class\": \"BatchNorm1d\", \"kargs\": {\"num_features\": 256}},\n",
    "        {\"class\": \"Linear\", \"kargs\": {\"in_features\": 256, \"out_features\": 256}},\n",
    "    ],\n",
    "    \"NUM_LOGS_PER_EPOCH\": 10,\n",
    "    \"BEST_MODEL_PATH\": \"./best_model.pth\",\n",
    "    \"n_way\": 16,\n",
    "    \"datasets\": [\n",
    "        {\n",
    "            \"labels\": [\n",
    "                \"1-10.\",\n",
    "                \"1-11.\",\n",
    "                \"1-15.\",\n",
    "                \"1-16.\",\n",
    "                \"1-17.\",\n",
    "                \"1-18.\",\n",
    "                \"1-19.\",\n",
    "                \"10-4.\",\n",
    "                \"10-7.\",\n",
    "                \"11-1.\",\n",
    "                \"11-14.\",\n",
    "                \"11-17.\",\n",
    "                \"11-20.\",\n",
    "                \"11-7.\",\n",
    "                \"13-20.\",\n",
    "                \"13-8.\",\n",
    "                \"14-10.\",\n",
    "                \"14-11.\",\n",
    "                \"14-14.\",\n",
    "                \"14-7.\",\n",
    "                \"15-1.\",\n",
    "                \"15-20.\",\n",
    "                \"16-1.\",\n",
    "                \"16-16.\",\n",
    "                \"17-10.\",\n",
    "                \"17-11.\",\n",
    "                \"17-2.\",\n",
    "                \"19-1.\",\n",
    "                \"19-16.\",\n",
    "                \"19-19.\",\n",
    "                \"19-20.\",\n",
    "                \"19-3.\",\n",
    "                \"2-10.\",\n",
    "                \"2-11.\",\n",
    "                \"2-17.\",\n",
    "                \"2-18.\",\n",
    "                \"2-20.\",\n",
    "                \"2-3.\",\n",
    "                \"2-4.\",\n",
    "                \"2-5.\",\n",
    "                \"2-6.\",\n",
    "                \"2-7.\",\n",
    "                \"2-8.\",\n",
    "                \"3-13.\",\n",
    "                \"3-18.\",\n",
    "                \"3-3.\",\n",
    "                \"4-1.\",\n",
    "                \"4-10.\",\n",
    "                \"4-11.\",\n",
    "                \"4-19.\",\n",
    "                \"5-5.\",\n",
    "                \"6-15.\",\n",
    "                \"7-10.\",\n",
    "                \"7-14.\",\n",
    "                \"8-18.\",\n",
    "                \"8-20.\",\n",
    "                \"8-3.\",\n",
    "                \"8-8.\",\n",
    "            ],\n",
    "            \"domains\": [1, 2, 3, 4, 5],\n",
    "            \"num_examples_per_domain_per_label\": -1,\n",
    "            \"pickle_path\": \"/mnt/wd500GB/CSC500/csc500-main/datasets/cores.stratified_ds.2022A.pkl\",\n",
    "            \"source_or_target_dataset\": \"source\",\n",
    "            \"x_transforms\": [\"unit_power\", \"take_200\"],\n",
    "            \"episode_transforms\": [],\n",
    "            \"domain_prefix\": \"C_\",\n",
    "        },\n",
    "        {\n",
    "            \"labels\": [\n",
    "                \"3123D52\",\n",
    "                \"3123D65\",\n",
    "                \"3123D79\",\n",
    "                \"3123D80\",\n",
    "                \"3123D54\",\n",
    "                \"3123D70\",\n",
    "                \"3123D7B\",\n",
    "                \"3123D89\",\n",
    "                \"3123D58\",\n",
    "                \"3123D76\",\n",
    "                \"3123D7D\",\n",
    "                \"3123EFE\",\n",
    "                \"3123D64\",\n",
    "                \"3123D78\",\n",
    "                \"3123D7E\",\n",
    "                \"3124E4A\",\n",
    "            ],\n",
    "            \"domains\": [32, 38, 8, 44, 14, 50, 20, 26],\n",
    "            \"num_examples_per_domain_per_label\": 2000,\n",
    "            \"pickle_path\": \"/mnt/wd500GB/CSC500/csc500-main/datasets/oracle.Run1_framed_2000Examples_stratified_ds.2022A.pkl\",\n",
    "            \"source_or_target_dataset\": \"target\",\n",
    "            \"x_transforms\": [\"unit_power\", \"take_200\", \"resample_20Msps_to_25Msps\"],\n",
    "            \"episode_transforms\": [],\n",
    "            \"domain_prefix\": \"O_\",\n",
    "        },\n",
    "    ],\n",
    "    \"seed\": 1337,\n",
    "    \"dataset_seed\": 1337,\n",
    "}\n"
   ]
  },
  {
   "cell_type": "code",
   "execution_count": 5,
   "id": "8fa1cc33",
   "metadata": {
    "execution": {
     "iopub.execute_input": "2022-03-25T02:13:32.226349Z",
     "iopub.status.busy": "2022-03-25T02:13:32.226088Z",
     "iopub.status.idle": "2022-03-25T02:13:32.237390Z",
     "shell.execute_reply": "2022-03-25T02:13:32.237738Z"
    },
    "papermill": {
     "duration": 0.027429,
     "end_time": "2022-03-25T02:13:32.237843",
     "exception": false,
     "start_time": "2022-03-25T02:13:32.210414",
     "status": "completed"
    },
    "tags": []
   },
   "outputs": [],
   "source": [
    "# Set this to True if you want to run this template directly\n",
    "STANDALONE = False\n",
    "if STANDALONE:\n",
    "    print(\"parameters not injected, running with standalone_parameters\")\n",
    "    parameters = standalone_parameters\n",
    "\n",
    "if not 'parameters' in locals() and not 'parameters' in globals():\n",
    "    raise Exception(\"Parameter injection failed\")\n",
    "\n",
    "#Use an easy dict for all the parameters\n",
    "p = EasyDict(parameters)\n",
    "\n",
    "if \"x_shape\" not in p:\n",
    "    p.x_shape = [2,256] # Default to this if we dont supply x_shape\n",
    "\n",
    "\n",
    "supplied_keys = set(p.keys())\n",
    "\n",
    "if  supplied_keys != required_parameters:\n",
    "    print(\"Parameters are incorrect\")\n",
    "    if len(supplied_keys - required_parameters)>0: print(\"Shouldn't have:\", str(supplied_keys - required_parameters))\n",
    "    if len(required_parameters - supplied_keys)>0: print(\"Need to have:\", str(required_parameters - supplied_keys))\n",
    "    raise RuntimeError(\"Parameters are incorrect\")"
   ]
  },
  {
   "cell_type": "code",
   "execution_count": 6,
   "id": "3a028d58",
   "metadata": {
    "execution": {
     "iopub.execute_input": "2022-03-25T02:13:32.269051Z",
     "iopub.status.busy": "2022-03-25T02:13:32.268804Z",
     "iopub.status.idle": "2022-03-25T02:13:32.279654Z",
     "shell.execute_reply": "2022-03-25T02:13:32.279340Z"
    },
    "papermill": {
     "duration": 0.025043,
     "end_time": "2022-03-25T02:13:32.279724",
     "exception": false,
     "start_time": "2022-03-25T02:13:32.254681",
     "status": "completed"
    },
    "tags": []
   },
   "outputs": [],
   "source": [
    "###################################\n",
    "# Set the RNGs and make it all deterministic\n",
    "###################################\n",
    "np.random.seed(p.seed)\n",
    "random.seed(p.seed)\n",
    "torch.manual_seed(p.seed)\n",
    "\n",
    "torch.use_deterministic_algorithms(True) "
   ]
  },
  {
   "cell_type": "code",
   "execution_count": 7,
   "id": "b691acf6",
   "metadata": {
    "execution": {
     "iopub.execute_input": "2022-03-25T02:13:32.312585Z",
     "iopub.status.busy": "2022-03-25T02:13:32.312338Z",
     "iopub.status.idle": "2022-03-25T02:13:32.327467Z",
     "shell.execute_reply": "2022-03-25T02:13:32.327837Z"
    },
    "papermill": {
     "duration": 0.030706,
     "end_time": "2022-03-25T02:13:32.327940",
     "exception": false,
     "start_time": "2022-03-25T02:13:32.297234",
     "status": "completed"
    },
    "tags": []
   },
   "outputs": [],
   "source": [
    "###########################################\n",
    "# The stratified datasets honor this\n",
    "###########################################\n",
    "torch.set_default_dtype(eval(p.torch_default_dtype))"
   ]
  },
  {
   "cell_type": "code",
   "execution_count": 8,
   "id": "b5fba671",
   "metadata": {
    "execution": {
     "iopub.execute_input": "2022-03-25T02:13:32.360516Z",
     "iopub.status.busy": "2022-03-25T02:13:32.360242Z",
     "iopub.status.idle": "2022-03-25T02:13:32.396121Z",
     "shell.execute_reply": "2022-03-25T02:13:32.395671Z"
    },
    "papermill": {
     "duration": 0.050899,
     "end_time": "2022-03-25T02:13:32.396222",
     "exception": false,
     "start_time": "2022-03-25T02:13:32.345323",
     "status": "completed"
    },
    "tags": []
   },
   "outputs": [],
   "source": [
    "###################################\n",
    "# Build the network(s)\n",
    "# Note: It's critical to do this AFTER setting the RNG\n",
    "###################################\n",
    "x_net = build_sequential(p.x_net)"
   ]
  },
  {
   "cell_type": "code",
   "execution_count": 9,
   "id": "5d7e61cc",
   "metadata": {
    "execution": {
     "iopub.execute_input": "2022-03-25T02:13:32.429275Z",
     "iopub.status.busy": "2022-03-25T02:13:32.429032Z",
     "iopub.status.idle": "2022-03-25T02:13:32.445642Z",
     "shell.execute_reply": "2022-03-25T02:13:32.446041Z"
    },
    "papermill": {
     "duration": 0.03219,
     "end_time": "2022-03-25T02:13:32.446154",
     "exception": false,
     "start_time": "2022-03-25T02:13:32.413964",
     "status": "completed"
    },
    "tags": []
   },
   "outputs": [],
   "source": [
    "start_time_secs = time.time()"
   ]
  },
  {
   "cell_type": "code",
   "execution_count": 10,
   "id": "c6b67dfd",
   "metadata": {
    "execution": {
     "iopub.execute_input": "2022-03-25T02:13:32.478303Z",
     "iopub.status.busy": "2022-03-25T02:13:32.478054Z",
     "iopub.status.idle": "2022-03-25T02:13:32.492965Z",
     "shell.execute_reply": "2022-03-25T02:13:32.492565Z"
    },
    "papermill": {
     "duration": 0.030419,
     "end_time": "2022-03-25T02:13:32.493052",
     "exception": false,
     "start_time": "2022-03-25T02:13:32.462633",
     "status": "completed"
    },
    "tags": []
   },
   "outputs": [],
   "source": [
    "p.domains_source = []\n",
    "p.domains_target = []\n",
    "\n",
    "\n",
    "train_original_source = []\n",
    "val_original_source   = []\n",
    "test_original_source  = []\n",
    "\n",
    "train_original_target = []\n",
    "val_original_target   = []\n",
    "test_original_target  = []"
   ]
  },
  {
   "cell_type": "code",
   "execution_count": 11,
   "id": "e3d9c3d3",
   "metadata": {
    "execution": {
     "iopub.execute_input": "2022-03-25T02:13:32.525377Z",
     "iopub.status.busy": "2022-03-25T02:13:32.525132Z",
     "iopub.status.idle": "2022-03-25T02:13:32.539537Z",
     "shell.execute_reply": "2022-03-25T02:13:32.539904Z"
    },
    "papermill": {
     "duration": 0.029731,
     "end_time": "2022-03-25T02:13:32.540006",
     "exception": false,
     "start_time": "2022-03-25T02:13:32.510275",
     "status": "completed"
    },
    "tags": []
   },
   "outputs": [],
   "source": [
    "# global_x_transform_func = lambda x: normalize(x.to(torch.get_default_dtype()), \"unit_power\") # unit_power, unit_mag\n",
    "# global_x_transform_func = lambda x: normalize(x, \"unit_power\") # unit_power, unit_mag"
   ]
  },
  {
   "cell_type": "code",
   "execution_count": 12,
   "id": "acb78fd2",
   "metadata": {
    "execution": {
     "iopub.execute_input": "2022-03-25T02:13:32.573566Z",
     "iopub.status.busy": "2022-03-25T02:13:32.573277Z",
     "iopub.status.idle": "2022-03-25T02:13:32.585298Z",
     "shell.execute_reply": "2022-03-25T02:13:32.584909Z"
    },
    "papermill": {
     "duration": 0.029476,
     "end_time": "2022-03-25T02:13:32.585387",
     "exception": false,
     "start_time": "2022-03-25T02:13:32.555911",
     "status": "completed"
    },
    "tags": []
   },
   "outputs": [],
   "source": [
    "def add_dataset(\n",
    "    labels,\n",
    "    domains,\n",
    "    pickle_path,\n",
    "    x_transforms,\n",
    "    episode_transforms,\n",
    "    domain_prefix,\n",
    "    num_examples_per_domain_per_label,\n",
    "    source_or_target_dataset:str,\n",
    "    iterator_seed=p.seed,\n",
    "    dataset_seed=p.dataset_seed,\n",
    "    n_shot=p.n_shot,\n",
    "    n_way=p.n_way,\n",
    "    n_query=p.n_query,\n",
    "    train_val_test_k_factors=(p.train_k_factor,p.val_k_factor,p.test_k_factor),\n",
    "):\n",
    "   \n",
    "    if x_transforms == []: x_transform = None\n",
    "    else: x_transform = get_chained_transform(x_transforms)\n",
    "    \n",
    "    if episode_transforms == []: episode_transform = None\n",
    "    else: raise Exception(\"episode_transforms not implemented\")\n",
    "    \n",
    "    episode_transform = lambda tup, _prefix=domain_prefix: (_prefix + str(tup[0]), tup[1])\n",
    "\n",
    "\n",
    "    eaf = Episodic_Accessor_Factory(\n",
    "        labels=labels,\n",
    "        domains=domains,\n",
    "        num_examples_per_domain_per_label=num_examples_per_domain_per_label,\n",
    "        iterator_seed=iterator_seed,\n",
    "        dataset_seed=dataset_seed,\n",
    "        n_shot=n_shot,\n",
    "        n_way=n_way,\n",
    "        n_query=n_query,\n",
    "        train_val_test_k_factors=train_val_test_k_factors,\n",
    "        pickle_path=pickle_path,\n",
    "        x_transform_func=x_transform,\n",
    "    )\n",
    "\n",
    "    train, val, test = eaf.get_train(), eaf.get_val(), eaf.get_test()\n",
    "    train = Lazy_Iterable_Wrapper(train, episode_transform)\n",
    "    val = Lazy_Iterable_Wrapper(val, episode_transform)\n",
    "    test = Lazy_Iterable_Wrapper(test, episode_transform)\n",
    "\n",
    "    if source_or_target_dataset==\"source\":\n",
    "        train_original_source.append(train)\n",
    "        val_original_source.append(val)\n",
    "        test_original_source.append(test)\n",
    "\n",
    "        p.domains_source.extend(\n",
    "            [domain_prefix + str(u) for u in domains]\n",
    "        )\n",
    "    elif source_or_target_dataset==\"target\":\n",
    "        train_original_target.append(train)\n",
    "        val_original_target.append(val)\n",
    "        test_original_target.append(test)\n",
    "        p.domains_target.extend(\n",
    "            [domain_prefix + str(u) for u in domains]\n",
    "        )\n",
    "    else:\n",
    "        raise Exception(f\"invalid source_or_target_dataset: {source_or_target_dataset}\")\n",
    "    "
   ]
  },
  {
   "cell_type": "code",
   "execution_count": 13,
   "id": "fe266617",
   "metadata": {
    "execution": {
     "iopub.execute_input": "2022-03-25T02:13:32.617431Z",
     "iopub.status.busy": "2022-03-25T02:13:32.617185Z",
     "iopub.status.idle": "2022-03-25T02:14:27.158528Z",
     "shell.execute_reply": "2022-03-25T02:14:27.158092Z"
    },
    "papermill": {
     "duration": 54.556044,
     "end_time": "2022-03-25T02:14:27.158633",
     "exception": false,
     "start_time": "2022-03-25T02:13:32.602589",
     "status": "completed"
    },
    "tags": []
   },
   "outputs": [],
   "source": [
    "for ds in p.datasets:\n",
    "    add_dataset(**ds)"
   ]
  },
  {
   "cell_type": "code",
   "execution_count": 14,
   "id": "b90d65ac",
   "metadata": {
    "execution": {
     "iopub.execute_input": "2022-03-25T02:14:27.194539Z",
     "iopub.status.busy": "2022-03-25T02:14:27.194280Z",
     "iopub.status.idle": "2022-03-25T02:14:27.211129Z",
     "shell.execute_reply": "2022-03-25T02:14:27.210733Z"
    },
    "papermill": {
     "duration": 0.035133,
     "end_time": "2022-03-25T02:14:27.211220",
     "exception": false,
     "start_time": "2022-03-25T02:14:27.176087",
     "status": "completed"
    },
    "tags": []
   },
   "outputs": [],
   "source": [
    "# from steves_utils.CORES.utils import (\n",
    "#     ALL_NODES,\n",
    "#     ALL_NODES_MINIMUM_1000_EXAMPLES,\n",
    "#     ALL_DAYS\n",
    "# )\n",
    "\n",
    "# add_dataset(\n",
    "#     labels=ALL_NODES,\n",
    "#     domains = ALL_DAYS,\n",
    "#     num_examples_per_domain_per_label=100,\n",
    "#     pickle_path=os.path.join(get_datasets_base_path(), \"cores.stratified_ds.2022A.pkl\"),\n",
    "#     source_or_target_dataset=\"target\",\n",
    "#     x_transform_func=global_x_transform_func,\n",
    "#     domain_modifier=lambda u: f\"cores_{u}\"\n",
    "# )"
   ]
  },
  {
   "cell_type": "code",
   "execution_count": 15,
   "id": "76db484d",
   "metadata": {
    "execution": {
     "iopub.execute_input": "2022-03-25T02:14:27.245575Z",
     "iopub.status.busy": "2022-03-25T02:14:27.245321Z",
     "iopub.status.idle": "2022-03-25T02:14:27.257468Z",
     "shell.execute_reply": "2022-03-25T02:14:27.257112Z"
    },
    "papermill": {
     "duration": 0.027909,
     "end_time": "2022-03-25T02:14:27.257538",
     "exception": false,
     "start_time": "2022-03-25T02:14:27.229629",
     "status": "completed"
    },
    "tags": []
   },
   "outputs": [],
   "source": [
    "# from steves_utils.ORACLE.utils_v2 import (\n",
    "#     ALL_DISTANCES_FEET,\n",
    "#     ALL_RUNS,\n",
    "#     ALL_SERIAL_NUMBERS,\n",
    "# )\n",
    "\n",
    "\n",
    "# add_dataset(\n",
    "#     labels=ALL_SERIAL_NUMBERS,\n",
    "#     domains = list(set(ALL_DISTANCES_FEET) - {2,62}),\n",
    "#     num_examples_per_domain_per_label=100,\n",
    "#     pickle_path=os.path.join(get_datasets_base_path(), \"oracle.Run2_framed_2000Examples_stratified_ds.2022A.pkl\"),\n",
    "#     source_or_target_dataset=\"source\",\n",
    "#     x_transform_func=global_x_transform_func,\n",
    "#     domain_modifier=lambda u: f\"oracle1_{u}\"\n",
    "# )\n"
   ]
  },
  {
   "cell_type": "code",
   "execution_count": 16,
   "id": "97dea9d2",
   "metadata": {
    "execution": {
     "iopub.execute_input": "2022-03-25T02:14:27.290883Z",
     "iopub.status.busy": "2022-03-25T02:14:27.290622Z",
     "iopub.status.idle": "2022-03-25T02:14:27.303544Z",
     "shell.execute_reply": "2022-03-25T02:14:27.303905Z"
    },
    "papermill": {
     "duration": 0.029144,
     "end_time": "2022-03-25T02:14:27.304016",
     "exception": false,
     "start_time": "2022-03-25T02:14:27.274872",
     "status": "completed"
    },
    "tags": []
   },
   "outputs": [],
   "source": [
    "# from steves_utils.ORACLE.utils_v2 import (\n",
    "#     ALL_DISTANCES_FEET,\n",
    "#     ALL_RUNS,\n",
    "#     ALL_SERIAL_NUMBERS,\n",
    "# )\n",
    "\n",
    "\n",
    "# add_dataset(\n",
    "#     labels=ALL_SERIAL_NUMBERS,\n",
    "#     domains = list(set(ALL_DISTANCES_FEET) - {2,62,56}),\n",
    "#     num_examples_per_domain_per_label=100,\n",
    "#     pickle_path=os.path.join(get_datasets_base_path(), \"oracle.Run2_framed_2000Examples_stratified_ds.2022A.pkl\"),\n",
    "#     source_or_target_dataset=\"source\",\n",
    "#     x_transform_func=global_x_transform_func,\n",
    "#     domain_modifier=lambda u: f\"oracle2_{u}\"\n",
    "# )"
   ]
  },
  {
   "cell_type": "code",
   "execution_count": 17,
   "id": "6f289866",
   "metadata": {
    "execution": {
     "iopub.execute_input": "2022-03-25T02:14:27.338800Z",
     "iopub.status.busy": "2022-03-25T02:14:27.338549Z",
     "iopub.status.idle": "2022-03-25T02:14:27.350144Z",
     "shell.execute_reply": "2022-03-25T02:14:27.349737Z"
    },
    "papermill": {
     "duration": 0.027321,
     "end_time": "2022-03-25T02:14:27.350235",
     "exception": false,
     "start_time": "2022-03-25T02:14:27.322914",
     "status": "completed"
    },
    "tags": []
   },
   "outputs": [],
   "source": [
    "# add_dataset(\n",
    "#     labels=list(range(19)),\n",
    "#     domains = [0,1,2],\n",
    "#     num_examples_per_domain_per_label=100,\n",
    "#     pickle_path=os.path.join(get_datasets_base_path(), \"metehan.stratified_ds.2022A.pkl\"),\n",
    "#     source_or_target_dataset=\"target\",\n",
    "#     x_transform_func=global_x_transform_func,\n",
    "#     domain_modifier=lambda u: f\"met_{u}\"\n",
    "# )"
   ]
  },
  {
   "cell_type": "code",
   "execution_count": 18,
   "id": "86a863c3",
   "metadata": {
    "execution": {
     "iopub.execute_input": "2022-03-25T02:14:27.383377Z",
     "iopub.status.busy": "2022-03-25T02:14:27.383126Z",
     "iopub.status.idle": "2022-03-25T02:14:27.396112Z",
     "shell.execute_reply": "2022-03-25T02:14:27.396405Z"
    },
    "papermill": {
     "duration": 0.028831,
     "end_time": "2022-03-25T02:14:27.396488",
     "exception": false,
     "start_time": "2022-03-25T02:14:27.367657",
     "status": "completed"
    },
    "tags": []
   },
   "outputs": [],
   "source": [
    "# # from steves_utils.wisig.utils import (\n",
    "# #     ALL_NODES_MINIMUM_100_EXAMPLES,\n",
    "# #     ALL_NODES_MINIMUM_500_EXAMPLES,\n",
    "# #     ALL_NODES_MINIMUM_1000_EXAMPLES,\n",
    "# #     ALL_DAYS\n",
    "# # )\n",
    "\n",
    "# import steves_utils.wisig.utils as wisig\n",
    "\n",
    "\n",
    "# add_dataset(\n",
    "#     labels=wisig.ALL_NODES_MINIMUM_100_EXAMPLES,\n",
    "#     domains = wisig.ALL_DAYS,\n",
    "#     num_examples_per_domain_per_label=100,\n",
    "#     pickle_path=os.path.join(get_datasets_base_path(), \"wisig.node3-19.stratified_ds.2022A.pkl\"),\n",
    "#     source_or_target_dataset=\"target\",\n",
    "#     x_transform_func=global_x_transform_func,\n",
    "#     domain_modifier=lambda u: f\"wisig_{u}\"\n",
    "# )"
   ]
  },
  {
   "cell_type": "code",
   "execution_count": 19,
   "id": "fd5442bc",
   "metadata": {
    "execution": {
     "iopub.execute_input": "2022-03-25T02:14:27.431984Z",
     "iopub.status.busy": "2022-03-25T02:14:27.431721Z",
     "iopub.status.idle": "2022-03-25T02:14:27.443666Z",
     "shell.execute_reply": "2022-03-25T02:14:27.443270Z"
    },
    "papermill": {
     "duration": 0.029346,
     "end_time": "2022-03-25T02:14:27.443755",
     "exception": false,
     "start_time": "2022-03-25T02:14:27.414409",
     "status": "completed"
    },
    "tags": []
   },
   "outputs": [],
   "source": [
    "###################################\n",
    "# Build the dataset\n",
    "###################################\n",
    "train_original_source = Iterable_Aggregator(train_original_source, p.seed)\n",
    "val_original_source = Iterable_Aggregator(val_original_source, p.seed)\n",
    "test_original_source = Iterable_Aggregator(test_original_source, p.seed)\n",
    "\n",
    "\n",
    "train_original_target = Iterable_Aggregator(train_original_target, p.seed)\n",
    "val_original_target = Iterable_Aggregator(val_original_target, p.seed)\n",
    "test_original_target = Iterable_Aggregator(test_original_target, p.seed)\n",
    "\n",
    "# For CNN We only use X and Y. And we only train on the source.\n",
    "# Properly form the data using a transform lambda and Lazy_Iterable_Wrapper. Finally wrap them in a dataloader\n",
    "\n",
    "transform_lambda = lambda ex: ex[1] # Original is (<domain>, <episode>) so we strip down to episode only\n",
    "\n",
    "train_processed_source = Lazy_Iterable_Wrapper(train_original_source, transform_lambda)\n",
    "val_processed_source   = Lazy_Iterable_Wrapper(val_original_source, transform_lambda)\n",
    "test_processed_source  = Lazy_Iterable_Wrapper(test_original_source, transform_lambda)\n",
    "\n",
    "train_processed_target = Lazy_Iterable_Wrapper(train_original_target, transform_lambda)\n",
    "val_processed_target   = Lazy_Iterable_Wrapper(val_original_target, transform_lambda)\n",
    "test_processed_target  = Lazy_Iterable_Wrapper(test_original_target, transform_lambda)\n",
    "\n",
    "datasets = EasyDict({\n",
    "    \"source\": {\n",
    "        \"original\": {\"train\":train_original_source, \"val\":val_original_source, \"test\":test_original_source},\n",
    "        \"processed\": {\"train\":train_processed_source, \"val\":val_processed_source, \"test\":test_processed_source}\n",
    "    },\n",
    "    \"target\": {\n",
    "        \"original\": {\"train\":train_original_target, \"val\":val_original_target, \"test\":test_original_target},\n",
    "        \"processed\": {\"train\":train_processed_target, \"val\":val_processed_target, \"test\":test_processed_target}\n",
    "    },\n",
    "})"
   ]
  },
  {
   "cell_type": "code",
   "execution_count": 20,
   "id": "5b3c01fc",
   "metadata": {
    "execution": {
     "iopub.execute_input": "2022-03-25T02:14:27.477435Z",
     "iopub.status.busy": "2022-03-25T02:14:27.477176Z",
     "iopub.status.idle": "2022-03-25T02:14:33.807274Z",
     "shell.execute_reply": "2022-03-25T02:14:33.807515Z"
    },
    "papermill": {
     "duration": 6.347126,
     "end_time": "2022-03-25T02:14:33.807598",
     "exception": false,
     "start_time": "2022-03-25T02:14:27.460472",
     "status": "completed"
    },
    "tags": []
   },
   "outputs": [
    {
     "name": "stdout",
     "output_type": "stream",
     "text": [
      "{'C_4', 'C_2', 'C_5', 'C_3', 'C_1'}\n"
     ]
    },
    {
     "name": "stdout",
     "output_type": "stream",
     "text": [
      "{'O_14', 'O_50', 'O_38', 'O_8', 'O_20', 'O_32', 'O_44', 'O_26'}\n"
     ]
    },
    {
     "name": "stdout",
     "output_type": "stream",
     "text": [
      "tensor([[[-0.3139, -0.5826,  0.4138,  ..., -0.7951, -0.4931,  0.1926],\n",
      "         [ 0.0975, -0.7499, -0.5731,  ..., -0.4994, -1.5735, -1.0686]],\n",
      "\n",
      "        [[-0.4706, -0.4920,  0.7486,  ..., -0.9855, -0.2527, -0.0420],\n",
      "         [-0.0887, -0.8279, -0.3486,  ..., -0.8865, -1.5353, -0.7859]],\n",
      "\n",
      "        [[-0.2234, -0.3363,  0.3236,  ..., -0.4539, -0.1200,  0.7404],\n",
      "         [ 0.1358, -0.6804, -0.7578,  ..., -0.2581, -1.5574, -1.1643]],\n",
      "\n",
      "        ...,\n",
      "\n",
      "        [[ 0.5408,  0.7207,  0.7714,  ...,  0.0480, -0.0933, -0.6891],\n",
      "         [ 0.4036,  0.7536, -0.1002,  ...,  0.7481, -0.1812, -1.0542]],\n",
      "\n",
      "        [[ 0.3592,  0.3605, -0.1581,  ..., -0.6466, -0.0340, -0.0353],\n",
      "         [ 0.1372,  0.0483, -0.2887,  ..., -0.3044,  0.0300,  0.4428]],\n",
      "\n",
      "        [[ 0.2975,  0.5361,  0.6711,  ..., -0.1363, -0.0446, -0.1206],\n",
      "         [ 0.8743,  0.7510, -0.3670,  ...,  0.3264, -0.6763, -1.4733]]])\n"
     ]
    }
   ],
   "source": [
    "from steves_utils.transforms import get_average_magnitude, get_average_power\n",
    "\n",
    "print(set([u for u,_ in val_original_source]))\n",
    "print(set([u for u,_ in val_original_target]))\n",
    "\n",
    "s_x, s_y, q_x, q_y, _ = next(iter(train_processed_source))\n",
    "print(s_x)\n",
    "\n",
    "# for ds in [\n",
    "#     train_processed_source,\n",
    "#     val_processed_source,\n",
    "#     test_processed_source,\n",
    "#     train_processed_target,\n",
    "#     val_processed_target,\n",
    "#     test_processed_target\n",
    "# ]:\n",
    "#     for s_x, s_y, q_x, q_y, _ in ds:\n",
    "#         for X in (s_x, q_x):\n",
    "#             for x in X:\n",
    "#                 assert np.isclose(get_average_magnitude(x.numpy()), 1.0)\n",
    "#                 assert np.isclose(get_average_power(x.numpy()), 1.0)\n",
    "                "
   ]
  },
  {
   "cell_type": "code",
   "execution_count": 21,
   "id": "bbdacba1",
   "metadata": {
    "execution": {
     "iopub.execute_input": "2022-03-25T02:14:33.839770Z",
     "iopub.status.busy": "2022-03-25T02:14:33.839504Z",
     "iopub.status.idle": "2022-03-25T02:14:33.888351Z",
     "shell.execute_reply": "2022-03-25T02:14:33.888760Z"
    },
    "papermill": {
     "duration": 0.066851,
     "end_time": "2022-03-25T02:14:33.888892",
     "exception": false,
     "start_time": "2022-03-25T02:14:33.822041",
     "status": "completed"
    },
    "tags": []
   },
   "outputs": [
    {
     "name": "stdout",
     "output_type": "stream",
     "text": [
      "(2, 200)\n"
     ]
    }
   ],
   "source": [
    "###################################\n",
    "# Build the model\n",
    "###################################\n",
    "# easfsl only wants a tuple for the shape\n",
    "model = Steves_Prototypical_Network(x_net, device=p.device, x_shape=tuple(p.x_shape))\n",
    "optimizer = Adam(params=model.parameters(), lr=p.lr)"
   ]
  },
  {
   "cell_type": "code",
   "execution_count": 22,
   "id": "22b39ac5",
   "metadata": {
    "execution": {
     "iopub.execute_input": "2022-03-25T02:14:33.926763Z",
     "iopub.status.busy": "2022-03-25T02:14:33.924862Z",
     "iopub.status.idle": "2022-03-25T02:27:25.559014Z",
     "shell.execute_reply": "2022-03-25T02:27:25.558779Z"
    },
    "papermill": {
     "duration": 771.650196,
     "end_time": "2022-03-25T02:27:25.559072",
     "exception": false,
     "start_time": "2022-03-25T02:14:33.908876",
     "status": "completed"
    },
    "tags": []
   },
   "outputs": [
    {
     "name": "stdout",
     "output_type": "stream",
     "text": [
      "epoch: 1, [batch: 1 / 6320], examples_per_second: 47.6325, train_label_loss: 2.7313, \n"
     ]
    },
    {
     "name": "stdout",
     "output_type": "stream",
     "text": [
      "epoch: 1, [batch: 632 / 6320], examples_per_second: 3667.8214, train_label_loss: 0.0100, \n"
     ]
    },
    {
     "name": "stdout",
     "output_type": "stream",
     "text": [
      "epoch: 1, [batch: 1264 / 6320], examples_per_second: 3716.9910, train_label_loss: 0.0019, \n"
     ]
    },
    {
     "name": "stdout",
     "output_type": "stream",
     "text": [
      "epoch: 1, [batch: 1896 / 6320], examples_per_second: 3724.3356, train_label_loss: 0.0019, \n"
     ]
    },
    {
     "name": "stdout",
     "output_type": "stream",
     "text": [
      "epoch: 1, [batch: 2528 / 6320], examples_per_second: 3701.3484, train_label_loss: 0.0088, \n"
     ]
    },
    {
     "name": "stdout",
     "output_type": "stream",
     "text": [
      "epoch: 1, [batch: 3160 / 6320], examples_per_second: 3700.0315, train_label_loss: 0.0099, \n"
     ]
    },
    {
     "name": "stdout",
     "output_type": "stream",
     "text": [
      "epoch: 1, [batch: 3792 / 6320], examples_per_second: 3714.9058, train_label_loss: 0.0003, \n"
     ]
    },
    {
     "name": "stdout",
     "output_type": "stream",
     "text": [
      "epoch: 1, [batch: 4424 / 6320], examples_per_second: 3686.3320, train_label_loss: 0.0128, \n"
     ]
    },
    {
     "name": "stdout",
     "output_type": "stream",
     "text": [
      "epoch: 1, [batch: 5056 / 6320], examples_per_second: 3686.1770, train_label_loss: 0.0009, \n"
     ]
    },
    {
     "name": "stdout",
     "output_type": "stream",
     "text": [
      "epoch: 1, [batch: 5688 / 6320], examples_per_second: 3672.5746, train_label_loss: 0.0018, \n"
     ]
    },
    {
     "name": "stdout",
     "output_type": "stream",
     "text": [
      "=============================================================\n",
      "epoch: 1, source_val_acc_label: 0.9987, target_val_acc_label: 0.3280, source_val_label_loss: 0.0077, target_val_label_loss: 1.9527, \n",
      "=============================================================\n"
     ]
    },
    {
     "name": "stdout",
     "output_type": "stream",
     "text": [
      "New best\n"
     ]
    },
    {
     "name": "stdout",
     "output_type": "stream",
     "text": [
      "epoch: 2, [batch: 1 / 6305], examples_per_second: 5.5119, train_label_loss: 0.0001, \n"
     ]
    },
    {
     "name": "stdout",
     "output_type": "stream",
     "text": [
      "epoch: 2, [batch: 631 / 6305], examples_per_second: 3510.7598, train_label_loss: 0.0000, \n"
     ]
    },
    {
     "name": "stdout",
     "output_type": "stream",
     "text": [
      "epoch: 2, [batch: 1261 / 6305], examples_per_second: 3585.9927, train_label_loss: 0.0019, \n"
     ]
    },
    {
     "name": "stdout",
     "output_type": "stream",
     "text": [
      "epoch: 2, [batch: 1892 / 6305], examples_per_second: 3594.9844, train_label_loss: 0.0001, \n"
     ]
    },
    {
     "name": "stdout",
     "output_type": "stream",
     "text": [
      "epoch: 2, [batch: 2522 / 6305], examples_per_second: 3549.9047, train_label_loss: 0.0000, \n"
     ]
    },
    {
     "name": "stdout",
     "output_type": "stream",
     "text": [
      "epoch: 2, [batch: 3153 / 6305], examples_per_second: 3539.8761, train_label_loss: 0.0016, \n"
     ]
    },
    {
     "name": "stdout",
     "output_type": "stream",
     "text": [
      "epoch: 2, [batch: 3783 / 6305], examples_per_second: 3551.9987, train_label_loss: 0.0001, \n"
     ]
    },
    {
     "name": "stdout",
     "output_type": "stream",
     "text": [
      "epoch: 2, [batch: 4413 / 6305], examples_per_second: 3473.3285, train_label_loss: 0.0000, \n"
     ]
    },
    {
     "name": "stdout",
     "output_type": "stream",
     "text": [
      "epoch: 2, [batch: 5044 / 6305], examples_per_second: 3594.9086, train_label_loss: 0.0000, \n"
     ]
    },
    {
     "name": "stdout",
     "output_type": "stream",
     "text": [
      "epoch: 2, [batch: 5674 / 6305], examples_per_second: 3624.0265, train_label_loss: 0.0000, \n"
     ]
    },
    {
     "name": "stdout",
     "output_type": "stream",
     "text": [
      "=============================================================\n",
      "epoch: 2, source_val_acc_label: 0.9986, target_val_acc_label: 0.3034, source_val_label_loss: 0.0124, target_val_label_loss: 2.3864, \n",
      "=============================================================\n"
     ]
    },
    {
     "name": "stdout",
     "output_type": "stream",
     "text": [
      "epoch: 3, [batch: 1 / 6307], examples_per_second: 5.4560, train_label_loss: 0.0000, \n"
     ]
    },
    {
     "name": "stdout",
     "output_type": "stream",
     "text": [
      "epoch: 3, [batch: 631 / 6307], examples_per_second: 3614.8133, train_label_loss: 0.0000, \n"
     ]
    },
    {
     "name": "stdout",
     "output_type": "stream",
     "text": [
      "epoch: 3, [batch: 1262 / 6307], examples_per_second: 3539.6598, train_label_loss: 0.0006, \n"
     ]
    },
    {
     "name": "stdout",
     "output_type": "stream",
     "text": [
      "epoch: 3, [batch: 1892 / 6307], examples_per_second: 3529.1688, train_label_loss: 0.1115, \n"
     ]
    },
    {
     "name": "stdout",
     "output_type": "stream",
     "text": [
      "epoch: 3, [batch: 2523 / 6307], examples_per_second: 3625.7301, train_label_loss: 0.0000, \n"
     ]
    },
    {
     "name": "stdout",
     "output_type": "stream",
     "text": [
      "epoch: 3, [batch: 3154 / 6307], examples_per_second: 3465.3614, train_label_loss: 0.0001, \n"
     ]
    },
    {
     "name": "stdout",
     "output_type": "stream",
     "text": [
      "epoch: 3, [batch: 3784 / 6307], examples_per_second: 3556.5440, train_label_loss: 0.0000, \n"
     ]
    },
    {
     "name": "stdout",
     "output_type": "stream",
     "text": [
      "epoch: 3, [batch: 4415 / 6307], examples_per_second: 3529.0250, train_label_loss: 0.0482, \n"
     ]
    },
    {
     "name": "stdout",
     "output_type": "stream",
     "text": [
      "epoch: 3, [batch: 5045 / 6307], examples_per_second: 3610.4017, train_label_loss: 0.0000, \n"
     ]
    },
    {
     "name": "stdout",
     "output_type": "stream",
     "text": [
      "epoch: 3, [batch: 5676 / 6307], examples_per_second: 3575.9656, train_label_loss: 0.0017, \n"
     ]
    },
    {
     "name": "stdout",
     "output_type": "stream",
     "text": [
      "=============================================================\n",
      "epoch: 3, source_val_acc_label: 0.9991, target_val_acc_label: 0.2808, source_val_label_loss: 0.0067, target_val_label_loss: 2.4926, \n",
      "=============================================================\n"
     ]
    },
    {
     "name": "stdout",
     "output_type": "stream",
     "text": [
      "epoch: 4, [batch: 1 / 6315], examples_per_second: 5.3440, train_label_loss: 0.0000, \n"
     ]
    },
    {
     "name": "stdout",
     "output_type": "stream",
     "text": [
      "epoch: 4, [batch: 632 / 6315], examples_per_second: 3555.6997, train_label_loss: 0.0000, \n"
     ]
    },
    {
     "name": "stdout",
     "output_type": "stream",
     "text": [
      "epoch: 4, [batch: 1263 / 6315], examples_per_second: 3635.5567, train_label_loss: 0.0000, \n"
     ]
    },
    {
     "name": "stdout",
     "output_type": "stream",
     "text": [
      "epoch: 4, [batch: 1895 / 6315], examples_per_second: 3639.4543, train_label_loss: 0.0002, \n"
     ]
    },
    {
     "name": "stdout",
     "output_type": "stream",
     "text": [
      "epoch: 4, [batch: 2526 / 6315], examples_per_second: 3687.6271, train_label_loss: 0.0151, \n"
     ]
    },
    {
     "name": "stdout",
     "output_type": "stream",
     "text": [
      "epoch: 4, [batch: 3158 / 6315], examples_per_second: 3702.9995, train_label_loss: 0.0001, \n"
     ]
    },
    {
     "name": "stdout",
     "output_type": "stream",
     "text": [
      "epoch: 4, [batch: 3789 / 6315], examples_per_second: 3704.1083, train_label_loss: 0.0001, \n"
     ]
    },
    {
     "name": "stdout",
     "output_type": "stream",
     "text": [
      "epoch: 4, [batch: 4420 / 6315], examples_per_second: 3699.4085, train_label_loss: 0.0000, \n"
     ]
    },
    {
     "name": "stdout",
     "output_type": "stream",
     "text": [
      "epoch: 4, [batch: 5052 / 6315], examples_per_second: 3708.3956, train_label_loss: 0.0002, \n"
     ]
    },
    {
     "name": "stdout",
     "output_type": "stream",
     "text": [
      "epoch: 4, [batch: 5683 / 6315], examples_per_second: 3717.6563, train_label_loss: 0.0000, \n"
     ]
    },
    {
     "name": "stdout",
     "output_type": "stream",
     "text": [
      "=============================================================\n",
      "epoch: 4, source_val_acc_label: 0.9991, target_val_acc_label: 0.2791, source_val_label_loss: 0.0080, target_val_label_loss: 2.7724, \n",
      "=============================================================\n"
     ]
    },
    {
     "name": "stdout",
     "output_type": "stream",
     "text": [
      "epoch: 5, [batch: 1 / 6313], examples_per_second: 5.5014, train_label_loss: 0.0000, \n"
     ]
    },
    {
     "name": "stdout",
     "output_type": "stream",
     "text": [
      "epoch: 5, [batch: 632 / 6313], examples_per_second: 3682.4405, train_label_loss: 0.0000, \n"
     ]
    },
    {
     "name": "stdout",
     "output_type": "stream",
     "text": [
      "epoch: 5, [batch: 1263 / 6313], examples_per_second: 3700.7204, train_label_loss: 0.0001, \n"
     ]
    },
    {
     "name": "stdout",
     "output_type": "stream",
     "text": [
      "epoch: 5, [batch: 1894 / 6313], examples_per_second: 3690.1578, train_label_loss: 0.0000, \n"
     ]
    },
    {
     "name": "stdout",
     "output_type": "stream",
     "text": [
      "epoch: 5, [batch: 2525 / 6313], examples_per_second: 3678.5608, train_label_loss: 0.0000, \n"
     ]
    },
    {
     "name": "stdout",
     "output_type": "stream",
     "text": [
      "epoch: 5, [batch: 3157 / 6313], examples_per_second: 3693.1861, train_label_loss: 0.0000, \n"
     ]
    },
    {
     "name": "stdout",
     "output_type": "stream",
     "text": [
      "epoch: 5, [batch: 3788 / 6313], examples_per_second: 3703.3619, train_label_loss: 0.0000, \n"
     ]
    },
    {
     "name": "stdout",
     "output_type": "stream",
     "text": [
      "epoch: 5, [batch: 4419 / 6313], examples_per_second: 3699.3993, train_label_loss: 0.0000, \n"
     ]
    },
    {
     "name": "stdout",
     "output_type": "stream",
     "text": [
      "epoch: 5, [batch: 5050 / 6313], examples_per_second: 3703.4997, train_label_loss: 0.0000, \n"
     ]
    },
    {
     "name": "stdout",
     "output_type": "stream",
     "text": [
      "epoch: 5, [batch: 5681 / 6313], examples_per_second: 3687.9061, train_label_loss: 0.0003, \n"
     ]
    },
    {
     "name": "stdout",
     "output_type": "stream",
     "text": [
      "=============================================================\n",
      "epoch: 5, source_val_acc_label: 0.9989, target_val_acc_label: 0.3043, source_val_label_loss: 0.0092, target_val_label_loss: 2.6563, \n",
      "=============================================================\n"
     ]
    },
    {
     "name": "stdout",
     "output_type": "stream",
     "text": [
      "Patience (3) exhausted\n"
     ]
    }
   ],
   "source": [
    "###################################\n",
    "# train\n",
    "###################################\n",
    "jig = PTN_Train_Eval_Test_Jig(model, p.BEST_MODEL_PATH, p.device)\n",
    "\n",
    "jig.train(\n",
    "    train_iterable=datasets.source.processed.train,\n",
    "    source_val_iterable=datasets.source.processed.val,\n",
    "    target_val_iterable=datasets.target.processed.val,\n",
    "    num_epochs=p.n_epoch,\n",
    "    num_logs_per_epoch=p.NUM_LOGS_PER_EPOCH,\n",
    "    patience=p.patience,\n",
    "    optimizer=optimizer,\n",
    "    criteria_for_best=p.criteria_for_best,\n",
    ")"
   ]
  },
  {
   "cell_type": "code",
   "execution_count": 23,
   "id": "31e8fabf",
   "metadata": {
    "execution": {
     "iopub.execute_input": "2022-03-25T02:27:25.610692Z",
     "iopub.status.busy": "2022-03-25T02:27:25.610433Z",
     "iopub.status.idle": "2022-03-25T02:27:25.627970Z",
     "shell.execute_reply": "2022-03-25T02:27:25.627518Z"
    },
    "papermill": {
     "duration": 0.044369,
     "end_time": "2022-03-25T02:27:25.628060",
     "exception": false,
     "start_time": "2022-03-25T02:27:25.583691",
     "status": "completed"
    },
    "tags": []
   },
   "outputs": [],
   "source": [
    "total_experiment_time_secs = time.time() - start_time_secs"
   ]
  },
  {
   "cell_type": "code",
   "execution_count": 24,
   "id": "87b9595b",
   "metadata": {
    "execution": {
     "iopub.execute_input": "2022-03-25T02:27:25.687424Z",
     "iopub.status.busy": "2022-03-25T02:27:25.687042Z",
     "iopub.status.idle": "2022-03-25T02:28:58.226624Z",
     "shell.execute_reply": "2022-03-25T02:28:58.227009Z"
    },
    "papermill": {
     "duration": 92.5699,
     "end_time": "2022-03-25T02:28:58.227153",
     "exception": false,
     "start_time": "2022-03-25T02:27:25.657253",
     "status": "completed"
    },
    "tags": []
   },
   "outputs": [],
   "source": [
    "###################################\n",
    "# Evaluate the model\n",
    "###################################\n",
    "source_test_label_accuracy, source_test_label_loss = jig.test(datasets.source.processed.test)\n",
    "target_test_label_accuracy, target_test_label_loss = jig.test(datasets.target.processed.test)\n",
    "\n",
    "source_val_label_accuracy, source_val_label_loss = jig.test(datasets.source.processed.val)\n",
    "target_val_label_accuracy, target_val_label_loss = jig.test(datasets.target.processed.val)\n",
    "\n",
    "history = jig.get_history()\n",
    "\n",
    "total_epochs_trained = len(history[\"epoch_indices\"])\n",
    "\n",
    "val_dl = Iterable_Aggregator((datasets.source.original.val,datasets.target.original.val))\n",
    "\n",
    "confusion = ptn_confusion_by_domain_over_dataloader(model, p.device, val_dl)\n",
    "per_domain_accuracy = per_domain_accuracy_from_confusion(confusion)\n",
    "\n",
    "# Add a key to per_domain_accuracy for if it was a source domain\n",
    "for domain, accuracy in per_domain_accuracy.items():\n",
    "    per_domain_accuracy[domain] = {\n",
    "        \"accuracy\": accuracy,\n",
    "        \"source?\": domain in p.domains_source\n",
    "    }\n",
    "\n",
    "# Do an independent accuracy assesment JUST TO BE SURE!\n",
    "# _source_test_label_accuracy = independent_accuracy_assesment(model, datasets.source.processed.test, p.device)\n",
    "# _target_test_label_accuracy = independent_accuracy_assesment(model, datasets.target.processed.test, p.device)\n",
    "# _source_val_label_accuracy = independent_accuracy_assesment(model, datasets.source.processed.val, p.device)\n",
    "# _target_val_label_accuracy = independent_accuracy_assesment(model, datasets.target.processed.val, p.device)\n",
    "\n",
    "# assert(_source_test_label_accuracy == source_test_label_accuracy)\n",
    "# assert(_target_test_label_accuracy == target_test_label_accuracy)\n",
    "# assert(_source_val_label_accuracy == source_val_label_accuracy)\n",
    "# assert(_target_val_label_accuracy == target_val_label_accuracy)\n",
    "\n",
    "experiment = {\n",
    "    \"experiment_name\": p.experiment_name,\n",
    "    \"parameters\": dict(p),\n",
    "    \"results\": {\n",
    "        \"source_test_label_accuracy\": source_test_label_accuracy,\n",
    "        \"source_test_label_loss\": source_test_label_loss,\n",
    "        \"target_test_label_accuracy\": target_test_label_accuracy,\n",
    "        \"target_test_label_loss\": target_test_label_loss,\n",
    "        \"source_val_label_accuracy\": source_val_label_accuracy,\n",
    "        \"source_val_label_loss\": source_val_label_loss,\n",
    "        \"target_val_label_accuracy\": target_val_label_accuracy,\n",
    "        \"target_val_label_loss\": target_val_label_loss,\n",
    "        \"total_epochs_trained\": total_epochs_trained,\n",
    "        \"total_experiment_time_secs\": total_experiment_time_secs,\n",
    "        \"confusion\": confusion,\n",
    "        \"per_domain_accuracy\": per_domain_accuracy,\n",
    "    },\n",
    "    \"history\": history,\n",
    "    \"dataset_metrics\": get_dataset_metrics(datasets, \"ptn\"),\n",
    "}"
   ]
  },
  {
   "cell_type": "code",
   "execution_count": 25,
   "id": "54a21829",
   "metadata": {
    "execution": {
     "iopub.execute_input": "2022-03-25T02:28:58.283106Z",
     "iopub.status.busy": "2022-03-25T02:28:58.282846Z",
     "iopub.status.idle": "2022-03-25T02:28:58.404591Z",
     "shell.execute_reply": "2022-03-25T02:28:58.404978Z"
    },
    "papermill": {
     "duration": 0.14982,
     "end_time": "2022-03-25T02:28:58.405097",
     "exception": false,
     "start_time": "2022-03-25T02:28:58.255277",
     "status": "completed"
    },
    "tags": []
   },
   "outputs": [
    {
     "data": {
      "image/png": "[encoded data removed]",
      "text/plain": [
       "<Figure size 1080x504 with 1 Axes>"
      ]
     },
     "metadata": {
      "needs_background": "light"
     },
     "output_type": "display_data"
    }
   ],
   "source": [
    "ax = get_loss_curve(experiment)\n",
    "plt.show()"
   ]
  },
  {
   "cell_type": "code",
   "execution_count": 26,
   "id": "fd8a0f60",
   "metadata": {
    "execution": {
     "iopub.execute_input": "2022-03-25T02:28:58.462303Z",
     "iopub.status.busy": "2022-03-25T02:28:58.462009Z",
     "iopub.status.idle": "2022-03-25T02:28:58.608601Z",
     "shell.execute_reply": "2022-03-25T02:28:58.608919Z"
    },
    "papermill": {
     "duration": 0.174389,
     "end_time": "2022-03-25T02:28:58.609022",
     "exception": false,
     "start_time": "2022-03-25T02:28:58.434633",
     "status": "completed"
    },
    "tags": []
   },
   "outputs": [
    {
     "data": {
      "text/plain": [
       "<AxesSubplot:title={'center':'Results'}>"
      ]
     },
     "execution_count": 26,
     "metadata": {},
     "output_type": "execute_result"
    },
    {
     "data": {
      "image/png": "[encoded data removed]",
      "text/plain": [
       "<Figure size 1080x504 with 1 Axes>"
      ]
     },
     "metadata": {
      "needs_background": "light"
     },
     "output_type": "display_data"
    }
   ],
   "source": [
    "get_results_table(experiment)"
   ]
  },
  {
   "cell_type": "code",
   "execution_count": 27,
   "id": "cf8dc689",
   "metadata": {
    "execution": {
     "iopub.execute_input": "2022-03-25T02:28:58.671448Z",
     "iopub.status.busy": "2022-03-25T02:28:58.671182Z",
     "iopub.status.idle": "2022-03-25T02:28:58.809135Z",
     "shell.execute_reply": "2022-03-25T02:28:58.808675Z"
    },
    "papermill": {
     "duration": 0.167671,
     "end_time": "2022-03-25T02:28:58.809231",
     "exception": false,
     "start_time": "2022-03-25T02:28:58.641560",
     "status": "completed"
    },
    "tags": []
   },
   "outputs": [
    {
     "data": {
      "text/plain": [
       "<AxesSubplot:title={'center':'Per Domain Validation Accuracy'}, xlabel='domain'>"
      ]
     },
     "execution_count": 27,
     "metadata": {},
     "output_type": "execute_result"
    },
    {
     "data": {
      "image/png": "[encoded data removed]",
      "text/plain": [
       "<Figure size 1080x504 with 1 Axes>"
      ]
     },
     "metadata": {
      "needs_background": "light"
     },
     "output_type": "display_data"
    }
   ],
   "source": [
    "get_domain_accuracies(experiment)"
   ]
  },
  {
   "cell_type": "code",
   "execution_count": 28,
   "id": "a74ae082",
   "metadata": {
    "execution": {
     "iopub.execute_input": "2022-03-25T02:28:58.875026Z",
     "iopub.status.busy": "2022-03-25T02:28:58.874604Z",
     "iopub.status.idle": "2022-03-25T02:28:58.888235Z",
     "shell.execute_reply": "2022-03-25T02:28:58.887859Z"
    },
    "papermill": {
     "duration": 0.046498,
     "end_time": "2022-03-25T02:28:58.888329",
     "exception": false,
     "start_time": "2022-03-25T02:28:58.841831",
     "status": "completed"
    },
    "tags": []
   },
   "outputs": [
    {
     "name": "stdout",
     "output_type": "stream",
     "text": [
      "Source Test Label Accuracy: 0.998807519640853 Target Test Label Accuracy: 0.32373046875\n",
      "Source Val Label Accuracy: 0.9987157534246576 Target Val Label Accuracy: 0.32802734375\n"
     ]
    }
   ],
   "source": [
    "print(\"Source Test Label Accuracy:\", experiment[\"results\"][\"source_test_label_accuracy\"], \"Target Test Label Accuracy:\", experiment[\"results\"][\"target_test_label_accuracy\"])\n",
    "print(\"Source Val Label Accuracy:\", experiment[\"results\"][\"source_val_label_accuracy\"], \"Target Val Label Accuracy:\", experiment[\"results\"][\"target_val_label_accuracy\"])"
   ]
  },
  {
   "cell_type": "code",
   "execution_count": 29,
   "id": "dacca602",
   "metadata": {
    "execution": {
     "iopub.execute_input": "2022-03-25T02:28:58.951015Z",
     "iopub.status.busy": "2022-03-25T02:28:58.950760Z",
     "iopub.status.idle": "2022-03-25T02:28:58.968621Z",
     "shell.execute_reply": "2022-03-25T02:28:58.968997Z"
    },
    "papermill": {
     "duration": 0.04818,
     "end_time": "2022-03-25T02:28:58.969106",
     "exception": false,
     "start_time": "2022-03-25T02:28:58.920926",
     "status": "completed"
    },
    "tags": [
     "experiment_json"
    ]
   },
   "outputs": [
    {
     "data": {
      "text/plain": [
       "'{\"experiment_name\": \"tl_3Av2:cores -> oracle.run1.framed\", \"parameters\": {\"experiment_name\": \"tl_3Av2:cores -> oracle.run1.framed\", \"device\": \"cuda\", \"lr\": 0.0001, \"x_shape\": [2, 200], \"n_shot\": 3, \"n_query\": 2, \"train_k_factor\": 3, \"val_k_factor\": 2, \"test_k_factor\": 2, \"torch_default_dtype\": \"torch.float32\", \"n_epoch\": 50, \"patience\": 3, \"criteria_for_best\": \"target_accuracy\", \"x_net\": [{\"class\": \"nnReshape\", \"kargs\": {\"shape\": [-1, 1, 2, 200]}}, {\"class\": \"Conv2d\", \"kargs\": {\"in_channels\": 1, \"out_channels\": 256, \"kernel_size\": [1, 7], \"bias\": false, \"padding\": [0, 3]}}, {\"class\": \"ReLU\", \"kargs\": {\"inplace\": true}}, {\"class\": \"BatchNorm2d\", \"kargs\": {\"num_features\": 256}}, {\"class\": \"Conv2d\", \"kargs\": {\"in_channels\": 256, \"out_channels\": 80, \"kernel_size\": [2, 7], \"bias\": true, \"padding\": [0, 3]}}, {\"class\": \"ReLU\", \"kargs\": {\"inplace\": true}}, {\"class\": \"BatchNorm2d\", \"kargs\": {\"num_features\": 80}}, {\"class\": \"Flatten\", \"kargs\": {}}, {\"class\": \"Linear\", \"kargs\": {\"in_features\": 16000, \"out_features\": 256}}, {\"class\": \"ReLU\", \"kargs\": {\"inplace\": true}}, {\"class\": \"BatchNorm1d\", \"kargs\": {\"num_features\": 256}}, {\"class\": \"Linear\", \"kargs\": {\"in_features\": 256, \"out_features\": 256}}], \"NUM_LOGS_PER_EPOCH\": 10, \"BEST_MODEL_PATH\": \"./best_model.pth\", \"n_way\": 16, \"datasets\": [{\"labels\": [\"1-10.\", \"1-11.\", \"1-15.\", \"1-16.\", \"1-17.\", \"1-18.\", \"1-19.\", \"10-4.\", \"10-7.\", \"11-1.\", \"11-14.\", \"11-17.\", \"11-20.\", \"11-7.\", \"13-20.\", \"13-8.\", \"14-10.\", \"14-11.\", \"14-14.\", \"14-7.\", \"15-1.\", \"15-20.\", \"16-1.\", \"16-16.\", \"17-10.\", \"17-11.\", \"17-2.\", \"19-1.\", \"19-16.\", \"19-19.\", \"19-20.\", \"19-3.\", \"2-10.\", \"2-11.\", \"2-17.\", \"2-18.\", \"2-20.\", \"2-3.\", \"2-4.\", \"2-5.\", \"2-6.\", \"2-7.\", \"2-8.\", \"3-13.\", \"3-18.\", \"3-3.\", \"4-1.\", \"4-10.\", \"4-11.\", \"4-19.\", \"5-5.\", \"6-15.\", \"7-10.\", \"7-14.\", \"8-18.\", \"8-20.\", \"8-3.\", \"8-8.\"], \"domains\": [1, 2, 3, 4, 5], \"num_examples_per_domain_per_label\": -1, \"pickle_path\": \"/mnt/wd500GB/CSC500/csc500-main/datasets/cores.stratified_ds.2022A.pkl\", \"source_or_target_dataset\": \"source\", \"x_transforms\": [\"unit_power\", \"take_200\"], \"episode_transforms\": [], \"domain_prefix\": \"C_\"}, {\"labels\": [\"3123D52\", \"3123D65\", \"3123D79\", \"3123D80\", \"3123D54\", \"3123D70\", \"3123D7B\", \"3123D89\", \"3123D58\", \"3123D76\", \"3123D7D\", \"3123EFE\", \"3123D64\", \"3123D78\", \"3123D7E\", \"3124E4A\"], \"domains\": [32, 38, 8, 44, 14, 50, 20, 26], \"num_examples_per_domain_per_label\": 2000, \"pickle_path\": \"/mnt/wd500GB/CSC500/csc500-main/datasets/oracle.Run1_framed_2000Examples_stratified_ds.2022A.pkl\", \"source_or_target_dataset\": \"target\", \"x_transforms\": [\"unit_power\", \"take_200\", \"resample_20Msps_to_25Msps\"], \"episode_transforms\": [], \"domain_prefix\": \"O_\"}], \"seed\": 1337, \"dataset_seed\": 1337, \"domains_source\": [\"C_1\", \"C_2\", \"C_3\", \"C_4\", \"C_5\"], \"domains_target\": [\"O_32\", \"O_38\", \"O_8\", \"O_44\", \"O_14\", \"O_50\", \"O_20\", \"O_26\"]}, \"results\": {\"source_test_label_accuracy\": 0.998807519640853, \"source_test_label_loss\": 0.005893422290682793, \"target_test_label_accuracy\": 0.32373046875, \"target_test_label_loss\": 1.9528864622116089, \"source_val_label_accuracy\": 0.9987157534246576, \"source_val_label_loss\": 0.007689232937991619, \"target_val_label_accuracy\": 0.32802734375, \"target_val_label_loss\": 1.952684998512268, \"total_epochs_trained\": 5, \"total_experiment_time_secs\": 833.181841135025, \"confusion\": {\"C_3\": {\"43\": {\"43\": 128}, \"9\": {\"9\": 150}, \"6\": {\"6\": 88}, \"3\": {\"3\": 144}, \"16\": {\"16\": 134}, \"51\": {\"51\": 128}, \"31\": {\"31\": 28}, \"46\": {\"46\": 134}, \"19\": {\"19\": 124}, \"8\": {\"8\": 152}, \"18\": {\"18\": 84}, \"37\": {\"37\": 28}, \"24\": {\"24\": 104}, \"10\": {\"10\": 64}, \"44\": {\"44\": 88}, \"14\": {\"14\": 37, \"57\": 2, \"29\": 1}, \"38\": {\"38\": 28}, \"53\": {\"53\": 140}, \"20\": {\"20\": 132}, \"32\": {\"32\": 28}, \"36\": {\"36\": 100}, \"33\": {\"33\": 28}, \"56\": {\"56\": 136}, \"23\": {\"23\": 130}, \"54\": {\"54\": 100}, \"21\": {\"21\": 126}, \"28\": {\"28\": 28}, \"26\": {\"26\": 24}, \"48\": {\"48\": 116}, \"52\": {\"52\": 118}, \"39\": {\"39\": 16}, \"22\": {\"22\": 140}, \"13\": {\"13\": 128}, \"2\": {\"2\": 32}, \"34\": {\"34\": 32}, \"27\": {\"27\": 132}, \"45\": {\"45\": 60}, \"35\": {\"35\": 28}, \"29\": {\"29\": 128}, \"25\": {\"25\": 144}, \"0\": {\"0\": 124}, \"41\": {\"41\": 28}, \"11\": {\"11\": 142}, \"5\": {\"5\": 108}, \"1\": {\"1\": 100}, \"57\": {\"57\": 116}, \"17\": {\"17\": 106, \"10\": 1, \"24\": 1}, \"7\": {\"7\": 36}, \"12\": {\"12\": 92}, \"47\": {\"47\": 92}, \"40\": {\"40\": 136}, \"15\": {\"15\": 142}, \"42\": {\"42\": 28}, \"55\": {\"55\": 150}, \"49\": {\"49\": 20}, \"30\": {\"30\": 118, \"3\": 2}, \"50\": {\"50\": 134}, \"4\": {\"4\": 136}}, \"C_4\": {\"35\": {\"35\": 40}, \"25\": {\"25\": 134}, \"24\": {\"24\": 56}, \"48\": {\"48\": 138}, \"51\": {\"51\": 144}, \"13\": {\"13\": 120}, \"14\": {\"14\": 10, \"0\": 4, \"57\": 2}, \"32\": {\"32\": 24}, \"30\": {\"30\": 44}, \"34\": {\"34\": 24}, \"9\": {\"9\": 136}, \"1\": {\"1\": 40}, \"0\": {\"0\": 79, \"46\": 1}, \"38\": {\"38\": 40}, \"22\": {\"22\": 128}, \"40\": {\"40\": 120}, \"6\": {\"6\": 110, \"3\": 2}, \"16\": {\"16\": 96}, \"11\": {\"11\": 104}, \"20\": {\"20\": 122}, \"17\": {\"17\": 80}, \"26\": {\"26\": 24}, \"54\": {\"54\": 108}, \"55\": {\"55\": 154}, \"50\": {\"50\": 130, \"55\": 1, \"3\": 1}, \"19\": {\"19\": 142}, \"44\": {\"44\": 122}, \"47\": {\"47\": 120}, \"33\": {\"33\": 36}, \"5\": {\"5\": 108}, \"18\": {\"18\": 108}, \"21\": {\"21\": 124}, \"41\": {\"41\": 36}, \"23\": {\"23\": 128}, \"39\": {\"39\": 20}, \"37\": {\"37\": 24}, \"8\": {\"8\": 144}, \"49\": {\"49\": 20}, \"53\": {\"53\": 140}, \"31\": {\"31\": 28}, \"28\": {\"28\": 32}, \"3\": {\"3\": 123, \"50\": 1}, \"27\": {\"27\": 138}, \"46\": {\"46\": 128}, \"12\": {\"12\": 92}, \"7\": {\"7\": 24}, \"4\": {\"4\": 132}, \"42\": {\"42\": 32}, \"43\": {\"43\": 130}, \"29\": {\"29\": 120}, \"57\": {\"57\": 100}, \"52\": {\"52\": 104}, \"45\": {\"45\": 96}, \"36\": {\"36\": 92}, \"10\": {\"10\": 126}, \"15\": {\"15\": 134}, \"56\": {\"56\": 124}, \"2\": {\"2\": 36}}, \"C_5\": {\"47\": {\"47\": 100}, \"53\": {\"53\": 150}, \"29\": {\"29\": 126}, \"52\": {\"52\": 130}, \"55\": {\"55\": 144}, \"17\": {\"17\": 116}, \"42\": {\"42\": 40}, \"33\": {\"33\": 32}, \"11\": {\"11\": 148}, \"19\": {\"19\": 118}, \"1\": {\"1\": 144}, \"44\": {\"44\": 142}, \"49\": {\"49\": 36}, \"4\": {\"4\": 100}, \"6\": {\"6\": 116}, \"39\": {\"39\": 20}, \"50\": {\"50\": 148}, \"56\": {\"56\": 130}, \"25\": {\"25\": 144}, \"28\": {\"28\": 32}, \"35\": {\"35\": 36}, \"24\": {\"24\": 80}, \"21\": {\"21\": 132}, \"45\": {\"45\": 122, \"55\": 1, \"4\": 1}, \"16\": {\"16\": 144}, \"37\": {\"37\": 24}, \"57\": {\"57\": 132}, \"34\": {\"34\": 36}, \"38\": {\"38\": 32}, \"48\": {\"48\": 130}, \"26\": {\"26\": 24}, \"9\": {\"9\": 152}, \"18\": {\"18\": 64}, \"3\": {\"3\": 99, \"46\": 1}, \"23\": {\"23\": 124}, \"15\": {\"15\": 154}, \"10\": {\"10\": 68}, \"46\": {\"46\": 148}, \"22\": {\"22\": 28}, \"54\": {\"54\": 112}, \"27\": {\"27\": 160}, \"41\": {\"41\": 28}, \"31\": {\"31\": 36}, \"0\": {\"0\": 124}, \"7\": {\"7\": 32}, \"2\": {\"2\": 28}, \"14\": {\"14\": 42, \"46\": 1, \"57\": 1}, \"40\": {\"40\": 124}, \"5\": {\"5\": 128}, \"12\": {\"12\": 96}, \"43\": {\"43\": 142}, \"13\": {\"13\": 148}, \"36\": {\"36\": 92}, \"8\": {\"8\": 150}, \"32\": {\"32\": 32}, \"30\": {\"30\": 128}, \"51\": {\"51\": 138}, \"20\": {\"20\": 138}}, \"C_1\": {\"46\": {\"46\": 140}, \"16\": {\"16\": 134}, \"26\": {\"26\": 24}, \"10\": {\"10\": 96}, \"9\": {\"9\": 156}, \"28\": {\"28\": 28}, \"51\": {\"51\": 156}, \"1\": {\"1\": 100}, \"55\": {\"55\": 148}, \"27\": {\"27\": 124}, \"22\": {\"22\": 123, \"24\": 1}, \"52\": {\"52\": 126}, \"3\": {\"3\": 139, \"36\": 1}, \"33\": {\"33\": 32}, \"47\": {\"47\": 120}, \"42\": {\"42\": 40}, \"12\": {\"12\": 116}, \"23\": {\"23\": 132}, \"49\": {\"49\": 32}, \"7\": {\"7\": 28}, \"4\": {\"4\": 132}, \"50\": {\"50\": 134}, \"19\": {\"19\": 154}, \"11\": {\"11\": 140}, \"31\": {\"31\": 28}, \"41\": {\"41\": 24}, \"56\": {\"56\": 138}, \"0\": {\"0\": 148}, \"57\": {\"57\": 127, \"56\": 1}, \"53\": {\"53\": 140}, \"43\": {\"43\": 144}, \"37\": {\"37\": 32}, \"2\": {\"2\": 36}, \"6\": {\"6\": 95, \"2\": 1}, \"13\": {\"13\": 150}, \"18\": {\"18\": 72}, \"36\": {\"36\": 64}, \"29\": {\"29\": 140}, \"39\": {\"39\": 28}, \"17\": {\"17\": 64}, \"21\": {\"21\": 124}, \"25\": {\"25\": 132}, \"45\": {\"45\": 142}, \"38\": {\"38\": 24}, \"30\": {\"30\": 120}, \"24\": {\"24\": 108}, \"20\": {\"20\": 140}, \"8\": {\"8\": 140}, \"35\": {\"35\": 36}, \"54\": {\"54\": 104}, \"5\": {\"5\": 148}, \"48\": {\"48\": 144}, \"15\": {\"15\": 142}, \"34\": {\"34\": 24}, \"14\": {\"19\": 2, \"14\": 20, \"5\": 1, \"8\": 1}, \"32\": {\"32\": 32}, \"40\": {\"40\": 148}, \"44\": {\"44\": 136}}, \"C_2\": {\"36\": {\"36\": 116}, \"5\": {\"5\": 120}, \"45\": {\"45\": 128}, \"49\": {\"49\": 24}, \"50\": {\"50\": 136}, \"4\": {\"4\": 138}, \"43\": {\"43\": 148}, \"41\": {\"41\": 20}, \"37\": {\"37\": 36}, \"12\": {\"12\": 91, \"6\": 1}, \"33\": {\"33\": 28}, \"7\": {\"7\": 36}, \"56\": {\"56\": 140}, \"14\": {\"14\": 21, \"57\": 2, \"29\": 1}, \"52\": {\"52\": 124}, \"44\": {\"44\": 96}, \"48\": {\"48\": 144}, \"20\": {\"20\": 128}, \"55\": {\"55\": 144}, \"32\": {\"32\": 28}, \"40\": {\"40\": 136}, \"54\": {\"54\": 108}, \"17\": {\"17\": 104}, \"38\": {\"38\": 20}, \"24\": {\"24\": 96}, \"1\": {\"1\": 112}, \"6\": {\"6\": 124}, \"34\": {\"34\": 28}, \"11\": {\"11\": 136}, \"9\": {\"9\": 150}, \"8\": {\"8\": 152}, \"22\": {\"22\": 136}, \"26\": {\"26\": 24}, \"23\": {\"23\": 146}, \"10\": {\"10\": 112}, \"18\": {\"18\": 48}, \"13\": {\"13\": 116}, \"30\": {\"30\": 128}, \"42\": {\"42\": 36}, \"31\": {\"31\": 28}, \"46\": {\"46\": 128}, \"57\": {\"57\": 142}, \"47\": {\"47\": 138}, \"35\": {\"35\": 32}, \"15\": {\"15\": 132}, \"25\": {\"25\": 136}, \"19\": {\"19\": 136}, \"51\": {\"51\": 128}, \"53\": {\"53\": 134}, \"21\": {\"21\": 120}, \"39\": {\"39\": 28}, \"2\": {\"2\": 32}, \"16\": {\"16\": 150}, \"0\": {\"0\": 48}, \"3\": {\"3\": 92}, \"27\": {\"27\": 142}, \"28\": {\"28\": 28}, \"29\": {\"29\": 128}}, \"O_14\": {\"15\": {\"15\": 125, \"5\": 17, \"7\": 58, \"4\": 8, \"3\": 1, \"6\": 6, \"13\": 5, \"2\": 10, \"1\": 10}, \"3\": {\"6\": 8, \"10\": 13, \"3\": 52, \"14\": 13, \"4\": 38, \"0\": 20, \"13\": 6, \"2\": 27, \"5\": 26, \"9\": 10, \"1\": 21, \"8\": 3, \"11\": 3}, \"6\": {\"4\": 17, \"0\": 9, \"14\": 42, \"13\": 61, \"6\": 49, \"10\": 14, \"2\": 30, \"3\": 6, \"11\": 4, \"5\": 6, \"15\": 1, \"1\": 1}, \"1\": {\"9\": 3, \"1\": 98, \"8\": 26, \"3\": 15, \"7\": 13, \"2\": 5, \"5\": 46, \"0\": 3, \"15\": 5, \"4\": 24, \"14\": 2}, \"8\": {\"8\": 144, \"9\": 23, \"1\": 37, \"5\": 14, \"4\": 4, \"3\": 10, \"12\": 3, \"0\": 3, \"7\": 2}, \"10\": {\"0\": 34, \"4\": 5, \"11\": 27, \"3\": 23, \"6\": 6, \"10\": 88, \"9\": 11, \"14\": 26, \"13\": 10, \"5\": 2, \"2\": 5, \"12\": 3}, \"9\": {\"0\": 33, \"9\": 108, \"12\": 46, \"11\": 23, \"8\": 18, \"3\": 4, \"10\": 3, \"2\": 1, \"14\": 1, \"4\": 2, \"5\": 1}, \"13\": {\"4\": 15, \"13\": 79, \"6\": 56, \"2\": 21, \"0\": 4, \"5\": 3, \"14\": 38, \"10\": 12, \"11\": 8, \"3\": 2, \"7\": 1, \"15\": 1}, \"12\": {\"12\": 148, \"9\": 63, \"11\": 15, \"0\": 11, \"8\": 3}, \"5\": {\"8\": 6, \"0\": 8, \"5\": 54, \"6\": 1, \"2\": 37, \"3\": 22, \"7\": 15, \"4\": 39, \"1\": 40, \"14\": 2, \"15\": 11, \"9\": 2, \"13\": 2, \"10\": 1}, \"0\": {\"11\": 22, \"3\": 37, \"10\": 41, \"4\": 18, \"0\": 49, \"8\": 2, \"14\": 15, \"12\": 8, \"9\": 17, \"1\": 2, \"2\": 8, \"6\": 6, \"5\": 14, \"13\": 1}, \"2\": {\"14\": 31, \"13\": 21, \"5\": 30, \"3\": 19, \"9\": 6, \"6\": 33, \"2\": 47, \"4\": 19, \"15\": 10, \"0\": 12, \"11\": 1, \"1\": 6, \"10\": 4, \"7\": 1}, \"11\": {\"12\": 21, \"11\": 95, \"3\": 5, \"10\": 39, \"14\": 10, \"0\": 37, \"9\": 22, \"13\": 4, \"5\": 1, \"6\": 3, \"2\": 3}, \"14\": {\"4\": 14, \"13\": 28, \"6\": 40, \"14\": 52, \"3\": 15, \"2\": 35, \"10\": 23, \"0\": 19, \"1\": 1, \"11\": 9, \"5\": 2, \"9\": 2}, \"7\": {\"7\": 135, \"1\": 30, \"15\": 54, \"5\": 13, \"8\": 2, \"4\": 3, \"2\": 3}, \"4\": {\"2\": 29, \"3\": 41, \"1\": 14, \"14\": 11, \"6\": 11, \"5\": 32, \"4\": 61, \"0\": 15, \"13\": 7, \"10\": 9, \"8\": 3, \"7\": 1, \"9\": 3, \"15\": 2, \"11\": 1}}, \"O_20\": {\"3\": {\"0\": 10, \"1\": 23, \"4\": 12, \"3\": 23, \"9\": 25, \"14\": 3, \"7\": 25, \"13\": 8, \"8\": 9, \"6\": 12, \"2\": 20, \"10\": 18, \"12\": 13, \"5\": 14, \"11\": 4, \"15\": 21}, \"15\": {\"15\": 41, \"9\": 18, \"13\": 28, \"12\": 22, \"2\": 24, \"1\": 31, \"3\": 19, \"5\": 20, \"8\": 3, \"10\": 1, \"0\": 12, \"11\": 2, \"7\": 12, \"4\": 5, \"6\": 2}, \"8\": {\"4\": 36, \"6\": 26, \"8\": 25, \"10\": 21, \"7\": 19, \"14\": 27, \"0\": 23, \"2\": 12, \"11\": 3, \"3\": 11, \"9\": 5, \"5\": 14, \"12\": 9, \"15\": 3, \"1\": 5, \"13\": 1}, \"4\": {\"0\": 14, \"4\": 42, \"1\": 3, \"10\": 38, \"9\": 11, \"5\": 14, \"2\": 5, \"8\": 33, \"14\": 25, \"15\": 4, \"3\": 15, \"6\": 18, \"7\": 9, \"12\": 9}, \"14\": {\"6\": 44, \"10\": 38, \"1\": 3, \"14\": 61, \"4\": 31, \"7\": 8, \"8\": 22, \"3\": 6, \"0\": 4, \"12\": 12, \"5\": 6, \"15\": 1, \"9\": 1, \"2\": 2, \"13\": 1}, \"0\": {\"12\": 16, \"9\": 10, \"0\": 33, \"8\": 19, \"3\": 22, \"1\": 20, \"15\": 21, \"13\": 10, \"4\": 22, \"5\": 31, \"6\": 4, \"14\": 8, \"10\": 9, \"11\": 1, \"2\": 6, \"7\": 8}, \"7\": {\"3\": 16, \"5\": 23, \"15\": 14, \"6\": 19, \"11\": 8, \"13\": 17, \"1\": 13, \"9\": 17, \"0\": 7, \"7\": 30, \"14\": 9, \"12\": 16, \"10\": 7, \"8\": 9, \"4\": 12, \"2\": 23}, \"6\": {\"4\": 13, \"3\": 12, \"1\": 3, \"10\": 22, \"14\": 33, \"2\": 8, \"8\": 24, \"6\": 46, \"0\": 13, \"7\": 25, \"5\": 10, \"15\": 6, \"9\": 8, \"11\": 9, \"12\": 6, \"13\": 2}, \"10\": {\"7\": 16, \"4\": 38, \"1\": 3, \"6\": 31, \"8\": 19, \"3\": 13, \"14\": 34, \"10\": 57, \"5\": 9, \"9\": 5, \"12\": 11, \"0\": 2, \"2\": 1, \"11\": 1}, \"5\": {\"3\": 26, \"1\": 24, \"9\": 17, \"8\": 5, \"15\": 19, \"13\": 13, \"2\": 14, \"5\": 36, \"12\": 17, \"4\": 16, \"6\": 3, \"0\": 28, \"7\": 17, \"14\": 3, \"10\": 1, \"11\": 1}, \"2\": {\"3\": 14, \"12\": 29, \"8\": 7, \"7\": 18, \"11\": 19, \"9\": 36, \"5\": 16, \"1\": 19, \"13\": 20, \"4\": 2, \"0\": 5, \"15\": 13, \"2\": 30, \"6\": 5, \"14\": 1, \"10\": 6}, \"12\": {\"8\": 13, \"12\": 21, \"2\": 21, \"9\": 23, \"1\": 26, \"3\": 31, \"4\": 12, \"7\": 15, \"0\": 19, \"10\": 7, \"5\": 18, \"15\": 11, \"11\": 4, \"13\": 13, \"14\": 3, \"6\": 3}, \"9\": {\"12\": 30, \"15\": 19, \"7\": 19, \"2\": 25, \"3\": 20, \"6\": 13, \"11\": 7, \"5\": 19, \"9\": 21, \"13\": 15, \"0\": 7, \"4\": 6, \"1\": 20, \"8\": 5, \"10\": 11, \"14\": 3}, \"1\": {\"2\": 32, \"15\": 23, \"10\": 6, \"13\": 11, \"1\": 21, \"5\": 22, \"3\": 29, \"0\": 12, \"7\": 17, \"12\": 27, \"8\": 6, \"9\": 16, \"4\": 13, \"14\": 3, \"11\": 2}, \"11\": {\"9\": 18, \"11\": 141, \"13\": 24, \"7\": 12, \"6\": 10, \"2\": 13, \"15\": 8, \"3\": 4, \"10\": 2, \"5\": 2, \"0\": 2, \"8\": 2, \"14\": 1, \"12\": 1}, \"13\": {\"13\": 73, \"3\": 12, \"12\": 10, \"2\": 20, \"9\": 14, \"15\": 29, \"5\": 9, \"7\": 19, \"0\": 7, \"4\": 2, \"11\": 16, \"1\": 24, \"6\": 2, \"10\": 1, \"8\": 2}}, \"O_38\": {\"5\": {\"15\": 21, \"8\": 43, \"2\": 5, \"0\": 16, \"5\": 46, \"9\": 7, \"7\": 34, \"10\": 2, \"1\": 18, \"3\": 1, \"13\": 13, \"6\": 34}, \"8\": {\"15\": 26, \"10\": 21, \"7\": 46, \"2\": 6, \"8\": 58, \"9\": 2, \"13\": 9, \"3\": 2, \"1\": 9, \"0\": 31, \"5\": 26, \"14\": 1, \"6\": 2, \"11\": 1}, \"11\": {\"14\": 74, \"10\": 12, \"11\": 112, \"2\": 19, \"4\": 9, \"0\": 3, \"12\": 5, \"15\": 2, \"8\": 3, \"13\": 1}, \"1\": {\"6\": 39, \"15\": 39, \"1\": 108, \"5\": 28, \"9\": 13, \"13\": 10, \"8\": 2, \"0\": 1}, \"10\": {\"14\": 25, \"13\": 21, \"2\": 28, \"0\": 12, \"12\": 12, \"7\": 15, \"10\": 71, \"15\": 16, \"11\": 11, \"1\": 1, \"8\": 18, \"5\": 7, \"4\": 3}, \"15\": {\"10\": 16, \"9\": 1, \"13\": 28, \"15\": 66, \"6\": 7, \"5\": 23, \"8\": 25, \"1\": 37, \"2\": 22, \"7\": 5, \"0\": 9, \"14\": 1}, \"3\": {\"3\": 161, \"0\": 17, \"9\": 23, \"7\": 11, \"5\": 7, \"8\": 7, \"6\": 11, \"2\": 1, \"15\": 1, \"13\": 1}, \"7\": {\"10\": 20, \"8\": 42, \"5\": 28, \"7\": 88, \"15\": 8, \"0\": 43, \"6\": 4, \"3\": 3, \"13\": 3, \"11\": 1}, \"4\": {\"4\": 147, \"12\": 77, \"7\": 7, \"14\": 2, \"10\": 4, \"11\": 2, \"8\": 1}, \"14\": {\"10\": 32, \"2\": 28, \"14\": 95, \"11\": 66, \"12\": 5, \"8\": 2, \"13\": 5, \"4\": 2, \"15\": 2, \"5\": 1, \"0\": 2}, \"9\": {\"9\": 106, \"6\": 65, \"8\": 5, \"1\": 19, \"3\": 24, \"5\": 10, \"0\": 5, \"7\": 4, \"15\": 1, \"13\": 1}, \"12\": {\"4\": 68, \"12\": 149, \"14\": 8, \"8\": 3, \"11\": 4, \"0\": 3, \"10\": 4, \"7\": 1}, \"6\": {\"9\": 65, \"6\": 113, \"1\": 34, \"5\": 17, \"15\": 7, \"0\": 1, \"3\": 2, \"8\": 1}, \"2\": {\"14\": 33, \"2\": 104, \"11\": 16, \"10\": 29, \"13\": 44, \"1\": 3, \"8\": 1, \"15\": 9, \"12\": 1}, \"0\": {\"8\": 41, \"0\": 57, \"7\": 34, \"10\": 18, \"9\": 9, \"5\": 22, \"3\": 18, \"4\": 6, \"15\": 8, \"2\": 7, \"12\": 2, \"13\": 11, \"1\": 1, \"11\": 1, \"6\": 3, \"14\": 2}, \"13\": {\"2\": 39, \"15\": 43, \"13\": 69, \"0\": 6, \"8\": 20, \"10\": 20, \"1\": 14, \"5\": 14, \"7\": 4, \"11\": 2, \"9\": 3, \"6\": 1, \"14\": 5}}, \"O_8\": {\"9\": {\"9\": 223, \"5\": 6, \"13\": 2, \"0\": 4, \"4\": 2, \"10\": 3}, \"10\": {\"13\": 24, \"10\": 31, \"4\": 26, \"2\": 6, \"0\": 21, \"1\": 14, \"5\": 25, \"7\": 21, \"14\": 34, \"15\": 3, \"6\": 23, \"8\": 4, \"11\": 2, \"12\": 3, \"3\": 3}, \"13\": {\"0\": 29, \"5\": 15, \"2\": 8, \"11\": 2, \"3\": 6, \"4\": 36, \"10\": 39, \"13\": 32, \"15\": 4, \"7\": 20, \"14\": 19, \"1\": 5, \"6\": 19, \"8\": 4, \"9\": 2}, \"0\": {\"10\": 17, \"0\": 49, \"5\": 8, \"13\": 35, \"6\": 26, \"4\": 22, \"7\": 35, \"2\": 16, \"14\": 15, \"1\": 4, \"8\": 3, \"12\": 2, \"3\": 4, \"15\": 2, \"9\": 1, \"11\": 1}, \"1\": {\"14\": 23, \"0\": 4, \"11\": 41, \"1\": 54, \"5\": 31, \"8\": 26, \"2\": 1, \"6\": 13, \"4\": 11, \"7\": 4, \"10\": 11, \"13\": 6, \"12\": 4, \"15\": 8, \"3\": 3}, \"15\": {\"15\": 49, \"12\": 50, \"3\": 31, \"7\": 16, \"6\": 16, \"4\": 8, \"8\": 21, \"10\": 4, \"11\": 6, \"13\": 4, \"2\": 19, \"14\": 4, \"1\": 5, \"5\": 3, \"0\": 4}, \"5\": {\"0\": 6, \"1\": 33, \"13\": 15, \"5\": 70, \"10\": 34, \"11\": 17, \"14\": 28, \"8\": 8, \"6\": 12, \"4\": 11, \"15\": 1, \"9\": 2, \"7\": 3}, \"3\": {\"2\": 57, \"3\": 76, \"12\": 31, \"0\": 4, \"13\": 6, \"4\": 3, \"7\": 18, \"10\": 4, \"15\": 24, \"6\": 10, \"8\": 3, \"1\": 2, \"14\": 2}, \"6\": {\"8\": 16, \"6\": 24, \"0\": 22, \"4\": 21, \"2\": 18, \"7\": 21, \"13\": 25, \"14\": 18, \"11\": 4, \"15\": 15, \"5\": 16, \"10\": 17, \"3\": 8, \"1\": 8, \"12\": 7}, \"11\": {\"10\": 7, \"5\": 13, \"13\": 3, \"11\": 94, \"1\": 51, \"8\": 36, \"14\": 15, \"6\": 4, \"7\": 3, \"2\": 1, \"0\": 2, \"4\": 5, \"3\": 2, \"15\": 2, \"12\": 2}, \"8\": {\"12\": 41, \"1\": 26, \"8\": 50, \"2\": 4, \"13\": 4, \"6\": 12, \"3\": 4, \"14\": 8, \"15\": 33, \"11\": 27, \"4\": 12, \"0\": 4, \"7\": 8, \"5\": 4, \"10\": 3}, \"4\": {\"7\": 24, \"3\": 10, \"2\": 12, \"4\": 28, \"14\": 29, \"12\": 6, \"10\": 26, \"1\": 14, \"13\": 25, \"8\": 5, \"6\": 20, \"0\": 18, \"15\": 10, \"11\": 6, \"5\": 7}, \"12\": {\"15\": 46, \"12\": 61, \"1\": 5, \"8\": 31, \"6\": 13, \"3\": 42, \"7\": 6, \"2\": 20, \"4\": 4, \"0\": 2, \"5\": 1, \"14\": 4, \"11\": 3, \"13\": 2}, \"14\": {\"14\": 35, \"7\": 13, \"0\": 19, \"1\": 11, \"5\": 29, \"11\": 10, \"6\": 22, \"2\": 5, \"4\": 28, \"13\": 16, \"10\": 25, \"12\": 6, \"15\": 7, \"8\": 10, \"3\": 4}, \"2\": {\"3\": 69, \"4\": 7, \"12\": 16, \"15\": 13, \"7\": 22, \"2\": 72, \"6\": 9, \"0\": 11, \"8\": 4, \"14\": 8, \"13\": 6, \"10\": 2, \"11\": 1}, \"7\": {\"3\": 18, \"10\": 20, \"2\": 18, \"7\": 33, \"0\": 30, \"6\": 30, \"12\": 6, \"14\": 18, \"13\": 21, \"1\": 4, \"5\": 4, \"8\": 8, \"4\": 16, \"15\": 11, \"11\": 3}}, \"O_50\": {\"7\": {\"5\": 49, \"10\": 19, \"7\": 67, \"8\": 7, \"4\": 14, \"3\": 14, \"13\": 37, \"6\": 18, \"15\": 6, \"0\": 3, \"1\": 6}, \"3\": {\"3\": 182, \"8\": 35, \"7\": 12, \"5\": 4, \"13\": 2, \"10\": 5}, \"8\": {\"8\": 124, \"10\": 47, \"3\": 40, \"5\": 2, \"13\": 3, \"0\": 13, \"7\": 6, \"2\": 3, \"6\": 1, \"4\": 1}, \"2\": {\"0\": 76, \"2\": 121, \"14\": 21, \"10\": 4, \"8\": 6, \"11\": 3, \"12\": 3, \"9\": 1, \"6\": 2, \"1\": 2, \"4\": 1}, \"14\": {\"2\": 27, \"12\": 47, \"14\": 98, \"9\": 40, \"11\": 12, \"0\": 10, \"1\": 5, \"4\": 1}, \"4\": {\"15\": 27, \"6\": 33, \"4\": 45, \"1\": 33, \"13\": 21, \"5\": 30, \"7\": 19, \"10\": 12, \"11\": 6, \"0\": 9, \"2\": 2, \"14\": 2, \"8\": 1}, \"6\": {\"5\": 13, \"7\": 24, \"4\": 39, \"6\": 40, \"2\": 2, \"1\": 31, \"11\": 8, \"8\": 8, \"0\": 10, \"10\": 12, \"14\": 3, \"15\": 22, \"13\": 27, \"9\": 1}, \"15\": {\"15\": 56, \"6\": 27, \"11\": 34, \"13\": 12, \"4\": 32, \"1\": 38, \"7\": 9, \"9\": 10, \"5\": 11, \"0\": 7, \"10\": 2, \"14\": 2}, \"10\": {\"4\": 6, \"10\": 71, \"8\": 40, \"7\": 15, \"0\": 41, \"13\": 21, \"1\": 8, \"5\": 19, \"6\": 10, \"2\": 5, \"3\": 3, \"11\": 1}, \"11\": {\"9\": 55, \"11\": 84, \"15\": 19, \"4\": 9, \"6\": 7, \"1\": 25, \"0\": 7, \"12\": 13, \"14\": 12, \"2\": 5, \"13\": 2, \"10\": 1, \"5\": 1}, \"13\": {\"5\": 53, \"13\": 42, \"3\": 2, \"10\": 22, \"7\": 32, \"6\": 31, \"1\": 14, \"15\": 13, \"4\": 24, \"8\": 5, \"0\": 2}, \"9\": {\"9\": 101, \"11\": 56, \"14\": 33, \"1\": 7, \"12\": 37, \"15\": 4, \"2\": 1, \"6\": 1}, \"0\": {\"2\": 49, \"0\": 103, \"1\": 13, \"13\": 3, \"8\": 22, \"10\": 29, \"6\": 6, \"15\": 2, \"5\": 2, \"4\": 4, \"14\": 5, \"11\": 1, \"7\": 1}, \"1\": {\"15\": 36, \"1\": 67, \"10\": 7, \"6\": 19, \"11\": 23, \"4\": 29, \"13\": 17, \"0\": 15, \"2\": 5, \"5\": 7, \"9\": 6, \"7\": 3, \"8\": 1, \"14\": 5}, \"12\": {\"12\": 135, \"9\": 41, \"14\": 48, \"2\": 7, \"11\": 7, \"1\": 1, \"6\": 1}, \"5\": {\"7\": 41, \"4\": 34, \"5\": 42, \"13\": 27, \"15\": 15, \"1\": 16, \"6\": 21, \"10\": 18, \"2\": 1, \"3\": 3, \"8\": 8, \"11\": 5, \"0\": 8, \"14\": 1}}, \"O_32\": {\"8\": {\"2\": 10, \"14\": 7, \"15\": 14, \"8\": 86, \"13\": 27, \"5\": 23, \"7\": 5, \"0\": 46, \"3\": 10, \"4\": 11, \"11\": 1}, \"14\": {\"11\": 44, \"3\": 8, \"5\": 19, \"2\": 25, \"7\": 29, \"14\": 58, \"4\": 24, \"13\": 19, \"0\": 11, \"8\": 3}, \"2\": {\"2\": 87, \"5\": 9, \"4\": 49, \"9\": 9, \"7\": 18, \"0\": 26, \"8\": 7, \"14\": 18, \"13\": 11, \"3\": 3, \"11\": 2, \"6\": 1}, \"0\": {\"2\": 35, \"0\": 83, \"4\": 17, \"5\": 11, \"8\": 37, \"7\": 20, \"15\": 2, \"9\": 12, \"12\": 1, \"13\": 13, \"3\": 3, \"14\": 4, \"11\": 2}, \"1\": {\"6\": 1, \"1\": 185, \"10\": 54}, \"10\": {\"10\": 175, \"1\": 46, \"6\": 8, \"12\": 11}, \"11\": {\"11\": 89, \"7\": 34, \"14\": 47, \"3\": 26, \"2\": 5, \"5\": 11, \"4\": 10, \"8\": 4, \"13\": 10, \"0\": 4}, \"5\": {\"0\": 9, \"11\": 19, \"5\": 41, \"14\": 21, \"3\": 34, \"4\": 28, \"8\": 25, \"7\": 18, \"2\": 13, \"13\": 32}, \"15\": {\"15\": 225, \"8\": 9, \"3\": 3, \"0\": 3}, \"3\": {\"3\": 145, \"5\": 24, \"8\": 17, \"13\": 19, \"4\": 9, \"7\": 7, \"11\": 12, \"0\": 1, \"14\": 5, \"15\": 1}, \"12\": {\"12\": 150, \"10\": 11, \"9\": 52, \"6\": 27}, \"7\": {\"7\": 38, \"11\": 28, \"5\": 34, \"14\": 33, \"3\": 13, \"2\": 26, \"4\": 26, \"13\": 25, \"0\": 9, \"8\": 7, \"9\": 1}, \"13\": {\"0\": 11, \"3\": 29, \"13\": 64, \"5\": 33, \"4\": 34, \"7\": 23, \"8\": 17, \"11\": 10, \"14\": 12, \"2\": 7}, \"6\": {\"6\": 217, \"10\": 5, \"9\": 2, \"1\": 3, \"12\": 13}, \"4\": {\"2\": 49, \"5\": 20, \"4\": 47, \"7\": 25, \"14\": 17, \"11\": 6, \"0\": 27, \"13\": 31, \"8\": 12, \"3\": 4, \"9\": 2}, \"9\": {\"9\": 172, \"12\": 47, \"2\": 9, \"6\": 9, \"0\": 2, \"4\": 1}}, \"O_26\": {\"4\": {\"15\": 3, \"4\": 31, \"12\": 7, \"0\": 21, \"1\": 42, \"6\": 13, \"8\": 13, \"7\": 20, \"14\": 33, \"10\": 23, \"3\": 11, \"5\": 2, \"9\": 9, \"2\": 12}, \"12\": {\"12\": 159, \"11\": 28, \"7\": 2, \"6\": 11, \"5\": 3, \"9\": 4, \"0\": 7, \"1\": 4, \"14\": 8, \"15\": 3, \"8\": 2, \"10\": 7, \"2\": 1, \"4\": 1}, \"10\": {\"15\": 7, \"14\": 20, \"0\": 25, \"1\": 28, \"11\": 3, \"4\": 28, \"12\": 8, \"2\": 9, \"6\": 22, \"10\": 16, \"7\": 17, \"8\": 24, \"9\": 16, \"3\": 6, \"5\": 8, \"13\": 3}, \"0\": {\"15\": 6, \"4\": 34, \"12\": 15, \"10\": 17, \"0\": 19, \"14\": 23, \"11\": 2, \"1\": 21, \"8\": 29, \"7\": 17, \"9\": 10, \"6\": 17, \"5\": 6, \"13\": 5, \"2\": 12, \"3\": 7}, \"13\": {\"5\": 40, \"6\": 13, \"13\": 76, \"15\": 39, \"9\": 14, \"14\": 1, \"10\": 4, \"11\": 13, \"2\": 13, \"4\": 3, \"7\": 5, \"8\": 4, \"3\": 13, \"12\": 1, \"0\": 1}, \"9\": {\"8\": 14, \"10\": 8, \"4\": 10, \"15\": 14, \"9\": 42, \"1\": 7, \"3\": 21, \"14\": 10, \"12\": 10, \"0\": 5, \"13\": 21, \"5\": 23, \"6\": 13, \"2\": 21, \"7\": 16, \"11\": 5}, \"3\": {\"2\": 41, \"15\": 20, \"3\": 43, \"5\": 16, \"7\": 33, \"0\": 8, \"6\": 6, \"1\": 10, \"10\": 7, \"4\": 16, \"14\": 11, \"9\": 9, \"8\": 15, \"13\": 4, \"12\": 1}, \"2\": {\"8\": 17, \"3\": 33, \"7\": 33, \"4\": 14, \"15\": 21, \"13\": 14, \"1\": 2, \"2\": 37, \"10\": 10, \"14\": 5, \"5\": 18, \"6\": 13, \"9\": 14, \"0\": 7, \"12\": 2}, \"5\": {\"8\": 16, \"2\": 25, \"5\": 47, \"6\": 7, \"13\": 42, \"9\": 19, \"7\": 19, \"15\": 28, \"10\": 4, \"3\": 10, \"11\": 14, \"14\": 2, \"12\": 2, \"4\": 3, \"1\": 1, \"0\": 1}, \"14\": {\"1\": 34, \"14\": 42, \"7\": 22, \"15\": 9, \"10\": 23, \"4\": 35, \"0\": 23, \"6\": 13, \"2\": 5, \"12\": 11, \"8\": 8, \"9\": 5, \"3\": 7, \"13\": 1, \"5\": 2}, \"8\": {\"1\": 10, \"14\": 20, \"12\": 5, \"8\": 26, \"2\": 16, \"4\": 23, \"15\": 25, \"10\": 21, \"3\": 22, \"7\": 19, \"9\": 12, \"6\": 20, \"0\": 11, \"13\": 4, \"5\": 6}, \"7\": {\"9\": 17, \"3\": 39, \"8\": 17, \"4\": 17, \"1\": 11, \"2\": 21, \"6\": 13, \"10\": 17, \"0\": 16, \"14\": 14, \"7\": 22, \"15\": 19, \"5\": 8, \"13\": 7, \"12\": 2}, \"6\": {\"4\": 7, \"5\": 16, \"12\": 10, \"7\": 9, \"0\": 18, \"15\": 31, \"6\": 33, \"10\": 22, \"14\": 11, \"1\": 6, \"8\": 23, \"9\": 16, \"2\": 8, \"3\": 9, \"11\": 5, \"13\": 16}, \"11\": {\"11\": 177, \"14\": 1, \"6\": 5, \"8\": 3, \"12\": 23, \"15\": 3, \"13\": 11, \"5\": 9, \"9\": 5, \"4\": 2, \"3\": 1}, \"15\": {\"8\": 20, \"5\": 15, \"12\": 5, \"2\": 23, \"6\": 16, \"10\": 9, \"0\": 7, \"15\": 42, \"7\": 24, \"13\": 39, \"4\": 8, \"3\": 9, \"9\": 10, \"11\": 8, \"1\": 4, \"14\": 1}, \"1\": {\"2\": 6, \"0\": 19, \"4\": 29, \"15\": 4, \"10\": 23, \"1\": 61, \"12\": 9, \"14\": 39, \"5\": 3, \"8\": 7, \"3\": 11, \"7\": 15, \"6\": 4, \"9\": 9, \"13\": 1}}, \"O_44\": {\"12\": {\"12\": 88, \"1\": 56, \"10\": 52, \"3\": 25, \"2\": 17, \"7\": 2}, \"7\": {\"13\": 12, \"6\": 15, \"9\": 52, \"7\": 66, \"2\": 54, \"4\": 8, \"10\": 8, \"3\": 9, \"15\": 1, \"1\": 11, \"14\": 2, \"12\": 2}, \"5\": {\"14\": 44, \"0\": 42, \"5\": 79, \"4\": 24, \"15\": 20, \"8\": 30, \"11\": 1}, \"15\": {\"14\": 37, \"4\": 23, \"5\": 23, \"0\": 43, \"15\": 67, \"8\": 47}, \"8\": {\"15\": 51, \"0\": 75, \"5\": 19, \"8\": 85, \"14\": 8, \"4\": 2}, \"2\": {\"2\": 81, \"1\": 21, \"9\": 19, \"7\": 49, \"10\": 34, \"12\": 12, \"13\": 3, \"3\": 11, \"6\": 9, \"4\": 1}, \"13\": {\"13\": 91, \"6\": 37, \"11\": 36, \"7\": 12, \"9\": 48, \"2\": 6, \"14\": 2, \"4\": 8}, \"4\": {\"14\": 77, \"4\": 88, \"5\": 28, \"9\": 10, \"0\": 8, \"13\": 9, \"15\": 11, \"8\": 6, \"2\": 1, \"3\": 1, \"7\": 1}, \"0\": {\"14\": 19, \"15\": 51, \"0\": 61, \"5\": 31, \"4\": 8, \"8\": 70}, \"6\": {\"9\": 37, \"6\": 96, \"2\": 12, \"13\": 54, \"11\": 25, \"7\": 11, \"10\": 1, \"4\": 3, \"14\": 1}, \"9\": {\"9\": 45, \"14\": 9, \"13\": 41, \"7\": 61, \"11\": 2, \"2\": 24, \"4\": 15, \"6\": 36, \"3\": 3, \"10\": 1, \"1\": 3}, \"11\": {\"11\": 146, \"13\": 52, \"6\": 29, \"9\": 7, \"7\": 4, \"4\": 2}, \"10\": {\"1\": 33, \"10\": 97, \"12\": 55, \"7\": 10, \"2\": 33, \"3\": 6, \"6\": 2, \"9\": 4}, \"14\": {\"5\": 29, \"0\": 17, \"14\": 82, \"4\": 65, \"15\": 26, \"9\": 2, \"13\": 12, \"8\": 5, \"11\": 2}, \"1\": {\"3\": 54, \"12\": 61, \"1\": 55, \"2\": 29, \"9\": 6, \"10\": 29, \"7\": 6}, \"3\": {\"3\": 121, \"12\": 32, \"1\": 60, \"2\": 6, \"7\": 7, \"10\": 8, \"14\": 1, \"4\": 2, \"9\": 3}}}, \"per_domain_accuracy\": {\"C_3\": {\"accuracy\": 0.9987281976744186, \"source?\": true}, \"C_4\": {\"accuracy\": 0.9977272727272727, \"source?\": true}, \"C_5\": {\"accuracy\": 0.9991270949720671, \"source?\": true}, \"C_1\": {\"accuracy\": 0.9986338797814208, \"source?\": true}, \"C_2\": {\"accuracy\": 0.9992937853107344, \"source?\": true}, \"O_14\": {\"accuracy\": 0.36041666666666666, \"source?\": false}, \"O_20\": {\"accuracy\": 0.18255208333333334, \"source?\": false}, \"O_38\": {\"accuracy\": 0.4036458333333333, \"source?\": false}, \"O_8\": {\"accuracy\": 0.25546875, \"source?\": false}, \"O_50\": {\"accuracy\": 0.35885416666666664, \"source?\": false}, \"O_32\": {\"accuracy\": 0.48489583333333336, \"source?\": false}, \"O_26\": {\"accuracy\": 0.22734375, \"source?\": false}, \"O_44\": {\"accuracy\": 0.35104166666666664, \"source?\": false}}}, \"history\": {\"epoch_indices\": [1, 2, 3, 4, 5], \"train_label_loss\": [0.03187995152434211, 0.008417184624460191, 0.006331665503893617, 0.004421630154113604, 0.003498523112924187], \"source_val_label_loss\": [0.007689232937991619, 0.01244746521115303, 0.006720402278006077, 0.00801764614880085, 0.009166393429040909], \"target_val_label_loss\": [1.952684998512268, 2.3863861560821533, 2.4926090240478516, 2.7724483013153076, 2.6562910079956055], \"source_val_acc_label\": [0.9987157534246576, 0.9985730593607306, 0.9991438356164384, 0.9991438356164384, 0.9988941210045662], \"target_val_acc_label\": [0.32802734375, 0.3033854166666667, 0.28079427083333336, 0.2791341145833333, 0.304296875]}, \"dataset_metrics\": {\"source\": {\"train\": {\"n_unique_x\": 175169, \"n_unique_y\": 58, \"n_batch/episode\": 6317}, \"val\": {\"n_unique_x\": 37196, \"n_unique_y\": 58, \"n_batch/episode\": 876}, \"test\": {\"n_unique_x\": 37634, \"n_unique_y\": 58, \"n_batch/episode\": 891}}, \"target\": {\"train\": {\"n_unique_x\": 179200, \"n_unique_y\": 16, \"n_batch/episode\": 6720}, \"val\": {\"n_unique_x\": 38400, \"n_unique_y\": 16, \"n_batch/episode\": 960}, \"test\": {\"n_unique_x\": 38400, \"n_unique_y\": 16, \"n_batch/episode\": 960}}}}'"
      ]
     },
     "execution_count": 29,
     "metadata": {},
     "output_type": "execute_result"
    }
   ],
   "source": [
    "json.dumps(experiment)"
   ]
  }
 ],
 "metadata": {
  "celltoolbar": "Tags",
  "kernelspec": {
   "display_name": "Python 3 (ipykernel)",
   "language": "python",
   "name": "python3"
  },
  "language_info": {
   "codemirror_mode": {
    "name": "ipython",
    "version": 3
   },
   "file_extension": ".py",
   "mimetype": "text/x-python",
   "name": "python",
   "nbconvert_exporter": "python",
   "pygments_lexer": "ipython3",
   "version": "3.8.10"
  },
  "papermill": {
   "default_parameters": {},
   "duration": 930.383228,
   "end_time": "2022-03-25T02:29:00.307419",
   "environment_variables": {},
   "exception": null,
   "input_path": "/mnt/wd500GB/CSC500/csc500-main/csc500-notebooks/templates/tl_ptn_template.ipynb",
   "output_path": "trial.ipynb",
   "parameters": {
    "parameters": {
     "BEST_MODEL_PATH": "./best_model.pth",
     "NUM_LOGS_PER_EPOCH": 10,
     "criteria_for_best": "target_accuracy",
     "dataset_seed": 1337,
     "datasets": [
      {
       "domain_prefix": "C_",
       "domains": [
        1,
        2,
        3,
        4,
        5
       ],
       "episode_transforms": [],
       "labels": [
        "1-10.",
        "1-11.",
        "1-15.",
        "1-16.",
        "1-17.",
        "1-18.",
        "1-19.",
        "10-4.",
        "10-7.",
        "11-1.",
        "11-14.",
        "11-17.",
        "11-20.",
        "11-7.",
        "13-20.",
        "13-8.",
        "14-10.",
        "14-11.",
        "14-14.",
        "14-7.",
        "15-1.",
        "15-20.",
        "16-1.",
        "16-16.",
        "17-10.",
        "17-11.",
        "17-2.",
        "19-1.",
        "19-16.",
        "19-19.",
        "19-20.",
        "19-3.",
        "2-10.",
        "2-11.",
        "2-17.",
        "2-18.",
        "2-20.",
        "2-3.",
        "2-4.",
        "2-5.",
        "2-6.",
        "2-7.",
        "2-8.",
        "3-13.",
        "3-18.",
        "3-3.",
        "4-1.",
        "4-10.",
        "4-11.",
        "4-19.",
        "5-5.",
        "6-15.",
        "7-10.",
        "7-14.",
        "8-18.",
        "8-20.",
        "8-3.",
        "8-8."
       ],
       "num_examples_per_domain_per_label": -1,
       "pickle_path": "/mnt/wd500GB/CSC500/csc500-main/datasets/cores.stratified_ds.2022A.pkl",
       "source_or_target_dataset": "source",
       "x_transforms": [
        "unit_power",
        "take_200"
       ]
      },
      {
       "domain_prefix": "O_",
       "domains": [
        32,
        38,
        8,
        44,
        14,
        50,
        20,
        26
       ],
       "episode_transforms": [],
       "labels": [
        "3123D52",
        "3123D65",
        "3123D79",
        "3123D80",
        "3123D54",
        "3123D70",
        "3123D7B",
        "3123D89",
        "3123D58",
        "3123D76",
        "3123D7D",
        "3123EFE",
        "3123D64",
        "3123D78",
        "3123D7E",
        "3124E4A"
       ],
       "num_examples_per_domain_per_label": 2000,
       "pickle_path": "/mnt/wd500GB/CSC500/csc500-main/datasets/oracle.Run1_framed_2000Examples_stratified_ds.2022A.pkl",
       "source_or_target_dataset": "target",
       "x_transforms": [
        "unit_power",
        "take_200",
        "resample_20Msps_to_25Msps"
       ]
      }
     ],
     "device": "cuda",
     "experiment_name": "tl_3Av2:cores -> oracle.run1.framed",
     "lr": 0.0001,
     "n_epoch": 50,
     "n_query": 2,
     "n_shot": 3,
     "n_way": 16,
     "patience": 3,
     "seed": 1337,
     "test_k_factor": 2,
     "torch_default_dtype": "torch.float32",
     "train_k_factor": 3,
     "val_k_factor": 2,
     "x_net": [
      {
       "class": "nnReshape",
       "kargs": {
        "shape": [
         -1,
         1,
         2,
         200
        ]
       }
      },
      {
       "class": "Conv2d",
       "kargs": {
        "bias": false,
        "in_channels": 1,
        "kernel_size": [
         1,
         7
        ],
        "out_channels": 256,
        "padding": [
         0,
         3
        ]
       }
      },
      {
       "class": "ReLU",
       "kargs": {
        "inplace": true
       }
      },
      {
       "class": "BatchNorm2d",
       "kargs": {
        "num_features": 256
       }
      },
      {
       "class": "Conv2d",
       "kargs": {
        "bias": true,
        "in_channels": 256,
        "kernel_size": [
         2,
         7
        ],
        "out_channels": 80,
        "padding": [
         0,
         3
        ]
       }
      },
      {
       "class": "ReLU",
       "kargs": {
        "inplace": true
       }
      },
      {
       "class": "BatchNorm2d",
       "kargs": {
        "num_features": 80
       }
      },
      {
       "class": "Flatten",
       "kargs": {}
      },
      {
       "class": "Linear",
       "kargs": {
        "in_features": 16000,
        "out_features": 256
       }
      },
      {
       "class": "ReLU",
       "kargs": {
        "inplace": true
       }
      },
      {
       "class": "BatchNorm1d",
       "kargs": {
        "num_features": 256
       }
      },
      {
       "class": "Linear",
       "kargs": {
        "in_features": 256,
        "out_features": 256
       }
      }
     ],
     "x_shape": [
      2,
      200
     ]
    }
   },
   "start_time": "2022-03-25T02:13:29.924191",
   "version": "2.3.4"
  }
 },
 "nbformat": 4,
 "nbformat_minor": 5
}