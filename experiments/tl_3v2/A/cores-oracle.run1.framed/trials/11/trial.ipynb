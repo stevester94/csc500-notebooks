{
 "cells": [
  {
   "cell_type": "markdown",
   "id": "9fea5f46",
   "metadata": {
    "papermill": {
     "duration": 0.018693,
     "end_time": "2022-03-25T06:05:19.949162",
     "exception": false,
     "start_time": "2022-03-25T06:05:19.930469",
     "status": "completed"
    },
    "tags": []
   },
   "source": [
    "# Transfer Learning Template"
   ]
  },
  {
   "cell_type": "code",
   "execution_count": 1,
   "id": "0902182a",
   "metadata": {
    "execution": {
     "iopub.execute_input": "2022-03-25T06:05:19.996644Z",
     "iopub.status.busy": "2022-03-25T06:05:19.996209Z",
     "iopub.status.idle": "2022-03-25T06:05:20.904475Z",
     "shell.execute_reply": "2022-03-25T06:05:20.904905Z"
    },
    "papermill": {
     "duration": 0.937991,
     "end_time": "2022-03-25T06:05:20.905101",
     "exception": false,
     "start_time": "2022-03-25T06:05:19.967110",
     "status": "completed"
    },
    "tags": []
   },
   "outputs": [],
   "source": [
    "%load_ext autoreload\n",
    "%autoreload 2\n",
    "%matplotlib inline\n",
    "\n",
    "    \n",
    "import os, json, sys, time, random\n",
    "import numpy as np\n",
    "import torch\n",
    "from torch.optim import Adam\n",
    "from  easydict import EasyDict\n",
    "import matplotlib.pyplot as plt\n",
    "\n",
    "from steves_models.steves_ptn import Steves_Prototypical_Network\n",
    "\n",
    "from steves_utils.lazy_iterable_wrapper import Lazy_Iterable_Wrapper\n",
    "from steves_utils.iterable_aggregator import Iterable_Aggregator\n",
    "from steves_utils.ptn_train_eval_test_jig import  PTN_Train_Eval_Test_Jig\n",
    "from steves_utils.torch_sequential_builder import build_sequential\n",
    "from steves_utils.torch_utils import get_dataset_metrics, ptn_confusion_by_domain_over_dataloader\n",
    "from steves_utils.utils_v2 import (per_domain_accuracy_from_confusion, get_datasets_base_path)\n",
    "from steves_utils.PTN.utils import independent_accuracy_assesment\n",
    "\n",
    "from torch.utils.data import DataLoader\n",
    "\n",
    "from steves_utils.stratified_dataset.episodic_accessor import Episodic_Accessor_Factory\n",
    "\n",
    "from steves_utils.ptn_do_report import (\n",
    "    get_loss_curve,\n",
    "    get_results_table,\n",
    "    get_parameters_table,\n",
    "    get_domain_accuracies,\n",
    ")\n",
    "\n",
    "from steves_utils.transforms import get_chained_transform"
   ]
  },
  {
   "cell_type": "markdown",
   "id": "41c840b4",
   "metadata": {
    "papermill": {
     "duration": 0.012708,
     "end_time": "2022-03-25T06:05:20.935556",
     "exception": false,
     "start_time": "2022-03-25T06:05:20.922848",
     "status": "completed"
    },
    "tags": []
   },
   "source": [
    "# Allowed Parameters\n",
    "These are allowed parameters, not defaults\n",
    "Each of these values need to be present in the injected parameters (the notebook will raise an exception if they are not present)\n",
    "\n",
    "Papermill uses the cell tag \"parameters\" to inject the real parameters below this cell.\n",
    "Enable tags to see what I mean"
   ]
  },
  {
   "cell_type": "code",
   "execution_count": 2,
   "id": "fd44eb83",
   "metadata": {
    "execution": {
     "iopub.execute_input": "2022-03-25T06:05:20.966815Z",
     "iopub.status.busy": "2022-03-25T06:05:20.964839Z",
     "iopub.status.idle": "2022-03-25T06:05:20.978145Z",
     "shell.execute_reply": "2022-03-25T06:05:20.978354Z"
    },
    "papermill": {
     "duration": 0.029926,
     "end_time": "2022-03-25T06:05:20.978427",
     "exception": false,
     "start_time": "2022-03-25T06:05:20.948501",
     "status": "completed"
    },
    "tags": []
   },
   "outputs": [],
   "source": [
    "required_parameters = {\n",
    "    \"experiment_name\",\n",
    "    \"lr\",\n",
    "    \"device\",\n",
    "    \"seed\",\n",
    "    \"dataset_seed\",\n",
    "    \"n_shot\",\n",
    "    \"n_query\",\n",
    "    \"n_way\",\n",
    "    \"train_k_factor\",\n",
    "    \"val_k_factor\",\n",
    "    \"test_k_factor\",\n",
    "    \"n_epoch\",\n",
    "    \"patience\",\n",
    "    \"criteria_for_best\",\n",
    "    \"x_net\",\n",
    "    \"datasets\",\n",
    "    \"torch_default_dtype\",\n",
    "    \"NUM_LOGS_PER_EPOCH\",\n",
    "    \"BEST_MODEL_PATH\",\n",
    "    \"x_shape\",\n",
    "}"
   ]
  },
  {
   "cell_type": "code",
   "execution_count": 3,
   "id": "fa3f0049",
   "metadata": {
    "execution": {
     "iopub.execute_input": "2022-03-25T06:05:21.014142Z",
     "iopub.status.busy": "2022-03-25T06:05:21.013839Z",
     "iopub.status.idle": "2022-03-25T06:05:21.026615Z",
     "shell.execute_reply": "2022-03-25T06:05:21.026237Z"
    },
    "papermill": {
     "duration": 0.03162,
     "end_time": "2022-03-25T06:05:21.026698",
     "exception": false,
     "start_time": "2022-03-25T06:05:20.995078",
     "status": "completed"
    },
    "tags": [
     "parameters"
    ]
   },
   "outputs": [],
   "source": [
    "from steves_utils.CORES.utils import (\n",
    "    ALL_NODES,\n",
    "    ALL_NODES_MINIMUM_1000_EXAMPLES,\n",
    "    ALL_DAYS\n",
    ")\n",
    "\n",
    "from steves_utils.ORACLE.utils_v2 import (\n",
    "    ALL_DISTANCES_FEET_NARROWED,\n",
    "    ALL_RUNS,\n",
    "    ALL_SERIAL_NUMBERS,\n",
    ")\n",
    "\n",
    "standalone_parameters = {}\n",
    "standalone_parameters[\"experiment_name\"] = \"STANDALONE PTN\"\n",
    "standalone_parameters[\"lr\"] = 0.001\n",
    "standalone_parameters[\"device\"] = \"cuda\"\n",
    "\n",
    "standalone_parameters[\"seed\"] = 1337\n",
    "standalone_parameters[\"dataset_seed\"] = 1337\n",
    "\n",
    "standalone_parameters[\"n_way\"] = 8\n",
    "standalone_parameters[\"n_shot\"] = 3\n",
    "standalone_parameters[\"n_query\"]  = 2\n",
    "standalone_parameters[\"train_k_factor\"] = 1\n",
    "standalone_parameters[\"val_k_factor\"] = 2\n",
    "standalone_parameters[\"test_k_factor\"] = 2\n",
    "\n",
    "\n",
    "standalone_parameters[\"n_epoch\"] = 50\n",
    "\n",
    "standalone_parameters[\"patience\"] = 10\n",
    "standalone_parameters[\"criteria_for_best\"] = \"source_loss\"\n",
    "\n",
    "standalone_parameters[\"datasets\"] = [\n",
    "    {\n",
    "        \"labels\": ALL_SERIAL_NUMBERS,\n",
    "        \"domains\": ALL_DISTANCES_FEET_NARROWED,\n",
    "        \"num_examples_per_domain_per_label\": 100,\n",
    "        \"pickle_path\": os.path.join(get_datasets_base_path(), \"oracle.Run1_framed_2000Examples_stratified_ds.2022A.pkl\"),\n",
    "        \"source_or_target_dataset\": \"source\",\n",
    "        \"x_transforms\": [\"unit_mag\", \"minus_two\"],\n",
    "        \"episode_transforms\": [],\n",
    "        \"domain_prefix\": \"ORACLE_\"\n",
    "    },\n",
    "    {\n",
    "        \"labels\": ALL_NODES,\n",
    "        \"domains\": ALL_DAYS,\n",
    "        \"num_examples_per_domain_per_label\": 100,\n",
    "        \"pickle_path\": os.path.join(get_datasets_base_path(), \"cores.stratified_ds.2022A.pkl\"),\n",
    "        \"source_or_target_dataset\": \"target\",\n",
    "        \"x_transforms\": [\"unit_power\", \"times_zero\"],\n",
    "        \"episode_transforms\": [],\n",
    "        \"domain_prefix\": \"CORES_\"\n",
    "    }   \n",
    "]\n",
    "\n",
    "standalone_parameters[\"torch_default_dtype\"] = \"torch.float32\" \n",
    "\n",
    "\n",
    "\n",
    "standalone_parameters[\"x_net\"] =     [\n",
    "    {\"class\": \"nnReshape\", \"kargs\": {\"shape\":[-1, 1, 2, 256]}},\n",
    "    {\"class\": \"Conv2d\", \"kargs\": { \"in_channels\":1, \"out_channels\":256, \"kernel_size\":(1,7), \"bias\":False, \"padding\":(0,3), },},\n",
    "    {\"class\": \"ReLU\", \"kargs\": {\"inplace\": True}},\n",
    "    {\"class\": \"BatchNorm2d\", \"kargs\": {\"num_features\":256}},\n",
    "\n",
    "    {\"class\": \"Conv2d\", \"kargs\": { \"in_channels\":256, \"out_channels\":80, \"kernel_size\":(2,7), \"bias\":True, \"padding\":(0,3), },},\n",
    "    {\"class\": \"ReLU\", \"kargs\": {\"inplace\": True}},\n",
    "    {\"class\": \"BatchNorm2d\", \"kargs\": {\"num_features\":80}},\n",
    "    {\"class\": \"Flatten\", \"kargs\": {}},\n",
    "\n",
    "    {\"class\": \"Linear\", \"kargs\": {\"in_features\": 80*256, \"out_features\": 256}}, # 80 units per IQ pair\n",
    "    {\"class\": \"ReLU\", \"kargs\": {\"inplace\": True}},\n",
    "    {\"class\": \"BatchNorm1d\", \"kargs\": {\"num_features\":256}},\n",
    "\n",
    "    {\"class\": \"Linear\", \"kargs\": {\"in_features\": 256, \"out_features\": 256}},\n",
    "]\n",
    "\n",
    "# Parameters relevant to results\n",
    "# These parameters will basically never need to change\n",
    "standalone_parameters[\"NUM_LOGS_PER_EPOCH\"] = 10\n",
    "standalone_parameters[\"BEST_MODEL_PATH\"] = \"./best_model.pth\"\n",
    "\n",
    "\n",
    "\n",
    "\n"
   ]
  },
  {
   "cell_type": "code",
   "execution_count": 4,
   "id": "b48742aa",
   "metadata": {
    "execution": {
     "iopub.execute_input": "2022-03-25T06:05:21.062565Z",
     "iopub.status.busy": "2022-03-25T06:05:21.062261Z",
     "iopub.status.idle": "2022-03-25T06:05:21.075016Z",
     "shell.execute_reply": "2022-03-25T06:05:21.074569Z"
    },
    "papermill": {
     "duration": 0.031544,
     "end_time": "2022-03-25T06:05:21.075117",
     "exception": false,
     "start_time": "2022-03-25T06:05:21.043573",
     "status": "completed"
    },
    "tags": [
     "injected-parameters"
    ]
   },
   "outputs": [],
   "source": [
    "# Parameters\n",
    "parameters = {\n",
    "    \"experiment_name\": \"tl_3Av2:cores -> oracle.run1.framed\",\n",
    "    \"device\": \"cuda\",\n",
    "    \"lr\": 0.0001,\n",
    "    \"x_shape\": [2, 200],\n",
    "    \"n_shot\": 3,\n",
    "    \"n_query\": 2,\n",
    "    \"train_k_factor\": 3,\n",
    "    \"val_k_factor\": 2,\n",
    "    \"test_k_factor\": 2,\n",
    "    \"torch_default_dtype\": \"torch.float32\",\n",
    "    \"n_epoch\": 50,\n",
    "    \"patience\": 3,\n",
    "    \"criteria_for_best\": \"target_accuracy\",\n",
    "    \"x_net\": [\n",
    "        {\"class\": \"nnReshape\", \"kargs\": {\"shape\": [-1, 1, 2, 200]}},\n",
    "        {\n",
    "            \"class\": \"Conv2d\",\n",
    "            \"kargs\": {\n",
    "                \"in_channels\": 1,\n",
    "                \"out_channels\": 256,\n",
    "                \"kernel_size\": [1, 7],\n",
    "                \"bias\": False,\n",
    "                \"padding\": [0, 3],\n",
    "            },\n",
    "        },\n",
    "        {\"class\": \"ReLU\", \"kargs\": {\"inplace\": True}},\n",
    "        {\"class\": \"BatchNorm2d\", \"kargs\": {\"num_features\": 256}},\n",
    "        {\n",
    "            \"class\": \"Conv2d\",\n",
    "            \"kargs\": {\n",
    "                \"in_channels\": 256,\n",
    "                \"out_channels\": 80,\n",
    "                \"kernel_size\": [2, 7],\n",
    "                \"bias\": True,\n",
    "                \"padding\": [0, 3],\n",
    "            },\n",
    "        },\n",
    "        {\"class\": \"ReLU\", \"kargs\": {\"inplace\": True}},\n",
    "        {\"class\": \"BatchNorm2d\", \"kargs\": {\"num_features\": 80}},\n",
    "        {\"class\": \"Flatten\", \"kargs\": {}},\n",
    "        {\"class\": \"Linear\", \"kargs\": {\"in_features\": 16000, \"out_features\": 256}},\n",
    "        {\"class\": \"ReLU\", \"kargs\": {\"inplace\": True}},\n",
    "        {\"class\": \"BatchNorm1d\", \"kargs\": {\"num_features\": 256}},\n",
    "        {\"class\": \"Linear\", \"kargs\": {\"in_features\": 256, \"out_features\": 256}},\n",
    "    ],\n",
    "    \"NUM_LOGS_PER_EPOCH\": 10,\n",
    "    \"BEST_MODEL_PATH\": \"./best_model.pth\",\n",
    "    \"n_way\": 16,\n",
    "    \"datasets\": [\n",
    "        {\n",
    "            \"labels\": [\n",
    "                \"1-10.\",\n",
    "                \"1-11.\",\n",
    "                \"1-15.\",\n",
    "                \"1-16.\",\n",
    "                \"1-17.\",\n",
    "                \"1-18.\",\n",
    "                \"1-19.\",\n",
    "                \"10-4.\",\n",
    "                \"10-7.\",\n",
    "                \"11-1.\",\n",
    "                \"11-14.\",\n",
    "                \"11-17.\",\n",
    "                \"11-20.\",\n",
    "                \"11-7.\",\n",
    "                \"13-20.\",\n",
    "                \"13-8.\",\n",
    "                \"14-10.\",\n",
    "                \"14-11.\",\n",
    "                \"14-14.\",\n",
    "                \"14-7.\",\n",
    "                \"15-1.\",\n",
    "                \"15-20.\",\n",
    "                \"16-1.\",\n",
    "                \"16-16.\",\n",
    "                \"17-10.\",\n",
    "                \"17-11.\",\n",
    "                \"17-2.\",\n",
    "                \"19-1.\",\n",
    "                \"19-16.\",\n",
    "                \"19-19.\",\n",
    "                \"19-20.\",\n",
    "                \"19-3.\",\n",
    "                \"2-10.\",\n",
    "                \"2-11.\",\n",
    "                \"2-17.\",\n",
    "                \"2-18.\",\n",
    "                \"2-20.\",\n",
    "                \"2-3.\",\n",
    "                \"2-4.\",\n",
    "                \"2-5.\",\n",
    "                \"2-6.\",\n",
    "                \"2-7.\",\n",
    "                \"2-8.\",\n",
    "                \"3-13.\",\n",
    "                \"3-18.\",\n",
    "                \"3-3.\",\n",
    "                \"4-1.\",\n",
    "                \"4-10.\",\n",
    "                \"4-11.\",\n",
    "                \"4-19.\",\n",
    "                \"5-5.\",\n",
    "                \"6-15.\",\n",
    "                \"7-10.\",\n",
    "                \"7-14.\",\n",
    "                \"8-18.\",\n",
    "                \"8-20.\",\n",
    "                \"8-3.\",\n",
    "                \"8-8.\",\n",
    "            ],\n",
    "            \"domains\": [1, 2, 3, 4, 5],\n",
    "            \"num_examples_per_domain_per_label\": -1,\n",
    "            \"pickle_path\": \"/mnt/wd500GB/CSC500/csc500-main/datasets/cores.stratified_ds.2022A.pkl\",\n",
    "            \"source_or_target_dataset\": \"source\",\n",
    "            \"x_transforms\": [\"take_200\"],\n",
    "            \"episode_transforms\": [],\n",
    "            \"domain_prefix\": \"C_\",\n",
    "        },\n",
    "        {\n",
    "            \"labels\": [\n",
    "                \"3123D52\",\n",
    "                \"3123D65\",\n",
    "                \"3123D79\",\n",
    "                \"3123D80\",\n",
    "                \"3123D54\",\n",
    "                \"3123D70\",\n",
    "                \"3123D7B\",\n",
    "                \"3123D89\",\n",
    "                \"3123D58\",\n",
    "                \"3123D76\",\n",
    "                \"3123D7D\",\n",
    "                \"3123EFE\",\n",
    "                \"3123D64\",\n",
    "                \"3123D78\",\n",
    "                \"3123D7E\",\n",
    "                \"3124E4A\",\n",
    "            ],\n",
    "            \"domains\": [32, 38, 8, 44, 14, 50, 20, 26],\n",
    "            \"num_examples_per_domain_per_label\": 2000,\n",
    "            \"pickle_path\": \"/mnt/wd500GB/CSC500/csc500-main/datasets/oracle.Run1_framed_2000Examples_stratified_ds.2022A.pkl\",\n",
    "            \"source_or_target_dataset\": \"target\",\n",
    "            \"x_transforms\": [\"take_200\", \"resample_20Msps_to_25Msps\"],\n",
    "            \"episode_transforms\": [],\n",
    "            \"domain_prefix\": \"O_\",\n",
    "        },\n",
    "    ],\n",
    "    \"seed\": 7,\n",
    "    \"dataset_seed\": 7,\n",
    "}\n"
   ]
  },
  {
   "cell_type": "code",
   "execution_count": 5,
   "id": "8fa1cc33",
   "metadata": {
    "execution": {
     "iopub.execute_input": "2022-03-25T06:05:21.109254Z",
     "iopub.status.busy": "2022-03-25T06:05:21.108996Z",
     "iopub.status.idle": "2022-03-25T06:05:21.120814Z",
     "shell.execute_reply": "2022-03-25T06:05:21.120449Z"
    },
    "papermill": {
     "duration": 0.027232,
     "end_time": "2022-03-25T06:05:21.120900",
     "exception": false,
     "start_time": "2022-03-25T06:05:21.093668",
     "status": "completed"
    },
    "tags": []
   },
   "outputs": [],
   "source": [
    "# Set this to True if you want to run this template directly\n",
    "STANDALONE = False\n",
    "if STANDALONE:\n",
    "    print(\"parameters not injected, running with standalone_parameters\")\n",
    "    parameters = standalone_parameters\n",
    "\n",
    "if not 'parameters' in locals() and not 'parameters' in globals():\n",
    "    raise Exception(\"Parameter injection failed\")\n",
    "\n",
    "#Use an easy dict for all the parameters\n",
    "p = EasyDict(parameters)\n",
    "\n",
    "if \"x_shape\" not in p:\n",
    "    p.x_shape = [2,256] # Default to this if we dont supply x_shape\n",
    "\n",
    "\n",
    "supplied_keys = set(p.keys())\n",
    "\n",
    "if  supplied_keys != required_parameters:\n",
    "    print(\"Parameters are incorrect\")\n",
    "    if len(supplied_keys - required_parameters)>0: print(\"Shouldn't have:\", str(supplied_keys - required_parameters))\n",
    "    if len(required_parameters - supplied_keys)>0: print(\"Need to have:\", str(required_parameters - supplied_keys))\n",
    "    raise RuntimeError(\"Parameters are incorrect\")"
   ]
  },
  {
   "cell_type": "code",
   "execution_count": 6,
   "id": "3a028d58",
   "metadata": {
    "execution": {
     "iopub.execute_input": "2022-03-25T06:05:21.154038Z",
     "iopub.status.busy": "2022-03-25T06:05:21.153767Z",
     "iopub.status.idle": "2022-03-25T06:05:21.165141Z",
     "shell.execute_reply": "2022-03-25T06:05:21.164892Z"
    },
    "papermill": {
     "duration": 0.026045,
     "end_time": "2022-03-25T06:05:21.165196",
     "exception": false,
     "start_time": "2022-03-25T06:05:21.139151",
     "status": "completed"
    },
    "tags": []
   },
   "outputs": [],
   "source": [
    "###################################\n",
    "# Set the RNGs and make it all deterministic\n",
    "###################################\n",
    "np.random.seed(p.seed)\n",
    "random.seed(p.seed)\n",
    "torch.manual_seed(p.seed)\n",
    "\n",
    "torch.use_deterministic_algorithms(True) "
   ]
  },
  {
   "cell_type": "code",
   "execution_count": 7,
   "id": "b691acf6",
   "metadata": {
    "execution": {
     "iopub.execute_input": "2022-03-25T06:05:21.197808Z",
     "iopub.status.busy": "2022-03-25T06:05:21.197555Z",
     "iopub.status.idle": "2022-03-25T06:05:21.209100Z",
     "shell.execute_reply": "2022-03-25T06:05:21.208629Z"
    },
    "papermill": {
     "duration": 0.025967,
     "end_time": "2022-03-25T06:05:21.209200",
     "exception": false,
     "start_time": "2022-03-25T06:05:21.183233",
     "status": "completed"
    },
    "tags": []
   },
   "outputs": [],
   "source": [
    "###########################################\n",
    "# The stratified datasets honor this\n",
    "###########################################\n",
    "torch.set_default_dtype(eval(p.torch_default_dtype))"
   ]
  },
  {
   "cell_type": "code",
   "execution_count": 8,
   "id": "b5fba671",
   "metadata": {
    "execution": {
     "iopub.execute_input": "2022-03-25T06:05:21.240045Z",
     "iopub.status.busy": "2022-03-25T06:05:21.239793Z",
     "iopub.status.idle": "2022-03-25T06:05:21.273190Z",
     "shell.execute_reply": "2022-03-25T06:05:21.272744Z"
    },
    "papermill": {
     "duration": 0.048376,
     "end_time": "2022-03-25T06:05:21.273300",
     "exception": false,
     "start_time": "2022-03-25T06:05:21.224924",
     "status": "completed"
    },
    "tags": []
   },
   "outputs": [],
   "source": [
    "###################################\n",
    "# Build the network(s)\n",
    "# Note: It's critical to do this AFTER setting the RNG\n",
    "###################################\n",
    "x_net = build_sequential(p.x_net)"
   ]
  },
  {
   "cell_type": "code",
   "execution_count": 9,
   "id": "5d7e61cc",
   "metadata": {
    "execution": {
     "iopub.execute_input": "2022-03-25T06:05:21.306923Z",
     "iopub.status.busy": "2022-03-25T06:05:21.306642Z",
     "iopub.status.idle": "2022-03-25T06:05:21.324394Z",
     "shell.execute_reply": "2022-03-25T06:05:21.323917Z"
    },
    "papermill": {
     "duration": 0.03303,
     "end_time": "2022-03-25T06:05:21.324494",
     "exception": false,
     "start_time": "2022-03-25T06:05:21.291464",
     "status": "completed"
    },
    "tags": []
   },
   "outputs": [],
   "source": [
    "start_time_secs = time.time()"
   ]
  },
  {
   "cell_type": "code",
   "execution_count": 10,
   "id": "c6b67dfd",
   "metadata": {
    "execution": {
     "iopub.execute_input": "2022-03-25T06:05:21.361451Z",
     "iopub.status.busy": "2022-03-25T06:05:21.359264Z",
     "iopub.status.idle": "2022-03-25T06:05:21.374515Z",
     "shell.execute_reply": "2022-03-25T06:05:21.374088Z"
    },
    "papermill": {
     "duration": 0.031287,
     "end_time": "2022-03-25T06:05:21.374614",
     "exception": false,
     "start_time": "2022-03-25T06:05:21.343327",
     "status": "completed"
    },
    "tags": []
   },
   "outputs": [],
   "source": [
    "p.domains_source = []\n",
    "p.domains_target = []\n",
    "\n",
    "\n",
    "train_original_source = []\n",
    "val_original_source   = []\n",
    "test_original_source  = []\n",
    "\n",
    "train_original_target = []\n",
    "val_original_target   = []\n",
    "test_original_target  = []"
   ]
  },
  {
   "cell_type": "code",
   "execution_count": 11,
   "id": "e3d9c3d3",
   "metadata": {
    "execution": {
     "iopub.execute_input": "2022-03-25T06:05:21.407124Z",
     "iopub.status.busy": "2022-03-25T06:05:21.406871Z",
     "iopub.status.idle": "2022-03-25T06:05:21.417792Z",
     "shell.execute_reply": "2022-03-25T06:05:21.417546Z"
    },
    "papermill": {
     "duration": 0.025544,
     "end_time": "2022-03-25T06:05:21.417847",
     "exception": false,
     "start_time": "2022-03-25T06:05:21.392303",
     "status": "completed"
    },
    "tags": []
   },
   "outputs": [],
   "source": [
    "# global_x_transform_func = lambda x: normalize(x.to(torch.get_default_dtype()), \"unit_power\") # unit_power, unit_mag\n",
    "# global_x_transform_func = lambda x: normalize(x, \"unit_power\") # unit_power, unit_mag"
   ]
  },
  {
   "cell_type": "code",
   "execution_count": 12,
   "id": "acb78fd2",
   "metadata": {
    "execution": {
     "iopub.execute_input": "2022-03-25T06:05:21.454973Z",
     "iopub.status.busy": "2022-03-25T06:05:21.453749Z",
     "iopub.status.idle": "2022-03-25T06:05:21.468153Z",
     "shell.execute_reply": "2022-03-25T06:05:21.467682Z"
    },
    "papermill": {
     "duration": 0.034493,
     "end_time": "2022-03-25T06:05:21.468252",
     "exception": false,
     "start_time": "2022-03-25T06:05:21.433759",
     "status": "completed"
    },
    "tags": []
   },
   "outputs": [],
   "source": [
    "def add_dataset(\n",
    "    labels,\n",
    "    domains,\n",
    "    pickle_path,\n",
    "    x_transforms,\n",
    "    episode_transforms,\n",
    "    domain_prefix,\n",
    "    num_examples_per_domain_per_label,\n",
    "    source_or_target_dataset:str,\n",
    "    iterator_seed=p.seed,\n",
    "    dataset_seed=p.dataset_seed,\n",
    "    n_shot=p.n_shot,\n",
    "    n_way=p.n_way,\n",
    "    n_query=p.n_query,\n",
    "    train_val_test_k_factors=(p.train_k_factor,p.val_k_factor,p.test_k_factor),\n",
    "):\n",
    "   \n",
    "    if x_transforms == []: x_transform = None\n",
    "    else: x_transform = get_chained_transform(x_transforms)\n",
    "    \n",
    "    if episode_transforms == []: episode_transform = None\n",
    "    else: raise Exception(\"episode_transforms not implemented\")\n",
    "    \n",
    "    episode_transform = lambda tup, _prefix=domain_prefix: (_prefix + str(tup[0]), tup[1])\n",
    "\n",
    "\n",
    "    eaf = Episodic_Accessor_Factory(\n",
    "        labels=labels,\n",
    "        domains=domains,\n",
    "        num_examples_per_domain_per_label=num_examples_per_domain_per_label,\n",
    "        iterator_seed=iterator_seed,\n",
    "        dataset_seed=dataset_seed,\n",
    "        n_shot=n_shot,\n",
    "        n_way=n_way,\n",
    "        n_query=n_query,\n",
    "        train_val_test_k_factors=train_val_test_k_factors,\n",
    "        pickle_path=pickle_path,\n",
    "        x_transform_func=x_transform,\n",
    "    )\n",
    "\n",
    "    train, val, test = eaf.get_train(), eaf.get_val(), eaf.get_test()\n",
    "    train = Lazy_Iterable_Wrapper(train, episode_transform)\n",
    "    val = Lazy_Iterable_Wrapper(val, episode_transform)\n",
    "    test = Lazy_Iterable_Wrapper(test, episode_transform)\n",
    "\n",
    "    if source_or_target_dataset==\"source\":\n",
    "        train_original_source.append(train)\n",
    "        val_original_source.append(val)\n",
    "        test_original_source.append(test)\n",
    "\n",
    "        p.domains_source.extend(\n",
    "            [domain_prefix + str(u) for u in domains]\n",
    "        )\n",
    "    elif source_or_target_dataset==\"target\":\n",
    "        train_original_target.append(train)\n",
    "        val_original_target.append(val)\n",
    "        test_original_target.append(test)\n",
    "        p.domains_target.extend(\n",
    "            [domain_prefix + str(u) for u in domains]\n",
    "        )\n",
    "    else:\n",
    "        raise Exception(f\"invalid source_or_target_dataset: {source_or_target_dataset}\")\n",
    "    "
   ]
  },
  {
   "cell_type": "code",
   "execution_count": 13,
   "id": "fe266617",
   "metadata": {
    "execution": {
     "iopub.execute_input": "2022-03-25T06:05:21.505878Z",
     "iopub.status.busy": "2022-03-25T06:05:21.502076Z",
     "iopub.status.idle": "2022-03-25T06:05:37.586928Z",
     "shell.execute_reply": "2022-03-25T06:05:37.586407Z"
    },
    "papermill": {
     "duration": 16.100613,
     "end_time": "2022-03-25T06:05:37.587037",
     "exception": false,
     "start_time": "2022-03-25T06:05:21.486424",
     "status": "completed"
    },
    "tags": []
   },
   "outputs": [],
   "source": [
    "for ds in p.datasets:\n",
    "    add_dataset(**ds)"
   ]
  },
  {
   "cell_type": "code",
   "execution_count": 14,
   "id": "b90d65ac",
   "metadata": {
    "execution": {
     "iopub.execute_input": "2022-03-25T06:05:37.623763Z",
     "iopub.status.busy": "2022-03-25T06:05:37.622012Z",
     "iopub.status.idle": "2022-03-25T06:05:37.637362Z",
     "shell.execute_reply": "2022-03-25T06:05:37.637649Z"
    },
    "papermill": {
     "duration": 0.031611,
     "end_time": "2022-03-25T06:05:37.637745",
     "exception": false,
     "start_time": "2022-03-25T06:05:37.606134",
     "status": "completed"
    },
    "tags": []
   },
   "outputs": [],
   "source": [
    "# from steves_utils.CORES.utils import (\n",
    "#     ALL_NODES,\n",
    "#     ALL_NODES_MINIMUM_1000_EXAMPLES,\n",
    "#     ALL_DAYS\n",
    "# )\n",
    "\n",
    "# add_dataset(\n",
    "#     labels=ALL_NODES,\n",
    "#     domains = ALL_DAYS,\n",
    "#     num_examples_per_domain_per_label=100,\n",
    "#     pickle_path=os.path.join(get_datasets_base_path(), \"cores.stratified_ds.2022A.pkl\"),\n",
    "#     source_or_target_dataset=\"target\",\n",
    "#     x_transform_func=global_x_transform_func,\n",
    "#     domain_modifier=lambda u: f\"cores_{u}\"\n",
    "# )"
   ]
  },
  {
   "cell_type": "code",
   "execution_count": 15,
   "id": "76db484d",
   "metadata": {
    "execution": {
     "iopub.execute_input": "2022-03-25T06:05:37.670567Z",
     "iopub.status.busy": "2022-03-25T06:05:37.670184Z",
     "iopub.status.idle": "2022-03-25T06:05:37.685448Z",
     "shell.execute_reply": "2022-03-25T06:05:37.685031Z"
    },
    "papermill": {
     "duration": 0.030214,
     "end_time": "2022-03-25T06:05:37.685548",
     "exception": false,
     "start_time": "2022-03-25T06:05:37.655334",
     "status": "completed"
    },
    "tags": []
   },
   "outputs": [],
   "source": [
    "# from steves_utils.ORACLE.utils_v2 import (\n",
    "#     ALL_DISTANCES_FEET,\n",
    "#     ALL_RUNS,\n",
    "#     ALL_SERIAL_NUMBERS,\n",
    "# )\n",
    "\n",
    "\n",
    "# add_dataset(\n",
    "#     labels=ALL_SERIAL_NUMBERS,\n",
    "#     domains = list(set(ALL_DISTANCES_FEET) - {2,62}),\n",
    "#     num_examples_per_domain_per_label=100,\n",
    "#     pickle_path=os.path.join(get_datasets_base_path(), \"oracle.Run2_framed_2000Examples_stratified_ds.2022A.pkl\"),\n",
    "#     source_or_target_dataset=\"source\",\n",
    "#     x_transform_func=global_x_transform_func,\n",
    "#     domain_modifier=lambda u: f\"oracle1_{u}\"\n",
    "# )\n"
   ]
  },
  {
   "cell_type": "code",
   "execution_count": 16,
   "id": "97dea9d2",
   "metadata": {
    "execution": {
     "iopub.execute_input": "2022-03-25T06:05:37.719726Z",
     "iopub.status.busy": "2022-03-25T06:05:37.719446Z",
     "iopub.status.idle": "2022-03-25T06:05:37.734239Z",
     "shell.execute_reply": "2022-03-25T06:05:37.733694Z"
    },
    "papermill": {
     "duration": 0.030155,
     "end_time": "2022-03-25T06:05:37.734339",
     "exception": false,
     "start_time": "2022-03-25T06:05:37.704184",
     "status": "completed"
    },
    "tags": []
   },
   "outputs": [],
   "source": [
    "# from steves_utils.ORACLE.utils_v2 import (\n",
    "#     ALL_DISTANCES_FEET,\n",
    "#     ALL_RUNS,\n",
    "#     ALL_SERIAL_NUMBERS,\n",
    "# )\n",
    "\n",
    "\n",
    "# add_dataset(\n",
    "#     labels=ALL_SERIAL_NUMBERS,\n",
    "#     domains = list(set(ALL_DISTANCES_FEET) - {2,62,56}),\n",
    "#     num_examples_per_domain_per_label=100,\n",
    "#     pickle_path=os.path.join(get_datasets_base_path(), \"oracle.Run2_framed_2000Examples_stratified_ds.2022A.pkl\"),\n",
    "#     source_or_target_dataset=\"source\",\n",
    "#     x_transform_func=global_x_transform_func,\n",
    "#     domain_modifier=lambda u: f\"oracle2_{u}\"\n",
    "# )"
   ]
  },
  {
   "cell_type": "code",
   "execution_count": 17,
   "id": "6f289866",
   "metadata": {
    "execution": {
     "iopub.execute_input": "2022-03-25T06:05:37.770220Z",
     "iopub.status.busy": "2022-03-25T06:05:37.769939Z",
     "iopub.status.idle": "2022-03-25T06:05:37.783190Z",
     "shell.execute_reply": "2022-03-25T06:05:37.782824Z"
    },
    "papermill": {
     "duration": 0.029099,
     "end_time": "2022-03-25T06:05:37.783268",
     "exception": false,
     "start_time": "2022-03-25T06:05:37.754169",
     "status": "completed"
    },
    "tags": []
   },
   "outputs": [],
   "source": [
    "# add_dataset(\n",
    "#     labels=list(range(19)),\n",
    "#     domains = [0,1,2],\n",
    "#     num_examples_per_domain_per_label=100,\n",
    "#     pickle_path=os.path.join(get_datasets_base_path(), \"metehan.stratified_ds.2022A.pkl\"),\n",
    "#     source_or_target_dataset=\"target\",\n",
    "#     x_transform_func=global_x_transform_func,\n",
    "#     domain_modifier=lambda u: f\"met_{u}\"\n",
    "# )"
   ]
  },
  {
   "cell_type": "code",
   "execution_count": 18,
   "id": "86a863c3",
   "metadata": {
    "execution": {
     "iopub.execute_input": "2022-03-25T06:05:37.817962Z",
     "iopub.status.busy": "2022-03-25T06:05:37.817713Z",
     "iopub.status.idle": "2022-03-25T06:05:37.828830Z",
     "shell.execute_reply": "2022-03-25T06:05:37.828349Z"
    },
    "papermill": {
     "duration": 0.026368,
     "end_time": "2022-03-25T06:05:37.828929",
     "exception": false,
     "start_time": "2022-03-25T06:05:37.802561",
     "status": "completed"
    },
    "tags": []
   },
   "outputs": [],
   "source": [
    "# # from steves_utils.wisig.utils import (\n",
    "# #     ALL_NODES_MINIMUM_100_EXAMPLES,\n",
    "# #     ALL_NODES_MINIMUM_500_EXAMPLES,\n",
    "# #     ALL_NODES_MINIMUM_1000_EXAMPLES,\n",
    "# #     ALL_DAYS\n",
    "# # )\n",
    "\n",
    "# import steves_utils.wisig.utils as wisig\n",
    "\n",
    "\n",
    "# add_dataset(\n",
    "#     labels=wisig.ALL_NODES_MINIMUM_100_EXAMPLES,\n",
    "#     domains = wisig.ALL_DAYS,\n",
    "#     num_examples_per_domain_per_label=100,\n",
    "#     pickle_path=os.path.join(get_datasets_base_path(), \"wisig.node3-19.stratified_ds.2022A.pkl\"),\n",
    "#     source_or_target_dataset=\"target\",\n",
    "#     x_transform_func=global_x_transform_func,\n",
    "#     domain_modifier=lambda u: f\"wisig_{u}\"\n",
    "# )"
   ]
  },
  {
   "cell_type": "code",
   "execution_count": 19,
   "id": "fd5442bc",
   "metadata": {
    "execution": {
     "iopub.execute_input": "2022-03-25T06:05:37.870377Z",
     "iopub.status.busy": "2022-03-25T06:05:37.869286Z",
     "iopub.status.idle": "2022-03-25T06:05:37.880769Z",
     "shell.execute_reply": "2022-03-25T06:05:37.880346Z"
    },
    "papermill": {
     "duration": 0.03326,
     "end_time": "2022-03-25T06:05:37.880871",
     "exception": false,
     "start_time": "2022-03-25T06:05:37.847611",
     "status": "completed"
    },
    "tags": []
   },
   "outputs": [],
   "source": [
    "###################################\n",
    "# Build the dataset\n",
    "###################################\n",
    "train_original_source = Iterable_Aggregator(train_original_source, p.seed)\n",
    "val_original_source = Iterable_Aggregator(val_original_source, p.seed)\n",
    "test_original_source = Iterable_Aggregator(test_original_source, p.seed)\n",
    "\n",
    "\n",
    "train_original_target = Iterable_Aggregator(train_original_target, p.seed)\n",
    "val_original_target = Iterable_Aggregator(val_original_target, p.seed)\n",
    "test_original_target = Iterable_Aggregator(test_original_target, p.seed)\n",
    "\n",
    "# For CNN We only use X and Y. And we only train on the source.\n",
    "# Properly form the data using a transform lambda and Lazy_Iterable_Wrapper. Finally wrap them in a dataloader\n",
    "\n",
    "transform_lambda = lambda ex: ex[1] # Original is (<domain>, <episode>) so we strip down to episode only\n",
    "\n",
    "train_processed_source = Lazy_Iterable_Wrapper(train_original_source, transform_lambda)\n",
    "val_processed_source   = Lazy_Iterable_Wrapper(val_original_source, transform_lambda)\n",
    "test_processed_source  = Lazy_Iterable_Wrapper(test_original_source, transform_lambda)\n",
    "\n",
    "train_processed_target = Lazy_Iterable_Wrapper(train_original_target, transform_lambda)\n",
    "val_processed_target   = Lazy_Iterable_Wrapper(val_original_target, transform_lambda)\n",
    "test_processed_target  = Lazy_Iterable_Wrapper(test_original_target, transform_lambda)\n",
    "\n",
    "datasets = EasyDict({\n",
    "    \"source\": {\n",
    "        \"original\": {\"train\":train_original_source, \"val\":val_original_source, \"test\":test_original_source},\n",
    "        \"processed\": {\"train\":train_processed_source, \"val\":val_processed_source, \"test\":test_processed_source}\n",
    "    },\n",
    "    \"target\": {\n",
    "        \"original\": {\"train\":train_original_target, \"val\":val_original_target, \"test\":test_original_target},\n",
    "        \"processed\": {\"train\":train_processed_target, \"val\":val_processed_target, \"test\":test_processed_target}\n",
    "    },\n",
    "})"
   ]
  },
  {
   "cell_type": "code",
   "execution_count": 20,
   "id": "5b3c01fc",
   "metadata": {
    "execution": {
     "iopub.execute_input": "2022-03-25T06:05:37.918352Z",
     "iopub.status.busy": "2022-03-25T06:05:37.914286Z",
     "iopub.status.idle": "2022-03-25T06:05:44.032591Z",
     "shell.execute_reply": "2022-03-25T06:05:44.032224Z"
    },
    "papermill": {
     "duration": 6.135289,
     "end_time": "2022-03-25T06:05:44.032672",
     "exception": false,
     "start_time": "2022-03-25T06:05:37.897383",
     "status": "completed"
    },
    "tags": []
   },
   "outputs": [
    {
     "name": "stdout",
     "output_type": "stream",
     "text": [
      "{'C_5', 'C_4', 'C_3', 'C_1', 'C_2'}\n"
     ]
    },
    {
     "name": "stdout",
     "output_type": "stream",
     "text": [
      "{'O_14', 'O_8', 'O_32', 'O_50', 'O_38', 'O_44', 'O_26', 'O_20'}\n"
     ]
    },
    {
     "name": "stdout",
     "output_type": "stream",
     "text": [
      "tensor([[[ 2.4109e-03, -8.8503e-04,  1.1200e-02,  ...,  5.7985e-03,\n",
      "          -5.2888e-02, -3.8880e-02],\n",
      "         [ 1.6816e-02, -2.4384e-02, -5.3590e-02,  ...,  5.3316e-02,\n",
      "          -3.7873e-02, -6.2807e-02]],\n",
      "\n",
      "        [[ 2.2889e-03, -8.8503e-04, -2.9908e-02,  ...,  1.1841e-02,\n",
      "           2.6429e-02, -2.5330e-03],\n",
      "         [-1.3825e-02, -1.4344e-03,  2.7497e-02,  ..., -5.4536e-02,\n",
      "           4.9440e-03,  7.9012e-02]],\n",
      "\n",
      "        [[-8.3925e-03, -2.0814e-02,  3.7354e-02,  ..., -2.5635e-02,\n",
      "          -6.3844e-02,  4.0681e-02],\n",
      "         [ 1.1170e-02,  1.0773e-02, -4.1810e-03,  ...,  6.5553e-02,\n",
      "           1.6388e-02, -8.4963e-02]],\n",
      "\n",
      "        ...,\n",
      "\n",
      "        [[-3.9063e-03, -1.6175e-03,  9.9795e-03,  ..., -2.2278e-03,\n",
      "           1.5503e-02,  1.2390e-02],\n",
      "         [-6.1037e-05, -8.5757e-03, -1.7395e-03,  ...,  2.5025e-03,\n",
      "           2.1058e-03,  5.7680e-03]],\n",
      "\n",
      "        [[ 3.7538e-03,  5.6764e-03, -7.2328e-03,  ..., -1.7090e-03,\n",
      "          -1.4618e-02, -1.0803e-02],\n",
      "         [-2.6856e-03,  6.8666e-03,  8.1789e-03,  ..., -9.7659e-04,\n",
      "           9.0945e-03,  2.4720e-03]],\n",
      "\n",
      "        [[-1.5870e-03, -1.6480e-03,  8.5146e-03,  ..., -1.2604e-02,\n",
      "           1.2207e-03,  7.2939e-03],\n",
      "         [ 5.7985e-04, -5.0050e-03, -3.2044e-03,  ..., -2.5330e-03,\n",
      "           3.6012e-03,  1.6053e-02]]])\n"
     ]
    }
   ],
   "source": [
    "from steves_utils.transforms import get_average_magnitude, get_average_power\n",
    "\n",
    "print(set([u for u,_ in val_original_source]))\n",
    "print(set([u for u,_ in val_original_target]))\n",
    "\n",
    "s_x, s_y, q_x, q_y, _ = next(iter(train_processed_source))\n",
    "print(s_x)\n",
    "\n",
    "# for ds in [\n",
    "#     train_processed_source,\n",
    "#     val_processed_source,\n",
    "#     test_processed_source,\n",
    "#     train_processed_target,\n",
    "#     val_processed_target,\n",
    "#     test_processed_target\n",
    "# ]:\n",
    "#     for s_x, s_y, q_x, q_y, _ in ds:\n",
    "#         for X in (s_x, q_x):\n",
    "#             for x in X:\n",
    "#                 assert np.isclose(get_average_magnitude(x.numpy()), 1.0)\n",
    "#                 assert np.isclose(get_average_power(x.numpy()), 1.0)\n",
    "                "
   ]
  },
  {
   "cell_type": "code",
   "execution_count": 21,
   "id": "bbdacba1",
   "metadata": {
    "execution": {
     "iopub.execute_input": "2022-03-25T06:05:44.071693Z",
     "iopub.status.busy": "2022-03-25T06:05:44.071434Z",
     "iopub.status.idle": "2022-03-25T06:05:44.121926Z",
     "shell.execute_reply": "2022-03-25T06:05:44.121524Z"
    },
    "papermill": {
     "duration": 0.068374,
     "end_time": "2022-03-25T06:05:44.122040",
     "exception": false,
     "start_time": "2022-03-25T06:05:44.053666",
     "status": "completed"
    },
    "tags": []
   },
   "outputs": [
    {
     "name": "stdout",
     "output_type": "stream",
     "text": [
      "(2, 200)\n"
     ]
    }
   ],
   "source": [
    "###################################\n",
    "# Build the model\n",
    "###################################\n",
    "# easfsl only wants a tuple for the shape\n",
    "model = Steves_Prototypical_Network(x_net, device=p.device, x_shape=tuple(p.x_shape))\n",
    "optimizer = Adam(params=model.parameters(), lr=p.lr)"
   ]
  },
  {
   "cell_type": "code",
   "execution_count": 22,
   "id": "22b39ac5",
   "metadata": {
    "execution": {
     "iopub.execute_input": "2022-03-25T06:05:44.159767Z",
     "iopub.status.busy": "2022-03-25T06:05:44.159516Z",
     "iopub.status.idle": "2022-03-25T06:28:47.315069Z",
     "shell.execute_reply": "2022-03-25T06:28:47.314837Z"
    },
    "papermill": {
     "duration": 1383.172603,
     "end_time": "2022-03-25T06:28:47.315128",
     "exception": false,
     "start_time": "2022-03-25T06:05:44.142525",
     "status": "completed"
    },
    "tags": []
   },
   "outputs": [
    {
     "name": "stdout",
     "output_type": "stream",
     "text": [
      "epoch: 1, [batch: 1 / 6316], examples_per_second: 51.1176, train_label_loss: 2.0597, \n"
     ]
    },
    {
     "name": "stdout",
     "output_type": "stream",
     "text": [
      "epoch: 1, [batch: 632 / 6316], examples_per_second: 3629.6509, train_label_loss: 0.0267, \n"
     ]
    },
    {
     "name": "stdout",
     "output_type": "stream",
     "text": [
      "epoch: 1, [batch: 1264 / 6316], examples_per_second: 3651.0869, train_label_loss: 0.0114, \n"
     ]
    },
    {
     "name": "stdout",
     "output_type": "stream",
     "text": [
      "epoch: 1, [batch: 1895 / 6316], examples_per_second: 3659.6412, train_label_loss: 0.0070, \n"
     ]
    },
    {
     "name": "stdout",
     "output_type": "stream",
     "text": [
      "epoch: 1, [batch: 2527 / 6316], examples_per_second: 3645.2141, train_label_loss: 0.0031, \n"
     ]
    },
    {
     "name": "stdout",
     "output_type": "stream",
     "text": [
      "epoch: 1, [batch: 3158 / 6316], examples_per_second: 3650.5968, train_label_loss: 0.0028, \n"
     ]
    },
    {
     "name": "stdout",
     "output_type": "stream",
     "text": [
      "epoch: 1, [batch: 3790 / 6316], examples_per_second: 3653.9742, train_label_loss: 0.0001, \n"
     ]
    },
    {
     "name": "stdout",
     "output_type": "stream",
     "text": [
      "epoch: 1, [batch: 4421 / 6316], examples_per_second: 3636.7362, train_label_loss: 0.0269, \n"
     ]
    },
    {
     "name": "stdout",
     "output_type": "stream",
     "text": [
      "epoch: 1, [batch: 5053 / 6316], examples_per_second: 3654.1211, train_label_loss: 0.0329, \n"
     ]
    },
    {
     "name": "stdout",
     "output_type": "stream",
     "text": [
      "epoch: 1, [batch: 5684 / 6316], examples_per_second: 3640.9568, train_label_loss: 0.0022, \n"
     ]
    },
    {
     "name": "stdout",
     "output_type": "stream",
     "text": [
      "=============================================================\n",
      "epoch: 1, source_val_acc_label: 0.9976, target_val_acc_label: 0.4409, source_val_label_loss: 0.0109, target_val_label_loss: 1.9852, \n",
      "=============================================================\n"
     ]
    },
    {
     "name": "stdout",
     "output_type": "stream",
     "text": [
      "New best\n"
     ]
    },
    {
     "name": "stdout",
     "output_type": "stream",
     "text": [
      "epoch: 2, [batch: 1 / 6296], examples_per_second: 5.4757, train_label_loss: 0.0249, \n"
     ]
    },
    {
     "name": "stdout",
     "output_type": "stream",
     "text": [
      "epoch: 2, [batch: 630 / 6296], examples_per_second: 3629.0487, train_label_loss: 0.0003, \n"
     ]
    },
    {
     "name": "stdout",
     "output_type": "stream",
     "text": [
      "epoch: 2, [batch: 1260 / 6296], examples_per_second: 3628.5017, train_label_loss: 0.0006, \n"
     ]
    },
    {
     "name": "stdout",
     "output_type": "stream",
     "text": [
      "epoch: 2, [batch: 1889 / 6296], examples_per_second: 3653.2469, train_label_loss: 0.0013, \n"
     ]
    },
    {
     "name": "stdout",
     "output_type": "stream",
     "text": [
      "epoch: 2, [batch: 2519 / 6296], examples_per_second: 3610.6552, train_label_loss: 0.0004, \n"
     ]
    },
    {
     "name": "stdout",
     "output_type": "stream",
     "text": [
      "epoch: 2, [batch: 3148 / 6296], examples_per_second: 3655.1710, train_label_loss: 0.0013, \n"
     ]
    },
    {
     "name": "stdout",
     "output_type": "stream",
     "text": [
      "epoch: 2, [batch: 3778 / 6296], examples_per_second: 3649.2496, train_label_loss: 0.0003, \n"
     ]
    },
    {
     "name": "stdout",
     "output_type": "stream",
     "text": [
      "epoch: 2, [batch: 4407 / 6296], examples_per_second: 3638.0779, train_label_loss: 0.0000, \n"
     ]
    },
    {
     "name": "stdout",
     "output_type": "stream",
     "text": [
      "epoch: 2, [batch: 5037 / 6296], examples_per_second: 3669.9213, train_label_loss: 0.0015, \n"
     ]
    },
    {
     "name": "stdout",
     "output_type": "stream",
     "text": [
      "epoch: 2, [batch: 5666 / 6296], examples_per_second: 3662.1117, train_label_loss: 0.0002, \n"
     ]
    },
    {
     "name": "stdout",
     "output_type": "stream",
     "text": [
      "=============================================================\n",
      "epoch: 2, source_val_acc_label: 0.9971, target_val_acc_label: 0.4698, source_val_label_loss: 0.0207, target_val_label_loss: 1.6836, \n",
      "=============================================================\n"
     ]
    },
    {
     "name": "stdout",
     "output_type": "stream",
     "text": [
      "New best\n"
     ]
    },
    {
     "name": "stdout",
     "output_type": "stream",
     "text": [
      "epoch: 3, [batch: 1 / 6299], examples_per_second: 5.4646, train_label_loss: 2.3580, \n"
     ]
    },
    {
     "name": "stdout",
     "output_type": "stream",
     "text": [
      "epoch: 3, [batch: 630 / 6299], examples_per_second: 3647.4478, train_label_loss: 0.0265, \n"
     ]
    },
    {
     "name": "stdout",
     "output_type": "stream",
     "text": [
      "epoch: 3, [batch: 1260 / 6299], examples_per_second: 3654.0214, train_label_loss: 0.0000, \n"
     ]
    },
    {
     "name": "stdout",
     "output_type": "stream",
     "text": [
      "epoch: 3, [batch: 1890 / 6299], examples_per_second: 3678.3651, train_label_loss: 0.0000, \n"
     ]
    },
    {
     "name": "stdout",
     "output_type": "stream",
     "text": [
      "epoch: 3, [batch: 2520 / 6299], examples_per_second: 3637.5005, train_label_loss: 0.0024, \n"
     ]
    },
    {
     "name": "stdout",
     "output_type": "stream",
     "text": [
      "epoch: 3, [batch: 3150 / 6299], examples_per_second: 3667.3679, train_label_loss: 0.0000, \n"
     ]
    },
    {
     "name": "stdout",
     "output_type": "stream",
     "text": [
      "epoch: 3, [batch: 3779 / 6299], examples_per_second: 3660.5194, train_label_loss: 0.0001, \n"
     ]
    },
    {
     "name": "stdout",
     "output_type": "stream",
     "text": [
      "epoch: 3, [batch: 4409 / 6299], examples_per_second: 3646.7112, train_label_loss: 0.0000, \n"
     ]
    },
    {
     "name": "stdout",
     "output_type": "stream",
     "text": [
      "epoch: 3, [batch: 5039 / 6299], examples_per_second: 3658.4750, train_label_loss: 0.0000, \n"
     ]
    },
    {
     "name": "stdout",
     "output_type": "stream",
     "text": [
      "epoch: 3, [batch: 5669 / 6299], examples_per_second: 3655.0541, train_label_loss: 0.0000, \n"
     ]
    },
    {
     "name": "stdout",
     "output_type": "stream",
     "text": [
      "=============================================================\n",
      "epoch: 3, source_val_acc_label: 0.9988, target_val_acc_label: 0.5005, source_val_label_loss: 0.0073, target_val_label_loss: 1.8330, \n",
      "=============================================================\n"
     ]
    },
    {
     "name": "stdout",
     "output_type": "stream",
     "text": [
      "New best\n"
     ]
    },
    {
     "name": "stdout",
     "output_type": "stream",
     "text": [
      "epoch: 4, [batch: 1 / 6316], examples_per_second: 5.5017, train_label_loss: 0.0007, \n"
     ]
    },
    {
     "name": "stdout",
     "output_type": "stream",
     "text": [
      "epoch: 4, [batch: 632 / 6316], examples_per_second: 3628.7740, train_label_loss: 0.0000, \n"
     ]
    },
    {
     "name": "stdout",
     "output_type": "stream",
     "text": [
      "epoch: 4, [batch: 1264 / 6316], examples_per_second: 3649.1818, train_label_loss: 0.0002, \n"
     ]
    },
    {
     "name": "stdout",
     "output_type": "stream",
     "text": [
      "epoch: 4, [batch: 1895 / 6316], examples_per_second: 3654.1318, train_label_loss: 0.0024, \n"
     ]
    },
    {
     "name": "stdout",
     "output_type": "stream",
     "text": [
      "epoch: 4, [batch: 2527 / 6316], examples_per_second: 3632.8109, train_label_loss: 0.0002, \n"
     ]
    },
    {
     "name": "stdout",
     "output_type": "stream",
     "text": [
      "epoch: 4, [batch: 3158 / 6316], examples_per_second: 3656.5645, train_label_loss: 0.0000, \n"
     ]
    },
    {
     "name": "stdout",
     "output_type": "stream",
     "text": [
      "epoch: 4, [batch: 3790 / 6316], examples_per_second: 3643.3844, train_label_loss: 0.0000, \n"
     ]
    },
    {
     "name": "stdout",
     "output_type": "stream",
     "text": [
      "epoch: 4, [batch: 4421 / 6316], examples_per_second: 3637.4222, train_label_loss: 0.0002, \n"
     ]
    },
    {
     "name": "stdout",
     "output_type": "stream",
     "text": [
      "epoch: 4, [batch: 5053 / 6316], examples_per_second: 3647.5517, train_label_loss: 0.0000, \n"
     ]
    },
    {
     "name": "stdout",
     "output_type": "stream",
     "text": [
      "epoch: 4, [batch: 5684 / 6316], examples_per_second: 3643.0888, train_label_loss: 0.0004, \n"
     ]
    },
    {
     "name": "stdout",
     "output_type": "stream",
     "text": [
      "=============================================================\n",
      "epoch: 4, source_val_acc_label: 0.9990, target_val_acc_label: 0.3919, source_val_label_loss: 0.0097, target_val_label_loss: 1.8145, \n",
      "=============================================================\n"
     ]
    },
    {
     "name": "stdout",
     "output_type": "stream",
     "text": [
      "epoch: 5, [batch: 1 / 6313], examples_per_second: 5.4654, train_label_loss: 0.0000, \n"
     ]
    },
    {
     "name": "stdout",
     "output_type": "stream",
     "text": [
      "epoch: 5, [batch: 632 / 6313], examples_per_second: 3616.6949, train_label_loss: 0.0139, \n"
     ]
    },
    {
     "name": "stdout",
     "output_type": "stream",
     "text": [
      "epoch: 5, [batch: 1263 / 6313], examples_per_second: 3644.9883, train_label_loss: 0.0000, \n"
     ]
    },
    {
     "name": "stdout",
     "output_type": "stream",
     "text": [
      "epoch: 5, [batch: 1894 / 6313], examples_per_second: 3642.5451, train_label_loss: 0.0000, \n"
     ]
    },
    {
     "name": "stdout",
     "output_type": "stream",
     "text": [
      "epoch: 5, [batch: 2525 / 6313], examples_per_second: 3625.6898, train_label_loss: 0.0000, \n"
     ]
    },
    {
     "name": "stdout",
     "output_type": "stream",
     "text": [
      "epoch: 5, [batch: 3157 / 6313], examples_per_second: 3642.9641, train_label_loss: 0.0000, \n"
     ]
    },
    {
     "name": "stdout",
     "output_type": "stream",
     "text": [
      "epoch: 5, [batch: 3788 / 6313], examples_per_second: 3634.8340, train_label_loss: 0.0023, \n"
     ]
    },
    {
     "name": "stdout",
     "output_type": "stream",
     "text": [
      "epoch: 5, [batch: 4419 / 6313], examples_per_second: 3641.9390, train_label_loss: 0.0000, \n"
     ]
    },
    {
     "name": "stdout",
     "output_type": "stream",
     "text": [
      "epoch: 5, [batch: 5050 / 6313], examples_per_second: 3659.8562, train_label_loss: 0.0000, \n"
     ]
    },
    {
     "name": "stdout",
     "output_type": "stream",
     "text": [
      "epoch: 5, [batch: 5681 / 6313], examples_per_second: 3652.2238, train_label_loss: 0.0002, \n"
     ]
    },
    {
     "name": "stdout",
     "output_type": "stream",
     "text": [
      "=============================================================\n",
      "epoch: 5, source_val_acc_label: 0.9988, target_val_acc_label: 0.5510, source_val_label_loss: 0.0083, target_val_label_loss: 1.4961, \n",
      "=============================================================\n"
     ]
    },
    {
     "name": "stdout",
     "output_type": "stream",
     "text": [
      "New best\n"
     ]
    },
    {
     "name": "stdout",
     "output_type": "stream",
     "text": [
      "epoch: 6, [batch: 1 / 6307], examples_per_second: 5.4896, train_label_loss: 0.0292, \n"
     ]
    },
    {
     "name": "stdout",
     "output_type": "stream",
     "text": [
      "epoch: 6, [batch: 631 / 6307], examples_per_second: 3619.1946, train_label_loss: 0.0000, \n"
     ]
    },
    {
     "name": "stdout",
     "output_type": "stream",
     "text": [
      "epoch: 6, [batch: 1262 / 6307], examples_per_second: 3621.9502, train_label_loss: 0.0000, \n"
     ]
    },
    {
     "name": "stdout",
     "output_type": "stream",
     "text": [
      "epoch: 6, [batch: 1892 / 6307], examples_per_second: 3651.9285, train_label_loss: 0.0000, \n"
     ]
    },
    {
     "name": "stdout",
     "output_type": "stream",
     "text": [
      "epoch: 6, [batch: 2523 / 6307], examples_per_second: 3654.3878, train_label_loss: 0.0000, \n"
     ]
    },
    {
     "name": "stdout",
     "output_type": "stream",
     "text": [
      "epoch: 6, [batch: 3154 / 6307], examples_per_second: 3654.2586, train_label_loss: 0.0000, \n"
     ]
    },
    {
     "name": "stdout",
     "output_type": "stream",
     "text": [
      "epoch: 6, [batch: 3784 / 6307], examples_per_second: 3657.7878, train_label_loss: 0.0000, \n"
     ]
    },
    {
     "name": "stdout",
     "output_type": "stream",
     "text": [
      "epoch: 6, [batch: 4415 / 6307], examples_per_second: 3640.2956, train_label_loss: 0.0000, \n"
     ]
    },
    {
     "name": "stdout",
     "output_type": "stream",
     "text": [
      "epoch: 6, [batch: 5045 / 6307], examples_per_second: 3650.5858, train_label_loss: 0.0005, \n"
     ]
    },
    {
     "name": "stdout",
     "output_type": "stream",
     "text": [
      "epoch: 6, [batch: 5676 / 6307], examples_per_second: 3656.3226, train_label_loss: 0.0002, \n"
     ]
    },
    {
     "name": "stdout",
     "output_type": "stream",
     "text": [
      "=============================================================\n",
      "epoch: 6, source_val_acc_label: 0.9991, target_val_acc_label: 0.4208, source_val_label_loss: 0.0086, target_val_label_loss: 1.7870, \n",
      "=============================================================\n"
     ]
    },
    {
     "name": "stdout",
     "output_type": "stream",
     "text": [
      "epoch: 7, [batch: 1 / 6303], examples_per_second: 5.4836, train_label_loss: 0.0007, \n"
     ]
    },
    {
     "name": "stdout",
     "output_type": "stream",
     "text": [
      "epoch: 7, [batch: 631 / 6303], examples_per_second: 3612.7217, train_label_loss: 0.0000, \n"
     ]
    },
    {
     "name": "stdout",
     "output_type": "stream",
     "text": [
      "epoch: 7, [batch: 1261 / 6303], examples_per_second: 3649.8405, train_label_loss: 0.0000, \n"
     ]
    },
    {
     "name": "stdout",
     "output_type": "stream",
     "text": [
      "epoch: 7, [batch: 1891 / 6303], examples_per_second: 3660.2678, train_label_loss: 0.0000, \n"
     ]
    },
    {
     "name": "stdout",
     "output_type": "stream",
     "text": [
      "epoch: 7, [batch: 2521 / 6303], examples_per_second: 3641.9490, train_label_loss: 0.0000, \n"
     ]
    },
    {
     "name": "stdout",
     "output_type": "stream",
     "text": [
      "epoch: 7, [batch: 3152 / 6303], examples_per_second: 3654.3637, train_label_loss: 0.0000, \n"
     ]
    },
    {
     "name": "stdout",
     "output_type": "stream",
     "text": [
      "epoch: 7, [batch: 3782 / 6303], examples_per_second: 3648.9711, train_label_loss: 0.0000, \n"
     ]
    },
    {
     "name": "stdout",
     "output_type": "stream",
     "text": [
      "epoch: 7, [batch: 4412 / 6303], examples_per_second: 3653.7520, train_label_loss: 0.0001, \n"
     ]
    },
    {
     "name": "stdout",
     "output_type": "stream",
     "text": [
      "epoch: 7, [batch: 5042 / 6303], examples_per_second: 3658.7966, train_label_loss: 0.0002, \n"
     ]
    },
    {
     "name": "stdout",
     "output_type": "stream",
     "text": [
      "epoch: 7, [batch: 5672 / 6303], examples_per_second: 3657.4792, train_label_loss: 0.0000, \n"
     ]
    },
    {
     "name": "stdout",
     "output_type": "stream",
     "text": [
      "=============================================================\n",
      "epoch: 7, source_val_acc_label: 0.9989, target_val_acc_label: 0.4525, source_val_label_loss: 0.0084, target_val_label_loss: 1.7865, \n",
      "=============================================================\n"
     ]
    },
    {
     "name": "stdout",
     "output_type": "stream",
     "text": [
      "epoch: 8, [batch: 1 / 6292], examples_per_second: 5.4689, train_label_loss: 0.0000, \n"
     ]
    },
    {
     "name": "stdout",
     "output_type": "stream",
     "text": [
      "epoch: 8, [batch: 630 / 6292], examples_per_second: 3630.0758, train_label_loss: 0.0000, \n"
     ]
    },
    {
     "name": "stdout",
     "output_type": "stream",
     "text": [
      "epoch: 8, [batch: 1259 / 6292], examples_per_second: 3641.3005, train_label_loss: 0.0000, \n"
     ]
    },
    {
     "name": "stdout",
     "output_type": "stream",
     "text": [
      "epoch: 8, [batch: 1888 / 6292], examples_per_second: 3643.8635, train_label_loss: 0.0000, \n"
     ]
    },
    {
     "name": "stdout",
     "output_type": "stream",
     "text": [
      "epoch: 8, [batch: 2517 / 6292], examples_per_second: 3639.6428, train_label_loss: 0.0000, \n"
     ]
    },
    {
     "name": "stdout",
     "output_type": "stream",
     "text": [
      "epoch: 8, [batch: 3146 / 6292], examples_per_second: 3650.3887, train_label_loss: 0.0000, \n"
     ]
    },
    {
     "name": "stdout",
     "output_type": "stream",
     "text": [
      "epoch: 8, [batch: 3775 / 6292], examples_per_second: 3664.1329, train_label_loss: 0.0000, \n"
     ]
    },
    {
     "name": "stdout",
     "output_type": "stream",
     "text": [
      "epoch: 8, [batch: 4404 / 6292], examples_per_second: 3636.3312, train_label_loss: 0.0000, \n"
     ]
    },
    {
     "name": "stdout",
     "output_type": "stream",
     "text": [
      "epoch: 8, [batch: 5033 / 6292], examples_per_second: 3654.3052, train_label_loss: 0.0000, \n"
     ]
    },
    {
     "name": "stdout",
     "output_type": "stream",
     "text": [
      "epoch: 8, [batch: 5662 / 6292], examples_per_second: 3651.6705, train_label_loss: 0.0000, \n"
     ]
    },
    {
     "name": "stdout",
     "output_type": "stream",
     "text": [
      "=============================================================\n",
      "epoch: 8, source_val_acc_label: 0.9994, target_val_acc_label: 0.4910, source_val_label_loss: 0.0066, target_val_label_loss: 1.6092, \n",
      "=============================================================\n"
     ]
    },
    {
     "name": "stdout",
     "output_type": "stream",
     "text": [
      "epoch: 9, [batch: 1 / 6305], examples_per_second: 5.4933, train_label_loss: 0.0000, \n"
     ]
    },
    {
     "name": "stdout",
     "output_type": "stream",
     "text": [
      "epoch: 9, [batch: 631 / 6305], examples_per_second: 3592.7206, train_label_loss: 0.0000, \n"
     ]
    },
    {
     "name": "stdout",
     "output_type": "stream",
     "text": [
      "epoch: 9, [batch: 1261 / 6305], examples_per_second: 3654.8580, train_label_loss: 0.0000, \n"
     ]
    },
    {
     "name": "stdout",
     "output_type": "stream",
     "text": [
      "epoch: 9, [batch: 1892 / 6305], examples_per_second: 3661.7224, train_label_loss: 0.0000, \n"
     ]
    },
    {
     "name": "stdout",
     "output_type": "stream",
     "text": [
      "epoch: 9, [batch: 2522 / 6305], examples_per_second: 3638.1156, train_label_loss: 0.0000, \n"
     ]
    },
    {
     "name": "stdout",
     "output_type": "stream",
     "text": [
      "epoch: 9, [batch: 3153 / 6305], examples_per_second: 3649.3452, train_label_loss: 0.0000, \n"
     ]
    },
    {
     "name": "stdout",
     "output_type": "stream",
     "text": [
      "epoch: 9, [batch: 3783 / 6305], examples_per_second: 3654.6631, train_label_loss: 0.0000, \n"
     ]
    },
    {
     "name": "stdout",
     "output_type": "stream",
     "text": [
      "epoch: 9, [batch: 4413 / 6305], examples_per_second: 3633.4147, train_label_loss: 0.0000, \n"
     ]
    },
    {
     "name": "stdout",
     "output_type": "stream",
     "text": [
      "epoch: 9, [batch: 5044 / 6305], examples_per_second: 3652.9331, train_label_loss: 0.0000, \n"
     ]
    },
    {
     "name": "stdout",
     "output_type": "stream",
     "text": [
      "epoch: 9, [batch: 5674 / 6305], examples_per_second: 3653.6757, train_label_loss: 0.0000, \n"
     ]
    },
    {
     "name": "stdout",
     "output_type": "stream",
     "text": [
      "=============================================================\n",
      "epoch: 9, source_val_acc_label: 0.9988, target_val_acc_label: 0.4943, source_val_label_loss: 0.0076, target_val_label_loss: 1.5628, \n",
      "=============================================================\n"
     ]
    },
    {
     "name": "stdout",
     "output_type": "stream",
     "text": [
      "Patience (3) exhausted\n"
     ]
    }
   ],
   "source": [
    "###################################\n",
    "# train\n",
    "###################################\n",
    "jig = PTN_Train_Eval_Test_Jig(model, p.BEST_MODEL_PATH, p.device)\n",
    "\n",
    "jig.train(\n",
    "    train_iterable=datasets.source.processed.train,\n",
    "    source_val_iterable=datasets.source.processed.val,\n",
    "    target_val_iterable=datasets.target.processed.val,\n",
    "    num_epochs=p.n_epoch,\n",
    "    num_logs_per_epoch=p.NUM_LOGS_PER_EPOCH,\n",
    "    patience=p.patience,\n",
    "    optimizer=optimizer,\n",
    "    criteria_for_best=p.criteria_for_best,\n",
    ")"
   ]
  },
  {
   "cell_type": "code",
   "execution_count": 23,
   "id": "31e8fabf",
   "metadata": {
    "execution": {
     "iopub.execute_input": "2022-03-25T06:28:47.383501Z",
     "iopub.status.busy": "2022-03-25T06:28:47.383255Z",
     "iopub.status.idle": "2022-03-25T06:28:47.401122Z",
     "shell.execute_reply": "2022-03-25T06:28:47.400753Z"
    },
    "papermill": {
     "duration": 0.053715,
     "end_time": "2022-03-25T06:28:47.401213",
     "exception": false,
     "start_time": "2022-03-25T06:28:47.347498",
     "status": "completed"
    },
    "tags": []
   },
   "outputs": [],
   "source": [
    "total_experiment_time_secs = time.time() - start_time_secs"
   ]
  },
  {
   "cell_type": "code",
   "execution_count": 24,
   "id": "87b9595b",
   "metadata": {
    "execution": {
     "iopub.execute_input": "2022-03-25T06:28:47.475732Z",
     "iopub.status.busy": "2022-03-25T06:28:47.475463Z",
     "iopub.status.idle": "2022-03-25T06:30:17.889978Z",
     "shell.execute_reply": "2022-03-25T06:30:17.890405Z"
    },
    "papermill": {
     "duration": 90.453119,
     "end_time": "2022-03-25T06:30:17.890534",
     "exception": false,
     "start_time": "2022-03-25T06:28:47.437415",
     "status": "completed"
    },
    "tags": []
   },
   "outputs": [],
   "source": [
    "###################################\n",
    "# Evaluate the model\n",
    "###################################\n",
    "source_test_label_accuracy, source_test_label_loss = jig.test(datasets.source.processed.test)\n",
    "target_test_label_accuracy, target_test_label_loss = jig.test(datasets.target.processed.test)\n",
    "\n",
    "source_val_label_accuracy, source_val_label_loss = jig.test(datasets.source.processed.val)\n",
    "target_val_label_accuracy, target_val_label_loss = jig.test(datasets.target.processed.val)\n",
    "\n",
    "history = jig.get_history()\n",
    "\n",
    "total_epochs_trained = len(history[\"epoch_indices\"])\n",
    "\n",
    "val_dl = Iterable_Aggregator((datasets.source.original.val,datasets.target.original.val))\n",
    "\n",
    "confusion = ptn_confusion_by_domain_over_dataloader(model, p.device, val_dl)\n",
    "per_domain_accuracy = per_domain_accuracy_from_confusion(confusion)\n",
    "\n",
    "# Add a key to per_domain_accuracy for if it was a source domain\n",
    "for domain, accuracy in per_domain_accuracy.items():\n",
    "    per_domain_accuracy[domain] = {\n",
    "        \"accuracy\": accuracy,\n",
    "        \"source?\": domain in p.domains_source\n",
    "    }\n",
    "\n",
    "# Do an independent accuracy assesment JUST TO BE SURE!\n",
    "# _source_test_label_accuracy = independent_accuracy_assesment(model, datasets.source.processed.test, p.device)\n",
    "# _target_test_label_accuracy = independent_accuracy_assesment(model, datasets.target.processed.test, p.device)\n",
    "# _source_val_label_accuracy = independent_accuracy_assesment(model, datasets.source.processed.val, p.device)\n",
    "# _target_val_label_accuracy = independent_accuracy_assesment(model, datasets.target.processed.val, p.device)\n",
    "\n",
    "# assert(_source_test_label_accuracy == source_test_label_accuracy)\n",
    "# assert(_target_test_label_accuracy == target_test_label_accuracy)\n",
    "# assert(_source_val_label_accuracy == source_val_label_accuracy)\n",
    "# assert(_target_val_label_accuracy == target_val_label_accuracy)\n",
    "\n",
    "experiment = {\n",
    "    \"experiment_name\": p.experiment_name,\n",
    "    \"parameters\": dict(p),\n",
    "    \"results\": {\n",
    "        \"source_test_label_accuracy\": source_test_label_accuracy,\n",
    "        \"source_test_label_loss\": source_test_label_loss,\n",
    "        \"target_test_label_accuracy\": target_test_label_accuracy,\n",
    "        \"target_test_label_loss\": target_test_label_loss,\n",
    "        \"source_val_label_accuracy\": source_val_label_accuracy,\n",
    "        \"source_val_label_loss\": source_val_label_loss,\n",
    "        \"target_val_label_accuracy\": target_val_label_accuracy,\n",
    "        \"target_val_label_loss\": target_val_label_loss,\n",
    "        \"total_epochs_trained\": total_epochs_trained,\n",
    "        \"total_experiment_time_secs\": total_experiment_time_secs,\n",
    "        \"confusion\": confusion,\n",
    "        \"per_domain_accuracy\": per_domain_accuracy,\n",
    "    },\n",
    "    \"history\": history,\n",
    "    \"dataset_metrics\": get_dataset_metrics(datasets, \"ptn\"),\n",
    "}"
   ]
  },
  {
   "cell_type": "code",
   "execution_count": 25,
   "id": "54a21829",
   "metadata": {
    "execution": {
     "iopub.execute_input": "2022-03-25T06:30:17.964970Z",
     "iopub.status.busy": "2022-03-25T06:30:17.964702Z",
     "iopub.status.idle": "2022-03-25T06:30:18.103458Z",
     "shell.execute_reply": "2022-03-25T06:30:18.103835Z"
    },
    "papermill": {
     "duration": 0.174965,
     "end_time": "2022-03-25T06:30:18.103945",
     "exception": false,
     "start_time": "2022-03-25T06:30:17.928980",
     "status": "completed"
    },
    "tags": []
   },
   "outputs": [
    {
     "data": {
      "image/png": "[encoded data removed]",
      "text/plain": [
       "<Figure size 1080x504 with 1 Axes>"
      ]
     },
     "metadata": {
      "needs_background": "light"
     },
     "output_type": "display_data"
    }
   ],
   "source": [
    "ax = get_loss_curve(experiment)\n",
    "plt.show()"
   ]
  },
  {
   "cell_type": "code",
   "execution_count": 26,
   "id": "fd8a0f60",
   "metadata": {
    "execution": {
     "iopub.execute_input": "2022-03-25T06:30:18.178311Z",
     "iopub.status.busy": "2022-03-25T06:30:18.178047Z",
     "iopub.status.idle": "2022-03-25T06:30:18.319021Z",
     "shell.execute_reply": "2022-03-25T06:30:18.319302Z"
    },
    "papermill": {
     "duration": 0.177154,
     "end_time": "2022-03-25T06:30:18.319383",
     "exception": false,
     "start_time": "2022-03-25T06:30:18.142229",
     "status": "completed"
    },
    "tags": []
   },
   "outputs": [
    {
     "data": {
      "text/plain": [
       "<AxesSubplot:title={'center':'Results'}>"
      ]
     },
     "execution_count": 26,
     "metadata": {},
     "output_type": "execute_result"
    },
    {
     "data": {
      "image/png": "[encoded data removed]",
      "text/plain": [
       "<Figure size 1080x504 with 1 Axes>"
      ]
     },
     "metadata": {
      "needs_background": "light"
     },
     "output_type": "display_data"
    }
   ],
   "source": [
    "get_results_table(experiment)"
   ]
  },
  {
   "cell_type": "code",
   "execution_count": 27,
   "id": "cf8dc689",
   "metadata": {
    "execution": {
     "iopub.execute_input": "2022-03-25T06:30:18.400646Z",
     "iopub.status.busy": "2022-03-25T06:30:18.400398Z",
     "iopub.status.idle": "2022-03-25T06:30:18.530877Z",
     "shell.execute_reply": "2022-03-25T06:30:18.531231Z"
    },
    "papermill": {
     "duration": 0.166907,
     "end_time": "2022-03-25T06:30:18.531343",
     "exception": false,
     "start_time": "2022-03-25T06:30:18.364436",
     "status": "completed"
    },
    "tags": []
   },
   "outputs": [
    {
     "data": {
      "text/plain": [
       "<AxesSubplot:title={'center':'Per Domain Validation Accuracy'}, xlabel='domain'>"
      ]
     },
     "execution_count": 27,
     "metadata": {},
     "output_type": "execute_result"
    },
    {
     "data": {
      "image/png": "[encoded data removed]",
      "text/plain": [
       "<Figure size 1080x504 with 1 Axes>"
      ]
     },
     "metadata": {
      "needs_background": "light"
     },
     "output_type": "display_data"
    }
   ],
   "source": [
    "get_domain_accuracies(experiment)"
   ]
  },
  {
   "cell_type": "code",
   "execution_count": 28,
   "id": "a74ae082",
   "metadata": {
    "execution": {
     "iopub.execute_input": "2022-03-25T06:30:18.609488Z",
     "iopub.status.busy": "2022-03-25T06:30:18.609237Z",
     "iopub.status.idle": "2022-03-25T06:30:18.625834Z",
     "shell.execute_reply": "2022-03-25T06:30:18.625387Z"
    },
    "papermill": {
     "duration": 0.054322,
     "end_time": "2022-03-25T06:30:18.625924",
     "exception": false,
     "start_time": "2022-03-25T06:30:18.571602",
     "status": "completed"
    },
    "tags": []
   },
   "outputs": [
    {
     "name": "stdout",
     "output_type": "stream",
     "text": [
      "Source Test Label Accuracy: 0.9987641242937854 Target Test Label Accuracy: 0.5531901041666667\n",
      "Source Val Label Accuracy: 0.9988214285714285 Target Val Label Accuracy: 0.5509765625\n"
     ]
    }
   ],
   "source": [
    "print(\"Source Test Label Accuracy:\", experiment[\"results\"][\"source_test_label_accuracy\"], \"Target Test Label Accuracy:\", experiment[\"results\"][\"target_test_label_accuracy\"])\n",
    "print(\"Source Val Label Accuracy:\", experiment[\"results\"][\"source_val_label_accuracy\"], \"Target Val Label Accuracy:\", experiment[\"results\"][\"target_val_label_accuracy\"])"
   ]
  },
  {
   "cell_type": "code",
   "execution_count": 29,
   "id": "dacca602",
   "metadata": {
    "execution": {
     "iopub.execute_input": "2022-03-25T06:30:18.703232Z",
     "iopub.status.busy": "2022-03-25T06:30:18.702983Z",
     "iopub.status.idle": "2022-03-25T06:30:18.718180Z",
     "shell.execute_reply": "2022-03-25T06:30:18.717909Z"
    },
    "papermill": {
     "duration": 0.052593,
     "end_time": "2022-03-25T06:30:18.718231",
     "exception": false,
     "start_time": "2022-03-25T06:30:18.665638",
     "status": "completed"
    },
    "tags": [
     "experiment_json"
    ]
   },
   "outputs": [
    {
     "data": {
      "text/plain": [
       "'{\"experiment_name\": \"tl_3Av2:cores -> oracle.run1.framed\", \"parameters\": {\"experiment_name\": \"tl_3Av2:cores -> oracle.run1.framed\", \"device\": \"cuda\", \"lr\": 0.0001, \"x_shape\": [2, 200], \"n_shot\": 3, \"n_query\": 2, \"train_k_factor\": 3, \"val_k_factor\": 2, \"test_k_factor\": 2, \"torch_default_dtype\": \"torch.float32\", \"n_epoch\": 50, \"patience\": 3, \"criteria_for_best\": \"target_accuracy\", \"x_net\": [{\"class\": \"nnReshape\", \"kargs\": {\"shape\": [-1, 1, 2, 200]}}, {\"class\": \"Conv2d\", \"kargs\": {\"in_channels\": 1, \"out_channels\": 256, \"kernel_size\": [1, 7], \"bias\": false, \"padding\": [0, 3]}}, {\"class\": \"ReLU\", \"kargs\": {\"inplace\": true}}, {\"class\": \"BatchNorm2d\", \"kargs\": {\"num_features\": 256}}, {\"class\": \"Conv2d\", \"kargs\": {\"in_channels\": 256, \"out_channels\": 80, \"kernel_size\": [2, 7], \"bias\": true, \"padding\": [0, 3]}}, {\"class\": \"ReLU\", \"kargs\": {\"inplace\": true}}, {\"class\": \"BatchNorm2d\", \"kargs\": {\"num_features\": 80}}, {\"class\": \"Flatten\", \"kargs\": {}}, {\"class\": \"Linear\", \"kargs\": {\"in_features\": 16000, \"out_features\": 256}}, {\"class\": \"ReLU\", \"kargs\": {\"inplace\": true}}, {\"class\": \"BatchNorm1d\", \"kargs\": {\"num_features\": 256}}, {\"class\": \"Linear\", \"kargs\": {\"in_features\": 256, \"out_features\": 256}}], \"NUM_LOGS_PER_EPOCH\": 10, \"BEST_MODEL_PATH\": \"./best_model.pth\", \"n_way\": 16, \"datasets\": [{\"labels\": [\"1-10.\", \"1-11.\", \"1-15.\", \"1-16.\", \"1-17.\", \"1-18.\", \"1-19.\", \"10-4.\", \"10-7.\", \"11-1.\", \"11-14.\", \"11-17.\", \"11-20.\", \"11-7.\", \"13-20.\", \"13-8.\", \"14-10.\", \"14-11.\", \"14-14.\", \"14-7.\", \"15-1.\", \"15-20.\", \"16-1.\", \"16-16.\", \"17-10.\", \"17-11.\", \"17-2.\", \"19-1.\", \"19-16.\", \"19-19.\", \"19-20.\", \"19-3.\", \"2-10.\", \"2-11.\", \"2-17.\", \"2-18.\", \"2-20.\", \"2-3.\", \"2-4.\", \"2-5.\", \"2-6.\", \"2-7.\", \"2-8.\", \"3-13.\", \"3-18.\", \"3-3.\", \"4-1.\", \"4-10.\", \"4-11.\", \"4-19.\", \"5-5.\", \"6-15.\", \"7-10.\", \"7-14.\", \"8-18.\", \"8-20.\", \"8-3.\", \"8-8.\"], \"domains\": [1, 2, 3, 4, 5], \"num_examples_per_domain_per_label\": -1, \"pickle_path\": \"/mnt/wd500GB/CSC500/csc500-main/datasets/cores.stratified_ds.2022A.pkl\", \"source_or_target_dataset\": \"source\", \"x_transforms\": [\"take_200\"], \"episode_transforms\": [], \"domain_prefix\": \"C_\"}, {\"labels\": [\"3123D52\", \"3123D65\", \"3123D79\", \"3123D80\", \"3123D54\", \"3123D70\", \"3123D7B\", \"3123D89\", \"3123D58\", \"3123D76\", \"3123D7D\", \"3123EFE\", \"3123D64\", \"3123D78\", \"3123D7E\", \"3124E4A\"], \"domains\": [32, 38, 8, 44, 14, 50, 20, 26], \"num_examples_per_domain_per_label\": 2000, \"pickle_path\": \"/mnt/wd500GB/CSC500/csc500-main/datasets/oracle.Run1_framed_2000Examples_stratified_ds.2022A.pkl\", \"source_or_target_dataset\": \"target\", \"x_transforms\": [\"take_200\", \"resample_20Msps_to_25Msps\"], \"episode_transforms\": [], \"domain_prefix\": \"O_\"}], \"seed\": 7, \"dataset_seed\": 7, \"domains_source\": [\"C_1\", \"C_2\", \"C_3\", \"C_4\", \"C_5\"], \"domains_target\": [\"O_32\", \"O_38\", \"O_8\", \"O_44\", \"O_14\", \"O_50\", \"O_20\", \"O_26\"]}, \"results\": {\"source_test_label_accuracy\": 0.9987641242937854, \"source_test_label_loss\": 0.012052260339260101, \"target_test_label_accuracy\": 0.5531901041666667, \"target_test_label_loss\": 1.5002883672714233, \"source_val_label_accuracy\": 0.9988214285714285, \"source_val_label_loss\": 0.008336682803928852, \"target_val_label_accuracy\": 0.5509765625, \"target_val_label_loss\": 1.496106743812561, \"total_epochs_trained\": 9, \"total_experiment_time_secs\": 1406.0766656398773, \"confusion\": {\"C_5\": {\"26\": {\"26\": 24}, \"7\": {\"7\": 32}, \"56\": {\"56\": 142}, \"36\": {\"36\": 92}, \"47\": {\"47\": 100}, \"2\": {\"2\": 28}, \"15\": {\"15\": 152}, \"14\": {\"14\": 40, \"43\": 2, \"47\": 2}, \"27\": {\"27\": 146}, \"40\": {\"40\": 124}, \"49\": {\"49\": 36}, \"45\": {\"45\": 124}, \"46\": {\"46\": 136}, \"11\": {\"11\": 130}, \"30\": {\"30\": 112}, \"0\": {\"0\": 124}, \"10\": {\"10\": 68}, \"1\": {\"1\": 148}, \"42\": {\"42\": 38, \"15\": 1, \"16\": 1}, \"54\": {\"54\": 112}, \"55\": {\"55\": 152}, \"23\": {\"23\": 124}, \"25\": {\"25\": 152}, \"28\": {\"28\": 32}, \"32\": {\"32\": 32}, \"9\": {\"9\": 142}, \"39\": {\"39\": 20}, \"3\": {\"3\": 100}, \"29\": {\"29\": 118}, \"17\": {\"17\": 116}, \"35\": {\"35\": 36}, \"44\": {\"44\": 152}, \"5\": {\"5\": 128}, \"33\": {\"33\": 32}, \"34\": {\"34\": 36}, \"13\": {\"13\": 138}, \"41\": {\"41\": 28}, \"6\": {\"6\": 128}, \"51\": {\"51\": 138}, \"50\": {\"50\": 144}, \"37\": {\"37\": 24}, \"19\": {\"19\": 144}, \"57\": {\"57\": 132}, \"21\": {\"21\": 144}, \"24\": {\"24\": 80}, \"8\": {\"8\": 130}, \"12\": {\"12\": 96}, \"48\": {\"48\": 132}, \"43\": {\"43\": 150}, \"53\": {\"53\": 148}, \"38\": {\"38\": 31, \"7\": 1}, \"16\": {\"16\": 141, \"15\": 1}, \"22\": {\"22\": 28}, \"4\": {\"4\": 100}, \"18\": {\"18\": 64}, \"20\": {\"20\": 144}, \"52\": {\"52\": 140}, \"31\": {\"31\": 36}}, \"C_1\": {\"41\": {\"41\": 24}, \"40\": {\"40\": 110}, \"45\": {\"45\": 138}, \"51\": {\"51\": 148}, \"5\": {\"5\": 154}, \"30\": {\"30\": 120}, \"42\": {\"42\": 40}, \"46\": {\"46\": 136}, \"48\": {\"48\": 134}, \"53\": {\"53\": 144}, \"47\": {\"47\": 152}, \"49\": {\"49\": 32}, \"36\": {\"36\": 64}, \"32\": {\"32\": 32}, \"34\": {\"34\": 24}, \"29\": {\"29\": 140}, \"35\": {\"35\": 36}, \"3\": {\"3\": 134}, \"16\": {\"16\": 140}, \"26\": {\"26\": 24}, \"57\": {\"57\": 144}, \"44\": {\"44\": 128}, \"0\": {\"0\": 152}, \"4\": {\"4\": 132}, \"31\": {\"31\": 28}, \"11\": {\"11\": 140}, \"6\": {\"6\": 96}, \"54\": {\"54\": 104}, \"17\": {\"17\": 64}, \"20\": {\"20\": 128}, \"13\": {\"13\": 150}, \"33\": {\"33\": 32}, \"24\": {\"24\": 108}, \"52\": {\"52\": 132}, \"2\": {\"2\": 36}, \"19\": {\"19\": 156}, \"39\": {\"39\": 27, \"43\": 1}, \"8\": {\"8\": 140}, \"21\": {\"21\": 124}, \"10\": {\"10\": 96}, \"37\": {\"37\": 32}, \"25\": {\"25\": 144}, \"27\": {\"27\": 130}, \"23\": {\"23\": 136}, \"1\": {\"1\": 100}, \"50\": {\"50\": 152}, \"12\": {\"12\": 116}, \"18\": {\"18\": 72}, \"38\": {\"38\": 20, \"36\": 2, \"47\": 1, \"49\": 1}, \"14\": {\"14\": 24}, \"56\": {\"56\": 142}, \"55\": {\"55\": 160}, \"9\": {\"9\": 138}, \"15\": {\"15\": 146}, \"28\": {\"28\": 28}, \"7\": {\"7\": 28}, \"43\": {\"43\": 136}, \"22\": {\"22\": 134, \"21\": 1, \"0\": 1}}, \"C_3\": {\"1\": {\"1\": 100}, \"9\": {\"9\": 124}, \"22\": {\"22\": 136}, \"43\": {\"43\": 136}, \"49\": {\"49\": 20}, \"50\": {\"50\": 138}, \"53\": {\"53\": 136}, \"10\": {\"10\": 64}, \"48\": {\"48\": 116}, \"8\": {\"8\": 138}, \"31\": {\"31\": 28}, \"56\": {\"56\": 134}, \"25\": {\"25\": 142}, \"28\": {\"28\": 28}, \"38\": {\"38\": 28}, \"5\": {\"5\": 116}, \"12\": {\"12\": 92}, \"6\": {\"6\": 88}, \"19\": {\"19\": 152}, \"26\": {\"26\": 24}, \"32\": {\"32\": 28}, \"33\": {\"33\": 28}, \"3\": {\"3\": 118}, \"51\": {\"51\": 128}, \"16\": {\"16\": 138}, \"46\": {\"46\": 139, \"21\": 1}, \"7\": {\"7\": 36}, \"47\": {\"47\": 92}, \"39\": {\"39\": 16}, \"40\": {\"40\": 136}, \"14\": {\"14\": 40}, \"37\": {\"37\": 28}, \"2\": {\"2\": 32}, \"21\": {\"21\": 120}, \"35\": {\"35\": 28}, \"54\": {\"54\": 100}, \"52\": {\"52\": 116}, \"29\": {\"29\": 118}, \"20\": {\"20\": 132}, \"18\": {\"18\": 84}, \"11\": {\"11\": 142}, \"0\": {\"0\": 124}, \"36\": {\"36\": 100}, \"17\": {\"17\": 108}, \"30\": {\"30\": 114}, \"42\": {\"42\": 28}, \"45\": {\"45\": 60}, \"4\": {\"4\": 148}, \"23\": {\"23\": 134}, \"13\": {\"13\": 128}, \"15\": {\"15\": 128}, \"57\": {\"57\": 124}, \"27\": {\"27\": 134}, \"44\": {\"44\": 88}, \"34\": {\"34\": 32}, \"41\": {\"41\": 27, \"48\": 1}, \"24\": {\"24\": 104}, \"55\": {\"55\": 118}}, \"C_4\": {\"52\": {\"52\": 116}, \"6\": {\"6\": 110, \"5\": 2}, \"14\": {\"14\": 14, \"0\": 1, \"43\": 1}, \"49\": {\"49\": 20}, \"0\": {\"0\": 80}, \"46\": {\"46\": 154, \"22\": 2}, \"41\": {\"41\": 36}, \"24\": {\"24\": 56}, \"25\": {\"25\": 152}, \"40\": {\"40\": 138}, \"38\": {\"38\": 40}, \"13\": {\"13\": 152}, \"9\": {\"9\": 108}, \"45\": {\"45\": 96}, \"43\": {\"43\": 144}, \"10\": {\"10\": 130}, \"15\": {\"15\": 127, \"11\": 1}, \"39\": {\"39\": 20}, \"4\": {\"4\": 132}, \"53\": {\"53\": 132}, \"1\": {\"1\": 40}, \"28\": {\"28\": 32}, \"54\": {\"54\": 108}, \"21\": {\"21\": 132}, \"7\": {\"7\": 24}, \"8\": {\"8\": 136}, \"42\": {\"42\": 32}, \"11\": {\"11\": 103, \"10\": 1}, \"33\": {\"33\": 36}, \"27\": {\"27\": 142}, \"19\": {\"19\": 144}, \"2\": {\"2\": 36}, \"3\": {\"3\": 119, \"50\": 1}, \"57\": {\"57\": 100}, \"20\": {\"20\": 112}, \"23\": {\"23\": 128}, \"22\": {\"22\": 128}, \"29\": {\"29\": 123, \"1\": 1}, \"36\": {\"36\": 92}, \"51\": {\"51\": 132}, \"31\": {\"31\": 28}, \"12\": {\"12\": 92}, \"56\": {\"56\": 138}, \"5\": {\"5\": 108}, \"35\": {\"35\": 40}, \"17\": {\"17\": 80}, \"32\": {\"32\": 24}, \"47\": {\"47\": 120}, \"18\": {\"18\": 108}, \"26\": {\"26\": 24}, \"50\": {\"50\": 122}, \"55\": {\"55\": 124}, \"34\": {\"34\": 24}, \"30\": {\"30\": 44}, \"37\": {\"37\": 24}, \"44\": {\"44\": 132}, \"48\": {\"48\": 118}, \"16\": {\"16\": 95, \"11\": 1}}, \"C_2\": {\"11\": {\"11\": 130}, \"21\": {\"21\": 120}, \"19\": {\"19\": 140}, \"20\": {\"20\": 128}, \"9\": {\"9\": 140}, \"10\": {\"10\": 112}, \"37\": {\"37\": 36}, \"32\": {\"32\": 28}, \"3\": {\"3\": 92}, \"39\": {\"39\": 28}, \"45\": {\"45\": 128}, \"50\": {\"50\": 135, \"6\": 1}, \"40\": {\"40\": 140}, \"46\": {\"46\": 128}, \"12\": {\"12\": 92}, \"13\": {\"13\": 116}, \"47\": {\"47\": 132}, \"15\": {\"15\": 142}, \"54\": {\"54\": 108}, \"48\": {\"48\": 148}, \"23\": {\"23\": 142}, \"29\": {\"29\": 127, \"23\": 1}, \"38\": {\"38\": 20}, \"53\": {\"53\": 136}, \"27\": {\"27\": 150}, \"43\": {\"43\": 144}, \"35\": {\"35\": 32}, \"0\": {\"0\": 48}, \"52\": {\"52\": 124}, \"8\": {\"8\": 128}, \"24\": {\"24\": 96}, \"18\": {\"18\": 46, \"15\": 2}, \"25\": {\"25\": 148}, \"57\": {\"57\": 136}, \"55\": {\"55\": 134}, \"36\": {\"36\": 116}, \"17\": {\"17\": 104}, \"2\": {\"2\": 32}, \"34\": {\"34\": 28}, \"1\": {\"1\": 112}, \"51\": {\"51\": 136}, \"31\": {\"31\": 28}, \"49\": {\"49\": 24}, \"14\": {\"14\": 24}, \"33\": {\"33\": 28}, \"41\": {\"41\": 20}, \"28\": {\"28\": 27, \"42\": 1}, \"5\": {\"5\": 120}, \"16\": {\"16\": 150}, \"4\": {\"4\": 128}, \"22\": {\"22\": 136}, \"6\": {\"6\": 118}, \"30\": {\"30\": 124}, \"26\": {\"26\": 24}, \"56\": {\"56\": 142}, \"42\": {\"42\": 36}, \"44\": {\"44\": 100}, \"7\": {\"7\": 36}}, \"O_26\": {\"0\": {\"10\": 46, \"8\": 19, \"0\": 78, \"15\": 11, \"14\": 43, \"2\": 20, \"7\": 5, \"12\": 2, \"6\": 4, \"1\": 6, \"9\": 5, \"5\": 1}, \"4\": {\"4\": 204, \"13\": 11, \"3\": 22, \"7\": 2, \"9\": 1}, \"14\": {\"14\": 79, \"10\": 50, \"0\": 40, \"1\": 33, \"15\": 19, \"5\": 4, \"6\": 15}, \"12\": {\"9\": 8, \"8\": 27, \"12\": 183, \"10\": 2, \"0\": 8, \"7\": 3, \"13\": 8, \"3\": 1}, \"8\": {\"9\": 54, \"8\": 70, \"2\": 34, \"0\": 12, \"7\": 38, \"3\": 14, \"14\": 3, \"10\": 2, \"12\": 4, \"13\": 9}, \"7\": {\"2\": 46, \"8\": 54, \"7\": 65, \"9\": 25, \"3\": 35, \"0\": 7, \"13\": 6, \"12\": 1, \"10\": 1}, \"13\": {\"13\": 147, \"9\": 34, \"2\": 11, \"7\": 11, \"3\": 18, \"4\": 9, \"12\": 3, \"8\": 7}, \"5\": {\"10\": 8, \"14\": 5, \"6\": 59, \"5\": 78, \"15\": 65, \"1\": 21, \"0\": 4}, \"15\": {\"6\": 47, \"10\": 15, \"15\": 65, \"5\": 64, \"0\": 8, \"1\": 19, \"14\": 17, \"2\": 3, \"8\": 1, \"11\": 1}, \"10\": {\"10\": 66, \"14\": 64, \"6\": 30, \"0\": 30, \"15\": 23, \"1\": 20, \"2\": 2, \"5\": 5}, \"3\": {\"3\": 97, \"7\": 45, \"9\": 28, \"8\": 20, \"13\": 31, \"2\": 12, \"4\": 7}, \"9\": {\"7\": 42, \"9\": 56, \"8\": 32, \"13\": 44, \"2\": 28, \"3\": 21, \"0\": 11, \"12\": 3, \"10\": 2, \"15\": 1}, \"6\": {\"10\": 16, \"14\": 13, \"15\": 42, \"5\": 53, \"6\": 72, \"1\": 38, \"11\": 3, \"0\": 3}, \"1\": {\"6\": 33, \"1\": 143, \"14\": 22, \"10\": 21, \"5\": 11, \"0\": 9, \"15\": 1}, \"11\": {\"11\": 221, \"15\": 1, \"1\": 3, \"5\": 7, \"6\": 7, \"10\": 1}, \"2\": {\"8\": 30, \"9\": 39, \"2\": 49, \"0\": 24, \"7\": 44, \"3\": 22, \"10\": 3, \"13\": 20, \"12\": 2, \"14\": 3, \"15\": 2, \"6\": 1, \"1\": 1}}, \"O_44\": {\"1\": {\"1\": 198, \"0\": 8, \"2\": 33, \"5\": 1}, \"11\": {\"11\": 240}, \"3\": {\"3\": 146, \"12\": 93, \"1\": 1}, \"6\": {\"13\": 72, \"6\": 140, \"9\": 24, \"4\": 2, \"7\": 2}, \"7\": {\"9\": 49, \"4\": 21, \"7\": 114, \"14\": 11, \"10\": 38, \"5\": 2, \"6\": 5}, \"5\": {\"9\": 9, \"5\": 93, \"4\": 33, \"14\": 66, \"8\": 9, \"15\": 26, \"7\": 3, \"10\": 1}, \"2\": {\"10\": 24, \"2\": 154, \"1\": 57, \"7\": 2, \"9\": 3}, \"15\": {\"8\": 39, \"15\": 105, \"0\": 11, \"14\": 30, \"5\": 44, \"4\": 9, \"1\": 1, \"10\": 1}, \"10\": {\"10\": 96, \"4\": 9, \"7\": 59, \"1\": 6, \"2\": 17, \"9\": 35, \"14\": 16, \"5\": 1, \"15\": 1}, \"13\": {\"13\": 152, \"6\": 67, \"9\": 15, \"7\": 2, \"11\": 4}, \"8\": {\"15\": 58, \"8\": 107, \"0\": 65, \"5\": 6, \"14\": 3, \"4\": 1}, \"4\": {\"7\": 20, \"10\": 10, \"14\": 45, \"4\": 55, \"9\": 45, \"15\": 19, \"5\": 34, \"13\": 3, \"2\": 4, \"1\": 1, \"6\": 3, \"8\": 1}, \"9\": {\"7\": 55, \"13\": 39, \"9\": 44, \"14\": 5, \"10\": 28, \"6\": 38, \"4\": 22, \"2\": 6, \"5\": 3}, \"14\": {\"4\": 53, \"8\": 1, \"15\": 30, \"14\": 86, \"5\": 42, \"10\": 4, \"7\": 13, \"9\": 11}, \"0\": {\"8\": 57, \"0\": 158, \"15\": 20, \"1\": 3, \"14\": 1, \"4\": 1}, \"12\": {\"12\": 155, \"3\": 85}}, \"O_50\": {\"15\": {\"6\": 58, \"15\": 106, \"5\": 18, \"11\": 12, \"9\": 40, \"12\": 1, \"4\": 4, \"3\": 1}, \"4\": {\"7\": 88, \"4\": 100, \"5\": 40, \"6\": 5, \"15\": 6, \"3\": 1}, \"6\": {\"6\": 80, \"15\": 80, \"4\": 4, \"13\": 2, \"5\": 35, \"9\": 23, \"11\": 5, \"12\": 6, \"3\": 5}, \"2\": {\"2\": 144, \"0\": 71, \"14\": 25}, \"5\": {\"4\": 45, \"7\": 29, \"5\": 66, \"11\": 9, \"6\": 42, \"3\": 11, \"15\": 19, \"13\": 10, \"9\": 8, \"12\": 1}, \"9\": {\"6\": 28, \"9\": 102, \"15\": 46, \"12\": 35, \"11\": 26, \"5\": 2, \"13\": 1}, \"8\": {\"13\": 17, \"8\": 202, \"10\": 17, \"1\": 4}, \"12\": {\"9\": 41, \"12\": 176, \"11\": 17, \"6\": 3, \"15\": 2, \"1\": 1}, \"10\": {\"0\": 36, \"8\": 15, \"10\": 174, \"2\": 1, \"1\": 14}, \"1\": {\"13\": 43, \"1\": 159, \"8\": 10, \"10\": 20, \"12\": 2, \"11\": 5, \"0\": 1}, \"0\": {\"2\": 59, \"0\": 135, \"10\": 46}, \"3\": {\"5\": 17, \"3\": 209, \"6\": 5, \"7\": 4, \"4\": 4, \"12\": 1}, \"13\": {\"13\": 170, \"1\": 21, \"6\": 3, \"11\": 29, \"15\": 4, \"8\": 7, \"12\": 4, \"9\": 2}, \"11\": {\"12\": 42, \"11\": 124, \"13\": 8, \"9\": 35, \"6\": 4, \"15\": 22, \"1\": 5}, \"7\": {\"7\": 145, \"4\": 68, \"5\": 25, \"3\": 2}, \"14\": {\"14\": 181, \"2\": 48, \"0\": 11}}, \"O_38\": {\"15\": {\"15\": 179, \"9\": 3, \"5\": 28, \"1\": 11, \"8\": 17, \"6\": 2}, \"11\": {\"11\": 239, \"3\": 1}, \"10\": {\"10\": 153, \"13\": 21, \"0\": 48, \"3\": 10, \"14\": 1, \"4\": 7}, \"14\": {\"2\": 26, \"14\": 167, \"4\": 7, \"7\": 18, \"0\": 12, \"13\": 9, \"10\": 1}, \"6\": {\"6\": 153, \"1\": 87}, \"4\": {\"4\": 231, \"14\": 1, \"10\": 5, \"0\": 3}, \"13\": {\"0\": 49, \"13\": 142, \"14\": 11, \"2\": 21, \"10\": 17}, \"3\": {\"3\": 236, \"10\": 3, \"0\": 1}, \"7\": {\"2\": 22, \"7\": 176, \"8\": 9, \"9\": 10, \"0\": 3, \"14\": 16, \"5\": 3, \"12\": 1}, \"8\": {\"8\": 66, \"5\": 58, \"9\": 24, \"7\": 42, \"2\": 15, \"15\": 23, \"12\": 7, \"14\": 5}, \"1\": {\"1\": 155, \"6\": 82, \"15\": 3}, \"5\": {\"5\": 73, \"15\": 30, \"9\": 28, \"8\": 76, \"7\": 21, \"12\": 8, \"2\": 3, \"14\": 1}, \"0\": {\"10\": 57, \"14\": 14, \"0\": 79, \"2\": 11, \"13\": 50, \"7\": 16, \"3\": 9, \"4\": 3, \"8\": 1}, \"2\": {\"2\": 152, \"14\": 50, \"7\": 10, \"8\": 7, \"5\": 1, \"0\": 6, \"9\": 3, \"13\": 11}, \"12\": {\"12\": 224, \"5\": 2, \"7\": 3, \"8\": 11}, \"9\": {\"8\": 37, \"7\": 7, \"5\": 45, \"9\": 146, \"15\": 3, \"2\": 2}}, \"O_20\": {\"10\": {\"10\": 129, \"4\": 72, \"13\": 19, \"6\": 3, \"12\": 11, \"2\": 3, \"1\": 1, \"7\": 2}, \"7\": {\"6\": 27, \"14\": 12, \"7\": 55, \"9\": 26, \"8\": 14, \"13\": 16, \"2\": 41, \"3\": 11, \"12\": 14, \"5\": 9, \"15\": 6, \"4\": 6, \"1\": 3}, \"4\": {\"5\": 2, \"4\": 91, \"12\": 38, \"8\": 4, \"14\": 13, \"7\": 9, \"2\": 25, \"9\": 2, \"15\": 9, \"13\": 7, \"3\": 4, \"10\": 25, \"1\": 5, \"6\": 6}, \"13\": {\"13\": 116, \"9\": 6, \"7\": 24, \"2\": 43, \"1\": 3, \"12\": 18, \"15\": 18, \"4\": 6, \"6\": 4, \"5\": 1, \"10\": 1}, \"1\": {\"5\": 38, \"1\": 54, \"15\": 35, \"9\": 29, \"7\": 7, \"12\": 20, \"3\": 38, \"2\": 10, \"8\": 7, \"4\": 1, \"0\": 1}, \"0\": {\"0\": 187, \"3\": 19, \"1\": 6, \"5\": 9, \"8\": 9, \"11\": 8, \"14\": 1, \"9\": 1}, \"12\": {\"12\": 53, \"2\": 35, \"15\": 34, \"3\": 3, \"6\": 2, \"4\": 23, \"9\": 23, \"10\": 2, \"1\": 15, \"5\": 4, \"13\": 31, \"7\": 11, \"8\": 2, \"14\": 2}, \"5\": {\"5\": 44, \"9\": 29, \"1\": 44, \"3\": 38, \"8\": 25, \"15\": 19, \"14\": 4, \"2\": 7, \"4\": 5, \"7\": 10, \"12\": 13, \"0\": 2}, \"6\": {\"6\": 100, \"14\": 44, \"7\": 41, \"8\": 8, \"2\": 15, \"4\": 11, \"9\": 4, \"13\": 12, \"10\": 1, \"5\": 3, \"12\": 1}, \"2\": {\"15\": 27, \"13\": 55, \"3\": 5, \"2\": 41, \"7\": 32, \"4\": 12, \"12\": 18, \"5\": 6, \"1\": 12, \"14\": 3, \"9\": 21, \"6\": 6, \"8\": 2}, \"8\": {\"8\": 87, \"7\": 14, \"9\": 13, \"1\": 4, \"14\": 62, \"0\": 11, \"6\": 8, \"3\": 27, \"5\": 13, \"12\": 1}, \"11\": {\"11\": 222, \"0\": 17, \"8\": 1}, \"9\": {\"2\": 23, \"5\": 30, \"9\": 36, \"6\": 4, \"7\": 17, \"8\": 20, \"14\": 6, \"15\": 20, \"12\": 10, \"13\": 4, \"3\": 48, \"1\": 18, \"4\": 4}, \"14\": {\"14\": 90, \"8\": 82, \"5\": 6, \"6\": 23, \"7\": 13, \"3\": 12, \"9\": 8, \"4\": 2, \"0\": 2, \"12\": 1, \"1\": 1}, \"15\": {\"1\": 30, \"9\": 28, \"2\": 24, \"12\": 35, \"5\": 23, \"15\": 45, \"13\": 29, \"4\": 6, \"3\": 11, \"7\": 8, \"8\": 1}, \"3\": {\"3\": 56, \"1\": 19, \"5\": 35, \"8\": 38, \"0\": 10, \"9\": 34, \"15\": 9, \"7\": 12, \"14\": 15, \"2\": 5, \"12\": 4, \"6\": 1, \"13\": 2}}, \"O_14\": {\"14\": {\"13\": 32, \"3\": 15, \"2\": 53, \"14\": 88, \"6\": 27, \"0\": 18, \"5\": 7}, \"0\": {\"0\": 82, \"4\": 18, \"14\": 30, \"8\": 6, \"6\": 16, \"13\": 13, \"3\": 44, \"12\": 12, \"5\": 9, \"2\": 9, \"10\": 1}, \"4\": {\"4\": 148, \"2\": 34, \"13\": 2, \"5\": 30, \"1\": 7, \"10\": 9, \"8\": 3, \"0\": 1, \"9\": 3, \"14\": 3}, \"11\": {\"11\": 237, \"9\": 2, \"1\": 1}, \"13\": {\"6\": 74, \"14\": 34, \"4\": 7, \"2\": 17, \"13\": 68, \"3\": 16, \"15\": 15, \"0\": 5, \"5\": 3, \"10\": 1}, \"9\": {\"10\": 43, \"9\": 191, \"1\": 4, \"12\": 1, \"4\": 1}, \"3\": {\"6\": 30, \"3\": 105, \"0\": 37, \"13\": 24, \"14\": 14, \"7\": 7, \"5\": 8, \"2\": 10, \"8\": 5}, \"6\": {\"6\": 107, \"2\": 7, \"13\": 76, \"3\": 26, \"14\": 19, \"0\": 5}, \"1\": {\"1\": 233, \"4\": 4, \"9\": 2, \"10\": 1}, \"5\": {\"14\": 15, \"4\": 28, \"5\": 100, \"3\": 5, \"2\": 58, \"7\": 14, \"8\": 14, \"6\": 1, \"0\": 5}, \"12\": {\"12\": 219, \"0\": 16, \"8\": 3, \"10\": 2}, \"10\": {\"10\": 179, \"14\": 1, \"9\": 39, \"0\": 3, \"12\": 2, \"4\": 14, \"2\": 1, \"1\": 1}, \"8\": {\"8\": 194, \"5\": 21, \"2\": 3, \"3\": 7, \"4\": 3, \"7\": 5, \"12\": 1, \"0\": 6}, \"7\": {\"14\": 2, \"7\": 183, \"2\": 10, \"3\": 7, \"8\": 8, \"5\": 29, \"4\": 1}, \"15\": {\"15\": 240}, \"2\": {\"6\": 26, \"2\": 65, \"14\": 39, \"4\": 24, \"3\": 15, \"0\": 7, \"5\": 49, \"13\": 8, \"7\": 6, \"10\": 1}}, \"O_32\": {\"11\": {\"11\": 208, \"13\": 24, \"3\": 5, \"9\": 2, \"12\": 1}, \"1\": {\"1\": 240}, \"2\": {\"2\": 116, \"14\": 27, \"4\": 75, \"7\": 1, \"3\": 2, \"8\": 8, \"13\": 6, \"9\": 4, \"0\": 1}, \"0\": {\"7\": 43, \"5\": 47, \"8\": 36, \"14\": 41, \"15\": 3, \"0\": 68, \"2\": 2}, \"3\": {\"3\": 137, \"13\": 77, \"4\": 26}, \"8\": {\"8\": 97, \"4\": 4, \"7\": 14, \"0\": 41, \"14\": 36, \"5\": 34, \"2\": 7, \"15\": 7}, \"12\": {\"12\": 208, \"9\": 30, \"10\": 2}, \"5\": {\"5\": 72, \"7\": 51, \"0\": 54, \"8\": 35, \"14\": 15, \"15\": 11, \"2\": 2}, \"15\": {\"15\": 229, \"8\": 5, \"5\": 4, \"0\": 2}, \"7\": {\"7\": 78, \"5\": 64, \"14\": 42, \"8\": 17, \"0\": 37, \"2\": 2}, \"4\": {\"14\": 4, \"4\": 108, \"13\": 22, \"3\": 23, \"2\": 77, \"9\": 4, \"8\": 2}, \"14\": {\"7\": 41, \"14\": 74, \"5\": 12, \"8\": 18, \"0\": 48, \"2\": 42, \"4\": 5}, \"10\": {\"10\": 236, \"6\": 3, \"12\": 1}, \"6\": {\"6\": 234, \"10\": 6}, \"13\": {\"13\": 115, \"3\": 61, \"4\": 30, \"2\": 11, \"11\": 17, \"9\": 6}, \"9\": {\"12\": 28, \"9\": 142, \"13\": 13, \"2\": 22, \"4\": 29, \"11\": 6}}, \"O_8\": {\"9\": {\"9\": 240}, \"11\": {\"4\": 30, \"11\": 80, \"8\": 19, \"1\": 73, \"5\": 9, \"14\": 13, \"13\": 2, \"6\": 8, \"10\": 6}, \"8\": {\"8\": 132, \"14\": 14, \"6\": 12, \"11\": 31, \"4\": 40, \"1\": 7, \"5\": 1, \"10\": 1, \"7\": 2}, \"4\": {\"14\": 44, \"4\": 111, \"6\": 15, \"10\": 2, \"11\": 34, \"8\": 26, \"1\": 7, \"7\": 1}, \"13\": {\"10\": 44, \"7\": 38, \"1\": 5, \"13\": 112, \"11\": 1, \"5\": 19, \"6\": 20, \"4\": 1}, \"14\": {\"14\": 158, \"4\": 50, \"8\": 15, \"11\": 13, \"1\": 2, \"0\": 1, \"10\": 1}, \"2\": {\"3\": 44, \"2\": 139, \"15\": 29, \"12\": 27, \"7\": 1}, \"3\": {\"3\": 227, \"2\": 13}, \"1\": {\"1\": 86, \"4\": 18, \"10\": 27, \"11\": 51, \"13\": 7, \"6\": 14, \"8\": 3, \"5\": 32, \"7\": 1, \"14\": 1}, \"0\": {\"0\": 238, \"14\": 2}, \"5\": {\"13\": 20, \"5\": 104, \"1\": 40, \"10\": 47, \"11\": 10, \"15\": 1, \"6\": 7, \"14\": 5, \"4\": 4, \"7\": 2}, \"15\": {\"2\": 23, \"12\": 78, \"15\": 136, \"3\": 3}, \"10\": {\"5\": 37, \"7\": 17, \"1\": 25, \"11\": 7, \"6\": 23, \"10\": 77, \"13\": 47, \"4\": 7}, \"12\": {\"12\": 145, \"15\": 82, \"2\": 13}, \"6\": {\"6\": 79, \"11\": 5, \"10\": 27, \"4\": 36, \"7\": 54, \"13\": 17, \"1\": 14, \"8\": 8}, \"7\": {\"10\": 32, \"7\": 95, \"13\": 30, \"6\": 70, \"4\": 4, \"1\": 7, \"11\": 1, \"8\": 1}}}, \"per_domain_accuracy\": {\"C_5\": {\"accuracy\": 0.9986033519553073, \"source?\": true}, \"C_1\": {\"accuracy\": 0.9988111413043478, \"source?\": true}, \"C_3\": {\"accuracy\": 0.9996323529411765, \"source?\": true}, \"C_4\": {\"accuracy\": 0.9979292168674698, \"source?\": true}, \"C_2\": {\"accuracy\": 0.9991122159090909, \"source?\": true}, \"O_26\": {\"accuracy\": 0.4356770833333333, \"source?\": false}, \"O_44\": {\"accuracy\": 0.53203125, \"source?\": false}, \"O_50\": {\"accuracy\": 0.5919270833333333, \"source?\": false}, \"O_38\": {\"accuracy\": 0.66953125, \"source?\": false}, \"O_20\": {\"accuracy\": 0.36614583333333334, \"source?\": false}, \"O_14\": {\"accuracy\": 0.63515625, \"source?\": false}, \"O_32\": {\"accuracy\": 0.6151041666666667, \"source?\": false}, \"O_8\": {\"accuracy\": 0.5622395833333333, \"source?\": false}}}, \"history\": {\"epoch_indices\": [1, 2, 3, 4, 5, 6, 7, 8, 9], \"train_label_loss\": [0.03242768983959357, 0.01033054366359041, 0.007520249495697101, 0.005359431210771098, 0.005240324898035704, 0.005798183363786203, 0.004934399730386284, 0.004715139568857029, 0.003351240833038613], \"source_val_label_loss\": [0.01090927328914404, 0.020746830850839615, 0.007260405924171209, 0.009707866236567497, 0.008336682803928852, 0.008615227416157722, 0.008421557024121284, 0.0066058519296348095, 0.007612569257616997], \"target_val_label_loss\": [1.985153317451477, 1.6835663318634033, 1.8329706192016602, 1.8144649267196655, 1.496106743812561, 1.7870023250579834, 1.786473035812378, 1.6091903448104858, 1.562814712524414], \"source_val_acc_label\": [0.9975714285714286, 0.9970714285714286, 0.9987857142857143, 0.9990357142857142, 0.9988214285714285, 0.9991071428571429, 0.9988571428571429, 0.9993571428571428, 0.9988214285714285], \"target_val_acc_label\": [0.44085286458333334, 0.46979166666666666, 0.5005208333333333, 0.39186197916666665, 0.5509765625, 0.42083333333333334, 0.4525390625, 0.49095052083333335, 0.4943359375]}, \"dataset_metrics\": {\"source\": {\"train\": {\"n_unique_x\": 175192, \"n_unique_y\": 58, \"n_batch/episode\": 6298}, \"val\": {\"n_unique_x\": 37151, \"n_unique_y\": 58, \"n_batch/episode\": 875}, \"test\": {\"n_unique_x\": 37548, \"n_unique_y\": 58, \"n_batch/episode\": 885}}, \"target\": {\"train\": {\"n_unique_x\": 179200, \"n_unique_y\": 16, \"n_batch/episode\": 6720}, \"val\": {\"n_unique_x\": 38400, \"n_unique_y\": 16, \"n_batch/episode\": 960}, \"test\": {\"n_unique_x\": 38400, \"n_unique_y\": 16, \"n_batch/episode\": 960}}}}'"
      ]
     },
     "execution_count": 29,
     "metadata": {},
     "output_type": "execute_result"
    }
   ],
   "source": [
    "json.dumps(experiment)"
   ]
  }
 ],
 "metadata": {
  "celltoolbar": "Tags",
  "kernelspec": {
   "display_name": "Python 3 (ipykernel)",
   "language": "python",
   "name": "python3"
  },
  "language_info": {
   "codemirror_mode": {
    "name": "ipython",
    "version": 3
   },
   "file_extension": ".py",
   "mimetype": "text/x-python",
   "name": "python",
   "nbconvert_exporter": "python",
   "pygments_lexer": "ipython3",
   "version": "3.8.10"
  },
  "papermill": {
   "default_parameters": {},
   "duration": 1500.866972,
   "end_time": "2022-03-25T06:30:20.162603",
   "environment_variables": {},
   "exception": null,
   "input_path": "/mnt/wd500GB/CSC500/csc500-main/csc500-notebooks/templates/tl_ptn_template.ipynb",
   "output_path": "trial.ipynb",
   "parameters": {
    "parameters": {
     "BEST_MODEL_PATH": "./best_model.pth",
     "NUM_LOGS_PER_EPOCH": 10,
     "criteria_for_best": "target_accuracy",
     "dataset_seed": 7,
     "datasets": [
      {
       "domain_prefix": "C_",
       "domains": [
        1,
        2,
        3,
        4,
        5
       ],
       "episode_transforms": [],
       "labels": [
        "1-10.",
        "1-11.",
        "1-15.",
        "1-16.",
        "1-17.",
        "1-18.",
        "1-19.",
        "10-4.",
        "10-7.",
        "11-1.",
        "11-14.",
        "11-17.",
        "11-20.",
        "11-7.",
        "13-20.",
        "13-8.",
        "14-10.",
        "14-11.",
        "14-14.",
        "14-7.",
        "15-1.",
        "15-20.",
        "16-1.",
        "16-16.",
        "17-10.",
        "17-11.",
        "17-2.",
        "19-1.",
        "19-16.",
        "19-19.",
        "19-20.",
        "19-3.",
        "2-10.",
        "2-11.",
        "2-17.",
        "2-18.",
        "2-20.",
        "2-3.",
        "2-4.",
        "2-5.",
        "2-6.",
        "2-7.",
        "2-8.",
        "3-13.",
        "3-18.",
        "3-3.",
        "4-1.",
        "4-10.",
        "4-11.",
        "4-19.",
        "5-5.",
        "6-15.",
        "7-10.",
        "7-14.",
        "8-18.",
        "8-20.",
        "8-3.",
        "8-8."
       ],
       "num_examples_per_domain_per_label": -1,
       "pickle_path": "/mnt/wd500GB/CSC500/csc500-main/datasets/cores.stratified_ds.2022A.pkl",
       "source_or_target_dataset": "source",
       "x_transforms": [
        "take_200"
       ]
      },
      {
       "domain_prefix": "O_",
       "domains": [
        32,
        38,
        8,
        44,
        14,
        50,
        20,
        26
       ],
       "episode_transforms": [],
       "labels": [
        "3123D52",
        "3123D65",
        "3123D79",
        "3123D80",
        "3123D54",
        "3123D70",
        "3123D7B",
        "3123D89",
        "3123D58",
        "3123D76",
        "3123D7D",
        "3123EFE",
        "3123D64",
        "3123D78",
        "3123D7E",
        "3124E4A"
       ],
       "num_examples_per_domain_per_label": 2000,
       "pickle_path": "/mnt/wd500GB/CSC500/csc500-main/datasets/oracle.Run1_framed_2000Examples_stratified_ds.2022A.pkl",
       "source_or_target_dataset": "target",
       "x_transforms": [
        "take_200",
        "resample_20Msps_to_25Msps"
       ]
      }
     ],
     "device": "cuda",
     "experiment_name": "tl_3Av2:cores -> oracle.run1.framed",
     "lr": 0.0001,
     "n_epoch": 50,
     "n_query": 2,
     "n_shot": 3,
     "n_way": 16,
     "patience": 3,
     "seed": 7,
     "test_k_factor": 2,
     "torch_default_dtype": "torch.float32",
     "train_k_factor": 3,
     "val_k_factor": 2,
     "x_net": [
      {
       "class": "nnReshape",
       "kargs": {
        "shape": [
         -1,
         1,
         2,
         200
        ]
       }
      },
      {
       "class": "Conv2d",
       "kargs": {
        "bias": false,
        "in_channels": 1,
        "kernel_size": [
         1,
         7
        ],
        "out_channels": 256,
        "padding": [
         0,
         3
        ]
       }
      },
      {
       "class": "ReLU",
       "kargs": {
        "inplace": true
       }
      },
      {
       "class": "BatchNorm2d",
       "kargs": {
        "num_features": 256
       }
      },
      {
       "class": "Conv2d",
       "kargs": {
        "bias": true,
        "in_channels": 256,
        "kernel_size": [
         2,
         7
        ],
        "out_channels": 80,
        "padding": [
         0,
         3
        ]
       }
      },
      {
       "class": "ReLU",
       "kargs": {
        "inplace": true
       }
      },
      {
       "class": "BatchNorm2d",
       "kargs": {
        "num_features": 80
       }
      },
      {
       "class": "Flatten",
       "kargs": {}
      },
      {
       "class": "Linear",
       "kargs": {
        "in_features": 16000,
        "out_features": 256
       }
      },
      {
       "class": "ReLU",
       "kargs": {
        "inplace": true
       }
      },
      {
       "class": "BatchNorm1d",
       "kargs": {
        "num_features": 256
       }
      },
      {
       "class": "Linear",
       "kargs": {
        "in_features": 256,
        "out_features": 256
       }
      }
     ],
     "x_shape": [
      2,
      200
     ]
    }
   },
   "start_time": "2022-03-25T06:05:19.295631",
   "version": "2.3.4"
  }
 },
 "nbformat": 4,
 "nbformat_minor": 5
}