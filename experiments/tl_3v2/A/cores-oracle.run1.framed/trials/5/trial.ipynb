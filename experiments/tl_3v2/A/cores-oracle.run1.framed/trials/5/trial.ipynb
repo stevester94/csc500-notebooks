{
 "cells": [
  {
   "cell_type": "markdown",
   "id": "9fea5f46",
   "metadata": {
    "papermill": {
     "duration": 0.018778,
     "end_time": "2022-03-25T03:50:12.905295",
     "exception": false,
     "start_time": "2022-03-25T03:50:12.886517",
     "status": "completed"
    },
    "tags": []
   },
   "source": [
    "# Transfer Learning Template"
   ]
  },
  {
   "cell_type": "code",
   "execution_count": 1,
   "id": "0902182a",
   "metadata": {
    "execution": {
     "iopub.execute_input": "2022-03-25T03:50:12.946171Z",
     "iopub.status.busy": "2022-03-25T03:50:12.945562Z",
     "iopub.status.idle": "2022-03-25T03:50:13.905594Z",
     "shell.execute_reply": "2022-03-25T03:50:13.905096Z"
    },
    "papermill": {
     "duration": 0.985926,
     "end_time": "2022-03-25T03:50:13.905705",
     "exception": false,
     "start_time": "2022-03-25T03:50:12.919779",
     "status": "completed"
    },
    "tags": []
   },
   "outputs": [],
   "source": [
    "%load_ext autoreload\n",
    "%autoreload 2\n",
    "%matplotlib inline\n",
    "\n",
    "    \n",
    "import os, json, sys, time, random\n",
    "import numpy as np\n",
    "import torch\n",
    "from torch.optim import Adam\n",
    "from  easydict import EasyDict\n",
    "import matplotlib.pyplot as plt\n",
    "\n",
    "from steves_models.steves_ptn import Steves_Prototypical_Network\n",
    "\n",
    "from steves_utils.lazy_iterable_wrapper import Lazy_Iterable_Wrapper\n",
    "from steves_utils.iterable_aggregator import Iterable_Aggregator\n",
    "from steves_utils.ptn_train_eval_test_jig import  PTN_Train_Eval_Test_Jig\n",
    "from steves_utils.torch_sequential_builder import build_sequential\n",
    "from steves_utils.torch_utils import get_dataset_metrics, ptn_confusion_by_domain_over_dataloader\n",
    "from steves_utils.utils_v2 import (per_domain_accuracy_from_confusion, get_datasets_base_path)\n",
    "from steves_utils.PTN.utils import independent_accuracy_assesment\n",
    "\n",
    "from torch.utils.data import DataLoader\n",
    "\n",
    "from steves_utils.stratified_dataset.episodic_accessor import Episodic_Accessor_Factory\n",
    "\n",
    "from steves_utils.ptn_do_report import (\n",
    "    get_loss_curve,\n",
    "    get_results_table,\n",
    "    get_parameters_table,\n",
    "    get_domain_accuracies,\n",
    ")\n",
    "\n",
    "from steves_utils.transforms import get_chained_transform"
   ]
  },
  {
   "cell_type": "markdown",
   "id": "41c840b4",
   "metadata": {
    "papermill": {
     "duration": 0.01225,
     "end_time": "2022-03-25T03:50:13.936546",
     "exception": false,
     "start_time": "2022-03-25T03:50:13.924296",
     "status": "completed"
    },
    "tags": []
   },
   "source": [
    "# Allowed Parameters\n",
    "These are allowed parameters, not defaults\n",
    "Each of these values need to be present in the injected parameters (the notebook will raise an exception if they are not present)\n",
    "\n",
    "Papermill uses the cell tag \"parameters\" to inject the real parameters below this cell.\n",
    "Enable tags to see what I mean"
   ]
  },
  {
   "cell_type": "code",
   "execution_count": 2,
   "id": "fd44eb83",
   "metadata": {
    "execution": {
     "iopub.execute_input": "2022-03-25T03:50:13.974989Z",
     "iopub.status.busy": "2022-03-25T03:50:13.974694Z",
     "iopub.status.idle": "2022-03-25T03:50:13.990194Z",
     "shell.execute_reply": "2022-03-25T03:50:13.990641Z"
    },
    "papermill": {
     "duration": 0.040441,
     "end_time": "2022-03-25T03:50:13.990790",
     "exception": false,
     "start_time": "2022-03-25T03:50:13.950349",
     "status": "completed"
    },
    "tags": []
   },
   "outputs": [],
   "source": [
    "required_parameters = {\n",
    "    \"experiment_name\",\n",
    "    \"lr\",\n",
    "    \"device\",\n",
    "    \"seed\",\n",
    "    \"dataset_seed\",\n",
    "    \"n_shot\",\n",
    "    \"n_query\",\n",
    "    \"n_way\",\n",
    "    \"train_k_factor\",\n",
    "    \"val_k_factor\",\n",
    "    \"test_k_factor\",\n",
    "    \"n_epoch\",\n",
    "    \"patience\",\n",
    "    \"criteria_for_best\",\n",
    "    \"x_net\",\n",
    "    \"datasets\",\n",
    "    \"torch_default_dtype\",\n",
    "    \"NUM_LOGS_PER_EPOCH\",\n",
    "    \"BEST_MODEL_PATH\",\n",
    "    \"x_shape\",\n",
    "}"
   ]
  },
  {
   "cell_type": "code",
   "execution_count": 3,
   "id": "fa3f0049",
   "metadata": {
    "execution": {
     "iopub.execute_input": "2022-03-25T03:50:14.030391Z",
     "iopub.status.busy": "2022-03-25T03:50:14.030102Z",
     "iopub.status.idle": "2022-03-25T03:50:14.042483Z",
     "shell.execute_reply": "2022-03-25T03:50:14.042850Z"
    },
    "papermill": {
     "duration": 0.034706,
     "end_time": "2022-03-25T03:50:14.042959",
     "exception": false,
     "start_time": "2022-03-25T03:50:14.008253",
     "status": "completed"
    },
    "tags": [
     "parameters"
    ]
   },
   "outputs": [],
   "source": [
    "from steves_utils.CORES.utils import (\n",
    "    ALL_NODES,\n",
    "    ALL_NODES_MINIMUM_1000_EXAMPLES,\n",
    "    ALL_DAYS\n",
    ")\n",
    "\n",
    "from steves_utils.ORACLE.utils_v2 import (\n",
    "    ALL_DISTANCES_FEET_NARROWED,\n",
    "    ALL_RUNS,\n",
    "    ALL_SERIAL_NUMBERS,\n",
    ")\n",
    "\n",
    "standalone_parameters = {}\n",
    "standalone_parameters[\"experiment_name\"] = \"STANDALONE PTN\"\n",
    "standalone_parameters[\"lr\"] = 0.001\n",
    "standalone_parameters[\"device\"] = \"cuda\"\n",
    "\n",
    "standalone_parameters[\"seed\"] = 1337\n",
    "standalone_parameters[\"dataset_seed\"] = 1337\n",
    "\n",
    "standalone_parameters[\"n_way\"] = 8\n",
    "standalone_parameters[\"n_shot\"] = 3\n",
    "standalone_parameters[\"n_query\"]  = 2\n",
    "standalone_parameters[\"train_k_factor\"] = 1\n",
    "standalone_parameters[\"val_k_factor\"] = 2\n",
    "standalone_parameters[\"test_k_factor\"] = 2\n",
    "\n",
    "\n",
    "standalone_parameters[\"n_epoch\"] = 50\n",
    "\n",
    "standalone_parameters[\"patience\"] = 10\n",
    "standalone_parameters[\"criteria_for_best\"] = \"source_loss\"\n",
    "\n",
    "standalone_parameters[\"datasets\"] = [\n",
    "    {\n",
    "        \"labels\": ALL_SERIAL_NUMBERS,\n",
    "        \"domains\": ALL_DISTANCES_FEET_NARROWED,\n",
    "        \"num_examples_per_domain_per_label\": 100,\n",
    "        \"pickle_path\": os.path.join(get_datasets_base_path(), \"oracle.Run1_framed_2000Examples_stratified_ds.2022A.pkl\"),\n",
    "        \"source_or_target_dataset\": \"source\",\n",
    "        \"x_transforms\": [\"unit_mag\", \"minus_two\"],\n",
    "        \"episode_transforms\": [],\n",
    "        \"domain_prefix\": \"ORACLE_\"\n",
    "    },\n",
    "    {\n",
    "        \"labels\": ALL_NODES,\n",
    "        \"domains\": ALL_DAYS,\n",
    "        \"num_examples_per_domain_per_label\": 100,\n",
    "        \"pickle_path\": os.path.join(get_datasets_base_path(), \"cores.stratified_ds.2022A.pkl\"),\n",
    "        \"source_or_target_dataset\": \"target\",\n",
    "        \"x_transforms\": [\"unit_power\", \"times_zero\"],\n",
    "        \"episode_transforms\": [],\n",
    "        \"domain_prefix\": \"CORES_\"\n",
    "    }   \n",
    "]\n",
    "\n",
    "standalone_parameters[\"torch_default_dtype\"] = \"torch.float32\" \n",
    "\n",
    "\n",
    "\n",
    "standalone_parameters[\"x_net\"] =     [\n",
    "    {\"class\": \"nnReshape\", \"kargs\": {\"shape\":[-1, 1, 2, 256]}},\n",
    "    {\"class\": \"Conv2d\", \"kargs\": { \"in_channels\":1, \"out_channels\":256, \"kernel_size\":(1,7), \"bias\":False, \"padding\":(0,3), },},\n",
    "    {\"class\": \"ReLU\", \"kargs\": {\"inplace\": True}},\n",
    "    {\"class\": \"BatchNorm2d\", \"kargs\": {\"num_features\":256}},\n",
    "\n",
    "    {\"class\": \"Conv2d\", \"kargs\": { \"in_channels\":256, \"out_channels\":80, \"kernel_size\":(2,7), \"bias\":True, \"padding\":(0,3), },},\n",
    "    {\"class\": \"ReLU\", \"kargs\": {\"inplace\": True}},\n",
    "    {\"class\": \"BatchNorm2d\", \"kargs\": {\"num_features\":80}},\n",
    "    {\"class\": \"Flatten\", \"kargs\": {}},\n",
    "\n",
    "    {\"class\": \"Linear\", \"kargs\": {\"in_features\": 80*256, \"out_features\": 256}}, # 80 units per IQ pair\n",
    "    {\"class\": \"ReLU\", \"kargs\": {\"inplace\": True}},\n",
    "    {\"class\": \"BatchNorm1d\", \"kargs\": {\"num_features\":256}},\n",
    "\n",
    "    {\"class\": \"Linear\", \"kargs\": {\"in_features\": 256, \"out_features\": 256}},\n",
    "]\n",
    "\n",
    "# Parameters relevant to results\n",
    "# These parameters will basically never need to change\n",
    "standalone_parameters[\"NUM_LOGS_PER_EPOCH\"] = 10\n",
    "standalone_parameters[\"BEST_MODEL_PATH\"] = \"./best_model.pth\"\n",
    "\n",
    "\n",
    "\n",
    "\n"
   ]
  },
  {
   "cell_type": "code",
   "execution_count": 4,
   "id": "55db554e",
   "metadata": {
    "execution": {
     "iopub.execute_input": "2022-03-25T03:50:14.082453Z",
     "iopub.status.busy": "2022-03-25T03:50:14.081124Z",
     "iopub.status.idle": "2022-03-25T03:50:14.095217Z",
     "shell.execute_reply": "2022-03-25T03:50:14.094761Z"
    },
    "papermill": {
     "duration": 0.033788,
     "end_time": "2022-03-25T03:50:14.095310",
     "exception": false,
     "start_time": "2022-03-25T03:50:14.061522",
     "status": "completed"
    },
    "tags": [
     "injected-parameters"
    ]
   },
   "outputs": [],
   "source": [
    "# Parameters\n",
    "parameters = {\n",
    "    \"experiment_name\": \"tl_3Av2:cores -> oracle.run1.framed\",\n",
    "    \"device\": \"cuda\",\n",
    "    \"lr\": 0.0001,\n",
    "    \"x_shape\": [2, 200],\n",
    "    \"n_shot\": 3,\n",
    "    \"n_query\": 2,\n",
    "    \"train_k_factor\": 3,\n",
    "    \"val_k_factor\": 2,\n",
    "    \"test_k_factor\": 2,\n",
    "    \"torch_default_dtype\": \"torch.float32\",\n",
    "    \"n_epoch\": 50,\n",
    "    \"patience\": 3,\n",
    "    \"criteria_for_best\": \"target_accuracy\",\n",
    "    \"x_net\": [\n",
    "        {\"class\": \"nnReshape\", \"kargs\": {\"shape\": [-1, 1, 2, 200]}},\n",
    "        {\n",
    "            \"class\": \"Conv2d\",\n",
    "            \"kargs\": {\n",
    "                \"in_channels\": 1,\n",
    "                \"out_channels\": 256,\n",
    "                \"kernel_size\": [1, 7],\n",
    "                \"bias\": False,\n",
    "                \"padding\": [0, 3],\n",
    "            },\n",
    "        },\n",
    "        {\"class\": \"ReLU\", \"kargs\": {\"inplace\": True}},\n",
    "        {\"class\": \"BatchNorm2d\", \"kargs\": {\"num_features\": 256}},\n",
    "        {\n",
    "            \"class\": \"Conv2d\",\n",
    "            \"kargs\": {\n",
    "                \"in_channels\": 256,\n",
    "                \"out_channels\": 80,\n",
    "                \"kernel_size\": [2, 7],\n",
    "                \"bias\": True,\n",
    "                \"padding\": [0, 3],\n",
    "            },\n",
    "        },\n",
    "        {\"class\": \"ReLU\", \"kargs\": {\"inplace\": True}},\n",
    "        {\"class\": \"BatchNorm2d\", \"kargs\": {\"num_features\": 80}},\n",
    "        {\"class\": \"Flatten\", \"kargs\": {}},\n",
    "        {\"class\": \"Linear\", \"kargs\": {\"in_features\": 16000, \"out_features\": 256}},\n",
    "        {\"class\": \"ReLU\", \"kargs\": {\"inplace\": True}},\n",
    "        {\"class\": \"BatchNorm1d\", \"kargs\": {\"num_features\": 256}},\n",
    "        {\"class\": \"Linear\", \"kargs\": {\"in_features\": 256, \"out_features\": 256}},\n",
    "    ],\n",
    "    \"NUM_LOGS_PER_EPOCH\": 10,\n",
    "    \"BEST_MODEL_PATH\": \"./best_model.pth\",\n",
    "    \"n_way\": 16,\n",
    "    \"datasets\": [\n",
    "        {\n",
    "            \"labels\": [\n",
    "                \"1-10.\",\n",
    "                \"1-11.\",\n",
    "                \"1-15.\",\n",
    "                \"1-16.\",\n",
    "                \"1-17.\",\n",
    "                \"1-18.\",\n",
    "                \"1-19.\",\n",
    "                \"10-4.\",\n",
    "                \"10-7.\",\n",
    "                \"11-1.\",\n",
    "                \"11-14.\",\n",
    "                \"11-17.\",\n",
    "                \"11-20.\",\n",
    "                \"11-7.\",\n",
    "                \"13-20.\",\n",
    "                \"13-8.\",\n",
    "                \"14-10.\",\n",
    "                \"14-11.\",\n",
    "                \"14-14.\",\n",
    "                \"14-7.\",\n",
    "                \"15-1.\",\n",
    "                \"15-20.\",\n",
    "                \"16-1.\",\n",
    "                \"16-16.\",\n",
    "                \"17-10.\",\n",
    "                \"17-11.\",\n",
    "                \"17-2.\",\n",
    "                \"19-1.\",\n",
    "                \"19-16.\",\n",
    "                \"19-19.\",\n",
    "                \"19-20.\",\n",
    "                \"19-3.\",\n",
    "                \"2-10.\",\n",
    "                \"2-11.\",\n",
    "                \"2-17.\",\n",
    "                \"2-18.\",\n",
    "                \"2-20.\",\n",
    "                \"2-3.\",\n",
    "                \"2-4.\",\n",
    "                \"2-5.\",\n",
    "                \"2-6.\",\n",
    "                \"2-7.\",\n",
    "                \"2-8.\",\n",
    "                \"3-13.\",\n",
    "                \"3-18.\",\n",
    "                \"3-3.\",\n",
    "                \"4-1.\",\n",
    "                \"4-10.\",\n",
    "                \"4-11.\",\n",
    "                \"4-19.\",\n",
    "                \"5-5.\",\n",
    "                \"6-15.\",\n",
    "                \"7-10.\",\n",
    "                \"7-14.\",\n",
    "                \"8-18.\",\n",
    "                \"8-20.\",\n",
    "                \"8-3.\",\n",
    "                \"8-8.\",\n",
    "            ],\n",
    "            \"domains\": [1, 2, 3, 4, 5],\n",
    "            \"num_examples_per_domain_per_label\": -1,\n",
    "            \"pickle_path\": \"/mnt/wd500GB/CSC500/csc500-main/datasets/cores.stratified_ds.2022A.pkl\",\n",
    "            \"source_or_target_dataset\": \"source\",\n",
    "            \"x_transforms\": [\"take_200\"],\n",
    "            \"episode_transforms\": [],\n",
    "            \"domain_prefix\": \"C_\",\n",
    "        },\n",
    "        {\n",
    "            \"labels\": [\n",
    "                \"3123D52\",\n",
    "                \"3123D65\",\n",
    "                \"3123D79\",\n",
    "                \"3123D80\",\n",
    "                \"3123D54\",\n",
    "                \"3123D70\",\n",
    "                \"3123D7B\",\n",
    "                \"3123D89\",\n",
    "                \"3123D58\",\n",
    "                \"3123D76\",\n",
    "                \"3123D7D\",\n",
    "                \"3123EFE\",\n",
    "                \"3123D64\",\n",
    "                \"3123D78\",\n",
    "                \"3123D7E\",\n",
    "                \"3124E4A\",\n",
    "            ],\n",
    "            \"domains\": [32, 38, 8, 44, 14, 50, 20, 26],\n",
    "            \"num_examples_per_domain_per_label\": 2000,\n",
    "            \"pickle_path\": \"/mnt/wd500GB/CSC500/csc500-main/datasets/oracle.Run1_framed_2000Examples_stratified_ds.2022A.pkl\",\n",
    "            \"source_or_target_dataset\": \"target\",\n",
    "            \"x_transforms\": [\"take_200\", \"resample_20Msps_to_25Msps\"],\n",
    "            \"episode_transforms\": [],\n",
    "            \"domain_prefix\": \"O_\",\n",
    "        },\n",
    "    ],\n",
    "    \"seed\": 420,\n",
    "    \"dataset_seed\": 420,\n",
    "}\n"
   ]
  },
  {
   "cell_type": "code",
   "execution_count": 5,
   "id": "8fa1cc33",
   "metadata": {
    "execution": {
     "iopub.execute_input": "2022-03-25T03:50:14.130429Z",
     "iopub.status.busy": "2022-03-25T03:50:14.130165Z",
     "iopub.status.idle": "2022-03-25T03:50:14.145404Z",
     "shell.execute_reply": "2022-03-25T03:50:14.145014Z"
    },
    "papermill": {
     "duration": 0.032017,
     "end_time": "2022-03-25T03:50:14.145495",
     "exception": false,
     "start_time": "2022-03-25T03:50:14.113478",
     "status": "completed"
    },
    "tags": []
   },
   "outputs": [],
   "source": [
    "# Set this to True if you want to run this template directly\n",
    "STANDALONE = False\n",
    "if STANDALONE:\n",
    "    print(\"parameters not injected, running with standalone_parameters\")\n",
    "    parameters = standalone_parameters\n",
    "\n",
    "if not 'parameters' in locals() and not 'parameters' in globals():\n",
    "    raise Exception(\"Parameter injection failed\")\n",
    "\n",
    "#Use an easy dict for all the parameters\n",
    "p = EasyDict(parameters)\n",
    "\n",
    "if \"x_shape\" not in p:\n",
    "    p.x_shape = [2,256] # Default to this if we dont supply x_shape\n",
    "\n",
    "\n",
    "supplied_keys = set(p.keys())\n",
    "\n",
    "if  supplied_keys != required_parameters:\n",
    "    print(\"Parameters are incorrect\")\n",
    "    if len(supplied_keys - required_parameters)>0: print(\"Shouldn't have:\", str(supplied_keys - required_parameters))\n",
    "    if len(required_parameters - supplied_keys)>0: print(\"Need to have:\", str(required_parameters - supplied_keys))\n",
    "    raise RuntimeError(\"Parameters are incorrect\")"
   ]
  },
  {
   "cell_type": "code",
   "execution_count": 6,
   "id": "3a028d58",
   "metadata": {
    "execution": {
     "iopub.execute_input": "2022-03-25T03:50:14.178451Z",
     "iopub.status.busy": "2022-03-25T03:50:14.178182Z",
     "iopub.status.idle": "2022-03-25T03:50:14.193982Z",
     "shell.execute_reply": "2022-03-25T03:50:14.193608Z"
    },
    "papermill": {
     "duration": 0.031387,
     "end_time": "2022-03-25T03:50:14.194093",
     "exception": false,
     "start_time": "2022-03-25T03:50:14.162706",
     "status": "completed"
    },
    "tags": []
   },
   "outputs": [],
   "source": [
    "###################################\n",
    "# Set the RNGs and make it all deterministic\n",
    "###################################\n",
    "np.random.seed(p.seed)\n",
    "random.seed(p.seed)\n",
    "torch.manual_seed(p.seed)\n",
    "\n",
    "torch.use_deterministic_algorithms(True) "
   ]
  },
  {
   "cell_type": "code",
   "execution_count": 7,
   "id": "b691acf6",
   "metadata": {
    "execution": {
     "iopub.execute_input": "2022-03-25T03:50:14.228868Z",
     "iopub.status.busy": "2022-03-25T03:50:14.228287Z",
     "iopub.status.idle": "2022-03-25T03:50:14.243425Z",
     "shell.execute_reply": "2022-03-25T03:50:14.242964Z"
    },
    "papermill": {
     "duration": 0.030966,
     "end_time": "2022-03-25T03:50:14.243520",
     "exception": false,
     "start_time": "2022-03-25T03:50:14.212554",
     "status": "completed"
    },
    "tags": []
   },
   "outputs": [],
   "source": [
    "###########################################\n",
    "# The stratified datasets honor this\n",
    "###########################################\n",
    "torch.set_default_dtype(eval(p.torch_default_dtype))"
   ]
  },
  {
   "cell_type": "code",
   "execution_count": 8,
   "id": "b5fba671",
   "metadata": {
    "execution": {
     "iopub.execute_input": "2022-03-25T03:50:14.278152Z",
     "iopub.status.busy": "2022-03-25T03:50:14.277885Z",
     "iopub.status.idle": "2022-03-25T03:50:14.313565Z",
     "shell.execute_reply": "2022-03-25T03:50:14.313929Z"
    },
    "papermill": {
     "duration": 0.051915,
     "end_time": "2022-03-25T03:50:14.314055",
     "exception": false,
     "start_time": "2022-03-25T03:50:14.262140",
     "status": "completed"
    },
    "tags": []
   },
   "outputs": [],
   "source": [
    "###################################\n",
    "# Build the network(s)\n",
    "# Note: It's critical to do this AFTER setting the RNG\n",
    "###################################\n",
    "x_net = build_sequential(p.x_net)"
   ]
  },
  {
   "cell_type": "code",
   "execution_count": 9,
   "id": "5d7e61cc",
   "metadata": {
    "execution": {
     "iopub.execute_input": "2022-03-25T03:50:14.346431Z",
     "iopub.status.busy": "2022-03-25T03:50:14.346180Z",
     "iopub.status.idle": "2022-03-25T03:50:14.361392Z",
     "shell.execute_reply": "2022-03-25T03:50:14.361053Z"
    },
    "papermill": {
     "duration": 0.030469,
     "end_time": "2022-03-25T03:50:14.361479",
     "exception": false,
     "start_time": "2022-03-25T03:50:14.331010",
     "status": "completed"
    },
    "tags": []
   },
   "outputs": [],
   "source": [
    "start_time_secs = time.time()"
   ]
  },
  {
   "cell_type": "code",
   "execution_count": 10,
   "id": "c6b67dfd",
   "metadata": {
    "execution": {
     "iopub.execute_input": "2022-03-25T03:50:14.395263Z",
     "iopub.status.busy": "2022-03-25T03:50:14.395013Z",
     "iopub.status.idle": "2022-03-25T03:50:14.410108Z",
     "shell.execute_reply": "2022-03-25T03:50:14.409701Z"
    },
    "papermill": {
     "duration": 0.030889,
     "end_time": "2022-03-25T03:50:14.410201",
     "exception": false,
     "start_time": "2022-03-25T03:50:14.379312",
     "status": "completed"
    },
    "tags": []
   },
   "outputs": [],
   "source": [
    "p.domains_source = []\n",
    "p.domains_target = []\n",
    "\n",
    "\n",
    "train_original_source = []\n",
    "val_original_source   = []\n",
    "test_original_source  = []\n",
    "\n",
    "train_original_target = []\n",
    "val_original_target   = []\n",
    "test_original_target  = []"
   ]
  },
  {
   "cell_type": "code",
   "execution_count": 11,
   "id": "e3d9c3d3",
   "metadata": {
    "execution": {
     "iopub.execute_input": "2022-03-25T03:50:14.442057Z",
     "iopub.status.busy": "2022-03-25T03:50:14.441791Z",
     "iopub.status.idle": "2022-03-25T03:50:14.457035Z",
     "shell.execute_reply": "2022-03-25T03:50:14.456642Z"
    },
    "papermill": {
     "duration": 0.030052,
     "end_time": "2022-03-25T03:50:14.457124",
     "exception": false,
     "start_time": "2022-03-25T03:50:14.427072",
     "status": "completed"
    },
    "tags": []
   },
   "outputs": [],
   "source": [
    "# global_x_transform_func = lambda x: normalize(x.to(torch.get_default_dtype()), \"unit_power\") # unit_power, unit_mag\n",
    "# global_x_transform_func = lambda x: normalize(x, \"unit_power\") # unit_power, unit_mag"
   ]
  },
  {
   "cell_type": "code",
   "execution_count": 12,
   "id": "acb78fd2",
   "metadata": {
    "execution": {
     "iopub.execute_input": "2022-03-25T03:50:14.495139Z",
     "iopub.status.busy": "2022-03-25T03:50:14.494876Z",
     "iopub.status.idle": "2022-03-25T03:50:14.508345Z",
     "shell.execute_reply": "2022-03-25T03:50:14.507933Z"
    },
    "papermill": {
     "duration": 0.033448,
     "end_time": "2022-03-25T03:50:14.508434",
     "exception": false,
     "start_time": "2022-03-25T03:50:14.474986",
     "status": "completed"
    },
    "tags": []
   },
   "outputs": [],
   "source": [
    "def add_dataset(\n",
    "    labels,\n",
    "    domains,\n",
    "    pickle_path,\n",
    "    x_transforms,\n",
    "    episode_transforms,\n",
    "    domain_prefix,\n",
    "    num_examples_per_domain_per_label,\n",
    "    source_or_target_dataset:str,\n",
    "    iterator_seed=p.seed,\n",
    "    dataset_seed=p.dataset_seed,\n",
    "    n_shot=p.n_shot,\n",
    "    n_way=p.n_way,\n",
    "    n_query=p.n_query,\n",
    "    train_val_test_k_factors=(p.train_k_factor,p.val_k_factor,p.test_k_factor),\n",
    "):\n",
    "   \n",
    "    if x_transforms == []: x_transform = None\n",
    "    else: x_transform = get_chained_transform(x_transforms)\n",
    "    \n",
    "    if episode_transforms == []: episode_transform = None\n",
    "    else: raise Exception(\"episode_transforms not implemented\")\n",
    "    \n",
    "    episode_transform = lambda tup, _prefix=domain_prefix: (_prefix + str(tup[0]), tup[1])\n",
    "\n",
    "\n",
    "    eaf = Episodic_Accessor_Factory(\n",
    "        labels=labels,\n",
    "        domains=domains,\n",
    "        num_examples_per_domain_per_label=num_examples_per_domain_per_label,\n",
    "        iterator_seed=iterator_seed,\n",
    "        dataset_seed=dataset_seed,\n",
    "        n_shot=n_shot,\n",
    "        n_way=n_way,\n",
    "        n_query=n_query,\n",
    "        train_val_test_k_factors=train_val_test_k_factors,\n",
    "        pickle_path=pickle_path,\n",
    "        x_transform_func=x_transform,\n",
    "    )\n",
    "\n",
    "    train, val, test = eaf.get_train(), eaf.get_val(), eaf.get_test()\n",
    "    train = Lazy_Iterable_Wrapper(train, episode_transform)\n",
    "    val = Lazy_Iterable_Wrapper(val, episode_transform)\n",
    "    test = Lazy_Iterable_Wrapper(test, episode_transform)\n",
    "\n",
    "    if source_or_target_dataset==\"source\":\n",
    "        train_original_source.append(train)\n",
    "        val_original_source.append(val)\n",
    "        test_original_source.append(test)\n",
    "\n",
    "        p.domains_source.extend(\n",
    "            [domain_prefix + str(u) for u in domains]\n",
    "        )\n",
    "    elif source_or_target_dataset==\"target\":\n",
    "        train_original_target.append(train)\n",
    "        val_original_target.append(val)\n",
    "        test_original_target.append(test)\n",
    "        p.domains_target.extend(\n",
    "            [domain_prefix + str(u) for u in domains]\n",
    "        )\n",
    "    else:\n",
    "        raise Exception(f\"invalid source_or_target_dataset: {source_or_target_dataset}\")\n",
    "    "
   ]
  },
  {
   "cell_type": "code",
   "execution_count": 13,
   "id": "fe266617",
   "metadata": {
    "execution": {
     "iopub.execute_input": "2022-03-25T03:50:14.542036Z",
     "iopub.status.busy": "2022-03-25T03:50:14.541775Z",
     "iopub.status.idle": "2022-03-25T03:50:31.137791Z",
     "shell.execute_reply": "2022-03-25T03:50:31.137528Z"
    },
    "papermill": {
     "duration": 16.611494,
     "end_time": "2022-03-25T03:50:31.137861",
     "exception": false,
     "start_time": "2022-03-25T03:50:14.526367",
     "status": "completed"
    },
    "tags": []
   },
   "outputs": [],
   "source": [
    "for ds in p.datasets:\n",
    "    add_dataset(**ds)"
   ]
  },
  {
   "cell_type": "code",
   "execution_count": 14,
   "id": "b90d65ac",
   "metadata": {
    "execution": {
     "iopub.execute_input": "2022-03-25T03:50:31.169373Z",
     "iopub.status.busy": "2022-03-25T03:50:31.168956Z",
     "iopub.status.idle": "2022-03-25T03:50:31.181048Z",
     "shell.execute_reply": "2022-03-25T03:50:31.180783Z"
    },
    "papermill": {
     "duration": 0.028488,
     "end_time": "2022-03-25T03:50:31.181116",
     "exception": false,
     "start_time": "2022-03-25T03:50:31.152628",
     "status": "completed"
    },
    "tags": []
   },
   "outputs": [],
   "source": [
    "# from steves_utils.CORES.utils import (\n",
    "#     ALL_NODES,\n",
    "#     ALL_NODES_MINIMUM_1000_EXAMPLES,\n",
    "#     ALL_DAYS\n",
    "# )\n",
    "\n",
    "# add_dataset(\n",
    "#     labels=ALL_NODES,\n",
    "#     domains = ALL_DAYS,\n",
    "#     num_examples_per_domain_per_label=100,\n",
    "#     pickle_path=os.path.join(get_datasets_base_path(), \"cores.stratified_ds.2022A.pkl\"),\n",
    "#     source_or_target_dataset=\"target\",\n",
    "#     x_transform_func=global_x_transform_func,\n",
    "#     domain_modifier=lambda u: f\"cores_{u}\"\n",
    "# )"
   ]
  },
  {
   "cell_type": "code",
   "execution_count": 15,
   "id": "76db484d",
   "metadata": {
    "execution": {
     "iopub.execute_input": "2022-03-25T03:50:31.212406Z",
     "iopub.status.busy": "2022-03-25T03:50:31.211989Z",
     "iopub.status.idle": "2022-03-25T03:50:31.223867Z",
     "shell.execute_reply": "2022-03-25T03:50:31.223621Z"
    },
    "papermill": {
     "duration": 0.028256,
     "end_time": "2022-03-25T03:50:31.223933",
     "exception": false,
     "start_time": "2022-03-25T03:50:31.195677",
     "status": "completed"
    },
    "tags": []
   },
   "outputs": [],
   "source": [
    "# from steves_utils.ORACLE.utils_v2 import (\n",
    "#     ALL_DISTANCES_FEET,\n",
    "#     ALL_RUNS,\n",
    "#     ALL_SERIAL_NUMBERS,\n",
    "# )\n",
    "\n",
    "\n",
    "# add_dataset(\n",
    "#     labels=ALL_SERIAL_NUMBERS,\n",
    "#     domains = list(set(ALL_DISTANCES_FEET) - {2,62}),\n",
    "#     num_examples_per_domain_per_label=100,\n",
    "#     pickle_path=os.path.join(get_datasets_base_path(), \"oracle.Run2_framed_2000Examples_stratified_ds.2022A.pkl\"),\n",
    "#     source_or_target_dataset=\"source\",\n",
    "#     x_transform_func=global_x_transform_func,\n",
    "#     domain_modifier=lambda u: f\"oracle1_{u}\"\n",
    "# )\n"
   ]
  },
  {
   "cell_type": "code",
   "execution_count": 16,
   "id": "97dea9d2",
   "metadata": {
    "execution": {
     "iopub.execute_input": "2022-03-25T03:50:31.255846Z",
     "iopub.status.busy": "2022-03-25T03:50:31.255366Z",
     "iopub.status.idle": "2022-03-25T03:50:31.270172Z",
     "shell.execute_reply": "2022-03-25T03:50:31.269890Z"
    },
    "papermill": {
     "duration": 0.030877,
     "end_time": "2022-03-25T03:50:31.270237",
     "exception": false,
     "start_time": "2022-03-25T03:50:31.239360",
     "status": "completed"
    },
    "tags": []
   },
   "outputs": [],
   "source": [
    "# from steves_utils.ORACLE.utils_v2 import (\n",
    "#     ALL_DISTANCES_FEET,\n",
    "#     ALL_RUNS,\n",
    "#     ALL_SERIAL_NUMBERS,\n",
    "# )\n",
    "\n",
    "\n",
    "# add_dataset(\n",
    "#     labels=ALL_SERIAL_NUMBERS,\n",
    "#     domains = list(set(ALL_DISTANCES_FEET) - {2,62,56}),\n",
    "#     num_examples_per_domain_per_label=100,\n",
    "#     pickle_path=os.path.join(get_datasets_base_path(), \"oracle.Run2_framed_2000Examples_stratified_ds.2022A.pkl\"),\n",
    "#     source_or_target_dataset=\"source\",\n",
    "#     x_transform_func=global_x_transform_func,\n",
    "#     domain_modifier=lambda u: f\"oracle2_{u}\"\n",
    "# )"
   ]
  },
  {
   "cell_type": "code",
   "execution_count": 17,
   "id": "6f289866",
   "metadata": {
    "execution": {
     "iopub.execute_input": "2022-03-25T03:50:31.304216Z",
     "iopub.status.busy": "2022-03-25T03:50:31.303945Z",
     "iopub.status.idle": "2022-03-25T03:50:31.315839Z",
     "shell.execute_reply": "2022-03-25T03:50:31.315407Z"
    },
    "papermill": {
     "duration": 0.02791,
     "end_time": "2022-03-25T03:50:31.315946",
     "exception": false,
     "start_time": "2022-03-25T03:50:31.288036",
     "status": "completed"
    },
    "tags": []
   },
   "outputs": [],
   "source": [
    "# add_dataset(\n",
    "#     labels=list(range(19)),\n",
    "#     domains = [0,1,2],\n",
    "#     num_examples_per_domain_per_label=100,\n",
    "#     pickle_path=os.path.join(get_datasets_base_path(), \"metehan.stratified_ds.2022A.pkl\"),\n",
    "#     source_or_target_dataset=\"target\",\n",
    "#     x_transform_func=global_x_transform_func,\n",
    "#     domain_modifier=lambda u: f\"met_{u}\"\n",
    "# )"
   ]
  },
  {
   "cell_type": "code",
   "execution_count": 18,
   "id": "86a863c3",
   "metadata": {
    "execution": {
     "iopub.execute_input": "2022-03-25T03:50:31.351479Z",
     "iopub.status.busy": "2022-03-25T03:50:31.349303Z",
     "iopub.status.idle": "2022-03-25T03:50:31.365187Z",
     "shell.execute_reply": "2022-03-25T03:50:31.365593Z"
    },
    "papermill": {
     "duration": 0.032647,
     "end_time": "2022-03-25T03:50:31.365719",
     "exception": false,
     "start_time": "2022-03-25T03:50:31.333072",
     "status": "completed"
    },
    "tags": []
   },
   "outputs": [],
   "source": [
    "# # from steves_utils.wisig.utils import (\n",
    "# #     ALL_NODES_MINIMUM_100_EXAMPLES,\n",
    "# #     ALL_NODES_MINIMUM_500_EXAMPLES,\n",
    "# #     ALL_NODES_MINIMUM_1000_EXAMPLES,\n",
    "# #     ALL_DAYS\n",
    "# # )\n",
    "\n",
    "# import steves_utils.wisig.utils as wisig\n",
    "\n",
    "\n",
    "# add_dataset(\n",
    "#     labels=wisig.ALL_NODES_MINIMUM_100_EXAMPLES,\n",
    "#     domains = wisig.ALL_DAYS,\n",
    "#     num_examples_per_domain_per_label=100,\n",
    "#     pickle_path=os.path.join(get_datasets_base_path(), \"wisig.node3-19.stratified_ds.2022A.pkl\"),\n",
    "#     source_or_target_dataset=\"target\",\n",
    "#     x_transform_func=global_x_transform_func,\n",
    "#     domain_modifier=lambda u: f\"wisig_{u}\"\n",
    "# )"
   ]
  },
  {
   "cell_type": "code",
   "execution_count": 19,
   "id": "fd5442bc",
   "metadata": {
    "execution": {
     "iopub.execute_input": "2022-03-25T03:50:31.405335Z",
     "iopub.status.busy": "2022-03-25T03:50:31.405059Z",
     "iopub.status.idle": "2022-03-25T03:50:31.420096Z",
     "shell.execute_reply": "2022-03-25T03:50:31.420502Z"
    },
    "papermill": {
     "duration": 0.034446,
     "end_time": "2022-03-25T03:50:31.420641",
     "exception": false,
     "start_time": "2022-03-25T03:50:31.386195",
     "status": "completed"
    },
    "tags": []
   },
   "outputs": [],
   "source": [
    "###################################\n",
    "# Build the dataset\n",
    "###################################\n",
    "train_original_source = Iterable_Aggregator(train_original_source, p.seed)\n",
    "val_original_source = Iterable_Aggregator(val_original_source, p.seed)\n",
    "test_original_source = Iterable_Aggregator(test_original_source, p.seed)\n",
    "\n",
    "\n",
    "train_original_target = Iterable_Aggregator(train_original_target, p.seed)\n",
    "val_original_target = Iterable_Aggregator(val_original_target, p.seed)\n",
    "test_original_target = Iterable_Aggregator(test_original_target, p.seed)\n",
    "\n",
    "# For CNN We only use X and Y. And we only train on the source.\n",
    "# Properly form the data using a transform lambda and Lazy_Iterable_Wrapper. Finally wrap them in a dataloader\n",
    "\n",
    "transform_lambda = lambda ex: ex[1] # Original is (<domain>, <episode>) so we strip down to episode only\n",
    "\n",
    "train_processed_source = Lazy_Iterable_Wrapper(train_original_source, transform_lambda)\n",
    "val_processed_source   = Lazy_Iterable_Wrapper(val_original_source, transform_lambda)\n",
    "test_processed_source  = Lazy_Iterable_Wrapper(test_original_source, transform_lambda)\n",
    "\n",
    "train_processed_target = Lazy_Iterable_Wrapper(train_original_target, transform_lambda)\n",
    "val_processed_target   = Lazy_Iterable_Wrapper(val_original_target, transform_lambda)\n",
    "test_processed_target  = Lazy_Iterable_Wrapper(test_original_target, transform_lambda)\n",
    "\n",
    "datasets = EasyDict({\n",
    "    \"source\": {\n",
    "        \"original\": {\"train\":train_original_source, \"val\":val_original_source, \"test\":test_original_source},\n",
    "        \"processed\": {\"train\":train_processed_source, \"val\":val_processed_source, \"test\":test_processed_source}\n",
    "    },\n",
    "    \"target\": {\n",
    "        \"original\": {\"train\":train_original_target, \"val\":val_original_target, \"test\":test_original_target},\n",
    "        \"processed\": {\"train\":train_processed_target, \"val\":val_processed_target, \"test\":test_processed_target}\n",
    "    },\n",
    "})"
   ]
  },
  {
   "cell_type": "code",
   "execution_count": 20,
   "id": "5b3c01fc",
   "metadata": {
    "execution": {
     "iopub.execute_input": "2022-03-25T03:50:31.455378Z",
     "iopub.status.busy": "2022-03-25T03:50:31.455107Z",
     "iopub.status.idle": "2022-03-25T03:50:37.834747Z",
     "shell.execute_reply": "2022-03-25T03:50:37.835239Z"
    },
    "papermill": {
     "duration": 6.397585,
     "end_time": "2022-03-25T03:50:37.835389",
     "exception": false,
     "start_time": "2022-03-25T03:50:31.437804",
     "status": "completed"
    },
    "tags": []
   },
   "outputs": [
    {
     "name": "stdout",
     "output_type": "stream",
     "text": [
      "{'C_4', 'C_5', 'C_1', 'C_3', 'C_2'}\n"
     ]
    },
    {
     "name": "stdout",
     "output_type": "stream",
     "text": [
      "{'O_32', 'O_26', 'O_20', 'O_8', 'O_14', 'O_50', 'O_38', 'O_44'}\n"
     ]
    },
    {
     "name": "stdout",
     "output_type": "stream",
     "text": [
      "tensor([[[ 0.0123, -0.0499, -0.0788,  ...,  0.0256, -0.0414, -0.0274],\n",
      "         [ 0.0287,  0.0310, -0.0014,  ...,  0.0020,  0.0308, -0.0009]],\n",
      "\n",
      "        [[ 0.0167,  0.0039, -0.0475,  ...,  0.0324,  0.0001, -0.0313],\n",
      "         [ 0.0060,  0.0271,  0.0331,  ..., -0.0278,  0.0162,  0.0301]],\n",
      "\n",
      "        [[-0.0230, -0.0070,  0.0285,  ..., -0.0137, -0.0030,  0.0107],\n",
      "         [-0.0005, -0.0350, -0.0541,  ...,  0.0273, -0.0338, -0.0272]],\n",
      "\n",
      "        ...,\n",
      "\n",
      "        [[ 0.0020,  0.0024,  0.0062,  ...,  0.0015,  0.0072, -0.0169],\n",
      "         [-0.0002, -0.0005,  0.0157,  ...,  0.0207,  0.0244,  0.0352]],\n",
      "\n",
      "        [[-0.0113, -0.0174,  0.0259,  ..., -0.0282,  0.0032,  0.0296],\n",
      "         [ 0.0042, -0.0227, -0.0197,  ..., -0.0206, -0.0360,  0.0142]],\n",
      "\n",
      "        [[-0.0193,  0.0031,  0.0343,  ..., -0.0168,  0.0264,  0.0080],\n",
      "         [-0.0068, -0.0294,  0.0062,  ..., -0.0360, -0.0146,  0.0306]]])\n"
     ]
    }
   ],
   "source": [
    "from steves_utils.transforms import get_average_magnitude, get_average_power\n",
    "\n",
    "print(set([u for u,_ in val_original_source]))\n",
    "print(set([u for u,_ in val_original_target]))\n",
    "\n",
    "s_x, s_y, q_x, q_y, _ = next(iter(train_processed_source))\n",
    "print(s_x)\n",
    "\n",
    "# for ds in [\n",
    "#     train_processed_source,\n",
    "#     val_processed_source,\n",
    "#     test_processed_source,\n",
    "#     train_processed_target,\n",
    "#     val_processed_target,\n",
    "#     test_processed_target\n",
    "# ]:\n",
    "#     for s_x, s_y, q_x, q_y, _ in ds:\n",
    "#         for X in (s_x, q_x):\n",
    "#             for x in X:\n",
    "#                 assert np.isclose(get_average_magnitude(x.numpy()), 1.0)\n",
    "#                 assert np.isclose(get_average_power(x.numpy()), 1.0)\n",
    "                "
   ]
  },
  {
   "cell_type": "code",
   "execution_count": 21,
   "id": "bbdacba1",
   "metadata": {
    "execution": {
     "iopub.execute_input": "2022-03-25T03:50:37.873373Z",
     "iopub.status.busy": "2022-03-25T03:50:37.873107Z",
     "iopub.status.idle": "2022-03-25T03:50:37.925865Z",
     "shell.execute_reply": "2022-03-25T03:50:37.925484Z"
    },
    "papermill": {
     "duration": 0.070848,
     "end_time": "2022-03-25T03:50:37.925964",
     "exception": false,
     "start_time": "2022-03-25T03:50:37.855116",
     "status": "completed"
    },
    "tags": []
   },
   "outputs": [
    {
     "name": "stdout",
     "output_type": "stream",
     "text": [
      "(2, 200)\n"
     ]
    }
   ],
   "source": [
    "###################################\n",
    "# Build the model\n",
    "###################################\n",
    "# easfsl only wants a tuple for the shape\n",
    "model = Steves_Prototypical_Network(x_net, device=p.device, x_shape=tuple(p.x_shape))\n",
    "optimizer = Adam(params=model.parameters(), lr=p.lr)"
   ]
  },
  {
   "cell_type": "code",
   "execution_count": 22,
   "id": "22b39ac5",
   "metadata": {
    "execution": {
     "iopub.execute_input": "2022-03-25T03:50:37.964064Z",
     "iopub.status.busy": "2022-03-25T03:50:37.963800Z",
     "iopub.status.idle": "2022-03-25T04:05:54.680150Z",
     "shell.execute_reply": "2022-03-25T04:05:54.679924Z"
    },
    "papermill": {
     "duration": 916.734668,
     "end_time": "2022-03-25T04:05:54.680208",
     "exception": false,
     "start_time": "2022-03-25T03:50:37.945540",
     "status": "completed"
    },
    "tags": []
   },
   "outputs": [
    {
     "name": "stdout",
     "output_type": "stream",
     "text": [
      "epoch: 1, [batch: 1 / 6315], examples_per_second: 48.1538, train_label_loss: 2.0590, \n"
     ]
    },
    {
     "name": "stdout",
     "output_type": "stream",
     "text": [
      "epoch: 1, [batch: 632 / 6315], examples_per_second: 3516.3574, train_label_loss: 0.0834, \n"
     ]
    },
    {
     "name": "stdout",
     "output_type": "stream",
     "text": [
      "epoch: 1, [batch: 1263 / 6315], examples_per_second: 3621.5077, train_label_loss: 0.0524, \n"
     ]
    },
    {
     "name": "stdout",
     "output_type": "stream",
     "text": [
      "epoch: 1, [batch: 1895 / 6315], examples_per_second: 3602.4598, train_label_loss: 0.0013, \n"
     ]
    },
    {
     "name": "stdout",
     "output_type": "stream",
     "text": [
      "epoch: 1, [batch: 2526 / 6315], examples_per_second: 3577.4235, train_label_loss: 0.0017, \n"
     ]
    },
    {
     "name": "stdout",
     "output_type": "stream",
     "text": [
      "epoch: 1, [batch: 3158 / 6315], examples_per_second: 3581.5642, train_label_loss: 0.0010, \n"
     ]
    },
    {
     "name": "stdout",
     "output_type": "stream",
     "text": [
      "epoch: 1, [batch: 3789 / 6315], examples_per_second: 3653.4471, train_label_loss: 0.0048, \n"
     ]
    },
    {
     "name": "stdout",
     "output_type": "stream",
     "text": [
      "epoch: 1, [batch: 4420 / 6315], examples_per_second: 3578.8052, train_label_loss: 0.0005, \n"
     ]
    },
    {
     "name": "stdout",
     "output_type": "stream",
     "text": [
      "epoch: 1, [batch: 5052 / 6315], examples_per_second: 3586.6805, train_label_loss: 0.0013, \n"
     ]
    },
    {
     "name": "stdout",
     "output_type": "stream",
     "text": [
      "epoch: 1, [batch: 5683 / 6315], examples_per_second: 3713.0043, train_label_loss: 0.0001, \n"
     ]
    },
    {
     "name": "stdout",
     "output_type": "stream",
     "text": [
      "=============================================================\n",
      "epoch: 1, source_val_acc_label: 0.9975, target_val_acc_label: 0.5216, source_val_label_loss: 0.0157, target_val_label_loss: 1.9869, \n",
      "=============================================================\n"
     ]
    },
    {
     "name": "stdout",
     "output_type": "stream",
     "text": [
      "New best\n"
     ]
    },
    {
     "name": "stdout",
     "output_type": "stream",
     "text": [
      "epoch: 2, [batch: 1 / 6307], examples_per_second: 5.5279, train_label_loss: 0.0114, \n"
     ]
    },
    {
     "name": "stdout",
     "output_type": "stream",
     "text": [
      "epoch: 2, [batch: 631 / 6307], examples_per_second: 3680.4308, train_label_loss: 0.0297, \n"
     ]
    },
    {
     "name": "stdout",
     "output_type": "stream",
     "text": [
      "epoch: 2, [batch: 1262 / 6307], examples_per_second: 3700.8262, train_label_loss: 0.0000, \n"
     ]
    },
    {
     "name": "stdout",
     "output_type": "stream",
     "text": [
      "epoch: 2, [batch: 1892 / 6307], examples_per_second: 3715.1047, train_label_loss: 0.0000, \n"
     ]
    },
    {
     "name": "stdout",
     "output_type": "stream",
     "text": [
      "epoch: 2, [batch: 2523 / 6307], examples_per_second: 3684.9444, train_label_loss: 0.0009, \n"
     ]
    },
    {
     "name": "stdout",
     "output_type": "stream",
     "text": [
      "epoch: 2, [batch: 3154 / 6307], examples_per_second: 3715.1769, train_label_loss: 0.0002, \n"
     ]
    },
    {
     "name": "stdout",
     "output_type": "stream",
     "text": [
      "epoch: 2, [batch: 3784 / 6307], examples_per_second: 3655.9788, train_label_loss: 0.0001, \n"
     ]
    },
    {
     "name": "stdout",
     "output_type": "stream",
     "text": [
      "epoch: 2, [batch: 4415 / 6307], examples_per_second: 3673.4857, train_label_loss: 0.0013, \n"
     ]
    },
    {
     "name": "stdout",
     "output_type": "stream",
     "text": [
      "epoch: 2, [batch: 5045 / 6307], examples_per_second: 3698.9320, train_label_loss: 0.0003, \n"
     ]
    },
    {
     "name": "stdout",
     "output_type": "stream",
     "text": [
      "epoch: 2, [batch: 5676 / 6307], examples_per_second: 3687.2327, train_label_loss: 0.0126, \n"
     ]
    },
    {
     "name": "stdout",
     "output_type": "stream",
     "text": [
      "=============================================================\n",
      "epoch: 2, source_val_acc_label: 0.9981, target_val_acc_label: 0.5629, source_val_label_loss: 0.0153, target_val_label_loss: 1.6710, \n",
      "=============================================================\n"
     ]
    },
    {
     "name": "stdout",
     "output_type": "stream",
     "text": [
      "New best\n"
     ]
    },
    {
     "name": "stdout",
     "output_type": "stream",
     "text": [
      "epoch: 3, [batch: 1 / 6326], examples_per_second: 5.4971, train_label_loss: 0.0000, \n"
     ]
    },
    {
     "name": "stdout",
     "output_type": "stream",
     "text": [
      "epoch: 3, [batch: 633 / 6326], examples_per_second: 3589.8636, train_label_loss: 0.0023, \n"
     ]
    },
    {
     "name": "stdout",
     "output_type": "stream",
     "text": [
      "epoch: 3, [batch: 1266 / 6326], examples_per_second: 3621.4017, train_label_loss: 0.0000, \n"
     ]
    },
    {
     "name": "stdout",
     "output_type": "stream",
     "text": [
      "epoch: 3, [batch: 1898 / 6326], examples_per_second: 3636.3901, train_label_loss: 0.0005, \n"
     ]
    },
    {
     "name": "stdout",
     "output_type": "stream",
     "text": [
      "epoch: 3, [batch: 2531 / 6326], examples_per_second: 3660.4035, train_label_loss: 0.0004, \n"
     ]
    },
    {
     "name": "stdout",
     "output_type": "stream",
     "text": [
      "epoch: 3, [batch: 3163 / 6326], examples_per_second: 3661.5052, train_label_loss: 0.0000, \n"
     ]
    },
    {
     "name": "stdout",
     "output_type": "stream",
     "text": [
      "epoch: 3, [batch: 3796 / 6326], examples_per_second: 3615.4349, train_label_loss: 0.0285, \n"
     ]
    },
    {
     "name": "stdout",
     "output_type": "stream",
     "text": [
      "epoch: 3, [batch: 4428 / 6326], examples_per_second: 3610.1844, train_label_loss: 0.0002, \n"
     ]
    },
    {
     "name": "stdout",
     "output_type": "stream",
     "text": [
      "epoch: 3, [batch: 5061 / 6326], examples_per_second: 3697.3276, train_label_loss: 0.0000, \n"
     ]
    },
    {
     "name": "stdout",
     "output_type": "stream",
     "text": [
      "epoch: 3, [batch: 5693 / 6326], examples_per_second: 3717.0917, train_label_loss: 0.0001, \n"
     ]
    },
    {
     "name": "stdout",
     "output_type": "stream",
     "text": [
      "=============================================================\n",
      "epoch: 3, source_val_acc_label: 0.9990, target_val_acc_label: 0.5104, source_val_label_loss: 0.0178, target_val_label_loss: 1.9457, \n",
      "=============================================================\n"
     ]
    },
    {
     "name": "stdout",
     "output_type": "stream",
     "text": [
      "epoch: 4, [batch: 1 / 6302], examples_per_second: 5.5471, train_label_loss: 0.0000, \n"
     ]
    },
    {
     "name": "stdout",
     "output_type": "stream",
     "text": [
      "epoch: 4, [batch: 631 / 6302], examples_per_second: 3690.3382, train_label_loss: 0.0000, \n"
     ]
    },
    {
     "name": "stdout",
     "output_type": "stream",
     "text": [
      "epoch: 4, [batch: 1261 / 6302], examples_per_second: 3613.7820, train_label_loss: 0.0001, \n"
     ]
    },
    {
     "name": "stdout",
     "output_type": "stream",
     "text": [
      "epoch: 4, [batch: 1891 / 6302], examples_per_second: 3643.3375, train_label_loss: 0.0005, \n"
     ]
    },
    {
     "name": "stdout",
     "output_type": "stream",
     "text": [
      "epoch: 4, [batch: 2521 / 6302], examples_per_second: 3642.5671, train_label_loss: 0.0000, \n"
     ]
    },
    {
     "name": "stdout",
     "output_type": "stream",
     "text": [
      "epoch: 4, [batch: 3151 / 6302], examples_per_second: 3653.7100, train_label_loss: 0.0000, \n"
     ]
    },
    {
     "name": "stdout",
     "output_type": "stream",
     "text": [
      "epoch: 4, [batch: 3781 / 6302], examples_per_second: 3693.7352, train_label_loss: 0.0055, \n"
     ]
    },
    {
     "name": "stdout",
     "output_type": "stream",
     "text": [
      "epoch: 4, [batch: 4411 / 6302], examples_per_second: 3664.6014, train_label_loss: 0.0000, \n"
     ]
    },
    {
     "name": "stdout",
     "output_type": "stream",
     "text": [
      "epoch: 4, [batch: 5041 / 6302], examples_per_second: 3708.0813, train_label_loss: 0.0001, \n"
     ]
    },
    {
     "name": "stdout",
     "output_type": "stream",
     "text": [
      "epoch: 4, [batch: 5671 / 6302], examples_per_second: 3716.8067, train_label_loss: 0.0002, \n"
     ]
    },
    {
     "name": "stdout",
     "output_type": "stream",
     "text": [
      "=============================================================\n",
      "epoch: 4, source_val_acc_label: 0.9986, target_val_acc_label: 0.5403, source_val_label_loss: 0.0183, target_val_label_loss: 1.5815, \n",
      "=============================================================\n"
     ]
    },
    {
     "name": "stdout",
     "output_type": "stream",
     "text": [
      "epoch: 5, [batch: 1 / 6324], examples_per_second: 5.5559, train_label_loss: 0.0000, \n"
     ]
    },
    {
     "name": "stdout",
     "output_type": "stream",
     "text": [
      "epoch: 5, [batch: 633 / 6324], examples_per_second: 3702.9813, train_label_loss: 0.0000, \n"
     ]
    },
    {
     "name": "stdout",
     "output_type": "stream",
     "text": [
      "epoch: 5, [batch: 1265 / 6324], examples_per_second: 3705.4161, train_label_loss: 0.0000, \n"
     ]
    },
    {
     "name": "stdout",
     "output_type": "stream",
     "text": [
      "epoch: 5, [batch: 1897 / 6324], examples_per_second: 3710.0887, train_label_loss: 0.0000, \n"
     ]
    },
    {
     "name": "stdout",
     "output_type": "stream",
     "text": [
      "epoch: 5, [batch: 2530 / 6324], examples_per_second: 3673.5881, train_label_loss: 0.0000, \n"
     ]
    },
    {
     "name": "stdout",
     "output_type": "stream",
     "text": [
      "epoch: 5, [batch: 3162 / 6324], examples_per_second: 3670.8645, train_label_loss: 0.0004, \n"
     ]
    },
    {
     "name": "stdout",
     "output_type": "stream",
     "text": [
      "epoch: 5, [batch: 3794 / 6324], examples_per_second: 3670.8756, train_label_loss: 0.0000, \n"
     ]
    },
    {
     "name": "stdout",
     "output_type": "stream",
     "text": [
      "epoch: 5, [batch: 4427 / 6324], examples_per_second: 3667.7911, train_label_loss: 0.0000, \n"
     ]
    },
    {
     "name": "stdout",
     "output_type": "stream",
     "text": [
      "epoch: 5, [batch: 5059 / 6324], examples_per_second: 3695.6090, train_label_loss: 0.0001, \n"
     ]
    },
    {
     "name": "stdout",
     "output_type": "stream",
     "text": [
      "epoch: 5, [batch: 5691 / 6324], examples_per_second: 3717.8660, train_label_loss: 0.0000, \n"
     ]
    },
    {
     "name": "stdout",
     "output_type": "stream",
     "text": [
      "=============================================================\n",
      "epoch: 5, source_val_acc_label: 0.9987, target_val_acc_label: 0.5168, source_val_label_loss: 0.0159, target_val_label_loss: 1.6093, \n",
      "=============================================================\n"
     ]
    },
    {
     "name": "stdout",
     "output_type": "stream",
     "text": [
      "epoch: 6, [batch: 1 / 6313], examples_per_second: 5.5358, train_label_loss: 0.0000, \n"
     ]
    },
    {
     "name": "stdout",
     "output_type": "stream",
     "text": [
      "epoch: 6, [batch: 632 / 6313], examples_per_second: 3709.8490, train_label_loss: 0.0000, \n"
     ]
    },
    {
     "name": "stdout",
     "output_type": "stream",
     "text": [
      "epoch: 6, [batch: 1263 / 6313], examples_per_second: 3592.1566, train_label_loss: 0.0000, \n"
     ]
    },
    {
     "name": "stdout",
     "output_type": "stream",
     "text": [
      "epoch: 6, [batch: 1894 / 6313], examples_per_second: 3744.5690, train_label_loss: 0.0000, \n"
     ]
    },
    {
     "name": "stdout",
     "output_type": "stream",
     "text": [
      "epoch: 6, [batch: 2525 / 6313], examples_per_second: 3739.5872, train_label_loss: 0.0000, \n"
     ]
    },
    {
     "name": "stdout",
     "output_type": "stream",
     "text": [
      "epoch: 6, [batch: 3157 / 6313], examples_per_second: 3752.3246, train_label_loss: 0.0000, \n"
     ]
    },
    {
     "name": "stdout",
     "output_type": "stream",
     "text": [
      "epoch: 6, [batch: 3788 / 6313], examples_per_second: 3742.0255, train_label_loss: 0.0005, \n"
     ]
    },
    {
     "name": "stdout",
     "output_type": "stream",
     "text": [
      "epoch: 6, [batch: 4419 / 6313], examples_per_second: 3722.0937, train_label_loss: 0.0000, \n"
     ]
    },
    {
     "name": "stdout",
     "output_type": "stream",
     "text": [
      "epoch: 6, [batch: 5050 / 6313], examples_per_second: 3742.3988, train_label_loss: 0.0000, \n"
     ]
    },
    {
     "name": "stdout",
     "output_type": "stream",
     "text": [
      "epoch: 6, [batch: 5681 / 6313], examples_per_second: 3757.9023, train_label_loss: 0.0000, \n"
     ]
    },
    {
     "name": "stdout",
     "output_type": "stream",
     "text": [
      "=============================================================\n",
      "epoch: 6, source_val_acc_label: 0.9986, target_val_acc_label: 0.4172, source_val_label_loss: 0.0168, target_val_label_loss: 1.8035, \n",
      "=============================================================\n"
     ]
    },
    {
     "name": "stdout",
     "output_type": "stream",
     "text": [
      "Patience (3) exhausted\n"
     ]
    }
   ],
   "source": [
    "###################################\n",
    "# train\n",
    "###################################\n",
    "jig = PTN_Train_Eval_Test_Jig(model, p.BEST_MODEL_PATH, p.device)\n",
    "\n",
    "jig.train(\n",
    "    train_iterable=datasets.source.processed.train,\n",
    "    source_val_iterable=datasets.source.processed.val,\n",
    "    target_val_iterable=datasets.target.processed.val,\n",
    "    num_epochs=p.n_epoch,\n",
    "    num_logs_per_epoch=p.NUM_LOGS_PER_EPOCH,\n",
    "    patience=p.patience,\n",
    "    optimizer=optimizer,\n",
    "    criteria_for_best=p.criteria_for_best,\n",
    ")"
   ]
  },
  {
   "cell_type": "code",
   "execution_count": 23,
   "id": "31e8fabf",
   "metadata": {
    "execution": {
     "iopub.execute_input": "2022-03-25T04:05:54.736255Z",
     "iopub.status.busy": "2022-03-25T04:05:54.736009Z",
     "iopub.status.idle": "2022-03-25T04:05:54.754577Z",
     "shell.execute_reply": "2022-03-25T04:05:54.754932Z"
    },
    "papermill": {
     "duration": 0.048613,
     "end_time": "2022-03-25T04:05:54.755051",
     "exception": false,
     "start_time": "2022-03-25T04:05:54.706438",
     "status": "completed"
    },
    "tags": []
   },
   "outputs": [],
   "source": [
    "total_experiment_time_secs = time.time() - start_time_secs"
   ]
  },
  {
   "cell_type": "code",
   "execution_count": 24,
   "id": "87b9595b",
   "metadata": {
    "execution": {
     "iopub.execute_input": "2022-03-25T04:05:54.816665Z",
     "iopub.status.busy": "2022-03-25T04:05:54.816375Z",
     "iopub.status.idle": "2022-03-25T04:07:25.501660Z",
     "shell.execute_reply": "2022-03-25T04:07:25.501407Z"
    },
    "papermill": {
     "duration": 90.717417,
     "end_time": "2022-03-25T04:07:25.501725",
     "exception": false,
     "start_time": "2022-03-25T04:05:54.784308",
     "status": "completed"
    },
    "tags": []
   },
   "outputs": [],
   "source": [
    "###################################\n",
    "# Evaluate the model\n",
    "###################################\n",
    "source_test_label_accuracy, source_test_label_loss = jig.test(datasets.source.processed.test)\n",
    "target_test_label_accuracy, target_test_label_loss = jig.test(datasets.target.processed.test)\n",
    "\n",
    "source_val_label_accuracy, source_val_label_loss = jig.test(datasets.source.processed.val)\n",
    "target_val_label_accuracy, target_val_label_loss = jig.test(datasets.target.processed.val)\n",
    "\n",
    "history = jig.get_history()\n",
    "\n",
    "total_epochs_trained = len(history[\"epoch_indices\"])\n",
    "\n",
    "val_dl = Iterable_Aggregator((datasets.source.original.val,datasets.target.original.val))\n",
    "\n",
    "confusion = ptn_confusion_by_domain_over_dataloader(model, p.device, val_dl)\n",
    "per_domain_accuracy = per_domain_accuracy_from_confusion(confusion)\n",
    "\n",
    "# Add a key to per_domain_accuracy for if it was a source domain\n",
    "for domain, accuracy in per_domain_accuracy.items():\n",
    "    per_domain_accuracy[domain] = {\n",
    "        \"accuracy\": accuracy,\n",
    "        \"source?\": domain in p.domains_source\n",
    "    }\n",
    "\n",
    "# Do an independent accuracy assesment JUST TO BE SURE!\n",
    "# _source_test_label_accuracy = independent_accuracy_assesment(model, datasets.source.processed.test, p.device)\n",
    "# _target_test_label_accuracy = independent_accuracy_assesment(model, datasets.target.processed.test, p.device)\n",
    "# _source_val_label_accuracy = independent_accuracy_assesment(model, datasets.source.processed.val, p.device)\n",
    "# _target_val_label_accuracy = independent_accuracy_assesment(model, datasets.target.processed.val, p.device)\n",
    "\n",
    "# assert(_source_test_label_accuracy == source_test_label_accuracy)\n",
    "# assert(_target_test_label_accuracy == target_test_label_accuracy)\n",
    "# assert(_source_val_label_accuracy == source_val_label_accuracy)\n",
    "# assert(_target_val_label_accuracy == target_val_label_accuracy)\n",
    "\n",
    "experiment = {\n",
    "    \"experiment_name\": p.experiment_name,\n",
    "    \"parameters\": dict(p),\n",
    "    \"results\": {\n",
    "        \"source_test_label_accuracy\": source_test_label_accuracy,\n",
    "        \"source_test_label_loss\": source_test_label_loss,\n",
    "        \"target_test_label_accuracy\": target_test_label_accuracy,\n",
    "        \"target_test_label_loss\": target_test_label_loss,\n",
    "        \"source_val_label_accuracy\": source_val_label_accuracy,\n",
    "        \"source_val_label_loss\": source_val_label_loss,\n",
    "        \"target_val_label_accuracy\": target_val_label_accuracy,\n",
    "        \"target_val_label_loss\": target_val_label_loss,\n",
    "        \"total_epochs_trained\": total_epochs_trained,\n",
    "        \"total_experiment_time_secs\": total_experiment_time_secs,\n",
    "        \"confusion\": confusion,\n",
    "        \"per_domain_accuracy\": per_domain_accuracy,\n",
    "    },\n",
    "    \"history\": history,\n",
    "    \"dataset_metrics\": get_dataset_metrics(datasets, \"ptn\"),\n",
    "}"
   ]
  },
  {
   "cell_type": "code",
   "execution_count": 25,
   "id": "54a21829",
   "metadata": {
    "execution": {
     "iopub.execute_input": "2022-03-25T04:07:25.566529Z",
     "iopub.status.busy": "2022-03-25T04:07:25.566274Z",
     "iopub.status.idle": "2022-03-25T04:07:25.701679Z",
     "shell.execute_reply": "2022-03-25T04:07:25.702103Z"
    },
    "papermill": {
     "duration": 0.169644,
     "end_time": "2022-03-25T04:07:25.702236",
     "exception": false,
     "start_time": "2022-03-25T04:07:25.532592",
     "status": "completed"
    },
    "tags": []
   },
   "outputs": [
    {
     "data": {
      "image/png": "[encoded data removed]",
      "text/plain": [
       "<Figure size 1080x504 with 1 Axes>"
      ]
     },
     "metadata": {
      "needs_background": "light"
     },
     "output_type": "display_data"
    }
   ],
   "source": [
    "ax = get_loss_curve(experiment)\n",
    "plt.show()"
   ]
  },
  {
   "cell_type": "code",
   "execution_count": 26,
   "id": "fd8a0f60",
   "metadata": {
    "execution": {
     "iopub.execute_input": "2022-03-25T04:07:25.763506Z",
     "iopub.status.busy": "2022-03-25T04:07:25.763256Z",
     "iopub.status.idle": "2022-03-25T04:07:25.908749Z",
     "shell.execute_reply": "2022-03-25T04:07:25.909080Z"
    },
    "papermill": {
     "duration": 0.175497,
     "end_time": "2022-03-25T04:07:25.909190",
     "exception": false,
     "start_time": "2022-03-25T04:07:25.733693",
     "status": "completed"
    },
    "tags": []
   },
   "outputs": [
    {
     "data": {
      "text/plain": [
       "<AxesSubplot:title={'center':'Results'}>"
      ]
     },
     "execution_count": 26,
     "metadata": {},
     "output_type": "execute_result"
    },
    {
     "data": {
      "image/png": "[encoded data removed]",
      "text/plain": [
       "<Figure size 1080x504 with 1 Axes>"
      ]
     },
     "metadata": {
      "needs_background": "light"
     },
     "output_type": "display_data"
    }
   ],
   "source": [
    "get_results_table(experiment)"
   ]
  },
  {
   "cell_type": "code",
   "execution_count": 27,
   "id": "cf8dc689",
   "metadata": {
    "execution": {
     "iopub.execute_input": "2022-03-25T04:07:25.973848Z",
     "iopub.status.busy": "2022-03-25T04:07:25.973590Z",
     "iopub.status.idle": "2022-03-25T04:07:26.111061Z",
     "shell.execute_reply": "2022-03-25T04:07:26.111491Z"
    },
    "papermill": {
     "duration": 0.169443,
     "end_time": "2022-03-25T04:07:26.111622",
     "exception": false,
     "start_time": "2022-03-25T04:07:25.942179",
     "status": "completed"
    },
    "tags": []
   },
   "outputs": [
    {
     "data": {
      "text/plain": [
       "<AxesSubplot:title={'center':'Per Domain Validation Accuracy'}, xlabel='domain'>"
      ]
     },
     "execution_count": 27,
     "metadata": {},
     "output_type": "execute_result"
    },
    {
     "data": {
      "image/png": "[encoded data removed]",
      "text/plain": [
       "<Figure size 1080x504 with 1 Axes>"
      ]
     },
     "metadata": {
      "needs_background": "light"
     },
     "output_type": "display_data"
    }
   ],
   "source": [
    "get_domain_accuracies(experiment)"
   ]
  },
  {
   "cell_type": "code",
   "execution_count": 28,
   "id": "a74ae082",
   "metadata": {
    "execution": {
     "iopub.execute_input": "2022-03-25T04:07:26.180007Z",
     "iopub.status.busy": "2022-03-25T04:07:26.179739Z",
     "iopub.status.idle": "2022-03-25T04:07:26.195903Z",
     "shell.execute_reply": "2022-03-25T04:07:26.195409Z"
    },
    "papermill": {
     "duration": 0.048675,
     "end_time": "2022-03-25T04:07:26.196006",
     "exception": false,
     "start_time": "2022-03-25T04:07:26.147331",
     "status": "completed"
    },
    "tags": []
   },
   "outputs": [
    {
     "name": "stdout",
     "output_type": "stream",
     "text": [
      "Source Test Label Accuracy: 0.998377539503386 Target Test Label Accuracy: 0.5665690104166666\n",
      "Source Val Label Accuracy: 0.9981428571428571 Target Val Label Accuracy: 0.562890625\n"
     ]
    }
   ],
   "source": [
    "print(\"Source Test Label Accuracy:\", experiment[\"results\"][\"source_test_label_accuracy\"], \"Target Test Label Accuracy:\", experiment[\"results\"][\"target_test_label_accuracy\"])\n",
    "print(\"Source Val Label Accuracy:\", experiment[\"results\"][\"source_val_label_accuracy\"], \"Target Val Label Accuracy:\", experiment[\"results\"][\"target_val_label_accuracy\"])"
   ]
  },
  {
   "cell_type": "code",
   "execution_count": 29,
   "id": "dacca602",
   "metadata": {
    "execution": {
     "iopub.execute_input": "2022-03-25T04:07:26.263842Z",
     "iopub.status.busy": "2022-03-25T04:07:26.263588Z",
     "iopub.status.idle": "2022-03-25T04:07:26.279862Z",
     "shell.execute_reply": "2022-03-25T04:07:26.279371Z"
    },
    "papermill": {
     "duration": 0.048348,
     "end_time": "2022-03-25T04:07:26.279965",
     "exception": false,
     "start_time": "2022-03-25T04:07:26.231617",
     "status": "completed"
    },
    "tags": [
     "experiment_json"
    ]
   },
   "outputs": [
    {
     "data": {
      "text/plain": [
       "'{\"experiment_name\": \"tl_3Av2:cores -> oracle.run1.framed\", \"parameters\": {\"experiment_name\": \"tl_3Av2:cores -> oracle.run1.framed\", \"device\": \"cuda\", \"lr\": 0.0001, \"x_shape\": [2, 200], \"n_shot\": 3, \"n_query\": 2, \"train_k_factor\": 3, \"val_k_factor\": 2, \"test_k_factor\": 2, \"torch_default_dtype\": \"torch.float32\", \"n_epoch\": 50, \"patience\": 3, \"criteria_for_best\": \"target_accuracy\", \"x_net\": [{\"class\": \"nnReshape\", \"kargs\": {\"shape\": [-1, 1, 2, 200]}}, {\"class\": \"Conv2d\", \"kargs\": {\"in_channels\": 1, \"out_channels\": 256, \"kernel_size\": [1, 7], \"bias\": false, \"padding\": [0, 3]}}, {\"class\": \"ReLU\", \"kargs\": {\"inplace\": true}}, {\"class\": \"BatchNorm2d\", \"kargs\": {\"num_features\": 256}}, {\"class\": \"Conv2d\", \"kargs\": {\"in_channels\": 256, \"out_channels\": 80, \"kernel_size\": [2, 7], \"bias\": true, \"padding\": [0, 3]}}, {\"class\": \"ReLU\", \"kargs\": {\"inplace\": true}}, {\"class\": \"BatchNorm2d\", \"kargs\": {\"num_features\": 80}}, {\"class\": \"Flatten\", \"kargs\": {}}, {\"class\": \"Linear\", \"kargs\": {\"in_features\": 16000, \"out_features\": 256}}, {\"class\": \"ReLU\", \"kargs\": {\"inplace\": true}}, {\"class\": \"BatchNorm1d\", \"kargs\": {\"num_features\": 256}}, {\"class\": \"Linear\", \"kargs\": {\"in_features\": 256, \"out_features\": 256}}], \"NUM_LOGS_PER_EPOCH\": 10, \"BEST_MODEL_PATH\": \"./best_model.pth\", \"n_way\": 16, \"datasets\": [{\"labels\": [\"1-10.\", \"1-11.\", \"1-15.\", \"1-16.\", \"1-17.\", \"1-18.\", \"1-19.\", \"10-4.\", \"10-7.\", \"11-1.\", \"11-14.\", \"11-17.\", \"11-20.\", \"11-7.\", \"13-20.\", \"13-8.\", \"14-10.\", \"14-11.\", \"14-14.\", \"14-7.\", \"15-1.\", \"15-20.\", \"16-1.\", \"16-16.\", \"17-10.\", \"17-11.\", \"17-2.\", \"19-1.\", \"19-16.\", \"19-19.\", \"19-20.\", \"19-3.\", \"2-10.\", \"2-11.\", \"2-17.\", \"2-18.\", \"2-20.\", \"2-3.\", \"2-4.\", \"2-5.\", \"2-6.\", \"2-7.\", \"2-8.\", \"3-13.\", \"3-18.\", \"3-3.\", \"4-1.\", \"4-10.\", \"4-11.\", \"4-19.\", \"5-5.\", \"6-15.\", \"7-10.\", \"7-14.\", \"8-18.\", \"8-20.\", \"8-3.\", \"8-8.\"], \"domains\": [1, 2, 3, 4, 5], \"num_examples_per_domain_per_label\": -1, \"pickle_path\": \"/mnt/wd500GB/CSC500/csc500-main/datasets/cores.stratified_ds.2022A.pkl\", \"source_or_target_dataset\": \"source\", \"x_transforms\": [\"take_200\"], \"episode_transforms\": [], \"domain_prefix\": \"C_\"}, {\"labels\": [\"3123D52\", \"3123D65\", \"3123D79\", \"3123D80\", \"3123D54\", \"3123D70\", \"3123D7B\", \"3123D89\", \"3123D58\", \"3123D76\", \"3123D7D\", \"3123EFE\", \"3123D64\", \"3123D78\", \"3123D7E\", \"3124E4A\"], \"domains\": [32, 38, 8, 44, 14, 50, 20, 26], \"num_examples_per_domain_per_label\": 2000, \"pickle_path\": \"/mnt/wd500GB/CSC500/csc500-main/datasets/oracle.Run1_framed_2000Examples_stratified_ds.2022A.pkl\", \"source_or_target_dataset\": \"target\", \"x_transforms\": [\"take_200\", \"resample_20Msps_to_25Msps\"], \"episode_transforms\": [], \"domain_prefix\": \"O_\"}], \"seed\": 420, \"dataset_seed\": 420, \"domains_source\": [\"C_1\", \"C_2\", \"C_3\", \"C_4\", \"C_5\"], \"domains_target\": [\"O_32\", \"O_38\", \"O_8\", \"O_44\", \"O_14\", \"O_50\", \"O_20\", \"O_26\"]}, \"results\": {\"source_test_label_accuracy\": 0.998377539503386, \"source_test_label_loss\": 0.011057557538151741, \"target_test_label_accuracy\": 0.5665690104166666, \"target_test_label_loss\": 1.667899250984192, \"source_val_label_accuracy\": 0.9981428571428571, \"source_val_label_loss\": 0.015281524509191513, \"target_val_label_accuracy\": 0.562890625, \"target_val_label_loss\": 1.6709569692611694, \"total_epochs_trained\": 6, \"total_experiment_time_secs\": 940.3934240341187, \"confusion\": {\"C_4\": {\"42\": {\"42\": 32}, \"0\": {\"0\": 80}, \"1\": {\"1\": 40}, \"39\": {\"39\": 20}, \"28\": {\"28\": 31, \"34\": 1}, \"53\": {\"53\": 124}, \"19\": {\"19\": 144}, \"34\": {\"34\": 24}, \"33\": {\"33\": 36}, \"32\": {\"32\": 24}, \"10\": {\"10\": 136}, \"46\": {\"46\": 134}, \"20\": {\"20\": 122}, \"5\": {\"5\": 108}, \"40\": {\"40\": 124}, \"51\": {\"51\": 144}, \"37\": {\"37\": 24}, \"17\": {\"17\": 80}, \"45\": {\"45\": 96}, \"13\": {\"13\": 142}, \"27\": {\"27\": 144}, \"24\": {\"24\": 56}, \"30\": {\"30\": 44}, \"31\": {\"31\": 28}, \"41\": {\"41\": 34, \"10\": 1, \"13\": 1}, \"36\": {\"36\": 92}, \"16\": {\"16\": 96}, \"22\": {\"22\": 128}, \"44\": {\"44\": 132}, \"9\": {\"9\": 140}, \"57\": {\"57\": 100}, \"8\": {\"8\": 138}, \"23\": {\"23\": 132}, \"47\": {\"47\": 120}, \"43\": {\"43\": 138}, \"49\": {\"49\": 20}, \"3\": {\"3\": 123, \"50\": 1}, \"12\": {\"12\": 92}, \"38\": {\"38\": 40}, \"7\": {\"7\": 24}, \"14\": {\"14\": 16}, \"15\": {\"15\": 141, \"11\": 5}, \"25\": {\"25\": 128}, \"26\": {\"26\": 24}, \"21\": {\"21\": 132}, \"48\": {\"48\": 144}, \"56\": {\"56\": 134}, \"11\": {\"11\": 102, \"15\": 2}, \"2\": {\"2\": 36}, \"6\": {\"6\": 112}, \"55\": {\"55\": 140}, \"54\": {\"54\": 108}, \"29\": {\"29\": 124}, \"50\": {\"50\": 119, \"3\": 3}, \"52\": {\"52\": 116}, \"35\": {\"35\": 40}, \"4\": {\"4\": 120}, \"18\": {\"18\": 108}}, \"C_5\": {\"43\": {\"43\": 152}, \"35\": {\"35\": 36}, \"54\": {\"54\": 112}, \"22\": {\"22\": 28}, \"16\": {\"16\": 146}, \"5\": {\"5\": 128}, \"28\": {\"28\": 32}, \"14\": {\"14\": 44}, \"51\": {\"51\": 128}, \"19\": {\"19\": 139, \"34\": 1}, \"31\": {\"31\": 36}, \"10\": {\"10\": 68}, \"21\": {\"21\": 136}, \"3\": {\"3\": 100}, \"57\": {\"57\": 132}, \"9\": {\"9\": 146}, \"8\": {\"8\": 132}, \"46\": {\"46\": 140}, \"23\": {\"23\": 124}, \"37\": {\"37\": 24}, \"34\": {\"34\": 36}, \"4\": {\"4\": 100}, \"6\": {\"6\": 127, \"50\": 1}, \"48\": {\"48\": 136}, \"44\": {\"44\": 138}, \"40\": {\"40\": 124}, \"12\": {\"12\": 96}, \"30\": {\"30\": 128}, \"39\": {\"39\": 20}, \"45\": {\"45\": 122, \"50\": 1, \"6\": 1}, \"36\": {\"36\": 92}, \"27\": {\"27\": 140}, \"32\": {\"32\": 32}, \"52\": {\"52\": 130}, \"0\": {\"0\": 124}, \"26\": {\"26\": 24}, \"1\": {\"1\": 148}, \"53\": {\"53\": 146}, \"25\": {\"25\": 143, \"18\": 1}, \"24\": {\"24\": 80}, \"7\": {\"7\": 32}, \"18\": {\"18\": 64}, \"20\": {\"20\": 144}, \"33\": {\"33\": 32}, \"55\": {\"55\": 140}, \"41\": {\"41\": 28}, \"42\": {\"42\": 39, \"14\": 1}, \"49\": {\"49\": 36}, \"13\": {\"13\": 148}, \"38\": {\"38\": 32}, \"2\": {\"2\": 28}, \"47\": {\"47\": 100}, \"17\": {\"17\": 116}, \"11\": {\"11\": 149, \"15\": 5}, \"29\": {\"29\": 132}, \"50\": {\"50\": 138}, \"56\": {\"56\": 148}, \"15\": {\"15\": 137, \"11\": 5}}, \"C_2\": {\"49\": {\"49\": 24}, \"13\": {\"13\": 116}, \"37\": {\"37\": 36}, \"41\": {\"41\": 19, \"1\": 1}, \"15\": {\"15\": 142}, \"56\": {\"56\": 140, \"0\": 1, \"42\": 1}, \"14\": {\"14\": 24}, \"3\": {\"3\": 92}, \"38\": {\"38\": 20}, \"43\": {\"43\": 138}, \"33\": {\"33\": 28}, \"47\": {\"47\": 138}, \"30\": {\"30\": 144}, \"39\": {\"39\": 28}, \"12\": {\"12\": 92}, \"6\": {\"6\": 124}, \"51\": {\"51\": 134}, \"5\": {\"5\": 120}, \"34\": {\"34\": 28}, \"35\": {\"35\": 32}, \"0\": {\"0\": 48}, \"7\": {\"7\": 36}, \"24\": {\"24\": 96}, \"8\": {\"8\": 136}, \"20\": {\"20\": 124}, \"36\": {\"36\": 116}, \"42\": {\"42\": 36}, \"1\": {\"1\": 112}, \"4\": {\"4\": 148}, \"28\": {\"28\": 28}, \"50\": {\"50\": 136}, \"45\": {\"45\": 128}, \"18\": {\"18\": 48}, \"57\": {\"57\": 120}, \"46\": {\"46\": 128}, \"23\": {\"23\": 148}, \"27\": {\"27\": 138}, \"19\": {\"19\": 134}, \"22\": {\"22\": 136}, \"17\": {\"17\": 104}, \"55\": {\"55\": 136}, \"44\": {\"44\": 100}, \"26\": {\"26\": 24}, \"31\": {\"31\": 28}, \"16\": {\"16\": 130}, \"11\": {\"11\": 127, \"10\": 1}, \"25\": {\"25\": 126}, \"54\": {\"54\": 108}, \"32\": {\"32\": 28}, \"52\": {\"52\": 124}, \"40\": {\"40\": 130, \"29\": 1, \"9\": 1}, \"2\": {\"2\": 32}, \"10\": {\"10\": 110}, \"53\": {\"53\": 136}, \"9\": {\"9\": 150}, \"21\": {\"21\": 120}, \"48\": {\"48\": 138}, \"29\": {\"29\": 128}}, \"C_1\": {\"9\": {\"9\": 142}, \"25\": {\"25\": 128}, \"41\": {\"41\": 24}, \"29\": {\"29\": 140}, \"46\": {\"46\": 128}, \"4\": {\"4\": 132}, \"31\": {\"31\": 28}, \"36\": {\"36\": 64}, \"20\": {\"20\": 128}, \"7\": {\"7\": 28}, \"6\": {\"6\": 96}, \"16\": {\"16\": 138}, \"17\": {\"17\": 64}, \"50\": {\"50\": 148}, \"57\": {\"57\": 144}, \"23\": {\"23\": 136}, \"3\": {\"3\": 125, \"0\": 1}, \"53\": {\"53\": 140}, \"49\": {\"49\": 32}, \"56\": {\"56\": 152}, \"51\": {\"51\": 142}, \"26\": {\"26\": 24}, \"43\": {\"43\": 144}, \"22\": {\"22\": 136}, \"45\": {\"45\": 146}, \"13\": {\"13\": 152}, \"12\": {\"12\": 116}, \"54\": {\"54\": 104}, \"24\": {\"24\": 108}, \"44\": {\"44\": 136}, \"28\": {\"28\": 28}, \"33\": {\"33\": 32}, \"38\": {\"38\": 24}, \"0\": {\"0\": 144}, \"47\": {\"47\": 154}, \"42\": {\"42\": 40}, \"34\": {\"34\": 24}, \"48\": {\"48\": 142}, \"35\": {\"35\": 36}, \"2\": {\"2\": 36}, \"30\": {\"30\": 120}, \"18\": {\"18\": 72}, \"37\": {\"37\": 32}, \"1\": {\"1\": 100}, \"11\": {\"11\": 138}, \"55\": {\"55\": 130}, \"15\": {\"15\": 150}, \"10\": {\"10\": 96}, \"27\": {\"27\": 160}, \"19\": {\"19\": 146}, \"14\": {\"30\": 1, \"14\": 23}, \"8\": {\"8\": 140}, \"5\": {\"5\": 136}, \"39\": {\"39\": 28}, \"52\": {\"52\": 122}, \"21\": {\"21\": 124}, \"40\": {\"40\": 152}, \"32\": {\"32\": 32}}, \"C_3\": {\"56\": {\"56\": 120}, \"4\": {\"4\": 146}, \"34\": {\"34\": 32}, \"52\": {\"52\": 136}, \"32\": {\"32\": 28}, \"46\": {\"46\": 136}, \"12\": {\"12\": 88, \"21\": 2, \"46\": 2}, \"20\": {\"20\": 132}, \"54\": {\"54\": 100}, \"22\": {\"22\": 140}, \"26\": {\"26\": 24}, \"31\": {\"31\": 28}, \"10\": {\"10\": 64}, \"27\": {\"27\": 144}, \"40\": {\"40\": 136}, \"28\": {\"28\": 28}, \"5\": {\"5\": 116}, \"30\": {\"30\": 120}, \"7\": {\"7\": 36}, \"18\": {\"18\": 84}, \"39\": {\"39\": 16}, \"50\": {\"50\": 135, \"3\": 1}, \"49\": {\"49\": 20}, \"43\": {\"43\": 122}, \"29\": {\"29\": 114}, \"35\": {\"35\": 28}, \"13\": {\"13\": 122, \"43\": 2}, \"36\": {\"36\": 100}, \"11\": {\"11\": 146}, \"57\": {\"57\": 124}, \"9\": {\"9\": 130}, \"25\": {\"25\": 130}, \"16\": {\"16\": 126}, \"53\": {\"53\": 118}, \"33\": {\"33\": 28}, \"51\": {\"51\": 128}, \"44\": {\"44\": 88}, \"48\": {\"48\": 113, \"41\": 1}, \"6\": {\"6\": 88}, \"23\": {\"23\": 144}, \"1\": {\"1\": 100}, \"17\": {\"38\": 2, \"17\": 104, \"53\": 2}, \"21\": {\"21\": 122}, \"14\": {\"14\": 40}, \"55\": {\"55\": 144}, \"41\": {\"41\": 27, \"48\": 1}, \"3\": {\"3\": 137, \"50\": 1}, \"38\": {\"38\": 28}, \"2\": {\"2\": 32}, \"8\": {\"8\": 142}, \"37\": {\"37\": 28}, \"45\": {\"45\": 60}, \"42\": {\"42\": 28}, \"24\": {\"24\": 104}, \"15\": {\"15\": 136}, \"0\": {\"0\": 124}, \"47\": {\"47\": 92}, \"19\": {\"19\": 120}}, \"O_14\": {\"15\": {\"15\": 240}, \"5\": {\"8\": 27, \"13\": 3, \"14\": 16, \"0\": 10, \"2\": 42, \"5\": 120, \"7\": 5, \"4\": 11, \"3\": 5, \"6\": 1}, \"7\": {\"7\": 205, \"5\": 7, \"3\": 10, \"8\": 16, \"0\": 1, \"13\": 1}, \"4\": {\"4\": 188, \"5\": 14, \"2\": 16, \"14\": 2, \"1\": 3, \"0\": 7, \"12\": 7, \"10\": 2, \"9\": 1}, \"10\": {\"10\": 209, \"9\": 26, \"12\": 2, \"4\": 3}, \"11\": {\"11\": 236, \"1\": 1, \"9\": 3}, \"12\": {\"12\": 217, \"14\": 1, \"0\": 14, \"9\": 2, \"4\": 2, \"10\": 3, \"8\": 1}, \"0\": {\"12\": 16, \"0\": 72, \"13\": 20, \"5\": 11, \"4\": 19, \"3\": 27, \"14\": 35, \"2\": 18, \"6\": 19, \"8\": 3}, \"14\": {\"13\": 27, \"14\": 88, \"6\": 29, \"5\": 16, \"3\": 10, \"2\": 42, \"0\": 28}, \"8\": {\"8\": 194, \"5\": 29, \"7\": 7, \"0\": 3, \"2\": 2, \"3\": 4, \"12\": 1}, \"13\": {\"6\": 80, \"3\": 14, \"13\": 54, \"14\": 45, \"4\": 5, \"0\": 11, \"15\": 14, \"2\": 13, \"5\": 3, \"10\": 1}, \"6\": {\"3\": 24, \"6\": 103, \"0\": 10, \"14\": 31, \"13\": 61, \"2\": 11}, \"1\": {\"1\": 214, \"9\": 18, \"4\": 8}, \"3\": {\"3\": 124, \"0\": 34, \"13\": 12, \"8\": 2, \"6\": 35, \"5\": 8, \"2\": 14, \"14\": 10, \"7\": 1}, \"9\": {\"9\": 193, \"10\": 32, \"1\": 12, \"12\": 2, \"4\": 1}, \"2\": {\"5\": 42, \"6\": 23, \"14\": 35, \"4\": 42, \"2\": 41, \"3\": 19, \"13\": 18, \"0\": 16, \"8\": 3, \"7\": 1}}, \"O_20\": {\"4\": {\"4\": 119, \"6\": 6, \"12\": 38, \"15\": 10, \"14\": 10, \"10\": 34, \"2\": 13, \"13\": 4, \"9\": 1, \"7\": 3, \"1\": 1, \"3\": 1}, \"10\": {\"4\": 61, \"10\": 168, \"15\": 1, \"13\": 6, \"12\": 3, \"6\": 1}, \"15\": {\"5\": 14, \"13\": 41, \"2\": 37, \"1\": 26, \"7\": 12, \"12\": 31, \"15\": 37, \"9\": 23, \"4\": 3, \"3\": 14, \"8\": 1, \"14\": 1}, \"0\": {\"0\": 190, \"8\": 26, \"11\": 6, \"3\": 8, \"9\": 3, \"1\": 3, \"5\": 4}, \"6\": {\"7\": 47, \"14\": 33, \"2\": 25, \"4\": 5, \"6\": 93, \"13\": 12, \"9\": 4, \"15\": 6, \"3\": 4, \"1\": 2, \"8\": 5, \"5\": 2, \"12\": 2}, \"3\": {\"5\": 42, \"1\": 29, \"14\": 25, \"9\": 28, \"3\": 48, \"8\": 29, \"15\": 11, \"0\": 8, \"7\": 10, \"2\": 8, \"12\": 1, \"6\": 1}, \"7\": {\"13\": 30, \"7\": 43, \"14\": 23, \"15\": 18, \"2\": 39, \"9\": 19, \"6\": 23, \"3\": 12, \"1\": 7, \"5\": 10, \"8\": 8, \"12\": 8}, \"2\": {\"15\": 24, \"13\": 52, \"2\": 41, \"9\": 23, \"8\": 2, \"6\": 18, \"14\": 2, \"12\": 26, \"7\": 21, \"3\": 2, \"5\": 15, \"1\": 9, \"4\": 5}, \"8\": {\"8\": 90, \"3\": 27, \"5\": 14, \"14\": 61, \"6\": 4, \"9\": 17, \"0\": 15, \"1\": 3, \"7\": 8, \"2\": 1}, \"11\": {\"11\": 232, \"0\": 7, \"8\": 1}, \"14\": {\"14\": 100, \"6\": 23, \"8\": 66, \"5\": 14, \"3\": 21, \"7\": 8, \"9\": 6, \"15\": 1, \"1\": 1}, \"12\": {\"4\": 42, \"12\": 54, \"2\": 37, \"13\": 25, \"15\": 33, \"3\": 6, \"9\": 9, \"1\": 15, \"7\": 6, \"6\": 5, \"5\": 5, \"8\": 2, \"14\": 1}, \"13\": {\"13\": 131, \"2\": 39, \"15\": 26, \"7\": 12, \"12\": 20, \"1\": 2, \"9\": 6, \"6\": 4}, \"9\": {\"5\": 31, \"13\": 5, \"9\": 39, \"1\": 38, \"12\": 6, \"8\": 10, \"15\": 17, \"2\": 20, \"3\": 37, \"14\": 8, \"6\": 6, \"7\": 23}, \"5\": {\"8\": 25, \"5\": 43, \"3\": 44, \"1\": 38, \"9\": 39, \"14\": 7, \"7\": 20, \"15\": 11, \"12\": 4, \"2\": 8, \"0\": 1}, \"1\": {\"5\": 37, \"1\": 50, \"15\": 31, \"7\": 13, \"3\": 31, \"13\": 6, \"8\": 6, \"12\": 7, \"9\": 36, \"2\": 20, \"14\": 2, \"6\": 1}}, \"O_50\": {\"5\": {\"7\": 58, \"5\": 62, \"15\": 28, \"4\": 22, \"6\": 35, \"13\": 9, \"11\": 12, \"3\": 14}, \"12\": {\"11\": 14, \"9\": 51, \"12\": 172, \"6\": 2, \"15\": 1}, \"14\": {\"14\": 160, \"2\": 63, \"0\": 17}, \"4\": {\"4\": 110, \"7\": 100, \"15\": 7, \"5\": 16, \"6\": 6, \"9\": 1}, \"13\": {\"1\": 41, \"13\": 189, \"5\": 1, \"8\": 3, \"3\": 6}, \"10\": {\"10\": 157, \"8\": 35, \"0\": 37, \"1\": 10, \"2\": 1}, \"9\": {\"11\": 24, \"6\": 13, \"9\": 123, \"12\": 39, \"5\": 2, \"15\": 37, \"4\": 2}, \"15\": {\"11\": 17, \"7\": 2, \"15\": 101, \"6\": 74, \"9\": 22, \"12\": 1, \"5\": 19, \"4\": 3, \"3\": 1}, \"6\": {\"15\": 79, \"6\": 81, \"5\": 32, \"9\": 23, \"3\": 4, \"11\": 19, \"12\": 1, \"4\": 1}, \"2\": {\"2\": 140, \"0\": 62, \"14\": 33, \"10\": 5}, \"0\": {\"0\": 150, \"10\": 38, \"2\": 47, \"14\": 5}, \"11\": {\"11\": 148, \"6\": 30, \"9\": 24, \"15\": 11, \"12\": 23, \"5\": 3, \"1\": 1}, \"3\": {\"5\": 14, \"3\": 204, \"13\": 10, \"11\": 2, \"6\": 10}, \"8\": {\"8\": 187, \"10\": 26, \"1\": 18, \"13\": 9}, \"7\": {\"7\": 145, \"4\": 73, \"15\": 3, \"5\": 17, \"6\": 2}, \"1\": {\"8\": 23, \"1\": 156, \"13\": 41, \"10\": 16, \"0\": 3, \"11\": 1}}, \"O_26\": {\"7\": {\"7\": 64, \"9\": 41, \"3\": 36, \"8\": 61, \"0\": 13, \"2\": 17, \"13\": 1, \"12\": 6, \"10\": 1}, \"6\": {\"5\": 36, \"1\": 33, \"14\": 16, \"6\": 79, \"15\": 60, \"10\": 15, \"0\": 1}, \"14\": {\"14\": 69, \"10\": 73, \"0\": 47, \"6\": 2, \"2\": 6, \"15\": 3, \"1\": 38, \"5\": 1, \"8\": 1}, \"15\": {\"2\": 5, \"15\": 86, \"5\": 63, \"6\": 48, \"1\": 16, \"10\": 9, \"11\": 2, \"8\": 1, \"14\": 9, \"0\": 1}, \"5\": {\"5\": 122, \"15\": 52, \"6\": 31, \"1\": 18, \"11\": 15, \"14\": 1, \"10\": 1}, \"10\": {\"14\": 65, \"10\": 75, \"2\": 5, \"6\": 13, \"1\": 18, \"15\": 9, \"0\": 52, \"8\": 2, \"5\": 1}, \"4\": {\"4\": 227, \"13\": 6, \"12\": 3, \"3\": 3, \"8\": 1}, \"11\": {\"11\": 175, \"1\": 11, \"5\": 35, \"10\": 2, \"6\": 9, \"15\": 8}, \"13\": {\"13\": 151, \"9\": 22, \"7\": 15, \"3\": 22, \"8\": 3, \"4\": 5, \"2\": 12, \"12\": 9, \"0\": 1}, \"2\": {\"9\": 40, \"2\": 84, \"7\": 30, \"8\": 29, \"0\": 17, \"3\": 15, \"13\": 7, \"14\": 4, \"10\": 10, \"15\": 4}, \"0\": {\"6\": 5, \"2\": 20, \"8\": 13, \"0\": 96, \"14\": 49, \"10\": 42, \"7\": 8, \"12\": 1, \"15\": 3, \"1\": 2, \"9\": 1}, \"12\": {\"12\": 172, \"9\": 7, \"2\": 1, \"3\": 9, \"13\": 18, \"8\": 15, \"7\": 12, \"0\": 6}, \"3\": {\"3\": 85, \"8\": 27, \"9\": 33, \"13\": 38, \"7\": 44, \"2\": 9, \"12\": 3, \"0\": 1}, \"9\": {\"8\": 24, \"9\": 48, \"12\": 16, \"13\": 33, \"7\": 26, \"3\": 37, \"2\": 39, \"0\": 14, \"10\": 3}, \"8\": {\"3\": 14, \"9\": 28, \"8\": 73, \"7\": 67, \"13\": 9, \"0\": 17, \"12\": 11, \"2\": 18, \"10\": 2, \"14\": 1}, \"1\": {\"1\": 149, \"14\": 31, \"0\": 4, \"10\": 16, \"6\": 27, \"15\": 7, \"5\": 6}}, \"O_32\": {\"7\": {\"7\": 102, \"14\": 50, \"0\": 26, \"5\": 57, \"8\": 5}, \"2\": {\"2\": 131, \"13\": 1, \"8\": 12, \"4\": 80, \"3\": 2, \"0\": 4, \"14\": 10}, \"5\": {\"5\": 116, \"7\": 49, \"0\": 29, \"14\": 27, \"8\": 14, \"2\": 2, \"15\": 3}, \"6\": {\"6\": 230, \"10\": 10}, \"13\": {\"4\": 29, \"13\": 116, \"3\": 55, \"11\": 25, \"9\": 7, \"2\": 7, \"8\": 1}, \"4\": {\"3\": 30, \"4\": 114, \"13\": 19, \"2\": 71, \"8\": 3, \"14\": 1, \"9\": 1, \"11\": 1}, \"3\": {\"3\": 132, \"4\": 39, \"13\": 57, \"2\": 4, \"8\": 6, \"0\": 1, \"11\": 1}, \"0\": {\"0\": 73, \"5\": 37, \"8\": 47, \"14\": 40, \"7\": 31, \"15\": 9, \"2\": 3}, \"9\": {\"9\": 171, \"13\": 23, \"12\": 27, \"11\": 9, \"2\": 1, \"4\": 5, \"3\": 4}, \"12\": {\"12\": 234, \"6\": 1, \"9\": 5}, \"8\": {\"7\": 12, \"8\": 112, \"0\": 66, \"14\": 14, \"5\": 18, \"15\": 8, \"2\": 5, \"4\": 4, \"3\": 1}, \"14\": {\"14\": 85, \"0\": 33, \"7\": 49, \"2\": 33, \"5\": 22, \"8\": 7, \"4\": 10, \"15\": 1}, \"15\": {\"8\": 7, \"15\": 225, \"0\": 8}, \"11\": {\"11\": 206, \"13\": 29, \"9\": 4, \"3\": 1}, \"10\": {\"10\": 239, \"12\": 1}, \"1\": {\"1\": 240}}, \"O_44\": {\"11\": {\"11\": 237, \"13\": 3}, \"7\": {\"9\": 65, \"7\": 106, \"10\": 27, \"4\": 23, \"6\": 10, \"15\": 1, \"14\": 6, \"5\": 2}, \"6\": {\"6\": 140, \"9\": 25, \"13\": 72, \"7\": 3}, \"12\": {\"3\": 97, \"12\": 143}, \"4\": {\"14\": 35, \"9\": 37, \"7\": 48, \"5\": 24, \"4\": 47, \"15\": 25, \"2\": 7, \"8\": 6, \"10\": 7, \"6\": 3, \"13\": 1}, \"13\": {\"13\": 141, \"6\": 78, \"9\": 16, \"11\": 5}, \"8\": {\"15\": 65, \"8\": 94, \"0\": 64, \"5\": 7, \"4\": 1, \"14\": 8, \"1\": 1}, \"5\": {\"5\": 85, \"9\": 9, \"7\": 5, \"4\": 38, \"14\": 58, \"15\": 28, \"8\": 14, \"2\": 3}, \"14\": {\"14\": 85, \"15\": 29, \"5\": 43, \"7\": 22, \"9\": 11, \"4\": 44, \"8\": 1, \"10\": 2, \"2\": 3}, \"3\": {\"12\": 119, \"3\": 119, \"1\": 1, \"0\": 1}, \"10\": {\"10\": 109, \"7\": 70, \"2\": 10, \"9\": 24, \"4\": 8, \"14\": 4, \"1\": 10, \"5\": 1, \"6\": 2, \"15\": 2}, \"1\": {\"1\": 173, \"2\": 58, \"10\": 1, \"0\": 2, \"15\": 4, \"8\": 2}, \"2\": {\"2\": 174, \"1\": 30, \"10\": 8, \"14\": 5, \"7\": 7, \"0\": 1, \"15\": 5, \"4\": 6, \"5\": 2, \"9\": 2}, \"15\": {\"15\": 99, \"8\": 48, \"14\": 42, \"0\": 8, \"1\": 4, \"5\": 22, \"2\": 3, \"4\": 14}, \"9\": {\"7\": 60, \"10\": 9, \"13\": 26, \"6\": 38, \"9\": 72, \"1\": 1, \"5\": 5, \"4\": 13, \"14\": 12, \"2\": 2, \"15\": 2}, \"0\": {\"8\": 52, \"0\": 170, \"2\": 3, \"15\": 11, \"4\": 2, \"1\": 1, \"14\": 1}}, \"O_8\": {\"10\": {\"5\": 43, \"10\": 64, \"13\": 40, \"7\": 33, \"6\": 35, \"1\": 12, \"4\": 10, \"11\": 3}, \"6\": {\"7\": 49, \"13\": 13, \"6\": 106, \"10\": 22, \"1\": 11, \"4\": 28, \"5\": 5, \"11\": 5, \"8\": 1}, \"13\": {\"7\": 43, \"10\": 44, \"13\": 117, \"6\": 20, \"5\": 16}, \"3\": {\"3\": 211, \"2\": 29}, \"9\": {\"9\": 237, \"3\": 3}, \"1\": {\"11\": 50, \"1\": 84, \"4\": 29, \"5\": 37, \"8\": 10, \"10\": 18, \"13\": 2, \"7\": 2, \"6\": 8}, \"5\": {\"10\": 63, \"5\": 88, \"7\": 5, \"13\": 22, \"1\": 35, \"14\": 2, \"4\": 12, \"11\": 7, \"6\": 5, \"12\": 1}, \"11\": {\"5\": 11, \"11\": 68, \"13\": 1, \"1\": 63, \"14\": 23, \"4\": 26, \"8\": 40, \"6\": 3, \"10\": 4, \"7\": 1}, \"4\": {\"4\": 129, \"11\": 25, \"1\": 18, \"14\": 38, \"8\": 18, \"6\": 7, \"5\": 3, \"7\": 1, \"10\": 1}, \"14\": {\"14\": 171, \"4\": 37, \"8\": 15, \"11\": 15, \"0\": 1, \"1\": 1}, \"12\": {\"12\": 145, \"15\": 93, \"2\": 2}, \"7\": {\"7\": 93, \"6\": 67, \"10\": 30, \"13\": 43, \"5\": 4, \"11\": 2, \"1\": 1}, \"0\": {\"0\": 239, \"14\": 1}, \"15\": {\"15\": 141, \"12\": 90, \"2\": 9}, \"2\": {\"2\": 148, \"15\": 22, \"3\": 48, \"12\": 21, \"13\": 1}, \"8\": {\"8\": 120, \"11\": 48, \"10\": 1, \"14\": 9, \"4\": 35, \"1\": 22, \"6\": 4, \"7\": 1}}, \"O_38\": {\"4\": {\"4\": 234, \"14\": 1, \"10\": 3, \"0\": 2}, \"7\": {\"7\": 151, \"8\": 5, \"14\": 33, \"2\": 31, \"9\": 6, \"13\": 2, \"5\": 8, \"0\": 4}, \"12\": {\"12\": 236, \"8\": 2, \"5\": 2}, \"10\": {\"10\": 162, \"0\": 47, \"4\": 13, \"13\": 15, \"14\": 1, \"3\": 2}, \"0\": {\"13\": 63, \"0\": 60, \"2\": 6, \"10\": 83, \"7\": 15, \"3\": 9, \"9\": 2, \"4\": 1, \"14\": 1}, \"1\": {\"6\": 90, \"15\": 2, \"1\": 148}, \"5\": {\"8\": 71, \"7\": 17, \"5\": 76, \"2\": 16, \"15\": 25, \"9\": 30, \"12\": 5}, \"15\": {\"5\": 28, \"15\": 180, \"8\": 17, \"1\": 8, \"6\": 5, \"9\": 1, \"12\": 1}, \"9\": {\"9\": 187, \"8\": 14, \"5\": 19, \"7\": 11, \"2\": 9}, \"11\": {\"11\": 238, \"3\": 2}, \"14\": {\"14\": 148, \"2\": 44, \"7\": 39, \"4\": 8, \"13\": 1}, \"6\": {\"6\": 159, \"1\": 79, \"15\": 2}, \"8\": {\"2\": 26, \"5\": 72, \"8\": 68, \"15\": 23, \"12\": 7, \"7\": 33, \"9\": 8, \"14\": 3}, \"3\": {\"3\": 236, \"11\": 4}, \"2\": {\"2\": 160, \"9\": 6, \"7\": 32, \"8\": 10, \"5\": 5, \"14\": 24, \"0\": 1, \"13\": 2}, \"13\": {\"0\": 57, \"10\": 13, \"13\": 152, \"9\": 3, \"2\": 7, \"7\": 6, \"8\": 1, \"5\": 1}}}, \"per_domain_accuracy\": {\"C_4\": {\"accuracy\": 0.9973802395209581, \"source?\": true}, \"C_5\": {\"accuracy\": 0.9972067039106145, \"source?\": true}, \"C_2\": {\"accuracy\": 0.9989285714285714, \"source?\": true}, \"C_1\": {\"accuracy\": 0.9996603260869565, \"source?\": true}, \"C_3\": {\"accuracy\": 0.9974264705882353, \"source?\": true}, \"O_14\": {\"accuracy\": 0.6505208333333333, \"source?\": false}, \"O_20\": {\"accuracy\": 0.3848958333333333, \"source?\": false}, \"O_50\": {\"accuracy\": 0.5950520833333334, \"source?\": false}, \"O_26\": {\"accuracy\": 0.45703125, \"source?\": false}, \"O_32\": {\"accuracy\": 0.6578125, \"source?\": false}, \"O_44\": {\"accuracy\": 0.5192708333333333, \"source?\": false}, \"O_8\": {\"accuracy\": 0.5627604166666667, \"source?\": false}, \"O_38\": {\"accuracy\": 0.67578125, \"source?\": false}}}, \"history\": {\"epoch_indices\": [1, 2, 3, 4, 5, 6], \"train_label_loss\": [0.030597650170546543, 0.009944609954733941, 0.006535184163814591, 0.004710250164374316, 0.003984288819631615, 0.005031300286543253], \"source_val_label_loss\": [0.015681561082601547, 0.015281524509191513, 0.017844170331954956, 0.018269497901201248, 0.01589609682559967, 0.016845008358359337], \"target_val_label_loss\": [1.9869240522384644, 1.6709569692611694, 1.9456686973571777, 1.5815393924713135, 1.609329104423523, 1.8034731149673462], \"source_val_acc_label\": [0.9975357142857143, 0.9981428571428571, 0.9989642857142857, 0.9985714285714286, 0.9986785714285714, 0.9986071428571428], \"target_val_acc_label\": [0.5216145833333333, 0.562890625, 0.5104166666666666, 0.5402669270833333, 0.5167643229166666, 0.41722005208333335]}, \"dataset_metrics\": {\"source\": {\"train\": {\"n_unique_x\": 175111, \"n_unique_y\": 58, \"n_batch/episode\": 6295}, \"val\": {\"n_unique_x\": 37216, \"n_unique_y\": 58, \"n_batch/episode\": 875}, \"test\": {\"n_unique_x\": 37596, \"n_unique_y\": 58, \"n_batch/episode\": 886}}, \"target\": {\"train\": {\"n_unique_x\": 179200, \"n_unique_y\": 16, \"n_batch/episode\": 6720}, \"val\": {\"n_unique_x\": 38400, \"n_unique_y\": 16, \"n_batch/episode\": 960}, \"test\": {\"n_unique_x\": 38400, \"n_unique_y\": 16, \"n_batch/episode\": 960}}}}'"
      ]
     },
     "execution_count": 29,
     "metadata": {},
     "output_type": "execute_result"
    }
   ],
   "source": [
    "json.dumps(experiment)"
   ]
  }
 ],
 "metadata": {
  "celltoolbar": "Tags",
  "kernelspec": {
   "display_name": "Python 3 (ipykernel)",
   "language": "python",
   "name": "python3"
  },
  "language_info": {
   "codemirror_mode": {
    "name": "ipython",
    "version": 3
   },
   "file_extension": ".py",
   "mimetype": "text/x-python",
   "name": "python",
   "nbconvert_exporter": "python",
   "pygments_lexer": "ipython3",
   "version": "3.8.10"
  },
  "papermill": {
   "default_parameters": {},
   "duration": 1035.487828,
   "end_time": "2022-03-25T04:07:27.723327",
   "environment_variables": {},
   "exception": null,
   "input_path": "/mnt/wd500GB/CSC500/csc500-main/csc500-notebooks/templates/tl_ptn_template.ipynb",
   "output_path": "trial.ipynb",
   "parameters": {
    "parameters": {
     "BEST_MODEL_PATH": "./best_model.pth",
     "NUM_LOGS_PER_EPOCH": 10,
     "criteria_for_best": "target_accuracy",
     "dataset_seed": 420,
     "datasets": [
      {
       "domain_prefix": "C_",
       "domains": [
        1,
        2,
        3,
        4,
        5
       ],
       "episode_transforms": [],
       "labels": [
        "1-10.",
        "1-11.",
        "1-15.",
        "1-16.",
        "1-17.",
        "1-18.",
        "1-19.",
        "10-4.",
        "10-7.",
        "11-1.",
        "11-14.",
        "11-17.",
        "11-20.",
        "11-7.",
        "13-20.",
        "13-8.",
        "14-10.",
        "14-11.",
        "14-14.",
        "14-7.",
        "15-1.",
        "15-20.",
        "16-1.",
        "16-16.",
        "17-10.",
        "17-11.",
        "17-2.",
        "19-1.",
        "19-16.",
        "19-19.",
        "19-20.",
        "19-3.",
        "2-10.",
        "2-11.",
        "2-17.",
        "2-18.",
        "2-20.",
        "2-3.",
        "2-4.",
        "2-5.",
        "2-6.",
        "2-7.",
        "2-8.",
        "3-13.",
        "3-18.",
        "3-3.",
        "4-1.",
        "4-10.",
        "4-11.",
        "4-19.",
        "5-5.",
        "6-15.",
        "7-10.",
        "7-14.",
        "8-18.",
        "8-20.",
        "8-3.",
        "8-8."
       ],
       "num_examples_per_domain_per_label": -1,
       "pickle_path": "/mnt/wd500GB/CSC500/csc500-main/datasets/cores.stratified_ds.2022A.pkl",
       "source_or_target_dataset": "source",
       "x_transforms": [
        "take_200"
       ]
      },
      {
       "domain_prefix": "O_",
       "domains": [
        32,
        38,
        8,
        44,
        14,
        50,
        20,
        26
       ],
       "episode_transforms": [],
       "labels": [
        "3123D52",
        "3123D65",
        "3123D79",
        "3123D80",
        "3123D54",
        "3123D70",
        "3123D7B",
        "3123D89",
        "3123D58",
        "3123D76",
        "3123D7D",
        "3123EFE",
        "3123D64",
        "3123D78",
        "3123D7E",
        "3124E4A"
       ],
       "num_examples_per_domain_per_label": 2000,
       "pickle_path": "/mnt/wd500GB/CSC500/csc500-main/datasets/oracle.Run1_framed_2000Examples_stratified_ds.2022A.pkl",
       "source_or_target_dataset": "target",
       "x_transforms": [
        "take_200",
        "resample_20Msps_to_25Msps"
       ]
      }
     ],
     "device": "cuda",
     "experiment_name": "tl_3Av2:cores -> oracle.run1.framed",
     "lr": 0.0001,
     "n_epoch": 50,
     "n_query": 2,
     "n_shot": 3,
     "n_way": 16,
     "patience": 3,
     "seed": 420,
     "test_k_factor": 2,
     "torch_default_dtype": "torch.float32",
     "train_k_factor": 3,
     "val_k_factor": 2,
     "x_net": [
      {
       "class": "nnReshape",
       "kargs": {
        "shape": [
         -1,
         1,
         2,
         200
        ]
       }
      },
      {
       "class": "Conv2d",
       "kargs": {
        "bias": false,
        "in_channels": 1,
        "kernel_size": [
         1,
         7
        ],
        "out_channels": 256,
        "padding": [
         0,
         3
        ]
       }
      },
      {
       "class": "ReLU",
       "kargs": {
        "inplace": true
       }
      },
      {
       "class": "BatchNorm2d",
       "kargs": {
        "num_features": 256
       }
      },
      {
       "class": "Conv2d",
       "kargs": {
        "bias": true,
        "in_channels": 256,
        "kernel_size": [
         2,
         7
        ],
        "out_channels": 80,
        "padding": [
         0,
         3
        ]
       }
      },
      {
       "class": "ReLU",
       "kargs": {
        "inplace": true
       }
      },
      {
       "class": "BatchNorm2d",
       "kargs": {
        "num_features": 80
       }
      },
      {
       "class": "Flatten",
       "kargs": {}
      },
      {
       "class": "Linear",
       "kargs": {
        "in_features": 16000,
        "out_features": 256
       }
      },
      {
       "class": "ReLU",
       "kargs": {
        "inplace": true
       }
      },
      {
       "class": "BatchNorm1d",
       "kargs": {
        "num_features": 256
       }
      },
      {
       "class": "Linear",
       "kargs": {
        "in_features": 256,
        "out_features": 256
       }
      }
     ],
     "x_shape": [
      2,
      200
     ]
    }
   },
   "start_time": "2022-03-25T03:50:12.235499",
   "version": "2.3.4"
  }
 },
 "nbformat": 4,
 "nbformat_minor": 5
}