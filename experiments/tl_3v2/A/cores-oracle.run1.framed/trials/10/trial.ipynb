{
 "cells": [
  {
   "cell_type": "markdown",
   "id": "9fea5f46",
   "metadata": {
    "papermill": {
     "duration": 0.020462,
     "end_time": "2022-03-25T05:47:26.289959",
     "exception": false,
     "start_time": "2022-03-25T05:47:26.269497",
     "status": "completed"
    },
    "tags": []
   },
   "source": [
    "# Transfer Learning Template"
   ]
  },
  {
   "cell_type": "code",
   "execution_count": 1,
   "id": "0902182a",
   "metadata": {
    "execution": {
     "iopub.execute_input": "2022-03-25T05:47:26.331679Z",
     "iopub.status.busy": "2022-03-25T05:47:26.330444Z",
     "iopub.status.idle": "2022-03-25T05:47:27.246279Z",
     "shell.execute_reply": "2022-03-25T05:47:27.246515Z"
    },
    "papermill": {
     "duration": 0.942673,
     "end_time": "2022-03-25T05:47:27.246637",
     "exception": false,
     "start_time": "2022-03-25T05:47:26.303964",
     "status": "completed"
    },
    "tags": []
   },
   "outputs": [],
   "source": [
    "%load_ext autoreload\n",
    "%autoreload 2\n",
    "%matplotlib inline\n",
    "\n",
    "    \n",
    "import os, json, sys, time, random\n",
    "import numpy as np\n",
    "import torch\n",
    "from torch.optim import Adam\n",
    "from  easydict import EasyDict\n",
    "import matplotlib.pyplot as plt\n",
    "\n",
    "from steves_models.steves_ptn import Steves_Prototypical_Network\n",
    "\n",
    "from steves_utils.lazy_iterable_wrapper import Lazy_Iterable_Wrapper\n",
    "from steves_utils.iterable_aggregator import Iterable_Aggregator\n",
    "from steves_utils.ptn_train_eval_test_jig import  PTN_Train_Eval_Test_Jig\n",
    "from steves_utils.torch_sequential_builder import build_sequential\n",
    "from steves_utils.torch_utils import get_dataset_metrics, ptn_confusion_by_domain_over_dataloader\n",
    "from steves_utils.utils_v2 import (per_domain_accuracy_from_confusion, get_datasets_base_path)\n",
    "from steves_utils.PTN.utils import independent_accuracy_assesment\n",
    "\n",
    "from torch.utils.data import DataLoader\n",
    "\n",
    "from steves_utils.stratified_dataset.episodic_accessor import Episodic_Accessor_Factory\n",
    "\n",
    "from steves_utils.ptn_do_report import (\n",
    "    get_loss_curve,\n",
    "    get_results_table,\n",
    "    get_parameters_table,\n",
    "    get_domain_accuracies,\n",
    ")\n",
    "\n",
    "from steves_utils.transforms import get_chained_transform"
   ]
  },
  {
   "cell_type": "markdown",
   "id": "41c840b4",
   "metadata": {
    "papermill": {
     "duration": 0.012317,
     "end_time": "2022-03-25T05:47:27.271893",
     "exception": false,
     "start_time": "2022-03-25T05:47:27.259576",
     "status": "completed"
    },
    "tags": []
   },
   "source": [
    "# Allowed Parameters\n",
    "These are allowed parameters, not defaults\n",
    "Each of these values need to be present in the injected parameters (the notebook will raise an exception if they are not present)\n",
    "\n",
    "Papermill uses the cell tag \"parameters\" to inject the real parameters below this cell.\n",
    "Enable tags to see what I mean"
   ]
  },
  {
   "cell_type": "code",
   "execution_count": 2,
   "id": "fd44eb83",
   "metadata": {
    "execution": {
     "iopub.execute_input": "2022-03-25T05:47:27.298788Z",
     "iopub.status.busy": "2022-03-25T05:47:27.298517Z",
     "iopub.status.idle": "2022-03-25T05:47:27.309112Z",
     "shell.execute_reply": "2022-03-25T05:47:27.309420Z"
    },
    "papermill": {
     "duration": 0.025334,
     "end_time": "2022-03-25T05:47:27.309505",
     "exception": false,
     "start_time": "2022-03-25T05:47:27.284171",
     "status": "completed"
    },
    "tags": []
   },
   "outputs": [],
   "source": [
    "required_parameters = {\n",
    "    \"experiment_name\",\n",
    "    \"lr\",\n",
    "    \"device\",\n",
    "    \"seed\",\n",
    "    \"dataset_seed\",\n",
    "    \"n_shot\",\n",
    "    \"n_query\",\n",
    "    \"n_way\",\n",
    "    \"train_k_factor\",\n",
    "    \"val_k_factor\",\n",
    "    \"test_k_factor\",\n",
    "    \"n_epoch\",\n",
    "    \"patience\",\n",
    "    \"criteria_for_best\",\n",
    "    \"x_net\",\n",
    "    \"datasets\",\n",
    "    \"torch_default_dtype\",\n",
    "    \"NUM_LOGS_PER_EPOCH\",\n",
    "    \"BEST_MODEL_PATH\",\n",
    "    \"x_shape\",\n",
    "}"
   ]
  },
  {
   "cell_type": "code",
   "execution_count": 3,
   "id": "fa3f0049",
   "metadata": {
    "execution": {
     "iopub.execute_input": "2022-03-25T05:47:27.347821Z",
     "iopub.status.busy": "2022-03-25T05:47:27.347411Z",
     "iopub.status.idle": "2022-03-25T05:47:27.360702Z",
     "shell.execute_reply": "2022-03-25T05:47:27.360296Z"
    },
    "papermill": {
     "duration": 0.034684,
     "end_time": "2022-03-25T05:47:27.360796",
     "exception": false,
     "start_time": "2022-03-25T05:47:27.326112",
     "status": "completed"
    },
    "tags": [
     "parameters"
    ]
   },
   "outputs": [],
   "source": [
    "from steves_utils.CORES.utils import (\n",
    "    ALL_NODES,\n",
    "    ALL_NODES_MINIMUM_1000_EXAMPLES,\n",
    "    ALL_DAYS\n",
    ")\n",
    "\n",
    "from steves_utils.ORACLE.utils_v2 import (\n",
    "    ALL_DISTANCES_FEET_NARROWED,\n",
    "    ALL_RUNS,\n",
    "    ALL_SERIAL_NUMBERS,\n",
    ")\n",
    "\n",
    "standalone_parameters = {}\n",
    "standalone_parameters[\"experiment_name\"] = \"STANDALONE PTN\"\n",
    "standalone_parameters[\"lr\"] = 0.001\n",
    "standalone_parameters[\"device\"] = \"cuda\"\n",
    "\n",
    "standalone_parameters[\"seed\"] = 1337\n",
    "standalone_parameters[\"dataset_seed\"] = 1337\n",
    "\n",
    "standalone_parameters[\"n_way\"] = 8\n",
    "standalone_parameters[\"n_shot\"] = 3\n",
    "standalone_parameters[\"n_query\"]  = 2\n",
    "standalone_parameters[\"train_k_factor\"] = 1\n",
    "standalone_parameters[\"val_k_factor\"] = 2\n",
    "standalone_parameters[\"test_k_factor\"] = 2\n",
    "\n",
    "\n",
    "standalone_parameters[\"n_epoch\"] = 50\n",
    "\n",
    "standalone_parameters[\"patience\"] = 10\n",
    "standalone_parameters[\"criteria_for_best\"] = \"source_loss\"\n",
    "\n",
    "standalone_parameters[\"datasets\"] = [\n",
    "    {\n",
    "        \"labels\": ALL_SERIAL_NUMBERS,\n",
    "        \"domains\": ALL_DISTANCES_FEET_NARROWED,\n",
    "        \"num_examples_per_domain_per_label\": 100,\n",
    "        \"pickle_path\": os.path.join(get_datasets_base_path(), \"oracle.Run1_framed_2000Examples_stratified_ds.2022A.pkl\"),\n",
    "        \"source_or_target_dataset\": \"source\",\n",
    "        \"x_transforms\": [\"unit_mag\", \"minus_two\"],\n",
    "        \"episode_transforms\": [],\n",
    "        \"domain_prefix\": \"ORACLE_\"\n",
    "    },\n",
    "    {\n",
    "        \"labels\": ALL_NODES,\n",
    "        \"domains\": ALL_DAYS,\n",
    "        \"num_examples_per_domain_per_label\": 100,\n",
    "        \"pickle_path\": os.path.join(get_datasets_base_path(), \"cores.stratified_ds.2022A.pkl\"),\n",
    "        \"source_or_target_dataset\": \"target\",\n",
    "        \"x_transforms\": [\"unit_power\", \"times_zero\"],\n",
    "        \"episode_transforms\": [],\n",
    "        \"domain_prefix\": \"CORES_\"\n",
    "    }   \n",
    "]\n",
    "\n",
    "standalone_parameters[\"torch_default_dtype\"] = \"torch.float32\" \n",
    "\n",
    "\n",
    "\n",
    "standalone_parameters[\"x_net\"] =     [\n",
    "    {\"class\": \"nnReshape\", \"kargs\": {\"shape\":[-1, 1, 2, 256]}},\n",
    "    {\"class\": \"Conv2d\", \"kargs\": { \"in_channels\":1, \"out_channels\":256, \"kernel_size\":(1,7), \"bias\":False, \"padding\":(0,3), },},\n",
    "    {\"class\": \"ReLU\", \"kargs\": {\"inplace\": True}},\n",
    "    {\"class\": \"BatchNorm2d\", \"kargs\": {\"num_features\":256}},\n",
    "\n",
    "    {\"class\": \"Conv2d\", \"kargs\": { \"in_channels\":256, \"out_channels\":80, \"kernel_size\":(2,7), \"bias\":True, \"padding\":(0,3), },},\n",
    "    {\"class\": \"ReLU\", \"kargs\": {\"inplace\": True}},\n",
    "    {\"class\": \"BatchNorm2d\", \"kargs\": {\"num_features\":80}},\n",
    "    {\"class\": \"Flatten\", \"kargs\": {}},\n",
    "\n",
    "    {\"class\": \"Linear\", \"kargs\": {\"in_features\": 80*256, \"out_features\": 256}}, # 80 units per IQ pair\n",
    "    {\"class\": \"ReLU\", \"kargs\": {\"inplace\": True}},\n",
    "    {\"class\": \"BatchNorm1d\", \"kargs\": {\"num_features\":256}},\n",
    "\n",
    "    {\"class\": \"Linear\", \"kargs\": {\"in_features\": 256, \"out_features\": 256}},\n",
    "]\n",
    "\n",
    "# Parameters relevant to results\n",
    "# These parameters will basically never need to change\n",
    "standalone_parameters[\"NUM_LOGS_PER_EPOCH\"] = 10\n",
    "standalone_parameters[\"BEST_MODEL_PATH\"] = \"./best_model.pth\"\n",
    "\n",
    "\n",
    "\n",
    "\n"
   ]
  },
  {
   "cell_type": "code",
   "execution_count": 4,
   "id": "432a0c4e",
   "metadata": {
    "execution": {
     "iopub.execute_input": "2022-03-25T05:47:27.401253Z",
     "iopub.status.busy": "2022-03-25T05:47:27.397068Z",
     "iopub.status.idle": "2022-03-25T05:47:27.413360Z",
     "shell.execute_reply": "2022-03-25T05:47:27.412956Z"
    },
    "papermill": {
     "duration": 0.035382,
     "end_time": "2022-03-25T05:47:27.413452",
     "exception": false,
     "start_time": "2022-03-25T05:47:27.378070",
     "status": "completed"
    },
    "tags": [
     "injected-parameters"
    ]
   },
   "outputs": [],
   "source": [
    "# Parameters\n",
    "parameters = {\n",
    "    \"experiment_name\": \"tl_3Av2:cores -> oracle.run1.framed\",\n",
    "    \"device\": \"cuda\",\n",
    "    \"lr\": 0.0001,\n",
    "    \"x_shape\": [2, 200],\n",
    "    \"n_shot\": 3,\n",
    "    \"n_query\": 2,\n",
    "    \"train_k_factor\": 3,\n",
    "    \"val_k_factor\": 2,\n",
    "    \"test_k_factor\": 2,\n",
    "    \"torch_default_dtype\": \"torch.float32\",\n",
    "    \"n_epoch\": 50,\n",
    "    \"patience\": 3,\n",
    "    \"criteria_for_best\": \"target_accuracy\",\n",
    "    \"x_net\": [\n",
    "        {\"class\": \"nnReshape\", \"kargs\": {\"shape\": [-1, 1, 2, 200]}},\n",
    "        {\n",
    "            \"class\": \"Conv2d\",\n",
    "            \"kargs\": {\n",
    "                \"in_channels\": 1,\n",
    "                \"out_channels\": 256,\n",
    "                \"kernel_size\": [1, 7],\n",
    "                \"bias\": False,\n",
    "                \"padding\": [0, 3],\n",
    "            },\n",
    "        },\n",
    "        {\"class\": \"ReLU\", \"kargs\": {\"inplace\": True}},\n",
    "        {\"class\": \"BatchNorm2d\", \"kargs\": {\"num_features\": 256}},\n",
    "        {\n",
    "            \"class\": \"Conv2d\",\n",
    "            \"kargs\": {\n",
    "                \"in_channels\": 256,\n",
    "                \"out_channels\": 80,\n",
    "                \"kernel_size\": [2, 7],\n",
    "                \"bias\": True,\n",
    "                \"padding\": [0, 3],\n",
    "            },\n",
    "        },\n",
    "        {\"class\": \"ReLU\", \"kargs\": {\"inplace\": True}},\n",
    "        {\"class\": \"BatchNorm2d\", \"kargs\": {\"num_features\": 80}},\n",
    "        {\"class\": \"Flatten\", \"kargs\": {}},\n",
    "        {\"class\": \"Linear\", \"kargs\": {\"in_features\": 16000, \"out_features\": 256}},\n",
    "        {\"class\": \"ReLU\", \"kargs\": {\"inplace\": True}},\n",
    "        {\"class\": \"BatchNorm1d\", \"kargs\": {\"num_features\": 256}},\n",
    "        {\"class\": \"Linear\", \"kargs\": {\"in_features\": 256, \"out_features\": 256}},\n",
    "    ],\n",
    "    \"NUM_LOGS_PER_EPOCH\": 10,\n",
    "    \"BEST_MODEL_PATH\": \"./best_model.pth\",\n",
    "    \"n_way\": 16,\n",
    "    \"datasets\": [\n",
    "        {\n",
    "            \"labels\": [\n",
    "                \"1-10.\",\n",
    "                \"1-11.\",\n",
    "                \"1-15.\",\n",
    "                \"1-16.\",\n",
    "                \"1-17.\",\n",
    "                \"1-18.\",\n",
    "                \"1-19.\",\n",
    "                \"10-4.\",\n",
    "                \"10-7.\",\n",
    "                \"11-1.\",\n",
    "                \"11-14.\",\n",
    "                \"11-17.\",\n",
    "                \"11-20.\",\n",
    "                \"11-7.\",\n",
    "                \"13-20.\",\n",
    "                \"13-8.\",\n",
    "                \"14-10.\",\n",
    "                \"14-11.\",\n",
    "                \"14-14.\",\n",
    "                \"14-7.\",\n",
    "                \"15-1.\",\n",
    "                \"15-20.\",\n",
    "                \"16-1.\",\n",
    "                \"16-16.\",\n",
    "                \"17-10.\",\n",
    "                \"17-11.\",\n",
    "                \"17-2.\",\n",
    "                \"19-1.\",\n",
    "                \"19-16.\",\n",
    "                \"19-19.\",\n",
    "                \"19-20.\",\n",
    "                \"19-3.\",\n",
    "                \"2-10.\",\n",
    "                \"2-11.\",\n",
    "                \"2-17.\",\n",
    "                \"2-18.\",\n",
    "                \"2-20.\",\n",
    "                \"2-3.\",\n",
    "                \"2-4.\",\n",
    "                \"2-5.\",\n",
    "                \"2-6.\",\n",
    "                \"2-7.\",\n",
    "                \"2-8.\",\n",
    "                \"3-13.\",\n",
    "                \"3-18.\",\n",
    "                \"3-3.\",\n",
    "                \"4-1.\",\n",
    "                \"4-10.\",\n",
    "                \"4-11.\",\n",
    "                \"4-19.\",\n",
    "                \"5-5.\",\n",
    "                \"6-15.\",\n",
    "                \"7-10.\",\n",
    "                \"7-14.\",\n",
    "                \"8-18.\",\n",
    "                \"8-20.\",\n",
    "                \"8-3.\",\n",
    "                \"8-8.\",\n",
    "            ],\n",
    "            \"domains\": [1, 2, 3, 4, 5],\n",
    "            \"num_examples_per_domain_per_label\": -1,\n",
    "            \"pickle_path\": \"/mnt/wd500GB/CSC500/csc500-main/datasets/cores.stratified_ds.2022A.pkl\",\n",
    "            \"source_or_target_dataset\": \"source\",\n",
    "            \"x_transforms\": [\"unit_mag\", \"take_200\"],\n",
    "            \"episode_transforms\": [],\n",
    "            \"domain_prefix\": \"C_\",\n",
    "        },\n",
    "        {\n",
    "            \"labels\": [\n",
    "                \"3123D52\",\n",
    "                \"3123D65\",\n",
    "                \"3123D79\",\n",
    "                \"3123D80\",\n",
    "                \"3123D54\",\n",
    "                \"3123D70\",\n",
    "                \"3123D7B\",\n",
    "                \"3123D89\",\n",
    "                \"3123D58\",\n",
    "                \"3123D76\",\n",
    "                \"3123D7D\",\n",
    "                \"3123EFE\",\n",
    "                \"3123D64\",\n",
    "                \"3123D78\",\n",
    "                \"3123D7E\",\n",
    "                \"3124E4A\",\n",
    "            ],\n",
    "            \"domains\": [32, 38, 8, 44, 14, 50, 20, 26],\n",
    "            \"num_examples_per_domain_per_label\": 2000,\n",
    "            \"pickle_path\": \"/mnt/wd500GB/CSC500/csc500-main/datasets/oracle.Run1_framed_2000Examples_stratified_ds.2022A.pkl\",\n",
    "            \"source_or_target_dataset\": \"target\",\n",
    "            \"x_transforms\": [\"unit_mag\", \"take_200\", \"resample_20Msps_to_25Msps\"],\n",
    "            \"episode_transforms\": [],\n",
    "            \"domain_prefix\": \"O_\",\n",
    "        },\n",
    "    ],\n",
    "    \"seed\": 7,\n",
    "    \"dataset_seed\": 7,\n",
    "}\n"
   ]
  },
  {
   "cell_type": "code",
   "execution_count": 5,
   "id": "8fa1cc33",
   "metadata": {
    "execution": {
     "iopub.execute_input": "2022-03-25T05:47:27.447241Z",
     "iopub.status.busy": "2022-03-25T05:47:27.446643Z",
     "iopub.status.idle": "2022-03-25T05:47:27.461140Z",
     "shell.execute_reply": "2022-03-25T05:47:27.460679Z"
    },
    "papermill": {
     "duration": 0.031143,
     "end_time": "2022-03-25T05:47:27.461231",
     "exception": false,
     "start_time": "2022-03-25T05:47:27.430088",
     "status": "completed"
    },
    "tags": []
   },
   "outputs": [],
   "source": [
    "# Set this to True if you want to run this template directly\n",
    "STANDALONE = False\n",
    "if STANDALONE:\n",
    "    print(\"parameters not injected, running with standalone_parameters\")\n",
    "    parameters = standalone_parameters\n",
    "\n",
    "if not 'parameters' in locals() and not 'parameters' in globals():\n",
    "    raise Exception(\"Parameter injection failed\")\n",
    "\n",
    "#Use an easy dict for all the parameters\n",
    "p = EasyDict(parameters)\n",
    "\n",
    "if \"x_shape\" not in p:\n",
    "    p.x_shape = [2,256] # Default to this if we dont supply x_shape\n",
    "\n",
    "\n",
    "supplied_keys = set(p.keys())\n",
    "\n",
    "if  supplied_keys != required_parameters:\n",
    "    print(\"Parameters are incorrect\")\n",
    "    if len(supplied_keys - required_parameters)>0: print(\"Shouldn't have:\", str(supplied_keys - required_parameters))\n",
    "    if len(required_parameters - supplied_keys)>0: print(\"Need to have:\", str(required_parameters - supplied_keys))\n",
    "    raise RuntimeError(\"Parameters are incorrect\")"
   ]
  },
  {
   "cell_type": "code",
   "execution_count": 6,
   "id": "3a028d58",
   "metadata": {
    "execution": {
     "iopub.execute_input": "2022-03-25T05:47:27.493034Z",
     "iopub.status.busy": "2022-03-25T05:47:27.491802Z",
     "iopub.status.idle": "2022-03-25T05:47:27.505926Z",
     "shell.execute_reply": "2022-03-25T05:47:27.505609Z"
    },
    "papermill": {
     "duration": 0.027929,
     "end_time": "2022-03-25T05:47:27.506015",
     "exception": false,
     "start_time": "2022-03-25T05:47:27.478086",
     "status": "completed"
    },
    "tags": []
   },
   "outputs": [],
   "source": [
    "###################################\n",
    "# Set the RNGs and make it all deterministic\n",
    "###################################\n",
    "np.random.seed(p.seed)\n",
    "random.seed(p.seed)\n",
    "torch.manual_seed(p.seed)\n",
    "\n",
    "torch.use_deterministic_algorithms(True) "
   ]
  },
  {
   "cell_type": "code",
   "execution_count": 7,
   "id": "b691acf6",
   "metadata": {
    "execution": {
     "iopub.execute_input": "2022-03-25T05:47:27.538862Z",
     "iopub.status.busy": "2022-03-25T05:47:27.538387Z",
     "iopub.status.idle": "2022-03-25T05:47:27.552797Z",
     "shell.execute_reply": "2022-03-25T05:47:27.552375Z"
    },
    "papermill": {
     "duration": 0.028769,
     "end_time": "2022-03-25T05:47:27.552888",
     "exception": false,
     "start_time": "2022-03-25T05:47:27.524119",
     "status": "completed"
    },
    "tags": []
   },
   "outputs": [],
   "source": [
    "###########################################\n",
    "# The stratified datasets honor this\n",
    "###########################################\n",
    "torch.set_default_dtype(eval(p.torch_default_dtype))"
   ]
  },
  {
   "cell_type": "code",
   "execution_count": 8,
   "id": "b5fba671",
   "metadata": {
    "execution": {
     "iopub.execute_input": "2022-03-25T05:47:27.584184Z",
     "iopub.status.busy": "2022-03-25T05:47:27.583930Z",
     "iopub.status.idle": "2022-03-25T05:47:27.614209Z",
     "shell.execute_reply": "2022-03-25T05:47:27.613776Z"
    },
    "papermill": {
     "duration": 0.044404,
     "end_time": "2022-03-25T05:47:27.614303",
     "exception": false,
     "start_time": "2022-03-25T05:47:27.569899",
     "status": "completed"
    },
    "tags": []
   },
   "outputs": [],
   "source": [
    "###################################\n",
    "# Build the network(s)\n",
    "# Note: It's critical to do this AFTER setting the RNG\n",
    "###################################\n",
    "x_net = build_sequential(p.x_net)"
   ]
  },
  {
   "cell_type": "code",
   "execution_count": 9,
   "id": "5d7e61cc",
   "metadata": {
    "execution": {
     "iopub.execute_input": "2022-03-25T05:47:27.648222Z",
     "iopub.status.busy": "2022-03-25T05:47:27.647966Z",
     "iopub.status.idle": "2022-03-25T05:47:27.662038Z",
     "shell.execute_reply": "2022-03-25T05:47:27.661583Z"
    },
    "papermill": {
     "duration": 0.029436,
     "end_time": "2022-03-25T05:47:27.662131",
     "exception": false,
     "start_time": "2022-03-25T05:47:27.632695",
     "status": "completed"
    },
    "tags": []
   },
   "outputs": [],
   "source": [
    "start_time_secs = time.time()"
   ]
  },
  {
   "cell_type": "code",
   "execution_count": 10,
   "id": "c6b67dfd",
   "metadata": {
    "execution": {
     "iopub.execute_input": "2022-03-25T05:47:27.696150Z",
     "iopub.status.busy": "2022-03-25T05:47:27.695824Z",
     "iopub.status.idle": "2022-03-25T05:47:27.709448Z",
     "shell.execute_reply": "2022-03-25T05:47:27.709049Z"
    },
    "papermill": {
     "duration": 0.028887,
     "end_time": "2022-03-25T05:47:27.709539",
     "exception": false,
     "start_time": "2022-03-25T05:47:27.680652",
     "status": "completed"
    },
    "tags": []
   },
   "outputs": [],
   "source": [
    "p.domains_source = []\n",
    "p.domains_target = []\n",
    "\n",
    "\n",
    "train_original_source = []\n",
    "val_original_source   = []\n",
    "test_original_source  = []\n",
    "\n",
    "train_original_target = []\n",
    "val_original_target   = []\n",
    "test_original_target  = []"
   ]
  },
  {
   "cell_type": "code",
   "execution_count": 11,
   "id": "e3d9c3d3",
   "metadata": {
    "execution": {
     "iopub.execute_input": "2022-03-25T05:47:27.741533Z",
     "iopub.status.busy": "2022-03-25T05:47:27.741267Z",
     "iopub.status.idle": "2022-03-25T05:47:27.756096Z",
     "shell.execute_reply": "2022-03-25T05:47:27.755636Z"
    },
    "papermill": {
     "duration": 0.029552,
     "end_time": "2022-03-25T05:47:27.756184",
     "exception": false,
     "start_time": "2022-03-25T05:47:27.726632",
     "status": "completed"
    },
    "tags": []
   },
   "outputs": [],
   "source": [
    "# global_x_transform_func = lambda x: normalize(x.to(torch.get_default_dtype()), \"unit_power\") # unit_power, unit_mag\n",
    "# global_x_transform_func = lambda x: normalize(x, \"unit_power\") # unit_power, unit_mag"
   ]
  },
  {
   "cell_type": "code",
   "execution_count": 12,
   "id": "acb78fd2",
   "metadata": {
    "execution": {
     "iopub.execute_input": "2022-03-25T05:47:27.795746Z",
     "iopub.status.busy": "2022-03-25T05:47:27.795197Z",
     "iopub.status.idle": "2022-03-25T05:47:27.806070Z",
     "shell.execute_reply": "2022-03-25T05:47:27.805724Z"
    },
    "papermill": {
     "duration": 0.032559,
     "end_time": "2022-03-25T05:47:27.806143",
     "exception": false,
     "start_time": "2022-03-25T05:47:27.773584",
     "status": "completed"
    },
    "tags": []
   },
   "outputs": [],
   "source": [
    "def add_dataset(\n",
    "    labels,\n",
    "    domains,\n",
    "    pickle_path,\n",
    "    x_transforms,\n",
    "    episode_transforms,\n",
    "    domain_prefix,\n",
    "    num_examples_per_domain_per_label,\n",
    "    source_or_target_dataset:str,\n",
    "    iterator_seed=p.seed,\n",
    "    dataset_seed=p.dataset_seed,\n",
    "    n_shot=p.n_shot,\n",
    "    n_way=p.n_way,\n",
    "    n_query=p.n_query,\n",
    "    train_val_test_k_factors=(p.train_k_factor,p.val_k_factor,p.test_k_factor),\n",
    "):\n",
    "   \n",
    "    if x_transforms == []: x_transform = None\n",
    "    else: x_transform = get_chained_transform(x_transforms)\n",
    "    \n",
    "    if episode_transforms == []: episode_transform = None\n",
    "    else: raise Exception(\"episode_transforms not implemented\")\n",
    "    \n",
    "    episode_transform = lambda tup, _prefix=domain_prefix: (_prefix + str(tup[0]), tup[1])\n",
    "\n",
    "\n",
    "    eaf = Episodic_Accessor_Factory(\n",
    "        labels=labels,\n",
    "        domains=domains,\n",
    "        num_examples_per_domain_per_label=num_examples_per_domain_per_label,\n",
    "        iterator_seed=iterator_seed,\n",
    "        dataset_seed=dataset_seed,\n",
    "        n_shot=n_shot,\n",
    "        n_way=n_way,\n",
    "        n_query=n_query,\n",
    "        train_val_test_k_factors=train_val_test_k_factors,\n",
    "        pickle_path=pickle_path,\n",
    "        x_transform_func=x_transform,\n",
    "    )\n",
    "\n",
    "    train, val, test = eaf.get_train(), eaf.get_val(), eaf.get_test()\n",
    "    train = Lazy_Iterable_Wrapper(train, episode_transform)\n",
    "    val = Lazy_Iterable_Wrapper(val, episode_transform)\n",
    "    test = Lazy_Iterable_Wrapper(test, episode_transform)\n",
    "\n",
    "    if source_or_target_dataset==\"source\":\n",
    "        train_original_source.append(train)\n",
    "        val_original_source.append(val)\n",
    "        test_original_source.append(test)\n",
    "\n",
    "        p.domains_source.extend(\n",
    "            [domain_prefix + str(u) for u in domains]\n",
    "        )\n",
    "    elif source_or_target_dataset==\"target\":\n",
    "        train_original_target.append(train)\n",
    "        val_original_target.append(val)\n",
    "        test_original_target.append(test)\n",
    "        p.domains_target.extend(\n",
    "            [domain_prefix + str(u) for u in domains]\n",
    "        )\n",
    "    else:\n",
    "        raise Exception(f\"invalid source_or_target_dataset: {source_or_target_dataset}\")\n",
    "    "
   ]
  },
  {
   "cell_type": "code",
   "execution_count": 13,
   "id": "fe266617",
   "metadata": {
    "execution": {
     "iopub.execute_input": "2022-03-25T05:47:27.839992Z",
     "iopub.status.busy": "2022-03-25T05:47:27.839745Z",
     "iopub.status.idle": "2022-03-25T05:48:16.833031Z",
     "shell.execute_reply": "2022-03-25T05:48:16.832547Z"
    },
    "papermill": {
     "duration": 49.008792,
     "end_time": "2022-03-25T05:48:16.833132",
     "exception": false,
     "start_time": "2022-03-25T05:47:27.824340",
     "status": "completed"
    },
    "tags": []
   },
   "outputs": [],
   "source": [
    "for ds in p.datasets:\n",
    "    add_dataset(**ds)"
   ]
  },
  {
   "cell_type": "code",
   "execution_count": 14,
   "id": "b90d65ac",
   "metadata": {
    "execution": {
     "iopub.execute_input": "2022-03-25T05:48:16.866268Z",
     "iopub.status.busy": "2022-03-25T05:48:16.866011Z",
     "iopub.status.idle": "2022-03-25T05:48:16.877276Z",
     "shell.execute_reply": "2022-03-25T05:48:16.876835Z"
    },
    "papermill": {
     "duration": 0.026532,
     "end_time": "2022-03-25T05:48:16.877365",
     "exception": false,
     "start_time": "2022-03-25T05:48:16.850833",
     "status": "completed"
    },
    "tags": []
   },
   "outputs": [],
   "source": [
    "# from steves_utils.CORES.utils import (\n",
    "#     ALL_NODES,\n",
    "#     ALL_NODES_MINIMUM_1000_EXAMPLES,\n",
    "#     ALL_DAYS\n",
    "# )\n",
    "\n",
    "# add_dataset(\n",
    "#     labels=ALL_NODES,\n",
    "#     domains = ALL_DAYS,\n",
    "#     num_examples_per_domain_per_label=100,\n",
    "#     pickle_path=os.path.join(get_datasets_base_path(), \"cores.stratified_ds.2022A.pkl\"),\n",
    "#     source_or_target_dataset=\"target\",\n",
    "#     x_transform_func=global_x_transform_func,\n",
    "#     domain_modifier=lambda u: f\"cores_{u}\"\n",
    "# )"
   ]
  },
  {
   "cell_type": "code",
   "execution_count": 15,
   "id": "76db484d",
   "metadata": {
    "execution": {
     "iopub.execute_input": "2022-03-25T05:48:16.908940Z",
     "iopub.status.busy": "2022-03-25T05:48:16.908448Z",
     "iopub.status.idle": "2022-03-25T05:48:16.919835Z",
     "shell.execute_reply": "2022-03-25T05:48:16.919346Z"
    },
    "papermill": {
     "duration": 0.027134,
     "end_time": "2022-03-25T05:48:16.919936",
     "exception": false,
     "start_time": "2022-03-25T05:48:16.892802",
     "status": "completed"
    },
    "tags": []
   },
   "outputs": [],
   "source": [
    "# from steves_utils.ORACLE.utils_v2 import (\n",
    "#     ALL_DISTANCES_FEET,\n",
    "#     ALL_RUNS,\n",
    "#     ALL_SERIAL_NUMBERS,\n",
    "# )\n",
    "\n",
    "\n",
    "# add_dataset(\n",
    "#     labels=ALL_SERIAL_NUMBERS,\n",
    "#     domains = list(set(ALL_DISTANCES_FEET) - {2,62}),\n",
    "#     num_examples_per_domain_per_label=100,\n",
    "#     pickle_path=os.path.join(get_datasets_base_path(), \"oracle.Run2_framed_2000Examples_stratified_ds.2022A.pkl\"),\n",
    "#     source_or_target_dataset=\"source\",\n",
    "#     x_transform_func=global_x_transform_func,\n",
    "#     domain_modifier=lambda u: f\"oracle1_{u}\"\n",
    "# )\n"
   ]
  },
  {
   "cell_type": "code",
   "execution_count": 16,
   "id": "97dea9d2",
   "metadata": {
    "execution": {
     "iopub.execute_input": "2022-03-25T05:48:16.953530Z",
     "iopub.status.busy": "2022-03-25T05:48:16.953275Z",
     "iopub.status.idle": "2022-03-25T05:48:16.967158Z",
     "shell.execute_reply": "2022-03-25T05:48:16.966684Z"
    },
    "papermill": {
     "duration": 0.029125,
     "end_time": "2022-03-25T05:48:16.967257",
     "exception": false,
     "start_time": "2022-03-25T05:48:16.938132",
     "status": "completed"
    },
    "tags": []
   },
   "outputs": [],
   "source": [
    "# from steves_utils.ORACLE.utils_v2 import (\n",
    "#     ALL_DISTANCES_FEET,\n",
    "#     ALL_RUNS,\n",
    "#     ALL_SERIAL_NUMBERS,\n",
    "# )\n",
    "\n",
    "\n",
    "# add_dataset(\n",
    "#     labels=ALL_SERIAL_NUMBERS,\n",
    "#     domains = list(set(ALL_DISTANCES_FEET) - {2,62,56}),\n",
    "#     num_examples_per_domain_per_label=100,\n",
    "#     pickle_path=os.path.join(get_datasets_base_path(), \"oracle.Run2_framed_2000Examples_stratified_ds.2022A.pkl\"),\n",
    "#     source_or_target_dataset=\"source\",\n",
    "#     x_transform_func=global_x_transform_func,\n",
    "#     domain_modifier=lambda u: f\"oracle2_{u}\"\n",
    "# )"
   ]
  },
  {
   "cell_type": "code",
   "execution_count": 17,
   "id": "6f289866",
   "metadata": {
    "execution": {
     "iopub.execute_input": "2022-03-25T05:48:17.001347Z",
     "iopub.status.busy": "2022-03-25T05:48:17.001100Z",
     "iopub.status.idle": "2022-03-25T05:48:17.016112Z",
     "shell.execute_reply": "2022-03-25T05:48:17.016505Z"
    },
    "papermill": {
     "duration": 0.030571,
     "end_time": "2022-03-25T05:48:17.016621",
     "exception": false,
     "start_time": "2022-03-25T05:48:16.986050",
     "status": "completed"
    },
    "tags": []
   },
   "outputs": [],
   "source": [
    "# add_dataset(\n",
    "#     labels=list(range(19)),\n",
    "#     domains = [0,1,2],\n",
    "#     num_examples_per_domain_per_label=100,\n",
    "#     pickle_path=os.path.join(get_datasets_base_path(), \"metehan.stratified_ds.2022A.pkl\"),\n",
    "#     source_or_target_dataset=\"target\",\n",
    "#     x_transform_func=global_x_transform_func,\n",
    "#     domain_modifier=lambda u: f\"met_{u}\"\n",
    "# )"
   ]
  },
  {
   "cell_type": "code",
   "execution_count": 18,
   "id": "86a863c3",
   "metadata": {
    "execution": {
     "iopub.execute_input": "2022-03-25T05:48:17.050622Z",
     "iopub.status.busy": "2022-03-25T05:48:17.050355Z",
     "iopub.status.idle": "2022-03-25T05:48:17.061108Z",
     "shell.execute_reply": "2022-03-25T05:48:17.060860Z"
    },
    "papermill": {
     "duration": 0.025466,
     "end_time": "2022-03-25T05:48:17.061163",
     "exception": false,
     "start_time": "2022-03-25T05:48:17.035697",
     "status": "completed"
    },
    "tags": []
   },
   "outputs": [],
   "source": [
    "# # from steves_utils.wisig.utils import (\n",
    "# #     ALL_NODES_MINIMUM_100_EXAMPLES,\n",
    "# #     ALL_NODES_MINIMUM_500_EXAMPLES,\n",
    "# #     ALL_NODES_MINIMUM_1000_EXAMPLES,\n",
    "# #     ALL_DAYS\n",
    "# # )\n",
    "\n",
    "# import steves_utils.wisig.utils as wisig\n",
    "\n",
    "\n",
    "# add_dataset(\n",
    "#     labels=wisig.ALL_NODES_MINIMUM_100_EXAMPLES,\n",
    "#     domains = wisig.ALL_DAYS,\n",
    "#     num_examples_per_domain_per_label=100,\n",
    "#     pickle_path=os.path.join(get_datasets_base_path(), \"wisig.node3-19.stratified_ds.2022A.pkl\"),\n",
    "#     source_or_target_dataset=\"target\",\n",
    "#     x_transform_func=global_x_transform_func,\n",
    "#     domain_modifier=lambda u: f\"wisig_{u}\"\n",
    "# )"
   ]
  },
  {
   "cell_type": "code",
   "execution_count": 19,
   "id": "fd5442bc",
   "metadata": {
    "execution": {
     "iopub.execute_input": "2022-03-25T05:48:17.100788Z",
     "iopub.status.busy": "2022-03-25T05:48:17.100502Z",
     "iopub.status.idle": "2022-03-25T05:48:17.115351Z",
     "shell.execute_reply": "2022-03-25T05:48:17.114878Z"
    },
    "papermill": {
     "duration": 0.033796,
     "end_time": "2022-03-25T05:48:17.115451",
     "exception": false,
     "start_time": "2022-03-25T05:48:17.081655",
     "status": "completed"
    },
    "tags": []
   },
   "outputs": [],
   "source": [
    "###################################\n",
    "# Build the dataset\n",
    "###################################\n",
    "train_original_source = Iterable_Aggregator(train_original_source, p.seed)\n",
    "val_original_source = Iterable_Aggregator(val_original_source, p.seed)\n",
    "test_original_source = Iterable_Aggregator(test_original_source, p.seed)\n",
    "\n",
    "\n",
    "train_original_target = Iterable_Aggregator(train_original_target, p.seed)\n",
    "val_original_target = Iterable_Aggregator(val_original_target, p.seed)\n",
    "test_original_target = Iterable_Aggregator(test_original_target, p.seed)\n",
    "\n",
    "# For CNN We only use X and Y. And we only train on the source.\n",
    "# Properly form the data using a transform lambda and Lazy_Iterable_Wrapper. Finally wrap them in a dataloader\n",
    "\n",
    "transform_lambda = lambda ex: ex[1] # Original is (<domain>, <episode>) so we strip down to episode only\n",
    "\n",
    "train_processed_source = Lazy_Iterable_Wrapper(train_original_source, transform_lambda)\n",
    "val_processed_source   = Lazy_Iterable_Wrapper(val_original_source, transform_lambda)\n",
    "test_processed_source  = Lazy_Iterable_Wrapper(test_original_source, transform_lambda)\n",
    "\n",
    "train_processed_target = Lazy_Iterable_Wrapper(train_original_target, transform_lambda)\n",
    "val_processed_target   = Lazy_Iterable_Wrapper(val_original_target, transform_lambda)\n",
    "test_processed_target  = Lazy_Iterable_Wrapper(test_original_target, transform_lambda)\n",
    "\n",
    "datasets = EasyDict({\n",
    "    \"source\": {\n",
    "        \"original\": {\"train\":train_original_source, \"val\":val_original_source, \"test\":test_original_source},\n",
    "        \"processed\": {\"train\":train_processed_source, \"val\":val_processed_source, \"test\":test_processed_source}\n",
    "    },\n",
    "    \"target\": {\n",
    "        \"original\": {\"train\":train_original_target, \"val\":val_original_target, \"test\":test_original_target},\n",
    "        \"processed\": {\"train\":train_processed_target, \"val\":val_processed_target, \"test\":test_processed_target}\n",
    "    },\n",
    "})"
   ]
  },
  {
   "cell_type": "code",
   "execution_count": 20,
   "id": "5b3c01fc",
   "metadata": {
    "execution": {
     "iopub.execute_input": "2022-03-25T05:48:17.149106Z",
     "iopub.status.busy": "2022-03-25T05:48:17.148855Z",
     "iopub.status.idle": "2022-03-25T05:48:23.494762Z",
     "shell.execute_reply": "2022-03-25T05:48:23.495116Z"
    },
    "papermill": {
     "duration": 6.362607,
     "end_time": "2022-03-25T05:48:23.495219",
     "exception": false,
     "start_time": "2022-03-25T05:48:17.132612",
     "status": "completed"
    },
    "tags": []
   },
   "outputs": [
    {
     "name": "stdout",
     "output_type": "stream",
     "text": [
      "{'C_5', 'C_2', 'C_4', 'C_1', 'C_3'}\n"
     ]
    },
    {
     "name": "stdout",
     "output_type": "stream",
     "text": [
      "{'O_20', 'O_38', 'O_50', 'O_26', 'O_32', 'O_44', 'O_8', 'O_14'}\n"
     ]
    },
    {
     "name": "stdout",
     "output_type": "stream",
     "text": [
      "tensor([[[ 0.0570, -0.0209,  0.2647,  ...,  0.1370, -1.2497, -0.9187],\n",
      "         [ 0.3973, -0.5762, -1.2663,  ...,  1.2598, -0.8949, -1.4841]],\n",
      "\n",
      "        [[ 0.0623, -0.0241, -0.8142,  ...,  0.3224,  0.7195, -0.0690],\n",
      "         [-0.3764, -0.0391,  0.7486,  ..., -1.4847,  0.1346,  2.1511]],\n",
      "\n",
      "        [[-0.1527, -0.3787,  0.6797,  ..., -0.4664, -1.1617,  0.7402],\n",
      "         [ 0.2032,  0.1960, -0.0761,  ...,  1.1928,  0.2982, -1.5459]],\n",
      "\n",
      "        ...,\n",
      "\n",
      "        [[-0.3325, -0.1377,  0.8495,  ..., -0.1896,  1.3198,  1.0548],\n",
      "         [-0.0052, -0.7300, -0.1481,  ...,  0.2130,  0.1793,  0.4910]],\n",
      "\n",
      "        [[ 0.3148,  0.4760, -0.6065,  ..., -0.1433, -1.2258, -0.9059],\n",
      "         [-0.2252,  0.5758,  0.6858,  ..., -0.0819,  0.7626,  0.2073]],\n",
      "\n",
      "        [[-0.1356, -0.1409,  0.7277,  ..., -1.0772,  0.1043,  0.6234],\n",
      "         [ 0.0496, -0.4278, -0.2739,  ..., -0.2165,  0.3078,  1.3720]]])\n"
     ]
    }
   ],
   "source": [
    "from steves_utils.transforms import get_average_magnitude, get_average_power\n",
    "\n",
    "print(set([u for u,_ in val_original_source]))\n",
    "print(set([u for u,_ in val_original_target]))\n",
    "\n",
    "s_x, s_y, q_x, q_y, _ = next(iter(train_processed_source))\n",
    "print(s_x)\n",
    "\n",
    "# for ds in [\n",
    "#     train_processed_source,\n",
    "#     val_processed_source,\n",
    "#     test_processed_source,\n",
    "#     train_processed_target,\n",
    "#     val_processed_target,\n",
    "#     test_processed_target\n",
    "# ]:\n",
    "#     for s_x, s_y, q_x, q_y, _ in ds:\n",
    "#         for X in (s_x, q_x):\n",
    "#             for x in X:\n",
    "#                 assert np.isclose(get_average_magnitude(x.numpy()), 1.0)\n",
    "#                 assert np.isclose(get_average_power(x.numpy()), 1.0)\n",
    "                "
   ]
  },
  {
   "cell_type": "code",
   "execution_count": 21,
   "id": "bbdacba1",
   "metadata": {
    "execution": {
     "iopub.execute_input": "2022-03-25T05:48:23.529748Z",
     "iopub.status.busy": "2022-03-25T05:48:23.529476Z",
     "iopub.status.idle": "2022-03-25T05:48:23.577180Z",
     "shell.execute_reply": "2022-03-25T05:48:23.576806Z"
    },
    "papermill": {
     "duration": 0.06485,
     "end_time": "2022-03-25T05:48:23.577261",
     "exception": false,
     "start_time": "2022-03-25T05:48:23.512411",
     "status": "completed"
    },
    "tags": []
   },
   "outputs": [
    {
     "name": "stdout",
     "output_type": "stream",
     "text": [
      "(2, 200)\n"
     ]
    }
   ],
   "source": [
    "###################################\n",
    "# Build the model\n",
    "###################################\n",
    "# easfsl only wants a tuple for the shape\n",
    "model = Steves_Prototypical_Network(x_net, device=p.device, x_shape=tuple(p.x_shape))\n",
    "optimizer = Adam(params=model.parameters(), lr=p.lr)"
   ]
  },
  {
   "cell_type": "code",
   "execution_count": 22,
   "id": "22b39ac5",
   "metadata": {
    "execution": {
     "iopub.execute_input": "2022-03-25T05:48:23.615002Z",
     "iopub.status.busy": "2022-03-25T05:48:23.614732Z",
     "iopub.status.idle": "2022-03-25T06:03:46.040656Z",
     "shell.execute_reply": "2022-03-25T06:03:46.040330Z"
    },
    "papermill": {
     "duration": 922.442858,
     "end_time": "2022-03-25T06:03:46.040737",
     "exception": false,
     "start_time": "2022-03-25T05:48:23.597879",
     "status": "completed"
    },
    "tags": []
   },
   "outputs": [
    {
     "name": "stdout",
     "output_type": "stream",
     "text": [
      "epoch: 1, [batch: 1 / 6316], examples_per_second: 49.3801, train_label_loss: 2.5182, \n"
     ]
    },
    {
     "name": "stdout",
     "output_type": "stream",
     "text": [
      "epoch: 1, [batch: 632 / 6316], examples_per_second: 3654.2177, train_label_loss: 0.0319, \n"
     ]
    },
    {
     "name": "stdout",
     "output_type": "stream",
     "text": [
      "epoch: 1, [batch: 1264 / 6316], examples_per_second: 3663.2762, train_label_loss: 0.0040, \n"
     ]
    },
    {
     "name": "stdout",
     "output_type": "stream",
     "text": [
      "epoch: 1, [batch: 1895 / 6316], examples_per_second: 3650.1036, train_label_loss: 0.0024, \n"
     ]
    },
    {
     "name": "stdout",
     "output_type": "stream",
     "text": [
      "epoch: 1, [batch: 2527 / 6316], examples_per_second: 3620.7029, train_label_loss: 0.0003, \n"
     ]
    },
    {
     "name": "stdout",
     "output_type": "stream",
     "text": [
      "epoch: 1, [batch: 3158 / 6316], examples_per_second: 3647.0979, train_label_loss: 0.0020, \n"
     ]
    },
    {
     "name": "stdout",
     "output_type": "stream",
     "text": [
      "epoch: 1, [batch: 3790 / 6316], examples_per_second: 3665.9944, train_label_loss: 0.0001, \n"
     ]
    },
    {
     "name": "stdout",
     "output_type": "stream",
     "text": [
      "epoch: 1, [batch: 4421 / 6316], examples_per_second: 3670.8561, train_label_loss: 0.0003, \n"
     ]
    },
    {
     "name": "stdout",
     "output_type": "stream",
     "text": [
      "epoch: 1, [batch: 5053 / 6316], examples_per_second: 3658.5573, train_label_loss: 0.0177, \n"
     ]
    },
    {
     "name": "stdout",
     "output_type": "stream",
     "text": [
      "epoch: 1, [batch: 5684 / 6316], examples_per_second: 3663.9380, train_label_loss: 0.0002, \n"
     ]
    },
    {
     "name": "stdout",
     "output_type": "stream",
     "text": [
      "=============================================================\n",
      "epoch: 1, source_val_acc_label: 0.9933, target_val_acc_label: 0.2523, source_val_label_loss: 0.0260, target_val_label_loss: 2.3195, \n",
      "=============================================================\n"
     ]
    },
    {
     "name": "stdout",
     "output_type": "stream",
     "text": [
      "New best\n"
     ]
    },
    {
     "name": "stdout",
     "output_type": "stream",
     "text": [
      "epoch: 2, [batch: 1 / 6296], examples_per_second: 5.4694, train_label_loss: 0.0037, \n"
     ]
    },
    {
     "name": "stdout",
     "output_type": "stream",
     "text": [
      "epoch: 2, [batch: 630 / 6296], examples_per_second: 3622.0924, train_label_loss: 0.1774, \n"
     ]
    },
    {
     "name": "stdout",
     "output_type": "stream",
     "text": [
      "epoch: 2, [batch: 1260 / 6296], examples_per_second: 3642.9384, train_label_loss: 0.0000, \n"
     ]
    },
    {
     "name": "stdout",
     "output_type": "stream",
     "text": [
      "epoch: 2, [batch: 1889 / 6296], examples_per_second: 3638.9149, train_label_loss: 0.0005, \n"
     ]
    },
    {
     "name": "stdout",
     "output_type": "stream",
     "text": [
      "epoch: 2, [batch: 2519 / 6296], examples_per_second: 3623.2188, train_label_loss: 0.0049, \n"
     ]
    },
    {
     "name": "stdout",
     "output_type": "stream",
     "text": [
      "epoch: 2, [batch: 3148 / 6296], examples_per_second: 3635.0551, train_label_loss: 0.0001, \n"
     ]
    },
    {
     "name": "stdout",
     "output_type": "stream",
     "text": [
      "epoch: 2, [batch: 3778 / 6296], examples_per_second: 3633.1651, train_label_loss: 0.0000, \n"
     ]
    },
    {
     "name": "stdout",
     "output_type": "stream",
     "text": [
      "epoch: 2, [batch: 4407 / 6296], examples_per_second: 3630.0056, train_label_loss: 0.0008, \n"
     ]
    },
    {
     "name": "stdout",
     "output_type": "stream",
     "text": [
      "epoch: 2, [batch: 5037 / 6296], examples_per_second: 3627.9162, train_label_loss: 0.0001, \n"
     ]
    },
    {
     "name": "stdout",
     "output_type": "stream",
     "text": [
      "epoch: 2, [batch: 5666 / 6296], examples_per_second: 3675.7664, train_label_loss: 0.0001, \n"
     ]
    },
    {
     "name": "stdout",
     "output_type": "stream",
     "text": [
      "=============================================================\n",
      "epoch: 2, source_val_acc_label: 0.9989, target_val_acc_label: 0.3474, source_val_label_loss: 0.0081, target_val_label_loss: 2.0277, \n",
      "=============================================================\n"
     ]
    },
    {
     "name": "stdout",
     "output_type": "stream",
     "text": [
      "New best\n"
     ]
    },
    {
     "name": "stdout",
     "output_type": "stream",
     "text": [
      "epoch: 3, [batch: 1 / 6299], examples_per_second: 5.4638, train_label_loss: 0.0019, \n"
     ]
    },
    {
     "name": "stdout",
     "output_type": "stream",
     "text": [
      "epoch: 3, [batch: 630 / 6299], examples_per_second: 3619.6497, train_label_loss: 0.0000, \n"
     ]
    },
    {
     "name": "stdout",
     "output_type": "stream",
     "text": [
      "epoch: 3, [batch: 1260 / 6299], examples_per_second: 3652.7914, train_label_loss: 0.0000, \n"
     ]
    },
    {
     "name": "stdout",
     "output_type": "stream",
     "text": [
      "epoch: 3, [batch: 1890 / 6299], examples_per_second: 3655.8457, train_label_loss: 0.0000, \n"
     ]
    },
    {
     "name": "stdout",
     "output_type": "stream",
     "text": [
      "epoch: 3, [batch: 2520 / 6299], examples_per_second: 3637.9216, train_label_loss: 0.0000, \n"
     ]
    },
    {
     "name": "stdout",
     "output_type": "stream",
     "text": [
      "epoch: 3, [batch: 3150 / 6299], examples_per_second: 3651.8411, train_label_loss: 0.0001, \n"
     ]
    },
    {
     "name": "stdout",
     "output_type": "stream",
     "text": [
      "epoch: 3, [batch: 3779 / 6299], examples_per_second: 3659.3602, train_label_loss: 0.0000, \n"
     ]
    },
    {
     "name": "stdout",
     "output_type": "stream",
     "text": [
      "epoch: 3, [batch: 4409 / 6299], examples_per_second: 3643.8850, train_label_loss: 0.0000, \n"
     ]
    },
    {
     "name": "stdout",
     "output_type": "stream",
     "text": [
      "epoch: 3, [batch: 5039 / 6299], examples_per_second: 3658.2933, train_label_loss: 0.1044, \n"
     ]
    },
    {
     "name": "stdout",
     "output_type": "stream",
     "text": [
      "epoch: 3, [batch: 5669 / 6299], examples_per_second: 3650.8504, train_label_loss: 0.0000, \n"
     ]
    },
    {
     "name": "stdout",
     "output_type": "stream",
     "text": [
      "=============================================================\n",
      "epoch: 3, source_val_acc_label: 0.9985, target_val_acc_label: 0.3341, source_val_label_loss: 0.0088, target_val_label_loss: 2.2605, \n",
      "=============================================================\n"
     ]
    },
    {
     "name": "stdout",
     "output_type": "stream",
     "text": [
      "epoch: 4, [batch: 1 / 6316], examples_per_second: 5.4908, train_label_loss: 0.0000, \n"
     ]
    },
    {
     "name": "stdout",
     "output_type": "stream",
     "text": [
      "epoch: 4, [batch: 632 / 6316], examples_per_second: 3612.2373, train_label_loss: 0.0001, \n"
     ]
    },
    {
     "name": "stdout",
     "output_type": "stream",
     "text": [
      "epoch: 4, [batch: 1264 / 6316], examples_per_second: 3657.6954, train_label_loss: 0.0000, \n"
     ]
    },
    {
     "name": "stdout",
     "output_type": "stream",
     "text": [
      "epoch: 4, [batch: 1895 / 6316], examples_per_second: 3647.4403, train_label_loss: 0.0002, \n"
     ]
    },
    {
     "name": "stdout",
     "output_type": "stream",
     "text": [
      "epoch: 4, [batch: 2527 / 6316], examples_per_second: 3652.8376, train_label_loss: 0.0000, \n"
     ]
    },
    {
     "name": "stdout",
     "output_type": "stream",
     "text": [
      "epoch: 4, [batch: 3158 / 6316], examples_per_second: 3653.5396, train_label_loss: 0.0000, \n"
     ]
    },
    {
     "name": "stdout",
     "output_type": "stream",
     "text": [
      "epoch: 4, [batch: 3790 / 6316], examples_per_second: 3656.9465, train_label_loss: 0.0000, \n"
     ]
    },
    {
     "name": "stdout",
     "output_type": "stream",
     "text": [
      "epoch: 4, [batch: 4421 / 6316], examples_per_second: 3632.2944, train_label_loss: 0.0000, \n"
     ]
    },
    {
     "name": "stdout",
     "output_type": "stream",
     "text": [
      "epoch: 4, [batch: 5053 / 6316], examples_per_second: 3650.7584, train_label_loss: 0.0000, \n"
     ]
    },
    {
     "name": "stdout",
     "output_type": "stream",
     "text": [
      "epoch: 4, [batch: 5684 / 6316], examples_per_second: 3650.5114, train_label_loss: 0.0001, \n"
     ]
    },
    {
     "name": "stdout",
     "output_type": "stream",
     "text": [
      "=============================================================\n",
      "epoch: 4, source_val_acc_label: 0.9994, target_val_acc_label: 0.3005, source_val_label_loss: 0.0082, target_val_label_loss: 2.5352, \n",
      "=============================================================\n"
     ]
    },
    {
     "name": "stdout",
     "output_type": "stream",
     "text": [
      "epoch: 5, [batch: 1 / 6313], examples_per_second: 5.4433, train_label_loss: 0.0000, \n"
     ]
    },
    {
     "name": "stdout",
     "output_type": "stream",
     "text": [
      "epoch: 5, [batch: 632 / 6313], examples_per_second: 3622.8439, train_label_loss: 0.0019, \n"
     ]
    },
    {
     "name": "stdout",
     "output_type": "stream",
     "text": [
      "epoch: 5, [batch: 1263 / 6313], examples_per_second: 3651.7131, train_label_loss: 0.0000, \n"
     ]
    },
    {
     "name": "stdout",
     "output_type": "stream",
     "text": [
      "epoch: 5, [batch: 1894 / 6313], examples_per_second: 3669.2341, train_label_loss: 0.0000, \n"
     ]
    },
    {
     "name": "stdout",
     "output_type": "stream",
     "text": [
      "epoch: 5, [batch: 2525 / 6313], examples_per_second: 3641.5180, train_label_loss: 0.0000, \n"
     ]
    },
    {
     "name": "stdout",
     "output_type": "stream",
     "text": [
      "epoch: 5, [batch: 3157 / 6313], examples_per_second: 3645.4849, train_label_loss: 0.0000, \n"
     ]
    },
    {
     "name": "stdout",
     "output_type": "stream",
     "text": [
      "epoch: 5, [batch: 3788 / 6313], examples_per_second: 3656.4783, train_label_loss: 0.0000, \n"
     ]
    },
    {
     "name": "stdout",
     "output_type": "stream",
     "text": [
      "epoch: 5, [batch: 4419 / 6313], examples_per_second: 3644.1961, train_label_loss: 0.0001, \n"
     ]
    },
    {
     "name": "stdout",
     "output_type": "stream",
     "text": [
      "epoch: 5, [batch: 5050 / 6313], examples_per_second: 3660.0656, train_label_loss: 0.0000, \n"
     ]
    },
    {
     "name": "stdout",
     "output_type": "stream",
     "text": [
      "epoch: 5, [batch: 5681 / 6313], examples_per_second: 3659.1301, train_label_loss: 0.0000, \n"
     ]
    },
    {
     "name": "stdout",
     "output_type": "stream",
     "text": [
      "=============================================================\n",
      "epoch: 5, source_val_acc_label: 0.9992, target_val_acc_label: 0.3089, source_val_label_loss: 0.0081, target_val_label_loss: 2.8444, \n",
      "=============================================================\n"
     ]
    },
    {
     "name": "stdout",
     "output_type": "stream",
     "text": [
      "epoch: 6, [batch: 1 / 6307], examples_per_second: 5.4741, train_label_loss: 0.0000, \n"
     ]
    },
    {
     "name": "stdout",
     "output_type": "stream",
     "text": [
      "epoch: 6, [batch: 631 / 6307], examples_per_second: 3622.2793, train_label_loss: 0.0000, \n"
     ]
    },
    {
     "name": "stdout",
     "output_type": "stream",
     "text": [
      "epoch: 6, [batch: 1262 / 6307], examples_per_second: 3643.4841, train_label_loss: 0.0000, \n"
     ]
    },
    {
     "name": "stdout",
     "output_type": "stream",
     "text": [
      "epoch: 6, [batch: 1892 / 6307], examples_per_second: 3665.6920, train_label_loss: 0.0000, \n"
     ]
    },
    {
     "name": "stdout",
     "output_type": "stream",
     "text": [
      "epoch: 6, [batch: 2523 / 6307], examples_per_second: 3659.2152, train_label_loss: 0.0000, \n"
     ]
    },
    {
     "name": "stdout",
     "output_type": "stream",
     "text": [
      "epoch: 6, [batch: 3154 / 6307], examples_per_second: 3674.5368, train_label_loss: 0.0000, \n"
     ]
    },
    {
     "name": "stdout",
     "output_type": "stream",
     "text": [
      "epoch: 6, [batch: 3784 / 6307], examples_per_second: 3655.1369, train_label_loss: 0.0000, \n"
     ]
    },
    {
     "name": "stdout",
     "output_type": "stream",
     "text": [
      "epoch: 6, [batch: 4415 / 6307], examples_per_second: 3657.6275, train_label_loss: 0.0000, \n"
     ]
    },
    {
     "name": "stdout",
     "output_type": "stream",
     "text": [
      "epoch: 6, [batch: 5045 / 6307], examples_per_second: 3672.4602, train_label_loss: 0.0000, \n"
     ]
    },
    {
     "name": "stdout",
     "output_type": "stream",
     "text": [
      "epoch: 6, [batch: 5676 / 6307], examples_per_second: 3641.0605, train_label_loss: 0.0000, \n"
     ]
    },
    {
     "name": "stdout",
     "output_type": "stream",
     "text": [
      "=============================================================\n",
      "epoch: 6, source_val_acc_label: 0.9992, target_val_acc_label: 0.2512, source_val_label_loss: 0.0063, target_val_label_loss: 3.4570, \n",
      "=============================================================\n"
     ]
    },
    {
     "name": "stdout",
     "output_type": "stream",
     "text": [
      "Patience (3) exhausted\n"
     ]
    }
   ],
   "source": [
    "###################################\n",
    "# train\n",
    "###################################\n",
    "jig = PTN_Train_Eval_Test_Jig(model, p.BEST_MODEL_PATH, p.device)\n",
    "\n",
    "jig.train(\n",
    "    train_iterable=datasets.source.processed.train,\n",
    "    source_val_iterable=datasets.source.processed.val,\n",
    "    target_val_iterable=datasets.target.processed.val,\n",
    "    num_epochs=p.n_epoch,\n",
    "    num_logs_per_epoch=p.NUM_LOGS_PER_EPOCH,\n",
    "    patience=p.patience,\n",
    "    optimizer=optimizer,\n",
    "    criteria_for_best=p.criteria_for_best,\n",
    ")"
   ]
  },
  {
   "cell_type": "code",
   "execution_count": 23,
   "id": "31e8fabf",
   "metadata": {
    "execution": {
     "iopub.execute_input": "2022-03-25T06:03:46.097440Z",
     "iopub.status.busy": "2022-03-25T06:03:46.097173Z",
     "iopub.status.idle": "2022-03-25T06:03:46.116841Z",
     "shell.execute_reply": "2022-03-25T06:03:46.116392Z"
    },
    "papermill": {
     "duration": 0.048414,
     "end_time": "2022-03-25T06:03:46.116931",
     "exception": false,
     "start_time": "2022-03-25T06:03:46.068517",
     "status": "completed"
    },
    "tags": []
   },
   "outputs": [],
   "source": [
    "total_experiment_time_secs = time.time() - start_time_secs"
   ]
  },
  {
   "cell_type": "code",
   "execution_count": 24,
   "id": "87b9595b",
   "metadata": {
    "execution": {
     "iopub.execute_input": "2022-03-25T06:03:46.179134Z",
     "iopub.status.busy": "2022-03-25T06:03:46.178843Z",
     "iopub.status.idle": "2022-03-25T06:05:17.067731Z",
     "shell.execute_reply": "2022-03-25T06:05:17.068102Z"
    },
    "papermill": {
     "duration": 90.921003,
     "end_time": "2022-03-25T06:05:17.068234",
     "exception": false,
     "start_time": "2022-03-25T06:03:46.147231",
     "status": "completed"
    },
    "tags": []
   },
   "outputs": [],
   "source": [
    "###################################\n",
    "# Evaluate the model\n",
    "###################################\n",
    "source_test_label_accuracy, source_test_label_loss = jig.test(datasets.source.processed.test)\n",
    "target_test_label_accuracy, target_test_label_loss = jig.test(datasets.target.processed.test)\n",
    "\n",
    "source_val_label_accuracy, source_val_label_loss = jig.test(datasets.source.processed.val)\n",
    "target_val_label_accuracy, target_val_label_loss = jig.test(datasets.target.processed.val)\n",
    "\n",
    "history = jig.get_history()\n",
    "\n",
    "total_epochs_trained = len(history[\"epoch_indices\"])\n",
    "\n",
    "val_dl = Iterable_Aggregator((datasets.source.original.val,datasets.target.original.val))\n",
    "\n",
    "confusion = ptn_confusion_by_domain_over_dataloader(model, p.device, val_dl)\n",
    "per_domain_accuracy = per_domain_accuracy_from_confusion(confusion)\n",
    "\n",
    "# Add a key to per_domain_accuracy for if it was a source domain\n",
    "for domain, accuracy in per_domain_accuracy.items():\n",
    "    per_domain_accuracy[domain] = {\n",
    "        \"accuracy\": accuracy,\n",
    "        \"source?\": domain in p.domains_source\n",
    "    }\n",
    "\n",
    "# Do an independent accuracy assesment JUST TO BE SURE!\n",
    "# _source_test_label_accuracy = independent_accuracy_assesment(model, datasets.source.processed.test, p.device)\n",
    "# _target_test_label_accuracy = independent_accuracy_assesment(model, datasets.target.processed.test, p.device)\n",
    "# _source_val_label_accuracy = independent_accuracy_assesment(model, datasets.source.processed.val, p.device)\n",
    "# _target_val_label_accuracy = independent_accuracy_assesment(model, datasets.target.processed.val, p.device)\n",
    "\n",
    "# assert(_source_test_label_accuracy == source_test_label_accuracy)\n",
    "# assert(_target_test_label_accuracy == target_test_label_accuracy)\n",
    "# assert(_source_val_label_accuracy == source_val_label_accuracy)\n",
    "# assert(_target_val_label_accuracy == target_val_label_accuracy)\n",
    "\n",
    "experiment = {\n",
    "    \"experiment_name\": p.experiment_name,\n",
    "    \"parameters\": dict(p),\n",
    "    \"results\": {\n",
    "        \"source_test_label_accuracy\": source_test_label_accuracy,\n",
    "        \"source_test_label_loss\": source_test_label_loss,\n",
    "        \"target_test_label_accuracy\": target_test_label_accuracy,\n",
    "        \"target_test_label_loss\": target_test_label_loss,\n",
    "        \"source_val_label_accuracy\": source_val_label_accuracy,\n",
    "        \"source_val_label_loss\": source_val_label_loss,\n",
    "        \"target_val_label_accuracy\": target_val_label_accuracy,\n",
    "        \"target_val_label_loss\": target_val_label_loss,\n",
    "        \"total_epochs_trained\": total_epochs_trained,\n",
    "        \"total_experiment_time_secs\": total_experiment_time_secs,\n",
    "        \"confusion\": confusion,\n",
    "        \"per_domain_accuracy\": per_domain_accuracy,\n",
    "    },\n",
    "    \"history\": history,\n",
    "    \"dataset_metrics\": get_dataset_metrics(datasets, \"ptn\"),\n",
    "}"
   ]
  },
  {
   "cell_type": "code",
   "execution_count": 25,
   "id": "54a21829",
   "metadata": {
    "execution": {
     "iopub.execute_input": "2022-03-25T06:05:17.129283Z",
     "iopub.status.busy": "2022-03-25T06:05:17.129011Z",
     "iopub.status.idle": "2022-03-25T06:05:17.265209Z",
     "shell.execute_reply": "2022-03-25T06:05:17.265418Z"
    },
    "papermill": {
     "duration": 0.165452,
     "end_time": "2022-03-25T06:05:17.265504",
     "exception": false,
     "start_time": "2022-03-25T06:05:17.100052",
     "status": "completed"
    },
    "tags": []
   },
   "outputs": [
    {
     "data": {
      "image/png": "[encoded data removed]",
      "text/plain": [
       "<Figure size 1080x504 with 1 Axes>"
      ]
     },
     "metadata": {
      "needs_background": "light"
     },
     "output_type": "display_data"
    }
   ],
   "source": [
    "ax = get_loss_curve(experiment)\n",
    "plt.show()"
   ]
  },
  {
   "cell_type": "code",
   "execution_count": 26,
   "id": "fd8a0f60",
   "metadata": {
    "execution": {
     "iopub.execute_input": "2022-03-25T06:05:17.325359Z",
     "iopub.status.busy": "2022-03-25T06:05:17.324865Z",
     "iopub.status.idle": "2022-03-25T06:05:17.465184Z",
     "shell.execute_reply": "2022-03-25T06:05:17.465399Z"
    },
    "papermill": {
     "duration": 0.170128,
     "end_time": "2022-03-25T06:05:17.465477",
     "exception": false,
     "start_time": "2022-03-25T06:05:17.295349",
     "status": "completed"
    },
    "tags": []
   },
   "outputs": [
    {
     "data": {
      "text/plain": [
       "<AxesSubplot:title={'center':'Results'}>"
      ]
     },
     "execution_count": 26,
     "metadata": {},
     "output_type": "execute_result"
    },
    {
     "data": {
      "image/png": "[encoded data removed]",
      "text/plain": [
       "<Figure size 1080x504 with 1 Axes>"
      ]
     },
     "metadata": {
      "needs_background": "light"
     },
     "output_type": "display_data"
    }
   ],
   "source": [
    "get_results_table(experiment)"
   ]
  },
  {
   "cell_type": "code",
   "execution_count": 27,
   "id": "cf8dc689",
   "metadata": {
    "execution": {
     "iopub.execute_input": "2022-03-25T06:05:17.525790Z",
     "iopub.status.busy": "2022-03-25T06:05:17.525541Z",
     "iopub.status.idle": "2022-03-25T06:05:17.661531Z",
     "shell.execute_reply": "2022-03-25T06:05:17.661942Z"
    },
    "papermill": {
     "duration": 0.167451,
     "end_time": "2022-03-25T06:05:17.662092",
     "exception": false,
     "start_time": "2022-03-25T06:05:17.494641",
     "status": "completed"
    },
    "tags": []
   },
   "outputs": [
    {
     "data": {
      "text/plain": [
       "<AxesSubplot:title={'center':'Per Domain Validation Accuracy'}, xlabel='domain'>"
      ]
     },
     "execution_count": 27,
     "metadata": {},
     "output_type": "execute_result"
    },
    {
     "data": {
      "image/png": "[encoded data removed]",
      "text/plain": [
       "<Figure size 1080x504 with 1 Axes>"
      ]
     },
     "metadata": {
      "needs_background": "light"
     },
     "output_type": "display_data"
    }
   ],
   "source": [
    "get_domain_accuracies(experiment)"
   ]
  },
  {
   "cell_type": "code",
   "execution_count": 28,
   "id": "a74ae082",
   "metadata": {
    "execution": {
     "iopub.execute_input": "2022-03-25T06:05:17.728663Z",
     "iopub.status.busy": "2022-03-25T06:05:17.728408Z",
     "iopub.status.idle": "2022-03-25T06:05:17.743726Z",
     "shell.execute_reply": "2022-03-25T06:05:17.743241Z"
    },
    "papermill": {
     "duration": 0.04707,
     "end_time": "2022-03-25T06:05:17.743828",
     "exception": false,
     "start_time": "2022-03-25T06:05:17.696758",
     "status": "completed"
    },
    "tags": []
   },
   "outputs": [
    {
     "name": "stdout",
     "output_type": "stream",
     "text": [
      "Source Test Label Accuracy: 0.998340395480226 Target Test Label Accuracy: 0.34915364583333336\n",
      "Source Val Label Accuracy: 0.9989285714285714 Target Val Label Accuracy: 0.34736328125\n"
     ]
    }
   ],
   "source": [
    "print(\"Source Test Label Accuracy:\", experiment[\"results\"][\"source_test_label_accuracy\"], \"Target Test Label Accuracy:\", experiment[\"results\"][\"target_test_label_accuracy\"])\n",
    "print(\"Source Val Label Accuracy:\", experiment[\"results\"][\"source_val_label_accuracy\"], \"Target Val Label Accuracy:\", experiment[\"results\"][\"target_val_label_accuracy\"])"
   ]
  },
  {
   "cell_type": "code",
   "execution_count": 29,
   "id": "dacca602",
   "metadata": {
    "execution": {
     "iopub.execute_input": "2022-03-25T06:05:17.810492Z",
     "iopub.status.busy": "2022-03-25T06:05:17.810247Z",
     "iopub.status.idle": "2022-03-25T06:05:17.825794Z",
     "shell.execute_reply": "2022-03-25T06:05:17.826207Z"
    },
    "papermill": {
     "duration": 0.047647,
     "end_time": "2022-03-25T06:05:17.826331",
     "exception": false,
     "start_time": "2022-03-25T06:05:17.778684",
     "status": "completed"
    },
    "tags": [
     "experiment_json"
    ]
   },
   "outputs": [
    {
     "data": {
      "text/plain": [
       "'{\"experiment_name\": \"tl_3Av2:cores -> oracle.run1.framed\", \"parameters\": {\"experiment_name\": \"tl_3Av2:cores -> oracle.run1.framed\", \"device\": \"cuda\", \"lr\": 0.0001, \"x_shape\": [2, 200], \"n_shot\": 3, \"n_query\": 2, \"train_k_factor\": 3, \"val_k_factor\": 2, \"test_k_factor\": 2, \"torch_default_dtype\": \"torch.float32\", \"n_epoch\": 50, \"patience\": 3, \"criteria_for_best\": \"target_accuracy\", \"x_net\": [{\"class\": \"nnReshape\", \"kargs\": {\"shape\": [-1, 1, 2, 200]}}, {\"class\": \"Conv2d\", \"kargs\": {\"in_channels\": 1, \"out_channels\": 256, \"kernel_size\": [1, 7], \"bias\": false, \"padding\": [0, 3]}}, {\"class\": \"ReLU\", \"kargs\": {\"inplace\": true}}, {\"class\": \"BatchNorm2d\", \"kargs\": {\"num_features\": 256}}, {\"class\": \"Conv2d\", \"kargs\": {\"in_channels\": 256, \"out_channels\": 80, \"kernel_size\": [2, 7], \"bias\": true, \"padding\": [0, 3]}}, {\"class\": \"ReLU\", \"kargs\": {\"inplace\": true}}, {\"class\": \"BatchNorm2d\", \"kargs\": {\"num_features\": 80}}, {\"class\": \"Flatten\", \"kargs\": {}}, {\"class\": \"Linear\", \"kargs\": {\"in_features\": 16000, \"out_features\": 256}}, {\"class\": \"ReLU\", \"kargs\": {\"inplace\": true}}, {\"class\": \"BatchNorm1d\", \"kargs\": {\"num_features\": 256}}, {\"class\": \"Linear\", \"kargs\": {\"in_features\": 256, \"out_features\": 256}}], \"NUM_LOGS_PER_EPOCH\": 10, \"BEST_MODEL_PATH\": \"./best_model.pth\", \"n_way\": 16, \"datasets\": [{\"labels\": [\"1-10.\", \"1-11.\", \"1-15.\", \"1-16.\", \"1-17.\", \"1-18.\", \"1-19.\", \"10-4.\", \"10-7.\", \"11-1.\", \"11-14.\", \"11-17.\", \"11-20.\", \"11-7.\", \"13-20.\", \"13-8.\", \"14-10.\", \"14-11.\", \"14-14.\", \"14-7.\", \"15-1.\", \"15-20.\", \"16-1.\", \"16-16.\", \"17-10.\", \"17-11.\", \"17-2.\", \"19-1.\", \"19-16.\", \"19-19.\", \"19-20.\", \"19-3.\", \"2-10.\", \"2-11.\", \"2-17.\", \"2-18.\", \"2-20.\", \"2-3.\", \"2-4.\", \"2-5.\", \"2-6.\", \"2-7.\", \"2-8.\", \"3-13.\", \"3-18.\", \"3-3.\", \"4-1.\", \"4-10.\", \"4-11.\", \"4-19.\", \"5-5.\", \"6-15.\", \"7-10.\", \"7-14.\", \"8-18.\", \"8-20.\", \"8-3.\", \"8-8.\"], \"domains\": [1, 2, 3, 4, 5], \"num_examples_per_domain_per_label\": -1, \"pickle_path\": \"/mnt/wd500GB/CSC500/csc500-main/datasets/cores.stratified_ds.2022A.pkl\", \"source_or_target_dataset\": \"source\", \"x_transforms\": [\"unit_mag\", \"take_200\"], \"episode_transforms\": [], \"domain_prefix\": \"C_\"}, {\"labels\": [\"3123D52\", \"3123D65\", \"3123D79\", \"3123D80\", \"3123D54\", \"3123D70\", \"3123D7B\", \"3123D89\", \"3123D58\", \"3123D76\", \"3123D7D\", \"3123EFE\", \"3123D64\", \"3123D78\", \"3123D7E\", \"3124E4A\"], \"domains\": [32, 38, 8, 44, 14, 50, 20, 26], \"num_examples_per_domain_per_label\": 2000, \"pickle_path\": \"/mnt/wd500GB/CSC500/csc500-main/datasets/oracle.Run1_framed_2000Examples_stratified_ds.2022A.pkl\", \"source_or_target_dataset\": \"target\", \"x_transforms\": [\"unit_mag\", \"take_200\", \"resample_20Msps_to_25Msps\"], \"episode_transforms\": [], \"domain_prefix\": \"O_\"}], \"seed\": 7, \"dataset_seed\": 7, \"domains_source\": [\"C_1\", \"C_2\", \"C_3\", \"C_4\", \"C_5\"], \"domains_target\": [\"O_32\", \"O_38\", \"O_8\", \"O_44\", \"O_14\", \"O_50\", \"O_20\", \"O_26\"]}, \"results\": {\"source_test_label_accuracy\": 0.998340395480226, \"source_test_label_loss\": 0.010102332569658756, \"target_test_label_accuracy\": 0.34915364583333336, \"target_test_label_loss\": 2.020529270172119, \"source_val_label_accuracy\": 0.9989285714285714, \"source_val_label_loss\": 0.008126497268676758, \"target_val_label_accuracy\": 0.34736328125, \"target_val_label_loss\": 2.0276782512664795, \"total_epochs_trained\": 6, \"total_experiment_time_secs\": 978.4542891979218, \"confusion\": {\"C_5\": {\"26\": {\"26\": 24}, \"7\": {\"7\": 32}, \"56\": {\"56\": 142}, \"36\": {\"36\": 91, \"40\": 1}, \"47\": {\"47\": 100}, \"2\": {\"2\": 28}, \"15\": {\"15\": 150, \"11\": 2}, \"14\": {\"14\": 44}, \"27\": {\"27\": 146}, \"40\": {\"40\": 123, \"28\": 1}, \"49\": {\"49\": 36}, \"45\": {\"45\": 124}, \"46\": {\"46\": 136}, \"11\": {\"11\": 130}, \"30\": {\"30\": 112}, \"0\": {\"0\": 124}, \"10\": {\"10\": 68}, \"1\": {\"1\": 148}, \"42\": {\"42\": 38, \"2\": 1, \"3\": 1}, \"54\": {\"54\": 112}, \"55\": {\"55\": 152}, \"23\": {\"23\": 124}, \"25\": {\"25\": 152}, \"28\": {\"28\": 32}, \"32\": {\"32\": 32}, \"9\": {\"9\": 142}, \"39\": {\"39\": 20}, \"3\": {\"3\": 100}, \"29\": {\"29\": 118}, \"17\": {\"17\": 116}, \"35\": {\"35\": 36}, \"44\": {\"44\": 152}, \"5\": {\"5\": 128}, \"33\": {\"33\": 32}, \"34\": {\"34\": 36}, \"13\": {\"13\": 138}, \"41\": {\"41\": 28}, \"6\": {\"6\": 126, \"17\": 1, \"9\": 1}, \"51\": {\"51\": 138}, \"50\": {\"50\": 144}, \"37\": {\"37\": 24}, \"19\": {\"19\": 143, \"4\": 1}, \"57\": {\"57\": 132}, \"21\": {\"21\": 144}, \"24\": {\"24\": 79, \"43\": 1}, \"8\": {\"8\": 130}, \"12\": {\"12\": 96}, \"48\": {\"48\": 132}, \"43\": {\"43\": 150}, \"53\": {\"53\": 148}, \"38\": {\"38\": 32}, \"16\": {\"16\": 142}, \"22\": {\"22\": 28}, \"4\": {\"4\": 100}, \"18\": {\"18\": 64}, \"20\": {\"20\": 144}, \"52\": {\"52\": 140}, \"31\": {\"31\": 36}}, \"C_1\": {\"41\": {\"41\": 24}, \"40\": {\"40\": 110}, \"45\": {\"45\": 138}, \"51\": {\"51\": 148}, \"5\": {\"5\": 154}, \"30\": {\"30\": 120}, \"42\": {\"42\": 39, \"19\": 1}, \"46\": {\"46\": 136}, \"48\": {\"48\": 134}, \"53\": {\"53\": 144}, \"47\": {\"47\": 152}, \"49\": {\"49\": 32}, \"36\": {\"36\": 64}, \"32\": {\"32\": 32}, \"34\": {\"34\": 24}, \"29\": {\"29\": 140}, \"35\": {\"35\": 36}, \"3\": {\"3\": 134}, \"16\": {\"16\": 140}, \"26\": {\"26\": 24}, \"57\": {\"57\": 144}, \"44\": {\"44\": 128}, \"0\": {\"0\": 152}, \"4\": {\"4\": 132}, \"31\": {\"31\": 28}, \"11\": {\"11\": 140}, \"6\": {\"6\": 96}, \"54\": {\"54\": 104}, \"17\": {\"17\": 64}, \"20\": {\"20\": 128}, \"13\": {\"13\": 150}, \"33\": {\"33\": 32}, \"24\": {\"24\": 106, \"22\": 1, \"21\": 1}, \"52\": {\"52\": 132}, \"2\": {\"2\": 36}, \"19\": {\"19\": 156}, \"39\": {\"39\": 28}, \"8\": {\"8\": 140}, \"21\": {\"21\": 124}, \"10\": {\"10\": 95, \"22\": 1}, \"37\": {\"37\": 32}, \"25\": {\"25\": 144}, \"27\": {\"27\": 130}, \"23\": {\"23\": 136}, \"1\": {\"1\": 100}, \"50\": {\"50\": 152}, \"12\": {\"12\": 116}, \"18\": {\"18\": 72}, \"38\": {\"38\": 24}, \"14\": {\"14\": 23, \"5\": 1}, \"56\": {\"56\": 141, \"57\": 1}, \"55\": {\"55\": 160}, \"9\": {\"9\": 138}, \"15\": {\"15\": 146}, \"28\": {\"28\": 28}, \"7\": {\"7\": 28}, \"43\": {\"43\": 136}, \"22\": {\"22\": 135, \"24\": 1}}, \"C_3\": {\"1\": {\"1\": 100}, \"9\": {\"9\": 124}, \"22\": {\"22\": 136}, \"43\": {\"43\": 136}, \"49\": {\"49\": 20}, \"50\": {\"50\": 138}, \"53\": {\"53\": 136}, \"10\": {\"10\": 64}, \"48\": {\"48\": 116}, \"8\": {\"8\": 138}, \"31\": {\"31\": 28}, \"56\": {\"56\": 134}, \"25\": {\"25\": 142}, \"28\": {\"28\": 28}, \"38\": {\"38\": 28}, \"5\": {\"5\": 116}, \"12\": {\"12\": 92}, \"6\": {\"6\": 87, \"50\": 1}, \"19\": {\"19\": 152}, \"26\": {\"26\": 24}, \"32\": {\"32\": 28}, \"33\": {\"33\": 28}, \"3\": {\"3\": 118}, \"51\": {\"51\": 128}, \"16\": {\"16\": 138}, \"46\": {\"46\": 140}, \"7\": {\"7\": 36}, \"47\": {\"47\": 92}, \"39\": {\"39\": 16}, \"40\": {\"40\": 136}, \"14\": {\"14\": 40}, \"37\": {\"37\": 28}, \"2\": {\"2\": 32}, \"21\": {\"21\": 120}, \"35\": {\"35\": 28}, \"54\": {\"54\": 100}, \"52\": {\"52\": 116}, \"29\": {\"29\": 118}, \"20\": {\"20\": 132}, \"18\": {\"18\": 84}, \"11\": {\"11\": 142}, \"0\": {\"0\": 124}, \"36\": {\"36\": 100}, \"17\": {\"17\": 108}, \"30\": {\"30\": 114}, \"42\": {\"42\": 28}, \"45\": {\"45\": 60}, \"4\": {\"4\": 148}, \"23\": {\"23\": 134}, \"13\": {\"13\": 128}, \"15\": {\"15\": 128}, \"57\": {\"57\": 124}, \"27\": {\"27\": 134}, \"44\": {\"44\": 87, \"40\": 1}, \"34\": {\"34\": 32}, \"41\": {\"41\": 28}, \"24\": {\"24\": 104}, \"55\": {\"55\": 118}}, \"C_4\": {\"52\": {\"52\": 116}, \"6\": {\"6\": 111, \"3\": 1}, \"14\": {\"14\": 16}, \"49\": {\"49\": 20}, \"0\": {\"0\": 80}, \"46\": {\"46\": 155, \"47\": 1}, \"41\": {\"41\": 36}, \"24\": {\"24\": 56}, \"25\": {\"25\": 152}, \"40\": {\"40\": 138}, \"38\": {\"38\": 40}, \"13\": {\"13\": 152}, \"9\": {\"9\": 108}, \"45\": {\"45\": 95, \"17\": 1}, \"43\": {\"43\": 144}, \"10\": {\"10\": 130}, \"15\": {\"15\": 128}, \"39\": {\"39\": 20}, \"4\": {\"4\": 132}, \"53\": {\"53\": 131, \"50\": 1}, \"1\": {\"1\": 40}, \"28\": {\"28\": 32}, \"54\": {\"54\": 108}, \"21\": {\"21\": 132}, \"7\": {\"7\": 24}, \"8\": {\"8\": 136}, \"42\": {\"42\": 32}, \"11\": {\"11\": 103, \"5\": 1}, \"33\": {\"33\": 36}, \"27\": {\"27\": 142}, \"19\": {\"19\": 144}, \"2\": {\"2\": 36}, \"3\": {\"3\": 120}, \"57\": {\"57\": 100}, \"20\": {\"20\": 112}, \"23\": {\"23\": 128}, \"22\": {\"22\": 128}, \"29\": {\"29\": 124}, \"36\": {\"36\": 92}, \"51\": {\"51\": 132}, \"31\": {\"31\": 28}, \"12\": {\"12\": 92}, \"56\": {\"56\": 138}, \"5\": {\"5\": 108}, \"35\": {\"35\": 40}, \"17\": {\"17\": 80}, \"32\": {\"32\": 24}, \"47\": {\"47\": 120}, \"18\": {\"18\": 107, \"22\": 1}, \"26\": {\"26\": 24}, \"50\": {\"50\": 121, \"3\": 1}, \"55\": {\"55\": 124}, \"34\": {\"34\": 24}, \"30\": {\"30\": 44}, \"37\": {\"37\": 24}, \"44\": {\"44\": 132}, \"48\": {\"48\": 118}, \"16\": {\"16\": 96}}, \"C_2\": {\"11\": {\"11\": 130}, \"21\": {\"21\": 120}, \"19\": {\"19\": 140}, \"20\": {\"20\": 128}, \"9\": {\"9\": 140}, \"10\": {\"10\": 112}, \"37\": {\"37\": 36}, \"32\": {\"32\": 28}, \"3\": {\"3\": 92}, \"39\": {\"39\": 28}, \"45\": {\"45\": 128}, \"50\": {\"50\": 136}, \"40\": {\"40\": 138, \"35\": 2}, \"46\": {\"46\": 128}, \"12\": {\"12\": 92}, \"13\": {\"13\": 116}, \"47\": {\"47\": 132}, \"15\": {\"15\": 142}, \"54\": {\"54\": 108}, \"48\": {\"48\": 148}, \"23\": {\"23\": 142}, \"29\": {\"29\": 128}, \"38\": {\"38\": 20}, \"53\": {\"53\": 136}, \"27\": {\"27\": 150}, \"43\": {\"43\": 144}, \"35\": {\"35\": 32}, \"0\": {\"0\": 48}, \"52\": {\"52\": 124}, \"8\": {\"8\": 128}, \"24\": {\"24\": 96}, \"18\": {\"18\": 48}, \"25\": {\"25\": 148}, \"57\": {\"57\": 136}, \"55\": {\"55\": 134}, \"36\": {\"36\": 116}, \"17\": {\"17\": 104}, \"2\": {\"2\": 32}, \"34\": {\"34\": 28}, \"1\": {\"1\": 111, \"42\": 1}, \"51\": {\"51\": 136}, \"31\": {\"31\": 28}, \"49\": {\"49\": 24}, \"14\": {\"14\": 24}, \"33\": {\"33\": 28}, \"41\": {\"41\": 20}, \"28\": {\"28\": 28}, \"5\": {\"5\": 120}, \"16\": {\"16\": 150}, \"4\": {\"4\": 128}, \"22\": {\"22\": 135, \"56\": 1}, \"6\": {\"6\": 118}, \"30\": {\"30\": 124}, \"26\": {\"26\": 24}, \"56\": {\"56\": 142}, \"42\": {\"42\": 36}, \"44\": {\"44\": 100}, \"7\": {\"7\": 36}}, \"O_26\": {\"0\": {\"9\": 11, \"6\": 19, \"15\": 14, \"10\": 26, \"8\": 27, \"14\": 32, \"0\": 26, \"1\": 23, \"2\": 12, \"3\": 7, \"4\": 26, \"5\": 4, \"13\": 1, \"7\": 10, \"12\": 2}, \"4\": {\"8\": 18, \"15\": 16, \"10\": 18, \"14\": 33, \"9\": 13, \"0\": 28, \"1\": 33, \"7\": 14, \"13\": 2, \"4\": 31, \"2\": 8, \"6\": 13, \"3\": 11, \"5\": 1, \"12\": 1}, \"14\": {\"8\": 20, \"9\": 17, \"1\": 38, \"10\": 23, \"14\": 29, \"6\": 15, \"3\": 7, \"15\": 7, \"2\": 4, \"0\": 23, \"4\": 33, \"13\": 2, \"5\": 5, \"7\": 17}, \"12\": {\"12\": 174, \"11\": 22, \"9\": 1, \"10\": 8, \"6\": 18, \"4\": 3, \"15\": 3, \"1\": 4, \"5\": 1, \"14\": 2, \"8\": 2, \"13\": 2}, \"8\": {\"15\": 18, \"8\": 29, \"5\": 12, \"9\": 17, \"13\": 10, \"14\": 16, \"6\": 23, \"2\": 15, \"7\": 20, \"10\": 23, \"3\": 14, \"4\": 14, \"1\": 12, \"0\": 17}, \"7\": {\"7\": 37, \"8\": 19, \"2\": 17, \"14\": 13, \"4\": 16, \"1\": 17, \"6\": 6, \"9\": 17, \"3\": 28, \"13\": 5, \"10\": 19, \"5\": 14, \"0\": 9, \"15\": 23}, \"13\": {\"5\": 41, \"11\": 9, \"6\": 14, \"13\": 59, \"8\": 9, \"2\": 19, \"15\": 39, \"0\": 3, \"9\": 21, \"4\": 1, \"1\": 3, \"14\": 5, \"3\": 7, \"10\": 4, \"7\": 5, \"12\": 1}, \"5\": {\"9\": 21, \"8\": 14, \"7\": 15, \"5\": 37, \"3\": 17, \"13\": 48, \"2\": 24, \"0\": 8, \"15\": 15, \"6\": 15, \"14\": 10, \"1\": 7, \"4\": 3, \"10\": 5, \"11\": 1}, \"15\": {\"2\": 26, \"6\": 25, \"9\": 15, \"7\": 15, \"15\": 43, \"13\": 27, \"3\": 12, \"14\": 7, \"5\": 22, \"10\": 11, \"4\": 5, \"8\": 23, \"1\": 3, \"0\": 4, \"12\": 2}, \"10\": {\"15\": 16, \"9\": 19, \"10\": 33, \"6\": 28, \"8\": 25, \"14\": 26, \"4\": 16, \"1\": 21, \"3\": 7, \"0\": 18, \"7\": 12, \"12\": 4, \"5\": 2, \"2\": 7, \"13\": 6}, \"3\": {\"0\": 13, \"8\": 10, \"5\": 15, \"7\": 35, \"4\": 14, \"13\": 9, \"3\": 50, \"9\": 20, \"2\": 32, \"1\": 8, \"14\": 7, \"10\": 6, \"15\": 17, \"6\": 4}, \"9\": {\"9\": 44, \"8\": 15, \"2\": 9, \"14\": 14, \"10\": 11, \"0\": 14, \"7\": 20, \"5\": 27, \"13\": 18, \"6\": 23, \"1\": 6, \"15\": 19, \"4\": 9, \"3\": 10, \"12\": 1}, \"6\": {\"6\": 34, \"15\": 22, \"4\": 11, \"14\": 19, \"3\": 5, \"10\": 31, \"8\": 24, \"9\": 17, \"1\": 8, \"0\": 19, \"13\": 14, \"5\": 12, \"12\": 8, \"7\": 7, \"11\": 2, \"2\": 7}, \"1\": {\"10\": 28, \"15\": 6, \"0\": 26, \"8\": 14, \"9\": 10, \"1\": 51, \"6\": 16, \"4\": 38, \"14\": 28, \"7\": 7, \"5\": 4, \"3\": 7, \"12\": 1, \"2\": 3, \"13\": 1}, \"11\": {\"12\": 30, \"11\": 199, \"13\": 6, \"6\": 2, \"0\": 1, \"9\": 2}, \"2\": {\"13\": 20, \"9\": 13, \"7\": 25, \"5\": 34, \"8\": 14, \"3\": 37, \"2\": 38, \"14\": 10, \"15\": 26, \"10\": 8, \"6\": 4, \"1\": 3, \"4\": 5, \"0\": 3}}, \"O_44\": {\"1\": {\"12\": 57, \"1\": 60, \"3\": 61, \"10\": 32, \"2\": 15, \"7\": 12, \"9\": 3}, \"11\": {\"11\": 134, \"13\": 45, \"9\": 7, \"6\": 41, \"4\": 7, \"14\": 1, \"7\": 2, \"5\": 1, \"15\": 1, \"3\": 1}, \"3\": {\"3\": 120, \"2\": 14, \"1\": 61, \"12\": 28, \"10\": 4, \"4\": 1, \"7\": 11, \"15\": 1}, \"6\": {\"9\": 33, \"13\": 49, \"6\": 92, \"11\": 35, \"7\": 20, \"4\": 3, \"2\": 7, \"10\": 1}, \"7\": {\"2\": 52, \"6\": 21, \"1\": 5, \"9\": 37, \"13\": 15, \"7\": 86, \"4\": 3, \"3\": 7, \"10\": 10, \"12\": 2, \"11\": 2}, \"5\": {\"5\": 78, \"14\": 36, \"15\": 25, \"0\": 55, \"8\": 32, \"4\": 14}, \"2\": {\"2\": 78, \"12\": 16, \"10\": 34, \"7\": 52, \"9\": 20, \"3\": 13, \"1\": 23, \"6\": 4}, \"15\": {\"5\": 31, \"8\": 37, \"4\": 18, \"15\": 70, \"14\": 44, \"0\": 40}, \"10\": {\"12\": 36, \"1\": 37, \"2\": 38, \"10\": 102, \"7\": 16, \"9\": 3, \"6\": 1, \"3\": 7}, \"13\": {\"11\": 42, \"13\": 78, \"6\": 58, \"9\": 32, \"4\": 16, \"7\": 8, \"10\": 2, \"14\": 3, \"5\": 1}, \"8\": {\"15\": 33, \"0\": 79, \"8\": 108, \"5\": 11, \"4\": 2, \"14\": 7}, \"4\": {\"14\": 81, \"9\": 11, \"13\": 10, \"5\": 16, \"4\": 90, \"0\": 4, \"15\": 23, \"6\": 3, \"7\": 1, \"11\": 1}, \"9\": {\"4\": 8, \"13\": 30, \"9\": 63, \"6\": 38, \"7\": 56, \"2\": 28, \"11\": 8, \"3\": 5, \"1\": 3, \"10\": 1}, \"14\": {\"11\": 3, \"4\": 68, \"14\": 82, \"0\": 14, \"15\": 38, \"5\": 18, \"9\": 6, \"8\": 9, \"13\": 1, \"6\": 1}, \"0\": {\"5\": 44, \"15\": 43, \"0\": 73, \"14\": 10, \"8\": 69, \"4\": 1}, \"12\": {\"1\": 56, \"12\": 101, \"3\": 37, \"10\": 32, \"2\": 12, \"7\": 1, \"9\": 1}}, \"O_50\": {\"15\": {\"15\": 86, \"4\": 27, \"11\": 29, \"1\": 54, \"13\": 3, \"6\": 18, \"5\": 6, \"9\": 6, \"14\": 9, \"7\": 1, \"0\": 1}, \"4\": {\"5\": 36, \"6\": 42, \"4\": 54, \"13\": 16, \"12\": 1, \"7\": 13, \"2\": 2, \"15\": 36, \"0\": 4, \"11\": 4, \"1\": 25, \"14\": 3, \"10\": 2, \"9\": 2}, \"6\": {\"0\": 9, \"1\": 35, \"4\": 36, \"5\": 20, \"13\": 26, \"7\": 19, \"10\": 9, \"6\": 57, \"15\": 21, \"9\": 1, \"2\": 3, \"14\": 3, \"11\": 1}, \"2\": {\"2\": 148, \"6\": 6, \"0\": 60, \"1\": 6, \"13\": 3, \"10\": 7, \"14\": 8, \"4\": 1, \"8\": 1}, \"5\": {\"5\": 46, \"7\": 35, \"13\": 52, \"0\": 11, \"4\": 24, \"10\": 28, \"6\": 19, \"1\": 7, \"8\": 6, \"11\": 1, \"2\": 3, \"15\": 7, \"3\": 1}, \"9\": {\"12\": 52, \"9\": 95, \"11\": 58, \"15\": 8, \"14\": 22, \"2\": 2, \"1\": 3}, \"8\": {\"8\": 134, \"3\": 38, \"0\": 15, \"10\": 43, \"7\": 9, \"2\": 1}, \"12\": {\"14\": 51, \"9\": 45, \"12\": 128, \"11\": 13, \"1\": 1, \"2\": 2}, \"10\": {\"8\": 43, \"0\": 43, \"13\": 28, \"10\": 88, \"7\": 9, \"2\": 5, \"6\": 3, \"5\": 19, \"1\": 1, \"3\": 1}, \"1\": {\"4\": 34, \"0\": 5, \"6\": 24, \"14\": 7, \"15\": 56, \"2\": 8, \"1\": 64, \"5\": 13, \"7\": 1, \"11\": 15, \"13\": 7, \"9\": 4, \"12\": 1, \"10\": 1}, \"0\": {\"0\": 104, \"5\": 4, \"6\": 5, \"2\": 57, \"8\": 13, \"13\": 13, \"10\": 33, \"4\": 1, \"1\": 8, \"7\": 2}, \"3\": {\"3\": 189, \"8\": 42, \"10\": 7, \"7\": 2}, \"13\": {\"10\": 25, \"5\": 37, \"8\": 4, \"1\": 16, \"4\": 22, \"13\": 42, \"6\": 31, \"7\": 46, \"0\": 12, \"2\": 2, \"15\": 3}, \"11\": {\"15\": 29, \"11\": 88, \"9\": 53, \"1\": 21, \"14\": 24, \"4\": 11, \"12\": 12, \"2\": 1, \"6\": 1}, \"7\": {\"7\": 88, \"5\": 52, \"4\": 11, \"6\": 10, \"10\": 32, \"13\": 32, \"3\": 3, \"0\": 3, \"8\": 9}, \"14\": {\"9\": 27, \"12\": 46, \"11\": 24, \"14\": 108, \"2\": 24, \"6\": 2, \"1\": 6, \"15\": 3}}, \"O_38\": {\"15\": {\"9\": 1, \"5\": 19, \"1\": 34, \"2\": 9, \"15\": 84, \"13\": 42, \"8\": 31, \"10\": 10, \"7\": 5, \"0\": 4, \"6\": 1}, \"11\": {\"13\": 1, \"14\": 67, \"11\": 130, \"2\": 20, \"4\": 7, \"12\": 4, \"10\": 10, \"0\": 1}, \"10\": {\"13\": 21, \"10\": 89, \"2\": 17, \"15\": 23, \"14\": 21, \"12\": 21, \"7\": 12, \"8\": 17, \"11\": 6, \"0\": 4, \"1\": 4, \"6\": 1, \"5\": 2, \"4\": 2}, \"14\": {\"11\": 53, \"12\": 6, \"14\": 113, \"2\": 38, \"10\": 26, \"15\": 2, \"13\": 2}, \"6\": {\"9\": 72, \"6\": 103, \"0\": 4, \"5\": 26, \"3\": 4, \"15\": 3, \"8\": 5, \"1\": 19, \"13\": 1, \"7\": 3}, \"4\": {\"12\": 65, \"4\": 172, \"7\": 2, \"14\": 1}, \"13\": {\"15\": 53, \"2\": 32, \"8\": 12, \"5\": 8, \"13\": 74, \"10\": 31, \"1\": 19, \"6\": 2, \"0\": 5, \"7\": 1, \"3\": 1, \"14\": 2}, \"3\": {\"9\": 46, \"3\": 139, \"6\": 8, \"7\": 14, \"0\": 24, \"5\": 6, \"12\": 1, \"8\": 2}, \"7\": {\"5\": 26, \"15\": 2, \"7\": 83, \"0\": 73, \"8\": 35, \"1\": 2, \"3\": 3, \"10\": 6, \"13\": 3, \"6\": 2, \"9\": 5}, \"8\": {\"10\": 7, \"5\": 54, \"8\": 58, \"15\": 24, \"0\": 32, \"1\": 7, \"13\": 17, \"7\": 29, \"6\": 7, \"9\": 2, \"12\": 2, \"3\": 1}, \"1\": {\"6\": 20, \"1\": 116, \"8\": 11, \"9\": 6, \"15\": 58, \"13\": 8, \"5\": 19, \"0\": 1, \"7\": 1}, \"5\": {\"15\": 19, \"10\": 8, \"5\": 38, \"6\": 20, \"8\": 54, \"13\": 10, \"7\": 29, \"9\": 13, \"1\": 30, \"0\": 16, \"3\": 3}, \"0\": {\"7\": 62, \"8\": 39, \"6\": 12, \"13\": 9, \"0\": 54, \"15\": 10, \"5\": 25, \"3\": 9, \"12\": 6, \"9\": 3, \"1\": 3, \"10\": 8}, \"2\": {\"13\": 40, \"11\": 7, \"2\": 126, \"14\": 40, \"10\": 18, \"15\": 8, \"1\": 1}, \"12\": {\"12\": 158, \"14\": 15, \"4\": 47, \"10\": 10, \"8\": 1, \"11\": 3, \"0\": 4, \"7\": 1, \"13\": 1}, \"9\": {\"9\": 89, \"5\": 22, \"6\": 86, \"7\": 7, \"3\": 17, \"8\": 5, \"0\": 4, \"1\": 10}}, \"O_20\": {\"10\": {\"10\": 56, \"12\": 9, \"4\": 41, \"3\": 10, \"14\": 30, \"7\": 14, \"9\": 6, \"2\": 6, \"8\": 20, \"5\": 11, \"6\": 26, \"1\": 3, \"0\": 6, \"15\": 2}, \"7\": {\"1\": 19, \"7\": 38, \"9\": 16, \"11\": 6, \"2\": 18, \"4\": 12, \"12\": 16, \"8\": 11, \"6\": 23, \"14\": 8, \"15\": 8, \"13\": 11, \"5\": 11, \"3\": 25, \"10\": 11, \"0\": 7}, \"4\": {\"3\": 16, \"9\": 18, \"4\": 43, \"5\": 29, \"10\": 29, \"0\": 12, \"8\": 22, \"7\": 15, \"12\": 13, \"14\": 16, \"2\": 4, \"15\": 5, \"6\": 8, \"1\": 8, \"11\": 1, \"13\": 1}, \"13\": {\"12\": 15, \"3\": 14, \"2\": 25, \"15\": 26, \"7\": 20, \"13\": 64, \"5\": 10, \"9\": 18, \"1\": 26, \"11\": 7, \"0\": 9, \"8\": 4, \"10\": 1, \"6\": 1}, \"1\": {\"12\": 20, \"0\": 23, \"8\": 4, \"15\": 40, \"1\": 36, \"5\": 31, \"9\": 20, \"7\": 5, \"4\": 8, \"10\": 2, \"3\": 20, \"2\": 13, \"13\": 18}, \"0\": {\"9\": 15, \"7\": 14, \"15\": 31, \"5\": 22, \"0\": 38, \"12\": 23, \"14\": 2, \"1\": 28, \"13\": 10, \"3\": 10, \"10\": 3, \"8\": 13, \"4\": 20, \"2\": 9, \"6\": 2}, \"12\": {\"0\": 28, \"5\": 27, \"3\": 22, \"1\": 29, \"4\": 13, \"9\": 26, \"12\": 30, \"15\": 14, \"13\": 12, \"10\": 7, \"2\": 12, \"8\": 6, \"7\": 10, \"6\": 4}, \"5\": {\"15\": 25, \"12\": 27, \"5\": 21, \"9\": 19, \"4\": 14, \"3\": 27, \"0\": 29, \"8\": 7, \"7\": 8, \"1\": 30, \"10\": 5, \"2\": 14, \"13\": 9, \"6\": 3, \"11\": 2}, \"6\": {\"14\": 52, \"8\": 22, \"3\": 5, \"10\": 29, \"11\": 10, \"5\": 3, \"0\": 2, \"7\": 21, \"13\": 2, \"6\": 73, \"12\": 3, \"2\": 5, \"9\": 1, \"4\": 8, \"1\": 4}, \"2\": {\"4\": 11, \"12\": 14, \"13\": 29, \"1\": 13, \"15\": 22, \"0\": 13, \"7\": 23, \"2\": 31, \"9\": 18, \"5\": 20, \"11\": 3, \"3\": 26, \"8\": 9, \"6\": 5, \"10\": 3}, \"8\": {\"6\": 21, \"13\": 1, \"0\": 15, \"10\": 26, \"4\": 32, \"7\": 20, \"8\": 37, \"3\": 13, \"9\": 7, \"14\": 38, \"5\": 13, \"12\": 7, \"15\": 2, \"1\": 4, \"2\": 4}, \"11\": {\"11\": 137, \"13\": 13, \"7\": 24, \"6\": 25, \"9\": 8, \"14\": 5, \"2\": 12, \"10\": 2, \"3\": 3, \"1\": 4, \"4\": 1, \"8\": 2, \"15\": 2, \"0\": 1, \"12\": 1}, \"9\": {\"5\": 19, \"6\": 3, \"9\": 25, \"7\": 13, \"0\": 21, \"1\": 24, \"2\": 18, \"4\": 12, \"12\": 22, \"10\": 8, \"13\": 24, \"3\": 17, \"8\": 6, \"15\": 22, \"14\": 3, \"11\": 3}, \"14\": {\"8\": 33, \"10\": 42, \"4\": 20, \"7\": 11, \"14\": 70, \"6\": 35, \"5\": 6, \"3\": 6, \"9\": 7, \"12\": 4, \"0\": 2, \"1\": 1, \"2\": 1, \"13\": 2}, \"15\": {\"12\": 27, \"9\": 24, \"13\": 20, \"1\": 27, \"2\": 16, \"15\": 37, \"8\": 2, \"0\": 20, \"4\": 15, \"5\": 24, \"3\": 22, \"7\": 5, \"10\": 1}, \"3\": {\"5\": 20, \"6\": 5, \"3\": 28, \"7\": 25, \"8\": 11, \"10\": 9, \"12\": 16, \"1\": 22, \"9\": 23, \"0\": 17, \"15\": 16, \"13\": 15, \"4\": 12, \"2\": 18, \"14\": 3}}, \"O_14\": {\"14\": {\"3\": 30, \"13\": 27, \"14\": 61, \"11\": 3, \"6\": 46, \"2\": 33, \"4\": 17, \"10\": 8, \"0\": 10, \"5\": 4, \"7\": 1}, \"0\": {\"10\": 55, \"11\": 40, \"0\": 60, \"3\": 29, \"6\": 4, \"8\": 4, \"4\": 6, \"13\": 4, \"5\": 4, \"14\": 9, \"9\": 22, \"1\": 1, \"2\": 2}, \"4\": {\"0\": 10, \"5\": 32, \"2\": 28, \"3\": 43, \"4\": 61, \"6\": 8, \"1\": 18, \"10\": 7, \"14\": 14, \"8\": 11, \"13\": 3, \"9\": 1, \"15\": 3, \"11\": 1}, \"11\": {\"10\": 58, \"11\": 103, \"9\": 27, \"0\": 33, \"12\": 7, \"13\": 6, \"3\": 4, \"14\": 1, \"1\": 1}, \"13\": {\"13\": 63, \"6\": 66, \"14\": 34, \"10\": 11, \"2\": 27, \"4\": 10, \"3\": 11, \"1\": 2, \"15\": 6, \"0\": 3, \"5\": 2, \"11\": 3, \"7\": 2}, \"9\": {\"12\": 50, \"9\": 117, \"11\": 24, \"8\": 8, \"0\": 23, \"10\": 17, \"3\": 1}, \"3\": {\"1\": 14, \"0\": 31, \"3\": 60, \"2\": 23, \"13\": 7, \"4\": 37, \"8\": 7, \"6\": 14, \"10\": 11, \"5\": 14, \"14\": 17, \"9\": 2, \"11\": 2, \"15\": 1}, \"6\": {\"2\": 24, \"13\": 58, \"6\": 71, \"14\": 50, \"10\": 5, \"4\": 12, \"3\": 13, \"11\": 1, \"5\": 5, \"0\": 1}, \"1\": {\"1\": 113, \"15\": 9, \"4\": 19, \"7\": 11, \"5\": 40, \"3\": 13, \"8\": 22, \"2\": 12, \"13\": 1}, \"5\": {\"1\": 39, \"2\": 27, \"5\": 59, \"14\": 7, \"3\": 27, \"7\": 17, \"4\": 33, \"6\": 4, \"15\": 15, \"8\": 6, \"13\": 3, \"0\": 3}, \"12\": {\"9\": 58, \"12\": 174, \"11\": 8}, \"10\": {\"10\": 95, \"3\": 19, \"11\": 38, \"0\": 45, \"9\": 11, \"6\": 8, \"5\": 1, \"14\": 11, \"4\": 4, \"13\": 4, \"2\": 1, \"8\": 2, \"12\": 1}, \"8\": {\"1\": 25, \"4\": 23, \"8\": 155, \"5\": 12, \"9\": 11, \"3\": 10, \"12\": 1, \"10\": 1, \"0\": 2}, \"7\": {\"7\": 113, \"1\": 33, \"15\": 67, \"2\": 4, \"5\": 20, \"4\": 2, \"8\": 1}, \"15\": {\"7\": 81, \"2\": 7, \"13\": 5, \"6\": 2, \"5\": 11, \"15\": 107, \"1\": 12, \"4\": 11, \"3\": 1, \"14\": 2, \"8\": 1}, \"2\": {\"2\": 50, \"14\": 27, \"3\": 20, \"13\": 17, \"6\": 30, \"15\": 15, \"1\": 10, \"5\": 31, \"4\": 28, \"0\": 7, \"10\": 1, \"8\": 1, \"7\": 2, \"11\": 1}}, \"O_32\": {\"11\": {\"14\": 42, \"11\": 86, \"7\": 31, \"5\": 14, \"2\": 7, \"3\": 17, \"13\": 20, \"4\": 14, \"8\": 3, \"0\": 6}, \"1\": {\"1\": 188, \"10\": 52}, \"2\": {\"2\": 74, \"4\": 35, \"0\": 42, \"14\": 18, \"5\": 18, \"8\": 5, \"9\": 4, \"11\": 7, \"7\": 26, \"13\": 10, \"3\": 1}, \"0\": {\"0\": 68, \"4\": 36, \"7\": 21, \"2\": 46, \"8\": 32, \"5\": 8, \"13\": 11, \"11\": 5, \"14\": 6, \"9\": 6, \"3\": 1}, \"3\": {\"3\": 131, \"13\": 26, \"8\": 23, \"11\": 10, \"7\": 11, \"5\": 26, \"4\": 3, \"14\": 7, \"0\": 1, \"15\": 2}, \"8\": {\"5\": 27, \"13\": 33, \"8\": 67, \"14\": 13, \"0\": 36, \"4\": 25, \"2\": 8, \"7\": 7, \"3\": 17, \"11\": 3, \"15\": 4}, \"12\": {\"12\": 193, \"6\": 20, \"9\": 27}, \"5\": {\"3\": 33, \"5\": 43, \"13\": 29, \"7\": 27, \"4\": 22, \"14\": 19, \"8\": 26, \"0\": 15, \"11\": 10, \"2\": 16}, \"15\": {\"15\": 221, \"8\": 9, \"3\": 8, \"0\": 2}, \"7\": {\"7\": 40, \"2\": 34, \"13\": 22, \"3\": 14, \"14\": 34, \"11\": 29, \"5\": 26, \"0\": 13, \"4\": 19, \"8\": 9}, \"4\": {\"4\": 47, \"0\": 32, \"13\": 32, \"7\": 28, \"8\": 18, \"2\": 27, \"11\": 9, \"5\": 25, \"14\": 16, \"3\": 6}, \"14\": {\"14\": 43, \"2\": 21, \"13\": 18, \"0\": 12, \"11\": 55, \"7\": 46, \"4\": 14, \"3\": 12, \"5\": 12, \"8\": 7}, \"10\": {\"10\": 193, \"6\": 3, \"1\": 44}, \"6\": {\"6\": 230, \"12\": 4, \"1\": 1, \"10\": 5}, \"13\": {\"5\": 31, \"3\": 22, \"13\": 49, \"2\": 11, \"8\": 27, \"7\": 30, \"0\": 9, \"4\": 34, \"14\": 15, \"11\": 12}, \"9\": {\"9\": 207, \"0\": 4, \"12\": 27, \"8\": 1, \"2\": 1}}, \"O_8\": {\"9\": {\"9\": 238, \"5\": 2}, \"11\": {\"11\": 81, \"4\": 12, \"1\": 53, \"5\": 30, \"8\": 21, \"14\": 14, \"6\": 6, \"15\": 3, \"10\": 6, \"7\": 5, \"13\": 5, \"12\": 2, \"0\": 2}, \"8\": {\"15\": 42, \"10\": 8, \"8\": 62, \"4\": 11, \"7\": 13, \"3\": 7, \"12\": 18, \"14\": 8, \"11\": 26, \"6\": 15, \"13\": 9, \"0\": 7, \"1\": 10, \"2\": 2, \"5\": 2}, \"4\": {\"7\": 29, \"14\": 29, \"10\": 19, \"1\": 7, \"0\": 30, \"4\": 35, \"13\": 24, \"6\": 41, \"8\": 11, \"15\": 2, \"11\": 4, \"5\": 7, \"2\": 1, \"3\": 1}, \"13\": {\"0\": 42, \"10\": 29, \"6\": 26, \"14\": 23, \"4\": 30, \"7\": 28, \"15\": 1, \"13\": 40, \"3\": 1, \"1\": 6, \"8\": 5, \"5\": 7, \"2\": 2}, \"14\": {\"8\": 12, \"10\": 45, \"5\": 16, \"4\": 22, \"13\": 21, \"1\": 22, \"14\": 36, \"0\": 26, \"6\": 20, \"11\": 9, \"7\": 10, \"15\": 1}, \"2\": {\"3\": 69, \"13\": 9, \"2\": 75, \"15\": 9, \"6\": 10, \"12\": 24, \"4\": 4, \"8\": 6, \"7\": 24, \"14\": 2, \"0\": 8}, \"3\": {\"3\": 84, \"2\": 53, \"12\": 45, \"15\": 28, \"7\": 15, \"8\": 4, \"6\": 4, \"0\": 4, \"13\": 2, \"4\": 1}, \"1\": {\"1\": 72, \"10\": 18, \"5\": 25, \"11\": 58, \"4\": 17, \"8\": 12, \"0\": 5, \"14\": 20, \"7\": 2, \"6\": 8, \"13\": 3}, \"0\": {\"7\": 40, \"13\": 38, \"6\": 35, \"15\": 3, \"0\": 38, \"2\": 11, \"10\": 19, \"14\": 25, \"4\": 22, \"12\": 1, \"1\": 4, \"9\": 1, \"8\": 3}, \"5\": {\"8\": 2, \"5\": 59, \"1\": 48, \"10\": 42, \"11\": 26, \"13\": 8, \"7\": 3, \"0\": 2, \"14\": 31, \"6\": 3, \"9\": 6, \"4\": 10}, \"15\": {\"15\": 75, \"12\": 44, \"10\": 1, \"8\": 37, \"6\": 11, \"7\": 14, \"3\": 25, \"4\": 10, \"0\": 5, \"14\": 2, \"13\": 3, \"2\": 12, \"1\": 1}, \"10\": {\"14\": 37, \"7\": 11, \"1\": 13, \"0\": 26, \"6\": 15, \"10\": 38, \"13\": 29, \"5\": 28, \"4\": 29, \"11\": 8, \"8\": 4, \"9\": 2}, \"12\": {\"3\": 42, \"15\": 61, \"0\": 3, \"12\": 78, \"8\": 22, \"7\": 7, \"2\": 16, \"14\": 2, \"1\": 1, \"6\": 4, \"13\": 1, \"4\": 1, \"11\": 2}, \"6\": {\"6\": 43, \"8\": 16, \"13\": 22, \"10\": 14, \"15\": 11, \"1\": 6, \"14\": 18, \"4\": 33, \"7\": 36, \"0\": 25, \"3\": 3, \"2\": 4, \"11\": 2, \"12\": 6, \"5\": 1}, \"7\": {\"13\": 11, \"15\": 15, \"10\": 13, \"11\": 2, \"14\": 20, \"6\": 34, \"1\": 1, \"3\": 11, \"7\": 37, \"4\": 20, \"0\": 29, \"2\": 15, \"5\": 2, \"12\": 7, \"8\": 23}}}, \"per_domain_accuracy\": {\"C_5\": {\"accuracy\": 0.9982541899441341, \"source?\": true}, \"C_1\": {\"accuracy\": 0.9988111413043478, \"source?\": true}, \"C_3\": {\"accuracy\": 0.9996323529411765, \"source?\": true}, \"C_4\": {\"accuracy\": 0.9986822289156626, \"source?\": true}, \"C_2\": {\"accuracy\": 0.9992897727272727, \"source?\": true}, \"O_26\": {\"accuracy\": 0.23802083333333332, \"source?\": false}, \"O_44\": {\"accuracy\": 0.3684895833333333, \"source?\": false}, \"O_50\": {\"accuracy\": 0.39557291666666666, \"source?\": false}, \"O_38\": {\"accuracy\": 0.4234375, \"source?\": false}, \"O_20\": {\"accuracy\": 0.19895833333333332, \"source?\": false}, \"O_14\": {\"accuracy\": 0.3807291666666667, \"source?\": false}, \"O_32\": {\"accuracy\": 0.4895833333333333, \"source?\": false}, \"O_8\": {\"accuracy\": 0.28411458333333334, \"source?\": false}}}, \"history\": {\"epoch_indices\": [1, 2, 3, 4, 5, 6], \"train_label_loss\": [0.03084047417171775, 0.008614561765265304, 0.006913546271200233, 0.004485325412178362, 0.0042337416715010606, 0.004290500146449871], \"source_val_label_loss\": [0.02599276974797249, 0.008126497268676758, 0.008810872212052345, 0.00822486449033022, 0.008144116029143333, 0.006348783150315285], \"target_val_label_loss\": [2.3195009231567383, 2.0276782512664795, 2.260479688644409, 2.5352065563201904, 2.8444271087646484, 3.4569897651672363], \"source_val_acc_label\": [0.9933214285714286, 0.9989285714285714, 0.9985357142857143, 0.9993928571428572, 0.99925, 0.99925], \"target_val_acc_label\": [0.2523111979166667, 0.34736328125, 0.33408203125, 0.30048828125, 0.3089192708333333, 0.25120442708333335]}, \"dataset_metrics\": {\"source\": {\"train\": {\"n_unique_x\": 175142, \"n_unique_y\": 58, \"n_batch/episode\": 6303}, \"val\": {\"n_unique_x\": 37151, \"n_unique_y\": 58, \"n_batch/episode\": 875}, \"test\": {\"n_unique_x\": 37548, \"n_unique_y\": 58, \"n_batch/episode\": 885}}, \"target\": {\"train\": {\"n_unique_x\": 179200, \"n_unique_y\": 16, \"n_batch/episode\": 6720}, \"val\": {\"n_unique_x\": 38400, \"n_unique_y\": 16, \"n_batch/episode\": 960}, \"test\": {\"n_unique_x\": 38400, \"n_unique_y\": 16, \"n_batch/episode\": 960}}}}'"
      ]
     },
     "execution_count": 29,
     "metadata": {},
     "output_type": "execute_result"
    }
   ],
   "source": [
    "json.dumps(experiment)"
   ]
  }
 ],
 "metadata": {
  "celltoolbar": "Tags",
  "kernelspec": {
   "display_name": "Python 3 (ipykernel)",
   "language": "python",
   "name": "python3"
  },
  "language_info": {
   "codemirror_mode": {
    "name": "ipython",
    "version": 3
   },
   "file_extension": ".py",
   "mimetype": "text/x-python",
   "name": "python",
   "nbconvert_exporter": "python",
   "pygments_lexer": "ipython3",
   "version": "3.8.10"
  },
  "papermill": {
   "default_parameters": {},
   "duration": 1073.452862,
   "end_time": "2022-03-25T06:05:19.167741",
   "environment_variables": {},
   "exception": null,
   "input_path": "/mnt/wd500GB/CSC500/csc500-main/csc500-notebooks/templates/tl_ptn_template.ipynb",
   "output_path": "trial.ipynb",
   "parameters": {
    "parameters": {
     "BEST_MODEL_PATH": "./best_model.pth",
     "NUM_LOGS_PER_EPOCH": 10,
     "criteria_for_best": "target_accuracy",
     "dataset_seed": 7,
     "datasets": [
      {
       "domain_prefix": "C_",
       "domains": [
        1,
        2,
        3,
        4,
        5
       ],
       "episode_transforms": [],
       "labels": [
        "1-10.",
        "1-11.",
        "1-15.",
        "1-16.",
        "1-17.",
        "1-18.",
        "1-19.",
        "10-4.",
        "10-7.",
        "11-1.",
        "11-14.",
        "11-17.",
        "11-20.",
        "11-7.",
        "13-20.",
        "13-8.",
        "14-10.",
        "14-11.",
        "14-14.",
        "14-7.",
        "15-1.",
        "15-20.",
        "16-1.",
        "16-16.",
        "17-10.",
        "17-11.",
        "17-2.",
        "19-1.",
        "19-16.",
        "19-19.",
        "19-20.",
        "19-3.",
        "2-10.",
        "2-11.",
        "2-17.",
        "2-18.",
        "2-20.",
        "2-3.",
        "2-4.",
        "2-5.",
        "2-6.",
        "2-7.",
        "2-8.",
        "3-13.",
        "3-18.",
        "3-3.",
        "4-1.",
        "4-10.",
        "4-11.",
        "4-19.",
        "5-5.",
        "6-15.",
        "7-10.",
        "7-14.",
        "8-18.",
        "8-20.",
        "8-3.",
        "8-8."
       ],
       "num_examples_per_domain_per_label": -1,
       "pickle_path": "/mnt/wd500GB/CSC500/csc500-main/datasets/cores.stratified_ds.2022A.pkl",
       "source_or_target_dataset": "source",
       "x_transforms": [
        "unit_mag",
        "take_200"
       ]
      },
      {
       "domain_prefix": "O_",
       "domains": [
        32,
        38,
        8,
        44,
        14,
        50,
        20,
        26
       ],
       "episode_transforms": [],
       "labels": [
        "3123D52",
        "3123D65",
        "3123D79",
        "3123D80",
        "3123D54",
        "3123D70",
        "3123D7B",
        "3123D89",
        "3123D58",
        "3123D76",
        "3123D7D",
        "3123EFE",
        "3123D64",
        "3123D78",
        "3123D7E",
        "3124E4A"
       ],
       "num_examples_per_domain_per_label": 2000,
       "pickle_path": "/mnt/wd500GB/CSC500/csc500-main/datasets/oracle.Run1_framed_2000Examples_stratified_ds.2022A.pkl",
       "source_or_target_dataset": "target",
       "x_transforms": [
        "unit_mag",
        "take_200",
        "resample_20Msps_to_25Msps"
       ]
      }
     ],
     "device": "cuda",
     "experiment_name": "tl_3Av2:cores -> oracle.run1.framed",
     "lr": 0.0001,
     "n_epoch": 50,
     "n_query": 2,
     "n_shot": 3,
     "n_way": 16,
     "patience": 3,
     "seed": 7,
     "test_k_factor": 2,
     "torch_default_dtype": "torch.float32",
     "train_k_factor": 3,
     "val_k_factor": 2,
     "x_net": [
      {
       "class": "nnReshape",
       "kargs": {
        "shape": [
         -1,
         1,
         2,
         200
        ]
       }
      },
      {
       "class": "Conv2d",
       "kargs": {
        "bias": false,
        "in_channels": 1,
        "kernel_size": [
         1,
         7
        ],
        "out_channels": 256,
        "padding": [
         0,
         3
        ]
       }
      },
      {
       "class": "ReLU",
       "kargs": {
        "inplace": true
       }
      },
      {
       "class": "BatchNorm2d",
       "kargs": {
        "num_features": 256
       }
      },
      {
       "class": "Conv2d",
       "kargs": {
        "bias": true,
        "in_channels": 256,
        "kernel_size": [
         2,
         7
        ],
        "out_channels": 80,
        "padding": [
         0,
         3
        ]
       }
      },
      {
       "class": "ReLU",
       "kargs": {
        "inplace": true
       }
      },
      {
       "class": "BatchNorm2d",
       "kargs": {
        "num_features": 80
       }
      },
      {
       "class": "Flatten",
       "kargs": {}
      },
      {
       "class": "Linear",
       "kargs": {
        "in_features": 16000,
        "out_features": 256
       }
      },
      {
       "class": "ReLU",
       "kargs": {
        "inplace": true
       }
      },
      {
       "class": "BatchNorm1d",
       "kargs": {
        "num_features": 256
       }
      },
      {
       "class": "Linear",
       "kargs": {
        "in_features": 256,
        "out_features": 256
       }
      }
     ],
     "x_shape": [
      2,
      200
     ]
    }
   },
   "start_time": "2022-03-25T05:47:25.714879",
   "version": "2.3.4"
  }
 },
 "nbformat": 4,
 "nbformat_minor": 5
}