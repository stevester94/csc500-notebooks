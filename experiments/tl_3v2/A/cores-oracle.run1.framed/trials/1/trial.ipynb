{
 "cells": [
  {
   "cell_type": "markdown",
   "id": "9fea5f46",
   "metadata": {
    "papermill": {
     "duration": 0.018767,
     "end_time": "2022-03-25T02:29:01.171144",
     "exception": false,
     "start_time": "2022-03-25T02:29:01.152377",
     "status": "completed"
    },
    "tags": []
   },
   "source": [
    "# Transfer Learning Template"
   ]
  },
  {
   "cell_type": "code",
   "execution_count": 1,
   "id": "0902182a",
   "metadata": {
    "execution": {
     "iopub.execute_input": "2022-03-25T02:29:01.210746Z",
     "iopub.status.busy": "2022-03-25T02:29:01.210368Z",
     "iopub.status.idle": "2022-03-25T02:29:02.129816Z",
     "shell.execute_reply": "2022-03-25T02:29:02.130247Z"
    },
    "papermill": {
     "duration": 0.946654,
     "end_time": "2022-03-25T02:29:02.130431",
     "exception": false,
     "start_time": "2022-03-25T02:29:01.183777",
     "status": "completed"
    },
    "tags": []
   },
   "outputs": [],
   "source": [
    "%load_ext autoreload\n",
    "%autoreload 2\n",
    "%matplotlib inline\n",
    "\n",
    "    \n",
    "import os, json, sys, time, random\n",
    "import numpy as np\n",
    "import torch\n",
    "from torch.optim import Adam\n",
    "from  easydict import EasyDict\n",
    "import matplotlib.pyplot as plt\n",
    "\n",
    "from steves_models.steves_ptn import Steves_Prototypical_Network\n",
    "\n",
    "from steves_utils.lazy_iterable_wrapper import Lazy_Iterable_Wrapper\n",
    "from steves_utils.iterable_aggregator import Iterable_Aggregator\n",
    "from steves_utils.ptn_train_eval_test_jig import  PTN_Train_Eval_Test_Jig\n",
    "from steves_utils.torch_sequential_builder import build_sequential\n",
    "from steves_utils.torch_utils import get_dataset_metrics, ptn_confusion_by_domain_over_dataloader\n",
    "from steves_utils.utils_v2 import (per_domain_accuracy_from_confusion, get_datasets_base_path)\n",
    "from steves_utils.PTN.utils import independent_accuracy_assesment\n",
    "\n",
    "from torch.utils.data import DataLoader\n",
    "\n",
    "from steves_utils.stratified_dataset.episodic_accessor import Episodic_Accessor_Factory\n",
    "\n",
    "from steves_utils.ptn_do_report import (\n",
    "    get_loss_curve,\n",
    "    get_results_table,\n",
    "    get_parameters_table,\n",
    "    get_domain_accuracies,\n",
    ")\n",
    "\n",
    "from steves_utils.transforms import get_chained_transform"
   ]
  },
  {
   "cell_type": "markdown",
   "id": "41c840b4",
   "metadata": {
    "papermill": {
     "duration": 0.012506,
     "end_time": "2022-03-25T02:29:02.161423",
     "exception": false,
     "start_time": "2022-03-25T02:29:02.148917",
     "status": "completed"
    },
    "tags": []
   },
   "source": [
    "# Allowed Parameters\n",
    "These are allowed parameters, not defaults\n",
    "Each of these values need to be present in the injected parameters (the notebook will raise an exception if they are not present)\n",
    "\n",
    "Papermill uses the cell tag \"parameters\" to inject the real parameters below this cell.\n",
    "Enable tags to see what I mean"
   ]
  },
  {
   "cell_type": "code",
   "execution_count": 2,
   "id": "fd44eb83",
   "metadata": {
    "execution": {
     "iopub.execute_input": "2022-03-25T02:29:02.189458Z",
     "iopub.status.busy": "2022-03-25T02:29:02.189198Z",
     "iopub.status.idle": "2022-03-25T02:29:02.204248Z",
     "shell.execute_reply": "2022-03-25T02:29:02.204618Z"
    },
    "papermill": {
     "duration": 0.030837,
     "end_time": "2022-03-25T02:29:02.204723",
     "exception": false,
     "start_time": "2022-03-25T02:29:02.173886",
     "status": "completed"
    },
    "tags": []
   },
   "outputs": [],
   "source": [
    "required_parameters = {\n",
    "    \"experiment_name\",\n",
    "    \"lr\",\n",
    "    \"device\",\n",
    "    \"seed\",\n",
    "    \"dataset_seed\",\n",
    "    \"n_shot\",\n",
    "    \"n_query\",\n",
    "    \"n_way\",\n",
    "    \"train_k_factor\",\n",
    "    \"val_k_factor\",\n",
    "    \"test_k_factor\",\n",
    "    \"n_epoch\",\n",
    "    \"patience\",\n",
    "    \"criteria_for_best\",\n",
    "    \"x_net\",\n",
    "    \"datasets\",\n",
    "    \"torch_default_dtype\",\n",
    "    \"NUM_LOGS_PER_EPOCH\",\n",
    "    \"BEST_MODEL_PATH\",\n",
    "    \"x_shape\",\n",
    "}"
   ]
  },
  {
   "cell_type": "code",
   "execution_count": 3,
   "id": "fa3f0049",
   "metadata": {
    "execution": {
     "iopub.execute_input": "2022-03-25T02:29:02.243230Z",
     "iopub.status.busy": "2022-03-25T02:29:02.242939Z",
     "iopub.status.idle": "2022-03-25T02:29:02.257228Z",
     "shell.execute_reply": "2022-03-25T02:29:02.257658Z"
    },
    "papermill": {
     "duration": 0.035971,
     "end_time": "2022-03-25T02:29:02.257777",
     "exception": false,
     "start_time": "2022-03-25T02:29:02.221806",
     "status": "completed"
    },
    "tags": [
     "parameters"
    ]
   },
   "outputs": [],
   "source": [
    "from steves_utils.CORES.utils import (\n",
    "    ALL_NODES,\n",
    "    ALL_NODES_MINIMUM_1000_EXAMPLES,\n",
    "    ALL_DAYS\n",
    ")\n",
    "\n",
    "from steves_utils.ORACLE.utils_v2 import (\n",
    "    ALL_DISTANCES_FEET_NARROWED,\n",
    "    ALL_RUNS,\n",
    "    ALL_SERIAL_NUMBERS,\n",
    ")\n",
    "\n",
    "standalone_parameters = {}\n",
    "standalone_parameters[\"experiment_name\"] = \"STANDALONE PTN\"\n",
    "standalone_parameters[\"lr\"] = 0.001\n",
    "standalone_parameters[\"device\"] = \"cuda\"\n",
    "\n",
    "standalone_parameters[\"seed\"] = 1337\n",
    "standalone_parameters[\"dataset_seed\"] = 1337\n",
    "\n",
    "standalone_parameters[\"n_way\"] = 8\n",
    "standalone_parameters[\"n_shot\"] = 3\n",
    "standalone_parameters[\"n_query\"]  = 2\n",
    "standalone_parameters[\"train_k_factor\"] = 1\n",
    "standalone_parameters[\"val_k_factor\"] = 2\n",
    "standalone_parameters[\"test_k_factor\"] = 2\n",
    "\n",
    "\n",
    "standalone_parameters[\"n_epoch\"] = 50\n",
    "\n",
    "standalone_parameters[\"patience\"] = 10\n",
    "standalone_parameters[\"criteria_for_best\"] = \"source_loss\"\n",
    "\n",
    "standalone_parameters[\"datasets\"] = [\n",
    "    {\n",
    "        \"labels\": ALL_SERIAL_NUMBERS,\n",
    "        \"domains\": ALL_DISTANCES_FEET_NARROWED,\n",
    "        \"num_examples_per_domain_per_label\": 100,\n",
    "        \"pickle_path\": os.path.join(get_datasets_base_path(), \"oracle.Run1_framed_2000Examples_stratified_ds.2022A.pkl\"),\n",
    "        \"source_or_target_dataset\": \"source\",\n",
    "        \"x_transforms\": [\"unit_mag\", \"minus_two\"],\n",
    "        \"episode_transforms\": [],\n",
    "        \"domain_prefix\": \"ORACLE_\"\n",
    "    },\n",
    "    {\n",
    "        \"labels\": ALL_NODES,\n",
    "        \"domains\": ALL_DAYS,\n",
    "        \"num_examples_per_domain_per_label\": 100,\n",
    "        \"pickle_path\": os.path.join(get_datasets_base_path(), \"cores.stratified_ds.2022A.pkl\"),\n",
    "        \"source_or_target_dataset\": \"target\",\n",
    "        \"x_transforms\": [\"unit_power\", \"times_zero\"],\n",
    "        \"episode_transforms\": [],\n",
    "        \"domain_prefix\": \"CORES_\"\n",
    "    }   \n",
    "]\n",
    "\n",
    "standalone_parameters[\"torch_default_dtype\"] = \"torch.float32\" \n",
    "\n",
    "\n",
    "\n",
    "standalone_parameters[\"x_net\"] =     [\n",
    "    {\"class\": \"nnReshape\", \"kargs\": {\"shape\":[-1, 1, 2, 256]}},\n",
    "    {\"class\": \"Conv2d\", \"kargs\": { \"in_channels\":1, \"out_channels\":256, \"kernel_size\":(1,7), \"bias\":False, \"padding\":(0,3), },},\n",
    "    {\"class\": \"ReLU\", \"kargs\": {\"inplace\": True}},\n",
    "    {\"class\": \"BatchNorm2d\", \"kargs\": {\"num_features\":256}},\n",
    "\n",
    "    {\"class\": \"Conv2d\", \"kargs\": { \"in_channels\":256, \"out_channels\":80, \"kernel_size\":(2,7), \"bias\":True, \"padding\":(0,3), },},\n",
    "    {\"class\": \"ReLU\", \"kargs\": {\"inplace\": True}},\n",
    "    {\"class\": \"BatchNorm2d\", \"kargs\": {\"num_features\":80}},\n",
    "    {\"class\": \"Flatten\", \"kargs\": {}},\n",
    "\n",
    "    {\"class\": \"Linear\", \"kargs\": {\"in_features\": 80*256, \"out_features\": 256}}, # 80 units per IQ pair\n",
    "    {\"class\": \"ReLU\", \"kargs\": {\"inplace\": True}},\n",
    "    {\"class\": \"BatchNorm1d\", \"kargs\": {\"num_features\":256}},\n",
    "\n",
    "    {\"class\": \"Linear\", \"kargs\": {\"in_features\": 256, \"out_features\": 256}},\n",
    "]\n",
    "\n",
    "# Parameters relevant to results\n",
    "# These parameters will basically never need to change\n",
    "standalone_parameters[\"NUM_LOGS_PER_EPOCH\"] = 10\n",
    "standalone_parameters[\"BEST_MODEL_PATH\"] = \"./best_model.pth\"\n",
    "\n",
    "\n",
    "\n",
    "\n"
   ]
  },
  {
   "cell_type": "code",
   "execution_count": 4,
   "id": "cf91528b",
   "metadata": {
    "execution": {
     "iopub.execute_input": "2022-03-25T02:29:02.298565Z",
     "iopub.status.busy": "2022-03-25T02:29:02.298268Z",
     "iopub.status.idle": "2022-03-25T02:29:02.311189Z",
     "shell.execute_reply": "2022-03-25T02:29:02.310859Z"
    },
    "papermill": {
     "duration": 0.036111,
     "end_time": "2022-03-25T02:29:02.311245",
     "exception": false,
     "start_time": "2022-03-25T02:29:02.275134",
     "status": "completed"
    },
    "tags": [
     "injected-parameters"
    ]
   },
   "outputs": [],
   "source": [
    "# Parameters\n",
    "parameters = {\n",
    "    \"experiment_name\": \"tl_3Av2:cores -> oracle.run1.framed\",\n",
    "    \"device\": \"cuda\",\n",
    "    \"lr\": 0.0001,\n",
    "    \"x_shape\": [2, 200],\n",
    "    \"n_shot\": 3,\n",
    "    \"n_query\": 2,\n",
    "    \"train_k_factor\": 3,\n",
    "    \"val_k_factor\": 2,\n",
    "    \"test_k_factor\": 2,\n",
    "    \"torch_default_dtype\": \"torch.float32\",\n",
    "    \"n_epoch\": 50,\n",
    "    \"patience\": 3,\n",
    "    \"criteria_for_best\": \"target_accuracy\",\n",
    "    \"x_net\": [\n",
    "        {\"class\": \"nnReshape\", \"kargs\": {\"shape\": [-1, 1, 2, 200]}},\n",
    "        {\n",
    "            \"class\": \"Conv2d\",\n",
    "            \"kargs\": {\n",
    "                \"in_channels\": 1,\n",
    "                \"out_channels\": 256,\n",
    "                \"kernel_size\": [1, 7],\n",
    "                \"bias\": False,\n",
    "                \"padding\": [0, 3],\n",
    "            },\n",
    "        },\n",
    "        {\"class\": \"ReLU\", \"kargs\": {\"inplace\": True}},\n",
    "        {\"class\": \"BatchNorm2d\", \"kargs\": {\"num_features\": 256}},\n",
    "        {\n",
    "            \"class\": \"Conv2d\",\n",
    "            \"kargs\": {\n",
    "                \"in_channels\": 256,\n",
    "                \"out_channels\": 80,\n",
    "                \"kernel_size\": [2, 7],\n",
    "                \"bias\": True,\n",
    "                \"padding\": [0, 3],\n",
    "            },\n",
    "        },\n",
    "        {\"class\": \"ReLU\", \"kargs\": {\"inplace\": True}},\n",
    "        {\"class\": \"BatchNorm2d\", \"kargs\": {\"num_features\": 80}},\n",
    "        {\"class\": \"Flatten\", \"kargs\": {}},\n",
    "        {\"class\": \"Linear\", \"kargs\": {\"in_features\": 16000, \"out_features\": 256}},\n",
    "        {\"class\": \"ReLU\", \"kargs\": {\"inplace\": True}},\n",
    "        {\"class\": \"BatchNorm1d\", \"kargs\": {\"num_features\": 256}},\n",
    "        {\"class\": \"Linear\", \"kargs\": {\"in_features\": 256, \"out_features\": 256}},\n",
    "    ],\n",
    "    \"NUM_LOGS_PER_EPOCH\": 10,\n",
    "    \"BEST_MODEL_PATH\": \"./best_model.pth\",\n",
    "    \"n_way\": 16,\n",
    "    \"datasets\": [\n",
    "        {\n",
    "            \"labels\": [\n",
    "                \"1-10.\",\n",
    "                \"1-11.\",\n",
    "                \"1-15.\",\n",
    "                \"1-16.\",\n",
    "                \"1-17.\",\n",
    "                \"1-18.\",\n",
    "                \"1-19.\",\n",
    "                \"10-4.\",\n",
    "                \"10-7.\",\n",
    "                \"11-1.\",\n",
    "                \"11-14.\",\n",
    "                \"11-17.\",\n",
    "                \"11-20.\",\n",
    "                \"11-7.\",\n",
    "                \"13-20.\",\n",
    "                \"13-8.\",\n",
    "                \"14-10.\",\n",
    "                \"14-11.\",\n",
    "                \"14-14.\",\n",
    "                \"14-7.\",\n",
    "                \"15-1.\",\n",
    "                \"15-20.\",\n",
    "                \"16-1.\",\n",
    "                \"16-16.\",\n",
    "                \"17-10.\",\n",
    "                \"17-11.\",\n",
    "                \"17-2.\",\n",
    "                \"19-1.\",\n",
    "                \"19-16.\",\n",
    "                \"19-19.\",\n",
    "                \"19-20.\",\n",
    "                \"19-3.\",\n",
    "                \"2-10.\",\n",
    "                \"2-11.\",\n",
    "                \"2-17.\",\n",
    "                \"2-18.\",\n",
    "                \"2-20.\",\n",
    "                \"2-3.\",\n",
    "                \"2-4.\",\n",
    "                \"2-5.\",\n",
    "                \"2-6.\",\n",
    "                \"2-7.\",\n",
    "                \"2-8.\",\n",
    "                \"3-13.\",\n",
    "                \"3-18.\",\n",
    "                \"3-3.\",\n",
    "                \"4-1.\",\n",
    "                \"4-10.\",\n",
    "                \"4-11.\",\n",
    "                \"4-19.\",\n",
    "                \"5-5.\",\n",
    "                \"6-15.\",\n",
    "                \"7-10.\",\n",
    "                \"7-14.\",\n",
    "                \"8-18.\",\n",
    "                \"8-20.\",\n",
    "                \"8-3.\",\n",
    "                \"8-8.\",\n",
    "            ],\n",
    "            \"domains\": [1, 2, 3, 4, 5],\n",
    "            \"num_examples_per_domain_per_label\": -1,\n",
    "            \"pickle_path\": \"/mnt/wd500GB/CSC500/csc500-main/datasets/cores.stratified_ds.2022A.pkl\",\n",
    "            \"source_or_target_dataset\": \"source\",\n",
    "            \"x_transforms\": [\"unit_mag\", \"take_200\"],\n",
    "            \"episode_transforms\": [],\n",
    "            \"domain_prefix\": \"C_\",\n",
    "        },\n",
    "        {\n",
    "            \"labels\": [\n",
    "                \"3123D52\",\n",
    "                \"3123D65\",\n",
    "                \"3123D79\",\n",
    "                \"3123D80\",\n",
    "                \"3123D54\",\n",
    "                \"3123D70\",\n",
    "                \"3123D7B\",\n",
    "                \"3123D89\",\n",
    "                \"3123D58\",\n",
    "                \"3123D76\",\n",
    "                \"3123D7D\",\n",
    "                \"3123EFE\",\n",
    "                \"3123D64\",\n",
    "                \"3123D78\",\n",
    "                \"3123D7E\",\n",
    "                \"3124E4A\",\n",
    "            ],\n",
    "            \"domains\": [32, 38, 8, 44, 14, 50, 20, 26],\n",
    "            \"num_examples_per_domain_per_label\": 2000,\n",
    "            \"pickle_path\": \"/mnt/wd500GB/CSC500/csc500-main/datasets/oracle.Run1_framed_2000Examples_stratified_ds.2022A.pkl\",\n",
    "            \"source_or_target_dataset\": \"target\",\n",
    "            \"x_transforms\": [\"unit_mag\", \"take_200\", \"resample_20Msps_to_25Msps\"],\n",
    "            \"episode_transforms\": [],\n",
    "            \"domain_prefix\": \"O_\",\n",
    "        },\n",
    "    ],\n",
    "    \"seed\": 1337,\n",
    "    \"dataset_seed\": 1337,\n",
    "}\n"
   ]
  },
  {
   "cell_type": "code",
   "execution_count": 5,
   "id": "8fa1cc33",
   "metadata": {
    "execution": {
     "iopub.execute_input": "2022-03-25T02:29:02.340569Z",
     "iopub.status.busy": "2022-03-25T02:29:02.340316Z",
     "iopub.status.idle": "2022-03-25T02:29:02.352683Z",
     "shell.execute_reply": "2022-03-25T02:29:02.352977Z"
    },
    "papermill": {
     "duration": 0.029226,
     "end_time": "2022-03-25T02:29:02.353059",
     "exception": false,
     "start_time": "2022-03-25T02:29:02.323833",
     "status": "completed"
    },
    "tags": []
   },
   "outputs": [],
   "source": [
    "# Set this to True if you want to run this template directly\n",
    "STANDALONE = False\n",
    "if STANDALONE:\n",
    "    print(\"parameters not injected, running with standalone_parameters\")\n",
    "    parameters = standalone_parameters\n",
    "\n",
    "if not 'parameters' in locals() and not 'parameters' in globals():\n",
    "    raise Exception(\"Parameter injection failed\")\n",
    "\n",
    "#Use an easy dict for all the parameters\n",
    "p = EasyDict(parameters)\n",
    "\n",
    "if \"x_shape\" not in p:\n",
    "    p.x_shape = [2,256] # Default to this if we dont supply x_shape\n",
    "\n",
    "\n",
    "supplied_keys = set(p.keys())\n",
    "\n",
    "if  supplied_keys != required_parameters:\n",
    "    print(\"Parameters are incorrect\")\n",
    "    if len(supplied_keys - required_parameters)>0: print(\"Shouldn't have:\", str(supplied_keys - required_parameters))\n",
    "    if len(required_parameters - supplied_keys)>0: print(\"Need to have:\", str(required_parameters - supplied_keys))\n",
    "    raise RuntimeError(\"Parameters are incorrect\")"
   ]
  },
  {
   "cell_type": "code",
   "execution_count": 6,
   "id": "3a028d58",
   "metadata": {
    "execution": {
     "iopub.execute_input": "2022-03-25T02:29:02.387254Z",
     "iopub.status.busy": "2022-03-25T02:29:02.387002Z",
     "iopub.status.idle": "2022-03-25T02:29:02.402059Z",
     "shell.execute_reply": "2022-03-25T02:29:02.401655Z"
    },
    "papermill": {
     "duration": 0.030064,
     "end_time": "2022-03-25T02:29:02.402151",
     "exception": false,
     "start_time": "2022-03-25T02:29:02.372087",
     "status": "completed"
    },
    "tags": []
   },
   "outputs": [],
   "source": [
    "###################################\n",
    "# Set the RNGs and make it all deterministic\n",
    "###################################\n",
    "np.random.seed(p.seed)\n",
    "random.seed(p.seed)\n",
    "torch.manual_seed(p.seed)\n",
    "\n",
    "torch.use_deterministic_algorithms(True) "
   ]
  },
  {
   "cell_type": "code",
   "execution_count": 7,
   "id": "b691acf6",
   "metadata": {
    "execution": {
     "iopub.execute_input": "2022-03-25T02:29:02.435452Z",
     "iopub.status.busy": "2022-03-25T02:29:02.435198Z",
     "iopub.status.idle": "2022-03-25T02:29:02.448235Z",
     "shell.execute_reply": "2022-03-25T02:29:02.447888Z"
    },
    "papermill": {
     "duration": 0.027877,
     "end_time": "2022-03-25T02:29:02.448305",
     "exception": false,
     "start_time": "2022-03-25T02:29:02.420428",
     "status": "completed"
    },
    "tags": []
   },
   "outputs": [],
   "source": [
    "###########################################\n",
    "# The stratified datasets honor this\n",
    "###########################################\n",
    "torch.set_default_dtype(eval(p.torch_default_dtype))"
   ]
  },
  {
   "cell_type": "code",
   "execution_count": 8,
   "id": "b5fba671",
   "metadata": {
    "execution": {
     "iopub.execute_input": "2022-03-25T02:29:02.480245Z",
     "iopub.status.busy": "2022-03-25T02:29:02.479995Z",
     "iopub.status.idle": "2022-03-25T02:29:02.513105Z",
     "shell.execute_reply": "2022-03-25T02:29:02.512653Z"
    },
    "papermill": {
     "duration": 0.047854,
     "end_time": "2022-03-25T02:29:02.513209",
     "exception": false,
     "start_time": "2022-03-25T02:29:02.465355",
     "status": "completed"
    },
    "tags": []
   },
   "outputs": [],
   "source": [
    "###################################\n",
    "# Build the network(s)\n",
    "# Note: It's critical to do this AFTER setting the RNG\n",
    "###################################\n",
    "x_net = build_sequential(p.x_net)"
   ]
  },
  {
   "cell_type": "code",
   "execution_count": 9,
   "id": "5d7e61cc",
   "metadata": {
    "execution": {
     "iopub.execute_input": "2022-03-25T02:29:02.545874Z",
     "iopub.status.busy": "2022-03-25T02:29:02.545627Z",
     "iopub.status.idle": "2022-03-25T02:29:02.561203Z",
     "shell.execute_reply": "2022-03-25T02:29:02.560749Z"
    },
    "papermill": {
     "duration": 0.030661,
     "end_time": "2022-03-25T02:29:02.561305",
     "exception": false,
     "start_time": "2022-03-25T02:29:02.530644",
     "status": "completed"
    },
    "tags": []
   },
   "outputs": [],
   "source": [
    "start_time_secs = time.time()"
   ]
  },
  {
   "cell_type": "code",
   "execution_count": 10,
   "id": "c6b67dfd",
   "metadata": {
    "execution": {
     "iopub.execute_input": "2022-03-25T02:29:02.593533Z",
     "iopub.status.busy": "2022-03-25T02:29:02.593283Z",
     "iopub.status.idle": "2022-03-25T02:29:02.604269Z",
     "shell.execute_reply": "2022-03-25T02:29:02.604478Z"
    },
    "papermill": {
     "duration": 0.026013,
     "end_time": "2022-03-25T02:29:02.604536",
     "exception": false,
     "start_time": "2022-03-25T02:29:02.578523",
     "status": "completed"
    },
    "tags": []
   },
   "outputs": [],
   "source": [
    "p.domains_source = []\n",
    "p.domains_target = []\n",
    "\n",
    "\n",
    "train_original_source = []\n",
    "val_original_source   = []\n",
    "test_original_source  = []\n",
    "\n",
    "train_original_target = []\n",
    "val_original_target   = []\n",
    "test_original_target  = []"
   ]
  },
  {
   "cell_type": "code",
   "execution_count": 11,
   "id": "e3d9c3d3",
   "metadata": {
    "execution": {
     "iopub.execute_input": "2022-03-25T02:29:02.632761Z",
     "iopub.status.busy": "2022-03-25T02:29:02.632509Z",
     "iopub.status.idle": "2022-03-25T02:29:02.646873Z",
     "shell.execute_reply": "2022-03-25T02:29:02.646621Z"
    },
    "papermill": {
     "duration": 0.029309,
     "end_time": "2022-03-25T02:29:02.646922",
     "exception": false,
     "start_time": "2022-03-25T02:29:02.617613",
     "status": "completed"
    },
    "tags": []
   },
   "outputs": [],
   "source": [
    "# global_x_transform_func = lambda x: normalize(x.to(torch.get_default_dtype()), \"unit_power\") # unit_power, unit_mag\n",
    "# global_x_transform_func = lambda x: normalize(x, \"unit_power\") # unit_power, unit_mag"
   ]
  },
  {
   "cell_type": "code",
   "execution_count": 12,
   "id": "acb78fd2",
   "metadata": {
    "execution": {
     "iopub.execute_input": "2022-03-25T02:29:02.679518Z",
     "iopub.status.busy": "2022-03-25T02:29:02.679255Z",
     "iopub.status.idle": "2022-03-25T02:29:02.691355Z",
     "shell.execute_reply": "2022-03-25T02:29:02.691563Z"
    },
    "papermill": {
     "duration": 0.031549,
     "end_time": "2022-03-25T02:29:02.691622",
     "exception": false,
     "start_time": "2022-03-25T02:29:02.660073",
     "status": "completed"
    },
    "tags": []
   },
   "outputs": [],
   "source": [
    "def add_dataset(\n",
    "    labels,\n",
    "    domains,\n",
    "    pickle_path,\n",
    "    x_transforms,\n",
    "    episode_transforms,\n",
    "    domain_prefix,\n",
    "    num_examples_per_domain_per_label,\n",
    "    source_or_target_dataset:str,\n",
    "    iterator_seed=p.seed,\n",
    "    dataset_seed=p.dataset_seed,\n",
    "    n_shot=p.n_shot,\n",
    "    n_way=p.n_way,\n",
    "    n_query=p.n_query,\n",
    "    train_val_test_k_factors=(p.train_k_factor,p.val_k_factor,p.test_k_factor),\n",
    "):\n",
    "   \n",
    "    if x_transforms == []: x_transform = None\n",
    "    else: x_transform = get_chained_transform(x_transforms)\n",
    "    \n",
    "    if episode_transforms == []: episode_transform = None\n",
    "    else: raise Exception(\"episode_transforms not implemented\")\n",
    "    \n",
    "    episode_transform = lambda tup, _prefix=domain_prefix: (_prefix + str(tup[0]), tup[1])\n",
    "\n",
    "\n",
    "    eaf = Episodic_Accessor_Factory(\n",
    "        labels=labels,\n",
    "        domains=domains,\n",
    "        num_examples_per_domain_per_label=num_examples_per_domain_per_label,\n",
    "        iterator_seed=iterator_seed,\n",
    "        dataset_seed=dataset_seed,\n",
    "        n_shot=n_shot,\n",
    "        n_way=n_way,\n",
    "        n_query=n_query,\n",
    "        train_val_test_k_factors=train_val_test_k_factors,\n",
    "        pickle_path=pickle_path,\n",
    "        x_transform_func=x_transform,\n",
    "    )\n",
    "\n",
    "    train, val, test = eaf.get_train(), eaf.get_val(), eaf.get_test()\n",
    "    train = Lazy_Iterable_Wrapper(train, episode_transform)\n",
    "    val = Lazy_Iterable_Wrapper(val, episode_transform)\n",
    "    test = Lazy_Iterable_Wrapper(test, episode_transform)\n",
    "\n",
    "    if source_or_target_dataset==\"source\":\n",
    "        train_original_source.append(train)\n",
    "        val_original_source.append(val)\n",
    "        test_original_source.append(test)\n",
    "\n",
    "        p.domains_source.extend(\n",
    "            [domain_prefix + str(u) for u in domains]\n",
    "        )\n",
    "    elif source_or_target_dataset==\"target\":\n",
    "        train_original_target.append(train)\n",
    "        val_original_target.append(val)\n",
    "        test_original_target.append(test)\n",
    "        p.domains_target.extend(\n",
    "            [domain_prefix + str(u) for u in domains]\n",
    "        )\n",
    "    else:\n",
    "        raise Exception(f\"invalid source_or_target_dataset: {source_or_target_dataset}\")\n",
    "    "
   ]
  },
  {
   "cell_type": "code",
   "execution_count": 13,
   "id": "fe266617",
   "metadata": {
    "execution": {
     "iopub.execute_input": "2022-03-25T02:29:02.720122Z",
     "iopub.status.busy": "2022-03-25T02:29:02.719876Z",
     "iopub.status.idle": "2022-03-25T02:29:51.708363Z",
     "shell.execute_reply": "2022-03-25T02:29:51.707898Z"
    },
    "papermill": {
     "duration": 49.003705,
     "end_time": "2022-03-25T02:29:51.708468",
     "exception": false,
     "start_time": "2022-03-25T02:29:02.704763",
     "status": "completed"
    },
    "tags": []
   },
   "outputs": [],
   "source": [
    "for ds in p.datasets:\n",
    "    add_dataset(**ds)"
   ]
  },
  {
   "cell_type": "code",
   "execution_count": 14,
   "id": "b90d65ac",
   "metadata": {
    "execution": {
     "iopub.execute_input": "2022-03-25T02:29:51.742288Z",
     "iopub.status.busy": "2022-03-25T02:29:51.742027Z",
     "iopub.status.idle": "2022-03-25T02:29:51.758874Z",
     "shell.execute_reply": "2022-03-25T02:29:51.758425Z"
    },
    "papermill": {
     "duration": 0.032066,
     "end_time": "2022-03-25T02:29:51.758969",
     "exception": false,
     "start_time": "2022-03-25T02:29:51.726903",
     "status": "completed"
    },
    "tags": []
   },
   "outputs": [],
   "source": [
    "# from steves_utils.CORES.utils import (\n",
    "#     ALL_NODES,\n",
    "#     ALL_NODES_MINIMUM_1000_EXAMPLES,\n",
    "#     ALL_DAYS\n",
    "# )\n",
    "\n",
    "# add_dataset(\n",
    "#     labels=ALL_NODES,\n",
    "#     domains = ALL_DAYS,\n",
    "#     num_examples_per_domain_per_label=100,\n",
    "#     pickle_path=os.path.join(get_datasets_base_path(), \"cores.stratified_ds.2022A.pkl\"),\n",
    "#     source_or_target_dataset=\"target\",\n",
    "#     x_transform_func=global_x_transform_func,\n",
    "#     domain_modifier=lambda u: f\"cores_{u}\"\n",
    "# )"
   ]
  },
  {
   "cell_type": "code",
   "execution_count": 15,
   "id": "76db484d",
   "metadata": {
    "execution": {
     "iopub.execute_input": "2022-03-25T02:29:51.789656Z",
     "iopub.status.busy": "2022-03-25T02:29:51.789402Z",
     "iopub.status.idle": "2022-03-25T02:29:51.799868Z",
     "shell.execute_reply": "2022-03-25T02:29:51.799429Z"
    },
    "papermill": {
     "duration": 0.025184,
     "end_time": "2022-03-25T02:29:51.799958",
     "exception": false,
     "start_time": "2022-03-25T02:29:51.774774",
     "status": "completed"
    },
    "tags": []
   },
   "outputs": [],
   "source": [
    "# from steves_utils.ORACLE.utils_v2 import (\n",
    "#     ALL_DISTANCES_FEET,\n",
    "#     ALL_RUNS,\n",
    "#     ALL_SERIAL_NUMBERS,\n",
    "# )\n",
    "\n",
    "\n",
    "# add_dataset(\n",
    "#     labels=ALL_SERIAL_NUMBERS,\n",
    "#     domains = list(set(ALL_DISTANCES_FEET) - {2,62}),\n",
    "#     num_examples_per_domain_per_label=100,\n",
    "#     pickle_path=os.path.join(get_datasets_base_path(), \"oracle.Run2_framed_2000Examples_stratified_ds.2022A.pkl\"),\n",
    "#     source_or_target_dataset=\"source\",\n",
    "#     x_transform_func=global_x_transform_func,\n",
    "#     domain_modifier=lambda u: f\"oracle1_{u}\"\n",
    "# )\n"
   ]
  },
  {
   "cell_type": "code",
   "execution_count": 16,
   "id": "97dea9d2",
   "metadata": {
    "execution": {
     "iopub.execute_input": "2022-03-25T02:29:51.831685Z",
     "iopub.status.busy": "2022-03-25T02:29:51.831434Z",
     "iopub.status.idle": "2022-03-25T02:29:51.846081Z",
     "shell.execute_reply": "2022-03-25T02:29:51.845820Z"
    },
    "papermill": {
     "duration": 0.029954,
     "end_time": "2022-03-25T02:29:51.846131",
     "exception": false,
     "start_time": "2022-03-25T02:29:51.816177",
     "status": "completed"
    },
    "tags": []
   },
   "outputs": [],
   "source": [
    "# from steves_utils.ORACLE.utils_v2 import (\n",
    "#     ALL_DISTANCES_FEET,\n",
    "#     ALL_RUNS,\n",
    "#     ALL_SERIAL_NUMBERS,\n",
    "# )\n",
    "\n",
    "\n",
    "# add_dataset(\n",
    "#     labels=ALL_SERIAL_NUMBERS,\n",
    "#     domains = list(set(ALL_DISTANCES_FEET) - {2,62,56}),\n",
    "#     num_examples_per_domain_per_label=100,\n",
    "#     pickle_path=os.path.join(get_datasets_base_path(), \"oracle.Run2_framed_2000Examples_stratified_ds.2022A.pkl\"),\n",
    "#     source_or_target_dataset=\"source\",\n",
    "#     x_transform_func=global_x_transform_func,\n",
    "#     domain_modifier=lambda u: f\"oracle2_{u}\"\n",
    "# )"
   ]
  },
  {
   "cell_type": "code",
   "execution_count": 17,
   "id": "6f289866",
   "metadata": {
    "execution": {
     "iopub.execute_input": "2022-03-25T02:29:51.878935Z",
     "iopub.status.busy": "2022-03-25T02:29:51.878686Z",
     "iopub.status.idle": "2022-03-25T02:29:51.891782Z",
     "shell.execute_reply": "2022-03-25T02:29:51.891401Z"
    },
    "papermill": {
     "duration": 0.028486,
     "end_time": "2022-03-25T02:29:51.891883",
     "exception": false,
     "start_time": "2022-03-25T02:29:51.863397",
     "status": "completed"
    },
    "tags": []
   },
   "outputs": [],
   "source": [
    "# add_dataset(\n",
    "#     labels=list(range(19)),\n",
    "#     domains = [0,1,2],\n",
    "#     num_examples_per_domain_per_label=100,\n",
    "#     pickle_path=os.path.join(get_datasets_base_path(), \"metehan.stratified_ds.2022A.pkl\"),\n",
    "#     source_or_target_dataset=\"target\",\n",
    "#     x_transform_func=global_x_transform_func,\n",
    "#     domain_modifier=lambda u: f\"met_{u}\"\n",
    "# )"
   ]
  },
  {
   "cell_type": "code",
   "execution_count": 18,
   "id": "86a863c3",
   "metadata": {
    "execution": {
     "iopub.execute_input": "2022-03-25T02:29:51.925724Z",
     "iopub.status.busy": "2022-03-25T02:29:51.925472Z",
     "iopub.status.idle": "2022-03-25T02:29:51.940254Z",
     "shell.execute_reply": "2022-03-25T02:29:51.939805Z"
    },
    "papermill": {
     "duration": 0.030126,
     "end_time": "2022-03-25T02:29:51.940350",
     "exception": false,
     "start_time": "2022-03-25T02:29:51.910224",
     "status": "completed"
    },
    "tags": []
   },
   "outputs": [],
   "source": [
    "# # from steves_utils.wisig.utils import (\n",
    "# #     ALL_NODES_MINIMUM_100_EXAMPLES,\n",
    "# #     ALL_NODES_MINIMUM_500_EXAMPLES,\n",
    "# #     ALL_NODES_MINIMUM_1000_EXAMPLES,\n",
    "# #     ALL_DAYS\n",
    "# # )\n",
    "\n",
    "# import steves_utils.wisig.utils as wisig\n",
    "\n",
    "\n",
    "# add_dataset(\n",
    "#     labels=wisig.ALL_NODES_MINIMUM_100_EXAMPLES,\n",
    "#     domains = wisig.ALL_DAYS,\n",
    "#     num_examples_per_domain_per_label=100,\n",
    "#     pickle_path=os.path.join(get_datasets_base_path(), \"wisig.node3-19.stratified_ds.2022A.pkl\"),\n",
    "#     source_or_target_dataset=\"target\",\n",
    "#     x_transform_func=global_x_transform_func,\n",
    "#     domain_modifier=lambda u: f\"wisig_{u}\"\n",
    "# )"
   ]
  },
  {
   "cell_type": "code",
   "execution_count": 19,
   "id": "fd5442bc",
   "metadata": {
    "execution": {
     "iopub.execute_input": "2022-03-25T02:29:51.975541Z",
     "iopub.status.busy": "2022-03-25T02:29:51.975283Z",
     "iopub.status.idle": "2022-03-25T02:29:51.988706Z",
     "shell.execute_reply": "2022-03-25T02:29:51.989074Z"
    },
    "papermill": {
     "duration": 0.030636,
     "end_time": "2022-03-25T02:29:51.989178",
     "exception": false,
     "start_time": "2022-03-25T02:29:51.958542",
     "status": "completed"
    },
    "tags": []
   },
   "outputs": [],
   "source": [
    "###################################\n",
    "# Build the dataset\n",
    "###################################\n",
    "train_original_source = Iterable_Aggregator(train_original_source, p.seed)\n",
    "val_original_source = Iterable_Aggregator(val_original_source, p.seed)\n",
    "test_original_source = Iterable_Aggregator(test_original_source, p.seed)\n",
    "\n",
    "\n",
    "train_original_target = Iterable_Aggregator(train_original_target, p.seed)\n",
    "val_original_target = Iterable_Aggregator(val_original_target, p.seed)\n",
    "test_original_target = Iterable_Aggregator(test_original_target, p.seed)\n",
    "\n",
    "# For CNN We only use X and Y. And we only train on the source.\n",
    "# Properly form the data using a transform lambda and Lazy_Iterable_Wrapper. Finally wrap them in a dataloader\n",
    "\n",
    "transform_lambda = lambda ex: ex[1] # Original is (<domain>, <episode>) so we strip down to episode only\n",
    "\n",
    "train_processed_source = Lazy_Iterable_Wrapper(train_original_source, transform_lambda)\n",
    "val_processed_source   = Lazy_Iterable_Wrapper(val_original_source, transform_lambda)\n",
    "test_processed_source  = Lazy_Iterable_Wrapper(test_original_source, transform_lambda)\n",
    "\n",
    "train_processed_target = Lazy_Iterable_Wrapper(train_original_target, transform_lambda)\n",
    "val_processed_target   = Lazy_Iterable_Wrapper(val_original_target, transform_lambda)\n",
    "test_processed_target  = Lazy_Iterable_Wrapper(test_original_target, transform_lambda)\n",
    "\n",
    "datasets = EasyDict({\n",
    "    \"source\": {\n",
    "        \"original\": {\"train\":train_original_source, \"val\":val_original_source, \"test\":test_original_source},\n",
    "        \"processed\": {\"train\":train_processed_source, \"val\":val_processed_source, \"test\":test_processed_source}\n",
    "    },\n",
    "    \"target\": {\n",
    "        \"original\": {\"train\":train_original_target, \"val\":val_original_target, \"test\":test_original_target},\n",
    "        \"processed\": {\"train\":train_processed_target, \"val\":val_processed_target, \"test\":test_processed_target}\n",
    "    },\n",
    "})"
   ]
  },
  {
   "cell_type": "code",
   "execution_count": 20,
   "id": "5b3c01fc",
   "metadata": {
    "execution": {
     "iopub.execute_input": "2022-03-25T02:29:52.026161Z",
     "iopub.status.busy": "2022-03-25T02:29:52.025889Z",
     "iopub.status.idle": "2022-03-25T02:29:58.372358Z",
     "shell.execute_reply": "2022-03-25T02:29:58.372777Z"
    },
    "papermill": {
     "duration": 6.363925,
     "end_time": "2022-03-25T02:29:58.372911",
     "exception": false,
     "start_time": "2022-03-25T02:29:52.008986",
     "status": "completed"
    },
    "tags": []
   },
   "outputs": [
    {
     "name": "stdout",
     "output_type": "stream",
     "text": [
      "{'C_5', 'C_3', 'C_1', 'C_4', 'C_2'}\n"
     ]
    },
    {
     "name": "stdout",
     "output_type": "stream",
     "text": [
      "{'O_8', 'O_32', 'O_50', 'O_20', 'O_38', 'O_14', 'O_26', 'O_44'}\n"
     ]
    },
    {
     "name": "stdout",
     "output_type": "stream",
     "text": [
      "tensor([[[-0.3476, -0.6451,  0.4582,  ..., -0.8803, -0.5459,  0.2133],\n",
      "         [ 0.1080, -0.8303, -0.6346,  ..., -0.5530, -1.7423, -1.1832]],\n",
      "\n",
      "        [[-0.5142, -0.5376,  0.8181,  ..., -1.0769, -0.2762, -0.0459],\n",
      "         [-0.0970, -0.9046, -0.3809,  ..., -0.9687, -1.6777, -0.8588]],\n",
      "\n",
      "        [[-0.2469, -0.3717,  0.3577,  ..., -0.5017, -0.1326,  0.8184],\n",
      "         [ 0.1501, -0.7520, -0.8375,  ..., -0.2853, -1.7213, -1.2869]],\n",
      "\n",
      "        ...,\n",
      "\n",
      "        [[ 0.5798,  0.7726,  0.8271,  ...,  0.0515, -0.1001, -0.7388],\n",
      "         [ 0.4327,  0.8079, -0.1074,  ...,  0.8021, -0.1943, -1.1302]],\n",
      "\n",
      "        [[ 0.4345,  0.4361, -0.1912,  ..., -0.7821, -0.0411, -0.0427],\n",
      "         [ 0.1659,  0.0585, -0.3492,  ..., -0.3682,  0.0363,  0.5356]],\n",
      "\n",
      "        [[ 0.3177,  0.5724,  0.7166,  ..., -0.1456, -0.0476, -0.1288],\n",
      "         [ 0.9335,  0.8020, -0.3919,  ...,  0.3485, -0.7222, -1.5731]]])\n"
     ]
    }
   ],
   "source": [
    "from steves_utils.transforms import get_average_magnitude, get_average_power\n",
    "\n",
    "print(set([u for u,_ in val_original_source]))\n",
    "print(set([u for u,_ in val_original_target]))\n",
    "\n",
    "s_x, s_y, q_x, q_y, _ = next(iter(train_processed_source))\n",
    "print(s_x)\n",
    "\n",
    "# for ds in [\n",
    "#     train_processed_source,\n",
    "#     val_processed_source,\n",
    "#     test_processed_source,\n",
    "#     train_processed_target,\n",
    "#     val_processed_target,\n",
    "#     test_processed_target\n",
    "# ]:\n",
    "#     for s_x, s_y, q_x, q_y, _ in ds:\n",
    "#         for X in (s_x, q_x):\n",
    "#             for x in X:\n",
    "#                 assert np.isclose(get_average_magnitude(x.numpy()), 1.0)\n",
    "#                 assert np.isclose(get_average_power(x.numpy()), 1.0)\n",
    "                "
   ]
  },
  {
   "cell_type": "code",
   "execution_count": 21,
   "id": "bbdacba1",
   "metadata": {
    "execution": {
     "iopub.execute_input": "2022-03-25T02:29:58.410146Z",
     "iopub.status.busy": "2022-03-25T02:29:58.409877Z",
     "iopub.status.idle": "2022-03-25T02:29:58.460743Z",
     "shell.execute_reply": "2022-03-25T02:29:58.461125Z"
    },
    "papermill": {
     "duration": 0.068751,
     "end_time": "2022-03-25T02:29:58.461241",
     "exception": false,
     "start_time": "2022-03-25T02:29:58.392490",
     "status": "completed"
    },
    "tags": []
   },
   "outputs": [
    {
     "name": "stdout",
     "output_type": "stream",
     "text": [
      "(2, 200)\n"
     ]
    }
   ],
   "source": [
    "###################################\n",
    "# Build the model\n",
    "###################################\n",
    "# easfsl only wants a tuple for the shape\n",
    "model = Steves_Prototypical_Network(x_net, device=p.device, x_shape=tuple(p.x_shape))\n",
    "optimizer = Adam(params=model.parameters(), lr=p.lr)"
   ]
  },
  {
   "cell_type": "code",
   "execution_count": 22,
   "id": "22b39ac5",
   "metadata": {
    "execution": {
     "iopub.execute_input": "2022-03-25T02:29:58.498278Z",
     "iopub.status.busy": "2022-03-25T02:29:58.498022Z",
     "iopub.status.idle": "2022-03-25T02:42:36.704030Z",
     "shell.execute_reply": "2022-03-25T02:42:36.703784Z"
    },
    "papermill": {
     "duration": 758.223559,
     "end_time": "2022-03-25T02:42:36.704091",
     "exception": false,
     "start_time": "2022-03-25T02:29:58.480532",
     "status": "completed"
    },
    "tags": []
   },
   "outputs": [
    {
     "name": "stdout",
     "output_type": "stream",
     "text": [
      "epoch: 1, [batch: 1 / 6320], examples_per_second: 49.0462, train_label_loss: 2.7216, \n"
     ]
    },
    {
     "name": "stdout",
     "output_type": "stream",
     "text": [
      "epoch: 1, [batch: 632 / 6320], examples_per_second: 3703.6287, train_label_loss: 0.0085, \n"
     ]
    },
    {
     "name": "stdout",
     "output_type": "stream",
     "text": [
      "epoch: 1, [batch: 1264 / 6320], examples_per_second: 3709.4322, train_label_loss: 0.0031, \n"
     ]
    },
    {
     "name": "stdout",
     "output_type": "stream",
     "text": [
      "epoch: 1, [batch: 1896 / 6320], examples_per_second: 3710.9661, train_label_loss: 0.0184, \n"
     ]
    },
    {
     "name": "stdout",
     "output_type": "stream",
     "text": [
      "epoch: 1, [batch: 2528 / 6320], examples_per_second: 3706.8368, train_label_loss: 0.0076, \n"
     ]
    },
    {
     "name": "stdout",
     "output_type": "stream",
     "text": [
      "epoch: 1, [batch: 3160 / 6320], examples_per_second: 3699.0723, train_label_loss: 0.0005, \n"
     ]
    },
    {
     "name": "stdout",
     "output_type": "stream",
     "text": [
      "epoch: 1, [batch: 3792 / 6320], examples_per_second: 3722.5993, train_label_loss: 0.0023, \n"
     ]
    },
    {
     "name": "stdout",
     "output_type": "stream",
     "text": [
      "epoch: 1, [batch: 4424 / 6320], examples_per_second: 3686.6332, train_label_loss: 0.0079, \n"
     ]
    },
    {
     "name": "stdout",
     "output_type": "stream",
     "text": [
      "epoch: 1, [batch: 5056 / 6320], examples_per_second: 3718.9967, train_label_loss: 0.0037, \n"
     ]
    },
    {
     "name": "stdout",
     "output_type": "stream",
     "text": [
      "epoch: 1, [batch: 5688 / 6320], examples_per_second: 3716.5757, train_label_loss: 0.0004, \n"
     ]
    },
    {
     "name": "stdout",
     "output_type": "stream",
     "text": [
      "=============================================================\n",
      "epoch: 1, source_val_acc_label: 0.9986, target_val_acc_label: 0.3716, source_val_label_loss: 0.0073, target_val_label_loss: 1.7806, \n",
      "=============================================================\n"
     ]
    },
    {
     "name": "stdout",
     "output_type": "stream",
     "text": [
      "New best\n"
     ]
    },
    {
     "name": "stdout",
     "output_type": "stream",
     "text": [
      "epoch: 2, [batch: 1 / 6305], examples_per_second: 5.4862, train_label_loss: 0.0016, \n"
     ]
    },
    {
     "name": "stdout",
     "output_type": "stream",
     "text": [
      "epoch: 2, [batch: 631 / 6305], examples_per_second: 3712.0976, train_label_loss: 0.0004, \n"
     ]
    },
    {
     "name": "stdout",
     "output_type": "stream",
     "text": [
      "epoch: 2, [batch: 1261 / 6305], examples_per_second: 3736.5647, train_label_loss: 0.0004, \n"
     ]
    },
    {
     "name": "stdout",
     "output_type": "stream",
     "text": [
      "epoch: 2, [batch: 1892 / 6305], examples_per_second: 3748.3264, train_label_loss: 0.0001, \n"
     ]
    },
    {
     "name": "stdout",
     "output_type": "stream",
     "text": [
      "epoch: 2, [batch: 2522 / 6305], examples_per_second: 3717.2512, train_label_loss: 0.0001, \n"
     ]
    },
    {
     "name": "stdout",
     "output_type": "stream",
     "text": [
      "epoch: 2, [batch: 3153 / 6305], examples_per_second: 3729.7692, train_label_loss: 0.0000, \n"
     ]
    },
    {
     "name": "stdout",
     "output_type": "stream",
     "text": [
      "epoch: 2, [batch: 3783 / 6305], examples_per_second: 3718.6561, train_label_loss: 0.0000, \n"
     ]
    },
    {
     "name": "stdout",
     "output_type": "stream",
     "text": [
      "epoch: 2, [batch: 4413 / 6305], examples_per_second: 3690.2015, train_label_loss: 0.0000, \n"
     ]
    },
    {
     "name": "stdout",
     "output_type": "stream",
     "text": [
      "epoch: 2, [batch: 5044 / 6305], examples_per_second: 3720.1549, train_label_loss: 0.0000, \n"
     ]
    },
    {
     "name": "stdout",
     "output_type": "stream",
     "text": [
      "epoch: 2, [batch: 5674 / 6305], examples_per_second: 3724.7697, train_label_loss: 0.0005, \n"
     ]
    },
    {
     "name": "stdout",
     "output_type": "stream",
     "text": [
      "=============================================================\n",
      "epoch: 2, source_val_acc_label: 0.9988, target_val_acc_label: 0.2519, source_val_label_loss: 0.0089, target_val_label_loss: 2.8432, \n",
      "=============================================================\n"
     ]
    },
    {
     "name": "stdout",
     "output_type": "stream",
     "text": [
      "epoch: 3, [batch: 1 / 6307], examples_per_second: 5.4835, train_label_loss: 0.0000, \n"
     ]
    },
    {
     "name": "stdout",
     "output_type": "stream",
     "text": [
      "epoch: 3, [batch: 631 / 6307], examples_per_second: 3599.6123, train_label_loss: 0.0000, \n"
     ]
    },
    {
     "name": "stdout",
     "output_type": "stream",
     "text": [
      "epoch: 3, [batch: 1262 / 6307], examples_per_second: 3641.3417, train_label_loss: 0.0029, \n"
     ]
    },
    {
     "name": "stdout",
     "output_type": "stream",
     "text": [
      "epoch: 3, [batch: 1892 / 6307], examples_per_second: 3681.6137, train_label_loss: 0.0000, \n"
     ]
    },
    {
     "name": "stdout",
     "output_type": "stream",
     "text": [
      "epoch: 3, [batch: 2523 / 6307], examples_per_second: 3706.9345, train_label_loss: 0.0000, \n"
     ]
    },
    {
     "name": "stdout",
     "output_type": "stream",
     "text": [
      "epoch: 3, [batch: 3154 / 6307], examples_per_second: 3715.2192, train_label_loss: 0.0000, \n"
     ]
    },
    {
     "name": "stdout",
     "output_type": "stream",
     "text": [
      "epoch: 3, [batch: 3784 / 6307], examples_per_second: 3726.3978, train_label_loss: 0.0107, \n"
     ]
    },
    {
     "name": "stdout",
     "output_type": "stream",
     "text": [
      "epoch: 3, [batch: 4415 / 6307], examples_per_second: 3697.3901, train_label_loss: 0.0000, \n"
     ]
    },
    {
     "name": "stdout",
     "output_type": "stream",
     "text": [
      "epoch: 3, [batch: 5045 / 6307], examples_per_second: 3719.4282, train_label_loss: 0.0000, \n"
     ]
    },
    {
     "name": "stdout",
     "output_type": "stream",
     "text": [
      "epoch: 3, [batch: 5676 / 6307], examples_per_second: 3723.8408, train_label_loss: 0.0001, \n"
     ]
    },
    {
     "name": "stdout",
     "output_type": "stream",
     "text": [
      "=============================================================\n",
      "epoch: 3, source_val_acc_label: 0.9991, target_val_acc_label: 0.3253, source_val_label_loss: 0.0058, target_val_label_loss: 2.1774, \n",
      "=============================================================\n"
     ]
    },
    {
     "name": "stdout",
     "output_type": "stream",
     "text": [
      "epoch: 4, [batch: 1 / 6315], examples_per_second: 5.4967, train_label_loss: 0.0000, \n"
     ]
    },
    {
     "name": "stdout",
     "output_type": "stream",
     "text": [
      "epoch: 4, [batch: 632 / 6315], examples_per_second: 3694.0388, train_label_loss: 0.0000, \n"
     ]
    },
    {
     "name": "stdout",
     "output_type": "stream",
     "text": [
      "epoch: 4, [batch: 1263 / 6315], examples_per_second: 3714.9644, train_label_loss: 0.0000, \n"
     ]
    },
    {
     "name": "stdout",
     "output_type": "stream",
     "text": [
      "epoch: 4, [batch: 1895 / 6315], examples_per_second: 3726.2805, train_label_loss: 0.0007, \n"
     ]
    },
    {
     "name": "stdout",
     "output_type": "stream",
     "text": [
      "epoch: 4, [batch: 2526 / 6315], examples_per_second: 3711.8963, train_label_loss: 0.0001, \n"
     ]
    },
    {
     "name": "stdout",
     "output_type": "stream",
     "text": [
      "epoch: 4, [batch: 3158 / 6315], examples_per_second: 3711.5054, train_label_loss: 0.0001, \n"
     ]
    },
    {
     "name": "stdout",
     "output_type": "stream",
     "text": [
      "epoch: 4, [batch: 3789 / 6315], examples_per_second: 3717.2835, train_label_loss: 0.0000, \n"
     ]
    },
    {
     "name": "stdout",
     "output_type": "stream",
     "text": [
      "epoch: 4, [batch: 4420 / 6315], examples_per_second: 3708.5117, train_label_loss: 0.0000, \n"
     ]
    },
    {
     "name": "stdout",
     "output_type": "stream",
     "text": [
      "epoch: 4, [batch: 5052 / 6315], examples_per_second: 3725.5119, train_label_loss: 0.0007, \n"
     ]
    },
    {
     "name": "stdout",
     "output_type": "stream",
     "text": [
      "epoch: 4, [batch: 5683 / 6315], examples_per_second: 3733.5793, train_label_loss: 0.0000, \n"
     ]
    },
    {
     "name": "stdout",
     "output_type": "stream",
     "text": [
      "=============================================================\n",
      "epoch: 4, source_val_acc_label: 0.9995, target_val_acc_label: 0.3216, source_val_label_loss: 0.0067, target_val_label_loss: 2.4225, \n",
      "=============================================================\n"
     ]
    },
    {
     "name": "stdout",
     "output_type": "stream",
     "text": [
      "epoch: 5, [batch: 1 / 6313], examples_per_second: 5.5220, train_label_loss: 0.0000, \n"
     ]
    },
    {
     "name": "stdout",
     "output_type": "stream",
     "text": [
      "epoch: 5, [batch: 632 / 6313], examples_per_second: 3627.0087, train_label_loss: 0.0047, \n"
     ]
    },
    {
     "name": "stdout",
     "output_type": "stream",
     "text": [
      "epoch: 5, [batch: 1263 / 6313], examples_per_second: 3688.7822, train_label_loss: 0.0000, \n"
     ]
    },
    {
     "name": "stdout",
     "output_type": "stream",
     "text": [
      "epoch: 5, [batch: 1894 / 6313], examples_per_second: 3721.1164, train_label_loss: 0.0000, \n"
     ]
    },
    {
     "name": "stdout",
     "output_type": "stream",
     "text": [
      "epoch: 5, [batch: 2525 / 6313], examples_per_second: 3715.0662, train_label_loss: 0.0000, \n"
     ]
    },
    {
     "name": "stdout",
     "output_type": "stream",
     "text": [
      "epoch: 5, [batch: 3157 / 6313], examples_per_second: 3724.6163, train_label_loss: 0.0000, \n"
     ]
    },
    {
     "name": "stdout",
     "output_type": "stream",
     "text": [
      "epoch: 5, [batch: 3788 / 6313], examples_per_second: 3715.4729, train_label_loss: 0.0000, \n"
     ]
    },
    {
     "name": "stdout",
     "output_type": "stream",
     "text": [
      "epoch: 5, [batch: 4419 / 6313], examples_per_second: 3705.6526, train_label_loss: 0.0000, \n"
     ]
    },
    {
     "name": "stdout",
     "output_type": "stream",
     "text": [
      "epoch: 5, [batch: 5050 / 6313], examples_per_second: 3730.0107, train_label_loss: 0.0000, \n"
     ]
    },
    {
     "name": "stdout",
     "output_type": "stream",
     "text": [
      "epoch: 5, [batch: 5681 / 6313], examples_per_second: 3723.7750, train_label_loss: 0.0002, \n"
     ]
    },
    {
     "name": "stdout",
     "output_type": "stream",
     "text": [
      "=============================================================\n",
      "epoch: 5, source_val_acc_label: 0.9985, target_val_acc_label: 0.2599, source_val_label_loss: 0.0135, target_val_label_loss: 3.8938, \n",
      "=============================================================\n"
     ]
    },
    {
     "name": "stdout",
     "output_type": "stream",
     "text": [
      "Patience (3) exhausted\n"
     ]
    }
   ],
   "source": [
    "###################################\n",
    "# train\n",
    "###################################\n",
    "jig = PTN_Train_Eval_Test_Jig(model, p.BEST_MODEL_PATH, p.device)\n",
    "\n",
    "jig.train(\n",
    "    train_iterable=datasets.source.processed.train,\n",
    "    source_val_iterable=datasets.source.processed.val,\n",
    "    target_val_iterable=datasets.target.processed.val,\n",
    "    num_epochs=p.n_epoch,\n",
    "    num_logs_per_epoch=p.NUM_LOGS_PER_EPOCH,\n",
    "    patience=p.patience,\n",
    "    optimizer=optimizer,\n",
    "    criteria_for_best=p.criteria_for_best,\n",
    ")"
   ]
  },
  {
   "cell_type": "code",
   "execution_count": 23,
   "id": "31e8fabf",
   "metadata": {
    "execution": {
     "iopub.execute_input": "2022-03-25T02:42:36.758720Z",
     "iopub.status.busy": "2022-03-25T02:42:36.758377Z",
     "iopub.status.idle": "2022-03-25T02:42:36.777813Z",
     "shell.execute_reply": "2022-03-25T02:42:36.778237Z"
    },
    "papermill": {
     "duration": 0.048508,
     "end_time": "2022-03-25T02:42:36.778353",
     "exception": false,
     "start_time": "2022-03-25T02:42:36.729845",
     "status": "completed"
    },
    "tags": []
   },
   "outputs": [],
   "source": [
    "total_experiment_time_secs = time.time() - start_time_secs"
   ]
  },
  {
   "cell_type": "code",
   "execution_count": 24,
   "id": "87b9595b",
   "metadata": {
    "execution": {
     "iopub.execute_input": "2022-03-25T02:42:36.839816Z",
     "iopub.status.busy": "2022-03-25T02:42:36.839537Z",
     "iopub.status.idle": "2022-03-25T02:44:10.615699Z",
     "shell.execute_reply": "2022-03-25T02:44:10.616102Z"
    },
    "papermill": {
     "duration": 93.805569,
     "end_time": "2022-03-25T02:44:10.616233",
     "exception": false,
     "start_time": "2022-03-25T02:42:36.810664",
     "status": "completed"
    },
    "tags": []
   },
   "outputs": [],
   "source": [
    "###################################\n",
    "# Evaluate the model\n",
    "###################################\n",
    "source_test_label_accuracy, source_test_label_loss = jig.test(datasets.source.processed.test)\n",
    "target_test_label_accuracy, target_test_label_loss = jig.test(datasets.target.processed.test)\n",
    "\n",
    "source_val_label_accuracy, source_val_label_loss = jig.test(datasets.source.processed.val)\n",
    "target_val_label_accuracy, target_val_label_loss = jig.test(datasets.target.processed.val)\n",
    "\n",
    "history = jig.get_history()\n",
    "\n",
    "total_epochs_trained = len(history[\"epoch_indices\"])\n",
    "\n",
    "val_dl = Iterable_Aggregator((datasets.source.original.val,datasets.target.original.val))\n",
    "\n",
    "confusion = ptn_confusion_by_domain_over_dataloader(model, p.device, val_dl)\n",
    "per_domain_accuracy = per_domain_accuracy_from_confusion(confusion)\n",
    "\n",
    "# Add a key to per_domain_accuracy for if it was a source domain\n",
    "for domain, accuracy in per_domain_accuracy.items():\n",
    "    per_domain_accuracy[domain] = {\n",
    "        \"accuracy\": accuracy,\n",
    "        \"source?\": domain in p.domains_source\n",
    "    }\n",
    "\n",
    "# Do an independent accuracy assesment JUST TO BE SURE!\n",
    "# _source_test_label_accuracy = independent_accuracy_assesment(model, datasets.source.processed.test, p.device)\n",
    "# _target_test_label_accuracy = independent_accuracy_assesment(model, datasets.target.processed.test, p.device)\n",
    "# _source_val_label_accuracy = independent_accuracy_assesment(model, datasets.source.processed.val, p.device)\n",
    "# _target_val_label_accuracy = independent_accuracy_assesment(model, datasets.target.processed.val, p.device)\n",
    "\n",
    "# assert(_source_test_label_accuracy == source_test_label_accuracy)\n",
    "# assert(_target_test_label_accuracy == target_test_label_accuracy)\n",
    "# assert(_source_val_label_accuracy == source_val_label_accuracy)\n",
    "# assert(_target_val_label_accuracy == target_val_label_accuracy)\n",
    "\n",
    "experiment = {\n",
    "    \"experiment_name\": p.experiment_name,\n",
    "    \"parameters\": dict(p),\n",
    "    \"results\": {\n",
    "        \"source_test_label_accuracy\": source_test_label_accuracy,\n",
    "        \"source_test_label_loss\": source_test_label_loss,\n",
    "        \"target_test_label_accuracy\": target_test_label_accuracy,\n",
    "        \"target_test_label_loss\": target_test_label_loss,\n",
    "        \"source_val_label_accuracy\": source_val_label_accuracy,\n",
    "        \"source_val_label_loss\": source_val_label_loss,\n",
    "        \"target_val_label_accuracy\": target_val_label_accuracy,\n",
    "        \"target_val_label_loss\": target_val_label_loss,\n",
    "        \"total_epochs_trained\": total_epochs_trained,\n",
    "        \"total_experiment_time_secs\": total_experiment_time_secs,\n",
    "        \"confusion\": confusion,\n",
    "        \"per_domain_accuracy\": per_domain_accuracy,\n",
    "    },\n",
    "    \"history\": history,\n",
    "    \"dataset_metrics\": get_dataset_metrics(datasets, \"ptn\"),\n",
    "}"
   ]
  },
  {
   "cell_type": "code",
   "execution_count": 25,
   "id": "54a21829",
   "metadata": {
    "execution": {
     "iopub.execute_input": "2022-03-25T02:44:10.673555Z",
     "iopub.status.busy": "2022-03-25T02:44:10.673289Z",
     "iopub.status.idle": "2022-03-25T02:44:10.801254Z",
     "shell.execute_reply": "2022-03-25T02:44:10.800844Z"
    },
    "papermill": {
     "duration": 0.155469,
     "end_time": "2022-03-25T02:44:10.801354",
     "exception": false,
     "start_time": "2022-03-25T02:44:10.645885",
     "status": "completed"
    },
    "tags": []
   },
   "outputs": [
    {
     "data": {
      "image/png": "[encoded data removed]",
      "text/plain": [
       "<Figure size 1080x504 with 1 Axes>"
      ]
     },
     "metadata": {
      "needs_background": "light"
     },
     "output_type": "display_data"
    }
   ],
   "source": [
    "ax = get_loss_curve(experiment)\n",
    "plt.show()"
   ]
  },
  {
   "cell_type": "code",
   "execution_count": 26,
   "id": "fd8a0f60",
   "metadata": {
    "execution": {
     "iopub.execute_input": "2022-03-25T02:44:10.859924Z",
     "iopub.status.busy": "2022-03-25T02:44:10.859551Z",
     "iopub.status.idle": "2022-03-25T02:44:11.004281Z",
     "shell.execute_reply": "2022-03-25T02:44:11.004701Z"
    },
    "papermill": {
     "duration": 0.173493,
     "end_time": "2022-03-25T02:44:11.004832",
     "exception": false,
     "start_time": "2022-03-25T02:44:10.831339",
     "status": "completed"
    },
    "tags": []
   },
   "outputs": [
    {
     "data": {
      "text/plain": [
       "<AxesSubplot:title={'center':'Results'}>"
      ]
     },
     "execution_count": 26,
     "metadata": {},
     "output_type": "execute_result"
    },
    {
     "data": {
      "image/png": "[encoded data removed]",
      "text/plain": [
       "<Figure size 1080x504 with 1 Axes>"
      ]
     },
     "metadata": {
      "needs_background": "light"
     },
     "output_type": "display_data"
    }
   ],
   "source": [
    "get_results_table(experiment)"
   ]
  },
  {
   "cell_type": "code",
   "execution_count": 27,
   "id": "cf8dc689",
   "metadata": {
    "execution": {
     "iopub.execute_input": "2022-03-25T02:44:11.068263Z",
     "iopub.status.busy": "2022-03-25T02:44:11.068008Z",
     "iopub.status.idle": "2022-03-25T02:44:11.207263Z",
     "shell.execute_reply": "2022-03-25T02:44:11.206800Z"
    },
    "papermill": {
     "duration": 0.168335,
     "end_time": "2022-03-25T02:44:11.207375",
     "exception": false,
     "start_time": "2022-03-25T02:44:11.039040",
     "status": "completed"
    },
    "tags": []
   },
   "outputs": [
    {
     "data": {
      "text/plain": [
       "<AxesSubplot:title={'center':'Per Domain Validation Accuracy'}, xlabel='domain'>"
      ]
     },
     "execution_count": 27,
     "metadata": {},
     "output_type": "execute_result"
    },
    {
     "data": {
      "image/png": "[encoded data removed]",
      "text/plain": [
       "<Figure size 1080x504 with 1 Axes>"
      ]
     },
     "metadata": {
      "needs_background": "light"
     },
     "output_type": "display_data"
    }
   ],
   "source": [
    "get_domain_accuracies(experiment)"
   ]
  },
  {
   "cell_type": "code",
   "execution_count": 28,
   "id": "a74ae082",
   "metadata": {
    "execution": {
     "iopub.execute_input": "2022-03-25T02:44:11.269789Z",
     "iopub.status.busy": "2022-03-25T02:44:11.269526Z",
     "iopub.status.idle": "2022-03-25T02:44:11.285146Z",
     "shell.execute_reply": "2022-03-25T02:44:11.285549Z"
    },
    "papermill": {
     "duration": 0.04653,
     "end_time": "2022-03-25T02:44:11.285676",
     "exception": false,
     "start_time": "2022-03-25T02:44:11.239146",
     "status": "completed"
    },
    "tags": []
   },
   "outputs": [
    {
     "name": "stdout",
     "output_type": "stream",
     "text": [
      "Source Test Label Accuracy: 0.9986321548821548 Target Test Label Accuracy: 0.37845052083333336\n",
      "Source Val Label Accuracy: 0.998644406392694 Target Val Label Accuracy: 0.37158203125\n"
     ]
    }
   ],
   "source": [
    "print(\"Source Test Label Accuracy:\", experiment[\"results\"][\"source_test_label_accuracy\"], \"Target Test Label Accuracy:\", experiment[\"results\"][\"target_test_label_accuracy\"])\n",
    "print(\"Source Val Label Accuracy:\", experiment[\"results\"][\"source_val_label_accuracy\"], \"Target Val Label Accuracy:\", experiment[\"results\"][\"target_val_label_accuracy\"])"
   ]
  },
  {
   "cell_type": "code",
   "execution_count": 29,
   "id": "dacca602",
   "metadata": {
    "execution": {
     "iopub.execute_input": "2022-03-25T02:44:11.347691Z",
     "iopub.status.busy": "2022-03-25T02:44:11.347441Z",
     "iopub.status.idle": "2022-03-25T02:44:11.364536Z",
     "shell.execute_reply": "2022-03-25T02:44:11.364909Z"
    },
    "papermill": {
     "duration": 0.047465,
     "end_time": "2022-03-25T02:44:11.365024",
     "exception": false,
     "start_time": "2022-03-25T02:44:11.317559",
     "status": "completed"
    },
    "tags": [
     "experiment_json"
    ]
   },
   "outputs": [
    {
     "data": {
      "text/plain": [
       "'{\"experiment_name\": \"tl_3Av2:cores -> oracle.run1.framed\", \"parameters\": {\"experiment_name\": \"tl_3Av2:cores -> oracle.run1.framed\", \"device\": \"cuda\", \"lr\": 0.0001, \"x_shape\": [2, 200], \"n_shot\": 3, \"n_query\": 2, \"train_k_factor\": 3, \"val_k_factor\": 2, \"test_k_factor\": 2, \"torch_default_dtype\": \"torch.float32\", \"n_epoch\": 50, \"patience\": 3, \"criteria_for_best\": \"target_accuracy\", \"x_net\": [{\"class\": \"nnReshape\", \"kargs\": {\"shape\": [-1, 1, 2, 200]}}, {\"class\": \"Conv2d\", \"kargs\": {\"in_channels\": 1, \"out_channels\": 256, \"kernel_size\": [1, 7], \"bias\": false, \"padding\": [0, 3]}}, {\"class\": \"ReLU\", \"kargs\": {\"inplace\": true}}, {\"class\": \"BatchNorm2d\", \"kargs\": {\"num_features\": 256}}, {\"class\": \"Conv2d\", \"kargs\": {\"in_channels\": 256, \"out_channels\": 80, \"kernel_size\": [2, 7], \"bias\": true, \"padding\": [0, 3]}}, {\"class\": \"ReLU\", \"kargs\": {\"inplace\": true}}, {\"class\": \"BatchNorm2d\", \"kargs\": {\"num_features\": 80}}, {\"class\": \"Flatten\", \"kargs\": {}}, {\"class\": \"Linear\", \"kargs\": {\"in_features\": 16000, \"out_features\": 256}}, {\"class\": \"ReLU\", \"kargs\": {\"inplace\": true}}, {\"class\": \"BatchNorm1d\", \"kargs\": {\"num_features\": 256}}, {\"class\": \"Linear\", \"kargs\": {\"in_features\": 256, \"out_features\": 256}}], \"NUM_LOGS_PER_EPOCH\": 10, \"BEST_MODEL_PATH\": \"./best_model.pth\", \"n_way\": 16, \"datasets\": [{\"labels\": [\"1-10.\", \"1-11.\", \"1-15.\", \"1-16.\", \"1-17.\", \"1-18.\", \"1-19.\", \"10-4.\", \"10-7.\", \"11-1.\", \"11-14.\", \"11-17.\", \"11-20.\", \"11-7.\", \"13-20.\", \"13-8.\", \"14-10.\", \"14-11.\", \"14-14.\", \"14-7.\", \"15-1.\", \"15-20.\", \"16-1.\", \"16-16.\", \"17-10.\", \"17-11.\", \"17-2.\", \"19-1.\", \"19-16.\", \"19-19.\", \"19-20.\", \"19-3.\", \"2-10.\", \"2-11.\", \"2-17.\", \"2-18.\", \"2-20.\", \"2-3.\", \"2-4.\", \"2-5.\", \"2-6.\", \"2-7.\", \"2-8.\", \"3-13.\", \"3-18.\", \"3-3.\", \"4-1.\", \"4-10.\", \"4-11.\", \"4-19.\", \"5-5.\", \"6-15.\", \"7-10.\", \"7-14.\", \"8-18.\", \"8-20.\", \"8-3.\", \"8-8.\"], \"domains\": [1, 2, 3, 4, 5], \"num_examples_per_domain_per_label\": -1, \"pickle_path\": \"/mnt/wd500GB/CSC500/csc500-main/datasets/cores.stratified_ds.2022A.pkl\", \"source_or_target_dataset\": \"source\", \"x_transforms\": [\"unit_mag\", \"take_200\"], \"episode_transforms\": [], \"domain_prefix\": \"C_\"}, {\"labels\": [\"3123D52\", \"3123D65\", \"3123D79\", \"3123D80\", \"3123D54\", \"3123D70\", \"3123D7B\", \"3123D89\", \"3123D58\", \"3123D76\", \"3123D7D\", \"3123EFE\", \"3123D64\", \"3123D78\", \"3123D7E\", \"3124E4A\"], \"domains\": [32, 38, 8, 44, 14, 50, 20, 26], \"num_examples_per_domain_per_label\": 2000, \"pickle_path\": \"/mnt/wd500GB/CSC500/csc500-main/datasets/oracle.Run1_framed_2000Examples_stratified_ds.2022A.pkl\", \"source_or_target_dataset\": \"target\", \"x_transforms\": [\"unit_mag\", \"take_200\", \"resample_20Msps_to_25Msps\"], \"episode_transforms\": [], \"domain_prefix\": \"O_\"}], \"seed\": 1337, \"dataset_seed\": 1337, \"domains_source\": [\"C_1\", \"C_2\", \"C_3\", \"C_4\", \"C_5\"], \"domains_target\": [\"O_32\", \"O_38\", \"O_8\", \"O_44\", \"O_14\", \"O_50\", \"O_20\", \"O_26\"]}, \"results\": {\"source_test_label_accuracy\": 0.9986321548821548, \"source_test_label_loss\": 0.006649478804320097, \"target_test_label_accuracy\": 0.37845052083333336, \"target_test_label_loss\": 1.7690335512161255, \"source_val_label_accuracy\": 0.998644406392694, \"source_val_label_loss\": 0.00732009019702673, \"target_val_label_accuracy\": 0.37158203125, \"target_val_label_loss\": 1.7806246280670166, \"total_epochs_trained\": 5, \"total_experiment_time_secs\": 814.2174258232117, \"confusion\": {\"C_3\": {\"43\": {\"43\": 128}, \"9\": {\"9\": 150}, \"6\": {\"6\": 87, \"38\": 1}, \"3\": {\"3\": 144}, \"16\": {\"16\": 134}, \"51\": {\"51\": 128}, \"31\": {\"31\": 28}, \"46\": {\"46\": 134}, \"19\": {\"19\": 124}, \"8\": {\"8\": 152}, \"18\": {\"18\": 84}, \"37\": {\"37\": 28}, \"24\": {\"24\": 104}, \"10\": {\"10\": 64}, \"44\": {\"44\": 88}, \"14\": {\"14\": 39, \"44\": 1}, \"38\": {\"38\": 28}, \"53\": {\"53\": 140}, \"20\": {\"20\": 132}, \"32\": {\"32\": 28}, \"36\": {\"36\": 100}, \"33\": {\"33\": 28}, \"56\": {\"56\": 136}, \"23\": {\"23\": 130}, \"54\": {\"54\": 100}, \"21\": {\"21\": 126}, \"28\": {\"28\": 28}, \"26\": {\"26\": 24}, \"48\": {\"48\": 116}, \"52\": {\"52\": 117, \"50\": 1}, \"39\": {\"39\": 16}, \"22\": {\"22\": 139, \"56\": 1}, \"13\": {\"13\": 128}, \"2\": {\"2\": 32}, \"34\": {\"34\": 32}, \"27\": {\"27\": 132}, \"45\": {\"45\": 59, \"17\": 1}, \"35\": {\"35\": 28}, \"29\": {\"29\": 128}, \"25\": {\"25\": 144}, \"0\": {\"0\": 124}, \"41\": {\"41\": 28}, \"11\": {\"11\": 142}, \"5\": {\"5\": 108}, \"1\": {\"1\": 100}, \"57\": {\"57\": 116}, \"17\": {\"17\": 106, \"10\": 1, \"24\": 1}, \"7\": {\"7\": 36}, \"12\": {\"12\": 92}, \"47\": {\"47\": 92}, \"40\": {\"40\": 136}, \"15\": {\"15\": 141, \"11\": 1}, \"42\": {\"42\": 28}, \"55\": {\"55\": 150}, \"49\": {\"49\": 20}, \"30\": {\"30\": 119, \"18\": 1}, \"50\": {\"50\": 134}, \"4\": {\"4\": 136}}, \"C_4\": {\"35\": {\"35\": 40}, \"25\": {\"25\": 134}, \"24\": {\"24\": 56}, \"48\": {\"48\": 138}, \"51\": {\"51\": 144}, \"13\": {\"13\": 120}, \"14\": {\"14\": 10, \"0\": 4, \"57\": 1, \"38\": 1}, \"32\": {\"32\": 24}, \"30\": {\"30\": 44}, \"34\": {\"34\": 24}, \"9\": {\"9\": 136}, \"1\": {\"1\": 40}, \"0\": {\"0\": 79, \"46\": 1}, \"38\": {\"38\": 40}, \"22\": {\"22\": 128}, \"40\": {\"40\": 120}, \"6\": {\"6\": 110, \"3\": 2}, \"16\": {\"16\": 96}, \"11\": {\"11\": 104}, \"20\": {\"20\": 122}, \"17\": {\"17\": 80}, \"26\": {\"26\": 24}, \"54\": {\"54\": 108}, \"55\": {\"55\": 154}, \"50\": {\"50\": 128, \"3\": 3, \"55\": 1}, \"19\": {\"19\": 142}, \"44\": {\"44\": 122}, \"47\": {\"47\": 120}, \"33\": {\"33\": 36}, \"5\": {\"5\": 108}, \"18\": {\"18\": 108}, \"21\": {\"21\": 123, \"50\": 1}, \"41\": {\"41\": 36}, \"23\": {\"23\": 128}, \"39\": {\"39\": 20}, \"37\": {\"37\": 24}, \"8\": {\"8\": 144}, \"49\": {\"49\": 20}, \"53\": {\"53\": 140}, \"31\": {\"31\": 28}, \"28\": {\"28\": 32}, \"3\": {\"3\": 123, \"50\": 1}, \"27\": {\"27\": 138}, \"46\": {\"46\": 126, \"31\": 1, \"32\": 1}, \"12\": {\"12\": 92}, \"7\": {\"7\": 24}, \"4\": {\"4\": 132}, \"42\": {\"42\": 32}, \"43\": {\"43\": 130}, \"29\": {\"29\": 120}, \"57\": {\"57\": 100}, \"52\": {\"52\": 104}, \"45\": {\"45\": 96}, \"36\": {\"36\": 92}, \"10\": {\"10\": 126}, \"15\": {\"15\": 134}, \"56\": {\"56\": 124}, \"2\": {\"2\": 36}}, \"C_5\": {\"47\": {\"47\": 100}, \"53\": {\"53\": 150}, \"29\": {\"29\": 126}, \"52\": {\"52\": 130}, \"55\": {\"55\": 144}, \"17\": {\"17\": 116}, \"42\": {\"42\": 40}, \"33\": {\"33\": 32}, \"11\": {\"11\": 148}, \"19\": {\"19\": 118}, \"1\": {\"1\": 144}, \"44\": {\"44\": 142}, \"49\": {\"49\": 36}, \"4\": {\"4\": 100}, \"6\": {\"6\": 116}, \"39\": {\"39\": 20}, \"50\": {\"50\": 148}, \"56\": {\"56\": 130}, \"25\": {\"25\": 144}, \"28\": {\"28\": 32}, \"35\": {\"35\": 36}, \"24\": {\"24\": 80}, \"21\": {\"21\": 132}, \"45\": {\"45\": 123, \"4\": 1}, \"16\": {\"16\": 144}, \"37\": {\"37\": 24}, \"57\": {\"57\": 132}, \"34\": {\"34\": 36}, \"38\": {\"38\": 32}, \"48\": {\"48\": 130}, \"26\": {\"26\": 24}, \"9\": {\"9\": 152}, \"18\": {\"18\": 64}, \"3\": {\"3\": 100}, \"23\": {\"23\": 124}, \"15\": {\"15\": 154}, \"10\": {\"10\": 68}, \"46\": {\"46\": 148}, \"22\": {\"22\": 28}, \"54\": {\"54\": 112}, \"27\": {\"27\": 160}, \"41\": {\"41\": 28}, \"31\": {\"31\": 36}, \"0\": {\"0\": 124}, \"7\": {\"7\": 32}, \"2\": {\"2\": 28}, \"14\": {\"14\": 41, \"54\": 1, \"5\": 1, \"40\": 1}, \"40\": {\"40\": 124}, \"5\": {\"5\": 128}, \"12\": {\"12\": 96}, \"43\": {\"43\": 142}, \"13\": {\"13\": 148}, \"36\": {\"36\": 92}, \"8\": {\"8\": 150}, \"32\": {\"32\": 31, \"27\": 1}, \"30\": {\"30\": 128}, \"51\": {\"51\": 138}, \"20\": {\"20\": 138}}, \"C_1\": {\"46\": {\"46\": 140}, \"16\": {\"16\": 134}, \"26\": {\"26\": 24}, \"10\": {\"10\": 94, \"11\": 2}, \"9\": {\"9\": 156}, \"28\": {\"28\": 28}, \"51\": {\"51\": 156}, \"1\": {\"1\": 100}, \"55\": {\"55\": 148}, \"27\": {\"27\": 124}, \"22\": {\"22\": 124}, \"52\": {\"52\": 126}, \"3\": {\"3\": 140}, \"33\": {\"33\": 32}, \"47\": {\"47\": 120}, \"42\": {\"42\": 40}, \"12\": {\"12\": 116}, \"23\": {\"23\": 132}, \"49\": {\"49\": 32}, \"7\": {\"7\": 28}, \"4\": {\"4\": 132}, \"50\": {\"50\": 134}, \"19\": {\"19\": 154}, \"11\": {\"11\": 140}, \"31\": {\"31\": 28}, \"41\": {\"41\": 24}, \"56\": {\"56\": 138}, \"0\": {\"0\": 148}, \"57\": {\"57\": 128}, \"53\": {\"53\": 140}, \"43\": {\"43\": 144}, \"37\": {\"37\": 32}, \"2\": {\"2\": 36}, \"6\": {\"6\": 96}, \"13\": {\"13\": 150}, \"18\": {\"18\": 72}, \"36\": {\"36\": 64}, \"29\": {\"29\": 140}, \"39\": {\"39\": 28}, \"17\": {\"17\": 64}, \"21\": {\"21\": 124}, \"25\": {\"25\": 132}, \"45\": {\"45\": 142}, \"38\": {\"38\": 24}, \"30\": {\"30\": 120}, \"24\": {\"24\": 108}, \"20\": {\"20\": 140}, \"8\": {\"8\": 140}, \"35\": {\"35\": 36}, \"54\": {\"54\": 104}, \"5\": {\"5\": 148}, \"48\": {\"48\": 144}, \"15\": {\"15\": 142}, \"34\": {\"34\": 24}, \"14\": {\"14\": 22, \"5\": 1, \"8\": 1}, \"32\": {\"32\": 32}, \"40\": {\"40\": 148}, \"44\": {\"44\": 136}}, \"C_2\": {\"36\": {\"36\": 116}, \"5\": {\"5\": 120}, \"45\": {\"45\": 128}, \"49\": {\"49\": 24}, \"50\": {\"50\": 135, \"3\": 1}, \"4\": {\"4\": 138}, \"43\": {\"43\": 148}, \"41\": {\"41\": 20}, \"37\": {\"37\": 36}, \"12\": {\"12\": 91, \"6\": 1}, \"33\": {\"33\": 28}, \"7\": {\"7\": 36}, \"56\": {\"56\": 140}, \"14\": {\"14\": 24}, \"52\": {\"52\": 124}, \"44\": {\"44\": 96}, \"48\": {\"48\": 144}, \"20\": {\"20\": 128}, \"55\": {\"55\": 144}, \"32\": {\"32\": 28}, \"40\": {\"40\": 136}, \"54\": {\"54\": 108}, \"17\": {\"17\": 104}, \"38\": {\"38\": 20}, \"24\": {\"24\": 96}, \"1\": {\"1\": 111, \"42\": 1}, \"6\": {\"6\": 124}, \"34\": {\"34\": 28}, \"11\": {\"11\": 136}, \"9\": {\"9\": 150}, \"8\": {\"8\": 152}, \"22\": {\"22\": 136}, \"26\": {\"26\": 24}, \"23\": {\"23\": 146}, \"10\": {\"10\": 112}, \"18\": {\"18\": 48}, \"13\": {\"13\": 116}, \"30\": {\"30\": 128}, \"42\": {\"42\": 36}, \"31\": {\"31\": 28}, \"46\": {\"46\": 128}, \"57\": {\"57\": 142}, \"47\": {\"47\": 138}, \"35\": {\"35\": 32}, \"15\": {\"15\": 132}, \"25\": {\"25\": 136}, \"19\": {\"19\": 136}, \"51\": {\"51\": 128}, \"53\": {\"53\": 134}, \"21\": {\"21\": 120}, \"39\": {\"39\": 28}, \"2\": {\"2\": 32}, \"16\": {\"16\": 150}, \"0\": {\"0\": 48}, \"3\": {\"3\": 92}, \"27\": {\"27\": 142}, \"28\": {\"28\": 28}, \"29\": {\"29\": 128}}, \"O_14\": {\"15\": {\"15\": 135, \"2\": 3, \"5\": 8, \"7\": 85, \"13\": 2, \"6\": 1, \"4\": 1, \"1\": 5}, \"3\": {\"3\": 64, \"5\": 16, \"4\": 23, \"14\": 23, \"2\": 34, \"13\": 6, \"1\": 16, \"8\": 11, \"0\": 17, \"10\": 12, \"6\": 17, \"11\": 1}, \"6\": {\"4\": 10, \"6\": 64, \"14\": 40, \"1\": 3, \"13\": 59, \"3\": 13, \"2\": 38, \"10\": 6, \"5\": 4, \"0\": 3}, \"1\": {\"5\": 53, \"1\": 100, \"4\": 23, \"8\": 16, \"3\": 17, \"6\": 1, \"7\": 15, \"15\": 5, \"2\": 7, \"13\": 1, \"14\": 2}, \"8\": {\"8\": 167, \"1\": 23, \"4\": 12, \"3\": 15, \"5\": 8, \"0\": 9, \"9\": 5, \"10\": 1}, \"10\": {\"0\": 56, \"10\": 107, \"11\": 22, \"13\": 9, \"6\": 8, \"14\": 16, \"3\": 11, \"9\": 7, \"4\": 4}, \"9\": {\"9\": 148, \"11\": 26, \"12\": 39, \"0\": 20, \"10\": 6, \"8\": 1}, \"13\": {\"13\": 70, \"6\": 61, \"10\": 17, \"1\": 1, \"2\": 21, \"0\": 7, \"14\": 28, \"4\": 12, \"7\": 1, \"3\": 11, \"5\": 5, \"11\": 4, \"15\": 2}, \"12\": {\"12\": 194, \"9\": 37, \"11\": 8, \"0\": 1}, \"5\": {\"2\": 28, \"3\": 15, \"5\": 62, \"1\": 56, \"4\": 45, \"8\": 6, \"6\": 7, \"7\": 8, \"13\": 6, \"14\": 3, \"15\": 4}, \"0\": {\"9\": 14, \"10\": 46, \"11\": 35, \"5\": 3, \"0\": 85, \"14\": 14, \"3\": 17, \"4\": 5, \"8\": 5, \"6\": 4, \"2\": 9, \"13\": 3}, \"2\": {\"4\": 26, \"14\": 32, \"3\": 26, \"5\": 33, \"2\": 46, \"6\": 33, \"13\": 29, \"15\": 4, \"8\": 1, \"0\": 2, \"10\": 2, \"1\": 6}, \"11\": {\"11\": 150, \"10\": 19, \"9\": 37, \"14\": 1, \"13\": 1, \"0\": 23, \"12\": 8, \"6\": 1}, \"14\": {\"14\": 64, \"3\": 28, \"6\": 34, \"4\": 12, \"10\": 11, \"13\": 31, \"11\": 4, \"0\": 13, \"2\": 31, \"5\": 11, \"1\": 1}, \"7\": {\"15\": 59, \"7\": 138, \"1\": 21, \"2\": 5, \"5\": 16, \"4\": 1}, \"4\": {\"13\": 9, \"3\": 28, \"5\": 42, \"8\": 7, \"4\": 73, \"6\": 22, \"10\": 5, \"14\": 8, \"2\": 24, \"1\": 21, \"0\": 1}}, \"O_20\": {\"3\": {\"0\": 10, \"2\": 20, \"6\": 6, \"9\": 26, \"15\": 14, \"3\": 18, \"4\": 19, \"5\": 17, \"13\": 17, \"10\": 18, \"7\": 18, \"1\": 18, \"8\": 11, \"12\": 23, \"14\": 5}, \"15\": {\"15\": 34, \"0\": 23, \"5\": 26, \"12\": 27, \"1\": 37, \"3\": 21, \"13\": 22, \"7\": 8, \"9\": 12, \"10\": 7, \"2\": 14, \"8\": 2, \"4\": 6, \"6\": 1}, \"8\": {\"4\": 25, \"7\": 12, \"8\": 34, \"2\": 13, \"3\": 18, \"14\": 31, \"13\": 5, \"1\": 6, \"12\": 15, \"10\": 22, \"9\": 7, \"6\": 18, \"15\": 5, \"0\": 19, \"5\": 10}, \"4\": {\"9\": 8, \"5\": 22, \"8\": 34, \"0\": 22, \"4\": 44, \"10\": 23, \"2\": 6, \"14\": 16, \"15\": 6, \"7\": 9, \"12\": 20, \"6\": 5, \"3\": 17, \"1\": 6, \"13\": 2}, \"14\": {\"14\": 46, \"6\": 45, \"8\": 43, \"9\": 7, \"13\": 1, \"10\": 38, \"7\": 15, \"4\": 19, \"5\": 3, \"3\": 11, \"2\": 4, \"12\": 5, \"0\": 1, \"1\": 1, \"11\": 1}, \"0\": {\"5\": 42, \"7\": 12, \"0\": 55, \"15\": 13, \"14\": 2, \"3\": 12, \"12\": 21, \"1\": 20, \"4\": 14, \"10\": 8, \"8\": 20, \"2\": 8, \"13\": 7, \"9\": 3, \"6\": 3}, \"7\": {\"5\": 13, \"2\": 31, \"4\": 13, \"3\": 20, \"13\": 22, \"7\": 24, \"11\": 9, \"1\": 8, \"8\": 14, \"12\": 12, \"6\": 12, \"10\": 20, \"9\": 18, \"14\": 11, \"15\": 10, \"0\": 3}, \"6\": {\"8\": 24, \"14\": 40, \"3\": 5, \"6\": 62, \"2\": 8, \"15\": 3, \"11\": 17, \"0\": 4, \"4\": 11, \"10\": 26, \"9\": 5, \"7\": 24, \"1\": 2, \"13\": 7, \"5\": 2}, \"10\": {\"1\": 3, \"4\": 37, \"6\": 20, \"10\": 48, \"2\": 7, \"5\": 5, \"14\": 31, \"8\": 29, \"3\": 14, \"12\": 15, \"7\": 11, \"9\": 9, \"15\": 3, \"13\": 4, \"0\": 4}, \"5\": {\"5\": 39, \"1\": 28, \"0\": 30, \"9\": 16, \"15\": 23, \"3\": 15, \"2\": 11, \"12\": 26, \"4\": 19, \"8\": 7, \"13\": 11, \"7\": 7, \"10\": 6, \"14\": 2}, \"2\": {\"2\": 30, \"7\": 26, \"1\": 21, \"5\": 9, \"14\": 3, \"12\": 20, \"9\": 29, \"13\": 34, \"0\": 10, \"10\": 6, \"4\": 8, \"15\": 6, \"11\": 3, \"6\": 8, \"3\": 16, \"8\": 11}, \"12\": {\"14\": 6, \"13\": 5, \"2\": 16, \"1\": 40, \"9\": 20, \"3\": 22, \"7\": 8, \"15\": 23, \"10\": 18, \"12\": 25, \"5\": 15, \"8\": 7, \"0\": 20, \"4\": 15}, \"9\": {\"2\": 31, \"13\": 19, \"10\": 23, \"15\": 24, \"7\": 21, \"9\": 24, \"14\": 4, \"3\": 25, \"1\": 17, \"12\": 19, \"5\": 8, \"4\": 9, \"0\": 7, \"6\": 4, \"8\": 3, \"11\": 2}, \"1\": {\"13\": 14, \"15\": 39, \"10\": 5, \"0\": 28, \"1\": 35, \"5\": 21, \"12\": 26, \"3\": 23, \"2\": 16, \"9\": 14, \"4\": 7, \"6\": 1, \"7\": 3, \"14\": 3, \"8\": 5}, \"11\": {\"11\": 162, \"13\": 13, \"6\": 26, \"7\": 17, \"2\": 11, \"8\": 1, \"9\": 5, \"10\": 1, \"14\": 2, \"3\": 1, \"1\": 1}, \"13\": {\"2\": 28, \"7\": 18, \"9\": 30, \"1\": 11, \"13\": 78, \"10\": 1, \"5\": 13, \"3\": 14, \"15\": 21, \"14\": 2, \"6\": 5, \"12\": 8, \"0\": 7, \"11\": 2, \"8\": 2}}, \"O_38\": {\"5\": {\"5\": 43, \"7\": 32, \"8\": 39, \"0\": 21, \"10\": 6, \"9\": 10, \"1\": 28, \"15\": 21, \"6\": 29, \"13\": 9, \"3\": 2}, \"8\": {\"0\": 32, \"7\": 23, \"8\": 60, \"5\": 51, \"15\": 25, \"1\": 9, \"10\": 21, \"13\": 15, \"14\": 1, \"6\": 1, \"4\": 1, \"9\": 1}, \"11\": {\"14\": 85, \"2\": 18, \"11\": 116, \"12\": 6, \"10\": 9, \"4\": 4, \"13\": 2}, \"1\": {\"1\": 144, \"13\": 12, \"15\": 44, \"5\": 22, \"7\": 1, \"8\": 7, \"0\": 3, \"6\": 4, \"9\": 2, \"10\": 1}, \"10\": {\"15\": 25, \"2\": 29, \"7\": 7, \"10\": 91, \"8\": 11, \"13\": 30, \"14\": 19, \"0\": 8, \"12\": 4, \"1\": 3, \"11\": 3, \"4\": 3, \"5\": 7}, \"15\": {\"15\": 71, \"13\": 41, \"8\": 21, \"5\": 20, \"6\": 1, \"1\": 42, \"10\": 28, \"2\": 7, \"7\": 3, \"0\": 5, \"14\": 1}, \"3\": {\"3\": 154, \"5\": 7, \"0\": 30, \"9\": 30, \"7\": 10, \"6\": 7, \"8\": 1, \"13\": 1}, \"7\": {\"8\": 44, \"0\": 34, \"7\": 80, \"5\": 49, \"6\": 9, \"15\": 9, \"10\": 5, \"13\": 4, \"9\": 2, \"3\": 3, \"1\": 1}, \"4\": {\"12\": 68, \"4\": 158, \"7\": 2, \"10\": 4, \"14\": 3, \"11\": 3, \"2\": 1, \"0\": 1}, \"14\": {\"14\": 126, \"2\": 43, \"10\": 20, \"11\": 40, \"12\": 5, \"4\": 5, \"13\": 1}, \"9\": {\"5\": 19, \"9\": 113, \"6\": 67, \"3\": 29, \"8\": 3, \"7\": 4, \"15\": 1, \"1\": 2, \"0\": 2}, \"12\": {\"4\": 46, \"12\": 179, \"14\": 9, \"10\": 5, \"11\": 1}, \"6\": {\"9\": 66, \"0\": 2, \"6\": 118, \"7\": 7, \"5\": 21, \"1\": 13, \"8\": 6, \"3\": 5, \"15\": 1, \"13\": 1}, \"2\": {\"15\": 4, \"10\": 24, \"2\": 156, \"13\": 18, \"14\": 31, \"11\": 6, \"7\": 1}, \"0\": {\"0\": 57, \"7\": 51, \"8\": 39, \"5\": 23, \"9\": 6, \"15\": 11, \"3\": 10, \"1\": 6, \"12\": 2, \"13\": 11, \"4\": 2, \"2\": 1, \"10\": 14, \"6\": 6, \"11\": 1}, \"13\": {\"15\": 41, \"13\": 80, \"8\": 13, \"1\": 30, \"10\": 31, \"2\": 36, \"5\": 6, \"0\": 1, \"14\": 1, \"7\": 1}}, \"O_8\": {\"9\": {\"9\": 233, \"5\": 6, \"0\": 1}, \"10\": {\"1\": 16, \"10\": 38, \"0\": 11, \"14\": 52, \"13\": 37, \"11\": 5, \"4\": 33, \"7\": 6, \"5\": 21, \"6\": 14, \"8\": 4, \"15\": 3}, \"13\": {\"4\": 44, \"1\": 4, \"15\": 4, \"13\": 39, \"14\": 25, \"6\": 22, \"10\": 35, \"7\": 22, \"0\": 33, \"12\": 2, \"3\": 3, \"8\": 4, \"5\": 1, \"11\": 1, \"2\": 1}, \"0\": {\"13\": 43, \"10\": 12, \"2\": 7, \"0\": 52, \"4\": 22, \"7\": 35, \"14\": 23, \"3\": 2, \"6\": 29, \"15\": 5, \"8\": 4, \"12\": 5, \"1\": 1}, \"1\": {\"11\": 59, \"4\": 8, \"5\": 51, \"14\": 23, \"1\": 63, \"12\": 2, \"13\": 4, \"8\": 10, \"10\": 15, \"15\": 3, \"6\": 1, \"7\": 1}, \"15\": {\"2\": 11, \"6\": 21, \"7\": 32, \"8\": 32, \"15\": 60, \"12\": 45, \"13\": 6, \"4\": 6, \"3\": 18, \"0\": 6, \"14\": 2, \"10\": 1}, \"5\": {\"11\": 17, \"1\": 48, \"5\": 103, \"10\": 29, \"14\": 26, \"13\": 8, \"4\": 5, \"8\": 3, \"6\": 1}, \"3\": {\"2\": 65, \"0\": 4, \"3\": 84, \"12\": 48, \"15\": 26, \"8\": 3, \"7\": 6, \"6\": 3, \"4\": 1}, \"6\": {\"6\": 45, \"10\": 13, \"13\": 32, \"4\": 36, \"15\": 14, \"3\": 5, \"7\": 21, \"0\": 31, \"12\": 5, \"8\": 16, \"2\": 4, \"11\": 1, \"14\": 16, \"5\": 1}, \"11\": {\"11\": 97, \"1\": 75, \"8\": 12, \"5\": 27, \"14\": 13, \"4\": 9, \"10\": 4, \"6\": 2, \"12\": 1}, \"8\": {\"8\": 68, \"14\": 13, \"15\": 41, \"1\": 13, \"12\": 31, \"4\": 17, \"6\": 19, \"10\": 4, \"7\": 18, \"13\": 6, \"2\": 2, \"11\": 6, \"0\": 2}, \"4\": {\"13\": 37, \"14\": 34, \"6\": 24, \"4\": 52, \"10\": 20, \"8\": 12, \"7\": 15, \"0\": 18, \"1\": 8, \"12\": 3, \"2\": 1, \"15\": 13, \"5\": 3}, \"12\": {\"2\": 25, \"12\": 70, \"8\": 30, \"15\": 47, \"3\": 41, \"7\": 17, \"6\": 5, \"0\": 2, \"13\": 1, \"1\": 1, \"4\": 1}, \"14\": {\"7\": 4, \"1\": 23, \"8\": 7, \"11\": 11, \"10\": 45, \"14\": 45, \"13\": 19, \"6\": 17, \"5\": 17, \"0\": 10, \"4\": 33, \"15\": 6, \"12\": 1, \"3\": 1, \"2\": 1}, \"2\": {\"3\": 76, \"0\": 11, \"2\": 94, \"12\": 17, \"6\": 6, \"15\": 16, \"7\": 18, \"13\": 1, \"8\": 1}, \"7\": {\"14\": 2, \"7\": 53, \"4\": 27, \"6\": 35, \"0\": 41, \"12\": 6, \"13\": 25, \"10\": 9, \"8\": 14, \"15\": 13, \"2\": 7, \"3\": 7, \"11\": 1}}, \"O_50\": {\"7\": {\"5\": 42, \"7\": 97, \"10\": 27, \"8\": 7, \"13\": 35, \"6\": 15, \"0\": 5, \"3\": 2, \"4\": 7, \"15\": 2, \"2\": 1}, \"3\": {\"3\": 207, \"8\": 27, \"7\": 5, \"5\": 1}, \"8\": {\"8\": 161, \"10\": 39, \"5\": 3, \"3\": 20, \"0\": 7, \"7\": 8, \"13\": 2}, \"2\": {\"2\": 152, \"0\": 65, \"6\": 3, \"1\": 13, \"14\": 3, \"4\": 1, \"10\": 2, \"11\": 1}, \"14\": {\"12\": 34, \"14\": 123, \"11\": 33, \"9\": 31, \"15\": 2, \"2\": 12, \"1\": 4, \"4\": 1}, \"4\": {\"15\": 40, \"1\": 57, \"10\": 2, \"4\": 45, \"6\": 18, \"7\": 13, \"13\": 25, \"5\": 18, \"11\": 5, \"2\": 6, \"0\": 8, \"14\": 3}, \"6\": {\"6\": 70, \"13\": 31, \"4\": 36, \"14\": 1, \"5\": 33, \"0\": 11, \"2\": 5, \"15\": 15, \"7\": 12, \"1\": 21, \"10\": 3, \"11\": 2}, \"15\": {\"15\": 73, \"4\": 33, \"6\": 28, \"11\": 27, \"14\": 7, \"0\": 1, \"13\": 6, \"7\": 1, \"1\": 49, \"5\": 11, \"2\": 2, \"9\": 2}, \"10\": {\"13\": 27, \"8\": 26, \"7\": 25, \"5\": 24, \"10\": 102, \"4\": 5, \"0\": 27, \"6\": 4}, \"11\": {\"1\": 21, \"4\": 7, \"11\": 87, \"9\": 40, \"14\": 53, \"15\": 23, \"12\": 8, \"6\": 1}, \"13\": {\"5\": 58, \"0\": 9, \"7\": 33, \"6\": 39, \"13\": 62, \"4\": 17, \"10\": 15, \"1\": 7}, \"9\": {\"9\": 114, \"11\": 41, \"12\": 47, \"14\": 30, \"15\": 4, \"2\": 1, \"1\": 2, \"4\": 1}, \"0\": {\"0\": 109, \"2\": 59, \"10\": 26, \"1\": 13, \"6\": 6, \"13\": 7, \"5\": 7, \"4\": 8, \"8\": 1, \"15\": 2, \"14\": 1, \"7\": 1}, \"1\": {\"15\": 40, \"1\": 66, \"0\": 6, \"4\": 37, \"2\": 17, \"6\": 33, \"13\": 12, \"11\": 14, \"5\": 6, \"14\": 7, \"9\": 2}, \"12\": {\"12\": 126, \"9\": 47, \"11\": 12, \"14\": 55}, \"5\": {\"13\": 40, \"0\": 14, \"4\": 28, \"10\": 18, \"5\": 49, \"6\": 23, \"7\": 46, \"8\": 1, \"1\": 13, \"2\": 4, \"15\": 3, \"11\": 1}}, \"O_32\": {\"8\": {\"7\": 14, \"14\": 10, \"15\": 24, \"13\": 26, \"8\": 60, \"4\": 19, \"3\": 10, \"0\": 40, \"5\": 24, \"2\": 11, \"11\": 2}, \"14\": {\"11\": 64, \"5\": 19, \"3\": 15, \"2\": 10, \"8\": 11, \"7\": 35, \"14\": 56, \"13\": 14, \"0\": 9, \"4\": 7}, \"2\": {\"2\": 105, \"4\": 56, \"13\": 10, \"0\": 30, \"5\": 6, \"8\": 14, \"14\": 7, \"7\": 9, \"9\": 1, \"11\": 2}, \"0\": {\"13\": 15, \"0\": 86, \"2\": 41, \"4\": 19, \"8\": 35, \"5\": 10, \"15\": 2, \"14\": 15, \"11\": 3, \"7\": 12, \"9\": 2}, \"1\": {\"1\": 215, \"10\": 25}, \"10\": {\"10\": 211, \"6\": 5, \"1\": 22, \"12\": 2}, \"11\": {\"11\": 108, \"14\": 51, \"13\": 9, \"3\": 21, \"5\": 10, \"0\": 2, \"7\": 34, \"8\": 4, \"4\": 1}, \"5\": {\"5\": 63, \"11\": 13, \"2\": 14, \"8\": 28, \"3\": 20, \"4\": 22, \"7\": 32, \"0\": 13, \"13\": 26, \"14\": 8, \"15\": 1}, \"15\": {\"15\": 195, \"0\": 4, \"8\": 18, \"5\": 5, \"3\": 14, \"13\": 3, \"7\": 1}, \"3\": {\"3\": 118, \"11\": 32, \"13\": 18, \"14\": 11, \"5\": 30, \"7\": 12, \"8\": 13, \"4\": 3, \"0\": 3}, \"12\": {\"12\": 214, \"6\": 12, \"9\": 14}, \"7\": {\"4\": 22, \"7\": 41, \"11\": 23, \"14\": 48, \"5\": 27, \"13\": 32, \"8\": 12, \"0\": 8, \"2\": 15, \"3\": 12}, \"13\": {\"8\": 29, \"3\": 24, \"5\": 28, \"7\": 33, \"13\": 49, \"0\": 13, \"11\": 9, \"4\": 32, \"2\": 17, \"14\": 4, \"15\": 2}, \"6\": {\"6\": 229, \"12\": 9, \"10\": 2}, \"4\": {\"2\": 51, \"8\": 17, \"4\": 59, \"5\": 24, \"7\": 29, \"0\": 20, \"13\": 31, \"14\": 8, \"11\": 1}, \"9\": {\"9\": 221, \"2\": 4, \"8\": 1, \"12\": 13, \"0\": 1}}, \"O_26\": {\"4\": {\"9\": 26, \"7\": 29, \"10\": 28, \"14\": 19, \"3\": 15, \"8\": 17, \"1\": 28, \"4\": 20, \"6\": 9, \"0\": 26, \"2\": 11, \"15\": 6, \"13\": 2, \"5\": 4}, \"12\": {\"12\": 207, \"11\": 18, \"10\": 5, \"1\": 1, \"6\": 6, \"14\": 2, \"8\": 1}, \"10\": {\"10\": 31, \"7\": 13, \"9\": 20, \"1\": 22, \"14\": 16, \"15\": 14, \"8\": 22, \"6\": 35, \"0\": 29, \"4\": 26, \"3\": 4, \"5\": 4, \"2\": 3, \"12\": 1}, \"0\": {\"2\": 7, \"4\": 27, \"9\": 28, \"1\": 16, \"10\": 32, \"6\": 24, \"8\": 21, \"13\": 3, \"0\": 22, \"3\": 9, \"14\": 30, \"12\": 1, \"7\": 9, \"15\": 7, \"5\": 4}, \"13\": {\"15\": 33, \"2\": 16, \"13\": 70, \"6\": 12, \"5\": 47, \"9\": 14, \"11\": 3, \"14\": 3, \"3\": 14, \"8\": 12, \"7\": 6, \"4\": 2, \"1\": 2, \"10\": 4, \"0\": 2}, \"9\": {\"13\": 15, \"8\": 23, \"12\": 1, \"15\": 17, \"7\": 16, \"14\": 10, \"10\": 21, \"5\": 26, \"9\": 35, \"2\": 15, \"6\": 22, \"0\": 11, \"1\": 12, \"4\": 11, \"3\": 5}, \"3\": {\"2\": 46, \"4\": 10, \"7\": 43, \"5\": 24, \"8\": 10, \"3\": 51, \"10\": 5, \"13\": 14, \"14\": 9, \"15\": 7, \"9\": 10, \"1\": 6, \"0\": 3, \"6\": 2}, \"2\": {\"15\": 15, \"3\": 44, \"7\": 37, \"2\": 41, \"4\": 13, \"5\": 33, \"6\": 4, \"9\": 8, \"1\": 3, \"13\": 14, \"8\": 15, \"0\": 3, \"14\": 4, \"10\": 6}, \"5\": {\"13\": 49, \"8\": 11, \"15\": 20, \"3\": 19, \"9\": 29, \"5\": 45, \"2\": 24, \"6\": 8, \"14\": 4, \"10\": 5, \"4\": 8, \"0\": 6, \"7\": 7, \"1\": 5}, \"14\": {\"8\": 20, \"9\": 29, \"0\": 28, \"3\": 4, \"1\": 23, \"14\": 31, \"6\": 16, \"10\": 23, \"4\": 28, \"7\": 15, \"2\": 6, \"15\": 9, \"5\": 3, \"13\": 3, \"12\": 2}, \"8\": {\"7\": 21, \"9\": 15, \"1\": 6, \"15\": 22, \"8\": 17, \"4\": 21, \"0\": 21, \"14\": 28, \"10\": 17, \"6\": 27, \"3\": 12, \"5\": 10, \"13\": 15, \"2\": 8}, \"7\": {\"4\": 29, \"3\": 35, \"5\": 11, \"0\": 19, \"15\": 20, \"10\": 14, \"7\": 24, \"14\": 9, \"2\": 19, \"1\": 20, \"6\": 6, \"8\": 16, \"13\": 4, \"9\": 14}, \"6\": {\"6\": 49, \"14\": 14, \"12\": 5, \"7\": 4, \"15\": 23, \"4\": 18, \"9\": 17, \"1\": 16, \"0\": 25, \"13\": 14, \"10\": 25, \"5\": 10, \"8\": 16, \"11\": 1, \"2\": 2, \"3\": 1}, \"11\": {\"11\": 206, \"12\": 17, \"6\": 6, \"10\": 1, \"13\": 6, \"0\": 1, \"9\": 1, \"5\": 1, \"14\": 1}, \"15\": {\"6\": 25, \"15\": 39, \"1\": 8, \"7\": 21, \"13\": 33, \"2\": 15, \"3\": 10, \"0\": 11, \"14\": 6, \"5\": 25, \"8\": 20, \"9\": 12, \"4\": 7, \"10\": 8}, \"1\": {\"1\": 68, \"0\": 28, \"4\": 39, \"10\": 21, \"9\": 12, \"2\": 5, \"7\": 17, \"15\": 9, \"14\": 17, \"8\": 12, \"3\": 4, \"6\": 5, \"13\": 1, \"5\": 2}}, \"O_44\": {\"12\": {\"12\": 95, \"10\": 44, \"2\": 7, \"1\": 57, \"3\": 36, \"7\": 1}, \"7\": {\"7\": 80, \"2\": 44, \"10\": 7, \"9\": 54, \"13\": 14, \"6\": 23, \"1\": 6, \"12\": 3, \"3\": 7, \"11\": 2}, \"5\": {\"5\": 108, \"14\": 24, \"0\": 50, \"8\": 27, \"4\": 16, \"15\": 15}, \"15\": {\"14\": 39, \"15\": 88, \"0\": 43, \"8\": 36, \"4\": 16, \"5\": 18}, \"8\": {\"0\": 86, \"8\": 113, \"15\": 24, \"5\": 13, \"14\": 3, \"4\": 1}, \"2\": {\"2\": 94, \"12\": 14, \"3\": 20, \"1\": 15, \"9\": 16, \"7\": 49, \"10\": 24, \"6\": 5, \"13\": 3}, \"13\": {\"13\": 71, \"7\": 17, \"6\": 50, \"11\": 41, \"9\": 39, \"4\": 16, \"14\": 5, \"2\": 1}, \"4\": {\"4\": 100, \"14\": 75, \"15\": 21, \"13\": 15, \"11\": 5, \"5\": 8, \"0\": 6, \"8\": 5, \"6\": 2, \"7\": 1, \"9\": 2}, \"0\": {\"15\": 34, \"0\": 77, \"14\": 14, \"5\": 38, \"8\": 74, \"4\": 3}, \"6\": {\"6\": 92, \"7\": 21, \"13\": 49, \"2\": 9, \"11\": 30, \"9\": 36, \"4\": 3}, \"9\": {\"6\": 39, \"9\": 66, \"7\": 56, \"13\": 33, \"4\": 8, \"2\": 18, \"11\": 11, \"1\": 2, \"3\": 6, \"14\": 1}, \"11\": {\"7\": 4, \"13\": 62, \"6\": 40, \"11\": 117, \"14\": 3, \"9\": 12, \"4\": 2}, \"10\": {\"2\": 36, \"10\": 92, \"1\": 34, \"12\": 66, \"7\": 4, \"3\": 8}, \"14\": {\"13\": 10, \"15\": 37, \"14\": 73, \"4\": 70, \"5\": 24, \"0\": 10, \"8\": 11, \"11\": 3, \"9\": 1, \"6\": 1}, \"1\": {\"3\": 51, \"12\": 72, \"1\": 49, \"10\": 36, \"2\": 25, \"9\": 2, \"7\": 5}, \"3\": {\"1\": 59, \"3\": 104, \"12\": 27, \"10\": 11, \"2\": 29, \"9\": 3, \"7\": 6, \"13\": 1}}}, \"per_domain_accuracy\": {\"C_3\": {\"accuracy\": 0.9983648255813954, \"source?\": true}, \"C_4\": {\"accuracy\": 0.9967803030303031, \"source?\": true}, \"C_5\": {\"accuracy\": 0.9991270949720671, \"source?\": true}, \"C_1\": {\"accuracy\": 0.9993169398907104, \"source?\": true}, \"C_2\": {\"accuracy\": 0.9994703389830508, \"source?\": true}, \"O_14\": {\"accuracy\": 0.43411458333333336, \"source?\": false}, \"O_20\": {\"accuracy\": 0.19739583333333333, \"source?\": false}, \"O_38\": {\"accuracy\": 0.4546875, \"source?\": false}, \"O_8\": {\"accuracy\": 0.31145833333333334, \"source?\": false}, \"O_50\": {\"accuracy\": 0.4278645833333333, \"source?\": false}, \"O_32\": {\"accuracy\": 0.5286458333333334, \"source?\": false}, \"O_26\": {\"accuracy\": 0.24895833333333334, \"source?\": false}, \"O_44\": {\"accuracy\": 0.36953125, \"source?\": false}}}, \"history\": {\"epoch_indices\": [1, 2, 3, 4, 5], \"train_label_loss\": [0.031443092914128785, 0.008649851831728943, 0.0065674670258093395, 0.004322284093716863, 0.0036640667561702173], \"source_val_label_loss\": [0.00732009019702673, 0.008856859989464283, 0.005813875235617161, 0.006682546343654394, 0.013503419235348701], \"target_val_label_loss\": [1.7806246280670166, 2.843183994293213, 2.1774439811706543, 2.4225244522094727, 3.8938379287719727], \"source_val_acc_label\": [0.998644406392694, 0.9987514269406392, 0.9991081621004566, 0.9995005707762558, 0.9985373858447488], \"target_val_acc_label\": [0.37158203125, 0.25188802083333334, 0.32526041666666666, 0.3216145833333333, 0.2598958333333333]}, \"dataset_metrics\": {\"source\": {\"train\": {\"n_unique_x\": 175169, \"n_unique_y\": 58, \"n_batch/episode\": 6317}, \"val\": {\"n_unique_x\": 37196, \"n_unique_y\": 58, \"n_batch/episode\": 876}, \"test\": {\"n_unique_x\": 37634, \"n_unique_y\": 58, \"n_batch/episode\": 891}}, \"target\": {\"train\": {\"n_unique_x\": 179200, \"n_unique_y\": 16, \"n_batch/episode\": 6720}, \"val\": {\"n_unique_x\": 38400, \"n_unique_y\": 16, \"n_batch/episode\": 960}, \"test\": {\"n_unique_x\": 38400, \"n_unique_y\": 16, \"n_batch/episode\": 960}}}}'"
      ]
     },
     "execution_count": 29,
     "metadata": {},
     "output_type": "execute_result"
    }
   ],
   "source": [
    "json.dumps(experiment)"
   ]
  }
 ],
 "metadata": {
  "celltoolbar": "Tags",
  "kernelspec": {
   "display_name": "Python 3 (ipykernel)",
   "language": "python",
   "name": "python3"
  },
  "language_info": {
   "codemirror_mode": {
    "name": "ipython",
    "version": 3
   },
   "file_extension": ".py",
   "mimetype": "text/x-python",
   "name": "python",
   "nbconvert_exporter": "python",
   "pygments_lexer": "ipython3",
   "version": "3.8.10"
  },
  "papermill": {
   "default_parameters": {},
   "duration": 912.299439,
   "end_time": "2022-03-25T02:44:12.705360",
   "environment_variables": {},
   "exception": null,
   "input_path": "/mnt/wd500GB/CSC500/csc500-main/csc500-notebooks/templates/tl_ptn_template.ipynb",
   "output_path": "trial.ipynb",
   "parameters": {
    "parameters": {
     "BEST_MODEL_PATH": "./best_model.pth",
     "NUM_LOGS_PER_EPOCH": 10,
     "criteria_for_best": "target_accuracy",
     "dataset_seed": 1337,
     "datasets": [
      {
       "domain_prefix": "C_",
       "domains": [
        1,
        2,
        3,
        4,
        5
       ],
       "episode_transforms": [],
       "labels": [
        "1-10.",
        "1-11.",
        "1-15.",
        "1-16.",
        "1-17.",
        "1-18.",
        "1-19.",
        "10-4.",
        "10-7.",
        "11-1.",
        "11-14.",
        "11-17.",
        "11-20.",
        "11-7.",
        "13-20.",
        "13-8.",
        "14-10.",
        "14-11.",
        "14-14.",
        "14-7.",
        "15-1.",
        "15-20.",
        "16-1.",
        "16-16.",
        "17-10.",
        "17-11.",
        "17-2.",
        "19-1.",
        "19-16.",
        "19-19.",
        "19-20.",
        "19-3.",
        "2-10.",
        "2-11.",
        "2-17.",
        "2-18.",
        "2-20.",
        "2-3.",
        "2-4.",
        "2-5.",
        "2-6.",
        "2-7.",
        "2-8.",
        "3-13.",
        "3-18.",
        "3-3.",
        "4-1.",
        "4-10.",
        "4-11.",
        "4-19.",
        "5-5.",
        "6-15.",
        "7-10.",
        "7-14.",
        "8-18.",
        "8-20.",
        "8-3.",
        "8-8."
       ],
       "num_examples_per_domain_per_label": -1,
       "pickle_path": "/mnt/wd500GB/CSC500/csc500-main/datasets/cores.stratified_ds.2022A.pkl",
       "source_or_target_dataset": "source",
       "x_transforms": [
        "unit_mag",
        "take_200"
       ]
      },
      {
       "domain_prefix": "O_",
       "domains": [
        32,
        38,
        8,
        44,
        14,
        50,
        20,
        26
       ],
       "episode_transforms": [],
       "labels": [
        "3123D52",
        "3123D65",
        "3123D79",
        "3123D80",
        "3123D54",
        "3123D70",
        "3123D7B",
        "3123D89",
        "3123D58",
        "3123D76",
        "3123D7D",
        "3123EFE",
        "3123D64",
        "3123D78",
        "3123D7E",
        "3124E4A"
       ],
       "num_examples_per_domain_per_label": 2000,
       "pickle_path": "/mnt/wd500GB/CSC500/csc500-main/datasets/oracle.Run1_framed_2000Examples_stratified_ds.2022A.pkl",
       "source_or_target_dataset": "target",
       "x_transforms": [
        "unit_mag",
        "take_200",
        "resample_20Msps_to_25Msps"
       ]
      }
     ],
     "device": "cuda",
     "experiment_name": "tl_3Av2:cores -> oracle.run1.framed",
     "lr": 0.0001,
     "n_epoch": 50,
     "n_query": 2,
     "n_shot": 3,
     "n_way": 16,
     "patience": 3,
     "seed": 1337,
     "test_k_factor": 2,
     "torch_default_dtype": "torch.float32",
     "train_k_factor": 3,
     "val_k_factor": 2,
     "x_net": [
      {
       "class": "nnReshape",
       "kargs": {
        "shape": [
         -1,
         1,
         2,
         200
        ]
       }
      },
      {
       "class": "Conv2d",
       "kargs": {
        "bias": false,
        "in_channels": 1,
        "kernel_size": [
         1,
         7
        ],
        "out_channels": 256,
        "padding": [
         0,
         3
        ]
       }
      },
      {
       "class": "ReLU",
       "kargs": {
        "inplace": true
       }
      },
      {
       "class": "BatchNorm2d",
       "kargs": {
        "num_features": 256
       }
      },
      {
       "class": "Conv2d",
       "kargs": {
        "bias": true,
        "in_channels": 256,
        "kernel_size": [
         2,
         7
        ],
        "out_channels": 80,
        "padding": [
         0,
         3
        ]
       }
      },
      {
       "class": "ReLU",
       "kargs": {
        "inplace": true
       }
      },
      {
       "class": "BatchNorm2d",
       "kargs": {
        "num_features": 80
       }
      },
      {
       "class": "Flatten",
       "kargs": {}
      },
      {
       "class": "Linear",
       "kargs": {
        "in_features": 16000,
        "out_features": 256
       }
      },
      {
       "class": "ReLU",
       "kargs": {
        "inplace": true
       }
      },
      {
       "class": "BatchNorm1d",
       "kargs": {
        "num_features": 256
       }
      },
      {
       "class": "Linear",
       "kargs": {
        "in_features": 256,
        "out_features": 256
       }
      }
     ],
     "x_shape": [
      2,
      200
     ]
    }
   },
   "start_time": "2022-03-25T02:29:00.405921",
   "version": "2.3.4"
  }
 },
 "nbformat": 4,
 "nbformat_minor": 5
}