{
 "cells": [
  {
   "cell_type": "markdown",
   "id": "9fea5f46",
   "metadata": {
    "papermill": {
     "duration": 0.018186,
     "end_time": "2022-03-25T02:44:13.593739",
     "exception": false,
     "start_time": "2022-03-25T02:44:13.575553",
     "status": "completed"
    },
    "tags": []
   },
   "source": [
    "# Transfer Learning Template"
   ]
  },
  {
   "cell_type": "code",
   "execution_count": 1,
   "id": "0902182a",
   "metadata": {
    "execution": {
     "iopub.execute_input": "2022-03-25T02:44:13.633646Z",
     "iopub.status.busy": "2022-03-25T02:44:13.633168Z",
     "iopub.status.idle": "2022-03-25T02:44:14.553679Z",
     "shell.execute_reply": "2022-03-25T02:44:14.553195Z"
    },
    "papermill": {
     "duration": 0.947532,
     "end_time": "2022-03-25T02:44:14.553793",
     "exception": false,
     "start_time": "2022-03-25T02:44:13.606261",
     "status": "completed"
    },
    "tags": []
   },
   "outputs": [],
   "source": [
    "%load_ext autoreload\n",
    "%autoreload 2\n",
    "%matplotlib inline\n",
    "\n",
    "    \n",
    "import os, json, sys, time, random\n",
    "import numpy as np\n",
    "import torch\n",
    "from torch.optim import Adam\n",
    "from  easydict import EasyDict\n",
    "import matplotlib.pyplot as plt\n",
    "\n",
    "from steves_models.steves_ptn import Steves_Prototypical_Network\n",
    "\n",
    "from steves_utils.lazy_iterable_wrapper import Lazy_Iterable_Wrapper\n",
    "from steves_utils.iterable_aggregator import Iterable_Aggregator\n",
    "from steves_utils.ptn_train_eval_test_jig import  PTN_Train_Eval_Test_Jig\n",
    "from steves_utils.torch_sequential_builder import build_sequential\n",
    "from steves_utils.torch_utils import get_dataset_metrics, ptn_confusion_by_domain_over_dataloader\n",
    "from steves_utils.utils_v2 import (per_domain_accuracy_from_confusion, get_datasets_base_path)\n",
    "from steves_utils.PTN.utils import independent_accuracy_assesment\n",
    "\n",
    "from torch.utils.data import DataLoader\n",
    "\n",
    "from steves_utils.stratified_dataset.episodic_accessor import Episodic_Accessor_Factory\n",
    "\n",
    "from steves_utils.ptn_do_report import (\n",
    "    get_loss_curve,\n",
    "    get_results_table,\n",
    "    get_parameters_table,\n",
    "    get_domain_accuracies,\n",
    ")\n",
    "\n",
    "from steves_utils.transforms import get_chained_transform"
   ]
  },
  {
   "cell_type": "markdown",
   "id": "41c840b4",
   "metadata": {
    "papermill": {
     "duration": 0.012435,
     "end_time": "2022-03-25T02:44:14.583070",
     "exception": false,
     "start_time": "2022-03-25T02:44:14.570635",
     "status": "completed"
    },
    "tags": []
   },
   "source": [
    "# Allowed Parameters\n",
    "These are allowed parameters, not defaults\n",
    "Each of these values need to be present in the injected parameters (the notebook will raise an exception if they are not present)\n",
    "\n",
    "Papermill uses the cell tag \"parameters\" to inject the real parameters below this cell.\n",
    "Enable tags to see what I mean"
   ]
  },
  {
   "cell_type": "code",
   "execution_count": 2,
   "id": "fd44eb83",
   "metadata": {
    "execution": {
     "iopub.execute_input": "2022-03-25T02:44:14.611122Z",
     "iopub.status.busy": "2022-03-25T02:44:14.610860Z",
     "iopub.status.idle": "2022-03-25T02:44:14.625243Z",
     "shell.execute_reply": "2022-03-25T02:44:14.625609Z"
    },
    "papermill": {
     "duration": 0.030237,
     "end_time": "2022-03-25T02:44:14.625713",
     "exception": false,
     "start_time": "2022-03-25T02:44:14.595476",
     "status": "completed"
    },
    "tags": []
   },
   "outputs": [],
   "source": [
    "required_parameters = {\n",
    "    \"experiment_name\",\n",
    "    \"lr\",\n",
    "    \"device\",\n",
    "    \"seed\",\n",
    "    \"dataset_seed\",\n",
    "    \"n_shot\",\n",
    "    \"n_query\",\n",
    "    \"n_way\",\n",
    "    \"train_k_factor\",\n",
    "    \"val_k_factor\",\n",
    "    \"test_k_factor\",\n",
    "    \"n_epoch\",\n",
    "    \"patience\",\n",
    "    \"criteria_for_best\",\n",
    "    \"x_net\",\n",
    "    \"datasets\",\n",
    "    \"torch_default_dtype\",\n",
    "    \"NUM_LOGS_PER_EPOCH\",\n",
    "    \"BEST_MODEL_PATH\",\n",
    "    \"x_shape\",\n",
    "}"
   ]
  },
  {
   "cell_type": "code",
   "execution_count": 3,
   "id": "fa3f0049",
   "metadata": {
    "execution": {
     "iopub.execute_input": "2022-03-25T02:44:14.665550Z",
     "iopub.status.busy": "2022-03-25T02:44:14.665081Z",
     "iopub.status.idle": "2022-03-25T02:44:14.677372Z",
     "shell.execute_reply": "2022-03-25T02:44:14.677742Z"
    },
    "papermill": {
     "duration": 0.035279,
     "end_time": "2022-03-25T02:44:14.677847",
     "exception": false,
     "start_time": "2022-03-25T02:44:14.642568",
     "status": "completed"
    },
    "tags": [
     "parameters"
    ]
   },
   "outputs": [],
   "source": [
    "from steves_utils.CORES.utils import (\n",
    "    ALL_NODES,\n",
    "    ALL_NODES_MINIMUM_1000_EXAMPLES,\n",
    "    ALL_DAYS\n",
    ")\n",
    "\n",
    "from steves_utils.ORACLE.utils_v2 import (\n",
    "    ALL_DISTANCES_FEET_NARROWED,\n",
    "    ALL_RUNS,\n",
    "    ALL_SERIAL_NUMBERS,\n",
    ")\n",
    "\n",
    "standalone_parameters = {}\n",
    "standalone_parameters[\"experiment_name\"] = \"STANDALONE PTN\"\n",
    "standalone_parameters[\"lr\"] = 0.001\n",
    "standalone_parameters[\"device\"] = \"cuda\"\n",
    "\n",
    "standalone_parameters[\"seed\"] = 1337\n",
    "standalone_parameters[\"dataset_seed\"] = 1337\n",
    "\n",
    "standalone_parameters[\"n_way\"] = 8\n",
    "standalone_parameters[\"n_shot\"] = 3\n",
    "standalone_parameters[\"n_query\"]  = 2\n",
    "standalone_parameters[\"train_k_factor\"] = 1\n",
    "standalone_parameters[\"val_k_factor\"] = 2\n",
    "standalone_parameters[\"test_k_factor\"] = 2\n",
    "\n",
    "\n",
    "standalone_parameters[\"n_epoch\"] = 50\n",
    "\n",
    "standalone_parameters[\"patience\"] = 10\n",
    "standalone_parameters[\"criteria_for_best\"] = \"source_loss\"\n",
    "\n",
    "standalone_parameters[\"datasets\"] = [\n",
    "    {\n",
    "        \"labels\": ALL_SERIAL_NUMBERS,\n",
    "        \"domains\": ALL_DISTANCES_FEET_NARROWED,\n",
    "        \"num_examples_per_domain_per_label\": 100,\n",
    "        \"pickle_path\": os.path.join(get_datasets_base_path(), \"oracle.Run1_framed_2000Examples_stratified_ds.2022A.pkl\"),\n",
    "        \"source_or_target_dataset\": \"source\",\n",
    "        \"x_transforms\": [\"unit_mag\", \"minus_two\"],\n",
    "        \"episode_transforms\": [],\n",
    "        \"domain_prefix\": \"ORACLE_\"\n",
    "    },\n",
    "    {\n",
    "        \"labels\": ALL_NODES,\n",
    "        \"domains\": ALL_DAYS,\n",
    "        \"num_examples_per_domain_per_label\": 100,\n",
    "        \"pickle_path\": os.path.join(get_datasets_base_path(), \"cores.stratified_ds.2022A.pkl\"),\n",
    "        \"source_or_target_dataset\": \"target\",\n",
    "        \"x_transforms\": [\"unit_power\", \"times_zero\"],\n",
    "        \"episode_transforms\": [],\n",
    "        \"domain_prefix\": \"CORES_\"\n",
    "    }   \n",
    "]\n",
    "\n",
    "standalone_parameters[\"torch_default_dtype\"] = \"torch.float32\" \n",
    "\n",
    "\n",
    "\n",
    "standalone_parameters[\"x_net\"] =     [\n",
    "    {\"class\": \"nnReshape\", \"kargs\": {\"shape\":[-1, 1, 2, 256]}},\n",
    "    {\"class\": \"Conv2d\", \"kargs\": { \"in_channels\":1, \"out_channels\":256, \"kernel_size\":(1,7), \"bias\":False, \"padding\":(0,3), },},\n",
    "    {\"class\": \"ReLU\", \"kargs\": {\"inplace\": True}},\n",
    "    {\"class\": \"BatchNorm2d\", \"kargs\": {\"num_features\":256}},\n",
    "\n",
    "    {\"class\": \"Conv2d\", \"kargs\": { \"in_channels\":256, \"out_channels\":80, \"kernel_size\":(2,7), \"bias\":True, \"padding\":(0,3), },},\n",
    "    {\"class\": \"ReLU\", \"kargs\": {\"inplace\": True}},\n",
    "    {\"class\": \"BatchNorm2d\", \"kargs\": {\"num_features\":80}},\n",
    "    {\"class\": \"Flatten\", \"kargs\": {}},\n",
    "\n",
    "    {\"class\": \"Linear\", \"kargs\": {\"in_features\": 80*256, \"out_features\": 256}}, # 80 units per IQ pair\n",
    "    {\"class\": \"ReLU\", \"kargs\": {\"inplace\": True}},\n",
    "    {\"class\": \"BatchNorm1d\", \"kargs\": {\"num_features\":256}},\n",
    "\n",
    "    {\"class\": \"Linear\", \"kargs\": {\"in_features\": 256, \"out_features\": 256}},\n",
    "]\n",
    "\n",
    "# Parameters relevant to results\n",
    "# These parameters will basically never need to change\n",
    "standalone_parameters[\"NUM_LOGS_PER_EPOCH\"] = 10\n",
    "standalone_parameters[\"BEST_MODEL_PATH\"] = \"./best_model.pth\"\n",
    "\n",
    "\n",
    "\n",
    "\n"
   ]
  },
  {
   "cell_type": "code",
   "execution_count": 4,
   "id": "a319e5be",
   "metadata": {
    "execution": {
     "iopub.execute_input": "2022-03-25T02:44:14.716655Z",
     "iopub.status.busy": "2022-03-25T02:44:14.716363Z",
     "iopub.status.idle": "2022-03-25T02:44:14.729156Z",
     "shell.execute_reply": "2022-03-25T02:44:14.728864Z"
    },
    "papermill": {
     "duration": 0.034387,
     "end_time": "2022-03-25T02:44:14.729228",
     "exception": false,
     "start_time": "2022-03-25T02:44:14.694841",
     "status": "completed"
    },
    "tags": [
     "injected-parameters"
    ]
   },
   "outputs": [],
   "source": [
    "# Parameters\n",
    "parameters = {\n",
    "    \"experiment_name\": \"tl_3Av2:cores -> oracle.run1.framed\",\n",
    "    \"device\": \"cuda\",\n",
    "    \"lr\": 0.0001,\n",
    "    \"x_shape\": [2, 200],\n",
    "    \"n_shot\": 3,\n",
    "    \"n_query\": 2,\n",
    "    \"train_k_factor\": 3,\n",
    "    \"val_k_factor\": 2,\n",
    "    \"test_k_factor\": 2,\n",
    "    \"torch_default_dtype\": \"torch.float32\",\n",
    "    \"n_epoch\": 50,\n",
    "    \"patience\": 3,\n",
    "    \"criteria_for_best\": \"target_accuracy\",\n",
    "    \"x_net\": [\n",
    "        {\"class\": \"nnReshape\", \"kargs\": {\"shape\": [-1, 1, 2, 200]}},\n",
    "        {\n",
    "            \"class\": \"Conv2d\",\n",
    "            \"kargs\": {\n",
    "                \"in_channels\": 1,\n",
    "                \"out_channels\": 256,\n",
    "                \"kernel_size\": [1, 7],\n",
    "                \"bias\": False,\n",
    "                \"padding\": [0, 3],\n",
    "            },\n",
    "        },\n",
    "        {\"class\": \"ReLU\", \"kargs\": {\"inplace\": True}},\n",
    "        {\"class\": \"BatchNorm2d\", \"kargs\": {\"num_features\": 256}},\n",
    "        {\n",
    "            \"class\": \"Conv2d\",\n",
    "            \"kargs\": {\n",
    "                \"in_channels\": 256,\n",
    "                \"out_channels\": 80,\n",
    "                \"kernel_size\": [2, 7],\n",
    "                \"bias\": True,\n",
    "                \"padding\": [0, 3],\n",
    "            },\n",
    "        },\n",
    "        {\"class\": \"ReLU\", \"kargs\": {\"inplace\": True}},\n",
    "        {\"class\": \"BatchNorm2d\", \"kargs\": {\"num_features\": 80}},\n",
    "        {\"class\": \"Flatten\", \"kargs\": {}},\n",
    "        {\"class\": \"Linear\", \"kargs\": {\"in_features\": 16000, \"out_features\": 256}},\n",
    "        {\"class\": \"ReLU\", \"kargs\": {\"inplace\": True}},\n",
    "        {\"class\": \"BatchNorm1d\", \"kargs\": {\"num_features\": 256}},\n",
    "        {\"class\": \"Linear\", \"kargs\": {\"in_features\": 256, \"out_features\": 256}},\n",
    "    ],\n",
    "    \"NUM_LOGS_PER_EPOCH\": 10,\n",
    "    \"BEST_MODEL_PATH\": \"./best_model.pth\",\n",
    "    \"n_way\": 16,\n",
    "    \"datasets\": [\n",
    "        {\n",
    "            \"labels\": [\n",
    "                \"1-10.\",\n",
    "                \"1-11.\",\n",
    "                \"1-15.\",\n",
    "                \"1-16.\",\n",
    "                \"1-17.\",\n",
    "                \"1-18.\",\n",
    "                \"1-19.\",\n",
    "                \"10-4.\",\n",
    "                \"10-7.\",\n",
    "                \"11-1.\",\n",
    "                \"11-14.\",\n",
    "                \"11-17.\",\n",
    "                \"11-20.\",\n",
    "                \"11-7.\",\n",
    "                \"13-20.\",\n",
    "                \"13-8.\",\n",
    "                \"14-10.\",\n",
    "                \"14-11.\",\n",
    "                \"14-14.\",\n",
    "                \"14-7.\",\n",
    "                \"15-1.\",\n",
    "                \"15-20.\",\n",
    "                \"16-1.\",\n",
    "                \"16-16.\",\n",
    "                \"17-10.\",\n",
    "                \"17-11.\",\n",
    "                \"17-2.\",\n",
    "                \"19-1.\",\n",
    "                \"19-16.\",\n",
    "                \"19-19.\",\n",
    "                \"19-20.\",\n",
    "                \"19-3.\",\n",
    "                \"2-10.\",\n",
    "                \"2-11.\",\n",
    "                \"2-17.\",\n",
    "                \"2-18.\",\n",
    "                \"2-20.\",\n",
    "                \"2-3.\",\n",
    "                \"2-4.\",\n",
    "                \"2-5.\",\n",
    "                \"2-6.\",\n",
    "                \"2-7.\",\n",
    "                \"2-8.\",\n",
    "                \"3-13.\",\n",
    "                \"3-18.\",\n",
    "                \"3-3.\",\n",
    "                \"4-1.\",\n",
    "                \"4-10.\",\n",
    "                \"4-11.\",\n",
    "                \"4-19.\",\n",
    "                \"5-5.\",\n",
    "                \"6-15.\",\n",
    "                \"7-10.\",\n",
    "                \"7-14.\",\n",
    "                \"8-18.\",\n",
    "                \"8-20.\",\n",
    "                \"8-3.\",\n",
    "                \"8-8.\",\n",
    "            ],\n",
    "            \"domains\": [1, 2, 3, 4, 5],\n",
    "            \"num_examples_per_domain_per_label\": -1,\n",
    "            \"pickle_path\": \"/mnt/wd500GB/CSC500/csc500-main/datasets/cores.stratified_ds.2022A.pkl\",\n",
    "            \"source_or_target_dataset\": \"source\",\n",
    "            \"x_transforms\": [\"take_200\"],\n",
    "            \"episode_transforms\": [],\n",
    "            \"domain_prefix\": \"C_\",\n",
    "        },\n",
    "        {\n",
    "            \"labels\": [\n",
    "                \"3123D52\",\n",
    "                \"3123D65\",\n",
    "                \"3123D79\",\n",
    "                \"3123D80\",\n",
    "                \"3123D54\",\n",
    "                \"3123D70\",\n",
    "                \"3123D7B\",\n",
    "                \"3123D89\",\n",
    "                \"3123D58\",\n",
    "                \"3123D76\",\n",
    "                \"3123D7D\",\n",
    "                \"3123EFE\",\n",
    "                \"3123D64\",\n",
    "                \"3123D78\",\n",
    "                \"3123D7E\",\n",
    "                \"3124E4A\",\n",
    "            ],\n",
    "            \"domains\": [32, 38, 8, 44, 14, 50, 20, 26],\n",
    "            \"num_examples_per_domain_per_label\": 2000,\n",
    "            \"pickle_path\": \"/mnt/wd500GB/CSC500/csc500-main/datasets/oracle.Run1_framed_2000Examples_stratified_ds.2022A.pkl\",\n",
    "            \"source_or_target_dataset\": \"target\",\n",
    "            \"x_transforms\": [\"take_200\", \"resample_20Msps_to_25Msps\"],\n",
    "            \"episode_transforms\": [],\n",
    "            \"domain_prefix\": \"O_\",\n",
    "        },\n",
    "    ],\n",
    "    \"seed\": 1337,\n",
    "    \"dataset_seed\": 1337,\n",
    "}\n"
   ]
  },
  {
   "cell_type": "code",
   "execution_count": 5,
   "id": "8fa1cc33",
   "metadata": {
    "execution": {
     "iopub.execute_input": "2022-03-25T02:44:14.762642Z",
     "iopub.status.busy": "2022-03-25T02:44:14.762388Z",
     "iopub.status.idle": "2022-03-25T02:44:14.775981Z",
     "shell.execute_reply": "2022-03-25T02:44:14.775592Z"
    },
    "papermill": {
     "duration": 0.029874,
     "end_time": "2022-03-25T02:44:14.776072",
     "exception": false,
     "start_time": "2022-03-25T02:44:14.746198",
     "status": "completed"
    },
    "tags": []
   },
   "outputs": [],
   "source": [
    "# Set this to True if you want to run this template directly\n",
    "STANDALONE = False\n",
    "if STANDALONE:\n",
    "    print(\"parameters not injected, running with standalone_parameters\")\n",
    "    parameters = standalone_parameters\n",
    "\n",
    "if not 'parameters' in locals() and not 'parameters' in globals():\n",
    "    raise Exception(\"Parameter injection failed\")\n",
    "\n",
    "#Use an easy dict for all the parameters\n",
    "p = EasyDict(parameters)\n",
    "\n",
    "if \"x_shape\" not in p:\n",
    "    p.x_shape = [2,256] # Default to this if we dont supply x_shape\n",
    "\n",
    "\n",
    "supplied_keys = set(p.keys())\n",
    "\n",
    "if  supplied_keys != required_parameters:\n",
    "    print(\"Parameters are incorrect\")\n",
    "    if len(supplied_keys - required_parameters)>0: print(\"Shouldn't have:\", str(supplied_keys - required_parameters))\n",
    "    if len(required_parameters - supplied_keys)>0: print(\"Need to have:\", str(required_parameters - supplied_keys))\n",
    "    raise RuntimeError(\"Parameters are incorrect\")"
   ]
  },
  {
   "cell_type": "code",
   "execution_count": 6,
   "id": "3a028d58",
   "metadata": {
    "execution": {
     "iopub.execute_input": "2022-03-25T02:44:14.808406Z",
     "iopub.status.busy": "2022-03-25T02:44:14.808114Z",
     "iopub.status.idle": "2022-03-25T02:44:14.822369Z",
     "shell.execute_reply": "2022-03-25T02:44:14.822153Z"
    },
    "papermill": {
     "duration": 0.029061,
     "end_time": "2022-03-25T02:44:14.822428",
     "exception": false,
     "start_time": "2022-03-25T02:44:14.793367",
     "status": "completed"
    },
    "tags": []
   },
   "outputs": [],
   "source": [
    "###################################\n",
    "# Set the RNGs and make it all deterministic\n",
    "###################################\n",
    "np.random.seed(p.seed)\n",
    "random.seed(p.seed)\n",
    "torch.manual_seed(p.seed)\n",
    "\n",
    "torch.use_deterministic_algorithms(True) "
   ]
  },
  {
   "cell_type": "code",
   "execution_count": 7,
   "id": "b691acf6",
   "metadata": {
    "execution": {
     "iopub.execute_input": "2022-03-25T02:44:14.854102Z",
     "iopub.status.busy": "2022-03-25T02:44:14.853848Z",
     "iopub.status.idle": "2022-03-25T02:44:14.868535Z",
     "shell.execute_reply": "2022-03-25T02:44:14.868022Z"
    },
    "papermill": {
     "duration": 0.029663,
     "end_time": "2022-03-25T02:44:14.868639",
     "exception": false,
     "start_time": "2022-03-25T02:44:14.838976",
     "status": "completed"
    },
    "tags": []
   },
   "outputs": [],
   "source": [
    "###########################################\n",
    "# The stratified datasets honor this\n",
    "###########################################\n",
    "torch.set_default_dtype(eval(p.torch_default_dtype))"
   ]
  },
  {
   "cell_type": "code",
   "execution_count": 8,
   "id": "b5fba671",
   "metadata": {
    "execution": {
     "iopub.execute_input": "2022-03-25T02:44:14.900840Z",
     "iopub.status.busy": "2022-03-25T02:44:14.900591Z",
     "iopub.status.idle": "2022-03-25T02:44:14.936186Z",
     "shell.execute_reply": "2022-03-25T02:44:14.935794Z"
    },
    "papermill": {
     "duration": 0.050294,
     "end_time": "2022-03-25T02:44:14.936277",
     "exception": false,
     "start_time": "2022-03-25T02:44:14.885983",
     "status": "completed"
    },
    "tags": []
   },
   "outputs": [],
   "source": [
    "###################################\n",
    "# Build the network(s)\n",
    "# Note: It's critical to do this AFTER setting the RNG\n",
    "###################################\n",
    "x_net = build_sequential(p.x_net)"
   ]
  },
  {
   "cell_type": "code",
   "execution_count": 9,
   "id": "5d7e61cc",
   "metadata": {
    "execution": {
     "iopub.execute_input": "2022-03-25T02:44:14.969134Z",
     "iopub.status.busy": "2022-03-25T02:44:14.968886Z",
     "iopub.status.idle": "2022-03-25T02:44:14.984334Z",
     "shell.execute_reply": "2022-03-25T02:44:14.983915Z"
    },
    "papermill": {
     "duration": 0.030442,
     "end_time": "2022-03-25T02:44:14.984424",
     "exception": false,
     "start_time": "2022-03-25T02:44:14.953982",
     "status": "completed"
    },
    "tags": []
   },
   "outputs": [],
   "source": [
    "start_time_secs = time.time()"
   ]
  },
  {
   "cell_type": "code",
   "execution_count": 10,
   "id": "c6b67dfd",
   "metadata": {
    "execution": {
     "iopub.execute_input": "2022-03-25T02:44:15.016821Z",
     "iopub.status.busy": "2022-03-25T02:44:15.016574Z",
     "iopub.status.idle": "2022-03-25T02:44:15.027032Z",
     "shell.execute_reply": "2022-03-25T02:44:15.026683Z"
    },
    "papermill": {
     "duration": 0.025202,
     "end_time": "2022-03-25T02:44:15.027103",
     "exception": false,
     "start_time": "2022-03-25T02:44:15.001901",
     "status": "completed"
    },
    "tags": []
   },
   "outputs": [],
   "source": [
    "p.domains_source = []\n",
    "p.domains_target = []\n",
    "\n",
    "\n",
    "train_original_source = []\n",
    "val_original_source   = []\n",
    "test_original_source  = []\n",
    "\n",
    "train_original_target = []\n",
    "val_original_target   = []\n",
    "test_original_target  = []"
   ]
  },
  {
   "cell_type": "code",
   "execution_count": 11,
   "id": "e3d9c3d3",
   "metadata": {
    "execution": {
     "iopub.execute_input": "2022-03-25T02:44:15.060803Z",
     "iopub.status.busy": "2022-03-25T02:44:15.060555Z",
     "iopub.status.idle": "2022-03-25T02:44:15.074941Z",
     "shell.execute_reply": "2022-03-25T02:44:15.075292Z"
    },
    "papermill": {
     "duration": 0.030635,
     "end_time": "2022-03-25T02:44:15.075397",
     "exception": false,
     "start_time": "2022-03-25T02:44:15.044762",
     "status": "completed"
    },
    "tags": []
   },
   "outputs": [],
   "source": [
    "# global_x_transform_func = lambda x: normalize(x.to(torch.get_default_dtype()), \"unit_power\") # unit_power, unit_mag\n",
    "# global_x_transform_func = lambda x: normalize(x, \"unit_power\") # unit_power, unit_mag"
   ]
  },
  {
   "cell_type": "code",
   "execution_count": 12,
   "id": "acb78fd2",
   "metadata": {
    "execution": {
     "iopub.execute_input": "2022-03-25T02:44:15.112409Z",
     "iopub.status.busy": "2022-03-25T02:44:15.112148Z",
     "iopub.status.idle": "2022-03-25T02:44:15.125881Z",
     "shell.execute_reply": "2022-03-25T02:44:15.126260Z"
    },
    "papermill": {
     "duration": 0.032714,
     "end_time": "2022-03-25T02:44:15.126369",
     "exception": false,
     "start_time": "2022-03-25T02:44:15.093655",
     "status": "completed"
    },
    "tags": []
   },
   "outputs": [],
   "source": [
    "def add_dataset(\n",
    "    labels,\n",
    "    domains,\n",
    "    pickle_path,\n",
    "    x_transforms,\n",
    "    episode_transforms,\n",
    "    domain_prefix,\n",
    "    num_examples_per_domain_per_label,\n",
    "    source_or_target_dataset:str,\n",
    "    iterator_seed=p.seed,\n",
    "    dataset_seed=p.dataset_seed,\n",
    "    n_shot=p.n_shot,\n",
    "    n_way=p.n_way,\n",
    "    n_query=p.n_query,\n",
    "    train_val_test_k_factors=(p.train_k_factor,p.val_k_factor,p.test_k_factor),\n",
    "):\n",
    "   \n",
    "    if x_transforms == []: x_transform = None\n",
    "    else: x_transform = get_chained_transform(x_transforms)\n",
    "    \n",
    "    if episode_transforms == []: episode_transform = None\n",
    "    else: raise Exception(\"episode_transforms not implemented\")\n",
    "    \n",
    "    episode_transform = lambda tup, _prefix=domain_prefix: (_prefix + str(tup[0]), tup[1])\n",
    "\n",
    "\n",
    "    eaf = Episodic_Accessor_Factory(\n",
    "        labels=labels,\n",
    "        domains=domains,\n",
    "        num_examples_per_domain_per_label=num_examples_per_domain_per_label,\n",
    "        iterator_seed=iterator_seed,\n",
    "        dataset_seed=dataset_seed,\n",
    "        n_shot=n_shot,\n",
    "        n_way=n_way,\n",
    "        n_query=n_query,\n",
    "        train_val_test_k_factors=train_val_test_k_factors,\n",
    "        pickle_path=pickle_path,\n",
    "        x_transform_func=x_transform,\n",
    "    )\n",
    "\n",
    "    train, val, test = eaf.get_train(), eaf.get_val(), eaf.get_test()\n",
    "    train = Lazy_Iterable_Wrapper(train, episode_transform)\n",
    "    val = Lazy_Iterable_Wrapper(val, episode_transform)\n",
    "    test = Lazy_Iterable_Wrapper(test, episode_transform)\n",
    "\n",
    "    if source_or_target_dataset==\"source\":\n",
    "        train_original_source.append(train)\n",
    "        val_original_source.append(val)\n",
    "        test_original_source.append(test)\n",
    "\n",
    "        p.domains_source.extend(\n",
    "            [domain_prefix + str(u) for u in domains]\n",
    "        )\n",
    "    elif source_or_target_dataset==\"target\":\n",
    "        train_original_target.append(train)\n",
    "        val_original_target.append(val)\n",
    "        test_original_target.append(test)\n",
    "        p.domains_target.extend(\n",
    "            [domain_prefix + str(u) for u in domains]\n",
    "        )\n",
    "    else:\n",
    "        raise Exception(f\"invalid source_or_target_dataset: {source_or_target_dataset}\")\n",
    "    "
   ]
  },
  {
   "cell_type": "code",
   "execution_count": 13,
   "id": "fe266617",
   "metadata": {
    "execution": {
     "iopub.execute_input": "2022-03-25T02:44:15.160136Z",
     "iopub.status.busy": "2022-03-25T02:44:15.159877Z",
     "iopub.status.idle": "2022-03-25T02:44:32.180888Z",
     "shell.execute_reply": "2022-03-25T02:44:32.180476Z"
    },
    "papermill": {
     "duration": 17.03589,
     "end_time": "2022-03-25T02:44:32.180993",
     "exception": false,
     "start_time": "2022-03-25T02:44:15.145103",
     "status": "completed"
    },
    "tags": []
   },
   "outputs": [],
   "source": [
    "for ds in p.datasets:\n",
    "    add_dataset(**ds)"
   ]
  },
  {
   "cell_type": "code",
   "execution_count": 14,
   "id": "b90d65ac",
   "metadata": {
    "execution": {
     "iopub.execute_input": "2022-03-25T02:44:32.215561Z",
     "iopub.status.busy": "2022-03-25T02:44:32.215302Z",
     "iopub.status.idle": "2022-03-25T02:44:32.226207Z",
     "shell.execute_reply": "2022-03-25T02:44:32.226566Z"
    },
    "papermill": {
     "duration": 0.026546,
     "end_time": "2022-03-25T02:44:32.226674",
     "exception": false,
     "start_time": "2022-03-25T02:44:32.200128",
     "status": "completed"
    },
    "tags": []
   },
   "outputs": [],
   "source": [
    "# from steves_utils.CORES.utils import (\n",
    "#     ALL_NODES,\n",
    "#     ALL_NODES_MINIMUM_1000_EXAMPLES,\n",
    "#     ALL_DAYS\n",
    "# )\n",
    "\n",
    "# add_dataset(\n",
    "#     labels=ALL_NODES,\n",
    "#     domains = ALL_DAYS,\n",
    "#     num_examples_per_domain_per_label=100,\n",
    "#     pickle_path=os.path.join(get_datasets_base_path(), \"cores.stratified_ds.2022A.pkl\"),\n",
    "#     source_or_target_dataset=\"target\",\n",
    "#     x_transform_func=global_x_transform_func,\n",
    "#     domain_modifier=lambda u: f\"cores_{u}\"\n",
    "# )"
   ]
  },
  {
   "cell_type": "code",
   "execution_count": 15,
   "id": "76db484d",
   "metadata": {
    "execution": {
     "iopub.execute_input": "2022-03-25T02:44:32.259913Z",
     "iopub.status.busy": "2022-03-25T02:44:32.259659Z",
     "iopub.status.idle": "2022-03-25T02:44:32.274382Z",
     "shell.execute_reply": "2022-03-25T02:44:32.274928Z"
    },
    "papermill": {
     "duration": 0.030961,
     "end_time": "2022-03-25T02:44:32.275071",
     "exception": false,
     "start_time": "2022-03-25T02:44:32.244110",
     "status": "completed"
    },
    "tags": []
   },
   "outputs": [],
   "source": [
    "# from steves_utils.ORACLE.utils_v2 import (\n",
    "#     ALL_DISTANCES_FEET,\n",
    "#     ALL_RUNS,\n",
    "#     ALL_SERIAL_NUMBERS,\n",
    "# )\n",
    "\n",
    "\n",
    "# add_dataset(\n",
    "#     labels=ALL_SERIAL_NUMBERS,\n",
    "#     domains = list(set(ALL_DISTANCES_FEET) - {2,62}),\n",
    "#     num_examples_per_domain_per_label=100,\n",
    "#     pickle_path=os.path.join(get_datasets_base_path(), \"oracle.Run2_framed_2000Examples_stratified_ds.2022A.pkl\"),\n",
    "#     source_or_target_dataset=\"source\",\n",
    "#     x_transform_func=global_x_transform_func,\n",
    "#     domain_modifier=lambda u: f\"oracle1_{u}\"\n",
    "# )\n"
   ]
  },
  {
   "cell_type": "code",
   "execution_count": 16,
   "id": "97dea9d2",
   "metadata": {
    "execution": {
     "iopub.execute_input": "2022-03-25T02:44:32.308320Z",
     "iopub.status.busy": "2022-03-25T02:44:32.308065Z",
     "iopub.status.idle": "2022-03-25T02:44:32.320848Z",
     "shell.execute_reply": "2022-03-25T02:44:32.321209Z"
    },
    "papermill": {
     "duration": 0.02864,
     "end_time": "2022-03-25T02:44:32.321320",
     "exception": false,
     "start_time": "2022-03-25T02:44:32.292680",
     "status": "completed"
    },
    "tags": []
   },
   "outputs": [],
   "source": [
    "# from steves_utils.ORACLE.utils_v2 import (\n",
    "#     ALL_DISTANCES_FEET,\n",
    "#     ALL_RUNS,\n",
    "#     ALL_SERIAL_NUMBERS,\n",
    "# )\n",
    "\n",
    "\n",
    "# add_dataset(\n",
    "#     labels=ALL_SERIAL_NUMBERS,\n",
    "#     domains = list(set(ALL_DISTANCES_FEET) - {2,62,56}),\n",
    "#     num_examples_per_domain_per_label=100,\n",
    "#     pickle_path=os.path.join(get_datasets_base_path(), \"oracle.Run2_framed_2000Examples_stratified_ds.2022A.pkl\"),\n",
    "#     source_or_target_dataset=\"source\",\n",
    "#     x_transform_func=global_x_transform_func,\n",
    "#     domain_modifier=lambda u: f\"oracle2_{u}\"\n",
    "# )"
   ]
  },
  {
   "cell_type": "code",
   "execution_count": 17,
   "id": "6f289866",
   "metadata": {
    "execution": {
     "iopub.execute_input": "2022-03-25T02:44:32.354862Z",
     "iopub.status.busy": "2022-03-25T02:44:32.354609Z",
     "iopub.status.idle": "2022-03-25T02:44:32.364385Z",
     "shell.execute_reply": "2022-03-25T02:44:32.364739Z"
    },
    "papermill": {
     "duration": 0.02563,
     "end_time": "2022-03-25T02:44:32.364846",
     "exception": false,
     "start_time": "2022-03-25T02:44:32.339216",
     "status": "completed"
    },
    "tags": []
   },
   "outputs": [],
   "source": [
    "# add_dataset(\n",
    "#     labels=list(range(19)),\n",
    "#     domains = [0,1,2],\n",
    "#     num_examples_per_domain_per_label=100,\n",
    "#     pickle_path=os.path.join(get_datasets_base_path(), \"metehan.stratified_ds.2022A.pkl\"),\n",
    "#     source_or_target_dataset=\"target\",\n",
    "#     x_transform_func=global_x_transform_func,\n",
    "#     domain_modifier=lambda u: f\"met_{u}\"\n",
    "# )"
   ]
  },
  {
   "cell_type": "code",
   "execution_count": 18,
   "id": "86a863c3",
   "metadata": {
    "execution": {
     "iopub.execute_input": "2022-03-25T02:44:32.399558Z",
     "iopub.status.busy": "2022-03-25T02:44:32.399297Z",
     "iopub.status.idle": "2022-03-25T02:44:32.414583Z",
     "shell.execute_reply": "2022-03-25T02:44:32.414200Z"
    },
    "papermill": {
     "duration": 0.032041,
     "end_time": "2022-03-25T02:44:32.414675",
     "exception": false,
     "start_time": "2022-03-25T02:44:32.382634",
     "status": "completed"
    },
    "tags": []
   },
   "outputs": [],
   "source": [
    "# # from steves_utils.wisig.utils import (\n",
    "# #     ALL_NODES_MINIMUM_100_EXAMPLES,\n",
    "# #     ALL_NODES_MINIMUM_500_EXAMPLES,\n",
    "# #     ALL_NODES_MINIMUM_1000_EXAMPLES,\n",
    "# #     ALL_DAYS\n",
    "# # )\n",
    "\n",
    "# import steves_utils.wisig.utils as wisig\n",
    "\n",
    "\n",
    "# add_dataset(\n",
    "#     labels=wisig.ALL_NODES_MINIMUM_100_EXAMPLES,\n",
    "#     domains = wisig.ALL_DAYS,\n",
    "#     num_examples_per_domain_per_label=100,\n",
    "#     pickle_path=os.path.join(get_datasets_base_path(), \"wisig.node3-19.stratified_ds.2022A.pkl\"),\n",
    "#     source_or_target_dataset=\"target\",\n",
    "#     x_transform_func=global_x_transform_func,\n",
    "#     domain_modifier=lambda u: f\"wisig_{u}\"\n",
    "# )"
   ]
  },
  {
   "cell_type": "code",
   "execution_count": 19,
   "id": "fd5442bc",
   "metadata": {
    "execution": {
     "iopub.execute_input": "2022-03-25T02:44:32.451044Z",
     "iopub.status.busy": "2022-03-25T02:44:32.450786Z",
     "iopub.status.idle": "2022-03-25T02:44:32.464274Z",
     "shell.execute_reply": "2022-03-25T02:44:32.463867Z"
    },
    "papermill": {
     "duration": 0.030934,
     "end_time": "2022-03-25T02:44:32.464367",
     "exception": false,
     "start_time": "2022-03-25T02:44:32.433433",
     "status": "completed"
    },
    "tags": []
   },
   "outputs": [],
   "source": [
    "###################################\n",
    "# Build the dataset\n",
    "###################################\n",
    "train_original_source = Iterable_Aggregator(train_original_source, p.seed)\n",
    "val_original_source = Iterable_Aggregator(val_original_source, p.seed)\n",
    "test_original_source = Iterable_Aggregator(test_original_source, p.seed)\n",
    "\n",
    "\n",
    "train_original_target = Iterable_Aggregator(train_original_target, p.seed)\n",
    "val_original_target = Iterable_Aggregator(val_original_target, p.seed)\n",
    "test_original_target = Iterable_Aggregator(test_original_target, p.seed)\n",
    "\n",
    "# For CNN We only use X and Y. And we only train on the source.\n",
    "# Properly form the data using a transform lambda and Lazy_Iterable_Wrapper. Finally wrap them in a dataloader\n",
    "\n",
    "transform_lambda = lambda ex: ex[1] # Original is (<domain>, <episode>) so we strip down to episode only\n",
    "\n",
    "train_processed_source = Lazy_Iterable_Wrapper(train_original_source, transform_lambda)\n",
    "val_processed_source   = Lazy_Iterable_Wrapper(val_original_source, transform_lambda)\n",
    "test_processed_source  = Lazy_Iterable_Wrapper(test_original_source, transform_lambda)\n",
    "\n",
    "train_processed_target = Lazy_Iterable_Wrapper(train_original_target, transform_lambda)\n",
    "val_processed_target   = Lazy_Iterable_Wrapper(val_original_target, transform_lambda)\n",
    "test_processed_target  = Lazy_Iterable_Wrapper(test_original_target, transform_lambda)\n",
    "\n",
    "datasets = EasyDict({\n",
    "    \"source\": {\n",
    "        \"original\": {\"train\":train_original_source, \"val\":val_original_source, \"test\":test_original_source},\n",
    "        \"processed\": {\"train\":train_processed_source, \"val\":val_processed_source, \"test\":test_processed_source}\n",
    "    },\n",
    "    \"target\": {\n",
    "        \"original\": {\"train\":train_original_target, \"val\":val_original_target, \"test\":test_original_target},\n",
    "        \"processed\": {\"train\":train_processed_target, \"val\":val_processed_target, \"test\":test_processed_target}\n",
    "    },\n",
    "})"
   ]
  },
  {
   "cell_type": "code",
   "execution_count": 20,
   "id": "5b3c01fc",
   "metadata": {
    "execution": {
     "iopub.execute_input": "2022-03-25T02:44:32.500819Z",
     "iopub.status.busy": "2022-03-25T02:44:32.500548Z",
     "iopub.status.idle": "2022-03-25T02:44:38.822260Z",
     "shell.execute_reply": "2022-03-25T02:44:38.822635Z"
    },
    "papermill": {
     "duration": 6.339119,
     "end_time": "2022-03-25T02:44:38.822742",
     "exception": false,
     "start_time": "2022-03-25T02:44:32.483623",
     "status": "completed"
    },
    "tags": []
   },
   "outputs": [
    {
     "name": "stdout",
     "output_type": "stream",
     "text": [
      "{'C_3', 'C_2', 'C_5', 'C_1', 'C_4'}\n"
     ]
    },
    {
     "name": "stdout",
     "output_type": "stream",
     "text": [
      "{'O_32', 'O_38', 'O_8', 'O_50', 'O_20', 'O_14', 'O_26', 'O_44'}\n"
     ]
    },
    {
     "name": "stdout",
     "output_type": "stream",
     "text": [
      "tensor([[[-0.0121, -0.0224,  0.0159,  ..., -0.0306, -0.0190,  0.0074],\n",
      "         [ 0.0038, -0.0289, -0.0221,  ..., -0.0192, -0.0606, -0.0411]],\n",
      "\n",
      "        [[-0.0181, -0.0190,  0.0288,  ..., -0.0380, -0.0097, -0.0016],\n",
      "         [-0.0034, -0.0319, -0.0134,  ..., -0.0342, -0.0591, -0.0303]],\n",
      "\n",
      "        [[-0.0086, -0.0130,  0.0125,  ..., -0.0175, -0.0046,  0.0286],\n",
      "         [ 0.0052, -0.0263, -0.0293,  ..., -0.0100, -0.0602, -0.0450]],\n",
      "\n",
      "        ...,\n",
      "\n",
      "        [[ 0.0120,  0.0160,  0.0172,  ...,  0.0011, -0.0021, -0.0153],\n",
      "         [ 0.0090,  0.0168, -0.0022,  ...,  0.0166, -0.0040, -0.0234]],\n",
      "\n",
      "        [[ 0.0084,  0.0084, -0.0037,  ..., -0.0151, -0.0008, -0.0008],\n",
      "         [ 0.0032,  0.0011, -0.0067,  ..., -0.0071,  0.0007,  0.0103]],\n",
      "\n",
      "        [[ 0.0069,  0.0125,  0.0156,  ..., -0.0032, -0.0010, -0.0028],\n",
      "         [ 0.0204,  0.0175, -0.0085,  ...,  0.0076, -0.0157, -0.0343]]])\n"
     ]
    }
   ],
   "source": [
    "from steves_utils.transforms import get_average_magnitude, get_average_power\n",
    "\n",
    "print(set([u for u,_ in val_original_source]))\n",
    "print(set([u for u,_ in val_original_target]))\n",
    "\n",
    "s_x, s_y, q_x, q_y, _ = next(iter(train_processed_source))\n",
    "print(s_x)\n",
    "\n",
    "# for ds in [\n",
    "#     train_processed_source,\n",
    "#     val_processed_source,\n",
    "#     test_processed_source,\n",
    "#     train_processed_target,\n",
    "#     val_processed_target,\n",
    "#     test_processed_target\n",
    "# ]:\n",
    "#     for s_x, s_y, q_x, q_y, _ in ds:\n",
    "#         for X in (s_x, q_x):\n",
    "#             for x in X:\n",
    "#                 assert np.isclose(get_average_magnitude(x.numpy()), 1.0)\n",
    "#                 assert np.isclose(get_average_power(x.numpy()), 1.0)\n",
    "                "
   ]
  },
  {
   "cell_type": "code",
   "execution_count": 21,
   "id": "bbdacba1",
   "metadata": {
    "execution": {
     "iopub.execute_input": "2022-03-25T02:44:38.862418Z",
     "iopub.status.busy": "2022-03-25T02:44:38.862122Z",
     "iopub.status.idle": "2022-03-25T02:44:38.914086Z",
     "shell.execute_reply": "2022-03-25T02:44:38.913565Z"
    },
    "papermill": {
     "duration": 0.070292,
     "end_time": "2022-03-25T02:44:38.914204",
     "exception": false,
     "start_time": "2022-03-25T02:44:38.843912",
     "status": "completed"
    },
    "tags": []
   },
   "outputs": [
    {
     "name": "stdout",
     "output_type": "stream",
     "text": [
      "(2, 200)\n"
     ]
    }
   ],
   "source": [
    "###################################\n",
    "# Build the model\n",
    "###################################\n",
    "# easfsl only wants a tuple for the shape\n",
    "model = Steves_Prototypical_Network(x_net, device=p.device, x_shape=tuple(p.x_shape))\n",
    "optimizer = Adam(params=model.parameters(), lr=p.lr)"
   ]
  },
  {
   "cell_type": "code",
   "execution_count": 22,
   "id": "22b39ac5",
   "metadata": {
    "execution": {
     "iopub.execute_input": "2022-03-25T02:44:38.950180Z",
     "iopub.status.busy": "2022-03-25T02:44:38.949902Z",
     "iopub.status.idle": "2022-03-25T03:07:25.555960Z",
     "shell.execute_reply": "2022-03-25T03:07:25.555727Z"
    },
    "papermill": {
     "duration": 1366.624024,
     "end_time": "2022-03-25T03:07:25.556021",
     "exception": false,
     "start_time": "2022-03-25T02:44:38.931997",
     "status": "completed"
    },
    "tags": []
   },
   "outputs": [
    {
     "name": "stdout",
     "output_type": "stream",
     "text": [
      "epoch: 1, [batch: 1 / 6320], examples_per_second: 49.5056, train_label_loss: 2.2263, \n"
     ]
    },
    {
     "name": "stdout",
     "output_type": "stream",
     "text": [
      "epoch: 1, [batch: 632 / 6320], examples_per_second: 3704.9148, train_label_loss: 0.0080, \n"
     ]
    },
    {
     "name": "stdout",
     "output_type": "stream",
     "text": [
      "epoch: 1, [batch: 1264 / 6320], examples_per_second: 3722.2720, train_label_loss: 0.0189, \n"
     ]
    },
    {
     "name": "stdout",
     "output_type": "stream",
     "text": [
      "epoch: 1, [batch: 1896 / 6320], examples_per_second: 3729.2656, train_label_loss: 0.0038, \n"
     ]
    },
    {
     "name": "stdout",
     "output_type": "stream",
     "text": [
      "epoch: 1, [batch: 2528 / 6320], examples_per_second: 3675.9711, train_label_loss: 0.0108, \n"
     ]
    },
    {
     "name": "stdout",
     "output_type": "stream",
     "text": [
      "epoch: 1, [batch: 3160 / 6320], examples_per_second: 3686.1661, train_label_loss: 0.0011, \n"
     ]
    },
    {
     "name": "stdout",
     "output_type": "stream",
     "text": [
      "epoch: 1, [batch: 3792 / 6320], examples_per_second: 3687.3572, train_label_loss: 0.0005, \n"
     ]
    },
    {
     "name": "stdout",
     "output_type": "stream",
     "text": [
      "epoch: 1, [batch: 4424 / 6320], examples_per_second: 3663.9993, train_label_loss: 0.0049, \n"
     ]
    },
    {
     "name": "stdout",
     "output_type": "stream",
     "text": [
      "epoch: 1, [batch: 5056 / 6320], examples_per_second: 3668.1660, train_label_loss: 0.0016, \n"
     ]
    },
    {
     "name": "stdout",
     "output_type": "stream",
     "text": [
      "epoch: 1, [batch: 5688 / 6320], examples_per_second: 3697.9858, train_label_loss: 0.0026, \n"
     ]
    },
    {
     "name": "stdout",
     "output_type": "stream",
     "text": [
      "=============================================================\n",
      "epoch: 1, source_val_acc_label: 0.9987, target_val_acc_label: 0.4881, source_val_label_loss: 0.0087, target_val_label_loss: 2.0857, \n",
      "=============================================================\n"
     ]
    },
    {
     "name": "stdout",
     "output_type": "stream",
     "text": [
      "New best\n"
     ]
    },
    {
     "name": "stdout",
     "output_type": "stream",
     "text": [
      "epoch: 2, [batch: 1 / 6305], examples_per_second: 5.4904, train_label_loss: 0.0067, \n"
     ]
    },
    {
     "name": "stdout",
     "output_type": "stream",
     "text": [
      "epoch: 2, [batch: 631 / 6305], examples_per_second: 3684.6440, train_label_loss: 0.0000, \n"
     ]
    },
    {
     "name": "stdout",
     "output_type": "stream",
     "text": [
      "epoch: 2, [batch: 1261 / 6305], examples_per_second: 3721.6569, train_label_loss: 0.1114, \n"
     ]
    },
    {
     "name": "stdout",
     "output_type": "stream",
     "text": [
      "epoch: 2, [batch: 1892 / 6305], examples_per_second: 3726.1850, train_label_loss: 0.0000, \n"
     ]
    },
    {
     "name": "stdout",
     "output_type": "stream",
     "text": [
      "epoch: 2, [batch: 2522 / 6305], examples_per_second: 3696.0393, train_label_loss: 0.0021, \n"
     ]
    },
    {
     "name": "stdout",
     "output_type": "stream",
     "text": [
      "epoch: 2, [batch: 3153 / 6305], examples_per_second: 3712.0330, train_label_loss: 0.0049, \n"
     ]
    },
    {
     "name": "stdout",
     "output_type": "stream",
     "text": [
      "epoch: 2, [batch: 3783 / 6305], examples_per_second: 3684.3333, train_label_loss: 0.0071, \n"
     ]
    },
    {
     "name": "stdout",
     "output_type": "stream",
     "text": [
      "epoch: 2, [batch: 4413 / 6305], examples_per_second: 3666.1801, train_label_loss: 0.0073, \n"
     ]
    },
    {
     "name": "stdout",
     "output_type": "stream",
     "text": [
      "epoch: 2, [batch: 5044 / 6305], examples_per_second: 3718.9165, train_label_loss: 0.0005, \n"
     ]
    },
    {
     "name": "stdout",
     "output_type": "stream",
     "text": [
      "epoch: 2, [batch: 5674 / 6305], examples_per_second: 3721.2187, train_label_loss: 0.0002, \n"
     ]
    },
    {
     "name": "stdout",
     "output_type": "stream",
     "text": [
      "=============================================================\n",
      "epoch: 2, source_val_acc_label: 0.9962, target_val_acc_label: 0.5187, source_val_label_loss: 0.0287, target_val_label_loss: 1.7500, \n",
      "=============================================================\n"
     ]
    },
    {
     "name": "stdout",
     "output_type": "stream",
     "text": [
      "New best\n"
     ]
    },
    {
     "name": "stdout",
     "output_type": "stream",
     "text": [
      "epoch: 3, [batch: 1 / 6307], examples_per_second: 5.5039, train_label_loss: 0.0001, \n"
     ]
    },
    {
     "name": "stdout",
     "output_type": "stream",
     "text": [
      "epoch: 3, [batch: 631 / 6307], examples_per_second: 3691.6233, train_label_loss: 0.1439, \n"
     ]
    },
    {
     "name": "stdout",
     "output_type": "stream",
     "text": [
      "epoch: 3, [batch: 1262 / 6307], examples_per_second: 3725.5060, train_label_loss: 0.0298, \n"
     ]
    },
    {
     "name": "stdout",
     "output_type": "stream",
     "text": [
      "epoch: 3, [batch: 1892 / 6307], examples_per_second: 3717.5937, train_label_loss: 0.1022, \n"
     ]
    },
    {
     "name": "stdout",
     "output_type": "stream",
     "text": [
      "epoch: 3, [batch: 2523 / 6307], examples_per_second: 3713.3819, train_label_loss: 0.0001, \n"
     ]
    },
    {
     "name": "stdout",
     "output_type": "stream",
     "text": [
      "epoch: 3, [batch: 3154 / 6307], examples_per_second: 3702.6175, train_label_loss: 0.0000, \n"
     ]
    },
    {
     "name": "stdout",
     "output_type": "stream",
     "text": [
      "epoch: 3, [batch: 3784 / 6307], examples_per_second: 3715.2014, train_label_loss: 0.0245, \n"
     ]
    },
    {
     "name": "stdout",
     "output_type": "stream",
     "text": [
      "epoch: 3, [batch: 4415 / 6307], examples_per_second: 3709.8925, train_label_loss: 0.0000, \n"
     ]
    },
    {
     "name": "stdout",
     "output_type": "stream",
     "text": [
      "epoch: 3, [batch: 5045 / 6307], examples_per_second: 3722.3483, train_label_loss: 0.0000, \n"
     ]
    },
    {
     "name": "stdout",
     "output_type": "stream",
     "text": [
      "epoch: 3, [batch: 5676 / 6307], examples_per_second: 3733.3839, train_label_loss: 0.0001, \n"
     ]
    },
    {
     "name": "stdout",
     "output_type": "stream",
     "text": [
      "=============================================================\n",
      "epoch: 3, source_val_acc_label: 0.9986, target_val_acc_label: 0.4064, source_val_label_loss: 0.0092, target_val_label_loss: 2.0029, \n",
      "=============================================================\n"
     ]
    },
    {
     "name": "stdout",
     "output_type": "stream",
     "text": [
      "epoch: 4, [batch: 1 / 6315], examples_per_second: 5.5056, train_label_loss: 0.0000, \n"
     ]
    },
    {
     "name": "stdout",
     "output_type": "stream",
     "text": [
      "epoch: 4, [batch: 632 / 6315], examples_per_second: 3696.5408, train_label_loss: 0.0002, \n"
     ]
    },
    {
     "name": "stdout",
     "output_type": "stream",
     "text": [
      "epoch: 4, [batch: 1263 / 6315], examples_per_second: 3718.1577, train_label_loss: 0.0000, \n"
     ]
    },
    {
     "name": "stdout",
     "output_type": "stream",
     "text": [
      "epoch: 4, [batch: 1895 / 6315], examples_per_second: 3725.9456, train_label_loss: 0.0000, \n"
     ]
    },
    {
     "name": "stdout",
     "output_type": "stream",
     "text": [
      "epoch: 4, [batch: 2526 / 6315], examples_per_second: 3704.4404, train_label_loss: 0.0000, \n"
     ]
    },
    {
     "name": "stdout",
     "output_type": "stream",
     "text": [
      "epoch: 4, [batch: 3158 / 6315], examples_per_second: 3734.5057, train_label_loss: 0.0010, \n"
     ]
    },
    {
     "name": "stdout",
     "output_type": "stream",
     "text": [
      "epoch: 4, [batch: 3789 / 6315], examples_per_second: 3737.2575, train_label_loss: 0.0001, \n"
     ]
    },
    {
     "name": "stdout",
     "output_type": "stream",
     "text": [
      "epoch: 4, [batch: 4420 / 6315], examples_per_second: 3699.1403, train_label_loss: 0.0001, \n"
     ]
    },
    {
     "name": "stdout",
     "output_type": "stream",
     "text": [
      "epoch: 4, [batch: 5052 / 6315], examples_per_second: 3733.4735, train_label_loss: 0.0000, \n"
     ]
    },
    {
     "name": "stdout",
     "output_type": "stream",
     "text": [
      "epoch: 4, [batch: 5683 / 6315], examples_per_second: 3730.4993, train_label_loss: 0.0000, \n"
     ]
    },
    {
     "name": "stdout",
     "output_type": "stream",
     "text": [
      "=============================================================\n",
      "epoch: 4, source_val_acc_label: 0.9992, target_val_acc_label: 0.5421, source_val_label_loss: 0.0100, target_val_label_loss: 1.7098, \n",
      "=============================================================\n"
     ]
    },
    {
     "name": "stdout",
     "output_type": "stream",
     "text": [
      "New best\n"
     ]
    },
    {
     "name": "stdout",
     "output_type": "stream",
     "text": [
      "epoch: 5, [batch: 1 / 6313], examples_per_second: 5.5146, train_label_loss: 0.0000, \n"
     ]
    },
    {
     "name": "stdout",
     "output_type": "stream",
     "text": [
      "epoch: 5, [batch: 632 / 6313], examples_per_second: 3678.0909, train_label_loss: 0.0000, \n"
     ]
    },
    {
     "name": "stdout",
     "output_type": "stream",
     "text": [
      "epoch: 5, [batch: 1263 / 6313], examples_per_second: 3702.4037, train_label_loss: 0.0001, \n"
     ]
    },
    {
     "name": "stdout",
     "output_type": "stream",
     "text": [
      "epoch: 5, [batch: 1894 / 6313], examples_per_second: 3715.1215, train_label_loss: 0.0000, \n"
     ]
    },
    {
     "name": "stdout",
     "output_type": "stream",
     "text": [
      "epoch: 5, [batch: 2525 / 6313], examples_per_second: 3701.7507, train_label_loss: 0.0000, \n"
     ]
    },
    {
     "name": "stdout",
     "output_type": "stream",
     "text": [
      "epoch: 5, [batch: 3157 / 6313], examples_per_second: 3741.4221, train_label_loss: 0.0000, \n"
     ]
    },
    {
     "name": "stdout",
     "output_type": "stream",
     "text": [
      "epoch: 5, [batch: 3788 / 6313], examples_per_second: 3741.8640, train_label_loss: 0.0000, \n"
     ]
    },
    {
     "name": "stdout",
     "output_type": "stream",
     "text": [
      "epoch: 5, [batch: 4419 / 6313], examples_per_second: 3723.8462, train_label_loss: 0.0005, \n"
     ]
    },
    {
     "name": "stdout",
     "output_type": "stream",
     "text": [
      "epoch: 5, [batch: 5050 / 6313], examples_per_second: 3741.6092, train_label_loss: 0.0000, \n"
     ]
    },
    {
     "name": "stdout",
     "output_type": "stream",
     "text": [
      "epoch: 5, [batch: 5681 / 6313], examples_per_second: 3744.7221, train_label_loss: 0.0001, \n"
     ]
    },
    {
     "name": "stdout",
     "output_type": "stream",
     "text": [
      "=============================================================\n",
      "epoch: 5, source_val_acc_label: 0.9993, target_val_acc_label: 0.5765, source_val_label_loss: 0.0105, target_val_label_loss: 1.5635, \n",
      "=============================================================\n"
     ]
    },
    {
     "name": "stdout",
     "output_type": "stream",
     "text": [
      "New best\n"
     ]
    },
    {
     "name": "stdout",
     "output_type": "stream",
     "text": [
      "epoch: 6, [batch: 1 / 6317], examples_per_second: 5.5057, train_label_loss: 0.0000, \n"
     ]
    },
    {
     "name": "stdout",
     "output_type": "stream",
     "text": [
      "epoch: 6, [batch: 632 / 6317], examples_per_second: 3726.7482, train_label_loss: 0.0000, \n"
     ]
    },
    {
     "name": "stdout",
     "output_type": "stream",
     "text": [
      "epoch: 6, [batch: 1264 / 6317], examples_per_second: 3707.7470, train_label_loss: 0.0000, \n"
     ]
    },
    {
     "name": "stdout",
     "output_type": "stream",
     "text": [
      "epoch: 6, [batch: 1895 / 6317], examples_per_second: 3738.6643, train_label_loss: 0.0012, \n"
     ]
    },
    {
     "name": "stdout",
     "output_type": "stream",
     "text": [
      "epoch: 6, [batch: 2527 / 6317], examples_per_second: 3722.5659, train_label_loss: 0.0012, \n"
     ]
    },
    {
     "name": "stdout",
     "output_type": "stream",
     "text": [
      "epoch: 6, [batch: 3159 / 6317], examples_per_second: 3733.8953, train_label_loss: 0.0025, \n"
     ]
    },
    {
     "name": "stdout",
     "output_type": "stream",
     "text": [
      "epoch: 6, [batch: 3790 / 6317], examples_per_second: 3712.7151, train_label_loss: 0.0000, \n"
     ]
    },
    {
     "name": "stdout",
     "output_type": "stream",
     "text": [
      "epoch: 6, [batch: 4422 / 6317], examples_per_second: 3688.4505, train_label_loss: 0.0010, \n"
     ]
    },
    {
     "name": "stdout",
     "output_type": "stream",
     "text": [
      "epoch: 6, [batch: 5053 / 6317], examples_per_second: 3723.8197, train_label_loss: 0.0000, \n"
     ]
    },
    {
     "name": "stdout",
     "output_type": "stream",
     "text": [
      "epoch: 6, [batch: 5685 / 6317], examples_per_second: 3740.6541, train_label_loss: 0.0000, \n"
     ]
    },
    {
     "name": "stdout",
     "output_type": "stream",
     "text": [
      "=============================================================\n",
      "epoch: 6, source_val_acc_label: 0.9955, target_val_acc_label: 0.4159, source_val_label_loss: 0.0287, target_val_label_loss: 2.0306, \n",
      "=============================================================\n"
     ]
    },
    {
     "name": "stdout",
     "output_type": "stream",
     "text": [
      "epoch: 7, [batch: 1 / 6322], examples_per_second: 5.5373, train_label_loss: 0.0000, \n"
     ]
    },
    {
     "name": "stdout",
     "output_type": "stream",
     "text": [
      "epoch: 7, [batch: 633 / 6322], examples_per_second: 3683.6894, train_label_loss: 0.0000, \n"
     ]
    },
    {
     "name": "stdout",
     "output_type": "stream",
     "text": [
      "epoch: 7, [batch: 1265 / 6322], examples_per_second: 3711.7124, train_label_loss: 0.0010, \n"
     ]
    },
    {
     "name": "stdout",
     "output_type": "stream",
     "text": [
      "epoch: 7, [batch: 1897 / 6322], examples_per_second: 3731.0406, train_label_loss: 0.0000, \n"
     ]
    },
    {
     "name": "stdout",
     "output_type": "stream",
     "text": [
      "epoch: 7, [batch: 2529 / 6322], examples_per_second: 3707.3177, train_label_loss: 0.0000, \n"
     ]
    },
    {
     "name": "stdout",
     "output_type": "stream",
     "text": [
      "epoch: 7, [batch: 3161 / 6322], examples_per_second: 3714.8682, train_label_loss: 0.0103, \n"
     ]
    },
    {
     "name": "stdout",
     "output_type": "stream",
     "text": [
      "epoch: 7, [batch: 3793 / 6322], examples_per_second: 3720.7192, train_label_loss: 0.0000, \n"
     ]
    },
    {
     "name": "stdout",
     "output_type": "stream",
     "text": [
      "epoch: 7, [batch: 4425 / 6322], examples_per_second: 3699.2520, train_label_loss: 0.0000, \n"
     ]
    },
    {
     "name": "stdout",
     "output_type": "stream",
     "text": [
      "epoch: 7, [batch: 5057 / 6322], examples_per_second: 3730.0423, train_label_loss: 0.0000, \n"
     ]
    },
    {
     "name": "stdout",
     "output_type": "stream",
     "text": [
      "epoch: 7, [batch: 5689 / 6322], examples_per_second: 3733.6608, train_label_loss: 0.0000, \n"
     ]
    },
    {
     "name": "stdout",
     "output_type": "stream",
     "text": [
      "=============================================================\n",
      "epoch: 7, source_val_acc_label: 0.9991, target_val_acc_label: 0.4351, source_val_label_loss: 0.0143, target_val_label_loss: 1.8551, \n",
      "=============================================================\n"
     ]
    },
    {
     "name": "stdout",
     "output_type": "stream",
     "text": [
      "epoch: 8, [batch: 1 / 6297], examples_per_second: 5.5219, train_label_loss: 0.0000, \n"
     ]
    },
    {
     "name": "stdout",
     "output_type": "stream",
     "text": [
      "epoch: 8, [batch: 630 / 6297], examples_per_second: 3706.3883, train_label_loss: 0.0000, \n"
     ]
    },
    {
     "name": "stdout",
     "output_type": "stream",
     "text": [
      "epoch: 8, [batch: 1260 / 6297], examples_per_second: 3720.5127, train_label_loss: 0.0000, \n"
     ]
    },
    {
     "name": "stdout",
     "output_type": "stream",
     "text": [
      "epoch: 8, [batch: 1889 / 6297], examples_per_second: 3677.5811, train_label_loss: 0.0001, \n"
     ]
    },
    {
     "name": "stdout",
     "output_type": "stream",
     "text": [
      "epoch: 8, [batch: 2519 / 6297], examples_per_second: 3663.2591, train_label_loss: 0.0000, \n"
     ]
    },
    {
     "name": "stdout",
     "output_type": "stream",
     "text": [
      "epoch: 8, [batch: 3149 / 6297], examples_per_second: 3533.3550, train_label_loss: 0.0000, \n"
     ]
    },
    {
     "name": "stdout",
     "output_type": "stream",
     "text": [
      "epoch: 8, [batch: 3778 / 6297], examples_per_second: 3562.8599, train_label_loss: 0.0000, \n"
     ]
    },
    {
     "name": "stdout",
     "output_type": "stream",
     "text": [
      "epoch: 8, [batch: 4408 / 6297], examples_per_second: 3623.0096, train_label_loss: 0.0000, \n"
     ]
    },
    {
     "name": "stdout",
     "output_type": "stream",
     "text": [
      "epoch: 8, [batch: 5037 / 6297], examples_per_second: 3616.1480, train_label_loss: 0.0000, \n"
     ]
    },
    {
     "name": "stdout",
     "output_type": "stream",
     "text": [
      "epoch: 8, [batch: 5667 / 6297], examples_per_second: 3687.2990, train_label_loss: 0.0001, \n"
     ]
    },
    {
     "name": "stdout",
     "output_type": "stream",
     "text": [
      "=============================================================\n",
      "epoch: 8, source_val_acc_label: 0.9986, target_val_acc_label: 0.5676, source_val_label_loss: 0.0198, target_val_label_loss: 1.4958, \n",
      "=============================================================\n"
     ]
    },
    {
     "name": "stdout",
     "output_type": "stream",
     "text": [
      "epoch: 9, [batch: 1 / 6315], examples_per_second: 5.4847, train_label_loss: 0.0000, \n"
     ]
    },
    {
     "name": "stdout",
     "output_type": "stream",
     "text": [
      "epoch: 9, [batch: 632 / 6315], examples_per_second: 3663.7199, train_label_loss: 2.6510, \n"
     ]
    },
    {
     "name": "stdout",
     "output_type": "stream",
     "text": [
      "epoch: 9, [batch: 1263 / 6315], examples_per_second: 3690.6740, train_label_loss: 0.0355, \n"
     ]
    },
    {
     "name": "stdout",
     "output_type": "stream",
     "text": [
      "epoch: 9, [batch: 1895 / 6315], examples_per_second: 3634.3486, train_label_loss: 0.0000, \n"
     ]
    },
    {
     "name": "stdout",
     "output_type": "stream",
     "text": [
      "epoch: 9, [batch: 2526 / 6315], examples_per_second: 3650.8454, train_label_loss: 0.0000, \n"
     ]
    },
    {
     "name": "stdout",
     "output_type": "stream",
     "text": [
      "epoch: 9, [batch: 3158 / 6315], examples_per_second: 3712.9602, train_label_loss: 0.0000, \n"
     ]
    },
    {
     "name": "stdout",
     "output_type": "stream",
     "text": [
      "epoch: 9, [batch: 3789 / 6315], examples_per_second: 3716.1898, train_label_loss: 0.0000, \n"
     ]
    },
    {
     "name": "stdout",
     "output_type": "stream",
     "text": [
      "epoch: 9, [batch: 4420 / 6315], examples_per_second: 3673.7770, train_label_loss: 0.0000, \n"
     ]
    },
    {
     "name": "stdout",
     "output_type": "stream",
     "text": [
      "epoch: 9, [batch: 5052 / 6315], examples_per_second: 3659.9053, train_label_loss: 0.0000, \n"
     ]
    },
    {
     "name": "stdout",
     "output_type": "stream",
     "text": [
      "epoch: 9, [batch: 5683 / 6315], examples_per_second: 3700.7960, train_label_loss: 0.0000, \n"
     ]
    },
    {
     "name": "stdout",
     "output_type": "stream",
     "text": [
      "=============================================================\n",
      "epoch: 9, source_val_acc_label: 0.9989, target_val_acc_label: 0.5009, source_val_label_loss: 0.0170, target_val_label_loss: 1.5380, \n",
      "=============================================================\n"
     ]
    },
    {
     "name": "stdout",
     "output_type": "stream",
     "text": [
      "Patience (3) exhausted\n"
     ]
    }
   ],
   "source": [
    "###################################\n",
    "# train\n",
    "###################################\n",
    "jig = PTN_Train_Eval_Test_Jig(model, p.BEST_MODEL_PATH, p.device)\n",
    "\n",
    "jig.train(\n",
    "    train_iterable=datasets.source.processed.train,\n",
    "    source_val_iterable=datasets.source.processed.val,\n",
    "    target_val_iterable=datasets.target.processed.val,\n",
    "    num_epochs=p.n_epoch,\n",
    "    num_logs_per_epoch=p.NUM_LOGS_PER_EPOCH,\n",
    "    patience=p.patience,\n",
    "    optimizer=optimizer,\n",
    "    criteria_for_best=p.criteria_for_best,\n",
    ")"
   ]
  },
  {
   "cell_type": "code",
   "execution_count": 23,
   "id": "31e8fabf",
   "metadata": {
    "execution": {
     "iopub.execute_input": "2022-03-25T03:07:25.625600Z",
     "iopub.status.busy": "2022-03-25T03:07:25.625340Z",
     "iopub.status.idle": "2022-03-25T03:07:25.644964Z",
     "shell.execute_reply": "2022-03-25T03:07:25.644510Z"
    },
    "papermill": {
     "duration": 0.055716,
     "end_time": "2022-03-25T03:07:25.645070",
     "exception": false,
     "start_time": "2022-03-25T03:07:25.589354",
     "status": "completed"
    },
    "tags": []
   },
   "outputs": [],
   "source": [
    "total_experiment_time_secs = time.time() - start_time_secs"
   ]
  },
  {
   "cell_type": "code",
   "execution_count": 24,
   "id": "87b9595b",
   "metadata": {
    "execution": {
     "iopub.execute_input": "2022-03-25T03:07:25.727761Z",
     "iopub.status.busy": "2022-03-25T03:07:25.722509Z",
     "iopub.status.idle": "2022-03-25T03:09:00.117387Z",
     "shell.execute_reply": "2022-03-25T03:09:00.117781Z"
    },
    "papermill": {
     "duration": 94.435026,
     "end_time": "2022-03-25T03:09:00.117892",
     "exception": false,
     "start_time": "2022-03-25T03:07:25.682866",
     "status": "completed"
    },
    "tags": []
   },
   "outputs": [],
   "source": [
    "###################################\n",
    "# Evaluate the model\n",
    "###################################\n",
    "source_test_label_accuracy, source_test_label_loss = jig.test(datasets.source.processed.test)\n",
    "target_test_label_accuracy, target_test_label_loss = jig.test(datasets.target.processed.test)\n",
    "\n",
    "source_val_label_accuracy, source_val_label_loss = jig.test(datasets.source.processed.val)\n",
    "target_val_label_accuracy, target_val_label_loss = jig.test(datasets.target.processed.val)\n",
    "\n",
    "history = jig.get_history()\n",
    "\n",
    "total_epochs_trained = len(history[\"epoch_indices\"])\n",
    "\n",
    "val_dl = Iterable_Aggregator((datasets.source.original.val,datasets.target.original.val))\n",
    "\n",
    "confusion = ptn_confusion_by_domain_over_dataloader(model, p.device, val_dl)\n",
    "per_domain_accuracy = per_domain_accuracy_from_confusion(confusion)\n",
    "\n",
    "# Add a key to per_domain_accuracy for if it was a source domain\n",
    "for domain, accuracy in per_domain_accuracy.items():\n",
    "    per_domain_accuracy[domain] = {\n",
    "        \"accuracy\": accuracy,\n",
    "        \"source?\": domain in p.domains_source\n",
    "    }\n",
    "\n",
    "# Do an independent accuracy assesment JUST TO BE SURE!\n",
    "# _source_test_label_accuracy = independent_accuracy_assesment(model, datasets.source.processed.test, p.device)\n",
    "# _target_test_label_accuracy = independent_accuracy_assesment(model, datasets.target.processed.test, p.device)\n",
    "# _source_val_label_accuracy = independent_accuracy_assesment(model, datasets.source.processed.val, p.device)\n",
    "# _target_val_label_accuracy = independent_accuracy_assesment(model, datasets.target.processed.val, p.device)\n",
    "\n",
    "# assert(_source_test_label_accuracy == source_test_label_accuracy)\n",
    "# assert(_target_test_label_accuracy == target_test_label_accuracy)\n",
    "# assert(_source_val_label_accuracy == source_val_label_accuracy)\n",
    "# assert(_target_val_label_accuracy == target_val_label_accuracy)\n",
    "\n",
    "experiment = {\n",
    "    \"experiment_name\": p.experiment_name,\n",
    "    \"parameters\": dict(p),\n",
    "    \"results\": {\n",
    "        \"source_test_label_accuracy\": source_test_label_accuracy,\n",
    "        \"source_test_label_loss\": source_test_label_loss,\n",
    "        \"target_test_label_accuracy\": target_test_label_accuracy,\n",
    "        \"target_test_label_loss\": target_test_label_loss,\n",
    "        \"source_val_label_accuracy\": source_val_label_accuracy,\n",
    "        \"source_val_label_loss\": source_val_label_loss,\n",
    "        \"target_val_label_accuracy\": target_val_label_accuracy,\n",
    "        \"target_val_label_loss\": target_val_label_loss,\n",
    "        \"total_epochs_trained\": total_epochs_trained,\n",
    "        \"total_experiment_time_secs\": total_experiment_time_secs,\n",
    "        \"confusion\": confusion,\n",
    "        \"per_domain_accuracy\": per_domain_accuracy,\n",
    "    },\n",
    "    \"history\": history,\n",
    "    \"dataset_metrics\": get_dataset_metrics(datasets, \"ptn\"),\n",
    "}"
   ]
  },
  {
   "cell_type": "code",
   "execution_count": 25,
   "id": "54a21829",
   "metadata": {
    "execution": {
     "iopub.execute_input": "2022-03-25T03:09:00.193390Z",
     "iopub.status.busy": "2022-03-25T03:09:00.192879Z",
     "iopub.status.idle": "2022-03-25T03:09:00.318458Z",
     "shell.execute_reply": "2022-03-25T03:09:00.318214Z"
    },
    "papermill": {
     "duration": 0.162726,
     "end_time": "2022-03-25T03:09:00.318521",
     "exception": false,
     "start_time": "2022-03-25T03:09:00.155795",
     "status": "completed"
    },
    "tags": []
   },
   "outputs": [
    {
     "data": {
      "image/png": "[encoded data removed]",
      "text/plain": [
       "<Figure size 1080x504 with 1 Axes>"
      ]
     },
     "metadata": {
      "needs_background": "light"
     },
     "output_type": "display_data"
    }
   ],
   "source": [
    "ax = get_loss_curve(experiment)\n",
    "plt.show()"
   ]
  },
  {
   "cell_type": "code",
   "execution_count": 26,
   "id": "fd8a0f60",
   "metadata": {
    "execution": {
     "iopub.execute_input": "2022-03-25T03:09:00.395329Z",
     "iopub.status.busy": "2022-03-25T03:09:00.395056Z",
     "iopub.status.idle": "2022-03-25T03:09:00.542489Z",
     "shell.execute_reply": "2022-03-25T03:09:00.542807Z"
    },
    "papermill": {
     "duration": 0.187929,
     "end_time": "2022-03-25T03:09:00.542914",
     "exception": false,
     "start_time": "2022-03-25T03:09:00.354985",
     "status": "completed"
    },
    "tags": []
   },
   "outputs": [
    {
     "data": {
      "text/plain": [
       "<AxesSubplot:title={'center':'Results'}>"
      ]
     },
     "execution_count": 26,
     "metadata": {},
     "output_type": "execute_result"
    },
    {
     "data": {
      "image/png": "[encoded data removed]",
      "text/plain": [
       "<Figure size 1080x504 with 1 Axes>"
      ]
     },
     "metadata": {
      "needs_background": "light"
     },
     "output_type": "display_data"
    }
   ],
   "source": [
    "get_results_table(experiment)"
   ]
  },
  {
   "cell_type": "code",
   "execution_count": 27,
   "id": "cf8dc689",
   "metadata": {
    "execution": {
     "iopub.execute_input": "2022-03-25T03:09:00.621691Z",
     "iopub.status.busy": "2022-03-25T03:09:00.621424Z",
     "iopub.status.idle": "2022-03-25T03:09:00.757721Z",
     "shell.execute_reply": "2022-03-25T03:09:00.757459Z"
    },
    "papermill": {
     "duration": 0.173804,
     "end_time": "2022-03-25T03:09:00.757781",
     "exception": false,
     "start_time": "2022-03-25T03:09:00.583977",
     "status": "completed"
    },
    "tags": []
   },
   "outputs": [
    {
     "data": {
      "text/plain": [
       "<AxesSubplot:title={'center':'Per Domain Validation Accuracy'}, xlabel='domain'>"
      ]
     },
     "execution_count": 27,
     "metadata": {},
     "output_type": "execute_result"
    },
    {
     "data": {
      "image/png": "[encoded data removed]",
      "text/plain": [
       "<Figure size 1080x504 with 1 Axes>"
      ]
     },
     "metadata": {
      "needs_background": "light"
     },
     "output_type": "display_data"
    }
   ],
   "source": [
    "get_domain_accuracies(experiment)"
   ]
  },
  {
   "cell_type": "code",
   "execution_count": 28,
   "id": "a74ae082",
   "metadata": {
    "execution": {
     "iopub.execute_input": "2022-03-25T03:09:00.834715Z",
     "iopub.status.busy": "2022-03-25T03:09:00.834363Z",
     "iopub.status.idle": "2022-03-25T03:09:00.853939Z",
     "shell.execute_reply": "2022-03-25T03:09:00.853533Z"
    },
    "papermill": {
     "duration": 0.05957,
     "end_time": "2022-03-25T03:09:00.854052",
     "exception": false,
     "start_time": "2022-03-25T03:09:00.794482",
     "status": "completed"
    },
    "tags": []
   },
   "outputs": [
    {
     "name": "stdout",
     "output_type": "stream",
     "text": [
      "Source Test Label Accuracy: 0.999263468013468 Target Test Label Accuracy: 0.5748046875\n",
      "Source Val Label Accuracy: 0.9992508561643836 Target Val Label Accuracy: 0.5764973958333334\n"
     ]
    }
   ],
   "source": [
    "print(\"Source Test Label Accuracy:\", experiment[\"results\"][\"source_test_label_accuracy\"], \"Target Test Label Accuracy:\", experiment[\"results\"][\"target_test_label_accuracy\"])\n",
    "print(\"Source Val Label Accuracy:\", experiment[\"results\"][\"source_val_label_accuracy\"], \"Target Val Label Accuracy:\", experiment[\"results\"][\"target_val_label_accuracy\"])"
   ]
  },
  {
   "cell_type": "code",
   "execution_count": 29,
   "id": "dacca602",
   "metadata": {
    "execution": {
     "iopub.execute_input": "2022-03-25T03:09:00.936766Z",
     "iopub.status.busy": "2022-03-25T03:09:00.936508Z",
     "iopub.status.idle": "2022-03-25T03:09:00.954585Z",
     "shell.execute_reply": "2022-03-25T03:09:00.954995Z"
    },
    "papermill": {
     "duration": 0.059837,
     "end_time": "2022-03-25T03:09:00.955120",
     "exception": false,
     "start_time": "2022-03-25T03:09:00.895283",
     "status": "completed"
    },
    "tags": [
     "experiment_json"
    ]
   },
   "outputs": [
    {
     "data": {
      "text/plain": [
       "'{\"experiment_name\": \"tl_3Av2:cores -> oracle.run1.framed\", \"parameters\": {\"experiment_name\": \"tl_3Av2:cores -> oracle.run1.framed\", \"device\": \"cuda\", \"lr\": 0.0001, \"x_shape\": [2, 200], \"n_shot\": 3, \"n_query\": 2, \"train_k_factor\": 3, \"val_k_factor\": 2, \"test_k_factor\": 2, \"torch_default_dtype\": \"torch.float32\", \"n_epoch\": 50, \"patience\": 3, \"criteria_for_best\": \"target_accuracy\", \"x_net\": [{\"class\": \"nnReshape\", \"kargs\": {\"shape\": [-1, 1, 2, 200]}}, {\"class\": \"Conv2d\", \"kargs\": {\"in_channels\": 1, \"out_channels\": 256, \"kernel_size\": [1, 7], \"bias\": false, \"padding\": [0, 3]}}, {\"class\": \"ReLU\", \"kargs\": {\"inplace\": true}}, {\"class\": \"BatchNorm2d\", \"kargs\": {\"num_features\": 256}}, {\"class\": \"Conv2d\", \"kargs\": {\"in_channels\": 256, \"out_channels\": 80, \"kernel_size\": [2, 7], \"bias\": true, \"padding\": [0, 3]}}, {\"class\": \"ReLU\", \"kargs\": {\"inplace\": true}}, {\"class\": \"BatchNorm2d\", \"kargs\": {\"num_features\": 80}}, {\"class\": \"Flatten\", \"kargs\": {}}, {\"class\": \"Linear\", \"kargs\": {\"in_features\": 16000, \"out_features\": 256}}, {\"class\": \"ReLU\", \"kargs\": {\"inplace\": true}}, {\"class\": \"BatchNorm1d\", \"kargs\": {\"num_features\": 256}}, {\"class\": \"Linear\", \"kargs\": {\"in_features\": 256, \"out_features\": 256}}], \"NUM_LOGS_PER_EPOCH\": 10, \"BEST_MODEL_PATH\": \"./best_model.pth\", \"n_way\": 16, \"datasets\": [{\"labels\": [\"1-10.\", \"1-11.\", \"1-15.\", \"1-16.\", \"1-17.\", \"1-18.\", \"1-19.\", \"10-4.\", \"10-7.\", \"11-1.\", \"11-14.\", \"11-17.\", \"11-20.\", \"11-7.\", \"13-20.\", \"13-8.\", \"14-10.\", \"14-11.\", \"14-14.\", \"14-7.\", \"15-1.\", \"15-20.\", \"16-1.\", \"16-16.\", \"17-10.\", \"17-11.\", \"17-2.\", \"19-1.\", \"19-16.\", \"19-19.\", \"19-20.\", \"19-3.\", \"2-10.\", \"2-11.\", \"2-17.\", \"2-18.\", \"2-20.\", \"2-3.\", \"2-4.\", \"2-5.\", \"2-6.\", \"2-7.\", \"2-8.\", \"3-13.\", \"3-18.\", \"3-3.\", \"4-1.\", \"4-10.\", \"4-11.\", \"4-19.\", \"5-5.\", \"6-15.\", \"7-10.\", \"7-14.\", \"8-18.\", \"8-20.\", \"8-3.\", \"8-8.\"], \"domains\": [1, 2, 3, 4, 5], \"num_examples_per_domain_per_label\": -1, \"pickle_path\": \"/mnt/wd500GB/CSC500/csc500-main/datasets/cores.stratified_ds.2022A.pkl\", \"source_or_target_dataset\": \"source\", \"x_transforms\": [\"take_200\"], \"episode_transforms\": [], \"domain_prefix\": \"C_\"}, {\"labels\": [\"3123D52\", \"3123D65\", \"3123D79\", \"3123D80\", \"3123D54\", \"3123D70\", \"3123D7B\", \"3123D89\", \"3123D58\", \"3123D76\", \"3123D7D\", \"3123EFE\", \"3123D64\", \"3123D78\", \"3123D7E\", \"3124E4A\"], \"domains\": [32, 38, 8, 44, 14, 50, 20, 26], \"num_examples_per_domain_per_label\": 2000, \"pickle_path\": \"/mnt/wd500GB/CSC500/csc500-main/datasets/oracle.Run1_framed_2000Examples_stratified_ds.2022A.pkl\", \"source_or_target_dataset\": \"target\", \"x_transforms\": [\"take_200\", \"resample_20Msps_to_25Msps\"], \"episode_transforms\": [], \"domain_prefix\": \"O_\"}], \"seed\": 1337, \"dataset_seed\": 1337, \"domains_source\": [\"C_1\", \"C_2\", \"C_3\", \"C_4\", \"C_5\"], \"domains_target\": [\"O_32\", \"O_38\", \"O_8\", \"O_44\", \"O_14\", \"O_50\", \"O_20\", \"O_26\"]}, \"results\": {\"source_test_label_accuracy\": 0.999263468013468, \"source_test_label_loss\": 0.007357529830187559, \"target_test_label_accuracy\": 0.5748046875, \"target_test_label_loss\": 1.5636317729949951, \"source_val_label_accuracy\": 0.9992508561643836, \"source_val_label_loss\": 0.01049216091632843, \"target_val_label_accuracy\": 0.5764973958333334, \"target_val_label_loss\": 1.5634554624557495, \"total_epochs_trained\": 9, \"total_experiment_time_secs\": 1390.6601903438568, \"confusion\": {\"C_3\": {\"43\": {\"43\": 128}, \"9\": {\"9\": 150}, \"6\": {\"6\": 88}, \"3\": {\"3\": 144}, \"16\": {\"16\": 134}, \"51\": {\"51\": 128}, \"31\": {\"31\": 28}, \"46\": {\"46\": 134}, \"19\": {\"19\": 124}, \"8\": {\"8\": 152}, \"18\": {\"18\": 84}, \"37\": {\"37\": 28}, \"24\": {\"24\": 104}, \"10\": {\"10\": 64}, \"44\": {\"44\": 88}, \"14\": {\"14\": 40}, \"38\": {\"38\": 28}, \"53\": {\"53\": 140}, \"20\": {\"20\": 132}, \"32\": {\"32\": 28}, \"36\": {\"36\": 100}, \"33\": {\"33\": 28}, \"56\": {\"56\": 136}, \"23\": {\"23\": 130}, \"54\": {\"54\": 100}, \"21\": {\"21\": 126}, \"28\": {\"28\": 28}, \"26\": {\"26\": 24}, \"48\": {\"48\": 116}, \"52\": {\"52\": 118}, \"39\": {\"39\": 16}, \"22\": {\"22\": 140}, \"13\": {\"13\": 128}, \"2\": {\"2\": 32}, \"34\": {\"34\": 32}, \"27\": {\"27\": 132}, \"45\": {\"45\": 60}, \"35\": {\"35\": 28}, \"29\": {\"29\": 128}, \"25\": {\"25\": 144}, \"0\": {\"0\": 124}, \"41\": {\"41\": 28}, \"11\": {\"11\": 142}, \"5\": {\"5\": 108}, \"1\": {\"1\": 100}, \"57\": {\"57\": 116}, \"17\": {\"17\": 106, \"26\": 1, \"56\": 1}, \"7\": {\"7\": 36}, \"12\": {\"12\": 92}, \"47\": {\"47\": 92}, \"40\": {\"40\": 136}, \"15\": {\"15\": 141, \"11\": 1}, \"42\": {\"42\": 28}, \"55\": {\"55\": 150}, \"49\": {\"49\": 20}, \"30\": {\"30\": 119, \"52\": 1}, \"50\": {\"50\": 134}, \"4\": {\"4\": 136}}, \"C_4\": {\"35\": {\"35\": 40}, \"25\": {\"25\": 134}, \"24\": {\"24\": 56}, \"48\": {\"48\": 138}, \"51\": {\"51\": 144}, \"13\": {\"13\": 120}, \"14\": {\"14\": 16}, \"32\": {\"32\": 24}, \"30\": {\"30\": 44}, \"34\": {\"34\": 24}, \"9\": {\"9\": 136}, \"1\": {\"1\": 40}, \"0\": {\"0\": 80}, \"38\": {\"38\": 40}, \"22\": {\"22\": 128}, \"40\": {\"40\": 120}, \"6\": {\"6\": 111, \"3\": 1}, \"16\": {\"16\": 96}, \"11\": {\"11\": 104}, \"20\": {\"20\": 122}, \"17\": {\"17\": 80}, \"26\": {\"26\": 24}, \"54\": {\"54\": 108}, \"55\": {\"55\": 154}, \"50\": {\"50\": 129, \"15\": 1, \"3\": 2}, \"19\": {\"19\": 142}, \"44\": {\"44\": 122}, \"47\": {\"47\": 120}, \"33\": {\"33\": 36}, \"5\": {\"5\": 108}, \"18\": {\"18\": 108}, \"21\": {\"21\": 124}, \"41\": {\"41\": 36}, \"23\": {\"23\": 128}, \"39\": {\"39\": 20}, \"37\": {\"37\": 24}, \"8\": {\"8\": 144}, \"49\": {\"49\": 20}, \"53\": {\"53\": 140}, \"31\": {\"31\": 28}, \"28\": {\"28\": 32}, \"3\": {\"3\": 124}, \"27\": {\"27\": 138}, \"46\": {\"46\": 126, \"22\": 2}, \"12\": {\"12\": 92}, \"7\": {\"7\": 24}, \"4\": {\"4\": 132}, \"42\": {\"42\": 32}, \"43\": {\"43\": 130}, \"29\": {\"29\": 120}, \"57\": {\"57\": 100}, \"52\": {\"52\": 104}, \"45\": {\"45\": 96}, \"36\": {\"36\": 92}, \"10\": {\"10\": 126}, \"15\": {\"15\": 134}, \"56\": {\"56\": 124}, \"2\": {\"2\": 36}}, \"C_5\": {\"47\": {\"47\": 100}, \"53\": {\"53\": 150}, \"29\": {\"29\": 126}, \"52\": {\"52\": 130}, \"55\": {\"55\": 144}, \"17\": {\"17\": 116}, \"42\": {\"42\": 40}, \"33\": {\"33\": 32}, \"11\": {\"11\": 148}, \"19\": {\"19\": 118}, \"1\": {\"1\": 144}, \"44\": {\"44\": 142}, \"49\": {\"49\": 36}, \"4\": {\"4\": 100}, \"6\": {\"6\": 116}, \"39\": {\"39\": 20}, \"50\": {\"50\": 148}, \"56\": {\"56\": 130}, \"25\": {\"25\": 144}, \"28\": {\"28\": 32}, \"35\": {\"35\": 36}, \"24\": {\"24\": 80}, \"21\": {\"21\": 132}, \"45\": {\"45\": 124}, \"16\": {\"16\": 143, \"11\": 1}, \"37\": {\"37\": 24}, \"57\": {\"57\": 132}, \"34\": {\"34\": 36}, \"38\": {\"38\": 32}, \"48\": {\"48\": 130}, \"26\": {\"26\": 24}, \"9\": {\"9\": 152}, \"18\": {\"18\": 64}, \"3\": {\"3\": 100}, \"23\": {\"23\": 124}, \"15\": {\"15\": 154}, \"10\": {\"10\": 68}, \"46\": {\"46\": 148}, \"22\": {\"22\": 28}, \"54\": {\"54\": 112}, \"27\": {\"27\": 160}, \"41\": {\"41\": 28}, \"31\": {\"31\": 35, \"16\": 1}, \"0\": {\"0\": 124}, \"7\": {\"7\": 32}, \"2\": {\"2\": 28}, \"14\": {\"14\": 44}, \"40\": {\"40\": 124}, \"5\": {\"5\": 128}, \"12\": {\"12\": 96}, \"43\": {\"43\": 142}, \"13\": {\"13\": 148}, \"36\": {\"36\": 92}, \"8\": {\"8\": 150}, \"32\": {\"32\": 32}, \"30\": {\"30\": 128}, \"51\": {\"51\": 138}, \"20\": {\"20\": 138}}, \"C_1\": {\"46\": {\"46\": 140}, \"16\": {\"16\": 134}, \"26\": {\"26\": 24}, \"10\": {\"10\": 96}, \"9\": {\"9\": 156}, \"28\": {\"28\": 28}, \"51\": {\"51\": 156}, \"1\": {\"1\": 100}, \"55\": {\"55\": 148}, \"27\": {\"27\": 124}, \"22\": {\"22\": 121, \"21\": 3}, \"52\": {\"52\": 126}, \"3\": {\"3\": 140}, \"33\": {\"33\": 32}, \"47\": {\"47\": 120}, \"42\": {\"42\": 40}, \"12\": {\"12\": 116}, \"23\": {\"23\": 132}, \"49\": {\"49\": 32}, \"7\": {\"7\": 28}, \"4\": {\"4\": 132}, \"50\": {\"50\": 134}, \"19\": {\"19\": 154}, \"11\": {\"11\": 140}, \"31\": {\"31\": 28}, \"41\": {\"41\": 23, \"51\": 1}, \"56\": {\"56\": 138}, \"0\": {\"0\": 148}, \"57\": {\"57\": 128}, \"53\": {\"53\": 140}, \"43\": {\"43\": 144}, \"37\": {\"37\": 32}, \"2\": {\"2\": 36}, \"6\": {\"6\": 96}, \"13\": {\"13\": 150}, \"18\": {\"18\": 72}, \"36\": {\"36\": 64}, \"29\": {\"29\": 140}, \"39\": {\"39\": 28}, \"17\": {\"17\": 64}, \"21\": {\"21\": 124}, \"25\": {\"25\": 132}, \"45\": {\"45\": 142}, \"38\": {\"38\": 23, \"21\": 1}, \"30\": {\"30\": 120}, \"24\": {\"24\": 108}, \"20\": {\"20\": 140}, \"8\": {\"8\": 140}, \"35\": {\"35\": 36}, \"54\": {\"54\": 104}, \"5\": {\"5\": 148}, \"48\": {\"48\": 144}, \"15\": {\"15\": 142}, \"34\": {\"34\": 23, \"33\": 1}, \"14\": {\"14\": 24}, \"32\": {\"32\": 32}, \"40\": {\"40\": 148}, \"44\": {\"44\": 136}}, \"C_2\": {\"36\": {\"36\": 116}, \"5\": {\"5\": 120}, \"45\": {\"45\": 128}, \"49\": {\"49\": 24}, \"50\": {\"50\": 136}, \"4\": {\"4\": 138}, \"43\": {\"43\": 148}, \"41\": {\"41\": 19, \"9\": 1}, \"37\": {\"37\": 36}, \"12\": {\"12\": 92}, \"33\": {\"33\": 28}, \"7\": {\"7\": 36}, \"56\": {\"56\": 140}, \"14\": {\"14\": 24}, \"52\": {\"52\": 124}, \"44\": {\"44\": 96}, \"48\": {\"48\": 144}, \"20\": {\"20\": 128}, \"55\": {\"55\": 144}, \"32\": {\"32\": 27, \"41\": 1}, \"40\": {\"40\": 136}, \"54\": {\"54\": 108}, \"17\": {\"17\": 104}, \"38\": {\"38\": 20}, \"24\": {\"24\": 96}, \"1\": {\"1\": 112}, \"6\": {\"6\": 124}, \"34\": {\"34\": 28}, \"11\": {\"11\": 136}, \"9\": {\"9\": 150}, \"8\": {\"8\": 152}, \"22\": {\"22\": 136}, \"26\": {\"26\": 24}, \"23\": {\"23\": 146}, \"10\": {\"10\": 112}, \"18\": {\"18\": 48}, \"13\": {\"13\": 116}, \"30\": {\"30\": 128}, \"42\": {\"42\": 36}, \"31\": {\"31\": 28}, \"46\": {\"46\": 128}, \"57\": {\"57\": 142}, \"47\": {\"47\": 138}, \"35\": {\"35\": 32}, \"15\": {\"15\": 131, \"11\": 1}, \"25\": {\"25\": 136}, \"19\": {\"19\": 136}, \"51\": {\"51\": 128}, \"53\": {\"53\": 134}, \"21\": {\"21\": 120}, \"39\": {\"39\": 28}, \"2\": {\"2\": 32}, \"16\": {\"16\": 150}, \"0\": {\"0\": 48}, \"3\": {\"3\": 92}, \"27\": {\"27\": 142}, \"28\": {\"28\": 28}, \"29\": {\"29\": 128}}, \"O_14\": {\"15\": {\"15\": 240}, \"3\": {\"6\": 33, \"3\": 114, \"14\": 19, \"13\": 15, \"7\": 11, \"2\": 5, \"0\": 34, \"5\": 7, \"8\": 2}, \"6\": {\"14\": 24, \"6\": 113, \"13\": 71, \"2\": 7, \"3\": 22, \"0\": 1, \"7\": 2}, \"1\": {\"1\": 233, \"4\": 2, \"9\": 3, \"10\": 2}, \"8\": {\"8\": 198, \"12\": 8, \"5\": 11, \"0\": 17, \"2\": 1, \"4\": 2, \"3\": 1, \"9\": 1, \"7\": 1}, \"10\": {\"10\": 182, \"0\": 5, \"9\": 10, \"4\": 41, \"2\": 1, \"5\": 1}, \"9\": {\"9\": 221, \"1\": 6, \"10\": 10, \"12\": 3}, \"13\": {\"13\": 49, \"4\": 11, \"0\": 11, \"6\": 75, \"14\": 27, \"3\": 9, \"15\": 21, \"2\": 25, \"5\": 8, \"10\": 3, \"7\": 1}, \"12\": {\"12\": 233, \"0\": 1, \"8\": 5, \"10\": 1}, \"5\": {\"8\": 8, \"5\": 105, \"7\": 24, \"14\": 13, \"4\": 31, \"2\": 44, \"3\": 3, \"13\": 2, \"0\": 10}, \"0\": {\"0\": 129, \"4\": 4, \"3\": 48, \"5\": 17, \"2\": 7, \"8\": 9, \"6\": 2, \"14\": 14, \"13\": 3, \"10\": 2, \"7\": 2, \"12\": 3}, \"2\": {\"4\": 23, \"2\": 59, \"5\": 59, \"3\": 11, \"6\": 19, \"14\": 42, \"13\": 12, \"7\": 10, \"0\": 4, \"8\": 1}, \"11\": {\"11\": 234, \"1\": 4, \"9\": 2}, \"14\": {\"2\": 29, \"13\": 32, \"6\": 33, \"14\": 90, \"0\": 7, \"5\": 17, \"3\": 22, \"7\": 10}, \"7\": {\"7\": 156, \"14\": 8, \"5\": 37, \"3\": 14, \"8\": 6, \"2\": 16, \"6\": 1, \"4\": 1, \"13\": 1}, \"4\": {\"5\": 34, \"10\": 15, \"4\": 165, \"14\": 3, \"2\": 14, \"1\": 5, \"0\": 2, \"8\": 2}}, \"O_20\": {\"3\": {\"5\": 42, \"6\": 1, \"8\": 25, \"3\": 58, \"9\": 47, \"14\": 11, \"0\": 20, \"1\": 19, \"2\": 3, \"7\": 10, \"12\": 1, \"15\": 1, \"13\": 1, \"4\": 1}, \"15\": {\"13\": 33, \"12\": 39, \"15\": 69, \"2\": 27, \"1\": 27, \"3\": 6, \"5\": 16, \"4\": 4, \"7\": 6, \"9\": 13}, \"8\": {\"14\": 55, \"8\": 103, \"7\": 14, \"3\": 30, \"6\": 6, \"5\": 10, \"0\": 16, \"9\": 5, \"11\": 1}, \"4\": {\"10\": 31, \"4\": 101, \"12\": 29, \"5\": 5, \"8\": 1, \"6\": 10, \"9\": 4, \"2\": 26, \"3\": 7, \"1\": 7, \"7\": 11, \"13\": 5, \"14\": 3}, \"14\": {\"14\": 125, \"6\": 27, \"8\": 68, \"3\": 6, \"7\": 10, \"5\": 3, \"0\": 1}, \"0\": {\"0\": 176, \"11\": 20, \"14\": 2, \"5\": 10, \"3\": 9, \"9\": 5, \"1\": 7, \"8\": 11}, \"7\": {\"9\": 13, \"10\": 1, \"8\": 10, \"5\": 15, \"2\": 40, \"1\": 6, \"6\": 26, \"7\": 65, \"4\": 15, \"13\": 12, \"15\": 8, \"3\": 17, \"14\": 5, \"12\": 7}, \"6\": {\"6\": 149, \"9\": 2, \"7\": 38, \"14\": 27, \"8\": 3, \"10\": 1, \"2\": 6, \"3\": 3, \"13\": 3, \"4\": 7, \"12\": 1}, \"10\": {\"13\": 12, \"10\": 146, \"4\": 56, \"2\": 12, \"12\": 8, \"6\": 3, \"7\": 3}, \"5\": {\"9\": 34, \"1\": 54, \"5\": 49, \"2\": 10, \"3\": 50, \"8\": 10, \"12\": 5, \"15\": 11, \"7\": 10, \"0\": 4, \"13\": 2, \"4\": 1}, \"2\": {\"13\": 55, \"4\": 19, \"2\": 51, \"7\": 24, \"1\": 11, \"12\": 28, \"9\": 13, \"15\": 22, \"10\": 1, \"5\": 7, \"6\": 8, \"3\": 1}, \"12\": {\"7\": 7, \"12\": 56, \"2\": 39, \"1\": 21, \"15\": 34, \"10\": 2, \"13\": 31, \"4\": 24, \"9\": 12, \"5\": 8, \"3\": 5, \"6\": 1}, \"9\": {\"9\": 43, \"13\": 6, \"5\": 35, \"15\": 18, \"7\": 21, \"2\": 21, \"3\": 37, \"1\": 29, \"6\": 3, \"8\": 10, \"12\": 8, \"4\": 7, \"14\": 1, \"0\": 1}, \"1\": {\"9\": 27, \"15\": 39, \"1\": 60, \"5\": 45, \"7\": 5, \"2\": 10, \"13\": 6, \"3\": 28, \"12\": 17, \"8\": 1, \"14\": 1, \"0\": 1}, \"11\": {\"11\": 210, \"0\": 26, \"9\": 1, \"8\": 3}, \"13\": {\"13\": 140, \"2\": 37, \"7\": 9, \"1\": 2, \"15\": 24, \"4\": 7, \"9\": 3, \"12\": 15, \"6\": 2, \"3\": 1}}, \"O_38\": {\"5\": {\"8\": 80, \"9\": 41, \"5\": 64, \"15\": 35, \"7\": 11, \"12\": 3, \"2\": 5, \"6\": 1}, \"8\": {\"8\": 87, \"9\": 25, \"15\": 28, \"7\": 19, \"5\": 59, \"14\": 4, \"2\": 12, \"12\": 5, \"0\": 1}, \"11\": {\"11\": 240}, \"1\": {\"6\": 54, \"1\": 184, \"15\": 2}, \"10\": {\"0\": 33, \"10\": 161, \"13\": 16, \"3\": 20, \"4\": 7, \"14\": 2, \"11\": 1}, \"15\": {\"5\": 22, \"15\": 188, \"9\": 4, \"1\": 9, \"8\": 16, \"6\": 1}, \"3\": {\"3\": 231, \"10\": 8, \"11\": 1}, \"7\": {\"8\": 22, \"7\": 168, \"0\": 11, \"5\": 11, \"14\": 15, \"9\": 8, \"2\": 3, \"12\": 2}, \"4\": {\"10\": 11, \"4\": 220, \"0\": 9}, \"14\": {\"2\": 28, \"14\": 159, \"8\": 6, \"0\": 8, \"13\": 28, \"7\": 10, \"10\": 1}, \"9\": {\"9\": 156, \"2\": 6, \"8\": 25, \"5\": 42, \"7\": 8, \"15\": 2, \"0\": 1}, \"12\": {\"12\": 215, \"5\": 9, \"8\": 14, \"7\": 2}, \"6\": {\"1\": 63, \"6\": 174, \"15\": 3}, \"2\": {\"14\": 37, \"2\": 171, \"9\": 11, \"8\": 6, \"7\": 2, \"13\": 12, \"5\": 1}, \"0\": {\"7\": 36, \"0\": 102, \"13\": 20, \"14\": 10, \"10\": 52, \"3\": 13, \"4\": 2, \"2\": 4, \"8\": 1}, \"13\": {\"13\": 168, \"14\": 13, \"10\": 13, \"0\": 22, \"2\": 23, \"7\": 1}}, \"O_8\": {\"9\": {\"9\": 240}, \"10\": {\"13\": 48, \"10\": 70, \"6\": 20, \"1\": 28, \"5\": 45, \"4\": 15, \"7\": 10, \"11\": 3, \"14\": 1}, \"13\": {\"10\": 57, \"13\": 83, \"6\": 29, \"7\": 44, \"5\": 20, \"1\": 6, \"4\": 1}, \"0\": {\"0\": 240}, \"1\": {\"11\": 44, \"4\": 11, \"8\": 8, \"7\": 4, \"1\": 91, \"5\": 35, \"14\": 1, \"6\": 15, \"10\": 22, \"13\": 9}, \"15\": {\"15\": 146, \"2\": 38, \"12\": 53, \"3\": 3}, \"5\": {\"5\": 114, \"13\": 16, \"10\": 48, \"1\": 41, \"11\": 9, \"6\": 5, \"4\": 6, \"15\": 1}, \"3\": {\"2\": 15, \"3\": 225}, \"6\": {\"6\": 96, \"7\": 44, \"11\": 9, \"1\": 23, \"4\": 25, \"10\": 18, \"13\": 15, \"5\": 2, \"8\": 8}, \"11\": {\"10\": 7, \"11\": 88, \"1\": 56, \"4\": 20, \"8\": 31, \"6\": 14, \"5\": 11, \"14\": 9, \"7\": 4}, \"8\": {\"8\": 148, \"4\": 26, \"11\": 30, \"1\": 17, \"14\": 4, \"7\": 3, \"10\": 1, \"6\": 11}, \"4\": {\"4\": 127, \"11\": 23, \"6\": 14, \"1\": 15, \"14\": 35, \"8\": 17, \"7\": 1, \"5\": 5, \"10\": 3}, \"12\": {\"12\": 160, \"15\": 67, \"2\": 13}, \"14\": {\"14\": 181, \"11\": 8, \"4\": 42, \"1\": 2, \"5\": 2, \"8\": 4, \"0\": 1}, \"2\": {\"3\": 42, \"12\": 14, \"2\": 138, \"15\": 45, \"13\": 1}, \"7\": {\"7\": 97, \"6\": 75, \"10\": 15, \"13\": 37, \"5\": 2, \"4\": 10, \"1\": 3, \"8\": 1}}, \"O_50\": {\"7\": {\"7\": 154, \"4\": 66, \"5\": 19, \"6\": 1}, \"3\": {\"3\": 217, \"5\": 11, \"8\": 2, \"11\": 1, \"6\": 6, \"13\": 2, \"7\": 1}, \"8\": {\"8\": 186, \"10\": 39, \"13\": 7, \"1\": 5, \"0\": 3}, \"2\": {\"2\": 170, \"0\": 51, \"14\": 19}, \"14\": {\"14\": 187, \"2\": 34, \"0\": 19}, \"4\": {\"4\": 131, \"5\": 23, \"7\": 69, \"6\": 7, \"15\": 9, \"9\": 1}, \"6\": {\"6\": 98, \"15\": 55, \"11\": 13, \"9\": 34, \"5\": 29, \"4\": 4, \"3\": 3, \"12\": 4}, \"15\": {\"15\": 108, \"6\": 68, \"11\": 6, \"9\": 35, \"4\": 4, \"5\": 19}, \"10\": {\"8\": 34, \"0\": 41, \"10\": 163, \"1\": 2}, \"11\": {\"6\": 11, \"11\": 120, \"9\": 36, \"12\": 46, \"15\": 21, \"1\": 2, \"5\": 1, \"13\": 3}, \"13\": {\"6\": 2, \"13\": 191, \"11\": 13, \"1\": 29, \"3\": 2, \"5\": 1, \"12\": 1, \"15\": 1}, \"9\": {\"6\": 24, \"9\": 104, \"12\": 31, \"15\": 43, \"11\": 36, \"4\": 2}, \"0\": {\"0\": 149, \"10\": 46, \"14\": 6, \"2\": 38, \"8\": 1}, \"1\": {\"1\": 163, \"13\": 46, \"11\": 6, \"10\": 16, \"8\": 6, \"0\": 3}, \"12\": {\"12\": 174, \"11\": 35, \"9\": 26, \"15\": 1, \"1\": 3, \"6\": 1}, \"5\": {\"4\": 37, \"15\": 11, \"5\": 84, \"6\": 36, \"13\": 8, \"7\": 47, \"9\": 5, \"11\": 9, \"12\": 2, \"1\": 1}}, \"O_32\": {\"8\": {\"2\": 4, \"14\": 22, \"15\": 5, \"8\": 94, \"0\": 44, \"4\": 4, \"7\": 23, \"3\": 2, \"5\": 42}, \"14\": {\"5\": 15, \"0\": 40, \"2\": 31, \"14\": 87, \"13\": 2, \"8\": 17, \"7\": 37, \"4\": 11}, \"2\": {\"4\": 74, \"2\": 133, \"13\": 1, \"14\": 23, \"8\": 4, \"3\": 2, \"7\": 1, \"9\": 1, \"0\": 1}, \"0\": {\"5\": 41, \"7\": 61, \"0\": 72, \"14\": 40, \"8\": 25, \"2\": 1}, \"1\": {\"1\": 240}, \"10\": {\"10\": 234, \"6\": 3, \"12\": 3}, \"11\": {\"11\": 217, \"13\": 16, \"4\": 3, \"9\": 3, \"3\": 1}, \"5\": {\"0\": 40, \"5\": 90, \"15\": 1, \"7\": 52, \"8\": 27, \"14\": 27, \"2\": 3}, \"15\": {\"15\": 222, \"7\": 2, \"5\": 13, \"8\": 2, \"0\": 1}, \"3\": {\"13\": 65, \"3\": 159, \"5\": 1, \"4\": 12, \"11\": 2, \"8\": 1}, \"12\": {\"12\": 223, \"10\": 2, \"9\": 15}, \"7\": {\"14\": 45, \"7\": 82, \"0\": 58, \"5\": 35, \"8\": 16, \"2\": 3, \"4\": 1}, \"13\": {\"3\": 60, \"13\": 97, \"4\": 41, \"11\": 25, \"2\": 11, \"9\": 4, \"14\": 1, \"8\": 1}, \"6\": {\"6\": 239, \"10\": 1}, \"4\": {\"2\": 63, \"4\": 105, \"14\": 9, \"13\": 35, \"3\": 17, \"7\": 1, \"8\": 5, \"0\": 1, \"9\": 3, \"11\": 1}, \"9\": {\"9\": 152, \"12\": 43, \"2\": 19, \"13\": 4, \"11\": 9, \"4\": 12, \"14\": 1}}, \"O_26\": {\"4\": {\"4\": 203, \"3\": 20, \"13\": 12, \"7\": 2, \"9\": 3}, \"12\": {\"12\": 191, \"13\": 19, \"8\": 9, \"9\": 21}, \"10\": {\"10\": 53, \"14\": 55, \"15\": 30, \"5\": 14, \"6\": 25, \"1\": 19, \"0\": 41, \"9\": 1, \"8\": 1, \"2\": 1}, \"0\": {\"7\": 8, \"0\": 77, \"14\": 42, \"2\": 21, \"8\": 18, \"10\": 47, \"15\": 8, \"6\": 6, \"12\": 1, \"5\": 4, \"1\": 4, \"9\": 4}, \"13\": {\"8\": 10, \"13\": 136, \"9\": 27, \"3\": 17, \"4\": 14, \"7\": 10, \"12\": 17, \"2\": 7, \"15\": 2}, \"9\": {\"8\": 52, \"3\": 24, \"9\": 57, \"13\": 30, \"7\": 30, \"2\": 36, \"12\": 2, \"0\": 5, \"10\": 2, \"4\": 1, \"14\": 1}, \"3\": {\"4\": 16, \"8\": 30, \"3\": 101, \"7\": 48, \"9\": 21, \"2\": 13, \"13\": 11}, \"2\": {\"7\": 54, \"0\": 22, \"8\": 49, \"2\": 55, \"9\": 33, \"13\": 3, \"3\": 16, \"10\": 4, \"15\": 2, \"14\": 1, \"5\": 1}, \"5\": {\"6\": 63, \"5\": 88, \"1\": 11, \"10\": 4, \"14\": 8, \"15\": 62, \"0\": 2, \"9\": 1, \"11\": 1}, \"14\": {\"14\": 59, \"0\": 47, \"1\": 39, \"6\": 22, \"10\": 48, \"5\": 11, \"15\": 11, \"2\": 3}, \"8\": {\"3\": 10, \"7\": 46, \"0\": 20, \"8\": 59, \"9\": 45, \"2\": 43, \"13\": 11, \"14\": 3, \"12\": 1, \"10\": 2}, \"7\": {\"3\": 45, \"7\": 53, \"8\": 62, \"2\": 41, \"0\": 4, \"9\": 24, \"13\": 10, \"14\": 1}, \"6\": {\"1\": 31, \"6\": 74, \"10\": 24, \"14\": 18, \"5\": 46, \"15\": 46, \"0\": 1}, \"11\": {\"11\": 234, \"6\": 2, \"15\": 1, \"5\": 3}, \"15\": {\"10\": 28, \"6\": 44, \"15\": 69, \"0\": 15, \"5\": 50, \"14\": 11, \"1\": 15, \"9\": 1, \"2\": 5, \"8\": 2}, \"1\": {\"1\": 151, \"15\": 5, \"6\": 27, \"14\": 35, \"0\": 7, \"10\": 8, \"5\": 7}}, \"O_44\": {\"12\": {\"12\": 163, \"3\": 77}, \"7\": {\"10\": 56, \"7\": 108, \"9\": 55, \"4\": 9, \"6\": 8, \"2\": 2, \"14\": 2}, \"5\": {\"14\": 66, \"5\": 102, \"15\": 48, \"8\": 5, \"4\": 18, \"7\": 1}, \"15\": {\"14\": 22, \"5\": 37, \"4\": 8, \"15\": 129, \"8\": 34, \"0\": 10}, \"8\": {\"0\": 80, \"8\": 119, \"15\": 35, \"5\": 4, \"14\": 2}, \"2\": {\"2\": 161, \"1\": 44, \"10\": 29, \"9\": 3, \"7\": 3}, \"13\": {\"6\": 73, \"13\": 147, \"11\": 1, \"9\": 19}, \"4\": {\"4\": 93, \"9\": 22, \"14\": 67, \"15\": 14, \"7\": 13, \"5\": 23, \"2\": 3, \"13\": 1, \"1\": 3, \"10\": 1}, \"0\": {\"8\": 67, \"0\": 164, \"15\": 9}, \"6\": {\"6\": 138, \"9\": 27, \"13\": 69, \"7\": 6}, \"9\": {\"7\": 75, \"10\": 23, \"6\": 37, \"13\": 26, \"9\": 58, \"4\": 9, \"14\": 6, \"2\": 6}, \"11\": {\"11\": 238, \"13\": 2}, \"10\": {\"2\": 28, \"7\": 63, \"9\": 24, \"10\": 108, \"14\": 6, \"1\": 6, \"4\": 3, \"6\": 2}, \"14\": {\"4\": 75, \"5\": 50, \"14\": 83, \"15\": 21, \"10\": 1, \"7\": 4, \"9\": 6}, \"1\": {\"1\": 185, \"3\": 4, \"2\": 49, \"0\": 1, \"10\": 1}, \"3\": {\"3\": 155, \"12\": 82, \"1\": 3}}}, \"per_domain_accuracy\": {\"C_3\": {\"accuracy\": 0.9992732558139535, \"source?\": true}, \"C_4\": {\"accuracy\": 0.9988636363636364, \"source?\": true}, \"C_5\": {\"accuracy\": 0.9996508379888268, \"source?\": true}, \"C_1\": {\"accuracy\": 0.9989754098360656, \"source?\": true}, \"C_2\": {\"accuracy\": 0.9994703389830508, \"source?\": true}, \"O_14\": {\"accuracy\": 0.6565104166666667, \"source?\": false}, \"O_20\": {\"accuracy\": 0.41692708333333334, \"source?\": false}, \"O_38\": {\"accuracy\": 0.7, \"source?\": false}, \"O_8\": {\"accuracy\": 0.584375, \"source?\": false}, \"O_50\": {\"accuracy\": 0.6247395833333333, \"source?\": false}, \"O_32\": {\"accuracy\": 0.6369791666666667, \"source?\": false}, \"O_26\": {\"accuracy\": 0.4322916666666667, \"source?\": false}, \"O_44\": {\"accuracy\": 0.56015625, \"source?\": false}}}, \"history\": {\"epoch_indices\": [1, 2, 3, 4, 5, 6, 7, 8, 9], \"train_label_loss\": [0.030297575784078677, 0.010682493496348627, 0.009870360116416163, 0.007085434562980024, 0.004996085167489505, 0.004867785879325939, 0.005270116711260556, 0.004397097545705686, 0.0034584031615982626], \"source_val_label_loss\": [0.00873385276645422, 0.02873036451637745, 0.009202828630805016, 0.010007442906498909, 0.01049216091632843, 0.028676507994532585, 0.01425224356353283, 0.019761087372899055, 0.016985738649964333], \"target_val_label_loss\": [2.0856692790985107, 1.750037431716919, 2.002890110015869, 1.7097662687301636, 1.5634554624557495, 2.030611753463745, 1.8550832271575928, 1.495822548866272, 1.5380446910858154], \"source_val_acc_label\": [0.9986800799086758, 0.996218607305936, 0.998644406392694, 0.9992151826484018, 0.9992508561643836, 0.9954694634703196, 0.9991081621004566, 0.9986087328767124, 0.998929794520548], \"target_val_acc_label\": [0.48805338541666665, 0.5186848958333333, 0.4064453125, 0.54208984375, 0.5764973958333334, 0.4158854166666667, 0.43505859375, 0.5676432291666667, 0.5009114583333333]}, \"dataset_metrics\": {\"source\": {\"train\": {\"n_unique_x\": 175135, \"n_unique_y\": 58, \"n_batch/episode\": 6284}, \"val\": {\"n_unique_x\": 37196, \"n_unique_y\": 58, \"n_batch/episode\": 876}, \"test\": {\"n_unique_x\": 37634, \"n_unique_y\": 58, \"n_batch/episode\": 891}}, \"target\": {\"train\": {\"n_unique_x\": 179200, \"n_unique_y\": 16, \"n_batch/episode\": 6720}, \"val\": {\"n_unique_x\": 38400, \"n_unique_y\": 16, \"n_batch/episode\": 960}, \"test\": {\"n_unique_x\": 38400, \"n_unique_y\": 16, \"n_batch/episode\": 960}}}}'"
      ]
     },
     "execution_count": 29,
     "metadata": {},
     "output_type": "execute_result"
    }
   ],
   "source": [
    "json.dumps(experiment)"
   ]
  }
 ],
 "metadata": {
  "celltoolbar": "Tags",
  "kernelspec": {
   "display_name": "Python 3 (ipykernel)",
   "language": "python",
   "name": "python3"
  },
  "language_info": {
   "codemirror_mode": {
    "name": "ipython",
    "version": 3
   },
   "file_extension": ".py",
   "mimetype": "text/x-python",
   "name": "python",
   "nbconvert_exporter": "python",
   "pygments_lexer": "ipython3",
   "version": "3.8.10"
  },
  "papermill": {
   "default_parameters": {},
   "duration": 1489.60047,
   "end_time": "2022-03-25T03:09:02.406736",
   "environment_variables": {},
   "exception": null,
   "input_path": "/mnt/wd500GB/CSC500/csc500-main/csc500-notebooks/templates/tl_ptn_template.ipynb",
   "output_path": "trial.ipynb",
   "parameters": {
    "parameters": {
     "BEST_MODEL_PATH": "./best_model.pth",
     "NUM_LOGS_PER_EPOCH": 10,
     "criteria_for_best": "target_accuracy",
     "dataset_seed": 1337,
     "datasets": [
      {
       "domain_prefix": "C_",
       "domains": [
        1,
        2,
        3,
        4,
        5
       ],
       "episode_transforms": [],
       "labels": [
        "1-10.",
        "1-11.",
        "1-15.",
        "1-16.",
        "1-17.",
        "1-18.",
        "1-19.",
        "10-4.",
        "10-7.",
        "11-1.",
        "11-14.",
        "11-17.",
        "11-20.",
        "11-7.",
        "13-20.",
        "13-8.",
        "14-10.",
        "14-11.",
        "14-14.",
        "14-7.",
        "15-1.",
        "15-20.",
        "16-1.",
        "16-16.",
        "17-10.",
        "17-11.",
        "17-2.",
        "19-1.",
        "19-16.",
        "19-19.",
        "19-20.",
        "19-3.",
        "2-10.",
        "2-11.",
        "2-17.",
        "2-18.",
        "2-20.",
        "2-3.",
        "2-4.",
        "2-5.",
        "2-6.",
        "2-7.",
        "2-8.",
        "3-13.",
        "3-18.",
        "3-3.",
        "4-1.",
        "4-10.",
        "4-11.",
        "4-19.",
        "5-5.",
        "6-15.",
        "7-10.",
        "7-14.",
        "8-18.",
        "8-20.",
        "8-3.",
        "8-8."
       ],
       "num_examples_per_domain_per_label": -1,
       "pickle_path": "/mnt/wd500GB/CSC500/csc500-main/datasets/cores.stratified_ds.2022A.pkl",
       "source_or_target_dataset": "source",
       "x_transforms": [
        "take_200"
       ]
      },
      {
       "domain_prefix": "O_",
       "domains": [
        32,
        38,
        8,
        44,
        14,
        50,
        20,
        26
       ],
       "episode_transforms": [],
       "labels": [
        "3123D52",
        "3123D65",
        "3123D79",
        "3123D80",
        "3123D54",
        "3123D70",
        "3123D7B",
        "3123D89",
        "3123D58",
        "3123D76",
        "3123D7D",
        "3123EFE",
        "3123D64",
        "3123D78",
        "3123D7E",
        "3124E4A"
       ],
       "num_examples_per_domain_per_label": 2000,
       "pickle_path": "/mnt/wd500GB/CSC500/csc500-main/datasets/oracle.Run1_framed_2000Examples_stratified_ds.2022A.pkl",
       "source_or_target_dataset": "target",
       "x_transforms": [
        "take_200",
        "resample_20Msps_to_25Msps"
       ]
      }
     ],
     "device": "cuda",
     "experiment_name": "tl_3Av2:cores -> oracle.run1.framed",
     "lr": 0.0001,
     "n_epoch": 50,
     "n_query": 2,
     "n_shot": 3,
     "n_way": 16,
     "patience": 3,
     "seed": 1337,
     "test_k_factor": 2,
     "torch_default_dtype": "torch.float32",
     "train_k_factor": 3,
     "val_k_factor": 2,
     "x_net": [
      {
       "class": "nnReshape",
       "kargs": {
        "shape": [
         -1,
         1,
         2,
         200
        ]
       }
      },
      {
       "class": "Conv2d",
       "kargs": {
        "bias": false,
        "in_channels": 1,
        "kernel_size": [
         1,
         7
        ],
        "out_channels": 256,
        "padding": [
         0,
         3
        ]
       }
      },
      {
       "class": "ReLU",
       "kargs": {
        "inplace": true
       }
      },
      {
       "class": "BatchNorm2d",
       "kargs": {
        "num_features": 256
       }
      },
      {
       "class": "Conv2d",
       "kargs": {
        "bias": true,
        "in_channels": 256,
        "kernel_size": [
         2,
         7
        ],
        "out_channels": 80,
        "padding": [
         0,
         3
        ]
       }
      },
      {
       "class": "ReLU",
       "kargs": {
        "inplace": true
       }
      },
      {
       "class": "BatchNorm2d",
       "kargs": {
        "num_features": 80
       }
      },
      {
       "class": "Flatten",
       "kargs": {}
      },
      {
       "class": "Linear",
       "kargs": {
        "in_features": 16000,
        "out_features": 256
       }
      },
      {
       "class": "ReLU",
       "kargs": {
        "inplace": true
       }
      },
      {
       "class": "BatchNorm1d",
       "kargs": {
        "num_features": 256
       }
      },
      {
       "class": "Linear",
       "kargs": {
        "in_features": 256,
        "out_features": 256
       }
      }
     ],
     "x_shape": [
      2,
      200
     ]
    }
   },
   "start_time": "2022-03-25T02:44:12.806266",
   "version": "2.3.4"
  }
 },
 "nbformat": 4,
 "nbformat_minor": 5
}