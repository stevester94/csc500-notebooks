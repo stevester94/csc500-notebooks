{
 "cells": [
  {
   "cell_type": "markdown",
   "id": "9fea5f46",
   "metadata": {
    "papermill": {
     "duration": 0.017659,
     "end_time": "2022-03-25T04:22:52.710382",
     "exception": false,
     "start_time": "2022-03-25T04:22:52.692723",
     "status": "completed"
    },
    "tags": []
   },
   "source": [
    "# Transfer Learning Template"
   ]
  },
  {
   "cell_type": "code",
   "execution_count": 1,
   "id": "0902182a",
   "metadata": {
    "execution": {
     "iopub.execute_input": "2022-03-25T04:22:52.751043Z",
     "iopub.status.busy": "2022-03-25T04:22:52.750637Z",
     "iopub.status.idle": "2022-03-25T04:22:53.681061Z",
     "shell.execute_reply": "2022-03-25T04:22:53.680707Z"
    },
    "papermill": {
     "duration": 0.958254,
     "end_time": "2022-03-25T04:22:53.681144",
     "exception": false,
     "start_time": "2022-03-25T04:22:52.722890",
     "status": "completed"
    },
    "tags": []
   },
   "outputs": [],
   "source": [
    "%load_ext autoreload\n",
    "%autoreload 2\n",
    "%matplotlib inline\n",
    "\n",
    "    \n",
    "import os, json, sys, time, random\n",
    "import numpy as np\n",
    "import torch\n",
    "from torch.optim import Adam\n",
    "from  easydict import EasyDict\n",
    "import matplotlib.pyplot as plt\n",
    "\n",
    "from steves_models.steves_ptn import Steves_Prototypical_Network\n",
    "\n",
    "from steves_utils.lazy_iterable_wrapper import Lazy_Iterable_Wrapper\n",
    "from steves_utils.iterable_aggregator import Iterable_Aggregator\n",
    "from steves_utils.ptn_train_eval_test_jig import  PTN_Train_Eval_Test_Jig\n",
    "from steves_utils.torch_sequential_builder import build_sequential\n",
    "from steves_utils.torch_utils import get_dataset_metrics, ptn_confusion_by_domain_over_dataloader\n",
    "from steves_utils.utils_v2 import (per_domain_accuracy_from_confusion, get_datasets_base_path)\n",
    "from steves_utils.PTN.utils import independent_accuracy_assesment\n",
    "\n",
    "from torch.utils.data import DataLoader\n",
    "\n",
    "from steves_utils.stratified_dataset.episodic_accessor import Episodic_Accessor_Factory\n",
    "\n",
    "from steves_utils.ptn_do_report import (\n",
    "    get_loss_curve,\n",
    "    get_results_table,\n",
    "    get_parameters_table,\n",
    "    get_domain_accuracies,\n",
    ")\n",
    "\n",
    "from steves_utils.transforms import get_chained_transform"
   ]
  },
  {
   "cell_type": "markdown",
   "id": "41c840b4",
   "metadata": {
    "papermill": {
     "duration": 0.012571,
     "end_time": "2022-03-25T04:22:53.709792",
     "exception": false,
     "start_time": "2022-03-25T04:22:53.697221",
     "status": "completed"
    },
    "tags": []
   },
   "source": [
    "# Allowed Parameters\n",
    "These are allowed parameters, not defaults\n",
    "Each of these values need to be present in the injected parameters (the notebook will raise an exception if they are not present)\n",
    "\n",
    "Papermill uses the cell tag \"parameters\" to inject the real parameters below this cell.\n",
    "Enable tags to see what I mean"
   ]
  },
  {
   "cell_type": "code",
   "execution_count": 2,
   "id": "fd44eb83",
   "metadata": {
    "execution": {
     "iopub.execute_input": "2022-03-25T04:22:53.737161Z",
     "iopub.status.busy": "2022-03-25T04:22:53.736903Z",
     "iopub.status.idle": "2022-03-25T04:22:53.747000Z",
     "shell.execute_reply": "2022-03-25T04:22:53.747300Z"
    },
    "papermill": {
     "duration": 0.025013,
     "end_time": "2022-03-25T04:22:53.747383",
     "exception": false,
     "start_time": "2022-03-25T04:22:53.722370",
     "status": "completed"
    },
    "tags": []
   },
   "outputs": [],
   "source": [
    "required_parameters = {\n",
    "    \"experiment_name\",\n",
    "    \"lr\",\n",
    "    \"device\",\n",
    "    \"seed\",\n",
    "    \"dataset_seed\",\n",
    "    \"n_shot\",\n",
    "    \"n_query\",\n",
    "    \"n_way\",\n",
    "    \"train_k_factor\",\n",
    "    \"val_k_factor\",\n",
    "    \"test_k_factor\",\n",
    "    \"n_epoch\",\n",
    "    \"patience\",\n",
    "    \"criteria_for_best\",\n",
    "    \"x_net\",\n",
    "    \"datasets\",\n",
    "    \"torch_default_dtype\",\n",
    "    \"NUM_LOGS_PER_EPOCH\",\n",
    "    \"BEST_MODEL_PATH\",\n",
    "    \"x_shape\",\n",
    "}"
   ]
  },
  {
   "cell_type": "code",
   "execution_count": 3,
   "id": "fa3f0049",
   "metadata": {
    "execution": {
     "iopub.execute_input": "2022-03-25T04:22:53.785833Z",
     "iopub.status.busy": "2022-03-25T04:22:53.785444Z",
     "iopub.status.idle": "2022-03-25T04:22:53.797677Z",
     "shell.execute_reply": "2022-03-25T04:22:53.797380Z"
    },
    "papermill": {
     "duration": 0.03293,
     "end_time": "2022-03-25T04:22:53.797748",
     "exception": false,
     "start_time": "2022-03-25T04:22:53.764818",
     "status": "completed"
    },
    "tags": [
     "parameters"
    ]
   },
   "outputs": [],
   "source": [
    "from steves_utils.CORES.utils import (\n",
    "    ALL_NODES,\n",
    "    ALL_NODES_MINIMUM_1000_EXAMPLES,\n",
    "    ALL_DAYS\n",
    ")\n",
    "\n",
    "from steves_utils.ORACLE.utils_v2 import (\n",
    "    ALL_DISTANCES_FEET_NARROWED,\n",
    "    ALL_RUNS,\n",
    "    ALL_SERIAL_NUMBERS,\n",
    ")\n",
    "\n",
    "standalone_parameters = {}\n",
    "standalone_parameters[\"experiment_name\"] = \"STANDALONE PTN\"\n",
    "standalone_parameters[\"lr\"] = 0.001\n",
    "standalone_parameters[\"device\"] = \"cuda\"\n",
    "\n",
    "standalone_parameters[\"seed\"] = 1337\n",
    "standalone_parameters[\"dataset_seed\"] = 1337\n",
    "\n",
    "standalone_parameters[\"n_way\"] = 8\n",
    "standalone_parameters[\"n_shot\"] = 3\n",
    "standalone_parameters[\"n_query\"]  = 2\n",
    "standalone_parameters[\"train_k_factor\"] = 1\n",
    "standalone_parameters[\"val_k_factor\"] = 2\n",
    "standalone_parameters[\"test_k_factor\"] = 2\n",
    "\n",
    "\n",
    "standalone_parameters[\"n_epoch\"] = 50\n",
    "\n",
    "standalone_parameters[\"patience\"] = 10\n",
    "standalone_parameters[\"criteria_for_best\"] = \"source_loss\"\n",
    "\n",
    "standalone_parameters[\"datasets\"] = [\n",
    "    {\n",
    "        \"labels\": ALL_SERIAL_NUMBERS,\n",
    "        \"domains\": ALL_DISTANCES_FEET_NARROWED,\n",
    "        \"num_examples_per_domain_per_label\": 100,\n",
    "        \"pickle_path\": os.path.join(get_datasets_base_path(), \"oracle.Run1_framed_2000Examples_stratified_ds.2022A.pkl\"),\n",
    "        \"source_or_target_dataset\": \"source\",\n",
    "        \"x_transforms\": [\"unit_mag\", \"minus_two\"],\n",
    "        \"episode_transforms\": [],\n",
    "        \"domain_prefix\": \"ORACLE_\"\n",
    "    },\n",
    "    {\n",
    "        \"labels\": ALL_NODES,\n",
    "        \"domains\": ALL_DAYS,\n",
    "        \"num_examples_per_domain_per_label\": 100,\n",
    "        \"pickle_path\": os.path.join(get_datasets_base_path(), \"cores.stratified_ds.2022A.pkl\"),\n",
    "        \"source_or_target_dataset\": \"target\",\n",
    "        \"x_transforms\": [\"unit_power\", \"times_zero\"],\n",
    "        \"episode_transforms\": [],\n",
    "        \"domain_prefix\": \"CORES_\"\n",
    "    }   \n",
    "]\n",
    "\n",
    "standalone_parameters[\"torch_default_dtype\"] = \"torch.float32\" \n",
    "\n",
    "\n",
    "\n",
    "standalone_parameters[\"x_net\"] =     [\n",
    "    {\"class\": \"nnReshape\", \"kargs\": {\"shape\":[-1, 1, 2, 256]}},\n",
    "    {\"class\": \"Conv2d\", \"kargs\": { \"in_channels\":1, \"out_channels\":256, \"kernel_size\":(1,7), \"bias\":False, \"padding\":(0,3), },},\n",
    "    {\"class\": \"ReLU\", \"kargs\": {\"inplace\": True}},\n",
    "    {\"class\": \"BatchNorm2d\", \"kargs\": {\"num_features\":256}},\n",
    "\n",
    "    {\"class\": \"Conv2d\", \"kargs\": { \"in_channels\":256, \"out_channels\":80, \"kernel_size\":(2,7), \"bias\":True, \"padding\":(0,3), },},\n",
    "    {\"class\": \"ReLU\", \"kargs\": {\"inplace\": True}},\n",
    "    {\"class\": \"BatchNorm2d\", \"kargs\": {\"num_features\":80}},\n",
    "    {\"class\": \"Flatten\", \"kargs\": {}},\n",
    "\n",
    "    {\"class\": \"Linear\", \"kargs\": {\"in_features\": 80*256, \"out_features\": 256}}, # 80 units per IQ pair\n",
    "    {\"class\": \"ReLU\", \"kargs\": {\"inplace\": True}},\n",
    "    {\"class\": \"BatchNorm1d\", \"kargs\": {\"num_features\":256}},\n",
    "\n",
    "    {\"class\": \"Linear\", \"kargs\": {\"in_features\": 256, \"out_features\": 256}},\n",
    "]\n",
    "\n",
    "# Parameters relevant to results\n",
    "# These parameters will basically never need to change\n",
    "standalone_parameters[\"NUM_LOGS_PER_EPOCH\"] = 10\n",
    "standalone_parameters[\"BEST_MODEL_PATH\"] = \"./best_model.pth\"\n",
    "\n",
    "\n",
    "\n",
    "\n"
   ]
  },
  {
   "cell_type": "code",
   "execution_count": 4,
   "id": "2cd6dbbf",
   "metadata": {
    "execution": {
     "iopub.execute_input": "2022-03-25T04:22:53.835175Z",
     "iopub.status.busy": "2022-03-25T04:22:53.834887Z",
     "iopub.status.idle": "2022-03-25T04:22:53.847721Z",
     "shell.execute_reply": "2022-03-25T04:22:53.848007Z"
    },
    "papermill": {
     "duration": 0.034793,
     "end_time": "2022-03-25T04:22:53.848087",
     "exception": false,
     "start_time": "2022-03-25T04:22:53.813294",
     "status": "completed"
    },
    "tags": [
     "injected-parameters"
    ]
   },
   "outputs": [],
   "source": [
    "# Parameters\n",
    "parameters = {\n",
    "    \"experiment_name\": \"tl_3Av2:cores -> oracle.run1.framed\",\n",
    "    \"device\": \"cuda\",\n",
    "    \"lr\": 0.0001,\n",
    "    \"x_shape\": [2, 200],\n",
    "    \"n_shot\": 3,\n",
    "    \"n_query\": 2,\n",
    "    \"train_k_factor\": 3,\n",
    "    \"val_k_factor\": 2,\n",
    "    \"test_k_factor\": 2,\n",
    "    \"torch_default_dtype\": \"torch.float32\",\n",
    "    \"n_epoch\": 50,\n",
    "    \"patience\": 3,\n",
    "    \"criteria_for_best\": \"target_accuracy\",\n",
    "    \"x_net\": [\n",
    "        {\"class\": \"nnReshape\", \"kargs\": {\"shape\": [-1, 1, 2, 200]}},\n",
    "        {\n",
    "            \"class\": \"Conv2d\",\n",
    "            \"kargs\": {\n",
    "                \"in_channels\": 1,\n",
    "                \"out_channels\": 256,\n",
    "                \"kernel_size\": [1, 7],\n",
    "                \"bias\": False,\n",
    "                \"padding\": [0, 3],\n",
    "            },\n",
    "        },\n",
    "        {\"class\": \"ReLU\", \"kargs\": {\"inplace\": True}},\n",
    "        {\"class\": \"BatchNorm2d\", \"kargs\": {\"num_features\": 256}},\n",
    "        {\n",
    "            \"class\": \"Conv2d\",\n",
    "            \"kargs\": {\n",
    "                \"in_channels\": 256,\n",
    "                \"out_channels\": 80,\n",
    "                \"kernel_size\": [2, 7],\n",
    "                \"bias\": True,\n",
    "                \"padding\": [0, 3],\n",
    "            },\n",
    "        },\n",
    "        {\"class\": \"ReLU\", \"kargs\": {\"inplace\": True}},\n",
    "        {\"class\": \"BatchNorm2d\", \"kargs\": {\"num_features\": 80}},\n",
    "        {\"class\": \"Flatten\", \"kargs\": {}},\n",
    "        {\"class\": \"Linear\", \"kargs\": {\"in_features\": 16000, \"out_features\": 256}},\n",
    "        {\"class\": \"ReLU\", \"kargs\": {\"inplace\": True}},\n",
    "        {\"class\": \"BatchNorm1d\", \"kargs\": {\"num_features\": 256}},\n",
    "        {\"class\": \"Linear\", \"kargs\": {\"in_features\": 256, \"out_features\": 256}},\n",
    "    ],\n",
    "    \"NUM_LOGS_PER_EPOCH\": 10,\n",
    "    \"BEST_MODEL_PATH\": \"./best_model.pth\",\n",
    "    \"n_way\": 16,\n",
    "    \"datasets\": [\n",
    "        {\n",
    "            \"labels\": [\n",
    "                \"1-10.\",\n",
    "                \"1-11.\",\n",
    "                \"1-15.\",\n",
    "                \"1-16.\",\n",
    "                \"1-17.\",\n",
    "                \"1-18.\",\n",
    "                \"1-19.\",\n",
    "                \"10-4.\",\n",
    "                \"10-7.\",\n",
    "                \"11-1.\",\n",
    "                \"11-14.\",\n",
    "                \"11-17.\",\n",
    "                \"11-20.\",\n",
    "                \"11-7.\",\n",
    "                \"13-20.\",\n",
    "                \"13-8.\",\n",
    "                \"14-10.\",\n",
    "                \"14-11.\",\n",
    "                \"14-14.\",\n",
    "                \"14-7.\",\n",
    "                \"15-1.\",\n",
    "                \"15-20.\",\n",
    "                \"16-1.\",\n",
    "                \"16-16.\",\n",
    "                \"17-10.\",\n",
    "                \"17-11.\",\n",
    "                \"17-2.\",\n",
    "                \"19-1.\",\n",
    "                \"19-16.\",\n",
    "                \"19-19.\",\n",
    "                \"19-20.\",\n",
    "                \"19-3.\",\n",
    "                \"2-10.\",\n",
    "                \"2-11.\",\n",
    "                \"2-17.\",\n",
    "                \"2-18.\",\n",
    "                \"2-20.\",\n",
    "                \"2-3.\",\n",
    "                \"2-4.\",\n",
    "                \"2-5.\",\n",
    "                \"2-6.\",\n",
    "                \"2-7.\",\n",
    "                \"2-8.\",\n",
    "                \"3-13.\",\n",
    "                \"3-18.\",\n",
    "                \"3-3.\",\n",
    "                \"4-1.\",\n",
    "                \"4-10.\",\n",
    "                \"4-11.\",\n",
    "                \"4-19.\",\n",
    "                \"5-5.\",\n",
    "                \"6-15.\",\n",
    "                \"7-10.\",\n",
    "                \"7-14.\",\n",
    "                \"8-18.\",\n",
    "                \"8-20.\",\n",
    "                \"8-3.\",\n",
    "                \"8-8.\",\n",
    "            ],\n",
    "            \"domains\": [1, 2, 3, 4, 5],\n",
    "            \"num_examples_per_domain_per_label\": -1,\n",
    "            \"pickle_path\": \"/mnt/wd500GB/CSC500/csc500-main/datasets/cores.stratified_ds.2022A.pkl\",\n",
    "            \"source_or_target_dataset\": \"source\",\n",
    "            \"x_transforms\": [\"unit_mag\", \"take_200\"],\n",
    "            \"episode_transforms\": [],\n",
    "            \"domain_prefix\": \"C_\",\n",
    "        },\n",
    "        {\n",
    "            \"labels\": [\n",
    "                \"3123D52\",\n",
    "                \"3123D65\",\n",
    "                \"3123D79\",\n",
    "                \"3123D80\",\n",
    "                \"3123D54\",\n",
    "                \"3123D70\",\n",
    "                \"3123D7B\",\n",
    "                \"3123D89\",\n",
    "                \"3123D58\",\n",
    "                \"3123D76\",\n",
    "                \"3123D7D\",\n",
    "                \"3123EFE\",\n",
    "                \"3123D64\",\n",
    "                \"3123D78\",\n",
    "                \"3123D7E\",\n",
    "                \"3124E4A\",\n",
    "            ],\n",
    "            \"domains\": [32, 38, 8, 44, 14, 50, 20, 26],\n",
    "            \"num_examples_per_domain_per_label\": 2000,\n",
    "            \"pickle_path\": \"/mnt/wd500GB/CSC500/csc500-main/datasets/oracle.Run1_framed_2000Examples_stratified_ds.2022A.pkl\",\n",
    "            \"source_or_target_dataset\": \"target\",\n",
    "            \"x_transforms\": [\"unit_mag\", \"take_200\", \"resample_20Msps_to_25Msps\"],\n",
    "            \"episode_transforms\": [],\n",
    "            \"domain_prefix\": \"O_\",\n",
    "        },\n",
    "    ],\n",
    "    \"seed\": 154325,\n",
    "    \"dataset_seed\": 154325,\n",
    "}\n"
   ]
  },
  {
   "cell_type": "code",
   "execution_count": 5,
   "id": "8fa1cc33",
   "metadata": {
    "execution": {
     "iopub.execute_input": "2022-03-25T04:22:53.880097Z",
     "iopub.status.busy": "2022-03-25T04:22:53.879839Z",
     "iopub.status.idle": "2022-03-25T04:22:53.894383Z",
     "shell.execute_reply": "2022-03-25T04:22:53.894036Z"
    },
    "papermill": {
     "duration": 0.030465,
     "end_time": "2022-03-25T04:22:53.894451",
     "exception": false,
     "start_time": "2022-03-25T04:22:53.863986",
     "status": "completed"
    },
    "tags": []
   },
   "outputs": [],
   "source": [
    "# Set this to True if you want to run this template directly\n",
    "STANDALONE = False\n",
    "if STANDALONE:\n",
    "    print(\"parameters not injected, running with standalone_parameters\")\n",
    "    parameters = standalone_parameters\n",
    "\n",
    "if not 'parameters' in locals() and not 'parameters' in globals():\n",
    "    raise Exception(\"Parameter injection failed\")\n",
    "\n",
    "#Use an easy dict for all the parameters\n",
    "p = EasyDict(parameters)\n",
    "\n",
    "if \"x_shape\" not in p:\n",
    "    p.x_shape = [2,256] # Default to this if we dont supply x_shape\n",
    "\n",
    "\n",
    "supplied_keys = set(p.keys())\n",
    "\n",
    "if  supplied_keys != required_parameters:\n",
    "    print(\"Parameters are incorrect\")\n",
    "    if len(supplied_keys - required_parameters)>0: print(\"Shouldn't have:\", str(supplied_keys - required_parameters))\n",
    "    if len(required_parameters - supplied_keys)>0: print(\"Need to have:\", str(required_parameters - supplied_keys))\n",
    "    raise RuntimeError(\"Parameters are incorrect\")"
   ]
  },
  {
   "cell_type": "code",
   "execution_count": 6,
   "id": "3a028d58",
   "metadata": {
    "execution": {
     "iopub.execute_input": "2022-03-25T04:22:53.925435Z",
     "iopub.status.busy": "2022-03-25T04:22:53.925190Z",
     "iopub.status.idle": "2022-03-25T04:22:53.939646Z",
     "shell.execute_reply": "2022-03-25T04:22:53.939405Z"
    },
    "papermill": {
     "duration": 0.029991,
     "end_time": "2022-03-25T04:22:53.939695",
     "exception": false,
     "start_time": "2022-03-25T04:22:53.909704",
     "status": "completed"
    },
    "tags": []
   },
   "outputs": [],
   "source": [
    "###################################\n",
    "# Set the RNGs and make it all deterministic\n",
    "###################################\n",
    "np.random.seed(p.seed)\n",
    "random.seed(p.seed)\n",
    "torch.manual_seed(p.seed)\n",
    "\n",
    "torch.use_deterministic_algorithms(True) "
   ]
  },
  {
   "cell_type": "code",
   "execution_count": 7,
   "id": "b691acf6",
   "metadata": {
    "execution": {
     "iopub.execute_input": "2022-03-25T04:22:53.967571Z",
     "iopub.status.busy": "2022-03-25T04:22:53.967326Z",
     "iopub.status.idle": "2022-03-25T04:22:53.978834Z",
     "shell.execute_reply": "2022-03-25T04:22:53.978590Z"
    },
    "papermill": {
     "duration": 0.026425,
     "end_time": "2022-03-25T04:22:53.978883",
     "exception": false,
     "start_time": "2022-03-25T04:22:53.952458",
     "status": "completed"
    },
    "tags": []
   },
   "outputs": [],
   "source": [
    "###########################################\n",
    "# The stratified datasets honor this\n",
    "###########################################\n",
    "torch.set_default_dtype(eval(p.torch_default_dtype))"
   ]
  },
  {
   "cell_type": "code",
   "execution_count": 8,
   "id": "b5fba671",
   "metadata": {
    "execution": {
     "iopub.execute_input": "2022-03-25T04:22:54.006957Z",
     "iopub.status.busy": "2022-03-25T04:22:54.006712Z",
     "iopub.status.idle": "2022-03-25T04:22:54.040917Z",
     "shell.execute_reply": "2022-03-25T04:22:54.040668Z"
    },
    "papermill": {
     "duration": 0.049205,
     "end_time": "2022-03-25T04:22:54.040967",
     "exception": false,
     "start_time": "2022-03-25T04:22:53.991762",
     "status": "completed"
    },
    "tags": []
   },
   "outputs": [],
   "source": [
    "###################################\n",
    "# Build the network(s)\n",
    "# Note: It's critical to do this AFTER setting the RNG\n",
    "###################################\n",
    "x_net = build_sequential(p.x_net)"
   ]
  },
  {
   "cell_type": "code",
   "execution_count": 9,
   "id": "5d7e61cc",
   "metadata": {
    "execution": {
     "iopub.execute_input": "2022-03-25T04:22:54.069403Z",
     "iopub.status.busy": "2022-03-25T04:22:54.069152Z",
     "iopub.status.idle": "2022-03-25T04:22:54.080222Z",
     "shell.execute_reply": "2022-03-25T04:22:54.079972Z"
    },
    "papermill": {
     "duration": 0.026081,
     "end_time": "2022-03-25T04:22:54.080270",
     "exception": false,
     "start_time": "2022-03-25T04:22:54.054189",
     "status": "completed"
    },
    "tags": []
   },
   "outputs": [],
   "source": [
    "start_time_secs = time.time()"
   ]
  },
  {
   "cell_type": "code",
   "execution_count": 10,
   "id": "c6b67dfd",
   "metadata": {
    "execution": {
     "iopub.execute_input": "2022-03-25T04:22:54.109255Z",
     "iopub.status.busy": "2022-03-25T04:22:54.109005Z",
     "iopub.status.idle": "2022-03-25T04:22:54.122207Z",
     "shell.execute_reply": "2022-03-25T04:22:54.122550Z"
    },
    "papermill": {
     "duration": 0.029327,
     "end_time": "2022-03-25T04:22:54.122654",
     "exception": false,
     "start_time": "2022-03-25T04:22:54.093327",
     "status": "completed"
    },
    "tags": []
   },
   "outputs": [],
   "source": [
    "p.domains_source = []\n",
    "p.domains_target = []\n",
    "\n",
    "\n",
    "train_original_source = []\n",
    "val_original_source   = []\n",
    "test_original_source  = []\n",
    "\n",
    "train_original_target = []\n",
    "val_original_target   = []\n",
    "test_original_target  = []"
   ]
  },
  {
   "cell_type": "code",
   "execution_count": 11,
   "id": "e3d9c3d3",
   "metadata": {
    "execution": {
     "iopub.execute_input": "2022-03-25T04:22:54.153171Z",
     "iopub.status.busy": "2022-03-25T04:22:54.152926Z",
     "iopub.status.idle": "2022-03-25T04:22:54.167507Z",
     "shell.execute_reply": "2022-03-25T04:22:54.167067Z"
    },
    "papermill": {
     "duration": 0.029793,
     "end_time": "2022-03-25T04:22:54.167594",
     "exception": false,
     "start_time": "2022-03-25T04:22:54.137801",
     "status": "completed"
    },
    "tags": []
   },
   "outputs": [],
   "source": [
    "# global_x_transform_func = lambda x: normalize(x.to(torch.get_default_dtype()), \"unit_power\") # unit_power, unit_mag\n",
    "# global_x_transform_func = lambda x: normalize(x, \"unit_power\") # unit_power, unit_mag"
   ]
  },
  {
   "cell_type": "code",
   "execution_count": 12,
   "id": "acb78fd2",
   "metadata": {
    "execution": {
     "iopub.execute_input": "2022-03-25T04:22:54.205526Z",
     "iopub.status.busy": "2022-03-25T04:22:54.205266Z",
     "iopub.status.idle": "2022-03-25T04:22:54.219113Z",
     "shell.execute_reply": "2022-03-25T04:22:54.218729Z"
    },
    "papermill": {
     "duration": 0.033582,
     "end_time": "2022-03-25T04:22:54.219201",
     "exception": false,
     "start_time": "2022-03-25T04:22:54.185619",
     "status": "completed"
    },
    "tags": []
   },
   "outputs": [],
   "source": [
    "def add_dataset(\n",
    "    labels,\n",
    "    domains,\n",
    "    pickle_path,\n",
    "    x_transforms,\n",
    "    episode_transforms,\n",
    "    domain_prefix,\n",
    "    num_examples_per_domain_per_label,\n",
    "    source_or_target_dataset:str,\n",
    "    iterator_seed=p.seed,\n",
    "    dataset_seed=p.dataset_seed,\n",
    "    n_shot=p.n_shot,\n",
    "    n_way=p.n_way,\n",
    "    n_query=p.n_query,\n",
    "    train_val_test_k_factors=(p.train_k_factor,p.val_k_factor,p.test_k_factor),\n",
    "):\n",
    "   \n",
    "    if x_transforms == []: x_transform = None\n",
    "    else: x_transform = get_chained_transform(x_transforms)\n",
    "    \n",
    "    if episode_transforms == []: episode_transform = None\n",
    "    else: raise Exception(\"episode_transforms not implemented\")\n",
    "    \n",
    "    episode_transform = lambda tup, _prefix=domain_prefix: (_prefix + str(tup[0]), tup[1])\n",
    "\n",
    "\n",
    "    eaf = Episodic_Accessor_Factory(\n",
    "        labels=labels,\n",
    "        domains=domains,\n",
    "        num_examples_per_domain_per_label=num_examples_per_domain_per_label,\n",
    "        iterator_seed=iterator_seed,\n",
    "        dataset_seed=dataset_seed,\n",
    "        n_shot=n_shot,\n",
    "        n_way=n_way,\n",
    "        n_query=n_query,\n",
    "        train_val_test_k_factors=train_val_test_k_factors,\n",
    "        pickle_path=pickle_path,\n",
    "        x_transform_func=x_transform,\n",
    "    )\n",
    "\n",
    "    train, val, test = eaf.get_train(), eaf.get_val(), eaf.get_test()\n",
    "    train = Lazy_Iterable_Wrapper(train, episode_transform)\n",
    "    val = Lazy_Iterable_Wrapper(val, episode_transform)\n",
    "    test = Lazy_Iterable_Wrapper(test, episode_transform)\n",
    "\n",
    "    if source_or_target_dataset==\"source\":\n",
    "        train_original_source.append(train)\n",
    "        val_original_source.append(val)\n",
    "        test_original_source.append(test)\n",
    "\n",
    "        p.domains_source.extend(\n",
    "            [domain_prefix + str(u) for u in domains]\n",
    "        )\n",
    "    elif source_or_target_dataset==\"target\":\n",
    "        train_original_target.append(train)\n",
    "        val_original_target.append(val)\n",
    "        test_original_target.append(test)\n",
    "        p.domains_target.extend(\n",
    "            [domain_prefix + str(u) for u in domains]\n",
    "        )\n",
    "    else:\n",
    "        raise Exception(f\"invalid source_or_target_dataset: {source_or_target_dataset}\")\n",
    "    "
   ]
  },
  {
   "cell_type": "code",
   "execution_count": 13,
   "id": "fe266617",
   "metadata": {
    "execution": {
     "iopub.execute_input": "2022-03-25T04:22:54.251099Z",
     "iopub.status.busy": "2022-03-25T04:22:54.250854Z",
     "iopub.status.idle": "2022-03-25T04:23:44.450197Z",
     "shell.execute_reply": "2022-03-25T04:23:44.449691Z"
    },
    "papermill": {
     "duration": 50.214593,
     "end_time": "2022-03-25T04:23:44.450301",
     "exception": false,
     "start_time": "2022-03-25T04:22:54.235708",
     "status": "completed"
    },
    "tags": []
   },
   "outputs": [],
   "source": [
    "for ds in p.datasets:\n",
    "    add_dataset(**ds)"
   ]
  },
  {
   "cell_type": "code",
   "execution_count": 14,
   "id": "b90d65ac",
   "metadata": {
    "execution": {
     "iopub.execute_input": "2022-03-25T04:23:44.485494Z",
     "iopub.status.busy": "2022-03-25T04:23:44.485240Z",
     "iopub.status.idle": "2022-03-25T04:23:44.500454Z",
     "shell.execute_reply": "2022-03-25T04:23:44.500102Z"
    },
    "papermill": {
     "duration": 0.030295,
     "end_time": "2022-03-25T04:23:44.500525",
     "exception": false,
     "start_time": "2022-03-25T04:23:44.470230",
     "status": "completed"
    },
    "tags": []
   },
   "outputs": [],
   "source": [
    "# from steves_utils.CORES.utils import (\n",
    "#     ALL_NODES,\n",
    "#     ALL_NODES_MINIMUM_1000_EXAMPLES,\n",
    "#     ALL_DAYS\n",
    "# )\n",
    "\n",
    "# add_dataset(\n",
    "#     labels=ALL_NODES,\n",
    "#     domains = ALL_DAYS,\n",
    "#     num_examples_per_domain_per_label=100,\n",
    "#     pickle_path=os.path.join(get_datasets_base_path(), \"cores.stratified_ds.2022A.pkl\"),\n",
    "#     source_or_target_dataset=\"target\",\n",
    "#     x_transform_func=global_x_transform_func,\n",
    "#     domain_modifier=lambda u: f\"cores_{u}\"\n",
    "# )"
   ]
  },
  {
   "cell_type": "code",
   "execution_count": 15,
   "id": "76db484d",
   "metadata": {
    "execution": {
     "iopub.execute_input": "2022-03-25T04:23:44.533215Z",
     "iopub.status.busy": "2022-03-25T04:23:44.532960Z",
     "iopub.status.idle": "2022-03-25T04:23:44.548273Z",
     "shell.execute_reply": "2022-03-25T04:23:44.547828Z"
    },
    "papermill": {
     "duration": 0.030234,
     "end_time": "2022-03-25T04:23:44.548362",
     "exception": false,
     "start_time": "2022-03-25T04:23:44.518128",
     "status": "completed"
    },
    "tags": []
   },
   "outputs": [],
   "source": [
    "# from steves_utils.ORACLE.utils_v2 import (\n",
    "#     ALL_DISTANCES_FEET,\n",
    "#     ALL_RUNS,\n",
    "#     ALL_SERIAL_NUMBERS,\n",
    "# )\n",
    "\n",
    "\n",
    "# add_dataset(\n",
    "#     labels=ALL_SERIAL_NUMBERS,\n",
    "#     domains = list(set(ALL_DISTANCES_FEET) - {2,62}),\n",
    "#     num_examples_per_domain_per_label=100,\n",
    "#     pickle_path=os.path.join(get_datasets_base_path(), \"oracle.Run2_framed_2000Examples_stratified_ds.2022A.pkl\"),\n",
    "#     source_or_target_dataset=\"source\",\n",
    "#     x_transform_func=global_x_transform_func,\n",
    "#     domain_modifier=lambda u: f\"oracle1_{u}\"\n",
    "# )\n"
   ]
  },
  {
   "cell_type": "code",
   "execution_count": 16,
   "id": "97dea9d2",
   "metadata": {
    "execution": {
     "iopub.execute_input": "2022-03-25T04:23:44.581889Z",
     "iopub.status.busy": "2022-03-25T04:23:44.581639Z",
     "iopub.status.idle": "2022-03-25T04:23:44.596016Z",
     "shell.execute_reply": "2022-03-25T04:23:44.596407Z"
    },
    "papermill": {
     "duration": 0.030049,
     "end_time": "2022-03-25T04:23:44.596516",
     "exception": false,
     "start_time": "2022-03-25T04:23:44.566467",
     "status": "completed"
    },
    "tags": []
   },
   "outputs": [],
   "source": [
    "# from steves_utils.ORACLE.utils_v2 import (\n",
    "#     ALL_DISTANCES_FEET,\n",
    "#     ALL_RUNS,\n",
    "#     ALL_SERIAL_NUMBERS,\n",
    "# )\n",
    "\n",
    "\n",
    "# add_dataset(\n",
    "#     labels=ALL_SERIAL_NUMBERS,\n",
    "#     domains = list(set(ALL_DISTANCES_FEET) - {2,62,56}),\n",
    "#     num_examples_per_domain_per_label=100,\n",
    "#     pickle_path=os.path.join(get_datasets_base_path(), \"oracle.Run2_framed_2000Examples_stratified_ds.2022A.pkl\"),\n",
    "#     source_or_target_dataset=\"source\",\n",
    "#     x_transform_func=global_x_transform_func,\n",
    "#     domain_modifier=lambda u: f\"oracle2_{u}\"\n",
    "# )"
   ]
  },
  {
   "cell_type": "code",
   "execution_count": 17,
   "id": "6f289866",
   "metadata": {
    "execution": {
     "iopub.execute_input": "2022-03-25T04:23:44.631359Z",
     "iopub.status.busy": "2022-03-25T04:23:44.631106Z",
     "iopub.status.idle": "2022-03-25T04:23:44.640945Z",
     "shell.execute_reply": "2022-03-25T04:23:44.640733Z"
    },
    "papermill": {
     "duration": 0.024835,
     "end_time": "2022-03-25T04:23:44.640995",
     "exception": false,
     "start_time": "2022-03-25T04:23:44.616160",
     "status": "completed"
    },
    "tags": []
   },
   "outputs": [],
   "source": [
    "# add_dataset(\n",
    "#     labels=list(range(19)),\n",
    "#     domains = [0,1,2],\n",
    "#     num_examples_per_domain_per_label=100,\n",
    "#     pickle_path=os.path.join(get_datasets_base_path(), \"metehan.stratified_ds.2022A.pkl\"),\n",
    "#     source_or_target_dataset=\"target\",\n",
    "#     x_transform_func=global_x_transform_func,\n",
    "#     domain_modifier=lambda u: f\"met_{u}\"\n",
    "# )"
   ]
  },
  {
   "cell_type": "code",
   "execution_count": 18,
   "id": "86a863c3",
   "metadata": {
    "execution": {
     "iopub.execute_input": "2022-03-25T04:23:44.672764Z",
     "iopub.status.busy": "2022-03-25T04:23:44.672369Z",
     "iopub.status.idle": "2022-03-25T04:23:44.687056Z",
     "shell.execute_reply": "2022-03-25T04:23:44.686548Z"
    },
    "papermill": {
     "duration": 0.030142,
     "end_time": "2022-03-25T04:23:44.687159",
     "exception": false,
     "start_time": "2022-03-25T04:23:44.657017",
     "status": "completed"
    },
    "tags": []
   },
   "outputs": [],
   "source": [
    "# # from steves_utils.wisig.utils import (\n",
    "# #     ALL_NODES_MINIMUM_100_EXAMPLES,\n",
    "# #     ALL_NODES_MINIMUM_500_EXAMPLES,\n",
    "# #     ALL_NODES_MINIMUM_1000_EXAMPLES,\n",
    "# #     ALL_DAYS\n",
    "# # )\n",
    "\n",
    "# import steves_utils.wisig.utils as wisig\n",
    "\n",
    "\n",
    "# add_dataset(\n",
    "#     labels=wisig.ALL_NODES_MINIMUM_100_EXAMPLES,\n",
    "#     domains = wisig.ALL_DAYS,\n",
    "#     num_examples_per_domain_per_label=100,\n",
    "#     pickle_path=os.path.join(get_datasets_base_path(), \"wisig.node3-19.stratified_ds.2022A.pkl\"),\n",
    "#     source_or_target_dataset=\"target\",\n",
    "#     x_transform_func=global_x_transform_func,\n",
    "#     domain_modifier=lambda u: f\"wisig_{u}\"\n",
    "# )"
   ]
  },
  {
   "cell_type": "code",
   "execution_count": 19,
   "id": "fd5442bc",
   "metadata": {
    "execution": {
     "iopub.execute_input": "2022-03-25T04:23:44.750859Z",
     "iopub.status.busy": "2022-03-25T04:23:44.750599Z",
     "iopub.status.idle": "2022-03-25T04:23:44.764836Z",
     "shell.execute_reply": "2022-03-25T04:23:44.764445Z"
    },
    "papermill": {
     "duration": 0.058843,
     "end_time": "2022-03-25T04:23:44.764928",
     "exception": false,
     "start_time": "2022-03-25T04:23:44.706085",
     "status": "completed"
    },
    "tags": []
   },
   "outputs": [],
   "source": [
    "###################################\n",
    "# Build the dataset\n",
    "###################################\n",
    "train_original_source = Iterable_Aggregator(train_original_source, p.seed)\n",
    "val_original_source = Iterable_Aggregator(val_original_source, p.seed)\n",
    "test_original_source = Iterable_Aggregator(test_original_source, p.seed)\n",
    "\n",
    "\n",
    "train_original_target = Iterable_Aggregator(train_original_target, p.seed)\n",
    "val_original_target = Iterable_Aggregator(val_original_target, p.seed)\n",
    "test_original_target = Iterable_Aggregator(test_original_target, p.seed)\n",
    "\n",
    "# For CNN We only use X and Y. And we only train on the source.\n",
    "# Properly form the data using a transform lambda and Lazy_Iterable_Wrapper. Finally wrap them in a dataloader\n",
    "\n",
    "transform_lambda = lambda ex: ex[1] # Original is (<domain>, <episode>) so we strip down to episode only\n",
    "\n",
    "train_processed_source = Lazy_Iterable_Wrapper(train_original_source, transform_lambda)\n",
    "val_processed_source   = Lazy_Iterable_Wrapper(val_original_source, transform_lambda)\n",
    "test_processed_source  = Lazy_Iterable_Wrapper(test_original_source, transform_lambda)\n",
    "\n",
    "train_processed_target = Lazy_Iterable_Wrapper(train_original_target, transform_lambda)\n",
    "val_processed_target   = Lazy_Iterable_Wrapper(val_original_target, transform_lambda)\n",
    "test_processed_target  = Lazy_Iterable_Wrapper(test_original_target, transform_lambda)\n",
    "\n",
    "datasets = EasyDict({\n",
    "    \"source\": {\n",
    "        \"original\": {\"train\":train_original_source, \"val\":val_original_source, \"test\":test_original_source},\n",
    "        \"processed\": {\"train\":train_processed_source, \"val\":val_processed_source, \"test\":test_processed_source}\n",
    "    },\n",
    "    \"target\": {\n",
    "        \"original\": {\"train\":train_original_target, \"val\":val_original_target, \"test\":test_original_target},\n",
    "        \"processed\": {\"train\":train_processed_target, \"val\":val_processed_target, \"test\":test_processed_target}\n",
    "    },\n",
    "})"
   ]
  },
  {
   "cell_type": "code",
   "execution_count": 20,
   "id": "5b3c01fc",
   "metadata": {
    "execution": {
     "iopub.execute_input": "2022-03-25T04:23:44.798544Z",
     "iopub.status.busy": "2022-03-25T04:23:44.798296Z",
     "iopub.status.idle": "2022-03-25T04:23:51.090485Z",
     "shell.execute_reply": "2022-03-25T04:23:51.091009Z"
    },
    "papermill": {
     "duration": 6.309897,
     "end_time": "2022-03-25T04:23:51.091145",
     "exception": false,
     "start_time": "2022-03-25T04:23:44.781248",
     "status": "completed"
    },
    "tags": []
   },
   "outputs": [
    {
     "name": "stdout",
     "output_type": "stream",
     "text": [
      "{'C_2', 'C_1', 'C_3', 'C_4', 'C_5'}\n"
     ]
    },
    {
     "name": "stdout",
     "output_type": "stream",
     "text": [
      "{'O_8', 'O_50', 'O_38', 'O_44', 'O_20', 'O_26', 'O_14', 'O_32'}\n"
     ]
    },
    {
     "name": "stdout",
     "output_type": "stream",
     "text": [
      "tensor([[[-0.6018, -0.3529,  1.2888,  ..., -1.5408, -1.0902,  0.5546],\n",
      "         [ 0.2773, -1.0430, -0.5924,  ...,  0.6680, -1.5125, -0.8004]],\n",
      "\n",
      "        [[-0.2701,  0.1853,  1.3538,  ..., -1.2219, -0.0031,  1.7841],\n",
      "         [ 0.0157, -0.7884,  0.3172,  ..., -1.0146, -1.6962, -0.5214]],\n",
      "\n",
      "        [[ 0.3627, -1.2804, -0.7916,  ...,  1.0470, -0.5141,  1.2079],\n",
      "         [ 1.3656,  0.2681, -0.7474,  ...,  0.9619, -0.1671,  0.0315]],\n",
      "\n",
      "        ...,\n",
      "\n",
      "        [[-0.2023,  0.2259,  0.5327,  ..., -0.4417, -0.0034,  0.1517],\n",
      "         [ 0.5530,  0.5867, -0.1315,  ...,  0.0776,  0.6002, -0.3068]],\n",
      "\n",
      "        [[-0.0036,  0.3245, -0.1896,  ...,  0.2880,  0.5177, -0.0328],\n",
      "         [-0.0474, -0.5323, -0.5943,  ...,  0.0583, -0.3463, -0.4667]],\n",
      "\n",
      "        [[-0.1315,  0.1315,  0.2146,  ...,  0.7165,  0.9068,  0.3288],\n",
      "         [-0.0485,  0.0312,  0.0173,  ...,  0.3669,  0.2077, -0.2388]]])\n"
     ]
    }
   ],
   "source": [
    "from steves_utils.transforms import get_average_magnitude, get_average_power\n",
    "\n",
    "print(set([u for u,_ in val_original_source]))\n",
    "print(set([u for u,_ in val_original_target]))\n",
    "\n",
    "s_x, s_y, q_x, q_y, _ = next(iter(train_processed_source))\n",
    "print(s_x)\n",
    "\n",
    "# for ds in [\n",
    "#     train_processed_source,\n",
    "#     val_processed_source,\n",
    "#     test_processed_source,\n",
    "#     train_processed_target,\n",
    "#     val_processed_target,\n",
    "#     test_processed_target\n",
    "# ]:\n",
    "#     for s_x, s_y, q_x, q_y, _ in ds:\n",
    "#         for X in (s_x, q_x):\n",
    "#             for x in X:\n",
    "#                 assert np.isclose(get_average_magnitude(x.numpy()), 1.0)\n",
    "#                 assert np.isclose(get_average_power(x.numpy()), 1.0)\n",
    "                "
   ]
  },
  {
   "cell_type": "code",
   "execution_count": 21,
   "id": "bbdacba1",
   "metadata": {
    "execution": {
     "iopub.execute_input": "2022-03-25T04:23:51.129444Z",
     "iopub.status.busy": "2022-03-25T04:23:51.129047Z",
     "iopub.status.idle": "2022-03-25T04:23:51.178339Z",
     "shell.execute_reply": "2022-03-25T04:23:51.178103Z"
    },
    "papermill": {
     "duration": 0.066884,
     "end_time": "2022-03-25T04:23:51.178406",
     "exception": false,
     "start_time": "2022-03-25T04:23:51.111522",
     "status": "completed"
    },
    "tags": []
   },
   "outputs": [
    {
     "name": "stdout",
     "output_type": "stream",
     "text": [
      "(2, 200)\n"
     ]
    }
   ],
   "source": [
    "###################################\n",
    "# Build the model\n",
    "###################################\n",
    "# easfsl only wants a tuple for the shape\n",
    "model = Steves_Prototypical_Network(x_net, device=p.device, x_shape=tuple(p.x_shape))\n",
    "optimizer = Adam(params=model.parameters(), lr=p.lr)"
   ]
  },
  {
   "cell_type": "code",
   "execution_count": 22,
   "id": "22b39ac5",
   "metadata": {
    "execution": {
     "iopub.execute_input": "2022-03-25T04:23:51.219343Z",
     "iopub.status.busy": "2022-03-25T04:23:51.219086Z",
     "iopub.status.idle": "2022-03-25T04:44:23.773953Z",
     "shell.execute_reply": "2022-03-25T04:44:23.773728Z"
    },
    "papermill": {
     "duration": 1232.578983,
     "end_time": "2022-03-25T04:44:23.774015",
     "exception": false,
     "start_time": "2022-03-25T04:23:51.195032",
     "status": "completed"
    },
    "tags": []
   },
   "outputs": [
    {
     "name": "stdout",
     "output_type": "stream",
     "text": [
      "epoch: 1, [batch: 1 / 6297], examples_per_second: 50.8643, train_label_loss: 2.4835, \n"
     ]
    },
    {
     "name": "stdout",
     "output_type": "stream",
     "text": [
      "epoch: 1, [batch: 630 / 6297], examples_per_second: 3661.8448, train_label_loss: 0.0840, \n"
     ]
    },
    {
     "name": "stdout",
     "output_type": "stream",
     "text": [
      "epoch: 1, [batch: 1260 / 6297], examples_per_second: 3677.8469, train_label_loss: 0.0053, \n"
     ]
    },
    {
     "name": "stdout",
     "output_type": "stream",
     "text": [
      "epoch: 1, [batch: 1889 / 6297], examples_per_second: 3659.3681, train_label_loss: 0.0104, \n"
     ]
    },
    {
     "name": "stdout",
     "output_type": "stream",
     "text": [
      "epoch: 1, [batch: 2519 / 6297], examples_per_second: 3634.5429, train_label_loss: 0.0101, \n"
     ]
    },
    {
     "name": "stdout",
     "output_type": "stream",
     "text": [
      "epoch: 1, [batch: 3149 / 6297], examples_per_second: 3634.3904, train_label_loss: 0.0203, \n"
     ]
    },
    {
     "name": "stdout",
     "output_type": "stream",
     "text": [
      "epoch: 1, [batch: 3778 / 6297], examples_per_second: 3646.6003, train_label_loss: 0.0004, \n"
     ]
    },
    {
     "name": "stdout",
     "output_type": "stream",
     "text": [
      "epoch: 1, [batch: 4408 / 6297], examples_per_second: 3624.1142, train_label_loss: 0.0047, \n"
     ]
    },
    {
     "name": "stdout",
     "output_type": "stream",
     "text": [
      "epoch: 1, [batch: 5037 / 6297], examples_per_second: 3643.7301, train_label_loss: 0.0001, \n"
     ]
    },
    {
     "name": "stdout",
     "output_type": "stream",
     "text": [
      "epoch: 1, [batch: 5667 / 6297], examples_per_second: 3640.9712, train_label_loss: 0.0014, \n"
     ]
    },
    {
     "name": "stdout",
     "output_type": "stream",
     "text": [
      "=============================================================\n",
      "epoch: 1, source_val_acc_label: 0.9982, target_val_acc_label: 0.3167, source_val_label_loss: 0.0091, target_val_label_loss: 1.9901, \n",
      "=============================================================\n"
     ]
    },
    {
     "name": "stdout",
     "output_type": "stream",
     "text": [
      "New best\n"
     ]
    },
    {
     "name": "stdout",
     "output_type": "stream",
     "text": [
      "epoch: 2, [batch: 1 / 6333], examples_per_second: 5.4835, train_label_loss: 0.0001, \n"
     ]
    },
    {
     "name": "stdout",
     "output_type": "stream",
     "text": [
      "epoch: 2, [batch: 634 / 6333], examples_per_second: 3634.7343, train_label_loss: 0.0002, \n"
     ]
    },
    {
     "name": "stdout",
     "output_type": "stream",
     "text": [
      "epoch: 2, [batch: 1267 / 6333], examples_per_second: 3630.1504, train_label_loss: 0.0001, \n"
     ]
    },
    {
     "name": "stdout",
     "output_type": "stream",
     "text": [
      "epoch: 2, [batch: 1900 / 6333], examples_per_second: 3628.7972, train_label_loss: 0.0001, \n"
     ]
    },
    {
     "name": "stdout",
     "output_type": "stream",
     "text": [
      "epoch: 2, [batch: 2533 / 6333], examples_per_second: 3639.0959, train_label_loss: 0.0000, \n"
     ]
    },
    {
     "name": "stdout",
     "output_type": "stream",
     "text": [
      "epoch: 2, [batch: 3167 / 6333], examples_per_second: 3660.0715, train_label_loss: 0.0000, \n"
     ]
    },
    {
     "name": "stdout",
     "output_type": "stream",
     "text": [
      "epoch: 2, [batch: 3800 / 6333], examples_per_second: 3656.9240, train_label_loss: 0.0000, \n"
     ]
    },
    {
     "name": "stdout",
     "output_type": "stream",
     "text": [
      "epoch: 2, [batch: 4433 / 6333], examples_per_second: 3627.3892, train_label_loss: 0.0000, \n"
     ]
    },
    {
     "name": "stdout",
     "output_type": "stream",
     "text": [
      "epoch: 2, [batch: 5066 / 6333], examples_per_second: 3647.3184, train_label_loss: 0.0248, \n"
     ]
    },
    {
     "name": "stdout",
     "output_type": "stream",
     "text": [
      "epoch: 2, [batch: 5699 / 6333], examples_per_second: 3652.0734, train_label_loss: 0.0000, \n"
     ]
    },
    {
     "name": "stdout",
     "output_type": "stream",
     "text": [
      "=============================================================\n",
      "epoch: 2, source_val_acc_label: 0.9983, target_val_acc_label: 0.2910, source_val_label_loss: 0.0113, target_val_label_loss: 2.4984, \n",
      "=============================================================\n"
     ]
    },
    {
     "name": "stdout",
     "output_type": "stream",
     "text": [
      "epoch: 3, [batch: 1 / 6305], examples_per_second: 5.4742, train_label_loss: 0.0000, \n"
     ]
    },
    {
     "name": "stdout",
     "output_type": "stream",
     "text": [
      "epoch: 3, [batch: 631 / 6305], examples_per_second: 3626.5456, train_label_loss: 0.0000, \n"
     ]
    },
    {
     "name": "stdout",
     "output_type": "stream",
     "text": [
      "epoch: 3, [batch: 1261 / 6305], examples_per_second: 3654.5696, train_label_loss: 0.0000, \n"
     ]
    },
    {
     "name": "stdout",
     "output_type": "stream",
     "text": [
      "epoch: 3, [batch: 1892 / 6305], examples_per_second: 3653.4478, train_label_loss: 0.0005, \n"
     ]
    },
    {
     "name": "stdout",
     "output_type": "stream",
     "text": [
      "epoch: 3, [batch: 2522 / 6305], examples_per_second: 3633.4851, train_label_loss: 0.0000, \n"
     ]
    },
    {
     "name": "stdout",
     "output_type": "stream",
     "text": [
      "epoch: 3, [batch: 3153 / 6305], examples_per_second: 3659.4699, train_label_loss: 0.0000, \n"
     ]
    },
    {
     "name": "stdout",
     "output_type": "stream",
     "text": [
      "epoch: 3, [batch: 3783 / 6305], examples_per_second: 3653.2899, train_label_loss: 0.0000, \n"
     ]
    },
    {
     "name": "stdout",
     "output_type": "stream",
     "text": [
      "epoch: 3, [batch: 4413 / 6305], examples_per_second: 3640.5411, train_label_loss: 0.0000, \n"
     ]
    },
    {
     "name": "stdout",
     "output_type": "stream",
     "text": [
      "epoch: 3, [batch: 5044 / 6305], examples_per_second: 3654.7896, train_label_loss: 0.0002, \n"
     ]
    },
    {
     "name": "stdout",
     "output_type": "stream",
     "text": [
      "epoch: 3, [batch: 5674 / 6305], examples_per_second: 3650.7350, train_label_loss: 0.0000, \n"
     ]
    },
    {
     "name": "stdout",
     "output_type": "stream",
     "text": [
      "=============================================================\n",
      "epoch: 3, source_val_acc_label: 0.9992, target_val_acc_label: 0.3026, source_val_label_loss: 0.0102, target_val_label_loss: 2.6659, \n",
      "=============================================================\n"
     ]
    },
    {
     "name": "stdout",
     "output_type": "stream",
     "text": [
      "epoch: 4, [batch: 1 / 6323], examples_per_second: 5.4738, train_label_loss: 0.0000, \n"
     ]
    },
    {
     "name": "stdout",
     "output_type": "stream",
     "text": [
      "epoch: 4, [batch: 633 / 6323], examples_per_second: 3619.9123, train_label_loss: 0.0000, \n"
     ]
    },
    {
     "name": "stdout",
     "output_type": "stream",
     "text": [
      "epoch: 4, [batch: 1265 / 6323], examples_per_second: 3633.1101, train_label_loss: 0.0002, \n"
     ]
    },
    {
     "name": "stdout",
     "output_type": "stream",
     "text": [
      "epoch: 4, [batch: 1897 / 6323], examples_per_second: 3665.4220, train_label_loss: 0.0000, \n"
     ]
    },
    {
     "name": "stdout",
     "output_type": "stream",
     "text": [
      "epoch: 4, [batch: 2529 / 6323], examples_per_second: 3634.3221, train_label_loss: 0.0000, \n"
     ]
    },
    {
     "name": "stdout",
     "output_type": "stream",
     "text": [
      "epoch: 4, [batch: 3162 / 6323], examples_per_second: 3662.3978, train_label_loss: 0.0000, \n"
     ]
    },
    {
     "name": "stdout",
     "output_type": "stream",
     "text": [
      "epoch: 4, [batch: 3794 / 6323], examples_per_second: 3662.2558, train_label_loss: 0.0000, \n"
     ]
    },
    {
     "name": "stdout",
     "output_type": "stream",
     "text": [
      "epoch: 4, [batch: 4426 / 6323], examples_per_second: 3642.9115, train_label_loss: 0.0000, \n"
     ]
    },
    {
     "name": "stdout",
     "output_type": "stream",
     "text": [
      "epoch: 4, [batch: 5058 / 6323], examples_per_second: 3656.3908, train_label_loss: 0.0000, \n"
     ]
    },
    {
     "name": "stdout",
     "output_type": "stream",
     "text": [
      "epoch: 4, [batch: 5690 / 6323], examples_per_second: 3639.2774, train_label_loss: 0.0000, \n"
     ]
    },
    {
     "name": "stdout",
     "output_type": "stream",
     "text": [
      "=============================================================\n",
      "epoch: 4, source_val_acc_label: 0.9992, target_val_acc_label: 0.3474, source_val_label_loss: 0.0097, target_val_label_loss: 2.2156, \n",
      "=============================================================\n"
     ]
    },
    {
     "name": "stdout",
     "output_type": "stream",
     "text": [
      "New best\n"
     ]
    },
    {
     "name": "stdout",
     "output_type": "stream",
     "text": [
      "epoch: 5, [batch: 1 / 6317], examples_per_second: 5.4389, train_label_loss: 0.0000, \n"
     ]
    },
    {
     "name": "stdout",
     "output_type": "stream",
     "text": [
      "epoch: 5, [batch: 632 / 6317], examples_per_second: 3613.8640, train_label_loss: 0.0000, \n"
     ]
    },
    {
     "name": "stdout",
     "output_type": "stream",
     "text": [
      "epoch: 5, [batch: 1264 / 6317], examples_per_second: 3640.9183, train_label_loss: 0.0000, \n"
     ]
    },
    {
     "name": "stdout",
     "output_type": "stream",
     "text": [
      "epoch: 5, [batch: 1895 / 6317], examples_per_second: 3656.3226, train_label_loss: 0.0000, \n"
     ]
    },
    {
     "name": "stdout",
     "output_type": "stream",
     "text": [
      "epoch: 5, [batch: 2527 / 6317], examples_per_second: 3651.1467, train_label_loss: 0.0000, \n"
     ]
    },
    {
     "name": "stdout",
     "output_type": "stream",
     "text": [
      "epoch: 5, [batch: 3159 / 6317], examples_per_second: 3644.9294, train_label_loss: 0.0150, \n"
     ]
    },
    {
     "name": "stdout",
     "output_type": "stream",
     "text": [
      "epoch: 5, [batch: 3790 / 6317], examples_per_second: 3652.9940, train_label_loss: 0.0000, \n"
     ]
    },
    {
     "name": "stdout",
     "output_type": "stream",
     "text": [
      "epoch: 5, [batch: 4422 / 6317], examples_per_second: 3620.8218, train_label_loss: 0.0278, \n"
     ]
    },
    {
     "name": "stdout",
     "output_type": "stream",
     "text": [
      "epoch: 5, [batch: 5053 / 6317], examples_per_second: 3655.2162, train_label_loss: 0.0000, \n"
     ]
    },
    {
     "name": "stdout",
     "output_type": "stream",
     "text": [
      "epoch: 5, [batch: 5685 / 6317], examples_per_second: 3644.6585, train_label_loss: 0.0000, \n"
     ]
    },
    {
     "name": "stdout",
     "output_type": "stream",
     "text": [
      "=============================================================\n",
      "epoch: 5, source_val_acc_label: 0.9992, target_val_acc_label: 0.3430, source_val_label_loss: 0.0105, target_val_label_loss: 2.2929, \n",
      "=============================================================\n"
     ]
    },
    {
     "name": "stdout",
     "output_type": "stream",
     "text": [
      "epoch: 6, [batch: 1 / 6329], examples_per_second: 5.4578, train_label_loss: 0.0000, \n"
     ]
    },
    {
     "name": "stdout",
     "output_type": "stream",
     "text": [
      "epoch: 6, [batch: 633 / 6329], examples_per_second: 3632.2356, train_label_loss: 0.0000, \n"
     ]
    },
    {
     "name": "stdout",
     "output_type": "stream",
     "text": [
      "epoch: 6, [batch: 1266 / 6329], examples_per_second: 3634.0485, train_label_loss: 0.0000, \n"
     ]
    },
    {
     "name": "stdout",
     "output_type": "stream",
     "text": [
      "epoch: 6, [batch: 1899 / 6329], examples_per_second: 3646.3070, train_label_loss: 0.0000, \n"
     ]
    },
    {
     "name": "stdout",
     "output_type": "stream",
     "text": [
      "epoch: 6, [batch: 2532 / 6329], examples_per_second: 3637.6103, train_label_loss: 0.0000, \n"
     ]
    },
    {
     "name": "stdout",
     "output_type": "stream",
     "text": [
      "epoch: 6, [batch: 3165 / 6329], examples_per_second: 3653.5692, train_label_loss: 0.0000, \n"
     ]
    },
    {
     "name": "stdout",
     "output_type": "stream",
     "text": [
      "epoch: 6, [batch: 3797 / 6329], examples_per_second: 3662.5485, train_label_loss: 0.0000, \n"
     ]
    },
    {
     "name": "stdout",
     "output_type": "stream",
     "text": [
      "epoch: 6, [batch: 4430 / 6329], examples_per_second: 3633.3457, train_label_loss: 0.0000, \n"
     ]
    },
    {
     "name": "stdout",
     "output_type": "stream",
     "text": [
      "epoch: 6, [batch: 5063 / 6329], examples_per_second: 3646.0358, train_label_loss: 0.0000, \n"
     ]
    },
    {
     "name": "stdout",
     "output_type": "stream",
     "text": [
      "epoch: 6, [batch: 5696 / 6329], examples_per_second: 3641.8924, train_label_loss: 0.0580, \n"
     ]
    },
    {
     "name": "stdout",
     "output_type": "stream",
     "text": [
      "=============================================================\n",
      "epoch: 6, source_val_acc_label: 0.9994, target_val_acc_label: 0.2949, source_val_label_loss: 0.0095, target_val_label_loss: 3.1553, \n",
      "=============================================================\n"
     ]
    },
    {
     "name": "stdout",
     "output_type": "stream",
     "text": [
      "epoch: 7, [batch: 1 / 6316], examples_per_second: 5.4591, train_label_loss: 0.0000, \n"
     ]
    },
    {
     "name": "stdout",
     "output_type": "stream",
     "text": [
      "epoch: 7, [batch: 632 / 6316], examples_per_second: 3636.6471, train_label_loss: 0.0000, \n"
     ]
    },
    {
     "name": "stdout",
     "output_type": "stream",
     "text": [
      "epoch: 7, [batch: 1264 / 6316], examples_per_second: 3635.0961, train_label_loss: 0.0000, \n"
     ]
    },
    {
     "name": "stdout",
     "output_type": "stream",
     "text": [
      "epoch: 7, [batch: 1895 / 6316], examples_per_second: 3641.7488, train_label_loss: 0.0000, \n"
     ]
    },
    {
     "name": "stdout",
     "output_type": "stream",
     "text": [
      "epoch: 7, [batch: 2527 / 6316], examples_per_second: 3648.6677, train_label_loss: 0.0000, \n"
     ]
    },
    {
     "name": "stdout",
     "output_type": "stream",
     "text": [
      "epoch: 7, [batch: 3158 / 6316], examples_per_second: 3647.7201, train_label_loss: 0.0000, \n"
     ]
    },
    {
     "name": "stdout",
     "output_type": "stream",
     "text": [
      "epoch: 7, [batch: 3790 / 6316], examples_per_second: 3660.0123, train_label_loss: 0.0001, \n"
     ]
    },
    {
     "name": "stdout",
     "output_type": "stream",
     "text": [
      "epoch: 7, [batch: 4421 / 6316], examples_per_second: 3635.7249, train_label_loss: 0.0000, \n"
     ]
    },
    {
     "name": "stdout",
     "output_type": "stream",
     "text": [
      "epoch: 7, [batch: 5053 / 6316], examples_per_second: 3649.6555, train_label_loss: 0.0000, \n"
     ]
    },
    {
     "name": "stdout",
     "output_type": "stream",
     "text": [
      "epoch: 7, [batch: 5684 / 6316], examples_per_second: 3648.1037, train_label_loss: 0.0004, \n"
     ]
    },
    {
     "name": "stdout",
     "output_type": "stream",
     "text": [
      "=============================================================\n",
      "epoch: 7, source_val_acc_label: 0.9992, target_val_acc_label: 0.2799, source_val_label_loss: 0.0131, target_val_label_loss: 3.3182, \n",
      "=============================================================\n"
     ]
    },
    {
     "name": "stdout",
     "output_type": "stream",
     "text": [
      "epoch: 8, [batch: 1 / 6315], examples_per_second: 5.4689, train_label_loss: 0.0000, \n"
     ]
    },
    {
     "name": "stdout",
     "output_type": "stream",
     "text": [
      "epoch: 8, [batch: 632 / 6315], examples_per_second: 3618.8027, train_label_loss: 0.0000, \n"
     ]
    },
    {
     "name": "stdout",
     "output_type": "stream",
     "text": [
      "epoch: 8, [batch: 1263 / 6315], examples_per_second: 3634.5266, train_label_loss: 0.0000, \n"
     ]
    },
    {
     "name": "stdout",
     "output_type": "stream",
     "text": [
      "epoch: 8, [batch: 1895 / 6315], examples_per_second: 3630.1665, train_label_loss: 0.0000, \n"
     ]
    },
    {
     "name": "stdout",
     "output_type": "stream",
     "text": [
      "epoch: 8, [batch: 2526 / 6315], examples_per_second: 3637.8907, train_label_loss: 0.0007, \n"
     ]
    },
    {
     "name": "stdout",
     "output_type": "stream",
     "text": [
      "epoch: 8, [batch: 3158 / 6315], examples_per_second: 3637.9950, train_label_loss: 0.0000, \n"
     ]
    },
    {
     "name": "stdout",
     "output_type": "stream",
     "text": [
      "epoch: 8, [batch: 3789 / 6315], examples_per_second: 3653.3659, train_label_loss: 0.0000, \n"
     ]
    },
    {
     "name": "stdout",
     "output_type": "stream",
     "text": [
      "epoch: 8, [batch: 4420 / 6315], examples_per_second: 3637.7014, train_label_loss: 0.0000, \n"
     ]
    },
    {
     "name": "stdout",
     "output_type": "stream",
     "text": [
      "epoch: 8, [batch: 5052 / 6315], examples_per_second: 3637.7842, train_label_loss: 0.0000, \n"
     ]
    },
    {
     "name": "stdout",
     "output_type": "stream",
     "text": [
      "epoch: 8, [batch: 5683 / 6315], examples_per_second: 3646.5888, train_label_loss: 0.0000, \n"
     ]
    },
    {
     "name": "stdout",
     "output_type": "stream",
     "text": [
      "=============================================================\n",
      "epoch: 8, source_val_acc_label: 0.9993, target_val_acc_label: 0.3146, source_val_label_loss: 0.0111, target_val_label_loss: 3.3499, \n",
      "=============================================================\n"
     ]
    },
    {
     "name": "stdout",
     "output_type": "stream",
     "text": [
      "Patience (3) exhausted\n"
     ]
    }
   ],
   "source": [
    "###################################\n",
    "# train\n",
    "###################################\n",
    "jig = PTN_Train_Eval_Test_Jig(model, p.BEST_MODEL_PATH, p.device)\n",
    "\n",
    "jig.train(\n",
    "    train_iterable=datasets.source.processed.train,\n",
    "    source_val_iterable=datasets.source.processed.val,\n",
    "    target_val_iterable=datasets.target.processed.val,\n",
    "    num_epochs=p.n_epoch,\n",
    "    num_logs_per_epoch=p.NUM_LOGS_PER_EPOCH,\n",
    "    patience=p.patience,\n",
    "    optimizer=optimizer,\n",
    "    criteria_for_best=p.criteria_for_best,\n",
    ")"
   ]
  },
  {
   "cell_type": "code",
   "execution_count": 23,
   "id": "31e8fabf",
   "metadata": {
    "execution": {
     "iopub.execute_input": "2022-03-25T04:44:23.837590Z",
     "iopub.status.busy": "2022-03-25T04:44:23.837346Z",
     "iopub.status.idle": "2022-03-25T04:44:23.856307Z",
     "shell.execute_reply": "2022-03-25T04:44:23.855861Z"
    },
    "papermill": {
     "duration": 0.052308,
     "end_time": "2022-03-25T04:44:23.856403",
     "exception": false,
     "start_time": "2022-03-25T04:44:23.804095",
     "status": "completed"
    },
    "tags": []
   },
   "outputs": [],
   "source": [
    "total_experiment_time_secs = time.time() - start_time_secs"
   ]
  },
  {
   "cell_type": "code",
   "execution_count": 24,
   "id": "87b9595b",
   "metadata": {
    "execution": {
     "iopub.execute_input": "2022-03-25T04:44:23.931797Z",
     "iopub.status.busy": "2022-03-25T04:44:23.930769Z",
     "iopub.status.idle": "2022-03-25T04:45:55.324190Z",
     "shell.execute_reply": "2022-03-25T04:45:55.323662Z"
    },
    "papermill": {
     "duration": 91.433872,
     "end_time": "2022-03-25T04:45:55.324303",
     "exception": false,
     "start_time": "2022-03-25T04:44:23.890431",
     "status": "completed"
    },
    "tags": []
   },
   "outputs": [],
   "source": [
    "###################################\n",
    "# Evaluate the model\n",
    "###################################\n",
    "source_test_label_accuracy, source_test_label_loss = jig.test(datasets.source.processed.test)\n",
    "target_test_label_accuracy, target_test_label_loss = jig.test(datasets.target.processed.test)\n",
    "\n",
    "source_val_label_accuracy, source_val_label_loss = jig.test(datasets.source.processed.val)\n",
    "target_val_label_accuracy, target_val_label_loss = jig.test(datasets.target.processed.val)\n",
    "\n",
    "history = jig.get_history()\n",
    "\n",
    "total_epochs_trained = len(history[\"epoch_indices\"])\n",
    "\n",
    "val_dl = Iterable_Aggregator((datasets.source.original.val,datasets.target.original.val))\n",
    "\n",
    "confusion = ptn_confusion_by_domain_over_dataloader(model, p.device, val_dl)\n",
    "per_domain_accuracy = per_domain_accuracy_from_confusion(confusion)\n",
    "\n",
    "# Add a key to per_domain_accuracy for if it was a source domain\n",
    "for domain, accuracy in per_domain_accuracy.items():\n",
    "    per_domain_accuracy[domain] = {\n",
    "        \"accuracy\": accuracy,\n",
    "        \"source?\": domain in p.domains_source\n",
    "    }\n",
    "\n",
    "# Do an independent accuracy assesment JUST TO BE SURE!\n",
    "# _source_test_label_accuracy = independent_accuracy_assesment(model, datasets.source.processed.test, p.device)\n",
    "# _target_test_label_accuracy = independent_accuracy_assesment(model, datasets.target.processed.test, p.device)\n",
    "# _source_val_label_accuracy = independent_accuracy_assesment(model, datasets.source.processed.val, p.device)\n",
    "# _target_val_label_accuracy = independent_accuracy_assesment(model, datasets.target.processed.val, p.device)\n",
    "\n",
    "# assert(_source_test_label_accuracy == source_test_label_accuracy)\n",
    "# assert(_target_test_label_accuracy == target_test_label_accuracy)\n",
    "# assert(_source_val_label_accuracy == source_val_label_accuracy)\n",
    "# assert(_target_val_label_accuracy == target_val_label_accuracy)\n",
    "\n",
    "experiment = {\n",
    "    \"experiment_name\": p.experiment_name,\n",
    "    \"parameters\": dict(p),\n",
    "    \"results\": {\n",
    "        \"source_test_label_accuracy\": source_test_label_accuracy,\n",
    "        \"source_test_label_loss\": source_test_label_loss,\n",
    "        \"target_test_label_accuracy\": target_test_label_accuracy,\n",
    "        \"target_test_label_loss\": target_test_label_loss,\n",
    "        \"source_val_label_accuracy\": source_val_label_accuracy,\n",
    "        \"source_val_label_loss\": source_val_label_loss,\n",
    "        \"target_val_label_accuracy\": target_val_label_accuracy,\n",
    "        \"target_val_label_loss\": target_val_label_loss,\n",
    "        \"total_epochs_trained\": total_epochs_trained,\n",
    "        \"total_experiment_time_secs\": total_experiment_time_secs,\n",
    "        \"confusion\": confusion,\n",
    "        \"per_domain_accuracy\": per_domain_accuracy,\n",
    "    },\n",
    "    \"history\": history,\n",
    "    \"dataset_metrics\": get_dataset_metrics(datasets, \"ptn\"),\n",
    "}"
   ]
  },
  {
   "cell_type": "code",
   "execution_count": 25,
   "id": "54a21829",
   "metadata": {
    "execution": {
     "iopub.execute_input": "2022-03-25T04:45:55.394288Z",
     "iopub.status.busy": "2022-03-25T04:45:55.394018Z",
     "iopub.status.idle": "2022-03-25T04:45:55.521278Z",
     "shell.execute_reply": "2022-03-25T04:45:55.520868Z"
    },
    "papermill": {
     "duration": 0.160776,
     "end_time": "2022-03-25T04:45:55.521387",
     "exception": false,
     "start_time": "2022-03-25T04:45:55.360611",
     "status": "completed"
    },
    "tags": []
   },
   "outputs": [
    {
     "data": {
      "image/png": "[encoded data removed]",
      "text/plain": [
       "<Figure size 1080x504 with 1 Axes>"
      ]
     },
     "metadata": {
      "needs_background": "light"
     },
     "output_type": "display_data"
    }
   ],
   "source": [
    "ax = get_loss_curve(experiment)\n",
    "plt.show()"
   ]
  },
  {
   "cell_type": "code",
   "execution_count": 26,
   "id": "fd8a0f60",
   "metadata": {
    "execution": {
     "iopub.execute_input": "2022-03-25T04:45:55.592398Z",
     "iopub.status.busy": "2022-03-25T04:45:55.591607Z",
     "iopub.status.idle": "2022-03-25T04:45:55.734045Z",
     "shell.execute_reply": "2022-03-25T04:45:55.733771Z"
    },
    "papermill": {
     "duration": 0.17673,
     "end_time": "2022-03-25T04:45:55.734109",
     "exception": false,
     "start_time": "2022-03-25T04:45:55.557379",
     "status": "completed"
    },
    "tags": []
   },
   "outputs": [
    {
     "data": {
      "text/plain": [
       "<AxesSubplot:title={'center':'Results'}>"
      ]
     },
     "execution_count": 26,
     "metadata": {},
     "output_type": "execute_result"
    },
    {
     "data": {
      "image/png": "[encoded data removed]",
      "text/plain": [
       "<Figure size 1080x504 with 1 Axes>"
      ]
     },
     "metadata": {
      "needs_background": "light"
     },
     "output_type": "display_data"
    }
   ],
   "source": [
    "get_results_table(experiment)"
   ]
  },
  {
   "cell_type": "code",
   "execution_count": 27,
   "id": "cf8dc689",
   "metadata": {
    "execution": {
     "iopub.execute_input": "2022-03-25T04:45:55.802413Z",
     "iopub.status.busy": "2022-03-25T04:45:55.802130Z",
     "iopub.status.idle": "2022-03-25T04:45:55.939682Z",
     "shell.execute_reply": "2022-03-25T04:45:55.940085Z"
    },
    "papermill": {
     "duration": 0.172709,
     "end_time": "2022-03-25T04:45:55.940213",
     "exception": false,
     "start_time": "2022-03-25T04:45:55.767504",
     "status": "completed"
    },
    "tags": []
   },
   "outputs": [
    {
     "data": {
      "text/plain": [
       "<AxesSubplot:title={'center':'Per Domain Validation Accuracy'}, xlabel='domain'>"
      ]
     },
     "execution_count": 27,
     "metadata": {},
     "output_type": "execute_result"
    },
    {
     "data": {
      "image/png": "[encoded data removed]",
      "text/plain": [
       "<Figure size 1080x504 with 1 Axes>"
      ]
     },
     "metadata": {
      "needs_background": "light"
     },
     "output_type": "display_data"
    }
   ],
   "source": [
    "get_domain_accuracies(experiment)"
   ]
  },
  {
   "cell_type": "code",
   "execution_count": 28,
   "id": "a74ae082",
   "metadata": {
    "execution": {
     "iopub.execute_input": "2022-03-25T04:45:56.013656Z",
     "iopub.status.busy": "2022-03-25T04:45:56.013252Z",
     "iopub.status.idle": "2022-03-25T04:45:56.030413Z",
     "shell.execute_reply": "2022-03-25T04:45:56.029908Z"
    },
    "papermill": {
     "duration": 0.05348,
     "end_time": "2022-03-25T04:45:56.030514",
     "exception": false,
     "start_time": "2022-03-25T04:45:55.977034",
     "status": "completed"
    },
    "tags": []
   },
   "outputs": [
    {
     "name": "stdout",
     "output_type": "stream",
     "text": [
      "Source Test Label Accuracy: 0.9988801791713325 Target Test Label Accuracy: 0.3460611979166667\n",
      "Source Val Label Accuracy: 0.9992133867276888 Target Val Label Accuracy: 0.34742838541666665\n"
     ]
    }
   ],
   "source": [
    "print(\"Source Test Label Accuracy:\", experiment[\"results\"][\"source_test_label_accuracy\"], \"Target Test Label Accuracy:\", experiment[\"results\"][\"target_test_label_accuracy\"])\n",
    "print(\"Source Val Label Accuracy:\", experiment[\"results\"][\"source_val_label_accuracy\"], \"Target Val Label Accuracy:\", experiment[\"results\"][\"target_val_label_accuracy\"])"
   ]
  },
  {
   "cell_type": "code",
   "execution_count": 29,
   "id": "dacca602",
   "metadata": {
    "execution": {
     "iopub.execute_input": "2022-03-25T04:45:56.111258Z",
     "iopub.status.busy": "2022-03-25T04:45:56.105255Z",
     "iopub.status.idle": "2022-03-25T04:45:56.123508Z",
     "shell.execute_reply": "2022-03-25T04:45:56.123909Z"
    },
    "papermill": {
     "duration": 0.054849,
     "end_time": "2022-03-25T04:45:56.124033",
     "exception": false,
     "start_time": "2022-03-25T04:45:56.069184",
     "status": "completed"
    },
    "tags": [
     "experiment_json"
    ]
   },
   "outputs": [
    {
     "data": {
      "text/plain": [
       "'{\"experiment_name\": \"tl_3Av2:cores -> oracle.run1.framed\", \"parameters\": {\"experiment_name\": \"tl_3Av2:cores -> oracle.run1.framed\", \"device\": \"cuda\", \"lr\": 0.0001, \"x_shape\": [2, 200], \"n_shot\": 3, \"n_query\": 2, \"train_k_factor\": 3, \"val_k_factor\": 2, \"test_k_factor\": 2, \"torch_default_dtype\": \"torch.float32\", \"n_epoch\": 50, \"patience\": 3, \"criteria_for_best\": \"target_accuracy\", \"x_net\": [{\"class\": \"nnReshape\", \"kargs\": {\"shape\": [-1, 1, 2, 200]}}, {\"class\": \"Conv2d\", \"kargs\": {\"in_channels\": 1, \"out_channels\": 256, \"kernel_size\": [1, 7], \"bias\": false, \"padding\": [0, 3]}}, {\"class\": \"ReLU\", \"kargs\": {\"inplace\": true}}, {\"class\": \"BatchNorm2d\", \"kargs\": {\"num_features\": 256}}, {\"class\": \"Conv2d\", \"kargs\": {\"in_channels\": 256, \"out_channels\": 80, \"kernel_size\": [2, 7], \"bias\": true, \"padding\": [0, 3]}}, {\"class\": \"ReLU\", \"kargs\": {\"inplace\": true}}, {\"class\": \"BatchNorm2d\", \"kargs\": {\"num_features\": 80}}, {\"class\": \"Flatten\", \"kargs\": {}}, {\"class\": \"Linear\", \"kargs\": {\"in_features\": 16000, \"out_features\": 256}}, {\"class\": \"ReLU\", \"kargs\": {\"inplace\": true}}, {\"class\": \"BatchNorm1d\", \"kargs\": {\"num_features\": 256}}, {\"class\": \"Linear\", \"kargs\": {\"in_features\": 256, \"out_features\": 256}}], \"NUM_LOGS_PER_EPOCH\": 10, \"BEST_MODEL_PATH\": \"./best_model.pth\", \"n_way\": 16, \"datasets\": [{\"labels\": [\"1-10.\", \"1-11.\", \"1-15.\", \"1-16.\", \"1-17.\", \"1-18.\", \"1-19.\", \"10-4.\", \"10-7.\", \"11-1.\", \"11-14.\", \"11-17.\", \"11-20.\", \"11-7.\", \"13-20.\", \"13-8.\", \"14-10.\", \"14-11.\", \"14-14.\", \"14-7.\", \"15-1.\", \"15-20.\", \"16-1.\", \"16-16.\", \"17-10.\", \"17-11.\", \"17-2.\", \"19-1.\", \"19-16.\", \"19-19.\", \"19-20.\", \"19-3.\", \"2-10.\", \"2-11.\", \"2-17.\", \"2-18.\", \"2-20.\", \"2-3.\", \"2-4.\", \"2-5.\", \"2-6.\", \"2-7.\", \"2-8.\", \"3-13.\", \"3-18.\", \"3-3.\", \"4-1.\", \"4-10.\", \"4-11.\", \"4-19.\", \"5-5.\", \"6-15.\", \"7-10.\", \"7-14.\", \"8-18.\", \"8-20.\", \"8-3.\", \"8-8.\"], \"domains\": [1, 2, 3, 4, 5], \"num_examples_per_domain_per_label\": -1, \"pickle_path\": \"/mnt/wd500GB/CSC500/csc500-main/datasets/cores.stratified_ds.2022A.pkl\", \"source_or_target_dataset\": \"source\", \"x_transforms\": [\"unit_mag\", \"take_200\"], \"episode_transforms\": [], \"domain_prefix\": \"C_\"}, {\"labels\": [\"3123D52\", \"3123D65\", \"3123D79\", \"3123D80\", \"3123D54\", \"3123D70\", \"3123D7B\", \"3123D89\", \"3123D58\", \"3123D76\", \"3123D7D\", \"3123EFE\", \"3123D64\", \"3123D78\", \"3123D7E\", \"3124E4A\"], \"domains\": [32, 38, 8, 44, 14, 50, 20, 26], \"num_examples_per_domain_per_label\": 2000, \"pickle_path\": \"/mnt/wd500GB/CSC500/csc500-main/datasets/oracle.Run1_framed_2000Examples_stratified_ds.2022A.pkl\", \"source_or_target_dataset\": \"target\", \"x_transforms\": [\"unit_mag\", \"take_200\", \"resample_20Msps_to_25Msps\"], \"episode_transforms\": [], \"domain_prefix\": \"O_\"}], \"seed\": 154325, \"dataset_seed\": 154325, \"domains_source\": [\"C_1\", \"C_2\", \"C_3\", \"C_4\", \"C_5\"], \"domains_target\": [\"O_32\", \"O_38\", \"O_8\", \"O_44\", \"O_14\", \"O_50\", \"O_20\", \"O_26\"]}, \"results\": {\"source_test_label_accuracy\": 0.9988801791713325, \"source_test_label_loss\": 0.007317780517041683, \"target_test_label_accuracy\": 0.3460611979166667, \"target_test_label_loss\": 2.2108993530273438, \"source_val_label_accuracy\": 0.9992133867276888, \"source_val_label_loss\": 0.009676849469542503, \"target_val_label_accuracy\": 0.34742838541666665, \"target_val_label_loss\": 2.215575933456421, \"total_epochs_trained\": 8, \"total_experiment_time_secs\": 1289.7756247520447, \"confusion\": {\"C_2\": {\"21\": {\"21\": 120}, \"4\": {\"4\": 130}, \"6\": {\"6\": 124}, \"10\": {\"10\": 112}, \"33\": {\"33\": 28}, \"56\": {\"56\": 122}, \"20\": {\"20\": 132}, \"24\": {\"24\": 96}, \"45\": {\"45\": 128}, \"32\": {\"32\": 28}, \"27\": {\"27\": 148}, \"53\": {\"53\": 136}, \"8\": {\"8\": 160}, \"54\": {\"54\": 108}, \"50\": {\"50\": 134}, \"44\": {\"44\": 100}, \"5\": {\"5\": 120}, \"38\": {\"38\": 20}, \"19\": {\"19\": 132}, \"1\": {\"1\": 112}, \"30\": {\"30\": 144}, \"15\": {\"15\": 144}, \"23\": {\"23\": 146}, \"35\": {\"35\": 32}, \"22\": {\"22\": 128}, \"40\": {\"40\": 140}, \"46\": {\"46\": 126}, \"3\": {\"3\": 92}, \"48\": {\"48\": 148}, \"52\": {\"52\": 124}, \"2\": {\"2\": 32}, \"26\": {\"26\": 24}, \"17\": {\"17\": 104}, \"55\": {\"55\": 144}, \"51\": {\"51\": 122}, \"42\": {\"42\": 36}, \"41\": {\"41\": 20}, \"31\": {\"31\": 28}, \"16\": {\"16\": 138}, \"36\": {\"36\": 116}, \"49\": {\"49\": 24}, \"0\": {\"0\": 48}, \"18\": {\"18\": 48}, \"25\": {\"25\": 146}, \"9\": {\"9\": 122}, \"47\": {\"47\": 132}, \"7\": {\"7\": 36}, \"37\": {\"37\": 36}, \"13\": {\"13\": 116}, \"14\": {\"14\": 24}, \"34\": {\"34\": 28}, \"57\": {\"57\": 140}, \"11\": {\"11\": 138}, \"39\": {\"39\": 28}, \"12\": {\"12\": 92}, \"28\": {\"28\": 28}, \"29\": {\"29\": 128}, \"43\": {\"43\": 140}}, \"C_5\": {\"12\": {\"12\": 96}, \"8\": {\"8\": 142}, \"29\": {\"29\": 132}, \"57\": {\"57\": 126}, \"38\": {\"38\": 32}, \"23\": {\"23\": 124}, \"56\": {\"56\": 138}, \"49\": {\"49\": 36}, \"4\": {\"4\": 100}, \"48\": {\"48\": 136}, \"21\": {\"21\": 144}, \"30\": {\"30\": 128}, \"1\": {\"1\": 148}, \"34\": {\"34\": 36}, \"35\": {\"35\": 36}, \"55\": {\"55\": 152}, \"5\": {\"5\": 122}, \"52\": {\"52\": 126}, \"6\": {\"6\": 125, \"20\": 3}, \"36\": {\"36\": 92}, \"41\": {\"41\": 28}, \"3\": {\"3\": 100}, \"28\": {\"28\": 32}, \"18\": {\"18\": 64}, \"25\": {\"25\": 135, \"41\": 1}, \"47\": {\"47\": 100}, \"13\": {\"13\": 160}, \"11\": {\"11\": 144}, \"53\": {\"53\": 144}, \"33\": {\"33\": 32}, \"46\": {\"46\": 148}, \"50\": {\"50\": 148}, \"10\": {\"10\": 68}, \"15\": {\"15\": 138}, \"44\": {\"44\": 140}, \"2\": {\"2\": 28}, \"7\": {\"7\": 32}, \"43\": {\"43\": 138}, \"32\": {\"32\": 32}, \"0\": {\"0\": 124}, \"39\": {\"39\": 20}, \"26\": {\"26\": 24}, \"27\": {\"27\": 112}, \"54\": {\"54\": 112}, \"17\": {\"17\": 116}, \"14\": {\"14\": 44}, \"16\": {\"16\": 148}, \"9\": {\"9\": 148}, \"19\": {\"19\": 152}, \"20\": {\"20\": 138}, \"37\": {\"37\": 24}, \"24\": {\"24\": 80}, \"40\": {\"40\": 122}, \"45\": {\"45\": 124}, \"22\": {\"22\": 28}, \"42\": {\"42\": 38, \"22\": 1, \"56\": 1}, \"51\": {\"51\": 118}, \"31\": {\"31\": 36}}, \"C_1\": {\"27\": {\"27\": 142}, \"2\": {\"2\": 36}, \"33\": {\"33\": 32}, \"45\": {\"45\": 156}, \"38\": {\"38\": 24}, \"4\": {\"4\": 132}, \"31\": {\"31\": 28}, \"55\": {\"55\": 140}, \"32\": {\"32\": 32}, \"57\": {\"57\": 140}, \"14\": {\"14\": 23, \"8\": 1}, \"16\": {\"16\": 140}, \"34\": {\"34\": 24}, \"56\": {\"56\": 126}, \"24\": {\"24\": 108}, \"30\": {\"30\": 112}, \"17\": {\"17\": 64}, \"13\": {\"13\": 138}, \"39\": {\"39\": 28}, \"50\": {\"50\": 146}, \"20\": {\"20\": 140}, \"41\": {\"41\": 24}, \"53\": {\"53\": 126}, \"48\": {\"48\": 142}, \"36\": {\"36\": 64}, \"8\": {\"8\": 140}, \"15\": {\"15\": 132}, \"40\": {\"40\": 156}, \"37\": {\"37\": 32}, \"21\": {\"21\": 120}, \"35\": {\"35\": 36}, \"49\": {\"49\": 32}, \"26\": {\"26\": 24}, \"28\": {\"28\": 28}, \"12\": {\"12\": 116}, \"5\": {\"5\": 152}, \"29\": {\"29\": 139, \"56\": 1}, \"47\": {\"47\": 140}, \"10\": {\"10\": 96}, \"18\": {\"18\": 71, \"48\": 1}, \"9\": {\"9\": 126}, \"3\": {\"3\": 139, \"22\": 1}, \"52\": {\"52\": 132}, \"25\": {\"25\": 136}, \"19\": {\"19\": 156}, \"11\": {\"11\": 136}, \"7\": {\"7\": 28}, \"23\": {\"23\": 136}, \"44\": {\"44\": 132}, \"42\": {\"42\": 40}, \"54\": {\"54\": 104}, \"1\": {\"1\": 100}, \"46\": {\"46\": 128}, \"6\": {\"6\": 96}, \"43\": {\"43\": 144}, \"51\": {\"51\": 142}, \"22\": {\"22\": 136}, \"0\": {\"0\": 128}}, \"C_4\": {\"32\": {\"32\": 24}, \"2\": {\"2\": 36}, \"41\": {\"41\": 36}, \"11\": {\"11\": 102}, \"57\": {\"57\": 100}, \"6\": {\"6\": 112}, \"23\": {\"23\": 136}, \"52\": {\"52\": 116}, \"38\": {\"38\": 40}, \"50\": {\"50\": 130, \"3\": 2}, \"55\": {\"55\": 152}, \"46\": {\"46\": 154}, \"37\": {\"37\": 24}, \"20\": {\"20\": 118}, \"49\": {\"49\": 20}, \"45\": {\"45\": 96}, \"54\": {\"54\": 108}, \"3\": {\"3\": 123, \"5\": 1}, \"13\": {\"13\": 152}, \"18\": {\"18\": 107, \"23\": 1}, \"21\": {\"21\": 125, \"50\": 1}, \"43\": {\"43\": 144}, \"47\": {\"47\": 120}, \"4\": {\"4\": 132}, \"12\": {\"12\": 92}, \"9\": {\"9\": 128}, \"7\": {\"7\": 24}, \"56\": {\"56\": 112}, \"28\": {\"28\": 32}, \"44\": {\"44\": 131, \"4\": 1}, \"24\": {\"24\": 55, \"13\": 1}, \"33\": {\"33\": 36}, \"35\": {\"35\": 40}, \"51\": {\"51\": 138}, \"39\": {\"39\": 20}, \"36\": {\"36\": 92}, \"19\": {\"19\": 140}, \"0\": {\"0\": 79, \"46\": 1}, \"15\": {\"15\": 134, \"10\": 1, \"11\": 1}, \"29\": {\"29\": 124}, \"30\": {\"30\": 44}, \"1\": {\"1\": 40}, \"22\": {\"22\": 128}, \"40\": {\"40\": 146}, \"8\": {\"8\": 128}, \"53\": {\"53\": 138}, \"34\": {\"34\": 24}, \"10\": {\"10\": 122}, \"31\": {\"31\": 28}, \"17\": {\"17\": 80}, \"16\": {\"16\": 96}, \"42\": {\"42\": 32}, \"27\": {\"27\": 142}, \"14\": {\"14\": 16}, \"25\": {\"25\": 122}, \"48\": {\"48\": 132}, \"26\": {\"26\": 24}, \"5\": {\"5\": 108}}, \"C_3\": {\"14\": {\"14\": 40}, \"18\": {\"18\": 84}, \"30\": {\"30\": 120}, \"16\": {\"16\": 156}, \"1\": {\"1\": 100}, \"20\": {\"20\": 132}, \"7\": {\"7\": 36}, \"52\": {\"52\": 130}, \"9\": {\"9\": 140}, \"23\": {\"23\": 144}, \"55\": {\"55\": 164}, \"29\": {\"29\": 126}, \"56\": {\"56\": 134}, \"3\": {\"3\": 124}, \"42\": {\"42\": 28}, \"6\": {\"6\": 87, \"12\": 1}, \"5\": {\"5\": 116}, \"27\": {\"27\": 144}, \"47\": {\"47\": 92}, \"39\": {\"39\": 16}, \"34\": {\"34\": 32}, \"4\": {\"4\": 126}, \"24\": {\"24\": 104}, \"46\": {\"46\": 118}, \"50\": {\"50\": 126}, \"38\": {\"38\": 28}, \"54\": {\"54\": 100}, \"35\": {\"35\": 28}, \"2\": {\"2\": 32}, \"41\": {\"41\": 28}, \"57\": {\"57\": 118}, \"25\": {\"25\": 150}, \"48\": {\"48\": 116}, \"33\": {\"33\": 28}, \"45\": {\"45\": 60}, \"13\": {\"13\": 126}, \"36\": {\"36\": 100}, \"43\": {\"43\": 132}, \"28\": {\"28\": 28}, \"0\": {\"0\": 124}, \"12\": {\"12\": 92}, \"31\": {\"31\": 28}, \"40\": {\"40\": 116}, \"44\": {\"44\": 87, \"40\": 1}, \"32\": {\"32\": 28}, \"26\": {\"26\": 24}, \"8\": {\"8\": 116}, \"10\": {\"10\": 64}, \"15\": {\"15\": 142}, \"21\": {\"21\": 128}, \"37\": {\"37\": 28}, \"17\": {\"17\": 108}, \"51\": {\"51\": 124}, \"53\": {\"53\": 144}, \"19\": {\"19\": 136}, \"49\": {\"49\": 20}, \"11\": {\"11\": 138}, \"22\": {\"22\": 130}}, \"O_8\": {\"13\": {\"6\": 23, \"7\": 25, \"14\": 29, \"5\": 20, \"10\": 22, \"0\": 37, \"8\": 10, \"4\": 24, \"1\": 9, \"11\": 5, \"13\": 33, \"3\": 1, \"15\": 2}, \"9\": {\"9\": 220, \"0\": 1, \"5\": 12, \"10\": 3, \"13\": 2, \"14\": 1, \"1\": 1}, \"15\": {\"15\": 61, \"3\": 26, \"8\": 41, \"2\": 16, \"12\": 52, \"7\": 18, \"4\": 4, \"6\": 10, \"14\": 3, \"0\": 7, \"1\": 2}, \"2\": {\"3\": 56, \"2\": 74, \"8\": 3, \"15\": 12, \"12\": 32, \"0\": 20, \"7\": 28, \"6\": 12, \"14\": 1, \"13\": 1, \"10\": 1}, \"3\": {\"3\": 100, \"2\": 55, \"12\": 54, \"15\": 17, \"7\": 6, \"0\": 2, \"4\": 1, \"13\": 2, \"8\": 2, \"6\": 1}, \"8\": {\"15\": 38, \"11\": 17, \"6\": 22, \"8\": 58, \"7\": 20, \"14\": 14, \"4\": 9, \"0\": 12, \"12\": 22, \"1\": 10, \"10\": 5, \"13\": 6, \"2\": 2, \"3\": 3, \"5\": 2}, \"5\": {\"10\": 42, \"5\": 65, \"9\": 8, \"14\": 20, \"1\": 45, \"4\": 13, \"13\": 20, \"11\": 17, \"6\": 3, \"0\": 6, \"8\": 1}, \"14\": {\"14\": 32, \"4\": 25, \"10\": 40, \"11\": 23, \"0\": 19, \"6\": 9, \"1\": 24, \"7\": 5, \"13\": 30, \"8\": 10, \"5\": 22, \"15\": 1}, \"1\": {\"5\": 25, \"11\": 45, \"4\": 23, \"14\": 24, \"10\": 23, \"13\": 10, \"8\": 12, \"1\": 61, \"0\": 4, \"15\": 3, \"6\": 7, \"7\": 3}, \"0\": {\"10\": 18, \"4\": 18, \"13\": 24, \"14\": 27, \"6\": 32, \"0\": 54, \"8\": 9, \"7\": 39, \"11\": 4, \"15\": 2, \"2\": 5, \"5\": 5, \"3\": 1, \"1\": 1, \"12\": 1}, \"10\": {\"10\": 51, \"0\": 22, \"13\": 26, \"1\": 21, \"4\": 28, \"11\": 8, \"8\": 8, \"5\": 29, \"6\": 9, \"14\": 27, \"7\": 11}, \"6\": {\"4\": 22, \"7\": 24, \"13\": 28, \"14\": 23, \"6\": 30, \"8\": 24, \"10\": 13, \"1\": 7, \"15\": 14, \"12\": 5, \"0\": 40, \"11\": 6, \"2\": 3, \"5\": 1}, \"11\": {\"4\": 13, \"1\": 55, \"11\": 80, \"5\": 19, \"8\": 13, \"14\": 17, \"0\": 2, \"15\": 2, \"7\": 5, \"10\": 23, \"13\": 5, \"6\": 5, \"12\": 1}, \"7\": {\"13\": 18, \"12\": 18, \"0\": 32, \"3\": 2, \"8\": 21, \"7\": 41, \"6\": 29, \"15\": 13, \"4\": 31, \"14\": 12, \"2\": 9, \"1\": 5, \"5\": 1, \"10\": 5, \"11\": 3}, \"4\": {\"10\": 20, \"4\": 29, \"7\": 18, \"8\": 13, \"1\": 15, \"0\": 28, \"6\": 25, \"14\": 35, \"13\": 28, \"11\": 9, \"5\": 12, \"2\": 3, \"15\": 5}, \"12\": {\"3\": 50, \"12\": 89, \"15\": 52, \"8\": 14, \"0\": 1, \"2\": 24, \"6\": 4, \"7\": 4, \"4\": 1, \"11\": 1}}, \"O_38\": {\"13\": {\"2\": 32, \"1\": 27, \"13\": 80, \"11\": 1, \"10\": 25, \"8\": 14, \"5\": 14, \"15\": 38, \"9\": 3, \"14\": 1, \"7\": 2, \"0\": 3}, \"12\": {\"4\": 45, \"12\": 153, \"8\": 3, \"10\": 15, \"14\": 13, \"0\": 3, \"11\": 5, \"7\": 2, \"15\": 1}, \"2\": {\"1\": 8, \"2\": 116, \"13\": 23, \"14\": 49, \"15\": 23, \"0\": 1, \"11\": 11, \"10\": 6, \"8\": 3}, \"9\": {\"3\": 35, \"9\": 90, \"6\": 85, \"8\": 10, \"5\": 13, \"1\": 6, \"0\": 1}, \"15\": {\"1\": 39, \"10\": 20, \"13\": 58, \"15\": 71, \"6\": 4, \"8\": 16, \"2\": 11, \"7\": 1, \"9\": 1, \"5\": 13, \"0\": 4, \"14\": 1, \"11\": 1}, \"5\": {\"15\": 12, \"5\": 54, \"7\": 32, \"13\": 16, \"6\": 27, \"9\": 13, \"8\": 37, \"1\": 12, \"0\": 28, \"10\": 8, \"12\": 1}, \"14\": {\"11\": 53, \"14\": 128, \"10\": 18, \"2\": 20, \"13\": 3, \"15\": 9, \"12\": 7, \"8\": 2}, \"0\": {\"0\": 64, \"8\": 41, \"7\": 43, \"3\": 14, \"5\": 24, \"1\": 7, \"6\": 8, \"9\": 7, \"12\": 8, \"13\": 7, \"15\": 7, \"14\": 1, \"10\": 7, \"4\": 2}, \"3\": {\"6\": 18, \"3\": 141, \"9\": 38, \"0\": 16, \"8\": 4, \"7\": 12, \"1\": 2, \"5\": 8, \"12\": 1}, \"1\": {\"15\": 45, \"1\": 123, \"13\": 20, \"8\": 12, \"6\": 14, \"5\": 12, \"9\": 7, \"0\": 4, \"10\": 1, \"2\": 2}, \"11\": {\"14\": 71, \"11\": 116, \"10\": 13, \"12\": 6, \"2\": 28, \"13\": 1, \"15\": 3, \"8\": 1, \"4\": 1}, \"7\": {\"7\": 108, \"0\": 35, \"9\": 5, \"8\": 31, \"4\": 8, \"5\": 33, \"6\": 2, \"10\": 8, \"13\": 3, \"12\": 1, \"3\": 4, \"15\": 2}, \"8\": {\"15\": 26, \"13\": 19, \"5\": 38, \"8\": 47, \"10\": 18, \"6\": 8, \"0\": 32, \"7\": 29, \"1\": 17, \"9\": 4, \"14\": 1, \"3\": 1}, \"4\": {\"4\": 177, \"12\": 47, \"10\": 7, \"7\": 6, \"15\": 1, \"0\": 2}, \"10\": {\"12\": 17, \"2\": 9, \"8\": 14, \"13\": 33, \"0\": 10, \"7\": 11, \"15\": 35, \"10\": 85, \"14\": 12, \"4\": 4, \"5\": 6, \"11\": 3, \"1\": 1}, \"6\": {\"9\": 58, \"6\": 114, \"3\": 8, \"5\": 27, \"0\": 4, \"1\": 10, \"8\": 6, \"7\": 9, \"13\": 2, \"15\": 2}}, \"O_26\": {\"10\": {\"13\": 8, \"15\": 10, \"4\": 23, \"5\": 12, \"7\": 18, \"6\": 17, \"14\": 29, \"2\": 5, \"9\": 16, \"0\": 21, \"1\": 24, \"10\": 31, \"3\": 2, \"8\": 22, \"12\": 2}, \"12\": {\"12\": 181, \"11\": 31, \"10\": 3, \"15\": 2, \"6\": 13, \"13\": 2, \"0\": 4, \"9\": 2, \"8\": 1, \"14\": 1}, \"1\": {\"14\": 28, \"10\": 24, \"3\": 11, \"9\": 7, \"6\": 7, \"4\": 28, \"8\": 22, \"1\": 52, \"7\": 23, \"2\": 6, \"5\": 9, \"0\": 20, \"13\": 1, \"15\": 1, \"12\": 1}, \"0\": {\"4\": 33, \"9\": 15, \"0\": 37, \"7\": 11, \"3\": 4, \"8\": 17, \"10\": 32, \"15\": 12, \"6\": 17, \"1\": 22, \"14\": 32, \"2\": 3, \"12\": 1, \"13\": 3, \"5\": 1}, \"15\": {\"3\": 8, \"8\": 22, \"13\": 27, \"5\": 18, \"7\": 20, \"1\": 8, \"15\": 52, \"10\": 17, \"0\": 8, \"6\": 19, \"2\": 9, \"9\": 17, \"14\": 8, \"4\": 7}, \"13\": {\"5\": 60, \"13\": 56, \"15\": 24, \"6\": 18, \"10\": 14, \"1\": 3, \"9\": 22, \"8\": 12, \"3\": 4, \"2\": 16, \"12\": 2, \"7\": 4, \"4\": 2, \"0\": 2, \"11\": 1}, \"8\": {\"9\": 20, \"14\": 19, \"0\": 17, \"4\": 20, \"7\": 24, \"3\": 9, \"2\": 16, \"15\": 20, \"6\": 18, \"8\": 20, \"10\": 20, \"1\": 15, \"13\": 9, \"5\": 11, \"12\": 2}, \"3\": {\"14\": 13, \"2\": 41, \"3\": 59, \"15\": 9, \"7\": 38, \"5\": 15, \"8\": 10, \"13\": 9, \"1\": 9, \"6\": 2, \"9\": 8, \"0\": 5, \"4\": 16, \"10\": 6}, \"11\": {\"11\": 182, \"12\": 38, \"6\": 3, \"5\": 3, \"13\": 11, \"8\": 1, \"0\": 1, \"15\": 1}, \"4\": {\"14\": 32, \"5\": 12, \"0\": 23, \"7\": 24, \"3\": 13, \"9\": 9, \"1\": 33, \"10\": 23, \"2\": 9, \"15\": 8, \"4\": 29, \"8\": 15, \"6\": 8, \"13\": 2}, \"6\": {\"4\": 11, \"1\": 6, \"6\": 41, \"13\": 27, \"5\": 12, \"10\": 26, \"0\": 25, \"9\": 30, \"3\": 3, \"15\": 17, \"2\": 3, \"14\": 12, \"7\": 4, \"12\": 12, \"8\": 11}, \"7\": {\"10\": 13, \"1\": 15, \"15\": 19, \"2\": 25, \"5\": 11, \"3\": 33, \"14\": 16, \"7\": 45, \"9\": 14, \"4\": 14, \"8\": 16, \"0\": 12, \"13\": 4, \"6\": 3}, \"14\": {\"1\": 35, \"8\": 15, \"14\": 29, \"9\": 9, \"13\": 4, \"2\": 8, \"15\": 9, \"0\": 24, \"4\": 33, \"10\": 30, \"7\": 21, \"3\": 7, \"6\": 11, \"5\": 4, \"12\": 1}, \"2\": {\"7\": 30, \"5\": 26, \"4\": 11, \"1\": 8, \"2\": 38, \"13\": 13, \"6\": 8, \"15\": 17, \"14\": 7, \"9\": 12, \"3\": 45, \"10\": 8, \"8\": 15, \"0\": 2}, \"5\": {\"8\": 19, \"2\": 25, \"13\": 43, \"15\": 20, \"5\": 47, \"10\": 5, \"6\": 10, \"9\": 28, \"7\": 16, \"3\": 12, \"14\": 5, \"1\": 3, \"0\": 1, \"4\": 5, \"12\": 1}, \"9\": {\"5\": 23, \"4\": 10, \"9\": 51, \"0\": 10, \"13\": 32, \"7\": 12, \"10\": 12, \"2\": 14, \"15\": 19, \"6\": 20, \"8\": 13, \"14\": 8, \"1\": 4, \"3\": 9, \"12\": 3}}, \"O_20\": {\"5\": {\"12\": 26, \"5\": 31, \"4\": 17, \"13\": 14, \"1\": 41, \"9\": 10, \"6\": 2, \"7\": 11, \"0\": 21, \"2\": 11, \"3\": 19, \"15\": 23, \"8\": 9, \"10\": 5}, \"15\": {\"15\": 51, \"4\": 13, \"1\": 40, \"5\": 24, \"13\": 29, \"7\": 9, \"9\": 11, \"0\": 28, \"12\": 14, \"3\": 6, \"2\": 9, \"10\": 3, \"8\": 3}, \"9\": {\"3\": 23, \"9\": 22, \"10\": 10, \"4\": 15, \"2\": 29, \"13\": 21, \"15\": 8, \"6\": 5, \"7\": 22, \"8\": 11, \"1\": 17, \"0\": 7, \"5\": 20, \"12\": 22, \"11\": 4, \"14\": 4}, \"7\": {\"8\": 14, \"7\": 39, \"2\": 21, \"13\": 22, \"3\": 17, \"10\": 8, \"11\": 10, \"15\": 7, \"6\": 25, \"12\": 10, \"4\": 12, \"1\": 6, \"9\": 15, \"5\": 11, \"14\": 14, \"0\": 9}, \"3\": {\"4\": 22, \"0\": 11, \"15\": 9, \"5\": 23, \"9\": 13, \"3\": 40, \"1\": 16, \"7\": 15, \"10\": 12, \"14\": 9, \"13\": 11, \"12\": 21, \"2\": 23, \"8\": 12, \"6\": 3}, \"8\": {\"12\": 14, \"0\": 11, \"6\": 13, \"8\": 40, \"7\": 15, \"14\": 32, \"3\": 12, \"5\": 11, \"10\": 20, \"4\": 34, \"13\": 6, \"9\": 12, \"2\": 11, \"11\": 2, \"1\": 4, \"15\": 3}, \"4\": {\"12\": 20, \"2\": 12, \"4\": 40, \"6\": 11, \"5\": 10, \"14\": 18, \"3\": 16, \"8\": 24, \"9\": 12, \"0\": 15, \"7\": 11, \"10\": 25, \"13\": 10, \"1\": 12, \"15\": 4}, \"6\": {\"4\": 12, \"6\": 61, \"10\": 22, \"8\": 25, \"14\": 50, \"13\": 6, \"12\": 2, \"11\": 16, \"2\": 8, \"7\": 20, \"3\": 5, \"9\": 9, \"5\": 2, \"1\": 1, \"0\": 1}, \"2\": {\"2\": 29, \"0\": 10, \"5\": 13, \"1\": 16, \"9\": 29, \"15\": 14, \"11\": 12, \"3\": 23, \"10\": 8, \"14\": 3, \"12\": 24, \"6\": 5, \"13\": 22, \"7\": 17, \"8\": 11, \"4\": 4}, \"12\": {\"0\": 17, \"13\": 7, \"12\": 25, \"5\": 28, \"15\": 22, \"2\": 21, \"9\": 17, \"1\": 25, \"3\": 22, \"7\": 17, \"4\": 12, \"10\": 6, \"8\": 13, \"6\": 2, \"14\": 6}, \"0\": {\"12\": 14, \"15\": 30, \"4\": 15, \"5\": 31, \"0\": 52, \"1\": 32, \"9\": 11, \"13\": 11, \"7\": 9, \"3\": 13, \"2\": 9, \"8\": 10, \"10\": 2, \"11\": 1}, \"13\": {\"12\": 9, \"15\": 27, \"2\": 29, \"7\": 21, \"9\": 13, \"3\": 16, \"4\": 4, \"13\": 50, \"1\": 13, \"8\": 5, \"5\": 25, \"11\": 9, \"0\": 13, \"6\": 4, \"14\": 2}, \"10\": {\"4\": 30, \"9\": 12, \"10\": 59, \"14\": 44, \"0\": 4, \"2\": 14, \"3\": 10, \"6\": 19, \"7\": 19, \"8\": 17, \"12\": 9, \"5\": 2, \"1\": 1}, \"11\": {\"2\": 14, \"11\": 145, \"7\": 17, \"12\": 1, \"13\": 17, \"6\": 23, \"14\": 8, \"3\": 4, \"1\": 1, \"5\": 2, \"10\": 1, \"0\": 3, \"8\": 2, \"9\": 1, \"4\": 1}, \"14\": {\"6\": 47, \"14\": 59, \"7\": 16, \"13\": 3, \"0\": 4, \"4\": 16, \"12\": 4, \"10\": 41, \"8\": 25, \"3\": 5, \"11\": 3, \"9\": 7, \"2\": 7, \"5\": 2, \"1\": 1}, \"1\": {\"9\": 23, \"0\": 28, \"4\": 8, \"12\": 29, \"13\": 13, \"3\": 19, \"5\": 29, \"8\": 7, \"1\": 29, \"15\": 25, \"7\": 9, \"2\": 16, \"14\": 3, \"10\": 2}}, \"O_50\": {\"1\": {\"2\": 13, \"15\": 42, \"13\": 17, \"1\": 77, \"4\": 32, \"11\": 13, \"6\": 15, \"14\": 8, \"5\": 15, \"0\": 4, \"10\": 1, \"7\": 3}, \"2\": {\"2\": 133, \"7\": 2, \"0\": 62, \"13\": 3, \"6\": 7, \"1\": 10, \"14\": 9, \"10\": 13, \"15\": 1}, \"8\": {\"8\": 132, \"3\": 50, \"10\": 36, \"7\": 9, \"13\": 4, \"0\": 9}, \"7\": {\"10\": 33, \"13\": 50, \"7\": 84, \"2\": 2, \"8\": 3, \"0\": 8, \"5\": 34, \"6\": 16, \"4\": 4, \"3\": 3, \"1\": 3}, \"14\": {\"14\": 103, \"12\": 44, \"2\": 15, \"9\": 24, \"15\": 10, \"11\": 33, \"1\": 7, \"6\": 2, \"4\": 1, \"0\": 1}, \"6\": {\"13\": 34, \"15\": 26, \"0\": 4, \"7\": 26, \"6\": 59, \"1\": 20, \"2\": 9, \"14\": 2, \"4\": 21, \"5\": 32, \"11\": 1, \"10\": 6}, \"3\": {\"3\": 162, \"8\": 75, \"0\": 2, \"10\": 1}, \"4\": {\"1\": 42, \"4\": 59, \"15\": 39, \"14\": 4, \"7\": 14, \"13\": 18, \"2\": 5, \"5\": 22, \"6\": 23, \"11\": 5, \"9\": 1, \"10\": 4, \"0\": 4}, \"12\": {\"12\": 133, \"9\": 43, \"14\": 52, \"11\": 11, \"2\": 1}, \"15\": {\"11\": 25, \"15\": 91, \"14\": 11, \"6\": 25, \"1\": 34, \"5\": 8, \"4\": 37, \"13\": 4, \"7\": 1, \"2\": 4}, \"11\": {\"15\": 29, \"11\": 91, \"12\": 14, \"9\": 39, \"6\": 3, \"14\": 33, \"1\": 20, \"4\": 9, \"2\": 2}, \"0\": {\"10\": 35, \"0\": 108, \"2\": 47, \"8\": 7, \"7\": 4, \"13\": 17, \"1\": 6, \"4\": 3, \"5\": 6, \"6\": 7}, \"9\": {\"12\": 45, \"9\": 110, \"15\": 6, \"14\": 20, \"11\": 56, \"4\": 1, \"0\": 1, \"1\": 1}, \"10\": {\"10\": 73, \"6\": 5, \"0\": 37, \"8\": 33, \"7\": 29, \"5\": 24, \"13\": 30, \"2\": 7, \"1\": 1, \"3\": 1}, \"5\": {\"1\": 21, \"0\": 13, \"4\": 26, \"13\": 38, \"6\": 18, \"7\": 35, \"10\": 26, \"5\": 49, \"15\": 7, \"2\": 5, \"8\": 2}, \"13\": {\"13\": 59, \"7\": 44, \"5\": 41, \"4\": 9, \"10\": 26, \"0\": 11, \"8\": 2, \"6\": 28, \"1\": 12, \"15\": 3, \"2\": 5}}, \"O_32\": {\"2\": {\"2\": 87, \"4\": 50, \"0\": 30, \"11\": 3, \"14\": 16, \"5\": 13, \"3\": 2, \"13\": 10, \"7\": 23, \"8\": 5, \"9\": 1}, \"6\": {\"6\": 213, \"10\": 13, \"12\": 13, \"9\": 1}, \"5\": {\"3\": 28, \"5\": 37, \"0\": 19, \"8\": 34, \"7\": 26, \"2\": 18, \"4\": 20, \"13\": 37, \"11\": 11, \"14\": 10}, \"12\": {\"9\": 26, \"12\": 198, \"6\": 16}, \"13\": {\"13\": 48, \"7\": 31, \"11\": 13, \"0\": 16, \"5\": 31, \"4\": 18, \"2\": 10, \"3\": 41, \"14\": 9, \"8\": 22, \"15\": 1}, \"9\": {\"12\": 32, \"9\": 200, \"2\": 4, \"4\": 2, \"0\": 2}, \"11\": {\"3\": 26, \"8\": 5, \"14\": 65, \"7\": 33, \"11\": 78, \"0\": 4, \"5\": 6, \"13\": 12, \"4\": 4, \"2\": 7}, \"1\": {\"1\": 190, \"6\": 3, \"10\": 47}, \"3\": {\"8\": 26, \"3\": 107, \"15\": 6, \"13\": 44, \"11\": 15, \"14\": 6, \"5\": 26, \"7\": 10}, \"7\": {\"7\": 50, \"2\": 22, \"4\": 33, \"3\": 10, \"13\": 21, \"5\": 31, \"14\": 20, \"0\": 18, \"11\": 22, \"8\": 13}, \"14\": {\"14\": 59, \"7\": 40, \"11\": 61, \"2\": 16, \"3\": 9, \"13\": 13, \"5\": 9, \"0\": 19, \"8\": 8, \"4\": 6}, \"8\": {\"13\": 31, \"5\": 29, \"8\": 77, \"14\": 7, \"7\": 9, \"3\": 20, \"15\": 12, \"0\": 28, \"2\": 8, \"11\": 3, \"4\": 16}, \"4\": {\"14\": 9, \"2\": 60, \"7\": 30, \"0\": 23, \"4\": 41, \"5\": 32, \"13\": 19, \"11\": 8, \"3\": 6, \"8\": 12}, \"0\": {\"4\": 38, \"2\": 22, \"8\": 36, \"0\": 68, \"11\": 10, \"5\": 15, \"14\": 11, \"13\": 20, \"7\": 14, \"9\": 3, \"3\": 3}, \"10\": {\"10\": 186, \"1\": 36, \"6\": 18}, \"15\": {\"15\": 210, \"0\": 1, \"8\": 20, \"13\": 2, \"4\": 1, \"3\": 3, \"5\": 3}}, \"O_44\": {\"13\": {\"13\": 81, \"9\": 33, \"7\": 20, \"6\": 56, \"11\": 17, \"4\": 23, \"2\": 7, \"3\": 1, \"1\": 1, \"14\": 1}, \"4\": {\"14\": 56, \"4\": 123, \"15\": 24, \"13\": 13, \"9\": 9, \"0\": 3, \"5\": 4, \"7\": 2, \"8\": 3, \"11\": 1, \"6\": 2}, \"6\": {\"6\": 93, \"7\": 16, \"9\": 32, \"13\": 68, \"11\": 23, \"2\": 6, \"14\": 1, \"4\": 1}, \"0\": {\"5\": 53, \"8\": 73, \"0\": 67, \"14\": 9, \"15\": 35, \"4\": 3}, \"10\": {\"2\": 34, \"3\": 19, \"10\": 80, \"1\": 45, \"12\": 52, \"7\": 9, \"9\": 1}, \"7\": {\"2\": 61, \"9\": 46, \"7\": 65, \"6\": 23, \"3\": 12, \"13\": 17, \"10\": 3, \"1\": 10, \"14\": 1, \"12\": 1, \"11\": 1}, \"14\": {\"14\": 72, \"4\": 66, \"5\": 36, \"15\": 40, \"0\": 14, \"13\": 4, \"9\": 2, \"8\": 6}, \"15\": {\"14\": 44, \"8\": 34, \"15\": 83, \"5\": 25, \"0\": 35, \"4\": 19}, \"5\": {\"0\": 42, \"14\": 34, \"5\": 90, \"4\": 19, \"15\": 32, \"8\": 23}, \"2\": {\"6\": 11, \"1\": 25, \"10\": 39, \"7\": 39, \"3\": 18, \"2\": 79, \"9\": 20, \"12\": 7, \"13\": 2}, \"9\": {\"1\": 1, \"7\": 46, \"13\": 40, \"9\": 78, \"4\": 6, \"11\": 4, \"6\": 31, \"2\": 21, \"3\": 9, \"10\": 3, \"14\": 1}, \"12\": {\"3\": 41, \"12\": 96, \"10\": 43, \"1\": 51, \"2\": 6, \"7\": 3}, \"8\": {\"0\": 78, \"8\": 102, \"15\": 31, \"5\": 24, \"14\": 5}, \"3\": {\"3\": 120, \"1\": 58, \"12\": 38, \"7\": 7, \"10\": 6, \"2\": 9, \"9\": 2}, \"1\": {\"1\": 58, \"3\": 57, \"12\": 52, \"10\": 32, \"2\": 31, \"9\": 3, \"7\": 6, \"13\": 1}, \"11\": {\"9\": 15, \"11\": 140, \"13\": 44, \"6\": 34, \"7\": 4, \"4\": 2, \"2\": 1}}, \"O_14\": {\"1\": {\"5\": 52, \"1\": 84, \"8\": 16, \"7\": 22, \"4\": 23, \"3\": 19, \"15\": 13, \"2\": 9, \"14\": 1, \"6\": 1}, \"15\": {\"15\": 103, \"5\": 22, \"2\": 9, \"6\": 3, \"1\": 16, \"7\": 77, \"4\": 5, \"13\": 3, \"3\": 1, \"14\": 1}, \"10\": {\"3\": 19, \"13\": 10, \"0\": 55, \"11\": 29, \"9\": 2, \"10\": 80, \"1\": 2, \"14\": 12, \"8\": 7, \"6\": 4, \"4\": 16, \"2\": 3, \"5\": 1}, \"2\": {\"14\": 29, \"0\": 11, \"6\": 29, \"5\": 29, \"1\": 20, \"4\": 27, \"3\": 22, \"13\": 23, \"7\": 5, \"2\": 33, \"15\": 6, \"8\": 2, \"10\": 3, \"11\": 1}, \"9\": {\"9\": 118, \"12\": 60, \"11\": 38, \"0\": 12, \"10\": 2, \"8\": 10}, \"5\": {\"5\": 48, \"10\": 1, \"4\": 31, \"2\": 40, \"3\": 26, \"15\": 13, \"7\": 16, \"1\": 43, \"0\": 1, \"13\": 2, \"14\": 9, \"8\": 5, \"6\": 5}, \"7\": {\"7\": 133, \"15\": 54, \"2\": 3, \"5\": 22, \"4\": 4, \"1\": 19, \"8\": 4, \"3\": 1}, \"13\": {\"13\": 60, \"14\": 49, \"1\": 3, \"6\": 66, \"10\": 5, \"2\": 22, \"15\": 5, \"4\": 14, \"0\": 5, \"5\": 7, \"3\": 3, \"7\": 1}, \"8\": {\"1\": 26, \"8\": 178, \"4\": 6, \"0\": 8, \"7\": 1, \"9\": 8, \"3\": 7, \"5\": 4, \"2\": 1, \"10\": 1}, \"6\": {\"6\": 53, \"13\": 60, \"5\": 13, \"14\": 45, \"4\": 21, \"2\": 25, \"1\": 4, \"10\": 7, \"3\": 10, \"0\": 1, \"8\": 1}, \"3\": {\"1\": 17, \"13\": 7, \"0\": 41, \"2\": 28, \"14\": 31, \"3\": 36, \"4\": 32, \"6\": 9, \"5\": 20, \"8\": 6, \"10\": 11, \"11\": 2}, \"12\": {\"9\": 50, \"12\": 182, \"11\": 7, \"0\": 1}, \"0\": {\"10\": 26, \"11\": 45, \"0\": 70, \"3\": 39, \"14\": 20, \"8\": 11, \"13\": 2, \"9\": 13, \"4\": 9, \"2\": 2, \"1\": 2, \"6\": 1}, \"4\": {\"6\": 13, \"4\": 42, \"2\": 26, \"8\": 14, \"10\": 13, \"1\": 21, \"13\": 19, \"15\": 3, \"14\": 13, \"5\": 27, \"3\": 38, \"0\": 8, \"7\": 2, \"11\": 1}, \"14\": {\"2\": 33, \"14\": 60, \"4\": 22, \"10\": 8, \"13\": 31, \"5\": 10, \"6\": 36, \"3\": 22, \"0\": 15, \"8\": 2, \"11\": 1}, \"11\": {\"11\": 127, \"9\": 39, \"14\": 4, \"0\": 41, \"12\": 9, \"10\": 18, \"8\": 1, \"4\": 1}}}, \"per_domain_accuracy\": {\"C_2\": {\"accuracy\": 1.0, \"source?\": true}, \"C_5\": {\"accuracy\": 0.9989466292134831, \"source?\": true}, \"C_1\": {\"accuracy\": 0.9993131868131868, \"source?\": true}, \"C_4\": {\"accuracy\": 0.9981287425149701, \"source?\": true}, \"C_3\": {\"accuracy\": 0.9996345029239766, \"source?\": true}, \"O_8\": {\"accuracy\": 0.28072916666666664, \"source?\": false}, \"O_38\": {\"accuracy\": 0.43411458333333336, \"source?\": false}, \"O_26\": {\"accuracy\": 0.24739583333333334, \"source?\": false}, \"O_20\": {\"accuracy\": 0.20104166666666667, \"source?\": false}, \"O_50\": {\"accuracy\": 0.3966145833333333, \"source?\": false}, \"O_32\": {\"accuracy\": 0.48151041666666666, \"source?\": false}, \"O_44\": {\"accuracy\": 0.37161458333333336, \"source?\": false}, \"O_14\": {\"accuracy\": 0.36640625, \"source?\": false}}}, \"history\": {\"epoch_indices\": [1, 2, 3, 4, 5, 6, 7, 8], \"train_label_loss\": [0.03265490521409248, 0.009221267173650615, 0.0059901248629918346, 0.004982075190628727, 0.0050275674593253114, 0.0023156860519621372, 0.0039363746865217954, 0.003148194182705026], \"source_val_label_loss\": [0.009148928336799145, 0.01129324734210968, 0.010174939408898354, 0.009676849469542503, 0.010510495863854885, 0.009486421942710876, 0.013096022419631481, 0.011082320474088192], \"target_val_label_loss\": [1.990058183670044, 2.4984257221221924, 2.665891647338867, 2.215575933456421, 2.2929282188415527, 3.155305862426758, 3.3182151317596436, 3.349945306777954], \"source_val_acc_label\": [0.9981764874141876, 0.9983195080091534, 0.9992491418764302, 0.9992133867276888, 0.9992491418764302, 0.9993921624713958, 0.9991776315789473, 0.9992848970251716], \"target_val_acc_label\": [0.31669921875, 0.29098307291666664, 0.3025716145833333, 0.34742838541666665, 0.34296875, 0.29488932291666664, 0.2799153645833333, 0.3145833333333333]}, \"dataset_metrics\": {\"source\": {\"train\": {\"n_unique_x\": 175183, \"n_unique_y\": 58, \"n_batch/episode\": 6317}, \"val\": {\"n_unique_x\": 37135, \"n_unique_y\": 58, \"n_batch/episode\": 874}, \"test\": {\"n_unique_x\": 37673, \"n_unique_y\": 58, \"n_batch/episode\": 893}}, \"target\": {\"train\": {\"n_unique_x\": 179200, \"n_unique_y\": 16, \"n_batch/episode\": 6720}, \"val\": {\"n_unique_x\": 38400, \"n_unique_y\": 16, \"n_batch/episode\": 960}, \"test\": {\"n_unique_x\": 38400, \"n_unique_y\": 16, \"n_batch/episode\": 960}}}}'"
      ]
     },
     "execution_count": 29,
     "metadata": {},
     "output_type": "execute_result"
    }
   ],
   "source": [
    "json.dumps(experiment)"
   ]
  }
 ],
 "metadata": {
  "celltoolbar": "Tags",
  "kernelspec": {
   "display_name": "Python 3 (ipykernel)",
   "language": "python",
   "name": "python3"
  },
  "language_info": {
   "codemirror_mode": {
    "name": "ipython",
    "version": 3
   },
   "file_extension": ".py",
   "mimetype": "text/x-python",
   "name": "python",
   "nbconvert_exporter": "python",
   "pygments_lexer": "ipython3",
   "version": "3.8.10"
  },
  "papermill": {
   "default_parameters": {},
   "duration": 1385.585347,
   "end_time": "2022-03-25T04:45:57.471506",
   "environment_variables": {},
   "exception": null,
   "input_path": "/mnt/wd500GB/CSC500/csc500-main/csc500-notebooks/templates/tl_ptn_template.ipynb",
   "output_path": "trial.ipynb",
   "parameters": {
    "parameters": {
     "BEST_MODEL_PATH": "./best_model.pth",
     "NUM_LOGS_PER_EPOCH": 10,
     "criteria_for_best": "target_accuracy",
     "dataset_seed": 154325,
     "datasets": [
      {
       "domain_prefix": "C_",
       "domains": [
        1,
        2,
        3,
        4,
        5
       ],
       "episode_transforms": [],
       "labels": [
        "1-10.",
        "1-11.",
        "1-15.",
        "1-16.",
        "1-17.",
        "1-18.",
        "1-19.",
        "10-4.",
        "10-7.",
        "11-1.",
        "11-14.",
        "11-17.",
        "11-20.",
        "11-7.",
        "13-20.",
        "13-8.",
        "14-10.",
        "14-11.",
        "14-14.",
        "14-7.",
        "15-1.",
        "15-20.",
        "16-1.",
        "16-16.",
        "17-10.",
        "17-11.",
        "17-2.",
        "19-1.",
        "19-16.",
        "19-19.",
        "19-20.",
        "19-3.",
        "2-10.",
        "2-11.",
        "2-17.",
        "2-18.",
        "2-20.",
        "2-3.",
        "2-4.",
        "2-5.",
        "2-6.",
        "2-7.",
        "2-8.",
        "3-13.",
        "3-18.",
        "3-3.",
        "4-1.",
        "4-10.",
        "4-11.",
        "4-19.",
        "5-5.",
        "6-15.",
        "7-10.",
        "7-14.",
        "8-18.",
        "8-20.",
        "8-3.",
        "8-8."
       ],
       "num_examples_per_domain_per_label": -1,
       "pickle_path": "/mnt/wd500GB/CSC500/csc500-main/datasets/cores.stratified_ds.2022A.pkl",
       "source_or_target_dataset": "source",
       "x_transforms": [
        "unit_mag",
        "take_200"
       ]
      },
      {
       "domain_prefix": "O_",
       "domains": [
        32,
        38,
        8,
        44,
        14,
        50,
        20,
        26
       ],
       "episode_transforms": [],
       "labels": [
        "3123D52",
        "3123D65",
        "3123D79",
        "3123D80",
        "3123D54",
        "3123D70",
        "3123D7B",
        "3123D89",
        "3123D58",
        "3123D76",
        "3123D7D",
        "3123EFE",
        "3123D64",
        "3123D78",
        "3123D7E",
        "3124E4A"
       ],
       "num_examples_per_domain_per_label": 2000,
       "pickle_path": "/mnt/wd500GB/CSC500/csc500-main/datasets/oracle.Run1_framed_2000Examples_stratified_ds.2022A.pkl",
       "source_or_target_dataset": "target",
       "x_transforms": [
        "unit_mag",
        "take_200",
        "resample_20Msps_to_25Msps"
       ]
      }
     ],
     "device": "cuda",
     "experiment_name": "tl_3Av2:cores -> oracle.run1.framed",
     "lr": 0.0001,
     "n_epoch": 50,
     "n_query": 2,
     "n_shot": 3,
     "n_way": 16,
     "patience": 3,
     "seed": 154325,
     "test_k_factor": 2,
     "torch_default_dtype": "torch.float32",
     "train_k_factor": 3,
     "val_k_factor": 2,
     "x_net": [
      {
       "class": "nnReshape",
       "kargs": {
        "shape": [
         -1,
         1,
         2,
         200
        ]
       }
      },
      {
       "class": "Conv2d",
       "kargs": {
        "bias": false,
        "in_channels": 1,
        "kernel_size": [
         1,
         7
        ],
        "out_channels": 256,
        "padding": [
         0,
         3
        ]
       }
      },
      {
       "class": "ReLU",
       "kargs": {
        "inplace": true
       }
      },
      {
       "class": "BatchNorm2d",
       "kargs": {
        "num_features": 256
       }
      },
      {
       "class": "Conv2d",
       "kargs": {
        "bias": true,
        "in_channels": 256,
        "kernel_size": [
         2,
         7
        ],
        "out_channels": 80,
        "padding": [
         0,
         3
        ]
       }
      },
      {
       "class": "ReLU",
       "kargs": {
        "inplace": true
       }
      },
      {
       "class": "BatchNorm2d",
       "kargs": {
        "num_features": 80
       }
      },
      {
       "class": "Flatten",
       "kargs": {}
      },
      {
       "class": "Linear",
       "kargs": {
        "in_features": 16000,
        "out_features": 256
       }
      },
      {
       "class": "ReLU",
       "kargs": {
        "inplace": true
       }
      },
      {
       "class": "BatchNorm1d",
       "kargs": {
        "num_features": 256
       }
      },
      {
       "class": "Linear",
       "kargs": {
        "in_features": 256,
        "out_features": 256
       }
      }
     ],
     "x_shape": [
      2,
      200
     ]
    }
   },
   "start_time": "2022-03-25T04:22:51.886159",
   "version": "2.3.4"
  }
 },
 "nbformat": 4,
 "nbformat_minor": 5
}