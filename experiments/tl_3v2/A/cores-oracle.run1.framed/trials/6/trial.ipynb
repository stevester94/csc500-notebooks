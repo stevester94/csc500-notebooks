{
 "cells": [
  {
   "cell_type": "markdown",
   "id": "9fea5f46",
   "metadata": {
    "papermill": {
     "duration": 0.018591,
     "end_time": "2022-03-25T04:07:28.399348",
     "exception": false,
     "start_time": "2022-03-25T04:07:28.380757",
     "status": "completed"
    },
    "tags": []
   },
   "source": [
    "# Transfer Learning Template"
   ]
  },
  {
   "cell_type": "code",
   "execution_count": 1,
   "id": "0902182a",
   "metadata": {
    "execution": {
     "iopub.execute_input": "2022-03-25T04:07:28.441941Z",
     "iopub.status.busy": "2022-03-25T04:07:28.441626Z",
     "iopub.status.idle": "2022-03-25T04:07:29.367147Z",
     "shell.execute_reply": "2022-03-25T04:07:29.367378Z"
    },
    "papermill": {
     "duration": 0.954359,
     "end_time": "2022-03-25T04:07:29.367501",
     "exception": false,
     "start_time": "2022-03-25T04:07:28.413142",
     "status": "completed"
    },
    "tags": []
   },
   "outputs": [],
   "source": [
    "%load_ext autoreload\n",
    "%autoreload 2\n",
    "%matplotlib inline\n",
    "\n",
    "    \n",
    "import os, json, sys, time, random\n",
    "import numpy as np\n",
    "import torch\n",
    "from torch.optim import Adam\n",
    "from  easydict import EasyDict\n",
    "import matplotlib.pyplot as plt\n",
    "\n",
    "from steves_models.steves_ptn import Steves_Prototypical_Network\n",
    "\n",
    "from steves_utils.lazy_iterable_wrapper import Lazy_Iterable_Wrapper\n",
    "from steves_utils.iterable_aggregator import Iterable_Aggregator\n",
    "from steves_utils.ptn_train_eval_test_jig import  PTN_Train_Eval_Test_Jig\n",
    "from steves_utils.torch_sequential_builder import build_sequential\n",
    "from steves_utils.torch_utils import get_dataset_metrics, ptn_confusion_by_domain_over_dataloader\n",
    "from steves_utils.utils_v2 import (per_domain_accuracy_from_confusion, get_datasets_base_path)\n",
    "from steves_utils.PTN.utils import independent_accuracy_assesment\n",
    "\n",
    "from torch.utils.data import DataLoader\n",
    "\n",
    "from steves_utils.stratified_dataset.episodic_accessor import Episodic_Accessor_Factory\n",
    "\n",
    "from steves_utils.ptn_do_report import (\n",
    "    get_loss_curve,\n",
    "    get_results_table,\n",
    "    get_parameters_table,\n",
    "    get_domain_accuracies,\n",
    ")\n",
    "\n",
    "from steves_utils.transforms import get_chained_transform"
   ]
  },
  {
   "cell_type": "markdown",
   "id": "41c840b4",
   "metadata": {
    "papermill": {
     "duration": 0.013203,
     "end_time": "2022-03-25T04:07:29.394319",
     "exception": false,
     "start_time": "2022-03-25T04:07:29.381116",
     "status": "completed"
    },
    "tags": []
   },
   "source": [
    "# Allowed Parameters\n",
    "These are allowed parameters, not defaults\n",
    "Each of these values need to be present in the injected parameters (the notebook will raise an exception if they are not present)\n",
    "\n",
    "Papermill uses the cell tag \"parameters\" to inject the real parameters below this cell.\n",
    "Enable tags to see what I mean"
   ]
  },
  {
   "cell_type": "code",
   "execution_count": 2,
   "id": "fd44eb83",
   "metadata": {
    "execution": {
     "iopub.execute_input": "2022-03-25T04:07:29.423608Z",
     "iopub.status.busy": "2022-03-25T04:07:29.422302Z",
     "iopub.status.idle": "2022-03-25T04:07:29.438869Z",
     "shell.execute_reply": "2022-03-25T04:07:29.439242Z"
    },
    "papermill": {
     "duration": 0.031824,
     "end_time": "2022-03-25T04:07:29.439351",
     "exception": false,
     "start_time": "2022-03-25T04:07:29.407527",
     "status": "completed"
    },
    "tags": []
   },
   "outputs": [],
   "source": [
    "required_parameters = {\n",
    "    \"experiment_name\",\n",
    "    \"lr\",\n",
    "    \"device\",\n",
    "    \"seed\",\n",
    "    \"dataset_seed\",\n",
    "    \"n_shot\",\n",
    "    \"n_query\",\n",
    "    \"n_way\",\n",
    "    \"train_k_factor\",\n",
    "    \"val_k_factor\",\n",
    "    \"test_k_factor\",\n",
    "    \"n_epoch\",\n",
    "    \"patience\",\n",
    "    \"criteria_for_best\",\n",
    "    \"x_net\",\n",
    "    \"datasets\",\n",
    "    \"torch_default_dtype\",\n",
    "    \"NUM_LOGS_PER_EPOCH\",\n",
    "    \"BEST_MODEL_PATH\",\n",
    "    \"x_shape\",\n",
    "}"
   ]
  },
  {
   "cell_type": "code",
   "execution_count": 3,
   "id": "fa3f0049",
   "metadata": {
    "execution": {
     "iopub.execute_input": "2022-03-25T04:07:29.479576Z",
     "iopub.status.busy": "2022-03-25T04:07:29.479018Z",
     "iopub.status.idle": "2022-03-25T04:07:29.492997Z",
     "shell.execute_reply": "2022-03-25T04:07:29.492609Z"
    },
    "papermill": {
     "duration": 0.035644,
     "end_time": "2022-03-25T04:07:29.493088",
     "exception": false,
     "start_time": "2022-03-25T04:07:29.457444",
     "status": "completed"
    },
    "tags": [
     "parameters"
    ]
   },
   "outputs": [],
   "source": [
    "from steves_utils.CORES.utils import (\n",
    "    ALL_NODES,\n",
    "    ALL_NODES_MINIMUM_1000_EXAMPLES,\n",
    "    ALL_DAYS\n",
    ")\n",
    "\n",
    "from steves_utils.ORACLE.utils_v2 import (\n",
    "    ALL_DISTANCES_FEET_NARROWED,\n",
    "    ALL_RUNS,\n",
    "    ALL_SERIAL_NUMBERS,\n",
    ")\n",
    "\n",
    "standalone_parameters = {}\n",
    "standalone_parameters[\"experiment_name\"] = \"STANDALONE PTN\"\n",
    "standalone_parameters[\"lr\"] = 0.001\n",
    "standalone_parameters[\"device\"] = \"cuda\"\n",
    "\n",
    "standalone_parameters[\"seed\"] = 1337\n",
    "standalone_parameters[\"dataset_seed\"] = 1337\n",
    "\n",
    "standalone_parameters[\"n_way\"] = 8\n",
    "standalone_parameters[\"n_shot\"] = 3\n",
    "standalone_parameters[\"n_query\"]  = 2\n",
    "standalone_parameters[\"train_k_factor\"] = 1\n",
    "standalone_parameters[\"val_k_factor\"] = 2\n",
    "standalone_parameters[\"test_k_factor\"] = 2\n",
    "\n",
    "\n",
    "standalone_parameters[\"n_epoch\"] = 50\n",
    "\n",
    "standalone_parameters[\"patience\"] = 10\n",
    "standalone_parameters[\"criteria_for_best\"] = \"source_loss\"\n",
    "\n",
    "standalone_parameters[\"datasets\"] = [\n",
    "    {\n",
    "        \"labels\": ALL_SERIAL_NUMBERS,\n",
    "        \"domains\": ALL_DISTANCES_FEET_NARROWED,\n",
    "        \"num_examples_per_domain_per_label\": 100,\n",
    "        \"pickle_path\": os.path.join(get_datasets_base_path(), \"oracle.Run1_framed_2000Examples_stratified_ds.2022A.pkl\"),\n",
    "        \"source_or_target_dataset\": \"source\",\n",
    "        \"x_transforms\": [\"unit_mag\", \"minus_two\"],\n",
    "        \"episode_transforms\": [],\n",
    "        \"domain_prefix\": \"ORACLE_\"\n",
    "    },\n",
    "    {\n",
    "        \"labels\": ALL_NODES,\n",
    "        \"domains\": ALL_DAYS,\n",
    "        \"num_examples_per_domain_per_label\": 100,\n",
    "        \"pickle_path\": os.path.join(get_datasets_base_path(), \"cores.stratified_ds.2022A.pkl\"),\n",
    "        \"source_or_target_dataset\": \"target\",\n",
    "        \"x_transforms\": [\"unit_power\", \"times_zero\"],\n",
    "        \"episode_transforms\": [],\n",
    "        \"domain_prefix\": \"CORES_\"\n",
    "    }   \n",
    "]\n",
    "\n",
    "standalone_parameters[\"torch_default_dtype\"] = \"torch.float32\" \n",
    "\n",
    "\n",
    "\n",
    "standalone_parameters[\"x_net\"] =     [\n",
    "    {\"class\": \"nnReshape\", \"kargs\": {\"shape\":[-1, 1, 2, 256]}},\n",
    "    {\"class\": \"Conv2d\", \"kargs\": { \"in_channels\":1, \"out_channels\":256, \"kernel_size\":(1,7), \"bias\":False, \"padding\":(0,3), },},\n",
    "    {\"class\": \"ReLU\", \"kargs\": {\"inplace\": True}},\n",
    "    {\"class\": \"BatchNorm2d\", \"kargs\": {\"num_features\":256}},\n",
    "\n",
    "    {\"class\": \"Conv2d\", \"kargs\": { \"in_channels\":256, \"out_channels\":80, \"kernel_size\":(2,7), \"bias\":True, \"padding\":(0,3), },},\n",
    "    {\"class\": \"ReLU\", \"kargs\": {\"inplace\": True}},\n",
    "    {\"class\": \"BatchNorm2d\", \"kargs\": {\"num_features\":80}},\n",
    "    {\"class\": \"Flatten\", \"kargs\": {}},\n",
    "\n",
    "    {\"class\": \"Linear\", \"kargs\": {\"in_features\": 80*256, \"out_features\": 256}}, # 80 units per IQ pair\n",
    "    {\"class\": \"ReLU\", \"kargs\": {\"inplace\": True}},\n",
    "    {\"class\": \"BatchNorm1d\", \"kargs\": {\"num_features\":256}},\n",
    "\n",
    "    {\"class\": \"Linear\", \"kargs\": {\"in_features\": 256, \"out_features\": 256}},\n",
    "]\n",
    "\n",
    "# Parameters relevant to results\n",
    "# These parameters will basically never need to change\n",
    "standalone_parameters[\"NUM_LOGS_PER_EPOCH\"] = 10\n",
    "standalone_parameters[\"BEST_MODEL_PATH\"] = \"./best_model.pth\"\n",
    "\n",
    "\n",
    "\n",
    "\n"
   ]
  },
  {
   "cell_type": "code",
   "execution_count": 4,
   "id": "4d922318",
   "metadata": {
    "execution": {
     "iopub.execute_input": "2022-03-25T04:07:29.535529Z",
     "iopub.status.busy": "2022-03-25T04:07:29.535003Z",
     "iopub.status.idle": "2022-03-25T04:07:29.547343Z",
     "shell.execute_reply": "2022-03-25T04:07:29.546959Z"
    },
    "papermill": {
     "duration": 0.035413,
     "end_time": "2022-03-25T04:07:29.547431",
     "exception": false,
     "start_time": "2022-03-25T04:07:29.512018",
     "status": "completed"
    },
    "tags": [
     "injected-parameters"
    ]
   },
   "outputs": [],
   "source": [
    "# Parameters\n",
    "parameters = {\n",
    "    \"experiment_name\": \"tl_3Av2:cores -> oracle.run1.framed\",\n",
    "    \"device\": \"cuda\",\n",
    "    \"lr\": 0.0001,\n",
    "    \"x_shape\": [2, 200],\n",
    "    \"n_shot\": 3,\n",
    "    \"n_query\": 2,\n",
    "    \"train_k_factor\": 3,\n",
    "    \"val_k_factor\": 2,\n",
    "    \"test_k_factor\": 2,\n",
    "    \"torch_default_dtype\": \"torch.float32\",\n",
    "    \"n_epoch\": 50,\n",
    "    \"patience\": 3,\n",
    "    \"criteria_for_best\": \"target_accuracy\",\n",
    "    \"x_net\": [\n",
    "        {\"class\": \"nnReshape\", \"kargs\": {\"shape\": [-1, 1, 2, 200]}},\n",
    "        {\n",
    "            \"class\": \"Conv2d\",\n",
    "            \"kargs\": {\n",
    "                \"in_channels\": 1,\n",
    "                \"out_channels\": 256,\n",
    "                \"kernel_size\": [1, 7],\n",
    "                \"bias\": False,\n",
    "                \"padding\": [0, 3],\n",
    "            },\n",
    "        },\n",
    "        {\"class\": \"ReLU\", \"kargs\": {\"inplace\": True}},\n",
    "        {\"class\": \"BatchNorm2d\", \"kargs\": {\"num_features\": 256}},\n",
    "        {\n",
    "            \"class\": \"Conv2d\",\n",
    "            \"kargs\": {\n",
    "                \"in_channels\": 256,\n",
    "                \"out_channels\": 80,\n",
    "                \"kernel_size\": [2, 7],\n",
    "                \"bias\": True,\n",
    "                \"padding\": [0, 3],\n",
    "            },\n",
    "        },\n",
    "        {\"class\": \"ReLU\", \"kargs\": {\"inplace\": True}},\n",
    "        {\"class\": \"BatchNorm2d\", \"kargs\": {\"num_features\": 80}},\n",
    "        {\"class\": \"Flatten\", \"kargs\": {}},\n",
    "        {\"class\": \"Linear\", \"kargs\": {\"in_features\": 16000, \"out_features\": 256}},\n",
    "        {\"class\": \"ReLU\", \"kargs\": {\"inplace\": True}},\n",
    "        {\"class\": \"BatchNorm1d\", \"kargs\": {\"num_features\": 256}},\n",
    "        {\"class\": \"Linear\", \"kargs\": {\"in_features\": 256, \"out_features\": 256}},\n",
    "    ],\n",
    "    \"NUM_LOGS_PER_EPOCH\": 10,\n",
    "    \"BEST_MODEL_PATH\": \"./best_model.pth\",\n",
    "    \"n_way\": 16,\n",
    "    \"datasets\": [\n",
    "        {\n",
    "            \"labels\": [\n",
    "                \"1-10.\",\n",
    "                \"1-11.\",\n",
    "                \"1-15.\",\n",
    "                \"1-16.\",\n",
    "                \"1-17.\",\n",
    "                \"1-18.\",\n",
    "                \"1-19.\",\n",
    "                \"10-4.\",\n",
    "                \"10-7.\",\n",
    "                \"11-1.\",\n",
    "                \"11-14.\",\n",
    "                \"11-17.\",\n",
    "                \"11-20.\",\n",
    "                \"11-7.\",\n",
    "                \"13-20.\",\n",
    "                \"13-8.\",\n",
    "                \"14-10.\",\n",
    "                \"14-11.\",\n",
    "                \"14-14.\",\n",
    "                \"14-7.\",\n",
    "                \"15-1.\",\n",
    "                \"15-20.\",\n",
    "                \"16-1.\",\n",
    "                \"16-16.\",\n",
    "                \"17-10.\",\n",
    "                \"17-11.\",\n",
    "                \"17-2.\",\n",
    "                \"19-1.\",\n",
    "                \"19-16.\",\n",
    "                \"19-19.\",\n",
    "                \"19-20.\",\n",
    "                \"19-3.\",\n",
    "                \"2-10.\",\n",
    "                \"2-11.\",\n",
    "                \"2-17.\",\n",
    "                \"2-18.\",\n",
    "                \"2-20.\",\n",
    "                \"2-3.\",\n",
    "                \"2-4.\",\n",
    "                \"2-5.\",\n",
    "                \"2-6.\",\n",
    "                \"2-7.\",\n",
    "                \"2-8.\",\n",
    "                \"3-13.\",\n",
    "                \"3-18.\",\n",
    "                \"3-3.\",\n",
    "                \"4-1.\",\n",
    "                \"4-10.\",\n",
    "                \"4-11.\",\n",
    "                \"4-19.\",\n",
    "                \"5-5.\",\n",
    "                \"6-15.\",\n",
    "                \"7-10.\",\n",
    "                \"7-14.\",\n",
    "                \"8-18.\",\n",
    "                \"8-20.\",\n",
    "                \"8-3.\",\n",
    "                \"8-8.\",\n",
    "            ],\n",
    "            \"domains\": [1, 2, 3, 4, 5],\n",
    "            \"num_examples_per_domain_per_label\": -1,\n",
    "            \"pickle_path\": \"/mnt/wd500GB/CSC500/csc500-main/datasets/cores.stratified_ds.2022A.pkl\",\n",
    "            \"source_or_target_dataset\": \"source\",\n",
    "            \"x_transforms\": [\"unit_power\", \"take_200\"],\n",
    "            \"episode_transforms\": [],\n",
    "            \"domain_prefix\": \"C_\",\n",
    "        },\n",
    "        {\n",
    "            \"labels\": [\n",
    "                \"3123D52\",\n",
    "                \"3123D65\",\n",
    "                \"3123D79\",\n",
    "                \"3123D80\",\n",
    "                \"3123D54\",\n",
    "                \"3123D70\",\n",
    "                \"3123D7B\",\n",
    "                \"3123D89\",\n",
    "                \"3123D58\",\n",
    "                \"3123D76\",\n",
    "                \"3123D7D\",\n",
    "                \"3123EFE\",\n",
    "                \"3123D64\",\n",
    "                \"3123D78\",\n",
    "                \"3123D7E\",\n",
    "                \"3124E4A\",\n",
    "            ],\n",
    "            \"domains\": [32, 38, 8, 44, 14, 50, 20, 26],\n",
    "            \"num_examples_per_domain_per_label\": 2000,\n",
    "            \"pickle_path\": \"/mnt/wd500GB/CSC500/csc500-main/datasets/oracle.Run1_framed_2000Examples_stratified_ds.2022A.pkl\",\n",
    "            \"source_or_target_dataset\": \"target\",\n",
    "            \"x_transforms\": [\"unit_power\", \"take_200\", \"resample_20Msps_to_25Msps\"],\n",
    "            \"episode_transforms\": [],\n",
    "            \"domain_prefix\": \"O_\",\n",
    "        },\n",
    "    ],\n",
    "    \"seed\": 154325,\n",
    "    \"dataset_seed\": 154325,\n",
    "}\n"
   ]
  },
  {
   "cell_type": "code",
   "execution_count": 5,
   "id": "8fa1cc33",
   "metadata": {
    "execution": {
     "iopub.execute_input": "2022-03-25T04:07:29.581028Z",
     "iopub.status.busy": "2022-03-25T04:07:29.580756Z",
     "iopub.status.idle": "2022-03-25T04:07:29.592094Z",
     "shell.execute_reply": "2022-03-25T04:07:29.591723Z"
    },
    "papermill": {
     "duration": 0.027047,
     "end_time": "2022-03-25T04:07:29.592173",
     "exception": false,
     "start_time": "2022-03-25T04:07:29.565126",
     "status": "completed"
    },
    "tags": []
   },
   "outputs": [],
   "source": [
    "# Set this to True if you want to run this template directly\n",
    "STANDALONE = False\n",
    "if STANDALONE:\n",
    "    print(\"parameters not injected, running with standalone_parameters\")\n",
    "    parameters = standalone_parameters\n",
    "\n",
    "if not 'parameters' in locals() and not 'parameters' in globals():\n",
    "    raise Exception(\"Parameter injection failed\")\n",
    "\n",
    "#Use an easy dict for all the parameters\n",
    "p = EasyDict(parameters)\n",
    "\n",
    "if \"x_shape\" not in p:\n",
    "    p.x_shape = [2,256] # Default to this if we dont supply x_shape\n",
    "\n",
    "\n",
    "supplied_keys = set(p.keys())\n",
    "\n",
    "if  supplied_keys != required_parameters:\n",
    "    print(\"Parameters are incorrect\")\n",
    "    if len(supplied_keys - required_parameters)>0: print(\"Shouldn't have:\", str(supplied_keys - required_parameters))\n",
    "    if len(required_parameters - supplied_keys)>0: print(\"Need to have:\", str(required_parameters - supplied_keys))\n",
    "    raise RuntimeError(\"Parameters are incorrect\")"
   ]
  },
  {
   "cell_type": "code",
   "execution_count": 6,
   "id": "3a028d58",
   "metadata": {
    "execution": {
     "iopub.execute_input": "2022-03-25T04:07:29.630159Z",
     "iopub.status.busy": "2022-03-25T04:07:29.629230Z",
     "iopub.status.idle": "2022-03-25T04:07:29.646146Z",
     "shell.execute_reply": "2022-03-25T04:07:29.646534Z"
    },
    "papermill": {
     "duration": 0.031335,
     "end_time": "2022-03-25T04:07:29.646663",
     "exception": false,
     "start_time": "2022-03-25T04:07:29.615328",
     "status": "completed"
    },
    "tags": []
   },
   "outputs": [],
   "source": [
    "###################################\n",
    "# Set the RNGs and make it all deterministic\n",
    "###################################\n",
    "np.random.seed(p.seed)\n",
    "random.seed(p.seed)\n",
    "torch.manual_seed(p.seed)\n",
    "\n",
    "torch.use_deterministic_algorithms(True) "
   ]
  },
  {
   "cell_type": "code",
   "execution_count": 7,
   "id": "b691acf6",
   "metadata": {
    "execution": {
     "iopub.execute_input": "2022-03-25T04:07:29.678511Z",
     "iopub.status.busy": "2022-03-25T04:07:29.678252Z",
     "iopub.status.idle": "2022-03-25T04:07:29.693202Z",
     "shell.execute_reply": "2022-03-25T04:07:29.693593Z"
    },
    "papermill": {
     "duration": 0.030066,
     "end_time": "2022-03-25T04:07:29.693720",
     "exception": false,
     "start_time": "2022-03-25T04:07:29.663654",
     "status": "completed"
    },
    "tags": []
   },
   "outputs": [],
   "source": [
    "###########################################\n",
    "# The stratified datasets honor this\n",
    "###########################################\n",
    "torch.set_default_dtype(eval(p.torch_default_dtype))"
   ]
  },
  {
   "cell_type": "code",
   "execution_count": 8,
   "id": "b5fba671",
   "metadata": {
    "execution": {
     "iopub.execute_input": "2022-03-25T04:07:29.726851Z",
     "iopub.status.busy": "2022-03-25T04:07:29.726593Z",
     "iopub.status.idle": "2022-03-25T04:07:29.764155Z",
     "shell.execute_reply": "2022-03-25T04:07:29.764561Z"
    },
    "papermill": {
     "duration": 0.052895,
     "end_time": "2022-03-25T04:07:29.764703",
     "exception": false,
     "start_time": "2022-03-25T04:07:29.711808",
     "status": "completed"
    },
    "tags": []
   },
   "outputs": [],
   "source": [
    "###################################\n",
    "# Build the network(s)\n",
    "# Note: It's critical to do this AFTER setting the RNG\n",
    "###################################\n",
    "x_net = build_sequential(p.x_net)"
   ]
  },
  {
   "cell_type": "code",
   "execution_count": 9,
   "id": "5d7e61cc",
   "metadata": {
    "execution": {
     "iopub.execute_input": "2022-03-25T04:07:29.798194Z",
     "iopub.status.busy": "2022-03-25T04:07:29.797910Z",
     "iopub.status.idle": "2022-03-25T04:07:29.809035Z",
     "shell.execute_reply": "2022-03-25T04:07:29.809331Z"
    },
    "papermill": {
     "duration": 0.026331,
     "end_time": "2022-03-25T04:07:29.809434",
     "exception": false,
     "start_time": "2022-03-25T04:07:29.783103",
     "status": "completed"
    },
    "tags": []
   },
   "outputs": [],
   "source": [
    "start_time_secs = time.time()"
   ]
  },
  {
   "cell_type": "code",
   "execution_count": 10,
   "id": "c6b67dfd",
   "metadata": {
    "execution": {
     "iopub.execute_input": "2022-03-25T04:07:29.842815Z",
     "iopub.status.busy": "2022-03-25T04:07:29.842559Z",
     "iopub.status.idle": "2022-03-25T04:07:29.857706Z",
     "shell.execute_reply": "2022-03-25T04:07:29.858106Z"
    },
    "papermill": {
     "duration": 0.031536,
     "end_time": "2022-03-25T04:07:29.858233",
     "exception": false,
     "start_time": "2022-03-25T04:07:29.826697",
     "status": "completed"
    },
    "tags": []
   },
   "outputs": [],
   "source": [
    "p.domains_source = []\n",
    "p.domains_target = []\n",
    "\n",
    "\n",
    "train_original_source = []\n",
    "val_original_source   = []\n",
    "test_original_source  = []\n",
    "\n",
    "train_original_target = []\n",
    "val_original_target   = []\n",
    "test_original_target  = []"
   ]
  },
  {
   "cell_type": "code",
   "execution_count": 11,
   "id": "e3d9c3d3",
   "metadata": {
    "execution": {
     "iopub.execute_input": "2022-03-25T04:07:29.888636Z",
     "iopub.status.busy": "2022-03-25T04:07:29.888231Z",
     "iopub.status.idle": "2022-03-25T04:07:29.904463Z",
     "shell.execute_reply": "2022-03-25T04:07:29.904039Z"
    },
    "papermill": {
     "duration": 0.031139,
     "end_time": "2022-03-25T04:07:29.904566",
     "exception": false,
     "start_time": "2022-03-25T04:07:29.873427",
     "status": "completed"
    },
    "tags": []
   },
   "outputs": [],
   "source": [
    "# global_x_transform_func = lambda x: normalize(x.to(torch.get_default_dtype()), \"unit_power\") # unit_power, unit_mag\n",
    "# global_x_transform_func = lambda x: normalize(x, \"unit_power\") # unit_power, unit_mag"
   ]
  },
  {
   "cell_type": "code",
   "execution_count": 12,
   "id": "acb78fd2",
   "metadata": {
    "execution": {
     "iopub.execute_input": "2022-03-25T04:07:29.943571Z",
     "iopub.status.busy": "2022-03-25T04:07:29.937739Z",
     "iopub.status.idle": "2022-03-25T04:07:29.957099Z",
     "shell.execute_reply": "2022-03-25T04:07:29.956671Z"
    },
    "papermill": {
     "duration": 0.033803,
     "end_time": "2022-03-25T04:07:29.957202",
     "exception": false,
     "start_time": "2022-03-25T04:07:29.923399",
     "status": "completed"
    },
    "tags": []
   },
   "outputs": [],
   "source": [
    "def add_dataset(\n",
    "    labels,\n",
    "    domains,\n",
    "    pickle_path,\n",
    "    x_transforms,\n",
    "    episode_transforms,\n",
    "    domain_prefix,\n",
    "    num_examples_per_domain_per_label,\n",
    "    source_or_target_dataset:str,\n",
    "    iterator_seed=p.seed,\n",
    "    dataset_seed=p.dataset_seed,\n",
    "    n_shot=p.n_shot,\n",
    "    n_way=p.n_way,\n",
    "    n_query=p.n_query,\n",
    "    train_val_test_k_factors=(p.train_k_factor,p.val_k_factor,p.test_k_factor),\n",
    "):\n",
    "   \n",
    "    if x_transforms == []: x_transform = None\n",
    "    else: x_transform = get_chained_transform(x_transforms)\n",
    "    \n",
    "    if episode_transforms == []: episode_transform = None\n",
    "    else: raise Exception(\"episode_transforms not implemented\")\n",
    "    \n",
    "    episode_transform = lambda tup, _prefix=domain_prefix: (_prefix + str(tup[0]), tup[1])\n",
    "\n",
    "\n",
    "    eaf = Episodic_Accessor_Factory(\n",
    "        labels=labels,\n",
    "        domains=domains,\n",
    "        num_examples_per_domain_per_label=num_examples_per_domain_per_label,\n",
    "        iterator_seed=iterator_seed,\n",
    "        dataset_seed=dataset_seed,\n",
    "        n_shot=n_shot,\n",
    "        n_way=n_way,\n",
    "        n_query=n_query,\n",
    "        train_val_test_k_factors=train_val_test_k_factors,\n",
    "        pickle_path=pickle_path,\n",
    "        x_transform_func=x_transform,\n",
    "    )\n",
    "\n",
    "    train, val, test = eaf.get_train(), eaf.get_val(), eaf.get_test()\n",
    "    train = Lazy_Iterable_Wrapper(train, episode_transform)\n",
    "    val = Lazy_Iterable_Wrapper(val, episode_transform)\n",
    "    test = Lazy_Iterable_Wrapper(test, episode_transform)\n",
    "\n",
    "    if source_or_target_dataset==\"source\":\n",
    "        train_original_source.append(train)\n",
    "        val_original_source.append(val)\n",
    "        test_original_source.append(test)\n",
    "\n",
    "        p.domains_source.extend(\n",
    "            [domain_prefix + str(u) for u in domains]\n",
    "        )\n",
    "    elif source_or_target_dataset==\"target\":\n",
    "        train_original_target.append(train)\n",
    "        val_original_target.append(val)\n",
    "        test_original_target.append(test)\n",
    "        p.domains_target.extend(\n",
    "            [domain_prefix + str(u) for u in domains]\n",
    "        )\n",
    "    else:\n",
    "        raise Exception(f\"invalid source_or_target_dataset: {source_or_target_dataset}\")\n",
    "    "
   ]
  },
  {
   "cell_type": "code",
   "execution_count": 13,
   "id": "fe266617",
   "metadata": {
    "execution": {
     "iopub.execute_input": "2022-03-25T04:07:29.990739Z",
     "iopub.status.busy": "2022-03-25T04:07:29.989916Z",
     "iopub.status.idle": "2022-03-25T04:08:19.735600Z",
     "shell.execute_reply": "2022-03-25T04:08:19.735175Z"
    },
    "papermill": {
     "duration": 49.76039,
     "end_time": "2022-03-25T04:08:19.735712",
     "exception": false,
     "start_time": "2022-03-25T04:07:29.975322",
     "status": "completed"
    },
    "tags": []
   },
   "outputs": [],
   "source": [
    "for ds in p.datasets:\n",
    "    add_dataset(**ds)"
   ]
  },
  {
   "cell_type": "code",
   "execution_count": 14,
   "id": "b90d65ac",
   "metadata": {
    "execution": {
     "iopub.execute_input": "2022-03-25T04:08:19.770241Z",
     "iopub.status.busy": "2022-03-25T04:08:19.769965Z",
     "iopub.status.idle": "2022-03-25T04:08:19.784663Z",
     "shell.execute_reply": "2022-03-25T04:08:19.784308Z"
    },
    "papermill": {
     "duration": 0.029838,
     "end_time": "2022-03-25T04:08:19.784765",
     "exception": false,
     "start_time": "2022-03-25T04:08:19.754927",
     "status": "completed"
    },
    "tags": []
   },
   "outputs": [],
   "source": [
    "# from steves_utils.CORES.utils import (\n",
    "#     ALL_NODES,\n",
    "#     ALL_NODES_MINIMUM_1000_EXAMPLES,\n",
    "#     ALL_DAYS\n",
    "# )\n",
    "\n",
    "# add_dataset(\n",
    "#     labels=ALL_NODES,\n",
    "#     domains = ALL_DAYS,\n",
    "#     num_examples_per_domain_per_label=100,\n",
    "#     pickle_path=os.path.join(get_datasets_base_path(), \"cores.stratified_ds.2022A.pkl\"),\n",
    "#     source_or_target_dataset=\"target\",\n",
    "#     x_transform_func=global_x_transform_func,\n",
    "#     domain_modifier=lambda u: f\"cores_{u}\"\n",
    "# )"
   ]
  },
  {
   "cell_type": "code",
   "execution_count": 15,
   "id": "76db484d",
   "metadata": {
    "execution": {
     "iopub.execute_input": "2022-03-25T04:08:19.818787Z",
     "iopub.status.busy": "2022-03-25T04:08:19.818533Z",
     "iopub.status.idle": "2022-03-25T04:08:19.833495Z",
     "shell.execute_reply": "2022-03-25T04:08:19.833098Z"
    },
    "papermill": {
     "duration": 0.030456,
     "end_time": "2022-03-25T04:08:19.833600",
     "exception": false,
     "start_time": "2022-03-25T04:08:19.803144",
     "status": "completed"
    },
    "tags": []
   },
   "outputs": [],
   "source": [
    "# from steves_utils.ORACLE.utils_v2 import (\n",
    "#     ALL_DISTANCES_FEET,\n",
    "#     ALL_RUNS,\n",
    "#     ALL_SERIAL_NUMBERS,\n",
    "# )\n",
    "\n",
    "\n",
    "# add_dataset(\n",
    "#     labels=ALL_SERIAL_NUMBERS,\n",
    "#     domains = list(set(ALL_DISTANCES_FEET) - {2,62}),\n",
    "#     num_examples_per_domain_per_label=100,\n",
    "#     pickle_path=os.path.join(get_datasets_base_path(), \"oracle.Run2_framed_2000Examples_stratified_ds.2022A.pkl\"),\n",
    "#     source_or_target_dataset=\"source\",\n",
    "#     x_transform_func=global_x_transform_func,\n",
    "#     domain_modifier=lambda u: f\"oracle1_{u}\"\n",
    "# )\n"
   ]
  },
  {
   "cell_type": "code",
   "execution_count": 16,
   "id": "97dea9d2",
   "metadata": {
    "execution": {
     "iopub.execute_input": "2022-03-25T04:08:19.867720Z",
     "iopub.status.busy": "2022-03-25T04:08:19.867453Z",
     "iopub.status.idle": "2022-03-25T04:08:19.879912Z",
     "shell.execute_reply": "2022-03-25T04:08:19.880283Z"
    },
    "papermill": {
     "duration": 0.028428,
     "end_time": "2022-03-25T04:08:19.880405",
     "exception": false,
     "start_time": "2022-03-25T04:08:19.851977",
     "status": "completed"
    },
    "tags": []
   },
   "outputs": [],
   "source": [
    "# from steves_utils.ORACLE.utils_v2 import (\n",
    "#     ALL_DISTANCES_FEET,\n",
    "#     ALL_RUNS,\n",
    "#     ALL_SERIAL_NUMBERS,\n",
    "# )\n",
    "\n",
    "\n",
    "# add_dataset(\n",
    "#     labels=ALL_SERIAL_NUMBERS,\n",
    "#     domains = list(set(ALL_DISTANCES_FEET) - {2,62,56}),\n",
    "#     num_examples_per_domain_per_label=100,\n",
    "#     pickle_path=os.path.join(get_datasets_base_path(), \"oracle.Run2_framed_2000Examples_stratified_ds.2022A.pkl\"),\n",
    "#     source_or_target_dataset=\"source\",\n",
    "#     x_transform_func=global_x_transform_func,\n",
    "#     domain_modifier=lambda u: f\"oracle2_{u}\"\n",
    "# )"
   ]
  },
  {
   "cell_type": "code",
   "execution_count": 17,
   "id": "6f289866",
   "metadata": {
    "execution": {
     "iopub.execute_input": "2022-03-25T04:08:19.914666Z",
     "iopub.status.busy": "2022-03-25T04:08:19.914396Z",
     "iopub.status.idle": "2022-03-25T04:08:19.927630Z",
     "shell.execute_reply": "2022-03-25T04:08:19.927226Z"
    },
    "papermill": {
     "duration": 0.028748,
     "end_time": "2022-03-25T04:08:19.927734",
     "exception": false,
     "start_time": "2022-03-25T04:08:19.898986",
     "status": "completed"
    },
    "tags": []
   },
   "outputs": [],
   "source": [
    "# add_dataset(\n",
    "#     labels=list(range(19)),\n",
    "#     domains = [0,1,2],\n",
    "#     num_examples_per_domain_per_label=100,\n",
    "#     pickle_path=os.path.join(get_datasets_base_path(), \"metehan.stratified_ds.2022A.pkl\"),\n",
    "#     source_or_target_dataset=\"target\",\n",
    "#     x_transform_func=global_x_transform_func,\n",
    "#     domain_modifier=lambda u: f\"met_{u}\"\n",
    "# )"
   ]
  },
  {
   "cell_type": "code",
   "execution_count": 18,
   "id": "86a863c3",
   "metadata": {
    "execution": {
     "iopub.execute_input": "2022-03-25T04:08:19.962524Z",
     "iopub.status.busy": "2022-03-25T04:08:19.962244Z",
     "iopub.status.idle": "2022-03-25T04:08:19.979021Z",
     "shell.execute_reply": "2022-03-25T04:08:19.979393Z"
    },
    "papermill": {
     "duration": 0.032451,
     "end_time": "2022-03-25T04:08:19.979512",
     "exception": false,
     "start_time": "2022-03-25T04:08:19.947061",
     "status": "completed"
    },
    "tags": []
   },
   "outputs": [],
   "source": [
    "# # from steves_utils.wisig.utils import (\n",
    "# #     ALL_NODES_MINIMUM_100_EXAMPLES,\n",
    "# #     ALL_NODES_MINIMUM_500_EXAMPLES,\n",
    "# #     ALL_NODES_MINIMUM_1000_EXAMPLES,\n",
    "# #     ALL_DAYS\n",
    "# # )\n",
    "\n",
    "# import steves_utils.wisig.utils as wisig\n",
    "\n",
    "\n",
    "# add_dataset(\n",
    "#     labels=wisig.ALL_NODES_MINIMUM_100_EXAMPLES,\n",
    "#     domains = wisig.ALL_DAYS,\n",
    "#     num_examples_per_domain_per_label=100,\n",
    "#     pickle_path=os.path.join(get_datasets_base_path(), \"wisig.node3-19.stratified_ds.2022A.pkl\"),\n",
    "#     source_or_target_dataset=\"target\",\n",
    "#     x_transform_func=global_x_transform_func,\n",
    "#     domain_modifier=lambda u: f\"wisig_{u}\"\n",
    "# )"
   ]
  },
  {
   "cell_type": "code",
   "execution_count": 19,
   "id": "fd5442bc",
   "metadata": {
    "execution": {
     "iopub.execute_input": "2022-03-25T04:08:20.018469Z",
     "iopub.status.busy": "2022-03-25T04:08:20.018203Z",
     "iopub.status.idle": "2022-03-25T04:08:20.030755Z",
     "shell.execute_reply": "2022-03-25T04:08:20.030350Z"
    },
    "papermill": {
     "duration": 0.031745,
     "end_time": "2022-03-25T04:08:20.030859",
     "exception": false,
     "start_time": "2022-03-25T04:08:19.999114",
     "status": "completed"
    },
    "tags": []
   },
   "outputs": [],
   "source": [
    "###################################\n",
    "# Build the dataset\n",
    "###################################\n",
    "train_original_source = Iterable_Aggregator(train_original_source, p.seed)\n",
    "val_original_source = Iterable_Aggregator(val_original_source, p.seed)\n",
    "test_original_source = Iterable_Aggregator(test_original_source, p.seed)\n",
    "\n",
    "\n",
    "train_original_target = Iterable_Aggregator(train_original_target, p.seed)\n",
    "val_original_target = Iterable_Aggregator(val_original_target, p.seed)\n",
    "test_original_target = Iterable_Aggregator(test_original_target, p.seed)\n",
    "\n",
    "# For CNN We only use X and Y. And we only train on the source.\n",
    "# Properly form the data using a transform lambda and Lazy_Iterable_Wrapper. Finally wrap them in a dataloader\n",
    "\n",
    "transform_lambda = lambda ex: ex[1] # Original is (<domain>, <episode>) so we strip down to episode only\n",
    "\n",
    "train_processed_source = Lazy_Iterable_Wrapper(train_original_source, transform_lambda)\n",
    "val_processed_source   = Lazy_Iterable_Wrapper(val_original_source, transform_lambda)\n",
    "test_processed_source  = Lazy_Iterable_Wrapper(test_original_source, transform_lambda)\n",
    "\n",
    "train_processed_target = Lazy_Iterable_Wrapper(train_original_target, transform_lambda)\n",
    "val_processed_target   = Lazy_Iterable_Wrapper(val_original_target, transform_lambda)\n",
    "test_processed_target  = Lazy_Iterable_Wrapper(test_original_target, transform_lambda)\n",
    "\n",
    "datasets = EasyDict({\n",
    "    \"source\": {\n",
    "        \"original\": {\"train\":train_original_source, \"val\":val_original_source, \"test\":test_original_source},\n",
    "        \"processed\": {\"train\":train_processed_source, \"val\":val_processed_source, \"test\":test_processed_source}\n",
    "    },\n",
    "    \"target\": {\n",
    "        \"original\": {\"train\":train_original_target, \"val\":val_original_target, \"test\":test_original_target},\n",
    "        \"processed\": {\"train\":train_processed_target, \"val\":val_processed_target, \"test\":test_processed_target}\n",
    "    },\n",
    "})"
   ]
  },
  {
   "cell_type": "code",
   "execution_count": 20,
   "id": "5b3c01fc",
   "metadata": {
    "execution": {
     "iopub.execute_input": "2022-03-25T04:08:20.067451Z",
     "iopub.status.busy": "2022-03-25T04:08:20.067186Z",
     "iopub.status.idle": "2022-03-25T04:08:26.336009Z",
     "shell.execute_reply": "2022-03-25T04:08:26.336332Z"
    },
    "papermill": {
     "duration": 6.285981,
     "end_time": "2022-03-25T04:08:26.336444",
     "exception": false,
     "start_time": "2022-03-25T04:08:20.050463",
     "status": "completed"
    },
    "tags": []
   },
   "outputs": [
    {
     "name": "stdout",
     "output_type": "stream",
     "text": [
      "{'C_4', 'C_1', 'C_3', 'C_2', 'C_5'}\n"
     ]
    },
    {
     "name": "stdout",
     "output_type": "stream",
     "text": [
      "{'O_50', 'O_14', 'O_44', 'O_8', 'O_38', 'O_26', 'O_20', 'O_32'}\n"
     ]
    },
    {
     "name": "stdout",
     "output_type": "stream",
     "text": [
      "tensor([[[-0.5515, -0.3234,  1.1809,  ..., -1.4119, -0.9990,  0.5082],\n",
      "         [ 0.2541, -0.9557, -0.5428,  ...,  0.6121, -1.3859, -0.7334]],\n",
      "\n",
      "        [[-0.2472,  0.1696,  1.2388,  ..., -1.1181, -0.0029,  1.6326],\n",
      "         [ 0.0144, -0.7215,  0.2903,  ..., -0.9284, -1.5521, -0.4771]],\n",
      "\n",
      "        [[ 0.3363, -1.1873, -0.7340,  ...,  0.9709, -0.4767,  1.1200],\n",
      "         [ 1.2663,  0.2486, -0.6931,  ...,  0.8919, -0.1550,  0.0292]],\n",
      "\n",
      "        ...,\n",
      "\n",
      "        [[-0.1836,  0.2050,  0.4834,  ..., -0.4008, -0.0031,  0.1377],\n",
      "         [ 0.5018,  0.5324, -0.1193,  ...,  0.0704,  0.5446, -0.2784]],\n",
      "\n",
      "        [[-0.0033,  0.2896, -0.1692,  ...,  0.2571,  0.4621, -0.0293],\n",
      "         [-0.0423, -0.4751, -0.5304,  ...,  0.0521, -0.3091, -0.4165]],\n",
      "\n",
      "        [[-0.1185,  0.1185,  0.1933,  ...,  0.6453,  0.8167,  0.2961],\n",
      "         [-0.0436,  0.0281,  0.0156,  ...,  0.3304,  0.1870, -0.2151]]])\n"
     ]
    }
   ],
   "source": [
    "from steves_utils.transforms import get_average_magnitude, get_average_power\n",
    "\n",
    "print(set([u for u,_ in val_original_source]))\n",
    "print(set([u for u,_ in val_original_target]))\n",
    "\n",
    "s_x, s_y, q_x, q_y, _ = next(iter(train_processed_source))\n",
    "print(s_x)\n",
    "\n",
    "# for ds in [\n",
    "#     train_processed_source,\n",
    "#     val_processed_source,\n",
    "#     test_processed_source,\n",
    "#     train_processed_target,\n",
    "#     val_processed_target,\n",
    "#     test_processed_target\n",
    "# ]:\n",
    "#     for s_x, s_y, q_x, q_y, _ in ds:\n",
    "#         for X in (s_x, q_x):\n",
    "#             for x in X:\n",
    "#                 assert np.isclose(get_average_magnitude(x.numpy()), 1.0)\n",
    "#                 assert np.isclose(get_average_power(x.numpy()), 1.0)\n",
    "                "
   ]
  },
  {
   "cell_type": "code",
   "execution_count": 21,
   "id": "bbdacba1",
   "metadata": {
    "execution": {
     "iopub.execute_input": "2022-03-25T04:08:26.372072Z",
     "iopub.status.busy": "2022-03-25T04:08:26.371808Z",
     "iopub.status.idle": "2022-03-25T04:08:26.418041Z",
     "shell.execute_reply": "2022-03-25T04:08:26.418397Z"
    },
    "papermill": {
     "duration": 0.063781,
     "end_time": "2022-03-25T04:08:26.418509",
     "exception": false,
     "start_time": "2022-03-25T04:08:26.354728",
     "status": "completed"
    },
    "tags": []
   },
   "outputs": [
    {
     "name": "stdout",
     "output_type": "stream",
     "text": [
      "(2, 200)\n"
     ]
    }
   ],
   "source": [
    "###################################\n",
    "# Build the model\n",
    "###################################\n",
    "# easfsl only wants a tuple for the shape\n",
    "model = Steves_Prototypical_Network(x_net, device=p.device, x_shape=tuple(p.x_shape))\n",
    "optimizer = Adam(params=model.parameters(), lr=p.lr)"
   ]
  },
  {
   "cell_type": "code",
   "execution_count": 22,
   "id": "22b39ac5",
   "metadata": {
    "execution": {
     "iopub.execute_input": "2022-03-25T04:08:26.455252Z",
     "iopub.status.busy": "2022-03-25T04:08:26.455005Z",
     "iopub.status.idle": "2022-03-25T04:21:17.689653Z",
     "shell.execute_reply": "2022-03-25T04:21:17.689408Z"
    },
    "papermill": {
     "duration": 771.251168,
     "end_time": "2022-03-25T04:21:17.689715",
     "exception": false,
     "start_time": "2022-03-25T04:08:26.438547",
     "status": "completed"
    },
    "tags": []
   },
   "outputs": [
    {
     "name": "stdout",
     "output_type": "stream",
     "text": [
      "epoch: 1, [batch: 1 / 6297], examples_per_second: 50.7817, train_label_loss: 2.4828, \n"
     ]
    },
    {
     "name": "stdout",
     "output_type": "stream",
     "text": [
      "epoch: 1, [batch: 630 / 6297], examples_per_second: 3655.3498, train_label_loss: 0.0939, \n"
     ]
    },
    {
     "name": "stdout",
     "output_type": "stream",
     "text": [
      "epoch: 1, [batch: 1260 / 6297], examples_per_second: 3659.1559, train_label_loss: 0.0228, \n"
     ]
    },
    {
     "name": "stdout",
     "output_type": "stream",
     "text": [
      "epoch: 1, [batch: 1889 / 6297], examples_per_second: 3654.6564, train_label_loss: 0.0017, \n"
     ]
    },
    {
     "name": "stdout",
     "output_type": "stream",
     "text": [
      "epoch: 1, [batch: 2519 / 6297], examples_per_second: 3621.7133, train_label_loss: 0.0023, \n"
     ]
    },
    {
     "name": "stdout",
     "output_type": "stream",
     "text": [
      "epoch: 1, [batch: 3149 / 6297], examples_per_second: 3644.0610, train_label_loss: 0.0127, \n"
     ]
    },
    {
     "name": "stdout",
     "output_type": "stream",
     "text": [
      "epoch: 1, [batch: 3778 / 6297], examples_per_second: 3648.1673, train_label_loss: 0.0009, \n"
     ]
    },
    {
     "name": "stdout",
     "output_type": "stream",
     "text": [
      "epoch: 1, [batch: 4408 / 6297], examples_per_second: 3642.2663, train_label_loss: 0.0006, \n"
     ]
    },
    {
     "name": "stdout",
     "output_type": "stream",
     "text": [
      "epoch: 1, [batch: 5037 / 6297], examples_per_second: 3644.2240, train_label_loss: 0.0008, \n"
     ]
    },
    {
     "name": "stdout",
     "output_type": "stream",
     "text": [
      "epoch: 1, [batch: 5667 / 6297], examples_per_second: 3635.0399, train_label_loss: 0.0006, \n"
     ]
    },
    {
     "name": "stdout",
     "output_type": "stream",
     "text": [
      "=============================================================\n",
      "epoch: 1, source_val_acc_label: 0.9978, target_val_acc_label: 0.3598, source_val_label_loss: 0.0104, target_val_label_loss: 1.8829, \n",
      "=============================================================\n"
     ]
    },
    {
     "name": "stdout",
     "output_type": "stream",
     "text": [
      "New best\n"
     ]
    },
    {
     "name": "stdout",
     "output_type": "stream",
     "text": [
      "epoch: 2, [batch: 1 / 6333], examples_per_second: 5.4662, train_label_loss: 0.0000, \n"
     ]
    },
    {
     "name": "stdout",
     "output_type": "stream",
     "text": [
      "epoch: 2, [batch: 634 / 6333], examples_per_second: 3588.5853, train_label_loss: 0.0000, \n"
     ]
    },
    {
     "name": "stdout",
     "output_type": "stream",
     "text": [
      "epoch: 2, [batch: 1267 / 6333], examples_per_second: 3627.8104, train_label_loss: 0.0002, \n"
     ]
    },
    {
     "name": "stdout",
     "output_type": "stream",
     "text": [
      "epoch: 2, [batch: 1900 / 6333], examples_per_second: 3655.1968, train_label_loss: 0.0001, \n"
     ]
    },
    {
     "name": "stdout",
     "output_type": "stream",
     "text": [
      "epoch: 2, [batch: 2533 / 6333], examples_per_second: 3625.9746, train_label_loss: 0.0000, \n"
     ]
    },
    {
     "name": "stdout",
     "output_type": "stream",
     "text": [
      "epoch: 2, [batch: 3167 / 6333], examples_per_second: 3648.1925, train_label_loss: 0.0000, \n"
     ]
    },
    {
     "name": "stdout",
     "output_type": "stream",
     "text": [
      "epoch: 2, [batch: 3800 / 6333], examples_per_second: 3658.0357, train_label_loss: 0.0000, \n"
     ]
    },
    {
     "name": "stdout",
     "output_type": "stream",
     "text": [
      "epoch: 2, [batch: 4433 / 6333], examples_per_second: 3641.9130, train_label_loss: 0.0022, \n"
     ]
    },
    {
     "name": "stdout",
     "output_type": "stream",
     "text": [
      "epoch: 2, [batch: 5066 / 6333], examples_per_second: 3662.6479, train_label_loss: 0.0192, \n"
     ]
    },
    {
     "name": "stdout",
     "output_type": "stream",
     "text": [
      "epoch: 2, [batch: 5699 / 6333], examples_per_second: 3622.7729, train_label_loss: 0.0000, \n"
     ]
    },
    {
     "name": "stdout",
     "output_type": "stream",
     "text": [
      "=============================================================\n",
      "epoch: 2, source_val_acc_label: 0.9980, target_val_acc_label: 0.2492, source_val_label_loss: 0.0123, target_val_label_loss: 3.2720, \n",
      "=============================================================\n"
     ]
    },
    {
     "name": "stdout",
     "output_type": "stream",
     "text": [
      "epoch: 3, [batch: 1 / 6305], examples_per_second: 5.4801, train_label_loss: 0.0001, \n"
     ]
    },
    {
     "name": "stdout",
     "output_type": "stream",
     "text": [
      "epoch: 3, [batch: 631 / 6305], examples_per_second: 3598.1794, train_label_loss: 0.0000, \n"
     ]
    },
    {
     "name": "stdout",
     "output_type": "stream",
     "text": [
      "epoch: 3, [batch: 1261 / 6305], examples_per_second: 3614.5033, train_label_loss: 0.0001, \n"
     ]
    },
    {
     "name": "stdout",
     "output_type": "stream",
     "text": [
      "epoch: 3, [batch: 1892 / 6305], examples_per_second: 3605.7608, train_label_loss: 0.0000, \n"
     ]
    },
    {
     "name": "stdout",
     "output_type": "stream",
     "text": [
      "epoch: 3, [batch: 2522 / 6305], examples_per_second: 3600.2020, train_label_loss: 0.0000, \n"
     ]
    },
    {
     "name": "stdout",
     "output_type": "stream",
     "text": [
      "epoch: 3, [batch: 3153 / 6305], examples_per_second: 3647.7518, train_label_loss: 0.0000, \n"
     ]
    },
    {
     "name": "stdout",
     "output_type": "stream",
     "text": [
      "epoch: 3, [batch: 3783 / 6305], examples_per_second: 3606.2728, train_label_loss: 0.0000, \n"
     ]
    },
    {
     "name": "stdout",
     "output_type": "stream",
     "text": [
      "epoch: 3, [batch: 4413 / 6305], examples_per_second: 3599.5127, train_label_loss: 0.0000, \n"
     ]
    },
    {
     "name": "stdout",
     "output_type": "stream",
     "text": [
      "epoch: 3, [batch: 5044 / 6305], examples_per_second: 3676.6119, train_label_loss: 0.0000, \n"
     ]
    },
    {
     "name": "stdout",
     "output_type": "stream",
     "text": [
      "epoch: 3, [batch: 5674 / 6305], examples_per_second: 3660.9357, train_label_loss: 0.0003, \n"
     ]
    },
    {
     "name": "stdout",
     "output_type": "stream",
     "text": [
      "=============================================================\n",
      "epoch: 3, source_val_acc_label: 0.9991, target_val_acc_label: 0.3003, source_val_label_loss: 0.0080, target_val_label_loss: 2.7855, \n",
      "=============================================================\n"
     ]
    },
    {
     "name": "stdout",
     "output_type": "stream",
     "text": [
      "epoch: 4, [batch: 1 / 6323], examples_per_second: 5.4716, train_label_loss: 0.0000, \n"
     ]
    },
    {
     "name": "stdout",
     "output_type": "stream",
     "text": [
      "epoch: 4, [batch: 633 / 6323], examples_per_second: 3626.8850, train_label_loss: 0.0000, \n"
     ]
    },
    {
     "name": "stdout",
     "output_type": "stream",
     "text": [
      "epoch: 4, [batch: 1265 / 6323], examples_per_second: 3657.8239, train_label_loss: 0.0000, \n"
     ]
    },
    {
     "name": "stdout",
     "output_type": "stream",
     "text": [
      "epoch: 4, [batch: 1897 / 6323], examples_per_second: 3661.9585, train_label_loss: 0.0000, \n"
     ]
    },
    {
     "name": "stdout",
     "output_type": "stream",
     "text": [
      "epoch: 4, [batch: 2529 / 6323], examples_per_second: 3638.3823, train_label_loss: 0.0000, \n"
     ]
    },
    {
     "name": "stdout",
     "output_type": "stream",
     "text": [
      "epoch: 4, [batch: 3162 / 6323], examples_per_second: 3620.5098, train_label_loss: 0.0000, \n"
     ]
    },
    {
     "name": "stdout",
     "output_type": "stream",
     "text": [
      "epoch: 4, [batch: 3794 / 6323], examples_per_second: 3647.4779, train_label_loss: 0.0000, \n"
     ]
    },
    {
     "name": "stdout",
     "output_type": "stream",
     "text": [
      "epoch: 4, [batch: 4426 / 6323], examples_per_second: 3645.5147, train_label_loss: 0.0000, \n"
     ]
    },
    {
     "name": "stdout",
     "output_type": "stream",
     "text": [
      "epoch: 4, [batch: 5058 / 6323], examples_per_second: 3650.0800, train_label_loss: 0.0000, \n"
     ]
    },
    {
     "name": "stdout",
     "output_type": "stream",
     "text": [
      "epoch: 4, [batch: 5690 / 6323], examples_per_second: 3662.2302, train_label_loss: 0.0000, \n"
     ]
    },
    {
     "name": "stdout",
     "output_type": "stream",
     "text": [
      "=============================================================\n",
      "epoch: 4, source_val_acc_label: 0.9994, target_val_acc_label: 0.3077, source_val_label_loss: 0.0077, target_val_label_loss: 2.6660, \n",
      "=============================================================\n"
     ]
    },
    {
     "name": "stdout",
     "output_type": "stream",
     "text": [
      "epoch: 5, [batch: 1 / 6317], examples_per_second: 5.4599, train_label_loss: 0.0000, \n"
     ]
    },
    {
     "name": "stdout",
     "output_type": "stream",
     "text": [
      "epoch: 5, [batch: 632 / 6317], examples_per_second: 3611.0928, train_label_loss: 0.0000, \n"
     ]
    },
    {
     "name": "stdout",
     "output_type": "stream",
     "text": [
      "epoch: 5, [batch: 1264 / 6317], examples_per_second: 3653.2461, train_label_loss: 0.0000, \n"
     ]
    },
    {
     "name": "stdout",
     "output_type": "stream",
     "text": [
      "epoch: 5, [batch: 1895 / 6317], examples_per_second: 3650.2041, train_label_loss: 0.0000, \n"
     ]
    },
    {
     "name": "stdout",
     "output_type": "stream",
     "text": [
      "epoch: 5, [batch: 2527 / 6317], examples_per_second: 3633.6181, train_label_loss: 0.0000, \n"
     ]
    },
    {
     "name": "stdout",
     "output_type": "stream",
     "text": [
      "epoch: 5, [batch: 3159 / 6317], examples_per_second: 3647.3359, train_label_loss: 0.0000, \n"
     ]
    },
    {
     "name": "stdout",
     "output_type": "stream",
     "text": [
      "epoch: 5, [batch: 3790 / 6317], examples_per_second: 3643.2640, train_label_loss: 0.0000, \n"
     ]
    },
    {
     "name": "stdout",
     "output_type": "stream",
     "text": [
      "epoch: 5, [batch: 4422 / 6317], examples_per_second: 3636.0041, train_label_loss: 0.0000, \n"
     ]
    },
    {
     "name": "stdout",
     "output_type": "stream",
     "text": [
      "epoch: 5, [batch: 5053 / 6317], examples_per_second: 3639.4570, train_label_loss: 0.0148, \n"
     ]
    },
    {
     "name": "stdout",
     "output_type": "stream",
     "text": [
      "epoch: 5, [batch: 5685 / 6317], examples_per_second: 3638.7064, train_label_loss: 0.0000, \n"
     ]
    },
    {
     "name": "stdout",
     "output_type": "stream",
     "text": [
      "=============================================================\n",
      "epoch: 5, source_val_acc_label: 0.9992, target_val_acc_label: 0.2921, source_val_label_loss: 0.0094, target_val_label_loss: 3.1089, \n",
      "=============================================================\n"
     ]
    },
    {
     "name": "stdout",
     "output_type": "stream",
     "text": [
      "Patience (3) exhausted\n"
     ]
    }
   ],
   "source": [
    "###################################\n",
    "# train\n",
    "###################################\n",
    "jig = PTN_Train_Eval_Test_Jig(model, p.BEST_MODEL_PATH, p.device)\n",
    "\n",
    "jig.train(\n",
    "    train_iterable=datasets.source.processed.train,\n",
    "    source_val_iterable=datasets.source.processed.val,\n",
    "    target_val_iterable=datasets.target.processed.val,\n",
    "    num_epochs=p.n_epoch,\n",
    "    num_logs_per_epoch=p.NUM_LOGS_PER_EPOCH,\n",
    "    patience=p.patience,\n",
    "    optimizer=optimizer,\n",
    "    criteria_for_best=p.criteria_for_best,\n",
    ")"
   ]
  },
  {
   "cell_type": "code",
   "execution_count": 23,
   "id": "31e8fabf",
   "metadata": {
    "execution": {
     "iopub.execute_input": "2022-03-25T04:21:17.741674Z",
     "iopub.status.busy": "2022-03-25T04:21:17.741274Z",
     "iopub.status.idle": "2022-03-25T04:21:17.757038Z",
     "shell.execute_reply": "2022-03-25T04:21:17.756782Z"
    },
    "papermill": {
     "duration": 0.042538,
     "end_time": "2022-03-25T04:21:17.757105",
     "exception": false,
     "start_time": "2022-03-25T04:21:17.714567",
     "status": "completed"
    },
    "tags": []
   },
   "outputs": [],
   "source": [
    "total_experiment_time_secs = time.time() - start_time_secs"
   ]
  },
  {
   "cell_type": "code",
   "execution_count": 24,
   "id": "87b9595b",
   "metadata": {
    "execution": {
     "iopub.execute_input": "2022-03-25T04:21:17.810824Z",
     "iopub.status.busy": "2022-03-25T04:21:17.810398Z",
     "iopub.status.idle": "2022-03-25T04:22:49.712700Z",
     "shell.execute_reply": "2022-03-25T04:22:49.713112Z"
    },
    "papermill": {
     "duration": 91.93122,
     "end_time": "2022-03-25T04:22:49.713251",
     "exception": false,
     "start_time": "2022-03-25T04:21:17.782031",
     "status": "completed"
    },
    "tags": []
   },
   "outputs": [],
   "source": [
    "###################################\n",
    "# Evaluate the model\n",
    "###################################\n",
    "source_test_label_accuracy, source_test_label_loss = jig.test(datasets.source.processed.test)\n",
    "target_test_label_accuracy, target_test_label_loss = jig.test(datasets.target.processed.test)\n",
    "\n",
    "source_val_label_accuracy, source_val_label_loss = jig.test(datasets.source.processed.val)\n",
    "target_val_label_accuracy, target_val_label_loss = jig.test(datasets.target.processed.val)\n",
    "\n",
    "history = jig.get_history()\n",
    "\n",
    "total_epochs_trained = len(history[\"epoch_indices\"])\n",
    "\n",
    "val_dl = Iterable_Aggregator((datasets.source.original.val,datasets.target.original.val))\n",
    "\n",
    "confusion = ptn_confusion_by_domain_over_dataloader(model, p.device, val_dl)\n",
    "per_domain_accuracy = per_domain_accuracy_from_confusion(confusion)\n",
    "\n",
    "# Add a key to per_domain_accuracy for if it was a source domain\n",
    "for domain, accuracy in per_domain_accuracy.items():\n",
    "    per_domain_accuracy[domain] = {\n",
    "        \"accuracy\": accuracy,\n",
    "        \"source?\": domain in p.domains_source\n",
    "    }\n",
    "\n",
    "# Do an independent accuracy assesment JUST TO BE SURE!\n",
    "# _source_test_label_accuracy = independent_accuracy_assesment(model, datasets.source.processed.test, p.device)\n",
    "# _target_test_label_accuracy = independent_accuracy_assesment(model, datasets.target.processed.test, p.device)\n",
    "# _source_val_label_accuracy = independent_accuracy_assesment(model, datasets.source.processed.val, p.device)\n",
    "# _target_val_label_accuracy = independent_accuracy_assesment(model, datasets.target.processed.val, p.device)\n",
    "\n",
    "# assert(_source_test_label_accuracy == source_test_label_accuracy)\n",
    "# assert(_target_test_label_accuracy == target_test_label_accuracy)\n",
    "# assert(_source_val_label_accuracy == source_val_label_accuracy)\n",
    "# assert(_target_val_label_accuracy == target_val_label_accuracy)\n",
    "\n",
    "experiment = {\n",
    "    \"experiment_name\": p.experiment_name,\n",
    "    \"parameters\": dict(p),\n",
    "    \"results\": {\n",
    "        \"source_test_label_accuracy\": source_test_label_accuracy,\n",
    "        \"source_test_label_loss\": source_test_label_loss,\n",
    "        \"target_test_label_accuracy\": target_test_label_accuracy,\n",
    "        \"target_test_label_loss\": target_test_label_loss,\n",
    "        \"source_val_label_accuracy\": source_val_label_accuracy,\n",
    "        \"source_val_label_loss\": source_val_label_loss,\n",
    "        \"target_val_label_accuracy\": target_val_label_accuracy,\n",
    "        \"target_val_label_loss\": target_val_label_loss,\n",
    "        \"total_epochs_trained\": total_epochs_trained,\n",
    "        \"total_experiment_time_secs\": total_experiment_time_secs,\n",
    "        \"confusion\": confusion,\n",
    "        \"per_domain_accuracy\": per_domain_accuracy,\n",
    "    },\n",
    "    \"history\": history,\n",
    "    \"dataset_metrics\": get_dataset_metrics(datasets, \"ptn\"),\n",
    "}"
   ]
  },
  {
   "cell_type": "code",
   "execution_count": 25,
   "id": "54a21829",
   "metadata": {
    "execution": {
     "iopub.execute_input": "2022-03-25T04:22:49.771448Z",
     "iopub.status.busy": "2022-03-25T04:22:49.771195Z",
     "iopub.status.idle": "2022-03-25T04:22:49.894834Z",
     "shell.execute_reply": "2022-03-25T04:22:49.894440Z"
    },
    "papermill": {
     "duration": 0.151454,
     "end_time": "2022-03-25T04:22:49.894924",
     "exception": false,
     "start_time": "2022-03-25T04:22:49.743470",
     "status": "completed"
    },
    "tags": []
   },
   "outputs": [
    {
     "data": {
      "image/png": "[encoded data removed]",
      "text/plain": [
       "<Figure size 1080x504 with 1 Axes>"
      ]
     },
     "metadata": {
      "needs_background": "light"
     },
     "output_type": "display_data"
    }
   ],
   "source": [
    "ax = get_loss_curve(experiment)\n",
    "plt.show()"
   ]
  },
  {
   "cell_type": "code",
   "execution_count": 26,
   "id": "fd8a0f60",
   "metadata": {
    "execution": {
     "iopub.execute_input": "2022-03-25T04:22:49.951140Z",
     "iopub.status.busy": "2022-03-25T04:22:49.950887Z",
     "iopub.status.idle": "2022-03-25T04:22:50.091284Z",
     "shell.execute_reply": "2022-03-25T04:22:50.090904Z"
    },
    "papermill": {
     "duration": 0.167638,
     "end_time": "2022-03-25T04:22:50.091372",
     "exception": false,
     "start_time": "2022-03-25T04:22:49.923734",
     "status": "completed"
    },
    "tags": []
   },
   "outputs": [
    {
     "data": {
      "text/plain": [
       "<AxesSubplot:title={'center':'Results'}>"
      ]
     },
     "execution_count": 26,
     "metadata": {},
     "output_type": "execute_result"
    },
    {
     "data": {
      "image/png": "[encoded data removed]",
      "text/plain": [
       "<Figure size 1080x504 with 1 Axes>"
      ]
     },
     "metadata": {
      "needs_background": "light"
     },
     "output_type": "display_data"
    }
   ],
   "source": [
    "get_results_table(experiment)"
   ]
  },
  {
   "cell_type": "code",
   "execution_count": 27,
   "id": "cf8dc689",
   "metadata": {
    "execution": {
     "iopub.execute_input": "2022-03-25T04:22:50.151580Z",
     "iopub.status.busy": "2022-03-25T04:22:50.151325Z",
     "iopub.status.idle": "2022-03-25T04:22:50.287084Z",
     "shell.execute_reply": "2022-03-25T04:22:50.287461Z"
    },
    "papermill": {
     "duration": 0.165668,
     "end_time": "2022-03-25T04:22:50.287581",
     "exception": false,
     "start_time": "2022-03-25T04:22:50.121913",
     "status": "completed"
    },
    "tags": []
   },
   "outputs": [
    {
     "data": {
      "text/plain": [
       "<AxesSubplot:title={'center':'Per Domain Validation Accuracy'}, xlabel='domain'>"
      ]
     },
     "execution_count": 27,
     "metadata": {},
     "output_type": "execute_result"
    },
    {
     "data": {
      "image/png": "[encoded data removed]",
      "text/plain": [
       "<Figure size 1080x504 with 1 Axes>"
      ]
     },
     "metadata": {
      "needs_background": "light"
     },
     "output_type": "display_data"
    }
   ],
   "source": [
    "get_domain_accuracies(experiment)"
   ]
  },
  {
   "cell_type": "code",
   "execution_count": 28,
   "id": "a74ae082",
   "metadata": {
    "execution": {
     "iopub.execute_input": "2022-03-25T04:22:50.351626Z",
     "iopub.status.busy": "2022-03-25T04:22:50.351373Z",
     "iopub.status.idle": "2022-03-25T04:22:50.367853Z",
     "shell.execute_reply": "2022-03-25T04:22:50.368227Z"
    },
    "papermill": {
     "duration": 0.04764,
     "end_time": "2022-03-25T04:22:50.368330",
     "exception": false,
     "start_time": "2022-03-25T04:22:50.320690",
     "status": "completed"
    },
    "tags": []
   },
   "outputs": [
    {
     "name": "stdout",
     "output_type": "stream",
     "text": [
      "Source Test Label Accuracy: 0.9975853863381859 Target Test Label Accuracy: 0.35397135416666664\n",
      "Source Val Label Accuracy: 0.9978189359267735 Target Val Label Accuracy: 0.35983072916666664\n"
     ]
    }
   ],
   "source": [
    "print(\"Source Test Label Accuracy:\", experiment[\"results\"][\"source_test_label_accuracy\"], \"Target Test Label Accuracy:\", experiment[\"results\"][\"target_test_label_accuracy\"])\n",
    "print(\"Source Val Label Accuracy:\", experiment[\"results\"][\"source_val_label_accuracy\"], \"Target Val Label Accuracy:\", experiment[\"results\"][\"target_val_label_accuracy\"])"
   ]
  },
  {
   "cell_type": "code",
   "execution_count": 29,
   "id": "dacca602",
   "metadata": {
    "execution": {
     "iopub.execute_input": "2022-03-25T04:22:50.431417Z",
     "iopub.status.busy": "2022-03-25T04:22:50.431165Z",
     "iopub.status.idle": "2022-03-25T04:22:50.446632Z",
     "shell.execute_reply": "2022-03-25T04:22:50.447004Z"
    },
    "papermill": {
     "duration": 0.04601,
     "end_time": "2022-03-25T04:22:50.447108",
     "exception": false,
     "start_time": "2022-03-25T04:22:50.401098",
     "status": "completed"
    },
    "tags": [
     "experiment_json"
    ]
   },
   "outputs": [
    {
     "data": {
      "text/plain": [
       "'{\"experiment_name\": \"tl_3Av2:cores -> oracle.run1.framed\", \"parameters\": {\"experiment_name\": \"tl_3Av2:cores -> oracle.run1.framed\", \"device\": \"cuda\", \"lr\": 0.0001, \"x_shape\": [2, 200], \"n_shot\": 3, \"n_query\": 2, \"train_k_factor\": 3, \"val_k_factor\": 2, \"test_k_factor\": 2, \"torch_default_dtype\": \"torch.float32\", \"n_epoch\": 50, \"patience\": 3, \"criteria_for_best\": \"target_accuracy\", \"x_net\": [{\"class\": \"nnReshape\", \"kargs\": {\"shape\": [-1, 1, 2, 200]}}, {\"class\": \"Conv2d\", \"kargs\": {\"in_channels\": 1, \"out_channels\": 256, \"kernel_size\": [1, 7], \"bias\": false, \"padding\": [0, 3]}}, {\"class\": \"ReLU\", \"kargs\": {\"inplace\": true}}, {\"class\": \"BatchNorm2d\", \"kargs\": {\"num_features\": 256}}, {\"class\": \"Conv2d\", \"kargs\": {\"in_channels\": 256, \"out_channels\": 80, \"kernel_size\": [2, 7], \"bias\": true, \"padding\": [0, 3]}}, {\"class\": \"ReLU\", \"kargs\": {\"inplace\": true}}, {\"class\": \"BatchNorm2d\", \"kargs\": {\"num_features\": 80}}, {\"class\": \"Flatten\", \"kargs\": {}}, {\"class\": \"Linear\", \"kargs\": {\"in_features\": 16000, \"out_features\": 256}}, {\"class\": \"ReLU\", \"kargs\": {\"inplace\": true}}, {\"class\": \"BatchNorm1d\", \"kargs\": {\"num_features\": 256}}, {\"class\": \"Linear\", \"kargs\": {\"in_features\": 256, \"out_features\": 256}}], \"NUM_LOGS_PER_EPOCH\": 10, \"BEST_MODEL_PATH\": \"./best_model.pth\", \"n_way\": 16, \"datasets\": [{\"labels\": [\"1-10.\", \"1-11.\", \"1-15.\", \"1-16.\", \"1-17.\", \"1-18.\", \"1-19.\", \"10-4.\", \"10-7.\", \"11-1.\", \"11-14.\", \"11-17.\", \"11-20.\", \"11-7.\", \"13-20.\", \"13-8.\", \"14-10.\", \"14-11.\", \"14-14.\", \"14-7.\", \"15-1.\", \"15-20.\", \"16-1.\", \"16-16.\", \"17-10.\", \"17-11.\", \"17-2.\", \"19-1.\", \"19-16.\", \"19-19.\", \"19-20.\", \"19-3.\", \"2-10.\", \"2-11.\", \"2-17.\", \"2-18.\", \"2-20.\", \"2-3.\", \"2-4.\", \"2-5.\", \"2-6.\", \"2-7.\", \"2-8.\", \"3-13.\", \"3-18.\", \"3-3.\", \"4-1.\", \"4-10.\", \"4-11.\", \"4-19.\", \"5-5.\", \"6-15.\", \"7-10.\", \"7-14.\", \"8-18.\", \"8-20.\", \"8-3.\", \"8-8.\"], \"domains\": [1, 2, 3, 4, 5], \"num_examples_per_domain_per_label\": -1, \"pickle_path\": \"/mnt/wd500GB/CSC500/csc500-main/datasets/cores.stratified_ds.2022A.pkl\", \"source_or_target_dataset\": \"source\", \"x_transforms\": [\"unit_power\", \"take_200\"], \"episode_transforms\": [], \"domain_prefix\": \"C_\"}, {\"labels\": [\"3123D52\", \"3123D65\", \"3123D79\", \"3123D80\", \"3123D54\", \"3123D70\", \"3123D7B\", \"3123D89\", \"3123D58\", \"3123D76\", \"3123D7D\", \"3123EFE\", \"3123D64\", \"3123D78\", \"3123D7E\", \"3124E4A\"], \"domains\": [32, 38, 8, 44, 14, 50, 20, 26], \"num_examples_per_domain_per_label\": 2000, \"pickle_path\": \"/mnt/wd500GB/CSC500/csc500-main/datasets/oracle.Run1_framed_2000Examples_stratified_ds.2022A.pkl\", \"source_or_target_dataset\": \"target\", \"x_transforms\": [\"unit_power\", \"take_200\", \"resample_20Msps_to_25Msps\"], \"episode_transforms\": [], \"domain_prefix\": \"O_\"}], \"seed\": 154325, \"dataset_seed\": 154325, \"domains_source\": [\"C_1\", \"C_2\", \"C_3\", \"C_4\", \"C_5\"], \"domains_target\": [\"O_32\", \"O_38\", \"O_8\", \"O_44\", \"O_14\", \"O_50\", \"O_20\", \"O_26\"]}, \"results\": {\"source_test_label_accuracy\": 0.9975853863381859, \"source_test_label_loss\": 0.009697834961116314, \"target_test_label_accuracy\": 0.35397135416666664, \"target_test_label_loss\": 1.8925938606262207, \"source_val_label_accuracy\": 0.9978189359267735, \"source_val_label_loss\": 0.010401148349046707, \"target_val_label_accuracy\": 0.35983072916666664, \"target_val_label_loss\": 1.8829110860824585, \"total_epochs_trained\": 5, \"total_experiment_time_secs\": 827.947368144989, \"confusion\": {\"C_2\": {\"21\": {\"21\": 120}, \"4\": {\"4\": 130}, \"6\": {\"6\": 124}, \"10\": {\"10\": 112}, \"33\": {\"33\": 28}, \"56\": {\"56\": 122}, \"20\": {\"20\": 132}, \"24\": {\"24\": 96}, \"45\": {\"45\": 127, \"17\": 1}, \"32\": {\"32\": 28}, \"27\": {\"27\": 148}, \"53\": {\"53\": 136}, \"8\": {\"8\": 160}, \"54\": {\"54\": 108}, \"50\": {\"50\": 134}, \"44\": {\"44\": 99, \"40\": 1}, \"5\": {\"5\": 120}, \"38\": {\"38\": 20}, \"19\": {\"19\": 132}, \"1\": {\"1\": 112}, \"30\": {\"30\": 144}, \"15\": {\"15\": 144}, \"23\": {\"23\": 146}, \"35\": {\"35\": 32}, \"22\": {\"22\": 128}, \"40\": {\"40\": 140}, \"46\": {\"46\": 126}, \"3\": {\"3\": 92}, \"48\": {\"48\": 148}, \"52\": {\"52\": 124}, \"2\": {\"2\": 31, \"3\": 1}, \"26\": {\"26\": 24}, \"17\": {\"17\": 104}, \"55\": {\"55\": 144}, \"51\": {\"51\": 122}, \"42\": {\"42\": 36}, \"41\": {\"41\": 20}, \"31\": {\"31\": 28}, \"16\": {\"16\": 138}, \"36\": {\"36\": 116}, \"49\": {\"49\": 24}, \"0\": {\"0\": 48}, \"18\": {\"18\": 47, \"30\": 1}, \"25\": {\"25\": 146}, \"9\": {\"9\": 122}, \"47\": {\"47\": 132}, \"7\": {\"7\": 36}, \"37\": {\"37\": 36}, \"13\": {\"13\": 116}, \"14\": {\"14\": 19, \"5\": 1, \"31\": 1, \"42\": 1, \"56\": 1, \"15\": 1}, \"34\": {\"34\": 28}, \"57\": {\"57\": 140}, \"11\": {\"11\": 138}, \"39\": {\"39\": 28}, \"12\": {\"12\": 92}, \"28\": {\"28\": 28}, \"29\": {\"29\": 128}, \"43\": {\"43\": 140}}, \"C_5\": {\"12\": {\"12\": 96}, \"8\": {\"8\": 142}, \"29\": {\"29\": 132}, \"57\": {\"57\": 126}, \"38\": {\"38\": 32}, \"23\": {\"23\": 124}, \"56\": {\"56\": 138}, \"49\": {\"49\": 36}, \"4\": {\"4\": 100}, \"48\": {\"48\": 136}, \"21\": {\"21\": 144}, \"30\": {\"30\": 128}, \"1\": {\"1\": 148}, \"34\": {\"34\": 36}, \"35\": {\"35\": 36}, \"55\": {\"55\": 152}, \"5\": {\"5\": 122}, \"52\": {\"52\": 126}, \"6\": {\"6\": 127, \"17\": 1}, \"36\": {\"36\": 92}, \"41\": {\"41\": 28}, \"3\": {\"3\": 100}, \"28\": {\"28\": 32}, \"18\": {\"18\": 64}, \"25\": {\"25\": 136}, \"47\": {\"47\": 100}, \"13\": {\"13\": 159, \"56\": 1}, \"11\": {\"11\": 144}, \"53\": {\"53\": 143, \"6\": 1}, \"33\": {\"33\": 32}, \"46\": {\"46\": 148}, \"50\": {\"50\": 148}, \"10\": {\"10\": 68}, \"15\": {\"15\": 137, \"11\": 1}, \"44\": {\"44\": 140}, \"2\": {\"2\": 28}, \"7\": {\"7\": 32}, \"43\": {\"43\": 138}, \"32\": {\"32\": 32}, \"0\": {\"0\": 124}, \"39\": {\"39\": 20}, \"26\": {\"26\": 24}, \"27\": {\"27\": 112}, \"54\": {\"54\": 112}, \"17\": {\"17\": 116}, \"14\": {\"14\": 35, \"46\": 2, \"3\": 1, \"29\": 1, \"54\": 3, \"47\": 2}, \"16\": {\"16\": 148}, \"9\": {\"9\": 148}, \"19\": {\"19\": 152}, \"20\": {\"20\": 138}, \"37\": {\"37\": 24}, \"24\": {\"24\": 78, \"43\": 2}, \"40\": {\"40\": 122}, \"45\": {\"45\": 122, \"55\": 2}, \"22\": {\"22\": 28}, \"42\": {\"42\": 38, \"56\": 2}, \"51\": {\"51\": 118}, \"31\": {\"31\": 36}}, \"C_1\": {\"27\": {\"27\": 142}, \"2\": {\"2\": 36}, \"33\": {\"33\": 32}, \"45\": {\"45\": 156}, \"38\": {\"38\": 24}, \"4\": {\"4\": 132}, \"31\": {\"31\": 28}, \"55\": {\"55\": 140}, \"32\": {\"32\": 32}, \"57\": {\"57\": 140}, \"14\": {\"14\": 17, \"30\": 1, \"5\": 2, \"8\": 4}, \"16\": {\"16\": 140}, \"34\": {\"34\": 24}, \"56\": {\"56\": 126}, \"24\": {\"24\": 108}, \"30\": {\"30\": 112}, \"17\": {\"17\": 64}, \"13\": {\"13\": 138}, \"39\": {\"39\": 28}, \"50\": {\"50\": 146}, \"20\": {\"20\": 140}, \"41\": {\"41\": 24}, \"53\": {\"53\": 126}, \"48\": {\"48\": 142}, \"36\": {\"36\": 64}, \"8\": {\"8\": 140}, \"15\": {\"15\": 132}, \"40\": {\"40\": 156}, \"37\": {\"37\": 32}, \"21\": {\"21\": 120}, \"35\": {\"35\": 36}, \"49\": {\"49\": 32}, \"26\": {\"26\": 24}, \"28\": {\"28\": 28}, \"12\": {\"12\": 116}, \"5\": {\"5\": 152}, \"29\": {\"29\": 140}, \"47\": {\"47\": 140}, \"10\": {\"10\": 95, \"11\": 1}, \"18\": {\"18\": 71, \"50\": 1}, \"9\": {\"9\": 126}, \"3\": {\"3\": 139, \"22\": 1}, \"52\": {\"52\": 132}, \"25\": {\"25\": 136}, \"19\": {\"19\": 156}, \"11\": {\"11\": 136}, \"7\": {\"7\": 28}, \"23\": {\"23\": 136}, \"44\": {\"44\": 132}, \"42\": {\"42\": 40}, \"54\": {\"54\": 104}, \"1\": {\"1\": 100}, \"46\": {\"46\": 128}, \"6\": {\"6\": 96}, \"43\": {\"43\": 144}, \"51\": {\"51\": 142}, \"22\": {\"22\": 134, \"24\": 2}, \"0\": {\"0\": 128}}, \"C_4\": {\"32\": {\"32\": 24}, \"2\": {\"2\": 36}, \"41\": {\"41\": 36}, \"11\": {\"11\": 101, \"15\": 1}, \"57\": {\"57\": 100}, \"6\": {\"6\": 112}, \"23\": {\"23\": 136}, \"52\": {\"52\": 116}, \"38\": {\"38\": 40}, \"50\": {\"50\": 131, \"21\": 1}, \"55\": {\"55\": 152}, \"46\": {\"46\": 154}, \"37\": {\"37\": 24}, \"20\": {\"20\": 118}, \"49\": {\"49\": 20}, \"45\": {\"45\": 96}, \"54\": {\"54\": 108}, \"3\": {\"3\": 123, \"5\": 1}, \"13\": {\"13\": 152}, \"18\": {\"18\": 108}, \"21\": {\"21\": 126}, \"43\": {\"43\": 144}, \"47\": {\"47\": 120}, \"4\": {\"4\": 132}, \"12\": {\"12\": 92}, \"9\": {\"9\": 128}, \"7\": {\"7\": 24}, \"56\": {\"56\": 112}, \"28\": {\"28\": 32}, \"44\": {\"44\": 132}, \"24\": {\"24\": 56}, \"33\": {\"33\": 36}, \"35\": {\"35\": 40}, \"51\": {\"51\": 138}, \"39\": {\"39\": 20}, \"36\": {\"36\": 92}, \"19\": {\"19\": 140}, \"0\": {\"0\": 77, \"46\": 3}, \"15\": {\"15\": 135, \"46\": 1}, \"29\": {\"29\": 124}, \"30\": {\"30\": 44}, \"1\": {\"1\": 40}, \"22\": {\"22\": 128}, \"40\": {\"40\": 146}, \"8\": {\"8\": 128}, \"53\": {\"53\": 138}, \"34\": {\"34\": 24}, \"10\": {\"10\": 122}, \"31\": {\"31\": 28}, \"17\": {\"17\": 80}, \"16\": {\"16\": 96}, \"42\": {\"42\": 32}, \"27\": {\"27\": 142}, \"14\": {\"14\": 11, \"38\": 1, \"0\": 1, \"46\": 1, \"15\": 1, \"47\": 1}, \"25\": {\"25\": 122}, \"48\": {\"48\": 132}, \"26\": {\"26\": 24}, \"5\": {\"5\": 107, \"16\": 1}}, \"C_3\": {\"14\": {\"14\": 38, \"55\": 1, \"5\": 1}, \"18\": {\"18\": 84}, \"30\": {\"30\": 120}, \"16\": {\"16\": 156}, \"1\": {\"1\": 100}, \"20\": {\"20\": 132}, \"7\": {\"7\": 36}, \"52\": {\"52\": 130}, \"9\": {\"9\": 140}, \"23\": {\"23\": 144}, \"55\": {\"55\": 164}, \"29\": {\"29\": 126}, \"56\": {\"56\": 134}, \"3\": {\"3\": 124}, \"42\": {\"42\": 28}, \"6\": {\"6\": 87, \"12\": 1}, \"5\": {\"5\": 115, \"3\": 1}, \"27\": {\"27\": 144}, \"47\": {\"47\": 91, \"6\": 1}, \"39\": {\"39\": 16}, \"34\": {\"34\": 32}, \"4\": {\"4\": 126}, \"24\": {\"24\": 104}, \"46\": {\"46\": 117, \"20\": 1}, \"50\": {\"50\": 126}, \"38\": {\"38\": 28}, \"54\": {\"54\": 100}, \"35\": {\"35\": 28}, \"2\": {\"2\": 32}, \"41\": {\"41\": 28}, \"57\": {\"57\": 118}, \"25\": {\"25\": 150}, \"48\": {\"48\": 116}, \"33\": {\"33\": 28}, \"45\": {\"45\": 60}, \"13\": {\"13\": 126}, \"36\": {\"36\": 100}, \"43\": {\"43\": 132}, \"28\": {\"28\": 28}, \"0\": {\"0\": 124}, \"12\": {\"12\": 92}, \"31\": {\"31\": 28}, \"40\": {\"40\": 116}, \"44\": {\"44\": 87, \"40\": 1}, \"32\": {\"32\": 28}, \"26\": {\"26\": 24}, \"8\": {\"8\": 116}, \"10\": {\"10\": 64}, \"15\": {\"15\": 142}, \"21\": {\"21\": 128}, \"37\": {\"37\": 28}, \"17\": {\"17\": 108}, \"51\": {\"51\": 124}, \"53\": {\"53\": 144}, \"19\": {\"19\": 136}, \"49\": {\"49\": 20}, \"11\": {\"11\": 138}, \"22\": {\"22\": 129, \"56\": 1}}, \"O_8\": {\"13\": {\"14\": 37, \"7\": 34, \"13\": 38, \"10\": 28, \"6\": 18, \"0\": 27, \"8\": 2, \"11\": 2, \"12\": 1, \"1\": 3, \"4\": 39, \"3\": 2, \"15\": 3, \"5\": 5, \"2\": 1}, \"9\": {\"9\": 232, \"5\": 4, \"10\": 2, \"0\": 1, \"13\": 1}, \"15\": {\"15\": 75, \"12\": 46, \"7\": 17, \"6\": 18, \"8\": 47, \"13\": 4, \"3\": 16, \"11\": 2, \"2\": 6, \"4\": 4, \"1\": 3, \"0\": 2}, \"2\": {\"3\": 88, \"2\": 86, \"6\": 8, \"0\": 4, \"13\": 2, \"15\": 16, \"12\": 18, \"7\": 16, \"4\": 2}, \"3\": {\"2\": 62, \"3\": 86, \"0\": 3, \"7\": 10, \"12\": 50, \"15\": 22, \"4\": 1, \"6\": 4, \"8\": 2}, \"8\": {\"6\": 19, \"8\": 82, \"12\": 22, \"4\": 16, \"15\": 32, \"7\": 16, \"1\": 11, \"13\": 5, \"5\": 2, \"11\": 20, \"14\": 12, \"10\": 2, \"3\": 1}, \"5\": {\"10\": 31, \"5\": 83, \"14\": 34, \"13\": 11, \"1\": 45, \"4\": 6, \"11\": 23, \"8\": 1, \"9\": 1, \"6\": 2, \"0\": 3}, \"14\": {\"5\": 16, \"11\": 23, \"13\": 23, \"6\": 19, \"14\": 36, \"10\": 42, \"0\": 17, \"8\": 9, \"4\": 28, \"7\": 15, \"1\": 12}, \"1\": {\"5\": 30, \"1\": 70, \"8\": 17, \"11\": 55, \"14\": 22, \"4\": 9, \"10\": 22, \"7\": 2, \"6\": 5, \"0\": 3, \"13\": 5}, \"0\": {\"4\": 26, \"10\": 16, \"0\": 56, \"14\": 24, \"7\": 33, \"6\": 39, \"13\": 33, \"2\": 6, \"3\": 2, \"15\": 3, \"12\": 1, \"5\": 1}, \"10\": {\"10\": 59, \"11\": 3, \"5\": 25, \"4\": 31, \"13\": 31, \"14\": 40, \"7\": 8, \"1\": 15, \"6\": 15, \"0\": 12, \"8\": 1}, \"6\": {\"13\": 34, \"0\": 32, \"14\": 24, \"6\": 43, \"15\": 11, \"4\": 28, \"10\": 9, \"8\": 8, \"7\": 34, \"1\": 4, \"11\": 3, \"3\": 3, \"12\": 5, \"2\": 1, \"5\": 1}, \"11\": {\"11\": 100, \"1\": 59, \"10\": 12, \"5\": 25, \"8\": 14, \"14\": 19, \"4\": 7, \"6\": 4}, \"7\": {\"7\": 43, \"3\": 10, \"13\": 25, \"6\": 42, \"2\": 18, \"12\": 8, \"0\": 34, \"4\": 30, \"15\": 12, \"8\": 5, \"10\": 4, \"14\": 9}, \"4\": {\"4\": 37, \"7\": 23, \"6\": 37, \"10\": 25, \"14\": 32, \"8\": 7, \"5\": 6, \"13\": 37, \"0\": 20, \"1\": 5, \"11\": 4, \"15\": 6, \"2\": 1}, \"12\": {\"2\": 18, \"8\": 26, \"15\": 58, \"3\": 40, \"12\": 80, \"0\": 3, \"7\": 3, \"6\": 9, \"13\": 1, \"14\": 1, \"4\": 1}}, \"O_38\": {\"13\": {\"13\": 79, \"8\": 22, \"2\": 35, \"10\": 24, \"15\": 47, \"1\": 14, \"0\": 5, \"5\": 11, \"7\": 2, \"14\": 1}, \"12\": {\"4\": 39, \"12\": 178, \"10\": 13, \"14\": 8, \"7\": 2}, \"2\": {\"2\": 136, \"13\": 32, \"10\": 13, \"15\": 22, \"14\": 31, \"11\": 4, \"0\": 1, \"8\": 1}, \"9\": {\"9\": 89, \"6\": 84, \"3\": 39, \"5\": 18, \"0\": 2, \"7\": 2, \"8\": 2, \"1\": 4}, \"15\": {\"15\": 91, \"1\": 40, \"8\": 27, \"13\": 40, \"7\": 2, \"2\": 4, \"5\": 12, \"10\": 16, \"0\": 5, \"9\": 2, \"6\": 1}, \"5\": {\"15\": 14, \"8\": 49, \"6\": 23, \"1\": 21, \"5\": 55, \"7\": 24, \"9\": 11, \"3\": 8, \"0\": 21, \"13\": 10, \"10\": 4}, \"14\": {\"11\": 29, \"14\": 163, \"12\": 9, \"10\": 16, \"2\": 21, \"15\": 1, \"13\": 1}, \"0\": {\"15\": 5, \"8\": 43, \"3\": 19, \"7\": 64, \"0\": 49, \"9\": 4, \"5\": 24, \"6\": 8, \"10\": 15, \"14\": 1, \"13\": 2, \"12\": 2, \"1\": 4}, \"3\": {\"6\": 11, \"9\": 31, \"3\": 165, \"7\": 6, \"13\": 2, \"0\": 16, \"8\": 3, \"5\": 6}, \"1\": {\"6\": 11, \"1\": 126, \"5\": 25, \"15\": 47, \"10\": 3, \"8\": 9, \"7\": 1, \"13\": 12, \"9\": 2, \"0\": 4}, \"11\": {\"12\": 3, \"11\": 159, \"10\": 5, \"14\": 60, \"4\": 2, \"2\": 11}, \"7\": {\"15\": 5, \"7\": 87, \"0\": 62, \"8\": 28, \"10\": 6, \"12\": 2, \"9\": 8, \"5\": 29, \"3\": 9, \"6\": 2, \"1\": 2}, \"8\": {\"10\": 15, \"5\": 35, \"8\": 57, \"13\": 12, \"1\": 12, \"6\": 7, \"0\": 36, \"7\": 36, \"15\": 26, \"9\": 3, \"3\": 1}, \"4\": {\"4\": 164, \"12\": 68, \"10\": 6, \"7\": 1, \"5\": 1}, \"10\": {\"10\": 89, \"8\": 18, \"15\": 32, \"7\": 12, \"5\": 4, \"13\": 34, \"12\": 13, \"14\": 17, \"0\": 4, \"2\": 12, \"4\": 3, \"11\": 2}, \"6\": {\"6\": 110, \"9\": 67, \"0\": 6, \"8\": 5, \"5\": 28, \"1\": 16, \"3\": 7, \"15\": 1}}, \"O_26\": {\"10\": {\"10\": 45, \"1\": 21, \"6\": 21, \"7\": 14, \"14\": 31, \"8\": 23, \"0\": 26, \"2\": 7, \"4\": 24, \"15\": 14, \"5\": 6, \"13\": 2, \"9\": 6}, \"12\": {\"12\": 179, \"6\": 16, \"11\": 32, \"9\": 4, \"0\": 4, \"14\": 3, \"10\": 1, \"8\": 1}, \"1\": {\"14\": 27, \"10\": 26, \"3\": 12, \"8\": 19, \"0\": 29, \"6\": 11, \"4\": 34, \"2\": 3, \"1\": 48, \"7\": 19, \"5\": 3, \"15\": 2, \"13\": 1, \"9\": 6}, \"0\": {\"0\": 33, \"4\": 24, \"7\": 17, \"3\": 9, \"10\": 31, \"8\": 24, \"6\": 16, \"12\": 2, \"14\": 32, \"2\": 6, \"1\": 25, \"9\": 10, \"5\": 3, \"15\": 8}, \"15\": {\"15\": 44, \"5\": 16, \"8\": 19, \"4\": 13, \"7\": 22, \"6\": 28, \"10\": 17, \"13\": 21, \"0\": 5, \"9\": 21, \"3\": 9, \"2\": 20, \"14\": 2, \"1\": 3}, \"13\": {\"13\": 53, \"5\": 57, \"8\": 7, \"2\": 23, \"9\": 32, \"15\": 26, \"6\": 23, \"10\": 8, \"11\": 1, \"3\": 7, \"7\": 2, \"12\": 1}, \"8\": {\"0\": 20, \"9\": 15, \"8\": 22, \"6\": 26, \"5\": 9, \"15\": 20, \"10\": 25, \"1\": 10, \"4\": 21, \"2\": 8, \"3\": 14, \"7\": 24, \"14\": 20, \"13\": 6}, \"3\": {\"5\": 21, \"9\": 21, \"3\": 45, \"4\": 8, \"2\": 51, \"7\": 36, \"13\": 10, \"1\": 5, \"8\": 10, \"14\": 5, \"6\": 4, \"15\": 12, \"0\": 6, \"10\": 6}, \"11\": {\"11\": 194, \"12\": 27, \"13\": 8, \"6\": 6, \"5\": 3, \"8\": 1, \"14\": 1}, \"4\": {\"9\": 9, \"4\": 45, \"0\": 31, \"14\": 30, \"7\": 21, \"8\": 28, \"10\": 21, \"1\": 23, \"6\": 8, \"2\": 8, \"15\": 12, \"3\": 2, \"5\": 2}, \"6\": {\"12\": 8, \"15\": 17, \"4\": 15, \"6\": 49, \"5\": 12, \"10\": 15, \"0\": 16, \"8\": 25, \"7\": 10, \"9\": 24, \"13\": 18, \"14\": 12, \"1\": 8, \"2\": 7, \"3\": 4}, \"7\": {\"7\": 29, \"1\": 16, \"4\": 28, \"3\": 29, \"0\": 10, \"2\": 19, \"6\": 8, \"9\": 25, \"15\": 17, \"14\": 16, \"8\": 17, \"5\": 12, \"10\": 9, \"13\": 5}, \"14\": {\"1\": 39, \"8\": 18, \"7\": 18, \"10\": 32, \"3\": 7, \"6\": 17, \"14\": 38, \"0\": 28, \"4\": 27, \"5\": 3, \"13\": 1, \"2\": 2, \"15\": 5, \"9\": 5}, \"2\": {\"3\": 47, \"9\": 20, \"15\": 19, \"7\": 28, \"0\": 3, \"2\": 53, \"6\": 10, \"5\": 23, \"4\": 5, \"13\": 12, \"8\": 12, \"14\": 2, \"1\": 2, \"10\": 4}, \"5\": {\"15\": 32, \"5\": 38, \"7\": 14, \"4\": 4, \"13\": 38, \"6\": 14, \"2\": 37, \"9\": 21, \"3\": 14, \"10\": 2, \"14\": 6, \"8\": 15, \"1\": 3, \"0\": 2}, \"9\": {\"4\": 11, \"0\": 10, \"9\": 54, \"5\": 20, \"6\": 19, \"8\": 22, \"13\": 18, \"2\": 19, \"3\": 17, \"7\": 9, \"15\": 16, \"14\": 9, \"10\": 7, \"1\": 8, \"12\": 1}}, \"O_20\": {\"5\": {\"12\": 27, \"5\": 32, \"0\": 25, \"9\": 18, \"2\": 9, \"3\": 24, \"6\": 2, \"8\": 10, \"15\": 18, \"1\": 32, \"4\": 14, \"10\": 6, \"7\": 11, \"13\": 9, \"14\": 3}, \"15\": {\"0\": 29, \"15\": 46, \"12\": 13, \"2\": 11, \"1\": 40, \"3\": 12, \"9\": 28, \"13\": 19, \"5\": 25, \"14\": 3, \"7\": 10, \"10\": 2, \"4\": 2}, \"9\": {\"0\": 16, \"15\": 12, \"11\": 2, \"4\": 10, \"6\": 11, \"3\": 33, \"13\": 14, \"10\": 4, \"9\": 25, \"7\": 26, \"5\": 13, \"12\": 21, \"1\": 20, \"2\": 21, \"8\": 8, \"14\": 4}, \"7\": {\"13\": 16, \"6\": 18, \"7\": 35, \"9\": 29, \"3\": 21, \"10\": 12, \"0\": 4, \"2\": 20, \"12\": 19, \"1\": 14, \"5\": 12, \"8\": 14, \"11\": 3, \"14\": 9, \"4\": 7, \"15\": 7}, \"3\": {\"13\": 9, \"9\": 17, \"8\": 16, \"0\": 12, \"3\": 22, \"10\": 17, \"4\": 14, \"5\": 23, \"11\": 2, \"6\": 7, \"12\": 26, \"2\": 21, \"1\": 17, \"7\": 20, \"14\": 6, \"15\": 11}, \"8\": {\"12\": 18, \"4\": 30, \"7\": 28, \"8\": 40, \"14\": 31, \"10\": 24, \"9\": 14, \"6\": 16, \"5\": 6, \"1\": 5, \"0\": 3, \"2\": 6, \"3\": 17, \"13\": 2}, \"4\": {\"12\": 16, \"10\": 27, \"4\": 54, \"5\": 13, \"6\": 7, \"8\": 27, \"0\": 13, \"3\": 18, \"7\": 16, \"2\": 7, \"15\": 2, \"9\": 10, \"14\": 16, \"13\": 2, \"1\": 12}, \"6\": {\"12\": 6, \"2\": 6, \"8\": 30, \"9\": 7, \"6\": 70, \"7\": 28, \"10\": 26, \"14\": 39, \"5\": 4, \"3\": 5, \"0\": 2, \"11\": 6, \"4\": 8, \"1\": 1, \"13\": 2}, \"2\": {\"3\": 20, \"13\": 31, \"9\": 29, \"7\": 26, \"5\": 15, \"2\": 30, \"0\": 10, \"12\": 28, \"6\": 11, \"1\": 18, \"8\": 6, \"4\": 3, \"11\": 3, \"15\": 6, \"14\": 4}, \"12\": {\"1\": 28, \"13\": 9, \"12\": 27, \"5\": 29, \"6\": 4, \"0\": 18, \"9\": 26, \"15\": 16, \"8\": 12, \"3\": 21, \"7\": 15, \"2\": 22, \"10\": 5, \"4\": 5, \"14\": 2, \"11\": 1}, \"0\": {\"12\": 34, \"0\": 43, \"7\": 8, \"4\": 16, \"9\": 16, \"5\": 30, \"15\": 25, \"8\": 11, \"1\": 27, \"3\": 19, \"2\": 5, \"10\": 1, \"14\": 3, \"13\": 2}, \"13\": {\"9\": 26, \"13\": 65, \"7\": 24, \"2\": 27, \"0\": 17, \"5\": 9, \"1\": 18, \"12\": 7, \"3\": 15, \"6\": 3, \"8\": 1, \"11\": 5, \"15\": 17, \"4\": 4, \"10\": 2}, \"10\": {\"4\": 43, \"13\": 1, \"6\": 22, \"10\": 56, \"3\": 12, \"14\": 35, \"12\": 6, \"9\": 5, \"1\": 8, \"7\": 11, \"8\": 30, \"5\": 4, \"2\": 4, \"0\": 2, \"11\": 1}, \"11\": {\"13\": 19, \"11\": 163, \"2\": 9, \"6\": 14, \"8\": 4, \"3\": 4, \"7\": 14, \"5\": 2, \"9\": 6, \"0\": 1, \"14\": 2, \"12\": 1, \"10\": 1}, \"14\": {\"14\": 61, \"6\": 45, \"10\": 35, \"8\": 39, \"7\": 22, \"3\": 4, \"15\": 1, \"4\": 15, \"2\": 7, \"9\": 3, \"5\": 1, \"0\": 2, \"12\": 2, \"13\": 2, \"11\": 1}, \"1\": {\"3\": 24, \"7\": 11, \"12\": 15, \"0\": 27, \"5\": 36, \"10\": 5, \"15\": 33, \"9\": 17, \"1\": 38, \"8\": 6, \"14\": 5, \"13\": 7, \"2\": 12, \"4\": 4}}, \"O_50\": {\"1\": {\"2\": 4, \"1\": 65, \"15\": 52, \"4\": 38, \"6\": 39, \"11\": 12, \"0\": 5, \"14\": 3, \"13\": 15, \"5\": 7}, \"2\": {\"2\": 142, \"0\": 67, \"6\": 5, \"1\": 8, \"14\": 12, \"13\": 1, \"15\": 2, \"10\": 2, \"11\": 1}, \"8\": {\"8\": 156, \"3\": 25, \"0\": 5, \"10\": 44, \"13\": 3, \"5\": 2, \"7\": 4, \"2\": 1}, \"7\": {\"0\": 4, \"5\": 41, \"7\": 97, \"13\": 58, \"10\": 17, \"8\": 5, \"6\": 13, \"4\": 4, \"1\": 1}, \"14\": {\"14\": 124, \"9\": 22, \"2\": 12, \"11\": 37, \"12\": 35, \"1\": 7, \"15\": 3}, \"6\": {\"13\": 35, \"1\": 31, \"5\": 27, \"6\": 60, \"11\": 1, \"0\": 10, \"4\": 33, \"7\": 16, \"15\": 19, \"10\": 5, \"2\": 2, \"14\": 1}, \"3\": {\"8\": 33, \"3\": 205, \"10\": 1, \"7\": 1}, \"4\": {\"15\": 29, \"4\": 55, \"5\": 22, \"6\": 38, \"7\": 10, \"1\": 44, \"0\": 4, \"13\": 19, \"11\": 7, \"14\": 2, \"12\": 1, \"2\": 2, \"10\": 5, \"9\": 2}, \"12\": {\"12\": 121, \"11\": 15, \"9\": 61, \"14\": 42, \"2\": 1}, \"15\": {\"15\": 81, \"1\": 57, \"6\": 26, \"5\": 4, \"11\": 18, \"4\": 46, \"13\": 3, \"14\": 2, \"7\": 1, \"9\": 1, \"2\": 1}, \"11\": {\"15\": 26, \"11\": 101, \"14\": 34, \"12\": 15, \"9\": 42, \"1\": 14, \"4\": 6, \"0\": 1, \"6\": 1}, \"0\": {\"0\": 118, \"2\": 50, \"10\": 33, \"6\": 8, \"7\": 3, \"5\": 7, \"1\": 7, \"13\": 9, \"4\": 2, \"8\": 2, \"15\": 1}, \"9\": {\"9\": 106, \"11\": 49, \"14\": 30, \"12\": 53, \"15\": 2}, \"10\": {\"10\": 82, \"5\": 22, \"0\": 33, \"8\": 31, \"6\": 4, \"13\": 21, \"7\": 36, \"2\": 7, \"4\": 4}, \"5\": {\"13\": 64, \"1\": 13, \"7\": 49, \"0\": 7, \"10\": 12, \"6\": 20, \"5\": 44, \"4\": 22, \"2\": 1, \"8\": 3, \"15\": 3, \"11\": 1, \"3\": 1}, \"13\": {\"10\": 21, \"5\": 53, \"7\": 43, \"0\": 10, \"13\": 59, \"6\": 27, \"4\": 14, \"1\": 11, \"8\": 1, \"15\": 1}}, \"O_32\": {\"2\": {\"11\": 2, \"0\": 52, \"7\": 17, \"2\": 84, \"8\": 13, \"4\": 46, \"14\": 7, \"13\": 7, \"5\": 11, \"9\": 1}, \"6\": {\"9\": 1, \"6\": 230, \"12\": 9}, \"5\": {\"7\": 27, \"5\": 39, \"4\": 26, \"13\": 28, \"14\": 20, \"8\": 28, \"3\": 23, \"11\": 16, \"2\": 17, \"0\": 16}, \"12\": {\"9\": 30, \"12\": 197, \"6\": 13}, \"13\": {\"5\": 28, \"3\": 31, \"11\": 5, \"13\": 44, \"14\": 22, \"7\": 26, \"0\": 30, \"4\": 11, \"8\": 31, \"2\": 11, \"15\": 1}, \"9\": {\"9\": 203, \"12\": 32, \"0\": 1, \"4\": 2, \"2\": 2}, \"11\": {\"13\": 13, \"11\": 71, \"7\": 35, \"3\": 27, \"14\": 69, \"0\": 3, \"5\": 10, \"8\": 4, \"4\": 7, \"2\": 1}, \"1\": {\"1\": 204, \"10\": 36}, \"3\": {\"11\": 25, \"3\": 112, \"5\": 32, \"14\": 16, \"13\": 23, \"7\": 13, \"8\": 15, \"4\": 2, \"15\": 2}, \"7\": {\"11\": 22, \"7\": 46, \"4\": 17, \"2\": 20, \"14\": 29, \"5\": 37, \"0\": 24, \"13\": 22, \"8\": 14, \"3\": 9}, \"14\": {\"13\": 19, \"11\": 60, \"7\": 32, \"4\": 11, \"14\": 44, \"3\": 17, \"5\": 26, \"0\": 16, \"2\": 11, \"8\": 4}, \"8\": {\"13\": 37, \"15\": 10, \"4\": 25, \"0\": 40, \"5\": 30, \"8\": 58, \"7\": 14, \"3\": 4, \"2\": 13, \"11\": 2, \"14\": 7}, \"4\": {\"5\": 33, \"7\": 22, \"2\": 41, \"4\": 46, \"13\": 19, \"8\": 18, \"0\": 48, \"11\": 3, \"14\": 10}, \"0\": {\"13\": 19, \"14\": 7, \"5\": 12, \"8\": 27, \"4\": 37, \"0\": 68, \"2\": 43, \"7\": 21, \"3\": 3, \"15\": 3}, \"10\": {\"10\": 212, \"1\": 26, \"6\": 2}, \"15\": {\"8\": 21, \"15\": 187, \"4\": 2, \"13\": 10, \"5\": 10, \"3\": 7, \"14\": 1, \"0\": 2}}, \"O_44\": {\"13\": {\"13\": 88, \"6\": 49, \"11\": 35, \"9\": 33, \"7\": 13, \"15\": 1, \"4\": 15, \"2\": 4, \"14\": 2}, \"4\": {\"5\": 14, \"14\": 77, \"15\": 27, \"4\": 100, \"13\": 13, \"9\": 3, \"8\": 1, \"11\": 1, \"0\": 2, \"7\": 1, \"6\": 1}, \"6\": {\"11\": 26, \"7\": 27, \"13\": 53, \"9\": 42, \"6\": 81, \"2\": 8, \"4\": 2, \"10\": 1}, \"0\": {\"8\": 58, \"15\": 52, \"0\": 74, \"5\": 45, \"14\": 8, \"4\": 3}, \"10\": {\"12\": 47, \"3\": 11, \"1\": 43, \"10\": 95, \"2\": 34, \"7\": 8, \"9\": 2}, \"7\": {\"2\": 55, \"9\": 51, \"7\": 76, \"6\": 25, \"3\": 6, \"1\": 8, \"11\": 4, \"13\": 13, \"10\": 2}, \"14\": {\"14\": 90, \"4\": 54, \"15\": 47, \"13\": 3, \"5\": 27, \"0\": 12, \"9\": 3, \"8\": 3, \"7\": 1}, \"15\": {\"15\": 88, \"8\": 34, \"0\": 39, \"5\": 23, \"14\": 39, \"4\": 17}, \"5\": {\"0\": 44, \"5\": 93, \"15\": 23, \"14\": 28, \"4\": 18, \"8\": 33, \"9\": 1}, \"2\": {\"2\": 81, \"3\": 11, \"7\": 44, \"1\": 29, \"9\": 22, \"10\": 34, \"6\": 6, \"12\": 10, \"13\": 2, \"11\": 1}, \"9\": {\"7\": 54, \"2\": 18, \"9\": 73, \"11\": 7, \"6\": 35, \"3\": 6, \"10\": 3, \"13\": 33, \"4\": 8, \"1\": 2, \"14\": 1}, \"12\": {\"1\": 43, \"3\": 24, \"12\": 104, \"10\": 58, \"7\": 3, \"2\": 8}, \"8\": {\"8\": 85, \"0\": 85, \"15\": 37, \"14\": 6, \"5\": 23, \"4\": 4}, \"3\": {\"3\": 101, \"12\": 31, \"1\": 62, \"9\": 4, \"7\": 18, \"2\": 10, \"10\": 14}, \"1\": {\"3\": 46, \"12\": 53, \"2\": 23, \"1\": 53, \"10\": 53, \"6\": 1, \"9\": 4, \"7\": 7}, \"11\": {\"9\": 8, \"11\": 125, \"13\": 56, \"6\": 45, \"7\": 3, \"4\": 3}}, \"O_14\": {\"1\": {\"1\": 81, \"5\": 56, \"2\": 17, \"4\": 33, \"8\": 20, \"10\": 2, \"15\": 6, \"7\": 6, \"3\": 10, \"14\": 2, \"13\": 3, \"6\": 4}, \"15\": {\"15\": 128, \"1\": 8, \"7\": 92, \"2\": 2, \"13\": 3, \"5\": 6, \"6\": 1}, \"10\": {\"10\": 85, \"13\": 6, \"0\": 71, \"11\": 37, \"14\": 14, \"3\": 16, \"6\": 2, \"9\": 3, \"4\": 3, \"2\": 3}, \"2\": {\"13\": 22, \"14\": 28, \"11\": 1, \"6\": 28, \"3\": 21, \"2\": 51, \"0\": 7, \"4\": 26, \"5\": 23, \"1\": 15, \"10\": 5, \"7\": 9, \"15\": 4}, \"9\": {\"9\": 123, \"12\": 40, \"8\": 3, \"11\": 27, \"0\": 25, \"10\": 21, \"3\": 1}, \"5\": {\"5\": 48, \"6\": 12, \"1\": 61, \"4\": 31, \"3\": 17, \"2\": 29, \"15\": 4, \"7\": 12, \"14\": 6, \"13\": 17, \"8\": 3}, \"7\": {\"5\": 11, \"7\": 106, \"1\": 20, \"15\": 100, \"2\": 1, \"3\": 1, \"4\": 1}, \"13\": {\"13\": 65, \"6\": 58, \"4\": 12, \"14\": 37, \"10\": 4, \"3\": 6, \"5\": 13, \"0\": 10, \"2\": 34, \"15\": 1}, \"8\": {\"8\": 142, \"5\": 11, \"1\": 22, \"9\": 9, \"2\": 2, \"0\": 13, \"3\": 19, \"4\": 18, \"10\": 4}, \"6\": {\"3\": 18, \"6\": 61, \"11\": 1, \"13\": 45, \"1\": 3, \"10\": 5, \"14\": 42, \"5\": 10, \"15\": 2, \"0\": 2, \"4\": 13, \"2\": 37, \"7\": 1}, \"3\": {\"0\": 34, \"4\": 33, \"11\": 4, \"14\": 20, \"2\": 32, \"3\": 47, \"6\": 14, \"10\": 19, \"13\": 9, \"1\": 15, \"5\": 10, \"8\": 3}, \"12\": {\"10\": 2, \"12\": 161, \"9\": 62, \"11\": 14, \"0\": 1}, \"0\": {\"4\": 8, \"10\": 61, \"0\": 68, \"3\": 22, \"13\": 3, \"11\": 37, \"9\": 17, \"14\": 14, \"1\": 1, \"8\": 2, \"6\": 2, \"2\": 4, \"5\": 1}, \"4\": {\"6\": 13, \"1\": 27, \"15\": 4, \"5\": 35, \"2\": 30, \"4\": 51, \"13\": 20, \"14\": 8, \"3\": 35, \"0\": 7, \"8\": 6, \"10\": 2, \"7\": 2}, \"14\": {\"3\": 25, \"13\": 26, \"0\": 16, \"14\": 68, \"6\": 52, \"2\": 19, \"10\": 10, \"4\": 19, \"5\": 2, \"11\": 3}, \"11\": {\"9\": 26, \"11\": 122, \"10\": 36, \"0\": 41, \"14\": 4, \"12\": 10, \"6\": 1}}}, \"per_domain_accuracy\": {\"C_2\": {\"accuracy\": 0.9984019886363636, \"source?\": true}, \"C_5\": {\"accuracy\": 0.9966643258426966, \"source?\": true}, \"C_1\": {\"accuracy\": 0.9979395604395604, \"source?\": true}, \"C_4\": {\"accuracy\": 0.9975673652694611, \"source?\": true}, \"C_3\": {\"accuracy\": 0.9985380116959064, \"source?\": true}, \"O_8\": {\"accuracy\": 0.3140625, \"source?\": false}, \"O_38\": {\"accuracy\": 0.46796875, \"source?\": false}, \"O_26\": {\"accuracy\": 0.25234375, \"source?\": false}, \"O_20\": {\"accuracy\": 0.21015625, \"source?\": false}, \"O_50\": {\"accuracy\": 0.42083333333333334, \"source?\": false}, \"O_32\": {\"accuracy\": 0.48046875, \"source?\": false}, \"O_44\": {\"accuracy\": 0.36640625, \"source?\": false}, \"O_14\": {\"accuracy\": 0.36640625, \"source?\": false}}}, \"history\": {\"epoch_indices\": [1, 2, 3, 4, 5], \"train_label_loss\": [0.032626647827197486, 0.00908587092743959, 0.006369031544314553, 0.0046358198003763375, 0.004548694645675156], \"source_val_label_loss\": [0.010401148349046707, 0.012303919531404972, 0.00801599770784378, 0.007732917554676533, 0.009383688680827618], \"target_val_label_loss\": [1.8829110860824585, 3.27199387550354, 2.7854814529418945, 2.6659700870513916, 3.1088807582855225], \"source_val_acc_label\": [0.9978189359267735, 0.9979619565217391, 0.9991061212814645, 0.9993564073226545, 0.9992133867276888], \"target_val_acc_label\": [0.35983072916666664, 0.24918619791666666, 0.30026041666666664, 0.30771484375, 0.2921223958333333]}, \"dataset_metrics\": {\"source\": {\"train\": {\"n_unique_x\": 175213, \"n_unique_y\": 58, \"n_batch/episode\": 6329}, \"val\": {\"n_unique_x\": 37135, \"n_unique_y\": 58, \"n_batch/episode\": 874}, \"test\": {\"n_unique_x\": 37673, \"n_unique_y\": 58, \"n_batch/episode\": 893}}, \"target\": {\"train\": {\"n_unique_x\": 179200, \"n_unique_y\": 16, \"n_batch/episode\": 6720}, \"val\": {\"n_unique_x\": 38400, \"n_unique_y\": 16, \"n_batch/episode\": 960}, \"test\": {\"n_unique_x\": 38400, \"n_unique_y\": 16, \"n_batch/episode\": 960}}}}'"
      ]
     },
     "execution_count": 29,
     "metadata": {},
     "output_type": "execute_result"
    }
   ],
   "source": [
    "json.dumps(experiment)"
   ]
  }
 ],
 "metadata": {
  "celltoolbar": "Tags",
  "kernelspec": {
   "display_name": "Python 3 (ipykernel)",
   "language": "python",
   "name": "python3"
  },
  "language_info": {
   "codemirror_mode": {
    "name": "ipython",
    "version": 3
   },
   "file_extension": ".py",
   "mimetype": "text/x-python",
   "name": "python",
   "nbconvert_exporter": "python",
   "pygments_lexer": "ipython3",
   "version": "3.8.10"
  },
  "papermill": {
   "default_parameters": {},
   "duration": 923.959873,
   "end_time": "2022-03-25T04:22:51.786526",
   "environment_variables": {},
   "exception": null,
   "input_path": "/mnt/wd500GB/CSC500/csc500-main/csc500-notebooks/templates/tl_ptn_template.ipynb",
   "output_path": "trial.ipynb",
   "parameters": {
    "parameters": {
     "BEST_MODEL_PATH": "./best_model.pth",
     "NUM_LOGS_PER_EPOCH": 10,
     "criteria_for_best": "target_accuracy",
     "dataset_seed": 154325,
     "datasets": [
      {
       "domain_prefix": "C_",
       "domains": [
        1,
        2,
        3,
        4,
        5
       ],
       "episode_transforms": [],
       "labels": [
        "1-10.",
        "1-11.",
        "1-15.",
        "1-16.",
        "1-17.",
        "1-18.",
        "1-19.",
        "10-4.",
        "10-7.",
        "11-1.",
        "11-14.",
        "11-17.",
        "11-20.",
        "11-7.",
        "13-20.",
        "13-8.",
        "14-10.",
        "14-11.",
        "14-14.",
        "14-7.",
        "15-1.",
        "15-20.",
        "16-1.",
        "16-16.",
        "17-10.",
        "17-11.",
        "17-2.",
        "19-1.",
        "19-16.",
        "19-19.",
        "19-20.",
        "19-3.",
        "2-10.",
        "2-11.",
        "2-17.",
        "2-18.",
        "2-20.",
        "2-3.",
        "2-4.",
        "2-5.",
        "2-6.",
        "2-7.",
        "2-8.",
        "3-13.",
        "3-18.",
        "3-3.",
        "4-1.",
        "4-10.",
        "4-11.",
        "4-19.",
        "5-5.",
        "6-15.",
        "7-10.",
        "7-14.",
        "8-18.",
        "8-20.",
        "8-3.",
        "8-8."
       ],
       "num_examples_per_domain_per_label": -1,
       "pickle_path": "/mnt/wd500GB/CSC500/csc500-main/datasets/cores.stratified_ds.2022A.pkl",
       "source_or_target_dataset": "source",
       "x_transforms": [
        "unit_power",
        "take_200"
       ]
      },
      {
       "domain_prefix": "O_",
       "domains": [
        32,
        38,
        8,
        44,
        14,
        50,
        20,
        26
       ],
       "episode_transforms": [],
       "labels": [
        "3123D52",
        "3123D65",
        "3123D79",
        "3123D80",
        "3123D54",
        "3123D70",
        "3123D7B",
        "3123D89",
        "3123D58",
        "3123D76",
        "3123D7D",
        "3123EFE",
        "3123D64",
        "3123D78",
        "3123D7E",
        "3124E4A"
       ],
       "num_examples_per_domain_per_label": 2000,
       "pickle_path": "/mnt/wd500GB/CSC500/csc500-main/datasets/oracle.Run1_framed_2000Examples_stratified_ds.2022A.pkl",
       "source_or_target_dataset": "target",
       "x_transforms": [
        "unit_power",
        "take_200",
        "resample_20Msps_to_25Msps"
       ]
      }
     ],
     "device": "cuda",
     "experiment_name": "tl_3Av2:cores -> oracle.run1.framed",
     "lr": 0.0001,
     "n_epoch": 50,
     "n_query": 2,
     "n_shot": 3,
     "n_way": 16,
     "patience": 3,
     "seed": 154325,
     "test_k_factor": 2,
     "torch_default_dtype": "torch.float32",
     "train_k_factor": 3,
     "val_k_factor": 2,
     "x_net": [
      {
       "class": "nnReshape",
       "kargs": {
        "shape": [
         -1,
         1,
         2,
         200
        ]
       }
      },
      {
       "class": "Conv2d",
       "kargs": {
        "bias": false,
        "in_channels": 1,
        "kernel_size": [
         1,
         7
        ],
        "out_channels": 256,
        "padding": [
         0,
         3
        ]
       }
      },
      {
       "class": "ReLU",
       "kargs": {
        "inplace": true
       }
      },
      {
       "class": "BatchNorm2d",
       "kargs": {
        "num_features": 256
       }
      },
      {
       "class": "Conv2d",
       "kargs": {
        "bias": true,
        "in_channels": 256,
        "kernel_size": [
         2,
         7
        ],
        "out_channels": 80,
        "padding": [
         0,
         3
        ]
       }
      },
      {
       "class": "ReLU",
       "kargs": {
        "inplace": true
       }
      },
      {
       "class": "BatchNorm2d",
       "kargs": {
        "num_features": 80
       }
      },
      {
       "class": "Flatten",
       "kargs": {}
      },
      {
       "class": "Linear",
       "kargs": {
        "in_features": 16000,
        "out_features": 256
       }
      },
      {
       "class": "ReLU",
       "kargs": {
        "inplace": true
       }
      },
      {
       "class": "BatchNorm1d",
       "kargs": {
        "num_features": 256
       }
      },
      {
       "class": "Linear",
       "kargs": {
        "in_features": 256,
        "out_features": 256
       }
      }
     ],
     "x_shape": [
      2,
      200
     ]
    }
   },
   "start_time": "2022-03-25T04:07:27.826653",
   "version": "2.3.4"
  }
 },
 "nbformat": 4,
 "nbformat_minor": 5
}