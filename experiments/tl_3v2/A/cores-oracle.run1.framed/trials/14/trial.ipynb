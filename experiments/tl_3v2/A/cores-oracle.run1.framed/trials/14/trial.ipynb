{
 "cells": [
  {
   "cell_type": "markdown",
   "id": "9fea5f46",
   "metadata": {
    "papermill": {
     "duration": 0.017407,
     "end_time": "2022-03-25T07:11:27.303567",
     "exception": false,
     "start_time": "2022-03-25T07:11:27.286160",
     "status": "completed"
    },
    "tags": []
   },
   "source": [
    "# Transfer Learning Template"
   ]
  },
  {
   "cell_type": "code",
   "execution_count": 1,
   "id": "0902182a",
   "metadata": {
    "execution": {
     "iopub.execute_input": "2022-03-25T07:11:27.349828Z",
     "iopub.status.busy": "2022-03-25T07:11:27.349508Z",
     "iopub.status.idle": "2022-03-25T07:11:28.277567Z",
     "shell.execute_reply": "2022-03-25T07:11:28.277791Z"
    },
    "papermill": {
     "duration": 0.960822,
     "end_time": "2022-03-25T07:11:28.277916",
     "exception": false,
     "start_time": "2022-03-25T07:11:27.317094",
     "status": "completed"
    },
    "tags": []
   },
   "outputs": [],
   "source": [
    "%load_ext autoreload\n",
    "%autoreload 2\n",
    "%matplotlib inline\n",
    "\n",
    "    \n",
    "import os, json, sys, time, random\n",
    "import numpy as np\n",
    "import torch\n",
    "from torch.optim import Adam\n",
    "from  easydict import EasyDict\n",
    "import matplotlib.pyplot as plt\n",
    "\n",
    "from steves_models.steves_ptn import Steves_Prototypical_Network\n",
    "\n",
    "from steves_utils.lazy_iterable_wrapper import Lazy_Iterable_Wrapper\n",
    "from steves_utils.iterable_aggregator import Iterable_Aggregator\n",
    "from steves_utils.ptn_train_eval_test_jig import  PTN_Train_Eval_Test_Jig\n",
    "from steves_utils.torch_sequential_builder import build_sequential\n",
    "from steves_utils.torch_utils import get_dataset_metrics, ptn_confusion_by_domain_over_dataloader\n",
    "from steves_utils.utils_v2 import (per_domain_accuracy_from_confusion, get_datasets_base_path)\n",
    "from steves_utils.PTN.utils import independent_accuracy_assesment\n",
    "\n",
    "from torch.utils.data import DataLoader\n",
    "\n",
    "from steves_utils.stratified_dataset.episodic_accessor import Episodic_Accessor_Factory\n",
    "\n",
    "from steves_utils.ptn_do_report import (\n",
    "    get_loss_curve,\n",
    "    get_results_table,\n",
    "    get_parameters_table,\n",
    "    get_domain_accuracies,\n",
    ")\n",
    "\n",
    "from steves_utils.transforms import get_chained_transform"
   ]
  },
  {
   "cell_type": "markdown",
   "id": "41c840b4",
   "metadata": {
    "papermill": {
     "duration": 0.012401,
     "end_time": "2022-03-25T07:11:28.303499",
     "exception": false,
     "start_time": "2022-03-25T07:11:28.291098",
     "status": "completed"
    },
    "tags": []
   },
   "source": [
    "# Allowed Parameters\n",
    "These are allowed parameters, not defaults\n",
    "Each of these values need to be present in the injected parameters (the notebook will raise an exception if they are not present)\n",
    "\n",
    "Papermill uses the cell tag \"parameters\" to inject the real parameters below this cell.\n",
    "Enable tags to see what I mean"
   ]
  },
  {
   "cell_type": "code",
   "execution_count": 2,
   "id": "fd44eb83",
   "metadata": {
    "execution": {
     "iopub.execute_input": "2022-03-25T07:11:28.330796Z",
     "iopub.status.busy": "2022-03-25T07:11:28.330376Z",
     "iopub.status.idle": "2022-03-25T07:11:28.342327Z",
     "shell.execute_reply": "2022-03-25T07:11:28.342550Z"
    },
    "papermill": {
     "duration": 0.026622,
     "end_time": "2022-03-25T07:11:28.342623",
     "exception": false,
     "start_time": "2022-03-25T07:11:28.316001",
     "status": "completed"
    },
    "tags": []
   },
   "outputs": [],
   "source": [
    "required_parameters = {\n",
    "    \"experiment_name\",\n",
    "    \"lr\",\n",
    "    \"device\",\n",
    "    \"seed\",\n",
    "    \"dataset_seed\",\n",
    "    \"n_shot\",\n",
    "    \"n_query\",\n",
    "    \"n_way\",\n",
    "    \"train_k_factor\",\n",
    "    \"val_k_factor\",\n",
    "    \"test_k_factor\",\n",
    "    \"n_epoch\",\n",
    "    \"patience\",\n",
    "    \"criteria_for_best\",\n",
    "    \"x_net\",\n",
    "    \"datasets\",\n",
    "    \"torch_default_dtype\",\n",
    "    \"NUM_LOGS_PER_EPOCH\",\n",
    "    \"BEST_MODEL_PATH\",\n",
    "    \"x_shape\",\n",
    "}"
   ]
  },
  {
   "cell_type": "code",
   "execution_count": 3,
   "id": "fa3f0049",
   "metadata": {
    "execution": {
     "iopub.execute_input": "2022-03-25T07:11:28.387780Z",
     "iopub.status.busy": "2022-03-25T07:11:28.387496Z",
     "iopub.status.idle": "2022-03-25T07:11:28.400494Z",
     "shell.execute_reply": "2022-03-25T07:11:28.400814Z"
    },
    "papermill": {
     "duration": 0.042549,
     "end_time": "2022-03-25T07:11:28.400916",
     "exception": false,
     "start_time": "2022-03-25T07:11:28.358367",
     "status": "completed"
    },
    "tags": [
     "parameters"
    ]
   },
   "outputs": [],
   "source": [
    "from steves_utils.CORES.utils import (\n",
    "    ALL_NODES,\n",
    "    ALL_NODES_MINIMUM_1000_EXAMPLES,\n",
    "    ALL_DAYS\n",
    ")\n",
    "\n",
    "from steves_utils.ORACLE.utils_v2 import (\n",
    "    ALL_DISTANCES_FEET_NARROWED,\n",
    "    ALL_RUNS,\n",
    "    ALL_SERIAL_NUMBERS,\n",
    ")\n",
    "\n",
    "standalone_parameters = {}\n",
    "standalone_parameters[\"experiment_name\"] = \"STANDALONE PTN\"\n",
    "standalone_parameters[\"lr\"] = 0.001\n",
    "standalone_parameters[\"device\"] = \"cuda\"\n",
    "\n",
    "standalone_parameters[\"seed\"] = 1337\n",
    "standalone_parameters[\"dataset_seed\"] = 1337\n",
    "\n",
    "standalone_parameters[\"n_way\"] = 8\n",
    "standalone_parameters[\"n_shot\"] = 3\n",
    "standalone_parameters[\"n_query\"]  = 2\n",
    "standalone_parameters[\"train_k_factor\"] = 1\n",
    "standalone_parameters[\"val_k_factor\"] = 2\n",
    "standalone_parameters[\"test_k_factor\"] = 2\n",
    "\n",
    "\n",
    "standalone_parameters[\"n_epoch\"] = 50\n",
    "\n",
    "standalone_parameters[\"patience\"] = 10\n",
    "standalone_parameters[\"criteria_for_best\"] = \"source_loss\"\n",
    "\n",
    "standalone_parameters[\"datasets\"] = [\n",
    "    {\n",
    "        \"labels\": ALL_SERIAL_NUMBERS,\n",
    "        \"domains\": ALL_DISTANCES_FEET_NARROWED,\n",
    "        \"num_examples_per_domain_per_label\": 100,\n",
    "        \"pickle_path\": os.path.join(get_datasets_base_path(), \"oracle.Run1_framed_2000Examples_stratified_ds.2022A.pkl\"),\n",
    "        \"source_or_target_dataset\": \"source\",\n",
    "        \"x_transforms\": [\"unit_mag\", \"minus_two\"],\n",
    "        \"episode_transforms\": [],\n",
    "        \"domain_prefix\": \"ORACLE_\"\n",
    "    },\n",
    "    {\n",
    "        \"labels\": ALL_NODES,\n",
    "        \"domains\": ALL_DAYS,\n",
    "        \"num_examples_per_domain_per_label\": 100,\n",
    "        \"pickle_path\": os.path.join(get_datasets_base_path(), \"cores.stratified_ds.2022A.pkl\"),\n",
    "        \"source_or_target_dataset\": \"target\",\n",
    "        \"x_transforms\": [\"unit_power\", \"times_zero\"],\n",
    "        \"episode_transforms\": [],\n",
    "        \"domain_prefix\": \"CORES_\"\n",
    "    }   \n",
    "]\n",
    "\n",
    "standalone_parameters[\"torch_default_dtype\"] = \"torch.float32\" \n",
    "\n",
    "\n",
    "\n",
    "standalone_parameters[\"x_net\"] =     [\n",
    "    {\"class\": \"nnReshape\", \"kargs\": {\"shape\":[-1, 1, 2, 256]}},\n",
    "    {\"class\": \"Conv2d\", \"kargs\": { \"in_channels\":1, \"out_channels\":256, \"kernel_size\":(1,7), \"bias\":False, \"padding\":(0,3), },},\n",
    "    {\"class\": \"ReLU\", \"kargs\": {\"inplace\": True}},\n",
    "    {\"class\": \"BatchNorm2d\", \"kargs\": {\"num_features\":256}},\n",
    "\n",
    "    {\"class\": \"Conv2d\", \"kargs\": { \"in_channels\":256, \"out_channels\":80, \"kernel_size\":(2,7), \"bias\":True, \"padding\":(0,3), },},\n",
    "    {\"class\": \"ReLU\", \"kargs\": {\"inplace\": True}},\n",
    "    {\"class\": \"BatchNorm2d\", \"kargs\": {\"num_features\":80}},\n",
    "    {\"class\": \"Flatten\", \"kargs\": {}},\n",
    "\n",
    "    {\"class\": \"Linear\", \"kargs\": {\"in_features\": 80*256, \"out_features\": 256}}, # 80 units per IQ pair\n",
    "    {\"class\": \"ReLU\", \"kargs\": {\"inplace\": True}},\n",
    "    {\"class\": \"BatchNorm1d\", \"kargs\": {\"num_features\":256}},\n",
    "\n",
    "    {\"class\": \"Linear\", \"kargs\": {\"in_features\": 256, \"out_features\": 256}},\n",
    "]\n",
    "\n",
    "# Parameters relevant to results\n",
    "# These parameters will basically never need to change\n",
    "standalone_parameters[\"NUM_LOGS_PER_EPOCH\"] = 10\n",
    "standalone_parameters[\"BEST_MODEL_PATH\"] = \"./best_model.pth\"\n",
    "\n",
    "\n",
    "\n",
    "\n"
   ]
  },
  {
   "cell_type": "code",
   "execution_count": 4,
   "id": "3a65fec6",
   "metadata": {
    "execution": {
     "iopub.execute_input": "2022-03-25T07:11:28.440753Z",
     "iopub.status.busy": "2022-03-25T07:11:28.440338Z",
     "iopub.status.idle": "2022-03-25T07:11:28.454312Z",
     "shell.execute_reply": "2022-03-25T07:11:28.453975Z"
    },
    "papermill": {
     "duration": 0.037078,
     "end_time": "2022-03-25T07:11:28.454390",
     "exception": false,
     "start_time": "2022-03-25T07:11:28.417312",
     "status": "completed"
    },
    "tags": [
     "injected-parameters"
    ]
   },
   "outputs": [],
   "source": [
    "# Parameters\n",
    "parameters = {\n",
    "    \"experiment_name\": \"tl_3Av2:cores -> oracle.run1.framed\",\n",
    "    \"device\": \"cuda\",\n",
    "    \"lr\": 0.0001,\n",
    "    \"x_shape\": [2, 200],\n",
    "    \"n_shot\": 3,\n",
    "    \"n_query\": 2,\n",
    "    \"train_k_factor\": 3,\n",
    "    \"val_k_factor\": 2,\n",
    "    \"test_k_factor\": 2,\n",
    "    \"torch_default_dtype\": \"torch.float32\",\n",
    "    \"n_epoch\": 50,\n",
    "    \"patience\": 3,\n",
    "    \"criteria_for_best\": \"target_accuracy\",\n",
    "    \"x_net\": [\n",
    "        {\"class\": \"nnReshape\", \"kargs\": {\"shape\": [-1, 1, 2, 200]}},\n",
    "        {\n",
    "            \"class\": \"Conv2d\",\n",
    "            \"kargs\": {\n",
    "                \"in_channels\": 1,\n",
    "                \"out_channels\": 256,\n",
    "                \"kernel_size\": [1, 7],\n",
    "                \"bias\": False,\n",
    "                \"padding\": [0, 3],\n",
    "            },\n",
    "        },\n",
    "        {\"class\": \"ReLU\", \"kargs\": {\"inplace\": True}},\n",
    "        {\"class\": \"BatchNorm2d\", \"kargs\": {\"num_features\": 256}},\n",
    "        {\n",
    "            \"class\": \"Conv2d\",\n",
    "            \"kargs\": {\n",
    "                \"in_channels\": 256,\n",
    "                \"out_channels\": 80,\n",
    "                \"kernel_size\": [2, 7],\n",
    "                \"bias\": True,\n",
    "                \"padding\": [0, 3],\n",
    "            },\n",
    "        },\n",
    "        {\"class\": \"ReLU\", \"kargs\": {\"inplace\": True}},\n",
    "        {\"class\": \"BatchNorm2d\", \"kargs\": {\"num_features\": 80}},\n",
    "        {\"class\": \"Flatten\", \"kargs\": {}},\n",
    "        {\"class\": \"Linear\", \"kargs\": {\"in_features\": 16000, \"out_features\": 256}},\n",
    "        {\"class\": \"ReLU\", \"kargs\": {\"inplace\": True}},\n",
    "        {\"class\": \"BatchNorm1d\", \"kargs\": {\"num_features\": 256}},\n",
    "        {\"class\": \"Linear\", \"kargs\": {\"in_features\": 256, \"out_features\": 256}},\n",
    "    ],\n",
    "    \"NUM_LOGS_PER_EPOCH\": 10,\n",
    "    \"BEST_MODEL_PATH\": \"./best_model.pth\",\n",
    "    \"n_way\": 16,\n",
    "    \"datasets\": [\n",
    "        {\n",
    "            \"labels\": [\n",
    "                \"1-10.\",\n",
    "                \"1-11.\",\n",
    "                \"1-15.\",\n",
    "                \"1-16.\",\n",
    "                \"1-17.\",\n",
    "                \"1-18.\",\n",
    "                \"1-19.\",\n",
    "                \"10-4.\",\n",
    "                \"10-7.\",\n",
    "                \"11-1.\",\n",
    "                \"11-14.\",\n",
    "                \"11-17.\",\n",
    "                \"11-20.\",\n",
    "                \"11-7.\",\n",
    "                \"13-20.\",\n",
    "                \"13-8.\",\n",
    "                \"14-10.\",\n",
    "                \"14-11.\",\n",
    "                \"14-14.\",\n",
    "                \"14-7.\",\n",
    "                \"15-1.\",\n",
    "                \"15-20.\",\n",
    "                \"16-1.\",\n",
    "                \"16-16.\",\n",
    "                \"17-10.\",\n",
    "                \"17-11.\",\n",
    "                \"17-2.\",\n",
    "                \"19-1.\",\n",
    "                \"19-16.\",\n",
    "                \"19-19.\",\n",
    "                \"19-20.\",\n",
    "                \"19-3.\",\n",
    "                \"2-10.\",\n",
    "                \"2-11.\",\n",
    "                \"2-17.\",\n",
    "                \"2-18.\",\n",
    "                \"2-20.\",\n",
    "                \"2-3.\",\n",
    "                \"2-4.\",\n",
    "                \"2-5.\",\n",
    "                \"2-6.\",\n",
    "                \"2-7.\",\n",
    "                \"2-8.\",\n",
    "                \"3-13.\",\n",
    "                \"3-18.\",\n",
    "                \"3-3.\",\n",
    "                \"4-1.\",\n",
    "                \"4-10.\",\n",
    "                \"4-11.\",\n",
    "                \"4-19.\",\n",
    "                \"5-5.\",\n",
    "                \"6-15.\",\n",
    "                \"7-10.\",\n",
    "                \"7-14.\",\n",
    "                \"8-18.\",\n",
    "                \"8-20.\",\n",
    "                \"8-3.\",\n",
    "                \"8-8.\",\n",
    "            ],\n",
    "            \"domains\": [1, 2, 3, 4, 5],\n",
    "            \"num_examples_per_domain_per_label\": -1,\n",
    "            \"pickle_path\": \"/mnt/wd500GB/CSC500/csc500-main/datasets/cores.stratified_ds.2022A.pkl\",\n",
    "            \"source_or_target_dataset\": \"source\",\n",
    "            \"x_transforms\": [\"take_200\"],\n",
    "            \"episode_transforms\": [],\n",
    "            \"domain_prefix\": \"C_\",\n",
    "        },\n",
    "        {\n",
    "            \"labels\": [\n",
    "                \"3123D52\",\n",
    "                \"3123D65\",\n",
    "                \"3123D79\",\n",
    "                \"3123D80\",\n",
    "                \"3123D54\",\n",
    "                \"3123D70\",\n",
    "                \"3123D7B\",\n",
    "                \"3123D89\",\n",
    "                \"3123D58\",\n",
    "                \"3123D76\",\n",
    "                \"3123D7D\",\n",
    "                \"3123EFE\",\n",
    "                \"3123D64\",\n",
    "                \"3123D78\",\n",
    "                \"3123D7E\",\n",
    "                \"3124E4A\",\n",
    "            ],\n",
    "            \"domains\": [32, 38, 8, 44, 14, 50, 20, 26],\n",
    "            \"num_examples_per_domain_per_label\": 2000,\n",
    "            \"pickle_path\": \"/mnt/wd500GB/CSC500/csc500-main/datasets/oracle.Run1_framed_2000Examples_stratified_ds.2022A.pkl\",\n",
    "            \"source_or_target_dataset\": \"target\",\n",
    "            \"x_transforms\": [\"take_200\", \"resample_20Msps_to_25Msps\"],\n",
    "            \"episode_transforms\": [],\n",
    "            \"domain_prefix\": \"O_\",\n",
    "        },\n",
    "    ],\n",
    "    \"seed\": 500,\n",
    "    \"dataset_seed\": 500,\n",
    "}\n"
   ]
  },
  {
   "cell_type": "code",
   "execution_count": 5,
   "id": "8fa1cc33",
   "metadata": {
    "execution": {
     "iopub.execute_input": "2022-03-25T07:11:28.501648Z",
     "iopub.status.busy": "2022-03-25T07:11:28.501275Z",
     "iopub.status.idle": "2022-03-25T07:11:28.502482Z",
     "shell.execute_reply": "2022-03-25T07:11:28.502774Z"
    },
    "papermill": {
     "duration": 0.031674,
     "end_time": "2022-03-25T07:11:28.502865",
     "exception": false,
     "start_time": "2022-03-25T07:11:28.471191",
     "status": "completed"
    },
    "tags": []
   },
   "outputs": [],
   "source": [
    "# Set this to True if you want to run this template directly\n",
    "STANDALONE = False\n",
    "if STANDALONE:\n",
    "    print(\"parameters not injected, running with standalone_parameters\")\n",
    "    parameters = standalone_parameters\n",
    "\n",
    "if not 'parameters' in locals() and not 'parameters' in globals():\n",
    "    raise Exception(\"Parameter injection failed\")\n",
    "\n",
    "#Use an easy dict for all the parameters\n",
    "p = EasyDict(parameters)\n",
    "\n",
    "if \"x_shape\" not in p:\n",
    "    p.x_shape = [2,256] # Default to this if we dont supply x_shape\n",
    "\n",
    "\n",
    "supplied_keys = set(p.keys())\n",
    "\n",
    "if  supplied_keys != required_parameters:\n",
    "    print(\"Parameters are incorrect\")\n",
    "    if len(supplied_keys - required_parameters)>0: print(\"Shouldn't have:\", str(supplied_keys - required_parameters))\n",
    "    if len(required_parameters - supplied_keys)>0: print(\"Need to have:\", str(required_parameters - supplied_keys))\n",
    "    raise RuntimeError(\"Parameters are incorrect\")"
   ]
  },
  {
   "cell_type": "code",
   "execution_count": 6,
   "id": "3a028d58",
   "metadata": {
    "execution": {
     "iopub.execute_input": "2022-03-25T07:11:28.533203Z",
     "iopub.status.busy": "2022-03-25T07:11:28.532165Z",
     "iopub.status.idle": "2022-03-25T07:11:28.547302Z",
     "shell.execute_reply": "2022-03-25T07:11:28.546889Z"
    },
    "papermill": {
     "duration": 0.03041,
     "end_time": "2022-03-25T07:11:28.547401",
     "exception": false,
     "start_time": "2022-03-25T07:11:28.516991",
     "status": "completed"
    },
    "tags": []
   },
   "outputs": [],
   "source": [
    "###################################\n",
    "# Set the RNGs and make it all deterministic\n",
    "###################################\n",
    "np.random.seed(p.seed)\n",
    "random.seed(p.seed)\n",
    "torch.manual_seed(p.seed)\n",
    "\n",
    "torch.use_deterministic_algorithms(True) "
   ]
  },
  {
   "cell_type": "code",
   "execution_count": 7,
   "id": "b691acf6",
   "metadata": {
    "execution": {
     "iopub.execute_input": "2022-03-25T07:11:28.581186Z",
     "iopub.status.busy": "2022-03-25T07:11:28.580930Z",
     "iopub.status.idle": "2022-03-25T07:11:28.597099Z",
     "shell.execute_reply": "2022-03-25T07:11:28.596767Z"
    },
    "papermill": {
     "duration": 0.031258,
     "end_time": "2022-03-25T07:11:28.597200",
     "exception": false,
     "start_time": "2022-03-25T07:11:28.565942",
     "status": "completed"
    },
    "tags": []
   },
   "outputs": [],
   "source": [
    "###########################################\n",
    "# The stratified datasets honor this\n",
    "###########################################\n",
    "torch.set_default_dtype(eval(p.torch_default_dtype))"
   ]
  },
  {
   "cell_type": "code",
   "execution_count": 8,
   "id": "b5fba671",
   "metadata": {
    "execution": {
     "iopub.execute_input": "2022-03-25T07:11:28.630401Z",
     "iopub.status.busy": "2022-03-25T07:11:28.630152Z",
     "iopub.status.idle": "2022-03-25T07:11:28.665687Z",
     "shell.execute_reply": "2022-03-25T07:11:28.665475Z"
    },
    "papermill": {
     "duration": 0.050801,
     "end_time": "2022-03-25T07:11:28.665736",
     "exception": false,
     "start_time": "2022-03-25T07:11:28.614935",
     "status": "completed"
    },
    "tags": []
   },
   "outputs": [],
   "source": [
    "###################################\n",
    "# Build the network(s)\n",
    "# Note: It's critical to do this AFTER setting the RNG\n",
    "###################################\n",
    "x_net = build_sequential(p.x_net)"
   ]
  },
  {
   "cell_type": "code",
   "execution_count": 9,
   "id": "5d7e61cc",
   "metadata": {
    "execution": {
     "iopub.execute_input": "2022-03-25T07:11:28.693984Z",
     "iopub.status.busy": "2022-03-25T07:11:28.693736Z",
     "iopub.status.idle": "2022-03-25T07:11:28.709124Z",
     "shell.execute_reply": "2022-03-25T07:11:28.708684Z"
    },
    "papermill": {
     "duration": 0.03036,
     "end_time": "2022-03-25T07:11:28.709212",
     "exception": false,
     "start_time": "2022-03-25T07:11:28.678852",
     "status": "completed"
    },
    "tags": []
   },
   "outputs": [],
   "source": [
    "start_time_secs = time.time()"
   ]
  },
  {
   "cell_type": "code",
   "execution_count": 10,
   "id": "c6b67dfd",
   "metadata": {
    "execution": {
     "iopub.execute_input": "2022-03-25T07:11:28.741669Z",
     "iopub.status.busy": "2022-03-25T07:11:28.741420Z",
     "iopub.status.idle": "2022-03-25T07:11:28.755675Z",
     "shell.execute_reply": "2022-03-25T07:11:28.755431Z"
    },
    "papermill": {
     "duration": 0.029415,
     "end_time": "2022-03-25T07:11:28.755723",
     "exception": false,
     "start_time": "2022-03-25T07:11:28.726308",
     "status": "completed"
    },
    "tags": []
   },
   "outputs": [],
   "source": [
    "p.domains_source = []\n",
    "p.domains_target = []\n",
    "\n",
    "\n",
    "train_original_source = []\n",
    "val_original_source   = []\n",
    "test_original_source  = []\n",
    "\n",
    "train_original_target = []\n",
    "val_original_target   = []\n",
    "test_original_target  = []"
   ]
  },
  {
   "cell_type": "code",
   "execution_count": 11,
   "id": "e3d9c3d3",
   "metadata": {
    "execution": {
     "iopub.execute_input": "2022-03-25T07:11:28.783917Z",
     "iopub.status.busy": "2022-03-25T07:11:28.783665Z",
     "iopub.status.idle": "2022-03-25T07:11:28.796988Z",
     "shell.execute_reply": "2022-03-25T07:11:28.796552Z"
    },
    "papermill": {
     "duration": 0.028269,
     "end_time": "2022-03-25T07:11:28.797077",
     "exception": false,
     "start_time": "2022-03-25T07:11:28.768808",
     "status": "completed"
    },
    "tags": []
   },
   "outputs": [],
   "source": [
    "# global_x_transform_func = lambda x: normalize(x.to(torch.get_default_dtype()), \"unit_power\") # unit_power, unit_mag\n",
    "# global_x_transform_func = lambda x: normalize(x, \"unit_power\") # unit_power, unit_mag"
   ]
  },
  {
   "cell_type": "code",
   "execution_count": 12,
   "id": "acb78fd2",
   "metadata": {
    "execution": {
     "iopub.execute_input": "2022-03-25T07:11:28.833957Z",
     "iopub.status.busy": "2022-03-25T07:11:28.833681Z",
     "iopub.status.idle": "2022-03-25T07:11:28.847404Z",
     "shell.execute_reply": "2022-03-25T07:11:28.846965Z"
    },
    "papermill": {
     "duration": 0.033097,
     "end_time": "2022-03-25T07:11:28.847493",
     "exception": false,
     "start_time": "2022-03-25T07:11:28.814396",
     "status": "completed"
    },
    "tags": []
   },
   "outputs": [],
   "source": [
    "def add_dataset(\n",
    "    labels,\n",
    "    domains,\n",
    "    pickle_path,\n",
    "    x_transforms,\n",
    "    episode_transforms,\n",
    "    domain_prefix,\n",
    "    num_examples_per_domain_per_label,\n",
    "    source_or_target_dataset:str,\n",
    "    iterator_seed=p.seed,\n",
    "    dataset_seed=p.dataset_seed,\n",
    "    n_shot=p.n_shot,\n",
    "    n_way=p.n_way,\n",
    "    n_query=p.n_query,\n",
    "    train_val_test_k_factors=(p.train_k_factor,p.val_k_factor,p.test_k_factor),\n",
    "):\n",
    "   \n",
    "    if x_transforms == []: x_transform = None\n",
    "    else: x_transform = get_chained_transform(x_transforms)\n",
    "    \n",
    "    if episode_transforms == []: episode_transform = None\n",
    "    else: raise Exception(\"episode_transforms not implemented\")\n",
    "    \n",
    "    episode_transform = lambda tup, _prefix=domain_prefix: (_prefix + str(tup[0]), tup[1])\n",
    "\n",
    "\n",
    "    eaf = Episodic_Accessor_Factory(\n",
    "        labels=labels,\n",
    "        domains=domains,\n",
    "        num_examples_per_domain_per_label=num_examples_per_domain_per_label,\n",
    "        iterator_seed=iterator_seed,\n",
    "        dataset_seed=dataset_seed,\n",
    "        n_shot=n_shot,\n",
    "        n_way=n_way,\n",
    "        n_query=n_query,\n",
    "        train_val_test_k_factors=train_val_test_k_factors,\n",
    "        pickle_path=pickle_path,\n",
    "        x_transform_func=x_transform,\n",
    "    )\n",
    "\n",
    "    train, val, test = eaf.get_train(), eaf.get_val(), eaf.get_test()\n",
    "    train = Lazy_Iterable_Wrapper(train, episode_transform)\n",
    "    val = Lazy_Iterable_Wrapper(val, episode_transform)\n",
    "    test = Lazy_Iterable_Wrapper(test, episode_transform)\n",
    "\n",
    "    if source_or_target_dataset==\"source\":\n",
    "        train_original_source.append(train)\n",
    "        val_original_source.append(val)\n",
    "        test_original_source.append(test)\n",
    "\n",
    "        p.domains_source.extend(\n",
    "            [domain_prefix + str(u) for u in domains]\n",
    "        )\n",
    "    elif source_or_target_dataset==\"target\":\n",
    "        train_original_target.append(train)\n",
    "        val_original_target.append(val)\n",
    "        test_original_target.append(test)\n",
    "        p.domains_target.extend(\n",
    "            [domain_prefix + str(u) for u in domains]\n",
    "        )\n",
    "    else:\n",
    "        raise Exception(f\"invalid source_or_target_dataset: {source_or_target_dataset}\")\n",
    "    "
   ]
  },
  {
   "cell_type": "code",
   "execution_count": 13,
   "id": "fe266617",
   "metadata": {
    "execution": {
     "iopub.execute_input": "2022-03-25T07:11:28.880538Z",
     "iopub.status.busy": "2022-03-25T07:11:28.880293Z",
     "iopub.status.idle": "2022-03-25T07:11:44.838764Z",
     "shell.execute_reply": "2022-03-25T07:11:44.838345Z"
    },
    "papermill": {
     "duration": 15.973339,
     "end_time": "2022-03-25T07:11:44.838866",
     "exception": false,
     "start_time": "2022-03-25T07:11:28.865527",
     "status": "completed"
    },
    "tags": []
   },
   "outputs": [],
   "source": [
    "for ds in p.datasets:\n",
    "    add_dataset(**ds)"
   ]
  },
  {
   "cell_type": "code",
   "execution_count": 14,
   "id": "b90d65ac",
   "metadata": {
    "execution": {
     "iopub.execute_input": "2022-03-25T07:11:44.870956Z",
     "iopub.status.busy": "2022-03-25T07:11:44.870702Z",
     "iopub.status.idle": "2022-03-25T07:11:44.881943Z",
     "shell.execute_reply": "2022-03-25T07:11:44.881725Z"
    },
    "papermill": {
     "duration": 0.026217,
     "end_time": "2022-03-25T07:11:44.881993",
     "exception": false,
     "start_time": "2022-03-25T07:11:44.855776",
     "status": "completed"
    },
    "tags": []
   },
   "outputs": [],
   "source": [
    "# from steves_utils.CORES.utils import (\n",
    "#     ALL_NODES,\n",
    "#     ALL_NODES_MINIMUM_1000_EXAMPLES,\n",
    "#     ALL_DAYS\n",
    "# )\n",
    "\n",
    "# add_dataset(\n",
    "#     labels=ALL_NODES,\n",
    "#     domains = ALL_DAYS,\n",
    "#     num_examples_per_domain_per_label=100,\n",
    "#     pickle_path=os.path.join(get_datasets_base_path(), \"cores.stratified_ds.2022A.pkl\"),\n",
    "#     source_or_target_dataset=\"target\",\n",
    "#     x_transform_func=global_x_transform_func,\n",
    "#     domain_modifier=lambda u: f\"cores_{u}\"\n",
    "# )"
   ]
  },
  {
   "cell_type": "code",
   "execution_count": 15,
   "id": "76db484d",
   "metadata": {
    "execution": {
     "iopub.execute_input": "2022-03-25T07:11:44.912954Z",
     "iopub.status.busy": "2022-03-25T07:11:44.912702Z",
     "iopub.status.idle": "2022-03-25T07:11:44.923067Z",
     "shell.execute_reply": "2022-03-25T07:11:44.922743Z"
    },
    "papermill": {
     "duration": 0.025223,
     "end_time": "2022-03-25T07:11:44.923136",
     "exception": false,
     "start_time": "2022-03-25T07:11:44.897913",
     "status": "completed"
    },
    "tags": []
   },
   "outputs": [],
   "source": [
    "# from steves_utils.ORACLE.utils_v2 import (\n",
    "#     ALL_DISTANCES_FEET,\n",
    "#     ALL_RUNS,\n",
    "#     ALL_SERIAL_NUMBERS,\n",
    "# )\n",
    "\n",
    "\n",
    "# add_dataset(\n",
    "#     labels=ALL_SERIAL_NUMBERS,\n",
    "#     domains = list(set(ALL_DISTANCES_FEET) - {2,62}),\n",
    "#     num_examples_per_domain_per_label=100,\n",
    "#     pickle_path=os.path.join(get_datasets_base_path(), \"oracle.Run2_framed_2000Examples_stratified_ds.2022A.pkl\"),\n",
    "#     source_or_target_dataset=\"source\",\n",
    "#     x_transform_func=global_x_transform_func,\n",
    "#     domain_modifier=lambda u: f\"oracle1_{u}\"\n",
    "# )\n"
   ]
  },
  {
   "cell_type": "code",
   "execution_count": 16,
   "id": "97dea9d2",
   "metadata": {
    "execution": {
     "iopub.execute_input": "2022-03-25T07:11:44.956916Z",
     "iopub.status.busy": "2022-03-25T07:11:44.956663Z",
     "iopub.status.idle": "2022-03-25T07:11:44.972816Z",
     "shell.execute_reply": "2022-03-25T07:11:44.972379Z"
    },
    "papermill": {
     "duration": 0.031832,
     "end_time": "2022-03-25T07:11:44.972904",
     "exception": false,
     "start_time": "2022-03-25T07:11:44.941072",
     "status": "completed"
    },
    "tags": []
   },
   "outputs": [],
   "source": [
    "# from steves_utils.ORACLE.utils_v2 import (\n",
    "#     ALL_DISTANCES_FEET,\n",
    "#     ALL_RUNS,\n",
    "#     ALL_SERIAL_NUMBERS,\n",
    "# )\n",
    "\n",
    "\n",
    "# add_dataset(\n",
    "#     labels=ALL_SERIAL_NUMBERS,\n",
    "#     domains = list(set(ALL_DISTANCES_FEET) - {2,62,56}),\n",
    "#     num_examples_per_domain_per_label=100,\n",
    "#     pickle_path=os.path.join(get_datasets_base_path(), \"oracle.Run2_framed_2000Examples_stratified_ds.2022A.pkl\"),\n",
    "#     source_or_target_dataset=\"source\",\n",
    "#     x_transform_func=global_x_transform_func,\n",
    "#     domain_modifier=lambda u: f\"oracle2_{u}\"\n",
    "# )"
   ]
  },
  {
   "cell_type": "code",
   "execution_count": 17,
   "id": "6f289866",
   "metadata": {
    "execution": {
     "iopub.execute_input": "2022-03-25T07:11:45.004389Z",
     "iopub.status.busy": "2022-03-25T07:11:45.004142Z",
     "iopub.status.idle": "2022-03-25T07:11:45.014781Z",
     "shell.execute_reply": "2022-03-25T07:11:45.014481Z"
    },
    "papermill": {
     "duration": 0.025647,
     "end_time": "2022-03-25T07:11:45.014850",
     "exception": false,
     "start_time": "2022-03-25T07:11:44.989203",
     "status": "completed"
    },
    "tags": []
   },
   "outputs": [],
   "source": [
    "# add_dataset(\n",
    "#     labels=list(range(19)),\n",
    "#     domains = [0,1,2],\n",
    "#     num_examples_per_domain_per_label=100,\n",
    "#     pickle_path=os.path.join(get_datasets_base_path(), \"metehan.stratified_ds.2022A.pkl\"),\n",
    "#     source_or_target_dataset=\"target\",\n",
    "#     x_transform_func=global_x_transform_func,\n",
    "#     domain_modifier=lambda u: f\"met_{u}\"\n",
    "# )"
   ]
  },
  {
   "cell_type": "code",
   "execution_count": 18,
   "id": "86a863c3",
   "metadata": {
    "execution": {
     "iopub.execute_input": "2022-03-25T07:11:45.048402Z",
     "iopub.status.busy": "2022-03-25T07:11:45.047979Z",
     "iopub.status.idle": "2022-03-25T07:11:45.057963Z",
     "shell.execute_reply": "2022-03-25T07:11:45.058185Z"
    },
    "papermill": {
     "duration": 0.025211,
     "end_time": "2022-03-25T07:11:45.058241",
     "exception": false,
     "start_time": "2022-03-25T07:11:45.033030",
     "status": "completed"
    },
    "tags": []
   },
   "outputs": [],
   "source": [
    "# # from steves_utils.wisig.utils import (\n",
    "# #     ALL_NODES_MINIMUM_100_EXAMPLES,\n",
    "# #     ALL_NODES_MINIMUM_500_EXAMPLES,\n",
    "# #     ALL_NODES_MINIMUM_1000_EXAMPLES,\n",
    "# #     ALL_DAYS\n",
    "# # )\n",
    "\n",
    "# import steves_utils.wisig.utils as wisig\n",
    "\n",
    "\n",
    "# add_dataset(\n",
    "#     labels=wisig.ALL_NODES_MINIMUM_100_EXAMPLES,\n",
    "#     domains = wisig.ALL_DAYS,\n",
    "#     num_examples_per_domain_per_label=100,\n",
    "#     pickle_path=os.path.join(get_datasets_base_path(), \"wisig.node3-19.stratified_ds.2022A.pkl\"),\n",
    "#     source_or_target_dataset=\"target\",\n",
    "#     x_transform_func=global_x_transform_func,\n",
    "#     domain_modifier=lambda u: f\"wisig_{u}\"\n",
    "# )"
   ]
  },
  {
   "cell_type": "code",
   "execution_count": 19,
   "id": "fd5442bc",
   "metadata": {
    "execution": {
     "iopub.execute_input": "2022-03-25T07:11:45.091088Z",
     "iopub.status.busy": "2022-03-25T07:11:45.090804Z",
     "iopub.status.idle": "2022-03-25T07:11:45.105628Z",
     "shell.execute_reply": "2022-03-25T07:11:45.105245Z"
    },
    "papermill": {
     "duration": 0.031474,
     "end_time": "2022-03-25T07:11:45.105717",
     "exception": false,
     "start_time": "2022-03-25T07:11:45.074243",
     "status": "completed"
    },
    "tags": []
   },
   "outputs": [],
   "source": [
    "###################################\n",
    "# Build the dataset\n",
    "###################################\n",
    "train_original_source = Iterable_Aggregator(train_original_source, p.seed)\n",
    "val_original_source = Iterable_Aggregator(val_original_source, p.seed)\n",
    "test_original_source = Iterable_Aggregator(test_original_source, p.seed)\n",
    "\n",
    "\n",
    "train_original_target = Iterable_Aggregator(train_original_target, p.seed)\n",
    "val_original_target = Iterable_Aggregator(val_original_target, p.seed)\n",
    "test_original_target = Iterable_Aggregator(test_original_target, p.seed)\n",
    "\n",
    "# For CNN We only use X and Y. And we only train on the source.\n",
    "# Properly form the data using a transform lambda and Lazy_Iterable_Wrapper. Finally wrap them in a dataloader\n",
    "\n",
    "transform_lambda = lambda ex: ex[1] # Original is (<domain>, <episode>) so we strip down to episode only\n",
    "\n",
    "train_processed_source = Lazy_Iterable_Wrapper(train_original_source, transform_lambda)\n",
    "val_processed_source   = Lazy_Iterable_Wrapper(val_original_source, transform_lambda)\n",
    "test_processed_source  = Lazy_Iterable_Wrapper(test_original_source, transform_lambda)\n",
    "\n",
    "train_processed_target = Lazy_Iterable_Wrapper(train_original_target, transform_lambda)\n",
    "val_processed_target   = Lazy_Iterable_Wrapper(val_original_target, transform_lambda)\n",
    "test_processed_target  = Lazy_Iterable_Wrapper(test_original_target, transform_lambda)\n",
    "\n",
    "datasets = EasyDict({\n",
    "    \"source\": {\n",
    "        \"original\": {\"train\":train_original_source, \"val\":val_original_source, \"test\":test_original_source},\n",
    "        \"processed\": {\"train\":train_processed_source, \"val\":val_processed_source, \"test\":test_processed_source}\n",
    "    },\n",
    "    \"target\": {\n",
    "        \"original\": {\"train\":train_original_target, \"val\":val_original_target, \"test\":test_original_target},\n",
    "        \"processed\": {\"train\":train_processed_target, \"val\":val_processed_target, \"test\":test_processed_target}\n",
    "    },\n",
    "})"
   ]
  },
  {
   "cell_type": "code",
   "execution_count": 20,
   "id": "5b3c01fc",
   "metadata": {
    "execution": {
     "iopub.execute_input": "2022-03-25T07:11:45.141156Z",
     "iopub.status.busy": "2022-03-25T07:11:45.140904Z",
     "iopub.status.idle": "2022-03-25T07:11:51.316236Z",
     "shell.execute_reply": "2022-03-25T07:11:51.315756Z"
    },
    "papermill": {
     "duration": 6.192709,
     "end_time": "2022-03-25T07:11:51.316352",
     "exception": false,
     "start_time": "2022-03-25T07:11:45.123643",
     "status": "completed"
    },
    "tags": []
   },
   "outputs": [
    {
     "name": "stdout",
     "output_type": "stream",
     "text": [
      "{'C_1', 'C_4', 'C_2', 'C_3', 'C_5'}\n"
     ]
    },
    {
     "name": "stdout",
     "output_type": "stream",
     "text": [
      "{'O_8', 'O_26', 'O_14', 'O_44', 'O_50', 'O_20', 'O_32', 'O_38'}\n"
     ]
    },
    {
     "name": "stdout",
     "output_type": "stream",
     "text": [
      "tensor([[[-0.0060, -0.0054, -0.0223,  ...,  0.0508,  0.0141, -0.0150],\n",
      "         [-0.0035,  0.0011,  0.0172,  ..., -0.0165,  0.0014, -0.0044]],\n",
      "\n",
      "        [[-0.0096, -0.0275, -0.0174,  ...,  0.0004, -0.0027, -0.0044],\n",
      "         [-0.0048, -0.0185, -0.0293,  ...,  0.0011, -0.0158,  0.0018]],\n",
      "\n",
      "        [[-0.0062, -0.0035, -0.0104,  ...,  0.0273,  0.0045, -0.0145],\n",
      "         [-0.0004,  0.0076,  0.0295,  ..., -0.0319, -0.0026,  0.0060]],\n",
      "\n",
      "        ...,\n",
      "\n",
      "        [[-0.0025, -0.0105,  0.0131,  ...,  0.0007,  0.0127,  0.0163],\n",
      "         [ 0.0059, -0.0101, -0.0090,  ..., -0.0123, -0.0229,  0.0073]],\n",
      "\n",
      "        [[-0.0072,  0.0022,  0.0151,  ...,  0.0106,  0.0262, -0.0004],\n",
      "         [-0.0010, -0.0145,  0.0076,  ..., -0.0134, -0.0047,  0.0172]],\n",
      "\n",
      "        [[ 0.0000, -0.0004, -0.0008,  ..., -0.0050,  0.0190,  0.0003],\n",
      "         [-0.0013, -0.0006, -0.0016,  ..., -0.0152,  0.0010,  0.0162]]])\n"
     ]
    }
   ],
   "source": [
    "from steves_utils.transforms import get_average_magnitude, get_average_power\n",
    "\n",
    "print(set([u for u,_ in val_original_source]))\n",
    "print(set([u for u,_ in val_original_target]))\n",
    "\n",
    "s_x, s_y, q_x, q_y, _ = next(iter(train_processed_source))\n",
    "print(s_x)\n",
    "\n",
    "# for ds in [\n",
    "#     train_processed_source,\n",
    "#     val_processed_source,\n",
    "#     test_processed_source,\n",
    "#     train_processed_target,\n",
    "#     val_processed_target,\n",
    "#     test_processed_target\n",
    "# ]:\n",
    "#     for s_x, s_y, q_x, q_y, _ in ds:\n",
    "#         for X in (s_x, q_x):\n",
    "#             for x in X:\n",
    "#                 assert np.isclose(get_average_magnitude(x.numpy()), 1.0)\n",
    "#                 assert np.isclose(get_average_power(x.numpy()), 1.0)\n",
    "                "
   ]
  },
  {
   "cell_type": "code",
   "execution_count": 21,
   "id": "bbdacba1",
   "metadata": {
    "execution": {
     "iopub.execute_input": "2022-03-25T07:11:51.356151Z",
     "iopub.status.busy": "2022-03-25T07:11:51.355894Z",
     "iopub.status.idle": "2022-03-25T07:11:51.404817Z",
     "shell.execute_reply": "2022-03-25T07:11:51.404353Z"
    },
    "papermill": {
     "duration": 0.066603,
     "end_time": "2022-03-25T07:11:51.404913",
     "exception": false,
     "start_time": "2022-03-25T07:11:51.338310",
     "status": "completed"
    },
    "tags": []
   },
   "outputs": [
    {
     "name": "stdout",
     "output_type": "stream",
     "text": [
      "(2, 200)\n"
     ]
    }
   ],
   "source": [
    "###################################\n",
    "# Build the model\n",
    "###################################\n",
    "# easfsl only wants a tuple for the shape\n",
    "model = Steves_Prototypical_Network(x_net, device=p.device, x_shape=tuple(p.x_shape))\n",
    "optimizer = Adam(params=model.parameters(), lr=p.lr)"
   ]
  },
  {
   "cell_type": "code",
   "execution_count": 22,
   "id": "22b39ac5",
   "metadata": {
    "execution": {
     "iopub.execute_input": "2022-03-25T07:11:51.441305Z",
     "iopub.status.busy": "2022-03-25T07:11:51.441051Z",
     "iopub.status.idle": "2022-03-25T07:24:41.634575Z",
     "shell.execute_reply": "2022-03-25T07:24:41.634348Z"
    },
    "papermill": {
     "duration": 770.210919,
     "end_time": "2022-03-25T07:24:41.634633",
     "exception": false,
     "start_time": "2022-03-25T07:11:51.423714",
     "status": "completed"
    },
    "tags": []
   },
   "outputs": [
    {
     "name": "stdout",
     "output_type": "stream",
     "text": [
      "epoch: 1, [batch: 1 / 6317], examples_per_second: 51.1497, train_label_loss: 2.1122, \n"
     ]
    },
    {
     "name": "stdout",
     "output_type": "stream",
     "text": [
      "epoch: 1, [batch: 632 / 6317], examples_per_second: 3657.8604, train_label_loss: 0.0381, \n"
     ]
    },
    {
     "name": "stdout",
     "output_type": "stream",
     "text": [
      "epoch: 1, [batch: 1264 / 6317], examples_per_second: 3669.1290, train_label_loss: 0.0007, \n"
     ]
    },
    {
     "name": "stdout",
     "output_type": "stream",
     "text": [
      "epoch: 1, [batch: 1895 / 6317], examples_per_second: 3661.0948, train_label_loss: 0.0075, \n"
     ]
    },
    {
     "name": "stdout",
     "output_type": "stream",
     "text": [
      "epoch: 1, [batch: 2527 / 6317], examples_per_second: 3635.6857, train_label_loss: 0.0015, \n"
     ]
    },
    {
     "name": "stdout",
     "output_type": "stream",
     "text": [
      "epoch: 1, [batch: 3159 / 6317], examples_per_second: 3646.0194, train_label_loss: 0.0022, \n"
     ]
    },
    {
     "name": "stdout",
     "output_type": "stream",
     "text": [
      "epoch: 1, [batch: 3790 / 6317], examples_per_second: 3653.3691, train_label_loss: 0.0001, \n"
     ]
    },
    {
     "name": "stdout",
     "output_type": "stream",
     "text": [
      "epoch: 1, [batch: 4422 / 6317], examples_per_second: 3638.7991, train_label_loss: 0.0007, \n"
     ]
    },
    {
     "name": "stdout",
     "output_type": "stream",
     "text": [
      "epoch: 1, [batch: 5053 / 6317], examples_per_second: 3636.4644, train_label_loss: 0.0010, \n"
     ]
    },
    {
     "name": "stdout",
     "output_type": "stream",
     "text": [
      "epoch: 1, [batch: 5685 / 6317], examples_per_second: 3633.3191, train_label_loss: 0.0016, \n"
     ]
    },
    {
     "name": "stdout",
     "output_type": "stream",
     "text": [
      "=============================================================\n",
      "epoch: 1, source_val_acc_label: 0.9985, target_val_acc_label: 0.5014, source_val_label_loss: 0.0083, target_val_label_loss: 1.8443, \n",
      "=============================================================\n"
     ]
    },
    {
     "name": "stdout",
     "output_type": "stream",
     "text": [
      "New best\n"
     ]
    },
    {
     "name": "stdout",
     "output_type": "stream",
     "text": [
      "epoch: 2, [batch: 1 / 6315], examples_per_second: 5.4660, train_label_loss: 0.0365, \n"
     ]
    },
    {
     "name": "stdout",
     "output_type": "stream",
     "text": [
      "epoch: 2, [batch: 632 / 6315], examples_per_second: 3629.7406, train_label_loss: 0.0020, \n"
     ]
    },
    {
     "name": "stdout",
     "output_type": "stream",
     "text": [
      "epoch: 2, [batch: 1263 / 6315], examples_per_second: 3616.8202, train_label_loss: 0.0000, \n"
     ]
    },
    {
     "name": "stdout",
     "output_type": "stream",
     "text": [
      "epoch: 2, [batch: 1895 / 6315], examples_per_second: 3632.2490, train_label_loss: 0.0003, \n"
     ]
    },
    {
     "name": "stdout",
     "output_type": "stream",
     "text": [
      "epoch: 2, [batch: 2526 / 6315], examples_per_second: 3637.2977, train_label_loss: 0.0004, \n"
     ]
    },
    {
     "name": "stdout",
     "output_type": "stream",
     "text": [
      "epoch: 2, [batch: 3158 / 6315], examples_per_second: 3647.5604, train_label_loss: 0.0000, \n"
     ]
    },
    {
     "name": "stdout",
     "output_type": "stream",
     "text": [
      "epoch: 2, [batch: 3789 / 6315], examples_per_second: 3649.6119, train_label_loss: 0.0003, \n"
     ]
    },
    {
     "name": "stdout",
     "output_type": "stream",
     "text": [
      "epoch: 2, [batch: 4420 / 6315], examples_per_second: 3642.5522, train_label_loss: 0.0000, \n"
     ]
    },
    {
     "name": "stdout",
     "output_type": "stream",
     "text": [
      "epoch: 2, [batch: 5052 / 6315], examples_per_second: 3651.6661, train_label_loss: 0.0009, \n"
     ]
    },
    {
     "name": "stdout",
     "output_type": "stream",
     "text": [
      "epoch: 2, [batch: 5683 / 6315], examples_per_second: 3622.9031, train_label_loss: 0.0005, \n"
     ]
    },
    {
     "name": "stdout",
     "output_type": "stream",
     "text": [
      "=============================================================\n",
      "epoch: 2, source_val_acc_label: 0.9986, target_val_acc_label: 0.4228, source_val_label_loss: 0.0093, target_val_label_loss: 1.8535, \n",
      "=============================================================\n"
     ]
    },
    {
     "name": "stdout",
     "output_type": "stream",
     "text": [
      "epoch: 3, [batch: 1 / 6325], examples_per_second: 5.4750, train_label_loss: 0.0002, \n"
     ]
    },
    {
     "name": "stdout",
     "output_type": "stream",
     "text": [
      "epoch: 3, [batch: 633 / 6325], examples_per_second: 3603.0244, train_label_loss: 0.0000, \n"
     ]
    },
    {
     "name": "stdout",
     "output_type": "stream",
     "text": [
      "epoch: 3, [batch: 1265 / 6325], examples_per_second: 3623.9080, train_label_loss: 0.0000, \n"
     ]
    },
    {
     "name": "stdout",
     "output_type": "stream",
     "text": [
      "epoch: 3, [batch: 1898 / 6325], examples_per_second: 3648.1280, train_label_loss: 0.0253, \n"
     ]
    },
    {
     "name": "stdout",
     "output_type": "stream",
     "text": [
      "epoch: 3, [batch: 2530 / 6325], examples_per_second: 3627.1611, train_label_loss: 0.0008, \n"
     ]
    },
    {
     "name": "stdout",
     "output_type": "stream",
     "text": [
      "epoch: 3, [batch: 3163 / 6325], examples_per_second: 3637.8357, train_label_loss: 0.0000, \n"
     ]
    },
    {
     "name": "stdout",
     "output_type": "stream",
     "text": [
      "epoch: 3, [batch: 3795 / 6325], examples_per_second: 3655.3188, train_label_loss: 0.0145, \n"
     ]
    },
    {
     "name": "stdout",
     "output_type": "stream",
     "text": [
      "epoch: 3, [batch: 4427 / 6325], examples_per_second: 3632.7229, train_label_loss: 0.0000, \n"
     ]
    },
    {
     "name": "stdout",
     "output_type": "stream",
     "text": [
      "epoch: 3, [batch: 5060 / 6325], examples_per_second: 3649.5168, train_label_loss: 0.0000, \n"
     ]
    },
    {
     "name": "stdout",
     "output_type": "stream",
     "text": [
      "epoch: 3, [batch: 5692 / 6325], examples_per_second: 3643.7989, train_label_loss: 0.0000, \n"
     ]
    },
    {
     "name": "stdout",
     "output_type": "stream",
     "text": [
      "=============================================================\n",
      "epoch: 3, source_val_acc_label: 0.9992, target_val_acc_label: 0.4892, source_val_label_loss: 0.0073, target_val_label_loss: 1.6132, \n",
      "=============================================================\n"
     ]
    },
    {
     "name": "stdout",
     "output_type": "stream",
     "text": [
      "epoch: 4, [batch: 1 / 6307], examples_per_second: 5.4623, train_label_loss: 0.0000, \n"
     ]
    },
    {
     "name": "stdout",
     "output_type": "stream",
     "text": [
      "epoch: 4, [batch: 631 / 6307], examples_per_second: 3622.4925, train_label_loss: 0.0000, \n"
     ]
    },
    {
     "name": "stdout",
     "output_type": "stream",
     "text": [
      "epoch: 4, [batch: 1262 / 6307], examples_per_second: 3640.8850, train_label_loss: 0.0000, \n"
     ]
    },
    {
     "name": "stdout",
     "output_type": "stream",
     "text": [
      "epoch: 4, [batch: 1892 / 6307], examples_per_second: 3648.1366, train_label_loss: 0.0000, \n"
     ]
    },
    {
     "name": "stdout",
     "output_type": "stream",
     "text": [
      "epoch: 4, [batch: 2523 / 6307], examples_per_second: 3640.0723, train_label_loss: 0.0000, \n"
     ]
    },
    {
     "name": "stdout",
     "output_type": "stream",
     "text": [
      "epoch: 4, [batch: 3154 / 6307], examples_per_second: 3638.7866, train_label_loss: 0.0000, \n"
     ]
    },
    {
     "name": "stdout",
     "output_type": "stream",
     "text": [
      "epoch: 4, [batch: 3784 / 6307], examples_per_second: 3651.3179, train_label_loss: 0.0000, \n"
     ]
    },
    {
     "name": "stdout",
     "output_type": "stream",
     "text": [
      "epoch: 4, [batch: 4415 / 6307], examples_per_second: 3634.8404, train_label_loss: 0.0667, \n"
     ]
    },
    {
     "name": "stdout",
     "output_type": "stream",
     "text": [
      "epoch: 4, [batch: 5045 / 6307], examples_per_second: 3632.9897, train_label_loss: 0.0000, \n"
     ]
    },
    {
     "name": "stdout",
     "output_type": "stream",
     "text": [
      "epoch: 4, [batch: 5676 / 6307], examples_per_second: 3659.9645, train_label_loss: 0.0001, \n"
     ]
    },
    {
     "name": "stdout",
     "output_type": "stream",
     "text": [
      "=============================================================\n",
      "epoch: 4, source_val_acc_label: 0.9991, target_val_acc_label: 0.4583, source_val_label_loss: 0.0065, target_val_label_loss: 1.7105, \n",
      "=============================================================\n"
     ]
    },
    {
     "name": "stdout",
     "output_type": "stream",
     "text": [
      "epoch: 5, [batch: 1 / 6302], examples_per_second: 5.4750, train_label_loss: 0.0157, \n"
     ]
    },
    {
     "name": "stdout",
     "output_type": "stream",
     "text": [
      "epoch: 5, [batch: 631 / 6302], examples_per_second: 3642.7199, train_label_loss: 0.0000, \n"
     ]
    },
    {
     "name": "stdout",
     "output_type": "stream",
     "text": [
      "epoch: 5, [batch: 1261 / 6302], examples_per_second: 3627.8350, train_label_loss: 0.0000, \n"
     ]
    },
    {
     "name": "stdout",
     "output_type": "stream",
     "text": [
      "epoch: 5, [batch: 1891 / 6302], examples_per_second: 3653.3832, train_label_loss: 0.0000, \n"
     ]
    },
    {
     "name": "stdout",
     "output_type": "stream",
     "text": [
      "epoch: 5, [batch: 2521 / 6302], examples_per_second: 3646.0724, train_label_loss: 0.0000, \n"
     ]
    },
    {
     "name": "stdout",
     "output_type": "stream",
     "text": [
      "epoch: 5, [batch: 3151 / 6302], examples_per_second: 3654.6663, train_label_loss: 0.0000, \n"
     ]
    },
    {
     "name": "stdout",
     "output_type": "stream",
     "text": [
      "epoch: 5, [batch: 3781 / 6302], examples_per_second: 3669.7984, train_label_loss: 0.0000, \n"
     ]
    },
    {
     "name": "stdout",
     "output_type": "stream",
     "text": [
      "epoch: 5, [batch: 4411 / 6302], examples_per_second: 3621.0424, train_label_loss: 0.0000, \n"
     ]
    },
    {
     "name": "stdout",
     "output_type": "stream",
     "text": [
      "epoch: 5, [batch: 5041 / 6302], examples_per_second: 3647.3667, train_label_loss: 0.0009, \n"
     ]
    },
    {
     "name": "stdout",
     "output_type": "stream",
     "text": [
      "epoch: 5, [batch: 5671 / 6302], examples_per_second: 3652.6270, train_label_loss: 0.0001, \n"
     ]
    },
    {
     "name": "stdout",
     "output_type": "stream",
     "text": [
      "=============================================================\n",
      "epoch: 5, source_val_acc_label: 0.9994, target_val_acc_label: 0.4523, source_val_label_loss: 0.0048, target_val_label_loss: 1.7038, \n",
      "=============================================================\n"
     ]
    },
    {
     "name": "stdout",
     "output_type": "stream",
     "text": [
      "Patience (3) exhausted\n"
     ]
    }
   ],
   "source": [
    "###################################\n",
    "# train\n",
    "###################################\n",
    "jig = PTN_Train_Eval_Test_Jig(model, p.BEST_MODEL_PATH, p.device)\n",
    "\n",
    "jig.train(\n",
    "    train_iterable=datasets.source.processed.train,\n",
    "    source_val_iterable=datasets.source.processed.val,\n",
    "    target_val_iterable=datasets.target.processed.val,\n",
    "    num_epochs=p.n_epoch,\n",
    "    num_logs_per_epoch=p.NUM_LOGS_PER_EPOCH,\n",
    "    patience=p.patience,\n",
    "    optimizer=optimizer,\n",
    "    criteria_for_best=p.criteria_for_best,\n",
    ")"
   ]
  },
  {
   "cell_type": "code",
   "execution_count": 23,
   "id": "31e8fabf",
   "metadata": {
    "execution": {
     "iopub.execute_input": "2022-03-25T07:24:41.686644Z",
     "iopub.status.busy": "2022-03-25T07:24:41.686392Z",
     "iopub.status.idle": "2022-03-25T07:24:41.704175Z",
     "shell.execute_reply": "2022-03-25T07:24:41.704528Z"
    },
    "papermill": {
     "duration": 0.045862,
     "end_time": "2022-03-25T07:24:41.704634",
     "exception": false,
     "start_time": "2022-03-25T07:24:41.658772",
     "status": "completed"
    },
    "tags": []
   },
   "outputs": [],
   "source": [
    "total_experiment_time_secs = time.time() - start_time_secs"
   ]
  },
  {
   "cell_type": "code",
   "execution_count": 24,
   "id": "87b9595b",
   "metadata": {
    "execution": {
     "iopub.execute_input": "2022-03-25T07:24:41.763876Z",
     "iopub.status.busy": "2022-03-25T07:24:41.763612Z",
     "iopub.status.idle": "2022-03-25T07:26:12.344550Z",
     "shell.execute_reply": "2022-03-25T07:26:12.344980Z"
    },
    "papermill": {
     "duration": 90.611469,
     "end_time": "2022-03-25T07:26:12.345117",
     "exception": false,
     "start_time": "2022-03-25T07:24:41.733648",
     "status": "completed"
    },
    "tags": []
   },
   "outputs": [],
   "source": [
    "###################################\n",
    "# Evaluate the model\n",
    "###################################\n",
    "source_test_label_accuracy, source_test_label_loss = jig.test(datasets.source.processed.test)\n",
    "target_test_label_accuracy, target_test_label_loss = jig.test(datasets.target.processed.test)\n",
    "\n",
    "source_val_label_accuracy, source_val_label_loss = jig.test(datasets.source.processed.val)\n",
    "target_val_label_accuracy, target_val_label_loss = jig.test(datasets.target.processed.val)\n",
    "\n",
    "history = jig.get_history()\n",
    "\n",
    "total_epochs_trained = len(history[\"epoch_indices\"])\n",
    "\n",
    "val_dl = Iterable_Aggregator((datasets.source.original.val,datasets.target.original.val))\n",
    "\n",
    "confusion = ptn_confusion_by_domain_over_dataloader(model, p.device, val_dl)\n",
    "per_domain_accuracy = per_domain_accuracy_from_confusion(confusion)\n",
    "\n",
    "# Add a key to per_domain_accuracy for if it was a source domain\n",
    "for domain, accuracy in per_domain_accuracy.items():\n",
    "    per_domain_accuracy[domain] = {\n",
    "        \"accuracy\": accuracy,\n",
    "        \"source?\": domain in p.domains_source\n",
    "    }\n",
    "\n",
    "# Do an independent accuracy assesment JUST TO BE SURE!\n",
    "# _source_test_label_accuracy = independent_accuracy_assesment(model, datasets.source.processed.test, p.device)\n",
    "# _target_test_label_accuracy = independent_accuracy_assesment(model, datasets.target.processed.test, p.device)\n",
    "# _source_val_label_accuracy = independent_accuracy_assesment(model, datasets.source.processed.val, p.device)\n",
    "# _target_val_label_accuracy = independent_accuracy_assesment(model, datasets.target.processed.val, p.device)\n",
    "\n",
    "# assert(_source_test_label_accuracy == source_test_label_accuracy)\n",
    "# assert(_target_test_label_accuracy == target_test_label_accuracy)\n",
    "# assert(_source_val_label_accuracy == source_val_label_accuracy)\n",
    "# assert(_target_val_label_accuracy == target_val_label_accuracy)\n",
    "\n",
    "experiment = {\n",
    "    \"experiment_name\": p.experiment_name,\n",
    "    \"parameters\": dict(p),\n",
    "    \"results\": {\n",
    "        \"source_test_label_accuracy\": source_test_label_accuracy,\n",
    "        \"source_test_label_loss\": source_test_label_loss,\n",
    "        \"target_test_label_accuracy\": target_test_label_accuracy,\n",
    "        \"target_test_label_loss\": target_test_label_loss,\n",
    "        \"source_val_label_accuracy\": source_val_label_accuracy,\n",
    "        \"source_val_label_loss\": source_val_label_loss,\n",
    "        \"target_val_label_accuracy\": target_val_label_accuracy,\n",
    "        \"target_val_label_loss\": target_val_label_loss,\n",
    "        \"total_epochs_trained\": total_epochs_trained,\n",
    "        \"total_experiment_time_secs\": total_experiment_time_secs,\n",
    "        \"confusion\": confusion,\n",
    "        \"per_domain_accuracy\": per_domain_accuracy,\n",
    "    },\n",
    "    \"history\": history,\n",
    "    \"dataset_metrics\": get_dataset_metrics(datasets, \"ptn\"),\n",
    "}"
   ]
  },
  {
   "cell_type": "code",
   "execution_count": 25,
   "id": "54a21829",
   "metadata": {
    "execution": {
     "iopub.execute_input": "2022-03-25T07:26:12.400967Z",
     "iopub.status.busy": "2022-03-25T07:26:12.400709Z",
     "iopub.status.idle": "2022-03-25T07:26:12.529193Z",
     "shell.execute_reply": "2022-03-25T07:26:12.529550Z"
    },
    "papermill": {
     "duration": 0.15541,
     "end_time": "2022-03-25T07:26:12.529663",
     "exception": false,
     "start_time": "2022-03-25T07:26:12.374253",
     "status": "completed"
    },
    "tags": []
   },
   "outputs": [
    {
     "data": {
      "image/png": "[encoded data removed]",
      "text/plain": [
       "<Figure size 1080x504 with 1 Axes>"
      ]
     },
     "metadata": {
      "needs_background": "light"
     },
     "output_type": "display_data"
    }
   ],
   "source": [
    "ax = get_loss_curve(experiment)\n",
    "plt.show()"
   ]
  },
  {
   "cell_type": "code",
   "execution_count": 26,
   "id": "fd8a0f60",
   "metadata": {
    "execution": {
     "iopub.execute_input": "2022-03-25T07:26:12.586043Z",
     "iopub.status.busy": "2022-03-25T07:26:12.585786Z",
     "iopub.status.idle": "2022-03-25T07:26:12.729065Z",
     "shell.execute_reply": "2022-03-25T07:26:12.729376Z"
    },
    "papermill": {
     "duration": 0.170549,
     "end_time": "2022-03-25T07:26:12.729468",
     "exception": false,
     "start_time": "2022-03-25T07:26:12.558919",
     "status": "completed"
    },
    "tags": []
   },
   "outputs": [
    {
     "data": {
      "text/plain": [
       "<AxesSubplot:title={'center':'Results'}>"
      ]
     },
     "execution_count": 26,
     "metadata": {},
     "output_type": "execute_result"
    },
    {
     "data": {
      "image/png": "[encoded data removed]",
      "text/plain": [
       "<Figure size 1080x504 with 1 Axes>"
      ]
     },
     "metadata": {
      "needs_background": "light"
     },
     "output_type": "display_data"
    }
   ],
   "source": [
    "get_results_table(experiment)"
   ]
  },
  {
   "cell_type": "code",
   "execution_count": 27,
   "id": "cf8dc689",
   "metadata": {
    "execution": {
     "iopub.execute_input": "2022-03-25T07:26:12.789360Z",
     "iopub.status.busy": "2022-03-25T07:26:12.789110Z",
     "iopub.status.idle": "2022-03-25T07:26:12.925276Z",
     "shell.execute_reply": "2022-03-25T07:26:12.924903Z"
    },
    "papermill": {
     "duration": 0.165627,
     "end_time": "2022-03-25T07:26:12.925371",
     "exception": false,
     "start_time": "2022-03-25T07:26:12.759744",
     "status": "completed"
    },
    "tags": []
   },
   "outputs": [
    {
     "data": {
      "text/plain": [
       "<AxesSubplot:title={'center':'Per Domain Validation Accuracy'}, xlabel='domain'>"
      ]
     },
     "execution_count": 27,
     "metadata": {},
     "output_type": "execute_result"
    },
    {
     "data": {
      "image/png": "[encoded data removed]",
      "text/plain": [
       "<Figure size 1080x504 with 1 Axes>"
      ]
     },
     "metadata": {
      "needs_background": "light"
     },
     "output_type": "display_data"
    }
   ],
   "source": [
    "get_domain_accuracies(experiment)"
   ]
  },
  {
   "cell_type": "code",
   "execution_count": 28,
   "id": "a74ae082",
   "metadata": {
    "execution": {
     "iopub.execute_input": "2022-03-25T07:26:12.986987Z",
     "iopub.status.busy": "2022-03-25T07:26:12.986731Z",
     "iopub.status.idle": "2022-03-25T07:26:13.003230Z",
     "shell.execute_reply": "2022-03-25T07:26:13.002835Z"
    },
    "papermill": {
     "duration": 0.046508,
     "end_time": "2022-03-25T07:26:13.003321",
     "exception": false,
     "start_time": "2022-03-25T07:26:12.956813",
     "status": "completed"
    },
    "tags": []
   },
   "outputs": [
    {
     "name": "stdout",
     "output_type": "stream",
     "text": [
      "Source Test Label Accuracy: 0.9989817415730337 Target Test Label Accuracy: 0.5052408854166667\n",
      "Source Val Label Accuracy: 0.9985 Target Val Label Accuracy: 0.5013671875\n"
     ]
    }
   ],
   "source": [
    "print(\"Source Test Label Accuracy:\", experiment[\"results\"][\"source_test_label_accuracy\"], \"Target Test Label Accuracy:\", experiment[\"results\"][\"target_test_label_accuracy\"])\n",
    "print(\"Source Val Label Accuracy:\", experiment[\"results\"][\"source_val_label_accuracy\"], \"Target Val Label Accuracy:\", experiment[\"results\"][\"target_val_label_accuracy\"])"
   ]
  },
  {
   "cell_type": "code",
   "execution_count": 29,
   "id": "dacca602",
   "metadata": {
    "execution": {
     "iopub.execute_input": "2022-03-25T07:26:13.064205Z",
     "iopub.status.busy": "2022-03-25T07:26:13.063952Z",
     "iopub.status.idle": "2022-03-25T07:26:13.079869Z",
     "shell.execute_reply": "2022-03-25T07:26:13.080239Z"
    },
    "papermill": {
     "duration": 0.046098,
     "end_time": "2022-03-25T07:26:13.080344",
     "exception": false,
     "start_time": "2022-03-25T07:26:13.034246",
     "status": "completed"
    },
    "tags": [
     "experiment_json"
    ]
   },
   "outputs": [
    {
     "data": {
      "text/plain": [
       "'{\"experiment_name\": \"tl_3Av2:cores -> oracle.run1.framed\", \"parameters\": {\"experiment_name\": \"tl_3Av2:cores -> oracle.run1.framed\", \"device\": \"cuda\", \"lr\": 0.0001, \"x_shape\": [2, 200], \"n_shot\": 3, \"n_query\": 2, \"train_k_factor\": 3, \"val_k_factor\": 2, \"test_k_factor\": 2, \"torch_default_dtype\": \"torch.float32\", \"n_epoch\": 50, \"patience\": 3, \"criteria_for_best\": \"target_accuracy\", \"x_net\": [{\"class\": \"nnReshape\", \"kargs\": {\"shape\": [-1, 1, 2, 200]}}, {\"class\": \"Conv2d\", \"kargs\": {\"in_channels\": 1, \"out_channels\": 256, \"kernel_size\": [1, 7], \"bias\": false, \"padding\": [0, 3]}}, {\"class\": \"ReLU\", \"kargs\": {\"inplace\": true}}, {\"class\": \"BatchNorm2d\", \"kargs\": {\"num_features\": 256}}, {\"class\": \"Conv2d\", \"kargs\": {\"in_channels\": 256, \"out_channels\": 80, \"kernel_size\": [2, 7], \"bias\": true, \"padding\": [0, 3]}}, {\"class\": \"ReLU\", \"kargs\": {\"inplace\": true}}, {\"class\": \"BatchNorm2d\", \"kargs\": {\"num_features\": 80}}, {\"class\": \"Flatten\", \"kargs\": {}}, {\"class\": \"Linear\", \"kargs\": {\"in_features\": 16000, \"out_features\": 256}}, {\"class\": \"ReLU\", \"kargs\": {\"inplace\": true}}, {\"class\": \"BatchNorm1d\", \"kargs\": {\"num_features\": 256}}, {\"class\": \"Linear\", \"kargs\": {\"in_features\": 256, \"out_features\": 256}}], \"NUM_LOGS_PER_EPOCH\": 10, \"BEST_MODEL_PATH\": \"./best_model.pth\", \"n_way\": 16, \"datasets\": [{\"labels\": [\"1-10.\", \"1-11.\", \"1-15.\", \"1-16.\", \"1-17.\", \"1-18.\", \"1-19.\", \"10-4.\", \"10-7.\", \"11-1.\", \"11-14.\", \"11-17.\", \"11-20.\", \"11-7.\", \"13-20.\", \"13-8.\", \"14-10.\", \"14-11.\", \"14-14.\", \"14-7.\", \"15-1.\", \"15-20.\", \"16-1.\", \"16-16.\", \"17-10.\", \"17-11.\", \"17-2.\", \"19-1.\", \"19-16.\", \"19-19.\", \"19-20.\", \"19-3.\", \"2-10.\", \"2-11.\", \"2-17.\", \"2-18.\", \"2-20.\", \"2-3.\", \"2-4.\", \"2-5.\", \"2-6.\", \"2-7.\", \"2-8.\", \"3-13.\", \"3-18.\", \"3-3.\", \"4-1.\", \"4-10.\", \"4-11.\", \"4-19.\", \"5-5.\", \"6-15.\", \"7-10.\", \"7-14.\", \"8-18.\", \"8-20.\", \"8-3.\", \"8-8.\"], \"domains\": [1, 2, 3, 4, 5], \"num_examples_per_domain_per_label\": -1, \"pickle_path\": \"/mnt/wd500GB/CSC500/csc500-main/datasets/cores.stratified_ds.2022A.pkl\", \"source_or_target_dataset\": \"source\", \"x_transforms\": [\"take_200\"], \"episode_transforms\": [], \"domain_prefix\": \"C_\"}, {\"labels\": [\"3123D52\", \"3123D65\", \"3123D79\", \"3123D80\", \"3123D54\", \"3123D70\", \"3123D7B\", \"3123D89\", \"3123D58\", \"3123D76\", \"3123D7D\", \"3123EFE\", \"3123D64\", \"3123D78\", \"3123D7E\", \"3124E4A\"], \"domains\": [32, 38, 8, 44, 14, 50, 20, 26], \"num_examples_per_domain_per_label\": 2000, \"pickle_path\": \"/mnt/wd500GB/CSC500/csc500-main/datasets/oracle.Run1_framed_2000Examples_stratified_ds.2022A.pkl\", \"source_or_target_dataset\": \"target\", \"x_transforms\": [\"take_200\", \"resample_20Msps_to_25Msps\"], \"episode_transforms\": [], \"domain_prefix\": \"O_\"}], \"seed\": 500, \"dataset_seed\": 500, \"domains_source\": [\"C_1\", \"C_2\", \"C_3\", \"C_4\", \"C_5\"], \"domains_target\": [\"O_32\", \"O_38\", \"O_8\", \"O_44\", \"O_14\", \"O_50\", \"O_20\", \"O_26\"]}, \"results\": {\"source_test_label_accuracy\": 0.9989817415730337, \"source_test_label_loss\": 0.006768313702195883, \"target_test_label_accuracy\": 0.5052408854166667, \"target_test_label_loss\": 1.8431142568588257, \"source_val_label_accuracy\": 0.9985, \"source_val_label_loss\": 0.008301439695060253, \"target_val_label_accuracy\": 0.5013671875, \"target_val_label_loss\": 1.8442752361297607, \"total_epochs_trained\": 5, \"total_experiment_time_secs\": 792.9951369762421, \"confusion\": {\"C_4\": {\"38\": {\"38\": 40}, \"3\": {\"3\": 124}, \"24\": {\"24\": 56}, \"49\": {\"49\": 20}, \"7\": {\"7\": 24}, \"17\": {\"17\": 80}, \"43\": {\"43\": 148}, \"30\": {\"30\": 44}, \"44\": {\"44\": 132}, \"23\": {\"23\": 144}, \"37\": {\"37\": 24}, \"4\": {\"4\": 132}, \"57\": {\"57\": 100}, \"16\": {\"16\": 95, \"23\": 1}, \"18\": {\"18\": 107, \"20\": 1}, \"20\": {\"20\": 124}, \"45\": {\"45\": 96}, \"15\": {\"15\": 131, \"11\": 1}, \"52\": {\"52\": 116}, \"19\": {\"19\": 140}, \"54\": {\"54\": 108}, \"56\": {\"56\": 130}, \"40\": {\"40\": 134}, \"28\": {\"28\": 31, \"34\": 1}, \"2\": {\"2\": 36}, \"9\": {\"9\": 120}, \"0\": {\"0\": 80}, \"36\": {\"36\": 92}, \"55\": {\"55\": 130}, \"35\": {\"35\": 40}, \"39\": {\"39\": 20}, \"31\": {\"31\": 28}, \"14\": {\"14\": 13, \"38\": 1, \"1\": 1, \"57\": 1}, \"12\": {\"12\": 92}, \"6\": {\"6\": 112}, \"26\": {\"26\": 22, \"54\": 1, \"55\": 1}, \"50\": {\"50\": 130, \"6\": 1, \"3\": 1}, \"21\": {\"21\": 122}, \"46\": {\"46\": 140}, \"51\": {\"51\": 140}, \"41\": {\"41\": 36}, \"34\": {\"34\": 23, \"28\": 1}, \"47\": {\"47\": 120}, \"5\": {\"5\": 108}, \"1\": {\"1\": 40}, \"48\": {\"48\": 134}, \"29\": {\"29\": 118}, \"22\": {\"22\": 128}, \"10\": {\"10\": 132}, \"32\": {\"32\": 24}, \"13\": {\"13\": 112}, \"42\": {\"42\": 32}, \"27\": {\"27\": 138}, \"8\": {\"8\": 142}, \"33\": {\"33\": 36}, \"25\": {\"25\": 131, \"18\": 1}, \"11\": {\"11\": 104}, \"53\": {\"53\": 112}}, \"C_2\": {\"32\": {\"32\": 28}, \"17\": {\"17\": 104}, \"38\": {\"38\": 20}, \"2\": {\"2\": 32}, \"43\": {\"43\": 144}, \"56\": {\"56\": 144}, \"37\": {\"37\": 36}, \"49\": {\"49\": 24}, \"0\": {\"0\": 48}, \"29\": {\"29\": 128}, \"35\": {\"35\": 32}, \"18\": {\"18\": 48}, \"25\": {\"25\": 136}, \"23\": {\"23\": 124}, \"15\": {\"15\": 146}, \"21\": {\"21\": 120}, \"51\": {\"51\": 128}, \"20\": {\"20\": 138}, \"7\": {\"7\": 36}, \"50\": {\"50\": 136}, \"31\": {\"31\": 28}, \"30\": {\"30\": 140}, \"19\": {\"19\": 156}, \"9\": {\"9\": 144}, \"52\": {\"52\": 124}, \"45\": {\"45\": 128}, \"8\": {\"8\": 154}, \"55\": {\"55\": 160}, \"12\": {\"12\": 92}, \"40\": {\"40\": 139, \"29\": 1}, \"28\": {\"28\": 28}, \"36\": {\"36\": 116}, \"39\": {\"39\": 28}, \"46\": {\"46\": 122}, \"14\": {\"14\": 20, \"57\": 3, \"0\": 1}, \"57\": {\"57\": 142}, \"34\": {\"34\": 28}, \"1\": {\"1\": 112}, \"53\": {\"53\": 136}, \"48\": {\"48\": 130}, \"3\": {\"3\": 92}, \"16\": {\"16\": 151, \"15\": 1}, \"6\": {\"6\": 124}, \"10\": {\"10\": 112}, \"13\": {\"13\": 116}, \"26\": {\"26\": 24}, \"24\": {\"24\": 95, \"13\": 1}, \"44\": {\"44\": 100}, \"27\": {\"27\": 150}, \"22\": {\"22\": 128}, \"33\": {\"33\": 28}, \"47\": {\"47\": 118}, \"5\": {\"5\": 120}, \"4\": {\"4\": 138}, \"41\": {\"41\": 20}, \"11\": {\"11\": 150}, \"54\": {\"54\": 108}, \"42\": {\"42\": 36}}, \"C_3\": {\"5\": {\"5\": 116}, \"32\": {\"32\": 28}, \"33\": {\"33\": 28}, \"49\": {\"49\": 20}, \"39\": {\"39\": 16}, \"11\": {\"11\": 142}, \"8\": {\"8\": 116}, \"26\": {\"26\": 24}, \"51\": {\"51\": 122}, \"4\": {\"4\": 146}, \"52\": {\"52\": 118}, \"47\": {\"47\": 92}, \"17\": {\"17\": 105, \"53\": 2, \"24\": 1}, \"53\": {\"53\": 136}, \"2\": {\"2\": 32}, \"12\": {\"12\": 92}, \"37\": {\"37\": 28}, \"9\": {\"9\": 148}, \"13\": {\"13\": 128}, \"54\": {\"54\": 99, \"32\": 1}, \"31\": {\"31\": 28}, \"34\": {\"34\": 32}, \"24\": {\"24\": 104}, \"7\": {\"7\": 36}, \"50\": {\"50\": 116, \"46\": 1, \"3\": 1}, \"46\": {\"46\": 127, \"21\": 1}, \"44\": {\"44\": 88}, \"40\": {\"40\": 116}, \"21\": {\"21\": 127, \"50\": 1}, \"45\": {\"45\": 60}, \"16\": {\"16\": 126}, \"14\": {\"14\": 40}, \"36\": {\"36\": 100}, \"56\": {\"56\": 114}, \"10\": {\"10\": 64}, \"18\": {\"18\": 84}, \"48\": {\"48\": 115, \"41\": 1}, \"38\": {\"38\": 28}, \"27\": {\"27\": 130}, \"42\": {\"42\": 28}, \"15\": {\"15\": 133, \"18\": 1}, \"1\": {\"1\": 100}, \"28\": {\"28\": 28}, \"43\": {\"43\": 136}, \"0\": {\"0\": 124}, \"57\": {\"57\": 124}, \"3\": {\"3\": 148}, \"29\": {\"29\": 124}, \"41\": {\"41\": 26, \"48\": 2}, \"25\": {\"25\": 146}, \"6\": {\"6\": 87, \"46\": 1}, \"35\": {\"35\": 28}, \"20\": {\"20\": 126}, \"23\": {\"23\": 134}, \"22\": {\"22\": 140}, \"19\": {\"19\": 116}, \"55\": {\"55\": 124}, \"30\": {\"30\": 120}}, \"C_1\": {\"24\": {\"24\": 108}, \"25\": {\"25\": 140}, \"45\": {\"45\": 142, \"57\": 1, \"56\": 1}, \"42\": {\"42\": 40}, \"2\": {\"2\": 36}, \"9\": {\"9\": 150}, \"21\": {\"21\": 124}, \"26\": {\"26\": 24}, \"49\": {\"49\": 32}, \"39\": {\"39\": 28}, \"46\": {\"46\": 136}, \"17\": {\"17\": 64}, \"19\": {\"19\": 156}, \"23\": {\"23\": 132}, \"1\": {\"1\": 100}, \"29\": {\"29\": 140}, \"56\": {\"56\": 150}, \"37\": {\"37\": 32}, \"33\": {\"33\": 32}, \"55\": {\"55\": 142}, \"30\": {\"30\": 120}, \"0\": {\"0\": 152}, \"36\": {\"36\": 64}, \"32\": {\"32\": 32}, \"31\": {\"31\": 28}, \"15\": {\"15\": 138}, \"12\": {\"12\": 116}, \"38\": {\"38\": 24}, \"40\": {\"40\": 146}, \"14\": {\"14\": 23, \"30\": 1}, \"13\": {\"13\": 150}, \"48\": {\"48\": 148}, \"34\": {\"34\": 24}, \"44\": {\"44\": 130}, \"5\": {\"5\": 152}, \"11\": {\"11\": 140}, \"7\": {\"7\": 28}, \"18\": {\"18\": 72}, \"52\": {\"52\": 132}, \"51\": {\"51\": 142}, \"41\": {\"41\": 24}, \"16\": {\"16\": 140}, \"22\": {\"22\": 134}, \"3\": {\"3\": 140}, \"54\": {\"54\": 104}, \"27\": {\"27\": 144}, \"20\": {\"20\": 140}, \"8\": {\"8\": 138}, \"50\": {\"50\": 144}, \"57\": {\"57\": 140}, \"4\": {\"4\": 132}, \"47\": {\"47\": 146}, \"10\": {\"10\": 96}, \"35\": {\"35\": 36}, \"53\": {\"53\": 126}, \"6\": {\"6\": 96}, \"43\": {\"43\": 140}, \"28\": {\"28\": 28}}, \"C_5\": {\"35\": {\"35\": 36}, \"57\": {\"57\": 132}, \"20\": {\"20\": 143, \"30\": 1}, \"12\": {\"12\": 95, \"6\": 1}, \"32\": {\"32\": 32}, \"25\": {\"25\": 138}, \"44\": {\"44\": 147, \"56\": 1}, \"31\": {\"31\": 36}, \"11\": {\"11\": 150}, \"47\": {\"47\": 100}, \"23\": {\"23\": 124}, \"43\": {\"43\": 144}, \"37\": {\"37\": 24}, \"5\": {\"5\": 128}, \"45\": {\"45\": 124}, \"7\": {\"7\": 32}, \"13\": {\"13\": 136}, \"49\": {\"49\": 36}, \"46\": {\"46\": 148}, \"16\": {\"16\": 136}, \"54\": {\"54\": 112}, \"19\": {\"19\": 152}, \"55\": {\"55\": 150}, \"30\": {\"30\": 128}, \"34\": {\"34\": 36}, \"50\": {\"50\": 134}, \"3\": {\"3\": 100}, \"10\": {\"10\": 68}, \"27\": {\"27\": 142}, \"33\": {\"33\": 32}, \"56\": {\"56\": 142}, \"9\": {\"9\": 150}, \"14\": {\"14\": 42, \"47\": 2}, \"4\": {\"4\": 100}, \"42\": {\"42\": 40}, \"24\": {\"24\": 80}, \"39\": {\"39\": 20}, \"52\": {\"52\": 130}, \"2\": {\"2\": 28}, \"28\": {\"28\": 32}, \"53\": {\"53\": 122}, \"17\": {\"17\": 116}, \"29\": {\"29\": 132}, \"38\": {\"38\": 32}, \"15\": {\"15\": 144}, \"26\": {\"26\": 23, \"55\": 1}, \"21\": {\"21\": 144}, \"41\": {\"41\": 28}, \"48\": {\"48\": 136}, \"22\": {\"22\": 28}, \"8\": {\"8\": 148}, \"18\": {\"18\": 64}, \"0\": {\"0\": 122}, \"1\": {\"1\": 138}, \"40\": {\"40\": 124}, \"6\": {\"6\": 128}, \"51\": {\"51\": 142}, \"36\": {\"36\": 92}}, \"O_50\": {\"7\": {\"15\": 2, \"5\": 34, \"7\": 122, \"4\": 79, \"3\": 1, \"6\": 1, \"9\": 1}, \"10\": {\"10\": 137, \"0\": 50, \"8\": 34, \"1\": 17, \"2\": 2}, \"0\": {\"14\": 22, \"0\": 109, \"2\": 57, \"10\": 50, \"8\": 2}, \"11\": {\"13\": 18, \"11\": 129, \"9\": 22, \"15\": 20, \"12\": 28, \"6\": 21, \"5\": 1, \"1\": 1}, \"2\": {\"2\": 123, \"14\": 55, \"0\": 58, \"10\": 4}, \"14\": {\"2\": 54, \"14\": 147, \"0\": 37, \"10\": 1, \"1\": 1}, \"9\": {\"12\": 39, \"15\": 37, \"9\": 104, \"6\": 23, \"4\": 6, \"11\": 19, \"5\": 12}, \"13\": {\"13\": 161, \"8\": 9, \"1\": 46, \"3\": 4, \"11\": 15, \"5\": 4, \"15\": 1}, \"8\": {\"8\": 163, \"10\": 39, \"1\": 24, \"13\": 12, \"0\": 2}, \"15\": {\"11\": 17, \"15\": 86, \"6\": 63, \"9\": 27, \"5\": 39, \"4\": 3, \"7\": 2, \"3\": 2, \"13\": 1}, \"4\": {\"4\": 119, \"7\": 79, \"9\": 6, \"5\": 27, \"3\": 1, \"6\": 2, \"15\": 6}, \"5\": {\"15\": 36, \"5\": 75, \"7\": 46, \"4\": 30, \"11\": 3, \"3\": 13, \"9\": 3, \"13\": 8, \"6\": 25, \"1\": 1}, \"3\": {\"5\": 16, \"3\": 193, \"13\": 3, \"6\": 16, \"11\": 5, \"12\": 4, \"15\": 3}, \"1\": {\"10\": 23, \"1\": 142, \"11\": 9, \"8\": 15, \"13\": 47, \"0\": 2, \"2\": 1, \"6\": 1}, \"6\": {\"9\": 33, \"5\": 25, \"11\": 25, \"15\": 68, \"6\": 69, \"12\": 3, \"13\": 2, \"4\": 3, \"3\": 10, \"7\": 2}, \"12\": {\"12\": 158, \"9\": 59, \"11\": 12, \"15\": 3, \"6\": 8}}, \"O_14\": {\"14\": {\"2\": 39, \"6\": 37, \"3\": 14, \"0\": 33, \"14\": 78, \"13\": 32, \"5\": 7}, \"6\": {\"6\": 107, \"13\": 67, \"14\": 24, \"2\": 12, \"0\": 7, \"3\": 23}, \"5\": {\"7\": 9, \"5\": 67, \"4\": 32, \"2\": 43, \"8\": 23, \"3\": 9, \"0\": 15, \"14\": 33, \"13\": 2, \"12\": 6, \"10\": 1}, \"15\": {\"15\": 240}, \"11\": {\"11\": 239, \"1\": 1}, \"8\": {\"8\": 168, \"7\": 36, \"3\": 14, \"5\": 10, \"12\": 5, \"0\": 5, \"4\": 1, \"14\": 1}, \"12\": {\"12\": 172, \"0\": 41, \"4\": 5, \"8\": 5, \"9\": 4, \"5\": 4, \"2\": 3, \"10\": 2, \"3\": 3, \"14\": 1}, \"1\": {\"1\": 201, \"9\": 26, \"4\": 8, \"10\": 5}, \"2\": {\"3\": 27, \"2\": 48, \"14\": 44, \"4\": 37, \"13\": 10, \"5\": 32, \"6\": 16, \"0\": 15, \"10\": 3, \"7\": 7, \"12\": 1}, \"13\": {\"2\": 25, \"13\": 44, \"6\": 84, \"3\": 9, \"14\": 37, \"15\": 15, \"10\": 7, \"0\": 11, \"4\": 3, \"12\": 1, \"5\": 4}, \"3\": {\"0\": 30, \"13\": 18, \"3\": 104, \"5\": 9, \"7\": 19, \"6\": 43, \"2\": 9, \"14\": 5, \"8\": 3}, \"0\": {\"2\": 28, \"0\": 54, \"14\": 33, \"4\": 15, \"6\": 24, \"3\": 42, \"5\": 21, \"8\": 4, \"12\": 9, \"13\": 9, \"7\": 1}, \"9\": {\"10\": 33, \"9\": 157, \"1\": 42, \"4\": 8}, \"4\": {\"4\": 142, \"2\": 28, \"10\": 19, \"0\": 4, \"8\": 3, \"5\": 18, \"1\": 7, \"9\": 7, \"13\": 1, \"12\": 7, \"14\": 4}, \"7\": {\"8\": 28, \"7\": 138, \"5\": 31, \"6\": 3, \"3\": 32, \"2\": 5, \"13\": 1, \"14\": 2}, \"10\": {\"9\": 37, \"10\": 163, \"2\": 6, \"0\": 5, \"4\": 18, \"13\": 7, \"14\": 2, \"12\": 1, \"1\": 1}}, \"O_32\": {\"4\": {\"2\": 68, \"13\": 25, \"14\": 5, \"4\": 109, \"3\": 24, \"8\": 2, \"9\": 6, \"0\": 1}, \"14\": {\"7\": 63, \"2\": 30, \"14\": 71, \"0\": 28, \"5\": 24, \"8\": 17, \"4\": 7}, \"5\": {\"5\": 89, \"7\": 50, \"8\": 19, \"14\": 31, \"2\": 6, \"0\": 39, \"15\": 5, \"4\": 1}, \"10\": {\"10\": 221, \"12\": 15, \"6\": 4}, \"13\": {\"9\": 7, \"3\": 70, \"11\": 28, \"4\": 35, \"13\": 91, \"2\": 6, \"8\": 3}, \"9\": {\"12\": 28, \"9\": 128, \"4\": 22, \"3\": 4, \"1\": 1, \"11\": 16, \"2\": 6, \"13\": 34, \"8\": 1}, \"6\": {\"6\": 225, \"10\": 13, \"12\": 2}, \"3\": {\"13\": 68, \"3\": 138, \"4\": 23, \"2\": 5, \"8\": 4, \"9\": 1, \"11\": 1}, \"15\": {\"15\": 222, \"8\": 13, \"5\": 4, \"0\": 1}, \"7\": {\"7\": 89, \"0\": 36, \"14\": 61, \"8\": 8, \"5\": 44, \"2\": 2}, \"12\": {\"12\": 206, \"9\": 18, \"10\": 14, \"11\": 1, \"13\": 1}, \"8\": {\"8\": 108, \"15\": 7, \"2\": 14, \"0\": 48, \"4\": 5, \"14\": 19, \"5\": 27, \"7\": 8, \"3\": 4}, \"11\": {\"11\": 201, \"13\": 30, \"4\": 1, \"3\": 2, \"9\": 6}, \"2\": {\"8\": 10, \"4\": 74, \"2\": 105, \"3\": 7, \"9\": 1, \"14\": 24, \"5\": 2, \"13\": 6, \"7\": 3, \"0\": 8}, \"1\": {\"1\": 240}, \"0\": {\"8\": 42, \"7\": 31, \"5\": 48, \"14\": 40, \"15\": 5, \"2\": 6, \"0\": 68}}, \"O_44\": {\"8\": {\"0\": 63, \"8\": 109, \"14\": 13, \"5\": 12, \"15\": 41, \"1\": 1, \"4\": 1}, \"11\": {\"11\": 237, \"13\": 3}, \"14\": {\"5\": 48, \"14\": 66, \"8\": 3, \"9\": 14, \"4\": 45, \"15\": 36, \"7\": 10, \"2\": 5, \"10\": 12, \"1\": 1}, \"10\": {\"7\": 65, \"10\": 80, \"2\": 13, \"9\": 35, \"1\": 4, \"4\": 26, \"14\": 14, \"15\": 1, \"5\": 1, \"6\": 1}, \"3\": {\"3\": 157, \"12\": 80, \"1\": 3}, \"15\": {\"5\": 31, \"0\": 17, \"8\": 40, \"14\": 30, \"15\": 107, \"2\": 3, \"1\": 3, \"4\": 6, \"7\": 1, \"10\": 1, \"9\": 1}, \"2\": {\"1\": 50, \"2\": 154, \"9\": 8, \"7\": 8, \"0\": 1, \"4\": 3, \"10\": 13, \"14\": 3}, \"12\": {\"12\": 141, \"3\": 97, \"1\": 1, \"2\": 1}, \"4\": {\"5\": 29, \"0\": 2, \"4\": 54, \"15\": 20, \"9\": 31, \"10\": 8, \"1\": 5, \"14\": 48, \"2\": 13, \"13\": 3, \"8\": 2, \"7\": 21, \"6\": 4}, \"1\": {\"1\": 158, \"0\": 13, \"12\": 1, \"2\": 47, \"8\": 8, \"15\": 3, \"7\": 1, \"10\": 3, \"14\": 4, \"3\": 1, \"9\": 1}, \"0\": {\"0\": 135, \"15\": 21, \"8\": 72, \"3\": 2, \"1\": 7, \"14\": 2, \"2\": 1}, \"9\": {\"6\": 33, \"4\": 22, \"7\": 62, \"10\": 24, \"14\": 5, \"9\": 48, \"2\": 9, \"13\": 35, \"1\": 1, \"5\": 1}, \"5\": {\"5\": 74, \"14\": 71, \"4\": 38, \"15\": 26, \"8\": 9, \"9\": 8, \"0\": 1, \"2\": 2, \"1\": 2, \"7\": 9}, \"6\": {\"6\": 132, \"7\": 7, \"13\": 74, \"9\": 24, \"4\": 2, \"5\": 1}, \"7\": {\"7\": 98, \"10\": 47, \"9\": 51, \"4\": 18, \"6\": 4, \"14\": 12, \"5\": 3, \"13\": 4, \"2\": 3}, \"13\": {\"13\": 139, \"6\": 74, \"9\": 19, \"11\": 5, \"4\": 1, \"7\": 2}}, \"O_8\": {\"13\": {\"5\": 30, \"10\": 50, \"13\": 101, \"6\": 21, \"1\": 3, \"7\": 34, \"12\": 1}, \"3\": {\"3\": 217, \"2\": 21, \"9\": 2}, \"15\": {\"15\": 115, \"12\": 88, \"3\": 6, \"2\": 31}, \"4\": {\"14\": 49, \"6\": 21, \"11\": 24, \"1\": 19, \"4\": 97, \"8\": 20, \"10\": 4, \"7\": 1, \"5\": 5}, \"7\": {\"13\": 37, \"10\": 28, \"1\": 15, \"7\": 80, \"4\": 15, \"6\": 53, \"5\": 12}, \"2\": {\"2\": 130, \"15\": 43, \"12\": 21, \"3\": 46}, \"1\": {\"5\": 25, \"11\": 40, \"1\": 90, \"10\": 17, \"6\": 26, \"4\": 19, \"7\": 5, \"13\": 4, \"8\": 14}, \"0\": {\"0\": 235, \"14\": 5}, \"12\": {\"15\": 81, \"12\": 150, \"2\": 9}, \"6\": {\"10\": 38, \"5\": 19, \"6\": 64, \"1\": 25, \"7\": 45, \"4\": 33, \"11\": 5, \"13\": 10, \"8\": 1}, \"11\": {\"11\": 65, \"14\": 21, \"1\": 47, \"6\": 9, \"8\": 43, \"4\": 32, \"5\": 9, \"10\": 9, \"7\": 4, \"13\": 1}, \"9\": {\"9\": 239, \"3\": 1}, \"5\": {\"1\": 34, \"13\": 32, \"5\": 78, \"10\": 49, \"6\": 15, \"7\": 13, \"4\": 4, \"12\": 2, \"11\": 9, \"8\": 1, \"15\": 1, \"14\": 2}, \"10\": {\"4\": 8, \"13\": 34, \"6\": 42, \"7\": 27, \"10\": 68, \"5\": 47, \"1\": 13, \"12\": 1}, \"14\": {\"14\": 143, \"8\": 27, \"4\": 42, \"11\": 22, \"0\": 2, \"1\": 3, \"6\": 1}, \"8\": {\"8\": 97, \"4\": 39, \"1\": 24, \"11\": 42, \"14\": 35, \"7\": 1, \"6\": 2}}, \"O_20\": {\"6\": {\"10\": 9, \"12\": 9, \"6\": 60, \"2\": 18, \"14\": 36, \"4\": 26, \"5\": 5, \"7\": 23, \"1\": 3, \"8\": 14, \"15\": 9, \"13\": 16, \"9\": 9, \"3\": 3}, \"11\": {\"11\": 210, \"0\": 27, \"8\": 1, \"9\": 2}, \"5\": {\"12\": 16, \"3\": 25, \"1\": 27, \"13\": 5, \"2\": 18, \"9\": 28, \"15\": 24, \"14\": 18, \"5\": 25, \"7\": 16, \"8\": 31, \"6\": 3, \"0\": 2, \"4\": 2}, \"14\": {\"14\": 69, \"8\": 62, \"13\": 1, \"1\": 5, \"9\": 17, \"12\": 6, \"6\": 25, \"5\": 16, \"7\": 17, \"3\": 13, \"0\": 3, \"4\": 3, \"2\": 1, \"15\": 2}, \"2\": {\"13\": 46, \"6\": 18, \"2\": 37, \"15\": 25, \"4\": 4, \"7\": 25, \"12\": 24, \"14\": 8, \"9\": 18, \"1\": 15, \"8\": 1, \"5\": 12, \"10\": 1, \"3\": 6}, \"7\": {\"1\": 16, \"9\": 19, \"2\": 25, \"13\": 25, \"7\": 31, \"5\": 5, \"4\": 7, \"15\": 20, \"6\": 31, \"8\": 20, \"12\": 15, \"14\": 13, \"3\": 13}, \"3\": {\"14\": 21, \"1\": 28, \"3\": 30, \"9\": 28, \"7\": 20, \"5\": 25, \"0\": 11, \"8\": 51, \"2\": 7, \"12\": 5, \"13\": 3, \"15\": 8, \"6\": 3}, \"4\": {\"10\": 39, \"15\": 14, \"5\": 6, \"2\": 10, \"13\": 5, \"6\": 33, \"4\": 73, \"12\": 39, \"3\": 2, \"7\": 3, \"14\": 11, \"9\": 3, \"8\": 1, \"1\": 1}, \"9\": {\"15\": 19, \"14\": 19, \"9\": 33, \"12\": 10, \"3\": 36, \"8\": 19, \"2\": 10, \"7\": 23, \"5\": 23, \"1\": 27, \"4\": 2, \"6\": 11, \"13\": 8}, \"12\": {\"6\": 18, \"1\": 16, \"10\": 6, \"13\": 33, \"14\": 8, \"4\": 31, \"12\": 34, \"15\": 31, \"9\": 8, \"2\": 30, \"3\": 4, \"5\": 10, \"7\": 10, \"8\": 1}, \"0\": {\"0\": 162, \"11\": 28, \"3\": 20, \"8\": 15, \"5\": 5, \"7\": 1, \"1\": 4, \"14\": 2, \"9\": 3}, \"10\": {\"10\": 149, \"4\": 67, \"2\": 2, \"12\": 8, \"6\": 4, \"15\": 4, \"7\": 2, \"13\": 3, \"14\": 1}, \"8\": {\"8\": 69, \"14\": 43, \"0\": 10, \"5\": 18, \"1\": 14, \"6\": 8, \"9\": 25, \"3\": 37, \"7\": 7, \"12\": 4, \"15\": 4, \"2\": 1}, \"13\": {\"2\": 36, \"6\": 13, \"13\": 97, \"12\": 19, \"15\": 32, \"7\": 15, \"4\": 4, \"9\": 13, \"1\": 6, \"3\": 1, \"5\": 2, \"14\": 1, \"10\": 1}, \"1\": {\"2\": 15, \"5\": 29, \"14\": 14, \"1\": 32, \"8\": 17, \"9\": 29, \"3\": 34, \"15\": 36, \"7\": 9, \"12\": 14, \"13\": 8, \"0\": 3}, \"15\": {\"13\": 55, \"2\": 30, \"15\": 43, \"7\": 19, \"12\": 22, \"1\": 22, \"4\": 5, \"6\": 3, \"5\": 10, \"3\": 12, \"9\": 16, \"14\": 1, \"10\": 1, \"8\": 1}}, \"O_38\": {\"3\": {\"3\": 238, \"11\": 2}, \"8\": {\"8\": 60, \"12\": 7, \"5\": 63, \"9\": 16, \"7\": 36, \"2\": 21, \"15\": 29, \"13\": 3, \"14\": 4, \"0\": 1}, \"0\": {\"10\": 62, \"0\": 72, \"3\": 7, \"2\": 12, \"7\": 17, \"13\": 56, \"14\": 8, \"8\": 2, \"5\": 2, \"9\": 2}, \"2\": {\"7\": 26, \"2\": 130, \"14\": 37, \"9\": 17, \"8\": 14, \"13\": 7, \"5\": 7, \"0\": 2}, \"4\": {\"4\": 237, \"10\": 2, \"14\": 1}, \"7\": {\"14\": 46, \"5\": 9, \"7\": 134, \"2\": 34, \"9\": 4, \"8\": 8, \"13\": 2, \"0\": 2, \"10\": 1}, \"12\": {\"12\": 229, \"15\": 1, \"8\": 9, \"5\": 1}, \"6\": {\"6\": 120, \"1\": 118, \"15\": 2}, \"15\": {\"15\": 172, \"8\": 23, \"5\": 32, \"1\": 7, \"6\": 3, \"9\": 1, \"12\": 2}, \"11\": {\"11\": 235, \"3\": 5}, \"9\": {\"2\": 20, \"9\": 171, \"5\": 25, \"8\": 18, \"13\": 2, \"7\": 4}, \"14\": {\"14\": 154, \"7\": 35, \"4\": 7, \"2\": 29, \"13\": 4, \"10\": 3, \"0\": 5, \"5\": 1, \"12\": 1, \"8\": 1}, \"10\": {\"3\": 7, \"10\": 154, \"0\": 50, \"13\": 19, \"4\": 8, \"7\": 1, \"14\": 1}, \"5\": {\"5\": 85, \"8\": 58, \"7\": 21, \"15\": 38, \"2\": 12, \"9\": 23, \"13\": 1, \"14\": 2}, \"1\": {\"1\": 138, \"6\": 99, \"15\": 3}, \"13\": {\"13\": 137, \"14\": 7, \"0\": 51, \"2\": 19, \"10\": 25, \"7\": 1}}, \"O_26\": {\"5\": {\"5\": 84, \"15\": 72, \"14\": 3, \"6\": 33, \"11\": 24, \"1\": 20, \"10\": 2, \"0\": 1, \"2\": 1}, \"8\": {\"3\": 22, \"8\": 58, \"0\": 33, \"9\": 30, \"12\": 15, \"7\": 46, \"2\": 20, \"14\": 5, \"13\": 8, \"10\": 2, \"1\": 1}, \"4\": {\"4\": 208, \"7\": 5, \"3\": 18, \"12\": 1, \"13\": 6, \"8\": 2}, \"12\": {\"2\": 5, \"9\": 24, \"8\": 31, \"0\": 9, \"13\": 34, \"12\": 97, \"3\": 13, \"7\": 22, \"14\": 2, \"4\": 3}, \"6\": {\"11\": 6, \"6\": 56, \"5\": 33, \"15\": 71, \"14\": 12, \"1\": 34, \"10\": 23, \"0\": 5}, \"7\": {\"3\": 40, \"9\": 31, \"13\": 12, \"8\": 35, \"2\": 33, \"12\": 8, \"7\": 59, \"0\": 16, \"10\": 4, \"14\": 2}, \"10\": {\"1\": 35, \"0\": 43, \"2\": 9, \"5\": 5, \"14\": 40, \"10\": 61, \"8\": 6, \"15\": 20, \"6\": 21}, \"0\": {\"0\": 68, \"8\": 23, \"9\": 9, \"10\": 46, \"14\": 43, \"7\": 9, \"15\": 2, \"2\": 18, \"1\": 11, \"12\": 3, \"6\": 5, \"3\": 2, \"5\": 1}, \"15\": {\"6\": 50, \"11\": 6, \"2\": 8, \"5\": 49, \"15\": 83, \"0\": 5, \"1\": 17, \"14\": 9, \"10\": 12, \"9\": 1}, \"9\": {\"13\": 40, \"4\": 3, \"2\": 34, \"7\": 27, \"9\": 49, \"8\": 30, \"3\": 26, \"12\": 12, \"0\": 13, \"14\": 3, \"10\": 3}, \"11\": {\"11\": 186, \"15\": 13, \"6\": 17, \"5\": 22, \"0\": 1, \"1\": 1}, \"14\": {\"1\": 50, \"0\": 38, \"14\": 73, \"10\": 39, \"5\": 5, \"6\": 12, \"15\": 16, \"8\": 2, \"7\": 1, \"2\": 2, \"9\": 2}, \"2\": {\"2\": 62, \"10\": 5, \"8\": 27, \"13\": 22, \"0\": 31, \"9\": 40, \"5\": 1, \"7\": 29, \"14\": 2, \"3\": 16, \"12\": 3, \"15\": 1, \"6\": 1}, \"13\": {\"13\": 118, \"12\": 12, \"2\": 13, \"3\": 39, \"7\": 11, \"8\": 6, \"9\": 29, \"4\": 12}, \"3\": {\"8\": 17, \"12\": 6, \"13\": 42, \"3\": 74, \"9\": 34, \"7\": 34, \"0\": 3, \"4\": 12, \"2\": 18}, \"1\": {\"1\": 118, \"0\": 15, \"14\": 37, \"6\": 35, \"10\": 22, \"5\": 6, \"15\": 7}}}, \"per_domain_accuracy\": {\"C_4\": {\"accuracy\": 0.9975378787878788, \"source?\": true}, \"C_2\": {\"accuracy\": 0.9987710674157303, \"source?\": true}, \"C_3\": {\"accuracy\": 0.9975818452380952, \"source?\": true}, \"C_1\": {\"accuracy\": 0.9994932432432433, \"source?\": true}, \"C_5\": {\"accuracy\": 0.9989525139664804, \"source?\": true}, \"O_50\": {\"accuracy\": 0.53046875, \"source?\": false}, \"O_14\": {\"accuracy\": 0.5526041666666667, \"source?\": false}, \"O_32\": {\"accuracy\": 0.6018229166666667, \"source?\": false}, \"O_44\": {\"accuracy\": 0.49192708333333335, \"source?\": false}, \"O_8\": {\"accuracy\": 0.5127604166666667, \"source?\": false}, \"O_20\": {\"accuracy\": 0.30052083333333335, \"source?\": false}, \"O_38\": {\"accuracy\": 0.6421875, \"source?\": false}, \"O_26\": {\"accuracy\": 0.37864583333333335, \"source?\": false}}}, \"history\": {\"epoch_indices\": [1, 2, 3, 4, 5], \"train_label_loss\": [0.029977733003017662, 0.00924666095524261, 0.006828241581211767, 0.005564302362959731, 0.006097470067034767], \"source_val_label_loss\": [0.008301439695060253, 0.009315389208495617, 0.007276678923517466, 0.006475991103798151, 0.004763667471706867], \"target_val_label_loss\": [1.8442752361297607, 1.8535213470458984, 1.6131925582885742, 1.7105090618133545, 1.7037938833236694], \"source_val_acc_label\": [0.9985, 0.9985714285714286, 0.99925, 0.9990714285714286, 0.9994285714285714], \"target_val_acc_label\": [0.5013671875, 0.42281901041666664, 0.48919270833333334, 0.4583333333333333, 0.45234375]}, \"dataset_metrics\": {\"source\": {\"train\": {\"n_unique_x\": 175169, \"n_unique_y\": 58, \"n_batch/episode\": 6311}, \"val\": {\"n_unique_x\": 37166, \"n_unique_y\": 58, \"n_batch/episode\": 875}, \"test\": {\"n_unique_x\": 37642, \"n_unique_y\": 58, \"n_batch/episode\": 890}}, \"target\": {\"train\": {\"n_unique_x\": 179200, \"n_unique_y\": 16, \"n_batch/episode\": 6720}, \"val\": {\"n_unique_x\": 38400, \"n_unique_y\": 16, \"n_batch/episode\": 960}, \"test\": {\"n_unique_x\": 38400, \"n_unique_y\": 16, \"n_batch/episode\": 960}}}}'"
      ]
     },
     "execution_count": 29,
     "metadata": {},
     "output_type": "execute_result"
    }
   ],
   "source": [
    "json.dumps(experiment)"
   ]
  }
 ],
 "metadata": {
  "celltoolbar": "Tags",
  "kernelspec": {
   "display_name": "Python 3 (ipykernel)",
   "language": "python",
   "name": "python3"
  },
  "language_info": {
   "codemirror_mode": {
    "name": "ipython",
    "version": 3
   },
   "file_extension": ".py",
   "mimetype": "text/x-python",
   "name": "python",
   "nbconvert_exporter": "python",
   "pygments_lexer": "ipython3",
   "version": "3.8.10"
  },
  "papermill": {
   "default_parameters": {},
   "duration": 887.778452,
   "end_time": "2022-03-25T07:26:14.522999",
   "environment_variables": {},
   "exception": null,
   "input_path": "/mnt/wd500GB/CSC500/csc500-main/csc500-notebooks/templates/tl_ptn_template.ipynb",
   "output_path": "trial.ipynb",
   "parameters": {
    "parameters": {
     "BEST_MODEL_PATH": "./best_model.pth",
     "NUM_LOGS_PER_EPOCH": 10,
     "criteria_for_best": "target_accuracy",
     "dataset_seed": 500,
     "datasets": [
      {
       "domain_prefix": "C_",
       "domains": [
        1,
        2,
        3,
        4,
        5
       ],
       "episode_transforms": [],
       "labels": [
        "1-10.",
        "1-11.",
        "1-15.",
        "1-16.",
        "1-17.",
        "1-18.",
        "1-19.",
        "10-4.",
        "10-7.",
        "11-1.",
        "11-14.",
        "11-17.",
        "11-20.",
        "11-7.",
        "13-20.",
        "13-8.",
        "14-10.",
        "14-11.",
        "14-14.",
        "14-7.",
        "15-1.",
        "15-20.",
        "16-1.",
        "16-16.",
        "17-10.",
        "17-11.",
        "17-2.",
        "19-1.",
        "19-16.",
        "19-19.",
        "19-20.",
        "19-3.",
        "2-10.",
        "2-11.",
        "2-17.",
        "2-18.",
        "2-20.",
        "2-3.",
        "2-4.",
        "2-5.",
        "2-6.",
        "2-7.",
        "2-8.",
        "3-13.",
        "3-18.",
        "3-3.",
        "4-1.",
        "4-10.",
        "4-11.",
        "4-19.",
        "5-5.",
        "6-15.",
        "7-10.",
        "7-14.",
        "8-18.",
        "8-20.",
        "8-3.",
        "8-8."
       ],
       "num_examples_per_domain_per_label": -1,
       "pickle_path": "/mnt/wd500GB/CSC500/csc500-main/datasets/cores.stratified_ds.2022A.pkl",
       "source_or_target_dataset": "source",
       "x_transforms": [
        "take_200"
       ]
      },
      {
       "domain_prefix": "O_",
       "domains": [
        32,
        38,
        8,
        44,
        14,
        50,
        20,
        26
       ],
       "episode_transforms": [],
       "labels": [
        "3123D52",
        "3123D65",
        "3123D79",
        "3123D80",
        "3123D54",
        "3123D70",
        "3123D7B",
        "3123D89",
        "3123D58",
        "3123D76",
        "3123D7D",
        "3123EFE",
        "3123D64",
        "3123D78",
        "3123D7E",
        "3124E4A"
       ],
       "num_examples_per_domain_per_label": 2000,
       "pickle_path": "/mnt/wd500GB/CSC500/csc500-main/datasets/oracle.Run1_framed_2000Examples_stratified_ds.2022A.pkl",
       "source_or_target_dataset": "target",
       "x_transforms": [
        "take_200",
        "resample_20Msps_to_25Msps"
       ]
      }
     ],
     "device": "cuda",
     "experiment_name": "tl_3Av2:cores -> oracle.run1.framed",
     "lr": 0.0001,
     "n_epoch": 50,
     "n_query": 2,
     "n_shot": 3,
     "n_way": 16,
     "patience": 3,
     "seed": 500,
     "test_k_factor": 2,
     "torch_default_dtype": "torch.float32",
     "train_k_factor": 3,
     "val_k_factor": 2,
     "x_net": [
      {
       "class": "nnReshape",
       "kargs": {
        "shape": [
         -1,
         1,
         2,
         200
        ]
       }
      },
      {
       "class": "Conv2d",
       "kargs": {
        "bias": false,
        "in_channels": 1,
        "kernel_size": [
         1,
         7
        ],
        "out_channels": 256,
        "padding": [
         0,
         3
        ]
       }
      },
      {
       "class": "ReLU",
       "kargs": {
        "inplace": true
       }
      },
      {
       "class": "BatchNorm2d",
       "kargs": {
        "num_features": 256
       }
      },
      {
       "class": "Conv2d",
       "kargs": {
        "bias": true,
        "in_channels": 256,
        "kernel_size": [
         2,
         7
        ],
        "out_channels": 80,
        "padding": [
         0,
         3
        ]
       }
      },
      {
       "class": "ReLU",
       "kargs": {
        "inplace": true
       }
      },
      {
       "class": "BatchNorm2d",
       "kargs": {
        "num_features": 80
       }
      },
      {
       "class": "Flatten",
       "kargs": {}
      },
      {
       "class": "Linear",
       "kargs": {
        "in_features": 16000,
        "out_features": 256
       }
      },
      {
       "class": "ReLU",
       "kargs": {
        "inplace": true
       }
      },
      {
       "class": "BatchNorm1d",
       "kargs": {
        "num_features": 256
       }
      },
      {
       "class": "Linear",
       "kargs": {
        "in_features": 256,
        "out_features": 256
       }
      }
     ],
     "x_shape": [
      2,
      200
     ]
    }
   },
   "start_time": "2022-03-25T07:11:26.744547",
   "version": "2.3.4"
  }
 },
 "nbformat": 4,
 "nbformat_minor": 5
}