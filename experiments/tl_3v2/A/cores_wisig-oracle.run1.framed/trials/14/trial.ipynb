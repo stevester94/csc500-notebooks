{
 "cells": [
  {
   "cell_type": "markdown",
   "id": "9fea5f46",
   "metadata": {
    "papermill": {
     "duration": 0.018889,
     "end_time": "2022-03-20T20:03:04.442970",
     "exception": false,
     "start_time": "2022-03-20T20:03:04.424081",
     "status": "completed"
    },
    "tags": []
   },
   "source": [
    "# Transfer Learning Template"
   ]
  },
  {
   "cell_type": "code",
   "execution_count": 1,
   "id": "0902182a",
   "metadata": {
    "execution": {
     "iopub.execute_input": "2022-03-20T20:03:04.483144Z",
     "iopub.status.busy": "2022-03-20T20:03:04.482768Z",
     "iopub.status.idle": "2022-03-20T20:03:05.966858Z",
     "shell.execute_reply": "2022-03-20T20:03:05.967262Z"
    },
    "papermill": {
     "duration": 1.511497,
     "end_time": "2022-03-20T20:03:05.967456",
     "exception": false,
     "start_time": "2022-03-20T20:03:04.455959",
     "status": "completed"
    },
    "tags": []
   },
   "outputs": [],
   "source": [
    "%load_ext autoreload\n",
    "%autoreload 2\n",
    "%matplotlib inline\n",
    "\n",
    "    \n",
    "import os, json, sys, time, random\n",
    "import numpy as np\n",
    "import torch\n",
    "from torch.optim import Adam\n",
    "from  easydict import EasyDict\n",
    "import matplotlib.pyplot as plt\n",
    "\n",
    "from steves_models.steves_ptn import Steves_Prototypical_Network\n",
    "\n",
    "from steves_utils.lazy_iterable_wrapper import Lazy_Iterable_Wrapper\n",
    "from steves_utils.iterable_aggregator import Iterable_Aggregator\n",
    "from steves_utils.ptn_train_eval_test_jig import  PTN_Train_Eval_Test_Jig\n",
    "from steves_utils.torch_sequential_builder import build_sequential\n",
    "from steves_utils.torch_utils import get_dataset_metrics, ptn_confusion_by_domain_over_dataloader\n",
    "from steves_utils.utils_v2 import (per_domain_accuracy_from_confusion, get_datasets_base_path)\n",
    "from steves_utils.PTN.utils import independent_accuracy_assesment\n",
    "\n",
    "from torch.utils.data import DataLoader\n",
    "\n",
    "from steves_utils.stratified_dataset.episodic_accessor import Episodic_Accessor_Factory\n",
    "\n",
    "from steves_utils.ptn_do_report import (\n",
    "    get_loss_curve,\n",
    "    get_results_table,\n",
    "    get_parameters_table,\n",
    "    get_domain_accuracies,\n",
    ")\n",
    "\n",
    "from steves_utils.transforms import get_chained_transform"
   ]
  },
  {
   "cell_type": "markdown",
   "id": "41c840b4",
   "metadata": {
    "papermill": {
     "duration": 0.012716,
     "end_time": "2022-03-20T20:03:05.997425",
     "exception": false,
     "start_time": "2022-03-20T20:03:05.984709",
     "status": "completed"
    },
    "tags": []
   },
   "source": [
    "# Allowed Parameters\n",
    "These are allowed parameters, not defaults\n",
    "Each of these values need to be present in the injected parameters (the notebook will raise an exception if they are not present)\n",
    "\n",
    "Papermill uses the cell tag \"parameters\" to inject the real parameters below this cell.\n",
    "Enable tags to see what I mean"
   ]
  },
  {
   "cell_type": "code",
   "execution_count": 2,
   "id": "fd44eb83",
   "metadata": {
    "execution": {
     "iopub.execute_input": "2022-03-20T20:03:06.026553Z",
     "iopub.status.busy": "2022-03-20T20:03:06.026287Z",
     "iopub.status.idle": "2022-03-20T20:03:06.041176Z",
     "shell.execute_reply": "2022-03-20T20:03:06.040642Z"
    },
    "papermill": {
     "duration": 0.031126,
     "end_time": "2022-03-20T20:03:06.041273",
     "exception": false,
     "start_time": "2022-03-20T20:03:06.010147",
     "status": "completed"
    },
    "tags": []
   },
   "outputs": [],
   "source": [
    "required_parameters = {\n",
    "    \"experiment_name\",\n",
    "    \"lr\",\n",
    "    \"device\",\n",
    "    \"seed\",\n",
    "    \"dataset_seed\",\n",
    "    \"n_shot\",\n",
    "    \"n_query\",\n",
    "    \"n_way\",\n",
    "    \"train_k_factor\",\n",
    "    \"val_k_factor\",\n",
    "    \"test_k_factor\",\n",
    "    \"n_epoch\",\n",
    "    \"patience\",\n",
    "    \"criteria_for_best\",\n",
    "    \"x_net\",\n",
    "    \"datasets\",\n",
    "    \"torch_default_dtype\",\n",
    "    \"NUM_LOGS_PER_EPOCH\",\n",
    "    \"BEST_MODEL_PATH\",\n",
    "    \"x_shape\",\n",
    "}"
   ]
  },
  {
   "cell_type": "code",
   "execution_count": 3,
   "id": "fa3f0049",
   "metadata": {
    "execution": {
     "iopub.execute_input": "2022-03-20T20:03:06.081928Z",
     "iopub.status.busy": "2022-03-20T20:03:06.081426Z",
     "iopub.status.idle": "2022-03-20T20:03:06.096679Z",
     "shell.execute_reply": "2022-03-20T20:03:06.097033Z"
    },
    "papermill": {
     "duration": 0.037985,
     "end_time": "2022-03-20T20:03:06.097141",
     "exception": false,
     "start_time": "2022-03-20T20:03:06.059156",
     "status": "completed"
    },
    "tags": [
     "parameters"
    ]
   },
   "outputs": [],
   "source": [
    "from steves_utils.CORES.utils import (\n",
    "    ALL_NODES,\n",
    "    ALL_NODES_MINIMUM_1000_EXAMPLES,\n",
    "    ALL_DAYS\n",
    ")\n",
    "\n",
    "from steves_utils.ORACLE.utils_v2 import (\n",
    "    ALL_DISTANCES_FEET_NARROWED,\n",
    "    ALL_RUNS,\n",
    "    ALL_SERIAL_NUMBERS,\n",
    ")\n",
    "\n",
    "standalone_parameters = {}\n",
    "standalone_parameters[\"experiment_name\"] = \"STANDALONE PTN\"\n",
    "standalone_parameters[\"lr\"] = 0.001\n",
    "standalone_parameters[\"device\"] = \"cuda\"\n",
    "\n",
    "standalone_parameters[\"seed\"] = 1337\n",
    "standalone_parameters[\"dataset_seed\"] = 1337\n",
    "\n",
    "standalone_parameters[\"n_way\"] = 8\n",
    "standalone_parameters[\"n_shot\"] = 3\n",
    "standalone_parameters[\"n_query\"]  = 2\n",
    "standalone_parameters[\"train_k_factor\"] = 1\n",
    "standalone_parameters[\"val_k_factor\"] = 2\n",
    "standalone_parameters[\"test_k_factor\"] = 2\n",
    "\n",
    "\n",
    "standalone_parameters[\"n_epoch\"] = 50\n",
    "\n",
    "standalone_parameters[\"patience\"] = 10\n",
    "standalone_parameters[\"criteria_for_best\"] = \"source_loss\"\n",
    "\n",
    "standalone_parameters[\"datasets\"] = [\n",
    "    {\n",
    "        \"labels\": ALL_SERIAL_NUMBERS,\n",
    "        \"domains\": ALL_DISTANCES_FEET_NARROWED,\n",
    "        \"num_examples_per_domain_per_label\": 100,\n",
    "        \"pickle_path\": os.path.join(get_datasets_base_path(), \"oracle.Run1_framed_2000Examples_stratified_ds.2022A.pkl\"),\n",
    "        \"source_or_target_dataset\": \"source\",\n",
    "        \"x_transforms\": [\"unit_mag\", \"minus_two\"],\n",
    "        \"episode_transforms\": [],\n",
    "        \"domain_prefix\": \"ORACLE_\"\n",
    "    },\n",
    "    {\n",
    "        \"labels\": ALL_NODES,\n",
    "        \"domains\": ALL_DAYS,\n",
    "        \"num_examples_per_domain_per_label\": 100,\n",
    "        \"pickle_path\": os.path.join(get_datasets_base_path(), \"cores.stratified_ds.2022A.pkl\"),\n",
    "        \"source_or_target_dataset\": \"target\",\n",
    "        \"x_transforms\": [\"unit_power\", \"times_zero\"],\n",
    "        \"episode_transforms\": [],\n",
    "        \"domain_prefix\": \"CORES_\"\n",
    "    }   \n",
    "]\n",
    "\n",
    "standalone_parameters[\"torch_default_dtype\"] = \"torch.float32\" \n",
    "\n",
    "\n",
    "\n",
    "standalone_parameters[\"x_net\"] =     [\n",
    "    {\"class\": \"nnReshape\", \"kargs\": {\"shape\":[-1, 1, 2, 256]}},\n",
    "    {\"class\": \"Conv2d\", \"kargs\": { \"in_channels\":1, \"out_channels\":256, \"kernel_size\":(1,7), \"bias\":False, \"padding\":(0,3), },},\n",
    "    {\"class\": \"ReLU\", \"kargs\": {\"inplace\": True}},\n",
    "    {\"class\": \"BatchNorm2d\", \"kargs\": {\"num_features\":256}},\n",
    "\n",
    "    {\"class\": \"Conv2d\", \"kargs\": { \"in_channels\":256, \"out_channels\":80, \"kernel_size\":(2,7), \"bias\":True, \"padding\":(0,3), },},\n",
    "    {\"class\": \"ReLU\", \"kargs\": {\"inplace\": True}},\n",
    "    {\"class\": \"BatchNorm2d\", \"kargs\": {\"num_features\":80}},\n",
    "    {\"class\": \"Flatten\", \"kargs\": {}},\n",
    "\n",
    "    {\"class\": \"Linear\", \"kargs\": {\"in_features\": 80*256, \"out_features\": 256}}, # 80 units per IQ pair\n",
    "    {\"class\": \"ReLU\", \"kargs\": {\"inplace\": True}},\n",
    "    {\"class\": \"BatchNorm1d\", \"kargs\": {\"num_features\":256}},\n",
    "\n",
    "    {\"class\": \"Linear\", \"kargs\": {\"in_features\": 256, \"out_features\": 256}},\n",
    "]\n",
    "\n",
    "# Parameters relevant to results\n",
    "# These parameters will basically never need to change\n",
    "standalone_parameters[\"NUM_LOGS_PER_EPOCH\"] = 10\n",
    "standalone_parameters[\"BEST_MODEL_PATH\"] = \"./best_model.pth\"\n",
    "\n",
    "\n",
    "\n",
    "\n"
   ]
  },
  {
   "cell_type": "code",
   "execution_count": 4,
   "id": "ddf4a5c8",
   "metadata": {
    "execution": {
     "iopub.execute_input": "2022-03-20T20:03:06.140586Z",
     "iopub.status.busy": "2022-03-20T20:03:06.140267Z",
     "iopub.status.idle": "2022-03-20T20:03:06.159931Z",
     "shell.execute_reply": "2022-03-20T20:03:06.160297Z"
    },
    "papermill": {
     "duration": 0.045505,
     "end_time": "2022-03-20T20:03:06.160402",
     "exception": false,
     "start_time": "2022-03-20T20:03:06.114897",
     "status": "completed"
    },
    "tags": [
     "injected-parameters"
    ]
   },
   "outputs": [],
   "source": [
    "# Parameters\n",
    "parameters = {\n",
    "    \"experiment_name\": \"tl_3Av2:cores+wisig -> oracle.run1.framed\",\n",
    "    \"device\": \"cuda\",\n",
    "    \"lr\": 0.0001,\n",
    "    \"x_shape\": [2, 200],\n",
    "    \"n_shot\": 3,\n",
    "    \"n_query\": 2,\n",
    "    \"train_k_factor\": 3,\n",
    "    \"val_k_factor\": 2,\n",
    "    \"test_k_factor\": 2,\n",
    "    \"torch_default_dtype\": \"torch.float32\",\n",
    "    \"n_epoch\": 50,\n",
    "    \"patience\": 3,\n",
    "    \"criteria_for_best\": \"target_accuracy\",\n",
    "    \"x_net\": [\n",
    "        {\"class\": \"nnReshape\", \"kargs\": {\"shape\": [-1, 1, 2, 200]}},\n",
    "        {\n",
    "            \"class\": \"Conv2d\",\n",
    "            \"kargs\": {\n",
    "                \"in_channels\": 1,\n",
    "                \"out_channels\": 256,\n",
    "                \"kernel_size\": [1, 7],\n",
    "                \"bias\": False,\n",
    "                \"padding\": [0, 3],\n",
    "            },\n",
    "        },\n",
    "        {\"class\": \"ReLU\", \"kargs\": {\"inplace\": True}},\n",
    "        {\"class\": \"BatchNorm2d\", \"kargs\": {\"num_features\": 256}},\n",
    "        {\n",
    "            \"class\": \"Conv2d\",\n",
    "            \"kargs\": {\n",
    "                \"in_channels\": 256,\n",
    "                \"out_channels\": 80,\n",
    "                \"kernel_size\": [2, 7],\n",
    "                \"bias\": True,\n",
    "                \"padding\": [0, 3],\n",
    "            },\n",
    "        },\n",
    "        {\"class\": \"ReLU\", \"kargs\": {\"inplace\": True}},\n",
    "        {\"class\": \"BatchNorm2d\", \"kargs\": {\"num_features\": 80}},\n",
    "        {\"class\": \"Flatten\", \"kargs\": {}},\n",
    "        {\"class\": \"Linear\", \"kargs\": {\"in_features\": 16000, \"out_features\": 256}},\n",
    "        {\"class\": \"ReLU\", \"kargs\": {\"inplace\": True}},\n",
    "        {\"class\": \"BatchNorm1d\", \"kargs\": {\"num_features\": 256}},\n",
    "        {\"class\": \"Linear\", \"kargs\": {\"in_features\": 256, \"out_features\": 256}},\n",
    "    ],\n",
    "    \"NUM_LOGS_PER_EPOCH\": 10,\n",
    "    \"BEST_MODEL_PATH\": \"./best_model.pth\",\n",
    "    \"n_way\": 16,\n",
    "    \"datasets\": [\n",
    "        {\n",
    "            \"labels\": [\n",
    "                \"1-10.\",\n",
    "                \"1-11.\",\n",
    "                \"1-15.\",\n",
    "                \"1-16.\",\n",
    "                \"1-17.\",\n",
    "                \"1-18.\",\n",
    "                \"1-19.\",\n",
    "                \"10-4.\",\n",
    "                \"10-7.\",\n",
    "                \"11-1.\",\n",
    "                \"11-14.\",\n",
    "                \"11-17.\",\n",
    "                \"11-20.\",\n",
    "                \"11-7.\",\n",
    "                \"13-20.\",\n",
    "                \"13-8.\",\n",
    "                \"14-10.\",\n",
    "                \"14-11.\",\n",
    "                \"14-14.\",\n",
    "                \"14-7.\",\n",
    "                \"15-1.\",\n",
    "                \"15-20.\",\n",
    "                \"16-1.\",\n",
    "                \"16-16.\",\n",
    "                \"17-10.\",\n",
    "                \"17-11.\",\n",
    "                \"17-2.\",\n",
    "                \"19-1.\",\n",
    "                \"19-16.\",\n",
    "                \"19-19.\",\n",
    "                \"19-20.\",\n",
    "                \"19-3.\",\n",
    "                \"2-10.\",\n",
    "                \"2-11.\",\n",
    "                \"2-17.\",\n",
    "                \"2-18.\",\n",
    "                \"2-20.\",\n",
    "                \"2-3.\",\n",
    "                \"2-4.\",\n",
    "                \"2-5.\",\n",
    "                \"2-6.\",\n",
    "                \"2-7.\",\n",
    "                \"2-8.\",\n",
    "                \"3-13.\",\n",
    "                \"3-18.\",\n",
    "                \"3-3.\",\n",
    "                \"4-1.\",\n",
    "                \"4-10.\",\n",
    "                \"4-11.\",\n",
    "                \"4-19.\",\n",
    "                \"5-5.\",\n",
    "                \"6-15.\",\n",
    "                \"7-10.\",\n",
    "                \"7-14.\",\n",
    "                \"8-18.\",\n",
    "                \"8-20.\",\n",
    "                \"8-3.\",\n",
    "                \"8-8.\",\n",
    "            ],\n",
    "            \"domains\": [1, 2, 3, 4, 5],\n",
    "            \"num_examples_per_domain_per_label\": -1,\n",
    "            \"pickle_path\": \"/mnt/wd500GB/CSC500/csc500-main/datasets/cores.stratified_ds.2022A.pkl\",\n",
    "            \"source_or_target_dataset\": \"source\",\n",
    "            \"x_transforms\": [\"take_200\"],\n",
    "            \"episode_transforms\": [],\n",
    "            \"domain_prefix\": \"C_\",\n",
    "        },\n",
    "        {\n",
    "            \"labels\": [\n",
    "                \"1-10\",\n",
    "                \"1-12\",\n",
    "                \"1-14\",\n",
    "                \"1-16\",\n",
    "                \"1-18\",\n",
    "                \"1-19\",\n",
    "                \"1-8\",\n",
    "                \"10-11\",\n",
    "                \"10-17\",\n",
    "                \"10-4\",\n",
    "                \"10-7\",\n",
    "                \"11-1\",\n",
    "                \"11-10\",\n",
    "                \"11-19\",\n",
    "                \"11-20\",\n",
    "                \"11-4\",\n",
    "                \"11-7\",\n",
    "                \"12-19\",\n",
    "                \"12-20\",\n",
    "                \"12-7\",\n",
    "                \"13-14\",\n",
    "                \"13-18\",\n",
    "                \"13-19\",\n",
    "                \"13-20\",\n",
    "                \"13-3\",\n",
    "                \"13-7\",\n",
    "                \"14-10\",\n",
    "                \"14-11\",\n",
    "                \"14-12\",\n",
    "                \"14-13\",\n",
    "                \"14-14\",\n",
    "                \"14-19\",\n",
    "                \"14-20\",\n",
    "                \"14-7\",\n",
    "                \"14-8\",\n",
    "                \"14-9\",\n",
    "                \"15-1\",\n",
    "                \"15-19\",\n",
    "                \"15-6\",\n",
    "                \"16-1\",\n",
    "                \"16-16\",\n",
    "                \"16-19\",\n",
    "                \"16-20\",\n",
    "                \"17-10\",\n",
    "                \"17-11\",\n",
    "                \"18-1\",\n",
    "                \"18-10\",\n",
    "                \"18-11\",\n",
    "                \"18-12\",\n",
    "                \"18-13\",\n",
    "                \"18-14\",\n",
    "                \"18-15\",\n",
    "                \"18-16\",\n",
    "                \"18-17\",\n",
    "                \"18-19\",\n",
    "                \"18-2\",\n",
    "                \"18-20\",\n",
    "                \"18-4\",\n",
    "                \"18-5\",\n",
    "                \"18-7\",\n",
    "                \"18-8\",\n",
    "                \"18-9\",\n",
    "                \"19-1\",\n",
    "                \"19-10\",\n",
    "                \"19-11\",\n",
    "                \"19-12\",\n",
    "                \"19-13\",\n",
    "                \"19-14\",\n",
    "                \"19-15\",\n",
    "                \"19-19\",\n",
    "                \"19-2\",\n",
    "                \"19-20\",\n",
    "                \"19-3\",\n",
    "                \"19-4\",\n",
    "                \"19-6\",\n",
    "                \"19-7\",\n",
    "                \"19-8\",\n",
    "                \"19-9\",\n",
    "                \"2-1\",\n",
    "                \"2-13\",\n",
    "                \"2-15\",\n",
    "                \"2-3\",\n",
    "                \"2-4\",\n",
    "                \"2-5\",\n",
    "                \"2-6\",\n",
    "                \"2-7\",\n",
    "                \"2-8\",\n",
    "                \"20-1\",\n",
    "                \"20-12\",\n",
    "                \"20-14\",\n",
    "                \"20-15\",\n",
    "                \"20-16\",\n",
    "                \"20-18\",\n",
    "                \"20-19\",\n",
    "                \"20-20\",\n",
    "                \"20-3\",\n",
    "                \"20-4\",\n",
    "                \"20-5\",\n",
    "                \"20-7\",\n",
    "                \"20-8\",\n",
    "                \"3-1\",\n",
    "                \"3-13\",\n",
    "                \"3-18\",\n",
    "                \"3-2\",\n",
    "                \"3-8\",\n",
    "                \"4-1\",\n",
    "                \"4-10\",\n",
    "                \"4-11\",\n",
    "                \"5-1\",\n",
    "                \"5-5\",\n",
    "                \"6-1\",\n",
    "                \"6-15\",\n",
    "                \"6-6\",\n",
    "                \"7-10\",\n",
    "                \"7-11\",\n",
    "                \"7-12\",\n",
    "                \"7-13\",\n",
    "                \"7-14\",\n",
    "                \"7-7\",\n",
    "                \"7-8\",\n",
    "                \"7-9\",\n",
    "                \"8-1\",\n",
    "                \"8-13\",\n",
    "                \"8-14\",\n",
    "                \"8-18\",\n",
    "                \"8-20\",\n",
    "                \"8-3\",\n",
    "                \"8-8\",\n",
    "                \"9-1\",\n",
    "                \"9-7\",\n",
    "            ],\n",
    "            \"domains\": [1, 2, 3, 4],\n",
    "            \"num_examples_per_domain_per_label\": -1,\n",
    "            \"pickle_path\": \"/mnt/wd500GB/CSC500/csc500-main/datasets/wisig.node3-19.stratified_ds.2022A.pkl\",\n",
    "            \"source_or_target_dataset\": \"source\",\n",
    "            \"x_transforms\": [\"take_200\"],\n",
    "            \"episode_transforms\": [],\n",
    "            \"domain_prefix\": \"W_\",\n",
    "        },\n",
    "        {\n",
    "            \"labels\": [\n",
    "                \"3123D52\",\n",
    "                \"3123D65\",\n",
    "                \"3123D79\",\n",
    "                \"3123D80\",\n",
    "                \"3123D54\",\n",
    "                \"3123D70\",\n",
    "                \"3123D7B\",\n",
    "                \"3123D89\",\n",
    "                \"3123D58\",\n",
    "                \"3123D76\",\n",
    "                \"3123D7D\",\n",
    "                \"3123EFE\",\n",
    "                \"3123D64\",\n",
    "                \"3123D78\",\n",
    "                \"3123D7E\",\n",
    "                \"3124E4A\",\n",
    "            ],\n",
    "            \"domains\": [32, 38, 8, 44, 14, 50, 20, 26],\n",
    "            \"num_examples_per_domain_per_label\": 2000,\n",
    "            \"pickle_path\": \"/mnt/wd500GB/CSC500/csc500-main/datasets/oracle.Run1_framed_2000Examples_stratified_ds.2022A.pkl\",\n",
    "            \"source_or_target_dataset\": \"target\",\n",
    "            \"x_transforms\": [\"take_200\", \"resample_20Msps_to_25Msps\"],\n",
    "            \"episode_transforms\": [],\n",
    "            \"domain_prefix\": \"O_\",\n",
    "        },\n",
    "    ],\n",
    "    \"seed\": 500,\n",
    "    \"dataset_seed\": 500,\n",
    "}\n"
   ]
  },
  {
   "cell_type": "code",
   "execution_count": 5,
   "id": "8fa1cc33",
   "metadata": {
    "execution": {
     "iopub.execute_input": "2022-03-20T20:03:06.195813Z",
     "iopub.status.busy": "2022-03-20T20:03:06.195533Z",
     "iopub.status.idle": "2022-03-20T20:03:06.210679Z",
     "shell.execute_reply": "2022-03-20T20:03:06.211051Z"
    },
    "papermill": {
     "duration": 0.032495,
     "end_time": "2022-03-20T20:03:06.211155",
     "exception": false,
     "start_time": "2022-03-20T20:03:06.178660",
     "status": "completed"
    },
    "tags": []
   },
   "outputs": [],
   "source": [
    "# Set this to True if you want to run this template directly\n",
    "STANDALONE = False\n",
    "if STANDALONE:\n",
    "    print(\"parameters not injected, running with standalone_parameters\")\n",
    "    parameters = standalone_parameters\n",
    "\n",
    "if not 'parameters' in locals() and not 'parameters' in globals():\n",
    "    raise Exception(\"Parameter injection failed\")\n",
    "\n",
    "#Use an easy dict for all the parameters\n",
    "p = EasyDict(parameters)\n",
    "\n",
    "if \"x_shape\" not in p:\n",
    "    p.x_shape = [2,256] # Default to this if we dont supply x_shape\n",
    "\n",
    "\n",
    "supplied_keys = set(p.keys())\n",
    "\n",
    "if  supplied_keys != required_parameters:\n",
    "    print(\"Parameters are incorrect\")\n",
    "    if len(supplied_keys - required_parameters)>0: print(\"Shouldn't have:\", str(supplied_keys - required_parameters))\n",
    "    if len(required_parameters - supplied_keys)>0: print(\"Need to have:\", str(required_parameters - supplied_keys))\n",
    "    raise RuntimeError(\"Parameters are incorrect\")"
   ]
  },
  {
   "cell_type": "code",
   "execution_count": 6,
   "id": "3a028d58",
   "metadata": {
    "execution": {
     "iopub.execute_input": "2022-03-20T20:03:06.243956Z",
     "iopub.status.busy": "2022-03-20T20:03:06.243712Z",
     "iopub.status.idle": "2022-03-20T20:03:06.257278Z",
     "shell.execute_reply": "2022-03-20T20:03:06.256832Z"
    },
    "papermill": {
     "duration": 0.029157,
     "end_time": "2022-03-20T20:03:06.257367",
     "exception": false,
     "start_time": "2022-03-20T20:03:06.228210",
     "status": "completed"
    },
    "tags": []
   },
   "outputs": [],
   "source": [
    "###################################\n",
    "# Set the RNGs and make it all deterministic\n",
    "###################################\n",
    "np.random.seed(p.seed)\n",
    "random.seed(p.seed)\n",
    "torch.manual_seed(p.seed)\n",
    "\n",
    "torch.use_deterministic_algorithms(True) "
   ]
  },
  {
   "cell_type": "code",
   "execution_count": 7,
   "id": "b691acf6",
   "metadata": {
    "execution": {
     "iopub.execute_input": "2022-03-20T20:03:06.290400Z",
     "iopub.status.busy": "2022-03-20T20:03:06.290155Z",
     "iopub.status.idle": "2022-03-20T20:03:06.304499Z",
     "shell.execute_reply": "2022-03-20T20:03:06.304866Z"
    },
    "papermill": {
     "duration": 0.029836,
     "end_time": "2022-03-20T20:03:06.304968",
     "exception": false,
     "start_time": "2022-03-20T20:03:06.275132",
     "status": "completed"
    },
    "tags": []
   },
   "outputs": [],
   "source": [
    "###########################################\n",
    "# The stratified datasets honor this\n",
    "###########################################\n",
    "torch.set_default_dtype(eval(p.torch_default_dtype))"
   ]
  },
  {
   "cell_type": "code",
   "execution_count": 8,
   "id": "b5fba671",
   "metadata": {
    "execution": {
     "iopub.execute_input": "2022-03-20T20:03:06.337833Z",
     "iopub.status.busy": "2022-03-20T20:03:06.337589Z",
     "iopub.status.idle": "2022-03-20T20:03:06.374156Z",
     "shell.execute_reply": "2022-03-20T20:03:06.374522Z"
    },
    "papermill": {
     "duration": 0.051632,
     "end_time": "2022-03-20T20:03:06.374626",
     "exception": false,
     "start_time": "2022-03-20T20:03:06.322994",
     "status": "completed"
    },
    "tags": []
   },
   "outputs": [],
   "source": [
    "###################################\n",
    "# Build the network(s)\n",
    "# Note: It's critical to do this AFTER setting the RNG\n",
    "###################################\n",
    "x_net = build_sequential(p.x_net)"
   ]
  },
  {
   "cell_type": "code",
   "execution_count": 9,
   "id": "5d7e61cc",
   "metadata": {
    "execution": {
     "iopub.execute_input": "2022-03-20T20:03:06.408068Z",
     "iopub.status.busy": "2022-03-20T20:03:06.407806Z",
     "iopub.status.idle": "2022-03-20T20:03:06.419354Z",
     "shell.execute_reply": "2022-03-20T20:03:06.419653Z"
    },
    "papermill": {
     "duration": 0.027042,
     "end_time": "2022-03-20T20:03:06.419740",
     "exception": false,
     "start_time": "2022-03-20T20:03:06.392698",
     "status": "completed"
    },
    "tags": []
   },
   "outputs": [],
   "source": [
    "start_time_secs = time.time()"
   ]
  },
  {
   "cell_type": "code",
   "execution_count": 10,
   "id": "c6b67dfd",
   "metadata": {
    "execution": {
     "iopub.execute_input": "2022-03-20T20:03:06.453920Z",
     "iopub.status.busy": "2022-03-20T20:03:06.453668Z",
     "iopub.status.idle": "2022-03-20T20:03:06.464363Z",
     "shell.execute_reply": "2022-03-20T20:03:06.464569Z"
    },
    "papermill": {
     "duration": 0.026092,
     "end_time": "2022-03-20T20:03:06.464627",
     "exception": false,
     "start_time": "2022-03-20T20:03:06.438535",
     "status": "completed"
    },
    "tags": []
   },
   "outputs": [],
   "source": [
    "p.domains_source = []\n",
    "p.domains_target = []\n",
    "\n",
    "\n",
    "train_original_source = []\n",
    "val_original_source   = []\n",
    "test_original_source  = []\n",
    "\n",
    "train_original_target = []\n",
    "val_original_target   = []\n",
    "test_original_target  = []"
   ]
  },
  {
   "cell_type": "code",
   "execution_count": 11,
   "id": "e3d9c3d3",
   "metadata": {
    "execution": {
     "iopub.execute_input": "2022-03-20T20:03:06.496573Z",
     "iopub.status.busy": "2022-03-20T20:03:06.496321Z",
     "iopub.status.idle": "2022-03-20T20:03:06.511147Z",
     "shell.execute_reply": "2022-03-20T20:03:06.510763Z"
    },
    "papermill": {
     "duration": 0.03089,
     "end_time": "2022-03-20T20:03:06.511245",
     "exception": false,
     "start_time": "2022-03-20T20:03:06.480355",
     "status": "completed"
    },
    "tags": []
   },
   "outputs": [],
   "source": [
    "# global_x_transform_func = lambda x: normalize(x.to(torch.get_default_dtype()), \"unit_power\") # unit_power, unit_mag\n",
    "# global_x_transform_func = lambda x: normalize(x, \"unit_power\") # unit_power, unit_mag"
   ]
  },
  {
   "cell_type": "code",
   "execution_count": 12,
   "id": "acb78fd2",
   "metadata": {
    "execution": {
     "iopub.execute_input": "2022-03-20T20:03:06.550948Z",
     "iopub.status.busy": "2022-03-20T20:03:06.550687Z",
     "iopub.status.idle": "2022-03-20T20:03:06.566840Z",
     "shell.execute_reply": "2022-03-20T20:03:06.566429Z"
    },
    "papermill": {
     "duration": 0.03626,
     "end_time": "2022-03-20T20:03:06.566928",
     "exception": false,
     "start_time": "2022-03-20T20:03:06.530668",
     "status": "completed"
    },
    "tags": []
   },
   "outputs": [],
   "source": [
    "def add_dataset(\n",
    "    labels,\n",
    "    domains,\n",
    "    pickle_path,\n",
    "    x_transforms,\n",
    "    episode_transforms,\n",
    "    domain_prefix,\n",
    "    num_examples_per_domain_per_label,\n",
    "    source_or_target_dataset:str,\n",
    "    iterator_seed=p.seed,\n",
    "    dataset_seed=p.dataset_seed,\n",
    "    n_shot=p.n_shot,\n",
    "    n_way=p.n_way,\n",
    "    n_query=p.n_query,\n",
    "    train_val_test_k_factors=(p.train_k_factor,p.val_k_factor,p.test_k_factor),\n",
    "):\n",
    "   \n",
    "    if x_transforms == []: x_transform = None\n",
    "    else: x_transform = get_chained_transform(x_transforms)\n",
    "    \n",
    "    if episode_transforms == []: episode_transform = None\n",
    "    else: raise Exception(\"episode_transforms not implemented\")\n",
    "    \n",
    "    episode_transform = lambda tup, _prefix=domain_prefix: (_prefix + str(tup[0]), tup[1])\n",
    "\n",
    "\n",
    "    eaf = Episodic_Accessor_Factory(\n",
    "        labels=labels,\n",
    "        domains=domains,\n",
    "        num_examples_per_domain_per_label=num_examples_per_domain_per_label,\n",
    "        iterator_seed=iterator_seed,\n",
    "        dataset_seed=dataset_seed,\n",
    "        n_shot=n_shot,\n",
    "        n_way=n_way,\n",
    "        n_query=n_query,\n",
    "        train_val_test_k_factors=train_val_test_k_factors,\n",
    "        pickle_path=pickle_path,\n",
    "        x_transform_func=x_transform,\n",
    "    )\n",
    "\n",
    "    train, val, test = eaf.get_train(), eaf.get_val(), eaf.get_test()\n",
    "    train = Lazy_Iterable_Wrapper(train, episode_transform)\n",
    "    val = Lazy_Iterable_Wrapper(val, episode_transform)\n",
    "    test = Lazy_Iterable_Wrapper(test, episode_transform)\n",
    "\n",
    "    if source_or_target_dataset==\"source\":\n",
    "        train_original_source.append(train)\n",
    "        val_original_source.append(val)\n",
    "        test_original_source.append(test)\n",
    "\n",
    "        p.domains_source.extend(\n",
    "            [domain_prefix + str(u) for u in domains]\n",
    "        )\n",
    "    elif source_or_target_dataset==\"target\":\n",
    "        train_original_target.append(train)\n",
    "        val_original_target.append(val)\n",
    "        test_original_target.append(test)\n",
    "        p.domains_target.extend(\n",
    "            [domain_prefix + str(u) for u in domains]\n",
    "        )\n",
    "    else:\n",
    "        raise Exception(f\"invalid source_or_target_dataset: {source_or_target_dataset}\")\n",
    "    "
   ]
  },
  {
   "cell_type": "code",
   "execution_count": 13,
   "id": "fe266617",
   "metadata": {
    "execution": {
     "iopub.execute_input": "2022-03-20T20:03:06.601720Z",
     "iopub.status.busy": "2022-03-20T20:03:06.601294Z",
     "iopub.status.idle": "2022-03-20T20:03:31.398673Z",
     "shell.execute_reply": "2022-03-20T20:03:31.398193Z"
    },
    "papermill": {
     "duration": 24.812439,
     "end_time": "2022-03-20T20:03:31.398791",
     "exception": false,
     "start_time": "2022-03-20T20:03:06.586352",
     "status": "completed"
    },
    "tags": []
   },
   "outputs": [],
   "source": [
    "for ds in p.datasets:\n",
    "    add_dataset(**ds)"
   ]
  },
  {
   "cell_type": "code",
   "execution_count": 14,
   "id": "b90d65ac",
   "metadata": {
    "execution": {
     "iopub.execute_input": "2022-03-20T20:03:31.432972Z",
     "iopub.status.busy": "2022-03-20T20:03:31.432712Z",
     "iopub.status.idle": "2022-03-20T20:03:31.449095Z",
     "shell.execute_reply": "2022-03-20T20:03:31.448622Z"
    },
    "papermill": {
     "duration": 0.03264,
     "end_time": "2022-03-20T20:03:31.449198",
     "exception": false,
     "start_time": "2022-03-20T20:03:31.416558",
     "status": "completed"
    },
    "tags": []
   },
   "outputs": [],
   "source": [
    "# from steves_utils.CORES.utils import (\n",
    "#     ALL_NODES,\n",
    "#     ALL_NODES_MINIMUM_1000_EXAMPLES,\n",
    "#     ALL_DAYS\n",
    "# )\n",
    "\n",
    "# add_dataset(\n",
    "#     labels=ALL_NODES,\n",
    "#     domains = ALL_DAYS,\n",
    "#     num_examples_per_domain_per_label=100,\n",
    "#     pickle_path=os.path.join(get_datasets_base_path(), \"cores.stratified_ds.2022A.pkl\"),\n",
    "#     source_or_target_dataset=\"target\",\n",
    "#     x_transform_func=global_x_transform_func,\n",
    "#     domain_modifier=lambda u: f\"cores_{u}\"\n",
    "# )"
   ]
  },
  {
   "cell_type": "code",
   "execution_count": 15,
   "id": "76db484d",
   "metadata": {
    "execution": {
     "iopub.execute_input": "2022-03-20T20:03:31.483730Z",
     "iopub.status.busy": "2022-03-20T20:03:31.483463Z",
     "iopub.status.idle": "2022-03-20T20:03:31.499256Z",
     "shell.execute_reply": "2022-03-20T20:03:31.499725Z"
    },
    "papermill": {
     "duration": 0.031881,
     "end_time": "2022-03-20T20:03:31.499869",
     "exception": false,
     "start_time": "2022-03-20T20:03:31.467988",
     "status": "completed"
    },
    "tags": []
   },
   "outputs": [],
   "source": [
    "# from steves_utils.ORACLE.utils_v2 import (\n",
    "#     ALL_DISTANCES_FEET,\n",
    "#     ALL_RUNS,\n",
    "#     ALL_SERIAL_NUMBERS,\n",
    "# )\n",
    "\n",
    "\n",
    "# add_dataset(\n",
    "#     labels=ALL_SERIAL_NUMBERS,\n",
    "#     domains = list(set(ALL_DISTANCES_FEET) - {2,62}),\n",
    "#     num_examples_per_domain_per_label=100,\n",
    "#     pickle_path=os.path.join(get_datasets_base_path(), \"oracle.Run2_framed_2000Examples_stratified_ds.2022A.pkl\"),\n",
    "#     source_or_target_dataset=\"source\",\n",
    "#     x_transform_func=global_x_transform_func,\n",
    "#     domain_modifier=lambda u: f\"oracle1_{u}\"\n",
    "# )\n"
   ]
  },
  {
   "cell_type": "code",
   "execution_count": 16,
   "id": "97dea9d2",
   "metadata": {
    "execution": {
     "iopub.execute_input": "2022-03-20T20:03:31.535476Z",
     "iopub.status.busy": "2022-03-20T20:03:31.535166Z",
     "iopub.status.idle": "2022-03-20T20:03:31.557237Z",
     "shell.execute_reply": "2022-03-20T20:03:31.556418Z"
    },
    "papermill": {
     "duration": 0.039673,
     "end_time": "2022-03-20T20:03:31.557386",
     "exception": false,
     "start_time": "2022-03-20T20:03:31.517713",
     "status": "completed"
    },
    "tags": []
   },
   "outputs": [],
   "source": [
    "# from steves_utils.ORACLE.utils_v2 import (\n",
    "#     ALL_DISTANCES_FEET,\n",
    "#     ALL_RUNS,\n",
    "#     ALL_SERIAL_NUMBERS,\n",
    "# )\n",
    "\n",
    "\n",
    "# add_dataset(\n",
    "#     labels=ALL_SERIAL_NUMBERS,\n",
    "#     domains = list(set(ALL_DISTANCES_FEET) - {2,62,56}),\n",
    "#     num_examples_per_domain_per_label=100,\n",
    "#     pickle_path=os.path.join(get_datasets_base_path(), \"oracle.Run2_framed_2000Examples_stratified_ds.2022A.pkl\"),\n",
    "#     source_or_target_dataset=\"source\",\n",
    "#     x_transform_func=global_x_transform_func,\n",
    "#     domain_modifier=lambda u: f\"oracle2_{u}\"\n",
    "# )"
   ]
  },
  {
   "cell_type": "code",
   "execution_count": 17,
   "id": "6f289866",
   "metadata": {
    "execution": {
     "iopub.execute_input": "2022-03-20T20:03:31.595021Z",
     "iopub.status.busy": "2022-03-20T20:03:31.594511Z",
     "iopub.status.idle": "2022-03-20T20:03:31.609160Z",
     "shell.execute_reply": "2022-03-20T20:03:31.609592Z"
    },
    "papermill": {
     "duration": 0.032517,
     "end_time": "2022-03-20T20:03:31.609730",
     "exception": false,
     "start_time": "2022-03-20T20:03:31.577213",
     "status": "completed"
    },
    "tags": []
   },
   "outputs": [],
   "source": [
    "# add_dataset(\n",
    "#     labels=list(range(19)),\n",
    "#     domains = [0,1,2],\n",
    "#     num_examples_per_domain_per_label=100,\n",
    "#     pickle_path=os.path.join(get_datasets_base_path(), \"metehan.stratified_ds.2022A.pkl\"),\n",
    "#     source_or_target_dataset=\"target\",\n",
    "#     x_transform_func=global_x_transform_func,\n",
    "#     domain_modifier=lambda u: f\"met_{u}\"\n",
    "# )"
   ]
  },
  {
   "cell_type": "code",
   "execution_count": 18,
   "id": "86a863c3",
   "metadata": {
    "execution": {
     "iopub.execute_input": "2022-03-20T20:03:31.644186Z",
     "iopub.status.busy": "2022-03-20T20:03:31.643926Z",
     "iopub.status.idle": "2022-03-20T20:03:31.658692Z",
     "shell.execute_reply": "2022-03-20T20:03:31.658268Z"
    },
    "papermill": {
     "duration": 0.031206,
     "end_time": "2022-03-20T20:03:31.658788",
     "exception": false,
     "start_time": "2022-03-20T20:03:31.627582",
     "status": "completed"
    },
    "tags": []
   },
   "outputs": [],
   "source": [
    "# # from steves_utils.wisig.utils import (\n",
    "# #     ALL_NODES_MINIMUM_100_EXAMPLES,\n",
    "# #     ALL_NODES_MINIMUM_500_EXAMPLES,\n",
    "# #     ALL_NODES_MINIMUM_1000_EXAMPLES,\n",
    "# #     ALL_DAYS\n",
    "# # )\n",
    "\n",
    "# import steves_utils.wisig.utils as wisig\n",
    "\n",
    "\n",
    "# add_dataset(\n",
    "#     labels=wisig.ALL_NODES_MINIMUM_100_EXAMPLES,\n",
    "#     domains = wisig.ALL_DAYS,\n",
    "#     num_examples_per_domain_per_label=100,\n",
    "#     pickle_path=os.path.join(get_datasets_base_path(), \"wisig.node3-19.stratified_ds.2022A.pkl\"),\n",
    "#     source_or_target_dataset=\"target\",\n",
    "#     x_transform_func=global_x_transform_func,\n",
    "#     domain_modifier=lambda u: f\"wisig_{u}\"\n",
    "# )"
   ]
  },
  {
   "cell_type": "code",
   "execution_count": 19,
   "id": "fd5442bc",
   "metadata": {
    "execution": {
     "iopub.execute_input": "2022-03-20T20:03:31.695967Z",
     "iopub.status.busy": "2022-03-20T20:03:31.695695Z",
     "iopub.status.idle": "2022-03-20T20:03:31.709960Z",
     "shell.execute_reply": "2022-03-20T20:03:31.710378Z"
    },
    "papermill": {
     "duration": 0.034484,
     "end_time": "2022-03-20T20:03:31.710516",
     "exception": false,
     "start_time": "2022-03-20T20:03:31.676032",
     "status": "completed"
    },
    "tags": []
   },
   "outputs": [],
   "source": [
    "###################################\n",
    "# Build the dataset\n",
    "###################################\n",
    "train_original_source = Iterable_Aggregator(train_original_source, p.seed)\n",
    "val_original_source = Iterable_Aggregator(val_original_source, p.seed)\n",
    "test_original_source = Iterable_Aggregator(test_original_source, p.seed)\n",
    "\n",
    "\n",
    "train_original_target = Iterable_Aggregator(train_original_target, p.seed)\n",
    "val_original_target = Iterable_Aggregator(val_original_target, p.seed)\n",
    "test_original_target = Iterable_Aggregator(test_original_target, p.seed)\n",
    "\n",
    "# For CNN We only use X and Y. And we only train on the source.\n",
    "# Properly form the data using a transform lambda and Lazy_Iterable_Wrapper. Finally wrap them in a dataloader\n",
    "\n",
    "transform_lambda = lambda ex: ex[1] # Original is (<domain>, <episode>) so we strip down to episode only\n",
    "\n",
    "train_processed_source = Lazy_Iterable_Wrapper(train_original_source, transform_lambda)\n",
    "val_processed_source   = Lazy_Iterable_Wrapper(val_original_source, transform_lambda)\n",
    "test_processed_source  = Lazy_Iterable_Wrapper(test_original_source, transform_lambda)\n",
    "\n",
    "train_processed_target = Lazy_Iterable_Wrapper(train_original_target, transform_lambda)\n",
    "val_processed_target   = Lazy_Iterable_Wrapper(val_original_target, transform_lambda)\n",
    "test_processed_target  = Lazy_Iterable_Wrapper(test_original_target, transform_lambda)\n",
    "\n",
    "datasets = EasyDict({\n",
    "    \"source\": {\n",
    "        \"original\": {\"train\":train_original_source, \"val\":val_original_source, \"test\":test_original_source},\n",
    "        \"processed\": {\"train\":train_processed_source, \"val\":val_processed_source, \"test\":test_processed_source}\n",
    "    },\n",
    "    \"target\": {\n",
    "        \"original\": {\"train\":train_original_target, \"val\":val_original_target, \"test\":test_original_target},\n",
    "        \"processed\": {\"train\":train_processed_target, \"val\":val_processed_target, \"test\":test_processed_target}\n",
    "    },\n",
    "})"
   ]
  },
  {
   "cell_type": "code",
   "execution_count": 20,
   "id": "5b3c01fc",
   "metadata": {
    "execution": {
     "iopub.execute_input": "2022-03-20T20:03:31.745908Z",
     "iopub.status.busy": "2022-03-20T20:03:31.745645Z",
     "iopub.status.idle": "2022-03-20T20:03:41.541796Z",
     "shell.execute_reply": "2022-03-20T20:03:41.542257Z"
    },
    "papermill": {
     "duration": 9.812226,
     "end_time": "2022-03-20T20:03:41.542378",
     "exception": false,
     "start_time": "2022-03-20T20:03:31.730152",
     "status": "completed"
    },
    "tags": []
   },
   "outputs": [
    {
     "name": "stdout",
     "output_type": "stream",
     "text": [
      "{'W_2', 'W_1', 'C_4', 'C_3', 'C_1', 'W_4', 'C_2', 'W_3', 'C_5'}\n"
     ]
    },
    {
     "name": "stdout",
     "output_type": "stream",
     "text": [
      "{'O_50', 'O_20', 'O_26', 'O_44', 'O_8', 'O_14', 'O_38', 'O_32'}\n"
     ]
    },
    {
     "name": "stdout",
     "output_type": "stream",
     "text": [
      "tensor([[[ 0.0584, -0.0090,  0.0032,  ..., -0.0228, -0.0246,  0.0541],\n",
      "         [ 0.0263,  0.0389,  0.0135,  ..., -0.0033, -0.0592, -0.0855]],\n",
      "\n",
      "        [[-0.0150,  0.0202,  0.0057,  ...,  0.0021, -0.0214, -0.0783],\n",
      "         [-0.0557, -0.0121,  0.0010,  ...,  0.0246,  0.0596,  0.0010]],\n",
      "\n",
      "        [[ 0.0268, -0.0022,  0.0059,  ..., -0.0548, -0.0191,  0.0788],\n",
      "         [ 0.0369,  0.0089, -0.0047,  ..., -0.0151, -0.0971, -0.0242]],\n",
      "\n",
      "        ...,\n",
      "\n",
      "        [[-0.0136,  0.0157,  0.0250,  ..., -0.0191,  0.0027, -0.0291],\n",
      "         [-0.0168, -0.0242,  0.0107,  ..., -0.0049, -0.0203,  0.0154]],\n",
      "\n",
      "        [[ 0.0362, -0.0031, -0.0255,  ...,  0.0104,  0.0063, -0.0074],\n",
      "         [ 0.0173,  0.0366,  0.0043,  ..., -0.0280,  0.0092, -0.0351]],\n",
      "\n",
      "        [[ 0.0070, -0.0136, -0.0188,  ...,  0.0286, -0.0031, -0.0224],\n",
      "         [ 0.0044,  0.0213, -0.0144,  ...,  0.0201,  0.0197, -0.0075]]])\n"
     ]
    }
   ],
   "source": [
    "from steves_utils.transforms import get_average_magnitude, get_average_power\n",
    "\n",
    "print(set([u for u,_ in val_original_source]))\n",
    "print(set([u for u,_ in val_original_target]))\n",
    "\n",
    "s_x, s_y, q_x, q_y, _ = next(iter(train_processed_source))\n",
    "print(s_x)\n",
    "\n",
    "# for ds in [\n",
    "#     train_processed_source,\n",
    "#     val_processed_source,\n",
    "#     test_processed_source,\n",
    "#     train_processed_target,\n",
    "#     val_processed_target,\n",
    "#     test_processed_target\n",
    "# ]:\n",
    "#     for s_x, s_y, q_x, q_y, _ in ds:\n",
    "#         for X in (s_x, q_x):\n",
    "#             for x in X:\n",
    "#                 assert np.isclose(get_average_magnitude(x.numpy()), 1.0)\n",
    "#                 assert np.isclose(get_average_power(x.numpy()), 1.0)\n",
    "                "
   ]
  },
  {
   "cell_type": "code",
   "execution_count": 21,
   "id": "bbdacba1",
   "metadata": {
    "execution": {
     "iopub.execute_input": "2022-03-20T20:03:41.582712Z",
     "iopub.status.busy": "2022-03-20T20:03:41.582417Z",
     "iopub.status.idle": "2022-03-20T20:03:41.636363Z",
     "shell.execute_reply": "2022-03-20T20:03:41.636845Z"
    },
    "papermill": {
     "duration": 0.074465,
     "end_time": "2022-03-20T20:03:41.636996",
     "exception": false,
     "start_time": "2022-03-20T20:03:41.562531",
     "status": "completed"
    },
    "tags": []
   },
   "outputs": [
    {
     "name": "stdout",
     "output_type": "stream",
     "text": [
      "(2, 200)\n"
     ]
    }
   ],
   "source": [
    "###################################\n",
    "# Build the model\n",
    "###################################\n",
    "# easfsl only wants a tuple for the shape\n",
    "model = Steves_Prototypical_Network(x_net, device=p.device, x_shape=tuple(p.x_shape))\n",
    "optimizer = Adam(params=model.parameters(), lr=p.lr)"
   ]
  },
  {
   "cell_type": "code",
   "execution_count": 22,
   "id": "22b39ac5",
   "metadata": {
    "execution": {
     "iopub.execute_input": "2022-03-20T20:03:41.674347Z",
     "iopub.status.busy": "2022-03-20T20:03:41.674034Z",
     "iopub.status.idle": "2022-03-20T20:45:48.694385Z",
     "shell.execute_reply": "2022-03-20T20:45:48.694707Z"
    },
    "papermill": {
     "duration": 2527.040353,
     "end_time": "2022-03-20T20:45:48.694810",
     "exception": false,
     "start_time": "2022-03-20T20:03:41.654457",
     "status": "completed"
    },
    "tags": []
   },
   "outputs": [
    {
     "name": "stdout",
     "output_type": "stream",
     "text": [
      "epoch: 1, [batch: 1 / 13148], examples_per_second: 21.9877, train_label_loss: 2.0489, \n"
     ]
    },
    {
     "name": "stdout",
     "output_type": "stream",
     "text": [
      "epoch: 1, [batch: 1315 / 13148], examples_per_second: 3519.7459, train_label_loss: 0.1854, \n"
     ]
    },
    {
     "name": "stdout",
     "output_type": "stream",
     "text": [
      "epoch: 1, [batch: 2630 / 13148], examples_per_second: 3482.9648, train_label_loss: 0.0811, \n"
     ]
    },
    {
     "name": "stdout",
     "output_type": "stream",
     "text": [
      "epoch: 1, [batch: 3945 / 13148], examples_per_second: 3468.8178, train_label_loss: 0.0064, \n"
     ]
    },
    {
     "name": "stdout",
     "output_type": "stream",
     "text": [
      "epoch: 1, [batch: 5259 / 13148], examples_per_second: 3510.6561, train_label_loss: 0.0351, \n"
     ]
    },
    {
     "name": "stdout",
     "output_type": "stream",
     "text": [
      "epoch: 1, [batch: 6574 / 13148], examples_per_second: 3558.3462, train_label_loss: 0.3993, \n"
     ]
    },
    {
     "name": "stdout",
     "output_type": "stream",
     "text": [
      "epoch: 1, [batch: 7889 / 13148], examples_per_second: 3646.1506, train_label_loss: 0.0035, \n"
     ]
    },
    {
     "name": "stdout",
     "output_type": "stream",
     "text": [
      "epoch: 1, [batch: 9203 / 13148], examples_per_second: 3651.7338, train_label_loss: 0.0237, \n"
     ]
    },
    {
     "name": "stdout",
     "output_type": "stream",
     "text": [
      "epoch: 1, [batch: 10518 / 13148], examples_per_second: 3654.8775, train_label_loss: 0.0058, \n"
     ]
    },
    {
     "name": "stdout",
     "output_type": "stream",
     "text": [
      "epoch: 1, [batch: 11833 / 13148], examples_per_second: 3665.9067, train_label_loss: 0.0155, \n"
     ]
    },
    {
     "name": "stdout",
     "output_type": "stream",
     "text": [
      "=============================================================\n",
      "epoch: 1, source_val_acc_label: 0.9781, target_val_acc_label: 0.4330, source_val_label_loss: 0.1158, target_val_label_loss: 2.4464, \n",
      "=============================================================\n"
     ]
    },
    {
     "name": "stdout",
     "output_type": "stream",
     "text": [
      "New best\n"
     ]
    },
    {
     "name": "stdout",
     "output_type": "stream",
     "text": [
      "epoch: 2, [batch: 1 / 13145], examples_per_second: 2.9108, train_label_loss: 0.0433, \n"
     ]
    },
    {
     "name": "stdout",
     "output_type": "stream",
     "text": [
      "epoch: 2, [batch: 1315 / 13145], examples_per_second: 3607.7090, train_label_loss: 0.0141, \n"
     ]
    },
    {
     "name": "stdout",
     "output_type": "stream",
     "text": [
      "epoch: 2, [batch: 2629 / 13145], examples_per_second: 3602.8575, train_label_loss: 0.0025, \n"
     ]
    },
    {
     "name": "stdout",
     "output_type": "stream",
     "text": [
      "epoch: 2, [batch: 3944 / 13145], examples_per_second: 3547.9951, train_label_loss: 0.0096, \n"
     ]
    },
    {
     "name": "stdout",
     "output_type": "stream",
     "text": [
      "epoch: 2, [batch: 5258 / 13145], examples_per_second: 3578.6206, train_label_loss: 0.0818, \n"
     ]
    },
    {
     "name": "stdout",
     "output_type": "stream",
     "text": [
      "epoch: 2, [batch: 6573 / 13145], examples_per_second: 3634.3183, train_label_loss: 0.0053, \n"
     ]
    },
    {
     "name": "stdout",
     "output_type": "stream",
     "text": [
      "epoch: 2, [batch: 7887 / 13145], examples_per_second: 3664.5348, train_label_loss: 0.2454, \n"
     ]
    },
    {
     "name": "stdout",
     "output_type": "stream",
     "text": [
      "epoch: 2, [batch: 9201 / 13145], examples_per_second: 3666.4686, train_label_loss: 0.0035, \n"
     ]
    },
    {
     "name": "stdout",
     "output_type": "stream",
     "text": [
      "epoch: 2, [batch: 10516 / 13145], examples_per_second: 3662.4594, train_label_loss: 0.0030, \n"
     ]
    },
    {
     "name": "stdout",
     "output_type": "stream",
     "text": [
      "epoch: 2, [batch: 11830 / 13145], examples_per_second: 3696.7400, train_label_loss: 0.0347, \n"
     ]
    },
    {
     "name": "stdout",
     "output_type": "stream",
     "text": [
      "=============================================================\n",
      "epoch: 2, source_val_acc_label: 0.9833, target_val_acc_label: 0.4463, source_val_label_loss: 0.0777, target_val_label_loss: 2.3057, \n",
      "=============================================================\n"
     ]
    },
    {
     "name": "stdout",
     "output_type": "stream",
     "text": [
      "New best\n"
     ]
    },
    {
     "name": "stdout",
     "output_type": "stream",
     "text": [
      "epoch: 3, [batch: 1 / 13153], examples_per_second: 2.9127, train_label_loss: 0.0013, \n"
     ]
    },
    {
     "name": "stdout",
     "output_type": "stream",
     "text": [
      "epoch: 3, [batch: 1316 / 13153], examples_per_second: 3672.8989, train_label_loss: 0.1038, \n"
     ]
    },
    {
     "name": "stdout",
     "output_type": "stream",
     "text": [
      "epoch: 3, [batch: 2631 / 13153], examples_per_second: 3547.2335, train_label_loss: 0.0034, \n"
     ]
    },
    {
     "name": "stdout",
     "output_type": "stream",
     "text": [
      "epoch: 3, [batch: 3946 / 13153], examples_per_second: 3680.1693, train_label_loss: 0.0070, \n"
     ]
    },
    {
     "name": "stdout",
     "output_type": "stream",
     "text": [
      "epoch: 3, [batch: 5261 / 13153], examples_per_second: 3675.0276, train_label_loss: 0.0045, \n"
     ]
    },
    {
     "name": "stdout",
     "output_type": "stream",
     "text": [
      "epoch: 3, [batch: 6577 / 13153], examples_per_second: 3679.3583, train_label_loss: 0.0006, \n"
     ]
    },
    {
     "name": "stdout",
     "output_type": "stream",
     "text": [
      "epoch: 3, [batch: 7892 / 13153], examples_per_second: 3704.4178, train_label_loss: 0.0028, \n"
     ]
    },
    {
     "name": "stdout",
     "output_type": "stream",
     "text": [
      "epoch: 3, [batch: 9207 / 13153], examples_per_second: 3724.9227, train_label_loss: 0.0003, \n"
     ]
    },
    {
     "name": "stdout",
     "output_type": "stream",
     "text": [
      "epoch: 3, [batch: 10522 / 13153], examples_per_second: 3710.6298, train_label_loss: 0.0026, \n"
     ]
    },
    {
     "name": "stdout",
     "output_type": "stream",
     "text": [
      "epoch: 3, [batch: 11837 / 13153], examples_per_second: 3729.0356, train_label_loss: 0.1662, \n"
     ]
    },
    {
     "name": "stdout",
     "output_type": "stream",
     "text": [
      "=============================================================\n",
      "epoch: 3, source_val_acc_label: 0.9859, target_val_acc_label: 0.4932, source_val_label_loss: 0.0629, target_val_label_loss: 2.2399, \n",
      "=============================================================\n"
     ]
    },
    {
     "name": "stdout",
     "output_type": "stream",
     "text": [
      "New best\n"
     ]
    },
    {
     "name": "stdout",
     "output_type": "stream",
     "text": [
      "epoch: 4, [batch: 1 / 13157], examples_per_second: 2.9510, train_label_loss: 0.0005, \n"
     ]
    },
    {
     "name": "stdout",
     "output_type": "stream",
     "text": [
      "epoch: 4, [batch: 1316 / 13157], examples_per_second: 3678.3498, train_label_loss: 0.0015, \n"
     ]
    },
    {
     "name": "stdout",
     "output_type": "stream",
     "text": [
      "epoch: 4, [batch: 2632 / 13157], examples_per_second: 3709.3234, train_label_loss: 0.0024, \n"
     ]
    },
    {
     "name": "stdout",
     "output_type": "stream",
     "text": [
      "epoch: 4, [batch: 3947 / 13157], examples_per_second: 3706.8507, train_label_loss: 0.0052, \n"
     ]
    },
    {
     "name": "stdout",
     "output_type": "stream",
     "text": [
      "epoch: 4, [batch: 5263 / 13157], examples_per_second: 3675.3216, train_label_loss: 0.0001, \n"
     ]
    },
    {
     "name": "stdout",
     "output_type": "stream",
     "text": [
      "epoch: 4, [batch: 6579 / 13157], examples_per_second: 3656.9802, train_label_loss: 0.0690, \n"
     ]
    },
    {
     "name": "stdout",
     "output_type": "stream",
     "text": [
      "epoch: 4, [batch: 7894 / 13157], examples_per_second: 3617.1712, train_label_loss: 0.1112, \n"
     ]
    },
    {
     "name": "stdout",
     "output_type": "stream",
     "text": [
      "epoch: 4, [batch: 9210 / 13157], examples_per_second: 3563.3442, train_label_loss: 0.0768, \n"
     ]
    },
    {
     "name": "stdout",
     "output_type": "stream",
     "text": [
      "epoch: 4, [batch: 10525 / 13157], examples_per_second: 3630.4275, train_label_loss: 0.0006, \n"
     ]
    },
    {
     "name": "stdout",
     "output_type": "stream",
     "text": [
      "epoch: 4, [batch: 11841 / 13157], examples_per_second: 3650.3662, train_label_loss: 0.0004, \n"
     ]
    },
    {
     "name": "stdout",
     "output_type": "stream",
     "text": [
      "=============================================================\n",
      "epoch: 4, source_val_acc_label: 0.9861, target_val_acc_label: 0.5051, source_val_label_loss: 0.0657, target_val_label_loss: 2.2739, \n",
      "=============================================================\n"
     ]
    },
    {
     "name": "stdout",
     "output_type": "stream",
     "text": [
      "New best\n"
     ]
    },
    {
     "name": "stdout",
     "output_type": "stream",
     "text": [
      "epoch: 5, [batch: 1 / 13184], examples_per_second: 2.9517, train_label_loss: 0.0174, \n"
     ]
    },
    {
     "name": "stdout",
     "output_type": "stream",
     "text": [
      "epoch: 5, [batch: 1319 / 13184], examples_per_second: 3626.0539, train_label_loss: 0.2494, \n"
     ]
    },
    {
     "name": "stdout",
     "output_type": "stream",
     "text": [
      "epoch: 5, [batch: 2637 / 13184], examples_per_second: 3662.0083, train_label_loss: 0.0005, \n"
     ]
    },
    {
     "name": "stdout",
     "output_type": "stream",
     "text": [
      "epoch: 5, [batch: 3955 / 13184], examples_per_second: 3647.0522, train_label_loss: 0.0005, \n"
     ]
    },
    {
     "name": "stdout",
     "output_type": "stream",
     "text": [
      "epoch: 5, [batch: 5274 / 13184], examples_per_second: 3574.4238, train_label_loss: 0.0001, \n"
     ]
    },
    {
     "name": "stdout",
     "output_type": "stream",
     "text": [
      "epoch: 5, [batch: 6592 / 13184], examples_per_second: 3540.6400, train_label_loss: 0.3404, \n"
     ]
    },
    {
     "name": "stdout",
     "output_type": "stream",
     "text": [
      "epoch: 5, [batch: 7910 / 13184], examples_per_second: 3605.6560, train_label_loss: 0.0883, \n"
     ]
    },
    {
     "name": "stdout",
     "output_type": "stream",
     "text": [
      "epoch: 5, [batch: 9229 / 13184], examples_per_second: 3630.2132, train_label_loss: 0.0023, \n"
     ]
    },
    {
     "name": "stdout",
     "output_type": "stream",
     "text": [
      "epoch: 5, [batch: 10547 / 13184], examples_per_second: 3595.4078, train_label_loss: 0.0004, \n"
     ]
    },
    {
     "name": "stdout",
     "output_type": "stream",
     "text": [
      "epoch: 5, [batch: 11865 / 13184], examples_per_second: 3590.0952, train_label_loss: 0.0000, \n"
     ]
    },
    {
     "name": "stdout",
     "output_type": "stream",
     "text": [
      "=============================================================\n",
      "epoch: 5, source_val_acc_label: 0.9861, target_val_acc_label: 0.4625, source_val_label_loss: 0.0603, target_val_label_loss: 2.2089, \n",
      "=============================================================\n"
     ]
    },
    {
     "name": "stdout",
     "output_type": "stream",
     "text": [
      "epoch: 6, [batch: 1 / 13166], examples_per_second: 2.8293, train_label_loss: 0.0010, \n"
     ]
    },
    {
     "name": "stdout",
     "output_type": "stream",
     "text": [
      "epoch: 6, [batch: 1317 / 13166], examples_per_second: 3538.0765, train_label_loss: 0.0011, \n"
     ]
    },
    {
     "name": "stdout",
     "output_type": "stream",
     "text": [
      "epoch: 6, [batch: 2634 / 13166], examples_per_second: 3505.6479, train_label_loss: 0.0013, \n"
     ]
    },
    {
     "name": "stdout",
     "output_type": "stream",
     "text": [
      "epoch: 6, [batch: 3950 / 13166], examples_per_second: 3541.7309, train_label_loss: 0.0970, \n"
     ]
    },
    {
     "name": "stdout",
     "output_type": "stream",
     "text": [
      "epoch: 6, [batch: 5267 / 13166], examples_per_second: 3541.3503, train_label_loss: 0.0003, \n"
     ]
    },
    {
     "name": "stdout",
     "output_type": "stream",
     "text": [
      "epoch: 6, [batch: 6583 / 13166], examples_per_second: 3559.3487, train_label_loss: 0.2030, \n"
     ]
    },
    {
     "name": "stdout",
     "output_type": "stream",
     "text": [
      "epoch: 6, [batch: 7900 / 13166], examples_per_second: 3565.2070, train_label_loss: 0.1992, \n"
     ]
    },
    {
     "name": "stdout",
     "output_type": "stream",
     "text": [
      "epoch: 6, [batch: 9216 / 13166], examples_per_second: 3539.5481, train_label_loss: 0.0363, \n"
     ]
    },
    {
     "name": "stdout",
     "output_type": "stream",
     "text": [
      "epoch: 6, [batch: 10533 / 13166], examples_per_second: 3616.1349, train_label_loss: 0.2023, \n"
     ]
    },
    {
     "name": "stdout",
     "output_type": "stream",
     "text": [
      "epoch: 6, [batch: 11849 / 13166], examples_per_second: 3665.8757, train_label_loss: 0.0004, \n"
     ]
    },
    {
     "name": "stdout",
     "output_type": "stream",
     "text": [
      "=============================================================\n",
      "epoch: 6, source_val_acc_label: 0.9866, target_val_acc_label: 0.4061, source_val_label_loss: 0.0601, target_val_label_loss: 2.1781, \n",
      "=============================================================\n"
     ]
    },
    {
     "name": "stdout",
     "output_type": "stream",
     "text": [
      "epoch: 7, [batch: 1 / 13163], examples_per_second: 2.8717, train_label_loss: 0.0058, \n"
     ]
    },
    {
     "name": "stdout",
     "output_type": "stream",
     "text": [
      "epoch: 7, [batch: 1317 / 13163], examples_per_second: 3547.3725, train_label_loss: 0.0003, \n"
     ]
    },
    {
     "name": "stdout",
     "output_type": "stream",
     "text": [
      "epoch: 7, [batch: 2633 / 13163], examples_per_second: 3634.6058, train_label_loss: 0.0001, \n"
     ]
    },
    {
     "name": "stdout",
     "output_type": "stream",
     "text": [
      "epoch: 7, [batch: 3949 / 13163], examples_per_second: 3715.3105, train_label_loss: 0.0002, \n"
     ]
    },
    {
     "name": "stdout",
     "output_type": "stream",
     "text": [
      "epoch: 7, [batch: 5265 / 13163], examples_per_second: 3565.7100, train_label_loss: 0.2879, \n"
     ]
    },
    {
     "name": "stdout",
     "output_type": "stream",
     "text": [
      "epoch: 7, [batch: 6582 / 13163], examples_per_second: 3695.0338, train_label_loss: 0.0001, \n"
     ]
    },
    {
     "name": "stdout",
     "output_type": "stream",
     "text": [
      "epoch: 7, [batch: 7898 / 13163], examples_per_second: 3685.4543, train_label_loss: 0.0001, \n"
     ]
    },
    {
     "name": "stdout",
     "output_type": "stream",
     "text": [
      "epoch: 7, [batch: 9214 / 13163], examples_per_second: 3708.0352, train_label_loss: 0.0082, \n"
     ]
    },
    {
     "name": "stdout",
     "output_type": "stream",
     "text": [
      "epoch: 7, [batch: 10530 / 13163], examples_per_second: 3705.1094, train_label_loss: 0.1088, \n"
     ]
    },
    {
     "name": "stdout",
     "output_type": "stream",
     "text": [
      "epoch: 7, [batch: 11846 / 13163], examples_per_second: 3691.4141, train_label_loss: 0.0012, \n"
     ]
    },
    {
     "name": "stdout",
     "output_type": "stream",
     "text": [
      "=============================================================\n",
      "epoch: 7, source_val_acc_label: 0.9871, target_val_acc_label: 0.4370, source_val_label_loss: 0.0562, target_val_label_loss: 2.2008, \n",
      "=============================================================\n"
     ]
    },
    {
     "name": "stdout",
     "output_type": "stream",
     "text": [
      "epoch: 8, [batch: 1 / 13156], examples_per_second: 2.9541, train_label_loss: 0.1344, \n"
     ]
    },
    {
     "name": "stdout",
     "output_type": "stream",
     "text": [
      "epoch: 8, [batch: 1316 / 13156], examples_per_second: 3663.3688, train_label_loss: 0.0023, \n"
     ]
    },
    {
     "name": "stdout",
     "output_type": "stream",
     "text": [
      "epoch: 8, [batch: 2632 / 13156], examples_per_second: 3700.8431, train_label_loss: 0.0084, \n"
     ]
    },
    {
     "name": "stdout",
     "output_type": "stream",
     "text": [
      "epoch: 8, [batch: 3947 / 13156], examples_per_second: 3720.0103, train_label_loss: 0.0072, \n"
     ]
    },
    {
     "name": "stdout",
     "output_type": "stream",
     "text": [
      "epoch: 8, [batch: 5263 / 13156], examples_per_second: 3683.6185, train_label_loss: 0.0157, \n"
     ]
    },
    {
     "name": "stdout",
     "output_type": "stream",
     "text": [
      "epoch: 8, [batch: 6578 / 13156], examples_per_second: 3715.9295, train_label_loss: 0.0000, \n"
     ]
    },
    {
     "name": "stdout",
     "output_type": "stream",
     "text": [
      "epoch: 8, [batch: 7894 / 13156], examples_per_second: 3709.7224, train_label_loss: 0.0048, \n"
     ]
    },
    {
     "name": "stdout",
     "output_type": "stream",
     "text": [
      "epoch: 8, [batch: 9209 / 13156], examples_per_second: 3695.6282, train_label_loss: 0.0002, \n"
     ]
    },
    {
     "name": "stdout",
     "output_type": "stream",
     "text": [
      "epoch: 8, [batch: 10525 / 13156], examples_per_second: 3720.8025, train_label_loss: 0.0001, \n"
     ]
    },
    {
     "name": "stdout",
     "output_type": "stream",
     "text": [
      "epoch: 8, [batch: 11840 / 13156], examples_per_second: 3611.6059, train_label_loss: 0.1310, \n"
     ]
    },
    {
     "name": "stdout",
     "output_type": "stream",
     "text": [
      "=============================================================\n",
      "epoch: 8, source_val_acc_label: 0.9867, target_val_acc_label: 0.3540, source_val_label_loss: 0.0574, target_val_label_loss: 2.1699, \n",
      "=============================================================\n"
     ]
    },
    {
     "name": "stdout",
     "output_type": "stream",
     "text": [
      "Patience (3) exhausted\n"
     ]
    }
   ],
   "source": [
    "###################################\n",
    "# train\n",
    "###################################\n",
    "jig = PTN_Train_Eval_Test_Jig(model, p.BEST_MODEL_PATH, p.device)\n",
    "\n",
    "jig.train(\n",
    "    train_iterable=datasets.source.processed.train,\n",
    "    source_val_iterable=datasets.source.processed.val,\n",
    "    target_val_iterable=datasets.target.processed.val,\n",
    "    num_epochs=p.n_epoch,\n",
    "    num_logs_per_epoch=p.NUM_LOGS_PER_EPOCH,\n",
    "    patience=p.patience,\n",
    "    optimizer=optimizer,\n",
    "    criteria_for_best=p.criteria_for_best,\n",
    ")"
   ]
  },
  {
   "cell_type": "code",
   "execution_count": 23,
   "id": "31e8fabf",
   "metadata": {
    "execution": {
     "iopub.execute_input": "2022-03-20T20:45:48.762900Z",
     "iopub.status.busy": "2022-03-20T20:45:48.762649Z",
     "iopub.status.idle": "2022-03-20T20:45:48.782339Z",
     "shell.execute_reply": "2022-03-20T20:45:48.781949Z"
    },
    "papermill": {
     "duration": 0.053566,
     "end_time": "2022-03-20T20:45:48.782430",
     "exception": false,
     "start_time": "2022-03-20T20:45:48.728864",
     "status": "completed"
    },
    "tags": []
   },
   "outputs": [],
   "source": [
    "total_experiment_time_secs = time.time() - start_time_secs"
   ]
  },
  {
   "cell_type": "code",
   "execution_count": 24,
   "id": "87b9595b",
   "metadata": {
    "execution": {
     "iopub.execute_input": "2022-03-20T20:45:48.854789Z",
     "iopub.status.busy": "2022-03-20T20:45:48.854518Z",
     "iopub.status.idle": "2022-03-20T20:48:13.034608Z",
     "shell.execute_reply": "2022-03-20T20:48:13.034139Z"
    },
    "papermill": {
     "duration": 144.21695,
     "end_time": "2022-03-20T20:48:13.034719",
     "exception": false,
     "start_time": "2022-03-20T20:45:48.817769",
     "status": "completed"
    },
    "tags": []
   },
   "outputs": [],
   "source": [
    "###################################\n",
    "# Evaluate the model\n",
    "###################################\n",
    "source_test_label_accuracy, source_test_label_loss = jig.test(datasets.source.processed.test)\n",
    "target_test_label_accuracy, target_test_label_loss = jig.test(datasets.target.processed.test)\n",
    "\n",
    "source_val_label_accuracy, source_val_label_loss = jig.test(datasets.source.processed.val)\n",
    "target_val_label_accuracy, target_val_label_loss = jig.test(datasets.target.processed.val)\n",
    "\n",
    "history = jig.get_history()\n",
    "\n",
    "total_epochs_trained = len(history[\"epoch_indices\"])\n",
    "\n",
    "val_dl = Iterable_Aggregator((datasets.source.original.val,datasets.target.original.val))\n",
    "\n",
    "confusion = ptn_confusion_by_domain_over_dataloader(model, p.device, val_dl)\n",
    "per_domain_accuracy = per_domain_accuracy_from_confusion(confusion)\n",
    "\n",
    "# Add a key to per_domain_accuracy for if it was a source domain\n",
    "for domain, accuracy in per_domain_accuracy.items():\n",
    "    per_domain_accuracy[domain] = {\n",
    "        \"accuracy\": accuracy,\n",
    "        \"source?\": domain in p.domains_source\n",
    "    }\n",
    "\n",
    "# Do an independent accuracy assesment JUST TO BE SURE!\n",
    "# _source_test_label_accuracy = independent_accuracy_assesment(model, datasets.source.processed.test, p.device)\n",
    "# _target_test_label_accuracy = independent_accuracy_assesment(model, datasets.target.processed.test, p.device)\n",
    "# _source_val_label_accuracy = independent_accuracy_assesment(model, datasets.source.processed.val, p.device)\n",
    "# _target_val_label_accuracy = independent_accuracy_assesment(model, datasets.target.processed.val, p.device)\n",
    "\n",
    "# assert(_source_test_label_accuracy == source_test_label_accuracy)\n",
    "# assert(_target_test_label_accuracy == target_test_label_accuracy)\n",
    "# assert(_source_val_label_accuracy == source_val_label_accuracy)\n",
    "# assert(_target_val_label_accuracy == target_val_label_accuracy)\n",
    "\n",
    "experiment = {\n",
    "    \"experiment_name\": p.experiment_name,\n",
    "    \"parameters\": dict(p),\n",
    "    \"results\": {\n",
    "        \"source_test_label_accuracy\": source_test_label_accuracy,\n",
    "        \"source_test_label_loss\": source_test_label_loss,\n",
    "        \"target_test_label_accuracy\": target_test_label_accuracy,\n",
    "        \"target_test_label_loss\": target_test_label_loss,\n",
    "        \"source_val_label_accuracy\": source_val_label_accuracy,\n",
    "        \"source_val_label_loss\": source_val_label_loss,\n",
    "        \"target_val_label_accuracy\": target_val_label_accuracy,\n",
    "        \"target_val_label_loss\": target_val_label_loss,\n",
    "        \"total_epochs_trained\": total_epochs_trained,\n",
    "        \"total_experiment_time_secs\": total_experiment_time_secs,\n",
    "        \"confusion\": confusion,\n",
    "        \"per_domain_accuracy\": per_domain_accuracy,\n",
    "    },\n",
    "    \"history\": history,\n",
    "    \"dataset_metrics\": get_dataset_metrics(datasets, \"ptn\"),\n",
    "}"
   ]
  },
  {
   "cell_type": "code",
   "execution_count": 25,
   "id": "54a21829",
   "metadata": {
    "execution": {
     "iopub.execute_input": "2022-03-20T20:48:13.108270Z",
     "iopub.status.busy": "2022-03-20T20:48:13.107983Z",
     "iopub.status.idle": "2022-03-20T20:48:13.249800Z",
     "shell.execute_reply": "2022-03-20T20:48:13.249406Z"
    },
    "papermill": {
     "duration": 0.176747,
     "end_time": "2022-03-20T20:48:13.249905",
     "exception": false,
     "start_time": "2022-03-20T20:48:13.073158",
     "status": "completed"
    },
    "tags": []
   },
   "outputs": [
    {
     "data": {
      "image/png": "[encoded data removed]",
      "text/plain": [
       "<Figure size 1080x504 with 1 Axes>"
      ]
     },
     "metadata": {
      "needs_background": "light"
     },
     "output_type": "display_data"
    }
   ],
   "source": [
    "ax = get_loss_curve(experiment)\n",
    "plt.show()"
   ]
  },
  {
   "cell_type": "code",
   "execution_count": 26,
   "id": "fd8a0f60",
   "metadata": {
    "execution": {
     "iopub.execute_input": "2022-03-20T20:48:13.322324Z",
     "iopub.status.busy": "2022-03-20T20:48:13.321813Z",
     "iopub.status.idle": "2022-03-20T20:48:13.471881Z",
     "shell.execute_reply": "2022-03-20T20:48:13.472212Z"
    },
    "papermill": {
     "duration": 0.18513,
     "end_time": "2022-03-20T20:48:13.472325",
     "exception": false,
     "start_time": "2022-03-20T20:48:13.287195",
     "status": "completed"
    },
    "tags": []
   },
   "outputs": [
    {
     "data": {
      "text/plain": [
       "<AxesSubplot:title={'center':'Results'}>"
      ]
     },
     "execution_count": 26,
     "metadata": {},
     "output_type": "execute_result"
    },
    {
     "data": {
      "image/png": "[encoded data removed]",
      "text/plain": [
       "<Figure size 1080x504 with 1 Axes>"
      ]
     },
     "metadata": {
      "needs_background": "light"
     },
     "output_type": "display_data"
    }
   ],
   "source": [
    "get_results_table(experiment)"
   ]
  },
  {
   "cell_type": "code",
   "execution_count": 27,
   "id": "cf8dc689",
   "metadata": {
    "execution": {
     "iopub.execute_input": "2022-03-20T20:48:13.547566Z",
     "iopub.status.busy": "2022-03-20T20:48:13.546662Z",
     "iopub.status.idle": "2022-03-20T20:48:13.720098Z",
     "shell.execute_reply": "2022-03-20T20:48:13.719613Z"
    },
    "papermill": {
     "duration": 0.208512,
     "end_time": "2022-03-20T20:48:13.720204",
     "exception": false,
     "start_time": "2022-03-20T20:48:13.511692",
     "status": "completed"
    },
    "tags": []
   },
   "outputs": [
    {
     "data": {
      "text/plain": [
       "<AxesSubplot:title={'center':'Per Domain Validation Accuracy'}, xlabel='domain'>"
      ]
     },
     "execution_count": 27,
     "metadata": {},
     "output_type": "execute_result"
    },
    {
     "data": {
      "image/png": "[encoded data removed]",
      "text/plain": [
       "<Figure size 1080x504 with 1 Axes>"
      ]
     },
     "metadata": {
      "needs_background": "light"
     },
     "output_type": "display_data"
    }
   ],
   "source": [
    "get_domain_accuracies(experiment)"
   ]
  },
  {
   "cell_type": "code",
   "execution_count": 28,
   "id": "a74ae082",
   "metadata": {
    "execution": {
     "iopub.execute_input": "2022-03-20T20:48:13.796026Z",
     "iopub.status.busy": "2022-03-20T20:48:13.795752Z",
     "iopub.status.idle": "2022-03-20T20:48:13.813976Z",
     "shell.execute_reply": "2022-03-20T20:48:13.813559Z"
    },
    "papermill": {
     "duration": 0.055599,
     "end_time": "2022-03-20T20:48:13.814076",
     "exception": false,
     "start_time": "2022-03-20T20:48:13.758477",
     "status": "completed"
    },
    "tags": []
   },
   "outputs": [
    {
     "name": "stdout",
     "output_type": "stream",
     "text": [
      "Source Test Label Accuracy: 0.9850733710285406 Target Test Label Accuracy: 0.5074869791666666\n",
      "Source Val Label Accuracy: 0.986114920460779 Target Val Label Accuracy: 0.505078125\n"
     ]
    }
   ],
   "source": [
    "print(\"Source Test Label Accuracy:\", experiment[\"results\"][\"source_test_label_accuracy\"], \"Target Test Label Accuracy:\", experiment[\"results\"][\"target_test_label_accuracy\"])\n",
    "print(\"Source Val Label Accuracy:\", experiment[\"results\"][\"source_val_label_accuracy\"], \"Target Val Label Accuracy:\", experiment[\"results\"][\"target_val_label_accuracy\"])"
   ]
  },
  {
   "cell_type": "code",
   "execution_count": 29,
   "id": "dacca602",
   "metadata": {
    "execution": {
     "iopub.execute_input": "2022-03-20T20:48:13.890930Z",
     "iopub.status.busy": "2022-03-20T20:48:13.890660Z",
     "iopub.status.idle": "2022-03-20T20:48:13.908048Z",
     "shell.execute_reply": "2022-03-20T20:48:13.908339Z"
    },
    "papermill": {
     "duration": 0.054794,
     "end_time": "2022-03-20T20:48:13.908429",
     "exception": false,
     "start_time": "2022-03-20T20:48:13.853635",
     "status": "completed"
    },
    "tags": [
     "experiment_json"
    ]
   },
   "outputs": [
    {
     "data": {
      "text/plain": [
       "'{\"experiment_name\": \"tl_3Av2:cores+wisig -> oracle.run1.framed\", \"parameters\": {\"experiment_name\": \"tl_3Av2:cores+wisig -> oracle.run1.framed\", \"device\": \"cuda\", \"lr\": 0.0001, \"x_shape\": [2, 200], \"n_shot\": 3, \"n_query\": 2, \"train_k_factor\": 3, \"val_k_factor\": 2, \"test_k_factor\": 2, \"torch_default_dtype\": \"torch.float32\", \"n_epoch\": 50, \"patience\": 3, \"criteria_for_best\": \"target_accuracy\", \"x_net\": [{\"class\": \"nnReshape\", \"kargs\": {\"shape\": [-1, 1, 2, 200]}}, {\"class\": \"Conv2d\", \"kargs\": {\"in_channels\": 1, \"out_channels\": 256, \"kernel_size\": [1, 7], \"bias\": false, \"padding\": [0, 3]}}, {\"class\": \"ReLU\", \"kargs\": {\"inplace\": true}}, {\"class\": \"BatchNorm2d\", \"kargs\": {\"num_features\": 256}}, {\"class\": \"Conv2d\", \"kargs\": {\"in_channels\": 256, \"out_channels\": 80, \"kernel_size\": [2, 7], \"bias\": true, \"padding\": [0, 3]}}, {\"class\": \"ReLU\", \"kargs\": {\"inplace\": true}}, {\"class\": \"BatchNorm2d\", \"kargs\": {\"num_features\": 80}}, {\"class\": \"Flatten\", \"kargs\": {}}, {\"class\": \"Linear\", \"kargs\": {\"in_features\": 16000, \"out_features\": 256}}, {\"class\": \"ReLU\", \"kargs\": {\"inplace\": true}}, {\"class\": \"BatchNorm1d\", \"kargs\": {\"num_features\": 256}}, {\"class\": \"Linear\", \"kargs\": {\"in_features\": 256, \"out_features\": 256}}], \"NUM_LOGS_PER_EPOCH\": 10, \"BEST_MODEL_PATH\": \"./best_model.pth\", \"n_way\": 16, \"datasets\": [{\"labels\": [\"1-10.\", \"1-11.\", \"1-15.\", \"1-16.\", \"1-17.\", \"1-18.\", \"1-19.\", \"10-4.\", \"10-7.\", \"11-1.\", \"11-14.\", \"11-17.\", \"11-20.\", \"11-7.\", \"13-20.\", \"13-8.\", \"14-10.\", \"14-11.\", \"14-14.\", \"14-7.\", \"15-1.\", \"15-20.\", \"16-1.\", \"16-16.\", \"17-10.\", \"17-11.\", \"17-2.\", \"19-1.\", \"19-16.\", \"19-19.\", \"19-20.\", \"19-3.\", \"2-10.\", \"2-11.\", \"2-17.\", \"2-18.\", \"2-20.\", \"2-3.\", \"2-4.\", \"2-5.\", \"2-6.\", \"2-7.\", \"2-8.\", \"3-13.\", \"3-18.\", \"3-3.\", \"4-1.\", \"4-10.\", \"4-11.\", \"4-19.\", \"5-5.\", \"6-15.\", \"7-10.\", \"7-14.\", \"8-18.\", \"8-20.\", \"8-3.\", \"8-8.\"], \"domains\": [1, 2, 3, 4, 5], \"num_examples_per_domain_per_label\": -1, \"pickle_path\": \"/mnt/wd500GB/CSC500/csc500-main/datasets/cores.stratified_ds.2022A.pkl\", \"source_or_target_dataset\": \"source\", \"x_transforms\": [\"take_200\"], \"episode_transforms\": [], \"domain_prefix\": \"C_\"}, {\"labels\": [\"1-10\", \"1-12\", \"1-14\", \"1-16\", \"1-18\", \"1-19\", \"1-8\", \"10-11\", \"10-17\", \"10-4\", \"10-7\", \"11-1\", \"11-10\", \"11-19\", \"11-20\", \"11-4\", \"11-7\", \"12-19\", \"12-20\", \"12-7\", \"13-14\", \"13-18\", \"13-19\", \"13-20\", \"13-3\", \"13-7\", \"14-10\", \"14-11\", \"14-12\", \"14-13\", \"14-14\", \"14-19\", \"14-20\", \"14-7\", \"14-8\", \"14-9\", \"15-1\", \"15-19\", \"15-6\", \"16-1\", \"16-16\", \"16-19\", \"16-20\", \"17-10\", \"17-11\", \"18-1\", \"18-10\", \"18-11\", \"18-12\", \"18-13\", \"18-14\", \"18-15\", \"18-16\", \"18-17\", \"18-19\", \"18-2\", \"18-20\", \"18-4\", \"18-5\", \"18-7\", \"18-8\", \"18-9\", \"19-1\", \"19-10\", \"19-11\", \"19-12\", \"19-13\", \"19-14\", \"19-15\", \"19-19\", \"19-2\", \"19-20\", \"19-3\", \"19-4\", \"19-6\", \"19-7\", \"19-8\", \"19-9\", \"2-1\", \"2-13\", \"2-15\", \"2-3\", \"2-4\", \"2-5\", \"2-6\", \"2-7\", \"2-8\", \"20-1\", \"20-12\", \"20-14\", \"20-15\", \"20-16\", \"20-18\", \"20-19\", \"20-20\", \"20-3\", \"20-4\", \"20-5\", \"20-7\", \"20-8\", \"3-1\", \"3-13\", \"3-18\", \"3-2\", \"3-8\", \"4-1\", \"4-10\", \"4-11\", \"5-1\", \"5-5\", \"6-1\", \"6-15\", \"6-6\", \"7-10\", \"7-11\", \"7-12\", \"7-13\", \"7-14\", \"7-7\", \"7-8\", \"7-9\", \"8-1\", \"8-13\", \"8-14\", \"8-18\", \"8-20\", \"8-3\", \"8-8\", \"9-1\", \"9-7\"], \"domains\": [1, 2, 3, 4], \"num_examples_per_domain_per_label\": -1, \"pickle_path\": \"/mnt/wd500GB/CSC500/csc500-main/datasets/wisig.node3-19.stratified_ds.2022A.pkl\", \"source_or_target_dataset\": \"source\", \"x_transforms\": [\"take_200\"], \"episode_transforms\": [], \"domain_prefix\": \"W_\"}, {\"labels\": [\"3123D52\", \"3123D65\", \"3123D79\", \"3123D80\", \"3123D54\", \"3123D70\", \"3123D7B\", \"3123D89\", \"3123D58\", \"3123D76\", \"3123D7D\", \"3123EFE\", \"3123D64\", \"3123D78\", \"3123D7E\", \"3124E4A\"], \"domains\": [32, 38, 8, 44, 14, 50, 20, 26], \"num_examples_per_domain_per_label\": 2000, \"pickle_path\": \"/mnt/wd500GB/CSC500/csc500-main/datasets/oracle.Run1_framed_2000Examples_stratified_ds.2022A.pkl\", \"source_or_target_dataset\": \"target\", \"x_transforms\": [\"take_200\", \"resample_20Msps_to_25Msps\"], \"episode_transforms\": [], \"domain_prefix\": \"O_\"}], \"seed\": 500, \"dataset_seed\": 500, \"domains_source\": [\"C_1\", \"C_2\", \"C_3\", \"C_4\", \"C_5\", \"W_1\", \"W_2\", \"W_3\", \"W_4\"], \"domains_target\": [\"O_32\", \"O_38\", \"O_8\", \"O_44\", \"O_14\", \"O_50\", \"O_20\", \"O_26\"]}, \"results\": {\"source_test_label_accuracy\": 0.9850733710285406, \"source_test_label_loss\": 0.06919954717159271, \"target_test_label_accuracy\": 0.5074869791666666, \"target_test_label_loss\": 2.272705554962158, \"source_val_label_accuracy\": 0.986114920460779, \"source_val_label_loss\": 0.0656718835234642, \"target_val_label_accuracy\": 0.505078125, \"target_val_label_loss\": 2.273932456970215, \"total_epochs_trained\": 8, \"total_experiment_time_secs\": 2562.363050699234, \"confusion\": {\"W_3\": {\"99\": {\"99\": 34, \"25\": 1, \"69\": 1}, \"8\": {\"8\": 124}, \"65\": {\"65\": 12}, \"117\": {\"117\": 110, \"7\": 1, \"27\": 1}, \"18\": {\"18\": 122, \"88\": 1, \"126\": 1}, \"39\": {\"39\": 106, \"126\": 1, \"16\": 1}, \"102\": {\"102\": 124}, \"76\": {\"65\": 1, \"76\": 15}, \"101\": {\"101\": 50, \"88\": 1, \"10\": 1}, \"57\": {\"57\": 20}, \"86\": {\"86\": 26, \"91\": 1, \"101\": 1}, \"11\": {\"11\": 131, \"88\": 1}, \"98\": {\"98\": 128}, \"42\": {\"42\": 28}, \"47\": {\"47\": 12}, \"49\": {\"49\": 24}, \"111\": {\"111\": 129, \"5\": 2, \"124\": 1}, \"36\": {\"36\": 116}, \"124\": {\"124\": 105, \"49\": 1}, \"122\": {\"122\": 55, \"21\": 1, \"69\": 1, \"88\": 1, \"27\": 1, \"40\": 1}, \"93\": {\"93\": 142}, \"89\": {\"89\": 28}, \"51\": {\"51\": 16}, \"73\": {\"73\": 39, \"21\": 1}, \"45\": {\"45\": 16}, \"5\": {\"5\": 107, \"26\": 1, \"69\": 1, \"88\": 2, \"18\": 1}, \"69\": {\"69\": 82, \"18\": 1, \"106\": 1}, \"26\": {\"26\": 130}, \"1\": {\"1\": 107, \"21\": 1}, \"92\": {\"92\": 32}, \"96\": {\"96\": 20}, \"85\": {\"85\": 36}, \"114\": {\"114\": 125, \"128\": 1}, \"50\": {\"50\": 16}, \"81\": {\"81\": 32}, \"2\": {\"2\": 27, \"128\": 1}, \"33\": {\"33\": 145, \"88\": 1}, \"31\": {\"31\": 20}, \"90\": {\"90\": 116, \"93\": 1, \"10\": 1}, \"17\": {\"17\": 10, \"15\": 1, \"63\": 1, \"100\": 1, \"88\": 1, \"24\": 1, \"95\": 1}, \"116\": {\"116\": 28}, \"91\": {\"91\": 23, \"32\": 1}, \"120\": {\"120\": 20}, \"128\": {\"128\": 32}, \"78\": {\"78\": 12, \"17\": 1, \"24\": 1, \"40\": 1, \"10\": 1}, \"58\": {\"58\": 16}, \"23\": {\"23\": 29, \"60\": 2, \"88\": 1}, \"15\": {\"15\": 102, \"10\": 1, \"21\": 1}, \"74\": {\"74\": 16}, \"34\": {\"34\": 31, \"0\": 1}, \"103\": {\"103\": 16}, \"106\": {\"106\": 100}, \"44\": {\"44\": 69, \"120\": 1, \"19\": 1, \"90\": 1}, \"9\": {\"9\": 31, \"40\": 1}, \"97\": {\"97\": 20}, \"123\": {\"123\": 14, \"88\": 1, \"116\": 1}, \"6\": {\"6\": 30, \"98\": 1, \"69\": 1}, \"68\": {\"68\": 16}, \"24\": {\"24\": 48}, \"21\": {\"21\": 43, \"49\": 1, \"70\": 1, \"27\": 1, \"31\": 1, \"24\": 1}, \"83\": {\"83\": 22, \"27\": 1, \"61\": 1}, \"60\": {\"60\": 28}, \"87\": {\"87\": 120}, \"30\": {\"30\": 80, \"116\": 1, \"24\": 1, \"17\": 1, \"69\": 1}, \"43\": {\"43\": 53, \"27\": 1, \"21\": 2}, \"115\": {\"115\": 16}, \"40\": {\"40\": 119, \"69\": 1}, \"112\": {\"112\": 14, \"55\": 1, \"92\": 1}, \"66\": {\"66\": 16}, \"110\": {\"110\": 91, \"24\": 1}, \"3\": {\"3\": 112, \"1\": 1, \"30\": 1}, \"20\": {\"20\": 16}, \"28\": {\"28\": 16}, \"84\": {\"84\": 103, \"27\": 1, \"108\": 1, \"26\": 1, \"16\": 1, \"87\": 1}, \"79\": {\"79\": 12}, \"118\": {\"118\": 97, \"127\": 1, \"10\": 1, \"126\": 1}, \"56\": {\"56\": 10, \"70\": 1, \"82\": 1}, \"48\": {\"48\": 15, \"41\": 1}, \"77\": {\"77\": 16}, \"14\": {\"14\": 80}, \"64\": {\"64\": 20}, \"67\": {\"67\": 15, \"27\": 1}, \"62\": {\"62\": 124}, \"75\": {\"75\": 16}, \"63\": {\"63\": 13, \"34\": 1, \"1\": 1, \"98\": 1}, \"7\": {\"7\": 112}, \"125\": {\"125\": 100, \"124\": 1, \"108\": 1, \"31\": 1, \"101\": 1}, \"37\": {\"37\": 16}, \"121\": {\"121\": 28, \"82\": 2, \"22\": 1, \"120\": 1}, \"16\": {\"16\": 101, \"88\": 1, \"94\": 1, \"26\": 1}, \"35\": {\"35\": 11, \"1\": 1}, \"32\": {\"32\": 32}, \"46\": {\"46\": 16}, \"70\": {\"70\": 69, \"69\": 1, \"21\": 1, \"88\": 1}, \"129\": {\"129\": 32}, \"95\": {\"95\": 31, \"36\": 1}, \"72\": {\"72\": 28}, \"19\": {\"19\": 32}, \"52\": {\"52\": 16}, \"100\": {\"100\": 15, \"102\": 1}, \"104\": {\"104\": 16}, \"59\": {\"59\": 12}, \"109\": {\"109\": 126}, \"88\": {\"88\": 107, \"108\": 1}, \"27\": {\"27\": 89, \"21\": 1, \"26\": 2, \"110\": 1, \"36\": 1}, \"113\": {\"113\": 118, \"33\": 1, \"8\": 1}, \"105\": {\"105\": 124}, \"71\": {\"71\": 67, \"30\": 1}, \"108\": {\"108\": 123, \"27\": 1}, \"41\": {\"41\": 16}, \"80\": {\"80\": 15, \"23\": 1}, \"13\": {\"13\": 14, \"121\": 1, \"115\": 1}, \"55\": {\"55\": 16}, \"0\": {\"0\": 103, \"27\": 1, \"98\": 1, \"19\": 1}, \"25\": {\"25\": 16}, \"53\": {\"53\": 20}, \"61\": {\"61\": 16}, \"38\": {\"38\": 16}, \"127\": {\"127\": 124, \"88\": 1, \"36\": 1, \"108\": 1, \"84\": 1}, \"4\": {\"4\": 93, \"88\": 1, \"102\": 1, \"10\": 1}, \"12\": {\"12\": 104}, \"126\": {\"126\": 119, \"88\": 2, \"39\": 3}, \"29\": {\"29\": 32}, \"107\": {\"107\": 136}, \"82\": {\"82\": 28}, \"94\": {\"94\": 83, \"18\": 1}, \"54\": {\"54\": 16}, \"10\": {\"10\": 127, \"88\": 1}, \"22\": {\"22\": 16}, \"119\": {\"119\": 16}}, \"C_4\": {\"38\": {\"38\": 40}, \"3\": {\"3\": 124}, \"24\": {\"24\": 56}, \"49\": {\"49\": 20}, \"7\": {\"7\": 24}, \"17\": {\"17\": 80}, \"43\": {\"43\": 148}, \"30\": {\"30\": 44}, \"44\": {\"44\": 132}, \"23\": {\"23\": 144}, \"37\": {\"37\": 24}, \"4\": {\"4\": 132}, \"57\": {\"57\": 100}, \"16\": {\"16\": 96}, \"18\": {\"18\": 107, \"3\": 1}, \"20\": {\"20\": 124}, \"45\": {\"45\": 96}, \"15\": {\"15\": 132}, \"52\": {\"52\": 116}, \"19\": {\"19\": 140}, \"54\": {\"54\": 108}, \"56\": {\"56\": 130}, \"40\": {\"40\": 134}, \"28\": {\"28\": 32}, \"2\": {\"2\": 36}, \"9\": {\"9\": 120}, \"0\": {\"0\": 79, \"46\": 1}, \"36\": {\"36\": 92}, \"55\": {\"55\": 130}, \"35\": {\"35\": 40}, \"39\": {\"39\": 20}, \"31\": {\"31\": 28}, \"14\": {\"14\": 16}, \"12\": {\"12\": 92}, \"6\": {\"6\": 112}, \"26\": {\"26\": 24}, \"50\": {\"50\": 130, \"3\": 2}, \"21\": {\"21\": 122}, \"46\": {\"46\": 140}, \"51\": {\"51\": 140}, \"41\": {\"41\": 36}, \"34\": {\"34\": 24}, \"47\": {\"47\": 120}, \"5\": {\"5\": 108}, \"1\": {\"1\": 40}, \"48\": {\"48\": 134}, \"29\": {\"29\": 118}, \"22\": {\"22\": 128}, \"10\": {\"10\": 132}, \"32\": {\"32\": 24}, \"13\": {\"13\": 112}, \"42\": {\"42\": 32}, \"27\": {\"27\": 138}, \"8\": {\"8\": 142}, \"33\": {\"33\": 36}, \"25\": {\"25\": 132}, \"11\": {\"11\": 104}, \"53\": {\"53\": 112}}, \"W_2\": {\"73\": {\"73\": 27, \"75\": 1}, \"40\": {\"40\": 125, \"69\": 3, \"105\": 1, \"88\": 1, \"14\": 1, \"24\": 1}, \"99\": {\"99\": 31, \"27\": 1}, \"5\": {\"5\": 107, \"24\": 1, \"69\": 2, \"88\": 1, \"0\": 1}, \"108\": {\"108\": 130, \"11\": 1, \"36\": 1}, \"128\": {\"128\": 23, \"17\": 1}, \"89\": {\"89\": 34, \"13\": 1, \"88\": 1}, \"107\": {\"107\": 50, \"58\": 1, \"102\": 1, \"122\": 1, \"69\": 1, \"21\": 2, \"27\": 1, \"70\": 1, \"127\": 1, \"71\": 2, \"94\": 1, \"14\": 2}, \"2\": {\"2\": 31, \"43\": 1}, \"78\": {\"78\": 46, \"21\": 1, \"70\": 1}, \"85\": {\"85\": 32}, \"44\": {\"44\": 100}, \"58\": {\"58\": 20}, \"57\": {\"57\": 17, \"121\": 1, \"10\": 1, \"88\": 1}, \"41\": {\"41\": 19, \"82\": 1}, \"53\": {\"53\": 16}, \"14\": {\"14\": 39, \"24\": 3, \"31\": 2, \"21\": 2, \"108\": 1, \"74\": 1}, \"83\": {\"83\": 38, \"14\": 1, \"7\": 1}, \"119\": {\"119\": 20}, \"95\": {\"95\": 35, \"24\": 1}, \"28\": {\"28\": 19, \"47\": 1}, \"19\": {\"19\": 28}, \"69\": {\"69\": 131, \"20\": 1}, \"93\": {\"93\": 132, \"88\": 1, \"98\": 1}, \"9\": {\"9\": 32}, \"118\": {\"118\": 66, \"11\": 1, \"1\": 1}, \"43\": {\"43\": 112, \"87\": 1, \"14\": 1, \"27\": 1, \"36\": 1}, \"47\": {\"47\": 11, \"129\": 1}, \"125\": {\"125\": 143, \"102\": 1}, \"29\": {\"29\": 32}, \"122\": {\"122\": 135, \"40\": 1, \"70\": 1, \"27\": 1, \"11\": 1, \"26\": 1}, \"46\": {\"46\": 16}, \"86\": {\"86\": 32}, \"70\": {\"70\": 112, \"17\": 1, \"102\": 1, \"21\": 2, \"78\": 2, \"88\": 2, \"122\": 1, \"18\": 1, \"3\": 1, \"15\": 1}, \"51\": {\"51\": 17, \"46\": 1, \"58\": 2}, \"23\": {\"23\": 43, \"110\": 1}, \"121\": {\"121\": 35, \"120\": 1}, \"63\": {\"21\": 1, \"63\": 17, \"121\": 1, \"49\": 1}, \"102\": {\"102\": 121, \"40\": 1}, \"21\": {\"21\": 48}, \"55\": {\"55\": 15, \"116\": 1}, \"54\": {\"54\": 20}, \"6\": {\"6\": 32}, \"109\": {\"109\": 89, \"78\": 1, \"39\": 4, \"75\": 1, \"107\": 1, \"88\": 1, \"110\": 1, \"33\": 1, \"70\": 1}, \"64\": {\"89\": 1, \"64\": 15}, \"20\": {\"20\": 16}, \"98\": {\"98\": 111, \"121\": 1, \"0\": 1, \"69\": 1}, \"92\": {\"92\": 25, \"69\": 1, \"13\": 1, \"53\": 1}, \"35\": {\"35\": 12}, \"113\": {\"113\": 64, \"109\": 2, \"26\": 1, \"24\": 2, \"36\": 1, \"21\": 1, \"0\": 1}, \"71\": {\"71\": 96, \"122\": 1, \"13\": 1, \"109\": 1, \"27\": 1}, \"94\": {\"94\": 54, \"71\": 1, \"69\": 3, \"78\": 1, \"72\": 1, \"26\": 1, \"88\": 1, \"106\": 1, \"24\": 1}, \"52\": {\"52\": 19, \"70\": 1}, \"116\": {\"116\": 23, \"81\": 1, \"89\": 1, \"21\": 1, \"115\": 1, \"124\": 1}, \"87\": {\"87\": 102, \"27\": 3, \"109\": 1, \"69\": 1, \"18\": 1, \"88\": 1, \"16\": 1, \"24\": 1, \"33\": 1}, \"90\": {\"90\": 147, \"7\": 1}, \"91\": {\"91\": 28}, \"84\": {\"84\": 87, \"71\": 1, \"109\": 1, \"7\": 1, \"11\": 1, \"1\": 1}, \"24\": {\"24\": 106, \"36\": 1, \"70\": 1, \"106\": 1, \"33\": 1, \"88\": 1, \"26\": 1}, \"33\": {\"33\": 131, \"69\": 3}, \"81\": {\"81\": 23, \"107\": 1}, \"115\": {\"115\": 10, \"104\": 1, \"129\": 1}, \"77\": {\"77\": 16}, \"106\": {\"106\": 117, \"21\": 1, \"30\": 1, \"24\": 1}, \"42\": {\"42\": 24, \"14\": 1, \"36\": 1, \"107\": 1, \"61\": 1}, \"38\": {\"38\": 16}, \"36\": {\"36\": 107, \"68\": 1, \"14\": 1, \"27\": 2, \"69\": 2, \"15\": 1}, \"79\": {\"79\": 16}, \"60\": {\"60\": 27, \"107\": 1}, \"80\": {\"80\": 15, \"29\": 1}, \"32\": {\"32\": 36}, \"0\": {\"0\": 115, \"24\": 1}, \"127\": {\"127\": 123, \"24\": 1}, \"114\": {\"114\": 114, \"128\": 1, \"101\": 1}, \"62\": {\"62\": 138, \"21\": 1, \"69\": 1}, \"129\": {\"129\": 32}, \"56\": {\"56\": 12}, \"76\": {\"76\": 16}, \"72\": {\"72\": 26, \"21\": 1, \"115\": 1}, \"88\": {\"88\": 122, \"71\": 1, \"11\": 1}, \"68\": {\"68\": 14, \"21\": 1, \"12\": 1}, \"67\": {\"67\": 14, \"75\": 2}, \"100\": {\"100\": 16}, \"34\": {\"34\": 30, \"21\": 1, \"24\": 1}, \"16\": {\"16\": 123, \"36\": 1}, \"126\": {\"126\": 120}, \"4\": {\"4\": 85, \"120\": 1, \"14\": 1, \"69\": 1}, \"101\": {\"101\": 146}, \"104\": {\"104\": 17, \"74\": 1, \"88\": 1, \"24\": 1}, \"30\": {\"67\": 1, \"30\": 106, \"65\": 1, \"24\": 1, \"40\": 1}, \"8\": {\"8\": 127, \"7\": 1}, \"82\": {\"82\": 34, \"16\": 1, \"15\": 1}, \"26\": {\"26\": 127, \"107\": 1, \"27\": 1, \"69\": 5, \"113\": 1, \"24\": 1, \"18\": 1, \"1\": 1}, \"96\": {\"96\": 20}, \"3\": {\"3\": 133, \"88\": 2, \"36\": 1}, \"25\": {\"25\": 14, \"21\": 1, \"78\": 1}, \"13\": {\"13\": 13, \"45\": 1, \"82\": 1, \"70\": 1}, \"37\": {\"37\": 15, \"82\": 1}, \"49\": {\"49\": 21, \"81\": 1, \"92\": 1, \"61\": 1}, \"111\": {\"111\": 136}, \"105\": {\"105\": 131, \"7\": 1}, \"17\": {\"17\": 14, \"27\": 1, \"70\": 1}, \"65\": {\"65\": 18, \"107\": 1, \"102\": 1}, \"123\": {\"123\": 15, \"41\": 1}, \"74\": {\"74\": 14, \"40\": 1, \"17\": 1}, \"97\": {\"97\": 16, \"15\": 1, \"4\": 2, \"22\": 1}, \"112\": {\"112\": 14, \"119\": 1, \"25\": 1}, \"120\": {\"120\": 20}, \"50\": {\"50\": 14, \"29\": 1, \"47\": 1}, \"59\": {\"59\": 15, \"24\": 1}, \"10\": {\"10\": 57, \"14\": 1, \"21\": 1, \"49\": 1}, \"45\": {\"45\": 15, \"88\": 1}, \"12\": {\"12\": 85, \"21\": 2, \"69\": 1}, \"75\": {\"51\": 2, \"75\": 13, \"18\": 1}, \"48\": {\"48\": 20}, \"61\": {\"61\": 17, \"10\": 1, \"69\": 1, \"89\": 1}, \"124\": {\"124\": 123, \"127\": 1}, \"11\": {\"11\": 77, \"69\": 2, \"33\": 1}, \"103\": {\"103\": 13, \"11\": 1, \"22\": 1, \"6\": 1}, \"7\": {\"7\": 127, \"109\": 1, \"27\": 1, \"69\": 1, \"78\": 1, \"105\": 1}, \"18\": {\"18\": 118, \"24\": 1, \"26\": 1}, \"31\": {\"31\": 20}, \"15\": {\"15\": 117, \"40\": 1}, \"1\": {\"1\": 119, \"94\": 1, \"36\": 1, \"75\": 1}, \"66\": {\"66\": 19, \"4\": 1}, \"110\": {\"110\": 31, \"14\": 1, \"89\": 1, \"24\": 1, \"122\": 2, \"26\": 1, \"12\": 1, \"27\": 2}, \"27\": {\"27\": 61, \"36\": 2, \"69\": 1, \"107\": 1, \"71\": 1, \"11\": 1, \"24\": 1}, \"22\": {\"22\": 18, \"3\": 1, \"75\": 1}, \"117\": {\"117\": 117, \"30\": 1, \"114\": 1, \"15\": 1}, \"39\": {\"39\": 104, \"70\": 1, \"18\": 1, \"78\": 1, \"124\": 1}}, \"C_2\": {\"32\": {\"32\": 28}, \"17\": {\"17\": 104}, \"38\": {\"38\": 20}, \"2\": {\"2\": 32}, \"43\": {\"43\": 144}, \"56\": {\"56\": 144}, \"37\": {\"37\": 36}, \"49\": {\"49\": 24}, \"0\": {\"0\": 48}, \"29\": {\"29\": 128}, \"35\": {\"35\": 32}, \"18\": {\"18\": 48}, \"25\": {\"25\": 136}, \"23\": {\"23\": 124}, \"15\": {\"15\": 146}, \"21\": {\"21\": 120}, \"51\": {\"51\": 128}, \"20\": {\"20\": 138}, \"7\": {\"7\": 36}, \"50\": {\"50\": 136}, \"31\": {\"31\": 28}, \"30\": {\"30\": 140}, \"19\": {\"19\": 156}, \"9\": {\"9\": 144}, \"52\": {\"52\": 124}, \"45\": {\"45\": 128}, \"8\": {\"8\": 154}, \"55\": {\"55\": 160}, \"12\": {\"12\": 92}, \"40\": {\"40\": 140}, \"28\": {\"28\": 28}, \"36\": {\"36\": 116}, \"39\": {\"39\": 28}, \"46\": {\"46\": 122}, \"14\": {\"14\": 24}, \"57\": {\"57\": 142}, \"34\": {\"34\": 28}, \"1\": {\"1\": 112}, \"53\": {\"53\": 136}, \"48\": {\"48\": 130}, \"3\": {\"3\": 91, \"6\": 1}, \"16\": {\"16\": 152}, \"6\": {\"6\": 124}, \"10\": {\"10\": 112}, \"13\": {\"13\": 116}, \"26\": {\"26\": 24}, \"24\": {\"24\": 96}, \"44\": {\"44\": 100}, \"27\": {\"27\": 150}, \"22\": {\"22\": 128}, \"33\": {\"33\": 28}, \"47\": {\"47\": 118}, \"5\": {\"5\": 120}, \"4\": {\"4\": 138}, \"41\": {\"41\": 20}, \"11\": {\"11\": 150}, \"54\": {\"54\": 108}, \"42\": {\"42\": 36}}, \"C_3\": {\"5\": {\"5\": 116}, \"32\": {\"32\": 28}, \"33\": {\"33\": 28}, \"49\": {\"49\": 20}, \"39\": {\"39\": 16}, \"11\": {\"11\": 142}, \"8\": {\"8\": 116}, \"26\": {\"26\": 24}, \"51\": {\"51\": 122}, \"4\": {\"4\": 146}, \"52\": {\"52\": 118}, \"47\": {\"47\": 91, \"48\": 1}, \"17\": {\"17\": 107, \"12\": 1}, \"53\": {\"53\": 136}, \"2\": {\"2\": 32}, \"12\": {\"12\": 92}, \"37\": {\"37\": 28}, \"9\": {\"9\": 148}, \"13\": {\"13\": 128}, \"54\": {\"54\": 100}, \"31\": {\"31\": 28}, \"34\": {\"34\": 32}, \"24\": {\"24\": 104}, \"7\": {\"7\": 36}, \"50\": {\"50\": 118}, \"46\": {\"46\": 128}, \"44\": {\"44\": 88}, \"40\": {\"40\": 116}, \"21\": {\"21\": 128}, \"45\": {\"45\": 60}, \"16\": {\"16\": 126}, \"14\": {\"14\": 40}, \"36\": {\"36\": 100}, \"56\": {\"56\": 114}, \"10\": {\"10\": 64}, \"18\": {\"18\": 84}, \"48\": {\"48\": 116}, \"38\": {\"38\": 28}, \"27\": {\"27\": 130}, \"42\": {\"42\": 28}, \"15\": {\"15\": 133, \"11\": 1}, \"1\": {\"1\": 100}, \"28\": {\"28\": 28}, \"43\": {\"43\": 136}, \"0\": {\"0\": 124}, \"57\": {\"57\": 124}, \"3\": {\"3\": 148}, \"29\": {\"29\": 124}, \"41\": {\"41\": 28}, \"25\": {\"25\": 146}, \"6\": {\"6\": 88}, \"35\": {\"35\": 28}, \"20\": {\"20\": 126}, \"23\": {\"23\": 134}, \"22\": {\"22\": 140}, \"19\": {\"19\": 116}, \"55\": {\"55\": 124}, \"30\": {\"30\": 120}}, \"C_1\": {\"24\": {\"24\": 108}, \"25\": {\"25\": 140}, \"45\": {\"45\": 144}, \"42\": {\"42\": 40}, \"2\": {\"2\": 36}, \"9\": {\"9\": 150}, \"21\": {\"21\": 124}, \"26\": {\"26\": 24}, \"49\": {\"49\": 32}, \"39\": {\"39\": 28}, \"46\": {\"46\": 135, \"5\": 1}, \"17\": {\"17\": 64}, \"19\": {\"19\": 156}, \"23\": {\"23\": 132}, \"1\": {\"1\": 100}, \"29\": {\"29\": 140}, \"56\": {\"56\": 150}, \"37\": {\"37\": 32}, \"33\": {\"33\": 32}, \"55\": {\"55\": 142}, \"30\": {\"30\": 120}, \"0\": {\"0\": 152}, \"36\": {\"36\": 64}, \"32\": {\"32\": 32}, \"31\": {\"31\": 28}, \"15\": {\"15\": 138}, \"12\": {\"12\": 116}, \"38\": {\"38\": 24}, \"40\": {\"40\": 146}, \"14\": {\"14\": 23, \"30\": 1}, \"13\": {\"13\": 150}, \"48\": {\"48\": 148}, \"34\": {\"34\": 24}, \"44\": {\"44\": 130}, \"5\": {\"5\": 152}, \"11\": {\"11\": 140}, \"7\": {\"7\": 28}, \"18\": {\"18\": 72}, \"52\": {\"52\": 132}, \"51\": {\"51\": 142}, \"41\": {\"41\": 24}, \"16\": {\"16\": 140}, \"22\": {\"22\": 134}, \"3\": {\"3\": 140}, \"54\": {\"54\": 104}, \"27\": {\"27\": 144}, \"20\": {\"20\": 140}, \"8\": {\"8\": 138}, \"50\": {\"50\": 144}, \"57\": {\"57\": 140}, \"4\": {\"4\": 132}, \"47\": {\"47\": 146}, \"10\": {\"10\": 96}, \"35\": {\"35\": 36}, \"53\": {\"53\": 126}, \"6\": {\"6\": 96}, \"43\": {\"43\": 140}, \"28\": {\"28\": 28}}, \"W_1\": {\"60\": {\"60\": 14, \"23\": 2}, \"59\": {\"60\": 1, \"59\": 10, \"128\": 1}, \"107\": {\"107\": 122, \"94\": 1, \"84\": 1}, \"113\": {\"113\": 123, \"17\": 1}, \"6\": {\"6\": 29, \"15\": 1, \"21\": 1, \"10\": 1}, \"24\": {\"24\": 92}, \"50\": {\"50\": 15, \"30\": 1}, \"62\": {\"62\": 119, \"70\": 1}, \"48\": {\"48\": 12}, \"104\": {\"104\": 16}, \"105\": {\"105\": 79, \"110\": 1, \"40\": 2, \"97\": 1, \"124\": 1}, \"44\": {\"44\": 76}, \"49\": {\"49\": 20}, \"55\": {\"55\": 12}, \"4\": {\"4\": 100}, \"76\": {\"76\": 16}, \"85\": {\"85\": 32}, \"89\": {\"89\": 36}, \"74\": {\"74\": 16}, \"112\": {\"112\": 16}, \"79\": {\"79\": 12}, \"0\": {\"0\": 83, \"97\": 1}, \"91\": {\"91\": 28}, \"118\": {\"118\": 83, \"27\": 1}, \"80\": {\"80\": 16}, \"64\": {\"64\": 16}, \"97\": {\"97\": 19, \"27\": 1}, \"84\": {\"84\": 124}, \"38\": {\"38\": 16}, \"30\": {\"30\": 52}, \"32\": {\"32\": 29, \"65\": 1, \"121\": 1, \"102\": 1}, \"72\": {\"72\": 32}, \"33\": {\"33\": 130, \"96\": 1, \"70\": 1}, \"34\": {\"34\": 32}, \"28\": {\"28\": 20}, \"123\": {\"123\": 15, \"17\": 1}, \"2\": {\"2\": 30, \"109\": 1, \"21\": 1}, \"70\": {\"70\": 123, \"109\": 1}, \"127\": {\"127\": 107, \"78\": 1}, \"110\": {\"110\": 125, \"39\": 1, \"88\": 2}, \"126\": {\"126\": 136}, \"13\": {\"13\": 16}, \"15\": {\"15\": 103, \"106\": 1}, \"29\": {\"29\": 28}, \"18\": {\"18\": 119, \"23\": 1}, \"7\": {\"7\": 142}, \"56\": {\"56\": 12}, \"98\": {\"98\": 108}, \"99\": {\"99\": 24}, \"77\": {\"77\": 15, \"75\": 1}, \"103\": {\"15\": 1, \"103\": 14, \"27\": 1}, \"128\": {\"128\": 23, \"72\": 1}, \"3\": {\"3\": 84, \"71\": 1, \"127\": 1, \"85\": 1, \"15\": 1}, \"121\": {\"121\": 32}, \"42\": {\"42\": 27, \"77\": 1}, \"90\": {\"90\": 120}, \"37\": {\"37\": 16}, \"120\": {\"108\": 1, \"120\": 17, \"21\": 1, \"26\": 1}, \"117\": {\"117\": 118}, \"9\": {\"9\": 32}, \"108\": {\"108\": 123, \"24\": 1}, \"83\": {\"83\": 28}, \"14\": {\"14\": 96}, \"63\": {\"63\": 16}, \"11\": {\"11\": 117, \"26\": 1}, \"95\": {\"95\": 36}, \"26\": {\"26\": 128, \"88\": 1, \"65\": 1}, \"22\": {\"22\": 15, \"34\": 1}, \"102\": {\"102\": 120}, \"69\": {\"69\": 99, \"94\": 1, \"70\": 2, \"39\": 2, \"88\": 1, \"27\": 1}, \"1\": {\"1\": 130}, \"67\": {\"67\": 16}, \"57\": {\"57\": 12}, \"8\": {\"8\": 132, \"40\": 1, \"17\": 1}, \"109\": {\"109\": 122, \"70\": 1, \"88\": 1}, \"129\": {\"129\": 27, \"83\": 1}, \"111\": {\"111\": 120}, \"71\": {\"71\": 101, \"102\": 2, \"108\": 1, \"124\": 2, \"26\": 1, \"70\": 1}, \"47\": {\"47\": 12}, \"82\": {\"82\": 35, \"28\": 1}, \"27\": {\"27\": 90, \"88\": 1, \"94\": 1}, \"19\": {\"19\": 28}, \"122\": {\"27\": 1, \"122\": 85, \"88\": 1, \"43\": 1}, \"53\": {\"53\": 20}, \"87\": {\"87\": 106, \"33\": 1, \"109\": 1}, \"100\": {\"100\": 16}, \"66\": {\"66\": 16}, \"31\": {\"31\": 16}, \"58\": {\"58\": 11, \"51\": 1}, \"68\": {\"68\": 16}, \"88\": {\"88\": 113, \"110\": 1}, \"45\": {\"45\": 10, \"109\": 2}, \"114\": {\"114\": 128}, \"23\": {\"23\": 22, \"105\": 2}, \"65\": {\"102\": 1, \"65\": 9, \"5\": 1, \"97\": 1}, \"124\": {\"124\": 117, \"46\": 1}, \"10\": {\"10\": 117, \"21\": 1, \"94\": 1, \"27\": 1}, \"92\": {\"92\": 28}, \"40\": {\"40\": 138, \"105\": 4, \"26\": 1, \"36\": 1}, \"73\": {\"73\": 18, \"23\": 1, \"108\": 1}, \"94\": {\"94\": 91, \"27\": 1}, \"81\": {\"81\": 28}, \"101\": {\"101\": 110}, \"86\": {\"86\": 33, \"21\": 1, \"82\": 1, \"102\": 1}, \"78\": {\"78\": 15, \"87\": 1}, \"96\": {\"96\": 19, \"38\": 1}, \"5\": {\"5\": 85, \"70\": 1, \"108\": 1, \"10\": 1}, \"16\": {\"16\": 104, \"27\": 1, \"21\": 1, \"88\": 2}, \"35\": {\"35\": 12}, \"51\": {\"51\": 16}, \"46\": {\"46\": 12}, \"20\": {\"20\": 16}, \"116\": {\"116\": 29, \"66\": 2, \"95\": 1}, \"75\": {\"75\": 16}, \"43\": {\"43\": 124, \"26\": 1, \"93\": 1, \"27\": 1, \"122\": 1}, \"17\": {\"17\": 16}, \"12\": {\"12\": 102, \"107\": 1, \"71\": 1}, \"25\": {\"25\": 16}, \"54\": {\"54\": 15, \"40\": 1}, \"36\": {\"36\": 109, \"10\": 1, \"113\": 1, \"94\": 1}, \"52\": {\"52\": 19, \"77\": 1}, \"61\": {\"61\": 12}, \"106\": {\"106\": 120}, \"39\": {\"39\": 101, \"24\": 1, \"27\": 1, \"87\": 1}, \"119\": {\"119\": 16}, \"125\": {\"125\": 148}, \"93\": {\"93\": 146, \"88\": 1, \"70\": 1}, \"115\": {\"115\": 12}, \"21\": {\"21\": 38, \"30\": 1, \"27\": 1}, \"41\": {\"41\": 16}}, \"W_4\": {\"55\": {\"55\": 16}, \"9\": {\"9\": 28}, \"70\": {\"70\": 118, \"39\": 1, \"88\": 3}, \"112\": {\"112\": 16}, \"115\": {\"115\": 15, \"36\": 1}, \"56\": {\"56\": 11, \"93\": 1}, \"108\": {\"4\": 1, \"108\": 82, \"25\": 1, \"0\": 1, \"81\": 1, \"88\": 2, \"10\": 1, \"1\": 1, \"70\": 2}, \"117\": {\"117\": 122, \"8\": 1, \"22\": 1}, \"111\": {\"111\": 129, \"88\": 1, \"108\": 1, \"24\": 1}, \"71\": {\"71\": 96, \"96\": 1, \"26\": 1, \"12\": 1, \"36\": 1, \"10\": 3, \"1\": 1}, \"59\": {\"59\": 12}, \"10\": {\"10\": 123, \"1\": 1}, \"83\": {\"83\": 28}, \"116\": {\"116\": 28}, \"13\": {\"13\": 16}, \"4\": {\"4\": 103, \"88\": 1}, \"125\": {\"125\": 104, \"15\": 1, \"124\": 1}, \"102\": {\"102\": 122, \"1\": 1, \"15\": 1}, \"47\": {\"47\": 12}, \"28\": {\"28\": 20}, \"82\": {\"82\": 30, \"124\": 1, \"78\": 1}, \"60\": {\"60\": 32}, \"107\": {\"107\": 130, \"3\": 1, \"55\": 1, \"62\": 1, \"110\": 1}, \"75\": {\"75\": 16}, \"31\": {\"31\": 16}, \"92\": {\"92\": 28}, \"58\": {\"58\": 16}, \"113\": {\"113\": 123, \"21\": 1, \"10\": 1, \"27\": 1, \"36\": 1, \"1\": 1}, \"95\": {\"95\": 32}, \"14\": {\"14\": 109, \"126\": 1, \"88\": 1, \"36\": 1}, \"17\": {\"17\": 20}, \"104\": {\"104\": 16}, \"72\": {\"72\": 29, \"17\": 2, \"32\": 1}, \"69\": {\"69\": 124, \"88\": 1, \"21\": 1, \"40\": 1, \"109\": 1}, \"63\": {\"63\": 16}, \"12\": {\"12\": 97, \"3\": 1, \"64\": 1, \"88\": 1}, \"25\": {\"25\": 16}, \"67\": {\"67\": 15, \"123\": 1}, \"50\": {\"50\": 16}, \"43\": {\"43\": 112, \"23\": 1, \"15\": 1, \"87\": 2, \"35\": 1, \"118\": 1, \"108\": 1, \"70\": 1}, \"96\": {\"96\": 19, \"14\": 1}, \"128\": {\"128\": 24}, \"77\": {\"77\": 12}, \"54\": {\"54\": 16}, \"118\": {\"118\": 105, \"35\": 1, \"15\": 1, \"88\": 1, \"69\": 1, \"24\": 1, \"78\": 1, \"21\": 1}, \"30\": {\"30\": 75, \"10\": 1}, \"51\": {\"51\": 14, \"75\": 1, \"89\": 1}, \"122\": {\"122\": 79, \"40\": 2, \"88\": 1, \"30\": 1, \"111\": 1}, \"46\": {\"46\": 19, \"33\": 1}, \"79\": {\"79\": 16}, \"103\": {\"103\": 16}, \"74\": {\"74\": 16}, \"90\": {\"90\": 146}, \"8\": {\"8\": 139, \"71\": 1, \"24\": 1, \"114\": 1}, \"94\": {\"94\": 82, \"27\": 1, \"15\": 1, \"21\": 1, \"10\": 1, \"36\": 1, \"69\": 1}, \"7\": {\"7\": 119, \"36\": 1, \"10\": 1, \"24\": 1}, \"61\": {\"61\": 16}, \"26\": {\"26\": 118, \"30\": 2}, \"127\": {\"127\": 107, \"126\": 1}, \"23\": {\"23\": 14, \"21\": 1, \"81\": 1}, \"1\": {\"1\": 104, \"10\": 2, \"88\": 1, \"39\": 1}, \"93\": {\"93\": 133, \"88\": 1}, \"106\": {\"106\": 106, \"108\": 1, \"18\": 1, \"84\": 1, \"1\": 1, \"57\": 1, \"88\": 1, \"78\": 1, \"27\": 1, \"21\": 1, \"30\": 1}, \"110\": {\"110\": 117, \"10\": 1}, \"76\": {\"76\": 16}, \"36\": {\"36\": 119, \"1\": 1}, \"21\": {\"21\": 39, \"40\": 1}, \"37\": {\"37\": 16}, \"11\": {\"11\": 119, \"1\": 1}, \"109\": {\"109\": 114, \"24\": 1, \"118\": 1}, \"62\": {\"21\": 1, \"62\": 56, \"81\": 1, \"113\": 1, \"126\": 1}, \"89\": {\"89\": 31, \"48\": 1}, \"126\": {\"126\": 119, \"10\": 2, \"16\": 1, \"36\": 1, \"105\": 1}, \"101\": {\"101\": 123, \"15\": 1, \"4\": 2, \"88\": 1, \"84\": 1}, \"65\": {\"65\": 12}, \"19\": {\"19\": 27, \"129\": 1}, \"27\": {\"27\": 98, \"10\": 1, \"24\": 1}, \"5\": {\"5\": 133, \"21\": 1, \"114\": 1, \"1\": 1}, \"73\": {\"73\": 24}, \"6\": {\"6\": 24}, \"29\": {\"29\": 32}, \"114\": {\"114\": 127, \"102\": 1}, \"49\": {\"49\": 32}, \"16\": {\"16\": 115, \"36\": 1, \"88\": 2}, \"68\": {\"68\": 16}, \"98\": {\"98\": 119, \"101\": 1}, \"64\": {\"64\": 16}, \"121\": {\"121\": 32}, \"124\": {\"124\": 114}, \"97\": {\"97\": 19, \"36\": 1}, \"40\": {\"40\": 136}, \"119\": {\"119\": 16}, \"100\": {\"100\": 18, \"88\": 1, \"46\": 1}, \"87\": {\"87\": 116}, \"88\": {\"88\": 121, \"70\": 3, \"26\": 1, \"21\": 1, \"113\": 1, \"108\": 1}, \"52\": {\"52\": 17, \"78\": 1, \"37\": 1, \"35\": 1}, \"80\": {\"80\": 15, \"78\": 1}, \"105\": {\"105\": 94, \"108\": 1, \"18\": 1, \"88\": 1, \"27\": 1, \"4\": 1, \"10\": 1}, \"32\": {\"32\": 28}, \"35\": {\"35\": 12}, \"99\": {\"99\": 40}, \"18\": {\"18\": 118, \"126\": 1, \"24\": 1}, \"24\": {\"24\": 112}, \"85\": {\"85\": 27, \"26\": 1}, \"39\": {\"39\": 96, \"106\": 1, \"36\": 1, \"27\": 1, \"26\": 1}, \"123\": {\"123\": 16}, \"91\": {\"91\": 24}, \"78\": {\"78\": 31, \"21\": 2, \"97\": 1, \"88\": 1, \"15\": 1}, \"38\": {\"38\": 16}, \"15\": {\"15\": 124, \"10\": 2, \"88\": 1, \"24\": 1}, \"48\": {\"48\": 16}, \"45\": {\"45\": 16}, \"120\": {\"120\": 20}, \"44\": {\"44\": 63, \"33\": 1}, \"86\": {\"86\": 26, \"27\": 1, \"21\": 1}, \"20\": {\"20\": 16}, \"33\": {\"33\": 147, \"3\": 1, \"36\": 1, \"10\": 1}, \"129\": {\"129\": 28}, \"34\": {\"34\": 32}, \"81\": {\"81\": 35, \"21\": 1}, \"57\": {\"57\": 14, \"24\": 1, \"70\": 1}, \"0\": {\"0\": 113, \"88\": 1, \"95\": 1, \"106\": 1}, \"2\": {\"2\": 28}, \"42\": {\"42\": 28}, \"84\": {\"84\": 127, \"24\": 2, \"30\": 2, \"117\": 1}, \"3\": {\"3\": 120, \"21\": 1, \"10\": 1, \"23\": 1, \"78\": 1, \"24\": 1, \"98\": 1}, \"41\": {\"41\": 15, \"100\": 1}, \"53\": {\"53\": 15, \"10\": 1}, \"66\": {\"66\": 16}, \"22\": {\"22\": 16}}, \"C_5\": {\"35\": {\"35\": 36}, \"57\": {\"57\": 132}, \"20\": {\"20\": 144}, \"12\": {\"12\": 96}, \"32\": {\"32\": 32}, \"25\": {\"25\": 138}, \"44\": {\"44\": 147, \"56\": 1}, \"31\": {\"31\": 36}, \"11\": {\"11\": 150}, \"47\": {\"47\": 100}, \"23\": {\"23\": 124}, \"43\": {\"43\": 144}, \"37\": {\"37\": 24}, \"5\": {\"5\": 128}, \"45\": {\"45\": 124}, \"7\": {\"7\": 32}, \"13\": {\"13\": 136}, \"49\": {\"49\": 36}, \"46\": {\"46\": 148}, \"16\": {\"16\": 136}, \"54\": {\"54\": 112}, \"19\": {\"19\": 152}, \"55\": {\"55\": 150}, \"30\": {\"30\": 128}, \"34\": {\"34\": 36}, \"50\": {\"50\": 134}, \"3\": {\"3\": 100}, \"10\": {\"10\": 68}, \"27\": {\"27\": 142}, \"33\": {\"33\": 32}, \"56\": {\"56\": 142}, \"9\": {\"9\": 150}, \"14\": {\"14\": 41, \"43\": 2, \"46\": 1}, \"4\": {\"4\": 100}, \"42\": {\"42\": 40}, \"24\": {\"24\": 80}, \"39\": {\"39\": 20}, \"52\": {\"52\": 130}, \"2\": {\"2\": 28}, \"28\": {\"28\": 32}, \"53\": {\"53\": 122}, \"17\": {\"17\": 116}, \"29\": {\"29\": 132}, \"38\": {\"38\": 32}, \"15\": {\"15\": 144}, \"26\": {\"26\": 24}, \"21\": {\"21\": 144}, \"41\": {\"41\": 28}, \"48\": {\"48\": 136}, \"22\": {\"22\": 28}, \"8\": {\"8\": 148}, \"18\": {\"18\": 64}, \"0\": {\"0\": 122}, \"1\": {\"1\": 138}, \"40\": {\"40\": 124}, \"6\": {\"6\": 128}, \"51\": {\"51\": 142}, \"36\": {\"36\": 92}}, \"O_50\": {\"7\": {\"4\": 75, \"6\": 3, \"7\": 119, \"5\": 41, \"3\": 2}, \"10\": {\"10\": 116, \"8\": 40, \"13\": 6, \"1\": 12, \"0\": 57, \"2\": 9}, \"0\": {\"10\": 58, \"0\": 101, \"2\": 68, \"14\": 12, \"1\": 1}, \"11\": {\"11\": 91, \"9\": 44, \"15\": 26, \"12\": 39, \"1\": 13, \"13\": 17, \"5\": 2, \"6\": 8}, \"2\": {\"2\": 114, \"0\": 82, \"14\": 36, \"10\": 8}, \"14\": {\"2\": 45, \"14\": 179, \"0\": 15, \"10\": 1}, \"9\": {\"9\": 87, \"15\": 45, \"11\": 37, \"12\": 40, \"6\": 23, \"5\": 5, \"4\": 1, \"13\": 2}, \"13\": {\"13\": 119, \"1\": 43, \"10\": 6, \"15\": 8, \"6\": 14, \"3\": 1, \"11\": 21, \"8\": 6, \"12\": 14, \"5\": 5, \"9\": 3}, \"8\": {\"8\": 191, \"13\": 8, \"10\": 36, \"1\": 2, \"3\": 2, \"12\": 1}, \"15\": {\"11\": 33, \"15\": 72, \"9\": 39, \"5\": 21, \"6\": 61, \"12\": 9, \"4\": 2, \"13\": 3}, \"4\": {\"4\": 109, \"7\": 83, \"15\": 6, \"5\": 33, \"11\": 1, \"6\": 3, \"9\": 5}, \"5\": {\"4\": 56, \"7\": 41, \"5\": 60, \"9\": 5, \"15\": 25, \"3\": 9, \"13\": 3, \"11\": 8, \"6\": 28, \"12\": 5}, \"3\": {\"3\": 219, \"5\": 13, \"7\": 7, \"6\": 1}, \"1\": {\"13\": 48, \"1\": 141, \"11\": 21, \"10\": 18, \"6\": 1, \"0\": 5, \"12\": 4, \"8\": 1, \"9\": 1}, \"6\": {\"9\": 32, \"5\": 33, \"15\": 49, \"6\": 88, \"11\": 11, \"12\": 10, \"4\": 3, \"13\": 10, \"3\": 1, \"7\": 3}, \"12\": {\"12\": 82, \"13\": 8, \"11\": 50, \"9\": 67, \"6\": 22, \"15\": 7, \"1\": 2, \"5\": 2}}, \"O_14\": {\"14\": {\"2\": 47, \"5\": 25, \"6\": 12, \"7\": 13, \"14\": 92, \"13\": 23, \"0\": 14, \"3\": 14}, \"6\": {\"6\": 116, \"13\": 62, \"14\": 14, \"3\": 30, \"7\": 10, \"2\": 6, \"0\": 1, \"5\": 1}, \"5\": {\"7\": 8, \"5\": 93, \"0\": 26, \"4\": 17, \"14\": 34, \"13\": 6, \"8\": 9, \"2\": 45, \"3\": 1, \"10\": 1}, \"15\": {\"15\": 240}, \"11\": {\"11\": 239, \"9\": 1}, \"8\": {\"0\": 42, \"8\": 168, \"12\": 6, \"4\": 2, \"5\": 16, \"2\": 1, \"3\": 3, \"7\": 2}, \"12\": {\"12\": 220, \"8\": 16, \"0\": 2, \"10\": 1, \"4\": 1}, \"1\": {\"1\": 199, \"10\": 28, \"9\": 13}, \"2\": {\"13\": 20, \"2\": 48, \"14\": 36, \"4\": 33, \"5\": 48, \"6\": 11, \"7\": 16, \"3\": 18, \"0\": 9, \"10\": 1}, \"13\": {\"5\": 22, \"7\": 12, \"6\": 64, \"2\": 23, \"14\": 28, \"13\": 50, \"3\": 12, \"15\": 16, \"8\": 1, \"4\": 8, \"0\": 4}, \"3\": {\"3\": 113, \"14\": 16, \"7\": 27, \"2\": 10, \"0\": 25, \"13\": 23, \"6\": 25, \"8\": 1}, \"0\": {\"0\": 82, \"7\": 6, \"14\": 19, \"5\": 21, \"4\": 16, \"3\": 44, \"8\": 23, \"2\": 18, \"13\": 6, \"6\": 3, \"10\": 1, \"12\": 1}, \"9\": {\"9\": 211, \"1\": 14, \"10\": 15}, \"4\": {\"10\": 26, \"4\": 170, \"2\": 23, \"5\": 17, \"8\": 2, \"0\": 2}, \"7\": {\"7\": 162, \"13\": 17, \"3\": 18, \"6\": 7, \"14\": 10, \"5\": 13, \"2\": 9, \"0\": 4}, \"10\": {\"10\": 172, \"9\": 1, \"4\": 51, \"12\": 3, \"1\": 11, \"0\": 2}}, \"O_32\": {\"4\": {\"8\": 12, \"3\": 23, \"4\": 111, \"13\": 26, \"2\": 54, \"9\": 5, \"14\": 4, \"11\": 1, \"0\": 3, \"7\": 1}, \"14\": {\"2\": 25, \"8\": 34, \"14\": 51, \"7\": 45, \"0\": 40, \"15\": 2, \"5\": 30, \"4\": 9, \"3\": 3, \"13\": 1}, \"5\": {\"5\": 60, \"8\": 39, \"0\": 42, \"7\": 52, \"14\": 33, \"2\": 6, \"15\": 7, \"4\": 1}, \"10\": {\"6\": 13, \"10\": 210, \"12\": 17}, \"13\": {\"11\": 27, \"3\": 62, \"4\": 43, \"13\": 97, \"2\": 5, \"9\": 4, \"14\": 1, \"0\": 1}, \"9\": {\"12\": 49, \"9\": 146, \"13\": 4, \"2\": 15, \"4\": 16, \"11\": 8, \"7\": 1, \"8\": 1}, \"6\": {\"6\": 208, \"10\": 31, \"12\": 1}, \"3\": {\"3\": 152, \"4\": 20, \"13\": 53, \"11\": 11, \"8\": 1, \"2\": 3}, \"15\": {\"15\": 199, \"0\": 1, \"5\": 16, \"8\": 21, \"7\": 2, \"14\": 1}, \"7\": {\"7\": 73, \"8\": 26, \"5\": 46, \"15\": 3, \"14\": 39, \"0\": 49, \"2\": 3, \"4\": 1}, \"12\": {\"12\": 186, \"10\": 13, \"9\": 41}, \"8\": {\"7\": 25, \"15\": 14, \"0\": 42, \"8\": 73, \"14\": 40, \"5\": 30, \"3\": 6, \"2\": 6, \"4\": 2, \"13\": 2}, \"11\": {\"11\": 176, \"13\": 42, \"3\": 18, \"4\": 3, \"9\": 1}, \"2\": {\"2\": 110, \"4\": 69, \"14\": 16, \"8\": 14, \"0\": 17, \"7\": 6, \"9\": 2, \"3\": 2, \"13\": 1, \"5\": 3}, \"1\": {\"1\": 240}, \"0\": {\"14\": 41, \"7\": 46, \"0\": 64, \"5\": 43, \"8\": 39, \"2\": 3, \"15\": 4}}, \"O_44\": {\"8\": {\"0\": 77, \"15\": 52, \"8\": 84, \"5\": 18, \"14\": 7, \"4\": 2}, \"11\": {\"11\": 236, \"13\": 4}, \"14\": {\"4\": 55, \"15\": 41, \"14\": 73, \"5\": 48, \"7\": 7, \"9\": 9, \"10\": 2, \"8\": 2, \"13\": 1, \"2\": 1, \"0\": 1}, \"10\": {\"6\": 2, \"9\": 37, \"10\": 106, \"2\": 24, \"7\": 61, \"1\": 7, \"4\": 1, \"14\": 2}, \"3\": {\"3\": 161, \"1\": 17, \"12\": 61, \"2\": 1}, \"15\": {\"5\": 42, \"0\": 28, \"8\": 35, \"14\": 34, \"15\": 89, \"4\": 11, \"2\": 1}, \"2\": {\"9\": 5, \"2\": 114, \"10\": 34, \"1\": 74, \"7\": 9, \"4\": 3, \"14\": 1}, \"12\": {\"12\": 157, \"3\": 83}, \"4\": {\"14\": 71, \"10\": 6, \"9\": 18, \"7\": 12, \"5\": 40, \"4\": 51, \"2\": 3, \"8\": 2, \"13\": 11, \"6\": 10, \"15\": 12, \"0\": 4}, \"1\": {\"1\": 163, \"2\": 64, \"14\": 1, \"3\": 4, \"12\": 1, \"10\": 6, \"7\": 1}, \"0\": {\"0\": 133, \"5\": 3, \"8\": 67, \"15\": 33, \"14\": 2, \"4\": 1, \"1\": 1}, \"9\": {\"6\": 35, \"7\": 64, \"9\": 57, \"10\": 20, \"13\": 30, \"4\": 16, \"2\": 9, \"5\": 2, \"14\": 6, \"15\": 1}, \"5\": {\"5\": 115, \"14\": 48, \"4\": 27, \"8\": 17, \"15\": 28, \"0\": 1, \"13\": 1, \"9\": 2, \"6\": 1}, \"6\": {\"13\": 74, \"4\": 2, \"6\": 116, \"9\": 32, \"10\": 2, \"7\": 14}, \"7\": {\"2\": 6, \"4\": 17, \"10\": 60, \"7\": 85, \"9\": 46, \"14\": 8, \"6\": 14, \"5\": 1, \"13\": 2, \"15\": 1}, \"13\": {\"6\": 71, \"13\": 128, \"9\": 28, \"11\": 9, \"4\": 1, \"7\": 2, \"14\": 1}}, \"O_8\": {\"13\": {\"13\": 77, \"11\": 2, \"10\": 42, \"7\": 43, \"5\": 46, \"1\": 10, \"6\": 20}, \"3\": {\"3\": 235, \"2\": 5}, \"15\": {\"15\": 137, \"12\": 80, \"2\": 23}, \"4\": {\"6\": 16, \"4\": 99, \"8\": 27, \"11\": 48, \"14\": 34, \"1\": 10, \"13\": 1, \"5\": 2, \"10\": 3}, \"7\": {\"6\": 44, \"13\": 44, \"10\": 25, \"7\": 88, \"1\": 22, \"5\": 12, \"4\": 2, \"11\": 2, \"8\": 1}, \"2\": {\"3\": 48, \"15\": 35, \"2\": 136, \"12\": 21}, \"1\": {\"13\": 15, \"5\": 20, \"4\": 17, \"1\": 62, \"7\": 18, \"6\": 42, \"8\": 3, \"11\": 38, \"10\": 25}, \"0\": {\"0\": 240}, \"12\": {\"15\": 83, \"12\": 146, \"2\": 11}, \"6\": {\"6\": 73, \"11\": 26, \"13\": 9, \"7\": 47, \"10\": 22, \"1\": 35, \"5\": 9, \"8\": 8, \"4\": 11}, \"11\": {\"1\": 45, \"14\": 8, \"4\": 44, \"11\": 65, \"6\": 34, \"7\": 12, \"10\": 6, \"13\": 3, \"8\": 22, \"5\": 1}, \"9\": {\"9\": 240}, \"5\": {\"10\": 59, \"13\": 43, \"4\": 6, \"14\": 4, \"5\": 76, \"1\": 20, \"6\": 13, \"11\": 7, \"7\": 11, \"15\": 1}, \"10\": {\"6\": 23, \"11\": 9, \"7\": 25, \"10\": 57, \"1\": 29, \"5\": 46, \"13\": 51}, \"14\": {\"14\": 161, \"4\": 50, \"11\": 15, \"0\": 1, \"8\": 12, \"5\": 1}, \"8\": {\"6\": 27, \"8\": 98, \"4\": 51, \"1\": 12, \"11\": 37, \"14\": 11, \"7\": 2, \"5\": 2}}, \"O_20\": {\"6\": {\"7\": 47, \"6\": 92, \"12\": 15, \"2\": 22, \"4\": 28, \"1\": 4, \"15\": 4, \"14\": 12, \"9\": 8, \"5\": 5, \"3\": 1, \"13\": 1, \"10\": 1}, \"11\": {\"11\": 189, \"0\": 51}, \"5\": {\"5\": 53, \"9\": 56, \"1\": 38, \"3\": 36, \"7\": 15, \"8\": 13, \"15\": 11, \"12\": 8, \"14\": 4, \"2\": 4, \"6\": 1, \"4\": 1}, \"14\": {\"14\": 106, \"8\": 68, \"7\": 10, \"6\": 10, \"9\": 9, \"3\": 30, \"1\": 1, \"2\": 1, \"5\": 5}, \"2\": {\"15\": 28, \"2\": 48, \"1\": 8, \"13\": 17, \"3\": 1, \"4\": 25, \"12\": 54, \"9\": 12, \"7\": 27, \"5\": 7, \"6\": 13}, \"7\": {\"8\": 4, \"2\": 32, \"6\": 37, \"12\": 27, \"7\": 55, \"4\": 17, \"9\": 24, \"15\": 18, \"14\": 3, \"3\": 3, \"1\": 13, \"5\": 4, \"13\": 3}, \"3\": {\"9\": 38, \"8\": 41, \"3\": 65, \"14\": 14, \"5\": 35, \"0\": 5, \"1\": 26, \"7\": 10, \"12\": 2, \"2\": 3, \"15\": 1}, \"4\": {\"1\": 4, \"12\": 41, \"2\": 38, \"4\": 54, \"6\": 40, \"3\": 1, \"10\": 12, \"5\": 1, \"15\": 21, \"7\": 17, \"9\": 2, \"13\": 9}, \"9\": {\"5\": 38, \"1\": 38, \"9\": 47, \"7\": 30, \"6\": 10, \"3\": 38, \"8\": 12, \"15\": 9, \"2\": 7, \"12\": 5, \"14\": 5, \"4\": 1}, \"12\": {\"6\": 5, \"1\": 14, \"2\": 40, \"4\": 34, \"15\": 42, \"7\": 22, \"13\": 23, \"12\": 48, \"9\": 8, \"5\": 4}, \"0\": {\"0\": 158, \"11\": 48, \"8\": 15, \"3\": 13, \"1\": 1, \"9\": 2, \"5\": 2, \"14\": 1}, \"10\": {\"10\": 160, \"4\": 38, \"6\": 5, \"12\": 11, \"7\": 2, \"2\": 6, \"13\": 18}, \"8\": {\"8\": 86, \"14\": 56, \"3\": 43, \"5\": 20, \"0\": 7, \"9\": 19, \"7\": 3, \"1\": 5, \"6\": 1}, \"13\": {\"13\": 102, \"4\": 20, \"12\": 41, \"1\": 2, \"2\": 23, \"15\": 33, \"10\": 9, \"6\": 2, \"7\": 6, \"9\": 2}, \"1\": {\"5\": 44, \"3\": 24, \"1\": 50, \"2\": 18, \"15\": 22, \"7\": 18, \"9\": 44, \"12\": 15, \"8\": 3, \"6\": 1, \"14\": 1}, \"15\": {\"15\": 67, \"2\": 36, \"1\": 23, \"4\": 8, \"12\": 47, \"13\": 21, \"5\": 12, \"7\": 13, \"9\": 12, \"6\": 1}}, \"O_38\": {\"3\": {\"3\": 226, \"0\": 2, \"11\": 2, \"10\": 9, \"13\": 1}, \"8\": {\"15\": 23, \"8\": 52, \"5\": 57, \"12\": 18, \"9\": 34, \"7\": 36, \"2\": 11, \"0\": 3, \"14\": 6}, \"0\": {\"0\": 72, \"7\": 34, \"14\": 15, \"10\": 41, \"9\": 4, \"3\": 11, \"13\": 36, \"4\": 13, \"2\": 12, \"8\": 1, \"5\": 1}, \"2\": {\"2\": 131, \"14\": 58, \"13\": 28, \"0\": 7, \"8\": 6, \"7\": 4, \"5\": 2, \"9\": 4}, \"4\": {\"4\": 200, \"0\": 17, \"10\": 11, \"14\": 7, \"7\": 5}, \"7\": {\"7\": 148, \"5\": 12, \"9\": 21, \"8\": 19, \"4\": 4, \"0\": 11, \"14\": 20, \"2\": 2, \"13\": 1, \"12\": 2}, \"12\": {\"12\": 192, \"15\": 3, \"5\": 18, \"8\": 22, \"7\": 5}, \"6\": {\"1\": 71, \"6\": 169}, \"15\": {\"1\": 17, \"15\": 140, \"5\": 43, \"8\": 23, \"12\": 11, \"9\": 4, \"7\": 1, \"2\": 1}, \"11\": {\"11\": 236, \"3\": 4}, \"9\": {\"9\": 121, \"8\": 40, \"7\": 15, \"5\": 57, \"0\": 1, \"2\": 3, \"14\": 2, \"15\": 1}, \"14\": {\"2\": 51, \"14\": 135, \"7\": 13, \"4\": 9, \"0\": 11, \"8\": 4, \"13\": 10, \"10\": 6, \"5\": 1}, \"10\": {\"10\": 153, \"0\": 38, \"3\": 12, \"13\": 31, \"14\": 3, \"7\": 1, \"4\": 2}, \"5\": {\"9\": 44, \"12\": 14, \"5\": 68, \"8\": 63, \"7\": 23, \"15\": 21, \"14\": 3, \"2\": 3, \"6\": 1}, \"1\": {\"6\": 68, \"1\": 166, \"15\": 6}, \"13\": {\"14\": 16, \"13\": 108, \"10\": 42, \"0\": 48, \"2\": 22, \"7\": 2, \"3\": 2}}, \"O_26\": {\"5\": {\"5\": 86, \"15\": 53, \"1\": 29, \"6\": 56, \"10\": 7, \"14\": 5, \"11\": 3, \"0\": 1}, \"8\": {\"8\": 64, \"3\": 21, \"13\": 5, \"2\": 24, \"9\": 41, \"0\": 23, \"7\": 54, \"10\": 3, \"14\": 2, \"12\": 3}, \"4\": {\"4\": 202, \"13\": 17, \"3\": 14, \"7\": 3, \"8\": 3, \"2\": 1}, \"12\": {\"0\": 1, \"12\": 179, \"13\": 32, \"9\": 17, \"8\": 7, \"2\": 2, \"3\": 1, \"7\": 1}, \"6\": {\"15\": 60, \"6\": 62, \"14\": 15, \"1\": 22, \"10\": 25, \"5\": 45, \"0\": 8, \"11\": 3}, \"7\": {\"2\": 43, \"7\": 71, \"8\": 52, \"3\": 39, \"9\": 25, \"0\": 6, \"13\": 4}, \"10\": {\"10\": 59, \"15\": 42, \"14\": 45, \"5\": 10, \"6\": 31, \"0\": 29, \"1\": 17, \"2\": 7}, \"0\": {\"0\": 61, \"14\": 44, \"2\": 33, \"8\": 11, \"10\": 52, \"6\": 9, \"13\": 1, \"15\": 13, \"1\": 5, \"5\": 2, \"9\": 2, \"7\": 7}, \"15\": {\"10\": 38, \"14\": 17, \"1\": 23, \"5\": 44, \"15\": 54, \"2\": 7, \"6\": 44, \"0\": 12, \"9\": 1}, \"9\": {\"13\": 28, \"8\": 41, \"0\": 12, \"9\": 48, \"12\": 7, \"7\": 36, \"2\": 39, \"3\": 27, \"10\": 2}, \"11\": {\"11\": 213, \"6\": 9, \"5\": 15, \"1\": 1, \"15\": 2}, \"14\": {\"1\": 21, \"14\": 75, \"15\": 29, \"5\": 10, \"0\": 27, \"10\": 58, \"6\": 15, \"2\": 5}, \"2\": {\"2\": 72, \"7\": 40, \"0\": 29, \"8\": 29, \"9\": 36, \"14\": 4, \"13\": 3, \"6\": 1, \"15\": 3, \"10\": 7, \"12\": 1, \"3\": 14, \"5\": 1}, \"13\": {\"3\": 21, \"9\": 45, \"0\": 3, \"13\": 110, \"4\": 12, \"12\": 23, \"8\": 8, \"2\": 6, \"7\": 12}, \"3\": {\"3\": 90, \"8\": 26, \"7\": 54, \"9\": 35, \"13\": 17, \"2\": 16, \"0\": 1, \"4\": 1}, \"1\": {\"1\": 96, \"5\": 32, \"15\": 35, \"14\": 22, \"10\": 23, \"6\": 31, \"0\": 1}}}, \"per_domain_accuracy\": {\"W_3\": {\"accuracy\": 0.980349344978166, \"source?\": true}, \"C_4\": {\"accuracy\": 0.9992424242424243, \"source?\": true}, \"W_2\": {\"accuracy\": 0.9598958333333333, \"source?\": true}, \"C_2\": {\"accuracy\": 0.9998244382022472, \"source?\": true}, \"C_3\": {\"accuracy\": 0.9994419642857143, \"source?\": true}, \"C_1\": {\"accuracy\": 0.9996621621621622, \"source?\": true}, \"W_1\": {\"accuracy\": 0.9822563559322034, \"source?\": true}, \"W_4\": {\"accuracy\": 0.9729938271604939, \"source?\": true}, \"C_5\": {\"accuracy\": 0.9993016759776536, \"source?\": true}, \"O_50\": {\"accuracy\": 0.49166666666666664, \"source?\": false}, \"O_14\": {\"accuracy\": 0.6184895833333334, \"source?\": false}, \"O_32\": {\"accuracy\": 0.5614583333333333, \"source?\": false}, \"O_44\": {\"accuracy\": 0.4864583333333333, \"source?\": false}, \"O_8\": {\"accuracy\": 0.5182291666666666, \"source?\": false}, \"O_20\": {\"accuracy\": 0.359375, \"source?\": false}, \"O_38\": {\"accuracy\": 0.6033854166666667, \"source?\": false}, \"O_26\": {\"accuracy\": 0.4015625, \"source?\": false}}}, \"history\": {\"epoch_indices\": [1, 2, 3, 4, 5, 6, 7, 8], \"train_label_loss\": [0.1258779708530432, 0.07911816461674254, 0.06536360791699321, 0.05629545659876357, 0.05341676851125871, 0.048381078499652314, 0.04547647460642159, 0.0430748759221013], \"source_val_label_loss\": [0.11580749601125717, 0.0777086392045021, 0.06287635862827301, 0.0656718835234642, 0.06028309836983681, 0.060058608651161194, 0.05620642751455307, 0.05735478922724724], \"target_val_label_loss\": [2.44638729095459, 2.3056628704071045, 2.2399423122406006, 2.273932456970215, 2.2089431285858154, 2.178098440170288, 2.2007579803466797, 2.1699252128601074], \"source_val_acc_label\": [0.9780752879868349, 0.9832864783324191, 0.9858920735052112, 0.986114920460779, 0.9860806363137685, 0.98661204059243, 0.9871434448710916, 0.9867491771804717], \"target_val_acc_label\": [0.4329752604166667, 0.44632161458333336, 0.49322916666666666, 0.505078125, 0.4625325520833333, 0.4060546875, 0.43701171875, 0.35403645833333336]}, \"dataset_metrics\": {\"source\": {\"train\": {\"n_unique_x\": 364204, \"n_unique_y\": 130, \"n_batch/episode\": 13170}, \"val\": {\"n_unique_x\": 77236, \"n_unique_y\": 130, \"n_batch/episode\": 1823}, \"test\": {\"n_unique_x\": 78478, \"n_unique_y\": 130, \"n_batch/episode\": 1857}}, \"target\": {\"train\": {\"n_unique_x\": 179200, \"n_unique_y\": 16, \"n_batch/episode\": 6720}, \"val\": {\"n_unique_x\": 38400, \"n_unique_y\": 16, \"n_batch/episode\": 960}, \"test\": {\"n_unique_x\": 38400, \"n_unique_y\": 16, \"n_batch/episode\": 960}}}}'"
      ]
     },
     "execution_count": 29,
     "metadata": {},
     "output_type": "execute_result"
    }
   ],
   "source": [
    "json.dumps(experiment)"
   ]
  }
 ],
 "metadata": {
  "celltoolbar": "Tags",
  "kernelspec": {
   "display_name": "Python 3 (ipykernel)",
   "language": "python",
   "name": "python3"
  },
  "language_info": {
   "codemirror_mode": {
    "name": "ipython",
    "version": 3
   },
   "file_extension": ".py",
   "mimetype": "text/x-python",
   "name": "python",
   "nbconvert_exporter": "python",
   "pygments_lexer": "ipython3",
   "version": "3.8.10"
  },
  "papermill": {
   "default_parameters": {},
   "duration": 2712.40416,
   "end_time": "2022-03-20T20:48:15.761065",
   "environment_variables": {},
   "exception": null,
   "input_path": "/mnt/wd500GB/CSC500/csc500-main/csc500-notebooks/templates/tl_ptn_template.ipynb",
   "output_path": "trial.ipynb",
   "parameters": {
    "parameters": {
     "BEST_MODEL_PATH": "./best_model.pth",
     "NUM_LOGS_PER_EPOCH": 10,
     "criteria_for_best": "target_accuracy",
     "dataset_seed": 500,
     "datasets": [
      {
       "domain_prefix": "C_",
       "domains": [
        1,
        2,
        3,
        4,
        5
       ],
       "episode_transforms": [],
       "labels": [
        "1-10.",
        "1-11.",
        "1-15.",
        "1-16.",
        "1-17.",
        "1-18.",
        "1-19.",
        "10-4.",
        "10-7.",
        "11-1.",
        "11-14.",
        "11-17.",
        "11-20.",
        "11-7.",
        "13-20.",
        "13-8.",
        "14-10.",
        "14-11.",
        "14-14.",
        "14-7.",
        "15-1.",
        "15-20.",
        "16-1.",
        "16-16.",
        "17-10.",
        "17-11.",
        "17-2.",
        "19-1.",
        "19-16.",
        "19-19.",
        "19-20.",
        "19-3.",
        "2-10.",
        "2-11.",
        "2-17.",
        "2-18.",
        "2-20.",
        "2-3.",
        "2-4.",
        "2-5.",
        "2-6.",
        "2-7.",
        "2-8.",
        "3-13.",
        "3-18.",
        "3-3.",
        "4-1.",
        "4-10.",
        "4-11.",
        "4-19.",
        "5-5.",
        "6-15.",
        "7-10.",
        "7-14.",
        "8-18.",
        "8-20.",
        "8-3.",
        "8-8."
       ],
       "num_examples_per_domain_per_label": -1,
       "pickle_path": "/mnt/wd500GB/CSC500/csc500-main/datasets/cores.stratified_ds.2022A.pkl",
       "source_or_target_dataset": "source",
       "x_transforms": [
        "take_200"
       ]
      },
      {
       "domain_prefix": "W_",
       "domains": [
        1,
        2,
        3,
        4
       ],
       "episode_transforms": [],
       "labels": [
        "1-10",
        "1-12",
        "1-14",
        "1-16",
        "1-18",
        "1-19",
        "1-8",
        "10-11",
        "10-17",
        "10-4",
        "10-7",
        "11-1",
        "11-10",
        "11-19",
        "11-20",
        "11-4",
        "11-7",
        "12-19",
        "12-20",
        "12-7",
        "13-14",
        "13-18",
        "13-19",
        "13-20",
        "13-3",
        "13-7",
        "14-10",
        "14-11",
        "14-12",
        "14-13",
        "14-14",
        "14-19",
        "14-20",
        "14-7",
        "14-8",
        "14-9",
        "15-1",
        "15-19",
        "15-6",
        "16-1",
        "16-16",
        "16-19",
        "16-20",
        "17-10",
        "17-11",
        "18-1",
        "18-10",
        "18-11",
        "18-12",
        "18-13",
        "18-14",
        "18-15",
        "18-16",
        "18-17",
        "18-19",
        "18-2",
        "18-20",
        "18-4",
        "18-5",
        "18-7",
        "18-8",
        "18-9",
        "19-1",
        "19-10",
        "19-11",
        "19-12",
        "19-13",
        "19-14",
        "19-15",
        "19-19",
        "19-2",
        "19-20",
        "19-3",
        "19-4",
        "19-6",
        "19-7",
        "19-8",
        "19-9",
        "2-1",
        "2-13",
        "2-15",
        "2-3",
        "2-4",
        "2-5",
        "2-6",
        "2-7",
        "2-8",
        "20-1",
        "20-12",
        "20-14",
        "20-15",
        "20-16",
        "20-18",
        "20-19",
        "20-20",
        "20-3",
        "20-4",
        "20-5",
        "20-7",
        "20-8",
        "3-1",
        "3-13",
        "3-18",
        "3-2",
        "3-8",
        "4-1",
        "4-10",
        "4-11",
        "5-1",
        "5-5",
        "6-1",
        "6-15",
        "6-6",
        "7-10",
        "7-11",
        "7-12",
        "7-13",
        "7-14",
        "7-7",
        "7-8",
        "7-9",
        "8-1",
        "8-13",
        "8-14",
        "8-18",
        "8-20",
        "8-3",
        "8-8",
        "9-1",
        "9-7"
       ],
       "num_examples_per_domain_per_label": -1,
       "pickle_path": "/mnt/wd500GB/CSC500/csc500-main/datasets/wisig.node3-19.stratified_ds.2022A.pkl",
       "source_or_target_dataset": "source",
       "x_transforms": [
        "take_200"
       ]
      },
      {
       "domain_prefix": "O_",
       "domains": [
        32,
        38,
        8,
        44,
        14,
        50,
        20,
        26
       ],
       "episode_transforms": [],
       "labels": [
        "3123D52",
        "3123D65",
        "3123D79",
        "3123D80",
        "3123D54",
        "3123D70",
        "3123D7B",
        "3123D89",
        "3123D58",
        "3123D76",
        "3123D7D",
        "3123EFE",
        "3123D64",
        "3123D78",
        "3123D7E",
        "3124E4A"
       ],
       "num_examples_per_domain_per_label": 2000,
       "pickle_path": "/mnt/wd500GB/CSC500/csc500-main/datasets/oracle.Run1_framed_2000Examples_stratified_ds.2022A.pkl",
       "source_or_target_dataset": "target",
       "x_transforms": [
        "take_200",
        "resample_20Msps_to_25Msps"
       ]
      }
     ],
     "device": "cuda",
     "experiment_name": "tl_3Av2:cores+wisig -> oracle.run1.framed",
     "lr": 0.0001,
     "n_epoch": 50,
     "n_query": 2,
     "n_shot": 3,
     "n_way": 16,
     "patience": 3,
     "seed": 500,
     "test_k_factor": 2,
     "torch_default_dtype": "torch.float32",
     "train_k_factor": 3,
     "val_k_factor": 2,
     "x_net": [
      {
       "class": "nnReshape",
       "kargs": {
        "shape": [
         -1,
         1,
         2,
         200
        ]
       }
      },
      {
       "class": "Conv2d",
       "kargs": {
        "bias": false,
        "in_channels": 1,
        "kernel_size": [
         1,
         7
        ],
        "out_channels": 256,
        "padding": [
         0,
         3
        ]
       }
      },
      {
       "class": "ReLU",
       "kargs": {
        "inplace": true
       }
      },
      {
       "class": "BatchNorm2d",
       "kargs": {
        "num_features": 256
       }
      },
      {
       "class": "Conv2d",
       "kargs": {
        "bias": true,
        "in_channels": 256,
        "kernel_size": [
         2,
         7
        ],
        "out_channels": 80,
        "padding": [
         0,
         3
        ]
       }
      },
      {
       "class": "ReLU",
       "kargs": {
        "inplace": true
       }
      },
      {
       "class": "BatchNorm2d",
       "kargs": {
        "num_features": 80
       }
      },
      {
       "class": "Flatten",
       "kargs": {}
      },
      {
       "class": "Linear",
       "kargs": {
        "in_features": 16000,
        "out_features": 256
       }
      },
      {
       "class": "ReLU",
       "kargs": {
        "inplace": true
       }
      },
      {
       "class": "BatchNorm1d",
       "kargs": {
        "num_features": 256
       }
      },
      {
       "class": "Linear",
       "kargs": {
        "in_features": 256,
        "out_features": 256
       }
      }
     ],
     "x_shape": [
      2,
      200
     ]
    }
   },
   "start_time": "2022-03-20T20:03:03.356905",
   "version": "2.3.4"
  }
 },
 "nbformat": 4,
 "nbformat_minor": 5
}