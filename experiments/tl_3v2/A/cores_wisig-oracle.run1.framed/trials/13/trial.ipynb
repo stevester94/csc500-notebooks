{
 "cells": [
  {
   "cell_type": "markdown",
   "id": "9fea5f46",
   "metadata": {
    "papermill": {
     "duration": 0.017626,
     "end_time": "2022-03-20T19:22:27.627598",
     "exception": false,
     "start_time": "2022-03-20T19:22:27.609972",
     "status": "completed"
    },
    "tags": []
   },
   "source": [
    "# Transfer Learning Template"
   ]
  },
  {
   "cell_type": "code",
   "execution_count": 1,
   "id": "0902182a",
   "metadata": {
    "execution": {
     "iopub.execute_input": "2022-03-20T19:22:27.666170Z",
     "iopub.status.busy": "2022-03-20T19:22:27.660641Z",
     "iopub.status.idle": "2022-03-20T19:22:28.601572Z",
     "shell.execute_reply": "2022-03-20T19:22:28.601290Z"
    },
    "papermill": {
     "duration": 0.961088,
     "end_time": "2022-03-20T19:22:28.601643",
     "exception": false,
     "start_time": "2022-03-20T19:22:27.640555",
     "status": "completed"
    },
    "tags": []
   },
   "outputs": [],
   "source": [
    "%load_ext autoreload\n",
    "%autoreload 2\n",
    "%matplotlib inline\n",
    "\n",
    "    \n",
    "import os, json, sys, time, random\n",
    "import numpy as np\n",
    "import torch\n",
    "from torch.optim import Adam\n",
    "from  easydict import EasyDict\n",
    "import matplotlib.pyplot as plt\n",
    "\n",
    "from steves_models.steves_ptn import Steves_Prototypical_Network\n",
    "\n",
    "from steves_utils.lazy_iterable_wrapper import Lazy_Iterable_Wrapper\n",
    "from steves_utils.iterable_aggregator import Iterable_Aggregator\n",
    "from steves_utils.ptn_train_eval_test_jig import  PTN_Train_Eval_Test_Jig\n",
    "from steves_utils.torch_sequential_builder import build_sequential\n",
    "from steves_utils.torch_utils import get_dataset_metrics, ptn_confusion_by_domain_over_dataloader\n",
    "from steves_utils.utils_v2 import (per_domain_accuracy_from_confusion, get_datasets_base_path)\n",
    "from steves_utils.PTN.utils import independent_accuracy_assesment\n",
    "\n",
    "from torch.utils.data import DataLoader\n",
    "\n",
    "from steves_utils.stratified_dataset.episodic_accessor import Episodic_Accessor_Factory\n",
    "\n",
    "from steves_utils.ptn_do_report import (\n",
    "    get_loss_curve,\n",
    "    get_results_table,\n",
    "    get_parameters_table,\n",
    "    get_domain_accuracies,\n",
    ")\n",
    "\n",
    "from steves_utils.transforms import get_chained_transform"
   ]
  },
  {
   "cell_type": "markdown",
   "id": "41c840b4",
   "metadata": {
    "papermill": {
     "duration": 0.012812,
     "end_time": "2022-03-20T19:22:28.627818",
     "exception": false,
     "start_time": "2022-03-20T19:22:28.615006",
     "status": "completed"
    },
    "tags": []
   },
   "source": [
    "# Allowed Parameters\n",
    "These are allowed parameters, not defaults\n",
    "Each of these values need to be present in the injected parameters (the notebook will raise an exception if they are not present)\n",
    "\n",
    "Papermill uses the cell tag \"parameters\" to inject the real parameters below this cell.\n",
    "Enable tags to see what I mean"
   ]
  },
  {
   "cell_type": "code",
   "execution_count": 2,
   "id": "fd44eb83",
   "metadata": {
    "execution": {
     "iopub.execute_input": "2022-03-20T19:22:28.656450Z",
     "iopub.status.busy": "2022-03-20T19:22:28.656189Z",
     "iopub.status.idle": "2022-03-20T19:22:28.670074Z",
     "shell.execute_reply": "2022-03-20T19:22:28.669825Z"
    },
    "papermill": {
     "duration": 0.029495,
     "end_time": "2022-03-20T19:22:28.670124",
     "exception": false,
     "start_time": "2022-03-20T19:22:28.640629",
     "status": "completed"
    },
    "tags": []
   },
   "outputs": [],
   "source": [
    "required_parameters = {\n",
    "    \"experiment_name\",\n",
    "    \"lr\",\n",
    "    \"device\",\n",
    "    \"seed\",\n",
    "    \"dataset_seed\",\n",
    "    \"n_shot\",\n",
    "    \"n_query\",\n",
    "    \"n_way\",\n",
    "    \"train_k_factor\",\n",
    "    \"val_k_factor\",\n",
    "    \"test_k_factor\",\n",
    "    \"n_epoch\",\n",
    "    \"patience\",\n",
    "    \"criteria_for_best\",\n",
    "    \"x_net\",\n",
    "    \"datasets\",\n",
    "    \"torch_default_dtype\",\n",
    "    \"NUM_LOGS_PER_EPOCH\",\n",
    "    \"BEST_MODEL_PATH\",\n",
    "    \"x_shape\",\n",
    "}"
   ]
  },
  {
   "cell_type": "code",
   "execution_count": 3,
   "id": "fa3f0049",
   "metadata": {
    "execution": {
     "iopub.execute_input": "2022-03-20T19:22:28.702092Z",
     "iopub.status.busy": "2022-03-20T19:22:28.701805Z",
     "iopub.status.idle": "2022-03-20T19:22:28.713842Z",
     "shell.execute_reply": "2022-03-20T19:22:28.713589Z"
    },
    "papermill": {
     "duration": 0.030892,
     "end_time": "2022-03-20T19:22:28.713891",
     "exception": false,
     "start_time": "2022-03-20T19:22:28.682999",
     "status": "completed"
    },
    "tags": [
     "parameters"
    ]
   },
   "outputs": [],
   "source": [
    "from steves_utils.CORES.utils import (\n",
    "    ALL_NODES,\n",
    "    ALL_NODES_MINIMUM_1000_EXAMPLES,\n",
    "    ALL_DAYS\n",
    ")\n",
    "\n",
    "from steves_utils.ORACLE.utils_v2 import (\n",
    "    ALL_DISTANCES_FEET_NARROWED,\n",
    "    ALL_RUNS,\n",
    "    ALL_SERIAL_NUMBERS,\n",
    ")\n",
    "\n",
    "standalone_parameters = {}\n",
    "standalone_parameters[\"experiment_name\"] = \"STANDALONE PTN\"\n",
    "standalone_parameters[\"lr\"] = 0.001\n",
    "standalone_parameters[\"device\"] = \"cuda\"\n",
    "\n",
    "standalone_parameters[\"seed\"] = 1337\n",
    "standalone_parameters[\"dataset_seed\"] = 1337\n",
    "\n",
    "standalone_parameters[\"n_way\"] = 8\n",
    "standalone_parameters[\"n_shot\"] = 3\n",
    "standalone_parameters[\"n_query\"]  = 2\n",
    "standalone_parameters[\"train_k_factor\"] = 1\n",
    "standalone_parameters[\"val_k_factor\"] = 2\n",
    "standalone_parameters[\"test_k_factor\"] = 2\n",
    "\n",
    "\n",
    "standalone_parameters[\"n_epoch\"] = 50\n",
    "\n",
    "standalone_parameters[\"patience\"] = 10\n",
    "standalone_parameters[\"criteria_for_best\"] = \"source_loss\"\n",
    "\n",
    "standalone_parameters[\"datasets\"] = [\n",
    "    {\n",
    "        \"labels\": ALL_SERIAL_NUMBERS,\n",
    "        \"domains\": ALL_DISTANCES_FEET_NARROWED,\n",
    "        \"num_examples_per_domain_per_label\": 100,\n",
    "        \"pickle_path\": os.path.join(get_datasets_base_path(), \"oracle.Run1_framed_2000Examples_stratified_ds.2022A.pkl\"),\n",
    "        \"source_or_target_dataset\": \"source\",\n",
    "        \"x_transforms\": [\"unit_mag\", \"minus_two\"],\n",
    "        \"episode_transforms\": [],\n",
    "        \"domain_prefix\": \"ORACLE_\"\n",
    "    },\n",
    "    {\n",
    "        \"labels\": ALL_NODES,\n",
    "        \"domains\": ALL_DAYS,\n",
    "        \"num_examples_per_domain_per_label\": 100,\n",
    "        \"pickle_path\": os.path.join(get_datasets_base_path(), \"cores.stratified_ds.2022A.pkl\"),\n",
    "        \"source_or_target_dataset\": \"target\",\n",
    "        \"x_transforms\": [\"unit_power\", \"times_zero\"],\n",
    "        \"episode_transforms\": [],\n",
    "        \"domain_prefix\": \"CORES_\"\n",
    "    }   \n",
    "]\n",
    "\n",
    "standalone_parameters[\"torch_default_dtype\"] = \"torch.float32\" \n",
    "\n",
    "\n",
    "\n",
    "standalone_parameters[\"x_net\"] =     [\n",
    "    {\"class\": \"nnReshape\", \"kargs\": {\"shape\":[-1, 1, 2, 256]}},\n",
    "    {\"class\": \"Conv2d\", \"kargs\": { \"in_channels\":1, \"out_channels\":256, \"kernel_size\":(1,7), \"bias\":False, \"padding\":(0,3), },},\n",
    "    {\"class\": \"ReLU\", \"kargs\": {\"inplace\": True}},\n",
    "    {\"class\": \"BatchNorm2d\", \"kargs\": {\"num_features\":256}},\n",
    "\n",
    "    {\"class\": \"Conv2d\", \"kargs\": { \"in_channels\":256, \"out_channels\":80, \"kernel_size\":(2,7), \"bias\":True, \"padding\":(0,3), },},\n",
    "    {\"class\": \"ReLU\", \"kargs\": {\"inplace\": True}},\n",
    "    {\"class\": \"BatchNorm2d\", \"kargs\": {\"num_features\":80}},\n",
    "    {\"class\": \"Flatten\", \"kargs\": {}},\n",
    "\n",
    "    {\"class\": \"Linear\", \"kargs\": {\"in_features\": 80*256, \"out_features\": 256}}, # 80 units per IQ pair\n",
    "    {\"class\": \"ReLU\", \"kargs\": {\"inplace\": True}},\n",
    "    {\"class\": \"BatchNorm1d\", \"kargs\": {\"num_features\":256}},\n",
    "\n",
    "    {\"class\": \"Linear\", \"kargs\": {\"in_features\": 256, \"out_features\": 256}},\n",
    "]\n",
    "\n",
    "# Parameters relevant to results\n",
    "# These parameters will basically never need to change\n",
    "standalone_parameters[\"NUM_LOGS_PER_EPOCH\"] = 10\n",
    "standalone_parameters[\"BEST_MODEL_PATH\"] = \"./best_model.pth\"\n",
    "\n",
    "\n",
    "\n",
    "\n"
   ]
  },
  {
   "cell_type": "code",
   "execution_count": 4,
   "id": "ec63ee9e",
   "metadata": {
    "execution": {
     "iopub.execute_input": "2022-03-20T19:22:28.752706Z",
     "iopub.status.busy": "2022-03-20T19:22:28.752258Z",
     "iopub.status.idle": "2022-03-20T19:22:28.765087Z",
     "shell.execute_reply": "2022-03-20T19:22:28.764858Z"
    },
    "papermill": {
     "duration": 0.038246,
     "end_time": "2022-03-20T19:22:28.765142",
     "exception": false,
     "start_time": "2022-03-20T19:22:28.726896",
     "status": "completed"
    },
    "tags": [
     "injected-parameters"
    ]
   },
   "outputs": [],
   "source": [
    "# Parameters\n",
    "parameters = {\n",
    "    \"experiment_name\": \"tl_3Av2:cores+wisig -> oracle.run1.framed\",\n",
    "    \"device\": \"cuda\",\n",
    "    \"lr\": 0.0001,\n",
    "    \"x_shape\": [2, 200],\n",
    "    \"n_shot\": 3,\n",
    "    \"n_query\": 2,\n",
    "    \"train_k_factor\": 3,\n",
    "    \"val_k_factor\": 2,\n",
    "    \"test_k_factor\": 2,\n",
    "    \"torch_default_dtype\": \"torch.float32\",\n",
    "    \"n_epoch\": 50,\n",
    "    \"patience\": 3,\n",
    "    \"criteria_for_best\": \"target_accuracy\",\n",
    "    \"x_net\": [\n",
    "        {\"class\": \"nnReshape\", \"kargs\": {\"shape\": [-1, 1, 2, 200]}},\n",
    "        {\n",
    "            \"class\": \"Conv2d\",\n",
    "            \"kargs\": {\n",
    "                \"in_channels\": 1,\n",
    "                \"out_channels\": 256,\n",
    "                \"kernel_size\": [1, 7],\n",
    "                \"bias\": False,\n",
    "                \"padding\": [0, 3],\n",
    "            },\n",
    "        },\n",
    "        {\"class\": \"ReLU\", \"kargs\": {\"inplace\": True}},\n",
    "        {\"class\": \"BatchNorm2d\", \"kargs\": {\"num_features\": 256}},\n",
    "        {\n",
    "            \"class\": \"Conv2d\",\n",
    "            \"kargs\": {\n",
    "                \"in_channels\": 256,\n",
    "                \"out_channels\": 80,\n",
    "                \"kernel_size\": [2, 7],\n",
    "                \"bias\": True,\n",
    "                \"padding\": [0, 3],\n",
    "            },\n",
    "        },\n",
    "        {\"class\": \"ReLU\", \"kargs\": {\"inplace\": True}},\n",
    "        {\"class\": \"BatchNorm2d\", \"kargs\": {\"num_features\": 80}},\n",
    "        {\"class\": \"Flatten\", \"kargs\": {}},\n",
    "        {\"class\": \"Linear\", \"kargs\": {\"in_features\": 16000, \"out_features\": 256}},\n",
    "        {\"class\": \"ReLU\", \"kargs\": {\"inplace\": True}},\n",
    "        {\"class\": \"BatchNorm1d\", \"kargs\": {\"num_features\": 256}},\n",
    "        {\"class\": \"Linear\", \"kargs\": {\"in_features\": 256, \"out_features\": 256}},\n",
    "    ],\n",
    "    \"NUM_LOGS_PER_EPOCH\": 10,\n",
    "    \"BEST_MODEL_PATH\": \"./best_model.pth\",\n",
    "    \"n_way\": 16,\n",
    "    \"datasets\": [\n",
    "        {\n",
    "            \"labels\": [\n",
    "                \"1-10.\",\n",
    "                \"1-11.\",\n",
    "                \"1-15.\",\n",
    "                \"1-16.\",\n",
    "                \"1-17.\",\n",
    "                \"1-18.\",\n",
    "                \"1-19.\",\n",
    "                \"10-4.\",\n",
    "                \"10-7.\",\n",
    "                \"11-1.\",\n",
    "                \"11-14.\",\n",
    "                \"11-17.\",\n",
    "                \"11-20.\",\n",
    "                \"11-7.\",\n",
    "                \"13-20.\",\n",
    "                \"13-8.\",\n",
    "                \"14-10.\",\n",
    "                \"14-11.\",\n",
    "                \"14-14.\",\n",
    "                \"14-7.\",\n",
    "                \"15-1.\",\n",
    "                \"15-20.\",\n",
    "                \"16-1.\",\n",
    "                \"16-16.\",\n",
    "                \"17-10.\",\n",
    "                \"17-11.\",\n",
    "                \"17-2.\",\n",
    "                \"19-1.\",\n",
    "                \"19-16.\",\n",
    "                \"19-19.\",\n",
    "                \"19-20.\",\n",
    "                \"19-3.\",\n",
    "                \"2-10.\",\n",
    "                \"2-11.\",\n",
    "                \"2-17.\",\n",
    "                \"2-18.\",\n",
    "                \"2-20.\",\n",
    "                \"2-3.\",\n",
    "                \"2-4.\",\n",
    "                \"2-5.\",\n",
    "                \"2-6.\",\n",
    "                \"2-7.\",\n",
    "                \"2-8.\",\n",
    "                \"3-13.\",\n",
    "                \"3-18.\",\n",
    "                \"3-3.\",\n",
    "                \"4-1.\",\n",
    "                \"4-10.\",\n",
    "                \"4-11.\",\n",
    "                \"4-19.\",\n",
    "                \"5-5.\",\n",
    "                \"6-15.\",\n",
    "                \"7-10.\",\n",
    "                \"7-14.\",\n",
    "                \"8-18.\",\n",
    "                \"8-20.\",\n",
    "                \"8-3.\",\n",
    "                \"8-8.\",\n",
    "            ],\n",
    "            \"domains\": [1, 2, 3, 4, 5],\n",
    "            \"num_examples_per_domain_per_label\": -1,\n",
    "            \"pickle_path\": \"/mnt/wd500GB/CSC500/csc500-main/datasets/cores.stratified_ds.2022A.pkl\",\n",
    "            \"source_or_target_dataset\": \"source\",\n",
    "            \"x_transforms\": [\"unit_mag\", \"take_200\"],\n",
    "            \"episode_transforms\": [],\n",
    "            \"domain_prefix\": \"C_\",\n",
    "        },\n",
    "        {\n",
    "            \"labels\": [\n",
    "                \"1-10\",\n",
    "                \"1-12\",\n",
    "                \"1-14\",\n",
    "                \"1-16\",\n",
    "                \"1-18\",\n",
    "                \"1-19\",\n",
    "                \"1-8\",\n",
    "                \"10-11\",\n",
    "                \"10-17\",\n",
    "                \"10-4\",\n",
    "                \"10-7\",\n",
    "                \"11-1\",\n",
    "                \"11-10\",\n",
    "                \"11-19\",\n",
    "                \"11-20\",\n",
    "                \"11-4\",\n",
    "                \"11-7\",\n",
    "                \"12-19\",\n",
    "                \"12-20\",\n",
    "                \"12-7\",\n",
    "                \"13-14\",\n",
    "                \"13-18\",\n",
    "                \"13-19\",\n",
    "                \"13-20\",\n",
    "                \"13-3\",\n",
    "                \"13-7\",\n",
    "                \"14-10\",\n",
    "                \"14-11\",\n",
    "                \"14-12\",\n",
    "                \"14-13\",\n",
    "                \"14-14\",\n",
    "                \"14-19\",\n",
    "                \"14-20\",\n",
    "                \"14-7\",\n",
    "                \"14-8\",\n",
    "                \"14-9\",\n",
    "                \"15-1\",\n",
    "                \"15-19\",\n",
    "                \"15-6\",\n",
    "                \"16-1\",\n",
    "                \"16-16\",\n",
    "                \"16-19\",\n",
    "                \"16-20\",\n",
    "                \"17-10\",\n",
    "                \"17-11\",\n",
    "                \"18-1\",\n",
    "                \"18-10\",\n",
    "                \"18-11\",\n",
    "                \"18-12\",\n",
    "                \"18-13\",\n",
    "                \"18-14\",\n",
    "                \"18-15\",\n",
    "                \"18-16\",\n",
    "                \"18-17\",\n",
    "                \"18-19\",\n",
    "                \"18-2\",\n",
    "                \"18-20\",\n",
    "                \"18-4\",\n",
    "                \"18-5\",\n",
    "                \"18-7\",\n",
    "                \"18-8\",\n",
    "                \"18-9\",\n",
    "                \"19-1\",\n",
    "                \"19-10\",\n",
    "                \"19-11\",\n",
    "                \"19-12\",\n",
    "                \"19-13\",\n",
    "                \"19-14\",\n",
    "                \"19-15\",\n",
    "                \"19-19\",\n",
    "                \"19-2\",\n",
    "                \"19-20\",\n",
    "                \"19-3\",\n",
    "                \"19-4\",\n",
    "                \"19-6\",\n",
    "                \"19-7\",\n",
    "                \"19-8\",\n",
    "                \"19-9\",\n",
    "                \"2-1\",\n",
    "                \"2-13\",\n",
    "                \"2-15\",\n",
    "                \"2-3\",\n",
    "                \"2-4\",\n",
    "                \"2-5\",\n",
    "                \"2-6\",\n",
    "                \"2-7\",\n",
    "                \"2-8\",\n",
    "                \"20-1\",\n",
    "                \"20-12\",\n",
    "                \"20-14\",\n",
    "                \"20-15\",\n",
    "                \"20-16\",\n",
    "                \"20-18\",\n",
    "                \"20-19\",\n",
    "                \"20-20\",\n",
    "                \"20-3\",\n",
    "                \"20-4\",\n",
    "                \"20-5\",\n",
    "                \"20-7\",\n",
    "                \"20-8\",\n",
    "                \"3-1\",\n",
    "                \"3-13\",\n",
    "                \"3-18\",\n",
    "                \"3-2\",\n",
    "                \"3-8\",\n",
    "                \"4-1\",\n",
    "                \"4-10\",\n",
    "                \"4-11\",\n",
    "                \"5-1\",\n",
    "                \"5-5\",\n",
    "                \"6-1\",\n",
    "                \"6-15\",\n",
    "                \"6-6\",\n",
    "                \"7-10\",\n",
    "                \"7-11\",\n",
    "                \"7-12\",\n",
    "                \"7-13\",\n",
    "                \"7-14\",\n",
    "                \"7-7\",\n",
    "                \"7-8\",\n",
    "                \"7-9\",\n",
    "                \"8-1\",\n",
    "                \"8-13\",\n",
    "                \"8-14\",\n",
    "                \"8-18\",\n",
    "                \"8-20\",\n",
    "                \"8-3\",\n",
    "                \"8-8\",\n",
    "                \"9-1\",\n",
    "                \"9-7\",\n",
    "            ],\n",
    "            \"domains\": [1, 2, 3, 4],\n",
    "            \"num_examples_per_domain_per_label\": -1,\n",
    "            \"pickle_path\": \"/mnt/wd500GB/CSC500/csc500-main/datasets/wisig.node3-19.stratified_ds.2022A.pkl\",\n",
    "            \"source_or_target_dataset\": \"source\",\n",
    "            \"x_transforms\": [\"unit_mag\", \"take_200\"],\n",
    "            \"episode_transforms\": [],\n",
    "            \"domain_prefix\": \"W_\",\n",
    "        },\n",
    "        {\n",
    "            \"labels\": [\n",
    "                \"3123D52\",\n",
    "                \"3123D65\",\n",
    "                \"3123D79\",\n",
    "                \"3123D80\",\n",
    "                \"3123D54\",\n",
    "                \"3123D70\",\n",
    "                \"3123D7B\",\n",
    "                \"3123D89\",\n",
    "                \"3123D58\",\n",
    "                \"3123D76\",\n",
    "                \"3123D7D\",\n",
    "                \"3123EFE\",\n",
    "                \"3123D64\",\n",
    "                \"3123D78\",\n",
    "                \"3123D7E\",\n",
    "                \"3124E4A\",\n",
    "            ],\n",
    "            \"domains\": [32, 38, 8, 44, 14, 50, 20, 26],\n",
    "            \"num_examples_per_domain_per_label\": 2000,\n",
    "            \"pickle_path\": \"/mnt/wd500GB/CSC500/csc500-main/datasets/oracle.Run1_framed_2000Examples_stratified_ds.2022A.pkl\",\n",
    "            \"source_or_target_dataset\": \"target\",\n",
    "            \"x_transforms\": [\"unit_mag\", \"take_200\", \"resample_20Msps_to_25Msps\"],\n",
    "            \"episode_transforms\": [],\n",
    "            \"domain_prefix\": \"O_\",\n",
    "        },\n",
    "    ],\n",
    "    \"seed\": 500,\n",
    "    \"dataset_seed\": 500,\n",
    "}\n"
   ]
  },
  {
   "cell_type": "code",
   "execution_count": 5,
   "id": "8fa1cc33",
   "metadata": {
    "execution": {
     "iopub.execute_input": "2022-03-20T19:22:28.803889Z",
     "iopub.status.busy": "2022-03-20T19:22:28.803608Z",
     "iopub.status.idle": "2022-03-20T19:22:28.809595Z",
     "shell.execute_reply": "2022-03-20T19:22:28.809798Z"
    },
    "papermill": {
     "duration": 0.031502,
     "end_time": "2022-03-20T19:22:28.809858",
     "exception": false,
     "start_time": "2022-03-20T19:22:28.778356",
     "status": "completed"
    },
    "tags": []
   },
   "outputs": [],
   "source": [
    "# Set this to True if you want to run this template directly\n",
    "STANDALONE = False\n",
    "if STANDALONE:\n",
    "    print(\"parameters not injected, running with standalone_parameters\")\n",
    "    parameters = standalone_parameters\n",
    "\n",
    "if not 'parameters' in locals() and not 'parameters' in globals():\n",
    "    raise Exception(\"Parameter injection failed\")\n",
    "\n",
    "#Use an easy dict for all the parameters\n",
    "p = EasyDict(parameters)\n",
    "\n",
    "if \"x_shape\" not in p:\n",
    "    p.x_shape = [2,256] # Default to this if we dont supply x_shape\n",
    "\n",
    "\n",
    "supplied_keys = set(p.keys())\n",
    "\n",
    "if  supplied_keys != required_parameters:\n",
    "    print(\"Parameters are incorrect\")\n",
    "    if len(supplied_keys - required_parameters)>0: print(\"Shouldn't have:\", str(supplied_keys - required_parameters))\n",
    "    if len(required_parameters - supplied_keys)>0: print(\"Need to have:\", str(required_parameters - supplied_keys))\n",
    "    raise RuntimeError(\"Parameters are incorrect\")"
   ]
  },
  {
   "cell_type": "code",
   "execution_count": 6,
   "id": "3a028d58",
   "metadata": {
    "execution": {
     "iopub.execute_input": "2022-03-20T19:22:28.838202Z",
     "iopub.status.busy": "2022-03-20T19:22:28.837949Z",
     "iopub.status.idle": "2022-03-20T19:22:28.855417Z",
     "shell.execute_reply": "2022-03-20T19:22:28.855053Z"
    },
    "papermill": {
     "duration": 0.032571,
     "end_time": "2022-03-20T19:22:28.855487",
     "exception": false,
     "start_time": "2022-03-20T19:22:28.822916",
     "status": "completed"
    },
    "tags": []
   },
   "outputs": [],
   "source": [
    "###################################\n",
    "# Set the RNGs and make it all deterministic\n",
    "###################################\n",
    "np.random.seed(p.seed)\n",
    "random.seed(p.seed)\n",
    "torch.manual_seed(p.seed)\n",
    "\n",
    "torch.use_deterministic_algorithms(True) "
   ]
  },
  {
   "cell_type": "code",
   "execution_count": 7,
   "id": "b691acf6",
   "metadata": {
    "execution": {
     "iopub.execute_input": "2022-03-20T19:22:28.887389Z",
     "iopub.status.busy": "2022-03-20T19:22:28.887130Z",
     "iopub.status.idle": "2022-03-20T19:22:28.899879Z",
     "shell.execute_reply": "2022-03-20T19:22:28.899426Z"
    },
    "papermill": {
     "duration": 0.027671,
     "end_time": "2022-03-20T19:22:28.899967",
     "exception": false,
     "start_time": "2022-03-20T19:22:28.872296",
     "status": "completed"
    },
    "tags": []
   },
   "outputs": [],
   "source": [
    "###########################################\n",
    "# The stratified datasets honor this\n",
    "###########################################\n",
    "torch.set_default_dtype(eval(p.torch_default_dtype))"
   ]
  },
  {
   "cell_type": "code",
   "execution_count": 8,
   "id": "b5fba671",
   "metadata": {
    "execution": {
     "iopub.execute_input": "2022-03-20T19:22:28.930030Z",
     "iopub.status.busy": "2022-03-20T19:22:28.929785Z",
     "iopub.status.idle": "2022-03-20T19:22:28.963551Z",
     "shell.execute_reply": "2022-03-20T19:22:28.963091Z"
    },
    "papermill": {
     "duration": 0.048671,
     "end_time": "2022-03-20T19:22:28.963643",
     "exception": false,
     "start_time": "2022-03-20T19:22:28.914972",
     "status": "completed"
    },
    "tags": []
   },
   "outputs": [],
   "source": [
    "###################################\n",
    "# Build the network(s)\n",
    "# Note: It's critical to do this AFTER setting the RNG\n",
    "###################################\n",
    "x_net = build_sequential(p.x_net)"
   ]
  },
  {
   "cell_type": "code",
   "execution_count": 9,
   "id": "5d7e61cc",
   "metadata": {
    "execution": {
     "iopub.execute_input": "2022-03-20T19:22:29.003842Z",
     "iopub.status.busy": "2022-03-20T19:22:28.996611Z",
     "iopub.status.idle": "2022-03-20T19:22:29.011936Z",
     "shell.execute_reply": "2022-03-20T19:22:29.011520Z"
    },
    "papermill": {
     "duration": 0.031118,
     "end_time": "2022-03-20T19:22:29.012028",
     "exception": false,
     "start_time": "2022-03-20T19:22:28.980910",
     "status": "completed"
    },
    "tags": []
   },
   "outputs": [],
   "source": [
    "start_time_secs = time.time()"
   ]
  },
  {
   "cell_type": "code",
   "execution_count": 10,
   "id": "c6b67dfd",
   "metadata": {
    "execution": {
     "iopub.execute_input": "2022-03-20T19:22:29.046893Z",
     "iopub.status.busy": "2022-03-20T19:22:29.046645Z",
     "iopub.status.idle": "2022-03-20T19:22:29.056971Z",
     "shell.execute_reply": "2022-03-20T19:22:29.056666Z"
    },
    "papermill": {
     "duration": 0.02591,
     "end_time": "2022-03-20T19:22:29.057040",
     "exception": false,
     "start_time": "2022-03-20T19:22:29.031130",
     "status": "completed"
    },
    "tags": []
   },
   "outputs": [],
   "source": [
    "p.domains_source = []\n",
    "p.domains_target = []\n",
    "\n",
    "\n",
    "train_original_source = []\n",
    "val_original_source   = []\n",
    "test_original_source  = []\n",
    "\n",
    "train_original_target = []\n",
    "val_original_target   = []\n",
    "test_original_target  = []"
   ]
  },
  {
   "cell_type": "code",
   "execution_count": 11,
   "id": "e3d9c3d3",
   "metadata": {
    "execution": {
     "iopub.execute_input": "2022-03-20T19:22:29.099456Z",
     "iopub.status.busy": "2022-03-20T19:22:29.099197Z",
     "iopub.status.idle": "2022-03-20T19:22:29.104356Z",
     "shell.execute_reply": "2022-03-20T19:22:29.104745Z"
    },
    "papermill": {
     "duration": 0.029726,
     "end_time": "2022-03-20T19:22:29.104854",
     "exception": false,
     "start_time": "2022-03-20T19:22:29.075128",
     "status": "completed"
    },
    "tags": []
   },
   "outputs": [],
   "source": [
    "# global_x_transform_func = lambda x: normalize(x.to(torch.get_default_dtype()), \"unit_power\") # unit_power, unit_mag\n",
    "# global_x_transform_func = lambda x: normalize(x, \"unit_power\") # unit_power, unit_mag"
   ]
  },
  {
   "cell_type": "code",
   "execution_count": 12,
   "id": "acb78fd2",
   "metadata": {
    "execution": {
     "iopub.execute_input": "2022-03-20T19:22:29.143003Z",
     "iopub.status.busy": "2022-03-20T19:22:29.142745Z",
     "iopub.status.idle": "2022-03-20T19:22:29.155270Z",
     "shell.execute_reply": "2022-03-20T19:22:29.154816Z"
    },
    "papermill": {
     "duration": 0.031602,
     "end_time": "2022-03-20T19:22:29.155363",
     "exception": false,
     "start_time": "2022-03-20T19:22:29.123761",
     "status": "completed"
    },
    "tags": []
   },
   "outputs": [],
   "source": [
    "def add_dataset(\n",
    "    labels,\n",
    "    domains,\n",
    "    pickle_path,\n",
    "    x_transforms,\n",
    "    episode_transforms,\n",
    "    domain_prefix,\n",
    "    num_examples_per_domain_per_label,\n",
    "    source_or_target_dataset:str,\n",
    "    iterator_seed=p.seed,\n",
    "    dataset_seed=p.dataset_seed,\n",
    "    n_shot=p.n_shot,\n",
    "    n_way=p.n_way,\n",
    "    n_query=p.n_query,\n",
    "    train_val_test_k_factors=(p.train_k_factor,p.val_k_factor,p.test_k_factor),\n",
    "):\n",
    "   \n",
    "    if x_transforms == []: x_transform = None\n",
    "    else: x_transform = get_chained_transform(x_transforms)\n",
    "    \n",
    "    if episode_transforms == []: episode_transform = None\n",
    "    else: raise Exception(\"episode_transforms not implemented\")\n",
    "    \n",
    "    episode_transform = lambda tup, _prefix=domain_prefix: (_prefix + str(tup[0]), tup[1])\n",
    "\n",
    "\n",
    "    eaf = Episodic_Accessor_Factory(\n",
    "        labels=labels,\n",
    "        domains=domains,\n",
    "        num_examples_per_domain_per_label=num_examples_per_domain_per_label,\n",
    "        iterator_seed=iterator_seed,\n",
    "        dataset_seed=dataset_seed,\n",
    "        n_shot=n_shot,\n",
    "        n_way=n_way,\n",
    "        n_query=n_query,\n",
    "        train_val_test_k_factors=train_val_test_k_factors,\n",
    "        pickle_path=pickle_path,\n",
    "        x_transform_func=x_transform,\n",
    "    )\n",
    "\n",
    "    train, val, test = eaf.get_train(), eaf.get_val(), eaf.get_test()\n",
    "    train = Lazy_Iterable_Wrapper(train, episode_transform)\n",
    "    val = Lazy_Iterable_Wrapper(val, episode_transform)\n",
    "    test = Lazy_Iterable_Wrapper(test, episode_transform)\n",
    "\n",
    "    if source_or_target_dataset==\"source\":\n",
    "        train_original_source.append(train)\n",
    "        val_original_source.append(val)\n",
    "        test_original_source.append(test)\n",
    "\n",
    "        p.domains_source.extend(\n",
    "            [domain_prefix + str(u) for u in domains]\n",
    "        )\n",
    "    elif source_or_target_dataset==\"target\":\n",
    "        train_original_target.append(train)\n",
    "        val_original_target.append(val)\n",
    "        test_original_target.append(test)\n",
    "        p.domains_target.extend(\n",
    "            [domain_prefix + str(u) for u in domains]\n",
    "        )\n",
    "    else:\n",
    "        raise Exception(f\"invalid source_or_target_dataset: {source_or_target_dataset}\")\n",
    "    "
   ]
  },
  {
   "cell_type": "code",
   "execution_count": 13,
   "id": "fe266617",
   "metadata": {
    "execution": {
     "iopub.execute_input": "2022-03-20T19:22:29.192364Z",
     "iopub.status.busy": "2022-03-20T19:22:29.189876Z",
     "iopub.status.idle": "2022-03-20T19:23:37.577335Z",
     "shell.execute_reply": "2022-03-20T19:23:37.576928Z"
    },
    "papermill": {
     "duration": 68.403042,
     "end_time": "2022-03-20T19:23:37.577439",
     "exception": false,
     "start_time": "2022-03-20T19:22:29.174397",
     "status": "completed"
    },
    "tags": []
   },
   "outputs": [],
   "source": [
    "for ds in p.datasets:\n",
    "    add_dataset(**ds)"
   ]
  },
  {
   "cell_type": "code",
   "execution_count": 14,
   "id": "b90d65ac",
   "metadata": {
    "execution": {
     "iopub.execute_input": "2022-03-20T19:23:37.616835Z",
     "iopub.status.busy": "2022-03-20T19:23:37.612357Z",
     "iopub.status.idle": "2022-03-20T19:23:37.625425Z",
     "shell.execute_reply": "2022-03-20T19:23:37.625859Z"
    },
    "papermill": {
     "duration": 0.029567,
     "end_time": "2022-03-20T19:23:37.625981",
     "exception": false,
     "start_time": "2022-03-20T19:23:37.596414",
     "status": "completed"
    },
    "tags": []
   },
   "outputs": [],
   "source": [
    "# from steves_utils.CORES.utils import (\n",
    "#     ALL_NODES,\n",
    "#     ALL_NODES_MINIMUM_1000_EXAMPLES,\n",
    "#     ALL_DAYS\n",
    "# )\n",
    "\n",
    "# add_dataset(\n",
    "#     labels=ALL_NODES,\n",
    "#     domains = ALL_DAYS,\n",
    "#     num_examples_per_domain_per_label=100,\n",
    "#     pickle_path=os.path.join(get_datasets_base_path(), \"cores.stratified_ds.2022A.pkl\"),\n",
    "#     source_or_target_dataset=\"target\",\n",
    "#     x_transform_func=global_x_transform_func,\n",
    "#     domain_modifier=lambda u: f\"cores_{u}\"\n",
    "# )"
   ]
  },
  {
   "cell_type": "code",
   "execution_count": 15,
   "id": "76db484d",
   "metadata": {
    "execution": {
     "iopub.execute_input": "2022-03-20T19:23:37.664990Z",
     "iopub.status.busy": "2022-03-20T19:23:37.658271Z",
     "iopub.status.idle": "2022-03-20T19:23:37.671863Z",
     "shell.execute_reply": "2022-03-20T19:23:37.671344Z"
    },
    "papermill": {
     "duration": 0.029135,
     "end_time": "2022-03-20T19:23:37.671967",
     "exception": false,
     "start_time": "2022-03-20T19:23:37.642832",
     "status": "completed"
    },
    "tags": []
   },
   "outputs": [],
   "source": [
    "# from steves_utils.ORACLE.utils_v2 import (\n",
    "#     ALL_DISTANCES_FEET,\n",
    "#     ALL_RUNS,\n",
    "#     ALL_SERIAL_NUMBERS,\n",
    "# )\n",
    "\n",
    "\n",
    "# add_dataset(\n",
    "#     labels=ALL_SERIAL_NUMBERS,\n",
    "#     domains = list(set(ALL_DISTANCES_FEET) - {2,62}),\n",
    "#     num_examples_per_domain_per_label=100,\n",
    "#     pickle_path=os.path.join(get_datasets_base_path(), \"oracle.Run2_framed_2000Examples_stratified_ds.2022A.pkl\"),\n",
    "#     source_or_target_dataset=\"source\",\n",
    "#     x_transform_func=global_x_transform_func,\n",
    "#     domain_modifier=lambda u: f\"oracle1_{u}\"\n",
    "# )\n"
   ]
  },
  {
   "cell_type": "code",
   "execution_count": 16,
   "id": "97dea9d2",
   "metadata": {
    "execution": {
     "iopub.execute_input": "2022-03-20T19:23:37.714249Z",
     "iopub.status.busy": "2022-03-20T19:23:37.710894Z",
     "iopub.status.idle": "2022-03-20T19:23:37.720230Z",
     "shell.execute_reply": "2022-03-20T19:23:37.719816Z"
    },
    "papermill": {
     "duration": 0.030207,
     "end_time": "2022-03-20T19:23:37.720324",
     "exception": false,
     "start_time": "2022-03-20T19:23:37.690117",
     "status": "completed"
    },
    "tags": []
   },
   "outputs": [],
   "source": [
    "# from steves_utils.ORACLE.utils_v2 import (\n",
    "#     ALL_DISTANCES_FEET,\n",
    "#     ALL_RUNS,\n",
    "#     ALL_SERIAL_NUMBERS,\n",
    "# )\n",
    "\n",
    "\n",
    "# add_dataset(\n",
    "#     labels=ALL_SERIAL_NUMBERS,\n",
    "#     domains = list(set(ALL_DISTANCES_FEET) - {2,62,56}),\n",
    "#     num_examples_per_domain_per_label=100,\n",
    "#     pickle_path=os.path.join(get_datasets_base_path(), \"oracle.Run2_framed_2000Examples_stratified_ds.2022A.pkl\"),\n",
    "#     source_or_target_dataset=\"source\",\n",
    "#     x_transform_func=global_x_transform_func,\n",
    "#     domain_modifier=lambda u: f\"oracle2_{u}\"\n",
    "# )"
   ]
  },
  {
   "cell_type": "code",
   "execution_count": 17,
   "id": "6f289866",
   "metadata": {
    "execution": {
     "iopub.execute_input": "2022-03-20T19:23:37.756505Z",
     "iopub.status.busy": "2022-03-20T19:23:37.756256Z",
     "iopub.status.idle": "2022-03-20T19:23:37.768420Z",
     "shell.execute_reply": "2022-03-20T19:23:37.768049Z"
    },
    "papermill": {
     "duration": 0.029267,
     "end_time": "2022-03-20T19:23:37.768495",
     "exception": false,
     "start_time": "2022-03-20T19:23:37.739228",
     "status": "completed"
    },
    "tags": []
   },
   "outputs": [],
   "source": [
    "# add_dataset(\n",
    "#     labels=list(range(19)),\n",
    "#     domains = [0,1,2],\n",
    "#     num_examples_per_domain_per_label=100,\n",
    "#     pickle_path=os.path.join(get_datasets_base_path(), \"metehan.stratified_ds.2022A.pkl\"),\n",
    "#     source_or_target_dataset=\"target\",\n",
    "#     x_transform_func=global_x_transform_func,\n",
    "#     domain_modifier=lambda u: f\"met_{u}\"\n",
    "# )"
   ]
  },
  {
   "cell_type": "code",
   "execution_count": 18,
   "id": "86a863c3",
   "metadata": {
    "execution": {
     "iopub.execute_input": "2022-03-20T19:23:37.811325Z",
     "iopub.status.busy": "2022-03-20T19:23:37.802505Z",
     "iopub.status.idle": "2022-03-20T19:23:37.816861Z",
     "shell.execute_reply": "2022-03-20T19:23:37.816446Z"
    },
    "papermill": {
     "duration": 0.03017,
     "end_time": "2022-03-20T19:23:37.816954",
     "exception": false,
     "start_time": "2022-03-20T19:23:37.786784",
     "status": "completed"
    },
    "tags": []
   },
   "outputs": [],
   "source": [
    "# # from steves_utils.wisig.utils import (\n",
    "# #     ALL_NODES_MINIMUM_100_EXAMPLES,\n",
    "# #     ALL_NODES_MINIMUM_500_EXAMPLES,\n",
    "# #     ALL_NODES_MINIMUM_1000_EXAMPLES,\n",
    "# #     ALL_DAYS\n",
    "# # )\n",
    "\n",
    "# import steves_utils.wisig.utils as wisig\n",
    "\n",
    "\n",
    "# add_dataset(\n",
    "#     labels=wisig.ALL_NODES_MINIMUM_100_EXAMPLES,\n",
    "#     domains = wisig.ALL_DAYS,\n",
    "#     num_examples_per_domain_per_label=100,\n",
    "#     pickle_path=os.path.join(get_datasets_base_path(), \"wisig.node3-19.stratified_ds.2022A.pkl\"),\n",
    "#     source_or_target_dataset=\"target\",\n",
    "#     x_transform_func=global_x_transform_func,\n",
    "#     domain_modifier=lambda u: f\"wisig_{u}\"\n",
    "# )"
   ]
  },
  {
   "cell_type": "code",
   "execution_count": 19,
   "id": "fd5442bc",
   "metadata": {
    "execution": {
     "iopub.execute_input": "2022-03-20T19:23:37.855389Z",
     "iopub.status.busy": "2022-03-20T19:23:37.855127Z",
     "iopub.status.idle": "2022-03-20T19:23:37.868696Z",
     "shell.execute_reply": "2022-03-20T19:23:37.868232Z"
    },
    "papermill": {
     "duration": 0.032994,
     "end_time": "2022-03-20T19:23:37.868785",
     "exception": false,
     "start_time": "2022-03-20T19:23:37.835791",
     "status": "completed"
    },
    "tags": []
   },
   "outputs": [],
   "source": [
    "###################################\n",
    "# Build the dataset\n",
    "###################################\n",
    "train_original_source = Iterable_Aggregator(train_original_source, p.seed)\n",
    "val_original_source = Iterable_Aggregator(val_original_source, p.seed)\n",
    "test_original_source = Iterable_Aggregator(test_original_source, p.seed)\n",
    "\n",
    "\n",
    "train_original_target = Iterable_Aggregator(train_original_target, p.seed)\n",
    "val_original_target = Iterable_Aggregator(val_original_target, p.seed)\n",
    "test_original_target = Iterable_Aggregator(test_original_target, p.seed)\n",
    "\n",
    "# For CNN We only use X and Y. And we only train on the source.\n",
    "# Properly form the data using a transform lambda and Lazy_Iterable_Wrapper. Finally wrap them in a dataloader\n",
    "\n",
    "transform_lambda = lambda ex: ex[1] # Original is (<domain>, <episode>) so we strip down to episode only\n",
    "\n",
    "train_processed_source = Lazy_Iterable_Wrapper(train_original_source, transform_lambda)\n",
    "val_processed_source   = Lazy_Iterable_Wrapper(val_original_source, transform_lambda)\n",
    "test_processed_source  = Lazy_Iterable_Wrapper(test_original_source, transform_lambda)\n",
    "\n",
    "train_processed_target = Lazy_Iterable_Wrapper(train_original_target, transform_lambda)\n",
    "val_processed_target   = Lazy_Iterable_Wrapper(val_original_target, transform_lambda)\n",
    "test_processed_target  = Lazy_Iterable_Wrapper(test_original_target, transform_lambda)\n",
    "\n",
    "datasets = EasyDict({\n",
    "    \"source\": {\n",
    "        \"original\": {\"train\":train_original_source, \"val\":val_original_source, \"test\":test_original_source},\n",
    "        \"processed\": {\"train\":train_processed_source, \"val\":val_processed_source, \"test\":test_processed_source}\n",
    "    },\n",
    "    \"target\": {\n",
    "        \"original\": {\"train\":train_original_target, \"val\":val_original_target, \"test\":test_original_target},\n",
    "        \"processed\": {\"train\":train_processed_target, \"val\":val_processed_target, \"test\":test_processed_target}\n",
    "    },\n",
    "})"
   ]
  },
  {
   "cell_type": "code",
   "execution_count": 20,
   "id": "5b3c01fc",
   "metadata": {
    "execution": {
     "iopub.execute_input": "2022-03-20T19:23:37.912241Z",
     "iopub.status.busy": "2022-03-20T19:23:37.904501Z",
     "iopub.status.idle": "2022-03-20T19:23:46.871479Z",
     "shell.execute_reply": "2022-03-20T19:23:46.871838Z"
    },
    "papermill": {
     "duration": 8.984224,
     "end_time": "2022-03-20T19:23:46.871948",
     "exception": false,
     "start_time": "2022-03-20T19:23:37.887724",
     "status": "completed"
    },
    "tags": []
   },
   "outputs": [
    {
     "name": "stdout",
     "output_type": "stream",
     "text": [
      "{'C_5', 'W_4', 'W_1', 'C_2', 'C_4', 'W_3', 'C_3', 'C_1', 'W_2'}\n"
     ]
    },
    {
     "name": "stdout",
     "output_type": "stream",
     "text": [
      "{'O_32', 'O_38', 'O_20', 'O_50', 'O_14', 'O_8', 'O_26', 'O_44'}\n"
     ]
    },
    {
     "name": "stdout",
     "output_type": "stream",
     "text": [
      "tensor([[[ 1.1916, -0.1838,  0.0660,  ..., -0.4647, -0.5021,  1.1044],\n",
      "         [ 0.5363,  0.7936,  0.2747,  ..., -0.0679, -1.2091, -1.7448]],\n",
      "\n",
      "        [[-0.3678,  0.4946,  0.1395,  ...,  0.0522, -0.5229, -1.9141],\n",
      "         [-1.3621, -0.2969,  0.0239,  ...,  0.6005,  1.4569,  0.0239]],\n",
      "\n",
      "        [[ 0.5491, -0.0457,  0.1213,  ..., -1.1227, -0.3921,  1.6149],\n",
      "         [ 0.7562,  0.1814, -0.0969,  ..., -0.3096, -1.9895, -0.4953]],\n",
      "\n",
      "        ...,\n",
      "\n",
      "        [[-0.5649,  0.6537,  1.0383,  ..., -0.7934,  0.1142, -1.2110],\n",
      "         [-0.6969, -1.0079,  0.4468,  ..., -0.2044, -0.8454,  0.6410]],\n",
      "\n",
      "        [[ 1.3308, -0.1133, -0.9392,  ...,  0.3826,  0.2311, -0.2715],\n",
      "         [ 0.6373,  1.3443,  0.1582,  ..., -1.0312,  0.3366, -1.2893]],\n",
      "\n",
      "        [[ 0.3104, -0.5980, -0.8278,  ...,  1.2592, -0.1384, -0.9877],\n",
      "         [ 0.1922,  0.9380, -0.6329,  ...,  0.8856,  0.8681, -0.3306]]])\n"
     ]
    }
   ],
   "source": [
    "from steves_utils.transforms import get_average_magnitude, get_average_power\n",
    "\n",
    "print(set([u for u,_ in val_original_source]))\n",
    "print(set([u for u,_ in val_original_target]))\n",
    "\n",
    "s_x, s_y, q_x, q_y, _ = next(iter(train_processed_source))\n",
    "print(s_x)\n",
    "\n",
    "# for ds in [\n",
    "#     train_processed_source,\n",
    "#     val_processed_source,\n",
    "#     test_processed_source,\n",
    "#     train_processed_target,\n",
    "#     val_processed_target,\n",
    "#     test_processed_target\n",
    "# ]:\n",
    "#     for s_x, s_y, q_x, q_y, _ in ds:\n",
    "#         for X in (s_x, q_x):\n",
    "#             for x in X:\n",
    "#                 assert np.isclose(get_average_magnitude(x.numpy()), 1.0)\n",
    "#                 assert np.isclose(get_average_power(x.numpy()), 1.0)\n",
    "                "
   ]
  },
  {
   "cell_type": "code",
   "execution_count": 21,
   "id": "bbdacba1",
   "metadata": {
    "execution": {
     "iopub.execute_input": "2022-03-20T19:23:46.912911Z",
     "iopub.status.busy": "2022-03-20T19:23:46.908912Z",
     "iopub.status.idle": "2022-03-20T19:23:46.960162Z",
     "shell.execute_reply": "2022-03-20T19:23:46.959704Z"
    },
    "papermill": {
     "duration": 0.070601,
     "end_time": "2022-03-20T19:23:46.960257",
     "exception": false,
     "start_time": "2022-03-20T19:23:46.889656",
     "status": "completed"
    },
    "tags": []
   },
   "outputs": [
    {
     "name": "stdout",
     "output_type": "stream",
     "text": [
      "(2, 200)\n"
     ]
    }
   ],
   "source": [
    "###################################\n",
    "# Build the model\n",
    "###################################\n",
    "# easfsl only wants a tuple for the shape\n",
    "model = Steves_Prototypical_Network(x_net, device=p.device, x_shape=tuple(p.x_shape))\n",
    "optimizer = Adam(params=model.parameters(), lr=p.lr)"
   ]
  },
  {
   "cell_type": "code",
   "execution_count": 22,
   "id": "22b39ac5",
   "metadata": {
    "execution": {
     "iopub.execute_input": "2022-03-20T19:23:47.001651Z",
     "iopub.status.busy": "2022-03-20T19:23:46.997446Z",
     "iopub.status.idle": "2022-03-20T20:00:36.036380Z",
     "shell.execute_reply": "2022-03-20T20:00:36.035942Z"
    },
    "papermill": {
     "duration": 2209.05762,
     "end_time": "2022-03-20T20:00:36.036489",
     "exception": false,
     "start_time": "2022-03-20T19:23:46.978869",
     "status": "completed"
    },
    "tags": []
   },
   "outputs": [
    {
     "name": "stdout",
     "output_type": "stream",
     "text": [
      "epoch: 1, [batch: 1 / 13148], examples_per_second: 23.3965, train_label_loss: 2.5971, \n"
     ]
    },
    {
     "name": "stdout",
     "output_type": "stream",
     "text": [
      "epoch: 1, [batch: 1315 / 13148], examples_per_second: 3708.7429, train_label_loss: 0.1865, \n"
     ]
    },
    {
     "name": "stdout",
     "output_type": "stream",
     "text": [
      "epoch: 1, [batch: 2630 / 13148], examples_per_second: 3720.7384, train_label_loss: 0.0046, \n"
     ]
    },
    {
     "name": "stdout",
     "output_type": "stream",
     "text": [
      "epoch: 1, [batch: 3945 / 13148], examples_per_second: 3727.5964, train_label_loss: 0.0022, \n"
     ]
    },
    {
     "name": "stdout",
     "output_type": "stream",
     "text": [
      "epoch: 1, [batch: 5259 / 13148], examples_per_second: 3704.9108, train_label_loss: 0.1736, \n"
     ]
    },
    {
     "name": "stdout",
     "output_type": "stream",
     "text": [
      "epoch: 1, [batch: 6574 / 13148], examples_per_second: 3729.3724, train_label_loss: 0.3480, \n"
     ]
    },
    {
     "name": "stdout",
     "output_type": "stream",
     "text": [
      "epoch: 1, [batch: 7889 / 13148], examples_per_second: 3726.2152, train_label_loss: 0.0034, \n"
     ]
    },
    {
     "name": "stdout",
     "output_type": "stream",
     "text": [
      "epoch: 1, [batch: 9203 / 13148], examples_per_second: 3712.8100, train_label_loss: 0.0021, \n"
     ]
    },
    {
     "name": "stdout",
     "output_type": "stream",
     "text": [
      "epoch: 1, [batch: 10518 / 13148], examples_per_second: 3717.1636, train_label_loss: 0.0173, \n"
     ]
    },
    {
     "name": "stdout",
     "output_type": "stream",
     "text": [
      "epoch: 1, [batch: 11833 / 13148], examples_per_second: 3721.9875, train_label_loss: 0.0132, \n"
     ]
    },
    {
     "name": "stdout",
     "output_type": "stream",
     "text": [
      "=============================================================\n",
      "epoch: 1, source_val_acc_label: 0.9757, target_val_acc_label: 0.2027, source_val_label_loss: 0.1110, target_val_label_loss: 2.4267, \n",
      "=============================================================\n"
     ]
    },
    {
     "name": "stdout",
     "output_type": "stream",
     "text": [
      "New best\n"
     ]
    },
    {
     "name": "stdout",
     "output_type": "stream",
     "text": [
      "epoch: 2, [batch: 1 / 13145], examples_per_second: 2.9619, train_label_loss: 0.0508, \n"
     ]
    },
    {
     "name": "stdout",
     "output_type": "stream",
     "text": [
      "epoch: 2, [batch: 1315 / 13145], examples_per_second: 3693.1124, train_label_loss: 0.0006, \n"
     ]
    },
    {
     "name": "stdout",
     "output_type": "stream",
     "text": [
      "epoch: 2, [batch: 2629 / 13145], examples_per_second: 3710.9703, train_label_loss: 0.0007, \n"
     ]
    },
    {
     "name": "stdout",
     "output_type": "stream",
     "text": [
      "epoch: 2, [batch: 3944 / 13145], examples_per_second: 3732.8786, train_label_loss: 0.0102, \n"
     ]
    },
    {
     "name": "stdout",
     "output_type": "stream",
     "text": [
      "epoch: 2, [batch: 5258 / 13145], examples_per_second: 3713.5798, train_label_loss: 0.0523, \n"
     ]
    },
    {
     "name": "stdout",
     "output_type": "stream",
     "text": [
      "epoch: 2, [batch: 6573 / 13145], examples_per_second: 3727.6146, train_label_loss: 0.0086, \n"
     ]
    },
    {
     "name": "stdout",
     "output_type": "stream",
     "text": [
      "epoch: 2, [batch: 7887 / 13145], examples_per_second: 3721.6962, train_label_loss: 0.2005, \n"
     ]
    },
    {
     "name": "stdout",
     "output_type": "stream",
     "text": [
      "epoch: 2, [batch: 9201 / 13145], examples_per_second: 3682.0091, train_label_loss: 0.0014, \n"
     ]
    },
    {
     "name": "stdout",
     "output_type": "stream",
     "text": [
      "epoch: 2, [batch: 10516 / 13145], examples_per_second: 3695.2570, train_label_loss: 0.0015, \n"
     ]
    },
    {
     "name": "stdout",
     "output_type": "stream",
     "text": [
      "epoch: 2, [batch: 11830 / 13145], examples_per_second: 3701.4780, train_label_loss: 0.0020, \n"
     ]
    },
    {
     "name": "stdout",
     "output_type": "stream",
     "text": [
      "=============================================================\n",
      "epoch: 2, source_val_acc_label: 0.9827, target_val_acc_label: 0.2261, source_val_label_loss: 0.0735, target_val_label_loss: 2.3369, \n",
      "=============================================================\n"
     ]
    },
    {
     "name": "stdout",
     "output_type": "stream",
     "text": [
      "New best\n"
     ]
    },
    {
     "name": "stdout",
     "output_type": "stream",
     "text": [
      "epoch: 3, [batch: 1 / 13153], examples_per_second: 2.9524, train_label_loss: 0.0008, \n"
     ]
    },
    {
     "name": "stdout",
     "output_type": "stream",
     "text": [
      "epoch: 3, [batch: 1316 / 13153], examples_per_second: 3650.8720, train_label_loss: 0.0546, \n"
     ]
    },
    {
     "name": "stdout",
     "output_type": "stream",
     "text": [
      "epoch: 3, [batch: 2631 / 13153], examples_per_second: 3582.9191, train_label_loss: 0.0017, \n"
     ]
    },
    {
     "name": "stdout",
     "output_type": "stream",
     "text": [
      "epoch: 3, [batch: 3946 / 13153], examples_per_second: 3502.9303, train_label_loss: 0.0014, \n"
     ]
    },
    {
     "name": "stdout",
     "output_type": "stream",
     "text": [
      "epoch: 3, [batch: 5261 / 13153], examples_per_second: 3612.4022, train_label_loss: 0.0005, \n"
     ]
    },
    {
     "name": "stdout",
     "output_type": "stream",
     "text": [
      "epoch: 3, [batch: 6577 / 13153], examples_per_second: 3621.0558, train_label_loss: 0.0007, \n"
     ]
    },
    {
     "name": "stdout",
     "output_type": "stream",
     "text": [
      "epoch: 3, [batch: 7892 / 13153], examples_per_second: 3666.2562, train_label_loss: 0.0005, \n"
     ]
    },
    {
     "name": "stdout",
     "output_type": "stream",
     "text": [
      "epoch: 3, [batch: 9207 / 13153], examples_per_second: 3670.5383, train_label_loss: 0.0001, \n"
     ]
    },
    {
     "name": "stdout",
     "output_type": "stream",
     "text": [
      "epoch: 3, [batch: 10522 / 13153], examples_per_second: 3689.1955, train_label_loss: 0.0009, \n"
     ]
    },
    {
     "name": "stdout",
     "output_type": "stream",
     "text": [
      "epoch: 3, [batch: 11837 / 13153], examples_per_second: 3698.0173, train_label_loss: 0.1549, \n"
     ]
    },
    {
     "name": "stdout",
     "output_type": "stream",
     "text": [
      "=============================================================\n",
      "epoch: 3, source_val_acc_label: 0.9846, target_val_acc_label: 0.2321, source_val_label_loss: 0.0667, target_val_label_loss: 2.3539, \n",
      "=============================================================\n"
     ]
    },
    {
     "name": "stdout",
     "output_type": "stream",
     "text": [
      "New best\n"
     ]
    },
    {
     "name": "stdout",
     "output_type": "stream",
     "text": [
      "epoch: 4, [batch: 1 / 13157], examples_per_second: 2.8944, train_label_loss: 0.0016, \n"
     ]
    },
    {
     "name": "stdout",
     "output_type": "stream",
     "text": [
      "epoch: 4, [batch: 1316 / 13157], examples_per_second: 3615.0657, train_label_loss: 0.0011, \n"
     ]
    },
    {
     "name": "stdout",
     "output_type": "stream",
     "text": [
      "epoch: 4, [batch: 2632 / 13157], examples_per_second: 3492.1667, train_label_loss: 0.0003, \n"
     ]
    },
    {
     "name": "stdout",
     "output_type": "stream",
     "text": [
      "epoch: 4, [batch: 3947 / 13157], examples_per_second: 3608.0539, train_label_loss: 0.0024, \n"
     ]
    },
    {
     "name": "stdout",
     "output_type": "stream",
     "text": [
      "epoch: 4, [batch: 5263 / 13157], examples_per_second: 3661.1856, train_label_loss: 0.0000, \n"
     ]
    },
    {
     "name": "stdout",
     "output_type": "stream",
     "text": [
      "epoch: 4, [batch: 6579 / 13157], examples_per_second: 3687.9129, train_label_loss: 0.0798, \n"
     ]
    },
    {
     "name": "stdout",
     "output_type": "stream",
     "text": [
      "epoch: 4, [batch: 7894 / 13157], examples_per_second: 3548.9523, train_label_loss: 0.1027, \n"
     ]
    },
    {
     "name": "stdout",
     "output_type": "stream",
     "text": [
      "epoch: 4, [batch: 9210 / 13157], examples_per_second: 3556.7728, train_label_loss: 0.1033, \n"
     ]
    },
    {
     "name": "stdout",
     "output_type": "stream",
     "text": [
      "epoch: 4, [batch: 10525 / 13157], examples_per_second: 3627.9320, train_label_loss: 0.0001, \n"
     ]
    },
    {
     "name": "stdout",
     "output_type": "stream",
     "text": [
      "epoch: 4, [batch: 11841 / 13157], examples_per_second: 3595.6544, train_label_loss: 0.0000, \n"
     ]
    },
    {
     "name": "stdout",
     "output_type": "stream",
     "text": [
      "=============================================================\n",
      "epoch: 4, source_val_acc_label: 0.9850, target_val_acc_label: 0.2221, source_val_label_loss: 0.0648, target_val_label_loss: 2.4077, \n",
      "=============================================================\n"
     ]
    },
    {
     "name": "stdout",
     "output_type": "stream",
     "text": [
      "epoch: 5, [batch: 1 / 13184], examples_per_second: 2.8004, train_label_loss: 0.0000, \n"
     ]
    },
    {
     "name": "stdout",
     "output_type": "stream",
     "text": [
      "epoch: 5, [batch: 1319 / 13184], examples_per_second: 3566.3901, train_label_loss: 0.1563, \n"
     ]
    },
    {
     "name": "stdout",
     "output_type": "stream",
     "text": [
      "epoch: 5, [batch: 2637 / 13184], examples_per_second: 3602.4625, train_label_loss: 0.0002, \n"
     ]
    },
    {
     "name": "stdout",
     "output_type": "stream",
     "text": [
      "epoch: 5, [batch: 3955 / 13184], examples_per_second: 3550.2605, train_label_loss: 0.0005, \n"
     ]
    },
    {
     "name": "stdout",
     "output_type": "stream",
     "text": [
      "epoch: 5, [batch: 5274 / 13184], examples_per_second: 3549.6239, train_label_loss: 0.0044, \n"
     ]
    },
    {
     "name": "stdout",
     "output_type": "stream",
     "text": [
      "epoch: 5, [batch: 6592 / 13184], examples_per_second: 3616.4334, train_label_loss: 0.3498, \n"
     ]
    },
    {
     "name": "stdout",
     "output_type": "stream",
     "text": [
      "epoch: 5, [batch: 7910 / 13184], examples_per_second: 3625.0047, train_label_loss: 0.0931, \n"
     ]
    },
    {
     "name": "stdout",
     "output_type": "stream",
     "text": [
      "epoch: 5, [batch: 9229 / 13184], examples_per_second: 3605.8176, train_label_loss: 0.0008, \n"
     ]
    },
    {
     "name": "stdout",
     "output_type": "stream",
     "text": [
      "epoch: 5, [batch: 10547 / 13184], examples_per_second: 3633.1492, train_label_loss: 0.0001, \n"
     ]
    },
    {
     "name": "stdout",
     "output_type": "stream",
     "text": [
      "epoch: 5, [batch: 11865 / 13184], examples_per_second: 3640.4096, train_label_loss: 0.0001, \n"
     ]
    },
    {
     "name": "stdout",
     "output_type": "stream",
     "text": [
      "=============================================================\n",
      "epoch: 5, source_val_acc_label: 0.9857, target_val_acc_label: 0.2207, source_val_label_loss: 0.0646, target_val_label_loss: 2.3958, \n",
      "=============================================================\n"
     ]
    },
    {
     "name": "stdout",
     "output_type": "stream",
     "text": [
      "epoch: 6, [batch: 1 / 13166], examples_per_second: 2.8758, train_label_loss: 0.0016, \n"
     ]
    },
    {
     "name": "stdout",
     "output_type": "stream",
     "text": [
      "epoch: 6, [batch: 1317 / 13166], examples_per_second: 3608.9427, train_label_loss: 0.0005, \n"
     ]
    },
    {
     "name": "stdout",
     "output_type": "stream",
     "text": [
      "epoch: 6, [batch: 2634 / 13166], examples_per_second: 3586.6742, train_label_loss: 0.0003, \n"
     ]
    },
    {
     "name": "stdout",
     "output_type": "stream",
     "text": [
      "epoch: 6, [batch: 3950 / 13166], examples_per_second: 3620.5322, train_label_loss: 0.1285, \n"
     ]
    },
    {
     "name": "stdout",
     "output_type": "stream",
     "text": [
      "epoch: 6, [batch: 5267 / 13166], examples_per_second: 3610.4967, train_label_loss: 0.0001, \n"
     ]
    },
    {
     "name": "stdout",
     "output_type": "stream",
     "text": [
      "epoch: 6, [batch: 6583 / 13166], examples_per_second: 3623.2180, train_label_loss: 0.0610, \n"
     ]
    },
    {
     "name": "stdout",
     "output_type": "stream",
     "text": [
      "epoch: 6, [batch: 7900 / 13166], examples_per_second: 3636.8468, train_label_loss: 0.0764, \n"
     ]
    },
    {
     "name": "stdout",
     "output_type": "stream",
     "text": [
      "epoch: 6, [batch: 9216 / 13166], examples_per_second: 3531.2098, train_label_loss: 0.0498, \n"
     ]
    },
    {
     "name": "stdout",
     "output_type": "stream",
     "text": [
      "epoch: 6, [batch: 10533 / 13166], examples_per_second: 3543.3091, train_label_loss: 0.0992, \n"
     ]
    },
    {
     "name": "stdout",
     "output_type": "stream",
     "text": [
      "epoch: 6, [batch: 11849 / 13166], examples_per_second: 3651.0063, train_label_loss: 0.0001, \n"
     ]
    },
    {
     "name": "stdout",
     "output_type": "stream",
     "text": [
      "=============================================================\n",
      "epoch: 6, source_val_acc_label: 0.9858, target_val_acc_label: 0.2299, source_val_label_loss: 0.0634, target_val_label_loss: 2.4183, \n",
      "=============================================================\n"
     ]
    },
    {
     "name": "stdout",
     "output_type": "stream",
     "text": [
      "epoch: 7, [batch: 1 / 13163], examples_per_second: 2.8839, train_label_loss: 0.0024, \n"
     ]
    },
    {
     "name": "stdout",
     "output_type": "stream",
     "text": [
      "epoch: 7, [batch: 1317 / 13163], examples_per_second: 3609.5322, train_label_loss: 0.0002, \n"
     ]
    },
    {
     "name": "stdout",
     "output_type": "stream",
     "text": [
      "epoch: 7, [batch: 2633 / 13163], examples_per_second: 3608.1429, train_label_loss: 0.0002, \n"
     ]
    },
    {
     "name": "stdout",
     "output_type": "stream",
     "text": [
      "epoch: 7, [batch: 3949 / 13163], examples_per_second: 3626.5494, train_label_loss: 0.0001, \n"
     ]
    },
    {
     "name": "stdout",
     "output_type": "stream",
     "text": [
      "epoch: 7, [batch: 5265 / 13163], examples_per_second: 3632.1797, train_label_loss: 0.2147, \n"
     ]
    },
    {
     "name": "stdout",
     "output_type": "stream",
     "text": [
      "epoch: 7, [batch: 6582 / 13163], examples_per_second: 3635.4865, train_label_loss: 0.0000, \n"
     ]
    },
    {
     "name": "stdout",
     "output_type": "stream",
     "text": [
      "epoch: 7, [batch: 7898 / 13163], examples_per_second: 3642.8028, train_label_loss: 0.0000, \n"
     ]
    },
    {
     "name": "stdout",
     "output_type": "stream",
     "text": [
      "epoch: 7, [batch: 9214 / 13163], examples_per_second: 3637.7311, train_label_loss: 0.0064, \n"
     ]
    },
    {
     "name": "stdout",
     "output_type": "stream",
     "text": [
      "epoch: 7, [batch: 10530 / 13163], examples_per_second: 3644.5325, train_label_loss: 0.1097, \n"
     ]
    },
    {
     "name": "stdout",
     "output_type": "stream",
     "text": [
      "epoch: 7, [batch: 11846 / 13163], examples_per_second: 3659.9662, train_label_loss: 0.0007, \n"
     ]
    },
    {
     "name": "stdout",
     "output_type": "stream",
     "text": [
      "=============================================================\n",
      "epoch: 7, source_val_acc_label: 0.9863, target_val_acc_label: 0.1998, source_val_label_loss: 0.0657, target_val_label_loss: 2.7737, \n",
      "=============================================================\n"
     ]
    },
    {
     "name": "stdout",
     "output_type": "stream",
     "text": [
      "Patience (3) exhausted\n"
     ]
    }
   ],
   "source": [
    "###################################\n",
    "# train\n",
    "###################################\n",
    "jig = PTN_Train_Eval_Test_Jig(model, p.BEST_MODEL_PATH, p.device)\n",
    "\n",
    "jig.train(\n",
    "    train_iterable=datasets.source.processed.train,\n",
    "    source_val_iterable=datasets.source.processed.val,\n",
    "    target_val_iterable=datasets.target.processed.val,\n",
    "    num_epochs=p.n_epoch,\n",
    "    num_logs_per_epoch=p.NUM_LOGS_PER_EPOCH,\n",
    "    patience=p.patience,\n",
    "    optimizer=optimizer,\n",
    "    criteria_for_best=p.criteria_for_best,\n",
    ")"
   ]
  },
  {
   "cell_type": "code",
   "execution_count": 23,
   "id": "31e8fabf",
   "metadata": {
    "execution": {
     "iopub.execute_input": "2022-03-20T20:00:36.103436Z",
     "iopub.status.busy": "2022-03-20T20:00:36.103074Z",
     "iopub.status.idle": "2022-03-20T20:00:36.122950Z",
     "shell.execute_reply": "2022-03-20T20:00:36.122456Z"
    },
    "papermill": {
     "duration": 0.052317,
     "end_time": "2022-03-20T20:00:36.123060",
     "exception": false,
     "start_time": "2022-03-20T20:00:36.070743",
     "status": "completed"
    },
    "tags": []
   },
   "outputs": [],
   "source": [
    "total_experiment_time_secs = time.time() - start_time_secs"
   ]
  },
  {
   "cell_type": "code",
   "execution_count": 24,
   "id": "87b9595b",
   "metadata": {
    "execution": {
     "iopub.execute_input": "2022-03-20T20:00:36.192696Z",
     "iopub.status.busy": "2022-03-20T20:00:36.192355Z",
     "iopub.status.idle": "2022-03-20T20:03:00.561633Z",
     "shell.execute_reply": "2022-03-20T20:03:00.561283Z"
    },
    "papermill": {
     "duration": 144.404584,
     "end_time": "2022-03-20T20:03:00.561725",
     "exception": false,
     "start_time": "2022-03-20T20:00:36.157141",
     "status": "completed"
    },
    "tags": []
   },
   "outputs": [],
   "source": [
    "###################################\n",
    "# Evaluate the model\n",
    "###################################\n",
    "source_test_label_accuracy, source_test_label_loss = jig.test(datasets.source.processed.test)\n",
    "target_test_label_accuracy, target_test_label_loss = jig.test(datasets.target.processed.test)\n",
    "\n",
    "source_val_label_accuracy, source_val_label_loss = jig.test(datasets.source.processed.val)\n",
    "target_val_label_accuracy, target_val_label_loss = jig.test(datasets.target.processed.val)\n",
    "\n",
    "history = jig.get_history()\n",
    "\n",
    "total_epochs_trained = len(history[\"epoch_indices\"])\n",
    "\n",
    "val_dl = Iterable_Aggregator((datasets.source.original.val,datasets.target.original.val))\n",
    "\n",
    "confusion = ptn_confusion_by_domain_over_dataloader(model, p.device, val_dl)\n",
    "per_domain_accuracy = per_domain_accuracy_from_confusion(confusion)\n",
    "\n",
    "# Add a key to per_domain_accuracy for if it was a source domain\n",
    "for domain, accuracy in per_domain_accuracy.items():\n",
    "    per_domain_accuracy[domain] = {\n",
    "        \"accuracy\": accuracy,\n",
    "        \"source?\": domain in p.domains_source\n",
    "    }\n",
    "\n",
    "# Do an independent accuracy assesment JUST TO BE SURE!\n",
    "# _source_test_label_accuracy = independent_accuracy_assesment(model, datasets.source.processed.test, p.device)\n",
    "# _target_test_label_accuracy = independent_accuracy_assesment(model, datasets.target.processed.test, p.device)\n",
    "# _source_val_label_accuracy = independent_accuracy_assesment(model, datasets.source.processed.val, p.device)\n",
    "# _target_val_label_accuracy = independent_accuracy_assesment(model, datasets.target.processed.val, p.device)\n",
    "\n",
    "# assert(_source_test_label_accuracy == source_test_label_accuracy)\n",
    "# assert(_target_test_label_accuracy == target_test_label_accuracy)\n",
    "# assert(_source_val_label_accuracy == source_val_label_accuracy)\n",
    "# assert(_target_val_label_accuracy == target_val_label_accuracy)\n",
    "\n",
    "experiment = {\n",
    "    \"experiment_name\": p.experiment_name,\n",
    "    \"parameters\": dict(p),\n",
    "    \"results\": {\n",
    "        \"source_test_label_accuracy\": source_test_label_accuracy,\n",
    "        \"source_test_label_loss\": source_test_label_loss,\n",
    "        \"target_test_label_accuracy\": target_test_label_accuracy,\n",
    "        \"target_test_label_loss\": target_test_label_loss,\n",
    "        \"source_val_label_accuracy\": source_val_label_accuracy,\n",
    "        \"source_val_label_loss\": source_val_label_loss,\n",
    "        \"target_val_label_accuracy\": target_val_label_accuracy,\n",
    "        \"target_val_label_loss\": target_val_label_loss,\n",
    "        \"total_epochs_trained\": total_epochs_trained,\n",
    "        \"total_experiment_time_secs\": total_experiment_time_secs,\n",
    "        \"confusion\": confusion,\n",
    "        \"per_domain_accuracy\": per_domain_accuracy,\n",
    "    },\n",
    "    \"history\": history,\n",
    "    \"dataset_metrics\": get_dataset_metrics(datasets, \"ptn\"),\n",
    "}"
   ]
  },
  {
   "cell_type": "code",
   "execution_count": 25,
   "id": "54a21829",
   "metadata": {
    "execution": {
     "iopub.execute_input": "2022-03-20T20:03:00.627711Z",
     "iopub.status.busy": "2022-03-20T20:03:00.627291Z",
     "iopub.status.idle": "2022-03-20T20:03:00.760110Z",
     "shell.execute_reply": "2022-03-20T20:03:00.759867Z"
    },
    "papermill": {
     "duration": 0.164715,
     "end_time": "2022-03-20T20:03:00.760173",
     "exception": false,
     "start_time": "2022-03-20T20:03:00.595458",
     "status": "completed"
    },
    "tags": []
   },
   "outputs": [
    {
     "data": {
      "image/png": "[encoded data removed]",
      "text/plain": [
       "<Figure size 1080x504 with 1 Axes>"
      ]
     },
     "metadata": {
      "needs_background": "light"
     },
     "output_type": "display_data"
    }
   ],
   "source": [
    "ax = get_loss_curve(experiment)\n",
    "plt.show()"
   ]
  },
  {
   "cell_type": "code",
   "execution_count": 26,
   "id": "fd8a0f60",
   "metadata": {
    "execution": {
     "iopub.execute_input": "2022-03-20T20:03:00.824785Z",
     "iopub.status.busy": "2022-03-20T20:03:00.823633Z",
     "iopub.status.idle": "2022-03-20T20:03:00.970575Z",
     "shell.execute_reply": "2022-03-20T20:03:00.970997Z"
    },
    "papermill": {
     "duration": 0.179528,
     "end_time": "2022-03-20T20:03:00.971132",
     "exception": false,
     "start_time": "2022-03-20T20:03:00.791604",
     "status": "completed"
    },
    "tags": []
   },
   "outputs": [
    {
     "data": {
      "text/plain": [
       "<AxesSubplot:title={'center':'Results'}>"
      ]
     },
     "execution_count": 26,
     "metadata": {},
     "output_type": "execute_result"
    },
    {
     "data": {
      "image/png": "[encoded data removed]",
      "text/plain": [
       "<Figure size 1080x504 with 1 Axes>"
      ]
     },
     "metadata": {
      "needs_background": "light"
     },
     "output_type": "display_data"
    }
   ],
   "source": [
    "get_results_table(experiment)"
   ]
  },
  {
   "cell_type": "code",
   "execution_count": 27,
   "id": "cf8dc689",
   "metadata": {
    "execution": {
     "iopub.execute_input": "2022-03-20T20:03:01.041626Z",
     "iopub.status.busy": "2022-03-20T20:03:01.041361Z",
     "iopub.status.idle": "2022-03-20T20:03:01.205455Z",
     "shell.execute_reply": "2022-03-20T20:03:01.205868Z"
    },
    "papermill": {
     "duration": 0.198838,
     "end_time": "2022-03-20T20:03:01.206000",
     "exception": false,
     "start_time": "2022-03-20T20:03:01.007162",
     "status": "completed"
    },
    "tags": []
   },
   "outputs": [
    {
     "data": {
      "text/plain": [
       "<AxesSubplot:title={'center':'Per Domain Validation Accuracy'}, xlabel='domain'>"
      ]
     },
     "execution_count": 27,
     "metadata": {},
     "output_type": "execute_result"
    },
    {
     "data": {
      "image/png": "[encoded data removed]",
      "text/plain": [
       "<Figure size 1080x504 with 1 Axes>"
      ]
     },
     "metadata": {
      "needs_background": "light"
     },
     "output_type": "display_data"
    }
   ],
   "source": [
    "get_domain_accuracies(experiment)"
   ]
  },
  {
   "cell_type": "code",
   "execution_count": 28,
   "id": "a74ae082",
   "metadata": {
    "execution": {
     "iopub.execute_input": "2022-03-20T20:03:01.277539Z",
     "iopub.status.busy": "2022-03-20T20:03:01.277032Z",
     "iopub.status.idle": "2022-03-20T20:03:01.292959Z",
     "shell.execute_reply": "2022-03-20T20:03:01.293353Z"
    },
    "papermill": {
     "duration": 0.051806,
     "end_time": "2022-03-20T20:03:01.293479",
     "exception": false,
     "start_time": "2022-03-20T20:03:01.241673",
     "status": "completed"
    },
    "tags": []
   },
   "outputs": [
    {
     "name": "stdout",
     "output_type": "stream",
     "text": [
      "Source Test Label Accuracy: 0.9841309908454496 Target Test Label Accuracy: 0.22750651041666667\n",
      "Source Val Label Accuracy: 0.9845892759188152 Target Val Label Accuracy: 0.23206380208333333\n"
     ]
    }
   ],
   "source": [
    "print(\"Source Test Label Accuracy:\", experiment[\"results\"][\"source_test_label_accuracy\"], \"Target Test Label Accuracy:\", experiment[\"results\"][\"target_test_label_accuracy\"])\n",
    "print(\"Source Val Label Accuracy:\", experiment[\"results\"][\"source_val_label_accuracy\"], \"Target Val Label Accuracy:\", experiment[\"results\"][\"target_val_label_accuracy\"])"
   ]
  },
  {
   "cell_type": "code",
   "execution_count": 29,
   "id": "dacca602",
   "metadata": {
    "execution": {
     "iopub.execute_input": "2022-03-20T20:03:01.367077Z",
     "iopub.status.busy": "2022-03-20T20:03:01.366816Z",
     "iopub.status.idle": "2022-03-20T20:03:01.385726Z",
     "shell.execute_reply": "2022-03-20T20:03:01.386128Z"
    },
    "papermill": {
     "duration": 0.054727,
     "end_time": "2022-03-20T20:03:01.386258",
     "exception": false,
     "start_time": "2022-03-20T20:03:01.331531",
     "status": "completed"
    },
    "tags": [
     "experiment_json"
    ]
   },
   "outputs": [
    {
     "data": {
      "text/plain": [
       "'{\"experiment_name\": \"tl_3Av2:cores+wisig -> oracle.run1.framed\", \"parameters\": {\"experiment_name\": \"tl_3Av2:cores+wisig -> oracle.run1.framed\", \"device\": \"cuda\", \"lr\": 0.0001, \"x_shape\": [2, 200], \"n_shot\": 3, \"n_query\": 2, \"train_k_factor\": 3, \"val_k_factor\": 2, \"test_k_factor\": 2, \"torch_default_dtype\": \"torch.float32\", \"n_epoch\": 50, \"patience\": 3, \"criteria_for_best\": \"target_accuracy\", \"x_net\": [{\"class\": \"nnReshape\", \"kargs\": {\"shape\": [-1, 1, 2, 200]}}, {\"class\": \"Conv2d\", \"kargs\": {\"in_channels\": 1, \"out_channels\": 256, \"kernel_size\": [1, 7], \"bias\": false, \"padding\": [0, 3]}}, {\"class\": \"ReLU\", \"kargs\": {\"inplace\": true}}, {\"class\": \"BatchNorm2d\", \"kargs\": {\"num_features\": 256}}, {\"class\": \"Conv2d\", \"kargs\": {\"in_channels\": 256, \"out_channels\": 80, \"kernel_size\": [2, 7], \"bias\": true, \"padding\": [0, 3]}}, {\"class\": \"ReLU\", \"kargs\": {\"inplace\": true}}, {\"class\": \"BatchNorm2d\", \"kargs\": {\"num_features\": 80}}, {\"class\": \"Flatten\", \"kargs\": {}}, {\"class\": \"Linear\", \"kargs\": {\"in_features\": 16000, \"out_features\": 256}}, {\"class\": \"ReLU\", \"kargs\": {\"inplace\": true}}, {\"class\": \"BatchNorm1d\", \"kargs\": {\"num_features\": 256}}, {\"class\": \"Linear\", \"kargs\": {\"in_features\": 256, \"out_features\": 256}}], \"NUM_LOGS_PER_EPOCH\": 10, \"BEST_MODEL_PATH\": \"./best_model.pth\", \"n_way\": 16, \"datasets\": [{\"labels\": [\"1-10.\", \"1-11.\", \"1-15.\", \"1-16.\", \"1-17.\", \"1-18.\", \"1-19.\", \"10-4.\", \"10-7.\", \"11-1.\", \"11-14.\", \"11-17.\", \"11-20.\", \"11-7.\", \"13-20.\", \"13-8.\", \"14-10.\", \"14-11.\", \"14-14.\", \"14-7.\", \"15-1.\", \"15-20.\", \"16-1.\", \"16-16.\", \"17-10.\", \"17-11.\", \"17-2.\", \"19-1.\", \"19-16.\", \"19-19.\", \"19-20.\", \"19-3.\", \"2-10.\", \"2-11.\", \"2-17.\", \"2-18.\", \"2-20.\", \"2-3.\", \"2-4.\", \"2-5.\", \"2-6.\", \"2-7.\", \"2-8.\", \"3-13.\", \"3-18.\", \"3-3.\", \"4-1.\", \"4-10.\", \"4-11.\", \"4-19.\", \"5-5.\", \"6-15.\", \"7-10.\", \"7-14.\", \"8-18.\", \"8-20.\", \"8-3.\", \"8-8.\"], \"domains\": [1, 2, 3, 4, 5], \"num_examples_per_domain_per_label\": -1, \"pickle_path\": \"/mnt/wd500GB/CSC500/csc500-main/datasets/cores.stratified_ds.2022A.pkl\", \"source_or_target_dataset\": \"source\", \"x_transforms\": [\"unit_mag\", \"take_200\"], \"episode_transforms\": [], \"domain_prefix\": \"C_\"}, {\"labels\": [\"1-10\", \"1-12\", \"1-14\", \"1-16\", \"1-18\", \"1-19\", \"1-8\", \"10-11\", \"10-17\", \"10-4\", \"10-7\", \"11-1\", \"11-10\", \"11-19\", \"11-20\", \"11-4\", \"11-7\", \"12-19\", \"12-20\", \"12-7\", \"13-14\", \"13-18\", \"13-19\", \"13-20\", \"13-3\", \"13-7\", \"14-10\", \"14-11\", \"14-12\", \"14-13\", \"14-14\", \"14-19\", \"14-20\", \"14-7\", \"14-8\", \"14-9\", \"15-1\", \"15-19\", \"15-6\", \"16-1\", \"16-16\", \"16-19\", \"16-20\", \"17-10\", \"17-11\", \"18-1\", \"18-10\", \"18-11\", \"18-12\", \"18-13\", \"18-14\", \"18-15\", \"18-16\", \"18-17\", \"18-19\", \"18-2\", \"18-20\", \"18-4\", \"18-5\", \"18-7\", \"18-8\", \"18-9\", \"19-1\", \"19-10\", \"19-11\", \"19-12\", \"19-13\", \"19-14\", \"19-15\", \"19-19\", \"19-2\", \"19-20\", \"19-3\", \"19-4\", \"19-6\", \"19-7\", \"19-8\", \"19-9\", \"2-1\", \"2-13\", \"2-15\", \"2-3\", \"2-4\", \"2-5\", \"2-6\", \"2-7\", \"2-8\", \"20-1\", \"20-12\", \"20-14\", \"20-15\", \"20-16\", \"20-18\", \"20-19\", \"20-20\", \"20-3\", \"20-4\", \"20-5\", \"20-7\", \"20-8\", \"3-1\", \"3-13\", \"3-18\", \"3-2\", \"3-8\", \"4-1\", \"4-10\", \"4-11\", \"5-1\", \"5-5\", \"6-1\", \"6-15\", \"6-6\", \"7-10\", \"7-11\", \"7-12\", \"7-13\", \"7-14\", \"7-7\", \"7-8\", \"7-9\", \"8-1\", \"8-13\", \"8-14\", \"8-18\", \"8-20\", \"8-3\", \"8-8\", \"9-1\", \"9-7\"], \"domains\": [1, 2, 3, 4], \"num_examples_per_domain_per_label\": -1, \"pickle_path\": \"/mnt/wd500GB/CSC500/csc500-main/datasets/wisig.node3-19.stratified_ds.2022A.pkl\", \"source_or_target_dataset\": \"source\", \"x_transforms\": [\"unit_mag\", \"take_200\"], \"episode_transforms\": [], \"domain_prefix\": \"W_\"}, {\"labels\": [\"3123D52\", \"3123D65\", \"3123D79\", \"3123D80\", \"3123D54\", \"3123D70\", \"3123D7B\", \"3123D89\", \"3123D58\", \"3123D76\", \"3123D7D\", \"3123EFE\", \"3123D64\", \"3123D78\", \"3123D7E\", \"3124E4A\"], \"domains\": [32, 38, 8, 44, 14, 50, 20, 26], \"num_examples_per_domain_per_label\": 2000, \"pickle_path\": \"/mnt/wd500GB/CSC500/csc500-main/datasets/oracle.Run1_framed_2000Examples_stratified_ds.2022A.pkl\", \"source_or_target_dataset\": \"target\", \"x_transforms\": [\"unit_mag\", \"take_200\", \"resample_20Msps_to_25Msps\"], \"episode_transforms\": [], \"domain_prefix\": \"O_\"}], \"seed\": 500, \"dataset_seed\": 500, \"domains_source\": [\"C_1\", \"C_2\", \"C_3\", \"C_4\", \"C_5\", \"W_1\", \"W_2\", \"W_3\", \"W_4\"], \"domains_target\": [\"O_32\", \"O_38\", \"O_8\", \"O_44\", \"O_14\", \"O_50\", \"O_20\", \"O_26\"]}, \"results\": {\"source_test_label_accuracy\": 0.9841309908454496, \"source_test_label_loss\": 0.07254446297883987, \"target_test_label_accuracy\": 0.22750651041666667, \"target_test_label_loss\": 2.3545596599578857, \"source_val_label_accuracy\": 0.9845892759188152, \"source_val_label_loss\": 0.06666161864995956, \"target_val_label_accuracy\": 0.23206380208333333, \"target_val_label_loss\": 2.353917121887207, \"total_epochs_trained\": 7, \"total_experiment_time_secs\": 2287.1106724739075, \"confusion\": {\"W_3\": {\"99\": {\"99\": 34, \"21\": 1, \"112\": 1}, \"8\": {\"8\": 124}, \"65\": {\"39\": 1, \"65\": 11}, \"117\": {\"117\": 110, \"7\": 1, \"40\": 1}, \"18\": {\"18\": 122, \"39\": 1, \"3\": 1}, \"39\": {\"39\": 107, \"16\": 1}, \"102\": {\"102\": 124}, \"76\": {\"86\": 1, \"76\": 15}, \"101\": {\"101\": 49, \"10\": 2, \"129\": 1}, \"57\": {\"57\": 20}, \"86\": {\"86\": 27, \"101\": 1}, \"11\": {\"11\": 131, \"88\": 1}, \"98\": {\"98\": 128}, \"42\": {\"42\": 27, \"88\": 1}, \"47\": {\"47\": 12}, \"49\": {\"49\": 22, \"70\": 2}, \"111\": {\"111\": 131, \"124\": 1}, \"36\": {\"36\": 115, \"24\": 1}, \"124\": {\"124\": 104, \"92\": 1, \"90\": 1}, \"122\": {\"122\": 55, \"21\": 1, \"69\": 1, \"70\": 2, \"110\": 1}, \"93\": {\"93\": 142}, \"89\": {\"89\": 28}, \"51\": {\"51\": 16}, \"73\": {\"73\": 39, \"21\": 1}, \"45\": {\"45\": 16}, \"5\": {\"5\": 108, \"25\": 1, \"71\": 1, \"8\": 1, \"101\": 1}, \"69\": {\"69\": 82, \"113\": 1, \"106\": 1}, \"26\": {\"26\": 130}, \"1\": {\"1\": 107, \"69\": 1}, \"92\": {\"92\": 32}, \"96\": {\"96\": 20}, \"85\": {\"85\": 36}, \"114\": {\"114\": 125, \"128\": 1}, \"50\": {\"50\": 16}, \"81\": {\"81\": 32}, \"2\": {\"2\": 27, \"28\": 1}, \"33\": {\"33\": 145, \"21\": 1}, \"31\": {\"31\": 20}, \"90\": {\"90\": 116, \"6\": 1, \"124\": 1}, \"17\": {\"86\": 2, \"23\": 2, \"63\": 2, \"17\": 7, \"74\": 1, \"14\": 1, \"29\": 1}, \"116\": {\"116\": 25, \"60\": 1, \"82\": 2}, \"91\": {\"91\": 23, \"117\": 1}, \"120\": {\"120\": 20}, \"128\": {\"128\": 32}, \"78\": {\"78\": 12, \"84\": 1, \"17\": 1, \"89\": 1, \"110\": 1}, \"58\": {\"58\": 16}, \"23\": {\"23\": 25, \"68\": 1, \"60\": 3, \"29\": 1, \"123\": 1, \"19\": 1}, \"15\": {\"15\": 102, \"110\": 1, \"69\": 1}, \"74\": {\"74\": 16}, \"34\": {\"34\": 29, \"6\": 1, \"0\": 1, \"110\": 1}, \"103\": {\"103\": 16}, \"106\": {\"106\": 100}, \"44\": {\"44\": 71, \"90\": 1}, \"9\": {\"9\": 30, \"14\": 1, \"80\": 1}, \"97\": {\"97\": 20}, \"123\": {\"123\": 12, \"86\": 1, \"47\": 1, \"23\": 2}, \"6\": {\"6\": 31, \"118\": 1}, \"68\": {\"68\": 16}, \"24\": {\"24\": 47, \"27\": 1}, \"21\": {\"21\": 43, \"92\": 1, \"16\": 1, \"31\": 1, \"15\": 1, \"40\": 1}, \"83\": {\"83\": 22, \"24\": 1, \"1\": 1}, \"60\": {\"60\": 27, \"43\": 1}, \"87\": {\"87\": 120}, \"30\": {\"30\": 78, \"11\": 1, \"44\": 1, \"94\": 1, \"70\": 1, \"62\": 1, \"124\": 1}, \"43\": {\"43\": 51, \"27\": 1, \"33\": 1, \"18\": 1, \"21\": 2}, \"115\": {\"115\": 16}, \"40\": {\"40\": 119, \"69\": 1}, \"112\": {\"112\": 14, \"48\": 1, \"106\": 1}, \"66\": {\"66\": 16}, \"110\": {\"110\": 91, \"89\": 1}, \"3\": {\"3\": 112, \"5\": 1, \"32\": 1}, \"20\": {\"20\": 16}, \"28\": {\"28\": 16}, \"84\": {\"84\": 104, \"1\": 1, \"109\": 1, \"8\": 1, \"26\": 1}, \"79\": {\"79\": 12}, \"118\": {\"118\": 97, \"117\": 1, \"8\": 2}, \"56\": {\"56\": 10, \"28\": 1, \"2\": 1}, \"48\": {\"48\": 10, \"20\": 2, \"13\": 1, \"31\": 1, \"28\": 1, \"79\": 1}, \"77\": {\"77\": 16}, \"14\": {\"14\": 80}, \"64\": {\"64\": 20}, \"67\": {\"67\": 15, \"69\": 1}, \"62\": {\"62\": 124}, \"75\": {\"75\": 16}, \"63\": {\"63\": 13, \"19\": 1, \"81\": 1, \"14\": 1}, \"7\": {\"7\": 112}, \"125\": {\"125\": 100, \"124\": 1, \"113\": 1, \"31\": 1, \"101\": 1}, \"37\": {\"37\": 16}, \"121\": {\"121\": 26, \"39\": 1, \"27\": 1, \"117\": 1, \"48\": 1, \"44\": 2}, \"16\": {\"16\": 102, \"62\": 1, \"94\": 1}, \"35\": {\"35\": 11, \"70\": 1}, \"32\": {\"32\": 32}, \"46\": {\"46\": 16}, \"70\": {\"70\": 69, \"122\": 1, \"69\": 1, \"21\": 1}, \"129\": {\"129\": 31, \"110\": 1}, \"95\": {\"95\": 31, \"28\": 1}, \"72\": {\"72\": 28}, \"19\": {\"19\": 32}, \"52\": {\"52\": 16}, \"100\": {\"100\": 15, \"40\": 1}, \"104\": {\"104\": 16}, \"59\": {\"59\": 12}, \"109\": {\"109\": 126}, \"88\": {\"88\": 107, \"69\": 1}, \"27\": {\"27\": 87, \"21\": 1, \"36\": 3, \"69\": 1, \"26\": 1, \"110\": 1}, \"113\": {\"113\": 118, \"105\": 1, \"82\": 1}, \"105\": {\"105\": 123, \"40\": 1}, \"71\": {\"71\": 67, \"39\": 1}, \"108\": {\"108\": 122, \"8\": 1, \"88\": 1}, \"41\": {\"41\": 16}, \"80\": {\"80\": 15, \"117\": 1}, \"13\": {\"44\": 1, \"13\": 9, \"92\": 1, \"18\": 2, \"115\": 2, \"40\": 1}, \"55\": {\"55\": 16}, \"0\": {\"0\": 103, \"85\": 1, \"98\": 1, \"19\": 1}, \"25\": {\"25\": 16}, \"53\": {\"53\": 20}, \"61\": {\"61\": 16}, \"38\": {\"38\": 16}, \"127\": {\"127\": 123, \"14\": 1, \"39\": 1, \"36\": 2, \"4\": 1}, \"4\": {\"4\": 93, \"69\": 1, \"11\": 1, \"117\": 1}, \"12\": {\"12\": 104}, \"126\": {\"126\": 120, \"26\": 1, \"93\": 1, \"39\": 2}, \"29\": {\"29\": 32}, \"107\": {\"107\": 136}, \"82\": {\"82\": 28}, \"94\": {\"94\": 83, \"40\": 1}, \"54\": {\"54\": 16}, \"10\": {\"10\": 127, \"69\": 1}, \"22\": {\"22\": 16}, \"119\": {\"119\": 16}}, \"W_2\": {\"73\": {\"73\": 27, \"117\": 1}, \"40\": {\"40\": 124, \"36\": 1, \"105\": 2, \"16\": 1, \"14\": 1, \"62\": 1, \"5\": 1, \"93\": 1}, \"99\": {\"99\": 29, \"48\": 2, \"27\": 1}, \"5\": {\"5\": 107, \"24\": 1, \"62\": 1, \"69\": 1, \"88\": 1, \"0\": 1}, \"108\": {\"108\": 132}, \"128\": {\"128\": 22, \"71\": 1, \"17\": 1}, \"89\": {\"89\": 33, \"92\": 2, \"40\": 1}, \"107\": {\"107\": 52, \"128\": 1, \"94\": 1, \"21\": 2, \"10\": 1, \"70\": 1, \"127\": 1, \"71\": 2, \"109\": 1, \"12\": 1, \"14\": 1}, \"2\": {\"2\": 30, \"16\": 1, \"89\": 1}, \"78\": {\"78\": 46, \"4\": 1, \"105\": 1}, \"85\": {\"85\": 32}, \"44\": {\"44\": 100}, \"58\": {\"58\": 20}, \"57\": {\"57\": 18, \"10\": 1, \"88\": 1}, \"41\": {\"41\": 19, \"40\": 1}, \"53\": {\"53\": 16}, \"14\": {\"14\": 39, \"24\": 3, \"31\": 2, \"10\": 1, \"12\": 1, \"74\": 1, \"78\": 1}, \"83\": {\"83\": 38, \"29\": 1, \"7\": 1}, \"119\": {\"119\": 20}, \"95\": {\"95\": 35, \"87\": 1}, \"28\": {\"28\": 19, \"13\": 1}, \"19\": {\"19\": 28}, \"69\": {\"69\": 127, \"3\": 2, \"13\": 1, \"39\": 1, \"40\": 1}, \"93\": {\"93\": 133, \"109\": 1}, \"9\": {\"9\": 32}, \"118\": {\"118\": 66, \"11\": 1, \"1\": 1}, \"43\": {\"43\": 113, \"14\": 1, \"94\": 1, \"24\": 1}, \"47\": {\"47\": 12}, \"125\": {\"125\": 144}, \"29\": {\"29\": 32}, \"122\": {\"122\": 135, \"93\": 1, \"70\": 1, \"27\": 1, \"11\": 1, \"26\": 1}, \"46\": {\"46\": 16}, \"86\": {\"86\": 32}, \"70\": {\"70\": 113, \"19\": 1, \"17\": 1, \"60\": 1, \"21\": 2, \"107\": 1, \"122\": 1, \"87\": 2, \"3\": 1, \"109\": 1}, \"51\": {\"51\": 17, \"21\": 2, \"10\": 1}, \"23\": {\"23\": 40, \"30\": 1, \"29\": 1, \"77\": 1, \"110\": 1}, \"121\": {\"121\": 31, \"120\": 1, \"57\": 1, \"90\": 1, \"16\": 1, \"124\": 1}, \"63\": {\"46\": 1, \"63\": 17, \"13\": 1, \"49\": 1}, \"102\": {\"102\": 121, \"40\": 1}, \"21\": {\"21\": 45, \"74\": 1, \"62\": 2}, \"55\": {\"55\": 14, \"119\": 1, \"62\": 1}, \"54\": {\"54\": 20}, \"6\": {\"6\": 31, \"34\": 1}, \"109\": {\"109\": 92, \"81\": 2, \"70\": 1, \"24\": 1, \"88\": 1, \"110\": 1, \"21\": 1, \"1\": 1}, \"64\": {\"29\": 1, \"64\": 15}, \"20\": {\"20\": 16}, \"98\": {\"98\": 111, \"121\": 1, \"0\": 1, \"3\": 1}, \"92\": {\"92\": 26, \"13\": 1, \"53\": 1}, \"35\": {\"35\": 12}, \"113\": {\"113\": 63, \"109\": 2, \"82\": 1, \"24\": 1, \"117\": 1, \"11\": 2, \"1\": 1, \"21\": 1}, \"71\": {\"71\": 96, \"118\": 1, \"13\": 1, \"110\": 1, \"27\": 1}, \"94\": {\"94\": 54, \"71\": 1, \"42\": 1, \"78\": 1, \"92\": 1, \"69\": 1, \"89\": 1, \"10\": 1, \"49\": 1, \"74\": 1, \"87\": 1}, \"52\": {\"52\": 19, \"70\": 1}, \"116\": {\"116\": 26, \"80\": 1, \"29\": 1}, \"87\": {\"87\": 106, \"5\": 3, \"43\": 1, \"105\": 1, \"24\": 1}, \"90\": {\"90\": 148}, \"91\": {\"91\": 28}, \"84\": {\"84\": 88, \"109\": 1, \"7\": 1, \"11\": 1, \"1\": 1}, \"24\": {\"24\": 107, \"11\": 1, \"110\": 1, \"94\": 1, \"117\": 1, \"26\": 1}, \"33\": {\"33\": 131, \"87\": 1, \"69\": 2}, \"81\": {\"81\": 23, \"92\": 1}, \"115\": {\"115\": 9, \"104\": 1, \"71\": 1, \"34\": 1}, \"77\": {\"77\": 16}, \"106\": {\"106\": 116, \"21\": 1, \"87\": 1, \"43\": 1, \"24\": 1}, \"42\": {\"42\": 24, \"114\": 1, \"24\": 1, \"107\": 1, \"8\": 1}, \"38\": {\"38\": 16}, \"36\": {\"36\": 109, \"14\": 1, \"93\": 1, \"16\": 2, \"87\": 1}, \"79\": {\"79\": 16}, \"60\": {\"80\": 1, \"60\": 24, \"70\": 1, \"29\": 1, \"87\": 1}, \"80\": {\"80\": 14, \"29\": 1, \"67\": 1}, \"32\": {\"32\": 36}, \"0\": {\"0\": 115, \"16\": 1}, \"127\": {\"127\": 122, \"24\": 1, \"111\": 1}, \"114\": {\"114\": 114, \"90\": 1, \"101\": 1}, \"62\": {\"62\": 138, \"69\": 1, \"87\": 1}, \"129\": {\"129\": 32}, \"56\": {\"56\": 12}, \"76\": {\"76\": 16}, \"72\": {\"72\": 26, \"21\": 1, \"115\": 1}, \"88\": {\"88\": 122, \"71\": 1, \"111\": 1}, \"68\": {\"68\": 14, \"25\": 1, \"12\": 1}, \"67\": {\"67\": 14, \"75\": 2}, \"100\": {\"100\": 16}, \"34\": {\"34\": 26, \"115\": 1, \"86\": 1, \"0\": 1, \"24\": 1, \"66\": 1, \"82\": 1}, \"16\": {\"16\": 123, \"36\": 1}, \"126\": {\"126\": 120}, \"4\": {\"4\": 85, \"120\": 1, \"14\": 1, \"24\": 1}, \"101\": {\"101\": 146}, \"104\": {\"104\": 18, \"16\": 1, \"24\": 1}, \"30\": {\"67\": 1, \"30\": 105, \"28\": 1, \"0\": 1, \"71\": 1, \"40\": 1}, \"8\": {\"8\": 127, \"117\": 1}, \"82\": {\"82\": 34, \"16\": 1, \"7\": 1}, \"26\": {\"26\": 127, \"128\": 1, \"87\": 1, \"69\": 3, \"117\": 1, \"3\": 2, \"5\": 1, \"62\": 1, \"40\": 1}, \"96\": {\"96\": 20}, \"3\": {\"3\": 134, \"16\": 1, \"0\": 1}, \"25\": {\"25\": 14, \"21\": 1, \"3\": 1}, \"13\": {\"13\": 11, \"91\": 1, \"3\": 1, \"49\": 1, \"82\": 2}, \"37\": {\"37\": 15, \"3\": 1}, \"49\": {\"49\": 21, \"81\": 1, \"92\": 1, \"61\": 1}, \"111\": {\"111\": 136}, \"105\": {\"105\": 131, \"7\": 1}, \"17\": {\"17\": 13, \"42\": 1, \"24\": 1, \"70\": 1}, \"65\": {\"65\": 18, \"73\": 2}, \"123\": {\"123\": 15, \"41\": 1}, \"74\": {\"74\": 14, \"11\": 1, \"17\": 1}, \"97\": {\"97\": 16, \"15\": 1, \"68\": 1, \"109\": 1, \"91\": 1}, \"112\": {\"112\": 13, \"83\": 1, \"25\": 1, \"108\": 1}, \"120\": {\"120\": 20}, \"50\": {\"50\": 14, \"29\": 1, \"80\": 1}, \"59\": {\"59\": 15, \"24\": 1}, \"10\": {\"10\": 56, \"14\": 1, \"78\": 1, \"49\": 1, \"105\": 1}, \"45\": {\"45\": 15, \"25\": 1}, \"12\": {\"12\": 85, \"21\": 1, \"24\": 1, \"70\": 1}, \"75\": {\"75\": 15, \"40\": 1}, \"48\": {\"48\": 20}, \"61\": {\"61\": 17, \"10\": 1, \"69\": 1, \"89\": 1}, \"124\": {\"124\": 123, \"26\": 1}, \"11\": {\"11\": 77, \"69\": 1, \"8\": 1, \"10\": 1}, \"103\": {\"103\": 14, \"31\": 1, \"109\": 1}, \"7\": {\"7\": 128, \"109\": 1, \"27\": 1, \"69\": 1, \"78\": 1}, \"18\": {\"18\": 117, \"55\": 1, \"24\": 1, \"26\": 1}, \"31\": {\"31\": 20}, \"15\": {\"15\": 116, \"87\": 1, \"3\": 1}, \"1\": {\"1\": 119, \"3\": 1, \"36\": 1, \"73\": 1}, \"66\": {\"66\": 19, \"72\": 1}, \"110\": {\"110\": 35, \"14\": 1, \"122\": 1, \"26\": 1, \"12\": 1, \"87\": 1}, \"27\": {\"27\": 59, \"36\": 4, \"94\": 1, \"71\": 1, \"11\": 1, \"24\": 1, \"3\": 1}, \"22\": {\"22\": 18, \"43\": 1, \"75\": 1}, \"117\": {\"117\": 117, \"5\": 1, \"114\": 1, \"15\": 1}, \"39\": {\"39\": 106, \"21\": 1, \"1\": 1}}, \"C_4\": {\"38\": {\"38\": 40}, \"3\": {\"3\": 124}, \"24\": {\"24\": 56}, \"49\": {\"49\": 20}, \"7\": {\"7\": 24}, \"17\": {\"17\": 80}, \"43\": {\"43\": 148}, \"30\": {\"30\": 44}, \"44\": {\"44\": 132}, \"23\": {\"23\": 144}, \"37\": {\"37\": 24}, \"4\": {\"4\": 132}, \"57\": {\"57\": 100}, \"16\": {\"16\": 95, \"5\": 1}, \"18\": {\"18\": 107, \"3\": 1}, \"20\": {\"20\": 124}, \"45\": {\"45\": 96}, \"15\": {\"15\": 132}, \"52\": {\"52\": 116}, \"19\": {\"19\": 140}, \"54\": {\"54\": 108}, \"56\": {\"56\": 130}, \"40\": {\"40\": 134}, \"28\": {\"28\": 32}, \"2\": {\"2\": 36}, \"9\": {\"9\": 120}, \"0\": {\"0\": 80}, \"36\": {\"36\": 92}, \"55\": {\"55\": 130}, \"35\": {\"35\": 40}, \"39\": {\"39\": 20}, \"31\": {\"31\": 28}, \"14\": {\"14\": 16}, \"12\": {\"12\": 92}, \"6\": {\"6\": 112}, \"26\": {\"26\": 24}, \"50\": {\"50\": 129, \"3\": 3}, \"21\": {\"21\": 122}, \"46\": {\"46\": 139, \"5\": 1}, \"51\": {\"51\": 140}, \"41\": {\"41\": 36}, \"34\": {\"34\": 24}, \"47\": {\"47\": 120}, \"5\": {\"5\": 108}, \"1\": {\"1\": 40}, \"48\": {\"48\": 134}, \"29\": {\"29\": 118}, \"22\": {\"22\": 127, \"7\": 1}, \"10\": {\"10\": 132}, \"32\": {\"32\": 24}, \"13\": {\"13\": 112}, \"42\": {\"42\": 32}, \"27\": {\"27\": 138}, \"8\": {\"8\": 142}, \"33\": {\"33\": 36}, \"25\": {\"25\": 132}, \"11\": {\"11\": 104}, \"53\": {\"53\": 112}}, \"W_1\": {\"60\": {\"60\": 15, \"57\": 1}, \"59\": {\"48\": 1, \"59\": 10, \"128\": 1}, \"107\": {\"107\": 122, \"80\": 1, \"62\": 1}, \"113\": {\"113\": 123, \"69\": 1}, \"6\": {\"6\": 28, \"103\": 1, \"21\": 1, \"59\": 1, \"97\": 1}, \"24\": {\"24\": 90, \"108\": 1, \"36\": 1}, \"50\": {\"50\": 15, \"44\": 1}, \"62\": {\"62\": 119, \"70\": 1}, \"48\": {\"48\": 12}, \"104\": {\"104\": 16}, \"105\": {\"105\": 76, \"40\": 5, \"26\": 1, \"87\": 1, \"3\": 1}, \"44\": {\"44\": 76}, \"49\": {\"49\": 20}, \"55\": {\"55\": 12}, \"4\": {\"4\": 100}, \"76\": {\"76\": 16}, \"85\": {\"85\": 32}, \"89\": {\"89\": 36}, \"74\": {\"74\": 16}, \"112\": {\"112\": 16}, \"79\": {\"79\": 12}, \"0\": {\"0\": 83, \"97\": 1}, \"91\": {\"91\": 28}, \"118\": {\"118\": 83, \"16\": 1}, \"80\": {\"80\": 16}, \"64\": {\"64\": 16}, \"97\": {\"97\": 18, \"88\": 2}, \"84\": {\"84\": 124}, \"38\": {\"38\": 16}, \"30\": {\"30\": 52}, \"32\": {\"32\": 29, \"65\": 1, \"121\": 1, \"69\": 1}, \"72\": {\"72\": 32}, \"33\": {\"33\": 130, \"117\": 1, \"70\": 1}, \"34\": {\"34\": 32}, \"28\": {\"28\": 20}, \"123\": {\"123\": 15, \"17\": 1}, \"2\": {\"2\": 25, \"11\": 2, \"129\": 1, \"118\": 1, \"114\": 1, \"109\": 1, \"124\": 1}, \"70\": {\"70\": 123, \"28\": 1}, \"127\": {\"127\": 107, \"78\": 1}, \"110\": {\"110\": 125, \"39\": 1, \"101\": 1, \"88\": 1}, \"126\": {\"126\": 135, \"109\": 1}, \"13\": {\"13\": 16}, \"15\": {\"15\": 104}, \"29\": {\"29\": 28}, \"18\": {\"18\": 119, \"23\": 1}, \"7\": {\"7\": 142}, \"56\": {\"56\": 12}, \"98\": {\"98\": 108}, \"99\": {\"99\": 24}, \"77\": {\"77\": 15, \"90\": 1}, \"103\": {\"13\": 1, \"103\": 14, \"4\": 1}, \"128\": {\"128\": 23, \"72\": 1}, \"3\": {\"3\": 84, \"107\": 1, \"105\": 1, \"85\": 1, \"0\": 1}, \"121\": {\"121\": 32}, \"42\": {\"42\": 28}, \"90\": {\"90\": 120}, \"37\": {\"37\": 16}, \"120\": {\"3\": 1, \"120\": 17, \"5\": 1, \"78\": 1}, \"117\": {\"117\": 118}, \"9\": {\"9\": 32}, \"108\": {\"108\": 124}, \"83\": {\"83\": 28}, \"14\": {\"14\": 96}, \"63\": {\"63\": 16}, \"11\": {\"11\": 117, \"26\": 1}, \"95\": {\"95\": 36}, \"26\": {\"26\": 130}, \"22\": {\"22\": 15, \"29\": 1}, \"102\": {\"102\": 120}, \"69\": {\"69\": 100, \"94\": 1, \"108\": 1, \"39\": 2, \"88\": 1, \"36\": 1}, \"1\": {\"1\": 130}, \"67\": {\"67\": 16}, \"57\": {\"57\": 12}, \"8\": {\"8\": 132, \"40\": 1, \"47\": 1}, \"109\": {\"109\": 122, \"108\": 1, \"36\": 1}, \"129\": {\"129\": 25, \"2\": 3}, \"111\": {\"111\": 120}, \"71\": {\"71\": 101, \"102\": 1, \"109\": 1, \"124\": 1, \"26\": 2, \"39\": 1, \"62\": 1}, \"47\": {\"47\": 12}, \"82\": {\"82\": 35, \"13\": 1}, \"27\": {\"27\": 92}, \"19\": {\"19\": 28}, \"122\": {\"27\": 1, \"122\": 86, \"21\": 1}, \"53\": {\"53\": 20}, \"87\": {\"87\": 106, \"118\": 1, \"83\": 1}, \"100\": {\"100\": 16}, \"66\": {\"66\": 16}, \"31\": {\"31\": 16}, \"58\": {\"58\": 11, \"54\": 1}, \"68\": {\"68\": 16}, \"88\": {\"88\": 107, \"97\": 1, \"27\": 1, \"62\": 1, \"36\": 3, \"10\": 1}, \"45\": {\"45\": 6, \"109\": 1, \"47\": 1, \"101\": 1, \"28\": 1, \"11\": 1, \"120\": 1}, \"114\": {\"114\": 128}, \"23\": {\"23\": 24}, \"65\": {\"50\": 1, \"65\": 8, \"74\": 1, \"63\": 1, \"72\": 1}, \"124\": {\"124\": 118}, \"10\": {\"10\": 117, \"118\": 1, \"127\": 1, \"27\": 1}, \"92\": {\"92\": 28}, \"40\": {\"40\": 139, \"105\": 3, \"26\": 1, \"39\": 1}, \"73\": {\"73\": 18, \"24\": 1, \"108\": 1}, \"94\": {\"94\": 91, \"27\": 1}, \"81\": {\"81\": 28}, \"101\": {\"101\": 108, \"18\": 1, \"90\": 1}, \"86\": {\"86\": 33, \"21\": 1, \"111\": 1, \"7\": 1}, \"78\": {\"78\": 13, \"87\": 2, \"43\": 1}, \"96\": {\"96\": 19, \"42\": 1}, \"5\": {\"5\": 84, \"39\": 1, \"108\": 1, \"24\": 1, \"10\": 1}, \"16\": {\"16\": 104, \"94\": 1, \"26\": 1, \"88\": 2}, \"35\": {\"35\": 12}, \"51\": {\"51\": 16}, \"46\": {\"46\": 10, \"12\": 1, \"103\": 1}, \"20\": {\"20\": 16}, \"116\": {\"116\": 31, \"94\": 1}, \"75\": {\"75\": 16}, \"43\": {\"43\": 126, \"36\": 1, \"27\": 1}, \"17\": {\"17\": 16}, \"12\": {\"12\": 103, \"26\": 1}, \"25\": {\"25\": 16}, \"54\": {\"54\": 15, \"3\": 1}, \"36\": {\"36\": 109, \"114\": 1, \"113\": 1, \"88\": 1}, \"52\": {\"52\": 20}, \"61\": {\"61\": 12}, \"106\": {\"106\": 120}, \"39\": {\"39\": 101, \"10\": 1, \"122\": 1, \"87\": 1}, \"119\": {\"119\": 16}, \"125\": {\"125\": 148}, \"93\": {\"93\": 144, \"87\": 2, \"88\": 1, \"70\": 1}, \"115\": {\"115\": 12}, \"21\": {\"21\": 38, \"82\": 1, \"30\": 1}, \"41\": {\"41\": 16}}, \"W_4\": {\"55\": {\"55\": 16}, \"9\": {\"9\": 28}, \"70\": {\"70\": 119, \"39\": 1, \"69\": 1, \"88\": 1}, \"112\": {\"112\": 16}, \"115\": {\"115\": 13, \"25\": 1, \"28\": 1, \"124\": 1}, \"56\": {\"56\": 11, \"72\": 1}, \"108\": {\"70\": 1, \"108\": 85, \"96\": 1, \"88\": 1, \"105\": 1, \"39\": 1, \"20\": 1, \"26\": 1}, \"117\": {\"117\": 122, \"111\": 1, \"22\": 1}, \"111\": {\"111\": 130, \"127\": 1, \"8\": 1}, \"71\": {\"71\": 94, \"108\": 1, \"114\": 2, \"4\": 1, \"9\": 1, \"1\": 2, \"0\": 1, \"33\": 1, \"10\": 1}, \"59\": {\"59\": 12}, \"10\": {\"10\": 123, \"1\": 1}, \"83\": {\"83\": 28}, \"116\": {\"116\": 28}, \"13\": {\"13\": 16}, \"4\": {\"4\": 103, \"69\": 1}, \"125\": {\"125\": 104, \"11\": 1, \"124\": 1}, \"102\": {\"102\": 122, \"1\": 1, \"5\": 1}, \"47\": {\"47\": 12}, \"28\": {\"28\": 20}, \"82\": {\"82\": 30, \"1\": 1, \"122\": 1}, \"60\": {\"60\": 32}, \"107\": {\"107\": 130, \"21\": 1, \"72\": 1, \"62\": 1, \"44\": 1}, \"75\": {\"75\": 16}, \"31\": {\"31\": 16}, \"92\": {\"92\": 27, \"124\": 1}, \"58\": {\"58\": 16}, \"113\": {\"113\": 123, \"69\": 2, \"40\": 1, \"0\": 1, \"1\": 1}, \"95\": {\"95\": 32}, \"14\": {\"14\": 109, \"69\": 1, \"24\": 1, \"118\": 1}, \"17\": {\"17\": 20}, \"104\": {\"104\": 16}, \"72\": {\"72\": 31, \"7\": 1}, \"69\": {\"69\": 126, \"88\": 1, \"109\": 1}, \"63\": {\"63\": 16}, \"12\": {\"12\": 97, \"118\": 1, \"29\": 1, \"62\": 1}, \"25\": {\"25\": 16}, \"67\": {\"67\": 15, \"123\": 1}, \"50\": {\"50\": 16}, \"43\": {\"43\": 114, \"23\": 2, \"70\": 1, \"122\": 1, \"69\": 1, \"102\": 1}, \"96\": {\"96\": 19, \"117\": 1}, \"128\": {\"128\": 22, \"115\": 1, \"91\": 1}, \"77\": {\"77\": 12}, \"54\": {\"54\": 16}, \"118\": {\"118\": 104, \"0\": 1, \"3\": 2, \"15\": 1, \"1\": 1, \"69\": 1, \"30\": 1, \"78\": 1}, \"30\": {\"30\": 75, \"10\": 1}, \"51\": {\"51\": 15, \"94\": 1}, \"122\": {\"122\": 79, \"118\": 1, \"88\": 1, \"93\": 1, \"111\": 1, \"7\": 1}, \"46\": {\"46\": 19, \"20\": 1}, \"79\": {\"79\": 16}, \"103\": {\"103\": 16}, \"74\": {\"51\": 1, \"74\": 15}, \"90\": {\"90\": 146}, \"8\": {\"8\": 140, \"71\": 1, \"90\": 1}, \"94\": {\"94\": 83, \"105\": 1, \"69\": 2, \"16\": 1, \"36\": 1}, \"7\": {\"7\": 119, \"3\": 2, \"40\": 1}, \"61\": {\"61\": 16}, \"26\": {\"26\": 118, \"69\": 1, \"24\": 1}, \"127\": {\"127\": 106, \"70\": 1, \"4\": 1}, \"23\": {\"23\": 12, \"21\": 1, \"112\": 1, \"122\": 1, \"88\": 1}, \"1\": {\"1\": 105, \"23\": 1, \"39\": 1, \"40\": 1}, \"93\": {\"93\": 134}, \"106\": {\"106\": 107, \"0\": 1, \"18\": 1, \"84\": 1, \"118\": 1, \"109\": 1, \"78\": 1, \"27\": 1, \"21\": 1, \"30\": 1}, \"110\": {\"110\": 117, \"5\": 1}, \"76\": {\"76\": 16}, \"36\": {\"36\": 114, \"24\": 5, \"1\": 1}, \"21\": {\"21\": 35, \"84\": 1, \"3\": 1, \"62\": 1, \"81\": 1, \"69\": 1}, \"37\": {\"37\": 16}, \"11\": {\"11\": 119, \"110\": 1}, \"109\": {\"109\": 115, \"24\": 1}, \"62\": {\"21\": 1, \"62\": 54, \"97\": 1, \"113\": 2, \"3\": 1, \"27\": 1}, \"89\": {\"89\": 31, \"120\": 1}, \"126\": {\"126\": 117, \"69\": 1, \"27\": 1, \"105\": 2, \"39\": 2, \"16\": 1}, \"101\": {\"101\": 123, \"15\": 1, \"4\": 1, \"124\": 1, \"108\": 1, \"84\": 1}, \"65\": {\"65\": 12}, \"19\": {\"19\": 27, \"128\": 1}, \"27\": {\"27\": 98, \"0\": 1, \"69\": 1}, \"5\": {\"5\": 133, \"23\": 1, \"114\": 1, \"69\": 1}, \"73\": {\"73\": 22, \"46\": 2}, \"6\": {\"6\": 24}, \"29\": {\"29\": 32}, \"114\": {\"114\": 127, \"42\": 1}, \"49\": {\"49\": 27, \"70\": 3, \"128\": 1, \"53\": 1}, \"16\": {\"16\": 115, \"117\": 1, \"88\": 1, \"69\": 1}, \"68\": {\"68\": 16}, \"98\": {\"98\": 117, \"69\": 1, \"124\": 1, \"90\": 1}, \"64\": {\"64\": 16}, \"121\": {\"90\": 1, \"121\": 21, \"48\": 1, \"44\": 3, \"96\": 1, \"18\": 1, \"92\": 1, \"65\": 1, \"26\": 1, \"89\": 1}, \"124\": {\"124\": 114}, \"97\": {\"94\": 1, \"97\": 19}, \"40\": {\"40\": 136}, \"119\": {\"119\": 16}, \"100\": {\"100\": 19, \"91\": 1}, \"87\": {\"87\": 115, \"105\": 1}, \"88\": {\"88\": 122, \"112\": 1, \"30\": 1, \"26\": 1, \"21\": 1, \"40\": 1, \"108\": 1}, \"52\": {\"52\": 17, \"71\": 1, \"31\": 1, \"43\": 1}, \"80\": {\"80\": 15, \"115\": 1}, \"105\": {\"105\": 94, \"118\": 1, \"27\": 1, \"122\": 1, \"4\": 1, \"15\": 1, \"87\": 1}, \"32\": {\"32\": 27, \"118\": 1}, \"35\": {\"35\": 12}, \"99\": {\"99\": 40}, \"18\": {\"18\": 118, \"16\": 1, \"30\": 1}, \"24\": {\"24\": 112}, \"85\": {\"85\": 27, \"70\": 1}, \"39\": {\"39\": 97, \"106\": 1, \"3\": 1, \"69\": 1}, \"123\": {\"123\": 16}, \"91\": {\"91\": 24}, \"78\": {\"78\": 30, \"62\": 1, \"21\": 1, \"122\": 1, \"115\": 1, \"109\": 1, \"26\": 1}, \"38\": {\"38\": 16}, \"15\": {\"15\": 124, \"81\": 1, \"18\": 1, \"78\": 1, \"7\": 1}, \"48\": {\"48\": 16}, \"45\": {\"45\": 16}, \"120\": {\"120\": 20}, \"44\": {\"44\": 63, \"124\": 1}, \"86\": {\"86\": 27, \"27\": 1}, \"20\": {\"20\": 16}, \"33\": {\"33\": 146, \"90\": 1, \"88\": 1, \"43\": 1, \"10\": 1}, \"129\": {\"129\": 23, \"73\": 4, \"108\": 1}, \"34\": {\"34\": 28, \"91\": 1, \"31\": 2, \"110\": 1}, \"81\": {\"81\": 34, \"39\": 1, \"86\": 1}, \"57\": {\"57\": 12, \"10\": 1, \"90\": 2, \"93\": 1}, \"0\": {\"0\": 113, \"70\": 1, \"95\": 1, \"129\": 1}, \"2\": {\"2\": 28}, \"42\": {\"42\": 28}, \"84\": {\"84\": 127, \"27\": 1, \"30\": 1, \"24\": 1, \"26\": 2}, \"3\": {\"3\": 121, \"69\": 1, \"78\": 1, \"0\": 1, \"24\": 1, \"90\": 1}, \"41\": {\"41\": 15, \"28\": 1}, \"53\": {\"53\": 15, \"0\": 1}, \"66\": {\"66\": 16}, \"22\": {\"22\": 16}}, \"C_2\": {\"32\": {\"32\": 28}, \"17\": {\"17\": 104}, \"38\": {\"38\": 20}, \"2\": {\"2\": 32}, \"43\": {\"43\": 144}, \"56\": {\"56\": 144}, \"37\": {\"37\": 36}, \"49\": {\"49\": 24}, \"0\": {\"0\": 48}, \"29\": {\"29\": 128}, \"35\": {\"35\": 32}, \"18\": {\"18\": 48}, \"25\": {\"25\": 136}, \"23\": {\"23\": 124}, \"15\": {\"15\": 146}, \"21\": {\"21\": 120}, \"51\": {\"51\": 128}, \"20\": {\"20\": 138}, \"7\": {\"7\": 36}, \"50\": {\"50\": 136}, \"31\": {\"31\": 28}, \"30\": {\"30\": 140}, \"19\": {\"19\": 156}, \"9\": {\"9\": 144}, \"52\": {\"52\": 124}, \"45\": {\"45\": 128}, \"8\": {\"8\": 154}, \"55\": {\"55\": 160}, \"12\": {\"12\": 92}, \"40\": {\"40\": 140}, \"28\": {\"28\": 28}, \"36\": {\"36\": 116}, \"39\": {\"39\": 28}, \"46\": {\"46\": 122}, \"14\": {\"14\": 24}, \"57\": {\"57\": 142}, \"34\": {\"34\": 28}, \"1\": {\"1\": 112}, \"53\": {\"53\": 136}, \"48\": {\"48\": 130}, \"3\": {\"3\": 92}, \"16\": {\"16\": 152}, \"6\": {\"6\": 124}, \"10\": {\"10\": 112}, \"13\": {\"13\": 116}, \"26\": {\"26\": 24}, \"24\": {\"24\": 96}, \"44\": {\"44\": 100}, \"27\": {\"27\": 150}, \"22\": {\"22\": 128}, \"33\": {\"33\": 28}, \"47\": {\"47\": 118}, \"5\": {\"5\": 120}, \"4\": {\"4\": 138}, \"41\": {\"41\": 20}, \"11\": {\"11\": 150}, \"54\": {\"54\": 108}, \"42\": {\"42\": 36}}, \"C_3\": {\"5\": {\"5\": 116}, \"32\": {\"32\": 28}, \"33\": {\"33\": 28}, \"49\": {\"49\": 20}, \"39\": {\"39\": 16}, \"11\": {\"11\": 142}, \"8\": {\"8\": 116}, \"26\": {\"26\": 24}, \"51\": {\"51\": 122}, \"4\": {\"4\": 146}, \"52\": {\"52\": 118}, \"47\": {\"47\": 92}, \"17\": {\"17\": 107, \"41\": 1}, \"53\": {\"53\": 136}, \"2\": {\"2\": 32}, \"12\": {\"12\": 92}, \"37\": {\"37\": 28}, \"9\": {\"9\": 148}, \"13\": {\"13\": 128}, \"54\": {\"54\": 100}, \"31\": {\"31\": 28}, \"34\": {\"34\": 32}, \"24\": {\"24\": 104}, \"7\": {\"7\": 36}, \"50\": {\"50\": 118}, \"46\": {\"46\": 128}, \"44\": {\"44\": 88}, \"40\": {\"40\": 116}, \"21\": {\"21\": 128}, \"45\": {\"45\": 60}, \"16\": {\"16\": 126}, \"14\": {\"14\": 40}, \"36\": {\"36\": 100}, \"56\": {\"56\": 114}, \"10\": {\"10\": 64}, \"18\": {\"18\": 84}, \"48\": {\"48\": 116}, \"38\": {\"38\": 28}, \"27\": {\"27\": 130}, \"42\": {\"42\": 28}, \"15\": {\"15\": 134}, \"1\": {\"1\": 100}, \"28\": {\"28\": 28}, \"43\": {\"43\": 136}, \"0\": {\"0\": 124}, \"57\": {\"57\": 124}, \"3\": {\"3\": 148}, \"29\": {\"29\": 124}, \"41\": {\"41\": 28}, \"25\": {\"25\": 146}, \"6\": {\"6\": 88}, \"35\": {\"35\": 28}, \"20\": {\"20\": 126}, \"23\": {\"23\": 134}, \"22\": {\"22\": 140}, \"19\": {\"19\": 116}, \"55\": {\"55\": 124}, \"30\": {\"30\": 120}}, \"C_1\": {\"24\": {\"24\": 108}, \"25\": {\"25\": 140}, \"45\": {\"45\": 144}, \"42\": {\"42\": 40}, \"2\": {\"2\": 36}, \"9\": {\"9\": 150}, \"21\": {\"21\": 124}, \"26\": {\"26\": 24}, \"49\": {\"49\": 32}, \"39\": {\"39\": 28}, \"46\": {\"46\": 136}, \"17\": {\"17\": 64}, \"19\": {\"19\": 156}, \"23\": {\"23\": 132}, \"1\": {\"1\": 100}, \"29\": {\"29\": 140}, \"56\": {\"56\": 150}, \"37\": {\"37\": 32}, \"33\": {\"33\": 32}, \"55\": {\"55\": 142}, \"30\": {\"30\": 120}, \"0\": {\"0\": 152}, \"36\": {\"36\": 64}, \"32\": {\"32\": 32}, \"31\": {\"31\": 28}, \"15\": {\"15\": 138}, \"12\": {\"12\": 116}, \"38\": {\"38\": 24}, \"40\": {\"40\": 146}, \"14\": {\"14\": 24}, \"13\": {\"13\": 150}, \"48\": {\"48\": 148}, \"34\": {\"34\": 24}, \"44\": {\"44\": 130}, \"5\": {\"5\": 152}, \"11\": {\"11\": 140}, \"7\": {\"7\": 28}, \"18\": {\"18\": 72}, \"52\": {\"52\": 132}, \"51\": {\"51\": 142}, \"41\": {\"41\": 24}, \"16\": {\"16\": 140}, \"22\": {\"22\": 134}, \"3\": {\"3\": 140}, \"54\": {\"54\": 104}, \"27\": {\"27\": 144}, \"20\": {\"20\": 140}, \"8\": {\"8\": 138}, \"50\": {\"50\": 144}, \"57\": {\"57\": 140}, \"4\": {\"4\": 132}, \"47\": {\"47\": 146}, \"10\": {\"10\": 96}, \"35\": {\"35\": 36}, \"53\": {\"53\": 126}, \"6\": {\"6\": 96}, \"43\": {\"43\": 140}, \"28\": {\"28\": 28}}, \"C_5\": {\"35\": {\"35\": 36}, \"57\": {\"57\": 132}, \"20\": {\"20\": 144}, \"12\": {\"12\": 96}, \"32\": {\"32\": 32}, \"25\": {\"25\": 138}, \"44\": {\"44\": 148}, \"31\": {\"31\": 36}, \"11\": {\"11\": 150}, \"47\": {\"47\": 100}, \"23\": {\"23\": 124}, \"43\": {\"43\": 144}, \"37\": {\"37\": 24}, \"5\": {\"5\": 128}, \"45\": {\"45\": 124}, \"7\": {\"7\": 32}, \"13\": {\"13\": 136}, \"49\": {\"49\": 36}, \"46\": {\"46\": 148}, \"16\": {\"16\": 136}, \"54\": {\"54\": 112}, \"19\": {\"19\": 152}, \"55\": {\"55\": 150}, \"30\": {\"30\": 128}, \"34\": {\"34\": 36}, \"50\": {\"50\": 134}, \"3\": {\"3\": 100}, \"10\": {\"10\": 68}, \"27\": {\"27\": 142}, \"33\": {\"33\": 32}, \"56\": {\"56\": 142}, \"9\": {\"9\": 150}, \"14\": {\"14\": 43, \"31\": 1}, \"4\": {\"4\": 100}, \"42\": {\"42\": 40}, \"24\": {\"24\": 80}, \"39\": {\"39\": 20}, \"52\": {\"52\": 130}, \"2\": {\"2\": 28}, \"28\": {\"28\": 32}, \"53\": {\"53\": 122}, \"17\": {\"17\": 116}, \"29\": {\"29\": 132}, \"38\": {\"38\": 32}, \"15\": {\"15\": 144}, \"26\": {\"26\": 24}, \"21\": {\"21\": 144}, \"41\": {\"41\": 28}, \"48\": {\"48\": 136}, \"22\": {\"22\": 28}, \"8\": {\"8\": 148}, \"18\": {\"18\": 64}, \"0\": {\"0\": 122}, \"1\": {\"1\": 138}, \"40\": {\"40\": 124}, \"6\": {\"6\": 128}, \"51\": {\"51\": 142}, \"36\": {\"36\": 92}}, \"O_50\": {\"7\": {\"4\": 16, \"10\": 28, \"15\": 9, \"6\": 23, \"1\": 13, \"5\": 43, \"13\": 40, \"7\": 38, \"8\": 11, \"12\": 1, \"0\": 5, \"3\": 8, \"2\": 3, \"14\": 1, \"11\": 1}, \"10\": {\"2\": 20, \"8\": 34, \"13\": 19, \"5\": 19, \"0\": 41, \"4\": 6, \"10\": 44, \"1\": 4, \"3\": 17, \"7\": 25, \"6\": 8, \"14\": 2, \"15\": 1}, \"0\": {\"6\": 5, \"0\": 46, \"13\": 15, \"10\": 43, \"4\": 6, \"8\": 29, \"2\": 46, \"7\": 8, \"14\": 10, \"5\": 16, \"15\": 3, \"1\": 8, \"11\": 2, \"3\": 2, \"12\": 1}, \"11\": {\"12\": 24, \"11\": 57, \"1\": 24, \"9\": 55, \"0\": 1, \"15\": 18, \"4\": 20, \"2\": 4, \"14\": 24, \"6\": 3, \"5\": 5, \"13\": 4, \"10\": 1}, \"2\": {\"2\": 76, \"0\": 53, \"4\": 4, \"14\": 24, \"10\": 16, \"12\": 9, \"1\": 8, \"8\": 10, \"13\": 10, \"5\": 9, \"11\": 4, \"6\": 9, \"9\": 3, \"7\": 3, \"15\": 2}, \"14\": {\"12\": 41, \"14\": 51, \"9\": 37, \"6\": 11, \"11\": 26, \"2\": 19, \"10\": 2, \"15\": 10, \"1\": 16, \"0\": 5, \"5\": 8, \"13\": 7, \"4\": 7}, \"9\": {\"1\": 23, \"14\": 31, \"9\": 69, \"12\": 50, \"11\": 42, \"5\": 3, \"15\": 11, \"0\": 2, \"2\": 2, \"4\": 7}, \"13\": {\"13\": 30, \"0\": 16, \"4\": 19, \"6\": 33, \"5\": 33, \"7\": 37, \"1\": 17, \"10\": 17, \"15\": 14, \"14\": 4, \"8\": 10, \"2\": 5, \"9\": 1, \"11\": 2, \"3\": 2}, \"8\": {\"10\": 43, \"3\": 39, \"8\": 90, \"2\": 11, \"0\": 32, \"13\": 6, \"5\": 7, \"7\": 10, \"1\": 1, \"6\": 1}, \"15\": {\"15\": 45, \"6\": 36, \"5\": 14, \"9\": 10, \"13\": 17, \"4\": 33, \"14\": 8, \"11\": 19, \"1\": 34, \"2\": 2, \"7\": 9, \"10\": 6, \"12\": 4, \"0\": 3}, \"4\": {\"4\": 30, \"14\": 14, \"7\": 21, \"1\": 38, \"13\": 25, \"5\": 20, \"6\": 24, \"11\": 20, \"15\": 19, \"9\": 7, \"0\": 7, \"10\": 8, \"2\": 4, \"12\": 3}, \"5\": {\"4\": 20, \"10\": 19, \"11\": 5, \"13\": 33, \"5\": 36, \"7\": 35, \"1\": 24, \"14\": 7, \"15\": 11, \"6\": 19, \"0\": 16, \"8\": 7, \"2\": 6, \"3\": 1, \"12\": 1}, \"3\": {\"8\": 76, \"3\": 128, \"0\": 4, \"10\": 18, \"7\": 10, \"1\": 1, \"2\": 1, \"13\": 1, \"5\": 1}, \"1\": {\"13\": 20, \"12\": 9, \"10\": 6, \"4\": 20, \"6\": 24, \"11\": 20, \"9\": 13, \"5\": 11, \"2\": 10, \"14\": 13, \"1\": 49, \"15\": 27, \"0\": 10, \"7\": 8}, \"6\": {\"1\": 22, \"13\": 22, \"4\": 31, \"7\": 29, \"6\": 43, \"15\": 26, \"12\": 3, \"0\": 6, \"10\": 12, \"5\": 21, \"11\": 11, \"9\": 3, \"2\": 5, \"14\": 5, \"3\": 1}, \"12\": {\"12\": 58, \"14\": 53, \"2\": 17, \"11\": 32, \"9\": 47, \"5\": 2, \"4\": 4, \"1\": 11, \"15\": 7, \"6\": 4, \"0\": 2, \"10\": 2, \"7\": 1}}, \"O_14\": {\"14\": {\"3\": 33, \"2\": 36, \"0\": 10, \"4\": 13, \"14\": 36, \"6\": 30, \"11\": 3, \"13\": 30, \"10\": 20, \"5\": 15, \"15\": 3, \"1\": 6, \"7\": 5}, \"6\": {\"14\": 37, \"6\": 48, \"13\": 40, \"15\": 15, \"2\": 32, \"3\": 20, \"7\": 6, \"5\": 18, \"10\": 8, \"4\": 9, \"11\": 1, \"1\": 4, \"0\": 2}, \"5\": {\"7\": 20, \"5\": 32, \"4\": 34, \"6\": 13, \"14\": 20, \"1\": 28, \"2\": 28, \"0\": 11, \"13\": 12, \"10\": 13, \"11\": 4, \"3\": 15, \"15\": 6, \"9\": 1, \"8\": 3}, \"15\": {\"15\": 70, \"5\": 23, \"14\": 6, \"13\": 32, \"6\": 21, \"4\": 14, \"7\": 46, \"2\": 15, \"1\": 10, \"3\": 3}, \"11\": {\"12\": 21, \"0\": 53, \"4\": 6, \"11\": 67, \"10\": 14, \"3\": 18, \"9\": 28, \"5\": 2, \"8\": 6, \"14\": 13, \"1\": 4, \"2\": 4, \"13\": 3, \"6\": 1}, \"8\": {\"3\": 16, \"8\": 81, \"4\": 10, \"0\": 18, \"7\": 2, \"1\": 36, \"11\": 12, \"9\": 21, \"5\": 12, \"12\": 12, \"14\": 5, \"2\": 3, \"13\": 1, \"10\": 11}, \"12\": {\"8\": 12, \"12\": 107, \"9\": 83, \"11\": 19, \"0\": 15, \"3\": 2, \"10\": 1, \"4\": 1}, \"1\": {\"6\": 9, \"8\": 10, \"3\": 28, \"2\": 19, \"7\": 22, \"5\": 41, \"0\": 6, \"10\": 16, \"1\": 40, \"15\": 9, \"4\": 18, \"14\": 17, \"11\": 1, \"13\": 4}, \"2\": {\"6\": 26, \"1\": 23, \"13\": 24, \"3\": 28, \"14\": 26, \"7\": 8, \"0\": 5, \"4\": 22, \"5\": 28, \"2\": 27, \"15\": 10, \"10\": 13}, \"13\": {\"3\": 11, \"13\": 47, \"6\": 37, \"2\": 32, \"14\": 30, \"4\": 20, \"15\": 14, \"7\": 13, \"10\": 9, \"5\": 16, \"0\": 6, \"1\": 3, \"11\": 2}, \"3\": {\"0\": 20, \"14\": 12, \"2\": 22, \"3\": 36, \"7\": 4, \"8\": 6, \"10\": 28, \"4\": 28, \"13\": 8, \"11\": 10, \"5\": 29, \"6\": 12, \"1\": 23, \"15\": 2}, \"0\": {\"0\": 44, \"11\": 41, \"4\": 12, \"10\": 32, \"8\": 9, \"1\": 12, \"5\": 9, \"13\": 8, \"14\": 16, \"6\": 9, \"3\": 22, \"2\": 10, \"9\": 12, \"12\": 2, \"15\": 1, \"7\": 1}, \"9\": {\"0\": 24, \"9\": 79, \"12\": 66, \"4\": 1, \"8\": 20, \"11\": 30, \"10\": 6, \"3\": 11, \"14\": 1, \"1\": 1, \"5\": 1}, \"4\": {\"11\": 5, \"14\": 11, \"4\": 30, \"1\": 22, \"3\": 18, \"7\": 20, \"10\": 19, \"6\": 11, \"5\": 39, \"2\": 24, \"15\": 10, \"0\": 13, \"13\": 13, \"8\": 5}, \"7\": {\"4\": 20, \"1\": 15, \"15\": 45, \"13\": 12, \"14\": 7, \"7\": 67, \"6\": 11, \"5\": 28, \"3\": 9, \"2\": 18, \"10\": 2, \"8\": 4, \"11\": 1, \"0\": 1}, \"10\": {\"11\": 15, \"14\": 16, \"0\": 30, \"10\": 48, \"3\": 29, \"5\": 18, \"13\": 13, \"1\": 12, \"4\": 27, \"2\": 14, \"6\": 9, \"9\": 6, \"8\": 2, \"15\": 1}}, \"O_32\": {\"4\": {\"7\": 35, \"5\": 28, \"3\": 6, \"4\": 29, \"13\": 36, \"14\": 8, \"2\": 32, \"11\": 10, \"8\": 20, \"0\": 28, \"9\": 8}, \"14\": {\"2\": 16, \"7\": 38, \"5\": 16, \"14\": 42, \"0\": 19, \"11\": 58, \"8\": 13, \"4\": 12, \"13\": 18, \"3\": 8}, \"5\": {\"2\": 17, \"13\": 34, \"8\": 22, \"3\": 27, \"4\": 28, \"5\": 31, \"14\": 27, \"11\": 16, \"7\": 28, \"0\": 9, \"15\": 1}, \"10\": {\"6\": 24, \"1\": 55, \"10\": 139, \"12\": 21, \"9\": 1}, \"13\": {\"2\": 14, \"8\": 34, \"0\": 30, \"5\": 29, \"4\": 21, \"13\": 34, \"14\": 16, \"3\": 27, \"11\": 11, \"7\": 23, \"15\": 1}, \"9\": {\"9\": 118, \"12\": 66, \"2\": 29, \"10\": 1, \"4\": 13, \"0\": 6, \"7\": 3, \"8\": 1, \"14\": 1, \"5\": 1, \"13\": 1}, \"6\": {\"6\": 146, \"10\": 36, \"1\": 19, \"9\": 14, \"12\": 25}, \"3\": {\"3\": 64, \"8\": 39, \"0\": 6, \"13\": 41, \"15\": 16, \"4\": 7, \"5\": 19, \"14\": 16, \"7\": 13, \"11\": 18, \"2\": 1}, \"15\": {\"15\": 187, \"3\": 31, \"0\": 2, \"8\": 12, \"13\": 6, \"5\": 1, \"14\": 1}, \"7\": {\"2\": 30, \"8\": 18, \"14\": 22, \"7\": 42, \"5\": 24, \"4\": 23, \"11\": 31, \"13\": 16, \"0\": 24, \"3\": 9, \"15\": 1}, \"12\": {\"12\": 116, \"9\": 81, \"10\": 19, \"6\": 20, \"2\": 2, \"1\": 1, \"4\": 1}, \"8\": {\"7\": 11, \"11\": 26, \"5\": 21, \"14\": 18, \"15\": 12, \"0\": 30, \"3\": 28, \"8\": 35, \"4\": 16, \"13\": 36, \"2\": 6, \"9\": 1}, \"11\": {\"13\": 22, \"11\": 69, \"14\": 41, \"0\": 23, \"3\": 10, \"7\": 27, \"5\": 16, \"4\": 8, \"8\": 16, \"2\": 8}, \"2\": {\"2\": 61, \"3\": 2, \"4\": 36, \"0\": 26, \"8\": 13, \"14\": 15, \"11\": 19, \"7\": 32, \"5\": 20, \"13\": 15, \"9\": 1}, \"1\": {\"1\": 146, \"6\": 26, \"10\": 68}, \"0\": {\"0\": 43, \"2\": 16, \"4\": 25, \"13\": 22, \"5\": 21, \"7\": 34, \"8\": 21, \"14\": 25, \"3\": 8, \"9\": 5, \"11\": 19, \"12\": 1}}, \"O_44\": {\"8\": {\"0\": 64, \"5\": 43, \"15\": 38, \"8\": 76, \"14\": 14, \"4\": 5}, \"11\": {\"9\": 24, \"13\": 31, \"7\": 26, \"6\": 42, \"11\": 83, \"14\": 1, \"2\": 16, \"1\": 4, \"12\": 2, \"10\": 5, \"3\": 4, \"4\": 1, \"5\": 1}, \"14\": {\"4\": 62, \"15\": 39, \"14\": 55, \"8\": 11, \"5\": 32, \"0\": 18, \"9\": 7, \"13\": 4, \"2\": 1, \"3\": 10, \"1\": 1}, \"10\": {\"13\": 7, \"3\": 9, \"10\": 62, \"1\": 30, \"9\": 15, \"2\": 37, \"11\": 6, \"12\": 44, \"7\": 23, \"6\": 7}, \"3\": {\"3\": 92, \"12\": 33, \"1\": 47, \"7\": 26, \"14\": 2, \"10\": 12, \"2\": 17, \"4\": 1, \"9\": 6, \"15\": 1, \"6\": 1, \"13\": 2}, \"15\": {\"15\": 64, \"0\": 44, \"5\": 35, \"8\": 42, \"4\": 27, \"14\": 28}, \"2\": {\"11\": 6, \"7\": 34, \"2\": 39, \"12\": 22, \"6\": 20, \"10\": 40, \"13\": 16, \"1\": 28, \"3\": 16, \"9\": 19}, \"12\": {\"12\": 86, \"2\": 15, \"7\": 14, \"1\": 48, \"3\": 37, \"10\": 35, \"9\": 3, \"6\": 1, \"11\": 1}, \"4\": {\"4\": 74, \"0\": 15, \"14\": 55, \"5\": 35, \"3\": 4, \"15\": 21, \"8\": 5, \"13\": 14, \"2\": 1, \"9\": 11, \"7\": 5}, \"1\": {\"12\": 55, \"10\": 32, \"3\": 37, \"6\": 4, \"1\": 62, \"7\": 23, \"2\": 19, \"9\": 5, \"11\": 2, \"13\": 1}, \"0\": {\"0\": 65, \"14\": 10, \"8\": 56, \"15\": 52, \"5\": 41, \"4\": 16}, \"9\": {\"13\": 34, \"7\": 38, \"9\": 46, \"2\": 38, \"6\": 28, \"14\": 5, \"4\": 5, \"11\": 9, \"3\": 17, \"10\": 5, \"1\": 10, \"12\": 5}, \"5\": {\"0\": 38, \"5\": 62, \"8\": 38, \"4\": 30, \"15\": 34, \"14\": 38}, \"6\": {\"2\": 15, \"11\": 24, \"13\": 50, \"7\": 29, \"6\": 66, \"9\": 46, \"10\": 3, \"4\": 2, \"1\": 1, \"3\": 3, \"14\": 1}, \"7\": {\"9\": 28, \"2\": 30, \"7\": 53, \"12\": 15, \"6\": 22, \"3\": 17, \"10\": 24, \"13\": 26, \"1\": 15, \"11\": 10}, \"13\": {\"3\": 4, \"11\": 32, \"13\": 31, \"6\": 43, \"4\": 12, \"2\": 17, \"9\": 53, \"7\": 34, \"12\": 3, \"10\": 5, \"1\": 4, \"14\": 2}}, \"O_8\": {\"13\": {\"6\": 20, \"12\": 3, \"5\": 17, \"4\": 31, \"7\": 19, \"8\": 9, \"13\": 40, \"1\": 9, \"11\": 8, \"0\": 30, \"10\": 22, \"14\": 21, \"2\": 4, \"3\": 3, \"15\": 3, \"9\": 1}, \"3\": {\"8\": 17, \"12\": 30, \"2\": 56, \"7\": 21, \"3\": 46, \"6\": 11, \"0\": 9, \"13\": 7, \"15\": 27, \"4\": 5, \"14\": 5, \"10\": 4, \"1\": 2}, \"15\": {\"15\": 35, \"8\": 32, \"12\": 25, \"4\": 14, \"7\": 19, \"2\": 24, \"11\": 10, \"3\": 19, \"13\": 10, \"14\": 8, \"6\": 18, \"10\": 3, \"0\": 9, \"5\": 4, \"1\": 10}, \"4\": {\"7\": 24, \"3\": 6, \"4\": 35, \"10\": 22, \"0\": 20, \"11\": 15, \"14\": 23, \"13\": 22, \"15\": 8, \"2\": 5, \"1\": 15, \"12\": 4, \"5\": 12, \"6\": 23, \"8\": 6}, \"7\": {\"5\": 8, \"13\": 27, \"11\": 14, \"7\": 27, \"14\": 18, \"8\": 10, \"10\": 16, \"4\": 28, \"3\": 9, \"2\": 21, \"12\": 5, \"15\": 10, \"0\": 18, \"6\": 22, \"1\": 7}, \"2\": {\"7\": 24, \"12\": 22, \"3\": 45, \"0\": 21, \"2\": 52, \"11\": 4, \"15\": 15, \"4\": 5, \"13\": 11, \"14\": 4, \"6\": 15, \"8\": 9, \"10\": 9, \"1\": 3, \"5\": 1}, \"1\": {\"7\": 12, \"13\": 23, \"1\": 31, \"14\": 25, \"11\": 37, \"4\": 22, \"10\": 20, \"15\": 9, \"5\": 23, \"12\": 2, \"6\": 14, \"8\": 13, \"0\": 8, \"2\": 1}, \"0\": {\"7\": 30, \"8\": 10, \"5\": 10, \"11\": 8, \"0\": 31, \"4\": 26, \"6\": 19, \"2\": 20, \"3\": 4, \"14\": 17, \"15\": 6, \"1\": 13, \"10\": 19, \"13\": 19, \"12\": 8}, \"12\": {\"2\": 27, \"0\": 8, \"8\": 28, \"12\": 55, \"7\": 16, \"14\": 7, \"15\": 30, \"1\": 8, \"3\": 30, \"6\": 11, \"5\": 1, \"10\": 4, \"4\": 7, \"13\": 5, \"11\": 3}, \"6\": {\"0\": 18, \"8\": 10, \"3\": 5, \"4\": 20, \"7\": 27, \"10\": 22, \"15\": 12, \"1\": 14, \"5\": 11, \"2\": 11, \"14\": 27, \"6\": 24, \"11\": 11, \"12\": 7, \"13\": 21}, \"11\": {\"12\": 5, \"4\": 23, \"11\": 41, \"10\": 14, \"13\": 13, \"5\": 21, \"1\": 34, \"0\": 8, \"14\": 25, \"6\": 14, \"15\": 10, \"8\": 23, \"7\": 8, \"2\": 1}, \"9\": {\"6\": 2, \"9\": 160, \"14\": 10, \"0\": 10, \"5\": 17, \"13\": 16, \"10\": 15, \"11\": 2, \"4\": 5, \"7\": 2, \"1\": 1}, \"5\": {\"0\": 24, \"5\": 42, \"4\": 24, \"6\": 18, \"13\": 19, \"7\": 10, \"10\": 26, \"14\": 26, \"1\": 21, \"3\": 1, \"11\": 20, \"12\": 2, \"8\": 3, \"9\": 3, \"15\": 1}, \"10\": {\"0\": 28, \"4\": 21, \"10\": 32, \"7\": 17, \"14\": 19, \"1\": 11, \"13\": 28, \"6\": 22, \"11\": 15, \"5\": 26, \"15\": 6, \"2\": 4, \"9\": 2, \"8\": 4, \"3\": 4, \"12\": 1}, \"14\": {\"11\": 23, \"14\": 32, \"4\": 24, \"13\": 28, \"0\": 19, \"6\": 22, \"10\": 25, \"15\": 7, \"5\": 17, \"1\": 11, \"8\": 8, \"9\": 1, \"7\": 15, \"3\": 2, \"2\": 4, \"12\": 2}, \"8\": {\"3\": 18, \"12\": 21, \"8\": 37, \"1\": 20, \"4\": 17, \"7\": 11, \"6\": 21, \"11\": 22, \"5\": 8, \"14\": 10, \"15\": 23, \"2\": 14, \"13\": 12, \"10\": 2, \"0\": 4}}, \"O_20\": {\"6\": {\"7\": 15, \"6\": 31, \"4\": 26, \"10\": 22, \"15\": 5, \"9\": 14, \"3\": 13, \"1\": 5, \"11\": 8, \"2\": 13, \"12\": 15, \"8\": 26, \"0\": 7, \"14\": 27, \"5\": 7, \"13\": 6}, \"11\": {\"1\": 13, \"2\": 23, \"8\": 6, \"5\": 7, \"15\": 7, \"11\": 67, \"12\": 9, \"13\": 19, \"3\": 15, \"9\": 25, \"7\": 14, \"6\": 11, \"0\": 7, \"4\": 7, \"14\": 8, \"10\": 2}, \"5\": {\"12\": 17, \"9\": 21, \"1\": 16, \"10\": 10, \"0\": 26, \"13\": 15, \"15\": 16, \"3\": 15, \"8\": 16, \"14\": 6, \"5\": 22, \"4\": 15, \"7\": 17, \"2\": 17, \"11\": 6, \"6\": 5}, \"14\": {\"14\": 43, \"8\": 27, \"4\": 24, \"10\": 28, \"2\": 10, \"5\": 4, \"6\": 39, \"11\": 4, \"7\": 14, \"1\": 4, \"12\": 8, \"0\": 11, \"9\": 10, \"3\": 8, \"13\": 3, \"15\": 3}, \"2\": {\"3\": 21, \"5\": 21, \"9\": 18, \"10\": 10, \"1\": 19, \"12\": 18, \"2\": 19, \"15\": 10, \"13\": 24, \"7\": 21, \"0\": 11, \"4\": 8, \"11\": 19, \"8\": 11, \"6\": 6, \"14\": 4}, \"7\": {\"10\": 21, \"9\": 18, \"11\": 7, \"8\": 20, \"4\": 22, \"7\": 24, \"5\": 16, \"15\": 10, \"12\": 19, \"3\": 12, \"14\": 9, \"0\": 14, \"1\": 11, \"2\": 12, \"13\": 9, \"6\": 16}, \"3\": {\"12\": 20, \"4\": 17, \"13\": 15, \"9\": 17, \"0\": 16, \"15\": 16, \"14\": 6, \"3\": 28, \"7\": 26, \"2\": 13, \"11\": 4, \"10\": 7, \"8\": 13, \"1\": 14, \"5\": 16, \"6\": 12}, \"4\": {\"12\": 15, \"6\": 23, \"9\": 17, \"7\": 20, \"8\": 21, \"3\": 20, \"14\": 9, \"0\": 18, \"10\": 21, \"1\": 13, \"4\": 28, \"13\": 10, \"15\": 12, \"5\": 7, \"2\": 4, \"11\": 2}, \"9\": {\"11\": 10, \"12\": 16, \"9\": 28, \"8\": 11, \"7\": 22, \"4\": 9, \"1\": 17, \"13\": 13, \"0\": 12, \"2\": 25, \"5\": 13, \"15\": 14, \"3\": 25, \"6\": 14, \"10\": 7, \"14\": 4}, \"12\": {\"7\": 21, \"1\": 19, \"3\": 19, \"4\": 18, \"2\": 18, \"15\": 17, \"10\": 9, \"9\": 18, \"12\": 24, \"13\": 16, \"8\": 11, \"11\": 8, \"0\": 16, \"14\": 7, \"5\": 12, \"6\": 7}, \"0\": {\"1\": 26, \"9\": 13, \"0\": 27, \"5\": 28, \"15\": 26, \"12\": 16, \"8\": 21, \"11\": 5, \"7\": 15, \"13\": 18, \"3\": 10, \"6\": 11, \"4\": 12, \"10\": 3, \"14\": 4, \"2\": 5}, \"10\": {\"8\": 17, \"1\": 9, \"4\": 33, \"15\": 3, \"3\": 13, \"6\": 30, \"10\": 28, \"14\": 28, \"11\": 2, \"7\": 24, \"2\": 8, \"12\": 14, \"5\": 9, \"9\": 13, \"13\": 4, \"0\": 5}, \"8\": {\"8\": 29, \"7\": 17, \"13\": 12, \"5\": 11, \"15\": 11, \"6\": 29, \"1\": 11, \"14\": 23, \"10\": 9, \"0\": 17, \"9\": 9, \"4\": 16, \"2\": 16, \"3\": 13, \"12\": 9, \"11\": 8}, \"13\": {\"1\": 30, \"12\": 22, \"8\": 8, \"15\": 18, \"0\": 19, \"2\": 27, \"9\": 14, \"13\": 26, \"14\": 4, \"11\": 13, \"4\": 6, \"5\": 18, \"7\": 19, \"3\": 13, \"6\": 3}, \"1\": {\"12\": 22, \"5\": 20, \"4\": 17, \"2\": 19, \"15\": 16, \"9\": 19, \"3\": 23, \"13\": 20, \"7\": 17, \"8\": 11, \"11\": 5, \"1\": 27, \"6\": 2, \"10\": 7, \"0\": 12, \"14\": 3}, \"15\": {\"15\": 39, \"13\": 24, \"0\": 23, \"9\": 21, \"5\": 28, \"12\": 18, \"1\": 15, \"3\": 15, \"6\": 4, \"10\": 3, \"2\": 19, \"4\": 8, \"7\": 12, \"8\": 7, \"11\": 3, \"14\": 1}}, \"O_38\": {\"3\": {\"3\": 103, \"15\": 2, \"9\": 34, \"6\": 17, \"7\": 17, \"0\": 30, \"8\": 16, \"13\": 1, \"10\": 3, \"5\": 16, \"1\": 1}, \"8\": {\"5\": 33, \"10\": 23, \"0\": 25, \"9\": 20, \"15\": 17, \"8\": 36, \"14\": 4, \"1\": 18, \"6\": 15, \"7\": 24, \"13\": 11, \"3\": 6, \"2\": 6, \"12\": 2}, \"0\": {\"5\": 23, \"7\": 31, \"3\": 22, \"0\": 54, \"12\": 12, \"8\": 38, \"10\": 18, \"4\": 5, \"13\": 5, \"15\": 13, \"9\": 10, \"6\": 1, \"1\": 4, \"14\": 3, \"11\": 1}, \"2\": {\"8\": 10, \"10\": 20, \"14\": 45, \"2\": 76, \"1\": 15, \"15\": 29, \"13\": 22, \"11\": 8, \"0\": 5, \"5\": 6, \"12\": 4}, \"4\": {\"12\": 70, \"4\": 138, \"11\": 5, \"10\": 5, \"0\": 7, \"14\": 5, \"7\": 7, \"15\": 1, \"5\": 1, \"13\": 1}, \"7\": {\"12\": 7, \"7\": 74, \"9\": 10, \"3\": 9, \"8\": 29, \"5\": 31, \"4\": 4, \"6\": 17, \"0\": 26, \"15\": 7, \"10\": 18, \"13\": 5, \"1\": 2, \"14\": 1}, \"12\": {\"12\": 133, \"4\": 57, \"0\": 9, \"10\": 8, \"14\": 16, \"8\": 4, \"2\": 3, \"11\": 2, \"7\": 3, \"15\": 2, \"13\": 2, \"5\": 1}, \"6\": {\"6\": 78, \"1\": 25, \"9\": 59, \"8\": 17, \"5\": 30, \"15\": 12, \"0\": 5, \"13\": 3, \"7\": 3, \"3\": 6, \"10\": 2}, \"15\": {\"13\": 27, \"0\": 11, \"10\": 16, \"1\": 39, \"15\": 44, \"8\": 22, \"14\": 11, \"6\": 11, \"5\": 21, \"2\": 28, \"7\": 7, \"9\": 2, \"11\": 1}, \"11\": {\"14\": 64, \"8\": 3, \"10\": 23, \"11\": 121, \"13\": 4, \"2\": 14, \"4\": 1, \"12\": 5, \"7\": 1, \"0\": 1, \"15\": 3}, \"9\": {\"6\": 69, \"13\": 7, \"9\": 62, \"1\": 17, \"5\": 23, \"8\": 19, \"3\": 19, \"15\": 8, \"14\": 1, \"0\": 10, \"7\": 4, \"10\": 1}, \"14\": {\"14\": 94, \"12\": 19, \"8\": 11, \"2\": 35, \"10\": 23, \"13\": 9, \"15\": 11, \"11\": 32, \"4\": 3, \"0\": 3}, \"10\": {\"15\": 18, \"7\": 15, \"5\": 19, \"2\": 20, \"14\": 19, \"13\": 19, \"10\": 48, \"8\": 31, \"12\": 11, \"0\": 17, \"1\": 4, \"9\": 5, \"11\": 6, \"4\": 4, \"6\": 4}, \"5\": {\"9\": 19, \"1\": 18, \"5\": 34, \"4\": 1, \"0\": 23, \"8\": 33, \"6\": 32, \"7\": 28, \"3\": 9, \"10\": 13, \"15\": 15, \"13\": 11, \"2\": 3, \"12\": 1}, \"1\": {\"6\": 43, \"13\": 29, \"1\": 63, \"5\": 14, \"15\": 39, \"9\": 20, \"2\": 11, \"8\": 12, \"14\": 2, \"10\": 3, \"3\": 1, \"0\": 3}, \"13\": {\"10\": 24, \"0\": 16, \"8\": 27, \"5\": 23, \"13\": 37, \"1\": 30, \"2\": 27, \"6\": 15, \"15\": 26, \"9\": 5, \"14\": 4, \"7\": 2, \"3\": 1, \"11\": 3}}, \"O_26\": {\"5\": {\"9\": 20, \"5\": 36, \"3\": 19, \"13\": 30, \"2\": 22, \"15\": 21, \"6\": 18, \"8\": 12, \"4\": 8, \"0\": 9, \"14\": 9, \"10\": 10, \"12\": 3, \"1\": 5, \"11\": 3, \"7\": 15}, \"8\": {\"8\": 24, \"3\": 17, \"4\": 12, \"13\": 11, \"6\": 16, \"7\": 14, \"0\": 21, \"15\": 15, \"5\": 21, \"1\": 18, \"14\": 16, \"10\": 26, \"2\": 17, \"9\": 9, \"12\": 2, \"11\": 1}, \"4\": {\"10\": 21, \"15\": 16, \"1\": 27, \"3\": 25, \"9\": 8, \"4\": 32, \"2\": 20, \"8\": 19, \"7\": 17, \"6\": 12, \"5\": 4, \"14\": 15, \"13\": 5, \"0\": 17, \"11\": 1, \"12\": 1}, \"12\": {\"8\": 10, \"9\": 17, \"10\": 8, \"6\": 37, \"13\": 17, \"15\": 11, \"12\": 78, \"1\": 2, \"11\": 29, \"5\": 5, \"0\": 13, \"2\": 2, \"7\": 2, \"4\": 5, \"3\": 1, \"14\": 3}, \"6\": {\"2\": 8, \"8\": 22, \"12\": 22, \"13\": 18, \"14\": 13, \"15\": 20, \"1\": 5, \"0\": 15, \"9\": 24, \"7\": 12, \"10\": 12, \"6\": 33, \"3\": 9, \"5\": 15, \"4\": 9, \"11\": 3}, \"7\": {\"2\": 20, \"7\": 25, \"15\": 14, \"8\": 15, \"14\": 26, \"4\": 28, \"3\": 25, \"5\": 11, \"13\": 9, \"9\": 15, \"1\": 18, \"6\": 11, \"0\": 10, \"10\": 12, \"11\": 1}, \"10\": {\"0\": 18, \"6\": 22, \"3\": 17, \"12\": 5, \"15\": 18, \"13\": 10, \"14\": 19, \"8\": 16, \"10\": 27, \"5\": 10, \"2\": 13, \"7\": 11, \"1\": 22, \"4\": 18, \"9\": 14}, \"0\": {\"0\": 30, \"14\": 34, \"2\": 18, \"8\": 14, \"10\": 32, \"4\": 32, \"5\": 4, \"6\": 13, \"3\": 6, \"15\": 14, \"7\": 12, \"13\": 3, \"1\": 17, \"9\": 8, \"12\": 3}, \"15\": {\"0\": 18, \"7\": 18, \"2\": 13, \"15\": 20, \"13\": 19, \"5\": 26, \"10\": 17, \"12\": 3, \"4\": 19, \"1\": 11, \"6\": 18, \"8\": 13, \"9\": 19, \"14\": 9, \"3\": 16, \"11\": 1}, \"9\": {\"7\": 16, \"6\": 24, \"12\": 9, \"2\": 14, \"15\": 24, \"0\": 18, \"9\": 33, \"13\": 13, \"5\": 17, \"1\": 8, \"4\": 11, \"8\": 13, \"14\": 8, \"10\": 11, \"3\": 20, \"11\": 1}, \"11\": {\"11\": 137, \"0\": 2, \"13\": 21, \"12\": 39, \"5\": 13, \"9\": 5, \"15\": 10, \"6\": 5, \"10\": 3, \"8\": 4, \"7\": 1}, \"14\": {\"7\": 15, \"6\": 10, \"1\": 24, \"14\": 29, \"15\": 15, \"3\": 11, \"10\": 22, \"0\": 22, \"8\": 27, \"5\": 9, \"9\": 11, \"4\": 23, \"2\": 16, \"12\": 1, \"13\": 5}, \"2\": {\"14\": 13, \"6\": 9, \"2\": 39, \"5\": 27, \"0\": 9, \"3\": 28, \"1\": 15, \"15\": 11, \"4\": 11, \"7\": 20, \"10\": 11, \"8\": 15, \"13\": 18, \"9\": 14}, \"13\": {\"3\": 15, \"5\": 32, \"15\": 19, \"13\": 31, \"6\": 13, \"0\": 5, \"11\": 7, \"7\": 16, \"9\": 24, \"12\": 6, \"14\": 4, \"2\": 28, \"10\": 12, \"8\": 13, \"1\": 9, \"4\": 6}, \"3\": {\"3\": 45, \"2\": 24, \"7\": 27, \"0\": 10, \"9\": 15, \"5\": 25, \"10\": 20, \"1\": 11, \"6\": 4, \"14\": 18, \"13\": 8, \"4\": 10, \"8\": 8, \"15\": 15}, \"1\": {\"0\": 19, \"1\": 38, \"5\": 7, \"3\": 19, \"4\": 21, \"2\": 15, \"7\": 24, \"10\": 27, \"6\": 5, \"8\": 17, \"15\": 11, \"9\": 11, \"14\": 22, \"13\": 3, \"11\": 1}}}, \"per_domain_accuracy\": {\"W_3\": {\"accuracy\": 0.9755731441048034, \"source?\": true}, \"W_2\": {\"accuracy\": 0.9591145833333333, \"source?\": true}, \"C_4\": {\"accuracy\": 0.9986742424242424, \"source?\": true}, \"W_1\": {\"accuracy\": 0.980270127118644, \"source?\": true}, \"W_4\": {\"accuracy\": 0.9681069958847737, \"source?\": true}, \"C_2\": {\"accuracy\": 1.0, \"source?\": true}, \"C_3\": {\"accuracy\": 0.9998139880952381, \"source?\": true}, \"C_1\": {\"accuracy\": 1.0, \"source?\": true}, \"C_5\": {\"accuracy\": 0.9998254189944135, \"source?\": true}, \"O_50\": {\"accuracy\": 0.23177083333333334, \"source?\": false}, \"O_14\": {\"accuracy\": 0.22369791666666666, \"source?\": false}, \"O_32\": {\"accuracy\": 0.3390625, \"source?\": false}, \"O_44\": {\"accuracy\": 0.26458333333333334, \"source?\": false}, \"O_8\": {\"accuracy\": 0.1875, \"source?\": false}, \"O_20\": {\"accuracy\": 0.12760416666666666, \"source?\": false}, \"O_38\": {\"accuracy\": 0.3111979166666667, \"source?\": false}, \"O_26\": {\"accuracy\": 0.17109375, \"source?\": false}}}, \"history\": {\"epoch_indices\": [1, 2, 3, 4, 5, 6, 7], \"train_label_loss\": [0.1195610722467412, 0.07095120318110965, 0.057347179252202396, 0.046712731220143064, 0.041408932560228665, 0.03393305610051581, 0.02941424534738937], \"source_val_label_loss\": [0.11095820367336273, 0.07347328215837479, 0.06666163355112076, 0.06484169512987137, 0.06456984579563141, 0.0633571669459343, 0.06573408097028732], \"target_val_label_loss\": [2.4267489910125732, 2.336866855621338, 2.353917121887207, 2.4077489376068115, 2.3958044052124023, 2.41825532913208, 2.7737302780151367], \"source_val_acc_label\": [0.9756753976961053, 0.9826693636862315, 0.9845892759188152, 0.9850349698299506, 0.9857206527701591, 0.9858235052111903, 0.9863377674163467], \"target_val_acc_label\": [0.20270182291666666, 0.22610677083333333, 0.23206380208333333, 0.22213541666666667, 0.22067057291666667, 0.2298828125, 0.1998046875]}, \"dataset_metrics\": {\"source\": {\"train\": {\"n_unique_x\": 364164, \"n_unique_y\": 130, \"n_batch/episode\": 13156}, \"val\": {\"n_unique_x\": 77236, \"n_unique_y\": 130, \"n_batch/episode\": 1823}, \"test\": {\"n_unique_x\": 78478, \"n_unique_y\": 130, \"n_batch/episode\": 1857}}, \"target\": {\"train\": {\"n_unique_x\": 179200, \"n_unique_y\": 16, \"n_batch/episode\": 6720}, \"val\": {\"n_unique_x\": 38400, \"n_unique_y\": 16, \"n_batch/episode\": 960}, \"test\": {\"n_unique_x\": 38400, \"n_unique_y\": 16, \"n_batch/episode\": 960}}}}'"
      ]
     },
     "execution_count": 29,
     "metadata": {},
     "output_type": "execute_result"
    }
   ],
   "source": [
    "json.dumps(experiment)"
   ]
  }
 ],
 "metadata": {
  "celltoolbar": "Tags",
  "kernelspec": {
   "display_name": "Python 3 (ipykernel)",
   "language": "python",
   "name": "python3"
  },
  "language_info": {
   "codemirror_mode": {
    "name": "ipython",
    "version": 3
   },
   "file_extension": ".py",
   "mimetype": "text/x-python",
   "name": "python",
   "nbconvert_exporter": "python",
   "pygments_lexer": "ipython3",
   "version": "3.8.10"
  },
  "papermill": {
   "default_parameters": {},
   "duration": 2436.361013,
   "end_time": "2022-03-20T20:03:03.233040",
   "environment_variables": {},
   "exception": null,
   "input_path": "/mnt/wd500GB/CSC500/csc500-main/csc500-notebooks/templates/tl_ptn_template.ipynb",
   "output_path": "trial.ipynb",
   "parameters": {
    "parameters": {
     "BEST_MODEL_PATH": "./best_model.pth",
     "NUM_LOGS_PER_EPOCH": 10,
     "criteria_for_best": "target_accuracy",
     "dataset_seed": 500,
     "datasets": [
      {
       "domain_prefix": "C_",
       "domains": [
        1,
        2,
        3,
        4,
        5
       ],
       "episode_transforms": [],
       "labels": [
        "1-10.",
        "1-11.",
        "1-15.",
        "1-16.",
        "1-17.",
        "1-18.",
        "1-19.",
        "10-4.",
        "10-7.",
        "11-1.",
        "11-14.",
        "11-17.",
        "11-20.",
        "11-7.",
        "13-20.",
        "13-8.",
        "14-10.",
        "14-11.",
        "14-14.",
        "14-7.",
        "15-1.",
        "15-20.",
        "16-1.",
        "16-16.",
        "17-10.",
        "17-11.",
        "17-2.",
        "19-1.",
        "19-16.",
        "19-19.",
        "19-20.",
        "19-3.",
        "2-10.",
        "2-11.",
        "2-17.",
        "2-18.",
        "2-20.",
        "2-3.",
        "2-4.",
        "2-5.",
        "2-6.",
        "2-7.",
        "2-8.",
        "3-13.",
        "3-18.",
        "3-3.",
        "4-1.",
        "4-10.",
        "4-11.",
        "4-19.",
        "5-5.",
        "6-15.",
        "7-10.",
        "7-14.",
        "8-18.",
        "8-20.",
        "8-3.",
        "8-8."
       ],
       "num_examples_per_domain_per_label": -1,
       "pickle_path": "/mnt/wd500GB/CSC500/csc500-main/datasets/cores.stratified_ds.2022A.pkl",
       "source_or_target_dataset": "source",
       "x_transforms": [
        "unit_mag",
        "take_200"
       ]
      },
      {
       "domain_prefix": "W_",
       "domains": [
        1,
        2,
        3,
        4
       ],
       "episode_transforms": [],
       "labels": [
        "1-10",
        "1-12",
        "1-14",
        "1-16",
        "1-18",
        "1-19",
        "1-8",
        "10-11",
        "10-17",
        "10-4",
        "10-7",
        "11-1",
        "11-10",
        "11-19",
        "11-20",
        "11-4",
        "11-7",
        "12-19",
        "12-20",
        "12-7",
        "13-14",
        "13-18",
        "13-19",
        "13-20",
        "13-3",
        "13-7",
        "14-10",
        "14-11",
        "14-12",
        "14-13",
        "14-14",
        "14-19",
        "14-20",
        "14-7",
        "14-8",
        "14-9",
        "15-1",
        "15-19",
        "15-6",
        "16-1",
        "16-16",
        "16-19",
        "16-20",
        "17-10",
        "17-11",
        "18-1",
        "18-10",
        "18-11",
        "18-12",
        "18-13",
        "18-14",
        "18-15",
        "18-16",
        "18-17",
        "18-19",
        "18-2",
        "18-20",
        "18-4",
        "18-5",
        "18-7",
        "18-8",
        "18-9",
        "19-1",
        "19-10",
        "19-11",
        "19-12",
        "19-13",
        "19-14",
        "19-15",
        "19-19",
        "19-2",
        "19-20",
        "19-3",
        "19-4",
        "19-6",
        "19-7",
        "19-8",
        "19-9",
        "2-1",
        "2-13",
        "2-15",
        "2-3",
        "2-4",
        "2-5",
        "2-6",
        "2-7",
        "2-8",
        "20-1",
        "20-12",
        "20-14",
        "20-15",
        "20-16",
        "20-18",
        "20-19",
        "20-20",
        "20-3",
        "20-4",
        "20-5",
        "20-7",
        "20-8",
        "3-1",
        "3-13",
        "3-18",
        "3-2",
        "3-8",
        "4-1",
        "4-10",
        "4-11",
        "5-1",
        "5-5",
        "6-1",
        "6-15",
        "6-6",
        "7-10",
        "7-11",
        "7-12",
        "7-13",
        "7-14",
        "7-7",
        "7-8",
        "7-9",
        "8-1",
        "8-13",
        "8-14",
        "8-18",
        "8-20",
        "8-3",
        "8-8",
        "9-1",
        "9-7"
       ],
       "num_examples_per_domain_per_label": -1,
       "pickle_path": "/mnt/wd500GB/CSC500/csc500-main/datasets/wisig.node3-19.stratified_ds.2022A.pkl",
       "source_or_target_dataset": "source",
       "x_transforms": [
        "unit_mag",
        "take_200"
       ]
      },
      {
       "domain_prefix": "O_",
       "domains": [
        32,
        38,
        8,
        44,
        14,
        50,
        20,
        26
       ],
       "episode_transforms": [],
       "labels": [
        "3123D52",
        "3123D65",
        "3123D79",
        "3123D80",
        "3123D54",
        "3123D70",
        "3123D7B",
        "3123D89",
        "3123D58",
        "3123D76",
        "3123D7D",
        "3123EFE",
        "3123D64",
        "3123D78",
        "3123D7E",
        "3124E4A"
       ],
       "num_examples_per_domain_per_label": 2000,
       "pickle_path": "/mnt/wd500GB/CSC500/csc500-main/datasets/oracle.Run1_framed_2000Examples_stratified_ds.2022A.pkl",
       "source_or_target_dataset": "target",
       "x_transforms": [
        "unit_mag",
        "take_200",
        "resample_20Msps_to_25Msps"
       ]
      }
     ],
     "device": "cuda",
     "experiment_name": "tl_3Av2:cores+wisig -> oracle.run1.framed",
     "lr": 0.0001,
     "n_epoch": 50,
     "n_query": 2,
     "n_shot": 3,
     "n_way": 16,
     "patience": 3,
     "seed": 500,
     "test_k_factor": 2,
     "torch_default_dtype": "torch.float32",
     "train_k_factor": 3,
     "val_k_factor": 2,
     "x_net": [
      {
       "class": "nnReshape",
       "kargs": {
        "shape": [
         -1,
         1,
         2,
         200
        ]
       }
      },
      {
       "class": "Conv2d",
       "kargs": {
        "bias": false,
        "in_channels": 1,
        "kernel_size": [
         1,
         7
        ],
        "out_channels": 256,
        "padding": [
         0,
         3
        ]
       }
      },
      {
       "class": "ReLU",
       "kargs": {
        "inplace": true
       }
      },
      {
       "class": "BatchNorm2d",
       "kargs": {
        "num_features": 256
       }
      },
      {
       "class": "Conv2d",
       "kargs": {
        "bias": true,
        "in_channels": 256,
        "kernel_size": [
         2,
         7
        ],
        "out_channels": 80,
        "padding": [
         0,
         3
        ]
       }
      },
      {
       "class": "ReLU",
       "kargs": {
        "inplace": true
       }
      },
      {
       "class": "BatchNorm2d",
       "kargs": {
        "num_features": 80
       }
      },
      {
       "class": "Flatten",
       "kargs": {}
      },
      {
       "class": "Linear",
       "kargs": {
        "in_features": 16000,
        "out_features": 256
       }
      },
      {
       "class": "ReLU",
       "kargs": {
        "inplace": true
       }
      },
      {
       "class": "BatchNorm1d",
       "kargs": {
        "num_features": 256
       }
      },
      {
       "class": "Linear",
       "kargs": {
        "in_features": 256,
        "out_features": 256
       }
      }
     ],
     "x_shape": [
      2,
      200
     ]
    }
   },
   "start_time": "2022-03-20T19:22:26.872027",
   "version": "2.3.4"
  }
 },
 "nbformat": 4,
 "nbformat_minor": 5
}