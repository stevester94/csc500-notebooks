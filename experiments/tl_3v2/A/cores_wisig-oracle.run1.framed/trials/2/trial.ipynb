{
 "cells": [
  {
   "cell_type": "markdown",
   "id": "9fea5f46",
   "metadata": {
    "papermill": {
     "duration": 0.018558,
     "end_time": "2022-03-20T07:50:32.055889",
     "exception": false,
     "start_time": "2022-03-20T07:50:32.037331",
     "status": "completed"
    },
    "tags": []
   },
   "source": [
    "# Transfer Learning Template"
   ]
  },
  {
   "cell_type": "code",
   "execution_count": 1,
   "id": "0902182a",
   "metadata": {
    "execution": {
     "iopub.execute_input": "2022-03-20T07:50:32.094098Z",
     "iopub.status.busy": "2022-03-20T07:50:32.093546Z",
     "iopub.status.idle": "2022-03-20T07:50:33.071987Z",
     "shell.execute_reply": "2022-03-20T07:50:33.072415Z"
    },
    "papermill": {
     "duration": 1.003628,
     "end_time": "2022-03-20T07:50:33.072614",
     "exception": false,
     "start_time": "2022-03-20T07:50:32.068986",
     "status": "completed"
    },
    "tags": []
   },
   "outputs": [],
   "source": [
    "%load_ext autoreload\n",
    "%autoreload 2\n",
    "%matplotlib inline\n",
    "\n",
    "    \n",
    "import os, json, sys, time, random\n",
    "import numpy as np\n",
    "import torch\n",
    "from torch.optim import Adam\n",
    "from  easydict import EasyDict\n",
    "import matplotlib.pyplot as plt\n",
    "\n",
    "from steves_models.steves_ptn import Steves_Prototypical_Network\n",
    "\n",
    "from steves_utils.lazy_iterable_wrapper import Lazy_Iterable_Wrapper\n",
    "from steves_utils.iterable_aggregator import Iterable_Aggregator\n",
    "from steves_utils.ptn_train_eval_test_jig import  PTN_Train_Eval_Test_Jig\n",
    "from steves_utils.torch_sequential_builder import build_sequential\n",
    "from steves_utils.torch_utils import get_dataset_metrics, ptn_confusion_by_domain_over_dataloader\n",
    "from steves_utils.utils_v2 import (per_domain_accuracy_from_confusion, get_datasets_base_path)\n",
    "from steves_utils.PTN.utils import independent_accuracy_assesment\n",
    "\n",
    "from torch.utils.data import DataLoader\n",
    "\n",
    "from steves_utils.stratified_dataset.episodic_accessor import Episodic_Accessor_Factory\n",
    "\n",
    "from steves_utils.ptn_do_report import (\n",
    "    get_loss_curve,\n",
    "    get_results_table,\n",
    "    get_parameters_table,\n",
    "    get_domain_accuracies,\n",
    ")\n",
    "\n",
    "from steves_utils.transforms import get_chained_transform"
   ]
  },
  {
   "cell_type": "markdown",
   "id": "41c840b4",
   "metadata": {
    "papermill": {
     "duration": 0.013564,
     "end_time": "2022-03-20T07:50:33.104005",
     "exception": false,
     "start_time": "2022-03-20T07:50:33.090441",
     "status": "completed"
    },
    "tags": []
   },
   "source": [
    "# Allowed Parameters\n",
    "These are allowed parameters, not defaults\n",
    "Each of these values need to be present in the injected parameters (the notebook will raise an exception if they are not present)\n",
    "\n",
    "Papermill uses the cell tag \"parameters\" to inject the real parameters below this cell.\n",
    "Enable tags to see what I mean"
   ]
  },
  {
   "cell_type": "code",
   "execution_count": 2,
   "id": "fd44eb83",
   "metadata": {
    "execution": {
     "iopub.execute_input": "2022-03-20T07:50:33.134716Z",
     "iopub.status.busy": "2022-03-20T07:50:33.134418Z",
     "iopub.status.idle": "2022-03-20T07:50:33.150550Z",
     "shell.execute_reply": "2022-03-20T07:50:33.150995Z"
    },
    "papermill": {
     "duration": 0.033281,
     "end_time": "2022-03-20T07:50:33.151132",
     "exception": false,
     "start_time": "2022-03-20T07:50:33.117851",
     "status": "completed"
    },
    "tags": []
   },
   "outputs": [],
   "source": [
    "required_parameters = {\n",
    "    \"experiment_name\",\n",
    "    \"lr\",\n",
    "    \"device\",\n",
    "    \"seed\",\n",
    "    \"dataset_seed\",\n",
    "    \"n_shot\",\n",
    "    \"n_query\",\n",
    "    \"n_way\",\n",
    "    \"train_k_factor\",\n",
    "    \"val_k_factor\",\n",
    "    \"test_k_factor\",\n",
    "    \"n_epoch\",\n",
    "    \"patience\",\n",
    "    \"criteria_for_best\",\n",
    "    \"x_net\",\n",
    "    \"datasets\",\n",
    "    \"torch_default_dtype\",\n",
    "    \"NUM_LOGS_PER_EPOCH\",\n",
    "    \"BEST_MODEL_PATH\",\n",
    "    \"x_shape\",\n",
    "}"
   ]
  },
  {
   "cell_type": "code",
   "execution_count": 3,
   "id": "fa3f0049",
   "metadata": {
    "execution": {
     "iopub.execute_input": "2022-03-20T07:50:33.193772Z",
     "iopub.status.busy": "2022-03-20T07:50:33.193185Z",
     "iopub.status.idle": "2022-03-20T07:50:33.205564Z",
     "shell.execute_reply": "2022-03-20T07:50:33.206004Z"
    },
    "papermill": {
     "duration": 0.036859,
     "end_time": "2022-03-20T07:50:33.206140",
     "exception": false,
     "start_time": "2022-03-20T07:50:33.169281",
     "status": "completed"
    },
    "tags": [
     "parameters"
    ]
   },
   "outputs": [],
   "source": [
    "from steves_utils.CORES.utils import (\n",
    "    ALL_NODES,\n",
    "    ALL_NODES_MINIMUM_1000_EXAMPLES,\n",
    "    ALL_DAYS\n",
    ")\n",
    "\n",
    "from steves_utils.ORACLE.utils_v2 import (\n",
    "    ALL_DISTANCES_FEET_NARROWED,\n",
    "    ALL_RUNS,\n",
    "    ALL_SERIAL_NUMBERS,\n",
    ")\n",
    "\n",
    "standalone_parameters = {}\n",
    "standalone_parameters[\"experiment_name\"] = \"STANDALONE PTN\"\n",
    "standalone_parameters[\"lr\"] = 0.001\n",
    "standalone_parameters[\"device\"] = \"cuda\"\n",
    "\n",
    "standalone_parameters[\"seed\"] = 1337\n",
    "standalone_parameters[\"dataset_seed\"] = 1337\n",
    "\n",
    "standalone_parameters[\"n_way\"] = 8\n",
    "standalone_parameters[\"n_shot\"] = 3\n",
    "standalone_parameters[\"n_query\"]  = 2\n",
    "standalone_parameters[\"train_k_factor\"] = 1\n",
    "standalone_parameters[\"val_k_factor\"] = 2\n",
    "standalone_parameters[\"test_k_factor\"] = 2\n",
    "\n",
    "\n",
    "standalone_parameters[\"n_epoch\"] = 50\n",
    "\n",
    "standalone_parameters[\"patience\"] = 10\n",
    "standalone_parameters[\"criteria_for_best\"] = \"source_loss\"\n",
    "\n",
    "standalone_parameters[\"datasets\"] = [\n",
    "    {\n",
    "        \"labels\": ALL_SERIAL_NUMBERS,\n",
    "        \"domains\": ALL_DISTANCES_FEET_NARROWED,\n",
    "        \"num_examples_per_domain_per_label\": 100,\n",
    "        \"pickle_path\": os.path.join(get_datasets_base_path(), \"oracle.Run1_framed_2000Examples_stratified_ds.2022A.pkl\"),\n",
    "        \"source_or_target_dataset\": \"source\",\n",
    "        \"x_transforms\": [\"unit_mag\", \"minus_two\"],\n",
    "        \"episode_transforms\": [],\n",
    "        \"domain_prefix\": \"ORACLE_\"\n",
    "    },\n",
    "    {\n",
    "        \"labels\": ALL_NODES,\n",
    "        \"domains\": ALL_DAYS,\n",
    "        \"num_examples_per_domain_per_label\": 100,\n",
    "        \"pickle_path\": os.path.join(get_datasets_base_path(), \"cores.stratified_ds.2022A.pkl\"),\n",
    "        \"source_or_target_dataset\": \"target\",\n",
    "        \"x_transforms\": [\"unit_power\", \"times_zero\"],\n",
    "        \"episode_transforms\": [],\n",
    "        \"domain_prefix\": \"CORES_\"\n",
    "    }   \n",
    "]\n",
    "\n",
    "standalone_parameters[\"torch_default_dtype\"] = \"torch.float32\" \n",
    "\n",
    "\n",
    "\n",
    "standalone_parameters[\"x_net\"] =     [\n",
    "    {\"class\": \"nnReshape\", \"kargs\": {\"shape\":[-1, 1, 2, 256]}},\n",
    "    {\"class\": \"Conv2d\", \"kargs\": { \"in_channels\":1, \"out_channels\":256, \"kernel_size\":(1,7), \"bias\":False, \"padding\":(0,3), },},\n",
    "    {\"class\": \"ReLU\", \"kargs\": {\"inplace\": True}},\n",
    "    {\"class\": \"BatchNorm2d\", \"kargs\": {\"num_features\":256}},\n",
    "\n",
    "    {\"class\": \"Conv2d\", \"kargs\": { \"in_channels\":256, \"out_channels\":80, \"kernel_size\":(2,7), \"bias\":True, \"padding\":(0,3), },},\n",
    "    {\"class\": \"ReLU\", \"kargs\": {\"inplace\": True}},\n",
    "    {\"class\": \"BatchNorm2d\", \"kargs\": {\"num_features\":80}},\n",
    "    {\"class\": \"Flatten\", \"kargs\": {}},\n",
    "\n",
    "    {\"class\": \"Linear\", \"kargs\": {\"in_features\": 80*256, \"out_features\": 256}}, # 80 units per IQ pair\n",
    "    {\"class\": \"ReLU\", \"kargs\": {\"inplace\": True}},\n",
    "    {\"class\": \"BatchNorm1d\", \"kargs\": {\"num_features\":256}},\n",
    "\n",
    "    {\"class\": \"Linear\", \"kargs\": {\"in_features\": 256, \"out_features\": 256}},\n",
    "]\n",
    "\n",
    "# Parameters relevant to results\n",
    "# These parameters will basically never need to change\n",
    "standalone_parameters[\"NUM_LOGS_PER_EPOCH\"] = 10\n",
    "standalone_parameters[\"BEST_MODEL_PATH\"] = \"./best_model.pth\"\n",
    "\n",
    "\n",
    "\n",
    "\n"
   ]
  },
  {
   "cell_type": "code",
   "execution_count": 4,
   "id": "09e7da37",
   "metadata": {
    "execution": {
     "iopub.execute_input": "2022-03-20T07:50:33.250606Z",
     "iopub.status.busy": "2022-03-20T07:50:33.249239Z",
     "iopub.status.idle": "2022-03-20T07:50:33.263990Z",
     "shell.execute_reply": "2022-03-20T07:50:33.263516Z"
    },
    "papermill": {
     "duration": 0.040845,
     "end_time": "2022-03-20T07:50:33.264102",
     "exception": false,
     "start_time": "2022-03-20T07:50:33.223257",
     "status": "completed"
    },
    "tags": [
     "injected-parameters"
    ]
   },
   "outputs": [],
   "source": [
    "# Parameters\n",
    "parameters = {\n",
    "    \"experiment_name\": \"tl_3Av2:cores+wisig -> oracle.run1.framed\",\n",
    "    \"device\": \"cuda\",\n",
    "    \"lr\": 0.0001,\n",
    "    \"x_shape\": [2, 200],\n",
    "    \"n_shot\": 3,\n",
    "    \"n_query\": 2,\n",
    "    \"train_k_factor\": 3,\n",
    "    \"val_k_factor\": 2,\n",
    "    \"test_k_factor\": 2,\n",
    "    \"torch_default_dtype\": \"torch.float32\",\n",
    "    \"n_epoch\": 50,\n",
    "    \"patience\": 3,\n",
    "    \"criteria_for_best\": \"target_accuracy\",\n",
    "    \"x_net\": [\n",
    "        {\"class\": \"nnReshape\", \"kargs\": {\"shape\": [-1, 1, 2, 200]}},\n",
    "        {\n",
    "            \"class\": \"Conv2d\",\n",
    "            \"kargs\": {\n",
    "                \"in_channels\": 1,\n",
    "                \"out_channels\": 256,\n",
    "                \"kernel_size\": [1, 7],\n",
    "                \"bias\": False,\n",
    "                \"padding\": [0, 3],\n",
    "            },\n",
    "        },\n",
    "        {\"class\": \"ReLU\", \"kargs\": {\"inplace\": True}},\n",
    "        {\"class\": \"BatchNorm2d\", \"kargs\": {\"num_features\": 256}},\n",
    "        {\n",
    "            \"class\": \"Conv2d\",\n",
    "            \"kargs\": {\n",
    "                \"in_channels\": 256,\n",
    "                \"out_channels\": 80,\n",
    "                \"kernel_size\": [2, 7],\n",
    "                \"bias\": True,\n",
    "                \"padding\": [0, 3],\n",
    "            },\n",
    "        },\n",
    "        {\"class\": \"ReLU\", \"kargs\": {\"inplace\": True}},\n",
    "        {\"class\": \"BatchNorm2d\", \"kargs\": {\"num_features\": 80}},\n",
    "        {\"class\": \"Flatten\", \"kargs\": {}},\n",
    "        {\"class\": \"Linear\", \"kargs\": {\"in_features\": 16000, \"out_features\": 256}},\n",
    "        {\"class\": \"ReLU\", \"kargs\": {\"inplace\": True}},\n",
    "        {\"class\": \"BatchNorm1d\", \"kargs\": {\"num_features\": 256}},\n",
    "        {\"class\": \"Linear\", \"kargs\": {\"in_features\": 256, \"out_features\": 256}},\n",
    "    ],\n",
    "    \"NUM_LOGS_PER_EPOCH\": 10,\n",
    "    \"BEST_MODEL_PATH\": \"./best_model.pth\",\n",
    "    \"n_way\": 16,\n",
    "    \"datasets\": [\n",
    "        {\n",
    "            \"labels\": [\n",
    "                \"1-10.\",\n",
    "                \"1-11.\",\n",
    "                \"1-15.\",\n",
    "                \"1-16.\",\n",
    "                \"1-17.\",\n",
    "                \"1-18.\",\n",
    "                \"1-19.\",\n",
    "                \"10-4.\",\n",
    "                \"10-7.\",\n",
    "                \"11-1.\",\n",
    "                \"11-14.\",\n",
    "                \"11-17.\",\n",
    "                \"11-20.\",\n",
    "                \"11-7.\",\n",
    "                \"13-20.\",\n",
    "                \"13-8.\",\n",
    "                \"14-10.\",\n",
    "                \"14-11.\",\n",
    "                \"14-14.\",\n",
    "                \"14-7.\",\n",
    "                \"15-1.\",\n",
    "                \"15-20.\",\n",
    "                \"16-1.\",\n",
    "                \"16-16.\",\n",
    "                \"17-10.\",\n",
    "                \"17-11.\",\n",
    "                \"17-2.\",\n",
    "                \"19-1.\",\n",
    "                \"19-16.\",\n",
    "                \"19-19.\",\n",
    "                \"19-20.\",\n",
    "                \"19-3.\",\n",
    "                \"2-10.\",\n",
    "                \"2-11.\",\n",
    "                \"2-17.\",\n",
    "                \"2-18.\",\n",
    "                \"2-20.\",\n",
    "                \"2-3.\",\n",
    "                \"2-4.\",\n",
    "                \"2-5.\",\n",
    "                \"2-6.\",\n",
    "                \"2-7.\",\n",
    "                \"2-8.\",\n",
    "                \"3-13.\",\n",
    "                \"3-18.\",\n",
    "                \"3-3.\",\n",
    "                \"4-1.\",\n",
    "                \"4-10.\",\n",
    "                \"4-11.\",\n",
    "                \"4-19.\",\n",
    "                \"5-5.\",\n",
    "                \"6-15.\",\n",
    "                \"7-10.\",\n",
    "                \"7-14.\",\n",
    "                \"8-18.\",\n",
    "                \"8-20.\",\n",
    "                \"8-3.\",\n",
    "                \"8-8.\",\n",
    "            ],\n",
    "            \"domains\": [1, 2, 3, 4, 5],\n",
    "            \"num_examples_per_domain_per_label\": -1,\n",
    "            \"pickle_path\": \"/mnt/wd500GB/CSC500/csc500-main/datasets/cores.stratified_ds.2022A.pkl\",\n",
    "            \"source_or_target_dataset\": \"source\",\n",
    "            \"x_transforms\": [\"take_200\"],\n",
    "            \"episode_transforms\": [],\n",
    "            \"domain_prefix\": \"C_\",\n",
    "        },\n",
    "        {\n",
    "            \"labels\": [\n",
    "                \"1-10\",\n",
    "                \"1-12\",\n",
    "                \"1-14\",\n",
    "                \"1-16\",\n",
    "                \"1-18\",\n",
    "                \"1-19\",\n",
    "                \"1-8\",\n",
    "                \"10-11\",\n",
    "                \"10-17\",\n",
    "                \"10-4\",\n",
    "                \"10-7\",\n",
    "                \"11-1\",\n",
    "                \"11-10\",\n",
    "                \"11-19\",\n",
    "                \"11-20\",\n",
    "                \"11-4\",\n",
    "                \"11-7\",\n",
    "                \"12-19\",\n",
    "                \"12-20\",\n",
    "                \"12-7\",\n",
    "                \"13-14\",\n",
    "                \"13-18\",\n",
    "                \"13-19\",\n",
    "                \"13-20\",\n",
    "                \"13-3\",\n",
    "                \"13-7\",\n",
    "                \"14-10\",\n",
    "                \"14-11\",\n",
    "                \"14-12\",\n",
    "                \"14-13\",\n",
    "                \"14-14\",\n",
    "                \"14-19\",\n",
    "                \"14-20\",\n",
    "                \"14-7\",\n",
    "                \"14-8\",\n",
    "                \"14-9\",\n",
    "                \"15-1\",\n",
    "                \"15-19\",\n",
    "                \"15-6\",\n",
    "                \"16-1\",\n",
    "                \"16-16\",\n",
    "                \"16-19\",\n",
    "                \"16-20\",\n",
    "                \"17-10\",\n",
    "                \"17-11\",\n",
    "                \"18-1\",\n",
    "                \"18-10\",\n",
    "                \"18-11\",\n",
    "                \"18-12\",\n",
    "                \"18-13\",\n",
    "                \"18-14\",\n",
    "                \"18-15\",\n",
    "                \"18-16\",\n",
    "                \"18-17\",\n",
    "                \"18-19\",\n",
    "                \"18-2\",\n",
    "                \"18-20\",\n",
    "                \"18-4\",\n",
    "                \"18-5\",\n",
    "                \"18-7\",\n",
    "                \"18-8\",\n",
    "                \"18-9\",\n",
    "                \"19-1\",\n",
    "                \"19-10\",\n",
    "                \"19-11\",\n",
    "                \"19-12\",\n",
    "                \"19-13\",\n",
    "                \"19-14\",\n",
    "                \"19-15\",\n",
    "                \"19-19\",\n",
    "                \"19-2\",\n",
    "                \"19-20\",\n",
    "                \"19-3\",\n",
    "                \"19-4\",\n",
    "                \"19-6\",\n",
    "                \"19-7\",\n",
    "                \"19-8\",\n",
    "                \"19-9\",\n",
    "                \"2-1\",\n",
    "                \"2-13\",\n",
    "                \"2-15\",\n",
    "                \"2-3\",\n",
    "                \"2-4\",\n",
    "                \"2-5\",\n",
    "                \"2-6\",\n",
    "                \"2-7\",\n",
    "                \"2-8\",\n",
    "                \"20-1\",\n",
    "                \"20-12\",\n",
    "                \"20-14\",\n",
    "                \"20-15\",\n",
    "                \"20-16\",\n",
    "                \"20-18\",\n",
    "                \"20-19\",\n",
    "                \"20-20\",\n",
    "                \"20-3\",\n",
    "                \"20-4\",\n",
    "                \"20-5\",\n",
    "                \"20-7\",\n",
    "                \"20-8\",\n",
    "                \"3-1\",\n",
    "                \"3-13\",\n",
    "                \"3-18\",\n",
    "                \"3-2\",\n",
    "                \"3-8\",\n",
    "                \"4-1\",\n",
    "                \"4-10\",\n",
    "                \"4-11\",\n",
    "                \"5-1\",\n",
    "                \"5-5\",\n",
    "                \"6-1\",\n",
    "                \"6-15\",\n",
    "                \"6-6\",\n",
    "                \"7-10\",\n",
    "                \"7-11\",\n",
    "                \"7-12\",\n",
    "                \"7-13\",\n",
    "                \"7-14\",\n",
    "                \"7-7\",\n",
    "                \"7-8\",\n",
    "                \"7-9\",\n",
    "                \"8-1\",\n",
    "                \"8-13\",\n",
    "                \"8-14\",\n",
    "                \"8-18\",\n",
    "                \"8-20\",\n",
    "                \"8-3\",\n",
    "                \"8-8\",\n",
    "                \"9-1\",\n",
    "                \"9-7\",\n",
    "            ],\n",
    "            \"domains\": [1, 2, 3, 4],\n",
    "            \"num_examples_per_domain_per_label\": -1,\n",
    "            \"pickle_path\": \"/mnt/wd500GB/CSC500/csc500-main/datasets/wisig.node3-19.stratified_ds.2022A.pkl\",\n",
    "            \"source_or_target_dataset\": \"source\",\n",
    "            \"x_transforms\": [\"take_200\"],\n",
    "            \"episode_transforms\": [],\n",
    "            \"domain_prefix\": \"W_\",\n",
    "        },\n",
    "        {\n",
    "            \"labels\": [\n",
    "                \"3123D52\",\n",
    "                \"3123D65\",\n",
    "                \"3123D79\",\n",
    "                \"3123D80\",\n",
    "                \"3123D54\",\n",
    "                \"3123D70\",\n",
    "                \"3123D7B\",\n",
    "                \"3123D89\",\n",
    "                \"3123D58\",\n",
    "                \"3123D76\",\n",
    "                \"3123D7D\",\n",
    "                \"3123EFE\",\n",
    "                \"3123D64\",\n",
    "                \"3123D78\",\n",
    "                \"3123D7E\",\n",
    "                \"3124E4A\",\n",
    "            ],\n",
    "            \"domains\": [32, 38, 8, 44, 14, 50, 20, 26],\n",
    "            \"num_examples_per_domain_per_label\": 2000,\n",
    "            \"pickle_path\": \"/mnt/wd500GB/CSC500/csc500-main/datasets/oracle.Run1_framed_2000Examples_stratified_ds.2022A.pkl\",\n",
    "            \"source_or_target_dataset\": \"target\",\n",
    "            \"x_transforms\": [\"take_200\", \"resample_20Msps_to_25Msps\"],\n",
    "            \"episode_transforms\": [],\n",
    "            \"domain_prefix\": \"O_\",\n",
    "        },\n",
    "    ],\n",
    "    \"seed\": 1337,\n",
    "    \"dataset_seed\": 1337,\n",
    "}\n"
   ]
  },
  {
   "cell_type": "code",
   "execution_count": 5,
   "id": "8fa1cc33",
   "metadata": {
    "execution": {
     "iopub.execute_input": "2022-03-20T07:50:33.300070Z",
     "iopub.status.busy": "2022-03-20T07:50:33.299789Z",
     "iopub.status.idle": "2022-03-20T07:50:33.315065Z",
     "shell.execute_reply": "2022-03-20T07:50:33.315548Z"
    },
    "papermill": {
     "duration": 0.034016,
     "end_time": "2022-03-20T07:50:33.315696",
     "exception": false,
     "start_time": "2022-03-20T07:50:33.281680",
     "status": "completed"
    },
    "tags": []
   },
   "outputs": [],
   "source": [
    "# Set this to True if you want to run this template directly\n",
    "STANDALONE = False\n",
    "if STANDALONE:\n",
    "    print(\"parameters not injected, running with standalone_parameters\")\n",
    "    parameters = standalone_parameters\n",
    "\n",
    "if not 'parameters' in locals() and not 'parameters' in globals():\n",
    "    raise Exception(\"Parameter injection failed\")\n",
    "\n",
    "#Use an easy dict for all the parameters\n",
    "p = EasyDict(parameters)\n",
    "\n",
    "if \"x_shape\" not in p:\n",
    "    p.x_shape = [2,256] # Default to this if we dont supply x_shape\n",
    "\n",
    "\n",
    "supplied_keys = set(p.keys())\n",
    "\n",
    "if  supplied_keys != required_parameters:\n",
    "    print(\"Parameters are incorrect\")\n",
    "    if len(supplied_keys - required_parameters)>0: print(\"Shouldn't have:\", str(supplied_keys - required_parameters))\n",
    "    if len(required_parameters - supplied_keys)>0: print(\"Need to have:\", str(required_parameters - supplied_keys))\n",
    "    raise RuntimeError(\"Parameters are incorrect\")"
   ]
  },
  {
   "cell_type": "code",
   "execution_count": 6,
   "id": "3a028d58",
   "metadata": {
    "execution": {
     "iopub.execute_input": "2022-03-20T07:50:33.356371Z",
     "iopub.status.busy": "2022-03-20T07:50:33.356101Z",
     "iopub.status.idle": "2022-03-20T07:50:33.371450Z",
     "shell.execute_reply": "2022-03-20T07:50:33.370959Z"
    },
    "papermill": {
     "duration": 0.032081,
     "end_time": "2022-03-20T07:50:33.371561",
     "exception": false,
     "start_time": "2022-03-20T07:50:33.339480",
     "status": "completed"
    },
    "tags": []
   },
   "outputs": [],
   "source": [
    "###################################\n",
    "# Set the RNGs and make it all deterministic\n",
    "###################################\n",
    "np.random.seed(p.seed)\n",
    "random.seed(p.seed)\n",
    "torch.manual_seed(p.seed)\n",
    "\n",
    "torch.use_deterministic_algorithms(True) "
   ]
  },
  {
   "cell_type": "code",
   "execution_count": 7,
   "id": "b691acf6",
   "metadata": {
    "execution": {
     "iopub.execute_input": "2022-03-20T07:50:33.405885Z",
     "iopub.status.busy": "2022-03-20T07:50:33.405619Z",
     "iopub.status.idle": "2022-03-20T07:50:33.419906Z",
     "shell.execute_reply": "2022-03-20T07:50:33.420227Z"
    },
    "papermill": {
     "duration": 0.030314,
     "end_time": "2022-03-20T07:50:33.420328",
     "exception": false,
     "start_time": "2022-03-20T07:50:33.390014",
     "status": "completed"
    },
    "tags": []
   },
   "outputs": [],
   "source": [
    "###########################################\n",
    "# The stratified datasets honor this\n",
    "###########################################\n",
    "torch.set_default_dtype(eval(p.torch_default_dtype))"
   ]
  },
  {
   "cell_type": "code",
   "execution_count": 8,
   "id": "b5fba671",
   "metadata": {
    "execution": {
     "iopub.execute_input": "2022-03-20T07:50:33.455048Z",
     "iopub.status.busy": "2022-03-20T07:50:33.454778Z",
     "iopub.status.idle": "2022-03-20T07:50:33.491053Z",
     "shell.execute_reply": "2022-03-20T07:50:33.490507Z"
    },
    "papermill": {
     "duration": 0.05239,
     "end_time": "2022-03-20T07:50:33.491171",
     "exception": false,
     "start_time": "2022-03-20T07:50:33.438781",
     "status": "completed"
    },
    "tags": []
   },
   "outputs": [],
   "source": [
    "###################################\n",
    "# Build the network(s)\n",
    "# Note: It's critical to do this AFTER setting the RNG\n",
    "###################################\n",
    "x_net = build_sequential(p.x_net)"
   ]
  },
  {
   "cell_type": "code",
   "execution_count": 9,
   "id": "5d7e61cc",
   "metadata": {
    "execution": {
     "iopub.execute_input": "2022-03-20T07:50:33.526926Z",
     "iopub.status.busy": "2022-03-20T07:50:33.526660Z",
     "iopub.status.idle": "2022-03-20T07:50:33.542645Z",
     "shell.execute_reply": "2022-03-20T07:50:33.542128Z"
    },
    "papermill": {
     "duration": 0.032557,
     "end_time": "2022-03-20T07:50:33.542753",
     "exception": false,
     "start_time": "2022-03-20T07:50:33.510196",
     "status": "completed"
    },
    "tags": []
   },
   "outputs": [],
   "source": [
    "start_time_secs = time.time()"
   ]
  },
  {
   "cell_type": "code",
   "execution_count": 10,
   "id": "c6b67dfd",
   "metadata": {
    "execution": {
     "iopub.execute_input": "2022-03-20T07:50:33.578713Z",
     "iopub.status.busy": "2022-03-20T07:50:33.578449Z",
     "iopub.status.idle": "2022-03-20T07:50:33.594244Z",
     "shell.execute_reply": "2022-03-20T07:50:33.593762Z"
    },
    "papermill": {
     "duration": 0.033022,
     "end_time": "2022-03-20T07:50:33.594358",
     "exception": false,
     "start_time": "2022-03-20T07:50:33.561336",
     "status": "completed"
    },
    "tags": []
   },
   "outputs": [],
   "source": [
    "p.domains_source = []\n",
    "p.domains_target = []\n",
    "\n",
    "\n",
    "train_original_source = []\n",
    "val_original_source   = []\n",
    "test_original_source  = []\n",
    "\n",
    "train_original_target = []\n",
    "val_original_target   = []\n",
    "test_original_target  = []"
   ]
  },
  {
   "cell_type": "code",
   "execution_count": 11,
   "id": "e3d9c3d3",
   "metadata": {
    "execution": {
     "iopub.execute_input": "2022-03-20T07:50:33.630316Z",
     "iopub.status.busy": "2022-03-20T07:50:33.630052Z",
     "iopub.status.idle": "2022-03-20T07:50:33.645878Z",
     "shell.execute_reply": "2022-03-20T07:50:33.645420Z"
    },
    "papermill": {
     "duration": 0.032526,
     "end_time": "2022-03-20T07:50:33.645989",
     "exception": false,
     "start_time": "2022-03-20T07:50:33.613463",
     "status": "completed"
    },
    "tags": []
   },
   "outputs": [],
   "source": [
    "# global_x_transform_func = lambda x: normalize(x.to(torch.get_default_dtype()), \"unit_power\") # unit_power, unit_mag\n",
    "# global_x_transform_func = lambda x: normalize(x, \"unit_power\") # unit_power, unit_mag"
   ]
  },
  {
   "cell_type": "code",
   "execution_count": 12,
   "id": "acb78fd2",
   "metadata": {
    "execution": {
     "iopub.execute_input": "2022-03-20T07:50:33.684401Z",
     "iopub.status.busy": "2022-03-20T07:50:33.684099Z",
     "iopub.status.idle": "2022-03-20T07:50:33.695664Z",
     "shell.execute_reply": "2022-03-20T07:50:33.695309Z"
    },
    "papermill": {
     "duration": 0.030114,
     "end_time": "2022-03-20T07:50:33.695752",
     "exception": false,
     "start_time": "2022-03-20T07:50:33.665638",
     "status": "completed"
    },
    "tags": []
   },
   "outputs": [],
   "source": [
    "def add_dataset(\n",
    "    labels,\n",
    "    domains,\n",
    "    pickle_path,\n",
    "    x_transforms,\n",
    "    episode_transforms,\n",
    "    domain_prefix,\n",
    "    num_examples_per_domain_per_label,\n",
    "    source_or_target_dataset:str,\n",
    "    iterator_seed=p.seed,\n",
    "    dataset_seed=p.dataset_seed,\n",
    "    n_shot=p.n_shot,\n",
    "    n_way=p.n_way,\n",
    "    n_query=p.n_query,\n",
    "    train_val_test_k_factors=(p.train_k_factor,p.val_k_factor,p.test_k_factor),\n",
    "):\n",
    "   \n",
    "    if x_transforms == []: x_transform = None\n",
    "    else: x_transform = get_chained_transform(x_transforms)\n",
    "    \n",
    "    if episode_transforms == []: episode_transform = None\n",
    "    else: raise Exception(\"episode_transforms not implemented\")\n",
    "    \n",
    "    episode_transform = lambda tup, _prefix=domain_prefix: (_prefix + str(tup[0]), tup[1])\n",
    "\n",
    "\n",
    "    eaf = Episodic_Accessor_Factory(\n",
    "        labels=labels,\n",
    "        domains=domains,\n",
    "        num_examples_per_domain_per_label=num_examples_per_domain_per_label,\n",
    "        iterator_seed=iterator_seed,\n",
    "        dataset_seed=dataset_seed,\n",
    "        n_shot=n_shot,\n",
    "        n_way=n_way,\n",
    "        n_query=n_query,\n",
    "        train_val_test_k_factors=train_val_test_k_factors,\n",
    "        pickle_path=pickle_path,\n",
    "        x_transform_func=x_transform,\n",
    "    )\n",
    "\n",
    "    train, val, test = eaf.get_train(), eaf.get_val(), eaf.get_test()\n",
    "    train = Lazy_Iterable_Wrapper(train, episode_transform)\n",
    "    val = Lazy_Iterable_Wrapper(val, episode_transform)\n",
    "    test = Lazy_Iterable_Wrapper(test, episode_transform)\n",
    "\n",
    "    if source_or_target_dataset==\"source\":\n",
    "        train_original_source.append(train)\n",
    "        val_original_source.append(val)\n",
    "        test_original_source.append(test)\n",
    "\n",
    "        p.domains_source.extend(\n",
    "            [domain_prefix + str(u) for u in domains]\n",
    "        )\n",
    "    elif source_or_target_dataset==\"target\":\n",
    "        train_original_target.append(train)\n",
    "        val_original_target.append(val)\n",
    "        test_original_target.append(test)\n",
    "        p.domains_target.extend(\n",
    "            [domain_prefix + str(u) for u in domains]\n",
    "        )\n",
    "    else:\n",
    "        raise Exception(f\"invalid source_or_target_dataset: {source_or_target_dataset}\")\n",
    "    "
   ]
  },
  {
   "cell_type": "code",
   "execution_count": 13,
   "id": "fe266617",
   "metadata": {
    "execution": {
     "iopub.execute_input": "2022-03-20T07:50:33.731760Z",
     "iopub.status.busy": "2022-03-20T07:50:33.731489Z",
     "iopub.status.idle": "2022-03-20T07:50:51.954751Z",
     "shell.execute_reply": "2022-03-20T07:50:51.955157Z"
    },
    "papermill": {
     "duration": 18.239876,
     "end_time": "2022-03-20T07:50:51.955310",
     "exception": false,
     "start_time": "2022-03-20T07:50:33.715434",
     "status": "completed"
    },
    "tags": []
   },
   "outputs": [],
   "source": [
    "for ds in p.datasets:\n",
    "    add_dataset(**ds)"
   ]
  },
  {
   "cell_type": "code",
   "execution_count": 14,
   "id": "b90d65ac",
   "metadata": {
    "execution": {
     "iopub.execute_input": "2022-03-20T07:50:51.992424Z",
     "iopub.status.busy": "2022-03-20T07:50:51.990734Z",
     "iopub.status.idle": "2022-03-20T07:50:52.004944Z",
     "shell.execute_reply": "2022-03-20T07:50:52.004447Z"
    },
    "papermill": {
     "duration": 0.030962,
     "end_time": "2022-03-20T07:50:52.005049",
     "exception": false,
     "start_time": "2022-03-20T07:50:51.974087",
     "status": "completed"
    },
    "tags": []
   },
   "outputs": [],
   "source": [
    "# from steves_utils.CORES.utils import (\n",
    "#     ALL_NODES,\n",
    "#     ALL_NODES_MINIMUM_1000_EXAMPLES,\n",
    "#     ALL_DAYS\n",
    "# )\n",
    "\n",
    "# add_dataset(\n",
    "#     labels=ALL_NODES,\n",
    "#     domains = ALL_DAYS,\n",
    "#     num_examples_per_domain_per_label=100,\n",
    "#     pickle_path=os.path.join(get_datasets_base_path(), \"cores.stratified_ds.2022A.pkl\"),\n",
    "#     source_or_target_dataset=\"target\",\n",
    "#     x_transform_func=global_x_transform_func,\n",
    "#     domain_modifier=lambda u: f\"cores_{u}\"\n",
    "# )"
   ]
  },
  {
   "cell_type": "code",
   "execution_count": 15,
   "id": "76db484d",
   "metadata": {
    "execution": {
     "iopub.execute_input": "2022-03-20T07:50:52.039947Z",
     "iopub.status.busy": "2022-03-20T07:50:52.039694Z",
     "iopub.status.idle": "2022-03-20T07:50:52.050516Z",
     "shell.execute_reply": "2022-03-20T07:50:52.050920Z"
    },
    "papermill": {
     "duration": 0.02662,
     "end_time": "2022-03-20T07:50:52.051043",
     "exception": false,
     "start_time": "2022-03-20T07:50:52.024423",
     "status": "completed"
    },
    "tags": []
   },
   "outputs": [],
   "source": [
    "# from steves_utils.ORACLE.utils_v2 import (\n",
    "#     ALL_DISTANCES_FEET,\n",
    "#     ALL_RUNS,\n",
    "#     ALL_SERIAL_NUMBERS,\n",
    "# )\n",
    "\n",
    "\n",
    "# add_dataset(\n",
    "#     labels=ALL_SERIAL_NUMBERS,\n",
    "#     domains = list(set(ALL_DISTANCES_FEET) - {2,62}),\n",
    "#     num_examples_per_domain_per_label=100,\n",
    "#     pickle_path=os.path.join(get_datasets_base_path(), \"oracle.Run2_framed_2000Examples_stratified_ds.2022A.pkl\"),\n",
    "#     source_or_target_dataset=\"source\",\n",
    "#     x_transform_func=global_x_transform_func,\n",
    "#     domain_modifier=lambda u: f\"oracle1_{u}\"\n",
    "# )\n"
   ]
  },
  {
   "cell_type": "code",
   "execution_count": 16,
   "id": "97dea9d2",
   "metadata": {
    "execution": {
     "iopub.execute_input": "2022-03-20T07:50:52.088341Z",
     "iopub.status.busy": "2022-03-20T07:50:52.085121Z",
     "iopub.status.idle": "2022-03-20T07:50:52.101826Z",
     "shell.execute_reply": "2022-03-20T07:50:52.101331Z"
    },
    "papermill": {
     "duration": 0.032575,
     "end_time": "2022-03-20T07:50:52.101930",
     "exception": false,
     "start_time": "2022-03-20T07:50:52.069355",
     "status": "completed"
    },
    "tags": []
   },
   "outputs": [],
   "source": [
    "# from steves_utils.ORACLE.utils_v2 import (\n",
    "#     ALL_DISTANCES_FEET,\n",
    "#     ALL_RUNS,\n",
    "#     ALL_SERIAL_NUMBERS,\n",
    "# )\n",
    "\n",
    "\n",
    "# add_dataset(\n",
    "#     labels=ALL_SERIAL_NUMBERS,\n",
    "#     domains = list(set(ALL_DISTANCES_FEET) - {2,62,56}),\n",
    "#     num_examples_per_domain_per_label=100,\n",
    "#     pickle_path=os.path.join(get_datasets_base_path(), \"oracle.Run2_framed_2000Examples_stratified_ds.2022A.pkl\"),\n",
    "#     source_or_target_dataset=\"source\",\n",
    "#     x_transform_func=global_x_transform_func,\n",
    "#     domain_modifier=lambda u: f\"oracle2_{u}\"\n",
    "# )"
   ]
  },
  {
   "cell_type": "code",
   "execution_count": 17,
   "id": "6f289866",
   "metadata": {
    "execution": {
     "iopub.execute_input": "2022-03-20T07:50:52.137926Z",
     "iopub.status.busy": "2022-03-20T07:50:52.137197Z",
     "iopub.status.idle": "2022-03-20T07:50:52.153418Z",
     "shell.execute_reply": "2022-03-20T07:50:52.152923Z"
    },
    "papermill": {
     "duration": 0.032603,
     "end_time": "2022-03-20T07:50:52.153519",
     "exception": false,
     "start_time": "2022-03-20T07:50:52.120916",
     "status": "completed"
    },
    "tags": []
   },
   "outputs": [],
   "source": [
    "# add_dataset(\n",
    "#     labels=list(range(19)),\n",
    "#     domains = [0,1,2],\n",
    "#     num_examples_per_domain_per_label=100,\n",
    "#     pickle_path=os.path.join(get_datasets_base_path(), \"metehan.stratified_ds.2022A.pkl\"),\n",
    "#     source_or_target_dataset=\"target\",\n",
    "#     x_transform_func=global_x_transform_func,\n",
    "#     domain_modifier=lambda u: f\"met_{u}\"\n",
    "# )"
   ]
  },
  {
   "cell_type": "code",
   "execution_count": 18,
   "id": "86a863c3",
   "metadata": {
    "execution": {
     "iopub.execute_input": "2022-03-20T07:50:52.190057Z",
     "iopub.status.busy": "2022-03-20T07:50:52.189122Z",
     "iopub.status.idle": "2022-03-20T07:50:52.203442Z",
     "shell.execute_reply": "2022-03-20T07:50:52.202957Z"
    },
    "papermill": {
     "duration": 0.03055,
     "end_time": "2022-03-20T07:50:52.203543",
     "exception": false,
     "start_time": "2022-03-20T07:50:52.172993",
     "status": "completed"
    },
    "tags": []
   },
   "outputs": [],
   "source": [
    "# # from steves_utils.wisig.utils import (\n",
    "# #     ALL_NODES_MINIMUM_100_EXAMPLES,\n",
    "# #     ALL_NODES_MINIMUM_500_EXAMPLES,\n",
    "# #     ALL_NODES_MINIMUM_1000_EXAMPLES,\n",
    "# #     ALL_DAYS\n",
    "# # )\n",
    "\n",
    "# import steves_utils.wisig.utils as wisig\n",
    "\n",
    "\n",
    "# add_dataset(\n",
    "#     labels=wisig.ALL_NODES_MINIMUM_100_EXAMPLES,\n",
    "#     domains = wisig.ALL_DAYS,\n",
    "#     num_examples_per_domain_per_label=100,\n",
    "#     pickle_path=os.path.join(get_datasets_base_path(), \"wisig.node3-19.stratified_ds.2022A.pkl\"),\n",
    "#     source_or_target_dataset=\"target\",\n",
    "#     x_transform_func=global_x_transform_func,\n",
    "#     domain_modifier=lambda u: f\"wisig_{u}\"\n",
    "# )"
   ]
  },
  {
   "cell_type": "code",
   "execution_count": 19,
   "id": "fd5442bc",
   "metadata": {
    "execution": {
     "iopub.execute_input": "2022-03-20T07:50:52.244953Z",
     "iopub.status.busy": "2022-03-20T07:50:52.242780Z",
     "iopub.status.idle": "2022-03-20T07:50:52.256776Z",
     "shell.execute_reply": "2022-03-20T07:50:52.256399Z"
    },
    "papermill": {
     "duration": 0.032699,
     "end_time": "2022-03-20T07:50:52.256857",
     "exception": false,
     "start_time": "2022-03-20T07:50:52.224158",
     "status": "completed"
    },
    "tags": []
   },
   "outputs": [],
   "source": [
    "###################################\n",
    "# Build the dataset\n",
    "###################################\n",
    "train_original_source = Iterable_Aggregator(train_original_source, p.seed)\n",
    "val_original_source = Iterable_Aggregator(val_original_source, p.seed)\n",
    "test_original_source = Iterable_Aggregator(test_original_source, p.seed)\n",
    "\n",
    "\n",
    "train_original_target = Iterable_Aggregator(train_original_target, p.seed)\n",
    "val_original_target = Iterable_Aggregator(val_original_target, p.seed)\n",
    "test_original_target = Iterable_Aggregator(test_original_target, p.seed)\n",
    "\n",
    "# For CNN We only use X and Y. And we only train on the source.\n",
    "# Properly form the data using a transform lambda and Lazy_Iterable_Wrapper. Finally wrap them in a dataloader\n",
    "\n",
    "transform_lambda = lambda ex: ex[1] # Original is (<domain>, <episode>) so we strip down to episode only\n",
    "\n",
    "train_processed_source = Lazy_Iterable_Wrapper(train_original_source, transform_lambda)\n",
    "val_processed_source   = Lazy_Iterable_Wrapper(val_original_source, transform_lambda)\n",
    "test_processed_source  = Lazy_Iterable_Wrapper(test_original_source, transform_lambda)\n",
    "\n",
    "train_processed_target = Lazy_Iterable_Wrapper(train_original_target, transform_lambda)\n",
    "val_processed_target   = Lazy_Iterable_Wrapper(val_original_target, transform_lambda)\n",
    "test_processed_target  = Lazy_Iterable_Wrapper(test_original_target, transform_lambda)\n",
    "\n",
    "datasets = EasyDict({\n",
    "    \"source\": {\n",
    "        \"original\": {\"train\":train_original_source, \"val\":val_original_source, \"test\":test_original_source},\n",
    "        \"processed\": {\"train\":train_processed_source, \"val\":val_processed_source, \"test\":test_processed_source}\n",
    "    },\n",
    "    \"target\": {\n",
    "        \"original\": {\"train\":train_original_target, \"val\":val_original_target, \"test\":test_original_target},\n",
    "        \"processed\": {\"train\":train_processed_target, \"val\":val_processed_target, \"test\":test_processed_target}\n",
    "    },\n",
    "})"
   ]
  },
  {
   "cell_type": "code",
   "execution_count": 20,
   "id": "5b3c01fc",
   "metadata": {
    "execution": {
     "iopub.execute_input": "2022-03-20T07:50:52.300884Z",
     "iopub.status.busy": "2022-03-20T07:50:52.300627Z",
     "iopub.status.idle": "2022-03-20T07:51:02.331831Z",
     "shell.execute_reply": "2022-03-20T07:51:02.332174Z"
    },
    "papermill": {
     "duration": 10.055714,
     "end_time": "2022-03-20T07:51:02.332277",
     "exception": false,
     "start_time": "2022-03-20T07:50:52.276563",
     "status": "completed"
    },
    "tags": []
   },
   "outputs": [
    {
     "name": "stdout",
     "output_type": "stream",
     "text": [
      "{'C_2', 'C_3', 'W_4', 'W_2', 'W_3', 'C_4', 'C_5', 'W_1', 'C_1'}\n"
     ]
    },
    {
     "name": "stdout",
     "output_type": "stream",
     "text": [
      "{'O_32', 'O_50', 'O_8', 'O_26', 'O_44', 'O_38', 'O_20', 'O_14'}\n"
     ]
    },
    {
     "name": "stdout",
     "output_type": "stream",
     "text": [
      "tensor([[[-6.7141e-04,  1.7121e-02,  6.7141e-04,  ...,  1.7182e-02,\n",
      "           1.5198e-02, -1.1109e-02],\n",
      "         [-1.2970e-02,  1.7090e-03,  2.0661e-02,  ..., -3.8148e-03,\n",
      "           1.9868e-02,  6.8972e-03]],\n",
      "\n",
      "        [[ 6.7751e-03,  1.0804e-02, -1.4863e-02,  ...,  7.3244e-03,\n",
      "          -1.0987e-02, -2.3164e-02],\n",
      "         [-8.1179e-03,  6.8361e-03,  1.3276e-02,  ...,  5.6459e-03,\n",
      "           1.8555e-02,  1.6175e-03]],\n",
      "\n",
      "        [[ 5.1271e-03,  1.8799e-02,  6.0121e-03,  ...,  2.2706e-02,\n",
      "           8.7283e-03, -1.2024e-02],\n",
      "         [-1.3062e-02,  5.6459e-03,  1.7151e-02,  ..., -9.4607e-03,\n",
      "           1.4344e-02, -1.3855e-02]],\n",
      "\n",
      "        ...,\n",
      "\n",
      "        [[-3.2502e-02, -3.3082e-02,  5.1576e-03,  ...,  1.6480e-02,\n",
      "           2.5025e-02,  8.9419e-03],\n",
      "         [ 3.3357e-02, -1.3733e-03, -4.8677e-02,  ..., -4.3184e-02,\n",
      "          -2.9054e-02,  1.8403e-02]],\n",
      "\n",
      "        [[-2.1363e-03, -2.2279e-03, -2.8382e-03,  ..., -3.7935e-02,\n",
      "          -1.7304e-02,  1.6816e-02],\n",
      "         [-3.5096e-03, -3.9064e-03, -3.0519e-04,  ..., -3.3143e-02,\n",
      "          -5.4445e-02, -2.9908e-02]],\n",
      "\n",
      "        [[-4.4557e-03, -1.4985e-02,  9.1556e-05,  ..., -2.1271e-02,\n",
      "           2.2675e-02, -5.6154e-03],\n",
      "         [-7.5991e-03, -7.8738e-03, -3.4181e-02,  ..., -4.3306e-02,\n",
      "          -3.9064e-03,  4.4771e-02]]])\n"
     ]
    }
   ],
   "source": [
    "from steves_utils.transforms import get_average_magnitude, get_average_power\n",
    "\n",
    "print(set([u for u,_ in val_original_source]))\n",
    "print(set([u for u,_ in val_original_target]))\n",
    "\n",
    "s_x, s_y, q_x, q_y, _ = next(iter(train_processed_source))\n",
    "print(s_x)\n",
    "\n",
    "# for ds in [\n",
    "#     train_processed_source,\n",
    "#     val_processed_source,\n",
    "#     test_processed_source,\n",
    "#     train_processed_target,\n",
    "#     val_processed_target,\n",
    "#     test_processed_target\n",
    "# ]:\n",
    "#     for s_x, s_y, q_x, q_y, _ in ds:\n",
    "#         for X in (s_x, q_x):\n",
    "#             for x in X:\n",
    "#                 assert np.isclose(get_average_magnitude(x.numpy()), 1.0)\n",
    "#                 assert np.isclose(get_average_power(x.numpy()), 1.0)\n",
    "                "
   ]
  },
  {
   "cell_type": "code",
   "execution_count": 21,
   "id": "bbdacba1",
   "metadata": {
    "execution": {
     "iopub.execute_input": "2022-03-20T07:51:02.375733Z",
     "iopub.status.busy": "2022-03-20T07:51:02.375463Z",
     "iopub.status.idle": "2022-03-20T07:51:02.423060Z",
     "shell.execute_reply": "2022-03-20T07:51:02.423312Z"
    },
    "papermill": {
     "duration": 0.071836,
     "end_time": "2022-03-20T07:51:02.423394",
     "exception": false,
     "start_time": "2022-03-20T07:51:02.351558",
     "status": "completed"
    },
    "tags": []
   },
   "outputs": [
    {
     "name": "stdout",
     "output_type": "stream",
     "text": [
      "(2, 200)\n"
     ]
    }
   ],
   "source": [
    "###################################\n",
    "# Build the model\n",
    "###################################\n",
    "# easfsl only wants a tuple for the shape\n",
    "model = Steves_Prototypical_Network(x_net, device=p.device, x_shape=tuple(p.x_shape))\n",
    "optimizer = Adam(params=model.parameters(), lr=p.lr)"
   ]
  },
  {
   "cell_type": "code",
   "execution_count": 22,
   "id": "22b39ac5",
   "metadata": {
    "execution": {
     "iopub.execute_input": "2022-03-20T07:51:02.457406Z",
     "iopub.status.busy": "2022-03-20T07:51:02.457149Z",
     "iopub.status.idle": "2022-03-20T08:53:09.790872Z",
     "shell.execute_reply": "2022-03-20T08:53:09.790621Z"
    },
    "papermill": {
     "duration": 3727.352233,
     "end_time": "2022-03-20T08:53:09.790935",
     "exception": false,
     "start_time": "2022-03-20T07:51:02.438702",
     "status": "completed"
    },
    "tags": []
   },
   "outputs": [
    {
     "name": "stdout",
     "output_type": "stream",
     "text": [
      "epoch: 1, [batch: 1 / 13178], examples_per_second: 23.8599, train_label_loss: 2.0843, \n"
     ]
    },
    {
     "name": "stdout",
     "output_type": "stream",
     "text": [
      "epoch: 1, [batch: 1318 / 13178], examples_per_second: 1739.8725, train_label_loss: 0.0061, \n"
     ]
    },
    {
     "name": "stdout",
     "output_type": "stream",
     "text": [
      "epoch: 1, [batch: 2636 / 13178], examples_per_second: 1738.7279, train_label_loss: 0.7671, \n"
     ]
    },
    {
     "name": "stdout",
     "output_type": "stream",
     "text": [
      "epoch: 1, [batch: 3954 / 13178], examples_per_second: 1738.7416, train_label_loss: 0.4381, \n"
     ]
    },
    {
     "name": "stdout",
     "output_type": "stream",
     "text": [
      "epoch: 1, [batch: 5271 / 13178], examples_per_second: 1932.1862, train_label_loss: 0.1555, \n"
     ]
    },
    {
     "name": "stdout",
     "output_type": "stream",
     "text": [
      "epoch: 1, [batch: 6589 / 13178], examples_per_second: 2226.3239, train_label_loss: 0.0477, \n"
     ]
    },
    {
     "name": "stdout",
     "output_type": "stream",
     "text": [
      "epoch: 1, [batch: 7907 / 13178], examples_per_second: 1738.2424, train_label_loss: 0.0080, \n"
     ]
    },
    {
     "name": "stdout",
     "output_type": "stream",
     "text": [
      "epoch: 1, [batch: 9224 / 13178], examples_per_second: 1736.7278, train_label_loss: 0.0005, \n"
     ]
    },
    {
     "name": "stdout",
     "output_type": "stream",
     "text": [
      "epoch: 1, [batch: 10542 / 13178], examples_per_second: 1738.3549, train_label_loss: 0.0706, \n"
     ]
    },
    {
     "name": "stdout",
     "output_type": "stream",
     "text": [
      "epoch: 1, [batch: 11860 / 13178], examples_per_second: 1740.8276, train_label_loss: 0.0710, \n"
     ]
    },
    {
     "name": "stdout",
     "output_type": "stream",
     "text": [
      "=============================================================\n",
      "epoch: 1, source_val_acc_label: 0.9747, target_val_acc_label: 0.4139, source_val_label_loss: 0.1320, target_val_label_loss: 2.4412, \n",
      "=============================================================\n"
     ]
    },
    {
     "name": "stdout",
     "output_type": "stream",
     "text": [
      "New best\n"
     ]
    },
    {
     "name": "stdout",
     "output_type": "stream",
     "text": [
      "epoch: 2, [batch: 1 / 13164], examples_per_second: 1.4617, train_label_loss: 0.0337, \n"
     ]
    },
    {
     "name": "stdout",
     "output_type": "stream",
     "text": [
      "epoch: 2, [batch: 1317 / 13164], examples_per_second: 1741.6628, train_label_loss: 0.0053, \n"
     ]
    },
    {
     "name": "stdout",
     "output_type": "stream",
     "text": [
      "epoch: 2, [batch: 2633 / 13164], examples_per_second: 1741.9169, train_label_loss: 0.0462, \n"
     ]
    },
    {
     "name": "stdout",
     "output_type": "stream",
     "text": [
      "epoch: 2, [batch: 3949 / 13164], examples_per_second: 1738.8645, train_label_loss: 0.0025, \n"
     ]
    },
    {
     "name": "stdout",
     "output_type": "stream",
     "text": [
      "epoch: 2, [batch: 5266 / 13164], examples_per_second: 1907.5530, train_label_loss: 0.0773, \n"
     ]
    },
    {
     "name": "stdout",
     "output_type": "stream",
     "text": [
      "epoch: 2, [batch: 6582 / 13164], examples_per_second: 2279.3693, train_label_loss: 0.0026, \n"
     ]
    },
    {
     "name": "stdout",
     "output_type": "stream",
     "text": [
      "epoch: 2, [batch: 7898 / 13164], examples_per_second: 2303.1084, train_label_loss: 0.0029, \n"
     ]
    },
    {
     "name": "stdout",
     "output_type": "stream",
     "text": [
      "epoch: 2, [batch: 9215 / 13164], examples_per_second: 2193.5691, train_label_loss: 0.0055, \n"
     ]
    },
    {
     "name": "stdout",
     "output_type": "stream",
     "text": [
      "epoch: 2, [batch: 10531 / 13164], examples_per_second: 2287.4384, train_label_loss: 0.0008, \n"
     ]
    },
    {
     "name": "stdout",
     "output_type": "stream",
     "text": [
      "epoch: 2, [batch: 11847 / 13164], examples_per_second: 3553.6884, train_label_loss: 0.0705, \n"
     ]
    },
    {
     "name": "stdout",
     "output_type": "stream",
     "text": [
      "=============================================================\n",
      "epoch: 2, source_val_acc_label: 0.9826, target_val_acc_label: 0.4836, source_val_label_loss: 0.0783, target_val_label_loss: 2.2461, \n",
      "=============================================================\n"
     ]
    },
    {
     "name": "stdout",
     "output_type": "stream",
     "text": [
      "New best\n"
     ]
    },
    {
     "name": "stdout",
     "output_type": "stream",
     "text": [
      "epoch: 3, [batch: 1 / 13141], examples_per_second: 2.8423, train_label_loss: 0.3189, \n"
     ]
    },
    {
     "name": "stdout",
     "output_type": "stream",
     "text": [
      "epoch: 3, [batch: 1315 / 13141], examples_per_second: 1899.4592, train_label_loss: 0.0003, \n"
     ]
    },
    {
     "name": "stdout",
     "output_type": "stream",
     "text": [
      "epoch: 3, [batch: 2629 / 13141], examples_per_second: 1718.2554, train_label_loss: 0.1026, \n"
     ]
    },
    {
     "name": "stdout",
     "output_type": "stream",
     "text": [
      "epoch: 3, [batch: 3943 / 13141], examples_per_second: 1718.2892, train_label_loss: 0.2506, \n"
     ]
    },
    {
     "name": "stdout",
     "output_type": "stream",
     "text": [
      "epoch: 3, [batch: 5257 / 13141], examples_per_second: 1717.4884, train_label_loss: 0.0002, \n"
     ]
    },
    {
     "name": "stdout",
     "output_type": "stream",
     "text": [
      "epoch: 3, [batch: 6571 / 13141], examples_per_second: 1720.0224, train_label_loss: 0.0021, \n"
     ]
    },
    {
     "name": "stdout",
     "output_type": "stream",
     "text": [
      "epoch: 3, [batch: 7885 / 13141], examples_per_second: 1719.1074, train_label_loss: 0.0004, \n"
     ]
    },
    {
     "name": "stdout",
     "output_type": "stream",
     "text": [
      "epoch: 3, [batch: 9199 / 13141], examples_per_second: 1718.4474, train_label_loss: 0.1774, \n"
     ]
    },
    {
     "name": "stdout",
     "output_type": "stream",
     "text": [
      "epoch: 3, [batch: 10513 / 13141], examples_per_second: 1718.3117, train_label_loss: 0.0752, \n"
     ]
    },
    {
     "name": "stdout",
     "output_type": "stream",
     "text": [
      "epoch: 3, [batch: 11827 / 13141], examples_per_second: 1719.0155, train_label_loss: 0.2397, \n"
     ]
    },
    {
     "name": "stdout",
     "output_type": "stream",
     "text": [
      "=============================================================\n",
      "epoch: 3, source_val_acc_label: 0.9851, target_val_acc_label: 0.4771, source_val_label_loss: 0.0667, target_val_label_loss: 2.2172, \n",
      "=============================================================\n"
     ]
    },
    {
     "name": "stdout",
     "output_type": "stream",
     "text": [
      "epoch: 4, [batch: 1 / 13165], examples_per_second: 1.5637, train_label_loss: 0.0148, \n"
     ]
    },
    {
     "name": "stdout",
     "output_type": "stream",
     "text": [
      "epoch: 4, [batch: 1317 / 13165], examples_per_second: 1879.1702, train_label_loss: 0.0762, \n"
     ]
    },
    {
     "name": "stdout",
     "output_type": "stream",
     "text": [
      "epoch: 4, [batch: 2633 / 13165], examples_per_second: 1728.9955, train_label_loss: 0.0012, \n"
     ]
    },
    {
     "name": "stdout",
     "output_type": "stream",
     "text": [
      "epoch: 4, [batch: 3950 / 13165], examples_per_second: 1728.7172, train_label_loss: 0.0093, \n"
     ]
    },
    {
     "name": "stdout",
     "output_type": "stream",
     "text": [
      "epoch: 4, [batch: 5266 / 13165], examples_per_second: 1730.8708, train_label_loss: 0.0257, \n"
     ]
    },
    {
     "name": "stdout",
     "output_type": "stream",
     "text": [
      "epoch: 4, [batch: 6583 / 13165], examples_per_second: 1728.8192, train_label_loss: 0.0006, \n"
     ]
    },
    {
     "name": "stdout",
     "output_type": "stream",
     "text": [
      "epoch: 4, [batch: 7899 / 13165], examples_per_second: 1727.7165, train_label_loss: 0.2236, \n"
     ]
    },
    {
     "name": "stdout",
     "output_type": "stream",
     "text": [
      "epoch: 4, [batch: 9215 / 13165], examples_per_second: 1729.2654, train_label_loss: 0.0725, \n"
     ]
    },
    {
     "name": "stdout",
     "output_type": "stream",
     "text": [
      "epoch: 4, [batch: 10532 / 13165], examples_per_second: 1734.2390, train_label_loss: 0.0006, \n"
     ]
    },
    {
     "name": "stdout",
     "output_type": "stream",
     "text": [
      "epoch: 4, [batch: 11848 / 13165], examples_per_second: 1732.5701, train_label_loss: 0.1495, \n"
     ]
    },
    {
     "name": "stdout",
     "output_type": "stream",
     "text": [
      "=============================================================\n",
      "epoch: 4, source_val_acc_label: 0.9854, target_val_acc_label: 0.4285, source_val_label_loss: 0.0633, target_val_label_loss: 2.2247, \n",
      "=============================================================\n"
     ]
    },
    {
     "name": "stdout",
     "output_type": "stream",
     "text": [
      "epoch: 5, [batch: 1 / 13180], examples_per_second: 1.5675, train_label_loss: 0.0122, \n"
     ]
    },
    {
     "name": "stdout",
     "output_type": "stream",
     "text": [
      "epoch: 5, [batch: 1318 / 13180], examples_per_second: 1860.2616, train_label_loss: 0.0021, \n"
     ]
    },
    {
     "name": "stdout",
     "output_type": "stream",
     "text": [
      "epoch: 5, [batch: 2636 / 13180], examples_per_second: 1730.6726, train_label_loss: 0.3707, \n"
     ]
    },
    {
     "name": "stdout",
     "output_type": "stream",
     "text": [
      "epoch: 5, [batch: 3954 / 13180], examples_per_second: 1732.0016, train_label_loss: 0.0001, \n"
     ]
    },
    {
     "name": "stdout",
     "output_type": "stream",
     "text": [
      "epoch: 5, [batch: 5272 / 13180], examples_per_second: 1732.7646, train_label_loss: 0.0004, \n"
     ]
    },
    {
     "name": "stdout",
     "output_type": "stream",
     "text": [
      "epoch: 5, [batch: 6590 / 13180], examples_per_second: 1732.3766, train_label_loss: 0.0006, \n"
     ]
    },
    {
     "name": "stdout",
     "output_type": "stream",
     "text": [
      "epoch: 5, [batch: 7908 / 13180], examples_per_second: 1730.1206, train_label_loss: 0.2574, \n"
     ]
    },
    {
     "name": "stdout",
     "output_type": "stream",
     "text": [
      "epoch: 5, [batch: 9226 / 13180], examples_per_second: 1729.5857, train_label_loss: 0.0657, \n"
     ]
    },
    {
     "name": "stdout",
     "output_type": "stream",
     "text": [
      "epoch: 5, [batch: 10544 / 13180], examples_per_second: 1733.5605, train_label_loss: 0.0003, \n"
     ]
    },
    {
     "name": "stdout",
     "output_type": "stream",
     "text": [
      "epoch: 5, [batch: 11862 / 13180], examples_per_second: 1731.3618, train_label_loss: 0.0104, \n"
     ]
    },
    {
     "name": "stdout",
     "output_type": "stream",
     "text": [
      "=============================================================\n",
      "epoch: 5, source_val_acc_label: 0.9856, target_val_acc_label: 0.4140, source_val_label_loss: 0.0606, target_val_label_loss: 2.1108, \n",
      "=============================================================\n"
     ]
    },
    {
     "name": "stdout",
     "output_type": "stream",
     "text": [
      "epoch: 6, [batch: 1 / 13166], examples_per_second: 1.5769, train_label_loss: 0.0002, \n"
     ]
    },
    {
     "name": "stdout",
     "output_type": "stream",
     "text": [
      "epoch: 6, [batch: 1317 / 13166], examples_per_second: 1833.5841, train_label_loss: 0.0002, \n"
     ]
    },
    {
     "name": "stdout",
     "output_type": "stream",
     "text": [
      "epoch: 6, [batch: 2634 / 13166], examples_per_second: 1729.3772, train_label_loss: 0.1262, \n"
     ]
    },
    {
     "name": "stdout",
     "output_type": "stream",
     "text": [
      "epoch: 6, [batch: 3950 / 13166], examples_per_second: 1729.4904, train_label_loss: 0.0002, \n"
     ]
    },
    {
     "name": "stdout",
     "output_type": "stream",
     "text": [
      "epoch: 6, [batch: 5267 / 13166], examples_per_second: 1731.7508, train_label_loss: 0.0246, \n"
     ]
    },
    {
     "name": "stdout",
     "output_type": "stream",
     "text": [
      "epoch: 6, [batch: 6583 / 13166], examples_per_second: 1729.9453, train_label_loss: 0.1185, \n"
     ]
    },
    {
     "name": "stdout",
     "output_type": "stream",
     "text": [
      "epoch: 6, [batch: 7900 / 13166], examples_per_second: 1732.0663, train_label_loss: 0.1592, \n"
     ]
    },
    {
     "name": "stdout",
     "output_type": "stream",
     "text": [
      "epoch: 6, [batch: 9216 / 13166], examples_per_second: 1728.5157, train_label_loss: 0.0004, \n"
     ]
    },
    {
     "name": "stdout",
     "output_type": "stream",
     "text": [
      "epoch: 6, [batch: 10533 / 13166], examples_per_second: 1732.0810, train_label_loss: 0.0002, \n"
     ]
    },
    {
     "name": "stdout",
     "output_type": "stream",
     "text": [
      "epoch: 6, [batch: 11849 / 13166], examples_per_second: 1728.7295, train_label_loss: 0.0002, \n"
     ]
    },
    {
     "name": "stdout",
     "output_type": "stream",
     "text": [
      "=============================================================\n",
      "epoch: 6, source_val_acc_label: 0.9859, target_val_acc_label: 0.3632, source_val_label_loss: 0.0589, target_val_label_loss: 2.1619, \n",
      "=============================================================\n"
     ]
    },
    {
     "name": "stdout",
     "output_type": "stream",
     "text": [
      "Patience (3) exhausted\n"
     ]
    }
   ],
   "source": [
    "###################################\n",
    "# train\n",
    "###################################\n",
    "jig = PTN_Train_Eval_Test_Jig(model, p.BEST_MODEL_PATH, p.device)\n",
    "\n",
    "jig.train(\n",
    "    train_iterable=datasets.source.processed.train,\n",
    "    source_val_iterable=datasets.source.processed.val,\n",
    "    target_val_iterable=datasets.target.processed.val,\n",
    "    num_epochs=p.n_epoch,\n",
    "    num_logs_per_epoch=p.NUM_LOGS_PER_EPOCH,\n",
    "    patience=p.patience,\n",
    "    optimizer=optimizer,\n",
    "    criteria_for_best=p.criteria_for_best,\n",
    ")"
   ]
  },
  {
   "cell_type": "code",
   "execution_count": 23,
   "id": "31e8fabf",
   "metadata": {
    "execution": {
     "iopub.execute_input": "2022-03-20T08:53:09.849500Z",
     "iopub.status.busy": "2022-03-20T08:53:09.849073Z",
     "iopub.status.idle": "2022-03-20T08:53:09.865177Z",
     "shell.execute_reply": "2022-03-20T08:53:09.864900Z"
    },
    "papermill": {
     "duration": 0.046377,
     "end_time": "2022-03-20T08:53:09.865245",
     "exception": false,
     "start_time": "2022-03-20T08:53:09.818868",
     "status": "completed"
    },
    "tags": []
   },
   "outputs": [],
   "source": [
    "total_experiment_time_secs = time.time() - start_time_secs"
   ]
  },
  {
   "cell_type": "code",
   "execution_count": 24,
   "id": "87b9595b",
   "metadata": {
    "execution": {
     "iopub.execute_input": "2022-03-20T08:53:09.928096Z",
     "iopub.status.busy": "2022-03-20T08:53:09.927802Z",
     "iopub.status.idle": "2022-03-20T08:56:50.547075Z",
     "shell.execute_reply": "2022-03-20T08:56:50.546595Z"
    },
    "papermill": {
     "duration": 220.65409,
     "end_time": "2022-03-20T08:56:50.547190",
     "exception": false,
     "start_time": "2022-03-20T08:53:09.893100",
     "status": "completed"
    },
    "tags": []
   },
   "outputs": [],
   "source": [
    "###################################\n",
    "# Evaluate the model\n",
    "###################################\n",
    "source_test_label_accuracy, source_test_label_loss = jig.test(datasets.source.processed.test)\n",
    "target_test_label_accuracy, target_test_label_loss = jig.test(datasets.target.processed.test)\n",
    "\n",
    "source_val_label_accuracy, source_val_label_loss = jig.test(datasets.source.processed.val)\n",
    "target_val_label_accuracy, target_val_label_loss = jig.test(datasets.target.processed.val)\n",
    "\n",
    "history = jig.get_history()\n",
    "\n",
    "total_epochs_trained = len(history[\"epoch_indices\"])\n",
    "\n",
    "val_dl = Iterable_Aggregator((datasets.source.original.val,datasets.target.original.val))\n",
    "\n",
    "confusion = ptn_confusion_by_domain_over_dataloader(model, p.device, val_dl)\n",
    "per_domain_accuracy = per_domain_accuracy_from_confusion(confusion)\n",
    "\n",
    "# Add a key to per_domain_accuracy for if it was a source domain\n",
    "for domain, accuracy in per_domain_accuracy.items():\n",
    "    per_domain_accuracy[domain] = {\n",
    "        \"accuracy\": accuracy,\n",
    "        \"source?\": domain in p.domains_source\n",
    "    }\n",
    "\n",
    "# Do an independent accuracy assesment JUST TO BE SURE!\n",
    "# _source_test_label_accuracy = independent_accuracy_assesment(model, datasets.source.processed.test, p.device)\n",
    "# _target_test_label_accuracy = independent_accuracy_assesment(model, datasets.target.processed.test, p.device)\n",
    "# _source_val_label_accuracy = independent_accuracy_assesment(model, datasets.source.processed.val, p.device)\n",
    "# _target_val_label_accuracy = independent_accuracy_assesment(model, datasets.target.processed.val, p.device)\n",
    "\n",
    "# assert(_source_test_label_accuracy == source_test_label_accuracy)\n",
    "# assert(_target_test_label_accuracy == target_test_label_accuracy)\n",
    "# assert(_source_val_label_accuracy == source_val_label_accuracy)\n",
    "# assert(_target_val_label_accuracy == target_val_label_accuracy)\n",
    "\n",
    "experiment = {\n",
    "    \"experiment_name\": p.experiment_name,\n",
    "    \"parameters\": dict(p),\n",
    "    \"results\": {\n",
    "        \"source_test_label_accuracy\": source_test_label_accuracy,\n",
    "        \"source_test_label_loss\": source_test_label_loss,\n",
    "        \"target_test_label_accuracy\": target_test_label_accuracy,\n",
    "        \"target_test_label_loss\": target_test_label_loss,\n",
    "        \"source_val_label_accuracy\": source_val_label_accuracy,\n",
    "        \"source_val_label_loss\": source_val_label_loss,\n",
    "        \"target_val_label_accuracy\": target_val_label_accuracy,\n",
    "        \"target_val_label_loss\": target_val_label_loss,\n",
    "        \"total_epochs_trained\": total_epochs_trained,\n",
    "        \"total_experiment_time_secs\": total_experiment_time_secs,\n",
    "        \"confusion\": confusion,\n",
    "        \"per_domain_accuracy\": per_domain_accuracy,\n",
    "    },\n",
    "    \"history\": history,\n",
    "    \"dataset_metrics\": get_dataset_metrics(datasets, \"ptn\"),\n",
    "}"
   ]
  },
  {
   "cell_type": "code",
   "execution_count": 25,
   "id": "54a21829",
   "metadata": {
    "execution": {
     "iopub.execute_input": "2022-03-20T08:56:50.610373Z",
     "iopub.status.busy": "2022-03-20T08:56:50.610111Z",
     "iopub.status.idle": "2022-03-20T08:56:50.743448Z",
     "shell.execute_reply": "2022-03-20T08:56:50.743856Z"
    },
    "papermill": {
     "duration": 0.162952,
     "end_time": "2022-03-20T08:56:50.743988",
     "exception": false,
     "start_time": "2022-03-20T08:56:50.581036",
     "status": "completed"
    },
    "tags": []
   },
   "outputs": [
    {
     "data": {
      "image/png": "[encoded data removed]",
      "text/plain": [
       "<Figure size 1080x504 with 1 Axes>"
      ]
     },
     "metadata": {
      "needs_background": "light"
     },
     "output_type": "display_data"
    }
   ],
   "source": [
    "ax = get_loss_curve(experiment)\n",
    "plt.show()"
   ]
  },
  {
   "cell_type": "code",
   "execution_count": 26,
   "id": "fd8a0f60",
   "metadata": {
    "execution": {
     "iopub.execute_input": "2022-03-20T08:56:50.806372Z",
     "iopub.status.busy": "2022-03-20T08:56:50.805695Z",
     "iopub.status.idle": "2022-03-20T08:56:50.951171Z",
     "shell.execute_reply": "2022-03-20T08:56:50.951396Z"
    },
    "papermill": {
     "duration": 0.176054,
     "end_time": "2022-03-20T08:56:50.951472",
     "exception": false,
     "start_time": "2022-03-20T08:56:50.775418",
     "status": "completed"
    },
    "tags": []
   },
   "outputs": [
    {
     "data": {
      "text/plain": [
       "<AxesSubplot:title={'center':'Results'}>"
      ]
     },
     "execution_count": 26,
     "metadata": {},
     "output_type": "execute_result"
    },
    {
     "data": {
      "image/png": "[encoded data removed]",
      "text/plain": [
       "<Figure size 1080x504 with 1 Axes>"
      ]
     },
     "metadata": {
      "needs_background": "light"
     },
     "output_type": "display_data"
    }
   ],
   "source": [
    "get_results_table(experiment)"
   ]
  },
  {
   "cell_type": "code",
   "execution_count": 27,
   "id": "cf8dc689",
   "metadata": {
    "execution": {
     "iopub.execute_input": "2022-03-20T08:56:51.014163Z",
     "iopub.status.busy": "2022-03-20T08:56:51.013906Z",
     "iopub.status.idle": "2022-03-20T08:56:51.174780Z",
     "shell.execute_reply": "2022-03-20T08:56:51.174280Z"
    },
    "papermill": {
     "duration": 0.193469,
     "end_time": "2022-03-20T08:56:51.174890",
     "exception": false,
     "start_time": "2022-03-20T08:56:50.981421",
     "status": "completed"
    },
    "tags": []
   },
   "outputs": [
    {
     "data": {
      "text/plain": [
       "<AxesSubplot:title={'center':'Per Domain Validation Accuracy'}, xlabel='domain'>"
      ]
     },
     "execution_count": 27,
     "metadata": {},
     "output_type": "execute_result"
    },
    {
     "data": {
      "image/png": "[encoded data removed]",
      "text/plain": [
       "<Figure size 1080x504 with 1 Axes>"
      ]
     },
     "metadata": {
      "needs_background": "light"
     },
     "output_type": "display_data"
    }
   ],
   "source": [
    "get_domain_accuracies(experiment)"
   ]
  },
  {
   "cell_type": "code",
   "execution_count": 28,
   "id": "a74ae082",
   "metadata": {
    "execution": {
     "iopub.execute_input": "2022-03-20T08:56:51.244657Z",
     "iopub.status.busy": "2022-03-20T08:56:51.244398Z",
     "iopub.status.idle": "2022-03-20T08:56:51.260900Z",
     "shell.execute_reply": "2022-03-20T08:56:51.260400Z"
    },
    "papermill": {
     "duration": 0.050174,
     "end_time": "2022-03-20T08:56:51.261010",
     "exception": false,
     "start_time": "2022-03-20T08:56:51.210836",
     "status": "completed"
    },
    "tags": []
   },
   "outputs": [
    {
     "name": "stdout",
     "output_type": "stream",
     "text": [
      "Source Test Label Accuracy: 0.9839717741935484 Target Test Label Accuracy: 0.48509114583333335\n",
      "Source Val Label Accuracy: 0.9826407967032967 Target Val Label Accuracy: 0.48362630208333335\n"
     ]
    }
   ],
   "source": [
    "print(\"Source Test Label Accuracy:\", experiment[\"results\"][\"source_test_label_accuracy\"], \"Target Test Label Accuracy:\", experiment[\"results\"][\"target_test_label_accuracy\"])\n",
    "print(\"Source Val Label Accuracy:\", experiment[\"results\"][\"source_val_label_accuracy\"], \"Target Val Label Accuracy:\", experiment[\"results\"][\"target_val_label_accuracy\"])"
   ]
  },
  {
   "cell_type": "code",
   "execution_count": 29,
   "id": "dacca602",
   "metadata": {
    "execution": {
     "iopub.execute_input": "2022-03-20T08:56:51.330101Z",
     "iopub.status.busy": "2022-03-20T08:56:51.328479Z",
     "iopub.status.idle": "2022-03-20T08:56:51.346398Z",
     "shell.execute_reply": "2022-03-20T08:56:51.346806Z"
    },
    "papermill": {
     "duration": 0.051362,
     "end_time": "2022-03-20T08:56:51.346933",
     "exception": false,
     "start_time": "2022-03-20T08:56:51.295571",
     "status": "completed"
    },
    "tags": [
     "experiment_json"
    ]
   },
   "outputs": [
    {
     "data": {
      "text/plain": [
       "'{\"experiment_name\": \"tl_3Av2:cores+wisig -> oracle.run1.framed\", \"parameters\": {\"experiment_name\": \"tl_3Av2:cores+wisig -> oracle.run1.framed\", \"device\": \"cuda\", \"lr\": 0.0001, \"x_shape\": [2, 200], \"n_shot\": 3, \"n_query\": 2, \"train_k_factor\": 3, \"val_k_factor\": 2, \"test_k_factor\": 2, \"torch_default_dtype\": \"torch.float32\", \"n_epoch\": 50, \"patience\": 3, \"criteria_for_best\": \"target_accuracy\", \"x_net\": [{\"class\": \"nnReshape\", \"kargs\": {\"shape\": [-1, 1, 2, 200]}}, {\"class\": \"Conv2d\", \"kargs\": {\"in_channels\": 1, \"out_channels\": 256, \"kernel_size\": [1, 7], \"bias\": false, \"padding\": [0, 3]}}, {\"class\": \"ReLU\", \"kargs\": {\"inplace\": true}}, {\"class\": \"BatchNorm2d\", \"kargs\": {\"num_features\": 256}}, {\"class\": \"Conv2d\", \"kargs\": {\"in_channels\": 256, \"out_channels\": 80, \"kernel_size\": [2, 7], \"bias\": true, \"padding\": [0, 3]}}, {\"class\": \"ReLU\", \"kargs\": {\"inplace\": true}}, {\"class\": \"BatchNorm2d\", \"kargs\": {\"num_features\": 80}}, {\"class\": \"Flatten\", \"kargs\": {}}, {\"class\": \"Linear\", \"kargs\": {\"in_features\": 16000, \"out_features\": 256}}, {\"class\": \"ReLU\", \"kargs\": {\"inplace\": true}}, {\"class\": \"BatchNorm1d\", \"kargs\": {\"num_features\": 256}}, {\"class\": \"Linear\", \"kargs\": {\"in_features\": 256, \"out_features\": 256}}], \"NUM_LOGS_PER_EPOCH\": 10, \"BEST_MODEL_PATH\": \"./best_model.pth\", \"n_way\": 16, \"datasets\": [{\"labels\": [\"1-10.\", \"1-11.\", \"1-15.\", \"1-16.\", \"1-17.\", \"1-18.\", \"1-19.\", \"10-4.\", \"10-7.\", \"11-1.\", \"11-14.\", \"11-17.\", \"11-20.\", \"11-7.\", \"13-20.\", \"13-8.\", \"14-10.\", \"14-11.\", \"14-14.\", \"14-7.\", \"15-1.\", \"15-20.\", \"16-1.\", \"16-16.\", \"17-10.\", \"17-11.\", \"17-2.\", \"19-1.\", \"19-16.\", \"19-19.\", \"19-20.\", \"19-3.\", \"2-10.\", \"2-11.\", \"2-17.\", \"2-18.\", \"2-20.\", \"2-3.\", \"2-4.\", \"2-5.\", \"2-6.\", \"2-7.\", \"2-8.\", \"3-13.\", \"3-18.\", \"3-3.\", \"4-1.\", \"4-10.\", \"4-11.\", \"4-19.\", \"5-5.\", \"6-15.\", \"7-10.\", \"7-14.\", \"8-18.\", \"8-20.\", \"8-3.\", \"8-8.\"], \"domains\": [1, 2, 3, 4, 5], \"num_examples_per_domain_per_label\": -1, \"pickle_path\": \"/mnt/wd500GB/CSC500/csc500-main/datasets/cores.stratified_ds.2022A.pkl\", \"source_or_target_dataset\": \"source\", \"x_transforms\": [\"take_200\"], \"episode_transforms\": [], \"domain_prefix\": \"C_\"}, {\"labels\": [\"1-10\", \"1-12\", \"1-14\", \"1-16\", \"1-18\", \"1-19\", \"1-8\", \"10-11\", \"10-17\", \"10-4\", \"10-7\", \"11-1\", \"11-10\", \"11-19\", \"11-20\", \"11-4\", \"11-7\", \"12-19\", \"12-20\", \"12-7\", \"13-14\", \"13-18\", \"13-19\", \"13-20\", \"13-3\", \"13-7\", \"14-10\", \"14-11\", \"14-12\", \"14-13\", \"14-14\", \"14-19\", \"14-20\", \"14-7\", \"14-8\", \"14-9\", \"15-1\", \"15-19\", \"15-6\", \"16-1\", \"16-16\", \"16-19\", \"16-20\", \"17-10\", \"17-11\", \"18-1\", \"18-10\", \"18-11\", \"18-12\", \"18-13\", \"18-14\", \"18-15\", \"18-16\", \"18-17\", \"18-19\", \"18-2\", \"18-20\", \"18-4\", \"18-5\", \"18-7\", \"18-8\", \"18-9\", \"19-1\", \"19-10\", \"19-11\", \"19-12\", \"19-13\", \"19-14\", \"19-15\", \"19-19\", \"19-2\", \"19-20\", \"19-3\", \"19-4\", \"19-6\", \"19-7\", \"19-8\", \"19-9\", \"2-1\", \"2-13\", \"2-15\", \"2-3\", \"2-4\", \"2-5\", \"2-6\", \"2-7\", \"2-8\", \"20-1\", \"20-12\", \"20-14\", \"20-15\", \"20-16\", \"20-18\", \"20-19\", \"20-20\", \"20-3\", \"20-4\", \"20-5\", \"20-7\", \"20-8\", \"3-1\", \"3-13\", \"3-18\", \"3-2\", \"3-8\", \"4-1\", \"4-10\", \"4-11\", \"5-1\", \"5-5\", \"6-1\", \"6-15\", \"6-6\", \"7-10\", \"7-11\", \"7-12\", \"7-13\", \"7-14\", \"7-7\", \"7-8\", \"7-9\", \"8-1\", \"8-13\", \"8-14\", \"8-18\", \"8-20\", \"8-3\", \"8-8\", \"9-1\", \"9-7\"], \"domains\": [1, 2, 3, 4], \"num_examples_per_domain_per_label\": -1, \"pickle_path\": \"/mnt/wd500GB/CSC500/csc500-main/datasets/wisig.node3-19.stratified_ds.2022A.pkl\", \"source_or_target_dataset\": \"source\", \"x_transforms\": [\"take_200\"], \"episode_transforms\": [], \"domain_prefix\": \"W_\"}, {\"labels\": [\"3123D52\", \"3123D65\", \"3123D79\", \"3123D80\", \"3123D54\", \"3123D70\", \"3123D7B\", \"3123D89\", \"3123D58\", \"3123D76\", \"3123D7D\", \"3123EFE\", \"3123D64\", \"3123D78\", \"3123D7E\", \"3124E4A\"], \"domains\": [32, 38, 8, 44, 14, 50, 20, 26], \"num_examples_per_domain_per_label\": 2000, \"pickle_path\": \"/mnt/wd500GB/CSC500/csc500-main/datasets/oracle.Run1_framed_2000Examples_stratified_ds.2022A.pkl\", \"source_or_target_dataset\": \"target\", \"x_transforms\": [\"take_200\", \"resample_20Msps_to_25Msps\"], \"episode_transforms\": [], \"domain_prefix\": \"O_\"}], \"seed\": 1337, \"dataset_seed\": 1337, \"domains_source\": [\"C_1\", \"C_2\", \"C_3\", \"C_4\", \"C_5\", \"W_1\", \"W_2\", \"W_3\", \"W_4\"], \"domains_target\": [\"O_32\", \"O_38\", \"O_8\", \"O_44\", \"O_14\", \"O_50\", \"O_20\", \"O_26\"]}, \"results\": {\"source_test_label_accuracy\": 0.9839717741935484, \"source_test_label_loss\": 0.07400587201118469, \"target_test_label_accuracy\": 0.48509114583333335, \"target_test_label_loss\": 2.2449209690093994, \"source_val_label_accuracy\": 0.9826407967032967, \"source_val_label_loss\": 0.07834311574697495, \"target_val_label_accuracy\": 0.48362630208333335, \"target_val_label_loss\": 2.2461047172546387, \"total_epochs_trained\": 6, \"total_experiment_time_secs\": 3756.322767496109, \"confusion\": {\"W_3\": {\"109\": {\"109\": 127, \"70\": 1}, \"127\": {\"127\": 126, \"110\": 1, \"69\": 1}, \"14\": {\"14\": 80}, \"7\": {\"7\": 111, \"88\": 1}, \"129\": {\"129\": 31, \"5\": 1}, \"57\": {\"57\": 20}, \"84\": {\"84\": 107, \"118\": 1}, \"114\": {\"114\": 121, \"29\": 1, \"64\": 1, \"106\": 1}, \"44\": {\"44\": 72}, \"21\": {\"21\": 45, \"84\": 1, \"101\": 1, \"73\": 1}, \"46\": {\"46\": 16}, \"100\": {\"100\": 16}, \"63\": {\"63\": 14, \"123\": 1, \"82\": 1}, \"24\": {\"24\": 47, \"71\": 1}, \"107\": {\"107\": 117, \"98\": 1}, \"35\": {\"35\": 11, \"69\": 1}, \"81\": {\"81\": 32}, \"64\": {\"64\": 20}, \"59\": {\"59\": 12}, \"33\": {\"33\": 112, \"90\": 1, \"125\": 1}, \"34\": {\"34\": 31, \"77\": 1}, \"36\": {\"36\": 117, \"125\": 1, \"27\": 1, \"113\": 1}, \"79\": {\"79\": 12}, \"80\": {\"80\": 16}, \"77\": {\"77\": 15, \"105\": 1}, \"22\": {\"22\": 16}, \"124\": {\"124\": 122, \"5\": 1, \"32\": 1}, \"2\": {\"2\": 25, \"89\": 1, \"117\": 2}, \"87\": {\"87\": 111, \"127\": 1}, \"105\": {\"105\": 122}, \"95\": {\"95\": 32}, \"43\": {\"43\": 51, \"86\": 1, \"122\": 1, \"127\": 1, \"88\": 1, \"78\": 1}, \"56\": {\"56\": 12}, \"18\": {\"18\": 121, \"88\": 1, \"21\": 1, \"69\": 1}, \"85\": {\"85\": 36}, \"113\": {\"113\": 119, \"62\": 1}, \"97\": {\"97\": 17, \"27\": 1, \"15\": 1, \"33\": 1}, \"86\": {\"86\": 26, \"84\": 1, \"55\": 1}, \"128\": {\"128\": 30, \"56\": 1, \"88\": 1}, \"123\": {\"123\": 15, \"80\": 1}, \"8\": {\"8\": 129, \"49\": 1}, \"110\": {\"110\": 82, \"88\": 1, \"17\": 1, \"70\": 1, \"44\": 1, \"69\": 2, \"82\": 1, \"106\": 1}, \"126\": {\"21\": 1, \"126\": 99, \"94\": 1, \"69\": 1, \"88\": 2}, \"42\": {\"42\": 27, \"29\": 1}, \"96\": {\"96\": 20}, \"83\": {\"83\": 24}, \"54\": {\"54\": 16}, \"65\": {\"65\": 12}, \"30\": {\"30\": 81, \"1\": 1, \"69\": 1, \"70\": 1}, \"121\": {\"121\": 26, \"65\": 1, \"100\": 2, \"21\": 1, \"127\": 2}, \"68\": {\"68\": 15, \"32\": 1}, \"45\": {\"65\": 2, \"45\": 12, \"89\": 1, \"114\": 1}, \"48\": {\"48\": 14, \"13\": 2}, \"4\": {\"4\": 94, \"71\": 1, \"87\": 1}, \"67\": {\"67\": 16}, \"103\": {\"103\": 15, \"53\": 1}, \"74\": {\"74\": 16}, \"1\": {\"1\": 106, \"16\": 1, \"84\": 1}, \"61\": {\"61\": 16}, \"101\": {\"101\": 48, \"9\": 1, \"0\": 1, \"105\": 1, \"92\": 1}, \"93\": {\"93\": 138}, \"26\": {\"26\": 130}, \"71\": {\"71\": 66, \"113\": 1, \"55\": 1}, \"15\": {\"15\": 102, \"69\": 1, \"70\": 1}, \"55\": {\"55\": 16}, \"104\": {\"104\": 16}, \"112\": {\"112\": 14, \"85\": 1, \"3\": 1}, \"102\": {\"102\": 122}, \"117\": {\"117\": 112}, \"119\": {\"119\": 16}, \"20\": {\"20\": 15, \"26\": 1}, \"120\": {\"120\": 20}, \"39\": {\"39\": 101, \"69\": 1, \"127\": 2, \"105\": 2, \"70\": 1, \"8\": 1}, \"49\": {\"49\": 24}, \"53\": {\"53\": 20}, \"92\": {\"92\": 30, \"114\": 1, \"120\": 1}, \"3\": {\"3\": 116}, \"47\": {\"47\": 12}, \"115\": {\"115\": 14, \"90\": 1, \"45\": 1}, \"58\": {\"58\": 16}, \"29\": {\"29\": 32}, \"12\": {\"12\": 104}, \"62\": {\"62\": 117, \"16\": 1}, \"11\": {\"11\": 140}, \"72\": {\"72\": 28}, \"98\": {\"98\": 106}, \"122\": {\"122\": 58, \"82\": 1, \"110\": 1}, \"17\": {\"100\": 1, \"17\": 9, \"11\": 1, \"63\": 1, \"26\": 1, \"68\": 1, \"104\": 1, \"128\": 1}, \"94\": {\"94\": 84}, \"106\": {\"106\": 88, \"94\": 1, \"114\": 1}, \"28\": {\"28\": 16}, \"69\": {\"69\": 78, \"88\": 1, \"106\": 1, \"87\": 1, \"84\": 1, \"70\": 1, \"27\": 1}, \"125\": {\"125\": 114}, \"19\": {\"19\": 32}, \"41\": {\"41\": 16}, \"60\": {\"60\": 28}, \"70\": {\"70\": 67, \"84\": 1, \"69\": 1, \"92\": 1, \"106\": 1, \"88\": 1}, \"27\": {\"27\": 93, \"16\": 1, \"24\": 1, \"36\": 1}, \"10\": {\"10\": 115, \"62\": 1, \"92\": 1, \"0\": 1}, \"108\": {\"108\": 138, \"84\": 1, \"110\": 1}, \"9\": {\"9\": 32}, \"25\": {\"25\": 15, \"54\": 1}, \"37\": {\"37\": 15, \"73\": 1}, \"0\": {\"0\": 116}, \"66\": {\"66\": 16}, \"51\": {\"51\": 16}, \"76\": {\"76\": 16}, \"32\": {\"32\": 31, \"64\": 1}, \"88\": {\"88\": 110, \"84\": 1, \"114\": 1}, \"31\": {\"31\": 20}, \"91\": {\"91\": 18, \"103\": 3, \"52\": 2, \"6\": 1}, \"90\": {\"90\": 126}, \"13\": {\"13\": 9, \"102\": 1, \"12\": 1, \"2\": 1, \"92\": 1, \"44\": 1, \"103\": 1, \"115\": 1}, \"50\": {\"50\": 16}, \"78\": {\"78\": 16}, \"116\": {\"116\": 26, \"92\": 1, \"120\": 1}, \"5\": {\"5\": 110, \"70\": 2}, \"75\": {\"75\": 16}, \"89\": {\"89\": 27, \"69\": 1}, \"16\": {\"16\": 114, \"127\": 1, \"27\": 1}, \"38\": {\"38\": 15, \"126\": 1}, \"118\": {\"118\": 96, \"71\": 1, \"109\": 2, \"105\": 1}, \"99\": {\"99\": 35, \"36\": 1}, \"52\": {\"52\": 16}, \"111\": {\"111\": 128}, \"23\": {\"23\": 28, \"110\": 2, \"30\": 1, \"87\": 1}, \"73\": {\"73\": 39, \"71\": 1}, \"82\": {\"82\": 25, \"92\": 1, \"45\": 1, \"122\": 1}, \"40\": {\"40\": 126, \"88\": 2}, \"6\": {\"6\": 32}}, \"C_3\": {\"43\": {\"43\": 128}, \"9\": {\"9\": 150}, \"6\": {\"6\": 88}, \"3\": {\"3\": 144}, \"16\": {\"16\": 134}, \"51\": {\"51\": 128}, \"31\": {\"31\": 28}, \"46\": {\"46\": 134}, \"19\": {\"19\": 124}, \"8\": {\"8\": 152}, \"18\": {\"18\": 84}, \"37\": {\"37\": 28}, \"24\": {\"24\": 104}, \"10\": {\"10\": 64}, \"44\": {\"44\": 88}, \"14\": {\"14\": 40}, \"38\": {\"38\": 28}, \"53\": {\"53\": 140}, \"20\": {\"20\": 132}, \"32\": {\"32\": 28}, \"36\": {\"36\": 100}, \"33\": {\"33\": 28}, \"56\": {\"56\": 136}, \"23\": {\"23\": 130}, \"54\": {\"54\": 100}, \"21\": {\"21\": 126}, \"28\": {\"28\": 28}, \"26\": {\"26\": 24}, \"48\": {\"48\": 116}, \"52\": {\"52\": 118}, \"39\": {\"39\": 16}, \"22\": {\"22\": 140}, \"13\": {\"13\": 128}, \"2\": {\"2\": 32}, \"34\": {\"34\": 32}, \"27\": {\"27\": 132}, \"45\": {\"45\": 60}, \"35\": {\"35\": 28}, \"29\": {\"29\": 128}, \"25\": {\"25\": 144}, \"0\": {\"0\": 124}, \"41\": {\"41\": 28}, \"11\": {\"11\": 142}, \"5\": {\"5\": 108}, \"1\": {\"1\": 100}, \"57\": {\"57\": 116}, \"17\": {\"17\": 106, \"10\": 1, \"24\": 1}, \"7\": {\"7\": 36}, \"12\": {\"12\": 92}, \"47\": {\"47\": 92}, \"40\": {\"40\": 136}, \"15\": {\"15\": 141, \"11\": 1}, \"42\": {\"42\": 28}, \"55\": {\"55\": 150}, \"49\": {\"49\": 20}, \"30\": {\"30\": 120}, \"50\": {\"50\": 133, \"3\": 1}, \"4\": {\"4\": 136}}, \"C_4\": {\"35\": {\"35\": 40}, \"25\": {\"25\": 134}, \"24\": {\"24\": 56}, \"48\": {\"48\": 138}, \"51\": {\"51\": 144}, \"13\": {\"13\": 120}, \"14\": {\"14\": 13, \"2\": 2, \"40\": 1}, \"32\": {\"32\": 24}, \"30\": {\"30\": 44}, \"34\": {\"34\": 24}, \"9\": {\"9\": 136}, \"1\": {\"1\": 40}, \"0\": {\"0\": 80}, \"38\": {\"38\": 40}, \"22\": {\"22\": 128}, \"40\": {\"40\": 119, \"44\": 1}, \"6\": {\"6\": 112}, \"16\": {\"16\": 96}, \"11\": {\"11\": 104}, \"20\": {\"20\": 122}, \"17\": {\"17\": 80}, \"26\": {\"26\": 24}, \"54\": {\"54\": 108}, \"55\": {\"55\": 154}, \"50\": {\"50\": 127, \"3\": 4, \"55\": 1}, \"19\": {\"19\": 142}, \"44\": {\"44\": 122}, \"47\": {\"47\": 120}, \"33\": {\"33\": 36}, \"5\": {\"5\": 108}, \"18\": {\"18\": 108}, \"21\": {\"21\": 124}, \"41\": {\"41\": 36}, \"23\": {\"23\": 128}, \"39\": {\"39\": 20}, \"37\": {\"37\": 24}, \"8\": {\"8\": 144}, \"49\": {\"49\": 20}, \"53\": {\"53\": 140}, \"31\": {\"31\": 28}, \"28\": {\"28\": 32}, \"3\": {\"3\": 124}, \"27\": {\"27\": 138}, \"46\": {\"46\": 127, \"22\": 1}, \"12\": {\"12\": 92}, \"7\": {\"7\": 24}, \"4\": {\"4\": 132}, \"42\": {\"42\": 32}, \"43\": {\"43\": 130}, \"29\": {\"29\": 120}, \"57\": {\"57\": 100}, \"52\": {\"52\": 104}, \"45\": {\"45\": 96}, \"36\": {\"36\": 92}, \"10\": {\"10\": 126}, \"15\": {\"15\": 134}, \"56\": {\"56\": 124}, \"2\": {\"2\": 36}}, \"W_4\": {\"28\": {\"28\": 20}, \"4\": {\"4\": 100, \"82\": 1, \"27\": 1, \"86\": 1, \"71\": 1}, \"72\": {\"72\": 30, \"57\": 1, \"108\": 1}, \"111\": {\"111\": 132, \"16\": 2, \"0\": 1, \"1\": 1}, \"108\": {\"108\": 84, \"33\": 1, \"3\": 1, \"39\": 2, \"27\": 1, \"70\": 2, \"84\": 1}, \"43\": {\"43\": 114, \"87\": 4, \"70\": 1, \"71\": 1}, \"96\": {\"96\": 18, \"14\": 1, \"110\": 1}, \"89\": {\"89\": 30, \"1\": 1, \"8\": 1}, \"31\": {\"31\": 16}, \"45\": {\"45\": 16}, \"2\": {\"2\": 28}, \"114\": {\"114\": 126, \"12\": 1, \"88\": 1}, \"11\": {\"11\": 135, \"98\": 1}, \"12\": {\"12\": 97, \"21\": 1, \"62\": 1, \"74\": 1}, \"14\": {\"14\": 111, \"105\": 1}, \"90\": {\"90\": 153, \"108\": 1}, \"10\": {\"10\": 116, \"24\": 4, \"88\": 1, \"27\": 1}, \"63\": {\"63\": 16}, \"85\": {\"85\": 27, \"1\": 1}, \"64\": {\"64\": 14, \"84\": 1, \"71\": 1}, \"82\": {\"82\": 31, \"100\": 1}, \"58\": {\"58\": 15, \"27\": 1}, \"3\": {\"3\": 132, \"21\": 2, \"88\": 1, \"27\": 1}, \"54\": {\"54\": 16}, \"121\": {\"121\": 31, \"44\": 1}, \"42\": {\"42\": 27, \"73\": 1}, \"98\": {\"98\": 116, \"109\": 1, \"19\": 1, \"25\": 1, \"44\": 1}, \"123\": {\"123\": 16}, \"91\": {\"91\": 18, \"6\": 3, \"77\": 1, \"41\": 2}, \"83\": {\"83\": 26, \"100\": 1, \"106\": 1}, \"99\": {\"99\": 40}, \"112\": {\"112\": 16}, \"119\": {\"119\": 16}, \"70\": {\"70\": 112, \"27\": 2, \"11\": 2, \"105\": 1, \"88\": 4, \"67\": 1, \"117\": 1, \"108\": 1}, \"20\": {\"20\": 15, \"1\": 1}, \"120\": {\"120\": 18, \"64\": 2}, \"7\": {\"7\": 122, \"108\": 1, \"1\": 1}, \"60\": {\"60\": 32}, \"113\": {\"113\": 116, \"5\": 1, \"24\": 1}, \"37\": {\"37\": 13, \"84\": 1, \"120\": 1, \"128\": 1}, \"124\": {\"124\": 110}, \"27\": {\"27\": 96, \"111\": 1, \"71\": 1, \"126\": 1, \"1\": 1}, \"86\": {\"86\": 28}, \"127\": {\"127\": 102, \"1\": 2, \"3\": 1, \"111\": 1, \"0\": 1, \"122\": 1}, \"62\": {\"62\": 55, \"71\": 1, \"122\": 1, \"108\": 1, \"60\": 1, \"3\": 1}, \"122\": {\"122\": 78, \"3\": 1, \"113\": 1, \"90\": 1, \"1\": 1, \"87\": 1, \"43\": 1}, \"51\": {\"51\": 8, \"85\": 1, \"1\": 1, \"21\": 1, \"53\": 1, \"9\": 1, \"23\": 1, \"62\": 1, \"24\": 1}, \"109\": {\"109\": 113, \"122\": 1}, \"106\": {\"106\": 107, \"3\": 1, \"107\": 1, \"78\": 1, \"1\": 3, \"12\": 1}, \"94\": {\"94\": 87, \"36\": 1}, \"38\": {\"38\": 16}, \"129\": {\"129\": 27, \"50\": 1}, \"116\": {\"116\": 24, \"67\": 2, \"63\": 2}, \"107\": {\"107\": 118}, \"30\": {\"30\": 73, \"0\": 1, \"10\": 1, \"27\": 1}, \"102\": {\"102\": 131, \"60\": 1}, \"74\": {\"74\": 15, \"19\": 1}, \"101\": {\"101\": 131, \"84\": 1}, \"117\": {\"117\": 117, \"71\": 1, \"1\": 1, \"90\": 1, \"16\": 1, \"44\": 1, \"92\": 1, \"81\": 1}, \"1\": {\"1\": 98, \"71\": 3, \"24\": 2, \"88\": 1, \"127\": 1, \"98\": 1, \"21\": 1, \"14\": 1}, \"84\": {\"84\": 128, \"0\": 1, \"118\": 1, \"14\": 1, \"88\": 1}, \"17\": {\"17\": 20}, \"6\": {\"6\": 23, \"91\": 1}, \"110\": {\"110\": 122, \"84\": 1, \"88\": 1}, \"77\": {\"77\": 12}, \"8\": {\"8\": 128, \"3\": 1, \"82\": 1, \"127\": 1, \"101\": 1}, \"73\": {\"73\": 23, \"3\": 1}, \"126\": {\"126\": 118, \"27\": 1, \"39\": 3, \"107\": 1, \"88\": 1}, \"57\": {\"57\": 16}, \"95\": {\"95\": 31, \"73\": 1}, \"103\": {\"103\": 16}, \"97\": {\"97\": 17, \"73\": 1, \"10\": 1, \"98\": 1}, \"39\": {\"8\": 1, \"39\": 91, \"101\": 1, \"84\": 1, \"69\": 1, \"106\": 1, \"21\": 2, \"108\": 1, \"27\": 1}, \"100\": {\"100\": 20}, \"40\": {\"40\": 109, \"69\": 1}, \"36\": {\"36\": 123, \"94\": 1, \"84\": 1, \"21\": 1}, \"19\": {\"19\": 28}, \"118\": {\"118\": 109, \"3\": 1, \"24\": 1, \"12\": 1}, \"56\": {\"56\": 11, \"86\": 1}, \"26\": {\"26\": 125, \"84\": 1}, \"5\": {\"5\": 134, \"101\": 1, \"1\": 1}, \"21\": {\"21\": 35, \"82\": 1, \"23\": 1, \"78\": 2, \"84\": 1}, \"22\": {\"22\": 15, \"36\": 1}, \"68\": {\"68\": 16}, \"9\": {\"9\": 28}, \"66\": {\"66\": 15, \"56\": 1}, \"87\": {\"87\": 122, \"43\": 1, \"107\": 1}, \"71\": {\"71\": 101, \"12\": 1, \"21\": 1, \"69\": 1}, \"115\": {\"115\": 16}, \"23\": {\"23\": 7, \"89\": 1, \"21\": 1, \"101\": 3, \"113\": 1, \"105\": 1, \"107\": 1, \"3\": 1}, \"33\": {\"33\": 116, \"0\": 1, \"90\": 1}, \"35\": {\"35\": 11, \"3\": 1}, \"125\": {\"125\": 127, \"90\": 3, \"88\": 1, \"1\": 1}, \"47\": {\"95\": 2, \"47\": 10}, \"79\": {\"79\": 16}, \"53\": {\"53\": 16}, \"67\": {\"67\": 11, \"35\": 1, \"80\": 1, \"123\": 1, \"5\": 1, \"82\": 1}, \"80\": {\"80\": 16}, \"105\": {\"105\": 91, \"88\": 1, \"71\": 3, \"40\": 2, \"108\": 2, \"96\": 1}, \"76\": {\"76\": 16}, \"46\": {\"46\": 20}, \"34\": {\"34\": 30, \"32\": 1, \"54\": 1}, \"32\": {\"32\": 26, \"60\": 1, \"31\": 1}, \"13\": {\"13\": 16}, \"78\": {\"78\": 31, \"12\": 1, \"10\": 1, \"34\": 1, \"18\": 1, \"1\": 1}, \"41\": {\"41\": 16}, \"69\": {\"69\": 124, \"1\": 2, \"3\": 1, \"88\": 1}, \"88\": {\"88\": 127, \"74\": 1, \"70\": 2, \"69\": 1, \"90\": 1}, \"15\": {\"15\": 123, \"106\": 1, \"71\": 1, \"88\": 1, \"21\": 1, \"24\": 1}, \"61\": {\"61\": 15, \"6\": 1}, \"0\": {\"0\": 112, \"24\": 1, \"105\": 1, \"114\": 1, \"4\": 1}, \"104\": {\"104\": 15, \"70\": 1}, \"48\": {\"48\": 12, \"123\": 1, \"79\": 2, \"74\": 1}, \"25\": {\"25\": 16}, \"75\": {\"75\": 16}, \"81\": {\"81\": 34, \"107\": 1, \"1\": 1}, \"50\": {\"50\": 16}, \"52\": {\"52\": 20}, \"16\": {\"16\": 117, \"10\": 1, \"88\": 1, \"114\": 1}, \"44\": {\"44\": 64}, \"29\": {\"29\": 30, \"21\": 1, \"1\": 1}, \"93\": {\"93\": 123, \"105\": 1}, \"18\": {\"18\": 114}, \"49\": {\"49\": 32}, \"55\": {\"55\": 16}, \"59\": {\"59\": 11, \"21\": 1}, \"128\": {\"128\": 17, \"52\": 1, \"98\": 2, \"49\": 1, \"41\": 1, \"91\": 1, \"99\": 1}, \"24\": {\"24\": 115, \"27\": 3, \"7\": 1, \"10\": 1}, \"65\": {\"65\": 12}, \"92\": {\"92\": 28}}, \"W_1\": {\"108\": {\"108\": 124}, \"40\": {\"40\": 132, \"105\": 4}, \"68\": {\"68\": 14, \"22\": 1, \"111\": 1}, \"23\": {\"23\": 18, \"122\": 1, \"93\": 2, \"0\": 1, \"110\": 2}, \"26\": {\"26\": 118, \"27\": 1, \"70\": 1}, \"64\": {\"64\": 16}, \"22\": {\"22\": 13, \"116\": 1, \"74\": 1, \"3\": 1}, \"3\": {\"3\": 82, \"94\": 1, \"109\": 1, \"126\": 1, \"18\": 2, \"27\": 1}, \"4\": {\"4\": 99, \"12\": 1}, \"70\": {\"70\": 117, \"84\": 1, \"108\": 1, \"21\": 1}, \"57\": {\"57\": 11, \"3\": 1}, \"79\": {\"79\": 12}, \"9\": {\"9\": 32}, \"89\": {\"89\": 36}, \"110\": {\"110\": 128}, \"102\": {\"102\": 118, \"14\": 1, \"5\": 1}, \"31\": {\"31\": 16}, \"58\": {\"58\": 11, \"41\": 1}, \"47\": {\"47\": 12}, \"24\": {\"24\": 87, \"12\": 2, \"84\": 1, \"88\": 1, \"108\": 1}, \"19\": {\"19\": 28}, \"11\": {\"11\": 132}, \"52\": {\"52\": 20}, \"17\": {\"17\": 12, \"68\": 1, \"128\": 1, \"55\": 2}, \"25\": {\"25\": 16}, \"69\": {\"69\": 105, \"108\": 1, \"109\": 1, \"14\": 1}, \"96\": {\"96\": 15, \"17\": 1, \"65\": 1, \"76\": 1, \"109\": 1, \"74\": 1}, \"109\": {\"109\": 113, \"3\": 1}, \"115\": {\"115\": 12}, \"83\": {\"83\": 27, \"114\": 1}, \"84\": {\"84\": 127, \"88\": 1}, \"119\": {\"119\": 16}, \"122\": {\"122\": 84, \"70\": 1, \"109\": 1, \"105\": 1, \"12\": 1}, \"99\": {\"99\": 22, \"100\": 2}, \"1\": {\"1\": 133, \"129\": 1, \"84\": 1, \"127\": 1}, \"74\": {\"74\": 16}, \"85\": {\"85\": 32}, \"127\": {\"127\": 105, \"71\": 1, \"0\": 1, \"12\": 1}, \"111\": {\"111\": 117, \"5\": 2, \"24\": 1}, \"53\": {\"53\": 20}, \"88\": {\"88\": 131, \"108\": 1}, \"65\": {\"65\": 9, \"55\": 1, \"66\": 1, \"67\": 1}, \"7\": {\"7\": 134}, \"16\": {\"16\": 107, \"127\": 1}, \"128\": {\"128\": 22, \"86\": 1, \"72\": 1}, \"34\": {\"34\": 31, \"91\": 1}, \"129\": {\"129\": 26, \"2\": 2}, \"43\": {\"43\": 124, \"72\": 1, \"122\": 2, \"109\": 1}, \"92\": {\"92\": 28}, \"28\": {\"28\": 18, \"17\": 1, \"78\": 1}, \"27\": {\"27\": 92}, \"114\": {\"114\": 123, \"71\": 1}, \"73\": {\"73\": 20}, \"0\": {\"0\": 84}, \"104\": {\"104\": 16}, \"118\": {\"118\": 83, \"71\": 1}, \"41\": {\"41\": 16}, \"91\": {\"91\": 27, \"83\": 1}, \"124\": {\"124\": 122}, \"81\": {\"81\": 28}, \"63\": {\"63\": 16}, \"76\": {\"76\": 16}, \"10\": {\"10\": 118, \"17\": 1, \"109\": 1}, \"51\": {\"51\": 15, \"17\": 1}, \"82\": {\"82\": 36}, \"56\": {\"56\": 11, \"53\": 1}, \"30\": {\"30\": 52}, \"21\": {\"21\": 34, \"109\": 2, \"1\": 1, \"41\": 1, \"68\": 1, \"94\": 1}, \"46\": {\"46\": 12}, \"33\": {\"33\": 138}, \"101\": {\"101\": 121, \"12\": 1, \"108\": 1, \"98\": 1}, \"105\": {\"105\": 79, \"36\": 1, \"40\": 4}, \"50\": {\"50\": 15, \"113\": 1}, \"116\": {\"116\": 32}, \"77\": {\"77\": 16}, \"75\": {\"75\": 16}, \"95\": {\"95\": 36}, \"120\": {\"120\": 20}, \"18\": {\"18\": 108}, \"14\": {\"14\": 96}, \"44\": {\"44\": 76}, \"98\": {\"98\": 96}, \"121\": {\"121\": 32}, \"113\": {\"113\": 108}, \"103\": {\"103\": 15, \"89\": 1}, \"62\": {\"62\": 116, \"84\": 2, \"108\": 1, \"107\": 1}, \"32\": {\"32\": 32}, \"71\": {\"71\": 104, \"127\": 2, \"84\": 1, \"109\": 1}, \"94\": {\"94\": 89, \"12\": 2, \"33\": 1}, \"49\": {\"49\": 19, \"77\": 1}, \"12\": {\"12\": 101, \"109\": 1, \"21\": 1, \"70\": 1}, \"90\": {\"90\": 124}, \"93\": {\"93\": 123, \"43\": 1}, \"13\": {\"13\": 16}, \"67\": {\"23\": 1, \"67\": 15}, \"20\": {\"20\": 14, \"109\": 1, \"122\": 1}, \"2\": {\"2\": 28, \"86\": 2, \"129\": 2}, \"5\": {\"5\": 87, \"101\": 1}, \"54\": {\"54\": 15, \"122\": 1}, \"37\": {\"37\": 16}, \"38\": {\"38\": 16}, \"86\": {\"86\": 32, \"6\": 1, \"109\": 1, \"84\": 1, \"33\": 1}, \"55\": {\"55\": 12}, \"97\": {\"97\": 18, \"19\": 1, \"128\": 1}, \"29\": {\"29\": 28}, \"48\": {\"63\": 1, \"48\": 11}, \"60\": {\"60\": 15, \"34\": 1}, \"36\": {\"36\": 120, \"71\": 1, \"108\": 1}, \"42\": {\"42\": 23, \"91\": 3, \"77\": 1, \"108\": 1}, \"66\": {\"66\": 16}, \"126\": {\"126\": 126, \"5\": 1, \"108\": 1}, \"39\": {\"39\": 103, \"11\": 1}, \"107\": {\"107\": 120, \"102\": 1, \"40\": 1, \"127\": 2}, \"59\": {\"59\": 10, \"95\": 1, \"66\": 1}, \"117\": {\"117\": 138}, \"6\": {\"6\": 31, \"91\": 1}, \"123\": {\"123\": 15, \"2\": 1}, \"8\": {\"8\": 123, \"109\": 1}, \"112\": {\"112\": 14, \"24\": 1, \"55\": 1}, \"80\": {\"80\": 14, \"98\": 1, \"117\": 1}, \"125\": {\"125\": 136}, \"61\": {\"61\": 12}, \"45\": {\"45\": 7, \"61\": 1, \"2\": 1, \"86\": 1, \"64\": 2}, \"72\": {\"72\": 32}, \"87\": {\"87\": 107, \"84\": 1}, \"106\": {\"106\": 123, \"108\": 1}, \"35\": {\"35\": 9, \"84\": 1, \"96\": 1, \"93\": 1}, \"78\": {\"78\": 13, \"3\": 1, \"14\": 1, \"21\": 1}, \"15\": {\"15\": 99, \"109\": 1, \"12\": 2, \"95\": 1, \"21\": 1}, \"100\": {\"100\": 16}}, \"C_5\": {\"47\": {\"47\": 100}, \"53\": {\"53\": 150}, \"29\": {\"29\": 126}, \"52\": {\"52\": 130}, \"55\": {\"55\": 144}, \"17\": {\"17\": 116}, \"42\": {\"42\": 40}, \"33\": {\"33\": 32}, \"11\": {\"11\": 148}, \"19\": {\"19\": 118}, \"1\": {\"1\": 144}, \"44\": {\"44\": 142}, \"49\": {\"49\": 36}, \"4\": {\"4\": 100}, \"6\": {\"6\": 116}, \"39\": {\"39\": 20}, \"50\": {\"50\": 146, \"6\": 2}, \"56\": {\"56\": 130}, \"25\": {\"25\": 144}, \"28\": {\"28\": 32}, \"35\": {\"35\": 36}, \"24\": {\"24\": 80}, \"21\": {\"21\": 132}, \"45\": {\"45\": 123, \"6\": 1}, \"16\": {\"16\": 144}, \"37\": {\"37\": 24}, \"57\": {\"57\": 132}, \"34\": {\"34\": 36}, \"38\": {\"38\": 32}, \"48\": {\"48\": 130}, \"26\": {\"26\": 24}, \"9\": {\"9\": 152}, \"18\": {\"18\": 64}, \"3\": {\"3\": 100}, \"23\": {\"23\": 124}, \"15\": {\"15\": 154}, \"10\": {\"10\": 68}, \"46\": {\"46\": 148}, \"22\": {\"22\": 27, \"56\": 1}, \"54\": {\"54\": 112}, \"27\": {\"27\": 160}, \"41\": {\"41\": 28}, \"31\": {\"31\": 36}, \"0\": {\"0\": 124}, \"7\": {\"7\": 32}, \"2\": {\"2\": 28}, \"14\": {\"14\": 41, \"54\": 1, \"43\": 2}, \"40\": {\"40\": 124}, \"5\": {\"5\": 128}, \"12\": {\"12\": 96}, \"43\": {\"43\": 141, \"24\": 1}, \"13\": {\"13\": 148}, \"36\": {\"36\": 92}, \"8\": {\"8\": 150}, \"32\": {\"32\": 32}, \"30\": {\"30\": 128}, \"51\": {\"51\": 138}, \"20\": {\"20\": 138}}, \"C_1\": {\"46\": {\"46\": 140}, \"16\": {\"16\": 134}, \"26\": {\"26\": 24}, \"10\": {\"10\": 96}, \"9\": {\"9\": 156}, \"28\": {\"28\": 28}, \"51\": {\"51\": 156}, \"1\": {\"1\": 100}, \"55\": {\"55\": 148}, \"27\": {\"27\": 124}, \"22\": {\"22\": 124}, \"52\": {\"52\": 126}, \"3\": {\"3\": 140}, \"33\": {\"33\": 32}, \"47\": {\"47\": 120}, \"42\": {\"42\": 40}, \"12\": {\"12\": 116}, \"23\": {\"23\": 132}, \"49\": {\"49\": 32}, \"7\": {\"7\": 28}, \"4\": {\"4\": 132}, \"50\": {\"50\": 134}, \"19\": {\"19\": 154}, \"11\": {\"11\": 140}, \"31\": {\"31\": 28}, \"41\": {\"41\": 24}, \"56\": {\"56\": 138}, \"0\": {\"0\": 148}, \"57\": {\"57\": 128}, \"53\": {\"53\": 140}, \"43\": {\"43\": 144}, \"37\": {\"37\": 32}, \"2\": {\"2\": 36}, \"6\": {\"6\": 96}, \"13\": {\"13\": 150}, \"18\": {\"18\": 72}, \"36\": {\"36\": 64}, \"29\": {\"29\": 140}, \"39\": {\"39\": 28}, \"17\": {\"17\": 64}, \"21\": {\"21\": 124}, \"25\": {\"25\": 132}, \"45\": {\"45\": 142}, \"38\": {\"38\": 20, \"21\": 1, \"36\": 3}, \"30\": {\"30\": 120}, \"24\": {\"24\": 108}, \"20\": {\"20\": 140}, \"8\": {\"8\": 140}, \"35\": {\"35\": 36}, \"54\": {\"54\": 104}, \"5\": {\"5\": 148}, \"48\": {\"48\": 144}, \"15\": {\"15\": 142}, \"34\": {\"34\": 24}, \"14\": {\"14\": 24}, \"32\": {\"32\": 32}, \"40\": {\"40\": 148}, \"44\": {\"44\": 136}}, \"W_2\": {\"91\": {\"91\": 24, \"58\": 1, \"34\": 1, \"14\": 1, \"72\": 1}, \"12\": {\"12\": 82, \"117\": 1, \"107\": 1, \"93\": 1, \"24\": 1, \"71\": 1, \"122\": 1}, \"101\": {\"101\": 147, \"114\": 1}, \"121\": {\"121\": 34, \"120\": 1, \"33\": 1}, \"118\": {\"118\": 66, \"14\": 1, \"87\": 1}, \"10\": {\"10\": 52, \"70\": 1, \"40\": 1, \"12\": 1, \"11\": 1, \"127\": 2, \"24\": 1, \"78\": 1}, \"117\": {\"117\": 117, \"2\": 1, \"15\": 1, \"44\": 1}, \"110\": {\"110\": 33, \"120\": 1, \"8\": 1, \"109\": 1, \"14\": 1, \"90\": 1, \"84\": 1, \"95\": 1}, \"97\": {\"97\": 18, \"15\": 1, \"106\": 1}, \"28\": {\"28\": 20}, \"88\": {\"88\": 117, \"39\": 1, \"109\": 1, \"71\": 1, \"24\": 1, \"127\": 1, \"3\": 1, \"1\": 1}, \"17\": {\"17\": 13, \"41\": 1, \"56\": 1, \"4\": 1}, \"126\": {\"126\": 112, \"90\": 1, \"41\": 1}, \"33\": {\"33\": 125, \"105\": 1, \"3\": 1, \"70\": 1}, \"86\": {\"86\": 32}, \"106\": {\"106\": 115, \"12\": 1, \"93\": 1, \"92\": 1, \"21\": 1, \"70\": 1}, \"54\": {\"54\": 19, \"29\": 1}, \"125\": {\"125\": 131, \"98\": 1}, \"83\": {\"83\": 39, \"71\": 1}, \"98\": {\"98\": 117, \"44\": 2, \"24\": 1}, \"11\": {\"11\": 76, \"3\": 1, \"69\": 1, \"12\": 1, \"109\": 1}, \"32\": {\"32\": 34, \"49\": 1, \"12\": 1}, \"42\": {\"42\": 27, \"19\": 1}, \"103\": {\"103\": 15, \"58\": 1}, \"87\": {\"87\": 96, \"32\": 1, \"39\": 1, \"109\": 1, \"43\": 4, \"106\": 1, \"24\": 2, \"8\": 1, \"114\": 1, \"94\": 2, \"88\": 1, \"122\": 1}, \"61\": {\"61\": 16, \"87\": 1, \"24\": 1, \"71\": 1, \"21\": 1}, \"13\": {\"13\": 12, \"57\": 1, \"14\": 1, \"89\": 1, \"33\": 1}, \"4\": {\"4\": 83, \"0\": 1, \"69\": 2}, \"15\": {\"15\": 116, \"88\": 1, \"33\": 1, \"0\": 1, \"105\": 1}, \"120\": {\"121\": 1, \"120\": 19}, \"80\": {\"80\": 16}, \"72\": {\"72\": 28}, \"64\": {\"64\": 15, \"3\": 1}, \"81\": {\"81\": 22, \"1\": 1, \"12\": 1}, \"102\": {\"102\": 112}, \"76\": {\"76\": 16}, \"49\": {\"49\": 19, \"58\": 1, \"60\": 1, \"8\": 1, \"85\": 1, \"98\": 1}, \"129\": {\"129\": 31, \"73\": 1}, \"89\": {\"89\": 32, \"82\": 3, \"15\": 1}, \"52\": {\"52\": 19, \"72\": 1}, \"35\": {\"35\": 12}, \"53\": {\"53\": 15, \"49\": 1}, \"26\": {\"26\": 124, \"87\": 1, \"107\": 2, \"71\": 1}, \"96\": {\"96\": 20}, \"27\": {\"27\": 55, \"94\": 1, \"109\": 1, \"33\": 1, \"88\": 2, \"84\": 1, \"62\": 1, \"113\": 1, \"21\": 2, \"7\": 1, \"127\": 1, \"36\": 1}, \"24\": {\"24\": 104, \"71\": 3, \"69\": 1, \"39\": 1, \"70\": 1, \"14\": 1, \"94\": 1}, \"82\": {\"82\": 32, \"107\": 2, \"104\": 1, \"21\": 1}, \"18\": {\"18\": 123, \"109\": 1, \"14\": 1, \"105\": 1, \"30\": 1, \"107\": 1}, \"69\": {\"69\": 120, \"110\": 1, \"106\": 1}, \"47\": {\"47\": 12}, \"85\": {\"85\": 32}, \"2\": {\"85\": 1, \"2\": 30, \"117\": 1}, \"67\": {\"67\": 15, \"72\": 1}, \"39\": {\"39\": 105, \"47\": 1, \"14\": 1, \"109\": 1, \"70\": 2, \"24\": 1, \"69\": 1}, \"99\": {\"99\": 32}, \"74\": {\"74\": 13, \"21\": 1, \"14\": 1, \"10\": 1}, \"105\": {\"105\": 128, \"5\": 2, \"127\": 1, \"87\": 1}, \"70\": {\"70\": 113, \"78\": 2, \"88\": 2, \"84\": 1, \"5\": 1, \"90\": 1, \"40\": 1, \"106\": 1}, \"55\": {\"55\": 16}, \"30\": {\"30\": 108, \"97\": 1, \"70\": 1, \"61\": 1, \"1\": 1}, \"60\": {\"60\": 26, \"24\": 1, \"23\": 1}, \"92\": {\"92\": 23, \"1\": 1, \"71\": 1, \"86\": 1, \"69\": 1, \"82\": 1}, \"45\": {\"45\": 15, \"88\": 1}, \"127\": {\"127\": 111, \"46\": 1}, \"9\": {\"110\": 1, \"9\": 30, \"12\": 1}, \"115\": {\"115\": 12}, \"73\": {\"73\": 28}, \"108\": {\"108\": 138}, \"114\": {\"114\": 113, \"11\": 1, \"118\": 1, \"84\": 1}, \"63\": {\"63\": 19, \"41\": 1}, \"93\": {\"93\": 128}, \"7\": {\"7\": 132}, \"31\": {\"31\": 19, \"14\": 1}, \"123\": {\"123\": 16}, \"128\": {\"128\": 18, \"54\": 2, \"51\": 1, \"114\": 2, \"58\": 1}, \"0\": {\"0\": 111, \"24\": 2, \"70\": 1, \"69\": 1, \"83\": 1}, \"3\": {\"3\": 134, \"33\": 1, \"84\": 1}, \"19\": {\"19\": 28}, \"57\": {\"57\": 19, \"84\": 1}, \"78\": {\"78\": 46, \"49\": 1, \"39\": 1}, \"95\": {\"95\": 35, \"84\": 1}, \"40\": {\"40\": 130, \"95\": 2, \"12\": 1, \"109\": 1, \"71\": 1, \"69\": 2, \"24\": 1, \"0\": 1, \"105\": 1}, \"14\": {\"14\": 41, \"57\": 1, \"12\": 1, \"18\": 1, \"72\": 1, \"88\": 1, \"118\": 2}, \"36\": {\"36\": 119, \"21\": 1, \"118\": 1, \"71\": 3, \"117\": 1, \"107\": 1, \"127\": 1, \"114\": 1}, \"56\": {\"56\": 12}, \"111\": {\"111\": 127, \"24\": 1}, \"59\": {\"59\": 14, \"19\": 1, \"24\": 1}, \"79\": {\"79\": 14, \"40\": 1, \"88\": 1}, \"62\": {\"62\": 121, \"24\": 1}, \"21\": {\"21\": 47, \"24\": 1}, \"48\": {\"48\": 20}, \"16\": {\"16\": 119, \"3\": 1, \"88\": 1, \"70\": 1, \"18\": 1, \"1\": 1}, \"50\": {\"50\": 15, \"41\": 1}, \"44\": {\"44\": 95, \"98\": 1}, \"5\": {\"5\": 108, \"33\": 1, \"12\": 1}, \"20\": {\"20\": 15, \"24\": 1}, \"1\": {\"1\": 118, \"12\": 1, \"126\": 1}, \"65\": {\"65\": 18, \"27\": 1, \"71\": 1}, \"116\": {\"116\": 28}, \"51\": {\"51\": 16, \"106\": 1, \"127\": 1, \"9\": 1, \"71\": 1}, \"75\": {\"75\": 15, \"71\": 1}, \"100\": {\"100\": 16}, \"113\": {\"113\": 72}, \"41\": {\"41\": 20}, \"29\": {\"29\": 32}, \"23\": {\"23\": 41, \"122\": 1, \"110\": 1, \"43\": 1}, \"124\": {\"124\": 122, \"21\": 1, \"117\": 1}, \"68\": {\"68\": 15, \"52\": 1}, \"71\": {\"71\": 99, \"94\": 1}, \"107\": {\"107\": 54, \"6\": 1, \"15\": 1, \"109\": 1, \"71\": 2, \"16\": 1, \"26\": 2, \"1\": 1, \"91\": 1}, \"94\": {\"94\": 59, \"12\": 1, \"118\": 1, \"36\": 2, \"110\": 1}, \"77\": {\"77\": 15, \"39\": 1}, \"8\": {\"8\": 120, \"24\": 1, \"15\": 1}, \"46\": {\"46\": 16}, \"25\": {\"25\": 14, \"59\": 1, \"61\": 1}, \"122\": {\"122\": 137, \"40\": 1, \"106\": 1, \"20\": 1}, \"58\": {\"58\": 15, \"77\": 2, \"39\": 1, \"110\": 1, \"24\": 1}, \"6\": {\"6\": 32}, \"109\": {\"109\": 93, \"71\": 1, \"24\": 1, \"39\": 1, \"70\": 2, \"88\": 2}, \"119\": {\"119\": 19, \"39\": 1}, \"34\": {\"34\": 29, \"40\": 1, \"91\": 1, \"71\": 1}, \"90\": {\"90\": 139, \"77\": 1}, \"38\": {\"38\": 16}, \"104\": {\"96\": 1, \"104\": 17, \"107\": 1, \"92\": 1}, \"84\": {\"84\": 90, \"58\": 1, \"106\": 1}, \"112\": {\"112\": 16}, \"66\": {\"66\": 17, \"71\": 2, \"27\": 1}, \"22\": {\"22\": 20}, \"37\": {\"37\": 15, \"89\": 1}, \"43\": {\"43\": 114, \"122\": 1, \"0\": 1, \"8\": 1, \"87\": 2, \"88\": 1, \"84\": 1, \"105\": 1, \"3\": 1, \"70\": 1}}, \"C_2\": {\"36\": {\"36\": 116}, \"5\": {\"5\": 120}, \"45\": {\"45\": 128}, \"49\": {\"49\": 23, \"14\": 1}, \"50\": {\"50\": 136}, \"4\": {\"4\": 138}, \"43\": {\"43\": 148}, \"41\": {\"41\": 20}, \"37\": {\"37\": 36}, \"12\": {\"12\": 92}, \"33\": {\"33\": 28}, \"7\": {\"7\": 36}, \"56\": {\"56\": 140}, \"14\": {\"14\": 24}, \"52\": {\"52\": 124}, \"44\": {\"44\": 96}, \"48\": {\"48\": 144}, \"20\": {\"20\": 128}, \"55\": {\"55\": 144}, \"32\": {\"32\": 28}, \"40\": {\"40\": 136}, \"54\": {\"54\": 108}, \"17\": {\"17\": 104}, \"38\": {\"38\": 20}, \"24\": {\"24\": 96}, \"1\": {\"1\": 112}, \"6\": {\"6\": 124}, \"34\": {\"34\": 28}, \"11\": {\"11\": 136}, \"9\": {\"9\": 150}, \"8\": {\"8\": 152}, \"22\": {\"22\": 136}, \"26\": {\"26\": 24}, \"23\": {\"23\": 146}, \"10\": {\"10\": 112}, \"18\": {\"18\": 48}, \"13\": {\"13\": 116}, \"30\": {\"30\": 128}, \"42\": {\"42\": 36}, \"31\": {\"31\": 28}, \"46\": {\"46\": 128}, \"57\": {\"57\": 142}, \"47\": {\"47\": 138}, \"35\": {\"35\": 32}, \"15\": {\"15\": 132}, \"25\": {\"25\": 136}, \"19\": {\"19\": 136}, \"51\": {\"51\": 128}, \"53\": {\"53\": 134}, \"21\": {\"21\": 119, \"46\": 1}, \"39\": {\"39\": 28}, \"2\": {\"2\": 32}, \"16\": {\"16\": 150}, \"0\": {\"0\": 48}, \"3\": {\"3\": 92}, \"27\": {\"27\": 142}, \"28\": {\"28\": 28}, \"29\": {\"29\": 128}}, \"O_14\": {\"15\": {\"15\": 240}, \"3\": {\"13\": 14, \"14\": 23, \"3\": 121, \"0\": 34, \"2\": 14, \"7\": 7, \"6\": 24, \"5\": 1, \"8\": 2}, \"6\": {\"6\": 111, \"3\": 26, \"13\": 69, \"14\": 15, \"2\": 6, \"0\": 5, \"5\": 1, \"7\": 6, \"15\": 1}, \"1\": {\"1\": 186, \"9\": 23, \"10\": 22, \"4\": 9}, \"8\": {\"8\": 131, \"5\": 19, \"12\": 50, \"0\": 27, \"3\": 5, \"2\": 3, \"4\": 5}, \"10\": {\"10\": 133, \"9\": 16, \"5\": 7, \"4\": 56, \"1\": 17, \"0\": 2, \"12\": 1, \"2\": 7, \"8\": 1}, \"9\": {\"9\": 196, \"1\": 23, \"10\": 15, \"12\": 6}, \"13\": {\"0\": 7, \"2\": 32, \"14\": 19, \"6\": 56, \"13\": 56, \"15\": 22, \"5\": 15, \"7\": 8, \"4\": 11, \"10\": 3, \"3\": 11}, \"12\": {\"12\": 196, \"8\": 34, \"0\": 8, \"9\": 2}, \"5\": {\"4\": 35, \"5\": 77, \"2\": 40, \"14\": 24, \"13\": 7, \"7\": 18, \"0\": 23, \"6\": 2, \"10\": 2, \"8\": 8, \"3\": 3, \"12\": 1}, \"0\": {\"8\": 23, \"0\": 83, \"4\": 6, \"3\": 54, \"7\": 3, \"5\": 25, \"2\": 13, \"12\": 5, \"10\": 1, \"14\": 21, \"13\": 5, \"6\": 1}, \"2\": {\"4\": 30, \"2\": 47, \"5\": 38, \"3\": 11, \"14\": 43, \"6\": 23, \"13\": 17, \"7\": 7, \"0\": 22, \"8\": 1, \"10\": 1}, \"11\": {\"11\": 230, \"1\": 8, \"9\": 2}, \"14\": {\"0\": 23, \"2\": 50, \"3\": 21, \"13\": 24, \"14\": 77, \"6\": 27, \"7\": 6, \"5\": 10, \"4\": 1, \"8\": 1}, \"7\": {\"3\": 15, \"2\": 16, \"7\": 121, \"13\": 13, \"14\": 12, \"5\": 44, \"6\": 10, \"0\": 7, \"4\": 1, \"8\": 1}, \"4\": {\"4\": 118, \"10\": 50, \"2\": 31, \"14\": 2, \"5\": 26, \"1\": 6, \"0\": 2, \"8\": 4, \"7\": 1}}, \"O_20\": {\"3\": {\"9\": 38, \"14\": 27, \"3\": 40, \"15\": 6, \"5\": 36, \"7\": 10, \"1\": 33, \"8\": 29, \"0\": 13, \"2\": 4, \"4\": 2, \"12\": 1, \"6\": 1}, \"15\": {\"13\": 26, \"15\": 50, \"2\": 32, \"5\": 13, \"1\": 19, \"9\": 18, \"3\": 9, \"12\": 44, \"7\": 13, \"6\": 1, \"10\": 6, \"4\": 9}, \"8\": {\"3\": 36, \"14\": 54, \"1\": 8, \"8\": 57, \"5\": 26, \"7\": 12, \"0\": 19, \"11\": 7, \"9\": 13, \"6\": 5, \"12\": 3}, \"4\": {\"2\": 28, \"10\": 22, \"6\": 20, \"12\": 35, \"1\": 7, \"4\": 46, \"5\": 4, \"7\": 18, \"13\": 20, \"9\": 6, \"8\": 5, \"15\": 15, \"14\": 9, \"3\": 5}, \"14\": {\"14\": 105, \"9\": 8, \"6\": 26, \"3\": 21, \"7\": 13, \"8\": 51, \"5\": 10, \"11\": 1, \"0\": 2, \"4\": 1, \"1\": 2}, \"0\": {\"8\": 16, \"1\": 9, \"11\": 68, \"0\": 120, \"5\": 9, \"3\": 13, \"14\": 2, \"9\": 3}, \"7\": {\"7\": 26, \"2\": 27, \"1\": 14, \"5\": 12, \"12\": 20, \"3\": 16, \"4\": 17, \"6\": 34, \"9\": 21, \"15\": 17, \"13\": 12, \"8\": 10, \"14\": 13, \"10\": 1}, \"6\": {\"2\": 19, \"6\": 82, \"12\": 6, \"14\": 29, \"4\": 38, \"7\": 33, \"13\": 6, \"9\": 4, \"8\": 9, \"5\": 2, \"10\": 8, \"15\": 3, \"1\": 1}, \"10\": {\"2\": 12, \"10\": 117, \"4\": 57, \"13\": 19, \"6\": 14, \"7\": 6, \"12\": 11, \"15\": 4}, \"5\": {\"3\": 41, \"1\": 39, \"9\": 36, \"12\": 10, \"7\": 17, \"5\": 41, \"8\": 22, \"15\": 18, \"2\": 7, \"6\": 2, \"14\": 4, \"13\": 1, \"4\": 1, \"0\": 1}, \"2\": {\"2\": 38, \"15\": 36, \"13\": 36, \"7\": 27, \"14\": 3, \"6\": 12, \"12\": 31, \"9\": 12, \"5\": 12, \"4\": 17, \"1\": 10, \"3\": 5, \"10\": 1}, \"12\": {\"7\": 31, \"13\": 31, \"15\": 38, \"6\": 8, \"2\": 36, \"1\": 21, \"12\": 26, \"9\": 12, \"8\": 2, \"5\": 12, \"4\": 11, \"14\": 4, \"3\": 6, \"10\": 2}, \"9\": {\"7\": 27, \"13\": 6, \"1\": 27, \"15\": 21, \"5\": 34, \"12\": 15, \"14\": 11, \"6\": 5, \"3\": 22, \"9\": 30, \"0\": 2, \"2\": 18, \"8\": 19, \"4\": 3}, \"1\": {\"9\": 34, \"2\": 12, \"8\": 15, \"15\": 37, \"5\": 36, \"1\": 42, \"3\": 23, \"12\": 21, \"7\": 10, \"0\": 2, \"13\": 6, \"4\": 1, \"14\": 1}, \"11\": {\"11\": 171, \"8\": 11, \"0\": 53, \"3\": 4, \"14\": 1}, \"13\": {\"2\": 30, \"7\": 11, \"4\": 14, \"13\": 90, \"6\": 9, \"15\": 37, \"12\": 27, \"10\": 17, \"1\": 2, \"9\": 1, \"5\": 2}}, \"O_38\": {\"5\": {\"5\": 69, \"8\": 61, \"9\": 35, \"15\": 41, \"12\": 12, \"14\": 2, \"7\": 10, \"2\": 8, \"13\": 1, \"1\": 1}, \"8\": {\"9\": 30, \"8\": 69, \"15\": 30, \"5\": 50, \"7\": 26, \"12\": 16, \"2\": 11, \"0\": 1, \"14\": 7}, \"11\": {\"11\": 235, \"3\": 5}, \"1\": {\"1\": 172, \"6\": 65, \"15\": 3}, \"10\": {\"0\": 44, \"10\": 146, \"13\": 27, \"3\": 11, \"14\": 3, \"4\": 8, \"11\": 1}, \"15\": {\"5\": 31, \"15\": 169, \"9\": 3, \"1\": 12, \"8\": 18, \"12\": 1, \"6\": 6}, \"3\": {\"3\": 228, \"10\": 8, \"11\": 4}, \"7\": {\"9\": 7, \"8\": 31, \"5\": 11, \"7\": 122, \"0\": 9, \"2\": 22, \"4\": 5, \"14\": 29, \"13\": 3, \"10\": 1}, \"4\": {\"4\": 210, \"10\": 15, \"0\": 9, \"14\": 4, \"13\": 2}, \"14\": {\"2\": 48, \"7\": 27, \"0\": 15, \"14\": 124, \"8\": 6, \"13\": 11, \"4\": 5, \"10\": 4}, \"9\": {\"9\": 139, \"8\": 31, \"5\": 44, \"2\": 8, \"7\": 13, \"15\": 1, \"12\": 1, \"4\": 2, \"0\": 1}, \"12\": {\"12\": 195, \"5\": 22, \"15\": 1, \"8\": 18, \"7\": 4}, \"6\": {\"6\": 156, \"1\": 81, \"15\": 3}, \"2\": {\"2\": 139, \"13\": 10, \"5\": 2, \"7\": 15, \"0\": 7, \"9\": 9, \"14\": 45, \"8\": 13}, \"0\": {\"13\": 41, \"8\": 2, \"7\": 28, \"10\": 53, \"0\": 76, \"14\": 10, \"2\": 9, \"3\": 9, \"4\": 11, \"5\": 1}, \"13\": {\"13\": 127, \"2\": 23, \"0\": 49, \"14\": 13, \"7\": 5, \"10\": 22, \"8\": 1}}, \"O_8\": {\"9\": {\"9\": 239, \"3\": 1}, \"10\": {\"13\": 48, \"10\": 54, \"6\": 20, \"7\": 29, \"1\": 23, \"5\": 40, \"4\": 16, \"11\": 9, \"14\": 1}, \"13\": {\"5\": 33, \"13\": 59, \"1\": 26, \"7\": 37, \"6\": 25, \"10\": 50, \"11\": 6, \"8\": 1, \"4\": 2, \"12\": 1}, \"0\": {\"0\": 236, \"14\": 4}, \"1\": {\"11\": 31, \"1\": 58, \"4\": 13, \"6\": 31, \"7\": 20, \"10\": 24, \"8\": 11, \"13\": 26, \"5\": 26}, \"15\": {\"15\": 108, \"2\": 40, \"3\": 14, \"12\": 78}, \"5\": {\"5\": 83, \"10\": 51, \"1\": 23, \"13\": 39, \"6\": 13, \"4\": 3, \"8\": 2, \"7\": 11, \"11\": 13, \"12\": 1, \"15\": 1}, \"3\": {\"3\": 220, \"2\": 20}, \"6\": {\"5\": 13, \"1\": 33, \"13\": 14, \"11\": 34, \"4\": 22, \"7\": 36, \"6\": 52, \"8\": 15, \"10\": 21}, \"11\": {\"5\": 14, \"1\": 47, \"11\": 37, \"10\": 16, \"7\": 20, \"8\": 26, \"6\": 23, \"4\": 33, \"14\": 12, \"13\": 12}, \"8\": {\"8\": 101, \"14\": 13, \"11\": 38, \"1\": 12, \"4\": 39, \"7\": 11, \"6\": 24, \"13\": 2}, \"4\": {\"4\": 93, \"1\": 12, \"8\": 32, \"11\": 33, \"14\": 36, \"6\": 22, \"10\": 3, \"5\": 5, \"7\": 3, \"13\": 1}, \"12\": {\"15\": 92, \"12\": 130, \"2\": 17, \"3\": 1}, \"14\": {\"14\": 146, \"4\": 60, \"8\": 17, \"11\": 13, \"0\": 2, \"6\": 2}, \"2\": {\"3\": 62, \"12\": 28, \"2\": 115, \"15\": 35}, \"7\": {\"13\": 34, \"7\": 67, \"11\": 19, \"10\": 28, \"6\": 45, \"1\": 24, \"5\": 13, \"4\": 7, \"8\": 3}}, \"O_50\": {\"7\": {\"5\": 27, \"7\": 126, \"4\": 84, \"3\": 2, \"15\": 1}, \"3\": {\"3\": 186, \"6\": 17, \"8\": 1, \"5\": 27, \"11\": 3, \"4\": 1, \"7\": 3, \"13\": 1, \"15\": 1}, \"8\": {\"8\": 174, \"13\": 12, \"10\": 44, \"1\": 10}, \"2\": {\"2\": 129, \"14\": 41, \"0\": 69, \"10\": 1}, \"14\": {\"14\": 149, \"2\": 57, \"0\": 31, \"10\": 3}, \"4\": {\"7\": 90, \"4\": 103, \"5\": 36, \"6\": 5, \"15\": 4, \"3\": 2}, \"6\": {\"9\": 42, \"15\": 61, \"6\": 60, \"3\": 23, \"12\": 8, \"5\": 35, \"11\": 7, \"4\": 3, \"13\": 1}, \"15\": {\"15\": 78, \"9\": 52, \"5\": 24, \"11\": 19, \"6\": 55, \"3\": 3, \"12\": 3, \"13\": 2, \"4\": 3, \"7\": 1}, \"10\": {\"8\": 39, \"10\": 134, \"1\": 17, \"0\": 46, \"2\": 4}, \"11\": {\"6\": 10, \"12\": 38, \"9\": 39, \"11\": 105, \"13\": 21, \"15\": 18, \"5\": 2, \"1\": 6, \"8\": 1}, \"13\": {\"11\": 32, \"13\": 133, \"8\": 8, \"1\": 43, \"15\": 4, \"5\": 3, \"12\": 5, \"6\": 8, \"3\": 3, \"9\": 1}, \"9\": {\"6\": 35, \"9\": 83, \"12\": 24, \"11\": 38, \"15\": 44, \"13\": 8, \"5\": 5, \"4\": 2, \"3\": 1}, \"0\": {\"2\": 56, \"0\": 112, \"10\": 51, \"14\": 19, \"1\": 2}, \"1\": {\"1\": 146, \"11\": 15, \"8\": 20, \"13\": 35, \"9\": 2, \"0\": 7, \"10\": 11, \"2\": 1, \"15\": 1, \"12\": 1, \"6\": 1}, \"12\": {\"12\": 142, \"6\": 7, \"9\": 34, \"11\": 43, \"13\": 11, \"15\": 2, \"5\": 1}, \"5\": {\"7\": 39, \"3\": 18, \"4\": 50, \"5\": 55, \"12\": 5, \"6\": 32, \"9\": 6, \"15\": 16, \"13\": 7, \"11\": 12}}, \"O_32\": {\"8\": {\"2\": 8, \"0\": 47, \"15\": 15, \"8\": 78, \"3\": 8, \"5\": 32, \"14\": 28, \"7\": 19, \"4\": 5}, \"14\": {\"0\": 36, \"5\": 23, \"14\": 78, \"4\": 9, \"2\": 31, \"8\": 30, \"7\": 29, \"3\": 3, \"15\": 1}, \"2\": {\"4\": 75, \"2\": 122, \"13\": 9, \"9\": 8, \"0\": 3, \"8\": 5, \"14\": 11, \"7\": 3, \"3\": 4}, \"0\": {\"7\": 54, \"0\": 66, \"14\": 36, \"5\": 40, \"8\": 41, \"2\": 2, \"4\": 1}, \"1\": {\"1\": 240}, \"10\": {\"10\": 209, \"12\": 26, \"6\": 5}, \"11\": {\"11\": 194, \"9\": 9, \"13\": 27, \"3\": 8, \"12\": 1, \"4\": 1}, \"5\": {\"5\": 91, \"15\": 11, \"7\": 47, \"14\": 24, \"2\": 4, \"0\": 36, \"8\": 27}, \"15\": {\"15\": 219, \"0\": 3, \"8\": 6, \"7\": 1, \"5\": 11}, \"3\": {\"3\": 164, \"13\": 51, \"4\": 18, \"8\": 2, \"2\": 1, \"11\": 2, \"14\": 2}, \"12\": {\"12\": 168, \"9\": 38, \"10\": 34}, \"7\": {\"0\": 57, \"7\": 68, \"5\": 49, \"14\": 38, \"8\": 24, \"2\": 3, \"15\": 1}, \"13\": {\"13\": 87, \"3\": 53, \"4\": 47, \"9\": 9, \"11\": 28, \"2\": 14, \"0\": 1, \"8\": 1}, \"6\": {\"6\": 228, \"10\": 12}, \"4\": {\"4\": 107, \"2\": 55, \"14\": 3, \"13\": 37, \"3\": 23, \"9\": 5, \"8\": 10}, \"9\": {\"9\": 139, \"12\": 50, \"4\": 19, \"11\": 9, \"10\": 3, \"2\": 13, \"1\": 4, \"13\": 3}}, \"O_26\": {\"4\": {\"4\": 189, \"3\": 31, \"13\": 12, \"7\": 6, \"8\": 1, \"12\": 1}, \"12\": {\"12\": 139, \"13\": 24, \"9\": 22, \"0\": 8, \"8\": 30, \"2\": 8, \"3\": 2, \"7\": 6, \"10\": 1}, \"10\": {\"0\": 50, \"1\": 17, \"10\": 57, \"14\": 44, \"15\": 23, \"6\": 33, \"9\": 2, \"5\": 10, \"8\": 2, \"2\": 1, \"12\": 1}, \"0\": {\"2\": 24, \"14\": 55, \"10\": 41, \"1\": 9, \"0\": 58, \"8\": 16, \"6\": 8, \"9\": 11, \"12\": 4, \"15\": 9, \"7\": 5}, \"13\": {\"8\": 12, \"4\": 12, \"13\": 95, \"9\": 29, \"3\": 28, \"7\": 15, \"12\": 36, \"2\": 10, \"15\": 1, \"0\": 2}, \"9\": {\"13\": 21, \"8\": 22, \"3\": 31, \"9\": 61, \"12\": 21, \"7\": 32, \"2\": 34, \"0\": 13, \"15\": 1, \"14\": 3, \"5\": 1}, \"3\": {\"4\": 11, \"3\": 81, \"7\": 55, \"2\": 22, \"9\": 27, \"8\": 24, \"13\": 16, \"12\": 1, \"0\": 3}, \"2\": {\"9\": 43, \"0\": 31, \"2\": 51, \"8\": 32, \"7\": 40, \"12\": 9, \"10\": 6, \"3\": 14, \"13\": 5, \"14\": 5, \"6\": 2, \"15\": 2}, \"5\": {\"6\": 45, \"15\": 49, \"10\": 10, \"5\": 90, \"14\": 7, \"1\": 31, \"11\": 6, \"0\": 2}, \"14\": {\"1\": 27, \"10\": 62, \"0\": 36, \"14\": 60, \"6\": 22, \"15\": 20, \"7\": 1, \"2\": 3, \"8\": 3, \"5\": 6}, \"8\": {\"7\": 48, \"0\": 25, \"13\": 17, \"2\": 28, \"9\": 32, \"8\": 42, \"3\": 18, \"12\": 20, \"14\": 5, \"10\": 5}, \"7\": {\"8\": 49, \"7\": 45, \"2\": 50, \"12\": 8, \"9\": 34, \"3\": 39, \"0\": 7, \"13\": 6, \"14\": 1, \"4\": 1}, \"6\": {\"6\": 66, \"15\": 45, \"1\": 39, \"14\": 12, \"5\": 54, \"10\": 14, \"0\": 4, \"2\": 1, \"11\": 5}, \"11\": {\"11\": 207, \"6\": 12, \"5\": 14, \"15\": 4, \"1\": 2, \"12\": 1}, \"15\": {\"6\": 44, \"11\": 4, \"10\": 32, \"5\": 40, \"15\": 62, \"0\": 11, \"14\": 15, \"2\": 4, \"1\": 23, \"9\": 5}, \"1\": {\"1\": 133, \"5\": 20, \"10\": 16, \"14\": 30, \"15\": 16, \"6\": 17, \"0\": 6, \"11\": 2}}, \"O_44\": {\"12\": {\"3\": 91, \"12\": 148, \"1\": 1}, \"7\": {\"10\": 51, \"7\": 94, \"4\": 26, \"9\": 45, \"6\": 12, \"14\": 10, \"2\": 1, \"1\": 1}, \"5\": {\"5\": 80, \"14\": 61, \"8\": 13, \"15\": 41, \"7\": 5, \"4\": 35, \"6\": 1, \"0\": 2, \"1\": 2}, \"15\": {\"14\": 44, \"5\": 26, \"15\": 90, \"0\": 16, \"1\": 1, \"8\": 45, \"4\": 16, \"10\": 1, \"7\": 1}, \"8\": {\"0\": 85, \"8\": 97, \"4\": 2, \"15\": 44, \"14\": 7, \"5\": 5}, \"2\": {\"2\": 137, \"10\": 21, \"1\": 64, \"7\": 3, \"9\": 4, \"15\": 3, \"4\": 3, \"14\": 4, \"5\": 1}, \"13\": {\"6\": 75, \"13\": 131, \"11\": 3, \"9\": 24, \"4\": 4, \"7\": 2, \"10\": 1}, \"4\": {\"4\": 73, \"9\": 26, \"14\": 45, \"7\": 19, \"15\": 16, \"2\": 8, \"5\": 41, \"1\": 3, \"10\": 3, \"13\": 2, \"6\": 2, \"8\": 2}, \"0\": {\"8\": 76, \"0\": 146, \"15\": 15, \"14\": 1, \"1\": 1, \"5\": 1}, \"6\": {\"6\": 127, \"13\": 77, \"9\": 28, \"7\": 7, \"10\": 1}, \"9\": {\"7\": 66, \"10\": 23, \"14\": 7, \"9\": 49, \"4\": 24, \"6\": 41, \"13\": 23, \"2\": 3, \"5\": 2, \"1\": 2}, \"11\": {\"11\": 238, \"13\": 2}, \"10\": {\"10\": 104, \"7\": 60, \"2\": 14, \"9\": 32, \"4\": 5, \"14\": 5, \"6\": 6, \"1\": 12, \"15\": 2}, \"14\": {\"7\": 19, \"4\": 67, \"14\": 71, \"5\": 50, \"15\": 20, \"0\": 1, \"8\": 2, \"9\": 6, \"10\": 3, \"2\": 1}, \"1\": {\"0\": 8, \"1\": 141, \"15\": 6, \"2\": 67, \"3\": 6, \"12\": 1, \"4\": 3, \"14\": 2, \"8\": 2, \"10\": 3, \"5\": 1}, \"3\": {\"3\": 144, \"12\": 90, \"1\": 6}}}, \"per_domain_accuracy\": {\"W_3\": {\"accuracy\": 0.9757401315789473, \"source?\": true}, \"C_3\": {\"accuracy\": 0.9992732558139535, \"source?\": true}, \"C_4\": {\"accuracy\": 0.9981060606060606, \"source?\": true}, \"W_4\": {\"accuracy\": 0.9621913580246914, \"source?\": true}, \"W_1\": {\"accuracy\": 0.9761968085106383, \"source?\": true}, \"C_5\": {\"accuracy\": 0.9986033519553073, \"source?\": true}, \"C_1\": {\"accuracy\": 0.9993169398907104, \"source?\": true}, \"W_2\": {\"accuracy\": 0.9562762605042017, \"source?\": true}, \"C_2\": {\"accuracy\": 0.9996468926553672, \"source?\": true}, \"O_14\": {\"accuracy\": 0.5528645833333333, \"source?\": false}, \"O_20\": {\"accuracy\": 0.28151041666666665, \"source?\": false}, \"O_38\": {\"accuracy\": 0.61875, \"source?\": false}, \"O_8\": {\"accuracy\": 0.46822916666666664, \"source?\": false}, \"O_50\": {\"accuracy\": 0.4986979166666667, \"source?\": false}, \"O_32\": {\"accuracy\": 0.5880208333333333, \"source?\": false}, \"O_26\": {\"accuracy\": 0.37395833333333334, \"source?\": false}, \"O_44\": {\"accuracy\": 0.4869791666666667, \"source?\": false}}}, \"history\": {\"epoch_indices\": [1, 2, 3, 4, 5, 6], \"train_label_loss\": [0.12668627788450182, 0.0789330951012945, 0.06410840607174288, 0.05663483671325032, 0.05223199543543747, 0.04901027176054331], \"source_val_label_loss\": [0.13202229142189026, 0.07834308594465256, 0.06665104627609253, 0.0633319839835167, 0.06059141084551811, 0.0588616319000721], \"target_val_label_loss\": [2.4412147998809814, 2.2461047172546387, 2.217207193374634, 2.224731922149658, 2.110837459564209, 2.161905288696289], \"source_val_acc_label\": [0.974742445054945, 0.9826407967032967, 0.9850961538461539, 0.9854052197802198, 0.9855769230769231, 0.9859375], \"target_val_acc_label\": [0.4138997395833333, 0.48362630208333335, 0.4771484375, 0.42848307291666665, 0.41402994791666664, 0.3631510416666667]}, \"dataset_metrics\": {\"source\": {\"train\": {\"n_unique_x\": 364180, \"n_unique_y\": 130, \"n_batch/episode\": 13148}, \"val\": {\"n_unique_x\": 77264, \"n_unique_y\": 130, \"n_batch/episode\": 1820}, \"test\": {\"n_unique_x\": 78450, \"n_unique_y\": 130, \"n_batch/episode\": 1860}}, \"target\": {\"train\": {\"n_unique_x\": 179200, \"n_unique_y\": 16, \"n_batch/episode\": 6720}, \"val\": {\"n_unique_x\": 38400, \"n_unique_y\": 16, \"n_batch/episode\": 960}, \"test\": {\"n_unique_x\": 38400, \"n_unique_y\": 16, \"n_batch/episode\": 960}}}}'"
      ]
     },
     "execution_count": 29,
     "metadata": {},
     "output_type": "execute_result"
    }
   ],
   "source": [
    "json.dumps(experiment)"
   ]
  }
 ],
 "metadata": {
  "celltoolbar": "Tags",
  "kernelspec": {
   "display_name": "Python 3 (ipykernel)",
   "language": "python",
   "name": "python3"
  },
  "language_info": {
   "codemirror_mode": {
    "name": "ipython",
    "version": 3
   },
   "file_extension": ".py",
   "mimetype": "text/x-python",
   "name": "python",
   "nbconvert_exporter": "python",
   "pygments_lexer": "ipython3",
   "version": "3.8.10"
  },
  "papermill": {
   "default_parameters": {},
   "duration": 3981.606449,
   "end_time": "2022-03-20T08:56:53.099131",
   "environment_variables": {},
   "exception": null,
   "input_path": "/mnt/wd500GB/CSC500/csc500-main/csc500-notebooks/templates/tl_ptn_template.ipynb",
   "output_path": "trial.ipynb",
   "parameters": {
    "parameters": {
     "BEST_MODEL_PATH": "./best_model.pth",
     "NUM_LOGS_PER_EPOCH": 10,
     "criteria_for_best": "target_accuracy",
     "dataset_seed": 1337,
     "datasets": [
      {
       "domain_prefix": "C_",
       "domains": [
        1,
        2,
        3,
        4,
        5
       ],
       "episode_transforms": [],
       "labels": [
        "1-10.",
        "1-11.",
        "1-15.",
        "1-16.",
        "1-17.",
        "1-18.",
        "1-19.",
        "10-4.",
        "10-7.",
        "11-1.",
        "11-14.",
        "11-17.",
        "11-20.",
        "11-7.",
        "13-20.",
        "13-8.",
        "14-10.",
        "14-11.",
        "14-14.",
        "14-7.",
        "15-1.",
        "15-20.",
        "16-1.",
        "16-16.",
        "17-10.",
        "17-11.",
        "17-2.",
        "19-1.",
        "19-16.",
        "19-19.",
        "19-20.",
        "19-3.",
        "2-10.",
        "2-11.",
        "2-17.",
        "2-18.",
        "2-20.",
        "2-3.",
        "2-4.",
        "2-5.",
        "2-6.",
        "2-7.",
        "2-8.",
        "3-13.",
        "3-18.",
        "3-3.",
        "4-1.",
        "4-10.",
        "4-11.",
        "4-19.",
        "5-5.",
        "6-15.",
        "7-10.",
        "7-14.",
        "8-18.",
        "8-20.",
        "8-3.",
        "8-8."
       ],
       "num_examples_per_domain_per_label": -1,
       "pickle_path": "/mnt/wd500GB/CSC500/csc500-main/datasets/cores.stratified_ds.2022A.pkl",
       "source_or_target_dataset": "source",
       "x_transforms": [
        "take_200"
       ]
      },
      {
       "domain_prefix": "W_",
       "domains": [
        1,
        2,
        3,
        4
       ],
       "episode_transforms": [],
       "labels": [
        "1-10",
        "1-12",
        "1-14",
        "1-16",
        "1-18",
        "1-19",
        "1-8",
        "10-11",
        "10-17",
        "10-4",
        "10-7",
        "11-1",
        "11-10",
        "11-19",
        "11-20",
        "11-4",
        "11-7",
        "12-19",
        "12-20",
        "12-7",
        "13-14",
        "13-18",
        "13-19",
        "13-20",
        "13-3",
        "13-7",
        "14-10",
        "14-11",
        "14-12",
        "14-13",
        "14-14",
        "14-19",
        "14-20",
        "14-7",
        "14-8",
        "14-9",
        "15-1",
        "15-19",
        "15-6",
        "16-1",
        "16-16",
        "16-19",
        "16-20",
        "17-10",
        "17-11",
        "18-1",
        "18-10",
        "18-11",
        "18-12",
        "18-13",
        "18-14",
        "18-15",
        "18-16",
        "18-17",
        "18-19",
        "18-2",
        "18-20",
        "18-4",
        "18-5",
        "18-7",
        "18-8",
        "18-9",
        "19-1",
        "19-10",
        "19-11",
        "19-12",
        "19-13",
        "19-14",
        "19-15",
        "19-19",
        "19-2",
        "19-20",
        "19-3",
        "19-4",
        "19-6",
        "19-7",
        "19-8",
        "19-9",
        "2-1",
        "2-13",
        "2-15",
        "2-3",
        "2-4",
        "2-5",
        "2-6",
        "2-7",
        "2-8",
        "20-1",
        "20-12",
        "20-14",
        "20-15",
        "20-16",
        "20-18",
        "20-19",
        "20-20",
        "20-3",
        "20-4",
        "20-5",
        "20-7",
        "20-8",
        "3-1",
        "3-13",
        "3-18",
        "3-2",
        "3-8",
        "4-1",
        "4-10",
        "4-11",
        "5-1",
        "5-5",
        "6-1",
        "6-15",
        "6-6",
        "7-10",
        "7-11",
        "7-12",
        "7-13",
        "7-14",
        "7-7",
        "7-8",
        "7-9",
        "8-1",
        "8-13",
        "8-14",
        "8-18",
        "8-20",
        "8-3",
        "8-8",
        "9-1",
        "9-7"
       ],
       "num_examples_per_domain_per_label": -1,
       "pickle_path": "/mnt/wd500GB/CSC500/csc500-main/datasets/wisig.node3-19.stratified_ds.2022A.pkl",
       "source_or_target_dataset": "source",
       "x_transforms": [
        "take_200"
       ]
      },
      {
       "domain_prefix": "O_",
       "domains": [
        32,
        38,
        8,
        44,
        14,
        50,
        20,
        26
       ],
       "episode_transforms": [],
       "labels": [
        "3123D52",
        "3123D65",
        "3123D79",
        "3123D80",
        "3123D54",
        "3123D70",
        "3123D7B",
        "3123D89",
        "3123D58",
        "3123D76",
        "3123D7D",
        "3123EFE",
        "3123D64",
        "3123D78",
        "3123D7E",
        "3124E4A"
       ],
       "num_examples_per_domain_per_label": 2000,
       "pickle_path": "/mnt/wd500GB/CSC500/csc500-main/datasets/oracle.Run1_framed_2000Examples_stratified_ds.2022A.pkl",
       "source_or_target_dataset": "target",
       "x_transforms": [
        "take_200",
        "resample_20Msps_to_25Msps"
       ]
      }
     ],
     "device": "cuda",
     "experiment_name": "tl_3Av2:cores+wisig -> oracle.run1.framed",
     "lr": 0.0001,
     "n_epoch": 50,
     "n_query": 2,
     "n_shot": 3,
     "n_way": 16,
     "patience": 3,
     "seed": 1337,
     "test_k_factor": 2,
     "torch_default_dtype": "torch.float32",
     "train_k_factor": 3,
     "val_k_factor": 2,
     "x_net": [
      {
       "class": "nnReshape",
       "kargs": {
        "shape": [
         -1,
         1,
         2,
         200
        ]
       }
      },
      {
       "class": "Conv2d",
       "kargs": {
        "bias": false,
        "in_channels": 1,
        "kernel_size": [
         1,
         7
        ],
        "out_channels": 256,
        "padding": [
         0,
         3
        ]
       }
      },
      {
       "class": "ReLU",
       "kargs": {
        "inplace": true
       }
      },
      {
       "class": "BatchNorm2d",
       "kargs": {
        "num_features": 256
       }
      },
      {
       "class": "Conv2d",
       "kargs": {
        "bias": true,
        "in_channels": 256,
        "kernel_size": [
         2,
         7
        ],
        "out_channels": 80,
        "padding": [
         0,
         3
        ]
       }
      },
      {
       "class": "ReLU",
       "kargs": {
        "inplace": true
       }
      },
      {
       "class": "BatchNorm2d",
       "kargs": {
        "num_features": 80
       }
      },
      {
       "class": "Flatten",
       "kargs": {}
      },
      {
       "class": "Linear",
       "kargs": {
        "in_features": 16000,
        "out_features": 256
       }
      },
      {
       "class": "ReLU",
       "kargs": {
        "inplace": true
       }
      },
      {
       "class": "BatchNorm1d",
       "kargs": {
        "num_features": 256
       }
      },
      {
       "class": "Linear",
       "kargs": {
        "in_features": 256,
        "out_features": 256
       }
      }
     ],
     "x_shape": [
      2,
      200
     ]
    }
   },
   "start_time": "2022-03-20T07:50:31.492682",
   "version": "2.3.4"
  }
 },
 "nbformat": 4,
 "nbformat_minor": 5
}