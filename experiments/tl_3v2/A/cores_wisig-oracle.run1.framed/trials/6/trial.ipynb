{
 "cells": [
  {
   "cell_type": "markdown",
   "id": "9fea5f46",
   "metadata": {
    "papermill": {
     "duration": 0.017294,
     "end_time": "2022-03-20T12:24:47.783901",
     "exception": false,
     "start_time": "2022-03-20T12:24:47.766607",
     "status": "completed"
    },
    "tags": []
   },
   "source": [
    "# Transfer Learning Template"
   ]
  },
  {
   "cell_type": "code",
   "execution_count": 1,
   "id": "0902182a",
   "metadata": {
    "execution": {
     "iopub.execute_input": "2022-03-20T12:24:47.826898Z",
     "iopub.status.busy": "2022-03-20T12:24:47.820444Z",
     "iopub.status.idle": "2022-03-20T12:24:48.786895Z",
     "shell.execute_reply": "2022-03-20T12:24:48.786349Z"
    },
    "papermill": {
     "duration": 0.986381,
     "end_time": "2022-03-20T12:24:48.787020",
     "exception": false,
     "start_time": "2022-03-20T12:24:47.800639",
     "status": "completed"
    },
    "tags": []
   },
   "outputs": [],
   "source": [
    "%load_ext autoreload\n",
    "%autoreload 2\n",
    "%matplotlib inline\n",
    "\n",
    "    \n",
    "import os, json, sys, time, random\n",
    "import numpy as np\n",
    "import torch\n",
    "from torch.optim import Adam\n",
    "from  easydict import EasyDict\n",
    "import matplotlib.pyplot as plt\n",
    "\n",
    "from steves_models.steves_ptn import Steves_Prototypical_Network\n",
    "\n",
    "from steves_utils.lazy_iterable_wrapper import Lazy_Iterable_Wrapper\n",
    "from steves_utils.iterable_aggregator import Iterable_Aggregator\n",
    "from steves_utils.ptn_train_eval_test_jig import  PTN_Train_Eval_Test_Jig\n",
    "from steves_utils.torch_sequential_builder import build_sequential\n",
    "from steves_utils.torch_utils import get_dataset_metrics, ptn_confusion_by_domain_over_dataloader\n",
    "from steves_utils.utils_v2 import (per_domain_accuracy_from_confusion, get_datasets_base_path)\n",
    "from steves_utils.PTN.utils import independent_accuracy_assesment\n",
    "\n",
    "from torch.utils.data import DataLoader\n",
    "\n",
    "from steves_utils.stratified_dataset.episodic_accessor import Episodic_Accessor_Factory\n",
    "\n",
    "from steves_utils.ptn_do_report import (\n",
    "    get_loss_curve,\n",
    "    get_results_table,\n",
    "    get_parameters_table,\n",
    "    get_domain_accuracies,\n",
    ")\n",
    "\n",
    "from steves_utils.transforms import get_chained_transform"
   ]
  },
  {
   "cell_type": "markdown",
   "id": "41c840b4",
   "metadata": {
    "papermill": {
     "duration": 0.01354,
     "end_time": "2022-03-20T12:24:48.821966",
     "exception": false,
     "start_time": "2022-03-20T12:24:48.808426",
     "status": "completed"
    },
    "tags": []
   },
   "source": [
    "# Allowed Parameters\n",
    "These are allowed parameters, not defaults\n",
    "Each of these values need to be present in the injected parameters (the notebook will raise an exception if they are not present)\n",
    "\n",
    "Papermill uses the cell tag \"parameters\" to inject the real parameters below this cell.\n",
    "Enable tags to see what I mean"
   ]
  },
  {
   "cell_type": "code",
   "execution_count": 2,
   "id": "fd44eb83",
   "metadata": {
    "execution": {
     "iopub.execute_input": "2022-03-20T12:24:48.852448Z",
     "iopub.status.busy": "2022-03-20T12:24:48.852176Z",
     "iopub.status.idle": "2022-03-20T12:24:48.865918Z",
     "shell.execute_reply": "2022-03-20T12:24:48.865405Z"
    },
    "papermill": {
     "duration": 0.030524,
     "end_time": "2022-03-20T12:24:48.866025",
     "exception": false,
     "start_time": "2022-03-20T12:24:48.835501",
     "status": "completed"
    },
    "tags": []
   },
   "outputs": [],
   "source": [
    "required_parameters = {\n",
    "    \"experiment_name\",\n",
    "    \"lr\",\n",
    "    \"device\",\n",
    "    \"seed\",\n",
    "    \"dataset_seed\",\n",
    "    \"n_shot\",\n",
    "    \"n_query\",\n",
    "    \"n_way\",\n",
    "    \"train_k_factor\",\n",
    "    \"val_k_factor\",\n",
    "    \"test_k_factor\",\n",
    "    \"n_epoch\",\n",
    "    \"patience\",\n",
    "    \"criteria_for_best\",\n",
    "    \"x_net\",\n",
    "    \"datasets\",\n",
    "    \"torch_default_dtype\",\n",
    "    \"NUM_LOGS_PER_EPOCH\",\n",
    "    \"BEST_MODEL_PATH\",\n",
    "    \"x_shape\",\n",
    "}"
   ]
  },
  {
   "cell_type": "code",
   "execution_count": 3,
   "id": "fa3f0049",
   "metadata": {
    "execution": {
     "iopub.execute_input": "2022-03-20T12:24:48.902040Z",
     "iopub.status.busy": "2022-03-20T12:24:48.896769Z",
     "iopub.status.idle": "2022-03-20T12:24:48.918304Z",
     "shell.execute_reply": "2022-03-20T12:24:48.917838Z"
    },
    "papermill": {
     "duration": 0.036374,
     "end_time": "2022-03-20T12:24:48.918412",
     "exception": false,
     "start_time": "2022-03-20T12:24:48.882038",
     "status": "completed"
    },
    "tags": [
     "parameters"
    ]
   },
   "outputs": [],
   "source": [
    "from steves_utils.CORES.utils import (\n",
    "    ALL_NODES,\n",
    "    ALL_NODES_MINIMUM_1000_EXAMPLES,\n",
    "    ALL_DAYS\n",
    ")\n",
    "\n",
    "from steves_utils.ORACLE.utils_v2 import (\n",
    "    ALL_DISTANCES_FEET_NARROWED,\n",
    "    ALL_RUNS,\n",
    "    ALL_SERIAL_NUMBERS,\n",
    ")\n",
    "\n",
    "standalone_parameters = {}\n",
    "standalone_parameters[\"experiment_name\"] = \"STANDALONE PTN\"\n",
    "standalone_parameters[\"lr\"] = 0.001\n",
    "standalone_parameters[\"device\"] = \"cuda\"\n",
    "\n",
    "standalone_parameters[\"seed\"] = 1337\n",
    "standalone_parameters[\"dataset_seed\"] = 1337\n",
    "\n",
    "standalone_parameters[\"n_way\"] = 8\n",
    "standalone_parameters[\"n_shot\"] = 3\n",
    "standalone_parameters[\"n_query\"]  = 2\n",
    "standalone_parameters[\"train_k_factor\"] = 1\n",
    "standalone_parameters[\"val_k_factor\"] = 2\n",
    "standalone_parameters[\"test_k_factor\"] = 2\n",
    "\n",
    "\n",
    "standalone_parameters[\"n_epoch\"] = 50\n",
    "\n",
    "standalone_parameters[\"patience\"] = 10\n",
    "standalone_parameters[\"criteria_for_best\"] = \"source_loss\"\n",
    "\n",
    "standalone_parameters[\"datasets\"] = [\n",
    "    {\n",
    "        \"labels\": ALL_SERIAL_NUMBERS,\n",
    "        \"domains\": ALL_DISTANCES_FEET_NARROWED,\n",
    "        \"num_examples_per_domain_per_label\": 100,\n",
    "        \"pickle_path\": os.path.join(get_datasets_base_path(), \"oracle.Run1_framed_2000Examples_stratified_ds.2022A.pkl\"),\n",
    "        \"source_or_target_dataset\": \"source\",\n",
    "        \"x_transforms\": [\"unit_mag\", \"minus_two\"],\n",
    "        \"episode_transforms\": [],\n",
    "        \"domain_prefix\": \"ORACLE_\"\n",
    "    },\n",
    "    {\n",
    "        \"labels\": ALL_NODES,\n",
    "        \"domains\": ALL_DAYS,\n",
    "        \"num_examples_per_domain_per_label\": 100,\n",
    "        \"pickle_path\": os.path.join(get_datasets_base_path(), \"cores.stratified_ds.2022A.pkl\"),\n",
    "        \"source_or_target_dataset\": \"target\",\n",
    "        \"x_transforms\": [\"unit_power\", \"times_zero\"],\n",
    "        \"episode_transforms\": [],\n",
    "        \"domain_prefix\": \"CORES_\"\n",
    "    }   \n",
    "]\n",
    "\n",
    "standalone_parameters[\"torch_default_dtype\"] = \"torch.float32\" \n",
    "\n",
    "\n",
    "\n",
    "standalone_parameters[\"x_net\"] =     [\n",
    "    {\"class\": \"nnReshape\", \"kargs\": {\"shape\":[-1, 1, 2, 256]}},\n",
    "    {\"class\": \"Conv2d\", \"kargs\": { \"in_channels\":1, \"out_channels\":256, \"kernel_size\":(1,7), \"bias\":False, \"padding\":(0,3), },},\n",
    "    {\"class\": \"ReLU\", \"kargs\": {\"inplace\": True}},\n",
    "    {\"class\": \"BatchNorm2d\", \"kargs\": {\"num_features\":256}},\n",
    "\n",
    "    {\"class\": \"Conv2d\", \"kargs\": { \"in_channels\":256, \"out_channels\":80, \"kernel_size\":(2,7), \"bias\":True, \"padding\":(0,3), },},\n",
    "    {\"class\": \"ReLU\", \"kargs\": {\"inplace\": True}},\n",
    "    {\"class\": \"BatchNorm2d\", \"kargs\": {\"num_features\":80}},\n",
    "    {\"class\": \"Flatten\", \"kargs\": {}},\n",
    "\n",
    "    {\"class\": \"Linear\", \"kargs\": {\"in_features\": 80*256, \"out_features\": 256}}, # 80 units per IQ pair\n",
    "    {\"class\": \"ReLU\", \"kargs\": {\"inplace\": True}},\n",
    "    {\"class\": \"BatchNorm1d\", \"kargs\": {\"num_features\":256}},\n",
    "\n",
    "    {\"class\": \"Linear\", \"kargs\": {\"in_features\": 256, \"out_features\": 256}},\n",
    "]\n",
    "\n",
    "# Parameters relevant to results\n",
    "# These parameters will basically never need to change\n",
    "standalone_parameters[\"NUM_LOGS_PER_EPOCH\"] = 10\n",
    "standalone_parameters[\"BEST_MODEL_PATH\"] = \"./best_model.pth\"\n",
    "\n",
    "\n",
    "\n",
    "\n"
   ]
  },
  {
   "cell_type": "code",
   "execution_count": 4,
   "id": "8dee23c6",
   "metadata": {
    "execution": {
     "iopub.execute_input": "2022-03-20T12:24:48.961413Z",
     "iopub.status.busy": "2022-03-20T12:24:48.960773Z",
     "iopub.status.idle": "2022-03-20T12:24:48.974392Z",
     "shell.execute_reply": "2022-03-20T12:24:48.974044Z"
    },
    "papermill": {
     "duration": 0.039979,
     "end_time": "2022-03-20T12:24:48.974474",
     "exception": false,
     "start_time": "2022-03-20T12:24:48.934495",
     "status": "completed"
    },
    "tags": [
     "injected-parameters"
    ]
   },
   "outputs": [],
   "source": [
    "# Parameters\n",
    "parameters = {\n",
    "    \"experiment_name\": \"tl_3Av2:cores+wisig -> oracle.run1.framed\",\n",
    "    \"device\": \"cuda\",\n",
    "    \"lr\": 0.0001,\n",
    "    \"x_shape\": [2, 200],\n",
    "    \"n_shot\": 3,\n",
    "    \"n_query\": 2,\n",
    "    \"train_k_factor\": 3,\n",
    "    \"val_k_factor\": 2,\n",
    "    \"test_k_factor\": 2,\n",
    "    \"torch_default_dtype\": \"torch.float32\",\n",
    "    \"n_epoch\": 50,\n",
    "    \"patience\": 3,\n",
    "    \"criteria_for_best\": \"target_accuracy\",\n",
    "    \"x_net\": [\n",
    "        {\"class\": \"nnReshape\", \"kargs\": {\"shape\": [-1, 1, 2, 200]}},\n",
    "        {\n",
    "            \"class\": \"Conv2d\",\n",
    "            \"kargs\": {\n",
    "                \"in_channels\": 1,\n",
    "                \"out_channels\": 256,\n",
    "                \"kernel_size\": [1, 7],\n",
    "                \"bias\": False,\n",
    "                \"padding\": [0, 3],\n",
    "            },\n",
    "        },\n",
    "        {\"class\": \"ReLU\", \"kargs\": {\"inplace\": True}},\n",
    "        {\"class\": \"BatchNorm2d\", \"kargs\": {\"num_features\": 256}},\n",
    "        {\n",
    "            \"class\": \"Conv2d\",\n",
    "            \"kargs\": {\n",
    "                \"in_channels\": 256,\n",
    "                \"out_channels\": 80,\n",
    "                \"kernel_size\": [2, 7],\n",
    "                \"bias\": True,\n",
    "                \"padding\": [0, 3],\n",
    "            },\n",
    "        },\n",
    "        {\"class\": \"ReLU\", \"kargs\": {\"inplace\": True}},\n",
    "        {\"class\": \"BatchNorm2d\", \"kargs\": {\"num_features\": 80}},\n",
    "        {\"class\": \"Flatten\", \"kargs\": {}},\n",
    "        {\"class\": \"Linear\", \"kargs\": {\"in_features\": 16000, \"out_features\": 256}},\n",
    "        {\"class\": \"ReLU\", \"kargs\": {\"inplace\": True}},\n",
    "        {\"class\": \"BatchNorm1d\", \"kargs\": {\"num_features\": 256}},\n",
    "        {\"class\": \"Linear\", \"kargs\": {\"in_features\": 256, \"out_features\": 256}},\n",
    "    ],\n",
    "    \"NUM_LOGS_PER_EPOCH\": 10,\n",
    "    \"BEST_MODEL_PATH\": \"./best_model.pth\",\n",
    "    \"n_way\": 16,\n",
    "    \"datasets\": [\n",
    "        {\n",
    "            \"labels\": [\n",
    "                \"1-10.\",\n",
    "                \"1-11.\",\n",
    "                \"1-15.\",\n",
    "                \"1-16.\",\n",
    "                \"1-17.\",\n",
    "                \"1-18.\",\n",
    "                \"1-19.\",\n",
    "                \"10-4.\",\n",
    "                \"10-7.\",\n",
    "                \"11-1.\",\n",
    "                \"11-14.\",\n",
    "                \"11-17.\",\n",
    "                \"11-20.\",\n",
    "                \"11-7.\",\n",
    "                \"13-20.\",\n",
    "                \"13-8.\",\n",
    "                \"14-10.\",\n",
    "                \"14-11.\",\n",
    "                \"14-14.\",\n",
    "                \"14-7.\",\n",
    "                \"15-1.\",\n",
    "                \"15-20.\",\n",
    "                \"16-1.\",\n",
    "                \"16-16.\",\n",
    "                \"17-10.\",\n",
    "                \"17-11.\",\n",
    "                \"17-2.\",\n",
    "                \"19-1.\",\n",
    "                \"19-16.\",\n",
    "                \"19-19.\",\n",
    "                \"19-20.\",\n",
    "                \"19-3.\",\n",
    "                \"2-10.\",\n",
    "                \"2-11.\",\n",
    "                \"2-17.\",\n",
    "                \"2-18.\",\n",
    "                \"2-20.\",\n",
    "                \"2-3.\",\n",
    "                \"2-4.\",\n",
    "                \"2-5.\",\n",
    "                \"2-6.\",\n",
    "                \"2-7.\",\n",
    "                \"2-8.\",\n",
    "                \"3-13.\",\n",
    "                \"3-18.\",\n",
    "                \"3-3.\",\n",
    "                \"4-1.\",\n",
    "                \"4-10.\",\n",
    "                \"4-11.\",\n",
    "                \"4-19.\",\n",
    "                \"5-5.\",\n",
    "                \"6-15.\",\n",
    "                \"7-10.\",\n",
    "                \"7-14.\",\n",
    "                \"8-18.\",\n",
    "                \"8-20.\",\n",
    "                \"8-3.\",\n",
    "                \"8-8.\",\n",
    "            ],\n",
    "            \"domains\": [1, 2, 3, 4, 5],\n",
    "            \"num_examples_per_domain_per_label\": -1,\n",
    "            \"pickle_path\": \"/mnt/wd500GB/CSC500/csc500-main/datasets/cores.stratified_ds.2022A.pkl\",\n",
    "            \"source_or_target_dataset\": \"source\",\n",
    "            \"x_transforms\": [\"unit_power\", \"take_200\"],\n",
    "            \"episode_transforms\": [],\n",
    "            \"domain_prefix\": \"C_\",\n",
    "        },\n",
    "        {\n",
    "            \"labels\": [\n",
    "                \"1-10\",\n",
    "                \"1-12\",\n",
    "                \"1-14\",\n",
    "                \"1-16\",\n",
    "                \"1-18\",\n",
    "                \"1-19\",\n",
    "                \"1-8\",\n",
    "                \"10-11\",\n",
    "                \"10-17\",\n",
    "                \"10-4\",\n",
    "                \"10-7\",\n",
    "                \"11-1\",\n",
    "                \"11-10\",\n",
    "                \"11-19\",\n",
    "                \"11-20\",\n",
    "                \"11-4\",\n",
    "                \"11-7\",\n",
    "                \"12-19\",\n",
    "                \"12-20\",\n",
    "                \"12-7\",\n",
    "                \"13-14\",\n",
    "                \"13-18\",\n",
    "                \"13-19\",\n",
    "                \"13-20\",\n",
    "                \"13-3\",\n",
    "                \"13-7\",\n",
    "                \"14-10\",\n",
    "                \"14-11\",\n",
    "                \"14-12\",\n",
    "                \"14-13\",\n",
    "                \"14-14\",\n",
    "                \"14-19\",\n",
    "                \"14-20\",\n",
    "                \"14-7\",\n",
    "                \"14-8\",\n",
    "                \"14-9\",\n",
    "                \"15-1\",\n",
    "                \"15-19\",\n",
    "                \"15-6\",\n",
    "                \"16-1\",\n",
    "                \"16-16\",\n",
    "                \"16-19\",\n",
    "                \"16-20\",\n",
    "                \"17-10\",\n",
    "                \"17-11\",\n",
    "                \"18-1\",\n",
    "                \"18-10\",\n",
    "                \"18-11\",\n",
    "                \"18-12\",\n",
    "                \"18-13\",\n",
    "                \"18-14\",\n",
    "                \"18-15\",\n",
    "                \"18-16\",\n",
    "                \"18-17\",\n",
    "                \"18-19\",\n",
    "                \"18-2\",\n",
    "                \"18-20\",\n",
    "                \"18-4\",\n",
    "                \"18-5\",\n",
    "                \"18-7\",\n",
    "                \"18-8\",\n",
    "                \"18-9\",\n",
    "                \"19-1\",\n",
    "                \"19-10\",\n",
    "                \"19-11\",\n",
    "                \"19-12\",\n",
    "                \"19-13\",\n",
    "                \"19-14\",\n",
    "                \"19-15\",\n",
    "                \"19-19\",\n",
    "                \"19-2\",\n",
    "                \"19-20\",\n",
    "                \"19-3\",\n",
    "                \"19-4\",\n",
    "                \"19-6\",\n",
    "                \"19-7\",\n",
    "                \"19-8\",\n",
    "                \"19-9\",\n",
    "                \"2-1\",\n",
    "                \"2-13\",\n",
    "                \"2-15\",\n",
    "                \"2-3\",\n",
    "                \"2-4\",\n",
    "                \"2-5\",\n",
    "                \"2-6\",\n",
    "                \"2-7\",\n",
    "                \"2-8\",\n",
    "                \"20-1\",\n",
    "                \"20-12\",\n",
    "                \"20-14\",\n",
    "                \"20-15\",\n",
    "                \"20-16\",\n",
    "                \"20-18\",\n",
    "                \"20-19\",\n",
    "                \"20-20\",\n",
    "                \"20-3\",\n",
    "                \"20-4\",\n",
    "                \"20-5\",\n",
    "                \"20-7\",\n",
    "                \"20-8\",\n",
    "                \"3-1\",\n",
    "                \"3-13\",\n",
    "                \"3-18\",\n",
    "                \"3-2\",\n",
    "                \"3-8\",\n",
    "                \"4-1\",\n",
    "                \"4-10\",\n",
    "                \"4-11\",\n",
    "                \"5-1\",\n",
    "                \"5-5\",\n",
    "                \"6-1\",\n",
    "                \"6-15\",\n",
    "                \"6-6\",\n",
    "                \"7-10\",\n",
    "                \"7-11\",\n",
    "                \"7-12\",\n",
    "                \"7-13\",\n",
    "                \"7-14\",\n",
    "                \"7-7\",\n",
    "                \"7-8\",\n",
    "                \"7-9\",\n",
    "                \"8-1\",\n",
    "                \"8-13\",\n",
    "                \"8-14\",\n",
    "                \"8-18\",\n",
    "                \"8-20\",\n",
    "                \"8-3\",\n",
    "                \"8-8\",\n",
    "                \"9-1\",\n",
    "                \"9-7\",\n",
    "            ],\n",
    "            \"domains\": [1, 2, 3, 4],\n",
    "            \"num_examples_per_domain_per_label\": -1,\n",
    "            \"pickle_path\": \"/mnt/wd500GB/CSC500/csc500-main/datasets/wisig.node3-19.stratified_ds.2022A.pkl\",\n",
    "            \"source_or_target_dataset\": \"source\",\n",
    "            \"x_transforms\": [\"unit_power\", \"take_200\"],\n",
    "            \"episode_transforms\": [],\n",
    "            \"domain_prefix\": \"W_\",\n",
    "        },\n",
    "        {\n",
    "            \"labels\": [\n",
    "                \"3123D52\",\n",
    "                \"3123D65\",\n",
    "                \"3123D79\",\n",
    "                \"3123D80\",\n",
    "                \"3123D54\",\n",
    "                \"3123D70\",\n",
    "                \"3123D7B\",\n",
    "                \"3123D89\",\n",
    "                \"3123D58\",\n",
    "                \"3123D76\",\n",
    "                \"3123D7D\",\n",
    "                \"3123EFE\",\n",
    "                \"3123D64\",\n",
    "                \"3123D78\",\n",
    "                \"3123D7E\",\n",
    "                \"3124E4A\",\n",
    "            ],\n",
    "            \"domains\": [32, 38, 8, 44, 14, 50, 20, 26],\n",
    "            \"num_examples_per_domain_per_label\": 2000,\n",
    "            \"pickle_path\": \"/mnt/wd500GB/CSC500/csc500-main/datasets/oracle.Run1_framed_2000Examples_stratified_ds.2022A.pkl\",\n",
    "            \"source_or_target_dataset\": \"target\",\n",
    "            \"x_transforms\": [\"unit_power\", \"take_200\", \"resample_20Msps_to_25Msps\"],\n",
    "            \"episode_transforms\": [],\n",
    "            \"domain_prefix\": \"O_\",\n",
    "        },\n",
    "    ],\n",
    "    \"seed\": 154325,\n",
    "    \"dataset_seed\": 154325,\n",
    "}\n"
   ]
  },
  {
   "cell_type": "code",
   "execution_count": 5,
   "id": "8fa1cc33",
   "metadata": {
    "execution": {
     "iopub.execute_input": "2022-03-20T12:24:49.015394Z",
     "iopub.status.busy": "2022-03-20T12:24:49.010287Z",
     "iopub.status.idle": "2022-03-20T12:24:49.024837Z",
     "shell.execute_reply": "2022-03-20T12:24:49.025235Z"
    },
    "papermill": {
     "duration": 0.032984,
     "end_time": "2022-03-20T12:24:49.025364",
     "exception": false,
     "start_time": "2022-03-20T12:24:48.992380",
     "status": "completed"
    },
    "tags": []
   },
   "outputs": [],
   "source": [
    "# Set this to True if you want to run this template directly\n",
    "STANDALONE = False\n",
    "if STANDALONE:\n",
    "    print(\"parameters not injected, running with standalone_parameters\")\n",
    "    parameters = standalone_parameters\n",
    "\n",
    "if not 'parameters' in locals() and not 'parameters' in globals():\n",
    "    raise Exception(\"Parameter injection failed\")\n",
    "\n",
    "#Use an easy dict for all the parameters\n",
    "p = EasyDict(parameters)\n",
    "\n",
    "if \"x_shape\" not in p:\n",
    "    p.x_shape = [2,256] # Default to this if we dont supply x_shape\n",
    "\n",
    "\n",
    "supplied_keys = set(p.keys())\n",
    "\n",
    "if  supplied_keys != required_parameters:\n",
    "    print(\"Parameters are incorrect\")\n",
    "    if len(supplied_keys - required_parameters)>0: print(\"Shouldn't have:\", str(supplied_keys - required_parameters))\n",
    "    if len(required_parameters - supplied_keys)>0: print(\"Need to have:\", str(required_parameters - supplied_keys))\n",
    "    raise RuntimeError(\"Parameters are incorrect\")"
   ]
  },
  {
   "cell_type": "code",
   "execution_count": 6,
   "id": "3a028d58",
   "metadata": {
    "execution": {
     "iopub.execute_input": "2022-03-20T12:24:49.063951Z",
     "iopub.status.busy": "2022-03-20T12:24:49.063398Z",
     "iopub.status.idle": "2022-03-20T12:24:49.075468Z",
     "shell.execute_reply": "2022-03-20T12:24:49.075030Z"
    },
    "papermill": {
     "duration": 0.031762,
     "end_time": "2022-03-20T12:24:49.075573",
     "exception": false,
     "start_time": "2022-03-20T12:24:49.043811",
     "status": "completed"
    },
    "tags": []
   },
   "outputs": [],
   "source": [
    "###################################\n",
    "# Set the RNGs and make it all deterministic\n",
    "###################################\n",
    "np.random.seed(p.seed)\n",
    "random.seed(p.seed)\n",
    "torch.manual_seed(p.seed)\n",
    "\n",
    "torch.use_deterministic_algorithms(True) "
   ]
  },
  {
   "cell_type": "code",
   "execution_count": 7,
   "id": "b691acf6",
   "metadata": {
    "execution": {
     "iopub.execute_input": "2022-03-20T12:24:49.108217Z",
     "iopub.status.busy": "2022-03-20T12:24:49.107966Z",
     "iopub.status.idle": "2022-03-20T12:24:49.122782Z",
     "shell.execute_reply": "2022-03-20T12:24:49.123180Z"
    },
    "papermill": {
     "duration": 0.030363,
     "end_time": "2022-03-20T12:24:49.123324",
     "exception": false,
     "start_time": "2022-03-20T12:24:49.092961",
     "status": "completed"
    },
    "tags": []
   },
   "outputs": [],
   "source": [
    "###########################################\n",
    "# The stratified datasets honor this\n",
    "###########################################\n",
    "torch.set_default_dtype(eval(p.torch_default_dtype))"
   ]
  },
  {
   "cell_type": "code",
   "execution_count": 8,
   "id": "b5fba671",
   "metadata": {
    "execution": {
     "iopub.execute_input": "2022-03-20T12:24:49.160449Z",
     "iopub.status.busy": "2022-03-20T12:24:49.158814Z",
     "iopub.status.idle": "2022-03-20T12:24:49.195502Z",
     "shell.execute_reply": "2022-03-20T12:24:49.195719Z"
    },
    "papermill": {
     "duration": 0.052783,
     "end_time": "2022-03-20T12:24:49.195785",
     "exception": false,
     "start_time": "2022-03-20T12:24:49.143002",
     "status": "completed"
    },
    "tags": []
   },
   "outputs": [],
   "source": [
    "###################################\n",
    "# Build the network(s)\n",
    "# Note: It's critical to do this AFTER setting the RNG\n",
    "###################################\n",
    "x_net = build_sequential(p.x_net)"
   ]
  },
  {
   "cell_type": "code",
   "execution_count": 9,
   "id": "5d7e61cc",
   "metadata": {
    "execution": {
     "iopub.execute_input": "2022-03-20T12:24:49.228487Z",
     "iopub.status.busy": "2022-03-20T12:24:49.228103Z",
     "iopub.status.idle": "2022-03-20T12:24:49.241961Z",
     "shell.execute_reply": "2022-03-20T12:24:49.241477Z"
    },
    "papermill": {
     "duration": 0.029997,
     "end_time": "2022-03-20T12:24:49.242077",
     "exception": false,
     "start_time": "2022-03-20T12:24:49.212080",
     "status": "completed"
    },
    "tags": []
   },
   "outputs": [],
   "source": [
    "start_time_secs = time.time()"
   ]
  },
  {
   "cell_type": "code",
   "execution_count": 10,
   "id": "c6b67dfd",
   "metadata": {
    "execution": {
     "iopub.execute_input": "2022-03-20T12:24:49.277782Z",
     "iopub.status.busy": "2022-03-20T12:24:49.277521Z",
     "iopub.status.idle": "2022-03-20T12:24:49.293713Z",
     "shell.execute_reply": "2022-03-20T12:24:49.293360Z"
    },
    "papermill": {
     "duration": 0.03273,
     "end_time": "2022-03-20T12:24:49.293793",
     "exception": false,
     "start_time": "2022-03-20T12:24:49.261063",
     "status": "completed"
    },
    "tags": []
   },
   "outputs": [],
   "source": [
    "p.domains_source = []\n",
    "p.domains_target = []\n",
    "\n",
    "\n",
    "train_original_source = []\n",
    "val_original_source   = []\n",
    "test_original_source  = []\n",
    "\n",
    "train_original_target = []\n",
    "val_original_target   = []\n",
    "test_original_target  = []"
   ]
  },
  {
   "cell_type": "code",
   "execution_count": 11,
   "id": "e3d9c3d3",
   "metadata": {
    "execution": {
     "iopub.execute_input": "2022-03-20T12:24:49.328162Z",
     "iopub.status.busy": "2022-03-20T12:24:49.327908Z",
     "iopub.status.idle": "2022-03-20T12:24:49.343138Z",
     "shell.execute_reply": "2022-03-20T12:24:49.342682Z"
    },
    "papermill": {
     "duration": 0.031085,
     "end_time": "2022-03-20T12:24:49.343255",
     "exception": false,
     "start_time": "2022-03-20T12:24:49.312170",
     "status": "completed"
    },
    "tags": []
   },
   "outputs": [],
   "source": [
    "# global_x_transform_func = lambda x: normalize(x.to(torch.get_default_dtype()), \"unit_power\") # unit_power, unit_mag\n",
    "# global_x_transform_func = lambda x: normalize(x, \"unit_power\") # unit_power, unit_mag"
   ]
  },
  {
   "cell_type": "code",
   "execution_count": 12,
   "id": "acb78fd2",
   "metadata": {
    "execution": {
     "iopub.execute_input": "2022-03-20T12:24:49.384332Z",
     "iopub.status.busy": "2022-03-20T12:24:49.384070Z",
     "iopub.status.idle": "2022-03-20T12:24:49.397675Z",
     "shell.execute_reply": "2022-03-20T12:24:49.397248Z"
    },
    "papermill": {
     "duration": 0.03436,
     "end_time": "2022-03-20T12:24:49.397772",
     "exception": false,
     "start_time": "2022-03-20T12:24:49.363412",
     "status": "completed"
    },
    "tags": []
   },
   "outputs": [],
   "source": [
    "def add_dataset(\n",
    "    labels,\n",
    "    domains,\n",
    "    pickle_path,\n",
    "    x_transforms,\n",
    "    episode_transforms,\n",
    "    domain_prefix,\n",
    "    num_examples_per_domain_per_label,\n",
    "    source_or_target_dataset:str,\n",
    "    iterator_seed=p.seed,\n",
    "    dataset_seed=p.dataset_seed,\n",
    "    n_shot=p.n_shot,\n",
    "    n_way=p.n_way,\n",
    "    n_query=p.n_query,\n",
    "    train_val_test_k_factors=(p.train_k_factor,p.val_k_factor,p.test_k_factor),\n",
    "):\n",
    "   \n",
    "    if x_transforms == []: x_transform = None\n",
    "    else: x_transform = get_chained_transform(x_transforms)\n",
    "    \n",
    "    if episode_transforms == []: episode_transform = None\n",
    "    else: raise Exception(\"episode_transforms not implemented\")\n",
    "    \n",
    "    episode_transform = lambda tup, _prefix=domain_prefix: (_prefix + str(tup[0]), tup[1])\n",
    "\n",
    "\n",
    "    eaf = Episodic_Accessor_Factory(\n",
    "        labels=labels,\n",
    "        domains=domains,\n",
    "        num_examples_per_domain_per_label=num_examples_per_domain_per_label,\n",
    "        iterator_seed=iterator_seed,\n",
    "        dataset_seed=dataset_seed,\n",
    "        n_shot=n_shot,\n",
    "        n_way=n_way,\n",
    "        n_query=n_query,\n",
    "        train_val_test_k_factors=train_val_test_k_factors,\n",
    "        pickle_path=pickle_path,\n",
    "        x_transform_func=x_transform,\n",
    "    )\n",
    "\n",
    "    train, val, test = eaf.get_train(), eaf.get_val(), eaf.get_test()\n",
    "    train = Lazy_Iterable_Wrapper(train, episode_transform)\n",
    "    val = Lazy_Iterable_Wrapper(val, episode_transform)\n",
    "    test = Lazy_Iterable_Wrapper(test, episode_transform)\n",
    "\n",
    "    if source_or_target_dataset==\"source\":\n",
    "        train_original_source.append(train)\n",
    "        val_original_source.append(val)\n",
    "        test_original_source.append(test)\n",
    "\n",
    "        p.domains_source.extend(\n",
    "            [domain_prefix + str(u) for u in domains]\n",
    "        )\n",
    "    elif source_or_target_dataset==\"target\":\n",
    "        train_original_target.append(train)\n",
    "        val_original_target.append(val)\n",
    "        test_original_target.append(test)\n",
    "        p.domains_target.extend(\n",
    "            [domain_prefix + str(u) for u in domains]\n",
    "        )\n",
    "    else:\n",
    "        raise Exception(f\"invalid source_or_target_dataset: {source_or_target_dataset}\")\n",
    "    "
   ]
  },
  {
   "cell_type": "code",
   "execution_count": 13,
   "id": "fe266617",
   "metadata": {
    "execution": {
     "iopub.execute_input": "2022-03-20T12:24:49.431645Z",
     "iopub.status.busy": "2022-03-20T12:24:49.431389Z",
     "iopub.status.idle": "2022-03-20T12:25:58.452082Z",
     "shell.execute_reply": "2022-03-20T12:25:58.452510Z"
    },
    "papermill": {
     "duration": 69.036369,
     "end_time": "2022-03-20T12:25:58.452645",
     "exception": false,
     "start_time": "2022-03-20T12:24:49.416276",
     "status": "completed"
    },
    "tags": []
   },
   "outputs": [],
   "source": [
    "for ds in p.datasets:\n",
    "    add_dataset(**ds)"
   ]
  },
  {
   "cell_type": "code",
   "execution_count": 14,
   "id": "b90d65ac",
   "metadata": {
    "execution": {
     "iopub.execute_input": "2022-03-20T12:25:58.493427Z",
     "iopub.status.busy": "2022-03-20T12:25:58.493168Z",
     "iopub.status.idle": "2022-03-20T12:25:58.508117Z",
     "shell.execute_reply": "2022-03-20T12:25:58.508513Z"
    },
    "papermill": {
     "duration": 0.034035,
     "end_time": "2022-03-20T12:25:58.508640",
     "exception": false,
     "start_time": "2022-03-20T12:25:58.474605",
     "status": "completed"
    },
    "tags": []
   },
   "outputs": [],
   "source": [
    "# from steves_utils.CORES.utils import (\n",
    "#     ALL_NODES,\n",
    "#     ALL_NODES_MINIMUM_1000_EXAMPLES,\n",
    "#     ALL_DAYS\n",
    "# )\n",
    "\n",
    "# add_dataset(\n",
    "#     labels=ALL_NODES,\n",
    "#     domains = ALL_DAYS,\n",
    "#     num_examples_per_domain_per_label=100,\n",
    "#     pickle_path=os.path.join(get_datasets_base_path(), \"cores.stratified_ds.2022A.pkl\"),\n",
    "#     source_or_target_dataset=\"target\",\n",
    "#     x_transform_func=global_x_transform_func,\n",
    "#     domain_modifier=lambda u: f\"cores_{u}\"\n",
    "# )"
   ]
  },
  {
   "cell_type": "code",
   "execution_count": 15,
   "id": "76db484d",
   "metadata": {
    "execution": {
     "iopub.execute_input": "2022-03-20T12:25:58.543359Z",
     "iopub.status.busy": "2022-03-20T12:25:58.543090Z",
     "iopub.status.idle": "2022-03-20T12:25:58.557859Z",
     "shell.execute_reply": "2022-03-20T12:25:58.558261Z"
    },
    "papermill": {
     "duration": 0.030833,
     "end_time": "2022-03-20T12:25:58.558380",
     "exception": false,
     "start_time": "2022-03-20T12:25:58.527547",
     "status": "completed"
    },
    "tags": []
   },
   "outputs": [],
   "source": [
    "# from steves_utils.ORACLE.utils_v2 import (\n",
    "#     ALL_DISTANCES_FEET,\n",
    "#     ALL_RUNS,\n",
    "#     ALL_SERIAL_NUMBERS,\n",
    "# )\n",
    "\n",
    "\n",
    "# add_dataset(\n",
    "#     labels=ALL_SERIAL_NUMBERS,\n",
    "#     domains = list(set(ALL_DISTANCES_FEET) - {2,62}),\n",
    "#     num_examples_per_domain_per_label=100,\n",
    "#     pickle_path=os.path.join(get_datasets_base_path(), \"oracle.Run2_framed_2000Examples_stratified_ds.2022A.pkl\"),\n",
    "#     source_or_target_dataset=\"source\",\n",
    "#     x_transform_func=global_x_transform_func,\n",
    "#     domain_modifier=lambda u: f\"oracle1_{u}\"\n",
    "# )\n"
   ]
  },
  {
   "cell_type": "code",
   "execution_count": 16,
   "id": "97dea9d2",
   "metadata": {
    "execution": {
     "iopub.execute_input": "2022-03-20T12:25:58.593333Z",
     "iopub.status.busy": "2022-03-20T12:25:58.592877Z",
     "iopub.status.idle": "2022-03-20T12:25:58.606326Z",
     "shell.execute_reply": "2022-03-20T12:25:58.606521Z"
    },
    "papermill": {
     "duration": 0.029671,
     "end_time": "2022-03-20T12:25:58.606593",
     "exception": false,
     "start_time": "2022-03-20T12:25:58.576922",
     "status": "completed"
    },
    "tags": []
   },
   "outputs": [],
   "source": [
    "# from steves_utils.ORACLE.utils_v2 import (\n",
    "#     ALL_DISTANCES_FEET,\n",
    "#     ALL_RUNS,\n",
    "#     ALL_SERIAL_NUMBERS,\n",
    "# )\n",
    "\n",
    "\n",
    "# add_dataset(\n",
    "#     labels=ALL_SERIAL_NUMBERS,\n",
    "#     domains = list(set(ALL_DISTANCES_FEET) - {2,62,56}),\n",
    "#     num_examples_per_domain_per_label=100,\n",
    "#     pickle_path=os.path.join(get_datasets_base_path(), \"oracle.Run2_framed_2000Examples_stratified_ds.2022A.pkl\"),\n",
    "#     source_or_target_dataset=\"source\",\n",
    "#     x_transform_func=global_x_transform_func,\n",
    "#     domain_modifier=lambda u: f\"oracle2_{u}\"\n",
    "# )"
   ]
  },
  {
   "cell_type": "code",
   "execution_count": 17,
   "id": "6f289866",
   "metadata": {
    "execution": {
     "iopub.execute_input": "2022-03-20T12:25:58.640823Z",
     "iopub.status.busy": "2022-03-20T12:25:58.640569Z",
     "iopub.status.idle": "2022-03-20T12:25:58.656629Z",
     "shell.execute_reply": "2022-03-20T12:25:58.656158Z"
    },
    "papermill": {
     "duration": 0.0317,
     "end_time": "2022-03-20T12:25:58.656728",
     "exception": false,
     "start_time": "2022-03-20T12:25:58.625028",
     "status": "completed"
    },
    "tags": []
   },
   "outputs": [],
   "source": [
    "# add_dataset(\n",
    "#     labels=list(range(19)),\n",
    "#     domains = [0,1,2],\n",
    "#     num_examples_per_domain_per_label=100,\n",
    "#     pickle_path=os.path.join(get_datasets_base_path(), \"metehan.stratified_ds.2022A.pkl\"),\n",
    "#     source_or_target_dataset=\"target\",\n",
    "#     x_transform_func=global_x_transform_func,\n",
    "#     domain_modifier=lambda u: f\"met_{u}\"\n",
    "# )"
   ]
  },
  {
   "cell_type": "code",
   "execution_count": 18,
   "id": "86a863c3",
   "metadata": {
    "execution": {
     "iopub.execute_input": "2022-03-20T12:25:58.692412Z",
     "iopub.status.busy": "2022-03-20T12:25:58.692152Z",
     "iopub.status.idle": "2022-03-20T12:25:58.705050Z",
     "shell.execute_reply": "2022-03-20T12:25:58.704736Z"
    },
    "papermill": {
     "duration": 0.02846,
     "end_time": "2022-03-20T12:25:58.705152",
     "exception": false,
     "start_time": "2022-03-20T12:25:58.676692",
     "status": "completed"
    },
    "tags": []
   },
   "outputs": [],
   "source": [
    "# # from steves_utils.wisig.utils import (\n",
    "# #     ALL_NODES_MINIMUM_100_EXAMPLES,\n",
    "# #     ALL_NODES_MINIMUM_500_EXAMPLES,\n",
    "# #     ALL_NODES_MINIMUM_1000_EXAMPLES,\n",
    "# #     ALL_DAYS\n",
    "# # )\n",
    "\n",
    "# import steves_utils.wisig.utils as wisig\n",
    "\n",
    "\n",
    "# add_dataset(\n",
    "#     labels=wisig.ALL_NODES_MINIMUM_100_EXAMPLES,\n",
    "#     domains = wisig.ALL_DAYS,\n",
    "#     num_examples_per_domain_per_label=100,\n",
    "#     pickle_path=os.path.join(get_datasets_base_path(), \"wisig.node3-19.stratified_ds.2022A.pkl\"),\n",
    "#     source_or_target_dataset=\"target\",\n",
    "#     x_transform_func=global_x_transform_func,\n",
    "#     domain_modifier=lambda u: f\"wisig_{u}\"\n",
    "# )"
   ]
  },
  {
   "cell_type": "code",
   "execution_count": 19,
   "id": "fd5442bc",
   "metadata": {
    "execution": {
     "iopub.execute_input": "2022-03-20T12:25:58.745393Z",
     "iopub.status.busy": "2022-03-20T12:25:58.745117Z",
     "iopub.status.idle": "2022-03-20T12:25:58.758680Z",
     "shell.execute_reply": "2022-03-20T12:25:58.759088Z"
    },
    "papermill": {
     "duration": 0.03438,
     "end_time": "2022-03-20T12:25:58.759218",
     "exception": false,
     "start_time": "2022-03-20T12:25:58.724838",
     "status": "completed"
    },
    "tags": []
   },
   "outputs": [],
   "source": [
    "###################################\n",
    "# Build the dataset\n",
    "###################################\n",
    "train_original_source = Iterable_Aggregator(train_original_source, p.seed)\n",
    "val_original_source = Iterable_Aggregator(val_original_source, p.seed)\n",
    "test_original_source = Iterable_Aggregator(test_original_source, p.seed)\n",
    "\n",
    "\n",
    "train_original_target = Iterable_Aggregator(train_original_target, p.seed)\n",
    "val_original_target = Iterable_Aggregator(val_original_target, p.seed)\n",
    "test_original_target = Iterable_Aggregator(test_original_target, p.seed)\n",
    "\n",
    "# For CNN We only use X and Y. And we only train on the source.\n",
    "# Properly form the data using a transform lambda and Lazy_Iterable_Wrapper. Finally wrap them in a dataloader\n",
    "\n",
    "transform_lambda = lambda ex: ex[1] # Original is (<domain>, <episode>) so we strip down to episode only\n",
    "\n",
    "train_processed_source = Lazy_Iterable_Wrapper(train_original_source, transform_lambda)\n",
    "val_processed_source   = Lazy_Iterable_Wrapper(val_original_source, transform_lambda)\n",
    "test_processed_source  = Lazy_Iterable_Wrapper(test_original_source, transform_lambda)\n",
    "\n",
    "train_processed_target = Lazy_Iterable_Wrapper(train_original_target, transform_lambda)\n",
    "val_processed_target   = Lazy_Iterable_Wrapper(val_original_target, transform_lambda)\n",
    "test_processed_target  = Lazy_Iterable_Wrapper(test_original_target, transform_lambda)\n",
    "\n",
    "datasets = EasyDict({\n",
    "    \"source\": {\n",
    "        \"original\": {\"train\":train_original_source, \"val\":val_original_source, \"test\":test_original_source},\n",
    "        \"processed\": {\"train\":train_processed_source, \"val\":val_processed_source, \"test\":test_processed_source}\n",
    "    },\n",
    "    \"target\": {\n",
    "        \"original\": {\"train\":train_original_target, \"val\":val_original_target, \"test\":test_original_target},\n",
    "        \"processed\": {\"train\":train_processed_target, \"val\":val_processed_target, \"test\":test_processed_target}\n",
    "    },\n",
    "})"
   ]
  },
  {
   "cell_type": "code",
   "execution_count": 20,
   "id": "5b3c01fc",
   "metadata": {
    "execution": {
     "iopub.execute_input": "2022-03-20T12:25:58.794855Z",
     "iopub.status.busy": "2022-03-20T12:25:58.794598Z",
     "iopub.status.idle": "2022-03-20T12:26:08.403365Z",
     "shell.execute_reply": "2022-03-20T12:26:08.403854Z"
    },
    "papermill": {
     "duration": 9.626452,
     "end_time": "2022-03-20T12:26:08.403988",
     "exception": false,
     "start_time": "2022-03-20T12:25:58.777536",
     "status": "completed"
    },
    "tags": []
   },
   "outputs": [
    {
     "name": "stdout",
     "output_type": "stream",
     "text": [
      "{'W_2', 'C_3', 'C_5', 'C_2', 'W_3', 'C_4', 'C_1', 'W_1', 'W_4'}\n"
     ]
    },
    {
     "name": "stdout",
     "output_type": "stream",
     "text": [
      "{'O_8', 'O_50', 'O_44', 'O_14', 'O_26', 'O_32', 'O_20', 'O_38'}\n"
     ]
    },
    {
     "name": "stdout",
     "output_type": "stream",
     "text": [
      "tensor([[[-0.5515, -0.3234,  1.1809,  ..., -1.4119, -0.9990,  0.5082],\n",
      "         [ 0.2541, -0.9557, -0.5428,  ...,  0.6121, -1.3859, -0.7334]],\n",
      "\n",
      "        [[-0.2472,  0.1696,  1.2388,  ..., -1.1181, -0.0029,  1.6326],\n",
      "         [ 0.0144, -0.7215,  0.2903,  ..., -0.9284, -1.5521, -0.4771]],\n",
      "\n",
      "        [[ 0.3363, -1.1873, -0.7340,  ...,  0.9709, -0.4767,  1.1200],\n",
      "         [ 1.2663,  0.2486, -0.6931,  ...,  0.8919, -0.1550,  0.0292]],\n",
      "\n",
      "        ...,\n",
      "\n",
      "        [[-0.1836,  0.2050,  0.4834,  ..., -0.4008, -0.0031,  0.1377],\n",
      "         [ 0.5018,  0.5324, -0.1193,  ...,  0.0704,  0.5446, -0.2784]],\n",
      "\n",
      "        [[-0.0033,  0.2896, -0.1692,  ...,  0.2571,  0.4621, -0.0293],\n",
      "         [-0.0423, -0.4751, -0.5304,  ...,  0.0521, -0.3091, -0.4165]],\n",
      "\n",
      "        [[-0.1185,  0.1185,  0.1933,  ...,  0.6453,  0.8167,  0.2961],\n",
      "         [-0.0436,  0.0281,  0.0156,  ...,  0.3304,  0.1870, -0.2151]]])\n"
     ]
    }
   ],
   "source": [
    "from steves_utils.transforms import get_average_magnitude, get_average_power\n",
    "\n",
    "print(set([u for u,_ in val_original_source]))\n",
    "print(set([u for u,_ in val_original_target]))\n",
    "\n",
    "s_x, s_y, q_x, q_y, _ = next(iter(train_processed_source))\n",
    "print(s_x)\n",
    "\n",
    "# for ds in [\n",
    "#     train_processed_source,\n",
    "#     val_processed_source,\n",
    "#     test_processed_source,\n",
    "#     train_processed_target,\n",
    "#     val_processed_target,\n",
    "#     test_processed_target\n",
    "# ]:\n",
    "#     for s_x, s_y, q_x, q_y, _ in ds:\n",
    "#         for X in (s_x, q_x):\n",
    "#             for x in X:\n",
    "#                 assert np.isclose(get_average_magnitude(x.numpy()), 1.0)\n",
    "#                 assert np.isclose(get_average_power(x.numpy()), 1.0)\n",
    "                "
   ]
  },
  {
   "cell_type": "code",
   "execution_count": 21,
   "id": "bbdacba1",
   "metadata": {
    "execution": {
     "iopub.execute_input": "2022-03-20T12:26:08.450425Z",
     "iopub.status.busy": "2022-03-20T12:26:08.446889Z",
     "iopub.status.idle": "2022-03-20T12:26:08.499242Z",
     "shell.execute_reply": "2022-03-20T12:26:08.498962Z"
    },
    "papermill": {
     "duration": 0.076749,
     "end_time": "2022-03-20T12:26:08.499304",
     "exception": false,
     "start_time": "2022-03-20T12:26:08.422555",
     "status": "completed"
    },
    "tags": []
   },
   "outputs": [
    {
     "name": "stdout",
     "output_type": "stream",
     "text": [
      "(2, 200)\n"
     ]
    }
   ],
   "source": [
    "###################################\n",
    "# Build the model\n",
    "###################################\n",
    "# easfsl only wants a tuple for the shape\n",
    "model = Steves_Prototypical_Network(x_net, device=p.device, x_shape=tuple(p.x_shape))\n",
    "optimizer = Adam(params=model.parameters(), lr=p.lr)"
   ]
  },
  {
   "cell_type": "code",
   "execution_count": 22,
   "id": "22b39ac5",
   "metadata": {
    "execution": {
     "iopub.execute_input": "2022-03-20T12:26:08.547382Z",
     "iopub.status.busy": "2022-03-20T12:26:08.546780Z",
     "iopub.status.idle": "2022-03-20T13:26:49.564698Z",
     "shell.execute_reply": "2022-03-20T13:26:49.564457Z"
    },
    "papermill": {
     "duration": 3641.041308,
     "end_time": "2022-03-20T13:26:49.564760",
     "exception": false,
     "start_time": "2022-03-20T12:26:08.523452",
     "status": "completed"
    },
    "tags": []
   },
   "outputs": [
    {
     "name": "stdout",
     "output_type": "stream",
     "text": [
      "epoch: 1, [batch: 1 / 13145], examples_per_second: 23.1973, train_label_loss: 2.6777, \n"
     ]
    },
    {
     "name": "stdout",
     "output_type": "stream",
     "text": [
      "epoch: 1, [batch: 1315 / 13145], examples_per_second: 1740.4737, train_label_loss: 0.1511, \n"
     ]
    },
    {
     "name": "stdout",
     "output_type": "stream",
     "text": [
      "epoch: 1, [batch: 2629 / 13145], examples_per_second: 1743.2534, train_label_loss: 0.0025, \n"
     ]
    },
    {
     "name": "stdout",
     "output_type": "stream",
     "text": [
      "epoch: 1, [batch: 3944 / 13145], examples_per_second: 1742.6505, train_label_loss: 0.1182, \n"
     ]
    },
    {
     "name": "stdout",
     "output_type": "stream",
     "text": [
      "epoch: 1, [batch: 5258 / 13145], examples_per_second: 1736.6886, train_label_loss: 0.0044, \n"
     ]
    },
    {
     "name": "stdout",
     "output_type": "stream",
     "text": [
      "epoch: 1, [batch: 6573 / 13145], examples_per_second: 1743.8119, train_label_loss: 0.0997, \n"
     ]
    },
    {
     "name": "stdout",
     "output_type": "stream",
     "text": [
      "epoch: 1, [batch: 7887 / 13145], examples_per_second: 2226.5753, train_label_loss: 0.1480, \n"
     ]
    },
    {
     "name": "stdout",
     "output_type": "stream",
     "text": [
      "epoch: 1, [batch: 9201 / 13145], examples_per_second: 1959.0371, train_label_loss: 0.3755, \n"
     ]
    },
    {
     "name": "stdout",
     "output_type": "stream",
     "text": [
      "epoch: 1, [batch: 10516 / 13145], examples_per_second: 1739.4624, train_label_loss: 0.0895, \n"
     ]
    },
    {
     "name": "stdout",
     "output_type": "stream",
     "text": [
      "epoch: 1, [batch: 11830 / 13145], examples_per_second: 1739.0677, train_label_loss: 0.0013, \n"
     ]
    },
    {
     "name": "stdout",
     "output_type": "stream",
     "text": [
      "=============================================================\n",
      "epoch: 1, source_val_acc_label: 0.9766, target_val_acc_label: 0.2081, source_val_label_loss: 0.1084, target_val_label_loss: 2.3960, \n",
      "=============================================================\n"
     ]
    },
    {
     "name": "stdout",
     "output_type": "stream",
     "text": [
      "New best\n"
     ]
    },
    {
     "name": "stdout",
     "output_type": "stream",
     "text": [
      "epoch: 2, [batch: 1 / 13179], examples_per_second: 1.4784, train_label_loss: 0.0227, \n"
     ]
    },
    {
     "name": "stdout",
     "output_type": "stream",
     "text": [
      "epoch: 2, [batch: 1318 / 13179], examples_per_second: 1742.8850, train_label_loss: 0.0032, \n"
     ]
    },
    {
     "name": "stdout",
     "output_type": "stream",
     "text": [
      "epoch: 2, [batch: 2636 / 13179], examples_per_second: 1744.7178, train_label_loss: 0.0006, \n"
     ]
    },
    {
     "name": "stdout",
     "output_type": "stream",
     "text": [
      "epoch: 2, [batch: 3954 / 13179], examples_per_second: 1744.8914, train_label_loss: 0.0481, \n"
     ]
    },
    {
     "name": "stdout",
     "output_type": "stream",
     "text": [
      "epoch: 2, [batch: 5272 / 13179], examples_per_second: 1738.6701, train_label_loss: 0.0462, \n"
     ]
    },
    {
     "name": "stdout",
     "output_type": "stream",
     "text": [
      "epoch: 2, [batch: 6590 / 13179], examples_per_second: 1744.4457, train_label_loss: 0.0005, \n"
     ]
    },
    {
     "name": "stdout",
     "output_type": "stream",
     "text": [
      "epoch: 2, [batch: 7907 / 13179], examples_per_second: 2133.2038, train_label_loss: 0.0013, \n"
     ]
    },
    {
     "name": "stdout",
     "output_type": "stream",
     "text": [
      "epoch: 2, [batch: 9225 / 13179], examples_per_second: 2039.1873, train_label_loss: 0.0277, \n"
     ]
    },
    {
     "name": "stdout",
     "output_type": "stream",
     "text": [
      "epoch: 2, [batch: 10543 / 13179], examples_per_second: 1742.1342, train_label_loss: 0.1980, \n"
     ]
    },
    {
     "name": "stdout",
     "output_type": "stream",
     "text": [
      "epoch: 2, [batch: 11861 / 13179], examples_per_second: 1743.2276, train_label_loss: 0.0001, \n"
     ]
    },
    {
     "name": "stdout",
     "output_type": "stream",
     "text": [
      "=============================================================\n",
      "epoch: 2, source_val_acc_label: 0.9845, target_val_acc_label: 0.2662, source_val_label_loss: 0.0701, target_val_label_loss: 2.2240, \n",
      "=============================================================\n"
     ]
    },
    {
     "name": "stdout",
     "output_type": "stream",
     "text": [
      "New best\n"
     ]
    },
    {
     "name": "stdout",
     "output_type": "stream",
     "text": [
      "epoch: 3, [batch: 1 / 13166], examples_per_second: 1.4747, train_label_loss: 0.1391, \n"
     ]
    },
    {
     "name": "stdout",
     "output_type": "stream",
     "text": [
      "epoch: 3, [batch: 1317 / 13166], examples_per_second: 1742.5072, train_label_loss: 0.0008, \n"
     ]
    },
    {
     "name": "stdout",
     "output_type": "stream",
     "text": [
      "epoch: 3, [batch: 2634 / 13166], examples_per_second: 1743.7107, train_label_loss: 0.0906, \n"
     ]
    },
    {
     "name": "stdout",
     "output_type": "stream",
     "text": [
      "epoch: 3, [batch: 3950 / 13166], examples_per_second: 1744.8687, train_label_loss: 0.0044, \n"
     ]
    },
    {
     "name": "stdout",
     "output_type": "stream",
     "text": [
      "epoch: 3, [batch: 5267 / 13166], examples_per_second: 1739.7017, train_label_loss: 0.0012, \n"
     ]
    },
    {
     "name": "stdout",
     "output_type": "stream",
     "text": [
      "epoch: 3, [batch: 6583 / 13166], examples_per_second: 1745.8165, train_label_loss: 0.0008, \n"
     ]
    },
    {
     "name": "stdout",
     "output_type": "stream",
     "text": [
      "epoch: 3, [batch: 7900 / 13166], examples_per_second: 2078.6482, train_label_loss: 0.0052, \n"
     ]
    },
    {
     "name": "stdout",
     "output_type": "stream",
     "text": [
      "epoch: 3, [batch: 9216 / 13166], examples_per_second: 2281.3784, train_label_loss: 0.0003, \n"
     ]
    },
    {
     "name": "stdout",
     "output_type": "stream",
     "text": [
      "epoch: 3, [batch: 10533 / 13166], examples_per_second: 2282.9527, train_label_loss: 0.2972, \n"
     ]
    },
    {
     "name": "stdout",
     "output_type": "stream",
     "text": [
      "epoch: 3, [batch: 11849 / 13166], examples_per_second: 2149.9978, train_label_loss: 0.0004, \n"
     ]
    },
    {
     "name": "stdout",
     "output_type": "stream",
     "text": [
      "=============================================================\n",
      "epoch: 3, source_val_acc_label: 0.9861, target_val_acc_label: 0.2519, source_val_label_loss: 0.0605, target_val_label_loss: 2.2963, \n",
      "=============================================================\n"
     ]
    },
    {
     "name": "stdout",
     "output_type": "stream",
     "text": [
      "epoch: 4, [batch: 1 / 13172], examples_per_second: 2.3764, train_label_loss: 0.0007, \n"
     ]
    },
    {
     "name": "stdout",
     "output_type": "stream",
     "text": [
      "epoch: 4, [batch: 1318 / 13172], examples_per_second: 3606.4200, train_label_loss: 0.1198, \n"
     ]
    },
    {
     "name": "stdout",
     "output_type": "stream",
     "text": [
      "epoch: 4, [batch: 2635 / 13172], examples_per_second: 3642.2031, train_label_loss: 0.0006, \n"
     ]
    },
    {
     "name": "stdout",
     "output_type": "stream",
     "text": [
      "epoch: 4, [batch: 3952 / 13172], examples_per_second: 3638.5902, train_label_loss: 0.0001, \n"
     ]
    },
    {
     "name": "stdout",
     "output_type": "stream",
     "text": [
      "epoch: 4, [batch: 5269 / 13172], examples_per_second: 2202.3862, train_label_loss: 0.2137, \n"
     ]
    },
    {
     "name": "stdout",
     "output_type": "stream",
     "text": [
      "epoch: 4, [batch: 6586 / 13172], examples_per_second: 1729.3300, train_label_loss: 0.0016, \n"
     ]
    },
    {
     "name": "stdout",
     "output_type": "stream",
     "text": [
      "epoch: 4, [batch: 7903 / 13172], examples_per_second: 1728.2936, train_label_loss: 0.2329, \n"
     ]
    },
    {
     "name": "stdout",
     "output_type": "stream",
     "text": [
      "epoch: 4, [batch: 9220 / 13172], examples_per_second: 1723.7787, train_label_loss: 0.1279, \n"
     ]
    },
    {
     "name": "stdout",
     "output_type": "stream",
     "text": [
      "epoch: 4, [batch: 10537 / 13172], examples_per_second: 1727.6457, train_label_loss: 0.0001, \n"
     ]
    },
    {
     "name": "stdout",
     "output_type": "stream",
     "text": [
      "epoch: 4, [batch: 11854 / 13172], examples_per_second: 1728.4503, train_label_loss: 0.0001, \n"
     ]
    },
    {
     "name": "stdout",
     "output_type": "stream",
     "text": [
      "=============================================================\n",
      "epoch: 4, source_val_acc_label: 0.9858, target_val_acc_label: 0.2422, source_val_label_loss: 0.0624, target_val_label_loss: 2.3172, \n",
      "=============================================================\n"
     ]
    },
    {
     "name": "stdout",
     "output_type": "stream",
     "text": [
      "epoch: 5, [batch: 1 / 13165], examples_per_second: 1.4797, train_label_loss: 0.0028, \n"
     ]
    },
    {
     "name": "stdout",
     "output_type": "stream",
     "text": [
      "epoch: 5, [batch: 1317 / 13165], examples_per_second: 1726.9914, train_label_loss: 0.0004, \n"
     ]
    },
    {
     "name": "stdout",
     "output_type": "stream",
     "text": [
      "epoch: 5, [batch: 2633 / 13165], examples_per_second: 1728.4773, train_label_loss: 0.0580, \n"
     ]
    },
    {
     "name": "stdout",
     "output_type": "stream",
     "text": [
      "epoch: 5, [batch: 3950 / 13165], examples_per_second: 1995.2525, train_label_loss: 0.0006, \n"
     ]
    },
    {
     "name": "stdout",
     "output_type": "stream",
     "text": [
      "epoch: 5, [batch: 5266 / 13165], examples_per_second: 2162.3063, train_label_loss: 0.0000, \n"
     ]
    },
    {
     "name": "stdout",
     "output_type": "stream",
     "text": [
      "epoch: 5, [batch: 6583 / 13165], examples_per_second: 1743.0639, train_label_loss: 0.0003, \n"
     ]
    },
    {
     "name": "stdout",
     "output_type": "stream",
     "text": [
      "epoch: 5, [batch: 7899 / 13165], examples_per_second: 1740.7946, train_label_loss: 0.0996, \n"
     ]
    },
    {
     "name": "stdout",
     "output_type": "stream",
     "text": [
      "epoch: 5, [batch: 9215 / 13165], examples_per_second: 1743.4604, train_label_loss: 0.0003, \n"
     ]
    },
    {
     "name": "stdout",
     "output_type": "stream",
     "text": [
      "epoch: 5, [batch: 10532 / 13165], examples_per_second: 1742.3435, train_label_loss: 0.0028, \n"
     ]
    },
    {
     "name": "stdout",
     "output_type": "stream",
     "text": [
      "epoch: 5, [batch: 11848 / 13165], examples_per_second: 1742.6026, train_label_loss: 0.0007, \n"
     ]
    },
    {
     "name": "stdout",
     "output_type": "stream",
     "text": [
      "=============================================================\n",
      "epoch: 5, source_val_acc_label: 0.9868, target_val_acc_label: 0.2095, source_val_label_loss: 0.0600, target_val_label_loss: 2.5108, \n",
      "=============================================================\n"
     ]
    },
    {
     "name": "stdout",
     "output_type": "stream",
     "text": [
      "epoch: 6, [batch: 1 / 13167], examples_per_second: 1.4726, train_label_loss: 0.0001, \n"
     ]
    },
    {
     "name": "stdout",
     "output_type": "stream",
     "text": [
      "epoch: 6, [batch: 1317 / 13167], examples_per_second: 1741.5661, train_label_loss: 0.0012, \n"
     ]
    },
    {
     "name": "stdout",
     "output_type": "stream",
     "text": [
      "epoch: 6, [batch: 2634 / 13167], examples_per_second: 1742.4350, train_label_loss: 0.0002, \n"
     ]
    },
    {
     "name": "stdout",
     "output_type": "stream",
     "text": [
      "epoch: 6, [batch: 3950 / 13167], examples_per_second: 1951.9295, train_label_loss: 0.0000, \n"
     ]
    },
    {
     "name": "stdout",
     "output_type": "stream",
     "text": [
      "epoch: 6, [batch: 5267 / 13167], examples_per_second: 2221.9014, train_label_loss: 0.0001, \n"
     ]
    },
    {
     "name": "stdout",
     "output_type": "stream",
     "text": [
      "epoch: 6, [batch: 6584 / 13167], examples_per_second: 1742.5240, train_label_loss: 0.0000, \n"
     ]
    },
    {
     "name": "stdout",
     "output_type": "stream",
     "text": [
      "epoch: 6, [batch: 7900 / 13167], examples_per_second: 1742.9045, train_label_loss: 0.0003, \n"
     ]
    },
    {
     "name": "stdout",
     "output_type": "stream",
     "text": [
      "epoch: 6, [batch: 9217 / 13167], examples_per_second: 1741.4186, train_label_loss: 0.0024, \n"
     ]
    },
    {
     "name": "stdout",
     "output_type": "stream",
     "text": [
      "epoch: 6, [batch: 10533 / 13167], examples_per_second: 1744.7081, train_label_loss: 0.0131, \n"
     ]
    },
    {
     "name": "stdout",
     "output_type": "stream",
     "text": [
      "epoch: 6, [batch: 11850 / 13167], examples_per_second: 1741.1901, train_label_loss: 0.0002, \n"
     ]
    },
    {
     "name": "stdout",
     "output_type": "stream",
     "text": [
      "=============================================================\n",
      "epoch: 6, source_val_acc_label: 0.9868, target_val_acc_label: 0.2241, source_val_label_loss: 0.0592, target_val_label_loss: 2.5054, \n",
      "=============================================================\n"
     ]
    },
    {
     "name": "stdout",
     "output_type": "stream",
     "text": [
      "Patience (3) exhausted\n"
     ]
    }
   ],
   "source": [
    "###################################\n",
    "# train\n",
    "###################################\n",
    "jig = PTN_Train_Eval_Test_Jig(model, p.BEST_MODEL_PATH, p.device)\n",
    "\n",
    "jig.train(\n",
    "    train_iterable=datasets.source.processed.train,\n",
    "    source_val_iterable=datasets.source.processed.val,\n",
    "    target_val_iterable=datasets.target.processed.val,\n",
    "    num_epochs=p.n_epoch,\n",
    "    num_logs_per_epoch=p.NUM_LOGS_PER_EPOCH,\n",
    "    patience=p.patience,\n",
    "    optimizer=optimizer,\n",
    "    criteria_for_best=p.criteria_for_best,\n",
    ")"
   ]
  },
  {
   "cell_type": "code",
   "execution_count": 23,
   "id": "31e8fabf",
   "metadata": {
    "execution": {
     "iopub.execute_input": "2022-03-20T13:26:49.633233Z",
     "iopub.status.busy": "2022-03-20T13:26:49.632978Z",
     "iopub.status.idle": "2022-03-20T13:26:49.651567Z",
     "shell.execute_reply": "2022-03-20T13:26:49.651227Z"
    },
    "papermill": {
     "duration": 0.055525,
     "end_time": "2022-03-20T13:26:49.651634",
     "exception": false,
     "start_time": "2022-03-20T13:26:49.596109",
     "status": "completed"
    },
    "tags": []
   },
   "outputs": [],
   "source": [
    "total_experiment_time_secs = time.time() - start_time_secs"
   ]
  },
  {
   "cell_type": "code",
   "execution_count": 24,
   "id": "87b9595b",
   "metadata": {
    "execution": {
     "iopub.execute_input": "2022-03-20T13:26:49.712159Z",
     "iopub.status.busy": "2022-03-20T13:26:49.711766Z",
     "iopub.status.idle": "2022-03-20T13:30:37.836282Z",
     "shell.execute_reply": "2022-03-20T13:30:37.835830Z"
    },
    "papermill": {
     "duration": 228.157635,
     "end_time": "2022-03-20T13:30:37.836402",
     "exception": false,
     "start_time": "2022-03-20T13:26:49.678767",
     "status": "completed"
    },
    "tags": []
   },
   "outputs": [],
   "source": [
    "###################################\n",
    "# Evaluate the model\n",
    "###################################\n",
    "source_test_label_accuracy, source_test_label_loss = jig.test(datasets.source.processed.test)\n",
    "target_test_label_accuracy, target_test_label_loss = jig.test(datasets.target.processed.test)\n",
    "\n",
    "source_val_label_accuracy, source_val_label_loss = jig.test(datasets.source.processed.val)\n",
    "target_val_label_accuracy, target_val_label_loss = jig.test(datasets.target.processed.val)\n",
    "\n",
    "history = jig.get_history()\n",
    "\n",
    "total_epochs_trained = len(history[\"epoch_indices\"])\n",
    "\n",
    "val_dl = Iterable_Aggregator((datasets.source.original.val,datasets.target.original.val))\n",
    "\n",
    "confusion = ptn_confusion_by_domain_over_dataloader(model, p.device, val_dl)\n",
    "per_domain_accuracy = per_domain_accuracy_from_confusion(confusion)\n",
    "\n",
    "# Add a key to per_domain_accuracy for if it was a source domain\n",
    "for domain, accuracy in per_domain_accuracy.items():\n",
    "    per_domain_accuracy[domain] = {\n",
    "        \"accuracy\": accuracy,\n",
    "        \"source?\": domain in p.domains_source\n",
    "    }\n",
    "\n",
    "# Do an independent accuracy assesment JUST TO BE SURE!\n",
    "# _source_test_label_accuracy = independent_accuracy_assesment(model, datasets.source.processed.test, p.device)\n",
    "# _target_test_label_accuracy = independent_accuracy_assesment(model, datasets.target.processed.test, p.device)\n",
    "# _source_val_label_accuracy = independent_accuracy_assesment(model, datasets.source.processed.val, p.device)\n",
    "# _target_val_label_accuracy = independent_accuracy_assesment(model, datasets.target.processed.val, p.device)\n",
    "\n",
    "# assert(_source_test_label_accuracy == source_test_label_accuracy)\n",
    "# assert(_target_test_label_accuracy == target_test_label_accuracy)\n",
    "# assert(_source_val_label_accuracy == source_val_label_accuracy)\n",
    "# assert(_target_val_label_accuracy == target_val_label_accuracy)\n",
    "\n",
    "experiment = {\n",
    "    \"experiment_name\": p.experiment_name,\n",
    "    \"parameters\": dict(p),\n",
    "    \"results\": {\n",
    "        \"source_test_label_accuracy\": source_test_label_accuracy,\n",
    "        \"source_test_label_loss\": source_test_label_loss,\n",
    "        \"target_test_label_accuracy\": target_test_label_accuracy,\n",
    "        \"target_test_label_loss\": target_test_label_loss,\n",
    "        \"source_val_label_accuracy\": source_val_label_accuracy,\n",
    "        \"source_val_label_loss\": source_val_label_loss,\n",
    "        \"target_val_label_accuracy\": target_val_label_accuracy,\n",
    "        \"target_val_label_loss\": target_val_label_loss,\n",
    "        \"total_epochs_trained\": total_epochs_trained,\n",
    "        \"total_experiment_time_secs\": total_experiment_time_secs,\n",
    "        \"confusion\": confusion,\n",
    "        \"per_domain_accuracy\": per_domain_accuracy,\n",
    "    },\n",
    "    \"history\": history,\n",
    "    \"dataset_metrics\": get_dataset_metrics(datasets, \"ptn\"),\n",
    "}"
   ]
  },
  {
   "cell_type": "code",
   "execution_count": 25,
   "id": "54a21829",
   "metadata": {
    "execution": {
     "iopub.execute_input": "2022-03-20T13:30:37.898201Z",
     "iopub.status.busy": "2022-03-20T13:30:37.897792Z",
     "iopub.status.idle": "2022-03-20T13:30:38.017244Z",
     "shell.execute_reply": "2022-03-20T13:30:38.017469Z"
    },
    "papermill": {
     "duration": 0.148621,
     "end_time": "2022-03-20T13:30:38.017551",
     "exception": false,
     "start_time": "2022-03-20T13:30:37.868930",
     "status": "completed"
    },
    "tags": []
   },
   "outputs": [
    {
     "data": {
      "image/png": "[encoded data removed]",
      "text/plain": [
       "<Figure size 1080x504 with 1 Axes>"
      ]
     },
     "metadata": {
      "needs_background": "light"
     },
     "output_type": "display_data"
    }
   ],
   "source": [
    "ax = get_loss_curve(experiment)\n",
    "plt.show()"
   ]
  },
  {
   "cell_type": "code",
   "execution_count": 26,
   "id": "fd8a0f60",
   "metadata": {
    "execution": {
     "iopub.execute_input": "2022-03-20T13:30:38.079786Z",
     "iopub.status.busy": "2022-03-20T13:30:38.078808Z",
     "iopub.status.idle": "2022-03-20T13:30:38.223522Z",
     "shell.execute_reply": "2022-03-20T13:30:38.223256Z"
    },
    "papermill": {
     "duration": 0.175598,
     "end_time": "2022-03-20T13:30:38.223587",
     "exception": false,
     "start_time": "2022-03-20T13:30:38.047989",
     "status": "completed"
    },
    "tags": []
   },
   "outputs": [
    {
     "data": {
      "text/plain": [
       "<AxesSubplot:title={'center':'Results'}>"
      ]
     },
     "execution_count": 26,
     "metadata": {},
     "output_type": "execute_result"
    },
    {
     "data": {
      "image/png": "[encoded data removed]",
      "text/plain": [
       "<Figure size 1080x504 with 1 Axes>"
      ]
     },
     "metadata": {
      "needs_background": "light"
     },
     "output_type": "display_data"
    }
   ],
   "source": [
    "get_results_table(experiment)"
   ]
  },
  {
   "cell_type": "code",
   "execution_count": 27,
   "id": "cf8dc689",
   "metadata": {
    "execution": {
     "iopub.execute_input": "2022-03-20T13:30:38.286627Z",
     "iopub.status.busy": "2022-03-20T13:30:38.285511Z",
     "iopub.status.idle": "2022-03-20T13:30:38.452202Z",
     "shell.execute_reply": "2022-03-20T13:30:38.451968Z"
    },
    "papermill": {
     "duration": 0.198189,
     "end_time": "2022-03-20T13:30:38.452268",
     "exception": false,
     "start_time": "2022-03-20T13:30:38.254079",
     "status": "completed"
    },
    "tags": []
   },
   "outputs": [
    {
     "data": {
      "text/plain": [
       "<AxesSubplot:title={'center':'Per Domain Validation Accuracy'}, xlabel='domain'>"
      ]
     },
     "execution_count": 27,
     "metadata": {},
     "output_type": "execute_result"
    },
    {
     "data": {
      "image/png": "[encoded data removed]",
      "text/plain": [
       "<Figure size 1080x504 with 1 Axes>"
      ]
     },
     "metadata": {
      "needs_background": "light"
     },
     "output_type": "display_data"
    }
   ],
   "source": [
    "get_domain_accuracies(experiment)"
   ]
  },
  {
   "cell_type": "code",
   "execution_count": 28,
   "id": "a74ae082",
   "metadata": {
    "execution": {
     "iopub.execute_input": "2022-03-20T13:30:38.518034Z",
     "iopub.status.busy": "2022-03-20T13:30:38.517620Z",
     "iopub.status.idle": "2022-03-20T13:30:38.531203Z",
     "shell.execute_reply": "2022-03-20T13:30:38.530964Z"
    },
    "papermill": {
     "duration": 0.047086,
     "end_time": "2022-03-20T13:30:38.531279",
     "exception": false,
     "start_time": "2022-03-20T13:30:38.484193",
     "status": "completed"
    },
    "tags": []
   },
   "outputs": [
    {
     "name": "stdout",
     "output_type": "stream",
     "text": [
      "Source Test Label Accuracy: 0.9830511332973556 Target Test Label Accuracy: 0.2691731770833333\n",
      "Source Val Label Accuracy: 0.9844867914144194 Target Val Label Accuracy: 0.2662434895833333\n"
     ]
    }
   ],
   "source": [
    "print(\"Source Test Label Accuracy:\", experiment[\"results\"][\"source_test_label_accuracy\"], \"Target Test Label Accuracy:\", experiment[\"results\"][\"target_test_label_accuracy\"])\n",
    "print(\"Source Val Label Accuracy:\", experiment[\"results\"][\"source_val_label_accuracy\"], \"Target Val Label Accuracy:\", experiment[\"results\"][\"target_val_label_accuracy\"])"
   ]
  },
  {
   "cell_type": "code",
   "execution_count": 29,
   "id": "dacca602",
   "metadata": {
    "execution": {
     "iopub.execute_input": "2022-03-20T13:30:38.594110Z",
     "iopub.status.busy": "2022-03-20T13:30:38.593702Z",
     "iopub.status.idle": "2022-03-20T13:30:38.608302Z",
     "shell.execute_reply": "2022-03-20T13:30:38.608517Z"
    },
    "papermill": {
     "duration": 0.046927,
     "end_time": "2022-03-20T13:30:38.608596",
     "exception": false,
     "start_time": "2022-03-20T13:30:38.561669",
     "status": "completed"
    },
    "tags": [
     "experiment_json"
    ]
   },
   "outputs": [
    {
     "data": {
      "text/plain": [
       "'{\"experiment_name\": \"tl_3Av2:cores+wisig -> oracle.run1.framed\", \"parameters\": {\"experiment_name\": \"tl_3Av2:cores+wisig -> oracle.run1.framed\", \"device\": \"cuda\", \"lr\": 0.0001, \"x_shape\": [2, 200], \"n_shot\": 3, \"n_query\": 2, \"train_k_factor\": 3, \"val_k_factor\": 2, \"test_k_factor\": 2, \"torch_default_dtype\": \"torch.float32\", \"n_epoch\": 50, \"patience\": 3, \"criteria_for_best\": \"target_accuracy\", \"x_net\": [{\"class\": \"nnReshape\", \"kargs\": {\"shape\": [-1, 1, 2, 200]}}, {\"class\": \"Conv2d\", \"kargs\": {\"in_channels\": 1, \"out_channels\": 256, \"kernel_size\": [1, 7], \"bias\": false, \"padding\": [0, 3]}}, {\"class\": \"ReLU\", \"kargs\": {\"inplace\": true}}, {\"class\": \"BatchNorm2d\", \"kargs\": {\"num_features\": 256}}, {\"class\": \"Conv2d\", \"kargs\": {\"in_channels\": 256, \"out_channels\": 80, \"kernel_size\": [2, 7], \"bias\": true, \"padding\": [0, 3]}}, {\"class\": \"ReLU\", \"kargs\": {\"inplace\": true}}, {\"class\": \"BatchNorm2d\", \"kargs\": {\"num_features\": 80}}, {\"class\": \"Flatten\", \"kargs\": {}}, {\"class\": \"Linear\", \"kargs\": {\"in_features\": 16000, \"out_features\": 256}}, {\"class\": \"ReLU\", \"kargs\": {\"inplace\": true}}, {\"class\": \"BatchNorm1d\", \"kargs\": {\"num_features\": 256}}, {\"class\": \"Linear\", \"kargs\": {\"in_features\": 256, \"out_features\": 256}}], \"NUM_LOGS_PER_EPOCH\": 10, \"BEST_MODEL_PATH\": \"./best_model.pth\", \"n_way\": 16, \"datasets\": [{\"labels\": [\"1-10.\", \"1-11.\", \"1-15.\", \"1-16.\", \"1-17.\", \"1-18.\", \"1-19.\", \"10-4.\", \"10-7.\", \"11-1.\", \"11-14.\", \"11-17.\", \"11-20.\", \"11-7.\", \"13-20.\", \"13-8.\", \"14-10.\", \"14-11.\", \"14-14.\", \"14-7.\", \"15-1.\", \"15-20.\", \"16-1.\", \"16-16.\", \"17-10.\", \"17-11.\", \"17-2.\", \"19-1.\", \"19-16.\", \"19-19.\", \"19-20.\", \"19-3.\", \"2-10.\", \"2-11.\", \"2-17.\", \"2-18.\", \"2-20.\", \"2-3.\", \"2-4.\", \"2-5.\", \"2-6.\", \"2-7.\", \"2-8.\", \"3-13.\", \"3-18.\", \"3-3.\", \"4-1.\", \"4-10.\", \"4-11.\", \"4-19.\", \"5-5.\", \"6-15.\", \"7-10.\", \"7-14.\", \"8-18.\", \"8-20.\", \"8-3.\", \"8-8.\"], \"domains\": [1, 2, 3, 4, 5], \"num_examples_per_domain_per_label\": -1, \"pickle_path\": \"/mnt/wd500GB/CSC500/csc500-main/datasets/cores.stratified_ds.2022A.pkl\", \"source_or_target_dataset\": \"source\", \"x_transforms\": [\"unit_power\", \"take_200\"], \"episode_transforms\": [], \"domain_prefix\": \"C_\"}, {\"labels\": [\"1-10\", \"1-12\", \"1-14\", \"1-16\", \"1-18\", \"1-19\", \"1-8\", \"10-11\", \"10-17\", \"10-4\", \"10-7\", \"11-1\", \"11-10\", \"11-19\", \"11-20\", \"11-4\", \"11-7\", \"12-19\", \"12-20\", \"12-7\", \"13-14\", \"13-18\", \"13-19\", \"13-20\", \"13-3\", \"13-7\", \"14-10\", \"14-11\", \"14-12\", \"14-13\", \"14-14\", \"14-19\", \"14-20\", \"14-7\", \"14-8\", \"14-9\", \"15-1\", \"15-19\", \"15-6\", \"16-1\", \"16-16\", \"16-19\", \"16-20\", \"17-10\", \"17-11\", \"18-1\", \"18-10\", \"18-11\", \"18-12\", \"18-13\", \"18-14\", \"18-15\", \"18-16\", \"18-17\", \"18-19\", \"18-2\", \"18-20\", \"18-4\", \"18-5\", \"18-7\", \"18-8\", \"18-9\", \"19-1\", \"19-10\", \"19-11\", \"19-12\", \"19-13\", \"19-14\", \"19-15\", \"19-19\", \"19-2\", \"19-20\", \"19-3\", \"19-4\", \"19-6\", \"19-7\", \"19-8\", \"19-9\", \"2-1\", \"2-13\", \"2-15\", \"2-3\", \"2-4\", \"2-5\", \"2-6\", \"2-7\", \"2-8\", \"20-1\", \"20-12\", \"20-14\", \"20-15\", \"20-16\", \"20-18\", \"20-19\", \"20-20\", \"20-3\", \"20-4\", \"20-5\", \"20-7\", \"20-8\", \"3-1\", \"3-13\", \"3-18\", \"3-2\", \"3-8\", \"4-1\", \"4-10\", \"4-11\", \"5-1\", \"5-5\", \"6-1\", \"6-15\", \"6-6\", \"7-10\", \"7-11\", \"7-12\", \"7-13\", \"7-14\", \"7-7\", \"7-8\", \"7-9\", \"8-1\", \"8-13\", \"8-14\", \"8-18\", \"8-20\", \"8-3\", \"8-8\", \"9-1\", \"9-7\"], \"domains\": [1, 2, 3, 4], \"num_examples_per_domain_per_label\": -1, \"pickle_path\": \"/mnt/wd500GB/CSC500/csc500-main/datasets/wisig.node3-19.stratified_ds.2022A.pkl\", \"source_or_target_dataset\": \"source\", \"x_transforms\": [\"unit_power\", \"take_200\"], \"episode_transforms\": [], \"domain_prefix\": \"W_\"}, {\"labels\": [\"3123D52\", \"3123D65\", \"3123D79\", \"3123D80\", \"3123D54\", \"3123D70\", \"3123D7B\", \"3123D89\", \"3123D58\", \"3123D76\", \"3123D7D\", \"3123EFE\", \"3123D64\", \"3123D78\", \"3123D7E\", \"3124E4A\"], \"domains\": [32, 38, 8, 44, 14, 50, 20, 26], \"num_examples_per_domain_per_label\": 2000, \"pickle_path\": \"/mnt/wd500GB/CSC500/csc500-main/datasets/oracle.Run1_framed_2000Examples_stratified_ds.2022A.pkl\", \"source_or_target_dataset\": \"target\", \"x_transforms\": [\"unit_power\", \"take_200\", \"resample_20Msps_to_25Msps\"], \"episode_transforms\": [], \"domain_prefix\": \"O_\"}], \"seed\": 154325, \"dataset_seed\": 154325, \"domains_source\": [\"C_1\", \"C_2\", \"C_3\", \"C_4\", \"C_5\", \"W_1\", \"W_2\", \"W_3\", \"W_4\"], \"domains_target\": [\"O_32\", \"O_38\", \"O_8\", \"O_44\", \"O_14\", \"O_50\", \"O_20\", \"O_26\"]}, \"results\": {\"source_test_label_accuracy\": 0.9830511332973556, \"source_test_label_loss\": 0.07699153572320938, \"target_test_label_accuracy\": 0.2691731770833333, \"target_test_label_loss\": 2.226213216781616, \"source_val_label_accuracy\": 0.9844867914144194, \"source_val_label_loss\": 0.07006122916936874, \"target_val_label_accuracy\": 0.2662434895833333, \"target_val_label_loss\": 2.224036693572998, \"total_epochs_trained\": 6, \"total_experiment_time_secs\": 3720.409851551056, \"confusion\": {\"C_2\": {\"21\": {\"21\": 120}, \"4\": {\"4\": 130}, \"6\": {\"6\": 124}, \"10\": {\"10\": 112}, \"33\": {\"33\": 28}, \"56\": {\"56\": 122}, \"20\": {\"20\": 132}, \"24\": {\"24\": 96}, \"45\": {\"45\": 128}, \"32\": {\"32\": 28}, \"27\": {\"27\": 148}, \"53\": {\"53\": 136}, \"8\": {\"8\": 160}, \"54\": {\"54\": 108}, \"50\": {\"50\": 134}, \"44\": {\"44\": 100}, \"5\": {\"5\": 120}, \"38\": {\"38\": 20}, \"19\": {\"19\": 132}, \"1\": {\"1\": 112}, \"30\": {\"30\": 144}, \"15\": {\"15\": 144}, \"23\": {\"23\": 146}, \"35\": {\"35\": 32}, \"22\": {\"22\": 128}, \"40\": {\"40\": 140}, \"46\": {\"46\": 126}, \"3\": {\"3\": 92}, \"48\": {\"48\": 148}, \"52\": {\"52\": 124}, \"2\": {\"2\": 32}, \"26\": {\"26\": 24}, \"17\": {\"17\": 104}, \"55\": {\"55\": 144}, \"51\": {\"51\": 122}, \"42\": {\"42\": 36}, \"41\": {\"41\": 20}, \"31\": {\"31\": 28}, \"16\": {\"16\": 138}, \"36\": {\"36\": 116}, \"49\": {\"49\": 24}, \"0\": {\"0\": 48}, \"18\": {\"18\": 48}, \"25\": {\"25\": 146}, \"9\": {\"9\": 122}, \"47\": {\"47\": 132}, \"7\": {\"7\": 36}, \"37\": {\"37\": 36}, \"13\": {\"13\": 116}, \"14\": {\"14\": 23, \"42\": 1}, \"34\": {\"34\": 28}, \"57\": {\"57\": 140}, \"11\": {\"11\": 138}, \"39\": {\"39\": 28}, \"12\": {\"12\": 92}, \"28\": {\"28\": 28}, \"29\": {\"29\": 128}, \"43\": {\"43\": 140}}, \"W_2\": {\"56\": {\"56\": 12}, \"12\": {\"12\": 84, \"94\": 2, \"78\": 1, \"70\": 1}, \"15\": {\"15\": 114, \"43\": 1, \"70\": 1}, \"26\": {\"26\": 129, \"24\": 1, \"71\": 1, \"84\": 1}, \"82\": {\"82\": 36}, \"9\": {\"9\": 32}, \"49\": {\"49\": 22, \"29\": 1, \"128\": 1}, \"55\": {\"55\": 16}, \"102\": {\"102\": 124}, \"85\": {\"85\": 32}, \"73\": {\"73\": 28}, \"47\": {\"47\": 9, \"15\": 1, \"84\": 1, \"119\": 1}, \"20\": {\"20\": 15, \"119\": 1}, \"117\": {\"117\": 112, \"87\": 1, \"21\": 2, \"27\": 1}, \"122\": {\"122\": 131, \"87\": 1, \"26\": 1, \"71\": 1, \"70\": 1, \"5\": 1, \"101\": 1, \"39\": 1, \"27\": 2}, \"113\": {\"113\": 70, \"90\": 1, \"14\": 1}, \"87\": {\"87\": 105, \"56\": 1, \"71\": 1, \"69\": 2, \"43\": 1, \"21\": 1, \"98\": 1}, \"21\": {\"21\": 45, \"26\": 2, \"10\": 1}, \"106\": {\"106\": 115, \"12\": 1, \"15\": 1, \"62\": 1, \"21\": 1, \"43\": 1}, \"3\": {\"3\": 132, \"18\": 1, \"7\": 1, \"26\": 1, \"24\": 1}, \"126\": {\"126\": 120}, \"41\": {\"41\": 19, \"62\": 1}, \"76\": {\"76\": 16}, \"60\": {\"60\": 27, \"70\": 1}, \"94\": {\"94\": 60, \"88\": 1, \"87\": 1, \"61\": 1, \"24\": 1}, \"50\": {\"50\": 16}, \"97\": {\"97\": 20}, \"115\": {\"115\": 12}, \"38\": {\"38\": 16}, \"43\": {\"43\": 118, \"94\": 1, \"106\": 1, \"113\": 1, \"5\": 1, \"78\": 1, \"84\": 1}, \"67\": {\"67\": 16}, \"18\": {\"18\": 121, \"107\": 1, \"36\": 1, \"10\": 1, \"94\": 2, \"0\": 1, \"43\": 1}, \"23\": {\"23\": 44}, \"63\": {\"63\": 20}, \"127\": {\"127\": 117, \"10\": 1, \"111\": 2, \"70\": 1, \"24\": 1, \"26\": 1, \"108\": 1}, \"72\": {\"72\": 26, \"77\": 1, \"15\": 1}, \"128\": {\"128\": 21, \"3\": 1, \"49\": 1, \"87\": 1}, \"7\": {\"7\": 124, \"88\": 1, \"26\": 1, \"127\": 1, \"33\": 1}, \"108\": {\"108\": 134}, \"16\": {\"16\": 101, \"70\": 2, \"15\": 1, \"39\": 1, \"5\": 1, \"93\": 1, \"22\": 1, \"97\": 1, \"84\": 1, \"31\": 1, \"77\": 1, \"43\": 1, \"21\": 1}, \"29\": {\"29\": 32}, \"61\": {\"61\": 20}, \"104\": {\"104\": 20}, \"120\": {\"120\": 20}, \"124\": {\"124\": 123, \"6\": 1}, \"34\": {\"115\": 1, \"34\": 30, \"41\": 1}, \"84\": {\"84\": 89, \"21\": 1, \"43\": 1, \"98\": 1}, \"103\": {\"103\": 16}, \"100\": {\"100\": 16}, \"40\": {\"40\": 130, \"93\": 2, \"33\": 1, \"43\": 1, \"69\": 1, \"21\": 1, \"94\": 1, \"39\": 1, \"26\": 1, \"36\": 1}, \"35\": {\"35\": 12}, \"96\": {\"96\": 20}, \"101\": {\"101\": 119, \"87\": 1}, \"71\": {\"71\": 95, \"107\": 1, \"0\": 1, \"62\": 2, \"105\": 1}, \"81\": {\"81\": 22, \"109\": 1, \"77\": 1}, \"74\": {\"74\": 14, \"36\": 1, \"6\": 1}, \"119\": {\"119\": 19, \"93\": 1}, \"5\": {\"5\": 108, \"106\": 1, \"26\": 1, \"24\": 1, \"107\": 1}, \"68\": {\"68\": 16}, \"37\": {\"13\": 1, \"37\": 15}, \"58\": {\"58\": 20}, \"109\": {\"115\": 1, \"109\": 92, \"78\": 1, \"24\": 1, \"126\": 1, \"94\": 2, \"21\": 1, \"0\": 1}, \"107\": {\"107\": 56, \"21\": 1, \"36\": 1, \"3\": 1, \"110\": 4, \"113\": 1}, \"13\": {\"13\": 13, \"94\": 1, \"9\": 1, \"87\": 1}, \"52\": {\"52\": 19, \"124\": 1}, \"77\": {\"77\": 15, \"81\": 1}, \"95\": {\"95\": 36}, \"44\": {\"44\": 100}, \"88\": {\"88\": 118, \"3\": 1, \"70\": 1, \"109\": 1, \"126\": 1}, \"91\": {\"77\": 3, \"91\": 22, \"29\": 2, \"107\": 1}, \"93\": {\"93\": 136, \"107\": 1, \"36\": 1}, \"8\": {\"8\": 121, \"30\": 1, \"18\": 1, \"94\": 1}, \"1\": {\"1\": 110, \"24\": 1, \"5\": 1, \"26\": 1, \"36\": 1}, \"45\": {\"45\": 14, \"26\": 1, \"39\": 1}, \"111\": {\"111\": 123, \"62\": 1, \"127\": 1, \"78\": 1}, \"116\": {\"116\": 28}, \"48\": {\"48\": 20}, \"57\": {\"57\": 18, \"68\": 1, \"70\": 1}, \"10\": {\"10\": 58, \"24\": 1, \"26\": 1}, \"129\": {\"129\": 32}, \"98\": {\"98\": 115, \"26\": 1, \"24\": 1, \"94\": 1}, \"65\": {\"65\": 19, \"10\": 1}, \"6\": {\"6\": 31, \"61\": 1}, \"75\": {\"75\": 15, \"80\": 1}, \"14\": {\"14\": 46, \"45\": 1, \"78\": 1}, \"30\": {\"30\": 106, \"54\": 1, \"15\": 1, \"40\": 1, \"3\": 1, \"89\": 1, \"59\": 1}, \"83\": {\"83\": 40}, \"69\": {\"69\": 124, \"26\": 1, \"24\": 1, \"126\": 1, \"114\": 1}, \"125\": {\"125\": 145, \"98\": 1}, \"31\": {\"31\": 20}, \"118\": {\"31\": 1, \"118\": 66, \"43\": 1}, \"53\": {\"53\": 16}, \"54\": {\"54\": 20}, \"92\": {\"92\": 28}, \"19\": {\"19\": 28}, \"27\": {\"27\": 61, \"15\": 1, \"36\": 3, \"77\": 2, \"10\": 1}, \"17\": {\"17\": 14, \"26\": 1, \"43\": 1}, \"4\": {\"4\": 87, \"16\": 1}, \"36\": {\"36\": 120, \"27\": 1, \"94\": 1, \"44\": 1, \"3\": 1, \"24\": 1, \"43\": 2, \"30\": 1}, \"90\": {\"90\": 134, \"113\": 1, \"18\": 1}, \"64\": {\"64\": 15, \"24\": 1}, \"66\": {\"66\": 19, \"86\": 1}, \"46\": {\"46\": 14, \"16\": 1, \"24\": 1}, \"86\": {\"86\": 32}, \"114\": {\"114\": 108, \"0\": 1, \"87\": 1}, \"32\": {\"32\": 33, \"75\": 1, \"34\": 1, \"88\": 1}, \"78\": {\"78\": 43, \"43\": 3, \"4\": 1, \"21\": 1}, \"33\": {\"33\": 135, \"93\": 1, \"6\": 1, \"84\": 1}, \"70\": {\"70\": 114, \"90\": 1, \"87\": 1, \"88\": 1, \"24\": 2, \"122\": 1, \"26\": 1, \"69\": 1, \"78\": 1, \"15\": 1}, \"0\": {\"0\": 112, \"117\": 1, \"18\": 1, \"71\": 1, \"90\": 1}, \"110\": {\"110\": 38, \"87\": 1, \"102\": 1}, \"2\": {\"2\": 29, \"29\": 2, \"85\": 1}, \"28\": {\"28\": 18, \"62\": 1, \"109\": 1}, \"51\": {\"51\": 20}, \"79\": {\"79\": 16}, \"42\": {\"42\": 28}, \"112\": {\"112\": 15, \"70\": 1}, \"89\": {\"89\": 34, \"92\": 2}, \"59\": {\"59\": 16}, \"105\": {\"105\": 126, \"24\": 1, \"62\": 1}, \"121\": {\"38\": 2, \"121\": 30, \"65\": 2, \"22\": 1, \"113\": 1}, \"11\": {\"11\": 75, \"24\": 2, \"49\": 1, \"26\": 1, \"94\": 1}, \"99\": {\"99\": 30, \"91\": 1, \"33\": 1}, \"25\": {\"25\": 16}, \"62\": {\"62\": 124, \"94\": 1, \"78\": 1, \"24\": 1, \"84\": 1}, \"123\": {\"123\": 16}, \"24\": {\"24\": 108, \"12\": 1, \"70\": 1, \"30\": 1, \"36\": 1}, \"80\": {\"80\": 16}, \"39\": {\"39\": 94, \"117\": 1, \"0\": 1, \"70\": 1, \"93\": 1, \"26\": 1, \"33\": 1}, \"22\": {\"22\": 20}}, \"C_5\": {\"12\": {\"12\": 96}, \"8\": {\"8\": 142}, \"29\": {\"29\": 132}, \"57\": {\"57\": 126}, \"38\": {\"38\": 32}, \"23\": {\"23\": 124}, \"56\": {\"56\": 138}, \"49\": {\"49\": 36}, \"4\": {\"4\": 100}, \"48\": {\"48\": 136}, \"21\": {\"21\": 144}, \"30\": {\"30\": 128}, \"1\": {\"1\": 148}, \"34\": {\"34\": 36}, \"35\": {\"35\": 36}, \"55\": {\"55\": 152}, \"5\": {\"5\": 122}, \"52\": {\"52\": 126}, \"6\": {\"6\": 128}, \"36\": {\"36\": 92}, \"41\": {\"41\": 28}, \"3\": {\"3\": 100}, \"28\": {\"28\": 32}, \"18\": {\"18\": 64}, \"25\": {\"25\": 136}, \"47\": {\"47\": 100}, \"13\": {\"13\": 160}, \"11\": {\"11\": 144}, \"53\": {\"53\": 144}, \"33\": {\"33\": 32}, \"46\": {\"46\": 148}, \"50\": {\"50\": 148}, \"10\": {\"10\": 68}, \"15\": {\"15\": 138}, \"44\": {\"44\": 140}, \"2\": {\"2\": 28}, \"7\": {\"7\": 32}, \"43\": {\"43\": 138}, \"32\": {\"32\": 32}, \"0\": {\"0\": 124}, \"39\": {\"39\": 20}, \"26\": {\"26\": 24}, \"27\": {\"27\": 112}, \"54\": {\"54\": 112}, \"17\": {\"17\": 116}, \"14\": {\"14\": 41, \"31\": 2, \"39\": 1}, \"16\": {\"16\": 148}, \"9\": {\"9\": 147, \"6\": 1}, \"19\": {\"19\": 152}, \"20\": {\"20\": 138}, \"37\": {\"37\": 24}, \"24\": {\"24\": 80}, \"40\": {\"40\": 122}, \"45\": {\"45\": 123, \"6\": 1}, \"22\": {\"22\": 28}, \"42\": {\"42\": 38, \"56\": 2}, \"51\": {\"51\": 118}, \"31\": {\"31\": 36}}, \"W_4\": {\"32\": {\"32\": 21, \"53\": 1, \"86\": 1, \"57\": 1, \"66\": 1, \"82\": 1, \"9\": 2}, \"22\": {\"22\": 15, \"91\": 1}, \"69\": {\"69\": 113, \"23\": 1, \"6\": 1, \"113\": 1, \"30\": 1, \"70\": 1, \"94\": 1, \"24\": 1}, \"65\": {\"65\": 12}, \"91\": {\"91\": 24}, \"63\": {\"63\": 16}, \"127\": {\"87\": 1, \"127\": 105, \"3\": 1, \"5\": 1}, \"11\": {\"11\": 136, \"36\": 1, \"0\": 1}, \"12\": {\"12\": 94, \"24\": 3, \"122\": 1, \"118\": 1, \"87\": 1}, \"111\": {\"111\": 126, \"95\": 1, \"126\": 1}, \"53\": {\"53\": 16}, \"73\": {\"73\": 22, \"53\": 1, \"80\": 1}, \"3\": {\"3\": 134, \"21\": 1, \"10\": 1}, \"83\": {\"83\": 27, \"39\": 1}, \"88\": {\"88\": 124, \"70\": 4, \"101\": 1, \"36\": 1}, \"87\": {\"87\": 130, \"108\": 1, \"105\": 1}, \"2\": {\"2\": 26, \"126\": 2}, \"86\": {\"86\": 28}, \"16\": {\"16\": 117, \"21\": 1, \"118\": 1, \"129\": 1, \"3\": 1, \"24\": 1}, \"21\": {\"21\": 32, \"10\": 1, \"85\": 1, \"82\": 1, \"62\": 1, \"50\": 1, \"97\": 1, \"51\": 1, \"44\": 1}, \"96\": {\"96\": 19, \"78\": 1}, \"100\": {\"100\": 20}, \"7\": {\"7\": 118, \"108\": 1, \"43\": 1}, \"75\": {\"75\": 15, \"54\": 1}, \"10\": {\"10\": 118, \"111\": 1, \"5\": 1, \"24\": 1, \"27\": 1, \"126\": 1, \"70\": 1}, \"43\": {\"43\": 115, \"78\": 1, \"22\": 1, \"87\": 1, \"3\": 1, \"24\": 1}, \"92\": {\"92\": 27, \"115\": 1}, \"62\": {\"62\": 54, \"5\": 1, \"30\": 1, \"43\": 1, \"101\": 1, \"69\": 2}, \"31\": {\"31\": 16}, \"0\": {\"0\": 111, \"122\": 1, \"101\": 2}, \"45\": {\"45\": 16}, \"85\": {\"85\": 27, \"88\": 1}, \"119\": {\"119\": 16}, \"46\": {\"46\": 20}, \"71\": {\"71\": 101, \"3\": 1, \"105\": 1, \"26\": 1}, \"8\": {\"8\": 130, \"5\": 1, \"33\": 1, \"36\": 1, \"126\": 1}, \"118\": {\"118\": 106, \"84\": 1, \"39\": 1, \"3\": 1, \"70\": 1, \"15\": 1, \"108\": 1}, \"1\": {\"1\": 99, \"85\": 1, \"94\": 1, \"126\": 1, \"43\": 1, \"122\": 1, \"21\": 1, \"110\": 1, \"15\": 1, \"12\": 1}, \"38\": {\"38\": 15, \"26\": 1}, \"30\": {\"30\": 72, \"14\": 1, \"51\": 1, \"87\": 1, \"126\": 1}, \"66\": {\"66\": 16}, \"9\": {\"9\": 28}, \"5\": {\"5\": 135, \"97\": 1}, \"24\": {\"24\": 112, \"30\": 1, \"43\": 1, \"39\": 1, \"36\": 3, \"10\": 2}, \"97\": {\"97\": 19, \"25\": 1}, \"67\": {\"67\": 9, \"107\": 1, \"48\": 1, \"23\": 2, \"123\": 2, \"113\": 1}, \"19\": {\"19\": 28}, \"77\": {\"77\": 12}, \"26\": {\"26\": 116, \"78\": 1, \"43\": 1}, \"115\": {\"26\": 1, \"115\": 14, \"86\": 1}, \"50\": {\"50\": 16}, \"120\": {\"120\": 20}, \"102\": {\"102\": 127, \"94\": 1}, \"29\": {\"29\": 32}, \"44\": {\"44\": 64}, \"124\": {\"124\": 117, \"118\": 1}, \"78\": {\"78\": 29, \"17\": 1, \"21\": 1, \"43\": 2, \"84\": 1, \"111\": 2}, \"104\": {\"104\": 16}, \"105\": {\"105\": 93, \"110\": 1, \"87\": 3, \"7\": 1, \"3\": 1, \"36\": 1}, \"28\": {\"28\": 20}, \"37\": {\"37\": 16}, \"107\": {\"107\": 128, \"26\": 1, \"5\": 1, \"39\": 1, \"113\": 1}, \"6\": {\"6\": 23, \"10\": 1}, \"17\": {\"104\": 2, \"17\": 18}, \"57\": {\"57\": 16}, \"121\": {\"121\": 23, \"28\": 1, \"74\": 1, \"13\": 1, \"72\": 1, \"128\": 1, \"21\": 1, \"7\": 1, \"92\": 1, \"39\": 1}, \"58\": {\"58\": 16}, \"64\": {\"64\": 16}, \"82\": {\"82\": 32}, \"39\": {\"39\": 99, \"43\": 1}, \"110\": {\"110\": 114, \"129\": 1, \"61\": 1, \"24\": 1, \"39\": 1, \"21\": 1, \"108\": 1, \"23\": 1, \"0\": 1, \"8\": 1, \"88\": 1}, \"114\": {\"114\": 127, \"26\": 1}, \"20\": {\"20\": 16}, \"117\": {\"117\": 114}, \"18\": {\"18\": 119, \"36\": 1}, \"99\": {\"99\": 40}, \"23\": {\"23\": 9, \"123\": 2, \"122\": 1, \"39\": 2, \"51\": 1, \"70\": 1}, \"128\": {\"128\": 20, \"46\": 1, \"7\": 1, \"101\": 1, \"118\": 1}, \"60\": {\"60\": 31, \"129\": 1}, \"70\": {\"88\": 2, \"70\": 116, \"110\": 1, \"111\": 1}, \"122\": {\"122\": 80, \"126\": 2, \"5\": 1, \"114\": 1}, \"101\": {\"101\": 128, \"78\": 1, \"10\": 1, \"105\": 1, \"0\": 1}, \"33\": {\"33\": 129, \"66\": 1, \"86\": 1, \"124\": 1}, \"40\": {\"40\": 124, \"43\": 1, \"33\": 1, \"93\": 1, \"94\": 1, \"70\": 1, \"105\": 1}, \"41\": {\"41\": 14, \"23\": 1, \"72\": 1}, \"59\": {\"59\": 12}, \"4\": {\"4\": 96, \"53\": 1, \"68\": 1, \"72\": 1, \"60\": 1, \"62\": 1, \"26\": 1, \"3\": 1, \"101\": 1}, \"112\": {\"112\": 15, \"67\": 1}, \"36\": {\"36\": 123, \"24\": 3, \"1\": 1, \"26\": 1}, \"48\": {\"48\": 13, \"60\": 2, \"21\": 1}, \"126\": {\"10\": 2, \"126\": 113, \"101\": 1}, \"125\": {\"125\": 119, \"7\": 1, \"98\": 1, \"26\": 1}, \"84\": {\"84\": 117, \"21\": 1, \"36\": 1, \"39\": 1, \"3\": 1, \"126\": 1, \"106\": 1, \"5\": 2, \"0\": 1, \"101\": 2}, \"80\": {\"80\": 16}, \"49\": {\"49\": 32}, \"47\": {\"112\": 1, \"47\": 11}, \"95\": {\"95\": 32}, \"54\": {\"54\": 16}, \"25\": {\"25\": 16}, \"116\": {\"116\": 25, \"115\": 1, \"33\": 2}, \"74\": {\"74\": 16}, \"35\": {\"35\": 12}, \"15\": {\"15\": 124, \"30\": 1, \"0\": 1, \"105\": 1, \"3\": 1}, \"108\": {\"108\": 82, \"71\": 1, \"94\": 1, \"88\": 2, \"93\": 3, \"126\": 2, \"51\": 1}, \"34\": {\"34\": 28, \"6\": 2, \"72\": 2}, \"81\": {\"81\": 35, \"44\": 1}, \"93\": {\"93\": 128}, \"55\": {\"55\": 16}, \"27\": {\"27\": 95, \"122\": 1, \"93\": 2, \"108\": 1, \"15\": 1}, \"109\": {\"109\": 107, \"24\": 1, \"90\": 1, \"108\": 1}, \"106\": {\"106\": 108, \"94\": 1, \"113\": 1, \"10\": 1, \"126\": 2, \"43\": 1, \"24\": 2}, \"68\": {\"68\": 15, \"108\": 1}, \"76\": {\"36\": 1, \"76\": 14, \"117\": 1}, \"103\": {\"103\": 15, \"8\": 1}, \"42\": {\"42\": 26, \"103\": 1, \"124\": 1}, \"129\": {\"129\": 28}, \"94\": {\"94\": 82, \"39\": 1, \"3\": 2, \"21\": 1, \"110\": 1, \"36\": 1}, \"123\": {\"123\": 16}, \"61\": {\"61\": 16}, \"51\": {\"53\": 1, \"51\": 7, \"129\": 1, \"105\": 1, \"49\": 1, \"111\": 1, \"58\": 1, \"21\": 1, \"47\": 2}, \"98\": {\"98\": 114, \"85\": 1, \"121\": 1, \"90\": 2}, \"56\": {\"56\": 11, \"4\": 1}, \"14\": {\"14\": 109, \"3\": 1, \"23\": 1, \"10\": 1}, \"90\": {\"90\": 138}, \"13\": {\"13\": 16}, \"89\": {\"89\": 31, \"12\": 1}, \"52\": {\"52\": 19, \"61\": 1}, \"72\": {\"72\": 32}, \"79\": {\"79\": 16}, \"113\": {\"113\": 123, \"26\": 1, \"84\": 1, \"39\": 1}}, \"C_1\": {\"27\": {\"27\": 142}, \"2\": {\"2\": 36}, \"33\": {\"33\": 32}, \"45\": {\"45\": 156}, \"38\": {\"38\": 24}, \"4\": {\"4\": 132}, \"31\": {\"31\": 28}, \"55\": {\"55\": 140}, \"32\": {\"32\": 32}, \"57\": {\"57\": 140}, \"14\": {\"14\": 24}, \"16\": {\"16\": 140}, \"34\": {\"34\": 24}, \"56\": {\"56\": 126}, \"24\": {\"24\": 108}, \"30\": {\"30\": 112}, \"17\": {\"17\": 64}, \"13\": {\"13\": 138}, \"39\": {\"39\": 28}, \"50\": {\"50\": 146}, \"20\": {\"20\": 140}, \"41\": {\"41\": 24}, \"53\": {\"53\": 126}, \"48\": {\"48\": 142}, \"36\": {\"36\": 64}, \"8\": {\"8\": 140}, \"15\": {\"15\": 132}, \"40\": {\"40\": 156}, \"37\": {\"37\": 32}, \"21\": {\"21\": 120}, \"35\": {\"35\": 36}, \"49\": {\"49\": 32}, \"26\": {\"26\": 24}, \"28\": {\"28\": 28}, \"12\": {\"12\": 116}, \"5\": {\"5\": 152}, \"29\": {\"29\": 140}, \"47\": {\"47\": 140}, \"10\": {\"10\": 96}, \"18\": {\"18\": 71, \"50\": 1}, \"9\": {\"9\": 126}, \"3\": {\"3\": 140}, \"52\": {\"52\": 132}, \"25\": {\"25\": 136}, \"19\": {\"19\": 156}, \"11\": {\"11\": 136}, \"7\": {\"7\": 28}, \"23\": {\"23\": 136}, \"44\": {\"44\": 132}, \"42\": {\"42\": 40}, \"54\": {\"54\": 104}, \"1\": {\"1\": 100}, \"46\": {\"46\": 127, \"50\": 1}, \"6\": {\"6\": 96}, \"43\": {\"43\": 144}, \"51\": {\"51\": 142}, \"22\": {\"22\": 135, \"24\": 1}, \"0\": {\"0\": 128}}, \"C_4\": {\"32\": {\"32\": 24}, \"2\": {\"2\": 36}, \"41\": {\"41\": 36}, \"11\": {\"11\": 102}, \"57\": {\"57\": 100}, \"6\": {\"6\": 112}, \"23\": {\"23\": 136}, \"52\": {\"52\": 116}, \"38\": {\"38\": 40}, \"50\": {\"50\": 131, \"3\": 1}, \"55\": {\"55\": 152}, \"46\": {\"46\": 154}, \"37\": {\"37\": 24}, \"20\": {\"20\": 118}, \"49\": {\"49\": 20}, \"45\": {\"45\": 96}, \"54\": {\"54\": 108}, \"3\": {\"3\": 124}, \"13\": {\"13\": 152}, \"18\": {\"18\": 108}, \"21\": {\"21\": 126}, \"43\": {\"43\": 144}, \"47\": {\"47\": 120}, \"4\": {\"4\": 132}, \"12\": {\"12\": 92}, \"9\": {\"9\": 128}, \"7\": {\"7\": 24}, \"56\": {\"56\": 112}, \"28\": {\"28\": 32}, \"44\": {\"44\": 132}, \"24\": {\"24\": 56}, \"33\": {\"33\": 36}, \"35\": {\"35\": 40}, \"51\": {\"51\": 138}, \"39\": {\"39\": 20}, \"36\": {\"36\": 92}, \"19\": {\"19\": 140}, \"0\": {\"0\": 79, \"46\": 1}, \"15\": {\"15\": 136}, \"29\": {\"29\": 123, \"57\": 1}, \"30\": {\"30\": 44}, \"1\": {\"1\": 40}, \"22\": {\"22\": 128}, \"40\": {\"40\": 146}, \"8\": {\"8\": 128}, \"53\": {\"53\": 138}, \"34\": {\"34\": 24}, \"10\": {\"10\": 122}, \"31\": {\"31\": 28}, \"17\": {\"17\": 80}, \"16\": {\"16\": 96}, \"42\": {\"42\": 32}, \"27\": {\"27\": 142}, \"14\": {\"14\": 16}, \"25\": {\"25\": 122}, \"48\": {\"48\": 132}, \"26\": {\"26\": 24}, \"5\": {\"5\": 106, \"55\": 1, \"46\": 1}}, \"C_3\": {\"14\": {\"14\": 40}, \"18\": {\"18\": 84}, \"30\": {\"30\": 120}, \"16\": {\"16\": 156}, \"1\": {\"1\": 100}, \"20\": {\"20\": 132}, \"7\": {\"7\": 36}, \"52\": {\"52\": 130}, \"9\": {\"9\": 140}, \"23\": {\"23\": 144}, \"55\": {\"55\": 164}, \"29\": {\"29\": 126}, \"56\": {\"56\": 134}, \"3\": {\"3\": 124}, \"42\": {\"42\": 28}, \"6\": {\"6\": 88}, \"5\": {\"5\": 116}, \"27\": {\"27\": 144}, \"47\": {\"47\": 92}, \"39\": {\"39\": 16}, \"34\": {\"34\": 32}, \"4\": {\"4\": 126}, \"24\": {\"24\": 104}, \"46\": {\"46\": 118}, \"50\": {\"50\": 126}, \"38\": {\"38\": 28}, \"54\": {\"54\": 100}, \"35\": {\"35\": 28}, \"2\": {\"2\": 32}, \"41\": {\"41\": 28}, \"57\": {\"57\": 118}, \"25\": {\"25\": 150}, \"48\": {\"48\": 116}, \"33\": {\"33\": 28}, \"45\": {\"45\": 60}, \"13\": {\"13\": 126}, \"36\": {\"36\": 100}, \"43\": {\"43\": 132}, \"28\": {\"28\": 28}, \"0\": {\"0\": 124}, \"12\": {\"12\": 92}, \"31\": {\"31\": 28}, \"40\": {\"40\": 116}, \"44\": {\"44\": 88}, \"32\": {\"32\": 28}, \"26\": {\"26\": 24}, \"8\": {\"8\": 116}, \"10\": {\"10\": 64}, \"15\": {\"15\": 142}, \"21\": {\"21\": 128}, \"37\": {\"37\": 28}, \"17\": {\"17\": 108}, \"51\": {\"51\": 124}, \"53\": {\"53\": 144}, \"19\": {\"19\": 136}, \"49\": {\"49\": 20}, \"11\": {\"11\": 138}, \"22\": {\"22\": 130}}, \"W_1\": {\"68\": {\"127\": 1, \"68\": 15}, \"7\": {\"7\": 142}, \"125\": {\"125\": 118}, \"111\": {\"111\": 117, \"18\": 1, \"88\": 1, \"127\": 1}, \"101\": {\"101\": 123, \"88\": 1}, \"11\": {\"11\": 136}, \"76\": {\"76\": 16}, \"5\": {\"5\": 86, \"73\": 1, \"122\": 1}, \"123\": {\"123\": 15, \"65\": 1}, \"85\": {\"85\": 32}, \"34\": {\"34\": 28, \"125\": 1, \"14\": 3}, \"42\": {\"60\": 1, \"42\": 26, \"91\": 1}, \"81\": {\"81\": 28}, \"127\": {\"127\": 106, \"26\": 1, \"107\": 1}, \"60\": {\"34\": 2, \"60\": 12, \"120\": 1, \"14\": 1}, \"77\": {\"77\": 16}, \"65\": {\"65\": 10, \"50\": 2}, \"44\": {\"44\": 76}, \"100\": {\"100\": 15, \"99\": 1}, \"80\": {\"80\": 16}, \"83\": {\"83\": 26, \"1\": 1, \"95\": 1}, \"51\": {\"51\": 16}, \"93\": {\"93\": 130, \"24\": 1, \"114\": 1, \"87\": 2}, \"31\": {\"31\": 16}, \"33\": {\"33\": 124, \"19\": 1, \"45\": 1}, \"113\": {\"113\": 121, \"69\": 1, \"16\": 1, \"43\": 1}, \"126\": {\"126\": 122, \"117\": 1, \"26\": 1}, \"10\": {\"10\": 120}, \"21\": {\"21\": 39, \"93\": 1}, \"90\": {\"90\": 131, \"113\": 1}, \"38\": {\"38\": 16}, \"96\": {\"96\": 19, \"83\": 1}, \"6\": {\"6\": 31, \"51\": 1}, \"121\": {\"121\": 31, \"65\": 1}, \"37\": {\"37\": 16}, \"88\": {\"88\": 121, \"36\": 5}, \"54\": {\"54\": 16}, \"92\": {\"92\": 28}, \"19\": {\"19\": 28}, \"47\": {\"47\": 12}, \"94\": {\"94\": 91, \"62\": 1}, \"66\": {\"66\": 16}, \"73\": {\"73\": 19, \"128\": 1}, \"75\": {\"75\": 16}, \"28\": {\"28\": 18, \"78\": 1, \"113\": 1}, \"20\": {\"20\": 16}, \"78\": {\"21\": 1, \"78\": 14, \"87\": 1}, \"71\": {\"71\": 103, \"39\": 1}, \"13\": {\"13\": 16}, \"118\": {\"118\": 83, \"94\": 1}, \"72\": {\"72\": 32}, \"24\": {\"24\": 88, \"113\": 1, \"12\": 1, \"108\": 1, \"36\": 1}, \"41\": {\"41\": 16}, \"102\": {\"102\": 119, \"113\": 1}, \"8\": {\"21\": 1, \"8\": 137}, \"39\": {\"39\": 94, \"101\": 1, \"109\": 1}, \"97\": {\"97\": 19, \"2\": 1}, \"48\": {\"48\": 12}, \"57\": {\"57\": 12}, \"29\": {\"29\": 28}, \"119\": {\"119\": 16}, \"89\": {\"89\": 36}, \"40\": {\"40\": 138, \"105\": 2}, \"22\": {\"97\": 1, \"22\": 14, \"13\": 1}, \"53\": {\"53\": 19, \"49\": 1}, \"108\": {\"108\": 123, \"70\": 1}, \"23\": {\"23\": 21, \"94\": 1, \"95\": 1, \"77\": 1}, \"109\": {\"109\": 112, \"126\": 2, \"44\": 1, \"70\": 1}, \"112\": {\"112\": 16}, \"35\": {\"35\": 12}, \"3\": {\"3\": 84, \"113\": 1, \"36\": 1, \"71\": 1, \"111\": 1}, \"103\": {\"103\": 14, \"28\": 1, \"48\": 1}, \"4\": {\"4\": 98, \"39\": 1, \"61\": 1}, \"87\": {\"87\": 107, \"108\": 1}, \"25\": {\"28\": 1, \"25\": 14, \"73\": 1}, \"15\": {\"15\": 97, \"69\": 1, \"111\": 3, \"43\": 1, \"109\": 1, \"106\": 1}, \"95\": {\"95\": 36}, \"120\": {\"120\": 18, \"77\": 1, \"102\": 1}, \"59\": {\"59\": 11, \"7\": 1}, \"49\": {\"49\": 20}, \"52\": {\"52\": 18, \"78\": 1, \"24\": 1}, \"45\": {\"49\": 1, \"45\": 7, \"14\": 1, \"47\": 1, \"59\": 1, \"61\": 1}, \"107\": {\"107\": 124}, \"106\": {\"106\": 133, \"10\": 1}, \"18\": {\"18\": 124}, \"64\": {\"64\": 16}, \"86\": {\"86\": 35, \"72\": 1}, \"14\": {\"14\": 96}, \"115\": {\"115\": 12}, \"0\": {\"0\": 83, \"94\": 1}, \"104\": {\"104\": 16}, \"61\": {\"61\": 12}, \"129\": {\"129\": 28}, \"122\": {\"122\": 86, \"36\": 1, \"3\": 1}, \"67\": {\"67\": 14, \"3\": 1, \"34\": 1}, \"128\": {\"128\": 24}, \"26\": {\"26\": 131, \"105\": 1, \"43\": 1, \"46\": 1}, \"117\": {\"117\": 136}, \"91\": {\"91\": 27, \"86\": 1}, \"12\": {\"12\": 99, \"70\": 1, \"88\": 1, \"36\": 1, \"0\": 1, \"43\": 1}, \"50\": {\"50\": 16}, \"99\": {\"99\": 24}, \"110\": {\"110\": 104}, \"43\": {\"43\": 111, \"109\": 1, \"3\": 1, \"70\": 1, \"94\": 1, \"5\": 1}, \"82\": {\"82\": 36}, \"1\": {\"1\": 95, \"126\": 1}, \"46\": {\"46\": 11, \"12\": 1}, \"16\": {\"16\": 106, \"94\": 1, \"43\": 1}, \"74\": {\"74\": 16}, \"32\": {\"32\": 32}, \"62\": {\"62\": 118, \"88\": 1, \"94\": 1}, \"27\": {\"27\": 90, \"94\": 1, \"24\": 1}, \"17\": {\"17\": 16}, \"36\": {\"36\": 132, \"88\": 1, \"39\": 1}, \"2\": {\"2\": 32}, \"70\": {\"70\": 126, \"49\": 1, \"88\": 1}, \"9\": {\"9\": 32}, \"114\": {\"114\": 130}, \"79\": {\"79\": 12}, \"56\": {\"56\": 11, \"112\": 1}, \"124\": {\"124\": 102}, \"84\": {\"84\": 134}, \"69\": {\"69\": 106, \"97\": 1, \"36\": 1}, \"58\": {\"58\": 11, \"125\": 1}, \"30\": {\"30\": 52}, \"55\": {\"55\": 12}, \"105\": {\"105\": 84}, \"63\": {\"63\": 16}, \"98\": {\"98\": 107, \"109\": 1}, \"116\": {\"116\": 31, \"102\": 1}}, \"W_3\": {\"76\": {\"76\": 16}, \"6\": {\"6\": 29, \"58\": 1, \"34\": 1, \"45\": 1}, \"108\": {\"108\": 105, \"88\": 1}, \"29\": {\"29\": 30, \"67\": 1, \"80\": 1}, \"83\": {\"83\": 24}, \"18\": {\"18\": 126, \"39\": 1, \"78\": 1}, \"54\": {\"54\": 16}, \"15\": {\"15\": 104}, \"100\": {\"100\": 16}, \"90\": {\"90\": 133, \"86\": 1, \"94\": 1, \"62\": 1}, \"26\": {\"26\": 130, \"5\": 1, \"90\": 1}, \"115\": {\"115\": 16}, \"94\": {\"94\": 83, \"30\": 1}, \"46\": {\"46\": 16}, \"121\": {\"121\": 29, \"116\": 1, \"92\": 1, \"39\": 1}, \"109\": {\"109\": 126, \"84\": 1, \"21\": 1}, \"101\": {\"101\": 51, \"10\": 1}, \"99\": {\"99\": 36}, \"8\": {\"8\": 126, \"5\": 1, \"27\": 1}, \"102\": {\"102\": 104}, \"122\": {\"36\": 1, \"122\": 56, \"2\": 1, \"43\": 1, \"89\": 1}, \"36\": {\"36\": 114, \"27\": 1, \"98\": 1}, \"113\": {\"113\": 119, \"7\": 1}, \"123\": {\"123\": 16}, \"120\": {\"120\": 20}, \"125\": {\"125\": 107, \"113\": 1}, \"89\": {\"89\": 27, \"116\": 1}, \"9\": {\"9\": 32}, \"31\": {\"31\": 20}, \"62\": {\"62\": 112, \"87\": 1, \"110\": 1}, \"49\": {\"49\": 22, \"42\": 1, \"29\": 1}, \"23\": {\"23\": 30, \"18\": 2}, \"55\": {\"55\": 16}, \"128\": {\"128\": 31, \"19\": 1}, \"71\": {\"71\": 67, \"128\": 1}, \"51\": {\"51\": 16}, \"7\": {\"7\": 106}, \"117\": {\"117\": 104}, \"28\": {\"28\": 16}, \"127\": {\"127\": 127, \"17\": 1}, \"57\": {\"57\": 19, \"40\": 1}, \"78\": {\"78\": 13, \"122\": 1, \"84\": 1, \"17\": 1}, \"87\": {\"87\": 119, \"27\": 1}, \"40\": {\"40\": 127, \"39\": 1}, \"81\": {\"81\": 32}, \"2\": {\"2\": 28}, \"58\": {\"58\": 16}, \"68\": {\"68\": 15, \"74\": 1}, \"20\": {\"20\": 15, \"2\": 1}, \"35\": {\"35\": 12}, \"96\": {\"96\": 20}, \"84\": {\"84\": 108}, \"13\": {\"65\": 2, \"13\": 12, \"43\": 1, \"69\": 1}, \"64\": {\"64\": 20}, \"112\": {\"112\": 13, \"21\": 1, \"108\": 1, \"94\": 1}, \"103\": {\"103\": 16}, \"65\": {\"65\": 11, \"63\": 1}, \"118\": {\"118\": 100}, \"88\": {\"88\": 107, \"39\": 2, \"26\": 1, \"36\": 1, \"108\": 1}, \"85\": {\"85\": 36}, \"5\": {\"5\": 107, \"21\": 1, \"93\": 1, \"88\": 1, \"1\": 1, \"114\": 1}, \"93\": {\"93\": 137, \"44\": 1}, \"43\": {\"43\": 55, \"26\": 1}, \"67\": {\"67\": 15, \"3\": 1}, \"48\": {\"48\": 15, \"7\": 1}, \"73\": {\"73\": 38, \"78\": 1, \"62\": 1}, \"34\": {\"34\": 30, \"37\": 1, \"6\": 1}, \"91\": {\"91\": 23, \"126\": 1}, \"105\": {\"105\": 124}, \"10\": {\"10\": 105, \"5\": 1}, \"61\": {\"61\": 15, \"45\": 1}, \"74\": {\"74\": 15, \"82\": 1}, \"4\": {\"4\": 95, \"110\": 1}, \"37\": {\"37\": 16}, \"19\": {\"19\": 32}, \"44\": {\"44\": 72}, \"52\": {\"52\": 16}, \"92\": {\"92\": 32}, \"33\": {\"33\": 128}, \"45\": {\"45\": 16}, \"11\": {\"11\": 127, \"39\": 1}, \"129\": {\"129\": 32}, \"116\": {\"116\": 27, \"13\": 1}, \"75\": {\"75\": 16}, \"41\": {\"41\": 16}, \"21\": {\"21\": 43, \"43\": 1, \"94\": 1, \"101\": 1, \"86\": 1, \"3\": 1}, \"69\": {\"69\": 82, \"97\": 1, \"27\": 1}, \"16\": {\"16\": 107, \"3\": 1}, \"25\": {\"25\": 16}, \"12\": {\"12\": 103, \"88\": 1}, \"72\": {\"72\": 28}, \"0\": {\"0\": 115, \"26\": 1}, \"50\": {\"50\": 16}, \"107\": {\"107\": 140}, \"124\": {\"124\": 124}, \"53\": {\"53\": 17, \"85\": 2, \"127\": 1}, \"66\": {\"66\": 16}, \"47\": {\"47\": 12}, \"24\": {\"24\": 46, \"27\": 1, \"88\": 1}, \"95\": {\"95\": 31, \"25\": 1}, \"98\": {\"98\": 105, \"44\": 1}, \"63\": {\"63\": 16}, \"3\": {\"3\": 113, \"27\": 1, \"114\": 1, \"36\": 1}, \"14\": {\"14\": 80}, \"1\": {\"1\": 108}, \"38\": {\"38\": 16}, \"110\": {\"110\": 86, \"68\": 2, \"36\": 1, \"93\": 1, \"12\": 1, \"26\": 1}, \"17\": {\"122\": 1, \"17\": 8, \"39\": 1, \"40\": 2, \"64\": 1, \"68\": 2, \"92\": 1}, \"30\": {\"30\": 83, \"93\": 1}, \"56\": {\"56\": 11, \"12\": 1}, \"27\": {\"27\": 92, \"36\": 2, \"5\": 1, \"101\": 1}, \"104\": {\"104\": 16}, \"97\": {\"97\": 20}, \"42\": {\"42\": 24, \"25\": 1, \"112\": 2, \"8\": 1}, \"39\": {\"39\": 108}, \"70\": {\"70\": 70, \"30\": 1, \"101\": 1}, \"86\": {\"86\": 28}, \"119\": {\"119\": 16}, \"77\": {\"77\": 16}, \"59\": {\"59\": 12}, \"22\": {\"22\": 16}, \"79\": {\"79\": 12}, \"80\": {\"80\": 16}, \"111\": {\"111\": 130, \"49\": 1, \"113\": 1}, \"82\": {\"82\": 28}, \"126\": {\"126\": 122, \"21\": 1, \"122\": 1}, \"32\": {\"32\": 31, \"26\": 1}, \"106\": {\"106\": 98, \"87\": 2}, \"60\": {\"60\": 27, \"110\": 1}, \"114\": {\"114\": 106, \"8\": 1, \"36\": 1}}, \"O_8\": {\"13\": {\"13\": 30, \"8\": 4, \"14\": 15, \"10\": 30, \"6\": 23, \"0\": 36, \"7\": 22, \"4\": 28, \"5\": 18, \"11\": 7, \"3\": 4, \"2\": 6, \"1\": 13, \"15\": 4}, \"9\": {\"9\": 186, \"0\": 4, \"5\": 24, \"10\": 12, \"4\": 1, \"6\": 2, \"7\": 1, \"14\": 5, \"13\": 3, \"1\": 2}, \"15\": {\"12\": 35, \"15\": 49, \"3\": 26, \"1\": 9, \"6\": 14, \"8\": 41, \"13\": 12, \"11\": 3, \"4\": 8, \"2\": 11, \"10\": 4, \"7\": 19, \"14\": 3, \"0\": 5, \"5\": 1}, \"2\": {\"3\": 43, \"13\": 11, \"2\": 63, \"8\": 7, \"6\": 11, \"12\": 24, \"7\": 24, \"0\": 32, \"14\": 4, \"15\": 10, \"1\": 2, \"4\": 6, \"10\": 3}, \"3\": {\"2\": 47, \"3\": 70, \"7\": 19, \"6\": 10, \"12\": 41, \"15\": 25, \"13\": 1, \"1\": 1, \"8\": 18, \"0\": 1, \"14\": 3, \"4\": 2, \"10\": 1, \"11\": 1}, \"8\": {\"13\": 11, \"3\": 14, \"15\": 29, \"8\": 50, \"6\": 20, \"12\": 24, \"4\": 14, \"2\": 6, \"14\": 8, \"0\": 7, \"11\": 13, \"7\": 16, \"1\": 19, \"10\": 8, \"5\": 1}, \"5\": {\"0\": 14, \"5\": 50, \"14\": 29, \"13\": 23, \"4\": 15, \"6\": 17, \"11\": 23, \"10\": 25, \"7\": 2, \"1\": 35, \"8\": 3, \"9\": 4}, \"14\": {\"0\": 27, \"4\": 31, \"14\": 29, \"10\": 24, \"5\": 18, \"6\": 21, \"11\": 26, \"1\": 11, \"13\": 24, \"3\": 2, \"7\": 13, \"15\": 2, \"2\": 4, \"8\": 8}, \"1\": {\"5\": 33, \"1\": 43, \"4\": 20, \"14\": 23, \"0\": 6, \"6\": 15, \"11\": 36, \"8\": 13, \"10\": 20, \"9\": 1, \"13\": 18, \"7\": 11, \"15\": 1}, \"0\": {\"7\": 17, \"0\": 40, \"15\": 1, \"14\": 27, \"2\": 17, \"6\": 24, \"4\": 26, \"13\": 30, \"10\": 25, \"1\": 8, \"8\": 7, \"5\": 8, \"3\": 3, \"11\": 6, \"12\": 1}, \"10\": {\"10\": 41, \"5\": 26, \"13\": 25, \"6\": 15, \"4\": 37, \"14\": 27, \"0\": 23, \"1\": 12, \"11\": 12, \"2\": 1, \"7\": 20, \"15\": 1}, \"6\": {\"13\": 33, \"2\": 7, \"1\": 15, \"6\": 36, \"4\": 27, \"8\": 11, \"0\": 32, \"11\": 3, \"5\": 5, \"10\": 13, \"7\": 24, \"15\": 9, \"14\": 14, \"3\": 7, \"12\": 4}, \"11\": {\"1\": 50, \"11\": 60, \"6\": 15, \"0\": 4, \"4\": 12, \"13\": 11, \"10\": 18, \"14\": 23, \"12\": 1, \"5\": 28, \"8\": 12, \"7\": 2, \"15\": 3, \"2\": 1}, \"7\": {\"13\": 20, \"7\": 30, \"14\": 20, \"8\": 16, \"15\": 9, \"0\": 33, \"2\": 12, \"6\": 28, \"10\": 14, \"1\": 12, \"4\": 24, \"3\": 9, \"12\": 7, \"5\": 4, \"11\": 2}, \"4\": {\"8\": 8, \"7\": 30, \"13\": 27, \"15\": 6, \"11\": 9, \"6\": 32, \"10\": 24, \"4\": 29, \"0\": 25, \"5\": 14, \"14\": 23, \"1\": 10, \"2\": 3}, \"12\": {\"12\": 62, \"15\": 48, \"8\": 36, \"6\": 12, \"11\": 2, \"3\": 38, \"5\": 1, \"4\": 3, \"1\": 3, \"14\": 5, \"7\": 10, \"13\": 2, \"2\": 17, \"10\": 1}}, \"O_38\": {\"13\": {\"15\": 42, \"0\": 11, \"13\": 59, \"8\": 21, \"2\": 24, \"5\": 9, \"14\": 8, \"10\": 21, \"1\": 30, \"9\": 5, \"7\": 4, \"6\": 4, \"3\": 1, \"11\": 1}, \"12\": {\"4\": 60, \"12\": 132, \"14\": 12, \"10\": 14, \"8\": 2, \"11\": 7, \"0\": 10, \"7\": 1, \"15\": 1, \"5\": 1}, \"2\": {\"15\": 27, \"2\": 90, \"13\": 39, \"10\": 25, \"14\": 35, \"1\": 10, \"11\": 8, \"0\": 4, \"8\": 2}, \"9\": {\"6\": 79, \"8\": 9, \"13\": 5, \"9\": 72, \"5\": 27, \"3\": 27, \"1\": 9, \"7\": 3, \"15\": 6, \"0\": 3}, \"15\": {\"15\": 59, \"7\": 5, \"5\": 16, \"2\": 29, \"8\": 20, \"10\": 23, \"13\": 32, \"6\": 7, \"9\": 4, \"1\": 32, \"0\": 4, \"14\": 7, \"3\": 1, \"12\": 1}, \"5\": {\"15\": 17, \"5\": 47, \"7\": 24, \"6\": 28, \"13\": 19, \"9\": 16, \"1\": 16, \"0\": 18, \"8\": 36, \"3\": 8, \"10\": 10, \"14\": 1}, \"14\": {\"14\": 117, \"12\": 15, \"15\": 7, \"11\": 40, \"10\": 20, \"13\": 6, \"2\": 31, \"0\": 2, \"4\": 1, \"8\": 1}, \"0\": {\"10\": 14, \"0\": 51, \"8\": 47, \"3\": 22, \"6\": 9, \"9\": 11, \"5\": 17, \"12\": 10, \"7\": 32, \"13\": 8, \"1\": 2, \"15\": 8, \"14\": 3, \"2\": 1, \"11\": 1, \"4\": 4}, \"3\": {\"3\": 103, \"9\": 39, \"13\": 5, \"8\": 20, \"5\": 18, \"7\": 15, \"0\": 25, \"10\": 5, \"6\": 7, \"12\": 2, \"15\": 1}, \"1\": {\"6\": 25, \"0\": 4, \"13\": 25, \"1\": 95, \"15\": 44, \"9\": 16, \"10\": 4, \"8\": 14, \"2\": 3, \"5\": 9, \"14\": 1}, \"11\": {\"12\": 18, \"14\": 70, \"2\": 13, \"11\": 118, \"10\": 16, \"4\": 2, \"15\": 1, \"13\": 2}, \"7\": {\"5\": 39, \"7\": 69, \"0\": 34, \"8\": 32, \"4\": 4, \"12\": 8, \"10\": 12, \"3\": 17, \"9\": 14, \"13\": 1, \"15\": 3, \"6\": 7}, \"8\": {\"0\": 35, \"1\": 11, \"6\": 16, \"7\": 25, \"8\": 35, \"5\": 33, \"15\": 16, \"13\": 25, \"9\": 11, \"10\": 19, \"11\": 1, \"3\": 8, \"2\": 4, \"12\": 1}, \"4\": {\"4\": 150, \"12\": 79, \"11\": 2, \"10\": 1, \"3\": 1, \"7\": 4, \"0\": 1, \"14\": 2}, \"10\": {\"10\": 59, \"5\": 19, \"7\": 15, \"15\": 16, \"2\": 15, \"8\": 29, \"0\": 16, \"12\": 12, \"14\": 19, \"13\": 26, \"11\": 10, \"4\": 2, \"6\": 1, \"1\": 1}, \"6\": {\"9\": 48, \"5\": 33, \"1\": 30, \"6\": 88, \"15\": 8, \"3\": 4, \"0\": 3, \"8\": 13, \"7\": 5, \"13\": 8}}, \"O_26\": {\"10\": {\"1\": 23, \"3\": 12, \"5\": 5, \"7\": 26, \"8\": 20, \"4\": 24, \"10\": 25, \"14\": 35, \"2\": 8, \"0\": 23, \"9\": 8, \"12\": 1, \"6\": 14, \"15\": 15, \"13\": 1}, \"12\": {\"12\": 130, \"11\": 32, \"13\": 5, \"0\": 6, \"10\": 6, \"6\": 23, \"8\": 6, \"15\": 12, \"9\": 14, \"2\": 1, \"5\": 2, \"3\": 1, \"14\": 1, \"7\": 1}, \"1\": {\"0\": 29, \"1\": 36, \"8\": 23, \"2\": 15, \"3\": 17, \"6\": 9, \"4\": 16, \"15\": 10, \"7\": 23, \"9\": 8, \"10\": 21, \"14\": 27, \"5\": 4, \"13\": 2}, \"0\": {\"2\": 8, \"4\": 21, \"0\": 32, \"1\": 30, \"3\": 6, \"6\": 19, \"8\": 21, \"7\": 13, \"10\": 32, \"14\": 34, \"9\": 9, \"15\": 8, \"5\": 3, \"13\": 2, \"12\": 2}, \"15\": {\"8\": 23, \"6\": 26, \"4\": 12, \"2\": 15, \"7\": 16, \"5\": 20, \"9\": 9, \"15\": 28, \"1\": 9, \"10\": 27, \"14\": 16, \"13\": 16, \"0\": 14, \"3\": 9}, \"13\": {\"8\": 20, \"13\": 51, \"5\": 47, \"6\": 19, \"0\": 4, \"9\": 25, \"2\": 18, \"4\": 4, \"1\": 3, \"7\": 7, \"15\": 12, \"11\": 9, \"3\": 11, \"10\": 4, \"14\": 3, \"12\": 3}, \"8\": {\"2\": 13, \"13\": 5, \"14\": 27, \"6\": 18, \"4\": 19, \"8\": 26, \"5\": 11, \"15\": 19, \"1\": 16, \"10\": 20, \"9\": 12, \"0\": 24, \"7\": 15, \"3\": 12, \"12\": 3}, \"3\": {\"9\": 12, \"2\": 31, \"1\": 23, \"3\": 32, \"5\": 12, \"7\": 21, \"8\": 14, \"4\": 15, \"15\": 17, \"10\": 18, \"13\": 15, \"6\": 8, \"14\": 13, \"0\": 9}, \"11\": {\"11\": 141, \"5\": 12, \"13\": 18, \"6\": 6, \"12\": 51, \"15\": 4, \"14\": 1, \"0\": 1, \"9\": 4, \"10\": 1, \"4\": 1}, \"4\": {\"4\": 32, \"2\": 11, \"9\": 14, \"14\": 31, \"1\": 26, \"6\": 10, \"0\": 28, \"3\": 13, \"10\": 25, \"7\": 21, \"8\": 15, \"15\": 12, \"5\": 2}, \"6\": {\"12\": 7, \"15\": 28, \"10\": 17, \"5\": 19, \"9\": 25, \"8\": 12, \"13\": 17, \"4\": 9, \"2\": 19, \"6\": 30, \"0\": 25, \"1\": 5, \"14\": 11, \"3\": 5, \"7\": 10, \"11\": 1}, \"7\": {\"10\": 24, \"7\": 27, \"3\": 18, \"4\": 27, \"14\": 25, \"5\": 8, \"8\": 19, \"1\": 19, \"15\": 16, \"6\": 9, \"2\": 18, \"9\": 16, \"0\": 12, \"13\": 2}, \"14\": {\"1\": 29, \"8\": 23, \"10\": 32, \"6\": 17, \"0\": 31, \"9\": 5, \"3\": 16, \"14\": 30, \"4\": 15, \"7\": 19, \"2\": 10, \"13\": 1, \"15\": 10, \"5\": 2}, \"2\": {\"13\": 11, \"2\": 33, \"9\": 15, \"5\": 31, \"15\": 23, \"1\": 9, \"6\": 14, \"14\": 9, \"8\": 16, \"10\": 11, \"7\": 17, \"3\": 31, \"4\": 12, \"0\": 8}, \"5\": {\"15\": 17, \"7\": 10, \"4\": 5, \"5\": 39, \"13\": 43, \"8\": 20, \"0\": 6, \"2\": 27, \"10\": 9, \"9\": 22, \"3\": 17, \"11\": 3, \"6\": 15, \"14\": 6, \"1\": 1}, \"9\": {\"4\": 12, \"2\": 18, \"0\": 11, \"12\": 3, \"5\": 27, \"9\": 44, \"6\": 27, \"1\": 5, \"3\": 8, \"13\": 22, \"8\": 13, \"15\": 22, \"14\": 5, \"10\": 15, \"7\": 7, \"11\": 1}}, \"O_20\": {\"5\": {\"12\": 23, \"5\": 30, \"6\": 3, \"0\": 26, \"7\": 12, \"2\": 19, \"14\": 2, \"3\": 18, \"13\": 17, \"1\": 33, \"11\": 4, \"9\": 15, \"8\": 9, \"15\": 17, \"10\": 7, \"4\": 5}, \"15\": {\"15\": 36, \"13\": 23, \"12\": 12, \"11\": 6, \"1\": 27, \"7\": 16, \"2\": 16, \"5\": 30, \"8\": 4, \"3\": 13, \"0\": 22, \"9\": 17, \"4\": 15, \"10\": 3}, \"9\": {\"0\": 18, \"9\": 23, \"11\": 12, \"12\": 17, \"15\": 20, \"1\": 23, \"10\": 7, \"13\": 25, \"2\": 19, \"4\": 13, \"7\": 13, \"3\": 19, \"6\": 7, \"5\": 14, \"8\": 7, \"14\": 3}, \"7\": {\"8\": 21, \"3\": 24, \"7\": 27, \"11\": 4, \"12\": 19, \"1\": 12, \"13\": 14, \"2\": 19, \"9\": 21, \"14\": 3, \"6\": 13, \"5\": 20, \"10\": 11, \"0\": 14, \"4\": 13, \"15\": 5}, \"3\": {\"13\": 18, \"0\": 9, \"8\": 11, \"1\": 21, \"3\": 17, \"6\": 7, \"4\": 17, \"11\": 8, \"2\": 25, \"12\": 35, \"7\": 18, \"9\": 10, \"5\": 15, \"10\": 11, \"15\": 17, \"14\": 1}, \"8\": {\"9\": 10, \"10\": 16, \"8\": 33, \"0\": 12, \"7\": 25, \"4\": 27, \"6\": 26, \"5\": 13, \"14\": 25, \"11\": 7, \"15\": 3, \"12\": 11, \"3\": 5, \"13\": 7, \"2\": 15, \"1\": 5}, \"4\": {\"12\": 13, \"10\": 17, \"4\": 31, \"6\": 14, \"14\": 14, \"7\": 28, \"0\": 15, \"8\": 30, \"9\": 22, \"3\": 11, \"2\": 8, \"13\": 5, \"5\": 16, \"15\": 4, \"1\": 11, \"11\": 1}, \"6\": {\"9\": 12, \"6\": 38, \"3\": 14, \"10\": 29, \"0\": 7, \"4\": 19, \"11\": 6, \"8\": 30, \"14\": 27, \"1\": 2, \"7\": 24, \"5\": 5, \"12\": 6, \"2\": 19, \"13\": 2}, \"2\": {\"3\": 22, \"13\": 24, \"6\": 6, \"1\": 16, \"12\": 24, \"2\": 28, \"4\": 10, \"9\": 27, \"14\": 5, \"10\": 6, \"5\": 21, \"7\": 10, \"11\": 15, \"15\": 11, \"8\": 7, \"0\": 8}, \"12\": {\"1\": 21, \"13\": 14, \"12\": 21, \"15\": 15, \"5\": 29, \"8\": 11, \"4\": 18, \"0\": 17, \"3\": 20, \"7\": 18, \"9\": 22, \"2\": 18, \"10\": 7, \"6\": 2, \"11\": 7}, \"0\": {\"3\": 12, \"15\": 19, \"8\": 16, \"10\": 2, \"0\": 42, \"4\": 17, \"1\": 19, \"7\": 15, \"13\": 16, \"11\": 5, \"12\": 22, \"9\": 17, \"2\": 11, \"5\": 25, \"6\": 2}, \"13\": {\"9\": 23, \"15\": 26, \"7\": 17, \"2\": 23, \"13\": 32, \"3\": 17, \"0\": 17, \"11\": 16, \"12\": 14, \"1\": 23, \"5\": 19, \"10\": 4, \"4\": 4, \"8\": 1, \"14\": 1, \"6\": 3}, \"10\": {\"6\": 38, \"7\": 21, \"14\": 32, \"3\": 18, \"10\": 39, \"4\": 32, \"13\": 2, \"11\": 1, \"12\": 10, \"2\": 8, \"9\": 8, \"8\": 23, \"15\": 2, \"5\": 5, \"0\": 1}, \"11\": {\"11\": 80, \"2\": 42, \"5\": 6, \"10\": 3, \"12\": 10, \"6\": 11, \"13\": 18, \"1\": 6, \"9\": 26, \"8\": 6, \"3\": 7, \"7\": 12, \"15\": 3, \"0\": 4, \"4\": 4, \"14\": 2}, \"14\": {\"8\": 50, \"7\": 13, \"1\": 3, \"6\": 31, \"10\": 34, \"14\": 48, \"11\": 2, \"5\": 5, \"12\": 3, \"4\": 29, \"0\": 3, \"3\": 7, \"9\": 5, \"2\": 7}, \"1\": {\"13\": 16, \"1\": 35, \"5\": 29, \"12\": 25, \"0\": 20, \"15\": 18, \"3\": 23, \"7\": 20, \"9\": 15, \"2\": 17, \"4\": 11, \"10\": 3, \"14\": 1, \"8\": 3, \"11\": 3, \"6\": 1}}, \"O_50\": {\"1\": {\"1\": 45, \"13\": 10, \"6\": 28, \"15\": 35, \"9\": 9, \"2\": 10, \"4\": 36, \"11\": 17, \"7\": 5, \"14\": 14, \"5\": 15, \"0\": 5, \"10\": 4, \"12\": 7}, \"2\": {\"2\": 88, \"0\": 67, \"12\": 6, \"14\": 25, \"10\": 23, \"6\": 4, \"8\": 3, \"7\": 3, \"13\": 3, \"5\": 5, \"4\": 1, \"1\": 8, \"9\": 1, \"15\": 3}, \"8\": {\"8\": 109, \"3\": 46, \"13\": 8, \"10\": 43, \"7\": 6, \"0\": 21, \"4\": 2, \"2\": 4, \"5\": 1}, \"7\": {\"6\": 22, \"5\": 36, \"7\": 64, \"13\": 40, \"10\": 20, \"8\": 17, \"1\": 8, \"4\": 13, \"3\": 5, \"2\": 1, \"0\": 9, \"15\": 5}, \"14\": {\"14\": 74, \"2\": 14, \"9\": 20, \"12\": 55, \"11\": 22, \"1\": 30, \"15\": 8, \"6\": 4, \"10\": 2, \"0\": 5, \"4\": 2, \"5\": 3, \"13\": 1}, \"6\": {\"1\": 26, \"15\": 33, \"7\": 19, \"6\": 44, \"13\": 34, \"4\": 22, \"11\": 12, \"14\": 4, \"10\": 4, \"2\": 5, \"5\": 26, \"0\": 8, \"8\": 2, \"9\": 1}, \"3\": {\"3\": 139, \"8\": 78, \"0\": 1, \"10\": 16, \"7\": 3, \"5\": 3}, \"4\": {\"14\": 11, \"4\": 28, \"7\": 15, \"1\": 24, \"6\": 30, \"5\": 31, \"11\": 15, \"13\": 32, \"0\": 4, \"2\": 4, \"15\": 35, \"9\": 3, \"10\": 4, \"12\": 4}, \"12\": {\"2\": 8, \"0\": 1, \"11\": 31, \"9\": 44, \"12\": 86, \"14\": 53, \"1\": 8, \"15\": 3, \"4\": 2, \"6\": 3, \"10\": 1}, \"15\": {\"15\": 56, \"6\": 27, \"5\": 13, \"13\": 8, \"9\": 15, \"7\": 7, \"1\": 39, \"0\": 2, \"4\": 39, \"11\": 23, \"14\": 5, \"12\": 5, \"10\": 1}, \"11\": {\"14\": 28, \"12\": 18, \"6\": 6, \"11\": 77, \"9\": 45, \"15\": 20, \"1\": 27, \"13\": 3, \"4\": 15, \"5\": 1}, \"0\": {\"5\": 6, \"6\": 8, \"8\": 16, \"0\": 77, \"7\": 9, \"10\": 49, \"13\": 17, \"2\": 32, \"14\": 10, \"4\": 8, \"1\": 7, \"11\": 1}, \"9\": {\"9\": 74, \"14\": 35, \"11\": 53, \"12\": 48, \"15\": 11, \"1\": 8, \"4\": 10, \"2\": 1}, \"10\": {\"10\": 47, \"8\": 46, \"5\": 16, \"3\": 4, \"1\": 6, \"13\": 24, \"6\": 11, \"2\": 15, \"7\": 31, \"0\": 34, \"4\": 2, \"15\": 3, \"14\": 1}, \"5\": {\"15\": 14, \"2\": 3, \"4\": 23, \"13\": 42, \"0\": 11, \"5\": 41, \"1\": 18, \"7\": 25, \"10\": 23, \"3\": 3, \"6\": 27, \"8\": 4, \"14\": 3, \"11\": 2, \"12\": 1}, \"13\": {\"13\": 42, \"10\": 20, \"7\": 30, \"4\": 26, \"0\": 17, \"1\": 16, \"15\": 10, \"2\": 5, \"6\": 31, \"5\": 36, \"8\": 5, \"14\": 1, \"11\": 1}}, \"O_32\": {\"2\": {\"8\": 8, \"7\": 27, \"0\": 31, \"11\": 13, \"4\": 44, \"2\": 67, \"14\": 17, \"5\": 18, \"13\": 11, \"3\": 1, \"9\": 3}, \"6\": {\"9\": 5, \"6\": 189, \"12\": 33, \"1\": 5, \"10\": 8}, \"5\": {\"2\": 14, \"5\": 52, \"0\": 24, \"13\": 24, \"3\": 20, \"14\": 17, \"7\": 24, \"8\": 26, \"4\": 25, \"11\": 13, \"15\": 1}, \"12\": {\"9\": 53, \"6\": 27, \"12\": 149, \"10\": 8, \"2\": 2, \"1\": 1}, \"13\": {\"8\": 41, \"3\": 30, \"5\": 30, \"13\": 33, \"0\": 23, \"11\": 16, \"7\": 19, \"4\": 22, \"14\": 18, \"2\": 4, \"15\": 4}, \"9\": {\"9\": 140, \"6\": 6, \"2\": 24, \"0\": 6, \"12\": 51, \"4\": 10, \"5\": 1, \"13\": 2}, \"11\": {\"14\": 45, \"8\": 17, \"11\": 78, \"13\": 12, \"4\": 11, \"0\": 16, \"3\": 10, \"2\": 8, \"7\": 21, \"5\": 22}, \"1\": {\"1\": 160, \"10\": 75, \"6\": 5}, \"3\": {\"8\": 53, \"15\": 17, \"3\": 72, \"5\": 21, \"0\": 6, \"4\": 4, \"11\": 19, \"13\": 35, \"14\": 8, \"7\": 5}, \"7\": {\"14\": 21, \"4\": 38, \"5\": 36, \"7\": 29, \"2\": 24, \"13\": 13, \"8\": 22, \"0\": 23, \"11\": 27, \"3\": 7}, \"14\": {\"4\": 17, \"14\": 56, \"0\": 25, \"7\": 38, \"11\": 46, \"5\": 13, \"8\": 10, \"2\": 12, \"3\": 10, \"13\": 12, \"15\": 1}, \"8\": {\"14\": 14, \"7\": 13, \"0\": 20, \"4\": 11, \"11\": 12, \"5\": 40, \"8\": 43, \"13\": 44, \"15\": 5, \"3\": 34, \"2\": 4}, \"4\": {\"5\": 31, \"2\": 46, \"0\": 34, \"7\": 38, \"4\": 30, \"11\": 12, \"14\": 17, \"3\": 2, \"8\": 9, \"13\": 19, \"9\": 2}, \"0\": {\"4\": 37, \"14\": 20, \"13\": 27, \"0\": 38, \"11\": 14, \"5\": 22, \"7\": 31, \"8\": 24, \"2\": 22, \"9\": 2, \"3\": 3}, \"10\": {\"1\": 54, \"10\": 162, \"6\": 19, \"12\": 5}, \"15\": {\"15\": 172, \"5\": 5, \"11\": 2, \"8\": 19, \"3\": 34, \"13\": 8}}, \"O_44\": {\"13\": {\"13\": 59, \"11\": 27, \"10\": 6, \"9\": 50, \"6\": 40, \"1\": 6, \"2\": 15, \"7\": 28, \"4\": 3, \"14\": 3, \"3\": 1, \"12\": 2}, \"4\": {\"4\": 81, \"14\": 70, \"15\": 30, \"5\": 31, \"7\": 2, \"9\": 5, \"11\": 2, \"8\": 6, \"13\": 9, \"0\": 4}, \"6\": {\"13\": 51, \"2\": 25, \"4\": 2, \"6\": 72, \"11\": 31, \"9\": 30, \"10\": 9, \"7\": 13, \"14\": 1, \"1\": 3, \"3\": 1, \"12\": 2}, \"0\": {\"0\": 75, \"15\": 45, \"5\": 51, \"14\": 17, \"8\": 48, \"4\": 4}, \"10\": {\"10\": 68, \"7\": 19, \"1\": 29, \"3\": 12, \"12\": 34, \"2\": 48, \"9\": 8, \"6\": 14, \"13\": 5, \"11\": 3}, \"7\": {\"7\": 39, \"1\": 20, \"6\": 26, \"3\": 8, \"2\": 39, \"12\": 13, \"9\": 38, \"13\": 29, \"10\": 18, \"11\": 10}, \"14\": {\"15\": 32, \"4\": 66, \"14\": 71, \"13\": 2, \"8\": 11, \"5\": 40, \"0\": 16, \"11\": 1, \"3\": 1}, \"15\": {\"15\": 64, \"8\": 34, \"5\": 43, \"14\": 35, \"0\": 50, \"4\": 12, \"3\": 2}, \"5\": {\"0\": 43, \"4\": 29, \"15\": 35, \"5\": 71, \"8\": 30, \"14\": 32}, \"2\": {\"10\": 44, \"12\": 20, \"2\": 43, \"1\": 33, \"6\": 16, \"7\": 37, \"9\": 24, \"3\": 8, \"13\": 13, \"11\": 2}, \"9\": {\"2\": 21, \"7\": 40, \"6\": 26, \"11\": 19, \"13\": 42, \"9\": 49, \"1\": 8, \"3\": 10, \"14\": 3, \"10\": 8, \"4\": 9, \"12\": 5}, \"12\": {\"3\": 35, \"1\": 51, \"10\": 33, \"12\": 83, \"7\": 13, \"2\": 14, \"9\": 7, \"6\": 2, \"4\": 1, \"13\": 1}, \"8\": {\"0\": 74, \"8\": 85, \"5\": 39, \"15\": 31, \"14\": 9, \"4\": 2}, \"3\": {\"12\": 41, \"7\": 15, \"3\": 87, \"1\": 61, \"10\": 9, \"2\": 13, \"14\": 1, \"9\": 9, \"4\": 2, \"13\": 2}, \"1\": {\"12\": 60, \"1\": 60, \"3\": 36, \"7\": 20, \"2\": 22, \"9\": 7, \"10\": 28, \"13\": 4, \"11\": 2, \"6\": 1}, \"11\": {\"10\": 13, \"9\": 32, \"11\": 79, \"6\": 48, \"12\": 3, \"2\": 9, \"13\": 29, \"7\": 23, \"3\": 1, \"1\": 1, \"4\": 2}}, \"O_14\": {\"1\": {\"5\": 29, \"1\": 58, \"14\": 11, \"4\": 41, \"7\": 28, \"13\": 6, \"6\": 4, \"0\": 6, \"3\": 28, \"10\": 10, \"8\": 5, \"2\": 7, \"15\": 7}, \"15\": {\"14\": 3, \"7\": 66, \"15\": 80, \"13\": 15, \"2\": 12, \"4\": 16, \"6\": 15, \"1\": 14, \"5\": 15, \"3\": 3, \"10\": 1}, \"10\": {\"10\": 53, \"14\": 16, \"9\": 10, \"0\": 46, \"3\": 30, \"2\": 8, \"11\": 10, \"4\": 25, \"5\": 15, \"1\": 9, \"6\": 9, \"13\": 6, \"7\": 1, \"8\": 2}, \"2\": {\"6\": 33, \"7\": 16, \"10\": 6, \"2\": 47, \"13\": 24, \"0\": 3, \"1\": 11, \"4\": 18, \"5\": 28, \"15\": 6, \"14\": 31, \"3\": 16, \"11\": 1}, \"9\": {\"9\": 93, \"10\": 14, \"8\": 15, \"12\": 44, \"11\": 43, \"0\": 25, \"3\": 3, \"4\": 1, \"7\": 1, \"5\": 1}, \"5\": {\"15\": 11, \"2\": 31, \"6\": 9, \"13\": 16, \"1\": 30, \"3\": 23, \"7\": 25, \"5\": 34, \"4\": 31, \"10\": 9, \"14\": 15, \"0\": 4, \"8\": 2}, \"7\": {\"7\": 71, \"5\": 16, \"6\": 13, \"1\": 38, \"15\": 32, \"2\": 11, \"14\": 7, \"4\": 18, \"13\": 20, \"3\": 7, \"0\": 2, \"10\": 3, \"8\": 2}, \"13\": {\"2\": 36, \"15\": 11, \"4\": 18, \"6\": 44, \"13\": 45, \"14\": 37, \"3\": 9, \"5\": 15, \"0\": 5, \"7\": 9, \"10\": 9, \"11\": 1, \"1\": 1}, \"8\": {\"8\": 125, \"9\": 26, \"14\": 1, \"0\": 17, \"11\": 10, \"1\": 23, \"10\": 5, \"4\": 13, \"7\": 6, \"5\": 3, \"15\": 1, \"3\": 9, \"2\": 1}, \"6\": {\"4\": 12, \"3\": 15, \"10\": 7, \"13\": 48, \"15\": 19, \"0\": 2, \"14\": 28, \"2\": 38, \"5\": 8, \"7\": 5, \"6\": 55, \"1\": 2, \"11\": 1}, \"3\": {\"10\": 22, \"4\": 31, \"14\": 25, \"5\": 29, \"0\": 28, \"6\": 13, \"3\": 23, \"11\": 4, \"2\": 19, \"15\": 3, \"1\": 16, \"13\": 14, \"7\": 8, \"8\": 3, \"9\": 2}, \"12\": {\"12\": 132, \"9\": 79, \"11\": 22, \"0\": 4, \"10\": 1, \"8\": 2}, \"0\": {\"4\": 17, \"11\": 39, \"10\": 36, \"3\": 31, \"0\": 62, \"5\": 6, \"14\": 9, \"8\": 7, \"9\": 16, \"1\": 6, \"13\": 2, \"6\": 4, \"2\": 2, \"7\": 3}, \"4\": {\"8\": 3, \"4\": 32, \"14\": 13, \"7\": 24, \"2\": 24, \"15\": 8, \"11\": 2, \"3\": 25, \"1\": 27, \"6\": 9, \"10\": 16, \"0\": 12, \"5\": 31, \"13\": 14}, \"14\": {\"11\": 3, \"14\": 41, \"2\": 46, \"0\": 8, \"6\": 36, \"13\": 32, \"5\": 23, \"9\": 1, \"3\": 18, \"10\": 13, \"1\": 3, \"15\": 2, \"4\": 11, \"7\": 3}, \"11\": {\"9\": 51, \"0\": 57, \"11\": 73, \"10\": 23, \"2\": 4, \"3\": 10, \"12\": 4, \"13\": 3, \"4\": 6, \"8\": 3, \"14\": 4, \"5\": 1, \"6\": 1}}}, \"per_domain_accuracy\": {\"C_2\": {\"accuracy\": 0.9998224431818182, \"source?\": true}, \"W_2\": {\"accuracy\": 0.9620535714285714, \"source?\": true}, \"C_5\": {\"accuracy\": 0.9987710674157303, \"source?\": true}, \"W_4\": {\"accuracy\": 0.9592335390946503, \"source?\": true}, \"C_1\": {\"accuracy\": 0.9994848901098901, \"source?\": true}, \"C_4\": {\"accuracy\": 0.999064371257485, \"source?\": true}, \"C_3\": {\"accuracy\": 1.0, \"source?\": true}, \"W_1\": {\"accuracy\": 0.9809840425531915, \"source?\": true}, \"W_3\": {\"accuracy\": 0.9811398678414097, \"source?\": true}, \"O_8\": {\"accuracy\": 0.22604166666666667, \"source?\": false}, \"O_38\": {\"accuracy\": 0.35, \"source?\": false}, \"O_26\": {\"accuracy\": 0.19166666666666668, \"source?\": false}, \"O_20\": {\"accuracy\": 0.14583333333333334, \"source?\": false}, \"O_50\": {\"accuracy\": 0.28411458333333334, \"source?\": false}, \"O_32\": {\"accuracy\": 0.3828125, \"source?\": false}, \"O_44\": {\"accuracy\": 0.2828125, \"source?\": false}, \"O_14\": {\"accuracy\": 0.26666666666666666, \"source?\": false}}}, \"history\": {\"epoch_indices\": [1, 2, 3, 4, 5, 6], \"train_label_loss\": [0.12305337930122509, 0.07036274134760813, 0.057128104434039303, 0.04721529167671121, 0.040813120329425044, 0.035058952032052886], \"source_val_label_loss\": [0.1083979383111, 0.07006122916936874, 0.06053685396909714, 0.062350306659936905, 0.05995261296629906, 0.05917526036500931], \"target_val_label_loss\": [2.3960282802581787, 2.224036693572998, 2.2962563037872314, 2.317192792892456, 2.5107762813568115, 2.5053763389587402], \"source_val_acc_label\": [0.976609796367639, 0.9844867914144194, 0.9861378646119978, 0.9858282883874518, 0.9867570170610898, 0.9867742157402312], \"target_val_acc_label\": [0.20810546875, 0.2662434895833333, 0.25185546875, 0.24215494791666667, 0.20953776041666666, 0.22408854166666667]}, \"dataset_metrics\": {\"source\": {\"train\": {\"n_unique_x\": 364154, \"n_unique_y\": 130, \"n_batch/episode\": 13157}, \"val\": {\"n_unique_x\": 77154, \"n_unique_y\": 130, \"n_batch/episode\": 1817}, \"test\": {\"n_unique_x\": 78411, \"n_unique_y\": 130, \"n_batch/episode\": 1853}}, \"target\": {\"train\": {\"n_unique_x\": 179200, \"n_unique_y\": 16, \"n_batch/episode\": 6720}, \"val\": {\"n_unique_x\": 38400, \"n_unique_y\": 16, \"n_batch/episode\": 960}, \"test\": {\"n_unique_x\": 38400, \"n_unique_y\": 16, \"n_batch/episode\": 960}}}}'"
      ]
     },
     "execution_count": 29,
     "metadata": {},
     "output_type": "execute_result"
    }
   ],
   "source": [
    "json.dumps(experiment)"
   ]
  }
 ],
 "metadata": {
  "celltoolbar": "Tags",
  "kernelspec": {
   "display_name": "Python 3 (ipykernel)",
   "language": "python",
   "name": "python3"
  },
  "language_info": {
   "codemirror_mode": {
    "name": "ipython",
    "version": 3
   },
   "file_extension": ".py",
   "mimetype": "text/x-python",
   "name": "python",
   "nbconvert_exporter": "python",
   "pygments_lexer": "ipython3",
   "version": "3.8.10"
  },
  "papermill": {
   "default_parameters": {},
   "duration": 3953.374943,
   "end_time": "2022-03-20T13:30:40.354248",
   "environment_variables": {},
   "exception": null,
   "input_path": "/mnt/wd500GB/CSC500/csc500-main/csc500-notebooks/templates/tl_ptn_template.ipynb",
   "output_path": "trial.ipynb",
   "parameters": {
    "parameters": {
     "BEST_MODEL_PATH": "./best_model.pth",
     "NUM_LOGS_PER_EPOCH": 10,
     "criteria_for_best": "target_accuracy",
     "dataset_seed": 154325,
     "datasets": [
      {
       "domain_prefix": "C_",
       "domains": [
        1,
        2,
        3,
        4,
        5
       ],
       "episode_transforms": [],
       "labels": [
        "1-10.",
        "1-11.",
        "1-15.",
        "1-16.",
        "1-17.",
        "1-18.",
        "1-19.",
        "10-4.",
        "10-7.",
        "11-1.",
        "11-14.",
        "11-17.",
        "11-20.",
        "11-7.",
        "13-20.",
        "13-8.",
        "14-10.",
        "14-11.",
        "14-14.",
        "14-7.",
        "15-1.",
        "15-20.",
        "16-1.",
        "16-16.",
        "17-10.",
        "17-11.",
        "17-2.",
        "19-1.",
        "19-16.",
        "19-19.",
        "19-20.",
        "19-3.",
        "2-10.",
        "2-11.",
        "2-17.",
        "2-18.",
        "2-20.",
        "2-3.",
        "2-4.",
        "2-5.",
        "2-6.",
        "2-7.",
        "2-8.",
        "3-13.",
        "3-18.",
        "3-3.",
        "4-1.",
        "4-10.",
        "4-11.",
        "4-19.",
        "5-5.",
        "6-15.",
        "7-10.",
        "7-14.",
        "8-18.",
        "8-20.",
        "8-3.",
        "8-8."
       ],
       "num_examples_per_domain_per_label": -1,
       "pickle_path": "/mnt/wd500GB/CSC500/csc500-main/datasets/cores.stratified_ds.2022A.pkl",
       "source_or_target_dataset": "source",
       "x_transforms": [
        "unit_power",
        "take_200"
       ]
      },
      {
       "domain_prefix": "W_",
       "domains": [
        1,
        2,
        3,
        4
       ],
       "episode_transforms": [],
       "labels": [
        "1-10",
        "1-12",
        "1-14",
        "1-16",
        "1-18",
        "1-19",
        "1-8",
        "10-11",
        "10-17",
        "10-4",
        "10-7",
        "11-1",
        "11-10",
        "11-19",
        "11-20",
        "11-4",
        "11-7",
        "12-19",
        "12-20",
        "12-7",
        "13-14",
        "13-18",
        "13-19",
        "13-20",
        "13-3",
        "13-7",
        "14-10",
        "14-11",
        "14-12",
        "14-13",
        "14-14",
        "14-19",
        "14-20",
        "14-7",
        "14-8",
        "14-9",
        "15-1",
        "15-19",
        "15-6",
        "16-1",
        "16-16",
        "16-19",
        "16-20",
        "17-10",
        "17-11",
        "18-1",
        "18-10",
        "18-11",
        "18-12",
        "18-13",
        "18-14",
        "18-15",
        "18-16",
        "18-17",
        "18-19",
        "18-2",
        "18-20",
        "18-4",
        "18-5",
        "18-7",
        "18-8",
        "18-9",
        "19-1",
        "19-10",
        "19-11",
        "19-12",
        "19-13",
        "19-14",
        "19-15",
        "19-19",
        "19-2",
        "19-20",
        "19-3",
        "19-4",
        "19-6",
        "19-7",
        "19-8",
        "19-9",
        "2-1",
        "2-13",
        "2-15",
        "2-3",
        "2-4",
        "2-5",
        "2-6",
        "2-7",
        "2-8",
        "20-1",
        "20-12",
        "20-14",
        "20-15",
        "20-16",
        "20-18",
        "20-19",
        "20-20",
        "20-3",
        "20-4",
        "20-5",
        "20-7",
        "20-8",
        "3-1",
        "3-13",
        "3-18",
        "3-2",
        "3-8",
        "4-1",
        "4-10",
        "4-11",
        "5-1",
        "5-5",
        "6-1",
        "6-15",
        "6-6",
        "7-10",
        "7-11",
        "7-12",
        "7-13",
        "7-14",
        "7-7",
        "7-8",
        "7-9",
        "8-1",
        "8-13",
        "8-14",
        "8-18",
        "8-20",
        "8-3",
        "8-8",
        "9-1",
        "9-7"
       ],
       "num_examples_per_domain_per_label": -1,
       "pickle_path": "/mnt/wd500GB/CSC500/csc500-main/datasets/wisig.node3-19.stratified_ds.2022A.pkl",
       "source_or_target_dataset": "source",
       "x_transforms": [
        "unit_power",
        "take_200"
       ]
      },
      {
       "domain_prefix": "O_",
       "domains": [
        32,
        38,
        8,
        44,
        14,
        50,
        20,
        26
       ],
       "episode_transforms": [],
       "labels": [
        "3123D52",
        "3123D65",
        "3123D79",
        "3123D80",
        "3123D54",
        "3123D70",
        "3123D7B",
        "3123D89",
        "3123D58",
        "3123D76",
        "3123D7D",
        "3123EFE",
        "3123D64",
        "3123D78",
        "3123D7E",
        "3124E4A"
       ],
       "num_examples_per_domain_per_label": 2000,
       "pickle_path": "/mnt/wd500GB/CSC500/csc500-main/datasets/oracle.Run1_framed_2000Examples_stratified_ds.2022A.pkl",
       "source_or_target_dataset": "target",
       "x_transforms": [
        "unit_power",
        "take_200",
        "resample_20Msps_to_25Msps"
       ]
      }
     ],
     "device": "cuda",
     "experiment_name": "tl_3Av2:cores+wisig -> oracle.run1.framed",
     "lr": 0.0001,
     "n_epoch": 50,
     "n_query": 2,
     "n_shot": 3,
     "n_way": 16,
     "patience": 3,
     "seed": 154325,
     "test_k_factor": 2,
     "torch_default_dtype": "torch.float32",
     "train_k_factor": 3,
     "val_k_factor": 2,
     "x_net": [
      {
       "class": "nnReshape",
       "kargs": {
        "shape": [
         -1,
         1,
         2,
         200
        ]
       }
      },
      {
       "class": "Conv2d",
       "kargs": {
        "bias": false,
        "in_channels": 1,
        "kernel_size": [
         1,
         7
        ],
        "out_channels": 256,
        "padding": [
         0,
         3
        ]
       }
      },
      {
       "class": "ReLU",
       "kargs": {
        "inplace": true
       }
      },
      {
       "class": "BatchNorm2d",
       "kargs": {
        "num_features": 256
       }
      },
      {
       "class": "Conv2d",
       "kargs": {
        "bias": true,
        "in_channels": 256,
        "kernel_size": [
         2,
         7
        ],
        "out_channels": 80,
        "padding": [
         0,
         3
        ]
       }
      },
      {
       "class": "ReLU",
       "kargs": {
        "inplace": true
       }
      },
      {
       "class": "BatchNorm2d",
       "kargs": {
        "num_features": 80
       }
      },
      {
       "class": "Flatten",
       "kargs": {}
      },
      {
       "class": "Linear",
       "kargs": {
        "in_features": 16000,
        "out_features": 256
       }
      },
      {
       "class": "ReLU",
       "kargs": {
        "inplace": true
       }
      },
      {
       "class": "BatchNorm1d",
       "kargs": {
        "num_features": 256
       }
      },
      {
       "class": "Linear",
       "kargs": {
        "in_features": 256,
        "out_features": 256
       }
      }
     ],
     "x_shape": [
      2,
      200
     ]
    }
   },
   "start_time": "2022-03-20T12:24:46.979305",
   "version": "2.3.4"
  }
 },
 "nbformat": 4,
 "nbformat_minor": 5
}