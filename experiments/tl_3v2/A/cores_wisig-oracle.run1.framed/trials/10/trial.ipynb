{
 "cells": [
  {
   "cell_type": "markdown",
   "id": "9fea5f46",
   "metadata": {
    "papermill": {
     "duration": 0.018426,
     "end_time": "2022-03-20T17:04:57.154422",
     "exception": false,
     "start_time": "2022-03-20T17:04:57.135996",
     "status": "completed"
    },
    "tags": []
   },
   "source": [
    "# Transfer Learning Template"
   ]
  },
  {
   "cell_type": "code",
   "execution_count": 1,
   "id": "0902182a",
   "metadata": {
    "execution": {
     "iopub.execute_input": "2022-03-20T17:04:57.192639Z",
     "iopub.status.busy": "2022-03-20T17:04:57.192371Z",
     "iopub.status.idle": "2022-03-20T17:04:58.110610Z",
     "shell.execute_reply": "2022-03-20T17:04:58.110101Z"
    },
    "papermill": {
     "duration": 0.943308,
     "end_time": "2022-03-20T17:04:58.110733",
     "exception": false,
     "start_time": "2022-03-20T17:04:57.167425",
     "status": "completed"
    },
    "tags": []
   },
   "outputs": [],
   "source": [
    "%load_ext autoreload\n",
    "%autoreload 2\n",
    "%matplotlib inline\n",
    "\n",
    "    \n",
    "import os, json, sys, time, random\n",
    "import numpy as np\n",
    "import torch\n",
    "from torch.optim import Adam\n",
    "from  easydict import EasyDict\n",
    "import matplotlib.pyplot as plt\n",
    "\n",
    "from steves_models.steves_ptn import Steves_Prototypical_Network\n",
    "\n",
    "from steves_utils.lazy_iterable_wrapper import Lazy_Iterable_Wrapper\n",
    "from steves_utils.iterable_aggregator import Iterable_Aggregator\n",
    "from steves_utils.ptn_train_eval_test_jig import  PTN_Train_Eval_Test_Jig\n",
    "from steves_utils.torch_sequential_builder import build_sequential\n",
    "from steves_utils.torch_utils import get_dataset_metrics, ptn_confusion_by_domain_over_dataloader\n",
    "from steves_utils.utils_v2 import (per_domain_accuracy_from_confusion, get_datasets_base_path)\n",
    "from steves_utils.PTN.utils import independent_accuracy_assesment\n",
    "\n",
    "from torch.utils.data import DataLoader\n",
    "\n",
    "from steves_utils.stratified_dataset.episodic_accessor import Episodic_Accessor_Factory\n",
    "\n",
    "from steves_utils.ptn_do_report import (\n",
    "    get_loss_curve,\n",
    "    get_results_table,\n",
    "    get_parameters_table,\n",
    "    get_domain_accuracies,\n",
    ")\n",
    "\n",
    "from steves_utils.transforms import get_chained_transform"
   ]
  },
  {
   "cell_type": "markdown",
   "id": "41c840b4",
   "metadata": {
    "papermill": {
     "duration": 0.013003,
     "end_time": "2022-03-20T17:04:58.142252",
     "exception": false,
     "start_time": "2022-03-20T17:04:58.129249",
     "status": "completed"
    },
    "tags": []
   },
   "source": [
    "# Allowed Parameters\n",
    "These are allowed parameters, not defaults\n",
    "Each of these values need to be present in the injected parameters (the notebook will raise an exception if they are not present)\n",
    "\n",
    "Papermill uses the cell tag \"parameters\" to inject the real parameters below this cell.\n",
    "Enable tags to see what I mean"
   ]
  },
  {
   "cell_type": "code",
   "execution_count": 2,
   "id": "fd44eb83",
   "metadata": {
    "execution": {
     "iopub.execute_input": "2022-03-20T17:04:58.170492Z",
     "iopub.status.busy": "2022-03-20T17:04:58.170222Z",
     "iopub.status.idle": "2022-03-20T17:04:58.181975Z",
     "shell.execute_reply": "2022-03-20T17:04:58.181598Z"
    },
    "papermill": {
     "duration": 0.026896,
     "end_time": "2022-03-20T17:04:58.182057",
     "exception": false,
     "start_time": "2022-03-20T17:04:58.155161",
     "status": "completed"
    },
    "tags": []
   },
   "outputs": [],
   "source": [
    "required_parameters = {\n",
    "    \"experiment_name\",\n",
    "    \"lr\",\n",
    "    \"device\",\n",
    "    \"seed\",\n",
    "    \"dataset_seed\",\n",
    "    \"n_shot\",\n",
    "    \"n_query\",\n",
    "    \"n_way\",\n",
    "    \"train_k_factor\",\n",
    "    \"val_k_factor\",\n",
    "    \"test_k_factor\",\n",
    "    \"n_epoch\",\n",
    "    \"patience\",\n",
    "    \"criteria_for_best\",\n",
    "    \"x_net\",\n",
    "    \"datasets\",\n",
    "    \"torch_default_dtype\",\n",
    "    \"NUM_LOGS_PER_EPOCH\",\n",
    "    \"BEST_MODEL_PATH\",\n",
    "    \"x_shape\",\n",
    "}"
   ]
  },
  {
   "cell_type": "code",
   "execution_count": 3,
   "id": "fa3f0049",
   "metadata": {
    "execution": {
     "iopub.execute_input": "2022-03-20T17:04:58.219269Z",
     "iopub.status.busy": "2022-03-20T17:04:58.213977Z",
     "iopub.status.idle": "2022-03-20T17:04:58.236737Z",
     "shell.execute_reply": "2022-03-20T17:04:58.236304Z"
    },
    "papermill": {
     "duration": 0.037556,
     "end_time": "2022-03-20T17:04:58.236841",
     "exception": false,
     "start_time": "2022-03-20T17:04:58.199285",
     "status": "completed"
    },
    "tags": [
     "parameters"
    ]
   },
   "outputs": [],
   "source": [
    "from steves_utils.CORES.utils import (\n",
    "    ALL_NODES,\n",
    "    ALL_NODES_MINIMUM_1000_EXAMPLES,\n",
    "    ALL_DAYS\n",
    ")\n",
    "\n",
    "from steves_utils.ORACLE.utils_v2 import (\n",
    "    ALL_DISTANCES_FEET_NARROWED,\n",
    "    ALL_RUNS,\n",
    "    ALL_SERIAL_NUMBERS,\n",
    ")\n",
    "\n",
    "standalone_parameters = {}\n",
    "standalone_parameters[\"experiment_name\"] = \"STANDALONE PTN\"\n",
    "standalone_parameters[\"lr\"] = 0.001\n",
    "standalone_parameters[\"device\"] = \"cuda\"\n",
    "\n",
    "standalone_parameters[\"seed\"] = 1337\n",
    "standalone_parameters[\"dataset_seed\"] = 1337\n",
    "\n",
    "standalone_parameters[\"n_way\"] = 8\n",
    "standalone_parameters[\"n_shot\"] = 3\n",
    "standalone_parameters[\"n_query\"]  = 2\n",
    "standalone_parameters[\"train_k_factor\"] = 1\n",
    "standalone_parameters[\"val_k_factor\"] = 2\n",
    "standalone_parameters[\"test_k_factor\"] = 2\n",
    "\n",
    "\n",
    "standalone_parameters[\"n_epoch\"] = 50\n",
    "\n",
    "standalone_parameters[\"patience\"] = 10\n",
    "standalone_parameters[\"criteria_for_best\"] = \"source_loss\"\n",
    "\n",
    "standalone_parameters[\"datasets\"] = [\n",
    "    {\n",
    "        \"labels\": ALL_SERIAL_NUMBERS,\n",
    "        \"domains\": ALL_DISTANCES_FEET_NARROWED,\n",
    "        \"num_examples_per_domain_per_label\": 100,\n",
    "        \"pickle_path\": os.path.join(get_datasets_base_path(), \"oracle.Run1_framed_2000Examples_stratified_ds.2022A.pkl\"),\n",
    "        \"source_or_target_dataset\": \"source\",\n",
    "        \"x_transforms\": [\"unit_mag\", \"minus_two\"],\n",
    "        \"episode_transforms\": [],\n",
    "        \"domain_prefix\": \"ORACLE_\"\n",
    "    },\n",
    "    {\n",
    "        \"labels\": ALL_NODES,\n",
    "        \"domains\": ALL_DAYS,\n",
    "        \"num_examples_per_domain_per_label\": 100,\n",
    "        \"pickle_path\": os.path.join(get_datasets_base_path(), \"cores.stratified_ds.2022A.pkl\"),\n",
    "        \"source_or_target_dataset\": \"target\",\n",
    "        \"x_transforms\": [\"unit_power\", \"times_zero\"],\n",
    "        \"episode_transforms\": [],\n",
    "        \"domain_prefix\": \"CORES_\"\n",
    "    }   \n",
    "]\n",
    "\n",
    "standalone_parameters[\"torch_default_dtype\"] = \"torch.float32\" \n",
    "\n",
    "\n",
    "\n",
    "standalone_parameters[\"x_net\"] =     [\n",
    "    {\"class\": \"nnReshape\", \"kargs\": {\"shape\":[-1, 1, 2, 256]}},\n",
    "    {\"class\": \"Conv2d\", \"kargs\": { \"in_channels\":1, \"out_channels\":256, \"kernel_size\":(1,7), \"bias\":False, \"padding\":(0,3), },},\n",
    "    {\"class\": \"ReLU\", \"kargs\": {\"inplace\": True}},\n",
    "    {\"class\": \"BatchNorm2d\", \"kargs\": {\"num_features\":256}},\n",
    "\n",
    "    {\"class\": \"Conv2d\", \"kargs\": { \"in_channels\":256, \"out_channels\":80, \"kernel_size\":(2,7), \"bias\":True, \"padding\":(0,3), },},\n",
    "    {\"class\": \"ReLU\", \"kargs\": {\"inplace\": True}},\n",
    "    {\"class\": \"BatchNorm2d\", \"kargs\": {\"num_features\":80}},\n",
    "    {\"class\": \"Flatten\", \"kargs\": {}},\n",
    "\n",
    "    {\"class\": \"Linear\", \"kargs\": {\"in_features\": 80*256, \"out_features\": 256}}, # 80 units per IQ pair\n",
    "    {\"class\": \"ReLU\", \"kargs\": {\"inplace\": True}},\n",
    "    {\"class\": \"BatchNorm1d\", \"kargs\": {\"num_features\":256}},\n",
    "\n",
    "    {\"class\": \"Linear\", \"kargs\": {\"in_features\": 256, \"out_features\": 256}},\n",
    "]\n",
    "\n",
    "# Parameters relevant to results\n",
    "# These parameters will basically never need to change\n",
    "standalone_parameters[\"NUM_LOGS_PER_EPOCH\"] = 10\n",
    "standalone_parameters[\"BEST_MODEL_PATH\"] = \"./best_model.pth\"\n",
    "\n",
    "\n",
    "\n",
    "\n"
   ]
  },
  {
   "cell_type": "code",
   "execution_count": 4,
   "id": "023947ee",
   "metadata": {
    "execution": {
     "iopub.execute_input": "2022-03-20T17:04:58.275869Z",
     "iopub.status.busy": "2022-03-20T17:04:58.270293Z",
     "iopub.status.idle": "2022-03-20T17:04:58.297124Z",
     "shell.execute_reply": "2022-03-20T17:04:58.296690Z"
    },
    "papermill": {
     "duration": 0.041588,
     "end_time": "2022-03-20T17:04:58.297224",
     "exception": false,
     "start_time": "2022-03-20T17:04:58.255636",
     "status": "completed"
    },
    "tags": [
     "injected-parameters"
    ]
   },
   "outputs": [],
   "source": [
    "# Parameters\n",
    "parameters = {\n",
    "    \"experiment_name\": \"tl_3Av2:cores+wisig -> oracle.run1.framed\",\n",
    "    \"device\": \"cuda\",\n",
    "    \"lr\": 0.0001,\n",
    "    \"x_shape\": [2, 200],\n",
    "    \"n_shot\": 3,\n",
    "    \"n_query\": 2,\n",
    "    \"train_k_factor\": 3,\n",
    "    \"val_k_factor\": 2,\n",
    "    \"test_k_factor\": 2,\n",
    "    \"torch_default_dtype\": \"torch.float32\",\n",
    "    \"n_epoch\": 50,\n",
    "    \"patience\": 3,\n",
    "    \"criteria_for_best\": \"target_accuracy\",\n",
    "    \"x_net\": [\n",
    "        {\"class\": \"nnReshape\", \"kargs\": {\"shape\": [-1, 1, 2, 200]}},\n",
    "        {\n",
    "            \"class\": \"Conv2d\",\n",
    "            \"kargs\": {\n",
    "                \"in_channels\": 1,\n",
    "                \"out_channels\": 256,\n",
    "                \"kernel_size\": [1, 7],\n",
    "                \"bias\": False,\n",
    "                \"padding\": [0, 3],\n",
    "            },\n",
    "        },\n",
    "        {\"class\": \"ReLU\", \"kargs\": {\"inplace\": True}},\n",
    "        {\"class\": \"BatchNorm2d\", \"kargs\": {\"num_features\": 256}},\n",
    "        {\n",
    "            \"class\": \"Conv2d\",\n",
    "            \"kargs\": {\n",
    "                \"in_channels\": 256,\n",
    "                \"out_channels\": 80,\n",
    "                \"kernel_size\": [2, 7],\n",
    "                \"bias\": True,\n",
    "                \"padding\": [0, 3],\n",
    "            },\n",
    "        },\n",
    "        {\"class\": \"ReLU\", \"kargs\": {\"inplace\": True}},\n",
    "        {\"class\": \"BatchNorm2d\", \"kargs\": {\"num_features\": 80}},\n",
    "        {\"class\": \"Flatten\", \"kargs\": {}},\n",
    "        {\"class\": \"Linear\", \"kargs\": {\"in_features\": 16000, \"out_features\": 256}},\n",
    "        {\"class\": \"ReLU\", \"kargs\": {\"inplace\": True}},\n",
    "        {\"class\": \"BatchNorm1d\", \"kargs\": {\"num_features\": 256}},\n",
    "        {\"class\": \"Linear\", \"kargs\": {\"in_features\": 256, \"out_features\": 256}},\n",
    "    ],\n",
    "    \"NUM_LOGS_PER_EPOCH\": 10,\n",
    "    \"BEST_MODEL_PATH\": \"./best_model.pth\",\n",
    "    \"n_way\": 16,\n",
    "    \"datasets\": [\n",
    "        {\n",
    "            \"labels\": [\n",
    "                \"1-10.\",\n",
    "                \"1-11.\",\n",
    "                \"1-15.\",\n",
    "                \"1-16.\",\n",
    "                \"1-17.\",\n",
    "                \"1-18.\",\n",
    "                \"1-19.\",\n",
    "                \"10-4.\",\n",
    "                \"10-7.\",\n",
    "                \"11-1.\",\n",
    "                \"11-14.\",\n",
    "                \"11-17.\",\n",
    "                \"11-20.\",\n",
    "                \"11-7.\",\n",
    "                \"13-20.\",\n",
    "                \"13-8.\",\n",
    "                \"14-10.\",\n",
    "                \"14-11.\",\n",
    "                \"14-14.\",\n",
    "                \"14-7.\",\n",
    "                \"15-1.\",\n",
    "                \"15-20.\",\n",
    "                \"16-1.\",\n",
    "                \"16-16.\",\n",
    "                \"17-10.\",\n",
    "                \"17-11.\",\n",
    "                \"17-2.\",\n",
    "                \"19-1.\",\n",
    "                \"19-16.\",\n",
    "                \"19-19.\",\n",
    "                \"19-20.\",\n",
    "                \"19-3.\",\n",
    "                \"2-10.\",\n",
    "                \"2-11.\",\n",
    "                \"2-17.\",\n",
    "                \"2-18.\",\n",
    "                \"2-20.\",\n",
    "                \"2-3.\",\n",
    "                \"2-4.\",\n",
    "                \"2-5.\",\n",
    "                \"2-6.\",\n",
    "                \"2-7.\",\n",
    "                \"2-8.\",\n",
    "                \"3-13.\",\n",
    "                \"3-18.\",\n",
    "                \"3-3.\",\n",
    "                \"4-1.\",\n",
    "                \"4-10.\",\n",
    "                \"4-11.\",\n",
    "                \"4-19.\",\n",
    "                \"5-5.\",\n",
    "                \"6-15.\",\n",
    "                \"7-10.\",\n",
    "                \"7-14.\",\n",
    "                \"8-18.\",\n",
    "                \"8-20.\",\n",
    "                \"8-3.\",\n",
    "                \"8-8.\",\n",
    "            ],\n",
    "            \"domains\": [1, 2, 3, 4, 5],\n",
    "            \"num_examples_per_domain_per_label\": -1,\n",
    "            \"pickle_path\": \"/mnt/wd500GB/CSC500/csc500-main/datasets/cores.stratified_ds.2022A.pkl\",\n",
    "            \"source_or_target_dataset\": \"source\",\n",
    "            \"x_transforms\": [\"unit_mag\", \"take_200\"],\n",
    "            \"episode_transforms\": [],\n",
    "            \"domain_prefix\": \"C_\",\n",
    "        },\n",
    "        {\n",
    "            \"labels\": [\n",
    "                \"1-10\",\n",
    "                \"1-12\",\n",
    "                \"1-14\",\n",
    "                \"1-16\",\n",
    "                \"1-18\",\n",
    "                \"1-19\",\n",
    "                \"1-8\",\n",
    "                \"10-11\",\n",
    "                \"10-17\",\n",
    "                \"10-4\",\n",
    "                \"10-7\",\n",
    "                \"11-1\",\n",
    "                \"11-10\",\n",
    "                \"11-19\",\n",
    "                \"11-20\",\n",
    "                \"11-4\",\n",
    "                \"11-7\",\n",
    "                \"12-19\",\n",
    "                \"12-20\",\n",
    "                \"12-7\",\n",
    "                \"13-14\",\n",
    "                \"13-18\",\n",
    "                \"13-19\",\n",
    "                \"13-20\",\n",
    "                \"13-3\",\n",
    "                \"13-7\",\n",
    "                \"14-10\",\n",
    "                \"14-11\",\n",
    "                \"14-12\",\n",
    "                \"14-13\",\n",
    "                \"14-14\",\n",
    "                \"14-19\",\n",
    "                \"14-20\",\n",
    "                \"14-7\",\n",
    "                \"14-8\",\n",
    "                \"14-9\",\n",
    "                \"15-1\",\n",
    "                \"15-19\",\n",
    "                \"15-6\",\n",
    "                \"16-1\",\n",
    "                \"16-16\",\n",
    "                \"16-19\",\n",
    "                \"16-20\",\n",
    "                \"17-10\",\n",
    "                \"17-11\",\n",
    "                \"18-1\",\n",
    "                \"18-10\",\n",
    "                \"18-11\",\n",
    "                \"18-12\",\n",
    "                \"18-13\",\n",
    "                \"18-14\",\n",
    "                \"18-15\",\n",
    "                \"18-16\",\n",
    "                \"18-17\",\n",
    "                \"18-19\",\n",
    "                \"18-2\",\n",
    "                \"18-20\",\n",
    "                \"18-4\",\n",
    "                \"18-5\",\n",
    "                \"18-7\",\n",
    "                \"18-8\",\n",
    "                \"18-9\",\n",
    "                \"19-1\",\n",
    "                \"19-10\",\n",
    "                \"19-11\",\n",
    "                \"19-12\",\n",
    "                \"19-13\",\n",
    "                \"19-14\",\n",
    "                \"19-15\",\n",
    "                \"19-19\",\n",
    "                \"19-2\",\n",
    "                \"19-20\",\n",
    "                \"19-3\",\n",
    "                \"19-4\",\n",
    "                \"19-6\",\n",
    "                \"19-7\",\n",
    "                \"19-8\",\n",
    "                \"19-9\",\n",
    "                \"2-1\",\n",
    "                \"2-13\",\n",
    "                \"2-15\",\n",
    "                \"2-3\",\n",
    "                \"2-4\",\n",
    "                \"2-5\",\n",
    "                \"2-6\",\n",
    "                \"2-7\",\n",
    "                \"2-8\",\n",
    "                \"20-1\",\n",
    "                \"20-12\",\n",
    "                \"20-14\",\n",
    "                \"20-15\",\n",
    "                \"20-16\",\n",
    "                \"20-18\",\n",
    "                \"20-19\",\n",
    "                \"20-20\",\n",
    "                \"20-3\",\n",
    "                \"20-4\",\n",
    "                \"20-5\",\n",
    "                \"20-7\",\n",
    "                \"20-8\",\n",
    "                \"3-1\",\n",
    "                \"3-13\",\n",
    "                \"3-18\",\n",
    "                \"3-2\",\n",
    "                \"3-8\",\n",
    "                \"4-1\",\n",
    "                \"4-10\",\n",
    "                \"4-11\",\n",
    "                \"5-1\",\n",
    "                \"5-5\",\n",
    "                \"6-1\",\n",
    "                \"6-15\",\n",
    "                \"6-6\",\n",
    "                \"7-10\",\n",
    "                \"7-11\",\n",
    "                \"7-12\",\n",
    "                \"7-13\",\n",
    "                \"7-14\",\n",
    "                \"7-7\",\n",
    "                \"7-8\",\n",
    "                \"7-9\",\n",
    "                \"8-1\",\n",
    "                \"8-13\",\n",
    "                \"8-14\",\n",
    "                \"8-18\",\n",
    "                \"8-20\",\n",
    "                \"8-3\",\n",
    "                \"8-8\",\n",
    "                \"9-1\",\n",
    "                \"9-7\",\n",
    "            ],\n",
    "            \"domains\": [1, 2, 3, 4],\n",
    "            \"num_examples_per_domain_per_label\": -1,\n",
    "            \"pickle_path\": \"/mnt/wd500GB/CSC500/csc500-main/datasets/wisig.node3-19.stratified_ds.2022A.pkl\",\n",
    "            \"source_or_target_dataset\": \"source\",\n",
    "            \"x_transforms\": [\"unit_mag\", \"take_200\"],\n",
    "            \"episode_transforms\": [],\n",
    "            \"domain_prefix\": \"W_\",\n",
    "        },\n",
    "        {\n",
    "            \"labels\": [\n",
    "                \"3123D52\",\n",
    "                \"3123D65\",\n",
    "                \"3123D79\",\n",
    "                \"3123D80\",\n",
    "                \"3123D54\",\n",
    "                \"3123D70\",\n",
    "                \"3123D7B\",\n",
    "                \"3123D89\",\n",
    "                \"3123D58\",\n",
    "                \"3123D76\",\n",
    "                \"3123D7D\",\n",
    "                \"3123EFE\",\n",
    "                \"3123D64\",\n",
    "                \"3123D78\",\n",
    "                \"3123D7E\",\n",
    "                \"3124E4A\",\n",
    "            ],\n",
    "            \"domains\": [32, 38, 8, 44, 14, 50, 20, 26],\n",
    "            \"num_examples_per_domain_per_label\": 2000,\n",
    "            \"pickle_path\": \"/mnt/wd500GB/CSC500/csc500-main/datasets/oracle.Run1_framed_2000Examples_stratified_ds.2022A.pkl\",\n",
    "            \"source_or_target_dataset\": \"target\",\n",
    "            \"x_transforms\": [\"unit_mag\", \"take_200\", \"resample_20Msps_to_25Msps\"],\n",
    "            \"episode_transforms\": [],\n",
    "            \"domain_prefix\": \"O_\",\n",
    "        },\n",
    "    ],\n",
    "    \"seed\": 7,\n",
    "    \"dataset_seed\": 7,\n",
    "}\n"
   ]
  },
  {
   "cell_type": "code",
   "execution_count": 5,
   "id": "8fa1cc33",
   "metadata": {
    "execution": {
     "iopub.execute_input": "2022-03-20T17:04:58.333486Z",
     "iopub.status.busy": "2022-03-20T17:04:58.333206Z",
     "iopub.status.idle": "2022-03-20T17:04:58.347988Z",
     "shell.execute_reply": "2022-03-20T17:04:58.347761Z"
    },
    "papermill": {
     "duration": 0.032263,
     "end_time": "2022-03-20T17:04:58.348044",
     "exception": false,
     "start_time": "2022-03-20T17:04:58.315781",
     "status": "completed"
    },
    "tags": []
   },
   "outputs": [],
   "source": [
    "# Set this to True if you want to run this template directly\n",
    "STANDALONE = False\n",
    "if STANDALONE:\n",
    "    print(\"parameters not injected, running with standalone_parameters\")\n",
    "    parameters = standalone_parameters\n",
    "\n",
    "if not 'parameters' in locals() and not 'parameters' in globals():\n",
    "    raise Exception(\"Parameter injection failed\")\n",
    "\n",
    "#Use an easy dict for all the parameters\n",
    "p = EasyDict(parameters)\n",
    "\n",
    "if \"x_shape\" not in p:\n",
    "    p.x_shape = [2,256] # Default to this if we dont supply x_shape\n",
    "\n",
    "\n",
    "supplied_keys = set(p.keys())\n",
    "\n",
    "if  supplied_keys != required_parameters:\n",
    "    print(\"Parameters are incorrect\")\n",
    "    if len(supplied_keys - required_parameters)>0: print(\"Shouldn't have:\", str(supplied_keys - required_parameters))\n",
    "    if len(required_parameters - supplied_keys)>0: print(\"Need to have:\", str(required_parameters - supplied_keys))\n",
    "    raise RuntimeError(\"Parameters are incorrect\")"
   ]
  },
  {
   "cell_type": "code",
   "execution_count": 6,
   "id": "3a028d58",
   "metadata": {
    "execution": {
     "iopub.execute_input": "2022-03-20T17:04:58.376453Z",
     "iopub.status.busy": "2022-03-20T17:04:58.376201Z",
     "iopub.status.idle": "2022-03-20T17:04:58.387650Z",
     "shell.execute_reply": "2022-03-20T17:04:58.387393Z"
    },
    "papermill": {
     "duration": 0.026362,
     "end_time": "2022-03-20T17:04:58.387708",
     "exception": false,
     "start_time": "2022-03-20T17:04:58.361346",
     "status": "completed"
    },
    "tags": []
   },
   "outputs": [],
   "source": [
    "###################################\n",
    "# Set the RNGs and make it all deterministic\n",
    "###################################\n",
    "np.random.seed(p.seed)\n",
    "random.seed(p.seed)\n",
    "torch.manual_seed(p.seed)\n",
    "\n",
    "torch.use_deterministic_algorithms(True) "
   ]
  },
  {
   "cell_type": "code",
   "execution_count": 7,
   "id": "b691acf6",
   "metadata": {
    "execution": {
     "iopub.execute_input": "2022-03-20T17:04:58.416388Z",
     "iopub.status.busy": "2022-03-20T17:04:58.416132Z",
     "iopub.status.idle": "2022-03-20T17:04:58.429130Z",
     "shell.execute_reply": "2022-03-20T17:04:58.428869Z"
    },
    "papermill": {
     "duration": 0.028246,
     "end_time": "2022-03-20T17:04:58.429187",
     "exception": false,
     "start_time": "2022-03-20T17:04:58.400941",
     "status": "completed"
    },
    "tags": []
   },
   "outputs": [],
   "source": [
    "###########################################\n",
    "# The stratified datasets honor this\n",
    "###########################################\n",
    "torch.set_default_dtype(eval(p.torch_default_dtype))"
   ]
  },
  {
   "cell_type": "code",
   "execution_count": 8,
   "id": "b5fba671",
   "metadata": {
    "execution": {
     "iopub.execute_input": "2022-03-20T17:04:58.459162Z",
     "iopub.status.busy": "2022-03-20T17:04:58.458906Z",
     "iopub.status.idle": "2022-03-20T17:04:58.491448Z",
     "shell.execute_reply": "2022-03-20T17:04:58.490980Z"
    },
    "papermill": {
     "duration": 0.047492,
     "end_time": "2022-03-20T17:04:58.491555",
     "exception": false,
     "start_time": "2022-03-20T17:04:58.444063",
     "status": "completed"
    },
    "tags": []
   },
   "outputs": [],
   "source": [
    "###################################\n",
    "# Build the network(s)\n",
    "# Note: It's critical to do this AFTER setting the RNG\n",
    "###################################\n",
    "x_net = build_sequential(p.x_net)"
   ]
  },
  {
   "cell_type": "code",
   "execution_count": 9,
   "id": "5d7e61cc",
   "metadata": {
    "execution": {
     "iopub.execute_input": "2022-03-20T17:04:58.526650Z",
     "iopub.status.busy": "2022-03-20T17:04:58.526198Z",
     "iopub.status.idle": "2022-03-20T17:04:58.542765Z",
     "shell.execute_reply": "2022-03-20T17:04:58.542341Z"
    },
    "papermill": {
     "duration": 0.032377,
     "end_time": "2022-03-20T17:04:58.542865",
     "exception": false,
     "start_time": "2022-03-20T17:04:58.510488",
     "status": "completed"
    },
    "tags": []
   },
   "outputs": [],
   "source": [
    "start_time_secs = time.time()"
   ]
  },
  {
   "cell_type": "code",
   "execution_count": 10,
   "id": "c6b67dfd",
   "metadata": {
    "execution": {
     "iopub.execute_input": "2022-03-20T17:04:58.576830Z",
     "iopub.status.busy": "2022-03-20T17:04:58.576578Z",
     "iopub.status.idle": "2022-03-20T17:04:58.588074Z",
     "shell.execute_reply": "2022-03-20T17:04:58.587749Z"
    },
    "papermill": {
     "duration": 0.027124,
     "end_time": "2022-03-20T17:04:58.588151",
     "exception": false,
     "start_time": "2022-03-20T17:04:58.561027",
     "status": "completed"
    },
    "tags": []
   },
   "outputs": [],
   "source": [
    "p.domains_source = []\n",
    "p.domains_target = []\n",
    "\n",
    "\n",
    "train_original_source = []\n",
    "val_original_source   = []\n",
    "test_original_source  = []\n",
    "\n",
    "train_original_target = []\n",
    "val_original_target   = []\n",
    "test_original_target  = []"
   ]
  },
  {
   "cell_type": "code",
   "execution_count": 11,
   "id": "e3d9c3d3",
   "metadata": {
    "execution": {
     "iopub.execute_input": "2022-03-20T17:04:58.623012Z",
     "iopub.status.busy": "2022-03-20T17:04:58.622729Z",
     "iopub.status.idle": "2022-03-20T17:04:58.638337Z",
     "shell.execute_reply": "2022-03-20T17:04:58.637918Z"
    },
    "papermill": {
     "duration": 0.031231,
     "end_time": "2022-03-20T17:04:58.638434",
     "exception": false,
     "start_time": "2022-03-20T17:04:58.607203",
     "status": "completed"
    },
    "tags": []
   },
   "outputs": [],
   "source": [
    "# global_x_transform_func = lambda x: normalize(x.to(torch.get_default_dtype()), \"unit_power\") # unit_power, unit_mag\n",
    "# global_x_transform_func = lambda x: normalize(x, \"unit_power\") # unit_power, unit_mag"
   ]
  },
  {
   "cell_type": "code",
   "execution_count": 12,
   "id": "acb78fd2",
   "metadata": {
    "execution": {
     "iopub.execute_input": "2022-03-20T17:04:58.678026Z",
     "iopub.status.busy": "2022-03-20T17:04:58.677217Z",
     "iopub.status.idle": "2022-03-20T17:04:58.690929Z",
     "shell.execute_reply": "2022-03-20T17:04:58.691331Z"
    },
    "papermill": {
     "duration": 0.034575,
     "end_time": "2022-03-20T17:04:58.691456",
     "exception": false,
     "start_time": "2022-03-20T17:04:58.656881",
     "status": "completed"
    },
    "tags": []
   },
   "outputs": [],
   "source": [
    "def add_dataset(\n",
    "    labels,\n",
    "    domains,\n",
    "    pickle_path,\n",
    "    x_transforms,\n",
    "    episode_transforms,\n",
    "    domain_prefix,\n",
    "    num_examples_per_domain_per_label,\n",
    "    source_or_target_dataset:str,\n",
    "    iterator_seed=p.seed,\n",
    "    dataset_seed=p.dataset_seed,\n",
    "    n_shot=p.n_shot,\n",
    "    n_way=p.n_way,\n",
    "    n_query=p.n_query,\n",
    "    train_val_test_k_factors=(p.train_k_factor,p.val_k_factor,p.test_k_factor),\n",
    "):\n",
    "   \n",
    "    if x_transforms == []: x_transform = None\n",
    "    else: x_transform = get_chained_transform(x_transforms)\n",
    "    \n",
    "    if episode_transforms == []: episode_transform = None\n",
    "    else: raise Exception(\"episode_transforms not implemented\")\n",
    "    \n",
    "    episode_transform = lambda tup, _prefix=domain_prefix: (_prefix + str(tup[0]), tup[1])\n",
    "\n",
    "\n",
    "    eaf = Episodic_Accessor_Factory(\n",
    "        labels=labels,\n",
    "        domains=domains,\n",
    "        num_examples_per_domain_per_label=num_examples_per_domain_per_label,\n",
    "        iterator_seed=iterator_seed,\n",
    "        dataset_seed=dataset_seed,\n",
    "        n_shot=n_shot,\n",
    "        n_way=n_way,\n",
    "        n_query=n_query,\n",
    "        train_val_test_k_factors=train_val_test_k_factors,\n",
    "        pickle_path=pickle_path,\n",
    "        x_transform_func=x_transform,\n",
    "    )\n",
    "\n",
    "    train, val, test = eaf.get_train(), eaf.get_val(), eaf.get_test()\n",
    "    train = Lazy_Iterable_Wrapper(train, episode_transform)\n",
    "    val = Lazy_Iterable_Wrapper(val, episode_transform)\n",
    "    test = Lazy_Iterable_Wrapper(test, episode_transform)\n",
    "\n",
    "    if source_or_target_dataset==\"source\":\n",
    "        train_original_source.append(train)\n",
    "        val_original_source.append(val)\n",
    "        test_original_source.append(test)\n",
    "\n",
    "        p.domains_source.extend(\n",
    "            [domain_prefix + str(u) for u in domains]\n",
    "        )\n",
    "    elif source_or_target_dataset==\"target\":\n",
    "        train_original_target.append(train)\n",
    "        val_original_target.append(val)\n",
    "        test_original_target.append(test)\n",
    "        p.domains_target.extend(\n",
    "            [domain_prefix + str(u) for u in domains]\n",
    "        )\n",
    "    else:\n",
    "        raise Exception(f\"invalid source_or_target_dataset: {source_or_target_dataset}\")\n",
    "    "
   ]
  },
  {
   "cell_type": "code",
   "execution_count": 13,
   "id": "fe266617",
   "metadata": {
    "execution": {
     "iopub.execute_input": "2022-03-20T17:04:58.729634Z",
     "iopub.status.busy": "2022-03-20T17:04:58.728945Z",
     "iopub.status.idle": "2022-03-20T17:06:06.033577Z",
     "shell.execute_reply": "2022-03-20T17:06:06.033089Z"
    },
    "papermill": {
     "duration": 67.32092,
     "end_time": "2022-03-20T17:06:06.033685",
     "exception": false,
     "start_time": "2022-03-20T17:04:58.712765",
     "status": "completed"
    },
    "tags": []
   },
   "outputs": [],
   "source": [
    "for ds in p.datasets:\n",
    "    add_dataset(**ds)"
   ]
  },
  {
   "cell_type": "code",
   "execution_count": 14,
   "id": "b90d65ac",
   "metadata": {
    "execution": {
     "iopub.execute_input": "2022-03-20T17:06:06.071845Z",
     "iopub.status.busy": "2022-03-20T17:06:06.068372Z",
     "iopub.status.idle": "2022-03-20T17:06:06.083681Z",
     "shell.execute_reply": "2022-03-20T17:06:06.083256Z"
    },
    "papermill": {
     "duration": 0.031164,
     "end_time": "2022-03-20T17:06:06.083782",
     "exception": false,
     "start_time": "2022-03-20T17:06:06.052618",
     "status": "completed"
    },
    "tags": []
   },
   "outputs": [],
   "source": [
    "# from steves_utils.CORES.utils import (\n",
    "#     ALL_NODES,\n",
    "#     ALL_NODES_MINIMUM_1000_EXAMPLES,\n",
    "#     ALL_DAYS\n",
    "# )\n",
    "\n",
    "# add_dataset(\n",
    "#     labels=ALL_NODES,\n",
    "#     domains = ALL_DAYS,\n",
    "#     num_examples_per_domain_per_label=100,\n",
    "#     pickle_path=os.path.join(get_datasets_base_path(), \"cores.stratified_ds.2022A.pkl\"),\n",
    "#     source_or_target_dataset=\"target\",\n",
    "#     x_transform_func=global_x_transform_func,\n",
    "#     domain_modifier=lambda u: f\"cores_{u}\"\n",
    "# )"
   ]
  },
  {
   "cell_type": "code",
   "execution_count": 15,
   "id": "76db484d",
   "metadata": {
    "execution": {
     "iopub.execute_input": "2022-03-20T17:06:06.127833Z",
     "iopub.status.busy": "2022-03-20T17:06:06.124801Z",
     "iopub.status.idle": "2022-03-20T17:06:06.134304Z",
     "shell.execute_reply": "2022-03-20T17:06:06.134696Z"
    },
    "papermill": {
     "duration": 0.031333,
     "end_time": "2022-03-20T17:06:06.134815",
     "exception": false,
     "start_time": "2022-03-20T17:06:06.103482",
     "status": "completed"
    },
    "tags": []
   },
   "outputs": [],
   "source": [
    "# from steves_utils.ORACLE.utils_v2 import (\n",
    "#     ALL_DISTANCES_FEET,\n",
    "#     ALL_RUNS,\n",
    "#     ALL_SERIAL_NUMBERS,\n",
    "# )\n",
    "\n",
    "\n",
    "# add_dataset(\n",
    "#     labels=ALL_SERIAL_NUMBERS,\n",
    "#     domains = list(set(ALL_DISTANCES_FEET) - {2,62}),\n",
    "#     num_examples_per_domain_per_label=100,\n",
    "#     pickle_path=os.path.join(get_datasets_base_path(), \"oracle.Run2_framed_2000Examples_stratified_ds.2022A.pkl\"),\n",
    "#     source_or_target_dataset=\"source\",\n",
    "#     x_transform_func=global_x_transform_func,\n",
    "#     domain_modifier=lambda u: f\"oracle1_{u}\"\n",
    "# )\n"
   ]
  },
  {
   "cell_type": "code",
   "execution_count": 16,
   "id": "97dea9d2",
   "metadata": {
    "execution": {
     "iopub.execute_input": "2022-03-20T17:06:06.169602Z",
     "iopub.status.busy": "2022-03-20T17:06:06.169348Z",
     "iopub.status.idle": "2022-03-20T17:06:06.183548Z",
     "shell.execute_reply": "2022-03-20T17:06:06.183142Z"
    },
    "papermill": {
     "duration": 0.030043,
     "end_time": "2022-03-20T17:06:06.183646",
     "exception": false,
     "start_time": "2022-03-20T17:06:06.153603",
     "status": "completed"
    },
    "tags": []
   },
   "outputs": [],
   "source": [
    "# from steves_utils.ORACLE.utils_v2 import (\n",
    "#     ALL_DISTANCES_FEET,\n",
    "#     ALL_RUNS,\n",
    "#     ALL_SERIAL_NUMBERS,\n",
    "# )\n",
    "\n",
    "\n",
    "# add_dataset(\n",
    "#     labels=ALL_SERIAL_NUMBERS,\n",
    "#     domains = list(set(ALL_DISTANCES_FEET) - {2,62,56}),\n",
    "#     num_examples_per_domain_per_label=100,\n",
    "#     pickle_path=os.path.join(get_datasets_base_path(), \"oracle.Run2_framed_2000Examples_stratified_ds.2022A.pkl\"),\n",
    "#     source_or_target_dataset=\"source\",\n",
    "#     x_transform_func=global_x_transform_func,\n",
    "#     domain_modifier=lambda u: f\"oracle2_{u}\"\n",
    "# )"
   ]
  },
  {
   "cell_type": "code",
   "execution_count": 17,
   "id": "6f289866",
   "metadata": {
    "execution": {
     "iopub.execute_input": "2022-03-20T17:06:06.218386Z",
     "iopub.status.busy": "2022-03-20T17:06:06.218138Z",
     "iopub.status.idle": "2022-03-20T17:06:06.232768Z",
     "shell.execute_reply": "2022-03-20T17:06:06.232381Z"
    },
    "papermill": {
     "duration": 0.03014,
     "end_time": "2022-03-20T17:06:06.232857",
     "exception": false,
     "start_time": "2022-03-20T17:06:06.202717",
     "status": "completed"
    },
    "tags": []
   },
   "outputs": [],
   "source": [
    "# add_dataset(\n",
    "#     labels=list(range(19)),\n",
    "#     domains = [0,1,2],\n",
    "#     num_examples_per_domain_per_label=100,\n",
    "#     pickle_path=os.path.join(get_datasets_base_path(), \"metehan.stratified_ds.2022A.pkl\"),\n",
    "#     source_or_target_dataset=\"target\",\n",
    "#     x_transform_func=global_x_transform_func,\n",
    "#     domain_modifier=lambda u: f\"met_{u}\"\n",
    "# )"
   ]
  },
  {
   "cell_type": "code",
   "execution_count": 18,
   "id": "86a863c3",
   "metadata": {
    "execution": {
     "iopub.execute_input": "2022-03-20T17:06:06.267563Z",
     "iopub.status.busy": "2022-03-20T17:06:06.267310Z",
     "iopub.status.idle": "2022-03-20T17:06:06.280905Z",
     "shell.execute_reply": "2022-03-20T17:06:06.281264Z"
    },
    "papermill": {
     "duration": 0.029767,
     "end_time": "2022-03-20T17:06:06.281369",
     "exception": false,
     "start_time": "2022-03-20T17:06:06.251602",
     "status": "completed"
    },
    "tags": []
   },
   "outputs": [],
   "source": [
    "# # from steves_utils.wisig.utils import (\n",
    "# #     ALL_NODES_MINIMUM_100_EXAMPLES,\n",
    "# #     ALL_NODES_MINIMUM_500_EXAMPLES,\n",
    "# #     ALL_NODES_MINIMUM_1000_EXAMPLES,\n",
    "# #     ALL_DAYS\n",
    "# # )\n",
    "\n",
    "# import steves_utils.wisig.utils as wisig\n",
    "\n",
    "\n",
    "# add_dataset(\n",
    "#     labels=wisig.ALL_NODES_MINIMUM_100_EXAMPLES,\n",
    "#     domains = wisig.ALL_DAYS,\n",
    "#     num_examples_per_domain_per_label=100,\n",
    "#     pickle_path=os.path.join(get_datasets_base_path(), \"wisig.node3-19.stratified_ds.2022A.pkl\"),\n",
    "#     source_or_target_dataset=\"target\",\n",
    "#     x_transform_func=global_x_transform_func,\n",
    "#     domain_modifier=lambda u: f\"wisig_{u}\"\n",
    "# )"
   ]
  },
  {
   "cell_type": "code",
   "execution_count": 19,
   "id": "fd5442bc",
   "metadata": {
    "execution": {
     "iopub.execute_input": "2022-03-20T17:06:06.317857Z",
     "iopub.status.busy": "2022-03-20T17:06:06.317591Z",
     "iopub.status.idle": "2022-03-20T17:06:06.332801Z",
     "shell.execute_reply": "2022-03-20T17:06:06.332317Z"
    },
    "papermill": {
     "duration": 0.034685,
     "end_time": "2022-03-20T17:06:06.332917",
     "exception": false,
     "start_time": "2022-03-20T17:06:06.298232",
     "status": "completed"
    },
    "tags": []
   },
   "outputs": [],
   "source": [
    "###################################\n",
    "# Build the dataset\n",
    "###################################\n",
    "train_original_source = Iterable_Aggregator(train_original_source, p.seed)\n",
    "val_original_source = Iterable_Aggregator(val_original_source, p.seed)\n",
    "test_original_source = Iterable_Aggregator(test_original_source, p.seed)\n",
    "\n",
    "\n",
    "train_original_target = Iterable_Aggregator(train_original_target, p.seed)\n",
    "val_original_target = Iterable_Aggregator(val_original_target, p.seed)\n",
    "test_original_target = Iterable_Aggregator(test_original_target, p.seed)\n",
    "\n",
    "# For CNN We only use X and Y. And we only train on the source.\n",
    "# Properly form the data using a transform lambda and Lazy_Iterable_Wrapper. Finally wrap them in a dataloader\n",
    "\n",
    "transform_lambda = lambda ex: ex[1] # Original is (<domain>, <episode>) so we strip down to episode only\n",
    "\n",
    "train_processed_source = Lazy_Iterable_Wrapper(train_original_source, transform_lambda)\n",
    "val_processed_source   = Lazy_Iterable_Wrapper(val_original_source, transform_lambda)\n",
    "test_processed_source  = Lazy_Iterable_Wrapper(test_original_source, transform_lambda)\n",
    "\n",
    "train_processed_target = Lazy_Iterable_Wrapper(train_original_target, transform_lambda)\n",
    "val_processed_target   = Lazy_Iterable_Wrapper(val_original_target, transform_lambda)\n",
    "test_processed_target  = Lazy_Iterable_Wrapper(test_original_target, transform_lambda)\n",
    "\n",
    "datasets = EasyDict({\n",
    "    \"source\": {\n",
    "        \"original\": {\"train\":train_original_source, \"val\":val_original_source, \"test\":test_original_source},\n",
    "        \"processed\": {\"train\":train_processed_source, \"val\":val_processed_source, \"test\":test_processed_source}\n",
    "    },\n",
    "    \"target\": {\n",
    "        \"original\": {\"train\":train_original_target, \"val\":val_original_target, \"test\":test_original_target},\n",
    "        \"processed\": {\"train\":train_processed_target, \"val\":val_processed_target, \"test\":test_processed_target}\n",
    "    },\n",
    "})"
   ]
  },
  {
   "cell_type": "code",
   "execution_count": 20,
   "id": "5b3c01fc",
   "metadata": {
    "execution": {
     "iopub.execute_input": "2022-03-20T17:06:06.367810Z",
     "iopub.status.busy": "2022-03-20T17:06:06.367553Z",
     "iopub.status.idle": "2022-03-20T17:06:15.247257Z",
     "shell.execute_reply": "2022-03-20T17:06:15.247531Z"
    },
    "papermill": {
     "duration": 8.897104,
     "end_time": "2022-03-20T17:06:15.247616",
     "exception": false,
     "start_time": "2022-03-20T17:06:06.350512",
     "status": "completed"
    },
    "tags": []
   },
   "outputs": [
    {
     "name": "stdout",
     "output_type": "stream",
     "text": [
      "{'W_3', 'W_2', 'W_1', 'C_3', 'C_5', 'C_4', 'W_4', 'C_2', 'C_1'}\n"
     ]
    },
    {
     "name": "stdout",
     "output_type": "stream",
     "text": [
      "{'O_50', 'O_26', 'O_38', 'O_20', 'O_8', 'O_32', 'O_14', 'O_44'}\n"
     ]
    },
    {
     "name": "stdout",
     "output_type": "stream",
     "text": [
      "tensor([[[-0.4150,  0.5691,  1.1778,  ..., -0.9239,  0.8205,  0.8834],\n",
      "         [-0.4873, -1.0582,  0.2660,  ..., -1.4869, -1.1159,  0.5295]],\n",
      "\n",
      "        [[-0.3789,  0.7921,  1.2096,  ..., -0.3198,  1.1650,  0.5692],\n",
      "         [-0.9207, -0.9070,  0.5924,  ..., -1.4796, -0.9807,  0.6798]],\n",
      "\n",
      "        [[-0.6024,  0.8488,  1.0242,  ..., -0.5074,  0.7709, -0.4509],\n",
      "         [-0.8026, -1.0781,  0.4381,  ..., -1.1406, -0.5716, -0.5664]],\n",
      "\n",
      "        ...,\n",
      "\n",
      "        [[-0.2063,  1.1892,  1.8216,  ...,  0.6156,  1.2328,  0.0688],\n",
      "         [-0.2868, -1.2144, -0.3992,  ..., -1.9843, -0.7129, -0.4864]],\n",
      "\n",
      "        [[-0.6631,  1.1788,  1.9499,  ...,  1.5340,  1.6388,  0.7433],\n",
      "         [-0.1375, -0.2521,  0.5288,  ..., -1.1477, -0.3684,  0.5894]],\n",
      "\n",
      "        [[ 0.3947, -0.0894, -1.4237,  ..., -0.2244, -1.1690, -0.9936],\n",
      "         [-0.1518,  0.9531,  1.0864,  ...,  1.4221,  1.6430,  0.6815]]])\n"
     ]
    }
   ],
   "source": [
    "from steves_utils.transforms import get_average_magnitude, get_average_power\n",
    "\n",
    "print(set([u for u,_ in val_original_source]))\n",
    "print(set([u for u,_ in val_original_target]))\n",
    "\n",
    "s_x, s_y, q_x, q_y, _ = next(iter(train_processed_source))\n",
    "print(s_x)\n",
    "\n",
    "# for ds in [\n",
    "#     train_processed_source,\n",
    "#     val_processed_source,\n",
    "#     test_processed_source,\n",
    "#     train_processed_target,\n",
    "#     val_processed_target,\n",
    "#     test_processed_target\n",
    "# ]:\n",
    "#     for s_x, s_y, q_x, q_y, _ in ds:\n",
    "#         for X in (s_x, q_x):\n",
    "#             for x in X:\n",
    "#                 assert np.isclose(get_average_magnitude(x.numpy()), 1.0)\n",
    "#                 assert np.isclose(get_average_power(x.numpy()), 1.0)\n",
    "                "
   ]
  },
  {
   "cell_type": "code",
   "execution_count": 21,
   "id": "bbdacba1",
   "metadata": {
    "execution": {
     "iopub.execute_input": "2022-03-20T17:06:15.282998Z",
     "iopub.status.busy": "2022-03-20T17:06:15.282735Z",
     "iopub.status.idle": "2022-03-20T17:06:15.339164Z",
     "shell.execute_reply": "2022-03-20T17:06:15.338716Z"
    },
    "papermill": {
     "duration": 0.07572,
     "end_time": "2022-03-20T17:06:15.339294",
     "exception": false,
     "start_time": "2022-03-20T17:06:15.263574",
     "status": "completed"
    },
    "tags": []
   },
   "outputs": [
    {
     "name": "stdout",
     "output_type": "stream",
     "text": [
      "(2, 200)\n"
     ]
    }
   ],
   "source": [
    "###################################\n",
    "# Build the model\n",
    "###################################\n",
    "# easfsl only wants a tuple for the shape\n",
    "model = Steves_Prototypical_Network(x_net, device=p.device, x_shape=tuple(p.x_shape))\n",
    "optimizer = Adam(params=model.parameters(), lr=p.lr)"
   ]
  },
  {
   "cell_type": "code",
   "execution_count": 22,
   "id": "22b39ac5",
   "metadata": {
    "execution": {
     "iopub.execute_input": "2022-03-20T17:06:15.380332Z",
     "iopub.status.busy": "2022-03-20T17:06:15.375993Z",
     "iopub.status.idle": "2022-03-20T17:38:03.349003Z",
     "shell.execute_reply": "2022-03-20T17:38:03.348770Z"
    },
    "papermill": {
     "duration": 1907.990548,
     "end_time": "2022-03-20T17:38:03.349062",
     "exception": false,
     "start_time": "2022-03-20T17:06:15.358514",
     "status": "completed"
    },
    "tags": []
   },
   "outputs": [
    {
     "name": "stdout",
     "output_type": "stream",
     "text": [
      "epoch: 1, [batch: 1 / 13150], examples_per_second: 23.5183, train_label_loss: 2.5883, \n"
     ]
    },
    {
     "name": "stdout",
     "output_type": "stream",
     "text": [
      "epoch: 1, [batch: 1315 / 13150], examples_per_second: 3576.2291, train_label_loss: 0.0366, \n"
     ]
    },
    {
     "name": "stdout",
     "output_type": "stream",
     "text": [
      "epoch: 1, [batch: 2630 / 13150], examples_per_second: 3465.3247, train_label_loss: 0.0418, \n"
     ]
    },
    {
     "name": "stdout",
     "output_type": "stream",
     "text": [
      "epoch: 1, [batch: 3945 / 13150], examples_per_second: 3553.9540, train_label_loss: 0.0328, \n"
     ]
    },
    {
     "name": "stdout",
     "output_type": "stream",
     "text": [
      "epoch: 1, [batch: 5260 / 13150], examples_per_second: 3562.5525, train_label_loss: 0.2580, \n"
     ]
    },
    {
     "name": "stdout",
     "output_type": "stream",
     "text": [
      "epoch: 1, [batch: 6575 / 13150], examples_per_second: 3578.2552, train_label_loss: 0.0112, \n"
     ]
    },
    {
     "name": "stdout",
     "output_type": "stream",
     "text": [
      "epoch: 1, [batch: 7890 / 13150], examples_per_second: 3576.9451, train_label_loss: 0.2888, \n"
     ]
    },
    {
     "name": "stdout",
     "output_type": "stream",
     "text": [
      "epoch: 1, [batch: 9205 / 13150], examples_per_second: 3562.5523, train_label_loss: 0.0158, \n"
     ]
    },
    {
     "name": "stdout",
     "output_type": "stream",
     "text": [
      "epoch: 1, [batch: 10520 / 13150], examples_per_second: 3560.2431, train_label_loss: 0.4304, \n"
     ]
    },
    {
     "name": "stdout",
     "output_type": "stream",
     "text": [
      "epoch: 1, [batch: 11835 / 13150], examples_per_second: 3570.0414, train_label_loss: 0.0012, \n"
     ]
    },
    {
     "name": "stdout",
     "output_type": "stream",
     "text": [
      "=============================================================\n",
      "epoch: 1, source_val_acc_label: 0.9766, target_val_acc_label: 0.2381, source_val_label_loss: 0.1073, target_val_label_loss: 2.3360, \n",
      "=============================================================\n"
     ]
    },
    {
     "name": "stdout",
     "output_type": "stream",
     "text": [
      "New best\n"
     ]
    },
    {
     "name": "stdout",
     "output_type": "stream",
     "text": [
      "epoch: 2, [batch: 1 / 13146], examples_per_second: 2.8918, train_label_loss: 0.0763, \n"
     ]
    },
    {
     "name": "stdout",
     "output_type": "stream",
     "text": [
      "epoch: 2, [batch: 1315 / 13146], examples_per_second: 3551.5612, train_label_loss: 0.1631, \n"
     ]
    },
    {
     "name": "stdout",
     "output_type": "stream",
     "text": [
      "epoch: 2, [batch: 2630 / 13146], examples_per_second: 3574.5635, train_label_loss: 0.1302, \n"
     ]
    },
    {
     "name": "stdout",
     "output_type": "stream",
     "text": [
      "epoch: 2, [batch: 3944 / 13146], examples_per_second: 3535.0400, train_label_loss: 0.0026, \n"
     ]
    },
    {
     "name": "stdout",
     "output_type": "stream",
     "text": [
      "epoch: 2, [batch: 5259 / 13146], examples_per_second: 3603.6361, train_label_loss: 0.0122, \n"
     ]
    },
    {
     "name": "stdout",
     "output_type": "stream",
     "text": [
      "epoch: 2, [batch: 6573 / 13146], examples_per_second: 3617.9483, train_label_loss: 0.0006, \n"
     ]
    },
    {
     "name": "stdout",
     "output_type": "stream",
     "text": [
      "epoch: 2, [batch: 7888 / 13146], examples_per_second: 3617.6602, train_label_loss: 0.0005, \n"
     ]
    },
    {
     "name": "stdout",
     "output_type": "stream",
     "text": [
      "epoch: 2, [batch: 9202 / 13146], examples_per_second: 3608.9262, train_label_loss: 0.0012, \n"
     ]
    },
    {
     "name": "stdout",
     "output_type": "stream",
     "text": [
      "epoch: 2, [batch: 10517 / 13146], examples_per_second: 3616.1833, train_label_loss: 0.0813, \n"
     ]
    },
    {
     "name": "stdout",
     "output_type": "stream",
     "text": [
      "epoch: 2, [batch: 11831 / 13146], examples_per_second: 3611.9788, train_label_loss: 0.2599, \n"
     ]
    },
    {
     "name": "stdout",
     "output_type": "stream",
     "text": [
      "=============================================================\n",
      "epoch: 2, source_val_acc_label: 0.9826, target_val_acc_label: 0.2921, source_val_label_loss: 0.0788, target_val_label_loss: 2.1582, \n",
      "=============================================================\n"
     ]
    },
    {
     "name": "stdout",
     "output_type": "stream",
     "text": [
      "New best\n"
     ]
    },
    {
     "name": "stdout",
     "output_type": "stream",
     "text": [
      "epoch: 3, [batch: 1 / 13172], examples_per_second: 2.9213, train_label_loss: 0.0371, \n"
     ]
    },
    {
     "name": "stdout",
     "output_type": "stream",
     "text": [
      "epoch: 3, [batch: 1318 / 13172], examples_per_second: 3595.1004, train_label_loss: 0.0018, \n"
     ]
    },
    {
     "name": "stdout",
     "output_type": "stream",
     "text": [
      "epoch: 3, [batch: 2635 / 13172], examples_per_second: 3626.4187, train_label_loss: 0.0012, \n"
     ]
    },
    {
     "name": "stdout",
     "output_type": "stream",
     "text": [
      "epoch: 3, [batch: 3952 / 13172], examples_per_second: 3608.5123, train_label_loss: 0.0370, \n"
     ]
    },
    {
     "name": "stdout",
     "output_type": "stream",
     "text": [
      "epoch: 3, [batch: 5269 / 13172], examples_per_second: 3606.0257, train_label_loss: 0.0034, \n"
     ]
    },
    {
     "name": "stdout",
     "output_type": "stream",
     "text": [
      "epoch: 3, [batch: 6586 / 13172], examples_per_second: 3603.4243, train_label_loss: 0.0030, \n"
     ]
    },
    {
     "name": "stdout",
     "output_type": "stream",
     "text": [
      "epoch: 3, [batch: 7903 / 13172], examples_per_second: 3603.9530, train_label_loss: 0.0011, \n"
     ]
    },
    {
     "name": "stdout",
     "output_type": "stream",
     "text": [
      "epoch: 3, [batch: 9220 / 13172], examples_per_second: 3582.1663, train_label_loss: 0.1981, \n"
     ]
    },
    {
     "name": "stdout",
     "output_type": "stream",
     "text": [
      "epoch: 3, [batch: 10537 / 13172], examples_per_second: 3628.2410, train_label_loss: 0.0003, \n"
     ]
    },
    {
     "name": "stdout",
     "output_type": "stream",
     "text": [
      "epoch: 3, [batch: 11854 / 13172], examples_per_second: 3625.7929, train_label_loss: 0.0007, \n"
     ]
    },
    {
     "name": "stdout",
     "output_type": "stream",
     "text": [
      "=============================================================\n",
      "epoch: 3, source_val_acc_label: 0.9851, target_val_acc_label: 0.2510, source_val_label_loss: 0.0668, target_val_label_loss: 2.3054, \n",
      "=============================================================\n"
     ]
    },
    {
     "name": "stdout",
     "output_type": "stream",
     "text": [
      "epoch: 4, [batch: 1 / 13145], examples_per_second: 2.9216, train_label_loss: 0.0149, \n"
     ]
    },
    {
     "name": "stdout",
     "output_type": "stream",
     "text": [
      "epoch: 4, [batch: 1315 / 13145], examples_per_second: 3591.0344, train_label_loss: 0.0006, \n"
     ]
    },
    {
     "name": "stdout",
     "output_type": "stream",
     "text": [
      "epoch: 4, [batch: 2629 / 13145], examples_per_second: 3604.5620, train_label_loss: 0.0001, \n"
     ]
    },
    {
     "name": "stdout",
     "output_type": "stream",
     "text": [
      "epoch: 4, [batch: 3944 / 13145], examples_per_second: 3627.5508, train_label_loss: 0.0030, \n"
     ]
    },
    {
     "name": "stdout",
     "output_type": "stream",
     "text": [
      "epoch: 4, [batch: 5258 / 13145], examples_per_second: 3615.3208, train_label_loss: 0.0164, \n"
     ]
    },
    {
     "name": "stdout",
     "output_type": "stream",
     "text": [
      "epoch: 4, [batch: 6573 / 13145], examples_per_second: 3623.0121, train_label_loss: 0.0068, \n"
     ]
    },
    {
     "name": "stdout",
     "output_type": "stream",
     "text": [
      "epoch: 4, [batch: 7887 / 13145], examples_per_second: 3634.7699, train_label_loss: 0.0009, \n"
     ]
    },
    {
     "name": "stdout",
     "output_type": "stream",
     "text": [
      "epoch: 4, [batch: 9201 / 13145], examples_per_second: 3613.5311, train_label_loss: 0.0002, \n"
     ]
    },
    {
     "name": "stdout",
     "output_type": "stream",
     "text": [
      "epoch: 4, [batch: 10516 / 13145], examples_per_second: 3622.4514, train_label_loss: 0.0002, \n"
     ]
    },
    {
     "name": "stdout",
     "output_type": "stream",
     "text": [
      "epoch: 4, [batch: 11830 / 13145], examples_per_second: 3618.7332, train_label_loss: 0.0002, \n"
     ]
    },
    {
     "name": "stdout",
     "output_type": "stream",
     "text": [
      "=============================================================\n",
      "epoch: 4, source_val_acc_label: 0.9857, target_val_acc_label: 0.2536, source_val_label_loss: 0.0635, target_val_label_loss: 2.2507, \n",
      "=============================================================\n"
     ]
    },
    {
     "name": "stdout",
     "output_type": "stream",
     "text": [
      "epoch: 5, [batch: 1 / 13163], examples_per_second: 2.9319, train_label_loss: 0.0003, \n"
     ]
    },
    {
     "name": "stdout",
     "output_type": "stream",
     "text": [
      "epoch: 5, [batch: 1317 / 13163], examples_per_second: 3592.0788, train_label_loss: 0.1506, \n"
     ]
    },
    {
     "name": "stdout",
     "output_type": "stream",
     "text": [
      "epoch: 5, [batch: 2633 / 13163], examples_per_second: 3599.6593, train_label_loss: 0.0395, \n"
     ]
    },
    {
     "name": "stdout",
     "output_type": "stream",
     "text": [
      "epoch: 5, [batch: 3949 / 13163], examples_per_second: 3628.5445, train_label_loss: 0.0003, \n"
     ]
    },
    {
     "name": "stdout",
     "output_type": "stream",
     "text": [
      "epoch: 5, [batch: 5265 / 13163], examples_per_second: 3614.3471, train_label_loss: 0.2216, \n"
     ]
    },
    {
     "name": "stdout",
     "output_type": "stream",
     "text": [
      "epoch: 5, [batch: 6582 / 13163], examples_per_second: 3621.3696, train_label_loss: 0.2027, \n"
     ]
    },
    {
     "name": "stdout",
     "output_type": "stream",
     "text": [
      "epoch: 5, [batch: 7898 / 13163], examples_per_second: 3623.2947, train_label_loss: 0.0074, \n"
     ]
    },
    {
     "name": "stdout",
     "output_type": "stream",
     "text": [
      "epoch: 5, [batch: 9214 / 13163], examples_per_second: 3615.0291, train_label_loss: 0.0445, \n"
     ]
    },
    {
     "name": "stdout",
     "output_type": "stream",
     "text": [
      "epoch: 5, [batch: 10530 / 13163], examples_per_second: 3607.2302, train_label_loss: 0.0006, \n"
     ]
    },
    {
     "name": "stdout",
     "output_type": "stream",
     "text": [
      "epoch: 5, [batch: 11846 / 13163], examples_per_second: 3621.7492, train_label_loss: 0.0003, \n"
     ]
    },
    {
     "name": "stdout",
     "output_type": "stream",
     "text": [
      "=============================================================\n",
      "epoch: 5, source_val_acc_label: 0.9852, target_val_acc_label: 0.2358, source_val_label_loss: 0.0656, target_val_label_loss: 2.3042, \n",
      "=============================================================\n"
     ]
    },
    {
     "name": "stdout",
     "output_type": "stream",
     "text": [
      "epoch: 6, [batch: 1 / 13152], examples_per_second: 2.9208, train_label_loss: 0.0576, \n"
     ]
    },
    {
     "name": "stdout",
     "output_type": "stream",
     "text": [
      "epoch: 6, [batch: 1316 / 13152], examples_per_second: 3578.2810, train_label_loss: 0.0016, \n"
     ]
    },
    {
     "name": "stdout",
     "output_type": "stream",
     "text": [
      "epoch: 6, [batch: 2631 / 13152], examples_per_second: 3605.7668, train_label_loss: 0.0053, \n"
     ]
    },
    {
     "name": "stdout",
     "output_type": "stream",
     "text": [
      "epoch: 6, [batch: 3946 / 13152], examples_per_second: 3623.8957, train_label_loss: 0.0002, \n"
     ]
    },
    {
     "name": "stdout",
     "output_type": "stream",
     "text": [
      "epoch: 6, [batch: 5261 / 13152], examples_per_second: 3610.7467, train_label_loss: 0.0589, \n"
     ]
    },
    {
     "name": "stdout",
     "output_type": "stream",
     "text": [
      "epoch: 6, [batch: 6576 / 13152], examples_per_second: 3622.6646, train_label_loss: 0.0075, \n"
     ]
    },
    {
     "name": "stdout",
     "output_type": "stream",
     "text": [
      "epoch: 6, [batch: 7891 / 13152], examples_per_second: 3619.1856, train_label_loss: 0.0001, \n"
     ]
    },
    {
     "name": "stdout",
     "output_type": "stream",
     "text": [
      "epoch: 6, [batch: 9206 / 13152], examples_per_second: 3600.1095, train_label_loss: 0.0004, \n"
     ]
    },
    {
     "name": "stdout",
     "output_type": "stream",
     "text": [
      "epoch: 6, [batch: 10521 / 13152], examples_per_second: 3591.7728, train_label_loss: 0.0389, \n"
     ]
    },
    {
     "name": "stdout",
     "output_type": "stream",
     "text": [
      "epoch: 6, [batch: 11836 / 13152], examples_per_second: 3631.0170, train_label_loss: 0.0000, \n"
     ]
    },
    {
     "name": "stdout",
     "output_type": "stream",
     "text": [
      "=============================================================\n",
      "epoch: 6, source_val_acc_label: 0.9856, target_val_acc_label: 0.2207, source_val_label_loss: 0.0639, target_val_label_loss: 2.6037, \n",
      "=============================================================\n"
     ]
    },
    {
     "name": "stdout",
     "output_type": "stream",
     "text": [
      "Patience (3) exhausted\n"
     ]
    }
   ],
   "source": [
    "###################################\n",
    "# train\n",
    "###################################\n",
    "jig = PTN_Train_Eval_Test_Jig(model, p.BEST_MODEL_PATH, p.device)\n",
    "\n",
    "jig.train(\n",
    "    train_iterable=datasets.source.processed.train,\n",
    "    source_val_iterable=datasets.source.processed.val,\n",
    "    target_val_iterable=datasets.target.processed.val,\n",
    "    num_epochs=p.n_epoch,\n",
    "    num_logs_per_epoch=p.NUM_LOGS_PER_EPOCH,\n",
    "    patience=p.patience,\n",
    "    optimizer=optimizer,\n",
    "    criteria_for_best=p.criteria_for_best,\n",
    ")"
   ]
  },
  {
   "cell_type": "code",
   "execution_count": 23,
   "id": "31e8fabf",
   "metadata": {
    "execution": {
     "iopub.execute_input": "2022-03-20T17:38:03.405493Z",
     "iopub.status.busy": "2022-03-20T17:38:03.405243Z",
     "iopub.status.idle": "2022-03-20T17:38:03.422795Z",
     "shell.execute_reply": "2022-03-20T17:38:03.423149Z"
    },
    "papermill": {
     "duration": 0.047661,
     "end_time": "2022-03-20T17:38:03.423264",
     "exception": false,
     "start_time": "2022-03-20T17:38:03.375603",
     "status": "completed"
    },
    "tags": []
   },
   "outputs": [],
   "source": [
    "total_experiment_time_secs = time.time() - start_time_secs"
   ]
  },
  {
   "cell_type": "code",
   "execution_count": 24,
   "id": "87b9595b",
   "metadata": {
    "execution": {
     "iopub.execute_input": "2022-03-20T17:38:03.488197Z",
     "iopub.status.busy": "2022-03-20T17:38:03.487818Z",
     "iopub.status.idle": "2022-03-20T17:40:25.258446Z",
     "shell.execute_reply": "2022-03-20T17:40:25.258855Z"
    },
    "papermill": {
     "duration": 141.803197,
     "end_time": "2022-03-20T17:40:25.258999",
     "exception": false,
     "start_time": "2022-03-20T17:38:03.455802",
     "status": "completed"
    },
    "tags": []
   },
   "outputs": [],
   "source": [
    "###################################\n",
    "# Evaluate the model\n",
    "###################################\n",
    "source_test_label_accuracy, source_test_label_loss = jig.test(datasets.source.processed.test)\n",
    "target_test_label_accuracy, target_test_label_loss = jig.test(datasets.target.processed.test)\n",
    "\n",
    "source_val_label_accuracy, source_val_label_loss = jig.test(datasets.source.processed.val)\n",
    "target_val_label_accuracy, target_val_label_loss = jig.test(datasets.target.processed.val)\n",
    "\n",
    "history = jig.get_history()\n",
    "\n",
    "total_epochs_trained = len(history[\"epoch_indices\"])\n",
    "\n",
    "val_dl = Iterable_Aggregator((datasets.source.original.val,datasets.target.original.val))\n",
    "\n",
    "confusion = ptn_confusion_by_domain_over_dataloader(model, p.device, val_dl)\n",
    "per_domain_accuracy = per_domain_accuracy_from_confusion(confusion)\n",
    "\n",
    "# Add a key to per_domain_accuracy for if it was a source domain\n",
    "for domain, accuracy in per_domain_accuracy.items():\n",
    "    per_domain_accuracy[domain] = {\n",
    "        \"accuracy\": accuracy,\n",
    "        \"source?\": domain in p.domains_source\n",
    "    }\n",
    "\n",
    "# Do an independent accuracy assesment JUST TO BE SURE!\n",
    "# _source_test_label_accuracy = independent_accuracy_assesment(model, datasets.source.processed.test, p.device)\n",
    "# _target_test_label_accuracy = independent_accuracy_assesment(model, datasets.target.processed.test, p.device)\n",
    "# _source_val_label_accuracy = independent_accuracy_assesment(model, datasets.source.processed.val, p.device)\n",
    "# _target_val_label_accuracy = independent_accuracy_assesment(model, datasets.target.processed.val, p.device)\n",
    "\n",
    "# assert(_source_test_label_accuracy == source_test_label_accuracy)\n",
    "# assert(_target_test_label_accuracy == target_test_label_accuracy)\n",
    "# assert(_source_val_label_accuracy == source_val_label_accuracy)\n",
    "# assert(_target_val_label_accuracy == target_val_label_accuracy)\n",
    "\n",
    "experiment = {\n",
    "    \"experiment_name\": p.experiment_name,\n",
    "    \"parameters\": dict(p),\n",
    "    \"results\": {\n",
    "        \"source_test_label_accuracy\": source_test_label_accuracy,\n",
    "        \"source_test_label_loss\": source_test_label_loss,\n",
    "        \"target_test_label_accuracy\": target_test_label_accuracy,\n",
    "        \"target_test_label_loss\": target_test_label_loss,\n",
    "        \"source_val_label_accuracy\": source_val_label_accuracy,\n",
    "        \"source_val_label_loss\": source_val_label_loss,\n",
    "        \"target_val_label_accuracy\": target_val_label_accuracy,\n",
    "        \"target_val_label_loss\": target_val_label_loss,\n",
    "        \"total_epochs_trained\": total_epochs_trained,\n",
    "        \"total_experiment_time_secs\": total_experiment_time_secs,\n",
    "        \"confusion\": confusion,\n",
    "        \"per_domain_accuracy\": per_domain_accuracy,\n",
    "    },\n",
    "    \"history\": history,\n",
    "    \"dataset_metrics\": get_dataset_metrics(datasets, \"ptn\"),\n",
    "}"
   ]
  },
  {
   "cell_type": "code",
   "execution_count": 25,
   "id": "54a21829",
   "metadata": {
    "execution": {
     "iopub.execute_input": "2022-03-20T17:40:25.320438Z",
     "iopub.status.busy": "2022-03-20T17:40:25.319938Z",
     "iopub.status.idle": "2022-03-20T17:40:25.440268Z",
     "shell.execute_reply": "2022-03-20T17:40:25.440024Z"
    },
    "papermill": {
     "duration": 0.149228,
     "end_time": "2022-03-20T17:40:25.440331",
     "exception": false,
     "start_time": "2022-03-20T17:40:25.291103",
     "status": "completed"
    },
    "tags": []
   },
   "outputs": [
    {
     "data": {
      "image/png": "[encoded data removed]",
      "text/plain": [
       "<Figure size 1080x504 with 1 Axes>"
      ]
     },
     "metadata": {
      "needs_background": "light"
     },
     "output_type": "display_data"
    }
   ],
   "source": [
    "ax = get_loss_curve(experiment)\n",
    "plt.show()"
   ]
  },
  {
   "cell_type": "code",
   "execution_count": 26,
   "id": "fd8a0f60",
   "metadata": {
    "execution": {
     "iopub.execute_input": "2022-03-20T17:40:25.500012Z",
     "iopub.status.busy": "2022-03-20T17:40:25.499611Z",
     "iopub.status.idle": "2022-03-20T17:40:25.639697Z",
     "shell.execute_reply": "2022-03-20T17:40:25.639921Z"
    },
    "papermill": {
     "duration": 0.170433,
     "end_time": "2022-03-20T17:40:25.640003",
     "exception": false,
     "start_time": "2022-03-20T17:40:25.469570",
     "status": "completed"
    },
    "tags": []
   },
   "outputs": [
    {
     "data": {
      "text/plain": [
       "<AxesSubplot:title={'center':'Results'}>"
      ]
     },
     "execution_count": 26,
     "metadata": {},
     "output_type": "execute_result"
    },
    {
     "data": {
      "image/png": "[encoded data removed]",
      "text/plain": [
       "<Figure size 1080x504 with 1 Axes>"
      ]
     },
     "metadata": {
      "needs_background": "light"
     },
     "output_type": "display_data"
    }
   ],
   "source": [
    "get_results_table(experiment)"
   ]
  },
  {
   "cell_type": "code",
   "execution_count": 27,
   "id": "cf8dc689",
   "metadata": {
    "execution": {
     "iopub.execute_input": "2022-03-20T17:40:25.701691Z",
     "iopub.status.busy": "2022-03-20T17:40:25.701172Z",
     "iopub.status.idle": "2022-03-20T17:40:25.850734Z",
     "shell.execute_reply": "2022-03-20T17:40:25.851138Z"
    },
    "papermill": {
     "duration": 0.181576,
     "end_time": "2022-03-20T17:40:25.851279",
     "exception": false,
     "start_time": "2022-03-20T17:40:25.669703",
     "status": "completed"
    },
    "tags": []
   },
   "outputs": [
    {
     "data": {
      "text/plain": [
       "<AxesSubplot:title={'center':'Per Domain Validation Accuracy'}, xlabel='domain'>"
      ]
     },
     "execution_count": 27,
     "metadata": {},
     "output_type": "execute_result"
    },
    {
     "data": {
      "image/png": "[encoded data removed]",
      "text/plain": [
       "<Figure size 1080x504 with 1 Axes>"
      ]
     },
     "metadata": {
      "needs_background": "light"
     },
     "output_type": "display_data"
    }
   ],
   "source": [
    "get_domain_accuracies(experiment)"
   ]
  },
  {
   "cell_type": "code",
   "execution_count": 28,
   "id": "a74ae082",
   "metadata": {
    "execution": {
     "iopub.execute_input": "2022-03-20T17:40:25.919697Z",
     "iopub.status.busy": "2022-03-20T17:40:25.919421Z",
     "iopub.status.idle": "2022-03-20T17:40:25.935725Z",
     "shell.execute_reply": "2022-03-20T17:40:25.935227Z"
    },
    "papermill": {
     "duration": 0.049924,
     "end_time": "2022-03-20T17:40:25.935828",
     "exception": false,
     "start_time": "2022-03-20T17:40:25.885904",
     "status": "completed"
    },
    "tags": []
   },
   "outputs": [
    {
     "name": "stdout",
     "output_type": "stream",
     "text": [
      "Source Test Label Accuracy: 0.9817792610571737 Target Test Label Accuracy: 0.3013997395833333\n",
      "Source Val Label Accuracy: 0.9826255488474204 Target Val Label Accuracy: 0.29205729166666666\n"
     ]
    }
   ],
   "source": [
    "print(\"Source Test Label Accuracy:\", experiment[\"results\"][\"source_test_label_accuracy\"], \"Target Test Label Accuracy:\", experiment[\"results\"][\"target_test_label_accuracy\"])\n",
    "print(\"Source Val Label Accuracy:\", experiment[\"results\"][\"source_val_label_accuracy\"], \"Target Val Label Accuracy:\", experiment[\"results\"][\"target_val_label_accuracy\"])"
   ]
  },
  {
   "cell_type": "code",
   "execution_count": 29,
   "id": "dacca602",
   "metadata": {
    "execution": {
     "iopub.execute_input": "2022-03-20T17:40:26.001585Z",
     "iopub.status.busy": "2022-03-20T17:40:26.001321Z",
     "iopub.status.idle": "2022-03-20T17:40:26.020047Z",
     "shell.execute_reply": "2022-03-20T17:40:26.020352Z"
    },
    "papermill": {
     "duration": 0.050712,
     "end_time": "2022-03-20T17:40:26.020453",
     "exception": false,
     "start_time": "2022-03-20T17:40:25.969741",
     "status": "completed"
    },
    "tags": [
     "experiment_json"
    ]
   },
   "outputs": [
    {
     "data": {
      "text/plain": [
       "'{\"experiment_name\": \"tl_3Av2:cores+wisig -> oracle.run1.framed\", \"parameters\": {\"experiment_name\": \"tl_3Av2:cores+wisig -> oracle.run1.framed\", \"device\": \"cuda\", \"lr\": 0.0001, \"x_shape\": [2, 200], \"n_shot\": 3, \"n_query\": 2, \"train_k_factor\": 3, \"val_k_factor\": 2, \"test_k_factor\": 2, \"torch_default_dtype\": \"torch.float32\", \"n_epoch\": 50, \"patience\": 3, \"criteria_for_best\": \"target_accuracy\", \"x_net\": [{\"class\": \"nnReshape\", \"kargs\": {\"shape\": [-1, 1, 2, 200]}}, {\"class\": \"Conv2d\", \"kargs\": {\"in_channels\": 1, \"out_channels\": 256, \"kernel_size\": [1, 7], \"bias\": false, \"padding\": [0, 3]}}, {\"class\": \"ReLU\", \"kargs\": {\"inplace\": true}}, {\"class\": \"BatchNorm2d\", \"kargs\": {\"num_features\": 256}}, {\"class\": \"Conv2d\", \"kargs\": {\"in_channels\": 256, \"out_channels\": 80, \"kernel_size\": [2, 7], \"bias\": true, \"padding\": [0, 3]}}, {\"class\": \"ReLU\", \"kargs\": {\"inplace\": true}}, {\"class\": \"BatchNorm2d\", \"kargs\": {\"num_features\": 80}}, {\"class\": \"Flatten\", \"kargs\": {}}, {\"class\": \"Linear\", \"kargs\": {\"in_features\": 16000, \"out_features\": 256}}, {\"class\": \"ReLU\", \"kargs\": {\"inplace\": true}}, {\"class\": \"BatchNorm1d\", \"kargs\": {\"num_features\": 256}}, {\"class\": \"Linear\", \"kargs\": {\"in_features\": 256, \"out_features\": 256}}], \"NUM_LOGS_PER_EPOCH\": 10, \"BEST_MODEL_PATH\": \"./best_model.pth\", \"n_way\": 16, \"datasets\": [{\"labels\": [\"1-10.\", \"1-11.\", \"1-15.\", \"1-16.\", \"1-17.\", \"1-18.\", \"1-19.\", \"10-4.\", \"10-7.\", \"11-1.\", \"11-14.\", \"11-17.\", \"11-20.\", \"11-7.\", \"13-20.\", \"13-8.\", \"14-10.\", \"14-11.\", \"14-14.\", \"14-7.\", \"15-1.\", \"15-20.\", \"16-1.\", \"16-16.\", \"17-10.\", \"17-11.\", \"17-2.\", \"19-1.\", \"19-16.\", \"19-19.\", \"19-20.\", \"19-3.\", \"2-10.\", \"2-11.\", \"2-17.\", \"2-18.\", \"2-20.\", \"2-3.\", \"2-4.\", \"2-5.\", \"2-6.\", \"2-7.\", \"2-8.\", \"3-13.\", \"3-18.\", \"3-3.\", \"4-1.\", \"4-10.\", \"4-11.\", \"4-19.\", \"5-5.\", \"6-15.\", \"7-10.\", \"7-14.\", \"8-18.\", \"8-20.\", \"8-3.\", \"8-8.\"], \"domains\": [1, 2, 3, 4, 5], \"num_examples_per_domain_per_label\": -1, \"pickle_path\": \"/mnt/wd500GB/CSC500/csc500-main/datasets/cores.stratified_ds.2022A.pkl\", \"source_or_target_dataset\": \"source\", \"x_transforms\": [\"unit_mag\", \"take_200\"], \"episode_transforms\": [], \"domain_prefix\": \"C_\"}, {\"labels\": [\"1-10\", \"1-12\", \"1-14\", \"1-16\", \"1-18\", \"1-19\", \"1-8\", \"10-11\", \"10-17\", \"10-4\", \"10-7\", \"11-1\", \"11-10\", \"11-19\", \"11-20\", \"11-4\", \"11-7\", \"12-19\", \"12-20\", \"12-7\", \"13-14\", \"13-18\", \"13-19\", \"13-20\", \"13-3\", \"13-7\", \"14-10\", \"14-11\", \"14-12\", \"14-13\", \"14-14\", \"14-19\", \"14-20\", \"14-7\", \"14-8\", \"14-9\", \"15-1\", \"15-19\", \"15-6\", \"16-1\", \"16-16\", \"16-19\", \"16-20\", \"17-10\", \"17-11\", \"18-1\", \"18-10\", \"18-11\", \"18-12\", \"18-13\", \"18-14\", \"18-15\", \"18-16\", \"18-17\", \"18-19\", \"18-2\", \"18-20\", \"18-4\", \"18-5\", \"18-7\", \"18-8\", \"18-9\", \"19-1\", \"19-10\", \"19-11\", \"19-12\", \"19-13\", \"19-14\", \"19-15\", \"19-19\", \"19-2\", \"19-20\", \"19-3\", \"19-4\", \"19-6\", \"19-7\", \"19-8\", \"19-9\", \"2-1\", \"2-13\", \"2-15\", \"2-3\", \"2-4\", \"2-5\", \"2-6\", \"2-7\", \"2-8\", \"20-1\", \"20-12\", \"20-14\", \"20-15\", \"20-16\", \"20-18\", \"20-19\", \"20-20\", \"20-3\", \"20-4\", \"20-5\", \"20-7\", \"20-8\", \"3-1\", \"3-13\", \"3-18\", \"3-2\", \"3-8\", \"4-1\", \"4-10\", \"4-11\", \"5-1\", \"5-5\", \"6-1\", \"6-15\", \"6-6\", \"7-10\", \"7-11\", \"7-12\", \"7-13\", \"7-14\", \"7-7\", \"7-8\", \"7-9\", \"8-1\", \"8-13\", \"8-14\", \"8-18\", \"8-20\", \"8-3\", \"8-8\", \"9-1\", \"9-7\"], \"domains\": [1, 2, 3, 4], \"num_examples_per_domain_per_label\": -1, \"pickle_path\": \"/mnt/wd500GB/CSC500/csc500-main/datasets/wisig.node3-19.stratified_ds.2022A.pkl\", \"source_or_target_dataset\": \"source\", \"x_transforms\": [\"unit_mag\", \"take_200\"], \"episode_transforms\": [], \"domain_prefix\": \"W_\"}, {\"labels\": [\"3123D52\", \"3123D65\", \"3123D79\", \"3123D80\", \"3123D54\", \"3123D70\", \"3123D7B\", \"3123D89\", \"3123D58\", \"3123D76\", \"3123D7D\", \"3123EFE\", \"3123D64\", \"3123D78\", \"3123D7E\", \"3124E4A\"], \"domains\": [32, 38, 8, 44, 14, 50, 20, 26], \"num_examples_per_domain_per_label\": 2000, \"pickle_path\": \"/mnt/wd500GB/CSC500/csc500-main/datasets/oracle.Run1_framed_2000Examples_stratified_ds.2022A.pkl\", \"source_or_target_dataset\": \"target\", \"x_transforms\": [\"unit_mag\", \"take_200\", \"resample_20Msps_to_25Msps\"], \"episode_transforms\": [], \"domain_prefix\": \"O_\"}], \"seed\": 7, \"dataset_seed\": 7, \"domains_source\": [\"C_1\", \"C_2\", \"C_3\", \"C_4\", \"C_5\", \"W_1\", \"W_2\", \"W_3\", \"W_4\"], \"domains_target\": [\"O_32\", \"O_38\", \"O_8\", \"O_44\", \"O_14\", \"O_50\", \"O_20\", \"O_26\"]}, \"results\": {\"source_test_label_accuracy\": 0.9817792610571737, \"source_test_label_loss\": 0.0818871334195137, \"target_test_label_accuracy\": 0.3013997395833333, \"target_test_label_loss\": 2.1457595825195312, \"source_val_label_accuracy\": 0.9826255488474204, \"source_val_label_loss\": 0.07876523584127426, \"target_val_label_accuracy\": 0.29205729166666666, \"target_val_label_loss\": 2.1582303047180176, \"total_epochs_trained\": 6, \"total_experiment_time_secs\": 1984.8806779384613, \"confusion\": {\"W_4\": {\"71\": {\"71\": 103, \"70\": 1}, \"17\": {\"17\": 20}, \"105\": {\"105\": 83, \"69\": 4, \"43\": 5, \"40\": 1, \"87\": 4, \"111\": 1, \"26\": 1, \"128\": 1}, \"92\": {\"92\": 27, \"15\": 1}, \"100\": {\"100\": 20}, \"6\": {\"6\": 23, \"10\": 1}, \"36\": {\"36\": 124, \"84\": 1, \"94\": 1, \"88\": 1, \"24\": 1}, \"35\": {\"35\": 12}, \"63\": {\"63\": 16}, \"104\": {\"104\": 16}, \"114\": {\"114\": 124, \"3\": 2, \"122\": 1, \"105\": 1}, \"68\": {\"68\": 16}, \"109\": {\"109\": 114, \"118\": 1, \"69\": 1}, \"27\": {\"27\": 93, \"114\": 1, \"78\": 1, \"108\": 1, \"73\": 1, \"111\": 1, \"88\": 1, \"110\": 1}, \"79\": {\"79\": 16}, \"0\": {\"0\": 98, \"69\": 1, \"11\": 1, \"118\": 1, \"21\": 1, \"87\": 1, \"107\": 1, \"1\": 1, \"105\": 1}, \"28\": {\"28\": 19, \"0\": 1}, \"4\": {\"4\": 101, \"21\": 1, \"11\": 1, \"85\": 1}, \"106\": {\"106\": 98, \"21\": 1, \"39\": 1, \"69\": 2}, \"40\": {\"40\": 131, \"16\": 1, \"69\": 2}, \"127\": {\"127\": 105, \"67\": 1, \"12\": 1, \"95\": 1}, \"57\": {\"57\": 14, \"51\": 1, \"127\": 1}, \"60\": {\"60\": 31, \"110\": 1}, \"69\": {\"69\": 123, \"84\": 1}, \"84\": {\"84\": 128, \"108\": 1, \"78\": 1, \"121\": 1, \"3\": 1}, \"24\": {\"24\": 106, \"21\": 1, \"111\": 1, \"88\": 1, \"27\": 2, \"70\": 1, \"36\": 5, \"4\": 1, \"15\": 1, \"84\": 1}, \"94\": {\"69\": 1, \"94\": 85, \"102\": 1, \"26\": 1}, \"7\": {\"7\": 114, \"40\": 2, \"88\": 1, \"69\": 1, \"95\": 1, \"5\": 1}, \"96\": {\"96\": 16, \"34\": 1, \"85\": 1, \"61\": 1, \"77\": 1}, \"116\": {\"116\": 28}, \"47\": {\"47\": 9, \"4\": 1, \"65\": 1, \"27\": 1}, \"119\": {\"119\": 15, \"24\": 1}, \"74\": {\"74\": 15, \"105\": 1}, \"93\": {\"93\": 151, \"0\": 1}, \"2\": {\"93\": 2, \"2\": 24, \"26\": 2}, \"37\": {\"37\": 15, \"127\": 1}, \"15\": {\"15\": 125, \"26\": 1, \"69\": 2}, \"102\": {\"102\": 136}, \"87\": {\"87\": 111, \"74\": 1, \"70\": 1, \"105\": 5, \"69\": 1, \"43\": 2, \"118\": 1}, \"107\": {\"107\": 142, \"72\": 1, \"114\": 1}, \"61\": {\"61\": 14, \"118\": 1, \"21\": 1}, \"78\": {\"78\": 31, \"74\": 1, \"122\": 2, \"21\": 1, \"115\": 1}, \"9\": {\"9\": 28}, \"32\": {\"32\": 24, \"128\": 1, \"23\": 1, \"55\": 1, \"118\": 1}, \"14\": {\"14\": 110, \"78\": 1, \"109\": 1}, \"62\": {\"62\": 55, \"69\": 2, \"88\": 1, \"27\": 1, \"106\": 1}, \"1\": {\"24\": 2, \"1\": 97, \"69\": 1, \"111\": 1, \"36\": 1}, \"23\": {\"23\": 12, \"60\": 1, \"63\": 1, \"35\": 1, \"78\": 1}, \"95\": {\"95\": 31, \"76\": 1}, \"56\": {\"56\": 12}, \"91\": {\"91\": 23, \"85\": 1}, \"34\": {\"34\": 26, \"91\": 2, \"107\": 2, \"29\": 1, \"78\": 1}, \"25\": {\"25\": 16}, \"33\": {\"33\": 123, \"7\": 1}, \"16\": {\"16\": 117, \"69\": 1, \"107\": 1, \"118\": 1, \"18\": 1, \"87\": 1, \"39\": 1, \"101\": 1}, \"26\": {\"26\": 123, \"1\": 1, \"3\": 1, \"102\": 1}, \"5\": {\"5\": 128, \"95\": 1, \"3\": 1, \"15\": 1, \"108\": 2, \"69\": 1, \"129\": 1, \"43\": 1}, \"123\": {\"123\": 15, \"16\": 1}, \"8\": {\"8\": 118}, \"83\": {\"83\": 25, \"67\": 1, \"29\": 1, \"105\": 1}, \"125\": {\"125\": 134}, \"51\": {\"51\": 13, \"23\": 1, \"47\": 1, \"71\": 1}, \"22\": {\"22\": 15, \"89\": 1}, \"54\": {\"54\": 16}, \"66\": {\"66\": 16}, \"59\": {\"59\": 11, \"11\": 1}, \"111\": {\"111\": 126, \"5\": 1, \"11\": 1}, \"77\": {\"77\": 12}, \"103\": {\"103\": 16}, \"20\": {\"20\": 15, \"32\": 1}, \"124\": {\"124\": 117, \"4\": 2, \"40\": 1}, \"99\": {\"99\": 39, \"69\": 1}, \"120\": {\"84\": 1, \"120\": 18, \"21\": 1}, \"76\": {\"76\": 15, \"12\": 1}, \"110\": {\"110\": 111, \"70\": 1, \"122\": 1, \"68\": 1, \"69\": 2}, \"29\": {\"29\": 31, \"4\": 1}, \"118\": {\"118\": 105, \"67\": 1, \"71\": 1, \"106\": 1, \"122\": 1, \"21\": 1, \"78\": 1, \"11\": 1}, \"58\": {\"58\": 14, \"40\": 1, \"88\": 1}, \"13\": {\"13\": 15, \"119\": 1}, \"89\": {\"89\": 32}, \"31\": {\"31\": 15, \"95\": 1}, \"64\": {\"64\": 15, \"85\": 1}, \"65\": {\"65\": 12}, \"101\": {\"101\": 130, \"95\": 1, \"127\": 1}, \"126\": {\"126\": 116, \"111\": 1, \"122\": 1}, \"108\": {\"108\": 78, \"23\": 1, \"5\": 1, \"16\": 1, \"0\": 1, \"84\": 1, \"69\": 1, \"88\": 4, \"30\": 1, \"12\": 1, \"107\": 1, \"27\": 1}, \"45\": {\"45\": 16}, \"21\": {\"21\": 35, \"30\": 1, \"1\": 1, \"39\": 1, \"43\": 1, \"78\": 1}, \"30\": {\"30\": 74, \"39\": 1, \"127\": 1}, \"82\": {\"82\": 31, \"70\": 1}, \"85\": {\"85\": 28}, \"88\": {\"88\": 119, \"102\": 1, \"69\": 2, \"107\": 1, \"70\": 3, \"11\": 1, \"118\": 2, \"15\": 1, \"105\": 1, \"27\": 1}, \"41\": {\"41\": 15, \"88\": 1}, \"128\": {\"128\": 20, \"32\": 1, \"19\": 1, \"8\": 2}, \"39\": {\"39\": 92, \"3\": 1, \"102\": 1, \"69\": 1, \"2\": 1, \"116\": 1, \"113\": 2, \"26\": 1}, \"18\": {\"18\": 112, \"69\": 2, \"21\": 1, \"5\": 1, \"108\": 1, \"43\": 1, \"12\": 2}, \"113\": {\"113\": 122, \"114\": 1, \"4\": 1, \"0\": 1, \"41\": 1, \"105\": 1, \"69\": 1}, \"11\": {\"11\": 135, \"70\": 1, \"1\": 1, \"43\": 1}, \"43\": {\"43\": 117, \"71\": 1, \"40\": 1, \"105\": 1}, \"12\": {\"12\": 97, \"14\": 2, \"69\": 1}, \"122\": {\"122\": 81, \"105\": 1, \"24\": 1, \"88\": 1}, \"52\": {\"52\": 20}, \"44\": {\"44\": 63, \"65\": 1}, \"90\": {\"90\": 133, \"98\": 1}, \"112\": {\"112\": 16}, \"86\": {\"86\": 28}, \"3\": {\"3\": 114, \"84\": 1, \"69\": 1}, \"38\": {\"38\": 16}, \"121\": {\"121\": 24, \"38\": 1, \"128\": 1, \"44\": 3, \"51\": 2, \"85\": 1}, \"46\": {\"46\": 19, \"67\": 1}, \"70\": {\"70\": 121, \"27\": 1, \"93\": 1, \"126\": 1}, \"67\": {\"67\": 15, \"113\": 1}, \"53\": {\"53\": 16}, \"49\": {\"49\": 32}, \"42\": {\"42\": 23, \"53\": 2, \"9\": 1, \"8\": 2}, \"10\": {\"10\": 111, \"111\": 1, \"40\": 1, \"36\": 1, \"122\": 1, \"24\": 1, \"127\": 1, \"15\": 1}, \"50\": {\"50\": 16}, \"73\": {\"73\": 23, \"118\": 1}, \"115\": {\"115\": 14, \"86\": 1, \"72\": 1}, \"80\": {\"80\": 15, \"51\": 1}, \"19\": {\"19\": 23, \"60\": 1, \"26\": 1, \"72\": 2, \"118\": 1}, \"55\": {\"55\": 16}, \"72\": {\"72\": 31, \"27\": 1}, \"117\": {\"117\": 116}, \"81\": {\"81\": 33, \"72\": 1, \"69\": 1, \"78\": 1}, \"75\": {\"75\": 16}, \"98\": {\"98\": 116, \"30\": 1, \"24\": 1, \"25\": 2}, \"48\": {\"48\": 16}, \"129\": {\"129\": 26, \"88\": 1, \"10\": 1}, \"97\": {\"97\": 18, \"16\": 1, \"94\": 1}}, \"C_5\": {\"26\": {\"26\": 24}, \"7\": {\"7\": 32}, \"56\": {\"56\": 142}, \"36\": {\"36\": 92}, \"47\": {\"47\": 100}, \"2\": {\"2\": 28}, \"15\": {\"15\": 152}, \"14\": {\"14\": 38, \"50\": 1, \"31\": 1, \"0\": 2, \"39\": 1, \"35\": 1}, \"27\": {\"27\": 146}, \"40\": {\"40\": 124}, \"49\": {\"49\": 36}, \"45\": {\"45\": 124}, \"46\": {\"46\": 136}, \"11\": {\"11\": 130}, \"30\": {\"30\": 112}, \"0\": {\"0\": 124}, \"10\": {\"10\": 68}, \"1\": {\"1\": 148}, \"42\": {\"42\": 38, \"2\": 1, \"55\": 1}, \"54\": {\"54\": 112}, \"55\": {\"55\": 152}, \"23\": {\"23\": 124}, \"25\": {\"25\": 152}, \"28\": {\"28\": 32}, \"32\": {\"32\": 32}, \"9\": {\"9\": 142}, \"39\": {\"39\": 20}, \"3\": {\"3\": 100}, \"29\": {\"29\": 118}, \"17\": {\"17\": 116}, \"35\": {\"35\": 36}, \"44\": {\"44\": 152}, \"5\": {\"5\": 128}, \"33\": {\"33\": 32}, \"34\": {\"34\": 36}, \"13\": {\"13\": 138}, \"41\": {\"41\": 28}, \"6\": {\"6\": 125, \"20\": 1, \"9\": 1, \"45\": 1}, \"51\": {\"51\": 138}, \"50\": {\"50\": 144}, \"37\": {\"37\": 24}, \"19\": {\"19\": 144}, \"57\": {\"57\": 132}, \"21\": {\"21\": 144}, \"24\": {\"24\": 80}, \"8\": {\"8\": 130}, \"12\": {\"12\": 96}, \"48\": {\"48\": 132}, \"43\": {\"43\": 150}, \"53\": {\"53\": 148}, \"38\": {\"38\": 32}, \"16\": {\"16\": 142}, \"22\": {\"22\": 28}, \"4\": {\"4\": 100}, \"18\": {\"18\": 64}, \"20\": {\"20\": 144}, \"52\": {\"52\": 140}, \"31\": {\"31\": 36}}, \"W_1\": {\"105\": {\"105\": 82, \"40\": 2}, \"100\": {\"100\": 16}, \"112\": {\"112\": 16}, \"123\": {\"123\": 16}, \"13\": {\"13\": 16}, \"81\": {\"81\": 28}, \"124\": {\"124\": 119, \"117\": 1}, \"122\": {\"122\": 88}, \"111\": {\"111\": 118, \"87\": 1, \"70\": 1}, \"93\": {\"93\": 156, \"87\": 1, \"114\": 1}, \"106\": {\"106\": 115, \"71\": 1, \"24\": 1, \"4\": 1}, \"113\": {\"113\": 122, \"105\": 1, \"16\": 1}, \"95\": {\"95\": 36}, \"87\": {\"87\": 105, \"16\": 1, \"105\": 1, \"18\": 1}, \"86\": {\"86\": 35, \"24\": 1}, \"67\": {\"67\": 16}, \"85\": {\"85\": 31, \"0\": 1}, \"82\": {\"82\": 36}, \"115\": {\"115\": 12}, \"7\": {\"7\": 142}, \"44\": {\"44\": 76}, \"65\": {\"82\": 1, \"65\": 6, \"80\": 1, \"74\": 1, \"63\": 2, \"11\": 1}, \"129\": {\"129\": 26, \"94\": 1, \"111\": 1}, \"42\": {\"42\": 26, \"60\": 1, \"64\": 1}, \"28\": {\"112\": 1, \"28\": 18, \"30\": 1}, \"0\": {\"0\": 82, \"56\": 1, \"105\": 1}, \"10\": {\"10\": 118, \"110\": 2}, \"76\": {\"76\": 15, \"36\": 1}, \"88\": {\"88\": 124, \"36\": 2}, \"29\": {\"29\": 28}, \"16\": {\"16\": 105, \"43\": 1, \"102\": 1, \"69\": 1}, \"41\": {\"41\": 16}, \"27\": {\"27\": 92}, \"33\": {\"33\": 118, \"2\": 1, \"21\": 1}, \"75\": {\"75\": 16}, \"48\": {\"48\": 12}, \"56\": {\"56\": 10, \"71\": 1, \"41\": 1}, \"9\": {\"9\": 31, \"40\": 1}, \"1\": {\"1\": 125, \"93\": 1}, \"39\": {\"39\": 103, \"102\": 1}, \"50\": {\"56\": 1, \"50\": 12, \"4\": 1, \"10\": 1, \"122\": 1}, \"99\": {\"99\": 23, \"93\": 1}, \"90\": {\"90\": 122}, \"45\": {\"45\": 8, \"112\": 1, \"61\": 1, \"115\": 1, \"14\": 1}, \"5\": {\"5\": 88}, \"128\": {\"128\": 22, \"115\": 1, \"19\": 1}, \"2\": {\"2\": 27, \"60\": 1, \"34\": 1, \"100\": 2, \"54\": 1}, \"53\": {\"53\": 20}, \"104\": {\"104\": 16}, \"32\": {\"32\": 32}, \"92\": {\"92\": 28}, \"78\": {\"95\": 1, \"78\": 13, \"87\": 2}, \"19\": {\"19\": 26, \"20\": 2}, \"120\": {\"120\": 19, \"93\": 1}, \"43\": {\"43\": 124, \"102\": 1, \"106\": 1, \"70\": 1, \"93\": 1}, \"74\": {\"74\": 16}, \"11\": {\"11\": 129, \"39\": 1}, \"26\": {\"26\": 129, \"70\": 2, \"69\": 1}, \"125\": {\"125\": 132}, \"64\": {\"64\": 16}, \"127\": {\"127\": 105, \"69\": 3}, \"83\": {\"83\": 27, \"12\": 1}, \"118\": {\"118\": 83, \"93\": 1}, \"103\": {\"103\": 15, \"104\": 1}, \"55\": {\"55\": 12}, \"110\": {\"110\": 126}, \"30\": {\"30\": 51, \"94\": 1}, \"51\": {\"51\": 16}, \"6\": {\"6\": 29, \"91\": 2, \"34\": 1}, \"96\": {\"96\": 17, \"12\": 1, \"126\": 2}, \"114\": {\"114\": 142, \"93\": 1, \"39\": 1}, \"69\": {\"69\": 108}, \"60\": {\"60\": 12, \"100\": 1, \"57\": 1, \"17\": 1, \"123\": 1}, \"94\": {\"94\": 91, \"93\": 1}, \"79\": {\"79\": 12}, \"126\": {\"126\": 132, \"12\": 1, \"21\": 1}, \"68\": {\"68\": 16}, \"72\": {\"72\": 31, \"128\": 1}, \"63\": {\"63\": 16}, \"22\": {\"22\": 15, \"6\": 1}, \"121\": {\"121\": 31, \"69\": 1}, \"71\": {\"71\": 101, \"72\": 1, \"70\": 1, \"106\": 1, \"43\": 2, \"52\": 1, \"110\": 1}, \"54\": {\"54\": 16}, \"102\": {\"102\": 119, \"87\": 1}, \"73\": {\"73\": 17, \"71\": 1, \"105\": 1, \"104\": 1}, \"38\": {\"38\": 16}, \"4\": {\"4\": 96, \"0\": 1, \"102\": 1, \"40\": 1, \"69\": 1}, \"52\": {\"52\": 20}, \"70\": {\"70\": 126, \"21\": 1, \"124\": 1}, \"91\": {\"91\": 25, \"42\": 1, \"58\": 2}, \"77\": {\"77\": 15, \"61\": 1}, \"20\": {\"20\": 16}, \"59\": {\"59\": 12}, \"40\": {\"40\": 134, \"70\": 2}, \"98\": {\"98\": 108}, \"46\": {\"11\": 1, \"46\": 7, \"94\": 1, \"59\": 2, \"54\": 1}, \"34\": {\"34\": 29, \"86\": 1, \"98\": 1, \"112\": 1}, \"24\": {\"24\": 87, \"27\": 1, \"47\": 1, \"97\": 1, \"3\": 1, \"39\": 1}, \"62\": {\"62\": 118, \"74\": 1, \"40\": 1}, \"14\": {\"14\": 96}, \"12\": {\"12\": 98, \"106\": 2, \"126\": 1, \"87\": 1, \"69\": 1, \"40\": 1}, \"84\": {\"84\": 131, \"117\": 1, \"26\": 1, \"70\": 1}, \"37\": {\"37\": 16}, \"97\": {\"97\": 20}, \"57\": {\"57\": 11, \"89\": 1}, \"49\": {\"49\": 18, \"111\": 2}, \"17\": {\"17\": 14, \"2\": 1, \"121\": 1}, \"109\": {\"109\": 106}, \"80\": {\"80\": 16}, \"66\": {\"66\": 16}, \"101\": {\"101\": 123, \"70\": 1}, \"89\": {\"89\": 34, \"95\": 1, \"42\": 1}, \"31\": {\"31\": 16}, \"21\": {\"21\": 35, \"80\": 1, \"106\": 1, \"73\": 1, \"110\": 1, \"105\": 1}, \"23\": {\"23\": 23, \"70\": 1}, \"25\": {\"25\": 15, \"30\": 1}, \"107\": {\"107\": 108, \"87\": 2, \"40\": 1, \"94\": 1}, \"3\": {\"3\": 84, \"24\": 1, \"122\": 1, \"0\": 1, \"86\": 1}, \"61\": {\"61\": 11, \"10\": 1}, \"117\": {\"117\": 125, \"114\": 1}, \"119\": {\"119\": 15, \"40\": 1}, \"58\": {\"58\": 12}, \"47\": {\"47\": 12}, \"116\": {\"116\": 31, \"33\": 1}, \"18\": {\"18\": 122, \"33\": 1, \"2\": 1}, \"36\": {\"36\": 118, \"87\": 2, \"88\": 1, \"71\": 1}, \"108\": {\"108\": 112}, \"15\": {\"15\": 103, \"87\": 1}, \"8\": {\"8\": 114}, \"35\": {\"35\": 12}}, \"C_1\": {\"41\": {\"41\": 24}, \"40\": {\"40\": 110}, \"45\": {\"45\": 138}, \"51\": {\"51\": 148}, \"5\": {\"5\": 154}, \"30\": {\"30\": 120}, \"42\": {\"42\": 40}, \"46\": {\"46\": 136}, \"48\": {\"48\": 134}, \"53\": {\"53\": 144}, \"47\": {\"47\": 152}, \"49\": {\"49\": 32}, \"36\": {\"36\": 64}, \"32\": {\"32\": 32}, \"34\": {\"34\": 24}, \"29\": {\"29\": 140}, \"35\": {\"35\": 36}, \"3\": {\"3\": 134}, \"16\": {\"16\": 140}, \"26\": {\"26\": 24}, \"57\": {\"57\": 144}, \"44\": {\"44\": 128}, \"0\": {\"0\": 152}, \"4\": {\"4\": 132}, \"31\": {\"31\": 28}, \"11\": {\"11\": 140}, \"6\": {\"6\": 96}, \"54\": {\"54\": 104}, \"17\": {\"17\": 64}, \"20\": {\"20\": 128}, \"13\": {\"13\": 150}, \"33\": {\"33\": 32}, \"24\": {\"24\": 107, \"21\": 1}, \"52\": {\"52\": 132}, \"2\": {\"2\": 36}, \"19\": {\"19\": 156}, \"39\": {\"39\": 28}, \"8\": {\"8\": 140}, \"21\": {\"21\": 124}, \"10\": {\"10\": 96}, \"37\": {\"37\": 32}, \"25\": {\"25\": 144}, \"27\": {\"27\": 130}, \"23\": {\"23\": 136}, \"1\": {\"1\": 100}, \"50\": {\"50\": 152}, \"12\": {\"12\": 116}, \"18\": {\"18\": 72}, \"38\": {\"38\": 24}, \"14\": {\"14\": 24}, \"56\": {\"56\": 142}, \"55\": {\"55\": 160}, \"9\": {\"9\": 138}, \"15\": {\"15\": 146}, \"28\": {\"28\": 28}, \"7\": {\"7\": 28}, \"43\": {\"43\": 136}, \"22\": {\"22\": 136}}, \"C_3\": {\"1\": {\"1\": 100}, \"9\": {\"9\": 124}, \"22\": {\"22\": 136}, \"43\": {\"43\": 136}, \"49\": {\"49\": 20}, \"50\": {\"50\": 138}, \"53\": {\"53\": 136}, \"10\": {\"10\": 64}, \"48\": {\"48\": 116}, \"8\": {\"8\": 138}, \"31\": {\"31\": 28}, \"56\": {\"56\": 134}, \"25\": {\"25\": 142}, \"28\": {\"28\": 28}, \"38\": {\"38\": 28}, \"5\": {\"5\": 116}, \"12\": {\"12\": 92}, \"6\": {\"6\": 87, \"50\": 1}, \"19\": {\"19\": 152}, \"26\": {\"26\": 24}, \"32\": {\"32\": 28}, \"33\": {\"33\": 28}, \"3\": {\"3\": 118}, \"51\": {\"51\": 128}, \"16\": {\"16\": 138}, \"46\": {\"46\": 140}, \"7\": {\"7\": 36}, \"47\": {\"47\": 92}, \"39\": {\"39\": 16}, \"40\": {\"40\": 136}, \"14\": {\"14\": 40}, \"37\": {\"37\": 28}, \"2\": {\"2\": 32}, \"21\": {\"21\": 120}, \"35\": {\"35\": 28}, \"54\": {\"54\": 100}, \"52\": {\"52\": 116}, \"29\": {\"29\": 118}, \"20\": {\"20\": 132}, \"18\": {\"18\": 84}, \"11\": {\"11\": 142}, \"0\": {\"0\": 124}, \"36\": {\"36\": 100}, \"17\": {\"17\": 108}, \"30\": {\"30\": 114}, \"42\": {\"42\": 28}, \"45\": {\"45\": 60}, \"4\": {\"4\": 148}, \"23\": {\"23\": 134}, \"13\": {\"13\": 128}, \"15\": {\"15\": 128}, \"57\": {\"57\": 124}, \"27\": {\"27\": 134}, \"44\": {\"44\": 88}, \"34\": {\"34\": 32}, \"41\": {\"41\": 28}, \"24\": {\"24\": 104}, \"55\": {\"55\": 118}}, \"W_2\": {\"3\": {\"3\": 128, \"26\": 1, \"61\": 1, \"39\": 1, \"70\": 1}, \"127\": {\"127\": 119, \"110\": 1}, \"58\": {\"58\": 20}, \"114\": {\"114\": 110, \"46\": 1, \"69\": 1}, \"111\": {\"111\": 142, \"15\": 1, \"40\": 1}, \"105\": {\"105\": 131, \"122\": 1}, \"118\": {\"114\": 1, \"118\": 64, \"127\": 1, \"94\": 1, \"62\": 1}, \"23\": {\"23\": 43, \"61\": 1}, \"21\": {\"21\": 43, \"17\": 1, \"69\": 1, \"85\": 1, \"24\": 1, \"71\": 1}, \"20\": {\"20\": 15, \"21\": 1}, \"75\": {\"75\": 15, \"115\": 1}, \"86\": {\"86\": 32}, \"60\": {\"60\": 24, \"78\": 1, \"115\": 1, \"87\": 1, \"47\": 1}, \"69\": {\"69\": 134, \"87\": 1, \"26\": 1, \"43\": 1, \"62\": 1, \"94\": 1, \"122\": 1}, \"99\": {\"99\": 31, \"68\": 1}, \"14\": {\"14\": 40, \"116\": 1, \"62\": 1, \"127\": 1, \"78\": 1, \"68\": 1, \"71\": 2, \"40\": 1}, \"25\": {\"25\": 15, \"85\": 1}, \"52\": {\"52\": 19, \"30\": 1}, \"47\": {\"47\": 10, \"49\": 1, \"71\": 1}, \"48\": {\"48\": 19, \"87\": 1}, \"27\": {\"27\": 56, \"33\": 1, \"87\": 1, \"24\": 2, \"84\": 1, \"114\": 1, \"36\": 2, \"0\": 1, \"85\": 1, \"11\": 1, \"62\": 1}, \"78\": {\"78\": 45, \"87\": 1, \"56\": 1, \"21\": 1}, \"8\": {\"8\": 120, \"23\": 1, \"106\": 1}, \"90\": {\"90\": 156, \"46\": 1, \"39\": 1, \"61\": 1, \"4\": 1}, \"103\": {\"103\": 16}, \"120\": {\"120\": 20}, \"96\": {\"96\": 20}, \"30\": {\"30\": 101, \"69\": 1, \"59\": 1, \"27\": 1}, \"33\": {\"33\": 146}, \"35\": {\"35\": 12}, \"108\": {\"108\": 116}, \"112\": {\"112\": 16}, \"40\": {\"40\": 132, \"21\": 1, \"4\": 1, \"62\": 1, \"94\": 1, \"127\": 1, \"70\": 1, \"26\": 1, \"69\": 1}, \"102\": {\"102\": 113, \"69\": 1, \"40\": 2}, \"56\": {\"56\": 12}, \"93\": {\"93\": 133, \"39\": 1, \"16\": 1, \"69\": 1}, \"68\": {\"68\": 16}, \"70\": {\"70\": 119, \"111\": 1, \"122\": 1, \"107\": 1, \"19\": 1, \"109\": 1}, \"7\": {\"7\": 123, \"92\": 1}, \"87\": {\"87\": 104, \"4\": 1, \"43\": 1, \"53\": 1, \"39\": 1, \"69\": 2, \"40\": 1, \"114\": 1}, \"54\": {\"56\": 1, \"54\": 19}, \"71\": {\"71\": 92, \"3\": 2, \"114\": 1, \"69\": 1, \"36\": 1, \"39\": 1, \"21\": 1, \"109\": 1}, \"80\": {\"80\": 16}, \"18\": {\"18\": 120, \"39\": 1, \"16\": 1}, \"101\": {\"101\": 121, \"78\": 1}, \"92\": {\"92\": 27, \"69\": 1}, \"32\": {\"32\": 35, \"58\": 1}, \"128\": {\"101\": 2, \"128\": 20, \"3\": 1, \"46\": 1}, \"6\": {\"6\": 32}, \"51\": {\"51\": 17, \"125\": 1, \"6\": 1, \"70\": 1}, \"85\": {\"85\": 31, \"89\": 1}, \"46\": {\"46\": 16}, \"22\": {\"22\": 19, \"62\": 1}, \"1\": {\"1\": 117, \"78\": 2, \"26\": 1, \"87\": 1, \"69\": 1}, \"37\": {\"37\": 16}, \"44\": {\"44\": 97, \"73\": 1, \"87\": 1, \"40\": 1}, \"24\": {\"24\": 102, \"32\": 1, \"62\": 1, \"39\": 1, \"70\": 1, \"68\": 1, \"21\": 1, \"109\": 1, \"5\": 1, \"87\": 1, \"122\": 1}, \"9\": {\"9\": 32}, \"116\": {\"60\": 1, \"116\": 20, \"87\": 2, \"65\": 1, \"109\": 1, \"21\": 1, \"70\": 1, \"1\": 1}, \"64\": {\"64\": 16}, \"129\": {\"129\": 32}, \"42\": {\"42\": 24, \"44\": 1, \"69\": 1, \"121\": 1, \"107\": 1}, \"117\": {\"117\": 119, \"69\": 1}, \"88\": {\"88\": 117, \"107\": 1, \"111\": 1, \"42\": 1, \"71\": 1, \"70\": 1, \"33\": 1, \"69\": 1}, \"31\": {\"31\": 20}, \"113\": {\"113\": 71, \"53\": 1}, \"38\": {\"38\": 16}, \"83\": {\"83\": 37, \"31\": 1, \"98\": 1, \"11\": 1}, \"49\": {\"49\": 21, \"11\": 1, \"71\": 1, \"47\": 1}, \"97\": {\"97\": 14, \"15\": 3, \"94\": 1, \"127\": 2}, \"76\": {\"76\": 16}, \"29\": {\"29\": 32}, \"61\": {\"61\": 20}, \"125\": {\"125\": 147, \"121\": 1}, \"126\": {\"126\": 118, \"78\": 1, \"40\": 1}, \"55\": {\"55\": 16}, \"0\": {\"0\": 103, \"27\": 1, \"101\": 1, \"118\": 1, \"40\": 1, \"127\": 1}, \"15\": {\"15\": 117, \"128\": 1, \"40\": 1, \"7\": 1}, \"26\": {\"26\": 134, \"40\": 1, \"69\": 1, \"0\": 1, \"122\": 1}, \"63\": {\"63\": 20}, \"57\": {\"57\": 20}, \"39\": {\"39\": 108, \"27\": 1, \"107\": 1, \"87\": 1, \"69\": 1}, \"62\": {\"62\": 135, \"39\": 1, \"0\": 1, \"97\": 1, \"40\": 1, \"102\": 1}, \"82\": {\"82\": 33, \"110\": 1, \"87\": 1, \"26\": 1}, \"11\": {\"11\": 78, \"1\": 1, \"69\": 1}, \"4\": {\"4\": 87, \"53\": 1}, \"41\": {\"41\": 19, \"115\": 1}, \"72\": {\"72\": 27, \"14\": 1}, \"16\": {\"16\": 119, \"67\": 1, \"39\": 1, \"78\": 1, \"93\": 2}, \"81\": {\"81\": 22, \"116\": 1, \"92\": 1}, \"67\": {\"67\": 16}, \"123\": {\"123\": 16}, \"66\": {\"66\": 20}, \"36\": {\"36\": 116, \"1\": 1, \"127\": 1, \"43\": 1, \"69\": 2, \"122\": 1, \"17\": 1, \"85\": 1, \"27\": 3, \"49\": 1}, \"115\": {\"115\": 11, \"21\": 1}, \"77\": {\"77\": 15, \"91\": 1}, \"119\": {\"119\": 20}, \"65\": {\"65\": 19, \"49\": 1}, \"34\": {\"34\": 29, \"6\": 1, \"98\": 1, \"86\": 1}, \"107\": {\"107\": 60, \"69\": 1, \"10\": 1, \"78\": 1, \"101\": 1}, \"13\": {\"13\": 15, \"96\": 1}, \"110\": {\"25\": 1, \"110\": 34, \"68\": 1, \"53\": 1, \"69\": 1, \"102\": 2}, \"106\": {\"106\": 115, \"98\": 1, \"114\": 1, \"69\": 1}, \"89\": {\"89\": 36}, \"94\": {\"94\": 56, \"122\": 1, \"87\": 1, \"21\": 1, \"69\": 1, \"31\": 1, \"71\": 1, \"49\": 1, \"88\": 1}, \"98\": {\"98\": 108, \"121\": 1, \"122\": 1, \"21\": 1, \"90\": 1}, \"91\": {\"91\": 26, \"41\": 1, \"29\": 1}, \"84\": {\"84\": 91, \"88\": 1}, \"73\": {\"104\": 1, \"73\": 27}, \"104\": {\"104\": 17, \"16\": 1, \"128\": 1, \"122\": 1}, \"59\": {\"59\": 15, \"68\": 1}, \"74\": {\"74\": 16}, \"28\": {\"28\": 19, \"68\": 1}, \"95\": {\"95\": 35, \"40\": 1}, \"2\": {\"2\": 31, \"85\": 1}, \"5\": {\"5\": 109, \"10\": 1, \"88\": 1, \"122\": 1}, \"50\": {\"50\": 15, \"69\": 1}, \"109\": {\"109\": 95, \"87\": 1, \"113\": 2, \"26\": 1, \"39\": 1}, \"10\": {\"10\": 58, \"40\": 1, \"26\": 1}, \"45\": {\"45\": 14, \"87\": 1, \"21\": 1}, \"121\": {\"121\": 28, \"89\": 1, \"90\": 1, \"18\": 1, \"38\": 1, \"119\": 1, \"37\": 2, \"29\": 1}, \"124\": {\"124\": 110}, \"53\": {\"110\": 1, \"53\": 13, \"49\": 1, \"25\": 1}, \"79\": {\"79\": 16}, \"43\": {\"43\": 107, \"78\": 1, \"26\": 1, \"84\": 1, \"122\": 1, \"101\": 1, \"70\": 1, \"16\": 1}, \"122\": {\"122\": 133, \"118\": 1, \"109\": 1, \"70\": 1, \"71\": 1, \"39\": 1}, \"100\": {\"100\": 16}, \"19\": {\"19\": 28}, \"12\": {\"12\": 85, \"70\": 2, \"69\": 1}, \"17\": {\"17\": 14, \"68\": 1, \"79\": 1}}, \"C_4\": {\"52\": {\"52\": 116}, \"6\": {\"6\": 112}, \"14\": {\"14\": 16}, \"49\": {\"49\": 20}, \"0\": {\"0\": 80}, \"46\": {\"46\": 150, \"47\": 3, \"36\": 1, \"5\": 1, \"48\": 1}, \"41\": {\"41\": 36}, \"24\": {\"24\": 56}, \"25\": {\"25\": 152}, \"40\": {\"40\": 138}, \"38\": {\"38\": 40}, \"13\": {\"13\": 152}, \"9\": {\"9\": 108}, \"45\": {\"45\": 96}, \"43\": {\"43\": 144}, \"10\": {\"10\": 130}, \"15\": {\"15\": 127, \"46\": 1}, \"39\": {\"39\": 20}, \"4\": {\"4\": 132}, \"53\": {\"53\": 132}, \"1\": {\"1\": 40}, \"28\": {\"28\": 32}, \"54\": {\"54\": 108}, \"21\": {\"21\": 132}, \"7\": {\"7\": 24}, \"8\": {\"8\": 136}, \"42\": {\"42\": 32}, \"11\": {\"11\": 103, \"46\": 1}, \"33\": {\"33\": 36}, \"27\": {\"27\": 142}, \"19\": {\"19\": 144}, \"2\": {\"2\": 36}, \"3\": {\"3\": 120}, \"57\": {\"57\": 100}, \"20\": {\"20\": 112}, \"23\": {\"23\": 128}, \"22\": {\"22\": 128}, \"29\": {\"29\": 124}, \"36\": {\"36\": 92}, \"51\": {\"51\": 132}, \"31\": {\"31\": 28}, \"12\": {\"12\": 92}, \"56\": {\"56\": 138}, \"5\": {\"5\": 108}, \"35\": {\"35\": 40}, \"17\": {\"17\": 80}, \"32\": {\"32\": 24}, \"47\": {\"47\": 120}, \"18\": {\"18\": 107, \"25\": 1}, \"26\": {\"26\": 24}, \"50\": {\"50\": 122}, \"55\": {\"55\": 124}, \"34\": {\"34\": 24}, \"30\": {\"30\": 43, \"12\": 1}, \"37\": {\"37\": 24}, \"44\": {\"44\": 132}, \"48\": {\"48\": 118}, \"16\": {\"16\": 96}}, \"C_2\": {\"11\": {\"11\": 130}, \"21\": {\"21\": 120}, \"19\": {\"19\": 140}, \"20\": {\"20\": 128}, \"9\": {\"9\": 140}, \"10\": {\"10\": 112}, \"37\": {\"37\": 36}, \"32\": {\"32\": 28}, \"3\": {\"3\": 92}, \"39\": {\"39\": 28}, \"45\": {\"45\": 128}, \"50\": {\"50\": 136}, \"40\": {\"40\": 140}, \"46\": {\"46\": 128}, \"12\": {\"12\": 92}, \"13\": {\"13\": 116}, \"47\": {\"47\": 132}, \"15\": {\"15\": 141, \"11\": 1}, \"54\": {\"54\": 108}, \"48\": {\"48\": 148}, \"23\": {\"23\": 142}, \"29\": {\"29\": 128}, \"38\": {\"38\": 20}, \"53\": {\"53\": 136}, \"27\": {\"27\": 150}, \"43\": {\"43\": 144}, \"35\": {\"35\": 32}, \"0\": {\"0\": 48}, \"52\": {\"52\": 124}, \"8\": {\"8\": 128}, \"24\": {\"24\": 96}, \"18\": {\"18\": 48}, \"25\": {\"25\": 148}, \"57\": {\"57\": 136}, \"55\": {\"55\": 134}, \"36\": {\"36\": 116}, \"17\": {\"17\": 104}, \"2\": {\"2\": 31, \"5\": 1}, \"34\": {\"34\": 28}, \"1\": {\"1\": 112}, \"51\": {\"51\": 136}, \"31\": {\"31\": 28}, \"49\": {\"49\": 24}, \"14\": {\"14\": 23, \"42\": 1}, \"33\": {\"33\": 28}, \"41\": {\"41\": 20}, \"28\": {\"28\": 28}, \"5\": {\"5\": 120}, \"16\": {\"16\": 150}, \"4\": {\"4\": 128}, \"22\": {\"22\": 136}, \"6\": {\"6\": 118}, \"30\": {\"30\": 124}, \"26\": {\"26\": 24}, \"56\": {\"56\": 142}, \"42\": {\"42\": 36}, \"44\": {\"44\": 100}, \"7\": {\"7\": 36}}, \"W_3\": {\"38\": {\"38\": 16}, \"88\": {\"88\": 108, \"32\": 1, \"26\": 1, \"25\": 1, \"5\": 1}, \"104\": {\"104\": 16}, \"11\": {\"11\": 139, \"107\": 1}, \"103\": {\"103\": 15, \"47\": 1}, \"124\": {\"124\": 115, \"90\": 1}, \"3\": {\"3\": 112, \"43\": 1, \"26\": 1, \"27\": 1, \"11\": 1}, \"74\": {\"74\": 15, \"25\": 1}, \"126\": {\"126\": 116, \"81\": 1, \"39\": 2, \"113\": 1, \"111\": 2}, \"123\": {\"123\": 16}, \"51\": {\"51\": 15, \"111\": 1}, \"14\": {\"14\": 80}, \"16\": {\"16\": 113, \"110\": 1, \"26\": 1, \"114\": 1}, \"22\": {\"22\": 16}, \"109\": {\"109\": 122}, \"27\": {\"27\": 94, \"36\": 1, \"111\": 1}, \"75\": {\"75\": 16}, \"66\": {\"66\": 16}, \"48\": {\"48\": 15, \"53\": 1}, \"6\": {\"6\": 32}, \"10\": {\"10\": 109, \"16\": 1, \"70\": 1, \"105\": 1}, \"99\": {\"99\": 35, \"97\": 1}, \"50\": {\"50\": 16}, \"54\": {\"54\": 16}, \"55\": {\"55\": 16}, \"53\": {\"53\": 20}, \"72\": {\"72\": 28}, \"64\": {\"64\": 20}, \"115\": {\"72\": 1, \"115\": 15}, \"23\": {\"23\": 27, \"63\": 1, \"2\": 1, \"110\": 1, \"114\": 1, \"41\": 1}, \"32\": {\"32\": 28, \"19\": 1, \"128\": 2, \"11\": 1}, \"15\": {\"15\": 101, \"105\": 1, \"16\": 1, \"122\": 1}, \"43\": {\"43\": 51, \"21\": 4, \"33\": 1}, \"114\": {\"114\": 121, \"26\": 1, \"105\": 1, \"4\": 1}, \"121\": {\"43\": 1, \"121\": 28, \"51\": 1, \"80\": 1, \"23\": 1}, \"79\": {\"79\": 12}, \"81\": {\"81\": 32}, \"8\": {\"8\": 128}, \"13\": {\"121\": 1, \"13\": 13, \"51\": 1, \"28\": 1}, \"90\": {\"90\": 156}, \"41\": {\"23\": 1, \"41\": 15}, \"107\": {\"107\": 136}, \"57\": {\"57\": 20}, \"33\": {\"33\": 119, \"92\": 1}, \"35\": {\"35\": 12}, \"29\": {\"29\": 32}, \"70\": {\"70\": 67, \"105\": 1, \"69\": 1, \"110\": 1, \"111\": 1, \"5\": 1}, \"42\": {\"69\": 1, \"42\": 25, \"105\": 1, \"49\": 1}, \"93\": {\"93\": 126}, \"86\": {\"86\": 28}, \"28\": {\"28\": 16}, \"1\": {\"1\": 105, \"40\": 1, \"101\": 1, \"111\": 1}, \"125\": {\"125\": 121, \"44\": 1, \"127\": 1, \"12\": 1}, \"69\": {\"69\": 83, \"70\": 1}, \"97\": {\"97\": 20}, \"117\": {\"117\": 112}, \"68\": {\"68\": 16}, \"30\": {\"30\": 81, \"88\": 1, \"3\": 1, \"105\": 1}, \"111\": {\"111\": 132}, \"47\": {\"47\": 12}, \"102\": {\"102\": 124}, \"65\": {\"65\": 12}, \"113\": {\"113\": 117, \"43\": 1, \"69\": 1, \"33\": 1}, \"36\": {\"36\": 110, \"27\": 3, \"70\": 1}, \"119\": {\"119\": 16}, \"46\": {\"46\": 16}, \"49\": {\"49\": 21, \"70\": 1, \"40\": 1, \"116\": 1}, \"0\": {\"0\": 115, \"30\": 1}, \"58\": {\"58\": 15, \"69\": 1}, \"63\": {\"63\": 16}, \"94\": {\"94\": 84}, \"17\": {\"17\": 9, \"113\": 2, \"86\": 3, \"116\": 1, \"23\": 1}, \"9\": {\"9\": 32}, \"87\": {\"87\": 120}, \"59\": {\"59\": 11, \"30\": 1}, \"105\": {\"105\": 120}, \"80\": {\"80\": 14, \"47\": 1, \"31\": 1}, \"120\": {\"120\": 19, \"68\": 1}, \"18\": {\"18\": 129, \"34\": 1, \"127\": 1, \"90\": 1}, \"78\": {\"78\": 15, \"21\": 1}, \"25\": {\"25\": 16}, \"19\": {\"19\": 29, \"128\": 2, \"70\": 1}, \"122\": {\"122\": 57, \"17\": 1, \"51\": 1, \"69\": 1}, \"39\": {\"39\": 108}, \"76\": {\"76\": 16}, \"89\": {\"89\": 28}, \"129\": {\"129\": 32}, \"26\": {\"26\": 97, \"12\": 1, \"70\": 1, \"108\": 1}, \"85\": {\"85\": 35, \"52\": 1}, \"71\": {\"71\": 67, \"111\": 1}, \"77\": {\"77\": 16}, \"128\": {\"128\": 30, \"86\": 1, \"32\": 1}, \"2\": {\"2\": 27, \"26\": 1}, \"56\": {\"56\": 12}, \"24\": {\"24\": 48}, \"101\": {\"23\": 1, \"101\": 50, \"7\": 1}, \"52\": {\"52\": 16}, \"84\": {\"84\": 107, \"70\": 1}, \"7\": {\"7\": 109, \"70\": 1, \"84\": 1, \"69\": 1}, \"82\": {\"82\": 28}, \"60\": {\"60\": 27, \"110\": 1}, \"45\": {\"122\": 1, \"45\": 13, \"21\": 1, \"73\": 1}, \"40\": {\"40\": 124}, \"20\": {\"20\": 16}, \"4\": {\"4\": 96}, \"116\": {\"116\": 28}, \"61\": {\"61\": 16}, \"5\": {\"5\": 109, \"1\": 1, \"70\": 1, \"39\": 1}, \"106\": {\"106\": 99, \"73\": 1}, \"12\": {\"12\": 103, \"73\": 1}, \"62\": {\"62\": 118, \"69\": 1, \"105\": 1}, \"34\": {\"34\": 32}, \"91\": {\"91\": 23, \"103\": 1}, \"112\": {\"112\": 15, \"101\": 1}, \"92\": {\"92\": 32}, \"95\": {\"95\": 32}, \"96\": {\"96\": 20}, \"127\": {\"127\": 104, \"70\": 1, \"69\": 1, \"105\": 1, \"111\": 1}, \"67\": {\"67\": 15, \"114\": 1}, \"83\": {\"83\": 24}, \"21\": {\"43\": 2, \"21\": 39, \"87\": 1, \"69\": 2, \"40\": 1, \"122\": 1, \"13\": 1, \"94\": 1}, \"98\": {\"98\": 124}, \"108\": {\"108\": 129, \"8\": 2, \"70\": 1}, \"31\": {\"31\": 20}, \"118\": {\"118\": 100}, \"110\": {\"110\": 92}, \"73\": {\"73\": 40}, \"44\": {\"44\": 69, \"90\": 1, \"11\": 1, \"4\": 1}, \"37\": {\"37\": 15, \"63\": 1}, \"100\": {\"100\": 16}}, \"O_26\": {\"0\": {\"9\": 12, \"1\": 20, \"4\": 29, \"6\": 10, \"10\": 32, \"3\": 8, \"15\": 17, \"14\": 32, \"2\": 15, \"7\": 14, \"0\": 27, \"8\": 17, \"12\": 2, \"5\": 3, \"13\": 2}, \"4\": {\"14\": 29, \"1\": 31, \"15\": 11, \"6\": 9, \"0\": 34, \"3\": 16, \"10\": 20, \"2\": 9, \"7\": 20, \"4\": 35, \"8\": 12, \"9\": 10, \"5\": 4}, \"14\": {\"0\": 29, \"9\": 9, \"2\": 12, \"15\": 9, \"10\": 22, \"7\": 27, \"6\": 6, \"14\": 29, \"1\": 26, \"3\": 7, \"4\": 32, \"8\": 30, \"5\": 2}, \"12\": {\"12\": 154, \"0\": 3, \"11\": 17, \"9\": 12, \"13\": 6, \"1\": 3, \"6\": 25, \"10\": 3, \"14\": 2, \"8\": 3, \"5\": 5, \"15\": 5, \"4\": 2}, \"8\": {\"2\": 25, \"8\": 30, \"10\": 17, \"9\": 13, \"4\": 22, \"6\": 17, \"7\": 15, \"5\": 7, \"14\": 23, \"0\": 25, \"15\": 20, \"1\": 10, \"3\": 8, \"13\": 8}, \"7\": {\"8\": 23, \"6\": 7, \"7\": 29, \"4\": 29, \"14\": 15, \"10\": 27, \"2\": 20, \"1\": 12, \"3\": 30, \"0\": 11, \"15\": 19, \"9\": 9, \"5\": 7, \"13\": 2}, \"13\": {\"13\": 62, \"7\": 13, \"11\": 2, \"4\": 3, \"15\": 22, \"5\": 40, \"9\": 23, \"6\": 20, \"8\": 10, \"2\": 23, \"1\": 1, \"10\": 4, \"3\": 9, \"14\": 2, \"0\": 4, \"12\": 2}, \"5\": {\"10\": 14, \"0\": 5, \"13\": 34, \"5\": 46, \"14\": 5, \"8\": 15, \"2\": 30, \"9\": 20, \"6\": 18, \"7\": 9, \"15\": 20, \"3\": 17, \"4\": 4, \"1\": 2, \"12\": 1}, \"15\": {\"14\": 7, \"1\": 7, \"9\": 29, \"15\": 36, \"10\": 10, \"0\": 14, \"13\": 18, \"7\": 17, \"3\": 8, \"2\": 21, \"5\": 16, \"6\": 26, \"4\": 12, \"8\": 17, \"12\": 1, \"11\": 1}, \"10\": {\"1\": 19, \"9\": 15, \"4\": 20, \"12\": 4, \"0\": 17, \"14\": 21, \"6\": 21, \"15\": 16, \"2\": 11, \"10\": 28, \"7\": 20, \"8\": 26, \"5\": 12, \"3\": 9, \"13\": 1}, \"3\": {\"15\": 18, \"6\": 9, \"3\": 43, \"7\": 25, \"10\": 12, \"4\": 21, \"2\": 34, \"9\": 19, \"1\": 14, \"5\": 14, \"8\": 9, \"13\": 5, \"14\": 10, \"0\": 7}, \"9\": {\"15\": 31, \"6\": 25, \"9\": 49, \"13\": 12, \"8\": 13, \"0\": 6, \"7\": 15, \"2\": 19, \"3\": 13, \"5\": 17, \"12\": 3, \"14\": 7, \"10\": 17, \"4\": 7, \"1\": 6}, \"6\": {\"1\": 7, \"0\": 15, \"9\": 18, \"5\": 15, \"8\": 26, \"12\": 6, \"15\": 27, \"7\": 10, \"2\": 10, \"6\": 36, \"10\": 27, \"3\": 12, \"4\": 6, \"14\": 14, \"13\": 11}, \"1\": {\"4\": 29, \"3\": 12, \"8\": 27, \"9\": 6, \"10\": 31, \"6\": 6, \"14\": 34, \"7\": 25, \"0\": 13, \"1\": 41, \"2\": 9, \"5\": 1, \"13\": 2, \"15\": 4}, \"11\": {\"12\": 28, \"11\": 184, \"13\": 16, \"6\": 3, \"10\": 2, \"9\": 1, \"15\": 2, \"5\": 3, \"14\": 1}, \"2\": {\"14\": 11, \"9\": 20, \"13\": 10, \"10\": 14, \"7\": 25, \"3\": 31, \"2\": 37, \"8\": 18, \"5\": 25, \"6\": 13, \"15\": 12, \"4\": 11, \"1\": 7, \"0\": 6}}, \"O_44\": {\"1\": {\"12\": 66, \"1\": 49, \"3\": 38, \"2\": 19, \"10\": 29, \"9\": 14, \"7\": 19, \"13\": 2, \"14\": 1, \"6\": 3}, \"11\": {\"13\": 31, \"9\": 15, \"6\": 51, \"11\": 101, \"14\": 1, \"12\": 3, \"2\": 9, \"10\": 11, \"7\": 16, \"1\": 2}, \"3\": {\"3\": 106, \"1\": 62, \"9\": 9, \"12\": 29, \"10\": 5, \"7\": 10, \"2\": 11, \"13\": 4, \"15\": 2, \"14\": 1, \"6\": 1}, \"6\": {\"9\": 26, \"13\": 44, \"2\": 22, \"6\": 64, \"10\": 16, \"7\": 32, \"11\": 31, \"12\": 1, \"14\": 1, \"1\": 1, \"4\": 2}, \"7\": {\"2\": 50, \"1\": 17, \"9\": 33, \"3\": 10, \"6\": 20, \"11\": 16, \"10\": 23, \"7\": 42, \"4\": 1, \"13\": 16, \"12\": 12}, \"5\": {\"5\": 84, \"4\": 21, \"0\": 38, \"15\": 26, \"8\": 27, \"14\": 44}, \"2\": {\"7\": 44, \"12\": 27, \"2\": 50, \"9\": 22, \"10\": 32, \"3\": 11, \"6\": 19, \"13\": 10, \"1\": 19, \"11\": 6}, \"15\": {\"14\": 41, \"15\": 66, \"4\": 18, \"0\": 50, \"8\": 32, \"5\": 32, \"9\": 1}, \"10\": {\"13\": 5, \"12\": 34, \"7\": 36, \"1\": 30, \"2\": 47, \"10\": 51, \"3\": 8, \"6\": 6, \"9\": 16, \"11\": 7}, \"13\": {\"13\": 54, \"6\": 60, \"9\": 34, \"4\": 10, \"2\": 16, \"7\": 25, \"10\": 9, \"11\": 20, \"14\": 5, \"1\": 3, \"3\": 4}, \"8\": {\"15\": 29, \"8\": 90, \"0\": 89, \"5\": 24, \"14\": 6, \"4\": 2}, \"4\": {\"14\": 70, \"4\": 80, \"15\": 30, \"2\": 1, \"9\": 6, \"0\": 5, \"5\": 35, \"8\": 6, \"13\": 4, \"3\": 2, \"6\": 1}, \"9\": {\"2\": 39, \"13\": 31, \"9\": 49, \"7\": 41, \"10\": 14, \"1\": 10, \"14\": 2, \"3\": 9, \"11\": 9, \"4\": 6, \"12\": 7, \"6\": 23}, \"14\": {\"14\": 71, \"4\": 63, \"15\": 35, \"5\": 39, \"8\": 11, \"0\": 16, \"3\": 1, \"9\": 2, \"13\": 1, \"1\": 1}, \"0\": {\"4\": 7, \"8\": 50, \"0\": 73, \"5\": 49, \"15\": 42, \"14\": 19}, \"12\": {\"12\": 78, \"2\": 27, \"1\": 59, \"7\": 11, \"10\": 35, \"3\": 22, \"13\": 2, \"9\": 6}}, \"O_50\": {\"15\": {\"15\": 57, \"6\": 29, \"1\": 38, \"4\": 39, \"9\": 8, \"11\": 34, \"14\": 5, \"5\": 11, \"13\": 9, \"7\": 9, \"12\": 1}, \"4\": {\"15\": 47, \"7\": 12, \"11\": 17, \"5\": 33, \"4\": 40, \"6\": 20, \"1\": 33, \"12\": 1, \"9\": 2, \"0\": 7, \"13\": 17, \"14\": 7, \"2\": 2, \"10\": 2}, \"6\": {\"13\": 26, \"7\": 29, \"15\": 20, \"6\": 55, \"10\": 9, \"5\": 21, \"1\": 31, \"14\": 5, \"4\": 28, \"0\": 4, \"11\": 8, \"9\": 2, \"2\": 2}, \"2\": {\"2\": 104, \"10\": 28, \"0\": 64, \"8\": 3, \"13\": 6, \"5\": 2, \"14\": 16, \"7\": 3, \"1\": 4, \"12\": 3, \"9\": 2, \"11\": 2, \"4\": 2, \"6\": 1}, \"5\": {\"7\": 40, \"1\": 19, \"6\": 27, \"13\": 44, \"5\": 39, \"8\": 4, \"10\": 16, \"4\": 23, \"0\": 8, \"15\": 14, \"3\": 2, \"9\": 1, \"2\": 1, \"14\": 1, \"11\": 1}, \"9\": {\"1\": 18, \"9\": 90, \"14\": 22, \"12\": 38, \"11\": 51, \"15\": 15, \"5\": 1, \"4\": 4, \"6\": 1}, \"8\": {\"10\": 50, \"3\": 45, \"8\": 93, \"0\": 33, \"2\": 7, \"7\": 9, \"13\": 3}, \"12\": {\"14\": 57, \"9\": 35, \"12\": 100, \"2\": 6, \"11\": 27, \"15\": 3, \"1\": 6, \"6\": 4, \"4\": 1, \"0\": 1}, \"10\": {\"0\": 51, \"2\": 23, \"13\": 24, \"5\": 17, \"6\": 5, \"10\": 62, \"8\": 27, \"7\": 18, \"4\": 2, \"1\": 5, \"3\": 6}, \"1\": {\"4\": 32, \"7\": 8, \"12\": 7, \"6\": 26, \"14\": 15, \"5\": 22, \"11\": 25, \"1\": 46, \"15\": 31, \"13\": 15, \"0\": 3, \"2\": 7, \"10\": 3}, \"0\": {\"8\": 15, \"2\": 67, \"0\": 75, \"10\": 48, \"12\": 1, \"5\": 12, \"13\": 9, \"14\": 3, \"7\": 4, \"6\": 2, \"1\": 3, \"3\": 1}, \"3\": {\"7\": 8, \"3\": 156, \"8\": 62, \"13\": 1, \"10\": 12, \"5\": 1}, \"13\": {\"7\": 47, \"5\": 35, \"13\": 37, \"6\": 36, \"10\": 16, \"4\": 20, \"0\": 14, \"1\": 20, \"8\": 1, \"15\": 7, \"2\": 6, \"9\": 1}, \"11\": {\"4\": 12, \"9\": 44, \"15\": 28, \"11\": 66, \"1\": 29, \"14\": 27, \"6\": 10, \"5\": 3, \"12\": 20, \"13\": 1}, \"7\": {\"10\": 19, \"7\": 56, \"13\": 45, \"5\": 40, \"6\": 36, \"8\": 7, \"4\": 15, \"0\": 7, \"1\": 8, \"15\": 3, \"2\": 3, \"3\": 1}, \"14\": {\"12\": 45, \"11\": 19, \"14\": 85, \"0\": 5, \"1\": 20, \"15\": 13, \"2\": 16, \"6\": 9, \"4\": 10, \"13\": 2, \"9\": 9, \"5\": 3, \"10\": 1, \"7\": 3}}, \"O_38\": {\"15\": {\"15\": 73, \"10\": 17, \"11\": 1, \"13\": 28, \"5\": 28, \"8\": 24, \"0\": 12, \"14\": 8, \"1\": 27, \"2\": 13, \"6\": 4, \"7\": 3, \"9\": 2}, \"11\": {\"14\": 56, \"11\": 141, \"2\": 14, \"1\": 1, \"10\": 20, \"12\": 5, \"13\": 3}, \"10\": {\"7\": 17, \"8\": 36, \"10\": 56, \"14\": 21, \"13\": 17, \"2\": 14, \"5\": 20, \"0\": 16, \"11\": 13, \"12\": 5, \"15\": 21, \"1\": 2, \"6\": 2}, \"14\": {\"14\": 111, \"11\": 30, \"10\": 30, \"12\": 9, \"15\": 4, \"2\": 43, \"13\": 8, \"8\": 4, \"7\": 1}, \"6\": {\"9\": 70, \"15\": 10, \"6\": 73, \"8\": 19, \"5\": 29, \"1\": 27, \"0\": 4, \"10\": 1, \"7\": 1, \"13\": 5, \"3\": 1}, \"4\": {\"12\": 61, \"4\": 166, \"10\": 1, \"7\": 10, \"0\": 1, \"11\": 1}, \"13\": {\"10\": 17, \"2\": 35, \"1\": 32, \"13\": 57, \"15\": 34, \"14\": 7, \"8\": 19, \"5\": 17, \"6\": 7, \"7\": 2, \"9\": 4, \"11\": 1, \"0\": 7, \"12\": 1}, \"3\": {\"9\": 40, \"13\": 2, \"3\": 94, \"0\": 33, \"8\": 13, \"6\": 15, \"5\": 17, \"7\": 26}, \"7\": {\"13\": 2, \"0\": 44, \"3\": 14, \"7\": 88, \"5\": 20, \"12\": 4, \"8\": 32, \"15\": 7, \"10\": 15, \"9\": 9, \"6\": 3, \"4\": 2}, \"8\": {\"1\": 3, \"5\": 62, \"14\": 4, \"13\": 21, \"7\": 25, \"8\": 46, \"15\": 19, \"0\": 23, \"10\": 10, \"9\": 10, \"6\": 14, \"3\": 2, \"12\": 1}, \"1\": {\"1\": 89, \"13\": 33, \"6\": 23, \"2\": 6, \"5\": 23, \"10\": 3, \"15\": 38, \"9\": 7, \"8\": 15, \"0\": 3}, \"5\": {\"10\": 10, \"6\": 21, \"13\": 20, \"8\": 41, \"15\": 32, \"9\": 11, \"14\": 1, \"3\": 8, \"1\": 14, \"7\": 11, \"0\": 24, \"5\": 46, \"2\": 1}, \"0\": {\"7\": 48, \"6\": 9, \"10\": 13, \"11\": 1, \"0\": 52, \"14\": 2, \"5\": 33, \"3\": 18, \"15\": 9, \"8\": 32, \"12\": 5, \"1\": 3, \"13\": 5, \"4\": 3, \"2\": 1, \"9\": 6}, \"2\": {\"10\": 16, \"14\": 32, \"2\": 98, \"13\": 46, \"1\": 8, \"15\": 29, \"8\": 1, \"11\": 6, \"5\": 1, \"7\": 1, \"0\": 2}, \"12\": {\"12\": 170, \"4\": 37, \"14\": 12, \"0\": 5, \"10\": 3, \"7\": 4, \"11\": 3, \"8\": 3, \"2\": 2, \"15\": 1}, \"9\": {\"9\": 74, \"3\": 21, \"5\": 19, \"6\": 71, \"10\": 2, \"7\": 10, \"1\": 9, \"0\": 12, \"8\": 10, \"15\": 9, \"13\": 3}}, \"O_20\": {\"10\": {\"8\": 17, \"14\": 34, \"4\": 53, \"10\": 42, \"3\": 14, \"6\": 28, \"5\": 4, \"7\": 18, \"15\": 4, \"9\": 9, \"12\": 6, \"2\": 6, \"1\": 3, \"0\": 2}, \"7\": {\"1\": 10, \"7\": 38, \"9\": 21, \"6\": 8, \"4\": 19, \"12\": 20, \"13\": 14, \"8\": 14, \"5\": 13, \"10\": 12, \"3\": 19, \"2\": 15, \"0\": 7, \"14\": 12, \"15\": 13, \"11\": 5}, \"4\": {\"8\": 25, \"4\": 50, \"9\": 12, \"14\": 19, \"12\": 18, \"3\": 22, \"10\": 22, \"5\": 12, \"15\": 6, \"6\": 20, \"0\": 7, \"1\": 5, \"7\": 15, \"2\": 4, \"11\": 1, \"13\": 2}, \"13\": {\"13\": 48, \"12\": 16, \"7\": 7, \"2\": 27, \"0\": 19, \"1\": 32, \"9\": 26, \"5\": 17, \"3\": 14, \"11\": 8, \"15\": 19, \"4\": 4, \"6\": 1, \"8\": 2}, \"1\": {\"13\": 23, \"2\": 13, \"9\": 15, \"4\": 5, \"5\": 28, \"12\": 29, \"0\": 24, \"7\": 11, \"1\": 38, \"15\": 22, \"11\": 5, \"3\": 21, \"8\": 3, \"6\": 1, \"10\": 2}, \"0\": {\"8\": 14, \"3\": 19, \"15\": 31, \"5\": 28, \"12\": 18, \"13\": 12, \"9\": 15, \"0\": 44, \"14\": 3, \"2\": 10, \"4\": 12, \"1\": 11, \"7\": 19, \"11\": 2, \"6\": 2}, \"12\": {\"12\": 29, \"5\": 14, \"9\": 31, \"7\": 21, \"3\": 25, \"2\": 21, \"1\": 25, \"6\": 6, \"11\": 3, \"15\": 15, \"13\": 15, \"8\": 7, \"4\": 9, \"0\": 14, \"10\": 4, \"14\": 1}, \"5\": {\"2\": 22, \"12\": 32, \"9\": 16, \"7\": 17, \"13\": 14, \"15\": 24, \"0\": 22, \"8\": 11, \"1\": 24, \"3\": 18, \"4\": 10, \"5\": 23, \"6\": 1, \"10\": 4, \"11\": 1, \"14\": 1}, \"6\": {\"14\": 47, \"7\": 30, \"6\": 38, \"10\": 24, \"9\": 8, \"4\": 22, \"3\": 10, \"8\": 30, \"11\": 9, \"12\": 6, \"5\": 4, \"0\": 4, \"1\": 2, \"15\": 2, \"2\": 4}, \"2\": {\"2\": 33, \"12\": 17, \"3\": 21, \"15\": 12, \"9\": 25, \"0\": 16, \"7\": 25, \"13\": 24, \"1\": 25, \"4\": 7, \"5\": 14, \"11\": 10, \"14\": 1, \"8\": 3, \"6\": 7}, \"8\": {\"6\": 23, \"3\": 16, \"12\": 9, \"7\": 27, \"0\": 11, \"8\": 35, \"10\": 19, \"9\": 16, \"14\": 21, \"15\": 1, \"4\": 32, \"5\": 19, \"11\": 1, \"2\": 8, \"13\": 2}, \"11\": {\"11\": 93, \"3\": 8, \"2\": 28, \"6\": 14, \"0\": 10, \"8\": 9, \"13\": 20, \"10\": 1, \"5\": 4, \"9\": 18, \"4\": 1, \"7\": 17, \"12\": 6, \"15\": 5, \"1\": 6}, \"9\": {\"1\": 11, \"13\": 23, \"9\": 23, \"2\": 25, \"5\": 20, \"12\": 22, \"7\": 21, \"3\": 28, \"4\": 16, \"6\": 8, \"15\": 20, \"11\": 6, \"8\": 6, \"10\": 4, \"0\": 7}, \"14\": {\"14\": 48, \"8\": 35, \"10\": 46, \"4\": 26, \"9\": 7, \"3\": 4, \"6\": 36, \"7\": 19, \"1\": 2, \"15\": 3, \"2\": 4, \"12\": 3, \"11\": 1, \"0\": 2, \"5\": 4}, \"15\": {\"0\": 21, \"3\": 15, \"13\": 29, \"9\": 26, \"15\": 28, \"1\": 26, \"5\": 25, \"12\": 23, \"2\": 18, \"7\": 13, \"8\": 2, \"4\": 9, \"6\": 2, \"10\": 1, \"11\": 1, \"14\": 1}, \"3\": {\"9\": 21, \"1\": 15, \"10\": 15, \"13\": 15, \"2\": 24, \"6\": 9, \"12\": 22, \"3\": 23, \"7\": 23, \"8\": 6, \"15\": 16, \"0\": 6, \"5\": 20, \"11\": 4, \"4\": 17, \"14\": 4}}, \"O_14\": {\"14\": {\"14\": 59, \"2\": 46, \"13\": 24, \"1\": 1, \"4\": 16, \"3\": 22, \"6\": 33, \"10\": 15, \"5\": 10, \"11\": 2, \"0\": 9, \"7\": 2, \"15\": 1}, \"0\": {\"10\": 32, \"0\": 62, \"2\": 7, \"11\": 42, \"1\": 11, \"8\": 5, \"3\": 30, \"5\": 13, \"4\": 8, \"14\": 17, \"13\": 3, \"9\": 10}, \"4\": {\"0\": 11, \"5\": 31, \"2\": 20, \"3\": 35, \"7\": 10, \"1\": 21, \"4\": 56, \"10\": 21, \"14\": 15, \"11\": 2, \"6\": 6, \"13\": 7, \"15\": 5}, \"11\": {\"10\": 22, \"0\": 50, \"11\": 85, \"3\": 13, \"2\": 2, \"9\": 36, \"4\": 2, \"12\": 8, \"5\": 6, \"14\": 10, \"13\": 1, \"8\": 4, \"6\": 1}, \"13\": {\"13\": 59, \"6\": 63, \"15\": 13, \"14\": 36, \"2\": 25, \"1\": 1, \"4\": 12, \"5\": 13, \"3\": 10, \"7\": 4, \"10\": 3, \"0\": 1}, \"9\": {\"12\": 60, \"9\": 99, \"11\": 33, \"0\": 25, \"8\": 17, \"10\": 4, \"5\": 1, \"3\": 1}, \"3\": {\"2\": 33, \"0\": 29, \"10\": 22, \"5\": 27, \"4\": 31, \"1\": 14, \"11\": 6, \"6\": 9, \"14\": 24, \"3\": 38, \"13\": 2, \"7\": 3, \"9\": 1, \"8\": 1}, \"6\": {\"2\": 34, \"3\": 9, \"15\": 7, \"14\": 38, \"6\": 59, \"13\": 62, \"5\": 10, \"10\": 6, \"4\": 12, \"7\": 2, \"0\": 1}, \"1\": {\"5\": 48, \"3\": 17, \"4\": 34, \"2\": 9, \"1\": 83, \"10\": 11, \"8\": 11, \"14\": 3, \"7\": 11, \"15\": 3, \"0\": 6, \"6\": 2, \"9\": 1, \"13\": 1}, \"5\": {\"0\": 6, \"5\": 48, \"4\": 47, \"7\": 19, \"15\": 7, \"1\": 25, \"2\": 29, \"13\": 4, \"14\": 13, \"3\": 28, \"6\": 7, \"10\": 7}, \"12\": {\"9\": 84, \"12\": 143, \"0\": 2, \"11\": 7, \"8\": 4}, \"10\": {\"10\": 76, \"3\": 38, \"13\": 5, \"5\": 16, \"0\": 33, \"1\": 7, \"14\": 21, \"4\": 13, \"11\": 11, \"2\": 12, \"9\": 4, \"6\": 3, \"15\": 1}, \"8\": {\"8\": 144, \"9\": 38, \"1\": 11, \"5\": 7, \"3\": 11, \"0\": 11, \"11\": 5, \"7\": 2, \"4\": 6, \"12\": 3, \"10\": 2}, \"7\": {\"3\": 3, \"5\": 34, \"15\": 54, \"7\": 81, \"13\": 9, \"2\": 17, \"4\": 27, \"1\": 9, \"10\": 1, \"14\": 5}, \"15\": {\"3\": 4, \"2\": 14, \"5\": 17, \"7\": 56, \"13\": 26, \"15\": 81, \"6\": 18, \"4\": 16, \"1\": 5, \"14\": 2, \"10\": 1}, \"2\": {\"2\": 49, \"13\": 32, \"15\": 5, \"5\": 19, \"6\": 28, \"0\": 5, \"14\": 35, \"7\": 6, \"1\": 10, \"10\": 12, \"4\": 22, \"3\": 16, \"11\": 1}}, \"O_32\": {\"11\": {\"14\": 47, \"11\": 73, \"7\": 29, \"5\": 13, \"2\": 10, \"8\": 22, \"0\": 15, \"3\": 6, \"13\": 13, \"4\": 12}, \"1\": {\"10\": 76, \"1\": 159, \"6\": 5}, \"2\": {\"2\": 67, \"4\": 51, \"13\": 13, \"0\": 26, \"5\": 21, \"11\": 8, \"7\": 24, \"14\": 21, \"3\": 1, \"8\": 1, \"9\": 7}, \"0\": {\"7\": 35, \"4\": 30, \"8\": 17, \"5\": 17, \"0\": 40, \"2\": 26, \"13\": 35, \"11\": 12, \"14\": 17, \"9\": 2, \"3\": 9}, \"3\": {\"0\": 8, \"15\": 9, \"4\": 5, \"8\": 48, \"13\": 32, \"3\": 91, \"7\": 12, \"5\": 17, \"11\": 10, \"14\": 8}, \"8\": {\"5\": 28, \"13\": 36, \"3\": 31, \"14\": 18, \"4\": 17, \"8\": 48, \"2\": 6, \"7\": 15, \"0\": 21, \"11\": 17, \"15\": 3}, \"12\": {\"12\": 167, \"9\": 56, \"6\": 11, \"10\": 6}, \"5\": {\"0\": 16, \"5\": 36, \"14\": 13, \"8\": 24, \"4\": 38, \"13\": 31, \"11\": 19, \"7\": 24, \"3\": 19, \"2\": 20}, \"15\": {\"13\": 7, \"15\": 203, \"8\": 9, \"3\": 19, \"5\": 2}, \"7\": {\"14\": 32, \"13\": 17, \"7\": 42, \"5\": 24, \"4\": 34, \"11\": 28, \"8\": 15, \"0\": 21, \"2\": 24, \"3\": 3}, \"4\": {\"4\": 40, \"7\": 44, \"8\": 17, \"5\": 23, \"2\": 32, \"0\": 28, \"14\": 12, \"13\": 29, \"3\": 6, \"11\": 8, \"9\": 1}, \"14\": {\"14\": 51, \"2\": 20, \"0\": 22, \"11\": 55, \"7\": 36, \"5\": 21, \"4\": 9, \"13\": 12, \"3\": 4, \"8\": 10}, \"10\": {\"10\": 163, \"1\": 61, \"6\": 9, \"12\": 7}, \"6\": {\"6\": 198, \"10\": 21, \"12\": 14, \"1\": 7}, \"13\": {\"5\": 20, \"4\": 21, \"3\": 21, \"8\": 49, \"0\": 18, \"13\": 52, \"14\": 14, \"2\": 8, \"7\": 27, \"11\": 10}, \"9\": {\"9\": 164, \"12\": 53, \"2\": 12, \"4\": 6, \"0\": 3, \"6\": 1, \"14\": 1}}, \"O_8\": {\"9\": {\"5\": 4, \"9\": 220, \"10\": 9, \"14\": 2, \"0\": 2, \"13\": 2, \"1\": 1}, \"11\": {\"12\": 5, \"11\": 63, \"8\": 22, \"1\": 42, \"6\": 9, \"4\": 25, \"5\": 11, \"13\": 4, \"14\": 25, \"15\": 5, \"10\": 17, \"7\": 6, \"0\": 5, \"2\": 1}, \"8\": {\"8\": 52, \"15\": 33, \"12\": 22, \"11\": 20, \"13\": 9, \"7\": 19, \"1\": 20, \"4\": 16, \"6\": 23, \"14\": 12, \"2\": 3, \"0\": 5, \"3\": 3, \"5\": 2, \"10\": 1}, \"4\": {\"4\": 31, \"6\": 26, \"10\": 25, \"13\": 26, \"1\": 17, \"5\": 19, \"0\": 19, \"14\": 30, \"15\": 2, \"11\": 3, \"7\": 27, \"8\": 12, \"3\": 3}, \"13\": {\"4\": 31, \"0\": 42, \"6\": 22, \"13\": 40, \"14\": 19, \"7\": 20, \"10\": 34, \"5\": 9, \"2\": 3, \"15\": 1, \"1\": 13, \"8\": 3, \"11\": 3}, \"14\": {\"13\": 30, \"0\": 19, \"10\": 24, \"4\": 29, \"7\": 17, \"6\": 24, \"5\": 21, \"14\": 30, \"11\": 16, \"1\": 15, \"8\": 12, \"15\": 3}, \"2\": {\"3\": 52, \"0\": 10, \"2\": 75, \"12\": 24, \"4\": 8, \"11\": 1, \"6\": 15, \"7\": 17, \"13\": 8, \"8\": 12, \"15\": 15, \"14\": 2, \"10\": 1}, \"3\": {\"3\": 58, \"15\": 40, \"12\": 41, \"0\": 5, \"8\": 18, \"7\": 14, \"2\": 55, \"6\": 6, \"13\": 1, \"14\": 1, \"4\": 1}, \"1\": {\"4\": 31, \"0\": 8, \"5\": 22, \"14\": 29, \"1\": 37, \"11\": 35, \"10\": 32, \"7\": 4, \"15\": 2, \"8\": 8, \"6\": 20, \"13\": 10, \"12\": 2}, \"0\": {\"4\": 25, \"13\": 29, \"10\": 27, \"7\": 27, \"14\": 23, \"3\": 2, \"2\": 11, \"6\": 26, \"0\": 55, \"1\": 4, \"5\": 5, \"15\": 1, \"8\": 4, \"11\": 1}, \"5\": {\"5\": 56, \"14\": 20, \"4\": 30, \"1\": 32, \"11\": 16, \"6\": 15, \"13\": 12, \"10\": 43, \"0\": 13, \"8\": 2, \"7\": 1}, \"15\": {\"4\": 5, \"12\": 43, \"8\": 34, \"11\": 7, \"15\": 80, \"1\": 4, \"3\": 28, \"2\": 11, \"5\": 1, \"7\": 13, \"13\": 4, \"6\": 10}, \"10\": {\"13\": 35, \"7\": 13, \"0\": 25, \"10\": 30, \"4\": 32, \"5\": 33, \"11\": 11, \"1\": 16, \"14\": 26, \"6\": 17, \"8\": 2}, \"12\": {\"6\": 10, \"3\": 38, \"15\": 51, \"12\": 61, \"8\": 39, \"2\": 25, \"7\": 9, \"1\": 3, \"4\": 1, \"11\": 1, \"0\": 1, \"13\": 1}, \"6\": {\"12\": 4, \"11\": 6, \"14\": 22, \"15\": 7, \"8\": 13, \"5\": 7, \"13\": 24, \"4\": 34, \"10\": 18, \"6\": 25, \"0\": 20, \"7\": 37, \"2\": 11, \"1\": 8, \"3\": 4}, \"7\": {\"0\": 26, \"4\": 24, \"5\": 6, \"13\": 22, \"2\": 16, \"10\": 14, \"7\": 41, \"3\": 12, \"6\": 30, \"8\": 15, \"14\": 9, \"11\": 5, \"1\": 7, \"12\": 5, \"15\": 8}}}, \"per_domain_accuracy\": {\"W_4\": {\"accuracy\": 0.956275720164609, \"source?\": true}, \"C_5\": {\"accuracy\": 0.9980796089385475, \"source?\": true}, \"W_1\": {\"accuracy\": 0.9759004237288136, \"source?\": true}, \"C_1\": {\"accuracy\": 0.9998301630434783, \"source?\": true}, \"C_3\": {\"accuracy\": 0.9998161764705882, \"source?\": true}, \"W_2\": {\"accuracy\": 0.9598587866108786, \"source?\": true}, \"C_4\": {\"accuracy\": 0.9981174698795181, \"source?\": true}, \"C_2\": {\"accuracy\": 0.9994673295454546, \"source?\": true}, \"W_3\": {\"accuracy\": 0.978438864628821, \"source?\": true}, \"O_26\": {\"accuracy\": 0.22552083333333334, \"source?\": false}, \"O_44\": {\"accuracy\": 0.28854166666666664, \"source?\": false}, \"O_50\": {\"accuracy\": 0.30234375, \"source?\": false}, \"O_38\": {\"accuracy\": 0.3734375, \"source?\": false}, \"O_20\": {\"accuracy\": 0.16484375, \"source?\": false}, \"O_14\": {\"accuracy\": 0.3182291666666667, \"source?\": false}, \"O_32\": {\"accuracy\": 0.41510416666666666, \"source?\": false}, \"O_8\": {\"accuracy\": 0.2484375, \"source?\": false}}}, \"history\": {\"epoch_indices\": [1, 2, 3, 4, 5, 6], \"train_label_loss\": [0.1205176049630884, 0.07009712959095801, 0.056380999275395006, 0.047604879858207806, 0.040352282795094827, 0.03446362610147039], \"source_val_label_loss\": [0.10732536017894745, 0.07876524329185486, 0.06677451729774475, 0.06347515434026718, 0.06557314842939377, 0.06389959901571274], \"target_val_label_loss\": [2.3359577655792236, 2.1582303047180176, 2.305413007736206, 2.250732183456421, 2.3042099475860596, 2.603686809539795], \"source_val_acc_label\": [0.9766225301866082, 0.9826255488474204, 0.9850782107574094, 0.9857471185510428, 0.9851982711306256, 0.9855756037321625], \"target_val_acc_label\": [0.23811848958333334, 0.29205729166666666, 0.25100911458333336, 0.2535807291666667, 0.23583984375, 0.22067057291666667]}, \"dataset_metrics\": {\"source\": {\"train\": {\"n_unique_x\": 364259, \"n_unique_y\": 130, \"n_batch/episode\": 13174}, \"val\": {\"n_unique_x\": 77221, \"n_unique_y\": 130, \"n_batch/episode\": 1822}, \"test\": {\"n_unique_x\": 78360, \"n_unique_y\": 130, \"n_batch/episode\": 1854}}, \"target\": {\"train\": {\"n_unique_x\": 179200, \"n_unique_y\": 16, \"n_batch/episode\": 6720}, \"val\": {\"n_unique_x\": 38400, \"n_unique_y\": 16, \"n_batch/episode\": 960}, \"test\": {\"n_unique_x\": 38400, \"n_unique_y\": 16, \"n_batch/episode\": 960}}}}'"
      ]
     },
     "execution_count": 29,
     "metadata": {},
     "output_type": "execute_result"
    }
   ],
   "source": [
    "json.dumps(experiment)"
   ]
  }
 ],
 "metadata": {
  "celltoolbar": "Tags",
  "kernelspec": {
   "display_name": "Python 3 (ipykernel)",
   "language": "python",
   "name": "python3"
  },
  "language_info": {
   "codemirror_mode": {
    "name": "ipython",
    "version": 3
   },
   "file_extension": ".py",
   "mimetype": "text/x-python",
   "name": "python",
   "nbconvert_exporter": "python",
   "pygments_lexer": "ipython3",
   "version": "3.8.10"
  },
  "papermill": {
   "default_parameters": {},
   "duration": 2131.289096,
   "end_time": "2022-03-20T17:40:27.770632",
   "environment_variables": {},
   "exception": null,
   "input_path": "/mnt/wd500GB/CSC500/csc500-main/csc500-notebooks/templates/tl_ptn_template.ipynb",
   "output_path": "trial.ipynb",
   "parameters": {
    "parameters": {
     "BEST_MODEL_PATH": "./best_model.pth",
     "NUM_LOGS_PER_EPOCH": 10,
     "criteria_for_best": "target_accuracy",
     "dataset_seed": 7,
     "datasets": [
      {
       "domain_prefix": "C_",
       "domains": [
        1,
        2,
        3,
        4,
        5
       ],
       "episode_transforms": [],
       "labels": [
        "1-10.",
        "1-11.",
        "1-15.",
        "1-16.",
        "1-17.",
        "1-18.",
        "1-19.",
        "10-4.",
        "10-7.",
        "11-1.",
        "11-14.",
        "11-17.",
        "11-20.",
        "11-7.",
        "13-20.",
        "13-8.",
        "14-10.",
        "14-11.",
        "14-14.",
        "14-7.",
        "15-1.",
        "15-20.",
        "16-1.",
        "16-16.",
        "17-10.",
        "17-11.",
        "17-2.",
        "19-1.",
        "19-16.",
        "19-19.",
        "19-20.",
        "19-3.",
        "2-10.",
        "2-11.",
        "2-17.",
        "2-18.",
        "2-20.",
        "2-3.",
        "2-4.",
        "2-5.",
        "2-6.",
        "2-7.",
        "2-8.",
        "3-13.",
        "3-18.",
        "3-3.",
        "4-1.",
        "4-10.",
        "4-11.",
        "4-19.",
        "5-5.",
        "6-15.",
        "7-10.",
        "7-14.",
        "8-18.",
        "8-20.",
        "8-3.",
        "8-8."
       ],
       "num_examples_per_domain_per_label": -1,
       "pickle_path": "/mnt/wd500GB/CSC500/csc500-main/datasets/cores.stratified_ds.2022A.pkl",
       "source_or_target_dataset": "source",
       "x_transforms": [
        "unit_mag",
        "take_200"
       ]
      },
      {
       "domain_prefix": "W_",
       "domains": [
        1,
        2,
        3,
        4
       ],
       "episode_transforms": [],
       "labels": [
        "1-10",
        "1-12",
        "1-14",
        "1-16",
        "1-18",
        "1-19",
        "1-8",
        "10-11",
        "10-17",
        "10-4",
        "10-7",
        "11-1",
        "11-10",
        "11-19",
        "11-20",
        "11-4",
        "11-7",
        "12-19",
        "12-20",
        "12-7",
        "13-14",
        "13-18",
        "13-19",
        "13-20",
        "13-3",
        "13-7",
        "14-10",
        "14-11",
        "14-12",
        "14-13",
        "14-14",
        "14-19",
        "14-20",
        "14-7",
        "14-8",
        "14-9",
        "15-1",
        "15-19",
        "15-6",
        "16-1",
        "16-16",
        "16-19",
        "16-20",
        "17-10",
        "17-11",
        "18-1",
        "18-10",
        "18-11",
        "18-12",
        "18-13",
        "18-14",
        "18-15",
        "18-16",
        "18-17",
        "18-19",
        "18-2",
        "18-20",
        "18-4",
        "18-5",
        "18-7",
        "18-8",
        "18-9",
        "19-1",
        "19-10",
        "19-11",
        "19-12",
        "19-13",
        "19-14",
        "19-15",
        "19-19",
        "19-2",
        "19-20",
        "19-3",
        "19-4",
        "19-6",
        "19-7",
        "19-8",
        "19-9",
        "2-1",
        "2-13",
        "2-15",
        "2-3",
        "2-4",
        "2-5",
        "2-6",
        "2-7",
        "2-8",
        "20-1",
        "20-12",
        "20-14",
        "20-15",
        "20-16",
        "20-18",
        "20-19",
        "20-20",
        "20-3",
        "20-4",
        "20-5",
        "20-7",
        "20-8",
        "3-1",
        "3-13",
        "3-18",
        "3-2",
        "3-8",
        "4-1",
        "4-10",
        "4-11",
        "5-1",
        "5-5",
        "6-1",
        "6-15",
        "6-6",
        "7-10",
        "7-11",
        "7-12",
        "7-13",
        "7-14",
        "7-7",
        "7-8",
        "7-9",
        "8-1",
        "8-13",
        "8-14",
        "8-18",
        "8-20",
        "8-3",
        "8-8",
        "9-1",
        "9-7"
       ],
       "num_examples_per_domain_per_label": -1,
       "pickle_path": "/mnt/wd500GB/CSC500/csc500-main/datasets/wisig.node3-19.stratified_ds.2022A.pkl",
       "source_or_target_dataset": "source",
       "x_transforms": [
        "unit_mag",
        "take_200"
       ]
      },
      {
       "domain_prefix": "O_",
       "domains": [
        32,
        38,
        8,
        44,
        14,
        50,
        20,
        26
       ],
       "episode_transforms": [],
       "labels": [
        "3123D52",
        "3123D65",
        "3123D79",
        "3123D80",
        "3123D54",
        "3123D70",
        "3123D7B",
        "3123D89",
        "3123D58",
        "3123D76",
        "3123D7D",
        "3123EFE",
        "3123D64",
        "3123D78",
        "3123D7E",
        "3124E4A"
       ],
       "num_examples_per_domain_per_label": 2000,
       "pickle_path": "/mnt/wd500GB/CSC500/csc500-main/datasets/oracle.Run1_framed_2000Examples_stratified_ds.2022A.pkl",
       "source_or_target_dataset": "target",
       "x_transforms": [
        "unit_mag",
        "take_200",
        "resample_20Msps_to_25Msps"
       ]
      }
     ],
     "device": "cuda",
     "experiment_name": "tl_3Av2:cores+wisig -> oracle.run1.framed",
     "lr": 0.0001,
     "n_epoch": 50,
     "n_query": 2,
     "n_shot": 3,
     "n_way": 16,
     "patience": 3,
     "seed": 7,
     "test_k_factor": 2,
     "torch_default_dtype": "torch.float32",
     "train_k_factor": 3,
     "val_k_factor": 2,
     "x_net": [
      {
       "class": "nnReshape",
       "kargs": {
        "shape": [
         -1,
         1,
         2,
         200
        ]
       }
      },
      {
       "class": "Conv2d",
       "kargs": {
        "bias": false,
        "in_channels": 1,
        "kernel_size": [
         1,
         7
        ],
        "out_channels": 256,
        "padding": [
         0,
         3
        ]
       }
      },
      {
       "class": "ReLU",
       "kargs": {
        "inplace": true
       }
      },
      {
       "class": "BatchNorm2d",
       "kargs": {
        "num_features": 256
       }
      },
      {
       "class": "Conv2d",
       "kargs": {
        "bias": true,
        "in_channels": 256,
        "kernel_size": [
         2,
         7
        ],
        "out_channels": 80,
        "padding": [
         0,
         3
        ]
       }
      },
      {
       "class": "ReLU",
       "kargs": {
        "inplace": true
       }
      },
      {
       "class": "BatchNorm2d",
       "kargs": {
        "num_features": 80
       }
      },
      {
       "class": "Flatten",
       "kargs": {}
      },
      {
       "class": "Linear",
       "kargs": {
        "in_features": 16000,
        "out_features": 256
       }
      },
      {
       "class": "ReLU",
       "kargs": {
        "inplace": true
       }
      },
      {
       "class": "BatchNorm1d",
       "kargs": {
        "num_features": 256
       }
      },
      {
       "class": "Linear",
       "kargs": {
        "in_features": 256,
        "out_features": 256
       }
      }
     ],
     "x_shape": [
      2,
      200
     ]
    }
   },
   "start_time": "2022-03-20T17:04:56.481536",
   "version": "2.3.4"
  }
 },
 "nbformat": 4,
 "nbformat_minor": 5
}