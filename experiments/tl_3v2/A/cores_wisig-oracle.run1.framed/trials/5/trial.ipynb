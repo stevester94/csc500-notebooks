{
 "cells": [
  {
   "cell_type": "markdown",
   "id": "9fea5f46",
   "metadata": {
    "papermill": {
     "duration": 0.016334,
     "end_time": "2022-03-20T11:19:19.906191",
     "exception": false,
     "start_time": "2022-03-20T11:19:19.889857",
     "status": "completed"
    },
    "tags": []
   },
   "source": [
    "# Transfer Learning Template"
   ]
  },
  {
   "cell_type": "code",
   "execution_count": 1,
   "id": "0902182a",
   "metadata": {
    "execution": {
     "iopub.execute_input": "2022-03-20T11:19:19.943807Z",
     "iopub.status.busy": "2022-03-20T11:19:19.943522Z",
     "iopub.status.idle": "2022-03-20T11:19:20.944514Z",
     "shell.execute_reply": "2022-03-20T11:19:20.943904Z"
    },
    "papermill": {
     "duration": 1.024779,
     "end_time": "2022-03-20T11:19:20.944688",
     "exception": false,
     "start_time": "2022-03-20T11:19:19.919909",
     "status": "completed"
    },
    "tags": []
   },
   "outputs": [],
   "source": [
    "%load_ext autoreload\n",
    "%autoreload 2\n",
    "%matplotlib inline\n",
    "\n",
    "    \n",
    "import os, json, sys, time, random\n",
    "import numpy as np\n",
    "import torch\n",
    "from torch.optim import Adam\n",
    "from  easydict import EasyDict\n",
    "import matplotlib.pyplot as plt\n",
    "\n",
    "from steves_models.steves_ptn import Steves_Prototypical_Network\n",
    "\n",
    "from steves_utils.lazy_iterable_wrapper import Lazy_Iterable_Wrapper\n",
    "from steves_utils.iterable_aggregator import Iterable_Aggregator\n",
    "from steves_utils.ptn_train_eval_test_jig import  PTN_Train_Eval_Test_Jig\n",
    "from steves_utils.torch_sequential_builder import build_sequential\n",
    "from steves_utils.torch_utils import get_dataset_metrics, ptn_confusion_by_domain_over_dataloader\n",
    "from steves_utils.utils_v2 import (per_domain_accuracy_from_confusion, get_datasets_base_path)\n",
    "from steves_utils.PTN.utils import independent_accuracy_assesment\n",
    "\n",
    "from torch.utils.data import DataLoader\n",
    "\n",
    "from steves_utils.stratified_dataset.episodic_accessor import Episodic_Accessor_Factory\n",
    "\n",
    "from steves_utils.ptn_do_report import (\n",
    "    get_loss_curve,\n",
    "    get_results_table,\n",
    "    get_parameters_table,\n",
    "    get_domain_accuracies,\n",
    ")\n",
    "\n",
    "from steves_utils.transforms import get_chained_transform"
   ]
  },
  {
   "cell_type": "markdown",
   "id": "41c840b4",
   "metadata": {
    "papermill": {
     "duration": 0.012813,
     "end_time": "2022-03-20T11:19:20.976232",
     "exception": false,
     "start_time": "2022-03-20T11:19:20.963419",
     "status": "completed"
    },
    "tags": []
   },
   "source": [
    "# Allowed Parameters\n",
    "These are allowed parameters, not defaults\n",
    "Each of these values need to be present in the injected parameters (the notebook will raise an exception if they are not present)\n",
    "\n",
    "Papermill uses the cell tag \"parameters\" to inject the real parameters below this cell.\n",
    "Enable tags to see what I mean"
   ]
  },
  {
   "cell_type": "code",
   "execution_count": 2,
   "id": "fd44eb83",
   "metadata": {
    "execution": {
     "iopub.execute_input": "2022-03-20T11:19:21.005336Z",
     "iopub.status.busy": "2022-03-20T11:19:21.005067Z",
     "iopub.status.idle": "2022-03-20T11:19:21.021451Z",
     "shell.execute_reply": "2022-03-20T11:19:21.021868Z"
    },
    "papermill": {
     "duration": 0.032902,
     "end_time": "2022-03-20T11:19:21.022007",
     "exception": false,
     "start_time": "2022-03-20T11:19:20.989105",
     "status": "completed"
    },
    "tags": []
   },
   "outputs": [],
   "source": [
    "required_parameters = {\n",
    "    \"experiment_name\",\n",
    "    \"lr\",\n",
    "    \"device\",\n",
    "    \"seed\",\n",
    "    \"dataset_seed\",\n",
    "    \"n_shot\",\n",
    "    \"n_query\",\n",
    "    \"n_way\",\n",
    "    \"train_k_factor\",\n",
    "    \"val_k_factor\",\n",
    "    \"test_k_factor\",\n",
    "    \"n_epoch\",\n",
    "    \"patience\",\n",
    "    \"criteria_for_best\",\n",
    "    \"x_net\",\n",
    "    \"datasets\",\n",
    "    \"torch_default_dtype\",\n",
    "    \"NUM_LOGS_PER_EPOCH\",\n",
    "    \"BEST_MODEL_PATH\",\n",
    "    \"x_shape\",\n",
    "}"
   ]
  },
  {
   "cell_type": "code",
   "execution_count": 3,
   "id": "fa3f0049",
   "metadata": {
    "execution": {
     "iopub.execute_input": "2022-03-20T11:19:21.061987Z",
     "iopub.status.busy": "2022-03-20T11:19:21.054696Z",
     "iopub.status.idle": "2022-03-20T11:19:21.075390Z",
     "shell.execute_reply": "2022-03-20T11:19:21.075815Z"
    },
    "papermill": {
     "duration": 0.035935,
     "end_time": "2022-03-20T11:19:21.075953",
     "exception": false,
     "start_time": "2022-03-20T11:19:21.040018",
     "status": "completed"
    },
    "tags": [
     "parameters"
    ]
   },
   "outputs": [],
   "source": [
    "from steves_utils.CORES.utils import (\n",
    "    ALL_NODES,\n",
    "    ALL_NODES_MINIMUM_1000_EXAMPLES,\n",
    "    ALL_DAYS\n",
    ")\n",
    "\n",
    "from steves_utils.ORACLE.utils_v2 import (\n",
    "    ALL_DISTANCES_FEET_NARROWED,\n",
    "    ALL_RUNS,\n",
    "    ALL_SERIAL_NUMBERS,\n",
    ")\n",
    "\n",
    "standalone_parameters = {}\n",
    "standalone_parameters[\"experiment_name\"] = \"STANDALONE PTN\"\n",
    "standalone_parameters[\"lr\"] = 0.001\n",
    "standalone_parameters[\"device\"] = \"cuda\"\n",
    "\n",
    "standalone_parameters[\"seed\"] = 1337\n",
    "standalone_parameters[\"dataset_seed\"] = 1337\n",
    "\n",
    "standalone_parameters[\"n_way\"] = 8\n",
    "standalone_parameters[\"n_shot\"] = 3\n",
    "standalone_parameters[\"n_query\"]  = 2\n",
    "standalone_parameters[\"train_k_factor\"] = 1\n",
    "standalone_parameters[\"val_k_factor\"] = 2\n",
    "standalone_parameters[\"test_k_factor\"] = 2\n",
    "\n",
    "\n",
    "standalone_parameters[\"n_epoch\"] = 50\n",
    "\n",
    "standalone_parameters[\"patience\"] = 10\n",
    "standalone_parameters[\"criteria_for_best\"] = \"source_loss\"\n",
    "\n",
    "standalone_parameters[\"datasets\"] = [\n",
    "    {\n",
    "        \"labels\": ALL_SERIAL_NUMBERS,\n",
    "        \"domains\": ALL_DISTANCES_FEET_NARROWED,\n",
    "        \"num_examples_per_domain_per_label\": 100,\n",
    "        \"pickle_path\": os.path.join(get_datasets_base_path(), \"oracle.Run1_framed_2000Examples_stratified_ds.2022A.pkl\"),\n",
    "        \"source_or_target_dataset\": \"source\",\n",
    "        \"x_transforms\": [\"unit_mag\", \"minus_two\"],\n",
    "        \"episode_transforms\": [],\n",
    "        \"domain_prefix\": \"ORACLE_\"\n",
    "    },\n",
    "    {\n",
    "        \"labels\": ALL_NODES,\n",
    "        \"domains\": ALL_DAYS,\n",
    "        \"num_examples_per_domain_per_label\": 100,\n",
    "        \"pickle_path\": os.path.join(get_datasets_base_path(), \"cores.stratified_ds.2022A.pkl\"),\n",
    "        \"source_or_target_dataset\": \"target\",\n",
    "        \"x_transforms\": [\"unit_power\", \"times_zero\"],\n",
    "        \"episode_transforms\": [],\n",
    "        \"domain_prefix\": \"CORES_\"\n",
    "    }   \n",
    "]\n",
    "\n",
    "standalone_parameters[\"torch_default_dtype\"] = \"torch.float32\" \n",
    "\n",
    "\n",
    "\n",
    "standalone_parameters[\"x_net\"] =     [\n",
    "    {\"class\": \"nnReshape\", \"kargs\": {\"shape\":[-1, 1, 2, 256]}},\n",
    "    {\"class\": \"Conv2d\", \"kargs\": { \"in_channels\":1, \"out_channels\":256, \"kernel_size\":(1,7), \"bias\":False, \"padding\":(0,3), },},\n",
    "    {\"class\": \"ReLU\", \"kargs\": {\"inplace\": True}},\n",
    "    {\"class\": \"BatchNorm2d\", \"kargs\": {\"num_features\":256}},\n",
    "\n",
    "    {\"class\": \"Conv2d\", \"kargs\": { \"in_channels\":256, \"out_channels\":80, \"kernel_size\":(2,7), \"bias\":True, \"padding\":(0,3), },},\n",
    "    {\"class\": \"ReLU\", \"kargs\": {\"inplace\": True}},\n",
    "    {\"class\": \"BatchNorm2d\", \"kargs\": {\"num_features\":80}},\n",
    "    {\"class\": \"Flatten\", \"kargs\": {}},\n",
    "\n",
    "    {\"class\": \"Linear\", \"kargs\": {\"in_features\": 80*256, \"out_features\": 256}}, # 80 units per IQ pair\n",
    "    {\"class\": \"ReLU\", \"kargs\": {\"inplace\": True}},\n",
    "    {\"class\": \"BatchNorm1d\", \"kargs\": {\"num_features\":256}},\n",
    "\n",
    "    {\"class\": \"Linear\", \"kargs\": {\"in_features\": 256, \"out_features\": 256}},\n",
    "]\n",
    "\n",
    "# Parameters relevant to results\n",
    "# These parameters will basically never need to change\n",
    "standalone_parameters[\"NUM_LOGS_PER_EPOCH\"] = 10\n",
    "standalone_parameters[\"BEST_MODEL_PATH\"] = \"./best_model.pth\"\n",
    "\n",
    "\n",
    "\n",
    "\n"
   ]
  },
  {
   "cell_type": "code",
   "execution_count": 4,
   "id": "bfe394af",
   "metadata": {
    "execution": {
     "iopub.execute_input": "2022-03-20T11:19:21.118768Z",
     "iopub.status.busy": "2022-03-20T11:19:21.116147Z",
     "iopub.status.idle": "2022-03-20T11:19:21.134502Z",
     "shell.execute_reply": "2022-03-20T11:19:21.134924Z"
    },
    "papermill": {
     "duration": 0.039289,
     "end_time": "2022-03-20T11:19:21.135061",
     "exception": false,
     "start_time": "2022-03-20T11:19:21.095772",
     "status": "completed"
    },
    "tags": [
     "injected-parameters"
    ]
   },
   "outputs": [],
   "source": [
    "# Parameters\n",
    "parameters = {\n",
    "    \"experiment_name\": \"tl_3Av2:cores+wisig -> oracle.run1.framed\",\n",
    "    \"device\": \"cuda\",\n",
    "    \"lr\": 0.0001,\n",
    "    \"x_shape\": [2, 200],\n",
    "    \"n_shot\": 3,\n",
    "    \"n_query\": 2,\n",
    "    \"train_k_factor\": 3,\n",
    "    \"val_k_factor\": 2,\n",
    "    \"test_k_factor\": 2,\n",
    "    \"torch_default_dtype\": \"torch.float32\",\n",
    "    \"n_epoch\": 50,\n",
    "    \"patience\": 3,\n",
    "    \"criteria_for_best\": \"target_accuracy\",\n",
    "    \"x_net\": [\n",
    "        {\"class\": \"nnReshape\", \"kargs\": {\"shape\": [-1, 1, 2, 200]}},\n",
    "        {\n",
    "            \"class\": \"Conv2d\",\n",
    "            \"kargs\": {\n",
    "                \"in_channels\": 1,\n",
    "                \"out_channels\": 256,\n",
    "                \"kernel_size\": [1, 7],\n",
    "                \"bias\": False,\n",
    "                \"padding\": [0, 3],\n",
    "            },\n",
    "        },\n",
    "        {\"class\": \"ReLU\", \"kargs\": {\"inplace\": True}},\n",
    "        {\"class\": \"BatchNorm2d\", \"kargs\": {\"num_features\": 256}},\n",
    "        {\n",
    "            \"class\": \"Conv2d\",\n",
    "            \"kargs\": {\n",
    "                \"in_channels\": 256,\n",
    "                \"out_channels\": 80,\n",
    "                \"kernel_size\": [2, 7],\n",
    "                \"bias\": True,\n",
    "                \"padding\": [0, 3],\n",
    "            },\n",
    "        },\n",
    "        {\"class\": \"ReLU\", \"kargs\": {\"inplace\": True}},\n",
    "        {\"class\": \"BatchNorm2d\", \"kargs\": {\"num_features\": 80}},\n",
    "        {\"class\": \"Flatten\", \"kargs\": {}},\n",
    "        {\"class\": \"Linear\", \"kargs\": {\"in_features\": 16000, \"out_features\": 256}},\n",
    "        {\"class\": \"ReLU\", \"kargs\": {\"inplace\": True}},\n",
    "        {\"class\": \"BatchNorm1d\", \"kargs\": {\"num_features\": 256}},\n",
    "        {\"class\": \"Linear\", \"kargs\": {\"in_features\": 256, \"out_features\": 256}},\n",
    "    ],\n",
    "    \"NUM_LOGS_PER_EPOCH\": 10,\n",
    "    \"BEST_MODEL_PATH\": \"./best_model.pth\",\n",
    "    \"n_way\": 16,\n",
    "    \"datasets\": [\n",
    "        {\n",
    "            \"labels\": [\n",
    "                \"1-10.\",\n",
    "                \"1-11.\",\n",
    "                \"1-15.\",\n",
    "                \"1-16.\",\n",
    "                \"1-17.\",\n",
    "                \"1-18.\",\n",
    "                \"1-19.\",\n",
    "                \"10-4.\",\n",
    "                \"10-7.\",\n",
    "                \"11-1.\",\n",
    "                \"11-14.\",\n",
    "                \"11-17.\",\n",
    "                \"11-20.\",\n",
    "                \"11-7.\",\n",
    "                \"13-20.\",\n",
    "                \"13-8.\",\n",
    "                \"14-10.\",\n",
    "                \"14-11.\",\n",
    "                \"14-14.\",\n",
    "                \"14-7.\",\n",
    "                \"15-1.\",\n",
    "                \"15-20.\",\n",
    "                \"16-1.\",\n",
    "                \"16-16.\",\n",
    "                \"17-10.\",\n",
    "                \"17-11.\",\n",
    "                \"17-2.\",\n",
    "                \"19-1.\",\n",
    "                \"19-16.\",\n",
    "                \"19-19.\",\n",
    "                \"19-20.\",\n",
    "                \"19-3.\",\n",
    "                \"2-10.\",\n",
    "                \"2-11.\",\n",
    "                \"2-17.\",\n",
    "                \"2-18.\",\n",
    "                \"2-20.\",\n",
    "                \"2-3.\",\n",
    "                \"2-4.\",\n",
    "                \"2-5.\",\n",
    "                \"2-6.\",\n",
    "                \"2-7.\",\n",
    "                \"2-8.\",\n",
    "                \"3-13.\",\n",
    "                \"3-18.\",\n",
    "                \"3-3.\",\n",
    "                \"4-1.\",\n",
    "                \"4-10.\",\n",
    "                \"4-11.\",\n",
    "                \"4-19.\",\n",
    "                \"5-5.\",\n",
    "                \"6-15.\",\n",
    "                \"7-10.\",\n",
    "                \"7-14.\",\n",
    "                \"8-18.\",\n",
    "                \"8-20.\",\n",
    "                \"8-3.\",\n",
    "                \"8-8.\",\n",
    "            ],\n",
    "            \"domains\": [1, 2, 3, 4, 5],\n",
    "            \"num_examples_per_domain_per_label\": -1,\n",
    "            \"pickle_path\": \"/mnt/wd500GB/CSC500/csc500-main/datasets/cores.stratified_ds.2022A.pkl\",\n",
    "            \"source_or_target_dataset\": \"source\",\n",
    "            \"x_transforms\": [\"take_200\"],\n",
    "            \"episode_transforms\": [],\n",
    "            \"domain_prefix\": \"C_\",\n",
    "        },\n",
    "        {\n",
    "            \"labels\": [\n",
    "                \"1-10\",\n",
    "                \"1-12\",\n",
    "                \"1-14\",\n",
    "                \"1-16\",\n",
    "                \"1-18\",\n",
    "                \"1-19\",\n",
    "                \"1-8\",\n",
    "                \"10-11\",\n",
    "                \"10-17\",\n",
    "                \"10-4\",\n",
    "                \"10-7\",\n",
    "                \"11-1\",\n",
    "                \"11-10\",\n",
    "                \"11-19\",\n",
    "                \"11-20\",\n",
    "                \"11-4\",\n",
    "                \"11-7\",\n",
    "                \"12-19\",\n",
    "                \"12-20\",\n",
    "                \"12-7\",\n",
    "                \"13-14\",\n",
    "                \"13-18\",\n",
    "                \"13-19\",\n",
    "                \"13-20\",\n",
    "                \"13-3\",\n",
    "                \"13-7\",\n",
    "                \"14-10\",\n",
    "                \"14-11\",\n",
    "                \"14-12\",\n",
    "                \"14-13\",\n",
    "                \"14-14\",\n",
    "                \"14-19\",\n",
    "                \"14-20\",\n",
    "                \"14-7\",\n",
    "                \"14-8\",\n",
    "                \"14-9\",\n",
    "                \"15-1\",\n",
    "                \"15-19\",\n",
    "                \"15-6\",\n",
    "                \"16-1\",\n",
    "                \"16-16\",\n",
    "                \"16-19\",\n",
    "                \"16-20\",\n",
    "                \"17-10\",\n",
    "                \"17-11\",\n",
    "                \"18-1\",\n",
    "                \"18-10\",\n",
    "                \"18-11\",\n",
    "                \"18-12\",\n",
    "                \"18-13\",\n",
    "                \"18-14\",\n",
    "                \"18-15\",\n",
    "                \"18-16\",\n",
    "                \"18-17\",\n",
    "                \"18-19\",\n",
    "                \"18-2\",\n",
    "                \"18-20\",\n",
    "                \"18-4\",\n",
    "                \"18-5\",\n",
    "                \"18-7\",\n",
    "                \"18-8\",\n",
    "                \"18-9\",\n",
    "                \"19-1\",\n",
    "                \"19-10\",\n",
    "                \"19-11\",\n",
    "                \"19-12\",\n",
    "                \"19-13\",\n",
    "                \"19-14\",\n",
    "                \"19-15\",\n",
    "                \"19-19\",\n",
    "                \"19-2\",\n",
    "                \"19-20\",\n",
    "                \"19-3\",\n",
    "                \"19-4\",\n",
    "                \"19-6\",\n",
    "                \"19-7\",\n",
    "                \"19-8\",\n",
    "                \"19-9\",\n",
    "                \"2-1\",\n",
    "                \"2-13\",\n",
    "                \"2-15\",\n",
    "                \"2-3\",\n",
    "                \"2-4\",\n",
    "                \"2-5\",\n",
    "                \"2-6\",\n",
    "                \"2-7\",\n",
    "                \"2-8\",\n",
    "                \"20-1\",\n",
    "                \"20-12\",\n",
    "                \"20-14\",\n",
    "                \"20-15\",\n",
    "                \"20-16\",\n",
    "                \"20-18\",\n",
    "                \"20-19\",\n",
    "                \"20-20\",\n",
    "                \"20-3\",\n",
    "                \"20-4\",\n",
    "                \"20-5\",\n",
    "                \"20-7\",\n",
    "                \"20-8\",\n",
    "                \"3-1\",\n",
    "                \"3-13\",\n",
    "                \"3-18\",\n",
    "                \"3-2\",\n",
    "                \"3-8\",\n",
    "                \"4-1\",\n",
    "                \"4-10\",\n",
    "                \"4-11\",\n",
    "                \"5-1\",\n",
    "                \"5-5\",\n",
    "                \"6-1\",\n",
    "                \"6-15\",\n",
    "                \"6-6\",\n",
    "                \"7-10\",\n",
    "                \"7-11\",\n",
    "                \"7-12\",\n",
    "                \"7-13\",\n",
    "                \"7-14\",\n",
    "                \"7-7\",\n",
    "                \"7-8\",\n",
    "                \"7-9\",\n",
    "                \"8-1\",\n",
    "                \"8-13\",\n",
    "                \"8-14\",\n",
    "                \"8-18\",\n",
    "                \"8-20\",\n",
    "                \"8-3\",\n",
    "                \"8-8\",\n",
    "                \"9-1\",\n",
    "                \"9-7\",\n",
    "            ],\n",
    "            \"domains\": [1, 2, 3, 4],\n",
    "            \"num_examples_per_domain_per_label\": -1,\n",
    "            \"pickle_path\": \"/mnt/wd500GB/CSC500/csc500-main/datasets/wisig.node3-19.stratified_ds.2022A.pkl\",\n",
    "            \"source_or_target_dataset\": \"source\",\n",
    "            \"x_transforms\": [\"take_200\"],\n",
    "            \"episode_transforms\": [],\n",
    "            \"domain_prefix\": \"W_\",\n",
    "        },\n",
    "        {\n",
    "            \"labels\": [\n",
    "                \"3123D52\",\n",
    "                \"3123D65\",\n",
    "                \"3123D79\",\n",
    "                \"3123D80\",\n",
    "                \"3123D54\",\n",
    "                \"3123D70\",\n",
    "                \"3123D7B\",\n",
    "                \"3123D89\",\n",
    "                \"3123D58\",\n",
    "                \"3123D76\",\n",
    "                \"3123D7D\",\n",
    "                \"3123EFE\",\n",
    "                \"3123D64\",\n",
    "                \"3123D78\",\n",
    "                \"3123D7E\",\n",
    "                \"3124E4A\",\n",
    "            ],\n",
    "            \"domains\": [32, 38, 8, 44, 14, 50, 20, 26],\n",
    "            \"num_examples_per_domain_per_label\": 2000,\n",
    "            \"pickle_path\": \"/mnt/wd500GB/CSC500/csc500-main/datasets/oracle.Run1_framed_2000Examples_stratified_ds.2022A.pkl\",\n",
    "            \"source_or_target_dataset\": \"target\",\n",
    "            \"x_transforms\": [\"take_200\", \"resample_20Msps_to_25Msps\"],\n",
    "            \"episode_transforms\": [],\n",
    "            \"domain_prefix\": \"O_\",\n",
    "        },\n",
    "    ],\n",
    "    \"seed\": 420,\n",
    "    \"dataset_seed\": 420,\n",
    "}\n"
   ]
  },
  {
   "cell_type": "code",
   "execution_count": 5,
   "id": "8fa1cc33",
   "metadata": {
    "execution": {
     "iopub.execute_input": "2022-03-20T11:19:21.172392Z",
     "iopub.status.busy": "2022-03-20T11:19:21.172125Z",
     "iopub.status.idle": "2022-03-20T11:19:21.187065Z",
     "shell.execute_reply": "2022-03-20T11:19:21.187521Z"
    },
    "papermill": {
     "duration": 0.033145,
     "end_time": "2022-03-20T11:19:21.187659",
     "exception": false,
     "start_time": "2022-03-20T11:19:21.154514",
     "status": "completed"
    },
    "tags": []
   },
   "outputs": [],
   "source": [
    "# Set this to True if you want to run this template directly\n",
    "STANDALONE = False\n",
    "if STANDALONE:\n",
    "    print(\"parameters not injected, running with standalone_parameters\")\n",
    "    parameters = standalone_parameters\n",
    "\n",
    "if not 'parameters' in locals() and not 'parameters' in globals():\n",
    "    raise Exception(\"Parameter injection failed\")\n",
    "\n",
    "#Use an easy dict for all the parameters\n",
    "p = EasyDict(parameters)\n",
    "\n",
    "if \"x_shape\" not in p:\n",
    "    p.x_shape = [2,256] # Default to this if we dont supply x_shape\n",
    "\n",
    "\n",
    "supplied_keys = set(p.keys())\n",
    "\n",
    "if  supplied_keys != required_parameters:\n",
    "    print(\"Parameters are incorrect\")\n",
    "    if len(supplied_keys - required_parameters)>0: print(\"Shouldn't have:\", str(supplied_keys - required_parameters))\n",
    "    if len(required_parameters - supplied_keys)>0: print(\"Need to have:\", str(required_parameters - supplied_keys))\n",
    "    raise RuntimeError(\"Parameters are incorrect\")"
   ]
  },
  {
   "cell_type": "code",
   "execution_count": 6,
   "id": "3a028d58",
   "metadata": {
    "execution": {
     "iopub.execute_input": "2022-03-20T11:19:21.222712Z",
     "iopub.status.busy": "2022-03-20T11:19:21.222446Z",
     "iopub.status.idle": "2022-03-20T11:19:21.235867Z",
     "shell.execute_reply": "2022-03-20T11:19:21.236193Z"
    },
    "papermill": {
     "duration": 0.029195,
     "end_time": "2022-03-20T11:19:21.236328",
     "exception": false,
     "start_time": "2022-03-20T11:19:21.207133",
     "status": "completed"
    },
    "tags": []
   },
   "outputs": [],
   "source": [
    "###################################\n",
    "# Set the RNGs and make it all deterministic\n",
    "###################################\n",
    "np.random.seed(p.seed)\n",
    "random.seed(p.seed)\n",
    "torch.manual_seed(p.seed)\n",
    "\n",
    "torch.use_deterministic_algorithms(True) "
   ]
  },
  {
   "cell_type": "code",
   "execution_count": 7,
   "id": "b691acf6",
   "metadata": {
    "execution": {
     "iopub.execute_input": "2022-03-20T11:19:21.272129Z",
     "iopub.status.busy": "2022-03-20T11:19:21.271867Z",
     "iopub.status.idle": "2022-03-20T11:19:21.286672Z",
     "shell.execute_reply": "2022-03-20T11:19:21.286980Z"
    },
    "papermill": {
     "duration": 0.030864,
     "end_time": "2022-03-20T11:19:21.287083",
     "exception": false,
     "start_time": "2022-03-20T11:19:21.256219",
     "status": "completed"
    },
    "tags": []
   },
   "outputs": [],
   "source": [
    "###########################################\n",
    "# The stratified datasets honor this\n",
    "###########################################\n",
    "torch.set_default_dtype(eval(p.torch_default_dtype))"
   ]
  },
  {
   "cell_type": "code",
   "execution_count": 8,
   "id": "b5fba671",
   "metadata": {
    "execution": {
     "iopub.execute_input": "2022-03-20T11:19:21.323710Z",
     "iopub.status.busy": "2022-03-20T11:19:21.323287Z",
     "iopub.status.idle": "2022-03-20T11:19:21.356504Z",
     "shell.execute_reply": "2022-03-20T11:19:21.356922Z"
    },
    "papermill": {
     "duration": 0.049403,
     "end_time": "2022-03-20T11:19:21.357056",
     "exception": false,
     "start_time": "2022-03-20T11:19:21.307653",
     "status": "completed"
    },
    "tags": []
   },
   "outputs": [],
   "source": [
    "###################################\n",
    "# Build the network(s)\n",
    "# Note: It's critical to do this AFTER setting the RNG\n",
    "###################################\n",
    "x_net = build_sequential(p.x_net)"
   ]
  },
  {
   "cell_type": "code",
   "execution_count": 9,
   "id": "5d7e61cc",
   "metadata": {
    "execution": {
     "iopub.execute_input": "2022-03-20T11:19:21.390446Z",
     "iopub.status.busy": "2022-03-20T11:19:21.389505Z",
     "iopub.status.idle": "2022-03-20T11:19:21.404988Z",
     "shell.execute_reply": "2022-03-20T11:19:21.405449Z"
    },
    "papermill": {
     "duration": 0.030979,
     "end_time": "2022-03-20T11:19:21.405592",
     "exception": false,
     "start_time": "2022-03-20T11:19:21.374613",
     "status": "completed"
    },
    "tags": []
   },
   "outputs": [],
   "source": [
    "start_time_secs = time.time()"
   ]
  },
  {
   "cell_type": "code",
   "execution_count": 10,
   "id": "c6b67dfd",
   "metadata": {
    "execution": {
     "iopub.execute_input": "2022-03-20T11:19:21.441994Z",
     "iopub.status.busy": "2022-03-20T11:19:21.441732Z",
     "iopub.status.idle": "2022-03-20T11:19:21.457593Z",
     "shell.execute_reply": "2022-03-20T11:19:21.457911Z"
    },
    "papermill": {
     "duration": 0.033279,
     "end_time": "2022-03-20T11:19:21.458019",
     "exception": false,
     "start_time": "2022-03-20T11:19:21.424740",
     "status": "completed"
    },
    "tags": []
   },
   "outputs": [],
   "source": [
    "p.domains_source = []\n",
    "p.domains_target = []\n",
    "\n",
    "\n",
    "train_original_source = []\n",
    "val_original_source   = []\n",
    "test_original_source  = []\n",
    "\n",
    "train_original_target = []\n",
    "val_original_target   = []\n",
    "test_original_target  = []"
   ]
  },
  {
   "cell_type": "code",
   "execution_count": 11,
   "id": "e3d9c3d3",
   "metadata": {
    "execution": {
     "iopub.execute_input": "2022-03-20T11:19:21.490674Z",
     "iopub.status.busy": "2022-03-20T11:19:21.490408Z",
     "iopub.status.idle": "2022-03-20T11:19:21.503867Z",
     "shell.execute_reply": "2022-03-20T11:19:21.504172Z"
    },
    "papermill": {
     "duration": 0.02941,
     "end_time": "2022-03-20T11:19:21.504273",
     "exception": false,
     "start_time": "2022-03-20T11:19:21.474863",
     "status": "completed"
    },
    "tags": []
   },
   "outputs": [],
   "source": [
    "# global_x_transform_func = lambda x: normalize(x.to(torch.get_default_dtype()), \"unit_power\") # unit_power, unit_mag\n",
    "# global_x_transform_func = lambda x: normalize(x, \"unit_power\") # unit_power, unit_mag"
   ]
  },
  {
   "cell_type": "code",
   "execution_count": 12,
   "id": "acb78fd2",
   "metadata": {
    "execution": {
     "iopub.execute_input": "2022-03-20T11:19:21.541720Z",
     "iopub.status.busy": "2022-03-20T11:19:21.541451Z",
     "iopub.status.idle": "2022-03-20T11:19:21.553668Z",
     "shell.execute_reply": "2022-03-20T11:19:21.553203Z"
    },
    "papermill": {
     "duration": 0.030385,
     "end_time": "2022-03-20T11:19:21.553777",
     "exception": false,
     "start_time": "2022-03-20T11:19:21.523392",
     "status": "completed"
    },
    "tags": []
   },
   "outputs": [],
   "source": [
    "def add_dataset(\n",
    "    labels,\n",
    "    domains,\n",
    "    pickle_path,\n",
    "    x_transforms,\n",
    "    episode_transforms,\n",
    "    domain_prefix,\n",
    "    num_examples_per_domain_per_label,\n",
    "    source_or_target_dataset:str,\n",
    "    iterator_seed=p.seed,\n",
    "    dataset_seed=p.dataset_seed,\n",
    "    n_shot=p.n_shot,\n",
    "    n_way=p.n_way,\n",
    "    n_query=p.n_query,\n",
    "    train_val_test_k_factors=(p.train_k_factor,p.val_k_factor,p.test_k_factor),\n",
    "):\n",
    "   \n",
    "    if x_transforms == []: x_transform = None\n",
    "    else: x_transform = get_chained_transform(x_transforms)\n",
    "    \n",
    "    if episode_transforms == []: episode_transform = None\n",
    "    else: raise Exception(\"episode_transforms not implemented\")\n",
    "    \n",
    "    episode_transform = lambda tup, _prefix=domain_prefix: (_prefix + str(tup[0]), tup[1])\n",
    "\n",
    "\n",
    "    eaf = Episodic_Accessor_Factory(\n",
    "        labels=labels,\n",
    "        domains=domains,\n",
    "        num_examples_per_domain_per_label=num_examples_per_domain_per_label,\n",
    "        iterator_seed=iterator_seed,\n",
    "        dataset_seed=dataset_seed,\n",
    "        n_shot=n_shot,\n",
    "        n_way=n_way,\n",
    "        n_query=n_query,\n",
    "        train_val_test_k_factors=train_val_test_k_factors,\n",
    "        pickle_path=pickle_path,\n",
    "        x_transform_func=x_transform,\n",
    "    )\n",
    "\n",
    "    train, val, test = eaf.get_train(), eaf.get_val(), eaf.get_test()\n",
    "    train = Lazy_Iterable_Wrapper(train, episode_transform)\n",
    "    val = Lazy_Iterable_Wrapper(val, episode_transform)\n",
    "    test = Lazy_Iterable_Wrapper(test, episode_transform)\n",
    "\n",
    "    if source_or_target_dataset==\"source\":\n",
    "        train_original_source.append(train)\n",
    "        val_original_source.append(val)\n",
    "        test_original_source.append(test)\n",
    "\n",
    "        p.domains_source.extend(\n",
    "            [domain_prefix + str(u) for u in domains]\n",
    "        )\n",
    "    elif source_or_target_dataset==\"target\":\n",
    "        train_original_target.append(train)\n",
    "        val_original_target.append(val)\n",
    "        test_original_target.append(test)\n",
    "        p.domains_target.extend(\n",
    "            [domain_prefix + str(u) for u in domains]\n",
    "        )\n",
    "    else:\n",
    "        raise Exception(f\"invalid source_or_target_dataset: {source_or_target_dataset}\")\n",
    "    "
   ]
  },
  {
   "cell_type": "code",
   "execution_count": 13,
   "id": "fe266617",
   "metadata": {
    "execution": {
     "iopub.execute_input": "2022-03-20T11:19:21.590064Z",
     "iopub.status.busy": "2022-03-20T11:19:21.589788Z",
     "iopub.status.idle": "2022-03-20T11:19:39.926638Z",
     "shell.execute_reply": "2022-03-20T11:19:39.926874Z"
    },
    "papermill": {
     "duration": 18.354199,
     "end_time": "2022-03-20T11:19:39.926958",
     "exception": false,
     "start_time": "2022-03-20T11:19:21.572759",
     "status": "completed"
    },
    "tags": []
   },
   "outputs": [],
   "source": [
    "for ds in p.datasets:\n",
    "    add_dataset(**ds)"
   ]
  },
  {
   "cell_type": "code",
   "execution_count": 14,
   "id": "b90d65ac",
   "metadata": {
    "execution": {
     "iopub.execute_input": "2022-03-20T11:19:39.968687Z",
     "iopub.status.busy": "2022-03-20T11:19:39.968329Z",
     "iopub.status.idle": "2022-03-20T11:19:39.978594Z",
     "shell.execute_reply": "2022-03-20T11:19:39.978810Z"
    },
    "papermill": {
     "duration": 0.029399,
     "end_time": "2022-03-20T11:19:39.978878",
     "exception": false,
     "start_time": "2022-03-20T11:19:39.949479",
     "status": "completed"
    },
    "tags": []
   },
   "outputs": [],
   "source": [
    "# from steves_utils.CORES.utils import (\n",
    "#     ALL_NODES,\n",
    "#     ALL_NODES_MINIMUM_1000_EXAMPLES,\n",
    "#     ALL_DAYS\n",
    "# )\n",
    "\n",
    "# add_dataset(\n",
    "#     labels=ALL_NODES,\n",
    "#     domains = ALL_DAYS,\n",
    "#     num_examples_per_domain_per_label=100,\n",
    "#     pickle_path=os.path.join(get_datasets_base_path(), \"cores.stratified_ds.2022A.pkl\"),\n",
    "#     source_or_target_dataset=\"target\",\n",
    "#     x_transform_func=global_x_transform_func,\n",
    "#     domain_modifier=lambda u: f\"cores_{u}\"\n",
    "# )"
   ]
  },
  {
   "cell_type": "code",
   "execution_count": 15,
   "id": "76db484d",
   "metadata": {
    "execution": {
     "iopub.execute_input": "2022-03-20T11:19:40.017160Z",
     "iopub.status.busy": "2022-03-20T11:19:40.016889Z",
     "iopub.status.idle": "2022-03-20T11:19:40.027974Z",
     "shell.execute_reply": "2022-03-20T11:19:40.027549Z"
    },
    "papermill": {
     "duration": 0.028508,
     "end_time": "2022-03-20T11:19:40.028080",
     "exception": false,
     "start_time": "2022-03-20T11:19:39.999572",
     "status": "completed"
    },
    "tags": []
   },
   "outputs": [],
   "source": [
    "# from steves_utils.ORACLE.utils_v2 import (\n",
    "#     ALL_DISTANCES_FEET,\n",
    "#     ALL_RUNS,\n",
    "#     ALL_SERIAL_NUMBERS,\n",
    "# )\n",
    "\n",
    "\n",
    "# add_dataset(\n",
    "#     labels=ALL_SERIAL_NUMBERS,\n",
    "#     domains = list(set(ALL_DISTANCES_FEET) - {2,62}),\n",
    "#     num_examples_per_domain_per_label=100,\n",
    "#     pickle_path=os.path.join(get_datasets_base_path(), \"oracle.Run2_framed_2000Examples_stratified_ds.2022A.pkl\"),\n",
    "#     source_or_target_dataset=\"source\",\n",
    "#     x_transform_func=global_x_transform_func,\n",
    "#     domain_modifier=lambda u: f\"oracle1_{u}\"\n",
    "# )\n"
   ]
  },
  {
   "cell_type": "code",
   "execution_count": 16,
   "id": "97dea9d2",
   "metadata": {
    "execution": {
     "iopub.execute_input": "2022-03-20T11:19:40.066549Z",
     "iopub.status.busy": "2022-03-20T11:19:40.066286Z",
     "iopub.status.idle": "2022-03-20T11:19:40.076404Z",
     "shell.execute_reply": "2022-03-20T11:19:40.076077Z"
    },
    "papermill": {
     "duration": 0.02965,
     "end_time": "2022-03-20T11:19:40.076482",
     "exception": false,
     "start_time": "2022-03-20T11:19:40.046832",
     "status": "completed"
    },
    "tags": []
   },
   "outputs": [],
   "source": [
    "# from steves_utils.ORACLE.utils_v2 import (\n",
    "#     ALL_DISTANCES_FEET,\n",
    "#     ALL_RUNS,\n",
    "#     ALL_SERIAL_NUMBERS,\n",
    "# )\n",
    "\n",
    "\n",
    "# add_dataset(\n",
    "#     labels=ALL_SERIAL_NUMBERS,\n",
    "#     domains = list(set(ALL_DISTANCES_FEET) - {2,62,56}),\n",
    "#     num_examples_per_domain_per_label=100,\n",
    "#     pickle_path=os.path.join(get_datasets_base_path(), \"oracle.Run2_framed_2000Examples_stratified_ds.2022A.pkl\"),\n",
    "#     source_or_target_dataset=\"source\",\n",
    "#     x_transform_func=global_x_transform_func,\n",
    "#     domain_modifier=lambda u: f\"oracle2_{u}\"\n",
    "# )"
   ]
  },
  {
   "cell_type": "code",
   "execution_count": 17,
   "id": "6f289866",
   "metadata": {
    "execution": {
     "iopub.execute_input": "2022-03-20T11:19:40.119593Z",
     "iopub.status.busy": "2022-03-20T11:19:40.112335Z",
     "iopub.status.idle": "2022-03-20T11:19:40.126395Z",
     "shell.execute_reply": "2022-03-20T11:19:40.125909Z"
    },
    "papermill": {
     "duration": 0.03054,
     "end_time": "2022-03-20T11:19:40.126499",
     "exception": false,
     "start_time": "2022-03-20T11:19:40.095959",
     "status": "completed"
    },
    "tags": []
   },
   "outputs": [],
   "source": [
    "# add_dataset(\n",
    "#     labels=list(range(19)),\n",
    "#     domains = [0,1,2],\n",
    "#     num_examples_per_domain_per_label=100,\n",
    "#     pickle_path=os.path.join(get_datasets_base_path(), \"metehan.stratified_ds.2022A.pkl\"),\n",
    "#     source_or_target_dataset=\"target\",\n",
    "#     x_transform_func=global_x_transform_func,\n",
    "#     domain_modifier=lambda u: f\"met_{u}\"\n",
    "# )"
   ]
  },
  {
   "cell_type": "code",
   "execution_count": 18,
   "id": "86a863c3",
   "metadata": {
    "execution": {
     "iopub.execute_input": "2022-03-20T11:19:40.162057Z",
     "iopub.status.busy": "2022-03-20T11:19:40.161782Z",
     "iopub.status.idle": "2022-03-20T11:19:40.176249Z",
     "shell.execute_reply": "2022-03-20T11:19:40.175742Z"
    },
    "papermill": {
     "duration": 0.03105,
     "end_time": "2022-03-20T11:19:40.176354",
     "exception": false,
     "start_time": "2022-03-20T11:19:40.145304",
     "status": "completed"
    },
    "tags": []
   },
   "outputs": [],
   "source": [
    "# # from steves_utils.wisig.utils import (\n",
    "# #     ALL_NODES_MINIMUM_100_EXAMPLES,\n",
    "# #     ALL_NODES_MINIMUM_500_EXAMPLES,\n",
    "# #     ALL_NODES_MINIMUM_1000_EXAMPLES,\n",
    "# #     ALL_DAYS\n",
    "# # )\n",
    "\n",
    "# import steves_utils.wisig.utils as wisig\n",
    "\n",
    "\n",
    "# add_dataset(\n",
    "#     labels=wisig.ALL_NODES_MINIMUM_100_EXAMPLES,\n",
    "#     domains = wisig.ALL_DAYS,\n",
    "#     num_examples_per_domain_per_label=100,\n",
    "#     pickle_path=os.path.join(get_datasets_base_path(), \"wisig.node3-19.stratified_ds.2022A.pkl\"),\n",
    "#     source_or_target_dataset=\"target\",\n",
    "#     x_transform_func=global_x_transform_func,\n",
    "#     domain_modifier=lambda u: f\"wisig_{u}\"\n",
    "# )"
   ]
  },
  {
   "cell_type": "code",
   "execution_count": 19,
   "id": "fd5442bc",
   "metadata": {
    "execution": {
     "iopub.execute_input": "2022-03-20T11:19:40.211637Z",
     "iopub.status.busy": "2022-03-20T11:19:40.211362Z",
     "iopub.status.idle": "2022-03-20T11:19:40.224902Z",
     "shell.execute_reply": "2022-03-20T11:19:40.224379Z"
    },
    "papermill": {
     "duration": 0.032976,
     "end_time": "2022-03-20T11:19:40.225010",
     "exception": false,
     "start_time": "2022-03-20T11:19:40.192034",
     "status": "completed"
    },
    "tags": []
   },
   "outputs": [],
   "source": [
    "###################################\n",
    "# Build the dataset\n",
    "###################################\n",
    "train_original_source = Iterable_Aggregator(train_original_source, p.seed)\n",
    "val_original_source = Iterable_Aggregator(val_original_source, p.seed)\n",
    "test_original_source = Iterable_Aggregator(test_original_source, p.seed)\n",
    "\n",
    "\n",
    "train_original_target = Iterable_Aggregator(train_original_target, p.seed)\n",
    "val_original_target = Iterable_Aggregator(val_original_target, p.seed)\n",
    "test_original_target = Iterable_Aggregator(test_original_target, p.seed)\n",
    "\n",
    "# For CNN We only use X and Y. And we only train on the source.\n",
    "# Properly form the data using a transform lambda and Lazy_Iterable_Wrapper. Finally wrap them in a dataloader\n",
    "\n",
    "transform_lambda = lambda ex: ex[1] # Original is (<domain>, <episode>) so we strip down to episode only\n",
    "\n",
    "train_processed_source = Lazy_Iterable_Wrapper(train_original_source, transform_lambda)\n",
    "val_processed_source   = Lazy_Iterable_Wrapper(val_original_source, transform_lambda)\n",
    "test_processed_source  = Lazy_Iterable_Wrapper(test_original_source, transform_lambda)\n",
    "\n",
    "train_processed_target = Lazy_Iterable_Wrapper(train_original_target, transform_lambda)\n",
    "val_processed_target   = Lazy_Iterable_Wrapper(val_original_target, transform_lambda)\n",
    "test_processed_target  = Lazy_Iterable_Wrapper(test_original_target, transform_lambda)\n",
    "\n",
    "datasets = EasyDict({\n",
    "    \"source\": {\n",
    "        \"original\": {\"train\":train_original_source, \"val\":val_original_source, \"test\":test_original_source},\n",
    "        \"processed\": {\"train\":train_processed_source, \"val\":val_processed_source, \"test\":test_processed_source}\n",
    "    },\n",
    "    \"target\": {\n",
    "        \"original\": {\"train\":train_original_target, \"val\":val_original_target, \"test\":test_original_target},\n",
    "        \"processed\": {\"train\":train_processed_target, \"val\":val_processed_target, \"test\":test_processed_target}\n",
    "    },\n",
    "})"
   ]
  },
  {
   "cell_type": "code",
   "execution_count": 20,
   "id": "5b3c01fc",
   "metadata": {
    "execution": {
     "iopub.execute_input": "2022-03-20T11:19:40.261897Z",
     "iopub.status.busy": "2022-03-20T11:19:40.261623Z",
     "iopub.status.idle": "2022-03-20T11:19:50.263698Z",
     "shell.execute_reply": "2022-03-20T11:19:50.264014Z"
    },
    "papermill": {
     "duration": 10.018978,
     "end_time": "2022-03-20T11:19:50.264107",
     "exception": false,
     "start_time": "2022-03-20T11:19:40.245129",
     "status": "completed"
    },
    "tags": []
   },
   "outputs": [
    {
     "name": "stdout",
     "output_type": "stream",
     "text": [
      "{'C_3', 'W_1', 'W_2', 'W_3', 'C_4', 'C_2', 'W_4', 'C_5', 'C_1'}\n"
     ]
    },
    {
     "name": "stdout",
     "output_type": "stream",
     "text": [
      "{'O_14', 'O_20', 'O_26', 'O_50', 'O_32', 'O_8', 'O_38', 'O_44'}\n"
     ]
    },
    {
     "name": "stdout",
     "output_type": "stream",
     "text": [
      "tensor([[[-0.0088,  0.0233,  0.0115,  ..., -0.0132,  0.0144, -0.0044],\n",
      "         [-0.0157, -0.0164,  0.0194,  ..., -0.0275, -0.0035,  0.0244]],\n",
      "\n",
      "        [[-0.0285, -0.0371,  0.0019,  ...,  0.0110, -0.0073, -0.0077],\n",
      "         [ 0.0054, -0.0265, -0.0203,  ..., -0.0100,  0.0120, -0.0056]],\n",
      "\n",
      "        [[ 0.0031, -0.0245, -0.0132,  ..., -0.0086, -0.0194,  0.0227],\n",
      "         [ 0.0246,  0.0034, -0.0192,  ...,  0.0168, -0.0149,  0.0097]],\n",
      "\n",
      "        ...,\n",
      "\n",
      "        [[-0.0111, -0.0804, -0.0345,  ..., -0.2107, -0.0157, -0.0480],\n",
      "         [ 0.0608, -0.0315, -0.0863,  ..., -0.0279, -0.1467,  0.0870]],\n",
      "\n",
      "        [[ 0.0636, -0.1413,  0.0100,  ..., -0.2715, -0.0327,  0.0977],\n",
      "         [ 0.1039, -0.0120, -0.1752,  ..., -0.0116, -0.2650, -0.0205]],\n",
      "\n",
      "        [[-0.0765,  0.0862,  0.0033,  ...,  0.2122,  0.0537, -0.0023],\n",
      "         [-0.0549, -0.0087,  0.1401,  ..., -0.0096,  0.1720, -0.0558]]])\n"
     ]
    }
   ],
   "source": [
    "from steves_utils.transforms import get_average_magnitude, get_average_power\n",
    "\n",
    "print(set([u for u,_ in val_original_source]))\n",
    "print(set([u for u,_ in val_original_target]))\n",
    "\n",
    "s_x, s_y, q_x, q_y, _ = next(iter(train_processed_source))\n",
    "print(s_x)\n",
    "\n",
    "# for ds in [\n",
    "#     train_processed_source,\n",
    "#     val_processed_source,\n",
    "#     test_processed_source,\n",
    "#     train_processed_target,\n",
    "#     val_processed_target,\n",
    "#     test_processed_target\n",
    "# ]:\n",
    "#     for s_x, s_y, q_x, q_y, _ in ds:\n",
    "#         for X in (s_x, q_x):\n",
    "#             for x in X:\n",
    "#                 assert np.isclose(get_average_magnitude(x.numpy()), 1.0)\n",
    "#                 assert np.isclose(get_average_power(x.numpy()), 1.0)\n",
    "                "
   ]
  },
  {
   "cell_type": "code",
   "execution_count": 21,
   "id": "bbdacba1",
   "metadata": {
    "execution": {
     "iopub.execute_input": "2022-03-20T11:19:50.307612Z",
     "iopub.status.busy": "2022-03-20T11:19:50.303507Z",
     "iopub.status.idle": "2022-03-20T11:19:50.353880Z",
     "shell.execute_reply": "2022-03-20T11:19:50.353414Z"
    },
    "papermill": {
     "duration": 0.068908,
     "end_time": "2022-03-20T11:19:50.353975",
     "exception": false,
     "start_time": "2022-03-20T11:19:50.285067",
     "status": "completed"
    },
    "tags": []
   },
   "outputs": [
    {
     "name": "stdout",
     "output_type": "stream",
     "text": [
      "(2, 200)\n"
     ]
    }
   ],
   "source": [
    "###################################\n",
    "# Build the model\n",
    "###################################\n",
    "# easfsl only wants a tuple for the shape\n",
    "model = Steves_Prototypical_Network(x_net, device=p.device, x_shape=tuple(p.x_shape))\n",
    "optimizer = Adam(params=model.parameters(), lr=p.lr)"
   ]
  },
  {
   "cell_type": "code",
   "execution_count": 22,
   "id": "22b39ac5",
   "metadata": {
    "execution": {
     "iopub.execute_input": "2022-03-20T11:19:50.389663Z",
     "iopub.status.busy": "2022-03-20T11:19:50.388063Z",
     "iopub.status.idle": "2022-03-20T12:21:12.698429Z",
     "shell.execute_reply": "2022-03-20T12:21:12.698195Z"
    },
    "papermill": {
     "duration": 3682.32662,
     "end_time": "2022-03-20T12:21:12.698490",
     "exception": false,
     "start_time": "2022-03-20T11:19:50.371870",
     "status": "completed"
    },
    "tags": []
   },
   "outputs": [
    {
     "name": "stdout",
     "output_type": "stream",
     "text": [
      "epoch: 1, [batch: 1 / 13172], examples_per_second: 23.7269, train_label_loss: 2.1161, \n"
     ]
    },
    {
     "name": "stdout",
     "output_type": "stream",
     "text": [
      "epoch: 1, [batch: 1318 / 13172], examples_per_second: 1739.3951, train_label_loss: 0.0444, \n"
     ]
    },
    {
     "name": "stdout",
     "output_type": "stream",
     "text": [
      "epoch: 1, [batch: 2635 / 13172], examples_per_second: 1739.8971, train_label_loss: 0.4737, \n"
     ]
    },
    {
     "name": "stdout",
     "output_type": "stream",
     "text": [
      "epoch: 1, [batch: 3952 / 13172], examples_per_second: 1741.0981, train_label_loss: 0.0410, \n"
     ]
    },
    {
     "name": "stdout",
     "output_type": "stream",
     "text": [
      "epoch: 1, [batch: 5269 / 13172], examples_per_second: 1736.2350, train_label_loss: 0.0551, \n"
     ]
    },
    {
     "name": "stdout",
     "output_type": "stream",
     "text": [
      "epoch: 1, [batch: 6586 / 13172], examples_per_second: 1740.4025, train_label_loss: 0.0038, \n"
     ]
    },
    {
     "name": "stdout",
     "output_type": "stream",
     "text": [
      "epoch: 1, [batch: 7903 / 13172], examples_per_second: 1982.9592, train_label_loss: 0.0027, \n"
     ]
    },
    {
     "name": "stdout",
     "output_type": "stream",
     "text": [
      "epoch: 1, [batch: 9220 / 13172], examples_per_second: 2219.2029, train_label_loss: 0.0046, \n"
     ]
    },
    {
     "name": "stdout",
     "output_type": "stream",
     "text": [
      "epoch: 1, [batch: 10537 / 13172], examples_per_second: 1739.6525, train_label_loss: 0.0603, \n"
     ]
    },
    {
     "name": "stdout",
     "output_type": "stream",
     "text": [
      "epoch: 1, [batch: 11854 / 13172], examples_per_second: 1739.9041, train_label_loss: 0.2452, \n"
     ]
    },
    {
     "name": "stdout",
     "output_type": "stream",
     "text": [
      "=============================================================\n",
      "epoch: 1, source_val_acc_label: 0.9771, target_val_acc_label: 0.4166, source_val_label_loss: 0.1219, target_val_label_loss: 2.4940, \n",
      "=============================================================\n"
     ]
    },
    {
     "name": "stdout",
     "output_type": "stream",
     "text": [
      "New best\n"
     ]
    },
    {
     "name": "stdout",
     "output_type": "stream",
     "text": [
      "epoch: 2, [batch: 1 / 13187], examples_per_second: 1.4766, train_label_loss: 0.0175, \n"
     ]
    },
    {
     "name": "stdout",
     "output_type": "stream",
     "text": [
      "epoch: 2, [batch: 1319 / 13187], examples_per_second: 1741.5529, train_label_loss: 0.1956, \n"
     ]
    },
    {
     "name": "stdout",
     "output_type": "stream",
     "text": [
      "epoch: 2, [batch: 2638 / 13187], examples_per_second: 1742.1677, train_label_loss: 0.0172, \n"
     ]
    },
    {
     "name": "stdout",
     "output_type": "stream",
     "text": [
      "epoch: 2, [batch: 3956 / 13187], examples_per_second: 1746.5617, train_label_loss: 0.0049, \n"
     ]
    },
    {
     "name": "stdout",
     "output_type": "stream",
     "text": [
      "epoch: 2, [batch: 5275 / 13187], examples_per_second: 1739.2025, train_label_loss: 0.0073, \n"
     ]
    },
    {
     "name": "stdout",
     "output_type": "stream",
     "text": [
      "epoch: 2, [batch: 6594 / 13187], examples_per_second: 1742.1386, train_label_loss: 0.0014, \n"
     ]
    },
    {
     "name": "stdout",
     "output_type": "stream",
     "text": [
      "epoch: 2, [batch: 7912 / 13187], examples_per_second: 1924.9590, train_label_loss: 0.0076, \n"
     ]
    },
    {
     "name": "stdout",
     "output_type": "stream",
     "text": [
      "epoch: 2, [batch: 9231 / 13187], examples_per_second: 2293.8414, train_label_loss: 0.1948, \n"
     ]
    },
    {
     "name": "stdout",
     "output_type": "stream",
     "text": [
      "epoch: 2, [batch: 10549 / 13187], examples_per_second: 1742.1617, train_label_loss: 0.0043, \n"
     ]
    },
    {
     "name": "stdout",
     "output_type": "stream",
     "text": [
      "epoch: 2, [batch: 11868 / 13187], examples_per_second: 1742.1877, train_label_loss: 0.0284, \n"
     ]
    },
    {
     "name": "stdout",
     "output_type": "stream",
     "text": [
      "=============================================================\n",
      "epoch: 2, source_val_acc_label: 0.9845, target_val_acc_label: 0.4880, source_val_label_loss: 0.0714, target_val_label_loss: 2.3255, \n",
      "=============================================================\n"
     ]
    },
    {
     "name": "stdout",
     "output_type": "stream",
     "text": [
      "New best\n"
     ]
    },
    {
     "name": "stdout",
     "output_type": "stream",
     "text": [
      "epoch: 3, [batch: 1 / 13151], examples_per_second: 1.4744, train_label_loss: 0.0086, \n"
     ]
    },
    {
     "name": "stdout",
     "output_type": "stream",
     "text": [
      "epoch: 3, [batch: 1316 / 13151], examples_per_second: 1741.9856, train_label_loss: 0.0047, \n"
     ]
    },
    {
     "name": "stdout",
     "output_type": "stream",
     "text": [
      "epoch: 3, [batch: 2631 / 13151], examples_per_second: 1741.2663, train_label_loss: 0.0495, \n"
     ]
    },
    {
     "name": "stdout",
     "output_type": "stream",
     "text": [
      "epoch: 3, [batch: 3946 / 13151], examples_per_second: 1744.9797, train_label_loss: 0.0008, \n"
     ]
    },
    {
     "name": "stdout",
     "output_type": "stream",
     "text": [
      "epoch: 3, [batch: 5261 / 13151], examples_per_second: 1737.8768, train_label_loss: 0.1078, \n"
     ]
    },
    {
     "name": "stdout",
     "output_type": "stream",
     "text": [
      "epoch: 3, [batch: 6576 / 13151], examples_per_second: 1741.7318, train_label_loss: 0.3827, \n"
     ]
    },
    {
     "name": "stdout",
     "output_type": "stream",
     "text": [
      "epoch: 3, [batch: 7891 / 13151], examples_per_second: 1870.2661, train_label_loss: 0.0039, \n"
     ]
    },
    {
     "name": "stdout",
     "output_type": "stream",
     "text": [
      "epoch: 3, [batch: 9206 / 13151], examples_per_second: 2285.3803, train_label_loss: 0.0096, \n"
     ]
    },
    {
     "name": "stdout",
     "output_type": "stream",
     "text": [
      "epoch: 3, [batch: 10521 / 13151], examples_per_second: 2273.8714, train_label_loss: 0.0014, \n"
     ]
    },
    {
     "name": "stdout",
     "output_type": "stream",
     "text": [
      "epoch: 3, [batch: 11836 / 13151], examples_per_second: 2223.7880, train_label_loss: 0.0008, \n"
     ]
    },
    {
     "name": "stdout",
     "output_type": "stream",
     "text": [
      "=============================================================\n",
      "epoch: 3, source_val_acc_label: 0.9850, target_val_acc_label: 0.4791, source_val_label_loss: 0.0704, target_val_label_loss: 2.2364, \n",
      "=============================================================\n"
     ]
    },
    {
     "name": "stdout",
     "output_type": "stream",
     "text": [
      "epoch: 4, [batch: 1 / 13164], examples_per_second: 2.1326, train_label_loss: 0.0016, \n"
     ]
    },
    {
     "name": "stdout",
     "output_type": "stream",
     "text": [
      "epoch: 4, [batch: 1317 / 13164], examples_per_second: 3557.9772, train_label_loss: 0.0112, \n"
     ]
    },
    {
     "name": "stdout",
     "output_type": "stream",
     "text": [
      "epoch: 4, [batch: 2633 / 13164], examples_per_second: 3600.8941, train_label_loss: 0.0992, \n"
     ]
    },
    {
     "name": "stdout",
     "output_type": "stream",
     "text": [
      "epoch: 4, [batch: 3949 / 13164], examples_per_second: 2178.3381, train_label_loss: 0.0006, \n"
     ]
    },
    {
     "name": "stdout",
     "output_type": "stream",
     "text": [
      "epoch: 4, [batch: 5266 / 13164], examples_per_second: 1726.7067, train_label_loss: 0.1483, \n"
     ]
    },
    {
     "name": "stdout",
     "output_type": "stream",
     "text": [
      "epoch: 4, [batch: 6582 / 13164], examples_per_second: 1729.8692, train_label_loss: 0.0072, \n"
     ]
    },
    {
     "name": "stdout",
     "output_type": "stream",
     "text": [
      "epoch: 4, [batch: 7898 / 13164], examples_per_second: 1733.9111, train_label_loss: 0.1976, \n"
     ]
    },
    {
     "name": "stdout",
     "output_type": "stream",
     "text": [
      "epoch: 4, [batch: 9215 / 13164], examples_per_second: 1726.2869, train_label_loss: 0.0031, \n"
     ]
    },
    {
     "name": "stdout",
     "output_type": "stream",
     "text": [
      "epoch: 4, [batch: 10531 / 13164], examples_per_second: 1728.0963, train_label_loss: 0.0039, \n"
     ]
    },
    {
     "name": "stdout",
     "output_type": "stream",
     "text": [
      "epoch: 4, [batch: 11847 / 13164], examples_per_second: 1730.7984, train_label_loss: 0.1142, \n"
     ]
    },
    {
     "name": "stdout",
     "output_type": "stream",
     "text": [
      "=============================================================\n",
      "epoch: 4, source_val_acc_label: 0.9858, target_val_acc_label: 0.4479, source_val_label_loss: 0.0626, target_val_label_loss: 2.2770, \n",
      "=============================================================\n"
     ]
    },
    {
     "name": "stdout",
     "output_type": "stream",
     "text": [
      "epoch: 5, [batch: 1 / 13144], examples_per_second: 1.4753, train_label_loss: 0.0264, \n"
     ]
    },
    {
     "name": "stdout",
     "output_type": "stream",
     "text": [
      "epoch: 5, [batch: 1315 / 13144], examples_per_second: 1731.6992, train_label_loss: 0.0060, \n"
     ]
    },
    {
     "name": "stdout",
     "output_type": "stream",
     "text": [
      "epoch: 5, [batch: 2629 / 13144], examples_per_second: 2020.8290, train_label_loss: 0.0120, \n"
     ]
    },
    {
     "name": "stdout",
     "output_type": "stream",
     "text": [
      "epoch: 5, [batch: 3943 / 13144], examples_per_second: 2136.9743, train_label_loss: 0.0015, \n"
     ]
    },
    {
     "name": "stdout",
     "output_type": "stream",
     "text": [
      "epoch: 5, [batch: 5258 / 13144], examples_per_second: 1738.3638, train_label_loss: 0.0003, \n"
     ]
    },
    {
     "name": "stdout",
     "output_type": "stream",
     "text": [
      "epoch: 5, [batch: 6572 / 13144], examples_per_second: 1741.6085, train_label_loss: 0.1269, \n"
     ]
    },
    {
     "name": "stdout",
     "output_type": "stream",
     "text": [
      "epoch: 5, [batch: 7886 / 13144], examples_per_second: 1746.1757, train_label_loss: 0.3418, \n"
     ]
    },
    {
     "name": "stdout",
     "output_type": "stream",
     "text": [
      "epoch: 5, [batch: 9201 / 13144], examples_per_second: 1738.4340, train_label_loss: 0.0038, \n"
     ]
    },
    {
     "name": "stdout",
     "output_type": "stream",
     "text": [
      "epoch: 5, [batch: 10515 / 13144], examples_per_second: 1743.7323, train_label_loss: 0.0001, \n"
     ]
    },
    {
     "name": "stdout",
     "output_type": "stream",
     "text": [
      "epoch: 5, [batch: 11829 / 13144], examples_per_second: 1745.3526, train_label_loss: 0.1794, \n"
     ]
    },
    {
     "name": "stdout",
     "output_type": "stream",
     "text": [
      "=============================================================\n",
      "epoch: 5, source_val_acc_label: 0.9867, target_val_acc_label: 0.4712, source_val_label_loss: 0.0578, target_val_label_loss: 2.2048, \n",
      "=============================================================\n"
     ]
    },
    {
     "name": "stdout",
     "output_type": "stream",
     "text": [
      "epoch: 6, [batch: 1 / 13141], examples_per_second: 1.4840, train_label_loss: 0.2562, \n"
     ]
    },
    {
     "name": "stdout",
     "output_type": "stream",
     "text": [
      "epoch: 6, [batch: 1315 / 13141], examples_per_second: 1743.7660, train_label_loss: 0.1543, \n"
     ]
    },
    {
     "name": "stdout",
     "output_type": "stream",
     "text": [
      "epoch: 6, [batch: 2629 / 13141], examples_per_second: 1945.9007, train_label_loss: 0.0803, \n"
     ]
    },
    {
     "name": "stdout",
     "output_type": "stream",
     "text": [
      "epoch: 6, [batch: 3943 / 13141], examples_per_second: 2269.2472, train_label_loss: 0.0970, \n"
     ]
    },
    {
     "name": "stdout",
     "output_type": "stream",
     "text": [
      "epoch: 6, [batch: 5257 / 13141], examples_per_second: 1739.1547, train_label_loss: 0.0001, \n"
     ]
    },
    {
     "name": "stdout",
     "output_type": "stream",
     "text": [
      "epoch: 6, [batch: 6571 / 13141], examples_per_second: 1743.1250, train_label_loss: 0.0017, \n"
     ]
    },
    {
     "name": "stdout",
     "output_type": "stream",
     "text": [
      "epoch: 6, [batch: 7885 / 13141], examples_per_second: 1745.7062, train_label_loss: 0.0283, \n"
     ]
    },
    {
     "name": "stdout",
     "output_type": "stream",
     "text": [
      "epoch: 6, [batch: 9199 / 13141], examples_per_second: 1741.1911, train_label_loss: 0.0002, \n"
     ]
    },
    {
     "name": "stdout",
     "output_type": "stream",
     "text": [
      "epoch: 6, [batch: 10513 / 13141], examples_per_second: 1741.4082, train_label_loss: 0.0003, \n"
     ]
    },
    {
     "name": "stdout",
     "output_type": "stream",
     "text": [
      "epoch: 6, [batch: 11827 / 13141], examples_per_second: 1742.0869, train_label_loss: 0.0147, \n"
     ]
    },
    {
     "name": "stdout",
     "output_type": "stream",
     "text": [
      "=============================================================\n",
      "epoch: 6, source_val_acc_label: 0.9869, target_val_acc_label: 0.4082, source_val_label_loss: 0.0551, target_val_label_loss: 2.1327, \n",
      "=============================================================\n"
     ]
    },
    {
     "name": "stdout",
     "output_type": "stream",
     "text": [
      "Patience (3) exhausted\n"
     ]
    }
   ],
   "source": [
    "###################################\n",
    "# train\n",
    "###################################\n",
    "jig = PTN_Train_Eval_Test_Jig(model, p.BEST_MODEL_PATH, p.device)\n",
    "\n",
    "jig.train(\n",
    "    train_iterable=datasets.source.processed.train,\n",
    "    source_val_iterable=datasets.source.processed.val,\n",
    "    target_val_iterable=datasets.target.processed.val,\n",
    "    num_epochs=p.n_epoch,\n",
    "    num_logs_per_epoch=p.NUM_LOGS_PER_EPOCH,\n",
    "    patience=p.patience,\n",
    "    optimizer=optimizer,\n",
    "    criteria_for_best=p.criteria_for_best,\n",
    ")"
   ]
  },
  {
   "cell_type": "code",
   "execution_count": 23,
   "id": "31e8fabf",
   "metadata": {
    "execution": {
     "iopub.execute_input": "2022-03-20T12:21:12.755035Z",
     "iopub.status.busy": "2022-03-20T12:21:12.754782Z",
     "iopub.status.idle": "2022-03-20T12:21:12.774864Z",
     "shell.execute_reply": "2022-03-20T12:21:12.774423Z"
    },
    "papermill": {
     "duration": 0.049609,
     "end_time": "2022-03-20T12:21:12.774974",
     "exception": false,
     "start_time": "2022-03-20T12:21:12.725365",
     "status": "completed"
    },
    "tags": []
   },
   "outputs": [],
   "source": [
    "total_experiment_time_secs = time.time() - start_time_secs"
   ]
  },
  {
   "cell_type": "code",
   "execution_count": 24,
   "id": "87b9595b",
   "metadata": {
    "execution": {
     "iopub.execute_input": "2022-03-20T12:21:12.842204Z",
     "iopub.status.busy": "2022-03-20T12:21:12.841937Z",
     "iopub.status.idle": "2022-03-20T12:24:44.183599Z",
     "shell.execute_reply": "2022-03-20T12:24:44.183054Z"
    },
    "papermill": {
     "duration": 211.374929,
     "end_time": "2022-03-20T12:24:44.183724",
     "exception": false,
     "start_time": "2022-03-20T12:21:12.808795",
     "status": "completed"
    },
    "tags": []
   },
   "outputs": [],
   "source": [
    "###################################\n",
    "# Evaluate the model\n",
    "###################################\n",
    "source_test_label_accuracy, source_test_label_loss = jig.test(datasets.source.processed.test)\n",
    "target_test_label_accuracy, target_test_label_loss = jig.test(datasets.target.processed.test)\n",
    "\n",
    "source_val_label_accuracy, source_val_label_loss = jig.test(datasets.source.processed.val)\n",
    "target_val_label_accuracy, target_val_label_loss = jig.test(datasets.target.processed.val)\n",
    "\n",
    "history = jig.get_history()\n",
    "\n",
    "total_epochs_trained = len(history[\"epoch_indices\"])\n",
    "\n",
    "val_dl = Iterable_Aggregator((datasets.source.original.val,datasets.target.original.val))\n",
    "\n",
    "confusion = ptn_confusion_by_domain_over_dataloader(model, p.device, val_dl)\n",
    "per_domain_accuracy = per_domain_accuracy_from_confusion(confusion)\n",
    "\n",
    "# Add a key to per_domain_accuracy for if it was a source domain\n",
    "for domain, accuracy in per_domain_accuracy.items():\n",
    "    per_domain_accuracy[domain] = {\n",
    "        \"accuracy\": accuracy,\n",
    "        \"source?\": domain in p.domains_source\n",
    "    }\n",
    "\n",
    "# Do an independent accuracy assesment JUST TO BE SURE!\n",
    "# _source_test_label_accuracy = independent_accuracy_assesment(model, datasets.source.processed.test, p.device)\n",
    "# _target_test_label_accuracy = independent_accuracy_assesment(model, datasets.target.processed.test, p.device)\n",
    "# _source_val_label_accuracy = independent_accuracy_assesment(model, datasets.source.processed.val, p.device)\n",
    "# _target_val_label_accuracy = independent_accuracy_assesment(model, datasets.target.processed.val, p.device)\n",
    "\n",
    "# assert(_source_test_label_accuracy == source_test_label_accuracy)\n",
    "# assert(_target_test_label_accuracy == target_test_label_accuracy)\n",
    "# assert(_source_val_label_accuracy == source_val_label_accuracy)\n",
    "# assert(_target_val_label_accuracy == target_val_label_accuracy)\n",
    "\n",
    "experiment = {\n",
    "    \"experiment_name\": p.experiment_name,\n",
    "    \"parameters\": dict(p),\n",
    "    \"results\": {\n",
    "        \"source_test_label_accuracy\": source_test_label_accuracy,\n",
    "        \"source_test_label_loss\": source_test_label_loss,\n",
    "        \"target_test_label_accuracy\": target_test_label_accuracy,\n",
    "        \"target_test_label_loss\": target_test_label_loss,\n",
    "        \"source_val_label_accuracy\": source_val_label_accuracy,\n",
    "        \"source_val_label_loss\": source_val_label_loss,\n",
    "        \"target_val_label_accuracy\": target_val_label_accuracy,\n",
    "        \"target_val_label_loss\": target_val_label_loss,\n",
    "        \"total_epochs_trained\": total_epochs_trained,\n",
    "        \"total_experiment_time_secs\": total_experiment_time_secs,\n",
    "        \"confusion\": confusion,\n",
    "        \"per_domain_accuracy\": per_domain_accuracy,\n",
    "    },\n",
    "    \"history\": history,\n",
    "    \"dataset_metrics\": get_dataset_metrics(datasets, \"ptn\"),\n",
    "}"
   ]
  },
  {
   "cell_type": "code",
   "execution_count": 25,
   "id": "54a21829",
   "metadata": {
    "execution": {
     "iopub.execute_input": "2022-03-20T12:24:44.253634Z",
     "iopub.status.busy": "2022-03-20T12:24:44.253370Z",
     "iopub.status.idle": "2022-03-20T12:24:44.377889Z",
     "shell.execute_reply": "2022-03-20T12:24:44.378311Z"
    },
    "papermill": {
     "duration": 0.158255,
     "end_time": "2022-03-20T12:24:44.378449",
     "exception": false,
     "start_time": "2022-03-20T12:24:44.220194",
     "status": "completed"
    },
    "tags": []
   },
   "outputs": [
    {
     "data": {
      "image/png": "[encoded data removed]",
      "text/plain": [
       "<Figure size 1080x504 with 1 Axes>"
      ]
     },
     "metadata": {
      "needs_background": "light"
     },
     "output_type": "display_data"
    }
   ],
   "source": [
    "ax = get_loss_curve(experiment)\n",
    "plt.show()"
   ]
  },
  {
   "cell_type": "code",
   "execution_count": 26,
   "id": "fd8a0f60",
   "metadata": {
    "execution": {
     "iopub.execute_input": "2022-03-20T12:24:44.443585Z",
     "iopub.status.busy": "2022-03-20T12:24:44.443135Z",
     "iopub.status.idle": "2022-03-20T12:24:44.603224Z",
     "shell.execute_reply": "2022-03-20T12:24:44.602975Z"
    },
    "papermill": {
     "duration": 0.191585,
     "end_time": "2022-03-20T12:24:44.603297",
     "exception": false,
     "start_time": "2022-03-20T12:24:44.411712",
     "status": "completed"
    },
    "tags": []
   },
   "outputs": [
    {
     "data": {
      "text/plain": [
       "<AxesSubplot:title={'center':'Results'}>"
      ]
     },
     "execution_count": 26,
     "metadata": {},
     "output_type": "execute_result"
    },
    {
     "data": {
      "image/png": "[encoded data removed]",
      "text/plain": [
       "<Figure size 1080x504 with 1 Axes>"
      ]
     },
     "metadata": {
      "needs_background": "light"
     },
     "output_type": "display_data"
    }
   ],
   "source": [
    "get_results_table(experiment)"
   ]
  },
  {
   "cell_type": "code",
   "execution_count": 27,
   "id": "cf8dc689",
   "metadata": {
    "execution": {
     "iopub.execute_input": "2022-03-20T12:24:44.664982Z",
     "iopub.status.busy": "2022-03-20T12:24:44.664569Z",
     "iopub.status.idle": "2022-03-20T12:24:44.818817Z",
     "shell.execute_reply": "2022-03-20T12:24:44.818548Z"
    },
    "papermill": {
     "duration": 0.185624,
     "end_time": "2022-03-20T12:24:44.818879",
     "exception": false,
     "start_time": "2022-03-20T12:24:44.633255",
     "status": "completed"
    },
    "tags": []
   },
   "outputs": [
    {
     "data": {
      "text/plain": [
       "<AxesSubplot:title={'center':'Per Domain Validation Accuracy'}, xlabel='domain'>"
      ]
     },
     "execution_count": 27,
     "metadata": {},
     "output_type": "execute_result"
    },
    {
     "data": {
      "image/png": "[encoded data removed]",
      "text/plain": [
       "<Figure size 1080x504 with 1 Axes>"
      ]
     },
     "metadata": {
      "needs_background": "light"
     },
     "output_type": "display_data"
    }
   ],
   "source": [
    "get_domain_accuracies(experiment)"
   ]
  },
  {
   "cell_type": "code",
   "execution_count": 28,
   "id": "a74ae082",
   "metadata": {
    "execution": {
     "iopub.execute_input": "2022-03-20T12:24:44.885244Z",
     "iopub.status.busy": "2022-03-20T12:24:44.884646Z",
     "iopub.status.idle": "2022-03-20T12:24:44.901530Z",
     "shell.execute_reply": "2022-03-20T12:24:44.901040Z"
    },
    "papermill": {
     "duration": 0.051498,
     "end_time": "2022-03-20T12:24:44.901634",
     "exception": false,
     "start_time": "2022-03-20T12:24:44.850136",
     "status": "completed"
    },
    "tags": []
   },
   "outputs": [
    {
     "name": "stdout",
     "output_type": "stream",
     "text": [
      "Source Test Label Accuracy: 0.9839531587473002 Target Test Label Accuracy: 0.48876953125\n",
      "Source Val Label Accuracy: 0.9844522240527183 Target Val Label Accuracy: 0.4879557291666667\n"
     ]
    }
   ],
   "source": [
    "print(\"Source Test Label Accuracy:\", experiment[\"results\"][\"source_test_label_accuracy\"], \"Target Test Label Accuracy:\", experiment[\"results\"][\"target_test_label_accuracy\"])\n",
    "print(\"Source Val Label Accuracy:\", experiment[\"results\"][\"source_val_label_accuracy\"], \"Target Val Label Accuracy:\", experiment[\"results\"][\"target_val_label_accuracy\"])"
   ]
  },
  {
   "cell_type": "code",
   "execution_count": 29,
   "id": "dacca602",
   "metadata": {
    "execution": {
     "iopub.execute_input": "2022-03-20T12:24:44.970376Z",
     "iopub.status.busy": "2022-03-20T12:24:44.970113Z",
     "iopub.status.idle": "2022-03-20T12:24:44.988587Z",
     "shell.execute_reply": "2022-03-20T12:24:44.988921Z"
    },
    "papermill": {
     "duration": 0.051959,
     "end_time": "2022-03-20T12:24:44.989031",
     "exception": false,
     "start_time": "2022-03-20T12:24:44.937072",
     "status": "completed"
    },
    "tags": [
     "experiment_json"
    ]
   },
   "outputs": [
    {
     "data": {
      "text/plain": [
       "'{\"experiment_name\": \"tl_3Av2:cores+wisig -> oracle.run1.framed\", \"parameters\": {\"experiment_name\": \"tl_3Av2:cores+wisig -> oracle.run1.framed\", \"device\": \"cuda\", \"lr\": 0.0001, \"x_shape\": [2, 200], \"n_shot\": 3, \"n_query\": 2, \"train_k_factor\": 3, \"val_k_factor\": 2, \"test_k_factor\": 2, \"torch_default_dtype\": \"torch.float32\", \"n_epoch\": 50, \"patience\": 3, \"criteria_for_best\": \"target_accuracy\", \"x_net\": [{\"class\": \"nnReshape\", \"kargs\": {\"shape\": [-1, 1, 2, 200]}}, {\"class\": \"Conv2d\", \"kargs\": {\"in_channels\": 1, \"out_channels\": 256, \"kernel_size\": [1, 7], \"bias\": false, \"padding\": [0, 3]}}, {\"class\": \"ReLU\", \"kargs\": {\"inplace\": true}}, {\"class\": \"BatchNorm2d\", \"kargs\": {\"num_features\": 256}}, {\"class\": \"Conv2d\", \"kargs\": {\"in_channels\": 256, \"out_channels\": 80, \"kernel_size\": [2, 7], \"bias\": true, \"padding\": [0, 3]}}, {\"class\": \"ReLU\", \"kargs\": {\"inplace\": true}}, {\"class\": \"BatchNorm2d\", \"kargs\": {\"num_features\": 80}}, {\"class\": \"Flatten\", \"kargs\": {}}, {\"class\": \"Linear\", \"kargs\": {\"in_features\": 16000, \"out_features\": 256}}, {\"class\": \"ReLU\", \"kargs\": {\"inplace\": true}}, {\"class\": \"BatchNorm1d\", \"kargs\": {\"num_features\": 256}}, {\"class\": \"Linear\", \"kargs\": {\"in_features\": 256, \"out_features\": 256}}], \"NUM_LOGS_PER_EPOCH\": 10, \"BEST_MODEL_PATH\": \"./best_model.pth\", \"n_way\": 16, \"datasets\": [{\"labels\": [\"1-10.\", \"1-11.\", \"1-15.\", \"1-16.\", \"1-17.\", \"1-18.\", \"1-19.\", \"10-4.\", \"10-7.\", \"11-1.\", \"11-14.\", \"11-17.\", \"11-20.\", \"11-7.\", \"13-20.\", \"13-8.\", \"14-10.\", \"14-11.\", \"14-14.\", \"14-7.\", \"15-1.\", \"15-20.\", \"16-1.\", \"16-16.\", \"17-10.\", \"17-11.\", \"17-2.\", \"19-1.\", \"19-16.\", \"19-19.\", \"19-20.\", \"19-3.\", \"2-10.\", \"2-11.\", \"2-17.\", \"2-18.\", \"2-20.\", \"2-3.\", \"2-4.\", \"2-5.\", \"2-6.\", \"2-7.\", \"2-8.\", \"3-13.\", \"3-18.\", \"3-3.\", \"4-1.\", \"4-10.\", \"4-11.\", \"4-19.\", \"5-5.\", \"6-15.\", \"7-10.\", \"7-14.\", \"8-18.\", \"8-20.\", \"8-3.\", \"8-8.\"], \"domains\": [1, 2, 3, 4, 5], \"num_examples_per_domain_per_label\": -1, \"pickle_path\": \"/mnt/wd500GB/CSC500/csc500-main/datasets/cores.stratified_ds.2022A.pkl\", \"source_or_target_dataset\": \"source\", \"x_transforms\": [\"take_200\"], \"episode_transforms\": [], \"domain_prefix\": \"C_\"}, {\"labels\": [\"1-10\", \"1-12\", \"1-14\", \"1-16\", \"1-18\", \"1-19\", \"1-8\", \"10-11\", \"10-17\", \"10-4\", \"10-7\", \"11-1\", \"11-10\", \"11-19\", \"11-20\", \"11-4\", \"11-7\", \"12-19\", \"12-20\", \"12-7\", \"13-14\", \"13-18\", \"13-19\", \"13-20\", \"13-3\", \"13-7\", \"14-10\", \"14-11\", \"14-12\", \"14-13\", \"14-14\", \"14-19\", \"14-20\", \"14-7\", \"14-8\", \"14-9\", \"15-1\", \"15-19\", \"15-6\", \"16-1\", \"16-16\", \"16-19\", \"16-20\", \"17-10\", \"17-11\", \"18-1\", \"18-10\", \"18-11\", \"18-12\", \"18-13\", \"18-14\", \"18-15\", \"18-16\", \"18-17\", \"18-19\", \"18-2\", \"18-20\", \"18-4\", \"18-5\", \"18-7\", \"18-8\", \"18-9\", \"19-1\", \"19-10\", \"19-11\", \"19-12\", \"19-13\", \"19-14\", \"19-15\", \"19-19\", \"19-2\", \"19-20\", \"19-3\", \"19-4\", \"19-6\", \"19-7\", \"19-8\", \"19-9\", \"2-1\", \"2-13\", \"2-15\", \"2-3\", \"2-4\", \"2-5\", \"2-6\", \"2-7\", \"2-8\", \"20-1\", \"20-12\", \"20-14\", \"20-15\", \"20-16\", \"20-18\", \"20-19\", \"20-20\", \"20-3\", \"20-4\", \"20-5\", \"20-7\", \"20-8\", \"3-1\", \"3-13\", \"3-18\", \"3-2\", \"3-8\", \"4-1\", \"4-10\", \"4-11\", \"5-1\", \"5-5\", \"6-1\", \"6-15\", \"6-6\", \"7-10\", \"7-11\", \"7-12\", \"7-13\", \"7-14\", \"7-7\", \"7-8\", \"7-9\", \"8-1\", \"8-13\", \"8-14\", \"8-18\", \"8-20\", \"8-3\", \"8-8\", \"9-1\", \"9-7\"], \"domains\": [1, 2, 3, 4], \"num_examples_per_domain_per_label\": -1, \"pickle_path\": \"/mnt/wd500GB/CSC500/csc500-main/datasets/wisig.node3-19.stratified_ds.2022A.pkl\", \"source_or_target_dataset\": \"source\", \"x_transforms\": [\"take_200\"], \"episode_transforms\": [], \"domain_prefix\": \"W_\"}, {\"labels\": [\"3123D52\", \"3123D65\", \"3123D79\", \"3123D80\", \"3123D54\", \"3123D70\", \"3123D7B\", \"3123D89\", \"3123D58\", \"3123D76\", \"3123D7D\", \"3123EFE\", \"3123D64\", \"3123D78\", \"3123D7E\", \"3124E4A\"], \"domains\": [32, 38, 8, 44, 14, 50, 20, 26], \"num_examples_per_domain_per_label\": 2000, \"pickle_path\": \"/mnt/wd500GB/CSC500/csc500-main/datasets/oracle.Run1_framed_2000Examples_stratified_ds.2022A.pkl\", \"source_or_target_dataset\": \"target\", \"x_transforms\": [\"take_200\", \"resample_20Msps_to_25Msps\"], \"episode_transforms\": [], \"domain_prefix\": \"O_\"}], \"seed\": 420, \"dataset_seed\": 420, \"domains_source\": [\"C_1\", \"C_2\", \"C_3\", \"C_4\", \"C_5\", \"W_1\", \"W_2\", \"W_3\", \"W_4\"], \"domains_target\": [\"O_32\", \"O_38\", \"O_8\", \"O_44\", \"O_14\", \"O_50\", \"O_20\", \"O_26\"]}, \"results\": {\"source_test_label_accuracy\": 0.9839531587473002, \"source_test_label_loss\": 0.07144585996866226, \"target_test_label_accuracy\": 0.48876953125, \"target_test_label_loss\": 2.3255398273468018, \"source_val_label_accuracy\": 0.9844522240527183, \"source_val_label_loss\": 0.07141581177711487, \"target_val_label_accuracy\": 0.4879557291666667, \"target_val_label_loss\": 2.3255202770233154, \"total_epochs_trained\": 6, \"total_experiment_time_secs\": 3711.369457244873, \"confusion\": {\"C_4\": {\"42\": {\"42\": 32}, \"0\": {\"0\": 80}, \"1\": {\"1\": 40}, \"39\": {\"39\": 20}, \"28\": {\"28\": 32}, \"53\": {\"53\": 124}, \"19\": {\"19\": 144}, \"34\": {\"34\": 24}, \"33\": {\"33\": 36}, \"32\": {\"32\": 24}, \"10\": {\"10\": 136}, \"46\": {\"46\": 134}, \"20\": {\"20\": 122}, \"5\": {\"5\": 107, \"3\": 1}, \"40\": {\"40\": 124}, \"51\": {\"51\": 144}, \"37\": {\"37\": 24}, \"17\": {\"17\": 80}, \"45\": {\"45\": 96}, \"13\": {\"13\": 142}, \"27\": {\"27\": 144}, \"24\": {\"24\": 56}, \"30\": {\"30\": 44}, \"31\": {\"31\": 28}, \"41\": {\"41\": 34, \"12\": 1, \"6\": 1}, \"36\": {\"36\": 92}, \"16\": {\"16\": 96}, \"22\": {\"22\": 128}, \"44\": {\"44\": 132}, \"9\": {\"9\": 140}, \"57\": {\"57\": 100}, \"8\": {\"8\": 138}, \"23\": {\"23\": 132}, \"47\": {\"47\": 120}, \"43\": {\"43\": 138}, \"49\": {\"49\": 20}, \"3\": {\"3\": 121, \"50\": 3}, \"12\": {\"12\": 91, \"6\": 1}, \"38\": {\"38\": 40}, \"7\": {\"7\": 24}, \"14\": {\"14\": 15, \"29\": 1}, \"15\": {\"15\": 146}, \"25\": {\"25\": 128}, \"26\": {\"26\": 24}, \"21\": {\"21\": 132}, \"48\": {\"48\": 144}, \"56\": {\"56\": 134}, \"11\": {\"11\": 104}, \"2\": {\"2\": 36}, \"6\": {\"6\": 112}, \"55\": {\"55\": 140}, \"54\": {\"54\": 108}, \"29\": {\"29\": 124}, \"50\": {\"50\": 117, \"3\": 5}, \"52\": {\"52\": 116}, \"35\": {\"35\": 40}, \"4\": {\"4\": 120}, \"18\": {\"18\": 108}}, \"W_3\": {\"110\": {\"110\": 88, \"44\": 1, \"88\": 1, \"30\": 1, \"98\": 1}, \"1\": {\"1\": 107, \"21\": 1}, \"2\": {\"2\": 28}, \"94\": {\"94\": 81, \"27\": 1, \"70\": 1, \"122\": 1}, \"64\": {\"64\": 20}, \"78\": {\"78\": 14, \"1\": 1, \"21\": 1}, \"47\": {\"47\": 11, \"85\": 1}, \"127\": {\"127\": 127, \"26\": 1}, \"89\": {\"89\": 28}, \"79\": {\"79\": 12}, \"22\": {\"22\": 16}, \"117\": {\"117\": 112}, \"49\": {\"49\": 23, \"23\": 1}, \"14\": {\"14\": 80}, \"103\": {\"103\": 16}, \"123\": {\"123\": 16}, \"98\": {\"98\": 127, \"117\": 1}, \"18\": {\"18\": 108}, \"61\": {\"61\": 16}, \"108\": {\"108\": 124, \"110\": 1, \"26\": 1}, \"100\": {\"100\": 16}, \"0\": {\"0\": 115, \"88\": 1}, \"107\": {\"107\": 130}, \"58\": {\"58\": 16}, \"8\": {\"8\": 120}, \"85\": {\"85\": 35, \"52\": 1}, \"31\": {\"31\": 19, \"122\": 1}, \"81\": {\"81\": 32}, \"60\": {\"60\": 26, \"122\": 2}, \"102\": {\"102\": 116}, \"19\": {\"19\": 29, \"77\": 2, \"46\": 1}, \"23\": {\"60\": 2, \"23\": 28, \"30\": 2}, \"32\": {\"32\": 30, \"74\": 1, \"9\": 1}, \"39\": {\"39\": 107, \"30\": 1}, \"129\": {\"129\": 32}, \"71\": {\"71\": 67, \"84\": 1}, \"91\": {\"91\": 21, \"71\": 1, \"70\": 1, \"83\": 1}, \"101\": {\"101\": 50, \"70\": 1, \"113\": 1}, \"62\": {\"62\": 120, \"88\": 2}, \"63\": {\"63\": 16}, \"125\": {\"125\": 117, \"102\": 1, \"88\": 1, \"18\": 1}, \"57\": {\"57\": 17, \"34\": 1, \"77\": 1, \"45\": 1}, \"28\": {\"28\": 16}, \"70\": {\"70\": 65, \"21\": 1, \"15\": 1, \"54\": 1, \"88\": 2, \"69\": 1, \"108\": 1}, \"99\": {\"99\": 34, \"21\": 1, \"27\": 1}, \"121\": {\"121\": 29, \"61\": 1, \"6\": 1, \"81\": 1}, \"4\": {\"4\": 95, \"94\": 1}, \"80\": {\"80\": 16}, \"51\": {\"97\": 1, \"51\": 12, \"70\": 1, \"7\": 1, \"57\": 1}, \"3\": {\"3\": 113, \"112\": 1, \"70\": 1, \"26\": 1}, \"9\": {\"9\": 32}, \"53\": {\"53\": 19, \"81\": 1}, \"30\": {\"30\": 83, \"92\": 1}, \"33\": {\"33\": 122}, \"15\": {\"15\": 104}, \"97\": {\"4\": 1, \"97\": 19}, \"86\": {\"86\": 26, \"68\": 1, \"81\": 1}, \"20\": {\"20\": 15, \"53\": 1}, \"66\": {\"66\": 15, \"34\": 1}, \"10\": {\"10\": 121, \"33\": 1}, \"29\": {\"29\": 31, \"94\": 1}, \"109\": {\"109\": 112, \"5\": 1, \"98\": 1}, \"52\": {\"52\": 16}, \"67\": {\"67\": 16}, \"83\": {\"83\": 22, \"60\": 1, \"94\": 1}, \"72\": {\"72\": 28}, \"90\": {\"90\": 125, \"117\": 1}, \"69\": {\"69\": 83, \"89\": 1}, \"88\": {\"88\": 111, \"70\": 1}, \"115\": {\"115\": 16}, \"73\": {\"73\": 35, \"81\": 1, \"88\": 1, \"25\": 1, \"68\": 1, \"89\": 1}, \"34\": {\"34\": 31, \"58\": 1}, \"25\": {\"25\": 16}, \"44\": {\"44\": 72}, \"112\": {\"112\": 14, \"72\": 1, \"85\": 1}, \"37\": {\"37\": 16}, \"77\": {\"77\": 16}, \"111\": {\"111\": 119, \"127\": 1, \"94\": 1, \"10\": 1}, \"119\": {\"119\": 16}, \"56\": {\"56\": 12}, \"5\": {\"5\": 110, \"70\": 1, \"87\": 1}, \"122\": {\"122\": 57, \"21\": 3}, \"74\": {\"74\": 15, \"113\": 1}, \"11\": {\"11\": 152}, \"41\": {\"41\": 16}, \"104\": {\"104\": 15, \"50\": 1}, \"21\": {\"21\": 46, \"101\": 2}, \"118\": {\"118\": 98, \"21\": 1, \"44\": 1}, \"40\": {\"40\": 121, \"21\": 1}, \"6\": {\"6\": 31, \"90\": 1}, \"27\": {\"27\": 92, \"70\": 1, \"24\": 1, \"36\": 2}, \"113\": {\"113\": 119, \"21\": 1}, \"68\": {\"68\": 16}, \"12\": {\"12\": 102}, \"54\": {\"54\": 16}, \"24\": {\"24\": 47, \"86\": 1}, \"106\": {\"106\": 99, \"97\": 1}, \"128\": {\"128\": 32}, \"48\": {\"48\": 14, \"79\": 2}, \"92\": {\"92\": 32}, \"35\": {\"35\": 10, \"54\": 1, \"6\": 1}, \"116\": {\"116\": 26, \"89\": 1, \"82\": 1}, \"38\": {\"38\": 15, \"88\": 1}, \"126\": {\"126\": 122, \"17\": 1, \"39\": 1}, \"46\": {\"46\": 16}, \"120\": {\"120\": 20}, \"7\": {\"7\": 111, \"97\": 1}, \"13\": {\"13\": 7, \"4\": 2, \"83\": 1, \"125\": 1, \"45\": 1, \"24\": 1, \"122\": 1, \"17\": 2}, \"43\": {\"43\": 51, \"70\": 1, \"101\": 1, \"94\": 1, \"5\": 1, \"87\": 1}, \"93\": {\"93\": 131, \"90\": 1}, \"26\": {\"26\": 131, \"84\": 1}, \"76\": {\"76\": 16}, \"59\": {\"59\": 12}, \"65\": {\"65\": 11, \"64\": 1}, \"87\": {\"87\": 118, \"110\": 1, \"88\": 1}, \"124\": {\"124\": 122, \"86\": 1, \"90\": 1}, \"84\": {\"84\": 107, \"88\": 1}, \"82\": {\"82\": 28}, \"75\": {\"75\": 16}, \"17\": {\"17\": 12, \"67\": 1, \"106\": 1, \"88\": 1, \"51\": 1}, \"105\": {\"105\": 124}, \"95\": {\"95\": 32}, \"42\": {\"42\": 27, \"124\": 1}, \"55\": {\"55\": 16}, \"16\": {\"16\": 114, \"97\": 1, \"110\": 1}, \"50\": {\"50\": 16}, \"96\": {\"96\": 20}, \"45\": {\"45\": 16}, \"36\": {\"36\": 118, \"27\": 2}, \"114\": {\"114\": 119, \"106\": 2, \"88\": 1, \"113\": 1, \"90\": 1}}, \"W_4\": {\"113\": {\"113\": 121, \"126\": 1, \"71\": 1, \"106\": 1}, \"85\": {\"85\": 26, \"118\": 1, \"72\": 1}, \"34\": {\"34\": 30, \"6\": 1, \"32\": 1}, \"55\": {\"55\": 16}, \"42\": {\"42\": 27, \"112\": 1}, \"13\": {\"13\": 16}, \"69\": {\"69\": 117, \"3\": 1, \"88\": 3, \"21\": 1, \"40\": 1, \"16\": 1}, \"35\": {\"35\": 11, \"81\": 1}, \"83\": {\"83\": 26, \"21\": 1, \"88\": 1}, \"51\": {\"51\": 12, \"24\": 1, \"62\": 2, \"98\": 1}, \"72\": {\"72\": 32}, \"24\": {\"24\": 117, \"21\": 1, \"10\": 1, \"97\": 1}, \"53\": {\"53\": 15, \"71\": 1}, \"8\": {\"8\": 136, \"106\": 2, \"108\": 1, \"1\": 1, \"88\": 1, \"66\": 1, \"21\": 1, \"10\": 1}, \"49\": {\"49\": 32}, \"21\": {\"21\": 38, \"23\": 1, \"108\": 1}, \"18\": {\"18\": 118, \"24\": 1, \"1\": 1}, \"114\": {\"114\": 116, \"12\": 1, \"3\": 1}, \"58\": {\"58\": 14, \"2\": 1, \"29\": 1}, \"56\": {\"56\": 12}, \"80\": {\"80\": 16}, \"11\": {\"11\": 152, \"93\": 1, \"1\": 1}, \"15\": {\"15\": 125, \"105\": 1, \"40\": 1, \"88\": 1}, \"50\": {\"50\": 16}, \"111\": {\"111\": 136, \"68\": 1, \"27\": 1}, \"108\": {\"108\": 85, \"3\": 1, \"27\": 1, \"71\": 2, \"10\": 1, \"29\": 1, \"39\": 1}, \"104\": {\"104\": 16}, \"32\": {\"32\": 27, \"64\": 1}, \"68\": {\"68\": 15, \"51\": 1}, \"73\": {\"83\": 1, \"73\": 23}, \"92\": {\"92\": 28}, \"57\": {\"57\": 16}, \"40\": {\"40\": 132, \"94\": 1, \"70\": 1, \"88\": 2}, \"71\": {\"71\": 100, \"24\": 1, \"1\": 1, \"52\": 1, \"3\": 1}, \"121\": {\"121\": 30, \"21\": 1, \"81\": 1}, \"62\": {\"62\": 53, \"26\": 2, \"88\": 2, \"0\": 1, \"70\": 1, \"21\": 1}, \"39\": {\"39\": 95, \"88\": 2, \"70\": 2, \"94\": 1}, \"107\": {\"107\": 142, \"90\": 2}, \"60\": {\"60\": 32}, \"129\": {\"129\": 26, \"81\": 1, \"55\": 1}, \"84\": {\"84\": 127, \"88\": 2, \"106\": 2, \"1\": 1}, \"106\": {\"106\": 115, \"88\": 1}, \"87\": {\"87\": 132}, \"110\": {\"110\": 89, \"78\": 1, \"113\": 1, \"24\": 1, \"36\": 1, \"16\": 1}, \"118\": {\"118\": 107, \"22\": 1, \"43\": 1, \"94\": 1, \"40\": 1, \"109\": 1}, \"64\": {\"64\": 13, \"106\": 1, \"120\": 2}, \"82\": {\"129\": 1, \"82\": 30, \"17\": 1}, \"7\": {\"7\": 121, \"43\": 1, \"5\": 1, \"24\": 1}, \"0\": {\"0\": 112, \"84\": 1, \"71\": 1, \"21\": 2}, \"41\": {\"41\": 13, \"117\": 1, \"98\": 2}, \"102\": {\"102\": 127, \"98\": 1, \"127\": 1, \"19\": 1}, \"89\": {\"89\": 31, \"51\": 1}, \"26\": {\"26\": 125, \"88\": 1, \"70\": 1, \"8\": 1}, \"103\": {\"103\": 13, \"63\": 1, \"91\": 1, \"35\": 1}, \"90\": {\"90\": 116, \"66\": 1, \"121\": 1}, \"14\": {\"14\": 111, \"3\": 1}, \"9\": {\"9\": 28}, \"5\": {\"5\": 133, \"113\": 1, \"40\": 2}, \"22\": {\"22\": 16}, \"2\": {\"2\": 28}, \"77\": {\"77\": 12}, \"59\": {\"59\": 10, \"109\": 1, \"106\": 1}, \"127\": {\"127\": 95, \"23\": 1, \"66\": 1, \"71\": 1, \"105\": 3, \"17\": 1}, \"61\": {\"61\": 15, \"2\": 1}, \"17\": {\"17\": 19, \"116\": 1}, \"45\": {\"45\": 16}, \"19\": {\"19\": 28}, \"52\": {\"52\": 19, \"15\": 1}, \"123\": {\"112\": 1, \"123\": 13, \"23\": 2}, \"20\": {\"20\": 15, \"70\": 1}, \"112\": {\"112\": 14, \"32\": 1, \"108\": 1}, \"37\": {\"37\": 16}, \"29\": {\"29\": 32}, \"128\": {\"128\": 24}, \"100\": {\"100\": 20}, \"67\": {\"67\": 16}, \"12\": {\"12\": 95, \"106\": 2, \"70\": 1, \"16\": 1, \"87\": 1}, \"101\": {\"101\": 127, \"10\": 1}, \"76\": {\"76\": 16}, \"70\": {\"70\": 114, \"108\": 2, \"27\": 4, \"36\": 1, \"88\": 2, \"12\": 1}, \"31\": {\"3\": 1, \"31\": 15}, \"86\": {\"86\": 28}, \"88\": {\"88\": 132}, \"3\": {\"3\": 125, \"71\": 1}, \"117\": {\"117\": 116, \"15\": 1, \"114\": 1, \"123\": 1, \"94\": 1}, \"30\": {\"30\": 72, \"10\": 1, \"24\": 2, \"88\": 1}, \"96\": {\"96\": 20}, \"27\": {\"27\": 91, \"71\": 2, \"105\": 1, \"24\": 2, \"0\": 1, \"21\": 1, \"5\": 1, \"94\": 1}, \"122\": {\"122\": 82, \"43\": 1, \"33\": 1}, \"120\": {\"45\": 2, \"120\": 16, \"64\": 1, \"21\": 1}, \"44\": {\"44\": 59, \"121\": 2, \"90\": 1, \"103\": 1, \"82\": 1}, \"79\": {\"79\": 15, \"122\": 1}, \"105\": {\"105\": 96, \"71\": 1, \"17\": 1, \"108\": 1, \"114\": 1}, \"95\": {\"95\": 30, \"21\": 1, \"12\": 1}, \"109\": {\"109\": 113, \"90\": 1, \"118\": 1, \"107\": 1}, \"16\": {\"16\": 115, \"12\": 1, \"114\": 1, \"70\": 1}, \"36\": {\"36\": 92, \"88\": 1, \"105\": 1, \"24\": 1, \"21\": 1, \"27\": 1, \"12\": 1}, \"125\": {\"125\": 135, \"10\": 1}, \"97\": {\"36\": 2, \"97\": 16, \"10\": 2}, \"91\": {\"91\": 22, \"55\": 1, \"47\": 1}, \"28\": {\"28\": 20}, \"81\": {\"81\": 36}, \"126\": {\"126\": 116, \"88\": 1, \"78\": 1, \"5\": 1, \"15\": 1, \"51\": 1, \"39\": 1}, \"4\": {\"4\": 98, \"71\": 1, \"3\": 1, \"118\": 1, \"24\": 1, \"5\": 1, \"88\": 1}, \"10\": {\"10\": 121, \"78\": 1, \"24\": 1, \"43\": 1}, \"63\": {\"63\": 15, \"102\": 1}, \"43\": {\"43\": 118}, \"116\": {\"116\": 28}, \"1\": {\"1\": 96, \"105\": 3, \"0\": 1, \"117\": 1, \"88\": 3, \"24\": 1, \"95\": 2, \"12\": 1}, \"94\": {\"94\": 86, \"70\": 2}, \"38\": {\"38\": 16}, \"54\": {\"54\": 16}, \"74\": {\"74\": 16}, \"25\": {\"25\": 16}, \"75\": {\"75\": 16}, \"119\": {\"119\": 15, \"123\": 1}, \"46\": {\"46\": 15, \"73\": 1, \"5\": 1, \"23\": 1, \"129\": 1, \"44\": 1}, \"23\": {\"23\": 11, \"70\": 1, \"15\": 1, \"113\": 1, \"71\": 1, \"17\": 1}, \"99\": {\"99\": 40}, \"33\": {\"33\": 116, \"90\": 1, \"16\": 1}, \"47\": {\"47\": 10, \"112\": 1, \"34\": 1}, \"115\": {\"115\": 15, \"59\": 1}, \"6\": {\"6\": 23, \"24\": 1}, \"65\": {\"65\": 12}, \"66\": {\"66\": 14, \"90\": 1, \"44\": 1}, \"78\": {\"78\": 32, \"94\": 1, \"21\": 1, \"88\": 1, \"109\": 1}, \"98\": {\"98\": 116}, \"93\": {\"93\": 115, \"117\": 1}, \"48\": {\"48\": 15, \"63\": 1}, \"124\": {\"124\": 113, \"24\": 1}}, \"C_5\": {\"43\": {\"43\": 150, \"24\": 1, \"16\": 1}, \"35\": {\"35\": 36}, \"54\": {\"54\": 112}, \"22\": {\"22\": 28}, \"16\": {\"16\": 146}, \"5\": {\"5\": 128}, \"28\": {\"28\": 32}, \"14\": {\"14\": 37, \"25\": 1, \"47\": 3, \"29\": 3}, \"51\": {\"51\": 128}, \"19\": {\"19\": 140}, \"31\": {\"31\": 36}, \"10\": {\"10\": 67, \"15\": 1}, \"21\": {\"21\": 136}, \"3\": {\"3\": 100}, \"57\": {\"57\": 132}, \"9\": {\"9\": 146}, \"8\": {\"8\": 132}, \"46\": {\"46\": 140}, \"23\": {\"23\": 124}, \"37\": {\"37\": 24}, \"34\": {\"34\": 36}, \"4\": {\"4\": 100}, \"6\": {\"6\": 128}, \"48\": {\"48\": 136}, \"44\": {\"44\": 138}, \"40\": {\"40\": 124}, \"12\": {\"12\": 96}, \"30\": {\"30\": 128}, \"39\": {\"39\": 20}, \"45\": {\"45\": 124}, \"36\": {\"36\": 92}, \"27\": {\"27\": 140}, \"32\": {\"32\": 32}, \"52\": {\"52\": 130}, \"0\": {\"0\": 124}, \"26\": {\"26\": 24}, \"1\": {\"1\": 147, \"21\": 1}, \"53\": {\"53\": 146}, \"25\": {\"25\": 144}, \"24\": {\"24\": 80}, \"7\": {\"7\": 32}, \"18\": {\"18\": 64}, \"20\": {\"20\": 144}, \"33\": {\"33\": 32}, \"55\": {\"55\": 140}, \"41\": {\"41\": 28}, \"42\": {\"42\": 39, \"6\": 1}, \"49\": {\"49\": 36}, \"13\": {\"13\": 148}, \"38\": {\"38\": 32}, \"2\": {\"2\": 28}, \"47\": {\"47\": 100}, \"17\": {\"17\": 116}, \"11\": {\"11\": 154}, \"29\": {\"29\": 132}, \"50\": {\"50\": 136, \"45\": 1, \"6\": 1}, \"56\": {\"56\": 148}, \"15\": {\"15\": 142}}, \"W_2\": {\"115\": {\"115\": 12}, \"34\": {\"34\": 31, \"42\": 1}, \"97\": {\"97\": 18, \"15\": 1, \"89\": 1}, \"100\": {\"100\": 16}, \"129\": {\"129\": 32}, \"90\": {\"90\": 142}, \"125\": {\"125\": 131, \"2\": 1}, \"7\": {\"7\": 125, \"18\": 1, \"24\": 1, \"26\": 1}, \"92\": {\"69\": 1, \"92\": 25, \"67\": 1, \"89\": 1}, \"114\": {\"114\": 114, \"88\": 1, \"127\": 1}, \"80\": {\"80\": 15, \"83\": 1}, \"16\": {\"16\": 118, \"24\": 2, \"71\": 1, \"110\": 1}, \"69\": {\"69\": 112, \"24\": 1, \"70\": 1, \"87\": 1, \"15\": 1}, \"102\": {\"102\": 114}, \"33\": {\"33\": 130}, \"17\": {\"17\": 15, \"27\": 1}, \"27\": {\"27\": 64, \"24\": 2, \"36\": 1, \"94\": 1}, \"117\": {\"117\": 103, \"12\": 1, \"5\": 1, \"39\": 1}, \"14\": {\"14\": 46, \"71\": 1, \"21\": 1}, \"86\": {\"86\": 32}, \"0\": {\"0\": 113, \"21\": 1, \"97\": 1, \"24\": 1}, \"62\": {\"62\": 136, \"117\": 1, \"24\": 1}, \"39\": {\"39\": 101, \"109\": 5, \"87\": 1, \"94\": 2, \"71\": 1, \"84\": 1, \"70\": 1}, \"19\": {\"19\": 28}, \"44\": {\"44\": 100}, \"104\": {\"104\": 20}, \"3\": {\"3\": 125, \"87\": 1, \"24\": 1, \"62\": 1, \"21\": 1, \"36\": 1}, \"10\": {\"10\": 54, \"97\": 1, \"21\": 1, \"78\": 1, \"87\": 1, \"88\": 1, \"70\": 1}, \"61\": {\"61\": 16, \"51\": 1, \"30\": 1, \"71\": 2}, \"111\": {\"111\": 114}, \"68\": {\"68\": 16}, \"101\": {\"101\": 142, \"21\": 1, \"71\": 1}, \"36\": {\"36\": 119, \"51\": 1, \"18\": 1, \"62\": 1, \"70\": 1, \"16\": 1, \"24\": 1, \"4\": 1, \"94\": 1, \"117\": 1}, \"120\": {\"120\": 20}, \"103\": {\"103\": 15, \"91\": 1}, \"47\": {\"47\": 12}, \"98\": {\"98\": 119, \"93\": 1}, \"76\": {\"76\": 16}, \"88\": {\"88\": 122, \"1\": 1, \"70\": 1}, \"93\": {\"93\": 136, \"14\": 1, \"24\": 1}, \"23\": {\"23\": 42, \"71\": 1, \"16\": 1}, \"108\": {\"108\": 123, \"26\": 1}, \"51\": {\"51\": 17, \"120\": 1, \"116\": 1, \"24\": 1}, \"13\": {\"13\": 12, \"104\": 1, \"15\": 1, \"71\": 1, \"118\": 1}, \"77\": {\"77\": 16}, \"46\": {\"46\": 16}, \"96\": {\"96\": 20}, \"119\": {\"119\": 19, \"126\": 1}, \"121\": {\"121\": 33, \"67\": 2, \"65\": 1}, \"54\": {\"54\": 18, \"28\": 1, \"15\": 1}, \"82\": {\"82\": 35, \"78\": 1}, \"12\": {\"12\": 86, \"0\": 1, \"24\": 1}, \"74\": {\"74\": 15, \"22\": 1}, \"66\": {\"66\": 18, \"49\": 1, \"46\": 1}, \"28\": {\"28\": 20}, \"52\": {\"52\": 18, \"59\": 1, \"110\": 1}, \"41\": {\"41\": 19, \"98\": 1}, \"81\": {\"81\": 24}, \"48\": {\"48\": 20}, \"113\": {\"113\": 70, \"5\": 1, \"105\": 1}, \"53\": {\"53\": 16}, \"15\": {\"15\": 119, \"30\": 1}, \"30\": {\"30\": 110, \"105\": 1, \"0\": 1}, \"43\": {\"43\": 121, \"88\": 1, \"15\": 1, \"94\": 1}, \"29\": {\"29\": 31, \"103\": 1}, \"109\": {\"39\": 5, \"109\": 89, \"94\": 1, \"70\": 1, \"88\": 2, \"84\": 1, \"71\": 1}, \"60\": {\"60\": 24, \"122\": 2, \"71\": 1, \"16\": 1}, \"70\": {\"70\": 109, \"16\": 1, \"78\": 1, \"88\": 2, \"0\": 2, \"109\": 1, \"15\": 1, \"107\": 1, \"49\": 1, \"71\": 1, \"39\": 1, \"43\": 1}, \"127\": {\"127\": 123, \"16\": 1}, \"32\": {\"32\": 34, \"56\": 1, \"128\": 1}, \"73\": {\"73\": 27, \"88\": 1}, \"50\": {\"50\": 13, \"75\": 1, \"21\": 1, \"23\": 1}, \"1\": {\"1\": 121, \"105\": 1, \"12\": 1, \"87\": 1}, \"106\": {\"106\": 116, \"21\": 1, \"55\": 1, \"84\": 1, \"1\": 1}, \"123\": {\"123\": 16}, \"79\": {\"79\": 16}, \"4\": {\"4\": 85, \"71\": 1, \"120\": 1, \"1\": 1}, \"2\": {\"2\": 32}, \"8\": {\"8\": 124, \"71\": 2, \"12\": 1, \"84\": 1}, \"83\": {\"83\": 40}, \"105\": {\"105\": 129, \"21\": 1}, \"5\": {\"5\": 107, \"21\": 1, \"70\": 2, \"94\": 2}, \"99\": {\"99\": 32}, \"25\": {\"25\": 15, \"73\": 1}, \"59\": {\"59\": 13, \"21\": 2, \"93\": 1}, \"42\": {\"42\": 24, \"82\": 1, \"83\": 1, \"18\": 1, \"1\": 1}, \"55\": {\"55\": 16}, \"75\": {\"75\": 16}, \"118\": {\"118\": 67, \"69\": 1}, \"95\": {\"95\": 30, \"127\": 1, \"21\": 1, \"40\": 3, \"24\": 1}, \"122\": {\"122\": 119, \"24\": 1}, \"20\": {\"20\": 16}, \"110\": {\"110\": 36, \"123\": 1, \"21\": 1, \"24\": 1, \"36\": 1}, \"65\": {\"65\": 20}, \"37\": {\"37\": 15, \"104\": 1}, \"64\": {\"64\": 16}, \"63\": {\"63\": 19, \"83\": 1}, \"40\": {\"40\": 129, \"18\": 2, \"24\": 1, \"106\": 1, \"88\": 1, \"16\": 1, \"71\": 1, \"110\": 1, \"15\": 1, \"4\": 1, \"69\": 1}, \"21\": {\"21\": 47, \"71\": 1}, \"11\": {\"11\": 74, \"108\": 2, \"126\": 1, \"97\": 1, \"51\": 1, \"87\": 1}, \"67\": {\"67\": 16}, \"91\": {\"91\": 26, \"16\": 1, \"18\": 1}, \"87\": {\"87\": 102, \"43\": 4, \"0\": 1, \"24\": 1, \"107\": 1, \"16\": 1, \"94\": 1, \"71\": 1}, \"89\": {\"89\": 35, \"83\": 1}, \"9\": {\"9\": 32}, \"124\": {\"124\": 114}, \"56\": {\"56\": 10, \"112\": 1, \"88\": 1}, \"38\": {\"38\": 16}, \"94\": {\"94\": 58, \"27\": 1, \"113\": 1, \"12\": 1, \"7\": 1, \"24\": 1, \"71\": 1}, \"6\": {\"6\": 31, \"98\": 1}, \"58\": {\"58\": 19, \"42\": 1}, \"22\": {\"22\": 19, \"65\": 1}, \"24\": {\"24\": 103, \"118\": 1, \"71\": 1, \"69\": 2, \"110\": 1, \"81\": 1, \"109\": 1, \"94\": 1, \"101\": 1}, \"57\": {\"57\": 20}, \"112\": {\"112\": 12, \"1\": 1, \"49\": 1, \"111\": 1, \"85\": 1}, \"116\": {\"116\": 25, \"113\": 1, \"41\": 1, \"12\": 1}, \"18\": {\"18\": 121, \"1\": 1, \"117\": 1, \"71\": 2, \"15\": 1, \"16\": 1, \"0\": 1}, \"49\": {\"49\": 21, \"51\": 1, \"44\": 1, \"21\": 1}, \"45\": {\"45\": 14, \"124\": 1, \"89\": 1}, \"107\": {\"107\": 56, \"51\": 1, \"110\": 1, \"71\": 1, \"12\": 1, \"61\": 1, \"24\": 1, \"36\": 1, \"87\": 1}, \"35\": {\"35\": 12}, \"78\": {\"78\": 44, \"106\": 1, \"70\": 1, \"71\": 2}, \"126\": {\"126\": 120}, \"85\": {\"85\": 32}, \"72\": {\"72\": 27, \"36\": 1}, \"26\": {\"26\": 120, \"70\": 2, \"106\": 1, \"18\": 1}, \"84\": {\"84\": 88, \"16\": 1, \"33\": 2, \"106\": 1}, \"128\": {\"128\": 23, \"114\": 1}, \"31\": {\"31\": 20}, \"71\": {\"71\": 98, \"16\": 1, \"11\": 1}}, \"C_2\": {\"49\": {\"49\": 24}, \"13\": {\"13\": 116}, \"37\": {\"37\": 36}, \"41\": {\"41\": 20}, \"15\": {\"15\": 142}, \"56\": {\"56\": 141, \"53\": 1}, \"14\": {\"14\": 22, \"56\": 2}, \"3\": {\"3\": 90, \"50\": 2}, \"38\": {\"38\": 20}, \"43\": {\"43\": 138}, \"33\": {\"33\": 28}, \"47\": {\"47\": 138}, \"30\": {\"30\": 144}, \"39\": {\"39\": 28}, \"12\": {\"12\": 92}, \"6\": {\"6\": 124}, \"51\": {\"51\": 134}, \"5\": {\"5\": 120}, \"34\": {\"34\": 28}, \"35\": {\"35\": 32}, \"0\": {\"0\": 48}, \"7\": {\"7\": 36}, \"24\": {\"24\": 96}, \"8\": {\"8\": 136}, \"20\": {\"20\": 124}, \"36\": {\"36\": 116}, \"42\": {\"42\": 36}, \"1\": {\"1\": 112}, \"4\": {\"4\": 148}, \"28\": {\"28\": 28}, \"50\": {\"50\": 136}, \"45\": {\"45\": 128}, \"18\": {\"18\": 48}, \"57\": {\"57\": 120}, \"46\": {\"46\": 128}, \"23\": {\"23\": 148}, \"27\": {\"27\": 138}, \"19\": {\"19\": 134}, \"22\": {\"22\": 136}, \"17\": {\"17\": 104}, \"55\": {\"55\": 136}, \"44\": {\"44\": 100}, \"26\": {\"26\": 24}, \"31\": {\"31\": 28}, \"16\": {\"16\": 130}, \"11\": {\"11\": 128}, \"25\": {\"25\": 126}, \"54\": {\"54\": 108}, \"32\": {\"32\": 28}, \"52\": {\"52\": 124}, \"40\": {\"40\": 132}, \"2\": {\"2\": 32}, \"10\": {\"10\": 110}, \"53\": {\"53\": 136}, \"9\": {\"9\": 150}, \"21\": {\"21\": 120}, \"48\": {\"48\": 138}, \"29\": {\"29\": 128}}, \"C_1\": {\"9\": {\"9\": 142}, \"25\": {\"25\": 128}, \"41\": {\"41\": 24}, \"29\": {\"29\": 140}, \"46\": {\"46\": 128}, \"4\": {\"4\": 132}, \"31\": {\"31\": 28}, \"36\": {\"36\": 64}, \"20\": {\"20\": 128}, \"7\": {\"7\": 28}, \"6\": {\"6\": 96}, \"16\": {\"16\": 138}, \"17\": {\"17\": 64}, \"50\": {\"50\": 148}, \"57\": {\"57\": 144}, \"23\": {\"23\": 136}, \"3\": {\"3\": 126}, \"53\": {\"53\": 140}, \"49\": {\"49\": 32}, \"56\": {\"56\": 152}, \"51\": {\"51\": 142}, \"26\": {\"26\": 24}, \"43\": {\"43\": 144}, \"22\": {\"22\": 136}, \"45\": {\"45\": 146}, \"13\": {\"13\": 152}, \"12\": {\"12\": 116}, \"54\": {\"54\": 104}, \"24\": {\"24\": 108}, \"44\": {\"44\": 136}, \"28\": {\"28\": 28}, \"33\": {\"33\": 32}, \"38\": {\"38\": 23, \"36\": 1}, \"0\": {\"0\": 144}, \"47\": {\"47\": 154}, \"42\": {\"42\": 40}, \"34\": {\"34\": 24}, \"48\": {\"48\": 142}, \"35\": {\"35\": 36}, \"2\": {\"2\": 36}, \"30\": {\"30\": 120}, \"18\": {\"18\": 72}, \"37\": {\"37\": 32}, \"1\": {\"1\": 100}, \"11\": {\"11\": 138}, \"55\": {\"55\": 130}, \"15\": {\"15\": 150}, \"10\": {\"10\": 96}, \"27\": {\"27\": 160}, \"19\": {\"19\": 146}, \"14\": {\"30\": 4, \"14\": 20}, \"8\": {\"8\": 140}, \"5\": {\"5\": 136}, \"39\": {\"39\": 28}, \"52\": {\"52\": 122}, \"21\": {\"21\": 124}, \"40\": {\"40\": 152}, \"32\": {\"32\": 32}}, \"C_3\": {\"56\": {\"56\": 120}, \"4\": {\"4\": 146}, \"34\": {\"34\": 32}, \"52\": {\"52\": 136}, \"32\": {\"32\": 28}, \"46\": {\"46\": 136}, \"12\": {\"12\": 92}, \"20\": {\"20\": 132}, \"54\": {\"54\": 100}, \"22\": {\"22\": 140}, \"26\": {\"26\": 24}, \"31\": {\"31\": 28}, \"10\": {\"10\": 64}, \"27\": {\"27\": 144}, \"40\": {\"40\": 136}, \"28\": {\"28\": 28}, \"5\": {\"5\": 116}, \"30\": {\"30\": 120}, \"7\": {\"7\": 36}, \"18\": {\"18\": 84}, \"39\": {\"39\": 16}, \"50\": {\"50\": 136}, \"49\": {\"49\": 20}, \"43\": {\"43\": 122}, \"29\": {\"29\": 114}, \"35\": {\"35\": 28}, \"13\": {\"13\": 124}, \"36\": {\"36\": 100}, \"11\": {\"11\": 146}, \"57\": {\"57\": 124}, \"9\": {\"9\": 130}, \"25\": {\"25\": 130}, \"16\": {\"16\": 126}, \"53\": {\"53\": 118}, \"33\": {\"33\": 28}, \"51\": {\"51\": 128}, \"44\": {\"44\": 88}, \"48\": {\"48\": 114}, \"6\": {\"6\": 88}, \"23\": {\"23\": 144}, \"1\": {\"1\": 100}, \"17\": {\"17\": 108}, \"21\": {\"21\": 122}, \"14\": {\"14\": 39, \"56\": 1}, \"55\": {\"55\": 144}, \"41\": {\"41\": 28}, \"3\": {\"3\": 137, \"50\": 1}, \"38\": {\"38\": 28}, \"2\": {\"2\": 32}, \"8\": {\"8\": 142}, \"37\": {\"37\": 28}, \"45\": {\"45\": 60}, \"42\": {\"42\": 28}, \"24\": {\"24\": 104}, \"15\": {\"15\": 136}, \"0\": {\"0\": 124}, \"47\": {\"47\": 92}, \"19\": {\"19\": 120}}, \"W_1\": {\"22\": {\"22\": 16}, \"58\": {\"58\": 12}, \"109\": {\"109\": 124}, \"77\": {\"77\": 16}, \"74\": {\"74\": 16}, \"10\": {\"10\": 119, \"18\": 1}, \"70\": {\"70\": 128}, \"84\": {\"84\": 108}, \"52\": {\"52\": 20}, \"20\": {\"20\": 15, \"3\": 1}, \"14\": {\"14\": 95, \"1\": 1}, \"37\": {\"37\": 16}, \"42\": {\"42\": 28}, \"99\": {\"99\": 24}, \"35\": {\"35\": 12}, \"62\": {\"62\": 119, \"108\": 1}, \"61\": {\"61\": 11, \"66\": 1}, \"7\": {\"7\": 141, \"70\": 1}, \"69\": {\"69\": 100, \"94\": 2, \"1\": 1, \"36\": 1}, \"55\": {\"55\": 12}, \"41\": {\"41\": 16}, \"120\": {\"120\": 20}, \"123\": {\"123\": 16}, \"97\": {\"97\": 16, \"109\": 1, \"121\": 1, \"17\": 1, \"95\": 1}, \"102\": {\"102\": 117, \"16\": 1, \"71\": 1, \"11\": 1}, \"60\": {\"60\": 13, \"100\": 1, \"8\": 1, \"30\": 1}, \"127\": {\"127\": 104, \"71\": 1, \"88\": 1, \"113\": 1, \"36\": 1}, \"32\": {\"32\": 32}, \"3\": {\"3\": 83, \"85\": 1, \"93\": 1, \"30\": 1, \"111\": 1, \"1\": 1}, \"8\": {\"8\": 122}, \"129\": {\"129\": 27, \"2\": 1}, \"119\": {\"119\": 16}, \"21\": {\"21\": 38, \"108\": 1, \"94\": 1}, \"53\": {\"53\": 20}, \"28\": {\"28\": 20}, \"117\": {\"117\": 144}, \"112\": {\"112\": 16}, \"126\": {\"126\": 132, \"84\": 1, \"88\": 1}, \"30\": {\"30\": 52}, \"105\": {\"105\": 79, \"40\": 2, \"27\": 1, \"15\": 1, \"70\": 1}, \"29\": {\"29\": 28}, \"57\": {\"57\": 12}, \"93\": {\"93\": 140}, \"17\": {\"17\": 15, \"97\": 1}, \"44\": {\"44\": 76}, \"63\": {\"63\": 16}, \"87\": {\"87\": 106, \"1\": 1, \"71\": 1}, \"0\": {\"0\": 83, \"122\": 1}, \"96\": {\"96\": 18, \"109\": 1, \"85\": 1}, \"98\": {\"98\": 108}, \"75\": {\"75\": 16}, \"78\": {\"78\": 15, \"27\": 1}, \"116\": {\"116\": 31, \"70\": 1}, \"114\": {\"114\": 126, \"3\": 1, \"94\": 1}, \"103\": {\"103\": 14, \"9\": 2}, \"50\": {\"50\": 16}, \"124\": {\"124\": 128}, \"5\": {\"5\": 86, \"16\": 1, \"14\": 1}, \"73\": {\"73\": 19, \"109\": 1}, \"81\": {\"81\": 28}, \"49\": {\"49\": 19, \"77\": 1}, \"16\": {\"16\": 106, \"15\": 1, \"27\": 1}, \"101\": {\"101\": 124}, \"125\": {\"125\": 118}, \"65\": {\"28\": 1, \"65\": 7, \"45\": 1, \"66\": 2, \"93\": 1}, \"66\": {\"66\": 16}, \"79\": {\"79\": 12}, \"39\": {\"39\": 102, \"30\": 1, \"83\": 1}, \"104\": {\"104\": 16}, \"91\": {\"91\": 27, \"86\": 1}, \"25\": {\"25\": 15, \"103\": 1}, \"64\": {\"64\": 16}, \"34\": {\"34\": 28, \"51\": 1, \"30\": 1, \"85\": 2}, \"82\": {\"82\": 36}, \"18\": {\"18\": 124}, \"43\": {\"43\": 127, \"78\": 1}, \"47\": {\"47\": 12}, \"108\": {\"108\": 123, \"70\": 1}, \"111\": {\"111\": 107, \"70\": 1}, \"23\": {\"23\": 22, \"110\": 2}, \"90\": {\"90\": 158, \"108\": 2}, \"4\": {\"4\": 99, \"27\": 1}, \"92\": {\"92\": 28}, \"2\": {\"2\": 31, \"62\": 1}, \"45\": {\"2\": 1, \"45\": 6, \"42\": 1, \"124\": 1, \"70\": 1, \"46\": 1, \"21\": 1}, \"68\": {\"68\": 16}, \"26\": {\"26\": 128}, \"38\": {\"38\": 16}, \"40\": {\"40\": 141, \"105\": 1}, \"80\": {\"80\": 14, \"64\": 1, \"85\": 1}, \"107\": {\"107\": 118, \"3\": 1, \"71\": 1, \"94\": 1, \"12\": 1}, \"94\": {\"94\": 92}, \"115\": {\"115\": 12}, \"46\": {\"46\": 11, \"70\": 1}, \"72\": {\"72\": 29, \"19\": 2, \"128\": 1}, \"19\": {\"19\": 28}, \"100\": {\"100\": 14, \"65\": 1, \"109\": 1}, \"76\": {\"76\": 15, \"88\": 1}, \"106\": {\"106\": 132}, \"88\": {\"88\": 128, \"84\": 2}, \"15\": {\"15\": 103, \"70\": 1}, \"54\": {\"54\": 14, \"2\": 1, \"30\": 1}, \"13\": {\"13\": 16}, \"51\": {\"51\": 16}, \"24\": {\"24\": 88, \"88\": 2, \"15\": 1, \"108\": 1}, \"48\": {\"48\": 12}, \"85\": {\"85\": 32}, \"33\": {\"33\": 140}, \"71\": {\"71\": 104, \"64\": 1, \"117\": 1, \"123\": 1, \"3\": 1}, \"6\": {\"6\": 31, \"91\": 1}, \"83\": {\"83\": 26, \"70\": 1, \"61\": 1}, \"121\": {\"121\": 31, \"123\": 1}, \"31\": {\"31\": 15, \"122\": 1}, \"67\": {\"45\": 1, \"67\": 15}, \"1\": {\"1\": 135, \"18\": 1}, \"27\": {\"27\": 91, \"94\": 1}, \"118\": {\"118\": 82, \"1\": 1, \"103\": 1}, \"56\": {\"56\": 11, \"32\": 1}, \"36\": {\"36\": 127, \"71\": 1}, \"11\": {\"11\": 125, \"117\": 1}, \"110\": {\"110\": 120, \"94\": 1, \"18\": 1}, \"89\": {\"89\": 36}, \"113\": {\"113\": 113, \"110\": 2, \"39\": 1, \"12\": 1, \"26\": 1}, \"59\": {\"59\": 12}, \"9\": {\"9\": 31, \"70\": 1}, \"86\": {\"86\": 32, \"115\": 2, \"111\": 1, \"21\": 1}, \"12\": {\"12\": 100, \"94\": 1, \"109\": 1, \"39\": 1, \"70\": 1}, \"122\": {\"122\": 84, \"27\": 1, \"43\": 1, \"70\": 2}, \"128\": {\"128\": 23, \"83\": 1}, \"95\": {\"95\": 35, \"5\": 1}}, \"O_14\": {\"15\": {\"15\": 240}, \"5\": {\"5\": 87, \"13\": 5, \"4\": 31, \"14\": 22, \"2\": 37, \"0\": 22, \"8\": 12, \"7\": 15, \"10\": 2, \"12\": 2, \"3\": 4, \"6\": 1}, \"7\": {\"7\": 142, \"5\": 28, \"13\": 13, \"14\": 12, \"8\": 8, \"6\": 15, \"3\": 9, \"2\": 4, \"0\": 7, \"4\": 2}, \"4\": {\"4\": 123, \"10\": 32, \"5\": 39, \"2\": 21, \"1\": 9, \"9\": 7, \"8\": 5, \"7\": 1, \"0\": 1, \"14\": 2}, \"10\": {\"4\": 52, \"10\": 131, \"5\": 8, \"9\": 32, \"2\": 10, \"1\": 4, \"12\": 1, \"0\": 1, \"13\": 1}, \"11\": {\"11\": 227, \"1\": 13}, \"12\": {\"12\": 177, \"8\": 36, \"9\": 7, \"0\": 16, \"3\": 3, \"5\": 1}, \"0\": {\"5\": 29, \"0\": 68, \"14\": 16, \"8\": 15, \"2\": 18, \"3\": 53, \"12\": 9, \"6\": 15, \"10\": 3, \"4\": 6, \"13\": 8}, \"14\": {\"5\": 22, \"14\": 88, \"2\": 49, \"6\": 21, \"7\": 7, \"13\": 20, \"3\": 12, \"0\": 19, \"12\": 1, \"4\": 1}, \"8\": {\"8\": 134, \"7\": 14, \"4\": 7, \"12\": 34, \"3\": 2, \"5\": 25, \"0\": 22, \"13\": 1, \"9\": 1}, \"13\": {\"15\": 18, \"2\": 21, \"7\": 13, \"6\": 75, \"13\": 55, \"14\": 24, \"5\": 13, \"3\": 13, \"0\": 5, \"4\": 3}, \"6\": {\"2\": 11, \"6\": 100, \"7\": 8, \"0\": 11, \"5\": 4, \"13\": 54, \"3\": 30, \"14\": 22}, \"1\": {\"1\": 192, \"10\": 15, \"4\": 7, \"9\": 26}, \"3\": {\"3\": 89, \"2\": 16, \"14\": 19, \"6\": 26, \"0\": 48, \"12\": 3, \"5\": 6, \"7\": 7, \"8\": 10, \"13\": 16}, \"9\": {\"12\": 1, \"9\": 176, \"10\": 31, \"4\": 5, \"1\": 26, \"8\": 1}, \"2\": {\"7\": 5, \"13\": 17, \"5\": 50, \"10\": 12, \"4\": 28, \"2\": 35, \"14\": 35, \"6\": 28, \"3\": 6, \"0\": 22, \"8\": 2}}, \"O_20\": {\"4\": {\"4\": 52, \"12\": 22, \"13\": 19, \"10\": 16, \"6\": 42, \"5\": 7, \"7\": 28, \"3\": 2, \"14\": 16, \"8\": 3, \"2\": 20, \"1\": 4, \"15\": 7, \"9\": 2}, \"10\": {\"6\": 29, \"10\": 114, \"4\": 45, \"13\": 25, \"7\": 5, \"2\": 5, \"12\": 10, \"15\": 3, \"1\": 1, \"14\": 3}, \"15\": {\"15\": 43, \"12\": 23, \"7\": 19, \"5\": 19, \"9\": 16, \"1\": 25, \"8\": 4, \"2\": 34, \"13\": 33, \"4\": 3, \"6\": 8, \"3\": 13}, \"0\": {\"3\": 27, \"0\": 121, \"8\": 17, \"11\": 55, \"12\": 1, \"5\": 9, \"1\": 4, \"14\": 2, \"9\": 4}, \"6\": {\"6\": 62, \"14\": 38, \"4\": 25, \"13\": 8, \"7\": 30, \"15\": 2, \"12\": 16, \"8\": 11, \"10\": 10, \"5\": 4, \"2\": 18, \"9\": 8, \"1\": 1, \"3\": 7}, \"3\": {\"6\": 3, \"8\": 32, \"1\": 20, \"15\": 13, \"3\": 39, \"14\": 24, \"5\": 41, \"7\": 7, \"12\": 7, \"9\": 33, \"0\": 10, \"13\": 1, \"2\": 7, \"11\": 1, \"4\": 2}, \"7\": {\"2\": 28, \"8\": 13, \"15\": 18, \"4\": 25, \"7\": 31, \"9\": 21, \"13\": 9, \"5\": 9, \"6\": 18, \"12\": 23, \"3\": 17, \"14\": 16, \"1\": 11, \"10\": 1}, \"2\": {\"4\": 16, \"6\": 2, \"15\": 34, \"2\": 28, \"7\": 32, \"13\": 48, \"1\": 14, \"12\": 37, \"9\": 13, \"5\": 5, \"10\": 1, \"14\": 4, \"3\": 5, \"8\": 1}, \"8\": {\"7\": 8, \"3\": 33, \"11\": 2, \"8\": 72, \"14\": 62, \"1\": 10, \"12\": 4, \"5\": 17, \"6\": 5, \"9\": 16, \"2\": 1, \"0\": 7, \"4\": 2, \"15\": 1}, \"11\": {\"11\": 164, \"0\": 63, \"9\": 2, \"1\": 2, \"5\": 2, \"3\": 3, \"8\": 2, \"14\": 2}, \"14\": {\"14\": 90, \"7\": 18, \"8\": 60, \"5\": 12, \"3\": 9, \"6\": 20, \"15\": 3, \"9\": 9, \"0\": 1, \"4\": 7, \"2\": 2, \"12\": 2, \"1\": 3, \"11\": 1, \"10\": 3}, \"12\": {\"2\": 44, \"12\": 32, \"15\": 33, \"7\": 27, \"1\": 9, \"13\": 21, \"4\": 16, \"9\": 18, \"5\": 11, \"6\": 11, \"3\": 10, \"14\": 7, \"10\": 1}, \"13\": {\"10\": 4, \"1\": 6, \"15\": 36, \"13\": 82, \"2\": 34, \"12\": 37, \"4\": 8, \"7\": 24, \"6\": 4, \"5\": 2, \"9\": 3}, \"9\": {\"8\": 30, \"1\": 26, \"14\": 13, \"5\": 31, \"9\": 35, \"15\": 17, \"12\": 15, \"3\": 24, \"2\": 22, \"7\": 18, \"13\": 4, \"6\": 3, \"4\": 2}, \"5\": {\"2\": 12, \"5\": 45, \"8\": 23, \"9\": 24, \"1\": 42, \"15\": 21, \"3\": 40, \"6\": 2, \"7\": 7, \"13\": 2, \"12\": 11, \"0\": 3, \"14\": 5, \"4\": 3}, \"1\": {\"5\": 42, \"1\": 36, \"15\": 26, \"9\": 25, \"7\": 22, \"3\": 31, \"14\": 5, \"8\": 13, \"13\": 8, \"12\": 16, \"4\": 4, \"2\": 11, \"6\": 1}}, \"O_50\": {\"5\": {\"5\": 57, \"6\": 23, \"3\": 16, \"4\": 39, \"7\": 49, \"11\": 15, \"15\": 22, \"13\": 7, \"9\": 6, \"12\": 6}, \"12\": {\"12\": 137, \"6\": 11, \"3\": 1, \"11\": 41, \"9\": 28, \"13\": 11, \"15\": 6, \"5\": 1, \"1\": 2, \"8\": 2}, \"14\": {\"14\": 161, \"2\": 54, \"0\": 24, \"10\": 1}, \"4\": {\"4\": 105, \"7\": 85, \"5\": 37, \"9\": 2, \"6\": 7, \"15\": 3, \"3\": 1}, \"13\": {\"1\": 31, \"13\": 132, \"12\": 10, \"9\": 8, \"11\": 41, \"3\": 1, \"5\": 3, \"8\": 8, \"6\": 3, \"15\": 3}, \"10\": {\"1\": 29, \"10\": 139, \"8\": 39, \"0\": 28, \"2\": 3, \"13\": 2}, \"9\": {\"11\": 37, \"9\": 65, \"15\": 50, \"5\": 9, \"12\": 43, \"6\": 30, \"4\": 1, \"3\": 2, \"13\": 3}, \"15\": {\"12\": 7, \"15\": 91, \"4\": 4, \"9\": 43, \"5\": 27, \"6\": 55, \"3\": 1, \"11\": 11, \"13\": 1}, \"6\": {\"5\": 34, \"15\": 64, \"9\": 28, \"3\": 11, \"6\": 76, \"4\": 5, \"12\": 10, \"11\": 6, \"13\": 6}, \"2\": {\"2\": 129, \"0\": 74, \"10\": 9, \"14\": 28}, \"0\": {\"0\": 125, \"2\": 60, \"10\": 40, \"14\": 13, \"1\": 2}, \"11\": {\"12\": 42, \"15\": 22, \"13\": 33, \"9\": 44, \"1\": 4, \"6\": 8, \"11\": 87}, \"3\": {\"3\": 201, \"6\": 10, \"5\": 15, \"12\": 2, \"4\": 1, \"9\": 1, \"7\": 6, \"15\": 2, \"13\": 1, \"8\": 1}, \"8\": {\"8\": 165, \"10\": 37, \"13\": 18, \"1\": 14, \"12\": 4, \"11\": 2}, \"7\": {\"4\": 82, \"7\": 131, \"5\": 24, \"3\": 3}, \"1\": {\"1\": 146, \"13\": 38, \"8\": 10, \"10\": 33, \"12\": 1, \"0\": 3, \"11\": 9}}, \"O_26\": {\"7\": {\"7\": 60, \"3\": 39, \"8\": 40, \"13\": 14, \"9\": 27, \"0\": 22, \"2\": 27, \"12\": 10, \"10\": 1}, \"6\": {\"5\": 48, \"10\": 23, \"15\": 55, \"1\": 29, \"6\": 62, \"14\": 20, \"11\": 1, \"0\": 2}, \"14\": {\"10\": 68, \"6\": 22, \"8\": 2, \"15\": 16, \"0\": 28, \"14\": 67, \"1\": 27, \"5\": 4, \"2\": 5, \"12\": 1}, \"15\": {\"12\": 5, \"6\": 56, \"10\": 33, \"15\": 49, \"5\": 42, \"0\": 9, \"1\": 23, \"14\": 17, \"2\": 5, \"11\": 1}, \"5\": {\"5\": 110, \"6\": 36, \"1\": 27, \"15\": 47, \"10\": 8, \"11\": 9, \"14\": 3}, \"10\": {\"14\": 51, \"0\": 33, \"12\": 5, \"10\": 68, \"6\": 27, \"15\": 31, \"5\": 10, \"1\": 14, \"2\": 1}, \"4\": {\"4\": 185, \"3\": 25, \"13\": 13, \"8\": 6, \"7\": 9, \"2\": 2}, \"11\": {\"11\": 212, \"6\": 10, \"5\": 12, \"1\": 3, \"10\": 2, \"15\": 1}, \"13\": {\"8\": 12, \"13\": 125, \"12\": 12, \"9\": 27, \"4\": 15, \"7\": 13, \"3\": 27, \"2\": 9}, \"2\": {\"12\": 24, \"2\": 51, \"9\": 39, \"7\": 37, \"0\": 14, \"8\": 30, \"3\": 20, \"13\": 13, \"14\": 3, \"1\": 1, \"6\": 2, \"10\": 5, \"15\": 1}, \"0\": {\"14\": 41, \"9\": 6, \"2\": 17, \"8\": 18, \"0\": 68, \"10\": 57, \"15\": 6, \"6\": 7, \"1\": 6, \"12\": 10, \"7\": 4}, \"12\": {\"12\": 94, \"9\": 28, \"8\": 32, \"13\": 25, \"0\": 15, \"2\": 25, \"15\": 4, \"7\": 9, \"10\": 2, \"3\": 4, \"14\": 2}, \"3\": {\"3\": 82, \"8\": 23, \"13\": 30, \"7\": 55, \"4\": 8, \"9\": 29, \"2\": 8, \"12\": 3, \"0\": 2}, \"9\": {\"7\": 29, \"8\": 22, \"9\": 55, \"13\": 28, \"2\": 49, \"0\": 12, \"3\": 25, \"12\": 15, \"14\": 3, \"10\": 1, \"15\": 1}, \"8\": {\"9\": 17, \"8\": 65, \"3\": 20, \"2\": 29, \"7\": 43, \"0\": 29, \"13\": 6, \"14\": 3, \"12\": 25, \"10\": 3}, \"1\": {\"1\": 117, \"14\": 25, \"15\": 20, \"10\": 18, \"6\": 40, \"5\": 16, \"0\": 4}}, \"O_32\": {\"7\": {\"0\": 49, \"14\": 51, \"5\": 52, \"7\": 65, \"8\": 20, \"15\": 2, \"2\": 1}, \"2\": {\"2\": 129, \"4\": 64, \"8\": 9, \"14\": 21, \"0\": 3, \"3\": 3, \"13\": 3, \"9\": 4, \"7\": 4}, \"5\": {\"5\": 73, \"7\": 55, \"0\": 38, \"8\": 43, \"14\": 17, \"15\": 14}, \"6\": {\"10\": 17, \"6\": 221, \"12\": 2}, \"13\": {\"4\": 36, \"3\": 62, \"13\": 108, \"11\": 23, \"2\": 5, \"9\": 6}, \"4\": {\"2\": 70, \"13\": 20, \"9\": 6, \"3\": 18, \"4\": 108, \"8\": 11, \"11\": 2, \"14\": 5}, \"3\": {\"3\": 156, \"13\": 46, \"4\": 24, \"11\": 10, \"2\": 2, \"8\": 2}, \"0\": {\"2\": 5, \"0\": 64, \"14\": 43, \"7\": 50, \"5\": 45, \"8\": 29, \"15\": 3, \"4\": 1}, \"9\": {\"4\": 15, \"9\": 161, \"12\": 42, \"2\": 11, \"13\": 5, \"11\": 3, \"10\": 2, \"6\": 1}, \"12\": {\"12\": 146, \"9\": 51, \"10\": 43}, \"8\": {\"8\": 69, \"5\": 43, \"0\": 50, \"14\": 29, \"4\": 4, \"7\": 25, \"2\": 6, \"3\": 3, \"15\": 11}, \"14\": {\"14\": 76, \"0\": 34, \"7\": 50, \"8\": 14, \"5\": 30, \"2\": 23, \"3\": 3, \"4\": 9, \"9\": 1}, \"15\": {\"5\": 18, \"15\": 206, \"7\": 3, \"8\": 10, \"0\": 3}, \"11\": {\"11\": 210, \"13\": 21, \"12\": 1, \"4\": 3, \"9\": 3, \"3\": 2}, \"10\": {\"10\": 192, \"12\": 41, \"9\": 2, \"6\": 5}, \"1\": {\"1\": 240}}, \"O_44\": {\"11\": {\"11\": 239, \"13\": 1}, \"7\": {\"7\": 93, \"10\": 56, \"9\": 59, \"14\": 5, \"4\": 11, \"6\": 12, \"5\": 2, \"13\": 2}, \"6\": {\"6\": 130, \"9\": 28, \"13\": 73, \"7\": 5, \"4\": 2, \"10\": 2}, \"12\": {\"12\": 167, \"3\": 70, \"1\": 3}, \"4\": {\"4\": 64, \"5\": 38, \"7\": 26, \"14\": 50, \"9\": 26, \"15\": 15, \"10\": 9, \"1\": 4, \"0\": 2, \"13\": 1, \"2\": 3, \"6\": 2}, \"13\": {\"13\": 148, \"7\": 2, \"6\": 63, \"9\": 17, \"11\": 6, \"10\": 1, \"4\": 3}, \"8\": {\"15\": 52, \"8\": 98, \"0\": 62, \"5\": 15, \"4\": 3, \"14\": 10}, \"5\": {\"4\": 41, \"14\": 61, \"15\": 37, \"5\": 84, \"8\": 7, \"7\": 4, \"9\": 3, \"10\": 1, \"0\": 1, \"6\": 1}, \"14\": {\"8\": 3, \"14\": 73, \"5\": 61, \"15\": 26, \"4\": 52, \"9\": 11, \"7\": 12, \"10\": 2}, \"3\": {\"12\": 88, \"3\": 150, \"1\": 2}, \"10\": {\"9\": 34, \"7\": 58, \"10\": 108, \"2\": 16, \"1\": 13, \"6\": 4, \"4\": 4, \"14\": 2, \"5\": 1}, \"1\": {\"1\": 155, \"10\": 5, \"2\": 68, \"14\": 2, \"3\": 3, \"0\": 4, \"4\": 2, \"8\": 1}, \"2\": {\"1\": 44, \"2\": 152, \"7\": 10, \"10\": 29, \"4\": 2, \"15\": 1, \"5\": 1, \"9\": 1}, \"15\": {\"0\": 20, \"8\": 53, \"15\": 79, \"5\": 34, \"14\": 39, \"4\": 9, \"1\": 5, \"2\": 1}, \"9\": {\"9\": 64, \"4\": 9, \"13\": 28, \"7\": 63, \"14\": 9, \"6\": 40, \"10\": 24, \"2\": 3}, \"0\": {\"8\": 68, \"0\": 134, \"5\": 3, \"15\": 31, \"4\": 2, \"1\": 1, \"3\": 1}}, \"O_8\": {\"10\": {\"5\": 46, \"6\": 27, \"13\": 47, \"7\": 20, \"10\": 66, \"11\": 5, \"1\": 13, \"4\": 11, \"14\": 3, \"8\": 2}, \"6\": {\"1\": 36, \"5\": 4, \"6\": 57, \"10\": 13, \"7\": 39, \"11\": 30, \"4\": 34, \"13\": 15, \"8\": 9, \"14\": 3}, \"13\": {\"5\": 42, \"7\": 34, \"10\": 60, \"13\": 70, \"1\": 9, \"6\": 20, \"11\": 4, \"4\": 1}, \"3\": {\"3\": 208, \"2\": 31, \"15\": 1}, \"9\": {\"9\": 240}, \"1\": {\"10\": 17, \"13\": 23, \"11\": 41, \"4\": 20, \"6\": 25, \"5\": 22, \"1\": 59, \"7\": 26, \"8\": 5, \"14\": 2}, \"5\": {\"7\": 9, \"13\": 46, \"10\": 54, \"5\": 74, \"1\": 22, \"6\": 11, \"11\": 7, \"4\": 9, \"15\": 1, \"14\": 5, \"8\": 1, \"12\": 1}, \"11\": {\"5\": 11, \"7\": 24, \"6\": 29, \"1\": 34, \"4\": 29, \"14\": 18, \"11\": 51, \"8\": 30, \"10\": 6, \"13\": 8}, \"4\": {\"4\": 82, \"14\": 62, \"6\": 25, \"1\": 7, \"11\": 28, \"8\": 28, \"7\": 3, \"10\": 3, \"13\": 1, \"5\": 1}, \"14\": {\"4\": 70, \"6\": 3, \"14\": 128, \"8\": 21, \"0\": 6, \"11\": 11, \"1\": 1}, \"12\": {\"12\": 128, \"15\": 86, \"2\": 21, \"5\": 1, \"13\": 2, \"3\": 2}, \"7\": {\"5\": 5, \"7\": 78, \"6\": 50, \"10\": 30, \"13\": 29, \"1\": 15, \"4\": 4, \"8\": 4, \"11\": 22, \"14\": 3}, \"0\": {\"0\": 227, \"14\": 13}, \"15\": {\"12\": 87, \"15\": 119, \"2\": 33, \"3\": 1}, \"2\": {\"2\": 132, \"15\": 26, \"13\": 2, \"3\": 50, \"12\": 28, \"5\": 2}, \"8\": {\"4\": 33, \"5\": 2, \"8\": 96, \"11\": 50, \"6\": 15, \"7\": 8, \"1\": 14, \"14\": 22}}, \"O_38\": {\"4\": {\"4\": 219, \"0\": 7, \"10\": 7, \"14\": 5, \"7\": 2}, \"7\": {\"2\": 15, \"7\": 148, \"8\": 19, \"9\": 10, \"14\": 27, \"0\": 8, \"5\": 6, \"4\": 5, \"13\": 2}, \"12\": {\"12\": 226, \"7\": 1, \"8\": 12, \"5\": 1}, \"10\": {\"0\": 39, \"10\": 147, \"13\": 27, \"4\": 11, \"14\": 9, \"3\": 7}, \"0\": {\"13\": 36, \"0\": 72, \"7\": 17, \"3\": 18, \"8\": 1, \"10\": 60, \"14\": 15, \"2\": 9, \"4\": 10, \"9\": 2}, \"1\": {\"1\": 160, \"6\": 72, \"15\": 8}, \"5\": {\"8\": 76, \"7\": 19, \"15\": 23, \"5\": 55, \"9\": 46, \"12\": 9, \"2\": 10, \"14\": 2}, \"15\": {\"5\": 34, \"15\": 155, \"1\": 16, \"8\": 19, \"6\": 7, \"9\": 6, \"2\": 1, \"12\": 2}, \"9\": {\"9\": 150, \"5\": 35, \"8\": 25, \"7\": 18, \"2\": 10, \"15\": 1, \"13\": 1}, \"11\": {\"11\": 238, \"3\": 2}, \"14\": {\"14\": 157, \"2\": 37, \"7\": 17, \"13\": 14, \"0\": 9, \"10\": 3, \"4\": 1, \"8\": 2}, \"6\": {\"6\": 166, \"1\": 70, \"15\": 4}, \"8\": {\"7\": 37, \"8\": 64, \"9\": 25, \"14\": 5, \"2\": 11, \"15\": 22, \"5\": 56, \"12\": 19, \"13\": 1}, \"3\": {\"3\": 229, \"10\": 9, \"11\": 1, \"0\": 1}, \"2\": {\"9\": 7, \"2\": 151, \"13\": 29, \"14\": 34, \"0\": 4, \"7\": 10, \"8\": 5}, \"13\": {\"0\": 34, \"13\": 149, \"10\": 20, \"2\": 30, \"14\": 6, \"7\": 1}}}, \"per_domain_accuracy\": {\"C_4\": {\"accuracy\": 0.9975673652694611, \"source?\": true}, \"W_3\": {\"accuracy\": 0.978438864628821, \"source?\": true}, \"W_4\": {\"accuracy\": 0.9641012396694215, \"source?\": true}, \"C_5\": {\"accuracy\": 0.9975558659217877, \"source?\": true}, \"W_2\": {\"accuracy\": 0.9625527426160337, \"source?\": true}, \"C_2\": {\"accuracy\": 0.9991071428571429, \"source?\": true}, \"C_1\": {\"accuracy\": 0.9991508152173914, \"source?\": true}, \"C_3\": {\"accuracy\": 0.9996323529411765, \"source?\": true}, \"W_1\": {\"accuracy\": 0.9806985294117647, \"source?\": true}, \"O_14\": {\"accuracy\": 0.5375, \"source?\": false}, \"O_20\": {\"accuracy\": 0.27239583333333334, \"source?\": false}, \"O_50\": {\"accuracy\": 0.50703125, \"source?\": false}, \"O_26\": {\"accuracy\": 0.3828125, \"source?\": false}, \"O_32\": {\"accuracy\": 0.5791666666666667, \"source?\": false}, \"O_44\": {\"accuracy\": 0.5046875, \"source?\": false}, \"O_8\": {\"accuracy\": 0.47265625, \"source?\": false}, \"O_38\": {\"accuracy\": 0.6473958333333333, \"source?\": false}}}, \"history\": {\"epoch_indices\": [1, 2, 3, 4, 5, 6], \"train_label_loss\": [0.12535835193567818, 0.08122829613849947, 0.06605699711342565, 0.05899385734614111, 0.05401736943322596, 0.050499045162403534], \"source_val_label_loss\": [0.12194160372018814, 0.07141581177711487, 0.07041841000318527, 0.06258787214756012, 0.05782375857234001, 0.05505397915840149], \"target_val_label_loss\": [2.4939990043640137, 2.3255202770233154, 2.23644757270813, 2.2770020961761475, 2.204765796661377, 2.1326842308044434], \"source_val_acc_label\": [0.9770730367929709, 0.9844522240527183, 0.9849842119714443, 0.9857564524986271, 0.9867174629324547, 0.9869062328390994], \"target_val_acc_label\": [0.4166341145833333, 0.4879557291666667, 0.4791015625, 0.4478515625, 0.47115885416666664, 0.408203125]}, \"dataset_metrics\": {\"source\": {\"train\": {\"n_unique_x\": 364216, \"n_unique_y\": 130, \"n_batch/episode\": 13152}, \"val\": {\"n_unique_x\": 77265, \"n_unique_y\": 130, \"n_batch/episode\": 1821}, \"test\": {\"n_unique_x\": 78390, \"n_unique_y\": 130, \"n_batch/episode\": 1852}}, \"target\": {\"train\": {\"n_unique_x\": 179200, \"n_unique_y\": 16, \"n_batch/episode\": 6720}, \"val\": {\"n_unique_x\": 38400, \"n_unique_y\": 16, \"n_batch/episode\": 960}, \"test\": {\"n_unique_x\": 38400, \"n_unique_y\": 16, \"n_batch/episode\": 960}}}}'"
      ]
     },
     "execution_count": 29,
     "metadata": {},
     "output_type": "execute_result"
    }
   ],
   "source": [
    "json.dumps(experiment)"
   ]
  }
 ],
 "metadata": {
  "celltoolbar": "Tags",
  "kernelspec": {
   "display_name": "Python 3 (ipykernel)",
   "language": "python",
   "name": "python3"
  },
  "language_info": {
   "codemirror_mode": {
    "name": "ipython",
    "version": 3
   },
   "file_extension": ".py",
   "mimetype": "text/x-python",
   "name": "python",
   "nbconvert_exporter": "python",
   "pygments_lexer": "ipython3",
   "version": "3.8.10"
  },
  "papermill": {
   "default_parameters": {},
   "duration": 3927.596022,
   "end_time": "2022-03-20T12:24:46.836420",
   "environment_variables": {},
   "exception": null,
   "input_path": "/mnt/wd500GB/CSC500/csc500-main/csc500-notebooks/templates/tl_ptn_template.ipynb",
   "output_path": "trial.ipynb",
   "parameters": {
    "parameters": {
     "BEST_MODEL_PATH": "./best_model.pth",
     "NUM_LOGS_PER_EPOCH": 10,
     "criteria_for_best": "target_accuracy",
     "dataset_seed": 420,
     "datasets": [
      {
       "domain_prefix": "C_",
       "domains": [
        1,
        2,
        3,
        4,
        5
       ],
       "episode_transforms": [],
       "labels": [
        "1-10.",
        "1-11.",
        "1-15.",
        "1-16.",
        "1-17.",
        "1-18.",
        "1-19.",
        "10-4.",
        "10-7.",
        "11-1.",
        "11-14.",
        "11-17.",
        "11-20.",
        "11-7.",
        "13-20.",
        "13-8.",
        "14-10.",
        "14-11.",
        "14-14.",
        "14-7.",
        "15-1.",
        "15-20.",
        "16-1.",
        "16-16.",
        "17-10.",
        "17-11.",
        "17-2.",
        "19-1.",
        "19-16.",
        "19-19.",
        "19-20.",
        "19-3.",
        "2-10.",
        "2-11.",
        "2-17.",
        "2-18.",
        "2-20.",
        "2-3.",
        "2-4.",
        "2-5.",
        "2-6.",
        "2-7.",
        "2-8.",
        "3-13.",
        "3-18.",
        "3-3.",
        "4-1.",
        "4-10.",
        "4-11.",
        "4-19.",
        "5-5.",
        "6-15.",
        "7-10.",
        "7-14.",
        "8-18.",
        "8-20.",
        "8-3.",
        "8-8."
       ],
       "num_examples_per_domain_per_label": -1,
       "pickle_path": "/mnt/wd500GB/CSC500/csc500-main/datasets/cores.stratified_ds.2022A.pkl",
       "source_or_target_dataset": "source",
       "x_transforms": [
        "take_200"
       ]
      },
      {
       "domain_prefix": "W_",
       "domains": [
        1,
        2,
        3,
        4
       ],
       "episode_transforms": [],
       "labels": [
        "1-10",
        "1-12",
        "1-14",
        "1-16",
        "1-18",
        "1-19",
        "1-8",
        "10-11",
        "10-17",
        "10-4",
        "10-7",
        "11-1",
        "11-10",
        "11-19",
        "11-20",
        "11-4",
        "11-7",
        "12-19",
        "12-20",
        "12-7",
        "13-14",
        "13-18",
        "13-19",
        "13-20",
        "13-3",
        "13-7",
        "14-10",
        "14-11",
        "14-12",
        "14-13",
        "14-14",
        "14-19",
        "14-20",
        "14-7",
        "14-8",
        "14-9",
        "15-1",
        "15-19",
        "15-6",
        "16-1",
        "16-16",
        "16-19",
        "16-20",
        "17-10",
        "17-11",
        "18-1",
        "18-10",
        "18-11",
        "18-12",
        "18-13",
        "18-14",
        "18-15",
        "18-16",
        "18-17",
        "18-19",
        "18-2",
        "18-20",
        "18-4",
        "18-5",
        "18-7",
        "18-8",
        "18-9",
        "19-1",
        "19-10",
        "19-11",
        "19-12",
        "19-13",
        "19-14",
        "19-15",
        "19-19",
        "19-2",
        "19-20",
        "19-3",
        "19-4",
        "19-6",
        "19-7",
        "19-8",
        "19-9",
        "2-1",
        "2-13",
        "2-15",
        "2-3",
        "2-4",
        "2-5",
        "2-6",
        "2-7",
        "2-8",
        "20-1",
        "20-12",
        "20-14",
        "20-15",
        "20-16",
        "20-18",
        "20-19",
        "20-20",
        "20-3",
        "20-4",
        "20-5",
        "20-7",
        "20-8",
        "3-1",
        "3-13",
        "3-18",
        "3-2",
        "3-8",
        "4-1",
        "4-10",
        "4-11",
        "5-1",
        "5-5",
        "6-1",
        "6-15",
        "6-6",
        "7-10",
        "7-11",
        "7-12",
        "7-13",
        "7-14",
        "7-7",
        "7-8",
        "7-9",
        "8-1",
        "8-13",
        "8-14",
        "8-18",
        "8-20",
        "8-3",
        "8-8",
        "9-1",
        "9-7"
       ],
       "num_examples_per_domain_per_label": -1,
       "pickle_path": "/mnt/wd500GB/CSC500/csc500-main/datasets/wisig.node3-19.stratified_ds.2022A.pkl",
       "source_or_target_dataset": "source",
       "x_transforms": [
        "take_200"
       ]
      },
      {
       "domain_prefix": "O_",
       "domains": [
        32,
        38,
        8,
        44,
        14,
        50,
        20,
        26
       ],
       "episode_transforms": [],
       "labels": [
        "3123D52",
        "3123D65",
        "3123D79",
        "3123D80",
        "3123D54",
        "3123D70",
        "3123D7B",
        "3123D89",
        "3123D58",
        "3123D76",
        "3123D7D",
        "3123EFE",
        "3123D64",
        "3123D78",
        "3123D7E",
        "3124E4A"
       ],
       "num_examples_per_domain_per_label": 2000,
       "pickle_path": "/mnt/wd500GB/CSC500/csc500-main/datasets/oracle.Run1_framed_2000Examples_stratified_ds.2022A.pkl",
       "source_or_target_dataset": "target",
       "x_transforms": [
        "take_200",
        "resample_20Msps_to_25Msps"
       ]
      }
     ],
     "device": "cuda",
     "experiment_name": "tl_3Av2:cores+wisig -> oracle.run1.framed",
     "lr": 0.0001,
     "n_epoch": 50,
     "n_query": 2,
     "n_shot": 3,
     "n_way": 16,
     "patience": 3,
     "seed": 420,
     "test_k_factor": 2,
     "torch_default_dtype": "torch.float32",
     "train_k_factor": 3,
     "val_k_factor": 2,
     "x_net": [
      {
       "class": "nnReshape",
       "kargs": {
        "shape": [
         -1,
         1,
         2,
         200
        ]
       }
      },
      {
       "class": "Conv2d",
       "kargs": {
        "bias": false,
        "in_channels": 1,
        "kernel_size": [
         1,
         7
        ],
        "out_channels": 256,
        "padding": [
         0,
         3
        ]
       }
      },
      {
       "class": "ReLU",
       "kargs": {
        "inplace": true
       }
      },
      {
       "class": "BatchNorm2d",
       "kargs": {
        "num_features": 256
       }
      },
      {
       "class": "Conv2d",
       "kargs": {
        "bias": true,
        "in_channels": 256,
        "kernel_size": [
         2,
         7
        ],
        "out_channels": 80,
        "padding": [
         0,
         3
        ]
       }
      },
      {
       "class": "ReLU",
       "kargs": {
        "inplace": true
       }
      },
      {
       "class": "BatchNorm2d",
       "kargs": {
        "num_features": 80
       }
      },
      {
       "class": "Flatten",
       "kargs": {}
      },
      {
       "class": "Linear",
       "kargs": {
        "in_features": 16000,
        "out_features": 256
       }
      },
      {
       "class": "ReLU",
       "kargs": {
        "inplace": true
       }
      },
      {
       "class": "BatchNorm1d",
       "kargs": {
        "num_features": 256
       }
      },
      {
       "class": "Linear",
       "kargs": {
        "in_features": 256,
        "out_features": 256
       }
      }
     ],
     "x_shape": [
      2,
      200
     ]
    }
   },
   "start_time": "2022-03-20T11:19:19.240398",
   "version": "2.3.4"
  }
 },
 "nbformat": 4,
 "nbformat_minor": 5
}