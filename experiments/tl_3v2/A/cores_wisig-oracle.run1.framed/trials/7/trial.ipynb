{
 "cells": [
  {
   "cell_type": "markdown",
   "id": "9fea5f46",
   "metadata": {
    "papermill": {
     "duration": 0.017679,
     "end_time": "2022-03-20T13:30:41.128237",
     "exception": false,
     "start_time": "2022-03-20T13:30:41.110558",
     "status": "completed"
    },
    "tags": []
   },
   "source": [
    "# Transfer Learning Template"
   ]
  },
  {
   "cell_type": "code",
   "execution_count": 1,
   "id": "0902182a",
   "metadata": {
    "execution": {
     "iopub.execute_input": "2022-03-20T13:30:41.166601Z",
     "iopub.status.busy": "2022-03-20T13:30:41.166207Z",
     "iopub.status.idle": "2022-03-20T13:30:42.134236Z",
     "shell.execute_reply": "2022-03-20T13:30:42.134669Z"
    },
    "papermill": {
     "duration": 0.993596,
     "end_time": "2022-03-20T13:30:42.134866",
     "exception": false,
     "start_time": "2022-03-20T13:30:41.141270",
     "status": "completed"
    },
    "tags": []
   },
   "outputs": [],
   "source": [
    "%load_ext autoreload\n",
    "%autoreload 2\n",
    "%matplotlib inline\n",
    "\n",
    "    \n",
    "import os, json, sys, time, random\n",
    "import numpy as np\n",
    "import torch\n",
    "from torch.optim import Adam\n",
    "from  easydict import EasyDict\n",
    "import matplotlib.pyplot as plt\n",
    "\n",
    "from steves_models.steves_ptn import Steves_Prototypical_Network\n",
    "\n",
    "from steves_utils.lazy_iterable_wrapper import Lazy_Iterable_Wrapper\n",
    "from steves_utils.iterable_aggregator import Iterable_Aggregator\n",
    "from steves_utils.ptn_train_eval_test_jig import  PTN_Train_Eval_Test_Jig\n",
    "from steves_utils.torch_sequential_builder import build_sequential\n",
    "from steves_utils.torch_utils import get_dataset_metrics, ptn_confusion_by_domain_over_dataloader\n",
    "from steves_utils.utils_v2 import (per_domain_accuracy_from_confusion, get_datasets_base_path)\n",
    "from steves_utils.PTN.utils import independent_accuracy_assesment\n",
    "\n",
    "from torch.utils.data import DataLoader\n",
    "\n",
    "from steves_utils.stratified_dataset.episodic_accessor import Episodic_Accessor_Factory\n",
    "\n",
    "from steves_utils.ptn_do_report import (\n",
    "    get_loss_curve,\n",
    "    get_results_table,\n",
    "    get_parameters_table,\n",
    "    get_domain_accuracies,\n",
    ")\n",
    "\n",
    "from steves_utils.transforms import get_chained_transform"
   ]
  },
  {
   "cell_type": "markdown",
   "id": "41c840b4",
   "metadata": {
    "papermill": {
     "duration": 0.01285,
     "end_time": "2022-03-20T13:30:42.165417",
     "exception": false,
     "start_time": "2022-03-20T13:30:42.152567",
     "status": "completed"
    },
    "tags": []
   },
   "source": [
    "# Allowed Parameters\n",
    "These are allowed parameters, not defaults\n",
    "Each of these values need to be present in the injected parameters (the notebook will raise an exception if they are not present)\n",
    "\n",
    "Papermill uses the cell tag \"parameters\" to inject the real parameters below this cell.\n",
    "Enable tags to see what I mean"
   ]
  },
  {
   "cell_type": "code",
   "execution_count": 2,
   "id": "fd44eb83",
   "metadata": {
    "execution": {
     "iopub.execute_input": "2022-03-20T13:30:42.194026Z",
     "iopub.status.busy": "2022-03-20T13:30:42.192442Z",
     "iopub.status.idle": "2022-03-20T13:30:42.209142Z",
     "shell.execute_reply": "2022-03-20T13:30:42.208900Z"
    },
    "papermill": {
     "duration": 0.030951,
     "end_time": "2022-03-20T13:30:42.209203",
     "exception": false,
     "start_time": "2022-03-20T13:30:42.178252",
     "status": "completed"
    },
    "tags": []
   },
   "outputs": [],
   "source": [
    "required_parameters = {\n",
    "    \"experiment_name\",\n",
    "    \"lr\",\n",
    "    \"device\",\n",
    "    \"seed\",\n",
    "    \"dataset_seed\",\n",
    "    \"n_shot\",\n",
    "    \"n_query\",\n",
    "    \"n_way\",\n",
    "    \"train_k_factor\",\n",
    "    \"val_k_factor\",\n",
    "    \"test_k_factor\",\n",
    "    \"n_epoch\",\n",
    "    \"patience\",\n",
    "    \"criteria_for_best\",\n",
    "    \"x_net\",\n",
    "    \"datasets\",\n",
    "    \"torch_default_dtype\",\n",
    "    \"NUM_LOGS_PER_EPOCH\",\n",
    "    \"BEST_MODEL_PATH\",\n",
    "    \"x_shape\",\n",
    "}"
   ]
  },
  {
   "cell_type": "code",
   "execution_count": 3,
   "id": "fa3f0049",
   "metadata": {
    "execution": {
     "iopub.execute_input": "2022-03-20T13:30:42.248052Z",
     "iopub.status.busy": "2022-03-20T13:30:42.247757Z",
     "iopub.status.idle": "2022-03-20T13:30:42.260706Z",
     "shell.execute_reply": "2022-03-20T13:30:42.261113Z"
    },
    "papermill": {
     "duration": 0.036634,
     "end_time": "2022-03-20T13:30:42.261241",
     "exception": false,
     "start_time": "2022-03-20T13:30:42.224607",
     "status": "completed"
    },
    "tags": [
     "parameters"
    ]
   },
   "outputs": [],
   "source": [
    "from steves_utils.CORES.utils import (\n",
    "    ALL_NODES,\n",
    "    ALL_NODES_MINIMUM_1000_EXAMPLES,\n",
    "    ALL_DAYS\n",
    ")\n",
    "\n",
    "from steves_utils.ORACLE.utils_v2 import (\n",
    "    ALL_DISTANCES_FEET_NARROWED,\n",
    "    ALL_RUNS,\n",
    "    ALL_SERIAL_NUMBERS,\n",
    ")\n",
    "\n",
    "standalone_parameters = {}\n",
    "standalone_parameters[\"experiment_name\"] = \"STANDALONE PTN\"\n",
    "standalone_parameters[\"lr\"] = 0.001\n",
    "standalone_parameters[\"device\"] = \"cuda\"\n",
    "\n",
    "standalone_parameters[\"seed\"] = 1337\n",
    "standalone_parameters[\"dataset_seed\"] = 1337\n",
    "\n",
    "standalone_parameters[\"n_way\"] = 8\n",
    "standalone_parameters[\"n_shot\"] = 3\n",
    "standalone_parameters[\"n_query\"]  = 2\n",
    "standalone_parameters[\"train_k_factor\"] = 1\n",
    "standalone_parameters[\"val_k_factor\"] = 2\n",
    "standalone_parameters[\"test_k_factor\"] = 2\n",
    "\n",
    "\n",
    "standalone_parameters[\"n_epoch\"] = 50\n",
    "\n",
    "standalone_parameters[\"patience\"] = 10\n",
    "standalone_parameters[\"criteria_for_best\"] = \"source_loss\"\n",
    "\n",
    "standalone_parameters[\"datasets\"] = [\n",
    "    {\n",
    "        \"labels\": ALL_SERIAL_NUMBERS,\n",
    "        \"domains\": ALL_DISTANCES_FEET_NARROWED,\n",
    "        \"num_examples_per_domain_per_label\": 100,\n",
    "        \"pickle_path\": os.path.join(get_datasets_base_path(), \"oracle.Run1_framed_2000Examples_stratified_ds.2022A.pkl\"),\n",
    "        \"source_or_target_dataset\": \"source\",\n",
    "        \"x_transforms\": [\"unit_mag\", \"minus_two\"],\n",
    "        \"episode_transforms\": [],\n",
    "        \"domain_prefix\": \"ORACLE_\"\n",
    "    },\n",
    "    {\n",
    "        \"labels\": ALL_NODES,\n",
    "        \"domains\": ALL_DAYS,\n",
    "        \"num_examples_per_domain_per_label\": 100,\n",
    "        \"pickle_path\": os.path.join(get_datasets_base_path(), \"cores.stratified_ds.2022A.pkl\"),\n",
    "        \"source_or_target_dataset\": \"target\",\n",
    "        \"x_transforms\": [\"unit_power\", \"times_zero\"],\n",
    "        \"episode_transforms\": [],\n",
    "        \"domain_prefix\": \"CORES_\"\n",
    "    }   \n",
    "]\n",
    "\n",
    "standalone_parameters[\"torch_default_dtype\"] = \"torch.float32\" \n",
    "\n",
    "\n",
    "\n",
    "standalone_parameters[\"x_net\"] =     [\n",
    "    {\"class\": \"nnReshape\", \"kargs\": {\"shape\":[-1, 1, 2, 256]}},\n",
    "    {\"class\": \"Conv2d\", \"kargs\": { \"in_channels\":1, \"out_channels\":256, \"kernel_size\":(1,7), \"bias\":False, \"padding\":(0,3), },},\n",
    "    {\"class\": \"ReLU\", \"kargs\": {\"inplace\": True}},\n",
    "    {\"class\": \"BatchNorm2d\", \"kargs\": {\"num_features\":256}},\n",
    "\n",
    "    {\"class\": \"Conv2d\", \"kargs\": { \"in_channels\":256, \"out_channels\":80, \"kernel_size\":(2,7), \"bias\":True, \"padding\":(0,3), },},\n",
    "    {\"class\": \"ReLU\", \"kargs\": {\"inplace\": True}},\n",
    "    {\"class\": \"BatchNorm2d\", \"kargs\": {\"num_features\":80}},\n",
    "    {\"class\": \"Flatten\", \"kargs\": {}},\n",
    "\n",
    "    {\"class\": \"Linear\", \"kargs\": {\"in_features\": 80*256, \"out_features\": 256}}, # 80 units per IQ pair\n",
    "    {\"class\": \"ReLU\", \"kargs\": {\"inplace\": True}},\n",
    "    {\"class\": \"BatchNorm1d\", \"kargs\": {\"num_features\":256}},\n",
    "\n",
    "    {\"class\": \"Linear\", \"kargs\": {\"in_features\": 256, \"out_features\": 256}},\n",
    "]\n",
    "\n",
    "# Parameters relevant to results\n",
    "# These parameters will basically never need to change\n",
    "standalone_parameters[\"NUM_LOGS_PER_EPOCH\"] = 10\n",
    "standalone_parameters[\"BEST_MODEL_PATH\"] = \"./best_model.pth\"\n",
    "\n",
    "\n",
    "\n",
    "\n"
   ]
  },
  {
   "cell_type": "code",
   "execution_count": 4,
   "id": "a0bcd2dc",
   "metadata": {
    "execution": {
     "iopub.execute_input": "2022-03-20T13:30:42.306391Z",
     "iopub.status.busy": "2022-03-20T13:30:42.294065Z",
     "iopub.status.idle": "2022-03-20T13:30:42.320139Z",
     "shell.execute_reply": "2022-03-20T13:30:42.319709Z"
    },
    "papermill": {
     "duration": 0.040574,
     "end_time": "2022-03-20T13:30:42.320242",
     "exception": false,
     "start_time": "2022-03-20T13:30:42.279668",
     "status": "completed"
    },
    "tags": [
     "injected-parameters"
    ]
   },
   "outputs": [],
   "source": [
    "# Parameters\n",
    "parameters = {\n",
    "    \"experiment_name\": \"tl_3Av2:cores+wisig -> oracle.run1.framed\",\n",
    "    \"device\": \"cuda\",\n",
    "    \"lr\": 0.0001,\n",
    "    \"x_shape\": [2, 200],\n",
    "    \"n_shot\": 3,\n",
    "    \"n_query\": 2,\n",
    "    \"train_k_factor\": 3,\n",
    "    \"val_k_factor\": 2,\n",
    "    \"test_k_factor\": 2,\n",
    "    \"torch_default_dtype\": \"torch.float32\",\n",
    "    \"n_epoch\": 50,\n",
    "    \"patience\": 3,\n",
    "    \"criteria_for_best\": \"target_accuracy\",\n",
    "    \"x_net\": [\n",
    "        {\"class\": \"nnReshape\", \"kargs\": {\"shape\": [-1, 1, 2, 200]}},\n",
    "        {\n",
    "            \"class\": \"Conv2d\",\n",
    "            \"kargs\": {\n",
    "                \"in_channels\": 1,\n",
    "                \"out_channels\": 256,\n",
    "                \"kernel_size\": [1, 7],\n",
    "                \"bias\": False,\n",
    "                \"padding\": [0, 3],\n",
    "            },\n",
    "        },\n",
    "        {\"class\": \"ReLU\", \"kargs\": {\"inplace\": True}},\n",
    "        {\"class\": \"BatchNorm2d\", \"kargs\": {\"num_features\": 256}},\n",
    "        {\n",
    "            \"class\": \"Conv2d\",\n",
    "            \"kargs\": {\n",
    "                \"in_channels\": 256,\n",
    "                \"out_channels\": 80,\n",
    "                \"kernel_size\": [2, 7],\n",
    "                \"bias\": True,\n",
    "                \"padding\": [0, 3],\n",
    "            },\n",
    "        },\n",
    "        {\"class\": \"ReLU\", \"kargs\": {\"inplace\": True}},\n",
    "        {\"class\": \"BatchNorm2d\", \"kargs\": {\"num_features\": 80}},\n",
    "        {\"class\": \"Flatten\", \"kargs\": {}},\n",
    "        {\"class\": \"Linear\", \"kargs\": {\"in_features\": 16000, \"out_features\": 256}},\n",
    "        {\"class\": \"ReLU\", \"kargs\": {\"inplace\": True}},\n",
    "        {\"class\": \"BatchNorm1d\", \"kargs\": {\"num_features\": 256}},\n",
    "        {\"class\": \"Linear\", \"kargs\": {\"in_features\": 256, \"out_features\": 256}},\n",
    "    ],\n",
    "    \"NUM_LOGS_PER_EPOCH\": 10,\n",
    "    \"BEST_MODEL_PATH\": \"./best_model.pth\",\n",
    "    \"n_way\": 16,\n",
    "    \"datasets\": [\n",
    "        {\n",
    "            \"labels\": [\n",
    "                \"1-10.\",\n",
    "                \"1-11.\",\n",
    "                \"1-15.\",\n",
    "                \"1-16.\",\n",
    "                \"1-17.\",\n",
    "                \"1-18.\",\n",
    "                \"1-19.\",\n",
    "                \"10-4.\",\n",
    "                \"10-7.\",\n",
    "                \"11-1.\",\n",
    "                \"11-14.\",\n",
    "                \"11-17.\",\n",
    "                \"11-20.\",\n",
    "                \"11-7.\",\n",
    "                \"13-20.\",\n",
    "                \"13-8.\",\n",
    "                \"14-10.\",\n",
    "                \"14-11.\",\n",
    "                \"14-14.\",\n",
    "                \"14-7.\",\n",
    "                \"15-1.\",\n",
    "                \"15-20.\",\n",
    "                \"16-1.\",\n",
    "                \"16-16.\",\n",
    "                \"17-10.\",\n",
    "                \"17-11.\",\n",
    "                \"17-2.\",\n",
    "                \"19-1.\",\n",
    "                \"19-16.\",\n",
    "                \"19-19.\",\n",
    "                \"19-20.\",\n",
    "                \"19-3.\",\n",
    "                \"2-10.\",\n",
    "                \"2-11.\",\n",
    "                \"2-17.\",\n",
    "                \"2-18.\",\n",
    "                \"2-20.\",\n",
    "                \"2-3.\",\n",
    "                \"2-4.\",\n",
    "                \"2-5.\",\n",
    "                \"2-6.\",\n",
    "                \"2-7.\",\n",
    "                \"2-8.\",\n",
    "                \"3-13.\",\n",
    "                \"3-18.\",\n",
    "                \"3-3.\",\n",
    "                \"4-1.\",\n",
    "                \"4-10.\",\n",
    "                \"4-11.\",\n",
    "                \"4-19.\",\n",
    "                \"5-5.\",\n",
    "                \"6-15.\",\n",
    "                \"7-10.\",\n",
    "                \"7-14.\",\n",
    "                \"8-18.\",\n",
    "                \"8-20.\",\n",
    "                \"8-3.\",\n",
    "                \"8-8.\",\n",
    "            ],\n",
    "            \"domains\": [1, 2, 3, 4, 5],\n",
    "            \"num_examples_per_domain_per_label\": -1,\n",
    "            \"pickle_path\": \"/mnt/wd500GB/CSC500/csc500-main/datasets/cores.stratified_ds.2022A.pkl\",\n",
    "            \"source_or_target_dataset\": \"source\",\n",
    "            \"x_transforms\": [\"unit_mag\", \"take_200\"],\n",
    "            \"episode_transforms\": [],\n",
    "            \"domain_prefix\": \"C_\",\n",
    "        },\n",
    "        {\n",
    "            \"labels\": [\n",
    "                \"1-10\",\n",
    "                \"1-12\",\n",
    "                \"1-14\",\n",
    "                \"1-16\",\n",
    "                \"1-18\",\n",
    "                \"1-19\",\n",
    "                \"1-8\",\n",
    "                \"10-11\",\n",
    "                \"10-17\",\n",
    "                \"10-4\",\n",
    "                \"10-7\",\n",
    "                \"11-1\",\n",
    "                \"11-10\",\n",
    "                \"11-19\",\n",
    "                \"11-20\",\n",
    "                \"11-4\",\n",
    "                \"11-7\",\n",
    "                \"12-19\",\n",
    "                \"12-20\",\n",
    "                \"12-7\",\n",
    "                \"13-14\",\n",
    "                \"13-18\",\n",
    "                \"13-19\",\n",
    "                \"13-20\",\n",
    "                \"13-3\",\n",
    "                \"13-7\",\n",
    "                \"14-10\",\n",
    "                \"14-11\",\n",
    "                \"14-12\",\n",
    "                \"14-13\",\n",
    "                \"14-14\",\n",
    "                \"14-19\",\n",
    "                \"14-20\",\n",
    "                \"14-7\",\n",
    "                \"14-8\",\n",
    "                \"14-9\",\n",
    "                \"15-1\",\n",
    "                \"15-19\",\n",
    "                \"15-6\",\n",
    "                \"16-1\",\n",
    "                \"16-16\",\n",
    "                \"16-19\",\n",
    "                \"16-20\",\n",
    "                \"17-10\",\n",
    "                \"17-11\",\n",
    "                \"18-1\",\n",
    "                \"18-10\",\n",
    "                \"18-11\",\n",
    "                \"18-12\",\n",
    "                \"18-13\",\n",
    "                \"18-14\",\n",
    "                \"18-15\",\n",
    "                \"18-16\",\n",
    "                \"18-17\",\n",
    "                \"18-19\",\n",
    "                \"18-2\",\n",
    "                \"18-20\",\n",
    "                \"18-4\",\n",
    "                \"18-5\",\n",
    "                \"18-7\",\n",
    "                \"18-8\",\n",
    "                \"18-9\",\n",
    "                \"19-1\",\n",
    "                \"19-10\",\n",
    "                \"19-11\",\n",
    "                \"19-12\",\n",
    "                \"19-13\",\n",
    "                \"19-14\",\n",
    "                \"19-15\",\n",
    "                \"19-19\",\n",
    "                \"19-2\",\n",
    "                \"19-20\",\n",
    "                \"19-3\",\n",
    "                \"19-4\",\n",
    "                \"19-6\",\n",
    "                \"19-7\",\n",
    "                \"19-8\",\n",
    "                \"19-9\",\n",
    "                \"2-1\",\n",
    "                \"2-13\",\n",
    "                \"2-15\",\n",
    "                \"2-3\",\n",
    "                \"2-4\",\n",
    "                \"2-5\",\n",
    "                \"2-6\",\n",
    "                \"2-7\",\n",
    "                \"2-8\",\n",
    "                \"20-1\",\n",
    "                \"20-12\",\n",
    "                \"20-14\",\n",
    "                \"20-15\",\n",
    "                \"20-16\",\n",
    "                \"20-18\",\n",
    "                \"20-19\",\n",
    "                \"20-20\",\n",
    "                \"20-3\",\n",
    "                \"20-4\",\n",
    "                \"20-5\",\n",
    "                \"20-7\",\n",
    "                \"20-8\",\n",
    "                \"3-1\",\n",
    "                \"3-13\",\n",
    "                \"3-18\",\n",
    "                \"3-2\",\n",
    "                \"3-8\",\n",
    "                \"4-1\",\n",
    "                \"4-10\",\n",
    "                \"4-11\",\n",
    "                \"5-1\",\n",
    "                \"5-5\",\n",
    "                \"6-1\",\n",
    "                \"6-15\",\n",
    "                \"6-6\",\n",
    "                \"7-10\",\n",
    "                \"7-11\",\n",
    "                \"7-12\",\n",
    "                \"7-13\",\n",
    "                \"7-14\",\n",
    "                \"7-7\",\n",
    "                \"7-8\",\n",
    "                \"7-9\",\n",
    "                \"8-1\",\n",
    "                \"8-13\",\n",
    "                \"8-14\",\n",
    "                \"8-18\",\n",
    "                \"8-20\",\n",
    "                \"8-3\",\n",
    "                \"8-8\",\n",
    "                \"9-1\",\n",
    "                \"9-7\",\n",
    "            ],\n",
    "            \"domains\": [1, 2, 3, 4],\n",
    "            \"num_examples_per_domain_per_label\": -1,\n",
    "            \"pickle_path\": \"/mnt/wd500GB/CSC500/csc500-main/datasets/wisig.node3-19.stratified_ds.2022A.pkl\",\n",
    "            \"source_or_target_dataset\": \"source\",\n",
    "            \"x_transforms\": [\"unit_mag\", \"take_200\"],\n",
    "            \"episode_transforms\": [],\n",
    "            \"domain_prefix\": \"W_\",\n",
    "        },\n",
    "        {\n",
    "            \"labels\": [\n",
    "                \"3123D52\",\n",
    "                \"3123D65\",\n",
    "                \"3123D79\",\n",
    "                \"3123D80\",\n",
    "                \"3123D54\",\n",
    "                \"3123D70\",\n",
    "                \"3123D7B\",\n",
    "                \"3123D89\",\n",
    "                \"3123D58\",\n",
    "                \"3123D76\",\n",
    "                \"3123D7D\",\n",
    "                \"3123EFE\",\n",
    "                \"3123D64\",\n",
    "                \"3123D78\",\n",
    "                \"3123D7E\",\n",
    "                \"3124E4A\",\n",
    "            ],\n",
    "            \"domains\": [32, 38, 8, 44, 14, 50, 20, 26],\n",
    "            \"num_examples_per_domain_per_label\": 2000,\n",
    "            \"pickle_path\": \"/mnt/wd500GB/CSC500/csc500-main/datasets/oracle.Run1_framed_2000Examples_stratified_ds.2022A.pkl\",\n",
    "            \"source_or_target_dataset\": \"target\",\n",
    "            \"x_transforms\": [\"unit_mag\", \"take_200\", \"resample_20Msps_to_25Msps\"],\n",
    "            \"episode_transforms\": [],\n",
    "            \"domain_prefix\": \"O_\",\n",
    "        },\n",
    "    ],\n",
    "    \"seed\": 154325,\n",
    "    \"dataset_seed\": 154325,\n",
    "}\n"
   ]
  },
  {
   "cell_type": "code",
   "execution_count": 5,
   "id": "8fa1cc33",
   "metadata": {
    "execution": {
     "iopub.execute_input": "2022-03-20T13:30:42.355627Z",
     "iopub.status.busy": "2022-03-20T13:30:42.355370Z",
     "iopub.status.idle": "2022-03-20T13:30:42.371487Z",
     "shell.execute_reply": "2022-03-20T13:30:42.371030Z"
    },
    "papermill": {
     "duration": 0.032901,
     "end_time": "2022-03-20T13:30:42.371587",
     "exception": false,
     "start_time": "2022-03-20T13:30:42.338686",
     "status": "completed"
    },
    "tags": []
   },
   "outputs": [],
   "source": [
    "# Set this to True if you want to run this template directly\n",
    "STANDALONE = False\n",
    "if STANDALONE:\n",
    "    print(\"parameters not injected, running with standalone_parameters\")\n",
    "    parameters = standalone_parameters\n",
    "\n",
    "if not 'parameters' in locals() and not 'parameters' in globals():\n",
    "    raise Exception(\"Parameter injection failed\")\n",
    "\n",
    "#Use an easy dict for all the parameters\n",
    "p = EasyDict(parameters)\n",
    "\n",
    "if \"x_shape\" not in p:\n",
    "    p.x_shape = [2,256] # Default to this if we dont supply x_shape\n",
    "\n",
    "\n",
    "supplied_keys = set(p.keys())\n",
    "\n",
    "if  supplied_keys != required_parameters:\n",
    "    print(\"Parameters are incorrect\")\n",
    "    if len(supplied_keys - required_parameters)>0: print(\"Shouldn't have:\", str(supplied_keys - required_parameters))\n",
    "    if len(required_parameters - supplied_keys)>0: print(\"Need to have:\", str(required_parameters - supplied_keys))\n",
    "    raise RuntimeError(\"Parameters are incorrect\")"
   ]
  },
  {
   "cell_type": "code",
   "execution_count": 6,
   "id": "3a028d58",
   "metadata": {
    "execution": {
     "iopub.execute_input": "2022-03-20T13:30:42.401714Z",
     "iopub.status.busy": "2022-03-20T13:30:42.401454Z",
     "iopub.status.idle": "2022-03-20T13:30:42.413107Z",
     "shell.execute_reply": "2022-03-20T13:30:42.412778Z"
    },
    "papermill": {
     "duration": 0.026231,
     "end_time": "2022-03-20T13:30:42.413192",
     "exception": false,
     "start_time": "2022-03-20T13:30:42.386961",
     "status": "completed"
    },
    "tags": []
   },
   "outputs": [],
   "source": [
    "###################################\n",
    "# Set the RNGs and make it all deterministic\n",
    "###################################\n",
    "np.random.seed(p.seed)\n",
    "random.seed(p.seed)\n",
    "torch.manual_seed(p.seed)\n",
    "\n",
    "torch.use_deterministic_algorithms(True) "
   ]
  },
  {
   "cell_type": "code",
   "execution_count": 7,
   "id": "b691acf6",
   "metadata": {
    "execution": {
     "iopub.execute_input": "2022-03-20T13:30:42.446276Z",
     "iopub.status.busy": "2022-03-20T13:30:42.446015Z",
     "iopub.status.idle": "2022-03-20T13:30:42.457258Z",
     "shell.execute_reply": "2022-03-20T13:30:42.456769Z"
    },
    "papermill": {
     "duration": 0.025727,
     "end_time": "2022-03-20T13:30:42.457360",
     "exception": false,
     "start_time": "2022-03-20T13:30:42.431633",
     "status": "completed"
    },
    "tags": []
   },
   "outputs": [],
   "source": [
    "###########################################\n",
    "# The stratified datasets honor this\n",
    "###########################################\n",
    "torch.set_default_dtype(eval(p.torch_default_dtype))"
   ]
  },
  {
   "cell_type": "code",
   "execution_count": 8,
   "id": "b5fba671",
   "metadata": {
    "execution": {
     "iopub.execute_input": "2022-03-20T13:30:42.490540Z",
     "iopub.status.busy": "2022-03-20T13:30:42.490276Z",
     "iopub.status.idle": "2022-03-20T13:30:42.522587Z",
     "shell.execute_reply": "2022-03-20T13:30:42.522119Z"
    },
    "papermill": {
     "duration": 0.046806,
     "end_time": "2022-03-20T13:30:42.522695",
     "exception": false,
     "start_time": "2022-03-20T13:30:42.475889",
     "status": "completed"
    },
    "tags": []
   },
   "outputs": [],
   "source": [
    "###################################\n",
    "# Build the network(s)\n",
    "# Note: It's critical to do this AFTER setting the RNG\n",
    "###################################\n",
    "x_net = build_sequential(p.x_net)"
   ]
  },
  {
   "cell_type": "code",
   "execution_count": 9,
   "id": "5d7e61cc",
   "metadata": {
    "execution": {
     "iopub.execute_input": "2022-03-20T13:30:42.556535Z",
     "iopub.status.busy": "2022-03-20T13:30:42.556285Z",
     "iopub.status.idle": "2022-03-20T13:30:42.567851Z",
     "shell.execute_reply": "2022-03-20T13:30:42.567426Z"
    },
    "papermill": {
     "duration": 0.026502,
     "end_time": "2022-03-20T13:30:42.567953",
     "exception": false,
     "start_time": "2022-03-20T13:30:42.541451",
     "status": "completed"
    },
    "tags": []
   },
   "outputs": [],
   "source": [
    "start_time_secs = time.time()"
   ]
  },
  {
   "cell_type": "code",
   "execution_count": 10,
   "id": "c6b67dfd",
   "metadata": {
    "execution": {
     "iopub.execute_input": "2022-03-20T13:30:42.601325Z",
     "iopub.status.busy": "2022-03-20T13:30:42.601070Z",
     "iopub.status.idle": "2022-03-20T13:30:42.615332Z",
     "shell.execute_reply": "2022-03-20T13:30:42.614818Z"
    },
    "papermill": {
     "duration": 0.029945,
     "end_time": "2022-03-20T13:30:42.615435",
     "exception": false,
     "start_time": "2022-03-20T13:30:42.585490",
     "status": "completed"
    },
    "tags": []
   },
   "outputs": [],
   "source": [
    "p.domains_source = []\n",
    "p.domains_target = []\n",
    "\n",
    "\n",
    "train_original_source = []\n",
    "val_original_source   = []\n",
    "test_original_source  = []\n",
    "\n",
    "train_original_target = []\n",
    "val_original_target   = []\n",
    "test_original_target  = []"
   ]
  },
  {
   "cell_type": "code",
   "execution_count": 11,
   "id": "e3d9c3d3",
   "metadata": {
    "execution": {
     "iopub.execute_input": "2022-03-20T13:30:42.651614Z",
     "iopub.status.busy": "2022-03-20T13:30:42.651121Z",
     "iopub.status.idle": "2022-03-20T13:30:42.665596Z",
     "shell.execute_reply": "2022-03-20T13:30:42.666009Z"
    },
    "papermill": {
     "duration": 0.031124,
     "end_time": "2022-03-20T13:30:42.666136",
     "exception": false,
     "start_time": "2022-03-20T13:30:42.635012",
     "status": "completed"
    },
    "tags": []
   },
   "outputs": [],
   "source": [
    "# global_x_transform_func = lambda x: normalize(x.to(torch.get_default_dtype()), \"unit_power\") # unit_power, unit_mag\n",
    "# global_x_transform_func = lambda x: normalize(x, \"unit_power\") # unit_power, unit_mag"
   ]
  },
  {
   "cell_type": "code",
   "execution_count": 12,
   "id": "acb78fd2",
   "metadata": {
    "execution": {
     "iopub.execute_input": "2022-03-20T13:30:42.700293Z",
     "iopub.status.busy": "2022-03-20T13:30:42.700026Z",
     "iopub.status.idle": "2022-03-20T13:30:42.721106Z",
     "shell.execute_reply": "2022-03-20T13:30:42.721515Z"
    },
    "papermill": {
     "duration": 0.036741,
     "end_time": "2022-03-20T13:30:42.721645",
     "exception": false,
     "start_time": "2022-03-20T13:30:42.684904",
     "status": "completed"
    },
    "tags": []
   },
   "outputs": [],
   "source": [
    "def add_dataset(\n",
    "    labels,\n",
    "    domains,\n",
    "    pickle_path,\n",
    "    x_transforms,\n",
    "    episode_transforms,\n",
    "    domain_prefix,\n",
    "    num_examples_per_domain_per_label,\n",
    "    source_or_target_dataset:str,\n",
    "    iterator_seed=p.seed,\n",
    "    dataset_seed=p.dataset_seed,\n",
    "    n_shot=p.n_shot,\n",
    "    n_way=p.n_way,\n",
    "    n_query=p.n_query,\n",
    "    train_val_test_k_factors=(p.train_k_factor,p.val_k_factor,p.test_k_factor),\n",
    "):\n",
    "   \n",
    "    if x_transforms == []: x_transform = None\n",
    "    else: x_transform = get_chained_transform(x_transforms)\n",
    "    \n",
    "    if episode_transforms == []: episode_transform = None\n",
    "    else: raise Exception(\"episode_transforms not implemented\")\n",
    "    \n",
    "    episode_transform = lambda tup, _prefix=domain_prefix: (_prefix + str(tup[0]), tup[1])\n",
    "\n",
    "\n",
    "    eaf = Episodic_Accessor_Factory(\n",
    "        labels=labels,\n",
    "        domains=domains,\n",
    "        num_examples_per_domain_per_label=num_examples_per_domain_per_label,\n",
    "        iterator_seed=iterator_seed,\n",
    "        dataset_seed=dataset_seed,\n",
    "        n_shot=n_shot,\n",
    "        n_way=n_way,\n",
    "        n_query=n_query,\n",
    "        train_val_test_k_factors=train_val_test_k_factors,\n",
    "        pickle_path=pickle_path,\n",
    "        x_transform_func=x_transform,\n",
    "    )\n",
    "\n",
    "    train, val, test = eaf.get_train(), eaf.get_val(), eaf.get_test()\n",
    "    train = Lazy_Iterable_Wrapper(train, episode_transform)\n",
    "    val = Lazy_Iterable_Wrapper(val, episode_transform)\n",
    "    test = Lazy_Iterable_Wrapper(test, episode_transform)\n",
    "\n",
    "    if source_or_target_dataset==\"source\":\n",
    "        train_original_source.append(train)\n",
    "        val_original_source.append(val)\n",
    "        test_original_source.append(test)\n",
    "\n",
    "        p.domains_source.extend(\n",
    "            [domain_prefix + str(u) for u in domains]\n",
    "        )\n",
    "    elif source_or_target_dataset==\"target\":\n",
    "        train_original_target.append(train)\n",
    "        val_original_target.append(val)\n",
    "        test_original_target.append(test)\n",
    "        p.domains_target.extend(\n",
    "            [domain_prefix + str(u) for u in domains]\n",
    "        )\n",
    "    else:\n",
    "        raise Exception(f\"invalid source_or_target_dataset: {source_or_target_dataset}\")\n",
    "    "
   ]
  },
  {
   "cell_type": "code",
   "execution_count": 13,
   "id": "fe266617",
   "metadata": {
    "execution": {
     "iopub.execute_input": "2022-03-20T13:30:42.755717Z",
     "iopub.status.busy": "2022-03-20T13:30:42.755451Z",
     "iopub.status.idle": "2022-03-20T13:31:50.408192Z",
     "shell.execute_reply": "2022-03-20T13:31:50.407751Z"
    },
    "papermill": {
     "duration": 67.667877,
     "end_time": "2022-03-20T13:31:50.408304",
     "exception": false,
     "start_time": "2022-03-20T13:30:42.740427",
     "status": "completed"
    },
    "tags": []
   },
   "outputs": [],
   "source": [
    "for ds in p.datasets:\n",
    "    add_dataset(**ds)"
   ]
  },
  {
   "cell_type": "code",
   "execution_count": 14,
   "id": "b90d65ac",
   "metadata": {
    "execution": {
     "iopub.execute_input": "2022-03-20T13:31:50.443502Z",
     "iopub.status.busy": "2022-03-20T13:31:50.443236Z",
     "iopub.status.idle": "2022-03-20T13:31:50.458145Z",
     "shell.execute_reply": "2022-03-20T13:31:50.457771Z"
    },
    "papermill": {
     "duration": 0.030094,
     "end_time": "2022-03-20T13:31:50.458224",
     "exception": false,
     "start_time": "2022-03-20T13:31:50.428130",
     "status": "completed"
    },
    "tags": []
   },
   "outputs": [],
   "source": [
    "# from steves_utils.CORES.utils import (\n",
    "#     ALL_NODES,\n",
    "#     ALL_NODES_MINIMUM_1000_EXAMPLES,\n",
    "#     ALL_DAYS\n",
    "# )\n",
    "\n",
    "# add_dataset(\n",
    "#     labels=ALL_NODES,\n",
    "#     domains = ALL_DAYS,\n",
    "#     num_examples_per_domain_per_label=100,\n",
    "#     pickle_path=os.path.join(get_datasets_base_path(), \"cores.stratified_ds.2022A.pkl\"),\n",
    "#     source_or_target_dataset=\"target\",\n",
    "#     x_transform_func=global_x_transform_func,\n",
    "#     domain_modifier=lambda u: f\"cores_{u}\"\n",
    "# )"
   ]
  },
  {
   "cell_type": "code",
   "execution_count": 15,
   "id": "76db484d",
   "metadata": {
    "execution": {
     "iopub.execute_input": "2022-03-20T13:31:50.493607Z",
     "iopub.status.busy": "2022-03-20T13:31:50.493209Z",
     "iopub.status.idle": "2022-03-20T13:31:50.504663Z",
     "shell.execute_reply": "2022-03-20T13:31:50.504371Z"
    },
    "papermill": {
     "duration": 0.026727,
     "end_time": "2022-03-20T13:31:50.504728",
     "exception": false,
     "start_time": "2022-03-20T13:31:50.478001",
     "status": "completed"
    },
    "tags": []
   },
   "outputs": [],
   "source": [
    "# from steves_utils.ORACLE.utils_v2 import (\n",
    "#     ALL_DISTANCES_FEET,\n",
    "#     ALL_RUNS,\n",
    "#     ALL_SERIAL_NUMBERS,\n",
    "# )\n",
    "\n",
    "\n",
    "# add_dataset(\n",
    "#     labels=ALL_SERIAL_NUMBERS,\n",
    "#     domains = list(set(ALL_DISTANCES_FEET) - {2,62}),\n",
    "#     num_examples_per_domain_per_label=100,\n",
    "#     pickle_path=os.path.join(get_datasets_base_path(), \"oracle.Run2_framed_2000Examples_stratified_ds.2022A.pkl\"),\n",
    "#     source_or_target_dataset=\"source\",\n",
    "#     x_transform_func=global_x_transform_func,\n",
    "#     domain_modifier=lambda u: f\"oracle1_{u}\"\n",
    "# )\n"
   ]
  },
  {
   "cell_type": "code",
   "execution_count": 16,
   "id": "97dea9d2",
   "metadata": {
    "execution": {
     "iopub.execute_input": "2022-03-20T13:31:50.534448Z",
     "iopub.status.busy": "2022-03-20T13:31:50.534045Z",
     "iopub.status.idle": "2022-03-20T13:31:50.544826Z",
     "shell.execute_reply": "2022-03-20T13:31:50.545039Z"
    },
    "papermill": {
     "duration": 0.026457,
     "end_time": "2022-03-20T13:31:50.545111",
     "exception": false,
     "start_time": "2022-03-20T13:31:50.518654",
     "status": "completed"
    },
    "tags": []
   },
   "outputs": [],
   "source": [
    "# from steves_utils.ORACLE.utils_v2 import (\n",
    "#     ALL_DISTANCES_FEET,\n",
    "#     ALL_RUNS,\n",
    "#     ALL_SERIAL_NUMBERS,\n",
    "# )\n",
    "\n",
    "\n",
    "# add_dataset(\n",
    "#     labels=ALL_SERIAL_NUMBERS,\n",
    "#     domains = list(set(ALL_DISTANCES_FEET) - {2,62,56}),\n",
    "#     num_examples_per_domain_per_label=100,\n",
    "#     pickle_path=os.path.join(get_datasets_base_path(), \"oracle.Run2_framed_2000Examples_stratified_ds.2022A.pkl\"),\n",
    "#     source_or_target_dataset=\"source\",\n",
    "#     x_transform_func=global_x_transform_func,\n",
    "#     domain_modifier=lambda u: f\"oracle2_{u}\"\n",
    "# )"
   ]
  },
  {
   "cell_type": "code",
   "execution_count": 17,
   "id": "6f289866",
   "metadata": {
    "execution": {
     "iopub.execute_input": "2022-03-20T13:31:50.575322Z",
     "iopub.status.busy": "2022-03-20T13:31:50.575054Z",
     "iopub.status.idle": "2022-03-20T13:31:50.590001Z",
     "shell.execute_reply": "2022-03-20T13:31:50.590380Z"
    },
    "papermill": {
     "duration": 0.031194,
     "end_time": "2022-03-20T13:31:50.590506",
     "exception": false,
     "start_time": "2022-03-20T13:31:50.559312",
     "status": "completed"
    },
    "tags": []
   },
   "outputs": [],
   "source": [
    "# add_dataset(\n",
    "#     labels=list(range(19)),\n",
    "#     domains = [0,1,2],\n",
    "#     num_examples_per_domain_per_label=100,\n",
    "#     pickle_path=os.path.join(get_datasets_base_path(), \"metehan.stratified_ds.2022A.pkl\"),\n",
    "#     source_or_target_dataset=\"target\",\n",
    "#     x_transform_func=global_x_transform_func,\n",
    "#     domain_modifier=lambda u: f\"met_{u}\"\n",
    "# )"
   ]
  },
  {
   "cell_type": "code",
   "execution_count": 18,
   "id": "86a863c3",
   "metadata": {
    "execution": {
     "iopub.execute_input": "2022-03-20T13:31:50.625076Z",
     "iopub.status.busy": "2022-03-20T13:31:50.624342Z",
     "iopub.status.idle": "2022-03-20T13:31:50.641244Z",
     "shell.execute_reply": "2022-03-20T13:31:50.640839Z"
    },
    "papermill": {
     "duration": 0.031931,
     "end_time": "2022-03-20T13:31:50.641348",
     "exception": false,
     "start_time": "2022-03-20T13:31:50.609417",
     "status": "completed"
    },
    "tags": []
   },
   "outputs": [],
   "source": [
    "# # from steves_utils.wisig.utils import (\n",
    "# #     ALL_NODES_MINIMUM_100_EXAMPLES,\n",
    "# #     ALL_NODES_MINIMUM_500_EXAMPLES,\n",
    "# #     ALL_NODES_MINIMUM_1000_EXAMPLES,\n",
    "# #     ALL_DAYS\n",
    "# # )\n",
    "\n",
    "# import steves_utils.wisig.utils as wisig\n",
    "\n",
    "\n",
    "# add_dataset(\n",
    "#     labels=wisig.ALL_NODES_MINIMUM_100_EXAMPLES,\n",
    "#     domains = wisig.ALL_DAYS,\n",
    "#     num_examples_per_domain_per_label=100,\n",
    "#     pickle_path=os.path.join(get_datasets_base_path(), \"wisig.node3-19.stratified_ds.2022A.pkl\"),\n",
    "#     source_or_target_dataset=\"target\",\n",
    "#     x_transform_func=global_x_transform_func,\n",
    "#     domain_modifier=lambda u: f\"wisig_{u}\"\n",
    "# )"
   ]
  },
  {
   "cell_type": "code",
   "execution_count": 19,
   "id": "fd5442bc",
   "metadata": {
    "execution": {
     "iopub.execute_input": "2022-03-20T13:31:50.680521Z",
     "iopub.status.busy": "2022-03-20T13:31:50.675824Z",
     "iopub.status.idle": "2022-03-20T13:31:50.692400Z",
     "shell.execute_reply": "2022-03-20T13:31:50.692029Z"
    },
    "papermill": {
     "duration": 0.031819,
     "end_time": "2022-03-20T13:31:50.692482",
     "exception": false,
     "start_time": "2022-03-20T13:31:50.660663",
     "status": "completed"
    },
    "tags": []
   },
   "outputs": [],
   "source": [
    "###################################\n",
    "# Build the dataset\n",
    "###################################\n",
    "train_original_source = Iterable_Aggregator(train_original_source, p.seed)\n",
    "val_original_source = Iterable_Aggregator(val_original_source, p.seed)\n",
    "test_original_source = Iterable_Aggregator(test_original_source, p.seed)\n",
    "\n",
    "\n",
    "train_original_target = Iterable_Aggregator(train_original_target, p.seed)\n",
    "val_original_target = Iterable_Aggregator(val_original_target, p.seed)\n",
    "test_original_target = Iterable_Aggregator(test_original_target, p.seed)\n",
    "\n",
    "# For CNN We only use X and Y. And we only train on the source.\n",
    "# Properly form the data using a transform lambda and Lazy_Iterable_Wrapper. Finally wrap them in a dataloader\n",
    "\n",
    "transform_lambda = lambda ex: ex[1] # Original is (<domain>, <episode>) so we strip down to episode only\n",
    "\n",
    "train_processed_source = Lazy_Iterable_Wrapper(train_original_source, transform_lambda)\n",
    "val_processed_source   = Lazy_Iterable_Wrapper(val_original_source, transform_lambda)\n",
    "test_processed_source  = Lazy_Iterable_Wrapper(test_original_source, transform_lambda)\n",
    "\n",
    "train_processed_target = Lazy_Iterable_Wrapper(train_original_target, transform_lambda)\n",
    "val_processed_target   = Lazy_Iterable_Wrapper(val_original_target, transform_lambda)\n",
    "test_processed_target  = Lazy_Iterable_Wrapper(test_original_target, transform_lambda)\n",
    "\n",
    "datasets = EasyDict({\n",
    "    \"source\": {\n",
    "        \"original\": {\"train\":train_original_source, \"val\":val_original_source, \"test\":test_original_source},\n",
    "        \"processed\": {\"train\":train_processed_source, \"val\":val_processed_source, \"test\":test_processed_source}\n",
    "    },\n",
    "    \"target\": {\n",
    "        \"original\": {\"train\":train_original_target, \"val\":val_original_target, \"test\":test_original_target},\n",
    "        \"processed\": {\"train\":train_processed_target, \"val\":val_processed_target, \"test\":test_processed_target}\n",
    "    },\n",
    "})"
   ]
  },
  {
   "cell_type": "code",
   "execution_count": 20,
   "id": "5b3c01fc",
   "metadata": {
    "execution": {
     "iopub.execute_input": "2022-03-20T13:31:50.728339Z",
     "iopub.status.busy": "2022-03-20T13:31:50.728076Z",
     "iopub.status.idle": "2022-03-20T13:32:00.316713Z",
     "shell.execute_reply": "2022-03-20T13:32:00.316467Z"
    },
    "papermill": {
     "duration": 9.605424,
     "end_time": "2022-03-20T13:32:00.316778",
     "exception": false,
     "start_time": "2022-03-20T13:31:50.711354",
     "status": "completed"
    },
    "tags": []
   },
   "outputs": [
    {
     "name": "stdout",
     "output_type": "stream",
     "text": [
      "{'W_2', 'C_2', 'C_3', 'W_3', 'W_4', 'C_4', 'C_5', 'W_1', 'C_1'}\n"
     ]
    },
    {
     "name": "stdout",
     "output_type": "stream",
     "text": [
      "{'O_26', 'O_32', 'O_50', 'O_14', 'O_38', 'O_8', 'O_20', 'O_44'}\n"
     ]
    },
    {
     "name": "stdout",
     "output_type": "stream",
     "text": [
      "tensor([[[-0.6018, -0.3529,  1.2888,  ..., -1.5408, -1.0902,  0.5546],\n",
      "         [ 0.2773, -1.0430, -0.5924,  ...,  0.6680, -1.5125, -0.8004]],\n",
      "\n",
      "        [[-0.2701,  0.1853,  1.3538,  ..., -1.2219, -0.0031,  1.7841],\n",
      "         [ 0.0157, -0.7884,  0.3172,  ..., -1.0146, -1.6962, -0.5214]],\n",
      "\n",
      "        [[ 0.3627, -1.2804, -0.7916,  ...,  1.0470, -0.5141,  1.2079],\n",
      "         [ 1.3656,  0.2681, -0.7474,  ...,  0.9619, -0.1671,  0.0315]],\n",
      "\n",
      "        ...,\n",
      "\n",
      "        [[-0.2023,  0.2259,  0.5327,  ..., -0.4417, -0.0034,  0.1517],\n",
      "         [ 0.5530,  0.5867, -0.1315,  ...,  0.0776,  0.6002, -0.3068]],\n",
      "\n",
      "        [[-0.0036,  0.3245, -0.1896,  ...,  0.2880,  0.5177, -0.0328],\n",
      "         [-0.0474, -0.5323, -0.5943,  ...,  0.0583, -0.3463, -0.4667]],\n",
      "\n",
      "        [[-0.1315,  0.1315,  0.2146,  ...,  0.7165,  0.9068,  0.3288],\n",
      "         [-0.0485,  0.0312,  0.0173,  ...,  0.3669,  0.2077, -0.2388]]])\n"
     ]
    }
   ],
   "source": [
    "from steves_utils.transforms import get_average_magnitude, get_average_power\n",
    "\n",
    "print(set([u for u,_ in val_original_source]))\n",
    "print(set([u for u,_ in val_original_target]))\n",
    "\n",
    "s_x, s_y, q_x, q_y, _ = next(iter(train_processed_source))\n",
    "print(s_x)\n",
    "\n",
    "# for ds in [\n",
    "#     train_processed_source,\n",
    "#     val_processed_source,\n",
    "#     test_processed_source,\n",
    "#     train_processed_target,\n",
    "#     val_processed_target,\n",
    "#     test_processed_target\n",
    "# ]:\n",
    "#     for s_x, s_y, q_x, q_y, _ in ds:\n",
    "#         for X in (s_x, q_x):\n",
    "#             for x in X:\n",
    "#                 assert np.isclose(get_average_magnitude(x.numpy()), 1.0)\n",
    "#                 assert np.isclose(get_average_power(x.numpy()), 1.0)\n",
    "                "
   ]
  },
  {
   "cell_type": "code",
   "execution_count": 21,
   "id": "bbdacba1",
   "metadata": {
    "execution": {
     "iopub.execute_input": "2022-03-20T13:32:00.353798Z",
     "iopub.status.busy": "2022-03-20T13:32:00.353526Z",
     "iopub.status.idle": "2022-03-20T13:32:00.406564Z",
     "shell.execute_reply": "2022-03-20T13:32:00.406133Z"
    },
    "papermill": {
     "duration": 0.071585,
     "end_time": "2022-03-20T13:32:00.406669",
     "exception": false,
     "start_time": "2022-03-20T13:32:00.335084",
     "status": "completed"
    },
    "tags": []
   },
   "outputs": [
    {
     "name": "stdout",
     "output_type": "stream",
     "text": [
      "(2, 200)\n"
     ]
    }
   ],
   "source": [
    "###################################\n",
    "# Build the model\n",
    "###################################\n",
    "# easfsl only wants a tuple for the shape\n",
    "model = Steves_Prototypical_Network(x_net, device=p.device, x_shape=tuple(p.x_shape))\n",
    "optimizer = Adam(params=model.parameters(), lr=p.lr)"
   ]
  },
  {
   "cell_type": "code",
   "execution_count": 22,
   "id": "22b39ac5",
   "metadata": {
    "execution": {
     "iopub.execute_input": "2022-03-20T13:32:00.444835Z",
     "iopub.status.busy": "2022-03-20T13:32:00.442540Z",
     "iopub.status.idle": "2022-03-20T14:53:55.592015Z",
     "shell.execute_reply": "2022-03-20T14:53:55.591773Z"
    },
    "papermill": {
     "duration": 4915.165738,
     "end_time": "2022-03-20T14:53:55.592080",
     "exception": false,
     "start_time": "2022-03-20T13:32:00.426342",
     "status": "completed"
    },
    "tags": []
   },
   "outputs": [
    {
     "name": "stdout",
     "output_type": "stream",
     "text": [
      "epoch: 1, [batch: 1 / 13145], examples_per_second: 23.4010, train_label_loss: 2.6700, \n"
     ]
    },
    {
     "name": "stdout",
     "output_type": "stream",
     "text": [
      "epoch: 1, [batch: 1315 / 13145], examples_per_second: 1738.0653, train_label_loss: 0.1303, \n"
     ]
    },
    {
     "name": "stdout",
     "output_type": "stream",
     "text": [
      "epoch: 1, [batch: 2629 / 13145], examples_per_second: 1738.2633, train_label_loss: 0.0030, \n"
     ]
    },
    {
     "name": "stdout",
     "output_type": "stream",
     "text": [
      "epoch: 1, [batch: 3944 / 13145], examples_per_second: 1742.3799, train_label_loss: 0.1246, \n"
     ]
    },
    {
     "name": "stdout",
     "output_type": "stream",
     "text": [
      "epoch: 1, [batch: 5258 / 13145], examples_per_second: 1734.2193, train_label_loss: 0.0032, \n"
     ]
    },
    {
     "name": "stdout",
     "output_type": "stream",
     "text": [
      "epoch: 1, [batch: 6573 / 13145], examples_per_second: 1738.3379, train_label_loss: 0.0512, \n"
     ]
    },
    {
     "name": "stdout",
     "output_type": "stream",
     "text": [
      "epoch: 1, [batch: 7887 / 13145], examples_per_second: 1801.9939, train_label_loss: 0.1057, \n"
     ]
    },
    {
     "name": "stdout",
     "output_type": "stream",
     "text": [
      "epoch: 1, [batch: 9201 / 13145], examples_per_second: 2465.3128, train_label_loss: 0.3277, \n"
     ]
    },
    {
     "name": "stdout",
     "output_type": "stream",
     "text": [
      "epoch: 1, [batch: 10516 / 13145], examples_per_second: 1736.4913, train_label_loss: 0.0618, \n"
     ]
    },
    {
     "name": "stdout",
     "output_type": "stream",
     "text": [
      "epoch: 1, [batch: 11830 / 13145], examples_per_second: 1736.9655, train_label_loss: 0.0017, \n"
     ]
    },
    {
     "name": "stdout",
     "output_type": "stream",
     "text": [
      "=============================================================\n",
      "epoch: 1, source_val_acc_label: 0.9775, target_val_acc_label: 0.2403, source_val_label_loss: 0.1046, target_val_label_loss: 2.3200, \n",
      "=============================================================\n"
     ]
    },
    {
     "name": "stdout",
     "output_type": "stream",
     "text": [
      "New best\n"
     ]
    },
    {
     "name": "stdout",
     "output_type": "stream",
     "text": [
      "epoch: 2, [batch: 1 / 13179], examples_per_second: 1.4773, train_label_loss: 0.0154, \n"
     ]
    },
    {
     "name": "stdout",
     "output_type": "stream",
     "text": [
      "epoch: 2, [batch: 1318 / 13179], examples_per_second: 1739.4576, train_label_loss: 0.0039, \n"
     ]
    },
    {
     "name": "stdout",
     "output_type": "stream",
     "text": [
      "epoch: 2, [batch: 2636 / 13179], examples_per_second: 1739.6957, train_label_loss: 0.0003, \n"
     ]
    },
    {
     "name": "stdout",
     "output_type": "stream",
     "text": [
      "epoch: 2, [batch: 3954 / 13179], examples_per_second: 1740.6611, train_label_loss: 0.0488, \n"
     ]
    },
    {
     "name": "stdout",
     "output_type": "stream",
     "text": [
      "epoch: 2, [batch: 5272 / 13179], examples_per_second: 1738.2082, train_label_loss: 0.0459, \n"
     ]
    },
    {
     "name": "stdout",
     "output_type": "stream",
     "text": [
      "epoch: 2, [batch: 6590 / 13179], examples_per_second: 1739.7754, train_label_loss: 0.0005, \n"
     ]
    },
    {
     "name": "stdout",
     "output_type": "stream",
     "text": [
      "epoch: 2, [batch: 7907 / 13179], examples_per_second: 1749.2089, train_label_loss: 0.0008, \n"
     ]
    },
    {
     "name": "stdout",
     "output_type": "stream",
     "text": [
      "epoch: 2, [batch: 9225 / 13179], examples_per_second: 2364.5409, train_label_loss: 0.0316, \n"
     ]
    },
    {
     "name": "stdout",
     "output_type": "stream",
     "text": [
      "epoch: 2, [batch: 10543 / 13179], examples_per_second: 1857.9596, train_label_loss: 0.2477, \n"
     ]
    },
    {
     "name": "stdout",
     "output_type": "stream",
     "text": [
      "epoch: 2, [batch: 11861 / 13179], examples_per_second: 1739.9253, train_label_loss: 0.0001, \n"
     ]
    },
    {
     "name": "stdout",
     "output_type": "stream",
     "text": [
      "=============================================================\n",
      "epoch: 2, source_val_acc_label: 0.9845, target_val_acc_label: 0.2630, source_val_label_loss: 0.0689, target_val_label_loss: 2.2485, \n",
      "=============================================================\n"
     ]
    },
    {
     "name": "stdout",
     "output_type": "stream",
     "text": [
      "New best\n"
     ]
    },
    {
     "name": "stdout",
     "output_type": "stream",
     "text": [
      "epoch: 3, [batch: 1 / 13166], examples_per_second: 1.4788, train_label_loss: 0.1394, \n"
     ]
    },
    {
     "name": "stdout",
     "output_type": "stream",
     "text": [
      "epoch: 3, [batch: 1317 / 13166], examples_per_second: 1741.5205, train_label_loss: 0.0007, \n"
     ]
    },
    {
     "name": "stdout",
     "output_type": "stream",
     "text": [
      "epoch: 3, [batch: 2634 / 13166], examples_per_second: 1740.2124, train_label_loss: 0.0866, \n"
     ]
    },
    {
     "name": "stdout",
     "output_type": "stream",
     "text": [
      "epoch: 3, [batch: 3950 / 13166], examples_per_second: 1741.0195, train_label_loss: 0.0024, \n"
     ]
    },
    {
     "name": "stdout",
     "output_type": "stream",
     "text": [
      "epoch: 3, [batch: 5267 / 13166], examples_per_second: 1738.6648, train_label_loss: 0.0012, \n"
     ]
    },
    {
     "name": "stdout",
     "output_type": "stream",
     "text": [
      "epoch: 3, [batch: 6583 / 13166], examples_per_second: 1740.2264, train_label_loss: 0.0008, \n"
     ]
    },
    {
     "name": "stdout",
     "output_type": "stream",
     "text": [
      "epoch: 3, [batch: 7900 / 13166], examples_per_second: 1743.2290, train_label_loss: 0.0048, \n"
     ]
    },
    {
     "name": "stdout",
     "output_type": "stream",
     "text": [
      "epoch: 3, [batch: 9216 / 13166], examples_per_second: 2172.0389, train_label_loss: 0.0004, \n"
     ]
    },
    {
     "name": "stdout",
     "output_type": "stream",
     "text": [
      "epoch: 3, [batch: 10533 / 13166], examples_per_second: 2299.2711, train_label_loss: 0.2357, \n"
     ]
    },
    {
     "name": "stdout",
     "output_type": "stream",
     "text": [
      "epoch: 3, [batch: 11849 / 13166], examples_per_second: 2257.6926, train_label_loss: 0.0004, \n"
     ]
    },
    {
     "name": "stdout",
     "output_type": "stream",
     "text": [
      "=============================================================\n",
      "epoch: 3, source_val_acc_label: 0.9861, target_val_acc_label: 0.2330, source_val_label_loss: 0.0614, target_val_label_loss: 2.3504, \n",
      "=============================================================\n"
     ]
    },
    {
     "name": "stdout",
     "output_type": "stream",
     "text": [
      "epoch: 4, [batch: 1 / 13172], examples_per_second: 1.9272, train_label_loss: 0.0015, \n"
     ]
    },
    {
     "name": "stdout",
     "output_type": "stream",
     "text": [
      "epoch: 4, [batch: 1318 / 13172], examples_per_second: 3556.8589, train_label_loss: 0.1311, \n"
     ]
    },
    {
     "name": "stdout",
     "output_type": "stream",
     "text": [
      "epoch: 4, [batch: 2635 / 13172], examples_per_second: 3593.7017, train_label_loss: 0.0004, \n"
     ]
    },
    {
     "name": "stdout",
     "output_type": "stream",
     "text": [
      "epoch: 4, [batch: 3952 / 13172], examples_per_second: 3624.5987, train_label_loss: 0.0003, \n"
     ]
    },
    {
     "name": "stdout",
     "output_type": "stream",
     "text": [
      "epoch: 4, [batch: 5269 / 13172], examples_per_second: 3593.4968, train_label_loss: 0.1443, \n"
     ]
    },
    {
     "name": "stdout",
     "output_type": "stream",
     "text": [
      "epoch: 4, [batch: 6586 / 13172], examples_per_second: 1888.4939, train_label_loss: 0.0014, \n"
     ]
    },
    {
     "name": "stdout",
     "output_type": "stream",
     "text": [
      "epoch: 4, [batch: 7903 / 13172], examples_per_second: 1727.1945, train_label_loss: 0.1943, \n"
     ]
    },
    {
     "name": "stdout",
     "output_type": "stream",
     "text": [
      "epoch: 4, [batch: 9220 / 13172], examples_per_second: 1725.9145, train_label_loss: 0.1384, \n"
     ]
    },
    {
     "name": "stdout",
     "output_type": "stream",
     "text": [
      "epoch: 4, [batch: 10537 / 13172], examples_per_second: 1730.9936, train_label_loss: 0.0001, \n"
     ]
    },
    {
     "name": "stdout",
     "output_type": "stream",
     "text": [
      "epoch: 4, [batch: 11854 / 13172], examples_per_second: 1728.8590, train_label_loss: 0.0001, \n"
     ]
    },
    {
     "name": "stdout",
     "output_type": "stream",
     "text": [
      "=============================================================\n",
      "epoch: 4, source_val_acc_label: 0.9865, target_val_acc_label: 0.2814, source_val_label_loss: 0.0604, target_val_label_loss: 2.1586, \n",
      "=============================================================\n"
     ]
    },
    {
     "name": "stdout",
     "output_type": "stream",
     "text": [
      "New best\n"
     ]
    },
    {
     "name": "stdout",
     "output_type": "stream",
     "text": [
      "epoch: 5, [batch: 1 / 13165], examples_per_second: 1.4571, train_label_loss: 0.0017, \n"
     ]
    },
    {
     "name": "stdout",
     "output_type": "stream",
     "text": [
      "epoch: 5, [batch: 1317 / 13165], examples_per_second: 1730.9821, train_label_loss: 0.0004, \n"
     ]
    },
    {
     "name": "stdout",
     "output_type": "stream",
     "text": [
      "epoch: 5, [batch: 2633 / 13165], examples_per_second: 1728.0599, train_label_loss: 0.0489, \n"
     ]
    },
    {
     "name": "stdout",
     "output_type": "stream",
     "text": [
      "epoch: 5, [batch: 3950 / 13165], examples_per_second: 1729.9159, train_label_loss: 0.0001, \n"
     ]
    },
    {
     "name": "stdout",
     "output_type": "stream",
     "text": [
      "epoch: 5, [batch: 5266 / 13165], examples_per_second: 2173.7336, train_label_loss: 0.0001, \n"
     ]
    },
    {
     "name": "stdout",
     "output_type": "stream",
     "text": [
      "epoch: 5, [batch: 6583 / 13165], examples_per_second: 1994.2662, train_label_loss: 0.0000, \n"
     ]
    },
    {
     "name": "stdout",
     "output_type": "stream",
     "text": [
      "epoch: 5, [batch: 7899 / 13165], examples_per_second: 1741.6026, train_label_loss: 0.0610, \n"
     ]
    },
    {
     "name": "stdout",
     "output_type": "stream",
     "text": [
      "epoch: 5, [batch: 9215 / 13165], examples_per_second: 1737.9850, train_label_loss: 0.0004, \n"
     ]
    },
    {
     "name": "stdout",
     "output_type": "stream",
     "text": [
      "epoch: 5, [batch: 10532 / 13165], examples_per_second: 1745.8696, train_label_loss: 0.0026, \n"
     ]
    },
    {
     "name": "stdout",
     "output_type": "stream",
     "text": [
      "epoch: 5, [batch: 11848 / 13165], examples_per_second: 1741.4594, train_label_loss: 0.0000, \n"
     ]
    },
    {
     "name": "stdout",
     "output_type": "stream",
     "text": [
      "=============================================================\n",
      "epoch: 5, source_val_acc_label: 0.9871, target_val_acc_label: 0.2561, source_val_label_loss: 0.0587, target_val_label_loss: 2.2424, \n",
      "=============================================================\n"
     ]
    },
    {
     "name": "stdout",
     "output_type": "stream",
     "text": [
      "epoch: 6, [batch: 1 / 13167], examples_per_second: 1.4681, train_label_loss: 0.0002, \n"
     ]
    },
    {
     "name": "stdout",
     "output_type": "stream",
     "text": [
      "epoch: 6, [batch: 1317 / 13167], examples_per_second: 1743.5189, train_label_loss: 0.0002, \n"
     ]
    },
    {
     "name": "stdout",
     "output_type": "stream",
     "text": [
      "epoch: 6, [batch: 2634 / 13167], examples_per_second: 1741.4650, train_label_loss: 0.0003, \n"
     ]
    },
    {
     "name": "stdout",
     "output_type": "stream",
     "text": [
      "epoch: 6, [batch: 3950 / 13167], examples_per_second: 1744.8722, train_label_loss: 0.0000, \n"
     ]
    },
    {
     "name": "stdout",
     "output_type": "stream",
     "text": [
      "epoch: 6, [batch: 5267 / 13167], examples_per_second: 2118.9816, train_label_loss: 0.0001, \n"
     ]
    },
    {
     "name": "stdout",
     "output_type": "stream",
     "text": [
      "epoch: 6, [batch: 6584 / 13167], examples_per_second: 2035.2778, train_label_loss: 0.0000, \n"
     ]
    },
    {
     "name": "stdout",
     "output_type": "stream",
     "text": [
      "epoch: 6, [batch: 7900 / 13167], examples_per_second: 1741.3384, train_label_loss: 0.0002, \n"
     ]
    },
    {
     "name": "stdout",
     "output_type": "stream",
     "text": [
      "epoch: 6, [batch: 9217 / 13167], examples_per_second: 1738.6436, train_label_loss: 0.0018, \n"
     ]
    },
    {
     "name": "stdout",
     "output_type": "stream",
     "text": [
      "epoch: 6, [batch: 10533 / 13167], examples_per_second: 1745.6355, train_label_loss: 0.0036, \n"
     ]
    },
    {
     "name": "stdout",
     "output_type": "stream",
     "text": [
      "epoch: 6, [batch: 11850 / 13167], examples_per_second: 1742.4115, train_label_loss: 0.0002, \n"
     ]
    },
    {
     "name": "stdout",
     "output_type": "stream",
     "text": [
      "=============================================================\n",
      "epoch: 6, source_val_acc_label: 0.9866, target_val_acc_label: 0.2687, source_val_label_loss: 0.0617, target_val_label_loss: 2.1759, \n",
      "=============================================================\n"
     ]
    },
    {
     "name": "stdout",
     "output_type": "stream",
     "text": [
      "epoch: 7, [batch: 1 / 13157], examples_per_second: 1.4866, train_label_loss: 0.0003, \n"
     ]
    },
    {
     "name": "stdout",
     "output_type": "stream",
     "text": [
      "epoch: 7, [batch: 1316 / 13157], examples_per_second: 1741.4132, train_label_loss: 0.0001, \n"
     ]
    },
    {
     "name": "stdout",
     "output_type": "stream",
     "text": [
      "epoch: 7, [batch: 2632 / 13157], examples_per_second: 1741.9646, train_label_loss: 0.0000, \n"
     ]
    },
    {
     "name": "stdout",
     "output_type": "stream",
     "text": [
      "epoch: 7, [batch: 3947 / 13157], examples_per_second: 1744.3421, train_label_loss: 0.0025, \n"
     ]
    },
    {
     "name": "stdout",
     "output_type": "stream",
     "text": [
      "epoch: 7, [batch: 5263 / 13157], examples_per_second: 2056.0228, train_label_loss: 0.0001, \n"
     ]
    },
    {
     "name": "stdout",
     "output_type": "stream",
     "text": [
      "epoch: 7, [batch: 6579 / 13157], examples_per_second: 2092.4893, train_label_loss: 0.0004, \n"
     ]
    },
    {
     "name": "stdout",
     "output_type": "stream",
     "text": [
      "epoch: 7, [batch: 7894 / 13157], examples_per_second: 1741.4119, train_label_loss: 0.0510, \n"
     ]
    },
    {
     "name": "stdout",
     "output_type": "stream",
     "text": [
      "epoch: 7, [batch: 9210 / 13157], examples_per_second: 1737.0495, train_label_loss: 0.0001, \n"
     ]
    },
    {
     "name": "stdout",
     "output_type": "stream",
     "text": [
      "epoch: 7, [batch: 10525 / 13157], examples_per_second: 1744.6254, train_label_loss: 0.0000, \n"
     ]
    },
    {
     "name": "stdout",
     "output_type": "stream",
     "text": [
      "epoch: 7, [batch: 11841 / 13157], examples_per_second: 1741.2827, train_label_loss: 0.0004, \n"
     ]
    },
    {
     "name": "stdout",
     "output_type": "stream",
     "text": [
      "=============================================================\n",
      "epoch: 7, source_val_acc_label: 0.9864, target_val_acc_label: 0.2154, source_val_label_loss: 0.0619, target_val_label_loss: 2.5648, \n",
      "=============================================================\n"
     ]
    },
    {
     "name": "stdout",
     "output_type": "stream",
     "text": [
      "epoch: 8, [batch: 1 / 13166], examples_per_second: 1.4605, train_label_loss: 0.0379, \n"
     ]
    },
    {
     "name": "stdout",
     "output_type": "stream",
     "text": [
      "epoch: 8, [batch: 1317 / 13166], examples_per_second: 1742.9671, train_label_loss: 0.0049, \n"
     ]
    },
    {
     "name": "stdout",
     "output_type": "stream",
     "text": [
      "epoch: 8, [batch: 2634 / 13166], examples_per_second: 1742.0920, train_label_loss: 0.0055, \n"
     ]
    },
    {
     "name": "stdout",
     "output_type": "stream",
     "text": [
      "epoch: 8, [batch: 3950 / 13166], examples_per_second: 1745.0781, train_label_loss: 0.0031, \n"
     ]
    },
    {
     "name": "stdout",
     "output_type": "stream",
     "text": [
      "epoch: 8, [batch: 5267 / 13166], examples_per_second: 2017.2921, train_label_loss: 0.0011, \n"
     ]
    },
    {
     "name": "stdout",
     "output_type": "stream",
     "text": [
      "epoch: 8, [batch: 6583 / 13166], examples_per_second: 2127.4581, train_label_loss: 0.0557, \n"
     ]
    },
    {
     "name": "stdout",
     "output_type": "stream",
     "text": [
      "epoch: 8, [batch: 7900 / 13166], examples_per_second: 1741.1445, train_label_loss: 0.0001, \n"
     ]
    },
    {
     "name": "stdout",
     "output_type": "stream",
     "text": [
      "epoch: 8, [batch: 9216 / 13166], examples_per_second: 1738.4072, train_label_loss: 0.0718, \n"
     ]
    },
    {
     "name": "stdout",
     "output_type": "stream",
     "text": [
      "epoch: 8, [batch: 10533 / 13166], examples_per_second: 1743.9186, train_label_loss: 0.0087, \n"
     ]
    },
    {
     "name": "stdout",
     "output_type": "stream",
     "text": [
      "epoch: 8, [batch: 11849 / 13166], examples_per_second: 1740.9178, train_label_loss: 0.0000, \n"
     ]
    },
    {
     "name": "stdout",
     "output_type": "stream",
     "text": [
      "=============================================================\n",
      "epoch: 8, source_val_acc_label: 0.9865, target_val_acc_label: 0.2294, source_val_label_loss: 0.0692, target_val_label_loss: 2.3979, \n",
      "=============================================================\n"
     ]
    },
    {
     "name": "stdout",
     "output_type": "stream",
     "text": [
      "Patience (3) exhausted\n"
     ]
    }
   ],
   "source": [
    "###################################\n",
    "# train\n",
    "###################################\n",
    "jig = PTN_Train_Eval_Test_Jig(model, p.BEST_MODEL_PATH, p.device)\n",
    "\n",
    "jig.train(\n",
    "    train_iterable=datasets.source.processed.train,\n",
    "    source_val_iterable=datasets.source.processed.val,\n",
    "    target_val_iterable=datasets.target.processed.val,\n",
    "    num_epochs=p.n_epoch,\n",
    "    num_logs_per_epoch=p.NUM_LOGS_PER_EPOCH,\n",
    "    patience=p.patience,\n",
    "    optimizer=optimizer,\n",
    "    criteria_for_best=p.criteria_for_best,\n",
    ")"
   ]
  },
  {
   "cell_type": "code",
   "execution_count": 23,
   "id": "31e8fabf",
   "metadata": {
    "execution": {
     "iopub.execute_input": "2022-03-20T14:53:55.681362Z",
     "iopub.status.busy": "2022-03-20T14:53:55.681099Z",
     "iopub.status.idle": "2022-03-20T14:53:55.700037Z",
     "shell.execute_reply": "2022-03-20T14:53:55.699547Z"
    },
    "papermill": {
     "duration": 0.06446,
     "end_time": "2022-03-20T14:53:55.700147",
     "exception": false,
     "start_time": "2022-03-20T14:53:55.635687",
     "status": "completed"
    },
    "tags": []
   },
   "outputs": [],
   "source": [
    "total_experiment_time_secs = time.time() - start_time_secs"
   ]
  },
  {
   "cell_type": "code",
   "execution_count": 24,
   "id": "87b9595b",
   "metadata": {
    "execution": {
     "iopub.execute_input": "2022-03-20T14:53:55.776043Z",
     "iopub.status.busy": "2022-03-20T14:53:55.775769Z",
     "iopub.status.idle": "2022-03-20T14:57:45.909587Z",
     "shell.execute_reply": "2022-03-20T14:57:45.910026Z"
    },
    "papermill": {
     "duration": 230.17126,
     "end_time": "2022-03-20T14:57:45.910166",
     "exception": false,
     "start_time": "2022-03-20T14:53:55.738906",
     "status": "completed"
    },
    "tags": []
   },
   "outputs": [],
   "source": [
    "###################################\n",
    "# Evaluate the model\n",
    "###################################\n",
    "source_test_label_accuracy, source_test_label_loss = jig.test(datasets.source.processed.test)\n",
    "target_test_label_accuracy, target_test_label_loss = jig.test(datasets.target.processed.test)\n",
    "\n",
    "source_val_label_accuracy, source_val_label_loss = jig.test(datasets.source.processed.val)\n",
    "target_val_label_accuracy, target_val_label_loss = jig.test(datasets.target.processed.val)\n",
    "\n",
    "history = jig.get_history()\n",
    "\n",
    "total_epochs_trained = len(history[\"epoch_indices\"])\n",
    "\n",
    "val_dl = Iterable_Aggregator((datasets.source.original.val,datasets.target.original.val))\n",
    "\n",
    "confusion = ptn_confusion_by_domain_over_dataloader(model, p.device, val_dl)\n",
    "per_domain_accuracy = per_domain_accuracy_from_confusion(confusion)\n",
    "\n",
    "# Add a key to per_domain_accuracy for if it was a source domain\n",
    "for domain, accuracy in per_domain_accuracy.items():\n",
    "    per_domain_accuracy[domain] = {\n",
    "        \"accuracy\": accuracy,\n",
    "        \"source?\": domain in p.domains_source\n",
    "    }\n",
    "\n",
    "# Do an independent accuracy assesment JUST TO BE SURE!\n",
    "# _source_test_label_accuracy = independent_accuracy_assesment(model, datasets.source.processed.test, p.device)\n",
    "# _target_test_label_accuracy = independent_accuracy_assesment(model, datasets.target.processed.test, p.device)\n",
    "# _source_val_label_accuracy = independent_accuracy_assesment(model, datasets.source.processed.val, p.device)\n",
    "# _target_val_label_accuracy = independent_accuracy_assesment(model, datasets.target.processed.val, p.device)\n",
    "\n",
    "# assert(_source_test_label_accuracy == source_test_label_accuracy)\n",
    "# assert(_target_test_label_accuracy == target_test_label_accuracy)\n",
    "# assert(_source_val_label_accuracy == source_val_label_accuracy)\n",
    "# assert(_target_val_label_accuracy == target_val_label_accuracy)\n",
    "\n",
    "experiment = {\n",
    "    \"experiment_name\": p.experiment_name,\n",
    "    \"parameters\": dict(p),\n",
    "    \"results\": {\n",
    "        \"source_test_label_accuracy\": source_test_label_accuracy,\n",
    "        \"source_test_label_loss\": source_test_label_loss,\n",
    "        \"target_test_label_accuracy\": target_test_label_accuracy,\n",
    "        \"target_test_label_loss\": target_test_label_loss,\n",
    "        \"source_val_label_accuracy\": source_val_label_accuracy,\n",
    "        \"source_val_label_loss\": source_val_label_loss,\n",
    "        \"target_val_label_accuracy\": target_val_label_accuracy,\n",
    "        \"target_val_label_loss\": target_val_label_loss,\n",
    "        \"total_epochs_trained\": total_epochs_trained,\n",
    "        \"total_experiment_time_secs\": total_experiment_time_secs,\n",
    "        \"confusion\": confusion,\n",
    "        \"per_domain_accuracy\": per_domain_accuracy,\n",
    "    },\n",
    "    \"history\": history,\n",
    "    \"dataset_metrics\": get_dataset_metrics(datasets, \"ptn\"),\n",
    "}"
   ]
  },
  {
   "cell_type": "code",
   "execution_count": 25,
   "id": "54a21829",
   "metadata": {
    "execution": {
     "iopub.execute_input": "2022-03-20T14:57:45.979999Z",
     "iopub.status.busy": "2022-03-20T14:57:45.979741Z",
     "iopub.status.idle": "2022-03-20T14:57:46.117919Z",
     "shell.execute_reply": "2022-03-20T14:57:46.117639Z"
    },
    "papermill": {
     "duration": 0.171977,
     "end_time": "2022-03-20T14:57:46.117984",
     "exception": false,
     "start_time": "2022-03-20T14:57:45.946007",
     "status": "completed"
    },
    "tags": []
   },
   "outputs": [
    {
     "data": {
      "image/png": "[encoded data removed]",
      "text/plain": [
       "<Figure size 1080x504 with 1 Axes>"
      ]
     },
     "metadata": {
      "needs_background": "light"
     },
     "output_type": "display_data"
    }
   ],
   "source": [
    "ax = get_loss_curve(experiment)\n",
    "plt.show()"
   ]
  },
  {
   "cell_type": "code",
   "execution_count": 26,
   "id": "fd8a0f60",
   "metadata": {
    "execution": {
     "iopub.execute_input": "2022-03-20T14:57:46.187184Z",
     "iopub.status.busy": "2022-03-20T14:57:46.186820Z",
     "iopub.status.idle": "2022-03-20T14:57:46.348180Z",
     "shell.execute_reply": "2022-03-20T14:57:46.348482Z"
    },
    "papermill": {
     "duration": 0.197012,
     "end_time": "2022-03-20T14:57:46.348580",
     "exception": false,
     "start_time": "2022-03-20T14:57:46.151568",
     "status": "completed"
    },
    "tags": []
   },
   "outputs": [
    {
     "data": {
      "text/plain": [
       "<AxesSubplot:title={'center':'Results'}>"
      ]
     },
     "execution_count": 26,
     "metadata": {},
     "output_type": "execute_result"
    },
    {
     "data": {
      "image/png": "[encoded data removed]",
      "text/plain": [
       "<Figure size 1080x504 with 1 Axes>"
      ]
     },
     "metadata": {
      "needs_background": "light"
     },
     "output_type": "display_data"
    }
   ],
   "source": [
    "get_results_table(experiment)"
   ]
  },
  {
   "cell_type": "code",
   "execution_count": 27,
   "id": "cf8dc689",
   "metadata": {
    "execution": {
     "iopub.execute_input": "2022-03-20T14:57:46.429175Z",
     "iopub.status.busy": "2022-03-20T14:57:46.428914Z",
     "iopub.status.idle": "2022-03-20T14:57:46.585859Z",
     "shell.execute_reply": "2022-03-20T14:57:46.586089Z"
    },
    "papermill": {
     "duration": 0.193634,
     "end_time": "2022-03-20T14:57:46.586169",
     "exception": false,
     "start_time": "2022-03-20T14:57:46.392535",
     "status": "completed"
    },
    "tags": []
   },
   "outputs": [
    {
     "data": {
      "text/plain": [
       "<AxesSubplot:title={'center':'Per Domain Validation Accuracy'}, xlabel='domain'>"
      ]
     },
     "execution_count": 27,
     "metadata": {},
     "output_type": "execute_result"
    },
    {
     "data": {
      "image/png": "[encoded data removed]",
      "text/plain": [
       "<Figure size 1080x504 with 1 Axes>"
      ]
     },
     "metadata": {
      "needs_background": "light"
     },
     "output_type": "display_data"
    }
   ],
   "source": [
    "get_domain_accuracies(experiment)"
   ]
  },
  {
   "cell_type": "code",
   "execution_count": 28,
   "id": "a74ae082",
   "metadata": {
    "execution": {
     "iopub.execute_input": "2022-03-20T14:57:46.657612Z",
     "iopub.status.busy": "2022-03-20T14:57:46.657351Z",
     "iopub.status.idle": "2022-03-20T14:57:46.674933Z",
     "shell.execute_reply": "2022-03-20T14:57:46.674422Z"
    },
    "papermill": {
     "duration": 0.054626,
     "end_time": "2022-03-20T14:57:46.675042",
     "exception": false,
     "start_time": "2022-03-20T14:57:46.620416",
     "status": "completed"
    },
    "tags": []
   },
   "outputs": [
    {
     "name": "stdout",
     "output_type": "stream",
     "text": [
      "Source Test Label Accuracy: 0.9854964921748516 Target Test Label Accuracy: 0.27874348958333334\n",
      "Source Val Label Accuracy: 0.9864646395156852 Target Val Label Accuracy: 0.2813802083333333\n"
     ]
    }
   ],
   "source": [
    "print(\"Source Test Label Accuracy:\", experiment[\"results\"][\"source_test_label_accuracy\"], \"Target Test Label Accuracy:\", experiment[\"results\"][\"target_test_label_accuracy\"])\n",
    "print(\"Source Val Label Accuracy:\", experiment[\"results\"][\"source_val_label_accuracy\"], \"Target Val Label Accuracy:\", experiment[\"results\"][\"target_val_label_accuracy\"])"
   ]
  },
  {
   "cell_type": "code",
   "execution_count": 29,
   "id": "dacca602",
   "metadata": {
    "execution": {
     "iopub.execute_input": "2022-03-20T14:57:46.755555Z",
     "iopub.status.busy": "2022-03-20T14:57:46.750811Z",
     "iopub.status.idle": "2022-03-20T14:57:46.769688Z",
     "shell.execute_reply": "2022-03-20T14:57:46.770125Z"
    },
    "papermill": {
     "duration": 0.056109,
     "end_time": "2022-03-20T14:57:46.770262",
     "exception": false,
     "start_time": "2022-03-20T14:57:46.714153",
     "status": "completed"
    },
    "tags": [
     "experiment_json"
    ]
   },
   "outputs": [
    {
     "data": {
      "text/plain": [
       "'{\"experiment_name\": \"tl_3Av2:cores+wisig -> oracle.run1.framed\", \"parameters\": {\"experiment_name\": \"tl_3Av2:cores+wisig -> oracle.run1.framed\", \"device\": \"cuda\", \"lr\": 0.0001, \"x_shape\": [2, 200], \"n_shot\": 3, \"n_query\": 2, \"train_k_factor\": 3, \"val_k_factor\": 2, \"test_k_factor\": 2, \"torch_default_dtype\": \"torch.float32\", \"n_epoch\": 50, \"patience\": 3, \"criteria_for_best\": \"target_accuracy\", \"x_net\": [{\"class\": \"nnReshape\", \"kargs\": {\"shape\": [-1, 1, 2, 200]}}, {\"class\": \"Conv2d\", \"kargs\": {\"in_channels\": 1, \"out_channels\": 256, \"kernel_size\": [1, 7], \"bias\": false, \"padding\": [0, 3]}}, {\"class\": \"ReLU\", \"kargs\": {\"inplace\": true}}, {\"class\": \"BatchNorm2d\", \"kargs\": {\"num_features\": 256}}, {\"class\": \"Conv2d\", \"kargs\": {\"in_channels\": 256, \"out_channels\": 80, \"kernel_size\": [2, 7], \"bias\": true, \"padding\": [0, 3]}}, {\"class\": \"ReLU\", \"kargs\": {\"inplace\": true}}, {\"class\": \"BatchNorm2d\", \"kargs\": {\"num_features\": 80}}, {\"class\": \"Flatten\", \"kargs\": {}}, {\"class\": \"Linear\", \"kargs\": {\"in_features\": 16000, \"out_features\": 256}}, {\"class\": \"ReLU\", \"kargs\": {\"inplace\": true}}, {\"class\": \"BatchNorm1d\", \"kargs\": {\"num_features\": 256}}, {\"class\": \"Linear\", \"kargs\": {\"in_features\": 256, \"out_features\": 256}}], \"NUM_LOGS_PER_EPOCH\": 10, \"BEST_MODEL_PATH\": \"./best_model.pth\", \"n_way\": 16, \"datasets\": [{\"labels\": [\"1-10.\", \"1-11.\", \"1-15.\", \"1-16.\", \"1-17.\", \"1-18.\", \"1-19.\", \"10-4.\", \"10-7.\", \"11-1.\", \"11-14.\", \"11-17.\", \"11-20.\", \"11-7.\", \"13-20.\", \"13-8.\", \"14-10.\", \"14-11.\", \"14-14.\", \"14-7.\", \"15-1.\", \"15-20.\", \"16-1.\", \"16-16.\", \"17-10.\", \"17-11.\", \"17-2.\", \"19-1.\", \"19-16.\", \"19-19.\", \"19-20.\", \"19-3.\", \"2-10.\", \"2-11.\", \"2-17.\", \"2-18.\", \"2-20.\", \"2-3.\", \"2-4.\", \"2-5.\", \"2-6.\", \"2-7.\", \"2-8.\", \"3-13.\", \"3-18.\", \"3-3.\", \"4-1.\", \"4-10.\", \"4-11.\", \"4-19.\", \"5-5.\", \"6-15.\", \"7-10.\", \"7-14.\", \"8-18.\", \"8-20.\", \"8-3.\", \"8-8.\"], \"domains\": [1, 2, 3, 4, 5], \"num_examples_per_domain_per_label\": -1, \"pickle_path\": \"/mnt/wd500GB/CSC500/csc500-main/datasets/cores.stratified_ds.2022A.pkl\", \"source_or_target_dataset\": \"source\", \"x_transforms\": [\"unit_mag\", \"take_200\"], \"episode_transforms\": [], \"domain_prefix\": \"C_\"}, {\"labels\": [\"1-10\", \"1-12\", \"1-14\", \"1-16\", \"1-18\", \"1-19\", \"1-8\", \"10-11\", \"10-17\", \"10-4\", \"10-7\", \"11-1\", \"11-10\", \"11-19\", \"11-20\", \"11-4\", \"11-7\", \"12-19\", \"12-20\", \"12-7\", \"13-14\", \"13-18\", \"13-19\", \"13-20\", \"13-3\", \"13-7\", \"14-10\", \"14-11\", \"14-12\", \"14-13\", \"14-14\", \"14-19\", \"14-20\", \"14-7\", \"14-8\", \"14-9\", \"15-1\", \"15-19\", \"15-6\", \"16-1\", \"16-16\", \"16-19\", \"16-20\", \"17-10\", \"17-11\", \"18-1\", \"18-10\", \"18-11\", \"18-12\", \"18-13\", \"18-14\", \"18-15\", \"18-16\", \"18-17\", \"18-19\", \"18-2\", \"18-20\", \"18-4\", \"18-5\", \"18-7\", \"18-8\", \"18-9\", \"19-1\", \"19-10\", \"19-11\", \"19-12\", \"19-13\", \"19-14\", \"19-15\", \"19-19\", \"19-2\", \"19-20\", \"19-3\", \"19-4\", \"19-6\", \"19-7\", \"19-8\", \"19-9\", \"2-1\", \"2-13\", \"2-15\", \"2-3\", \"2-4\", \"2-5\", \"2-6\", \"2-7\", \"2-8\", \"20-1\", \"20-12\", \"20-14\", \"20-15\", \"20-16\", \"20-18\", \"20-19\", \"20-20\", \"20-3\", \"20-4\", \"20-5\", \"20-7\", \"20-8\", \"3-1\", \"3-13\", \"3-18\", \"3-2\", \"3-8\", \"4-1\", \"4-10\", \"4-11\", \"5-1\", \"5-5\", \"6-1\", \"6-15\", \"6-6\", \"7-10\", \"7-11\", \"7-12\", \"7-13\", \"7-14\", \"7-7\", \"7-8\", \"7-9\", \"8-1\", \"8-13\", \"8-14\", \"8-18\", \"8-20\", \"8-3\", \"8-8\", \"9-1\", \"9-7\"], \"domains\": [1, 2, 3, 4], \"num_examples_per_domain_per_label\": -1, \"pickle_path\": \"/mnt/wd500GB/CSC500/csc500-main/datasets/wisig.node3-19.stratified_ds.2022A.pkl\", \"source_or_target_dataset\": \"source\", \"x_transforms\": [\"unit_mag\", \"take_200\"], \"episode_transforms\": [], \"domain_prefix\": \"W_\"}, {\"labels\": [\"3123D52\", \"3123D65\", \"3123D79\", \"3123D80\", \"3123D54\", \"3123D70\", \"3123D7B\", \"3123D89\", \"3123D58\", \"3123D76\", \"3123D7D\", \"3123EFE\", \"3123D64\", \"3123D78\", \"3123D7E\", \"3124E4A\"], \"domains\": [32, 38, 8, 44, 14, 50, 20, 26], \"num_examples_per_domain_per_label\": 2000, \"pickle_path\": \"/mnt/wd500GB/CSC500/csc500-main/datasets/oracle.Run1_framed_2000Examples_stratified_ds.2022A.pkl\", \"source_or_target_dataset\": \"target\", \"x_transforms\": [\"unit_mag\", \"take_200\", \"resample_20Msps_to_25Msps\"], \"episode_transforms\": [], \"domain_prefix\": \"O_\"}], \"seed\": 154325, \"dataset_seed\": 154325, \"domains_source\": [\"C_1\", \"C_2\", \"C_3\", \"C_4\", \"C_5\", \"W_1\", \"W_2\", \"W_3\", \"W_4\"], \"domains_target\": [\"O_32\", \"O_38\", \"O_8\", \"O_44\", \"O_14\", \"O_50\", \"O_20\", \"O_26\"]}, \"results\": {\"source_test_label_accuracy\": 0.9854964921748516, \"source_test_label_loss\": 0.06400531530380249, \"target_test_label_accuracy\": 0.27874348958333334, \"target_test_label_loss\": 2.1614747047424316, \"source_val_label_accuracy\": 0.9864646395156852, \"source_val_label_loss\": 0.060413528233766556, \"target_val_label_accuracy\": 0.2813802083333333, \"target_val_label_loss\": 2.1585745811462402, \"total_epochs_trained\": 8, \"total_experiment_time_secs\": 4993.131706237793, \"confusion\": {\"W_2\": {\"56\": {\"56\": 12}, \"12\": {\"12\": 84, \"94\": 2, \"78\": 1, \"70\": 1}, \"15\": {\"15\": 112, \"55\": 1, \"43\": 1, \"7\": 1, \"39\": 1}, \"26\": {\"26\": 128, \"43\": 1, \"121\": 1, \"71\": 1, \"84\": 1}, \"82\": {\"82\": 36}, \"9\": {\"9\": 32}, \"49\": {\"49\": 23, \"15\": 1}, \"55\": {\"55\": 16}, \"102\": {\"102\": 124}, \"85\": {\"85\": 32}, \"73\": {\"73\": 28}, \"47\": {\"47\": 9, \"72\": 1, \"84\": 1, \"2\": 1}, \"20\": {\"20\": 15, \"70\": 1}, \"117\": {\"117\": 112, \"87\": 1, \"43\": 1, \"21\": 1, \"39\": 1}, \"122\": {\"122\": 132, \"87\": 1, \"31\": 1, \"71\": 1, \"5\": 1, \"70\": 1, \"39\": 1, \"27\": 2}, \"113\": {\"113\": 70, \"90\": 1, \"107\": 1}, \"87\": {\"87\": 105, \"71\": 1, \"69\": 2, \"43\": 3, \"21\": 1}, \"21\": {\"21\": 43, \"10\": 1, \"95\": 1, \"78\": 2, \"40\": 1}, \"106\": {\"106\": 115, \"10\": 1, \"70\": 1, \"62\": 1, \"21\": 1, \"43\": 1}, \"3\": {\"3\": 132, \"7\": 2, \"26\": 1, \"39\": 1}, \"126\": {\"126\": 120}, \"41\": {\"41\": 19, \"20\": 1}, \"76\": {\"76\": 16}, \"60\": {\"60\": 27, \"1\": 1}, \"94\": {\"94\": 60, \"95\": 2, \"107\": 1, \"3\": 1}, \"50\": {\"50\": 16}, \"97\": {\"97\": 20}, \"115\": {\"115\": 12}, \"38\": {\"38\": 16}, \"43\": {\"43\": 117, \"7\": 1, \"94\": 1, \"17\": 1, \"113\": 1, \"3\": 1, \"78\": 1, \"109\": 1}, \"67\": {\"67\": 16}, \"18\": {\"18\": 122, \"21\": 1, \"10\": 1, \"27\": 1, \"71\": 1, \"94\": 1, \"43\": 1}, \"23\": {\"23\": 44}, \"63\": {\"63\": 20}, \"127\": {\"127\": 119, \"36\": 1, \"122\": 1, \"60\": 1, \"26\": 1, \"3\": 1}, \"72\": {\"72\": 27, \"31\": 1}, \"128\": {\"128\": 21, \"122\": 1, \"3\": 1, \"95\": 1}, \"7\": {\"7\": 124, \"13\": 1, \"26\": 1, \"18\": 1, \"40\": 1}, \"108\": {\"108\": 134}, \"16\": {\"16\": 102, \"11\": 1, \"39\": 1, \"105\": 1, \"69\": 1, \"62\": 1, \"97\": 1, \"84\": 1, \"31\": 1, \"77\": 1, \"43\": 1, \"21\": 1, \"30\": 1}, \"29\": {\"29\": 32}, \"61\": {\"61\": 19, \"13\": 1}, \"104\": {\"104\": 20}, \"120\": {\"120\": 20}, \"124\": {\"124\": 123, \"89\": 1}, \"34\": {\"34\": 32}, \"84\": {\"84\": 88, \"21\": 1, \"27\": 1, \"109\": 1, \"68\": 1}, \"103\": {\"103\": 16}, \"100\": {\"100\": 16}, \"40\": {\"40\": 131, \"95\": 1, \"33\": 1, \"107\": 1, \"113\": 1, \"87\": 1, \"21\": 1, \"39\": 2, \"36\": 1}, \"35\": {\"35\": 12}, \"96\": {\"96\": 20}, \"101\": {\"101\": 119, \"16\": 1}, \"71\": {\"71\": 95, \"87\": 1, \"0\": 2, \"4\": 1, \"84\": 1}, \"81\": {\"81\": 21, \"65\": 2, \"77\": 1}, \"74\": {\"74\": 14, \"10\": 1, \"6\": 1}, \"119\": {\"119\": 19, \"93\": 1}, \"5\": {\"5\": 108, \"43\": 1, \"18\": 2, \"107\": 1}, \"68\": {\"68\": 16}, \"37\": {\"115\": 1, \"37\": 15}, \"58\": {\"58\": 20}, \"109\": {\"13\": 1, \"109\": 94, \"12\": 1, \"24\": 1, \"105\": 1, \"118\": 1, \"4\": 1}, \"107\": {\"107\": 58, \"59\": 1, \"92\": 1, \"78\": 1, \"110\": 2, \"0\": 1}, \"13\": {\"13\": 13, \"94\": 1, \"9\": 1, \"87\": 1}, \"52\": {\"52\": 19, \"124\": 1}, \"77\": {\"77\": 15, \"22\": 1}, \"95\": {\"95\": 36}, \"44\": {\"44\": 100}, \"88\": {\"88\": 116, \"126\": 2, \"40\": 1, \"3\": 1, \"93\": 1, \"109\": 1}, \"91\": {\"91\": 27, \"16\": 1}, \"93\": {\"93\": 136, \"107\": 1, \"30\": 1}, \"8\": {\"8\": 121, \"30\": 1, \"18\": 1, \"109\": 1}, \"1\": {\"1\": 111, \"87\": 1, \"40\": 1, \"39\": 1}, \"45\": {\"45\": 14, \"95\": 1, \"44\": 1}, \"111\": {\"111\": 123, \"62\": 1, \"127\": 1, \"107\": 1}, \"116\": {\"116\": 28}, \"48\": {\"48\": 20}, \"57\": {\"57\": 18, \"68\": 1, \"23\": 1}, \"10\": {\"10\": 58, \"12\": 1, \"26\": 1}, \"129\": {\"129\": 32}, \"98\": {\"98\": 115, \"107\": 1, \"18\": 2}, \"65\": {\"65\": 19, \"10\": 1}, \"6\": {\"6\": 31, \"59\": 1}, \"75\": {\"75\": 15, \"40\": 1}, \"14\": {\"14\": 46, \"78\": 1, \"0\": 1}, \"30\": {\"30\": 105, \"18\": 1, \"36\": 2, \"40\": 1, \"3\": 1, \"12\": 1, \"59\": 1}, \"83\": {\"83\": 40}, \"69\": {\"69\": 124, \"16\": 2, \"7\": 2}, \"125\": {\"125\": 145, \"87\": 1}, \"31\": {\"31\": 20}, \"118\": {\"118\": 66, \"31\": 1, \"43\": 1}, \"53\": {\"53\": 16}, \"54\": {\"54\": 20}, \"92\": {\"92\": 28}, \"19\": {\"19\": 28}, \"27\": {\"27\": 62, \"105\": 1, \"72\": 1, \"81\": 1, \"10\": 1, \"36\": 2}, \"17\": {\"17\": 15, \"59\": 1}, \"4\": {\"4\": 87, \"16\": 1}, \"36\": {\"36\": 121, \"84\": 1, \"29\": 1, \"40\": 2, \"44\": 1, \"24\": 1, \"43\": 1}, \"90\": {\"90\": 133, \"69\": 1, \"44\": 1, \"26\": 1}, \"64\": {\"64\": 15, \"13\": 1}, \"66\": {\"66\": 19, \"86\": 1}, \"46\": {\"46\": 14, \"23\": 1, \"4\": 1}, \"86\": {\"86\": 32}, \"114\": {\"114\": 108, \"0\": 1, \"105\": 1}, \"32\": {\"32\": 34, \"75\": 1, \"88\": 1}, \"78\": {\"78\": 44, \"14\": 1, \"84\": 1, \"7\": 1, \"122\": 1}, \"33\": {\"33\": 136, \"40\": 1, \"18\": 1}, \"70\": {\"70\": 115, \"42\": 1, \"24\": 2, \"105\": 1, \"69\": 2, \"78\": 1, \"122\": 2}, \"0\": {\"0\": 115, \"71\": 1}, \"110\": {\"110\": 38, \"87\": 1, \"107\": 1}, \"2\": {\"2\": 31, \"55\": 1}, \"28\": {\"28\": 18, \"23\": 1, \"10\": 1}, \"51\": {\"51\": 20}, \"79\": {\"79\": 16}, \"42\": {\"42\": 28}, \"112\": {\"112\": 16}, \"89\": {\"89\": 35, \"92\": 1}, \"59\": {\"59\": 16}, \"105\": {\"105\": 126, \"16\": 1, \"24\": 1}, \"121\": {\"121\": 35, \"22\": 1}, \"11\": {\"11\": 76, \"12\": 1, \"7\": 1, \"70\": 1, \"94\": 1}, \"99\": {\"99\": 30, \"28\": 1, \"4\": 1}, \"25\": {\"25\": 16}, \"62\": {\"62\": 122, \"94\": 1, \"0\": 1, \"40\": 1, \"71\": 1, \"84\": 1, \"105\": 1}, \"123\": {\"123\": 16}, \"24\": {\"24\": 106, \"12\": 1, \"3\": 1, \"70\": 1, \"7\": 1, \"36\": 1, \"69\": 1}, \"80\": {\"80\": 16}, \"39\": {\"39\": 94, \"10\": 1, \"36\": 2, \"122\": 1, \"43\": 1, \"33\": 1}, \"22\": {\"22\": 18, \"62\": 1, \"31\": 1}}, \"C_2\": {\"21\": {\"21\": 120}, \"4\": {\"4\": 130}, \"6\": {\"6\": 124}, \"10\": {\"10\": 112}, \"33\": {\"33\": 28}, \"56\": {\"56\": 122}, \"20\": {\"20\": 132}, \"24\": {\"24\": 96}, \"45\": {\"45\": 128}, \"32\": {\"32\": 28}, \"27\": {\"27\": 148}, \"53\": {\"53\": 136}, \"8\": {\"8\": 160}, \"54\": {\"54\": 108}, \"50\": {\"50\": 134}, \"44\": {\"44\": 100}, \"5\": {\"5\": 120}, \"38\": {\"38\": 20}, \"19\": {\"19\": 132}, \"1\": {\"1\": 112}, \"30\": {\"30\": 144}, \"15\": {\"15\": 144}, \"23\": {\"23\": 146}, \"35\": {\"35\": 32}, \"22\": {\"22\": 128}, \"40\": {\"40\": 140}, \"46\": {\"46\": 126}, \"3\": {\"3\": 92}, \"48\": {\"48\": 148}, \"52\": {\"52\": 124}, \"2\": {\"2\": 32}, \"26\": {\"26\": 24}, \"17\": {\"17\": 104}, \"55\": {\"55\": 144}, \"51\": {\"51\": 122}, \"42\": {\"42\": 36}, \"41\": {\"41\": 20}, \"31\": {\"31\": 28}, \"16\": {\"16\": 138}, \"36\": {\"36\": 116}, \"49\": {\"49\": 24}, \"0\": {\"0\": 48}, \"18\": {\"18\": 48}, \"25\": {\"25\": 146}, \"9\": {\"9\": 122}, \"47\": {\"47\": 132}, \"7\": {\"7\": 36}, \"37\": {\"37\": 36}, \"13\": {\"13\": 116}, \"14\": {\"14\": 24}, \"34\": {\"34\": 28}, \"57\": {\"57\": 140}, \"11\": {\"11\": 138}, \"39\": {\"39\": 28}, \"12\": {\"12\": 92}, \"28\": {\"28\": 28}, \"29\": {\"29\": 128}, \"43\": {\"43\": 140}}, \"W_4\": {\"32\": {\"32\": 25, \"31\": 1, \"66\": 1, \"69\": 1}, \"22\": {\"22\": 16}, \"69\": {\"69\": 113, \"43\": 1, \"94\": 2, \"7\": 1, \"70\": 1, \"84\": 1, \"24\": 1}, \"65\": {\"65\": 12}, \"91\": {\"91\": 24}, \"63\": {\"63\": 16}, \"127\": {\"3\": 2, \"127\": 105, \"5\": 1}, \"11\": {\"11\": 136, \"36\": 1, \"81\": 1}, \"12\": {\"12\": 93, \"78\": 1, \"24\": 2, \"106\": 1, \"122\": 1, \"118\": 1, \"87\": 1}, \"111\": {\"111\": 125, \"78\": 1, \"95\": 1, \"3\": 1}, \"53\": {\"53\": 15, \"122\": 1}, \"73\": {\"73\": 22, \"35\": 2}, \"3\": {\"3\": 134, \"7\": 1, \"39\": 1}, \"83\": {\"83\": 27, \"38\": 1}, \"88\": {\"88\": 125, \"70\": 4, \"5\": 1}, \"87\": {\"87\": 131, \"108\": 1}, \"2\": {\"2\": 27, \"3\": 1}, \"86\": {\"86\": 28}, \"16\": {\"16\": 119, \"21\": 1, \"3\": 1, \"127\": 1}, \"21\": {\"21\": 33, \"3\": 1, \"87\": 1, \"62\": 1, \"50\": 2, \"51\": 1, \"122\": 1}, \"96\": {\"96\": 19, \"57\": 1}, \"100\": {\"100\": 20}, \"7\": {\"7\": 118, \"108\": 1, \"43\": 1}, \"75\": {\"75\": 15, \"54\": 1}, \"10\": {\"10\": 119, \"110\": 1, \"5\": 1, \"36\": 1, \"71\": 1, \"70\": 1}, \"43\": {\"43\": 115, \"6\": 1, \"0\": 1, \"87\": 1, \"90\": 1, \"14\": 1}, \"92\": {\"92\": 28}, \"62\": {\"62\": 56, \"40\": 1, \"56\": 1, \"69\": 2}, \"31\": {\"31\": 16}, \"0\": {\"0\": 112, \"113\": 1, \"122\": 1}, \"45\": {\"45\": 16}, \"85\": {\"85\": 28}, \"119\": {\"119\": 16}, \"46\": {\"46\": 20}, \"71\": {\"71\": 102, \"109\": 1, \"84\": 1}, \"8\": {\"8\": 130, \"43\": 1, \"113\": 2, \"36\": 1}, \"118\": {\"118\": 106, \"90\": 1, \"39\": 1, \"3\": 1, \"4\": 1, \"15\": 1, \"108\": 1}, \"1\": {\"1\": 98, \"85\": 1, \"94\": 1, \"126\": 1, \"12\": 2, \"122\": 1, \"21\": 1, \"71\": 1, \"109\": 1, \"15\": 1}, \"38\": {\"38\": 15, \"71\": 1}, \"30\": {\"30\": 72, \"14\": 1, \"51\": 1, \"87\": 1, \"109\": 1}, \"66\": {\"66\": 16}, \"9\": {\"9\": 28}, \"5\": {\"5\": 135, \"72\": 1}, \"24\": {\"24\": 114, \"30\": 1, \"70\": 1, \"36\": 3, \"105\": 1}, \"97\": {\"97\": 20}, \"67\": {\"67\": 15, \"48\": 1}, \"19\": {\"19\": 28}, \"77\": {\"77\": 12}, \"26\": {\"26\": 116, \"89\": 1, \"71\": 1}, \"115\": {\"7\": 1, \"115\": 15}, \"50\": {\"50\": 16}, \"120\": {\"120\": 20}, \"102\": {\"102\": 127, \"26\": 1}, \"29\": {\"29\": 32}, \"44\": {\"44\": 63, \"113\": 1}, \"124\": {\"124\": 117, \"118\": 1}, \"78\": {\"78\": 30, \"17\": 1, \"21\": 2, \"84\": 1, \"43\": 1, \"122\": 1}, \"104\": {\"104\": 16}, \"105\": {\"105\": 94, \"87\": 3, \"63\": 1, \"7\": 1, \"36\": 1}, \"28\": {\"28\": 20}, \"37\": {\"37\": 16}, \"107\": {\"107\": 128, \"84\": 1, \"108\": 1, \"39\": 1, \"101\": 1}, \"6\": {\"6\": 24}, \"17\": {\"104\": 2, \"17\": 18}, \"57\": {\"57\": 16}, \"121\": {\"121\": 31, \"82\": 1}, \"58\": {\"58\": 16}, \"64\": {\"120\": 1, \"64\": 15}, \"82\": {\"82\": 32}, \"39\": {\"39\": 99, \"0\": 1}, \"110\": {\"110\": 113, \"70\": 2, \"61\": 1, \"16\": 1, \"105\": 1, \"21\": 1, \"108\": 1, \"23\": 1, \"0\": 1, \"8\": 1, \"84\": 1}, \"114\": {\"114\": 127, \"39\": 1}, \"20\": {\"20\": 16}, \"117\": {\"117\": 114}, \"18\": {\"18\": 119, \"88\": 1}, \"99\": {\"99\": 39, \"122\": 1}, \"23\": {\"23\": 8, \"123\": 2, \"122\": 1, \"39\": 2, \"51\": 1, \"7\": 2}, \"128\": {\"128\": 24}, \"60\": {\"60\": 32}, \"70\": {\"70\": 115, \"110\": 1, \"88\": 3, \"69\": 1}, \"122\": {\"122\": 81, \"106\": 1, \"18\": 1, \"5\": 1}, \"101\": {\"101\": 128, \"7\": 2, \"105\": 1, \"0\": 1}, \"33\": {\"33\": 129, \"66\": 1, \"95\": 1, \"84\": 1}, \"40\": {\"40\": 124, \"71\": 1, \"84\": 1, \"114\": 1, \"16\": 1, \"70\": 1, \"105\": 1}, \"41\": {\"41\": 14, \"23\": 1, \"122\": 1}, \"59\": {\"59\": 12}, \"4\": {\"4\": 96, \"56\": 1, \"3\": 1, \"27\": 1, \"43\": 1, \"62\": 1, \"100\": 1, \"105\": 2}, \"112\": {\"112\": 15, \"101\": 1}, \"36\": {\"36\": 125, \"24\": 1, \"94\": 1, \"3\": 1}, \"48\": {\"48\": 14, \"60\": 1, \"51\": 1}, \"126\": {\"84\": 1, \"126\": 112, \"10\": 1, \"93\": 1, \"101\": 1}, \"125\": {\"125\": 119, \"7\": 2, \"3\": 1}, \"84\": {\"84\": 117, \"21\": 1, \"14\": 1, \"122\": 1, \"105\": 1, \"7\": 1, \"113\": 1, \"40\": 1, \"0\": 1, \"107\": 1, \"101\": 2}, \"80\": {\"80\": 16}, \"49\": {\"49\": 32}, \"47\": {\"112\": 1, \"47\": 11}, \"95\": {\"95\": 32}, \"54\": {\"54\": 16}, \"25\": {\"25\": 16}, \"116\": {\"116\": 28}, \"74\": {\"74\": 16}, \"35\": {\"35\": 12}, \"15\": {\"15\": 123, \"30\": 2, \"0\": 1, \"118\": 1, \"3\": 1}, \"108\": {\"108\": 81, \"4\": 1, \"94\": 1, \"88\": 3, \"93\": 2, \"126\": 1, \"119\": 1, \"51\": 1, \"84\": 1}, \"34\": {\"34\": 29, \"6\": 2, \"72\": 1}, \"81\": {\"81\": 35, \"73\": 1}, \"93\": {\"93\": 128}, \"55\": {\"55\": 16}, \"27\": {\"27\": 95, \"122\": 1, \"127\": 1, \"3\": 1, \"108\": 1, \"70\": 1}, \"109\": {\"109\": 107, \"16\": 1, \"90\": 1, \"108\": 1}, \"106\": {\"106\": 108, \"101\": 1, \"113\": 1, \"10\": 1, \"118\": 1, \"105\": 1, \"126\": 1, \"122\": 1, \"24\": 1}, \"68\": {\"68\": 15, \"108\": 1}, \"76\": {\"87\": 1, \"76\": 14, \"78\": 1}, \"103\": {\"103\": 15, \"0\": 1}, \"42\": {\"42\": 28}, \"129\": {\"129\": 28}, \"94\": {\"94\": 81, \"39\": 1, \"81\": 1, \"3\": 2, \"43\": 1, \"7\": 1, \"0\": 1}, \"123\": {\"123\": 16}, \"61\": {\"61\": 15, \"51\": 1}, \"51\": {\"55\": 1, \"51\": 8, \"27\": 1, \"105\": 1, \"72\": 1, \"48\": 1, \"21\": 1, \"47\": 2}, \"98\": {\"98\": 114, \"39\": 1, \"85\": 1, \"0\": 1, \"90\": 1}, \"56\": {\"56\": 12}, \"14\": {\"14\": 109, \"16\": 1, \"23\": 1, \"88\": 1}, \"90\": {\"90\": 137, \"126\": 1}, \"13\": {\"13\": 16}, \"89\": {\"89\": 31, \"27\": 1}, \"52\": {\"52\": 19, \"89\": 1}, \"72\": {\"72\": 32}, \"79\": {\"79\": 16}, \"113\": {\"113\": 123, \"0\": 1, \"69\": 1, \"39\": 1}}, \"W_1\": {\"68\": {\"68\": 16}, \"7\": {\"7\": 142}, \"125\": {\"125\": 118}, \"111\": {\"111\": 118, \"109\": 1, \"93\": 1}, \"101\": {\"101\": 123, \"122\": 1}, \"11\": {\"11\": 136}, \"76\": {\"76\": 16}, \"5\": {\"5\": 86, \"115\": 1, \"40\": 1}, \"123\": {\"123\": 14, \"34\": 1, \"95\": 1}, \"85\": {\"85\": 32}, \"34\": {\"34\": 30, \"125\": 1, \"14\": 1}, \"42\": {\"42\": 27, \"91\": 1}, \"81\": {\"81\": 28}, \"127\": {\"68\": 1, \"127\": 105, \"71\": 1, \"87\": 1}, \"60\": {\"60\": 15, \"14\": 1}, \"77\": {\"77\": 16}, \"65\": {\"65\": 12}, \"44\": {\"44\": 76}, \"100\": {\"100\": 16}, \"80\": {\"80\": 16}, \"83\": {\"83\": 26, \"88\": 1, \"0\": 1}, \"51\": {\"51\": 16}, \"93\": {\"93\": 130, \"24\": 1, \"43\": 1, \"70\": 1, \"87\": 1}, \"31\": {\"31\": 16}, \"33\": {\"33\": 124, \"19\": 1, \"45\": 1}, \"113\": {\"113\": 121, \"69\": 1, \"16\": 1, \"43\": 1}, \"126\": {\"126\": 122, \"16\": 1, \"26\": 1}, \"10\": {\"10\": 120}, \"21\": {\"21\": 38, \"118\": 1, \"30\": 1}, \"90\": {\"90\": 132}, \"38\": {\"38\": 16}, \"96\": {\"96\": 19, \"86\": 1}, \"6\": {\"6\": 32}, \"121\": {\"121\": 31, \"65\": 1}, \"37\": {\"37\": 16}, \"88\": {\"88\": 122, \"36\": 4}, \"54\": {\"54\": 16}, \"92\": {\"92\": 28}, \"19\": {\"19\": 28}, \"47\": {\"47\": 12}, \"94\": {\"94\": 89, \"3\": 1, \"36\": 1, \"113\": 1}, \"66\": {\"66\": 16}, \"73\": {\"73\": 19, \"37\": 1}, \"75\": {\"75\": 16}, \"28\": {\"28\": 19, \"88\": 1}, \"20\": {\"20\": 16}, \"78\": {\"21\": 1, \"78\": 15}, \"71\": {\"71\": 102, \"26\": 1, \"69\": 1}, \"13\": {\"13\": 16}, \"118\": {\"118\": 83, \"10\": 1}, \"72\": {\"72\": 32}, \"24\": {\"24\": 89, \"36\": 1, \"12\": 1, \"108\": 1}, \"41\": {\"41\": 16}, \"102\": {\"102\": 119, \"90\": 1}, \"8\": {\"118\": 1, \"8\": 137}, \"39\": {\"39\": 93, \"3\": 1, \"16\": 1, \"107\": 1}, \"97\": {\"97\": 18, \"70\": 1, \"28\": 1}, \"48\": {\"48\": 12}, \"57\": {\"57\": 12}, \"29\": {\"29\": 28}, \"119\": {\"119\": 16}, \"89\": {\"89\": 36}, \"40\": {\"40\": 140}, \"22\": {\"6\": 1, \"22\": 15}, \"53\": {\"53\": 20}, \"108\": {\"108\": 124}, \"23\": {\"23\": 21, \"94\": 1, \"31\": 1, \"30\": 1}, \"109\": {\"109\": 114, \"70\": 1, \"126\": 1}, \"112\": {\"112\": 16}, \"35\": {\"35\": 12}, \"3\": {\"3\": 86, \"36\": 1, \"71\": 1}, \"103\": {\"103\": 14, \"6\": 1, \"58\": 1}, \"4\": {\"4\": 98, \"3\": 1, \"85\": 1}, \"87\": {\"87\": 107, \"3\": 1}, \"25\": {\"4\": 1, \"25\": 14, \"22\": 1}, \"15\": {\"15\": 100, \"69\": 1, \"26\": 1, \"117\": 1, \"106\": 1}, \"95\": {\"95\": 36}, \"120\": {\"120\": 18, \"112\": 1, \"102\": 1}, \"59\": {\"59\": 11, \"7\": 1}, \"49\": {\"49\": 19, \"85\": 1}, \"52\": {\"52\": 18, \"78\": 1, \"85\": 1}, \"45\": {\"45\": 11, \"59\": 1}, \"107\": {\"107\": 124}, \"106\": {\"106\": 133, \"10\": 1}, \"18\": {\"18\": 124}, \"64\": {\"64\": 16}, \"86\": {\"86\": 35, \"46\": 1}, \"14\": {\"14\": 96}, \"115\": {\"115\": 12}, \"0\": {\"0\": 83, \"87\": 1}, \"104\": {\"104\": 16}, \"61\": {\"61\": 12}, \"129\": {\"129\": 28}, \"122\": {\"122\": 86, \"7\": 1, \"3\": 1}, \"67\": {\"67\": 14, \"108\": 1, \"40\": 1}, \"128\": {\"128\": 24}, \"26\": {\"26\": 131, \"69\": 1, \"43\": 1, \"3\": 1}, \"117\": {\"117\": 136}, \"91\": {\"91\": 28}, \"12\": {\"12\": 101, \"90\": 1, \"62\": 1, \"40\": 1}, \"50\": {\"50\": 16}, \"99\": {\"99\": 24}, \"110\": {\"110\": 104}, \"43\": {\"43\": 112, \"90\": 1, \"3\": 1, \"94\": 1, \"87\": 1}, \"82\": {\"82\": 36}, \"1\": {\"1\": 95, \"126\": 1}, \"46\": {\"46\": 11, \"72\": 1}, \"16\": {\"16\": 108}, \"74\": {\"74\": 16}, \"32\": {\"32\": 32}, \"62\": {\"62\": 119, \"94\": 1}, \"27\": {\"27\": 90, \"69\": 1, \"24\": 1}, \"17\": {\"17\": 16}, \"36\": {\"36\": 132, \"88\": 1, \"39\": 1}, \"2\": {\"2\": 31, \"11\": 1}, \"70\": {\"70\": 124, \"83\": 1, \"82\": 1, \"12\": 1, \"108\": 1}, \"9\": {\"9\": 32}, \"114\": {\"114\": 130}, \"79\": {\"79\": 12}, \"56\": {\"56\": 11, \"46\": 1}, \"124\": {\"124\": 102}, \"84\": {\"84\": 134}, \"69\": {\"69\": 106, \"16\": 1, \"3\": 1}, \"58\": {\"58\": 10, \"125\": 1, \"86\": 1}, \"30\": {\"94\": 1, \"30\": 51}, \"55\": {\"55\": 12}, \"105\": {\"105\": 84}, \"63\": {\"63\": 16}, \"98\": {\"98\": 107, \"109\": 1}, \"116\": {\"116\": 31, \"118\": 1}}, \"W_3\": {\"76\": {\"76\": 16}, \"6\": {\"6\": 30, \"19\": 1, \"95\": 1}, \"108\": {\"108\": 106}, \"29\": {\"29\": 31, \"12\": 1}, \"83\": {\"83\": 24}, \"18\": {\"18\": 126, \"39\": 1, \"78\": 1}, \"54\": {\"54\": 16}, \"15\": {\"15\": 104}, \"100\": {\"100\": 16}, \"90\": {\"90\": 134, \"40\": 1, \"69\": 1}, \"26\": {\"26\": 129, \"18\": 1, \"5\": 1, \"125\": 1}, \"115\": {\"115\": 16}, \"94\": {\"94\": 83, \"30\": 1}, \"46\": {\"46\": 16}, \"121\": {\"121\": 31, \"61\": 1}, \"109\": {\"109\": 126, \"84\": 1, \"21\": 1}, \"101\": {\"101\": 51, \"1\": 1}, \"99\": {\"99\": 36}, \"8\": {\"8\": 126, \"5\": 1, \"27\": 1}, \"102\": {\"102\": 104}, \"122\": {\"101\": 1, \"122\": 56, \"96\": 1, \"127\": 1, \"71\": 1}, \"36\": {\"36\": 115, \"98\": 1}, \"113\": {\"113\": 119, \"0\": 1}, \"123\": {\"123\": 16}, \"120\": {\"120\": 20}, \"125\": {\"125\": 107, \"98\": 1}, \"89\": {\"89\": 27, \"87\": 1}, \"9\": {\"9\": 32}, \"31\": {\"31\": 20}, \"62\": {\"62\": 112, \"71\": 1, \"110\": 1}, \"49\": {\"49\": 23, \"29\": 1}, \"23\": {\"23\": 32}, \"55\": {\"55\": 16}, \"128\": {\"128\": 30, \"19\": 1, \"23\": 1}, \"71\": {\"71\": 67, \"96\": 1}, \"51\": {\"51\": 16}, \"7\": {\"7\": 106}, \"117\": {\"117\": 104}, \"28\": {\"28\": 16}, \"127\": {\"127\": 127, \"17\": 1}, \"57\": {\"57\": 20}, \"78\": {\"78\": 15, \"84\": 1}, \"87\": {\"87\": 119, \"27\": 1}, \"40\": {\"40\": 127, \"43\": 1}, \"81\": {\"81\": 32}, \"2\": {\"2\": 28}, \"58\": {\"58\": 16}, \"68\": {\"68\": 15, \"101\": 1}, \"20\": {\"20\": 16}, \"35\": {\"35\": 12}, \"96\": {\"96\": 20}, \"84\": {\"84\": 108}, \"13\": {\"13\": 14, \"43\": 1, \"69\": 1}, \"64\": {\"64\": 20}, \"112\": {\"112\": 13, \"21\": 1, \"108\": 1, \"94\": 1}, \"103\": {\"103\": 16}, \"65\": {\"65\": 12}, \"118\": {\"118\": 100}, \"88\": {\"88\": 107, \"84\": 1, \"0\": 1, \"12\": 2, \"108\": 1}, \"85\": {\"85\": 36}, \"5\": {\"5\": 107, \"39\": 1, \"113\": 1, \"88\": 1, \"1\": 1, \"114\": 1}, \"93\": {\"93\": 137, \"44\": 1}, \"43\": {\"43\": 51, \"39\": 2, \"71\": 1, \"69\": 1, \"87\": 1}, \"67\": {\"67\": 15, \"48\": 1}, \"48\": {\"48\": 16}, \"73\": {\"73\": 38, \"78\": 1, \"62\": 1}, \"34\": {\"34\": 30, \"37\": 1, \"6\": 1}, \"91\": {\"91\": 23, \"48\": 1}, \"105\": {\"105\": 124}, \"10\": {\"10\": 105, \"5\": 1}, \"61\": {\"61\": 14, \"56\": 1, \"121\": 1}, \"74\": {\"74\": 15, \"82\": 1}, \"4\": {\"4\": 95, \"110\": 1}, \"37\": {\"37\": 16}, \"19\": {\"19\": 32}, \"44\": {\"44\": 71, \"39\": 1}, \"52\": {\"52\": 16}, \"92\": {\"92\": 32}, \"33\": {\"33\": 128}, \"45\": {\"45\": 16}, \"11\": {\"11\": 128}, \"129\": {\"129\": 32}, \"116\": {\"116\": 27, \"101\": 1}, \"75\": {\"75\": 16}, \"41\": {\"41\": 16}, \"21\": {\"21\": 43, \"3\": 2, \"94\": 1, \"101\": 2}, \"69\": {\"69\": 82, \"112\": 1, \"84\": 1}, \"16\": {\"16\": 107, \"21\": 1}, \"25\": {\"25\": 16}, \"12\": {\"12\": 103, \"16\": 1}, \"72\": {\"72\": 28}, \"0\": {\"0\": 115, \"43\": 1}, \"50\": {\"50\": 16}, \"107\": {\"107\": 140}, \"124\": {\"124\": 124}, \"53\": {\"53\": 19, \"127\": 1}, \"66\": {\"66\": 16}, \"47\": {\"47\": 12}, \"24\": {\"24\": 47, \"43\": 1}, \"95\": {\"95\": 31, \"25\": 1}, \"98\": {\"98\": 104, \"44\": 1, \"3\": 1}, \"63\": {\"63\": 16}, \"3\": {\"3\": 114, \"114\": 1, \"36\": 1}, \"14\": {\"14\": 80}, \"1\": {\"1\": 108}, \"38\": {\"38\": 16}, \"110\": {\"110\": 86, \"68\": 1, \"11\": 1, \"69\": 1, \"109\": 1, \"12\": 1, \"3\": 1}, \"17\": {\"17\": 12, \"40\": 2, \"68\": 2}, \"30\": {\"30\": 83, \"93\": 1}, \"56\": {\"56\": 12}, \"27\": {\"27\": 93, \"36\": 1, \"101\": 1, \"73\": 1}, \"104\": {\"104\": 16}, \"97\": {\"97\": 20}, \"42\": {\"42\": 25, \"68\": 1, \"112\": 2}, \"39\": {\"39\": 108}, \"70\": {\"70\": 70, \"71\": 1, \"101\": 1}, \"86\": {\"86\": 28}, \"119\": {\"119\": 16}, \"77\": {\"77\": 16}, \"59\": {\"59\": 12}, \"22\": {\"22\": 16}, \"79\": {\"79\": 12}, \"80\": {\"80\": 16}, \"111\": {\"111\": 130, \"49\": 1, \"98\": 1}, \"82\": {\"82\": 28}, \"126\": {\"126\": 121, \"39\": 1, \"69\": 1, \"30\": 1}, \"32\": {\"32\": 31, \"10\": 1}, \"106\": {\"106\": 98, \"87\": 1, \"39\": 1}, \"60\": {\"60\": 28}, \"114\": {\"114\": 106, \"10\": 1, \"36\": 1}}, \"C_5\": {\"12\": {\"12\": 96}, \"8\": {\"8\": 142}, \"29\": {\"29\": 132}, \"57\": {\"57\": 126}, \"38\": {\"38\": 32}, \"23\": {\"23\": 124}, \"56\": {\"56\": 138}, \"49\": {\"49\": 36}, \"4\": {\"4\": 100}, \"48\": {\"48\": 136}, \"21\": {\"21\": 144}, \"30\": {\"30\": 128}, \"1\": {\"1\": 148}, \"34\": {\"34\": 36}, \"35\": {\"35\": 36}, \"55\": {\"55\": 152}, \"5\": {\"5\": 122}, \"52\": {\"52\": 126}, \"6\": {\"6\": 128}, \"36\": {\"36\": 92}, \"41\": {\"41\": 28}, \"3\": {\"3\": 100}, \"28\": {\"28\": 32}, \"18\": {\"18\": 64}, \"25\": {\"25\": 136}, \"47\": {\"47\": 100}, \"13\": {\"13\": 160}, \"11\": {\"11\": 144}, \"53\": {\"53\": 144}, \"33\": {\"33\": 32}, \"46\": {\"46\": 148}, \"50\": {\"50\": 148}, \"10\": {\"10\": 68}, \"15\": {\"15\": 138}, \"44\": {\"44\": 140}, \"2\": {\"2\": 28}, \"7\": {\"7\": 32}, \"43\": {\"43\": 138}, \"32\": {\"32\": 32}, \"0\": {\"0\": 124}, \"39\": {\"39\": 20}, \"26\": {\"26\": 24}, \"27\": {\"27\": 112}, \"54\": {\"54\": 112}, \"17\": {\"17\": 116}, \"14\": {\"14\": 43, \"31\": 1}, \"16\": {\"16\": 148}, \"9\": {\"9\": 148}, \"19\": {\"19\": 152}, \"20\": {\"20\": 138}, \"37\": {\"37\": 24}, \"24\": {\"24\": 80}, \"40\": {\"40\": 122}, \"45\": {\"45\": 124}, \"22\": {\"22\": 28}, \"42\": {\"42\": 38, \"56\": 1, \"2\": 1}, \"51\": {\"51\": 118}, \"31\": {\"31\": 36}}, \"C_1\": {\"27\": {\"27\": 142}, \"2\": {\"2\": 36}, \"33\": {\"33\": 32}, \"45\": {\"45\": 156}, \"38\": {\"38\": 24}, \"4\": {\"4\": 132}, \"31\": {\"31\": 28}, \"55\": {\"55\": 140}, \"32\": {\"32\": 32}, \"57\": {\"57\": 140}, \"14\": {\"14\": 24}, \"16\": {\"16\": 140}, \"34\": {\"34\": 24}, \"56\": {\"56\": 126}, \"24\": {\"24\": 108}, \"30\": {\"30\": 112}, \"17\": {\"17\": 64}, \"13\": {\"13\": 138}, \"39\": {\"39\": 28}, \"50\": {\"50\": 146}, \"20\": {\"20\": 140}, \"41\": {\"41\": 24}, \"53\": {\"53\": 126}, \"48\": {\"48\": 142}, \"36\": {\"36\": 64}, \"8\": {\"8\": 140}, \"15\": {\"15\": 132}, \"40\": {\"40\": 156}, \"37\": {\"37\": 32}, \"21\": {\"21\": 120}, \"35\": {\"35\": 36}, \"49\": {\"49\": 32}, \"26\": {\"26\": 24}, \"28\": {\"28\": 28}, \"12\": {\"12\": 116}, \"5\": {\"5\": 152}, \"29\": {\"29\": 140}, \"47\": {\"47\": 140}, \"10\": {\"10\": 96}, \"18\": {\"18\": 71, \"50\": 1}, \"9\": {\"9\": 126}, \"3\": {\"3\": 140}, \"52\": {\"52\": 132}, \"25\": {\"25\": 136}, \"19\": {\"19\": 156}, \"11\": {\"11\": 136}, \"7\": {\"7\": 28}, \"23\": {\"23\": 136}, \"44\": {\"44\": 132}, \"42\": {\"42\": 40}, \"54\": {\"54\": 104}, \"1\": {\"1\": 100}, \"46\": {\"46\": 128}, \"6\": {\"6\": 96}, \"43\": {\"43\": 144}, \"51\": {\"51\": 142}, \"22\": {\"22\": 136}, \"0\": {\"0\": 128}}, \"C_4\": {\"32\": {\"32\": 24}, \"2\": {\"2\": 36}, \"41\": {\"41\": 36}, \"11\": {\"11\": 102}, \"57\": {\"57\": 100}, \"6\": {\"6\": 112}, \"23\": {\"23\": 136}, \"52\": {\"52\": 116}, \"38\": {\"38\": 40}, \"50\": {\"50\": 132}, \"55\": {\"55\": 152}, \"46\": {\"46\": 154}, \"37\": {\"37\": 24}, \"20\": {\"20\": 118}, \"49\": {\"49\": 20}, \"45\": {\"45\": 96}, \"54\": {\"54\": 108}, \"3\": {\"3\": 124}, \"13\": {\"13\": 152}, \"18\": {\"18\": 108}, \"21\": {\"21\": 126}, \"43\": {\"43\": 144}, \"47\": {\"47\": 120}, \"4\": {\"4\": 132}, \"12\": {\"12\": 92}, \"9\": {\"9\": 128}, \"7\": {\"7\": 24}, \"56\": {\"56\": 112}, \"28\": {\"28\": 32}, \"44\": {\"44\": 132}, \"24\": {\"24\": 56}, \"33\": {\"33\": 36}, \"35\": {\"35\": 40}, \"51\": {\"51\": 138}, \"39\": {\"39\": 20}, \"36\": {\"36\": 91, \"12\": 1}, \"19\": {\"19\": 140}, \"0\": {\"0\": 79, \"46\": 1}, \"15\": {\"15\": 136}, \"29\": {\"29\": 122, \"57\": 2}, \"30\": {\"30\": 44}, \"1\": {\"1\": 40}, \"22\": {\"22\": 128}, \"40\": {\"40\": 146}, \"8\": {\"8\": 128}, \"53\": {\"53\": 138}, \"34\": {\"34\": 24}, \"10\": {\"10\": 122}, \"31\": {\"31\": 28}, \"17\": {\"17\": 80}, \"16\": {\"16\": 96}, \"42\": {\"42\": 32}, \"27\": {\"27\": 142}, \"14\": {\"14\": 16}, \"25\": {\"25\": 122}, \"48\": {\"48\": 132}, \"26\": {\"26\": 24}, \"5\": {\"5\": 108}}, \"C_3\": {\"14\": {\"14\": 40}, \"18\": {\"18\": 84}, \"30\": {\"30\": 120}, \"16\": {\"16\": 156}, \"1\": {\"1\": 100}, \"20\": {\"20\": 132}, \"7\": {\"7\": 36}, \"52\": {\"52\": 130}, \"9\": {\"9\": 140}, \"23\": {\"23\": 144}, \"55\": {\"55\": 164}, \"29\": {\"29\": 126}, \"56\": {\"56\": 134}, \"3\": {\"3\": 124}, \"42\": {\"42\": 28}, \"6\": {\"6\": 88}, \"5\": {\"5\": 116}, \"27\": {\"27\": 144}, \"47\": {\"47\": 92}, \"39\": {\"39\": 16}, \"34\": {\"34\": 32}, \"4\": {\"4\": 126}, \"24\": {\"24\": 104}, \"46\": {\"46\": 118}, \"50\": {\"50\": 126}, \"38\": {\"38\": 28}, \"54\": {\"54\": 100}, \"35\": {\"35\": 28}, \"2\": {\"2\": 32}, \"41\": {\"41\": 28}, \"57\": {\"57\": 118}, \"25\": {\"25\": 150}, \"48\": {\"48\": 116}, \"33\": {\"33\": 28}, \"45\": {\"45\": 60}, \"13\": {\"13\": 126}, \"36\": {\"36\": 100}, \"43\": {\"43\": 132}, \"28\": {\"28\": 28}, \"0\": {\"0\": 124}, \"12\": {\"12\": 92}, \"31\": {\"31\": 28}, \"40\": {\"40\": 116}, \"44\": {\"44\": 87, \"40\": 1}, \"32\": {\"32\": 28}, \"26\": {\"26\": 24}, \"8\": {\"8\": 116}, \"10\": {\"10\": 64}, \"15\": {\"15\": 142}, \"21\": {\"21\": 128}, \"37\": {\"37\": 28}, \"17\": {\"17\": 108}, \"51\": {\"51\": 124}, \"53\": {\"53\": 144}, \"19\": {\"19\": 136}, \"49\": {\"49\": 20}, \"11\": {\"11\": 138}, \"22\": {\"22\": 130}}, \"O_8\": {\"13\": {\"6\": 21, \"4\": 24, \"10\": 44, \"0\": 30, \"7\": 19, \"3\": 4, \"8\": 8, \"5\": 16, \"14\": 24, \"1\": 8, \"13\": 28, \"11\": 8, \"2\": 3, \"12\": 1, \"15\": 2}, \"9\": {\"9\": 176, \"14\": 4, \"10\": 22, \"5\": 23, \"13\": 7, \"1\": 3, \"0\": 2, \"6\": 2, \"11\": 1}, \"15\": {\"15\": 53, \"0\": 8, \"7\": 17, \"6\": 17, \"12\": 41, \"3\": 34, \"4\": 9, \"8\": 22, \"14\": 7, \"10\": 2, \"11\": 4, \"13\": 10, \"2\": 9, \"1\": 7}, \"2\": {\"15\": 25, \"13\": 7, \"2\": 55, \"8\": 7, \"3\": 52, \"12\": 41, \"0\": 18, \"7\": 22, \"14\": 3, \"6\": 8, \"4\": 2}, \"3\": {\"12\": 52, \"3\": 64, \"8\": 10, \"15\": 30, \"6\": 15, \"2\": 47, \"13\": 2, \"0\": 5, \"7\": 13, \"1\": 1, \"14\": 1}, \"8\": {\"12\": 32, \"14\": 17, \"6\": 14, \"8\": 38, \"7\": 14, \"15\": 21, \"4\": 18, \"3\": 9, \"1\": 19, \"2\": 6, \"10\": 17, \"11\": 13, \"0\": 8, \"13\": 13, \"5\": 1}, \"5\": {\"10\": 28, \"5\": 51, \"14\": 31, \"1\": 39, \"4\": 16, \"6\": 14, \"11\": 20, \"13\": 19, \"9\": 4, \"8\": 8, \"0\": 6, \"7\": 4}, \"14\": {\"0\": 21, \"4\": 32, \"14\": 31, \"6\": 14, \"10\": 28, \"13\": 30, \"7\": 18, \"1\": 15, \"11\": 25, \"5\": 19, \"12\": 1, \"8\": 4, \"15\": 1, \"2\": 1}, \"1\": {\"5\": 28, \"13\": 15, \"4\": 11, \"14\": 24, \"8\": 12, \"6\": 18, \"11\": 48, \"10\": 22, \"1\": 48, \"0\": 6, \"15\": 5, \"7\": 3}, \"0\": {\"7\": 25, \"0\": 40, \"6\": 34, \"14\": 24, \"10\": 26, \"2\": 8, \"4\": 27, \"3\": 7, \"5\": 3, \"13\": 24, \"8\": 7, \"15\": 9, \"12\": 2, \"11\": 1, \"1\": 3}, \"10\": {\"10\": 41, \"4\": 26, \"14\": 30, \"13\": 26, \"5\": 22, \"6\": 23, \"3\": 2, \"1\": 20, \"0\": 17, \"11\": 9, \"7\": 19, \"9\": 1, \"8\": 3, \"15\": 1}, \"6\": {\"1\": 17, \"8\": 14, \"14\": 21, \"3\": 6, \"6\": 26, \"4\": 28, \"7\": 22, \"11\": 3, \"10\": 17, \"0\": 25, \"13\": 29, \"15\": 15, \"12\": 7, \"5\": 7, \"2\": 3}, \"11\": {\"0\": 6, \"5\": 29, \"10\": 21, \"11\": 56, \"1\": 45, \"4\": 13, \"14\": 24, \"13\": 10, \"15\": 3, \"6\": 15, \"8\": 13, \"12\": 2, \"7\": 3}, \"7\": {\"15\": 24, \"13\": 18, \"8\": 19, \"0\": 35, \"6\": 26, \"14\": 13, \"7\": 27, \"4\": 30, \"1\": 4, \"10\": 10, \"11\": 3, \"12\": 7, \"2\": 9, \"5\": 5, \"3\": 10}, \"4\": {\"7\": 25, \"4\": 25, \"0\": 25, \"11\": 11, \"13\": 35, \"2\": 3, \"15\": 6, \"5\": 8, \"1\": 13, \"10\": 25, \"14\": 25, \"6\": 22, \"8\": 16, \"3\": 1}, \"12\": {\"2\": 19, \"15\": 48, \"12\": 70, \"3\": 29, \"7\": 10, \"0\": 4, \"8\": 32, \"11\": 4, \"10\": 3, \"4\": 5, \"13\": 4, \"6\": 8, \"1\": 2, \"14\": 2}}, \"O_38\": {\"13\": {\"2\": 14, \"10\": 31, \"13\": 65, \"0\": 8, \"15\": 41, \"14\": 5, \"1\": 30, \"8\": 24, \"7\": 5, \"5\": 13, \"11\": 1, \"6\": 2, \"9\": 1}, \"12\": {\"4\": 50, \"12\": 134, \"10\": 20, \"11\": 5, \"0\": 6, \"14\": 21, \"13\": 2, \"2\": 1, \"7\": 1}, \"2\": {\"10\": 33, \"2\": 81, \"13\": 34, \"14\": 43, \"15\": 29, \"12\": 1, \"11\": 3, \"1\": 6, \"5\": 4, \"8\": 6}, \"9\": {\"6\": 81, \"9\": 87, \"5\": 21, \"1\": 10, \"3\": 20, \"13\": 1, \"7\": 10, \"8\": 6, \"0\": 3, \"15\": 1}, \"15\": {\"15\": 67, \"1\": 41, \"2\": 17, \"0\": 9, \"5\": 16, \"8\": 23, \"13\": 51, \"7\": 2, \"10\": 8, \"6\": 3, \"14\": 2, \"9\": 1}, \"5\": {\"15\": 20, \"5\": 39, \"6\": 29, \"13\": 17, \"9\": 22, \"0\": 21, \"7\": 35, \"10\": 6, \"8\": 38, \"3\": 5, \"1\": 8}, \"14\": {\"11\": 35, \"12\": 14, \"14\": 124, \"13\": 3, \"10\": 26, \"2\": 37, \"15\": 1}, \"0\": {\"0\": 70, \"3\": 29, \"7\": 37, \"8\": 31, \"9\": 7, \"10\": 19, \"5\": 16, \"13\": 8, \"6\": 6, \"15\": 5, \"12\": 5, \"4\": 6, \"1\": 1}, \"3\": {\"3\": 141, \"5\": 10, \"9\": 24, \"0\": 31, \"8\": 4, \"7\": 23, \"6\": 4, \"13\": 2, \"1\": 1}, \"1\": {\"6\": 27, \"1\": 92, \"15\": 48, \"9\": 3, \"13\": 28, \"7\": 2, \"0\": 2, \"10\": 1, \"5\": 18, \"2\": 4, \"8\": 15}, \"11\": {\"12\": 13, \"14\": 65, \"11\": 143, \"2\": 8, \"13\": 2, \"4\": 3, \"10\": 6}, \"7\": {\"5\": 37, \"0\": 51, \"8\": 30, \"7\": 74, \"12\": 1, \"4\": 1, \"9\": 10, \"3\": 13, \"6\": 4, \"15\": 3, \"10\": 15, \"13\": 1}, \"8\": {\"12\": 2, \"9\": 9, \"15\": 22, \"1\": 9, \"8\": 41, \"13\": 15, \"7\": 31, \"0\": 30, \"5\": 40, \"10\": 27, \"6\": 9, \"2\": 2, \"3\": 3}, \"4\": {\"4\": 154, \"12\": 65, \"8\": 2, \"10\": 7, \"2\": 1, \"14\": 2, \"0\": 3, \"7\": 5, \"11\": 1}, \"10\": {\"12\": 19, \"10\": 73, \"15\": 19, \"7\": 8, \"0\": 14, \"2\": 18, \"8\": 27, \"14\": 17, \"13\": 26, \"5\": 8, \"4\": 3, \"1\": 2, \"11\": 5, \"6\": 1}, \"6\": {\"9\": 54, \"5\": 31, \"6\": 97, \"8\": 11, \"0\": 3, \"7\": 2, \"1\": 32, \"10\": 1, \"3\": 3, \"15\": 4, \"13\": 2}}, \"O_26\": {\"10\": {\"10\": 40, \"1\": 17, \"4\": 17, \"5\": 8, \"0\": 25, \"8\": 20, \"14\": 26, \"15\": 13, \"6\": 20, \"3\": 8, \"7\": 16, \"9\": 16, \"13\": 4, \"2\": 9, \"12\": 1}, \"12\": {\"12\": 116, \"6\": 30, \"13\": 7, \"14\": 7, \"10\": 8, \"11\": 30, \"4\": 4, \"0\": 12, \"7\": 1, \"15\": 7, \"5\": 5, \"8\": 4, \"9\": 8, \"2\": 1}, \"1\": {\"14\": 24, \"7\": 28, \"3\": 8, \"1\": 49, \"6\": 11, \"4\": 29, \"15\": 4, \"8\": 19, \"0\": 32, \"10\": 20, \"2\": 11, \"9\": 4, \"5\": 1}, \"0\": {\"2\": 8, \"4\": 25, \"7\": 15, \"3\": 11, \"6\": 23, \"0\": 37, \"1\": 22, \"8\": 12, \"10\": 29, \"14\": 31, \"15\": 9, \"5\": 5, \"9\": 10, \"13\": 3}, \"15\": {\"8\": 24, \"6\": 21, \"10\": 16, \"5\": 20, \"3\": 7, \"4\": 9, \"14\": 11, \"9\": 18, \"7\": 22, \"2\": 15, \"13\": 25, \"15\": 28, \"0\": 16, \"1\": 7, \"12\": 1}, \"13\": {\"13\": 49, \"8\": 15, \"5\": 43, \"15\": 27, \"9\": 29, \"10\": 4, \"6\": 14, \"2\": 22, \"14\": 3, \"7\": 8, \"3\": 12, \"11\": 7, \"4\": 3, \"12\": 2, \"0\": 2}, \"8\": {\"2\": 18, \"4\": 22, \"10\": 17, \"6\": 22, \"8\": 23, \"15\": 17, \"14\": 20, \"7\": 25, \"9\": 11, \"1\": 18, \"3\": 13, \"0\": 19, \"5\": 9, \"13\": 6}, \"3\": {\"9\": 17, \"5\": 22, \"3\": 45, \"10\": 11, \"1\": 11, \"2\": 32, \"14\": 14, \"15\": 14, \"4\": 14, \"8\": 10, \"7\": 31, \"13\": 11, \"0\": 7, \"6\": 1}, \"11\": {\"13\": 17, \"12\": 49, \"11\": 148, \"5\": 5, \"6\": 10, \"10\": 1, \"15\": 8, \"14\": 1, \"9\": 1}, \"4\": {\"4\": 27, \"1\": 22, \"2\": 12, \"14\": 22, \"0\": 23, \"8\": 17, \"7\": 29, \"3\": 16, \"10\": 27, \"15\": 8, \"9\": 12, \"6\": 8, \"5\": 15, \"13\": 2}, \"6\": {\"12\": 12, \"15\": 29, \"6\": 29, \"5\": 13, \"2\": 11, \"10\": 21, \"14\": 11, \"13\": 16, \"8\": 15, \"4\": 12, \"1\": 10, \"9\": 23, \"0\": 19, \"3\": 4, \"7\": 12, \"11\": 3}, \"7\": {\"6\": 8, \"1\": 32, \"8\": 19, \"0\": 16, \"4\": 22, \"14\": 21, \"15\": 11, \"7\": 25, \"9\": 22, \"13\": 5, \"2\": 18, \"5\": 7, \"10\": 17, \"3\": 17}, \"14\": {\"1\": 31, \"8\": 19, \"0\": 30, \"12\": 1, \"4\": 26, \"3\": 10, \"14\": 26, \"10\": 27, \"6\": 11, \"15\": 8, \"9\": 8, \"13\": 6, \"7\": 24, \"2\": 9, \"5\": 4}, \"2\": {\"3\": 32, \"2\": 36, \"1\": 11, \"5\": 28, \"15\": 21, \"14\": 10, \"6\": 8, \"7\": 18, \"4\": 14, \"0\": 8, \"13\": 13, \"9\": 15, \"8\": 15, \"10\": 11}, \"5\": {\"15\": 13, \"2\": 35, \"8\": 18, \"4\": 6, \"5\": 35, \"13\": 45, \"3\": 12, \"6\": 16, \"7\": 14, \"9\": 21, \"1\": 4, \"10\": 8, \"14\": 8, \"0\": 3, \"12\": 2}, \"9\": {\"13\": 27, \"5\": 21, \"4\": 5, \"6\": 28, \"0\": 9, \"15\": 29, \"14\": 13, \"7\": 9, \"3\": 11, \"8\": 12, \"1\": 6, \"2\": 17, \"9\": 41, \"10\": 12}}, \"O_20\": {\"5\": {\"12\": 31, \"5\": 30, \"4\": 16, \"13\": 19, \"7\": 12, \"2\": 12, \"1\": 25, \"0\": 27, \"8\": 11, \"3\": 19, \"9\": 14, \"15\": 14, \"14\": 1, \"6\": 3, \"10\": 6}, \"15\": {\"9\": 21, \"13\": 34, \"11\": 1, \"1\": 30, \"7\": 13, \"0\": 31, \"5\": 22, \"15\": 26, \"12\": 23, \"4\": 6, \"3\": 8, \"2\": 17, \"8\": 5, \"10\": 3}, \"9\": {\"7\": 19, \"15\": 8, \"9\": 24, \"8\": 14, \"6\": 4, \"3\": 22, \"4\": 13, \"12\": 20, \"2\": 22, \"0\": 14, \"10\": 3, \"5\": 20, \"1\": 18, \"11\": 6, \"13\": 30, \"14\": 3}, \"7\": {\"8\": 20, \"14\": 9, \"7\": 22, \"9\": 20, \"12\": 17, \"1\": 18, \"4\": 21, \"3\": 26, \"2\": 12, \"5\": 15, \"10\": 9, \"13\": 14, \"6\": 13, \"0\": 12, \"15\": 5, \"11\": 7}, \"3\": {\"13\": 16, \"0\": 12, \"8\": 12, \"9\": 17, \"3\": 20, \"10\": 18, \"11\": 2, \"6\": 6, \"4\": 21, \"14\": 7, \"2\": 23, \"5\": 21, \"7\": 15, \"1\": 14, \"15\": 14, \"12\": 22}, \"8\": {\"12\": 9, \"10\": 15, \"8\": 39, \"14\": 23, \"7\": 14, \"3\": 20, \"4\": 28, \"6\": 21, \"5\": 12, \"9\": 12, \"2\": 17, \"1\": 8, \"0\": 9, \"15\": 4, \"13\": 8, \"11\": 1}, \"4\": {\"12\": 11, \"10\": 32, \"4\": 32, \"0\": 12, \"8\": 27, \"3\": 20, \"2\": 8, \"9\": 18, \"7\": 19, \"14\": 9, \"1\": 9, \"6\": 15, \"5\": 13, \"13\": 10, \"15\": 4, \"11\": 1}, \"6\": {\"9\": 17, \"6\": 36, \"1\": 2, \"4\": 15, \"12\": 6, \"14\": 44, \"3\": 6, \"13\": 3, \"8\": 29, \"0\": 6, \"2\": 13, \"7\": 25, \"10\": 23, \"11\": 11, \"5\": 3, \"15\": 1}, \"2\": {\"3\": 25, \"13\": 29, \"4\": 11, \"1\": 15, \"5\": 18, \"2\": 25, \"9\": 19, \"12\": 25, \"15\": 11, \"0\": 12, \"7\": 17, \"8\": 14, \"10\": 5, \"11\": 7, \"6\": 5, \"14\": 2}, \"12\": {\"7\": 16, \"13\": 14, \"4\": 14, \"8\": 9, \"0\": 16, \"12\": 19, \"9\": 24, \"3\": 26, \"15\": 21, \"5\": 26, \"2\": 12, \"1\": 25, \"11\": 1, \"10\": 15, \"14\": 2}, \"0\": {\"5\": 28, \"9\": 17, \"0\": 34, \"12\": 22, \"3\": 10, \"15\": 22, \"13\": 19, \"1\": 16, \"8\": 19, \"4\": 12, \"7\": 8, \"11\": 4, \"2\": 22, \"6\": 3, \"14\": 1, \"10\": 3}, \"13\": {\"12\": 23, \"9\": 19, \"5\": 17, \"7\": 15, \"13\": 32, \"2\": 32, \"0\": 24, \"1\": 26, \"15\": 16, \"11\": 9, \"3\": 12, \"8\": 3, \"10\": 2, \"6\": 6, \"4\": 4}, \"10\": {\"13\": 4, \"12\": 13, \"4\": 26, \"3\": 23, \"14\": 33, \"10\": 57, \"7\": 13, \"2\": 10, \"5\": 4, \"9\": 6, \"6\": 20, \"8\": 22, \"11\": 1, \"0\": 1, \"1\": 7}, \"11\": {\"2\": 24, \"12\": 6, \"11\": 87, \"6\": 24, \"7\": 23, \"9\": 17, \"14\": 7, \"8\": 12, \"13\": 23, \"3\": 3, \"4\": 3, \"10\": 3, \"5\": 2, \"1\": 1, \"0\": 4, \"15\": 1}, \"14\": {\"14\": 49, \"7\": 22, \"4\": 24, \"6\": 30, \"10\": 28, \"3\": 10, \"5\": 6, \"0\": 9, \"8\": 37, \"13\": 3, \"9\": 6, \"15\": 1, \"1\": 5, \"12\": 2, \"2\": 6, \"11\": 2}, \"1\": {\"13\": 10, \"7\": 14, \"5\": 22, \"0\": 29, \"12\": 33, \"3\": 22, \"2\": 15, \"1\": 30, \"11\": 2, \"15\": 19, \"4\": 11, \"9\": 13, \"14\": 3, \"8\": 10, \"6\": 2, \"10\": 5}}, \"O_50\": {\"1\": {\"2\": 5, \"6\": 23, \"15\": 40, \"1\": 60, \"14\": 8, \"11\": 21, \"12\": 6, \"4\": 31, \"7\": 4, \"13\": 16, \"0\": 5, \"5\": 9, \"9\": 7, \"10\": 5}, \"2\": {\"2\": 101, \"0\": 57, \"10\": 17, \"8\": 9, \"7\": 3, \"1\": 10, \"13\": 6, \"14\": 25, \"4\": 4, \"5\": 3, \"6\": 4, \"12\": 1}, \"8\": {\"8\": 109, \"3\": 44, \"10\": 41, \"2\": 3, \"13\": 8, \"7\": 10, \"0\": 23, \"5\": 2}, \"7\": {\"1\": 7, \"5\": 36, \"8\": 3, \"7\": 75, \"13\": 50, \"10\": 20, \"4\": 14, \"6\": 27, \"15\": 3, \"0\": 4, \"3\": 1}, \"14\": {\"14\": 78, \"9\": 25, \"2\": 19, \"12\": 52, \"11\": 28, \"1\": 21, \"15\": 6, \"4\": 3, \"6\": 2, \"0\": 5, \"5\": 1}, \"6\": {\"7\": 32, \"6\": 44, \"10\": 8, \"4\": 18, \"5\": 28, \"13\": 25, \"1\": 35, \"14\": 1, \"11\": 8, \"15\": 29, \"0\": 8, \"8\": 3, \"2\": 1}, \"3\": {\"3\": 138, \"10\": 16, \"8\": 74, \"7\": 6, \"5\": 4, \"13\": 2}, \"4\": {\"4\": 45, \"7\": 19, \"12\": 3, \"9\": 3, \"10\": 6, \"1\": 36, \"6\": 19, \"15\": 36, \"5\": 19, \"13\": 24, \"0\": 7, \"11\": 15, \"14\": 5, \"8\": 1, \"2\": 2}, \"12\": {\"9\": 55, \"12\": 83, \"11\": 34, \"14\": 62, \"2\": 1, \"1\": 3, \"0\": 1, \"4\": 1}, \"15\": {\"4\": 47, \"15\": 60, \"7\": 4, \"5\": 11, \"9\": 10, \"6\": 32, \"11\": 21, \"13\": 7, \"1\": 36, \"0\": 3, \"14\": 5, \"2\": 1, \"10\": 1, \"12\": 2}, \"11\": {\"11\": 81, \"15\": 25, \"6\": 7, \"9\": 45, \"14\": 31, \"12\": 18, \"1\": 16, \"5\": 1, \"4\": 15, \"2\": 1}, \"0\": {\"6\": 10, \"2\": 40, \"0\": 84, \"10\": 49, \"8\": 18, \"5\": 5, \"14\": 6, \"7\": 5, \"13\": 17, \"1\": 5, \"15\": 1}, \"9\": {\"9\": 100, \"14\": 20, \"6\": 1, \"11\": 63, \"12\": 40, \"15\": 7, \"1\": 5, \"4\": 3, \"0\": 1}, \"10\": {\"10\": 60, \"5\": 18, \"0\": 29, \"8\": 42, \"7\": 21, \"4\": 7, \"2\": 11, \"13\": 31, \"1\": 6, \"6\": 9, \"3\": 6}, \"5\": {\"15\": 19, \"4\": 28, \"7\": 37, \"13\": 35, \"2\": 3, \"10\": 13, \"3\": 2, \"5\": 36, \"1\": 21, \"6\": 29, \"0\": 12, \"8\": 5}, \"13\": {\"7\": 28, \"4\": 24, \"10\": 33, \"0\": 9, \"1\": 14, \"6\": 26, \"5\": 36, \"15\": 12, \"13\": 41, \"8\": 9, \"3\": 2, \"11\": 2, \"2\": 4}}, \"O_32\": {\"2\": {\"2\": 63, \"0\": 36, \"7\": 31, \"14\": 16, \"4\": 53, \"5\": 12, \"13\": 13, \"8\": 7, \"11\": 8, \"3\": 1}, \"6\": {\"6\": 183, \"10\": 12, \"12\": 41, \"1\": 2, \"9\": 2}, \"5\": {\"3\": 19, \"5\": 45, \"0\": 12, \"13\": 40, \"7\": 24, \"14\": 20, \"2\": 16, \"11\": 16, \"8\": 19, \"4\": 29}, \"12\": {\"12\": 176, \"9\": 35, \"6\": 25, \"10\": 4}, \"13\": {\"5\": 28, \"3\": 24, \"11\": 11, \"13\": 38, \"0\": 18, \"7\": 33, \"4\": 32, \"14\": 16, \"2\": 10, \"8\": 30}, \"9\": {\"12\": 49, \"9\": 166, \"2\": 13, \"7\": 2, \"0\": 5, \"14\": 1, \"6\": 1, \"4\": 2, \"13\": 1}, \"11\": {\"5\": 27, \"11\": 63, \"13\": 14, \"7\": 38, \"0\": 13, \"4\": 9, \"14\": 53, \"3\": 13, \"8\": 8, \"2\": 2}, \"1\": {\"10\": 83, \"1\": 156, \"6\": 1}, \"3\": {\"5\": 27, \"8\": 47, \"3\": 89, \"4\": 5, \"13\": 27, \"14\": 12, \"15\": 11, \"11\": 12, \"0\": 2, \"7\": 8}, \"7\": {\"14\": 27, \"0\": 20, \"4\": 35, \"13\": 24, \"5\": 29, \"2\": 21, \"11\": 24, \"8\": 18, \"3\": 12, \"7\": 30}, \"14\": {\"14\": 52, \"0\": 21, \"7\": 28, \"8\": 17, \"4\": 22, \"3\": 9, \"5\": 16, \"11\": 49, \"2\": 11, \"13\": 15}, \"8\": {\"13\": 34, \"8\": 50, \"11\": 16, \"4\": 12, \"14\": 17, \"0\": 21, \"5\": 38, \"7\": 14, \"15\": 3, \"3\": 30, \"2\": 5}, \"4\": {\"5\": 27, \"7\": 26, \"13\": 24, \"8\": 15, \"4\": 44, \"2\": 41, \"0\": 28, \"3\": 5, \"14\": 15, \"11\": 15}, \"0\": {\"4\": 23, \"14\": 21, \"13\": 25, \"0\": 59, \"7\": 33, \"11\": 12, \"2\": 21, \"5\": 19, \"8\": 23, \"3\": 3, \"9\": 1}, \"10\": {\"10\": 149, \"1\": 76, \"6\": 8, \"12\": 7}, \"15\": {\"15\": 187, \"5\": 2, \"8\": 12, \"0\": 1, \"3\": 32, \"13\": 6}}, \"O_44\": {\"13\": {\"13\": 71, \"9\": 39, \"7\": 29, \"6\": 43, \"2\": 14, \"12\": 2, \"11\": 31, \"10\": 2, \"14\": 5, \"4\": 4}, \"4\": {\"3\": 1, \"4\": 101, \"14\": 54, \"15\": 27, \"5\": 27, \"0\": 9, \"9\": 8, \"13\": 5, \"8\": 7, \"7\": 1}, \"6\": {\"13\": 50, \"6\": 75, \"11\": 29, \"12\": 1, \"7\": 21, \"1\": 4, \"9\": 37, \"10\": 5, \"2\": 16, \"3\": 1, \"4\": 1}, \"0\": {\"0\": 79, \"15\": 44, \"8\": 56, \"14\": 14, \"5\": 41, \"4\": 6}, \"10\": {\"10\": 76, \"1\": 41, \"12\": 31, \"2\": 43, \"3\": 6, \"7\": 23, \"9\": 10, \"6\": 5, \"13\": 5}, \"7\": {\"9\": 37, \"1\": 13, \"6\": 38, \"3\": 12, \"2\": 39, \"7\": 49, \"11\": 4, \"10\": 19, \"13\": 18, \"12\": 11}, \"14\": {\"14\": 84, \"13\": 3, \"15\": 35, \"5\": 31, \"4\": 50, \"8\": 11, \"0\": 21, \"3\": 2, \"9\": 3}, \"15\": {\"15\": 69, \"8\": 38, \"14\": 40, \"5\": 35, \"0\": 47, \"4\": 11}, \"5\": {\"0\": 42, \"5\": 71, \"15\": 36, \"9\": 1, \"14\": 39, \"8\": 29, \"4\": 22}, \"2\": {\"10\": 49, \"12\": 20, \"2\": 49, \"1\": 28, \"6\": 15, \"7\": 34, \"9\": 26, \"11\": 3, \"13\": 11, \"3\": 5}, \"9\": {\"2\": 29, \"3\": 9, \"7\": 50, \"12\": 3, \"6\": 30, \"9\": 53, \"10\": 6, \"14\": 2, \"13\": 37, \"4\": 5, \"1\": 6, \"15\": 1, \"11\": 9}, \"12\": {\"12\": 74, \"3\": 43, \"10\": 46, \"7\": 7, \"1\": 56, \"2\": 9, \"6\": 1, \"9\": 4}, \"8\": {\"0\": 64, \"8\": 90, \"4\": 3, \"5\": 37, \"15\": 38, \"14\": 8}, \"3\": {\"12\": 30, \"3\": 106, \"7\": 16, \"1\": 53, \"10\": 13, \"2\": 13, \"9\": 8, \"4\": 1}, \"1\": {\"12\": 56, \"3\": 45, \"7\": 16, \"9\": 8, \"1\": 52, \"13\": 2, \"10\": 32, \"2\": 29}, \"11\": {\"2\": 8, \"9\": 21, \"11\": 95, \"6\": 42, \"13\": 51, \"10\": 5, \"7\": 14, \"3\": 1, \"4\": 3}}, \"O_14\": {\"1\": {\"5\": 39, \"1\": 51, \"13\": 5, \"4\": 50, \"14\": 4, \"7\": 16, \"3\": 32, \"2\": 18, \"8\": 17, \"15\": 2, \"10\": 2, \"6\": 2, \"0\": 2}, \"15\": {\"7\": 65, \"5\": 18, \"4\": 10, \"3\": 1, \"15\": 97, \"2\": 19, \"13\": 14, \"1\": 5, \"6\": 8, \"14\": 3}, \"10\": {\"0\": 53, \"4\": 18, \"14\": 18, \"10\": 54, \"13\": 9, \"6\": 7, \"3\": 35, \"9\": 6, \"1\": 10, \"2\": 7, \"11\": 16, \"5\": 3, \"15\": 2, \"8\": 1, \"12\": 1}, \"2\": {\"11\": 3, \"2\": 45, \"10\": 7, \"6\": 21, \"3\": 28, \"4\": 18, \"13\": 23, \"1\": 11, \"14\": 34, \"7\": 7, \"5\": 30, \"0\": 9, \"15\": 4}, \"9\": {\"9\": 96, \"8\": 12, \"10\": 10, \"11\": 43, \"12\": 52, \"0\": 22, \"1\": 3, \"7\": 1, \"3\": 1}, \"5\": {\"1\": 31, \"2\": 31, \"6\": 13, \"5\": 39, \"15\": 9, \"3\": 26, \"13\": 19, \"4\": 36, \"14\": 13, \"7\": 18, \"8\": 4, \"0\": 1}, \"7\": {\"2\": 14, \"5\": 22, \"4\": 22, \"7\": 84, \"6\": 4, \"15\": 56, \"1\": 21, \"14\": 2, \"13\": 10, \"3\": 5}, \"13\": {\"13\": 60, \"6\": 55, \"2\": 31, \"14\": 34, \"10\": 10, \"5\": 15, \"3\": 11, \"7\": 4, \"4\": 10, \"0\": 2, \"15\": 6, \"1\": 2}, \"8\": {\"11\": 6, \"8\": 111, \"3\": 13, \"9\": 28, \"1\": 36, \"14\": 2, \"5\": 3, \"0\": 20, \"4\": 15, \"7\": 2, \"15\": 1, \"10\": 2, \"12\": 1}, \"6\": {\"2\": 41, \"3\": 15, \"6\": 52, \"4\": 14, \"13\": 35, \"0\": 3, \"10\": 8, \"14\": 41, \"15\": 13, \"5\": 9, \"1\": 7, \"7\": 2}, \"3\": {\"1\": 22, \"4\": 30, \"10\": 27, \"14\": 19, \"2\": 25, \"6\": 11, \"0\": 29, \"3\": 34, \"5\": 19, \"11\": 8, \"13\": 11, \"7\": 3, \"15\": 1, \"8\": 1}, \"12\": {\"9\": 72, \"12\": 128, \"11\": 33, \"8\": 4, \"10\": 1, \"0\": 2}, \"0\": {\"7\": 2, \"11\": 36, \"10\": 41, \"4\": 13, \"0\": 63, \"3\": 36, \"9\": 16, \"14\": 5, \"2\": 10, \"1\": 6, \"8\": 4, \"13\": 3, \"6\": 1, \"5\": 3, \"12\": 1}, \"4\": {\"3\": 39, \"4\": 37, \"0\": 21, \"7\": 6, \"2\": 25, \"13\": 16, \"6\": 12, \"1\": 24, \"5\": 40, \"14\": 5, \"10\": 8, \"8\": 2, \"15\": 4, \"9\": 1}, \"14\": {\"5\": 15, \"14\": 50, \"2\": 39, \"13\": 23, \"10\": 14, \"15\": 1, \"4\": 20, \"6\": 43, \"0\": 7, \"1\": 1, \"3\": 24, \"11\": 3}, \"11\": {\"9\": 46, \"11\": 77, \"14\": 8, \"0\": 49, \"10\": 14, \"8\": 3, \"12\": 17, \"3\": 16, \"4\": 3, \"2\": 3, \"1\": 2, \"6\": 2}}}, \"per_domain_accuracy\": {\"W_2\": {\"accuracy\": 0.9648109243697479, \"source?\": true}, \"C_2\": {\"accuracy\": 1.0, \"source?\": true}, \"W_4\": {\"accuracy\": 0.9643775720164609, \"source?\": true}, \"W_1\": {\"accuracy\": 0.9844414893617022, \"source?\": true}, \"W_3\": {\"accuracy\": 0.9840308370044053, \"source?\": true}, \"C_5\": {\"accuracy\": 0.9994733146067416, \"source?\": true}, \"C_1\": {\"accuracy\": 0.9998282967032966, \"source?\": true}, \"C_4\": {\"accuracy\": 0.999251497005988, \"source?\": true}, \"C_3\": {\"accuracy\": 0.9998172514619883, \"source?\": true}, \"O_8\": {\"accuracy\": 0.21588541666666666, \"source?\": false}, \"O_38\": {\"accuracy\": 0.3859375, \"source?\": false}, \"O_26\": {\"accuracy\": 0.19635416666666666, \"source?\": false}, \"O_20\": {\"accuracy\": 0.14635416666666667, \"source?\": false}, \"O_50\": {\"accuracy\": 0.3111979166666667, \"source?\": false}, \"O_32\": {\"accuracy\": 0.4036458333333333, \"source?\": false}, \"O_44\": {\"accuracy\": 0.3109375, \"source?\": false}, \"O_14\": {\"accuracy\": 0.28072916666666664, \"source?\": false}}}, \"history\": {\"epoch_indices\": [1, 2, 3, 4, 5, 6, 7, 8], \"train_label_loss\": [0.12302261464896763, 0.07108730646607257, 0.05763684625078119, 0.04811605492917254, 0.04116253953223176, 0.03510212974766414, 0.028876691372221167, 0.02395957317874866], \"source_val_label_loss\": [0.10457805544137955, 0.06890513747930527, 0.06142520532011986, 0.060413531959056854, 0.05869458243250847, 0.06170663610100746, 0.061937060207128525, 0.06916437298059464], \"target_val_label_loss\": [2.319977283477783, 2.2485225200653076, 2.3503923416137695, 2.1585745811462402, 2.24241042137146, 2.1759228706359863, 2.5648443698883057, 2.3979430198669434], \"source_val_acc_label\": [0.9774869290038525, 0.9845383874518437, 0.9861378646119978, 0.9864646395156852, 0.9870665932856356, 0.9865850302696753, 0.9863786461199779, 0.9865334342322509], \"target_val_acc_label\": [0.24029947916666666, 0.2630208333333333, 0.2330078125, 0.2813802083333333, 0.25611979166666665, 0.2687174479166667, 0.2154296875, 0.22942708333333334]}, \"dataset_metrics\": {\"source\": {\"train\": {\"n_unique_x\": 364214, \"n_unique_y\": 130, \"n_batch/episode\": 13175}, \"val\": {\"n_unique_x\": 77154, \"n_unique_y\": 130, \"n_batch/episode\": 1817}, \"test\": {\"n_unique_x\": 78411, \"n_unique_y\": 130, \"n_batch/episode\": 1853}}, \"target\": {\"train\": {\"n_unique_x\": 179200, \"n_unique_y\": 16, \"n_batch/episode\": 6720}, \"val\": {\"n_unique_x\": 38400, \"n_unique_y\": 16, \"n_batch/episode\": 960}, \"test\": {\"n_unique_x\": 38400, \"n_unique_y\": 16, \"n_batch/episode\": 960}}}}'"
      ]
     },
     "execution_count": 29,
     "metadata": {},
     "output_type": "execute_result"
    }
   ],
   "source": [
    "json.dumps(experiment)"
   ]
  }
 ],
 "metadata": {
  "celltoolbar": "Tags",
  "kernelspec": {
   "display_name": "Python 3 (ipykernel)",
   "language": "python",
   "name": "python3"
  },
  "language_info": {
   "codemirror_mode": {
    "name": "ipython",
    "version": 3
   },
   "file_extension": ".py",
   "mimetype": "text/x-python",
   "name": "python",
   "nbconvert_exporter": "python",
   "pygments_lexer": "ipython3",
   "version": "3.8.10"
  },
  "papermill": {
   "default_parameters": {},
   "duration": 5228.054826,
   "end_time": "2022-03-20T14:57:48.526402",
   "environment_variables": {},
   "exception": null,
   "input_path": "/mnt/wd500GB/CSC500/csc500-main/csc500-notebooks/templates/tl_ptn_template.ipynb",
   "output_path": "trial.ipynb",
   "parameters": {
    "parameters": {
     "BEST_MODEL_PATH": "./best_model.pth",
     "NUM_LOGS_PER_EPOCH": 10,
     "criteria_for_best": "target_accuracy",
     "dataset_seed": 154325,
     "datasets": [
      {
       "domain_prefix": "C_",
       "domains": [
        1,
        2,
        3,
        4,
        5
       ],
       "episode_transforms": [],
       "labels": [
        "1-10.",
        "1-11.",
        "1-15.",
        "1-16.",
        "1-17.",
        "1-18.",
        "1-19.",
        "10-4.",
        "10-7.",
        "11-1.",
        "11-14.",
        "11-17.",
        "11-20.",
        "11-7.",
        "13-20.",
        "13-8.",
        "14-10.",
        "14-11.",
        "14-14.",
        "14-7.",
        "15-1.",
        "15-20.",
        "16-1.",
        "16-16.",
        "17-10.",
        "17-11.",
        "17-2.",
        "19-1.",
        "19-16.",
        "19-19.",
        "19-20.",
        "19-3.",
        "2-10.",
        "2-11.",
        "2-17.",
        "2-18.",
        "2-20.",
        "2-3.",
        "2-4.",
        "2-5.",
        "2-6.",
        "2-7.",
        "2-8.",
        "3-13.",
        "3-18.",
        "3-3.",
        "4-1.",
        "4-10.",
        "4-11.",
        "4-19.",
        "5-5.",
        "6-15.",
        "7-10.",
        "7-14.",
        "8-18.",
        "8-20.",
        "8-3.",
        "8-8."
       ],
       "num_examples_per_domain_per_label": -1,
       "pickle_path": "/mnt/wd500GB/CSC500/csc500-main/datasets/cores.stratified_ds.2022A.pkl",
       "source_or_target_dataset": "source",
       "x_transforms": [
        "unit_mag",
        "take_200"
       ]
      },
      {
       "domain_prefix": "W_",
       "domains": [
        1,
        2,
        3,
        4
       ],
       "episode_transforms": [],
       "labels": [
        "1-10",
        "1-12",
        "1-14",
        "1-16",
        "1-18",
        "1-19",
        "1-8",
        "10-11",
        "10-17",
        "10-4",
        "10-7",
        "11-1",
        "11-10",
        "11-19",
        "11-20",
        "11-4",
        "11-7",
        "12-19",
        "12-20",
        "12-7",
        "13-14",
        "13-18",
        "13-19",
        "13-20",
        "13-3",
        "13-7",
        "14-10",
        "14-11",
        "14-12",
        "14-13",
        "14-14",
        "14-19",
        "14-20",
        "14-7",
        "14-8",
        "14-9",
        "15-1",
        "15-19",
        "15-6",
        "16-1",
        "16-16",
        "16-19",
        "16-20",
        "17-10",
        "17-11",
        "18-1",
        "18-10",
        "18-11",
        "18-12",
        "18-13",
        "18-14",
        "18-15",
        "18-16",
        "18-17",
        "18-19",
        "18-2",
        "18-20",
        "18-4",
        "18-5",
        "18-7",
        "18-8",
        "18-9",
        "19-1",
        "19-10",
        "19-11",
        "19-12",
        "19-13",
        "19-14",
        "19-15",
        "19-19",
        "19-2",
        "19-20",
        "19-3",
        "19-4",
        "19-6",
        "19-7",
        "19-8",
        "19-9",
        "2-1",
        "2-13",
        "2-15",
        "2-3",
        "2-4",
        "2-5",
        "2-6",
        "2-7",
        "2-8",
        "20-1",
        "20-12",
        "20-14",
        "20-15",
        "20-16",
        "20-18",
        "20-19",
        "20-20",
        "20-3",
        "20-4",
        "20-5",
        "20-7",
        "20-8",
        "3-1",
        "3-13",
        "3-18",
        "3-2",
        "3-8",
        "4-1",
        "4-10",
        "4-11",
        "5-1",
        "5-5",
        "6-1",
        "6-15",
        "6-6",
        "7-10",
        "7-11",
        "7-12",
        "7-13",
        "7-14",
        "7-7",
        "7-8",
        "7-9",
        "8-1",
        "8-13",
        "8-14",
        "8-18",
        "8-20",
        "8-3",
        "8-8",
        "9-1",
        "9-7"
       ],
       "num_examples_per_domain_per_label": -1,
       "pickle_path": "/mnt/wd500GB/CSC500/csc500-main/datasets/wisig.node3-19.stratified_ds.2022A.pkl",
       "source_or_target_dataset": "source",
       "x_transforms": [
        "unit_mag",
        "take_200"
       ]
      },
      {
       "domain_prefix": "O_",
       "domains": [
        32,
        38,
        8,
        44,
        14,
        50,
        20,
        26
       ],
       "episode_transforms": [],
       "labels": [
        "3123D52",
        "3123D65",
        "3123D79",
        "3123D80",
        "3123D54",
        "3123D70",
        "3123D7B",
        "3123D89",
        "3123D58",
        "3123D76",
        "3123D7D",
        "3123EFE",
        "3123D64",
        "3123D78",
        "3123D7E",
        "3124E4A"
       ],
       "num_examples_per_domain_per_label": 2000,
       "pickle_path": "/mnt/wd500GB/CSC500/csc500-main/datasets/oracle.Run1_framed_2000Examples_stratified_ds.2022A.pkl",
       "source_or_target_dataset": "target",
       "x_transforms": [
        "unit_mag",
        "take_200",
        "resample_20Msps_to_25Msps"
       ]
      }
     ],
     "device": "cuda",
     "experiment_name": "tl_3Av2:cores+wisig -> oracle.run1.framed",
     "lr": 0.0001,
     "n_epoch": 50,
     "n_query": 2,
     "n_shot": 3,
     "n_way": 16,
     "patience": 3,
     "seed": 154325,
     "test_k_factor": 2,
     "torch_default_dtype": "torch.float32",
     "train_k_factor": 3,
     "val_k_factor": 2,
     "x_net": [
      {
       "class": "nnReshape",
       "kargs": {
        "shape": [
         -1,
         1,
         2,
         200
        ]
       }
      },
      {
       "class": "Conv2d",
       "kargs": {
        "bias": false,
        "in_channels": 1,
        "kernel_size": [
         1,
         7
        ],
        "out_channels": 256,
        "padding": [
         0,
         3
        ]
       }
      },
      {
       "class": "ReLU",
       "kargs": {
        "inplace": true
       }
      },
      {
       "class": "BatchNorm2d",
       "kargs": {
        "num_features": 256
       }
      },
      {
       "class": "Conv2d",
       "kargs": {
        "bias": true,
        "in_channels": 256,
        "kernel_size": [
         2,
         7
        ],
        "out_channels": 80,
        "padding": [
         0,
         3
        ]
       }
      },
      {
       "class": "ReLU",
       "kargs": {
        "inplace": true
       }
      },
      {
       "class": "BatchNorm2d",
       "kargs": {
        "num_features": 80
       }
      },
      {
       "class": "Flatten",
       "kargs": {}
      },
      {
       "class": "Linear",
       "kargs": {
        "in_features": 16000,
        "out_features": 256
       }
      },
      {
       "class": "ReLU",
       "kargs": {
        "inplace": true
       }
      },
      {
       "class": "BatchNorm1d",
       "kargs": {
        "num_features": 256
       }
      },
      {
       "class": "Linear",
       "kargs": {
        "in_features": 256,
        "out_features": 256
       }
      }
     ],
     "x_shape": [
      2,
      200
     ]
    }
   },
   "start_time": "2022-03-20T13:30:40.471576",
   "version": "2.3.4"
  }
 },
 "nbformat": 4,
 "nbformat_minor": 5
}