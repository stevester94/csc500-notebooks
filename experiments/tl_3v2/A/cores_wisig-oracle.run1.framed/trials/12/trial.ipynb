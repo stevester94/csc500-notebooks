{
 "cells": [
  {
   "cell_type": "markdown",
   "id": "9fea5f46",
   "metadata": {
    "papermill": {
     "duration": 0.018851,
     "end_time": "2022-03-20T18:43:26.638791",
     "exception": false,
     "start_time": "2022-03-20T18:43:26.619940",
     "status": "completed"
    },
    "tags": []
   },
   "source": [
    "# Transfer Learning Template"
   ]
  },
  {
   "cell_type": "code",
   "execution_count": 1,
   "id": "0902182a",
   "metadata": {
    "execution": {
     "iopub.execute_input": "2022-03-20T18:43:26.678970Z",
     "iopub.status.busy": "2022-03-20T18:43:26.676692Z",
     "iopub.status.idle": "2022-03-20T18:43:27.632146Z",
     "shell.execute_reply": "2022-03-20T18:43:27.631842Z"
    },
    "papermill": {
     "duration": 0.98033,
     "end_time": "2022-03-20T18:43:27.632220",
     "exception": false,
     "start_time": "2022-03-20T18:43:26.651890",
     "status": "completed"
    },
    "tags": []
   },
   "outputs": [],
   "source": [
    "%load_ext autoreload\n",
    "%autoreload 2\n",
    "%matplotlib inline\n",
    "\n",
    "    \n",
    "import os, json, sys, time, random\n",
    "import numpy as np\n",
    "import torch\n",
    "from torch.optim import Adam\n",
    "from  easydict import EasyDict\n",
    "import matplotlib.pyplot as plt\n",
    "\n",
    "from steves_models.steves_ptn import Steves_Prototypical_Network\n",
    "\n",
    "from steves_utils.lazy_iterable_wrapper import Lazy_Iterable_Wrapper\n",
    "from steves_utils.iterable_aggregator import Iterable_Aggregator\n",
    "from steves_utils.ptn_train_eval_test_jig import  PTN_Train_Eval_Test_Jig\n",
    "from steves_utils.torch_sequential_builder import build_sequential\n",
    "from steves_utils.torch_utils import get_dataset_metrics, ptn_confusion_by_domain_over_dataloader\n",
    "from steves_utils.utils_v2 import (per_domain_accuracy_from_confusion, get_datasets_base_path)\n",
    "from steves_utils.PTN.utils import independent_accuracy_assesment\n",
    "\n",
    "from torch.utils.data import DataLoader\n",
    "\n",
    "from steves_utils.stratified_dataset.episodic_accessor import Episodic_Accessor_Factory\n",
    "\n",
    "from steves_utils.ptn_do_report import (\n",
    "    get_loss_curve,\n",
    "    get_results_table,\n",
    "    get_parameters_table,\n",
    "    get_domain_accuracies,\n",
    ")\n",
    "\n",
    "from steves_utils.transforms import get_chained_transform"
   ]
  },
  {
   "cell_type": "markdown",
   "id": "41c840b4",
   "metadata": {
    "papermill": {
     "duration": 0.013594,
     "end_time": "2022-03-20T18:43:27.661885",
     "exception": false,
     "start_time": "2022-03-20T18:43:27.648291",
     "status": "completed"
    },
    "tags": []
   },
   "source": [
    "# Allowed Parameters\n",
    "These are allowed parameters, not defaults\n",
    "Each of these values need to be present in the injected parameters (the notebook will raise an exception if they are not present)\n",
    "\n",
    "Papermill uses the cell tag \"parameters\" to inject the real parameters below this cell.\n",
    "Enable tags to see what I mean"
   ]
  },
  {
   "cell_type": "code",
   "execution_count": 2,
   "id": "fd44eb83",
   "metadata": {
    "execution": {
     "iopub.execute_input": "2022-03-20T18:43:27.694677Z",
     "iopub.status.busy": "2022-03-20T18:43:27.691968Z",
     "iopub.status.idle": "2022-03-20T18:43:27.704821Z",
     "shell.execute_reply": "2022-03-20T18:43:27.704537Z"
    },
    "papermill": {
     "duration": 0.029447,
     "end_time": "2022-03-20T18:43:27.704887",
     "exception": false,
     "start_time": "2022-03-20T18:43:27.675440",
     "status": "completed"
    },
    "tags": []
   },
   "outputs": [],
   "source": [
    "required_parameters = {\n",
    "    \"experiment_name\",\n",
    "    \"lr\",\n",
    "    \"device\",\n",
    "    \"seed\",\n",
    "    \"dataset_seed\",\n",
    "    \"n_shot\",\n",
    "    \"n_query\",\n",
    "    \"n_way\",\n",
    "    \"train_k_factor\",\n",
    "    \"val_k_factor\",\n",
    "    \"test_k_factor\",\n",
    "    \"n_epoch\",\n",
    "    \"patience\",\n",
    "    \"criteria_for_best\",\n",
    "    \"x_net\",\n",
    "    \"datasets\",\n",
    "    \"torch_default_dtype\",\n",
    "    \"NUM_LOGS_PER_EPOCH\",\n",
    "    \"BEST_MODEL_PATH\",\n",
    "    \"x_shape\",\n",
    "}"
   ]
  },
  {
   "cell_type": "code",
   "execution_count": 3,
   "id": "fa3f0049",
   "metadata": {
    "execution": {
     "iopub.execute_input": "2022-03-20T18:43:27.738579Z",
     "iopub.status.busy": "2022-03-20T18:43:27.738111Z",
     "iopub.status.idle": "2022-03-20T18:43:27.751119Z",
     "shell.execute_reply": "2022-03-20T18:43:27.750864Z"
    },
    "papermill": {
     "duration": 0.032639,
     "end_time": "2022-03-20T18:43:27.751185",
     "exception": false,
     "start_time": "2022-03-20T18:43:27.718546",
     "status": "completed"
    },
    "tags": [
     "parameters"
    ]
   },
   "outputs": [],
   "source": [
    "from steves_utils.CORES.utils import (\n",
    "    ALL_NODES,\n",
    "    ALL_NODES_MINIMUM_1000_EXAMPLES,\n",
    "    ALL_DAYS\n",
    ")\n",
    "\n",
    "from steves_utils.ORACLE.utils_v2 import (\n",
    "    ALL_DISTANCES_FEET_NARROWED,\n",
    "    ALL_RUNS,\n",
    "    ALL_SERIAL_NUMBERS,\n",
    ")\n",
    "\n",
    "standalone_parameters = {}\n",
    "standalone_parameters[\"experiment_name\"] = \"STANDALONE PTN\"\n",
    "standalone_parameters[\"lr\"] = 0.001\n",
    "standalone_parameters[\"device\"] = \"cuda\"\n",
    "\n",
    "standalone_parameters[\"seed\"] = 1337\n",
    "standalone_parameters[\"dataset_seed\"] = 1337\n",
    "\n",
    "standalone_parameters[\"n_way\"] = 8\n",
    "standalone_parameters[\"n_shot\"] = 3\n",
    "standalone_parameters[\"n_query\"]  = 2\n",
    "standalone_parameters[\"train_k_factor\"] = 1\n",
    "standalone_parameters[\"val_k_factor\"] = 2\n",
    "standalone_parameters[\"test_k_factor\"] = 2\n",
    "\n",
    "\n",
    "standalone_parameters[\"n_epoch\"] = 50\n",
    "\n",
    "standalone_parameters[\"patience\"] = 10\n",
    "standalone_parameters[\"criteria_for_best\"] = \"source_loss\"\n",
    "\n",
    "standalone_parameters[\"datasets\"] = [\n",
    "    {\n",
    "        \"labels\": ALL_SERIAL_NUMBERS,\n",
    "        \"domains\": ALL_DISTANCES_FEET_NARROWED,\n",
    "        \"num_examples_per_domain_per_label\": 100,\n",
    "        \"pickle_path\": os.path.join(get_datasets_base_path(), \"oracle.Run1_framed_2000Examples_stratified_ds.2022A.pkl\"),\n",
    "        \"source_or_target_dataset\": \"source\",\n",
    "        \"x_transforms\": [\"unit_mag\", \"minus_two\"],\n",
    "        \"episode_transforms\": [],\n",
    "        \"domain_prefix\": \"ORACLE_\"\n",
    "    },\n",
    "    {\n",
    "        \"labels\": ALL_NODES,\n",
    "        \"domains\": ALL_DAYS,\n",
    "        \"num_examples_per_domain_per_label\": 100,\n",
    "        \"pickle_path\": os.path.join(get_datasets_base_path(), \"cores.stratified_ds.2022A.pkl\"),\n",
    "        \"source_or_target_dataset\": \"target\",\n",
    "        \"x_transforms\": [\"unit_power\", \"times_zero\"],\n",
    "        \"episode_transforms\": [],\n",
    "        \"domain_prefix\": \"CORES_\"\n",
    "    }   \n",
    "]\n",
    "\n",
    "standalone_parameters[\"torch_default_dtype\"] = \"torch.float32\" \n",
    "\n",
    "\n",
    "\n",
    "standalone_parameters[\"x_net\"] =     [\n",
    "    {\"class\": \"nnReshape\", \"kargs\": {\"shape\":[-1, 1, 2, 256]}},\n",
    "    {\"class\": \"Conv2d\", \"kargs\": { \"in_channels\":1, \"out_channels\":256, \"kernel_size\":(1,7), \"bias\":False, \"padding\":(0,3), },},\n",
    "    {\"class\": \"ReLU\", \"kargs\": {\"inplace\": True}},\n",
    "    {\"class\": \"BatchNorm2d\", \"kargs\": {\"num_features\":256}},\n",
    "\n",
    "    {\"class\": \"Conv2d\", \"kargs\": { \"in_channels\":256, \"out_channels\":80, \"kernel_size\":(2,7), \"bias\":True, \"padding\":(0,3), },},\n",
    "    {\"class\": \"ReLU\", \"kargs\": {\"inplace\": True}},\n",
    "    {\"class\": \"BatchNorm2d\", \"kargs\": {\"num_features\":80}},\n",
    "    {\"class\": \"Flatten\", \"kargs\": {}},\n",
    "\n",
    "    {\"class\": \"Linear\", \"kargs\": {\"in_features\": 80*256, \"out_features\": 256}}, # 80 units per IQ pair\n",
    "    {\"class\": \"ReLU\", \"kargs\": {\"inplace\": True}},\n",
    "    {\"class\": \"BatchNorm1d\", \"kargs\": {\"num_features\":256}},\n",
    "\n",
    "    {\"class\": \"Linear\", \"kargs\": {\"in_features\": 256, \"out_features\": 256}},\n",
    "]\n",
    "\n",
    "# Parameters relevant to results\n",
    "# These parameters will basically never need to change\n",
    "standalone_parameters[\"NUM_LOGS_PER_EPOCH\"] = 10\n",
    "standalone_parameters[\"BEST_MODEL_PATH\"] = \"./best_model.pth\"\n",
    "\n",
    "\n",
    "\n",
    "\n"
   ]
  },
  {
   "cell_type": "code",
   "execution_count": 4,
   "id": "b63405d8",
   "metadata": {
    "execution": {
     "iopub.execute_input": "2022-03-20T18:43:27.790534Z",
     "iopub.status.busy": "2022-03-20T18:43:27.790118Z",
     "iopub.status.idle": "2022-03-20T18:43:27.806519Z",
     "shell.execute_reply": "2022-03-20T18:43:27.805929Z"
    },
    "papermill": {
     "duration": 0.039117,
     "end_time": "2022-03-20T18:43:27.806635",
     "exception": false,
     "start_time": "2022-03-20T18:43:27.767518",
     "status": "completed"
    },
    "tags": [
     "injected-parameters"
    ]
   },
   "outputs": [],
   "source": [
    "# Parameters\n",
    "parameters = {\n",
    "    \"experiment_name\": \"tl_3Av2:cores+wisig -> oracle.run1.framed\",\n",
    "    \"device\": \"cuda\",\n",
    "    \"lr\": 0.0001,\n",
    "    \"x_shape\": [2, 200],\n",
    "    \"n_shot\": 3,\n",
    "    \"n_query\": 2,\n",
    "    \"train_k_factor\": 3,\n",
    "    \"val_k_factor\": 2,\n",
    "    \"test_k_factor\": 2,\n",
    "    \"torch_default_dtype\": \"torch.float32\",\n",
    "    \"n_epoch\": 50,\n",
    "    \"patience\": 3,\n",
    "    \"criteria_for_best\": \"target_accuracy\",\n",
    "    \"x_net\": [\n",
    "        {\"class\": \"nnReshape\", \"kargs\": {\"shape\": [-1, 1, 2, 200]}},\n",
    "        {\n",
    "            \"class\": \"Conv2d\",\n",
    "            \"kargs\": {\n",
    "                \"in_channels\": 1,\n",
    "                \"out_channels\": 256,\n",
    "                \"kernel_size\": [1, 7],\n",
    "                \"bias\": False,\n",
    "                \"padding\": [0, 3],\n",
    "            },\n",
    "        },\n",
    "        {\"class\": \"ReLU\", \"kargs\": {\"inplace\": True}},\n",
    "        {\"class\": \"BatchNorm2d\", \"kargs\": {\"num_features\": 256}},\n",
    "        {\n",
    "            \"class\": \"Conv2d\",\n",
    "            \"kargs\": {\n",
    "                \"in_channels\": 256,\n",
    "                \"out_channels\": 80,\n",
    "                \"kernel_size\": [2, 7],\n",
    "                \"bias\": True,\n",
    "                \"padding\": [0, 3],\n",
    "            },\n",
    "        },\n",
    "        {\"class\": \"ReLU\", \"kargs\": {\"inplace\": True}},\n",
    "        {\"class\": \"BatchNorm2d\", \"kargs\": {\"num_features\": 80}},\n",
    "        {\"class\": \"Flatten\", \"kargs\": {}},\n",
    "        {\"class\": \"Linear\", \"kargs\": {\"in_features\": 16000, \"out_features\": 256}},\n",
    "        {\"class\": \"ReLU\", \"kargs\": {\"inplace\": True}},\n",
    "        {\"class\": \"BatchNorm1d\", \"kargs\": {\"num_features\": 256}},\n",
    "        {\"class\": \"Linear\", \"kargs\": {\"in_features\": 256, \"out_features\": 256}},\n",
    "    ],\n",
    "    \"NUM_LOGS_PER_EPOCH\": 10,\n",
    "    \"BEST_MODEL_PATH\": \"./best_model.pth\",\n",
    "    \"n_way\": 16,\n",
    "    \"datasets\": [\n",
    "        {\n",
    "            \"labels\": [\n",
    "                \"1-10.\",\n",
    "                \"1-11.\",\n",
    "                \"1-15.\",\n",
    "                \"1-16.\",\n",
    "                \"1-17.\",\n",
    "                \"1-18.\",\n",
    "                \"1-19.\",\n",
    "                \"10-4.\",\n",
    "                \"10-7.\",\n",
    "                \"11-1.\",\n",
    "                \"11-14.\",\n",
    "                \"11-17.\",\n",
    "                \"11-20.\",\n",
    "                \"11-7.\",\n",
    "                \"13-20.\",\n",
    "                \"13-8.\",\n",
    "                \"14-10.\",\n",
    "                \"14-11.\",\n",
    "                \"14-14.\",\n",
    "                \"14-7.\",\n",
    "                \"15-1.\",\n",
    "                \"15-20.\",\n",
    "                \"16-1.\",\n",
    "                \"16-16.\",\n",
    "                \"17-10.\",\n",
    "                \"17-11.\",\n",
    "                \"17-2.\",\n",
    "                \"19-1.\",\n",
    "                \"19-16.\",\n",
    "                \"19-19.\",\n",
    "                \"19-20.\",\n",
    "                \"19-3.\",\n",
    "                \"2-10.\",\n",
    "                \"2-11.\",\n",
    "                \"2-17.\",\n",
    "                \"2-18.\",\n",
    "                \"2-20.\",\n",
    "                \"2-3.\",\n",
    "                \"2-4.\",\n",
    "                \"2-5.\",\n",
    "                \"2-6.\",\n",
    "                \"2-7.\",\n",
    "                \"2-8.\",\n",
    "                \"3-13.\",\n",
    "                \"3-18.\",\n",
    "                \"3-3.\",\n",
    "                \"4-1.\",\n",
    "                \"4-10.\",\n",
    "                \"4-11.\",\n",
    "                \"4-19.\",\n",
    "                \"5-5.\",\n",
    "                \"6-15.\",\n",
    "                \"7-10.\",\n",
    "                \"7-14.\",\n",
    "                \"8-18.\",\n",
    "                \"8-20.\",\n",
    "                \"8-3.\",\n",
    "                \"8-8.\",\n",
    "            ],\n",
    "            \"domains\": [1, 2, 3, 4, 5],\n",
    "            \"num_examples_per_domain_per_label\": -1,\n",
    "            \"pickle_path\": \"/mnt/wd500GB/CSC500/csc500-main/datasets/cores.stratified_ds.2022A.pkl\",\n",
    "            \"source_or_target_dataset\": \"source\",\n",
    "            \"x_transforms\": [\"unit_power\", \"take_200\"],\n",
    "            \"episode_transforms\": [],\n",
    "            \"domain_prefix\": \"C_\",\n",
    "        },\n",
    "        {\n",
    "            \"labels\": [\n",
    "                \"1-10\",\n",
    "                \"1-12\",\n",
    "                \"1-14\",\n",
    "                \"1-16\",\n",
    "                \"1-18\",\n",
    "                \"1-19\",\n",
    "                \"1-8\",\n",
    "                \"10-11\",\n",
    "                \"10-17\",\n",
    "                \"10-4\",\n",
    "                \"10-7\",\n",
    "                \"11-1\",\n",
    "                \"11-10\",\n",
    "                \"11-19\",\n",
    "                \"11-20\",\n",
    "                \"11-4\",\n",
    "                \"11-7\",\n",
    "                \"12-19\",\n",
    "                \"12-20\",\n",
    "                \"12-7\",\n",
    "                \"13-14\",\n",
    "                \"13-18\",\n",
    "                \"13-19\",\n",
    "                \"13-20\",\n",
    "                \"13-3\",\n",
    "                \"13-7\",\n",
    "                \"14-10\",\n",
    "                \"14-11\",\n",
    "                \"14-12\",\n",
    "                \"14-13\",\n",
    "                \"14-14\",\n",
    "                \"14-19\",\n",
    "                \"14-20\",\n",
    "                \"14-7\",\n",
    "                \"14-8\",\n",
    "                \"14-9\",\n",
    "                \"15-1\",\n",
    "                \"15-19\",\n",
    "                \"15-6\",\n",
    "                \"16-1\",\n",
    "                \"16-16\",\n",
    "                \"16-19\",\n",
    "                \"16-20\",\n",
    "                \"17-10\",\n",
    "                \"17-11\",\n",
    "                \"18-1\",\n",
    "                \"18-10\",\n",
    "                \"18-11\",\n",
    "                \"18-12\",\n",
    "                \"18-13\",\n",
    "                \"18-14\",\n",
    "                \"18-15\",\n",
    "                \"18-16\",\n",
    "                \"18-17\",\n",
    "                \"18-19\",\n",
    "                \"18-2\",\n",
    "                \"18-20\",\n",
    "                \"18-4\",\n",
    "                \"18-5\",\n",
    "                \"18-7\",\n",
    "                \"18-8\",\n",
    "                \"18-9\",\n",
    "                \"19-1\",\n",
    "                \"19-10\",\n",
    "                \"19-11\",\n",
    "                \"19-12\",\n",
    "                \"19-13\",\n",
    "                \"19-14\",\n",
    "                \"19-15\",\n",
    "                \"19-19\",\n",
    "                \"19-2\",\n",
    "                \"19-20\",\n",
    "                \"19-3\",\n",
    "                \"19-4\",\n",
    "                \"19-6\",\n",
    "                \"19-7\",\n",
    "                \"19-8\",\n",
    "                \"19-9\",\n",
    "                \"2-1\",\n",
    "                \"2-13\",\n",
    "                \"2-15\",\n",
    "                \"2-3\",\n",
    "                \"2-4\",\n",
    "                \"2-5\",\n",
    "                \"2-6\",\n",
    "                \"2-7\",\n",
    "                \"2-8\",\n",
    "                \"20-1\",\n",
    "                \"20-12\",\n",
    "                \"20-14\",\n",
    "                \"20-15\",\n",
    "                \"20-16\",\n",
    "                \"20-18\",\n",
    "                \"20-19\",\n",
    "                \"20-20\",\n",
    "                \"20-3\",\n",
    "                \"20-4\",\n",
    "                \"20-5\",\n",
    "                \"20-7\",\n",
    "                \"20-8\",\n",
    "                \"3-1\",\n",
    "                \"3-13\",\n",
    "                \"3-18\",\n",
    "                \"3-2\",\n",
    "                \"3-8\",\n",
    "                \"4-1\",\n",
    "                \"4-10\",\n",
    "                \"4-11\",\n",
    "                \"5-1\",\n",
    "                \"5-5\",\n",
    "                \"6-1\",\n",
    "                \"6-15\",\n",
    "                \"6-6\",\n",
    "                \"7-10\",\n",
    "                \"7-11\",\n",
    "                \"7-12\",\n",
    "                \"7-13\",\n",
    "                \"7-14\",\n",
    "                \"7-7\",\n",
    "                \"7-8\",\n",
    "                \"7-9\",\n",
    "                \"8-1\",\n",
    "                \"8-13\",\n",
    "                \"8-14\",\n",
    "                \"8-18\",\n",
    "                \"8-20\",\n",
    "                \"8-3\",\n",
    "                \"8-8\",\n",
    "                \"9-1\",\n",
    "                \"9-7\",\n",
    "            ],\n",
    "            \"domains\": [1, 2, 3, 4],\n",
    "            \"num_examples_per_domain_per_label\": -1,\n",
    "            \"pickle_path\": \"/mnt/wd500GB/CSC500/csc500-main/datasets/wisig.node3-19.stratified_ds.2022A.pkl\",\n",
    "            \"source_or_target_dataset\": \"source\",\n",
    "            \"x_transforms\": [\"unit_power\", \"take_200\"],\n",
    "            \"episode_transforms\": [],\n",
    "            \"domain_prefix\": \"W_\",\n",
    "        },\n",
    "        {\n",
    "            \"labels\": [\n",
    "                \"3123D52\",\n",
    "                \"3123D65\",\n",
    "                \"3123D79\",\n",
    "                \"3123D80\",\n",
    "                \"3123D54\",\n",
    "                \"3123D70\",\n",
    "                \"3123D7B\",\n",
    "                \"3123D89\",\n",
    "                \"3123D58\",\n",
    "                \"3123D76\",\n",
    "                \"3123D7D\",\n",
    "                \"3123EFE\",\n",
    "                \"3123D64\",\n",
    "                \"3123D78\",\n",
    "                \"3123D7E\",\n",
    "                \"3124E4A\",\n",
    "            ],\n",
    "            \"domains\": [32, 38, 8, 44, 14, 50, 20, 26],\n",
    "            \"num_examples_per_domain_per_label\": 2000,\n",
    "            \"pickle_path\": \"/mnt/wd500GB/CSC500/csc500-main/datasets/oracle.Run1_framed_2000Examples_stratified_ds.2022A.pkl\",\n",
    "            \"source_or_target_dataset\": \"target\",\n",
    "            \"x_transforms\": [\"unit_power\", \"take_200\", \"resample_20Msps_to_25Msps\"],\n",
    "            \"episode_transforms\": [],\n",
    "            \"domain_prefix\": \"O_\",\n",
    "        },\n",
    "    ],\n",
    "    \"seed\": 500,\n",
    "    \"dataset_seed\": 500,\n",
    "}\n"
   ]
  },
  {
   "cell_type": "code",
   "execution_count": 5,
   "id": "8fa1cc33",
   "metadata": {
    "execution": {
     "iopub.execute_input": "2022-03-20T18:43:27.843209Z",
     "iopub.status.busy": "2022-03-20T18:43:27.842660Z",
     "iopub.status.idle": "2022-03-20T18:43:27.854678Z",
     "shell.execute_reply": "2022-03-20T18:43:27.854184Z"
    },
    "papermill": {
     "duration": 0.029305,
     "end_time": "2022-03-20T18:43:27.854785",
     "exception": false,
     "start_time": "2022-03-20T18:43:27.825480",
     "status": "completed"
    },
    "tags": []
   },
   "outputs": [],
   "source": [
    "# Set this to True if you want to run this template directly\n",
    "STANDALONE = False\n",
    "if STANDALONE:\n",
    "    print(\"parameters not injected, running with standalone_parameters\")\n",
    "    parameters = standalone_parameters\n",
    "\n",
    "if not 'parameters' in locals() and not 'parameters' in globals():\n",
    "    raise Exception(\"Parameter injection failed\")\n",
    "\n",
    "#Use an easy dict for all the parameters\n",
    "p = EasyDict(parameters)\n",
    "\n",
    "if \"x_shape\" not in p:\n",
    "    p.x_shape = [2,256] # Default to this if we dont supply x_shape\n",
    "\n",
    "\n",
    "supplied_keys = set(p.keys())\n",
    "\n",
    "if  supplied_keys != required_parameters:\n",
    "    print(\"Parameters are incorrect\")\n",
    "    if len(supplied_keys - required_parameters)>0: print(\"Shouldn't have:\", str(supplied_keys - required_parameters))\n",
    "    if len(required_parameters - supplied_keys)>0: print(\"Need to have:\", str(required_parameters - supplied_keys))\n",
    "    raise RuntimeError(\"Parameters are incorrect\")"
   ]
  },
  {
   "cell_type": "code",
   "execution_count": 6,
   "id": "3a028d58",
   "metadata": {
    "execution": {
     "iopub.execute_input": "2022-03-20T18:43:27.891025Z",
     "iopub.status.busy": "2022-03-20T18:43:27.889284Z",
     "iopub.status.idle": "2022-03-20T18:43:27.904477Z",
     "shell.execute_reply": "2022-03-20T18:43:27.904010Z"
    },
    "papermill": {
     "duration": 0.031865,
     "end_time": "2022-03-20T18:43:27.904584",
     "exception": false,
     "start_time": "2022-03-20T18:43:27.872719",
     "status": "completed"
    },
    "tags": []
   },
   "outputs": [],
   "source": [
    "###################################\n",
    "# Set the RNGs and make it all deterministic\n",
    "###################################\n",
    "np.random.seed(p.seed)\n",
    "random.seed(p.seed)\n",
    "torch.manual_seed(p.seed)\n",
    "\n",
    "torch.use_deterministic_algorithms(True) "
   ]
  },
  {
   "cell_type": "code",
   "execution_count": 7,
   "id": "b691acf6",
   "metadata": {
    "execution": {
     "iopub.execute_input": "2022-03-20T18:43:27.938731Z",
     "iopub.status.busy": "2022-03-20T18:43:27.938437Z",
     "iopub.status.idle": "2022-03-20T18:43:27.955005Z",
     "shell.execute_reply": "2022-03-20T18:43:27.954602Z"
    },
    "papermill": {
     "duration": 0.031861,
     "end_time": "2022-03-20T18:43:27.955111",
     "exception": false,
     "start_time": "2022-03-20T18:43:27.923250",
     "status": "completed"
    },
    "tags": []
   },
   "outputs": [],
   "source": [
    "###########################################\n",
    "# The stratified datasets honor this\n",
    "###########################################\n",
    "torch.set_default_dtype(eval(p.torch_default_dtype))"
   ]
  },
  {
   "cell_type": "code",
   "execution_count": 8,
   "id": "b5fba671",
   "metadata": {
    "execution": {
     "iopub.execute_input": "2022-03-20T18:43:27.990044Z",
     "iopub.status.busy": "2022-03-20T18:43:27.989472Z",
     "iopub.status.idle": "2022-03-20T18:43:28.026594Z",
     "shell.execute_reply": "2022-03-20T18:43:28.026135Z"
    },
    "papermill": {
     "duration": 0.053883,
     "end_time": "2022-03-20T18:43:28.026706",
     "exception": false,
     "start_time": "2022-03-20T18:43:27.972823",
     "status": "completed"
    },
    "tags": []
   },
   "outputs": [],
   "source": [
    "###################################\n",
    "# Build the network(s)\n",
    "# Note: It's critical to do this AFTER setting the RNG\n",
    "###################################\n",
    "x_net = build_sequential(p.x_net)"
   ]
  },
  {
   "cell_type": "code",
   "execution_count": 9,
   "id": "5d7e61cc",
   "metadata": {
    "execution": {
     "iopub.execute_input": "2022-03-20T18:43:28.063565Z",
     "iopub.status.busy": "2022-03-20T18:43:28.063221Z",
     "iopub.status.idle": "2022-03-20T18:43:28.078124Z",
     "shell.execute_reply": "2022-03-20T18:43:28.077895Z"
    },
    "papermill": {
     "duration": 0.031344,
     "end_time": "2022-03-20T18:43:28.078184",
     "exception": false,
     "start_time": "2022-03-20T18:43:28.046840",
     "status": "completed"
    },
    "tags": []
   },
   "outputs": [],
   "source": [
    "start_time_secs = time.time()"
   ]
  },
  {
   "cell_type": "code",
   "execution_count": 10,
   "id": "c6b67dfd",
   "metadata": {
    "execution": {
     "iopub.execute_input": "2022-03-20T18:43:28.113605Z",
     "iopub.status.busy": "2022-03-20T18:43:28.110892Z",
     "iopub.status.idle": "2022-03-20T18:43:28.126722Z",
     "shell.execute_reply": "2022-03-20T18:43:28.126472Z"
    },
    "papermill": {
     "duration": 0.031137,
     "end_time": "2022-03-20T18:43:28.126787",
     "exception": false,
     "start_time": "2022-03-20T18:43:28.095650",
     "status": "completed"
    },
    "tags": []
   },
   "outputs": [],
   "source": [
    "p.domains_source = []\n",
    "p.domains_target = []\n",
    "\n",
    "\n",
    "train_original_source = []\n",
    "val_original_source   = []\n",
    "test_original_source  = []\n",
    "\n",
    "train_original_target = []\n",
    "val_original_target   = []\n",
    "test_original_target  = []"
   ]
  },
  {
   "cell_type": "code",
   "execution_count": 11,
   "id": "e3d9c3d3",
   "metadata": {
    "execution": {
     "iopub.execute_input": "2022-03-20T18:43:28.157021Z",
     "iopub.status.busy": "2022-03-20T18:43:28.156579Z",
     "iopub.status.idle": "2022-03-20T18:43:28.170042Z",
     "shell.execute_reply": "2022-03-20T18:43:28.169538Z"
    },
    "papermill": {
     "duration": 0.029101,
     "end_time": "2022-03-20T18:43:28.170149",
     "exception": false,
     "start_time": "2022-03-20T18:43:28.141048",
     "status": "completed"
    },
    "tags": []
   },
   "outputs": [],
   "source": [
    "# global_x_transform_func = lambda x: normalize(x.to(torch.get_default_dtype()), \"unit_power\") # unit_power, unit_mag\n",
    "# global_x_transform_func = lambda x: normalize(x, \"unit_power\") # unit_power, unit_mag"
   ]
  },
  {
   "cell_type": "code",
   "execution_count": 12,
   "id": "acb78fd2",
   "metadata": {
    "execution": {
     "iopub.execute_input": "2022-03-20T18:43:28.211652Z",
     "iopub.status.busy": "2022-03-20T18:43:28.210844Z",
     "iopub.status.idle": "2022-03-20T18:43:28.225107Z",
     "shell.execute_reply": "2022-03-20T18:43:28.224576Z"
    },
    "papermill": {
     "duration": 0.036347,
     "end_time": "2022-03-20T18:43:28.225220",
     "exception": false,
     "start_time": "2022-03-20T18:43:28.188873",
     "status": "completed"
    },
    "tags": []
   },
   "outputs": [],
   "source": [
    "def add_dataset(\n",
    "    labels,\n",
    "    domains,\n",
    "    pickle_path,\n",
    "    x_transforms,\n",
    "    episode_transforms,\n",
    "    domain_prefix,\n",
    "    num_examples_per_domain_per_label,\n",
    "    source_or_target_dataset:str,\n",
    "    iterator_seed=p.seed,\n",
    "    dataset_seed=p.dataset_seed,\n",
    "    n_shot=p.n_shot,\n",
    "    n_way=p.n_way,\n",
    "    n_query=p.n_query,\n",
    "    train_val_test_k_factors=(p.train_k_factor,p.val_k_factor,p.test_k_factor),\n",
    "):\n",
    "   \n",
    "    if x_transforms == []: x_transform = None\n",
    "    else: x_transform = get_chained_transform(x_transforms)\n",
    "    \n",
    "    if episode_transforms == []: episode_transform = None\n",
    "    else: raise Exception(\"episode_transforms not implemented\")\n",
    "    \n",
    "    episode_transform = lambda tup, _prefix=domain_prefix: (_prefix + str(tup[0]), tup[1])\n",
    "\n",
    "\n",
    "    eaf = Episodic_Accessor_Factory(\n",
    "        labels=labels,\n",
    "        domains=domains,\n",
    "        num_examples_per_domain_per_label=num_examples_per_domain_per_label,\n",
    "        iterator_seed=iterator_seed,\n",
    "        dataset_seed=dataset_seed,\n",
    "        n_shot=n_shot,\n",
    "        n_way=n_way,\n",
    "        n_query=n_query,\n",
    "        train_val_test_k_factors=train_val_test_k_factors,\n",
    "        pickle_path=pickle_path,\n",
    "        x_transform_func=x_transform,\n",
    "    )\n",
    "\n",
    "    train, val, test = eaf.get_train(), eaf.get_val(), eaf.get_test()\n",
    "    train = Lazy_Iterable_Wrapper(train, episode_transform)\n",
    "    val = Lazy_Iterable_Wrapper(val, episode_transform)\n",
    "    test = Lazy_Iterable_Wrapper(test, episode_transform)\n",
    "\n",
    "    if source_or_target_dataset==\"source\":\n",
    "        train_original_source.append(train)\n",
    "        val_original_source.append(val)\n",
    "        test_original_source.append(test)\n",
    "\n",
    "        p.domains_source.extend(\n",
    "            [domain_prefix + str(u) for u in domains]\n",
    "        )\n",
    "    elif source_or_target_dataset==\"target\":\n",
    "        train_original_target.append(train)\n",
    "        val_original_target.append(val)\n",
    "        test_original_target.append(test)\n",
    "        p.domains_target.extend(\n",
    "            [domain_prefix + str(u) for u in domains]\n",
    "        )\n",
    "    else:\n",
    "        raise Exception(f\"invalid source_or_target_dataset: {source_or_target_dataset}\")\n",
    "    "
   ]
  },
  {
   "cell_type": "code",
   "execution_count": 13,
   "id": "fe266617",
   "metadata": {
    "execution": {
     "iopub.execute_input": "2022-03-20T18:43:28.262965Z",
     "iopub.status.busy": "2022-03-20T18:43:28.261028Z",
     "iopub.status.idle": "2022-03-20T18:44:38.519286Z",
     "shell.execute_reply": "2022-03-20T18:44:38.518814Z"
    },
    "papermill": {
     "duration": 70.274471,
     "end_time": "2022-03-20T18:44:38.519390",
     "exception": false,
     "start_time": "2022-03-20T18:43:28.244919",
     "status": "completed"
    },
    "tags": []
   },
   "outputs": [],
   "source": [
    "for ds in p.datasets:\n",
    "    add_dataset(**ds)"
   ]
  },
  {
   "cell_type": "code",
   "execution_count": 14,
   "id": "b90d65ac",
   "metadata": {
    "execution": {
     "iopub.execute_input": "2022-03-20T18:44:38.554680Z",
     "iopub.status.busy": "2022-03-20T18:44:38.554419Z",
     "iopub.status.idle": "2022-03-20T18:44:38.569072Z",
     "shell.execute_reply": "2022-03-20T18:44:38.568715Z"
    },
    "papermill": {
     "duration": 0.030295,
     "end_time": "2022-03-20T18:44:38.569144",
     "exception": false,
     "start_time": "2022-03-20T18:44:38.538849",
     "status": "completed"
    },
    "tags": []
   },
   "outputs": [],
   "source": [
    "# from steves_utils.CORES.utils import (\n",
    "#     ALL_NODES,\n",
    "#     ALL_NODES_MINIMUM_1000_EXAMPLES,\n",
    "#     ALL_DAYS\n",
    "# )\n",
    "\n",
    "# add_dataset(\n",
    "#     labels=ALL_NODES,\n",
    "#     domains = ALL_DAYS,\n",
    "#     num_examples_per_domain_per_label=100,\n",
    "#     pickle_path=os.path.join(get_datasets_base_path(), \"cores.stratified_ds.2022A.pkl\"),\n",
    "#     source_or_target_dataset=\"target\",\n",
    "#     x_transform_func=global_x_transform_func,\n",
    "#     domain_modifier=lambda u: f\"cores_{u}\"\n",
    "# )"
   ]
  },
  {
   "cell_type": "code",
   "execution_count": 15,
   "id": "76db484d",
   "metadata": {
    "execution": {
     "iopub.execute_input": "2022-03-20T18:44:38.603546Z",
     "iopub.status.busy": "2022-03-20T18:44:38.602467Z",
     "iopub.status.idle": "2022-03-20T18:44:38.615215Z",
     "shell.execute_reply": "2022-03-20T18:44:38.614765Z"
    },
    "papermill": {
     "duration": 0.028285,
     "end_time": "2022-03-20T18:44:38.615325",
     "exception": false,
     "start_time": "2022-03-20T18:44:38.587040",
     "status": "completed"
    },
    "tags": []
   },
   "outputs": [],
   "source": [
    "# from steves_utils.ORACLE.utils_v2 import (\n",
    "#     ALL_DISTANCES_FEET,\n",
    "#     ALL_RUNS,\n",
    "#     ALL_SERIAL_NUMBERS,\n",
    "# )\n",
    "\n",
    "\n",
    "# add_dataset(\n",
    "#     labels=ALL_SERIAL_NUMBERS,\n",
    "#     domains = list(set(ALL_DISTANCES_FEET) - {2,62}),\n",
    "#     num_examples_per_domain_per_label=100,\n",
    "#     pickle_path=os.path.join(get_datasets_base_path(), \"oracle.Run2_framed_2000Examples_stratified_ds.2022A.pkl\"),\n",
    "#     source_or_target_dataset=\"source\",\n",
    "#     x_transform_func=global_x_transform_func,\n",
    "#     domain_modifier=lambda u: f\"oracle1_{u}\"\n",
    "# )\n"
   ]
  },
  {
   "cell_type": "code",
   "execution_count": 16,
   "id": "97dea9d2",
   "metadata": {
    "execution": {
     "iopub.execute_input": "2022-03-20T18:44:38.654616Z",
     "iopub.status.busy": "2022-03-20T18:44:38.654313Z",
     "iopub.status.idle": "2022-03-20T18:44:38.660573Z",
     "shell.execute_reply": "2022-03-20T18:44:38.660095Z"
    },
    "papermill": {
     "duration": 0.029753,
     "end_time": "2022-03-20T18:44:38.660667",
     "exception": false,
     "start_time": "2022-03-20T18:44:38.630914",
     "status": "completed"
    },
    "tags": []
   },
   "outputs": [],
   "source": [
    "# from steves_utils.ORACLE.utils_v2 import (\n",
    "#     ALL_DISTANCES_FEET,\n",
    "#     ALL_RUNS,\n",
    "#     ALL_SERIAL_NUMBERS,\n",
    "# )\n",
    "\n",
    "\n",
    "# add_dataset(\n",
    "#     labels=ALL_SERIAL_NUMBERS,\n",
    "#     domains = list(set(ALL_DISTANCES_FEET) - {2,62,56}),\n",
    "#     num_examples_per_domain_per_label=100,\n",
    "#     pickle_path=os.path.join(get_datasets_base_path(), \"oracle.Run2_framed_2000Examples_stratified_ds.2022A.pkl\"),\n",
    "#     source_or_target_dataset=\"source\",\n",
    "#     x_transform_func=global_x_transform_func,\n",
    "#     domain_modifier=lambda u: f\"oracle2_{u}\"\n",
    "# )"
   ]
  },
  {
   "cell_type": "code",
   "execution_count": 17,
   "id": "6f289866",
   "metadata": {
    "execution": {
     "iopub.execute_input": "2022-03-20T18:44:38.700437Z",
     "iopub.status.busy": "2022-03-20T18:44:38.695416Z",
     "iopub.status.idle": "2022-03-20T18:44:38.709422Z",
     "shell.execute_reply": "2022-03-20T18:44:38.708971Z"
    },
    "papermill": {
     "duration": 0.029951,
     "end_time": "2022-03-20T18:44:38.709512",
     "exception": false,
     "start_time": "2022-03-20T18:44:38.679561",
     "status": "completed"
    },
    "tags": []
   },
   "outputs": [],
   "source": [
    "# add_dataset(\n",
    "#     labels=list(range(19)),\n",
    "#     domains = [0,1,2],\n",
    "#     num_examples_per_domain_per_label=100,\n",
    "#     pickle_path=os.path.join(get_datasets_base_path(), \"metehan.stratified_ds.2022A.pkl\"),\n",
    "#     source_or_target_dataset=\"target\",\n",
    "#     x_transform_func=global_x_transform_func,\n",
    "#     domain_modifier=lambda u: f\"met_{u}\"\n",
    "# )"
   ]
  },
  {
   "cell_type": "code",
   "execution_count": 18,
   "id": "86a863c3",
   "metadata": {
    "execution": {
     "iopub.execute_input": "2022-03-20T18:44:38.752500Z",
     "iopub.status.busy": "2022-03-20T18:44:38.748370Z",
     "iopub.status.idle": "2022-03-20T18:44:38.758401Z",
     "shell.execute_reply": "2022-03-20T18:44:38.758830Z"
    },
    "papermill": {
     "duration": 0.030783,
     "end_time": "2022-03-20T18:44:38.758952",
     "exception": false,
     "start_time": "2022-03-20T18:44:38.728169",
     "status": "completed"
    },
    "tags": []
   },
   "outputs": [],
   "source": [
    "# # from steves_utils.wisig.utils import (\n",
    "# #     ALL_NODES_MINIMUM_100_EXAMPLES,\n",
    "# #     ALL_NODES_MINIMUM_500_EXAMPLES,\n",
    "# #     ALL_NODES_MINIMUM_1000_EXAMPLES,\n",
    "# #     ALL_DAYS\n",
    "# # )\n",
    "\n",
    "# import steves_utils.wisig.utils as wisig\n",
    "\n",
    "\n",
    "# add_dataset(\n",
    "#     labels=wisig.ALL_NODES_MINIMUM_100_EXAMPLES,\n",
    "#     domains = wisig.ALL_DAYS,\n",
    "#     num_examples_per_domain_per_label=100,\n",
    "#     pickle_path=os.path.join(get_datasets_base_path(), \"wisig.node3-19.stratified_ds.2022A.pkl\"),\n",
    "#     source_or_target_dataset=\"target\",\n",
    "#     x_transform_func=global_x_transform_func,\n",
    "#     domain_modifier=lambda u: f\"wisig_{u}\"\n",
    "# )"
   ]
  },
  {
   "cell_type": "code",
   "execution_count": 19,
   "id": "fd5442bc",
   "metadata": {
    "execution": {
     "iopub.execute_input": "2022-03-20T18:44:38.802097Z",
     "iopub.status.busy": "2022-03-20T18:44:38.796590Z",
     "iopub.status.idle": "2022-03-20T18:44:38.811268Z",
     "shell.execute_reply": "2022-03-20T18:44:38.810758Z"
    },
    "papermill": {
     "duration": 0.034094,
     "end_time": "2022-03-20T18:44:38.811370",
     "exception": false,
     "start_time": "2022-03-20T18:44:38.777276",
     "status": "completed"
    },
    "tags": []
   },
   "outputs": [],
   "source": [
    "###################################\n",
    "# Build the dataset\n",
    "###################################\n",
    "train_original_source = Iterable_Aggregator(train_original_source, p.seed)\n",
    "val_original_source = Iterable_Aggregator(val_original_source, p.seed)\n",
    "test_original_source = Iterable_Aggregator(test_original_source, p.seed)\n",
    "\n",
    "\n",
    "train_original_target = Iterable_Aggregator(train_original_target, p.seed)\n",
    "val_original_target = Iterable_Aggregator(val_original_target, p.seed)\n",
    "test_original_target = Iterable_Aggregator(test_original_target, p.seed)\n",
    "\n",
    "# For CNN We only use X and Y. And we only train on the source.\n",
    "# Properly form the data using a transform lambda and Lazy_Iterable_Wrapper. Finally wrap them in a dataloader\n",
    "\n",
    "transform_lambda = lambda ex: ex[1] # Original is (<domain>, <episode>) so we strip down to episode only\n",
    "\n",
    "train_processed_source = Lazy_Iterable_Wrapper(train_original_source, transform_lambda)\n",
    "val_processed_source   = Lazy_Iterable_Wrapper(val_original_source, transform_lambda)\n",
    "test_processed_source  = Lazy_Iterable_Wrapper(test_original_source, transform_lambda)\n",
    "\n",
    "train_processed_target = Lazy_Iterable_Wrapper(train_original_target, transform_lambda)\n",
    "val_processed_target   = Lazy_Iterable_Wrapper(val_original_target, transform_lambda)\n",
    "test_processed_target  = Lazy_Iterable_Wrapper(test_original_target, transform_lambda)\n",
    "\n",
    "datasets = EasyDict({\n",
    "    \"source\": {\n",
    "        \"original\": {\"train\":train_original_source, \"val\":val_original_source, \"test\":test_original_source},\n",
    "        \"processed\": {\"train\":train_processed_source, \"val\":val_processed_source, \"test\":test_processed_source}\n",
    "    },\n",
    "    \"target\": {\n",
    "        \"original\": {\"train\":train_original_target, \"val\":val_original_target, \"test\":test_original_target},\n",
    "        \"processed\": {\"train\":train_processed_target, \"val\":val_processed_target, \"test\":test_processed_target}\n",
    "    },\n",
    "})"
   ]
  },
  {
   "cell_type": "code",
   "execution_count": 20,
   "id": "5b3c01fc",
   "metadata": {
    "execution": {
     "iopub.execute_input": "2022-03-20T18:44:38.855454Z",
     "iopub.status.busy": "2022-03-20T18:44:38.854915Z",
     "iopub.status.idle": "2022-03-20T18:44:47.786684Z",
     "shell.execute_reply": "2022-03-20T18:44:47.786996Z"
    },
    "papermill": {
     "duration": 8.957249,
     "end_time": "2022-03-20T18:44:47.787087",
     "exception": false,
     "start_time": "2022-03-20T18:44:38.829838",
     "status": "completed"
    },
    "tags": []
   },
   "outputs": [
    {
     "name": "stdout",
     "output_type": "stream",
     "text": [
      "{'C_3', 'W_4', 'C_5', 'W_1', 'C_2', 'C_1', 'W_3', 'C_4', 'W_2'}\n"
     ]
    },
    {
     "name": "stdout",
     "output_type": "stream",
     "text": [
      "{'O_38', 'O_8', 'O_50', 'O_20', 'O_44', 'O_32', 'O_26', 'O_14'}\n"
     ]
    },
    {
     "name": "stdout",
     "output_type": "stream",
     "text": [
      "tensor([[[ 1.0556, -0.1628,  0.0585,  ..., -0.4116, -0.4448,  0.9784],\n",
      "         [ 0.4751,  0.7030,  0.2433,  ..., -0.0601, -1.0711, -1.5456]],\n",
      "\n",
      "        [[-0.3252,  0.4374,  0.1234,  ...,  0.0462, -0.4625, -1.6928],\n",
      "         [-1.2047, -0.2626,  0.0211,  ...,  0.5311,  1.2884,  0.0211]],\n",
      "\n",
      "        [[ 0.4854, -0.0404,  0.1073,  ..., -0.9924, -0.3466,  1.4275],\n",
      "         [ 0.6684,  0.1603, -0.0857,  ..., -0.2737, -1.7586, -0.4379]],\n",
      "\n",
      "        ...,\n",
      "\n",
      "        [[-0.5242,  0.6067,  0.9637,  ..., -0.7363,  0.1060, -1.1239],\n",
      "         [-0.6468, -0.9354,  0.4147,  ..., -0.1897, -0.7846,  0.5949]],\n",
      "\n",
      "        [[ 1.2152, -0.1035, -0.8576,  ...,  0.3494,  0.2111, -0.2479],\n",
      "         [ 0.5820,  1.2275,  0.1445,  ..., -0.9416,  0.3074, -1.1772]],\n",
      "\n",
      "        [[ 0.2891, -0.5569, -0.7710,  ...,  1.1727, -0.1289, -0.9199],\n",
      "         [ 0.1790,  0.8736, -0.5895,  ...,  0.8248,  0.8085, -0.3079]]])\n"
     ]
    }
   ],
   "source": [
    "from steves_utils.transforms import get_average_magnitude, get_average_power\n",
    "\n",
    "print(set([u for u,_ in val_original_source]))\n",
    "print(set([u for u,_ in val_original_target]))\n",
    "\n",
    "s_x, s_y, q_x, q_y, _ = next(iter(train_processed_source))\n",
    "print(s_x)\n",
    "\n",
    "# for ds in [\n",
    "#     train_processed_source,\n",
    "#     val_processed_source,\n",
    "#     test_processed_source,\n",
    "#     train_processed_target,\n",
    "#     val_processed_target,\n",
    "#     test_processed_target\n",
    "# ]:\n",
    "#     for s_x, s_y, q_x, q_y, _ in ds:\n",
    "#         for X in (s_x, q_x):\n",
    "#             for x in X:\n",
    "#                 assert np.isclose(get_average_magnitude(x.numpy()), 1.0)\n",
    "#                 assert np.isclose(get_average_power(x.numpy()), 1.0)\n",
    "                "
   ]
  },
  {
   "cell_type": "code",
   "execution_count": 21,
   "id": "bbdacba1",
   "metadata": {
    "execution": {
     "iopub.execute_input": "2022-03-20T18:44:47.824193Z",
     "iopub.status.busy": "2022-03-20T18:44:47.823930Z",
     "iopub.status.idle": "2022-03-20T18:44:47.874395Z",
     "shell.execute_reply": "2022-03-20T18:44:47.873947Z"
    },
    "papermill": {
     "duration": 0.068912,
     "end_time": "2022-03-20T18:44:47.874500",
     "exception": false,
     "start_time": "2022-03-20T18:44:47.805588",
     "status": "completed"
    },
    "tags": []
   },
   "outputs": [
    {
     "name": "stdout",
     "output_type": "stream",
     "text": [
      "(2, 200)\n"
     ]
    }
   ],
   "source": [
    "###################################\n",
    "# Build the model\n",
    "###################################\n",
    "# easfsl only wants a tuple for the shape\n",
    "model = Steves_Prototypical_Network(x_net, device=p.device, x_shape=tuple(p.x_shape))\n",
    "optimizer = Adam(params=model.parameters(), lr=p.lr)"
   ]
  },
  {
   "cell_type": "code",
   "execution_count": 22,
   "id": "22b39ac5",
   "metadata": {
    "execution": {
     "iopub.execute_input": "2022-03-20T18:44:47.911194Z",
     "iopub.status.busy": "2022-03-20T18:44:47.910934Z",
     "iopub.status.idle": "2022-03-20T19:20:05.105310Z",
     "shell.execute_reply": "2022-03-20T19:20:05.105074Z"
    },
    "papermill": {
     "duration": 2117.211134,
     "end_time": "2022-03-20T19:20:05.105372",
     "exception": false,
     "start_time": "2022-03-20T18:44:47.894238",
     "status": "completed"
    },
    "tags": []
   },
   "outputs": [
    {
     "name": "stdout",
     "output_type": "stream",
     "text": [
      "epoch: 1, [batch: 1 / 13148], examples_per_second: 24.4276, train_label_loss: 2.5960, \n"
     ]
    },
    {
     "name": "stdout",
     "output_type": "stream",
     "text": [
      "epoch: 1, [batch: 1315 / 13148], examples_per_second: 3770.3529, train_label_loss: 0.1163, \n"
     ]
    },
    {
     "name": "stdout",
     "output_type": "stream",
     "text": [
      "epoch: 1, [batch: 2630 / 13148], examples_per_second: 3768.2851, train_label_loss: 0.0087, \n"
     ]
    },
    {
     "name": "stdout",
     "output_type": "stream",
     "text": [
      "epoch: 1, [batch: 3945 / 13148], examples_per_second: 3788.6122, train_label_loss: 0.0036, \n"
     ]
    },
    {
     "name": "stdout",
     "output_type": "stream",
     "text": [
      "epoch: 1, [batch: 5259 / 13148], examples_per_second: 3781.6160, train_label_loss: 0.1635, \n"
     ]
    },
    {
     "name": "stdout",
     "output_type": "stream",
     "text": [
      "epoch: 1, [batch: 6574 / 13148], examples_per_second: 3775.7065, train_label_loss: 0.3563, \n"
     ]
    },
    {
     "name": "stdout",
     "output_type": "stream",
     "text": [
      "epoch: 1, [batch: 7889 / 13148], examples_per_second: 3777.1708, train_label_loss: 0.0022, \n"
     ]
    },
    {
     "name": "stdout",
     "output_type": "stream",
     "text": [
      "epoch: 1, [batch: 9203 / 13148], examples_per_second: 3735.3708, train_label_loss: 0.0038, \n"
     ]
    },
    {
     "name": "stdout",
     "output_type": "stream",
     "text": [
      "epoch: 1, [batch: 10518 / 13148], examples_per_second: 3786.7258, train_label_loss: 0.0289, \n"
     ]
    },
    {
     "name": "stdout",
     "output_type": "stream",
     "text": [
      "epoch: 1, [batch: 11833 / 13148], examples_per_second: 3794.7375, train_label_loss: 0.0143, \n"
     ]
    },
    {
     "name": "stdout",
     "output_type": "stream",
     "text": [
      "=============================================================\n",
      "epoch: 1, source_val_acc_label: 0.9752, target_val_acc_label: 0.2231, source_val_label_loss: 0.1124, target_val_label_loss: 2.3547, \n",
      "=============================================================\n"
     ]
    },
    {
     "name": "stdout",
     "output_type": "stream",
     "text": [
      "New best\n"
     ]
    },
    {
     "name": "stdout",
     "output_type": "stream",
     "text": [
      "epoch: 2, [batch: 1 / 13145], examples_per_second: 3.0237, train_label_loss: 0.0817, \n"
     ]
    },
    {
     "name": "stdout",
     "output_type": "stream",
     "text": [
      "epoch: 2, [batch: 1315 / 13145], examples_per_second: 3751.9223, train_label_loss: 0.0016, \n"
     ]
    },
    {
     "name": "stdout",
     "output_type": "stream",
     "text": [
      "epoch: 2, [batch: 2629 / 13145], examples_per_second: 3786.3310, train_label_loss: 0.0011, \n"
     ]
    },
    {
     "name": "stdout",
     "output_type": "stream",
     "text": [
      "epoch: 2, [batch: 3944 / 13145], examples_per_second: 3805.7498, train_label_loss: 0.0118, \n"
     ]
    },
    {
     "name": "stdout",
     "output_type": "stream",
     "text": [
      "epoch: 2, [batch: 5258 / 13145], examples_per_second: 3756.7492, train_label_loss: 0.0483, \n"
     ]
    },
    {
     "name": "stdout",
     "output_type": "stream",
     "text": [
      "epoch: 2, [batch: 6573 / 13145], examples_per_second: 3782.9645, train_label_loss: 0.0025, \n"
     ]
    },
    {
     "name": "stdout",
     "output_type": "stream",
     "text": [
      "epoch: 2, [batch: 7887 / 13145], examples_per_second: 3832.4225, train_label_loss: 0.1966, \n"
     ]
    },
    {
     "name": "stdout",
     "output_type": "stream",
     "text": [
      "epoch: 2, [batch: 9201 / 13145], examples_per_second: 3798.5843, train_label_loss: 0.0033, \n"
     ]
    },
    {
     "name": "stdout",
     "output_type": "stream",
     "text": [
      "epoch: 2, [batch: 10516 / 13145], examples_per_second: 3812.0141, train_label_loss: 0.0024, \n"
     ]
    },
    {
     "name": "stdout",
     "output_type": "stream",
     "text": [
      "epoch: 2, [batch: 11830 / 13145], examples_per_second: 3821.8560, train_label_loss: 0.0033, \n"
     ]
    },
    {
     "name": "stdout",
     "output_type": "stream",
     "text": [
      "=============================================================\n",
      "epoch: 2, source_val_acc_label: 0.9831, target_val_acc_label: 0.2229, source_val_label_loss: 0.0728, target_val_label_loss: 2.3951, \n",
      "=============================================================\n"
     ]
    },
    {
     "name": "stdout",
     "output_type": "stream",
     "text": [
      "epoch: 3, [batch: 1 / 13153], examples_per_second: 3.0392, train_label_loss: 0.0009, \n"
     ]
    },
    {
     "name": "stdout",
     "output_type": "stream",
     "text": [
      "epoch: 3, [batch: 1316 / 13153], examples_per_second: 3767.6874, train_label_loss: 0.0893, \n"
     ]
    },
    {
     "name": "stdout",
     "output_type": "stream",
     "text": [
      "epoch: 3, [batch: 2631 / 13153], examples_per_second: 3790.5903, train_label_loss: 0.0020, \n"
     ]
    },
    {
     "name": "stdout",
     "output_type": "stream",
     "text": [
      "epoch: 3, [batch: 3946 / 13153], examples_per_second: 3790.9896, train_label_loss: 0.0004, \n"
     ]
    },
    {
     "name": "stdout",
     "output_type": "stream",
     "text": [
      "epoch: 3, [batch: 5261 / 13153], examples_per_second: 3774.9646, train_label_loss: 0.0008, \n"
     ]
    },
    {
     "name": "stdout",
     "output_type": "stream",
     "text": [
      "epoch: 3, [batch: 6577 / 13153], examples_per_second: 3758.6473, train_label_loss: 0.0004, \n"
     ]
    },
    {
     "name": "stdout",
     "output_type": "stream",
     "text": [
      "epoch: 3, [batch: 7892 / 13153], examples_per_second: 3852.7247, train_label_loss: 0.0011, \n"
     ]
    },
    {
     "name": "stdout",
     "output_type": "stream",
     "text": [
      "epoch: 3, [batch: 9207 / 13153], examples_per_second: 3831.8524, train_label_loss: 0.0018, \n"
     ]
    },
    {
     "name": "stdout",
     "output_type": "stream",
     "text": [
      "epoch: 3, [batch: 10522 / 13153], examples_per_second: 3828.1066, train_label_loss: 0.0015, \n"
     ]
    },
    {
     "name": "stdout",
     "output_type": "stream",
     "text": [
      "epoch: 3, [batch: 11837 / 13153], examples_per_second: 3846.1688, train_label_loss: 0.1071, \n"
     ]
    },
    {
     "name": "stdout",
     "output_type": "stream",
     "text": [
      "=============================================================\n",
      "epoch: 3, source_val_acc_label: 0.9850, target_val_acc_label: 0.2328, source_val_label_loss: 0.0657, target_val_label_loss: 2.3867, \n",
      "=============================================================\n"
     ]
    },
    {
     "name": "stdout",
     "output_type": "stream",
     "text": [
      "New best\n"
     ]
    },
    {
     "name": "stdout",
     "output_type": "stream",
     "text": [
      "epoch: 4, [batch: 1 / 13157], examples_per_second: 3.0417, train_label_loss: 0.0010, \n"
     ]
    },
    {
     "name": "stdout",
     "output_type": "stream",
     "text": [
      "epoch: 4, [batch: 1316 / 13157], examples_per_second: 3784.2183, train_label_loss: 0.0007, \n"
     ]
    },
    {
     "name": "stdout",
     "output_type": "stream",
     "text": [
      "epoch: 4, [batch: 2632 / 13157], examples_per_second: 3799.1059, train_label_loss: 0.0005, \n"
     ]
    },
    {
     "name": "stdout",
     "output_type": "stream",
     "text": [
      "epoch: 4, [batch: 3947 / 13157], examples_per_second: 3833.7727, train_label_loss: 0.0021, \n"
     ]
    },
    {
     "name": "stdout",
     "output_type": "stream",
     "text": [
      "epoch: 4, [batch: 5263 / 13157], examples_per_second: 3830.1778, train_label_loss: 0.0000, \n"
     ]
    },
    {
     "name": "stdout",
     "output_type": "stream",
     "text": [
      "epoch: 4, [batch: 6579 / 13157], examples_per_second: 3826.0278, train_label_loss: 0.0715, \n"
     ]
    },
    {
     "name": "stdout",
     "output_type": "stream",
     "text": [
      "epoch: 4, [batch: 7894 / 13157], examples_per_second: 3818.5654, train_label_loss: 0.1264, \n"
     ]
    },
    {
     "name": "stdout",
     "output_type": "stream",
     "text": [
      "epoch: 4, [batch: 9210 / 13157], examples_per_second: 3799.9999, train_label_loss: 0.0862, \n"
     ]
    },
    {
     "name": "stdout",
     "output_type": "stream",
     "text": [
      "epoch: 4, [batch: 10525 / 13157], examples_per_second: 3812.0781, train_label_loss: 0.0001, \n"
     ]
    },
    {
     "name": "stdout",
     "output_type": "stream",
     "text": [
      "epoch: 4, [batch: 11841 / 13157], examples_per_second: 3829.8414, train_label_loss: 0.0000, \n"
     ]
    },
    {
     "name": "stdout",
     "output_type": "stream",
     "text": [
      "=============================================================\n",
      "epoch: 4, source_val_acc_label: 0.9854, target_val_acc_label: 0.2039, source_val_label_loss: 0.0648, target_val_label_loss: 2.5665, \n",
      "=============================================================\n"
     ]
    },
    {
     "name": "stdout",
     "output_type": "stream",
     "text": [
      "epoch: 5, [batch: 1 / 13184], examples_per_second: 2.9959, train_label_loss: 0.0000, \n"
     ]
    },
    {
     "name": "stdout",
     "output_type": "stream",
     "text": [
      "epoch: 5, [batch: 1319 / 13184], examples_per_second: 3737.2196, train_label_loss: 0.2097, \n"
     ]
    },
    {
     "name": "stdout",
     "output_type": "stream",
     "text": [
      "epoch: 5, [batch: 2637 / 13184], examples_per_second: 3762.8441, train_label_loss: 0.0012, \n"
     ]
    },
    {
     "name": "stdout",
     "output_type": "stream",
     "text": [
      "epoch: 5, [batch: 3955 / 13184], examples_per_second: 3782.5717, train_label_loss: 0.0005, \n"
     ]
    },
    {
     "name": "stdout",
     "output_type": "stream",
     "text": [
      "epoch: 5, [batch: 5274 / 13184], examples_per_second: 3779.1869, train_label_loss: 0.0001, \n"
     ]
    },
    {
     "name": "stdout",
     "output_type": "stream",
     "text": [
      "epoch: 5, [batch: 6592 / 13184], examples_per_second: 3818.5101, train_label_loss: 0.4013, \n"
     ]
    },
    {
     "name": "stdout",
     "output_type": "stream",
     "text": [
      "epoch: 5, [batch: 7910 / 13184], examples_per_second: 3832.1973, train_label_loss: 0.0397, \n"
     ]
    },
    {
     "name": "stdout",
     "output_type": "stream",
     "text": [
      "epoch: 5, [batch: 9229 / 13184], examples_per_second: 3814.9029, train_label_loss: 0.0010, \n"
     ]
    },
    {
     "name": "stdout",
     "output_type": "stream",
     "text": [
      "epoch: 5, [batch: 10547 / 13184], examples_per_second: 3799.1313, train_label_loss: 0.0001, \n"
     ]
    },
    {
     "name": "stdout",
     "output_type": "stream",
     "text": [
      "epoch: 5, [batch: 11865 / 13184], examples_per_second: 3806.8674, train_label_loss: 0.0001, \n"
     ]
    },
    {
     "name": "stdout",
     "output_type": "stream",
     "text": [
      "=============================================================\n",
      "epoch: 5, source_val_acc_label: 0.9859, target_val_acc_label: 0.1994, source_val_label_loss: 0.0627, target_val_label_loss: 2.5956, \n",
      "=============================================================\n"
     ]
    },
    {
     "name": "stdout",
     "output_type": "stream",
     "text": [
      "epoch: 6, [batch: 1 / 13166], examples_per_second: 3.0333, train_label_loss: 0.0010, \n"
     ]
    },
    {
     "name": "stdout",
     "output_type": "stream",
     "text": [
      "epoch: 6, [batch: 1317 / 13166], examples_per_second: 3745.2541, train_label_loss: 0.0018, \n"
     ]
    },
    {
     "name": "stdout",
     "output_type": "stream",
     "text": [
      "epoch: 6, [batch: 2634 / 13166], examples_per_second: 3780.4521, train_label_loss: 0.0005, \n"
     ]
    },
    {
     "name": "stdout",
     "output_type": "stream",
     "text": [
      "epoch: 6, [batch: 3950 / 13166], examples_per_second: 3790.4363, train_label_loss: 0.1908, \n"
     ]
    },
    {
     "name": "stdout",
     "output_type": "stream",
     "text": [
      "epoch: 6, [batch: 5267 / 13166], examples_per_second: 3766.7329, train_label_loss: 0.0001, \n"
     ]
    },
    {
     "name": "stdout",
     "output_type": "stream",
     "text": [
      "epoch: 6, [batch: 6583 / 13166], examples_per_second: 3796.4802, train_label_loss: 0.0795, \n"
     ]
    },
    {
     "name": "stdout",
     "output_type": "stream",
     "text": [
      "epoch: 6, [batch: 7900 / 13166], examples_per_second: 3786.7202, train_label_loss: 0.0476, \n"
     ]
    },
    {
     "name": "stdout",
     "output_type": "stream",
     "text": [
      "epoch: 6, [batch: 9216 / 13166], examples_per_second: 3756.9254, train_label_loss: 0.1410, \n"
     ]
    },
    {
     "name": "stdout",
     "output_type": "stream",
     "text": [
      "epoch: 6, [batch: 10533 / 13166], examples_per_second: 3809.3015, train_label_loss: 0.0487, \n"
     ]
    },
    {
     "name": "stdout",
     "output_type": "stream",
     "text": [
      "epoch: 6, [batch: 11849 / 13166], examples_per_second: 3822.8247, train_label_loss: 0.0001, \n"
     ]
    },
    {
     "name": "stdout",
     "output_type": "stream",
     "text": [
      "=============================================================\n",
      "epoch: 6, source_val_acc_label: 0.9860, target_val_acc_label: 0.2056, source_val_label_loss: 0.0623, target_val_label_loss: 2.7051, \n",
      "=============================================================\n"
     ]
    },
    {
     "name": "stdout",
     "output_type": "stream",
     "text": [
      "epoch: 7, [batch: 1 / 13163], examples_per_second: 3.0285, train_label_loss: 0.0046, \n"
     ]
    },
    {
     "name": "stdout",
     "output_type": "stream",
     "text": [
      "epoch: 7, [batch: 1317 / 13163], examples_per_second: 3760.2924, train_label_loss: 0.0001, \n"
     ]
    },
    {
     "name": "stdout",
     "output_type": "stream",
     "text": [
      "epoch: 7, [batch: 2633 / 13163], examples_per_second: 3813.5480, train_label_loss: 0.0000, \n"
     ]
    },
    {
     "name": "stdout",
     "output_type": "stream",
     "text": [
      "epoch: 7, [batch: 3949 / 13163], examples_per_second: 3820.5110, train_label_loss: 0.0001, \n"
     ]
    },
    {
     "name": "stdout",
     "output_type": "stream",
     "text": [
      "epoch: 7, [batch: 5265 / 13163], examples_per_second: 3796.9042, train_label_loss: 0.2015, \n"
     ]
    },
    {
     "name": "stdout",
     "output_type": "stream",
     "text": [
      "epoch: 7, [batch: 6582 / 13163], examples_per_second: 3816.4354, train_label_loss: 0.0000, \n"
     ]
    },
    {
     "name": "stdout",
     "output_type": "stream",
     "text": [
      "epoch: 7, [batch: 7898 / 13163], examples_per_second: 3819.5849, train_label_loss: 0.0001, \n"
     ]
    },
    {
     "name": "stdout",
     "output_type": "stream",
     "text": [
      "epoch: 7, [batch: 9214 / 13163], examples_per_second: 3802.1594, train_label_loss: 0.0059, \n"
     ]
    },
    {
     "name": "stdout",
     "output_type": "stream",
     "text": [
      "epoch: 7, [batch: 10530 / 13163], examples_per_second: 3779.4731, train_label_loss: 0.0814, \n"
     ]
    },
    {
     "name": "stdout",
     "output_type": "stream",
     "text": [
      "epoch: 7, [batch: 11846 / 13163], examples_per_second: 3831.8111, train_label_loss: 0.0008, \n"
     ]
    },
    {
     "name": "stdout",
     "output_type": "stream",
     "text": [
      "=============================================================\n",
      "epoch: 7, source_val_acc_label: 0.9858, target_val_acc_label: 0.1941, source_val_label_loss: 0.0664, target_val_label_loss: 2.9015, \n",
      "=============================================================\n"
     ]
    },
    {
     "name": "stdout",
     "output_type": "stream",
     "text": [
      "Patience (3) exhausted\n"
     ]
    }
   ],
   "source": [
    "###################################\n",
    "# train\n",
    "###################################\n",
    "jig = PTN_Train_Eval_Test_Jig(model, p.BEST_MODEL_PATH, p.device)\n",
    "\n",
    "jig.train(\n",
    "    train_iterable=datasets.source.processed.train,\n",
    "    source_val_iterable=datasets.source.processed.val,\n",
    "    target_val_iterable=datasets.target.processed.val,\n",
    "    num_epochs=p.n_epoch,\n",
    "    num_logs_per_epoch=p.NUM_LOGS_PER_EPOCH,\n",
    "    patience=p.patience,\n",
    "    optimizer=optimizer,\n",
    "    criteria_for_best=p.criteria_for_best,\n",
    ")"
   ]
  },
  {
   "cell_type": "code",
   "execution_count": 23,
   "id": "31e8fabf",
   "metadata": {
    "execution": {
     "iopub.execute_input": "2022-03-20T19:20:05.166429Z",
     "iopub.status.busy": "2022-03-20T19:20:05.166171Z",
     "iopub.status.idle": "2022-03-20T19:20:05.184999Z",
     "shell.execute_reply": "2022-03-20T19:20:05.184557Z"
    },
    "papermill": {
     "duration": 0.05061,
     "end_time": "2022-03-20T19:20:05.185109",
     "exception": false,
     "start_time": "2022-03-20T19:20:05.134499",
     "status": "completed"
    },
    "tags": []
   },
   "outputs": [],
   "source": [
    "total_experiment_time_secs = time.time() - start_time_secs"
   ]
  },
  {
   "cell_type": "code",
   "execution_count": 24,
   "id": "87b9595b",
   "metadata": {
    "execution": {
     "iopub.execute_input": "2022-03-20T19:20:05.253746Z",
     "iopub.status.busy": "2022-03-20T19:20:05.249294Z",
     "iopub.status.idle": "2022-03-20T19:22:24.206706Z",
     "shell.execute_reply": "2022-03-20T19:22:24.207109Z"
    },
    "papermill": {
     "duration": 138.989165,
     "end_time": "2022-03-20T19:22:24.207265",
     "exception": false,
     "start_time": "2022-03-20T19:20:05.218100",
     "status": "completed"
    },
    "tags": []
   },
   "outputs": [],
   "source": [
    "###################################\n",
    "# Evaluate the model\n",
    "###################################\n",
    "source_test_label_accuracy, source_test_label_loss = jig.test(datasets.source.processed.test)\n",
    "target_test_label_accuracy, target_test_label_loss = jig.test(datasets.target.processed.test)\n",
    "\n",
    "source_val_label_accuracy, source_val_label_loss = jig.test(datasets.source.processed.val)\n",
    "target_val_label_accuracy, target_val_label_loss = jig.test(datasets.target.processed.val)\n",
    "\n",
    "history = jig.get_history()\n",
    "\n",
    "total_epochs_trained = len(history[\"epoch_indices\"])\n",
    "\n",
    "val_dl = Iterable_Aggregator((datasets.source.original.val,datasets.target.original.val))\n",
    "\n",
    "confusion = ptn_confusion_by_domain_over_dataloader(model, p.device, val_dl)\n",
    "per_domain_accuracy = per_domain_accuracy_from_confusion(confusion)\n",
    "\n",
    "# Add a key to per_domain_accuracy for if it was a source domain\n",
    "for domain, accuracy in per_domain_accuracy.items():\n",
    "    per_domain_accuracy[domain] = {\n",
    "        \"accuracy\": accuracy,\n",
    "        \"source?\": domain in p.domains_source\n",
    "    }\n",
    "\n",
    "# Do an independent accuracy assesment JUST TO BE SURE!\n",
    "# _source_test_label_accuracy = independent_accuracy_assesment(model, datasets.source.processed.test, p.device)\n",
    "# _target_test_label_accuracy = independent_accuracy_assesment(model, datasets.target.processed.test, p.device)\n",
    "# _source_val_label_accuracy = independent_accuracy_assesment(model, datasets.source.processed.val, p.device)\n",
    "# _target_val_label_accuracy = independent_accuracy_assesment(model, datasets.target.processed.val, p.device)\n",
    "\n",
    "# assert(_source_test_label_accuracy == source_test_label_accuracy)\n",
    "# assert(_target_test_label_accuracy == target_test_label_accuracy)\n",
    "# assert(_source_val_label_accuracy == source_val_label_accuracy)\n",
    "# assert(_target_val_label_accuracy == target_val_label_accuracy)\n",
    "\n",
    "experiment = {\n",
    "    \"experiment_name\": p.experiment_name,\n",
    "    \"parameters\": dict(p),\n",
    "    \"results\": {\n",
    "        \"source_test_label_accuracy\": source_test_label_accuracy,\n",
    "        \"source_test_label_loss\": source_test_label_loss,\n",
    "        \"target_test_label_accuracy\": target_test_label_accuracy,\n",
    "        \"target_test_label_loss\": target_test_label_loss,\n",
    "        \"source_val_label_accuracy\": source_val_label_accuracy,\n",
    "        \"source_val_label_loss\": source_val_label_loss,\n",
    "        \"target_val_label_accuracy\": target_val_label_accuracy,\n",
    "        \"target_val_label_loss\": target_val_label_loss,\n",
    "        \"total_epochs_trained\": total_epochs_trained,\n",
    "        \"total_experiment_time_secs\": total_experiment_time_secs,\n",
    "        \"confusion\": confusion,\n",
    "        \"per_domain_accuracy\": per_domain_accuracy,\n",
    "    },\n",
    "    \"history\": history,\n",
    "    \"dataset_metrics\": get_dataset_metrics(datasets, \"ptn\"),\n",
    "}"
   ]
  },
  {
   "cell_type": "code",
   "execution_count": 25,
   "id": "54a21829",
   "metadata": {
    "execution": {
     "iopub.execute_input": "2022-03-20T19:22:24.274144Z",
     "iopub.status.busy": "2022-03-20T19:22:24.273885Z",
     "iopub.status.idle": "2022-03-20T19:22:24.398751Z",
     "shell.execute_reply": "2022-03-20T19:22:24.398967Z"
    },
    "papermill": {
     "duration": 0.156791,
     "end_time": "2022-03-20T19:22:24.399032",
     "exception": false,
     "start_time": "2022-03-20T19:22:24.242241",
     "status": "completed"
    },
    "tags": []
   },
   "outputs": [
    {
     "data": {
      "image/png": "[encoded data removed]",
      "text/plain": [
       "<Figure size 1080x504 with 1 Axes>"
      ]
     },
     "metadata": {
      "needs_background": "light"
     },
     "output_type": "display_data"
    }
   ],
   "source": [
    "ax = get_loss_curve(experiment)\n",
    "plt.show()"
   ]
  },
  {
   "cell_type": "code",
   "execution_count": 26,
   "id": "fd8a0f60",
   "metadata": {
    "execution": {
     "iopub.execute_input": "2022-03-20T19:22:24.464901Z",
     "iopub.status.busy": "2022-03-20T19:22:24.464643Z",
     "iopub.status.idle": "2022-03-20T19:22:24.605872Z",
     "shell.execute_reply": "2022-03-20T19:22:24.606095Z"
    },
    "papermill": {
     "duration": 0.173668,
     "end_time": "2022-03-20T19:22:24.606161",
     "exception": false,
     "start_time": "2022-03-20T19:22:24.432493",
     "status": "completed"
    },
    "tags": []
   },
   "outputs": [
    {
     "data": {
      "text/plain": [
       "<AxesSubplot:title={'center':'Results'}>"
      ]
     },
     "execution_count": 26,
     "metadata": {},
     "output_type": "execute_result"
    },
    {
     "data": {
      "image/png": "[encoded data removed]",
      "text/plain": [
       "<Figure size 1080x504 with 1 Axes>"
      ]
     },
     "metadata": {
      "needs_background": "light"
     },
     "output_type": "display_data"
    }
   ],
   "source": [
    "get_results_table(experiment)"
   ]
  },
  {
   "cell_type": "code",
   "execution_count": 27,
   "id": "cf8dc689",
   "metadata": {
    "execution": {
     "iopub.execute_input": "2022-03-20T19:22:24.671597Z",
     "iopub.status.busy": "2022-03-20T19:22:24.671341Z",
     "iopub.status.idle": "2022-03-20T19:22:24.818252Z",
     "shell.execute_reply": "2022-03-20T19:22:24.818632Z"
    },
    "papermill": {
     "duration": 0.180672,
     "end_time": "2022-03-20T19:22:24.818743",
     "exception": false,
     "start_time": "2022-03-20T19:22:24.638071",
     "status": "completed"
    },
    "tags": []
   },
   "outputs": [
    {
     "data": {
      "text/plain": [
       "<AxesSubplot:title={'center':'Per Domain Validation Accuracy'}, xlabel='domain'>"
      ]
     },
     "execution_count": 27,
     "metadata": {},
     "output_type": "execute_result"
    },
    {
     "data": {
      "image/png": "[encoded data removed]",
      "text/plain": [
       "<Figure size 1080x504 with 1 Axes>"
      ]
     },
     "metadata": {
      "needs_background": "light"
     },
     "output_type": "display_data"
    }
   ],
   "source": [
    "get_domain_accuracies(experiment)"
   ]
  },
  {
   "cell_type": "code",
   "execution_count": 28,
   "id": "a74ae082",
   "metadata": {
    "execution": {
     "iopub.execute_input": "2022-03-20T19:22:24.890093Z",
     "iopub.status.busy": "2022-03-20T19:22:24.889838Z",
     "iopub.status.idle": "2022-03-20T19:22:24.907028Z",
     "shell.execute_reply": "2022-03-20T19:22:24.907442Z"
    },
    "papermill": {
     "duration": 0.052448,
     "end_time": "2022-03-20T19:22:24.907541",
     "exception": false,
     "start_time": "2022-03-20T19:22:24.855093",
     "status": "completed"
    },
    "tags": []
   },
   "outputs": [
    {
     "name": "stdout",
     "output_type": "stream",
     "text": [
      "Source Test Label Accuracy: 0.9840468497576736 Target Test Label Accuracy: 0.22945963541666667\n",
      "Source Val Label Accuracy: 0.984983543609435 Target Val Label Accuracy: 0.2328125\n"
     ]
    }
   ],
   "source": [
    "print(\"Source Test Label Accuracy:\", experiment[\"results\"][\"source_test_label_accuracy\"], \"Target Test Label Accuracy:\", experiment[\"results\"][\"target_test_label_accuracy\"])\n",
    "print(\"Source Val Label Accuracy:\", experiment[\"results\"][\"source_val_label_accuracy\"], \"Target Val Label Accuracy:\", experiment[\"results\"][\"target_val_label_accuracy\"])"
   ]
  },
  {
   "cell_type": "code",
   "execution_count": 29,
   "id": "dacca602",
   "metadata": {
    "execution": {
     "iopub.execute_input": "2022-03-20T19:22:24.979526Z",
     "iopub.status.busy": "2022-03-20T19:22:24.979270Z",
     "iopub.status.idle": "2022-03-20T19:22:24.997071Z",
     "shell.execute_reply": "2022-03-20T19:22:24.997451Z"
    },
    "papermill": {
     "duration": 0.05398,
     "end_time": "2022-03-20T19:22:24.997559",
     "exception": false,
     "start_time": "2022-03-20T19:22:24.943579",
     "status": "completed"
    },
    "tags": [
     "experiment_json"
    ]
   },
   "outputs": [
    {
     "data": {
      "text/plain": [
       "'{\"experiment_name\": \"tl_3Av2:cores+wisig -> oracle.run1.framed\", \"parameters\": {\"experiment_name\": \"tl_3Av2:cores+wisig -> oracle.run1.framed\", \"device\": \"cuda\", \"lr\": 0.0001, \"x_shape\": [2, 200], \"n_shot\": 3, \"n_query\": 2, \"train_k_factor\": 3, \"val_k_factor\": 2, \"test_k_factor\": 2, \"torch_default_dtype\": \"torch.float32\", \"n_epoch\": 50, \"patience\": 3, \"criteria_for_best\": \"target_accuracy\", \"x_net\": [{\"class\": \"nnReshape\", \"kargs\": {\"shape\": [-1, 1, 2, 200]}}, {\"class\": \"Conv2d\", \"kargs\": {\"in_channels\": 1, \"out_channels\": 256, \"kernel_size\": [1, 7], \"bias\": false, \"padding\": [0, 3]}}, {\"class\": \"ReLU\", \"kargs\": {\"inplace\": true}}, {\"class\": \"BatchNorm2d\", \"kargs\": {\"num_features\": 256}}, {\"class\": \"Conv2d\", \"kargs\": {\"in_channels\": 256, \"out_channels\": 80, \"kernel_size\": [2, 7], \"bias\": true, \"padding\": [0, 3]}}, {\"class\": \"ReLU\", \"kargs\": {\"inplace\": true}}, {\"class\": \"BatchNorm2d\", \"kargs\": {\"num_features\": 80}}, {\"class\": \"Flatten\", \"kargs\": {}}, {\"class\": \"Linear\", \"kargs\": {\"in_features\": 16000, \"out_features\": 256}}, {\"class\": \"ReLU\", \"kargs\": {\"inplace\": true}}, {\"class\": \"BatchNorm1d\", \"kargs\": {\"num_features\": 256}}, {\"class\": \"Linear\", \"kargs\": {\"in_features\": 256, \"out_features\": 256}}], \"NUM_LOGS_PER_EPOCH\": 10, \"BEST_MODEL_PATH\": \"./best_model.pth\", \"n_way\": 16, \"datasets\": [{\"labels\": [\"1-10.\", \"1-11.\", \"1-15.\", \"1-16.\", \"1-17.\", \"1-18.\", \"1-19.\", \"10-4.\", \"10-7.\", \"11-1.\", \"11-14.\", \"11-17.\", \"11-20.\", \"11-7.\", \"13-20.\", \"13-8.\", \"14-10.\", \"14-11.\", \"14-14.\", \"14-7.\", \"15-1.\", \"15-20.\", \"16-1.\", \"16-16.\", \"17-10.\", \"17-11.\", \"17-2.\", \"19-1.\", \"19-16.\", \"19-19.\", \"19-20.\", \"19-3.\", \"2-10.\", \"2-11.\", \"2-17.\", \"2-18.\", \"2-20.\", \"2-3.\", \"2-4.\", \"2-5.\", \"2-6.\", \"2-7.\", \"2-8.\", \"3-13.\", \"3-18.\", \"3-3.\", \"4-1.\", \"4-10.\", \"4-11.\", \"4-19.\", \"5-5.\", \"6-15.\", \"7-10.\", \"7-14.\", \"8-18.\", \"8-20.\", \"8-3.\", \"8-8.\"], \"domains\": [1, 2, 3, 4, 5], \"num_examples_per_domain_per_label\": -1, \"pickle_path\": \"/mnt/wd500GB/CSC500/csc500-main/datasets/cores.stratified_ds.2022A.pkl\", \"source_or_target_dataset\": \"source\", \"x_transforms\": [\"unit_power\", \"take_200\"], \"episode_transforms\": [], \"domain_prefix\": \"C_\"}, {\"labels\": [\"1-10\", \"1-12\", \"1-14\", \"1-16\", \"1-18\", \"1-19\", \"1-8\", \"10-11\", \"10-17\", \"10-4\", \"10-7\", \"11-1\", \"11-10\", \"11-19\", \"11-20\", \"11-4\", \"11-7\", \"12-19\", \"12-20\", \"12-7\", \"13-14\", \"13-18\", \"13-19\", \"13-20\", \"13-3\", \"13-7\", \"14-10\", \"14-11\", \"14-12\", \"14-13\", \"14-14\", \"14-19\", \"14-20\", \"14-7\", \"14-8\", \"14-9\", \"15-1\", \"15-19\", \"15-6\", \"16-1\", \"16-16\", \"16-19\", \"16-20\", \"17-10\", \"17-11\", \"18-1\", \"18-10\", \"18-11\", \"18-12\", \"18-13\", \"18-14\", \"18-15\", \"18-16\", \"18-17\", \"18-19\", \"18-2\", \"18-20\", \"18-4\", \"18-5\", \"18-7\", \"18-8\", \"18-9\", \"19-1\", \"19-10\", \"19-11\", \"19-12\", \"19-13\", \"19-14\", \"19-15\", \"19-19\", \"19-2\", \"19-20\", \"19-3\", \"19-4\", \"19-6\", \"19-7\", \"19-8\", \"19-9\", \"2-1\", \"2-13\", \"2-15\", \"2-3\", \"2-4\", \"2-5\", \"2-6\", \"2-7\", \"2-8\", \"20-1\", \"20-12\", \"20-14\", \"20-15\", \"20-16\", \"20-18\", \"20-19\", \"20-20\", \"20-3\", \"20-4\", \"20-5\", \"20-7\", \"20-8\", \"3-1\", \"3-13\", \"3-18\", \"3-2\", \"3-8\", \"4-1\", \"4-10\", \"4-11\", \"5-1\", \"5-5\", \"6-1\", \"6-15\", \"6-6\", \"7-10\", \"7-11\", \"7-12\", \"7-13\", \"7-14\", \"7-7\", \"7-8\", \"7-9\", \"8-1\", \"8-13\", \"8-14\", \"8-18\", \"8-20\", \"8-3\", \"8-8\", \"9-1\", \"9-7\"], \"domains\": [1, 2, 3, 4], \"num_examples_per_domain_per_label\": -1, \"pickle_path\": \"/mnt/wd500GB/CSC500/csc500-main/datasets/wisig.node3-19.stratified_ds.2022A.pkl\", \"source_or_target_dataset\": \"source\", \"x_transforms\": [\"unit_power\", \"take_200\"], \"episode_transforms\": [], \"domain_prefix\": \"W_\"}, {\"labels\": [\"3123D52\", \"3123D65\", \"3123D79\", \"3123D80\", \"3123D54\", \"3123D70\", \"3123D7B\", \"3123D89\", \"3123D58\", \"3123D76\", \"3123D7D\", \"3123EFE\", \"3123D64\", \"3123D78\", \"3123D7E\", \"3124E4A\"], \"domains\": [32, 38, 8, 44, 14, 50, 20, 26], \"num_examples_per_domain_per_label\": 2000, \"pickle_path\": \"/mnt/wd500GB/CSC500/csc500-main/datasets/oracle.Run1_framed_2000Examples_stratified_ds.2022A.pkl\", \"source_or_target_dataset\": \"target\", \"x_transforms\": [\"unit_power\", \"take_200\", \"resample_20Msps_to_25Msps\"], \"episode_transforms\": [], \"domain_prefix\": \"O_\"}], \"seed\": 500, \"dataset_seed\": 500, \"domains_source\": [\"C_1\", \"C_2\", \"C_3\", \"C_4\", \"C_5\", \"W_1\", \"W_2\", \"W_3\", \"W_4\"], \"domains_target\": [\"O_32\", \"O_38\", \"O_8\", \"O_44\", \"O_14\", \"O_50\", \"O_20\", \"O_26\"]}, \"results\": {\"source_test_label_accuracy\": 0.9840468497576736, \"source_test_label_loss\": 0.07163795083761215, \"target_test_label_accuracy\": 0.22945963541666667, \"target_test_label_loss\": 2.3711349964141846, \"source_val_label_accuracy\": 0.984983543609435, \"source_val_label_loss\": 0.06572272628545761, \"target_val_label_accuracy\": 0.2328125, \"target_val_label_loss\": 2.386697769165039, \"total_epochs_trained\": 7, \"total_experiment_time_secs\": 2197.1065142154694, \"confusion\": {\"W_3\": {\"99\": {\"99\": 34, \"22\": 1, \"10\": 1}, \"8\": {\"8\": 124}, \"65\": {\"76\": 1, \"65\": 11}, \"117\": {\"117\": 110, \"114\": 1, \"106\": 1}, \"18\": {\"18\": 123, \"105\": 1}, \"39\": {\"39\": 107, \"16\": 1}, \"102\": {\"102\": 124}, \"76\": {\"42\": 1, \"76\": 15}, \"101\": {\"101\": 50, \"0\": 1, \"129\": 1}, \"57\": {\"57\": 20}, \"86\": {\"86\": 27, \"101\": 1}, \"11\": {\"11\": 131, \"88\": 1}, \"98\": {\"98\": 128}, \"42\": {\"42\": 25, \"49\": 2, \"88\": 1}, \"47\": {\"47\": 12}, \"49\": {\"49\": 23, \"70\": 1}, \"111\": {\"111\": 131, \"124\": 1}, \"36\": {\"36\": 114, \"24\": 2}, \"124\": {\"124\": 104, \"89\": 1, \"90\": 1}, \"122\": {\"122\": 55, \"21\": 1, \"18\": 1, \"5\": 1, \"70\": 1, \"43\": 1}, \"93\": {\"93\": 142}, \"89\": {\"89\": 28}, \"51\": {\"51\": 15, \"68\": 1}, \"73\": {\"73\": 39, \"21\": 1}, \"45\": {\"45\": 16}, \"5\": {\"5\": 108, \"97\": 1, \"69\": 1, \"101\": 1, \"33\": 1}, \"69\": {\"69\": 83, \"106\": 1}, \"26\": {\"26\": 130}, \"1\": {\"1\": 107, \"69\": 1}, \"92\": {\"92\": 32}, \"96\": {\"96\": 20}, \"85\": {\"85\": 36}, \"114\": {\"114\": 125, \"101\": 1}, \"50\": {\"50\": 16}, \"81\": {\"81\": 32}, \"2\": {\"2\": 27, \"92\": 1}, \"33\": {\"33\": 145, \"21\": 1}, \"31\": {\"31\": 20}, \"90\": {\"90\": 116, \"6\": 1, \"26\": 1}, \"17\": {\"86\": 2, \"23\": 2, \"63\": 1, \"43\": 1, \"17\": 9, \"78\": 1}, \"116\": {\"116\": 27, \"63\": 1}, \"91\": {\"91\": 22, \"6\": 1, \"117\": 1}, \"120\": {\"120\": 20}, \"128\": {\"128\": 32}, \"78\": {\"78\": 11, \"17\": 1, \"84\": 1, \"69\": 1, \"92\": 1, \"40\": 1}, \"58\": {\"58\": 16}, \"23\": {\"23\": 26, \"68\": 2, \"60\": 2, \"123\": 1, \"19\": 1}, \"15\": {\"15\": 102, \"93\": 1, \"69\": 1}, \"74\": {\"74\": 16}, \"34\": {\"34\": 31, \"5\": 1}, \"103\": {\"103\": 16}, \"106\": {\"106\": 100}, \"44\": {\"44\": 71, \"113\": 1}, \"9\": {\"9\": 30, \"14\": 1, \"80\": 1}, \"97\": {\"97\": 20}, \"123\": {\"123\": 14, \"86\": 1, \"114\": 1}, \"6\": {\"6\": 31, \"69\": 1}, \"68\": {\"68\": 16}, \"24\": {\"24\": 48}, \"21\": {\"21\": 44, \"89\": 1, \"39\": 1, \"31\": 1, \"69\": 1}, \"83\": {\"83\": 22, \"70\": 1, \"1\": 1}, \"60\": {\"60\": 26, \"80\": 1, \"110\": 1}, \"87\": {\"87\": 120}, \"30\": {\"30\": 79, \"11\": 1, \"3\": 1, \"94\": 1, \"17\": 1, \"124\": 1}, \"43\": {\"43\": 53, \"129\": 1, \"21\": 2}, \"115\": {\"115\": 16}, \"40\": {\"40\": 119, \"69\": 1}, \"112\": {\"112\": 14, \"48\": 1, \"69\": 1}, \"66\": {\"66\": 16}, \"110\": {\"110\": 91, \"73\": 1}, \"3\": {\"3\": 112, \"5\": 1, \"102\": 1}, \"20\": {\"20\": 16}, \"28\": {\"28\": 16}, \"84\": {\"84\": 104, \"1\": 1, \"89\": 1, \"16\": 2}, \"79\": {\"79\": 12}, \"118\": {\"118\": 97, \"117\": 1, \"8\": 2}, \"56\": {\"56\": 10, \"28\": 1, \"82\": 1}, \"48\": {\"48\": 14, \"13\": 1, \"79\": 1}, \"77\": {\"77\": 16}, \"14\": {\"14\": 80}, \"64\": {\"64\": 20}, \"67\": {\"67\": 15, \"40\": 1}, \"62\": {\"62\": 124}, \"75\": {\"75\": 16}, \"63\": {\"63\": 13, \"34\": 1, \"1\": 1, \"14\": 1}, \"7\": {\"7\": 112}, \"125\": {\"125\": 100, \"124\": 1, \"8\": 1, \"31\": 1, \"101\": 1}, \"37\": {\"37\": 16}, \"121\": {\"121\": 29, \"84\": 1, \"22\": 1, \"48\": 1}, \"16\": {\"16\": 101, \"40\": 1, \"94\": 1, \"87\": 1}, \"35\": {\"35\": 11, \"70\": 1}, \"32\": {\"32\": 32}, \"46\": {\"46\": 16}, \"70\": {\"70\": 68, \"122\": 1, \"71\": 2, \"69\": 1}, \"129\": {\"129\": 31, \"110\": 1}, \"95\": {\"95\": 31, \"129\": 1}, \"72\": {\"72\": 28}, \"19\": {\"19\": 32}, \"52\": {\"52\": 16}, \"100\": {\"100\": 15, \"69\": 1}, \"104\": {\"104\": 16}, \"59\": {\"59\": 12}, \"109\": {\"109\": 125, \"14\": 1}, \"88\": {\"88\": 105, \"110\": 1, \"69\": 1, \"33\": 1}, \"27\": {\"27\": 88, \"21\": 1, \"69\": 1, \"26\": 1, \"110\": 1, \"36\": 2}, \"113\": {\"113\": 118, \"33\": 1, \"110\": 1}, \"105\": {\"105\": 124}, \"71\": {\"71\": 67, \"126\": 1}, \"108\": {\"108\": 121, \"70\": 1, \"8\": 1, \"88\": 1}, \"41\": {\"41\": 16}, \"80\": {\"80\": 15, \"2\": 1}, \"13\": {\"13\": 12, \"115\": 3, \"40\": 1}, \"55\": {\"55\": 16}, \"0\": {\"0\": 104, \"114\": 1, \"6\": 1}, \"25\": {\"25\": 16}, \"53\": {\"53\": 20}, \"61\": {\"61\": 16}, \"38\": {\"38\": 16}, \"127\": {\"127\": 124, \"78\": 1, \"39\": 1, \"108\": 1, \"84\": 1}, \"4\": {\"4\": 93, \"69\": 1, \"39\": 1, \"10\": 1}, \"12\": {\"12\": 104}, \"126\": {\"126\": 120, \"88\": 1, \"93\": 1, \"39\": 2}, \"29\": {\"29\": 32}, \"107\": {\"107\": 136}, \"82\": {\"82\": 28}, \"94\": {\"94\": 83, \"18\": 1}, \"54\": {\"54\": 16}, \"10\": {\"10\": 127, \"69\": 1}, \"22\": {\"22\": 16}, \"119\": {\"119\": 16}}, \"W_2\": {\"73\": {\"73\": 27, \"96\": 1}, \"40\": {\"40\": 124, \"69\": 2, \"105\": 2, \"16\": 1, \"14\": 1, \"62\": 1, \"93\": 1}, \"99\": {\"99\": 29, \"48\": 2, \"5\": 1}, \"5\": {\"5\": 107, \"109\": 1, \"62\": 2, \"69\": 1, \"88\": 1}, \"108\": {\"108\": 132}, \"128\": {\"128\": 23, \"17\": 1}, \"89\": {\"89\": 33, \"92\": 2, \"40\": 1}, \"107\": {\"107\": 52, \"5\": 1, \"94\": 1, \"21\": 2, \"10\": 1, \"70\": 1, \"47\": 1, \"71\": 1, \"26\": 1, \"109\": 1, \"14\": 2}, \"2\": {\"2\": 29, \"113\": 1, \"89\": 1, \"39\": 1}, \"78\": {\"78\": 46, \"4\": 1, \"21\": 1}, \"85\": {\"85\": 32}, \"44\": {\"44\": 100}, \"58\": {\"58\": 20}, \"57\": {\"57\": 18, \"10\": 1, \"87\": 1}, \"41\": {\"41\": 19, \"13\": 1}, \"53\": {\"53\": 16}, \"14\": {\"14\": 42, \"93\": 1, \"24\": 2, \"10\": 1, \"12\": 1, \"74\": 1}, \"83\": {\"83\": 38, \"19\": 1, \"7\": 1}, \"119\": {\"119\": 20}, \"95\": {\"95\": 35, \"87\": 1}, \"28\": {\"28\": 19, \"13\": 1}, \"19\": {\"19\": 28}, \"69\": {\"69\": 127, \"3\": 2, \"13\": 1, \"39\": 1, \"40\": 1}, \"93\": {\"93\": 132, \"125\": 1, \"98\": 1}, \"9\": {\"9\": 32}, \"118\": {\"118\": 66, \"127\": 1, \"1\": 1}, \"43\": {\"43\": 113, \"14\": 1, \"94\": 1, \"24\": 1}, \"47\": {\"47\": 12}, \"125\": {\"125\": 144}, \"29\": {\"29\": 32}, \"122\": {\"122\": 135, \"40\": 1, \"70\": 1, \"84\": 1, \"11\": 1, \"26\": 1}, \"46\": {\"46\": 16}, \"86\": {\"86\": 32}, \"70\": {\"70\": 114, \"21\": 3, \"87\": 3, \"60\": 1, \"122\": 1, \"3\": 1, \"109\": 1}, \"51\": {\"51\": 17, \"59\": 1, \"10\": 1, \"70\": 1}, \"23\": {\"23\": 40, \"78\": 1, \"121\": 1, \"29\": 1, \"110\": 1}, \"121\": {\"121\": 33, \"120\": 2, \"9\": 1}, \"63\": {\"46\": 1, \"63\": 17, \"13\": 1, \"49\": 1}, \"102\": {\"102\": 121, \"40\": 1}, \"21\": {\"21\": 44, \"3\": 1, \"62\": 1, \"69\": 1, \"36\": 1}, \"55\": {\"55\": 15, \"79\": 1}, \"54\": {\"54\": 20}, \"6\": {\"6\": 32}, \"109\": {\"109\": 95, \"87\": 1, \"88\": 1, \"12\": 1, \"21\": 1, \"1\": 1}, \"64\": {\"109\": 1, \"64\": 15}, \"20\": {\"20\": 16}, \"98\": {\"98\": 111, \"121\": 1, \"0\": 1, \"69\": 1}, \"92\": {\"92\": 26, \"13\": 1, \"53\": 1}, \"35\": {\"35\": 12}, \"113\": {\"113\": 64, \"109\": 2, \"69\": 1, \"24\": 1, \"11\": 2, \"1\": 1, \"21\": 1}, \"71\": {\"71\": 96, \"107\": 1, \"69\": 1, \"109\": 1, \"87\": 1}, \"94\": {\"94\": 55, \"71\": 1, \"42\": 1, \"78\": 1, \"69\": 2, \"89\": 1, \"16\": 1, \"74\": 1, \"87\": 1}, \"52\": {\"52\": 19, \"70\": 1}, \"116\": {\"116\": 26, \"80\": 1, \"9\": 1}, \"87\": {\"87\": 105, \"5\": 1, \"16\": 1, \"43\": 2, \"18\": 1, \"105\": 1, \"117\": 1}, \"90\": {\"90\": 148}, \"91\": {\"91\": 28}, \"84\": {\"84\": 87, \"71\": 1, \"109\": 1, \"7\": 1, \"11\": 1, \"1\": 1}, \"24\": {\"24\": 107, \"12\": 1, \"16\": 1, \"94\": 1, \"10\": 1, \"33\": 1}, \"33\": {\"33\": 131, \"87\": 1, \"69\": 2}, \"81\": {\"81\": 23, \"92\": 1}, \"115\": {\"115\": 10, \"104\": 1, \"71\": 1}, \"77\": {\"77\": 16}, \"106\": {\"106\": 116, \"21\": 1, \"87\": 1, \"43\": 1, \"24\": 1}, \"42\": {\"42\": 24, \"114\": 1, \"24\": 1, \"107\": 1, \"8\": 1}, \"38\": {\"38\": 16}, \"36\": {\"36\": 109, \"14\": 1, \"93\": 1, \"3\": 1, \"87\": 1, \"69\": 1}, \"79\": {\"79\": 16}, \"60\": {\"60\": 23, \"70\": 2, \"73\": 1, \"46\": 1, \"87\": 1}, \"80\": {\"80\": 15, \"120\": 1}, \"32\": {\"32\": 36}, \"0\": {\"0\": 115, \"16\": 1}, \"127\": {\"127\": 122, \"24\": 1, \"111\": 1}, \"114\": {\"114\": 114, \"90\": 1, \"101\": 1}, \"62\": {\"62\": 139, \"87\": 1}, \"129\": {\"129\": 32}, \"56\": {\"56\": 12}, \"76\": {\"76\": 16}, \"72\": {\"72\": 26, \"21\": 1, \"115\": 1}, \"88\": {\"88\": 121, \"71\": 1, \"111\": 1, \"93\": 1}, \"68\": {\"68\": 14, \"71\": 1, \"12\": 1}, \"67\": {\"67\": 14, \"75\": 2}, \"100\": {\"100\": 16}, \"34\": {\"34\": 29, \"0\": 1, \"24\": 1, \"124\": 1}, \"16\": {\"16\": 123, \"36\": 1}, \"126\": {\"126\": 120}, \"4\": {\"4\": 85, \"120\": 1, \"14\": 1, \"24\": 1}, \"101\": {\"101\": 146}, \"104\": {\"104\": 18, \"16\": 1, \"24\": 1}, \"30\": {\"67\": 1, \"30\": 105, \"98\": 1, \"0\": 1, \"71\": 1, \"40\": 1}, \"8\": {\"8\": 127, \"117\": 1}, \"82\": {\"82\": 34, \"16\": 1, \"70\": 1}, \"26\": {\"26\": 127, \"128\": 1, \"87\": 1, \"69\": 3, \"113\": 1, \"108\": 1, \"3\": 1, \"5\": 1, \"70\": 1, \"40\": 1}, \"96\": {\"96\": 20}, \"3\": {\"3\": 133, \"70\": 2, \"36\": 1}, \"25\": {\"25\": 14, \"36\": 1, \"3\": 1}, \"13\": {\"13\": 11, \"91\": 1, \"3\": 1, \"5\": 1, \"82\": 2}, \"37\": {\"37\": 15, \"3\": 1}, \"49\": {\"49\": 20, \"105\": 1, \"92\": 1, \"61\": 1, \"10\": 1}, \"111\": {\"111\": 136}, \"105\": {\"105\": 131, \"7\": 1}, \"17\": {\"17\": 13, \"27\": 1, \"87\": 1, \"70\": 1}, \"65\": {\"65\": 18, \"73\": 2}, \"123\": {\"123\": 15, \"39\": 1}, \"74\": {\"74\": 14, \"11\": 1, \"16\": 1}, \"97\": {\"97\": 16, \"128\": 1, \"68\": 1, \"13\": 1, \"91\": 1}, \"112\": {\"112\": 14, \"25\": 1, \"108\": 1}, \"120\": {\"120\": 20}, \"50\": {\"50\": 14, \"29\": 1, \"80\": 1}, \"59\": {\"59\": 15, \"24\": 1}, \"10\": {\"10\": 57, \"14\": 1, \"21\": 1, \"49\": 1}, \"45\": {\"45\": 15, \"47\": 1}, \"12\": {\"12\": 85, \"21\": 1, \"10\": 1, \"117\": 1}, \"75\": {\"51\": 2, \"75\": 13, \"40\": 1}, \"48\": {\"48\": 20}, \"61\": {\"61\": 17, \"10\": 1, \"69\": 1, \"89\": 1}, \"124\": {\"124\": 123, \"101\": 1}, \"11\": {\"11\": 77, \"117\": 1, \"8\": 1, \"10\": 1}, \"103\": {\"103\": 14, \"31\": 1, \"109\": 1}, \"7\": {\"7\": 128, \"109\": 1, \"110\": 1, \"69\": 1, \"78\": 1}, \"18\": {\"18\": 116, \"62\": 1, \"24\": 1, \"26\": 1, \"69\": 1}, \"31\": {\"31\": 20}, \"15\": {\"15\": 116, \"87\": 1, \"3\": 1}, \"1\": {\"1\": 121, \"94\": 1}, \"66\": {\"66\": 19, \"72\": 1}, \"110\": {\"110\": 31, \"114\": 1, \"70\": 1, \"40\": 1, \"24\": 1, \"122\": 2, \"26\": 1, \"12\": 1, \"87\": 1}, \"27\": {\"27\": 60, \"69\": 1, \"94\": 1, \"71\": 2, \"5\": 1, \"11\": 1, \"3\": 1, \"87\": 1}, \"22\": {\"22\": 18, \"43\": 1, \"75\": 1}, \"117\": {\"117\": 117, \"33\": 1, \"15\": 1, \"87\": 1}, \"39\": {\"39\": 105, \"18\": 1, \"118\": 1, \"1\": 1}}, \"C_4\": {\"38\": {\"38\": 40}, \"3\": {\"3\": 124}, \"24\": {\"24\": 56}, \"49\": {\"49\": 20}, \"7\": {\"7\": 24}, \"17\": {\"17\": 80}, \"43\": {\"43\": 148}, \"30\": {\"30\": 44}, \"44\": {\"44\": 132}, \"23\": {\"23\": 144}, \"37\": {\"37\": 24}, \"4\": {\"4\": 132}, \"57\": {\"57\": 100}, \"16\": {\"16\": 95, \"5\": 1}, \"18\": {\"18\": 107, \"3\": 1}, \"20\": {\"20\": 124}, \"45\": {\"45\": 96}, \"15\": {\"15\": 132}, \"52\": {\"52\": 116}, \"19\": {\"19\": 140}, \"54\": {\"54\": 108}, \"56\": {\"56\": 130}, \"40\": {\"40\": 134}, \"28\": {\"28\": 32}, \"2\": {\"2\": 36}, \"9\": {\"9\": 120}, \"0\": {\"0\": 80}, \"36\": {\"36\": 92}, \"55\": {\"55\": 130}, \"35\": {\"35\": 40}, \"39\": {\"39\": 20}, \"31\": {\"31\": 28}, \"14\": {\"14\": 16}, \"12\": {\"12\": 92}, \"6\": {\"6\": 112}, \"26\": {\"26\": 24}, \"50\": {\"50\": 131, \"3\": 1}, \"21\": {\"21\": 122}, \"46\": {\"46\": 140}, \"51\": {\"51\": 140}, \"41\": {\"41\": 36}, \"34\": {\"34\": 24}, \"47\": {\"47\": 120}, \"5\": {\"5\": 108}, \"1\": {\"1\": 40}, \"48\": {\"48\": 134}, \"29\": {\"29\": 118}, \"22\": {\"22\": 128}, \"10\": {\"10\": 132}, \"32\": {\"32\": 24}, \"13\": {\"13\": 112}, \"42\": {\"42\": 32}, \"27\": {\"27\": 138}, \"8\": {\"8\": 142}, \"33\": {\"33\": 36}, \"25\": {\"25\": 132}, \"11\": {\"11\": 104}, \"53\": {\"53\": 112}}, \"W_1\": {\"60\": {\"60\": 13, \"65\": 1, \"57\": 1, \"23\": 1}, \"59\": {\"60\": 1, \"59\": 10, \"13\": 1}, \"107\": {\"107\": 122, \"94\": 1, \"62\": 1}, \"113\": {\"113\": 123, \"69\": 1}, \"6\": {\"6\": 29, \"49\": 1, \"21\": 1, \"97\": 1}, \"24\": {\"24\": 91, \"62\": 1}, \"50\": {\"50\": 15, \"87\": 1}, \"62\": {\"62\": 119, \"70\": 1}, \"48\": {\"48\": 12}, \"104\": {\"104\": 16}, \"105\": {\"105\": 79, \"40\": 4, \"26\": 1}, \"44\": {\"44\": 76}, \"49\": {\"49\": 20}, \"55\": {\"55\": 12}, \"4\": {\"4\": 100}, \"76\": {\"76\": 16}, \"85\": {\"85\": 32}, \"89\": {\"89\": 36}, \"74\": {\"74\": 16}, \"112\": {\"112\": 16}, \"79\": {\"79\": 12}, \"0\": {\"0\": 83, \"118\": 1}, \"91\": {\"91\": 26, \"66\": 1, \"61\": 1}, \"118\": {\"118\": 83, \"16\": 1}, \"80\": {\"80\": 16}, \"64\": {\"64\": 16}, \"97\": {\"97\": 18, \"88\": 2}, \"84\": {\"84\": 124}, \"38\": {\"38\": 16}, \"30\": {\"30\": 52}, \"32\": {\"32\": 29, \"65\": 1, \"6\": 1, \"69\": 1}, \"72\": {\"72\": 32}, \"33\": {\"33\": 130, \"117\": 1, \"71\": 1}, \"34\": {\"34\": 32}, \"28\": {\"28\": 20}, \"123\": {\"123\": 15, \"39\": 1}, \"2\": {\"2\": 27, \"83\": 2, \"122\": 1, \"70\": 1, \"21\": 1}, \"70\": {\"70\": 122, \"28\": 1, \"27\": 1}, \"127\": {\"127\": 107, \"78\": 1}, \"110\": {\"110\": 125, \"39\": 1, \"101\": 1, \"69\": 1}, \"126\": {\"126\": 136}, \"13\": {\"13\": 16}, \"15\": {\"15\": 103, \"111\": 1}, \"29\": {\"29\": 28}, \"18\": {\"18\": 119, \"23\": 1}, \"7\": {\"7\": 142}, \"56\": {\"56\": 12}, \"98\": {\"98\": 108}, \"99\": {\"99\": 24}, \"77\": {\"77\": 15, \"90\": 1}, \"103\": {\"13\": 1, \"103\": 14, \"22\": 1}, \"128\": {\"128\": 21, \"72\": 2, \"49\": 1}, \"3\": {\"3\": 84, \"26\": 1, \"40\": 1, \"8\": 1, \"16\": 1}, \"121\": {\"121\": 32}, \"42\": {\"42\": 27, \"119\": 1}, \"90\": {\"90\": 120}, \"37\": {\"37\": 16}, \"120\": {\"84\": 1, \"120\": 17, \"5\": 1, \"78\": 1}, \"117\": {\"117\": 118}, \"9\": {\"9\": 32}, \"108\": {\"108\": 122, \"24\": 2}, \"83\": {\"83\": 28}, \"14\": {\"14\": 96}, \"63\": {\"63\": 16}, \"11\": {\"11\": 117, \"26\": 1}, \"95\": {\"95\": 36}, \"26\": {\"26\": 130}, \"22\": {\"22\": 15, \"124\": 1}, \"102\": {\"102\": 120}, \"69\": {\"69\": 101, \"94\": 1, \"108\": 1, \"39\": 2, \"71\": 1}, \"1\": {\"1\": 130}, \"67\": {\"67\": 16}, \"57\": {\"57\": 12}, \"8\": {\"8\": 132, \"40\": 1, \"47\": 1}, \"109\": {\"109\": 122, \"94\": 1, \"36\": 1}, \"129\": {\"129\": 24, \"34\": 1, \"2\": 3}, \"111\": {\"111\": 120}, \"71\": {\"71\": 101, \"102\": 1, \"12\": 1, \"124\": 1, \"26\": 2, \"113\": 1, \"70\": 1}, \"47\": {\"47\": 12}, \"82\": {\"82\": 35, \"13\": 1}, \"27\": {\"27\": 92}, \"19\": {\"19\": 28}, \"122\": {\"27\": 1, \"122\": 86, \"21\": 1}, \"53\": {\"53\": 20}, \"87\": {\"87\": 106, \"43\": 1, \"37\": 1}, \"100\": {\"100\": 16}, \"66\": {\"66\": 16}, \"31\": {\"31\": 16}, \"58\": {\"58\": 11, \"106\": 1}, \"68\": {\"68\": 16}, \"88\": {\"88\": 109, \"97\": 1, \"36\": 4}, \"45\": {\"45\": 8, \"47\": 1, \"115\": 1, \"28\": 1, \"7\": 1}, \"114\": {\"114\": 128}, \"23\": {\"23\": 23, \"58\": 1}, \"65\": {\"26\": 1, \"65\": 9, \"63\": 1, \"70\": 1}, \"124\": {\"124\": 118}, \"10\": {\"10\": 117, \"21\": 1, \"94\": 1, \"27\": 1}, \"92\": {\"92\": 28}, \"40\": {\"40\": 138, \"105\": 4, \"26\": 1, \"16\": 1}, \"73\": {\"73\": 20}, \"94\": {\"94\": 91, \"27\": 1}, \"81\": {\"81\": 28}, \"101\": {\"101\": 108, \"18\": 1, \"90\": 1}, \"86\": {\"86\": 33, \"3\": 1, \"105\": 1, \"69\": 1}, \"78\": {\"78\": 14, \"87\": 2}, \"96\": {\"96\": 20}, \"5\": {\"5\": 84, \"108\": 2, \"27\": 1, \"10\": 1}, \"16\": {\"16\": 104, \"94\": 1, \"21\": 1, \"88\": 2}, \"35\": {\"35\": 12}, \"51\": {\"51\": 16}, \"46\": {\"46\": 12}, \"20\": {\"20\": 16}, \"116\": {\"116\": 31, \"94\": 1}, \"75\": {\"75\": 16}, \"43\": {\"43\": 125, \"26\": 1, \"27\": 1, \"122\": 1}, \"17\": {\"17\": 16}, \"12\": {\"12\": 103, \"107\": 1}, \"25\": {\"25\": 16}, \"54\": {\"54\": 15, \"100\": 1}, \"36\": {\"36\": 107, \"26\": 1, \"113\": 1, \"88\": 2, \"69\": 1}, \"52\": {\"52\": 20}, \"61\": {\"61\": 12}, \"106\": {\"106\": 120}, \"39\": {\"39\": 100, \"10\": 1, \"26\": 1, \"16\": 1, \"87\": 1}, \"119\": {\"119\": 16}, \"125\": {\"125\": 148}, \"93\": {\"93\": 144, \"87\": 3, \"70\": 1}, \"115\": {\"115\": 12}, \"21\": {\"21\": 39, \"106\": 1}, \"41\": {\"41\": 16}}, \"W_4\": {\"55\": {\"55\": 16}, \"9\": {\"9\": 28}, \"70\": {\"70\": 116, \"27\": 1, \"39\": 1, \"102\": 1, \"88\": 3}, \"112\": {\"112\": 16}, \"115\": {\"115\": 14, \"25\": 1, \"124\": 1}, \"56\": {\"56\": 11, \"72\": 1}, \"108\": {\"111\": 1, \"108\": 85, \"96\": 1, \"84\": 1, \"7\": 1, \"1\": 1, \"14\": 1, \"26\": 1}, \"117\": {\"117\": 122, \"111\": 1, \"22\": 1}, \"111\": {\"111\": 129, \"0\": 1, \"127\": 1, \"3\": 1}, \"71\": {\"71\": 94, \"72\": 1, \"114\": 2, \"4\": 1, \"9\": 1, \"7\": 1, \"15\": 1, \"118\": 1, \"10\": 1, \"1\": 1}, \"59\": {\"59\": 12}, \"10\": {\"10\": 122, \"27\": 1, \"1\": 1}, \"83\": {\"83\": 28}, \"116\": {\"116\": 27, \"110\": 1}, \"13\": {\"13\": 16}, \"4\": {\"4\": 103, \"69\": 1}, \"125\": {\"125\": 104, \"11\": 2}, \"102\": {\"102\": 122, \"1\": 2}, \"47\": {\"47\": 12}, \"28\": {\"28\": 20}, \"82\": {\"82\": 30, \"105\": 1, \"78\": 1}, \"60\": {\"60\": 32}, \"107\": {\"107\": 130, \"110\": 1, \"84\": 1, \"62\": 1, \"39\": 1}, \"75\": {\"75\": 16}, \"31\": {\"31\": 16}, \"92\": {\"92\": 28}, \"58\": {\"58\": 16}, \"113\": {\"113\": 123, \"69\": 1, \"40\": 2, \"39\": 1, \"1\": 1}, \"95\": {\"95\": 32}, \"14\": {\"14\": 109, \"69\": 1, \"24\": 1, \"118\": 1}, \"17\": {\"17\": 20}, \"104\": {\"104\": 16}, \"72\": {\"72\": 30, \"19\": 1, \"128\": 1}, \"69\": {\"69\": 126, \"88\": 1, \"27\": 1}, \"63\": {\"63\": 16}, \"12\": {\"12\": 96, \"111\": 1, \"118\": 1, \"29\": 1, \"62\": 1}, \"25\": {\"25\": 16}, \"67\": {\"67\": 12, \"104\": 1, \"100\": 2, \"123\": 1}, \"50\": {\"50\": 16}, \"43\": {\"43\": 116, \"23\": 1, \"107\": 1, \"69\": 1, \"122\": 1}, \"96\": {\"96\": 20}, \"128\": {\"128\": 21, \"115\": 1, \"91\": 1, \"74\": 1}, \"77\": {\"77\": 12}, \"54\": {\"54\": 16}, \"118\": {\"118\": 104, \"71\": 1, \"106\": 1, \"15\": 1, \"1\": 1, \"69\": 1, \"3\": 1, \"30\": 1, \"78\": 1}, \"30\": {\"30\": 74, \"10\": 2}, \"51\": {\"51\": 14, \"1\": 1, \"25\": 1}, \"122\": {\"122\": 78, \"107\": 2, \"88\": 1, \"93\": 1, \"111\": 1, \"7\": 1}, \"46\": {\"46\": 20}, \"79\": {\"79\": 16}, \"103\": {\"103\": 16}, \"74\": {\"51\": 1, \"74\": 15}, \"90\": {\"90\": 146}, \"8\": {\"8\": 139, \"71\": 1, \"90\": 1, \"10\": 1}, \"94\": {\"94\": 83, \"1\": 1, \"15\": 1, \"111\": 1, \"62\": 1, \"27\": 1}, \"7\": {\"7\": 119, \"3\": 2, \"69\": 1}, \"61\": {\"61\": 16}, \"26\": {\"26\": 118, \"30\": 2}, \"127\": {\"127\": 106, \"84\": 1, \"4\": 1}, \"23\": {\"23\": 11, \"21\": 1, \"112\": 1, \"70\": 1, \"122\": 1, \"72\": 1}, \"1\": {\"1\": 105, \"129\": 1, \"39\": 1, \"3\": 1}, \"93\": {\"93\": 134}, \"106\": {\"106\": 107, \"71\": 1, \"18\": 1, \"84\": 1, \"118\": 1, \"109\": 1, \"2\": 1, \"27\": 1, \"78\": 1, \"30\": 1}, \"110\": {\"110\": 117, \"5\": 1}, \"76\": {\"76\": 16}, \"36\": {\"36\": 117, \"24\": 1, \"94\": 1, \"93\": 1}, \"21\": {\"21\": 34, \"78\": 2, \"84\": 1, \"3\": 1, \"81\": 1, \"69\": 1}, \"37\": {\"37\": 16}, \"11\": {\"11\": 119, \"110\": 1}, \"109\": {\"109\": 115, \"24\": 1}, \"62\": {\"21\": 1, \"62\": 54, \"111\": 1, \"84\": 1, \"3\": 1, \"69\": 1, \"33\": 1}, \"89\": {\"89\": 32}, \"126\": {\"126\": 117, \"69\": 1, \"27\": 1, \"84\": 1, \"39\": 1, \"16\": 1, \"3\": 1, \"105\": 1}, \"101\": {\"101\": 123, \"15\": 1, \"1\": 1, \"124\": 1, \"108\": 1, \"84\": 1}, \"65\": {\"65\": 12}, \"19\": {\"19\": 27, \"128\": 1}, \"27\": {\"27\": 97, \"0\": 1, \"69\": 1, \"70\": 1}, \"5\": {\"5\": 133, \"62\": 1, \"71\": 1, \"118\": 1}, \"73\": {\"73\": 23, \"46\": 1}, \"6\": {\"6\": 24}, \"29\": {\"29\": 32}, \"114\": {\"114\": 127, \"19\": 1}, \"49\": {\"49\": 29, \"70\": 2, \"72\": 1}, \"16\": {\"16\": 115, \"117\": 1, \"108\": 1, \"69\": 1}, \"68\": {\"68\": 16}, \"98\": {\"98\": 117, \"102\": 1, \"101\": 1, \"90\": 1}, \"64\": {\"64\": 16}, \"121\": {\"121\": 26, \"48\": 1, \"44\": 1, \"60\": 1, \"90\": 1, \"92\": 1, \"116\": 1}, \"124\": {\"124\": 114}, \"97\": {\"94\": 1, \"97\": 19}, \"40\": {\"40\": 136}, \"119\": {\"119\": 16}, \"100\": {\"100\": 18, \"91\": 1, \"46\": 1}, \"87\": {\"87\": 114, \"105\": 2}, \"88\": {\"88\": 121, \"112\": 1, \"30\": 2, \"1\": 1, \"21\": 1, \"108\": 1, \"70\": 1}, \"52\": {\"52\": 17, \"26\": 1, \"31\": 1, \"43\": 1}, \"80\": {\"80\": 15, \"78\": 1}, \"105\": {\"105\": 94, \"118\": 1, \"27\": 1, \"39\": 1, \"10\": 1, \"4\": 1, \"40\": 1}, \"32\": {\"14\": 1, \"32\": 26, \"118\": 1}, \"35\": {\"35\": 12}, \"99\": {\"99\": 40}, \"18\": {\"18\": 118, \"16\": 1, \"3\": 1}, \"24\": {\"24\": 112}, \"85\": {\"85\": 27, \"70\": 1}, \"39\": {\"39\": 97, \"3\": 2, \"113\": 1}, \"123\": {\"123\": 16}, \"91\": {\"91\": 24}, \"78\": {\"78\": 30, \"21\": 3, \"62\": 1, \"122\": 1, \"16\": 1}, \"38\": {\"38\": 16}, \"15\": {\"15\": 123, \"3\": 1, \"18\": 1, \"78\": 1, \"30\": 1, \"7\": 1}, \"48\": {\"48\": 16}, \"45\": {\"45\": 16}, \"120\": {\"120\": 20}, \"44\": {\"44\": 63, \"124\": 1}, \"86\": {\"86\": 26, \"27\": 1, \"70\": 1}, \"20\": {\"20\": 16}, \"33\": {\"33\": 146, \"3\": 1, \"43\": 1, \"21\": 1, \"10\": 1}, \"129\": {\"129\": 24, \"73\": 4}, \"34\": {\"34\": 29, \"129\": 1, \"66\": 1, \"45\": 1}, \"81\": {\"81\": 35, \"1\": 1}, \"57\": {\"57\": 12, \"81\": 1, \"90\": 1, \"100\": 1, \"2\": 1}, \"0\": {\"0\": 113, \"70\": 1, \"95\": 1, \"129\": 1}, \"2\": {\"2\": 28}, \"42\": {\"42\": 27, \"108\": 1}, \"84\": {\"84\": 127, \"3\": 1, \"30\": 1, \"24\": 1, \"40\": 1, \"18\": 1}, \"3\": {\"3\": 121, \"81\": 1, \"78\": 1, \"0\": 1, \"24\": 1, \"90\": 1}, \"41\": {\"41\": 15, \"28\": 1}, \"53\": {\"53\": 15, \"72\": 1}, \"66\": {\"66\": 16}, \"22\": {\"22\": 15, \"122\": 1}}, \"C_2\": {\"32\": {\"32\": 28}, \"17\": {\"17\": 104}, \"38\": {\"38\": 20}, \"2\": {\"2\": 32}, \"43\": {\"43\": 144}, \"56\": {\"56\": 144}, \"37\": {\"37\": 36}, \"49\": {\"49\": 24}, \"0\": {\"0\": 48}, \"29\": {\"29\": 128}, \"35\": {\"35\": 32}, \"18\": {\"18\": 48}, \"25\": {\"25\": 136}, \"23\": {\"23\": 124}, \"15\": {\"15\": 146}, \"21\": {\"21\": 120}, \"51\": {\"51\": 128}, \"20\": {\"20\": 138}, \"7\": {\"7\": 36}, \"50\": {\"50\": 136}, \"31\": {\"31\": 28}, \"30\": {\"30\": 140}, \"19\": {\"19\": 156}, \"9\": {\"9\": 144}, \"52\": {\"52\": 124}, \"45\": {\"45\": 127, \"50\": 1}, \"8\": {\"8\": 154}, \"55\": {\"55\": 160}, \"12\": {\"12\": 92}, \"40\": {\"40\": 140}, \"28\": {\"28\": 28}, \"36\": {\"36\": 116}, \"39\": {\"39\": 28}, \"46\": {\"46\": 122}, \"14\": {\"14\": 24}, \"57\": {\"57\": 142}, \"34\": {\"34\": 28}, \"1\": {\"1\": 112}, \"53\": {\"53\": 136}, \"48\": {\"48\": 130}, \"3\": {\"3\": 92}, \"16\": {\"16\": 152}, \"6\": {\"6\": 124}, \"10\": {\"10\": 112}, \"13\": {\"13\": 116}, \"26\": {\"26\": 24}, \"24\": {\"24\": 96}, \"44\": {\"44\": 100}, \"27\": {\"27\": 150}, \"22\": {\"22\": 128}, \"33\": {\"33\": 28}, \"47\": {\"47\": 118}, \"5\": {\"5\": 120}, \"4\": {\"4\": 138}, \"41\": {\"41\": 20}, \"11\": {\"11\": 150}, \"54\": {\"54\": 108}, \"42\": {\"42\": 36}}, \"C_3\": {\"5\": {\"5\": 116}, \"32\": {\"32\": 28}, \"33\": {\"33\": 28}, \"49\": {\"49\": 20}, \"39\": {\"39\": 16}, \"11\": {\"11\": 142}, \"8\": {\"8\": 116}, \"26\": {\"26\": 24}, \"51\": {\"51\": 122}, \"4\": {\"4\": 146}, \"52\": {\"52\": 118}, \"47\": {\"47\": 92}, \"17\": {\"17\": 107, \"41\": 1}, \"53\": {\"53\": 136}, \"2\": {\"2\": 32}, \"12\": {\"12\": 92}, \"37\": {\"37\": 28}, \"9\": {\"9\": 148}, \"13\": {\"13\": 128}, \"54\": {\"54\": 100}, \"31\": {\"31\": 28}, \"34\": {\"34\": 32}, \"24\": {\"24\": 104}, \"7\": {\"7\": 36}, \"50\": {\"50\": 118}, \"46\": {\"46\": 128}, \"44\": {\"44\": 88}, \"40\": {\"40\": 116}, \"21\": {\"21\": 128}, \"45\": {\"45\": 60}, \"16\": {\"16\": 126}, \"14\": {\"14\": 40}, \"36\": {\"36\": 100}, \"56\": {\"56\": 114}, \"10\": {\"10\": 64}, \"18\": {\"18\": 84}, \"48\": {\"48\": 116}, \"38\": {\"38\": 28}, \"27\": {\"27\": 130}, \"42\": {\"42\": 28}, \"15\": {\"15\": 134}, \"1\": {\"1\": 100}, \"28\": {\"28\": 28}, \"43\": {\"43\": 136}, \"0\": {\"0\": 124}, \"57\": {\"57\": 124}, \"3\": {\"3\": 148}, \"29\": {\"29\": 124}, \"41\": {\"41\": 28}, \"25\": {\"25\": 146}, \"6\": {\"6\": 88}, \"35\": {\"35\": 28}, \"20\": {\"20\": 126}, \"23\": {\"23\": 134}, \"22\": {\"22\": 140}, \"19\": {\"19\": 116}, \"55\": {\"55\": 124}, \"30\": {\"30\": 120}}, \"C_1\": {\"24\": {\"24\": 108}, \"25\": {\"25\": 140}, \"45\": {\"45\": 144}, \"42\": {\"42\": 40}, \"2\": {\"2\": 36}, \"9\": {\"9\": 150}, \"21\": {\"21\": 124}, \"26\": {\"26\": 24}, \"49\": {\"49\": 32}, \"39\": {\"39\": 28}, \"46\": {\"46\": 136}, \"17\": {\"17\": 64}, \"19\": {\"19\": 156}, \"23\": {\"23\": 132}, \"1\": {\"1\": 100}, \"29\": {\"29\": 137, \"19\": 3}, \"56\": {\"56\": 150}, \"37\": {\"37\": 32}, \"33\": {\"33\": 32}, \"55\": {\"55\": 142}, \"30\": {\"30\": 120}, \"0\": {\"0\": 152}, \"36\": {\"36\": 64}, \"32\": {\"32\": 32}, \"31\": {\"31\": 28}, \"15\": {\"15\": 138}, \"12\": {\"12\": 116}, \"38\": {\"38\": 24}, \"40\": {\"40\": 146}, \"14\": {\"14\": 24}, \"13\": {\"13\": 150}, \"48\": {\"48\": 148}, \"34\": {\"34\": 24}, \"44\": {\"44\": 130}, \"5\": {\"5\": 152}, \"11\": {\"11\": 140}, \"7\": {\"7\": 28}, \"18\": {\"18\": 72}, \"52\": {\"52\": 132}, \"51\": {\"51\": 142}, \"41\": {\"41\": 24}, \"16\": {\"16\": 140}, \"22\": {\"22\": 134}, \"3\": {\"3\": 140}, \"54\": {\"54\": 104}, \"27\": {\"27\": 144}, \"20\": {\"20\": 140}, \"8\": {\"8\": 138}, \"50\": {\"50\": 144}, \"57\": {\"57\": 140}, \"4\": {\"4\": 132}, \"47\": {\"47\": 146}, \"10\": {\"10\": 96}, \"35\": {\"35\": 36}, \"53\": {\"53\": 126}, \"6\": {\"6\": 96}, \"43\": {\"43\": 140}, \"28\": {\"28\": 28}}, \"C_5\": {\"35\": {\"35\": 36}, \"57\": {\"57\": 132}, \"20\": {\"20\": 144}, \"12\": {\"12\": 96}, \"32\": {\"32\": 32}, \"25\": {\"25\": 138}, \"44\": {\"44\": 147, \"56\": 1}, \"31\": {\"31\": 36}, \"11\": {\"11\": 150}, \"47\": {\"47\": 100}, \"23\": {\"23\": 124}, \"43\": {\"43\": 144}, \"37\": {\"37\": 24}, \"5\": {\"5\": 128}, \"45\": {\"45\": 124}, \"7\": {\"7\": 32}, \"13\": {\"13\": 136}, \"49\": {\"49\": 36}, \"46\": {\"46\": 148}, \"16\": {\"16\": 136}, \"54\": {\"54\": 112}, \"19\": {\"19\": 152}, \"55\": {\"55\": 150}, \"30\": {\"30\": 128}, \"34\": {\"34\": 36}, \"50\": {\"50\": 134}, \"3\": {\"3\": 100}, \"10\": {\"10\": 68}, \"27\": {\"27\": 142}, \"33\": {\"33\": 32}, \"56\": {\"56\": 142}, \"9\": {\"9\": 150}, \"14\": {\"14\": 43, \"31\": 1}, \"4\": {\"4\": 100}, \"42\": {\"42\": 40}, \"24\": {\"24\": 80}, \"39\": {\"39\": 20}, \"52\": {\"52\": 130}, \"2\": {\"2\": 28}, \"28\": {\"28\": 32}, \"53\": {\"53\": 122}, \"17\": {\"17\": 116}, \"29\": {\"29\": 132}, \"38\": {\"38\": 32}, \"15\": {\"15\": 144}, \"26\": {\"26\": 24}, \"21\": {\"21\": 144}, \"41\": {\"41\": 28}, \"48\": {\"48\": 136}, \"22\": {\"22\": 28}, \"8\": {\"8\": 148}, \"18\": {\"18\": 64}, \"0\": {\"0\": 122}, \"1\": {\"1\": 138}, \"40\": {\"40\": 124}, \"6\": {\"6\": 128}, \"51\": {\"51\": 142}, \"36\": {\"36\": 92}}, \"O_50\": {\"7\": {\"4\": 19, \"1\": 11, \"15\": 12, \"0\": 8, \"7\": 48, \"5\": 35, \"13\": 48, \"10\": 22, \"6\": 24, \"3\": 6, \"8\": 4, \"2\": 2, \"12\": 1}, \"10\": {\"8\": 36, \"13\": 27, \"5\": 20, \"0\": 41, \"7\": 24, \"10\": 45, \"4\": 8, \"2\": 16, \"1\": 3, \"3\": 12, \"6\": 6, \"11\": 1, \"14\": 1}, \"0\": {\"13\": 16, \"0\": 45, \"10\": 43, \"5\": 22, \"2\": 41, \"7\": 10, \"14\": 8, \"1\": 10, \"4\": 8, \"6\": 7, \"8\": 24, \"12\": 2, \"3\": 2, \"11\": 1, \"9\": 1}, \"11\": {\"4\": 23, \"11\": 60, \"0\": 2, \"9\": 57, \"6\": 6, \"12\": 23, \"1\": 20, \"15\": 15, \"14\": 29, \"7\": 1, \"13\": 1, \"5\": 2, \"2\": 1}, \"2\": {\"2\": 88, \"14\": 32, \"0\": 48, \"7\": 5, \"4\": 7, \"12\": 6, \"1\": 4, \"11\": 2, \"13\": 9, \"10\": 16, \"9\": 4, \"5\": 8, \"6\": 7, \"8\": 4}, \"14\": {\"12\": 48, \"14\": 56, \"2\": 23, \"6\": 10, \"11\": 29, \"13\": 5, \"4\": 10, \"9\": 31, \"5\": 5, \"0\": 5, \"15\": 9, \"1\": 9}, \"9\": {\"12\": 37, \"15\": 15, \"11\": 58, \"9\": 76, \"14\": 24, \"4\": 10, \"1\": 15, \"5\": 1, \"6\": 4}, \"13\": {\"13\": 34, \"6\": 27, \"4\": 23, \"7\": 40, \"5\": 36, \"8\": 9, \"1\": 18, \"0\": 15, \"10\": 17, \"15\": 11, \"2\": 5, \"11\": 2, \"9\": 1, \"12\": 1, \"14\": 1}, \"8\": {\"10\": 42, \"3\": 38, \"5\": 12, \"8\": 86, \"0\": 39, \"7\": 8, \"13\": 9, \"2\": 5, \"6\": 1}, \"15\": {\"6\": 37, \"15\": 44, \"14\": 12, \"5\": 19, \"9\": 11, \"4\": 31, \"11\": 24, \"13\": 13, \"7\": 14, \"1\": 25, \"0\": 2, \"12\": 4, \"2\": 2, \"10\": 2}, \"4\": {\"4\": 31, \"14\": 13, \"7\": 20, \"5\": 23, \"1\": 33, \"13\": 28, \"6\": 24, \"11\": 9, \"0\": 6, \"15\": 24, \"9\": 8, \"12\": 6, \"10\": 10, \"2\": 3, \"8\": 2}, \"5\": {\"4\": 26, \"10\": 23, \"6\": 21, \"5\": 35, \"7\": 36, \"13\": 31, \"1\": 17, \"14\": 3, \"0\": 21, \"15\": 9, \"8\": 3, \"3\": 2, \"11\": 3, \"2\": 8, \"9\": 2}, \"3\": {\"3\": 152, \"8\": 62, \"5\": 2, \"10\": 15, \"2\": 1, \"7\": 4, \"0\": 3, \"13\": 1}, \"1\": {\"15\": 26, \"11\": 14, \"6\": 26, \"4\": 30, \"2\": 7, \"5\": 15, \"14\": 20, \"13\": 20, \"1\": 50, \"10\": 3, \"0\": 9, \"9\": 6, \"7\": 11, \"12\": 3}, \"6\": {\"1\": 26, \"13\": 26, \"4\": 26, \"7\": 27, \"15\": 30, \"5\": 27, \"6\": 42, \"11\": 8, \"2\": 5, \"14\": 7, \"10\": 6, \"0\": 7, \"9\": 2, \"12\": 1}, \"12\": {\"9\": 64, \"14\": 47, \"2\": 15, \"12\": 69, \"11\": 28, \"0\": 3, \"4\": 5, \"1\": 5, \"5\": 1, \"15\": 2, \"6\": 1}}, \"O_14\": {\"14\": {\"6\": 35, \"2\": 27, \"5\": 19, \"1\": 9, \"7\": 2, \"10\": 9, \"14\": 49, \"9\": 1, \"4\": 17, \"13\": 23, \"11\": 7, \"3\": 26, \"0\": 11, \"15\": 5}, \"6\": {\"14\": 44, \"6\": 42, \"10\": 10, \"2\": 38, \"4\": 13, \"13\": 36, \"3\": 15, \"15\": 14, \"5\": 12, \"7\": 5, \"11\": 3, \"0\": 2, \"1\": 5, \"8\": 1}, \"5\": {\"7\": 25, \"4\": 33, \"5\": 26, \"6\": 8, \"1\": 30, \"2\": 33, \"13\": 20, \"3\": 15, \"15\": 11, \"10\": 8, \"0\": 9, \"14\": 14, \"11\": 3, \"8\": 4, \"9\": 1}, \"15\": {\"15\": 67, \"5\": 26, \"7\": 48, \"6\": 20, \"13\": 25, \"4\": 14, \"14\": 8, \"2\": 12, \"1\": 16, \"3\": 4}, \"11\": {\"0\": 48, \"12\": 14, \"10\": 20, \"9\": 34, \"11\": 64, \"3\": 19, \"6\": 2, \"4\": 10, \"13\": 2, \"14\": 11, \"1\": 4, \"5\": 4, \"8\": 5, \"2\": 3}, \"8\": {\"1\": 35, \"8\": 98, \"10\": 11, \"0\": 20, \"7\": 2, \"5\": 9, \"4\": 14, \"9\": 17, \"11\": 10, \"3\": 14, \"12\": 3, \"2\": 4, \"14\": 1, \"15\": 2}, \"12\": {\"9\": 83, \"12\": 112, \"11\": 21, \"10\": 4, \"0\": 11, \"8\": 8, \"1\": 1}, \"1\": {\"6\": 7, \"7\": 19, \"5\": 38, \"3\": 27, \"13\": 6, \"2\": 16, \"8\": 13, \"1\": 45, \"4\": 33, \"14\": 9, \"0\": 7, \"10\": 6, \"15\": 13, \"11\": 1}, \"2\": {\"1\": 17, \"7\": 8, \"14\": 27, \"13\": 25, \"3\": 24, \"4\": 26, \"6\": 19, \"15\": 13, \"5\": 32, \"2\": 31, \"10\": 10, \"11\": 2, \"0\": 6}, \"13\": {\"6\": 38, \"13\": 46, \"2\": 35, \"14\": 31, \"5\": 17, \"3\": 18, \"11\": 1, \"4\": 18, \"10\": 8, \"15\": 17, \"0\": 3, \"7\": 6, \"1\": 2}, \"3\": {\"15\": 4, \"14\": 19, \"2\": 14, \"3\": 35, \"8\": 7, \"0\": 25, \"5\": 24, \"13\": 13, \"4\": 32, \"11\": 12, \"9\": 2, \"1\": 16, \"6\": 13, \"7\": 2, \"10\": 22}, \"0\": {\"0\": 52, \"8\": 4, \"10\": 41, \"14\": 14, \"1\": 13, \"3\": 18, \"11\": 36, \"9\": 15, \"5\": 6, \"13\": 10, \"6\": 5, \"4\": 16, \"2\": 6, \"7\": 1, \"12\": 2, \"15\": 1}, \"9\": {\"12\": 46, \"9\": 74, \"11\": 36, \"8\": 35, \"10\": 10, \"0\": 23, \"3\": 10, \"2\": 3, \"1\": 3}, \"4\": {\"11\": 5, \"14\": 17, \"0\": 19, \"1\": 21, \"13\": 9, \"4\": 31, \"2\": 27, \"5\": 36, \"6\": 11, \"3\": 19, \"10\": 18, \"7\": 12, \"15\": 10, \"8\": 5}, \"7\": {\"5\": 28, \"1\": 22, \"6\": 8, \"14\": 7, \"7\": 63, \"15\": 51, \"4\": 23, \"3\": 10, \"13\": 12, \"2\": 13, \"8\": 2, \"10\": 1}, \"10\": {\"1\": 12, \"14\": 16, \"0\": 31, \"4\": 23, \"3\": 27, \"10\": 48, \"13\": 11, \"11\": 23, \"9\": 8, \"2\": 14, \"5\": 12, \"6\": 9, \"8\": 5, \"12\": 1}}, \"O_32\": {\"4\": {\"7\": 28, \"5\": 38, \"0\": 24, \"4\": 35, \"13\": 32, \"14\": 19, \"2\": 31, \"11\": 5, \"8\": 22, \"3\": 4, \"9\": 2}, \"14\": {\"2\": 19, \"7\": 35, \"4\": 21, \"14\": 42, \"0\": 23, \"11\": 46, \"5\": 12, \"13\": 17, \"3\": 6, \"8\": 19}, \"5\": {\"2\": 15, \"3\": 23, \"11\": 12, \"13\": 32, \"4\": 23, \"5\": 32, \"14\": 29, \"8\": 26, \"0\": 17, \"7\": 28, \"15\": 2, \"9\": 1}, \"10\": {\"6\": 11, \"12\": 10, \"1\": 73, \"10\": 146}, \"13\": {\"13\": 36, \"8\": 34, \"3\": 25, \"11\": 15, \"14\": 11, \"7\": 23, \"0\": 23, \"2\": 22, \"5\": 27, \"9\": 1, \"4\": 19, \"15\": 4}, \"9\": {\"9\": 135, \"12\": 61, \"4\": 9, \"0\": 7, \"2\": 21, \"5\": 2, \"6\": 5}, \"6\": {\"6\": 155, \"10\": 27, \"1\": 14, \"12\": 37, \"9\": 7}, \"3\": {\"7\": 9, \"8\": 40, \"5\": 23, \"3\": 71, \"13\": 27, \"15\": 22, \"14\": 17, \"11\": 18, \"2\": 1, \"4\": 9, \"0\": 3}, \"15\": {\"15\": 176, \"13\": 5, \"3\": 35, \"8\": 16, \"0\": 5, \"11\": 1, \"4\": 1, \"5\": 1}, \"7\": {\"2\": 32, \"5\": 34, \"14\": 24, \"4\": 24, \"11\": 17, \"7\": 34, \"13\": 26, \"8\": 18, \"3\": 9, \"0\": 21, \"15\": 1}, \"12\": {\"12\": 129, \"9\": 48, \"10\": 19, \"6\": 43, \"1\": 1}, \"8\": {\"7\": 14, \"2\": 10, \"5\": 31, \"14\": 16, \"15\": 10, \"11\": 15, \"13\": 41, \"3\": 33, \"0\": 24, \"8\": 30, \"4\": 16}, \"11\": {\"3\": 18, \"11\": 57, \"5\": 17, \"0\": 20, \"4\": 11, \"7\": 33, \"2\": 12, \"14\": 39, \"13\": 16, \"8\": 16, \"15\": 1}, \"2\": {\"2\": 55, \"11\": 16, \"0\": 27, \"8\": 14, \"4\": 39, \"14\": 21, \"5\": 18, \"7\": 28, \"9\": 6, \"13\": 16}, \"1\": {\"1\": 129, \"10\": 96, \"6\": 14, \"12\": 1}, \"0\": {\"14\": 20, \"5\": 20, \"4\": 31, \"0\": 45, \"7\": 26, \"13\": 35, \"8\": 17, \"2\": 21, \"11\": 14, \"3\": 5, \"9\": 4, \"15\": 2}}, \"O_44\": {\"8\": {\"0\": 60, \"15\": 47, \"8\": 77, \"5\": 42, \"14\": 7, \"4\": 7}, \"11\": {\"11\": 80, \"9\": 19, \"13\": 35, \"7\": 25, \"6\": 47, \"4\": 3, \"2\": 17, \"5\": 1, \"12\": 2, \"10\": 9, \"3\": 1, \"14\": 1}, \"14\": {\"0\": 26, \"4\": 60, \"14\": 57, \"8\": 9, \"13\": 4, \"5\": 34, \"15\": 40, \"3\": 3, \"9\": 4, \"7\": 1, \"2\": 1, \"1\": 1}, \"10\": {\"2\": 45, \"3\": 9, \"12\": 39, \"1\": 34, \"9\": 10, \"6\": 5, \"10\": 69, \"13\": 8, \"7\": 17, \"11\": 4}, \"3\": {\"3\": 96, \"12\": 31, \"1\": 50, \"7\": 23, \"2\": 22, \"10\": 10, \"13\": 4, \"9\": 2, \"14\": 1, \"6\": 1}, \"15\": {\"5\": 45, \"0\": 47, \"15\": 61, \"8\": 33, \"4\": 29, \"14\": 25}, \"2\": {\"11\": 10, \"6\": 27, \"2\": 42, \"12\": 19, \"3\": 13, \"1\": 33, \"9\": 23, \"13\": 13, \"10\": 30, \"7\": 29, \"14\": 1}, \"12\": {\"12\": 83, \"7\": 16, \"1\": 53, \"3\": 31, \"9\": 5, \"2\": 14, \"10\": 36, \"13\": 1, \"6\": 1}, \"4\": {\"4\": 58, \"6\": 2, \"13\": 17, \"15\": 30, \"14\": 67, \"5\": 32, \"0\": 10, \"8\": 8, \"9\": 11, \"3\": 4, \"7\": 1}, \"1\": {\"12\": 51, \"1\": 62, \"2\": 25, \"7\": 17, \"10\": 23, \"9\": 10, \"3\": 43, \"6\": 4, \"13\": 4, \"11\": 1}, \"0\": {\"14\": 17, \"0\": 60, \"8\": 49, \"15\": 60, \"5\": 43, \"4\": 11}, \"9\": {\"13\": 31, \"3\": 13, \"11\": 14, \"9\": 40, \"12\": 4, \"1\": 16, \"7\": 41, \"10\": 15, \"2\": 32, \"6\": 26, \"4\": 2, \"14\": 6}, \"5\": {\"0\": 35, \"15\": 37, \"8\": 42, \"4\": 28, \"14\": 32, \"5\": 64, \"13\": 1, \"11\": 1}, \"6\": {\"9\": 39, \"6\": 66, \"13\": 41, \"11\": 46, \"2\": 13, \"7\": 22, \"10\": 7, \"4\": 3, \"1\": 1, \"12\": 1, \"3\": 1}, \"7\": {\"3\": 17, \"6\": 28, \"9\": 31, \"10\": 19, \"7\": 44, \"1\": 21, \"13\": 15, \"2\": 37, \"11\": 18, \"14\": 1, \"12\": 9}, \"13\": {\"3\": 5, \"9\": 49, \"13\": 37, \"2\": 19, \"4\": 5, \"11\": 35, \"6\": 37, \"7\": 35, \"14\": 5, \"12\": 2, \"10\": 7, \"1\": 4}}, \"O_8\": {\"13\": {\"14\": 31, \"5\": 14, \"4\": 24, \"7\": 18, \"2\": 6, \"1\": 13, \"11\": 13, \"10\": 22, \"13\": 30, \"6\": 26, \"0\": 30, \"8\": 6, \"15\": 5, \"3\": 2}, \"3\": {\"8\": 13, \"15\": 21, \"2\": 52, \"0\": 19, \"7\": 20, \"12\": 34, \"3\": 50, \"6\": 13, \"10\": 4, \"14\": 4, \"4\": 3, \"13\": 5, \"11\": 1, \"1\": 1}, \"15\": {\"11\": 12, \"8\": 32, \"15\": 38, \"4\": 10, \"12\": 17, \"13\": 12, \"6\": 26, \"3\": 13, \"1\": 14, \"2\": 12, \"7\": 25, \"0\": 11, \"10\": 4, \"14\": 11, \"5\": 3}, \"4\": {\"6\": 19, \"7\": 21, \"13\": 21, \"4\": 30, \"10\": 21, \"0\": 23, \"3\": 4, \"11\": 19, \"14\": 30, \"15\": 9, \"1\": 13, \"5\": 10, \"2\": 3, \"8\": 14, \"12\": 3}, \"7\": {\"13\": 26, \"5\": 7, \"11\": 14, \"6\": 24, \"2\": 19, \"8\": 11, \"10\": 15, \"7\": 26, \"4\": 26, \"14\": 18, \"0\": 24, \"12\": 4, \"3\": 9, \"1\": 8, \"15\": 9}, \"2\": {\"7\": 26, \"12\": 30, \"3\": 52, \"8\": 6, \"2\": 48, \"0\": 20, \"11\": 3, \"14\": 8, \"10\": 6, \"13\": 7, \"15\": 13, \"6\": 14, \"4\": 6, \"5\": 1}, \"1\": {\"10\": 22, \"5\": 23, \"14\": 28, \"1\": 42, \"11\": 37, \"4\": 25, \"6\": 12, \"7\": 6, \"8\": 18, \"0\": 7, \"15\": 7, \"13\": 11, \"12\": 2}, \"0\": {\"7\": 35, \"13\": 27, \"6\": 18, \"11\": 8, \"10\": 22, \"0\": 32, \"4\": 21, \"2\": 12, \"3\": 12, \"5\": 7, \"14\": 21, \"1\": 7, \"15\": 6, \"8\": 10, \"12\": 2}, \"12\": {\"2\": 31, \"0\": 11, \"12\": 46, \"14\": 7, \"7\": 20, \"8\": 32, \"15\": 30, \"1\": 3, \"3\": 30, \"6\": 11, \"11\": 6, \"4\": 6, \"13\": 5, \"10\": 2}, \"6\": {\"0\": 25, \"5\": 11, \"15\": 10, \"4\": 26, \"7\": 32, \"10\": 18, \"8\": 8, \"13\": 20, \"3\": 5, \"12\": 6, \"14\": 23, \"6\": 24, \"11\": 8, \"2\": 16, \"1\": 8}, \"11\": {\"11\": 48, \"6\": 9, \"4\": 25, \"8\": 23, \"7\": 9, \"1\": 33, \"13\": 11, \"5\": 21, \"14\": 26, \"10\": 12, \"0\": 11, \"15\": 12}, \"9\": {\"10\": 17, \"9\": 155, \"14\": 9, \"5\": 27, \"13\": 7, \"4\": 9, \"6\": 3, \"1\": 5, \"0\": 4, \"7\": 1, \"11\": 3}, \"5\": {\"0\": 8, \"5\": 44, \"4\": 22, \"14\": 27, \"10\": 25, \"1\": 35, \"11\": 18, \"8\": 8, \"13\": 23, \"7\": 9, \"6\": 13, \"2\": 1, \"15\": 2, \"9\": 4, \"12\": 1}, \"10\": {\"0\": 37, \"2\": 4, \"6\": 17, \"13\": 25, \"14\": 14, \"10\": 39, \"4\": 21, \"1\": 13, \"7\": 21, \"11\": 17, \"15\": 4, \"5\": 21, \"12\": 2, \"9\": 1, \"8\": 4}, \"14\": {\"11\": 22, \"4\": 32, \"0\": 25, \"8\": 12, \"10\": 27, \"14\": 29, \"13\": 26, \"6\": 18, \"15\": 2, \"12\": 3, \"7\": 15, \"1\": 7, \"5\": 16, \"3\": 4, \"2\": 2}, \"8\": {\"6\": 26, \"5\": 10, \"15\": 23, \"8\": 30, \"1\": 17, \"4\": 14, \"2\": 11, \"12\": 17, \"11\": 19, \"10\": 6, \"14\": 19, \"7\": 25, \"13\": 3, \"0\": 12, \"3\": 8}}, \"O_20\": {\"6\": {\"7\": 16, \"6\": 30, \"5\": 9, \"10\": 18, \"15\": 4, \"2\": 14, \"11\": 7, \"4\": 19, \"1\": 7, \"14\": 35, \"12\": 12, \"9\": 19, \"3\": 12, \"8\": 26, \"13\": 7, \"0\": 5}, \"11\": {\"4\": 7, \"9\": 21, \"11\": 69, \"1\": 9, \"14\": 9, \"10\": 3, \"12\": 12, \"13\": 24, \"6\": 13, \"7\": 17, \"2\": 19, \"3\": 11, \"8\": 12, \"15\": 3, \"0\": 2, \"5\": 9}, \"5\": {\"12\": 15, \"9\": 24, \"1\": 15, \"15\": 21, \"10\": 7, \"0\": 23, \"13\": 13, \"7\": 14, \"8\": 17, \"4\": 14, \"3\": 17, \"5\": 18, \"11\": 3, \"14\": 8, \"6\": 6, \"2\": 25}, \"14\": {\"10\": 33, \"2\": 9, \"5\": 7, \"13\": 5, \"7\": 17, \"1\": 3, \"4\": 20, \"14\": 36, \"8\": 27, \"6\": 42, \"11\": 7, \"3\": 13, \"9\": 13, \"12\": 3, \"0\": 5}, \"2\": {\"3\": 19, \"9\": 24, \"10\": 7, \"1\": 24, \"2\": 24, \"5\": 21, \"15\": 9, \"13\": 29, \"14\": 9, \"12\": 18, \"0\": 13, \"7\": 13, \"4\": 8, \"11\": 12, \"8\": 9, \"6\": 1}, \"7\": {\"10\": 11, \"9\": 19, \"1\": 14, \"8\": 23, \"0\": 13, \"3\": 18, \"4\": 21, \"5\": 15, \"12\": 17, \"7\": 21, \"11\": 5, \"2\": 16, \"6\": 16, \"15\": 12, \"14\": 6, \"13\": 13}, \"3\": {\"12\": 24, \"10\": 9, \"13\": 19, \"4\": 24, \"8\": 8, \"1\": 8, \"5\": 20, \"15\": 16, \"14\": 7, \"7\": 24, \"3\": 26, \"2\": 17, \"0\": 9, \"9\": 15, \"6\": 11, \"11\": 3}, \"4\": {\"12\": 17, \"7\": 13, \"9\": 17, \"2\": 12, \"5\": 13, \"3\": 19, \"0\": 20, \"8\": 25, \"14\": 12, \"6\": 19, \"4\": 27, \"15\": 14, \"10\": 21, \"1\": 6, \"13\": 4, \"11\": 1}, \"9\": {\"14\": 6, \"0\": 11, \"9\": 20, \"3\": 27, \"2\": 29, \"4\": 9, \"12\": 12, \"11\": 7, \"1\": 20, \"13\": 16, \"6\": 7, \"8\": 11, \"7\": 20, \"15\": 17, \"5\": 15, \"10\": 13}, \"12\": {\"9\": 21, \"1\": 20, \"3\": 26, \"4\": 24, \"13\": 22, \"0\": 18, \"15\": 15, \"12\": 23, \"5\": 10, \"8\": 12, \"7\": 9, \"6\": 3, \"14\": 7, \"2\": 17, \"11\": 9, \"10\": 4}, \"0\": {\"1\": 18, \"9\": 15, \"5\": 24, \"2\": 15, \"15\": 24, \"11\": 2, \"0\": 25, \"12\": 18, \"6\": 9, \"8\": 13, \"3\": 18, \"7\": 15, \"4\": 12, \"13\": 19, \"10\": 7, \"14\": 6}, \"10\": {\"8\": 26, \"10\": 38, \"3\": 13, \"4\": 26, \"1\": 12, \"7\": 13, \"6\": 31, \"14\": 26, \"0\": 5, \"12\": 12, \"9\": 9, \"5\": 11, \"11\": 3, \"15\": 2, \"2\": 7, \"13\": 6}, \"8\": {\"2\": 16, \"7\": 18, \"13\": 13, \"5\": 13, \"15\": 7, \"6\": 16, \"1\": 8, \"14\": 20, \"8\": 29, \"10\": 14, \"12\": 14, \"4\": 21, \"11\": 4, \"3\": 16, \"0\": 19, \"9\": 12}, \"13\": {\"1\": 34, \"12\": 22, \"3\": 16, \"0\": 20, \"9\": 11, \"5\": 18, \"13\": 30, \"15\": 18, \"2\": 26, \"14\": 6, \"11\": 8, \"6\": 2, \"8\": 8, \"7\": 17, \"10\": 2, \"4\": 2}, \"1\": {\"3\": 20, \"5\": 15, \"13\": 20, \"7\": 12, \"1\": 30, \"8\": 9, \"4\": 17, \"0\": 16, \"12\": 19, \"15\": 19, \"14\": 7, \"9\": 24, \"6\": 3, \"10\": 6, \"2\": 18, \"11\": 5}, \"15\": {\"5\": 26, \"3\": 19, \"2\": 23, \"0\": 15, \"10\": 5, \"9\": 15, \"4\": 14, \"1\": 22, \"12\": 14, \"13\": 22, \"6\": 6, \"15\": 30, \"7\": 17, \"8\": 11, \"14\": 1}}, \"O_38\": {\"3\": {\"9\": 36, \"8\": 10, \"3\": 104, \"6\": 23, \"5\": 17, \"0\": 27, \"10\": 3, \"7\": 17, \"1\": 1, \"2\": 1, \"15\": 1}, \"8\": {\"13\": 17, \"2\": 3, \"0\": 27, \"8\": 36, \"6\": 19, \"9\": 11, \"14\": 4, \"10\": 21, \"1\": 15, \"5\": 37, \"15\": 23, \"7\": 19, \"3\": 2, \"4\": 4, \"12\": 2}, \"0\": {\"7\": 46, \"3\": 20, \"9\": 9, \"0\": 50, \"5\": 21, \"8\": 28, \"10\": 15, \"6\": 7, \"15\": 14, \"12\": 10, \"4\": 5, \"13\": 6, \"1\": 5, \"2\": 1, \"11\": 2, \"14\": 1}, \"2\": {\"10\": 16, \"11\": 14, \"14\": 39, \"2\": 79, \"12\": 4, \"15\": 35, \"8\": 4, \"5\": 6, \"6\": 1, \"1\": 12, \"13\": 28, \"0\": 1, \"9\": 1}, \"4\": {\"12\": 73, \"4\": 138, \"0\": 11, \"14\": 3, \"10\": 6, \"11\": 2, \"7\": 5, \"5\": 1, \"8\": 1}, \"7\": {\"0\": 36, \"7\": 61, \"9\": 14, \"5\": 29, \"8\": 32, \"6\": 14, \"10\": 18, \"3\": 8, \"12\": 6, \"11\": 1, \"13\": 4, \"15\": 9, \"4\": 7, \"1\": 1}, \"12\": {\"12\": 117, \"0\": 10, \"4\": 64, \"10\": 9, \"14\": 20, \"11\": 7, \"8\": 2, \"13\": 3, \"7\": 4, \"15\": 1, \"5\": 2, \"2\": 1}, \"6\": {\"6\": 80, \"9\": 62, \"1\": 20, \"3\": 5, \"8\": 16, \"5\": 24, \"0\": 13, \"7\": 6, \"13\": 8, \"15\": 4, \"2\": 1, \"10\": 1}, \"15\": {\"13\": 22, \"8\": 26, \"15\": 36, \"1\": 33, \"14\": 11, \"0\": 10, \"6\": 13, \"10\": 32, \"2\": 25, \"5\": 24, \"7\": 5, \"9\": 2, \"12\": 1}, \"11\": {\"14\": 67, \"13\": 5, \"10\": 22, \"2\": 17, \"11\": 106, \"15\": 3, \"8\": 3, \"12\": 12, \"4\": 1, \"1\": 3, \"5\": 1}, \"9\": {\"6\": 68, \"1\": 15, \"7\": 10, \"8\": 15, \"3\": 17, \"9\": 73, \"5\": 23, \"0\": 9, \"15\": 5, \"13\": 3, \"10\": 2}, \"14\": {\"10\": 27, \"14\": 91, \"11\": 55, \"8\": 2, \"2\": 32, \"15\": 7, \"4\": 4, \"12\": 11, \"0\": 1, \"5\": 1, \"13\": 8, \"1\": 1}, \"10\": {\"10\": 58, \"15\": 26, \"5\": 15, \"7\": 22, \"8\": 20, \"2\": 12, \"0\": 10, \"1\": 11, \"11\": 14, \"13\": 20, \"9\": 3, \"14\": 15, \"4\": 4, \"6\": 2, \"12\": 8}, \"5\": {\"9\": 15, \"1\": 16, \"5\": 36, \"4\": 1, \"0\": 32, \"8\": 30, \"13\": 14, \"7\": 18, \"6\": 34, \"3\": 10, \"15\": 23, \"14\": 1, \"10\": 6, \"2\": 3, \"12\": 1}, \"1\": {\"1\": 75, \"5\": 23, \"6\": 40, \"15\": 25, \"2\": 12, \"7\": 1, \"8\": 19, \"3\": 1, \"13\": 19, \"10\": 7, \"14\": 1, \"0\": 4, \"9\": 13}, \"13\": {\"10\": 27, \"11\": 6, \"8\": 19, \"0\": 11, \"13\": 43, \"15\": 37, \"6\": 14, \"14\": 6, \"2\": 20, \"1\": 36, \"5\": 18, \"7\": 1, \"9\": 2}}, \"O_26\": {\"5\": {\"9\": 20, \"8\": 20, \"4\": 10, \"2\": 18, \"5\": 47, \"15\": 17, \"13\": 25, \"6\": 15, \"3\": 16, \"7\": 21, \"10\": 9, \"14\": 9, \"1\": 6, \"0\": 5, \"11\": 1, \"12\": 1}, \"8\": {\"2\": 11, \"14\": 22, \"10\": 28, \"0\": 22, \"13\": 14, \"1\": 17, \"9\": 14, \"7\": 14, \"15\": 23, \"8\": 23, \"3\": 11, \"4\": 15, \"5\": 12, \"12\": 2, \"6\": 12}, \"4\": {\"10\": 19, \"14\": 17, \"1\": 21, \"3\": 18, \"9\": 12, \"4\": 26, \"0\": 21, \"15\": 16, \"8\": 24, \"2\": 16, \"7\": 17, \"6\": 18, \"5\": 7, \"13\": 5, \"12\": 3}, \"12\": {\"6\": 23, \"15\": 15, \"10\": 17, \"0\": 9, \"13\": 16, \"12\": 94, \"4\": 4, \"11\": 21, \"5\": 5, \"8\": 11, \"9\": 15, \"14\": 5, \"7\": 3, \"2\": 1, \"1\": 1}, \"6\": {\"8\": 25, \"6\": 27, \"12\": 9, \"15\": 22, \"4\": 15, \"14\": 15, \"9\": 22, \"10\": 24, \"7\": 21, \"2\": 15, \"3\": 7, \"5\": 7, \"13\": 12, \"1\": 6, \"0\": 12, \"11\": 1}, \"7\": {\"10\": 13, \"6\": 9, \"2\": 22, \"15\": 16, \"14\": 22, \"4\": 22, \"3\": 19, \"5\": 12, \"7\": 25, \"9\": 16, \"13\": 10, \"8\": 15, \"0\": 16, \"1\": 22, \"12\": 1}, \"10\": {\"0\": 21, \"13\": 11, \"3\": 13, \"7\": 17, \"14\": 19, \"4\": 22, \"6\": 24, \"8\": 18, \"5\": 11, \"10\": 27, \"1\": 21, \"9\": 7, \"15\": 19, \"2\": 5, \"12\": 5}, \"0\": {\"3\": 2, \"0\": 24, \"14\": 34, \"15\": 13, \"10\": 26, \"8\": 13, \"4\": 32, \"1\": 23, \"6\": 14, \"7\": 25, \"9\": 13, \"2\": 9, \"5\": 8, \"13\": 2, \"12\": 2}, \"15\": {\"0\": 23, \"14\": 10, \"7\": 22, \"10\": 12, \"5\": 20, \"13\": 25, \"8\": 15, \"6\": 15, \"15\": 16, \"3\": 15, \"1\": 17, \"9\": 16, \"12\": 3, \"2\": 12, \"4\": 19}, \"9\": {\"5\": 24, \"6\": 22, \"12\": 9, \"7\": 10, \"9\": 38, \"0\": 23, \"13\": 12, \"1\": 7, \"10\": 10, \"3\": 18, \"2\": 19, \"14\": 11, \"4\": 8, \"15\": 20, \"8\": 9}, \"11\": {\"11\": 127, \"0\": 5, \"13\": 20, \"12\": 41, \"6\": 6, \"5\": 14, \"15\": 8, \"10\": 3, \"9\": 8, \"8\": 4, \"7\": 2, \"1\": 1, \"4\": 1}, \"14\": {\"3\": 15, \"4\": 31, \"1\": 21, \"14\": 23, \"15\": 18, \"7\": 18, \"10\": 20, \"0\": 27, \"8\": 20, \"2\": 16, \"6\": 13, \"9\": 9, \"5\": 5, \"13\": 3, \"12\": 1}, \"2\": {\"4\": 8, \"2\": 30, \"5\": 28, \"0\": 10, \"14\": 10, \"7\": 30, \"6\": 8, \"15\": 16, \"10\": 9, \"3\": 31, \"1\": 16, \"13\": 10, \"9\": 20, \"8\": 13, \"12\": 1}, \"13\": {\"3\": 14, \"0\": 12, \"13\": 35, \"5\": 34, \"2\": 24, \"6\": 20, \"8\": 17, \"9\": 29, \"15\": 22, \"14\": 5, \"7\": 8, \"1\": 2, \"10\": 8, \"11\": 3, \"4\": 3, \"12\": 4}, \"3\": {\"14\": 20, \"2\": 23, \"3\": 37, \"10\": 10, \"7\": 35, \"8\": 10, \"0\": 13, \"6\": 9, \"1\": 10, \"4\": 15, \"5\": 23, \"15\": 12, \"9\": 18, \"13\": 5}, \"1\": {\"10\": 27, \"14\": 17, \"6\": 9, \"1\": 36, \"3\": 16, \"4\": 21, \"2\": 9, \"0\": 23, \"7\": 33, \"5\": 8, \"15\": 10, \"8\": 18, \"13\": 2, \"9\": 11}}}, \"per_domain_accuracy\": {\"W_3\": {\"accuracy\": 0.9781659388646288, \"source?\": true}, \"W_2\": {\"accuracy\": 0.96015625, \"source?\": true}, \"C_4\": {\"accuracy\": 0.9994318181818181, \"source?\": true}, \"W_1\": {\"accuracy\": 0.980667372881356, \"source?\": true}, \"W_4\": {\"accuracy\": 0.967335390946502, \"source?\": true}, \"C_2\": {\"accuracy\": 0.9998244382022472, \"source?\": true}, \"C_3\": {\"accuracy\": 0.9998139880952381, \"source?\": true}, \"C_1\": {\"accuracy\": 0.9994932432432433, \"source?\": true}, \"C_5\": {\"accuracy\": 0.9996508379888268, \"source?\": true}, \"O_50\": {\"accuracy\": 0.25026041666666665, \"source?\": false}, \"O_14\": {\"accuracy\": 0.22994791666666667, \"source?\": false}, \"O_32\": {\"accuracy\": 0.34036458333333336, \"source?\": false}, \"O_44\": {\"accuracy\": 0.259375, \"source?\": false}, \"O_8\": {\"accuracy\": 0.18515625, \"source?\": false}, \"O_20\": {\"accuracy\": 0.12395833333333334, \"source?\": false}, \"O_38\": {\"accuracy\": 0.30807291666666664, \"source?\": false}, \"O_26\": {\"accuracy\": 0.16536458333333334, \"source?\": false}}}, \"history\": {\"epoch_indices\": [1, 2, 3, 4, 5, 6, 7], \"train_label_loss\": [0.12080504379319208, 0.07076198442893425, 0.057464532094210215, 0.0471702381520051, 0.0421683602800726, 0.03413889242860917, 0.029599657145459844], \"source_val_label_loss\": [0.11244075000286102, 0.07282683253288269, 0.06572272628545761, 0.06476356089115143, 0.06265459209680557, 0.062275029718875885, 0.06641149520874023], \"target_val_label_loss\": [2.35465931892395, 2.395101547241211, 2.386697769165039, 2.5664823055267334, 2.595594882965088, 2.7050719261169434, 2.9014999866485596], \"source_val_acc_label\": [0.975246845858475, 0.9830807734503566, 0.984983543609435, 0.9854120954470653, 0.9858577893582008, 0.9859777838727373, 0.9858406472846956], \"target_val_acc_label\": [0.22314453125, 0.2228515625, 0.2328125, 0.20390625, 0.19944661458333332, 0.20563151041666666, 0.19407552083333332]}, \"dataset_metrics\": {\"source\": {\"train\": {\"n_unique_x\": 364164, \"n_unique_y\": 130, \"n_batch/episode\": 13156}, \"val\": {\"n_unique_x\": 77236, \"n_unique_y\": 130, \"n_batch/episode\": 1823}, \"test\": {\"n_unique_x\": 78478, \"n_unique_y\": 130, \"n_batch/episode\": 1857}}, \"target\": {\"train\": {\"n_unique_x\": 179200, \"n_unique_y\": 16, \"n_batch/episode\": 6720}, \"val\": {\"n_unique_x\": 38400, \"n_unique_y\": 16, \"n_batch/episode\": 960}, \"test\": {\"n_unique_x\": 38400, \"n_unique_y\": 16, \"n_batch/episode\": 960}}}}'"
      ]
     },
     "execution_count": 29,
     "metadata": {},
     "output_type": "execute_result"
    }
   ],
   "source": [
    "json.dumps(experiment)"
   ]
  }
 ],
 "metadata": {
  "celltoolbar": "Tags",
  "kernelspec": {
   "display_name": "Python 3 (ipykernel)",
   "language": "python",
   "name": "python3"
  },
  "language_info": {
   "codemirror_mode": {
    "name": "ipython",
    "version": 3
   },
   "file_extension": ".py",
   "mimetype": "text/x-python",
   "name": "python",
   "nbconvert_exporter": "python",
   "pygments_lexer": "ipython3",
   "version": "3.8.10"
  },
  "papermill": {
   "default_parameters": {},
   "duration": 2340.671565,
   "end_time": "2022-03-20T19:22:26.747447",
   "environment_variables": {},
   "exception": null,
   "input_path": "/mnt/wd500GB/CSC500/csc500-main/csc500-notebooks/templates/tl_ptn_template.ipynb",
   "output_path": "trial.ipynb",
   "parameters": {
    "parameters": {
     "BEST_MODEL_PATH": "./best_model.pth",
     "NUM_LOGS_PER_EPOCH": 10,
     "criteria_for_best": "target_accuracy",
     "dataset_seed": 500,
     "datasets": [
      {
       "domain_prefix": "C_",
       "domains": [
        1,
        2,
        3,
        4,
        5
       ],
       "episode_transforms": [],
       "labels": [
        "1-10.",
        "1-11.",
        "1-15.",
        "1-16.",
        "1-17.",
        "1-18.",
        "1-19.",
        "10-4.",
        "10-7.",
        "11-1.",
        "11-14.",
        "11-17.",
        "11-20.",
        "11-7.",
        "13-20.",
        "13-8.",
        "14-10.",
        "14-11.",
        "14-14.",
        "14-7.",
        "15-1.",
        "15-20.",
        "16-1.",
        "16-16.",
        "17-10.",
        "17-11.",
        "17-2.",
        "19-1.",
        "19-16.",
        "19-19.",
        "19-20.",
        "19-3.",
        "2-10.",
        "2-11.",
        "2-17.",
        "2-18.",
        "2-20.",
        "2-3.",
        "2-4.",
        "2-5.",
        "2-6.",
        "2-7.",
        "2-8.",
        "3-13.",
        "3-18.",
        "3-3.",
        "4-1.",
        "4-10.",
        "4-11.",
        "4-19.",
        "5-5.",
        "6-15.",
        "7-10.",
        "7-14.",
        "8-18.",
        "8-20.",
        "8-3.",
        "8-8."
       ],
       "num_examples_per_domain_per_label": -1,
       "pickle_path": "/mnt/wd500GB/CSC500/csc500-main/datasets/cores.stratified_ds.2022A.pkl",
       "source_or_target_dataset": "source",
       "x_transforms": [
        "unit_power",
        "take_200"
       ]
      },
      {
       "domain_prefix": "W_",
       "domains": [
        1,
        2,
        3,
        4
       ],
       "episode_transforms": [],
       "labels": [
        "1-10",
        "1-12",
        "1-14",
        "1-16",
        "1-18",
        "1-19",
        "1-8",
        "10-11",
        "10-17",
        "10-4",
        "10-7",
        "11-1",
        "11-10",
        "11-19",
        "11-20",
        "11-4",
        "11-7",
        "12-19",
        "12-20",
        "12-7",
        "13-14",
        "13-18",
        "13-19",
        "13-20",
        "13-3",
        "13-7",
        "14-10",
        "14-11",
        "14-12",
        "14-13",
        "14-14",
        "14-19",
        "14-20",
        "14-7",
        "14-8",
        "14-9",
        "15-1",
        "15-19",
        "15-6",
        "16-1",
        "16-16",
        "16-19",
        "16-20",
        "17-10",
        "17-11",
        "18-1",
        "18-10",
        "18-11",
        "18-12",
        "18-13",
        "18-14",
        "18-15",
        "18-16",
        "18-17",
        "18-19",
        "18-2",
        "18-20",
        "18-4",
        "18-5",
        "18-7",
        "18-8",
        "18-9",
        "19-1",
        "19-10",
        "19-11",
        "19-12",
        "19-13",
        "19-14",
        "19-15",
        "19-19",
        "19-2",
        "19-20",
        "19-3",
        "19-4",
        "19-6",
        "19-7",
        "19-8",
        "19-9",
        "2-1",
        "2-13",
        "2-15",
        "2-3",
        "2-4",
        "2-5",
        "2-6",
        "2-7",
        "2-8",
        "20-1",
        "20-12",
        "20-14",
        "20-15",
        "20-16",
        "20-18",
        "20-19",
        "20-20",
        "20-3",
        "20-4",
        "20-5",
        "20-7",
        "20-8",
        "3-1",
        "3-13",
        "3-18",
        "3-2",
        "3-8",
        "4-1",
        "4-10",
        "4-11",
        "5-1",
        "5-5",
        "6-1",
        "6-15",
        "6-6",
        "7-10",
        "7-11",
        "7-12",
        "7-13",
        "7-14",
        "7-7",
        "7-8",
        "7-9",
        "8-1",
        "8-13",
        "8-14",
        "8-18",
        "8-20",
        "8-3",
        "8-8",
        "9-1",
        "9-7"
       ],
       "num_examples_per_domain_per_label": -1,
       "pickle_path": "/mnt/wd500GB/CSC500/csc500-main/datasets/wisig.node3-19.stratified_ds.2022A.pkl",
       "source_or_target_dataset": "source",
       "x_transforms": [
        "unit_power",
        "take_200"
       ]
      },
      {
       "domain_prefix": "O_",
       "domains": [
        32,
        38,
        8,
        44,
        14,
        50,
        20,
        26
       ],
       "episode_transforms": [],
       "labels": [
        "3123D52",
        "3123D65",
        "3123D79",
        "3123D80",
        "3123D54",
        "3123D70",
        "3123D7B",
        "3123D89",
        "3123D58",
        "3123D76",
        "3123D7D",
        "3123EFE",
        "3123D64",
        "3123D78",
        "3123D7E",
        "3124E4A"
       ],
       "num_examples_per_domain_per_label": 2000,
       "pickle_path": "/mnt/wd500GB/CSC500/csc500-main/datasets/oracle.Run1_framed_2000Examples_stratified_ds.2022A.pkl",
       "source_or_target_dataset": "target",
       "x_transforms": [
        "unit_power",
        "take_200",
        "resample_20Msps_to_25Msps"
       ]
      }
     ],
     "device": "cuda",
     "experiment_name": "tl_3Av2:cores+wisig -> oracle.run1.framed",
     "lr": 0.0001,
     "n_epoch": 50,
     "n_query": 2,
     "n_shot": 3,
     "n_way": 16,
     "patience": 3,
     "seed": 500,
     "test_k_factor": 2,
     "torch_default_dtype": "torch.float32",
     "train_k_factor": 3,
     "val_k_factor": 2,
     "x_net": [
      {
       "class": "nnReshape",
       "kargs": {
        "shape": [
         -1,
         1,
         2,
         200
        ]
       }
      },
      {
       "class": "Conv2d",
       "kargs": {
        "bias": false,
        "in_channels": 1,
        "kernel_size": [
         1,
         7
        ],
        "out_channels": 256,
        "padding": [
         0,
         3
        ]
       }
      },
      {
       "class": "ReLU",
       "kargs": {
        "inplace": true
       }
      },
      {
       "class": "BatchNorm2d",
       "kargs": {
        "num_features": 256
       }
      },
      {
       "class": "Conv2d",
       "kargs": {
        "bias": true,
        "in_channels": 256,
        "kernel_size": [
         2,
         7
        ],
        "out_channels": 80,
        "padding": [
         0,
         3
        ]
       }
      },
      {
       "class": "ReLU",
       "kargs": {
        "inplace": true
       }
      },
      {
       "class": "BatchNorm2d",
       "kargs": {
        "num_features": 80
       }
      },
      {
       "class": "Flatten",
       "kargs": {}
      },
      {
       "class": "Linear",
       "kargs": {
        "in_features": 16000,
        "out_features": 256
       }
      },
      {
       "class": "ReLU",
       "kargs": {
        "inplace": true
       }
      },
      {
       "class": "BatchNorm1d",
       "kargs": {
        "num_features": 256
       }
      },
      {
       "class": "Linear",
       "kargs": {
        "in_features": 256,
        "out_features": 256
       }
      }
     ],
     "x_shape": [
      2,
      200
     ]
    }
   },
   "start_time": "2022-03-20T18:43:26.075882",
   "version": "2.3.4"
  }
 },
 "nbformat": 4,
 "nbformat_minor": 5
}