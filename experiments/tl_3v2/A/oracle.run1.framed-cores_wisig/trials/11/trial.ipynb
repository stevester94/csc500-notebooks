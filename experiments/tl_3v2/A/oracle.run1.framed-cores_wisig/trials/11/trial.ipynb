{
 "cells": [
  {
   "cell_type": "markdown",
   "id": "9fea5f46",
   "metadata": {
    "papermill": {
     "duration": 0.016322,
     "end_time": "2022-03-21T02:47:09.153245",
     "exception": false,
     "start_time": "2022-03-21T02:47:09.136923",
     "status": "completed"
    },
    "tags": []
   },
   "source": [
    "# Transfer Learning Template"
   ]
  },
  {
   "cell_type": "code",
   "execution_count": 1,
   "id": "0902182a",
   "metadata": {
    "execution": {
     "iopub.execute_input": "2022-03-21T02:47:09.193224Z",
     "iopub.status.busy": "2022-03-21T02:47:09.192690Z",
     "iopub.status.idle": "2022-03-21T02:47:10.150024Z",
     "shell.execute_reply": "2022-03-21T02:47:10.149524Z"
    },
    "papermill": {
     "duration": 0.98396,
     "end_time": "2022-03-21T02:47:10.150138",
     "exception": false,
     "start_time": "2022-03-21T02:47:09.166178",
     "status": "completed"
    },
    "tags": []
   },
   "outputs": [],
   "source": [
    "%load_ext autoreload\n",
    "%autoreload 2\n",
    "%matplotlib inline\n",
    "\n",
    "    \n",
    "import os, json, sys, time, random\n",
    "import numpy as np\n",
    "import torch\n",
    "from torch.optim import Adam\n",
    "from  easydict import EasyDict\n",
    "import matplotlib.pyplot as plt\n",
    "\n",
    "from steves_models.steves_ptn import Steves_Prototypical_Network\n",
    "\n",
    "from steves_utils.lazy_iterable_wrapper import Lazy_Iterable_Wrapper\n",
    "from steves_utils.iterable_aggregator import Iterable_Aggregator\n",
    "from steves_utils.ptn_train_eval_test_jig import  PTN_Train_Eval_Test_Jig\n",
    "from steves_utils.torch_sequential_builder import build_sequential\n",
    "from steves_utils.torch_utils import get_dataset_metrics, ptn_confusion_by_domain_over_dataloader\n",
    "from steves_utils.utils_v2 import (per_domain_accuracy_from_confusion, get_datasets_base_path)\n",
    "from steves_utils.PTN.utils import independent_accuracy_assesment\n",
    "\n",
    "from torch.utils.data import DataLoader\n",
    "\n",
    "from steves_utils.stratified_dataset.episodic_accessor import Episodic_Accessor_Factory\n",
    "\n",
    "from steves_utils.ptn_do_report import (\n",
    "    get_loss_curve,\n",
    "    get_results_table,\n",
    "    get_parameters_table,\n",
    "    get_domain_accuracies,\n",
    ")\n",
    "\n",
    "from steves_utils.transforms import get_chained_transform"
   ]
  },
  {
   "cell_type": "markdown",
   "id": "41c840b4",
   "metadata": {
    "papermill": {
     "duration": 0.013019,
     "end_time": "2022-03-21T02:47:10.178875",
     "exception": false,
     "start_time": "2022-03-21T02:47:10.165856",
     "status": "completed"
    },
    "tags": []
   },
   "source": [
    "# Allowed Parameters\n",
    "These are allowed parameters, not defaults\n",
    "Each of these values need to be present in the injected parameters (the notebook will raise an exception if they are not present)\n",
    "\n",
    "Papermill uses the cell tag \"parameters\" to inject the real parameters below this cell.\n",
    "Enable tags to see what I mean"
   ]
  },
  {
   "cell_type": "code",
   "execution_count": 2,
   "id": "fd44eb83",
   "metadata": {
    "execution": {
     "iopub.execute_input": "2022-03-21T02:47:10.212420Z",
     "iopub.status.busy": "2022-03-21T02:47:10.209200Z",
     "iopub.status.idle": "2022-03-21T02:47:10.224173Z",
     "shell.execute_reply": "2022-03-21T02:47:10.223707Z"
    },
    "papermill": {
     "duration": 0.032125,
     "end_time": "2022-03-21T02:47:10.224280",
     "exception": false,
     "start_time": "2022-03-21T02:47:10.192155",
     "status": "completed"
    },
    "tags": []
   },
   "outputs": [],
   "source": [
    "required_parameters = {\n",
    "    \"experiment_name\",\n",
    "    \"lr\",\n",
    "    \"device\",\n",
    "    \"seed\",\n",
    "    \"dataset_seed\",\n",
    "    \"n_shot\",\n",
    "    \"n_query\",\n",
    "    \"n_way\",\n",
    "    \"train_k_factor\",\n",
    "    \"val_k_factor\",\n",
    "    \"test_k_factor\",\n",
    "    \"n_epoch\",\n",
    "    \"patience\",\n",
    "    \"criteria_for_best\",\n",
    "    \"x_net\",\n",
    "    \"datasets\",\n",
    "    \"torch_default_dtype\",\n",
    "    \"NUM_LOGS_PER_EPOCH\",\n",
    "    \"BEST_MODEL_PATH\",\n",
    "    \"x_shape\",\n",
    "}"
   ]
  },
  {
   "cell_type": "code",
   "execution_count": 3,
   "id": "fa3f0049",
   "metadata": {
    "execution": {
     "iopub.execute_input": "2022-03-21T02:47:10.266016Z",
     "iopub.status.busy": "2022-03-21T02:47:10.265425Z",
     "iopub.status.idle": "2022-03-21T02:47:10.276865Z",
     "shell.execute_reply": "2022-03-21T02:47:10.276505Z"
    },
    "papermill": {
     "duration": 0.035746,
     "end_time": "2022-03-21T02:47:10.276940",
     "exception": false,
     "start_time": "2022-03-21T02:47:10.241194",
     "status": "completed"
    },
    "tags": [
     "parameters"
    ]
   },
   "outputs": [],
   "source": [
    "from steves_utils.CORES.utils import (\n",
    "    ALL_NODES,\n",
    "    ALL_NODES_MINIMUM_1000_EXAMPLES,\n",
    "    ALL_DAYS\n",
    ")\n",
    "\n",
    "from steves_utils.ORACLE.utils_v2 import (\n",
    "    ALL_DISTANCES_FEET_NARROWED,\n",
    "    ALL_RUNS,\n",
    "    ALL_SERIAL_NUMBERS,\n",
    ")\n",
    "\n",
    "standalone_parameters = {}\n",
    "standalone_parameters[\"experiment_name\"] = \"STANDALONE PTN\"\n",
    "standalone_parameters[\"lr\"] = 0.001\n",
    "standalone_parameters[\"device\"] = \"cuda\"\n",
    "\n",
    "standalone_parameters[\"seed\"] = 1337\n",
    "standalone_parameters[\"dataset_seed\"] = 1337\n",
    "\n",
    "standalone_parameters[\"n_way\"] = 8\n",
    "standalone_parameters[\"n_shot\"] = 3\n",
    "standalone_parameters[\"n_query\"]  = 2\n",
    "standalone_parameters[\"train_k_factor\"] = 1\n",
    "standalone_parameters[\"val_k_factor\"] = 2\n",
    "standalone_parameters[\"test_k_factor\"] = 2\n",
    "\n",
    "\n",
    "standalone_parameters[\"n_epoch\"] = 50\n",
    "\n",
    "standalone_parameters[\"patience\"] = 10\n",
    "standalone_parameters[\"criteria_for_best\"] = \"source_loss\"\n",
    "\n",
    "standalone_parameters[\"datasets\"] = [\n",
    "    {\n",
    "        \"labels\": ALL_SERIAL_NUMBERS,\n",
    "        \"domains\": ALL_DISTANCES_FEET_NARROWED,\n",
    "        \"num_examples_per_domain_per_label\": 100,\n",
    "        \"pickle_path\": os.path.join(get_datasets_base_path(), \"oracle.Run1_framed_2000Examples_stratified_ds.2022A.pkl\"),\n",
    "        \"source_or_target_dataset\": \"source\",\n",
    "        \"x_transforms\": [\"unit_mag\", \"minus_two\"],\n",
    "        \"episode_transforms\": [],\n",
    "        \"domain_prefix\": \"ORACLE_\"\n",
    "    },\n",
    "    {\n",
    "        \"labels\": ALL_NODES,\n",
    "        \"domains\": ALL_DAYS,\n",
    "        \"num_examples_per_domain_per_label\": 100,\n",
    "        \"pickle_path\": os.path.join(get_datasets_base_path(), \"cores.stratified_ds.2022A.pkl\"),\n",
    "        \"source_or_target_dataset\": \"target\",\n",
    "        \"x_transforms\": [\"unit_power\", \"times_zero\"],\n",
    "        \"episode_transforms\": [],\n",
    "        \"domain_prefix\": \"CORES_\"\n",
    "    }   \n",
    "]\n",
    "\n",
    "standalone_parameters[\"torch_default_dtype\"] = \"torch.float32\" \n",
    "\n",
    "\n",
    "\n",
    "standalone_parameters[\"x_net\"] =     [\n",
    "    {\"class\": \"nnReshape\", \"kargs\": {\"shape\":[-1, 1, 2, 256]}},\n",
    "    {\"class\": \"Conv2d\", \"kargs\": { \"in_channels\":1, \"out_channels\":256, \"kernel_size\":(1,7), \"bias\":False, \"padding\":(0,3), },},\n",
    "    {\"class\": \"ReLU\", \"kargs\": {\"inplace\": True}},\n",
    "    {\"class\": \"BatchNorm2d\", \"kargs\": {\"num_features\":256}},\n",
    "\n",
    "    {\"class\": \"Conv2d\", \"kargs\": { \"in_channels\":256, \"out_channels\":80, \"kernel_size\":(2,7), \"bias\":True, \"padding\":(0,3), },},\n",
    "    {\"class\": \"ReLU\", \"kargs\": {\"inplace\": True}},\n",
    "    {\"class\": \"BatchNorm2d\", \"kargs\": {\"num_features\":80}},\n",
    "    {\"class\": \"Flatten\", \"kargs\": {}},\n",
    "\n",
    "    {\"class\": \"Linear\", \"kargs\": {\"in_features\": 80*256, \"out_features\": 256}}, # 80 units per IQ pair\n",
    "    {\"class\": \"ReLU\", \"kargs\": {\"inplace\": True}},\n",
    "    {\"class\": \"BatchNorm1d\", \"kargs\": {\"num_features\":256}},\n",
    "\n",
    "    {\"class\": \"Linear\", \"kargs\": {\"in_features\": 256, \"out_features\": 256}},\n",
    "]\n",
    "\n",
    "# Parameters relevant to results\n",
    "# These parameters will basically never need to change\n",
    "standalone_parameters[\"NUM_LOGS_PER_EPOCH\"] = 10\n",
    "standalone_parameters[\"BEST_MODEL_PATH\"] = \"./best_model.pth\"\n",
    "\n",
    "\n",
    "\n",
    "\n"
   ]
  },
  {
   "cell_type": "code",
   "execution_count": 4,
   "id": "d38f4f1d",
   "metadata": {
    "execution": {
     "iopub.execute_input": "2022-03-21T02:47:10.320838Z",
     "iopub.status.busy": "2022-03-21T02:47:10.320251Z",
     "iopub.status.idle": "2022-03-21T02:47:10.334480Z",
     "shell.execute_reply": "2022-03-21T02:47:10.334085Z"
    },
    "papermill": {
     "duration": 0.041131,
     "end_time": "2022-03-21T02:47:10.334570",
     "exception": false,
     "start_time": "2022-03-21T02:47:10.293439",
     "status": "completed"
    },
    "tags": [
     "injected-parameters"
    ]
   },
   "outputs": [],
   "source": [
    "# Parameters\n",
    "parameters = {\n",
    "    \"experiment_name\": \"tl_3Av2:oracle.run1.framed -> cores+wisig\",\n",
    "    \"device\": \"cuda\",\n",
    "    \"lr\": 0.0001,\n",
    "    \"x_shape\": [2, 200],\n",
    "    \"n_shot\": 3,\n",
    "    \"n_query\": 2,\n",
    "    \"train_k_factor\": 3,\n",
    "    \"val_k_factor\": 2,\n",
    "    \"test_k_factor\": 2,\n",
    "    \"torch_default_dtype\": \"torch.float32\",\n",
    "    \"n_epoch\": 50,\n",
    "    \"patience\": 3,\n",
    "    \"criteria_for_best\": \"target_accuracy\",\n",
    "    \"x_net\": [\n",
    "        {\"class\": \"nnReshape\", \"kargs\": {\"shape\": [-1, 1, 2, 200]}},\n",
    "        {\n",
    "            \"class\": \"Conv2d\",\n",
    "            \"kargs\": {\n",
    "                \"in_channels\": 1,\n",
    "                \"out_channels\": 256,\n",
    "                \"kernel_size\": [1, 7],\n",
    "                \"bias\": False,\n",
    "                \"padding\": [0, 3],\n",
    "            },\n",
    "        },\n",
    "        {\"class\": \"ReLU\", \"kargs\": {\"inplace\": True}},\n",
    "        {\"class\": \"BatchNorm2d\", \"kargs\": {\"num_features\": 256}},\n",
    "        {\n",
    "            \"class\": \"Conv2d\",\n",
    "            \"kargs\": {\n",
    "                \"in_channels\": 256,\n",
    "                \"out_channels\": 80,\n",
    "                \"kernel_size\": [2, 7],\n",
    "                \"bias\": True,\n",
    "                \"padding\": [0, 3],\n",
    "            },\n",
    "        },\n",
    "        {\"class\": \"ReLU\", \"kargs\": {\"inplace\": True}},\n",
    "        {\"class\": \"BatchNorm2d\", \"kargs\": {\"num_features\": 80}},\n",
    "        {\"class\": \"Flatten\", \"kargs\": {}},\n",
    "        {\"class\": \"Linear\", \"kargs\": {\"in_features\": 16000, \"out_features\": 256}},\n",
    "        {\"class\": \"ReLU\", \"kargs\": {\"inplace\": True}},\n",
    "        {\"class\": \"BatchNorm1d\", \"kargs\": {\"num_features\": 256}},\n",
    "        {\"class\": \"Linear\", \"kargs\": {\"in_features\": 256, \"out_features\": 256}},\n",
    "    ],\n",
    "    \"NUM_LOGS_PER_EPOCH\": 10,\n",
    "    \"BEST_MODEL_PATH\": \"./best_model.pth\",\n",
    "    \"n_way\": 16,\n",
    "    \"datasets\": [\n",
    "        {\n",
    "            \"labels\": [\n",
    "                \"1-10.\",\n",
    "                \"1-11.\",\n",
    "                \"1-15.\",\n",
    "                \"1-16.\",\n",
    "                \"1-17.\",\n",
    "                \"1-18.\",\n",
    "                \"1-19.\",\n",
    "                \"10-4.\",\n",
    "                \"10-7.\",\n",
    "                \"11-1.\",\n",
    "                \"11-14.\",\n",
    "                \"11-17.\",\n",
    "                \"11-20.\",\n",
    "                \"11-7.\",\n",
    "                \"13-20.\",\n",
    "                \"13-8.\",\n",
    "                \"14-10.\",\n",
    "                \"14-11.\",\n",
    "                \"14-14.\",\n",
    "                \"14-7.\",\n",
    "                \"15-1.\",\n",
    "                \"15-20.\",\n",
    "                \"16-1.\",\n",
    "                \"16-16.\",\n",
    "                \"17-10.\",\n",
    "                \"17-11.\",\n",
    "                \"17-2.\",\n",
    "                \"19-1.\",\n",
    "                \"19-16.\",\n",
    "                \"19-19.\",\n",
    "                \"19-20.\",\n",
    "                \"19-3.\",\n",
    "                \"2-10.\",\n",
    "                \"2-11.\",\n",
    "                \"2-17.\",\n",
    "                \"2-18.\",\n",
    "                \"2-20.\",\n",
    "                \"2-3.\",\n",
    "                \"2-4.\",\n",
    "                \"2-5.\",\n",
    "                \"2-6.\",\n",
    "                \"2-7.\",\n",
    "                \"2-8.\",\n",
    "                \"3-13.\",\n",
    "                \"3-18.\",\n",
    "                \"3-3.\",\n",
    "                \"4-1.\",\n",
    "                \"4-10.\",\n",
    "                \"4-11.\",\n",
    "                \"4-19.\",\n",
    "                \"5-5.\",\n",
    "                \"6-15.\",\n",
    "                \"7-10.\",\n",
    "                \"7-14.\",\n",
    "                \"8-18.\",\n",
    "                \"8-20.\",\n",
    "                \"8-3.\",\n",
    "                \"8-8.\",\n",
    "            ],\n",
    "            \"domains\": [1, 2, 3, 4, 5],\n",
    "            \"num_examples_per_domain_per_label\": -1,\n",
    "            \"pickle_path\": \"/mnt/wd500GB/CSC500/csc500-main/datasets/cores.stratified_ds.2022A.pkl\",\n",
    "            \"source_or_target_dataset\": \"target\",\n",
    "            \"x_transforms\": [\"take_200\"],\n",
    "            \"episode_transforms\": [],\n",
    "            \"domain_prefix\": \"C_\",\n",
    "        },\n",
    "        {\n",
    "            \"labels\": [\n",
    "                \"1-10\",\n",
    "                \"1-12\",\n",
    "                \"1-14\",\n",
    "                \"1-16\",\n",
    "                \"1-18\",\n",
    "                \"1-19\",\n",
    "                \"1-8\",\n",
    "                \"10-11\",\n",
    "                \"10-17\",\n",
    "                \"10-4\",\n",
    "                \"10-7\",\n",
    "                \"11-1\",\n",
    "                \"11-10\",\n",
    "                \"11-19\",\n",
    "                \"11-20\",\n",
    "                \"11-4\",\n",
    "                \"11-7\",\n",
    "                \"12-19\",\n",
    "                \"12-20\",\n",
    "                \"12-7\",\n",
    "                \"13-14\",\n",
    "                \"13-18\",\n",
    "                \"13-19\",\n",
    "                \"13-20\",\n",
    "                \"13-3\",\n",
    "                \"13-7\",\n",
    "                \"14-10\",\n",
    "                \"14-11\",\n",
    "                \"14-12\",\n",
    "                \"14-13\",\n",
    "                \"14-14\",\n",
    "                \"14-19\",\n",
    "                \"14-20\",\n",
    "                \"14-7\",\n",
    "                \"14-8\",\n",
    "                \"14-9\",\n",
    "                \"15-1\",\n",
    "                \"15-19\",\n",
    "                \"15-6\",\n",
    "                \"16-1\",\n",
    "                \"16-16\",\n",
    "                \"16-19\",\n",
    "                \"16-20\",\n",
    "                \"17-10\",\n",
    "                \"17-11\",\n",
    "                \"18-1\",\n",
    "                \"18-10\",\n",
    "                \"18-11\",\n",
    "                \"18-12\",\n",
    "                \"18-13\",\n",
    "                \"18-14\",\n",
    "                \"18-15\",\n",
    "                \"18-16\",\n",
    "                \"18-17\",\n",
    "                \"18-19\",\n",
    "                \"18-2\",\n",
    "                \"18-20\",\n",
    "                \"18-4\",\n",
    "                \"18-5\",\n",
    "                \"18-7\",\n",
    "                \"18-8\",\n",
    "                \"18-9\",\n",
    "                \"19-1\",\n",
    "                \"19-10\",\n",
    "                \"19-11\",\n",
    "                \"19-12\",\n",
    "                \"19-13\",\n",
    "                \"19-14\",\n",
    "                \"19-15\",\n",
    "                \"19-19\",\n",
    "                \"19-2\",\n",
    "                \"19-20\",\n",
    "                \"19-3\",\n",
    "                \"19-4\",\n",
    "                \"19-6\",\n",
    "                \"19-7\",\n",
    "                \"19-8\",\n",
    "                \"19-9\",\n",
    "                \"2-1\",\n",
    "                \"2-13\",\n",
    "                \"2-15\",\n",
    "                \"2-3\",\n",
    "                \"2-4\",\n",
    "                \"2-5\",\n",
    "                \"2-6\",\n",
    "                \"2-7\",\n",
    "                \"2-8\",\n",
    "                \"20-1\",\n",
    "                \"20-12\",\n",
    "                \"20-14\",\n",
    "                \"20-15\",\n",
    "                \"20-16\",\n",
    "                \"20-18\",\n",
    "                \"20-19\",\n",
    "                \"20-20\",\n",
    "                \"20-3\",\n",
    "                \"20-4\",\n",
    "                \"20-5\",\n",
    "                \"20-7\",\n",
    "                \"20-8\",\n",
    "                \"3-1\",\n",
    "                \"3-13\",\n",
    "                \"3-18\",\n",
    "                \"3-2\",\n",
    "                \"3-8\",\n",
    "                \"4-1\",\n",
    "                \"4-10\",\n",
    "                \"4-11\",\n",
    "                \"5-1\",\n",
    "                \"5-5\",\n",
    "                \"6-1\",\n",
    "                \"6-15\",\n",
    "                \"6-6\",\n",
    "                \"7-10\",\n",
    "                \"7-11\",\n",
    "                \"7-12\",\n",
    "                \"7-13\",\n",
    "                \"7-14\",\n",
    "                \"7-7\",\n",
    "                \"7-8\",\n",
    "                \"7-9\",\n",
    "                \"8-1\",\n",
    "                \"8-13\",\n",
    "                \"8-14\",\n",
    "                \"8-18\",\n",
    "                \"8-20\",\n",
    "                \"8-3\",\n",
    "                \"8-8\",\n",
    "                \"9-1\",\n",
    "                \"9-7\",\n",
    "            ],\n",
    "            \"domains\": [1, 2, 3, 4],\n",
    "            \"num_examples_per_domain_per_label\": -1,\n",
    "            \"pickle_path\": \"/mnt/wd500GB/CSC500/csc500-main/datasets/wisig.node3-19.stratified_ds.2022A.pkl\",\n",
    "            \"source_or_target_dataset\": \"target\",\n",
    "            \"x_transforms\": [\"take_200\"],\n",
    "            \"episode_transforms\": [],\n",
    "            \"domain_prefix\": \"W_\",\n",
    "        },\n",
    "        {\n",
    "            \"labels\": [\n",
    "                \"3123D52\",\n",
    "                \"3123D65\",\n",
    "                \"3123D79\",\n",
    "                \"3123D80\",\n",
    "                \"3123D54\",\n",
    "                \"3123D70\",\n",
    "                \"3123D7B\",\n",
    "                \"3123D89\",\n",
    "                \"3123D58\",\n",
    "                \"3123D76\",\n",
    "                \"3123D7D\",\n",
    "                \"3123EFE\",\n",
    "                \"3123D64\",\n",
    "                \"3123D78\",\n",
    "                \"3123D7E\",\n",
    "                \"3124E4A\",\n",
    "            ],\n",
    "            \"domains\": [32, 38, 8, 44, 14, 50, 20, 26],\n",
    "            \"num_examples_per_domain_per_label\": 2000,\n",
    "            \"pickle_path\": \"/mnt/wd500GB/CSC500/csc500-main/datasets/oracle.Run1_framed_2000Examples_stratified_ds.2022A.pkl\",\n",
    "            \"source_or_target_dataset\": \"source\",\n",
    "            \"x_transforms\": [\"take_200\", \"resample_20Msps_to_25Msps\"],\n",
    "            \"episode_transforms\": [],\n",
    "            \"domain_prefix\": \"O_\",\n",
    "        },\n",
    "    ],\n",
    "    \"seed\": 7,\n",
    "    \"dataset_seed\": 7,\n",
    "}\n"
   ]
  },
  {
   "cell_type": "code",
   "execution_count": 5,
   "id": "8fa1cc33",
   "metadata": {
    "execution": {
     "iopub.execute_input": "2022-03-21T02:47:10.367908Z",
     "iopub.status.busy": "2022-03-21T02:47:10.367615Z",
     "iopub.status.idle": "2022-03-21T02:47:10.380661Z",
     "shell.execute_reply": "2022-03-21T02:47:10.380171Z"
    },
    "papermill": {
     "duration": 0.028883,
     "end_time": "2022-03-21T02:47:10.380773",
     "exception": false,
     "start_time": "2022-03-21T02:47:10.351890",
     "status": "completed"
    },
    "tags": []
   },
   "outputs": [],
   "source": [
    "# Set this to True if you want to run this template directly\n",
    "STANDALONE = False\n",
    "if STANDALONE:\n",
    "    print(\"parameters not injected, running with standalone_parameters\")\n",
    "    parameters = standalone_parameters\n",
    "\n",
    "if not 'parameters' in locals() and not 'parameters' in globals():\n",
    "    raise Exception(\"Parameter injection failed\")\n",
    "\n",
    "#Use an easy dict for all the parameters\n",
    "p = EasyDict(parameters)\n",
    "\n",
    "if \"x_shape\" not in p:\n",
    "    p.x_shape = [2,256] # Default to this if we dont supply x_shape\n",
    "\n",
    "\n",
    "supplied_keys = set(p.keys())\n",
    "\n",
    "if  supplied_keys != required_parameters:\n",
    "    print(\"Parameters are incorrect\")\n",
    "    if len(supplied_keys - required_parameters)>0: print(\"Shouldn't have:\", str(supplied_keys - required_parameters))\n",
    "    if len(required_parameters - supplied_keys)>0: print(\"Need to have:\", str(required_parameters - supplied_keys))\n",
    "    raise RuntimeError(\"Parameters are incorrect\")"
   ]
  },
  {
   "cell_type": "code",
   "execution_count": 6,
   "id": "3a028d58",
   "metadata": {
    "execution": {
     "iopub.execute_input": "2022-03-21T02:47:10.418920Z",
     "iopub.status.busy": "2022-03-21T02:47:10.416152Z",
     "iopub.status.idle": "2022-03-21T02:47:10.432799Z",
     "shell.execute_reply": "2022-03-21T02:47:10.432281Z"
    },
    "papermill": {
     "duration": 0.032413,
     "end_time": "2022-03-21T02:47:10.432901",
     "exception": false,
     "start_time": "2022-03-21T02:47:10.400488",
     "status": "completed"
    },
    "tags": []
   },
   "outputs": [],
   "source": [
    "###################################\n",
    "# Set the RNGs and make it all deterministic\n",
    "###################################\n",
    "np.random.seed(p.seed)\n",
    "random.seed(p.seed)\n",
    "torch.manual_seed(p.seed)\n",
    "\n",
    "torch.use_deterministic_algorithms(True) "
   ]
  },
  {
   "cell_type": "code",
   "execution_count": 7,
   "id": "b691acf6",
   "metadata": {
    "execution": {
     "iopub.execute_input": "2022-03-21T02:47:10.475323Z",
     "iopub.status.busy": "2022-03-21T02:47:10.475042Z",
     "iopub.status.idle": "2022-03-21T02:47:10.481640Z",
     "shell.execute_reply": "2022-03-21T02:47:10.481164Z"
    },
    "papermill": {
     "duration": 0.030362,
     "end_time": "2022-03-21T02:47:10.481734",
     "exception": false,
     "start_time": "2022-03-21T02:47:10.451372",
     "status": "completed"
    },
    "tags": []
   },
   "outputs": [],
   "source": [
    "###########################################\n",
    "# The stratified datasets honor this\n",
    "###########################################\n",
    "torch.set_default_dtype(eval(p.torch_default_dtype))"
   ]
  },
  {
   "cell_type": "code",
   "execution_count": 8,
   "id": "b5fba671",
   "metadata": {
    "execution": {
     "iopub.execute_input": "2022-03-21T02:47:10.515763Z",
     "iopub.status.busy": "2022-03-21T02:47:10.514856Z",
     "iopub.status.idle": "2022-03-21T02:47:10.551615Z",
     "shell.execute_reply": "2022-03-21T02:47:10.551188Z"
    },
    "papermill": {
     "duration": 0.051991,
     "end_time": "2022-03-21T02:47:10.551715",
     "exception": false,
     "start_time": "2022-03-21T02:47:10.499724",
     "status": "completed"
    },
    "tags": []
   },
   "outputs": [],
   "source": [
    "###################################\n",
    "# Build the network(s)\n",
    "# Note: It's critical to do this AFTER setting the RNG\n",
    "###################################\n",
    "x_net = build_sequential(p.x_net)"
   ]
  },
  {
   "cell_type": "code",
   "execution_count": 9,
   "id": "5d7e61cc",
   "metadata": {
    "execution": {
     "iopub.execute_input": "2022-03-21T02:47:10.585538Z",
     "iopub.status.busy": "2022-03-21T02:47:10.585286Z",
     "iopub.status.idle": "2022-03-21T02:47:10.600926Z",
     "shell.execute_reply": "2022-03-21T02:47:10.600470Z"
    },
    "papermill": {
     "duration": 0.031258,
     "end_time": "2022-03-21T02:47:10.601016",
     "exception": false,
     "start_time": "2022-03-21T02:47:10.569758",
     "status": "completed"
    },
    "tags": []
   },
   "outputs": [],
   "source": [
    "start_time_secs = time.time()"
   ]
  },
  {
   "cell_type": "code",
   "execution_count": 10,
   "id": "c6b67dfd",
   "metadata": {
    "execution": {
     "iopub.execute_input": "2022-03-21T02:47:10.634856Z",
     "iopub.status.busy": "2022-03-21T02:47:10.634486Z",
     "iopub.status.idle": "2022-03-21T02:47:10.648047Z",
     "shell.execute_reply": "2022-03-21T02:47:10.647740Z"
    },
    "papermill": {
     "duration": 0.029012,
     "end_time": "2022-03-21T02:47:10.648118",
     "exception": false,
     "start_time": "2022-03-21T02:47:10.619106",
     "status": "completed"
    },
    "tags": []
   },
   "outputs": [],
   "source": [
    "p.domains_source = []\n",
    "p.domains_target = []\n",
    "\n",
    "\n",
    "train_original_source = []\n",
    "val_original_source   = []\n",
    "test_original_source  = []\n",
    "\n",
    "train_original_target = []\n",
    "val_original_target   = []\n",
    "test_original_target  = []"
   ]
  },
  {
   "cell_type": "code",
   "execution_count": 11,
   "id": "e3d9c3d3",
   "metadata": {
    "execution": {
     "iopub.execute_input": "2022-03-21T02:47:10.686981Z",
     "iopub.status.busy": "2022-03-21T02:47:10.683769Z",
     "iopub.status.idle": "2022-03-21T02:47:10.696615Z",
     "shell.execute_reply": "2022-03-21T02:47:10.696125Z"
    },
    "papermill": {
     "duration": 0.03183,
     "end_time": "2022-03-21T02:47:10.696712",
     "exception": false,
     "start_time": "2022-03-21T02:47:10.664882",
     "status": "completed"
    },
    "tags": []
   },
   "outputs": [],
   "source": [
    "# global_x_transform_func = lambda x: normalize(x.to(torch.get_default_dtype()), \"unit_power\") # unit_power, unit_mag\n",
    "# global_x_transform_func = lambda x: normalize(x, \"unit_power\") # unit_power, unit_mag"
   ]
  },
  {
   "cell_type": "code",
   "execution_count": 12,
   "id": "acb78fd2",
   "metadata": {
    "execution": {
     "iopub.execute_input": "2022-03-21T02:47:10.735878Z",
     "iopub.status.busy": "2022-03-21T02:47:10.735066Z",
     "iopub.status.idle": "2022-03-21T02:47:10.748581Z",
     "shell.execute_reply": "2022-03-21T02:47:10.748130Z"
    },
    "papermill": {
     "duration": 0.032938,
     "end_time": "2022-03-21T02:47:10.748674",
     "exception": false,
     "start_time": "2022-03-21T02:47:10.715736",
     "status": "completed"
    },
    "tags": []
   },
   "outputs": [],
   "source": [
    "def add_dataset(\n",
    "    labels,\n",
    "    domains,\n",
    "    pickle_path,\n",
    "    x_transforms,\n",
    "    episode_transforms,\n",
    "    domain_prefix,\n",
    "    num_examples_per_domain_per_label,\n",
    "    source_or_target_dataset:str,\n",
    "    iterator_seed=p.seed,\n",
    "    dataset_seed=p.dataset_seed,\n",
    "    n_shot=p.n_shot,\n",
    "    n_way=p.n_way,\n",
    "    n_query=p.n_query,\n",
    "    train_val_test_k_factors=(p.train_k_factor,p.val_k_factor,p.test_k_factor),\n",
    "):\n",
    "   \n",
    "    if x_transforms == []: x_transform = None\n",
    "    else: x_transform = get_chained_transform(x_transforms)\n",
    "    \n",
    "    if episode_transforms == []: episode_transform = None\n",
    "    else: raise Exception(\"episode_transforms not implemented\")\n",
    "    \n",
    "    episode_transform = lambda tup, _prefix=domain_prefix: (_prefix + str(tup[0]), tup[1])\n",
    "\n",
    "\n",
    "    eaf = Episodic_Accessor_Factory(\n",
    "        labels=labels,\n",
    "        domains=domains,\n",
    "        num_examples_per_domain_per_label=num_examples_per_domain_per_label,\n",
    "        iterator_seed=iterator_seed,\n",
    "        dataset_seed=dataset_seed,\n",
    "        n_shot=n_shot,\n",
    "        n_way=n_way,\n",
    "        n_query=n_query,\n",
    "        train_val_test_k_factors=train_val_test_k_factors,\n",
    "        pickle_path=pickle_path,\n",
    "        x_transform_func=x_transform,\n",
    "    )\n",
    "\n",
    "    train, val, test = eaf.get_train(), eaf.get_val(), eaf.get_test()\n",
    "    train = Lazy_Iterable_Wrapper(train, episode_transform)\n",
    "    val = Lazy_Iterable_Wrapper(val, episode_transform)\n",
    "    test = Lazy_Iterable_Wrapper(test, episode_transform)\n",
    "\n",
    "    if source_or_target_dataset==\"source\":\n",
    "        train_original_source.append(train)\n",
    "        val_original_source.append(val)\n",
    "        test_original_source.append(test)\n",
    "\n",
    "        p.domains_source.extend(\n",
    "            [domain_prefix + str(u) for u in domains]\n",
    "        )\n",
    "    elif source_or_target_dataset==\"target\":\n",
    "        train_original_target.append(train)\n",
    "        val_original_target.append(val)\n",
    "        test_original_target.append(test)\n",
    "        p.domains_target.extend(\n",
    "            [domain_prefix + str(u) for u in domains]\n",
    "        )\n",
    "    else:\n",
    "        raise Exception(f\"invalid source_or_target_dataset: {source_or_target_dataset}\")\n",
    "    "
   ]
  },
  {
   "cell_type": "code",
   "execution_count": 13,
   "id": "fe266617",
   "metadata": {
    "execution": {
     "iopub.execute_input": "2022-03-21T02:47:10.783047Z",
     "iopub.status.busy": "2022-03-21T02:47:10.782341Z",
     "iopub.status.idle": "2022-03-21T02:47:29.307071Z",
     "shell.execute_reply": "2022-03-21T02:47:29.306664Z"
    },
    "papermill": {
     "duration": 18.541293,
     "end_time": "2022-03-21T02:47:29.307177",
     "exception": false,
     "start_time": "2022-03-21T02:47:10.765884",
     "status": "completed"
    },
    "tags": []
   },
   "outputs": [],
   "source": [
    "for ds in p.datasets:\n",
    "    add_dataset(**ds)"
   ]
  },
  {
   "cell_type": "code",
   "execution_count": 14,
   "id": "b90d65ac",
   "metadata": {
    "execution": {
     "iopub.execute_input": "2022-03-21T02:47:29.341520Z",
     "iopub.status.busy": "2022-03-21T02:47:29.341264Z",
     "iopub.status.idle": "2022-03-21T02:47:29.352969Z",
     "shell.execute_reply": "2022-03-21T02:47:29.352522Z"
    },
    "papermill": {
     "duration": 0.027218,
     "end_time": "2022-03-21T02:47:29.353059",
     "exception": false,
     "start_time": "2022-03-21T02:47:29.325841",
     "status": "completed"
    },
    "tags": []
   },
   "outputs": [],
   "source": [
    "# from steves_utils.CORES.utils import (\n",
    "#     ALL_NODES,\n",
    "#     ALL_NODES_MINIMUM_1000_EXAMPLES,\n",
    "#     ALL_DAYS\n",
    "# )\n",
    "\n",
    "# add_dataset(\n",
    "#     labels=ALL_NODES,\n",
    "#     domains = ALL_DAYS,\n",
    "#     num_examples_per_domain_per_label=100,\n",
    "#     pickle_path=os.path.join(get_datasets_base_path(), \"cores.stratified_ds.2022A.pkl\"),\n",
    "#     source_or_target_dataset=\"target\",\n",
    "#     x_transform_func=global_x_transform_func,\n",
    "#     domain_modifier=lambda u: f\"cores_{u}\"\n",
    "# )"
   ]
  },
  {
   "cell_type": "code",
   "execution_count": 15,
   "id": "76db484d",
   "metadata": {
    "execution": {
     "iopub.execute_input": "2022-03-21T02:47:29.386806Z",
     "iopub.status.busy": "2022-03-21T02:47:29.386101Z",
     "iopub.status.idle": "2022-03-21T02:47:29.401275Z",
     "shell.execute_reply": "2022-03-21T02:47:29.400823Z"
    },
    "papermill": {
     "duration": 0.031296,
     "end_time": "2022-03-21T02:47:29.401365",
     "exception": false,
     "start_time": "2022-03-21T02:47:29.370069",
     "status": "completed"
    },
    "tags": []
   },
   "outputs": [],
   "source": [
    "# from steves_utils.ORACLE.utils_v2 import (\n",
    "#     ALL_DISTANCES_FEET,\n",
    "#     ALL_RUNS,\n",
    "#     ALL_SERIAL_NUMBERS,\n",
    "# )\n",
    "\n",
    "\n",
    "# add_dataset(\n",
    "#     labels=ALL_SERIAL_NUMBERS,\n",
    "#     domains = list(set(ALL_DISTANCES_FEET) - {2,62}),\n",
    "#     num_examples_per_domain_per_label=100,\n",
    "#     pickle_path=os.path.join(get_datasets_base_path(), \"oracle.Run2_framed_2000Examples_stratified_ds.2022A.pkl\"),\n",
    "#     source_or_target_dataset=\"source\",\n",
    "#     x_transform_func=global_x_transform_func,\n",
    "#     domain_modifier=lambda u: f\"oracle1_{u}\"\n",
    "# )\n"
   ]
  },
  {
   "cell_type": "code",
   "execution_count": 16,
   "id": "97dea9d2",
   "metadata": {
    "execution": {
     "iopub.execute_input": "2022-03-21T02:47:29.442868Z",
     "iopub.status.busy": "2022-03-21T02:47:29.433688Z",
     "iopub.status.idle": "2022-03-21T02:47:29.448773Z",
     "shell.execute_reply": "2022-03-21T02:47:29.448379Z"
    },
    "papermill": {
     "duration": 0.030841,
     "end_time": "2022-03-21T02:47:29.448868",
     "exception": false,
     "start_time": "2022-03-21T02:47:29.418027",
     "status": "completed"
    },
    "tags": []
   },
   "outputs": [],
   "source": [
    "# from steves_utils.ORACLE.utils_v2 import (\n",
    "#     ALL_DISTANCES_FEET,\n",
    "#     ALL_RUNS,\n",
    "#     ALL_SERIAL_NUMBERS,\n",
    "# )\n",
    "\n",
    "\n",
    "# add_dataset(\n",
    "#     labels=ALL_SERIAL_NUMBERS,\n",
    "#     domains = list(set(ALL_DISTANCES_FEET) - {2,62,56}),\n",
    "#     num_examples_per_domain_per_label=100,\n",
    "#     pickle_path=os.path.join(get_datasets_base_path(), \"oracle.Run2_framed_2000Examples_stratified_ds.2022A.pkl\"),\n",
    "#     source_or_target_dataset=\"source\",\n",
    "#     x_transform_func=global_x_transform_func,\n",
    "#     domain_modifier=lambda u: f\"oracle2_{u}\"\n",
    "# )"
   ]
  },
  {
   "cell_type": "code",
   "execution_count": 17,
   "id": "6f289866",
   "metadata": {
    "execution": {
     "iopub.execute_input": "2022-03-21T02:47:29.484992Z",
     "iopub.status.busy": "2022-03-21T02:47:29.484742Z",
     "iopub.status.idle": "2022-03-21T02:47:29.498094Z",
     "shell.execute_reply": "2022-03-21T02:47:29.497519Z"
    },
    "papermill": {
     "duration": 0.030146,
     "end_time": "2022-03-21T02:47:29.498189",
     "exception": false,
     "start_time": "2022-03-21T02:47:29.468043",
     "status": "completed"
    },
    "tags": []
   },
   "outputs": [],
   "source": [
    "# add_dataset(\n",
    "#     labels=list(range(19)),\n",
    "#     domains = [0,1,2],\n",
    "#     num_examples_per_domain_per_label=100,\n",
    "#     pickle_path=os.path.join(get_datasets_base_path(), \"metehan.stratified_ds.2022A.pkl\"),\n",
    "#     source_or_target_dataset=\"target\",\n",
    "#     x_transform_func=global_x_transform_func,\n",
    "#     domain_modifier=lambda u: f\"met_{u}\"\n",
    "# )"
   ]
  },
  {
   "cell_type": "code",
   "execution_count": 18,
   "id": "86a863c3",
   "metadata": {
    "execution": {
     "iopub.execute_input": "2022-03-21T02:47:29.532343Z",
     "iopub.status.busy": "2022-03-21T02:47:29.532092Z",
     "iopub.status.idle": "2022-03-21T02:47:29.546708Z",
     "shell.execute_reply": "2022-03-21T02:47:29.546256Z"
    },
    "papermill": {
     "duration": 0.030194,
     "end_time": "2022-03-21T02:47:29.546797",
     "exception": false,
     "start_time": "2022-03-21T02:47:29.516603",
     "status": "completed"
    },
    "tags": []
   },
   "outputs": [],
   "source": [
    "# # from steves_utils.wisig.utils import (\n",
    "# #     ALL_NODES_MINIMUM_100_EXAMPLES,\n",
    "# #     ALL_NODES_MINIMUM_500_EXAMPLES,\n",
    "# #     ALL_NODES_MINIMUM_1000_EXAMPLES,\n",
    "# #     ALL_DAYS\n",
    "# # )\n",
    "\n",
    "# import steves_utils.wisig.utils as wisig\n",
    "\n",
    "\n",
    "# add_dataset(\n",
    "#     labels=wisig.ALL_NODES_MINIMUM_100_EXAMPLES,\n",
    "#     domains = wisig.ALL_DAYS,\n",
    "#     num_examples_per_domain_per_label=100,\n",
    "#     pickle_path=os.path.join(get_datasets_base_path(), \"wisig.node3-19.stratified_ds.2022A.pkl\"),\n",
    "#     source_or_target_dataset=\"target\",\n",
    "#     x_transform_func=global_x_transform_func,\n",
    "#     domain_modifier=lambda u: f\"wisig_{u}\"\n",
    "# )"
   ]
  },
  {
   "cell_type": "code",
   "execution_count": 19,
   "id": "fd5442bc",
   "metadata": {
    "execution": {
     "iopub.execute_input": "2022-03-21T02:47:29.583830Z",
     "iopub.status.busy": "2022-03-21T02:47:29.583571Z",
     "iopub.status.idle": "2022-03-21T02:47:29.597705Z",
     "shell.execute_reply": "2022-03-21T02:47:29.597252Z"
    },
    "papermill": {
     "duration": 0.032937,
     "end_time": "2022-03-21T02:47:29.597794",
     "exception": false,
     "start_time": "2022-03-21T02:47:29.564857",
     "status": "completed"
    },
    "tags": []
   },
   "outputs": [],
   "source": [
    "###################################\n",
    "# Build the dataset\n",
    "###################################\n",
    "train_original_source = Iterable_Aggregator(train_original_source, p.seed)\n",
    "val_original_source = Iterable_Aggregator(val_original_source, p.seed)\n",
    "test_original_source = Iterable_Aggregator(test_original_source, p.seed)\n",
    "\n",
    "\n",
    "train_original_target = Iterable_Aggregator(train_original_target, p.seed)\n",
    "val_original_target = Iterable_Aggregator(val_original_target, p.seed)\n",
    "test_original_target = Iterable_Aggregator(test_original_target, p.seed)\n",
    "\n",
    "# For CNN We only use X and Y. And we only train on the source.\n",
    "# Properly form the data using a transform lambda and Lazy_Iterable_Wrapper. Finally wrap them in a dataloader\n",
    "\n",
    "transform_lambda = lambda ex: ex[1] # Original is (<domain>, <episode>) so we strip down to episode only\n",
    "\n",
    "train_processed_source = Lazy_Iterable_Wrapper(train_original_source, transform_lambda)\n",
    "val_processed_source   = Lazy_Iterable_Wrapper(val_original_source, transform_lambda)\n",
    "test_processed_source  = Lazy_Iterable_Wrapper(test_original_source, transform_lambda)\n",
    "\n",
    "train_processed_target = Lazy_Iterable_Wrapper(train_original_target, transform_lambda)\n",
    "val_processed_target   = Lazy_Iterable_Wrapper(val_original_target, transform_lambda)\n",
    "test_processed_target  = Lazy_Iterable_Wrapper(test_original_target, transform_lambda)\n",
    "\n",
    "datasets = EasyDict({\n",
    "    \"source\": {\n",
    "        \"original\": {\"train\":train_original_source, \"val\":val_original_source, \"test\":test_original_source},\n",
    "        \"processed\": {\"train\":train_processed_source, \"val\":val_processed_source, \"test\":test_processed_source}\n",
    "    },\n",
    "    \"target\": {\n",
    "        \"original\": {\"train\":train_original_target, \"val\":val_original_target, \"test\":test_original_target},\n",
    "        \"processed\": {\"train\":train_processed_target, \"val\":val_processed_target, \"test\":test_processed_target}\n",
    "    },\n",
    "})"
   ]
  },
  {
   "cell_type": "code",
   "execution_count": 20,
   "id": "5b3c01fc",
   "metadata": {
    "execution": {
     "iopub.execute_input": "2022-03-21T02:47:29.633262Z",
     "iopub.status.busy": "2022-03-21T02:47:29.633005Z",
     "iopub.status.idle": "2022-03-21T02:47:38.541058Z",
     "shell.execute_reply": "2022-03-21T02:47:38.541508Z"
    },
    "papermill": {
     "duration": 8.92467,
     "end_time": "2022-03-21T02:47:38.541654",
     "exception": false,
     "start_time": "2022-03-21T02:47:29.616984",
     "status": "completed"
    },
    "tags": []
   },
   "outputs": [
    {
     "name": "stdout",
     "output_type": "stream",
     "text": [
      "{'O_26', 'O_20', 'O_32', 'O_38', 'O_14', 'O_50', 'O_8', 'O_44'}\n"
     ]
    },
    {
     "name": "stdout",
     "output_type": "stream",
     "text": [
      "{'W_2', 'W_4', 'C_3', 'W_1', 'C_4', 'W_3', 'C_5', 'C_1', 'C_2'}\n"
     ]
    },
    {
     "name": "stdout",
     "output_type": "stream",
     "text": [
      "tensor([[[ 3.1434e-03,  3.7554e-03, -1.8905e-03,  ...,  2.2772e-03,\n",
      "           2.3300e-03,  4.2678e-03],\n",
      "         [-1.9837e-03,  4.6420e-04,  3.4934e-03,  ...,  3.3349e-03,\n",
      "           2.6754e-03, -1.3018e-03]],\n",
      "\n",
      "        [[ 1.5564e-03,  4.2065e-03,  1.5516e-04,  ...,  1.9070e-03,\n",
      "          -1.6537e-03,  2.0926e-03],\n",
      "         [-1.3123e-03,  1.8021e-03,  2.1467e-03,  ...,  1.4137e-03,\n",
      "           4.0193e-03,  2.1977e-03]],\n",
      "\n",
      "        [[-1.2207e-03, -2.8396e-03,  7.4901e-04,  ..., -1.8585e-03,\n",
      "           3.4975e-03,  1.2451e-04],\n",
      "         [ 9.1556e-04, -2.8302e-03, -2.4988e-03,  ..., -1.6700e-03,\n",
      "          -3.3653e-03, -2.7786e-03]],\n",
      "\n",
      "        ...,\n",
      "\n",
      "        [[-1.5564e-03, -4.1560e-03, -3.7407e-04,  ..., -3.3586e-03,\n",
      "          -3.3234e-03, -4.0958e-03],\n",
      "         [ 3.6927e-03,  1.8084e-03, -3.5948e-03,  ..., -1.8767e-03,\n",
      "          -1.9392e-03,  2.1053e-03]],\n",
      "\n",
      "        [[ 1.8921e-03,  7.7376e-04, -2.2046e-03,  ..., -1.7055e-04,\n",
      "          -4.4538e-03, -1.0563e-03],\n",
      "         [-1.7347e-18,  4.1088e-03,  1.2757e-03,  ...,  2.6277e-03,\n",
      "           6.4771e-04,  2.8180e-03]],\n",
      "\n",
      "        [[ 3.5707e-03,  3.4724e-03, -2.6740e-03,  ...,  1.6250e-03,\n",
      "           2.3603e-03,  5.3100e-03],\n",
      "         [-2.0142e-03,  8.2626e-04,  3.4413e-03,  ...,  3.5086e-03,\n",
      "           2.5881e-03, -9.8195e-04]]])\n"
     ]
    }
   ],
   "source": [
    "from steves_utils.transforms import get_average_magnitude, get_average_power\n",
    "\n",
    "print(set([u for u,_ in val_original_source]))\n",
    "print(set([u for u,_ in val_original_target]))\n",
    "\n",
    "s_x, s_y, q_x, q_y, _ = next(iter(train_processed_source))\n",
    "print(s_x)\n",
    "\n",
    "# for ds in [\n",
    "#     train_processed_source,\n",
    "#     val_processed_source,\n",
    "#     test_processed_source,\n",
    "#     train_processed_target,\n",
    "#     val_processed_target,\n",
    "#     test_processed_target\n",
    "# ]:\n",
    "#     for s_x, s_y, q_x, q_y, _ in ds:\n",
    "#         for X in (s_x, q_x):\n",
    "#             for x in X:\n",
    "#                 assert np.isclose(get_average_magnitude(x.numpy()), 1.0)\n",
    "#                 assert np.isclose(get_average_power(x.numpy()), 1.0)\n",
    "                "
   ]
  },
  {
   "cell_type": "code",
   "execution_count": 21,
   "id": "bbdacba1",
   "metadata": {
    "execution": {
     "iopub.execute_input": "2022-03-21T02:47:38.580673Z",
     "iopub.status.busy": "2022-03-21T02:47:38.579956Z",
     "iopub.status.idle": "2022-03-21T02:47:38.632768Z",
     "shell.execute_reply": "2022-03-21T02:47:38.632298Z"
    },
    "papermill": {
     "duration": 0.07152,
     "end_time": "2022-03-21T02:47:38.632867",
     "exception": false,
     "start_time": "2022-03-21T02:47:38.561347",
     "status": "completed"
    },
    "tags": []
   },
   "outputs": [
    {
     "name": "stdout",
     "output_type": "stream",
     "text": [
      "(2, 200)\n"
     ]
    }
   ],
   "source": [
    "###################################\n",
    "# Build the model\n",
    "###################################\n",
    "# easfsl only wants a tuple for the shape\n",
    "model = Steves_Prototypical_Network(x_net, device=p.device, x_shape=tuple(p.x_shape))\n",
    "optimizer = Adam(params=model.parameters(), lr=p.lr)"
   ]
  },
  {
   "cell_type": "code",
   "execution_count": 22,
   "id": "22b39ac5",
   "metadata": {
    "execution": {
     "iopub.execute_input": "2022-03-21T02:47:38.672086Z",
     "iopub.status.busy": "2022-03-21T02:47:38.670592Z",
     "iopub.status.idle": "2022-03-21T03:01:42.923549Z",
     "shell.execute_reply": "2022-03-21T03:01:42.923316Z"
    },
    "papermill": {
     "duration": 844.272282,
     "end_time": "2022-03-21T03:01:42.923609",
     "exception": false,
     "start_time": "2022-03-21T02:47:38.651327",
     "status": "completed"
    },
    "tags": []
   },
   "outputs": [
    {
     "name": "stdout",
     "output_type": "stream",
     "text": [
      "epoch: 1, [batch: 1 / 6720], examples_per_second: 39.1970, train_label_loss: 2.9154, \n"
     ]
    },
    {
     "name": "stdout",
     "output_type": "stream",
     "text": [
      "epoch: 1, [batch: 672 / 6720], examples_per_second: 3708.7972, train_label_loss: 0.9148, \n"
     ]
    },
    {
     "name": "stdout",
     "output_type": "stream",
     "text": [
      "epoch: 1, [batch: 1344 / 6720], examples_per_second: 3699.7975, train_label_loss: 0.6208, \n"
     ]
    },
    {
     "name": "stdout",
     "output_type": "stream",
     "text": [
      "epoch: 1, [batch: 2016 / 6720], examples_per_second: 3714.4300, train_label_loss: 0.7531, \n"
     ]
    },
    {
     "name": "stdout",
     "output_type": "stream",
     "text": [
      "epoch: 1, [batch: 2688 / 6720], examples_per_second: 3716.5607, train_label_loss: 0.3876, \n"
     ]
    },
    {
     "name": "stdout",
     "output_type": "stream",
     "text": [
      "epoch: 1, [batch: 3360 / 6720], examples_per_second: 3711.7399, train_label_loss: 0.2382, \n"
     ]
    },
    {
     "name": "stdout",
     "output_type": "stream",
     "text": [
      "epoch: 1, [batch: 4032 / 6720], examples_per_second: 3704.9078, train_label_loss: 0.4917, \n"
     ]
    },
    {
     "name": "stdout",
     "output_type": "stream",
     "text": [
      "epoch: 1, [batch: 4704 / 6720], examples_per_second: 3687.7937, train_label_loss: 0.8122, \n"
     ]
    },
    {
     "name": "stdout",
     "output_type": "stream",
     "text": [
      "epoch: 1, [batch: 5376 / 6720], examples_per_second: 3720.9207, train_label_loss: 0.4571, \n"
     ]
    },
    {
     "name": "stdout",
     "output_type": "stream",
     "text": [
      "epoch: 1, [batch: 6048 / 6720], examples_per_second: 3726.4600, train_label_loss: 0.2539, \n"
     ]
    },
    {
     "name": "stdout",
     "output_type": "stream",
     "text": [
      "=============================================================\n",
      "epoch: 1, source_val_acc_label: 0.5612, target_val_acc_label: 0.5107, source_val_label_loss: 262.0059, target_val_label_loss: 18488.4004, \n",
      "=============================================================\n"
     ]
    },
    {
     "name": "stdout",
     "output_type": "stream",
     "text": [
      "New best\n"
     ]
    },
    {
     "name": "stdout",
     "output_type": "stream",
     "text": [
      "epoch: 2, [batch: 1 / 6720], examples_per_second: 4.3537, train_label_loss: 289.8499, \n"
     ]
    },
    {
     "name": "stdout",
     "output_type": "stream",
     "text": [
      "epoch: 2, [batch: 672 / 6720], examples_per_second: 3688.0190, train_label_loss: 0.7771, \n"
     ]
    },
    {
     "name": "stdout",
     "output_type": "stream",
     "text": [
      "epoch: 2, [batch: 1344 / 6720], examples_per_second: 3698.8940, train_label_loss: 0.1721, \n"
     ]
    },
    {
     "name": "stdout",
     "output_type": "stream",
     "text": [
      "epoch: 2, [batch: 2016 / 6720], examples_per_second: 3702.0730, train_label_loss: 0.2585, \n"
     ]
    },
    {
     "name": "stdout",
     "output_type": "stream",
     "text": [
      "epoch: 2, [batch: 2688 / 6720], examples_per_second: 3664.4094, train_label_loss: 0.3331, \n"
     ]
    },
    {
     "name": "stdout",
     "output_type": "stream",
     "text": [
      "epoch: 2, [batch: 3360 / 6720], examples_per_second: 3690.6901, train_label_loss: 0.2284, \n"
     ]
    },
    {
     "name": "stdout",
     "output_type": "stream",
     "text": [
      "epoch: 2, [batch: 4032 / 6720], examples_per_second: 3665.8129, train_label_loss: 0.3315, \n"
     ]
    },
    {
     "name": "stdout",
     "output_type": "stream",
     "text": [
      "epoch: 2, [batch: 4704 / 6720], examples_per_second: 3546.9264, train_label_loss: 0.3714, \n"
     ]
    },
    {
     "name": "stdout",
     "output_type": "stream",
     "text": [
      "epoch: 2, [batch: 5376 / 6720], examples_per_second: 3598.6995, train_label_loss: 0.2655, \n"
     ]
    },
    {
     "name": "stdout",
     "output_type": "stream",
     "text": [
      "epoch: 2, [batch: 6048 / 6720], examples_per_second: 3607.4231, train_label_loss: 0.3031, \n"
     ]
    },
    {
     "name": "stdout",
     "output_type": "stream",
     "text": [
      "=============================================================\n",
      "epoch: 2, source_val_acc_label: 0.8727, target_val_acc_label: 0.3249, source_val_label_loss: 0.3692, target_val_label_loss: 6144.6636, \n",
      "=============================================================\n"
     ]
    },
    {
     "name": "stdout",
     "output_type": "stream",
     "text": [
      "epoch: 3, [batch: 1 / 6720], examples_per_second: 4.2301, train_label_loss: 0.1962, \n"
     ]
    },
    {
     "name": "stdout",
     "output_type": "stream",
     "text": [
      "epoch: 3, [batch: 672 / 6720], examples_per_second: 3631.5670, train_label_loss: 0.3507, \n"
     ]
    },
    {
     "name": "stdout",
     "output_type": "stream",
     "text": [
      "epoch: 3, [batch: 1344 / 6720], examples_per_second: 3651.9095, train_label_loss: 0.2874, \n"
     ]
    },
    {
     "name": "stdout",
     "output_type": "stream",
     "text": [
      "epoch: 3, [batch: 2016 / 6720], examples_per_second: 3705.8144, train_label_loss: 0.3546, \n"
     ]
    },
    {
     "name": "stdout",
     "output_type": "stream",
     "text": [
      "epoch: 3, [batch: 2688 / 6720], examples_per_second: 3644.5497, train_label_loss: 0.3980, \n"
     ]
    },
    {
     "name": "stdout",
     "output_type": "stream",
     "text": [
      "epoch: 3, [batch: 3360 / 6720], examples_per_second: 3693.7930, train_label_loss: 0.3823, \n"
     ]
    },
    {
     "name": "stdout",
     "output_type": "stream",
     "text": [
      "epoch: 3, [batch: 4032 / 6720], examples_per_second: 3707.8522, train_label_loss: 0.2938, \n"
     ]
    },
    {
     "name": "stdout",
     "output_type": "stream",
     "text": [
      "epoch: 3, [batch: 4704 / 6720], examples_per_second: 3653.5166, train_label_loss: 0.2063, \n"
     ]
    },
    {
     "name": "stdout",
     "output_type": "stream",
     "text": [
      "epoch: 3, [batch: 5376 / 6720], examples_per_second: 3594.3150, train_label_loss: 0.5472, \n"
     ]
    },
    {
     "name": "stdout",
     "output_type": "stream",
     "text": [
      "epoch: 3, [batch: 6048 / 6720], examples_per_second: 3599.5671, train_label_loss: 0.2352, \n"
     ]
    },
    {
     "name": "stdout",
     "output_type": "stream",
     "text": [
      "=============================================================\n",
      "epoch: 3, source_val_acc_label: 0.8924, target_val_acc_label: 0.5044, source_val_label_loss: 0.3317, target_val_label_loss: 3177.8391, \n",
      "=============================================================\n"
     ]
    },
    {
     "name": "stdout",
     "output_type": "stream",
     "text": [
      "epoch: 4, [batch: 1 / 6720], examples_per_second: 4.3628, train_label_loss: 0.4930, \n"
     ]
    },
    {
     "name": "stdout",
     "output_type": "stream",
     "text": [
      "epoch: 4, [batch: 672 / 6720], examples_per_second: 3712.0063, train_label_loss: 0.2789, \n"
     ]
    },
    {
     "name": "stdout",
     "output_type": "stream",
     "text": [
      "epoch: 4, [batch: 1344 / 6720], examples_per_second: 3717.1205, train_label_loss: 0.4345, \n"
     ]
    },
    {
     "name": "stdout",
     "output_type": "stream",
     "text": [
      "epoch: 4, [batch: 2016 / 6720], examples_per_second: 3723.5234, train_label_loss: 0.2237, \n"
     ]
    },
    {
     "name": "stdout",
     "output_type": "stream",
     "text": [
      "epoch: 4, [batch: 2688 / 6720], examples_per_second: 3724.7729, train_label_loss: 0.3801, \n"
     ]
    },
    {
     "name": "stdout",
     "output_type": "stream",
     "text": [
      "epoch: 4, [batch: 3360 / 6720], examples_per_second: 3734.1665, train_label_loss: 0.6442, \n"
     ]
    },
    {
     "name": "stdout",
     "output_type": "stream",
     "text": [
      "epoch: 4, [batch: 4032 / 6720], examples_per_second: 3701.3453, train_label_loss: 0.1039, \n"
     ]
    },
    {
     "name": "stdout",
     "output_type": "stream",
     "text": [
      "epoch: 4, [batch: 4704 / 6720], examples_per_second: 3728.3197, train_label_loss: 0.3121, \n"
     ]
    },
    {
     "name": "stdout",
     "output_type": "stream",
     "text": [
      "epoch: 4, [batch: 5376 / 6720], examples_per_second: 3712.4861, train_label_loss: 0.1979, \n"
     ]
    },
    {
     "name": "stdout",
     "output_type": "stream",
     "text": [
      "epoch: 4, [batch: 6048 / 6720], examples_per_second: 3746.1976, train_label_loss: 0.1968, \n"
     ]
    },
    {
     "name": "stdout",
     "output_type": "stream",
     "text": [
      "=============================================================\n",
      "epoch: 4, source_val_acc_label: 0.8800, target_val_acc_label: 0.4702, source_val_label_loss: 0.3353, target_val_label_loss: 3589.3801, \n",
      "=============================================================\n"
     ]
    },
    {
     "name": "stdout",
     "output_type": "stream",
     "text": [
      "epoch: 5, [batch: 1 / 6720], examples_per_second: 4.3966, train_label_loss: 0.3557, \n"
     ]
    },
    {
     "name": "stdout",
     "output_type": "stream",
     "text": [
      "epoch: 5, [batch: 672 / 6720], examples_per_second: 3473.7921, train_label_loss: 0.3286, \n"
     ]
    },
    {
     "name": "stdout",
     "output_type": "stream",
     "text": [
      "epoch: 5, [batch: 1344 / 6720], examples_per_second: 3451.5232, train_label_loss: 0.2608, \n"
     ]
    },
    {
     "name": "stdout",
     "output_type": "stream",
     "text": [
      "epoch: 5, [batch: 2016 / 6720], examples_per_second: 3631.8838, train_label_loss: 0.3178, \n"
     ]
    },
    {
     "name": "stdout",
     "output_type": "stream",
     "text": [
      "epoch: 5, [batch: 2688 / 6720], examples_per_second: 3621.5010, train_label_loss: 0.1155, \n"
     ]
    },
    {
     "name": "stdout",
     "output_type": "stream",
     "text": [
      "epoch: 5, [batch: 3360 / 6720], examples_per_second: 3529.3406, train_label_loss: 0.1862, \n"
     ]
    },
    {
     "name": "stdout",
     "output_type": "stream",
     "text": [
      "epoch: 5, [batch: 4032 / 6720], examples_per_second: 3553.5385, train_label_loss: 0.2303, \n"
     ]
    },
    {
     "name": "stdout",
     "output_type": "stream",
     "text": [
      "epoch: 5, [batch: 4704 / 6720], examples_per_second: 3718.6517, train_label_loss: 0.2633, \n"
     ]
    },
    {
     "name": "stdout",
     "output_type": "stream",
     "text": [
      "epoch: 5, [batch: 5376 / 6720], examples_per_second: 3730.8264, train_label_loss: 0.1353, \n"
     ]
    },
    {
     "name": "stdout",
     "output_type": "stream",
     "text": [
      "epoch: 5, [batch: 6048 / 6720], examples_per_second: 3749.2107, train_label_loss: 0.1394, \n"
     ]
    },
    {
     "name": "stdout",
     "output_type": "stream",
     "text": [
      "=============================================================\n",
      "epoch: 5, source_val_acc_label: 0.9025, target_val_acc_label: 0.4748, source_val_label_loss: 0.2771, target_val_label_loss: 3687.5315, \n",
      "=============================================================\n"
     ]
    },
    {
     "name": "stdout",
     "output_type": "stream",
     "text": [
      "Patience (3) exhausted\n"
     ]
    }
   ],
   "source": [
    "###################################\n",
    "# train\n",
    "###################################\n",
    "jig = PTN_Train_Eval_Test_Jig(model, p.BEST_MODEL_PATH, p.device)\n",
    "\n",
    "jig.train(\n",
    "    train_iterable=datasets.source.processed.train,\n",
    "    source_val_iterable=datasets.source.processed.val,\n",
    "    target_val_iterable=datasets.target.processed.val,\n",
    "    num_epochs=p.n_epoch,\n",
    "    num_logs_per_epoch=p.NUM_LOGS_PER_EPOCH,\n",
    "    patience=p.patience,\n",
    "    optimizer=optimizer,\n",
    "    criteria_for_best=p.criteria_for_best,\n",
    ")"
   ]
  },
  {
   "cell_type": "code",
   "execution_count": 23,
   "id": "31e8fabf",
   "metadata": {
    "execution": {
     "iopub.execute_input": "2022-03-21T03:01:42.976594Z",
     "iopub.status.busy": "2022-03-21T03:01:42.976254Z",
     "iopub.status.idle": "2022-03-21T03:01:42.994634Z",
     "shell.execute_reply": "2022-03-21T03:01:42.994190Z"
    },
    "papermill": {
     "duration": 0.046296,
     "end_time": "2022-03-21T03:01:42.994724",
     "exception": false,
     "start_time": "2022-03-21T03:01:42.948428",
     "status": "completed"
    },
    "tags": []
   },
   "outputs": [],
   "source": [
    "total_experiment_time_secs = time.time() - start_time_secs"
   ]
  },
  {
   "cell_type": "code",
   "execution_count": 24,
   "id": "87b9595b",
   "metadata": {
    "execution": {
     "iopub.execute_input": "2022-03-21T03:01:43.056158Z",
     "iopub.status.busy": "2022-03-21T03:01:43.055746Z",
     "iopub.status.idle": "2022-03-21T03:04:04.974942Z",
     "shell.execute_reply": "2022-03-21T03:04:04.975360Z"
    },
    "papermill": {
     "duration": 141.950069,
     "end_time": "2022-03-21T03:04:04.975492",
     "exception": false,
     "start_time": "2022-03-21T03:01:43.025423",
     "status": "completed"
    },
    "tags": []
   },
   "outputs": [],
   "source": [
    "###################################\n",
    "# Evaluate the model\n",
    "###################################\n",
    "source_test_label_accuracy, source_test_label_loss = jig.test(datasets.source.processed.test)\n",
    "target_test_label_accuracy, target_test_label_loss = jig.test(datasets.target.processed.test)\n",
    "\n",
    "source_val_label_accuracy, source_val_label_loss = jig.test(datasets.source.processed.val)\n",
    "target_val_label_accuracy, target_val_label_loss = jig.test(datasets.target.processed.val)\n",
    "\n",
    "history = jig.get_history()\n",
    "\n",
    "total_epochs_trained = len(history[\"epoch_indices\"])\n",
    "\n",
    "val_dl = Iterable_Aggregator((datasets.source.original.val,datasets.target.original.val))\n",
    "\n",
    "confusion = ptn_confusion_by_domain_over_dataloader(model, p.device, val_dl)\n",
    "per_domain_accuracy = per_domain_accuracy_from_confusion(confusion)\n",
    "\n",
    "# Add a key to per_domain_accuracy for if it was a source domain\n",
    "for domain, accuracy in per_domain_accuracy.items():\n",
    "    per_domain_accuracy[domain] = {\n",
    "        \"accuracy\": accuracy,\n",
    "        \"source?\": domain in p.domains_source\n",
    "    }\n",
    "\n",
    "# Do an independent accuracy assesment JUST TO BE SURE!\n",
    "# _source_test_label_accuracy = independent_accuracy_assesment(model, datasets.source.processed.test, p.device)\n",
    "# _target_test_label_accuracy = independent_accuracy_assesment(model, datasets.target.processed.test, p.device)\n",
    "# _source_val_label_accuracy = independent_accuracy_assesment(model, datasets.source.processed.val, p.device)\n",
    "# _target_val_label_accuracy = independent_accuracy_assesment(model, datasets.target.processed.val, p.device)\n",
    "\n",
    "# assert(_source_test_label_accuracy == source_test_label_accuracy)\n",
    "# assert(_target_test_label_accuracy == target_test_label_accuracy)\n",
    "# assert(_source_val_label_accuracy == source_val_label_accuracy)\n",
    "# assert(_target_val_label_accuracy == target_val_label_accuracy)\n",
    "\n",
    "experiment = {\n",
    "    \"experiment_name\": p.experiment_name,\n",
    "    \"parameters\": dict(p),\n",
    "    \"results\": {\n",
    "        \"source_test_label_accuracy\": source_test_label_accuracy,\n",
    "        \"source_test_label_loss\": source_test_label_loss,\n",
    "        \"target_test_label_accuracy\": target_test_label_accuracy,\n",
    "        \"target_test_label_loss\": target_test_label_loss,\n",
    "        \"source_val_label_accuracy\": source_val_label_accuracy,\n",
    "        \"source_val_label_loss\": source_val_label_loss,\n",
    "        \"target_val_label_accuracy\": target_val_label_accuracy,\n",
    "        \"target_val_label_loss\": target_val_label_loss,\n",
    "        \"total_epochs_trained\": total_epochs_trained,\n",
    "        \"total_experiment_time_secs\": total_experiment_time_secs,\n",
    "        \"confusion\": confusion,\n",
    "        \"per_domain_accuracy\": per_domain_accuracy,\n",
    "    },\n",
    "    \"history\": history,\n",
    "    \"dataset_metrics\": get_dataset_metrics(datasets, \"ptn\"),\n",
    "}"
   ]
  },
  {
   "cell_type": "code",
   "execution_count": 25,
   "id": "54a21829",
   "metadata": {
    "execution": {
     "iopub.execute_input": "2022-03-21T03:04:05.031415Z",
     "iopub.status.busy": "2022-03-21T03:04:05.031115Z",
     "iopub.status.idle": "2022-03-21T03:04:05.151259Z",
     "shell.execute_reply": "2022-03-21T03:04:05.151665Z"
    },
    "papermill": {
     "duration": 0.147451,
     "end_time": "2022-03-21T03:04:05.151787",
     "exception": false,
     "start_time": "2022-03-21T03:04:05.004336",
     "status": "completed"
    },
    "tags": []
   },
   "outputs": [
    {
     "data": {
      "image/png": "[encoded data removed]",
      "text/plain": [
       "<Figure size 1080x504 with 1 Axes>"
      ]
     },
     "metadata": {
      "needs_background": "light"
     },
     "output_type": "display_data"
    }
   ],
   "source": [
    "ax = get_loss_curve(experiment)\n",
    "plt.show()"
   ]
  },
  {
   "cell_type": "code",
   "execution_count": 26,
   "id": "fd8a0f60",
   "metadata": {
    "execution": {
     "iopub.execute_input": "2022-03-21T03:04:05.208477Z",
     "iopub.status.busy": "2022-03-21T03:04:05.208225Z",
     "iopub.status.idle": "2022-03-21T03:04:05.349301Z",
     "shell.execute_reply": "2022-03-21T03:04:05.349719Z"
    },
    "papermill": {
     "duration": 0.168539,
     "end_time": "2022-03-21T03:04:05.349844",
     "exception": false,
     "start_time": "2022-03-21T03:04:05.181305",
     "status": "completed"
    },
    "tags": []
   },
   "outputs": [
    {
     "data": {
      "text/plain": [
       "<AxesSubplot:title={'center':'Results'}>"
      ]
     },
     "execution_count": 26,
     "metadata": {},
     "output_type": "execute_result"
    },
    {
     "data": {
      "image/png": "[encoded data removed]",
      "text/plain": [
       "<Figure size 1080x504 with 1 Axes>"
      ]
     },
     "metadata": {
      "needs_background": "light"
     },
     "output_type": "display_data"
    }
   ],
   "source": [
    "get_results_table(experiment)"
   ]
  },
  {
   "cell_type": "code",
   "execution_count": 27,
   "id": "cf8dc689",
   "metadata": {
    "execution": {
     "iopub.execute_input": "2022-03-21T03:04:05.419474Z",
     "iopub.status.busy": "2022-03-21T03:04:05.419037Z",
     "iopub.status.idle": "2022-03-21T03:04:05.571206Z",
     "shell.execute_reply": "2022-03-21T03:04:05.571597Z"
    },
    "papermill": {
     "duration": 0.18664,
     "end_time": "2022-03-21T03:04:05.571722",
     "exception": false,
     "start_time": "2022-03-21T03:04:05.385082",
     "status": "completed"
    },
    "tags": []
   },
   "outputs": [
    {
     "data": {
      "text/plain": [
       "<AxesSubplot:title={'center':'Per Domain Validation Accuracy'}, xlabel='domain'>"
      ]
     },
     "execution_count": 27,
     "metadata": {},
     "output_type": "execute_result"
    },
    {
     "data": {
      "image/png": "[encoded data removed]",
      "text/plain": [
       "<Figure size 1080x504 with 1 Axes>"
      ]
     },
     "metadata": {
      "needs_background": "light"
     },
     "output_type": "display_data"
    }
   ],
   "source": [
    "get_domain_accuracies(experiment)"
   ]
  },
  {
   "cell_type": "code",
   "execution_count": 28,
   "id": "a74ae082",
   "metadata": {
    "execution": {
     "iopub.execute_input": "2022-03-21T03:04:05.634079Z",
     "iopub.status.busy": "2022-03-21T03:04:05.633720Z",
     "iopub.status.idle": "2022-03-21T03:04:05.649059Z",
     "shell.execute_reply": "2022-03-21T03:04:05.649433Z"
    },
    "papermill": {
     "duration": 0.045749,
     "end_time": "2022-03-21T03:04:05.649544",
     "exception": false,
     "start_time": "2022-03-21T03:04:05.603795",
     "status": "completed"
    },
    "tags": []
   },
   "outputs": [
    {
     "name": "stdout",
     "output_type": "stream",
     "text": [
      "Source Test Label Accuracy: 0.5591796875 Target Test Label Accuracy: 0.516332928802589\n",
      "Source Val Label Accuracy: 0.5611653645833333 Target Val Label Accuracy: 0.51073682766191\n"
     ]
    }
   ],
   "source": [
    "print(\"Source Test Label Accuracy:\", experiment[\"results\"][\"source_test_label_accuracy\"], \"Target Test Label Accuracy:\", experiment[\"results\"][\"target_test_label_accuracy\"])\n",
    "print(\"Source Val Label Accuracy:\", experiment[\"results\"][\"source_val_label_accuracy\"], \"Target Val Label Accuracy:\", experiment[\"results\"][\"target_val_label_accuracy\"])"
   ]
  },
  {
   "cell_type": "code",
   "execution_count": 29,
   "id": "dacca602",
   "metadata": {
    "execution": {
     "iopub.execute_input": "2022-03-21T03:04:05.712672Z",
     "iopub.status.busy": "2022-03-21T03:04:05.712414Z",
     "iopub.status.idle": "2022-03-21T03:04:05.734354Z",
     "shell.execute_reply": "2022-03-21T03:04:05.734653Z"
    },
    "papermill": {
     "duration": 0.052195,
     "end_time": "2022-03-21T03:04:05.734743",
     "exception": false,
     "start_time": "2022-03-21T03:04:05.682548",
     "status": "completed"
    },
    "tags": [
     "experiment_json"
    ]
   },
   "outputs": [
    {
     "data": {
      "text/plain": [
       "'{\"experiment_name\": \"tl_3Av2:oracle.run1.framed -> cores+wisig\", \"parameters\": {\"experiment_name\": \"tl_3Av2:oracle.run1.framed -> cores+wisig\", \"device\": \"cuda\", \"lr\": 0.0001, \"x_shape\": [2, 200], \"n_shot\": 3, \"n_query\": 2, \"train_k_factor\": 3, \"val_k_factor\": 2, \"test_k_factor\": 2, \"torch_default_dtype\": \"torch.float32\", \"n_epoch\": 50, \"patience\": 3, \"criteria_for_best\": \"target_accuracy\", \"x_net\": [{\"class\": \"nnReshape\", \"kargs\": {\"shape\": [-1, 1, 2, 200]}}, {\"class\": \"Conv2d\", \"kargs\": {\"in_channels\": 1, \"out_channels\": 256, \"kernel_size\": [1, 7], \"bias\": false, \"padding\": [0, 3]}}, {\"class\": \"ReLU\", \"kargs\": {\"inplace\": true}}, {\"class\": \"BatchNorm2d\", \"kargs\": {\"num_features\": 256}}, {\"class\": \"Conv2d\", \"kargs\": {\"in_channels\": 256, \"out_channels\": 80, \"kernel_size\": [2, 7], \"bias\": true, \"padding\": [0, 3]}}, {\"class\": \"ReLU\", \"kargs\": {\"inplace\": true}}, {\"class\": \"BatchNorm2d\", \"kargs\": {\"num_features\": 80}}, {\"class\": \"Flatten\", \"kargs\": {}}, {\"class\": \"Linear\", \"kargs\": {\"in_features\": 16000, \"out_features\": 256}}, {\"class\": \"ReLU\", \"kargs\": {\"inplace\": true}}, {\"class\": \"BatchNorm1d\", \"kargs\": {\"num_features\": 256}}, {\"class\": \"Linear\", \"kargs\": {\"in_features\": 256, \"out_features\": 256}}], \"NUM_LOGS_PER_EPOCH\": 10, \"BEST_MODEL_PATH\": \"./best_model.pth\", \"n_way\": 16, \"datasets\": [{\"labels\": [\"1-10.\", \"1-11.\", \"1-15.\", \"1-16.\", \"1-17.\", \"1-18.\", \"1-19.\", \"10-4.\", \"10-7.\", \"11-1.\", \"11-14.\", \"11-17.\", \"11-20.\", \"11-7.\", \"13-20.\", \"13-8.\", \"14-10.\", \"14-11.\", \"14-14.\", \"14-7.\", \"15-1.\", \"15-20.\", \"16-1.\", \"16-16.\", \"17-10.\", \"17-11.\", \"17-2.\", \"19-1.\", \"19-16.\", \"19-19.\", \"19-20.\", \"19-3.\", \"2-10.\", \"2-11.\", \"2-17.\", \"2-18.\", \"2-20.\", \"2-3.\", \"2-4.\", \"2-5.\", \"2-6.\", \"2-7.\", \"2-8.\", \"3-13.\", \"3-18.\", \"3-3.\", \"4-1.\", \"4-10.\", \"4-11.\", \"4-19.\", \"5-5.\", \"6-15.\", \"7-10.\", \"7-14.\", \"8-18.\", \"8-20.\", \"8-3.\", \"8-8.\"], \"domains\": [1, 2, 3, 4, 5], \"num_examples_per_domain_per_label\": -1, \"pickle_path\": \"/mnt/wd500GB/CSC500/csc500-main/datasets/cores.stratified_ds.2022A.pkl\", \"source_or_target_dataset\": \"target\", \"x_transforms\": [\"take_200\"], \"episode_transforms\": [], \"domain_prefix\": \"C_\"}, {\"labels\": [\"1-10\", \"1-12\", \"1-14\", \"1-16\", \"1-18\", \"1-19\", \"1-8\", \"10-11\", \"10-17\", \"10-4\", \"10-7\", \"11-1\", \"11-10\", \"11-19\", \"11-20\", \"11-4\", \"11-7\", \"12-19\", \"12-20\", \"12-7\", \"13-14\", \"13-18\", \"13-19\", \"13-20\", \"13-3\", \"13-7\", \"14-10\", \"14-11\", \"14-12\", \"14-13\", \"14-14\", \"14-19\", \"14-20\", \"14-7\", \"14-8\", \"14-9\", \"15-1\", \"15-19\", \"15-6\", \"16-1\", \"16-16\", \"16-19\", \"16-20\", \"17-10\", \"17-11\", \"18-1\", \"18-10\", \"18-11\", \"18-12\", \"18-13\", \"18-14\", \"18-15\", \"18-16\", \"18-17\", \"18-19\", \"18-2\", \"18-20\", \"18-4\", \"18-5\", \"18-7\", \"18-8\", \"18-9\", \"19-1\", \"19-10\", \"19-11\", \"19-12\", \"19-13\", \"19-14\", \"19-15\", \"19-19\", \"19-2\", \"19-20\", \"19-3\", \"19-4\", \"19-6\", \"19-7\", \"19-8\", \"19-9\", \"2-1\", \"2-13\", \"2-15\", \"2-3\", \"2-4\", \"2-5\", \"2-6\", \"2-7\", \"2-8\", \"20-1\", \"20-12\", \"20-14\", \"20-15\", \"20-16\", \"20-18\", \"20-19\", \"20-20\", \"20-3\", \"20-4\", \"20-5\", \"20-7\", \"20-8\", \"3-1\", \"3-13\", \"3-18\", \"3-2\", \"3-8\", \"4-1\", \"4-10\", \"4-11\", \"5-1\", \"5-5\", \"6-1\", \"6-15\", \"6-6\", \"7-10\", \"7-11\", \"7-12\", \"7-13\", \"7-14\", \"7-7\", \"7-8\", \"7-9\", \"8-1\", \"8-13\", \"8-14\", \"8-18\", \"8-20\", \"8-3\", \"8-8\", \"9-1\", \"9-7\"], \"domains\": [1, 2, 3, 4], \"num_examples_per_domain_per_label\": -1, \"pickle_path\": \"/mnt/wd500GB/CSC500/csc500-main/datasets/wisig.node3-19.stratified_ds.2022A.pkl\", \"source_or_target_dataset\": \"target\", \"x_transforms\": [\"take_200\"], \"episode_transforms\": [], \"domain_prefix\": \"W_\"}, {\"labels\": [\"3123D52\", \"3123D65\", \"3123D79\", \"3123D80\", \"3123D54\", \"3123D70\", \"3123D7B\", \"3123D89\", \"3123D58\", \"3123D76\", \"3123D7D\", \"3123EFE\", \"3123D64\", \"3123D78\", \"3123D7E\", \"3124E4A\"], \"domains\": [32, 38, 8, 44, 14, 50, 20, 26], \"num_examples_per_domain_per_label\": 2000, \"pickle_path\": \"/mnt/wd500GB/CSC500/csc500-main/datasets/oracle.Run1_framed_2000Examples_stratified_ds.2022A.pkl\", \"source_or_target_dataset\": \"source\", \"x_transforms\": [\"take_200\", \"resample_20Msps_to_25Msps\"], \"episode_transforms\": [], \"domain_prefix\": \"O_\"}], \"seed\": 7, \"dataset_seed\": 7, \"domains_source\": [\"O_32\", \"O_38\", \"O_8\", \"O_44\", \"O_14\", \"O_50\", \"O_20\", \"O_26\"], \"domains_target\": [\"C_1\", \"C_2\", \"C_3\", \"C_4\", \"C_5\", \"W_1\", \"W_2\", \"W_3\", \"W_4\"]}, \"results\": {\"source_test_label_accuracy\": 0.5591796875, \"source_test_label_loss\": 268.2304992675781, \"target_test_label_accuracy\": 0.516332928802589, \"target_test_label_loss\": 17998.75, \"source_val_label_accuracy\": 0.5611653645833333, \"source_val_label_loss\": 262.005859375, \"target_val_label_accuracy\": 0.51073682766191, \"target_val_label_loss\": 18488.400390625, \"total_epochs_trained\": 5, \"total_experiment_time_secs\": 872.3934876918793, \"confusion\": {\"O_26\": {\"0\": {\"15\": 25, \"14\": 60, \"0\": 44, \"8\": 8, \"10\": 49, \"6\": 5, \"2\": 8, \"9\": 9, \"5\": 15, \"1\": 7, \"3\": 3, \"12\": 1, \"7\": 5, \"4\": 1}, \"4\": {\"7\": 14, \"3\": 31, \"8\": 12, \"2\": 9, \"4\": 76, \"13\": 54, \"9\": 21, \"12\": 22, \"0\": 1}, \"14\": {\"0\": 31, \"15\": 22, \"1\": 26, \"14\": 57, \"10\": 54, \"5\": 21, \"9\": 1, \"6\": 24, \"8\": 2, \"2\": 1, \"7\": 1}, \"12\": {\"12\": 83, \"3\": 8, \"4\": 22, \"9\": 23, \"15\": 7, \"7\": 11, \"13\": 25, \"0\": 20, \"10\": 9, \"14\": 7, \"5\": 8, \"2\": 3, \"8\": 11, \"11\": 1, \"6\": 1, \"1\": 1}, \"8\": {\"12\": 10, \"4\": 5, \"10\": 9, \"15\": 14, \"7\": 29, \"3\": 15, \"0\": 43, \"9\": 28, \"8\": 31, \"2\": 24, \"14\": 17, \"13\": 5, \"5\": 6, \"1\": 4}, \"7\": {\"3\": 31, \"13\": 10, \"0\": 19, \"9\": 24, \"7\": 47, \"4\": 8, \"2\": 40, \"15\": 8, \"8\": 32, \"14\": 6, \"12\": 5, \"5\": 6, \"10\": 2, \"1\": 2}, \"13\": {\"12\": 27, \"13\": 60, \"3\": 21, \"4\": 44, \"2\": 10, \"0\": 8, \"7\": 18, \"9\": 27, \"8\": 21, \"5\": 1, \"10\": 1, \"15\": 1, \"14\": 1}, \"5\": {\"15\": 54, \"5\": 79, \"6\": 44, \"14\": 13, \"10\": 24, \"1\": 4, \"0\": 15, \"7\": 3, \"8\": 3, \"9\": 1}, \"15\": {\"15\": 57, \"10\": 34, \"14\": 19, \"5\": 55, \"6\": 42, \"0\": 21, \"1\": 7, \"8\": 2, \"2\": 1, \"9\": 1, \"11\": 1}, \"10\": {\"6\": 17, \"15\": 31, \"14\": 46, \"10\": 57, \"0\": 28, \"5\": 33, \"9\": 5, \"1\": 12, \"7\": 2, \"8\": 6, \"2\": 3}, \"3\": {\"12\": 14, \"2\": 47, \"7\": 43, \"4\": 30, \"3\": 28, \"8\": 24, \"0\": 6, \"9\": 28, \"13\": 12, \"10\": 3, \"14\": 2, \"5\": 1, \"15\": 2}, \"9\": {\"13\": 14, \"3\": 17, \"10\": 5, \"4\": 17, \"15\": 7, \"2\": 40, \"8\": 33, \"7\": 25, \"14\": 8, \"9\": 22, \"12\": 16, \"0\": 30, \"5\": 5, \"1\": 1}, \"6\": {\"6\": 113, \"15\": 24, \"14\": 5, \"1\": 40, \"5\": 32, \"10\": 20, \"0\": 1, \"7\": 1, \"11\": 4}, \"1\": {\"6\": 49, \"1\": 110, \"11\": 12, \"14\": 22, \"0\": 6, \"10\": 23, \"8\": 1, \"5\": 5, \"15\": 10, \"2\": 2}, \"11\": {\"6\": 27, \"11\": 190, \"1\": 18, \"14\": 1, \"15\": 1, \"0\": 2, \"12\": 1}, \"2\": {\"15\": 13, \"9\": 13, \"10\": 3, \"8\": 38, \"12\": 6, \"7\": 33, \"0\": 31, \"3\": 17, \"2\": 47, \"14\": 12, \"13\": 7, \"4\": 15, \"6\": 1, \"5\": 4}}, \"O_44\": {\"1\": {\"1\": 224, \"2\": 15, \"10\": 1}, \"11\": {\"11\": 233, \"6\": 2, \"13\": 3, \"10\": 2}, \"3\": {\"3\": 231, \"12\": 9}, \"6\": {\"6\": 192, \"13\": 37, \"9\": 11}, \"7\": {\"7\": 199, \"9\": 35, \"10\": 6}, \"5\": {\"5\": 214, \"14\": 14, \"15\": 12}, \"2\": {\"2\": 223, \"1\": 16, \"10\": 1}, \"15\": {\"15\": 196, \"5\": 16, \"8\": 10, \"14\": 17, \"0\": 1}, \"10\": {\"10\": 234, \"7\": 4, \"1\": 2}, \"13\": {\"13\": 189, \"6\": 46, \"9\": 4, \"10\": 1}, \"8\": {\"15\": 7, \"8\": 174, \"0\": 55, \"5\": 4}, \"4\": {\"4\": 145, \"15\": 4, \"14\": 90, \"5\": 1}, \"9\": {\"4\": 7, \"13\": 30, \"7\": 59, \"9\": 100, \"6\": 38, \"10\": 3, \"14\": 1, \"2\": 2}, \"14\": {\"4\": 42, \"14\": 172, \"5\": 12, \"15\": 14}, \"0\": {\"0\": 214, \"8\": 26}, \"12\": {\"12\": 228, \"3\": 12}}, \"O_50\": {\"15\": {\"15\": 228, \"6\": 10, \"9\": 1, \"11\": 1}, \"4\": {\"4\": 200, \"7\": 22, \"5\": 10, \"15\": 7, \"6\": 1}, \"6\": {\"6\": 214, \"15\": 9, \"5\": 17}, \"2\": {\"2\": 230, \"0\": 10}, \"5\": {\"7\": 45, \"4\": 8, \"6\": 65, \"5\": 112, \"13\": 8, \"15\": 2}, \"9\": {\"9\": 215, \"11\": 9, \"12\": 16}, \"8\": {\"8\": 240}, \"12\": {\"12\": 227, \"9\": 10, \"11\": 3}, \"10\": {\"10\": 240}, \"1\": {\"1\": 231, \"13\": 9}, \"0\": {\"0\": 226, \"2\": 10, \"10\": 4}, \"3\": {\"3\": 240}, \"13\": {\"13\": 239, \"1\": 1}, \"11\": {\"11\": 229, \"9\": 3, \"12\": 7, \"15\": 1}, \"7\": {\"7\": 225, \"4\": 9, \"5\": 6}, \"14\": {\"14\": 240}}, \"O_38\": {\"15\": {\"15\": 219, \"8\": 11, \"1\": 5, \"5\": 5}, \"11\": {\"11\": 227, \"3\": 13}, \"10\": {\"10\": 203, \"13\": 13, \"0\": 18, \"4\": 6}, \"14\": {\"14\": 221, \"2\": 19}, \"6\": {\"6\": 239, \"1\": 1}, \"4\": {\"4\": 240}, \"13\": {\"13\": 226, \"10\": 10, \"0\": 2, \"2\": 1, \"14\": 1}, \"3\": {\"3\": 181, \"10\": 12, \"0\": 26, \"11\": 21}, \"7\": {\"7\": 236, \"5\": 3, \"8\": 1}, \"8\": {\"8\": 129, \"5\": 79, \"7\": 24, \"15\": 8}, \"1\": {\"1\": 240}, \"5\": {\"5\": 92, \"15\": 13, \"8\": 100, \"7\": 25, \"9\": 9, \"2\": 1}, \"0\": {\"10\": 90, \"0\": 85, \"7\": 36, \"13\": 28, \"4\": 1}, \"2\": {\"2\": 226, \"14\": 14}, \"12\": {\"12\": 240}, \"9\": {\"9\": 233, \"5\": 6, \"8\": 1}}, \"O_20\": {\"10\": {\"2\": 32, \"15\": 21, \"7\": 12, \"4\": 32, \"13\": 33, \"1\": 6, \"12\": 29, \"9\": 12, \"6\": 13, \"5\": 5, \"14\": 3, \"10\": 34, \"3\": 8}, \"7\": {\"14\": 20, \"2\": 17, \"10\": 22, \"13\": 12, \"8\": 12, \"4\": 14, \"6\": 15, \"5\": 21, \"3\": 15, \"15\": 16, \"1\": 21, \"9\": 20, \"7\": 20, \"12\": 13, \"11\": 1, \"0\": 1}, \"4\": {\"2\": 18, \"15\": 20, \"1\": 17, \"3\": 13, \"4\": 25, \"5\": 16, \"13\": 20, \"7\": 23, \"9\": 23, \"10\": 23, \"12\": 24, \"6\": 11, \"14\": 2, \"0\": 3, \"8\": 2}, \"13\": {\"10\": 30, \"13\": 44, \"7\": 9, \"15\": 28, \"1\": 14, \"2\": 28, \"6\": 14, \"9\": 19, \"4\": 18, \"12\": 27, \"3\": 3, \"5\": 4, \"14\": 2}, \"1\": {\"9\": 25, \"15\": 22, \"10\": 10, \"13\": 10, \"5\": 22, \"14\": 10, \"4\": 19, \"6\": 13, \"11\": 2, \"3\": 26, \"1\": 21, \"12\": 12, \"2\": 16, \"7\": 17, \"8\": 10, \"0\": 5}, \"0\": {\"8\": 30, \"7\": 6, \"11\": 70, \"14\": 26, \"0\": 70, \"3\": 9, \"5\": 7, \"4\": 1, \"9\": 4, \"1\": 5, \"15\": 1, \"2\": 2, \"6\": 7, \"10\": 2}, \"12\": {\"12\": 22, \"5\": 19, \"15\": 23, \"1\": 22, \"3\": 10, \"7\": 26, \"4\": 21, \"13\": 21, \"14\": 5, \"6\": 11, \"10\": 20, \"2\": 19, \"9\": 16, \"8\": 3, \"0\": 2}, \"5\": {\"7\": 11, \"9\": 17, \"3\": 27, \"5\": 13, \"14\": 12, \"8\": 27, \"0\": 18, \"1\": 27, \"6\": 17, \"12\": 10, \"4\": 13, \"2\": 11, \"15\": 20, \"13\": 5, \"11\": 4, \"10\": 8}, \"6\": {\"10\": 15, \"5\": 17, \"8\": 15, \"7\": 25, \"14\": 18, \"9\": 20, \"6\": 30, \"15\": 10, \"3\": 30, \"1\": 10, \"13\": 7, \"4\": 12, \"2\": 14, \"0\": 3, \"12\": 13, \"11\": 1}, \"2\": {\"10\": 14, \"13\": 29, \"3\": 16, \"9\": 14, \"12\": 25, \"15\": 26, \"7\": 13, \"4\": 22, \"11\": 1, \"1\": 21, \"6\": 7, \"2\": 28, \"5\": 13, \"8\": 5, \"14\": 4, \"0\": 2}, \"8\": {\"11\": 31, \"3\": 25, \"4\": 11, \"0\": 44, \"14\": 34, \"1\": 11, \"5\": 20, \"7\": 4, \"8\": 28, \"12\": 3, \"2\": 1, \"10\": 4, \"6\": 7, \"15\": 7, \"9\": 9, \"13\": 1}, \"11\": {\"11\": 116, \"0\": 65, \"8\": 16, \"14\": 25, \"3\": 6, \"2\": 1, \"5\": 3, \"6\": 4, \"9\": 3, \"10\": 1}, \"9\": {\"3\": 23, \"9\": 14, \"0\": 7, \"7\": 22, \"10\": 21, \"8\": 13, \"6\": 18, \"5\": 18, \"11\": 1, \"1\": 15, \"4\": 20, \"12\": 11, \"13\": 12, \"15\": 14, \"2\": 17, \"14\": 14}, \"14\": {\"6\": 17, \"2\": 5, \"14\": 46, \"1\": 6, \"11\": 21, \"5\": 17, \"8\": 29, \"15\": 8, \"0\": 40, \"3\": 23, \"9\": 9, \"4\": 5, \"10\": 8, \"7\": 4, \"12\": 2}, \"15\": {\"13\": 36, \"2\": 18, \"0\": 3, \"12\": 19, \"15\": 31, \"7\": 16, \"1\": 23, \"4\": 20, \"6\": 12, \"14\": 4, \"8\": 4, \"9\": 15, \"10\": 21, \"5\": 12, \"3\": 6}, \"3\": {\"3\": 26, \"9\": 12, \"0\": 30, \"14\": 23, \"15\": 15, \"7\": 18, \"5\": 19, \"8\": 16, \"1\": 21, \"11\": 11, \"12\": 8, \"4\": 7, \"6\": 16, \"2\": 12, \"10\": 5, \"13\": 1}}, \"O_14\": {\"14\": {\"13\": 17, \"4\": 8, \"3\": 43, \"14\": 38, \"6\": 29, \"15\": 7, \"2\": 23, \"5\": 17, \"7\": 31, \"0\": 14, \"8\": 9, \"10\": 3, \"12\": 1}, \"0\": {\"3\": 23, \"7\": 9, \"5\": 20, \"8\": 28, \"6\": 20, \"14\": 23, \"0\": 43, \"4\": 17, \"10\": 9, \"2\": 19, \"13\": 11, \"12\": 11, \"15\": 7}, \"4\": {\"7\": 3, \"8\": 47, \"0\": 11, \"5\": 21, \"12\": 15, \"1\": 29, \"4\": 54, \"10\": 33, \"14\": 3, \"3\": 1, \"2\": 15, \"9\": 4, \"13\": 4}, \"11\": {\"11\": 225, \"1\": 3, \"9\": 12}, \"13\": {\"3\": 26, \"2\": 9, \"6\": 40, \"4\": 4, \"10\": 2, \"13\": 26, \"14\": 20, \"15\": 71, \"7\": 9, \"8\": 11, \"5\": 12, \"0\": 8, \"12\": 2}, \"9\": {\"12\": 22, \"10\": 32, \"9\": 122, \"1\": 58, \"11\": 2, \"4\": 4}, \"3\": {\"6\": 48, \"3\": 32, \"13\": 32, \"2\": 17, \"8\": 9, \"7\": 16, \"15\": 29, \"0\": 21, \"5\": 13, \"14\": 22, \"4\": 1}, \"6\": {\"6\": 71, \"3\": 24, \"13\": 33, \"14\": 14, \"7\": 12, \"15\": 66, \"5\": 7, \"0\": 6, \"2\": 7}, \"1\": {\"9\": 58, \"1\": 115, \"12\": 7, \"10\": 44, \"4\": 14, \"5\": 1, \"8\": 1}, \"5\": {\"14\": 25, \"8\": 27, \"0\": 27, \"5\": 34, \"3\": 13, \"4\": 20, \"7\": 35, \"2\": 27, \"10\": 9, \"6\": 7, \"12\": 5, \"13\": 10, \"1\": 1}, \"12\": {\"2\": 5, \"7\": 1, \"12\": 116, \"9\": 12, \"10\": 33, \"8\": 36, \"0\": 10, \"4\": 17, \"1\": 8, \"5\": 2}, \"10\": {\"8\": 31, \"1\": 43, \"4\": 32, \"9\": 24, \"10\": 68, \"12\": 34, \"2\": 5, \"5\": 2, \"0\": 1}, \"8\": {\"5\": 25, \"12\": 35, \"4\": 30, \"8\": 50, \"0\": 34, \"2\": 18, \"1\": 6, \"13\": 3, \"7\": 11, \"10\": 15, \"3\": 6, \"14\": 6, \"9\": 1}, \"7\": {\"5\": 26, \"2\": 29, \"6\": 39, \"13\": 19, \"3\": 30, \"14\": 24, \"4\": 8, \"7\": 42, \"0\": 11, \"8\": 7, \"15\": 4, \"10\": 1}, \"15\": {\"15\": 236, \"13\": 1, \"6\": 3}, \"2\": {\"6\": 26, \"14\": 15, \"15\": 10, \"2\": 30, \"0\": 15, \"7\": 28, \"8\": 20, \"3\": 23, \"5\": 25, \"13\": 18, \"4\": 22, \"10\": 5, \"12\": 3}}, \"O_32\": {\"11\": {\"11\": 225, \"13\": 6, \"3\": 9}, \"1\": {\"1\": 236, \"10\": 4}, \"2\": {\"2\": 222, \"4\": 18}, \"0\": {\"0\": 181, \"5\": 9, \"7\": 27, \"8\": 16, \"2\": 3, \"14\": 4}, \"3\": {\"3\": 197, \"13\": 42, \"4\": 1}, \"8\": {\"8\": 180, \"4\": 7, \"5\": 20, \"0\": 24, \"7\": 4, \"14\": 3, \"15\": 1, \"13\": 1}, \"12\": {\"12\": 236, \"9\": 4}, \"5\": {\"5\": 134, \"7\": 56, \"8\": 25, \"0\": 14, \"14\": 11}, \"15\": {\"15\": 239, \"8\": 1}, \"7\": {\"7\": 143, \"5\": 32, \"0\": 28, \"14\": 36, \"8\": 1}, \"4\": {\"4\": 209, \"2\": 24, \"8\": 1, \"13\": 6}, \"14\": {\"7\": 47, \"2\": 11, \"14\": 145, \"8\": 4, \"5\": 13, \"4\": 6, \"0\": 14}, \"10\": {\"10\": 240}, \"6\": {\"12\": 59, \"6\": 122, \"11\": 17, \"10\": 9, \"9\": 30, \"13\": 1, \"1\": 2}, \"13\": {\"3\": 51, \"8\": 1, \"13\": 143, \"4\": 42, \"11\": 3}, \"9\": {\"9\": 223, \"12\": 14, \"2\": 1, \"6\": 1, \"4\": 1}}, \"O_8\": {\"9\": {\"3\": 46, \"9\": 156, \"12\": 6, \"2\": 15, \"15\": 17}, \"11\": {\"14\": 22, \"4\": 38, \"8\": 29, \"10\": 22, \"11\": 30, \"5\": 24, \"6\": 17, \"1\": 22, \"13\": 16, \"7\": 20}, \"8\": {\"7\": 24, \"6\": 23, \"4\": 38, \"10\": 18, \"13\": 14, \"11\": 28, \"14\": 24, \"8\": 42, \"5\": 11, \"1\": 17, \"0\": 1}, \"4\": {\"13\": 8, \"4\": 51, \"11\": 29, \"6\": 15, \"14\": 52, \"1\": 22, \"7\": 8, \"0\": 3, \"5\": 10, \"8\": 28, \"10\": 14}, \"13\": {\"5\": 37, \"7\": 36, \"11\": 16, \"10\": 26, \"13\": 43, \"1\": 30, \"6\": 23, \"8\": 12, \"12\": 5, \"4\": 11, \"14\": 1}, \"14\": {\"14\": 123, \"4\": 62, \"11\": 17, \"6\": 5, \"1\": 2, \"0\": 10, \"5\": 2, \"8\": 17, \"7\": 2}, \"2\": {\"2\": 76, \"12\": 49, \"9\": 22, \"3\": 29, \"15\": 62, \"7\": 1, \"5\": 1}, \"3\": {\"3\": 175, \"15\": 14, \"2\": 30, \"9\": 16, \"12\": 5}, \"1\": {\"10\": 28, \"7\": 19, \"4\": 21, \"1\": 28, \"11\": 30, \"5\": 43, \"6\": 23, \"8\": 20, \"13\": 22, \"14\": 6}, \"0\": {\"0\": 220, \"14\": 16, \"4\": 4}, \"5\": {\"11\": 22, \"5\": 50, \"4\": 13, \"7\": 23, \"10\": 28, \"1\": 28, \"13\": 30, \"6\": 21, \"8\": 15, \"14\": 8, \"15\": 1, \"12\": 1}, \"15\": {\"12\": 68, \"15\": 83, \"9\": 15, \"2\": 65, \"3\": 9}, \"10\": {\"5\": 34, \"6\": 20, \"10\": 27, \"1\": 24, \"8\": 19, \"7\": 35, \"13\": 36, \"14\": 6, \"4\": 17, \"11\": 22}, \"12\": {\"12\": 93, \"15\": 80, \"2\": 65, \"7\": 1, \"3\": 1}, \"6\": {\"14\": 10, \"5\": 29, \"4\": 23, \"13\": 26, \"10\": 14, \"1\": 31, \"8\": 24, \"6\": 27, \"7\": 26, \"11\": 30}, \"7\": {\"5\": 24, \"13\": 39, \"10\": 34, \"1\": 26, \"11\": 17, \"7\": 28, \"8\": 23, \"6\": 28, \"4\": 12, \"14\": 9}}, \"W_4\": {\"71\": {\"71\": 57, \"127\": 7, \"38\": 1, \"49\": 1, \"14\": 5, \"16\": 5, \"40\": 4, \"105\": 3, \"1\": 2, \"3\": 3, \"21\": 1, \"84\": 5, \"18\": 1, \"26\": 1, \"106\": 3, \"24\": 1, \"72\": 2, \"62\": 1, \"98\": 1}, \"17\": {\"104\": 3, \"79\": 1, \"17\": 8, \"102\": 3, \"55\": 1, \"65\": 2, \"115\": 1, \"29\": 1}, \"105\": {\"114\": 2, \"106\": 1, \"14\": 5, \"84\": 3, \"35\": 1, \"105\": 20, \"49\": 1, \"69\": 8, \"1\": 5, \"71\": 6, \"88\": 3, \"10\": 1, \"40\": 2, \"3\": 6, \"7\": 2, \"5\": 4, \"127\": 4, \"26\": 4, \"4\": 1, \"108\": 1, \"16\": 1, \"39\": 2, \"70\": 2, \"107\": 4, \"44\": 1, \"53\": 1, \"109\": 1, \"6\": 1, \"99\": 1, \"62\": 1, \"27\": 1, \"18\": 4}, \"92\": {\"92\": 7, \"119\": 1, \"95\": 1, \"83\": 4, \"31\": 1, \"45\": 1, \"112\": 1, \"15\": 1, \"40\": 1, \"64\": 1, \"2\": 1, \"73\": 3, \"100\": 2, \"82\": 1, \"42\": 1, \"29\": 1}, \"100\": {\"114\": 1, \"100\": 6, \"40\": 1, \"99\": 3, \"81\": 1, \"107\": 2, \"35\": 2, \"89\": 1, \"20\": 1, \"9\": 1, \"121\": 1}, \"6\": {\"6\": 18, \"119\": 1, \"111\": 1, \"120\": 1, \"37\": 1, \"29\": 1, \"90\": 1}, \"36\": {\"36\": 82, \"109\": 5, \"126\": 1, \"101\": 1, \"24\": 2, \"94\": 3, \"97\": 1, \"108\": 2, \"87\": 2, \"43\": 4, \"30\": 4, \"15\": 3, \"27\": 4, \"0\": 3, \"8\": 1, \"122\": 1, \"10\": 5, \"39\": 1, \"88\": 1, \"70\": 2}, \"35\": {\"35\": 5, \"5\": 1, \"74\": 1, \"106\": 1, \"95\": 1, \"89\": 1, \"128\": 1, \"114\": 1}, \"63\": {\"63\": 11, \"103\": 1, \"17\": 1, \"2\": 1, \"67\": 1, \"102\": 1}, \"104\": {\"104\": 6, \"6\": 1, \"37\": 1, \"102\": 1, \"67\": 1, \"86\": 1, \"115\": 1, \"13\": 1, \"123\": 1, \"66\": 1, \"17\": 1}, \"114\": {\"114\": 57, \"100\": 1, \"5\": 7, \"16\": 1, \"71\": 2, \"1\": 9, \"14\": 5, \"40\": 7, \"33\": 1, \"70\": 2, \"84\": 2, \"3\": 8, \"44\": 2, \"18\": 4, \"69\": 4, \"26\": 1, \"107\": 2, \"105\": 2, \"54\": 1, \"53\": 1, \"127\": 3, \"89\": 1, \"72\": 2, \"24\": 1, \"12\": 1, \"10\": 1}, \"68\": {\"104\": 1, \"6\": 1, \"28\": 2, \"68\": 8, \"41\": 1, \"128\": 1, \"55\": 1, \"112\": 1}, \"109\": {\"109\": 38, \"27\": 8, \"30\": 1, \"122\": 1, \"70\": 13, \"7\": 2, \"87\": 6, \"0\": 3, \"94\": 4, \"88\": 7, \"113\": 1, \"36\": 12, \"118\": 1, \"15\": 2, \"8\": 2, \"24\": 2, \"126\": 3, \"39\": 1, \"10\": 4, \"43\": 3, \"108\": 2}, \"27\": {\"109\": 7, \"27\": 41, \"88\": 4, \"94\": 1, \"30\": 4, \"43\": 6, \"87\": 4, \"93\": 1, \"36\": 7, \"108\": 3, \"24\": 4, \"126\": 5, \"15\": 4, \"0\": 4, \"97\": 2, \"122\": 1, \"113\": 1, \"70\": 1}, \"79\": {\"79\": 13, \"55\": 1, \"115\": 2}, \"0\": {\"0\": 37, \"109\": 1, \"113\": 4, \"12\": 1, \"118\": 5, \"30\": 2, \"122\": 2, \"7\": 9, \"126\": 1, \"27\": 4, \"94\": 2, \"110\": 1, \"101\": 3, \"87\": 9, \"70\": 2, \"8\": 5, \"10\": 2, \"93\": 2, \"88\": 1, \"24\": 2, \"43\": 2, \"11\": 3, \"60\": 1, \"15\": 3, \"108\": 1, \"106\": 1}, \"28\": {\"28\": 6, \"77\": 1, \"64\": 1, \"83\": 2, \"103\": 1, \"102\": 1, \"57\": 1, \"99\": 1, \"19\": 1, \"129\": 1, \"74\": 1, \"73\": 1, \"6\": 1, \"37\": 1}, \"4\": {\"116\": 3, \"86\": 3, \"4\": 81, \"80\": 1, \"88\": 1, \"102\": 4, \"90\": 2, \"125\": 3, \"43\": 1, \"101\": 1, \"115\": 2, \"42\": 1, \"111\": 1}, \"106\": {\"106\": 60, \"23\": 1, \"21\": 1, \"105\": 1, \"51\": 1, \"12\": 6, \"127\": 4, \"101\": 2, \"71\": 3, \"16\": 3, \"11\": 2, \"114\": 2, \"3\": 1, \"10\": 1, \"7\": 3, \"26\": 2, \"72\": 2, \"108\": 1, \"5\": 1, \"84\": 3, \"93\": 1, \"88\": 1}, \"40\": {\"40\": 45, \"114\": 13, \"99\": 2, \"71\": 3, \"84\": 4, \"53\": 1, \"51\": 2, \"16\": 2, \"9\": 1, \"107\": 9, \"81\": 2, \"5\": 12, \"44\": 4, \"43\": 1, \"26\": 2, \"105\": 5, \"1\": 11, \"3\": 4, \"95\": 1, \"100\": 1, \"11\": 3, \"108\": 1, \"14\": 1, \"98\": 3, \"10\": 1}, \"127\": {\"106\": 4, \"127\": 69, \"71\": 7, \"26\": 2, \"36\": 1, \"105\": 4, \"16\": 3, \"43\": 1, \"7\": 2, \"5\": 1, \"1\": 2, \"12\": 2, \"96\": 2, \"101\": 1, \"93\": 1, \"62\": 1, \"3\": 3, \"40\": 1, \"14\": 1}, \"57\": {\"28\": 2, \"57\": 8, \"21\": 1, \"63\": 1, \"117\": 1, \"53\": 1, \"45\": 1, \"88\": 1}, \"60\": {\"127\": 1, \"60\": 18, \"72\": 1, \"71\": 1, \"11\": 2, \"8\": 1, \"7\": 2, \"114\": 1, \"49\": 1, \"107\": 1, \"105\": 1, \"84\": 1, \"101\": 1}, \"69\": {\"69\": 65, \"105\": 10, \"8\": 1, \"18\": 8, \"97\": 1, \"71\": 2, \"44\": 2, \"14\": 4, \"84\": 4, \"16\": 5, \"5\": 1, \"27\": 1, \"107\": 5, \"70\": 1, \"40\": 4, \"43\": 1, \"11\": 1, \"26\": 2, \"106\": 1, \"10\": 1, \"114\": 1, \"1\": 3}, \"84\": {\"84\": 28, \"40\": 8, \"96\": 1, \"99\": 3, \"21\": 1, \"35\": 1, \"95\": 1, \"93\": 3, \"105\": 5, \"72\": 1, \"16\": 6, \"3\": 3, \"127\": 5, \"10\": 1, \"69\": 10, \"49\": 2, \"60\": 1, \"44\": 2, \"111\": 1, \"0\": 2, \"26\": 10, \"71\": 5, \"33\": 1, \"18\": 5, \"98\": 1, \"43\": 2, \"107\": 2, \"114\": 6, \"5\": 5, \"14\": 5, \"108\": 1, \"88\": 1, \"118\": 1, \"1\": 2}, \"24\": {\"24\": 63, \"78\": 2, \"126\": 5, \"36\": 4, \"10\": 12, \"21\": 1, \"30\": 3, \"27\": 6, \"39\": 5, \"88\": 4, \"70\": 13, \"108\": 1, \"109\": 1}, \"94\": {\"24\": 1, \"94\": 60, \"15\": 6, \"122\": 1, \"87\": 6, \"8\": 3, \"30\": 2, \"43\": 3, \"0\": 2, \"36\": 1, \"109\": 1, \"126\": 1, \"88\": 1}, \"7\": {\"7\": 32, \"24\": 1, \"101\": 13, \"43\": 1, \"71\": 1, \"16\": 2, \"113\": 7, \"60\": 3, \"8\": 2, \"110\": 5, \"127\": 4, \"12\": 2, \"93\": 13, \"118\": 3, \"3\": 1, \"94\": 1, \"26\": 2, \"87\": 5, \"122\": 2, \"109\": 1, \"88\": 1, \"10\": 1, \"106\": 3, \"85\": 1, \"105\": 1, \"0\": 5, \"11\": 5, \"27\": 1, \"18\": 1}, \"96\": {\"24\": 1, \"7\": 2, \"83\": 1, \"127\": 1, \"96\": 3, \"59\": 1, \"85\": 1, \"11\": 2, \"75\": 1, \"105\": 2, \"82\": 1, \"111\": 1, \"26\": 1, \"3\": 1, \"8\": 1}, \"116\": {\"116\": 9, \"28\": 1, \"6\": 1, \"67\": 1, \"117\": 3, \"65\": 1, \"37\": 1, \"45\": 1, \"80\": 1, \"48\": 1, \"115\": 1, \"32\": 1, \"125\": 4, \"111\": 2}, \"47\": {\"47\": 4, \"24\": 1, \"76\": 2, \"89\": 1, \"90\": 1, \"70\": 1, \"46\": 1, \"73\": 1}, \"119\": {\"2\": 1, \"104\": 1, \"37\": 2, \"125\": 2, \"29\": 2, \"58\": 1, \"119\": 1, \"65\": 1, \"55\": 1, \"28\": 1, \"50\": 1, \"86\": 2}, \"74\": {\"9\": 1, \"61\": 1, \"74\": 8, \"35\": 1, \"32\": 1, \"113\": 1, \"128\": 1, \"44\": 1, \"29\": 1}, \"93\": {\"93\": 50, \"87\": 4, \"16\": 2, \"8\": 3, \"23\": 1, \"7\": 7, \"122\": 7, \"110\": 11, \"12\": 8, \"113\": 11, \"60\": 1, \"118\": 4, \"11\": 12, \"101\": 9, \"109\": 1, \"62\": 1, \"71\": 2, \"0\": 3, \"10\": 1, \"5\": 1, \"106\": 5, \"43\": 1, \"72\": 1, \"15\": 1, \"30\": 1, \"27\": 1, \"26\": 1, \"14\": 1, \"3\": 1}, \"2\": {\"2\": 10, \"89\": 1, \"64\": 2, \"45\": 1, \"112\": 1, \"103\": 1, \"124\": 1, \"92\": 1, \"63\": 1, \"68\": 1, \"111\": 1, \"83\": 2, \"116\": 1, \"42\": 2, \"98\": 1, \"102\": 1}, \"37\": {\"37\": 11, \"21\": 1, \"65\": 1, \"124\": 1, \"125\": 2}, \"15\": {\"15\": 77, \"8\": 9, \"30\": 3, \"94\": 1, \"10\": 2, \"36\": 3, \"87\": 5, \"101\": 4, \"110\": 4, \"11\": 3, \"113\": 1, \"118\": 3, \"7\": 3, \"0\": 4, \"122\": 2, \"106\": 2, \"70\": 1, \"43\": 1}, \"102\": {\"102\": 85, \"104\": 1, \"2\": 3, \"125\": 3, \"82\": 1, \"67\": 2, \"50\": 2, \"48\": 1, \"115\": 3, \"124\": 12, \"111\": 6, \"90\": 2, \"117\": 6, \"98\": 3, \"80\": 1, \"31\": 1, \"63\": 1, \"57\": 2, \"19\": 1}, \"87\": {\"87\": 35, \"15\": 5, \"108\": 5, \"122\": 4, \"12\": 2, \"43\": 5, \"126\": 7, \"62\": 1, \"36\": 3, \"109\": 6, \"101\": 1, \"30\": 4, \"93\": 2, \"7\": 3, \"70\": 3, \"39\": 4, \"8\": 2, \"113\": 4, \"3\": 1, \"11\": 5, \"24\": 3, \"106\": 1, \"88\": 1, \"27\": 5, \"105\": 1, \"110\": 5, \"94\": 2, \"0\": 1, \"10\": 1}, \"107\": {\"9\": 1, \"107\": 54, \"74\": 2, \"71\": 4, \"1\": 4, \"99\": 2, \"103\": 1, \"84\": 2, \"81\": 4, \"49\": 1, \"82\": 1, \"41\": 1, \"5\": 12, \"98\": 9, \"40\": 10, \"44\": 5, \"69\": 2, \"111\": 1, \"33\": 8, \"88\": 1, \"114\": 3, \"73\": 1, \"14\": 3, \"92\": 1, \"75\": 1, \"105\": 1, \"83\": 3, \"16\": 1, \"100\": 1, \"18\": 2, \"26\": 2}, \"61\": {\"107\": 1, \"61\": 3, \"120\": 1, \"109\": 1, \"2\": 1, \"28\": 1, \"31\": 1, \"73\": 1, \"52\": 1, \"55\": 1, \"21\": 1, \"50\": 1, \"91\": 1, \"77\": 1}, \"78\": {\"24\": 1, \"78\": 22, \"10\": 2, \"70\": 1, \"88\": 5, \"21\": 3, \"97\": 2}, \"9\": {\"9\": 12, \"53\": 2, \"99\": 2, \"72\": 1, \"44\": 2, \"40\": 2, \"75\": 1, \"85\": 2, \"95\": 1, \"46\": 1, \"34\": 1, \"98\": 1}, \"32\": {\"32\": 10, \"107\": 1, \"41\": 1, \"89\": 1, \"20\": 1, \"85\": 1, \"56\": 1, \"111\": 1, \"72\": 2, \"68\": 1, \"77\": 1, \"42\": 4, \"29\": 3}, \"14\": {\"106\": 3, \"34\": 2, \"1\": 4, \"14\": 32, \"42\": 1, \"127\": 2, \"12\": 2, \"114\": 5, \"49\": 2, \"53\": 1, \"18\": 10, \"3\": 2, \"5\": 3, \"84\": 8, \"105\": 3, \"40\": 4, \"62\": 1, \"69\": 7, \"26\": 5, \"71\": 4, \"16\": 4, \"7\": 2, \"100\": 1, \"81\": 1, \"44\": 1, \"118\": 1, \"107\": 1}, \"62\": {\"62\": 22, \"43\": 2, \"113\": 6, \"11\": 1, \"88\": 3, \"30\": 1, \"87\": 3, \"3\": 1, \"118\": 3, \"100\": 2, \"16\": 2, \"26\": 4, \"101\": 2, \"12\": 1, \"69\": 1, \"0\": 1, \"108\": 1, \"10\": 1, \"127\": 1, \"15\": 2}, \"1\": {\"37\": 1, \"34\": 1, \"5\": 13, \"1\": 24, \"26\": 2, \"49\": 1, \"105\": 5, \"44\": 2, \"114\": 10, \"72\": 1, \"40\": 7, \"3\": 3, \"127\": 2, \"71\": 7, \"69\": 4, \"90\": 1, \"84\": 3, \"14\": 7, \"107\": 4, \"18\": 2, \"24\": 1, \"70\": 1}, \"23\": {\"24\": 1, \"23\": 8, \"33\": 1, \"110\": 1, \"106\": 1, \"97\": 1, \"101\": 1, \"12\": 2}, \"95\": {\"14\": 2, \"34\": 1, \"83\": 2, \"5\": 3, \"20\": 2, \"82\": 2, \"95\": 11, \"46\": 2, \"1\": 1, \"44\": 1, \"106\": 1, \"24\": 1, \"49\": 1, \"72\": 1, \"74\": 1}, \"56\": {\"68\": 1, \"56\": 4, \"121\": 1, \"45\": 1, \"55\": 1, \"120\": 2, \"77\": 2}, \"91\": {\"91\": 14, \"68\": 1, \"119\": 1, \"76\": 1, \"74\": 1, \"82\": 2, \"112\": 2, \"128\": 1, \"90\": 1}, \"34\": {\"34\": 10, \"5\": 2, \"91\": 1, \"99\": 3, \"44\": 1, \"83\": 1, \"60\": 2, \"84\": 1, \"71\": 1, \"41\": 1, \"20\": 1, \"43\": 2, \"54\": 2, \"127\": 1, \"114\": 1, \"3\": 1, \"105\": 1}, \"25\": {\"25\": 6, \"58\": 3, \"112\": 3, \"75\": 1, \"52\": 1, \"89\": 1, \"35\": 1}, \"33\": {\"33\": 102, \"121\": 1, \"107\": 6, \"44\": 1, \"114\": 3, \"40\": 5, \"20\": 1, \"81\": 1, \"84\": 1, \"5\": 1, \"1\": 2}, \"16\": {\"26\": 14, \"127\": 4, \"43\": 1, \"16\": 30, \"3\": 5, \"84\": 4, \"118\": 5, \"114\": 7, \"49\": 1, \"9\": 1, \"70\": 1, \"71\": 6, \"69\": 4, \"62\": 3, \"93\": 4, \"113\": 2, \"122\": 1, \"101\": 3, \"1\": 1, \"14\": 4, \"5\": 2, \"0\": 2, \"105\": 4, \"117\": 1, \"18\": 3, \"40\": 4, \"44\": 1, \"88\": 1, \"7\": 2, \"106\": 1, \"11\": 1, \"33\": 1}, \"26\": {\"127\": 5, \"26\": 49, \"44\": 2, \"78\": 1, \"62\": 4, \"5\": 3, \"106\": 3, \"21\": 1, \"69\": 4, \"9\": 1, \"33\": 1, \"105\": 6, \"12\": 4, \"84\": 7, \"18\": 3, \"11\": 10, \"110\": 3, \"126\": 1, \"16\": 2, \"14\": 2, \"101\": 3, \"107\": 2, \"3\": 3, \"113\": 1, \"88\": 1, \"71\": 1, \"0\": 1, \"93\": 1, \"114\": 1}, \"5\": {\"5\": 67, \"8\": 1, \"1\": 13, \"81\": 1, \"85\": 1, \"95\": 1, \"82\": 1, \"40\": 11, \"114\": 5, \"44\": 1, \"90\": 2, \"84\": 6, \"10\": 2, \"107\": 6, \"14\": 2, \"3\": 2, \"105\": 1, \"43\": 2, \"88\": 2, \"53\": 1, \"108\": 1, \"24\": 1, \"98\": 1, \"18\": 2, \"71\": 1, \"70\": 1, \"33\": 1}, \"123\": {\"123\": 9, \"5\": 1, \"80\": 1, \"120\": 1, \"4\": 1, \"64\": 1, \"102\": 1, \"63\": 1}, \"8\": {\"8\": 44, \"93\": 8, \"15\": 12, \"7\": 3, \"110\": 3, \"16\": 2, \"118\": 4, \"122\": 2, \"12\": 1, \"71\": 1, \"0\": 8, \"87\": 2, \"11\": 6, \"101\": 11, \"113\": 8, \"106\": 2, \"94\": 1}, \"83\": {\"83\": 7, \"28\": 1, \"25\": 1, \"89\": 1, \"52\": 2, \"34\": 1, \"38\": 2, \"36\": 1, \"86\": 1, \"81\": 1, \"76\": 1, \"78\": 1, \"54\": 1, \"114\": 2, \"95\": 1, \"128\": 1, \"107\": 2, \"99\": 1}, \"125\": {\"125\": 112, \"17\": 1, \"116\": 4, \"124\": 10, \"102\": 1, \"86\": 1, \"59\": 1, \"111\": 2, \"117\": 2}, \"51\": {\"93\": 1, \"51\": 3, \"57\": 1, \"49\": 1, \"88\": 1, \"98\": 1, \"5\": 1, \"96\": 1, \"9\": 1, \"16\": 1, \"54\": 2, \"97\": 1, \"92\": 1}, \"22\": {\"54\": 1, \"66\": 1, \"124\": 1, \"91\": 1, \"79\": 2, \"125\": 2, \"112\": 1, \"80\": 1, \"22\": 5, \"52\": 1}, \"54\": {\"54\": 7, \"85\": 2, \"20\": 1, \"123\": 1, \"29\": 2, \"51\": 1, \"102\": 1, \"115\": 1}, \"66\": {\"66\": 5, \"77\": 1, \"91\": 1, \"83\": 1, \"63\": 1, \"42\": 1, \"50\": 1, \"45\": 1, \"41\": 2, \"58\": 1, \"103\": 1}, \"59\": {\"66\": 2, \"124\": 3, \"59\": 5, \"52\": 1, \"21\": 1}, \"111\": {\"77\": 1, \"111\": 82, \"67\": 1, \"121\": 1, \"55\": 2, \"50\": 1, \"120\": 1, \"129\": 2, \"90\": 11, \"125\": 3, \"124\": 2, \"102\": 3, \"117\": 7, \"10\": 1, \"68\": 1, \"66\": 1, \"119\": 1, \"31\": 2, \"82\": 1, \"42\": 1, \"19\": 1, \"116\": 1, \"88\": 1}, \"77\": {\"77\": 10, \"58\": 1, \"56\": 1}, \"103\": {\"103\": 8, \"74\": 1, \"19\": 1, \"89\": 3, \"9\": 1, \"32\": 2}, \"20\": {\"107\": 1, \"51\": 1, \"34\": 2, \"99\": 1, \"20\": 6, \"95\": 1, \"64\": 1, \"14\": 1, \"40\": 2}, \"124\": {\"120\": 1, \"59\": 1, \"48\": 2, \"124\": 66, \"129\": 1, \"125\": 9, \"42\": 2, \"102\": 11, \"111\": 8, \"4\": 3, \"90\": 4, \"117\": 6, \"98\": 1, \"104\": 1, \"17\": 1, \"70\": 1, \"19\": 1, \"116\": 1}, \"99\": {\"99\": 15, \"83\": 1, \"89\": 1, \"100\": 4, \"75\": 1, \"84\": 3, \"53\": 1, \"40\": 2, \"34\": 1, \"9\": 2, \"97\": 1, \"107\": 1, \"44\": 2, \"105\": 2, \"70\": 1, \"114\": 2}, \"120\": {\"109\": 1, \"120\": 11, \"121\": 2, \"86\": 1, \"57\": 2, \"111\": 1, \"6\": 1, \"21\": 1}, \"76\": {\"91\": 1, \"99\": 1, \"33\": 1, \"76\": 2, \"112\": 1, \"30\": 1, \"95\": 1, \"25\": 1, \"9\": 1, \"121\": 1, \"47\": 1, \"119\": 1, \"83\": 1, \"107\": 1, \"41\": 1}, \"110\": {\"118\": 2, \"110\": 23, \"15\": 5, \"108\": 2, \"7\": 6, \"94\": 5, \"113\": 3, \"11\": 5, \"30\": 4, \"8\": 6, \"62\": 1, \"109\": 6, \"127\": 1, \"70\": 3, \"126\": 4, \"43\": 7, \"3\": 1, \"93\": 6, \"12\": 2, \"101\": 6, \"10\": 1, \"87\": 5, \"39\": 3, \"106\": 3, \"71\": 1, \"0\": 1, \"27\": 1, \"24\": 1, \"26\": 1, \"36\": 1}, \"29\": {\"76\": 1, \"119\": 1, \"29\": 17, \"32\": 1, \"125\": 1, \"24\": 1, \"61\": 1, \"91\": 1, \"83\": 1, \"111\": 1, \"6\": 2, \"42\": 2, \"129\": 2}, \"118\": {\"96\": 1, \"118\": 32, \"110\": 3, \"11\": 12, \"1\": 2, \"8\": 3, \"109\": 3, \"7\": 6, \"0\": 2, \"71\": 2, \"113\": 2, \"84\": 2, \"10\": 1, \"12\": 5, \"27\": 2, \"127\": 2, \"43\": 2, \"70\": 1, \"93\": 4, \"122\": 5, \"5\": 1, \"101\": 4, \"87\": 3, \"39\": 1, \"21\": 1, \"78\": 1, \"15\": 2, \"62\": 2, \"126\": 3, \"16\": 1, \"88\": 1}, \"58\": {\"91\": 1, \"83\": 1, \"123\": 1, \"77\": 1, \"112\": 1, \"58\": 4, \"88\": 2, \"89\": 1, \"41\": 2, \"52\": 1, \"107\": 1}, \"13\": {\"65\": 1, \"125\": 1, \"68\": 1, \"123\": 1, \"13\": 7, \"86\": 1, \"111\": 1, \"41\": 1, \"50\": 1, \"117\": 1}, \"89\": {\"83\": 1, \"58\": 1, \"89\": 16, \"74\": 1, \"127\": 1, \"103\": 1, \"128\": 2, \"56\": 1, \"112\": 1, \"75\": 2, \"19\": 2, \"5\": 1, \"32\": 1, \"124\": 1}, \"31\": {\"89\": 1, \"58\": 1, \"31\": 5, \"50\": 1, \"109\": 1, \"123\": 1, \"121\": 1, \"81\": 1, \"32\": 2, \"33\": 1, \"61\": 1}, \"64\": {\"92\": 1, \"65\": 1, \"61\": 1, \"64\": 3, \"2\": 2, \"124\": 1, \"66\": 1, \"111\": 1, \"67\": 1, \"103\": 1, \"101\": 1, \"129\": 2}, \"65\": {\"65\": 12}, \"101\": {\"101\": 44, \"84\": 1, \"93\": 8, \"31\": 1, \"62\": 2, \"15\": 4, \"12\": 7, \"7\": 9, \"14\": 1, \"72\": 1, \"118\": 3, \"127\": 5, \"3\": 4, \"11\": 10, \"71\": 1, \"122\": 2, \"8\": 4, \"5\": 1, \"108\": 1, \"26\": 1, \"0\": 2, \"16\": 2, \"113\": 6, \"110\": 2, \"114\": 1, \"106\": 3, \"43\": 1, \"94\": 2, \"87\": 2, \"102\": 1}, \"126\": {\"126\": 33, \"88\": 6, \"62\": 1, \"10\": 2, \"93\": 1, \"30\": 8, \"36\": 6, \"113\": 2, \"70\": 10, \"43\": 6, \"87\": 4, \"27\": 8, \"0\": 5, \"122\": 3, \"15\": 2, \"94\": 5, \"40\": 1, \"39\": 4, \"118\": 1, \"110\": 2, \"8\": 1, \"21\": 1, \"109\": 4, \"11\": 1, \"108\": 1}, \"108\": {\"30\": 2, \"70\": 6, \"108\": 35, \"27\": 8, \"36\": 4, \"87\": 2, \"39\": 4, \"109\": 6, \"126\": 4, \"43\": 2, \"107\": 1, \"5\": 1, \"88\": 1, \"24\": 6, \"10\": 9, \"82\": 1}, \"45\": {\"45\": 6, \"2\": 2, \"22\": 1, \"120\": 1, \"41\": 1, \"103\": 1, \"57\": 1, \"67\": 1, \"73\": 1, \"91\": 1}, \"21\": {\"21\": 33, \"30\": 1, \"70\": 1, \"78\": 2, \"88\": 2, \"102\": 1}, \"30\": {\"93\": 4, \"15\": 5, \"30\": 28, \"8\": 1, \"0\": 4, \"27\": 6, \"110\": 1, \"88\": 2, \"106\": 1, \"109\": 3, \"94\": 3, \"36\": 5, \"23\": 2, \"97\": 1, \"87\": 4, \"118\": 1, \"7\": 1, \"126\": 1, \"43\": 1, \"122\": 1, \"108\": 1}, \"82\": {\"83\": 2, \"82\": 9, \"33\": 3, \"55\": 1, \"35\": 1, \"111\": 2, \"42\": 1, \"98\": 2, \"41\": 1, \"91\": 1, \"40\": 2, \"5\": 2, \"107\": 2, \"99\": 1, \"124\": 1, \"105\": 1}, \"85\": {\"85\": 14, \"54\": 1, \"112\": 2, \"5\": 1, \"55\": 1, \"75\": 2, \"9\": 2, \"52\": 1, \"103\": 1, \"53\": 1, \"32\": 1, \"128\": 1}, \"88\": {\"88\": 106, \"126\": 2, \"24\": 1, \"78\": 3, \"97\": 1, \"21\": 2, \"70\": 5, \"27\": 1, \"10\": 5, \"108\": 3, \"39\": 3}, \"41\": {\"41\": 6, \"89\": 1, \"90\": 1, \"6\": 1, \"88\": 1, \"68\": 1, \"45\": 1, \"61\": 1, \"29\": 1, \"58\": 2}, \"128\": {\"89\": 1, \"85\": 2, \"128\": 9, \"121\": 3, \"103\": 1, \"9\": 1, \"82\": 1, \"98\": 1, \"83\": 1, \"19\": 2, \"40\": 2}, \"39\": {\"39\": 34, \"88\": 12, \"126\": 5, \"78\": 1, \"36\": 3, \"21\": 4, \"108\": 5, \"43\": 2, \"10\": 12, \"70\": 6, \"117\": 1, \"109\": 4, \"87\": 1, \"118\": 2, \"15\": 1, \"27\": 2, \"24\": 3, \"30\": 1, \"116\": 1}, \"18\": {\"18\": 66, \"70\": 1, \"84\": 4, \"27\": 1, \"3\": 2, \"26\": 9, \"98\": 4, \"69\": 13, \"10\": 2, \"105\": 3, \"14\": 1, \"108\": 1, \"1\": 2, \"40\": 1, \"107\": 1, \"16\": 3, \"88\": 1, \"126\": 2, \"71\": 2, \"5\": 1}, \"113\": {\"113\": 37, \"12\": 2, \"87\": 10, \"94\": 5, \"36\": 1, \"0\": 6, \"122\": 8, \"8\": 4, \"11\": 4, \"60\": 1, \"43\": 4, \"30\": 1, \"101\": 4, \"105\": 2, \"118\": 4, \"110\": 7, \"93\": 11, \"39\": 2, \"109\": 2, \"10\": 1, \"3\": 1, \"7\": 1, \"70\": 2, \"51\": 2, \"108\": 1, \"26\": 2, \"126\": 2, \"62\": 1}, \"11\": {\"11\": 56, \"12\": 2, \"62\": 4, \"69\": 1, \"110\": 4, \"113\": 2, \"93\": 11, \"8\": 4, \"101\": 9, \"71\": 1, \"26\": 3, \"122\": 5, \"0\": 8, \"7\": 8, \"3\": 1, \"90\": 1, \"106\": 5, \"70\": 2, \"87\": 2, \"118\": 5, \"108\": 1, \"127\": 1, \"105\": 1, \"84\": 1}, \"43\": {\"39\": 7, \"43\": 25, \"122\": 2, \"21\": 3, \"11\": 2, \"94\": 2, \"113\": 2, \"36\": 8, \"109\": 8, \"105\": 1, \"8\": 3, \"87\": 3, \"101\": 1, \"110\": 4, \"126\": 7, \"30\": 3, \"15\": 9, \"0\": 6, \"93\": 4, \"70\": 8, \"10\": 3, \"107\": 1, \"118\": 1, \"108\": 2, \"24\": 3, \"88\": 1, \"27\": 1}, \"12\": {\"12\": 53, \"30\": 1, \"93\": 2, \"16\": 2, \"127\": 5, \"110\": 1, \"11\": 3, \"7\": 4, \"26\": 4, \"118\": 3, \"106\": 8, \"101\": 4, \"71\": 1, \"1\": 1, \"96\": 1, \"62\": 2, \"81\": 1, \"108\": 1, \"84\": 1, \"0\": 1, \"70\": 1}, \"122\": {\"126\": 4, \"122\": 17, \"43\": 2, \"24\": 2, \"27\": 2, \"60\": 1, \"113\": 1, \"70\": 4, \"109\": 3, \"94\": 2, \"62\": 4, \"87\": 11, \"101\": 3, \"8\": 1, \"12\": 1, \"0\": 2, \"30\": 1, \"118\": 9, \"108\": 1, \"14\": 1, \"26\": 2, \"11\": 3, \"39\": 2, \"15\": 1, \"88\": 2, \"110\": 1, \"72\": 1}, \"52\": {\"52\": 6, \"34\": 1, \"46\": 2, \"47\": 2, \"38\": 1, \"72\": 1, \"41\": 2, \"58\": 1, \"73\": 1, \"92\": 1, \"98\": 1, \"14\": 1}, \"44\": {\"83\": 2, \"44\": 18, \"26\": 1, \"16\": 2, \"127\": 1, \"105\": 5, \"84\": 6, \"5\": 2, \"14\": 3, \"1\": 1, \"40\": 3, \"69\": 3, \"114\": 6, \"18\": 2, \"106\": 1, \"112\": 1, \"28\": 1, \"71\": 2, \"60\": 1, \"42\": 1, \"81\": 2}, \"90\": {\"82\": 2, \"90\": 94, \"91\": 2, \"103\": 1, \"6\": 4, \"111\": 14, \"40\": 2, \"32\": 2, \"29\": 2, \"98\": 1, \"117\": 3, \"55\": 1, \"119\": 1, \"42\": 1, \"19\": 1, \"105\": 1, \"107\": 1, \"124\": 1}, \"112\": {\"112\": 7, \"35\": 1, \"25\": 1, \"54\": 2, \"89\": 2, \"91\": 1, \"34\": 1, \"38\": 1}, \"86\": {\"102\": 2, \"4\": 2, \"86\": 16, \"65\": 1, \"104\": 1, \"50\": 1, \"13\": 2, \"124\": 1, \"59\": 1, \"48\": 1}, \"3\": {\"3\": 56, \"78\": 1, \"84\": 5, \"114\": 2, \"9\": 1, \"105\": 4, \"14\": 8, \"16\": 2, \"127\": 10, \"18\": 4, \"26\": 1, \"40\": 2, \"1\": 4, \"69\": 1, \"5\": 3, \"106\": 3, \"43\": 2, \"33\": 1, \"49\": 1, \"44\": 1, \"19\": 1, \"72\": 1, \"110\": 1, \"71\": 1}, \"38\": {\"38\": 10, \"98\": 1, \"99\": 1, \"85\": 1, \"58\": 1, \"112\": 1, \"89\": 1}, \"121\": {\"29\": 1, \"121\": 14, \"52\": 1, \"103\": 1, \"44\": 1, \"90\": 4, \"1\": 1, \"120\": 1, \"76\": 1, \"47\": 2, \"83\": 1, \"98\": 3, \"19\": 1}, \"46\": {\"46\": 8, \"6\": 1, \"112\": 1, \"81\": 1, \"114\": 3, \"20\": 1, \"52\": 1, \"9\": 1, \"77\": 1, \"47\": 1, \"102\": 1}, \"70\": {\"70\": 54, \"108\": 1, \"24\": 11, \"109\": 10, \"43\": 1, \"39\": 9, \"88\": 6, \"27\": 3, \"126\": 11, \"30\": 1, \"10\": 9, \"117\": 1, \"36\": 4, \"97\": 1, \"87\": 1, \"90\": 1}, \"67\": {\"67\": 12, \"55\": 1, \"104\": 1, \"120\": 1, \"28\": 1}, \"53\": {\"53\": 8, \"49\": 2, \"107\": 2, \"75\": 1, \"85\": 2, \"40\": 1}, \"49\": {\"49\": 19, \"53\": 1, \"26\": 2, \"34\": 2, \"99\": 1, \"105\": 2, \"84\": 1, \"95\": 1, \"72\": 1, \"40\": 1, \"60\": 1}, \"42\": {\"42\": 13, \"13\": 1, \"6\": 2, \"124\": 3, \"29\": 2, \"68\": 2, \"128\": 1, \"103\": 1, \"116\": 1, \"82\": 1, \"19\": 1}, \"10\": {\"10\": 63, \"24\": 18, \"36\": 3, \"78\": 2, \"126\": 2, \"39\": 8, \"70\": 9, \"88\": 5, \"108\": 4, \"109\": 3, \"27\": 1}, \"50\": {\"50\": 7, \"92\": 1, \"111\": 1, \"80\": 1, \"33\": 1, \"117\": 1, \"13\": 1, \"99\": 1, \"102\": 1, \"46\": 1}, \"73\": {\"57\": 1, \"73\": 13, \"112\": 2, \"42\": 1, \"125\": 1, \"107\": 1, \"58\": 1, \"63\": 1, \"121\": 2, \"95\": 1}, \"115\": {\"115\": 4, \"47\": 1, \"86\": 1, \"4\": 2, \"117\": 1, \"79\": 2, \"29\": 2, \"63\": 2, \"102\": 1}, \"80\": {\"80\": 11, \"41\": 1, \"66\": 2, \"79\": 2}, \"19\": {\"38\": 1, \"83\": 3, \"19\": 10, \"103\": 1, \"89\": 1, \"42\": 1, \"94\": 1, \"98\": 1, \"111\": 1, \"40\": 2, \"70\": 1, \"100\": 2, \"90\": 1, \"0\": 1, \"128\": 1}, \"55\": {\"55\": 7, \"98\": 1, \"19\": 1, \"90\": 2, \"91\": 1, \"46\": 1, \"67\": 1, \"103\": 1, \"119\": 1}, \"72\": {\"72\": 8, \"35\": 1, \"7\": 1, \"30\": 1, \"51\": 1, \"114\": 8, \"105\": 1, \"33\": 2, \"40\": 2, \"5\": 1, \"1\": 1, \"71\": 2, \"127\": 1, \"98\": 2}, \"117\": {\"67\": 2, \"57\": 3, \"117\": 56, \"73\": 3, \"98\": 4, \"124\": 11, \"111\": 6, \"90\": 4, \"107\": 3, \"125\": 7, \"114\": 3, \"33\": 1, \"68\": 1, \"50\": 3, \"46\": 1, \"45\": 1, \"102\": 5, \"83\": 1, \"2\": 1}, \"81\": {\"76\": 1, \"81\": 15, \"99\": 3, \"5\": 1, \"107\": 1, \"89\": 1, \"70\": 1, \"46\": 1, \"69\": 1, \"38\": 2, \"44\": 2, \"112\": 1, \"82\": 1, \"21\": 1, \"127\": 1, \"32\": 1, \"19\": 1, \"84\": 1}, \"75\": {\"99\": 2, \"75\": 4, \"84\": 1, \"114\": 1, \"85\": 1, \"76\": 2, \"25\": 1, \"53\": 1, \"32\": 2, \"40\": 1}, \"98\": {\"75\": 1, \"98\": 103, \"46\": 1, \"90\": 2, \"128\": 1, \"42\": 1, \"1\": 2, \"111\": 1, \"85\": 1, \"88\": 1, \"89\": 1, \"52\": 2, \"74\": 1, \"40\": 1, \"107\": 1}, \"48\": {\"48\": 10, \"50\": 1, \"90\": 1, \"42\": 2, \"86\": 1, \"6\": 1}, \"129\": {\"129\": 11, \"28\": 1, \"22\": 1, \"45\": 1, \"42\": 2, \"32\": 1, \"29\": 1, \"73\": 1, \"121\": 1, \"104\": 1, \"68\": 2, \"2\": 2, \"125\": 1, \"82\": 1, \"90\": 1}, \"97\": {\"30\": 1, \"88\": 3, \"36\": 1, \"8\": 1, \"24\": 2, \"121\": 1, \"97\": 7, \"70\": 2, \"122\": 1, \"78\": 1}}, \"W_1\": {\"105\": {\"106\": 5, \"1\": 10, \"105\": 25, \"44\": 1, \"14\": 3, \"69\": 1, \"96\": 2, \"118\": 1, \"89\": 1, \"113\": 3, \"16\": 5, \"7\": 1, \"84\": 10, \"62\": 1, \"107\": 2, \"3\": 2, \"127\": 4, \"26\": 4, \"60\": 1, \"0\": 1, \"40\": 1}, \"100\": {\"100\": 9, \"95\": 1, \"114\": 3, \"74\": 1, \"82\": 1, \"40\": 1}, \"112\": {\"81\": 2, \"112\": 3, \"129\": 1, \"103\": 1, \"30\": 1, \"28\": 1, \"17\": 1, \"77\": 1, \"121\": 1, \"59\": 1, \"89\": 2, \"123\": 1}, \"123\": {\"123\": 6, \"124\": 1, \"48\": 1, \"2\": 2, \"22\": 2, \"63\": 1, \"102\": 1, \"116\": 1, \"80\": 1}, \"13\": {\"67\": 1, \"123\": 1, \"13\": 11, \"104\": 1, \"45\": 1, \"68\": 1}, \"81\": {\"81\": 9, \"105\": 1, \"127\": 1, \"82\": 2, \"85\": 1, \"92\": 1, \"9\": 1, \"98\": 1, \"114\": 1, \"100\": 2, \"53\": 1, \"89\": 1, \"1\": 1, \"14\": 1, \"19\": 1, \"34\": 1, \"101\": 2}, \"124\": {\"86\": 6, \"124\": 76, \"2\": 1, \"116\": 3, \"125\": 10, \"5\": 5, \"102\": 5, \"117\": 6, \"111\": 4, \"45\": 2, \"13\": 2}, \"122\": {\"93\": 6, \"69\": 3, \"122\": 20, \"126\": 2, \"113\": 2, \"24\": 1, \"21\": 1, \"43\": 4, \"106\": 2, \"109\": 2, \"87\": 4, \"12\": 3, \"27\": 1, \"94\": 5, \"23\": 2, \"118\": 5, \"11\": 5, \"8\": 3, \"39\": 2, \"18\": 2, \"10\": 2, \"15\": 2, \"71\": 1, \"0\": 4, \"110\": 1, \"31\": 1, \"36\": 1, \"108\": 1}, \"111\": {\"112\": 1, \"111\": 91, \"6\": 1, \"64\": 1, \"45\": 1, \"46\": 1, \"68\": 3, \"116\": 2, \"109\": 2, \"5\": 6, \"124\": 2, \"117\": 3, \"102\": 1, \"86\": 1, \"61\": 1, \"17\": 1, \"92\": 1, \"98\": 1}, \"93\": {\"87\": 6, \"122\": 2, \"27\": 4, \"93\": 63, \"118\": 1, \"10\": 13, \"97\": 1, \"39\": 9, \"8\": 2, \"108\": 6, \"94\": 6, \"88\": 4, \"12\": 1, \"21\": 1, \"15\": 6, \"43\": 11, \"11\": 14, \"126\": 4, \"7\": 1, \"36\": 2, \"30\": 1}, \"106\": {\"105\": 2, \"106\": 63, \"127\": 3, \"18\": 4, \"84\": 12, \"12\": 5, \"101\": 3, \"113\": 4, \"62\": 1, \"16\": 4, \"7\": 8, \"71\": 1, \"88\": 3, \"122\": 1, \"43\": 1, \"1\": 1, \"36\": 2}, \"113\": {\"113\": 36, \"62\": 13, \"27\": 1, \"12\": 6, \"118\": 2, \"16\": 4, \"18\": 10, \"69\": 11, \"3\": 2, \"71\": 5, \"87\": 2, \"84\": 6, \"7\": 2, \"44\": 1, \"26\": 6, \"109\": 1, \"40\": 1, \"106\": 3, \"8\": 1, \"110\": 6, \"114\": 1, \"23\": 1, \"127\": 2, \"1\": 1}, \"95\": {\"100\": 4, \"95\": 14, \"90\": 2, \"20\": 3, \"74\": 1, \"128\": 1, \"83\": 1, \"107\": 1, \"89\": 2, \"33\": 1, \"114\": 2, \"127\": 2, \"98\": 1, \"5\": 1}, \"87\": {\"87\": 24, \"122\": 8, \"7\": 5, \"84\": 1, \"78\": 1, \"30\": 2, \"36\": 2, \"15\": 9, \"8\": 6, \"0\": 3, \"43\": 6, \"94\": 4, \"11\": 8, \"108\": 1, \"12\": 3, \"39\": 2, \"93\": 10, \"126\": 4, \"118\": 4, \"27\": 2, \"101\": 1, \"110\": 1, \"113\": 1}, \"86\": {\"86\": 13, \"124\": 3, \"125\": 2, \"112\": 1, \"41\": 1, \"91\": 2, \"24\": 1, \"42\": 3, \"129\": 2, \"64\": 1, \"79\": 1, \"55\": 1, \"119\": 2, \"28\": 1, \"111\": 2}, \"67\": {\"67\": 14, \"129\": 2}, \"85\": {\"112\": 1, \"85\": 12, \"103\": 2, \"82\": 5, \"53\": 1, \"99\": 2, \"98\": 2, \"111\": 1, \"66\": 1, \"89\": 1, \"52\": 2, \"32\": 2}, \"82\": {\"82\": 20, \"112\": 2, \"85\": 1, \"28\": 1, \"19\": 1, \"53\": 1, \"49\": 1, \"111\": 1, \"14\": 1, \"73\": 1, \"75\": 2, \"108\": 1, \"114\": 1, \"98\": 1, \"5\": 1}, \"115\": {\"115\": 7, \"65\": 1, \"48\": 3, \"2\": 1}, \"7\": {\"0\": 6, \"7\": 43, \"113\": 5, \"26\": 1, \"18\": 8, \"39\": 1, \"8\": 7, \"127\": 5, \"110\": 13, \"84\": 4, \"71\": 4, \"122\": 2, \"107\": 2, \"106\": 6, \"36\": 3, \"94\": 3, \"43\": 4, \"62\": 3, \"15\": 5, \"12\": 5, \"87\": 1, \"101\": 3, \"118\": 2, \"126\": 1, \"27\": 2, \"3\": 2, \"11\": 1}, \"44\": {\"44\": 57, \"9\": 4, \"100\": 1, \"35\": 1, \"21\": 1, \"71\": 5, \"114\": 1, \"101\": 2, \"127\": 2, \"98\": 1, \"62\": 1}, \"65\": {\"28\": 1, \"129\": 1, \"65\": 7, \"61\": 2, \"38\": 1}, \"129\": {\"115\": 1, \"82\": 1, \"67\": 3, \"5\": 1, \"112\": 1, \"129\": 7, \"94\": 1, \"117\": 3, \"124\": 1, \"73\": 2, \"102\": 1, \"4\": 1, \"77\": 1, \"121\": 1, \"111\": 1, \"122\": 1, \"19\": 1}, \"42\": {\"42\": 21, \"28\": 1, \"19\": 1, \"91\": 1, \"54\": 1, \"68\": 1, \"111\": 2}, \"28\": {\"88\": 1, \"129\": 1, \"120\": 1, \"64\": 1, \"111\": 3, \"9\": 1, \"28\": 7, \"86\": 1, \"83\": 1, \"35\": 1, \"124\": 1, \"24\": 1}, \"0\": {\"0\": 44, \"93\": 1, \"110\": 8, \"118\": 1, \"106\": 2, \"12\": 4, \"113\": 1, \"122\": 2, \"127\": 1, \"18\": 5, \"43\": 2, \"71\": 2, \"36\": 1, \"8\": 5, \"1\": 1, \"7\": 1, \"24\": 1, \"3\": 1, \"11\": 1}, \"10\": {\"10\": 54, \"88\": 16, \"93\": 3, \"109\": 10, \"11\": 1, \"24\": 9, \"70\": 8, \"108\": 8, \"126\": 4, \"39\": 4, \"43\": 3}, \"76\": {\"76\": 4, \"6\": 1, \"85\": 1, \"100\": 1, \"23\": 1, \"128\": 2, \"126\": 1, \"44\": 1, \"89\": 1, \"9\": 2, \"114\": 1}, \"88\": {\"10\": 11, \"88\": 56, \"109\": 7, \"21\": 3, \"30\": 4, \"93\": 4, \"70\": 10, \"24\": 9, \"11\": 1, \"126\": 7, \"108\": 11, \"27\": 1, \"39\": 2}, \"29\": {\"76\": 1, \"85\": 1, \"73\": 2, \"29\": 22, \"47\": 1, \"83\": 1}, \"16\": {\"44\": 2, \"16\": 31, \"118\": 1, \"3\": 4, \"113\": 5, \"26\": 9, \"69\": 4, \"1\": 3, \"84\": 3, \"110\": 2, \"127\": 7, \"40\": 3, \"62\": 13, \"106\": 1, \"18\": 3, \"114\": 4, \"7\": 1, \"101\": 3, \"24\": 1, \"105\": 1, \"34\": 1, \"36\": 1, \"0\": 1, \"14\": 1, \"12\": 1, \"126\": 1, \"107\": 1}, \"41\": {\"42\": 1, \"41\": 3, \"104\": 1, \"45\": 1, \"6\": 4, \"112\": 2, \"48\": 1, \"90\": 1, \"121\": 1, \"22\": 1}, \"27\": {\"0\": 1, \"39\": 5, \"122\": 4, \"27\": 44, \"43\": 5, \"94\": 2, \"88\": 4, \"126\": 5, \"108\": 2, \"11\": 7, \"15\": 1, \"30\": 1, \"70\": 1, \"87\": 1, \"93\": 6, \"36\": 2, \"8\": 1}, \"33\": {\"33\": 99, \"114\": 6, \"14\": 3, \"1\": 2, \"40\": 2, \"3\": 1, \"16\": 1, \"84\": 1, \"72\": 1, \"19\": 1, \"32\": 1, \"6\": 1, \"105\": 1}, \"75\": {\"1\": 1, \"99\": 1, \"72\": 1, \"75\": 7, \"9\": 1, \"51\": 1, \"19\": 1, \"34\": 1, \"44\": 1, \"53\": 1}, \"48\": {\"48\": 8, \"41\": 1, \"79\": 2, \"115\": 1}, \"56\": {\"56\": 4, \"75\": 1, \"19\": 2, \"107\": 1, \"38\": 1, \"29\": 2, \"98\": 1}, \"9\": {\"9\": 14, \"75\": 3, \"105\": 1, \"100\": 1, \"49\": 1, \"29\": 1, \"99\": 1, \"95\": 1, \"44\": 1, \"114\": 1, \"72\": 1, \"40\": 3, \"3\": 1, \"88\": 1, \"107\": 1}, \"1\": {\"1\": 66, \"40\": 9, \"14\": 7, \"16\": 6, \"101\": 5, \"49\": 1, \"44\": 3, \"9\": 1, \"3\": 6, \"105\": 2, \"114\": 8, \"33\": 4, \"106\": 1, \"96\": 1, \"109\": 1, \"107\": 3, \"84\": 2}, \"39\": {\"27\": 7, \"88\": 4, \"39\": 33, \"126\": 6, \"30\": 3, \"93\": 4, \"43\": 8, \"110\": 1, \"36\": 6, \"10\": 3, \"24\": 3, \"11\": 10, \"108\": 1, \"109\": 6, \"8\": 1, \"97\": 1, \"78\": 1, \"87\": 1, \"70\": 2, \"94\": 2, \"18\": 1}, \"50\": {\"93\": 1, \"99\": 1, \"50\": 9, \"4\": 1, \"20\": 1, \"33\": 1, \"79\": 1, \"10\": 1}, \"99\": {\"56\": 3, \"99\": 6, \"89\": 3, \"34\": 1, \"52\": 2, \"93\": 1, \"9\": 1, \"76\": 1, \"44\": 1, \"107\": 1, \"85\": 1, \"49\": 1, \"29\": 1, \"83\": 1}, \"90\": {\"90\": 110, \"77\": 2, \"42\": 1, \"107\": 2, \"20\": 1, \"91\": 1, \"53\": 1, \"5\": 1, \"98\": 1, \"111\": 1, \"124\": 1}, \"45\": {\"104\": 1, \"45\": 6, \"112\": 1, \"13\": 1, \"66\": 1, \"42\": 1, \"39\": 1}, \"5\": {\"67\": 2, \"5\": 59, \"55\": 2, \"58\": 1, \"129\": 1, \"117\": 8, \"124\": 1, \"111\": 4, \"98\": 2, \"33\": 1, \"66\": 1, \"42\": 1, \"32\": 1, \"92\": 1, \"116\": 1, \"82\": 1, \"102\": 1}, \"128\": {\"128\": 8, \"32\": 1, \"19\": 3, \"90\": 2, \"98\": 1, \"114\": 1, \"99\": 1, \"89\": 1, \"82\": 1, \"47\": 1, \"5\": 1, \"55\": 1, \"81\": 1, \"92\": 1}, \"2\": {\"45\": 3, \"41\": 1, \"6\": 1, \"2\": 15, \"32\": 1, \"79\": 1, \"13\": 2, \"121\": 1, \"115\": 1, \"10\": 1, \"112\": 1, \"120\": 1, \"19\": 1, \"102\": 1, \"58\": 1}, \"53\": {\"53\": 9, \"71\": 2, \"81\": 2, \"85\": 2, \"72\": 1, \"32\": 2, \"75\": 2}, \"104\": {\"104\": 9, \"2\": 1, \"119\": 2, \"121\": 1, \"68\": 2, \"6\": 1}, \"32\": {\"128\": 1, \"32\": 16, \"52\": 1, \"107\": 1, \"49\": 1, \"76\": 2, \"89\": 1, \"92\": 3, \"66\": 1, \"54\": 1, \"85\": 2, \"29\": 2}, \"92\": {\"128\": 1, \"92\": 20, \"19\": 2, \"98\": 3, \"90\": 1, \"38\": 1}, \"78\": {\"78\": 10, \"93\": 2, \"108\": 1, \"70\": 2, \"39\": 1}, \"19\": {\"92\": 1, \"19\": 8, \"73\": 2, \"98\": 4, \"100\": 1, \"76\": 2, \"81\": 2, \"66\": 1, \"29\": 1, \"75\": 1, \"90\": 2, \"120\": 1, \"52\": 1, \"121\": 1}, \"120\": {\"67\": 1, \"120\": 13, \"64\": 1, \"71\": 1, \"83\": 2, \"5\": 2}, \"43\": {\"43\": 27, \"118\": 3, \"122\": 5, \"11\": 13, \"94\": 5, \"39\": 11, \"93\": 8, \"87\": 8, \"109\": 6, \"36\": 7, \"15\": 6, \"10\": 7, \"126\": 3, \"7\": 2, \"84\": 1, \"110\": 2, \"12\": 1, \"30\": 1, \"108\": 4, \"70\": 3, \"69\": 1, \"106\": 1, \"24\": 1, \"8\": 2}, \"74\": {\"74\": 6, \"81\": 1, \"1\": 1, \"75\": 1, \"20\": 1, \"29\": 1, \"100\": 2, \"14\": 1, \"34\": 1, \"47\": 1}, \"11\": {\"11\": 48, \"43\": 8, \"27\": 4, \"122\": 2, \"30\": 1, \"87\": 8, \"24\": 4, \"12\": 1, \"10\": 5, \"88\": 4, \"94\": 1, \"93\": 12, \"108\": 3, \"39\": 4, \"36\": 11, \"98\": 1, \"15\": 2, \"8\": 2, \"126\": 5, \"109\": 2, \"78\": 2}, \"26\": {\"26\": 62, \"127\": 2, \"1\": 2, \"69\": 17, \"114\": 1, \"16\": 3, \"3\": 5, \"14\": 5, \"122\": 1, \"113\": 1, \"62\": 7, \"105\": 4, \"18\": 2, \"84\": 7, \"106\": 3, \"101\": 1, \"70\": 2, \"33\": 1, \"21\": 1, \"118\": 2, \"71\": 1, \"110\": 2}, \"125\": {\"125\": 119, \"58\": 1, \"28\": 1, \"57\": 1, \"124\": 6, \"41\": 1, \"6\": 1, \"102\": 1, \"117\": 1}, \"64\": {\"120\": 1, \"28\": 1, \"54\": 1, \"73\": 1, \"64\": 2, \"66\": 1, \"121\": 1, \"58\": 2, \"68\": 2, \"86\": 1, \"83\": 1, \"61\": 2}, \"127\": {\"127\": 59, \"101\": 10, \"9\": 2, \"12\": 5, \"36\": 1, \"71\": 6, \"114\": 2, \"3\": 2, \"40\": 2, \"106\": 7, \"16\": 2, \"105\": 5, \"62\": 1, \"21\": 1, \"69\": 1, \"14\": 1, \"94\": 1}, \"83\": {\"6\": 1, \"67\": 1, \"52\": 1, \"73\": 1, \"83\": 6, \"49\": 1, \"92\": 1, \"40\": 2, \"88\": 1, \"42\": 1, \"98\": 1, \"90\": 1, \"111\": 1, \"20\": 1, \"119\": 1, \"76\": 1, \"104\": 1, \"38\": 1, \"95\": 1, \"91\": 1, \"112\": 2}, \"118\": {\"110\": 5, \"0\": 2, \"43\": 1, \"118\": 31, \"93\": 6, \"94\": 1, \"87\": 4, \"78\": 1, \"106\": 2, \"18\": 5, \"113\": 4, \"62\": 1, \"16\": 1, \"7\": 3, \"15\": 3, \"8\": 2, \"101\": 1, \"11\": 1, \"39\": 3, \"69\": 1, \"3\": 1, \"1\": 1, \"108\": 1, \"12\": 1, \"71\": 1, \"109\": 1}, \"103\": {\"103\": 6, \"85\": 2, \"30\": 1, \"77\": 1, \"29\": 1, \"32\": 2, \"104\": 1, \"83\": 1, \"81\": 1}, \"55\": {\"115\": 1, \"55\": 7, \"5\": 1, \"59\": 2, \"111\": 1}, \"110\": {\"110\": 84, \"96\": 1, \"94\": 2, \"113\": 2, \"18\": 3, \"15\": 2, \"62\": 2, \"87\": 1, \"36\": 1, \"0\": 6, \"7\": 10, \"106\": 1, \"8\": 3, \"105\": 1, \"101\": 1, \"84\": 1, \"118\": 4, \"12\": 1}, \"30\": {\"30\": 30, \"126\": 4, \"97\": 1, \"93\": 1, \"39\": 1, \"27\": 5, \"24\": 2, \"11\": 4, \"94\": 1, \"6\": 1, \"88\": 2}, \"51\": {\"51\": 13, \"34\": 1, \"92\": 1, \"44\": 1}, \"6\": {\"6\": 21, \"64\": 1, \"54\": 2, \"83\": 1, \"42\": 1, \"90\": 1, \"45\": 1, \"25\": 1, \"121\": 1, \"22\": 1, \"111\": 1}, \"96\": {\"96\": 10, \"51\": 1, \"110\": 1, \"30\": 2, \"106\": 1, \"89\": 1, \"12\": 1, \"18\": 1, \"94\": 1, \"127\": 1}, \"114\": {\"114\": 84, \"14\": 11, \"93\": 1, \"9\": 3, \"40\": 7, \"85\": 1, \"107\": 10, \"1\": 6, \"33\": 12, \"44\": 1, \"34\": 1, \"127\": 1, \"95\": 1, \"81\": 1, \"3\": 2, \"21\": 1, \"98\": 1}, \"69\": {\"69\": 61, \"113\": 4, \"26\": 8, \"110\": 4, \"101\": 4, \"62\": 9, \"14\": 1, \"114\": 1, \"18\": 3, \"109\": 1, \"84\": 3, \"7\": 1, \"34\": 1, \"3\": 1, \"118\": 1, \"127\": 1, \"16\": 1, \"40\": 1, \"93\": 1, \"12\": 1}, \"60\": {\"60\": 11, \"97\": 1, \"71\": 1, \"113\": 1, \"91\": 1, \"21\": 1}, \"94\": {\"94\": 56, \"96\": 1, \"122\": 2, \"97\": 1, \"15\": 3, \"27\": 3, \"11\": 2, \"8\": 5, \"36\": 6, \"87\": 3, \"113\": 1, \"118\": 2, \"126\": 1, \"0\": 2, \"109\": 1, \"43\": 1, \"12\": 2}, \"79\": {\"48\": 2, \"79\": 6, \"123\": 1, \"55\": 1, \"65\": 2}, \"126\": {\"126\": 53, \"27\": 7, \"93\": 5, \"10\": 10, \"11\": 3, \"36\": 7, \"12\": 1, \"122\": 2, \"24\": 7, \"94\": 5, \"118\": 1, \"88\": 7, \"43\": 4, \"39\": 3, \"108\": 12, \"70\": 1, \"87\": 2, \"109\": 4}, \"68\": {\"112\": 2, \"68\": 7, \"61\": 1, \"6\": 1, \"129\": 1, \"64\": 1, \"55\": 2, \"102\": 1}, \"72\": {\"75\": 2, \"72\": 16, \"51\": 1, \"1\": 2, \"82\": 1, \"60\": 2, \"101\": 2, \"49\": 1, \"53\": 1, \"84\": 1, \"74\": 1, \"56\": 1, \"40\": 1}, \"63\": {\"63\": 9, \"102\": 1, \"46\": 1, \"125\": 1, \"55\": 1, \"79\": 1, \"17\": 1, \"22\": 1}, \"22\": {\"38\": 1, \"63\": 1, \"120\": 1, \"116\": 2, \"2\": 2, \"22\": 3, \"129\": 1, \"67\": 1, \"113\": 1, \"5\": 1, \"91\": 1, \"46\": 1}, \"121\": {\"64\": 3, \"54\": 1, \"77\": 1, \"37\": 1, \"120\": 1, \"121\": 8, \"61\": 1, \"53\": 1, \"83\": 2, \"17\": 2, \"112\": 1, \"2\": 2, \"90\": 1, \"22\": 1, \"91\": 1, \"124\": 1, \"28\": 1, \"15\": 1, \"129\": 2}, \"71\": {\"71\": 57, \"72\": 1, \"70\": 2, \"31\": 1, \"60\": 1, \"113\": 3, \"7\": 3, \"127\": 6, \"114\": 1, \"40\": 2, \"84\": 3, \"101\": 3, \"10\": 2, \"106\": 7, \"14\": 1, \"12\": 3, \"62\": 1, \"9\": 1, \"16\": 2, \"44\": 3, \"105\": 2, \"3\": 1, \"90\": 1, \"109\": 1}, \"54\": {\"54\": 4, \"121\": 3, \"47\": 1, \"98\": 2, \"81\": 1, \"90\": 2, \"42\": 1, \"111\": 2}, \"102\": {\"102\": 68, \"22\": 2, \"109\": 1, \"59\": 1, \"124\": 8, \"111\": 5, \"4\": 3, \"117\": 11, \"98\": 2, \"125\": 3, \"5\": 6, \"62\": 1, \"47\": 1, \"123\": 2, \"2\": 1, \"58\": 1, \"6\": 2, \"86\": 1, \"82\": 1}, \"73\": {\"73\": 6, \"88\": 1, \"20\": 1, \"81\": 1, \"9\": 1, \"83\": 1, \"1\": 1, \"89\": 1, \"25\": 2, \"49\": 1, \"72\": 1, \"29\": 1, \"71\": 2}, \"38\": {\"38\": 10, \"121\": 2, \"111\": 1, \"64\": 2, \"28\": 1}, \"4\": {\"4\": 73, \"125\": 8, \"86\": 1, \"124\": 5, \"10\": 1, \"117\": 2, \"123\": 1, \"65\": 1, \"48\": 1, \"13\": 1, \"116\": 2, \"27\": 2, \"102\": 2}, \"52\": {\"52\": 13, \"81\": 3, \"85\": 1, \"83\": 1, \"99\": 1, \"92\": 1}, \"70\": {\"70\": 95, \"109\": 5, \"10\": 12, \"97\": 1, \"21\": 3, \"108\": 3, \"11\": 1, \"88\": 5, \"43\": 1, \"90\": 1, \"27\": 1}, \"91\": {\"91\": 15, \"19\": 1, \"2\": 2, \"121\": 2, \"6\": 1, \"90\": 4, \"54\": 1, \"66\": 1, \"28\": 1}, \"77\": {\"77\": 12, \"104\": 2, \"90\": 1, \"129\": 1}, \"20\": {\"20\": 11, \"107\": 1, \"81\": 1, \"100\": 1, \"32\": 1, \"52\": 1}, \"59\": {\"59\": 9, \"66\": 2, \"125\": 1}, \"40\": {\"1\": 10, \"20\": 1, \"97\": 1, \"34\": 1, \"60\": 1, \"81\": 1, \"40\": 53, \"26\": 1, \"101\": 3, \"109\": 2, \"72\": 1, \"3\": 8, \"14\": 9, \"114\": 13, \"107\": 2, \"127\": 3, \"16\": 4, \"62\": 2, \"33\": 3, \"106\": 2, \"12\": 4, \"35\": 1, \"75\": 1, \"44\": 2, \"9\": 1, \"82\": 1, \"105\": 2, \"71\": 1, \"113\": 1, \"84\": 1}, \"98\": {\"20\": 1, \"98\": 98, \"50\": 1, \"89\": 1, \"124\": 1, \"5\": 2, \"77\": 1, \"85\": 1, \"111\": 1, \"117\": 1}, \"46\": {\"13\": 1, \"64\": 1, \"38\": 1, \"25\": 1, \"45\": 1, \"111\": 1, \"129\": 1, \"22\": 2, \"90\": 1, \"4\": 1, \"91\": 1}, \"34\": {\"14\": 2, \"81\": 3, \"32\": 2, \"34\": 11, \"29\": 3, \"51\": 1, \"89\": 1, \"98\": 1, \"74\": 1, \"20\": 1, \"47\": 1, \"75\": 1, \"128\": 1, \"127\": 1, \"83\": 1, \"114\": 1}, \"24\": {\"24\": 47, \"30\": 3, \"10\": 13, \"126\": 4, \"36\": 2, \"70\": 2, \"88\": 5, \"93\": 1, \"109\": 3, \"39\": 2, \"11\": 2, \"78\": 1, \"108\": 3, \"96\": 2, \"94\": 1, \"27\": 1}, \"62\": {\"62\": 72, \"1\": 2, \"16\": 8, \"69\": 10, \"110\": 5, \"26\": 8, \"118\": 2, \"18\": 1, \"101\": 3, \"107\": 1, \"68\": 1, \"33\": 1, \"90\": 1, \"12\": 1, \"109\": 1, \"113\": 3}, \"14\": {\"14\": 46, \"49\": 1, \"113\": 2, \"105\": 6, \"1\": 7, \"107\": 3, \"3\": 4, \"40\": 8, \"16\": 3, \"33\": 4, \"69\": 1, \"84\": 1, \"101\": 1, \"62\": 2, \"26\": 1, \"74\": 1, \"95\": 1, \"127\": 1, \"44\": 2, \"114\": 1}, \"12\": {\"44\": 1, \"12\": 40, \"113\": 5, \"16\": 2, \"106\": 9, \"70\": 3, \"23\": 1, \"127\": 4, \"71\": 6, \"101\": 6, \"105\": 3, \"0\": 2, \"40\": 1, \"7\": 6, \"8\": 3, \"84\": 2, \"15\": 1, \"96\": 2, \"88\": 1, \"26\": 1, \"109\": 1, \"18\": 1, \"1\": 2, \"62\": 1}, \"84\": {\"110\": 15, \"118\": 2, \"62\": 2, \"84\": 40, \"16\": 5, \"3\": 1, \"9\": 1, \"127\": 4, \"18\": 6, \"71\": 3, \"7\": 9, \"113\": 9, \"105\": 6, \"27\": 2, \"101\": 4, \"106\": 7, \"26\": 5, \"12\": 3, \"40\": 1, \"109\": 1, \"31\": 2, \"69\": 1, \"0\": 1, \"107\": 2, \"1\": 1, \"88\": 1}, \"37\": {\"37\": 14, \"104\": 2}, \"97\": {\"27\": 1, \"43\": 1, \"70\": 1, \"126\": 2, \"94\": 2, \"93\": 2, \"15\": 2, \"36\": 1, \"97\": 3, \"10\": 1, \"39\": 1, \"24\": 1, \"8\": 1, \"108\": 1}, \"57\": {\"57\": 10, \"5\": 1, \"41\": 1}, \"49\": {\"114\": 2, \"49\": 8, \"53\": 2, \"9\": 2, \"72\": 2, \"73\": 1, \"69\": 1, \"97\": 1, \"107\": 1}, \"17\": {\"17\": 7, \"65\": 1, \"86\": 1, \"121\": 3, \"104\": 1, \"129\": 1, \"124\": 2}, \"109\": {\"109\": 54, \"39\": 2, \"10\": 15, \"87\": 1, \"21\": 2, \"70\": 14, \"93\": 1, \"24\": 2, \"126\": 1, \"88\": 11, \"108\": 2, \"11\": 1}, \"80\": {\"65\": 1, \"80\": 15}, \"66\": {\"64\": 2, \"66\": 4, \"38\": 1, \"2\": 1, \"45\": 1, \"98\": 2, \"5\": 1, \"85\": 2, \"82\": 1, \"28\": 1}, \"101\": {\"101\": 78, \"127\": 11, \"44\": 4, \"26\": 1, \"16\": 3, \"71\": 7, \"7\": 1, \"84\": 2, \"12\": 3, \"31\": 3, \"3\": 2, \"1\": 3, \"70\": 1, \"40\": 2, \"106\": 2, \"113\": 1}, \"89\": {\"71\": 1, \"89\": 13, \"46\": 1, \"76\": 2, \"98\": 3, \"29\": 1, \"90\": 1, \"32\": 2, \"83\": 2, \"111\": 1, \"85\": 2, \"37\": 1, \"128\": 1, \"5\": 1, \"19\": 2, \"42\": 1, \"95\": 1}, \"31\": {\"71\": 1, \"101\": 2, \"51\": 1, \"16\": 1, \"62\": 1, \"35\": 3, \"1\": 1, \"52\": 1, \"31\": 3, \"3\": 1, \"49\": 1}, \"21\": {\"21\": 30, \"78\": 2, \"80\": 1, \"126\": 2, \"98\": 1, \"70\": 1, \"109\": 3}, \"23\": {\"23\": 5, \"101\": 2, \"70\": 1, \"122\": 1, \"43\": 2, \"1\": 1, \"126\": 1, \"84\": 3, \"12\": 1, \"15\": 2, \"94\": 1, \"113\": 1, \"118\": 1, \"71\": 1, \"30\": 1}, \"25\": {\"99\": 1, \"25\": 5, \"42\": 3, \"117\": 2, \"111\": 1, \"128\": 1, \"30\": 1, \"2\": 1, \"55\": 1}, \"107\": {\"72\": 2, \"107\": 68, \"1\": 5, \"95\": 1, \"114\": 11, \"40\": 6, \"127\": 1, \"44\": 2, \"14\": 4, \"88\": 1, \"98\": 3, \"101\": 1, \"49\": 1, \"50\": 1, \"76\": 1, \"128\": 1, \"81\": 1, \"94\": 1, \"62\": 1}, \"3\": {\"60\": 2, \"3\": 53, \"105\": 5, \"71\": 1, \"84\": 1, \"14\": 2, \"1\": 6, \"36\": 1, \"10\": 1, \"16\": 4, \"126\": 1, \"40\": 1, \"125\": 1, \"106\": 3, \"127\": 4, \"101\": 1, \"113\": 1}, \"61\": {\"61\": 4, \"17\": 1, \"68\": 1, \"89\": 1, \"86\": 1, \"66\": 1, \"65\": 1, \"111\": 1, \"56\": 1}, \"117\": {\"17\": 1, \"103\": 1, \"82\": 2, \"5\": 13, \"129\": 1, \"117\": 60, \"98\": 5, \"124\": 12, \"90\": 4, \"85\": 2, \"102\": 12, \"88\": 1, \"111\": 4, \"125\": 3, \"120\": 1, \"121\": 1, \"6\": 1, \"107\": 2}, \"119\": {\"119\": 5, \"116\": 3, \"58\": 1, \"104\": 2, \"2\": 1, \"35\": 1, \"65\": 1, \"17\": 1, \"124\": 1}, \"58\": {\"54\": 2, \"104\": 1, \"37\": 1, \"5\": 1, \"58\": 5, \"117\": 1, \"46\": 1}, \"47\": {\"20\": 1, \"14\": 1, \"34\": 1, \"107\": 1, \"29\": 2, \"74\": 1, \"47\": 3, \"40\": 1, \"89\": 1}, \"116\": {\"22\": 2, \"68\": 1, \"61\": 1, \"95\": 1, \"125\": 4, \"86\": 2, \"35\": 1, \"116\": 7, \"124\": 2, \"111\": 3, \"59\": 2, \"73\": 1, \"5\": 1, \"82\": 1, \"112\": 1, \"114\": 1, \"4\": 1}, \"18\": {\"18\": 45, \"16\": 1, \"113\": 10, \"99\": 1, \"0\": 3, \"31\": 1, \"7\": 3, \"110\": 6, \"122\": 2, \"118\": 7, \"71\": 2, \"36\": 1, \"69\": 10, \"44\": 2, \"127\": 2, \"26\": 4, \"43\": 3, \"84\": 3, \"101\": 2, \"106\": 4, \"1\": 1, \"88\": 1, \"12\": 2, \"51\": 1, \"109\": 1, \"62\": 3, \"3\": 2, \"40\": 1}, \"36\": {\"36\": 56, \"109\": 1, \"30\": 2, \"110\": 2, \"24\": 1, \"11\": 5, \"8\": 16, \"15\": 6, \"87\": 6, \"94\": 7, \"27\": 3, \"0\": 2, \"126\": 2, \"70\": 1, \"7\": 4, \"84\": 1, \"97\": 2, \"23\": 1, \"106\": 1, \"10\": 1, \"93\": 1, \"43\": 1}, \"108\": {\"108\": 61, \"10\": 8, \"88\": 10, \"30\": 3, \"126\": 8, \"11\": 4, \"36\": 1, \"109\": 5, \"78\": 1, \"24\": 5, \"96\": 1, \"39\": 1, \"27\": 1, \"21\": 2, \"8\": 1}, \"15\": {\"94\": 2, \"15\": 67, \"0\": 4, \"122\": 2, \"93\": 1, \"8\": 11, \"36\": 4, \"87\": 3, \"7\": 2, \"106\": 2, \"43\": 2, \"39\": 1, \"110\": 1, \"126\": 1, \"88\": 1}, \"8\": {\"8\": 77, \"94\": 4, \"36\": 10, \"122\": 1, \"110\": 3, \"87\": 3, \"43\": 3, \"0\": 5, \"15\": 4, \"106\": 1, \"113\": 2, \"7\": 1}, \"35\": {\"35\": 8, \"62\": 1, \"44\": 1, \"34\": 2}}, \"C_5\": {\"26\": {\"15\": 3, \"26\": 12, \"28\": 2, \"53\": 1, \"11\": 2, \"31\": 1, \"16\": 1, \"23\": 2}, \"7\": {\"14\": 1, \"7\": 30, \"43\": 1}, \"56\": {\"56\": 66, \"0\": 2, \"22\": 1, \"57\": 18, \"20\": 2, \"40\": 4, \"1\": 18, \"48\": 5, \"47\": 6, \"27\": 4, \"13\": 2, \"9\": 5, \"4\": 2, \"44\": 1, \"8\": 2, \"52\": 1, \"3\": 1, \"30\": 1, \"29\": 1}, \"36\": {\"36\": 82, \"39\": 1, \"35\": 3, \"43\": 3, \"17\": 3}, \"47\": {\"27\": 6, \"47\": 37, \"13\": 4, \"40\": 1, \"57\": 9, \"20\": 3, \"56\": 3, \"1\": 6, \"12\": 1, \"0\": 7, \"48\": 7, \"46\": 4, \"52\": 5, \"32\": 1, \"43\": 1, \"29\": 3, \"3\": 1, \"8\": 1}, \"2\": {\"14\": 4, \"2\": 15, \"34\": 1, \"41\": 1, \"38\": 2, \"17\": 1, \"35\": 1, \"7\": 2, \"29\": 1}, \"15\": {\"15\": 79, \"10\": 5, \"28\": 3, \"11\": 7, \"42\": 3, \"16\": 14, \"24\": 2, \"53\": 13, \"54\": 12, \"55\": 5, \"31\": 1, \"26\": 1, \"18\": 1, \"23\": 5, \"25\": 1}, \"14\": {\"27\": 3, \"2\": 2, \"14\": 20, \"48\": 3, \"38\": 1, \"7\": 1, \"17\": 2, \"32\": 2, \"29\": 4, \"13\": 3, \"23\": 1, \"36\": 1, \"39\": 1}, \"27\": {\"27\": 47, \"56\": 10, \"32\": 4, \"1\": 15, \"14\": 3, \"13\": 7, \"48\": 17, \"47\": 8, \"43\": 9, \"40\": 5, \"29\": 6, \"55\": 1, \"0\": 1, \"8\": 2, \"41\": 1, \"17\": 4, \"4\": 2, \"9\": 2, \"57\": 2}, \"40\": {\"40\": 71, \"50\": 1, \"47\": 5, \"56\": 9, \"1\": 10, \"30\": 1, \"52\": 1, \"5\": 3, \"48\": 5, \"9\": 5, \"44\": 3, \"57\": 2, \"4\": 5, \"0\": 1, \"22\": 2}, \"49\": {\"49\": 28, \"24\": 2, \"31\": 2, \"55\": 1, \"23\": 2, \"17\": 1}, \"45\": {\"45\": 85, \"50\": 15, \"3\": 7, \"6\": 12, \"5\": 2, \"30\": 2, \"9\": 1}, \"46\": {\"46\": 60, \"30\": 10, \"3\": 6, \"56\": 7, \"0\": 9, \"21\": 3, \"52\": 13, \"13\": 1, \"50\": 3, \"12\": 2, \"6\": 1, \"9\": 3, \"8\": 1, \"1\": 2, \"29\": 1, \"57\": 6, \"44\": 2, \"47\": 2, \"20\": 1, \"27\": 2, \"45\": 1}, \"11\": {\"15\": 15, \"11\": 80, \"16\": 16, \"18\": 2, \"10\": 2, \"28\": 1, \"23\": 2, \"31\": 1, \"53\": 2, \"54\": 1, \"25\": 5, \"55\": 1, \"24\": 1, \"19\": 1}, \"30\": {\"30\": 61, \"47\": 2, \"12\": 2, \"3\": 9, \"13\": 1, \"1\": 4, \"50\": 5, \"0\": 4, \"57\": 5, \"45\": 2, \"4\": 1, \"9\": 2, \"29\": 1, \"6\": 6, \"46\": 2, \"44\": 2, \"52\": 1, \"27\": 2}, \"0\": {\"0\": 62, \"30\": 3, \"57\": 5, \"1\": 8, \"46\": 19, \"52\": 13, \"9\": 5, \"50\": 2, \"56\": 1, \"47\": 2, \"12\": 1, \"3\": 3}, \"10\": {\"10\": 44, \"15\": 7, \"53\": 5, \"24\": 5, \"54\": 3, \"23\": 3, \"42\": 1}, \"1\": {\"1\": 45, \"56\": 12, \"47\": 11, \"40\": 5, \"57\": 24, \"4\": 5, \"0\": 6, \"48\": 3, \"52\": 3, \"27\": 16, \"9\": 12, \"29\": 2, \"46\": 2, \"8\": 1, \"30\": 1}, \"42\": {\"42\": 27, \"54\": 1, \"39\": 2, \"34\": 1, \"23\": 4, \"55\": 2, \"53\": 1, \"17\": 1, \"37\": 1}, \"54\": {\"23\": 6, \"54\": 94, \"53\": 4, \"16\": 2, \"24\": 2, \"55\": 1, \"10\": 1, \"19\": 1, \"15\": 1}, \"55\": {\"39\": 1, \"55\": 83, \"24\": 3, \"34\": 3, \"19\": 18, \"31\": 1, \"36\": 9, \"33\": 3, \"49\": 4, \"54\": 10, \"17\": 8, \"23\": 3, \"15\": 1, \"10\": 2, \"42\": 1, \"37\": 1, \"53\": 1}, \"23\": {\"54\": 21, \"23\": 31, \"10\": 5, \"11\": 5, \"31\": 4, \"16\": 7, \"38\": 2, \"17\": 9, \"14\": 1, \"24\": 5, \"53\": 5, \"15\": 11, \"55\": 2, \"36\": 4, \"43\": 4, \"29\": 1, \"13\": 2, \"37\": 1, \"39\": 1, \"27\": 1, \"19\": 2}, \"25\": {\"25\": 104, \"26\": 3, \"18\": 2, \"11\": 8, \"16\": 19, \"15\": 7, \"54\": 2, \"23\": 3, \"19\": 2, \"55\": 1, \"53\": 1}, \"28\": {\"28\": 31, \"11\": 1}, \"32\": {\"17\": 2, \"32\": 19, \"27\": 1, \"29\": 1, \"42\": 1, \"41\": 1, \"14\": 5, \"39\": 1, \"38\": 1}, \"9\": {\"9\": 61, \"46\": 9, \"44\": 10, \"40\": 1, \"43\": 1, \"3\": 7, \"21\": 1, \"0\": 3, \"6\": 5, \"48\": 1, \"5\": 8, \"57\": 4, \"30\": 9, \"1\": 3, \"56\": 4, \"47\": 3, \"4\": 5, \"8\": 1, \"52\": 1, \"12\": 2, \"13\": 2, \"50\": 1}, \"39\": {\"39\": 9, \"34\": 2, \"41\": 1, \"49\": 2, \"35\": 3, \"17\": 2, \"14\": 1}, \"3\": {\"1\": 5, \"9\": 5, \"3\": 29, \"47\": 1, \"6\": 9, \"45\": 7, \"57\": 4, \"12\": 5, \"30\": 4, \"0\": 12, \"40\": 3, \"50\": 9, \"56\": 1, \"22\": 1, \"21\": 1, \"52\": 1, \"46\": 1, \"44\": 2}, \"29\": {\"29\": 58, \"56\": 5, \"32\": 2, \"27\": 15, \"43\": 5, \"14\": 1, \"48\": 14, \"13\": 4, \"1\": 5, \"9\": 1, \"47\": 1, \"17\": 1, \"51\": 1, \"40\": 3, \"34\": 1, \"4\": 1}, \"17\": {\"23\": 4, \"17\": 35, \"41\": 5, \"42\": 1, \"14\": 5, \"20\": 1, \"55\": 9, \"24\": 4, \"36\": 8, \"27\": 3, \"43\": 14, \"54\": 11, \"53\": 1, \"10\": 1, \"8\": 1, \"48\": 1, \"29\": 2, \"39\": 1, \"37\": 1, \"32\": 2, \"49\": 1, \"35\": 1, \"13\": 3, \"19\": 1}, \"35\": {\"49\": 1, \"39\": 3, \"35\": 19, \"34\": 5, \"36\": 8}, \"44\": {\"44\": 72, \"9\": 7, \"12\": 2, \"5\": 23, \"45\": 6, \"57\": 6, \"40\": 10, \"50\": 6, \"0\": 2, \"1\": 3, \"22\": 2, \"4\": 5, \"6\": 4, \"52\": 1, \"30\": 1, \"48\": 1, \"56\": 1}, \"5\": {\"5\": 78, \"44\": 26, \"21\": 2, \"9\": 4, \"56\": 1, \"6\": 4, \"4\": 3, \"3\": 1, \"50\": 2, \"52\": 2, \"45\": 1, \"57\": 1, \"46\": 2, \"48\": 1}, \"33\": {\"33\": 22, \"37\": 1, \"31\": 1, \"36\": 3, \"35\": 3, \"55\": 1, \"19\": 1}, \"34\": {\"49\": 2, \"34\": 23, \"35\": 2, \"51\": 1, \"32\": 4, \"2\": 1, \"41\": 1, \"19\": 1, \"38\": 1}, \"13\": {\"47\": 5, \"1\": 2, \"13\": 83, \"32\": 3, \"48\": 8, \"20\": 3, \"34\": 1, \"43\": 9, \"29\": 1, \"56\": 2, \"27\": 4, \"8\": 10, \"51\": 2, \"57\": 1, \"14\": 1, \"7\": 1, \"41\": 2}, \"41\": {\"37\": 4, \"14\": 2, \"41\": 10, \"27\": 1, \"36\": 1, \"2\": 1, \"17\": 3, \"38\": 2, \"13\": 2, \"33\": 1, \"48\": 1}, \"6\": {\"6\": 50, \"3\": 13, \"45\": 7, \"4\": 4, \"0\": 4, \"9\": 9, \"30\": 4, \"46\": 5, \"12\": 5, \"22\": 2, \"50\": 15, \"5\": 2, \"44\": 8}, \"51\": {\"37\": 2, \"21\": 2, \"8\": 12, \"13\": 9, \"51\": 76, \"43\": 10, \"20\": 3, \"2\": 1, \"38\": 1, \"17\": 4, \"14\": 1, \"23\": 2, \"36\": 2, \"47\": 4, \"55\": 2, \"57\": 3, \"29\": 2, \"53\": 2}, \"50\": {\"6\": 20, \"44\": 6, \"12\": 7, \"50\": 71, \"45\": 10, \"5\": 5, \"30\": 6, \"9\": 6, \"3\": 7, \"46\": 4, \"0\": 2}, \"37\": {\"37\": 18, \"2\": 1, \"41\": 1, \"7\": 2, \"36\": 1, \"29\": 1}, \"19\": {\"55\": 25, \"19\": 91, \"36\": 2, \"24\": 1, \"33\": 1, \"31\": 4, \"17\": 3, \"23\": 1, \"54\": 11, \"11\": 3, \"15\": 1, \"16\": 1}, \"57\": {\"57\": 41, \"48\": 5, \"3\": 5, \"30\": 3, \"1\": 12, \"44\": 1, \"52\": 7, \"46\": 11, \"4\": 3, \"47\": 9, \"9\": 11, \"40\": 1, \"0\": 5, \"56\": 11, \"27\": 2, \"6\": 1, \"8\": 1, \"12\": 1, \"5\": 1, \"20\": 1}, \"21\": {\"21\": 101, \"50\": 1, \"12\": 4, \"52\": 7, \"9\": 3, \"20\": 24, \"46\": 3, \"1\": 1}, \"24\": {\"23\": 6, \"42\": 2, \"24\": 36, \"51\": 1, \"35\": 1, \"10\": 4, \"31\": 5, \"55\": 4, \"17\": 6, \"53\": 6, \"54\": 6, \"36\": 1, \"43\": 1, \"19\": 1}, \"8\": {\"21\": 9, \"8\": 50, \"56\": 3, \"29\": 2, \"1\": 2, \"57\": 6, \"7\": 1, \"52\": 6, \"47\": 6, \"13\": 12, \"43\": 9, \"14\": 1, \"20\": 9, \"46\": 1, \"48\": 4, \"51\": 5, \"0\": 2, \"36\": 1, \"27\": 1}, \"12\": {\"56\": 3, \"12\": 39, \"50\": 4, \"45\": 8, \"52\": 2, \"57\": 1, \"3\": 5, \"44\": 2, \"46\": 7, \"30\": 1, \"1\": 6, \"20\": 1, \"0\": 3, \"21\": 2, \"48\": 2, \"4\": 2, \"6\": 5, \"47\": 1, \"9\": 1, \"27\": 1}, \"48\": {\"29\": 7, \"39\": 1, \"48\": 47, \"22\": 1, \"47\": 6, \"27\": 12, \"43\": 3, \"14\": 1, \"40\": 12, \"8\": 1, \"56\": 8, \"1\": 14, \"13\": 4, \"46\": 2, \"57\": 7, \"51\": 1, \"44\": 1, \"41\": 1, \"9\": 2, \"17\": 1}, \"43\": {\"43\": 135, \"7\": 2, \"41\": 1, \"17\": 1, \"13\": 6, \"51\": 4, \"36\": 1}, \"53\": {\"37\": 3, \"53\": 85, \"10\": 5, \"23\": 8, \"17\": 9, \"24\": 3, \"15\": 8, \"54\": 5, \"11\": 7, \"16\": 4, \"55\": 2, \"19\": 3, \"51\": 1, \"2\": 1, \"31\": 1, \"36\": 1, \"25\": 1, \"27\": 1}, \"38\": {\"38\": 17, \"43\": 2, \"7\": 5, \"34\": 1, \"41\": 1, \"32\": 1, \"37\": 2, \"14\": 1, \"13\": 1, \"35\": 1}, \"16\": {\"15\": 29, \"16\": 68, \"24\": 5, \"18\": 4, \"11\": 14, \"10\": 1, \"53\": 9, \"25\": 4, \"26\": 1, \"23\": 5, \"42\": 1, \"54\": 1}, \"22\": {\"22\": 15, \"48\": 1, \"44\": 4, \"5\": 3, \"1\": 1, \"4\": 1, \"57\": 1, \"40\": 1, \"6\": 1}, \"4\": {\"4\": 36, \"5\": 14, \"57\": 1, \"44\": 11, \"45\": 3, \"40\": 4, \"47\": 3, \"56\": 1, \"29\": 1, \"9\": 8, \"46\": 2, \"50\": 5, \"30\": 1, \"6\": 3, \"22\": 2, \"1\": 2, \"52\": 1, \"48\": 1, \"3\": 1}, \"18\": {\"11\": 6, \"18\": 39, \"25\": 6, \"16\": 3, \"19\": 1, \"15\": 5, \"10\": 2, \"54\": 2}, \"20\": {\"0\": 5, \"21\": 28, \"13\": 4, \"20\": 47, \"52\": 25, \"47\": 3, \"46\": 8, \"48\": 1, \"8\": 9, \"51\": 3, \"27\": 3, \"30\": 3, \"1\": 3, \"22\": 1, \"12\": 1}, \"52\": {\"52\": 94, \"57\": 2, \"21\": 5, \"30\": 3, \"12\": 4, \"0\": 12, \"20\": 6, \"1\": 1, \"46\": 8, \"8\": 1, \"13\": 1, \"48\": 1, \"3\": 1, \"5\": 1}, \"31\": {\"31\": 27, \"15\": 2, \"55\": 2, \"54\": 1, \"42\": 1, \"19\": 2, \"16\": 1}}, \"C_1\": {\"41\": {\"41\": 21, \"2\": 1, \"47\": 1, \"51\": 1}, \"40\": {\"47\": 1, \"40\": 41, \"8\": 2, \"44\": 3, \"29\": 3, \"52\": 2, \"13\": 1, \"57\": 10, \"50\": 6, \"45\": 3, \"56\": 6, \"4\": 10, \"46\": 4, \"27\": 9, \"3\": 3, \"0\": 1, \"21\": 2, \"1\": 2, \"9\": 1}, \"45\": {\"45\": 81, \"46\": 8, \"57\": 1, \"5\": 17, \"3\": 1, \"0\": 2, \"6\": 7, \"44\": 7, \"50\": 5, \"56\": 7, \"22\": 1, \"4\": 1}, \"51\": {\"41\": 2, \"51\": 128, \"32\": 2, \"36\": 2, \"55\": 6, \"47\": 3, \"9\": 2, \"8\": 2, \"13\": 1}, \"5\": {\"45\": 11, \"5\": 131, \"46\": 3, \"44\": 4, \"50\": 1, \"6\": 1, \"20\": 1, \"3\": 2}, \"30\": {\"46\": 1, \"30\": 61, \"21\": 15, \"0\": 14, \"8\": 3, \"9\": 1, \"50\": 1, \"22\": 4, \"12\": 9, \"52\": 3, \"13\": 3, \"36\": 1, \"27\": 1, \"6\": 1, \"57\": 2}, \"42\": {\"53\": 1, \"42\": 21, \"17\": 4, \"32\": 2, \"39\": 2, \"31\": 1, \"49\": 1, \"23\": 1, \"38\": 1, \"24\": 2, \"35\": 1, \"34\": 1, \"43\": 2}, \"46\": {\"46\": 66, \"45\": 7, \"0\": 6, \"56\": 14, \"6\": 3, \"44\": 10, \"50\": 16, \"40\": 5, \"4\": 2, \"57\": 1, \"22\": 2, \"3\": 1, \"52\": 2, \"5\": 1}, \"48\": {\"29\": 1, \"48\": 52, \"57\": 4, \"8\": 17, \"2\": 1, \"47\": 8, \"36\": 3, \"9\": 14, \"52\": 7, \"21\": 1, \"43\": 8, \"51\": 4, \"55\": 2, \"13\": 4, \"1\": 2, \"14\": 1, \"38\": 1, \"49\": 2, \"27\": 1, \"22\": 1}, \"53\": {\"53\": 72, \"23\": 14, \"28\": 1, \"38\": 1, \"16\": 5, \"24\": 9, \"15\": 14, \"17\": 1, \"54\": 4, \"19\": 2, \"43\": 1, \"55\": 8, \"10\": 3, \"11\": 5, \"37\": 1, \"34\": 1, \"26\": 2}, \"47\": {\"29\": 16, \"47\": 95, \"27\": 21, \"1\": 9, \"8\": 3, \"57\": 4, \"48\": 2, \"30\": 1, \"9\": 1}, \"49\": {\"49\": 14, \"42\": 2, \"41\": 2, \"32\": 4, \"51\": 2, \"43\": 5, \"38\": 1, \"39\": 1, \"37\": 1}, \"36\": {\"51\": 2, \"30\": 1, \"36\": 28, \"48\": 5, \"8\": 10, \"47\": 1, \"13\": 5, \"22\": 1, \"21\": 2, \"52\": 4, \"29\": 1, \"9\": 3, \"1\": 1}, \"32\": {\"42\": 2, \"49\": 2, \"32\": 26, \"38\": 2}, \"34\": {\"34\": 18, \"19\": 1, \"37\": 1, \"28\": 3, \"53\": 1}, \"29\": {\"47\": 17, \"29\": 68, \"57\": 2, \"43\": 8, \"49\": 2, \"2\": 5, \"40\": 4, \"30\": 1, \"48\": 6, \"4\": 3, \"9\": 3, \"27\": 12, \"8\": 3, \"1\": 6}, \"35\": {\"31\": 2, \"35\": 16, \"42\": 2, \"17\": 2, \"19\": 4, \"23\": 5, \"10\": 1, \"39\": 1, \"37\": 1, \"7\": 1, \"32\": 1}, \"3\": {\"3\": 74, \"20\": 23, \"50\": 1, \"21\": 1, \"6\": 5, \"40\": 3, \"57\": 2, \"30\": 3, \"4\": 4, \"45\": 5, \"46\": 4, \"56\": 1, \"44\": 2, \"52\": 1, \"12\": 2, \"0\": 2, \"8\": 1}, \"16\": {\"16\": 67, \"11\": 17, \"10\": 11, \"17\": 2, \"25\": 10, \"18\": 3, \"15\": 17, \"53\": 4, \"54\": 3, \"19\": 4, \"23\": 1, \"55\": 1}, \"26\": {\"54\": 5, \"31\": 1, \"26\": 9, \"23\": 2, \"53\": 5, \"17\": 1, \"10\": 1}, \"57\": {\"57\": 76, \"4\": 14, \"52\": 2, \"21\": 1, \"30\": 2, \"50\": 2, \"46\": 3, \"56\": 4, \"0\": 3, \"40\": 10, \"9\": 1, \"8\": 2, \"22\": 1, \"27\": 11, \"29\": 2, \"47\": 7, \"14\": 1, \"43\": 1, \"36\": 1}, \"44\": {\"44\": 70, \"3\": 5, \"46\": 7, \"6\": 2, \"57\": 4, \"0\": 3, \"45\": 16, \"5\": 7, \"21\": 3, \"56\": 6, \"50\": 3, \"4\": 1, \"40\": 1}, \"0\": {\"0\": 101, \"20\": 8, \"30\": 6, \"12\": 5, \"22\": 5, \"21\": 5, \"50\": 9, \"45\": 1, \"3\": 6, \"52\": 2, \"56\": 2, \"27\": 1, \"57\": 1}, \"4\": {\"4\": 72, \"57\": 2, \"21\": 2, \"40\": 8, \"56\": 12, \"29\": 6, \"44\": 2, \"9\": 3, \"27\": 4, \"22\": 1, \"8\": 1, \"46\": 7, \"48\": 1, \"30\": 1, \"1\": 1, \"50\": 2, \"20\": 1, \"36\": 2, \"47\": 3, \"3\": 1}, \"31\": {\"31\": 26, \"7\": 1, \"39\": 1}, \"11\": {\"16\": 16, \"11\": 85, \"10\": 11, \"18\": 2, \"26\": 1, \"19\": 4, \"15\": 9, \"53\": 1, \"25\": 4, \"34\": 3, \"28\": 3, \"54\": 1}, \"6\": {\"3\": 3, \"57\": 4, \"6\": 28, \"46\": 6, \"5\": 12, \"45\": 11, \"22\": 4, \"50\": 5, \"52\": 3, \"40\": 1, \"30\": 1, \"0\": 6, \"44\": 2, \"4\": 1, \"27\": 2, \"8\": 2, \"20\": 5}, \"54\": {\"54\": 101, \"15\": 1, \"26\": 2}, \"17\": {\"41\": 4, \"37\": 2, \"32\": 4, \"17\": 19, \"42\": 2, \"7\": 2, \"23\": 3, \"55\": 9, \"38\": 2, \"31\": 2, \"2\": 1, \"24\": 3, \"43\": 4, \"39\": 2, \"19\": 1, \"15\": 1, \"54\": 2, \"33\": 1}, \"20\": {\"20\": 96, \"3\": 10, \"46\": 2, \"8\": 1, \"0\": 10, \"12\": 4, \"21\": 1, \"50\": 1, \"6\": 1, \"30\": 2}, \"13\": {\"13\": 81, \"21\": 8, \"52\": 5, \"8\": 8, \"14\": 1, \"30\": 4, \"12\": 8, \"9\": 10, \"22\": 5, \"36\": 5, \"0\": 3, \"48\": 8, \"20\": 1, \"3\": 2, \"47\": 1}, \"33\": {\"33\": 17, \"24\": 2, \"7\": 4, \"23\": 1, \"55\": 2, \"17\": 5, \"38\": 1}, \"24\": {\"17\": 6, \"24\": 51, \"23\": 18, \"55\": 18, \"49\": 2, \"37\": 1, \"39\": 1, \"54\": 3, \"15\": 1, \"31\": 1, \"42\": 1, \"53\": 2, \"19\": 2, \"43\": 1}, \"52\": {\"52\": 93, \"30\": 9, \"21\": 5, \"22\": 15, \"57\": 2, \"3\": 1, \"13\": 4, \"40\": 1, \"4\": 1, \"27\": 1}, \"2\": {\"2\": 24, \"47\": 5, \"48\": 2, \"57\": 1, \"43\": 1, \"1\": 2, \"9\": 1}, \"19\": {\"17\": 3, \"33\": 1, \"37\": 2, \"19\": 91, \"42\": 3, \"31\": 1, \"23\": 11, \"10\": 3, \"28\": 4, \"11\": 2, \"35\": 3, \"54\": 5, \"39\": 2, \"55\": 12, \"15\": 6, \"24\": 4, \"16\": 1, \"53\": 2}, \"39\": {\"2\": 1, \"39\": 14, \"42\": 1, \"47\": 1, \"32\": 1, \"23\": 1, \"17\": 2, \"31\": 1, \"49\": 1, \"43\": 1, \"7\": 2, \"37\": 2}, \"8\": {\"8\": 34, \"12\": 3, \"1\": 9, \"49\": 1, \"30\": 10, \"48\": 7, \"9\": 17, \"57\": 1, \"2\": 4, \"21\": 15, \"36\": 6, \"29\": 2, \"47\": 3, \"27\": 2, \"51\": 2, \"13\": 5, \"22\": 3, \"52\": 10, \"43\": 2, \"4\": 1, \"0\": 2, \"24\": 1}, \"21\": {\"21\": 66, \"30\": 7, \"0\": 7, \"12\": 4, \"1\": 1, \"22\": 9, \"20\": 2, \"3\": 1, \"52\": 13, \"8\": 2, \"57\": 2, \"44\": 1, \"47\": 1, \"14\": 2, \"13\": 2, \"4\": 1, \"46\": 1, \"50\": 1, \"40\": 1}, \"10\": {\"53\": 7, \"10\": 57, \"26\": 1, \"28\": 3, \"15\": 10, \"54\": 5, \"11\": 6, \"16\": 5, \"24\": 1, \"19\": 1}, \"37\": {\"37\": 20, \"49\": 1, \"7\": 1, \"31\": 2, \"55\": 3, \"17\": 1, \"32\": 2, \"24\": 2}, \"25\": {\"25\": 128, \"16\": 7, \"18\": 5, \"11\": 3, \"10\": 1}, \"27\": {\"27\": 104, \"57\": 5, \"40\": 6, \"47\": 5, \"4\": 6, \"48\": 2, \"52\": 2}, \"23\": {\"37\": 2, \"23\": 72, \"24\": 9, \"31\": 3, \"16\": 1, \"38\": 3, \"28\": 1, \"26\": 1, \"54\": 9, \"43\": 3, \"55\": 11, \"39\": 3, \"53\": 6, \"19\": 5, \"15\": 5, \"42\": 1, \"51\": 1}, \"1\": {\"29\": 13, \"1\": 55, \"47\": 12, \"2\": 2, \"42\": 1, \"57\": 4, \"48\": 3, \"24\": 1, \"52\": 1, \"27\": 3, \"33\": 1, \"4\": 1, \"40\": 1, \"30\": 1, \"55\": 1}, \"50\": {\"50\": 86, \"30\": 4, \"57\": 4, \"45\": 7, \"0\": 5, \"3\": 6, \"21\": 2, \"22\": 7, \"6\": 5, \"46\": 9, \"20\": 7, \"56\": 2, \"44\": 6, \"40\": 1, \"52\": 1}, \"12\": {\"12\": 99, \"30\": 3, \"0\": 4, \"20\": 3, \"52\": 1, \"13\": 1, \"3\": 3, \"21\": 1, \"22\": 1}, \"18\": {\"18\": 49, \"11\": 9, \"28\": 2, \"25\": 6, \"16\": 4, \"15\": 1, \"19\": 1}, \"38\": {\"37\": 1, \"38\": 10, \"49\": 2, \"2\": 1, \"42\": 4, \"39\": 1, \"1\": 1, \"17\": 2, \"7\": 1, \"55\": 1}, \"14\": {\"36\": 1, \"21\": 1, \"9\": 2, \"14\": 13, \"22\": 1, \"52\": 1, \"57\": 1, \"48\": 1, \"40\": 2, \"4\": 1}, \"56\": {\"56\": 67, \"46\": 10, \"6\": 6, \"14\": 2, \"4\": 1, \"3\": 5, \"44\": 15, \"50\": 8, \"8\": 1, \"0\": 6, \"57\": 2, \"45\": 14, \"40\": 4, \"5\": 1}, \"55\": {\"55\": 137, \"37\": 4, \"41\": 1, \"39\": 3, \"17\": 2, \"8\": 1, \"48\": 2, \"43\": 5, \"1\": 1, \"33\": 2, \"7\": 1, \"24\": 1}, \"9\": {\"9\": 68, \"48\": 16, \"51\": 7, \"29\": 2, \"47\": 3, \"32\": 1, \"27\": 1, \"2\": 2, \"8\": 16, \"36\": 5, \"57\": 1, \"0\": 1, \"43\": 3, \"21\": 2, \"22\": 2, \"13\": 5, \"52\": 2, \"1\": 1}, \"15\": {\"15\": 80, \"24\": 1, \"28\": 1, \"53\": 14, \"54\": 11, \"16\": 9, \"10\": 6, \"11\": 12, \"19\": 5, \"23\": 4, \"26\": 2, \"18\": 1}, \"28\": {\"28\": 22, \"53\": 1, \"10\": 3, \"34\": 2}, \"7\": {\"42\": 2, \"7\": 16, \"33\": 3, \"43\": 1, \"39\": 2, \"38\": 2, \"55\": 1, \"17\": 1}, \"43\": {\"43\": 127, \"39\": 1, \"55\": 1, \"48\": 2, \"49\": 3, \"32\": 1, \"24\": 1}, \"22\": {\"22\": 50, \"0\": 24, \"46\": 4, \"14\": 1, \"52\": 20, \"30\": 9, \"57\": 1, \"21\": 9, \"56\": 2, \"8\": 5, \"13\": 5, \"27\": 3, \"44\": 1, \"48\": 1, \"50\": 1}}, \"W_2\": {\"3\": {\"3\": 55, \"127\": 16, \"60\": 1, \"106\": 8, \"113\": 1, \"101\": 3, \"71\": 8, \"62\": 2, \"40\": 3, \"114\": 4, \"16\": 1, \"105\": 4, \"26\": 5, \"1\": 4, \"70\": 2, \"7\": 3, \"49\": 1, \"14\": 2, \"69\": 2, \"126\": 1, \"12\": 1, \"39\": 2, \"93\": 1, \"44\": 1, \"24\": 1}, \"127\": {\"114\": 5, \"127\": 65, \"3\": 10, \"21\": 1, \"101\": 7, \"95\": 1, \"23\": 4, \"84\": 3, \"62\": 3, \"40\": 4, \"93\": 1, \"71\": 1, \"106\": 4, \"16\": 1, \"1\": 1, \"105\": 4, \"18\": 1, \"14\": 2, \"7\": 1, \"72\": 1}, \"58\": {\"20\": 1, \"58\": 10, \"82\": 1, \"52\": 1, \"110\": 2, \"28\": 1, \"107\": 1, \"44\": 1, \"83\": 1, \"61\": 1}, \"114\": {\"69\": 2, \"114\": 72, \"33\": 3, \"18\": 1, \"112\": 1, \"107\": 1, \"1\": 7, \"95\": 5, \"40\": 8, \"71\": 2, \"98\": 3, \"84\": 1, \"118\": 1, \"44\": 1, \"14\": 1, \"19\": 1, \"3\": 1, \"70\": 1}, \"111\": {\"111\": 105, \"25\": 1, \"89\": 1, \"42\": 1, \"110\": 1, \"90\": 5, \"124\": 8, \"5\": 11, \"117\": 5, \"91\": 1, \"64\": 2, \"15\": 1, \"102\": 1, \"109\": 1}, \"105\": {\"118\": 4, \"93\": 5, \"101\": 2, \"105\": 42, \"69\": 1, \"3\": 9, \"96\": 2, \"110\": 1, \"49\": 1, \"7\": 9, \"26\": 7, \"127\": 4, \"40\": 4, \"113\": 1, \"94\": 1, \"16\": 10, \"71\": 2, \"106\": 8, \"62\": 5, \"24\": 1, \"1\": 1, \"23\": 1, \"12\": 6, \"18\": 2, \"43\": 1, \"122\": 2}, \"118\": {\"21\": 1, \"118\": 30, \"101\": 3, \"126\": 3, \"18\": 1, \"11\": 2, \"110\": 2, \"122\": 4, \"8\": 3, \"24\": 3, \"127\": 1, \"93\": 1, \"70\": 2, \"27\": 1, \"36\": 1, \"30\": 1, \"7\": 1, \"16\": 2, \"106\": 1, \"109\": 1, \"43\": 1, \"10\": 1, \"23\": 1, \"62\": 1}, \"23\": {\"105\": 1, \"3\": 1, \"23\": 14, \"113\": 3, \"96\": 2, \"127\": 3, \"69\": 1, \"95\": 1, \"7\": 1, \"118\": 1, \"84\": 1, \"101\": 3, \"93\": 1, \"44\": 1, \"71\": 2, \"0\": 3, \"11\": 2, \"106\": 1, \"12\": 2}, \"21\": {\"21\": 44, \"39\": 1, \"88\": 2, \"109\": 1}, \"20\": {\"58\": 1, \"20\": 3, \"47\": 2, \"9\": 1, \"44\": 3, \"68\": 1, \"38\": 1, \"21\": 1, \"19\": 1, \"35\": 1, \"83\": 1}, \"75\": {\"75\": 10, \"40\": 1, \"34\": 1, \"49\": 2, \"6\": 1, \"114\": 1}, \"86\": {\"86\": 27, \"48\": 2, \"17\": 1, \"2\": 2}, \"60\": {\"60\": 15, \"23\": 1, \"42\": 2, \"127\": 1, \"88\": 1, \"95\": 1, \"93\": 2, \"87\": 1, \"96\": 2, \"11\": 1, \"84\": 1}, \"69\": {\"69\": 76, \"14\": 1, \"113\": 1, \"31\": 3, \"72\": 1, \"84\": 2, \"18\": 13, \"71\": 1, \"40\": 7, \"39\": 2, \"44\": 1, \"24\": 1, \"105\": 1, \"88\": 2, \"43\": 1, \"26\": 10, \"62\": 4, \"70\": 2, \"33\": 4, \"1\": 2, \"114\": 1, \"126\": 1, \"109\": 1, \"12\": 1, \"3\": 1}, \"99\": {\"20\": 1, \"99\": 18, \"85\": 1, \"78\": 1, \"89\": 1, \"19\": 2, \"103\": 1, \"112\": 1, \"121\": 1, \"49\": 1, \"73\": 2, \"52\": 2}, \"14\": {\"14\": 12, \"60\": 1, \"18\": 1, \"33\": 4, \"127\": 1, \"3\": 1, \"95\": 3, \"100\": 1, \"9\": 1, \"1\": 5, \"43\": 2, \"23\": 2, \"70\": 1, \"69\": 3, \"114\": 3, \"40\": 1, \"78\": 1, \"88\": 2, \"107\": 1, \"126\": 1, \"21\": 1}, \"25\": {\"25\": 12, \"76\": 1, \"29\": 1, \"42\": 1, \"52\": 1}, \"52\": {\"99\": 2, \"104\": 2, \"59\": 1, \"52\": 7, \"124\": 1, \"66\": 2, \"53\": 2, \"25\": 1, \"32\": 1, \"6\": 1}, \"47\": {\"47\": 4, \"44\": 1, \"112\": 1, \"25\": 1, \"38\": 1, \"78\": 1, \"19\": 1, \"66\": 1, \"100\": 1}, \"48\": {\"52\": 2, \"119\": 1, \"115\": 2, \"65\": 2, \"48\": 7, \"123\": 1, \"86\": 3, \"79\": 1, \"2\": 1}, \"27\": {\"27\": 38, \"78\": 1, \"30\": 1, \"118\": 2, \"88\": 2, \"11\": 3, \"87\": 2, \"24\": 2, \"70\": 1, \"39\": 1, \"108\": 4, \"36\": 1, \"0\": 1, \"21\": 1, \"126\": 3, \"15\": 1, \"10\": 2, \"109\": 1, \"94\": 1}, \"78\": {\"27\": 2, \"78\": 25, \"126\": 4, \"109\": 1, \"10\": 1, \"21\": 4, \"24\": 4, \"70\": 6, \"15\": 1}, \"8\": {\"8\": 71, \"15\": 13, \"94\": 3, \"118\": 5, \"2\": 1, \"11\": 2, \"7\": 2, \"0\": 7, \"122\": 1, \"106\": 4, \"126\": 1, \"108\": 1, \"3\": 2, \"30\": 1, \"16\": 2, \"43\": 2, \"26\": 1, \"113\": 1, \"12\": 2}, \"90\": {\"120\": 2, \"90\": 91, \"126\": 1, \"28\": 1, \"68\": 2, \"42\": 1, \"77\": 1, \"19\": 1, \"5\": 6, \"44\": 4, \"91\": 3, \"98\": 6, \"62\": 1, \"6\": 2, \"40\": 2, \"121\": 2, \"107\": 1, \"111\": 13, \"117\": 5, \"127\": 1, \"124\": 4, \"114\": 1, \"9\": 1, \"119\": 1, \"83\": 2, \"85\": 1, \"23\": 1, \"29\": 1, \"1\": 1, \"26\": 1}, \"103\": {\"99\": 1, \"120\": 1, \"112\": 3, \"104\": 2, \"116\": 2, \"115\": 1, \"103\": 3, \"2\": 1, \"85\": 1, \"45\": 1}, \"120\": {\"120\": 8, \"90\": 1, \"29\": 3, \"91\": 1, \"66\": 3, \"81\": 1, \"89\": 1, \"114\": 1, \"125\": 1}, \"96\": {\"96\": 7, \"93\": 4, \"1\": 1, \"107\": 3, \"14\": 1, \"118\": 1, \"77\": 1, \"40\": 1, \"3\": 1}, \"30\": {\"27\": 2, \"30\": 53, \"118\": 3, \"43\": 2, \"122\": 6, \"11\": 7, \"36\": 8, \"126\": 1, \"0\": 3, \"15\": 3, \"8\": 5, \"108\": 5, \"90\": 1, \"23\": 2, \"87\": 3}, \"33\": {\"33\": 106, \"18\": 8, \"95\": 1, \"72\": 1, \"40\": 3, \"1\": 9, \"26\": 2, \"84\": 2, \"39\": 1, \"69\": 5, \"114\": 6, \"3\": 2}, \"35\": {\"35\": 9, \"8\": 1, \"51\": 1, \"113\": 1}, \"108\": {\"108\": 65, \"43\": 5, \"36\": 12, \"11\": 5, \"94\": 1, \"10\": 2, \"87\": 4, \"27\": 2, \"109\": 1, \"126\": 7, \"30\": 2, \"122\": 4, \"39\": 4, \"0\": 1, \"24\": 1}, \"112\": {\"112\": 5, \"98\": 1, \"129\": 1, \"52\": 1, \"44\": 1, \"77\": 1, \"99\": 1, \"121\": 1, \"76\": 1, \"83\": 1, \"19\": 1, \"111\": 1}, \"40\": {\"40\": 48, \"69\": 8, \"58\": 2, \"3\": 4, \"71\": 2, \"53\": 2, \"127\": 5, \"78\": 1, \"1\": 10, \"9\": 1, \"88\": 2, \"14\": 3, \"95\": 2, \"84\": 7, \"62\": 3, \"24\": 1, \"70\": 3, \"26\": 1, \"98\": 2, \"114\": 11, \"44\": 1, \"12\": 1, \"101\": 2, \"33\": 4, \"75\": 2, \"107\": 2, \"35\": 1, \"51\": 1, \"39\": 1, \"18\": 1, \"109\": 1, \"122\": 1, \"106\": 3, \"43\": 1}, \"102\": {\"112\": 1, \"103\": 1, \"111\": 12, \"5\": 7, \"2\": 3, \"102\": 59, \"13\": 1, \"6\": 1, \"117\": 5, \"17\": 1, \"90\": 3, \"125\": 4, \"88\": 1, \"4\": 2, \"98\": 5, \"124\": 8, \"24\": 2}, \"56\": {\"112\": 2, \"81\": 1, \"56\": 5, \"110\": 2, \"64\": 2}, \"93\": {\"105\": 7, \"93\": 53, \"127\": 3, \"12\": 2, \"113\": 5, \"72\": 1, \"96\": 1, \"3\": 3, \"40\": 2, \"110\": 3, \"94\": 3, \"69\": 1, \"62\": 4, \"0\": 5, \"43\": 1, \"7\": 5, \"101\": 3, \"90\": 1, \"106\": 3, \"26\": 8, \"16\": 9, \"60\": 1, \"118\": 1, \"30\": 1, \"84\": 3, \"71\": 1, \"122\": 3, \"8\": 1, \"39\": 1, \"33\": 1}, \"68\": {\"68\": 6, \"46\": 2, \"90\": 1, \"42\": 2, \"67\": 1, \"81\": 1, \"88\": 1, \"6\": 1, \"34\": 1}, \"70\": {\"108\": 4, \"70\": 48, \"43\": 2, \"126\": 9, \"109\": 11, \"88\": 9, \"21\": 2, \"39\": 12, \"27\": 5, \"10\": 4, \"12\": 1, \"94\": 1, \"24\": 8, \"111\": 1, \"122\": 1, \"78\": 2, \"87\": 2, \"36\": 2}, \"7\": {\"105\": 12, \"71\": 2, \"7\": 50, \"60\": 1, \"0\": 4, \"3\": 5, \"93\": 10, \"40\": 3, \"101\": 2, \"127\": 2, \"15\": 3, \"12\": 4, \"106\": 7, \"16\": 13, \"8\": 1, \"109\": 1, \"23\": 1, \"84\": 1, \"33\": 1, \"62\": 1}, \"87\": {\"108\": 6, \"87\": 31, \"109\": 11, \"15\": 2, \"122\": 4, \"30\": 3, \"14\": 2, \"70\": 3, \"78\": 1, \"0\": 1, \"21\": 1, \"27\": 2, \"39\": 6, \"94\": 7, \"24\": 5, \"36\": 11, \"10\": 3, \"126\": 5, \"88\": 4, \"11\": 3, \"43\": 1}, \"54\": {\"112\": 1, \"56\": 1, \"54\": 8, \"116\": 1, \"128\": 2, \"32\": 1, \"81\": 1, \"89\": 2, \"40\": 1, \"34\": 1, \"53\": 1}, \"71\": {\"71\": 55, \"3\": 8, \"18\": 1, \"62\": 2, \"12\": 2, \"106\": 1, \"127\": 8, \"1\": 9, \"88\": 1, \"40\": 1, \"101\": 1, \"93\": 1, \"84\": 4, \"21\": 1, \"107\": 1, \"58\": 1, \"72\": 1, \"39\": 1, \"114\": 1}, \"80\": {\"80\": 12, \"102\": 2, \"45\": 1, \"104\": 1}, \"18\": {\"18\": 71, \"51\": 1, \"26\": 3, \"84\": 5, \"118\": 1, \"33\": 2, \"44\": 3, \"113\": 1, \"69\": 12, \"107\": 1, \"127\": 2, \"98\": 1, \"62\": 10, \"1\": 2, \"93\": 3, \"39\": 1, \"16\": 2, \"40\": 1}, \"101\": {\"101\": 83, \"78\": 1, \"60\": 1, \"3\": 4, \"0\": 1, \"23\": 1, \"106\": 12, \"16\": 1, \"40\": 3, \"12\": 2, \"105\": 4, \"93\": 2, \"7\": 5, \"127\": 2}, \"92\": {\"128\": 1, \"46\": 1, \"19\": 1, \"28\": 1, \"10\": 1, \"73\": 2, \"92\": 9, \"85\": 2, \"63\": 2, \"113\": 1, \"90\": 1, \"64\": 2, \"81\": 2, \"117\": 1, \"3\": 1}, \"32\": {\"32\": 22, \"94\": 1, \"52\": 1, \"59\": 1, \"82\": 1, \"99\": 2, \"34\": 2, \"107\": 2, \"66\": 1, \"119\": 1, \"49\": 1, \"124\": 1}, \"128\": {\"46\": 1, \"128\": 10, \"44\": 1, \"74\": 1, \"14\": 1, \"54\": 1, \"107\": 3, \"26\": 1, \"56\": 1, \"75\": 1, \"89\": 1, \"32\": 1, \"101\": 1}, \"6\": {\"6\": 24, \"41\": 2, \"124\": 1, \"116\": 1, \"85\": 1, \"91\": 1, \"59\": 1, \"90\": 1}, \"51\": {\"51\": 10, \"101\": 1, \"9\": 1, \"114\": 2, \"58\": 1, \"32\": 1, \"127\": 2, \"83\": 2}, \"85\": {\"92\": 2, \"111\": 2, \"65\": 1, \"77\": 1, \"31\": 1, \"85\": 12, \"121\": 1, \"110\": 1, \"52\": 1, \"5\": 1, \"23\": 1, \"115\": 1, \"41\": 1, \"55\": 1, \"45\": 2, \"73\": 2, \"34\": 1}, \"46\": {\"92\": 2, \"46\": 8, \"77\": 1, \"120\": 1, \"128\": 2, \"5\": 1, \"104\": 1}, \"22\": {\"22\": 11, \"123\": 2, \"41\": 1, \"53\": 1, \"19\": 1, \"125\": 1, \"59\": 1, \"28\": 1, \"81\": 1}, \"1\": {\"9\": 1, \"23\": 3, \"60\": 1, \"14\": 2, \"1\": 51, \"69\": 5, \"40\": 4, \"26\": 2, \"78\": 1, \"33\": 7, \"12\": 1, \"49\": 1, \"32\": 1, \"84\": 5, \"18\": 4, \"109\": 2, \"3\": 3, \"114\": 13, \"71\": 8, \"101\": 1, \"127\": 1, \"105\": 1, \"62\": 1, \"70\": 1, \"44\": 1, \"126\": 1}, \"37\": {\"37\": 8, \"129\": 1, \"104\": 1, \"29\": 1, \"117\": 1, \"64\": 1, \"67\": 1, \"5\": 1, \"86\": 1}, \"44\": {\"9\": 5, \"44\": 69, \"74\": 2, \"98\": 6, \"61\": 1, \"109\": 1, \"96\": 1, \"100\": 1, \"34\": 2, \"24\": 1, \"38\": 1, \"20\": 1, \"35\": 1, \"32\": 1, \"118\": 1, \"106\": 1, \"58\": 2, \"110\": 1, \"90\": 1, \"40\": 1}, \"24\": {\"24\": 62, \"88\": 9, \"126\": 10, \"78\": 4, \"109\": 5, \"39\": 8, \"10\": 1, \"70\": 8, \"0\": 2, \"87\": 1, \"21\": 2}, \"9\": {\"9\": 21, \"44\": 4, \"51\": 1, \"128\": 3, \"20\": 1, \"60\": 1, \"61\": 1}, \"116\": {\"116\": 7, \"129\": 1, \"104\": 1, \"37\": 1, \"111\": 1, \"41\": 1, \"124\": 1, \"65\": 1, \"86\": 1, \"102\": 2, \"6\": 1, \"109\": 1, \"82\": 1, \"67\": 2, \"121\": 1, \"42\": 1, \"28\": 2, \"89\": 1, \"81\": 1}, \"64\": {\"129\": 2, \"112\": 1, \"64\": 7, \"50\": 1, \"37\": 1, \"99\": 4}, \"129\": {\"116\": 1, \"47\": 1, \"129\": 6, \"41\": 1, \"57\": 2, \"123\": 1, \"5\": 2, \"61\": 1, \"112\": 2, \"64\": 1, \"32\": 2, \"124\": 3, \"68\": 2, \"2\": 1, \"117\": 2, \"100\": 1, \"73\": 1, \"37\": 2}, \"42\": {\"116\": 4, \"42\": 15, \"91\": 1, \"70\": 1, \"90\": 2, \"118\": 1, \"22\": 1, \"25\": 1, \"123\": 1, \"122\": 1}, \"117\": {\"129\": 2, \"117\": 51, \"42\": 2, \"73\": 2, \"59\": 1, \"104\": 1, \"37\": 2, \"50\": 1, \"5\": 10, \"92\": 1, \"28\": 1, \"19\": 2, \"98\": 2, \"102\": 9, \"125\": 6, \"17\": 2, \"90\": 4, \"111\": 9, \"43\": 1, \"79\": 2, \"65\": 1, \"80\": 1, \"85\": 1, \"114\": 1, \"124\": 2, \"40\": 2, \"4\": 1}, \"88\": {\"88\": 76, \"70\": 10, \"27\": 1, \"24\": 13, \"78\": 1, \"10\": 5, \"108\": 2, \"21\": 1, \"109\": 5, \"39\": 5, \"126\": 5}, \"31\": {\"69\": 2, \"31\": 12, \"33\": 3, \"107\": 1, \"96\": 1, \"84\": 1}, \"113\": {\"113\": 34, \"118\": 4, \"62\": 3, \"105\": 3, \"93\": 5, \"0\": 2, \"3\": 2, \"106\": 1, \"127\": 1, \"16\": 3, \"12\": 1, \"8\": 1, \"129\": 1, \"1\": 1, \"71\": 1, \"110\": 1, \"7\": 1, \"23\": 1, \"15\": 2, \"126\": 1, \"26\": 1, \"30\": 2}, \"38\": {\"76\": 2, \"89\": 1, \"44\": 1, \"38\": 4, \"98\": 1, \"53\": 1, \"107\": 2, \"9\": 2, \"99\": 1, \"20\": 1}, \"83\": {\"83\": 14, \"25\": 1, \"26\": 1, \"85\": 2, \"89\": 4, \"32\": 1, \"104\": 1, \"103\": 1, \"61\": 1, \"98\": 1, \"13\": 1, \"73\": 2, \"90\": 1, \"92\": 1, \"20\": 2, \"100\": 2, \"74\": 1, \"52\": 1, \"1\": 1, \"14\": 1}, \"49\": {\"49\": 11, \"47\": 1, \"51\": 2, \"44\": 1, \"100\": 1, \"23\": 1, \"75\": 2, \"89\": 1, \"88\": 1, \"14\": 1, \"101\": 1, \"128\": 1}, \"97\": {\"97\": 9, \"71\": 1, \"15\": 3, \"91\": 1, \"123\": 1, \"96\": 1, \"0\": 1, \"18\": 1, \"7\": 1, \"16\": 1}, \"76\": {\"83\": 3, \"25\": 2, \"56\": 1, \"76\": 5, \"94\": 1, \"31\": 1, \"77\": 1, \"75\": 1, \"38\": 1}, \"29\": {\"25\": 2, \"120\": 2, \"29\": 18, \"123\": 1, \"98\": 1, \"28\": 1, \"77\": 1, \"90\": 2, \"119\": 1, \"85\": 1, \"5\": 2}, \"61\": {\"83\": 3, \"129\": 1, \"52\": 1, \"32\": 1, \"99\": 1, \"40\": 1, \"23\": 1, \"124\": 2, \"61\": 3, \"34\": 3, \"53\": 1, \"44\": 1, \"111\": 1}, \"125\": {\"125\": 133, \"48\": 1, \"41\": 1, \"121\": 1, \"124\": 4, \"79\": 1, \"86\": 3, \"116\": 1, \"2\": 1, \"111\": 2}, \"126\": {\"126\": 43, \"11\": 1, \"78\": 7, \"70\": 12, \"109\": 9, \"88\": 8, \"39\": 5, \"87\": 4, \"21\": 1, \"43\": 1, \"122\": 1, \"10\": 6, \"27\": 4, \"108\": 6, \"24\": 4, \"0\": 1, \"30\": 3, \"15\": 1, \"94\": 2, \"36\": 1}, \"55\": {\"55\": 13, \"114\": 1, \"50\": 1, \"14\": 1}, \"0\": {\"0\": 59, \"15\": 7, \"39\": 1, \"97\": 3, \"93\": 2, \"113\": 2, \"8\": 8, \"122\": 6, \"16\": 3, \"43\": 3, \"12\": 1, \"101\": 1, \"7\": 7, \"109\": 1, \"3\": 1, \"21\": 1, \"118\": 1, \"44\": 1}, \"15\": {\"15\": 77, \"8\": 13, \"97\": 2, \"14\": 1, \"0\": 6, \"94\": 2, \"88\": 2, \"127\": 1, \"71\": 1, \"30\": 2, \"10\": 1, \"12\": 1, \"93\": 1, \"122\": 3, \"36\": 1, \"106\": 2, \"7\": 2, \"11\": 1, \"84\": 1}, \"26\": {\"62\": 10, \"26\": 63, \"18\": 10, \"35\": 1, \"40\": 4, \"69\": 6, \"1\": 2, \"9\": 1, \"84\": 2, \"71\": 1, \"105\": 7, \"114\": 2, \"24\": 1, \"109\": 2, \"10\": 1, \"93\": 7, \"33\": 2, \"122\": 2, \"101\": 1, \"113\": 3, \"127\": 2, \"14\": 1, \"7\": 2, \"39\": 1, \"3\": 1, \"78\": 1, \"16\": 2}, \"63\": {\"57\": 1, \"63\": 9, \"111\": 1, \"45\": 1, \"81\": 1, \"68\": 2, \"5\": 2, \"119\": 1, \"89\": 2}, \"57\": {\"57\": 10, \"63\": 1, \"81\": 1, \"46\": 1, \"65\": 1, \"119\": 1, \"5\": 2, \"76\": 1, \"83\": 2}, \"39\": {\"126\": 7, \"39\": 46, \"21\": 1, \"24\": 9, \"27\": 3, \"109\": 8, \"70\": 9, \"10\": 3, \"30\": 1, \"87\": 8, \"36\": 3, \"122\": 3, \"88\": 3, \"108\": 2, \"16\": 1, \"11\": 1, \"43\": 4}, \"62\": {\"26\": 9, \"62\": 76, \"7\": 4, \"107\": 2, \"88\": 1, \"23\": 2, \"93\": 6, \"16\": 2, \"105\": 2, \"18\": 11, \"84\": 4, \"40\": 3, \"114\": 1, \"127\": 1, \"106\": 1, \"1\": 1, \"33\": 1, \"126\": 1, \"69\": 1, \"11\": 1, \"75\": 1, \"51\": 1, \"3\": 1, \"122\": 1, \"71\": 1, \"118\": 1, \"101\": 1, \"110\": 1, \"70\": 1, \"43\": 1}, \"82\": {\"82\": 21, \"55\": 1, \"124\": 1, \"119\": 1, \"129\": 1, \"70\": 1, \"61\": 1, \"101\": 2, \"89\": 1, \"126\": 1, \"117\": 1, \"107\": 1, \"8\": 1, \"33\": 2}, \"11\": {\"11\": 35, \"108\": 6, \"43\": 4, \"36\": 7, \"118\": 2, \"87\": 6, \"24\": 1, \"30\": 5, \"70\": 1, \"101\": 1, \"27\": 4, \"94\": 3, \"126\": 1, \"16\": 1, \"106\": 1, \"8\": 1, \"39\": 1}, \"4\": {\"4\": 75, \"104\": 1, \"59\": 1, \"17\": 2, \"125\": 3, \"102\": 3, \"126\": 1, \"124\": 2}, \"41\": {\"41\": 9, \"116\": 3, \"13\": 2, \"67\": 1, \"115\": 1, \"120\": 1, \"125\": 1, \"25\": 1, \"59\": 1}, \"72\": {\"72\": 11, \"54\": 1, \"74\": 1, \"31\": 1, \"33\": 1, \"44\": 2, \"127\": 2, \"40\": 1, \"14\": 1, \"69\": 2, \"71\": 2, \"18\": 1, \"106\": 1, \"3\": 1}, \"16\": {\"105\": 6, \"16\": 35, \"8\": 1, \"88\": 1, \"106\": 4, \"93\": 15, \"122\": 1, \"113\": 5, \"69\": 1, \"62\": 7, \"12\": 7, \"7\": 11, \"101\": 6, \"26\": 4, \"3\": 4, \"24\": 1, \"78\": 1, \"118\": 1, \"95\": 1, \"110\": 1, \"0\": 4, \"40\": 2, \"18\": 1, \"84\": 1, \"1\": 1, \"127\": 2}, \"81\": {\"75\": 1, \"81\": 11, \"38\": 1, \"98\": 1, \"29\": 1, \"82\": 1, \"69\": 1, \"28\": 3, \"33\": 1, \"92\": 1, \"3\": 1, \"73\": 1}, \"67\": {\"57\": 1, \"123\": 1, \"28\": 1, \"102\": 1, \"13\": 1, \"67\": 5, \"5\": 2, \"52\": 1, \"37\": 1, \"64\": 2}, \"123\": {\"123\": 7, \"44\": 1, \"5\": 1, \"98\": 1, \"129\": 1, \"2\": 1, \"48\": 1, \"90\": 1, \"104\": 2}, \"66\": {\"29\": 2, \"65\": 1, \"120\": 1, \"64\": 2, \"66\": 5, \"86\": 2, \"42\": 2, \"116\": 1, \"90\": 2, \"19\": 1, \"89\": 1}, \"36\": {\"36\": 84, \"78\": 2, \"0\": 3, \"70\": 1, \"108\": 5, \"43\": 6, \"30\": 5, \"118\": 1, \"94\": 3, \"11\": 6, \"39\": 1, \"122\": 2, \"126\": 2, \"21\": 1, \"27\": 2, \"8\": 1, \"87\": 2, \"88\": 1}, \"115\": {\"48\": 2, \"115\": 5, \"29\": 1, \"79\": 3, \"21\": 1}, \"77\": {\"83\": 1, \"66\": 1, \"45\": 2, \"129\": 1, \"112\": 1, \"77\": 5, \"63\": 1, \"6\": 1, \"25\": 1, \"123\": 2}, \"119\": {\"119\": 4, \"98\": 1, \"42\": 1, \"38\": 1, \"66\": 1, \"79\": 1, \"74\": 1, \"57\": 1, \"111\": 1, \"63\": 1, \"89\": 1, \"100\": 2, \"117\": 1, \"120\": 1, \"45\": 1, \"73\": 1}, \"65\": {\"120\": 2, \"65\": 17, \"126\": 1}, \"34\": {\"55\": 2, \"83\": 3, \"34\": 10, \"44\": 1, \"75\": 1, \"32\": 1, \"107\": 5, \"33\": 1, \"99\": 2, \"61\": 2, \"52\": 1, \"19\": 2, \"85\": 1}, \"107\": {\"114\": 3, \"34\": 3, \"107\": 30, \"68\": 1, \"10\": 1, \"128\": 2, \"33\": 3, \"1\": 3, \"24\": 1, \"71\": 3, \"40\": 1, \"98\": 1, \"38\": 1, \"32\": 3, \"92\": 1, \"70\": 1, \"72\": 1, \"73\": 1, \"61\": 2, \"127\": 1, \"110\": 1}, \"13\": {\"13\": 8, \"41\": 1, \"2\": 3, \"6\": 1, \"91\": 2, \"129\": 1}, \"110\": {\"25\": 1, \"110\": 13, \"105\": 4, \"3\": 2, \"22\": 1, \"11\": 2, \"16\": 5, \"84\": 2, \"118\": 1, \"122\": 1, \"15\": 1, \"7\": 2, \"101\": 1, \"93\": 1, \"12\": 1, \"18\": 1, \"8\": 1}, \"106\": {\"101\": 17, \"106\": 62, \"3\": 7, \"84\": 2, \"16\": 1, \"12\": 2, \"105\": 5, \"71\": 5, \"127\": 8, \"109\": 1, \"102\": 1, \"26\": 1, \"114\": 1, \"39\": 2, \"23\": 1, \"40\": 1, \"7\": 1}, \"89\": {\"89\": 6, \"57\": 1, \"123\": 2, \"99\": 4, \"45\": 1, \"28\": 2, \"73\": 2, \"32\": 1, \"128\": 1, \"110\": 2, \"6\": 2, \"91\": 1, \"121\": 2, \"19\": 1, \"104\": 1, \"112\": 1, \"74\": 1, \"129\": 2, \"42\": 1, \"97\": 2}, \"94\": {\"97\": 1, \"0\": 3, \"94\": 33, \"122\": 4, \"8\": 4, \"14\": 1, \"15\": 1, \"21\": 2, \"101\": 1, \"88\": 3, \"36\": 5, \"6\": 1, \"118\": 1, \"30\": 1, \"126\": 1, \"11\": 1, \"12\": 1}, \"98\": {\"32\": 2, \"94\": 1, \"98\": 93, \"82\": 1, \"61\": 1, \"92\": 1, \"44\": 6, \"43\": 1, \"90\": 3, \"66\": 1, \"21\": 1, \"100\": 1}, \"91\": {\"42\": 4, \"103\": 1, \"91\": 12, \"64\": 1, \"83\": 1, \"22\": 1, \"90\": 2, \"121\": 1, \"111\": 1, \"25\": 1, \"6\": 1, \"68\": 1, \"89\": 1}, \"84\": {\"84\": 34, \"118\": 1, \"69\": 3, \"127\": 8, \"40\": 5, \"14\": 4, \"1\": 5, \"26\": 3, \"12\": 3, \"71\": 3, \"93\": 2, \"18\": 1, \"16\": 3, \"114\": 1, \"62\": 7, \"113\": 1, \"44\": 2, \"122\": 1, \"7\": 1, \"33\": 1, \"88\": 1, \"3\": 2}, \"73\": {\"59\": 1, \"73\": 20, \"57\": 1, \"74\": 1, \"100\": 1, \"40\": 1, \"111\": 1, \"83\": 1, \"117\": 1}, \"104\": {\"65\": 2, \"37\": 2, \"8\": 1, \"28\": 1, \"104\": 5, \"125\": 1, \"120\": 1, \"118\": 1, \"76\": 2, \"67\": 1, \"126\": 1, \"6\": 1, \"5\": 1}, \"59\": {\"59\": 3, \"91\": 1, \"68\": 1, \"116\": 1, \"73\": 2, \"125\": 3, \"45\": 1, \"103\": 1, \"85\": 1, \"22\": 2}, \"74\": {\"74\": 10, \"104\": 1, \"119\": 1, \"114\": 1, \"75\": 1, \"35\": 1, \"34\": 1}, \"28\": {\"28\": 10, \"38\": 1, \"87\": 1, \"68\": 1, \"67\": 1, \"25\": 1, \"81\": 1, \"52\": 1, \"42\": 2, \"65\": 1}, \"95\": {\"33\": 4, \"44\": 1, \"108\": 1, \"3\": 1, \"95\": 9, \"93\": 1, \"14\": 2, \"40\": 5, \"69\": 1, \"114\": 2, \"1\": 3, \"49\": 1, \"71\": 1, \"26\": 2, \"72\": 1, \"16\": 1}, \"2\": {\"5\": 3, \"48\": 1, \"102\": 1, \"129\": 1, \"2\": 7, \"68\": 1, \"53\": 1, \"22\": 1, \"92\": 1, \"41\": 1, \"13\": 3, \"6\": 2, \"103\": 1, \"77\": 1, \"123\": 1, \"111\": 1, \"86\": 1, \"124\": 1, \"125\": 1, \"82\": 1, \"117\": 1}, \"5\": {\"48\": 2, \"2\": 2, \"129\": 4, \"5\": 58, \"119\": 1, \"98\": 2, \"85\": 1, \"34\": 2, \"116\": 1, \"6\": 1, \"10\": 1, \"111\": 15, \"117\": 6, \"102\": 3, \"79\": 1, \"57\": 2, \"63\": 2, \"17\": 1, \"29\": 1, \"124\": 3, \"90\": 1, \"88\": 1, \"109\": 1}, \"50\": {\"81\": 2, \"5\": 1, \"50\": 5, \"70\": 1, \"73\": 2, \"74\": 1, \"107\": 1, \"103\": 1, \"85\": 1, \"64\": 1}, \"109\": {\"88\": 6, \"126\": 8, \"78\": 3, \"109\": 34, \"13\": 1, \"24\": 10, \"27\": 4, \"21\": 4, \"43\": 6, \"39\": 4, \"111\": 1, \"10\": 5, \"87\": 4, \"70\": 8, \"124\": 1, \"94\": 1}, \"10\": {\"27\": 5, \"10\": 17, \"108\": 3, \"8\": 2, \"71\": 2, \"88\": 8, \"78\": 3, \"11\": 3, \"30\": 1, \"109\": 4, \"70\": 3, \"36\": 2, \"21\": 2, \"15\": 1, \"87\": 1, \"43\": 1, \"39\": 2}, \"45\": {\"45\": 6, \"28\": 1, \"122\": 1, \"111\": 1, \"63\": 1, \"120\": 1, \"103\": 1, \"85\": 1, \"24\": 1, \"117\": 2}, \"121\": {\"85\": 2, \"121\": 12, \"90\": 4, \"98\": 1, \"92\": 1, \"111\": 3, \"5\": 2, \"117\": 1, \"120\": 1, \"6\": 1, \"77\": 1, \"104\": 1, \"119\": 1, \"37\": 1, \"73\": 1, \"29\": 3}, \"124\": {\"45\": 1, \"85\": 1, \"124\": 57, \"129\": 1, \"116\": 1, \"68\": 1, \"66\": 1, \"98\": 1, \"89\": 1, \"6\": 2, \"111\": 16, \"125\": 6, \"90\": 1, \"117\": 4, \"5\": 6, \"100\": 1, \"37\": 1, \"42\": 1, \"2\": 1, \"65\": 1, \"57\": 2, \"102\": 3}, \"53\": {\"110\": 2, \"89\": 1, \"53\": 4, \"98\": 1, \"90\": 1, \"68\": 1, \"58\": 1, \"20\": 1, \"44\": 1, \"128\": 1, \"104\": 1, \"126\": 1}, \"79\": {\"79\": 14, \"115\": 2}, \"43\": {\"43\": 39, \"11\": 3, \"0\": 3, \"30\": 4, \"122\": 12, \"24\": 2, \"88\": 1, \"39\": 5, \"108\": 7, \"36\": 4, \"12\": 2, \"8\": 5, \"94\": 2, \"109\": 2, \"87\": 7, \"15\": 3, \"16\": 2, \"70\": 5, \"21\": 1, \"118\": 2, \"10\": 1, \"105\": 1, \"3\": 1}, \"122\": {\"87\": 4, \"110\": 1, \"71\": 4, \"122\": 53, \"118\": 6, \"70\": 1, \"113\": 4, \"43\": 10, \"23\": 1, \"105\": 2, \"0\": 9, \"30\": 5, \"11\": 3, \"21\": 1, \"106\": 1, \"16\": 3, \"8\": 6, \"26\": 2, \"88\": 1, \"90\": 1, \"93\": 1, \"18\": 1, \"15\": 3, \"39\": 1, \"62\": 1, \"108\": 2, \"36\": 2, \"7\": 1, \"12\": 1, \"94\": 2, \"101\": 3, \"69\": 1, \"24\": 1}, \"100\": {\"100\": 6, \"116\": 1, \"95\": 1, \"9\": 2, \"23\": 1, \"83\": 1, \"49\": 2, \"66\": 1, \"99\": 1}, \"19\": {\"107\": 1, \"19\": 15, \"44\": 3, \"99\": 3, \"9\": 1, \"128\": 1, \"81\": 1, \"121\": 1, \"29\": 1, \"34\": 1}, \"12\": {\"127\": 4, \"12\": 39, \"93\": 4, \"105\": 6, \"101\": 3, \"110\": 1, \"49\": 1, \"23\": 3, \"71\": 1, \"8\": 2, \"16\": 2, \"106\": 8, \"88\": 1, \"26\": 2, \"7\": 3, \"84\": 2, \"39\": 1, \"40\": 1, \"24\": 2, \"62\": 1, \"70\": 1}, \"17\": {\"17\": 5, \"102\": 1, \"86\": 1, \"111\": 3, \"117\": 1, \"63\": 1, \"24\": 1, \"22\": 1, \"91\": 2}}, \"C_3\": {\"1\": {\"48\": 10, \"22\": 5, \"1\": 43, \"9\": 4, \"4\": 11, \"7\": 1, \"56\": 3, \"40\": 6, \"8\": 1, \"13\": 1, \"27\": 4, \"17\": 2, \"33\": 1, \"14\": 1, \"43\": 1, \"0\": 1, \"57\": 3, \"29\": 1, \"47\": 1}, \"9\": {\"49\": 1, \"56\": 10, \"47\": 6, \"40\": 4, \"48\": 5, \"9\": 46, \"1\": 7, \"27\": 7, \"32\": 1, \"43\": 2, \"22\": 9, \"13\": 1, \"29\": 3, \"44\": 1, \"0\": 2, \"50\": 2, \"4\": 5, \"33\": 2, \"57\": 7, \"34\": 1, \"46\": 1, \"51\": 1}, \"22\": {\"56\": 9, \"22\": 45, \"1\": 7, \"40\": 8, \"48\": 5, \"27\": 4, \"52\": 2, \"9\": 4, \"4\": 2, \"0\": 5, \"47\": 4, \"44\": 5, \"46\": 9, \"50\": 9, \"29\": 4, \"57\": 5, \"3\": 6, \"5\": 3}, \"43\": {\"43\": 105, \"26\": 6, \"2\": 2, \"37\": 3, \"14\": 1, \"42\": 1, \"17\": 2, \"7\": 1, \"13\": 1, \"23\": 1, \"36\": 1, \"38\": 2, \"34\": 1, \"24\": 1, \"55\": 5, \"51\": 2, \"29\": 1}, \"49\": {\"49\": 8, \"31\": 1, \"43\": 2, \"23\": 1, \"54\": 2, \"19\": 1, \"36\": 1, \"24\": 4}, \"50\": {\"56\": 2, \"50\": 39, \"47\": 6, \"52\": 4, \"0\": 11, \"5\": 4, \"46\": 14, \"12\": 3, \"6\": 6, \"30\": 11, \"21\": 16, \"45\": 2, \"22\": 2, \"3\": 4, \"1\": 3, \"57\": 3, \"9\": 3, \"40\": 2, \"48\": 1, \"4\": 2}, \"53\": {\"53\": 69, \"43\": 10, \"11\": 4, \"54\": 3, \"37\": 5, \"51\": 1, \"24\": 6, \"55\": 5, \"17\": 3, \"36\": 1, \"23\": 8, \"16\": 7, \"19\": 1, \"15\": 6, \"26\": 1, \"10\": 4, \"2\": 1, \"29\": 1}, \"10\": {\"10\": 43, \"31\": 1, \"15\": 5, \"54\": 5, \"11\": 3, \"24\": 3, \"16\": 2, \"53\": 2}, \"48\": {\"9\": 10, \"56\": 7, \"48\": 42, \"1\": 11, \"57\": 5, \"47\": 2, \"27\": 9, \"41\": 2, \"46\": 1, \"22\": 5, \"40\": 7, \"51\": 1, \"13\": 2, \"4\": 6, \"29\": 2, \"2\": 2, \"0\": 2}, \"8\": {\"38\": 1, \"22\": 1, \"8\": 51, \"20\": 16, \"7\": 2, \"2\": 1, \"0\": 5, \"47\": 6, \"13\": 11, \"57\": 4, \"27\": 7, \"36\": 1, \"50\": 5, \"56\": 1, \"52\": 6, \"9\": 7, \"3\": 1, \"43\": 1, \"29\": 6, \"32\": 1, \"14\": 1, \"41\": 2, \"51\": 1}, \"31\": {\"31\": 27, \"35\": 1}, \"56\": {\"9\": 6, \"22\": 18, \"57\": 6, \"47\": 7, \"48\": 15, \"56\": 61, \"20\": 1, \"40\": 4, \"1\": 3, \"27\": 4, \"4\": 3, \"46\": 2, \"8\": 1, \"0\": 1, \"3\": 1, \"29\": 1}, \"25\": {\"10\": 4, \"25\": 94, \"54\": 5, \"11\": 8, \"18\": 4, \"16\": 21, \"15\": 5, \"19\": 1}, \"28\": {\"25\": 1, \"28\": 20, \"18\": 1, \"11\": 1, \"54\": 1, \"10\": 3, \"19\": 1}, \"38\": {\"38\": 27, \"13\": 1}, \"5\": {\"5\": 64, \"12\": 8, \"6\": 13, \"45\": 2, \"52\": 1, \"44\": 4, \"3\": 8, \"0\": 3, \"50\": 3, \"48\": 1, \"46\": 7, \"56\": 1, \"20\": 1}, \"12\": {\"3\": 8, \"12\": 43, \"0\": 3, \"5\": 8, \"30\": 4, \"22\": 2, \"6\": 13, \"50\": 7, \"45\": 3, \"21\": 1}, \"6\": {\"6\": 52, \"3\": 7, \"12\": 12, \"45\": 6, \"30\": 3, \"0\": 2, \"5\": 2, \"50\": 2, \"46\": 1, \"52\": 1}, \"19\": {\"19\": 127, \"35\": 3, \"16\": 1, \"54\": 4, \"31\": 1, \"11\": 3, \"23\": 3, \"55\": 3, \"15\": 2, \"28\": 1, \"24\": 1, \"17\": 2, \"25\": 1}, \"26\": {\"26\": 17, \"43\": 4, \"17\": 1, \"35\": 1, \"37\": 1}, \"32\": {\"32\": 28}, \"33\": {\"51\": 1, \"32\": 1, \"33\": 14, \"29\": 1, \"34\": 1, \"47\": 1, \"2\": 1, \"40\": 1, \"14\": 1, \"0\": 1, \"41\": 2, \"27\": 1, \"48\": 1, \"9\": 1}, \"3\": {\"22\": 3, \"12\": 8, \"3\": 44, \"45\": 4, \"6\": 5, \"0\": 13, \"46\": 6, \"21\": 4, \"50\": 9, \"5\": 15, \"30\": 3, \"56\": 1, \"44\": 3}, \"51\": {\"51\": 83, \"47\": 1, \"43\": 6, \"17\": 5, \"37\": 1, \"36\": 2, \"33\": 2, \"38\": 3, \"57\": 1, \"20\": 1, \"8\": 7, \"13\": 8, \"26\": 1, \"2\": 1, \"48\": 1, \"55\": 3, \"23\": 2}, \"16\": {\"10\": 5, \"16\": 45, \"25\": 22, \"28\": 1, \"15\": 13, \"24\": 3, \"53\": 9, \"18\": 4, \"23\": 2, \"54\": 4, \"11\": 27, \"19\": 2, \"55\": 1}, \"46\": {\"46\": 39, \"22\": 10, \"48\": 3, \"30\": 10, \"21\": 15, \"56\": 7, \"0\": 11, \"12\": 6, \"50\": 20, \"1\": 1, \"9\": 2, \"5\": 3, \"6\": 2, \"40\": 2, \"3\": 2, \"52\": 5, \"47\": 1, \"20\": 1}, \"7\": {\"7\": 11, \"14\": 1, \"27\": 2, \"41\": 4, \"34\": 2, \"48\": 1, \"43\": 1, \"38\": 1, \"13\": 1, \"1\": 1, \"2\": 3, \"39\": 2, \"17\": 3, \"33\": 2, \"29\": 1}, \"47\": {\"9\": 2, \"40\": 2, \"57\": 12, \"56\": 2, \"47\": 37, \"32\": 1, \"14\": 1, \"4\": 2, \"46\": 1, \"27\": 7, \"0\": 6, \"13\": 1, \"1\": 2, \"52\": 2, \"48\": 3, \"22\": 5, \"7\": 2, \"50\": 3, \"30\": 1}, \"39\": {\"14\": 1, \"39\": 13, \"33\": 2}, \"40\": {\"40\": 56, \"0\": 3, \"4\": 13, \"22\": 18, \"48\": 7, \"57\": 11, \"29\": 1, \"9\": 7, \"27\": 4, \"1\": 5, \"56\": 8, \"3\": 1, \"47\": 2}, \"14\": {\"7\": 2, \"14\": 17, \"40\": 1, \"39\": 4, \"36\": 4, \"34\": 3, \"41\": 1, \"8\": 1, \"51\": 1, \"43\": 2, \"32\": 1, \"57\": 1, \"2\": 1, \"27\": 1}, \"37\": {\"37\": 26, \"17\": 1, \"53\": 1}, \"2\": {\"14\": 1, \"2\": 27, \"43\": 1, \"55\": 1, \"7\": 1, \"26\": 1}, \"21\": {\"21\": 90, \"30\": 5, \"6\": 2, \"52\": 1, \"40\": 1, \"47\": 1, \"44\": 2, \"0\": 2, \"12\": 1, \"50\": 3, \"3\": 5, \"9\": 1, \"57\": 1, \"46\": 3, \"5\": 1, \"22\": 1}, \"35\": {\"35\": 23, \"31\": 1, \"36\": 1, \"23\": 1, \"19\": 1, \"39\": 1}, \"54\": {\"54\": 86, \"19\": 3, \"15\": 4, \"11\": 3, \"10\": 2, \"25\": 2}, \"52\": {\"52\": 66, \"5\": 2, \"3\": 2, \"0\": 5, \"50\": 10, \"12\": 1, \"6\": 1, \"30\": 9, \"21\": 5, \"29\": 1, \"9\": 1, \"46\": 7, \"33\": 1, \"27\": 1, \"20\": 1, \"48\": 1, \"47\": 2}, \"29\": {\"29\": 49, \"40\": 2, \"4\": 14, \"8\": 3, \"27\": 17, \"1\": 5, \"36\": 3, \"47\": 3, \"48\": 3, \"9\": 5, \"13\": 2, \"57\": 5, \"32\": 1, \"33\": 1, \"17\": 1, \"41\": 2, \"56\": 1, \"22\": 1}, \"20\": {\"52\": 10, \"0\": 2, \"20\": 69, \"47\": 5, \"27\": 4, \"30\": 9, \"40\": 1, \"8\": 7, \"57\": 2, \"21\": 4, \"50\": 4, \"46\": 4, \"13\": 2, \"3\": 1, \"38\": 1, \"5\": 2, \"22\": 1, \"48\": 1, \"56\": 1, \"1\": 2}, \"18\": {\"18\": 59, \"28\": 1, \"54\": 6, \"25\": 9, \"11\": 5, \"15\": 3, \"19\": 1}, \"11\": {\"28\": 3, \"11\": 61, \"10\": 7, \"25\": 12, \"18\": 2, \"15\": 20, \"54\": 7, \"16\": 15, \"23\": 9, \"53\": 4, \"24\": 2}, \"0\": {\"0\": 64, \"9\": 4, \"3\": 8, \"52\": 1, \"50\": 5, \"46\": 16, \"21\": 1, \"40\": 3, \"48\": 1, \"22\": 3, \"57\": 1, \"6\": 1, \"1\": 1, \"56\": 5, \"5\": 3, \"27\": 1, \"30\": 4, \"12\": 1, \"4\": 1}, \"36\": {\"36\": 100}, \"17\": {\"53\": 1, \"39\": 2, \"14\": 2, \"17\": 50, \"38\": 2, \"32\": 2, \"35\": 1, \"26\": 1, \"34\": 3, \"2\": 3, \"55\": 9, \"23\": 10, \"24\": 4, \"8\": 1, \"36\": 6, \"13\": 3, \"42\": 1, \"29\": 2, \"7\": 1, \"37\": 1, \"48\": 1, \"43\": 2}, \"30\": {\"30\": 56, \"6\": 2, \"46\": 10, \"12\": 6, \"50\": 12, \"21\": 4, \"52\": 9, \"20\": 1, \"3\": 4, \"27\": 1, \"5\": 2, \"0\": 5, \"29\": 1, \"48\": 1}, \"42\": {\"42\": 7, \"49\": 3, \"39\": 1, \"31\": 1, \"19\": 3, \"36\": 4, \"26\": 3, \"43\": 1, \"24\": 2, \"23\": 2, \"17\": 1}, \"45\": {\"12\": 3, \"45\": 43, \"3\": 3, \"5\": 5, \"44\": 2, \"21\": 1, \"6\": 3}, \"4\": {\"40\": 21, \"4\": 77, \"1\": 14, \"32\": 1, \"9\": 3, \"56\": 9, \"13\": 3, \"48\": 3, \"29\": 2, \"57\": 5, \"22\": 3, \"47\": 2, \"27\": 3, \"43\": 1, \"17\": 1}, \"23\": {\"23\": 33, \"10\": 5, \"49\": 2, \"54\": 8, \"17\": 9, \"34\": 1, \"15\": 13, \"19\": 13, \"55\": 11, \"16\": 5, \"24\": 5, \"25\": 1, \"53\": 4, \"13\": 2, \"36\": 4, \"43\": 7, \"26\": 2, \"42\": 1, \"38\": 1, \"11\": 2, \"2\": 1, \"31\": 1, \"37\": 1, \"51\": 2}, \"13\": {\"13\": 94, \"14\": 1, \"2\": 3, \"8\": 16, \"51\": 7, \"29\": 1, \"43\": 2, \"39\": 2, \"27\": 1, \"57\": 1}, \"15\": {\"10\": 9, \"15\": 52, \"23\": 9, \"53\": 11, \"24\": 4, \"25\": 5, \"19\": 2, \"16\": 9, \"11\": 14, \"36\": 1, \"54\": 8, \"55\": 2, \"31\": 1, \"51\": 1}, \"57\": {\"56\": 9, \"57\": 56, \"40\": 6, \"48\": 6, \"1\": 8, \"27\": 7, \"4\": 12, \"9\": 12, \"47\": 4, \"29\": 2, \"8\": 1, \"22\": 1}, \"27\": {\"9\": 10, \"27\": 57, \"40\": 5, \"2\": 2, \"7\": 1, \"56\": 5, \"57\": 12, \"1\": 5, \"47\": 4, \"4\": 4, \"13\": 3, \"51\": 1, \"48\": 8, \"29\": 6, \"8\": 6, \"32\": 2, \"22\": 1, \"17\": 1, \"0\": 1}, \"44\": {\"44\": 51, \"1\": 1, \"45\": 7, \"5\": 9, \"6\": 3, \"3\": 5, \"0\": 4, \"50\": 1, \"56\": 1, \"46\": 1, \"22\": 1, \"4\": 2, \"30\": 2}, \"34\": {\"34\": 23, \"17\": 2, \"32\": 1, \"29\": 1, \"36\": 1, \"26\": 1, \"39\": 1, \"14\": 1, \"49\": 1}, \"41\": {\"41\": 20, \"48\": 3, \"27\": 1, \"33\": 1, \"32\": 1, \"7\": 2}, \"24\": {\"37\": 2, \"24\": 59, \"23\": 14, \"55\": 3, \"2\": 2, \"15\": 7, \"36\": 4, \"53\": 3, \"54\": 1, \"19\": 2, \"49\": 2, \"43\": 1, \"10\": 2, \"16\": 1, \"17\": 1}, \"55\": {\"55\": 70, \"37\": 1, \"35\": 3, \"24\": 6, \"2\": 1, \"43\": 10, \"23\": 9, \"17\": 6, \"36\": 9, \"42\": 2, \"34\": 1}}, \"C_4\": {\"52\": {\"52\": 61, \"20\": 6, \"27\": 2, \"40\": 2, \"46\": 14, \"12\": 10, \"0\": 6, \"50\": 3, \"13\": 1, \"21\": 4, \"22\": 2, \"47\": 1, \"6\": 1, \"3\": 3}, \"6\": {\"45\": 5, \"6\": 75, \"3\": 3, \"46\": 2, \"5\": 16, \"22\": 5, \"50\": 4, \"30\": 2}, \"14\": {\"14\": 8, \"13\": 2, \"17\": 2, \"43\": 1, \"33\": 1, \"27\": 1, \"38\": 1}, \"49\": {\"41\": 2, \"36\": 4, \"49\": 5, \"7\": 1, \"17\": 2, \"19\": 1, \"54\": 2, \"39\": 2, \"38\": 1}, \"0\": {\"46\": 6, \"52\": 9, \"56\": 2, \"0\": 40, \"12\": 5, \"21\": 6, \"27\": 1, \"29\": 1, \"3\": 1, \"47\": 1, \"50\": 2, \"57\": 2, \"20\": 3, \"9\": 1}, \"46\": {\"45\": 4, \"6\": 8, \"46\": 41, \"40\": 3, \"3\": 16, \"12\": 6, \"50\": 12, \"22\": 10, \"52\": 6, \"0\": 7, \"9\": 7, \"21\": 4, \"56\": 5, \"57\": 3, \"5\": 3, \"48\": 6, \"47\": 8, \"4\": 4, \"1\": 1, \"44\": 1, \"30\": 1}, \"41\": {\"41\": 24, \"8\": 1, \"43\": 2, \"38\": 2, \"37\": 3, \"47\": 1, \"42\": 1, \"17\": 2}, \"24\": {\"24\": 23, \"15\": 4, \"36\": 1, \"17\": 2, \"31\": 1, \"23\": 8, \"10\": 4, \"43\": 2, \"42\": 1, \"37\": 2, \"55\": 2, \"54\": 5, \"19\": 1}, \"25\": {\"25\": 107, \"28\": 2, \"11\": 12, \"18\": 13, \"54\": 2, \"16\": 7, \"10\": 3, \"26\": 2, \"31\": 1, \"34\": 1, \"15\": 1, \"23\": 1}, \"40\": {\"40\": 56, \"4\": 11, \"56\": 14, \"46\": 4, \"44\": 7, \"9\": 13, \"12\": 1, \"27\": 1, \"48\": 12, \"22\": 1, \"47\": 4, \"29\": 2, \"1\": 2, \"57\": 5, \"45\": 2, \"0\": 2, \"8\": 1}, \"38\": {\"14\": 2, \"41\": 2, \"39\": 1, \"38\": 19, \"36\": 2, \"49\": 1, \"2\": 1, \"55\": 1, \"35\": 2, \"37\": 1, \"13\": 1, \"51\": 1, \"32\": 1, \"27\": 1, \"33\": 2, \"17\": 2}, \"13\": {\"13\": 126, \"8\": 15, \"27\": 5, \"51\": 1, \"47\": 2, \"29\": 1, \"20\": 2}, \"9\": {\"40\": 12, \"9\": 42, \"57\": 3, \"4\": 12, \"27\": 3, \"13\": 3, \"46\": 3, \"52\": 3, \"56\": 10, \"29\": 3, \"47\": 4, \"0\": 1, \"48\": 3, \"44\": 2, \"12\": 1, \"8\": 1, \"20\": 2}, \"45\": {\"6\": 16, \"45\": 43, \"56\": 2, \"5\": 7, \"57\": 1, \"3\": 3, \"12\": 4, \"21\": 1, \"46\": 4, \"50\": 6, \"22\": 4, \"9\": 1, \"0\": 1, \"30\": 1, \"40\": 1, \"44\": 1}, \"43\": {\"43\": 127, \"7\": 1, \"2\": 2, \"36\": 3, \"17\": 3, \"55\": 2, \"37\": 1, \"41\": 2, \"39\": 1, \"24\": 1, \"51\": 1}, \"10\": {\"10\": 58, \"31\": 5, \"53\": 11, \"16\": 4, \"54\": 8, \"25\": 1, \"11\": 10, \"24\": 3, \"23\": 9, \"15\": 14, \"55\": 1, \"19\": 4, \"26\": 1, \"18\": 1}, \"15\": {\"11\": 8, \"53\": 12, \"15\": 60, \"16\": 11, \"24\": 4, \"23\": 7, \"10\": 18, \"54\": 2, \"42\": 1, \"55\": 3, \"18\": 1, \"25\": 1}, \"39\": {\"39\": 15, \"38\": 1, \"32\": 1, \"17\": 1, \"36\": 1, \"49\": 1}, \"4\": {\"4\": 59, \"9\": 14, \"44\": 11, \"1\": 4, \"0\": 3, \"22\": 2, \"48\": 7, \"56\": 15, \"40\": 5, \"13\": 2, \"57\": 4, \"46\": 3, \"27\": 1, \"29\": 1, \"47\": 1}, \"53\": {\"53\": 72, \"11\": 9, \"49\": 1, \"36\": 2, \"10\": 6, \"23\": 8, \"16\": 5, \"24\": 2, \"54\": 4, \"25\": 1, \"55\": 4, \"15\": 13, \"37\": 1, \"31\": 1, \"33\": 1, \"43\": 2}, \"1\": {\"1\": 29, \"56\": 1, \"57\": 5, \"48\": 2, \"40\": 3}, \"28\": {\"54\": 9, \"28\": 10, \"34\": 2, \"23\": 1, \"25\": 2, \"10\": 2, \"31\": 1, \"26\": 2, \"15\": 3}, \"54\": {\"54\": 91, \"55\": 2, \"32\": 2, \"23\": 4, \"31\": 2, \"19\": 2, \"15\": 2, \"28\": 1, \"42\": 1, \"16\": 1}, \"21\": {\"21\": 73, \"22\": 4, \"50\": 8, \"12\": 3, \"20\": 6, \"0\": 8, \"52\": 5, \"3\": 2, \"5\": 1, \"47\": 2, \"6\": 9, \"46\": 5, \"8\": 1, \"30\": 5}, \"7\": {\"54\": 1, \"38\": 6, \"26\": 2, \"36\": 2, \"7\": 7, \"19\": 1, \"17\": 1, \"35\": 2, \"33\": 2}, \"8\": {\"1\": 1, \"8\": 46, \"13\": 22, \"14\": 1, \"29\": 6, \"57\": 2, \"27\": 2, \"20\": 12, \"52\": 11, \"47\": 9, \"22\": 1, \"12\": 8, \"9\": 2, \"50\": 2, \"0\": 1, \"43\": 1, \"56\": 2, \"21\": 3, \"4\": 1, \"17\": 1, \"46\": 2}, \"42\": {\"7\": 2, \"42\": 13, \"36\": 5, \"55\": 2, \"17\": 3, \"35\": 1, \"32\": 1, \"38\": 2, \"33\": 2, \"34\": 1}, \"11\": {\"15\": 20, \"11\": 48, \"16\": 10, \"10\": 16, \"18\": 1, \"25\": 2, \"23\": 2, \"54\": 4, \"19\": 1}, \"33\": {\"33\": 31, \"17\": 1, \"38\": 3, \"14\": 1}, \"27\": {\"27\": 37, \"29\": 10, \"1\": 4, \"2\": 2, \"13\": 8, \"57\": 7, \"47\": 14, \"36\": 3, \"51\": 8, \"8\": 6, \"40\": 4, \"55\": 1, \"4\": 9, \"9\": 12, \"48\": 11, \"43\": 2, \"56\": 3, \"52\": 1}, \"19\": {\"33\": 4, \"19\": 103, \"7\": 1, \"26\": 2, \"23\": 5, \"55\": 10, \"36\": 4, \"54\": 5, \"35\": 4, \"17\": 2, \"10\": 1, \"15\": 2, \"25\": 1}, \"2\": {\"2\": 31, \"38\": 1, \"43\": 1, \"36\": 3}, \"3\": {\"21\": 2, \"22\": 13, \"0\": 1, \"46\": 12, \"3\": 56, \"12\": 9, \"50\": 9, \"45\": 2, \"5\": 7, \"6\": 7, \"30\": 1, \"44\": 1}, \"57\": {\"9\": 4, \"57\": 47, \"56\": 6, \"27\": 6, \"40\": 6, \"4\": 8, \"47\": 7, \"44\": 2, \"48\": 4, \"13\": 2, \"29\": 4, \"0\": 1, \"1\": 1, \"2\": 1, \"8\": 1}, \"20\": {\"20\": 53, \"4\": 1, \"8\": 9, \"13\": 2, \"52\": 5, \"3\": 3, \"27\": 7, \"21\": 11, \"46\": 8, \"29\": 2, \"50\": 2, \"47\": 2, \"0\": 4, \"57\": 2, \"9\": 1}, \"23\": {\"19\": 4, \"23\": 37, \"26\": 1, \"55\": 14, \"11\": 13, \"41\": 1, \"24\": 7, \"43\": 7, \"53\": 3, \"17\": 4, \"51\": 2, \"54\": 6, \"15\": 12, \"10\": 7, \"16\": 4, \"36\": 1, \"42\": 2, \"34\": 1, \"18\": 1, \"25\": 1}, \"22\": {\"21\": 2, \"0\": 5, \"22\": 47, \"5\": 9, \"3\": 7, \"30\": 3, \"50\": 9, \"52\": 1, \"6\": 12, \"46\": 14, \"45\": 3, \"44\": 2, \"40\": 1, \"4\": 4, \"47\": 1, \"56\": 1, \"12\": 4, \"9\": 2, \"48\": 1}, \"29\": {\"57\": 14, \"29\": 52, \"27\": 14, \"14\": 2, \"48\": 7, \"39\": 1, \"4\": 9, \"40\": 8, \"13\": 6, \"47\": 2, \"56\": 3, \"9\": 2, \"43\": 2, \"1\": 2}, \"36\": {\"36\": 67, \"39\": 3, \"17\": 6, \"33\": 1, \"49\": 1, \"32\": 1, \"43\": 3, \"27\": 1, \"35\": 1, \"55\": 5, \"38\": 1, \"42\": 1, \"2\": 1}, \"51\": {\"51\": 59, \"13\": 9, \"47\": 4, \"27\": 10, \"43\": 16, \"57\": 1, \"41\": 3, \"8\": 15, \"23\": 1, \"17\": 1, \"56\": 1, \"39\": 2, \"1\": 1, \"37\": 1, \"36\": 5, \"55\": 2, \"20\": 1}, \"31\": {\"31\": 20, \"24\": 2, \"54\": 5, \"16\": 1}, \"12\": {\"56\": 4, \"12\": 40, \"50\": 6, \"6\": 2, \"0\": 5, \"46\": 10, \"52\": 5, \"21\": 4, \"45\": 1, \"44\": 1, \"3\": 7, \"30\": 1, \"40\": 1, \"5\": 1, \"57\": 1, \"4\": 1, \"22\": 1, \"9\": 1}, \"56\": {\"57\": 7, \"1\": 2, \"46\": 3, \"56\": 64, \"48\": 10, \"4\": 7, \"27\": 5, \"47\": 8, \"9\": 7, \"8\": 1, \"13\": 1, \"40\": 12, \"29\": 8, \"0\": 1, \"44\": 2}, \"5\": {\"12\": 2, \"5\": 54, \"45\": 6, \"30\": 8, \"20\": 1, \"50\": 6, \"6\": 11, \"22\": 3, \"44\": 3, \"3\": 4, \"52\": 1, \"9\": 1, \"46\": 5, \"40\": 2, \"21\": 1}, \"35\": {\"33\": 7, \"43\": 2, \"36\": 1, \"19\": 3, \"49\": 1, \"35\": 12, \"7\": 4, \"17\": 1, \"42\": 1, \"54\": 1, \"55\": 2, \"1\": 1, \"23\": 1, \"31\": 2, \"34\": 1}, \"17\": {\"17\": 27, \"14\": 3, \"55\": 6, \"41\": 4, \"24\": 3, \"32\": 1, \"36\": 4, \"2\": 5, \"7\": 1, \"43\": 7, \"23\": 2, \"38\": 3, \"27\": 2, \"51\": 1, \"29\": 1, \"15\": 3, \"13\": 4, \"19\": 1, \"54\": 1, \"10\": 1}, \"32\": {\"42\": 3, \"14\": 1, \"17\": 4, \"32\": 11, \"2\": 1, \"43\": 1, \"13\": 1, \"55\": 2}, \"47\": {\"52\": 6, \"47\": 43, \"27\": 11, \"1\": 1, \"48\": 8, \"0\": 5, \"57\": 5, \"22\": 1, \"20\": 3, \"50\": 2, \"13\": 10, \"29\": 5, \"9\": 7, \"46\": 1, \"4\": 3, \"56\": 6, \"8\": 1, \"40\": 2}, \"18\": {\"18\": 71, \"53\": 1, \"31\": 3, \"25\": 14, \"16\": 7, \"11\": 4, \"23\": 2, \"13\": 1, \"26\": 1, \"10\": 1, \"54\": 2, \"15\": 1}, \"26\": {\"26\": 20, \"31\": 2, \"28\": 1, \"19\": 1}, \"50\": {\"50\": 45, \"6\": 10, \"5\": 10, \"22\": 15, \"46\": 15, \"3\": 16, \"4\": 1, \"52\": 3, \"12\": 3, \"30\": 1, \"45\": 1, \"21\": 1, \"44\": 1}, \"55\": {\"55\": 78, \"42\": 4, \"23\": 8, \"54\": 4, \"7\": 1, \"38\": 3, \"19\": 9, \"36\": 7, \"24\": 3, \"10\": 1, \"43\": 3, \"17\": 3}, \"34\": {\"15\": 3, \"34\": 19, \"36\": 2}, \"30\": {\"40\": 1, \"12\": 3, \"30\": 28, \"46\": 2, \"22\": 2, \"5\": 3, \"45\": 1, \"21\": 3, \"3\": 1}, \"37\": {\"37\": 15, \"41\": 5, \"29\": 1, \"51\": 1, \"13\": 1, \"17\": 1}, \"44\": {\"46\": 4, \"52\": 1, \"44\": 58, \"4\": 5, \"12\": 3, \"45\": 14, \"30\": 2, \"6\": 7, \"56\": 4, \"57\": 4, \"40\": 4, \"22\": 8, \"5\": 1, \"9\": 2, \"50\": 3, \"27\": 1, \"47\": 3, \"0\": 1, \"3\": 7}, \"48\": {\"4\": 9, \"14\": 1, \"47\": 7, \"2\": 1, \"1\": 5, \"22\": 1, \"12\": 3, \"48\": 42, \"57\": 9, \"27\": 4, \"56\": 11, \"29\": 2, \"9\": 5, \"40\": 8, \"46\": 1, \"13\": 4, \"44\": 1, \"51\": 1, \"8\": 3}, \"16\": {\"15\": 6, \"16\": 56, \"11\": 9, \"10\": 5, \"24\": 1, \"28\": 2, \"53\": 7, \"18\": 4, \"23\": 1, \"19\": 2, \"54\": 1, \"31\": 1, \"25\": 1}}, \"C_2\": {\"11\": {\"11\": 64, \"26\": 1, \"15\": 16, \"25\": 8, \"16\": 14, \"54\": 6, \"53\": 9, \"10\": 10, \"24\": 1, \"19\": 1}, \"21\": {\"21\": 92, \"3\": 5, \"12\": 3, \"50\": 6, \"6\": 3, \"46\": 2, \"30\": 4, \"52\": 1, \"4\": 2, \"5\": 2}, \"19\": {\"19\": 95, \"49\": 3, \"26\": 1, \"31\": 2, \"39\": 1, \"11\": 5, \"7\": 3, \"17\": 3, \"25\": 1, \"55\": 6, \"53\": 1, \"15\": 4, \"23\": 1, \"35\": 1, \"28\": 1, \"54\": 5, \"16\": 3, \"24\": 3, \"36\": 1}, \"20\": {\"20\": 45, \"12\": 4, \"47\": 4, \"13\": 1, \"46\": 8, \"30\": 3, \"52\": 23, \"8\": 11, \"21\": 3, \"0\": 3, \"50\": 3, \"56\": 2, \"9\": 3, \"57\": 2, \"27\": 9, \"41\": 1, \"5\": 1, \"6\": 1, \"29\": 1}, \"9\": {\"40\": 16, \"57\": 7, \"9\": 55, \"50\": 1, \"1\": 12, \"56\": 5, \"29\": 3, \"13\": 3, \"12\": 1, \"8\": 3, \"48\": 10, \"4\": 10, \"46\": 2, \"22\": 6, \"47\": 2, \"27\": 3, \"51\": 1}, \"10\": {\"39\": 1, \"10\": 63, \"54\": 3, \"23\": 5, \"24\": 5, \"15\": 12, \"53\": 3, \"16\": 6, \"11\": 11, \"37\": 1, \"28\": 1, \"49\": 1}, \"37\": {\"37\": 30, \"43\": 1, \"42\": 2, \"2\": 1, \"36\": 1, \"23\": 1}, \"32\": {\"32\": 26, \"41\": 1, \"2\": 1}, \"3\": {\"46\": 10, \"3\": 44, \"52\": 2, \"12\": 8, \"50\": 2, \"44\": 5, \"45\": 4, \"40\": 3, \"21\": 3, \"6\": 5, \"22\": 1, \"30\": 2, \"5\": 3}, \"39\": {\"39\": 13, \"43\": 2, \"23\": 4, \"31\": 3, \"36\": 2, \"34\": 2, \"55\": 2}, \"45\": {\"45\": 82, \"46\": 1, \"6\": 11, \"44\": 7, \"5\": 14, \"12\": 5, \"3\": 5, \"30\": 2, \"21\": 1}, \"50\": {\"21\": 12, \"50\": 36, \"47\": 5, \"3\": 5, \"57\": 4, \"0\": 8, \"30\": 19, \"22\": 2, \"12\": 5, \"52\": 3, \"6\": 4, \"56\": 4, \"46\": 8, \"5\": 9, \"44\": 1, \"27\": 1, \"48\": 1, \"40\": 4, \"9\": 1, \"45\": 2, \"1\": 1, \"4\": 1}, \"40\": {\"40\": 54, \"46\": 6, \"48\": 4, \"57\": 14, \"22\": 13, \"9\": 9, \"56\": 11, \"30\": 1, \"1\": 3, \"44\": 4, \"8\": 1, \"4\": 14, \"12\": 1, \"27\": 1, \"29\": 1, \"47\": 1, \"3\": 2}, \"46\": {\"50\": 13, \"3\": 6, \"30\": 9, \"46\": 57, \"48\": 2, \"52\": 3, \"6\": 4, \"40\": 6, \"12\": 4, \"22\": 4, \"44\": 8, \"47\": 2, \"1\": 2, \"57\": 2, \"21\": 4, \"4\": 1, \"0\": 1}, \"12\": {\"12\": 48, \"3\": 8, \"57\": 1, \"30\": 4, \"0\": 3, \"52\": 3, \"6\": 3, \"50\": 10, \"46\": 7, \"45\": 1, \"22\": 1, \"5\": 2, \"44\": 1}, \"13\": {\"13\": 85, \"8\": 8, \"33\": 1, \"38\": 2, \"51\": 10, \"20\": 2, \"2\": 1, \"27\": 7}, \"47\": {\"29\": 8, \"27\": 5, \"47\": 42, \"9\": 6, \"48\": 12, \"57\": 18, \"1\": 6, \"56\": 8, \"0\": 2, \"22\": 4, \"40\": 7, \"4\": 4, \"46\": 3, \"13\": 2, \"52\": 3, \"8\": 2}, \"15\": {\"53\": 20, \"15\": 71, \"34\": 1, \"11\": 11, \"23\": 3, \"10\": 12, \"16\": 9, \"54\": 4, \"25\": 2, \"24\": 7, \"39\": 1, \"36\": 1}, \"54\": {\"54\": 97, \"23\": 3, \"24\": 1, \"49\": 2, \"10\": 1, \"11\": 1, \"53\": 1, \"15\": 1, \"19\": 1}, \"48\": {\"48\": 73, \"38\": 1, \"47\": 12, \"13\": 3, \"56\": 3, \"40\": 8, \"22\": 8, \"4\": 2, \"57\": 15, \"9\": 9, \"27\": 2, \"1\": 9, \"46\": 1, \"8\": 2}, \"23\": {\"39\": 2, \"54\": 9, \"43\": 11, \"15\": 10, \"34\": 2, \"42\": 2, \"10\": 8, \"28\": 1, \"23\": 43, \"31\": 1, \"36\": 5, \"17\": 5, \"29\": 1, \"53\": 6, \"24\": 6, \"19\": 9, \"11\": 5, \"55\": 10, \"2\": 1, \"35\": 1, \"7\": 2, \"27\": 1, \"8\": 1}, \"29\": {\"40\": 6, \"29\": 55, \"27\": 10, \"33\": 1, \"56\": 8, \"32\": 2, \"41\": 2, \"47\": 1, \"36\": 1, \"4\": 7, \"43\": 1, \"9\": 10, \"13\": 2, \"57\": 7, \"1\": 6, \"48\": 5, \"17\": 2, \"8\": 1, \"55\": 1}, \"38\": {\"29\": 1, \"38\": 18, \"14\": 1}, \"53\": {\"53\": 66, \"15\": 5, \"10\": 8, \"28\": 3, \"36\": 3, \"26\": 1, \"55\": 6, \"24\": 9, \"54\": 7, \"16\": 3, \"11\": 5, \"17\": 4, \"19\": 2, \"23\": 5, \"51\": 3, \"37\": 1, \"43\": 5}, \"27\": {\"27\": 41, \"38\": 2, \"29\": 8, \"20\": 6, \"33\": 1, \"32\": 5, \"41\": 3, \"2\": 1, \"57\": 13, \"51\": 2, \"48\": 17, \"13\": 11, \"9\": 4, \"47\": 16, \"8\": 15, \"40\": 1, \"56\": 2, \"1\": 1, \"22\": 1}, \"43\": {\"43\": 120, \"33\": 1, \"37\": 2, \"17\": 4, \"36\": 4, \"2\": 1, \"51\": 2, \"23\": 4, \"55\": 2, \"24\": 3, \"53\": 1}, \"35\": {\"39\": 2, \"35\": 20, \"17\": 2, \"23\": 1, \"42\": 3, \"33\": 1, \"2\": 1, \"36\": 2}, \"0\": {\"21\": 1, \"0\": 23, \"12\": 6, \"5\": 3, \"1\": 1, \"46\": 4, \"48\": 2, \"30\": 1, \"22\": 1, \"52\": 1, \"50\": 4, \"40\": 1}, \"52\": {\"52\": 82, \"21\": 8, \"30\": 11, \"46\": 3, \"50\": 2, \"0\": 1, \"22\": 2, \"12\": 3, \"8\": 3, \"5\": 2, \"3\": 1, \"20\": 4, \"44\": 1, \"57\": 1}, \"8\": {\"52\": 7, \"30\": 1, \"41\": 1, \"8\": 43, \"14\": 1, \"13\": 10, \"0\": 2, \"20\": 11, \"57\": 6, \"47\": 2, \"56\": 2, \"17\": 1, \"9\": 2, \"50\": 3, \"27\": 12, \"46\": 9, \"36\": 1, \"29\": 4, \"51\": 3, \"48\": 2, \"32\": 1, \"43\": 2, \"22\": 1, \"40\": 1}, \"24\": {\"37\": 4, \"24\": 45, \"23\": 13, \"28\": 1, \"43\": 5, \"39\": 2, \"36\": 4, \"55\": 2, \"53\": 3, \"10\": 5, \"15\": 7, \"17\": 4, \"42\": 1}, \"18\": {\"25\": 3, \"18\": 34, \"26\": 4, \"16\": 2, \"54\": 1, \"15\": 1, \"53\": 1, \"11\": 2}, \"25\": {\"25\": 93, \"16\": 20, \"11\": 13, \"26\": 1, \"28\": 3, \"18\": 3, \"54\": 4, \"19\": 2, \"53\": 2, \"10\": 1, \"15\": 6}, \"57\": {\"57\": 57, \"1\": 8, \"40\": 11, \"56\": 3, \"47\": 13, \"9\": 11, \"8\": 3, \"48\": 13, \"4\": 4, \"0\": 3, \"27\": 4, \"22\": 3, \"46\": 1, \"29\": 1, \"50\": 1}, \"55\": {\"24\": 5, \"55\": 82, \"17\": 12, \"42\": 2, \"2\": 3, \"7\": 5, \"36\": 8, \"23\": 5, \"43\": 8, \"19\": 1, \"33\": 1, \"14\": 1, \"53\": 1}, \"36\": {\"36\": 104, \"55\": 5, \"31\": 1, \"17\": 3, \"24\": 3}, \"17\": {\"17\": 34, \"2\": 3, \"14\": 3, \"31\": 3, \"36\": 6, \"24\": 6, \"42\": 4, \"43\": 11, \"15\": 1, \"8\": 1, \"23\": 6, \"55\": 9, \"13\": 2, \"19\": 2, \"39\": 1, \"53\": 2, \"32\": 2, \"51\": 4, \"10\": 1, \"7\": 1, \"29\": 1, \"54\": 1}, \"2\": {\"17\": 3, \"2\": 29}, \"34\": {\"34\": 12, \"36\": 1, \"54\": 3, \"39\": 2, \"37\": 1, \"35\": 1, \"42\": 5, \"10\": 2, \"28\": 1}, \"1\": {\"57\": 4, \"40\": 9, \"51\": 5, \"1\": 47, \"38\": 1, \"56\": 8, \"14\": 2, \"9\": 7, \"27\": 3, \"22\": 6, \"4\": 6, \"48\": 8, \"29\": 2, \"8\": 2, \"13\": 1, \"47\": 1}, \"51\": {\"20\": 11, \"1\": 1, \"51\": 52, \"13\": 14, \"43\": 10, \"4\": 1, \"23\": 4, \"17\": 2, \"8\": 11, \"2\": 1, \"27\": 10, \"36\": 5, \"55\": 7, \"57\": 3, \"53\": 1, \"47\": 3}, \"31\": {\"31\": 23, \"42\": 2, \"34\": 2, \"39\": 1}, \"49\": {\"19\": 3, \"49\": 13, \"26\": 1, \"42\": 1, \"10\": 2, \"28\": 2, \"34\": 1, \"54\": 1}, \"14\": {\"41\": 1, \"27\": 2, \"14\": 17, \"33\": 2, \"13\": 1, \"32\": 1}, \"33\": {\"17\": 1, \"14\": 2, \"33\": 18, \"43\": 2, \"32\": 2, \"8\": 1, \"38\": 1, \"55\": 1}, \"41\": {\"41\": 15, \"8\": 1, \"27\": 1, \"13\": 1, \"47\": 1, \"38\": 1}, \"28\": {\"28\": 15, \"26\": 1, \"23\": 2, \"15\": 4, \"10\": 3, \"49\": 3}, \"5\": {\"5\": 68, \"0\": 1, \"6\": 5, \"12\": 7, \"44\": 5, \"45\": 15, \"50\": 5, \"46\": 5, \"40\": 1, \"21\": 1, \"57\": 1, \"3\": 3, \"1\": 1, \"30\": 1, \"22\": 1}, \"16\": {\"16\": 68, \"25\": 11, \"26\": 4, \"10\": 12, \"15\": 14, \"53\": 7, \"11\": 22, \"34\": 2, \"42\": 1, \"24\": 3, \"54\": 3, \"18\": 1, \"37\": 1, \"23\": 1}, \"4\": {\"22\": 11, \"4\": 47, \"9\": 11, \"48\": 9, \"29\": 2, \"47\": 4, \"56\": 7, \"57\": 8, \"1\": 12, \"40\": 14, \"13\": 1, \"50\": 1, \"27\": 1}, \"22\": {\"4\": 6, \"50\": 6, \"22\": 50, \"27\": 2, \"40\": 11, \"6\": 1, \"56\": 13, \"1\": 9, \"52\": 1, \"44\": 6, \"0\": 1, \"9\": 2, \"12\": 1, \"46\": 10, \"47\": 5, \"30\": 2, \"57\": 2, \"48\": 8}, \"6\": {\"6\": 70, \"12\": 17, \"45\": 5, \"3\": 9, \"46\": 5, \"21\": 1, \"44\": 3, \"5\": 5, \"0\": 1, \"50\": 2}, \"30\": {\"30\": 71, \"50\": 14, \"52\": 10, \"44\": 2, \"46\": 7, \"6\": 7, \"21\": 5, \"12\": 2, \"45\": 2, \"5\": 3, \"0\": 1}, \"26\": {\"26\": 11, \"24\": 1, \"28\": 2, \"23\": 1, \"49\": 1, \"53\": 1, \"10\": 1, \"11\": 2, \"16\": 3, \"25\": 1}, \"56\": {\"56\": 56, \"22\": 10, \"47\": 7, \"29\": 7, \"1\": 13, \"9\": 6, \"48\": 18, \"44\": 1, \"40\": 13, \"4\": 9, \"27\": 2}, \"42\": {\"42\": 17, \"31\": 4, \"36\": 1, \"19\": 1, \"37\": 2, \"15\": 1, \"54\": 1, \"43\": 1, \"7\": 1, \"39\": 1, \"49\": 1, \"17\": 1, \"23\": 1, \"28\": 1, \"34\": 1, \"53\": 1}, \"44\": {\"44\": 52, \"45\": 19, \"40\": 4, \"22\": 4, \"0\": 3, \"47\": 1, \"5\": 7, \"6\": 3, \"52\": 1, \"3\": 2, \"46\": 1, \"30\": 1, \"12\": 1, \"4\": 1}, \"7\": {\"7\": 20, \"23\": 2, \"17\": 2, \"55\": 4, \"11\": 1, \"39\": 1, \"42\": 1, \"31\": 2, \"19\": 2, \"36\": 1}}, \"W_3\": {\"38\": {\"38\": 8, \"103\": 1, \"81\": 2, \"17\": 1, \"72\": 2, \"25\": 1, \"19\": 1}, \"88\": {\"88\": 105, \"27\": 1, \"39\": 1, \"21\": 3, \"70\": 2}, \"104\": {\"123\": 2, \"22\": 1, \"115\": 2, \"129\": 2, \"104\": 5, \"42\": 1, \"102\": 1, \"111\": 1, \"25\": 1}, \"11\": {\"27\": 4, \"126\": 12, \"36\": 5, \"94\": 4, \"11\": 50, \"24\": 1, \"43\": 1, \"113\": 2, \"109\": 5, \"110\": 4, \"0\": 7, \"87\": 1, \"30\": 7, \"101\": 2, \"108\": 12, \"39\": 2, \"93\": 1, \"10\": 7, \"8\": 7, \"15\": 2, \"88\": 1, \"118\": 2, \"70\": 1}, \"103\": {\"104\": 1, \"103\": 3, \"58\": 1, \"63\": 1, \"124\": 1, \"85\": 1, \"119\": 1, \"55\": 1, \"31\": 1, \"115\": 1, \"5\": 2, \"92\": 2}, \"124\": {\"104\": 1, \"124\": 71, \"123\": 1, \"59\": 1, \"116\": 1, \"128\": 2, \"102\": 3, \"117\": 5, \"125\": 4, \"111\": 10, \"5\": 4, \"90\": 4, \"65\": 1, \"13\": 2, \"89\": 1, \"73\": 1, \"6\": 2, \"85\": 1, \"4\": 1}, \"3\": {\"14\": 6, \"3\": 65, \"1\": 7, \"92\": 1, \"43\": 1, \"127\": 7, \"71\": 5, \"5\": 1, \"40\": 4, \"44\": 1, \"24\": 1, \"84\": 2, \"26\": 1, \"27\": 1, \"7\": 3, \"105\": 3, \"12\": 1, \"16\": 1, \"114\": 3, \"11\": 1, \"33\": 1}, \"74\": {\"74\": 4, \"3\": 1, \"103\": 1, \"107\": 2, \"92\": 2, \"115\": 1, \"98\": 1, \"73\": 1, \"81\": 2, \"38\": 1}, \"126\": {\"126\": 30, \"11\": 9, \"110\": 3, \"118\": 3, \"43\": 3, \"88\": 7, \"24\": 4, \"21\": 4, \"39\": 9, \"30\": 5, \"8\": 4, \"108\": 11, \"109\": 6, \"10\": 5, \"27\": 3, \"36\": 5, \"122\": 2, \"0\": 2, \"70\": 2, \"113\": 4, \"87\": 1}, \"123\": {\"123\": 12, \"124\": 2, \"6\": 1, \"79\": 1}, \"51\": {\"3\": 1, \"38\": 1, \"51\": 12, \"60\": 2}, \"14\": {\"14\": 26, \"3\": 4, \"1\": 4, \"26\": 1, \"44\": 2, \"40\": 4, \"33\": 9, \"69\": 7, \"114\": 2, \"107\": 1, \"105\": 4, \"18\": 4, \"92\": 1, \"15\": 1, \"16\": 1, \"71\": 2, \"106\": 2, \"127\": 4, \"93\": 1}, \"16\": {\"16\": 40, \"51\": 1, \"7\": 9, \"62\": 12, \"127\": 5, \"12\": 5, \"105\": 1, \"106\": 6, \"84\": 8, \"3\": 2, \"8\": 2, \"93\": 6, \"27\": 2, \"33\": 1, \"26\": 2, \"14\": 1, \"101\": 3, \"71\": 1, \"15\": 4, \"114\": 1, \"36\": 1, \"1\": 1, \"113\": 1, \"18\": 1}, \"22\": {\"22\": 11, \"17\": 1, \"111\": 1, \"119\": 1, \"42\": 1, \"116\": 1}, \"109\": {\"27\": 6, \"11\": 4, \"94\": 1, \"43\": 2, \"0\": 3, \"109\": 37, \"36\": 5, \"126\": 17, \"21\": 8, \"30\": 6, \"113\": 5, \"108\": 7, \"10\": 4, \"87\": 5, \"122\": 1, \"39\": 5, \"88\": 1, \"16\": 1, \"15\": 1, \"24\": 2, \"101\": 1}, \"27\": {\"27\": 50, \"70\": 5, \"24\": 5, \"109\": 4, \"10\": 8, \"39\": 4, \"108\": 10, \"126\": 2, \"110\": 1, \"36\": 5, \"43\": 1, \"30\": 1}, \"75\": {\"99\": 2, \"75\": 10, \"40\": 1, \"78\": 1, \"95\": 1, \"72\": 1}, \"66\": {\"6\": 1, \"66\": 6, \"29\": 1, \"124\": 2, \"68\": 1, \"85\": 1, \"120\": 1, \"32\": 1, \"86\": 1, \"50\": 1}, \"48\": {\"115\": 1, \"6\": 1, \"86\": 1, \"48\": 8, \"66\": 1, \"68\": 1, \"125\": 1, \"102\": 1, \"77\": 1}, \"6\": {\"6\": 18, \"66\": 1, \"83\": 1, \"29\": 3, \"37\": 2, \"111\": 1, \"90\": 2, \"77\": 1, \"128\": 1, \"59\": 1, \"121\": 1}, \"10\": {\"126\": 8, \"10\": 60, \"24\": 3, \"70\": 3, \"108\": 4, \"39\": 6, \"11\": 4, \"30\": 1, \"36\": 8, \"27\": 7, \"110\": 2, \"109\": 3, \"43\": 1, \"88\": 2}, \"99\": {\"75\": 5, \"72\": 1, \"54\": 1, \"1\": 1, \"95\": 1, \"99\": 15, \"19\": 1, \"107\": 1, \"34\": 2, \"44\": 3, \"47\": 1, \"32\": 1, \"114\": 1, \"9\": 1, \"85\": 1}, \"50\": {\"6\": 1, \"53\": 1, \"50\": 6, \"72\": 1, \"48\": 1, \"37\": 1, \"59\": 1, \"107\": 1, \"95\": 1, \"82\": 2}, \"54\": {\"54\": 12, \"72\": 2, \"34\": 1, \"53\": 1}, \"55\": {\"53\": 2, \"64\": 2, \"55\": 4, \"121\": 1, \"61\": 1, \"95\": 1, \"42\": 1, \"92\": 1, \"58\": 1, \"90\": 2}, \"53\": {\"53\": 9, \"54\": 2, \"107\": 1, \"99\": 1, \"20\": 2, \"95\": 1, \"44\": 2, \"14\": 1, \"114\": 1}, \"72\": {\"54\": 2, \"53\": 1, \"1\": 1, \"72\": 12, \"38\": 1, \"18\": 1, \"105\": 2, \"101\": 1, \"34\": 1, \"95\": 1, \"3\": 1, \"112\": 1, \"114\": 1, \"99\": 1, \"25\": 1}, \"64\": {\"66\": 1, \"48\": 1, \"64\": 7, \"61\": 1, \"55\": 2, \"41\": 1, \"59\": 1, \"57\": 1, \"111\": 1, \"103\": 2, \"92\": 1, \"52\": 1}, \"115\": {\"10\": 1, \"115\": 7, \"80\": 1, \"45\": 1, \"120\": 1, \"102\": 1, \"48\": 1, \"119\": 1, \"67\": 2}, \"23\": {\"23\": 13, \"3\": 1, \"26\": 1, \"84\": 2, \"69\": 1, \"114\": 2, \"15\": 5, \"0\": 1, \"14\": 1, \"8\": 1, \"7\": 1, \"127\": 1, \"106\": 1, \"1\": 1}, \"32\": {\"32\": 6, \"90\": 2, \"112\": 1, \"58\": 1, \"128\": 3, \"95\": 1, \"46\": 1, \"98\": 2, \"73\": 1, \"57\": 1, \"40\": 1, \"42\": 1, \"92\": 1, \"50\": 1, \"20\": 1, \"81\": 2, \"9\": 1, \"19\": 2, \"8\": 2, \"124\": 1}, \"15\": {\"8\": 6, \"15\": 85, \"88\": 1, \"94\": 2, \"87\": 2, \"113\": 2, \"39\": 1, \"23\": 2, \"12\": 3}, \"43\": {\"43\": 12, \"70\": 1, \"30\": 3, \"109\": 5, \"0\": 5, \"94\": 4, \"10\": 2, \"39\": 3, \"122\": 1, \"8\": 1, \"126\": 3, \"21\": 2, \"118\": 2, \"113\": 1, \"11\": 3, \"108\": 1, \"15\": 2, \"62\": 1, \"106\": 1, \"88\": 1, \"110\": 1, \"36\": 1}, \"114\": {\"114\": 55, \"47\": 2, \"69\": 6, \"107\": 5, \"34\": 1, \"14\": 2, \"105\": 11, \"70\": 1, \"18\": 1, \"1\": 11, \"3\": 7, \"126\": 1, \"40\": 9, \"90\": 1, \"33\": 2, \"98\": 2, \"127\": 1, \"81\": 1, \"12\": 1, \"71\": 2, \"44\": 2}, \"121\": {\"90\": 1, \"32\": 1, \"34\": 1, \"55\": 1, \"89\": 1, \"41\": 1, \"129\": 2, \"121\": 15, \"99\": 1, \"128\": 2, \"111\": 1, \"103\": 1, \"66\": 1, \"67\": 1, \"91\": 1, \"82\": 1}, \"79\": {\"41\": 1, \"13\": 1, \"63\": 1, \"79\": 9}, \"81\": {\"107\": 2, \"114\": 1, \"33\": 1, \"18\": 2, \"82\": 3, \"81\": 11, \"92\": 1, \"44\": 2, \"105\": 2, \"95\": 1, \"74\": 1, \"100\": 1, \"26\": 2, \"9\": 2}, \"8\": {\"43\": 1, \"15\": 9, \"101\": 2, \"8\": 82, \"110\": 11, \"0\": 7, \"87\": 1, \"108\": 1, \"113\": 7, \"106\": 1, \"94\": 2, \"109\": 1, \"11\": 1, \"7\": 1, \"93\": 1}, \"13\": {\"79\": 2, \"86\": 1, \"13\": 9, \"67\": 1, \"124\": 1, \"63\": 1, \"94\": 1}, \"90\": {\"57\": 3, \"72\": 1, \"58\": 1, \"90\": 100, \"112\": 1, \"91\": 2, \"20\": 1, \"99\": 1, \"111\": 11, \"116\": 1, \"129\": 2, \"124\": 1, \"14\": 1, \"107\": 5, \"5\": 5, \"98\": 6, \"28\": 2, \"86\": 2, \"100\": 1, \"81\": 2, \"32\": 1, \"9\": 1, \"83\": 1, \"29\": 1, \"85\": 1, \"44\": 1, \"3\": 1}, \"41\": {\"79\": 1, \"32\": 1, \"64\": 2, \"41\": 6, \"5\": 1, \"112\": 1, \"119\": 1, \"116\": 1, \"55\": 1, \"42\": 1}, \"107\": {\"38\": 2, \"107\": 62, \"92\": 1, \"9\": 5, \"13\": 1, \"99\": 1, \"25\": 2, \"1\": 11, \"114\": 4, \"105\": 4, \"98\": 8, \"40\": 10, \"90\": 3, \"44\": 3, \"127\": 4, \"3\": 3, \"5\": 4, \"33\": 1, \"49\": 1, \"35\": 1, \"74\": 1, \"71\": 3, \"12\": 1}, \"57\": {\"32\": 4, \"81\": 1, \"57\": 8, \"128\": 1, \"92\": 1, \"111\": 2, \"76\": 1, \"74\": 1, \"90\": 1}, \"33\": {\"33\": 77, \"1\": 3, \"69\": 10, \"18\": 4, \"105\": 5, \"40\": 3, \"14\": 5, \"16\": 1, \"114\": 3, \"127\": 1, \"76\": 1, \"71\": 1, \"62\": 2, \"26\": 3, \"84\": 1}, \"35\": {\"35\": 7, \"54\": 2, \"72\": 1, \"31\": 1, \"127\": 1}, \"29\": {\"42\": 1, \"54\": 1, \"85\": 1, \"29\": 9, \"120\": 1, \"116\": 1, \"52\": 1, \"92\": 1, \"6\": 2, \"99\": 1, \"25\": 1, \"82\": 1, \"38\": 1, \"124\": 1, \"73\": 1, \"98\": 3, \"91\": 1, \"107\": 3, \"69\": 1}, \"70\": {\"70\": 49, \"24\": 3, \"39\": 6, \"88\": 7, \"126\": 2, \"108\": 1, \"78\": 1, \"27\": 1, \"21\": 1, \"10\": 1}, \"42\": {\"70\": 1, \"28\": 1, \"42\": 3, \"57\": 1, \"17\": 1, \"19\": 2, \"90\": 4, \"65\": 1, \"91\": 3, \"124\": 1, \"32\": 2, \"103\": 1, \"36\": 1, \"68\": 1, \"95\": 1, \"116\": 1, \"41\": 2, \"64\": 1}, \"93\": {\"97\": 2, \"114\": 2, \"93\": 63, \"12\": 7, \"62\": 15, \"106\": 3, \"71\": 2, \"40\": 2, \"16\": 7, \"113\": 3, \"84\": 2, \"118\": 1, \"7\": 4, \"11\": 2, \"127\": 2, \"23\": 1, \"94\": 1, \"126\": 2, \"33\": 1, \"0\": 1, \"3\": 1, \"110\": 1, \"105\": 1}, \"86\": {\"125\": 1, \"86\": 18, \"80\": 1, \"2\": 1, \"111\": 3, \"68\": 1, \"17\": 1, \"119\": 2}, \"28\": {\"29\": 1, \"54\": 1, \"103\": 1, \"34\": 1, \"28\": 4, \"31\": 2, \"85\": 1, \"124\": 1, \"77\": 1, \"90\": 1, \"121\": 1, \"92\": 1}, \"1\": {\"1\": 37, \"33\": 2, \"14\": 6, \"3\": 7, \"114\": 10, \"44\": 3, \"105\": 12, \"106\": 1, \"18\": 3, \"69\": 1, \"98\": 1, \"40\": 5, \"10\": 1, \"26\": 3, \"84\": 1, \"16\": 2, \"107\": 2, \"127\": 7, \"62\": 1, \"71\": 1, \"101\": 1, \"90\": 1}, \"125\": {\"86\": 2, \"125\": 112, \"102\": 1, \"12\": 1, \"22\": 1, \"59\": 1, \"123\": 1, \"117\": 1, \"90\": 1, \"4\": 2, \"124\": 1}, \"69\": {\"69\": 58, \"1\": 1, \"33\": 6, \"99\": 1, \"44\": 1, \"62\": 1, \"108\": 1, \"18\": 3, \"10\": 1, \"14\": 4, \"114\": 3, \"107\": 1, \"27\": 1, \"98\": 1, \"12\": 1}, \"97\": {\"43\": 3, \"122\": 1, \"97\": 5, \"106\": 2, \"94\": 1, \"49\": 2, \"0\": 2, \"20\": 1, \"87\": 2, \"101\": 1}, \"117\": {\"119\": 2, \"65\": 2, \"117\": 54, \"91\": 2, \"111\": 8, \"98\": 3, \"90\": 3, \"102\": 3, \"124\": 9, \"125\": 3, \"5\": 11, \"107\": 1, \"73\": 2, \"81\": 4, \"6\": 2, \"129\": 1, \"2\": 2}, \"68\": {\"119\": 3, \"111\": 1, \"115\": 1, \"68\": 6, \"48\": 2, \"112\": 1, \"86\": 1, \"120\": 1}, \"30\": {\"36\": 8, \"30\": 31, \"94\": 3, \"122\": 1, \"108\": 3, \"118\": 6, \"109\": 6, \"24\": 2, \"15\": 1, \"10\": 1, \"0\": 7, \"11\": 3, \"8\": 1, \"126\": 2, \"88\": 1, \"87\": 3, \"110\": 2, \"21\": 1, \"27\": 2}, \"111\": {\"119\": 1, \"111\": 98, \"68\": 1, \"120\": 1, \"6\": 1, \"121\": 1, \"90\": 7, \"124\": 12, \"117\": 4, \"104\": 1, \"129\": 1, \"103\": 1, \"5\": 2, \"102\": 1}, \"47\": {\"114\": 2, \"65\": 1, \"128\": 2, \"34\": 2, \"25\": 2, \"47\": 2, \"99\": 1}, \"102\": {\"117\": 6, \"119\": 3, \"102\": 80, \"85\": 1, \"61\": 1, \"5\": 9, \"111\": 11, \"125\": 3, \"124\": 6, \"4\": 2, \"129\": 1, \"128\": 1}, \"65\": {\"65\": 2, \"111\": 1, \"90\": 1, \"20\": 1, \"53\": 1, \"85\": 1, \"19\": 1, \"92\": 1, \"41\": 1, \"107\": 1, \"73\": 1}, \"113\": {\"43\": 3, \"113\": 41, \"87\": 10, \"97\": 1, \"122\": 6, \"96\": 1, \"11\": 6, \"30\": 2, \"90\": 1, \"118\": 12, \"0\": 2, \"3\": 1, \"93\": 4, \"8\": 7, \"7\": 2, \"108\": 3, \"109\": 2, \"16\": 2, \"110\": 3, \"73\": 1, \"15\": 4, \"84\": 2, \"126\": 3, \"10\": 1}, \"36\": {\"10\": 11, \"36\": 56, \"11\": 2, \"24\": 2, \"39\": 1, \"108\": 15, \"109\": 3, \"87\": 2, \"118\": 1, \"30\": 5, \"27\": 5, \"126\": 5, \"0\": 4, \"122\": 1, \"8\": 1}, \"119\": {\"125\": 2, \"119\": 6, \"63\": 1, \"80\": 1, \"124\": 2, \"22\": 1, \"116\": 1, \"41\": 2}, \"46\": {\"72\": 1, \"17\": 3, \"38\": 3, \"9\": 1, \"46\": 4, \"128\": 1, \"31\": 1, \"89\": 1, \"49\": 1}, \"49\": {\"23\": 2, \"101\": 2, \"60\": 1, \"16\": 1, \"12\": 2, \"15\": 1, \"49\": 7, \"125\": 1, \"72\": 1, \"106\": 1, \"68\": 1, \"14\": 1, \"84\": 2, \"127\": 1}, \"0\": {\"94\": 5, \"30\": 7, \"97\": 2, \"43\": 2, \"0\": 55, \"101\": 1, \"110\": 7, \"11\": 2, \"87\": 4, \"15\": 3, \"108\": 2, \"10\": 1, \"8\": 6, \"36\": 2, \"88\": 1, \"7\": 2, \"113\": 5, \"62\": 1, \"118\": 2, \"93\": 1, \"109\": 1, \"12\": 2, \"126\": 2}, \"58\": {\"103\": 1, \"46\": 1, \"112\": 1, \"128\": 1, \"98\": 2, \"58\": 2, \"120\": 1, \"116\": 2, \"13\": 1, \"64\": 1, \"115\": 1, \"83\": 1, \"123\": 1}, \"63\": {\"63\": 10, \"79\": 1, \"59\": 2, \"124\": 1, \"125\": 1, \"37\": 1}, \"94\": {\"0\": 8, \"94\": 60, \"106\": 1, \"110\": 3, \"8\": 3, \"97\": 2, \"15\": 4, \"11\": 1, \"122\": 2}, \"17\": {\"63\": 1, \"94\": 1, \"39\": 3, \"109\": 1, \"79\": 2, \"80\": 1, \"4\": 1, \"10\": 2, \"126\": 2, \"52\": 1, \"127\": 1}, \"9\": {\"18\": 2, \"9\": 22, \"83\": 1, \"107\": 4, \"6\": 1, \"128\": 1, \"1\": 1}, \"87\": {\"87\": 40, \"113\": 5, \"39\": 6, \"110\": 10, \"94\": 2, \"15\": 5, \"122\": 4, \"109\": 4, \"106\": 1, \"24\": 2, \"11\": 7, \"10\": 4, \"12\": 1, \"108\": 3, \"8\": 4, \"118\": 7, \"126\": 3, \"7\": 2, \"30\": 1, \"97\": 2, \"27\": 3, \"36\": 1, \"96\": 1, \"43\": 1, \"93\": 1}, \"59\": {\"115\": 1, \"59\": 9, \"51\": 1, \"6\": 1}, \"105\": {\"72\": 1, \"105\": 43, \"14\": 12, \"44\": 3, \"107\": 8, \"81\": 1, \"114\": 7, \"1\": 6, \"127\": 6, \"71\": 3, \"33\": 13, \"84\": 2, \"40\": 11, \"3\": 1, \"34\": 1, \"83\": 1, \"62\": 1}, \"80\": {\"115\": 1, \"80\": 8, \"10\": 1, \"119\": 1, \"125\": 2, \"4\": 2, \"59\": 1}, \"120\": {\"115\": 1, \"81\": 1, \"120\": 7, \"119\": 1, \"79\": 1, \"45\": 1, \"37\": 1, \"52\": 1, \"72\": 1, \"13\": 2, \"103\": 1, \"57\": 1, \"64\": 1}, \"18\": {\"33\": 5, \"26\": 7, \"18\": 101, \"62\": 4, \"31\": 1, \"128\": 1, \"105\": 2, \"40\": 2, \"71\": 1, \"127\": 2, \"39\": 1, \"69\": 1, \"9\": 2, \"111\": 1, \"16\": 1}, \"78\": {\"78\": 12, \"21\": 2, \"94\": 2}, \"25\": {\"25\": 11, \"19\": 1, \"83\": 2, \"28\": 1, \"85\": 1}, \"19\": {\"19\": 10, \"95\": 3, \"64\": 1, \"77\": 1, \"112\": 2, \"13\": 1, \"73\": 4, \"128\": 1, \"32\": 1, \"5\": 1, \"52\": 1, \"65\": 1, \"74\": 1, \"111\": 1, \"9\": 1, \"83\": 2}, \"122\": {\"122\": 22, \"39\": 2, \"97\": 1, \"106\": 5, \"94\": 3, \"110\": 2, \"8\": 2, \"113\": 1, \"15\": 3, \"10\": 1, \"88\": 2, \"43\": 1, \"109\": 1, \"93\": 2, \"87\": 3, \"12\": 2, \"18\": 1, \"118\": 4, \"101\": 1, \"0\": 1}, \"39\": {\"122\": 1, \"39\": 46, \"87\": 1, \"30\": 2, \"88\": 8, \"70\": 5, \"126\": 7, \"10\": 10, \"27\": 7, \"8\": 1, \"108\": 4, \"109\": 7, \"11\": 3, \"43\": 1, \"24\": 1, \"36\": 3, \"113\": 1}, \"76\": {\"72\": 1, \"19\": 1, \"81\": 1, \"57\": 1, \"120\": 2, \"76\": 2, \"91\": 1, \"44\": 2, \"31\": 1, \"64\": 1, \"95\": 2, \"99\": 1}, \"89\": {\"72\": 1, \"117\": 1, \"89\": 7, \"77\": 1, \"65\": 1, \"20\": 1, \"76\": 1, \"90\": 3, \"111\": 1, \"67\": 1, \"129\": 3, \"104\": 1, \"99\": 2, \"29\": 1, \"128\": 1, \"5\": 1, \"18\": 1}, \"129\": {\"111\": 2, \"129\": 20, \"85\": 1, \"67\": 1, \"86\": 1, \"5\": 2, \"89\": 1, \"116\": 1, \"115\": 1, \"6\": 1, \"90\": 1}, \"26\": {\"47\": 1, \"26\": 32, \"72\": 1, \"14\": 4, \"110\": 2, \"101\": 1, \"88\": 2, \"87\": 1, \"93\": 5, \"18\": 12, \"69\": 1, \"84\": 3, \"3\": 1, \"118\": 1, \"127\": 2, \"16\": 5, \"105\": 2, \"33\": 4, \"53\": 1, \"70\": 1, \"12\": 1, \"39\": 1, \"62\": 11, \"15\": 1, \"71\": 1, \"114\": 2, \"113\": 1}, \"85\": {\"103\": 1, \"85\": 17, \"56\": 1, \"32\": 1, \"64\": 1, \"128\": 1, \"46\": 1, \"65\": 1, \"53\": 1, \"66\": 1, \"73\": 1, \"29\": 1, \"5\": 3, \"90\": 3, \"9\": 1, \"107\": 1}, \"71\": {\"47\": 1, \"71\": 39, \"16\": 2, \"127\": 3, \"84\": 5, \"1\": 1, \"3\": 6, \"88\": 1, \"44\": 1, \"114\": 3, \"105\": 4, \"101\": 1, \"118\": 1}, \"77\": {\"77\": 3, \"103\": 1, \"19\": 2, \"42\": 1, \"128\": 1, \"95\": 1, \"120\": 2, \"121\": 1, \"47\": 2, \"124\": 1, \"65\": 1}, \"128\": {\"128\": 12, \"85\": 1, \"92\": 5, \"41\": 1, \"46\": 1, \"32\": 1, \"89\": 1, \"34\": 1, \"73\": 2, \"95\": 1, \"58\": 1, \"19\": 2, \"29\": 1, \"103\": 1, \"111\": 1}, \"2\": {\"50\": 2, \"42\": 1, \"19\": 1, \"29\": 4, \"91\": 1, \"48\": 1, \"37\": 1, \"32\": 1, \"2\": 9, \"111\": 1, \"68\": 1, \"5\": 2, \"117\": 2, \"98\": 1}, \"56\": {\"54\": 1, \"52\": 1, \"13\": 2, \"19\": 2, \"78\": 2, \"72\": 2, \"90\": 2}, \"24\": {\"70\": 3, \"10\": 2, \"24\": 23, \"11\": 1, \"36\": 3, \"108\": 2, \"27\": 4, \"30\": 2, \"88\": 4, \"39\": 2, \"78\": 1, \"87\": 1}, \"101\": {\"70\": 1, \"101\": 23, \"43\": 1, \"7\": 3, \"51\": 1, \"49\": 1, \"106\": 5, \"12\": 4, \"8\": 1, \"3\": 2, \"24\": 1, \"118\": 1, \"93\": 2, \"97\": 1, \"16\": 3, \"122\": 1, \"94\": 1}, \"52\": {\"50\": 1, \"52\": 3, \"112\": 1, \"5\": 1, \"85\": 1, \"68\": 1, \"124\": 2, \"92\": 1, \"103\": 1, \"6\": 1, \"58\": 1, \"128\": 1, \"64\": 1}, \"84\": {\"84\": 32, \"26\": 7, \"40\": 2, \"16\": 9, \"94\": 3, \"110\": 3, \"18\": 5, \"1\": 1, \"71\": 12, \"7\": 4, \"93\": 3, \"127\": 7, \"106\": 1, \"3\": 2, \"70\": 1, \"14\": 4, \"62\": 4, \"44\": 1, \"0\": 2, \"96\": 2, \"101\": 1, \"105\": 1, \"15\": 1}, \"7\": {\"7\": 69, \"16\": 5, \"84\": 4, \"49\": 1, \"101\": 3, \"15\": 1, \"3\": 1, \"14\": 1, \"106\": 6, \"127\": 6, \"94\": 1, \"118\": 1, \"44\": 1, \"110\": 2, \"8\": 1, \"126\": 1, \"87\": 1, \"12\": 3, \"93\": 2, \"26\": 2}, \"82\": {\"82\": 18, \"107\": 1, \"29\": 1, \"5\": 2, \"61\": 2, \"74\": 1, \"31\": 1, \"85\": 1, \"84\": 1}, \"60\": {\"60\": 16, \"113\": 3, \"93\": 2, \"94\": 1, \"62\": 1, \"101\": 1, \"3\": 1, \"12\": 1, \"110\": 1, \"127\": 1}, \"45\": {\"24\": 1, \"45\": 3, \"17\": 2, \"5\": 2, \"21\": 1, \"2\": 2, \"37\": 2, \"115\": 1, \"36\": 1, \"103\": 1}, \"40\": {\"114\": 13, \"127\": 5, \"40\": 32, \"53\": 1, \"34\": 1, \"1\": 13, \"69\": 5, \"71\": 2, \"105\": 6, \"26\": 3, \"9\": 1, \"44\": 5, \"107\": 12, \"73\": 1, \"33\": 5, \"18\": 4, \"93\": 2, \"74\": 1, \"84\": 2, \"31\": 2, \"16\": 3, \"90\": 1, \"14\": 1, \"98\": 1, \"3\": 1, \"62\": 1}, \"20\": {\"20\": 9, \"83\": 1, \"75\": 1, \"81\": 1, \"35\": 1, \"100\": 1, \"72\": 1, \"17\": 1}, \"4\": {\"45\": 1, \"4\": 77, \"86\": 2, \"117\": 2, \"124\": 1, \"90\": 1, \"79\": 1, \"104\": 2, \"102\": 3, \"125\": 5, \"111\": 1}, \"116\": {\"64\": 1, \"4\": 1, \"117\": 1, \"95\": 2, \"116\": 3, \"42\": 1, \"129\": 2, \"34\": 1, \"124\": 3, \"1\": 2, \"89\": 1, \"56\": 1, \"120\": 1, \"125\": 1, \"80\": 2, \"77\": 1, \"6\": 1, \"17\": 1, \"119\": 2}, \"61\": {\"9\": 1, \"61\": 6, \"5\": 1, \"98\": 3, \"40\": 1, \"31\": 1, \"82\": 1, \"92\": 1, \"81\": 1}, \"5\": {\"5\": 76, \"46\": 1, \"32\": 1, \"124\": 1, \"111\": 12, \"85\": 1, \"90\": 4, \"117\": 7, \"73\": 1, \"2\": 1, \"50\": 1, \"129\": 1, \"89\": 1, \"102\": 1, \"98\": 1, \"70\": 1, \"88\": 1}, \"106\": {\"106\": 63, \"127\": 6, \"49\": 1, \"88\": 1, \"93\": 4, \"12\": 6, \"101\": 4, \"16\": 6, \"7\": 5, \"3\": 2, \"23\": 1, \"8\": 1}, \"12\": {\"93\": 3, \"12\": 47, \"101\": 4, \"16\": 12, \"15\": 8, \"62\": 2, \"7\": 10, \"3\": 1, \"106\": 5, \"94\": 1, \"113\": 2, \"8\": 3, \"127\": 1, \"122\": 1, \"84\": 3, \"114\": 1}, \"62\": {\"62\": 66, \"71\": 1, \"93\": 5, \"18\": 3, \"84\": 5, \"26\": 10, \"118\": 2, \"127\": 2, \"7\": 1, \"44\": 2, \"8\": 2, \"3\": 1, \"16\": 5, \"106\": 2, \"110\": 4, \"12\": 1, \"0\": 1, \"11\": 1, \"33\": 2, \"60\": 1, \"113\": 1, \"87\": 1, \"10\": 1}, \"34\": {\"47\": 1, \"34\": 10, \"92\": 1, \"114\": 1, \"23\": 1, \"19\": 2, \"100\": 1, \"81\": 2, \"128\": 3, \"72\": 1, \"28\": 1, \"53\": 1, \"44\": 2, \"42\": 1, \"35\": 1, \"69\": 1, \"99\": 1, \"30\": 1}, \"91\": {\"91\": 8, \"55\": 1, \"90\": 4, \"76\": 1, \"29\": 3, \"99\": 1, \"42\": 2, \"128\": 1, \"32\": 1, \"98\": 1, \"89\": 1}, \"112\": {\"112\": 7, \"128\": 1, \"109\": 1, \"117\": 1, \"57\": 1, \"121\": 1, \"38\": 1, \"77\": 1, \"115\": 1, \"58\": 1}, \"92\": {\"92\": 9, \"107\": 3, \"83\": 1, \"112\": 2, \"57\": 1, \"29\": 2, \"74\": 2, \"103\": 2, \"95\": 1, \"76\": 1, \"100\": 1, \"58\": 2, \"14\": 1, \"46\": 1, \"128\": 2, \"99\": 1}, \"95\": {\"72\": 1, \"95\": 18, \"98\": 2, \"107\": 1, \"19\": 1, \"17\": 2, \"53\": 2, \"83\": 1, \"34\": 1, \"75\": 2, \"114\": 1}, \"96\": {\"96\": 11, \"126\": 1, \"51\": 1, \"94\": 1, \"62\": 1, \"71\": 1, \"0\": 1, \"84\": 1, \"12\": 1, \"101\": 1}, \"127\": {\"127\": 49, \"84\": 6, \"71\": 2, \"15\": 1, \"40\": 1, \"88\": 1, \"3\": 7, \"107\": 1, \"93\": 3, \"62\": 2, \"7\": 6, \"16\": 7, \"114\": 5, \"8\": 1, \"26\": 1, \"101\": 1, \"12\": 1, \"49\": 2, \"106\": 4, \"60\": 1, \"44\": 1, \"110\": 1, \"105\": 2, \"1\": 1, \"39\": 1}, \"67\": {\"67\": 11, \"129\": 2, \"117\": 1, \"116\": 1, \"36\": 1}, \"83\": {\"20\": 2, \"98\": 2, \"83\": 8, \"35\": 1, \"92\": 1, \"51\": 1, \"73\": 1, \"95\": 1, \"53\": 1, \"99\": 1, \"47\": 1, \"34\": 1, \"14\": 1, \"44\": 1, \"85\": 1}, \"21\": {\"78\": 2, \"21\": 39, \"106\": 1, \"117\": 1, \"127\": 1, \"88\": 3, \"10\": 1}, \"98\": {\"83\": 1, \"98\": 95, \"99\": 2, \"92\": 1, \"90\": 7, \"73\": 2, \"40\": 1, \"25\": 2, \"95\": 2, \"20\": 2, \"54\": 1, \"9\": 1, \"34\": 1, \"114\": 1, \"124\": 1, \"29\": 2, \"5\": 1, \"107\": 1}, \"108\": {\"24\": 2, \"30\": 8, \"108\": 68, \"10\": 8, \"11\": 7, \"36\": 9, \"113\": 1, \"126\": 4, \"0\": 3, \"27\": 9, \"39\": 2, \"87\": 2, \"122\": 1, \"43\": 1, \"70\": 1, \"109\": 3, \"101\": 1, \"110\": 1, \"88\": 1}, \"31\": {\"2\": 1, \"31\": 7, \"95\": 2, \"45\": 1, \"53\": 1, \"20\": 1, \"99\": 2, \"121\": 1, \"28\": 1, \"34\": 1, \"42\": 1, \"90\": 1}, \"118\": {\"96\": 1, \"113\": 9, \"18\": 1, \"118\": 35, \"10\": 2, \"70\": 1, \"11\": 5, \"122\": 5, \"62\": 2, \"7\": 1, \"30\": 1, \"0\": 5, \"110\": 7, \"88\": 1, \"87\": 3, \"8\": 3, \"15\": 2, \"94\": 6, \"43\": 1, \"36\": 2, \"126\": 2, \"101\": 3, \"93\": 1, \"109\": 1}, \"110\": {\"110\": 21, \"23\": 1, \"122\": 7, \"70\": 2, \"113\": 10, \"94\": 2, \"87\": 8, \"127\": 1, \"11\": 5, \"118\": 9, \"93\": 2, \"8\": 5, \"15\": 3, \"109\": 4, \"0\": 2, \"7\": 2, \"43\": 1, \"60\": 1, \"106\": 1, \"108\": 2, \"126\": 1, \"10\": 1, \"36\": 1}, \"73\": {\"19\": 3, \"73\": 25, \"111\": 1, \"32\": 1, \"105\": 1, \"44\": 1, \"5\": 1, \"95\": 1, \"65\": 1, \"85\": 1, \"128\": 1, \"34\": 1, \"57\": 2}, \"44\": {\"44\": 34, \"1\": 3, \"99\": 3, \"75\": 1, \"105\": 5, \"40\": 11, \"114\": 6, \"3\": 2, \"5\": 1, \"51\": 1, \"127\": 1, \"14\": 1, \"117\": 1, \"98\": 1, \"33\": 1}, \"37\": {\"37\": 8, \"32\": 1, \"129\": 1, \"6\": 1, \"64\": 1, \"22\": 1, \"68\": 1, \"66\": 2}, \"100\": {\"82\": 1, \"100\": 9, \"92\": 3, \"67\": 1, \"107\": 1, \"81\": 1}}}, \"per_domain_accuracy\": {\"O_26\": {\"accuracy\": 0.28671875, \"source?\": true}, \"O_44\": {\"accuracy\": 0.825, \"source?\": true}, \"O_50\": {\"accuracy\": 0.9208333333333333, \"source?\": true}, \"O_38\": {\"accuracy\": 0.84296875, \"source?\": true}, \"O_20\": {\"accuracy\": 0.14791666666666667, \"source?\": true}, \"O_14\": {\"accuracy\": 0.3390625, \"source?\": true}, \"O_32\": {\"accuracy\": 0.80078125, \"source?\": true}, \"O_8\": {\"accuracy\": 0.3260416666666667, \"source?\": true}, \"W_4\": {\"accuracy\": 0.45177469135802467, \"source?\": false}, \"W_1\": {\"accuracy\": 0.5082097457627118, \"source?\": false}, \"C_5\": {\"accuracy\": 0.5228701117318436, \"source?\": false}, \"C_1\": {\"accuracy\": 0.5934103260869565, \"source?\": false}, \"W_2\": {\"accuracy\": 0.4986924686192469, \"source?\": false}, \"C_3\": {\"accuracy\": 0.5290441176470588, \"source?\": false}, \"C_4\": {\"accuracy\": 0.5084713855421686, \"source?\": false}, \"C_2\": {\"accuracy\": 0.5154474431818182, \"source?\": false}, \"W_3\": {\"accuracy\": 0.4969978165938865, \"source?\": false}}}, \"history\": {\"epoch_indices\": [1, 2, 3, 4, 5], \"train_label_loss\": [0.443103412344187, 1.1787909049701522, 0.3682491898381462, 0.31222531474223136, 0.27078215208547635], \"source_val_label_loss\": [262.005859375, 0.369240939617157, 0.33173617720603943, 0.33532121777534485, 0.2770865261554718], \"target_val_label_loss\": [18488.400390625, 6144.66357421875, 3177.839111328125, 3589.380126953125, 3687.531494140625], \"source_val_acc_label\": [0.5611653645833333, 0.8726888020833333, 0.8924479166666667, 0.8800455729166666, 0.9024739583333333], \"target_val_acc_label\": [0.51073682766191, 0.3249005214050494, 0.504390779363337, 0.47019072447859495, 0.47477017014270034]}, \"dataset_metrics\": {\"source\": {\"train\": {\"n_unique_x\": 179200, \"n_unique_y\": 16, \"n_batch/episode\": 6720}, \"val\": {\"n_unique_x\": 38400, \"n_unique_y\": 16, \"n_batch/episode\": 960}, \"test\": {\"n_unique_x\": 38400, \"n_unique_y\": 16, \"n_batch/episode\": 960}}, \"target\": {\"train\": {\"n_unique_x\": 364204, \"n_unique_y\": 130, \"n_batch/episode\": 13168}, \"val\": {\"n_unique_x\": 77221, \"n_unique_y\": 130, \"n_batch/episode\": 1822}, \"test\": {\"n_unique_x\": 78360, \"n_unique_y\": 130, \"n_batch/episode\": 1854}}}}'"
      ]
     },
     "execution_count": 29,
     "metadata": {},
     "output_type": "execute_result"
    }
   ],
   "source": [
    "json.dumps(experiment)"
   ]
  }
 ],
 "metadata": {
  "celltoolbar": "Tags",
  "kernelspec": {
   "display_name": "Python 3 (ipykernel)",
   "language": "python",
   "name": "python3"
  },
  "language_info": {
   "codemirror_mode": {
    "name": "ipython",
    "version": 3
   },
   "file_extension": ".py",
   "mimetype": "text/x-python",
   "name": "python",
   "nbconvert_exporter": "python",
   "pygments_lexer": "ipython3",
   "version": "3.8.10"
  },
  "papermill": {
   "default_parameters": {},
   "duration": 1018.988583,
   "end_time": "2022-03-21T03:04:07.576683",
   "environment_variables": {},
   "exception": null,
   "input_path": "/mnt/wd500GB/CSC500/csc500-main/csc500-notebooks/templates/tl_ptn_template.ipynb",
   "output_path": "trial.ipynb",
   "parameters": {
    "parameters": {
     "BEST_MODEL_PATH": "./best_model.pth",
     "NUM_LOGS_PER_EPOCH": 10,
     "criteria_for_best": "target_accuracy",
     "dataset_seed": 7,
     "datasets": [
      {
       "domain_prefix": "C_",
       "domains": [
        1,
        2,
        3,
        4,
        5
       ],
       "episode_transforms": [],
       "labels": [
        "1-10.",
        "1-11.",
        "1-15.",
        "1-16.",
        "1-17.",
        "1-18.",
        "1-19.",
        "10-4.",
        "10-7.",
        "11-1.",
        "11-14.",
        "11-17.",
        "11-20.",
        "11-7.",
        "13-20.",
        "13-8.",
        "14-10.",
        "14-11.",
        "14-14.",
        "14-7.",
        "15-1.",
        "15-20.",
        "16-1.",
        "16-16.",
        "17-10.",
        "17-11.",
        "17-2.",
        "19-1.",
        "19-16.",
        "19-19.",
        "19-20.",
        "19-3.",
        "2-10.",
        "2-11.",
        "2-17.",
        "2-18.",
        "2-20.",
        "2-3.",
        "2-4.",
        "2-5.",
        "2-6.",
        "2-7.",
        "2-8.",
        "3-13.",
        "3-18.",
        "3-3.",
        "4-1.",
        "4-10.",
        "4-11.",
        "4-19.",
        "5-5.",
        "6-15.",
        "7-10.",
        "7-14.",
        "8-18.",
        "8-20.",
        "8-3.",
        "8-8."
       ],
       "num_examples_per_domain_per_label": -1,
       "pickle_path": "/mnt/wd500GB/CSC500/csc500-main/datasets/cores.stratified_ds.2022A.pkl",
       "source_or_target_dataset": "target",
       "x_transforms": [
        "take_200"
       ]
      },
      {
       "domain_prefix": "W_",
       "domains": [
        1,
        2,
        3,
        4
       ],
       "episode_transforms": [],
       "labels": [
        "1-10",
        "1-12",
        "1-14",
        "1-16",
        "1-18",
        "1-19",
        "1-8",
        "10-11",
        "10-17",
        "10-4",
        "10-7",
        "11-1",
        "11-10",
        "11-19",
        "11-20",
        "11-4",
        "11-7",
        "12-19",
        "12-20",
        "12-7",
        "13-14",
        "13-18",
        "13-19",
        "13-20",
        "13-3",
        "13-7",
        "14-10",
        "14-11",
        "14-12",
        "14-13",
        "14-14",
        "14-19",
        "14-20",
        "14-7",
        "14-8",
        "14-9",
        "15-1",
        "15-19",
        "15-6",
        "16-1",
        "16-16",
        "16-19",
        "16-20",
        "17-10",
        "17-11",
        "18-1",
        "18-10",
        "18-11",
        "18-12",
        "18-13",
        "18-14",
        "18-15",
        "18-16",
        "18-17",
        "18-19",
        "18-2",
        "18-20",
        "18-4",
        "18-5",
        "18-7",
        "18-8",
        "18-9",
        "19-1",
        "19-10",
        "19-11",
        "19-12",
        "19-13",
        "19-14",
        "19-15",
        "19-19",
        "19-2",
        "19-20",
        "19-3",
        "19-4",
        "19-6",
        "19-7",
        "19-8",
        "19-9",
        "2-1",
        "2-13",
        "2-15",
        "2-3",
        "2-4",
        "2-5",
        "2-6",
        "2-7",
        "2-8",
        "20-1",
        "20-12",
        "20-14",
        "20-15",
        "20-16",
        "20-18",
        "20-19",
        "20-20",
        "20-3",
        "20-4",
        "20-5",
        "20-7",
        "20-8",
        "3-1",
        "3-13",
        "3-18",
        "3-2",
        "3-8",
        "4-1",
        "4-10",
        "4-11",
        "5-1",
        "5-5",
        "6-1",
        "6-15",
        "6-6",
        "7-10",
        "7-11",
        "7-12",
        "7-13",
        "7-14",
        "7-7",
        "7-8",
        "7-9",
        "8-1",
        "8-13",
        "8-14",
        "8-18",
        "8-20",
        "8-3",
        "8-8",
        "9-1",
        "9-7"
       ],
       "num_examples_per_domain_per_label": -1,
       "pickle_path": "/mnt/wd500GB/CSC500/csc500-main/datasets/wisig.node3-19.stratified_ds.2022A.pkl",
       "source_or_target_dataset": "target",
       "x_transforms": [
        "take_200"
       ]
      },
      {
       "domain_prefix": "O_",
       "domains": [
        32,
        38,
        8,
        44,
        14,
        50,
        20,
        26
       ],
       "episode_transforms": [],
       "labels": [
        "3123D52",
        "3123D65",
        "3123D79",
        "3123D80",
        "3123D54",
        "3123D70",
        "3123D7B",
        "3123D89",
        "3123D58",
        "3123D76",
        "3123D7D",
        "3123EFE",
        "3123D64",
        "3123D78",
        "3123D7E",
        "3124E4A"
       ],
       "num_examples_per_domain_per_label": 2000,
       "pickle_path": "/mnt/wd500GB/CSC500/csc500-main/datasets/oracle.Run1_framed_2000Examples_stratified_ds.2022A.pkl",
       "source_or_target_dataset": "source",
       "x_transforms": [
        "take_200",
        "resample_20Msps_to_25Msps"
       ]
      }
     ],
     "device": "cuda",
     "experiment_name": "tl_3Av2:oracle.run1.framed -> cores+wisig",
     "lr": 0.0001,
     "n_epoch": 50,
     "n_query": 2,
     "n_shot": 3,
     "n_way": 16,
     "patience": 3,
     "seed": 7,
     "test_k_factor": 2,
     "torch_default_dtype": "torch.float32",
     "train_k_factor": 3,
     "val_k_factor": 2,
     "x_net": [
      {
       "class": "nnReshape",
       "kargs": {
        "shape": [
         -1,
         1,
         2,
         200
        ]
       }
      },
      {
       "class": "Conv2d",
       "kargs": {
        "bias": false,
        "in_channels": 1,
        "kernel_size": [
         1,
         7
        ],
        "out_channels": 256,
        "padding": [
         0,
         3
        ]
       }
      },
      {
       "class": "ReLU",
       "kargs": {
        "inplace": true
       }
      },
      {
       "class": "BatchNorm2d",
       "kargs": {
        "num_features": 256
       }
      },
      {
       "class": "Conv2d",
       "kargs": {
        "bias": true,
        "in_channels": 256,
        "kernel_size": [
         2,
         7
        ],
        "out_channels": 80,
        "padding": [
         0,
         3
        ]
       }
      },
      {
       "class": "ReLU",
       "kargs": {
        "inplace": true
       }
      },
      {
       "class": "BatchNorm2d",
       "kargs": {
        "num_features": 80
       }
      },
      {
       "class": "Flatten",
       "kargs": {}
      },
      {
       "class": "Linear",
       "kargs": {
        "in_features": 16000,
        "out_features": 256
       }
      },
      {
       "class": "ReLU",
       "kargs": {
        "inplace": true
       }
      },
      {
       "class": "BatchNorm1d",
       "kargs": {
        "num_features": 256
       }
      },
      {
       "class": "Linear",
       "kargs": {
        "in_features": 256,
        "out_features": 256
       }
      }
     ],
     "x_shape": [
      2,
      200
     ]
    }
   },
   "start_time": "2022-03-21T02:47:08.588100",
   "version": "2.3.4"
  }
 },
 "nbformat": 4,
 "nbformat_minor": 5
}