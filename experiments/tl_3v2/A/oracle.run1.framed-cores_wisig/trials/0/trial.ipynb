{
 "cells": [
  {
   "cell_type": "markdown",
   "id": "9fea5f46",
   "metadata": {
    "papermill": {
     "duration": 0.018156,
     "end_time": "2022-03-20T20:55:19.419346",
     "exception": false,
     "start_time": "2022-03-20T20:55:19.401190",
     "status": "completed"
    },
    "tags": []
   },
   "source": [
    "# Transfer Learning Template"
   ]
  },
  {
   "cell_type": "code",
   "execution_count": 1,
   "id": "0902182a",
   "metadata": {
    "execution": {
     "iopub.execute_input": "2022-03-20T20:55:19.459156Z",
     "iopub.status.busy": "2022-03-20T20:55:19.458771Z",
     "iopub.status.idle": "2022-03-20T20:55:20.627077Z",
     "shell.execute_reply": "2022-03-20T20:55:20.626780Z"
    },
    "papermill": {
     "duration": 1.195259,
     "end_time": "2022-03-20T20:55:20.627146",
     "exception": false,
     "start_time": "2022-03-20T20:55:19.431887",
     "status": "completed"
    },
    "tags": []
   },
   "outputs": [],
   "source": [
    "%load_ext autoreload\n",
    "%autoreload 2\n",
    "%matplotlib inline\n",
    "\n",
    "    \n",
    "import os, json, sys, time, random\n",
    "import numpy as np\n",
    "import torch\n",
    "from torch.optim import Adam\n",
    "from  easydict import EasyDict\n",
    "import matplotlib.pyplot as plt\n",
    "\n",
    "from steves_models.steves_ptn import Steves_Prototypical_Network\n",
    "\n",
    "from steves_utils.lazy_iterable_wrapper import Lazy_Iterable_Wrapper\n",
    "from steves_utils.iterable_aggregator import Iterable_Aggregator\n",
    "from steves_utils.ptn_train_eval_test_jig import  PTN_Train_Eval_Test_Jig\n",
    "from steves_utils.torch_sequential_builder import build_sequential\n",
    "from steves_utils.torch_utils import get_dataset_metrics, ptn_confusion_by_domain_over_dataloader\n",
    "from steves_utils.utils_v2 import (per_domain_accuracy_from_confusion, get_datasets_base_path)\n",
    "from steves_utils.PTN.utils import independent_accuracy_assesment\n",
    "\n",
    "from torch.utils.data import DataLoader\n",
    "\n",
    "from steves_utils.stratified_dataset.episodic_accessor import Episodic_Accessor_Factory\n",
    "\n",
    "from steves_utils.ptn_do_report import (\n",
    "    get_loss_curve,\n",
    "    get_results_table,\n",
    "    get_parameters_table,\n",
    "    get_domain_accuracies,\n",
    ")\n",
    "\n",
    "from steves_utils.transforms import get_chained_transform"
   ]
  },
  {
   "cell_type": "markdown",
   "id": "41c840b4",
   "metadata": {
    "papermill": {
     "duration": 0.01267,
     "end_time": "2022-03-20T20:55:20.652889",
     "exception": false,
     "start_time": "2022-03-20T20:55:20.640219",
     "status": "completed"
    },
    "tags": []
   },
   "source": [
    "# Allowed Parameters\n",
    "These are allowed parameters, not defaults\n",
    "Each of these values need to be present in the injected parameters (the notebook will raise an exception if they are not present)\n",
    "\n",
    "Papermill uses the cell tag \"parameters\" to inject the real parameters below this cell.\n",
    "Enable tags to see what I mean"
   ]
  },
  {
   "cell_type": "code",
   "execution_count": 2,
   "id": "fd44eb83",
   "metadata": {
    "execution": {
     "iopub.execute_input": "2022-03-20T20:55:20.681444Z",
     "iopub.status.busy": "2022-03-20T20:55:20.681171Z",
     "iopub.status.idle": "2022-03-20T20:55:20.694124Z",
     "shell.execute_reply": "2022-03-20T20:55:20.693662Z"
    },
    "papermill": {
     "duration": 0.028767,
     "end_time": "2022-03-20T20:55:20.694226",
     "exception": false,
     "start_time": "2022-03-20T20:55:20.665459",
     "status": "completed"
    },
    "tags": []
   },
   "outputs": [],
   "source": [
    "required_parameters = {\n",
    "    \"experiment_name\",\n",
    "    \"lr\",\n",
    "    \"device\",\n",
    "    \"seed\",\n",
    "    \"dataset_seed\",\n",
    "    \"n_shot\",\n",
    "    \"n_query\",\n",
    "    \"n_way\",\n",
    "    \"train_k_factor\",\n",
    "    \"val_k_factor\",\n",
    "    \"test_k_factor\",\n",
    "    \"n_epoch\",\n",
    "    \"patience\",\n",
    "    \"criteria_for_best\",\n",
    "    \"x_net\",\n",
    "    \"datasets\",\n",
    "    \"torch_default_dtype\",\n",
    "    \"NUM_LOGS_PER_EPOCH\",\n",
    "    \"BEST_MODEL_PATH\",\n",
    "    \"x_shape\",\n",
    "}"
   ]
  },
  {
   "cell_type": "code",
   "execution_count": 3,
   "id": "fa3f0049",
   "metadata": {
    "execution": {
     "iopub.execute_input": "2022-03-20T20:55:20.735071Z",
     "iopub.status.busy": "2022-03-20T20:55:20.734783Z",
     "iopub.status.idle": "2022-03-20T20:55:20.747801Z",
     "shell.execute_reply": "2022-03-20T20:55:20.747293Z"
    },
    "papermill": {
     "duration": 0.036162,
     "end_time": "2022-03-20T20:55:20.747906",
     "exception": false,
     "start_time": "2022-03-20T20:55:20.711744",
     "status": "completed"
    },
    "tags": [
     "parameters"
    ]
   },
   "outputs": [],
   "source": [
    "from steves_utils.CORES.utils import (\n",
    "    ALL_NODES,\n",
    "    ALL_NODES_MINIMUM_1000_EXAMPLES,\n",
    "    ALL_DAYS\n",
    ")\n",
    "\n",
    "from steves_utils.ORACLE.utils_v2 import (\n",
    "    ALL_DISTANCES_FEET_NARROWED,\n",
    "    ALL_RUNS,\n",
    "    ALL_SERIAL_NUMBERS,\n",
    ")\n",
    "\n",
    "standalone_parameters = {}\n",
    "standalone_parameters[\"experiment_name\"] = \"STANDALONE PTN\"\n",
    "standalone_parameters[\"lr\"] = 0.001\n",
    "standalone_parameters[\"device\"] = \"cuda\"\n",
    "\n",
    "standalone_parameters[\"seed\"] = 1337\n",
    "standalone_parameters[\"dataset_seed\"] = 1337\n",
    "\n",
    "standalone_parameters[\"n_way\"] = 8\n",
    "standalone_parameters[\"n_shot\"] = 3\n",
    "standalone_parameters[\"n_query\"]  = 2\n",
    "standalone_parameters[\"train_k_factor\"] = 1\n",
    "standalone_parameters[\"val_k_factor\"] = 2\n",
    "standalone_parameters[\"test_k_factor\"] = 2\n",
    "\n",
    "\n",
    "standalone_parameters[\"n_epoch\"] = 50\n",
    "\n",
    "standalone_parameters[\"patience\"] = 10\n",
    "standalone_parameters[\"criteria_for_best\"] = \"source_loss\"\n",
    "\n",
    "standalone_parameters[\"datasets\"] = [\n",
    "    {\n",
    "        \"labels\": ALL_SERIAL_NUMBERS,\n",
    "        \"domains\": ALL_DISTANCES_FEET_NARROWED,\n",
    "        \"num_examples_per_domain_per_label\": 100,\n",
    "        \"pickle_path\": os.path.join(get_datasets_base_path(), \"oracle.Run1_framed_2000Examples_stratified_ds.2022A.pkl\"),\n",
    "        \"source_or_target_dataset\": \"source\",\n",
    "        \"x_transforms\": [\"unit_mag\", \"minus_two\"],\n",
    "        \"episode_transforms\": [],\n",
    "        \"domain_prefix\": \"ORACLE_\"\n",
    "    },\n",
    "    {\n",
    "        \"labels\": ALL_NODES,\n",
    "        \"domains\": ALL_DAYS,\n",
    "        \"num_examples_per_domain_per_label\": 100,\n",
    "        \"pickle_path\": os.path.join(get_datasets_base_path(), \"cores.stratified_ds.2022A.pkl\"),\n",
    "        \"source_or_target_dataset\": \"target\",\n",
    "        \"x_transforms\": [\"unit_power\", \"times_zero\"],\n",
    "        \"episode_transforms\": [],\n",
    "        \"domain_prefix\": \"CORES_\"\n",
    "    }   \n",
    "]\n",
    "\n",
    "standalone_parameters[\"torch_default_dtype\"] = \"torch.float32\" \n",
    "\n",
    "\n",
    "\n",
    "standalone_parameters[\"x_net\"] =     [\n",
    "    {\"class\": \"nnReshape\", \"kargs\": {\"shape\":[-1, 1, 2, 256]}},\n",
    "    {\"class\": \"Conv2d\", \"kargs\": { \"in_channels\":1, \"out_channels\":256, \"kernel_size\":(1,7), \"bias\":False, \"padding\":(0,3), },},\n",
    "    {\"class\": \"ReLU\", \"kargs\": {\"inplace\": True}},\n",
    "    {\"class\": \"BatchNorm2d\", \"kargs\": {\"num_features\":256}},\n",
    "\n",
    "    {\"class\": \"Conv2d\", \"kargs\": { \"in_channels\":256, \"out_channels\":80, \"kernel_size\":(2,7), \"bias\":True, \"padding\":(0,3), },},\n",
    "    {\"class\": \"ReLU\", \"kargs\": {\"inplace\": True}},\n",
    "    {\"class\": \"BatchNorm2d\", \"kargs\": {\"num_features\":80}},\n",
    "    {\"class\": \"Flatten\", \"kargs\": {}},\n",
    "\n",
    "    {\"class\": \"Linear\", \"kargs\": {\"in_features\": 80*256, \"out_features\": 256}}, # 80 units per IQ pair\n",
    "    {\"class\": \"ReLU\", \"kargs\": {\"inplace\": True}},\n",
    "    {\"class\": \"BatchNorm1d\", \"kargs\": {\"num_features\":256}},\n",
    "\n",
    "    {\"class\": \"Linear\", \"kargs\": {\"in_features\": 256, \"out_features\": 256}},\n",
    "]\n",
    "\n",
    "# Parameters relevant to results\n",
    "# These parameters will basically never need to change\n",
    "standalone_parameters[\"NUM_LOGS_PER_EPOCH\"] = 10\n",
    "standalone_parameters[\"BEST_MODEL_PATH\"] = \"./best_model.pth\"\n",
    "\n",
    "\n",
    "\n",
    "\n"
   ]
  },
  {
   "cell_type": "code",
   "execution_count": 4,
   "id": "122e30e2",
   "metadata": {
    "execution": {
     "iopub.execute_input": "2022-03-20T20:55:20.795293Z",
     "iopub.status.busy": "2022-03-20T20:55:20.781325Z",
     "iopub.status.idle": "2022-03-20T20:55:20.812574Z",
     "shell.execute_reply": "2022-03-20T20:55:20.812054Z"
    },
    "papermill": {
     "duration": 0.045654,
     "end_time": "2022-03-20T20:55:20.812680",
     "exception": false,
     "start_time": "2022-03-20T20:55:20.767026",
     "status": "completed"
    },
    "tags": [
     "injected-parameters"
    ]
   },
   "outputs": [],
   "source": [
    "# Parameters\n",
    "parameters = {\n",
    "    \"experiment_name\": \"tl_3Av2:oracle.run1.framed -> cores+wisig\",\n",
    "    \"device\": \"cuda\",\n",
    "    \"lr\": 0.0001,\n",
    "    \"x_shape\": [2, 200],\n",
    "    \"n_shot\": 3,\n",
    "    \"n_query\": 2,\n",
    "    \"train_k_factor\": 3,\n",
    "    \"val_k_factor\": 2,\n",
    "    \"test_k_factor\": 2,\n",
    "    \"torch_default_dtype\": \"torch.float32\",\n",
    "    \"n_epoch\": 50,\n",
    "    \"patience\": 3,\n",
    "    \"criteria_for_best\": \"target_accuracy\",\n",
    "    \"x_net\": [\n",
    "        {\"class\": \"nnReshape\", \"kargs\": {\"shape\": [-1, 1, 2, 200]}},\n",
    "        {\n",
    "            \"class\": \"Conv2d\",\n",
    "            \"kargs\": {\n",
    "                \"in_channels\": 1,\n",
    "                \"out_channels\": 256,\n",
    "                \"kernel_size\": [1, 7],\n",
    "                \"bias\": False,\n",
    "                \"padding\": [0, 3],\n",
    "            },\n",
    "        },\n",
    "        {\"class\": \"ReLU\", \"kargs\": {\"inplace\": True}},\n",
    "        {\"class\": \"BatchNorm2d\", \"kargs\": {\"num_features\": 256}},\n",
    "        {\n",
    "            \"class\": \"Conv2d\",\n",
    "            \"kargs\": {\n",
    "                \"in_channels\": 256,\n",
    "                \"out_channels\": 80,\n",
    "                \"kernel_size\": [2, 7],\n",
    "                \"bias\": True,\n",
    "                \"padding\": [0, 3],\n",
    "            },\n",
    "        },\n",
    "        {\"class\": \"ReLU\", \"kargs\": {\"inplace\": True}},\n",
    "        {\"class\": \"BatchNorm2d\", \"kargs\": {\"num_features\": 80}},\n",
    "        {\"class\": \"Flatten\", \"kargs\": {}},\n",
    "        {\"class\": \"Linear\", \"kargs\": {\"in_features\": 16000, \"out_features\": 256}},\n",
    "        {\"class\": \"ReLU\", \"kargs\": {\"inplace\": True}},\n",
    "        {\"class\": \"BatchNorm1d\", \"kargs\": {\"num_features\": 256}},\n",
    "        {\"class\": \"Linear\", \"kargs\": {\"in_features\": 256, \"out_features\": 256}},\n",
    "    ],\n",
    "    \"NUM_LOGS_PER_EPOCH\": 10,\n",
    "    \"BEST_MODEL_PATH\": \"./best_model.pth\",\n",
    "    \"n_way\": 16,\n",
    "    \"datasets\": [\n",
    "        {\n",
    "            \"labels\": [\n",
    "                \"1-10.\",\n",
    "                \"1-11.\",\n",
    "                \"1-15.\",\n",
    "                \"1-16.\",\n",
    "                \"1-17.\",\n",
    "                \"1-18.\",\n",
    "                \"1-19.\",\n",
    "                \"10-4.\",\n",
    "                \"10-7.\",\n",
    "                \"11-1.\",\n",
    "                \"11-14.\",\n",
    "                \"11-17.\",\n",
    "                \"11-20.\",\n",
    "                \"11-7.\",\n",
    "                \"13-20.\",\n",
    "                \"13-8.\",\n",
    "                \"14-10.\",\n",
    "                \"14-11.\",\n",
    "                \"14-14.\",\n",
    "                \"14-7.\",\n",
    "                \"15-1.\",\n",
    "                \"15-20.\",\n",
    "                \"16-1.\",\n",
    "                \"16-16.\",\n",
    "                \"17-10.\",\n",
    "                \"17-11.\",\n",
    "                \"17-2.\",\n",
    "                \"19-1.\",\n",
    "                \"19-16.\",\n",
    "                \"19-19.\",\n",
    "                \"19-20.\",\n",
    "                \"19-3.\",\n",
    "                \"2-10.\",\n",
    "                \"2-11.\",\n",
    "                \"2-17.\",\n",
    "                \"2-18.\",\n",
    "                \"2-20.\",\n",
    "                \"2-3.\",\n",
    "                \"2-4.\",\n",
    "                \"2-5.\",\n",
    "                \"2-6.\",\n",
    "                \"2-7.\",\n",
    "                \"2-8.\",\n",
    "                \"3-13.\",\n",
    "                \"3-18.\",\n",
    "                \"3-3.\",\n",
    "                \"4-1.\",\n",
    "                \"4-10.\",\n",
    "                \"4-11.\",\n",
    "                \"4-19.\",\n",
    "                \"5-5.\",\n",
    "                \"6-15.\",\n",
    "                \"7-10.\",\n",
    "                \"7-14.\",\n",
    "                \"8-18.\",\n",
    "                \"8-20.\",\n",
    "                \"8-3.\",\n",
    "                \"8-8.\",\n",
    "            ],\n",
    "            \"domains\": [1, 2, 3, 4, 5],\n",
    "            \"num_examples_per_domain_per_label\": -1,\n",
    "            \"pickle_path\": \"/mnt/wd500GB/CSC500/csc500-main/datasets/cores.stratified_ds.2022A.pkl\",\n",
    "            \"source_or_target_dataset\": \"target\",\n",
    "            \"x_transforms\": [\"unit_power\", \"take_200\"],\n",
    "            \"episode_transforms\": [],\n",
    "            \"domain_prefix\": \"C_\",\n",
    "        },\n",
    "        {\n",
    "            \"labels\": [\n",
    "                \"1-10\",\n",
    "                \"1-12\",\n",
    "                \"1-14\",\n",
    "                \"1-16\",\n",
    "                \"1-18\",\n",
    "                \"1-19\",\n",
    "                \"1-8\",\n",
    "                \"10-11\",\n",
    "                \"10-17\",\n",
    "                \"10-4\",\n",
    "                \"10-7\",\n",
    "                \"11-1\",\n",
    "                \"11-10\",\n",
    "                \"11-19\",\n",
    "                \"11-20\",\n",
    "                \"11-4\",\n",
    "                \"11-7\",\n",
    "                \"12-19\",\n",
    "                \"12-20\",\n",
    "                \"12-7\",\n",
    "                \"13-14\",\n",
    "                \"13-18\",\n",
    "                \"13-19\",\n",
    "                \"13-20\",\n",
    "                \"13-3\",\n",
    "                \"13-7\",\n",
    "                \"14-10\",\n",
    "                \"14-11\",\n",
    "                \"14-12\",\n",
    "                \"14-13\",\n",
    "                \"14-14\",\n",
    "                \"14-19\",\n",
    "                \"14-20\",\n",
    "                \"14-7\",\n",
    "                \"14-8\",\n",
    "                \"14-9\",\n",
    "                \"15-1\",\n",
    "                \"15-19\",\n",
    "                \"15-6\",\n",
    "                \"16-1\",\n",
    "                \"16-16\",\n",
    "                \"16-19\",\n",
    "                \"16-20\",\n",
    "                \"17-10\",\n",
    "                \"17-11\",\n",
    "                \"18-1\",\n",
    "                \"18-10\",\n",
    "                \"18-11\",\n",
    "                \"18-12\",\n",
    "                \"18-13\",\n",
    "                \"18-14\",\n",
    "                \"18-15\",\n",
    "                \"18-16\",\n",
    "                \"18-17\",\n",
    "                \"18-19\",\n",
    "                \"18-2\",\n",
    "                \"18-20\",\n",
    "                \"18-4\",\n",
    "                \"18-5\",\n",
    "                \"18-7\",\n",
    "                \"18-8\",\n",
    "                \"18-9\",\n",
    "                \"19-1\",\n",
    "                \"19-10\",\n",
    "                \"19-11\",\n",
    "                \"19-12\",\n",
    "                \"19-13\",\n",
    "                \"19-14\",\n",
    "                \"19-15\",\n",
    "                \"19-19\",\n",
    "                \"19-2\",\n",
    "                \"19-20\",\n",
    "                \"19-3\",\n",
    "                \"19-4\",\n",
    "                \"19-6\",\n",
    "                \"19-7\",\n",
    "                \"19-8\",\n",
    "                \"19-9\",\n",
    "                \"2-1\",\n",
    "                \"2-13\",\n",
    "                \"2-15\",\n",
    "                \"2-3\",\n",
    "                \"2-4\",\n",
    "                \"2-5\",\n",
    "                \"2-6\",\n",
    "                \"2-7\",\n",
    "                \"2-8\",\n",
    "                \"20-1\",\n",
    "                \"20-12\",\n",
    "                \"20-14\",\n",
    "                \"20-15\",\n",
    "                \"20-16\",\n",
    "                \"20-18\",\n",
    "                \"20-19\",\n",
    "                \"20-20\",\n",
    "                \"20-3\",\n",
    "                \"20-4\",\n",
    "                \"20-5\",\n",
    "                \"20-7\",\n",
    "                \"20-8\",\n",
    "                \"3-1\",\n",
    "                \"3-13\",\n",
    "                \"3-18\",\n",
    "                \"3-2\",\n",
    "                \"3-8\",\n",
    "                \"4-1\",\n",
    "                \"4-10\",\n",
    "                \"4-11\",\n",
    "                \"5-1\",\n",
    "                \"5-5\",\n",
    "                \"6-1\",\n",
    "                \"6-15\",\n",
    "                \"6-6\",\n",
    "                \"7-10\",\n",
    "                \"7-11\",\n",
    "                \"7-12\",\n",
    "                \"7-13\",\n",
    "                \"7-14\",\n",
    "                \"7-7\",\n",
    "                \"7-8\",\n",
    "                \"7-9\",\n",
    "                \"8-1\",\n",
    "                \"8-13\",\n",
    "                \"8-14\",\n",
    "                \"8-18\",\n",
    "                \"8-20\",\n",
    "                \"8-3\",\n",
    "                \"8-8\",\n",
    "                \"9-1\",\n",
    "                \"9-7\",\n",
    "            ],\n",
    "            \"domains\": [1, 2, 3, 4],\n",
    "            \"num_examples_per_domain_per_label\": -1,\n",
    "            \"pickle_path\": \"/mnt/wd500GB/CSC500/csc500-main/datasets/wisig.node3-19.stratified_ds.2022A.pkl\",\n",
    "            \"source_or_target_dataset\": \"target\",\n",
    "            \"x_transforms\": [\"unit_power\", \"take_200\"],\n",
    "            \"episode_transforms\": [],\n",
    "            \"domain_prefix\": \"W_\",\n",
    "        },\n",
    "        {\n",
    "            \"labels\": [\n",
    "                \"3123D52\",\n",
    "                \"3123D65\",\n",
    "                \"3123D79\",\n",
    "                \"3123D80\",\n",
    "                \"3123D54\",\n",
    "                \"3123D70\",\n",
    "                \"3123D7B\",\n",
    "                \"3123D89\",\n",
    "                \"3123D58\",\n",
    "                \"3123D76\",\n",
    "                \"3123D7D\",\n",
    "                \"3123EFE\",\n",
    "                \"3123D64\",\n",
    "                \"3123D78\",\n",
    "                \"3123D7E\",\n",
    "                \"3124E4A\",\n",
    "            ],\n",
    "            \"domains\": [32, 38, 8, 44, 14, 50, 20, 26],\n",
    "            \"num_examples_per_domain_per_label\": 2000,\n",
    "            \"pickle_path\": \"/mnt/wd500GB/CSC500/csc500-main/datasets/oracle.Run1_framed_2000Examples_stratified_ds.2022A.pkl\",\n",
    "            \"source_or_target_dataset\": \"source\",\n",
    "            \"x_transforms\": [\"unit_power\", \"take_200\", \"resample_20Msps_to_25Msps\"],\n",
    "            \"episode_transforms\": [],\n",
    "            \"domain_prefix\": \"O_\",\n",
    "        },\n",
    "    ],\n",
    "    \"seed\": 1337,\n",
    "    \"dataset_seed\": 1337,\n",
    "}\n"
   ]
  },
  {
   "cell_type": "code",
   "execution_count": 5,
   "id": "8fa1cc33",
   "metadata": {
    "execution": {
     "iopub.execute_input": "2022-03-20T20:55:20.848208Z",
     "iopub.status.busy": "2022-03-20T20:55:20.847944Z",
     "iopub.status.idle": "2022-03-20T20:55:20.862020Z",
     "shell.execute_reply": "2022-03-20T20:55:20.861493Z"
    },
    "papermill": {
     "duration": 0.03078,
     "end_time": "2022-03-20T20:55:20.862122",
     "exception": false,
     "start_time": "2022-03-20T20:55:20.831342",
     "status": "completed"
    },
    "tags": []
   },
   "outputs": [],
   "source": [
    "# Set this to True if you want to run this template directly\n",
    "STANDALONE = False\n",
    "if STANDALONE:\n",
    "    print(\"parameters not injected, running with standalone_parameters\")\n",
    "    parameters = standalone_parameters\n",
    "\n",
    "if not 'parameters' in locals() and not 'parameters' in globals():\n",
    "    raise Exception(\"Parameter injection failed\")\n",
    "\n",
    "#Use an easy dict for all the parameters\n",
    "p = EasyDict(parameters)\n",
    "\n",
    "if \"x_shape\" not in p:\n",
    "    p.x_shape = [2,256] # Default to this if we dont supply x_shape\n",
    "\n",
    "\n",
    "supplied_keys = set(p.keys())\n",
    "\n",
    "if  supplied_keys != required_parameters:\n",
    "    print(\"Parameters are incorrect\")\n",
    "    if len(supplied_keys - required_parameters)>0: print(\"Shouldn't have:\", str(supplied_keys - required_parameters))\n",
    "    if len(required_parameters - supplied_keys)>0: print(\"Need to have:\", str(required_parameters - supplied_keys))\n",
    "    raise RuntimeError(\"Parameters are incorrect\")"
   ]
  },
  {
   "cell_type": "code",
   "execution_count": 6,
   "id": "3a028d58",
   "metadata": {
    "execution": {
     "iopub.execute_input": "2022-03-20T20:55:20.893059Z",
     "iopub.status.busy": "2022-03-20T20:55:20.892796Z",
     "iopub.status.idle": "2022-03-20T20:55:20.905423Z",
     "shell.execute_reply": "2022-03-20T20:55:20.905042Z"
    },
    "papermill": {
     "duration": 0.027385,
     "end_time": "2022-03-20T20:55:20.905504",
     "exception": false,
     "start_time": "2022-03-20T20:55:20.878119",
     "status": "completed"
    },
    "tags": []
   },
   "outputs": [],
   "source": [
    "###################################\n",
    "# Set the RNGs and make it all deterministic\n",
    "###################################\n",
    "np.random.seed(p.seed)\n",
    "random.seed(p.seed)\n",
    "torch.manual_seed(p.seed)\n",
    "\n",
    "torch.use_deterministic_algorithms(True) "
   ]
  },
  {
   "cell_type": "code",
   "execution_count": 7,
   "id": "b691acf6",
   "metadata": {
    "execution": {
     "iopub.execute_input": "2022-03-20T20:55:20.939251Z",
     "iopub.status.busy": "2022-03-20T20:55:20.938982Z",
     "iopub.status.idle": "2022-03-20T20:55:20.954969Z",
     "shell.execute_reply": "2022-03-20T20:55:20.954441Z"
    },
    "papermill": {
     "duration": 0.03127,
     "end_time": "2022-03-20T20:55:20.955072",
     "exception": false,
     "start_time": "2022-03-20T20:55:20.923802",
     "status": "completed"
    },
    "tags": []
   },
   "outputs": [],
   "source": [
    "###########################################\n",
    "# The stratified datasets honor this\n",
    "###########################################\n",
    "torch.set_default_dtype(eval(p.torch_default_dtype))"
   ]
  },
  {
   "cell_type": "code",
   "execution_count": 8,
   "id": "b5fba671",
   "metadata": {
    "execution": {
     "iopub.execute_input": "2022-03-20T20:55:20.987280Z",
     "iopub.status.busy": "2022-03-20T20:55:20.987019Z",
     "iopub.status.idle": "2022-03-20T20:55:21.020416Z",
     "shell.execute_reply": "2022-03-20T20:55:21.019944Z"
    },
    "papermill": {
     "duration": 0.047934,
     "end_time": "2022-03-20T20:55:21.020524",
     "exception": false,
     "start_time": "2022-03-20T20:55:20.972590",
     "status": "completed"
    },
    "tags": []
   },
   "outputs": [],
   "source": [
    "###################################\n",
    "# Build the network(s)\n",
    "# Note: It's critical to do this AFTER setting the RNG\n",
    "###################################\n",
    "x_net = build_sequential(p.x_net)"
   ]
  },
  {
   "cell_type": "code",
   "execution_count": 9,
   "id": "5d7e61cc",
   "metadata": {
    "execution": {
     "iopub.execute_input": "2022-03-20T20:55:21.054855Z",
     "iopub.status.busy": "2022-03-20T20:55:21.054589Z",
     "iopub.status.idle": "2022-03-20T20:55:21.066264Z",
     "shell.execute_reply": "2022-03-20T20:55:21.065781Z"
    },
    "papermill": {
     "duration": 0.026586,
     "end_time": "2022-03-20T20:55:21.066364",
     "exception": false,
     "start_time": "2022-03-20T20:55:21.039778",
     "status": "completed"
    },
    "tags": []
   },
   "outputs": [],
   "source": [
    "start_time_secs = time.time()"
   ]
  },
  {
   "cell_type": "code",
   "execution_count": 10,
   "id": "c6b67dfd",
   "metadata": {
    "execution": {
     "iopub.execute_input": "2022-03-20T20:55:21.097384Z",
     "iopub.status.busy": "2022-03-20T20:55:21.097123Z",
     "iopub.status.idle": "2022-03-20T20:55:21.108385Z",
     "shell.execute_reply": "2022-03-20T20:55:21.108007Z"
    },
    "papermill": {
     "duration": 0.026082,
     "end_time": "2022-03-20T20:55:21.108462",
     "exception": false,
     "start_time": "2022-03-20T20:55:21.082380",
     "status": "completed"
    },
    "tags": []
   },
   "outputs": [],
   "source": [
    "p.domains_source = []\n",
    "p.domains_target = []\n",
    "\n",
    "\n",
    "train_original_source = []\n",
    "val_original_source   = []\n",
    "test_original_source  = []\n",
    "\n",
    "train_original_target = []\n",
    "val_original_target   = []\n",
    "test_original_target  = []"
   ]
  },
  {
   "cell_type": "code",
   "execution_count": 11,
   "id": "e3d9c3d3",
   "metadata": {
    "execution": {
     "iopub.execute_input": "2022-03-20T20:55:21.147567Z",
     "iopub.status.busy": "2022-03-20T20:55:21.145817Z",
     "iopub.status.idle": "2022-03-20T20:55:21.155502Z",
     "shell.execute_reply": "2022-03-20T20:55:21.155911Z"
    },
    "papermill": {
     "duration": 0.029269,
     "end_time": "2022-03-20T20:55:21.156033",
     "exception": false,
     "start_time": "2022-03-20T20:55:21.126764",
     "status": "completed"
    },
    "tags": []
   },
   "outputs": [],
   "source": [
    "# global_x_transform_func = lambda x: normalize(x.to(torch.get_default_dtype()), \"unit_power\") # unit_power, unit_mag\n",
    "# global_x_transform_func = lambda x: normalize(x, \"unit_power\") # unit_power, unit_mag"
   ]
  },
  {
   "cell_type": "code",
   "execution_count": 12,
   "id": "acb78fd2",
   "metadata": {
    "execution": {
     "iopub.execute_input": "2022-03-20T20:55:21.194389Z",
     "iopub.status.busy": "2022-03-20T20:55:21.193913Z",
     "iopub.status.idle": "2022-03-20T20:55:21.207462Z",
     "shell.execute_reply": "2022-03-20T20:55:21.206913Z"
    },
    "papermill": {
     "duration": 0.03402,
     "end_time": "2022-03-20T20:55:21.207568",
     "exception": false,
     "start_time": "2022-03-20T20:55:21.173548",
     "status": "completed"
    },
    "tags": []
   },
   "outputs": [],
   "source": [
    "def add_dataset(\n",
    "    labels,\n",
    "    domains,\n",
    "    pickle_path,\n",
    "    x_transforms,\n",
    "    episode_transforms,\n",
    "    domain_prefix,\n",
    "    num_examples_per_domain_per_label,\n",
    "    source_or_target_dataset:str,\n",
    "    iterator_seed=p.seed,\n",
    "    dataset_seed=p.dataset_seed,\n",
    "    n_shot=p.n_shot,\n",
    "    n_way=p.n_way,\n",
    "    n_query=p.n_query,\n",
    "    train_val_test_k_factors=(p.train_k_factor,p.val_k_factor,p.test_k_factor),\n",
    "):\n",
    "   \n",
    "    if x_transforms == []: x_transform = None\n",
    "    else: x_transform = get_chained_transform(x_transforms)\n",
    "    \n",
    "    if episode_transforms == []: episode_transform = None\n",
    "    else: raise Exception(\"episode_transforms not implemented\")\n",
    "    \n",
    "    episode_transform = lambda tup, _prefix=domain_prefix: (_prefix + str(tup[0]), tup[1])\n",
    "\n",
    "\n",
    "    eaf = Episodic_Accessor_Factory(\n",
    "        labels=labels,\n",
    "        domains=domains,\n",
    "        num_examples_per_domain_per_label=num_examples_per_domain_per_label,\n",
    "        iterator_seed=iterator_seed,\n",
    "        dataset_seed=dataset_seed,\n",
    "        n_shot=n_shot,\n",
    "        n_way=n_way,\n",
    "        n_query=n_query,\n",
    "        train_val_test_k_factors=train_val_test_k_factors,\n",
    "        pickle_path=pickle_path,\n",
    "        x_transform_func=x_transform,\n",
    "    )\n",
    "\n",
    "    train, val, test = eaf.get_train(), eaf.get_val(), eaf.get_test()\n",
    "    train = Lazy_Iterable_Wrapper(train, episode_transform)\n",
    "    val = Lazy_Iterable_Wrapper(val, episode_transform)\n",
    "    test = Lazy_Iterable_Wrapper(test, episode_transform)\n",
    "\n",
    "    if source_or_target_dataset==\"source\":\n",
    "        train_original_source.append(train)\n",
    "        val_original_source.append(val)\n",
    "        test_original_source.append(test)\n",
    "\n",
    "        p.domains_source.extend(\n",
    "            [domain_prefix + str(u) for u in domains]\n",
    "        )\n",
    "    elif source_or_target_dataset==\"target\":\n",
    "        train_original_target.append(train)\n",
    "        val_original_target.append(val)\n",
    "        test_original_target.append(test)\n",
    "        p.domains_target.extend(\n",
    "            [domain_prefix + str(u) for u in domains]\n",
    "        )\n",
    "    else:\n",
    "        raise Exception(f\"invalid source_or_target_dataset: {source_or_target_dataset}\")\n",
    "    "
   ]
  },
  {
   "cell_type": "code",
   "execution_count": 13,
   "id": "fe266617",
   "metadata": {
    "execution": {
     "iopub.execute_input": "2022-03-20T20:55:21.242257Z",
     "iopub.status.busy": "2022-03-20T20:55:21.241956Z",
     "iopub.status.idle": "2022-03-20T20:56:35.755405Z",
     "shell.execute_reply": "2022-03-20T20:56:35.754938Z"
    },
    "papermill": {
     "duration": 74.528798,
     "end_time": "2022-03-20T20:56:35.755518",
     "exception": false,
     "start_time": "2022-03-20T20:55:21.226720",
     "status": "completed"
    },
    "tags": []
   },
   "outputs": [],
   "source": [
    "for ds in p.datasets:\n",
    "    add_dataset(**ds)"
   ]
  },
  {
   "cell_type": "code",
   "execution_count": 14,
   "id": "b90d65ac",
   "metadata": {
    "execution": {
     "iopub.execute_input": "2022-03-20T20:56:35.789143Z",
     "iopub.status.busy": "2022-03-20T20:56:35.788766Z",
     "iopub.status.idle": "2022-03-20T20:56:35.799960Z",
     "shell.execute_reply": "2022-03-20T20:56:35.799685Z"
    },
    "papermill": {
     "duration": 0.026547,
     "end_time": "2022-03-20T20:56:35.800020",
     "exception": false,
     "start_time": "2022-03-20T20:56:35.773473",
     "status": "completed"
    },
    "tags": []
   },
   "outputs": [],
   "source": [
    "# from steves_utils.CORES.utils import (\n",
    "#     ALL_NODES,\n",
    "#     ALL_NODES_MINIMUM_1000_EXAMPLES,\n",
    "#     ALL_DAYS\n",
    "# )\n",
    "\n",
    "# add_dataset(\n",
    "#     labels=ALL_NODES,\n",
    "#     domains = ALL_DAYS,\n",
    "#     num_examples_per_domain_per_label=100,\n",
    "#     pickle_path=os.path.join(get_datasets_base_path(), \"cores.stratified_ds.2022A.pkl\"),\n",
    "#     source_or_target_dataset=\"target\",\n",
    "#     x_transform_func=global_x_transform_func,\n",
    "#     domain_modifier=lambda u: f\"cores_{u}\"\n",
    "# )"
   ]
  },
  {
   "cell_type": "code",
   "execution_count": 15,
   "id": "76db484d",
   "metadata": {
    "execution": {
     "iopub.execute_input": "2022-03-20T20:56:35.829601Z",
     "iopub.status.busy": "2022-03-20T20:56:35.829181Z",
     "iopub.status.idle": "2022-03-20T20:56:35.841335Z",
     "shell.execute_reply": "2022-03-20T20:56:35.841063Z"
    },
    "papermill": {
     "duration": 0.027736,
     "end_time": "2022-03-20T20:56:35.841393",
     "exception": false,
     "start_time": "2022-03-20T20:56:35.813657",
     "status": "completed"
    },
    "tags": []
   },
   "outputs": [],
   "source": [
    "# from steves_utils.ORACLE.utils_v2 import (\n",
    "#     ALL_DISTANCES_FEET,\n",
    "#     ALL_RUNS,\n",
    "#     ALL_SERIAL_NUMBERS,\n",
    "# )\n",
    "\n",
    "\n",
    "# add_dataset(\n",
    "#     labels=ALL_SERIAL_NUMBERS,\n",
    "#     domains = list(set(ALL_DISTANCES_FEET) - {2,62}),\n",
    "#     num_examples_per_domain_per_label=100,\n",
    "#     pickle_path=os.path.join(get_datasets_base_path(), \"oracle.Run2_framed_2000Examples_stratified_ds.2022A.pkl\"),\n",
    "#     source_or_target_dataset=\"source\",\n",
    "#     x_transform_func=global_x_transform_func,\n",
    "#     domain_modifier=lambda u: f\"oracle1_{u}\"\n",
    "# )\n"
   ]
  },
  {
   "cell_type": "code",
   "execution_count": 16,
   "id": "97dea9d2",
   "metadata": {
    "execution": {
     "iopub.execute_input": "2022-03-20T20:56:35.870680Z",
     "iopub.status.busy": "2022-03-20T20:56:35.870276Z",
     "iopub.status.idle": "2022-03-20T20:56:35.881673Z",
     "shell.execute_reply": "2022-03-20T20:56:35.881434Z"
    },
    "papermill": {
     "duration": 0.026591,
     "end_time": "2022-03-20T20:56:35.881734",
     "exception": false,
     "start_time": "2022-03-20T20:56:35.855143",
     "status": "completed"
    },
    "tags": []
   },
   "outputs": [],
   "source": [
    "# from steves_utils.ORACLE.utils_v2 import (\n",
    "#     ALL_DISTANCES_FEET,\n",
    "#     ALL_RUNS,\n",
    "#     ALL_SERIAL_NUMBERS,\n",
    "# )\n",
    "\n",
    "\n",
    "# add_dataset(\n",
    "#     labels=ALL_SERIAL_NUMBERS,\n",
    "#     domains = list(set(ALL_DISTANCES_FEET) - {2,62,56}),\n",
    "#     num_examples_per_domain_per_label=100,\n",
    "#     pickle_path=os.path.join(get_datasets_base_path(), \"oracle.Run2_framed_2000Examples_stratified_ds.2022A.pkl\"),\n",
    "#     source_or_target_dataset=\"source\",\n",
    "#     x_transform_func=global_x_transform_func,\n",
    "#     domain_modifier=lambda u: f\"oracle2_{u}\"\n",
    "# )"
   ]
  },
  {
   "cell_type": "code",
   "execution_count": 17,
   "id": "6f289866",
   "metadata": {
    "execution": {
     "iopub.execute_input": "2022-03-20T20:56:35.911445Z",
     "iopub.status.busy": "2022-03-20T20:56:35.911000Z",
     "iopub.status.idle": "2022-03-20T20:56:35.926297Z",
     "shell.execute_reply": "2022-03-20T20:56:35.925820Z"
    },
    "papermill": {
     "duration": 0.030673,
     "end_time": "2022-03-20T20:56:35.926398",
     "exception": false,
     "start_time": "2022-03-20T20:56:35.895725",
     "status": "completed"
    },
    "tags": []
   },
   "outputs": [],
   "source": [
    "# add_dataset(\n",
    "#     labels=list(range(19)),\n",
    "#     domains = [0,1,2],\n",
    "#     num_examples_per_domain_per_label=100,\n",
    "#     pickle_path=os.path.join(get_datasets_base_path(), \"metehan.stratified_ds.2022A.pkl\"),\n",
    "#     source_or_target_dataset=\"target\",\n",
    "#     x_transform_func=global_x_transform_func,\n",
    "#     domain_modifier=lambda u: f\"met_{u}\"\n",
    "# )"
   ]
  },
  {
   "cell_type": "code",
   "execution_count": 18,
   "id": "86a863c3",
   "metadata": {
    "execution": {
     "iopub.execute_input": "2022-03-20T20:56:35.959372Z",
     "iopub.status.busy": "2022-03-20T20:56:35.959067Z",
     "iopub.status.idle": "2022-03-20T20:56:35.972672Z",
     "shell.execute_reply": "2022-03-20T20:56:35.972185Z"
    },
    "papermill": {
     "duration": 0.029761,
     "end_time": "2022-03-20T20:56:35.972771",
     "exception": false,
     "start_time": "2022-03-20T20:56:35.943010",
     "status": "completed"
    },
    "tags": []
   },
   "outputs": [],
   "source": [
    "# # from steves_utils.wisig.utils import (\n",
    "# #     ALL_NODES_MINIMUM_100_EXAMPLES,\n",
    "# #     ALL_NODES_MINIMUM_500_EXAMPLES,\n",
    "# #     ALL_NODES_MINIMUM_1000_EXAMPLES,\n",
    "# #     ALL_DAYS\n",
    "# # )\n",
    "\n",
    "# import steves_utils.wisig.utils as wisig\n",
    "\n",
    "\n",
    "# add_dataset(\n",
    "#     labels=wisig.ALL_NODES_MINIMUM_100_EXAMPLES,\n",
    "#     domains = wisig.ALL_DAYS,\n",
    "#     num_examples_per_domain_per_label=100,\n",
    "#     pickle_path=os.path.join(get_datasets_base_path(), \"wisig.node3-19.stratified_ds.2022A.pkl\"),\n",
    "#     source_or_target_dataset=\"target\",\n",
    "#     x_transform_func=global_x_transform_func,\n",
    "#     domain_modifier=lambda u: f\"wisig_{u}\"\n",
    "# )"
   ]
  },
  {
   "cell_type": "code",
   "execution_count": 19,
   "id": "fd5442bc",
   "metadata": {
    "execution": {
     "iopub.execute_input": "2022-03-20T20:56:36.011562Z",
     "iopub.status.busy": "2022-03-20T20:56:36.010729Z",
     "iopub.status.idle": "2022-03-20T20:56:36.025883Z",
     "shell.execute_reply": "2022-03-20T20:56:36.025391Z"
    },
    "papermill": {
     "duration": 0.035105,
     "end_time": "2022-03-20T20:56:36.025987",
     "exception": false,
     "start_time": "2022-03-20T20:56:35.990882",
     "status": "completed"
    },
    "tags": []
   },
   "outputs": [],
   "source": [
    "###################################\n",
    "# Build the dataset\n",
    "###################################\n",
    "train_original_source = Iterable_Aggregator(train_original_source, p.seed)\n",
    "val_original_source = Iterable_Aggregator(val_original_source, p.seed)\n",
    "test_original_source = Iterable_Aggregator(test_original_source, p.seed)\n",
    "\n",
    "\n",
    "train_original_target = Iterable_Aggregator(train_original_target, p.seed)\n",
    "val_original_target = Iterable_Aggregator(val_original_target, p.seed)\n",
    "test_original_target = Iterable_Aggregator(test_original_target, p.seed)\n",
    "\n",
    "# For CNN We only use X and Y. And we only train on the source.\n",
    "# Properly form the data using a transform lambda and Lazy_Iterable_Wrapper. Finally wrap them in a dataloader\n",
    "\n",
    "transform_lambda = lambda ex: ex[1] # Original is (<domain>, <episode>) so we strip down to episode only\n",
    "\n",
    "train_processed_source = Lazy_Iterable_Wrapper(train_original_source, transform_lambda)\n",
    "val_processed_source   = Lazy_Iterable_Wrapper(val_original_source, transform_lambda)\n",
    "test_processed_source  = Lazy_Iterable_Wrapper(test_original_source, transform_lambda)\n",
    "\n",
    "train_processed_target = Lazy_Iterable_Wrapper(train_original_target, transform_lambda)\n",
    "val_processed_target   = Lazy_Iterable_Wrapper(val_original_target, transform_lambda)\n",
    "test_processed_target  = Lazy_Iterable_Wrapper(test_original_target, transform_lambda)\n",
    "\n",
    "datasets = EasyDict({\n",
    "    \"source\": {\n",
    "        \"original\": {\"train\":train_original_source, \"val\":val_original_source, \"test\":test_original_source},\n",
    "        \"processed\": {\"train\":train_processed_source, \"val\":val_processed_source, \"test\":test_processed_source}\n",
    "    },\n",
    "    \"target\": {\n",
    "        \"original\": {\"train\":train_original_target, \"val\":val_original_target, \"test\":test_original_target},\n",
    "        \"processed\": {\"train\":train_processed_target, \"val\":val_processed_target, \"test\":test_processed_target}\n",
    "    },\n",
    "})"
   ]
  },
  {
   "cell_type": "code",
   "execution_count": 20,
   "id": "5b3c01fc",
   "metadata": {
    "execution": {
     "iopub.execute_input": "2022-03-20T20:56:36.060809Z",
     "iopub.status.busy": "2022-03-20T20:56:36.059778Z",
     "iopub.status.idle": "2022-03-20T20:56:44.799304Z",
     "shell.execute_reply": "2022-03-20T20:56:44.799600Z"
    },
    "papermill": {
     "duration": 8.756592,
     "end_time": "2022-03-20T20:56:44.799706",
     "exception": false,
     "start_time": "2022-03-20T20:56:36.043114",
     "status": "completed"
    },
    "tags": []
   },
   "outputs": [
    {
     "name": "stdout",
     "output_type": "stream",
     "text": [
      "{'O_14', 'O_26', 'O_20', 'O_38', 'O_32', 'O_8', 'O_50', 'O_44'}\n"
     ]
    },
    {
     "name": "stdout",
     "output_type": "stream",
     "text": [
      "{'C_1', 'W_3', 'W_2', 'C_2', 'W_1', 'C_4', 'W_4', 'C_5', 'C_3'}\n"
     ]
    },
    {
     "name": "stdout",
     "output_type": "stream",
     "text": [
      "tensor([[[-0.0923,  1.0752,  0.6110,  ...,  0.6559,  0.5223,  0.7143],\n",
      "         [-0.6368, -0.5725,  0.6937,  ..., -0.1130,  1.1143,  0.1163]],\n",
      "\n",
      "        [[-0.4471,  0.4547,  0.8059,  ...,  1.1441,  0.5111,  0.0187],\n",
      "         [-1.1271, -0.7907,  0.8745,  ..., -0.4535, -0.6299, -1.3768]],\n",
      "\n",
      "        [[ 0.6516, -0.0535, -0.8938,  ..., -0.8408, -0.9332, -0.1014],\n",
      "         [ 0.8284,  1.0704, -0.5317,  ...,  0.4742,  0.2587,  1.1794]],\n",
      "\n",
      "        ...,\n",
      "\n",
      "        [[ 0.9795,  0.2346, -1.1961,  ..., -0.6991, -0.1533,  0.9162],\n",
      "         [ 0.5525,  0.9115, -0.0492,  ...,  0.9787,  0.7343,  0.9973]],\n",
      "\n",
      "        [[ 0.0252, -1.0168, -0.2853,  ..., -0.8572, -0.8433, -0.9555],\n",
      "         [ 0.7878,  0.7791, -0.7462,  ..., -0.1243, -0.6905,  0.6571]],\n",
      "\n",
      "        [[ 0.4825,  0.4645, -0.3477,  ...,  0.4871, -1.1842, -0.6537],\n",
      "         [-0.4126,  0.9377,  0.7358,  ...,  0.6690,  0.2844,  0.4617]]])\n"
     ]
    }
   ],
   "source": [
    "from steves_utils.transforms import get_average_magnitude, get_average_power\n",
    "\n",
    "print(set([u for u,_ in val_original_source]))\n",
    "print(set([u for u,_ in val_original_target]))\n",
    "\n",
    "s_x, s_y, q_x, q_y, _ = next(iter(train_processed_source))\n",
    "print(s_x)\n",
    "\n",
    "# for ds in [\n",
    "#     train_processed_source,\n",
    "#     val_processed_source,\n",
    "#     test_processed_source,\n",
    "#     train_processed_target,\n",
    "#     val_processed_target,\n",
    "#     test_processed_target\n",
    "# ]:\n",
    "#     for s_x, s_y, q_x, q_y, _ in ds:\n",
    "#         for X in (s_x, q_x):\n",
    "#             for x in X:\n",
    "#                 assert np.isclose(get_average_magnitude(x.numpy()), 1.0)\n",
    "#                 assert np.isclose(get_average_power(x.numpy()), 1.0)\n",
    "                "
   ]
  },
  {
   "cell_type": "code",
   "execution_count": 21,
   "id": "bbdacba1",
   "metadata": {
    "execution": {
     "iopub.execute_input": "2022-03-20T20:56:44.838958Z",
     "iopub.status.busy": "2022-03-20T20:56:44.838689Z",
     "iopub.status.idle": "2022-03-20T20:56:44.888548Z",
     "shell.execute_reply": "2022-03-20T20:56:44.888931Z"
    },
    "papermill": {
     "duration": 0.067994,
     "end_time": "2022-03-20T20:56:44.889043",
     "exception": false,
     "start_time": "2022-03-20T20:56:44.821049",
     "status": "completed"
    },
    "tags": []
   },
   "outputs": [
    {
     "name": "stdout",
     "output_type": "stream",
     "text": [
      "(2, 200)\n"
     ]
    }
   ],
   "source": [
    "###################################\n",
    "# Build the model\n",
    "###################################\n",
    "# easfsl only wants a tuple for the shape\n",
    "model = Steves_Prototypical_Network(x_net, device=p.device, x_shape=tuple(p.x_shape))\n",
    "optimizer = Adam(params=model.parameters(), lr=p.lr)"
   ]
  },
  {
   "cell_type": "code",
   "execution_count": 22,
   "id": "22b39ac5",
   "metadata": {
    "execution": {
     "iopub.execute_input": "2022-03-20T20:56:44.924813Z",
     "iopub.status.busy": "2022-03-20T20:56:44.924557Z",
     "iopub.status.idle": "2022-03-20T21:24:26.598545Z",
     "shell.execute_reply": "2022-03-20T21:24:26.598308Z"
    },
    "papermill": {
     "duration": 1661.691925,
     "end_time": "2022-03-20T21:24:26.598604",
     "exception": false,
     "start_time": "2022-03-20T20:56:44.906679",
     "status": "completed"
    },
    "tags": []
   },
   "outputs": [
    {
     "name": "stdout",
     "output_type": "stream",
     "text": [
      "epoch: 1, [batch: 1 / 6720], examples_per_second: 49.1876, train_label_loss: 2.9792, \n"
     ]
    },
    {
     "name": "stdout",
     "output_type": "stream",
     "text": [
      "epoch: 1, [batch: 672 / 6720], examples_per_second: 3509.5946, train_label_loss: 1.2813, \n"
     ]
    },
    {
     "name": "stdout",
     "output_type": "stream",
     "text": [
      "epoch: 1, [batch: 1344 / 6720], examples_per_second: 3607.2753, train_label_loss: 0.8953, \n"
     ]
    },
    {
     "name": "stdout",
     "output_type": "stream",
     "text": [
      "epoch: 1, [batch: 2016 / 6720], examples_per_second: 3565.3394, train_label_loss: 0.7985, \n"
     ]
    },
    {
     "name": "stdout",
     "output_type": "stream",
     "text": [
      "epoch: 1, [batch: 2688 / 6720], examples_per_second: 3609.6589, train_label_loss: 1.1992, \n"
     ]
    },
    {
     "name": "stdout",
     "output_type": "stream",
     "text": [
      "epoch: 1, [batch: 3360 / 6720], examples_per_second: 3558.8570, train_label_loss: 1.0100, \n"
     ]
    },
    {
     "name": "stdout",
     "output_type": "stream",
     "text": [
      "epoch: 1, [batch: 4032 / 6720], examples_per_second: 3574.5697, train_label_loss: 0.8858, \n"
     ]
    },
    {
     "name": "stdout",
     "output_type": "stream",
     "text": [
      "epoch: 1, [batch: 4704 / 6720], examples_per_second: 3648.5433, train_label_loss: 0.6731, \n"
     ]
    },
    {
     "name": "stdout",
     "output_type": "stream",
     "text": [
      "epoch: 1, [batch: 5376 / 6720], examples_per_second: 3724.9220, train_label_loss: 0.8136, \n"
     ]
    },
    {
     "name": "stdout",
     "output_type": "stream",
     "text": [
      "epoch: 1, [batch: 6048 / 6720], examples_per_second: 3706.2897, train_label_loss: 0.5199, \n"
     ]
    },
    {
     "name": "stdout",
     "output_type": "stream",
     "text": [
      "=============================================================\n",
      "epoch: 1, source_val_acc_label: 0.5654, target_val_acc_label: 0.5026, source_val_label_loss: 47.9462, target_val_label_loss: 1888.7560, \n",
      "=============================================================\n"
     ]
    },
    {
     "name": "stdout",
     "output_type": "stream",
     "text": [
      "New best\n"
     ]
    },
    {
     "name": "stdout",
     "output_type": "stream",
     "text": [
      "epoch: 2, [batch: 1 / 6720], examples_per_second: 4.4021, train_label_loss: 85.6945, \n"
     ]
    },
    {
     "name": "stdout",
     "output_type": "stream",
     "text": [
      "epoch: 2, [batch: 672 / 6720], examples_per_second: 3690.0108, train_label_loss: 0.6987, \n"
     ]
    },
    {
     "name": "stdout",
     "output_type": "stream",
     "text": [
      "epoch: 2, [batch: 1344 / 6720], examples_per_second: 3735.3256, train_label_loss: 0.4735, \n"
     ]
    },
    {
     "name": "stdout",
     "output_type": "stream",
     "text": [
      "epoch: 2, [batch: 2016 / 6720], examples_per_second: 3740.5734, train_label_loss: 1.1696, \n"
     ]
    },
    {
     "name": "stdout",
     "output_type": "stream",
     "text": [
      "epoch: 2, [batch: 2688 / 6720], examples_per_second: 3712.2458, train_label_loss: 1.0675, \n"
     ]
    },
    {
     "name": "stdout",
     "output_type": "stream",
     "text": [
      "epoch: 2, [batch: 3360 / 6720], examples_per_second: 3740.0352, train_label_loss: 0.3797, \n"
     ]
    },
    {
     "name": "stdout",
     "output_type": "stream",
     "text": [
      "epoch: 2, [batch: 4032 / 6720], examples_per_second: 3735.6975, train_label_loss: 0.6732, \n"
     ]
    },
    {
     "name": "stdout",
     "output_type": "stream",
     "text": [
      "epoch: 2, [batch: 4704 / 6720], examples_per_second: 3719.0316, train_label_loss: 0.8776, \n"
     ]
    },
    {
     "name": "stdout",
     "output_type": "stream",
     "text": [
      "epoch: 2, [batch: 5376 / 6720], examples_per_second: 3738.2207, train_label_loss: 1.1651, \n"
     ]
    },
    {
     "name": "stdout",
     "output_type": "stream",
     "text": [
      "epoch: 2, [batch: 6048 / 6720], examples_per_second: 3748.1827, train_label_loss: 0.6090, \n"
     ]
    },
    {
     "name": "stdout",
     "output_type": "stream",
     "text": [
      "=============================================================\n",
      "epoch: 2, source_val_acc_label: 0.7469, target_val_acc_label: 0.5966, source_val_label_loss: 0.6993, target_val_label_loss: 214.6526, \n",
      "=============================================================\n"
     ]
    },
    {
     "name": "stdout",
     "output_type": "stream",
     "text": [
      "New best\n"
     ]
    },
    {
     "name": "stdout",
     "output_type": "stream",
     "text": [
      "epoch: 3, [batch: 1 / 6720], examples_per_second: 4.3706, train_label_loss: 1.0479, \n"
     ]
    },
    {
     "name": "stdout",
     "output_type": "stream",
     "text": [
      "epoch: 3, [batch: 672 / 6720], examples_per_second: 3700.8059, train_label_loss: 0.3545, \n"
     ]
    },
    {
     "name": "stdout",
     "output_type": "stream",
     "text": [
      "epoch: 3, [batch: 1344 / 6720], examples_per_second: 3732.0517, train_label_loss: 0.5436, \n"
     ]
    },
    {
     "name": "stdout",
     "output_type": "stream",
     "text": [
      "epoch: 3, [batch: 2016 / 6720], examples_per_second: 3728.6200, train_label_loss: 0.3539, \n"
     ]
    },
    {
     "name": "stdout",
     "output_type": "stream",
     "text": [
      "epoch: 3, [batch: 2688 / 6720], examples_per_second: 3716.7017, train_label_loss: 0.4604, \n"
     ]
    },
    {
     "name": "stdout",
     "output_type": "stream",
     "text": [
      "epoch: 3, [batch: 3360 / 6720], examples_per_second: 3629.1829, train_label_loss: 0.9433, \n"
     ]
    },
    {
     "name": "stdout",
     "output_type": "stream",
     "text": [
      "epoch: 3, [batch: 4032 / 6720], examples_per_second: 3725.3141, train_label_loss: 0.7838, \n"
     ]
    },
    {
     "name": "stdout",
     "output_type": "stream",
     "text": [
      "epoch: 3, [batch: 4704 / 6720], examples_per_second: 3738.5744, train_label_loss: 0.5054, \n"
     ]
    },
    {
     "name": "stdout",
     "output_type": "stream",
     "text": [
      "epoch: 3, [batch: 5376 / 6720], examples_per_second: 3766.6003, train_label_loss: 0.3411, \n"
     ]
    },
    {
     "name": "stdout",
     "output_type": "stream",
     "text": [
      "epoch: 3, [batch: 6048 / 6720], examples_per_second: 3756.0812, train_label_loss: 0.3341, \n"
     ]
    },
    {
     "name": "stdout",
     "output_type": "stream",
     "text": [
      "=============================================================\n",
      "epoch: 3, source_val_acc_label: 0.7321, target_val_acc_label: 0.6132, source_val_label_loss: 0.7257, target_val_label_loss: 235.3973, \n",
      "=============================================================\n"
     ]
    },
    {
     "name": "stdout",
     "output_type": "stream",
     "text": [
      "New best\n"
     ]
    },
    {
     "name": "stdout",
     "output_type": "stream",
     "text": [
      "epoch: 4, [batch: 1 / 6720], examples_per_second: 4.4030, train_label_loss: 0.4262, \n"
     ]
    },
    {
     "name": "stdout",
     "output_type": "stream",
     "text": [
      "epoch: 4, [batch: 672 / 6720], examples_per_second: 3709.5225, train_label_loss: 0.2189, \n"
     ]
    },
    {
     "name": "stdout",
     "output_type": "stream",
     "text": [
      "epoch: 4, [batch: 1344 / 6720], examples_per_second: 3762.7740, train_label_loss: 0.9757, \n"
     ]
    },
    {
     "name": "stdout",
     "output_type": "stream",
     "text": [
      "epoch: 4, [batch: 2016 / 6720], examples_per_second: 3763.8279, train_label_loss: 0.8724, \n"
     ]
    },
    {
     "name": "stdout",
     "output_type": "stream",
     "text": [
      "epoch: 4, [batch: 2688 / 6720], examples_per_second: 3737.3730, train_label_loss: 0.5514, \n"
     ]
    },
    {
     "name": "stdout",
     "output_type": "stream",
     "text": [
      "epoch: 4, [batch: 3360 / 6720], examples_per_second: 3757.1850, train_label_loss: 0.3749, \n"
     ]
    },
    {
     "name": "stdout",
     "output_type": "stream",
     "text": [
      "epoch: 4, [batch: 4032 / 6720], examples_per_second: 3760.0586, train_label_loss: 0.8467, \n"
     ]
    },
    {
     "name": "stdout",
     "output_type": "stream",
     "text": [
      "epoch: 4, [batch: 4704 / 6720], examples_per_second: 3750.5498, train_label_loss: 0.5248, \n"
     ]
    },
    {
     "name": "stdout",
     "output_type": "stream",
     "text": [
      "epoch: 4, [batch: 5376 / 6720], examples_per_second: 3750.0314, train_label_loss: 0.7710, \n"
     ]
    },
    {
     "name": "stdout",
     "output_type": "stream",
     "text": [
      "epoch: 4, [batch: 6048 / 6720], examples_per_second: 3747.9465, train_label_loss: 0.2999, \n"
     ]
    },
    {
     "name": "stdout",
     "output_type": "stream",
     "text": [
      "=============================================================\n",
      "epoch: 4, source_val_acc_label: 0.7774, target_val_acc_label: 0.6177, source_val_label_loss: 0.5966, target_val_label_loss: 277.4372, \n",
      "=============================================================\n"
     ]
    },
    {
     "name": "stdout",
     "output_type": "stream",
     "text": [
      "New best\n"
     ]
    },
    {
     "name": "stdout",
     "output_type": "stream",
     "text": [
      "epoch: 5, [batch: 1 / 6720], examples_per_second: 4.3765, train_label_loss: 0.2898, \n"
     ]
    },
    {
     "name": "stdout",
     "output_type": "stream",
     "text": [
      "epoch: 5, [batch: 672 / 6720], examples_per_second: 3712.0419, train_label_loss: 0.4447, \n"
     ]
    },
    {
     "name": "stdout",
     "output_type": "stream",
     "text": [
      "epoch: 5, [batch: 1344 / 6720], examples_per_second: 3773.3503, train_label_loss: 0.5772, \n"
     ]
    },
    {
     "name": "stdout",
     "output_type": "stream",
     "text": [
      "epoch: 5, [batch: 2016 / 6720], examples_per_second: 3759.6917, train_label_loss: 0.9092, \n"
     ]
    },
    {
     "name": "stdout",
     "output_type": "stream",
     "text": [
      "epoch: 5, [batch: 2688 / 6720], examples_per_second: 3723.1372, train_label_loss: 0.4982, \n"
     ]
    },
    {
     "name": "stdout",
     "output_type": "stream",
     "text": [
      "epoch: 5, [batch: 3360 / 6720], examples_per_second: 3754.8675, train_label_loss: 0.1911, \n"
     ]
    },
    {
     "name": "stdout",
     "output_type": "stream",
     "text": [
      "epoch: 5, [batch: 4032 / 6720], examples_per_second: 3751.2089, train_label_loss: 0.3250, \n"
     ]
    },
    {
     "name": "stdout",
     "output_type": "stream",
     "text": [
      "epoch: 5, [batch: 4704 / 6720], examples_per_second: 3748.6723, train_label_loss: 0.2461, \n"
     ]
    },
    {
     "name": "stdout",
     "output_type": "stream",
     "text": [
      "epoch: 5, [batch: 5376 / 6720], examples_per_second: 3767.3530, train_label_loss: 0.6175, \n"
     ]
    },
    {
     "name": "stdout",
     "output_type": "stream",
     "text": [
      "epoch: 5, [batch: 6048 / 6720], examples_per_second: 3753.5853, train_label_loss: 0.3750, \n"
     ]
    },
    {
     "name": "stdout",
     "output_type": "stream",
     "text": [
      "=============================================================\n",
      "epoch: 5, source_val_acc_label: 0.8237, target_val_acc_label: 0.6348, source_val_label_loss: 0.4781, target_val_label_loss: 286.9400, \n",
      "=============================================================\n"
     ]
    },
    {
     "name": "stdout",
     "output_type": "stream",
     "text": [
      "New best\n"
     ]
    },
    {
     "name": "stdout",
     "output_type": "stream",
     "text": [
      "epoch: 6, [batch: 1 / 6720], examples_per_second: 4.3973, train_label_loss: 0.3665, \n"
     ]
    },
    {
     "name": "stdout",
     "output_type": "stream",
     "text": [
      "epoch: 6, [batch: 672 / 6720], examples_per_second: 3702.7822, train_label_loss: 0.8436, \n"
     ]
    },
    {
     "name": "stdout",
     "output_type": "stream",
     "text": [
      "epoch: 6, [batch: 1344 / 6720], examples_per_second: 3731.7781, train_label_loss: 0.5924, \n"
     ]
    },
    {
     "name": "stdout",
     "output_type": "stream",
     "text": [
      "epoch: 6, [batch: 2016 / 6720], examples_per_second: 3759.7186, train_label_loss: 0.2668, \n"
     ]
    },
    {
     "name": "stdout",
     "output_type": "stream",
     "text": [
      "epoch: 6, [batch: 2688 / 6720], examples_per_second: 3734.4665, train_label_loss: 0.1061, \n"
     ]
    },
    {
     "name": "stdout",
     "output_type": "stream",
     "text": [
      "epoch: 6, [batch: 3360 / 6720], examples_per_second: 3722.5607, train_label_loss: 0.1633, \n"
     ]
    },
    {
     "name": "stdout",
     "output_type": "stream",
     "text": [
      "epoch: 6, [batch: 4032 / 6720], examples_per_second: 3737.6679, train_label_loss: 0.4855, \n"
     ]
    },
    {
     "name": "stdout",
     "output_type": "stream",
     "text": [
      "epoch: 6, [batch: 4704 / 6720], examples_per_second: 3708.5470, train_label_loss: 0.4952, \n"
     ]
    },
    {
     "name": "stdout",
     "output_type": "stream",
     "text": [
      "epoch: 6, [batch: 5376 / 6720], examples_per_second: 3775.2462, train_label_loss: 0.3505, \n"
     ]
    },
    {
     "name": "stdout",
     "output_type": "stream",
     "text": [
      "epoch: 6, [batch: 6048 / 6720], examples_per_second: 3791.3072, train_label_loss: 0.2047, \n"
     ]
    },
    {
     "name": "stdout",
     "output_type": "stream",
     "text": [
      "=============================================================\n",
      "epoch: 6, source_val_acc_label: 0.8361, target_val_acc_label: 0.6416, source_val_label_loss: 0.4423, target_val_label_loss: 280.1248, \n",
      "=============================================================\n"
     ]
    },
    {
     "name": "stdout",
     "output_type": "stream",
     "text": [
      "New best\n"
     ]
    },
    {
     "name": "stdout",
     "output_type": "stream",
     "text": [
      "epoch: 7, [batch: 1 / 6720], examples_per_second: 4.4182, train_label_loss: 0.1373, \n"
     ]
    },
    {
     "name": "stdout",
     "output_type": "stream",
     "text": [
      "epoch: 7, [batch: 672 / 6720], examples_per_second: 3703.1040, train_label_loss: 0.6692, \n"
     ]
    },
    {
     "name": "stdout",
     "output_type": "stream",
     "text": [
      "epoch: 7, [batch: 1344 / 6720], examples_per_second: 3698.1100, train_label_loss: 0.3384, \n"
     ]
    },
    {
     "name": "stdout",
     "output_type": "stream",
     "text": [
      "epoch: 7, [batch: 2016 / 6720], examples_per_second: 3711.6065, train_label_loss: 0.5131, \n"
     ]
    },
    {
     "name": "stdout",
     "output_type": "stream",
     "text": [
      "epoch: 7, [batch: 2688 / 6720], examples_per_second: 3728.7994, train_label_loss: 0.3347, \n"
     ]
    },
    {
     "name": "stdout",
     "output_type": "stream",
     "text": [
      "epoch: 7, [batch: 3360 / 6720], examples_per_second: 3753.9060, train_label_loss: 0.9484, \n"
     ]
    },
    {
     "name": "stdout",
     "output_type": "stream",
     "text": [
      "epoch: 7, [batch: 4032 / 6720], examples_per_second: 3768.4040, train_label_loss: 0.1953, \n"
     ]
    },
    {
     "name": "stdout",
     "output_type": "stream",
     "text": [
      "epoch: 7, [batch: 4704 / 6720], examples_per_second: 3746.2569, train_label_loss: 0.4586, \n"
     ]
    },
    {
     "name": "stdout",
     "output_type": "stream",
     "text": [
      "epoch: 7, [batch: 5376 / 6720], examples_per_second: 3753.2895, train_label_loss: 0.1839, \n"
     ]
    },
    {
     "name": "stdout",
     "output_type": "stream",
     "text": [
      "epoch: 7, [batch: 6048 / 6720], examples_per_second: 3749.1666, train_label_loss: 0.1743, \n"
     ]
    },
    {
     "name": "stdout",
     "output_type": "stream",
     "text": [
      "=============================================================\n",
      "epoch: 7, source_val_acc_label: 0.8410, target_val_acc_label: 0.6384, source_val_label_loss: 0.4287, target_val_label_loss: 309.4105, \n",
      "=============================================================\n"
     ]
    },
    {
     "name": "stdout",
     "output_type": "stream",
     "text": [
      "epoch: 8, [batch: 1 / 6720], examples_per_second: 4.4056, train_label_loss: 0.6128, \n"
     ]
    },
    {
     "name": "stdout",
     "output_type": "stream",
     "text": [
      "epoch: 8, [batch: 672 / 6720], examples_per_second: 3728.7384, train_label_loss: 0.5577, \n"
     ]
    },
    {
     "name": "stdout",
     "output_type": "stream",
     "text": [
      "epoch: 8, [batch: 1344 / 6720], examples_per_second: 3752.4712, train_label_loss: 0.4846, \n"
     ]
    },
    {
     "name": "stdout",
     "output_type": "stream",
     "text": [
      "epoch: 8, [batch: 2016 / 6720], examples_per_second: 3762.3619, train_label_loss: 0.1456, \n"
     ]
    },
    {
     "name": "stdout",
     "output_type": "stream",
     "text": [
      "epoch: 8, [batch: 2688 / 6720], examples_per_second: 3746.0259, train_label_loss: 0.2610, \n"
     ]
    },
    {
     "name": "stdout",
     "output_type": "stream",
     "text": [
      "epoch: 8, [batch: 3360 / 6720], examples_per_second: 3766.8339, train_label_loss: 0.4636, \n"
     ]
    },
    {
     "name": "stdout",
     "output_type": "stream",
     "text": [
      "epoch: 8, [batch: 4032 / 6720], examples_per_second: 3766.1227, train_label_loss: 0.4923, \n"
     ]
    },
    {
     "name": "stdout",
     "output_type": "stream",
     "text": [
      "epoch: 8, [batch: 4704 / 6720], examples_per_second: 3759.6219, train_label_loss: 0.3124, \n"
     ]
    },
    {
     "name": "stdout",
     "output_type": "stream",
     "text": [
      "epoch: 8, [batch: 5376 / 6720], examples_per_second: 3759.8513, train_label_loss: 0.4157, \n"
     ]
    },
    {
     "name": "stdout",
     "output_type": "stream",
     "text": [
      "epoch: 8, [batch: 6048 / 6720], examples_per_second: 3765.8626, train_label_loss: 0.3813, \n"
     ]
    },
    {
     "name": "stdout",
     "output_type": "stream",
     "text": [
      "=============================================================\n",
      "epoch: 8, source_val_acc_label: 0.8599, target_val_acc_label: 0.6298, source_val_label_loss: 0.3825, target_val_label_loss: 341.5964, \n",
      "=============================================================\n"
     ]
    },
    {
     "name": "stdout",
     "output_type": "stream",
     "text": [
      "epoch: 9, [batch: 1 / 6720], examples_per_second: 4.4146, train_label_loss: 0.1258, \n"
     ]
    },
    {
     "name": "stdout",
     "output_type": "stream",
     "text": [
      "epoch: 9, [batch: 672 / 6720], examples_per_second: 3713.2944, train_label_loss: 0.5895, \n"
     ]
    },
    {
     "name": "stdout",
     "output_type": "stream",
     "text": [
      "epoch: 9, [batch: 1344 / 6720], examples_per_second: 3759.0944, train_label_loss: 0.4846, \n"
     ]
    },
    {
     "name": "stdout",
     "output_type": "stream",
     "text": [
      "epoch: 9, [batch: 2016 / 6720], examples_per_second: 3771.7162, train_label_loss: 0.4840, \n"
     ]
    },
    {
     "name": "stdout",
     "output_type": "stream",
     "text": [
      "epoch: 9, [batch: 2688 / 6720], examples_per_second: 3738.3879, train_label_loss: 0.2026, \n"
     ]
    },
    {
     "name": "stdout",
     "output_type": "stream",
     "text": [
      "epoch: 9, [batch: 3360 / 6720], examples_per_second: 3702.5481, train_label_loss: 0.7302, \n"
     ]
    },
    {
     "name": "stdout",
     "output_type": "stream",
     "text": [
      "epoch: 9, [batch: 4032 / 6720], examples_per_second: 3774.3501, train_label_loss: 0.9335, \n"
     ]
    },
    {
     "name": "stdout",
     "output_type": "stream",
     "text": [
      "epoch: 9, [batch: 4704 / 6720], examples_per_second: 3733.5813, train_label_loss: 0.2333, \n"
     ]
    },
    {
     "name": "stdout",
     "output_type": "stream",
     "text": [
      "epoch: 9, [batch: 5376 / 6720], examples_per_second: 3767.1684, train_label_loss: 0.2526, \n"
     ]
    },
    {
     "name": "stdout",
     "output_type": "stream",
     "text": [
      "epoch: 9, [batch: 6048 / 6720], examples_per_second: 3755.3873, train_label_loss: 0.2663, \n"
     ]
    },
    {
     "name": "stdout",
     "output_type": "stream",
     "text": [
      "=============================================================\n",
      "epoch: 9, source_val_acc_label: 0.8549, target_val_acc_label: 0.6361, source_val_label_loss: 0.3957, target_val_label_loss: 439.6962, \n",
      "=============================================================\n"
     ]
    },
    {
     "name": "stdout",
     "output_type": "stream",
     "text": [
      "epoch: 10, [batch: 1 / 6720], examples_per_second: 4.3771, train_label_loss: 0.3362, \n"
     ]
    },
    {
     "name": "stdout",
     "output_type": "stream",
     "text": [
      "epoch: 10, [batch: 672 / 6720], examples_per_second: 3715.7073, train_label_loss: 0.2063, \n"
     ]
    },
    {
     "name": "stdout",
     "output_type": "stream",
     "text": [
      "epoch: 10, [batch: 1344 / 6720], examples_per_second: 3712.2146, train_label_loss: 0.3817, \n"
     ]
    },
    {
     "name": "stdout",
     "output_type": "stream",
     "text": [
      "epoch: 10, [batch: 2016 / 6720], examples_per_second: 3725.5096, train_label_loss: 0.0214, \n"
     ]
    },
    {
     "name": "stdout",
     "output_type": "stream",
     "text": [
      "epoch: 10, [batch: 2688 / 6720], examples_per_second: 3750.1811, train_label_loss: 0.4736, \n"
     ]
    },
    {
     "name": "stdout",
     "output_type": "stream",
     "text": [
      "epoch: 10, [batch: 3360 / 6720], examples_per_second: 3766.3437, train_label_loss: 0.0725, \n"
     ]
    },
    {
     "name": "stdout",
     "output_type": "stream",
     "text": [
      "epoch: 10, [batch: 4032 / 6720], examples_per_second: 3752.5363, train_label_loss: 0.4446, \n"
     ]
    },
    {
     "name": "stdout",
     "output_type": "stream",
     "text": [
      "epoch: 10, [batch: 4704 / 6720], examples_per_second: 3765.3827, train_label_loss: 0.5813, \n"
     ]
    },
    {
     "name": "stdout",
     "output_type": "stream",
     "text": [
      "epoch: 10, [batch: 5376 / 6720], examples_per_second: 3735.8782, train_label_loss: 0.3824, \n"
     ]
    },
    {
     "name": "stdout",
     "output_type": "stream",
     "text": [
      "epoch: 10, [batch: 6048 / 6720], examples_per_second: 3763.3930, train_label_loss: 0.1899, \n"
     ]
    },
    {
     "name": "stdout",
     "output_type": "stream",
     "text": [
      "=============================================================\n",
      "epoch: 10, source_val_acc_label: 0.8715, target_val_acc_label: 0.6310, source_val_label_loss: 0.3535, target_val_label_loss: 492.2065, \n",
      "=============================================================\n"
     ]
    },
    {
     "name": "stdout",
     "output_type": "stream",
     "text": [
      "Patience (3) exhausted\n"
     ]
    }
   ],
   "source": [
    "###################################\n",
    "# train\n",
    "###################################\n",
    "jig = PTN_Train_Eval_Test_Jig(model, p.BEST_MODEL_PATH, p.device)\n",
    "\n",
    "jig.train(\n",
    "    train_iterable=datasets.source.processed.train,\n",
    "    source_val_iterable=datasets.source.processed.val,\n",
    "    target_val_iterable=datasets.target.processed.val,\n",
    "    num_epochs=p.n_epoch,\n",
    "    num_logs_per_epoch=p.NUM_LOGS_PER_EPOCH,\n",
    "    patience=p.patience,\n",
    "    optimizer=optimizer,\n",
    "    criteria_for_best=p.criteria_for_best,\n",
    ")"
   ]
  },
  {
   "cell_type": "code",
   "execution_count": 23,
   "id": "31e8fabf",
   "metadata": {
    "execution": {
     "iopub.execute_input": "2022-03-20T21:24:26.678929Z",
     "iopub.status.busy": "2022-03-20T21:24:26.678673Z",
     "iopub.status.idle": "2022-03-20T21:24:26.690379Z",
     "shell.execute_reply": "2022-03-20T21:24:26.689971Z"
    },
    "papermill": {
     "duration": 0.05667,
     "end_time": "2022-03-20T21:24:26.690469",
     "exception": false,
     "start_time": "2022-03-20T21:24:26.633799",
     "status": "completed"
    },
    "tags": []
   },
   "outputs": [],
   "source": [
    "total_experiment_time_secs = time.time() - start_time_secs"
   ]
  },
  {
   "cell_type": "code",
   "execution_count": 24,
   "id": "87b9595b",
   "metadata": {
    "execution": {
     "iopub.execute_input": "2022-03-20T21:24:26.774109Z",
     "iopub.status.busy": "2022-03-20T21:24:26.770191Z",
     "iopub.status.idle": "2022-03-20T21:26:48.558082Z",
     "shell.execute_reply": "2022-03-20T21:26:48.558542Z"
    },
    "papermill": {
     "duration": 141.826915,
     "end_time": "2022-03-20T21:26:48.558684",
     "exception": false,
     "start_time": "2022-03-20T21:24:26.731769",
     "status": "completed"
    },
    "tags": []
   },
   "outputs": [],
   "source": [
    "###################################\n",
    "# Evaluate the model\n",
    "###################################\n",
    "source_test_label_accuracy, source_test_label_loss = jig.test(datasets.source.processed.test)\n",
    "target_test_label_accuracy, target_test_label_loss = jig.test(datasets.target.processed.test)\n",
    "\n",
    "source_val_label_accuracy, source_val_label_loss = jig.test(datasets.source.processed.val)\n",
    "target_val_label_accuracy, target_val_label_loss = jig.test(datasets.target.processed.val)\n",
    "\n",
    "history = jig.get_history()\n",
    "\n",
    "total_epochs_trained = len(history[\"epoch_indices\"])\n",
    "\n",
    "val_dl = Iterable_Aggregator((datasets.source.original.val,datasets.target.original.val))\n",
    "\n",
    "confusion = ptn_confusion_by_domain_over_dataloader(model, p.device, val_dl)\n",
    "per_domain_accuracy = per_domain_accuracy_from_confusion(confusion)\n",
    "\n",
    "# Add a key to per_domain_accuracy for if it was a source domain\n",
    "for domain, accuracy in per_domain_accuracy.items():\n",
    "    per_domain_accuracy[domain] = {\n",
    "        \"accuracy\": accuracy,\n",
    "        \"source?\": domain in p.domains_source\n",
    "    }\n",
    "\n",
    "# Do an independent accuracy assesment JUST TO BE SURE!\n",
    "# _source_test_label_accuracy = independent_accuracy_assesment(model, datasets.source.processed.test, p.device)\n",
    "# _target_test_label_accuracy = independent_accuracy_assesment(model, datasets.target.processed.test, p.device)\n",
    "# _source_val_label_accuracy = independent_accuracy_assesment(model, datasets.source.processed.val, p.device)\n",
    "# _target_val_label_accuracy = independent_accuracy_assesment(model, datasets.target.processed.val, p.device)\n",
    "\n",
    "# assert(_source_test_label_accuracy == source_test_label_accuracy)\n",
    "# assert(_target_test_label_accuracy == target_test_label_accuracy)\n",
    "# assert(_source_val_label_accuracy == source_val_label_accuracy)\n",
    "# assert(_target_val_label_accuracy == target_val_label_accuracy)\n",
    "\n",
    "experiment = {\n",
    "    \"experiment_name\": p.experiment_name,\n",
    "    \"parameters\": dict(p),\n",
    "    \"results\": {\n",
    "        \"source_test_label_accuracy\": source_test_label_accuracy,\n",
    "        \"source_test_label_loss\": source_test_label_loss,\n",
    "        \"target_test_label_accuracy\": target_test_label_accuracy,\n",
    "        \"target_test_label_loss\": target_test_label_loss,\n",
    "        \"source_val_label_accuracy\": source_val_label_accuracy,\n",
    "        \"source_val_label_loss\": source_val_label_loss,\n",
    "        \"target_val_label_accuracy\": target_val_label_accuracy,\n",
    "        \"target_val_label_loss\": target_val_label_loss,\n",
    "        \"total_epochs_trained\": total_epochs_trained,\n",
    "        \"total_experiment_time_secs\": total_experiment_time_secs,\n",
    "        \"confusion\": confusion,\n",
    "        \"per_domain_accuracy\": per_domain_accuracy,\n",
    "    },\n",
    "    \"history\": history,\n",
    "    \"dataset_metrics\": get_dataset_metrics(datasets, \"ptn\"),\n",
    "}"
   ]
  },
  {
   "cell_type": "code",
   "execution_count": 25,
   "id": "54a21829",
   "metadata": {
    "execution": {
     "iopub.execute_input": "2022-03-20T21:26:48.638874Z",
     "iopub.status.busy": "2022-03-20T21:26:48.638591Z",
     "iopub.status.idle": "2022-03-20T21:26:48.763470Z",
     "shell.execute_reply": "2022-03-20T21:26:48.763913Z"
    },
    "papermill": {
     "duration": 0.163307,
     "end_time": "2022-03-20T21:26:48.764048",
     "exception": false,
     "start_time": "2022-03-20T21:26:48.600741",
     "status": "completed"
    },
    "tags": []
   },
   "outputs": [
    {
     "data": {
      "image/png": "[encoded data removed]",
      "text/plain": [
       "<Figure size 1080x504 with 1 Axes>"
      ]
     },
     "metadata": {
      "needs_background": "light"
     },
     "output_type": "display_data"
    }
   ],
   "source": [
    "ax = get_loss_curve(experiment)\n",
    "plt.show()"
   ]
  },
  {
   "cell_type": "code",
   "execution_count": 26,
   "id": "fd8a0f60",
   "metadata": {
    "execution": {
     "iopub.execute_input": "2022-03-20T21:26:48.844091Z",
     "iopub.status.busy": "2022-03-20T21:26:48.843829Z",
     "iopub.status.idle": "2022-03-20T21:26:48.989619Z",
     "shell.execute_reply": "2022-03-20T21:26:48.990045Z"
    },
    "papermill": {
     "duration": 0.185924,
     "end_time": "2022-03-20T21:26:48.990177",
     "exception": false,
     "start_time": "2022-03-20T21:26:48.804253",
     "status": "completed"
    },
    "tags": []
   },
   "outputs": [
    {
     "data": {
      "text/plain": [
       "<AxesSubplot:title={'center':'Results'}>"
      ]
     },
     "execution_count": 26,
     "metadata": {},
     "output_type": "execute_result"
    },
    {
     "data": {
      "image/png": "[encoded data removed]",
      "text/plain": [
       "<Figure size 1080x504 with 1 Axes>"
      ]
     },
     "metadata": {
      "needs_background": "light"
     },
     "output_type": "display_data"
    }
   ],
   "source": [
    "get_results_table(experiment)"
   ]
  },
  {
   "cell_type": "code",
   "execution_count": 27,
   "id": "cf8dc689",
   "metadata": {
    "execution": {
     "iopub.execute_input": "2022-03-20T21:26:49.072302Z",
     "iopub.status.busy": "2022-03-20T21:26:49.071877Z",
     "iopub.status.idle": "2022-03-20T21:26:49.227713Z",
     "shell.execute_reply": "2022-03-20T21:26:49.227166Z"
    },
    "papermill": {
     "duration": 0.194914,
     "end_time": "2022-03-20T21:26:49.227821",
     "exception": false,
     "start_time": "2022-03-20T21:26:49.032907",
     "status": "completed"
    },
    "tags": []
   },
   "outputs": [
    {
     "data": {
      "text/plain": [
       "<AxesSubplot:title={'center':'Per Domain Validation Accuracy'}, xlabel='domain'>"
      ]
     },
     "execution_count": 27,
     "metadata": {},
     "output_type": "execute_result"
    },
    {
     "data": {
      "image/png": "[encoded data removed]",
      "text/plain": [
       "<Figure size 1080x504 with 1 Axes>"
      ]
     },
     "metadata": {
      "needs_background": "light"
     },
     "output_type": "display_data"
    }
   ],
   "source": [
    "get_domain_accuracies(experiment)"
   ]
  },
  {
   "cell_type": "code",
   "execution_count": 28,
   "id": "a74ae082",
   "metadata": {
    "execution": {
     "iopub.execute_input": "2022-03-20T21:26:49.311922Z",
     "iopub.status.busy": "2022-03-20T21:26:49.311659Z",
     "iopub.status.idle": "2022-03-20T21:26:49.325330Z",
     "shell.execute_reply": "2022-03-20T21:26:49.325099Z"
    },
    "papermill": {
     "duration": 0.053266,
     "end_time": "2022-03-20T21:26:49.325392",
     "exception": false,
     "start_time": "2022-03-20T21:26:49.272126",
     "status": "completed"
    },
    "tags": []
   },
   "outputs": [
    {
     "name": "stdout",
     "output_type": "stream",
     "text": [
      "Source Test Label Accuracy: 0.8376627604166667 Target Test Label Accuracy: 0.6387096774193548\n",
      "Source Val Label Accuracy: 0.8361328125 Target Val Label Accuracy: 0.6415865384615385\n"
     ]
    }
   ],
   "source": [
    "print(\"Source Test Label Accuracy:\", experiment[\"results\"][\"source_test_label_accuracy\"], \"Target Test Label Accuracy:\", experiment[\"results\"][\"target_test_label_accuracy\"])\n",
    "print(\"Source Val Label Accuracy:\", experiment[\"results\"][\"source_val_label_accuracy\"], \"Target Val Label Accuracy:\", experiment[\"results\"][\"target_val_label_accuracy\"])"
   ]
  },
  {
   "cell_type": "code",
   "execution_count": 29,
   "id": "dacca602",
   "metadata": {
    "execution": {
     "iopub.execute_input": "2022-03-20T21:26:49.405484Z",
     "iopub.status.busy": "2022-03-20T21:26:49.405228Z",
     "iopub.status.idle": "2022-03-20T21:26:49.426532Z",
     "shell.execute_reply": "2022-03-20T21:26:49.426848Z"
    },
    "papermill": {
     "duration": 0.061561,
     "end_time": "2022-03-20T21:26:49.426951",
     "exception": false,
     "start_time": "2022-03-20T21:26:49.365390",
     "status": "completed"
    },
    "tags": [
     "experiment_json"
    ]
   },
   "outputs": [
    {
     "data": {
      "text/plain": [
       "'{\"experiment_name\": \"tl_3Av2:oracle.run1.framed -> cores+wisig\", \"parameters\": {\"experiment_name\": \"tl_3Av2:oracle.run1.framed -> cores+wisig\", \"device\": \"cuda\", \"lr\": 0.0001, \"x_shape\": [2, 200], \"n_shot\": 3, \"n_query\": 2, \"train_k_factor\": 3, \"val_k_factor\": 2, \"test_k_factor\": 2, \"torch_default_dtype\": \"torch.float32\", \"n_epoch\": 50, \"patience\": 3, \"criteria_for_best\": \"target_accuracy\", \"x_net\": [{\"class\": \"nnReshape\", \"kargs\": {\"shape\": [-1, 1, 2, 200]}}, {\"class\": \"Conv2d\", \"kargs\": {\"in_channels\": 1, \"out_channels\": 256, \"kernel_size\": [1, 7], \"bias\": false, \"padding\": [0, 3]}}, {\"class\": \"ReLU\", \"kargs\": {\"inplace\": true}}, {\"class\": \"BatchNorm2d\", \"kargs\": {\"num_features\": 256}}, {\"class\": \"Conv2d\", \"kargs\": {\"in_channels\": 256, \"out_channels\": 80, \"kernel_size\": [2, 7], \"bias\": true, \"padding\": [0, 3]}}, {\"class\": \"ReLU\", \"kargs\": {\"inplace\": true}}, {\"class\": \"BatchNorm2d\", \"kargs\": {\"num_features\": 80}}, {\"class\": \"Flatten\", \"kargs\": {}}, {\"class\": \"Linear\", \"kargs\": {\"in_features\": 16000, \"out_features\": 256}}, {\"class\": \"ReLU\", \"kargs\": {\"inplace\": true}}, {\"class\": \"BatchNorm1d\", \"kargs\": {\"num_features\": 256}}, {\"class\": \"Linear\", \"kargs\": {\"in_features\": 256, \"out_features\": 256}}], \"NUM_LOGS_PER_EPOCH\": 10, \"BEST_MODEL_PATH\": \"./best_model.pth\", \"n_way\": 16, \"datasets\": [{\"labels\": [\"1-10.\", \"1-11.\", \"1-15.\", \"1-16.\", \"1-17.\", \"1-18.\", \"1-19.\", \"10-4.\", \"10-7.\", \"11-1.\", \"11-14.\", \"11-17.\", \"11-20.\", \"11-7.\", \"13-20.\", \"13-8.\", \"14-10.\", \"14-11.\", \"14-14.\", \"14-7.\", \"15-1.\", \"15-20.\", \"16-1.\", \"16-16.\", \"17-10.\", \"17-11.\", \"17-2.\", \"19-1.\", \"19-16.\", \"19-19.\", \"19-20.\", \"19-3.\", \"2-10.\", \"2-11.\", \"2-17.\", \"2-18.\", \"2-20.\", \"2-3.\", \"2-4.\", \"2-5.\", \"2-6.\", \"2-7.\", \"2-8.\", \"3-13.\", \"3-18.\", \"3-3.\", \"4-1.\", \"4-10.\", \"4-11.\", \"4-19.\", \"5-5.\", \"6-15.\", \"7-10.\", \"7-14.\", \"8-18.\", \"8-20.\", \"8-3.\", \"8-8.\"], \"domains\": [1, 2, 3, 4, 5], \"num_examples_per_domain_per_label\": -1, \"pickle_path\": \"/mnt/wd500GB/CSC500/csc500-main/datasets/cores.stratified_ds.2022A.pkl\", \"source_or_target_dataset\": \"target\", \"x_transforms\": [\"unit_power\", \"take_200\"], \"episode_transforms\": [], \"domain_prefix\": \"C_\"}, {\"labels\": [\"1-10\", \"1-12\", \"1-14\", \"1-16\", \"1-18\", \"1-19\", \"1-8\", \"10-11\", \"10-17\", \"10-4\", \"10-7\", \"11-1\", \"11-10\", \"11-19\", \"11-20\", \"11-4\", \"11-7\", \"12-19\", \"12-20\", \"12-7\", \"13-14\", \"13-18\", \"13-19\", \"13-20\", \"13-3\", \"13-7\", \"14-10\", \"14-11\", \"14-12\", \"14-13\", \"14-14\", \"14-19\", \"14-20\", \"14-7\", \"14-8\", \"14-9\", \"15-1\", \"15-19\", \"15-6\", \"16-1\", \"16-16\", \"16-19\", \"16-20\", \"17-10\", \"17-11\", \"18-1\", \"18-10\", \"18-11\", \"18-12\", \"18-13\", \"18-14\", \"18-15\", \"18-16\", \"18-17\", \"18-19\", \"18-2\", \"18-20\", \"18-4\", \"18-5\", \"18-7\", \"18-8\", \"18-9\", \"19-1\", \"19-10\", \"19-11\", \"19-12\", \"19-13\", \"19-14\", \"19-15\", \"19-19\", \"19-2\", \"19-20\", \"19-3\", \"19-4\", \"19-6\", \"19-7\", \"19-8\", \"19-9\", \"2-1\", \"2-13\", \"2-15\", \"2-3\", \"2-4\", \"2-5\", \"2-6\", \"2-7\", \"2-8\", \"20-1\", \"20-12\", \"20-14\", \"20-15\", \"20-16\", \"20-18\", \"20-19\", \"20-20\", \"20-3\", \"20-4\", \"20-5\", \"20-7\", \"20-8\", \"3-1\", \"3-13\", \"3-18\", \"3-2\", \"3-8\", \"4-1\", \"4-10\", \"4-11\", \"5-1\", \"5-5\", \"6-1\", \"6-15\", \"6-6\", \"7-10\", \"7-11\", \"7-12\", \"7-13\", \"7-14\", \"7-7\", \"7-8\", \"7-9\", \"8-1\", \"8-13\", \"8-14\", \"8-18\", \"8-20\", \"8-3\", \"8-8\", \"9-1\", \"9-7\"], \"domains\": [1, 2, 3, 4], \"num_examples_per_domain_per_label\": -1, \"pickle_path\": \"/mnt/wd500GB/CSC500/csc500-main/datasets/wisig.node3-19.stratified_ds.2022A.pkl\", \"source_or_target_dataset\": \"target\", \"x_transforms\": [\"unit_power\", \"take_200\"], \"episode_transforms\": [], \"domain_prefix\": \"W_\"}, {\"labels\": [\"3123D52\", \"3123D65\", \"3123D79\", \"3123D80\", \"3123D54\", \"3123D70\", \"3123D7B\", \"3123D89\", \"3123D58\", \"3123D76\", \"3123D7D\", \"3123EFE\", \"3123D64\", \"3123D78\", \"3123D7E\", \"3124E4A\"], \"domains\": [32, 38, 8, 44, 14, 50, 20, 26], \"num_examples_per_domain_per_label\": 2000, \"pickle_path\": \"/mnt/wd500GB/CSC500/csc500-main/datasets/oracle.Run1_framed_2000Examples_stratified_ds.2022A.pkl\", \"source_or_target_dataset\": \"source\", \"x_transforms\": [\"unit_power\", \"take_200\", \"resample_20Msps_to_25Msps\"], \"episode_transforms\": [], \"domain_prefix\": \"O_\"}], \"seed\": 1337, \"dataset_seed\": 1337, \"domains_source\": [\"O_32\", \"O_38\", \"O_8\", \"O_44\", \"O_14\", \"O_50\", \"O_20\", \"O_26\"], \"domains_target\": [\"C_1\", \"C_2\", \"C_3\", \"C_4\", \"C_5\", \"W_1\", \"W_2\", \"W_3\", \"W_4\"]}, \"results\": {\"source_test_label_accuracy\": 0.8376627604166667, \"source_test_label_loss\": 0.4451955258846283, \"target_test_label_accuracy\": 0.6387096774193548, \"target_test_label_loss\": 276.8895263671875, \"source_val_label_accuracy\": 0.8361328125, \"source_val_label_loss\": 0.44233807921409607, \"target_val_label_accuracy\": 0.6415865384615385, \"target_val_label_loss\": 280.12481689453125, \"total_epochs_trained\": 10, \"total_experiment_time_secs\": 1745.6240339279175, \"confusion\": {\"O_14\": {\"15\": {\"15\": 240}, \"3\": {\"3\": 231, \"2\": 5, \"4\": 1, \"5\": 1, \"14\": 2}, \"6\": {\"6\": 176, \"13\": 55, \"2\": 3, \"14\": 6}, \"1\": {\"1\": 228, \"4\": 2, \"5\": 10}, \"8\": {\"8\": 240}, \"10\": {\"10\": 239, \"0\": 1}, \"9\": {\"9\": 240}, \"13\": {\"14\": 7, \"13\": 162, \"6\": 60, \"2\": 7, \"3\": 1, \"4\": 2, \"7\": 1}, \"12\": {\"12\": 240}, \"5\": {\"5\": 167, \"4\": 38, \"3\": 3, \"2\": 14, \"1\": 18}, \"0\": {\"0\": 237, \"11\": 1, \"3\": 2}, \"2\": {\"2\": 133, \"14\": 51, \"5\": 23, \"3\": 9, \"13\": 8, \"6\": 12, \"15\": 1, \"4\": 2, \"1\": 1}, \"11\": {\"11\": 237, \"9\": 3}, \"14\": {\"14\": 196, \"2\": 28, \"6\": 7, \"13\": 6, \"3\": 3}, \"7\": {\"7\": 240}, \"4\": {\"4\": 220, \"5\": 19, \"2\": 1}}, \"O_20\": {\"3\": {\"3\": 149, \"2\": 19, \"12\": 36, \"1\": 4, \"9\": 26, \"4\": 4, \"7\": 2}, \"15\": {\"15\": 202, \"0\": 10, \"1\": 23, \"5\": 4, \"13\": 1}, \"8\": {\"8\": 225, \"7\": 4, \"4\": 9, \"3\": 1, \"6\": 1}, \"4\": {\"4\": 224, \"3\": 9, \"8\": 6, \"12\": 1}, \"14\": {\"6\": 16, \"14\": 219, \"8\": 2, \"10\": 3}, \"0\": {\"12\": 1, \"5\": 23, \"0\": 197, \"15\": 17, \"8\": 1, \"7\": 1}, \"7\": {\"7\": 220, \"2\": 12, \"3\": 4, \"9\": 2, \"8\": 2}, \"6\": {\"6\": 227, \"14\": 13}, \"10\": {\"10\": 238, \"14\": 2}, \"5\": {\"5\": 200, \"1\": 8, \"0\": 20, \"15\": 6, \"12\": 6}, \"2\": {\"2\": 155, \"3\": 13, \"12\": 19, \"7\": 9, \"1\": 4, \"9\": 35, \"13\": 5}, \"12\": {\"12\": 158, \"3\": 35, \"1\": 33, \"9\": 7, \"2\": 4, \"5\": 3}, \"9\": {\"9\": 174, \"2\": 33, \"3\": 20, \"12\": 11, \"7\": 2}, \"1\": {\"1\": 182, \"5\": 7, \"12\": 37, \"15\": 11, \"2\": 1, \"13\": 1, \"3\": 1}, \"11\": {\"11\": 240}, \"13\": {\"13\": 230, \"1\": 1, \"5\": 2, \"2\": 4, \"15\": 2, \"3\": 1}}, \"O_38\": {\"5\": {\"8\": 47, \"5\": 156, \"15\": 8, \"0\": 2, \"7\": 16, \"6\": 4, \"9\": 5, \"13\": 1, \"10\": 1}, \"8\": {\"8\": 165, \"7\": 15, \"5\": 41, \"0\": 11, \"10\": 4, \"15\": 3, \"13\": 1}, \"11\": {\"11\": 238, \"3\": 2}, \"1\": {\"1\": 232, \"15\": 8}, \"10\": {\"10\": 204, \"0\": 4, \"13\": 24, \"7\": 3, \"14\": 1, \"8\": 3, \"4\": 1}, \"15\": {\"15\": 218, \"8\": 8, \"1\": 10, \"0\": 1, \"13\": 2, \"5\": 1}, \"3\": {\"3\": 238, \"0\": 2}, \"7\": {\"5\": 14, \"7\": 200, \"0\": 15, \"8\": 11}, \"4\": {\"4\": 240}, \"14\": {\"14\": 219, \"2\": 18, \"10\": 2, \"4\": 1}, \"9\": {\"9\": 231, \"3\": 2, \"6\": 5, \"0\": 1, \"5\": 1}, \"12\": {\"12\": 237, \"4\": 3}, \"6\": {\"6\": 238, \"9\": 1, \"5\": 1}, \"2\": {\"2\": 228, \"14\": 8, \"13\": 4}, \"0\": {\"8\": 17, \"0\": 193, \"10\": 7, \"3\": 10, \"11\": 2, \"13\": 6, \"7\": 1, \"5\": 4}, \"13\": {\"13\": 218, \"14\": 1, \"2\": 4, \"10\": 12, \"15\": 3, \"0\": 2}}, \"O_8\": {\"9\": {\"9\": 240}, \"10\": {\"10\": 216, \"4\": 4, \"14\": 9, \"13\": 10, \"5\": 1}, \"13\": {\"13\": 129, \"0\": 32, \"4\": 40, \"10\": 23, \"6\": 9, \"14\": 7}, \"0\": {\"0\": 205, \"7\": 7, \"13\": 24, \"4\": 3, \"6\": 1}, \"1\": {\"1\": 231, \"5\": 4, \"14\": 4, \"11\": 1}, \"15\": {\"15\": 219, \"12\": 19, \"3\": 1, \"8\": 1}, \"5\": {\"5\": 225, \"1\": 5, \"10\": 6, \"14\": 4}, \"3\": {\"2\": 2, \"3\": 235, \"12\": 3}, \"6\": {\"7\": 35, \"6\": 183, \"4\": 17, \"13\": 5}, \"11\": {\"11\": 234, \"1\": 6}, \"8\": {\"8\": 239, \"15\": 1}, \"4\": {\"4\": 188, \"13\": 34, \"14\": 10, \"6\": 7, \"10\": 1}, \"12\": {\"12\": 195, \"15\": 37, \"3\": 7, \"2\": 1}, \"14\": {\"10\": 24, \"14\": 192, \"1\": 8, \"13\": 4, \"4\": 12}, \"2\": {\"2\": 230, \"3\": 5, \"7\": 4, \"15\": 1}, \"7\": {\"7\": 203, \"0\": 2, \"6\": 35}}, \"O_50\": {\"7\": {\"7\": 206, \"13\": 8, \"5\": 14, \"4\": 3, \"6\": 8, \"10\": 1}, \"3\": {\"3\": 238, \"8\": 2}, \"8\": {\"8\": 231, \"10\": 8, \"3\": 1}, \"2\": {\"2\": 211, \"0\": 28, \"14\": 1}, \"14\": {\"14\": 240}, \"4\": {\"4\": 161, \"1\": 6, \"7\": 3, \"5\": 35, \"6\": 4, \"15\": 29, \"11\": 2}, \"6\": {\"6\": 211, \"15\": 4, \"13\": 14, \"4\": 3, \"7\": 3, \"5\": 4, \"1\": 1}, \"15\": {\"15\": 195, \"11\": 9, \"4\": 17, \"1\": 18, \"6\": 1}, \"10\": {\"10\": 220, \"13\": 7, \"8\": 8, \"0\": 5}, \"11\": {\"11\": 205, \"9\": 6, \"15\": 18, \"12\": 6, \"1\": 3, \"14\": 1, \"4\": 1}, \"13\": {\"13\": 209, \"6\": 9, \"5\": 9, \"1\": 2, \"7\": 7, \"10\": 3, \"0\": 1}, \"9\": {\"9\": 217, \"12\": 9, \"11\": 14}, \"0\": {\"0\": 207, \"10\": 13, \"2\": 19, \"13\": 1}, \"1\": {\"1\": 216, \"15\": 16, \"11\": 5, \"5\": 1, \"6\": 1, \"4\": 1}, \"12\": {\"12\": 229, \"9\": 6, \"11\": 5}, \"5\": {\"5\": 144, \"4\": 38, \"7\": 23, \"1\": 15, \"13\": 13, \"15\": 4, \"6\": 3}}, \"O_32\": {\"8\": {\"8\": 174, \"0\": 35, \"13\": 13, \"3\": 7, \"5\": 8, \"14\": 3}, \"14\": {\"14\": 177, \"11\": 22, \"0\": 20, \"3\": 4, \"7\": 10, \"8\": 3, \"5\": 4}, \"2\": {\"2\": 185, \"4\": 46, \"0\": 1, \"7\": 8}, \"0\": {\"8\": 29, \"0\": 181, \"14\": 25, \"5\": 2, \"7\": 2, \"2\": 1}, \"1\": {\"1\": 240}, \"10\": {\"10\": 240}, \"11\": {\"11\": 229, \"7\": 4, \"3\": 1, \"14\": 6}, \"5\": {\"5\": 141, \"11\": 2, \"3\": 5, \"8\": 9, \"13\": 12, \"7\": 52, \"4\": 10, \"2\": 1, \"14\": 6, \"0\": 2}, \"15\": {\"15\": 239, \"8\": 1}, \"3\": {\"3\": 225, \"13\": 5, \"11\": 4, \"5\": 5, \"14\": 1}, \"12\": {\"12\": 240}, \"7\": {\"5\": 33, \"4\": 23, \"7\": 167, \"14\": 10, \"3\": 1, \"2\": 3, \"13\": 1, \"0\": 2}, \"13\": {\"13\": 193, \"11\": 6, \"3\": 8, \"4\": 16, \"7\": 5, \"8\": 4, \"0\": 2, \"5\": 6}, \"6\": {\"6\": 240}, \"4\": {\"4\": 175, \"7\": 11, \"2\": 39, \"13\": 7, \"5\": 8}, \"9\": {\"9\": 239, \"12\": 1}}, \"O_26\": {\"4\": {\"4\": 175, \"8\": 14, \"0\": 13, \"7\": 18, \"14\": 12, \"1\": 6, \"10\": 2}, \"12\": {\"12\": 240}, \"10\": {\"14\": 26, \"0\": 63, \"10\": 108, \"8\": 32, \"15\": 2, \"6\": 6, \"7\": 1, \"4\": 1, \"9\": 1}, \"0\": {\"8\": 22, \"0\": 102, \"14\": 34, \"4\": 16, \"10\": 61, \"7\": 3, \"6\": 2}, \"13\": {\"13\": 192, \"5\": 26, \"2\": 4, \"9\": 15, \"15\": 3}, \"9\": {\"13\": 9, \"9\": 183, \"15\": 39, \"6\": 6, \"5\": 2, \"8\": 1}, \"3\": {\"3\": 176, \"2\": 50, \"7\": 12, \"1\": 1, \"4\": 1}, \"2\": {\"2\": 116, \"3\": 69, \"7\": 23, \"5\": 25, \"9\": 2, \"15\": 2, \"13\": 3}, \"5\": {\"5\": 208, \"13\": 12, \"15\": 3, \"2\": 14, \"3\": 2, \"9\": 1}, \"14\": {\"14\": 147, \"4\": 18, \"10\": 22, \"0\": 28, \"8\": 11, \"1\": 11, \"7\": 2, \"6\": 1}, \"8\": {\"8\": 125, \"7\": 21, \"14\": 9, \"0\": 17, \"10\": 31, \"4\": 25, \"15\": 4, \"9\": 2, \"2\": 3, \"6\": 2, \"13\": 1}, \"7\": {\"7\": 159, \"8\": 17, \"2\": 22, \"4\": 21, \"3\": 14, \"10\": 1, \"14\": 2, \"15\": 3, \"0\": 1}, \"6\": {\"6\": 212, \"10\": 8, \"15\": 14, \"9\": 6}, \"11\": {\"11\": 240}, \"15\": {\"8\": 12, \"9\": 44, \"15\": 156, \"6\": 5, \"0\": 3, \"13\": 3, \"5\": 7, \"7\": 3, \"10\": 5, \"2\": 2}, \"1\": {\"1\": 216, \"14\": 16, \"10\": 2, \"8\": 2, \"7\": 2, \"4\": 2}}, \"O_44\": {\"12\": {\"12\": 216, \"1\": 22, \"3\": 2}, \"7\": {\"7\": 151, \"2\": 30, \"9\": 48, \"6\": 8, \"13\": 1, \"1\": 1, \"10\": 1}, \"5\": {\"5\": 190, \"0\": 16, \"15\": 12, \"8\": 10, \"4\": 3, \"14\": 9}, \"15\": {\"15\": 196, \"4\": 2, \"14\": 12, \"5\": 8, \"0\": 17, \"8\": 5}, \"8\": {\"0\": 74, \"8\": 150, \"15\": 11, \"5\": 5}, \"2\": {\"2\": 188, \"1\": 13, \"7\": 28, \"10\": 9, \"9\": 1, \"3\": 1}, \"13\": {\"6\": 45, \"13\": 160, \"9\": 34, \"11\": 1}, \"4\": {\"4\": 177, \"14\": 61, \"15\": 1, \"5\": 1}, \"0\": {\"0\": 154, \"5\": 15, \"8\": 62, \"15\": 9}, \"6\": {\"6\": 157, \"13\": 39, \"9\": 39, \"7\": 4, \"11\": 1}, \"9\": {\"13\": 27, \"7\": 47, \"9\": 148, \"6\": 16, \"3\": 1, \"2\": 1}, \"11\": {\"11\": 236, \"13\": 3, \"6\": 1}, \"10\": {\"10\": 194, \"12\": 7, \"2\": 14, \"1\": 24, \"7\": 1}, \"14\": {\"4\": 82, \"14\": 130, \"15\": 22, \"5\": 6}, \"1\": {\"2\": 25, \"1\": 156, \"3\": 13, \"12\": 28, \"10\": 18}, \"3\": {\"3\": 218, \"1\": 13, \"12\": 7, \"2\": 2}}, \"C_3\": {\"43\": {\"43\": 127, \"10\": 1}, \"9\": {\"6\": 2, \"32\": 4, \"9\": 89, \"48\": 9, \"27\": 4, \"17\": 18, \"0\": 3, \"52\": 2, \"1\": 1, \"5\": 2, \"29\": 2, \"19\": 1, \"54\": 2, \"36\": 2, \"4\": 1, \"47\": 1, \"45\": 2, \"50\": 1, \"20\": 4}, \"6\": {\"8\": 7, \"6\": 24, \"57\": 2, \"41\": 2, \"54\": 2, \"27\": 1, \"42\": 2, \"44\": 1, \"34\": 2, \"47\": 3, \"50\": 3, \"20\": 2, \"48\": 13, \"53\": 2, \"36\": 3, \"17\": 7, \"18\": 5, \"46\": 2, \"19\": 1, \"2\": 2, \"3\": 2}, \"3\": {\"9\": 4, \"46\": 5, \"36\": 11, \"8\": 10, \"19\": 3, \"25\": 6, \"27\": 14, \"42\": 1, \"54\": 4, \"41\": 1, \"6\": 7, \"4\": 6, \"50\": 14, \"48\": 6, \"2\": 2, \"34\": 1, \"1\": 5, \"21\": 3, \"47\": 2, \"44\": 1, \"12\": 3, \"3\": 15, \"17\": 4, \"51\": 1, \"5\": 3, \"57\": 3, \"38\": 1, \"26\": 2, \"45\": 1, \"53\": 2, \"29\": 1, \"40\": 1, \"20\": 1}, \"16\": {\"16\": 112, \"23\": 10, \"18\": 2, \"15\": 8, \"52\": 2}, \"51\": {\"51\": 112, \"27\": 1, \"8\": 4, \"54\": 2, \"50\": 1, \"53\": 8}, \"31\": {\"31\": 28}, \"46\": {\"46\": 28, \"18\": 4, \"16\": 9, \"20\": 14, \"47\": 3, \"6\": 5, \"11\": 4, \"48\": 2, \"1\": 4, \"54\": 6, \"53\": 2, \"27\": 3, \"45\": 1, \"17\": 1, \"19\": 6, \"36\": 1, \"3\": 3, \"52\": 12, \"50\": 5, \"8\": 3, \"4\": 2, \"23\": 2, \"9\": 1, \"0\": 1, \"41\": 3, \"34\": 3, \"25\": 1, \"5\": 2, \"57\": 1, \"30\": 1, \"21\": 1}, \"19\": {\"19\": 79, \"47\": 3, \"32\": 2, \"9\": 9, \"3\": 2, \"17\": 2, \"4\": 5, \"48\": 1, \"1\": 5, \"57\": 1, \"5\": 2, \"25\": 2, \"55\": 1, \"27\": 2, \"45\": 3, \"54\": 1, \"36\": 1, \"29\": 1, \"50\": 2}, \"8\": {\"8\": 137, \"12\": 3, \"38\": 3, \"4\": 2, \"54\": 2, \"50\": 4, \"27\": 1}, \"18\": {\"18\": 80, \"30\": 3, \"52\": 1}, \"37\": {\"37\": 28}, \"24\": {\"24\": 99, \"10\": 4, \"22\": 1}, \"10\": {\"10\": 63, \"24\": 1}, \"44\": {\"19\": 6, \"44\": 48, \"31\": 1, \"0\": 3, \"29\": 3, \"42\": 2, \"55\": 3, \"3\": 1, \"1\": 2, \"40\": 4, \"47\": 4, \"9\": 1, \"46\": 2, \"5\": 2, \"28\": 1, \"57\": 1, \"6\": 2, \"21\": 1, \"45\": 1}, \"14\": {\"31\": 3, \"14\": 10, \"56\": 4, \"46\": 2, \"10\": 2, \"24\": 5, \"13\": 2, \"55\": 4, \"40\": 1, \"28\": 1, \"35\": 1, \"22\": 3, \"43\": 2}, \"38\": {\"38\": 27, \"54\": 1}, \"53\": {\"53\": 114, \"33\": 1, \"38\": 1, \"3\": 1, \"2\": 2, \"51\": 10, \"4\": 1, \"8\": 3, \"50\": 6, \"6\": 1}, \"20\": {\"20\": 126, \"54\": 2, \"30\": 1, \"12\": 1, \"46\": 2}, \"32\": {\"32\": 27, \"9\": 1}, \"36\": {\"36\": 96, \"32\": 1, \"27\": 3}, \"33\": {\"33\": 17, \"51\": 2, \"26\": 2, \"39\": 1, \"34\": 1, \"12\": 3, \"53\": 1, \"47\": 1}, \"56\": {\"56\": 134, \"13\": 1, \"22\": 1}, \"23\": {\"23\": 129, \"52\": 1}, \"54\": {\"54\": 66, \"38\": 2, \"6\": 1, \"8\": 5, \"20\": 7, \"17\": 4, \"12\": 4, \"51\": 1, \"36\": 2, \"48\": 5, \"50\": 3}, \"21\": {\"21\": 69, \"20\": 1, \"51\": 12, \"2\": 3, \"50\": 3, \"53\": 18, \"45\": 1, \"8\": 6, \"38\": 2, \"36\": 1, \"12\": 1, \"4\": 1, \"3\": 3, \"19\": 1, \"48\": 1, \"27\": 2, \"46\": 1}, \"28\": {\"28\": 11, \"1\": 1, \"48\": 1, \"24\": 1, \"35\": 5, \"42\": 1, \"0\": 2, \"5\": 1, \"4\": 1, \"7\": 2, \"44\": 1, \"33\": 1}, \"26\": {\"26\": 24}, \"48\": {\"48\": 102, \"34\": 2, \"20\": 1, \"47\": 3, \"54\": 1, \"18\": 1, \"9\": 1, \"1\": 1, \"17\": 1, \"12\": 1, \"6\": 2}, \"52\": {\"52\": 105, \"18\": 5, \"16\": 1, \"0\": 1, \"15\": 2, \"48\": 1, \"30\": 1, \"23\": 2}, \"39\": {\"52\": 1, \"39\": 9, \"34\": 2, \"8\": 2, \"54\": 1, \"50\": 1}, \"22\": {\"22\": 121, \"49\": 2, \"56\": 1, \"10\": 3, \"13\": 3, \"24\": 7, \"43\": 1, \"55\": 2}, \"13\": {\"13\": 126, \"10\": 1, \"24\": 1}, \"2\": {\"2\": 28, \"51\": 1, \"50\": 1, \"38\": 2}, \"34\": {\"34\": 29, \"48\": 2, \"46\": 1}, \"27\": {\"27\": 106, \"54\": 4, \"50\": 3, \"32\": 1, \"6\": 3, \"8\": 6, \"12\": 1, \"4\": 2, \"3\": 1, \"36\": 1, \"9\": 1, \"17\": 2, \"46\": 1}, \"45\": {\"2\": 3, \"33\": 1, \"45\": 39, \"53\": 7, \"50\": 2, \"12\": 1, \"38\": 3, \"21\": 1, \"19\": 1, \"51\": 2}, \"35\": {\"35\": 18, \"31\": 2, \"44\": 4, \"0\": 1, \"1\": 2, \"19\": 1}, \"29\": {\"29\": 45, \"27\": 5, \"36\": 8, \"47\": 4, \"0\": 4, \"2\": 1, \"50\": 1, \"17\": 11, \"1\": 5, \"57\": 8, \"40\": 3, \"3\": 2, \"9\": 12, \"46\": 3, \"20\": 2, \"15\": 1, \"48\": 4, \"5\": 2, \"32\": 2, \"6\": 1, \"4\": 1, \"19\": 2, \"54\": 1}, \"25\": {\"25\": 98, \"51\": 2, \"33\": 2, \"21\": 11, \"2\": 1, \"1\": 1, \"50\": 4, \"0\": 3, \"8\": 4, \"57\": 2, \"45\": 1, \"53\": 7, \"54\": 2, \"12\": 3, \"3\": 2, \"27\": 1}, \"0\": {\"23\": 6, \"34\": 5, \"15\": 10, \"0\": 44, \"18\": 3, \"47\": 17, \"31\": 1, \"48\": 15, \"16\": 4, \"52\": 2, \"6\": 2, \"46\": 1, \"3\": 1, \"1\": 3, \"9\": 1, \"29\": 1, \"57\": 3, \"26\": 1, \"4\": 1, \"44\": 1, \"11\": 2}, \"41\": {\"41\": 25, \"48\": 1, \"47\": 2}, \"11\": {\"5\": 2, \"11\": 73, \"15\": 23, \"34\": 1, \"52\": 4, \"8\": 1, \"16\": 18, \"47\": 1, \"41\": 1, \"3\": 3, \"1\": 1, \"23\": 5, \"18\": 1, \"30\": 2, \"0\": 3, \"42\": 1, \"50\": 2}, \"5\": {\"34\": 5, \"15\": 4, \"41\": 1, \"18\": 1, \"9\": 3, \"29\": 2, \"47\": 6, \"5\": 28, \"1\": 8, \"48\": 17, \"52\": 2, \"30\": 1, \"16\": 4, \"23\": 5, \"0\": 6, \"11\": 2, \"17\": 1, \"40\": 3, \"4\": 1, \"31\": 1, \"57\": 1, \"6\": 4, \"19\": 1, \"54\": 1}, \"1\": {\"57\": 4, \"1\": 49, \"47\": 5, \"48\": 13, \"5\": 3, \"46\": 2, \"30\": 2, \"6\": 3, \"3\": 1, \"9\": 4, \"17\": 5, \"0\": 1, \"34\": 1, \"42\": 1, \"36\": 1, \"32\": 1, \"54\": 2, \"19\": 2}, \"57\": {\"57\": 56, \"47\": 4, \"0\": 5, \"27\": 4, \"1\": 10, \"17\": 2, \"3\": 2, \"48\": 4, \"29\": 7, \"9\": 12, \"34\": 1, \"25\": 1, \"32\": 1, \"36\": 5, \"20\": 2}, \"17\": {\"17\": 106, \"10\": 1, \"56\": 1}, \"7\": {\"7\": 32, \"0\": 1, \"54\": 1, \"11\": 1, \"42\": 1}, \"12\": {\"17\": 15, \"51\": 3, \"12\": 38, \"48\": 2, \"20\": 6, \"38\": 1, \"30\": 2, \"50\": 3, \"36\": 3, \"53\": 6, \"2\": 1, \"9\": 1, \"54\": 4, \"8\": 2, \"1\": 1, \"27\": 1, \"32\": 1, \"4\": 2}, \"47\": {\"19\": 1, \"47\": 52, \"8\": 1, \"26\": 1, \"22\": 1, \"48\": 7, \"20\": 2, \"55\": 2, \"17\": 4, \"18\": 1, \"16\": 2, \"1\": 2, \"3\": 1, \"0\": 6, \"57\": 2, \"46\": 2, \"36\": 2, \"23\": 1, \"52\": 1, \"6\": 1}, \"40\": {\"22\": 2, \"40\": 79, \"49\": 1, \"55\": 5, \"29\": 13, \"57\": 2, \"3\": 1, \"24\": 1, \"53\": 3, \"19\": 6, \"4\": 3, \"5\": 3, \"46\": 2, \"28\": 1, \"38\": 1, \"44\": 6, \"21\": 1, \"51\": 1, \"50\": 1, \"12\": 1, \"0\": 2, \"9\": 1}, \"15\": {\"15\": 130, \"16\": 4, \"23\": 6, \"44\": 1, \"45\": 1}, \"42\": {\"42\": 17, \"6\": 1, \"26\": 1, \"27\": 3, \"54\": 2, \"47\": 1, \"38\": 1, \"1\": 1, \"21\": 1}, \"55\": {\"55\": 123, \"44\": 3, \"49\": 2, \"43\": 9, \"25\": 1, \"19\": 2, \"40\": 1, \"29\": 1, \"0\": 2, \"45\": 1, \"3\": 1, \"22\": 1, \"7\": 1, \"24\": 1, \"4\": 1}, \"49\": {\"49\": 18, \"22\": 2}, \"30\": {\"30\": 111, \"2\": 1, \"17\": 2, \"20\": 1, \"38\": 1, \"47\": 1, \"18\": 3}, \"50\": {\"32\": 1, \"50\": 40, \"8\": 31, \"45\": 1, \"2\": 2, \"6\": 4, \"51\": 7, \"12\": 3, \"53\": 22, \"4\": 2, \"9\": 3, \"17\": 4, \"54\": 2, \"3\": 5, \"27\": 4, \"20\": 2, \"21\": 1}, \"4\": {\"4\": 113, \"54\": 2, \"27\": 5, \"3\": 2, \"8\": 2, \"32\": 1, \"50\": 4, \"12\": 4, \"51\": 2, \"6\": 1}}, \"W_3\": {\"109\": {\"100\": 3, \"14\": 3, \"33\": 2, \"81\": 2, \"109\": 21, \"96\": 1, \"126\": 5, \"78\": 1, \"82\": 2, \"69\": 9, \"84\": 5, \"90\": 13, \"1\": 2, \"18\": 2, \"102\": 12, \"44\": 1, \"11\": 4, \"113\": 11, \"93\": 4, \"107\": 1, \"114\": 3, \"88\": 5, \"62\": 3, \"26\": 1, \"118\": 2, \"74\": 1, \"70\": 2, \"16\": 1, \"39\": 4, \"87\": 2}, \"127\": {\"127\": 104, \"110\": 1, \"112\": 1, \"10\": 1, \"12\": 2, \"19\": 1, \"85\": 1, \"39\": 1, \"5\": 3, \"105\": 4, \"0\": 1, \"108\": 1, \"113\": 1, \"4\": 1, \"71\": 2, \"98\": 2, \"8\": 1}, \"14\": {\"14\": 54, \"114\": 1, \"107\": 1, \"102\": 1, \"90\": 1, \"82\": 2, \"109\": 3, \"11\": 1, \"4\": 1, \"69\": 3, \"62\": 3, \"32\": 2, \"13\": 3, \"84\": 1, \"1\": 2, \"16\": 1}, \"7\": {\"7\": 67, \"42\": 1, \"0\": 11, \"73\": 1, \"108\": 2, \"30\": 2, \"10\": 4, \"12\": 2, \"111\": 7, \"98\": 8, \"3\": 2, \"8\": 2, \"93\": 1, \"27\": 1, \"126\": 1}, \"129\": {\"84\": 4, \"122\": 2, \"32\": 1, \"110\": 2, \"26\": 1, \"103\": 1, \"5\": 3, \"129\": 7, \"102\": 1, \"127\": 1, \"43\": 1, \"4\": 1, \"114\": 1, \"1\": 2, \"119\": 1, \"14\": 1, \"44\": 1, \"11\": 1}, \"57\": {\"57\": 17, \"79\": 2, \"118\": 1}, \"84\": {\"100\": 1, \"84\": 72, \"129\": 1, \"102\": 10, \"122\": 1, \"69\": 2, \"114\": 2, \"109\": 5, \"87\": 4, \"33\": 1, \"5\": 1, \"62\": 1, \"92\": 1, \"1\": 3, \"118\": 1, \"16\": 1, \"88\": 1}, \"114\": {\"100\": 2, \"114\": 89, \"53\": 1, \"29\": 1, \"110\": 3, \"1\": 10, \"62\": 1, \"8\": 1, \"71\": 2, \"5\": 2, \"107\": 3, \"90\": 1, \"64\": 1, \"129\": 1, \"128\": 2, \"84\": 1, \"14\": 1, \"113\": 1, \"11\": 1}, \"44\": {\"44\": 69, \"49\": 1, \"92\": 2}, \"21\": {\"44\": 4, \"21\": 26, \"113\": 4, \"39\": 4, \"29\": 2, \"36\": 1, \"70\": 1, \"67\": 1, \"80\": 2, \"126\": 2, \"6\": 1}, \"46\": {\"46\": 12, \"129\": 1, \"85\": 1, \"55\": 1, \"124\": 1}, \"100\": {\"14\": 1, \"100\": 9, \"48\": 1, \"122\": 2, \"129\": 1, \"84\": 1, \"87\": 1}, \"63\": {\"63\": 9, \"93\": 2, \"92\": 1, \"39\": 1, \"17\": 1, \"123\": 2}, \"24\": {\"24\": 18, \"83\": 2, \"106\": 3, \"70\": 3, \"40\": 1, \"44\": 1, \"124\": 1, \"36\": 1, \"15\": 1, \"88\": 1, \"30\": 2, \"125\": 3, \"0\": 2, \"85\": 1, \"42\": 2, \"10\": 1, \"6\": 1, \"98\": 1, \"111\": 1, \"8\": 1, \"27\": 1}, \"107\": {\"14\": 1, \"107\": 82, \"117\": 1, \"32\": 1, \"110\": 3, \"50\": 2, \"82\": 1, \"62\": 6, \"40\": 6, \"4\": 1, \"84\": 1, \"105\": 6, \"1\": 3, \"69\": 3, \"90\": 1}, \"35\": {\"7\": 2, \"35\": 9, \"44\": 1}, \"81\": {\"81\": 21, \"31\": 1, \"18\": 1, \"88\": 1, \"21\": 2, \"39\": 2, \"123\": 2, \"43\": 1, \"113\": 1}, \"64\": {\"80\": 1, \"64\": 16, \"44\": 1, \"39\": 1, \"92\": 1}, \"59\": {\"59\": 10, \"0\": 1, \"85\": 1}, \"33\": {\"33\": 105, \"118\": 3, \"16\": 2, \"117\": 1, \"93\": 1, \"26\": 1, \"87\": 1}, \"34\": {\"36\": 2, \"58\": 2, \"52\": 2, \"125\": 2, \"14\": 1, \"129\": 1, \"75\": 1, \"27\": 1, \"23\": 1, \"62\": 1, \"34\": 4, \"102\": 1, \"25\": 1, \"116\": 1, \"100\": 1, \"86\": 1, \"57\": 1, \"41\": 1, \"15\": 4, \"19\": 1, \"94\": 1, \"1\": 1}, \"36\": {\"36\": 40, \"0\": 7, \"51\": 1, \"27\": 3, \"34\": 1, \"73\": 3, \"30\": 2, \"97\": 3, \"6\": 1, \"124\": 3, \"15\": 4, \"91\": 2, \"8\": 2, \"98\": 9, \"111\": 8, \"10\": 3, \"94\": 4, \"125\": 6, \"106\": 8, \"7\": 2, \"108\": 4, \"54\": 1, \"42\": 2, \"24\": 1}, \"79\": {\"79\": 7, \"109\": 1, \"102\": 1, \"87\": 1, \"122\": 1, \"48\": 1}, \"80\": {\"80\": 16}, \"77\": {\"124\": 1, \"64\": 1, \"77\": 13, \"127\": 1}, \"22\": {\"22\": 9, \"77\": 2, \"7\": 1, \"41\": 1, \"39\": 1, \"62\": 1, \"100\": 1}, \"124\": {\"124\": 58, \"97\": 2, \"72\": 1, \"10\": 6, \"36\": 2, \"0\": 6, \"101\": 3, \"12\": 9, \"15\": 1, \"8\": 2, \"127\": 1, \"7\": 3, \"4\": 5, \"39\": 1, \"40\": 1, \"108\": 1, \"111\": 3, \"106\": 2, \"125\": 2, \"30\": 1, \"47\": 1, \"41\": 1, \"52\": 1, \"9\": 1, \"94\": 2, \"95\": 2, \"21\": 1, \"73\": 1, \"27\": 1, \"98\": 2, \"70\": 1}, \"2\": {\"2\": 7, \"64\": 1, \"126\": 7, \"11\": 1, \"26\": 2, \"102\": 1, \"39\": 2, \"113\": 1, \"81\": 1, \"16\": 1, \"84\": 2, \"117\": 1, \"14\": 1}, \"87\": {\"109\": 5, \"79\": 1, \"119\": 1, \"100\": 1, \"1\": 3, \"44\": 6, \"62\": 5, \"87\": 21, \"11\": 3, \"110\": 4, \"113\": 2, \"126\": 7, \"129\": 1, \"90\": 7, \"69\": 1, \"71\": 2, \"102\": 3, \"33\": 3, \"14\": 3, \"114\": 15, \"84\": 6, \"39\": 3, \"5\": 1, \"117\": 1, \"21\": 1, \"43\": 1, \"93\": 4, \"16\": 1}, \"105\": {\"105\": 88, \"5\": 6, \"9\": 1, \"127\": 3, \"40\": 7, \"88\": 1, \"10\": 1, \"4\": 7, \"108\": 1, \"0\": 1, \"46\": 1, \"79\": 1, \"49\": 1, \"111\": 1, \"107\": 2}, \"95\": {\"95\": 27, \"101\": 1, \"124\": 2, \"77\": 1, \"111\": 1}, \"43\": {\"113\": 10, \"43\": 11, \"33\": 3, \"80\": 2, \"26\": 3, \"121\": 1, \"21\": 2, \"96\": 2, \"90\": 1, \"2\": 1, \"126\": 4, \"92\": 2, \"16\": 1, \"64\": 1, \"117\": 3, \"44\": 4, \"109\": 1, \"118\": 1, \"88\": 2, \"18\": 1}, \"56\": {\"95\": 1, \"8\": 1, \"56\": 5, \"47\": 2, \"30\": 1, \"12\": 1, \"34\": 1}, \"18\": {\"18\": 100, \"81\": 1, \"92\": 1, \"118\": 1, \"39\": 9, \"113\": 1, \"126\": 5, \"21\": 1, \"23\": 1, \"93\": 3, \"125\": 1}, \"85\": {\"56\": 1, \"85\": 23, \"66\": 2, \"38\": 1, \"42\": 1, \"108\": 1, \"101\": 1, \"48\": 1, \"9\": 2, \"127\": 2, \"98\": 1}, \"113\": {\"126\": 6, \"113\": 101, \"39\": 3, \"120\": 3, \"93\": 1, \"64\": 2, \"92\": 1, \"121\": 1, \"81\": 1, \"96\": 1}, \"97\": {\"97\": 7, \"58\": 1, \"15\": 1, \"27\": 1, \"126\": 1, \"73\": 2, \"36\": 2, \"64\": 1, \"111\": 3, \"112\": 1}, \"86\": {\"46\": 1, \"8\": 1, \"10\": 1, \"49\": 1, \"1\": 2, \"86\": 7, \"110\": 1, \"43\": 1, \"31\": 1, \"5\": 2, \"48\": 2, \"114\": 2, \"39\": 2, \"15\": 1, \"16\": 1, \"125\": 1, \"105\": 1}, \"128\": {\"128\": 14, \"87\": 1, \"102\": 1, \"5\": 2, \"3\": 2, \"122\": 3, \"19\": 2, \"114\": 1, \"117\": 1, \"86\": 1, \"129\": 2, \"125\": 1, \"11\": 1}, \"123\": {\"18\": 1, \"123\": 7, \"96\": 1, \"63\": 2, \"67\": 1, \"28\": 1, \"126\": 1, \"43\": 1, \"21\": 1}, \"8\": {\"86\": 2, \"85\": 1, \"8\": 48, \"65\": 1, \"59\": 1, \"56\": 1, \"12\": 4, \"90\": 2, \"49\": 1, \"113\": 1, \"91\": 1, \"36\": 2, \"10\": 12, \"23\": 1, \"30\": 4, \"98\": 9, \"11\": 1, \"7\": 6, \"108\": 8, \"0\": 5, \"127\": 2, \"5\": 2, \"88\": 1, \"35\": 2, \"42\": 1, \"24\": 2, \"111\": 2, \"27\": 1, \"70\": 1, \"124\": 1, \"3\": 2, \"1\": 1, \"126\": 1}, \"110\": {\"110\": 22, \"8\": 1, \"67\": 1, \"63\": 1, \"62\": 7, \"5\": 2, \"39\": 4, \"92\": 1, \"14\": 1, \"29\": 1, \"71\": 4, \"21\": 1, \"88\": 5, \"102\": 1, \"127\": 1, \"44\": 1, \"99\": 1, \"0\": 1, \"93\": 1, \"18\": 2, \"114\": 7, \"1\": 4, \"84\": 2, \"87\": 4, \"27\": 1, \"107\": 2, \"3\": 1, \"126\": 4, \"108\": 2, \"16\": 2, \"69\": 1, \"26\": 1}, \"126\": {\"126\": 98, \"125\": 1, \"106\": 1, \"113\": 3, \"90\": 1}, \"42\": {\"42\": 6, \"96\": 1, \"106\": 1, \"80\": 1, \"44\": 4, \"7\": 1, \"91\": 1, \"58\": 1, \"49\": 1, \"29\": 1, \"129\": 1, \"59\": 1, \"99\": 1, \"0\": 1, \"11\": 1, \"93\": 1, \"36\": 2, \"27\": 2}, \"96\": {\"113\": 2, \"96\": 15, \"21\": 1, \"90\": 1, \"92\": 1}, \"83\": {\"83\": 22, \"88\": 1, \"101\": 1}, \"54\": {\"54\": 15, \"24\": 1}, \"65\": {\"68\": 1, \"121\": 1, \"65\": 5, \"3\": 1, \"8\": 2, \"49\": 1, \"93\": 1}, \"30\": {\"68\": 2, \"30\": 21, \"85\": 1, \"10\": 6, \"42\": 1, \"58\": 2, \"0\": 7, \"99\": 1, \"111\": 2, \"8\": 6, \"125\": 1, \"36\": 3, \"12\": 5, \"108\": 1, \"126\": 2, \"15\": 2, \"124\": 2, \"3\": 1, \"7\": 1, \"106\": 1, \"91\": 1, \"113\": 1, \"52\": 1, \"73\": 3, \"101\": 1, \"98\": 1, \"23\": 2, \"4\": 1, \"5\": 1, \"27\": 2, \"127\": 1, \"70\": 1}, \"121\": {\"113\": 1, \"121\": 11, \"100\": 1, \"64\": 2, \"90\": 4, \"21\": 2, \"39\": 2, \"126\": 1, \"44\": 1, \"76\": 1, \"28\": 2, \"57\": 1, \"33\": 1, \"87\": 1, \"43\": 1}, \"68\": {\"45\": 1, \"68\": 10, \"12\": 2, \"72\": 1, \"10\": 1, \"119\": 1}, \"45\": {\"48\": 2, \"45\": 8, \"1\": 2, \"89\": 1, \"94\": 1, \"87\": 1, \"115\": 1}, \"48\": {\"48\": 3, \"83\": 2, \"34\": 2, \"78\": 1, \"101\": 1, \"53\": 2, \"76\": 1, \"79\": 2, \"8\": 1, \"57\": 1}, \"4\": {\"4\": 36, \"8\": 9, \"10\": 4, \"9\": 1, \"12\": 4, \"40\": 7, \"105\": 7, \"39\": 1, \"127\": 7, \"5\": 7, \"71\": 3, \"0\": 1, \"30\": 1, \"85\": 3, \"86\": 1, \"23\": 1, \"3\": 2, \"36\": 1}, \"67\": {\"67\": 15, \"21\": 1}, \"103\": {\"103\": 11, \"108\": 1, \"5\": 1, \"19\": 1, \"128\": 1, \"70\": 1}, \"74\": {\"74\": 16}, \"1\": {\"1\": 71, \"84\": 3, \"122\": 1, \"110\": 2, \"114\": 13, \"108\": 2, \"70\": 2, \"5\": 6, \"109\": 1, \"113\": 2, \"86\": 1, \"107\": 1, \"71\": 1, \"3\": 1, \"87\": 1}, \"61\": {\"61\": 12, \"18\": 1, \"57\": 1, \"76\": 1, \"39\": 1}, \"101\": {\"101\": 29, \"0\": 4, \"112\": 1, \"9\": 1, \"91\": 2, \"6\": 1, \"12\": 3, \"90\": 1, \"127\": 1, \"30\": 1, \"111\": 2, \"68\": 1, \"25\": 1, \"66\": 1, \"124\": 1, \"95\": 1, \"24\": 1}, \"93\": {\"96\": 2, \"93\": 80, \"64\": 2, \"126\": 6, \"21\": 1, \"113\": 10, \"39\": 4, \"18\": 6, \"90\": 11, \"16\": 1, \"117\": 3, \"33\": 3, \"120\": 2, \"44\": 3, \"70\": 1, \"109\": 1, \"11\": 2}, \"26\": {\"93\": 3, \"26\": 88, \"122\": 1, \"119\": 1, \"102\": 4, \"16\": 8, \"84\": 2, \"118\": 4, \"109\": 2, \"11\": 3, \"117\": 4, \"126\": 2, \"81\": 1, \"33\": 4, \"2\": 1, \"88\": 1, \"90\": 1}, \"71\": {\"71\": 53, \"128\": 1, \"113\": 1, \"127\": 3, \"1\": 1, \"3\": 1, \"105\": 1, \"108\": 1, \"23\": 1, \"5\": 5}, \"15\": {\"15\": 57, \"58\": 1, \"12\": 1, \"94\": 4, \"6\": 3, \"24\": 3, \"101\": 1, \"124\": 2, \"111\": 6, \"126\": 1, \"36\": 6, \"106\": 1, \"30\": 2, \"27\": 1, \"0\": 2, \"25\": 1, \"37\": 1, \"125\": 7, \"56\": 1, \"73\": 2, \"113\": 1}, \"55\": {\"55\": 14, \"4\": 1, \"12\": 1}, \"104\": {\"55\": 2, \"104\": 10, \"124\": 1, \"9\": 1, \"38\": 1, \"41\": 1}, \"112\": {\"112\": 10, \"3\": 1, \"85\": 1, \"42\": 1, \"86\": 1, \"27\": 1, \"129\": 1}, \"102\": {\"119\": 1, \"102\": 77, \"13\": 1, \"26\": 9, \"129\": 1, \"33\": 2, \"109\": 4, \"1\": 1, \"84\": 7, \"118\": 4, \"11\": 7, \"62\": 2, \"122\": 2, \"87\": 1, \"16\": 3}, \"117\": {\"117\": 69, \"123\": 1, \"93\": 7, \"43\": 1, \"81\": 1, \"16\": 3, \"18\": 9, \"39\": 5, \"109\": 2, \"118\": 5, \"33\": 7, \"11\": 1, \"87\": 1}, \"119\": {\"119\": 14, \"26\": 1, \"33\": 1}, \"20\": {\"20\": 6, \"43\": 1, \"125\": 1, \"61\": 1, \"49\": 1, \"13\": 1, \"29\": 1, \"123\": 1, \"119\": 1, \"57\": 1, \"89\": 1}, \"120\": {\"120\": 16, \"39\": 1, \"44\": 1, \"90\": 1, \"92\": 1}, \"39\": {\"120\": 1, \"39\": 53, \"64\": 3, \"90\": 6, \"43\": 3, \"92\": 2, \"18\": 6, \"21\": 3, \"93\": 3, \"113\": 7, \"126\": 14, \"44\": 1, \"117\": 4, \"16\": 1, \"11\": 1}, \"49\": {\"49\": 2, \"8\": 3, \"66\": 1, \"44\": 6, \"10\": 1, \"64\": 2, \"88\": 1, \"98\": 1, \"90\": 1, \"91\": 1, \"43\": 1, \"126\": 1, \"36\": 1, \"92\": 2}, \"53\": {\"53\": 19, \"114\": 1}, \"92\": {\"92\": 26, \"64\": 2, \"96\": 2, \"31\": 2}, \"3\": {\"114\": 2, \"3\": 87, \"108\": 6, \"84\": 1, \"127\": 2, \"8\": 4, \"71\": 4, \"5\": 6, \"60\": 1, \"99\": 1, \"1\": 1, \"98\": 1}, \"47\": {\"34\": 1, \"107\": 1, \"47\": 10}, \"115\": {\"115\": 7, \"62\": 1, \"110\": 1, \"99\": 1, \"14\": 2, \"8\": 1, \"129\": 1, \"122\": 1, \"45\": 1}, \"58\": {\"58\": 15, \"30\": 1}, \"29\": {\"29\": 25, \"90\": 1, \"93\": 2, \"44\": 2, \"92\": 2}, \"12\": {\"98\": 2, \"12\": 57, \"85\": 2, \"27\": 1, \"30\": 6, \"10\": 6, \"127\": 3, \"101\": 1, \"94\": 1, \"73\": 1, \"8\": 4, \"111\": 9, \"7\": 1, \"0\": 4, \"4\": 3, \"105\": 1, \"5\": 1, \"124\": 1}, \"62\": {\"62\": 86, \"115\": 1, \"69\": 8, \"11\": 2, \"82\": 2, \"107\": 2, \"102\": 5, \"26\": 1, \"14\": 5, \"114\": 1, \"126\": 1, \"8\": 1, \"84\": 1, \"87\": 1, \"90\": 1}, \"11\": {\"121\": 1, \"100\": 1, \"64\": 1, \"67\": 1, \"69\": 4, \"11\": 35, \"120\": 1, \"44\": 3, \"93\": 2, \"16\": 8, \"96\": 1, \"92\": 2, \"29\": 1, \"39\": 5, \"110\": 1, \"109\": 5, \"113\": 7, \"87\": 5, \"62\": 8, \"14\": 3, \"117\": 4, \"90\": 5, \"114\": 1, \"126\": 2, \"18\": 1, \"102\": 15, \"84\": 3, \"107\": 2, \"118\": 3, \"26\": 1, \"45\": 1, \"43\": 3, \"19\": 1, \"23\": 1, \"88\": 1, \"108\": 1}, \"72\": {\"15\": 1, \"72\": 17, \"68\": 1, \"106\": 1, \"111\": 3, \"49\": 1, \"58\": 1, \"94\": 2, \"101\": 1}, \"98\": {\"98\": 89, \"73\": 1, \"0\": 6, \"21\": 1, \"7\": 2, \"36\": 3, \"30\": 1, \"27\": 2, \"15\": 1}, \"122\": {\"62\": 1, \"11\": 1, \"122\": 12, \"1\": 7, \"44\": 3, \"19\": 2, \"90\": 2, \"107\": 1, \"92\": 3, \"5\": 1, \"102\": 1, \"118\": 2, \"39\": 3, \"14\": 2, \"29\": 1, \"21\": 1, \"84\": 1, \"113\": 2, \"16\": 1, \"64\": 2, \"129\": 3, \"88\": 1, \"80\": 1, \"117\": 1, \"3\": 1, \"96\": 1, \"40\": 1, \"23\": 1, \"33\": 1}, \"17\": {\"11\": 1, \"121\": 1, \"64\": 2, \"67\": 1, \"63\": 2, \"31\": 1, \"126\": 1, \"9\": 1, \"101\": 1, \"104\": 1, \"113\": 2, \"46\": 1, \"16\": 1}, \"94\": {\"59\": 1, \"94\": 52, \"27\": 3, \"34\": 3, \"15\": 4, \"6\": 4, \"125\": 3, \"106\": 5, \"7\": 3, \"51\": 1, \"36\": 2, \"0\": 2, \"24\": 1}, \"106\": {\"94\": 6, \"106\": 49, \"98\": 1, \"25\": 1, \"72\": 2, \"111\": 7, \"36\": 7, \"126\": 2, \"8\": 1, \"15\": 6, \"0\": 2, \"125\": 2, \"124\": 1, \"58\": 1, \"30\": 1, \"7\": 1}, \"28\": {\"28\": 13, \"64\": 1, \"88\": 1, \"44\": 1}, \"69\": {\"69\": 58, \"88\": 1, \"62\": 5, \"40\": 1, \"93\": 1, \"14\": 7, \"113\": 3, \"102\": 2, \"82\": 2, \"23\": 1, \"90\": 1, \"70\": 1, \"87\": 1}, \"125\": {\"125\": 101, \"106\": 3, \"24\": 1, \"109\": 1, \"15\": 2, \"126\": 1, \"36\": 2, \"27\": 2, \"39\": 1}, \"19\": {\"19\": 3, \"41\": 1, \"85\": 3, \"96\": 1, \"0\": 2, \"12\": 2, \"43\": 1, \"9\": 3, \"39\": 4, \"118\": 1, \"21\": 1, \"10\": 1, \"90\": 1, \"8\": 1, \"4\": 1, \"122\": 1, \"44\": 1, \"92\": 1, \"29\": 3}, \"41\": {\"41\": 5, \"101\": 2, \"51\": 1, \"10\": 1, \"108\": 1, \"42\": 1, \"85\": 1, \"83\": 1, \"70\": 1, \"9\": 1, \"128\": 1}, \"60\": {\"60\": 10, \"20\": 3, \"1\": 1, \"113\": 1, \"47\": 1, \"28\": 1, \"88\": 1, \"52\": 1, \"26\": 1, \"118\": 1, \"40\": 1, \"62\": 1, \"110\": 1, \"44\": 1, \"11\": 1, \"78\": 1, \"124\": 1}, \"70\": {\"80\": 1, \"74\": 1, \"3\": 3, \"21\": 3, \"92\": 2, \"108\": 4, \"5\": 4, \"70\": 10, \"90\": 3, \"73\": 1, \"88\": 2, \"113\": 4, \"44\": 4, \"10\": 2, \"23\": 2, \"40\": 1, \"105\": 1, \"109\": 2, \"71\": 3, \"8\": 5, \"112\": 1, \"18\": 2, \"114\": 2, \"42\": 1, \"91\": 1, \"98\": 1, \"27\": 1, \"126\": 3, \"30\": 1, \"1\": 1}, \"27\": {\"72\": 1, \"27\": 30, \"36\": 3, \"8\": 3, \"15\": 4, \"52\": 2, \"75\": 2, \"108\": 4, \"24\": 1, \"70\": 2, \"125\": 9, \"34\": 1, \"12\": 3, \"10\": 3, \"106\": 2, \"98\": 3, \"111\": 2, \"0\": 5, \"101\": 1, \"47\": 1, \"30\": 2, \"25\": 2, \"73\": 1, \"94\": 1, \"97\": 2, \"42\": 1, \"21\": 2, \"6\": 2, \"4\": 1}, \"10\": {\"72\": 1, \"68\": 1, \"10\": 25, \"64\": 1, \"49\": 1, \"120\": 2, \"103\": 1, \"108\": 4, \"99\": 2, \"73\": 2, \"1\": 2, \"106\": 1, \"21\": 2, \"101\": 3, \"70\": 5, \"30\": 2, \"44\": 2, \"39\": 2, \"23\": 1, \"27\": 2, \"93\": 7, \"7\": 3, \"18\": 1, \"98\": 5, \"127\": 2, \"3\": 2, \"87\": 2, \"110\": 2, \"4\": 1, \"109\": 1, \"94\": 1, \"126\": 6, \"124\": 2, \"90\": 2, \"8\": 3, \"12\": 2, \"92\": 1, \"113\": 1, \"111\": 7, \"2\": 1, \"114\": 1, \"0\": 2, \"36\": 1}, \"108\": {\"10\": 3, \"20\": 1, \"8\": 3, \"88\": 10, \"1\": 2, \"108\": 48, \"128\": 1, \"5\": 11, \"105\": 4, \"86\": 3, \"120\": 1, \"70\": 8, \"90\": 3, \"93\": 2, \"39\": 2, \"4\": 2, \"71\": 3, \"98\": 2, \"84\": 1, \"114\": 7, \"3\": 10, \"107\": 1, \"49\": 1, \"99\": 1, \"23\": 2, \"87\": 1, \"126\": 1, \"127\": 2, \"110\": 2, \"16\": 1, \"113\": 1}, \"9\": {\"68\": 1, \"46\": 1, \"101\": 2, \"9\": 14, \"105\": 2, \"40\": 1, \"85\": 1, \"71\": 2, \"4\": 2, \"5\": 1, \"41\": 1, \"34\": 1, \"124\": 2, \"106\": 1}, \"25\": {\"25\": 11, \"27\": 1, \"106\": 2, \"39\": 1, \"94\": 1}, \"37\": {\"37\": 13, \"34\": 1, \"21\": 1, \"36\": 1}, \"0\": {\"0\": 53, \"101\": 2, \"8\": 8, \"3\": 5, \"36\": 2, \"98\": 3, \"99\": 1, \"111\": 11, \"30\": 6, \"4\": 1, \"124\": 2, \"10\": 2, \"12\": 3, \"127\": 2, \"7\": 6, \"5\": 1, \"73\": 1, \"21\": 1, \"70\": 1, \"24\": 1, \"110\": 2, \"27\": 1, \"108\": 1}, \"66\": {\"122\": 1, \"66\": 6, \"12\": 1, \"38\": 3, \"7\": 2, \"124\": 1, \"58\": 2}, \"51\": {\"51\": 15, \"37\": 1}, \"76\": {\"45\": 1, \"76\": 5, \"90\": 1, \"116\": 2, \"31\": 1, \"48\": 1, \"22\": 2, \"89\": 1, \"44\": 1, \"70\": 1}, \"32\": {\"32\": 10, \"64\": 1, \"127\": 1, \"69\": 1, \"9\": 1, \"14\": 2, \"11\": 2, \"107\": 3, \"55\": 2, \"8\": 1, \"82\": 1, \"100\": 1, \"129\": 2, \"105\": 2, \"1\": 1, \"62\": 1}, \"88\": {\"64\": 3, \"88\": 25, \"44\": 3, \"49\": 1, \"21\": 1, \"128\": 1, \"0\": 2, \"96\": 1, \"60\": 1, \"63\": 1, \"70\": 1, \"92\": 1, \"39\": 6, \"110\": 5, \"126\": 5, \"113\": 8, \"108\": 13, \"114\": 2, \"93\": 3, \"3\": 3, \"5\": 3, \"90\": 7, \"109\": 1, \"11\": 4, \"4\": 1, \"19\": 1, \"112\": 1, \"80\": 2, \"87\": 1, \"24\": 1, \"8\": 2, \"107\": 1, \"98\": 1}, \"31\": {\"44\": 1, \"31\": 11, \"120\": 1, \"92\": 3, \"96\": 2, \"70\": 1, \"80\": 1}, \"91\": {\"91\": 12, \"7\": 2, \"42\": 1, \"85\": 1, \"24\": 2, \"124\": 1, \"30\": 2, \"27\": 1, \"34\": 1, \"111\": 1}, \"90\": {\"90\": 111, \"31\": 3, \"113\": 5, \"44\": 1, \"18\": 2, \"39\": 1, \"126\": 1, \"62\": 1, \"93\": 1}, \"13\": {\"87\": 1, \"90\": 1, \"93\": 1, \"13\": 3, \"126\": 1, \"43\": 1, \"82\": 2, \"64\": 2, \"122\": 1, \"31\": 2, \"84\": 1}, \"50\": {\"50\": 11, \"40\": 2, \"32\": 1, \"1\": 1, \"14\": 1}, \"78\": {\"50\": 2, \"21\": 1, \"96\": 1, \"82\": 1, \"31\": 2, \"129\": 2, \"92\": 1, \"109\": 1, \"67\": 1, \"90\": 1, \"114\": 1, \"44\": 1, \"34\": 1}, \"116\": {\"87\": 1, \"18\": 1, \"108\": 1, \"120\": 3, \"116\": 7, \"96\": 1, \"31\": 3, \"93\": 1, \"53\": 1, \"5\": 1, \"81\": 1, \"123\": 1, \"20\": 1, \"70\": 1, \"2\": 1, \"16\": 1, \"126\": 1, \"43\": 1}, \"5\": {\"5\": 99, \"86\": 1, \"71\": 3, \"4\": 2, \"39\": 1, \"108\": 1, \"105\": 1, \"1\": 2, \"3\": 1, \"18\": 1}, \"75\": {\"75\": 15, \"106\": 1}, \"89\": {\"89\": 17, \"69\": 2, \"14\": 2, \"62\": 1, \"100\": 1, \"114\": 1, \"82\": 1, \"115\": 1, \"116\": 1, \"107\": 1}, \"16\": {\"16\": 47, \"102\": 6, \"118\": 13, \"26\": 13, \"39\": 1, \"43\": 1, \"93\": 2, \"109\": 8, \"18\": 2, \"33\": 9, \"84\": 4, \"27\": 1, \"11\": 2, \"126\": 1, \"17\": 1, \"88\": 1, \"122\": 1, \"90\": 1, \"117\": 2}, \"38\": {\"38\": 11, \"66\": 2, \"97\": 1, \"44\": 1, \"91\": 1}, \"118\": {\"93\": 5, \"33\": 6, \"126\": 3, \"26\": 3, \"118\": 38, \"62\": 2, \"113\": 3, \"11\": 2, \"70\": 2, \"102\": 6, \"16\": 5, \"39\": 4, \"90\": 7, \"69\": 1, \"18\": 1, \"117\": 1, \"1\": 1, \"84\": 5, \"44\": 1, \"109\": 3, \"87\": 1}, \"99\": {\"17\": 1, \"99\": 23, \"70\": 1, \"23\": 1, \"125\": 1, \"110\": 1, \"11\": 1, \"60\": 1, \"129\": 1, \"1\": 1, \"108\": 2, \"19\": 1, \"107\": 1}, \"52\": {\"52\": 11, \"124\": 1, \"111\": 1, \"35\": 1, \"91\": 1, \"94\": 1}, \"111\": {\"111\": 120, \"12\": 1, \"36\": 1, \"97\": 1, \"106\": 1, \"27\": 1, \"7\": 3}, \"23\": {\"126\": 2, \"10\": 1, \"78\": 1, \"18\": 2, \"127\": 1, \"21\": 2, \"113\": 3, \"30\": 2, \"122\": 2, \"39\": 1, \"118\": 1, \"27\": 1, \"23\": 3, \"120\": 1, \"11\": 1, \"2\": 1, \"124\": 1, \"98\": 2, \"99\": 1, \"71\": 1, \"44\": 1, \"5\": 1}, \"73\": {\"73\": 28, \"111\": 4, \"7\": 1, \"0\": 2, \"6\": 1, \"8\": 2, \"97\": 1, \"30\": 1}, \"82\": {\"42\": 1, \"82\": 18, \"53\": 1, \"62\": 2, \"92\": 1, \"109\": 1, \"99\": 1, \"80\": 1, \"40\": 2}, \"40\": {\"40\": 84, \"85\": 2, \"71\": 1, \"9\": 1, \"114\": 1, \"107\": 15, \"10\": 2, \"62\": 4, \"90\": 2, \"105\": 3, \"14\": 1, \"11\": 1, \"4\": 3, \"115\": 1, \"104\": 1, \"50\": 1, \"8\": 1, \"1\": 1, \"16\": 1, \"5\": 1, \"113\": 1}, \"6\": {\"15\": 1, \"94\": 3, \"6\": 22, \"36\": 2, \"125\": 2, \"25\": 1, \"106\": 1}}, \"C_4\": {\"35\": {\"1\": 2, \"35\": 23, \"3\": 1, \"49\": 2, \"44\": 1, \"29\": 1, \"7\": 1, \"11\": 1, \"4\": 2, \"5\": 1, \"33\": 1, \"50\": 1, \"55\": 1, \"16\": 2}, \"25\": {\"25\": 102, \"53\": 8, \"54\": 1, \"57\": 2, \"45\": 2, \"50\": 6, \"51\": 3, \"29\": 2, \"21\": 6, \"32\": 1, \"46\": 1}, \"24\": {\"24\": 46, \"0\": 2, \"22\": 7, \"43\": 1}, \"48\": {\"48\": 128, \"18\": 2, \"42\": 1, \"54\": 3, \"36\": 3, \"20\": 1}, \"51\": {\"51\": 100, \"50\": 2, \"53\": 23, \"4\": 1, \"3\": 5, \"21\": 5, \"6\": 3, \"20\": 1, \"12\": 1, \"8\": 2, \"9\": 1}, \"13\": {\"13\": 119, \"56\": 1}, \"14\": {\"14\": 3, \"38\": 3, \"19\": 1, \"46\": 1, \"0\": 2, \"56\": 2, \"37\": 1, \"35\": 1, \"48\": 1, \"16\": 1}, \"32\": {\"32\": 13, \"28\": 4, \"57\": 3, \"23\": 1, \"54\": 1, \"18\": 1, \"47\": 1}, \"30\": {\"30\": 42, \"12\": 1, \"8\": 1}, \"34\": {\"34\": 20, \"42\": 1, \"6\": 1, \"39\": 1, \"8\": 1}, \"9\": {\"9\": 74, \"26\": 1, \"21\": 4, \"4\": 16, \"44\": 1, \"6\": 2, \"27\": 10, \"57\": 2, \"50\": 1, \"17\": 12, \"54\": 1, \"20\": 1, \"48\": 4, \"51\": 2, \"3\": 1, \"19\": 1, \"53\": 2, \"29\": 1}, \"1\": {\"48\": 5, \"32\": 1, \"1\": 19, \"49\": 1, \"54\": 2, \"47\": 3, \"57\": 1, \"16\": 1, \"42\": 3, \"18\": 1, \"29\": 1, \"5\": 1, \"19\": 1}, \"0\": {\"1\": 2, \"0\": 52, \"22\": 9, \"28\": 1, \"49\": 3, \"53\": 1, \"6\": 1, \"5\": 1, \"11\": 2, \"48\": 1, \"55\": 1, \"29\": 2, \"50\": 1, \"46\": 2, \"43\": 1}, \"38\": {\"38\": 38, \"56\": 1, \"2\": 1}, \"22\": {\"0\": 8, \"22\": 92, \"7\": 1, \"43\": 6, \"24\": 8, \"46\": 4, \"56\": 1, \"13\": 1, \"55\": 3, \"49\": 1, \"33\": 1, \"10\": 1, \"6\": 1}, \"40\": {\"25\": 1, \"35\": 4, \"55\": 10, \"44\": 9, \"40\": 43, \"31\": 2, \"22\": 4, \"0\": 4, \"45\": 1, \"33\": 5, \"5\": 2, \"10\": 3, \"57\": 2, \"46\": 8, \"6\": 1, \"9\": 1, \"56\": 4, \"29\": 2, \"19\": 9, \"26\": 1, \"48\": 1, \"43\": 2, \"27\": 1}, \"6\": {\"26\": 2, \"48\": 14, \"6\": 27, \"21\": 2, \"17\": 1, \"39\": 1, \"8\": 5, \"19\": 1, \"27\": 1, \"53\": 5, \"45\": 1, \"54\": 7, \"4\": 2, \"36\": 10, \"20\": 4, \"18\": 1, \"3\": 8, \"47\": 3, \"44\": 2, \"9\": 2, \"12\": 3, \"46\": 1, \"29\": 1, \"51\": 4, \"42\": 1, \"34\": 2, \"57\": 1}, \"16\": {\"16\": 76, \"52\": 6, \"23\": 8, \"6\": 1, \"46\": 1, \"15\": 2, \"18\": 2}, \"11\": {\"11\": 66, \"16\": 6, \"15\": 12, \"32\": 1, \"52\": 3, \"5\": 1, \"6\": 1, \"47\": 3, \"23\": 4, \"54\": 1, \"18\": 4, \"20\": 1, \"46\": 1}, \"20\": {\"20\": 106, \"54\": 5, \"3\": 1, \"18\": 2, \"47\": 3, \"36\": 2, \"30\": 1, \"23\": 1, \"8\": 1}, \"17\": {\"17\": 62, \"27\": 5, \"26\": 1, \"4\": 2, \"30\": 1, \"6\": 1, \"48\": 2, \"9\": 3, \"12\": 1, \"51\": 1, \"53\": 1}, \"26\": {\"26\": 11, \"9\": 3, \"17\": 2, \"27\": 1, \"28\": 2, \"8\": 1, \"48\": 1, \"4\": 3}, \"54\": {\"54\": 93, \"39\": 2, \"8\": 1, \"6\": 2, \"3\": 2, \"36\": 3, \"47\": 1, \"41\": 1, \"5\": 2, \"18\": 1}, \"55\": {\"55\": 94, \"19\": 8, \"46\": 4, \"28\": 2, \"1\": 1, \"45\": 2, \"33\": 2, \"26\": 1, \"0\": 3, \"5\": 2, \"29\": 4, \"51\": 1, \"43\": 4, \"9\": 3, \"44\": 8, \"50\": 4, \"40\": 5, \"21\": 1, \"14\": 1, \"35\": 2, \"7\": 1, \"53\": 1}, \"50\": {\"50\": 44, \"21\": 16, \"17\": 5, \"28\": 2, \"51\": 6, \"8\": 4, \"45\": 11, \"30\": 1, \"27\": 2, \"53\": 7, \"12\": 11, \"6\": 3, \"4\": 7, \"3\": 4, \"9\": 2, \"22\": 1, \"48\": 3, \"25\": 1, \"44\": 1, \"36\": 1}, \"19\": {\"44\": 18, \"19\": 90, \"50\": 2, \"28\": 1, \"26\": 1, \"48\": 4, \"9\": 5, \"5\": 1, \"4\": 3, \"0\": 1, \"57\": 1, \"3\": 3, \"55\": 4, \"53\": 1, \"40\": 1, \"33\": 1, \"1\": 2, \"6\": 1, \"29\": 2}, \"44\": {\"44\": 75, \"19\": 20, \"40\": 1, \"26\": 2, \"43\": 2, \"53\": 4, \"50\": 1, \"55\": 3, \"29\": 2, \"21\": 3, \"9\": 2, \"4\": 1, \"25\": 2, \"6\": 3, \"17\": 1}, \"47\": {\"47\": 108, \"5\": 6, \"42\": 1, \"54\": 2, \"48\": 2, \"32\": 1}, \"33\": {\"40\": 4, \"19\": 8, \"33\": 14, \"26\": 1, \"49\": 1, \"44\": 2, \"0\": 1, \"28\": 1, \"3\": 1, \"24\": 1, \"45\": 1, \"1\": 1}, \"5\": {\"39\": 3, \"5\": 54, \"34\": 1, \"18\": 5, \"6\": 1, \"47\": 13, \"43\": 1, \"36\": 3, \"9\": 1, \"23\": 6, \"53\": 1, \"54\": 4, \"44\": 1, \"3\": 1, \"11\": 1, \"28\": 1, \"41\": 3, \"48\": 2, \"46\": 2, \"52\": 2, \"15\": 2}, \"18\": {\"18\": 100, \"23\": 3, \"16\": 2, \"36\": 1, \"11\": 1, \"41\": 1}, \"21\": {\"21\": 106, \"12\": 6, \"51\": 4, \"9\": 1, \"36\": 1, \"53\": 3, \"50\": 1, \"6\": 1, \"8\": 1}, \"41\": {\"5\": 1, \"6\": 3, \"41\": 31, \"28\": 1}, \"23\": {\"23\": 119, \"18\": 5, \"47\": 2, \"52\": 1, \"5\": 1}, \"39\": {\"6\": 2, \"39\": 8, \"47\": 3, \"20\": 1, \"8\": 1, \"3\": 1, \"54\": 2, \"23\": 1, \"42\": 1}, \"37\": {\"37\": 23, \"55\": 1}, \"8\": {\"8\": 113, \"17\": 1, \"3\": 6, \"27\": 4, \"30\": 2, \"48\": 2, \"36\": 7, \"6\": 6, \"9\": 1, \"20\": 2}, \"49\": {\"49\": 17, \"19\": 1, \"35\": 1, \"1\": 1}, \"53\": {\"53\": 112, \"39\": 1, \"27\": 1, \"21\": 7, \"51\": 11, \"6\": 2, \"54\": 1, \"3\": 3, \"8\": 2}, \"31\": {\"31\": 26, \"0\": 1, \"43\": 1}, \"28\": {\"3\": 3, \"28\": 14, \"48\": 5, \"29\": 1, \"5\": 1, \"45\": 2, \"17\": 2, \"42\": 1, \"32\": 1, \"4\": 1, \"19\": 1}, \"3\": {\"53\": 7, \"3\": 50, \"39\": 1, \"20\": 5, \"45\": 1, \"51\": 2, \"54\": 5, \"50\": 1, \"8\": 6, \"47\": 3, \"48\": 9, \"6\": 8, \"36\": 16, \"42\": 3, \"57\": 1, \"34\": 1, \"28\": 3, \"17\": 1, \"23\": 1}, \"27\": {\"27\": 106, \"17\": 7, \"8\": 3, \"50\": 3, \"6\": 2, \"48\": 8, \"9\": 3, \"51\": 2, \"53\": 1, \"12\": 1, \"4\": 1, \"3\": 1}, \"46\": {\"28\": 2, \"52\": 7, \"48\": 8, \"3\": 7, \"23\": 8, \"32\": 1, \"47\": 15, \"24\": 1, \"5\": 8, \"46\": 22, \"10\": 3, \"18\": 4, \"15\": 4, \"54\": 6, \"0\": 1, \"16\": 3, \"57\": 4, \"11\": 2, \"56\": 1, \"22\": 4, \"14\": 1, \"43\": 3, \"42\": 1, \"39\": 1, \"41\": 1, \"1\": 1, \"8\": 1, \"36\": 1, \"55\": 2, \"19\": 1, \"20\": 3, \"44\": 1}, \"12\": {\"12\": 48, \"21\": 8, \"8\": 9, \"17\": 2, \"27\": 8, \"45\": 2, \"53\": 4, \"3\": 3, \"9\": 2, \"20\": 1, \"6\": 1, \"26\": 1, \"30\": 2, \"50\": 1}, \"7\": {\"7\": 22, \"46\": 1, \"35\": 1}, \"4\": {\"4\": 119, \"48\": 2, \"30\": 1, \"20\": 1, \"9\": 2, \"55\": 1, \"19\": 1, \"17\": 4, \"6\": 1}, \"42\": {\"42\": 32}, \"43\": {\"43\": 121, \"2\": 1, \"0\": 1, \"22\": 2, \"11\": 1, \"1\": 1, \"7\": 1, \"19\": 2}, \"29\": {\"4\": 9, \"19\": 5, \"29\": 45, \"5\": 5, \"36\": 4, \"48\": 14, \"57\": 10, \"9\": 8, \"53\": 3, \"44\": 5, \"47\": 2, \"17\": 5, \"28\": 2, \"16\": 1, \"3\": 1, \"25\": 1}, \"57\": {\"48\": 15, \"57\": 48, \"28\": 1, \"27\": 1, \"20\": 2, \"29\": 6, \"47\": 8, \"9\": 2, \"4\": 1, \"5\": 4, \"6\": 1, \"54\": 3, \"32\": 2, \"17\": 2, \"36\": 4}, \"52\": {\"52\": 97, \"47\": 1, \"23\": 4, \"46\": 1, \"18\": 1}, \"45\": {\"45\": 79, \"50\": 6, \"9\": 2, \"21\": 6, \"6\": 1, \"12\": 2}, \"36\": {\"36\": 89, \"47\": 1, \"48\": 1, \"17\": 1}, \"10\": {\"10\": 126}, \"15\": {\"15\": 115, \"16\": 13, \"23\": 5, \"18\": 1}, \"56\": {\"56\": 112, \"2\": 3, \"22\": 4, \"14\": 1, \"38\": 2, \"10\": 2}, \"2\": {\"2\": 34, \"14\": 1, \"22\": 1}}, \"W_4\": {\"28\": {\"28\": 14, \"17\": 1, \"79\": 1, \"95\": 1, \"13\": 1, \"69\": 1, \"91\": 1}, \"4\": {\"4\": 44, \"111\": 7, \"123\": 1, \"101\": 7, \"77\": 1, \"40\": 7, \"53\": 2, \"17\": 2, \"30\": 1, \"114\": 2, \"8\": 2, \"0\": 1, \"7\": 1, \"107\": 2, \"113\": 1, \"106\": 5, \"127\": 4, \"105\": 4, \"24\": 1, \"12\": 1, \"36\": 1, \"1\": 1, \"95\": 2, \"90\": 1, \"87\": 2, \"108\": 1}, \"72\": {\"11\": 1, \"72\": 18, \"119\": 1, \"99\": 2, \"122\": 1, \"90\": 2, \"44\": 1, \"126\": 1, \"43\": 1, \"35\": 1, \"3\": 2, \"78\": 1}, \"111\": {\"111\": 108, \"124\": 3, \"44\": 1, \"118\": 1, \"15\": 2, \"127\": 4, \"8\": 3, \"12\": 3, \"105\": 1, \"91\": 1, \"30\": 1, \"95\": 1, \"126\": 1, \"5\": 1, \"106\": 2, \"4\": 1, \"98\": 1, \"90\": 1}, \"108\": {\"90\": 13, \"43\": 4, \"50\": 1, \"88\": 2, \"129\": 2, \"60\": 1, \"113\": 4, \"11\": 9, \"108\": 19, \"39\": 1, \"99\": 1, \"126\": 9, \"94\": 1, \"125\": 1, \"5\": 5, \"109\": 3, \"93\": 2, \"44\": 2, \"70\": 1, \"118\": 1, \"84\": 1, \"8\": 1, \"110\": 2, \"16\": 1, \"33\": 1, \"27\": 1, \"102\": 1, \"24\": 1, \"7\": 1}, \"43\": {\"14\": 6, \"90\": 9, \"43\": 12, \"80\": 2, \"83\": 1, \"33\": 6, \"18\": 2, \"73\": 2, \"44\": 3, \"78\": 1, \"114\": 2, \"39\": 3, \"62\": 1, \"5\": 1, \"87\": 5, \"102\": 4, \"118\": 3, \"1\": 3, \"81\": 1, \"122\": 3, \"109\": 4, \"113\": 7, \"105\": 3, \"71\": 2, \"126\": 4, \"0\": 2, \"93\": 4, \"11\": 2, \"46\": 2, \"50\": 1, \"74\": 1, \"119\": 2, \"66\": 1, \"63\": 1, \"16\": 1, \"84\": 1, \"21\": 2, \"108\": 2, \"110\": 2, \"124\": 1, \"69\": 3, \"88\": 1, \"117\": 1}, \"96\": {\"43\": 2, \"90\": 1, \"100\": 1, \"96\": 2, \"78\": 3, \"3\": 1, \"44\": 1, \"21\": 2, \"79\": 1, \"16\": 1, \"57\": 1, \"121\": 1, \"70\": 1, \"89\": 1, \"72\": 1}, \"89\": {\"111\": 1, \"28\": 1, \"89\": 13, \"116\": 1, \"71\": 2, \"17\": 1, \"85\": 1, \"126\": 2, \"44\": 1, \"30\": 1, \"109\": 1, \"60\": 2, \"70\": 1, \"129\": 1, \"63\": 1, \"113\": 1, \"32\": 1}, \"31\": {\"31\": 11, \"108\": 1, \"28\": 1, \"93\": 1, \"98\": 1, \"40\": 1}, \"45\": {\"45\": 11, \"120\": 1, \"76\": 1, \"102\": 1, \"92\": 1, \"88\": 1}, \"2\": {\"90\": 1, \"2\": 13, \"117\": 1, \"83\": 1, \"26\": 3, \"113\": 1, \"93\": 1, \"84\": 3, \"63\": 1, \"38\": 1, \"44\": 1, \"87\": 1}, \"114\": {\"89\": 1, \"90\": 1, \"1\": 8, \"114\": 82, \"78\": 1, \"32\": 1, \"82\": 1, \"129\": 2, \"71\": 6, \"4\": 1, \"107\": 2, \"0\": 4, \"126\": 1, \"88\": 1, \"46\": 1, \"115\": 1, \"60\": 1, \"105\": 6, \"70\": 2, \"40\": 2, \"118\": 1, \"27\": 1, \"14\": 1}, \"11\": {\"43\": 5, \"96\": 1, \"123\": 1, \"11\": 36, \"118\": 5, \"87\": 6, \"39\": 4, \"69\": 1, \"128\": 2, \"102\": 10, \"108\": 1, \"109\": 6, \"33\": 6, \"88\": 2, \"44\": 1, \"84\": 5, \"5\": 4, \"110\": 4, \"114\": 1, \"10\": 2, \"90\": 8, \"122\": 4, \"1\": 4, \"126\": 2, \"93\": 3, \"113\": 3, \"0\": 1, \"16\": 1, \"107\": 1, \"26\": 1, \"81\": 1, \"83\": 1, \"117\": 1, \"27\": 1, \"14\": 1}, \"12\": {\"111\": 11, \"12\": 56, \"101\": 5, \"9\": 1, \"36\": 1, \"0\": 2, \"8\": 3, \"127\": 2, \"126\": 1, \"15\": 4, \"106\": 6, \"113\": 1, \"22\": 1, \"98\": 1, \"82\": 1, \"30\": 1, \"10\": 2, \"4\": 1}, \"14\": {\"14\": 71, \"114\": 3, \"70\": 1, \"69\": 8, \"118\": 5, \"1\": 1, \"82\": 1, \"93\": 1, \"71\": 2, \"81\": 1, \"62\": 1, \"105\": 2, \"33\": 3, \"109\": 3, \"102\": 2, \"107\": 2, \"50\": 2, \"90\": 1, \"11\": 1, \"40\": 1}, \"90\": {\"90\": 125, \"21\": 3, \"43\": 1, \"39\": 1, \"113\": 9, \"5\": 1, \"88\": 1, \"93\": 1, \"126\": 10, \"70\": 2}, \"10\": {\"123\": 1, \"54\": 2, \"94\": 6, \"97\": 3, \"80\": 2, \"10\": 23, \"51\": 1, \"124\": 3, \"7\": 2, \"47\": 3, \"110\": 1, \"87\": 1, \"3\": 1, \"75\": 2, \"88\": 4, \"27\": 1, \"90\": 5, \"36\": 7, \"125\": 14, \"60\": 2, \"44\": 2, \"108\": 1, \"24\": 8, \"114\": 1, \"18\": 1, \"109\": 1, \"70\": 5, \"126\": 1, \"11\": 2, \"38\": 1, \"25\": 1, \"93\": 2, \"127\": 2, \"122\": 1, \"39\": 2, \"43\": 1, \"15\": 5, \"0\": 1}, \"63\": {\"123\": 2, \"63\": 8, \"21\": 2, \"39\": 1, \"126\": 1, \"108\": 2}, \"85\": {\"85\": 20, \"7\": 2, \"101\": 1, \"60\": 1, \"98\": 2, \"113\": 1, \"21\": 1}, \"64\": {\"64\": 8, \"67\": 1, \"90\": 1, \"13\": 1, \"45\": 2, \"37\": 1, \"126\": 1, \"14\": 1}, \"82\": {\"11\": 1, \"4\": 1, \"107\": 4, \"82\": 9, \"13\": 1, \"55\": 2, \"129\": 1, \"40\": 3, \"114\": 2, \"105\": 1, \"17\": 2, \"71\": 2, \"101\": 1, \"1\": 2}, \"58\": {\"10\": 1, \"58\": 10, \"113\": 1, \"36\": 1, \"6\": 1, \"125\": 2}, \"3\": {\"3\": 95, \"123\": 1, \"38\": 1, \"43\": 4, \"100\": 1, \"33\": 5, \"21\": 2, \"93\": 1, \"116\": 1, \"87\": 2, \"70\": 2, \"88\": 2, \"5\": 1, \"110\": 1, \"7\": 1, \"11\": 5, \"126\": 1, \"112\": 1, \"74\": 1, \"73\": 2, \"57\": 1, \"78\": 2, \"90\": 1, \"49\": 1, \"27\": 1}, \"54\": {\"54\": 15, \"36\": 1}, \"121\": {\"121\": 11, \"123\": 1, \"39\": 1, \"90\": 5, \"93\": 2, \"61\": 2, \"92\": 1, \"78\": 1, \"3\": 2, \"20\": 1, \"122\": 2, \"43\": 1, \"21\": 2}, \"42\": {\"12\": 2, \"38\": 1, \"89\": 3, \"21\": 2, \"90\": 3, \"4\": 1, \"42\": 1, \"52\": 2, \"49\": 2, \"128\": 2, \"71\": 1, \"98\": 1, \"93\": 1, \"8\": 1, \"113\": 1, \"10\": 2, \"126\": 2}, \"98\": {\"98\": 87, \"97\": 2, \"12\": 1, \"121\": 1, \"52\": 2, \"8\": 3, \"126\": 1, \"10\": 3, \"106\": 2, \"111\": 5, \"0\": 1, \"15\": 1, \"113\": 1, \"59\": 1, \"30\": 1, \"91\": 2, \"81\": 1, \"25\": 1, \"85\": 2, \"84\": 1, \"127\": 1}, \"123\": {\"123\": 11, \"1\": 2, \"126\": 1, \"78\": 2}, \"91\": {\"91\": 16, \"8\": 3, \"30\": 1, \"77\": 2, \"9\": 2}, \"83\": {\"83\": 22, \"119\": 1, \"109\": 1, \"84\": 1, \"20\": 1, \"11\": 1, \"5\": 1}, \"99\": {\"113\": 4, \"99\": 26, \"78\": 1, \"108\": 1, \"90\": 2, \"128\": 1, \"11\": 1, \"74\": 1, \"118\": 1, \"126\": 1, \"14\": 1}, \"112\": {\"70\": 2, \"112\": 12, \"3\": 1, \"19\": 1}, \"119\": {\"113\": 1, \"119\": 9, \"30\": 2, \"21\": 1, \"72\": 1, \"108\": 1, \"112\": 1}, \"70\": {\"85\": 1, \"113\": 4, \"41\": 1, \"38\": 1, \"39\": 5, \"73\": 1, \"42\": 1, \"52\": 1, \"21\": 1, \"70\": 15, \"105\": 5, \"4\": 1, \"8\": 7, \"90\": 15, \"27\": 5, \"126\": 6, \"114\": 4, \"81\": 2, \"71\": 3, \"5\": 5, \"15\": 1, \"1\": 1, \"87\": 2, \"127\": 3, \"109\": 2, \"7\": 2, \"0\": 3, \"40\": 3, \"107\": 2, \"111\": 2, \"98\": 4, \"33\": 1, \"23\": 2, \"119\": 1, \"22\": 1, \"24\": 1, \"123\": 1, \"128\": 1, \"93\": 1, \"106\": 1, \"122\": 1, \"108\": 1, \"11\": 1, \"124\": 1, \"10\": 1}, \"20\": {\"20\": 9, \"90\": 3, \"100\": 1, \"57\": 1, \"110\": 1, \"18\": 1}, \"120\": {\"99\": 1, \"120\": 12, \"45\": 2, \"64\": 1, \"22\": 1, \"14\": 1, \"31\": 1, \"101\": 1}, \"7\": {\"27\": 6, \"7\": 74, \"91\": 2, \"111\": 3, \"0\": 5, \"49\": 1, \"36\": 1, \"127\": 2, \"10\": 4, \"70\": 3, \"101\": 6, \"43\": 2, \"98\": 3, \"88\": 4, \"126\": 1, \"87\": 1, \"60\": 1, \"85\": 1, \"113\": 1, \"93\": 1, \"105\": 1, \"12\": 1}, \"60\": {\"60\": 3, \"112\": 1, \"66\": 1, \"89\": 1, \"76\": 1, \"53\": 1, \"41\": 1, \"3\": 1, \"80\": 2, \"113\": 2, \"108\": 1, \"107\": 1, \"128\": 1, \"114\": 1, \"63\": 2, \"52\": 1, \"98\": 1, \"55\": 1, \"22\": 1, \"70\": 2, \"73\": 1, \"77\": 1, \"28\": 1, \"90\": 1, \"78\": 1, \"62\": 1}, \"113\": {\"113\": 82, \"39\": 3, \"126\": 18, \"21\": 5, \"90\": 8, \"38\": 2}, \"37\": {\"37\": 12, \"124\": 1, \"27\": 1, \"90\": 1, \"18\": 1}, \"124\": {\"37\": 1, \"60\": 1, \"17\": 2, \"104\": 2, \"89\": 1, \"124\": 55, \"111\": 8, \"71\": 1, \"106\": 3, \"4\": 2, \"27\": 2, \"101\": 6, \"7\": 1, \"105\": 1, \"15\": 2, \"127\": 3, \"12\": 2, \"0\": 2, \"8\": 1, \"107\": 1, \"10\": 2, \"41\": 2, \"94\": 1, \"95\": 2, \"103\": 1, \"126\": 1, \"70\": 1, \"114\": 2, \"87\": 1}, \"27\": {\"119\": 2, \"60\": 1, \"27\": 26, \"111\": 3, \"78\": 1, \"90\": 2, \"5\": 1, \"55\": 1, \"0\": 8, \"98\": 3, \"93\": 1, \"49\": 2, \"87\": 1, \"4\": 2, \"106\": 1, \"122\": 1, \"11\": 2, \"36\": 1, \"30\": 2, \"126\": 3, \"3\": 1, \"101\": 5, \"110\": 2, \"71\": 1, \"12\": 3, \"70\": 3, \"127\": 1, \"22\": 1, \"95\": 1, \"68\": 1, \"88\": 5, \"7\": 3, \"123\": 1, \"8\": 4, \"112\": 1, \"15\": 1, \"124\": 1, \"118\": 1}, \"86\": {\"127\": 1, \"129\": 1, \"53\": 2, \"86\": 14, \"105\": 1, \"88\": 1, \"114\": 1, \"27\": 1, \"50\": 1, \"46\": 1, \"71\": 2, \"111\": 1, \"78\": 1}, \"127\": {\"127\": 71, \"4\": 2, \"0\": 3, \"55\": 1, \"12\": 4, \"101\": 3, \"93\": 1, \"113\": 1, \"8\": 1, \"111\": 7, \"124\": 3, \"126\": 1, \"106\": 1, \"27\": 2, \"70\": 1, \"39\": 2, \"98\": 1, \"49\": 1, \"90\": 1, \"94\": 1}, \"62\": {\"122\": 3, \"14\": 5, \"113\": 3, \"102\": 4, \"32\": 1, \"110\": 2, \"62\": 19, \"109\": 2, \"118\": 2, \"43\": 1, \"16\": 4, \"33\": 2, \"69\": 3, \"126\": 2, \"93\": 1, \"73\": 1, \"80\": 1, \"21\": 2, \"90\": 1, \"44\": 1}, \"122\": {\"38\": 3, \"118\": 3, \"122\": 18, \"23\": 1, \"62\": 5, \"102\": 4, \"93\": 5, \"99\": 1, \"33\": 6, \"14\": 5, \"108\": 1, \"90\": 5, \"113\": 3, \"5\": 2, \"126\": 5, \"84\": 3, \"110\": 2, \"88\": 2, \"87\": 3, \"119\": 1, \"81\": 1, \"16\": 1, \"39\": 2, \"117\": 1, \"114\": 1}, \"51\": {\"106\": 2, \"6\": 1, \"119\": 1, \"21\": 1, \"52\": 1, \"15\": 2, \"51\": 4, \"97\": 1, \"122\": 1, \"81\": 1, \"39\": 1}, \"109\": {\"122\": 1, \"62\": 3, \"80\": 2, \"113\": 8, \"60\": 2, \"84\": 3, \"32\": 1, \"33\": 7, \"14\": 3, \"109\": 16, \"69\": 13, \"43\": 1, \"81\": 1, \"118\": 5, \"105\": 2, \"18\": 4, \"102\": 9, \"7\": 1, \"11\": 2, \"117\": 2, \"126\": 7, \"16\": 4, \"93\": 1, \"90\": 3, \"63\": 1, \"70\": 1, \"110\": 1, \"38\": 1, \"123\": 1, \"108\": 1, \"8\": 1, \"39\": 5, \"27\": 1}, \"106\": {\"106\": 61, \"10\": 4, \"39\": 1, \"103\": 1, \"12\": 6, \"30\": 3, \"0\": 2, \"34\": 2, \"15\": 6, \"111\": 9, \"27\": 1, \"90\": 1, \"127\": 4, \"101\": 2, \"113\": 2, \"129\": 1, \"29\": 1, \"78\": 1, \"95\": 1, \"126\": 1, \"4\": 1, \"87\": 1, \"36\": 1, \"88\": 1}, \"94\": {\"106\": 1, \"54\": 5, \"25\": 2, \"29\": 2, \"94\": 42, \"41\": 1, \"30\": 3, \"15\": 5, \"98\": 2, \"34\": 2, \"24\": 4, \"125\": 9, \"36\": 5, \"101\": 1, \"124\": 1, \"27\": 1, \"6\": 1, \"85\": 1}, \"38\": {\"38\": 15, \"44\": 1}, \"129\": {\"129\": 10, \"127\": 1, \"83\": 1, \"114\": 1, \"86\": 1, \"36\": 1, \"118\": 1, \"102\": 2, \"71\": 2, \"95\": 1, \"106\": 1, \"23\": 1, \"50\": 1, \"55\": 1, \"82\": 1, \"84\": 1, \"109\": 1}, \"116\": {\"42\": 1, \"116\": 10, \"3\": 3, \"11\": 1, \"102\": 1, \"76\": 1, \"96\": 1, \"73\": 1, \"89\": 1, \"57\": 2, \"43\": 1, \"115\": 1, \"67\": 1, \"60\": 1, \"72\": 2}, \"107\": {\"107\": 91, \"60\": 1, \"105\": 4, \"111\": 1, \"118\": 4, \"0\": 1, \"1\": 1, \"40\": 8, \"69\": 1, \"115\": 1, \"71\": 2, \"82\": 1, \"124\": 1, \"11\": 1}, \"30\": {\"51\": 2, \"68\": 1, \"106\": 3, \"30\": 37, \"85\": 1, \"29\": 2, \"7\": 1, \"24\": 1, \"90\": 1, \"15\": 3, \"0\": 2, \"34\": 1, \"70\": 1, \"110\": 1, \"94\": 1, \"52\": 1, \"98\": 3, \"111\": 3, \"12\": 1, \"101\": 2, \"36\": 1, \"8\": 1, \"27\": 2, \"126\": 1, \"125\": 1, \"10\": 2}, \"102\": {\"102\": 97, \"84\": 1, \"33\": 7, \"69\": 10, \"118\": 3, \"87\": 1, \"14\": 2, \"93\": 1, \"43\": 1, \"114\": 1, \"73\": 1, \"80\": 1, \"62\": 2, \"109\": 1, \"4\": 1, \"70\": 1, \"11\": 1}, \"74\": {\"119\": 1, \"117\": 1, \"63\": 1, \"74\": 10, \"48\": 2, \"5\": 1}, \"101\": {\"101\": 72, \"95\": 2, \"55\": 1, \"98\": 2, \"0\": 7, \"24\": 3, \"127\": 9, \"1\": 1, \"4\": 7, \"87\": 1, \"15\": 2, \"114\": 4, \"71\": 2, \"105\": 3, \"90\": 1, \"70\": 2, \"8\": 2, \"7\": 1, \"129\": 1, \"128\": 1, \"106\": 1, \"124\": 4, \"12\": 3}, \"117\": {\"119\": 1, \"117\": 71, \"2\": 1, \"108\": 4, \"126\": 1, \"26\": 18, \"44\": 2, \"88\": 1, \"110\": 5, \"109\": 4, \"84\": 2, \"93\": 1, \"64\": 1, \"16\": 3, \"83\": 1, \"11\": 3, \"39\": 1, \"3\": 1, \"18\": 2, \"43\": 1}, \"1\": {\"1\": 54, \"114\": 6, \"71\": 7, \"102\": 2, \"129\": 1, \"78\": 1, \"62\": 3, \"108\": 1, \"90\": 2, \"128\": 2, \"107\": 2, \"126\": 2, \"105\": 4, \"3\": 1, \"15\": 2, \"82\": 1, \"98\": 1, \"14\": 3, \"122\": 2, \"21\": 1, \"11\": 1, \"88\": 1, \"87\": 3, \"43\": 1, \"40\": 2, \"109\": 1, \"33\": 1}, \"84\": {\"119\": 2, \"84\": 81, \"113\": 1, \"122\": 5, \"109\": 1, \"62\": 1, \"110\": 4, \"16\": 9, \"33\": 2, \"90\": 2, \"3\": 1, \"93\": 1, \"5\": 1, \"69\": 2, \"26\": 2, \"117\": 3, \"102\": 2, \"2\": 1, \"43\": 2, \"126\": 2, \"11\": 1, \"1\": 2, \"118\": 1, \"14\": 1, \"88\": 2}, \"17\": {\"17\": 16, \"4\": 2, \"107\": 1, \"37\": 1}, \"6\": {\"6\": 19, \"36\": 1, \"75\": 1, \"94\": 1, \"56\": 1, \"58\": 1}, \"110\": {\"57\": 2, \"113\": 3, \"120\": 1, \"87\": 4, \"21\": 2, \"73\": 1, \"110\": 25, \"102\": 3, \"72\": 1, \"33\": 9, \"90\": 18, \"44\": 3, \"16\": 1, \"84\": 6, \"126\": 10, \"5\": 6, \"11\": 4, \"122\": 3, \"62\": 2, \"108\": 3, \"93\": 3, \"109\": 2, \"3\": 3, \"2\": 1, \"48\": 1, \"38\": 1, \"43\": 2, \"121\": 1, \"118\": 1, \"39\": 1, \"117\": 1}, \"77\": {\"77\": 10, \"15\": 1, \"98\": 1}, \"8\": {\"4\": 3, \"8\": 56, \"1\": 3, \"19\": 2, \"10\": 5, \"93\": 1, \"0\": 8, \"98\": 5, \"124\": 2, \"111\": 8, \"12\": 2, \"7\": 7, \"70\": 8, \"108\": 2, \"127\": 3, \"40\": 1, \"81\": 1, \"112\": 1, \"83\": 1, \"30\": 3, \"43\": 1, \"27\": 3, \"24\": 1, \"90\": 2, \"114\": 1, \"101\": 2}, \"73\": {\"73\": 12, \"110\": 1, \"118\": 1, \"124\": 1, \"43\": 1, \"33\": 1, \"93\": 1, \"27\": 1, \"6\": 1, \"69\": 1, \"74\": 1, \"119\": 1, \"3\": 1}, \"126\": {\"126\": 111, \"70\": 1, \"39\": 1, \"113\": 6, \"90\": 3, \"63\": 1, \"21\": 1}, \"57\": {\"57\": 16}, \"95\": {\"95\": 24, \"113\": 1, \"108\": 2, \"127\": 2, \"55\": 1, \"124\": 1, \"4\": 1}, \"103\": {\"77\": 1, \"95\": 1, \"103\": 11, \"8\": 1, \"124\": 2}, \"97\": {\"97\": 9, \"7\": 1, \"106\": 1, \"112\": 1, \"29\": 2, \"59\": 2, \"98\": 1, \"10\": 1, \"94\": 1, \"27\": 1}, \"39\": {\"39\": 39, \"26\": 2, \"113\": 11, \"117\": 3, \"38\": 1, \"70\": 2, \"21\": 8, \"93\": 4, \"44\": 6, \"90\": 5, \"126\": 6, \"99\": 1, \"81\": 2, \"80\": 2, \"108\": 4, \"109\": 1, \"18\": 1, \"110\": 2}, \"100\": {\"100\": 13, \"11\": 1, \"84\": 1, \"3\": 2, \"43\": 1, \"73\": 1, \"33\": 1}, \"40\": {\"40\": 72, \"92\": 1, \"107\": 14, \"82\": 1, \"8\": 1, \"105\": 8, \"93\": 1, \"114\": 1, \"109\": 2, \"13\": 1, \"16\": 1, \"14\": 2, \"0\": 1, \"87\": 1, \"110\": 1, \"69\": 1, \"1\": 1}, \"36\": {\"36\": 61, \"6\": 1, \"29\": 4, \"4\": 1, \"30\": 3, \"10\": 4, \"34\": 2, \"125\": 7, \"7\": 4, \"94\": 4, \"98\": 3, \"24\": 8, \"118\": 1, \"8\": 2, \"15\": 8, \"126\": 1, \"101\": 1, \"111\": 2, \"54\": 2, \"68\": 1, \"58\": 1, \"21\": 1, \"88\": 1, \"127\": 1, \"106\": 2}, \"19\": {\"129\": 1, \"5\": 1, \"80\": 1, \"113\": 1, \"105\": 3, \"86\": 2, \"39\": 2, \"107\": 1, \"88\": 1, \"19\": 2, \"128\": 1, \"55\": 1, \"0\": 1, \"41\": 1, \"71\": 1, \"126\": 2, \"38\": 1, \"115\": 1, \"90\": 1, \"108\": 1, \"127\": 1, \"81\": 1}, \"118\": {\"39\": 2, \"31\": 1, \"38\": 2, \"105\": 4, \"33\": 1, \"67\": 2, \"2\": 2, \"118\": 28, \"16\": 1, \"65\": 1, \"82\": 1, \"84\": 3, \"99\": 1, \"107\": 6, \"102\": 7, \"69\": 3, \"122\": 2, \"108\": 3, \"44\": 1, \"90\": 7, \"14\": 11, \"81\": 1, \"93\": 2, \"1\": 1, \"40\": 2, \"113\": 4, \"11\": 1, \"3\": 1, \"80\": 1, \"109\": 1, \"71\": 2, \"12\": 1, \"114\": 1, \"87\": 1, \"117\": 2, \"126\": 1, \"18\": 1}, \"56\": {\"106\": 1, \"56\": 5, \"60\": 1, \"41\": 1, \"71\": 1, \"129\": 1, \"85\": 1, \"95\": 1}, \"26\": {\"26\": 94, \"16\": 5, \"117\": 11, \"113\": 2, \"126\": 3, \"84\": 2, \"90\": 1, \"123\": 1, \"5\": 2, \"3\": 1, \"44\": 1, \"18\": 2, \"109\": 1}, \"5\": {\"5\": 123, \"108\": 2, \"93\": 2, \"122\": 1, \"90\": 1, \"70\": 1, \"113\": 1, \"44\": 1, \"26\": 1, \"126\": 1, \"18\": 1, \"110\": 1}, \"21\": {\"21\": 26, \"66\": 1, \"93\": 1, \"1\": 1, \"113\": 4, \"126\": 5, \"90\": 2}, \"22\": {\"22\": 9, \"72\": 1, \"29\": 1, \"28\": 1, \"43\": 1, \"60\": 1, \"79\": 1, \"7\": 1}, \"68\": {\"68\": 9, \"103\": 1, \"101\": 2, \"111\": 1, \"127\": 2, \"15\": 1}, \"9\": {\"91\": 1, \"68\": 1, \"23\": 2, \"9\": 20, \"30\": 1, \"51\": 1, \"15\": 1, \"8\": 1}, \"66\": {\"66\": 12, \"80\": 1, \"38\": 1, \"123\": 1, \"78\": 1}, \"87\": {\"71\": 9, \"87\": 21, \"33\": 5, \"50\": 1, \"39\": 3, \"18\": 1, \"46\": 1, \"14\": 3, \"90\": 11, \"3\": 3, \"78\": 1, \"114\": 11, \"44\": 1, \"105\": 5, \"93\": 3, \"113\": 3, \"99\": 1, \"108\": 3, \"16\": 1, \"43\": 2, \"11\": 4, \"126\": 3, \"109\": 2, \"1\": 3, \"5\": 2, \"88\": 1, \"69\": 3, \"70\": 1, \"118\": 3, \"110\": 2, \"122\": 2, \"128\": 1, \"2\": 1, \"117\": 1, \"121\": 1, \"40\": 2, \"107\": 2, \"4\": 1}, \"71\": {\"71\": 71, \"113\": 1, \"33\": 3, \"46\": 3, \"114\": 9, \"89\": 1, \"87\": 2, \"1\": 5, \"105\": 2, \"27\": 1, \"8\": 1, \"115\": 1, \"129\": 1, \"88\": 1, \"21\": 1, \"90\": 1}, \"115\": {\"107\": 2, \"17\": 1, \"40\": 1, \"73\": 2, \"115\": 6, \"83\": 1, \"114\": 1, \"32\": 1, \"43\": 1}, \"23\": {\"97\": 1, \"66\": 2, \"90\": 4, \"21\": 1, \"101\": 1, \"23\": 2, \"122\": 2, \"38\": 1, \"113\": 1, \"123\": 1}, \"33\": {\"33\": 110, \"126\": 2, \"102\": 3, \"14\": 1, \"84\": 2}, \"35\": {\"117\": 1, \"79\": 1, \"35\": 1, \"38\": 1, \"21\": 1, \"57\": 1, \"5\": 1, \"76\": 1, \"108\": 1, \"93\": 1, \"16\": 1, \"92\": 1}, \"125\": {\"94\": 2, \"125\": 105, \"75\": 2, \"15\": 5, \"10\": 2, \"90\": 1, \"24\": 4, \"36\": 6, \"108\": 1, \"6\": 1, \"3\": 1, \"126\": 1, \"113\": 1}, \"47\": {\"125\": 2, \"47\": 10}, \"79\": {\"28\": 1, \"79\": 12, \"116\": 1, \"48\": 1, \"3\": 1}, \"53\": {\"53\": 16}, \"67\": {\"113\": 3, \"90\": 2, \"46\": 1, \"39\": 1, \"67\": 4, \"23\": 1, \"126\": 3, \"107\": 1}, \"80\": {\"80\": 16}, \"105\": {\"105\": 47, \"70\": 1, \"71\": 7, \"81\": 1, \"107\": 2, \"1\": 3, \"82\": 1, \"113\": 1, \"14\": 1, \"114\": 9, \"62\": 1, \"102\": 1, \"101\": 1, \"87\": 7, \"40\": 5, \"108\": 1, \"43\": 1, \"126\": 2, \"0\": 2, \"90\": 1, \"21\": 1, \"8\": 1, \"10\": 1, \"106\": 1, \"69\": 1}, \"76\": {\"76\": 8, \"45\": 2, \"93\": 1, \"28\": 2, \"126\": 1, \"7\": 1, \"63\": 1}, \"46\": {\"46\": 14, \"71\": 1, \"4\": 1, \"69\": 1, \"114\": 2, \"32\": 1}, \"34\": {\"90\": 1, \"77\": 1, \"0\": 1, \"34\": 2, \"36\": 1, \"33\": 1, \"4\": 1, \"11\": 1, \"71\": 1, \"108\": 1, \"24\": 7, \"114\": 1, \"15\": 1, \"40\": 2, \"52\": 1, \"75\": 2, \"49\": 2, \"12\": 1, \"94\": 1, \"54\": 2, \"115\": 1}, \"32\": {\"64\": 1, \"32\": 8, \"13\": 2, \"102\": 4, \"14\": 1, \"30\": 1, \"86\": 1, \"82\": 1, \"109\": 1, \"69\": 1, \"110\": 1, \"33\": 2, \"115\": 1, \"11\": 1, \"16\": 1, \"0\": 1}, \"13\": {\"13\": 8, \"100\": 1, \"90\": 1, \"3\": 1, \"16\": 2, \"73\": 2, \"102\": 1}, \"78\": {\"60\": 1, \"80\": 1, \"78\": 6, \"88\": 1, \"93\": 1, \"27\": 3, \"44\": 3, \"0\": 1, \"108\": 1, \"8\": 1, \"113\": 3, \"128\": 1, \"63\": 2, \"38\": 1, \"9\": 1, \"19\": 1, \"90\": 2, \"126\": 1, \"72\": 1, \"81\": 1, \"117\": 1, \"87\": 1, \"114\": 1}, \"41\": {\"41\": 15, \"29\": 1}, \"69\": {\"13\": 1, \"69\": 103, \"14\": 4, \"126\": 5, \"105\": 3, \"118\": 3, \"114\": 1, \"33\": 1, \"102\": 5, \"16\": 1, \"82\": 1}, \"88\": {\"88\": 21, \"63\": 1, \"71\": 2, \"112\": 1, \"9\": 1, \"21\": 2, \"128\": 2, \"86\": 2, \"90\": 10, \"27\": 5, \"70\": 8, \"26\": 1, \"44\": 5, \"106\": 1, \"39\": 3, \"0\": 4, \"93\": 5, \"114\": 5, \"98\": 2, \"113\": 10, \"1\": 3, \"126\": 14, \"101\": 2, \"18\": 1, \"109\": 1, \"8\": 2, \"5\": 1, \"10\": 3, \"108\": 1, \"11\": 1, \"80\": 2, \"99\": 2, \"49\": 1, \"33\": 1, \"118\": 2, \"12\": 1, \"102\": 1, \"87\": 1, \"110\": 1}, \"15\": {\"6\": 1, \"77\": 1, \"51\": 1, \"15\": 52, \"29\": 2, \"58\": 1, \"52\": 1, \"10\": 5, \"106\": 5, \"27\": 1, \"111\": 6, \"125\": 7, \"127\": 1, \"8\": 4, \"24\": 10, \"93\": 1, \"36\": 3, \"12\": 5, \"126\": 2, \"98\": 6, \"75\": 2, \"30\": 3, \"41\": 1, \"85\": 1, \"94\": 4, \"21\": 1, \"113\": 1}, \"61\": {\"63\": 1, \"13\": 1, \"61\": 7, \"26\": 1, \"2\": 1, \"48\": 2, \"117\": 1, \"76\": 1, \"50\": 1}, \"0\": {\"100\": 1, \"42\": 1, \"95\": 2, \"89\": 1, \"0\": 25, \"127\": 10, \"49\": 1, \"8\": 5, \"108\": 2, \"90\": 1, \"24\": 3, \"4\": 10, \"27\": 4, \"33\": 2, \"3\": 1, \"87\": 4, \"101\": 5, \"114\": 3, \"1\": 1, \"98\": 5, \"106\": 2, \"111\": 7, \"88\": 5, \"10\": 1, \"43\": 2, \"126\": 1, \"7\": 1, \"83\": 1, \"105\": 3, \"113\": 2, \"18\": 1, \"109\": 1, \"124\": 2}, \"104\": {\"17\": 2, \"39\": 1, \"104\": 12, \"70\": 1}, \"48\": {\"48\": 6, \"73\": 3, \"3\": 1, \"121\": 1, \"79\": 1, \"61\": 1, \"22\": 1, \"125\": 1, \"5\": 1}, \"25\": {\"75\": 1, \"25\": 14, \"24\": 1}, \"75\": {\"75\": 16}, \"81\": {\"81\": 26, \"39\": 5, \"113\": 1, \"93\": 1, \"44\": 1, \"18\": 1, \"90\": 1}, \"50\": {\"50\": 13, \"46\": 1, \"32\": 2}, \"52\": {\"60\": 1, \"9\": 1, \"52\": 14, \"94\": 2, \"51\": 1, \"30\": 1}, \"16\": {\"16\": 74, \"32\": 1, \"84\": 6, \"118\": 2, \"122\": 1, \"11\": 1, \"102\": 6, \"26\": 8, \"33\": 1, \"108\": 1, \"126\": 3, \"109\": 4, \"93\": 2, \"35\": 1, \"13\": 1, \"57\": 1, \"62\": 1, \"90\": 1, \"99\": 1, \"110\": 1, \"5\": 1, \"117\": 2}, \"44\": {\"44\": 52, \"93\": 1, \"70\": 1, \"126\": 4, \"43\": 1, \"113\": 2, \"78\": 1, \"90\": 2}, \"29\": {\"29\": 26, \"21\": 1, \"30\": 1, \"10\": 3, \"90\": 1}, \"93\": {\"93\": 65, \"44\": 5, \"3\": 1, \"122\": 1, \"39\": 3, \"0\": 1, \"88\": 3, \"110\": 3, \"109\": 1, \"90\": 24, \"126\": 8, \"113\": 5, \"108\": 1, \"117\": 1, \"18\": 2}, \"18\": {\"18\": 97, \"65\": 2, \"117\": 3, \"81\": 2, \"109\": 1, \"126\": 3, \"26\": 1, \"113\": 2, \"39\": 2, \"88\": 1}, \"49\": {\"49\": 3, \"18\": 2, \"93\": 5, \"71\": 1, \"52\": 1, \"90\": 3, \"43\": 1, \"39\": 1, \"36\": 1, \"124\": 1, \"80\": 2, \"86\": 2, \"38\": 1, \"101\": 3, \"123\": 2, \"126\": 1, \"110\": 1, \"1\": 1}, \"55\": {\"68\": 1, \"55\": 7, \"111\": 1, \"0\": 2, \"95\": 3, \"49\": 2}, \"59\": {\"59\": 8, \"58\": 1, \"52\": 1, \"21\": 1, \"97\": 1}, \"128\": {\"128\": 7, \"60\": 1, \"22\": 1, \"73\": 1, \"33\": 1, \"18\": 1, \"93\": 1, \"62\": 1, \"90\": 1, \"28\": 2, \"5\": 1, \"112\": 1, \"44\": 1, \"113\": 2, \"0\": 1, \"110\": 1}, \"24\": {\"24\": 18, \"25\": 3, \"109\": 1, \"34\": 2, \"89\": 3, \"94\": 2, \"88\": 5, \"113\": 2, \"87\": 1, \"15\": 4, \"70\": 6, \"125\": 14, \"49\": 2, \"108\": 2, \"127\": 1, \"27\": 2, \"7\": 5, \"90\": 4, \"10\": 6, \"0\": 4, \"36\": 10, \"110\": 1, \"8\": 3, \"106\": 3, \"75\": 2, \"54\": 1, \"91\": 2, \"123\": 1, \"85\": 1, \"105\": 2, \"4\": 1, \"11\": 1, \"71\": 1, \"39\": 1, \"98\": 1, \"12\": 1, \"3\": 1}, \"65\": {\"65\": 10, \"109\": 2}, \"92\": {\"114\": 1, \"102\": 1, \"92\": 16, \"107\": 1, \"14\": 1, \"39\": 1, \"60\": 2, \"38\": 1, \"33\": 1, \"21\": 1, \"87\": 1, \"90\": 1}}, \"W_1\": {\"108\": {\"108\": 50, \"70\": 6, \"21\": 1, \"87\": 2, \"61\": 1, \"98\": 2, \"7\": 12, \"101\": 7, \"8\": 1, \"109\": 3, \"86\": 1, \"84\": 2, \"93\": 5, \"39\": 1, \"90\": 2, \"43\": 3, \"44\": 2, \"111\": 1, \"126\": 6, \"110\": 1, \"71\": 2, \"95\": 1, \"2\": 1, \"83\": 1, \"49\": 1, \"48\": 1, \"68\": 1, \"24\": 4, \"88\": 1, \"18\": 1, \"12\": 1}, \"40\": {\"40\": 96, \"107\": 3, \"4\": 9, \"105\": 11, \"87\": 3, \"93\": 2, \"70\": 1, \"10\": 1, \"114\": 1, \"101\": 4, \"127\": 1, \"3\": 1, \"106\": 1, \"124\": 1, \"84\": 1}, \"68\": {\"89\": 1, \"64\": 1, \"68\": 6, \"17\": 1, \"111\": 1, \"94\": 1, \"110\": 2, \"85\": 1, \"127\": 2}, \"23\": {\"64\": 2, \"85\": 3, \"53\": 1, \"56\": 1, \"96\": 1, \"124\": 1, \"88\": 1, \"9\": 1, \"111\": 1, \"0\": 2, \"3\": 2, \"12\": 1, \"66\": 2, \"68\": 1, \"76\": 2, \"125\": 1, \"36\": 1}, \"26\": {\"26\": 86, \"33\": 8, \"102\": 3, \"122\": 1, \"30\": 1, \"118\": 8, \"16\": 2, \"11\": 1, \"117\": 2, \"99\": 1, \"69\": 3, \"6\": 1, \"87\": 1, \"7\": 1, \"8\": 1}, \"64\": {\"64\": 16}, \"22\": {\"79\": 1, \"22\": 8, \"95\": 1, \"64\": 1, \"116\": 1, \"83\": 1, \"1\": 1, \"2\": 1, \"94\": 1}, \"3\": {\"64\": 1, \"3\": 68, \"109\": 5, \"94\": 2, \"7\": 2, \"90\": 3, \"15\": 1, \"18\": 4, \"39\": 1, \"125\": 1}, \"4\": {\"40\": 13, \"4\": 51, \"0\": 3, \"101\": 6, \"107\": 4, \"43\": 1, \"124\": 2, \"24\": 1, \"105\": 3, \"10\": 3, \"102\": 1, \"55\": 1, \"114\": 1, \"72\": 2, \"93\": 1, \"110\": 1, \"121\": 1, \"12\": 2, \"106\": 1, \"98\": 1, \"127\": 1}, \"70\": {\"110\": 2, \"64\": 1, \"124\": 4, \"69\": 3, \"123\": 1, \"70\": 26, \"105\": 1, \"31\": 2, \"108\": 8, \"109\": 13, \"101\": 3, \"24\": 4, \"2\": 1, \"90\": 12, \"36\": 1, \"113\": 2, \"98\": 5, \"11\": 2, \"93\": 2, \"18\": 6, \"88\": 1, \"114\": 1, \"40\": 2, \"10\": 2, \"7\": 1, \"106\": 1, \"48\": 1, \"44\": 1, \"21\": 1, \"87\": 1, \"3\": 1, \"126\": 2, \"4\": 1, \"39\": 1, \"94\": 1, \"71\": 1, \"12\": 2}, \"57\": {\"57\": 10, \"88\": 1, \"11\": 1}, \"79\": {\"79\": 9, \"57\": 1, \"120\": 1, \"70\": 1}, \"9\": {\"9\": 15, \"108\": 1, \"91\": 1, \"94\": 1, \"43\": 2, \"101\": 1, \"54\": 1, \"110\": 3, \"35\": 2, \"10\": 1, \"107\": 1, \"7\": 1, \"97\": 1, \"124\": 1}, \"89\": {\"89\": 15, \"53\": 1, \"49\": 1, \"97\": 1, \"23\": 1, \"112\": 1, \"72\": 1, \"0\": 1, \"24\": 1, \"91\": 2, \"94\": 4, \"5\": 2, \"103\": 1, \"34\": 1, \"88\": 1, \"10\": 1, \"111\": 1}, \"110\": {\"68\": 1, \"9\": 1, \"110\": 60, \"107\": 18, \"98\": 1, \"127\": 2, \"70\": 4, \"93\": 3, \"106\": 14, \"3\": 1, \"40\": 7, \"101\": 4, \"10\": 2, \"124\": 4, \"104\": 1, \"86\": 1, \"0\": 2, \"94\": 1, \"24\": 1}, \"102\": {\"102\": 82, \"57\": 1, \"119\": 1, \"26\": 2, \"33\": 9, \"50\": 1, \"62\": 2, \"1\": 3, \"122\": 1, \"18\": 1, \"69\": 9, \"84\": 1, \"8\": 1, \"11\": 2, \"19\": 1, \"36\": 1, \"43\": 2}, \"31\": {\"24\": 1, \"31\": 15}, \"58\": {\"58\": 12}, \"47\": {\"17\": 1, \"47\": 7, \"40\": 1, \"29\": 1, \"93\": 1, \"34\": 1}, \"24\": {\"52\": 2, \"103\": 2, \"97\": 3, \"109\": 1, \"78\": 1, \"98\": 9, \"24\": 33, \"34\": 1, \"86\": 2, \"27\": 1, \"71\": 3, \"3\": 4, \"106\": 1, \"18\": 1, \"108\": 6, \"94\": 3, \"70\": 3, \"25\": 1, \"5\": 1, \"88\": 4, \"75\": 1, \"53\": 1, \"10\": 1, \"21\": 1, \"12\": 1, \"125\": 1, \"15\": 1, \"111\": 3}, \"19\": {\"19\": 12, \"33\": 3, \"20\": 1, \"101\": 2, \"114\": 1, \"129\": 1, \"118\": 1, \"43\": 1, \"16\": 1, \"69\": 1, \"46\": 2, \"14\": 1, \"115\": 1}, \"11\": {\"11\": 44, \"109\": 6, \"39\": 6, \"117\": 6, \"121\": 1, \"102\": 9, \"122\": 3, \"118\": 2, \"90\": 7, \"62\": 4, \"113\": 4, \"69\": 4, \"14\": 3, \"33\": 6, \"3\": 4, \"8\": 3, \"84\": 2, \"44\": 1, \"5\": 1, \"99\": 2, \"119\": 1, \"2\": 2, \"123\": 1, \"16\": 2, \"26\": 3, \"18\": 3, \"87\": 1, \"126\": 1}, \"52\": {\"52\": 16, \"89\": 1, \"27\": 2, \"30\": 1}, \"17\": {\"17\": 5, \"129\": 1, \"43\": 1, \"68\": 1, \"9\": 1, \"0\": 2, \"103\": 2, \"72\": 1, \"4\": 1, \"107\": 1}, \"25\": {\"25\": 9, \"45\": 2, \"29\": 1, \"114\": 2, \"44\": 1, \"96\": 1}, \"69\": {\"69\": 77, \"62\": 1, \"102\": 3, \"82\": 2, \"118\": 2, \"33\": 5, \"117\": 4, \"16\": 3, \"90\": 3, \"18\": 1, \"26\": 3, \"1\": 1, \"113\": 1, \"39\": 1, \"126\": 1}, \"96\": {\"96\": 6, \"104\": 1, \"51\": 1, \"21\": 1, \"121\": 1, \"3\": 2, \"126\": 2, \"109\": 1, \"28\": 1, \"64\": 2, \"44\": 2}, \"109\": {\"109\": 74, \"113\": 3, \"70\": 2, \"18\": 5, \"90\": 22, \"3\": 3, \"126\": 1, \"88\": 1, \"43\": 1, \"11\": 2}, \"115\": {\"115\": 12}, \"83\": {\"83\": 11, \"19\": 1, \"43\": 1, \"77\": 2, \"109\": 1, \"98\": 1, \"24\": 1, \"15\": 1, \"1\": 1, \"108\": 3, \"89\": 1, \"96\": 1, \"34\": 1, \"84\": 1, \"27\": 1}, \"84\": {\"84\": 66, \"14\": 5, \"87\": 3, \"114\": 14, \"48\": 1, \"122\": 8, \"62\": 2, \"93\": 1, \"39\": 2, \"5\": 3, \"70\": 1, \"44\": 1, \"1\": 5, \"43\": 6, \"33\": 1, \"88\": 1, \"109\": 1, \"11\": 1, \"102\": 3, \"8\": 2, \"101\": 1}, \"119\": {\"119\": 13, \"65\": 1, \"95\": 1, \"57\": 1}, \"122\": {\"84\": 8, \"122\": 23, \"11\": 5, \"123\": 1, \"62\": 1, \"114\": 3, \"118\": 2, \"80\": 1, \"109\": 6, \"78\": 1, \"43\": 3, \"7\": 1, \"44\": 4, \"105\": 2, \"87\": 3, \"14\": 11, \"33\": 2, \"18\": 3, \"81\": 3, \"67\": 1, \"1\": 1, \"90\": 2, \"39\": 1}, \"99\": {\"99\": 18, \"63\": 1, \"126\": 1, \"76\": 1, \"129\": 1, \"66\": 1, \"90\": 1}, \"1\": {\"1\": 112, \"14\": 1, \"50\": 1, \"66\": 2, \"84\": 2, \"90\": 3, \"43\": 4, \"87\": 2, \"33\": 6, \"109\": 1, \"73\": 1, \"102\": 1}, \"74\": {\"74\": 12, \"62\": 3, \"14\": 1}, \"85\": {\"85\": 26, \"111\": 1, \"32\": 1, \"53\": 1, \"110\": 1, \"127\": 1, \"68\": 1}, \"127\": {\"127\": 84, \"123\": 1, \"89\": 1, \"111\": 5, \"34\": 3, \"12\": 2, \"106\": 6, \"43\": 1, \"16\": 1, \"110\": 1, \"71\": 2, \"98\": 1}, \"111\": {\"127\": 1, \"111\": 98, \"15\": 1, \"27\": 2, \"98\": 2, \"24\": 2, \"71\": 6, \"12\": 5, \"32\": 1, \"18\": 1, \"88\": 1}, \"53\": {\"53\": 19, \"98\": 1}, \"88\": {\"53\": 1, \"88\": 42, \"9\": 1, \"94\": 6, \"6\": 3, \"21\": 3, \"32\": 1, \"71\": 4, \"36\": 6, \"24\": 6, \"15\": 7, \"108\": 7, \"106\": 2, \"98\": 5, \"111\": 1, \"126\": 2, \"101\": 2, \"10\": 6, \"125\": 10, \"110\": 2, \"127\": 1, \"58\": 1, \"27\": 1, \"30\": 1, \"124\": 1, \"89\": 1, \"12\": 3, \"7\": 1, \"93\": 2, \"70\": 3}, \"65\": {\"65\": 5, \"119\": 1, \"63\": 2, \"20\": 1, \"16\": 1, \"2\": 1, \"121\": 1}, \"7\": {\"7\": 116, \"39\": 3, \"44\": 2, \"18\": 3, \"109\": 1, \"118\": 1, \"108\": 1, \"90\": 3, \"60\": 1, \"43\": 1, \"113\": 1, \"126\": 1}, \"16\": {\"16\": 70, \"118\": 4, \"117\": 16, \"11\": 1, \"69\": 8, \"90\": 3, \"113\": 1, \"26\": 1, \"102\": 1, \"87\": 2, \"82\": 1}, \"128\": {\"129\": 1, \"128\": 9, \"126\": 1, \"76\": 1, \"125\": 1, \"122\": 1, \"86\": 1, \"87\": 1, \"44\": 1, \"10\": 3, \"93\": 1, \"3\": 1, \"5\": 1, \"39\": 1}, \"34\": {\"114\": 2, \"41\": 1, \"56\": 1, \"103\": 1, \"43\": 1, \"34\": 4, \"0\": 1, \"94\": 1, \"15\": 2, \"7\": 1, \"116\": 1, \"24\": 1, \"117\": 1, \"6\": 1, \"28\": 1, \"108\": 1, \"126\": 1, \"37\": 1, \"22\": 1, \"54\": 1, \"29\": 1, \"52\": 2, \"87\": 1, \"53\": 1, \"120\": 1, \"71\": 1}, \"129\": {\"114\": 1, \"129\": 7, \"81\": 1, \"14\": 1, \"105\": 1, \"118\": 1, \"3\": 1, \"43\": 1, \"126\": 1, \"26\": 1, \"84\": 2, \"39\": 1, \"2\": 1, \"62\": 1, \"63\": 2, \"87\": 2, \"1\": 2, \"4\": 1}, \"43\": {\"114\": 16, \"129\": 1, \"21\": 1, \"33\": 4, \"63\": 1, \"65\": 1, \"45\": 2, \"14\": 3, \"3\": 3, \"121\": 2, \"1\": 3, \"105\": 3, \"43\": 26, \"102\": 4, \"122\": 1, \"99\": 1, \"78\": 1, \"70\": 4, \"11\": 5, \"39\": 1, \"126\": 3, \"2\": 1, \"87\": 7, \"109\": 7, \"8\": 3, \"101\": 1, \"16\": 1, \"90\": 3, \"84\": 5, \"5\": 1, \"117\": 2, \"50\": 1, \"86\": 1, \"82\": 1, \"26\": 2, \"44\": 1, \"7\": 1, \"62\": 1, \"113\": 1, \"18\": 2}, \"92\": {\"92\": 26, \"15\": 1, \"94\": 1}, \"28\": {\"43\": 1, \"92\": 1, \"28\": 13, \"104\": 1, \"126\": 1, \"70\": 1, \"44\": 1, \"71\": 1}, \"27\": {\"41\": 2, \"27\": 39, \"49\": 2, \"75\": 1, \"23\": 1, \"30\": 5, \"89\": 1, \"51\": 2, \"71\": 2, \"12\": 4, \"24\": 8, \"15\": 5, \"36\": 2, \"127\": 2, \"88\": 5, \"98\": 1, \"108\": 2, \"97\": 1, \"125\": 2, \"94\": 2, \"118\": 2, \"10\": 1}, \"114\": {\"114\": 103, \"84\": 10, \"90\": 1, \"87\": 2, \"105\": 1, \"43\": 2, \"5\": 2, \"14\": 1, \"10\": 1, \"8\": 1}, \"73\": {\"129\": 1, \"73\": 18, \"87\": 1}, \"0\": {\"0\": 36, \"41\": 2, \"103\": 1, \"23\": 1, \"75\": 1, \"30\": 2, \"101\": 3, \"32\": 1, \"105\": 1, \"127\": 5, \"111\": 2, \"110\": 4, \"4\": 4, \"107\": 2, \"106\": 7, \"71\": 1, \"12\": 3, \"40\": 1, \"5\": 1, \"91\": 1, \"93\": 1, \"88\": 1, \"98\": 2, \"10\": 1}, \"104\": {\"43\": 2, \"99\": 1, \"104\": 10, \"126\": 1, \"109\": 1, \"90\": 1}, \"118\": {\"118\": 38, \"33\": 3, \"42\": 1, \"2\": 1, \"122\": 3, \"109\": 2, \"69\": 8, \"129\": 1, \"102\": 2, \"95\": 2, \"16\": 4, \"26\": 6, \"11\": 2, \"82\": 1, \"18\": 1, \"117\": 6, \"13\": 1, \"39\": 1, \"90\": 1}, \"41\": {\"104\": 2, \"41\": 12, \"9\": 2}, \"91\": {\"53\": 1, \"91\": 18, \"88\": 1, \"75\": 1, \"89\": 2, \"27\": 1, \"49\": 1, \"111\": 1, \"24\": 1, \"52\": 1}, \"124\": {\"124\": 46, \"46\": 2, \"103\": 1, \"90\": 2, \"91\": 1, \"108\": 1, \"107\": 1, \"85\": 1, \"80\": 1, \"0\": 2, \"87\": 3, \"29\": 2, \"4\": 3, \"12\": 4, \"30\": 1, \"27\": 1, \"5\": 6, \"106\": 2, \"40\": 8, \"98\": 2, \"127\": 1, \"93\": 2, \"10\": 3, \"71\": 2, \"43\": 2, \"101\": 7, \"88\": 3, \"11\": 1, \"110\": 1, \"9\": 1, \"81\": 1, \"89\": 1, \"97\": 1, \"105\": 3, \"114\": 2, \"70\": 1}, \"81\": {\"81\": 24, \"114\": 2, \"55\": 1, \"4\": 1}, \"63\": {\"99\": 3, \"63\": 11, \"42\": 1, \"90\": 1}, \"76\": {\"76\": 13, \"18\": 1, \"109\": 2}, \"10\": {\"9\": 1, \"51\": 1, \"3\": 1, \"10\": 20, \"8\": 3, \"21\": 2, \"0\": 6, \"39\": 1, \"108\": 5, \"12\": 7, \"106\": 6, \"107\": 1, \"4\": 1, \"93\": 3, \"43\": 3, \"124\": 1, \"126\": 5, \"109\": 2, \"111\": 2, \"127\": 1, \"98\": 2, \"102\": 2, \"44\": 2, \"110\": 7, \"71\": 3, \"87\": 2, \"11\": 1, \"70\": 5, \"15\": 1, \"101\": 2, \"18\": 1, \"7\": 1, \"17\": 1, \"103\": 1, \"42\": 1, \"86\": 1, \"72\": 1, \"96\": 1, \"32\": 2, \"75\": 1, \"78\": 1, \"122\": 2, \"128\": 1, \"48\": 1, \"85\": 1, \"59\": 1, \"90\": 1, \"27\": 1, \"84\": 1}, \"51\": {\"51\": 11, \"6\": 1, \"88\": 1, \"15\": 1, \"90\": 1, \"59\": 1}, \"82\": {\"82\": 28, \"33\": 2, \"102\": 2, \"122\": 3, \"1\": 1}, \"56\": {\"56\": 11, \"92\": 1}, \"30\": {\"30\": 21, \"56\": 1, \"36\": 3, \"88\": 5, \"98\": 4, \"94\": 3, \"6\": 1, \"110\": 1, \"12\": 2, \"71\": 3, \"91\": 1, \"125\": 3, \"89\": 1, \"15\": 1, \"24\": 1, \"70\": 1}, \"21\": {\"96\": 2, \"21\": 4, \"48\": 1, \"123\": 1, \"88\": 1, \"109\": 3, \"87\": 1, \"90\": 7, \"113\": 1, \"122\": 2, \"18\": 6, \"66\": 2, \"1\": 1, \"39\": 1, \"3\": 2, \"49\": 1, \"104\": 1, \"6\": 1, \"70\": 1, \"8\": 1}, \"46\": {\"110\": 1, \"19\": 1, \"105\": 1, \"101\": 1, \"40\": 3, \"46\": 2, \"6\": 1, \"38\": 1, \"94\": 1}, \"33\": {\"33\": 126, \"122\": 1, \"69\": 3, \"102\": 4, \"1\": 1, \"82\": 1, \"117\": 1, \"11\": 1}, \"101\": {\"101\": 88, \"55\": 1, \"41\": 1, \"0\": 1, \"72\": 6, \"91\": 1, \"108\": 1, \"106\": 7, \"3\": 1, \"107\": 1, \"44\": 1, \"124\": 1, \"110\": 2, \"40\": 1, \"71\": 1, \"10\": 3, \"84\": 1, \"88\": 2, \"87\": 1, \"93\": 1, \"11\": 1, \"12\": 1}, \"105\": {\"105\": 62, \"48\": 1, \"116\": 1, \"107\": 2, \"36\": 1, \"40\": 8, \"10\": 1, \"5\": 2, \"4\": 2, \"114\": 2, \"84\": 2}, \"50\": {\"50\": 8, \"82\": 1, \"1\": 1, \"102\": 3, \"45\": 1, \"113\": 1, \"33\": 1}, \"116\": {\"120\": 1, \"3\": 2, \"78\": 1, \"116\": 13, \"122\": 1, \"123\": 1, \"20\": 1, \"121\": 1, \"39\": 3, \"109\": 1, \"33\": 1, \"62\": 1, \"99\": 1, \"100\": 1, \"114\": 1, \"87\": 1, \"124\": 1}, \"77\": {\"77\": 13, \"86\": 1, \"83\": 1, \"94\": 1}, \"75\": {\"75\": 11, \"58\": 1, \"42\": 1, \"111\": 2, \"12\": 1}, \"95\": {\"95\": 29, \"13\": 1, \"33\": 1, \"69\": 1, \"45\": 1, \"119\": 1, \"115\": 1, \"82\": 1}, \"120\": {\"50\": 1, \"120\": 11, \"82\": 1, \"62\": 1, \"116\": 1, \"64\": 1, \"34\": 2, \"26\": 1, \"8\": 1}, \"18\": {\"18\": 94, \"90\": 10, \"109\": 3, \"21\": 1}, \"14\": {\"50\": 2, \"14\": 71, \"84\": 5, \"90\": 1, \"1\": 1, \"33\": 2, \"5\": 1, \"122\": 2, \"8\": 1, \"62\": 3, \"43\": 1, \"102\": 1, \"114\": 4, \"107\": 1}, \"44\": {\"44\": 67, \"66\": 1, \"42\": 1, \"18\": 1, \"90\": 4, \"109\": 2}, \"98\": {\"53\": 3, \"98\": 69, \"22\": 1, \"91\": 1, \"59\": 1, \"88\": 1, \"15\": 2, \"27\": 2, \"24\": 6, \"12\": 3, \"71\": 3, \"111\": 1, \"128\": 1, \"94\": 1, \"127\": 1}, \"121\": {\"121\": 13, \"64\": 2, \"50\": 1, \"90\": 6, \"20\": 1, \"42\": 1, \"119\": 1, \"70\": 2, \"18\": 1, \"44\": 2, \"33\": 1, \"109\": 1}, \"113\": {\"113\": 83, \"123\": 1, \"126\": 1, \"18\": 8, \"39\": 2, \"109\": 3, \"90\": 4, \"2\": 2, \"63\": 1, \"3\": 2, \"11\": 1}, \"103\": {\"103\": 7, \"0\": 1, \"17\": 1, \"40\": 1, \"9\": 1, \"24\": 1, \"10\": 1, \"41\": 1, \"60\": 1, \"124\": 1}, \"62\": {\"62\": 91, \"44\": 2, \"102\": 7, \"82\": 1, \"14\": 5, \"66\": 1, \"11\": 1, \"8\": 1, \"114\": 3, \"122\": 1, \"18\": 2, \"84\": 3, \"33\": 2}, \"32\": {\"32\": 22, \"111\": 1, \"40\": 1, \"97\": 1, \"54\": 1, \"0\": 2, \"4\": 1, \"12\": 1, \"85\": 2}, \"71\": {\"71\": 72, \"88\": 7, \"127\": 6, \"24\": 2, \"12\": 4, \"94\": 4, \"44\": 1, \"18\": 1, \"15\": 3, \"101\": 2, \"115\": 1, \"30\": 4, \"111\": 1}, \"94\": {\"71\": 4, \"88\": 6, \"94\": 43, \"89\": 2, \"34\": 1, \"15\": 4, \"98\": 6, \"125\": 6, \"24\": 2, \"36\": 3, \"16\": 1, \"51\": 2, \"112\": 2, \"27\": 4, \"85\": 1, \"111\": 1, \"30\": 2, \"18\": 2}, \"49\": {\"93\": 1, \"32\": 1, \"86\": 3, \"8\": 1, \"49\": 5, \"42\": 1, \"128\": 1, \"108\": 1, \"111\": 1, \"98\": 1, \"6\": 1, \"5\": 1, \"31\": 1, \"101\": 1}, \"12\": {\"12\": 56, \"86\": 1, \"3\": 1, \"59\": 1, \"4\": 1, \"110\": 3, \"127\": 8, \"94\": 2, \"106\": 5, \"98\": 3, \"27\": 4, \"101\": 6, \"109\": 1, \"111\": 4, \"52\": 1, \"90\": 2, \"0\": 1, \"21\": 1, \"30\": 1, \"88\": 2}, \"90\": {\"90\": 108, \"64\": 2, \"126\": 1, \"109\": 11, \"113\": 1, \"18\": 1}, \"93\": {\"82\": 1, \"40\": 2, \"93\": 18, \"9\": 1, \"105\": 4, \"103\": 1, \"35\": 2, \"84\": 3, \"4\": 2, \"101\": 7, \"107\": 12, \"72\": 2, \"106\": 11, \"43\": 2, \"1\": 3, \"110\": 6, \"44\": 3, \"7\": 1, \"10\": 2, \"108\": 6, \"12\": 1, \"5\": 1, \"70\": 3, \"87\": 5, \"126\": 5, \"24\": 2, \"109\": 4, \"124\": 2, \"8\": 3, \"61\": 1, \"66\": 1, \"2\": 1, \"127\": 1, \"23\": 1, \"114\": 1, \"98\": 1, \"90\": 2}, \"13\": {\"13\": 10, \"61\": 2, \"102\": 1, \"119\": 1, \"118\": 2}, \"67\": {\"94\": 1, \"67\": 13, \"26\": 2}, \"20\": {\"20\": 11, \"63\": 1, \"39\": 1, \"109\": 1, \"66\": 1, \"65\": 1}, \"2\": {\"119\": 1, \"2\": 16, \"42\": 1, \"118\": 1, \"115\": 1, \"82\": 1, \"113\": 1, \"69\": 1, \"126\": 2, \"122\": 1, \"129\": 2, \"100\": 1, \"66\": 1, \"108\": 1, \"11\": 1}, \"5\": {\"5\": 78, \"114\": 4, \"36\": 1, \"10\": 1, \"21\": 1, \"129\": 1, \"87\": 1, \"84\": 1}, \"54\": {\"89\": 1, \"54\": 10, \"0\": 1, \"9\": 1, \"104\": 1, \"111\": 1, \"56\": 1}, \"37\": {\"37\": 16}, \"38\": {\"38\": 13, \"108\": 1, \"19\": 1, \"12\": 1}, \"86\": {\"4\": 1, \"49\": 3, \"8\": 2, \"77\": 1, \"70\": 3, \"41\": 2, \"86\": 14, \"128\": 1, \"108\": 2, \"109\": 1, \"2\": 1, \"101\": 1, \"55\": 1, \"22\": 1, \"27\": 1, \"0\": 1}, \"55\": {\"55\": 9, \"101\": 1, \"0\": 1, \"4\": 1}, \"97\": {\"97\": 9, \"24\": 3, \"89\": 1, \"78\": 1, \"83\": 1, \"76\": 1, \"30\": 1, \"71\": 1, \"86\": 1, \"10\": 1}, \"29\": {\"29\": 28}, \"48\": {\"63\": 1, \"48\": 9, \"126\": 2}, \"60\": {\"60\": 4, \"128\": 1, \"39\": 1, \"18\": 2, \"34\": 2, \"109\": 2, \"64\": 2, \"115\": 2}, \"36\": {\"27\": 2, \"36\": 82, \"88\": 6, \"15\": 5, \"30\": 4, \"127\": 1, \"90\": 1, \"71\": 3, \"111\": 3, \"125\": 6, \"94\": 4, \"37\": 2, \"21\": 1, \"113\": 1, \"98\": 1}, \"42\": {\"52\": 2, \"66\": 1, \"91\": 2, \"89\": 1, \"49\": 2, \"59\": 1, \"118\": 1, \"42\": 3, \"109\": 3, \"71\": 1, \"111\": 1, \"126\": 1, \"98\": 1, \"54\": 1, \"29\": 1, \"18\": 2, \"76\": 2, \"124\": 1, \"16\": 1}, \"66\": {\"66\": 16}, \"126\": {\"126\": 54, \"7\": 6, \"39\": 4, \"78\": 2, \"99\": 2, \"70\": 4, \"90\": 7, \"43\": 4, \"109\": 8, \"1\": 7, \"87\": 1, \"3\": 3, \"18\": 8, \"44\": 3, \"93\": 4, \"113\": 2, \"11\": 4, \"10\": 1, \"84\": 1, \"122\": 2, \"108\": 1}, \"39\": {\"13\": 1, \"76\": 1, \"39\": 36, \"123\": 2, \"126\": 3, \"90\": 10, \"117\": 6, \"99\": 2, \"121\": 1, \"66\": 2, \"11\": 7, \"109\": 5, \"18\": 9, \"113\": 7, \"3\": 4, \"96\": 1, \"28\": 1, \"16\": 2, \"2\": 1, \"7\": 2, \"69\": 1}, \"107\": {\"107\": 86, \"124\": 1, \"40\": 9, \"0\": 2, \"72\": 1, \"101\": 3, \"110\": 5, \"105\": 3, \"106\": 7, \"18\": 1, \"93\": 1, \"17\": 2, \"4\": 2, \"111\": 1}, \"59\": {\"88\": 2, \"59\": 6, \"32\": 2, \"118\": 1, \"129\": 1}, \"117\": {\"117\": 99, \"20\": 1, \"82\": 1, \"69\": 4, \"26\": 3, \"16\": 15, \"11\": 6, \"8\": 2, \"33\": 2, \"102\": 1, \"118\": 2, \"39\": 2}, \"6\": {\"6\": 16, \"92\": 2, \"88\": 3, \"125\": 2, \"111\": 3, \"30\": 2, \"36\": 1, \"71\": 1, \"96\": 1, \"112\": 1}, \"123\": {\"123\": 15, \"113\": 1}, \"8\": {\"8\": 52, \"80\": 1, \"122\": 5, \"43\": 6, \"77\": 1, \"121\": 1, \"116\": 1, \"109\": 2, \"4\": 2, \"11\": 3, \"62\": 1, \"118\": 1, \"105\": 1, \"93\": 3, \"114\": 5, \"88\": 2, \"84\": 6, \"70\": 2, \"90\": 2, \"44\": 3, \"113\": 1, \"108\": 1, \"126\": 3, \"40\": 2, \"18\": 1, \"10\": 3, \"60\": 1, \"48\": 1, \"3\": 1, \"106\": 1, \"14\": 3, \"7\": 3, \"107\": 1, \"102\": 2}, \"112\": {\"112\": 9, \"89\": 1, \"71\": 1, \"36\": 1, \"56\": 1, \"68\": 1, \"32\": 1, \"27\": 1}, \"80\": {\"81\": 1, \"14\": 1, \"80\": 11, \"126\": 1, \"72\": 1, \"122\": 1}, \"125\": {\"125\": 109, \"36\": 16, \"15\": 2, \"88\": 4, \"52\": 1, \"94\": 2, \"27\": 2}, \"61\": {\"64\": 1, \"90\": 1, \"61\": 7, \"96\": 1, \"28\": 1, \"109\": 1}, \"45\": {\"90\": 2, \"67\": 1, \"115\": 1, \"33\": 1, \"3\": 1, \"45\": 1, \"14\": 2, \"114\": 1, \"64\": 2}, \"72\": {\"105\": 1, \"72\": 21, \"101\": 2, \"0\": 1, \"40\": 2, \"55\": 2, \"4\": 3}, \"87\": {\"33\": 1, \"93\": 3, \"126\": 2, \"114\": 7, \"87\": 29, \"78\": 2, \"110\": 3, \"122\": 5, \"109\": 6, \"39\": 1, \"43\": 3, \"2\": 2, \"105\": 8, \"72\": 3, \"1\": 4, \"84\": 2, \"5\": 4, \"90\": 5, \"107\": 2, \"3\": 1, \"104\": 1, \"19\": 1, \"7\": 1, \"113\": 1, \"40\": 1, \"44\": 2, \"16\": 2, \"128\": 1, \"62\": 2, \"8\": 1, \"18\": 1, \"106\": 1}, \"106\": {\"0\": 2, \"30\": 2, \"106\": 79, \"32\": 1, \"107\": 5, \"101\": 4, \"110\": 7, \"24\": 1, \"12\": 5, \"10\": 2, \"124\": 3, \"105\": 2, \"4\": 2, \"111\": 3, \"5\": 1, \"98\": 2, \"127\": 1, \"88\": 1, \"113\": 1}, \"35\": {\"30\": 1, \"27\": 1, \"35\": 4, \"83\": 1, \"0\": 1, \"6\": 2, \"41\": 1, \"101\": 1}, \"78\": {\"123\": 2, \"113\": 1, \"67\": 1, \"78\": 2, \"24\": 1, \"70\": 1, \"84\": 1, \"64\": 1, \"77\": 1, \"39\": 1, \"102\": 1, \"90\": 3}, \"15\": {\"92\": 1, \"15\": 48, \"36\": 7, \"97\": 1, \"27\": 2, \"21\": 1, \"24\": 1, \"112\": 1, \"127\": 2, \"71\": 7, \"6\": 1, \"30\": 3, \"125\": 7, \"94\": 5, \"18\": 3, \"88\": 3, \"98\": 4, \"10\": 2, \"12\": 1, \"111\": 3, \"70\": 1}, \"100\": {\"100\": 11, \"117\": 1, \"11\": 1, \"109\": 1, \"129\": 1, \"82\": 1}}, \"C_5\": {\"47\": {\"42\": 2, \"47\": 82, \"57\": 7, \"6\": 1, \"1\": 3, \"48\": 1, \"34\": 1, \"39\": 1, \"54\": 1, \"53\": 1}, \"53\": {\"53\": 129, \"34\": 2, \"8\": 6, \"51\": 6, \"27\": 1, \"1\": 1, \"45\": 1, \"32\": 1, \"6\": 2, \"18\": 1}, \"29\": {\"29\": 75, \"56\": 2, \"24\": 1, \"44\": 21, \"46\": 4, \"50\": 1, \"55\": 1, \"0\": 4, \"5\": 3, \"36\": 3, \"15\": 1, \"11\": 1, \"3\": 4, \"40\": 3, \"19\": 1, \"51\": 1}, \"52\": {\"52\": 112, \"46\": 6, \"54\": 1, \"18\": 2, \"47\": 1, \"16\": 3, \"23\": 5}, \"55\": {\"6\": 13, \"55\": 86, \"33\": 1, \"12\": 3, \"27\": 2, \"19\": 9, \"7\": 5, \"53\": 7, \"45\": 6, \"4\": 5, \"9\": 4, \"15\": 1, \"41\": 1, \"48\": 1}, \"17\": {\"17\": 103, \"48\": 4, \"1\": 3, \"30\": 4, \"9\": 1, \"8\": 1}, \"42\": {\"42\": 35, \"57\": 2, \"39\": 1, \"46\": 2}, \"33\": {\"19\": 3, \"29\": 1, \"34\": 3, \"33\": 15, \"25\": 1, \"6\": 2, \"41\": 1, \"27\": 2, \"3\": 1, \"50\": 1, \"32\": 1, \"28\": 1}, \"11\": {\"52\": 9, \"11\": 93, \"46\": 9, \"16\": 11, \"47\": 2, \"15\": 11, \"3\": 1, \"57\": 2, \"54\": 3, \"18\": 2, \"23\": 4, \"20\": 1}, \"19\": {\"1\": 4, \"19\": 82, \"48\": 4, \"9\": 19, \"33\": 1, \"32\": 1, \"5\": 1, \"27\": 2, \"57\": 1, \"54\": 1, \"43\": 1, \"11\": 1}, \"1\": {\"1\": 125, \"48\": 11, \"17\": 3, \"8\": 3, \"54\": 2}, \"44\": {\"44\": 123, \"5\": 3, \"2\": 1, \"29\": 5, \"43\": 2, \"16\": 1, \"19\": 1, \"4\": 1, \"14\": 1, \"36\": 3, \"24\": 1}, \"49\": {\"49\": 31, \"3\": 3, \"24\": 1, \"29\": 1}, \"4\": {\"4\": 37, \"45\": 15, \"38\": 2, \"9\": 2, \"34\": 1, \"53\": 12, \"12\": 9, \"29\": 1, \"55\": 5, \"5\": 4, \"50\": 4, \"30\": 1, \"19\": 1, \"26\": 1, \"39\": 2, \"7\": 1, \"14\": 1, \"25\": 1}, \"6\": {\"17\": 6, \"53\": 8, \"6\": 37, \"8\": 4, \"1\": 7, \"26\": 3, \"30\": 13, \"20\": 3, \"7\": 2, \"4\": 4, \"45\": 4, \"48\": 9, \"9\": 3, \"57\": 1, \"51\": 3, \"55\": 4, \"41\": 1, \"32\": 1, \"34\": 1, \"50\": 2}, \"39\": {\"53\": 1, \"39\": 15, \"1\": 1, \"6\": 1, \"47\": 2}, \"50\": {\"21\": 9, \"45\": 9, \"50\": 40, \"38\": 1, \"48\": 2, \"12\": 6, \"41\": 2, \"33\": 1, \"26\": 2, \"32\": 3, \"34\": 1, \"4\": 5, \"7\": 1, \"55\": 14, \"8\": 1, \"53\": 14, \"6\": 4, \"15\": 1, \"25\": 3, \"27\": 11, \"9\": 10, \"1\": 2, \"11\": 1, \"51\": 1, \"3\": 1, \"19\": 2, \"5\": 1}, \"56\": {\"56\": 108, \"35\": 1, \"24\": 7, \"13\": 2, \"10\": 1, \"29\": 1, \"31\": 1, \"49\": 2, \"40\": 4, \"0\": 3}, \"25\": {\"25\": 119, \"34\": 1, \"50\": 3, \"4\": 5, \"3\": 1, \"12\": 2, \"53\": 4, \"21\": 3, \"6\": 1, \"55\": 1, \"45\": 3, \"9\": 1}, \"28\": {\"28\": 11, \"33\": 2, \"5\": 2, \"3\": 2, \"55\": 1, \"34\": 2, \"47\": 2, \"41\": 4, \"39\": 1, \"8\": 2, \"36\": 1, \"50\": 1, \"19\": 1}, \"35\": {\"35\": 35, \"13\": 1}, \"24\": {\"24\": 77, \"35\": 2, \"3\": 1}, \"21\": {\"45\": 4, \"21\": 106, \"51\": 2, \"9\": 3, \"53\": 6, \"50\": 6, \"6\": 3, \"55\": 1, \"28\": 1}, \"45\": {\"45\": 68, \"26\": 2, \"12\": 20, \"38\": 3, \"7\": 1, \"34\": 1, \"48\": 1, \"55\": 4, \"50\": 4, \"8\": 1, \"4\": 6, \"53\": 4, \"9\": 2, \"30\": 1, \"6\": 5, \"51\": 1}, \"16\": {\"16\": 122, \"46\": 6, \"54\": 6, \"52\": 4, \"23\": 2, \"57\": 2, \"18\": 1, \"11\": 1}, \"37\": {\"37\": 24}, \"57\": {\"57\": 124, \"34\": 1, \"47\": 3, \"46\": 1, \"54\": 1, \"42\": 1, \"55\": 1}, \"34\": {\"34\": 29, \"1\": 2, \"14\": 1, \"47\": 2, \"42\": 2}, \"38\": {\"38\": 32}, \"48\": {\"48\": 111, \"53\": 1, \"1\": 11, \"9\": 3, \"6\": 1, \"27\": 1, \"30\": 1, \"17\": 1}, \"26\": {\"38\": 1, \"26\": 23}, \"9\": {\"9\": 87, \"48\": 10, \"17\": 2, \"27\": 28, \"45\": 3, \"55\": 3, \"1\": 6, \"30\": 4, \"53\": 1, \"25\": 2, \"6\": 1, \"14\": 1, \"3\": 1, \"12\": 1, \"21\": 1, \"11\": 1}, \"18\": {\"23\": 4, \"18\": 58, \"1\": 1, \"54\": 1}, \"3\": {\"48\": 6, \"3\": 34, \"15\": 3, \"49\": 3, \"17\": 2, \"57\": 4, \"28\": 1, \"9\": 2, \"11\": 6, \"19\": 3, \"5\": 1, \"33\": 3, \"23\": 3, \"56\": 1, \"6\": 1, \"30\": 2, \"14\": 1, \"1\": 3, \"36\": 3, \"29\": 2, \"27\": 1, \"46\": 3, \"47\": 6, \"24\": 2, \"0\": 1, \"8\": 1, \"54\": 2}, \"23\": {\"23\": 119, \"47\": 1, \"18\": 1, \"46\": 1, \"57\": 2}, \"15\": {\"23\": 7, \"15\": 75, \"1\": 2, \"47\": 1, \"11\": 10, \"16\": 26, \"46\": 10, \"57\": 5, \"52\": 12, \"43\": 1, \"24\": 1, \"18\": 1, \"20\": 1, \"54\": 2}, \"10\": {\"10\": 63, \"13\": 5}, \"46\": {\"23\": 14, \"46\": 84, \"49\": 2, \"42\": 3, \"52\": 8, \"11\": 1, \"47\": 10, \"15\": 1, \"57\": 11, \"54\": 6, \"36\": 1, \"5\": 1, \"16\": 3, \"20\": 2, \"18\": 1}, \"22\": {\"22\": 21, \"13\": 1, \"35\": 2, \"56\": 2, \"44\": 1, \"24\": 1}, \"54\": {\"46\": 5, \"54\": 87, \"53\": 4, \"1\": 1, \"23\": 5, \"57\": 3, \"30\": 1, \"4\": 1, \"8\": 1, \"5\": 1, \"50\": 1, \"52\": 2}, \"27\": {\"27\": 110, \"1\": 7, \"17\": 3, \"55\": 3, \"32\": 4, \"9\": 18, \"8\": 2, \"48\": 4, \"30\": 5, \"6\": 2, \"51\": 1, \"45\": 1}, \"41\": {\"41\": 23, \"12\": 2, \"6\": 1, \"39\": 2}, \"31\": {\"31\": 33, \"0\": 1, \"5\": 1, \"29\": 1}, \"0\": {\"0\": 92, \"31\": 1, \"29\": 5, \"5\": 2, \"25\": 11, \"24\": 4, \"50\": 1, \"11\": 2, \"56\": 2, \"46\": 1, \"33\": 1, \"3\": 2}, \"7\": {\"48\": 1, \"7\": 29, \"27\": 1, \"51\": 1}, \"2\": {\"11\": 2, \"2\": 23, \"49\": 1, \"46\": 1, \"3\": 1}, \"14\": {\"50\": 1, \"14\": 12, \"49\": 2, \"3\": 5, \"27\": 1, \"1\": 2, \"48\": 2, \"9\": 2, \"55\": 1, \"32\": 1, \"29\": 1, \"36\": 1, \"5\": 1, \"0\": 3, \"45\": 1, \"46\": 1, \"47\": 1, \"19\": 1, \"34\": 1, \"57\": 1, \"44\": 1, \"43\": 1, \"4\": 1}, \"40\": {\"35\": 3, \"40\": 52, \"36\": 3, \"50\": 3, \"0\": 9, \"31\": 1, \"3\": 1, \"55\": 3, \"10\": 3, \"29\": 11, \"44\": 6, \"5\": 9, \"13\": 5, \"56\": 7, \"22\": 2, \"49\": 2, \"14\": 1, \"6\": 1, \"25\": 1, \"9\": 1}, \"5\": {\"41\": 1, \"5\": 52, \"14\": 1, \"55\": 4, \"36\": 2, \"31\": 1, \"11\": 2, \"19\": 15, \"3\": 4, \"44\": 5, \"0\": 3, \"4\": 3, \"50\": 1, \"40\": 4, \"46\": 6, \"15\": 8, \"28\": 2, \"34\": 2, \"16\": 2, \"22\": 1, \"51\": 2, \"52\": 1, \"29\": 5, \"43\": 1}, \"12\": {\"12\": 72, \"45\": 11, \"53\": 5, \"51\": 1, \"38\": 2, \"7\": 1, \"27\": 2, \"55\": 1, \"4\": 1}, \"43\": {\"43\": 139, \"4\": 2, \"56\": 1}, \"13\": {\"13\": 137, \"10\": 7, \"22\": 1, \"35\": 1, \"56\": 2}, \"36\": {\"43\": 3, \"36\": 54, \"15\": 4, \"49\": 3, \"5\": 3, \"19\": 5, \"28\": 2, \"44\": 6, \"29\": 2, \"11\": 2, \"0\": 2, \"55\": 2, \"34\": 1, \"52\": 1, \"3\": 1, \"45\": 1}, \"8\": {\"48\": 1, \"8\": 144, \"55\": 1, \"26\": 1, \"6\": 1, \"1\": 1, \"20\": 1}, \"32\": {\"32\": 18, \"17\": 5, \"9\": 1, \"48\": 1, \"38\": 2, \"30\": 4, \"12\": 1}, \"30\": {\"30\": 107, \"32\": 1, \"41\": 1, \"7\": 1, \"17\": 9, \"1\": 3, \"48\": 2, \"6\": 3, \"45\": 1}, \"51\": {\"51\": 105, \"53\": 6, \"20\": 9, \"7\": 1, \"54\": 5, \"1\": 4, \"18\": 1, \"50\": 1, \"48\": 1, \"8\": 1, \"34\": 1, \"57\": 1, \"55\": 1, \"6\": 1}, \"20\": {\"20\": 130, \"8\": 3, \"51\": 2, \"54\": 2, \"1\": 1}}, \"C_1\": {\"46\": {\"46\": 65, \"4\": 30, \"2\": 3, \"14\": 1, \"5\": 2, \"50\": 24, \"48\": 4, \"53\": 8, \"7\": 2, \"45\": 1}, \"16\": {\"16\": 127, \"18\": 1, \"36\": 6}, \"26\": {\"26\": 19, \"42\": 1, \"17\": 1, \"19\": 1, \"50\": 1, \"14\": 1}, \"10\": {\"10\": 86, \"24\": 2, \"52\": 3, \"22\": 3, \"11\": 2}, \"9\": {\"9\": 118, \"42\": 1, \"17\": 3, \"14\": 2, \"30\": 15, \"48\": 1, \"8\": 9, \"53\": 1, \"45\": 5, \"16\": 1}, \"28\": {\"28\": 27, \"52\": 1}, \"51\": {\"51\": 119, \"26\": 1, \"53\": 9, \"45\": 1, \"7\": 2, \"12\": 7, \"16\": 4, \"4\": 1, \"50\": 2, \"19\": 4, \"5\": 2, \"1\": 1, \"6\": 2, \"48\": 1}, \"1\": {\"1\": 63, \"19\": 6, \"57\": 10, \"5\": 2, \"34\": 2, \"17\": 4, \"9\": 3, \"30\": 3, \"45\": 2, \"56\": 2, \"50\": 1, \"6\": 2}, \"55\": {\"55\": 121, \"16\": 1, \"40\": 1, \"21\": 1, \"1\": 1, \"48\": 2, \"54\": 3, \"29\": 2, \"53\": 3, \"4\": 1, \"15\": 1, \"20\": 1, \"13\": 1, \"51\": 1, \"56\": 2, \"5\": 1, \"23\": 1, \"45\": 1, \"46\": 1, \"50\": 1, \"9\": 1}, \"27\": {\"27\": 119, \"43\": 4, \"24\": 1}, \"22\": {\"10\": 11, \"22\": 86, \"24\": 6, \"35\": 1, \"11\": 8, \"52\": 7, \"0\": 4, \"47\": 1}, \"52\": {\"10\": 4, \"47\": 2, \"0\": 6, \"21\": 1, \"52\": 83, \"11\": 12, \"35\": 1, \"55\": 2, \"24\": 3, \"22\": 10, \"44\": 2}, \"3\": {\"47\": 5, \"3\": 113, \"46\": 1, \"28\": 1, \"29\": 2, \"55\": 3, \"22\": 2, \"4\": 2, \"52\": 5, \"0\": 1, \"26\": 1, \"27\": 1, \"11\": 1, \"44\": 1, \"40\": 1}, \"33\": {\"33\": 29, \"34\": 3}, \"47\": {\"47\": 106, \"0\": 1, \"44\": 6, \"22\": 1, \"29\": 2, \"32\": 1, \"39\": 1, \"52\": 2}, \"42\": {\"1\": 1, \"42\": 37, \"17\": 1, \"45\": 1}, \"12\": {\"12\": 98, \"53\": 3, \"30\": 1, \"6\": 1, \"51\": 5, \"45\": 2, \"9\": 2, \"17\": 2, \"19\": 2}, \"23\": {\"23\": 115, \"45\": 4, \"48\": 4, \"9\": 2, \"21\": 4, \"36\": 2, \"53\": 1}, \"49\": {\"49\": 29, \"24\": 3}, \"7\": {\"33\": 1, \"9\": 4, \"7\": 17, \"57\": 1, \"18\": 1, \"45\": 2, \"48\": 2}, \"4\": {\"50\": 16, \"4\": 89, \"6\": 4, \"53\": 11, \"48\": 4, \"45\": 2, \"46\": 6}, \"50\": {\"50\": 132, \"4\": 2}, \"19\": {\"9\": 4, \"19\": 107, \"30\": 8, \"1\": 8, \"57\": 2, \"34\": 2, \"8\": 6, \"4\": 2, \"48\": 2, \"16\": 5, \"5\": 1, \"56\": 2, \"42\": 3, \"50\": 1, \"55\": 1}, \"11\": {\"11\": 132, \"52\": 6, \"0\": 1, \"22\": 1}, \"31\": {\"31\": 26, \"35\": 1, \"27\": 1}, \"41\": {\"41\": 24}, \"56\": {\"56\": 56, \"17\": 1, \"36\": 1, \"1\": 8, \"32\": 2, \"19\": 12, \"34\": 3, \"57\": 7, \"25\": 4, \"5\": 7, \"0\": 2, \"24\": 1, \"48\": 6, \"8\": 3, \"52\": 1, \"45\": 8, \"16\": 2, \"21\": 1, \"9\": 3, \"44\": 2, \"40\": 3, \"29\": 2, \"53\": 2, \"47\": 1}, \"0\": {\"56\": 3, \"0\": 111, \"15\": 4, \"54\": 4, \"57\": 3, \"20\": 4, \"1\": 1, \"55\": 2, \"19\": 1, \"29\": 1, \"52\": 4, \"11\": 6, \"51\": 1, \"22\": 1, \"21\": 1, \"24\": 1}, \"57\": {\"57\": 35, \"56\": 10, \"17\": 4, \"1\": 17, \"5\": 9, \"25\": 5, \"44\": 1, \"19\": 17, \"40\": 5, \"48\": 2, \"9\": 6, \"45\": 5, \"8\": 4, \"16\": 4, \"0\": 1, \"33\": 2, \"13\": 1}, \"53\": {\"9\": 6, \"2\": 1, \"53\": 117, \"50\": 3, \"6\": 3, \"42\": 1, \"45\": 4, \"48\": 2, \"19\": 1, \"5\": 1, \"8\": 1}, \"43\": {\"43\": 139, \"27\": 5}, \"37\": {\"37\": 25, \"1\": 1, \"4\": 3, \"53\": 2, \"46\": 1}, \"2\": {\"2\": 25, \"48\": 5, \"17\": 2, \"8\": 1, \"6\": 3}, \"6\": {\"2\": 2, \"6\": 38, \"50\": 4, \"4\": 2, \"17\": 7, \"30\": 6, \"5\": 7, \"14\": 2, \"9\": 6, \"46\": 1, \"53\": 6, \"8\": 12, \"48\": 2, \"45\": 1}, \"13\": {\"13\": 147, \"20\": 3}, \"18\": {\"18\": 71, \"16\": 1}, \"36\": {\"36\": 51, \"16\": 6, \"18\": 5, \"7\": 2}, \"29\": {\"29\": 79, \"19\": 3, \"3\": 2, \"4\": 3, \"50\": 1, \"1\": 2, \"44\": 15, \"38\": 2, \"32\": 1, \"56\": 5, \"47\": 8, \"23\": 4, \"21\": 4, \"55\": 4, \"53\": 1, \"26\": 1, \"35\": 1, \"46\": 1, \"40\": 2, \"15\": 1}, \"39\": {\"39\": 28}, \"17\": {\"17\": 45, \"9\": 6, \"48\": 1, \"30\": 2, \"8\": 4, \"5\": 3, \"6\": 3}, \"21\": {\"21\": 113, \"23\": 7, \"15\": 4}, \"25\": {\"25\": 116, \"45\": 3, \"19\": 2, \"37\": 1, \"57\": 6, \"6\": 1, \"50\": 1, \"4\": 1, \"40\": 1}, \"45\": {\"45\": 72, \"33\": 4, \"1\": 4, \"53\": 12, \"17\": 6, \"34\": 1, \"7\": 2, \"42\": 3, \"48\": 3, \"57\": 4, \"30\": 1, \"9\": 7, \"5\": 12, \"56\": 2, \"19\": 4, \"25\": 1, \"0\": 1, \"6\": 1, \"46\": 1, \"40\": 1}, \"38\": {\"38\": 20, \"24\": 1, \"47\": 2, \"31\": 1}, \"30\": {\"30\": 115, \"9\": 3, \"18\": 2}, \"24\": {\"52\": 2, \"24\": 98, \"10\": 3, \"22\": 2, \"49\": 3}, \"20\": {\"20\": 111, \"12\": 10, \"19\": 1, \"45\": 1, \"54\": 3, \"13\": 6, \"50\": 2, \"51\": 4, \"26\": 1, \"55\": 1}, \"8\": {\"8\": 137, \"53\": 1, \"17\": 1, \"2\": 1}, \"35\": {\"35\": 31, \"29\": 2, \"39\": 2, \"31\": 1}, \"54\": {\"54\": 66, \"34\": 1, \"18\": 2, \"5\": 5, \"42\": 2, \"51\": 1, \"45\": 1, \"20\": 1, \"9\": 4, \"12\": 1, \"30\": 6, \"16\": 3, \"19\": 3, \"1\": 2, \"33\": 2, \"14\": 1, \"7\": 1, \"17\": 1, \"8\": 1}, \"5\": {\"5\": 105, \"7\": 1, \"8\": 12, \"1\": 3, \"57\": 1, \"30\": 2, \"45\": 9, \"6\": 3, \"9\": 5, \"53\": 4, \"17\": 1, \"19\": 1, \"48\": 1}, \"48\": {\"2\": 3, \"48\": 121, \"6\": 9, \"53\": 4, \"5\": 3, \"8\": 3, \"50\": 1}, \"15\": {\"15\": 129, \"21\": 6, \"23\": 5, \"53\": 1, \"47\": 1}, \"34\": {\"34\": 21, \"33\": 2, \"45\": 1}, \"14\": {\"42\": 1, \"14\": 10, \"53\": 2, \"5\": 1, \"7\": 2, \"6\": 2, \"8\": 2, \"30\": 1, \"48\": 1, \"46\": 1, \"9\": 1}, \"32\": {\"32\": 17, \"55\": 2, \"35\": 2, \"29\": 3, \"47\": 2, \"25\": 1, \"15\": 2, \"56\": 1, \"38\": 1, \"21\": 1}, \"40\": {\"35\": 4, \"50\": 8, \"1\": 1, \"4\": 9, \"53\": 5, \"56\": 10, \"3\": 4, \"40\": 61, \"29\": 6, \"38\": 1, \"25\": 8, \"48\": 1, \"46\": 6, \"13\": 4, \"45\": 6, \"6\": 1, \"0\": 1, \"19\": 2, \"47\": 3, \"57\": 3, \"32\": 1, \"55\": 2, \"23\": 1}, \"44\": {\"44\": 86, \"22\": 3, \"29\": 11, \"21\": 8, \"47\": 6, \"10\": 4, \"49\": 2, \"13\": 3, \"56\": 4, \"31\": 1, \"35\": 1, \"1\": 1, \"23\": 3, \"24\": 1, \"27\": 1, \"52\": 1}}, \"W_2\": {\"91\": {\"91\": 17, \"79\": 2, \"7\": 2, \"52\": 1, \"98\": 1, \"124\": 3, \"99\": 1, \"94\": 1}, \"12\": {\"101\": 4, \"12\": 36, \"114\": 6, \"32\": 1, \"30\": 2, \"111\": 1, \"87\": 1, \"85\": 1, \"0\": 10, \"83\": 1, \"127\": 5, \"94\": 3, \"8\": 2, \"90\": 2, \"18\": 1, \"121\": 1, \"34\": 2, \"91\": 1, \"98\": 1, \"40\": 1, \"105\": 1, \"4\": 2, \"124\": 1, \"7\": 1, \"36\": 1}, \"101\": {\"101\": 121, \"77\": 2, \"79\": 1, \"36\": 2, \"0\": 1, \"111\": 6, \"127\": 2, \"112\": 1, \"15\": 1, \"35\": 1, \"106\": 3, \"30\": 5, \"109\": 1, \"7\": 1}, \"121\": {\"88\": 3, \"120\": 1, \"80\": 1, \"31\": 3, \"121\": 13, \"72\": 3, \"126\": 3, \"42\": 1, \"44\": 2, \"33\": 1, \"83\": 1, \"90\": 2, \"89\": 1, \"87\": 1}, \"118\": {\"88\": 3, \"33\": 2, \"118\": 26, \"62\": 6, \"72\": 1, \"70\": 2, \"102\": 3, \"67\": 1, \"16\": 1, \"40\": 1, \"84\": 2, \"109\": 2, \"55\": 1, \"14\": 4, \"18\": 1, \"80\": 1, \"107\": 1, \"82\": 1, \"1\": 1, \"113\": 1, \"122\": 1, \"39\": 1, \"90\": 1, \"69\": 2, \"11\": 1, \"87\": 1}, \"10\": {\"88\": 4, \"70\": 2, \"38\": 2, \"112\": 1, \"10\": 21, \"79\": 1, \"109\": 1, \"3\": 4, \"126\": 1, \"118\": 2, \"43\": 1, \"1\": 1, \"108\": 2, \"44\": 4, \"11\": 1, \"83\": 2, \"103\": 1, \"54\": 1, \"90\": 1, \"49\": 1, \"46\": 1, \"71\": 1, \"14\": 1, \"116\": 1, \"21\": 1, \"5\": 1}, \"117\": {\"117\": 79, \"26\": 7, \"18\": 15, \"126\": 4, \"81\": 2, \"39\": 3, \"87\": 4, \"16\": 1, \"65\": 1, \"121\": 1, \"46\": 1, \"69\": 1, \"44\": 1}, \"110\": {\"110\": 19, \"10\": 1, \"73\": 1, \"40\": 2, \"100\": 2, \"5\": 1, \"126\": 1, \"85\": 2, \"99\": 1, \"90\": 1, \"3\": 1, \"14\": 1, \"44\": 1, \"65\": 2, \"116\": 1, \"114\": 1, \"95\": 2}, \"97\": {\"101\": 1, \"97\": 6, \"54\": 1, \"125\": 1, \"0\": 2, \"58\": 2, \"106\": 1, \"98\": 1, \"77\": 1, \"35\": 1, \"25\": 1, \"75\": 1, \"94\": 1}, \"28\": {\"28\": 12, \"24\": 1, \"66\": 3, \"86\": 1, \"92\": 1, \"56\": 1, \"22\": 1}, \"88\": {\"88\": 48, \"65\": 2, \"44\": 9, \"83\": 4, \"39\": 5, \"2\": 1, \"126\": 7, \"93\": 8, \"21\": 7, \"18\": 4, \"109\": 8, \"90\": 12, \"113\": 3, \"119\": 1, \"120\": 2, \"43\": 1, \"70\": 2}, \"17\": {\"17\": 9, \"7\": 2, \"111\": 1, \"74\": 1, \"19\": 1, \"104\": 2}, \"126\": {\"88\": 8, \"126\": 31, \"21\": 4, \"117\": 2, \"2\": 1, \"39\": 7, \"90\": 17, \"13\": 1, \"44\": 7, \"96\": 1, \"43\": 1, \"78\": 1, \"10\": 1, \"99\": 1, \"84\": 2, \"93\": 8, \"70\": 2, \"5\": 1, \"16\": 2, \"20\": 2, \"72\": 1, \"109\": 2, \"87\": 5, \"3\": 1, \"83\": 2, \"18\": 1, \"26\": 1, \"1\": 1}, \"33\": {\"33\": 105, \"102\": 5, \"122\": 1, \"87\": 2, \"84\": 6, \"90\": 3, \"93\": 1, \"40\": 1, \"1\": 2, \"3\": 1, \"16\": 1}, \"86\": {\"17\": 1, \"86\": 17, \"0\": 1, \"37\": 2, \"78\": 1, \"85\": 1, \"104\": 1, \"32\": 2, \"73\": 2, \"105\": 1, \"107\": 1, \"4\": 2}, \"106\": {\"106\": 84, \"15\": 4, \"24\": 3, \"90\": 4, \"125\": 4, \"36\": 8, \"94\": 2, \"101\": 3, \"30\": 4, \"93\": 1, \"21\": 1, \"27\": 1, \"88\": 1}, \"54\": {\"54\": 15, \"103\": 1, \"68\": 1, \"30\": 1, \"101\": 2}, \"125\": {\"15\": 3, \"125\": 112, \"58\": 3, \"106\": 6, \"27\": 2, \"36\": 3, \"9\": 1, \"6\": 1, \"18\": 1}, \"83\": {\"83\": 33, \"87\": 1, \"109\": 1, \"21\": 1, \"93\": 2, \"44\": 1, \"20\": 1}, \"98\": {\"98\": 100, \"97\": 1, \"94\": 1, \"44\": 1, \"106\": 1, \"21\": 1, \"101\": 2, \"7\": 2, \"30\": 4, \"39\": 1, \"90\": 1, \"91\": 1, \"24\": 2, \"0\": 1, \"113\": 1}, \"11\": {\"61\": 1, \"11\": 45, \"53\": 1, \"3\": 5, \"20\": 1, \"113\": 2, \"23\": 2, \"122\": 2, \"0\": 1, \"91\": 1, \"10\": 3, \"98\": 3, \"83\": 2, \"99\": 2, \"88\": 1, \"123\": 1, \"128\": 1, \"8\": 2, \"71\": 1, \"108\": 1, \"90\": 1, \"126\": 1}, \"32\": {\"118\": 4, \"87\": 1, \"114\": 2, \"1\": 1, \"32\": 4, \"68\": 1, \"102\": 2, \"100\": 1, \"46\": 1, \"84\": 1, \"8\": 1, \"95\": 2, \"86\": 1, \"19\": 2, \"78\": 1, \"98\": 2, \"40\": 1, \"69\": 1, \"101\": 1, \"14\": 2, \"126\": 1, \"107\": 1, \"43\": 1, \"12\": 1}, \"42\": {\"83\": 3, \"58\": 1, \"42\": 5, \"46\": 2, \"90\": 2, \"41\": 1, \"99\": 1, \"34\": 1, \"78\": 1, \"56\": 2, \"52\": 1, \"38\": 2, \"101\": 1, \"97\": 1, \"119\": 1, \"44\": 2, \"27\": 1}, \"103\": {\"103\": 11, \"77\": 2, \"54\": 2, \"59\": 1}, \"87\": {\"83\": 4, \"87\": 39, \"119\": 1, \"21\": 5, \"26\": 6, \"90\": 10, \"57\": 1, \"44\": 6, \"93\": 6, \"16\": 4, \"99\": 1, \"39\": 1, \"88\": 4, \"113\": 2, \"18\": 1, \"100\": 2, \"46\": 2, \"13\": 2, \"23\": 1, \"109\": 2, \"126\": 4, \"120\": 2, \"1\": 1, \"70\": 1, \"33\": 3, \"69\": 1}, \"61\": {\"61\": 14, \"83\": 1, \"120\": 1, \"39\": 1, \"21\": 1, \"10\": 2}, \"13\": {\"13\": 8, \"31\": 1, \"57\": 1, \"84\": 2, \"19\": 1, \"47\": 1, \"81\": 1, \"38\": 1}, \"4\": {\"4\": 40, \"61\": 1, \"12\": 1, \"30\": 1, \"34\": 1, \"42\": 2, \"40\": 8, \"83\": 1, \"24\": 1, \"127\": 2, \"117\": 1, \"114\": 4, \"111\": 2, \"36\": 1, \"124\": 3, \"108\": 3, \"105\": 3, \"55\": 1, \"5\": 2, \"104\": 1, \"8\": 2, \"101\": 1, \"0\": 1, \"95\": 2, \"90\": 1}, \"15\": {\"15\": 63, \"25\": 2, \"20\": 1, \"24\": 4, \"29\": 1, \"106\": 12, \"8\": 1, \"6\": 1, \"9\": 1, \"94\": 3, \"27\": 1, \"36\": 10, \"44\": 1, \"101\": 4, \"125\": 5, \"35\": 2, \"51\": 2, \"58\": 2, \"54\": 1, \"93\": 1, \"30\": 1, \"90\": 1}, \"120\": {\"120\": 19, \"88\": 1}, \"80\": {\"80\": 11, \"13\": 1, \"84\": 1, \"28\": 1, \"5\": 1, \"31\": 1}, \"72\": {\"102\": 3, \"72\": 18, \"45\": 1, \"16\": 1, \"62\": 1, \"82\": 1, \"121\": 1, \"33\": 1, \"48\": 1}, \"64\": {\"64\": 12, \"92\": 2, \"123\": 1, \"55\": 1}, \"81\": {\"81\": 14, \"20\": 1, \"78\": 2, \"18\": 3, \"117\": 3, \"113\": 1}, \"102\": {\"102\": 80, \"82\": 1, \"1\": 3, \"84\": 2, \"32\": 1, \"69\": 9, \"118\": 3, \"70\": 1, \"33\": 7, \"8\": 1, \"105\": 1, \"129\": 1, \"14\": 1, \"62\": 1}, \"76\": {\"76\": 13, \"120\": 1, \"64\": 1, \"90\": 1}, \"49\": {\"52\": 2, \"98\": 3, \"23\": 2, \"8\": 2, \"49\": 2, \"9\": 1, \"58\": 1, \"60\": 1, \"27\": 1, \"0\": 1, \"75\": 1, \"10\": 1, \"83\": 1, \"30\": 1, \"125\": 1, \"111\": 2, \"53\": 1}, \"129\": {\"49\": 1, \"110\": 1, \"129\": 14, \"31\": 1, \"64\": 1, \"32\": 1, \"62\": 2, \"1\": 2, \"128\": 3, \"5\": 1, \"8\": 1, \"70\": 2, \"112\": 1, \"85\": 1}, \"89\": {\"76\": 2, \"82\": 3, \"89\": 11, \"8\": 2, \"72\": 1, \"88\": 1, \"103\": 1, \"23\": 1, \"126\": 2, \"87\": 1, \"24\": 1, \"21\": 1, \"46\": 1, \"45\": 2, \"51\": 1, \"47\": 1, \"67\": 1, \"116\": 1, \"32\": 1, \"66\": 1}, \"52\": {\"35\": 2, \"0\": 3, \"36\": 1, \"52\": 9, \"12\": 3, \"54\": 1, \"24\": 1}, \"35\": {\"98\": 2, \"35\": 8, \"41\": 1, \"101\": 1}, \"53\": {\"53\": 15, \"99\": 1}, \"26\": {\"26\": 105, \"18\": 3, \"102\": 4, \"113\": 1, \"90\": 2, \"121\": 1, \"118\": 1, \"117\": 5, \"69\": 4, \"126\": 1, \"16\": 1}, \"96\": {\"26\": 1, \"18\": 2, \"96\": 5, \"2\": 2, \"21\": 1, \"116\": 2, \"126\": 2, \"121\": 1, \"89\": 1, \"78\": 1, \"14\": 1, \"44\": 1}, \"27\": {\"24\": 3, \"27\": 20, \"91\": 1, \"21\": 1, \"51\": 1, \"15\": 5, \"99\": 1, \"42\": 2, \"106\": 3, \"98\": 3, \"44\": 2, \"30\": 1, \"127\": 1, \"7\": 2, \"18\": 1, \"90\": 2, \"9\": 3, \"113\": 2, \"25\": 2, \"36\": 5, \"29\": 1, \"111\": 1, \"39\": 1, \"125\": 1, \"101\": 2, \"83\": 1}, \"24\": {\"24\": 16, \"88\": 5, \"36\": 9, \"21\": 1, \"106\": 7, \"25\": 2, \"27\": 5, \"15\": 16, \"60\": 1, \"46\": 3, \"34\": 1, \"94\": 6, \"10\": 4, \"98\": 3, \"108\": 1, \"117\": 1, \"109\": 2, \"39\": 1, \"93\": 2, \"125\": 2, \"90\": 2, \"3\": 1, \"58\": 1, \"18\": 2, \"78\": 3, \"6\": 1, \"51\": 1, \"54\": 1, \"9\": 2, \"44\": 2, \"53\": 1, \"91\": 1, \"121\": 1, \"7\": 1, \"126\": 1, \"11\": 1, \"70\": 1, \"8\": 1}, \"82\": {\"82\": 27, \"90\": 1, \"102\": 1, \"118\": 1, \"46\": 1, \"62\": 1, \"13\": 1, \"21\": 1, \"69\": 1, \"18\": 1}, \"18\": {\"18\": 119, \"99\": 2, \"38\": 1, \"93\": 2, \"16\": 1, \"44\": 1, \"90\": 1, \"109\": 1}, \"69\": {\"33\": 5, \"69\": 86, \"102\": 15, \"57\": 2, \"14\": 2, \"126\": 1, \"84\": 2, \"93\": 1, \"121\": 1, \"120\": 1, \"26\": 1, \"44\": 1, \"90\": 2, \"118\": 1, \"1\": 1}, \"47\": {\"129\": 1, \"70\": 1, \"108\": 1, \"47\": 4, \"22\": 2, \"52\": 1, \"89\": 1, \"66\": 1}, \"85\": {\"74\": 2, \"8\": 1, \"85\": 18, \"73\": 3, \"129\": 1, \"62\": 1, \"5\": 4, \"115\": 1, \"89\": 1}, \"2\": {\"99\": 1, \"2\": 12, \"119\": 2, \"126\": 2, \"87\": 1, \"21\": 2, \"113\": 1, \"84\": 1, \"88\": 3, \"90\": 1, \"96\": 1, \"109\": 1, \"26\": 1, \"93\": 1, \"44\": 1, \"117\": 1}, \"67\": {\"67\": 13, \"84\": 2, \"44\": 1}, \"39\": {\"99\": 5, \"39\": 32, \"88\": 6, \"46\": 1, \"120\": 1, \"18\": 3, \"44\": 5, \"70\": 2, \"93\": 5, \"78\": 1, \"21\": 4, \"117\": 5, \"90\": 12, \"83\": 2, \"16\": 7, \"87\": 5, \"26\": 2, \"109\": 1, \"11\": 1, \"123\": 1, \"119\": 2, \"96\": 1, \"20\": 3, \"113\": 4, \"126\": 1}, \"99\": {\"99\": 31, \"120\": 1}, \"74\": {\"74\": 10, \"86\": 2, \"106\": 1, \"17\": 1, \"75\": 2}, \"105\": {\"55\": 4, \"62\": 12, \"107\": 5, \"105\": 55, \"5\": 4, \"60\": 1, \"40\": 18, \"71\": 4, \"8\": 1, \"11\": 1, \"4\": 9, \"43\": 4, \"90\": 2, \"88\": 2, \"85\": 1, \"95\": 3, \"73\": 1, \"114\": 2, \"87\": 1, \"83\": 1, \"122\": 1}, \"70\": {\"99\": 6, \"47\": 1, \"70\": 15, \"10\": 2, \"49\": 1, \"88\": 7, \"82\": 1, \"90\": 15, \"78\": 1, \"126\": 3, \"43\": 4, \"14\": 1, \"71\": 2, \"39\": 4, \"69\": 2, \"114\": 4, \"34\": 1, \"44\": 7, \"83\": 1, \"40\": 2, \"84\": 4, \"18\": 1, \"62\": 12, \"93\": 4, \"5\": 3, \"105\": 4, \"45\": 1, \"23\": 2, \"33\": 1, \"108\": 3, \"8\": 1, \"122\": 2, \"109\": 1, \"3\": 1, \"102\": 1, \"1\": 1}, \"55\": {\"55\": 16}, \"30\": {\"91\": 5, \"7\": 7, \"56\": 1, \"106\": 12, \"29\": 3, \"98\": 8, \"12\": 3, \"27\": 3, \"30\": 23, \"101\": 7, \"0\": 5, \"10\": 1, \"15\": 5, \"127\": 2, \"122\": 1, \"94\": 1, \"36\": 8, \"24\": 3, \"90\": 1, \"4\": 1, \"93\": 1, \"111\": 4, \"25\": 1, \"54\": 1, \"34\": 1, \"108\": 3, \"88\": 1}, \"60\": {\"120\": 1, \"60\": 6, \"108\": 1, \"88\": 1, \"21\": 1, \"87\": 1, \"96\": 1, \"126\": 1, \"2\": 1, \"8\": 1, \"23\": 1, \"113\": 1, \"10\": 1, \"123\": 1, \"76\": 2, \"46\": 2, \"57\": 1, \"3\": 1, \"119\": 1, \"90\": 1, \"44\": 1}, \"92\": {\"92\": 14, \"64\": 1, \"51\": 1, \"88\": 1, \"24\": 1, \"86\": 1, \"119\": 1, \"55\": 1, \"123\": 1, \"68\": 1, \"48\": 1, \"104\": 1, \"82\": 1, \"107\": 1, \"105\": 1}, \"45\": {\"92\": 1, \"45\": 7, \"62\": 1, \"82\": 1, \"105\": 1, \"89\": 1, \"67\": 1, \"14\": 2, \"88\": 1}, \"127\": {\"127\": 89, \"111\": 5, \"7\": 3, \"12\": 2, \"24\": 1, \"101\": 2, \"46\": 1, \"98\": 2, \"124\": 2, \"4\": 3, \"0\": 1, \"122\": 1}, \"9\": {\"120\": 1, \"9\": 29, \"125\": 1, \"113\": 1}, \"115\": {\"114\": 1, \"115\": 10, \"5\": 1}, \"73\": {\"73\": 20, \"19\": 2, \"11\": 1, \"110\": 1, \"5\": 1, \"14\": 1, \"105\": 1, \"31\": 1}, \"108\": {\"114\": 4, \"108\": 74, \"128\": 2, \"61\": 1, \"107\": 1, \"126\": 4, \"58\": 1, \"38\": 2, \"11\": 3, \"24\": 3, \"46\": 1, \"88\": 5, \"122\": 3, \"7\": 3, \"0\": 3, \"98\": 2, \"3\": 6, \"44\": 1, \"93\": 1, \"4\": 1, \"5\": 1, \"10\": 1, \"94\": 4, \"39\": 1, \"16\": 1, \"21\": 1, \"23\": 1, \"15\": 1, \"12\": 1, \"124\": 1, \"70\": 2, \"30\": 1, \"90\": 1}, \"114\": {\"114\": 88, \"23\": 1, \"8\": 2, \"122\": 3, \"88\": 1, \"11\": 1, \"12\": 4, \"0\": 1, \"4\": 3, \"5\": 5, \"115\": 1, \"44\": 1, \"127\": 1, \"78\": 2, \"7\": 1, \"113\": 1}, \"63\": {\"63\": 16, \"72\": 1, \"39\": 2, \"41\": 1}, \"93\": {\"93\": 77, \"88\": 5, \"113\": 5, \"90\": 17, \"126\": 3, \"87\": 2, \"44\": 6, \"18\": 3, \"99\": 3, \"83\": 1, \"70\": 2, \"1\": 1, \"109\": 2, \"16\": 1}, \"7\": {\"7\": 100, \"0\": 5, \"111\": 3, \"122\": 3, \"10\": 1, \"3\": 1, \"106\": 1, \"114\": 2, \"108\": 2, \"101\": 2, \"8\": 2, \"24\": 1, \"91\": 3, \"127\": 2, \"98\": 2, \"30\": 1, \"62\": 1}, \"31\": {\"31\": 14, \"123\": 1, \"57\": 2, \"92\": 1, \"14\": 1, \"21\": 1}, \"123\": {\"123\": 12, \"38\": 1, \"39\": 1, \"119\": 1, \"90\": 1}, \"128\": {\"3\": 4, \"111\": 2, \"108\": 1, \"51\": 1, \"29\": 4, \"128\": 3, \"109\": 1, \"117\": 1, \"91\": 1, \"42\": 1, \"129\": 1, \"14\": 1, \"32\": 1, \"43\": 1, \"52\": 1}, \"0\": {\"0\": 54, \"58\": 2, \"24\": 3, \"12\": 9, \"87\": 1, \"71\": 1, \"98\": 7, \"21\": 1, \"124\": 3, \"111\": 9, \"114\": 1, \"93\": 1, \"30\": 5, \"101\": 2, \"127\": 1, \"117\": 1, \"5\": 2, \"108\": 2, \"7\": 2, \"49\": 1, \"97\": 1, \"27\": 1, \"83\": 2, \"122\": 3, \"88\": 1}, \"3\": {\"3\": 111, \"19\": 1, \"23\": 2, \"100\": 1, \"90\": 1, \"71\": 5, \"122\": 4, \"33\": 2, \"18\": 1, \"98\": 1, \"43\": 1, \"108\": 1, \"116\": 1, \"49\": 1, \"5\": 1, \"39\": 1, \"8\": 1}, \"19\": {\"128\": 1, \"3\": 1, \"55\": 1, \"30\": 1, \"32\": 3, \"19\": 7, \"88\": 1, \"109\": 1, \"107\": 2, \"29\": 2, \"46\": 3, \"37\": 1, \"126\": 1, \"4\": 1, \"42\": 2}, \"57\": {\"57\": 15, \"118\": 1, \"31\": 1, \"33\": 1, \"126\": 1, \"109\": 1}, \"78\": {\"57\": 1, \"40\": 2, \"49\": 1, \"39\": 2, \"44\": 5, \"52\": 1, \"21\": 1, \"83\": 3, \"105\": 2, \"88\": 3, \"73\": 2, \"101\": 1, \"5\": 1, \"78\": 3, \"93\": 2, \"114\": 1, \"14\": 1, \"90\": 5, \"92\": 1, \"18\": 1, \"11\": 1, \"16\": 1, \"85\": 1, \"82\": 1, \"84\": 1, \"71\": 1, \"121\": 1, \"87\": 1, \"3\": 1}, \"95\": {\"95\": 30, \"127\": 1, \"105\": 1, \"88\": 1, \"86\": 2, \"4\": 1}, \"40\": {\"55\": 2, \"40\": 81, \"19\": 1, \"110\": 3, \"107\": 7, \"129\": 1, \"0\": 1, \"105\": 14, \"95\": 2, \"114\": 1, \"122\": 3, \"62\": 2, \"8\": 4, \"93\": 2, \"90\": 3, \"4\": 2, \"5\": 1, \"34\": 1, \"10\": 1, \"44\": 1, \"7\": 1, \"108\": 1, \"120\": 1, \"87\": 1, \"18\": 1, \"70\": 1, \"43\": 1}, \"14\": {\"57\": 1, \"14\": 30, \"83\": 1, \"84\": 2, \"33\": 3, \"62\": 3, \"126\": 1, \"113\": 1, \"122\": 1, \"38\": 1, \"88\": 1, \"110\": 1, \"44\": 2}, \"36\": {\"59\": 3, \"36\": 59, \"51\": 1, \"97\": 1, \"125\": 11, \"6\": 2, \"94\": 3, \"9\": 2, \"7\": 2, \"15\": 6, \"21\": 1, \"24\": 3, \"27\": 6, \"101\": 6, \"98\": 6, \"88\": 2, \"106\": 1, \"93\": 1, \"90\": 1, \"30\": 4, \"75\": 2, \"99\": 1, \"29\": 1, \"44\": 1, \"18\": 1, \"83\": 1}, \"56\": {\"56\": 7, \"111\": 1, \"30\": 2, \"114\": 1, \"27\": 1}, \"111\": {\"111\": 106, \"85\": 2, \"124\": 3, \"101\": 9, \"0\": 1, \"30\": 4, \"44\": 1, \"98\": 1, \"7\": 1}, \"59\": {\"111\": 1, \"59\": 11, \"44\": 1, \"24\": 1, \"35\": 1, \"18\": 1}, \"79\": {\"79\": 11, \"54\": 1, \"27\": 1, \"7\": 1, \"127\": 1, \"77\": 1}, \"62\": {\"62\": 81, \"84\": 3, \"118\": 2, \"129\": 1, \"31\": 2, \"78\": 1, \"14\": 3, \"18\": 1, \"40\": 2, \"1\": 2, \"105\": 2, \"88\": 1, \"102\": 2, \"69\": 6, \"87\": 1, \"119\": 1, \"90\": 2, \"8\": 1, \"43\": 3, \"33\": 2, \"122\": 1, \"70\": 1, \"26\": 1}, \"21\": {\"21\": 37, \"90\": 5, \"88\": 3, \"119\": 2, \"39\": 1}, \"48\": {\"48\": 10, \"72\": 1, \"1\": 2, \"81\": 1, \"45\": 2, \"22\": 1, \"118\": 1, \"31\": 2}, \"16\": {\"117\": 9, \"16\": 49, \"65\": 1, \"83\": 3, \"99\": 2, \"88\": 8, \"87\": 7, \"126\": 5, \"44\": 2, \"70\": 1, \"10\": 1, \"109\": 3, \"90\": 2, \"69\": 2, \"39\": 6, \"18\": 6, \"26\": 4, \"93\": 4, \"100\": 1, \"11\": 1, \"81\": 2, \"113\": 2, \"118\": 2, \"84\": 1}, \"50\": {\"50\": 11, \"109\": 1, \"45\": 1, \"55\": 1, \"86\": 1, \"14\": 1}, \"44\": {\"44\": 93, \"18\": 1, \"70\": 2}, \"5\": {\"5\": 87, \"128\": 1, \"114\": 5, \"70\": 1, \"71\": 2, \"122\": 2, \"105\": 3, \"93\": 2, \"73\": 1, \"78\": 1, \"115\": 1, \"33\": 1, \"0\": 1, \"107\": 1, \"8\": 1}, \"20\": {\"20\": 12, \"23\": 2, \"44\": 1, \"106\": 1}, \"1\": {\"1\": 81, \"48\": 1, \"19\": 1, \"83\": 1, \"33\": 9, \"90\": 1, \"118\": 1, \"102\": 1, \"109\": 1, \"43\": 8, \"70\": 3, \"5\": 2, \"122\": 2, \"31\": 1, \"84\": 3, \"105\": 2, \"8\": 2}, \"65\": {\"65\": 15, \"38\": 1, \"113\": 1, \"126\": 1, \"109\": 1, \"120\": 1}, \"116\": {\"116\": 16, \"65\": 2, \"87\": 2, \"126\": 1, \"60\": 1, \"96\": 1, \"48\": 1, \"72\": 1, \"39\": 1, \"1\": 1, \"84\": 1}, \"51\": {\"51\": 13, \"97\": 1, \"94\": 1, \"6\": 1, \"125\": 2, \"20\": 1, \"24\": 1}, \"75\": {\"125\": 1, \"75\": 12, \"25\": 1, \"88\": 1, \"97\": 1}, \"100\": {\"100\": 12, \"113\": 1, \"39\": 1, \"18\": 1, \"87\": 1}, \"113\": {\"113\": 62, \"88\": 2, \"21\": 4, \"93\": 2, \"99\": 1, \"120\": 1}, \"41\": {\"29\": 2, \"77\": 1, \"41\": 12, \"27\": 2, \"15\": 2, \"94\": 1}, \"29\": {\"29\": 27, \"15\": 1, \"97\": 2, \"101\": 2}, \"23\": {\"41\": 1, \"17\": 1, \"23\": 13, \"90\": 1, \"88\": 3, \"98\": 1, \"32\": 1, \"71\": 1, \"24\": 1, \"94\": 1, \"39\": 1, \"44\": 2, \"3\": 1, \"113\": 1, \"18\": 2, \"99\": 4, \"115\": 1, \"78\": 1, \"105\": 1, \"0\": 2, \"8\": 1, \"30\": 1, \"120\": 1, \"110\": 1}, \"124\": {\"124\": 54, \"95\": 2, \"78\": 1, \"101\": 5, \"36\": 3, \"0\": 6, \"40\": 5, \"1\": 1, \"114\": 3, \"8\": 4, \"12\": 1, \"107\": 3, \"127\": 7, \"106\": 1, \"71\": 1, \"4\": 5, \"30\": 3, \"5\": 1, \"7\": 4, \"24\": 2, \"85\": 1, \"111\": 3, \"75\": 1, \"74\": 2, \"34\": 1, \"120\": 1, \"27\": 1, \"15\": 1, \"70\": 1}, \"68\": {\"68\": 9, \"95\": 1, \"114\": 1, \"58\": 1, \"127\": 1, \"90\": 1, \"56\": 1, \"40\": 1}, \"71\": {\"71\": 69, \"88\": 1, \"115\": 1, \"60\": 1, \"5\": 6, \"43\": 2, \"125\": 1, \"1\": 1, \"3\": 7, \"114\": 2, \"49\": 1, \"118\": 1, \"129\": 2, \"122\": 1, \"23\": 1, \"33\": 1, \"24\": 1, \"111\": 1}, \"107\": {\"107\": 32, \"105\": 7, \"90\": 1, \"114\": 1, \"46\": 1, \"86\": 1, \"110\": 1, \"38\": 1, \"40\": 5, \"99\": 2, \"83\": 1, \"113\": 1, \"17\": 1, \"92\": 1, \"44\": 1, \"4\": 1, \"93\": 1, \"34\": 3, \"95\": 1, \"10\": 1}, \"94\": {\"94\": 21, \"29\": 1, \"15\": 5, \"51\": 2, \"125\": 1, \"58\": 2, \"109\": 1, \"91\": 1, \"24\": 4, \"42\": 1, \"36\": 4, \"98\": 4, \"106\": 4, \"101\": 3, \"10\": 1, \"30\": 4, \"41\": 1, \"44\": 1, \"23\": 1, \"7\": 1, \"88\": 1}, \"77\": {\"35\": 2, \"77\": 10, \"66\": 1, \"123\": 1, \"41\": 1, \"98\": 1}, \"8\": {\"115\": 1, \"71\": 1, \"114\": 5, \"8\": 41, \"85\": 3, \"107\": 2, \"40\": 3, \"78\": 4, \"4\": 5, \"0\": 2, \"108\": 9, \"122\": 7, \"12\": 3, \"14\": 1, \"10\": 2, \"33\": 1, \"94\": 1, \"105\": 5, \"124\": 3, \"43\": 3, \"7\": 2, \"3\": 1, \"1\": 2, \"75\": 1, \"129\": 1, \"83\": 1, \"125\": 1, \"70\": 2, \"62\": 2, \"93\": 1, \"5\": 2, \"98\": 1, \"88\": 1, \"126\": 2}, \"46\": {\"46\": 13, \"44\": 1, \"87\": 1, \"90\": 1}, \"25\": {\"25\": 12, \"75\": 1, \"36\": 1, \"20\": 1, \"99\": 1}, \"122\": {\"44\": 1, \"115\": 1, \"119\": 1, \"122\": 47, \"126\": 2, \"19\": 2, \"10\": 3, \"40\": 2, \"43\": 5, \"105\": 9, \"88\": 2, \"5\": 8, \"70\": 4, \"71\": 6, \"114\": 10, \"11\": 5, \"1\": 3, \"62\": 2, \"99\": 1, \"33\": 2, \"90\": 4, \"3\": 2, \"24\": 1, \"53\": 1, \"84\": 3, \"118\": 1, \"4\": 2, \"26\": 1, \"87\": 1, \"127\": 1, \"8\": 2, \"7\": 1, \"117\": 1, \"0\": 1, \"98\": 1, \"108\": 1}, \"58\": {\"9\": 3, \"66\": 1, \"58\": 13, \"123\": 1, \"90\": 1, \"113\": 1}, \"6\": {\"6\": 28, \"51\": 2, \"106\": 1, \"15\": 1}, \"109\": {\"16\": 4, \"20\": 1, \"117\": 3, \"21\": 4, \"38\": 1, \"109\": 25, \"11\": 1, \"87\": 8, \"90\": 6, \"42\": 1, \"44\": 10, \"88\": 8, \"26\": 2, \"39\": 3, \"33\": 2, \"93\": 4, \"18\": 4, \"126\": 4, \"118\": 1, \"99\": 1, \"83\": 3, \"113\": 3, \"84\": 1}, \"119\": {\"119\": 13, \"90\": 4, \"44\": 2, \"27\": 1}, \"34\": {\"122\": 1, \"29\": 3, \"30\": 1, \"34\": 7, \"44\": 1, \"98\": 1, \"114\": 1, \"101\": 2, \"4\": 1, \"107\": 2, \"15\": 1, \"110\": 1, \"41\": 1, \"126\": 1, \"120\": 1, \"75\": 1, \"106\": 2, \"24\": 3, \"12\": 1}, \"90\": {\"90\": 106, \"126\": 4, \"88\": 9, \"39\": 2, \"44\": 10, \"70\": 4, \"87\": 1, \"109\": 1, \"93\": 1, \"99\": 1, \"18\": 1}, \"38\": {\"44\": 1, \"38\": 13, \"21\": 1, \"70\": 1}, \"104\": {\"29\": 1, \"104\": 13, \"12\": 2, \"90\": 1, \"4\": 1, \"101\": 1, \"19\": 1}, \"84\": {\"84\": 54, \"38\": 1, \"62\": 2, \"78\": 1, \"43\": 2, \"33\": 4, \"118\": 1, \"1\": 11, \"14\": 1, \"70\": 2, \"69\": 2, \"122\": 1, \"90\": 2, \"102\": 7, \"126\": 1}, \"112\": {\"8\": 2, \"126\": 2, \"10\": 1, \"87\": 1, \"3\": 1, \"60\": 1, \"118\": 1, \"19\": 1, \"112\": 6}, \"66\": {\"28\": 1, \"66\": 11, \"107\": 1, \"120\": 1, \"22\": 1, \"47\": 1, \"10\": 1, \"38\": 1, \"89\": 1, \"15\": 1}, \"22\": {\"22\": 19, \"28\": 1}, \"37\": {\"37\": 12, \"86\": 1, \"40\": 1, \"83\": 1, \"4\": 1}, \"43\": {\"84\": 5, \"21\": 2, \"110\": 1, \"42\": 1, \"118\": 1, \"23\": 1, \"1\": 6, \"78\": 1, \"88\": 7, \"109\": 5, \"43\": 16, \"62\": 7, \"16\": 3, \"105\": 2, \"90\": 11, \"83\": 2, \"44\": 6, \"39\": 7, \"5\": 16, \"26\": 2, \"117\": 1, \"71\": 5, \"122\": 3, \"93\": 1, \"123\": 1, \"102\": 1, \"72\": 1, \"8\": 1, \"113\": 1, \"18\": 1, \"87\": 1, \"70\": 2, \"33\": 3}}, \"C_2\": {\"36\": {\"36\": 113, \"32\": 1, \"27\": 1, \"8\": 1}, \"5\": {\"5\": 60, \"52\": 7, \"1\": 7, \"44\": 1, \"48\": 9, \"16\": 7, \"42\": 2, \"43\": 1, \"0\": 1, \"15\": 3, \"19\": 5, \"3\": 2, \"29\": 4, \"55\": 1, \"7\": 2, \"40\": 1, \"47\": 3, \"11\": 1, \"57\": 2, \"46\": 1}, \"45\": {\"49\": 3, \"45\": 70, \"35\": 4, \"4\": 6, \"53\": 10, \"50\": 11, \"19\": 1, \"26\": 5, \"20\": 1, \"51\": 5, \"21\": 2, \"3\": 1, \"8\": 4, \"12\": 2, \"46\": 1, \"5\": 1, \"54\": 1}, \"49\": {\"49\": 20, \"50\": 2, \"43\": 1, \"26\": 1}, \"50\": {\"49\": 4, \"50\": 59, \"36\": 1, \"8\": 21, \"53\": 20, \"32\": 1, \"51\": 4, \"4\": 4, \"21\": 3, \"20\": 1, \"27\": 9, \"6\": 1, \"12\": 2, \"46\": 1, \"3\": 3, \"48\": 1, \"45\": 1}, \"4\": {\"4\": 117, \"46\": 1, \"12\": 1, \"45\": 1, \"3\": 3, \"50\": 1, \"53\": 1, \"9\": 3, \"27\": 5, \"51\": 2, \"47\": 1, \"8\": 2}, \"43\": {\"43\": 148}, \"41\": {\"41\": 20}, \"37\": {\"37\": 36}, \"12\": {\"12\": 40, \"20\": 6, \"54\": 11, \"49\": 2, \"36\": 8, \"53\": 1, \"17\": 6, \"50\": 3, \"8\": 4, \"4\": 2, \"21\": 1, \"27\": 2, \"6\": 4, \"48\": 2}, \"33\": {\"49\": 1, \"33\": 11, \"4\": 2, \"35\": 2, \"42\": 2, \"31\": 2, \"26\": 1, \"29\": 1, \"46\": 1, \"57\": 2, \"5\": 1, \"19\": 1, \"3\": 1}, \"7\": {\"7\": 33, \"6\": 2, \"47\": 1}, \"56\": {\"56\": 131, \"24\": 2, \"22\": 6, \"14\": 1}, \"14\": {\"56\": 7, \"14\": 10, \"10\": 2, \"5\": 1, \"35\": 2, \"29\": 1, \"55\": 1}, \"52\": {\"52\": 112, \"23\": 8, \"16\": 4}, \"44\": {\"33\": 1, \"44\": 74, \"0\": 2, \"5\": 6, \"31\": 1, \"19\": 7, \"40\": 1, \"55\": 2, \"46\": 1, \"45\": 1}, \"48\": {\"48\": 137, \"6\": 2, \"47\": 4, \"54\": 1}, \"20\": {\"12\": 5, \"54\": 5, \"8\": 9, \"20\": 104, \"51\": 2, \"48\": 1, \"46\": 1, \"17\": 1}, \"55\": {\"5\": 3, \"55\": 81, \"40\": 6, \"10\": 2, \"9\": 1, \"29\": 1, \"46\": 4, \"44\": 17, \"50\": 1, \"45\": 2, \"43\": 15, \"19\": 5, \"25\": 1, \"24\": 1, \"3\": 2, \"47\": 1, \"22\": 1}, \"32\": {\"17\": 4, \"12\": 1, \"32\": 21, \"9\": 1, \"27\": 1}, \"40\": {\"44\": 4, \"40\": 64, \"42\": 1, \"19\": 13, \"33\": 3, \"35\": 3, \"31\": 4, \"27\": 1, \"26\": 1, \"0\": 1, \"28\": 1, \"9\": 3, \"20\": 1, \"29\": 9, \"50\": 2, \"25\": 2, \"46\": 4, \"53\": 2, \"47\": 1, \"4\": 3, \"55\": 6, \"57\": 1, \"21\": 1, \"51\": 2, \"45\": 2, \"43\": 1}, \"54\": {\"20\": 3, \"54\": 75, \"8\": 7, \"6\": 7, \"7\": 1, \"30\": 1, \"12\": 4, \"48\": 4, \"4\": 2, \"3\": 1, \"36\": 2, \"50\": 1}, \"17\": {\"17\": 104}, \"38\": {\"38\": 20}, \"24\": {\"38\": 1, \"24\": 93, \"10\": 2}, \"1\": {\"1\": 73, \"48\": 10, \"7\": 3, \"9\": 1, \"17\": 1, \"39\": 3, \"6\": 7, \"0\": 3, \"11\": 1, \"3\": 2, \"47\": 4, \"42\": 1, \"5\": 1, \"57\": 1, \"50\": 1}, \"6\": {\"48\": 15, \"6\": 83, \"0\": 2, \"50\": 1, \"17\": 8, \"54\": 4, \"53\": 2, \"47\": 2, \"27\": 1, \"8\": 3, \"57\": 1, \"7\": 2}, \"34\": {\"34\": 28}, \"11\": {\"52\": 8, \"11\": 72, \"15\": 28, \"16\": 16, \"23\": 7, \"8\": 1, \"48\": 1, \"6\": 1, \"27\": 1, \"47\": 1}, \"9\": {\"9\": 83, \"29\": 9, \"17\": 18, \"3\": 2, \"40\": 2, \"36\": 3, \"50\": 1, \"57\": 7, \"19\": 4, \"1\": 1, \"54\": 3, \"4\": 2, \"46\": 2, \"48\": 8, \"12\": 2, \"6\": 1, \"47\": 1, \"25\": 1}, \"8\": {\"8\": 113, \"20\": 6, \"54\": 6, \"36\": 6, \"12\": 3, \"27\": 10, \"51\": 4, \"21\": 1, \"50\": 2, \"48\": 1}, \"22\": {\"24\": 7, \"22\": 116, \"38\": 1, \"56\": 7, \"10\": 4, \"13\": 1}, \"26\": {\"26\": 24}, \"23\": {\"23\": 140, \"28\": 2, \"16\": 2, \"18\": 2}, \"10\": {\"10\": 111, \"24\": 1}, \"18\": {\"23\": 1, \"30\": 3, \"18\": 44}, \"13\": {\"13\": 115, \"10\": 1}, \"30\": {\"30\": 122, \"6\": 2, \"54\": 1, \"18\": 1, \"8\": 1, \"48\": 1}, \"42\": {\"46\": 1, \"42\": 13, \"47\": 6, \"1\": 4, \"48\": 1, \"39\": 1, \"45\": 1, \"21\": 1, \"17\": 1, \"34\": 2, \"28\": 1, \"6\": 2, \"3\": 1, \"7\": 1}, \"31\": {\"31\": 20, \"33\": 2, \"46\": 1, \"44\": 3, \"43\": 1, \"47\": 1}, \"46\": {\"34\": 1, \"46\": 29, \"5\": 1, \"0\": 3, \"52\": 3, \"2\": 2, \"48\": 12, \"57\": 6, \"54\": 12, \"20\": 1, \"1\": 4, \"18\": 1, \"19\": 1, \"6\": 9, \"8\": 7, \"43\": 1, \"27\": 4, \"36\": 2, \"30\": 6, \"45\": 3, \"23\": 2, \"11\": 4, \"39\": 1, \"38\": 1, \"55\": 1, \"21\": 1, \"7\": 1, \"29\": 3, \"47\": 1, \"16\": 3, \"12\": 1, \"4\": 1}, \"57\": {\"48\": 23, \"57\": 61, \"0\": 4, \"6\": 8, \"7\": 2, \"1\": 6, \"29\": 7, \"30\": 1, \"23\": 2, \"47\": 11, \"17\": 6, \"19\": 1, \"9\": 3, \"28\": 3, \"39\": 1, \"54\": 1, \"3\": 1, \"5\": 1}, \"47\": {\"7\": 4, \"35\": 1, \"47\": 69, \"42\": 1, \"39\": 2, \"48\": 33, \"1\": 4, \"5\": 1, \"6\": 7, \"57\": 4, \"23\": 3, \"19\": 3, \"33\": 1, \"2\": 1, \"0\": 2, \"11\": 1, \"40\": 1}, \"35\": {\"35\": 25, \"49\": 1, \"51\": 1, \"4\": 4, \"21\": 1}, \"15\": {\"15\": 123, \"16\": 6, \"47\": 1, \"23\": 1, \"52\": 1}, \"25\": {\"25\": 106, \"26\": 2, \"45\": 7, \"50\": 2, \"9\": 1, \"1\": 1, \"3\": 5, \"4\": 2, \"29\": 1, \"51\": 1, \"57\": 3, \"21\": 3, \"46\": 1, \"27\": 1}, \"19\": {\"9\": 7, \"19\": 76, \"1\": 8, \"57\": 2, \"2\": 1, \"35\": 1, \"45\": 1, \"40\": 3, \"21\": 1, \"29\": 5, \"47\": 3, \"46\": 3, \"36\": 1, \"6\": 1, \"3\": 2, \"17\": 2, \"4\": 6, \"27\": 2, \"42\": 1, \"32\": 1, \"55\": 2, \"48\": 3, \"11\": 1, \"44\": 1, \"5\": 2}, \"51\": {\"51\": 112, \"8\": 1, \"12\": 1, \"21\": 8, \"53\": 5, \"20\": 1}, \"53\": {\"53\": 109, \"51\": 6, \"50\": 7, \"26\": 3, \"8\": 4, \"6\": 1, \"45\": 1, \"54\": 1, \"12\": 1, \"4\": 1}, \"21\": {\"21\": 80, \"4\": 1, \"51\": 18, \"7\": 1, \"50\": 2, \"8\": 5, \"54\": 3, \"17\": 3, \"52\": 3, \"27\": 1, \"20\": 1, \"53\": 1, \"1\": 1}, \"39\": {\"39\": 20, \"1\": 2, \"48\": 1, \"7\": 1, \"6\": 3, \"44\": 1}, \"2\": {\"7\": 2, \"2\": 9, \"41\": 1, \"50\": 1, \"47\": 1, \"6\": 3, \"48\": 6, \"1\": 2, \"57\": 1, \"17\": 2, \"36\": 2, \"4\": 1, \"19\": 1}, \"16\": {\"16\": 114, \"15\": 14, \"23\": 14, \"30\": 3, \"52\": 4, \"28\": 1}, \"0\": {\"0\": 35, \"28\": 1, \"48\": 2, \"52\": 1, \"23\": 4, \"5\": 1, \"15\": 2, \"39\": 1, \"18\": 1}, \"3\": {\"3\": 17, \"36\": 3, \"34\": 1, \"48\": 1, \"9\": 2, \"51\": 2, \"39\": 1, \"27\": 7, \"26\": 3, \"54\": 2, \"53\": 3, \"7\": 3, \"50\": 5, \"8\": 12, \"11\": 2, \"4\": 4, \"21\": 5, \"29\": 2, \"45\": 2, \"23\": 1, \"25\": 5, \"40\": 2, \"46\": 1, \"49\": 1, \"42\": 1, \"19\": 2, \"47\": 1, \"12\": 1}, \"27\": {\"27\": 129, \"36\": 8, \"17\": 2, \"8\": 1, \"12\": 1, \"9\": 1}, \"28\": {\"28\": 24, \"16\": 1, \"52\": 2, \"57\": 1}, \"29\": {\"1\": 6, \"3\": 2, \"29\": 49, \"17\": 11, \"9\": 20, \"32\": 2, \"47\": 2, \"6\": 2, \"36\": 3, \"57\": 11, \"46\": 6, \"44\": 1, \"54\": 2, \"50\": 1, \"48\": 3, \"19\": 3, \"55\": 1, \"12\": 1, \"40\": 2}}}, \"per_domain_accuracy\": {\"O_14\": {\"accuracy\": 0.8921875, \"source?\": true}, \"O_20\": {\"accuracy\": 0.84375, \"source?\": true}, \"O_38\": {\"accuracy\": 0.8997395833333334, \"source?\": true}, \"O_8\": {\"accuracy\": 0.8760416666666667, \"source?\": true}, \"O_50\": {\"accuracy\": 0.8697916666666666, \"source?\": true}, \"O_32\": {\"accuracy\": 0.85546875, \"source?\": true}, \"O_26\": {\"accuracy\": 0.7174479166666666, \"source?\": true}, \"O_44\": {\"accuracy\": 0.7346354166666667, \"source?\": true}, \"C_3\": {\"accuracy\": 0.7047601744186046, \"source?\": false}, \"W_3\": {\"accuracy\": 0.5670230263157895, \"source?\": false}, \"C_4\": {\"accuracy\": 0.7136363636363636, \"source?\": false}, \"W_4\": {\"accuracy\": 0.5266203703703703, \"source?\": false}, \"W_1\": {\"accuracy\": 0.5852393617021276, \"source?\": false}, \"C_5\": {\"accuracy\": 0.7278282122905028, \"source?\": false}, \"C_1\": {\"accuracy\": 0.7655396174863388, \"source?\": false}, \"W_2\": {\"accuracy\": 0.5694590336134454, \"source?\": false}, \"C_2\": {\"accuracy\": 0.723340395480226, \"source?\": false}}}, \"history\": {\"epoch_indices\": [1, 2, 3, 4, 5, 6, 7, 8, 9, 10], \"train_label_loss\": [0.9885284516916034, 1.161703588766977, 0.6404817574845981, 0.5350070431518058, 0.47438513225365786, 0.43178089030829836, 0.39861539122011025, 0.3692906267286855, 0.3373192826141825, 0.30341204911071273], \"source_val_label_loss\": [47.94619369506836, 0.6992993354797363, 0.7256534695625305, 0.5966017246246338, 0.478054940700531, 0.44233807921409607, 0.4286963939666748, 0.38246333599090576, 0.39568018913269043, 0.3535313904285431], \"target_val_label_loss\": [1888.7559814453125, 214.652587890625, 235.39730834960938, 277.43719482421875, 286.9400329589844, 280.1248474121094, 309.41046142578125, 341.596435546875, 439.6961669921875, 492.20648193359375], \"source_val_acc_label\": [0.5653645833333333, 0.7469075520833334, 0.7320638020833333, 0.7774088541666667, 0.8236979166666667, 0.8361328125, 0.8410481770833333, 0.8599283854166667, 0.8549479166666667, 0.8714518229166667], \"target_val_acc_label\": [0.5025583791208791, 0.5966174450549451, 0.6131868131868132, 0.6177026098901099, 0.6347527472527472, 0.6415865384615385, 0.6384100274725275, 0.6297561813186813, 0.636092032967033, 0.6310267857142857]}, \"dataset_metrics\": {\"source\": {\"train\": {\"n_unique_x\": 179200, \"n_unique_y\": 16, \"n_batch/episode\": 6720}, \"val\": {\"n_unique_x\": 38400, \"n_unique_y\": 16, \"n_batch/episode\": 960}, \"test\": {\"n_unique_x\": 38400, \"n_unique_y\": 16, \"n_batch/episode\": 960}}, \"target\": {\"train\": {\"n_unique_x\": 364179, \"n_unique_y\": 130, \"n_batch/episode\": 13159}, \"val\": {\"n_unique_x\": 77264, \"n_unique_y\": 130, \"n_batch/episode\": 1820}, \"test\": {\"n_unique_x\": 78450, \"n_unique_y\": 130, \"n_batch/episode\": 1860}}}}'"
      ]
     },
     "execution_count": 29,
     "metadata": {},
     "output_type": "execute_result"
    }
   ],
   "source": [
    "json.dumps(experiment)"
   ]
  }
 ],
 "metadata": {
  "celltoolbar": "Tags",
  "kernelspec": {
   "display_name": "Python 3 (ipykernel)",
   "language": "python",
   "name": "python3"
  },
  "language_info": {
   "codemirror_mode": {
    "name": "ipython",
    "version": 3
   },
   "file_extension": ".py",
   "mimetype": "text/x-python",
   "name": "python",
   "nbconvert_exporter": "python",
   "pygments_lexer": "ipython3",
   "version": "3.8.10"
  },
  "papermill": {
   "default_parameters": {},
   "duration": 1892.417453,
   "end_time": "2022-03-20T21:26:51.078939",
   "environment_variables": {},
   "exception": null,
   "input_path": "/mnt/wd500GB/CSC500/csc500-main/csc500-notebooks/templates/tl_ptn_template.ipynb",
   "output_path": "trial.ipynb",
   "parameters": {
    "parameters": {
     "BEST_MODEL_PATH": "./best_model.pth",
     "NUM_LOGS_PER_EPOCH": 10,
     "criteria_for_best": "target_accuracy",
     "dataset_seed": 1337,
     "datasets": [
      {
       "domain_prefix": "C_",
       "domains": [
        1,
        2,
        3,
        4,
        5
       ],
       "episode_transforms": [],
       "labels": [
        "1-10.",
        "1-11.",
        "1-15.",
        "1-16.",
        "1-17.",
        "1-18.",
        "1-19.",
        "10-4.",
        "10-7.",
        "11-1.",
        "11-14.",
        "11-17.",
        "11-20.",
        "11-7.",
        "13-20.",
        "13-8.",
        "14-10.",
        "14-11.",
        "14-14.",
        "14-7.",
        "15-1.",
        "15-20.",
        "16-1.",
        "16-16.",
        "17-10.",
        "17-11.",
        "17-2.",
        "19-1.",
        "19-16.",
        "19-19.",
        "19-20.",
        "19-3.",
        "2-10.",
        "2-11.",
        "2-17.",
        "2-18.",
        "2-20.",
        "2-3.",
        "2-4.",
        "2-5.",
        "2-6.",
        "2-7.",
        "2-8.",
        "3-13.",
        "3-18.",
        "3-3.",
        "4-1.",
        "4-10.",
        "4-11.",
        "4-19.",
        "5-5.",
        "6-15.",
        "7-10.",
        "7-14.",
        "8-18.",
        "8-20.",
        "8-3.",
        "8-8."
       ],
       "num_examples_per_domain_per_label": -1,
       "pickle_path": "/mnt/wd500GB/CSC500/csc500-main/datasets/cores.stratified_ds.2022A.pkl",
       "source_or_target_dataset": "target",
       "x_transforms": [
        "unit_power",
        "take_200"
       ]
      },
      {
       "domain_prefix": "W_",
       "domains": [
        1,
        2,
        3,
        4
       ],
       "episode_transforms": [],
       "labels": [
        "1-10",
        "1-12",
        "1-14",
        "1-16",
        "1-18",
        "1-19",
        "1-8",
        "10-11",
        "10-17",
        "10-4",
        "10-7",
        "11-1",
        "11-10",
        "11-19",
        "11-20",
        "11-4",
        "11-7",
        "12-19",
        "12-20",
        "12-7",
        "13-14",
        "13-18",
        "13-19",
        "13-20",
        "13-3",
        "13-7",
        "14-10",
        "14-11",
        "14-12",
        "14-13",
        "14-14",
        "14-19",
        "14-20",
        "14-7",
        "14-8",
        "14-9",
        "15-1",
        "15-19",
        "15-6",
        "16-1",
        "16-16",
        "16-19",
        "16-20",
        "17-10",
        "17-11",
        "18-1",
        "18-10",
        "18-11",
        "18-12",
        "18-13",
        "18-14",
        "18-15",
        "18-16",
        "18-17",
        "18-19",
        "18-2",
        "18-20",
        "18-4",
        "18-5",
        "18-7",
        "18-8",
        "18-9",
        "19-1",
        "19-10",
        "19-11",
        "19-12",
        "19-13",
        "19-14",
        "19-15",
        "19-19",
        "19-2",
        "19-20",
        "19-3",
        "19-4",
        "19-6",
        "19-7",
        "19-8",
        "19-9",
        "2-1",
        "2-13",
        "2-15",
        "2-3",
        "2-4",
        "2-5",
        "2-6",
        "2-7",
        "2-8",
        "20-1",
        "20-12",
        "20-14",
        "20-15",
        "20-16",
        "20-18",
        "20-19",
        "20-20",
        "20-3",
        "20-4",
        "20-5",
        "20-7",
        "20-8",
        "3-1",
        "3-13",
        "3-18",
        "3-2",
        "3-8",
        "4-1",
        "4-10",
        "4-11",
        "5-1",
        "5-5",
        "6-1",
        "6-15",
        "6-6",
        "7-10",
        "7-11",
        "7-12",
        "7-13",
        "7-14",
        "7-7",
        "7-8",
        "7-9",
        "8-1",
        "8-13",
        "8-14",
        "8-18",
        "8-20",
        "8-3",
        "8-8",
        "9-1",
        "9-7"
       ],
       "num_examples_per_domain_per_label": -1,
       "pickle_path": "/mnt/wd500GB/CSC500/csc500-main/datasets/wisig.node3-19.stratified_ds.2022A.pkl",
       "source_or_target_dataset": "target",
       "x_transforms": [
        "unit_power",
        "take_200"
       ]
      },
      {
       "domain_prefix": "O_",
       "domains": [
        32,
        38,
        8,
        44,
        14,
        50,
        20,
        26
       ],
       "episode_transforms": [],
       "labels": [
        "3123D52",
        "3123D65",
        "3123D79",
        "3123D80",
        "3123D54",
        "3123D70",
        "3123D7B",
        "3123D89",
        "3123D58",
        "3123D76",
        "3123D7D",
        "3123EFE",
        "3123D64",
        "3123D78",
        "3123D7E",
        "3124E4A"
       ],
       "num_examples_per_domain_per_label": 2000,
       "pickle_path": "/mnt/wd500GB/CSC500/csc500-main/datasets/oracle.Run1_framed_2000Examples_stratified_ds.2022A.pkl",
       "source_or_target_dataset": "source",
       "x_transforms": [
        "unit_power",
        "take_200",
        "resample_20Msps_to_25Msps"
       ]
      }
     ],
     "device": "cuda",
     "experiment_name": "tl_3Av2:oracle.run1.framed -> cores+wisig",
     "lr": 0.0001,
     "n_epoch": 50,
     "n_query": 2,
     "n_shot": 3,
     "n_way": 16,
     "patience": 3,
     "seed": 1337,
     "test_k_factor": 2,
     "torch_default_dtype": "torch.float32",
     "train_k_factor": 3,
     "val_k_factor": 2,
     "x_net": [
      {
       "class": "nnReshape",
       "kargs": {
        "shape": [
         -1,
         1,
         2,
         200
        ]
       }
      },
      {
       "class": "Conv2d",
       "kargs": {
        "bias": false,
        "in_channels": 1,
        "kernel_size": [
         1,
         7
        ],
        "out_channels": 256,
        "padding": [
         0,
         3
        ]
       }
      },
      {
       "class": "ReLU",
       "kargs": {
        "inplace": true
       }
      },
      {
       "class": "BatchNorm2d",
       "kargs": {
        "num_features": 256
       }
      },
      {
       "class": "Conv2d",
       "kargs": {
        "bias": true,
        "in_channels": 256,
        "kernel_size": [
         2,
         7
        ],
        "out_channels": 80,
        "padding": [
         0,
         3
        ]
       }
      },
      {
       "class": "ReLU",
       "kargs": {
        "inplace": true
       }
      },
      {
       "class": "BatchNorm2d",
       "kargs": {
        "num_features": 80
       }
      },
      {
       "class": "Flatten",
       "kargs": {}
      },
      {
       "class": "Linear",
       "kargs": {
        "in_features": 16000,
        "out_features": 256
       }
      },
      {
       "class": "ReLU",
       "kargs": {
        "inplace": true
       }
      },
      {
       "class": "BatchNorm1d",
       "kargs": {
        "num_features": 256
       }
      },
      {
       "class": "Linear",
       "kargs": {
        "in_features": 256,
        "out_features": 256
       }
      }
     ],
     "x_shape": [
      2,
      200
     ]
    }
   },
   "start_time": "2022-03-20T20:55:18.661486",
   "version": "2.3.4"
  }
 },
 "nbformat": 4,
 "nbformat_minor": 5
}