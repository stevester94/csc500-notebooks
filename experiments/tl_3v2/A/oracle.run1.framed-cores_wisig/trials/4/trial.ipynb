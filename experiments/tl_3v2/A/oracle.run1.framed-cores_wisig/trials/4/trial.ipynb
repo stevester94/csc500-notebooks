{
 "cells": [
  {
   "cell_type": "markdown",
   "id": "9fea5f46",
   "metadata": {
    "papermill": {
     "duration": 0.0183,
     "end_time": "2022-03-20T23:22:51.754440",
     "exception": false,
     "start_time": "2022-03-20T23:22:51.736140",
     "status": "completed"
    },
    "tags": []
   },
   "source": [
    "# Transfer Learning Template"
   ]
  },
  {
   "cell_type": "code",
   "execution_count": 1,
   "id": "0902182a",
   "metadata": {
    "execution": {
     "iopub.execute_input": "2022-03-20T23:22:51.791829Z",
     "iopub.status.busy": "2022-03-20T23:22:51.791322Z",
     "iopub.status.idle": "2022-03-20T23:22:52.725956Z",
     "shell.execute_reply": "2022-03-20T23:22:52.725657Z"
    },
    "papermill": {
     "duration": 0.958914,
     "end_time": "2022-03-20T23:22:52.726026",
     "exception": false,
     "start_time": "2022-03-20T23:22:51.767112",
     "status": "completed"
    },
    "tags": []
   },
   "outputs": [],
   "source": [
    "%load_ext autoreload\n",
    "%autoreload 2\n",
    "%matplotlib inline\n",
    "\n",
    "    \n",
    "import os, json, sys, time, random\n",
    "import numpy as np\n",
    "import torch\n",
    "from torch.optim import Adam\n",
    "from  easydict import EasyDict\n",
    "import matplotlib.pyplot as plt\n",
    "\n",
    "from steves_models.steves_ptn import Steves_Prototypical_Network\n",
    "\n",
    "from steves_utils.lazy_iterable_wrapper import Lazy_Iterable_Wrapper\n",
    "from steves_utils.iterable_aggregator import Iterable_Aggregator\n",
    "from steves_utils.ptn_train_eval_test_jig import  PTN_Train_Eval_Test_Jig\n",
    "from steves_utils.torch_sequential_builder import build_sequential\n",
    "from steves_utils.torch_utils import get_dataset_metrics, ptn_confusion_by_domain_over_dataloader\n",
    "from steves_utils.utils_v2 import (per_domain_accuracy_from_confusion, get_datasets_base_path)\n",
    "from steves_utils.PTN.utils import independent_accuracy_assesment\n",
    "\n",
    "from torch.utils.data import DataLoader\n",
    "\n",
    "from steves_utils.stratified_dataset.episodic_accessor import Episodic_Accessor_Factory\n",
    "\n",
    "from steves_utils.ptn_do_report import (\n",
    "    get_loss_curve,\n",
    "    get_results_table,\n",
    "    get_parameters_table,\n",
    "    get_domain_accuracies,\n",
    ")\n",
    "\n",
    "from steves_utils.transforms import get_chained_transform"
   ]
  },
  {
   "cell_type": "markdown",
   "id": "41c840b4",
   "metadata": {
    "papermill": {
     "duration": 0.013203,
     "end_time": "2022-03-20T23:22:52.752967",
     "exception": false,
     "start_time": "2022-03-20T23:22:52.739764",
     "status": "completed"
    },
    "tags": []
   },
   "source": [
    "# Allowed Parameters\n",
    "These are allowed parameters, not defaults\n",
    "Each of these values need to be present in the injected parameters (the notebook will raise an exception if they are not present)\n",
    "\n",
    "Papermill uses the cell tag \"parameters\" to inject the real parameters below this cell.\n",
    "Enable tags to see what I mean"
   ]
  },
  {
   "cell_type": "code",
   "execution_count": 2,
   "id": "fd44eb83",
   "metadata": {
    "execution": {
     "iopub.execute_input": "2022-03-20T23:22:52.782534Z",
     "iopub.status.busy": "2022-03-20T23:22:52.782235Z",
     "iopub.status.idle": "2022-03-20T23:22:52.795907Z",
     "shell.execute_reply": "2022-03-20T23:22:52.795454Z"
    },
    "papermill": {
     "duration": 0.029805,
     "end_time": "2022-03-20T23:22:52.796003",
     "exception": false,
     "start_time": "2022-03-20T23:22:52.766198",
     "status": "completed"
    },
    "tags": []
   },
   "outputs": [],
   "source": [
    "required_parameters = {\n",
    "    \"experiment_name\",\n",
    "    \"lr\",\n",
    "    \"device\",\n",
    "    \"seed\",\n",
    "    \"dataset_seed\",\n",
    "    \"n_shot\",\n",
    "    \"n_query\",\n",
    "    \"n_way\",\n",
    "    \"train_k_factor\",\n",
    "    \"val_k_factor\",\n",
    "    \"test_k_factor\",\n",
    "    \"n_epoch\",\n",
    "    \"patience\",\n",
    "    \"criteria_for_best\",\n",
    "    \"x_net\",\n",
    "    \"datasets\",\n",
    "    \"torch_default_dtype\",\n",
    "    \"NUM_LOGS_PER_EPOCH\",\n",
    "    \"BEST_MODEL_PATH\",\n",
    "    \"x_shape\",\n",
    "}"
   ]
  },
  {
   "cell_type": "code",
   "execution_count": 3,
   "id": "fa3f0049",
   "metadata": {
    "execution": {
     "iopub.execute_input": "2022-03-20T23:22:52.833726Z",
     "iopub.status.busy": "2022-03-20T23:22:52.833368Z",
     "iopub.status.idle": "2022-03-20T23:22:52.844904Z",
     "shell.execute_reply": "2022-03-20T23:22:52.844694Z"
    },
    "papermill": {
     "duration": 0.030593,
     "end_time": "2022-03-20T23:22:52.844955",
     "exception": false,
     "start_time": "2022-03-20T23:22:52.814362",
     "status": "completed"
    },
    "tags": [
     "parameters"
    ]
   },
   "outputs": [],
   "source": [
    "from steves_utils.CORES.utils import (\n",
    "    ALL_NODES,\n",
    "    ALL_NODES_MINIMUM_1000_EXAMPLES,\n",
    "    ALL_DAYS\n",
    ")\n",
    "\n",
    "from steves_utils.ORACLE.utils_v2 import (\n",
    "    ALL_DISTANCES_FEET_NARROWED,\n",
    "    ALL_RUNS,\n",
    "    ALL_SERIAL_NUMBERS,\n",
    ")\n",
    "\n",
    "standalone_parameters = {}\n",
    "standalone_parameters[\"experiment_name\"] = \"STANDALONE PTN\"\n",
    "standalone_parameters[\"lr\"] = 0.001\n",
    "standalone_parameters[\"device\"] = \"cuda\"\n",
    "\n",
    "standalone_parameters[\"seed\"] = 1337\n",
    "standalone_parameters[\"dataset_seed\"] = 1337\n",
    "\n",
    "standalone_parameters[\"n_way\"] = 8\n",
    "standalone_parameters[\"n_shot\"] = 3\n",
    "standalone_parameters[\"n_query\"]  = 2\n",
    "standalone_parameters[\"train_k_factor\"] = 1\n",
    "standalone_parameters[\"val_k_factor\"] = 2\n",
    "standalone_parameters[\"test_k_factor\"] = 2\n",
    "\n",
    "\n",
    "standalone_parameters[\"n_epoch\"] = 50\n",
    "\n",
    "standalone_parameters[\"patience\"] = 10\n",
    "standalone_parameters[\"criteria_for_best\"] = \"source_loss\"\n",
    "\n",
    "standalone_parameters[\"datasets\"] = [\n",
    "    {\n",
    "        \"labels\": ALL_SERIAL_NUMBERS,\n",
    "        \"domains\": ALL_DISTANCES_FEET_NARROWED,\n",
    "        \"num_examples_per_domain_per_label\": 100,\n",
    "        \"pickle_path\": os.path.join(get_datasets_base_path(), \"oracle.Run1_framed_2000Examples_stratified_ds.2022A.pkl\"),\n",
    "        \"source_or_target_dataset\": \"source\",\n",
    "        \"x_transforms\": [\"unit_mag\", \"minus_two\"],\n",
    "        \"episode_transforms\": [],\n",
    "        \"domain_prefix\": \"ORACLE_\"\n",
    "    },\n",
    "    {\n",
    "        \"labels\": ALL_NODES,\n",
    "        \"domains\": ALL_DAYS,\n",
    "        \"num_examples_per_domain_per_label\": 100,\n",
    "        \"pickle_path\": os.path.join(get_datasets_base_path(), \"cores.stratified_ds.2022A.pkl\"),\n",
    "        \"source_or_target_dataset\": \"target\",\n",
    "        \"x_transforms\": [\"unit_power\", \"times_zero\"],\n",
    "        \"episode_transforms\": [],\n",
    "        \"domain_prefix\": \"CORES_\"\n",
    "    }   \n",
    "]\n",
    "\n",
    "standalone_parameters[\"torch_default_dtype\"] = \"torch.float32\" \n",
    "\n",
    "\n",
    "\n",
    "standalone_parameters[\"x_net\"] =     [\n",
    "    {\"class\": \"nnReshape\", \"kargs\": {\"shape\":[-1, 1, 2, 256]}},\n",
    "    {\"class\": \"Conv2d\", \"kargs\": { \"in_channels\":1, \"out_channels\":256, \"kernel_size\":(1,7), \"bias\":False, \"padding\":(0,3), },},\n",
    "    {\"class\": \"ReLU\", \"kargs\": {\"inplace\": True}},\n",
    "    {\"class\": \"BatchNorm2d\", \"kargs\": {\"num_features\":256}},\n",
    "\n",
    "    {\"class\": \"Conv2d\", \"kargs\": { \"in_channels\":256, \"out_channels\":80, \"kernel_size\":(2,7), \"bias\":True, \"padding\":(0,3), },},\n",
    "    {\"class\": \"ReLU\", \"kargs\": {\"inplace\": True}},\n",
    "    {\"class\": \"BatchNorm2d\", \"kargs\": {\"num_features\":80}},\n",
    "    {\"class\": \"Flatten\", \"kargs\": {}},\n",
    "\n",
    "    {\"class\": \"Linear\", \"kargs\": {\"in_features\": 80*256, \"out_features\": 256}}, # 80 units per IQ pair\n",
    "    {\"class\": \"ReLU\", \"kargs\": {\"inplace\": True}},\n",
    "    {\"class\": \"BatchNorm1d\", \"kargs\": {\"num_features\":256}},\n",
    "\n",
    "    {\"class\": \"Linear\", \"kargs\": {\"in_features\": 256, \"out_features\": 256}},\n",
    "]\n",
    "\n",
    "# Parameters relevant to results\n",
    "# These parameters will basically never need to change\n",
    "standalone_parameters[\"NUM_LOGS_PER_EPOCH\"] = 10\n",
    "standalone_parameters[\"BEST_MODEL_PATH\"] = \"./best_model.pth\"\n",
    "\n",
    "\n",
    "\n",
    "\n"
   ]
  },
  {
   "cell_type": "code",
   "execution_count": 4,
   "id": "286dc867",
   "metadata": {
    "execution": {
     "iopub.execute_input": "2022-03-20T23:22:52.883986Z",
     "iopub.status.busy": "2022-03-20T23:22:52.883529Z",
     "iopub.status.idle": "2022-03-20T23:22:52.896727Z",
     "shell.execute_reply": "2022-03-20T23:22:52.896337Z"
    },
    "papermill": {
     "duration": 0.039064,
     "end_time": "2022-03-20T23:22:52.896815",
     "exception": false,
     "start_time": "2022-03-20T23:22:52.857751",
     "status": "completed"
    },
    "tags": [
     "injected-parameters"
    ]
   },
   "outputs": [],
   "source": [
    "# Parameters\n",
    "parameters = {\n",
    "    \"experiment_name\": \"tl_3Av2:oracle.run1.framed -> cores+wisig\",\n",
    "    \"device\": \"cuda\",\n",
    "    \"lr\": 0.0001,\n",
    "    \"x_shape\": [2, 200],\n",
    "    \"n_shot\": 3,\n",
    "    \"n_query\": 2,\n",
    "    \"train_k_factor\": 3,\n",
    "    \"val_k_factor\": 2,\n",
    "    \"test_k_factor\": 2,\n",
    "    \"torch_default_dtype\": \"torch.float32\",\n",
    "    \"n_epoch\": 50,\n",
    "    \"patience\": 3,\n",
    "    \"criteria_for_best\": \"target_accuracy\",\n",
    "    \"x_net\": [\n",
    "        {\"class\": \"nnReshape\", \"kargs\": {\"shape\": [-1, 1, 2, 200]}},\n",
    "        {\n",
    "            \"class\": \"Conv2d\",\n",
    "            \"kargs\": {\n",
    "                \"in_channels\": 1,\n",
    "                \"out_channels\": 256,\n",
    "                \"kernel_size\": [1, 7],\n",
    "                \"bias\": False,\n",
    "                \"padding\": [0, 3],\n",
    "            },\n",
    "        },\n",
    "        {\"class\": \"ReLU\", \"kargs\": {\"inplace\": True}},\n",
    "        {\"class\": \"BatchNorm2d\", \"kargs\": {\"num_features\": 256}},\n",
    "        {\n",
    "            \"class\": \"Conv2d\",\n",
    "            \"kargs\": {\n",
    "                \"in_channels\": 256,\n",
    "                \"out_channels\": 80,\n",
    "                \"kernel_size\": [2, 7],\n",
    "                \"bias\": True,\n",
    "                \"padding\": [0, 3],\n",
    "            },\n",
    "        },\n",
    "        {\"class\": \"ReLU\", \"kargs\": {\"inplace\": True}},\n",
    "        {\"class\": \"BatchNorm2d\", \"kargs\": {\"num_features\": 80}},\n",
    "        {\"class\": \"Flatten\", \"kargs\": {}},\n",
    "        {\"class\": \"Linear\", \"kargs\": {\"in_features\": 16000, \"out_features\": 256}},\n",
    "        {\"class\": \"ReLU\", \"kargs\": {\"inplace\": True}},\n",
    "        {\"class\": \"BatchNorm1d\", \"kargs\": {\"num_features\": 256}},\n",
    "        {\"class\": \"Linear\", \"kargs\": {\"in_features\": 256, \"out_features\": 256}},\n",
    "    ],\n",
    "    \"NUM_LOGS_PER_EPOCH\": 10,\n",
    "    \"BEST_MODEL_PATH\": \"./best_model.pth\",\n",
    "    \"n_way\": 16,\n",
    "    \"datasets\": [\n",
    "        {\n",
    "            \"labels\": [\n",
    "                \"1-10.\",\n",
    "                \"1-11.\",\n",
    "                \"1-15.\",\n",
    "                \"1-16.\",\n",
    "                \"1-17.\",\n",
    "                \"1-18.\",\n",
    "                \"1-19.\",\n",
    "                \"10-4.\",\n",
    "                \"10-7.\",\n",
    "                \"11-1.\",\n",
    "                \"11-14.\",\n",
    "                \"11-17.\",\n",
    "                \"11-20.\",\n",
    "                \"11-7.\",\n",
    "                \"13-20.\",\n",
    "                \"13-8.\",\n",
    "                \"14-10.\",\n",
    "                \"14-11.\",\n",
    "                \"14-14.\",\n",
    "                \"14-7.\",\n",
    "                \"15-1.\",\n",
    "                \"15-20.\",\n",
    "                \"16-1.\",\n",
    "                \"16-16.\",\n",
    "                \"17-10.\",\n",
    "                \"17-11.\",\n",
    "                \"17-2.\",\n",
    "                \"19-1.\",\n",
    "                \"19-16.\",\n",
    "                \"19-19.\",\n",
    "                \"19-20.\",\n",
    "                \"19-3.\",\n",
    "                \"2-10.\",\n",
    "                \"2-11.\",\n",
    "                \"2-17.\",\n",
    "                \"2-18.\",\n",
    "                \"2-20.\",\n",
    "                \"2-3.\",\n",
    "                \"2-4.\",\n",
    "                \"2-5.\",\n",
    "                \"2-6.\",\n",
    "                \"2-7.\",\n",
    "                \"2-8.\",\n",
    "                \"3-13.\",\n",
    "                \"3-18.\",\n",
    "                \"3-3.\",\n",
    "                \"4-1.\",\n",
    "                \"4-10.\",\n",
    "                \"4-11.\",\n",
    "                \"4-19.\",\n",
    "                \"5-5.\",\n",
    "                \"6-15.\",\n",
    "                \"7-10.\",\n",
    "                \"7-14.\",\n",
    "                \"8-18.\",\n",
    "                \"8-20.\",\n",
    "                \"8-3.\",\n",
    "                \"8-8.\",\n",
    "            ],\n",
    "            \"domains\": [1, 2, 3, 4, 5],\n",
    "            \"num_examples_per_domain_per_label\": -1,\n",
    "            \"pickle_path\": \"/mnt/wd500GB/CSC500/csc500-main/datasets/cores.stratified_ds.2022A.pkl\",\n",
    "            \"source_or_target_dataset\": \"target\",\n",
    "            \"x_transforms\": [\"unit_mag\", \"take_200\"],\n",
    "            \"episode_transforms\": [],\n",
    "            \"domain_prefix\": \"C_\",\n",
    "        },\n",
    "        {\n",
    "            \"labels\": [\n",
    "                \"1-10\",\n",
    "                \"1-12\",\n",
    "                \"1-14\",\n",
    "                \"1-16\",\n",
    "                \"1-18\",\n",
    "                \"1-19\",\n",
    "                \"1-8\",\n",
    "                \"10-11\",\n",
    "                \"10-17\",\n",
    "                \"10-4\",\n",
    "                \"10-7\",\n",
    "                \"11-1\",\n",
    "                \"11-10\",\n",
    "                \"11-19\",\n",
    "                \"11-20\",\n",
    "                \"11-4\",\n",
    "                \"11-7\",\n",
    "                \"12-19\",\n",
    "                \"12-20\",\n",
    "                \"12-7\",\n",
    "                \"13-14\",\n",
    "                \"13-18\",\n",
    "                \"13-19\",\n",
    "                \"13-20\",\n",
    "                \"13-3\",\n",
    "                \"13-7\",\n",
    "                \"14-10\",\n",
    "                \"14-11\",\n",
    "                \"14-12\",\n",
    "                \"14-13\",\n",
    "                \"14-14\",\n",
    "                \"14-19\",\n",
    "                \"14-20\",\n",
    "                \"14-7\",\n",
    "                \"14-8\",\n",
    "                \"14-9\",\n",
    "                \"15-1\",\n",
    "                \"15-19\",\n",
    "                \"15-6\",\n",
    "                \"16-1\",\n",
    "                \"16-16\",\n",
    "                \"16-19\",\n",
    "                \"16-20\",\n",
    "                \"17-10\",\n",
    "                \"17-11\",\n",
    "                \"18-1\",\n",
    "                \"18-10\",\n",
    "                \"18-11\",\n",
    "                \"18-12\",\n",
    "                \"18-13\",\n",
    "                \"18-14\",\n",
    "                \"18-15\",\n",
    "                \"18-16\",\n",
    "                \"18-17\",\n",
    "                \"18-19\",\n",
    "                \"18-2\",\n",
    "                \"18-20\",\n",
    "                \"18-4\",\n",
    "                \"18-5\",\n",
    "                \"18-7\",\n",
    "                \"18-8\",\n",
    "                \"18-9\",\n",
    "                \"19-1\",\n",
    "                \"19-10\",\n",
    "                \"19-11\",\n",
    "                \"19-12\",\n",
    "                \"19-13\",\n",
    "                \"19-14\",\n",
    "                \"19-15\",\n",
    "                \"19-19\",\n",
    "                \"19-2\",\n",
    "                \"19-20\",\n",
    "                \"19-3\",\n",
    "                \"19-4\",\n",
    "                \"19-6\",\n",
    "                \"19-7\",\n",
    "                \"19-8\",\n",
    "                \"19-9\",\n",
    "                \"2-1\",\n",
    "                \"2-13\",\n",
    "                \"2-15\",\n",
    "                \"2-3\",\n",
    "                \"2-4\",\n",
    "                \"2-5\",\n",
    "                \"2-6\",\n",
    "                \"2-7\",\n",
    "                \"2-8\",\n",
    "                \"20-1\",\n",
    "                \"20-12\",\n",
    "                \"20-14\",\n",
    "                \"20-15\",\n",
    "                \"20-16\",\n",
    "                \"20-18\",\n",
    "                \"20-19\",\n",
    "                \"20-20\",\n",
    "                \"20-3\",\n",
    "                \"20-4\",\n",
    "                \"20-5\",\n",
    "                \"20-7\",\n",
    "                \"20-8\",\n",
    "                \"3-1\",\n",
    "                \"3-13\",\n",
    "                \"3-18\",\n",
    "                \"3-2\",\n",
    "                \"3-8\",\n",
    "                \"4-1\",\n",
    "                \"4-10\",\n",
    "                \"4-11\",\n",
    "                \"5-1\",\n",
    "                \"5-5\",\n",
    "                \"6-1\",\n",
    "                \"6-15\",\n",
    "                \"6-6\",\n",
    "                \"7-10\",\n",
    "                \"7-11\",\n",
    "                \"7-12\",\n",
    "                \"7-13\",\n",
    "                \"7-14\",\n",
    "                \"7-7\",\n",
    "                \"7-8\",\n",
    "                \"7-9\",\n",
    "                \"8-1\",\n",
    "                \"8-13\",\n",
    "                \"8-14\",\n",
    "                \"8-18\",\n",
    "                \"8-20\",\n",
    "                \"8-3\",\n",
    "                \"8-8\",\n",
    "                \"9-1\",\n",
    "                \"9-7\",\n",
    "            ],\n",
    "            \"domains\": [1, 2, 3, 4],\n",
    "            \"num_examples_per_domain_per_label\": -1,\n",
    "            \"pickle_path\": \"/mnt/wd500GB/CSC500/csc500-main/datasets/wisig.node3-19.stratified_ds.2022A.pkl\",\n",
    "            \"source_or_target_dataset\": \"target\",\n",
    "            \"x_transforms\": [\"unit_mag\", \"take_200\"],\n",
    "            \"episode_transforms\": [],\n",
    "            \"domain_prefix\": \"W_\",\n",
    "        },\n",
    "        {\n",
    "            \"labels\": [\n",
    "                \"3123D52\",\n",
    "                \"3123D65\",\n",
    "                \"3123D79\",\n",
    "                \"3123D80\",\n",
    "                \"3123D54\",\n",
    "                \"3123D70\",\n",
    "                \"3123D7B\",\n",
    "                \"3123D89\",\n",
    "                \"3123D58\",\n",
    "                \"3123D76\",\n",
    "                \"3123D7D\",\n",
    "                \"3123EFE\",\n",
    "                \"3123D64\",\n",
    "                \"3123D78\",\n",
    "                \"3123D7E\",\n",
    "                \"3124E4A\",\n",
    "            ],\n",
    "            \"domains\": [32, 38, 8, 44, 14, 50, 20, 26],\n",
    "            \"num_examples_per_domain_per_label\": 2000,\n",
    "            \"pickle_path\": \"/mnt/wd500GB/CSC500/csc500-main/datasets/oracle.Run1_framed_2000Examples_stratified_ds.2022A.pkl\",\n",
    "            \"source_or_target_dataset\": \"source\",\n",
    "            \"x_transforms\": [\"unit_mag\", \"take_200\", \"resample_20Msps_to_25Msps\"],\n",
    "            \"episode_transforms\": [],\n",
    "            \"domain_prefix\": \"O_\",\n",
    "        },\n",
    "    ],\n",
    "    \"seed\": 420,\n",
    "    \"dataset_seed\": 420,\n",
    "}\n"
   ]
  },
  {
   "cell_type": "code",
   "execution_count": 5,
   "id": "8fa1cc33",
   "metadata": {
    "execution": {
     "iopub.execute_input": "2022-03-20T23:22:52.935244Z",
     "iopub.status.busy": "2022-03-20T23:22:52.930680Z",
     "iopub.status.idle": "2022-03-20T23:22:52.943031Z",
     "shell.execute_reply": "2022-03-20T23:22:52.942681Z"
    },
    "papermill": {
     "duration": 0.029794,
     "end_time": "2022-03-20T23:22:52.943101",
     "exception": false,
     "start_time": "2022-03-20T23:22:52.913307",
     "status": "completed"
    },
    "tags": []
   },
   "outputs": [],
   "source": [
    "# Set this to True if you want to run this template directly\n",
    "STANDALONE = False\n",
    "if STANDALONE:\n",
    "    print(\"parameters not injected, running with standalone_parameters\")\n",
    "    parameters = standalone_parameters\n",
    "\n",
    "if not 'parameters' in locals() and not 'parameters' in globals():\n",
    "    raise Exception(\"Parameter injection failed\")\n",
    "\n",
    "#Use an easy dict for all the parameters\n",
    "p = EasyDict(parameters)\n",
    "\n",
    "if \"x_shape\" not in p:\n",
    "    p.x_shape = [2,256] # Default to this if we dont supply x_shape\n",
    "\n",
    "\n",
    "supplied_keys = set(p.keys())\n",
    "\n",
    "if  supplied_keys != required_parameters:\n",
    "    print(\"Parameters are incorrect\")\n",
    "    if len(supplied_keys - required_parameters)>0: print(\"Shouldn't have:\", str(supplied_keys - required_parameters))\n",
    "    if len(required_parameters - supplied_keys)>0: print(\"Need to have:\", str(required_parameters - supplied_keys))\n",
    "    raise RuntimeError(\"Parameters are incorrect\")"
   ]
  },
  {
   "cell_type": "code",
   "execution_count": 6,
   "id": "3a028d58",
   "metadata": {
    "execution": {
     "iopub.execute_input": "2022-03-20T23:22:52.974486Z",
     "iopub.status.busy": "2022-03-20T23:22:52.974239Z",
     "iopub.status.idle": "2022-03-20T23:22:52.984817Z",
     "shell.execute_reply": "2022-03-20T23:22:52.984370Z"
    },
    "papermill": {
     "duration": 0.024927,
     "end_time": "2022-03-20T23:22:52.984905",
     "exception": false,
     "start_time": "2022-03-20T23:22:52.959978",
     "status": "completed"
    },
    "tags": []
   },
   "outputs": [],
   "source": [
    "###################################\n",
    "# Set the RNGs and make it all deterministic\n",
    "###################################\n",
    "np.random.seed(p.seed)\n",
    "random.seed(p.seed)\n",
    "torch.manual_seed(p.seed)\n",
    "\n",
    "torch.use_deterministic_algorithms(True) "
   ]
  },
  {
   "cell_type": "code",
   "execution_count": 7,
   "id": "b691acf6",
   "metadata": {
    "execution": {
     "iopub.execute_input": "2022-03-20T23:22:53.023745Z",
     "iopub.status.busy": "2022-03-20T23:22:53.019568Z",
     "iopub.status.idle": "2022-03-20T23:22:53.033576Z",
     "shell.execute_reply": "2022-03-20T23:22:53.033087Z"
    },
    "papermill": {
     "duration": 0.030805,
     "end_time": "2022-03-20T23:22:53.033678",
     "exception": false,
     "start_time": "2022-03-20T23:22:53.002873",
     "status": "completed"
    },
    "tags": []
   },
   "outputs": [],
   "source": [
    "###########################################\n",
    "# The stratified datasets honor this\n",
    "###########################################\n",
    "torch.set_default_dtype(eval(p.torch_default_dtype))"
   ]
  },
  {
   "cell_type": "code",
   "execution_count": 8,
   "id": "b5fba671",
   "metadata": {
    "execution": {
     "iopub.execute_input": "2022-03-20T23:22:53.064920Z",
     "iopub.status.busy": "2022-03-20T23:22:53.064239Z",
     "iopub.status.idle": "2022-03-20T23:22:53.097962Z",
     "shell.execute_reply": "2022-03-20T23:22:53.098155Z"
    },
    "papermill": {
     "duration": 0.048177,
     "end_time": "2022-03-20T23:22:53.098215",
     "exception": false,
     "start_time": "2022-03-20T23:22:53.050038",
     "status": "completed"
    },
    "tags": []
   },
   "outputs": [],
   "source": [
    "###################################\n",
    "# Build the network(s)\n",
    "# Note: It's critical to do this AFTER setting the RNG\n",
    "###################################\n",
    "x_net = build_sequential(p.x_net)"
   ]
  },
  {
   "cell_type": "code",
   "execution_count": 9,
   "id": "5d7e61cc",
   "metadata": {
    "execution": {
     "iopub.execute_input": "2022-03-20T23:22:53.127001Z",
     "iopub.status.busy": "2022-03-20T23:22:53.126061Z",
     "iopub.status.idle": "2022-03-20T23:22:53.140067Z",
     "shell.execute_reply": "2022-03-20T23:22:53.139758Z"
    },
    "papermill": {
     "duration": 0.028861,
     "end_time": "2022-03-20T23:22:53.140135",
     "exception": false,
     "start_time": "2022-03-20T23:22:53.111274",
     "status": "completed"
    },
    "tags": []
   },
   "outputs": [],
   "source": [
    "start_time_secs = time.time()"
   ]
  },
  {
   "cell_type": "code",
   "execution_count": 10,
   "id": "c6b67dfd",
   "metadata": {
    "execution": {
     "iopub.execute_input": "2022-03-20T23:22:53.175145Z",
     "iopub.status.busy": "2022-03-20T23:22:53.173274Z",
     "iopub.status.idle": "2022-03-20T23:22:53.187051Z",
     "shell.execute_reply": "2022-03-20T23:22:53.186754Z"
    },
    "papermill": {
     "duration": 0.027963,
     "end_time": "2022-03-20T23:22:53.187122",
     "exception": false,
     "start_time": "2022-03-20T23:22:53.159159",
     "status": "completed"
    },
    "tags": []
   },
   "outputs": [],
   "source": [
    "p.domains_source = []\n",
    "p.domains_target = []\n",
    "\n",
    "\n",
    "train_original_source = []\n",
    "val_original_source   = []\n",
    "test_original_source  = []\n",
    "\n",
    "train_original_target = []\n",
    "val_original_target   = []\n",
    "test_original_target  = []"
   ]
  },
  {
   "cell_type": "code",
   "execution_count": 11,
   "id": "e3d9c3d3",
   "metadata": {
    "execution": {
     "iopub.execute_input": "2022-03-20T23:22:53.222770Z",
     "iopub.status.busy": "2022-03-20T23:22:53.222514Z",
     "iopub.status.idle": "2022-03-20T23:22:53.236764Z",
     "shell.execute_reply": "2022-03-20T23:22:53.236304Z"
    },
    "papermill": {
     "duration": 0.029175,
     "end_time": "2022-03-20T23:22:53.236867",
     "exception": false,
     "start_time": "2022-03-20T23:22:53.207692",
     "status": "completed"
    },
    "tags": []
   },
   "outputs": [],
   "source": [
    "# global_x_transform_func = lambda x: normalize(x.to(torch.get_default_dtype()), \"unit_power\") # unit_power, unit_mag\n",
    "# global_x_transform_func = lambda x: normalize(x, \"unit_power\") # unit_power, unit_mag"
   ]
  },
  {
   "cell_type": "code",
   "execution_count": 12,
   "id": "acb78fd2",
   "metadata": {
    "execution": {
     "iopub.execute_input": "2022-03-20T23:22:53.280480Z",
     "iopub.status.busy": "2022-03-20T23:22:53.270301Z",
     "iopub.status.idle": "2022-03-20T23:22:53.287596Z",
     "shell.execute_reply": "2022-03-20T23:22:53.287278Z"
    },
    "papermill": {
     "duration": 0.031696,
     "end_time": "2022-03-20T23:22:53.287666",
     "exception": false,
     "start_time": "2022-03-20T23:22:53.255970",
     "status": "completed"
    },
    "tags": []
   },
   "outputs": [],
   "source": [
    "def add_dataset(\n",
    "    labels,\n",
    "    domains,\n",
    "    pickle_path,\n",
    "    x_transforms,\n",
    "    episode_transforms,\n",
    "    domain_prefix,\n",
    "    num_examples_per_domain_per_label,\n",
    "    source_or_target_dataset:str,\n",
    "    iterator_seed=p.seed,\n",
    "    dataset_seed=p.dataset_seed,\n",
    "    n_shot=p.n_shot,\n",
    "    n_way=p.n_way,\n",
    "    n_query=p.n_query,\n",
    "    train_val_test_k_factors=(p.train_k_factor,p.val_k_factor,p.test_k_factor),\n",
    "):\n",
    "   \n",
    "    if x_transforms == []: x_transform = None\n",
    "    else: x_transform = get_chained_transform(x_transforms)\n",
    "    \n",
    "    if episode_transforms == []: episode_transform = None\n",
    "    else: raise Exception(\"episode_transforms not implemented\")\n",
    "    \n",
    "    episode_transform = lambda tup, _prefix=domain_prefix: (_prefix + str(tup[0]), tup[1])\n",
    "\n",
    "\n",
    "    eaf = Episodic_Accessor_Factory(\n",
    "        labels=labels,\n",
    "        domains=domains,\n",
    "        num_examples_per_domain_per_label=num_examples_per_domain_per_label,\n",
    "        iterator_seed=iterator_seed,\n",
    "        dataset_seed=dataset_seed,\n",
    "        n_shot=n_shot,\n",
    "        n_way=n_way,\n",
    "        n_query=n_query,\n",
    "        train_val_test_k_factors=train_val_test_k_factors,\n",
    "        pickle_path=pickle_path,\n",
    "        x_transform_func=x_transform,\n",
    "    )\n",
    "\n",
    "    train, val, test = eaf.get_train(), eaf.get_val(), eaf.get_test()\n",
    "    train = Lazy_Iterable_Wrapper(train, episode_transform)\n",
    "    val = Lazy_Iterable_Wrapper(val, episode_transform)\n",
    "    test = Lazy_Iterable_Wrapper(test, episode_transform)\n",
    "\n",
    "    if source_or_target_dataset==\"source\":\n",
    "        train_original_source.append(train)\n",
    "        val_original_source.append(val)\n",
    "        test_original_source.append(test)\n",
    "\n",
    "        p.domains_source.extend(\n",
    "            [domain_prefix + str(u) for u in domains]\n",
    "        )\n",
    "    elif source_or_target_dataset==\"target\":\n",
    "        train_original_target.append(train)\n",
    "        val_original_target.append(val)\n",
    "        test_original_target.append(test)\n",
    "        p.domains_target.extend(\n",
    "            [domain_prefix + str(u) for u in domains]\n",
    "        )\n",
    "    else:\n",
    "        raise Exception(f\"invalid source_or_target_dataset: {source_or_target_dataset}\")\n",
    "    "
   ]
  },
  {
   "cell_type": "code",
   "execution_count": 13,
   "id": "fe266617",
   "metadata": {
    "execution": {
     "iopub.execute_input": "2022-03-20T23:22:53.318805Z",
     "iopub.status.busy": "2022-03-20T23:22:53.318496Z",
     "iopub.status.idle": "2022-03-20T23:24:00.788932Z",
     "shell.execute_reply": "2022-03-20T23:24:00.788675Z"
    },
    "papermill": {
     "duration": 67.485674,
     "end_time": "2022-03-20T23:24:00.788996",
     "exception": false,
     "start_time": "2022-03-20T23:22:53.303322",
     "status": "completed"
    },
    "tags": []
   },
   "outputs": [],
   "source": [
    "for ds in p.datasets:\n",
    "    add_dataset(**ds)"
   ]
  },
  {
   "cell_type": "code",
   "execution_count": 14,
   "id": "b90d65ac",
   "metadata": {
    "execution": {
     "iopub.execute_input": "2022-03-20T23:24:00.848751Z",
     "iopub.status.busy": "2022-03-20T23:24:00.844589Z",
     "iopub.status.idle": "2022-03-20T23:24:00.856979Z",
     "shell.execute_reply": "2022-03-20T23:24:00.857273Z"
    },
    "papermill": {
     "duration": 0.029059,
     "end_time": "2022-03-20T23:24:00.857361",
     "exception": false,
     "start_time": "2022-03-20T23:24:00.828302",
     "status": "completed"
    },
    "tags": []
   },
   "outputs": [],
   "source": [
    "# from steves_utils.CORES.utils import (\n",
    "#     ALL_NODES,\n",
    "#     ALL_NODES_MINIMUM_1000_EXAMPLES,\n",
    "#     ALL_DAYS\n",
    "# )\n",
    "\n",
    "# add_dataset(\n",
    "#     labels=ALL_NODES,\n",
    "#     domains = ALL_DAYS,\n",
    "#     num_examples_per_domain_per_label=100,\n",
    "#     pickle_path=os.path.join(get_datasets_base_path(), \"cores.stratified_ds.2022A.pkl\"),\n",
    "#     source_or_target_dataset=\"target\",\n",
    "#     x_transform_func=global_x_transform_func,\n",
    "#     domain_modifier=lambda u: f\"cores_{u}\"\n",
    "# )"
   ]
  },
  {
   "cell_type": "code",
   "execution_count": 15,
   "id": "76db484d",
   "metadata": {
    "execution": {
     "iopub.execute_input": "2022-03-20T23:24:00.891576Z",
     "iopub.status.busy": "2022-03-20T23:24:00.890576Z",
     "iopub.status.idle": "2022-03-20T23:24:00.905988Z",
     "shell.execute_reply": "2022-03-20T23:24:00.905530Z"
    },
    "papermill": {
     "duration": 0.030829,
     "end_time": "2022-03-20T23:24:00.906092",
     "exception": false,
     "start_time": "2022-03-20T23:24:00.875263",
     "status": "completed"
    },
    "tags": []
   },
   "outputs": [],
   "source": [
    "# from steves_utils.ORACLE.utils_v2 import (\n",
    "#     ALL_DISTANCES_FEET,\n",
    "#     ALL_RUNS,\n",
    "#     ALL_SERIAL_NUMBERS,\n",
    "# )\n",
    "\n",
    "\n",
    "# add_dataset(\n",
    "#     labels=ALL_SERIAL_NUMBERS,\n",
    "#     domains = list(set(ALL_DISTANCES_FEET) - {2,62}),\n",
    "#     num_examples_per_domain_per_label=100,\n",
    "#     pickle_path=os.path.join(get_datasets_base_path(), \"oracle.Run2_framed_2000Examples_stratified_ds.2022A.pkl\"),\n",
    "#     source_or_target_dataset=\"source\",\n",
    "#     x_transform_func=global_x_transform_func,\n",
    "#     domain_modifier=lambda u: f\"oracle1_{u}\"\n",
    "# )\n"
   ]
  },
  {
   "cell_type": "code",
   "execution_count": 16,
   "id": "97dea9d2",
   "metadata": {
    "execution": {
     "iopub.execute_input": "2022-03-20T23:24:00.939780Z",
     "iopub.status.busy": "2022-03-20T23:24:00.939519Z",
     "iopub.status.idle": "2022-03-20T23:24:00.950320Z",
     "shell.execute_reply": "2022-03-20T23:24:00.950007Z"
    },
    "papermill": {
     "duration": 0.026027,
     "end_time": "2022-03-20T23:24:00.950390",
     "exception": false,
     "start_time": "2022-03-20T23:24:00.924363",
     "status": "completed"
    },
    "tags": []
   },
   "outputs": [],
   "source": [
    "# from steves_utils.ORACLE.utils_v2 import (\n",
    "#     ALL_DISTANCES_FEET,\n",
    "#     ALL_RUNS,\n",
    "#     ALL_SERIAL_NUMBERS,\n",
    "# )\n",
    "\n",
    "\n",
    "# add_dataset(\n",
    "#     labels=ALL_SERIAL_NUMBERS,\n",
    "#     domains = list(set(ALL_DISTANCES_FEET) - {2,62,56}),\n",
    "#     num_examples_per_domain_per_label=100,\n",
    "#     pickle_path=os.path.join(get_datasets_base_path(), \"oracle.Run2_framed_2000Examples_stratified_ds.2022A.pkl\"),\n",
    "#     source_or_target_dataset=\"source\",\n",
    "#     x_transform_func=global_x_transform_func,\n",
    "#     domain_modifier=lambda u: f\"oracle2_{u}\"\n",
    "# )"
   ]
  },
  {
   "cell_type": "code",
   "execution_count": 17,
   "id": "6f289866",
   "metadata": {
    "execution": {
     "iopub.execute_input": "2022-03-20T23:24:00.988800Z",
     "iopub.status.busy": "2022-03-20T23:24:00.983893Z",
     "iopub.status.idle": "2022-03-20T23:24:00.998783Z",
     "shell.execute_reply": "2022-03-20T23:24:00.998329Z"
    },
    "papermill": {
     "duration": 0.030589,
     "end_time": "2022-03-20T23:24:00.998885",
     "exception": false,
     "start_time": "2022-03-20T23:24:00.968296",
     "status": "completed"
    },
    "tags": []
   },
   "outputs": [],
   "source": [
    "# add_dataset(\n",
    "#     labels=list(range(19)),\n",
    "#     domains = [0,1,2],\n",
    "#     num_examples_per_domain_per_label=100,\n",
    "#     pickle_path=os.path.join(get_datasets_base_path(), \"metehan.stratified_ds.2022A.pkl\"),\n",
    "#     source_or_target_dataset=\"target\",\n",
    "#     x_transform_func=global_x_transform_func,\n",
    "#     domain_modifier=lambda u: f\"met_{u}\"\n",
    "# )"
   ]
  },
  {
   "cell_type": "code",
   "execution_count": 18,
   "id": "86a863c3",
   "metadata": {
    "execution": {
     "iopub.execute_input": "2022-03-20T23:24:01.041474Z",
     "iopub.status.busy": "2022-03-20T23:24:01.041217Z",
     "iopub.status.idle": "2022-03-20T23:24:01.047657Z",
     "shell.execute_reply": "2022-03-20T23:24:01.047167Z"
    },
    "papermill": {
     "duration": 0.030639,
     "end_time": "2022-03-20T23:24:01.047752",
     "exception": false,
     "start_time": "2022-03-20T23:24:01.017113",
     "status": "completed"
    },
    "tags": []
   },
   "outputs": [],
   "source": [
    "# # from steves_utils.wisig.utils import (\n",
    "# #     ALL_NODES_MINIMUM_100_EXAMPLES,\n",
    "# #     ALL_NODES_MINIMUM_500_EXAMPLES,\n",
    "# #     ALL_NODES_MINIMUM_1000_EXAMPLES,\n",
    "# #     ALL_DAYS\n",
    "# # )\n",
    "\n",
    "# import steves_utils.wisig.utils as wisig\n",
    "\n",
    "\n",
    "# add_dataset(\n",
    "#     labels=wisig.ALL_NODES_MINIMUM_100_EXAMPLES,\n",
    "#     domains = wisig.ALL_DAYS,\n",
    "#     num_examples_per_domain_per_label=100,\n",
    "#     pickle_path=os.path.join(get_datasets_base_path(), \"wisig.node3-19.stratified_ds.2022A.pkl\"),\n",
    "#     source_or_target_dataset=\"target\",\n",
    "#     x_transform_func=global_x_transform_func,\n",
    "#     domain_modifier=lambda u: f\"wisig_{u}\"\n",
    "# )"
   ]
  },
  {
   "cell_type": "code",
   "execution_count": 19,
   "id": "fd5442bc",
   "metadata": {
    "execution": {
     "iopub.execute_input": "2022-03-20T23:24:01.092782Z",
     "iopub.status.busy": "2022-03-20T23:24:01.083303Z",
     "iopub.status.idle": "2022-03-20T23:24:01.101297Z",
     "shell.execute_reply": "2022-03-20T23:24:01.100782Z"
    },
    "papermill": {
     "duration": 0.033032,
     "end_time": "2022-03-20T23:24:01.101401",
     "exception": false,
     "start_time": "2022-03-20T23:24:01.068369",
     "status": "completed"
    },
    "tags": []
   },
   "outputs": [],
   "source": [
    "###################################\n",
    "# Build the dataset\n",
    "###################################\n",
    "train_original_source = Iterable_Aggregator(train_original_source, p.seed)\n",
    "val_original_source = Iterable_Aggregator(val_original_source, p.seed)\n",
    "test_original_source = Iterable_Aggregator(test_original_source, p.seed)\n",
    "\n",
    "\n",
    "train_original_target = Iterable_Aggregator(train_original_target, p.seed)\n",
    "val_original_target = Iterable_Aggregator(val_original_target, p.seed)\n",
    "test_original_target = Iterable_Aggregator(test_original_target, p.seed)\n",
    "\n",
    "# For CNN We only use X and Y. And we only train on the source.\n",
    "# Properly form the data using a transform lambda and Lazy_Iterable_Wrapper. Finally wrap them in a dataloader\n",
    "\n",
    "transform_lambda = lambda ex: ex[1] # Original is (<domain>, <episode>) so we strip down to episode only\n",
    "\n",
    "train_processed_source = Lazy_Iterable_Wrapper(train_original_source, transform_lambda)\n",
    "val_processed_source   = Lazy_Iterable_Wrapper(val_original_source, transform_lambda)\n",
    "test_processed_source  = Lazy_Iterable_Wrapper(test_original_source, transform_lambda)\n",
    "\n",
    "train_processed_target = Lazy_Iterable_Wrapper(train_original_target, transform_lambda)\n",
    "val_processed_target   = Lazy_Iterable_Wrapper(val_original_target, transform_lambda)\n",
    "test_processed_target  = Lazy_Iterable_Wrapper(test_original_target, transform_lambda)\n",
    "\n",
    "datasets = EasyDict({\n",
    "    \"source\": {\n",
    "        \"original\": {\"train\":train_original_source, \"val\":val_original_source, \"test\":test_original_source},\n",
    "        \"processed\": {\"train\":train_processed_source, \"val\":val_processed_source, \"test\":test_processed_source}\n",
    "    },\n",
    "    \"target\": {\n",
    "        \"original\": {\"train\":train_original_target, \"val\":val_original_target, \"test\":test_original_target},\n",
    "        \"processed\": {\"train\":train_processed_target, \"val\":val_processed_target, \"test\":test_processed_target}\n",
    "    },\n",
    "})"
   ]
  },
  {
   "cell_type": "code",
   "execution_count": 20,
   "id": "5b3c01fc",
   "metadata": {
    "execution": {
     "iopub.execute_input": "2022-03-20T23:24:01.137113Z",
     "iopub.status.busy": "2022-03-20T23:24:01.136635Z",
     "iopub.status.idle": "2022-03-20T23:24:09.765833Z",
     "shell.execute_reply": "2022-03-20T23:24:09.766299Z"
    },
    "papermill": {
     "duration": 8.645921,
     "end_time": "2022-03-20T23:24:09.766409",
     "exception": false,
     "start_time": "2022-03-20T23:24:01.120488",
     "status": "completed"
    },
    "tags": []
   },
   "outputs": [
    {
     "name": "stdout",
     "output_type": "stream",
     "text": [
      "{'O_50', 'O_38', 'O_14', 'O_32', 'O_44', 'O_26', 'O_20', 'O_8'}\n"
     ]
    },
    {
     "name": "stdout",
     "output_type": "stream",
     "text": [
      "{'W_2', 'C_4', 'C_5', 'W_1', 'C_2', 'W_3', 'W_4', 'C_3', 'C_1'}\n"
     ]
    },
    {
     "name": "stdout",
     "output_type": "stream",
     "text": [
      "tensor([[[ 0.6771,  0.6049, -0.6388,  ...,  0.1252, -1.1136,  0.0521],\n",
      "         [ 0.1621,  1.3147,  0.4124,  ...,  0.8546,  0.6386,  0.8458]],\n",
      "\n",
      "        [[-0.6997,  0.2883,  0.8559,  ...,  0.5130,  1.2371,  0.6823],\n",
      "         [-0.5248, -1.3202,  0.2191,  ..., -0.5431,  0.3696, -0.6693]],\n",
      "\n",
      "        [[-0.0389,  1.1807,  0.4981,  ...,  0.8179,  0.4623,  0.8006],\n",
      "         [-0.6127, -0.4203,  0.7069,  ...,  0.0047,  1.1766,  0.0143]],\n",
      "\n",
      "        ...,\n",
      "\n",
      "        [[ 0.7358,  0.4660, -0.7318,  ..., -0.0115, -1.2610, -0.1188],\n",
      "         [ 0.1727,  1.1991,  0.2903,  ...,  0.8442,  0.6025,  1.0250]],\n",
      "\n",
      "        [[ 0.9985,  0.7848, -1.0215,  ..., -0.1714, -0.3680,  1.0334],\n",
      "         [ 0.1019,  0.8947,  0.2864,  ...,  0.9916,  0.8126,  0.6934]],\n",
      "\n",
      "        [[ 0.8913,  0.9787, -0.7169,  ...,  0.5588,  0.5193,  1.2103],\n",
      "         [-0.7172,  0.1559,  1.1444,  ...,  1.0353,  0.5671, -0.4114]]])\n"
     ]
    }
   ],
   "source": [
    "from steves_utils.transforms import get_average_magnitude, get_average_power\n",
    "\n",
    "print(set([u for u,_ in val_original_source]))\n",
    "print(set([u for u,_ in val_original_target]))\n",
    "\n",
    "s_x, s_y, q_x, q_y, _ = next(iter(train_processed_source))\n",
    "print(s_x)\n",
    "\n",
    "# for ds in [\n",
    "#     train_processed_source,\n",
    "#     val_processed_source,\n",
    "#     test_processed_source,\n",
    "#     train_processed_target,\n",
    "#     val_processed_target,\n",
    "#     test_processed_target\n",
    "# ]:\n",
    "#     for s_x, s_y, q_x, q_y, _ in ds:\n",
    "#         for X in (s_x, q_x):\n",
    "#             for x in X:\n",
    "#                 assert np.isclose(get_average_magnitude(x.numpy()), 1.0)\n",
    "#                 assert np.isclose(get_average_power(x.numpy()), 1.0)\n",
    "                "
   ]
  },
  {
   "cell_type": "code",
   "execution_count": 21,
   "id": "bbdacba1",
   "metadata": {
    "execution": {
     "iopub.execute_input": "2022-03-20T23:24:09.806395Z",
     "iopub.status.busy": "2022-03-20T23:24:09.806116Z",
     "iopub.status.idle": "2022-03-20T23:24:09.856200Z",
     "shell.execute_reply": "2022-03-20T23:24:09.856572Z"
    },
    "papermill": {
     "duration": 0.068445,
     "end_time": "2022-03-20T23:24:09.856682",
     "exception": false,
     "start_time": "2022-03-20T23:24:09.788237",
     "status": "completed"
    },
    "tags": []
   },
   "outputs": [
    {
     "name": "stdout",
     "output_type": "stream",
     "text": [
      "(2, 200)\n"
     ]
    }
   ],
   "source": [
    "###################################\n",
    "# Build the model\n",
    "###################################\n",
    "# easfsl only wants a tuple for the shape\n",
    "model = Steves_Prototypical_Network(x_net, device=p.device, x_shape=tuple(p.x_shape))\n",
    "optimizer = Adam(params=model.parameters(), lr=p.lr)"
   ]
  },
  {
   "cell_type": "code",
   "execution_count": 22,
   "id": "22b39ac5",
   "metadata": {
    "execution": {
     "iopub.execute_input": "2022-03-20T23:24:09.894434Z",
     "iopub.status.busy": "2022-03-20T23:24:09.894155Z",
     "iopub.status.idle": "2022-03-21T00:02:55.753964Z",
     "shell.execute_reply": "2022-03-21T00:02:55.753730Z"
    },
    "papermill": {
     "duration": 2325.877509,
     "end_time": "2022-03-21T00:02:55.754024",
     "exception": false,
     "start_time": "2022-03-20T23:24:09.876515",
     "status": "completed"
    },
    "tags": []
   },
   "outputs": [
    {
     "name": "stdout",
     "output_type": "stream",
     "text": [
      "epoch: 1, [batch: 1 / 6720], examples_per_second: 47.6029, train_label_loss: 3.0152, \n"
     ]
    },
    {
     "name": "stdout",
     "output_type": "stream",
     "text": [
      "epoch: 1, [batch: 672 / 6720], examples_per_second: 3730.4454, train_label_loss: 1.2246, \n"
     ]
    },
    {
     "name": "stdout",
     "output_type": "stream",
     "text": [
      "epoch: 1, [batch: 1344 / 6720], examples_per_second: 3749.8984, train_label_loss: 1.1293, \n"
     ]
    },
    {
     "name": "stdout",
     "output_type": "stream",
     "text": [
      "epoch: 1, [batch: 2016 / 6720], examples_per_second: 3734.0917, train_label_loss: 1.1958, \n"
     ]
    },
    {
     "name": "stdout",
     "output_type": "stream",
     "text": [
      "epoch: 1, [batch: 2688 / 6720], examples_per_second: 3721.4161, train_label_loss: 0.8033, \n"
     ]
    },
    {
     "name": "stdout",
     "output_type": "stream",
     "text": [
      "epoch: 1, [batch: 3360 / 6720], examples_per_second: 3736.8233, train_label_loss: 0.9844, \n"
     ]
    },
    {
     "name": "stdout",
     "output_type": "stream",
     "text": [
      "epoch: 1, [batch: 4032 / 6720], examples_per_second: 3721.6215, train_label_loss: 1.0189, \n"
     ]
    },
    {
     "name": "stdout",
     "output_type": "stream",
     "text": [
      "epoch: 1, [batch: 4704 / 6720], examples_per_second: 3720.8480, train_label_loss: 0.7830, \n"
     ]
    },
    {
     "name": "stdout",
     "output_type": "stream",
     "text": [
      "epoch: 1, [batch: 5376 / 6720], examples_per_second: 3736.2458, train_label_loss: 1.3285, \n"
     ]
    },
    {
     "name": "stdout",
     "output_type": "stream",
     "text": [
      "epoch: 1, [batch: 6048 / 6720], examples_per_second: 3732.0248, train_label_loss: 0.6079, \n"
     ]
    },
    {
     "name": "stdout",
     "output_type": "stream",
     "text": [
      "=============================================================\n",
      "epoch: 1, source_val_acc_label: 0.6949, target_val_acc_label: 0.4085, source_val_label_loss: 7.0762, target_val_label_loss: 1932.6660, \n",
      "=============================================================\n"
     ]
    },
    {
     "name": "stdout",
     "output_type": "stream",
     "text": [
      "New best\n"
     ]
    },
    {
     "name": "stdout",
     "output_type": "stream",
     "text": [
      "epoch: 2, [batch: 1 / 6720], examples_per_second: 4.4015, train_label_loss: 1.3049, \n"
     ]
    },
    {
     "name": "stdout",
     "output_type": "stream",
     "text": [
      "epoch: 2, [batch: 672 / 6720], examples_per_second: 3721.2097, train_label_loss: 1.0525, \n"
     ]
    },
    {
     "name": "stdout",
     "output_type": "stream",
     "text": [
      "epoch: 2, [batch: 1344 / 6720], examples_per_second: 3743.1608, train_label_loss: 0.7563, \n"
     ]
    },
    {
     "name": "stdout",
     "output_type": "stream",
     "text": [
      "epoch: 2, [batch: 2016 / 6720], examples_per_second: 3768.8863, train_label_loss: 0.7832, \n"
     ]
    },
    {
     "name": "stdout",
     "output_type": "stream",
     "text": [
      "epoch: 2, [batch: 2688 / 6720], examples_per_second: 3739.2339, train_label_loss: 0.9003, \n"
     ]
    },
    {
     "name": "stdout",
     "output_type": "stream",
     "text": [
      "epoch: 2, [batch: 3360 / 6720], examples_per_second: 3743.6284, train_label_loss: 0.6903, \n"
     ]
    },
    {
     "name": "stdout",
     "output_type": "stream",
     "text": [
      "epoch: 2, [batch: 4032 / 6720], examples_per_second: 3712.1108, train_label_loss: 0.5531, \n"
     ]
    },
    {
     "name": "stdout",
     "output_type": "stream",
     "text": [
      "epoch: 2, [batch: 4704 / 6720], examples_per_second: 3702.6596, train_label_loss: 0.8903, \n"
     ]
    },
    {
     "name": "stdout",
     "output_type": "stream",
     "text": [
      "epoch: 2, [batch: 5376 / 6720], examples_per_second: 3717.8323, train_label_loss: 1.1247, \n"
     ]
    },
    {
     "name": "stdout",
     "output_type": "stream",
     "text": [
      "epoch: 2, [batch: 6048 / 6720], examples_per_second: 3738.9826, train_label_loss: 0.5001, \n"
     ]
    },
    {
     "name": "stdout",
     "output_type": "stream",
     "text": [
      "=============================================================\n",
      "epoch: 2, source_val_acc_label: 0.7409, target_val_acc_label: 0.5924, source_val_label_loss: 0.7030, target_val_label_loss: 345.9818, \n",
      "=============================================================\n"
     ]
    },
    {
     "name": "stdout",
     "output_type": "stream",
     "text": [
      "New best\n"
     ]
    },
    {
     "name": "stdout",
     "output_type": "stream",
     "text": [
      "epoch: 3, [batch: 1 / 6720], examples_per_second: 4.4131, train_label_loss: 0.4318, \n"
     ]
    },
    {
     "name": "stdout",
     "output_type": "stream",
     "text": [
      "epoch: 3, [batch: 672 / 6720], examples_per_second: 3692.1123, train_label_loss: 0.8878, \n"
     ]
    },
    {
     "name": "stdout",
     "output_type": "stream",
     "text": [
      "epoch: 3, [batch: 1344 / 6720], examples_per_second: 3741.9247, train_label_loss: 1.0227, \n"
     ]
    },
    {
     "name": "stdout",
     "output_type": "stream",
     "text": [
      "epoch: 3, [batch: 2016 / 6720], examples_per_second: 3745.5581, train_label_loss: 0.5387, \n"
     ]
    },
    {
     "name": "stdout",
     "output_type": "stream",
     "text": [
      "epoch: 3, [batch: 2688 / 6720], examples_per_second: 3720.9331, train_label_loss: 0.5925, \n"
     ]
    },
    {
     "name": "stdout",
     "output_type": "stream",
     "text": [
      "epoch: 3, [batch: 3360 / 6720], examples_per_second: 3743.5624, train_label_loss: 0.7113, \n"
     ]
    },
    {
     "name": "stdout",
     "output_type": "stream",
     "text": [
      "epoch: 3, [batch: 4032 / 6720], examples_per_second: 3738.9543, train_label_loss: 0.3715, \n"
     ]
    },
    {
     "name": "stdout",
     "output_type": "stream",
     "text": [
      "epoch: 3, [batch: 4704 / 6720], examples_per_second: 3725.7392, train_label_loss: 0.4580, \n"
     ]
    },
    {
     "name": "stdout",
     "output_type": "stream",
     "text": [
      "epoch: 3, [batch: 5376 / 6720], examples_per_second: 3745.9322, train_label_loss: 0.4673, \n"
     ]
    },
    {
     "name": "stdout",
     "output_type": "stream",
     "text": [
      "epoch: 3, [batch: 6048 / 6720], examples_per_second: 3748.0032, train_label_loss: 0.3535, \n"
     ]
    },
    {
     "name": "stdout",
     "output_type": "stream",
     "text": [
      "=============================================================\n",
      "epoch: 3, source_val_acc_label: 0.7862, target_val_acc_label: 0.5911, source_val_label_loss: 0.5945, target_val_label_loss: 448.1808, \n",
      "=============================================================\n"
     ]
    },
    {
     "name": "stdout",
     "output_type": "stream",
     "text": [
      "epoch: 4, [batch: 1 / 6720], examples_per_second: 4.3931, train_label_loss: 0.5578, \n"
     ]
    },
    {
     "name": "stdout",
     "output_type": "stream",
     "text": [
      "epoch: 4, [batch: 672 / 6720], examples_per_second: 3720.2076, train_label_loss: 0.6696, \n"
     ]
    },
    {
     "name": "stdout",
     "output_type": "stream",
     "text": [
      "epoch: 4, [batch: 1344 / 6720], examples_per_second: 3725.6363, train_label_loss: 0.2540, \n"
     ]
    },
    {
     "name": "stdout",
     "output_type": "stream",
     "text": [
      "epoch: 4, [batch: 2016 / 6720], examples_per_second: 3717.6120, train_label_loss: 0.3986, \n"
     ]
    },
    {
     "name": "stdout",
     "output_type": "stream",
     "text": [
      "epoch: 4, [batch: 2688 / 6720], examples_per_second: 3698.0814, train_label_loss: 0.6810, \n"
     ]
    },
    {
     "name": "stdout",
     "output_type": "stream",
     "text": [
      "epoch: 4, [batch: 3360 / 6720], examples_per_second: 3732.0765, train_label_loss: 0.9002, \n"
     ]
    },
    {
     "name": "stdout",
     "output_type": "stream",
     "text": [
      "epoch: 4, [batch: 4032 / 6720], examples_per_second: 3755.8421, train_label_loss: 0.4220, \n"
     ]
    },
    {
     "name": "stdout",
     "output_type": "stream",
     "text": [
      "epoch: 4, [batch: 4704 / 6720], examples_per_second: 3724.9347, train_label_loss: 0.5265, \n"
     ]
    },
    {
     "name": "stdout",
     "output_type": "stream",
     "text": [
      "epoch: 4, [batch: 5376 / 6720], examples_per_second: 3734.2804, train_label_loss: 0.4884, \n"
     ]
    },
    {
     "name": "stdout",
     "output_type": "stream",
     "text": [
      "epoch: 4, [batch: 6048 / 6720], examples_per_second: 3736.4574, train_label_loss: 0.4059, \n"
     ]
    },
    {
     "name": "stdout",
     "output_type": "stream",
     "text": [
      "=============================================================\n",
      "epoch: 4, source_val_acc_label: 0.7920, target_val_acc_label: 0.5948, source_val_label_loss: 0.5739, target_val_label_loss: 514.5558, \n",
      "=============================================================\n"
     ]
    },
    {
     "name": "stdout",
     "output_type": "stream",
     "text": [
      "New best\n"
     ]
    },
    {
     "name": "stdout",
     "output_type": "stream",
     "text": [
      "epoch: 5, [batch: 1 / 6720], examples_per_second: 4.3927, train_label_loss: 0.3877, \n"
     ]
    },
    {
     "name": "stdout",
     "output_type": "stream",
     "text": [
      "epoch: 5, [batch: 672 / 6720], examples_per_second: 3711.8824, train_label_loss: 0.9167, \n"
     ]
    },
    {
     "name": "stdout",
     "output_type": "stream",
     "text": [
      "epoch: 5, [batch: 1344 / 6720], examples_per_second: 3729.4801, train_label_loss: 0.5657, \n"
     ]
    },
    {
     "name": "stdout",
     "output_type": "stream",
     "text": [
      "epoch: 5, [batch: 2016 / 6720], examples_per_second: 3746.0978, train_label_loss: 0.3707, \n"
     ]
    },
    {
     "name": "stdout",
     "output_type": "stream",
     "text": [
      "epoch: 5, [batch: 2688 / 6720], examples_per_second: 3709.0252, train_label_loss: 1.0021, \n"
     ]
    },
    {
     "name": "stdout",
     "output_type": "stream",
     "text": [
      "epoch: 5, [batch: 3360 / 6720], examples_per_second: 3735.8069, train_label_loss: 0.3137, \n"
     ]
    },
    {
     "name": "stdout",
     "output_type": "stream",
     "text": [
      "epoch: 5, [batch: 4032 / 6720], examples_per_second: 3744.0886, train_label_loss: 0.4204, \n"
     ]
    },
    {
     "name": "stdout",
     "output_type": "stream",
     "text": [
      "epoch: 5, [batch: 4704 / 6720], examples_per_second: 3725.9832, train_label_loss: 0.4486, \n"
     ]
    },
    {
     "name": "stdout",
     "output_type": "stream",
     "text": [
      "epoch: 5, [batch: 5376 / 6720], examples_per_second: 3675.1958, train_label_loss: 0.4486, \n"
     ]
    },
    {
     "name": "stdout",
     "output_type": "stream",
     "text": [
      "epoch: 5, [batch: 6048 / 6720], examples_per_second: 3735.0470, train_label_loss: 0.2506, \n"
     ]
    },
    {
     "name": "stdout",
     "output_type": "stream",
     "text": [
      "=============================================================\n",
      "epoch: 5, source_val_acc_label: 0.8295, target_val_acc_label: 0.6007, source_val_label_loss: 0.4769, target_val_label_loss: 578.0109, \n",
      "=============================================================\n"
     ]
    },
    {
     "name": "stdout",
     "output_type": "stream",
     "text": [
      "New best\n"
     ]
    },
    {
     "name": "stdout",
     "output_type": "stream",
     "text": [
      "epoch: 6, [batch: 1 / 6720], examples_per_second: 4.4065, train_label_loss: 0.1287, \n"
     ]
    },
    {
     "name": "stdout",
     "output_type": "stream",
     "text": [
      "epoch: 6, [batch: 672 / 6720], examples_per_second: 3723.7554, train_label_loss: 0.2854, \n"
     ]
    },
    {
     "name": "stdout",
     "output_type": "stream",
     "text": [
      "epoch: 6, [batch: 1344 / 6720], examples_per_second: 3726.8104, train_label_loss: 0.6549, \n"
     ]
    },
    {
     "name": "stdout",
     "output_type": "stream",
     "text": [
      "epoch: 6, [batch: 2016 / 6720], examples_per_second: 3728.9960, train_label_loss: 0.9082, \n"
     ]
    },
    {
     "name": "stdout",
     "output_type": "stream",
     "text": [
      "epoch: 6, [batch: 2688 / 6720], examples_per_second: 3732.8218, train_label_loss: 0.2377, \n"
     ]
    },
    {
     "name": "stdout",
     "output_type": "stream",
     "text": [
      "epoch: 6, [batch: 3360 / 6720], examples_per_second: 3720.6190, train_label_loss: 0.2326, \n"
     ]
    },
    {
     "name": "stdout",
     "output_type": "stream",
     "text": [
      "epoch: 6, [batch: 4032 / 6720], examples_per_second: 3747.3640, train_label_loss: 0.5347, \n"
     ]
    },
    {
     "name": "stdout",
     "output_type": "stream",
     "text": [
      "epoch: 6, [batch: 4704 / 6720], examples_per_second: 3746.6573, train_label_loss: 0.5991, \n"
     ]
    },
    {
     "name": "stdout",
     "output_type": "stream",
     "text": [
      "epoch: 6, [batch: 5376 / 6720], examples_per_second: 3732.8509, train_label_loss: 1.0039, \n"
     ]
    },
    {
     "name": "stdout",
     "output_type": "stream",
     "text": [
      "epoch: 6, [batch: 6048 / 6720], examples_per_second: 3734.2527, train_label_loss: 0.9249, \n"
     ]
    },
    {
     "name": "stdout",
     "output_type": "stream",
     "text": [
      "=============================================================\n",
      "epoch: 6, source_val_acc_label: 0.8440, target_val_acc_label: 0.6271, source_val_label_loss: 0.4306, target_val_label_loss: 602.5023, \n",
      "=============================================================\n"
     ]
    },
    {
     "name": "stdout",
     "output_type": "stream",
     "text": [
      "New best\n"
     ]
    },
    {
     "name": "stdout",
     "output_type": "stream",
     "text": [
      "epoch: 7, [batch: 1 / 6720], examples_per_second: 4.3934, train_label_loss: 0.2250, \n"
     ]
    },
    {
     "name": "stdout",
     "output_type": "stream",
     "text": [
      "epoch: 7, [batch: 672 / 6720], examples_per_second: 3719.8187, train_label_loss: 0.8902, \n"
     ]
    },
    {
     "name": "stdout",
     "output_type": "stream",
     "text": [
      "epoch: 7, [batch: 1344 / 6720], examples_per_second: 3731.3436, train_label_loss: 0.2189, \n"
     ]
    },
    {
     "name": "stdout",
     "output_type": "stream",
     "text": [
      "epoch: 7, [batch: 2016 / 6720], examples_per_second: 3742.5934, train_label_loss: 0.2716, \n"
     ]
    },
    {
     "name": "stdout",
     "output_type": "stream",
     "text": [
      "epoch: 7, [batch: 2688 / 6720], examples_per_second: 3722.2471, train_label_loss: 0.2194, \n"
     ]
    },
    {
     "name": "stdout",
     "output_type": "stream",
     "text": [
      "epoch: 7, [batch: 3360 / 6720], examples_per_second: 3746.4865, train_label_loss: 0.2516, \n"
     ]
    },
    {
     "name": "stdout",
     "output_type": "stream",
     "text": [
      "epoch: 7, [batch: 4032 / 6720], examples_per_second: 3708.4628, train_label_loss: 0.3572, \n"
     ]
    },
    {
     "name": "stdout",
     "output_type": "stream",
     "text": [
      "epoch: 7, [batch: 4704 / 6720], examples_per_second: 3722.6836, train_label_loss: 0.7736, \n"
     ]
    },
    {
     "name": "stdout",
     "output_type": "stream",
     "text": [
      "epoch: 7, [batch: 5376 / 6720], examples_per_second: 3727.9121, train_label_loss: 0.3483, \n"
     ]
    },
    {
     "name": "stdout",
     "output_type": "stream",
     "text": [
      "epoch: 7, [batch: 6048 / 6720], examples_per_second: 3754.6227, train_label_loss: 0.5921, \n"
     ]
    },
    {
     "name": "stdout",
     "output_type": "stream",
     "text": [
      "=============================================================\n",
      "epoch: 7, source_val_acc_label: 0.8324, target_val_acc_label: 0.6250, source_val_label_loss: 0.4640, target_val_label_loss: 655.5507, \n",
      "=============================================================\n"
     ]
    },
    {
     "name": "stdout",
     "output_type": "stream",
     "text": [
      "epoch: 8, [batch: 1 / 6720], examples_per_second: 4.4047, train_label_loss: 0.2178, \n"
     ]
    },
    {
     "name": "stdout",
     "output_type": "stream",
     "text": [
      "epoch: 8, [batch: 672 / 6720], examples_per_second: 3696.5942, train_label_loss: 0.2413, \n"
     ]
    },
    {
     "name": "stdout",
     "output_type": "stream",
     "text": [
      "epoch: 8, [batch: 1344 / 6720], examples_per_second: 3729.6635, train_label_loss: 0.2086, \n"
     ]
    },
    {
     "name": "stdout",
     "output_type": "stream",
     "text": [
      "epoch: 8, [batch: 2016 / 6720], examples_per_second: 3736.5440, train_label_loss: 0.3081, \n"
     ]
    },
    {
     "name": "stdout",
     "output_type": "stream",
     "text": [
      "epoch: 8, [batch: 2688 / 6720], examples_per_second: 3730.1373, train_label_loss: 0.1191, \n"
     ]
    },
    {
     "name": "stdout",
     "output_type": "stream",
     "text": [
      "epoch: 8, [batch: 3360 / 6720], examples_per_second: 3738.0487, train_label_loss: 0.3221, \n"
     ]
    },
    {
     "name": "stdout",
     "output_type": "stream",
     "text": [
      "epoch: 8, [batch: 4032 / 6720], examples_per_second: 3742.0028, train_label_loss: 0.1411, \n"
     ]
    },
    {
     "name": "stdout",
     "output_type": "stream",
     "text": [
      "epoch: 8, [batch: 4704 / 6720], examples_per_second: 3731.8805, train_label_loss: 0.7187, \n"
     ]
    },
    {
     "name": "stdout",
     "output_type": "stream",
     "text": [
      "epoch: 8, [batch: 5376 / 6720], examples_per_second: 3756.0751, train_label_loss: 0.1142, \n"
     ]
    },
    {
     "name": "stdout",
     "output_type": "stream",
     "text": [
      "epoch: 8, [batch: 6048 / 6720], examples_per_second: 3733.3692, train_label_loss: 0.2132, \n"
     ]
    },
    {
     "name": "stdout",
     "output_type": "stream",
     "text": [
      "=============================================================\n",
      "epoch: 8, source_val_acc_label: 0.8505, target_val_acc_label: 0.6257, source_val_label_loss: 0.4118, target_val_label_loss: 693.2916, \n",
      "=============================================================\n"
     ]
    },
    {
     "name": "stdout",
     "output_type": "stream",
     "text": [
      "epoch: 9, [batch: 1 / 6720], examples_per_second: 4.3934, train_label_loss: 0.7211, \n"
     ]
    },
    {
     "name": "stdout",
     "output_type": "stream",
     "text": [
      "epoch: 9, [batch: 672 / 6720], examples_per_second: 3677.7052, train_label_loss: 0.9990, \n"
     ]
    },
    {
     "name": "stdout",
     "output_type": "stream",
     "text": [
      "epoch: 9, [batch: 1344 / 6720], examples_per_second: 3718.4958, train_label_loss: 0.4189, \n"
     ]
    },
    {
     "name": "stdout",
     "output_type": "stream",
     "text": [
      "epoch: 9, [batch: 2016 / 6720], examples_per_second: 3681.8088, train_label_loss: 0.4757, \n"
     ]
    },
    {
     "name": "stdout",
     "output_type": "stream",
     "text": [
      "epoch: 9, [batch: 2688 / 6720], examples_per_second: 3724.5492, train_label_loss: 0.3506, \n"
     ]
    },
    {
     "name": "stdout",
     "output_type": "stream",
     "text": [
      "epoch: 9, [batch: 3360 / 6720], examples_per_second: 3740.1570, train_label_loss: 0.7475, \n"
     ]
    },
    {
     "name": "stdout",
     "output_type": "stream",
     "text": [
      "epoch: 9, [batch: 4032 / 6720], examples_per_second: 3702.3611, train_label_loss: 0.4962, \n"
     ]
    },
    {
     "name": "stdout",
     "output_type": "stream",
     "text": [
      "epoch: 9, [batch: 4704 / 6720], examples_per_second: 3673.9195, train_label_loss: 0.2514, \n"
     ]
    },
    {
     "name": "stdout",
     "output_type": "stream",
     "text": [
      "epoch: 9, [batch: 5376 / 6720], examples_per_second: 3730.5031, train_label_loss: 0.1293, \n"
     ]
    },
    {
     "name": "stdout",
     "output_type": "stream",
     "text": [
      "epoch: 9, [batch: 6048 / 6720], examples_per_second: 3741.6193, train_label_loss: 0.6757, \n"
     ]
    },
    {
     "name": "stdout",
     "output_type": "stream",
     "text": [
      "=============================================================\n",
      "epoch: 9, source_val_acc_label: 0.8682, target_val_acc_label: 0.6260, source_val_label_loss: 0.3659, target_val_label_loss: 578.8289, \n",
      "=============================================================\n"
     ]
    },
    {
     "name": "stdout",
     "output_type": "stream",
     "text": [
      "epoch: 10, [batch: 1 / 6720], examples_per_second: 4.4121, train_label_loss: 0.0544, \n"
     ]
    },
    {
     "name": "stdout",
     "output_type": "stream",
     "text": [
      "epoch: 10, [batch: 672 / 6720], examples_per_second: 3697.5064, train_label_loss: 0.4395, \n"
     ]
    },
    {
     "name": "stdout",
     "output_type": "stream",
     "text": [
      "epoch: 10, [batch: 1344 / 6720], examples_per_second: 3731.7035, train_label_loss: 0.3132, \n"
     ]
    },
    {
     "name": "stdout",
     "output_type": "stream",
     "text": [
      "epoch: 10, [batch: 2016 / 6720], examples_per_second: 3713.8005, train_label_loss: 0.3877, \n"
     ]
    },
    {
     "name": "stdout",
     "output_type": "stream",
     "text": [
      "epoch: 10, [batch: 2688 / 6720], examples_per_second: 3693.1916, train_label_loss: 0.1390, \n"
     ]
    },
    {
     "name": "stdout",
     "output_type": "stream",
     "text": [
      "epoch: 10, [batch: 3360 / 6720], examples_per_second: 3745.9185, train_label_loss: 0.5267, \n"
     ]
    },
    {
     "name": "stdout",
     "output_type": "stream",
     "text": [
      "epoch: 10, [batch: 4032 / 6720], examples_per_second: 3730.1940, train_label_loss: 0.0830, \n"
     ]
    },
    {
     "name": "stdout",
     "output_type": "stream",
     "text": [
      "epoch: 10, [batch: 4704 / 6720], examples_per_second: 3712.8636, train_label_loss: 0.4472, \n"
     ]
    },
    {
     "name": "stdout",
     "output_type": "stream",
     "text": [
      "epoch: 10, [batch: 5376 / 6720], examples_per_second: 3727.7488, train_label_loss: 0.1338, \n"
     ]
    },
    {
     "name": "stdout",
     "output_type": "stream",
     "text": [
      "epoch: 10, [batch: 6048 / 6720], examples_per_second: 3743.3224, train_label_loss: 0.1278, \n"
     ]
    },
    {
     "name": "stdout",
     "output_type": "stream",
     "text": [
      "=============================================================\n",
      "epoch: 10, source_val_acc_label: 0.8679, target_val_acc_label: 0.6358, source_val_label_loss: 0.3671, target_val_label_loss: 654.9984, \n",
      "=============================================================\n"
     ]
    },
    {
     "name": "stdout",
     "output_type": "stream",
     "text": [
      "New best\n"
     ]
    },
    {
     "name": "stdout",
     "output_type": "stream",
     "text": [
      "epoch: 11, [batch: 1 / 6720], examples_per_second: 4.3966, train_label_loss: 0.2697, \n"
     ]
    },
    {
     "name": "stdout",
     "output_type": "stream",
     "text": [
      "epoch: 11, [batch: 672 / 6720], examples_per_second: 3727.9346, train_label_loss: 0.3114, \n"
     ]
    },
    {
     "name": "stdout",
     "output_type": "stream",
     "text": [
      "epoch: 11, [batch: 1344 / 6720], examples_per_second: 3706.6211, train_label_loss: 0.4199, \n"
     ]
    },
    {
     "name": "stdout",
     "output_type": "stream",
     "text": [
      "epoch: 11, [batch: 2016 / 6720], examples_per_second: 3718.9590, train_label_loss: 0.4894, \n"
     ]
    },
    {
     "name": "stdout",
     "output_type": "stream",
     "text": [
      "epoch: 11, [batch: 2688 / 6720], examples_per_second: 3736.6150, train_label_loss: 0.1355, \n"
     ]
    },
    {
     "name": "stdout",
     "output_type": "stream",
     "text": [
      "epoch: 11, [batch: 3360 / 6720], examples_per_second: 3739.1694, train_label_loss: 0.8245, \n"
     ]
    },
    {
     "name": "stdout",
     "output_type": "stream",
     "text": [
      "epoch: 11, [batch: 4032 / 6720], examples_per_second: 3736.9347, train_label_loss: 0.2575, \n"
     ]
    },
    {
     "name": "stdout",
     "output_type": "stream",
     "text": [
      "epoch: 11, [batch: 4704 / 6720], examples_per_second: 3721.9602, train_label_loss: 0.6581, \n"
     ]
    },
    {
     "name": "stdout",
     "output_type": "stream",
     "text": [
      "epoch: 11, [batch: 5376 / 6720], examples_per_second: 3739.9592, train_label_loss: 0.0869, \n"
     ]
    },
    {
     "name": "stdout",
     "output_type": "stream",
     "text": [
      "epoch: 11, [batch: 6048 / 6720], examples_per_second: 3732.2645, train_label_loss: 0.0542, \n"
     ]
    },
    {
     "name": "stdout",
     "output_type": "stream",
     "text": [
      "=============================================================\n",
      "epoch: 11, source_val_acc_label: 0.8793, target_val_acc_label: 0.6311, source_val_label_loss: 0.3333, target_val_label_loss: 713.1461, \n",
      "=============================================================\n"
     ]
    },
    {
     "name": "stdout",
     "output_type": "stream",
     "text": [
      "epoch: 12, [batch: 1 / 6720], examples_per_second: 4.3930, train_label_loss: 0.2571, \n"
     ]
    },
    {
     "name": "stdout",
     "output_type": "stream",
     "text": [
      "epoch: 12, [batch: 672 / 6720], examples_per_second: 3717.9472, train_label_loss: 0.5877, \n"
     ]
    },
    {
     "name": "stdout",
     "output_type": "stream",
     "text": [
      "epoch: 12, [batch: 1344 / 6720], examples_per_second: 3744.0750, train_label_loss: 0.0487, \n"
     ]
    },
    {
     "name": "stdout",
     "output_type": "stream",
     "text": [
      "epoch: 12, [batch: 2016 / 6720], examples_per_second: 3739.8956, train_label_loss: 0.3647, \n"
     ]
    },
    {
     "name": "stdout",
     "output_type": "stream",
     "text": [
      "epoch: 12, [batch: 2688 / 6720], examples_per_second: 3698.6395, train_label_loss: 0.2061, \n"
     ]
    },
    {
     "name": "stdout",
     "output_type": "stream",
     "text": [
      "epoch: 12, [batch: 3360 / 6720], examples_per_second: 3707.2739, train_label_loss: 0.5151, \n"
     ]
    },
    {
     "name": "stdout",
     "output_type": "stream",
     "text": [
      "epoch: 12, [batch: 4032 / 6720], examples_per_second: 3741.0742, train_label_loss: 0.7033, \n"
     ]
    },
    {
     "name": "stdout",
     "output_type": "stream",
     "text": [
      "epoch: 12, [batch: 4704 / 6720], examples_per_second: 3718.8279, train_label_loss: 0.0389, \n"
     ]
    },
    {
     "name": "stdout",
     "output_type": "stream",
     "text": [
      "epoch: 12, [batch: 5376 / 6720], examples_per_second: 3706.7951, train_label_loss: 0.0800, \n"
     ]
    },
    {
     "name": "stdout",
     "output_type": "stream",
     "text": [
      "epoch: 12, [batch: 6048 / 6720], examples_per_second: 3739.6022, train_label_loss: 0.5130, \n"
     ]
    },
    {
     "name": "stdout",
     "output_type": "stream",
     "text": [
      "=============================================================\n",
      "epoch: 12, source_val_acc_label: 0.8719, target_val_acc_label: 0.6235, source_val_label_loss: 0.3567, target_val_label_loss: 740.7786, \n",
      "=============================================================\n"
     ]
    },
    {
     "name": "stdout",
     "output_type": "stream",
     "text": [
      "epoch: 13, [batch: 1 / 6720], examples_per_second: 4.3892, train_label_loss: 0.1730, \n"
     ]
    },
    {
     "name": "stdout",
     "output_type": "stream",
     "text": [
      "epoch: 13, [batch: 672 / 6720], examples_per_second: 3745.7435, train_label_loss: 0.2953, \n"
     ]
    },
    {
     "name": "stdout",
     "output_type": "stream",
     "text": [
      "epoch: 13, [batch: 1344 / 6720], examples_per_second: 3728.7387, train_label_loss: 0.1126, \n"
     ]
    },
    {
     "name": "stdout",
     "output_type": "stream",
     "text": [
      "epoch: 13, [batch: 2016 / 6720], examples_per_second: 3756.2579, train_label_loss: 0.2151, \n"
     ]
    },
    {
     "name": "stdout",
     "output_type": "stream",
     "text": [
      "epoch: 13, [batch: 2688 / 6720], examples_per_second: 3731.1830, train_label_loss: 0.2351, \n"
     ]
    },
    {
     "name": "stdout",
     "output_type": "stream",
     "text": [
      "epoch: 13, [batch: 3360 / 6720], examples_per_second: 3744.5101, train_label_loss: 0.3568, \n"
     ]
    },
    {
     "name": "stdout",
     "output_type": "stream",
     "text": [
      "epoch: 13, [batch: 4032 / 6720], examples_per_second: 3736.2643, train_label_loss: 0.2019, \n"
     ]
    },
    {
     "name": "stdout",
     "output_type": "stream",
     "text": [
      "epoch: 13, [batch: 4704 / 6720], examples_per_second: 3725.8050, train_label_loss: 0.1321, \n"
     ]
    },
    {
     "name": "stdout",
     "output_type": "stream",
     "text": [
      "epoch: 13, [batch: 5376 / 6720], examples_per_second: 3734.6968, train_label_loss: 0.2337, \n"
     ]
    },
    {
     "name": "stdout",
     "output_type": "stream",
     "text": [
      "epoch: 13, [batch: 6048 / 6720], examples_per_second: 3741.3346, train_label_loss: 0.1818, \n"
     ]
    },
    {
     "name": "stdout",
     "output_type": "stream",
     "text": [
      "=============================================================\n",
      "epoch: 13, source_val_acc_label: 0.8814, target_val_acc_label: 0.6194, source_val_label_loss: 0.3340, target_val_label_loss: 812.5095, \n",
      "=============================================================\n"
     ]
    },
    {
     "name": "stdout",
     "output_type": "stream",
     "text": [
      "epoch: 14, [batch: 1 / 6720], examples_per_second: 4.3758, train_label_loss: 0.3102, \n"
     ]
    },
    {
     "name": "stdout",
     "output_type": "stream",
     "text": [
      "epoch: 14, [batch: 672 / 6720], examples_per_second: 3705.0467, train_label_loss: 0.0490, \n"
     ]
    },
    {
     "name": "stdout",
     "output_type": "stream",
     "text": [
      "epoch: 14, [batch: 1344 / 6720], examples_per_second: 3737.0313, train_label_loss: 0.6234, \n"
     ]
    },
    {
     "name": "stdout",
     "output_type": "stream",
     "text": [
      "epoch: 14, [batch: 2016 / 6720], examples_per_second: 3713.7780, train_label_loss: 0.3110, \n"
     ]
    },
    {
     "name": "stdout",
     "output_type": "stream",
     "text": [
      "epoch: 14, [batch: 2688 / 6720], examples_per_second: 3729.4384, train_label_loss: 0.0717, \n"
     ]
    },
    {
     "name": "stdout",
     "output_type": "stream",
     "text": [
      "epoch: 14, [batch: 3360 / 6720], examples_per_second: 3750.5735, train_label_loss: 0.2876, \n"
     ]
    },
    {
     "name": "stdout",
     "output_type": "stream",
     "text": [
      "epoch: 14, [batch: 4032 / 6720], examples_per_second: 3741.1332, train_label_loss: 0.2663, \n"
     ]
    },
    {
     "name": "stdout",
     "output_type": "stream",
     "text": [
      "epoch: 14, [batch: 4704 / 6720], examples_per_second: 3735.9517, train_label_loss: 0.1414, \n"
     ]
    },
    {
     "name": "stdout",
     "output_type": "stream",
     "text": [
      "epoch: 14, [batch: 5376 / 6720], examples_per_second: 3733.4210, train_label_loss: 0.0954, \n"
     ]
    },
    {
     "name": "stdout",
     "output_type": "stream",
     "text": [
      "epoch: 14, [batch: 6048 / 6720], examples_per_second: 3734.7175, train_label_loss: 0.6274, \n"
     ]
    },
    {
     "name": "stdout",
     "output_type": "stream",
     "text": [
      "=============================================================\n",
      "epoch: 14, source_val_acc_label: 0.8867, target_val_acc_label: 0.6314, source_val_label_loss: 0.3182, target_val_label_loss: 834.4156, \n",
      "=============================================================\n"
     ]
    },
    {
     "name": "stdout",
     "output_type": "stream",
     "text": [
      "Patience (3) exhausted\n"
     ]
    }
   ],
   "source": [
    "###################################\n",
    "# train\n",
    "###################################\n",
    "jig = PTN_Train_Eval_Test_Jig(model, p.BEST_MODEL_PATH, p.device)\n",
    "\n",
    "jig.train(\n",
    "    train_iterable=datasets.source.processed.train,\n",
    "    source_val_iterable=datasets.source.processed.val,\n",
    "    target_val_iterable=datasets.target.processed.val,\n",
    "    num_epochs=p.n_epoch,\n",
    "    num_logs_per_epoch=p.NUM_LOGS_PER_EPOCH,\n",
    "    patience=p.patience,\n",
    "    optimizer=optimizer,\n",
    "    criteria_for_best=p.criteria_for_best,\n",
    ")"
   ]
  },
  {
   "cell_type": "code",
   "execution_count": 23,
   "id": "31e8fabf",
   "metadata": {
    "execution": {
     "iopub.execute_input": "2022-03-21T00:02:55.843014Z",
     "iopub.status.busy": "2022-03-21T00:02:55.841879Z",
     "iopub.status.idle": "2022-03-21T00:02:55.861471Z",
     "shell.execute_reply": "2022-03-21T00:02:55.861691Z"
    },
    "papermill": {
     "duration": 0.064626,
     "end_time": "2022-03-21T00:02:55.861773",
     "exception": false,
     "start_time": "2022-03-21T00:02:55.797147",
     "status": "completed"
    },
    "tags": []
   },
   "outputs": [],
   "source": [
    "total_experiment_time_secs = time.time() - start_time_secs"
   ]
  },
  {
   "cell_type": "code",
   "execution_count": 24,
   "id": "87b9595b",
   "metadata": {
    "execution": {
     "iopub.execute_input": "2022-03-21T00:02:55.957412Z",
     "iopub.status.busy": "2022-03-21T00:02:55.952981Z",
     "iopub.status.idle": "2022-03-21T00:05:16.261167Z",
     "shell.execute_reply": "2022-03-21T00:05:16.261404Z"
    },
    "papermill": {
     "duration": 140.354349,
     "end_time": "2022-03-21T00:05:16.261490",
     "exception": false,
     "start_time": "2022-03-21T00:02:55.907141",
     "status": "completed"
    },
    "tags": []
   },
   "outputs": [],
   "source": [
    "###################################\n",
    "# Evaluate the model\n",
    "###################################\n",
    "source_test_label_accuracy, source_test_label_loss = jig.test(datasets.source.processed.test)\n",
    "target_test_label_accuracy, target_test_label_loss = jig.test(datasets.target.processed.test)\n",
    "\n",
    "source_val_label_accuracy, source_val_label_loss = jig.test(datasets.source.processed.val)\n",
    "target_val_label_accuracy, target_val_label_loss = jig.test(datasets.target.processed.val)\n",
    "\n",
    "history = jig.get_history()\n",
    "\n",
    "total_epochs_trained = len(history[\"epoch_indices\"])\n",
    "\n",
    "val_dl = Iterable_Aggregator((datasets.source.original.val,datasets.target.original.val))\n",
    "\n",
    "confusion = ptn_confusion_by_domain_over_dataloader(model, p.device, val_dl)\n",
    "per_domain_accuracy = per_domain_accuracy_from_confusion(confusion)\n",
    "\n",
    "# Add a key to per_domain_accuracy for if it was a source domain\n",
    "for domain, accuracy in per_domain_accuracy.items():\n",
    "    per_domain_accuracy[domain] = {\n",
    "        \"accuracy\": accuracy,\n",
    "        \"source?\": domain in p.domains_source\n",
    "    }\n",
    "\n",
    "# Do an independent accuracy assesment JUST TO BE SURE!\n",
    "# _source_test_label_accuracy = independent_accuracy_assesment(model, datasets.source.processed.test, p.device)\n",
    "# _target_test_label_accuracy = independent_accuracy_assesment(model, datasets.target.processed.test, p.device)\n",
    "# _source_val_label_accuracy = independent_accuracy_assesment(model, datasets.source.processed.val, p.device)\n",
    "# _target_val_label_accuracy = independent_accuracy_assesment(model, datasets.target.processed.val, p.device)\n",
    "\n",
    "# assert(_source_test_label_accuracy == source_test_label_accuracy)\n",
    "# assert(_target_test_label_accuracy == target_test_label_accuracy)\n",
    "# assert(_source_val_label_accuracy == source_val_label_accuracy)\n",
    "# assert(_target_val_label_accuracy == target_val_label_accuracy)\n",
    "\n",
    "experiment = {\n",
    "    \"experiment_name\": p.experiment_name,\n",
    "    \"parameters\": dict(p),\n",
    "    \"results\": {\n",
    "        \"source_test_label_accuracy\": source_test_label_accuracy,\n",
    "        \"source_test_label_loss\": source_test_label_loss,\n",
    "        \"target_test_label_accuracy\": target_test_label_accuracy,\n",
    "        \"target_test_label_loss\": target_test_label_loss,\n",
    "        \"source_val_label_accuracy\": source_val_label_accuracy,\n",
    "        \"source_val_label_loss\": source_val_label_loss,\n",
    "        \"target_val_label_accuracy\": target_val_label_accuracy,\n",
    "        \"target_val_label_loss\": target_val_label_loss,\n",
    "        \"total_epochs_trained\": total_epochs_trained,\n",
    "        \"total_experiment_time_secs\": total_experiment_time_secs,\n",
    "        \"confusion\": confusion,\n",
    "        \"per_domain_accuracy\": per_domain_accuracy,\n",
    "    },\n",
    "    \"history\": history,\n",
    "    \"dataset_metrics\": get_dataset_metrics(datasets, \"ptn\"),\n",
    "}"
   ]
  },
  {
   "cell_type": "code",
   "execution_count": 25,
   "id": "54a21829",
   "metadata": {
    "execution": {
     "iopub.execute_input": "2022-03-21T00:05:16.354018Z",
     "iopub.status.busy": "2022-03-21T00:05:16.353026Z",
     "iopub.status.idle": "2022-03-21T00:05:16.481424Z",
     "shell.execute_reply": "2022-03-21T00:05:16.481041Z"
    },
    "papermill": {
     "duration": 0.172995,
     "end_time": "2022-03-21T00:05:16.481520",
     "exception": false,
     "start_time": "2022-03-21T00:05:16.308525",
     "status": "completed"
    },
    "tags": []
   },
   "outputs": [
    {
     "data": {
      "image/png": "[encoded data removed]",
      "text/plain": [
       "<Figure size 1080x504 with 1 Axes>"
      ]
     },
     "metadata": {
      "needs_background": "light"
     },
     "output_type": "display_data"
    }
   ],
   "source": [
    "ax = get_loss_curve(experiment)\n",
    "plt.show()"
   ]
  },
  {
   "cell_type": "code",
   "execution_count": 26,
   "id": "fd8a0f60",
   "metadata": {
    "execution": {
     "iopub.execute_input": "2022-03-21T00:05:16.575922Z",
     "iopub.status.busy": "2022-03-21T00:05:16.575536Z",
     "iopub.status.idle": "2022-03-21T00:05:16.722779Z",
     "shell.execute_reply": "2022-03-21T00:05:16.722553Z"
    },
    "papermill": {
     "duration": 0.193184,
     "end_time": "2022-03-21T00:05:16.722833",
     "exception": false,
     "start_time": "2022-03-21T00:05:16.529649",
     "status": "completed"
    },
    "tags": []
   },
   "outputs": [
    {
     "data": {
      "text/plain": [
       "<AxesSubplot:title={'center':'Results'}>"
      ]
     },
     "execution_count": 26,
     "metadata": {},
     "output_type": "execute_result"
    },
    {
     "data": {
      "image/png": "[encoded data removed]",
      "text/plain": [
       "<Figure size 1080x504 with 1 Axes>"
      ]
     },
     "metadata": {
      "needs_background": "light"
     },
     "output_type": "display_data"
    }
   ],
   "source": [
    "get_results_table(experiment)"
   ]
  },
  {
   "cell_type": "code",
   "execution_count": 27,
   "id": "cf8dc689",
   "metadata": {
    "execution": {
     "iopub.execute_input": "2022-03-21T00:05:16.821429Z",
     "iopub.status.busy": "2022-03-21T00:05:16.817053Z",
     "iopub.status.idle": "2022-03-21T00:05:16.967134Z",
     "shell.execute_reply": "2022-03-21T00:05:16.966676Z"
    },
    "papermill": {
     "duration": 0.198207,
     "end_time": "2022-03-21T00:05:16.967228",
     "exception": false,
     "start_time": "2022-03-21T00:05:16.769021",
     "status": "completed"
    },
    "tags": []
   },
   "outputs": [
    {
     "data": {
      "text/plain": [
       "<AxesSubplot:title={'center':'Per Domain Validation Accuracy'}, xlabel='domain'>"
      ]
     },
     "execution_count": 27,
     "metadata": {},
     "output_type": "execute_result"
    },
    {
     "data": {
      "image/png": "[encoded data removed]",
      "text/plain": [
       "<Figure size 1080x504 with 1 Axes>"
      ]
     },
     "metadata": {
      "needs_background": "light"
     },
     "output_type": "display_data"
    }
   ],
   "source": [
    "get_domain_accuracies(experiment)"
   ]
  },
  {
   "cell_type": "code",
   "execution_count": 28,
   "id": "a74ae082",
   "metadata": {
    "execution": {
     "iopub.execute_input": "2022-03-21T00:05:17.065693Z",
     "iopub.status.busy": "2022-03-21T00:05:17.064195Z",
     "iopub.status.idle": "2022-03-21T00:05:17.081153Z",
     "shell.execute_reply": "2022-03-21T00:05:17.080699Z"
    },
    "papermill": {
     "duration": 0.064233,
     "end_time": "2022-03-21T00:05:17.081257",
     "exception": false,
     "start_time": "2022-03-21T00:05:17.017024",
     "status": "completed"
    },
    "tags": []
   },
   "outputs": [
    {
     "name": "stdout",
     "output_type": "stream",
     "text": [
      "Source Test Label Accuracy: 0.8690755208333333 Target Test Label Accuracy: 0.634803590712743\n",
      "Source Val Label Accuracy: 0.86787109375 Target Val Label Accuracy: 0.635777045579352\n"
     ]
    }
   ],
   "source": [
    "print(\"Source Test Label Accuracy:\", experiment[\"results\"][\"source_test_label_accuracy\"], \"Target Test Label Accuracy:\", experiment[\"results\"][\"target_test_label_accuracy\"])\n",
    "print(\"Source Val Label Accuracy:\", experiment[\"results\"][\"source_val_label_accuracy\"], \"Target Val Label Accuracy:\", experiment[\"results\"][\"target_val_label_accuracy\"])"
   ]
  },
  {
   "cell_type": "code",
   "execution_count": 29,
   "id": "dacca602",
   "metadata": {
    "execution": {
     "iopub.execute_input": "2022-03-21T00:05:17.181306Z",
     "iopub.status.busy": "2022-03-21T00:05:17.180764Z",
     "iopub.status.idle": "2022-03-21T00:05:17.199937Z",
     "shell.execute_reply": "2022-03-21T00:05:17.200145Z"
    },
    "papermill": {
     "duration": 0.067253,
     "end_time": "2022-03-21T00:05:17.200242",
     "exception": false,
     "start_time": "2022-03-21T00:05:17.132989",
     "status": "completed"
    },
    "tags": [
     "experiment_json"
    ]
   },
   "outputs": [
    {
     "data": {
      "text/plain": [
       "'{\"experiment_name\": \"tl_3Av2:oracle.run1.framed -> cores+wisig\", \"parameters\": {\"experiment_name\": \"tl_3Av2:oracle.run1.framed -> cores+wisig\", \"device\": \"cuda\", \"lr\": 0.0001, \"x_shape\": [2, 200], \"n_shot\": 3, \"n_query\": 2, \"train_k_factor\": 3, \"val_k_factor\": 2, \"test_k_factor\": 2, \"torch_default_dtype\": \"torch.float32\", \"n_epoch\": 50, \"patience\": 3, \"criteria_for_best\": \"target_accuracy\", \"x_net\": [{\"class\": \"nnReshape\", \"kargs\": {\"shape\": [-1, 1, 2, 200]}}, {\"class\": \"Conv2d\", \"kargs\": {\"in_channels\": 1, \"out_channels\": 256, \"kernel_size\": [1, 7], \"bias\": false, \"padding\": [0, 3]}}, {\"class\": \"ReLU\", \"kargs\": {\"inplace\": true}}, {\"class\": \"BatchNorm2d\", \"kargs\": {\"num_features\": 256}}, {\"class\": \"Conv2d\", \"kargs\": {\"in_channels\": 256, \"out_channels\": 80, \"kernel_size\": [2, 7], \"bias\": true, \"padding\": [0, 3]}}, {\"class\": \"ReLU\", \"kargs\": {\"inplace\": true}}, {\"class\": \"BatchNorm2d\", \"kargs\": {\"num_features\": 80}}, {\"class\": \"Flatten\", \"kargs\": {}}, {\"class\": \"Linear\", \"kargs\": {\"in_features\": 16000, \"out_features\": 256}}, {\"class\": \"ReLU\", \"kargs\": {\"inplace\": true}}, {\"class\": \"BatchNorm1d\", \"kargs\": {\"num_features\": 256}}, {\"class\": \"Linear\", \"kargs\": {\"in_features\": 256, \"out_features\": 256}}], \"NUM_LOGS_PER_EPOCH\": 10, \"BEST_MODEL_PATH\": \"./best_model.pth\", \"n_way\": 16, \"datasets\": [{\"labels\": [\"1-10.\", \"1-11.\", \"1-15.\", \"1-16.\", \"1-17.\", \"1-18.\", \"1-19.\", \"10-4.\", \"10-7.\", \"11-1.\", \"11-14.\", \"11-17.\", \"11-20.\", \"11-7.\", \"13-20.\", \"13-8.\", \"14-10.\", \"14-11.\", \"14-14.\", \"14-7.\", \"15-1.\", \"15-20.\", \"16-1.\", \"16-16.\", \"17-10.\", \"17-11.\", \"17-2.\", \"19-1.\", \"19-16.\", \"19-19.\", \"19-20.\", \"19-3.\", \"2-10.\", \"2-11.\", \"2-17.\", \"2-18.\", \"2-20.\", \"2-3.\", \"2-4.\", \"2-5.\", \"2-6.\", \"2-7.\", \"2-8.\", \"3-13.\", \"3-18.\", \"3-3.\", \"4-1.\", \"4-10.\", \"4-11.\", \"4-19.\", \"5-5.\", \"6-15.\", \"7-10.\", \"7-14.\", \"8-18.\", \"8-20.\", \"8-3.\", \"8-8.\"], \"domains\": [1, 2, 3, 4, 5], \"num_examples_per_domain_per_label\": -1, \"pickle_path\": \"/mnt/wd500GB/CSC500/csc500-main/datasets/cores.stratified_ds.2022A.pkl\", \"source_or_target_dataset\": \"target\", \"x_transforms\": [\"unit_mag\", \"take_200\"], \"episode_transforms\": [], \"domain_prefix\": \"C_\"}, {\"labels\": [\"1-10\", \"1-12\", \"1-14\", \"1-16\", \"1-18\", \"1-19\", \"1-8\", \"10-11\", \"10-17\", \"10-4\", \"10-7\", \"11-1\", \"11-10\", \"11-19\", \"11-20\", \"11-4\", \"11-7\", \"12-19\", \"12-20\", \"12-7\", \"13-14\", \"13-18\", \"13-19\", \"13-20\", \"13-3\", \"13-7\", \"14-10\", \"14-11\", \"14-12\", \"14-13\", \"14-14\", \"14-19\", \"14-20\", \"14-7\", \"14-8\", \"14-9\", \"15-1\", \"15-19\", \"15-6\", \"16-1\", \"16-16\", \"16-19\", \"16-20\", \"17-10\", \"17-11\", \"18-1\", \"18-10\", \"18-11\", \"18-12\", \"18-13\", \"18-14\", \"18-15\", \"18-16\", \"18-17\", \"18-19\", \"18-2\", \"18-20\", \"18-4\", \"18-5\", \"18-7\", \"18-8\", \"18-9\", \"19-1\", \"19-10\", \"19-11\", \"19-12\", \"19-13\", \"19-14\", \"19-15\", \"19-19\", \"19-2\", \"19-20\", \"19-3\", \"19-4\", \"19-6\", \"19-7\", \"19-8\", \"19-9\", \"2-1\", \"2-13\", \"2-15\", \"2-3\", \"2-4\", \"2-5\", \"2-6\", \"2-7\", \"2-8\", \"20-1\", \"20-12\", \"20-14\", \"20-15\", \"20-16\", \"20-18\", \"20-19\", \"20-20\", \"20-3\", \"20-4\", \"20-5\", \"20-7\", \"20-8\", \"3-1\", \"3-13\", \"3-18\", \"3-2\", \"3-8\", \"4-1\", \"4-10\", \"4-11\", \"5-1\", \"5-5\", \"6-1\", \"6-15\", \"6-6\", \"7-10\", \"7-11\", \"7-12\", \"7-13\", \"7-14\", \"7-7\", \"7-8\", \"7-9\", \"8-1\", \"8-13\", \"8-14\", \"8-18\", \"8-20\", \"8-3\", \"8-8\", \"9-1\", \"9-7\"], \"domains\": [1, 2, 3, 4], \"num_examples_per_domain_per_label\": -1, \"pickle_path\": \"/mnt/wd500GB/CSC500/csc500-main/datasets/wisig.node3-19.stratified_ds.2022A.pkl\", \"source_or_target_dataset\": \"target\", \"x_transforms\": [\"unit_mag\", \"take_200\"], \"episode_transforms\": [], \"domain_prefix\": \"W_\"}, {\"labels\": [\"3123D52\", \"3123D65\", \"3123D79\", \"3123D80\", \"3123D54\", \"3123D70\", \"3123D7B\", \"3123D89\", \"3123D58\", \"3123D76\", \"3123D7D\", \"3123EFE\", \"3123D64\", \"3123D78\", \"3123D7E\", \"3124E4A\"], \"domains\": [32, 38, 8, 44, 14, 50, 20, 26], \"num_examples_per_domain_per_label\": 2000, \"pickle_path\": \"/mnt/wd500GB/CSC500/csc500-main/datasets/oracle.Run1_framed_2000Examples_stratified_ds.2022A.pkl\", \"source_or_target_dataset\": \"source\", \"x_transforms\": [\"unit_mag\", \"take_200\", \"resample_20Msps_to_25Msps\"], \"episode_transforms\": [], \"domain_prefix\": \"O_\"}], \"seed\": 420, \"dataset_seed\": 420, \"domains_source\": [\"O_32\", \"O_38\", \"O_8\", \"O_44\", \"O_14\", \"O_50\", \"O_20\", \"O_26\"], \"domains_target\": [\"C_1\", \"C_2\", \"C_3\", \"C_4\", \"C_5\", \"W_1\", \"W_2\", \"W_3\", \"W_4\"]}, \"results\": {\"source_test_label_accuracy\": 0.8690755208333333, \"source_test_label_loss\": 0.38517120480537415, \"target_test_label_accuracy\": 0.634803590712743, \"target_test_label_loss\": 653.543701171875, \"source_val_label_accuracy\": 0.86787109375, \"source_val_label_loss\": 0.36714038252830505, \"target_val_label_accuracy\": 0.635777045579352, \"target_val_label_loss\": 654.9984130859375, \"total_epochs_trained\": 14, \"total_experiment_time_secs\": 2402.721780061722, \"confusion\": {\"O_14\": {\"15\": {\"15\": 239, \"2\": 1}, \"5\": {\"5\": 231, \"4\": 4, \"3\": 4, \"7\": 1}, \"7\": {\"7\": 240}, \"4\": {\"4\": 234, \"5\": 4, \"1\": 2}, \"10\": {\"10\": 240}, \"11\": {\"11\": 230, \"9\": 4, \"0\": 6}, \"12\": {\"12\": 240}, \"0\": {\"0\": 236, \"10\": 3, \"8\": 1}, \"14\": {\"14\": 222, \"13\": 4, \"2\": 13, \"3\": 1}, \"8\": {\"8\": 240}, \"13\": {\"6\": 61, \"13\": 169, \"14\": 1, \"2\": 5, \"3\": 1, \"4\": 3}, \"6\": {\"6\": 184, \"13\": 50, \"2\": 5, \"14\": 1}, \"1\": {\"1\": 237, \"2\": 1, \"5\": 1, \"4\": 1}, \"3\": {\"3\": 228, \"2\": 3, \"14\": 4, \"0\": 1, \"4\": 3, \"13\": 1}, \"9\": {\"9\": 240}, \"2\": {\"2\": 174, \"13\": 7, \"3\": 15, \"6\": 14, \"4\": 1, \"14\": 26, \"5\": 3}}, \"O_20\": {\"4\": {\"4\": 226, \"8\": 7, \"3\": 5, \"12\": 1, \"10\": 1}, \"10\": {\"10\": 240}, \"15\": {\"15\": 210, \"1\": 14, \"0\": 16}, \"0\": {\"0\": 213, \"5\": 2, \"1\": 3, \"15\": 21, \"8\": 1}, \"6\": {\"6\": 237, \"14\": 3}, \"3\": {\"12\": 38, \"9\": 21, \"2\": 13, \"3\": 152, \"7\": 7, \"4\": 7, \"1\": 1, \"5\": 1}, \"7\": {\"7\": 192, \"8\": 5, \"2\": 23, \"3\": 9, \"9\": 8, \"10\": 1, \"4\": 2}, \"2\": {\"9\": 42, \"2\": 149, \"7\": 19, \"1\": 3, \"3\": 12, \"12\": 10, \"13\": 5}, \"8\": {\"8\": 220, \"4\": 12, \"7\": 7, \"3\": 1}, \"11\": {\"11\": 240}, \"14\": {\"14\": 230, \"6\": 8, \"10\": 2}, \"12\": {\"12\": 168, \"1\": 28, \"9\": 10, \"3\": 28, \"2\": 5, \"15\": 1}, \"13\": {\"13\": 231, \"2\": 6, \"1\": 1, \"15\": 1, \"7\": 1}, \"9\": {\"9\": 172, \"2\": 42, \"12\": 5, \"3\": 16, \"7\": 5}, \"5\": {\"5\": 231, \"0\": 7, \"1\": 2}, \"1\": {\"1\": 179, \"15\": 17, \"12\": 39, \"9\": 2, \"3\": 3}}, \"O_50\": {\"5\": {\"5\": 202, \"7\": 13, \"13\": 9, \"4\": 13, \"6\": 2, \"1\": 1}, \"12\": {\"12\": 220, \"11\": 11, \"9\": 7, \"14\": 2}, \"14\": {\"14\": 240}, \"4\": {\"4\": 176, \"7\": 8, \"15\": 33, \"1\": 4, \"6\": 4, \"5\": 12, \"13\": 3}, \"13\": {\"10\": 9, \"13\": 212, \"6\": 7, \"5\": 4, \"7\": 7, \"1\": 1}, \"10\": {\"10\": 228, \"13\": 3, \"0\": 7, \"8\": 2}, \"9\": {\"9\": 228, \"11\": 8, \"12\": 4}, \"15\": {\"15\": 208, \"1\": 19, \"4\": 7, \"11\": 3, \"5\": 1, \"6\": 2}, \"6\": {\"6\": 211, \"13\": 11, \"1\": 3, \"7\": 4, \"5\": 1, \"15\": 6, \"4\": 4}, \"2\": {\"2\": 217, \"0\": 23}, \"0\": {\"0\": 212, \"10\": 8, \"2\": 20}, \"11\": {\"11\": 212, \"12\": 10, \"15\": 13, \"9\": 5}, \"3\": {\"3\": 240}, \"8\": {\"8\": 233, \"3\": 3, \"10\": 4}, \"7\": {\"7\": 213, \"13\": 7, \"4\": 5, \"6\": 7, \"5\": 8}, \"1\": {\"15\": 27, \"1\": 207, \"5\": 1, \"13\": 3, \"4\": 2}}, \"O_26\": {\"7\": {\"7\": 178, \"4\": 18, \"2\": 17, \"3\": 14, \"8\": 8, \"1\": 2, \"0\": 2, \"14\": 1}, \"6\": {\"6\": 219, \"10\": 8, \"9\": 2, \"8\": 1, \"15\": 8, \"13\": 1, \"0\": 1}, \"14\": {\"14\": 192, \"10\": 5, \"0\": 12, \"1\": 14, \"4\": 9, \"8\": 8}, \"15\": {\"15\": 180, \"9\": 36, \"8\": 6, \"13\": 7, \"10\": 3, \"6\": 5, \"2\": 1, \"7\": 1, \"0\": 1}, \"5\": {\"5\": 234, \"2\": 3, \"9\": 1, \"15\": 2}, \"10\": {\"10\": 140, \"0\": 63, \"8\": 17, \"14\": 9, \"4\": 4, \"1\": 3, \"6\": 3, \"15\": 1}, \"4\": {\"4\": 188, \"0\": 19, \"14\": 5, \"1\": 4, \"8\": 14, \"7\": 9, \"10\": 1}, \"11\": {\"11\": 240}, \"13\": {\"13\": 209, \"9\": 10, \"5\": 7, \"15\": 4, \"2\": 9, \"3\": 1}, \"2\": {\"7\": 25, \"2\": 127, \"3\": 73, \"1\": 1, \"8\": 3, \"9\": 2, \"5\": 2, \"13\": 4, \"15\": 3}, \"0\": {\"0\": 104, \"7\": 5, \"10\": 75, \"14\": 15, \"4\": 15, \"6\": 3, \"8\": 18, \"15\": 2, \"1\": 3}, \"12\": {\"12\": 240}, \"3\": {\"2\": 43, \"3\": 185, \"7\": 12}, \"9\": {\"15\": 31, \"9\": 197, \"6\": 1, \"8\": 2, \"13\": 9}, \"8\": {\"7\": 20, \"0\": 24, \"8\": 127, \"10\": 33, \"4\": 19, \"1\": 1, \"14\": 7, \"15\": 5, \"2\": 3, \"6\": 1}, \"1\": {\"1\": 215, \"14\": 13, \"0\": 3, \"7\": 1, \"8\": 2, \"4\": 6}}, \"O_32\": {\"7\": {\"7\": 183, \"0\": 6, \"2\": 3, \"5\": 19, \"14\": 8, \"4\": 17, \"13\": 4}, \"2\": {\"2\": 184, \"4\": 54, \"7\": 2}, \"5\": {\"5\": 185, \"7\": 30, \"8\": 6, \"14\": 5, \"4\": 4, \"2\": 1, \"13\": 7, \"3\": 2}, \"6\": {\"6\": 240}, \"13\": {\"13\": 177, \"3\": 23, \"8\": 15, \"7\": 5, \"4\": 12, \"5\": 4, \"11\": 2, \"0\": 1, \"14\": 1}, \"4\": {\"2\": 38, \"4\": 184, \"7\": 10, \"13\": 7, \"8\": 1}, \"3\": {\"3\": 231, \"8\": 2, \"11\": 2, \"13\": 4, \"14\": 1}, \"0\": {\"0\": 204, \"5\": 1, \"14\": 5, \"8\": 25, \"7\": 4, \"13\": 1}, \"9\": {\"9\": 240}, \"12\": {\"12\": 240}, \"8\": {\"8\": 201, \"5\": 4, \"0\": 19, \"13\": 11, \"14\": 4, \"3\": 1}, \"14\": {\"14\": 194, \"0\": 11, \"8\": 4, \"11\": 16, \"7\": 6, \"5\": 5, \"3\": 3, \"13\": 1}, \"15\": {\"15\": 239, \"8\": 1}, \"11\": {\"11\": 235, \"14\": 3, \"3\": 2}, \"10\": {\"10\": 240}, \"1\": {\"1\": 240}}, \"O_44\": {\"11\": {\"11\": 235, \"6\": 3, \"13\": 2}, \"7\": {\"7\": 165, \"9\": 52, \"2\": 18, \"6\": 5}, \"6\": {\"6\": 176, \"13\": 43, \"7\": 2, \"9\": 18, \"11\": 1}, \"12\": {\"12\": 220, \"1\": 16, \"3\": 2, \"10\": 2}, \"4\": {\"4\": 199, \"14\": 37, \"15\": 4}, \"13\": {\"13\": 177, \"6\": 37, \"9\": 23, \"11\": 3}, \"8\": {\"0\": 53, \"8\": 174, \"15\": 8, \"14\": 1, \"5\": 4}, \"5\": {\"5\": 223, \"15\": 2, \"8\": 3, \"0\": 5, \"14\": 7}, \"14\": {\"14\": 170, \"15\": 10, \"5\": 4, \"4\": 56}, \"3\": {\"3\": 229, \"1\": 11}, \"10\": {\"10\": 186, \"1\": 26, \"2\": 22, \"7\": 1, \"12\": 5}, \"1\": {\"1\": 167, \"10\": 9, \"2\": 16, \"12\": 32, \"3\": 16}, \"2\": {\"2\": 204, \"10\": 4, \"7\": 22, \"1\": 9, \"9\": 1}, \"15\": {\"15\": 198, \"4\": 6, \"0\": 16, \"14\": 10, \"8\": 5, \"5\": 5}, \"9\": {\"9\": 129, \"2\": 1, \"7\": 51, \"6\": 20, \"13\": 39}, \"0\": {\"8\": 57, \"0\": 168, \"15\": 14, \"5\": 1}}, \"O_8\": {\"10\": {\"10\": 220, \"13\": 13, \"4\": 2, \"14\": 5}, \"6\": {\"6\": 178, \"7\": 37, \"0\": 4, \"13\": 4, \"4\": 17}, \"13\": {\"13\": 115, \"10\": 43, \"4\": 42, \"0\": 28, \"6\": 9, \"14\": 2, \"7\": 1}, \"3\": {\"3\": 234, \"12\": 1, \"2\": 5}, \"9\": {\"9\": 240}, \"1\": {\"1\": 237, \"11\": 2, \"10\": 1}, \"5\": {\"5\": 237, \"14\": 1, \"1\": 2}, \"11\": {\"11\": 229, \"1\": 11}, \"4\": {\"4\": 191, \"10\": 3, \"6\": 9, \"13\": 34, \"0\": 2, \"14\": 1}, \"14\": {\"14\": 221, \"10\": 11, \"13\": 3, \"1\": 2, \"4\": 1, \"5\": 2}, \"12\": {\"12\": 210, \"15\": 22, \"3\": 7, \"8\": 1}, \"7\": {\"7\": 196, \"6\": 42, \"0\": 1, \"3\": 1}, \"0\": {\"0\": 205, \"7\": 8, \"13\": 19, \"4\": 4, \"6\": 3, \"10\": 1}, \"15\": {\"15\": 225, \"12\": 11, \"8\": 4}, \"2\": {\"2\": 232, \"7\": 6, \"3\": 2}, \"8\": {\"8\": 238, \"15\": 2}}, \"O_38\": {\"4\": {\"4\": 237, \"10\": 2, \"12\": 1}, \"7\": {\"7\": 213, \"5\": 13, \"0\": 7, \"10\": 1, \"8\": 6}, \"12\": {\"12\": 240}, \"10\": {\"0\": 11, \"10\": 203, \"13\": 18, \"7\": 2, \"4\": 2, \"3\": 1, \"14\": 1, \"8\": 2}, \"0\": {\"0\": 202, \"7\": 11, \"8\": 17, \"3\": 2, \"13\": 1, \"10\": 6, \"4\": 1}, \"1\": {\"1\": 232, \"15\": 8}, \"5\": {\"8\": 27, \"7\": 20, \"5\": 181, \"13\": 3, \"9\": 5, \"6\": 3, \"3\": 1}, \"15\": {\"15\": 199, \"1\": 14, \"8\": 21, \"13\": 3, \"5\": 3}, \"9\": {\"9\": 233, \"6\": 2, \"5\": 2, \"7\": 1, \"3\": 2}, \"11\": {\"11\": 238, \"14\": 2}, \"14\": {\"14\": 229, \"2\": 10, \"10\": 1}, \"6\": {\"6\": 239, \"9\": 1}, \"8\": {\"8\": 183, \"7\": 18, \"13\": 3, \"5\": 21, \"15\": 7, \"0\": 7, \"10\": 1}, \"3\": {\"3\": 233, \"10\": 2, \"0\": 4, \"11\": 1}, \"2\": {\"2\": 223, \"13\": 10, \"14\": 7}, \"13\": {\"13\": 223, \"10\": 7, \"2\": 7, \"0\": 2, \"14\": 1}}, \"C_4\": {\"42\": {\"42\": 32}, \"0\": {\"46\": 8, \"32\": 2, \"0\": 56, \"1\": 1, \"6\": 2, \"43\": 6, \"49\": 1, \"11\": 1, \"55\": 1, \"7\": 2}, \"1\": {\"39\": 1, \"1\": 27, \"28\": 2, \"42\": 1, \"29\": 2, \"47\": 2, \"30\": 2, \"41\": 1, \"48\": 1, \"12\": 1}, \"39\": {\"39\": 11, \"20\": 1, \"36\": 1, \"47\": 3, \"18\": 2, \"48\": 2}, \"28\": {\"34\": 2, \"28\": 11, \"27\": 3, \"11\": 1, \"48\": 2, \"33\": 1, \"9\": 3, \"32\": 1, \"1\": 1, \"6\": 1, \"49\": 1, \"42\": 2, \"29\": 1, \"15\": 1, \"57\": 1}, \"53\": {\"53\": 45, \"51\": 23, \"49\": 1, \"50\": 6, \"21\": 17, \"54\": 3, \"8\": 9, \"20\": 10, \"48\": 1, \"17\": 2, \"5\": 1, \"4\": 1, \"12\": 2, \"36\": 2, \"43\": 1}, \"19\": {\"19\": 102, \"1\": 4, \"57\": 2, \"25\": 1, \"44\": 8, \"29\": 20, \"51\": 1, \"3\": 2, \"11\": 1, \"9\": 2, \"46\": 1}, \"34\": {\"34\": 21, \"27\": 2, \"42\": 1}, \"33\": {\"19\": 1, \"40\": 3, \"3\": 1, \"33\": 16, \"1\": 1, \"44\": 9, \"57\": 1, \"35\": 1, \"32\": 2, \"49\": 1}, \"32\": {\"32\": 12, \"0\": 1, \"28\": 2, \"11\": 1, \"39\": 2, \"57\": 2, \"1\": 1, \"25\": 1, \"47\": 1, \"36\": 1}, \"10\": {\"10\": 134, \"22\": 1, \"2\": 1}, \"46\": {\"20\": 5, \"46\": 35, \"7\": 1, \"28\": 1, \"52\": 4, \"22\": 2, \"11\": 5, \"15\": 7, \"18\": 7, \"57\": 6, \"5\": 1, \"0\": 5, \"26\": 1, \"3\": 3, \"21\": 2, \"47\": 2, \"16\": 1, \"6\": 4, \"36\": 1, \"56\": 8, \"55\": 2, \"50\": 3, \"12\": 1, \"45\": 1, \"44\": 1, \"25\": 6, \"53\": 2, \"40\": 1, \"4\": 1, \"39\": 1, \"17\": 1, \"1\": 1, \"35\": 1, \"41\": 1, \"54\": 1, \"8\": 1, \"48\": 2, \"43\": 3, \"23\": 3}, \"20\": {\"20\": 105, \"57\": 2, \"5\": 1, \"53\": 2, \"51\": 1, \"36\": 2, \"55\": 3, \"46\": 1, \"8\": 3, \"48\": 1, \"50\": 1}, \"5\": {\"39\": 1, \"42\": 2, \"5\": 24, \"15\": 3, \"48\": 4, \"23\": 17, \"6\": 5, \"11\": 1, \"41\": 2, \"16\": 5, \"47\": 7, \"46\": 1, \"19\": 1, \"54\": 3, \"36\": 2, \"52\": 10, \"8\": 2, \"3\": 3, \"50\": 2, \"18\": 3, \"57\": 2, \"29\": 1, \"1\": 1, \"7\": 1, \"44\": 1, \"20\": 1, \"0\": 1, \"55\": 1, \"25\": 1}, \"40\": {\"5\": 1, \"40\": 40, \"33\": 7, \"22\": 5, \"32\": 1, \"35\": 1, \"31\": 2, \"0\": 6, \"6\": 1, \"29\": 6, \"55\": 8, \"19\": 10, \"43\": 5, \"50\": 3, \"46\": 1, \"44\": 19, \"21\": 2, \"57\": 1, \"24\": 1, \"7\": 1, \"41\": 1, \"3\": 2}, \"51\": {\"53\": 13, \"51\": 63, \"21\": 23, \"17\": 4, \"8\": 7, \"48\": 3, \"30\": 1, \"54\": 4, \"3\": 1, \"36\": 4, \"20\": 8, \"50\": 3, \"4\": 3, \"12\": 4, \"45\": 1, \"9\": 2}, \"37\": {\"37\": 24}, \"17\": {\"17\": 80}, \"45\": {\"45\": 62, \"12\": 5, \"27\": 8, \"9\": 13, \"8\": 2, \"54\": 1, \"53\": 1, \"51\": 2, \"48\": 2}, \"13\": {\"13\": 140, \"56\": 2}, \"27\": {\"27\": 126, \"36\": 1, \"17\": 5, \"34\": 1, \"20\": 1, \"45\": 1, \"9\": 3, \"8\": 1, \"39\": 1, \"48\": 3, \"12\": 1}, \"24\": {\"24\": 48, \"43\": 2, \"10\": 2, \"22\": 4}, \"30\": {\"30\": 38, \"17\": 1, \"8\": 3, \"12\": 1, \"27\": 1}, \"31\": {\"31\": 27, \"55\": 1}, \"41\": {\"36\": 2, \"52\": 4, \"8\": 2, \"48\": 1, \"41\": 14, \"23\": 7, \"5\": 2, \"10\": 1, \"13\": 1, \"3\": 1, \"54\": 1}, \"36\": {\"36\": 86, \"54\": 2, \"3\": 1, \"6\": 1, \"20\": 2}, \"16\": {\"16\": 85, \"15\": 4, \"23\": 2, \"44\": 2, \"18\": 1, \"52\": 2}, \"22\": {\"13\": 3, \"22\": 93, \"43\": 3, \"49\": 1, \"24\": 7, \"46\": 2, \"10\": 7, \"40\": 1, \"11\": 1, \"0\": 3, \"44\": 2, \"7\": 1, \"2\": 3, \"56\": 1}, \"44\": {\"44\": 83, \"57\": 4, \"40\": 4, \"28\": 1, \"29\": 9, \"19\": 20, \"36\": 2, \"5\": 1, \"3\": 1, \"33\": 1, \"1\": 1, \"12\": 1, \"46\": 1, \"55\": 1, \"47\": 1, \"25\": 1}, \"9\": {\"45\": 4, \"27\": 7, \"9\": 101, \"47\": 1, \"54\": 1, \"4\": 6, \"48\": 5, \"12\": 2, \"50\": 7, \"53\": 1, \"57\": 1, \"8\": 2, \"51\": 1, \"3\": 1}, \"57\": {\"57\": 48, \"47\": 7, \"16\": 1, \"48\": 9, \"4\": 1, \"17\": 1, \"5\": 1, \"35\": 1, \"15\": 1, \"3\": 1, \"18\": 1, \"36\": 6, \"54\": 4, \"20\": 7, \"29\": 3, \"28\": 2, \"42\": 3, \"21\": 1, \"12\": 2}, \"8\": {\"8\": 133, \"30\": 3, \"20\": 2}, \"23\": {\"23\": 132}, \"47\": {\"47\": 55, \"36\": 2, \"15\": 11, \"42\": 3, \"30\": 1, \"21\": 1, \"23\": 13, \"6\": 2, \"57\": 5, \"54\": 3, \"52\": 4, \"3\": 2, \"50\": 1, \"25\": 1, \"18\": 1, \"48\": 7, \"16\": 5, \"29\": 1, \"5\": 2}, \"43\": {\"0\": 4, \"43\": 117, \"32\": 1, \"11\": 5, \"52\": 1, \"24\": 2, \"5\": 4, \"46\": 2, \"15\": 2}, \"49\": {\"49\": 20}, \"3\": {\"3\": 57, \"23\": 1, \"25\": 1, \"39\": 1, \"21\": 1, \"6\": 3, \"44\": 3, \"48\": 10, \"5\": 3, \"29\": 1, \"12\": 2, \"54\": 3, \"27\": 2, \"50\": 10, \"36\": 9, \"51\": 1, \"9\": 4, \"8\": 3, \"4\": 1, \"17\": 1, \"57\": 1, \"41\": 1, \"20\": 3, \"53\": 1, \"18\": 1}, \"12\": {\"12\": 81, \"8\": 2, \"27\": 6, \"17\": 1, \"36\": 1, \"30\": 1}, \"38\": {\"38\": 38, \"22\": 2}, \"7\": {\"7\": 20, \"46\": 1, \"19\": 1, \"0\": 1, \"33\": 1}, \"14\": {\"38\": 1, \"14\": 7, \"10\": 1, \"33\": 1, \"46\": 1, \"35\": 3, \"49\": 1, \"22\": 1}, \"15\": {\"15\": 131, \"52\": 4, \"35\": 1, \"23\": 3, \"16\": 6, \"0\": 1}, \"25\": {\"34\": 1, \"21\": 2, \"25\": 45, \"36\": 10, \"20\": 12, \"57\": 2, \"42\": 4, \"3\": 2, \"54\": 6, \"51\": 1, \"8\": 14, \"48\": 12, \"27\": 4, \"50\": 4, \"4\": 1, \"47\": 4, \"15\": 1, \"6\": 1, \"5\": 1, \"53\": 1}, \"26\": {\"27\": 2, \"26\": 16, \"9\": 1, \"54\": 1, \"17\": 1, \"4\": 1, \"48\": 1, \"28\": 1}, \"21\": {\"21\": 130, \"12\": 2}, \"48\": {\"48\": 139, \"54\": 3, \"36\": 1, \"20\": 1}, \"56\": {\"56\": 123, \"2\": 2, \"22\": 5, \"13\": 1, \"10\": 3}, \"11\": {\"11\": 79, \"48\": 1, \"23\": 4, \"52\": 5, \"57\": 1, \"16\": 3, \"15\": 7, \"3\": 3, \"47\": 1}, \"2\": {\"2\": 28, \"56\": 1, \"10\": 4, \"38\": 2, \"22\": 1}, \"6\": {\"48\": 15, \"6\": 14, \"17\": 5, \"5\": 8, \"41\": 1, \"51\": 3, \"8\": 6, \"20\": 7, \"4\": 3, \"33\": 1, \"54\": 8, \"44\": 3, \"3\": 5, \"36\": 6, \"47\": 4, \"23\": 4, \"27\": 1, \"52\": 3, \"18\": 3, \"11\": 1, \"50\": 2, \"9\": 1, \"26\": 1, \"28\": 1, \"42\": 1, \"21\": 1, \"45\": 1, \"57\": 1, \"53\": 1, \"12\": 1}, \"55\": {\"55\": 87, \"35\": 4, \"5\": 1, \"40\": 16, \"41\": 2, \"29\": 1, \"19\": 5, \"0\": 3, \"43\": 3, \"50\": 2, \"3\": 1, \"46\": 9, \"44\": 5, \"11\": 1}, \"54\": {\"53\": 4, \"54\": 56, \"30\": 2, \"42\": 3, \"48\": 7, \"8\": 4, \"47\": 6, \"23\": 5, \"20\": 4, \"5\": 2, \"51\": 3, \"36\": 7, \"4\": 2, \"26\": 1, \"50\": 2}, \"29\": {\"29\": 80, \"1\": 2, \"28\": 2, \"35\": 1, \"19\": 19, \"57\": 4, \"3\": 1, \"33\": 2, \"55\": 2, \"6\": 1, \"21\": 4, \"26\": 3, \"44\": 3}, \"50\": {\"53\": 6, \"28\": 2, \"50\": 27, \"57\": 7, \"54\": 7, \"52\": 1, \"12\": 1, \"51\": 3, \"17\": 3, \"27\": 12, \"5\": 3, \"36\": 5, \"9\": 10, \"6\": 2, \"4\": 6, \"44\": 2, \"3\": 8, \"25\": 4, \"48\": 7, \"20\": 1, \"45\": 1, \"30\": 1, \"16\": 1, \"15\": 1, \"47\": 1}, \"52\": {\"52\": 106, \"23\": 9, \"15\": 1}, \"35\": {\"35\": 30, \"49\": 1, \"44\": 1, \"40\": 1, \"55\": 4, \"7\": 1, \"33\": 1, \"29\": 1}, \"4\": {\"4\": 92, \"50\": 4, \"17\": 5, \"54\": 1, \"48\": 8, \"8\": 2, \"9\": 4, \"28\": 2, \"12\": 1, \"18\": 1}, \"18\": {\"18\": 108}}, \"W_3\": {\"110\": {\"89\": 1, \"110\": 42, \"129\": 1, \"93\": 1, \"87\": 8, \"1\": 12, \"70\": 1, \"114\": 9, \"84\": 5, \"108\": 1, \"113\": 1, \"100\": 1, \"29\": 1, \"105\": 1, \"122\": 2, \"18\": 1, \"62\": 2, \"4\": 1, \"39\": 1}, \"1\": {\"1\": 78, \"105\": 5, \"108\": 1, \"110\": 3, \"43\": 1, \"114\": 10, \"5\": 1, \"87\": 1, \"129\": 3, \"69\": 1, \"62\": 3, \"107\": 1}, \"2\": {\"117\": 2, \"92\": 1, \"102\": 1, \"26\": 1, \"118\": 1, \"64\": 2, \"21\": 2, \"2\": 4, \"109\": 1, \"93\": 1, \"90\": 1, \"122\": 1, \"11\": 1, \"13\": 1, \"22\": 1, \"121\": 1, \"69\": 1, \"14\": 1, \"23\": 1, \"126\": 2, \"18\": 1}, \"94\": {\"94\": 52, \"89\": 1, \"6\": 2, \"0\": 3, \"16\": 2, \"125\": 3, \"15\": 5, \"106\": 4, \"27\": 2, \"36\": 4, \"30\": 1, \"75\": 1, \"96\": 1, \"111\": 2, \"98\": 1}, \"64\": {\"64\": 20}, \"78\": {\"110\": 2, \"60\": 1, \"67\": 1, \"113\": 1, \"1\": 1, \"64\": 1, \"74\": 1, \"55\": 1, \"78\": 1, \"30\": 1, \"34\": 1, \"20\": 1, \"40\": 1, \"21\": 2}, \"47\": {\"47\": 6, \"73\": 2, \"15\": 2, \"52\": 1, \"118\": 1}, \"127\": {\"127\": 100, \"112\": 1, \"30\": 1, \"57\": 1, \"71\": 3, \"10\": 5, \"7\": 5, \"5\": 4, \"3\": 3, \"93\": 1, \"70\": 2, \"40\": 1, \"11\": 1}, \"89\": {\"79\": 1, \"89\": 12, \"118\": 1, \"69\": 1, \"53\": 1, \"16\": 2, \"77\": 1, \"11\": 2, \"20\": 2, \"21\": 1, \"76\": 1, \"71\": 1, \"14\": 1, \"105\": 1}, \"79\": {\"79\": 11, \"34\": 1}, \"22\": {\"22\": 10, \"89\": 1, \"126\": 1, \"7\": 2, \"60\": 2}, \"117\": {\"117\": 51, \"93\": 12, \"96\": 2, \"63\": 1, \"126\": 2, \"26\": 9, \"18\": 6, \"39\": 11, \"11\": 2, \"16\": 2, \"33\": 1, \"123\": 1, \"81\": 2, \"69\": 1, \"2\": 1, \"118\": 3, \"113\": 3, \"102\": 2}, \"49\": {\"49\": 5, \"47\": 1, \"88\": 1, \"109\": 1, \"16\": 1, \"30\": 1, \"118\": 2, \"113\": 1, \"80\": 1, \"124\": 1, \"123\": 2, \"36\": 1, \"73\": 2, \"91\": 1, \"129\": 2, \"93\": 1}, \"14\": {\"14\": 59, \"32\": 1, \"69\": 6, \"117\": 2, \"43\": 1, \"62\": 2, \"118\": 1, \"11\": 2, \"45\": 1, \"74\": 1, \"16\": 2, \"1\": 1, \"126\": 1}, \"103\": {\"78\": 1, \"103\": 15}, \"123\": {\"123\": 13, \"63\": 1, \"29\": 1, \"96\": 1}, \"98\": {\"98\": 77, \"0\": 14, \"52\": 2, \"24\": 2, \"101\": 6, \"113\": 1, \"30\": 3, \"49\": 1, \"8\": 3, \"34\": 1, \"111\": 4, \"12\": 8, \"35\": 1, \"124\": 2, \"33\": 1, \"26\": 1, \"109\": 1}, \"18\": {\"18\": 86, \"81\": 2, \"63\": 1, \"113\": 5, \"120\": 1, \"39\": 5, \"90\": 3, \"93\": 3, \"126\": 1, \"109\": 1}, \"61\": {\"61\": 16}, \"108\": {\"108\": 63, \"85\": 1, \"47\": 1, \"129\": 1, \"95\": 1, \"53\": 1, \"88\": 8, \"8\": 6, \"71\": 1, \"14\": 2, \"70\": 4, \"5\": 2, \"124\": 3, \"127\": 5, \"7\": 3, \"12\": 1, \"102\": 2, \"10\": 7, \"107\": 2, \"92\": 1, \"18\": 1, \"23\": 1, \"128\": 1, \"4\": 1, \"3\": 1, \"87\": 1, \"110\": 1, \"1\": 1, \"62\": 1, \"40\": 1, \"114\": 1}, \"100\": {\"100\": 12, \"32\": 1, \"34\": 2, \"128\": 1}, \"0\": {\"108\": 3, \"98\": 6, \"10\": 5, \"111\": 11, \"0\": 45, \"7\": 5, \"77\": 1, \"12\": 8, \"30\": 5, \"34\": 2, \"127\": 1, \"15\": 3, \"8\": 4, \"52\": 1, \"56\": 1, \"73\": 1, \"60\": 1, \"24\": 1, \"49\": 1, \"35\": 1, \"106\": 4, \"70\": 2, \"27\": 1, \"88\": 1, \"5\": 1, \"114\": 1}, \"107\": {\"107\": 103, \"40\": 12, \"9\": 1, \"122\": 2, \"4\": 1, \"14\": 1, \"114\": 2, \"62\": 1, \"115\": 1, \"82\": 3, \"128\": 1, \"129\": 1, \"99\": 1}, \"58\": {\"0\": 1, \"58\": 11, \"72\": 2, \"34\": 1, \"8\": 1}, \"8\": {\"8\": 70, \"0\": 7, \"108\": 8, \"88\": 4, \"127\": 1, \"98\": 6, \"12\": 5, \"105\": 1, \"7\": 3, \"30\": 1, \"83\": 1, \"114\": 1, \"85\": 1, \"124\": 4, \"3\": 1, \"111\": 1, \"70\": 2, \"10\": 3}, \"85\": {\"8\": 3, \"85\": 28, \"41\": 1, \"3\": 1, \"30\": 1, \"9\": 1, \"12\": 1}, \"31\": {\"81\": 1, \"31\": 12, \"113\": 1, \"21\": 1, \"126\": 1, \"120\": 2, \"29\": 1, \"96\": 1}, \"81\": {\"18\": 3, \"81\": 24, \"113\": 1, \"96\": 1, \"17\": 1, \"92\": 2}, \"60\": {\"23\": 1, \"60\": 10, \"22\": 1, \"118\": 1, \"66\": 1, \"120\": 1, \"110\": 1, \"42\": 1, \"78\": 2, \"2\": 1, \"47\": 1, \"119\": 1, \"96\": 1, \"69\": 1, \"21\": 1, \"102\": 1, \"122\": 2}, \"102\": {\"102\": 69, \"11\": 9, \"33\": 4, \"84\": 2, \"69\": 5, \"117\": 1, \"14\": 1, \"16\": 5, \"62\": 12, \"26\": 3, \"87\": 1, \"118\": 1, \"43\": 1, \"109\": 2}, \"19\": {\"108\": 1, \"85\": 2, \"63\": 2, \"19\": 7, \"113\": 1, \"33\": 1, \"32\": 1, \"0\": 1, \"64\": 1, \"87\": 1, \"10\": 1, \"7\": 2, \"43\": 1, \"9\": 2, \"118\": 1, \"116\": 2, \"46\": 1, \"107\": 1, \"123\": 1, \"44\": 1, \"18\": 1}, \"23\": {\"108\": 3, \"23\": 4, \"66\": 1, \"67\": 3, \"52\": 1, \"21\": 1, \"18\": 2, \"30\": 1, \"10\": 1, \"17\": 1, \"105\": 2, \"123\": 1, \"33\": 1, \"70\": 1, \"98\": 2, \"39\": 1, \"71\": 2, \"85\": 1, \"3\": 1, \"43\": 1, \"124\": 1}, \"32\": {\"32\": 10, \"99\": 1, \"23\": 1, \"62\": 1, \"60\": 1, \"11\": 3, \"87\": 2, \"128\": 4, \"79\": 1, \"14\": 2, \"69\": 2, \"84\": 2, \"88\": 1, \"102\": 1}, \"39\": {\"63\": 1, \"39\": 29, \"123\": 1, \"81\": 3, \"67\": 1, \"26\": 9, \"118\": 5, \"21\": 6, \"113\": 12, \"90\": 3, \"126\": 10, \"92\": 1, \"117\": 6, \"93\": 8, \"33\": 6, \"64\": 1, \"43\": 2, \"18\": 4}, \"129\": {\"57\": 3, \"129\": 18, \"32\": 1, \"11\": 1, \"29\": 1, \"120\": 1, \"105\": 1, \"107\": 2, \"87\": 1, \"19\": 1, \"122\": 1, \"4\": 1}, \"71\": {\"70\": 2, \"71\": 46, \"5\": 8, \"127\": 7, \"111\": 1, \"128\": 1, \"60\": 1, \"117\": 1, \"23\": 1}, \"91\": {\"70\": 1, \"39\": 1, \"30\": 5, \"27\": 1, \"35\": 1, \"56\": 1, \"91\": 4, \"57\": 1, \"37\": 1, \"0\": 1, \"83\": 1, \"68\": 1, \"52\": 1, \"73\": 1, \"7\": 1, \"44\": 2}, \"101\": {\"101\": 37, \"111\": 1, \"95\": 1, \"40\": 1, \"12\": 3, \"30\": 1, \"8\": 1, \"32\": 1, \"98\": 3, \"77\": 1, \"42\": 1, \"46\": 1}, \"62\": {\"62\": 70, \"63\": 1, \"80\": 1, \"81\": 1, \"118\": 3, \"14\": 2, \"11\": 3, \"102\": 9, \"87\": 5, \"93\": 2, \"84\": 7, \"16\": 2, \"90\": 2, \"120\": 1, \"129\": 1, \"69\": 2, \"32\": 1, \"33\": 1, \"117\": 1, \"43\": 1, \"113\": 1, \"126\": 3, \"109\": 2}, \"63\": {\"39\": 1, \"63\": 11, \"18\": 1, \"96\": 2, \"92\": 1}, \"125\": {\"125\": 82, \"37\": 1, \"24\": 2, \"27\": 5, \"106\": 5, \"113\": 1, \"94\": 2, \"111\": 4, \"15\": 5, \"36\": 8, \"0\": 2, \"97\": 2, \"98\": 1}, \"57\": {\"123\": 1, \"71\": 1, \"57\": 12, \"1\": 3, \"19\": 1, \"14\": 1, \"129\": 1}, \"28\": {\"28\": 12, \"126\": 1, \"80\": 2, \"64\": 1}, \"70\": {\"123\": 1, \"70\": 9, \"62\": 1, \"82\": 1, \"10\": 3, \"103\": 1, \"33\": 4, \"13\": 1, \"24\": 1, \"7\": 3, \"14\": 1, \"113\": 1, \"92\": 1, \"0\": 1, \"71\": 1, \"4\": 2, \"126\": 3, \"90\": 2, \"5\": 4, \"93\": 3, \"108\": 4, \"127\": 2, \"107\": 4, \"84\": 2, \"3\": 1, \"80\": 1, \"8\": 3, \"85\": 1, \"44\": 2, \"105\": 1, \"118\": 1, \"89\": 1, \"40\": 2, \"114\": 1, \"11\": 1, \"124\": 1}, \"99\": {\"99\": 25, \"79\": 1, \"21\": 1, \"27\": 1, \"38\": 1, \"58\": 1, \"19\": 1, \"10\": 1, \"4\": 2, \"71\": 1, \"70\": 1}, \"121\": {\"121\": 14, \"69\": 1, \"67\": 2, \"61\": 2, \"126\": 1, \"21\": 2, \"119\": 2, \"120\": 1, \"80\": 1, \"22\": 2, \"113\": 1, \"26\": 1, \"96\": 1, \"105\": 1}, \"4\": {\"1\": 1, \"4\": 57, \"128\": 1, \"9\": 3, \"105\": 9, \"5\": 8, \"10\": 1, \"71\": 1, \"114\": 5, \"122\": 1, \"40\": 1, \"55\": 1, \"88\": 1, \"32\": 1, \"127\": 2, \"117\": 1, \"8\": 1, \"110\": 1}, \"80\": {\"80\": 12, \"67\": 2, \"96\": 2}, \"51\": {\"15\": 1, \"30\": 1, \"51\": 11, \"106\": 1, \"25\": 1, \"73\": 1}, \"3\": {\"3\": 94, \"108\": 2, \"125\": 1, \"10\": 2, \"127\": 4, \"5\": 2, \"126\": 1, \"88\": 1, \"114\": 2, \"0\": 1, \"7\": 2, \"101\": 1, \"71\": 1, \"8\": 1, \"93\": 1}, \"9\": {\"1\": 1, \"9\": 20, \"85\": 1, \"4\": 1, \"40\": 3, \"5\": 1, \"122\": 1, \"55\": 1, \"95\": 1, \"105\": 2}, \"53\": {\"53\": 10, \"5\": 3, \"115\": 1, \"95\": 1, \"108\": 2, \"82\": 1, \"40\": 2}, \"30\": {\"30\": 36, \"66\": 1, \"58\": 2, \"72\": 1, \"24\": 1, \"86\": 1, \"3\": 4, \"10\": 2, \"7\": 3, \"27\": 2, \"36\": 3, \"98\": 2, \"0\": 2, \"12\": 3, \"108\": 1, \"127\": 2, \"51\": 3, \"32\": 1, \"59\": 1, \"111\": 4, \"71\": 1, \"33\": 1, \"124\": 1, \"88\": 2, \"70\": 1, \"8\": 2, \"85\": 1}, \"33\": {\"33\": 108, \"109\": 3, \"2\": 1, \"93\": 3, \"102\": 2, \"43\": 2, \"16\": 2, \"11\": 1}, \"15\": {\"30\": 4, \"97\": 1, \"15\": 38, \"94\": 7, \"0\": 4, \"24\": 3, \"106\": 7, \"98\": 5, \"125\": 11, \"111\": 5, \"36\": 7, \"124\": 1, \"10\": 1, \"6\": 1, \"27\": 8, \"126\": 1}, \"97\": {\"80\": 1, \"51\": 1, \"72\": 1, \"97\": 7, \"73\": 2, \"106\": 1, \"15\": 1, \"125\": 1, \"91\": 2, \"30\": 1, \"101\": 1, \"71\": 1}, \"86\": {\"86\": 16, \"1\": 2, \"48\": 1, \"88\": 1, \"105\": 1, \"128\": 1, \"20\": 1, \"103\": 1, \"60\": 1, \"108\": 1, \"62\": 1, \"107\": 1}, \"20\": {\"20\": 9, \"67\": 1, \"79\": 1, \"69\": 1, \"89\": 1, \"80\": 1, \"18\": 1, \"87\": 1}, \"66\": {\"66\": 7, \"65\": 1, \"93\": 1, \"72\": 1, \"77\": 2, \"24\": 1, \"22\": 2, \"107\": 1}, \"10\": {\"72\": 1, \"23\": 1, \"10\": 29, \"48\": 1, \"111\": 4, \"60\": 1, \"120\": 1, \"70\": 5, \"77\": 1, \"128\": 2, \"121\": 1, \"7\": 9, \"8\": 2, \"108\": 3, \"87\": 5, \"95\": 1, \"12\": 9, \"1\": 5, \"98\": 6, \"114\": 3, \"88\": 5, \"124\": 5, \"90\": 2, \"0\": 3, \"86\": 1, \"4\": 2, \"116\": 1, \"49\": 2, \"30\": 1, \"110\": 1, \"62\": 1, \"40\": 1, \"5\": 1, \"84\": 1, \"126\": 1, \"106\": 1, \"93\": 1, \"127\": 1, \"109\": 1}, \"29\": {\"67\": 3, \"29\": 13, \"129\": 1, \"44\": 4, \"21\": 2, \"64\": 2, \"19\": 1, \"113\": 1, \"126\": 2, \"84\": 1, \"96\": 1, \"17\": 1}, \"109\": {\"69\": 6, \"63\": 1, \"129\": 1, \"117\": 2, \"43\": 1, \"92\": 1, \"21\": 6, \"113\": 8, \"74\": 1, \"109\": 24, \"64\": 1, \"16\": 5, \"2\": 2, \"90\": 5, \"5\": 1, \"126\": 12, \"128\": 1, \"26\": 4, \"18\": 4, \"93\": 5, \"33\": 2, \"102\": 8, \"11\": 1, \"22\": 1, \"121\": 1, \"116\": 1, \"13\": 2, \"118\": 3, \"62\": 4}, \"52\": {\"52\": 8, \"42\": 1, \"112\": 1, \"88\": 1, \"34\": 2, \"7\": 1, \"124\": 1, \"66\": 1}, \"67\": {\"67\": 15, \"39\": 1}, \"83\": {\"83\": 13, \"67\": 1, \"88\": 1, \"57\": 1, \"94\": 1, \"113\": 1, \"8\": 2, \"72\": 2, \"49\": 1, \"98\": 1}, \"72\": {\"72\": 23, \"73\": 1, \"0\": 2, \"34\": 1, \"30\": 1}, \"90\": {\"90\": 95, \"96\": 2, \"18\": 2, \"92\": 2, \"44\": 2, \"113\": 8, \"126\": 6, \"108\": 1, \"28\": 1, \"21\": 1, \"39\": 2, \"43\": 2, \"93\": 1, \"109\": 1}, \"69\": {\"69\": 61, \"26\": 3, \"87\": 1, \"90\": 1, \"14\": 5, \"102\": 3, \"16\": 2, \"84\": 2, \"109\": 3, \"11\": 1, \"89\": 1, \"62\": 1}, \"88\": {\"108\": 10, \"129\": 1, \"7\": 4, \"120\": 2, \"88\": 24, \"33\": 3, \"13\": 1, \"64\": 1, \"8\": 6, \"124\": 2, \"92\": 3, \"85\": 1, \"126\": 8, \"1\": 1, \"127\": 2, \"4\": 2, \"118\": 1, \"11\": 1, \"107\": 1, \"90\": 5, \"87\": 3, \"84\": 1, \"113\": 2, \"10\": 2, \"103\": 1, \"63\": 1, \"66\": 2, \"68\": 1, \"23\": 1, \"96\": 2, \"128\": 1, \"95\": 1, \"30\": 1, \"114\": 2, \"71\": 1, \"93\": 2, \"43\": 1, \"70\": 2, \"12\": 1, \"110\": 1, \"18\": 2, \"109\": 1, \"5\": 1}, \"115\": {\"115\": 13, \"32\": 1, \"40\": 1, \"107\": 1}, \"73\": {\"73\": 16, \"92\": 2, \"98\": 2, \"37\": 1, \"75\": 1, \"120\": 1, \"34\": 3, \"97\": 2, \"124\": 1, \"106\": 1, \"8\": 1, \"44\": 1, \"0\": 1, \"36\": 1, \"94\": 1, \"111\": 1, \"93\": 1, \"10\": 1, \"30\": 2}, \"34\": {\"62\": 3, \"6\": 2, \"34\": 5, \"50\": 1, \"24\": 1, \"16\": 1, \"1\": 1, \"14\": 1, \"0\": 1, \"70\": 1, \"110\": 1, \"94\": 1, \"58\": 2, \"75\": 1, \"20\": 2, \"98\": 1, \"36\": 1, \"51\": 3, \"25\": 1, \"79\": 1, \"73\": 1}, \"25\": {\"25\": 13, \"6\": 1, \"75\": 2}, \"44\": {\"44\": 63, \"113\": 3, \"118\": 1, \"23\": 1, \"39\": 1, \"93\": 1, \"33\": 2}, \"112\": {\"112\": 6, \"30\": 1, \"97\": 1, \"23\": 1, \"105\": 1, \"3\": 2, \"22\": 2, \"4\": 1, \"10\": 1}, \"37\": {\"98\": 4, \"37\": 7, \"73\": 1, \"34\": 1, \"80\": 1, \"101\": 2}, \"77\": {\"77\": 11, \"124\": 3, \"7\": 1, \"95\": 1}, \"111\": {\"111\": 79, \"98\": 5, \"85\": 1, \"97\": 4, \"124\": 7, \"73\": 1, \"30\": 5, \"34\": 2, \"12\": 6, \"0\": 4, \"102\": 1, \"7\": 1, \"125\": 1, \"94\": 2, \"8\": 1, \"14\": 1, \"108\": 1}, \"119\": {\"119\": 13, \"102\": 1, \"121\": 1, \"62\": 1}, \"56\": {\"56\": 4, \"98\": 2, \"10\": 1, \"111\": 2, \"108\": 1, \"38\": 1, \"60\": 1}, \"5\": {\"122\": 1, \"5\": 83, \"23\": 1, \"108\": 2, \"71\": 1, \"62\": 1, \"70\": 2, \"4\": 6, \"105\": 6, \"88\": 2, \"114\": 2, \"14\": 1, \"40\": 2, \"110\": 1, \"127\": 1}, \"122\": {\"122\": 20, \"119\": 1, \"4\": 1, \"13\": 2, \"70\": 2, \"1\": 3, \"82\": 1, \"14\": 3, \"87\": 1, \"16\": 2, \"114\": 1, \"102\": 1, \"126\": 1, \"107\": 2, \"33\": 1, \"39\": 3, \"62\": 1, \"11\": 2, \"118\": 3, \"44\": 1, \"48\": 1, \"129\": 2, \"84\": 1, \"31\": 1, \"69\": 2, \"110\": 1}, \"74\": {\"74\": 11, \"14\": 3, \"82\": 1, \"64\": 1}, \"11\": {\"118\": 7, \"11\": 50, \"69\": 4, \"21\": 3, \"100\": 1, \"87\": 4, \"19\": 1, \"64\": 2, \"82\": 1, \"26\": 8, \"14\": 7, \"16\": 2, \"93\": 6, \"18\": 5, \"109\": 7, \"92\": 1, \"39\": 4, \"113\": 3, \"62\": 1, \"90\": 4, \"102\": 9, \"126\": 4, \"33\": 2, \"40\": 1, \"120\": 1, \"13\": 1, \"88\": 2, \"74\": 2, \"23\": 1, \"67\": 1, \"89\": 1, \"71\": 1, \"117\": 4, \"107\": 1}, \"41\": {\"52\": 1, \"104\": 1, \"41\": 6, \"47\": 1, \"85\": 2, \"105\": 1, \"72\": 1, \"124\": 1, \"4\": 2}, \"104\": {\"104\": 15, \"115\": 1}, \"21\": {\"81\": 1, \"21\": 31, \"29\": 2, \"101\": 2, \"109\": 1, \"90\": 2, \"118\": 2, \"22\": 2, \"64\": 2, \"126\": 2, \"122\": 1}, \"118\": {\"21\": 1, \"11\": 3, \"118\": 32, \"6\": 1, \"43\": 2, \"126\": 7, \"84\": 1, \"120\": 2, \"62\": 4, \"2\": 1, \"16\": 3, \"92\": 3, \"18\": 1, \"109\": 3, \"26\": 7, \"39\": 2, \"93\": 3, \"69\": 3, \"117\": 1, \"113\": 3, \"90\": 3, \"33\": 3, \"122\": 1, \"100\": 1, \"80\": 1, \"96\": 2, \"81\": 1, \"102\": 4, \"24\": 1}, \"40\": {\"40\": 80, \"11\": 2, \"105\": 4, \"1\": 5, \"114\": 5, \"4\": 3, \"84\": 2, \"110\": 2, \"107\": 7, \"16\": 1, \"62\": 1, \"88\": 2, \"108\": 1, \"55\": 2, \"69\": 1, \"122\": 1, \"14\": 1, \"87\": 1, \"127\": 1}, \"6\": {\"6\": 19, \"73\": 1, \"27\": 2, \"51\": 2, \"83\": 1, \"36\": 1, \"97\": 2, \"15\": 2, \"111\": 1, \"125\": 1}, \"27\": {\"94\": 3, \"15\": 3, \"6\": 1, \"27\": 30, \"30\": 5, \"54\": 2, \"0\": 5, \"95\": 1, \"124\": 1, \"24\": 3, \"111\": 3, \"108\": 2, \"49\": 1, \"8\": 3, \"125\": 6, \"36\": 11, \"12\": 2, \"106\": 2, \"128\": 1, \"91\": 1, \"7\": 3, \"73\": 2, \"51\": 1, \"23\": 1, \"97\": 1, \"71\": 2}, \"113\": {\"113\": 79, \"43\": 2, \"2\": 2, \"90\": 4, \"126\": 19, \"21\": 2, \"18\": 4, \"64\": 1, \"67\": 2, \"92\": 1, \"39\": 1, \"88\": 2, \"93\": 1}, \"68\": {\"68\": 12, \"27\": 1, \"95\": 2, \"124\": 1}, \"12\": {\"15\": 1, \"47\": 1, \"0\": 11, \"111\": 5, \"5\": 1, \"12\": 46, \"98\": 11, \"8\": 6, \"30\": 5, \"124\": 3, \"127\": 2, \"7\": 1, \"78\": 1, \"59\": 1, \"106\": 1, \"10\": 2, \"94\": 1, \"108\": 3}, \"54\": {\"54\": 13, \"27\": 2, \"36\": 1}, \"24\": {\"37\": 2, \"24\": 13, \"35\": 1, \"54\": 1, \"80\": 1, \"30\": 1, \"32\": 1, \"0\": 5, \"34\": 2, \"36\": 3, \"75\": 2, \"86\": 1, \"42\": 1, \"27\": 3, \"58\": 2, \"12\": 1, \"121\": 1, \"8\": 2, \"52\": 1, \"106\": 2, \"98\": 1, \"125\": 1}, \"106\": {\"24\": 1, \"106\": 69, \"58\": 3, \"125\": 2, \"6\": 1, \"15\": 12, \"27\": 4, \"94\": 1, \"36\": 2, \"111\": 2, \"126\": 1, \"104\": 1, \"91\": 1}, \"128\": {\"128\": 21, \"99\": 1, \"46\": 1, \"19\": 2, \"5\": 2, \"71\": 1, \"105\": 1, \"122\": 1, \"84\": 1, \"49\": 1}, \"48\": {\"48\": 5, \"32\": 1, \"65\": 1, \"10\": 1, \"100\": 1, \"14\": 1, \"79\": 1, \"95\": 2, \"22\": 1, \"50\": 2}, \"92\": {\"92\": 30, \"80\": 1, \"64\": 1}, \"35\": {\"22\": 1, \"73\": 1, \"80\": 1, \"54\": 1, \"27\": 2, \"35\": 5, \"91\": 1}, \"116\": {\"116\": 10, \"20\": 1, \"118\": 1, \"18\": 1, \"76\": 1, \"67\": 1, \"126\": 1, \"103\": 1, \"11\": 1, \"89\": 1, \"129\": 1, \"63\": 1, \"74\": 1, \"28\": 1, \"92\": 2, \"81\": 1, \"17\": 1, \"44\": 1}, \"38\": {\"38\": 13, \"120\": 1, \"66\": 1, \"77\": 1}, \"126\": {\"126\": 103, \"113\": 13, \"21\": 2, \"92\": 1, \"93\": 2, \"39\": 1, \"18\": 1, \"88\": 1}, \"46\": {\"46\": 11, \"4\": 1, \"105\": 4}, \"120\": {\"120\": 20}, \"7\": {\"7\": 66, \"98\": 2, \"46\": 1, \"101\": 1, \"10\": 9, \"108\": 3, \"111\": 2, \"70\": 2, \"127\": 2, \"12\": 2, \"30\": 2, \"105\": 1, \"8\": 3, \"77\": 1, \"0\": 2, \"34\": 1, \"95\": 1, \"9\": 1, \"19\": 1, \"113\": 1, \"112\": 1, \"72\": 2, \"1\": 1, \"23\": 1, \"88\": 1, \"110\": 1, \"124\": 1}, \"13\": {\"13\": 1, \"120\": 3, \"18\": 2, \"14\": 1, \"69\": 1, \"80\": 1, \"82\": 1, \"62\": 2, \"92\": 1, \"45\": 1, \"117\": 2}, \"43\": {\"102\": 1, \"92\": 3, \"21\": 3, \"113\": 5, \"43\": 11, \"33\": 3, \"109\": 2, \"2\": 1, \"120\": 2, \"62\": 2, \"16\": 2, \"121\": 1, \"126\": 5, \"107\": 1, \"39\": 1, \"118\": 2, \"29\": 1, \"67\": 2, \"84\": 2, \"32\": 1, \"18\": 1, \"90\": 2, \"93\": 1, \"105\": 1}, \"93\": {\"39\": 5, \"93\": 64, \"31\": 1, \"113\": 10, \"117\": 2, \"90\": 5, \"18\": 14, \"16\": 2, \"88\": 3, \"109\": 2, \"126\": 9, \"33\": 4, \"17\": 2, \"120\": 1, \"96\": 1, \"92\": 2, \"21\": 1, \"43\": 4}, \"26\": {\"26\": 104, \"109\": 4, \"2\": 1, \"16\": 2, \"93\": 2, \"69\": 1, \"117\": 11, \"11\": 2, \"39\": 1, \"81\": 2, \"102\": 2}, \"76\": {\"26\": 2, \"67\": 1, \"76\": 8, \"63\": 1, \"22\": 2, \"90\": 1, \"93\": 1}, \"59\": {\"59\": 5, \"72\": 1, \"6\": 1, \"51\": 1, \"0\": 1, \"112\": 1, \"12\": 1, \"24\": 1}, \"65\": {\"65\": 11, \"64\": 1}, \"87\": {\"87\": 35, \"20\": 1, \"109\": 2, \"117\": 1, \"120\": 1, \"19\": 1, \"118\": 4, \"110\": 10, \"107\": 4, \"113\": 2, \"122\": 1, \"39\": 5, \"62\": 10, \"88\": 1, \"18\": 1, \"126\": 9, \"69\": 2, \"93\": 4, \"33\": 2, \"1\": 3, \"90\": 3, \"34\": 1, \"64\": 1, \"119\": 1, \"53\": 2, \"84\": 4, \"11\": 2, \"21\": 2, \"2\": 1, \"44\": 1, \"40\": 1, \"16\": 1, \"114\": 1}, \"124\": {\"99\": 1, \"91\": 1, \"12\": 5, \"124\": 70, \"52\": 2, \"97\": 1, \"42\": 1, \"9\": 2, \"73\": 1, \"5\": 2, \"8\": 3, \"85\": 2, \"111\": 8, \"95\": 2, \"7\": 7, \"4\": 2, \"49\": 1, \"0\": 3, \"127\": 2, \"40\": 1, \"88\": 1, \"113\": 1, \"19\": 1, \"41\": 1, \"35\": 1, \"108\": 1, \"93\": 1}, \"84\": {\"63\": 1, \"129\": 3, \"87\": 10, \"84\": 52, \"118\": 2, \"94\": 1, \"62\": 14, \"109\": 7, \"110\": 2, \"69\": 3, \"102\": 4, \"90\": 1, \"33\": 4, \"43\": 1, \"32\": 1, \"113\": 1, \"14\": 1}, \"82\": {\"82\": 26, \"69\": 2}, \"75\": {\"75\": 13, \"25\": 1, \"94\": 2}, \"17\": {\"53\": 1, \"120\": 1, \"67\": 1, \"104\": 1, \"105\": 1, \"64\": 1, \"93\": 1, \"113\": 2, \"81\": 1, \"126\": 1, \"95\": 1, \"108\": 1, \"56\": 1, \"7\": 1, \"51\": 1}, \"105\": {\"4\": 5, \"105\": 103, \"40\": 3, \"114\": 5, \"1\": 2, \"5\": 2, \"128\": 1, \"107\": 2, \"85\": 1}, \"95\": {\"71\": 1, \"95\": 25, \"98\": 1, \"124\": 2, \"9\": 1, \"7\": 1, \"8\": 1}, \"42\": {\"15\": 1, \"9\": 2, \"41\": 1, \"42\": 5, \"105\": 2, \"8\": 1, \"86\": 1, \"73\": 1, \"125\": 1, \"99\": 1, \"129\": 1, \"94\": 1, \"70\": 2, \"30\": 1, \"110\": 1, \"5\": 2, \"71\": 1, \"46\": 1, \"3\": 2}, \"55\": {\"55\": 16}, \"16\": {\"16\": 56, \"64\": 1, \"26\": 17, \"118\": 4, \"62\": 2, \"117\": 6, \"102\": 10, \"18\": 1, \"14\": 1, \"11\": 7, \"90\": 2, \"33\": 1, \"80\": 1, \"89\": 1, \"43\": 1, \"109\": 2, \"39\": 2, \"93\": 1}, \"50\": {\"50\": 10, \"69\": 1, \"122\": 1, \"14\": 2, \"101\": 1, \"82\": 1}, \"96\": {\"120\": 1, \"96\": 5, \"21\": 3, \"63\": 3, \"80\": 2, \"126\": 2, \"118\": 2, \"93\": 2}, \"45\": {\"45\": 14, \"14\": 2}, \"36\": {\"127\": 1, \"24\": 2, \"36\": 51, \"98\": 3, \"94\": 10, \"15\": 6, \"71\": 1, \"125\": 9, \"30\": 2, \"27\": 12, \"12\": 4, \"106\": 3, \"108\": 1, \"8\": 2, \"80\": 1, \"77\": 1, \"54\": 1, \"10\": 2, \"124\": 1, \"6\": 1, \"3\": 1, \"111\": 2, \"88\": 1, \"0\": 2}, \"114\": {\"114\": 94, \"5\": 2, \"113\": 1, \"1\": 9, \"105\": 2, \"27\": 1, \"88\": 2, \"87\": 1, \"33\": 1, \"110\": 3, \"40\": 2, \"29\": 1, \"122\": 1, \"4\": 1, \"16\": 1, \"18\": 1, \"11\": 1}}, \"W_4\": {\"113\": {\"113\": 83, \"80\": 2, \"109\": 2, \"21\": 6, \"121\": 2, \"126\": 17, \"88\": 2, \"81\": 1, \"63\": 1, \"39\": 4, \"18\": 1, \"90\": 3}, \"85\": {\"34\": 2, \"85\": 17, \"41\": 1, \"91\": 1, \"49\": 1, \"36\": 1, \"68\": 1, \"86\": 1, \"6\": 1, \"30\": 1, \"60\": 1}, \"34\": {\"85\": 1, \"72\": 1, \"34\": 2, \"83\": 2, \"115\": 1, \"27\": 1, \"50\": 2, \"32\": 2, \"102\": 1, \"75\": 1, \"47\": 2, \"76\": 1, \"88\": 1, \"30\": 2, \"46\": 1, \"23\": 1, \"25\": 2, \"108\": 1, \"74\": 1, \"10\": 2, \"36\": 2, \"87\": 1, \"114\": 1}, \"55\": {\"8\": 1, \"55\": 11, \"0\": 1, \"40\": 1, \"124\": 2}, \"42\": {\"42\": 2, \"8\": 2, \"20\": 1, \"71\": 1, \"98\": 2, \"49\": 1, \"111\": 3, \"82\": 1, \"88\": 2, \"86\": 1, \"44\": 2, \"34\": 1, \"107\": 2, \"109\": 1, \"56\": 2, \"122\": 1, \"105\": 1, \"108\": 1, \"3\": 1}, \"13\": {\"69\": 2, \"13\": 8, \"50\": 1, \"11\": 1, \"5\": 1, \"84\": 1, \"48\": 2}, \"69\": {\"69\": 65, \"118\": 4, \"84\": 6, \"39\": 2, \"33\": 4, \"99\": 1, \"5\": 4, \"14\": 8, \"11\": 2, \"102\": 15, \"90\": 2, \"93\": 1, \"107\": 2, \"110\": 3, \"62\": 1, \"108\": 1, \"122\": 1, \"21\": 1, \"113\": 1}, \"35\": {\"21\": 2, \"2\": 2, \"35\": 7, \"5\": 1}, \"83\": {\"83\": 16, \"113\": 1, \"40\": 1, \"50\": 1, \"72\": 1, \"62\": 1, \"34\": 1, \"82\": 1, \"8\": 1, \"87\": 3, \"88\": 1}, \"51\": {\"51\": 6, \"24\": 1, \"35\": 1, \"62\": 1, \"113\": 1, \"6\": 1, \"93\": 1, \"9\": 3, \"14\": 1}, \"72\": {\"83\": 2, \"113\": 1, \"72\": 14, \"126\": 1, \"109\": 1, \"32\": 1, \"110\": 1, \"42\": 1, \"122\": 1, \"26\": 1, \"43\": 1, \"1\": 3, \"5\": 1, \"88\": 1, \"39\": 1, \"118\": 1}, \"24\": {\"51\": 2, \"24\": 32, \"8\": 4, \"10\": 6, \"12\": 3, \"21\": 1, \"1\": 1, \"125\": 6, \"15\": 5, \"0\": 7, \"94\": 6, \"124\": 1, \"7\": 1, \"87\": 1, \"36\": 10, \"108\": 2, \"101\": 4, \"98\": 5, \"27\": 3, \"111\": 4, \"110\": 1, \"54\": 1, \"113\": 1, \"103\": 1, \"30\": 2, \"70\": 2, \"4\": 1, \"106\": 3, \"88\": 2, \"126\": 1, \"93\": 1}, \"53\": {\"53\": 12, \"44\": 1, \"91\": 1, \"24\": 1, \"111\": 1}, \"8\": {\"42\": 2, \"8\": 74, \"19\": 1, \"106\": 7, \"55\": 1, \"123\": 2, \"49\": 1, \"12\": 5, \"81\": 1, \"7\": 2, \"30\": 1, \"34\": 1, \"110\": 1, \"98\": 8, \"101\": 7, \"0\": 4, \"111\": 4, \"15\": 1, \"4\": 3, \"70\": 2, \"27\": 5, \"114\": 1, \"1\": 1, \"107\": 1, \"11\": 2, \"18\": 1, \"83\": 1, \"87\": 1, \"78\": 1, \"71\": 1, \"88\": 1}, \"49\": {\"21\": 1, \"113\": 3, \"84\": 1, \"8\": 2, \"66\": 1, \"5\": 4, \"105\": 1, \"87\": 1, \"41\": 1, \"88\": 1, \"30\": 1, \"110\": 1, \"44\": 2, \"98\": 1, \"81\": 2, \"49\": 3, \"122\": 1, \"129\": 1, \"10\": 1, \"7\": 1, \"102\": 1, \"101\": 1}, \"21\": {\"113\": 2, \"21\": 28, \"99\": 1, \"121\": 2, \"40\": 1, \"38\": 2, \"126\": 3, \"69\": 1}, \"18\": {\"80\": 1, \"18\": 98, \"63\": 2, \"21\": 1, \"126\": 1, \"44\": 2, \"117\": 3, \"39\": 2, \"26\": 3, \"90\": 1, \"81\": 1, \"116\": 2, \"113\": 2, \"93\": 1}, \"114\": {\"114\": 96, \"71\": 3, \"46\": 1, \"4\": 1, \"105\": 5, \"88\": 2, \"1\": 2, \"107\": 2, \"113\": 2, \"70\": 1, \"87\": 2, \"0\": 1}, \"58\": {\"58\": 8, \"21\": 1, \"47\": 1, \"125\": 1, \"36\": 1, \"6\": 1, \"15\": 2, \"12\": 1}, \"56\": {\"56\": 8, \"49\": 1, \"95\": 1, \"91\": 2}, \"80\": {\"80\": 16}, \"11\": {\"80\": 1, \"11\": 70, \"32\": 2, \"28\": 2, \"120\": 1, \"118\": 6, \"14\": 11, \"60\": 2, \"65\": 1, \"87\": 2, \"78\": 2, \"117\": 2, \"93\": 1, \"102\": 3, \"115\": 1, \"108\": 2, \"105\": 1, \"107\": 10, \"39\": 1, \"40\": 4, \"69\": 5, \"109\": 1, \"16\": 2, \"88\": 3, \"84\": 3, \"73\": 1, \"3\": 2, \"67\": 2, \"92\": 1, \"110\": 3, \"43\": 1, \"98\": 1, \"122\": 1, \"5\": 1, \"26\": 1, \"0\": 1}, \"15\": {\"58\": 2, \"125\": 6, \"123\": 1, \"94\": 6, \"91\": 2, \"15\": 56, \"12\": 5, \"34\": 1, \"25\": 1, \"27\": 1, \"10\": 12, \"98\": 9, \"105\": 1, \"24\": 6, \"36\": 4, \"111\": 2, \"127\": 1, \"93\": 1, \"49\": 1, \"22\": 2, \"8\": 1, \"29\": 1, \"82\": 1, \"97\": 1, \"106\": 1, \"11\": 1, \"101\": 2}, \"50\": {\"50\": 8, \"40\": 3, \"115\": 2, \"43\": 1, \"32\": 1, \"128\": 1}, \"111\": {\"56\": 1, \"111\": 88, \"91\": 1, \"37\": 1, \"30\": 8, \"4\": 1, \"15\": 3, \"101\": 6, \"10\": 3, \"24\": 1, \"8\": 4, \"98\": 6, \"12\": 3, \"0\": 1, \"27\": 2, \"94\": 1, \"106\": 1, \"49\": 2, \"46\": 1, \"77\": 1, \"11\": 1, \"124\": 2}, \"108\": {\"83\": 1, \"73\": 1, \"108\": 17, \"78\": 1, \"84\": 3, \"3\": 1, \"11\": 4, \"102\": 6, \"113\": 7, \"39\": 3, \"44\": 5, \"18\": 2, \"15\": 1, \"33\": 1, \"70\": 1, \"1\": 2, \"81\": 2, \"43\": 3, \"93\": 1, \"62\": 1, \"126\": 3, \"110\": 1, \"109\": 1, \"87\": 3, \"16\": 3, \"129\": 1, \"14\": 1, \"122\": 1, \"64\": 1, \"10\": 1, \"90\": 1, \"22\": 1, \"2\": 1, \"61\": 1, \"30\": 1, \"118\": 2, \"4\": 2, \"117\": 1, \"69\": 1, \"71\": 1, \"12\": 1}, \"104\": {\"83\": 2, \"64\": 1, \"104\": 6, \"17\": 2, \"32\": 1, \"40\": 1, \"55\": 1, \"28\": 2}, \"32\": {\"32\": 9, \"118\": 2, \"11\": 3, \"84\": 1, \"2\": 1, \"14\": 1, \"62\": 2, \"99\": 1, \"88\": 1, \"43\": 1, \"55\": 1, \"78\": 2, \"45\": 1, \"102\": 1, \"92\": 1}, \"68\": {\"111\": 4, \"68\": 11, \"118\": 1}, \"73\": {\"73\": 19, \"121\": 1, \"62\": 1, \"5\": 1, \"99\": 1, \"102\": 1}, \"92\": {\"92\": 18, \"45\": 1, \"11\": 2, \"32\": 1, \"48\": 1, \"122\": 1, \"61\": 1, \"44\": 2, \"21\": 1}, \"57\": {\"57\": 16}, \"40\": {\"107\": 14, \"50\": 1, \"45\": 1, \"40\": 91, \"82\": 2, \"44\": 1, \"90\": 1, \"108\": 2, \"105\": 3, \"114\": 3, \"14\": 2, \"4\": 1, \"33\": 3, \"17\": 1, \"1\": 3, \"87\": 1, \"116\": 1, \"11\": 1, \"124\": 1, \"88\": 1, \"69\": 1, \"3\": 1}, \"71\": {\"71\": 79, \"55\": 1, \"72\": 1, \"114\": 8, \"1\": 3, \"4\": 2, \"12\": 1, \"3\": 1, \"88\": 2, \"126\": 1, \"16\": 1, \"27\": 2, \"109\": 1, \"40\": 1}, \"121\": {\"121\": 5, \"21\": 6, \"84\": 4, \"33\": 2, \"113\": 2, \"43\": 1, \"93\": 2, \"26\": 2, \"116\": 1, \"81\": 1, \"129\": 1, \"76\": 1, \"67\": 1, \"44\": 1, \"18\": 2}, \"62\": {\"73\": 2, \"57\": 1, \"102\": 7, \"11\": 3, \"62\": 18, \"14\": 2, \"43\": 1, \"72\": 1, \"61\": 1, \"109\": 2, \"117\": 1, \"21\": 2, \"108\": 1, \"5\": 1, \"93\": 3, \"69\": 1, \"16\": 1, \"88\": 1, \"41\": 1, \"39\": 1, \"74\": 1, \"92\": 1, \"87\": 1, \"84\": 1, \"118\": 1, \"122\": 2, \"126\": 1, \"44\": 1}, \"39\": {\"21\": 4, \"39\": 34, \"80\": 1, \"88\": 2, \"38\": 2, \"126\": 5, \"99\": 1, \"93\": 4, \"108\": 1, \"44\": 6, \"113\": 17, \"26\": 5, \"18\": 2, \"90\": 5, \"117\": 5, \"40\": 1, \"16\": 1, \"92\": 1, \"32\": 1, \"122\": 1, \"84\": 1}, \"107\": {\"107\": 105, \"87\": 5, \"40\": 17, \"44\": 1, \"115\": 1, \"11\": 3, \"105\": 3, \"14\": 1, \"118\": 2, \"43\": 1, \"110\": 1, \"124\": 2, \"84\": 1, \"114\": 1}, \"60\": {\"7\": 1, \"64\": 1, \"60\": 3, \"123\": 3, \"2\": 3, \"5\": 1, \"46\": 1, \"127\": 1, \"84\": 1, \"65\": 1, \"63\": 1, \"27\": 1, \"19\": 1, \"74\": 2, \"81\": 1, \"22\": 1, \"20\": 1, \"3\": 1, \"112\": 1, \"109\": 1, \"126\": 1, \"90\": 1, \"49\": 1, \"117\": 1, \"34\": 1}, \"129\": {\"0\": 1, \"87\": 1, \"33\": 1, \"7\": 1, \"129\": 5, \"102\": 1, \"74\": 1, \"105\": 2, \"8\": 1, \"48\": 1, \"97\": 1, \"5\": 1, \"55\": 3, \"75\": 1, \"46\": 1, \"49\": 2, \"40\": 1, \"1\": 1, \"71\": 1, \"43\": 1}, \"84\": {\"118\": 5, \"18\": 1, \"69\": 5, \"84\": 56, \"123\": 1, \"121\": 3, \"72\": 2, \"113\": 4, \"44\": 4, \"126\": 2, \"16\": 8, \"117\": 5, \"88\": 1, \"93\": 9, \"43\": 1, \"102\": 4, \"90\": 1, \"5\": 4, \"109\": 4, \"110\": 5, \"87\": 2, \"122\": 2, \"39\": 1, \"33\": 1, \"11\": 1}, \"106\": {\"106\": 84, \"29\": 1, \"12\": 4, \"34\": 1, \"11\": 1, \"8\": 3, \"125\": 1, \"127\": 2, \"15\": 3, \"36\": 1, \"59\": 1, \"27\": 2, \"98\": 1, \"0\": 1, \"124\": 1, \"1\": 2, \"10\": 3, \"117\": 1, \"111\": 1, \"101\": 2}, \"87\": {\"110\": 4, \"87\": 30, \"83\": 2, \"115\": 1, \"102\": 2, \"1\": 7, \"26\": 4, \"129\": 1, \"40\": 7, \"105\": 6, \"122\": 3, \"113\": 5, \"39\": 3, \"108\": 5, \"126\": 6, \"117\": 1, \"84\": 4, \"33\": 1, \"43\": 4, \"107\": 2, \"93\": 3, \"71\": 1, \"5\": 5, \"114\": 7, \"69\": 2, \"11\": 1, \"2\": 1, \"82\": 2, \"121\": 1, \"46\": 1, \"70\": 2, \"44\": 1, \"78\": 1, \"3\": 2, \"88\": 1, \"90\": 1, \"18\": 1, \"16\": 1}, \"110\": {\"18\": 3, \"110\": 29, \"93\": 14, \"2\": 1, \"5\": 8, \"38\": 1, \"102\": 2, \"113\": 7, \"84\": 3, \"26\": 2, \"90\": 3, \"126\": 3, \"109\": 1, \"36\": 1, \"33\": 5, \"122\": 1, \"43\": 5, \"118\": 1, \"69\": 2, \"108\": 1, \"117\": 1}, \"118\": {\"118\": 26, \"18\": 1, \"108\": 4, \"109\": 3, \"102\": 11, \"16\": 4, \"43\": 4, \"73\": 1, \"57\": 1, \"82\": 1, \"11\": 8, \"105\": 1, \"32\": 1, \"33\": 4, \"69\": 9, \"93\": 3, \"26\": 2, \"90\": 2, \"107\": 5, \"84\": 4, \"113\": 2, \"39\": 1, \"110\": 1, \"122\": 2, \"120\": 1, \"129\": 2, \"116\": 2, \"40\": 2, \"14\": 1, \"44\": 1, \"88\": 1, \"87\": 1}, \"64\": {\"64\": 12, \"11\": 1, \"80\": 1, \"120\": 1, \"82\": 1}, \"82\": {\"60\": 1, \"82\": 16, \"11\": 1, \"45\": 1, \"73\": 1, \"86\": 1, \"69\": 2, \"4\": 1, \"105\": 2, \"1\": 2, \"118\": 1, \"107\": 1, \"8\": 1, \"102\": 1}, \"7\": {\"0\": 3, \"7\": 59, \"106\": 1, \"46\": 1, \"89\": 2, \"14\": 1, \"114\": 4, \"71\": 5, \"88\": 7, \"3\": 5, \"101\": 1, \"70\": 10, \"62\": 1, \"87\": 1, \"90\": 1, \"84\": 1, \"1\": 2, \"113\": 1, \"86\": 1, \"41\": 1, \"109\": 1, \"128\": 1, \"27\": 3, \"67\": 1, \"4\": 1, \"129\": 1, \"8\": 1, \"116\": 1, \"98\": 1, \"126\": 3, \"11\": 1, \"5\": 1}, \"0\": {\"60\": 1, \"0\": 35, \"19\": 2, \"83\": 1, \"34\": 1, \"95\": 3, \"87\": 1, \"8\": 3, \"101\": 13, \"27\": 3, \"3\": 3, \"111\": 5, \"88\": 3, \"106\": 4, \"30\": 1, \"114\": 2, \"98\": 3, \"4\": 2, \"71\": 3, \"126\": 1, \"10\": 3, \"7\": 2, \"70\": 3, \"1\": 4, \"110\": 1, \"90\": 1, \"108\": 1, \"11\": 1, \"55\": 2, \"42\": 1, \"127\": 2, \"39\": 1, \"32\": 1, \"12\": 1, \"118\": 2}, \"41\": {\"68\": 1, \"41\": 10, \"93\": 1, \"24\": 1, \"101\": 1, \"27\": 1, \"98\": 1}, \"102\": {\"102\": 70, \"14\": 4, \"118\": 7, \"110\": 1, \"82\": 1, \"122\": 6, \"5\": 2, \"62\": 3, \"33\": 8, \"26\": 1, \"84\": 3, \"43\": 3, \"69\": 11, \"16\": 1, \"90\": 1, \"2\": 1, \"87\": 1, \"99\": 1, \"11\": 2, \"117\": 1, \"107\": 1, \"108\": 1}, \"89\": {\"87\": 1, \"89\": 12, \"22\": 2, \"100\": 1, \"113\": 1, \"73\": 1, \"65\": 1, \"5\": 1, \"49\": 2, \"78\": 1, \"93\": 2, \"128\": 2, \"33\": 1, \"95\": 1, \"1\": 1, \"7\": 1, \"28\": 1}, \"26\": {\"18\": 3, \"62\": 2, \"26\": 98, \"61\": 1, \"126\": 3, \"39\": 2, \"109\": 5, \"117\": 5, \"93\": 1, \"113\": 1, \"44\": 2, \"11\": 1, \"16\": 3, \"110\": 1}, \"103\": {\"103\": 13, \"88\": 1, \"27\": 1, \"42\": 1}, \"90\": {\"113\": 11, \"90\": 73, \"121\": 3, \"21\": 5, \"126\": 19, \"93\": 2, \"43\": 1, \"88\": 3, \"117\": 1}, \"14\": {\"83\": 1, \"102\": 11, \"14\": 60, \"39\": 1, \"62\": 3, \"31\": 3, \"99\": 4, \"110\": 1, \"5\": 1, \"122\": 5, \"87\": 3, \"105\": 1, \"69\": 4, \"16\": 1, \"33\": 5, \"73\": 1, \"88\": 1, \"84\": 1, \"11\": 4, \"107\": 1}, \"9\": {\"68\": 1, \"9\": 16, \"30\": 2, \"106\": 1, \"29\": 1, \"58\": 2, \"12\": 2, \"101\": 2, \"98\": 1}, \"5\": {\"87\": 2, \"102\": 2, \"5\": 97, \"43\": 1, \"73\": 1, \"128\": 1, \"57\": 1, \"110\": 8, \"33\": 9, \"3\": 1, \"90\": 1, \"1\": 1, \"93\": 3, \"108\": 1, \"67\": 1, \"84\": 4, \"78\": 1, \"113\": 1}, \"22\": {\"89\": 3, \"22\": 7, \"20\": 2, \"5\": 1, \"28\": 1, \"76\": 1, \"42\": 1}, \"2\": {\"84\": 1, \"2\": 16, \"81\": 1, \"102\": 1, \"117\": 1, \"113\": 1, \"16\": 2, \"18\": 2, \"109\": 1, \"11\": 1, \"26\": 1}, \"77\": {\"77\": 9, \"53\": 2, \"9\": 1}, \"59\": {\"59\": 6, \"80\": 1, \"75\": 1, \"81\": 1, \"77\": 1, \"98\": 2}, \"127\": {\"127\": 80, \"107\": 1, \"111\": 6, \"113\": 1, \"98\": 4, \"81\": 1, \"106\": 1, \"0\": 1, \"80\": 1, \"90\": 1, \"101\": 2, \"8\": 3}, \"61\": {\"61\": 12, \"21\": 1, \"26\": 1, \"122\": 1, \"2\": 1}, \"17\": {\"17\": 17, \"28\": 1, \"81\": 1, \"64\": 1}, \"45\": {\"45\": 13, \"102\": 1, \"14\": 1, \"120\": 1}, \"19\": {\"123\": 2, \"96\": 1, \"70\": 1, \"55\": 1, \"39\": 2, \"44\": 3, \"113\": 3, \"40\": 1, \"18\": 1, \"108\": 1, \"4\": 1, \"19\": 1, \"2\": 1, \"0\": 1, \"129\": 1, \"26\": 2, \"88\": 1, \"111\": 1, \"7\": 1, \"107\": 1, \"95\": 1}, \"52\": {\"52\": 13, \"77\": 1, \"113\": 1, \"34\": 1, \"10\": 2, \"29\": 2}, \"123\": {\"29\": 1, \"123\": 8, \"113\": 2, \"81\": 3, \"54\": 1, \"75\": 1}, \"20\": {\"20\": 11, \"5\": 1, \"57\": 1, \"84\": 1, \"3\": 1, \"96\": 1}, \"112\": {\"112\": 11, \"29\": 1, \"71\": 1, \"41\": 1, \"88\": 1, \"61\": 1}, \"37\": {\"37\": 15, \"4\": 1}, \"29\": {\"29\": 29, \"12\": 2, \"58\": 1}, \"128\": {\"73\": 2, \"128\": 4, \"70\": 3, \"122\": 1, \"28\": 2, \"114\": 1, \"11\": 1, \"89\": 2, \"4\": 1, \"113\": 1, \"39\": 1, \"88\": 2, \"45\": 1, \"64\": 1, \"71\": 1}, \"100\": {\"73\": 1, \"100\": 8, \"128\": 1, \"79\": 1, \"62\": 1, \"69\": 1, \"119\": 1, \"5\": 1, \"31\": 1, \"18\": 1, \"89\": 1, \"33\": 2}, \"67\": {\"67\": 4, \"113\": 2, \"115\": 1, \"38\": 1, \"126\": 1, \"40\": 1, \"44\": 1, \"45\": 2, \"14\": 1, \"90\": 2}, \"12\": {\"12\": 57, \"104\": 1, \"106\": 3, \"29\": 3, \"8\": 2, \"34\": 2, \"94\": 2, \"111\": 9, \"30\": 3, \"0\": 1, \"10\": 2, \"93\": 2, \"127\": 2, \"27\": 3, \"41\": 1, \"98\": 2, \"87\": 1, \"101\": 1, \"107\": 1, \"11\": 1, \"88\": 1}, \"101\": {\"101\": 60, \"111\": 5, \"27\": 6, \"82\": 1, \"8\": 4, \"127\": 3, \"106\": 1, \"12\": 3, \"88\": 2, \"86\": 1, \"0\": 12, \"114\": 1, \"70\": 4, \"4\": 3, \"7\": 5, \"124\": 4, \"43\": 1, \"5\": 1, \"71\": 4, \"98\": 6, \"10\": 1}, \"76\": {\"31\": 1, \"76\": 5, \"43\": 1, \"48\": 2, \"42\": 1, \"126\": 1, \"1\": 2, \"81\": 1, \"28\": 1, \"22\": 1}, \"70\": {\"86\": 3, \"5\": 1, \"22\": 1, \"123\": 3, \"27\": 11, \"70\": 21, \"12\": 1, \"8\": 11, \"106\": 1, \"118\": 2, \"44\": 2, \"62\": 1, \"18\": 1, \"98\": 5, \"108\": 1, \"110\": 2, \"39\": 2, \"93\": 6, \"10\": 2, \"122\": 1, \"113\": 2, \"90\": 8, \"88\": 2, \"81\": 1, \"117\": 1, \"111\": 2, \"7\": 2, \"0\": 4, \"43\": 4, \"3\": 3, \"126\": 1, \"95\": 1, \"127\": 2, \"74\": 1, \"49\": 1, \"24\": 2, \"34\": 1, \"69\": 1, \"101\": 1, \"4\": 3, \"1\": 1, \"87\": 2}, \"31\": {\"39\": 1, \"31\": 8, \"99\": 1, \"45\": 2, \"102\": 1, \"120\": 2, \"62\": 1}, \"86\": {\"86\": 19, \"10\": 1, \"27\": 2, \"129\": 1, \"23\": 1, \"71\": 1, \"88\": 1, \"95\": 1, \"87\": 1}, \"88\": {\"39\": 7, \"88\": 20, \"38\": 2, \"71\": 2, \"128\": 1, \"21\": 3, \"113\": 10, \"126\": 8, \"49\": 1, \"93\": 6, \"8\": 9, \"90\": 6, \"27\": 3, \"44\": 2, \"114\": 2, \"70\": 4, \"124\": 1, \"105\": 1, \"81\": 3, \"18\": 3, \"4\": 3, \"10\": 1, \"7\": 3, \"5\": 1, \"24\": 2, \"69\": 1, \"0\": 5, \"98\": 2, \"43\": 1, \"108\": 2, \"86\": 1, \"111\": 3, \"116\": 1, \"118\": 1, \"95\": 1, \"101\": 5, \"16\": 1, \"117\": 1, \"26\": 1, \"110\": 1, \"3\": 1}, \"3\": {\"3\": 102, \"19\": 1, \"87\": 5, \"70\": 2, \"44\": 1, \"110\": 1, \"14\": 1, \"71\": 2, \"43\": 1, \"7\": 4, \"1\": 3, \"80\": 1, \"108\": 1, \"88\": 1}, \"117\": {\"44\": 2, \"117\": 72, \"84\": 7, \"122\": 2, \"126\": 2, \"39\": 1, \"43\": 1, \"26\": 16, \"18\": 6, \"90\": 1, \"93\": 2, \"16\": 2, \"79\": 1, \"62\": 1, \"118\": 2, \"109\": 1, \"108\": 1}, \"30\": {\"53\": 1, \"30\": 26, \"127\": 4, \"29\": 2, \"47\": 3, \"8\": 2, \"85\": 1, \"15\": 3, \"7\": 1, \"90\": 1, \"125\": 3, \"111\": 3, \"36\": 1, \"10\": 3, \"1\": 1, \"101\": 1, \"75\": 1, \"24\": 2, \"34\": 2, \"9\": 1, \"91\": 1, \"58\": 2, \"98\": 2, \"14\": 1, \"6\": 2, \"49\": 1, \"27\": 1, \"88\": 1, \"12\": 2, \"0\": 1}, \"96\": {\"92\": 1, \"117\": 1, \"80\": 2, \"116\": 1, \"60\": 1, \"113\": 1, \"18\": 2, \"96\": 2, \"76\": 1, \"2\": 2, \"20\": 1, \"84\": 1, \"48\": 1, \"74\": 1, \"62\": 1, \"44\": 1}, \"27\": {\"27\": 27, \"44\": 1, \"70\": 7, \"7\": 5, \"50\": 2, \"12\": 4, \"85\": 1, \"86\": 2, \"43\": 1, \"100\": 1, \"0\": 7, \"101\": 5, \"88\": 3, \"98\": 4, \"93\": 1, \"8\": 5, \"3\": 1, \"113\": 1, \"127\": 1, \"40\": 1, \"126\": 2, \"110\": 2, \"90\": 1, \"109\": 1, \"14\": 1, \"24\": 1, \"91\": 1, \"55\": 1, \"10\": 1, \"38\": 1, \"42\": 1, \"125\": 1, \"53\": 1, \"18\": 1, \"97\": 1, \"122\": 1, \"15\": 1, \"78\": 1}, \"122\": {\"122\": 13, \"44\": 8, \"2\": 1, \"43\": 3, \"14\": 5, \"57\": 1, \"118\": 3, \"39\": 7, \"69\": 2, \"93\": 4, \"117\": 7, \"16\": 3, \"90\": 1, \"84\": 3, \"87\": 2, \"113\": 3, \"26\": 1, \"21\": 3, \"105\": 2, \"74\": 1, \"73\": 1, \"99\": 2, \"116\": 1, \"62\": 2, \"108\": 1, \"18\": 1, \"5\": 1, \"109\": 2}, \"120\": {\"120\": 9, \"42\": 2, \"21\": 1, \"45\": 3, \"13\": 1, \"105\": 1, \"31\": 1, \"0\": 1, \"62\": 1}, \"44\": {\"44\": 39, \"62\": 1, \"18\": 2, \"2\": 2, \"39\": 4, \"81\": 2, \"126\": 3, \"93\": 3, \"113\": 1, \"90\": 1, \"121\": 1, \"21\": 2, \"43\": 1, \"26\": 1, \"109\": 1}, \"79\": {\"79\": 10, \"89\": 2, \"85\": 1, \"73\": 1, \"127\": 1, \"44\": 1}, \"105\": {\"105\": 61, \"129\": 3, \"1\": 3, \"40\": 7, \"93\": 1, \"39\": 3, \"7\": 1, \"78\": 1, \"5\": 1, \"107\": 1, \"87\": 5, \"115\": 1, \"86\": 1, \"46\": 1, \"17\": 1, \"11\": 1, \"71\": 1, \"3\": 1, \"114\": 6}, \"95\": {\"95\": 19, \"127\": 2, \"27\": 1, \"8\": 1, \"98\": 1, \"0\": 1, \"21\": 1, \"55\": 1, \"60\": 1, \"114\": 1, \"4\": 1, \"71\": 1, \"110\": 1}, \"109\": {\"80\": 3, \"109\": 24, \"126\": 14, \"21\": 2, \"11\": 1, \"122\": 4, \"81\": 2, \"116\": 1, \"44\": 2, \"99\": 1, \"118\": 8, \"14\": 4, \"90\": 2, \"84\": 7, \"108\": 1, \"117\": 1, \"16\": 8, \"26\": 1, \"102\": 6, \"113\": 7, \"69\": 3, \"65\": 1, \"13\": 1, \"121\": 1, \"93\": 2, \"2\": 2, \"18\": 1, \"39\": 3, \"88\": 2, \"72\": 1}, \"16\": {\"102\": 9, \"117\": 7, \"16\": 59, \"18\": 3, \"11\": 4, \"26\": 7, \"93\": 1, \"118\": 3, \"39\": 2, \"122\": 1, \"90\": 2, \"109\": 6, \"88\": 1, \"84\": 6, \"44\": 1, \"13\": 1, \"121\": 1, \"74\": 1, \"14\": 1, \"69\": 1, \"110\": 1}, \"36\": {\"36\": 50, \"11\": 2, \"125\": 10, \"12\": 1, \"15\": 7, \"52\": 1, \"98\": 3, \"10\": 2, \"94\": 5, \"24\": 5, \"126\": 1, \"124\": 1, \"111\": 4, \"106\": 2, \"1\": 1, \"75\": 1, \"37\": 1, \"110\": 1}, \"125\": {\"125\": 111, \"15\": 7, \"39\": 1, \"36\": 9, \"94\": 4, \"10\": 2, \"25\": 1, \"24\": 1}, \"97\": {\"9\": 2, \"120\": 1, \"72\": 1, \"97\": 5, \"10\": 2, \"12\": 1, \"25\": 1, \"8\": 1, \"85\": 1, \"124\": 1, \"101\": 1, \"1\": 1, \"43\": 2}, \"91\": {\"111\": 1, \"91\": 10, \"12\": 2, \"54\": 1, \"56\": 1, \"85\": 1, \"41\": 1, \"53\": 1, \"52\": 2, \"77\": 1, \"29\": 2, \"47\": 1}, \"28\": {\"70\": 1, \"28\": 12, \"102\": 1, \"120\": 1, \"13\": 1, \"11\": 1, \"56\": 1, \"19\": 1, \"14\": 1}, \"81\": {\"81\": 22, \"23\": 2, \"39\": 4, \"113\": 3, \"18\": 1, \"126\": 1, \"63\": 1, \"80\": 2}, \"126\": {\"81\": 1, \"18\": 2, \"126\": 82, \"61\": 1, \"21\": 2, \"113\": 13, \"44\": 2, \"78\": 1, \"90\": 7, \"107\": 1, \"117\": 1, \"32\": 1, \"80\": 1, \"109\": 2, \"39\": 2, \"88\": 1, \"93\": 2}, \"4\": {\"4\": 61, \"105\": 2, \"8\": 2, \"126\": 1, \"101\": 2, \"124\": 4, \"71\": 4, \"1\": 2, \"114\": 10, \"88\": 1, \"39\": 1, \"113\": 1, \"33\": 1, \"40\": 3, \"0\": 3, \"55\": 1, \"42\": 2, \"95\": 1, \"110\": 1, \"118\": 1}, \"10\": {\"10\": 24, \"36\": 5, \"7\": 7, \"54\": 1, \"65\": 1, \"102\": 1, \"15\": 11, \"4\": 3, \"124\": 4, \"125\": 13, \"88\": 3, \"101\": 2, \"94\": 6, \"71\": 3, \"70\": 9, \"30\": 1, \"113\": 1, \"114\": 1, \"24\": 6, \"1\": 2, \"27\": 1, \"116\": 1, \"86\": 1, \"0\": 3, \"66\": 1, \"105\": 1, \"128\": 1, \"49\": 1, \"44\": 1, \"108\": 1, \"8\": 3, \"16\": 1, \"3\": 1, \"11\": 1, \"87\": 1, \"93\": 1}, \"63\": {\"63\": 13, \"81\": 1, \"113\": 1, \"90\": 1}, \"43\": {\"1\": 4, \"122\": 5, \"100\": 1, \"43\": 26, \"118\": 4, \"20\": 1, \"73\": 1, \"5\": 4, \"21\": 2, \"72\": 1, \"44\": 3, \"11\": 3, \"90\": 7, \"87\": 5, \"26\": 2, \"102\": 2, \"81\": 2, \"93\": 5, \"117\": 1, \"113\": 7, \"69\": 3, \"126\": 5, \"84\": 1, \"105\": 3, \"33\": 3, \"14\": 3, \"63\": 1, \"3\": 6, \"109\": 1, \"39\": 2, \"18\": 2, \"110\": 2}, \"116\": {\"96\": 1, \"60\": 1, \"116\": 8, \"74\": 1, \"42\": 2, \"3\": 1, \"108\": 1, \"18\": 2, \"43\": 1, \"113\": 1, \"21\": 1, \"92\": 1, \"73\": 1, \"23\": 1, \"13\": 1, \"49\": 2, \"89\": 1, \"126\": 1}, \"1\": {\"1\": 55, \"105\": 6, \"49\": 1, \"93\": 2, \"42\": 1, \"114\": 9, \"84\": 1, \"10\": 2, \"71\": 7, \"43\": 4, \"88\": 1, \"40\": 1, \"87\": 8, \"3\": 4, \"11\": 1, \"108\": 1, \"113\": 1, \"33\": 1, \"27\": 1, \"126\": 1}, \"94\": {\"54\": 2, \"15\": 8, \"126\": 1, \"94\": 40, \"125\": 6, \"24\": 12, \"12\": 4, \"40\": 2, \"106\": 1, \"4\": 1, \"36\": 2, \"10\": 3, \"34\": 1, \"30\": 1, \"47\": 1, \"111\": 1, \"98\": 1, \"118\": 1}, \"38\": {\"38\": 9, \"81\": 4, \"126\": 3}, \"54\": {\"54\": 14, \"51\": 1, \"6\": 1}, \"74\": {\"74\": 12, \"116\": 1, \"96\": 1, \"121\": 1, \"33\": 1}, \"25\": {\"25\": 16}, \"75\": {\"75\": 16}, \"119\": {\"119\": 9, \"129\": 1, \"43\": 1, \"27\": 1, \"50\": 1, \"41\": 1, \"123\": 1, \"128\": 1}, \"46\": {\"114\": 1, \"46\": 7, \"128\": 1, \"33\": 1, \"95\": 1, \"105\": 2, \"123\": 1, \"7\": 1, \"122\": 1, \"3\": 1, \"79\": 1, \"1\": 1, \"40\": 1}, \"23\": {\"11\": 1, \"54\": 1, \"40\": 2, \"99\": 2, \"23\": 1, \"93\": 1, \"39\": 1, \"7\": 1, \"123\": 1, \"77\": 1, \"65\": 1, \"17\": 1, \"75\": 1, \"41\": 1}, \"99\": {\"99\": 31, \"102\": 6, \"32\": 1, \"118\": 1, \"14\": 1}, \"33\": {\"33\": 88, \"116\": 1, \"110\": 7, \"62\": 2, \"5\": 6, \"43\": 1, \"113\": 1, \"69\": 2, \"84\": 3, \"31\": 1, \"99\": 1, \"102\": 1, \"11\": 1, \"118\": 1, \"40\": 1, \"39\": 1}, \"47\": {\"47\": 11, \"10\": 1}, \"115\": {\"129\": 1, \"115\": 3, \"43\": 2, \"107\": 2, \"87\": 1, \"11\": 1, \"14\": 1, \"5\": 1, \"33\": 1, \"69\": 1, \"128\": 1, \"37\": 1}, \"6\": {\"125\": 5, \"10\": 1, \"6\": 10, \"75\": 2, \"9\": 2, \"58\": 1, \"113\": 1, \"24\": 2}, \"65\": {\"65\": 11, \"90\": 1}, \"66\": {\"21\": 2, \"66\": 5, \"113\": 4, \"126\": 2, \"39\": 1, \"121\": 1, \"38\": 1}, \"78\": {\"108\": 1, \"6\": 1, \"38\": 1, \"89\": 1, \"126\": 3, \"12\": 1, \"1\": 1, \"10\": 1, \"78\": 3, \"113\": 2, \"101\": 1, \"70\": 2, \"93\": 1, \"88\": 4, \"3\": 1, \"18\": 1, \"21\": 1, \"15\": 1, \"109\": 2, \"0\": 3, \"98\": 1, \"39\": 1, \"102\": 1, \"5\": 1}, \"98\": {\"98\": 71, \"27\": 4, \"29\": 1, \"127\": 6, \"125\": 2, \"101\": 4, \"111\": 11, \"15\": 1, \"12\": 4, \"10\": 2, \"8\": 2, \"24\": 1, \"34\": 1, \"30\": 1, \"58\": 1, \"106\": 1, \"1\": 2, \"36\": 1}, \"93\": {\"63\": 1, \"93\": 56, \"102\": 1, \"39\": 2, \"126\": 17, \"43\": 2, \"90\": 11, \"113\": 6, \"26\": 3, \"18\": 2, \"109\": 4, \"110\": 2, \"69\": 3, \"122\": 1, \"80\": 1, \"44\": 2, \"118\": 2}, \"48\": {\"48\": 14, \"116\": 1, \"62\": 1}, \"124\": {\"124\": 65, \"11\": 2, \"41\": 1, \"14\": 1, \"114\": 4, \"115\": 2, \"4\": 6, \"78\": 2, \"88\": 2, \"27\": 2, \"107\": 3, \"111\": 3, \"40\": 2, \"71\": 1, \"101\": 3, \"105\": 3, \"87\": 2, \"98\": 2, \"0\": 2, \"49\": 1, \"17\": 1, \"95\": 1, \"126\": 1, \"8\": 2}}, \"C_5\": {\"43\": {\"43\": 131, \"3\": 3, \"11\": 13, \"1\": 1, \"36\": 2, \"15\": 1, \"50\": 1}, \"35\": {\"35\": 34, \"56\": 1, \"36\": 1}, \"54\": {\"54\": 62, \"18\": 4, \"20\": 6, \"50\": 1, \"21\": 7, \"57\": 10, \"23\": 10, \"53\": 1, \"1\": 3, \"9\": 1, \"52\": 5, \"6\": 1, \"45\": 1}, \"22\": {\"22\": 24, \"35\": 1, \"40\": 1, \"56\": 1, \"0\": 1}, \"16\": {\"16\": 137, \"23\": 6, \"0\": 1, \"54\": 1, \"52\": 1}, \"5\": {\"5\": 101, \"40\": 2, \"27\": 1, \"20\": 1, \"29\": 10, \"47\": 3, \"9\": 1, \"43\": 1, \"33\": 1, \"44\": 3, \"28\": 1, \"34\": 1, \"19\": 1, \"50\": 1}, \"28\": {\"5\": 2, \"19\": 2, \"34\": 5, \"28\": 12, \"41\": 1, \"33\": 1, \"7\": 2, \"53\": 5, \"47\": 1, \"4\": 1}, \"14\": {\"43\": 2, \"14\": 17, \"46\": 1, \"6\": 1, \"4\": 4, \"33\": 1, \"50\": 2, \"19\": 4, \"11\": 1, \"20\": 1, \"15\": 2, \"3\": 3, \"41\": 1, \"39\": 2, \"9\": 1, \"5\": 1}, \"51\": {\"51\": 118, \"20\": 2, \"53\": 7, \"48\": 1}, \"19\": {\"19\": 113, \"4\": 3, \"42\": 1, \"47\": 2, \"27\": 4, \"34\": 1, \"51\": 2, \"55\": 1, \"53\": 1, \"1\": 2, \"50\": 1, \"17\": 1, \"45\": 1, \"9\": 5, \"11\": 1, \"48\": 1}, \"31\": {\"31\": 35, \"46\": 1}, \"10\": {\"10\": 66, \"13\": 2}, \"21\": {\"21\": 64, \"48\": 6, \"16\": 3, \"53\": 20, \"26\": 2, \"52\": 2, \"17\": 5, \"1\": 4, \"9\": 1, \"51\": 20, \"45\": 1, \"54\": 2, \"46\": 2, \"18\": 1, \"57\": 2, \"20\": 1}, \"3\": {\"14\": 1, \"43\": 2, \"46\": 8, \"48\": 1, \"49\": 3, \"22\": 1, \"3\": 22, \"54\": 2, \"39\": 2, \"45\": 4, \"40\": 1, \"50\": 1, \"47\": 2, \"36\": 2, \"16\": 2, \"57\": 3, \"11\": 7, \"18\": 4, \"56\": 6, \"25\": 3, \"19\": 2, \"24\": 1, \"20\": 1, \"52\": 5, \"23\": 1, \"42\": 1, \"9\": 2, \"0\": 1, \"15\": 1, \"17\": 1, \"55\": 1, \"6\": 2, \"5\": 1, \"1\": 1, \"27\": 1, \"13\": 1}, \"57\": {\"54\": 5, \"42\": 4, \"57\": 107, \"53\": 3, \"18\": 4, \"16\": 2, \"45\": 1, \"52\": 2, \"23\": 2, \"1\": 1, \"46\": 1}, \"9\": {\"9\": 67, \"21\": 2, \"4\": 2, \"27\": 26, \"48\": 15, \"44\": 1, \"32\": 2, \"57\": 1, \"43\": 3, \"33\": 1, \"45\": 3, \"30\": 4, \"1\": 8, \"19\": 4, \"20\": 1, \"54\": 1, \"53\": 1, \"55\": 2, \"8\": 1, \"25\": 1}, \"8\": {\"8\": 123, \"47\": 1, \"20\": 4, \"1\": 1, \"6\": 2, \"53\": 1}, \"46\": {\"34\": 2, \"23\": 13, \"46\": 51, \"52\": 20, \"57\": 12, \"2\": 1, \"40\": 2, \"39\": 1, \"0\": 2, \"50\": 2, \"6\": 1, \"25\": 1, \"3\": 3, \"18\": 5, \"20\": 3, \"54\": 8, \"11\": 3, \"1\": 1, \"16\": 6, \"21\": 1, \"44\": 1, \"42\": 1}, \"23\": {\"23\": 121, \"18\": 1, \"52\": 1, \"46\": 1}, \"37\": {\"37\": 22, \"4\": 1, \"0\": 1}, \"34\": {\"34\": 18, \"16\": 1, \"48\": 1, \"57\": 2, \"19\": 2, \"1\": 5, \"55\": 1, \"54\": 1, \"23\": 1, \"14\": 1, \"28\": 2, \"53\": 1}, \"4\": {\"28\": 3, \"4\": 37, \"9\": 7, \"51\": 1, \"54\": 1, \"27\": 10, \"17\": 3, \"48\": 7, \"19\": 4, \"47\": 1, \"33\": 2, \"45\": 5, \"55\": 1, \"30\": 5, \"5\": 1, \"12\": 5, \"34\": 1, \"32\": 4, \"3\": 1, \"8\": 1}, \"6\": {\"8\": 3, \"6\": 58, \"48\": 12, \"54\": 1, \"38\": 1, \"32\": 1, \"1\": 16, \"20\": 4, \"52\": 1, \"53\": 4, \"27\": 2, \"23\": 2, \"9\": 2, \"45\": 6, \"30\": 3, \"51\": 1, \"19\": 1, \"55\": 3, \"41\": 1, \"57\": 1, \"17\": 5}, \"48\": {\"6\": 4, \"48\": 112, \"20\": 2, \"46\": 1, \"1\": 13, \"17\": 1, \"8\": 1, \"53\": 1, \"11\": 1}, \"44\": {\"44\": 118, \"29\": 12, \"5\": 6, \"36\": 1, \"40\": 1}, \"40\": {\"40\": 65, \"44\": 9, \"33\": 1, \"5\": 9, \"0\": 5, \"47\": 2, \"24\": 1, \"36\": 4, \"29\": 13, \"13\": 2, \"49\": 3, \"2\": 1, \"22\": 1, \"3\": 1, \"56\": 5, \"25\": 1, \"4\": 1}, \"12\": {\"12\": 77, \"30\": 3, \"38\": 1, \"48\": 2, \"8\": 3, \"20\": 3, \"6\": 3, \"26\": 2, \"1\": 1, \"53\": 1}, \"30\": {\"30\": 108, \"45\": 1, \"6\": 7, \"26\": 1, \"1\": 3, \"27\": 1, \"8\": 2, \"54\": 1, \"17\": 2, \"48\": 1, \"25\": 1}, \"39\": {\"39\": 13, \"48\": 1, \"20\": 1, \"42\": 2, \"1\": 1, \"8\": 2}, \"45\": {\"32\": 6, \"27\": 10, \"30\": 6, \"20\": 8, \"45\": 23, \"17\": 6, \"54\": 2, \"53\": 3, \"1\": 8, \"41\": 2, \"9\": 6, \"8\": 8, \"19\": 3, \"48\": 8, \"50\": 3, \"6\": 5, \"4\": 3, \"55\": 2, \"47\": 1, \"46\": 1, \"28\": 1, \"57\": 4, \"12\": 1, \"38\": 1, \"51\": 1, \"25\": 1, \"21\": 1}, \"36\": {\"14\": 1, \"36\": 80, \"43\": 4, \"4\": 1, \"12\": 1, \"33\": 1, \"9\": 1, \"47\": 2, \"29\": 1}, \"27\": {\"27\": 110, \"9\": 9, \"55\": 2, \"54\": 3, \"48\": 8, \"6\": 1, \"1\": 4, \"32\": 2, \"17\": 1}, \"32\": {\"32\": 30, \"27\": 1, \"42\": 1}, \"52\": {\"52\": 126, \"23\": 3, \"54\": 1}, \"0\": {\"0\": 79, \"36\": 5, \"24\": 9, \"31\": 3, \"13\": 2, \"14\": 2, \"3\": 2, \"29\": 4, \"25\": 1, \"46\": 1, \"47\": 1, \"11\": 5, \"15\": 1, \"56\": 8, \"4\": 1}, \"26\": {\"26\": 24}, \"1\": {\"1\": 129, \"48\": 4, \"6\": 6, \"54\": 1, \"52\": 1, \"23\": 4, \"11\": 2, \"53\": 1}, \"53\": {\"53\": 138, \"51\": 3, \"46\": 2, \"8\": 1, \"33\": 1, \"55\": 1}, \"25\": {\"1\": 10, \"20\": 10, \"28\": 1, \"25\": 57, \"54\": 4, \"17\": 1, \"57\": 7, \"32\": 5, \"53\": 5, \"51\": 1, \"6\": 12, \"45\": 1, \"46\": 5, \"48\": 6, \"8\": 10, \"47\": 2, \"30\": 4, \"39\": 1, \"55\": 1, \"50\": 1}, \"24\": {\"24\": 63, \"49\": 1, \"2\": 1, \"36\": 2, \"13\": 5, \"10\": 2, \"56\": 2, \"43\": 1, \"0\": 3}, \"7\": {\"7\": 31, \"48\": 1}, \"18\": {\"18\": 64}, \"20\": {\"20\": 132, \"53\": 5, \"51\": 2, \"54\": 3, \"48\": 1, \"8\": 1}, \"33\": {\"33\": 27, \"19\": 1, \"28\": 2, \"50\": 2}, \"55\": {\"30\": 25, \"57\": 4, \"8\": 4, \"41\": 1, \"48\": 11, \"27\": 8, \"47\": 4, \"19\": 4, \"38\": 1, \"12\": 2, \"21\": 1, \"54\": 2, \"55\": 35, \"34\": 1, \"17\": 2, \"51\": 1, \"4\": 2, \"20\": 1, \"9\": 6, \"11\": 2, \"45\": 6, \"25\": 1, \"50\": 1, \"6\": 6, \"33\": 1, \"32\": 2, \"1\": 4, \"52\": 1, \"46\": 1}, \"41\": {\"41\": 25, \"27\": 1, \"57\": 1, \"23\": 1}, \"42\": {\"42\": 33, \"23\": 4, \"40\": 1, \"18\": 2}, \"49\": {\"49\": 31, \"2\": 2, \"3\": 1, \"56\": 2}, \"13\": {\"13\": 140, \"49\": 1, \"56\": 6, \"2\": 1}, \"38\": {\"38\": 32}, \"2\": {\"2\": 26, \"49\": 1, \"0\": 1}, \"47\": {\"8\": 3, \"47\": 49, \"57\": 4, \"28\": 3, \"45\": 2, \"18\": 2, \"33\": 3, \"50\": 3, \"12\": 1, \"30\": 1, \"20\": 4, \"6\": 4, \"34\": 1, \"1\": 1, \"54\": 2, \"55\": 3, \"19\": 6, \"4\": 2, \"23\": 1, \"42\": 1, \"38\": 2, \"43\": 1, \"25\": 1}, \"17\": {\"17\": 114, \"51\": 1, \"20\": 1}, \"11\": {\"3\": 7, \"11\": 112, \"57\": 3, \"16\": 1, \"55\": 3, \"46\": 9, \"15\": 11, \"52\": 4, \"40\": 1, \"48\": 1, \"23\": 2}, \"29\": {\"49\": 2, \"29\": 78, \"24\": 1, \"5\": 16, \"0\": 6, \"44\": 9, \"47\": 4, \"19\": 1, \"50\": 1, \"15\": 2, \"56\": 6, \"40\": 2, \"55\": 1, \"3\": 2, \"36\": 1}, \"50\": {\"32\": 2, \"54\": 2, \"50\": 42, \"23\": 2, \"25\": 3, \"12\": 1, \"19\": 9, \"4\": 4, \"17\": 1, \"27\": 8, \"30\": 3, \"8\": 3, \"9\": 10, \"47\": 4, \"20\": 3, \"48\": 4, \"5\": 3, \"45\": 8, \"43\": 2, \"21\": 6, \"1\": 6, \"55\": 1, \"46\": 2, \"6\": 2, \"57\": 3, \"28\": 1, \"18\": 1, \"44\": 1, \"3\": 1}, \"56\": {\"56\": 143, \"49\": 2, \"0\": 3}, \"15\": {\"15\": 120, \"57\": 5, \"23\": 1, \"16\": 8, \"11\": 2, \"52\": 4, \"46\": 1, \"21\": 1}}, \"W_2\": {\"115\": {\"115\": 9, \"33\": 2, \"87\": 1}, \"34\": {\"129\": 1, \"7\": 1, \"1\": 2, \"34\": 8, \"59\": 1, \"103\": 1, \"110\": 4, \"51\": 2, \"42\": 1, \"79\": 2, \"111\": 1, \"128\": 1, \"0\": 1, \"54\": 1, \"35\": 1, \"70\": 1, \"5\": 1, \"49\": 1, \"98\": 1}, \"97\": {\"7\": 1, \"97\": 8, \"36\": 1, \"15\": 1, \"90\": 1, \"77\": 1, \"79\": 1, \"75\": 2, \"94\": 1, \"98\": 1, \"101\": 1, \"110\": 1}, \"100\": {\"16\": 2, \"100\": 12, \"109\": 2}, \"129\": {\"34\": 1, \"115\": 1, \"129\": 18, \"10\": 1, \"73\": 1, \"12\": 1, \"1\": 1, \"62\": 2, \"126\": 2, \"5\": 1, \"80\": 1, \"4\": 1, \"107\": 1}, \"90\": {\"90\": 124, \"119\": 2, \"88\": 2, \"113\": 2, \"109\": 2, \"93\": 3, \"18\": 2, \"21\": 3, \"69\": 1, \"44\": 1}, \"125\": {\"97\": 2, \"106\": 2, \"125\": 107, \"75\": 1, \"94\": 3, \"36\": 5, \"15\": 7, \"24\": 4, \"99\": 1}, \"7\": {\"7\": 68, \"52\": 1, \"0\": 3, \"111\": 2, \"79\": 1, \"98\": 2, \"114\": 9, \"12\": 3, \"127\": 7, \"24\": 1, \"71\": 5, \"43\": 1, \"90\": 2, \"105\": 2, \"70\": 1, \"3\": 2, \"108\": 5, \"26\": 1, \"95\": 1, \"8\": 2, \"84\": 1, \"29\": 2, \"11\": 2, \"122\": 1, \"107\": 1, \"124\": 1, \"40\": 1}, \"92\": {\"80\": 2, \"92\": 19, \"110\": 1, \"16\": 1, \"72\": 1, \"88\": 2, \"82\": 2}, \"114\": {\"114\": 104, \"57\": 1, \"40\": 1, \"111\": 1, \"127\": 2, \"108\": 1, \"71\": 4, \"7\": 2}, \"80\": {\"80\": 11, \"102\": 1, \"62\": 1, \"14\": 1, \"2\": 1, \"31\": 1}, \"16\": {\"100\": 1, \"16\": 46, \"88\": 7, \"83\": 1, \"81\": 2, \"118\": 2, \"121\": 3, \"20\": 2, \"21\": 1, \"69\": 5, \"38\": 1, \"26\": 10, \"102\": 1, \"117\": 11, \"109\": 5, \"18\": 8, \"23\": 1, \"39\": 3, \"90\": 2, \"93\": 3, \"99\": 1, \"62\": 2, \"113\": 2, \"70\": 1, \"87\": 1}, \"69\": {\"100\": 2, \"2\": 2, \"69\": 74, \"72\": 2, \"46\": 1, \"26\": 12, \"88\": 1, \"117\": 2, \"16\": 3, \"109\": 2, \"40\": 1, \"102\": 6, \"39\": 2, \"87\": 1, \"62\": 1, \"96\": 1, \"81\": 2, \"118\": 1}, \"102\": {\"100\": 1, \"102\": 67, \"13\": 2, \"62\": 7, \"118\": 3, \"87\": 6, \"39\": 3, \"84\": 3, \"69\": 10, \"16\": 1, \"26\": 1, \"33\": 7, \"126\": 1, \"88\": 1, \"1\": 1}, \"33\": {\"33\": 108, \"100\": 1, \"31\": 1, \"62\": 6, \"87\": 5, \"102\": 3, \"84\": 3, \"70\": 1, \"69\": 1, \"1\": 1}, \"17\": {\"34\": 1, \"114\": 1, \"86\": 2, \"17\": 7, \"40\": 1, \"2\": 1, \"105\": 1, \"4\": 1, \"52\": 1}, \"27\": {\"27\": 35, \"25\": 1, \"106\": 2, \"103\": 1, \"6\": 1, \"49\": 2, \"94\": 2, \"83\": 1, \"16\": 1, \"109\": 1, \"24\": 1, \"15\": 5, \"9\": 3, \"65\": 1, \"124\": 1, \"34\": 1, \"36\": 3, \"97\": 1, \"88\": 1, \"0\": 2, \"30\": 1, \"98\": 1}, \"117\": {\"117\": 72, \"18\": 11, \"26\": 12, \"65\": 1, \"90\": 1, \"16\": 4, \"39\": 2, \"120\": 1, \"88\": 1, \"62\": 1}, \"14\": {\"14\": 35, \"48\": 1, \"43\": 3, \"118\": 1, \"105\": 1, \"55\": 2, \"1\": 1, \"62\": 1, \"39\": 1, \"32\": 2}, \"86\": {\"17\": 1, \"86\": 25, \"40\": 5, \"105\": 1}, \"0\": {\"0\": 59, \"21\": 1, \"68\": 1, \"11\": 1, \"90\": 1, \"29\": 3, \"30\": 3, \"101\": 1, \"127\": 7, \"7\": 6, \"107\": 1, \"111\": 10, \"23\": 2, \"108\": 5, \"12\": 1, \"98\": 6, \"106\": 2, \"84\": 2, \"59\": 1, \"114\": 2, \"18\": 1}, \"62\": {\"62\": 73, \"113\": 1, \"69\": 3, \"33\": 20, \"102\": 10, \"1\": 3, \"16\": 1, \"88\": 2, \"39\": 1, \"84\": 11, \"109\": 2, \"38\": 1, \"31\": 1, \"18\": 1, \"14\": 1, \"43\": 2, \"101\": 1, \"4\": 1, \"70\": 1, \"90\": 1, \"105\": 1}, \"39\": {\"44\": 5, \"109\": 7, \"39\": 32, \"113\": 4, \"2\": 1, \"118\": 3, \"69\": 5, \"93\": 5, \"90\": 8, \"18\": 7, \"88\": 5, \"87\": 4, \"117\": 3, \"16\": 5, \"70\": 1, \"62\": 2, \"119\": 1, \"99\": 2, \"14\": 1, \"120\": 2, \"102\": 3, \"26\": 6}, \"19\": {\"39\": 3, \"90\": 1, \"109\": 1, \"19\": 4, \"87\": 3, \"113\": 1, \"33\": 3, \"37\": 1, \"1\": 1, \"107\": 1, \"45\": 1, \"65\": 1, \"38\": 1, \"62\": 2, \"95\": 1, \"93\": 2, \"84\": 1}, \"44\": {\"44\": 64, \"96\": 1, \"119\": 1, \"83\": 1, \"21\": 4, \"90\": 11, \"109\": 6, \"113\": 1, \"88\": 2, \"93\": 4, \"39\": 1, \"87\": 1, \"70\": 2, \"18\": 1}, \"104\": {\"17\": 3, \"86\": 2, \"104\": 11, \"19\": 1, \"54\": 1, \"32\": 1, \"40\": 1}, \"3\": {\"3\": 102, \"128\": 1, \"43\": 1, \"5\": 4, \"71\": 8, \"0\": 1, \"11\": 2, \"88\": 1, \"90\": 1, \"40\": 2, \"102\": 1, \"60\": 1, \"100\": 1, \"1\": 1, \"42\": 1, \"93\": 1, \"10\": 1}, \"10\": {\"3\": 2, \"39\": 1, \"113\": 1, \"10\": 28, \"109\": 1, \"43\": 3, \"5\": 2, \"120\": 1, \"33\": 2, \"78\": 1, \"87\": 2, \"118\": 2, \"71\": 1, \"126\": 1, \"44\": 1, \"122\": 2, \"8\": 1, \"121\": 1, \"129\": 1, \"60\": 1, \"90\": 2, \"102\": 1, \"88\": 1, \"40\": 1}, \"61\": {\"61\": 12, \"23\": 1, \"119\": 1, \"90\": 1, \"19\": 1, \"50\": 1, \"5\": 1, \"39\": 2}, \"111\": {\"103\": 1, \"98\": 9, \"127\": 5, \"32\": 2, \"111\": 73, \"34\": 1, \"128\": 1, \"73\": 1, \"124\": 2, \"12\": 7, \"101\": 4, \"108\": 2, \"0\": 2, \"68\": 1, \"30\": 1, \"8\": 1, \"40\": 1}, \"68\": {\"111\": 2, \"68\": 10, \"52\": 1, \"122\": 1, \"114\": 2}, \"101\": {\"101\": 132, \"11\": 1, \"21\": 1, \"98\": 5, \"97\": 1, \"90\": 1, \"30\": 2, \"111\": 1}, \"36\": {\"101\": 1, \"36\": 56, \"119\": 1, \"59\": 1, \"6\": 3, \"27\": 5, \"34\": 3, \"9\": 3, \"18\": 1, \"24\": 4, \"73\": 1, \"111\": 1, \"30\": 5, \"12\": 2, \"94\": 5, \"98\": 6, \"125\": 4, \"15\": 9, \"88\": 1, \"62\": 1, \"106\": 8, \"90\": 1, \"23\": 1, \"108\": 1, \"109\": 1, \"105\": 1, \"127\": 1, \"93\": 1}, \"120\": {\"120\": 20}, \"103\": {\"103\": 12, \"91\": 1, \"68\": 1, \"54\": 1, \"106\": 1}, \"47\": {\"61\": 1, \"47\": 9, \"43\": 1, \"129\": 1}, \"98\": {\"98\": 104, \"34\": 2, \"30\": 2, \"101\": 5, \"125\": 1, \"24\": 2, \"121\": 1, \"35\": 1, \"41\": 2}, \"76\": {\"47\": 2, \"76\": 6, \"66\": 2, \"108\": 1, \"3\": 1, \"45\": 1, \"39\": 2, \"18\": 1}, \"88\": {\"120\": 1, \"16\": 6, \"118\": 1, \"93\": 11, \"39\": 6, \"88\": 26, \"20\": 1, \"31\": 1, \"21\": 1, \"87\": 8, \"18\": 3, \"102\": 1, \"69\": 5, \"44\": 8, \"84\": 3, \"113\": 5, \"26\": 5, \"109\": 8, \"117\": 6, \"62\": 1, \"90\": 11, \"119\": 1, \"96\": 1, \"121\": 1, \"11\": 1, \"126\": 2}, \"93\": {\"93\": 91, \"18\": 7, \"90\": 22, \"16\": 1, \"70\": 3, \"109\": 6, \"113\": 2, \"88\": 3, \"63\": 1, \"21\": 2}, \"23\": {\"120\": 1, \"111\": 1, \"23\": 7, \"4\": 3, \"90\": 2, \"21\": 4, \"71\": 1, \"43\": 3, \"44\": 1, \"109\": 3, \"98\": 1, \"62\": 1, \"124\": 1, \"108\": 1, \"66\": 1, \"38\": 2, \"99\": 3, \"12\": 2, \"14\": 1, \"39\": 1, \"50\": 1, \"35\": 1, \"113\": 1, \"11\": 1}, \"108\": {\"98\": 4, \"108\": 56, \"13\": 1, \"53\": 2, \"12\": 4, \"112\": 1, \"24\": 2, \"43\": 2, \"78\": 1, \"128\": 1, \"3\": 2, \"79\": 1, \"10\": 1, \"127\": 3, \"94\": 2, \"23\": 1, \"8\": 3, \"93\": 1, \"0\": 6, \"7\": 4, \"122\": 5, \"111\": 4, \"70\": 2, \"29\": 1, \"35\": 1, \"41\": 2, \"91\": 1, \"30\": 5, \"124\": 1, \"71\": 1, \"126\": 1, \"125\": 1, \"114\": 1}, \"51\": {\"77\": 2, \"51\": 12, \"120\": 1, \"34\": 1, \"25\": 1, \"93\": 1, \"15\": 1, \"21\": 1}, \"13\": {\"13\": 5, \"119\": 1, \"102\": 3, \"93\": 1, \"46\": 2, \"89\": 1, \"57\": 1, \"90\": 1, \"118\": 1}, \"77\": {\"77\": 12, \"55\": 1, \"91\": 1, \"106\": 2}, \"46\": {\"46\": 15, \"62\": 1}, \"96\": {\"13\": 2, \"81\": 1, \"70\": 1, \"96\": 8, \"31\": 1, \"44\": 1, \"18\": 2, \"39\": 2, \"93\": 1, \"60\": 1}, \"119\": {\"119\": 9, \"113\": 1, \"39\": 1, \"65\": 1, \"21\": 1, \"106\": 1, \"120\": 2, \"18\": 2, \"20\": 2}, \"121\": {\"119\": 2, \"83\": 2, \"121\": 10, \"21\": 3, \"16\": 1, \"113\": 1, \"99\": 3, \"102\": 1, \"72\": 1, \"126\": 2, \"120\": 1, \"26\": 2, \"96\": 1, \"31\": 2, \"39\": 1, \"20\": 1, \"60\": 1, \"109\": 1}, \"54\": {\"68\": 3, \"28\": 1, \"54\": 7, \"52\": 1, \"12\": 1, \"111\": 2, \"121\": 1, \"34\": 1, \"127\": 1, \"86\": 1, \"7\": 1}, \"82\": {\"82\": 31, \"118\": 1, \"67\": 1, \"48\": 1, \"92\": 1, \"80\": 1}, \"12\": {\"12\": 41, \"68\": 1, \"42\": 1, \"52\": 3, \"79\": 1, \"7\": 7, \"111\": 3, \"23\": 1, \"124\": 1, \"114\": 4, \"18\": 1, \"108\": 1, \"8\": 4, \"0\": 3, \"24\": 2, \"30\": 2, \"4\": 2, \"113\": 1, \"87\": 1, \"98\": 1, \"127\": 3, \"5\": 2, \"122\": 1, \"44\": 1}, \"74\": {\"74\": 12, \"73\": 2, \"20\": 1, \"107\": 1}, \"66\": {\"52\": 1, \"66\": 9, \"92\": 1, \"74\": 1, \"67\": 1, \"124\": 1, \"15\": 1, \"22\": 1, \"48\": 1, \"36\": 1, \"71\": 1, \"60\": 1}, \"28\": {\"52\": 1, \"66\": 1, \"28\": 6, \"59\": 1, \"108\": 1, \"50\": 2, \"55\": 1, \"84\": 1, \"127\": 1, \"64\": 1, \"124\": 1, \"67\": 1, \"40\": 1, \"92\": 1}, \"52\": {\"52\": 10, \"30\": 1, \"12\": 2, \"74\": 1, \"106\": 1, \"122\": 2, \"25\": 1, \"8\": 1, \"5\": 1}, \"41\": {\"41\": 13, \"15\": 1, \"24\": 1, \"29\": 1, \"108\": 1, \"98\": 1, \"125\": 1, \"91\": 1}, \"81\": {\"13\": 1, \"81\": 14, \"113\": 3, \"117\": 1, \"99\": 2, \"18\": 2, \"16\": 1}, \"48\": {\"48\": 18, \"100\": 2}, \"113\": {\"113\": 55, \"99\": 1, \"93\": 2, \"109\": 1, \"90\": 2, \"18\": 4, \"120\": 2, \"87\": 1, \"21\": 2, \"8\": 1, \"39\": 1}, \"53\": {\"53\": 15, \"42\": 1}, \"15\": {\"15\": 55, \"97\": 1, \"36\": 12, \"49\": 1, \"24\": 6, \"34\": 1, \"98\": 3, \"94\": 3, \"23\": 1, \"106\": 6, \"125\": 12, \"27\": 1, \"108\": 1, \"111\": 1, \"101\": 2, \"104\": 1, \"6\": 1, \"7\": 1, \"51\": 1, \"29\": 1, \"9\": 3, \"30\": 4, \"12\": 1, \"93\": 1}, \"30\": {\"108\": 3, \"30\": 34, \"25\": 2, \"41\": 1, \"68\": 2, \"11\": 1, \"97\": 2, \"12\": 5, \"6\": 2, \"15\": 6, \"90\": 1, \"24\": 5, \"111\": 2, \"125\": 1, \"36\": 3, \"71\": 1, \"29\": 2, \"16\": 1, \"127\": 2, \"106\": 9, \"94\": 3, \"124\": 2, \"8\": 1, \"98\": 4, \"0\": 5, \"47\": 1, \"34\": 1, \"27\": 2, \"58\": 3, \"103\": 1, \"5\": 1, \"7\": 1, \"93\": 1, \"114\": 1}, \"43\": {\"74\": 1, \"39\": 5, \"90\": 4, \"43\": 31, \"44\": 1, \"129\": 3, \"88\": 5, \"126\": 1, \"71\": 2, \"105\": 5, \"93\": 11, \"1\": 5, \"87\": 3, \"69\": 2, \"16\": 3, \"26\": 1, \"107\": 3, \"3\": 1, \"70\": 6, \"40\": 3, \"84\": 4, \"62\": 3, \"33\": 3, \"46\": 1, \"99\": 1, \"76\": 1, \"122\": 2, \"80\": 1, \"20\": 1, \"22\": 1, \"118\": 5, \"110\": 1, \"21\": 1, \"5\": 2, \"18\": 1}, \"29\": {\"29\": 16, \"91\": 1, \"127\": 3, \"128\": 1, \"108\": 2, \"98\": 2, \"27\": 1, \"41\": 1, \"49\": 1, \"123\": 1, \"7\": 2, \"59\": 1}, \"109\": {\"109\": 34, \"81\": 1, \"118\": 1, \"90\": 10, \"99\": 2, \"38\": 1, \"117\": 2, \"120\": 1, \"26\": 4, \"2\": 2, \"113\": 6, \"44\": 7, \"18\": 7, \"11\": 1, \"39\": 5, \"93\": 7, \"87\": 3, \"88\": 2, \"21\": 1, \"16\": 2, \"84\": 1}, \"60\": {\"60\": 8, \"10\": 2, \"42\": 2, \"20\": 1, \"16\": 2, \"47\": 1, \"73\": 1, \"82\": 1, \"3\": 2, \"109\": 1, \"116\": 1, \"38\": 1, \"121\": 1, \"99\": 1, \"72\": 1, \"5\": 1, \"26\": 1}, \"70\": {\"109\": 4, \"1\": 10, \"113\": 5, \"67\": 1, \"21\": 4, \"70\": 18, \"10\": 2, \"110\": 2, \"16\": 4, \"78\": 2, \"23\": 1, \"62\": 5, \"18\": 3, \"93\": 11, \"88\": 5, \"126\": 2, \"69\": 1, \"39\": 4, \"43\": 4, \"122\": 6, \"90\": 14, \"87\": 5, \"105\": 3, \"66\": 1, \"82\": 1, \"107\": 1, \"102\": 3}, \"127\": {\"127\": 101, \"55\": 2, \"24\": 1, \"29\": 1, \"0\": 3, \"30\": 1, \"111\": 5, \"12\": 3, \"98\": 2, \"8\": 1, \"99\": 1, \"108\": 2, \"114\": 1}, \"32\": {\"39\": 1, \"32\": 16, \"92\": 1, \"122\": 1, \"100\": 1, \"56\": 1, \"1\": 1, \"14\": 3, \"85\": 1, \"124\": 1, \"129\": 1, \"67\": 2, \"43\": 1, \"80\": 1, \"62\": 1, \"4\": 1, \"60\": 1, \"107\": 1}, \"73\": {\"73\": 14, \"5\": 1, \"66\": 1, \"10\": 1, \"105\": 2, \"88\": 1, \"71\": 2, \"23\": 1, \"128\": 1, \"60\": 1, \"1\": 1, \"40\": 1, \"78\": 1}, \"50\": {\"82\": 2, \"50\": 8, \"9\": 1, \"21\": 1, \"101\": 1, \"45\": 1, \"67\": 2}, \"1\": {\"105\": 1, \"83\": 1, \"10\": 1, \"1\": 82, \"100\": 1, \"82\": 1, \"73\": 2, \"2\": 1, \"84\": 7, \"43\": 7, \"126\": 2, \"33\": 2, \"70\": 3, \"62\": 6, \"39\": 2, \"102\": 3, \"44\": 1, \"69\": 1}, \"106\": {\"106\": 91, \"77\": 1, \"21\": 1, \"15\": 3, \"24\": 2, \"36\": 8, \"30\": 5, \"0\": 1, \"85\": 1, \"99\": 1, \"27\": 2, \"94\": 1, \"125\": 2, \"44\": 1}, \"123\": {\"123\": 15, \"113\": 1}, \"79\": {\"79\": 14, \"108\": 1, \"127\": 1}, \"4\": {\"8\": 6, \"4\": 51, \"5\": 7, \"105\": 1, \"23\": 1, \"85\": 1, \"95\": 1, \"40\": 5, \"107\": 3, \"90\": 1, \"7\": 2, \"114\": 1, \"120\": 1, \"16\": 1, \"110\": 1, \"34\": 2, \"122\": 1, \"52\": 1, \"11\": 1}, \"2\": {\"16\": 3, \"90\": 3, \"18\": 3, \"26\": 4, \"117\": 3, \"2\": 11, \"72\": 1, \"39\": 1, \"113\": 1, \"109\": 2}, \"8\": {\"8\": 87, \"53\": 1, \"95\": 1, \"40\": 2, \"114\": 4, \"65\": 1, \"88\": 1, \"4\": 3, \"105\": 3, \"11\": 2, \"5\": 1, \"70\": 1, \"122\": 4, \"126\": 2, \"108\": 2, \"124\": 3, \"10\": 1, \"107\": 1, \"23\": 1, \"113\": 1, \"12\": 1, \"39\": 1, \"7\": 2, \"33\": 1, \"3\": 1}, \"83\": {\"83\": 30, \"38\": 1, \"44\": 1, \"113\": 1, \"65\": 1, \"120\": 1, \"18\": 1, \"90\": 1, \"26\": 1, \"21\": 1, \"16\": 1}, \"105\": {\"105\": 70, \"16\": 3, \"118\": 2, \"1\": 9, \"73\": 1, \"4\": 3, \"128\": 1, \"107\": 3, \"122\": 5, \"70\": 7, \"10\": 1, \"43\": 5, \"40\": 13, \"5\": 2, \"62\": 1, \"8\": 1, \"39\": 1, \"21\": 1, \"84\": 1}, \"5\": {\"8\": 1, \"5\": 90, \"4\": 1, \"65\": 1, \"32\": 1, \"124\": 1, \"43\": 2, \"93\": 1, \"7\": 2, \"105\": 1, \"71\": 1, \"62\": 1, \"128\": 1, \"110\": 1, \"70\": 1, \"3\": 1, \"40\": 2, \"117\": 1, \"87\": 1, \"107\": 1}, \"99\": {\"99\": 25, \"21\": 2, \"120\": 2, \"90\": 1, \"65\": 2}, \"25\": {\"25\": 16}, \"59\": {\"59\": 6, \"106\": 1, \"21\": 2, \"36\": 2, \"98\": 2, \"91\": 1, \"90\": 1, \"7\": 1}, \"42\": {\"15\": 2, \"42\": 1, \"110\": 1, \"54\": 2, \"43\": 1, \"34\": 3, \"111\": 1, \"73\": 2, \"129\": 2, \"60\": 1, \"127\": 1, \"94\": 1, \"40\": 1, \"57\": 1, \"10\": 1, \"90\": 2, \"35\": 1, \"0\": 2, \"98\": 1, \"3\": 1}, \"55\": {\"118\": 2, \"55\": 10, \"19\": 1, \"14\": 1, \"84\": 2}, \"75\": {\"75\": 16}, \"118\": {\"118\": 21, \"82\": 4, \"43\": 2, \"14\": 5, \"55\": 1, \"90\": 1, \"39\": 4, \"84\": 4, \"19\": 2, \"117\": 1, \"108\": 1, \"62\": 2, \"89\": 2, \"1\": 2, \"70\": 2, \"67\": 1, \"78\": 1, \"102\": 3, \"11\": 1, \"63\": 2, \"32\": 2, \"69\": 1, \"87\": 1, \"113\": 2}, \"95\": {\"4\": 2, \"21\": 1, \"59\": 2, \"95\": 17, \"86\": 1, \"40\": 4, \"122\": 1, \"24\": 1, \"44\": 1, \"5\": 3, \"85\": 2, \"110\": 1}, \"122\": {\"42\": 1, \"110\": 3, \"122\": 35, \"129\": 3, \"85\": 1, \"29\": 2, \"12\": 2, \"7\": 3, \"119\": 1, \"0\": 1, \"4\": 3, \"40\": 7, \"118\": 1, \"89\": 1, \"62\": 3, \"70\": 3, \"78\": 2, \"11\": 1, \"126\": 2, \"8\": 3, \"84\": 1, \"114\": 2, \"43\": 6, \"88\": 3, \"3\": 2, \"105\": 4, \"112\": 1, \"61\": 1, \"22\": 1, \"53\": 1, \"80\": 1, \"128\": 1, \"5\": 3, \"60\": 1, \"107\": 2, \"10\": 2, \"108\": 1, \"1\": 2, \"69\": 1, \"124\": 5, \"71\": 1}, \"20\": {\"20\": 14, \"93\": 2}, \"110\": {\"110\": 24, \"105\": 1, \"26\": 1, \"10\": 1, \"1\": 1, \"6\": 1, \"21\": 1, \"107\": 3, \"89\": 1, \"14\": 2, \"118\": 1, \"5\": 1, \"7\": 1, \"95\": 1}, \"65\": {\"65\": 18, \"120\": 1, \"20\": 1}, \"37\": {\"64\": 1, \"37\": 11, \"76\": 1, \"110\": 1, \"104\": 1, \"87\": 1}, \"64\": {\"64\": 13, \"110\": 1, \"66\": 1, \"92\": 1}, \"63\": {\"63\": 18, \"26\": 1, \"83\": 1}, \"40\": {\"40\": 85, \"32\": 1, \"107\": 3, \"95\": 1, \"122\": 3, \"105\": 11, \"88\": 3, \"18\": 1, \"110\": 2, \"4\": 6, \"65\": 1, \"102\": 1, \"5\": 2, \"93\": 2, \"43\": 1, \"8\": 5, \"62\": 1, \"89\": 1, \"90\": 3, \"118\": 1, \"70\": 1, \"113\": 1, \"109\": 1, \"126\": 1, \"1\": 1, \"124\": 1}, \"21\": {\"21\": 35, \"99\": 6, \"32\": 2, \"90\": 2, \"119\": 1, \"39\": 2}, \"11\": {\"11\": 41, \"0\": 3, \"43\": 1, \"70\": 1, \"34\": 1, \"3\": 2, \"7\": 1, \"23\": 2, \"126\": 2, \"71\": 5, \"111\": 1, \"5\": 1, \"29\": 2, \"8\": 1, \"18\": 1, \"49\": 1, \"68\": 1, \"88\": 1, \"91\": 2, \"22\": 1, \"89\": 1, \"98\": 2, \"44\": 2, \"84\": 1, \"127\": 1, \"102\": 1, \"30\": 1}, \"67\": {\"67\": 16}, \"91\": {\"103\": 1, \"113\": 1, \"91\": 16, \"34\": 2, \"0\": 1, \"90\": 1, \"111\": 1, \"112\": 1, \"30\": 1, \"28\": 1, \"11\": 2}, \"87\": {\"113\": 5, \"118\": 2, \"120\": 5, \"99\": 1, \"19\": 1, \"1\": 1, \"38\": 1, \"87\": 33, \"14\": 1, \"18\": 1, \"93\": 6, \"90\": 13, \"88\": 7, \"23\": 1, \"70\": 3, \"109\": 4, \"39\": 1, \"33\": 8, \"43\": 2, \"62\": 3, \"44\": 2, \"102\": 3, \"21\": 5, \"69\": 1, \"117\": 1, \"84\": 1}, \"89\": {\"89\": 14, \"118\": 3, \"88\": 3, \"110\": 2, \"5\": 1, \"71\": 1, \"69\": 1, \"83\": 1, \"3\": 1, \"13\": 1, \"81\": 1, \"121\": 1, \"119\": 1, \"18\": 1, \"16\": 1, \"74\": 1, \"76\": 1, \"66\": 1}, \"9\": {\"9\": 27, \"36\": 1, \"29\": 1, \"15\": 2, \"27\": 1}, \"124\": {\"14\": 1, \"124\": 60, \"59\": 1, \"86\": 1, \"8\": 7, \"108\": 5, \"85\": 1, \"122\": 4, \"12\": 5, \"7\": 4, \"127\": 4, \"114\": 1, \"40\": 6, \"5\": 2, \"0\": 2, \"95\": 1, \"104\": 1, \"28\": 1, \"66\": 1, \"52\": 1, \"4\": 1, \"30\": 1, \"70\": 2, \"111\": 1}, \"56\": {\"124\": 2, \"56\": 6, \"101\": 1, \"7\": 1, \"30\": 1, \"95\": 1}, \"38\": {\"38\": 16}, \"94\": {\"125\": 9, \"97\": 2, \"9\": 1, \"106\": 5, \"94\": 15, \"27\": 4, \"98\": 3, \"12\": 1, \"101\": 4, \"30\": 3, \"109\": 2, \"36\": 5, \"15\": 3, \"75\": 1, \"79\": 1, \"88\": 1, \"87\": 2, \"113\": 1, \"114\": 1}, \"6\": {\"106\": 2, \"27\": 1, \"6\": 23, \"30\": 1, \"15\": 1, \"125\": 1, \"36\": 1, \"51\": 1, \"58\": 1}, \"58\": {\"58\": 10, \"15\": 1, \"125\": 3, \"36\": 1, \"38\": 1, \"30\": 1, \"6\": 2, \"98\": 1}, \"22\": {\"22\": 11, \"109\": 1, \"33\": 1, \"83\": 1, \"12\": 1, \"7\": 1, \"116\": 1, \"11\": 1, \"23\": 2}, \"24\": {\"53\": 1, \"24\": 16, \"118\": 1, \"39\": 2, \"125\": 13, \"9\": 2, \"8\": 3, \"14\": 1, \"27\": 2, \"44\": 2, \"62\": 1, \"6\": 2, \"23\": 1, \"36\": 12, \"106\": 4, \"7\": 5, \"30\": 5, \"108\": 5, \"71\": 2, \"12\": 1, \"43\": 1, \"93\": 2, \"109\": 1, \"15\": 3, \"114\": 2, \"0\": 3, \"56\": 1, \"95\": 1, \"25\": 1, \"120\": 1, \"99\": 1, \"91\": 1, \"82\": 1, \"5\": 1, \"90\": 4, \"98\": 1, \"122\": 2, \"94\": 1, \"102\": 1, \"87\": 1, \"70\": 1}, \"57\": {\"57\": 19, \"63\": 1}, \"112\": {\"112\": 9, \"108\": 1, \"24\": 1, \"66\": 1, \"91\": 2, \"1\": 1, \"23\": 1}, \"116\": {\"116\": 7, \"118\": 1, \"113\": 2, \"123\": 1, \"31\": 1, \"39\": 1, \"62\": 1, \"45\": 1, \"7\": 1, \"87\": 1, \"92\": 1, \"38\": 2, \"33\": 2, \"88\": 1, \"83\": 1, \"70\": 1, \"46\": 1, \"1\": 1, \"3\": 1}, \"18\": {\"18\": 90, \"26\": 5, \"109\": 3, \"117\": 6, \"88\": 5, \"113\": 2, \"90\": 4, \"93\": 8, \"38\": 1, \"119\": 1, \"81\": 1, \"87\": 1, \"39\": 1}, \"49\": {\"112\": 3, \"101\": 2, \"51\": 1, \"99\": 1, \"49\": 6, \"11\": 1, \"29\": 1, \"125\": 1, \"58\": 1, \"127\": 2, \"98\": 2, \"113\": 1, \"34\": 1, \"15\": 1}, \"45\": {\"45\": 13, \"14\": 1, \"89\": 2}, \"107\": {\"5\": 6, \"107\": 30, \"95\": 3, \"30\": 1, \"40\": 5, \"110\": 3, \"16\": 1, \"90\": 1, \"4\": 2, \"18\": 1, \"20\": 1, \"120\": 1, \"17\": 1, \"105\": 1, \"34\": 1, \"87\": 1, \"129\": 1, \"9\": 1, \"122\": 2, \"109\": 1}, \"35\": {\"35\": 7, \"34\": 1, \"127\": 1, \"108\": 1, \"73\": 1, \"29\": 1}, \"78\": {\"113\": 4, \"110\": 1, \"21\": 2, \"10\": 1, \"73\": 2, \"43\": 2, \"16\": 1, \"11\": 1, \"99\": 1, \"87\": 2, \"118\": 1, \"107\": 1, \"90\": 2, \"39\": 2, \"5\": 2, \"78\": 6, \"93\": 2, \"66\": 1, \"61\": 2, \"20\": 1, \"65\": 1, \"40\": 3, \"18\": 1, \"70\": 1, \"129\": 1, \"122\": 1, \"71\": 1, \"109\": 1, \"1\": 1}, \"126\": {\"126\": 27, \"123\": 1, \"82\": 1, \"21\": 3, \"110\": 1, \"33\": 5, \"43\": 6, \"93\": 8, \"113\": 2, \"83\": 1, \"70\": 7, \"69\": 2, \"109\": 2, \"62\": 3, \"78\": 1, \"11\": 1, \"23\": 1, \"88\": 6, \"84\": 6, \"3\": 1, \"117\": 1, \"87\": 2, \"90\": 3, \"44\": 5, \"1\": 3, \"18\": 2, \"16\": 2, \"102\": 2, \"39\": 1, \"121\": 2, \"120\": 1, \"119\": 2, \"38\": 2, \"80\": 1, \"14\": 1, \"73\": 1, \"118\": 1, \"10\": 1, \"5\": 2}, \"85\": {\"28\": 1, \"85\": 23, \"4\": 1, \"95\": 3, \"19\": 2, \"124\": 1, \"7\": 1}, \"72\": {\"72\": 18, \"2\": 1, \"26\": 1, \"57\": 1, \"21\": 1, \"113\": 2, \"117\": 1, \"63\": 1, \"121\": 1, \"90\": 1}, \"26\": {\"26\": 89, \"16\": 4, \"2\": 2, \"120\": 1, \"102\": 4, \"113\": 1, \"69\": 5, \"117\": 4, \"18\": 7, \"93\": 1, \"99\": 1, \"121\": 2, \"109\": 1, \"88\": 1, \"126\": 1}, \"84\": {\"84\": 50, \"125\": 1, \"1\": 5, \"62\": 9, \"90\": 2, \"70\": 4, \"102\": 4, \"117\": 1, \"33\": 7, \"14\": 1, \"96\": 1, \"83\": 1, \"43\": 3, \"87\": 2, \"88\": 1}, \"128\": {\"107\": 2, \"50\": 1, \"31\": 1, \"128\": 2, \"111\": 1, \"5\": 3, \"105\": 1, \"122\": 1, \"110\": 1, \"30\": 1, \"79\": 2, \"0\": 2, \"11\": 1, \"127\": 1, \"73\": 1, \"98\": 1, \"14\": 1, \"33\": 1}, \"31\": {\"31\": 15, \"96\": 1, \"33\": 1, \"16\": 1, \"48\": 1, \"87\": 1}, \"71\": {\"7\": 5, \"71\": 75, \"110\": 1, \"3\": 8, \"109\": 2, \"5\": 3, \"114\": 6}}, \"C_2\": {\"49\": {\"49\": 23, \"6\": 1}, \"13\": {\"13\": 116}, \"37\": {\"37\": 34, \"33\": 1, \"13\": 1}, \"41\": {\"41\": 19, \"30\": 1}, \"15\": {\"15\": 133, \"16\": 5, \"18\": 1, \"23\": 3}, \"56\": {\"56\": 128, \"22\": 8, \"24\": 3, \"10\": 3}, \"14\": {\"56\": 7, \"55\": 2, \"24\": 1, \"10\": 2, \"13\": 1, \"14\": 5, \"42\": 3, \"31\": 1, \"43\": 2}, \"3\": {\"47\": 1, \"15\": 2, \"3\": 19, \"27\": 3, \"1\": 6, \"6\": 3, \"54\": 3, \"51\": 2, \"39\": 2, \"32\": 1, \"50\": 6, \"49\": 1, \"20\": 1, \"46\": 2, \"57\": 7, \"25\": 3, \"26\": 1, \"55\": 2, \"12\": 1, \"19\": 2, \"36\": 4, \"48\": 5, \"52\": 1, \"0\": 1, \"18\": 1, \"2\": 2, \"23\": 3, \"45\": 1, \"8\": 1, \"34\": 1, \"30\": 1, \"4\": 2, \"53\": 1}, \"38\": {\"38\": 19, \"10\": 1}, \"43\": {\"43\": 132, \"24\": 5, \"38\": 1}, \"33\": {\"39\": 3, \"33\": 13, \"19\": 7, \"5\": 2, \"1\": 1, \"46\": 1, \"35\": 1}, \"47\": {\"47\": 69, \"6\": 2, \"40\": 1, \"21\": 1, \"39\": 2, \"36\": 2, \"19\": 7, \"0\": 3, \"5\": 8, \"26\": 1, \"29\": 10, \"1\": 7, \"46\": 2, \"54\": 4, \"57\": 10, \"20\": 2, \"25\": 1, \"2\": 1, \"12\": 2, \"50\": 1, \"8\": 2}, \"30\": {\"30\": 143, \"57\": 1}, \"39\": {\"39\": 23, \"40\": 1, \"30\": 1, \"5\": 1, \"1\": 1, \"29\": 1}, \"12\": {\"12\": 82, \"8\": 2, \"20\": 3, \"54\": 1, \"27\": 2, \"36\": 1, \"6\": 1}, \"6\": {\"6\": 52, \"1\": 2, \"48\": 21, \"50\": 4, \"36\": 3, \"54\": 11, \"28\": 1, \"17\": 6, \"30\": 4, \"12\": 2, \"45\": 2, \"27\": 3, \"8\": 1, \"15\": 4, \"25\": 1, \"4\": 1, \"33\": 1, \"18\": 1, \"53\": 2, \"52\": 2}, \"51\": {\"51\": 70, \"21\": 12, \"48\": 3, \"2\": 1, \"26\": 1, \"8\": 2, \"52\": 2, \"53\": 25, \"54\": 4, \"6\": 1, \"50\": 4, \"4\": 1, \"20\": 4, \"30\": 2, \"12\": 2}, \"5\": {\"15\": 1, \"33\": 1, \"57\": 8, \"48\": 7, \"5\": 41, \"42\": 1, \"19\": 3, \"52\": 4, \"54\": 3, \"26\": 1, \"1\": 4, \"9\": 3, \"16\": 3, \"0\": 2, \"25\": 5, \"44\": 1, \"30\": 6, \"53\": 2, \"23\": 2, \"3\": 1, \"55\": 1, \"40\": 4, \"45\": 1, \"4\": 2, \"6\": 1, \"17\": 1, \"12\": 1, \"46\": 2, \"47\": 6, \"11\": 1, \"29\": 1}, \"34\": {\"34\": 17, \"27\": 2, \"6\": 1, \"49\": 3, \"2\": 1, \"1\": 2, \"4\": 1, \"36\": 1}, \"35\": {\"35\": 30, \"19\": 2}, \"0\": {\"0\": 6, \"34\": 1, \"30\": 3, \"4\": 1, \"23\": 6, \"2\": 1, \"16\": 4, \"48\": 2, \"15\": 9, \"28\": 3, \"52\": 3, \"8\": 2, \"57\": 2, \"17\": 1, \"18\": 1, \"47\": 2, \"1\": 1}, \"7\": {\"35\": 2, \"7\": 30, \"0\": 1, \"5\": 1, \"19\": 1, \"17\": 1}, \"24\": {\"24\": 72, \"14\": 1, \"38\": 3, \"56\": 2, \"22\": 2, \"43\": 8, \"10\": 8}, \"8\": {\"36\": 3, \"8\": 124, \"54\": 2, \"12\": 3, \"20\": 1, \"50\": 1, \"25\": 1, \"27\": 1}, \"20\": {\"20\": 114, \"36\": 1, \"53\": 1, \"51\": 3, \"12\": 1, \"45\": 1, \"50\": 1, \"8\": 2}, \"36\": {\"36\": 112, \"27\": 4}, \"42\": {\"42\": 23, \"5\": 4, \"39\": 3, \"44\": 1, \"11\": 1, \"7\": 3, \"47\": 1}, \"1\": {\"1\": 47, \"33\": 1, \"34\": 2, \"39\": 2, \"48\": 7, \"57\": 10, \"54\": 4, \"18\": 1, \"12\": 7, \"52\": 1, \"40\": 2, \"3\": 2, \"29\": 4, \"45\": 3, \"44\": 1, \"50\": 3, \"20\": 3, \"26\": 1, \"9\": 2, \"53\": 1, \"5\": 2, \"17\": 1, \"47\": 2, \"46\": 1, \"0\": 2}, \"4\": {\"4\": 127, \"9\": 11, \"45\": 2, \"57\": 1, \"17\": 2, \"32\": 2, \"50\": 2, \"21\": 1}, \"28\": {\"28\": 21, \"23\": 5, \"30\": 1, \"52\": 1}, \"50\": {\"50\": 29, \"8\": 26, \"27\": 4, \"54\": 12, \"39\": 1, \"6\": 7, \"20\": 8, \"0\": 1, \"30\": 3, \"1\": 1, \"21\": 2, \"44\": 1, \"19\": 1, \"52\": 2, \"57\": 1, \"36\": 6, \"12\": 5, \"3\": 1, \"45\": 8, \"23\": 1, \"53\": 7, \"2\": 3, \"48\": 1, \"47\": 1, \"51\": 2, \"25\": 2}, \"45\": {\"50\": 1, \"39\": 1, \"54\": 7, \"3\": 3, \"4\": 28, \"2\": 2, \"21\": 1, \"6\": 4, \"45\": 16, \"12\": 3, \"27\": 8, \"46\": 2, \"15\": 2, \"23\": 1, \"18\": 1, \"47\": 5, \"44\": 1, \"1\": 5, \"17\": 5, \"29\": 3, \"9\": 17, \"57\": 3, \"19\": 1, \"8\": 1, \"26\": 2, \"36\": 3, \"48\": 1, \"51\": 1}, \"18\": {\"18\": 48}, \"57\": {\"18\": 1, \"50\": 2, \"57\": 52, \"48\": 21, \"54\": 4, \"30\": 3, \"21\": 2, \"8\": 3, \"17\": 11, \"45\": 1, \"1\": 5, \"36\": 5, \"6\": 1, \"0\": 1, \"29\": 1, \"52\": 1, \"3\": 2, \"23\": 1, \"47\": 1, \"9\": 2}, \"46\": {\"42\": 2, \"57\": 3, \"30\": 8, \"0\": 2, \"23\": 4, \"8\": 1, \"2\": 3, \"46\": 35, \"21\": 2, \"41\": 2, \"44\": 1, \"49\": 1, \"3\": 6, \"6\": 3, \"36\": 4, \"51\": 4, \"50\": 4, \"11\": 2, \"15\": 7, \"5\": 3, \"47\": 4, \"45\": 2, \"53\": 4, \"48\": 7, \"27\": 1, \"1\": 3, \"43\": 2, \"25\": 1, \"13\": 1, \"40\": 1, \"52\": 1, \"9\": 1, \"12\": 1, \"19\": 2}, \"23\": {\"23\": 148}, \"27\": {\"27\": 137, \"8\": 1}, \"19\": {\"19\": 98, \"7\": 2, \"47\": 6, \"44\": 1, \"29\": 15, \"40\": 3, \"11\": 1, \"5\": 3, \"1\": 3, \"0\": 1, \"57\": 1}, \"22\": {\"22\": 114, \"56\": 15, \"14\": 1, \"43\": 4, \"24\": 1, \"13\": 1}, \"17\": {\"17\": 101, \"45\": 1, \"48\": 2}, \"55\": {\"44\": 2, \"55\": 114, \"40\": 5, \"31\": 1, \"29\": 1, \"43\": 3, \"46\": 3, \"19\": 3, \"5\": 2, \"11\": 1, \"47\": 1}, \"44\": {\"44\": 71, \"35\": 6, \"42\": 1, \"40\": 5, \"19\": 9, \"29\": 2, \"55\": 1, \"5\": 3, \"3\": 1, \"46\": 1}, \"26\": {\"26\": 23, \"53\": 1}, \"31\": {\"31\": 27, \"46\": 1}, \"16\": {\"16\": 122, \"23\": 5, \"15\": 3}, \"11\": {\"11\": 90, \"16\": 11, \"23\": 5, \"28\": 2, \"52\": 9, \"48\": 3, \"15\": 8}, \"25\": {\"54\": 15, \"25\": 37, \"36\": 17, \"8\": 11, \"30\": 3, \"12\": 2, \"5\": 3, \"6\": 8, \"21\": 2, \"50\": 6, \"48\": 4, \"47\": 1, \"27\": 5, \"20\": 6, \"39\": 1, \"45\": 1, \"57\": 1, \"1\": 1, \"9\": 1, \"46\": 1}, \"54\": {\"54\": 108}, \"32\": {\"32\": 28}, \"52\": {\"52\": 108, \"18\": 2, \"15\": 3, \"16\": 2, \"23\": 8, \"3\": 1}, \"40\": {\"40\": 65, \"47\": 7, \"5\": 7, \"7\": 3, \"31\": 1, \"55\": 2, \"35\": 3, \"19\": 16, \"46\": 2, \"0\": 1, \"44\": 7, \"57\": 4, \"1\": 1, \"29\": 6, \"39\": 1, \"33\": 3, \"3\": 2, \"43\": 1}, \"2\": {\"54\": 2, \"48\": 11, \"39\": 1, \"2\": 8, \"47\": 1, \"52\": 2, \"0\": 1, \"6\": 1, \"36\": 2, \"28\": 1, \"49\": 2}, \"10\": {\"10\": 108, \"38\": 1, \"24\": 1}, \"53\": {\"53\": 77, \"51\": 27, \"20\": 8, \"54\": 7, \"52\": 1, \"50\": 2, \"21\": 5, \"26\": 1, \"12\": 4, \"8\": 3, \"48\": 1}, \"9\": {\"4\": 17, \"9\": 112, \"17\": 7, \"52\": 1, \"45\": 3, \"21\": 3, \"51\": 1, \"25\": 1, \"57\": 2, \"48\": 2, \"53\": 1}, \"21\": {\"21\": 70, \"51\": 18, \"2\": 1, \"54\": 6, \"17\": 2, \"48\": 3, \"3\": 1, \"52\": 6, \"53\": 8, \"50\": 1, \"1\": 1, \"6\": 3}, \"48\": {\"48\": 132, \"17\": 2, \"6\": 1, \"52\": 1, \"19\": 1, \"16\": 1}, \"29\": {\"29\": 94, \"19\": 10, \"33\": 2, \"5\": 1, \"47\": 3, \"40\": 1, \"57\": 4, \"1\": 4, \"7\": 1, \"0\": 2, \"9\": 1, \"25\": 1, \"3\": 1, \"43\": 1, \"12\": 1, \"4\": 1}}, \"C_1\": {\"9\": {\"9\": 142}, \"25\": {\"25\": 83, \"4\": 1, \"42\": 1, \"19\": 7, \"30\": 6, \"18\": 4, \"9\": 5, \"16\": 1, \"1\": 1, \"45\": 8, \"53\": 3, \"46\": 1, \"26\": 1, \"34\": 1, \"57\": 1, \"6\": 2, \"13\": 1, \"8\": 1}, \"41\": {\"41\": 19, \"46\": 1, \"17\": 2, \"26\": 1, \"51\": 1}, \"29\": {\"29\": 115, \"57\": 1, \"40\": 2, \"32\": 1, \"11\": 1, \"0\": 1, \"47\": 2, \"44\": 9, \"55\": 2, \"35\": 3, \"4\": 1, \"50\": 2}, \"46\": {\"46\": 45, \"50\": 17, \"48\": 12, \"5\": 19, \"4\": 2, \"14\": 1, \"6\": 3, \"8\": 9, \"17\": 4, \"30\": 4, \"42\": 1, \"19\": 2, \"51\": 3, \"54\": 1, \"45\": 3, \"53\": 1, \"25\": 1}, \"4\": {\"50\": 7, \"41\": 1, \"54\": 1, \"4\": 90, \"5\": 1, \"45\": 3, \"17\": 2, \"46\": 8, \"19\": 4, \"51\": 1, \"48\": 4, \"2\": 1, \"7\": 1, \"42\": 2, \"1\": 2, \"36\": 1, \"30\": 1, \"57\": 2}, \"31\": {\"31\": 26, \"24\": 1, \"11\": 1}, \"36\": {\"16\": 5, \"46\": 1, \"36\": 37, \"18\": 5, \"14\": 1, \"9\": 8, \"54\": 2, \"53\": 1, \"45\": 1, \"30\": 2, \"19\": 1}, \"20\": {\"20\": 113, \"46\": 1, \"12\": 6, \"54\": 2, \"25\": 2, \"18\": 1, \"45\": 1, \"51\": 2}, \"7\": {\"7\": 22, \"45\": 2, \"2\": 1, \"17\": 1, \"9\": 1, \"1\": 1}, \"6\": {\"6\": 52, \"2\": 4, \"45\": 1, \"5\": 4, \"50\": 12, \"8\": 3, \"9\": 2, \"48\": 14, \"46\": 2, \"53\": 2}, \"16\": {\"16\": 137, \"18\": 1}, \"17\": {\"17\": 64}, \"50\": {\"50\": 146, \"48\": 1, \"46\": 1}, \"57\": {\"6\": 4, \"57\": 64, \"56\": 12, \"42\": 2, \"1\": 13, \"19\": 14, \"4\": 6, \"48\": 8, \"5\": 2, \"13\": 3, \"53\": 3, \"50\": 2, \"46\": 4, \"7\": 1, \"2\": 2, \"26\": 1, \"45\": 1, \"8\": 1, \"40\": 1}, \"23\": {\"36\": 5, \"16\": 7, \"23\": 101, \"21\": 5, \"51\": 1, \"33\": 1, \"9\": 1, \"45\": 4, \"18\": 1, \"54\": 1, \"8\": 1, \"34\": 1, \"17\": 1, \"19\": 3, \"5\": 2, \"15\": 1}, \"3\": {\"3\": 108, \"55\": 7, \"29\": 2, \"44\": 5, \"24\": 1, \"0\": 1, \"13\": 1, \"52\": 1}, \"53\": {\"53\": 136, \"26\": 2, \"9\": 2}, \"49\": {\"49\": 31, \"38\": 1}, \"56\": {\"56\": 75, \"57\": 19, \"1\": 13, \"32\": 3, \"4\": 1, \"7\": 5, \"6\": 2, \"8\": 1, \"50\": 7, \"15\": 1, \"47\": 1, \"0\": 2, \"29\": 1, \"53\": 2, \"40\": 9, \"30\": 2, \"46\": 1, \"42\": 1, \"48\": 4, \"11\": 1, \"25\": 1}, \"51\": {\"51\": 77, \"13\": 1, \"48\": 2, \"7\": 1, \"53\": 25, \"17\": 4, \"18\": 4, \"16\": 17, \"36\": 1, \"46\": 1, \"6\": 1, \"9\": 2, \"54\": 1, \"4\": 1, \"41\": 1, \"29\": 1, \"12\": 2}, \"26\": {\"26\": 21, \"41\": 1, \"14\": 1, \"53\": 1}, \"43\": {\"43\": 143, \"27\": 1}, \"22\": {\"22\": 95, \"52\": 11, \"10\": 5, \"15\": 2, \"27\": 1, \"11\": 12, \"40\": 1, \"24\": 8, \"47\": 1}, \"45\": {\"45\": 99, \"30\": 4, \"26\": 2, \"17\": 8, \"57\": 1, \"19\": 11, \"18\": 1, \"16\": 2, \"25\": 2, \"5\": 4, \"8\": 3, \"9\": 7, \"51\": 1, \"46\": 1}, \"13\": {\"20\": 16, \"13\": 119, \"7\": 2, \"55\": 2, \"4\": 1, \"12\": 8, \"19\": 1, \"54\": 1, \"41\": 1, \"36\": 1}, \"12\": {\"20\": 11, \"12\": 83, \"37\": 4, \"51\": 8, \"1\": 1, \"41\": 3, \"4\": 1, \"46\": 1, \"44\": 1, \"13\": 2, \"45\": 1}, \"54\": {\"36\": 2, \"41\": 1, \"54\": 95, \"17\": 1, \"9\": 1, \"51\": 2, \"14\": 1, \"30\": 1}, \"24\": {\"24\": 73, \"10\": 7, \"21\": 1, \"32\": 1, \"11\": 4, \"22\": 8, \"52\": 9, \"0\": 2, \"3\": 1, \"31\": 1, \"27\": 1}, \"44\": {\"44\": 86, \"38\": 1, \"40\": 13, \"47\": 6, \"29\": 18, \"57\": 1, \"55\": 1, \"0\": 1, \"49\": 1, \"35\": 4, \"32\": 1, \"56\": 1, \"15\": 1, \"3\": 1}, \"28\": {\"28\": 27, \"24\": 1}, \"33\": {\"33\": 32}, \"38\": {\"24\": 1, \"38\": 23}, \"0\": {\"0\": 138, \"32\": 1, \"20\": 2, \"56\": 2, \"50\": 1}, \"47\": {\"47\": 137, \"38\": 1, \"32\": 2, \"49\": 1, \"0\": 1, \"44\": 4, \"3\": 1, \"11\": 1, \"52\": 1, \"24\": 1, \"40\": 1, \"29\": 2, \"22\": 1}, \"42\": {\"36\": 1, \"45\": 3, \"42\": 14, \"26\": 3, \"32\": 1, \"48\": 3, \"50\": 1, \"17\": 4, \"8\": 1, \"46\": 1, \"4\": 2, \"33\": 2, \"57\": 1, \"5\": 2, \"22\": 1}, \"34\": {\"34\": 21, \"16\": 2, \"30\": 1}, \"48\": {\"48\": 113, \"2\": 3, \"6\": 6, \"8\": 10, \"50\": 8, \"53\": 1, \"30\": 1}, \"35\": {\"35\": 27, \"56\": 3, \"29\": 1, \"40\": 2, \"32\": 2, \"38\": 1}, \"2\": {\"2\": 35, \"6\": 1}, \"30\": {\"18\": 1, \"30\": 115, \"9\": 3, \"8\": 1}, \"18\": {\"18\": 72}, \"37\": {\"37\": 28, \"16\": 1, \"51\": 1, \"25\": 1, \"53\": 1}, \"1\": {\"1\": 65, \"56\": 1, \"2\": 1, \"19\": 4, \"57\": 16, \"6\": 2, \"50\": 2, \"9\": 1, \"4\": 1, \"5\": 1, \"53\": 2, \"48\": 3, \"51\": 1}, \"11\": {\"11\": 132, \"0\": 1, \"15\": 4, \"22\": 1}, \"55\": {\"35\": 1, \"55\": 106, \"13\": 6, \"56\": 3, \"51\": 1, \"44\": 3, \"40\": 2, \"20\": 3, \"29\": 1, \"57\": 2, \"0\": 1, \"53\": 1}, \"15\": {\"15\": 120, \"23\": 10, \"21\": 12, \"11\": 3, \"42\": 1, \"54\": 2, \"57\": 1, \"20\": 1}, \"10\": {\"10\": 90, \"24\": 2, \"22\": 3, \"11\": 1}, \"27\": {\"27\": 158, \"43\": 1, \"52\": 1}, \"19\": {\"19\": 127, \"42\": 2, \"51\": 1, \"18\": 2, \"9\": 2, \"53\": 2, \"4\": 1, \"16\": 2, \"36\": 2, \"30\": 1, \"45\": 4}, \"14\": {\"8\": 2, \"14\": 11, \"26\": 2, \"30\": 3, \"2\": 1, \"6\": 1, \"9\": 1, \"51\": 1, \"42\": 1, \"5\": 1}, \"8\": {\"48\": 6, \"8\": 122, \"6\": 3, \"17\": 1, \"46\": 1, \"30\": 5, \"9\": 1, \"50\": 1}, \"5\": {\"5\": 124, \"6\": 4, \"8\": 1, \"48\": 4, \"46\": 3}, \"39\": {\"39\": 28}, \"52\": {\"52\": 82, \"47\": 3, \"10\": 2, \"0\": 2, \"24\": 11, \"22\": 10, \"11\": 3, \"27\": 5, \"43\": 1, \"38\": 1, \"49\": 1, \"15\": 1}, \"21\": {\"21\": 112, \"23\": 7, \"15\": 4, \"11\": 1}, \"40\": {\"40\": 79, \"44\": 4, \"32\": 3, \"56\": 20, \"46\": 1, \"35\": 5, \"25\": 5, \"20\": 1, \"57\": 7, \"1\": 9, \"15\": 1, \"55\": 4, \"29\": 7, \"50\": 1, \"13\": 3, \"0\": 1, \"47\": 1}, \"32\": {\"56\": 3, \"32\": 24, \"40\": 3, \"35\": 1, \"0\": 1}}, \"W_1\": {\"22\": {\"22\": 8, \"119\": 2, \"35\": 1, \"10\": 1, \"13\": 1, \"33\": 1, \"100\": 1, \"79\": 1}, \"58\": {\"52\": 1, \"58\": 8, \"112\": 2, \"111\": 1}, \"109\": {\"99\": 1, \"22\": 1, \"109\": 44, \"63\": 1, \"96\": 1, \"3\": 6, \"10\": 4, \"76\": 1, \"90\": 24, \"18\": 9, \"121\": 1, \"61\": 1, \"113\": 4, \"43\": 3, \"39\": 2, \"108\": 1, \"44\": 1, \"87\": 2, \"7\": 4, \"69\": 1, \"33\": 5, \"126\": 2, \"40\": 1, \"11\": 1, \"107\": 1, \"62\": 1, \"1\": 1}, \"77\": {\"77\": 9, \"103\": 1, \"97\": 1, \"91\": 1, \"34\": 1, \"124\": 1, \"49\": 1, \"86\": 1}, \"74\": {\"74\": 15, \"19\": 1}, \"10\": {\"10\": 40, \"107\": 6, \"87\": 2, \"19\": 1, \"108\": 3, \"101\": 9, \"93\": 3, \"44\": 4, \"7\": 4, \"69\": 1, \"98\": 2, \"0\": 4, \"122\": 1, \"70\": 7, \"33\": 1, \"110\": 3, \"43\": 2, \"126\": 7, \"3\": 2, \"113\": 1, \"11\": 2, \"64\": 1, \"102\": 1, \"86\": 1, \"20\": 2, \"109\": 3, \"18\": 1, \"106\": 2, \"1\": 2, \"127\": 1, \"90\": 1}, \"70\": {\"109\": 6, \"42\": 2, \"21\": 3, \"29\": 1, \"70\": 26, \"68\": 1, \"49\": 1, \"93\": 9, \"39\": 1, \"129\": 1, \"4\": 4, \"108\": 8, \"72\": 1, \"101\": 3, \"106\": 2, \"99\": 3, \"11\": 1, \"90\": 7, \"18\": 4, \"87\": 5, \"43\": 1, \"126\": 1, \"110\": 3, \"69\": 4, \"40\": 3, \"10\": 3, \"0\": 3, \"117\": 1, \"62\": 2, \"37\": 1, \"35\": 1, \"7\": 1, \"96\": 1, \"77\": 1, \"64\": 1, \"104\": 1, \"2\": 1, \"34\": 1, \"86\": 1, \"89\": 1, \"98\": 2, \"27\": 1, \"107\": 1, \"33\": 1, \"124\": 1, \"102\": 1}, \"84\": {\"84\": 69, \"114\": 16, \"87\": 6, \"5\": 1, \"43\": 2, \"105\": 2, \"1\": 8, \"7\": 1, \"40\": 1, \"70\": 1, \"18\": 1}, \"52\": {\"58\": 1, \"52\": 5, \"97\": 2, \"49\": 1, \"98\": 1, \"12\": 2, \"89\": 1, \"91\": 1, \"27\": 3, \"21\": 1, \"127\": 1, \"5\": 1}, \"20\": {\"20\": 11, \"127\": 1, \"3\": 1, \"113\": 1, \"21\": 2}, \"14\": {\"14\": 80, \"82\": 1, \"62\": 5, \"26\": 1, \"43\": 1, \"33\": 1, \"8\": 1, \"23\": 1, \"122\": 3, \"84\": 1, \"11\": 1}, \"37\": {\"37\": 16}, \"42\": {\"84\": 1, \"20\": 1, \"28\": 1, \"54\": 1, \"42\": 5, \"39\": 2, \"98\": 1, \"18\": 2, \"121\": 2, \"104\": 2, \"123\": 2, \"91\": 1, \"82\": 1, \"77\": 1, \"83\": 1, \"99\": 1, \"86\": 1, \"4\": 1, \"109\": 1}, \"99\": {\"99\": 20, \"90\": 1, \"20\": 1, \"109\": 2}, \"35\": {\"35\": 7, \"42\": 1, \"72\": 2, \"124\": 1, \"97\": 1}, \"62\": {\"74\": 1, \"14\": 2, \"118\": 1, \"62\": 86, \"69\": 2, \"122\": 2, \"102\": 6, \"43\": 1, \"16\": 1, \"33\": 10, \"50\": 2, \"104\": 1, \"129\": 1, \"82\": 1, \"3\": 2, \"11\": 1}, \"61\": {\"7\": 1, \"61\": 6, \"121\": 1, \"74\": 1, \"76\": 1, \"66\": 1, \"60\": 1}, \"7\": {\"7\": 104, \"104\": 1, \"65\": 1, \"21\": 2, \"2\": 1, \"117\": 1, \"10\": 1, \"1\": 1, \"103\": 1, \"102\": 2, \"39\": 1, \"93\": 1, \"62\": 4, \"33\": 6, \"87\": 1, \"28\": 2, \"126\": 2, \"116\": 1, \"5\": 1, \"44\": 2, \"0\": 1, \"109\": 1, \"69\": 1, \"43\": 2, \"26\": 1}, \"69\": {\"69\": 70, \"102\": 2, \"2\": 1, \"99\": 2, \"62\": 4, \"39\": 3, \"117\": 4, \"113\": 4, \"16\": 1, \"33\": 4, \"70\": 1, \"18\": 2, \"26\": 3, \"74\": 1, \"109\": 1, \"118\": 1}, \"55\": {\"55\": 9, \"105\": 1, \"93\": 1, \"31\": 1}, \"41\": {\"41\": 12, \"10\": 1, \"100\": 1, \"72\": 1, \"70\": 1}, \"120\": {\"120\": 15, \"122\": 1, \"43\": 1, \"48\": 1, \"80\": 1, \"11\": 1}, \"123\": {\"20\": 1, \"123\": 13, \"117\": 1, \"66\": 1}, \"97\": {\"97\": 4, \"52\": 1, \"0\": 1, \"127\": 1, \"34\": 1, \"62\": 1, \"49\": 1, \"59\": 3, \"98\": 2, \"26\": 1, \"29\": 1, \"6\": 1, \"24\": 1, \"107\": 1}, \"102\": {\"69\": 10, \"50\": 2, \"102\": 80, \"122\": 1, \"117\": 2, \"16\": 3, \"33\": 8, \"118\": 1, \"11\": 5, \"26\": 2, \"104\": 2, \"62\": 2, \"7\": 1, \"39\": 1}, \"60\": {\"123\": 1, \"41\": 1, \"60\": 2, \"18\": 1, \"73\": 1, \"126\": 1, \"28\": 1, \"50\": 1, \"66\": 2, \"61\": 1, \"47\": 1, \"21\": 1, \"31\": 1, \"125\": 1}, \"127\": {\"127\": 88, \"34\": 2, \"3\": 1, \"26\": 1, \"70\": 1, \"90\": 1, \"71\": 1, \"88\": 1, \"111\": 4, \"78\": 1, \"53\": 1, \"108\": 1, \"30\": 1, \"98\": 2, \"12\": 1, \"24\": 1}, \"32\": {\"32\": 26, \"98\": 1, \"101\": 1, \"10\": 1, \"6\": 1, \"49\": 1, \"127\": 1}, \"3\": {\"123\": 2, \"3\": 62, \"42\": 1, \"15\": 3, \"109\": 6, \"18\": 3, \"117\": 1, \"113\": 2, \"65\": 1, \"59\": 1, \"33\": 1, \"88\": 1, \"90\": 2, \"69\": 1, \"16\": 1}, \"8\": {\"126\": 7, \"8\": 72, \"81\": 2, \"44\": 5, \"72\": 1, \"11\": 2, \"124\": 5, \"14\": 9, \"122\": 1, \"87\": 1, \"110\": 1, \"108\": 1, \"70\": 1, \"3\": 1, \"114\": 1, \"106\": 1, \"19\": 1, \"5\": 1, \"116\": 1, \"109\": 3, \"93\": 2, \"4\": 1, \"1\": 2}, \"129\": {\"117\": 1, \"55\": 1, \"78\": 1, \"129\": 10, \"39\": 1, \"7\": 1, \"87\": 2, \"105\": 3, \"84\": 1, \"3\": 1, \"70\": 1, \"67\": 1, \"123\": 1, \"1\": 1, \"69\": 1, \"33\": 1}, \"119\": {\"119\": 13, \"28\": 1, \"60\": 1, \"62\": 1}, \"21\": {\"109\": 2, \"98\": 1, \"20\": 4, \"123\": 2, \"39\": 2, \"21\": 5, \"23\": 1, \"90\": 4, \"59\": 1, \"72\": 1, \"61\": 1, \"121\": 2, \"99\": 2, \"10\": 1, \"64\": 2, \"47\": 1, \"60\": 1, \"31\": 1, \"58\": 1, \"87\": 1, \"118\": 1, \"86\": 1, \"113\": 1, \"43\": 1}, \"53\": {\"53\": 20}, \"28\": {\"109\": 1, \"28\": 16, \"66\": 1, \"60\": 1, \"64\": 1}, \"117\": {\"117\": 100, \"109\": 1, \"39\": 12, \"118\": 9, \"18\": 2, \"26\": 2, \"16\": 7, \"113\": 5, \"69\": 3, \"102\": 1, \"11\": 1, \"90\": 1}, \"112\": {\"112\": 6, \"30\": 1, \"92\": 4, \"27\": 1, \"59\": 1, \"98\": 1, \"71\": 1, \"32\": 1}, \"126\": {\"126\": 65, \"55\": 1, \"57\": 1, \"10\": 5, \"93\": 7, \"61\": 1, \"41\": 1, \"128\": 4, \"62\": 3, \"5\": 7, \"78\": 1, \"7\": 2, \"33\": 2, \"70\": 2, \"105\": 1, \"4\": 1, \"3\": 3, \"1\": 9, \"114\": 3, \"109\": 3, \"43\": 3, \"11\": 1, \"84\": 4, \"117\": 1, \"108\": 1, \"8\": 1, \"110\": 1}, \"30\": {\"30\": 22, \"53\": 2, \"49\": 1, \"36\": 3, \"51\": 1, \"24\": 1, \"37\": 1, \"59\": 2, \"88\": 2, \"86\": 1, \"127\": 3, \"9\": 1, \"21\": 1, \"91\": 1, \"125\": 2, \"97\": 1, \"56\": 1, \"15\": 3, \"98\": 1, \"89\": 1, \"27\": 1}, \"105\": {\"105\": 50, \"39\": 1, \"40\": 13, \"102\": 2, \"10\": 1, \"26\": 1, \"5\": 1, \"114\": 5, \"4\": 2, \"80\": 2, \"93\": 2, \"110\": 1, \"124\": 1, \"87\": 2}, \"29\": {\"29\": 22, \"101\": 3, \"106\": 2, \"87\": 1}, \"57\": {\"57\": 11, \"21\": 1}, \"93\": {\"93\": 44, \"77\": 4, \"105\": 2, \"110\": 5, \"84\": 2, \"40\": 12, \"34\": 1, \"42\": 4, \"73\": 1, \"103\": 1, \"0\": 3, \"113\": 1, \"128\": 3, \"44\": 2, \"114\": 5, \"8\": 4, \"126\": 7, \"124\": 3, \"70\": 6, \"107\": 12, \"10\": 1, \"109\": 1, \"5\": 1, \"4\": 1, \"122\": 1, \"43\": 4, \"55\": 1, \"7\": 2, \"46\": 1, \"129\": 1, \"87\": 2, \"106\": 1, \"108\": 1}, \"17\": {\"17\": 8, \"97\": 1, \"101\": 1, \"89\": 1, \"122\": 1, \"93\": 2, \"124\": 2}, \"44\": {\"44\": 42, \"3\": 4, \"78\": 2, \"7\": 4, \"18\": 1, \"43\": 1, \"113\": 1, \"10\": 3, \"87\": 2, \"109\": 6, \"39\": 2, \"66\": 1, \"34\": 2, \"21\": 2, \"126\": 1, \"93\": 1, \"70\": 1}, \"63\": {\"63\": 12, \"2\": 1, \"18\": 1, \"13\": 1, \"90\": 1}, \"87\": {\"55\": 1, \"63\": 1, \"114\": 9, \"5\": 1, \"84\": 13, \"129\": 4, \"87\": 29, \"122\": 5, \"2\": 2, \"72\": 1, \"109\": 4, \"126\": 2, \"102\": 2, \"105\": 6, \"43\": 7, \"7\": 1, \"44\": 3, \"118\": 2, \"40\": 1, \"1\": 3, \"3\": 1, \"104\": 1, \"57\": 1, \"82\": 1, \"70\": 1, \"121\": 1, \"90\": 3, \"113\": 1, \"18\": 1}, \"0\": {\"98\": 3, \"55\": 1, \"72\": 6, \"5\": 3, \"0\": 35, \"86\": 2, \"106\": 8, \"114\": 1, \"126\": 1, \"4\": 2, \"39\": 1, \"70\": 3, \"108\": 2, \"93\": 3, \"85\": 1, \"83\": 1, \"10\": 1, \"12\": 2, \"101\": 3, \"29\": 2, \"111\": 2, \"110\": 1}, \"96\": {\"63\": 1, \"119\": 1, \"7\": 2, \"117\": 1, \"109\": 1, \"22\": 1, \"96\": 7, \"26\": 1, \"70\": 1, \"60\": 1, \"18\": 2, \"64\": 1}, \"98\": {\"75\": 2, \"98\": 63, \"101\": 9, \"30\": 3, \"127\": 4, \"24\": 5, \"12\": 5, \"5\": 1, \"34\": 1, \"70\": 1, \"111\": 5, \"88\": 1, \"110\": 1, \"0\": 3, \"106\": 2, \"68\": 1, \"32\": 1}, \"75\": {\"75\": 16}, \"78\": {\"57\": 1, \"63\": 1, \"33\": 1, \"78\": 3, \"43\": 2, \"99\": 1, \"74\": 1, \"18\": 1, \"1\": 1, \"41\": 1, \"105\": 1, \"129\": 1, \"19\": 1}, \"116\": {\"116\": 17, \"63\": 2, \"44\": 1, \"109\": 1, \"20\": 1, \"28\": 1, \"113\": 1, \"26\": 1, \"121\": 1, \"67\": 1, \"73\": 1, \"96\": 1, \"120\": 1, \"14\": 1, \"94\": 1}, \"114\": {\"114\": 94, \"87\": 5, \"43\": 4, \"40\": 3, \"4\": 2, \"10\": 2, \"11\": 1, \"84\": 10, \"93\": 1, \"5\": 1, \"1\": 2, \"7\": 1, \"90\": 1, \"44\": 1}, \"103\": {\"103\": 5, \"77\": 3, \"46\": 1, \"40\": 1, \"0\": 2, \"9\": 1, \"106\": 1, \"93\": 1, \"70\": 1}, \"50\": {\"50\": 13, \"45\": 2, \"33\": 1}, \"124\": {\"103\": 1, \"81\": 2, \"19\": 3, \"124\": 48, \"105\": 8, \"9\": 3, \"38\": 1, \"86\": 1, \"122\": 3, \"87\": 2, \"8\": 5, \"4\": 8, \"126\": 1, \"107\": 4, \"44\": 1, \"114\": 8, \"5\": 1, \"70\": 3, \"40\": 5, \"106\": 1, \"93\": 1, \"128\": 2, \"80\": 1, \"89\": 1, \"110\": 1, \"108\": 4, \"83\": 1, \"0\": 3, \"101\": 1, \"14\": 1, \"43\": 3}, \"5\": {\"5\": 65, \"72\": 1, \"87\": 2, \"40\": 3, \"128\": 2, \"9\": 1, \"93\": 4, \"126\": 4, \"124\": 3, \"18\": 1, \"107\": 1, \"15\": 1}, \"73\": {\"73\": 13, \"49\": 1, \"87\": 2, \"19\": 1, \"23\": 1, \"5\": 1, \"0\": 1}, \"81\": {\"81\": 24, \"93\": 1, \"4\": 1, \"19\": 2}, \"49\": {\"103\": 1, \"50\": 1, \"112\": 1, \"70\": 1, \"41\": 1, \"30\": 1, \"93\": 1, \"34\": 2, \"49\": 4, \"9\": 1, \"91\": 1, \"85\": 1, \"52\": 1, \"29\": 1, \"5\": 1, \"32\": 1}, \"16\": {\"16\": 68, \"117\": 9, \"118\": 8, \"113\": 1, \"26\": 9, \"39\": 3, \"11\": 1, \"69\": 3, \"90\": 1, \"50\": 2, \"18\": 3}, \"101\": {\"101\": 93, \"10\": 4, \"72\": 1, \"110\": 1, \"12\": 2, \"24\": 3, \"29\": 1, \"111\": 1, \"0\": 4, \"106\": 1, \"108\": 4, \"85\": 1, \"9\": 1, \"107\": 2, \"27\": 1, \"70\": 2, \"127\": 2}, \"125\": {\"125\": 96, \"6\": 2, \"94\": 8, \"71\": 4, \"88\": 3, \"30\": 2, \"15\": 2, \"36\": 1}, \"65\": {\"39\": 1, \"28\": 1, \"92\": 1, \"123\": 1, \"42\": 2, \"109\": 1, \"66\": 1, \"82\": 1, \"18\": 1, \"65\": 2}, \"66\": {\"66\": 12, \"64\": 1, \"90\": 3}, \"79\": {\"101\": 1, \"79\": 10, \"9\": 1}, \"39\": {\"66\": 1, \"39\": 23, \"16\": 8, \"123\": 2, \"118\": 4, \"11\": 3, \"13\": 2, \"69\": 6, \"48\": 1, \"90\": 18, \"18\": 10, \"113\": 11, \"109\": 1, \"26\": 5, \"117\": 6, \"102\": 2, \"3\": 1}, \"104\": {\"28\": 2, \"76\": 2, \"39\": 1, \"104\": 9, \"3\": 2}, \"91\": {\"91\": 11, \"38\": 1, \"30\": 2, \"2\": 2, \"116\": 1, \"88\": 1, \"37\": 1, \"97\": 1, \"41\": 1, \"46\": 1, \"103\": 1, \"77\": 1, \"106\": 1, \"98\": 2, \"4\": 1}, \"25\": {\"25\": 12, \"109\": 1, \"26\": 1, \"11\": 1, \"35\": 1}, \"64\": {\"64\": 16}, \"34\": {\"43\": 1, \"25\": 1, \"127\": 1, \"7\": 1, \"37\": 1, \"42\": 1, \"34\": 3, \"106\": 1, \"30\": 1, \"36\": 1, \"125\": 2, \"111\": 1, \"18\": 2, \"75\": 1, \"6\": 1, \"92\": 3, \"87\": 1, \"104\": 1, \"62\": 1, \"53\": 1, \"98\": 1, \"93\": 1, \"24\": 1, \"15\": 1, \"122\": 2}, \"82\": {\"25\": 1, \"82\": 23, \"102\": 2, \"7\": 1, \"14\": 2, \"62\": 3, \"33\": 2, \"100\": 2}, \"18\": {\"18\": 107, \"76\": 1, \"121\": 3, \"2\": 4, \"90\": 6, \"113\": 2, \"69\": 1}, \"43\": {\"66\": 1, \"43\": 34, \"115\": 1, \"113\": 3, \"114\": 10, \"78\": 1, \"68\": 1, \"76\": 1, \"84\": 10, \"18\": 4, \"33\": 6, \"69\": 5, \"102\": 2, \"4\": 1, \"1\": 11, \"109\": 6, \"26\": 1, \"39\": 4, \"87\": 4, \"122\": 3, \"7\": 2, \"90\": 6, \"117\": 3, \"129\": 1, \"128\": 1, \"21\": 1, \"62\": 1, \"3\": 1, \"11\": 1, \"105\": 1, \"8\": 1}, \"47\": {\"47\": 9, \"34\": 1, \"21\": 1, \"93\": 1}, \"108\": {\"97\": 2, \"108\": 36, \"32\": 1, \"70\": 5, \"21\": 1, \"96\": 1, \"88\": 1, \"13\": 1, \"129\": 1, \"19\": 1, \"93\": 7, \"72\": 2, \"41\": 1, \"23\": 1, \"9\": 1, \"126\": 11, \"73\": 2, \"8\": 1, \"128\": 1, \"24\": 4, \"0\": 3, \"98\": 3, \"89\": 2, \"10\": 4, \"106\": 8, \"4\": 1, \"101\": 8, \"44\": 2, \"62\": 1, \"1\": 2, \"87\": 2, \"111\": 1, \"43\": 1, \"33\": 1, \"107\": 1, \"16\": 1, \"12\": 1, \"124\": 1}, \"111\": {\"92\": 1, \"68\": 1, \"111\": 63, \"101\": 2, \"24\": 1, \"98\": 4, \"4\": 1, \"0\": 1, \"10\": 2, \"62\": 1, \"106\": 2, \"12\": 5, \"88\": 2, \"59\": 2, \"32\": 2, \"127\": 9, \"94\": 2, \"108\": 2, \"27\": 2, \"71\": 2, \"125\": 1}, \"23\": {\"90\": 4, \"4\": 1, \"32\": 2, \"105\": 1, \"113\": 2, \"12\": 1, \"6\": 1, \"23\": 2, \"18\": 1, \"21\": 1, \"75\": 1, \"106\": 1, \"104\": 2, \"127\": 1, \"88\": 1, \"62\": 2}, \"90\": {\"90\": 145, \"66\": 3, \"76\": 1, \"36\": 2, \"109\": 1, \"121\": 1, \"39\": 2, \"113\": 3, \"18\": 2}, \"4\": {\"84\": 1, \"4\": 59, \"93\": 10, \"40\": 10, \"42\": 1, \"78\": 2, \"5\": 2, \"8\": 3, \"126\": 2, \"105\": 4, \"70\": 2, \"72\": 1, \"117\": 1, \"124\": 1, \"87\": 1}, \"92\": {\"92\": 25, \"30\": 1, \"94\": 2}, \"2\": {\"90\": 2, \"2\": 10, \"50\": 1, \"28\": 1, \"82\": 2, \"102\": 3, \"69\": 1, \"18\": 4, \"118\": 3, \"15\": 1, \"113\": 2, \"11\": 1, \"109\": 1}, \"45\": {\"90\": 2, \"102\": 1, \"80\": 2, \"123\": 1, \"67\": 1, \"104\": 1, \"28\": 2, \"50\": 1, \"43\": 1}, \"68\": {\"68\": 9, \"101\": 2, \"10\": 1, \"111\": 4}, \"26\": {\"26\": 88, \"19\": 1, \"62\": 1, \"39\": 4, \"118\": 4, \"69\": 4, \"3\": 1, \"16\": 7, \"102\": 4, \"95\": 3, \"117\": 5, \"82\": 1, \"90\": 1, \"11\": 4}, \"38\": {\"38\": 9, \"109\": 1, \"54\": 2, \"9\": 2, \"76\": 1, \"129\": 1}, \"40\": {\"40\": 99, \"107\": 5, \"84\": 2, \"105\": 11, \"93\": 2, \"5\": 3, \"4\": 12, \"114\": 4, \"43\": 1, \"124\": 2, \"10\": 1}, \"80\": {\"80\": 11, \"81\": 2, \"20\": 1, \"45\": 1, \"69\": 1}, \"107\": {\"107\": 91, \"40\": 2, \"72\": 2, \"42\": 1, \"5\": 2, \"106\": 4, \"18\": 1, \"105\": 1, \"101\": 1, \"110\": 8, \"93\": 3, \"34\": 1, \"77\": 2, \"39\": 1, \"90\": 1, \"124\": 1}, \"94\": {\"92\": 2, \"94\": 35, \"106\": 2, \"15\": 3, \"59\": 1, \"101\": 2, \"71\": 8, \"125\": 8, \"36\": 8, \"88\": 8, \"12\": 3, \"98\": 1, \"27\": 2, \"111\": 4, \"51\": 1, \"6\": 1, \"24\": 1, \"127\": 2}, \"115\": {\"115\": 9, \"96\": 2, \"3\": 1}, \"46\": {\"72\": 1, \"32\": 1, \"105\": 2, \"30\": 1, \"52\": 1, \"3\": 1, \"110\": 1, \"91\": 2, \"5\": 1, \"94\": 1}, \"72\": {\"5\": 3, \"72\": 22, \"93\": 2, \"108\": 2, \"107\": 2, \"40\": 1}, \"19\": {\"46\": 1, \"96\": 2, \"19\": 9, \"93\": 1, \"107\": 1, \"81\": 1, \"102\": 2, \"99\": 1, \"69\": 2, \"62\": 2, \"67\": 2, \"16\": 1, \"1\": 1, \"43\": 1, \"40\": 1}, \"100\": {\"100\": 7, \"67\": 1, \"33\": 1, \"98\": 1, \"61\": 1, \"119\": 1, \"24\": 1, \"109\": 1, \"62\": 2}, \"76\": {\"76\": 7, \"66\": 3, \"123\": 2, \"2\": 2, \"64\": 1, \"22\": 1}, \"106\": {\"10\": 1, \"106\": 86, \"98\": 5, \"24\": 2, \"101\": 6, \"111\": 6, \"107\": 3, \"110\": 11, \"127\": 1, \"93\": 1, \"0\": 4, \"108\": 1, \"124\": 1, \"77\": 2, \"68\": 1, \"12\": 1}, \"88\": {\"15\": 6, \"116\": 1, \"59\": 1, \"24\": 2, \"125\": 12, \"88\": 41, \"86\": 1, \"9\": 2, \"6\": 2, \"62\": 1, \"127\": 4, \"36\": 10, \"71\": 8, \"12\": 6, \"94\": 5, \"10\": 1, \"111\": 6, \"27\": 4, \"70\": 3, \"98\": 4, \"124\": 1, \"37\": 1, \"30\": 2, \"0\": 1, \"21\": 1, \"106\": 1, \"18\": 1, \"93\": 1, \"107\": 1}, \"15\": {\"15\": 36, \"88\": 11, \"53\": 2, \"6\": 2, \"27\": 10, \"101\": 2, \"71\": 5, \"94\": 8, \"125\": 10, \"98\": 1, \"12\": 3, \"111\": 6, \"3\": 1, \"37\": 1, \"24\": 1, \"32\": 1, \"127\": 1, \"36\": 1, \"11\": 1, \"108\": 1}, \"54\": {\"54\": 11, \"53\": 1, \"5\": 1, \"98\": 1, \"97\": 2}, \"13\": {\"13\": 12, \"50\": 1, \"14\": 1, \"33\": 1, \"118\": 1}, \"51\": {\"51\": 15, \"6\": 1}, \"24\": {\"127\": 5, \"98\": 3, \"24\": 30, \"71\": 6, \"27\": 6, \"91\": 2, \"126\": 2, \"10\": 3, \"12\": 7, \"83\": 1, \"34\": 3, \"4\": 2, \"88\": 2, \"125\": 2, \"92\": 3, \"9\": 1, \"97\": 2, \"110\": 3, \"37\": 1, \"106\": 2, \"118\": 1, \"101\": 2, \"87\": 1, \"111\": 1, \"3\": 1}, \"48\": {\"48\": 4, \"7\": 1, \"64\": 1, \"69\": 2, \"33\": 1, \"96\": 2, \"60\": 1}, \"85\": {\"85\": 26, \"91\": 1, \"24\": 1, \"101\": 1, \"93\": 1, \"98\": 1, \"31\": 1}, \"33\": {\"33\": 123, \"102\": 6, \"3\": 1, \"62\": 5, \"7\": 2, \"69\": 2, \"2\": 1}, \"71\": {\"71\": 73, \"122\": 1, \"30\": 1, \"36\": 3, \"6\": 1, \"94\": 5, \"125\": 7, \"111\": 3, \"16\": 1, \"98\": 2, \"112\": 1, \"69\": 1, \"127\": 1, \"24\": 1, \"88\": 5, \"39\": 1, \"15\": 1}, \"6\": {\"6\": 17, \"24\": 2, \"92\": 2, \"15\": 4, \"12\": 1, \"125\": 2, \"51\": 1, \"75\": 1, \"91\": 1, \"94\": 1}, \"83\": {\"24\": 1, \"83\": 12, \"96\": 1, \"108\": 3, \"18\": 1, \"11\": 1, \"8\": 3, \"38\": 2, \"43\": 2, \"99\": 1, \"87\": 1}, \"121\": {\"90\": 5, \"39\": 1, \"16\": 1, \"18\": 4, \"64\": 2, \"121\": 9, \"109\": 2, \"66\": 2, \"78\": 1, \"3\": 1, \"82\": 2, \"95\": 1, \"113\": 1}, \"31\": {\"31\": 14, \"122\": 1, \"106\": 1}, \"67\": {\"123\": 1, \"67\": 14, \"82\": 1}, \"1\": {\"1\": 110, \"84\": 9, \"87\": 2, \"62\": 1, \"44\": 1, \"8\": 1, \"114\": 2, \"43\": 2, \"7\": 2, \"126\": 2, \"18\": 1, \"93\": 1, \"122\": 1, \"109\": 1}, \"27\": {\"21\": 1, \"56\": 1, \"27\": 36, \"88\": 7, \"101\": 3, \"15\": 10, \"125\": 7, \"6\": 1, \"24\": 5, \"71\": 2, \"111\": 3, \"109\": 1, \"94\": 1, \"127\": 3, \"36\": 1, \"108\": 1, \"98\": 2, \"59\": 1, \"85\": 1, \"9\": 1, \"30\": 3, \"106\": 1}, \"118\": {\"39\": 5, \"63\": 1, \"118\": 34, \"99\": 1, \"69\": 4, \"26\": 6, \"95\": 2, \"16\": 8, \"113\": 3, \"117\": 6, \"109\": 1, \"3\": 3, \"21\": 1, \"13\": 2, \"23\": 1, \"121\": 1, \"2\": 3, \"90\": 2}, \"56\": {\"56\": 11, \"59\": 1}, \"36\": {\"36\": 95, \"30\": 3, \"92\": 2, \"71\": 2, \"125\": 12, \"27\": 1, \"117\": 1, \"12\": 2, \"15\": 1, \"88\": 6, \"6\": 1, \"111\": 1, \"94\": 1}, \"11\": {\"11\": 62, \"67\": 1, \"16\": 2, \"102\": 6, \"90\": 8, \"95\": 3, \"117\": 5, \"26\": 7, \"14\": 5, \"18\": 5, \"62\": 4, \"39\": 3, \"113\": 3, \"33\": 2, \"88\": 1, \"8\": 1, \"19\": 1, \"2\": 1, \"7\": 1, \"122\": 1, \"69\": 4}, \"110\": {\"110\": 75, \"108\": 3, \"21\": 1, \"93\": 5, \"29\": 1, \"26\": 1, \"107\": 10, \"88\": 1, \"40\": 4, \"4\": 1, \"10\": 2, \"106\": 9, \"55\": 1, \"85\": 1, \"16\": 1, \"17\": 2, \"11\": 1, \"0\": 2, \"101\": 1}, \"89\": {\"89\": 19, \"40\": 1, \"54\": 1, \"59\": 2, \"86\": 1, \"83\": 1, \"111\": 2, \"70\": 3, \"32\": 1, \"47\": 1, \"98\": 1, \"106\": 1, \"88\": 1, \"110\": 1}, \"113\": {\"113\": 95, \"90\": 10, \"18\": 7, \"109\": 1, \"12\": 1, \"33\": 2, \"36\": 1, \"107\": 1}, \"59\": {\"59\": 4, \"27\": 2, \"97\": 4, \"112\": 2}, \"9\": {\"24\": 1, \"9\": 18, \"108\": 3, \"26\": 1, \"40\": 1, \"91\": 2, \"41\": 1, \"124\": 1, \"107\": 1, \"21\": 1, \"86\": 2}, \"86\": {\"86\": 11, \"98\": 1, \"108\": 3, \"91\": 2, \"93\": 1, \"121\": 1, \"21\": 2, \"7\": 1, \"30\": 1, \"85\": 2, \"73\": 1, \"9\": 1, \"4\": 1, \"128\": 1, \"34\": 1, \"94\": 1, \"70\": 1, \"0\": 1, \"88\": 1, \"10\": 1, \"8\": 1}, \"12\": {\"52\": 1, \"12\": 65, \"127\": 1, \"6\": 1, \"94\": 3, \"24\": 3, \"118\": 1, \"0\": 1, \"101\": 4, \"71\": 2, \"3\": 2, \"98\": 2, \"90\": 1, \"111\": 4, \"91\": 1, \"37\": 2, \"88\": 3, \"10\": 1, \"39\": 2, \"27\": 1, \"15\": 1, \"106\": 1, \"70\": 1}, \"122\": {\"122\": 36, \"90\": 3, \"34\": 1, \"18\": 2, \"10\": 2, \"84\": 4, \"11\": 2, \"14\": 6, \"33\": 4, \"114\": 4, \"8\": 1, \"102\": 4, \"39\": 4, \"113\": 2, \"43\": 2, \"25\": 1, \"62\": 2, \"109\": 1, \"2\": 1, \"118\": 2, \"4\": 1, \"117\": 1, \"1\": 1, \"26\": 1}, \"128\": {\"128\": 9, \"93\": 1, \"5\": 5, \"99\": 1, \"82\": 1, \"115\": 1, \"11\": 1, \"43\": 1, \"107\": 1, \"72\": 1, \"70\": 1, \"73\": 1}, \"95\": {\"90\": 1, \"16\": 2, \"95\": 20, \"69\": 1, \"113\": 1, \"26\": 4, \"126\": 1, \"64\": 1, \"109\": 1, \"117\": 1, \"118\": 3}}, \"C_3\": {\"56\": {\"56\": 120}, \"4\": {\"4\": 116, \"27\": 11, \"48\": 2, \"2\": 1, \"3\": 1, \"54\": 5, \"50\": 1, \"47\": 1, \"57\": 2, \"46\": 1, \"34\": 1, \"9\": 3, \"36\": 1}, \"34\": {\"34\": 32}, \"52\": {\"52\": 128, \"15\": 2, \"23\": 4, \"18\": 1, \"16\": 1}, \"32\": {\"32\": 23, \"12\": 2, \"27\": 1, \"57\": 1, \"45\": 1}, \"46\": {\"26\": 3, \"46\": 32, \"53\": 7, \"40\": 4, \"34\": 8, \"17\": 3, \"15\": 10, \"42\": 2, \"2\": 1, \"20\": 7, \"16\": 7, \"48\": 7, \"36\": 2, \"57\": 1, \"21\": 7, \"52\": 7, \"23\": 2, \"54\": 2, \"44\": 2, \"30\": 2, \"55\": 4, \"27\": 1, \"9\": 4, \"43\": 1, \"50\": 2, \"6\": 2, \"31\": 1, \"4\": 1, \"47\": 1, \"25\": 1, \"18\": 1, \"3\": 1}, \"12\": {\"12\": 63, \"27\": 6, \"50\": 2, \"20\": 4, \"17\": 2, \"36\": 2, \"8\": 5, \"54\": 8}, \"20\": {\"20\": 124, \"54\": 3, \"50\": 1, \"8\": 2, \"46\": 2}, \"54\": {\"54\": 92, \"12\": 6, \"30\": 1, \"48\": 1}, \"22\": {\"22\": 105, \"49\": 3, \"56\": 5, \"43\": 10, \"13\": 2, \"14\": 5, \"31\": 2, \"47\": 1, \"55\": 2, \"40\": 1, \"28\": 3, \"5\": 1}, \"26\": {\"26\": 16, \"48\": 4, \"15\": 3, \"30\": 1}, \"31\": {\"31\": 28}, \"10\": {\"10\": 63, \"24\": 1}, \"27\": {\"27\": 134, \"17\": 4, \"36\": 3, \"12\": 1, \"8\": 1, \"54\": 1}, \"40\": {\"46\": 2, \"40\": 58, \"44\": 18, \"6\": 1, \"28\": 1, \"47\": 3, \"7\": 1, \"19\": 15, \"57\": 2, \"37\": 2, \"29\": 12, \"11\": 1, \"55\": 1, \"25\": 2, \"0\": 2, \"3\": 2, \"48\": 2, \"35\": 1, \"42\": 1, \"43\": 5, \"1\": 3, \"4\": 1}, \"28\": {\"46\": 3, \"28\": 8, \"14\": 1, \"1\": 1, \"22\": 1, \"44\": 2, \"43\": 1, \"0\": 3, \"55\": 1, \"57\": 1, \"6\": 1, \"29\": 3, \"31\": 1, \"25\": 1}, \"5\": {\"5\": 31, \"52\": 4, \"26\": 3, \"12\": 3, \"32\": 2, \"11\": 1, \"54\": 3, \"34\": 2, \"40\": 1, \"30\": 3, \"33\": 2, \"35\": 1, \"41\": 2, \"23\": 8, \"4\": 1, \"6\": 1, \"29\": 1, \"47\": 3, \"1\": 5, \"15\": 1, \"0\": 3, \"57\": 5, \"19\": 2, \"46\": 2, \"17\": 3, \"16\": 2, \"50\": 1, \"48\": 4, \"37\": 1, \"3\": 4, \"55\": 2, \"20\": 2, \"8\": 1, \"53\": 2, \"44\": 1, \"25\": 2, \"18\": 1}, \"30\": {\"30\": 117, \"50\": 1, \"52\": 2}, \"7\": {\"7\": 30, \"24\": 1, \"11\": 2, \"37\": 1, \"43\": 1, \"0\": 1}, \"18\": {\"18\": 84}, \"39\": {\"39\": 9, \"30\": 1, \"25\": 1, \"26\": 1, \"50\": 2, \"23\": 2}, \"50\": {\"29\": 2, \"12\": 2, \"2\": 3, \"8\": 10, \"47\": 1, \"30\": 6, \"38\": 1, \"50\": 33, \"3\": 4, \"25\": 3, \"48\": 5, \"1\": 2, \"41\": 1, \"20\": 16, \"54\": 20, \"45\": 1, \"27\": 2, \"53\": 5, \"5\": 3, \"51\": 4, \"52\": 2, \"40\": 1, \"21\": 4, \"17\": 1, \"36\": 3, \"46\": 1}, \"49\": {\"49\": 20}, \"43\": {\"43\": 115, \"9\": 1, \"40\": 1, \"7\": 2, \"0\": 2, \"24\": 1}, \"29\": {\"5\": 9, \"29\": 63, \"4\": 1, \"3\": 1, \"1\": 9, \"0\": 3, \"57\": 7, \"19\": 18, \"50\": 1, \"44\": 2}, \"35\": {\"35\": 26, \"37\": 2}, \"13\": {\"13\": 121, \"43\": 1, \"22\": 2}, \"36\": {\"36\": 94, \"3\": 1, \"27\": 1, \"32\": 1, \"4\": 1, \"16\": 1, \"54\": 1}, \"11\": {\"26\": 3, \"11\": 87, \"15\": 21, \"34\": 3, \"48\": 5, \"52\": 9, \"23\": 6, \"16\": 6, \"25\": 1, \"18\": 3, \"30\": 1, \"50\": 1}, \"57\": {\"9\": 17, \"57\": 42, \"1\": 8, \"34\": 2, \"27\": 2, \"36\": 2, \"48\": 15, \"51\": 1, \"29\": 3, \"54\": 4, \"5\": 7, \"41\": 1, \"12\": 2, \"45\": 2, \"47\": 2, \"19\": 2, \"50\": 2, \"17\": 5, \"20\": 1, \"25\": 1, \"16\": 1, \"30\": 1, \"0\": 1}, \"9\": {\"9\": 94, \"41\": 2, \"36\": 2, \"17\": 8, \"48\": 3, \"4\": 3, \"21\": 3, \"20\": 3, \"34\": 2, \"25\": 1, \"32\": 2, \"27\": 4, \"12\": 2, \"52\": 1}, \"25\": {\"20\": 6, \"25\": 42, \"26\": 3, \"6\": 5, \"48\": 6, \"8\": 12, \"34\": 2, \"50\": 8, \"2\": 1, \"3\": 5, \"30\": 3, \"12\": 2, \"18\": 2, \"23\": 2, \"36\": 8, \"54\": 9, \"9\": 2, \"53\": 1, \"17\": 4, \"57\": 1, \"38\": 1, \"45\": 1, \"21\": 3, \"40\": 1}, \"16\": {\"16\": 114, \"6\": 1, \"23\": 8, \"15\": 1, \"52\": 2}, \"53\": {\"53\": 76, \"51\": 15, \"41\": 1, \"20\": 3, \"25\": 1, \"12\": 1, \"21\": 5, \"54\": 7, \"8\": 3, \"3\": 2, \"36\": 1, \"46\": 1, \"50\": 2}, \"33\": {\"46\": 2, \"26\": 1, \"41\": 5, \"33\": 4, \"50\": 1, \"36\": 1, \"48\": 6, \"17\": 1, \"5\": 2, \"54\": 1, \"52\": 1, \"38\": 1, \"18\": 1, \"53\": 1}, \"51\": {\"51\": 103, \"53\": 9, \"12\": 3, \"54\": 3, \"8\": 3, \"20\": 2, \"21\": 4, \"50\": 1}, \"44\": {\"35\": 2, \"5\": 4, \"44\": 76, \"19\": 1, \"46\": 1, \"1\": 3, \"55\": 1}, \"48\": {\"48\": 106, \"52\": 2, \"50\": 1, \"9\": 1, \"17\": 2, \"34\": 1, \"40\": 1}, \"6\": {\"26\": 1, \"35\": 1, \"41\": 2, \"6\": 10, \"36\": 2, \"48\": 12, \"8\": 2, \"15\": 1, \"18\": 2, \"3\": 7, \"30\": 9, \"17\": 13, \"50\": 2, \"54\": 2, \"46\": 1, \"52\": 2, \"20\": 1, \"37\": 1, \"5\": 5, \"16\": 1, \"0\": 2, \"38\": 2, \"47\": 1, \"34\": 1, \"21\": 1, \"40\": 1, \"27\": 1, \"29\": 1, \"25\": 1}, \"23\": {\"23\": 144}, \"1\": {\"1\": 62, \"57\": 7, \"42\": 1, \"19\": 11, \"5\": 4, \"54\": 2, \"50\": 3, \"29\": 7, \"46\": 2, \"4\": 1}, \"17\": {\"41\": 1, \"34\": 1, \"17\": 104, \"30\": 2}, \"21\": {\"21\": 38, \"51\": 22, \"52\": 3, \"38\": 1, \"32\": 1, \"12\": 3, \"2\": 2, \"53\": 16, \"27\": 2, \"36\": 1, \"4\": 2, \"50\": 5, \"30\": 1, \"54\": 5, \"20\": 4, \"25\": 1, \"46\": 3, \"3\": 1, \"9\": 6, \"41\": 2, \"15\": 1, \"48\": 1, \"17\": 1}, \"14\": {\"55\": 8, \"22\": 4, \"14\": 7, \"24\": 4, \"44\": 1, \"46\": 1, \"10\": 5, \"37\": 1, \"49\": 1, \"7\": 2, \"13\": 3, \"42\": 1, \"12\": 1, \"40\": 1}, \"55\": {\"14\": 1, \"55\": 118, \"7\": 1, \"22\": 4, \"40\": 6, \"43\": 4, \"19\": 1, \"35\": 3, \"28\": 2, \"31\": 1, \"44\": 1, \"42\": 1, \"46\": 1}, \"41\": {\"41\": 27, \"23\": 1}, \"3\": {\"57\": 5, \"34\": 2, \"3\": 27, \"27\": 13, \"4\": 5, \"5\": 5, \"29\": 4, \"25\": 10, \"33\": 1, \"6\": 4, \"45\": 1, \"21\": 5, \"46\": 5, \"48\": 4, \"1\": 1, \"51\": 1, \"47\": 1, \"50\": 6, \"40\": 1, \"8\": 5, \"19\": 5, \"54\": 4, \"36\": 2, \"20\": 1, \"55\": 1, \"0\": 3, \"9\": 4, \"30\": 3, \"53\": 4, \"17\": 1, \"2\": 1, \"52\": 1, \"23\": 1, \"11\": 1}, \"38\": {\"38\": 28}, \"2\": {\"2\": 27, \"27\": 1, \"8\": 2, \"3\": 1, \"36\": 1}, \"8\": {\"8\": 133, \"36\": 2, \"54\": 5, \"17\": 1, \"50\": 1}, \"37\": {\"37\": 28}, \"45\": {\"40\": 1, \"54\": 3, \"12\": 8, \"4\": 10, \"2\": 1, \"19\": 1, \"45\": 7, \"8\": 2, \"3\": 1, \"52\": 1, \"27\": 10, \"36\": 3, \"21\": 1, \"9\": 3, \"18\": 1, \"53\": 2, \"57\": 1, \"5\": 1, \"32\": 1, \"6\": 1, \"0\": 1}, \"42\": {\"42\": 20, \"40\": 1, \"44\": 2, \"0\": 2, \"19\": 1, \"57\": 2}, \"24\": {\"24\": 85, \"10\": 8, \"49\": 1, \"14\": 3, \"43\": 2, \"22\": 3, \"56\": 1, \"13\": 1}, \"15\": {\"15\": 127, \"16\": 4, \"52\": 2, \"23\": 3}, \"0\": {\"40\": 2, \"0\": 40, \"8\": 1, \"57\": 9, \"30\": 16, \"1\": 5, \"29\": 3, \"5\": 3, \"45\": 1, \"18\": 2, \"48\": 3, \"15\": 6, \"23\": 7, \"53\": 1, \"19\": 3, \"25\": 1, \"20\": 7, \"54\": 4, \"52\": 2, \"26\": 1, \"47\": 2, \"6\": 1, \"46\": 1, \"16\": 2, \"4\": 1}, \"47\": {\"47\": 28, \"40\": 1, \"35\": 1, \"5\": 6, \"3\": 4, \"30\": 5, \"25\": 3, \"19\": 6, \"20\": 3, \"1\": 10, \"57\": 6, \"9\": 1, \"0\": 7, \"46\": 2, \"53\": 1, \"34\": 1, \"55\": 1, \"29\": 3, \"12\": 1, \"50\": 2}, \"19\": {\"19\": 85, \"0\": 1, \"29\": 15, \"1\": 8, \"57\": 3, \"5\": 2, \"3\": 3, \"40\": 1, \"4\": 2}}}, \"per_domain_accuracy\": {\"O_14\": {\"accuracy\": 0.9333333333333333, \"source?\": true}, \"O_20\": {\"accuracy\": 0.8567708333333334, \"source?\": true}, \"O_50\": {\"accuracy\": 0.90078125, \"source?\": true}, \"O_26\": {\"accuracy\": 0.7747395833333334, \"source?\": true}, \"O_32\": {\"accuracy\": 0.88984375, \"source?\": true}, \"O_44\": {\"accuracy\": 0.7864583333333334, \"source?\": true}, \"O_8\": {\"accuracy\": 0.8875, \"source?\": true}, \"O_38\": {\"accuracy\": 0.9135416666666667, \"source?\": true}, \"C_4\": {\"accuracy\": 0.6998502994011976, \"source?\": false}, \"W_3\": {\"accuracy\": 0.5631823144104804, \"source?\": false}, \"W_4\": {\"accuracy\": 0.5098140495867769, \"source?\": false}, \"C_5\": {\"accuracy\": 0.7203212290502793, \"source?\": false}, \"W_2\": {\"accuracy\": 0.5639504219409283, \"source?\": false}, \"C_2\": {\"accuracy\": 0.7171428571428572, \"source?\": false}, \"C_1\": {\"accuracy\": 0.7912703804347826, \"source?\": false}, \"W_1\": {\"accuracy\": 0.5752363445378151, \"source?\": false}, \"C_3\": {\"accuracy\": 0.69375, \"source?\": false}}}, \"history\": {\"epoch_indices\": [1, 2, 3, 4, 5, 6, 7, 8, 9, 10, 11, 12, 13, 14], \"train_label_loss\": [0.9842175436560952, 0.9279978345059567, 0.6242559448316959, 0.5346871062736249, 0.4839745324271332, 0.4430392673627163, 0.40440727014765365, 0.3710432539827057, 0.3518064468410254, 0.3136499634857977, 0.2881806737380213, 0.2759204598693898, 0.2560513557446289, 0.2551049649719581], \"source_val_label_loss\": [7.076159477233887, 0.7030481696128845, 0.5945031046867371, 0.5738570094108582, 0.47686734795570374, 0.4305925965309143, 0.46403202414512634, 0.411751389503479, 0.3659474849700928, 0.36714038252830505, 0.33327189087867737, 0.35666850209236145, 0.33404839038848877, 0.3181911110877991], \"target_val_label_loss\": [1932.666015625, 345.9818420410156, 448.1807556152344, 514.5557861328125, 578.0109252929688, 602.5023193359375, 655.5507202148438, 693.2916259765625, 578.8289184570312, 654.9983520507812, 713.1460571289062, 740.778564453125, 812.5094604492188, 834.4155883789062], \"source_val_acc_label\": [0.694921875, 0.74091796875, 0.7861653645833333, 0.7920247395833333, 0.8294596354166667, 0.8440104166666667, 0.832421875, 0.8505208333333333, 0.8681966145833333, 0.86787109375, 0.879296875, 0.871875, 0.8813802083333333, 0.8866536458333333], \"target_val_acc_label\": [0.40849807797913235, 0.592394288852279, 0.591055738605162, 0.5947796540362438, 0.6006830038440417, 0.6270593080724877, 0.625, 0.6257207578253706, 0.6260468149368479, 0.635777045579352, 0.6311092806150467, 0.6234726798462383, 0.619354063701263, 0.6314353377265239]}, \"dataset_metrics\": {\"source\": {\"train\": {\"n_unique_x\": 179200, \"n_unique_y\": 16, \"n_batch/episode\": 6720}, \"val\": {\"n_unique_x\": 38400, \"n_unique_y\": 16, \"n_batch/episode\": 960}, \"test\": {\"n_unique_x\": 38400, \"n_unique_y\": 16, \"n_batch/episode\": 960}}, \"target\": {\"train\": {\"n_unique_x\": 364209, \"n_unique_y\": 130, \"n_batch/episode\": 13178}, \"val\": {\"n_unique_x\": 77265, \"n_unique_y\": 130, \"n_batch/episode\": 1821}, \"test\": {\"n_unique_x\": 78390, \"n_unique_y\": 130, \"n_batch/episode\": 1852}}}}'"
      ]
     },
     "execution_count": 29,
     "metadata": {},
     "output_type": "execute_result"
    }
   ],
   "source": [
    "json.dumps(experiment)"
   ]
  }
 ],
 "metadata": {
  "celltoolbar": "Tags",
  "kernelspec": {
   "display_name": "Python 3 (ipykernel)",
   "language": "python",
   "name": "python3"
  },
  "language_info": {
   "codemirror_mode": {
    "name": "ipython",
    "version": 3
   },
   "file_extension": ".py",
   "mimetype": "text/x-python",
   "name": "python",
   "nbconvert_exporter": "python",
   "pygments_lexer": "ipython3",
   "version": "3.8.10"
  },
  "papermill": {
   "default_parameters": {},
   "duration": 2547.690709,
   "end_time": "2022-03-21T00:05:18.863121",
   "environment_variables": {},
   "exception": null,
   "input_path": "/mnt/wd500GB/CSC500/csc500-main/csc500-notebooks/templates/tl_ptn_template.ipynb",
   "output_path": "trial.ipynb",
   "parameters": {
    "parameters": {
     "BEST_MODEL_PATH": "./best_model.pth",
     "NUM_LOGS_PER_EPOCH": 10,
     "criteria_for_best": "target_accuracy",
     "dataset_seed": 420,
     "datasets": [
      {
       "domain_prefix": "C_",
       "domains": [
        1,
        2,
        3,
        4,
        5
       ],
       "episode_transforms": [],
       "labels": [
        "1-10.",
        "1-11.",
        "1-15.",
        "1-16.",
        "1-17.",
        "1-18.",
        "1-19.",
        "10-4.",
        "10-7.",
        "11-1.",
        "11-14.",
        "11-17.",
        "11-20.",
        "11-7.",
        "13-20.",
        "13-8.",
        "14-10.",
        "14-11.",
        "14-14.",
        "14-7.",
        "15-1.",
        "15-20.",
        "16-1.",
        "16-16.",
        "17-10.",
        "17-11.",
        "17-2.",
        "19-1.",
        "19-16.",
        "19-19.",
        "19-20.",
        "19-3.",
        "2-10.",
        "2-11.",
        "2-17.",
        "2-18.",
        "2-20.",
        "2-3.",
        "2-4.",
        "2-5.",
        "2-6.",
        "2-7.",
        "2-8.",
        "3-13.",
        "3-18.",
        "3-3.",
        "4-1.",
        "4-10.",
        "4-11.",
        "4-19.",
        "5-5.",
        "6-15.",
        "7-10.",
        "7-14.",
        "8-18.",
        "8-20.",
        "8-3.",
        "8-8."
       ],
       "num_examples_per_domain_per_label": -1,
       "pickle_path": "/mnt/wd500GB/CSC500/csc500-main/datasets/cores.stratified_ds.2022A.pkl",
       "source_or_target_dataset": "target",
       "x_transforms": [
        "unit_mag",
        "take_200"
       ]
      },
      {
       "domain_prefix": "W_",
       "domains": [
        1,
        2,
        3,
        4
       ],
       "episode_transforms": [],
       "labels": [
        "1-10",
        "1-12",
        "1-14",
        "1-16",
        "1-18",
        "1-19",
        "1-8",
        "10-11",
        "10-17",
        "10-4",
        "10-7",
        "11-1",
        "11-10",
        "11-19",
        "11-20",
        "11-4",
        "11-7",
        "12-19",
        "12-20",
        "12-7",
        "13-14",
        "13-18",
        "13-19",
        "13-20",
        "13-3",
        "13-7",
        "14-10",
        "14-11",
        "14-12",
        "14-13",
        "14-14",
        "14-19",
        "14-20",
        "14-7",
        "14-8",
        "14-9",
        "15-1",
        "15-19",
        "15-6",
        "16-1",
        "16-16",
        "16-19",
        "16-20",
        "17-10",
        "17-11",
        "18-1",
        "18-10",
        "18-11",
        "18-12",
        "18-13",
        "18-14",
        "18-15",
        "18-16",
        "18-17",
        "18-19",
        "18-2",
        "18-20",
        "18-4",
        "18-5",
        "18-7",
        "18-8",
        "18-9",
        "19-1",
        "19-10",
        "19-11",
        "19-12",
        "19-13",
        "19-14",
        "19-15",
        "19-19",
        "19-2",
        "19-20",
        "19-3",
        "19-4",
        "19-6",
        "19-7",
        "19-8",
        "19-9",
        "2-1",
        "2-13",
        "2-15",
        "2-3",
        "2-4",
        "2-5",
        "2-6",
        "2-7",
        "2-8",
        "20-1",
        "20-12",
        "20-14",
        "20-15",
        "20-16",
        "20-18",
        "20-19",
        "20-20",
        "20-3",
        "20-4",
        "20-5",
        "20-7",
        "20-8",
        "3-1",
        "3-13",
        "3-18",
        "3-2",
        "3-8",
        "4-1",
        "4-10",
        "4-11",
        "5-1",
        "5-5",
        "6-1",
        "6-15",
        "6-6",
        "7-10",
        "7-11",
        "7-12",
        "7-13",
        "7-14",
        "7-7",
        "7-8",
        "7-9",
        "8-1",
        "8-13",
        "8-14",
        "8-18",
        "8-20",
        "8-3",
        "8-8",
        "9-1",
        "9-7"
       ],
       "num_examples_per_domain_per_label": -1,
       "pickle_path": "/mnt/wd500GB/CSC500/csc500-main/datasets/wisig.node3-19.stratified_ds.2022A.pkl",
       "source_or_target_dataset": "target",
       "x_transforms": [
        "unit_mag",
        "take_200"
       ]
      },
      {
       "domain_prefix": "O_",
       "domains": [
        32,
        38,
        8,
        44,
        14,
        50,
        20,
        26
       ],
       "episode_transforms": [],
       "labels": [
        "3123D52",
        "3123D65",
        "3123D79",
        "3123D80",
        "3123D54",
        "3123D70",
        "3123D7B",
        "3123D89",
        "3123D58",
        "3123D76",
        "3123D7D",
        "3123EFE",
        "3123D64",
        "3123D78",
        "3123D7E",
        "3124E4A"
       ],
       "num_examples_per_domain_per_label": 2000,
       "pickle_path": "/mnt/wd500GB/CSC500/csc500-main/datasets/oracle.Run1_framed_2000Examples_stratified_ds.2022A.pkl",
       "source_or_target_dataset": "source",
       "x_transforms": [
        "unit_mag",
        "take_200",
        "resample_20Msps_to_25Msps"
       ]
      }
     ],
     "device": "cuda",
     "experiment_name": "tl_3Av2:oracle.run1.framed -> cores+wisig",
     "lr": 0.0001,
     "n_epoch": 50,
     "n_query": 2,
     "n_shot": 3,
     "n_way": 16,
     "patience": 3,
     "seed": 420,
     "test_k_factor": 2,
     "torch_default_dtype": "torch.float32",
     "train_k_factor": 3,
     "val_k_factor": 2,
     "x_net": [
      {
       "class": "nnReshape",
       "kargs": {
        "shape": [
         -1,
         1,
         2,
         200
        ]
       }
      },
      {
       "class": "Conv2d",
       "kargs": {
        "bias": false,
        "in_channels": 1,
        "kernel_size": [
         1,
         7
        ],
        "out_channels": 256,
        "padding": [
         0,
         3
        ]
       }
      },
      {
       "class": "ReLU",
       "kargs": {
        "inplace": true
       }
      },
      {
       "class": "BatchNorm2d",
       "kargs": {
        "num_features": 256
       }
      },
      {
       "class": "Conv2d",
       "kargs": {
        "bias": true,
        "in_channels": 256,
        "kernel_size": [
         2,
         7
        ],
        "out_channels": 80,
        "padding": [
         0,
         3
        ]
       }
      },
      {
       "class": "ReLU",
       "kargs": {
        "inplace": true
       }
      },
      {
       "class": "BatchNorm2d",
       "kargs": {
        "num_features": 80
       }
      },
      {
       "class": "Flatten",
       "kargs": {}
      },
      {
       "class": "Linear",
       "kargs": {
        "in_features": 16000,
        "out_features": 256
       }
      },
      {
       "class": "ReLU",
       "kargs": {
        "inplace": true
       }
      },
      {
       "class": "BatchNorm1d",
       "kargs": {
        "num_features": 256
       }
      },
      {
       "class": "Linear",
       "kargs": {
        "in_features": 256,
        "out_features": 256
       }
      }
     ],
     "x_shape": [
      2,
      200
     ]
    }
   },
   "start_time": "2022-03-20T23:22:51.172412",
   "version": "2.3.4"
  }
 },
 "nbformat": 4,
 "nbformat_minor": 5
}