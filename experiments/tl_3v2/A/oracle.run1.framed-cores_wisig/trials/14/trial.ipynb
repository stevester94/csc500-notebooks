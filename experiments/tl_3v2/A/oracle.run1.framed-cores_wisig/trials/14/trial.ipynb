{
 "cells": [
  {
   "cell_type": "markdown",
   "id": "9fea5f46",
   "metadata": {
    "papermill": {
     "duration": 0.019295,
     "end_time": "2022-03-21T04:07:04.775134",
     "exception": false,
     "start_time": "2022-03-21T04:07:04.755839",
     "status": "completed"
    },
    "tags": []
   },
   "source": [
    "# Transfer Learning Template"
   ]
  },
  {
   "cell_type": "code",
   "execution_count": 1,
   "id": "0902182a",
   "metadata": {
    "execution": {
     "iopub.execute_input": "2022-03-21T04:07:04.814009Z",
     "iopub.status.busy": "2022-03-21T04:07:04.808718Z",
     "iopub.status.idle": "2022-03-21T04:07:05.923299Z",
     "shell.execute_reply": "2022-03-21T04:07:05.922769Z"
    },
    "papermill": {
     "duration": 1.135188,
     "end_time": "2022-03-21T04:07:05.923424",
     "exception": false,
     "start_time": "2022-03-21T04:07:04.788236",
     "status": "completed"
    },
    "tags": []
   },
   "outputs": [],
   "source": [
    "%load_ext autoreload\n",
    "%autoreload 2\n",
    "%matplotlib inline\n",
    "\n",
    "    \n",
    "import os, json, sys, time, random\n",
    "import numpy as np\n",
    "import torch\n",
    "from torch.optim import Adam\n",
    "from  easydict import EasyDict\n",
    "import matplotlib.pyplot as plt\n",
    "\n",
    "from steves_models.steves_ptn import Steves_Prototypical_Network\n",
    "\n",
    "from steves_utils.lazy_iterable_wrapper import Lazy_Iterable_Wrapper\n",
    "from steves_utils.iterable_aggregator import Iterable_Aggregator\n",
    "from steves_utils.ptn_train_eval_test_jig import  PTN_Train_Eval_Test_Jig\n",
    "from steves_utils.torch_sequential_builder import build_sequential\n",
    "from steves_utils.torch_utils import get_dataset_metrics, ptn_confusion_by_domain_over_dataloader\n",
    "from steves_utils.utils_v2 import (per_domain_accuracy_from_confusion, get_datasets_base_path)\n",
    "from steves_utils.PTN.utils import independent_accuracy_assesment\n",
    "\n",
    "from torch.utils.data import DataLoader\n",
    "\n",
    "from steves_utils.stratified_dataset.episodic_accessor import Episodic_Accessor_Factory\n",
    "\n",
    "from steves_utils.ptn_do_report import (\n",
    "    get_loss_curve,\n",
    "    get_results_table,\n",
    "    get_parameters_table,\n",
    "    get_domain_accuracies,\n",
    ")\n",
    "\n",
    "from steves_utils.transforms import get_chained_transform"
   ]
  },
  {
   "cell_type": "markdown",
   "id": "41c840b4",
   "metadata": {
    "papermill": {
     "duration": 0.014208,
     "end_time": "2022-03-21T04:07:05.956748",
     "exception": false,
     "start_time": "2022-03-21T04:07:05.942540",
     "status": "completed"
    },
    "tags": []
   },
   "source": [
    "# Allowed Parameters\n",
    "These are allowed parameters, not defaults\n",
    "Each of these values need to be present in the injected parameters (the notebook will raise an exception if they are not present)\n",
    "\n",
    "Papermill uses the cell tag \"parameters\" to inject the real parameters below this cell.\n",
    "Enable tags to see what I mean"
   ]
  },
  {
   "cell_type": "code",
   "execution_count": 2,
   "id": "fd44eb83",
   "metadata": {
    "execution": {
     "iopub.execute_input": "2022-03-21T04:07:05.985483Z",
     "iopub.status.busy": "2022-03-21T04:07:05.985217Z",
     "iopub.status.idle": "2022-03-21T04:07:05.999838Z",
     "shell.execute_reply": "2022-03-21T04:07:05.999400Z"
    },
    "papermill": {
     "duration": 0.030487,
     "end_time": "2022-03-21T04:07:05.999942",
     "exception": false,
     "start_time": "2022-03-21T04:07:05.969455",
     "status": "completed"
    },
    "tags": []
   },
   "outputs": [],
   "source": [
    "required_parameters = {\n",
    "    \"experiment_name\",\n",
    "    \"lr\",\n",
    "    \"device\",\n",
    "    \"seed\",\n",
    "    \"dataset_seed\",\n",
    "    \"n_shot\",\n",
    "    \"n_query\",\n",
    "    \"n_way\",\n",
    "    \"train_k_factor\",\n",
    "    \"val_k_factor\",\n",
    "    \"test_k_factor\",\n",
    "    \"n_epoch\",\n",
    "    \"patience\",\n",
    "    \"criteria_for_best\",\n",
    "    \"x_net\",\n",
    "    \"datasets\",\n",
    "    \"torch_default_dtype\",\n",
    "    \"NUM_LOGS_PER_EPOCH\",\n",
    "    \"BEST_MODEL_PATH\",\n",
    "    \"x_shape\",\n",
    "}"
   ]
  },
  {
   "cell_type": "code",
   "execution_count": 3,
   "id": "fa3f0049",
   "metadata": {
    "execution": {
     "iopub.execute_input": "2022-03-21T04:07:06.037629Z",
     "iopub.status.busy": "2022-03-21T04:07:06.037338Z",
     "iopub.status.idle": "2022-03-21T04:07:06.050585Z",
     "shell.execute_reply": "2022-03-21T04:07:06.050087Z"
    },
    "papermill": {
     "duration": 0.03185,
     "end_time": "2022-03-21T04:07:06.050690",
     "exception": false,
     "start_time": "2022-03-21T04:07:06.018840",
     "status": "completed"
    },
    "tags": [
     "parameters"
    ]
   },
   "outputs": [],
   "source": [
    "from steves_utils.CORES.utils import (\n",
    "    ALL_NODES,\n",
    "    ALL_NODES_MINIMUM_1000_EXAMPLES,\n",
    "    ALL_DAYS\n",
    ")\n",
    "\n",
    "from steves_utils.ORACLE.utils_v2 import (\n",
    "    ALL_DISTANCES_FEET_NARROWED,\n",
    "    ALL_RUNS,\n",
    "    ALL_SERIAL_NUMBERS,\n",
    ")\n",
    "\n",
    "standalone_parameters = {}\n",
    "standalone_parameters[\"experiment_name\"] = \"STANDALONE PTN\"\n",
    "standalone_parameters[\"lr\"] = 0.001\n",
    "standalone_parameters[\"device\"] = \"cuda\"\n",
    "\n",
    "standalone_parameters[\"seed\"] = 1337\n",
    "standalone_parameters[\"dataset_seed\"] = 1337\n",
    "\n",
    "standalone_parameters[\"n_way\"] = 8\n",
    "standalone_parameters[\"n_shot\"] = 3\n",
    "standalone_parameters[\"n_query\"]  = 2\n",
    "standalone_parameters[\"train_k_factor\"] = 1\n",
    "standalone_parameters[\"val_k_factor\"] = 2\n",
    "standalone_parameters[\"test_k_factor\"] = 2\n",
    "\n",
    "\n",
    "standalone_parameters[\"n_epoch\"] = 50\n",
    "\n",
    "standalone_parameters[\"patience\"] = 10\n",
    "standalone_parameters[\"criteria_for_best\"] = \"source_loss\"\n",
    "\n",
    "standalone_parameters[\"datasets\"] = [\n",
    "    {\n",
    "        \"labels\": ALL_SERIAL_NUMBERS,\n",
    "        \"domains\": ALL_DISTANCES_FEET_NARROWED,\n",
    "        \"num_examples_per_domain_per_label\": 100,\n",
    "        \"pickle_path\": os.path.join(get_datasets_base_path(), \"oracle.Run1_framed_2000Examples_stratified_ds.2022A.pkl\"),\n",
    "        \"source_or_target_dataset\": \"source\",\n",
    "        \"x_transforms\": [\"unit_mag\", \"minus_two\"],\n",
    "        \"episode_transforms\": [],\n",
    "        \"domain_prefix\": \"ORACLE_\"\n",
    "    },\n",
    "    {\n",
    "        \"labels\": ALL_NODES,\n",
    "        \"domains\": ALL_DAYS,\n",
    "        \"num_examples_per_domain_per_label\": 100,\n",
    "        \"pickle_path\": os.path.join(get_datasets_base_path(), \"cores.stratified_ds.2022A.pkl\"),\n",
    "        \"source_or_target_dataset\": \"target\",\n",
    "        \"x_transforms\": [\"unit_power\", \"times_zero\"],\n",
    "        \"episode_transforms\": [],\n",
    "        \"domain_prefix\": \"CORES_\"\n",
    "    }   \n",
    "]\n",
    "\n",
    "standalone_parameters[\"torch_default_dtype\"] = \"torch.float32\" \n",
    "\n",
    "\n",
    "\n",
    "standalone_parameters[\"x_net\"] =     [\n",
    "    {\"class\": \"nnReshape\", \"kargs\": {\"shape\":[-1, 1, 2, 256]}},\n",
    "    {\"class\": \"Conv2d\", \"kargs\": { \"in_channels\":1, \"out_channels\":256, \"kernel_size\":(1,7), \"bias\":False, \"padding\":(0,3), },},\n",
    "    {\"class\": \"ReLU\", \"kargs\": {\"inplace\": True}},\n",
    "    {\"class\": \"BatchNorm2d\", \"kargs\": {\"num_features\":256}},\n",
    "\n",
    "    {\"class\": \"Conv2d\", \"kargs\": { \"in_channels\":256, \"out_channels\":80, \"kernel_size\":(2,7), \"bias\":True, \"padding\":(0,3), },},\n",
    "    {\"class\": \"ReLU\", \"kargs\": {\"inplace\": True}},\n",
    "    {\"class\": \"BatchNorm2d\", \"kargs\": {\"num_features\":80}},\n",
    "    {\"class\": \"Flatten\", \"kargs\": {}},\n",
    "\n",
    "    {\"class\": \"Linear\", \"kargs\": {\"in_features\": 80*256, \"out_features\": 256}}, # 80 units per IQ pair\n",
    "    {\"class\": \"ReLU\", \"kargs\": {\"inplace\": True}},\n",
    "    {\"class\": \"BatchNorm1d\", \"kargs\": {\"num_features\":256}},\n",
    "\n",
    "    {\"class\": \"Linear\", \"kargs\": {\"in_features\": 256, \"out_features\": 256}},\n",
    "]\n",
    "\n",
    "# Parameters relevant to results\n",
    "# These parameters will basically never need to change\n",
    "standalone_parameters[\"NUM_LOGS_PER_EPOCH\"] = 10\n",
    "standalone_parameters[\"BEST_MODEL_PATH\"] = \"./best_model.pth\"\n",
    "\n",
    "\n",
    "\n",
    "\n"
   ]
  },
  {
   "cell_type": "code",
   "execution_count": 4,
   "id": "92995d1f",
   "metadata": {
    "execution": {
     "iopub.execute_input": "2022-03-21T04:07:06.090582Z",
     "iopub.status.busy": "2022-03-21T04:07:06.089944Z",
     "iopub.status.idle": "2022-03-21T04:07:06.103872Z",
     "shell.execute_reply": "2022-03-21T04:07:06.103439Z"
    },
    "papermill": {
     "duration": 0.035577,
     "end_time": "2022-03-21T04:07:06.103979",
     "exception": false,
     "start_time": "2022-03-21T04:07:06.068402",
     "status": "completed"
    },
    "tags": [
     "injected-parameters"
    ]
   },
   "outputs": [],
   "source": [
    "# Parameters\n",
    "parameters = {\n",
    "    \"experiment_name\": \"tl_3Av2:oracle.run1.framed -> cores+wisig\",\n",
    "    \"device\": \"cuda\",\n",
    "    \"lr\": 0.0001,\n",
    "    \"x_shape\": [2, 200],\n",
    "    \"n_shot\": 3,\n",
    "    \"n_query\": 2,\n",
    "    \"train_k_factor\": 3,\n",
    "    \"val_k_factor\": 2,\n",
    "    \"test_k_factor\": 2,\n",
    "    \"torch_default_dtype\": \"torch.float32\",\n",
    "    \"n_epoch\": 50,\n",
    "    \"patience\": 3,\n",
    "    \"criteria_for_best\": \"target_accuracy\",\n",
    "    \"x_net\": [\n",
    "        {\"class\": \"nnReshape\", \"kargs\": {\"shape\": [-1, 1, 2, 200]}},\n",
    "        {\n",
    "            \"class\": \"Conv2d\",\n",
    "            \"kargs\": {\n",
    "                \"in_channels\": 1,\n",
    "                \"out_channels\": 256,\n",
    "                \"kernel_size\": [1, 7],\n",
    "                \"bias\": False,\n",
    "                \"padding\": [0, 3],\n",
    "            },\n",
    "        },\n",
    "        {\"class\": \"ReLU\", \"kargs\": {\"inplace\": True}},\n",
    "        {\"class\": \"BatchNorm2d\", \"kargs\": {\"num_features\": 256}},\n",
    "        {\n",
    "            \"class\": \"Conv2d\",\n",
    "            \"kargs\": {\n",
    "                \"in_channels\": 256,\n",
    "                \"out_channels\": 80,\n",
    "                \"kernel_size\": [2, 7],\n",
    "                \"bias\": True,\n",
    "                \"padding\": [0, 3],\n",
    "            },\n",
    "        },\n",
    "        {\"class\": \"ReLU\", \"kargs\": {\"inplace\": True}},\n",
    "        {\"class\": \"BatchNorm2d\", \"kargs\": {\"num_features\": 80}},\n",
    "        {\"class\": \"Flatten\", \"kargs\": {}},\n",
    "        {\"class\": \"Linear\", \"kargs\": {\"in_features\": 16000, \"out_features\": 256}},\n",
    "        {\"class\": \"ReLU\", \"kargs\": {\"inplace\": True}},\n",
    "        {\"class\": \"BatchNorm1d\", \"kargs\": {\"num_features\": 256}},\n",
    "        {\"class\": \"Linear\", \"kargs\": {\"in_features\": 256, \"out_features\": 256}},\n",
    "    ],\n",
    "    \"NUM_LOGS_PER_EPOCH\": 10,\n",
    "    \"BEST_MODEL_PATH\": \"./best_model.pth\",\n",
    "    \"n_way\": 16,\n",
    "    \"datasets\": [\n",
    "        {\n",
    "            \"labels\": [\n",
    "                \"1-10.\",\n",
    "                \"1-11.\",\n",
    "                \"1-15.\",\n",
    "                \"1-16.\",\n",
    "                \"1-17.\",\n",
    "                \"1-18.\",\n",
    "                \"1-19.\",\n",
    "                \"10-4.\",\n",
    "                \"10-7.\",\n",
    "                \"11-1.\",\n",
    "                \"11-14.\",\n",
    "                \"11-17.\",\n",
    "                \"11-20.\",\n",
    "                \"11-7.\",\n",
    "                \"13-20.\",\n",
    "                \"13-8.\",\n",
    "                \"14-10.\",\n",
    "                \"14-11.\",\n",
    "                \"14-14.\",\n",
    "                \"14-7.\",\n",
    "                \"15-1.\",\n",
    "                \"15-20.\",\n",
    "                \"16-1.\",\n",
    "                \"16-16.\",\n",
    "                \"17-10.\",\n",
    "                \"17-11.\",\n",
    "                \"17-2.\",\n",
    "                \"19-1.\",\n",
    "                \"19-16.\",\n",
    "                \"19-19.\",\n",
    "                \"19-20.\",\n",
    "                \"19-3.\",\n",
    "                \"2-10.\",\n",
    "                \"2-11.\",\n",
    "                \"2-17.\",\n",
    "                \"2-18.\",\n",
    "                \"2-20.\",\n",
    "                \"2-3.\",\n",
    "                \"2-4.\",\n",
    "                \"2-5.\",\n",
    "                \"2-6.\",\n",
    "                \"2-7.\",\n",
    "                \"2-8.\",\n",
    "                \"3-13.\",\n",
    "                \"3-18.\",\n",
    "                \"3-3.\",\n",
    "                \"4-1.\",\n",
    "                \"4-10.\",\n",
    "                \"4-11.\",\n",
    "                \"4-19.\",\n",
    "                \"5-5.\",\n",
    "                \"6-15.\",\n",
    "                \"7-10.\",\n",
    "                \"7-14.\",\n",
    "                \"8-18.\",\n",
    "                \"8-20.\",\n",
    "                \"8-3.\",\n",
    "                \"8-8.\",\n",
    "            ],\n",
    "            \"domains\": [1, 2, 3, 4, 5],\n",
    "            \"num_examples_per_domain_per_label\": -1,\n",
    "            \"pickle_path\": \"/mnt/wd500GB/CSC500/csc500-main/datasets/cores.stratified_ds.2022A.pkl\",\n",
    "            \"source_or_target_dataset\": \"target\",\n",
    "            \"x_transforms\": [\"take_200\"],\n",
    "            \"episode_transforms\": [],\n",
    "            \"domain_prefix\": \"C_\",\n",
    "        },\n",
    "        {\n",
    "            \"labels\": [\n",
    "                \"1-10\",\n",
    "                \"1-12\",\n",
    "                \"1-14\",\n",
    "                \"1-16\",\n",
    "                \"1-18\",\n",
    "                \"1-19\",\n",
    "                \"1-8\",\n",
    "                \"10-11\",\n",
    "                \"10-17\",\n",
    "                \"10-4\",\n",
    "                \"10-7\",\n",
    "                \"11-1\",\n",
    "                \"11-10\",\n",
    "                \"11-19\",\n",
    "                \"11-20\",\n",
    "                \"11-4\",\n",
    "                \"11-7\",\n",
    "                \"12-19\",\n",
    "                \"12-20\",\n",
    "                \"12-7\",\n",
    "                \"13-14\",\n",
    "                \"13-18\",\n",
    "                \"13-19\",\n",
    "                \"13-20\",\n",
    "                \"13-3\",\n",
    "                \"13-7\",\n",
    "                \"14-10\",\n",
    "                \"14-11\",\n",
    "                \"14-12\",\n",
    "                \"14-13\",\n",
    "                \"14-14\",\n",
    "                \"14-19\",\n",
    "                \"14-20\",\n",
    "                \"14-7\",\n",
    "                \"14-8\",\n",
    "                \"14-9\",\n",
    "                \"15-1\",\n",
    "                \"15-19\",\n",
    "                \"15-6\",\n",
    "                \"16-1\",\n",
    "                \"16-16\",\n",
    "                \"16-19\",\n",
    "                \"16-20\",\n",
    "                \"17-10\",\n",
    "                \"17-11\",\n",
    "                \"18-1\",\n",
    "                \"18-10\",\n",
    "                \"18-11\",\n",
    "                \"18-12\",\n",
    "                \"18-13\",\n",
    "                \"18-14\",\n",
    "                \"18-15\",\n",
    "                \"18-16\",\n",
    "                \"18-17\",\n",
    "                \"18-19\",\n",
    "                \"18-2\",\n",
    "                \"18-20\",\n",
    "                \"18-4\",\n",
    "                \"18-5\",\n",
    "                \"18-7\",\n",
    "                \"18-8\",\n",
    "                \"18-9\",\n",
    "                \"19-1\",\n",
    "                \"19-10\",\n",
    "                \"19-11\",\n",
    "                \"19-12\",\n",
    "                \"19-13\",\n",
    "                \"19-14\",\n",
    "                \"19-15\",\n",
    "                \"19-19\",\n",
    "                \"19-2\",\n",
    "                \"19-20\",\n",
    "                \"19-3\",\n",
    "                \"19-4\",\n",
    "                \"19-6\",\n",
    "                \"19-7\",\n",
    "                \"19-8\",\n",
    "                \"19-9\",\n",
    "                \"2-1\",\n",
    "                \"2-13\",\n",
    "                \"2-15\",\n",
    "                \"2-3\",\n",
    "                \"2-4\",\n",
    "                \"2-5\",\n",
    "                \"2-6\",\n",
    "                \"2-7\",\n",
    "                \"2-8\",\n",
    "                \"20-1\",\n",
    "                \"20-12\",\n",
    "                \"20-14\",\n",
    "                \"20-15\",\n",
    "                \"20-16\",\n",
    "                \"20-18\",\n",
    "                \"20-19\",\n",
    "                \"20-20\",\n",
    "                \"20-3\",\n",
    "                \"20-4\",\n",
    "                \"20-5\",\n",
    "                \"20-7\",\n",
    "                \"20-8\",\n",
    "                \"3-1\",\n",
    "                \"3-13\",\n",
    "                \"3-18\",\n",
    "                \"3-2\",\n",
    "                \"3-8\",\n",
    "                \"4-1\",\n",
    "                \"4-10\",\n",
    "                \"4-11\",\n",
    "                \"5-1\",\n",
    "                \"5-5\",\n",
    "                \"6-1\",\n",
    "                \"6-15\",\n",
    "                \"6-6\",\n",
    "                \"7-10\",\n",
    "                \"7-11\",\n",
    "                \"7-12\",\n",
    "                \"7-13\",\n",
    "                \"7-14\",\n",
    "                \"7-7\",\n",
    "                \"7-8\",\n",
    "                \"7-9\",\n",
    "                \"8-1\",\n",
    "                \"8-13\",\n",
    "                \"8-14\",\n",
    "                \"8-18\",\n",
    "                \"8-20\",\n",
    "                \"8-3\",\n",
    "                \"8-8\",\n",
    "                \"9-1\",\n",
    "                \"9-7\",\n",
    "            ],\n",
    "            \"domains\": [1, 2, 3, 4],\n",
    "            \"num_examples_per_domain_per_label\": -1,\n",
    "            \"pickle_path\": \"/mnt/wd500GB/CSC500/csc500-main/datasets/wisig.node3-19.stratified_ds.2022A.pkl\",\n",
    "            \"source_or_target_dataset\": \"target\",\n",
    "            \"x_transforms\": [\"take_200\"],\n",
    "            \"episode_transforms\": [],\n",
    "            \"domain_prefix\": \"W_\",\n",
    "        },\n",
    "        {\n",
    "            \"labels\": [\n",
    "                \"3123D52\",\n",
    "                \"3123D65\",\n",
    "                \"3123D79\",\n",
    "                \"3123D80\",\n",
    "                \"3123D54\",\n",
    "                \"3123D70\",\n",
    "                \"3123D7B\",\n",
    "                \"3123D89\",\n",
    "                \"3123D58\",\n",
    "                \"3123D76\",\n",
    "                \"3123D7D\",\n",
    "                \"3123EFE\",\n",
    "                \"3123D64\",\n",
    "                \"3123D78\",\n",
    "                \"3123D7E\",\n",
    "                \"3124E4A\",\n",
    "            ],\n",
    "            \"domains\": [32, 38, 8, 44, 14, 50, 20, 26],\n",
    "            \"num_examples_per_domain_per_label\": 2000,\n",
    "            \"pickle_path\": \"/mnt/wd500GB/CSC500/csc500-main/datasets/oracle.Run1_framed_2000Examples_stratified_ds.2022A.pkl\",\n",
    "            \"source_or_target_dataset\": \"source\",\n",
    "            \"x_transforms\": [\"take_200\", \"resample_20Msps_to_25Msps\"],\n",
    "            \"episode_transforms\": [],\n",
    "            \"domain_prefix\": \"O_\",\n",
    "        },\n",
    "    ],\n",
    "    \"seed\": 500,\n",
    "    \"dataset_seed\": 500,\n",
    "}\n"
   ]
  },
  {
   "cell_type": "code",
   "execution_count": 5,
   "id": "8fa1cc33",
   "metadata": {
    "execution": {
     "iopub.execute_input": "2022-03-21T04:07:06.136843Z",
     "iopub.status.busy": "2022-03-21T04:07:06.136586Z",
     "iopub.status.idle": "2022-03-21T04:07:06.147653Z",
     "shell.execute_reply": "2022-03-21T04:07:06.147864Z"
    },
    "papermill": {
     "duration": 0.026767,
     "end_time": "2022-03-21T04:07:06.147934",
     "exception": false,
     "start_time": "2022-03-21T04:07:06.121167",
     "status": "completed"
    },
    "tags": []
   },
   "outputs": [],
   "source": [
    "# Set this to True if you want to run this template directly\n",
    "STANDALONE = False\n",
    "if STANDALONE:\n",
    "    print(\"parameters not injected, running with standalone_parameters\")\n",
    "    parameters = standalone_parameters\n",
    "\n",
    "if not 'parameters' in locals() and not 'parameters' in globals():\n",
    "    raise Exception(\"Parameter injection failed\")\n",
    "\n",
    "#Use an easy dict for all the parameters\n",
    "p = EasyDict(parameters)\n",
    "\n",
    "if \"x_shape\" not in p:\n",
    "    p.x_shape = [2,256] # Default to this if we dont supply x_shape\n",
    "\n",
    "\n",
    "supplied_keys = set(p.keys())\n",
    "\n",
    "if  supplied_keys != required_parameters:\n",
    "    print(\"Parameters are incorrect\")\n",
    "    if len(supplied_keys - required_parameters)>0: print(\"Shouldn't have:\", str(supplied_keys - required_parameters))\n",
    "    if len(required_parameters - supplied_keys)>0: print(\"Need to have:\", str(required_parameters - supplied_keys))\n",
    "    raise RuntimeError(\"Parameters are incorrect\")"
   ]
  },
  {
   "cell_type": "code",
   "execution_count": 6,
   "id": "3a028d58",
   "metadata": {
    "execution": {
     "iopub.execute_input": "2022-03-21T04:07:06.182147Z",
     "iopub.status.busy": "2022-03-21T04:07:06.181896Z",
     "iopub.status.idle": "2022-03-21T04:07:06.196778Z",
     "shell.execute_reply": "2022-03-21T04:07:06.196322Z"
    },
    "papermill": {
     "duration": 0.029872,
     "end_time": "2022-03-21T04:07:06.196879",
     "exception": false,
     "start_time": "2022-03-21T04:07:06.167007",
     "status": "completed"
    },
    "tags": []
   },
   "outputs": [],
   "source": [
    "###################################\n",
    "# Set the RNGs and make it all deterministic\n",
    "###################################\n",
    "np.random.seed(p.seed)\n",
    "random.seed(p.seed)\n",
    "torch.manual_seed(p.seed)\n",
    "\n",
    "torch.use_deterministic_algorithms(True) "
   ]
  },
  {
   "cell_type": "code",
   "execution_count": 7,
   "id": "b691acf6",
   "metadata": {
    "execution": {
     "iopub.execute_input": "2022-03-21T04:07:06.230562Z",
     "iopub.status.busy": "2022-03-21T04:07:06.230303Z",
     "iopub.status.idle": "2022-03-21T04:07:06.245466Z",
     "shell.execute_reply": "2022-03-21T04:07:06.245672Z"
    },
    "papermill": {
     "duration": 0.030432,
     "end_time": "2022-03-21T04:07:06.245745",
     "exception": false,
     "start_time": "2022-03-21T04:07:06.215313",
     "status": "completed"
    },
    "tags": []
   },
   "outputs": [],
   "source": [
    "###########################################\n",
    "# The stratified datasets honor this\n",
    "###########################################\n",
    "torch.set_default_dtype(eval(p.torch_default_dtype))"
   ]
  },
  {
   "cell_type": "code",
   "execution_count": 8,
   "id": "b5fba671",
   "metadata": {
    "execution": {
     "iopub.execute_input": "2022-03-21T04:07:06.278626Z",
     "iopub.status.busy": "2022-03-21T04:07:06.278102Z",
     "iopub.status.idle": "2022-03-21T04:07:06.315985Z",
     "shell.execute_reply": "2022-03-21T04:07:06.316290Z"
    },
    "papermill": {
     "duration": 0.052705,
     "end_time": "2022-03-21T04:07:06.316405",
     "exception": false,
     "start_time": "2022-03-21T04:07:06.263700",
     "status": "completed"
    },
    "tags": []
   },
   "outputs": [],
   "source": [
    "###################################\n",
    "# Build the network(s)\n",
    "# Note: It's critical to do this AFTER setting the RNG\n",
    "###################################\n",
    "x_net = build_sequential(p.x_net)"
   ]
  },
  {
   "cell_type": "code",
   "execution_count": 9,
   "id": "5d7e61cc",
   "metadata": {
    "execution": {
     "iopub.execute_input": "2022-03-21T04:07:06.348515Z",
     "iopub.status.busy": "2022-03-21T04:07:06.347815Z",
     "iopub.status.idle": "2022-03-21T04:07:06.364894Z",
     "shell.execute_reply": "2022-03-21T04:07:06.365284Z"
    },
    "papermill": {
     "duration": 0.032518,
     "end_time": "2022-03-21T04:07:06.365413",
     "exception": false,
     "start_time": "2022-03-21T04:07:06.332895",
     "status": "completed"
    },
    "tags": []
   },
   "outputs": [],
   "source": [
    "start_time_secs = time.time()"
   ]
  },
  {
   "cell_type": "code",
   "execution_count": 10,
   "id": "c6b67dfd",
   "metadata": {
    "execution": {
     "iopub.execute_input": "2022-03-21T04:07:06.399722Z",
     "iopub.status.busy": "2022-03-21T04:07:06.399459Z",
     "iopub.status.idle": "2022-03-21T04:07:06.410371Z",
     "shell.execute_reply": "2022-03-21T04:07:06.410775Z"
    },
    "papermill": {
     "duration": 0.026571,
     "end_time": "2022-03-21T04:07:06.410905",
     "exception": false,
     "start_time": "2022-03-21T04:07:06.384334",
     "status": "completed"
    },
    "tags": []
   },
   "outputs": [],
   "source": [
    "p.domains_source = []\n",
    "p.domains_target = []\n",
    "\n",
    "\n",
    "train_original_source = []\n",
    "val_original_source   = []\n",
    "test_original_source  = []\n",
    "\n",
    "train_original_target = []\n",
    "val_original_target   = []\n",
    "test_original_target  = []"
   ]
  },
  {
   "cell_type": "code",
   "execution_count": 11,
   "id": "e3d9c3d3",
   "metadata": {
    "execution": {
     "iopub.execute_input": "2022-03-21T04:07:06.445033Z",
     "iopub.status.busy": "2022-03-21T04:07:06.444768Z",
     "iopub.status.idle": "2022-03-21T04:07:06.460937Z",
     "shell.execute_reply": "2022-03-21T04:07:06.460506Z"
    },
    "papermill": {
     "duration": 0.03151,
     "end_time": "2022-03-21T04:07:06.461038",
     "exception": false,
     "start_time": "2022-03-21T04:07:06.429528",
     "status": "completed"
    },
    "tags": []
   },
   "outputs": [],
   "source": [
    "# global_x_transform_func = lambda x: normalize(x.to(torch.get_default_dtype()), \"unit_power\") # unit_power, unit_mag\n",
    "# global_x_transform_func = lambda x: normalize(x, \"unit_power\") # unit_power, unit_mag"
   ]
  },
  {
   "cell_type": "code",
   "execution_count": 12,
   "id": "acb78fd2",
   "metadata": {
    "execution": {
     "iopub.execute_input": "2022-03-21T04:07:06.499426Z",
     "iopub.status.busy": "2022-03-21T04:07:06.499140Z",
     "iopub.status.idle": "2022-03-21T04:07:06.511975Z",
     "shell.execute_reply": "2022-03-21T04:07:06.512386Z"
    },
    "papermill": {
     "duration": 0.032827,
     "end_time": "2022-03-21T04:07:06.512512",
     "exception": false,
     "start_time": "2022-03-21T04:07:06.479685",
     "status": "completed"
    },
    "tags": []
   },
   "outputs": [],
   "source": [
    "def add_dataset(\n",
    "    labels,\n",
    "    domains,\n",
    "    pickle_path,\n",
    "    x_transforms,\n",
    "    episode_transforms,\n",
    "    domain_prefix,\n",
    "    num_examples_per_domain_per_label,\n",
    "    source_or_target_dataset:str,\n",
    "    iterator_seed=p.seed,\n",
    "    dataset_seed=p.dataset_seed,\n",
    "    n_shot=p.n_shot,\n",
    "    n_way=p.n_way,\n",
    "    n_query=p.n_query,\n",
    "    train_val_test_k_factors=(p.train_k_factor,p.val_k_factor,p.test_k_factor),\n",
    "):\n",
    "   \n",
    "    if x_transforms == []: x_transform = None\n",
    "    else: x_transform = get_chained_transform(x_transforms)\n",
    "    \n",
    "    if episode_transforms == []: episode_transform = None\n",
    "    else: raise Exception(\"episode_transforms not implemented\")\n",
    "    \n",
    "    episode_transform = lambda tup, _prefix=domain_prefix: (_prefix + str(tup[0]), tup[1])\n",
    "\n",
    "\n",
    "    eaf = Episodic_Accessor_Factory(\n",
    "        labels=labels,\n",
    "        domains=domains,\n",
    "        num_examples_per_domain_per_label=num_examples_per_domain_per_label,\n",
    "        iterator_seed=iterator_seed,\n",
    "        dataset_seed=dataset_seed,\n",
    "        n_shot=n_shot,\n",
    "        n_way=n_way,\n",
    "        n_query=n_query,\n",
    "        train_val_test_k_factors=train_val_test_k_factors,\n",
    "        pickle_path=pickle_path,\n",
    "        x_transform_func=x_transform,\n",
    "    )\n",
    "\n",
    "    train, val, test = eaf.get_train(), eaf.get_val(), eaf.get_test()\n",
    "    train = Lazy_Iterable_Wrapper(train, episode_transform)\n",
    "    val = Lazy_Iterable_Wrapper(val, episode_transform)\n",
    "    test = Lazy_Iterable_Wrapper(test, episode_transform)\n",
    "\n",
    "    if source_or_target_dataset==\"source\":\n",
    "        train_original_source.append(train)\n",
    "        val_original_source.append(val)\n",
    "        test_original_source.append(test)\n",
    "\n",
    "        p.domains_source.extend(\n",
    "            [domain_prefix + str(u) for u in domains]\n",
    "        )\n",
    "    elif source_or_target_dataset==\"target\":\n",
    "        train_original_target.append(train)\n",
    "        val_original_target.append(val)\n",
    "        test_original_target.append(test)\n",
    "        p.domains_target.extend(\n",
    "            [domain_prefix + str(u) for u in domains]\n",
    "        )\n",
    "    else:\n",
    "        raise Exception(f\"invalid source_or_target_dataset: {source_or_target_dataset}\")\n",
    "    "
   ]
  },
  {
   "cell_type": "code",
   "execution_count": 13,
   "id": "fe266617",
   "metadata": {
    "execution": {
     "iopub.execute_input": "2022-03-21T04:07:06.548540Z",
     "iopub.status.busy": "2022-03-21T04:07:06.547729Z",
     "iopub.status.idle": "2022-03-21T04:07:29.561781Z",
     "shell.execute_reply": "2022-03-21T04:07:29.561234Z"
    },
    "papermill": {
     "duration": 23.030198,
     "end_time": "2022-03-21T04:07:29.561897",
     "exception": false,
     "start_time": "2022-03-21T04:07:06.531699",
     "status": "completed"
    },
    "tags": []
   },
   "outputs": [],
   "source": [
    "for ds in p.datasets:\n",
    "    add_dataset(**ds)"
   ]
  },
  {
   "cell_type": "code",
   "execution_count": 14,
   "id": "b90d65ac",
   "metadata": {
    "execution": {
     "iopub.execute_input": "2022-03-21T04:07:29.595178Z",
     "iopub.status.busy": "2022-03-21T04:07:29.594765Z",
     "iopub.status.idle": "2022-03-21T04:07:29.609912Z",
     "shell.execute_reply": "2022-03-21T04:07:29.609547Z"
    },
    "papermill": {
     "duration": 0.032756,
     "end_time": "2022-03-21T04:07:29.609998",
     "exception": false,
     "start_time": "2022-03-21T04:07:29.577242",
     "status": "completed"
    },
    "tags": []
   },
   "outputs": [],
   "source": [
    "# from steves_utils.CORES.utils import (\n",
    "#     ALL_NODES,\n",
    "#     ALL_NODES_MINIMUM_1000_EXAMPLES,\n",
    "#     ALL_DAYS\n",
    "# )\n",
    "\n",
    "# add_dataset(\n",
    "#     labels=ALL_NODES,\n",
    "#     domains = ALL_DAYS,\n",
    "#     num_examples_per_domain_per_label=100,\n",
    "#     pickle_path=os.path.join(get_datasets_base_path(), \"cores.stratified_ds.2022A.pkl\"),\n",
    "#     source_or_target_dataset=\"target\",\n",
    "#     x_transform_func=global_x_transform_func,\n",
    "#     domain_modifier=lambda u: f\"cores_{u}\"\n",
    "# )"
   ]
  },
  {
   "cell_type": "code",
   "execution_count": 15,
   "id": "76db484d",
   "metadata": {
    "execution": {
     "iopub.execute_input": "2022-03-21T04:07:29.647528Z",
     "iopub.status.busy": "2022-03-21T04:07:29.646997Z",
     "iopub.status.idle": "2022-03-21T04:07:29.661329Z",
     "shell.execute_reply": "2022-03-21T04:07:29.660911Z"
    },
    "papermill": {
     "duration": 0.031798,
     "end_time": "2022-03-21T04:07:29.661435",
     "exception": false,
     "start_time": "2022-03-21T04:07:29.629637",
     "status": "completed"
    },
    "tags": []
   },
   "outputs": [],
   "source": [
    "# from steves_utils.ORACLE.utils_v2 import (\n",
    "#     ALL_DISTANCES_FEET,\n",
    "#     ALL_RUNS,\n",
    "#     ALL_SERIAL_NUMBERS,\n",
    "# )\n",
    "\n",
    "\n",
    "# add_dataset(\n",
    "#     labels=ALL_SERIAL_NUMBERS,\n",
    "#     domains = list(set(ALL_DISTANCES_FEET) - {2,62}),\n",
    "#     num_examples_per_domain_per_label=100,\n",
    "#     pickle_path=os.path.join(get_datasets_base_path(), \"oracle.Run2_framed_2000Examples_stratified_ds.2022A.pkl\"),\n",
    "#     source_or_target_dataset=\"source\",\n",
    "#     x_transform_func=global_x_transform_func,\n",
    "#     domain_modifier=lambda u: f\"oracle1_{u}\"\n",
    "# )\n"
   ]
  },
  {
   "cell_type": "code",
   "execution_count": 16,
   "id": "97dea9d2",
   "metadata": {
    "execution": {
     "iopub.execute_input": "2022-03-21T04:07:29.697858Z",
     "iopub.status.busy": "2022-03-21T04:07:29.697595Z",
     "iopub.status.idle": "2022-03-21T04:07:29.712592Z",
     "shell.execute_reply": "2022-03-21T04:07:29.712989Z"
    },
    "papermill": {
     "duration": 0.031919,
     "end_time": "2022-03-21T04:07:29.713124",
     "exception": false,
     "start_time": "2022-03-21T04:07:29.681205",
     "status": "completed"
    },
    "tags": []
   },
   "outputs": [],
   "source": [
    "# from steves_utils.ORACLE.utils_v2 import (\n",
    "#     ALL_DISTANCES_FEET,\n",
    "#     ALL_RUNS,\n",
    "#     ALL_SERIAL_NUMBERS,\n",
    "# )\n",
    "\n",
    "\n",
    "# add_dataset(\n",
    "#     labels=ALL_SERIAL_NUMBERS,\n",
    "#     domains = list(set(ALL_DISTANCES_FEET) - {2,62,56}),\n",
    "#     num_examples_per_domain_per_label=100,\n",
    "#     pickle_path=os.path.join(get_datasets_base_path(), \"oracle.Run2_framed_2000Examples_stratified_ds.2022A.pkl\"),\n",
    "#     source_or_target_dataset=\"source\",\n",
    "#     x_transform_func=global_x_transform_func,\n",
    "#     domain_modifier=lambda u: f\"oracle2_{u}\"\n",
    "# )"
   ]
  },
  {
   "cell_type": "code",
   "execution_count": 17,
   "id": "6f289866",
   "metadata": {
    "execution": {
     "iopub.execute_input": "2022-03-21T04:07:29.748675Z",
     "iopub.status.busy": "2022-03-21T04:07:29.748365Z",
     "iopub.status.idle": "2022-03-21T04:07:29.762582Z",
     "shell.execute_reply": "2022-03-21T04:07:29.762140Z"
    },
    "papermill": {
     "duration": 0.030112,
     "end_time": "2022-03-21T04:07:29.762690",
     "exception": false,
     "start_time": "2022-03-21T04:07:29.732578",
     "status": "completed"
    },
    "tags": []
   },
   "outputs": [],
   "source": [
    "# add_dataset(\n",
    "#     labels=list(range(19)),\n",
    "#     domains = [0,1,2],\n",
    "#     num_examples_per_domain_per_label=100,\n",
    "#     pickle_path=os.path.join(get_datasets_base_path(), \"metehan.stratified_ds.2022A.pkl\"),\n",
    "#     source_or_target_dataset=\"target\",\n",
    "#     x_transform_func=global_x_transform_func,\n",
    "#     domain_modifier=lambda u: f\"met_{u}\"\n",
    "# )"
   ]
  },
  {
   "cell_type": "code",
   "execution_count": 18,
   "id": "86a863c3",
   "metadata": {
    "execution": {
     "iopub.execute_input": "2022-03-21T04:07:29.800125Z",
     "iopub.status.busy": "2022-03-21T04:07:29.797957Z",
     "iopub.status.idle": "2022-03-21T04:07:29.811308Z",
     "shell.execute_reply": "2022-03-21T04:07:29.810884Z"
    },
    "papermill": {
     "duration": 0.02944,
     "end_time": "2022-03-21T04:07:29.811395",
     "exception": false,
     "start_time": "2022-03-21T04:07:29.781955",
     "status": "completed"
    },
    "tags": []
   },
   "outputs": [],
   "source": [
    "# # from steves_utils.wisig.utils import (\n",
    "# #     ALL_NODES_MINIMUM_100_EXAMPLES,\n",
    "# #     ALL_NODES_MINIMUM_500_EXAMPLES,\n",
    "# #     ALL_NODES_MINIMUM_1000_EXAMPLES,\n",
    "# #     ALL_DAYS\n",
    "# # )\n",
    "\n",
    "# import steves_utils.wisig.utils as wisig\n",
    "\n",
    "\n",
    "# add_dataset(\n",
    "#     labels=wisig.ALL_NODES_MINIMUM_100_EXAMPLES,\n",
    "#     domains = wisig.ALL_DAYS,\n",
    "#     num_examples_per_domain_per_label=100,\n",
    "#     pickle_path=os.path.join(get_datasets_base_path(), \"wisig.node3-19.stratified_ds.2022A.pkl\"),\n",
    "#     source_or_target_dataset=\"target\",\n",
    "#     x_transform_func=global_x_transform_func,\n",
    "#     domain_modifier=lambda u: f\"wisig_{u}\"\n",
    "# )"
   ]
  },
  {
   "cell_type": "code",
   "execution_count": 19,
   "id": "fd5442bc",
   "metadata": {
    "execution": {
     "iopub.execute_input": "2022-03-21T04:07:29.851152Z",
     "iopub.status.busy": "2022-03-21T04:07:29.850872Z",
     "iopub.status.idle": "2022-03-21T04:07:29.864479Z",
     "shell.execute_reply": "2022-03-21T04:07:29.864055Z"
    },
    "papermill": {
     "duration": 0.032908,
     "end_time": "2022-03-21T04:07:29.864570",
     "exception": false,
     "start_time": "2022-03-21T04:07:29.831662",
     "status": "completed"
    },
    "tags": []
   },
   "outputs": [],
   "source": [
    "###################################\n",
    "# Build the dataset\n",
    "###################################\n",
    "train_original_source = Iterable_Aggregator(train_original_source, p.seed)\n",
    "val_original_source = Iterable_Aggregator(val_original_source, p.seed)\n",
    "test_original_source = Iterable_Aggregator(test_original_source, p.seed)\n",
    "\n",
    "\n",
    "train_original_target = Iterable_Aggregator(train_original_target, p.seed)\n",
    "val_original_target = Iterable_Aggregator(val_original_target, p.seed)\n",
    "test_original_target = Iterable_Aggregator(test_original_target, p.seed)\n",
    "\n",
    "# For CNN We only use X and Y. And we only train on the source.\n",
    "# Properly form the data using a transform lambda and Lazy_Iterable_Wrapper. Finally wrap them in a dataloader\n",
    "\n",
    "transform_lambda = lambda ex: ex[1] # Original is (<domain>, <episode>) so we strip down to episode only\n",
    "\n",
    "train_processed_source = Lazy_Iterable_Wrapper(train_original_source, transform_lambda)\n",
    "val_processed_source   = Lazy_Iterable_Wrapper(val_original_source, transform_lambda)\n",
    "test_processed_source  = Lazy_Iterable_Wrapper(test_original_source, transform_lambda)\n",
    "\n",
    "train_processed_target = Lazy_Iterable_Wrapper(train_original_target, transform_lambda)\n",
    "val_processed_target   = Lazy_Iterable_Wrapper(val_original_target, transform_lambda)\n",
    "test_processed_target  = Lazy_Iterable_Wrapper(test_original_target, transform_lambda)\n",
    "\n",
    "datasets = EasyDict({\n",
    "    \"source\": {\n",
    "        \"original\": {\"train\":train_original_source, \"val\":val_original_source, \"test\":test_original_source},\n",
    "        \"processed\": {\"train\":train_processed_source, \"val\":val_processed_source, \"test\":test_processed_source}\n",
    "    },\n",
    "    \"target\": {\n",
    "        \"original\": {\"train\":train_original_target, \"val\":val_original_target, \"test\":test_original_target},\n",
    "        \"processed\": {\"train\":train_processed_target, \"val\":val_processed_target, \"test\":test_processed_target}\n",
    "    },\n",
    "})"
   ]
  },
  {
   "cell_type": "code",
   "execution_count": 20,
   "id": "5b3c01fc",
   "metadata": {
    "execution": {
     "iopub.execute_input": "2022-03-21T04:07:29.901366Z",
     "iopub.status.busy": "2022-03-21T04:07:29.901088Z",
     "iopub.status.idle": "2022-03-21T04:07:39.510701Z",
     "shell.execute_reply": "2022-03-21T04:07:39.510947Z"
    },
    "papermill": {
     "duration": 9.630074,
     "end_time": "2022-03-21T04:07:39.511030",
     "exception": false,
     "start_time": "2022-03-21T04:07:29.880956",
     "status": "completed"
    },
    "tags": []
   },
   "outputs": [
    {
     "name": "stdout",
     "output_type": "stream",
     "text": [
      "{'O_26', 'O_14', 'O_8', 'O_44', 'O_20', 'O_32', 'O_50', 'O_38'}\n"
     ]
    },
    {
     "name": "stdout",
     "output_type": "stream",
     "text": [
      "{'W_4', 'C_4', 'W_3', 'C_5', 'C_2', 'W_1', 'W_2', 'C_3', 'C_1'}\n"
     ]
    },
    {
     "name": "stdout",
     "output_type": "stream",
     "text": [
      "tensor([[[ 9.4607e-04,  2.0838e-03, -4.8982e-04,  ...,  7.0501e-04,\n",
      "          -1.3730e-04,  1.8651e-03],\n",
      "         [-7.3244e-04,  5.1373e-04,  5.5381e-04,  ...,  1.1186e-03,\n",
      "           1.9094e-03,  2.9535e-04]],\n",
      "\n",
      "        [[ 1.8311e-04,  2.2850e-03,  4.1729e-04,  ...,  6.2979e-04,\n",
      "           7.4248e-05,  1.9375e-03],\n",
      "         [-1.1597e-03, -2.1021e-04,  8.9464e-04,  ...,  7.2088e-04,\n",
      "           2.1401e-03,  3.2306e-04]],\n",
      "\n",
      "        [[-1.7396e-03, -1.6951e-04,  2.5856e-03,  ...,  3.9022e-04,\n",
      "          -1.6906e-03, -2.1310e-03],\n",
      "         [-5.1881e-04, -5.7247e-04,  2.8093e-05,  ..., -1.7346e-03,\n",
      "          -1.3323e-03, -1.3298e-03]],\n",
      "\n",
      "        ...,\n",
      "\n",
      "        [[-6.7141e-04,  3.3706e-04,  9.0093e-04,  ...,  1.2609e-03,\n",
      "           2.5123e-03,  1.2147e-03],\n",
      "         [-5.4933e-04, -2.4524e-03, -1.9597e-04,  ..., -1.7514e-03,\n",
      "           2.8705e-04, -1.0419e-03]],\n",
      "\n",
      "        [[ 1.1292e-03, -5.5049e-04, -1.4775e-03,  ..., -1.6268e-03,\n",
      "          -2.0009e-03, -9.0898e-05],\n",
      "         [ 1.8006e-03,  2.5817e-03, -9.4251e-04,  ...,  3.9293e-04,\n",
      "          -1.8269e-04,  2.1178e-03]],\n",
      "\n",
      "        [[ 8.8504e-04, -1.0138e-03, -1.7318e-03,  ..., -2.1742e-03,\n",
      "          -1.8588e-03, -5.6852e-04],\n",
      "         [ 2.0753e-03,  2.4920e-03, -1.4041e-03,  ...,  3.1050e-04,\n",
      "           4.1499e-04,  2.8304e-03]]])\n"
     ]
    }
   ],
   "source": [
    "from steves_utils.transforms import get_average_magnitude, get_average_power\n",
    "\n",
    "print(set([u for u,_ in val_original_source]))\n",
    "print(set([u for u,_ in val_original_target]))\n",
    "\n",
    "s_x, s_y, q_x, q_y, _ = next(iter(train_processed_source))\n",
    "print(s_x)\n",
    "\n",
    "# for ds in [\n",
    "#     train_processed_source,\n",
    "#     val_processed_source,\n",
    "#     test_processed_source,\n",
    "#     train_processed_target,\n",
    "#     val_processed_target,\n",
    "#     test_processed_target\n",
    "# ]:\n",
    "#     for s_x, s_y, q_x, q_y, _ in ds:\n",
    "#         for X in (s_x, q_x):\n",
    "#             for x in X:\n",
    "#                 assert np.isclose(get_average_magnitude(x.numpy()), 1.0)\n",
    "#                 assert np.isclose(get_average_power(x.numpy()), 1.0)\n",
    "                "
   ]
  },
  {
   "cell_type": "code",
   "execution_count": 21,
   "id": "bbdacba1",
   "metadata": {
    "execution": {
     "iopub.execute_input": "2022-03-21T04:07:39.550918Z",
     "iopub.status.busy": "2022-03-21T04:07:39.550549Z",
     "iopub.status.idle": "2022-03-21T04:07:39.602984Z",
     "shell.execute_reply": "2022-03-21T04:07:39.603448Z"
    },
    "papermill": {
     "duration": 0.073592,
     "end_time": "2022-03-21T04:07:39.603584",
     "exception": false,
     "start_time": "2022-03-21T04:07:39.529992",
     "status": "completed"
    },
    "tags": []
   },
   "outputs": [
    {
     "name": "stdout",
     "output_type": "stream",
     "text": [
      "(2, 200)\n"
     ]
    }
   ],
   "source": [
    "###################################\n",
    "# Build the model\n",
    "###################################\n",
    "# easfsl only wants a tuple for the shape\n",
    "model = Steves_Prototypical_Network(x_net, device=p.device, x_shape=tuple(p.x_shape))\n",
    "optimizer = Adam(params=model.parameters(), lr=p.lr)"
   ]
  },
  {
   "cell_type": "code",
   "execution_count": 22,
   "id": "22b39ac5",
   "metadata": {
    "execution": {
     "iopub.execute_input": "2022-03-21T04:07:39.648216Z",
     "iopub.status.busy": "2022-03-21T04:07:39.647715Z",
     "iopub.status.idle": "2022-03-21T04:35:19.607533Z",
     "shell.execute_reply": "2022-03-21T04:35:19.607293Z"
    },
    "papermill": {
     "duration": 1659.984688,
     "end_time": "2022-03-21T04:35:19.607593",
     "exception": false,
     "start_time": "2022-03-21T04:07:39.622905",
     "status": "completed"
    },
    "tags": []
   },
   "outputs": [
    {
     "name": "stdout",
     "output_type": "stream",
     "text": [
      "epoch: 1, [batch: 1 / 6720], examples_per_second: 41.1295, train_label_loss: 2.8431, \n"
     ]
    },
    {
     "name": "stdout",
     "output_type": "stream",
     "text": [
      "epoch: 1, [batch: 672 / 6720], examples_per_second: 1782.3801, train_label_loss: 0.5853, \n"
     ]
    },
    {
     "name": "stdout",
     "output_type": "stream",
     "text": [
      "epoch: 1, [batch: 1344 / 6720], examples_per_second: 1782.3559, train_label_loss: 0.4989, \n"
     ]
    },
    {
     "name": "stdout",
     "output_type": "stream",
     "text": [
      "epoch: 1, [batch: 2016 / 6720], examples_per_second: 1781.7706, train_label_loss: 0.4663, \n"
     ]
    },
    {
     "name": "stdout",
     "output_type": "stream",
     "text": [
      "epoch: 1, [batch: 2688 / 6720], examples_per_second: 1773.7566, train_label_loss: 0.6514, \n"
     ]
    },
    {
     "name": "stdout",
     "output_type": "stream",
     "text": [
      "epoch: 1, [batch: 3360 / 6720], examples_per_second: 1787.2492, train_label_loss: 0.5026, \n"
     ]
    },
    {
     "name": "stdout",
     "output_type": "stream",
     "text": [
      "epoch: 1, [batch: 4032 / 6720], examples_per_second: 1780.9205, train_label_loss: 0.2361, \n"
     ]
    },
    {
     "name": "stdout",
     "output_type": "stream",
     "text": [
      "epoch: 1, [batch: 4704 / 6720], examples_per_second: 1775.9125, train_label_loss: 0.4861, \n"
     ]
    },
    {
     "name": "stdout",
     "output_type": "stream",
     "text": [
      "epoch: 1, [batch: 5376 / 6720], examples_per_second: 1779.2127, train_label_loss: 0.3858, \n"
     ]
    },
    {
     "name": "stdout",
     "output_type": "stream",
     "text": [
      "epoch: 1, [batch: 6048 / 6720], examples_per_second: 1776.9377, train_label_loss: 0.3620, \n"
     ]
    },
    {
     "name": "stdout",
     "output_type": "stream",
     "text": [
      "=============================================================\n",
      "epoch: 1, source_val_acc_label: 0.5575, target_val_acc_label: 0.5494, source_val_label_loss: 189.6869, target_val_label_loss: 17138.6934, \n",
      "=============================================================\n"
     ]
    },
    {
     "name": "stdout",
     "output_type": "stream",
     "text": [
      "New best\n"
     ]
    },
    {
     "name": "stdout",
     "output_type": "stream",
     "text": [
      "epoch: 2, [batch: 1 / 6720], examples_per_second: 2.3132, train_label_loss: 0.8305, \n"
     ]
    },
    {
     "name": "stdout",
     "output_type": "stream",
     "text": [
      "epoch: 2, [batch: 672 / 6720], examples_per_second: 2219.5623, train_label_loss: 0.7649, \n"
     ]
    },
    {
     "name": "stdout",
     "output_type": "stream",
     "text": [
      "epoch: 2, [batch: 1344 / 6720], examples_per_second: 2720.6442, train_label_loss: 0.8313, \n"
     ]
    },
    {
     "name": "stdout",
     "output_type": "stream",
     "text": [
      "epoch: 2, [batch: 2016 / 6720], examples_per_second: 1785.9805, train_label_loss: 0.1920, \n"
     ]
    },
    {
     "name": "stdout",
     "output_type": "stream",
     "text": [
      "epoch: 2, [batch: 2688 / 6720], examples_per_second: 1780.8233, train_label_loss: 0.1064, \n"
     ]
    },
    {
     "name": "stdout",
     "output_type": "stream",
     "text": [
      "epoch: 2, [batch: 3360 / 6720], examples_per_second: 1782.0210, train_label_loss: 2.3868, \n"
     ]
    },
    {
     "name": "stdout",
     "output_type": "stream",
     "text": [
      "epoch: 2, [batch: 4032 / 6720], examples_per_second: 1786.9579, train_label_loss: 0.5338, \n"
     ]
    },
    {
     "name": "stdout",
     "output_type": "stream",
     "text": [
      "epoch: 2, [batch: 4704 / 6720], examples_per_second: 1782.1782, train_label_loss: 0.8746, \n"
     ]
    },
    {
     "name": "stdout",
     "output_type": "stream",
     "text": [
      "epoch: 2, [batch: 5376 / 6720], examples_per_second: 1782.8454, train_label_loss: 0.3866, \n"
     ]
    },
    {
     "name": "stdout",
     "output_type": "stream",
     "text": [
      "epoch: 2, [batch: 6048 / 6720], examples_per_second: 1790.0767, train_label_loss: 0.2314, \n"
     ]
    },
    {
     "name": "stdout",
     "output_type": "stream",
     "text": [
      "=============================================================\n",
      "epoch: 2, source_val_acc_label: 0.8647, target_val_acc_label: 0.3764, source_val_label_loss: 0.3767, target_val_label_loss: 4221.9814, \n",
      "=============================================================\n"
     ]
    },
    {
     "name": "stdout",
     "output_type": "stream",
     "text": [
      "epoch: 3, [batch: 1 / 6720], examples_per_second: 2.1468, train_label_loss: 0.7139, \n"
     ]
    },
    {
     "name": "stdout",
     "output_type": "stream",
     "text": [
      "epoch: 3, [batch: 672 / 6720], examples_per_second: 1786.4451, train_label_loss: 0.1413, \n"
     ]
    },
    {
     "name": "stdout",
     "output_type": "stream",
     "text": [
      "epoch: 3, [batch: 1344 / 6720], examples_per_second: 1789.2829, train_label_loss: 0.3594, \n"
     ]
    },
    {
     "name": "stdout",
     "output_type": "stream",
     "text": [
      "epoch: 3, [batch: 2016 / 6720], examples_per_second: 1790.5085, train_label_loss: 0.2289, \n"
     ]
    },
    {
     "name": "stdout",
     "output_type": "stream",
     "text": [
      "epoch: 3, [batch: 2688 / 6720], examples_per_second: 1780.2323, train_label_loss: 0.3277, \n"
     ]
    },
    {
     "name": "stdout",
     "output_type": "stream",
     "text": [
      "epoch: 3, [batch: 3360 / 6720], examples_per_second: 1785.0356, train_label_loss: 0.2891, \n"
     ]
    },
    {
     "name": "stdout",
     "output_type": "stream",
     "text": [
      "epoch: 3, [batch: 4032 / 6720], examples_per_second: 1785.9528, train_label_loss: 0.4071, \n"
     ]
    },
    {
     "name": "stdout",
     "output_type": "stream",
     "text": [
      "epoch: 3, [batch: 4704 / 6720], examples_per_second: 1781.3171, train_label_loss: 0.3062, \n"
     ]
    },
    {
     "name": "stdout",
     "output_type": "stream",
     "text": [
      "epoch: 3, [batch: 5376 / 6720], examples_per_second: 1782.5154, train_label_loss: 0.6151, \n"
     ]
    },
    {
     "name": "stdout",
     "output_type": "stream",
     "text": [
      "epoch: 3, [batch: 6048 / 6720], examples_per_second: 1887.7687, train_label_loss: 0.2922, \n"
     ]
    },
    {
     "name": "stdout",
     "output_type": "stream",
     "text": [
      "=============================================================\n",
      "epoch: 3, source_val_acc_label: 0.8929, target_val_acc_label: 0.4026, source_val_label_loss: 0.3457, target_val_label_loss: 4267.8101, \n",
      "=============================================================\n"
     ]
    },
    {
     "name": "stdout",
     "output_type": "stream",
     "text": [
      "epoch: 4, [batch: 1 / 6720], examples_per_second: 2.7300, train_label_loss: 0.5871, \n"
     ]
    },
    {
     "name": "stdout",
     "output_type": "stream",
     "text": [
      "epoch: 4, [batch: 672 / 6720], examples_per_second: 1890.6622, train_label_loss: 0.1541, \n"
     ]
    },
    {
     "name": "stdout",
     "output_type": "stream",
     "text": [
      "epoch: 4, [batch: 1344 / 6720], examples_per_second: 1786.9247, train_label_loss: 0.3257, \n"
     ]
    },
    {
     "name": "stdout",
     "output_type": "stream",
     "text": [
      "epoch: 4, [batch: 2016 / 6720], examples_per_second: 1786.4966, train_label_loss: 0.1842, \n"
     ]
    },
    {
     "name": "stdout",
     "output_type": "stream",
     "text": [
      "epoch: 4, [batch: 2688 / 6720], examples_per_second: 1779.5904, train_label_loss: 0.4688, \n"
     ]
    },
    {
     "name": "stdout",
     "output_type": "stream",
     "text": [
      "epoch: 4, [batch: 3360 / 6720], examples_per_second: 1782.0664, train_label_loss: 0.3330, \n"
     ]
    },
    {
     "name": "stdout",
     "output_type": "stream",
     "text": [
      "epoch: 4, [batch: 4032 / 6720], examples_per_second: 1782.8016, train_label_loss: 0.5062, \n"
     ]
    },
    {
     "name": "stdout",
     "output_type": "stream",
     "text": [
      "epoch: 4, [batch: 4704 / 6720], examples_per_second: 1786.9374, train_label_loss: 0.6487, \n"
     ]
    },
    {
     "name": "stdout",
     "output_type": "stream",
     "text": [
      "epoch: 4, [batch: 5376 / 6720], examples_per_second: 1786.0454, train_label_loss: 0.1939, \n"
     ]
    },
    {
     "name": "stdout",
     "output_type": "stream",
     "text": [
      "epoch: 4, [batch: 6048 / 6720], examples_per_second: 1787.1233, train_label_loss: 0.5904, \n"
     ]
    },
    {
     "name": "stdout",
     "output_type": "stream",
     "text": [
      "=============================================================\n",
      "epoch: 4, source_val_acc_label: 0.8979, target_val_acc_label: 0.4022, source_val_label_loss: 0.2978, target_val_label_loss: 5003.6362, \n",
      "=============================================================\n"
     ]
    },
    {
     "name": "stdout",
     "output_type": "stream",
     "text": [
      "epoch: 5, [batch: 1 / 6720], examples_per_second: 2.1396, train_label_loss: 0.1643, \n"
     ]
    },
    {
     "name": "stdout",
     "output_type": "stream",
     "text": [
      "epoch: 5, [batch: 672 / 6720], examples_per_second: 1792.8029, train_label_loss: 0.7552, \n"
     ]
    },
    {
     "name": "stdout",
     "output_type": "stream",
     "text": [
      "epoch: 5, [batch: 1344 / 6720], examples_per_second: 1787.5940, train_label_loss: 0.1954, \n"
     ]
    },
    {
     "name": "stdout",
     "output_type": "stream",
     "text": [
      "epoch: 5, [batch: 2016 / 6720], examples_per_second: 1787.2091, train_label_loss: 0.2304, \n"
     ]
    },
    {
     "name": "stdout",
     "output_type": "stream",
     "text": [
      "epoch: 5, [batch: 2688 / 6720], examples_per_second: 1780.7997, train_label_loss: 0.1853, \n"
     ]
    },
    {
     "name": "stdout",
     "output_type": "stream",
     "text": [
      "epoch: 5, [batch: 3360 / 6720], examples_per_second: 1783.1412, train_label_loss: 0.2882, \n"
     ]
    },
    {
     "name": "stdout",
     "output_type": "stream",
     "text": [
      "epoch: 5, [batch: 4032 / 6720], examples_per_second: 1782.2256, train_label_loss: 0.0866, \n"
     ]
    },
    {
     "name": "stdout",
     "output_type": "stream",
     "text": [
      "epoch: 5, [batch: 4704 / 6720], examples_per_second: 1777.9237, train_label_loss: 0.1856, \n"
     ]
    },
    {
     "name": "stdout",
     "output_type": "stream",
     "text": [
      "epoch: 5, [batch: 5376 / 6720], examples_per_second: 2268.4657, train_label_loss: 0.2393, \n"
     ]
    },
    {
     "name": "stdout",
     "output_type": "stream",
     "text": [
      "epoch: 5, [batch: 6048 / 6720], examples_per_second: 2318.9002, train_label_loss: 0.4833, \n"
     ]
    },
    {
     "name": "stdout",
     "output_type": "stream",
     "text": [
      "=============================================================\n",
      "epoch: 5, source_val_acc_label: 0.9082, target_val_acc_label: 0.4001, source_val_label_loss: 0.2800, target_val_label_loss: 4455.9512, \n",
      "=============================================================\n"
     ]
    },
    {
     "name": "stdout",
     "output_type": "stream",
     "text": [
      "Patience (3) exhausted\n"
     ]
    }
   ],
   "source": [
    "###################################\n",
    "# train\n",
    "###################################\n",
    "jig = PTN_Train_Eval_Test_Jig(model, p.BEST_MODEL_PATH, p.device)\n",
    "\n",
    "jig.train(\n",
    "    train_iterable=datasets.source.processed.train,\n",
    "    source_val_iterable=datasets.source.processed.val,\n",
    "    target_val_iterable=datasets.target.processed.val,\n",
    "    num_epochs=p.n_epoch,\n",
    "    num_logs_per_epoch=p.NUM_LOGS_PER_EPOCH,\n",
    "    patience=p.patience,\n",
    "    optimizer=optimizer,\n",
    "    criteria_for_best=p.criteria_for_best,\n",
    ")"
   ]
  },
  {
   "cell_type": "code",
   "execution_count": 23,
   "id": "31e8fabf",
   "metadata": {
    "execution": {
     "iopub.execute_input": "2022-03-21T04:35:19.661953Z",
     "iopub.status.busy": "2022-03-21T04:35:19.660601Z",
     "iopub.status.idle": "2022-03-21T04:35:19.680772Z",
     "shell.execute_reply": "2022-03-21T04:35:19.680271Z"
    },
    "papermill": {
     "duration": 0.047584,
     "end_time": "2022-03-21T04:35:19.680884",
     "exception": false,
     "start_time": "2022-03-21T04:35:19.633300",
     "status": "completed"
    },
    "tags": []
   },
   "outputs": [],
   "source": [
    "total_experiment_time_secs = time.time() - start_time_secs"
   ]
  },
  {
   "cell_type": "code",
   "execution_count": 24,
   "id": "87b9595b",
   "metadata": {
    "execution": {
     "iopub.execute_input": "2022-03-21T04:35:19.744679Z",
     "iopub.status.busy": "2022-03-21T04:35:19.744373Z",
     "iopub.status.idle": "2022-03-21T04:39:07.919108Z",
     "shell.execute_reply": "2022-03-21T04:39:07.919564Z"
    },
    "papermill": {
     "duration": 228.207476,
     "end_time": "2022-03-21T04:39:07.919701",
     "exception": false,
     "start_time": "2022-03-21T04:35:19.712225",
     "status": "completed"
    },
    "tags": []
   },
   "outputs": [],
   "source": [
    "###################################\n",
    "# Evaluate the model\n",
    "###################################\n",
    "source_test_label_accuracy, source_test_label_loss = jig.test(datasets.source.processed.test)\n",
    "target_test_label_accuracy, target_test_label_loss = jig.test(datasets.target.processed.test)\n",
    "\n",
    "source_val_label_accuracy, source_val_label_loss = jig.test(datasets.source.processed.val)\n",
    "target_val_label_accuracy, target_val_label_loss = jig.test(datasets.target.processed.val)\n",
    "\n",
    "history = jig.get_history()\n",
    "\n",
    "total_epochs_trained = len(history[\"epoch_indices\"])\n",
    "\n",
    "val_dl = Iterable_Aggregator((datasets.source.original.val,datasets.target.original.val))\n",
    "\n",
    "confusion = ptn_confusion_by_domain_over_dataloader(model, p.device, val_dl)\n",
    "per_domain_accuracy = per_domain_accuracy_from_confusion(confusion)\n",
    "\n",
    "# Add a key to per_domain_accuracy for if it was a source domain\n",
    "for domain, accuracy in per_domain_accuracy.items():\n",
    "    per_domain_accuracy[domain] = {\n",
    "        \"accuracy\": accuracy,\n",
    "        \"source?\": domain in p.domains_source\n",
    "    }\n",
    "\n",
    "# Do an independent accuracy assesment JUST TO BE SURE!\n",
    "# _source_test_label_accuracy = independent_accuracy_assesment(model, datasets.source.processed.test, p.device)\n",
    "# _target_test_label_accuracy = independent_accuracy_assesment(model, datasets.target.processed.test, p.device)\n",
    "# _source_val_label_accuracy = independent_accuracy_assesment(model, datasets.source.processed.val, p.device)\n",
    "# _target_val_label_accuracy = independent_accuracy_assesment(model, datasets.target.processed.val, p.device)\n",
    "\n",
    "# assert(_source_test_label_accuracy == source_test_label_accuracy)\n",
    "# assert(_target_test_label_accuracy == target_test_label_accuracy)\n",
    "# assert(_source_val_label_accuracy == source_val_label_accuracy)\n",
    "# assert(_target_val_label_accuracy == target_val_label_accuracy)\n",
    "\n",
    "experiment = {\n",
    "    \"experiment_name\": p.experiment_name,\n",
    "    \"parameters\": dict(p),\n",
    "    \"results\": {\n",
    "        \"source_test_label_accuracy\": source_test_label_accuracy,\n",
    "        \"source_test_label_loss\": source_test_label_loss,\n",
    "        \"target_test_label_accuracy\": target_test_label_accuracy,\n",
    "        \"target_test_label_loss\": target_test_label_loss,\n",
    "        \"source_val_label_accuracy\": source_val_label_accuracy,\n",
    "        \"source_val_label_loss\": source_val_label_loss,\n",
    "        \"target_val_label_accuracy\": target_val_label_accuracy,\n",
    "        \"target_val_label_loss\": target_val_label_loss,\n",
    "        \"total_epochs_trained\": total_epochs_trained,\n",
    "        \"total_experiment_time_secs\": total_experiment_time_secs,\n",
    "        \"confusion\": confusion,\n",
    "        \"per_domain_accuracy\": per_domain_accuracy,\n",
    "    },\n",
    "    \"history\": history,\n",
    "    \"dataset_metrics\": get_dataset_metrics(datasets, \"ptn\"),\n",
    "}"
   ]
  },
  {
   "cell_type": "code",
   "execution_count": 25,
   "id": "54a21829",
   "metadata": {
    "execution": {
     "iopub.execute_input": "2022-03-21T04:39:07.986133Z",
     "iopub.status.busy": "2022-03-21T04:39:07.985330Z",
     "iopub.status.idle": "2022-03-21T04:39:08.112878Z",
     "shell.execute_reply": "2022-03-21T04:39:08.112638Z"
    },
    "papermill": {
     "duration": 0.161559,
     "end_time": "2022-03-21T04:39:08.112940",
     "exception": false,
     "start_time": "2022-03-21T04:39:07.951381",
     "status": "completed"
    },
    "tags": []
   },
   "outputs": [
    {
     "data": {
      "image/png": "[encoded data removed]",
      "text/plain": [
       "<Figure size 1080x504 with 1 Axes>"
      ]
     },
     "metadata": {
      "needs_background": "light"
     },
     "output_type": "display_data"
    }
   ],
   "source": [
    "ax = get_loss_curve(experiment)\n",
    "plt.show()"
   ]
  },
  {
   "cell_type": "code",
   "execution_count": 26,
   "id": "fd8a0f60",
   "metadata": {
    "execution": {
     "iopub.execute_input": "2022-03-21T04:39:08.168089Z",
     "iopub.status.busy": "2022-03-21T04:39:08.167826Z",
     "iopub.status.idle": "2022-03-21T04:39:08.329532Z",
     "shell.execute_reply": "2022-03-21T04:39:08.329760Z"
    },
    "papermill": {
     "duration": 0.190491,
     "end_time": "2022-03-21T04:39:08.329843",
     "exception": false,
     "start_time": "2022-03-21T04:39:08.139352",
     "status": "completed"
    },
    "tags": []
   },
   "outputs": [
    {
     "data": {
      "text/plain": [
       "<AxesSubplot:title={'center':'Results'}>"
      ]
     },
     "execution_count": 26,
     "metadata": {},
     "output_type": "execute_result"
    },
    {
     "data": {
      "image/png": "[encoded data removed]",
      "text/plain": [
       "<Figure size 1080x504 with 1 Axes>"
      ]
     },
     "metadata": {
      "needs_background": "light"
     },
     "output_type": "display_data"
    }
   ],
   "source": [
    "get_results_table(experiment)"
   ]
  },
  {
   "cell_type": "code",
   "execution_count": 27,
   "id": "cf8dc689",
   "metadata": {
    "execution": {
     "iopub.execute_input": "2022-03-21T04:39:08.408121Z",
     "iopub.status.busy": "2022-03-21T04:39:08.407851Z",
     "iopub.status.idle": "2022-03-21T04:39:08.569812Z",
     "shell.execute_reply": "2022-03-21T04:39:08.570248Z"
    },
    "papermill": {
     "duration": 0.201477,
     "end_time": "2022-03-21T04:39:08.570392",
     "exception": false,
     "start_time": "2022-03-21T04:39:08.368915",
     "status": "completed"
    },
    "tags": []
   },
   "outputs": [
    {
     "data": {
      "text/plain": [
       "<AxesSubplot:title={'center':'Per Domain Validation Accuracy'}, xlabel='domain'>"
      ]
     },
     "execution_count": 27,
     "metadata": {},
     "output_type": "execute_result"
    },
    {
     "data": {
      "image/png": "[encoded data removed]",
      "text/plain": [
       "<Figure size 1080x504 with 1 Axes>"
      ]
     },
     "metadata": {
      "needs_background": "light"
     },
     "output_type": "display_data"
    }
   ],
   "source": [
    "get_domain_accuracies(experiment)"
   ]
  },
  {
   "cell_type": "code",
   "execution_count": 28,
   "id": "a74ae082",
   "metadata": {
    "execution": {
     "iopub.execute_input": "2022-03-21T04:39:08.635004Z",
     "iopub.status.busy": "2022-03-21T04:39:08.634737Z",
     "iopub.status.idle": "2022-03-21T04:39:08.650397Z",
     "shell.execute_reply": "2022-03-21T04:39:08.650064Z"
    },
    "papermill": {
     "duration": 0.046311,
     "end_time": "2022-03-21T04:39:08.650487",
     "exception": false,
     "start_time": "2022-03-21T04:39:08.604176",
     "status": "completed"
    },
    "tags": []
   },
   "outputs": [
    {
     "name": "stdout",
     "output_type": "stream",
     "text": [
      "Source Test Label Accuracy: 0.5643229166666667 Target Test Label Accuracy: 0.5493908185245019\n",
      "Source Val Label Accuracy: 0.5574869791666667 Target Val Label Accuracy: 0.549352029621503\n"
     ]
    }
   ],
   "source": [
    "print(\"Source Test Label Accuracy:\", experiment[\"results\"][\"source_test_label_accuracy\"], \"Target Test Label Accuracy:\", experiment[\"results\"][\"target_test_label_accuracy\"])\n",
    "print(\"Source Val Label Accuracy:\", experiment[\"results\"][\"source_val_label_accuracy\"], \"Target Val Label Accuracy:\", experiment[\"results\"][\"target_val_label_accuracy\"])"
   ]
  },
  {
   "cell_type": "code",
   "execution_count": 29,
   "id": "dacca602",
   "metadata": {
    "execution": {
     "iopub.execute_input": "2022-03-21T04:39:08.713682Z",
     "iopub.status.busy": "2022-03-21T04:39:08.712920Z",
     "iopub.status.idle": "2022-03-21T04:39:08.739727Z",
     "shell.execute_reply": "2022-03-21T04:39:08.740141Z"
    },
    "papermill": {
     "duration": 0.057595,
     "end_time": "2022-03-21T04:39:08.740275",
     "exception": false,
     "start_time": "2022-03-21T04:39:08.682680",
     "status": "completed"
    },
    "tags": [
     "experiment_json"
    ]
   },
   "outputs": [
    {
     "data": {
      "text/plain": [
       "'{\"experiment_name\": \"tl_3Av2:oracle.run1.framed -> cores+wisig\", \"parameters\": {\"experiment_name\": \"tl_3Av2:oracle.run1.framed -> cores+wisig\", \"device\": \"cuda\", \"lr\": 0.0001, \"x_shape\": [2, 200], \"n_shot\": 3, \"n_query\": 2, \"train_k_factor\": 3, \"val_k_factor\": 2, \"test_k_factor\": 2, \"torch_default_dtype\": \"torch.float32\", \"n_epoch\": 50, \"patience\": 3, \"criteria_for_best\": \"target_accuracy\", \"x_net\": [{\"class\": \"nnReshape\", \"kargs\": {\"shape\": [-1, 1, 2, 200]}}, {\"class\": \"Conv2d\", \"kargs\": {\"in_channels\": 1, \"out_channels\": 256, \"kernel_size\": [1, 7], \"bias\": false, \"padding\": [0, 3]}}, {\"class\": \"ReLU\", \"kargs\": {\"inplace\": true}}, {\"class\": \"BatchNorm2d\", \"kargs\": {\"num_features\": 256}}, {\"class\": \"Conv2d\", \"kargs\": {\"in_channels\": 256, \"out_channels\": 80, \"kernel_size\": [2, 7], \"bias\": true, \"padding\": [0, 3]}}, {\"class\": \"ReLU\", \"kargs\": {\"inplace\": true}}, {\"class\": \"BatchNorm2d\", \"kargs\": {\"num_features\": 80}}, {\"class\": \"Flatten\", \"kargs\": {}}, {\"class\": \"Linear\", \"kargs\": {\"in_features\": 16000, \"out_features\": 256}}, {\"class\": \"ReLU\", \"kargs\": {\"inplace\": true}}, {\"class\": \"BatchNorm1d\", \"kargs\": {\"num_features\": 256}}, {\"class\": \"Linear\", \"kargs\": {\"in_features\": 256, \"out_features\": 256}}], \"NUM_LOGS_PER_EPOCH\": 10, \"BEST_MODEL_PATH\": \"./best_model.pth\", \"n_way\": 16, \"datasets\": [{\"labels\": [\"1-10.\", \"1-11.\", \"1-15.\", \"1-16.\", \"1-17.\", \"1-18.\", \"1-19.\", \"10-4.\", \"10-7.\", \"11-1.\", \"11-14.\", \"11-17.\", \"11-20.\", \"11-7.\", \"13-20.\", \"13-8.\", \"14-10.\", \"14-11.\", \"14-14.\", \"14-7.\", \"15-1.\", \"15-20.\", \"16-1.\", \"16-16.\", \"17-10.\", \"17-11.\", \"17-2.\", \"19-1.\", \"19-16.\", \"19-19.\", \"19-20.\", \"19-3.\", \"2-10.\", \"2-11.\", \"2-17.\", \"2-18.\", \"2-20.\", \"2-3.\", \"2-4.\", \"2-5.\", \"2-6.\", \"2-7.\", \"2-8.\", \"3-13.\", \"3-18.\", \"3-3.\", \"4-1.\", \"4-10.\", \"4-11.\", \"4-19.\", \"5-5.\", \"6-15.\", \"7-10.\", \"7-14.\", \"8-18.\", \"8-20.\", \"8-3.\", \"8-8.\"], \"domains\": [1, 2, 3, 4, 5], \"num_examples_per_domain_per_label\": -1, \"pickle_path\": \"/mnt/wd500GB/CSC500/csc500-main/datasets/cores.stratified_ds.2022A.pkl\", \"source_or_target_dataset\": \"target\", \"x_transforms\": [\"take_200\"], \"episode_transforms\": [], \"domain_prefix\": \"C_\"}, {\"labels\": [\"1-10\", \"1-12\", \"1-14\", \"1-16\", \"1-18\", \"1-19\", \"1-8\", \"10-11\", \"10-17\", \"10-4\", \"10-7\", \"11-1\", \"11-10\", \"11-19\", \"11-20\", \"11-4\", \"11-7\", \"12-19\", \"12-20\", \"12-7\", \"13-14\", \"13-18\", \"13-19\", \"13-20\", \"13-3\", \"13-7\", \"14-10\", \"14-11\", \"14-12\", \"14-13\", \"14-14\", \"14-19\", \"14-20\", \"14-7\", \"14-8\", \"14-9\", \"15-1\", \"15-19\", \"15-6\", \"16-1\", \"16-16\", \"16-19\", \"16-20\", \"17-10\", \"17-11\", \"18-1\", \"18-10\", \"18-11\", \"18-12\", \"18-13\", \"18-14\", \"18-15\", \"18-16\", \"18-17\", \"18-19\", \"18-2\", \"18-20\", \"18-4\", \"18-5\", \"18-7\", \"18-8\", \"18-9\", \"19-1\", \"19-10\", \"19-11\", \"19-12\", \"19-13\", \"19-14\", \"19-15\", \"19-19\", \"19-2\", \"19-20\", \"19-3\", \"19-4\", \"19-6\", \"19-7\", \"19-8\", \"19-9\", \"2-1\", \"2-13\", \"2-15\", \"2-3\", \"2-4\", \"2-5\", \"2-6\", \"2-7\", \"2-8\", \"20-1\", \"20-12\", \"20-14\", \"20-15\", \"20-16\", \"20-18\", \"20-19\", \"20-20\", \"20-3\", \"20-4\", \"20-5\", \"20-7\", \"20-8\", \"3-1\", \"3-13\", \"3-18\", \"3-2\", \"3-8\", \"4-1\", \"4-10\", \"4-11\", \"5-1\", \"5-5\", \"6-1\", \"6-15\", \"6-6\", \"7-10\", \"7-11\", \"7-12\", \"7-13\", \"7-14\", \"7-7\", \"7-8\", \"7-9\", \"8-1\", \"8-13\", \"8-14\", \"8-18\", \"8-20\", \"8-3\", \"8-8\", \"9-1\", \"9-7\"], \"domains\": [1, 2, 3, 4], \"num_examples_per_domain_per_label\": -1, \"pickle_path\": \"/mnt/wd500GB/CSC500/csc500-main/datasets/wisig.node3-19.stratified_ds.2022A.pkl\", \"source_or_target_dataset\": \"target\", \"x_transforms\": [\"take_200\"], \"episode_transforms\": [], \"domain_prefix\": \"W_\"}, {\"labels\": [\"3123D52\", \"3123D65\", \"3123D79\", \"3123D80\", \"3123D54\", \"3123D70\", \"3123D7B\", \"3123D89\", \"3123D58\", \"3123D76\", \"3123D7D\", \"3123EFE\", \"3123D64\", \"3123D78\", \"3123D7E\", \"3124E4A\"], \"domains\": [32, 38, 8, 44, 14, 50, 20, 26], \"num_examples_per_domain_per_label\": 2000, \"pickle_path\": \"/mnt/wd500GB/CSC500/csc500-main/datasets/oracle.Run1_framed_2000Examples_stratified_ds.2022A.pkl\", \"source_or_target_dataset\": \"source\", \"x_transforms\": [\"take_200\", \"resample_20Msps_to_25Msps\"], \"episode_transforms\": [], \"domain_prefix\": \"O_\"}], \"seed\": 500, \"dataset_seed\": 500, \"domains_source\": [\"O_32\", \"O_38\", \"O_8\", \"O_44\", \"O_14\", \"O_50\", \"O_20\", \"O_26\"], \"domains_target\": [\"C_1\", \"C_2\", \"C_3\", \"C_4\", \"C_5\", \"W_1\", \"W_2\", \"W_3\", \"W_4\"]}, \"results\": {\"source_test_label_accuracy\": 0.5643229166666667, \"source_test_label_loss\": 188.53443908691406, \"target_test_label_accuracy\": 0.5493908185245019, \"target_test_label_loss\": 17654.880859375, \"source_val_label_accuracy\": 0.5574869791666667, \"source_val_label_loss\": 189.6869354248047, \"target_val_label_accuracy\": 0.549352029621503, \"target_val_label_loss\": 17138.693359375, \"total_epochs_trained\": 5, \"total_experiment_time_secs\": 1693.315148115158, \"confusion\": {\"O_50\": {\"7\": {\"7\": 224, \"5\": 12, \"4\": 4}, \"10\": {\"10\": 233, \"8\": 5, \"0\": 2}, \"0\": {\"0\": 220, \"2\": 15, \"10\": 5}, \"11\": {\"11\": 220, \"12\": 5, \"15\": 8, \"9\": 7}, \"2\": {\"2\": 222, \"0\": 17, \"14\": 1}, \"14\": {\"14\": 236, \"2\": 4}, \"9\": {\"11\": 18, \"9\": 175, \"12\": 47}, \"13\": {\"13\": 239, \"1\": 1}, \"8\": {\"8\": 238, \"10\": 2}, \"15\": {\"15\": 219, \"6\": 15, \"11\": 5, \"5\": 1}, \"4\": {\"4\": 198, \"5\": 9, \"7\": 22, \"6\": 4, \"15\": 7}, \"5\": {\"4\": 10, \"7\": 72, \"5\": 107, \"15\": 4, \"1\": 6, \"6\": 36, \"13\": 5}, \"3\": {\"3\": 240}, \"1\": {\"1\": 235, \"13\": 4, \"0\": 1}, \"6\": {\"6\": 196, \"15\": 12, \"5\": 32}, \"12\": {\"12\": 222, \"11\": 4, \"9\": 14}}, \"O_14\": {\"14\": {\"13\": 32, \"8\": 17, \"3\": 33, \"14\": 41, \"2\": 38, \"6\": 33, \"0\": 29, \"7\": 4, \"12\": 1, \"5\": 10, \"4\": 1, \"10\": 1}, \"6\": {\"13\": 57, \"3\": 39, \"6\": 71, \"0\": 19, \"14\": 32, \"2\": 13, \"7\": 2, \"15\": 2, \"8\": 1, \"12\": 1, \"5\": 2, \"4\": 1}, \"5\": {\"10\": 21, \"14\": 20, \"7\": 44, \"5\": 42, \"2\": 38, \"4\": 39, \"8\": 28, \"13\": 4, \"0\": 1, \"9\": 2, \"6\": 1}, \"15\": {\"15\": 231, \"6\": 4, \"13\": 4, \"0\": 1}, \"11\": {\"11\": 211, \"1\": 29}, \"8\": {\"14\": 20, \"9\": 9, \"8\": 76, \"5\": 29, \"10\": 29, \"0\": 19, \"2\": 26, \"13\": 6, \"7\": 10, \"4\": 8, \"6\": 2, \"12\": 1, \"3\": 5}, \"12\": {\"12\": 147, \"8\": 20, \"0\": 37, \"14\": 4, \"2\": 2, \"9\": 2, \"3\": 9, \"6\": 3, \"10\": 9, \"5\": 3, \"13\": 4}, \"1\": {\"1\": 220, \"4\": 8, \"9\": 9, \"10\": 2, \"11\": 1}, \"2\": {\"3\": 26, \"10\": 17, \"14\": 35, \"2\": 41, \"4\": 24, \"7\": 26, \"5\": 16, \"8\": 21, \"13\": 11, \"6\": 18, \"0\": 5}, \"13\": {\"14\": 27, \"13\": 32, \"8\": 14, \"3\": 28, \"6\": 56, \"15\": 20, \"0\": 17, \"10\": 4, \"4\": 4, \"2\": 16, \"7\": 8, \"5\": 13, \"12\": 1}, \"3\": {\"0\": 42, \"5\": 3, \"3\": 55, \"14\": 34, \"8\": 6, \"6\": 50, \"2\": 7, \"13\": 41, \"12\": 2}, \"0\": {\"14\": 25, \"8\": 23, \"3\": 40, \"0\": 57, \"4\": 1, \"6\": 30, \"2\": 12, \"12\": 13, \"13\": 30, \"5\": 7, \"10\": 2}, \"9\": {\"10\": 67, \"9\": 123, \"1\": 17, \"8\": 16, \"4\": 14, \"5\": 2, \"12\": 1}, \"4\": {\"9\": 17, \"10\": 64, \"4\": 89, \"7\": 14, \"5\": 31, \"1\": 7, \"8\": 4, \"0\": 1, \"2\": 12, \"14\": 1}, \"7\": {\"7\": 71, \"5\": 64, \"10\": 8, \"4\": 33, \"2\": 37, \"8\": 8, \"0\": 2, \"14\": 10, \"3\": 1, \"13\": 5, \"9\": 1}, \"10\": {\"2\": 12, \"10\": 84, \"4\": 49, \"9\": 43, \"8\": 20, \"13\": 2, \"5\": 24, \"7\": 5, \"1\": 1}}, \"O_32\": {\"4\": {\"4\": 175, \"2\": 43, \"13\": 9, \"14\": 7, \"8\": 5, \"5\": 1}, \"14\": {\"14\": 110, \"13\": 16, \"5\": 25, \"7\": 49, \"8\": 10, \"0\": 10, \"3\": 15, \"2\": 3, \"4\": 2}, \"5\": {\"7\": 52, \"5\": 68, \"8\": 24, \"0\": 41, \"14\": 53, \"13\": 2}, \"10\": {\"12\": 102, \"10\": 80, \"1\": 32, \"6\": 18, \"9\": 5, \"11\": 3}, \"13\": {\"4\": 35, \"13\": 153, \"3\": 41, \"11\": 6, \"2\": 1, \"14\": 4}, \"9\": {\"9\": 203, \"12\": 26, \"10\": 4, \"2\": 7}, \"6\": {\"6\": 162, \"10\": 56, \"12\": 13, \"11\": 6, \"3\": 1, \"9\": 2}, \"3\": {\"3\": 213, \"13\": 21, \"11\": 5, \"14\": 1}, \"15\": {\"15\": 210, \"8\": 17, \"3\": 4, \"5\": 4, \"14\": 2, \"13\": 1, \"7\": 1, \"0\": 1}, \"7\": {\"5\": 51, \"0\": 48, \"8\": 3, \"14\": 33, \"7\": 104, \"13\": 1}, \"12\": {\"9\": 64, \"12\": 156, \"10\": 17, \"6\": 2, \"11\": 1}, \"8\": {\"8\": 110, \"4\": 8, \"5\": 43, \"0\": 37, \"7\": 15, \"14\": 25, \"13\": 2}, \"11\": {\"11\": 114, \"3\": 101, \"13\": 13, \"10\": 5, \"6\": 6, \"12\": 1}, \"2\": {\"2\": 170, \"4\": 57, \"0\": 11, \"7\": 1, \"14\": 1}, \"1\": {\"1\": 232, \"12\": 6, \"10\": 2}, \"0\": {\"0\": 151, \"14\": 8, \"7\": 24, \"5\": 21, \"2\": 19, \"8\": 17}}, \"O_44\": {\"8\": {\"0\": 62, \"8\": 155, \"15\": 10, \"5\": 13}, \"11\": {\"11\": 240}, \"14\": {\"5\": 5, \"14\": 175, \"4\": 48, \"15\": 12}, \"10\": {\"10\": 211, \"2\": 14, \"1\": 6, \"7\": 8, \"12\": 1}, \"3\": {\"3\": 229, \"12\": 7, \"1\": 4}, \"15\": {\"15\": 195, \"14\": 22, \"5\": 12, \"8\": 9, \"4\": 2}, \"2\": {\"9\": 4, \"2\": 206, \"7\": 5, \"1\": 19, \"10\": 6}, \"12\": {\"12\": 226, \"3\": 13, \"1\": 1}, \"4\": {\"14\": 80, \"4\": 149, \"15\": 9, \"5\": 2}, \"1\": {\"1\": 199, \"12\": 7, \"3\": 6, \"2\": 22, \"10\": 6}, \"0\": {\"0\": 198, \"8\": 40, \"15\": 2}, \"9\": {\"6\": 40, \"13\": 9, \"9\": 111, \"4\": 2, \"7\": 76, \"2\": 2}, \"5\": {\"5\": 191, \"14\": 17, \"8\": 7, \"15\": 22, \"13\": 1, \"4\": 2}, \"6\": {\"6\": 191, \"9\": 12, \"13\": 36, \"7\": 1}, \"7\": {\"7\": 203, \"9\": 35, \"10\": 1, \"2\": 1}, \"13\": {\"13\": 188, \"9\": 9, \"6\": 41, \"11\": 2}}, \"O_8\": {\"13\": {\"10\": 38, \"14\": 3, \"8\": 7, \"7\": 27, \"11\": 19, \"13\": 58, \"5\": 23, \"1\": 25, \"6\": 28, \"4\": 7, \"12\": 4, \"2\": 1}, \"3\": {\"3\": 195, \"15\": 10, \"2\": 31, \"12\": 1, \"9\": 3}, \"15\": {\"12\": 51, \"15\": 93, \"2\": 73, \"3\": 21, \"13\": 1, \"5\": 1}, \"4\": {\"6\": 32, \"4\": 56, \"14\": 69, \"8\": 44, \"11\": 7, \"10\": 10, \"7\": 16, \"13\": 2, \"1\": 4}, \"7\": {\"1\": 16, \"7\": 54, \"6\": 41, \"11\": 9, \"8\": 32, \"10\": 26, \"13\": 39, \"5\": 3, \"4\": 15, \"14\": 5}, \"2\": {\"15\": 60, \"2\": 68, \"12\": 52, \"3\": 52, \"13\": 4, \"7\": 2, \"5\": 2}, \"1\": {\"13\": 41, \"10\": 32, \"5\": 47, \"4\": 11, \"1\": 35, \"11\": 32, \"6\": 12, \"12\": 3, \"14\": 8, \"7\": 11, \"8\": 6, \"15\": 1, \"2\": 1}, \"0\": {\"0\": 238, \"14\": 2}, \"12\": {\"15\": 57, \"12\": 120, \"2\": 52, \"13\": 6, \"3\": 3, \"5\": 1, \"1\": 1}, \"6\": {\"7\": 52, \"8\": 38, \"6\": 45, \"10\": 17, \"13\": 27, \"1\": 9, \"4\": 23, \"14\": 11, \"11\": 15, \"5\": 3}, \"11\": {\"7\": 15, \"1\": 39, \"11\": 53, \"6\": 15, \"10\": 29, \"4\": 24, \"5\": 26, \"13\": 25, \"8\": 7, \"14\": 7}, \"9\": {\"9\": 233, \"3\": 7}, \"5\": {\"13\": 22, \"5\": 96, \"11\": 28, \"14\": 5, \"1\": 37, \"10\": 25, \"15\": 1, \"2\": 1, \"7\": 5, \"4\": 3, \"12\": 9, \"6\": 6, \"8\": 2}, \"10\": {\"13\": 46, \"10\": 31, \"1\": 36, \"11\": 28, \"4\": 20, \"7\": 19, \"5\": 27, \"6\": 25, \"14\": 2, \"8\": 5, \"12\": 1}, \"14\": {\"4\": 60, \"14\": 125, \"8\": 33, \"6\": 11, \"11\": 2, \"7\": 2, \"10\": 2, \"1\": 2, \"0\": 2, \"13\": 1}, \"8\": {\"6\": 33, \"4\": 40, \"8\": 64, \"14\": 38, \"10\": 13, \"7\": 34, \"1\": 2, \"13\": 7, \"11\": 9}}, \"O_20\": {\"6\": {\"12\": 12, \"6\": 52, \"13\": 21, \"2\": 35, \"5\": 6, \"7\": 28, \"14\": 11, \"4\": 19, \"3\": 2, \"1\": 5, \"10\": 34, \"9\": 12, \"8\": 2, \"15\": 1}, \"11\": {\"8\": 32, \"0\": 41, \"11\": 105, \"3\": 11, \"1\": 2, \"14\": 31, \"7\": 5, \"5\": 7, \"4\": 2, \"9\": 2, \"6\": 2}, \"5\": {\"3\": 34, \"15\": 17, \"5\": 32, \"11\": 12, \"14\": 18, \"9\": 16, \"8\": 35, \"1\": 28, \"7\": 6, \"12\": 11, \"4\": 9, \"2\": 6, \"0\": 8, \"13\": 4, \"6\": 3, \"10\": 1}, \"14\": {\"7\": 15, \"4\": 11, \"6\": 11, \"11\": 30, \"1\": 18, \"5\": 8, \"12\": 10, \"3\": 21, \"2\": 4, \"8\": 46, \"15\": 5, \"9\": 13, \"14\": 42, \"13\": 2, \"0\": 3, \"10\": 1}, \"2\": {\"10\": 23, \"4\": 16, \"14\": 8, \"2\": 31, \"15\": 14, \"1\": 7, \"7\": 23, \"12\": 20, \"9\": 25, \"6\": 26, \"3\": 13, \"13\": 28, \"5\": 2, \"8\": 4}, \"7\": {\"14\": 19, \"15\": 8, \"6\": 26, \"3\": 12, \"5\": 7, \"12\": 26, \"4\": 15, \"1\": 11, \"9\": 25, \"2\": 27, \"8\": 6, \"7\": 28, \"13\": 11, \"11\": 3, \"10\": 16}, \"3\": {\"14\": 26, \"8\": 19, \"5\": 41, \"11\": 21, \"0\": 9, \"3\": 38, \"1\": 28, \"7\": 5, \"12\": 7, \"2\": 13, \"4\": 7, \"10\": 2, \"9\": 12, \"6\": 1, \"15\": 11}, \"4\": {\"13\": 18, \"7\": 32, \"2\": 18, \"9\": 23, \"15\": 26, \"6\": 18, \"12\": 14, \"3\": 10, \"1\": 13, \"14\": 14, \"4\": 22, \"8\": 8, \"10\": 16, \"5\": 8}, \"9\": {\"14\": 23, \"7\": 23, \"5\": 15, \"9\": 22, \"4\": 20, \"12\": 15, \"1\": 16, \"2\": 18, \"8\": 17, \"13\": 12, \"6\": 20, \"11\": 5, \"15\": 17, \"3\": 13, \"10\": 4}, \"12\": {\"13\": 24, \"15\": 17, \"6\": 10, \"7\": 24, \"12\": 26, \"10\": 20, \"5\": 12, \"1\": 14, \"4\": 24, \"9\": 25, \"2\": 21, \"3\": 12, \"14\": 7, \"8\": 4}, \"0\": {\"8\": 22, \"11\": 36, \"0\": 158, \"1\": 4, \"5\": 11, \"3\": 4, \"14\": 3, \"9\": 1, \"15\": 1}, \"10\": {\"12\": 4, \"6\": 36, \"13\": 59, \"2\": 25, \"10\": 75, \"7\": 17, \"4\": 15, \"9\": 8, \"14\": 1}, \"8\": {\"4\": 3, \"8\": 51, \"11\": 50, \"5\": 21, \"15\": 5, \"14\": 25, \"9\": 10, \"7\": 7, \"12\": 6, \"3\": 25, \"2\": 3, \"13\": 2, \"1\": 14, \"0\": 15, \"6\": 3}, \"13\": {\"12\": 29, \"4\": 21, \"13\": 65, \"10\": 47, \"15\": 9, \"2\": 22, \"6\": 21, \"7\": 15, \"9\": 10, \"5\": 1}, \"1\": {\"3\": 26, \"1\": 30, \"4\": 21, \"5\": 32, \"15\": 14, \"8\": 30, \"2\": 6, \"14\": 18, \"9\": 14, \"7\": 16, \"11\": 11, \"0\": 7, \"13\": 4, \"12\": 7, \"6\": 1, \"10\": 3}, \"15\": {\"1\": 21, \"9\": 24, \"15\": 30, \"5\": 15, \"13\": 15, \"12\": 27, \"2\": 25, \"7\": 15, \"6\": 9, \"3\": 13, \"4\": 30, \"8\": 6, \"10\": 7, \"14\": 3}}, \"O_38\": {\"3\": {\"3\": 240}, \"8\": {\"8\": 129, \"5\": 76, \"7\": 18, \"15\": 12, \"0\": 2, \"13\": 3}, \"0\": {\"0\": 177, \"7\": 24, \"10\": 20, \"8\": 2, \"3\": 6, \"13\": 10, \"5\": 1}, \"2\": {\"14\": 22, \"2\": 218}, \"4\": {\"4\": 239, \"10\": 1}, \"7\": {\"7\": 232, \"0\": 2, \"8\": 6}, \"12\": {\"12\": 239, \"14\": 1}, \"6\": {\"6\": 239, \"1\": 1}, \"15\": {\"15\": 229, \"8\": 3, \"5\": 5, \"1\": 3}, \"11\": {\"11\": 228, \"3\": 5, \"10\": 7}, \"9\": {\"9\": 239, \"5\": 1}, \"14\": {\"14\": 223, \"2\": 17}, \"10\": {\"10\": 216, \"0\": 15, \"4\": 6, \"13\": 3}, \"5\": {\"5\": 141, \"8\": 66, \"7\": 15, \"9\": 10, \"15\": 6, \"10\": 1, \"0\": 1}, \"1\": {\"1\": 240}, \"13\": {\"10\": 17, \"13\": 216, \"2\": 2, \"0\": 5}}, \"O_26\": {\"5\": {\"1\": 46, \"15\": 13, \"6\": 27, \"5\": 23, \"10\": 29, \"0\": 24, \"11\": 42, \"14\": 24, \"2\": 2, \"12\": 3, \"9\": 2, \"8\": 5}, \"8\": {\"8\": 53, \"12\": 46, \"3\": 18, \"7\": 33, \"9\": 25, \"0\": 26, \"2\": 13, \"5\": 3, \"13\": 6, \"10\": 3, \"4\": 6, \"15\": 4, \"11\": 2, \"14\": 2}, \"4\": {\"4\": 119, \"13\": 58, \"3\": 50, \"7\": 3, \"9\": 6, \"2\": 3, \"8\": 1}, \"12\": {\"13\": 10, \"8\": 34, \"12\": 102, \"5\": 3, \"15\": 8, \"7\": 5, \"0\": 36, \"9\": 26, \"10\": 3, \"6\": 1, \"14\": 4, \"2\": 6, \"1\": 1, \"3\": 1}, \"6\": {\"1\": 53, \"15\": 11, \"6\": 39, \"14\": 44, \"11\": 44, \"5\": 16, \"10\": 16, \"0\": 14, \"12\": 2, \"8\": 1}, \"7\": {\"7\": 46, \"4\": 6, \"2\": 45, \"12\": 11, \"9\": 43, \"8\": 36, \"13\": 16, \"0\": 7, \"3\": 24, \"14\": 1, \"5\": 1, \"6\": 1, \"1\": 2, \"15\": 1}, \"10\": {\"0\": 28, \"15\": 28, \"14\": 25, \"5\": 24, \"10\": 24, \"11\": 39, \"1\": 26, \"8\": 7, \"6\": 31, \"12\": 7, \"7\": 1}, \"0\": {\"6\": 17, \"0\": 44, \"15\": 22, \"5\": 21, \"7\": 4, \"14\": 24, \"12\": 19, \"11\": 22, \"10\": 23, \"8\": 19, \"1\": 10, \"2\": 5, \"13\": 1, \"9\": 9}, \"15\": {\"0\": 25, \"1\": 32, \"6\": 30, \"15\": 28, \"14\": 27, \"5\": 29, \"11\": 33, \"10\": 26, \"12\": 3, \"8\": 4, \"2\": 2, \"7\": 1}, \"9\": {\"9\": 37, \"4\": 12, \"8\": 38, \"3\": 15, \"12\": 23, \"13\": 28, \"10\": 3, \"7\": 32, \"0\": 13, \"5\": 6, \"2\": 24, \"14\": 4, \"15\": 3, \"1\": 2}, \"11\": {\"11\": 69, \"15\": 11, \"10\": 14, \"14\": 31, \"6\": 42, \"1\": 43, \"5\": 25, \"12\": 1, \"0\": 4}, \"14\": {\"2\": 2, \"15\": 27, \"6\": 37, \"10\": 23, \"0\": 33, \"11\": 31, \"1\": 33, \"5\": 19, \"14\": 23, \"8\": 5, \"12\": 6, \"9\": 1}, \"2\": {\"4\": 14, \"0\": 19, \"13\": 13, \"8\": 40, \"3\": 16, \"7\": 29, \"9\": 31, \"10\": 5, \"2\": 52, \"14\": 2, \"12\": 13, \"6\": 2, \"1\": 2, \"15\": 2}, \"13\": {\"4\": 83, \"7\": 24, \"8\": 10, \"9\": 24, \"3\": 33, \"13\": 52, \"12\": 1, \"2\": 13}, \"3\": {\"2\": 21, \"3\": 51, \"13\": 44, \"9\": 22, \"4\": 58, \"7\": 39, \"8\": 5}, \"1\": {\"11\": 51, \"1\": 55, \"5\": 26, \"10\": 16, \"15\": 19, \"14\": 16, \"0\": 13, \"7\": 1, \"6\": 41, \"12\": 2}}, \"C_4\": {\"38\": {\"7\": 1, \"38\": 22, \"36\": 6, \"2\": 1, \"55\": 3, \"17\": 1, \"42\": 1, \"32\": 4, \"41\": 1}, \"3\": {\"3\": 53, \"46\": 9, \"22\": 12, \"45\": 2, \"6\": 9, \"12\": 4, \"44\": 5, \"50\": 15, \"21\": 2, \"5\": 6, \"0\": 2, \"30\": 4, \"52\": 1}, \"24\": {\"24\": 29, \"15\": 4, \"51\": 1, \"41\": 2, \"54\": 5, \"53\": 5, \"43\": 4, \"42\": 1, \"26\": 1, \"31\": 2, \"34\": 1, \"55\": 1}, \"49\": {\"49\": 8, \"38\": 1, \"39\": 1, \"42\": 1, \"35\": 1, \"34\": 1, \"17\": 1, \"43\": 2, \"41\": 2, \"7\": 1, \"36\": 1}, \"7\": {\"7\": 16, \"23\": 1, \"42\": 2, \"55\": 1, \"36\": 1, \"34\": 1, \"35\": 2}, \"17\": {\"57\": 3, \"38\": 3, \"17\": 31, \"19\": 5, \"48\": 1, \"23\": 2, \"33\": 5, \"34\": 1, \"35\": 2, \"27\": 3, \"36\": 4, \"29\": 4, \"55\": 3, \"8\": 2, \"13\": 2, \"0\": 1, \"7\": 1, \"39\": 1, \"14\": 2, \"2\": 1, \"56\": 2, \"42\": 1}, \"43\": {\"43\": 143, \"37\": 1, \"55\": 1, \"23\": 2, \"51\": 1}, \"30\": {\"30\": 25, \"46\": 1, \"6\": 7, \"29\": 1, \"22\": 1, \"5\": 4, \"52\": 1, \"3\": 2, \"1\": 1, \"0\": 1}, \"44\": {\"44\": 84, \"29\": 3, \"30\": 2, \"45\": 12, \"3\": 2, \"5\": 2, \"8\": 2, \"12\": 1, \"57\": 1, \"9\": 4, \"20\": 1, \"4\": 9, \"47\": 1, \"50\": 1, \"40\": 2, \"56\": 2, \"48\": 2, \"6\": 1}, \"23\": {\"49\": 4, \"23\": 41, \"7\": 1, \"38\": 2, \"26\": 1, \"35\": 4, \"10\": 3, \"25\": 5, \"15\": 8, \"34\": 1, \"53\": 3, \"2\": 1, \"42\": 2, \"43\": 12, \"51\": 6, \"13\": 3, \"17\": 7, \"54\": 10, \"55\": 6, \"11\": 4, \"24\": 1, \"16\": 8, \"36\": 3, \"19\": 3, \"32\": 1, \"18\": 1, \"31\": 1, \"41\": 2}, \"37\": {\"43\": 2, \"37\": 20, \"51\": 2}, \"4\": {\"44\": 16, \"4\": 72, \"5\": 2, \"9\": 9, \"48\": 3, \"40\": 9, \"50\": 3, \"6\": 1, \"47\": 2, \"57\": 3, \"45\": 3, \"29\": 2, \"27\": 4, \"13\": 1, \"56\": 2}, \"57\": {\"4\": 4, \"57\": 44, \"1\": 5, \"48\": 10, \"46\": 4, \"27\": 11, \"29\": 3, \"50\": 1, \"56\": 6, \"40\": 7, \"0\": 2, \"20\": 1, \"47\": 2}, \"16\": {\"18\": 8, \"16\": 40, \"10\": 13, \"15\": 6, \"54\": 5, \"23\": 4, \"11\": 8, \"25\": 5, \"53\": 4, \"24\": 1, \"34\": 1, \"43\": 1}, \"18\": {\"18\": 69, \"10\": 4, \"31\": 1, \"25\": 17, \"16\": 5, \"11\": 4, \"24\": 2, \"23\": 1, \"54\": 2, \"35\": 1, \"15\": 1, \"43\": 1}, \"20\": {\"20\": 76, \"57\": 1, \"12\": 1, \"21\": 8, \"8\": 16, \"52\": 6, \"0\": 4, \"22\": 4, \"47\": 2, \"46\": 3, \"27\": 1, \"9\": 2}, \"45\": {\"45\": 62, \"46\": 2, \"4\": 2, \"50\": 3, \"44\": 10, \"3\": 2, \"5\": 3, \"6\": 7, \"22\": 1, \"56\": 2, \"20\": 1, \"47\": 1}, \"15\": {\"15\": 76, \"28\": 1, \"11\": 7, \"25\": 10, \"43\": 1, \"23\": 9, \"54\": 3, \"24\": 3, \"16\": 3, \"51\": 2, \"53\": 9, \"10\": 5, \"18\": 2, \"55\": 1}, \"52\": {\"20\": 6, \"30\": 3, \"0\": 10, \"57\": 1, \"52\": 59, \"14\": 1, \"50\": 1, \"47\": 8, \"8\": 2, \"46\": 8, \"12\": 5, \"21\": 4, \"48\": 1, \"22\": 5, \"27\": 1, \"40\": 1}, \"19\": {\"17\": 5, \"19\": 109, \"26\": 2, \"42\": 1, \"29\": 2, \"41\": 1, \"35\": 4, \"36\": 2, \"11\": 1, \"15\": 1, \"55\": 2, \"27\": 1, \"10\": 1, \"33\": 2, \"23\": 2, \"16\": 2, \"54\": 2}, \"54\": {\"54\": 96, \"37\": 1, \"28\": 1, \"53\": 1, \"55\": 2, \"24\": 3, \"16\": 2, \"23\": 1, \"10\": 1}, \"56\": {\"56\": 52, \"1\": 4, \"48\": 23, \"40\": 10, \"27\": 12, \"8\": 4, \"57\": 9, \"47\": 2, \"46\": 3, \"22\": 1, \"4\": 5, \"9\": 1, \"50\": 1, \"20\": 3}, \"40\": {\"40\": 55, \"48\": 8, \"44\": 7, \"47\": 3, \"4\": 23, \"27\": 6, \"20\": 1, \"56\": 7, \"9\": 13, \"13\": 1, \"8\": 1, \"29\": 3, \"50\": 2, \"30\": 1, \"1\": 1, \"52\": 1, \"3\": 1}, \"28\": {\"28\": 11, \"19\": 1, \"16\": 3, \"7\": 1, \"26\": 8, \"34\": 4, \"25\": 1, \"49\": 1, \"18\": 1, \"23\": 1}, \"2\": {\"2\": 31, \"39\": 2, \"14\": 2, \"13\": 1}, \"9\": {\"56\": 4, \"9\": 49, \"44\": 11, \"48\": 7, \"40\": 11, \"1\": 3, \"27\": 6, \"3\": 3, \"45\": 4, \"4\": 12, \"13\": 1, \"0\": 1, \"57\": 3, \"47\": 1, \"29\": 2, \"8\": 1, \"5\": 1}, \"0\": {\"0\": 31, \"20\": 7, \"12\": 6, \"22\": 8, \"52\": 9, \"47\": 6, \"46\": 8, \"8\": 2, \"1\": 2, \"56\": 1}, \"36\": {\"36\": 81, \"27\": 1, \"55\": 2, \"38\": 4, \"54\": 1, \"43\": 1, \"29\": 1, \"41\": 1}, \"55\": {\"49\": 1, \"39\": 3, \"54\": 6, \"55\": 56, \"36\": 14, \"7\": 2, \"32\": 2, \"41\": 2, \"23\": 11, \"35\": 2, \"43\": 7, \"24\": 2, \"15\": 3, \"51\": 2, \"11\": 2, \"53\": 2, \"19\": 1, \"34\": 1, \"42\": 2, \"17\": 2, \"38\": 4, \"2\": 1, \"27\": 1, \"10\": 1}, \"35\": {\"35\": 21, \"32\": 1, \"36\": 3, \"33\": 1, \"49\": 1, \"55\": 1, \"17\": 2, \"19\": 5, \"16\": 1, \"2\": 1, \"13\": 1, \"42\": 1, \"23\": 1}, \"39\": {\"38\": 1, \"39\": 11, \"14\": 1, \"41\": 1, \"55\": 1, \"7\": 1, \"2\": 2, \"36\": 1, \"23\": 1}, \"31\": {\"31\": 23, \"26\": 1, \"16\": 1, \"15\": 1, \"10\": 2}, \"14\": {\"39\": 3, \"14\": 9, \"36\": 3, \"8\": 1}, \"12\": {\"0\": 3, \"12\": 47, \"22\": 11, \"8\": 1, \"21\": 1, \"3\": 5, \"50\": 8, \"1\": 1, \"52\": 5, \"57\": 2, \"5\": 2, \"46\": 5, \"48\": 1}, \"6\": {\"6\": 69, \"30\": 5, \"50\": 9, \"22\": 6, \"5\": 14, \"3\": 6, \"21\": 1, \"12\": 1, \"45\": 1}, \"26\": {\"34\": 2, \"26\": 13, \"11\": 1, \"23\": 1, \"32\": 1, \"28\": 2, \"49\": 1, \"55\": 1, \"7\": 1, \"42\": 1}, \"50\": {\"46\": 12, \"5\": 8, \"3\": 17, \"50\": 43, \"12\": 9, \"22\": 10, \"21\": 4, \"30\": 3, \"44\": 4, \"45\": 6, \"6\": 12, \"0\": 1, \"4\": 1, \"40\": 1, \"27\": 1}, \"21\": {\"21\": 58, \"6\": 5, \"12\": 7, \"50\": 8, \"0\": 3, \"52\": 4, \"46\": 7, \"8\": 3, \"45\": 1, \"5\": 1, \"22\": 12, \"47\": 3, \"3\": 6, \"30\": 1, \"20\": 3}, \"46\": {\"47\": 8, \"52\": 5, \"46\": 39, \"6\": 11, \"50\": 9, \"1\": 2, \"12\": 5, \"3\": 8, \"21\": 5, \"8\": 4, \"48\": 5, \"0\": 5, \"57\": 1, \"22\": 17, \"27\": 4, \"20\": 4, \"4\": 1, \"5\": 2, \"56\": 3, \"29\": 1, \"9\": 1}, \"51\": {\"41\": 1, \"51\": 61, \"43\": 20, \"27\": 3, \"47\": 3, \"13\": 26, \"8\": 7, \"36\": 3, \"17\": 2, \"55\": 7, \"53\": 1, \"23\": 2, \"2\": 2, \"37\": 1, \"20\": 1}, \"41\": {\"41\": 18, \"36\": 4, \"55\": 1, \"7\": 2, \"43\": 6, \"29\": 1, \"51\": 1, \"2\": 1, \"23\": 1, \"47\": 1}, \"34\": {\"34\": 23, \"54\": 1}, \"47\": {\"47\": 41, \"0\": 9, \"12\": 5, \"1\": 1, \"48\": 4, \"29\": 4, \"52\": 10, \"9\": 1, \"21\": 2, \"22\": 8, \"57\": 3, \"27\": 10, \"46\": 6, \"20\": 4, \"56\": 7, \"40\": 1, \"8\": 3, \"14\": 1}, \"5\": {\"45\": 2, \"22\": 4, \"5\": 52, \"44\": 3, \"30\": 5, \"46\": 3, \"6\": 15, \"52\": 1, \"3\": 6, \"50\": 13, \"0\": 1, \"21\": 1, \"12\": 2}, \"1\": {\"1\": 23, \"47\": 6, \"12\": 1, \"29\": 1, \"48\": 2, \"0\": 1, \"57\": 2, \"56\": 1, \"27\": 1, \"22\": 2}, \"48\": {\"48\": 59, \"27\": 13, \"56\": 13, \"40\": 7, \"20\": 1, \"1\": 1, \"47\": 5, \"57\": 16, \"9\": 3, \"13\": 4, \"4\": 3, \"51\": 1, \"29\": 5, \"46\": 2, \"44\": 1}, \"29\": {\"29\": 54, \"27\": 14, \"8\": 1, \"12\": 1, \"9\": 4, \"48\": 10, \"40\": 11, \"17\": 1, \"56\": 5, \"57\": 5, \"47\": 5, \"1\": 1, \"4\": 4, \"13\": 1, \"50\": 1}, \"22\": {\"22\": 58, \"47\": 2, \"6\": 10, \"46\": 9, \"30\": 6, \"12\": 8, \"9\": 1, \"50\": 14, \"52\": 1, \"0\": 3, \"3\": 10, \"21\": 2, \"48\": 1, \"5\": 2, \"20\": 1}, \"10\": {\"10\": 77, \"15\": 13, \"16\": 14, \"11\": 12, \"53\": 7, \"54\": 1, \"25\": 6, \"31\": 2}, \"32\": {\"32\": 10, \"7\": 2, \"35\": 1, \"33\": 1, \"49\": 1, \"34\": 2, \"17\": 1, \"55\": 1, \"37\": 1, \"42\": 2, \"27\": 1, \"2\": 1}, \"13\": {\"13\": 100, \"2\": 1, \"51\": 8, \"8\": 1, \"14\": 1, \"48\": 1}, \"42\": {\"7\": 5, \"13\": 1, \"49\": 1, \"28\": 1, \"42\": 19, \"38\": 1, \"36\": 3, \"17\": 1}, \"27\": {\"48\": 22, \"27\": 36, \"29\": 7, \"57\": 12, \"40\": 8, \"22\": 2, \"56\": 13, \"47\": 8, \"8\": 8, \"1\": 3, \"13\": 3, \"46\": 3, \"50\": 1, \"4\": 4, \"9\": 2, \"14\": 1, \"0\": 1, \"17\": 1, \"51\": 1, \"36\": 1, \"20\": 1}, \"8\": {\"8\": 69, \"48\": 2, \"12\": 1, \"27\": 7, \"21\": 8, \"29\": 1, \"52\": 10, \"46\": 5, \"0\": 5, \"20\": 16, \"13\": 3, \"47\": 10, \"9\": 1, \"1\": 1, \"56\": 1, \"51\": 1, \"22\": 1}, \"33\": {\"33\": 32, \"35\": 1, \"17\": 2, \"7\": 1}, \"25\": {\"25\": 82, \"18\": 14, \"31\": 2, \"53\": 1, \"11\": 4, \"10\": 14, \"24\": 2, \"16\": 10, \"15\": 2, \"23\": 1}, \"11\": {\"54\": 2, \"25\": 6, \"11\": 46, \"53\": 5, \"16\": 14, \"15\": 13, \"34\": 1, \"18\": 3, \"55\": 1, \"10\": 11, \"23\": 2}, \"53\": {\"53\": 71, \"11\": 5, \"10\": 9, \"38\": 1, \"24\": 3, \"43\": 3, \"17\": 1, \"15\": 7, \"16\": 2, \"23\": 2, \"55\": 2, \"51\": 3, \"37\": 1, \"54\": 2}}, \"C_2\": {\"32\": {\"32\": 26, \"29\": 2}, \"17\": {\"32\": 2, \"17\": 53, \"7\": 3, \"22\": 3, \"8\": 1, \"33\": 1, \"35\": 2, \"43\": 3, \"29\": 4, \"23\": 4, \"1\": 1, \"36\": 7, \"55\": 12, \"27\": 2, \"56\": 2, \"31\": 1, \"19\": 3}, \"38\": {\"38\": 18, \"51\": 1, \"13\": 1}, \"2\": {\"38\": 2, \"14\": 2, \"2\": 24, \"13\": 1, \"36\": 3}, \"43\": {\"43\": 115, \"34\": 2, \"55\": 15, \"7\": 2, \"2\": 1, \"51\": 1, \"36\": 1, \"13\": 2, \"53\": 2, \"23\": 3}, \"56\": {\"2\": 1, \"56\": 56, \"8\": 6, \"1\": 7, \"27\": 16, \"48\": 19, \"57\": 16, \"21\": 2, \"20\": 3, \"0\": 1, \"47\": 7, \"51\": 3, \"4\": 1, \"22\": 2, \"32\": 1, \"14\": 1, \"52\": 2}, \"37\": {\"37\": 33, \"39\": 1, \"36\": 1, \"15\": 1}, \"49\": {\"49\": 14, \"34\": 3, \"23\": 3, \"28\": 2, \"42\": 1, \"7\": 1}, \"0\": {\"0\": 17, \"47\": 3, \"27\": 2, \"22\": 4, \"1\": 1, \"12\": 6, \"3\": 5, \"48\": 2, \"6\": 4, \"5\": 2, \"50\": 1, \"46\": 1}, \"29\": {\"32\": 3, \"57\": 8, \"40\": 12, \"36\": 2, \"29\": 65, \"17\": 1, \"33\": 1, \"27\": 7, \"4\": 4, \"51\": 1, \"9\": 11, \"20\": 1, \"1\": 2, \"56\": 3, \"48\": 2, \"22\": 2, \"43\": 1, \"47\": 2}, \"35\": {\"35\": 30, \"17\": 1, \"19\": 1}, \"18\": {\"15\": 3, \"18\": 27, \"28\": 1, \"10\": 3, \"11\": 4, \"25\": 6, \"26\": 1, \"16\": 3}, \"25\": {\"15\": 4, \"25\": 77, \"11\": 28, \"10\": 5, \"18\": 2, \"16\": 15, \"54\": 2, \"24\": 1, \"53\": 2}, \"23\": {\"49\": 1, \"2\": 2, \"31\": 1, \"51\": 2, \"23\": 38, \"34\": 2, \"39\": 2, \"14\": 2, \"54\": 16, \"26\": 1, \"42\": 2, \"55\": 17, \"15\": 6, \"43\": 5, \"17\": 2, \"36\": 7, \"11\": 1, \"13\": 2, \"57\": 1, \"16\": 2, \"53\": 4, \"24\": 3, \"19\": 1, \"7\": 2, \"27\": 2}, \"15\": {\"37\": 4, \"49\": 1, \"15\": 88, \"53\": 15, \"10\": 5, \"25\": 6, \"24\": 7, \"16\": 5, \"23\": 3, \"43\": 5, \"28\": 1, \"31\": 1, \"54\": 2, \"11\": 2, \"55\": 1}, \"21\": {\"21\": 87, \"50\": 7, \"52\": 2, \"46\": 7, \"5\": 1, \"48\": 1, \"30\": 10, \"22\": 1, \"40\": 1, \"3\": 2, \"20\": 1}, \"51\": {\"51\": 69, \"2\": 1, \"55\": 9, \"38\": 3, \"20\": 7, \"41\": 4, \"39\": 2, \"31\": 1, \"13\": 5, \"43\": 9, \"8\": 11, \"52\": 1, \"27\": 1, \"53\": 1, \"23\": 1, \"36\": 1, \"48\": 2}, \"20\": {\"52\": 16, \"20\": 58, \"50\": 2, \"8\": 24, \"56\": 9, \"51\": 5, \"46\": 3, \"13\": 3, \"47\": 6, \"30\": 1, \"5\": 1, \"27\": 2, \"6\": 1, \"48\": 2, \"0\": 2, \"41\": 1, \"3\": 1, \"22\": 1}, \"7\": {\"7\": 18, \"31\": 4, \"23\": 4, \"55\": 2, \"42\": 1, \"15\": 1, \"19\": 2, \"34\": 3, \"39\": 1}, \"50\": {\"50\": 40, \"30\": 29, \"46\": 7, \"12\": 10, \"6\": 5, \"47\": 5, \"22\": 2, \"21\": 7, \"27\": 3, \"48\": 2, \"40\": 1, \"45\": 1, \"56\": 3, \"5\": 5, \"3\": 8, \"57\": 5, \"1\": 1, \"52\": 2}, \"31\": {\"7\": 5, \"31\": 19, \"34\": 1, \"42\": 2, \"23\": 1}, \"30\": {\"30\": 74, \"0\": 4, \"46\": 11, \"5\": 3, \"52\": 4, \"50\": 18, \"3\": 4, \"12\": 6, \"47\": 2, \"21\": 6, \"56\": 2, \"6\": 3, \"32\": 1, \"8\": 1, \"9\": 1}, \"19\": {\"19\": 116, \"39\": 1, \"42\": 2, \"33\": 1, \"10\": 1, \"36\": 9, \"17\": 6, \"29\": 1, \"54\": 2, \"15\": 2, \"11\": 3, \"23\": 3, \"16\": 2, \"55\": 3, \"26\": 1, \"35\": 1, \"7\": 1, \"24\": 1}, \"9\": {\"9\": 67, \"45\": 1, \"40\": 18, \"4\": 17, \"27\": 2, \"20\": 1, \"48\": 4, \"57\": 6, \"29\": 7, \"56\": 6, \"44\": 2, \"13\": 1, \"22\": 2, \"5\": 1, \"1\": 3, \"3\": 2, \"12\": 1, \"47\": 3}, \"52\": {\"52\": 85, \"21\": 14, \"3\": 1, \"30\": 4, \"47\": 2, \"20\": 3, \"48\": 2, \"50\": 3, \"46\": 4, \"12\": 1, \"0\": 1, \"8\": 3, \"56\": 1}, \"45\": {\"45\": 66, \"44\": 26, \"52\": 2, \"6\": 8, \"3\": 2, \"0\": 1, \"12\": 4, \"5\": 4, \"46\": 3, \"30\": 7, \"21\": 3, \"50\": 2}, \"8\": {\"51\": 3, \"52\": 13, \"46\": 5, \"8\": 62, \"32\": 1, \"48\": 8, \"43\": 1, \"56\": 9, \"1\": 3, \"17\": 2, \"20\": 17, \"22\": 4, \"55\": 2, \"27\": 6, \"36\": 3, \"29\": 2, \"5\": 1, \"47\": 5, \"41\": 1, \"21\": 2, \"0\": 1, \"50\": 3}, \"55\": {\"7\": 3, \"38\": 2, \"39\": 2, \"15\": 5, \"36\": 28, \"43\": 7, \"33\": 1, \"14\": 3, \"55\": 71, \"51\": 5, \"42\": 4, \"24\": 4, \"2\": 4, \"17\": 1, \"23\": 11, \"19\": 1, \"13\": 3, \"41\": 1, \"37\": 2, \"53\": 2}, \"12\": {\"12\": 66, \"0\": 2, \"46\": 3, \"50\": 1, \"3\": 10, \"6\": 5, \"30\": 1, \"5\": 1, \"44\": 1, \"1\": 1, \"27\": 1}, \"40\": {\"40\": 62, \"57\": 4, \"9\": 19, \"1\": 10, \"4\": 16, \"8\": 1, \"29\": 6, \"48\": 4, \"3\": 1, \"44\": 3, \"45\": 2, \"56\": 3, \"5\": 3, \"22\": 1, \"27\": 1, \"12\": 2, \"47\": 2}, \"28\": {\"28\": 25, \"37\": 1, \"54\": 1, \"24\": 1}, \"36\": {\"36\": 112, \"55\": 2, \"2\": 1, \"17\": 1}, \"39\": {\"39\": 20, \"2\": 1, \"14\": 2, \"41\": 1, \"7\": 1, \"23\": 3}, \"46\": {\"21\": 11, \"46\": 64, \"6\": 2, \"22\": 7, \"52\": 7, \"57\": 1, \"1\": 2, \"0\": 3, \"47\": 3, \"50\": 4, \"8\": 1, \"56\": 2, \"30\": 6, \"12\": 2, \"48\": 3, \"3\": 2, \"40\": 1, \"20\": 1}, \"14\": {\"8\": 2, \"14\": 3, \"40\": 1, \"48\": 1, \"27\": 3, \"55\": 3, \"2\": 1, \"33\": 1, \"13\": 2, \"29\": 1, \"57\": 1, \"32\": 2, \"41\": 1, \"1\": 1, \"17\": 1}, \"57\": {\"29\": 6, \"57\": 44, \"1\": 9, \"22\": 21, \"27\": 14, \"33\": 1, \"0\": 1, \"40\": 4, \"47\": 7, \"12\": 2, \"56\": 9, \"48\": 7, \"9\": 6, \"5\": 1, \"6\": 1, \"50\": 3, \"4\": 2, \"30\": 1, \"46\": 2, \"44\": 1}, \"34\": {\"39\": 3, \"34\": 15, \"49\": 4, \"11\": 1, \"7\": 3, \"31\": 2}, \"1\": {\"48\": 8, \"1\": 72, \"22\": 9, \"0\": 1, \"56\": 3, \"17\": 1, \"57\": 9, \"27\": 1, \"30\": 1, \"47\": 3, \"51\": 1, \"4\": 1, \"52\": 1, \"55\": 1}, \"53\": {\"43\": 14, \"53\": 80, \"23\": 5, \"24\": 6, \"10\": 6, \"54\": 8, \"15\": 6, \"11\": 9, \"55\": 1, \"51\": 1}, \"48\": {\"48\": 53, \"1\": 11, \"40\": 2, \"27\": 10, \"22\": 18, \"56\": 10, \"46\": 2, \"51\": 2, \"57\": 9, \"50\": 2, \"29\": 1, \"41\": 1, \"36\": 2, \"47\": 3, \"3\": 1, \"20\": 1, \"8\": 1, \"9\": 1}, \"3\": {\"48\": 1, \"3\": 31, \"44\": 2, \"0\": 2, \"6\": 7, \"50\": 8, \"12\": 11, \"45\": 8, \"30\": 4, \"5\": 13, \"4\": 1, \"22\": 1, \"46\": 2, \"57\": 1}, \"16\": {\"10\": 12, \"11\": 15, \"49\": 1, \"16\": 61, \"15\": 19, \"54\": 7, \"24\": 4, \"25\": 20, \"53\": 10, \"18\": 3}, \"6\": {\"6\": 62, \"30\": 4, \"44\": 1, \"12\": 18, \"45\": 7, \"5\": 21, \"0\": 1, \"3\": 6, \"50\": 3, \"1\": 1}, \"10\": {\"10\": 78, \"28\": 1, \"16\": 7, \"53\": 4, \"18\": 1, \"11\": 11, \"54\": 3, \"15\": 2, \"24\": 5}, \"13\": {\"13\": 103, \"55\": 1, \"43\": 2, \"51\": 8, \"14\": 1, \"38\": 1}, \"26\": {\"26\": 18, \"11\": 2, \"24\": 1, \"28\": 1, \"15\": 1, \"18\": 1}, \"24\": {\"24\": 45, \"23\": 5, \"53\": 11, \"28\": 5, \"15\": 4, \"42\": 2, \"16\": 2, \"54\": 10, \"55\": 1, \"10\": 4, \"17\": 2, \"43\": 1, \"37\": 2, \"39\": 1, \"51\": 1}, \"44\": {\"44\": 66, \"32\": 1, \"6\": 4, \"3\": 3, \"27\": 1, \"30\": 1, \"40\": 2, \"45\": 13, \"5\": 4, \"48\": 1, \"12\": 3, \"4\": 1}, \"27\": {\"27\": 56, \"1\": 7, \"14\": 1, \"22\": 13, \"8\": 6, \"29\": 7, \"56\": 10, \"48\": 18, \"57\": 10, \"47\": 11, \"2\": 1, \"36\": 2, \"51\": 1, \"9\": 4, \"55\": 1, \"17\": 1, \"4\": 1}, \"22\": {\"27\": 8, \"0\": 7, \"22\": 53, \"1\": 13, \"48\": 7, \"57\": 6, \"29\": 1, \"20\": 1, \"46\": 4, \"5\": 2, \"47\": 8, \"56\": 6, \"30\": 3, \"32\": 1, \"4\": 3, \"8\": 1, \"12\": 1, \"50\": 1, \"40\": 2}, \"33\": {\"14\": 3, \"33\": 20, \"36\": 1, \"29\": 2, \"56\": 1, \"47\": 1}, \"47\": {\"33\": 2, \"47\": 35, \"46\": 6, \"27\": 16, \"22\": 11, \"57\": 8, \"30\": 4, \"56\": 11, \"48\": 8, \"51\": 1, \"21\": 3, \"50\": 2, \"14\": 3, \"8\": 3, \"1\": 2, \"40\": 1, \"3\": 1, \"20\": 1}, \"5\": {\"0\": 3, \"5\": 78, \"50\": 4, \"3\": 7, \"52\": 2, \"6\": 12, \"57\": 2, \"46\": 1, \"45\": 6, \"4\": 1, \"12\": 1, \"22\": 1, \"44\": 1, \"30\": 1}, \"4\": {\"4\": 73, \"9\": 16, \"29\": 7, \"3\": 1, \"22\": 3, \"48\": 1, \"40\": 14, \"1\": 1, \"6\": 2, \"57\": 7, \"56\": 2, \"5\": 2, \"27\": 2, \"47\": 2, \"12\": 1, \"51\": 2, \"45\": 1, \"46\": 1}, \"41\": {\"41\": 19, \"2\": 1}, \"11\": {\"10\": 12, \"49\": 2, \"37\": 2, \"11\": 48, \"54\": 6, \"24\": 10, \"25\": 18, \"15\": 17, \"16\": 23, \"53\": 11, \"23\": 1}, \"54\": {\"54\": 97, \"53\": 3, \"16\": 1, \"24\": 2, \"37\": 1, \"15\": 3, \"43\": 1}, \"42\": {\"39\": 2, \"42\": 22, \"7\": 3, \"55\": 4, \"23\": 1, \"43\": 1, \"36\": 1, \"34\": 1, \"31\": 1}}, \"C_3\": {\"5\": {\"12\": 4, \"5\": 85, \"22\": 1, \"45\": 8, \"44\": 7, \"30\": 2, \"6\": 2, \"46\": 1, \"50\": 1, \"0\": 1, \"3\": 4}, \"32\": {\"32\": 25, \"14\": 1, \"8\": 1, \"29\": 1}, \"33\": {\"8\": 2, \"33\": 19, \"38\": 1, \"1\": 2, \"2\": 1, \"26\": 1, \"21\": 1, \"39\": 1}, \"49\": {\"53\": 1, \"49\": 9, \"43\": 1, \"7\": 1, \"23\": 1, \"55\": 2, \"14\": 2, \"37\": 2, \"24\": 1}, \"39\": {\"39\": 9, \"36\": 2, \"7\": 3, \"49\": 1, \"14\": 1}, \"11\": {\"11\": 52, \"25\": 17, \"53\": 11, \"15\": 28, \"54\": 3, \"16\": 15, \"18\": 5, \"10\": 4, \"24\": 7}, \"8\": {\"52\": 4, \"33\": 1, \"46\": 7, \"8\": 46, \"0\": 6, \"41\": 2, \"50\": 4, \"14\": 1, \"20\": 14, \"3\": 1, \"27\": 4, \"29\": 5, \"57\": 1, \"48\": 5, \"47\": 2, \"9\": 1, \"56\": 6, \"30\": 1, \"22\": 1, \"4\": 1, \"13\": 1, \"51\": 2}, \"26\": {\"26\": 19, \"43\": 3, \"7\": 2}, \"51\": {\"51\": 76, \"8\": 7, \"55\": 4, \"2\": 2, \"23\": 4, \"7\": 1, \"13\": 12, \"43\": 8, \"17\": 1, \"33\": 1, \"56\": 1, \"20\": 2, \"36\": 1, \"15\": 1, \"53\": 1}, \"4\": {\"4\": 88, \"32\": 2, \"1\": 3, \"57\": 2, \"29\": 6, \"22\": 2, \"56\": 1, \"9\": 16, \"27\": 7, \"40\": 15, \"48\": 1, \"0\": 1, \"34\": 1, \"8\": 1}, \"52\": {\"52\": 69, \"46\": 11, \"20\": 10, \"50\": 4, \"22\": 6, \"6\": 1, \"0\": 2, \"21\": 8, \"47\": 2, \"3\": 1, \"9\": 1, \"30\": 1, \"56\": 1, \"27\": 1}, \"47\": {\"47\": 32, \"8\": 2, \"48\": 6, \"22\": 7, \"30\": 1, \"50\": 5, \"21\": 1, \"0\": 9, \"29\": 2, \"1\": 2, \"56\": 7, \"57\": 2, \"46\": 4, \"36\": 1, \"52\": 2, \"33\": 1, \"3\": 2, \"27\": 3, \"20\": 1, \"5\": 1, \"13\": 1}, \"17\": {\"32\": 1, \"17\": 49, \"35\": 3, \"42\": 4, \"55\": 12, \"34\": 3, \"24\": 1, \"8\": 5, \"36\": 8, \"1\": 2, \"47\": 1, \"23\": 4, \"27\": 2, \"29\": 5, \"49\": 1, \"54\": 1, \"19\": 1, \"43\": 2, \"53\": 1, \"56\": 2}, \"53\": {\"11\": 5, \"53\": 71, \"37\": 1, \"24\": 18, \"54\": 6, \"43\": 10, \"15\": 8, \"55\": 2, \"16\": 7, \"23\": 3, \"49\": 4, \"19\": 1}, \"2\": {\"2\": 26, \"7\": 4, \"37\": 1, \"43\": 1}, \"12\": {\"5\": 10, \"12\": 42, \"3\": 12, \"0\": 3, \"21\": 2, \"50\": 5, \"6\": 8, \"46\": 2, \"22\": 1, \"30\": 5, \"45\": 2}, \"37\": {\"37\": 27, \"24\": 1}, \"9\": {\"32\": 1, \"9\": 69, \"14\": 1, \"1\": 13, \"48\": 2, \"4\": 17, \"7\": 1, \"27\": 3, \"22\": 5, \"33\": 1, \"57\": 7, \"51\": 2, \"40\": 9, \"30\": 3, \"29\": 7, \"6\": 1, \"47\": 1, \"35\": 1, \"12\": 1, \"55\": 1, \"0\": 1, \"5\": 1}, \"13\": {\"13\": 97, \"7\": 2, \"33\": 1, \"2\": 1, \"51\": 15, \"43\": 8, \"17\": 1, \"55\": 1, \"38\": 1, \"36\": 1}, \"54\": {\"54\": 91, \"16\": 2, \"24\": 1, \"10\": 1, \"11\": 1, \"53\": 1, \"17\": 1, \"23\": 1, \"15\": 1}, \"31\": {\"31\": 28}, \"34\": {\"34\": 21, \"42\": 1, \"35\": 1, \"54\": 1, \"17\": 5, \"36\": 1, \"33\": 1, \"23\": 1}, \"24\": {\"54\": 12, \"37\": 1, \"24\": 55, \"26\": 1, \"53\": 10, \"15\": 5, \"11\": 4, \"16\": 6, \"23\": 5, \"49\": 1, \"55\": 3, \"43\": 1}, \"7\": {\"7\": 16, \"13\": 2, \"33\": 3, \"38\": 5, \"2\": 5, \"26\": 1, \"8\": 1, \"36\": 1, \"43\": 1, \"34\": 1}, \"50\": {\"21\": 6, \"9\": 1, \"50\": 42, \"3\": 12, \"5\": 2, \"6\": 8, \"46\": 8, \"30\": 12, \"12\": 6, \"48\": 5, \"47\": 2, \"1\": 3, \"56\": 1, \"22\": 4, \"40\": 2, \"8\": 1, \"45\": 1, \"0\": 2}, \"46\": {\"46\": 58, \"48\": 3, \"52\": 7, \"3\": 5, \"0\": 11, \"12\": 4, \"6\": 3, \"20\": 5, \"56\": 3, \"21\": 11, \"50\": 6, \"30\": 3, \"5\": 2, \"22\": 3, \"47\": 1, \"57\": 3}, \"44\": {\"46\": 1, \"44\": 68, \"45\": 6, \"5\": 5, \"0\": 2, \"1\": 1, \"30\": 1, \"50\": 1, \"12\": 2, \"9\": 1}, \"40\": {\"44\": 2, \"40\": 47, \"27\": 7, \"29\": 5, \"9\": 16, \"22\": 3, \"8\": 2, \"4\": 18, \"0\": 1, \"57\": 5, \"45\": 1, \"48\": 2, \"3\": 3, \"1\": 2, \"56\": 1, \"5\": 1}, \"21\": {\"21\": 75, \"50\": 6, \"3\": 7, \"12\": 3, \"22\": 1, \"30\": 7, \"52\": 4, \"56\": 2, \"46\": 8, \"0\": 3, \"6\": 5, \"1\": 3, \"48\": 1, \"20\": 1, \"44\": 1, \"47\": 1}, \"45\": {\"50\": 2, \"44\": 5, \"45\": 27, \"5\": 6, \"12\": 2, \"3\": 3, \"0\": 3, \"22\": 1, \"30\": 5, \"6\": 4, \"21\": 2}, \"16\": {\"16\": 51, \"28\": 2, \"10\": 6, \"24\": 5, \"25\": 12, \"15\": 12, \"11\": 16, \"18\": 8, \"54\": 4, \"23\": 4, \"53\": 5, \"43\": 1}, \"14\": {\"32\": 2, \"7\": 5, \"14\": 18, \"1\": 1, \"26\": 2, \"2\": 2, \"34\": 1, \"27\": 1, \"41\": 2, \"51\": 1, \"33\": 2, \"36\": 1, \"29\": 2}, \"36\": {\"36\": 98, \"17\": 2}, \"56\": {\"48\": 11, \"56\": 52, \"1\": 8, \"4\": 1, \"22\": 12, \"50\": 2, \"9\": 2, \"20\": 3, \"27\": 5, \"47\": 7, \"8\": 4, \"0\": 3, \"57\": 3, \"21\": 1}, \"10\": {\"10\": 47, \"16\": 5, \"54\": 1, \"15\": 3, \"11\": 6, \"53\": 2}, \"18\": {\"18\": 49, \"25\": 7, \"54\": 5, \"11\": 8, \"53\": 1, \"10\": 2, \"15\": 4, \"43\": 1, \"16\": 5, \"28\": 1, \"24\": 1}, \"48\": {\"48\": 34, \"1\": 8, \"36\": 5, \"22\": 18, \"51\": 3, \"33\": 1, \"27\": 6, \"47\": 8, \"56\": 9, \"0\": 10, \"57\": 6, \"50\": 1, \"46\": 2, \"34\": 1, \"4\": 1, \"30\": 1, \"9\": 2}, \"38\": {\"38\": 27, \"2\": 1}, \"27\": {\"27\": 33, \"4\": 4, \"48\": 11, \"35\": 1, \"50\": 1, \"32\": 2, \"29\": 4, \"14\": 3, \"57\": 20, \"41\": 2, \"9\": 5, \"34\": 1, \"1\": 15, \"36\": 2, \"47\": 7, \"56\": 8, \"40\": 1, \"22\": 7, \"5\": 1, \"46\": 2}, \"42\": {\"7\": 1, \"42\": 12, \"31\": 4, \"49\": 1, \"55\": 5, \"17\": 2, \"39\": 1, \"36\": 1, \"23\": 1}, \"15\": {\"37\": 4, \"49\": 2, \"31\": 1, \"15\": 59, \"24\": 14, \"23\": 8, \"53\": 19, \"25\": 7, \"55\": 2, \"54\": 1, \"11\": 6, \"16\": 10, \"18\": 1}, \"1\": {\"27\": 9, \"1\": 43, \"0\": 5, \"57\": 11, \"9\": 3, \"22\": 10, \"56\": 5, \"48\": 4, \"29\": 1, \"47\": 2, \"17\": 1, \"13\": 2, \"4\": 2, \"8\": 1, \"51\": 1}, \"28\": {\"28\": 19, \"11\": 1, \"19\": 1, \"25\": 4, \"15\": 1, \"18\": 1, \"23\": 1}, \"43\": {\"43\": 99, \"26\": 3, \"49\": 1, \"31\": 2, \"23\": 4, \"24\": 4, \"13\": 7, \"55\": 10, \"51\": 2, \"2\": 1, \"53\": 1, \"7\": 2}, \"0\": {\"0\": 45, \"12\": 4, \"57\": 4, \"6\": 7, \"48\": 4, \"50\": 5, \"30\": 20, \"27\": 1, \"22\": 6, \"56\": 2, \"47\": 6, \"44\": 1, \"52\": 1, \"46\": 3, \"38\": 1, \"5\": 2, \"3\": 10, \"1\": 2}, \"57\": {\"57\": 40, \"9\": 15, \"48\": 7, \"32\": 3, \"27\": 13, \"41\": 1, \"29\": 13, \"40\": 8, \"22\": 11, \"3\": 2, \"1\": 2, \"47\": 3, \"4\": 2, \"33\": 1, \"0\": 2, \"5\": 1}, \"3\": {\"12\": 11, \"50\": 9, \"6\": 15, \"45\": 4, \"22\": 3, \"5\": 10, \"3\": 55, \"44\": 2, \"30\": 17, \"46\": 4, \"4\": 1, \"21\": 6, \"0\": 3, \"1\": 1, \"52\": 4, \"47\": 2, \"40\": 1}, \"29\": {\"9\": 9, \"32\": 4, \"29\": 68, \"14\": 1, \"27\": 9, \"22\": 2, \"57\": 5, \"4\": 13, \"36\": 3, \"40\": 1, \"56\": 2, \"1\": 3, \"48\": 1, \"7\": 1, \"47\": 1, \"17\": 1}, \"41\": {\"41\": 26, \"8\": 2}, \"25\": {\"11\": 19, \"25\": 98, \"15\": 7, \"18\": 4, \"16\": 12, \"10\": 5, \"54\": 1}, \"6\": {\"6\": 63, \"12\": 8, \"50\": 3, \"3\": 7, \"30\": 3, \"5\": 2, \"45\": 1, \"46\": 1}, \"35\": {\"35\": 25, \"31\": 1, \"42\": 1, \"17\": 1}, \"20\": {\"0\": 1, \"20\": 58, \"9\": 2, \"52\": 26, \"21\": 5, \"56\": 2, \"41\": 1, \"46\": 9, \"8\": 10, \"50\": 6, \"30\": 1, \"48\": 3, \"38\": 1, \"34\": 1}, \"23\": {\"31\": 2, \"23\": 58, \"15\": 12, \"28\": 2, \"36\": 6, \"24\": 9, \"13\": 2, \"33\": 1, \"53\": 2, \"43\": 10, \"55\": 7, \"17\": 5, \"51\": 3, \"11\": 1, \"54\": 9, \"26\": 1, \"35\": 1, \"7\": 1, \"16\": 1, \"42\": 1}, \"22\": {\"0\": 16, \"56\": 8, \"22\": 59, \"48\": 10, \"27\": 4, \"20\": 1, \"41\": 2, \"47\": 7, \"21\": 2, \"9\": 6, \"57\": 3, \"1\": 10, \"30\": 1, \"3\": 1, \"40\": 3, \"46\": 1, \"8\": 1, \"50\": 2, \"29\": 2, \"5\": 1}, \"19\": {\"19\": 93, \"28\": 1, \"17\": 5, \"55\": 2, \"23\": 7, \"36\": 2, \"43\": 2, \"25\": 3, \"35\": 1}, \"55\": {\"55\": 64, \"49\": 3, \"31\": 3, \"34\": 2, \"42\": 3, \"17\": 11, \"36\": 6, \"53\": 5, \"23\": 8, \"24\": 3, \"43\": 2, \"13\": 1, \"51\": 1, \"15\": 4, \"26\": 2, \"39\": 1, \"7\": 1, \"14\": 3, \"19\": 1}, \"30\": {\"6\": 9, \"30\": 59, \"56\": 1, \"0\": 4, \"3\": 11, \"22\": 3, \"12\": 5, \"5\": 10, \"46\": 5, \"21\": 6, \"29\": 1, \"50\": 5, \"14\": 1}}, \"W_3\": {\"99\": {\"98\": 3, \"99\": 15, \"92\": 3, \"106\": 1, \"128\": 1, \"72\": 1, \"71\": 2, \"105\": 3, \"3\": 3, \"12\": 1, \"31\": 1, \"75\": 1, \"114\": 1}, \"8\": {\"8\": 82, \"101\": 1, \"0\": 4, \"7\": 2, \"108\": 1, \"110\": 5, \"94\": 12, \"15\": 4, \"84\": 1, \"118\": 2, \"30\": 2, \"93\": 3, \"36\": 1, \"3\": 1, \"127\": 1, \"11\": 1, \"87\": 1}, \"65\": {\"102\": 1, \"65\": 4, \"112\": 2, \"98\": 2, \"58\": 1, \"57\": 1, \"89\": 1}, \"117\": {\"117\": 76, \"42\": 2, \"5\": 12, \"86\": 1, \"85\": 2, \"58\": 1, \"102\": 3, \"124\": 3, \"7\": 1, \"111\": 5, \"68\": 1, \"129\": 1, \"2\": 2, \"0\": 1, \"90\": 1}, \"18\": {\"18\": 79, \"26\": 11, \"12\": 1, \"33\": 6, \"84\": 3, \"69\": 2, \"16\": 3, \"71\": 2, \"44\": 1, \"14\": 1, \"127\": 5, \"39\": 1, \"62\": 5, \"40\": 1, \"106\": 1, \"93\": 1, \"8\": 1}, \"39\": {\"39\": 55, \"43\": 1, \"21\": 3, \"126\": 13, \"70\": 4, \"24\": 6, \"27\": 4, \"10\": 8, \"87\": 2, \"88\": 6, \"109\": 4, \"11\": 1, \"78\": 1}, \"102\": {\"86\": 1, \"102\": 103, \"22\": 1, \"41\": 1, \"111\": 5, \"117\": 3, \"125\": 3, \"124\": 1, \"4\": 1, \"48\": 1, \"2\": 1, \"115\": 1, \"5\": 2}, \"76\": {\"42\": 1, \"57\": 1, \"90\": 1, \"32\": 1, \"76\": 3, \"19\": 2, \"61\": 1, \"28\": 1, \"33\": 1, \"58\": 1, \"38\": 1, \"98\": 1, \"72\": 1}, \"101\": {\"101\": 24, \"49\": 1, \"15\": 1, \"23\": 1, \"7\": 7, \"40\": 1, \"106\": 3, \"12\": 2, \"62\": 3, \"88\": 1, \"3\": 2, \"16\": 2, \"93\": 2, \"10\": 1, \"8\": 1}, \"57\": {\"42\": 1, \"57\": 6, \"120\": 1, \"90\": 1, \"19\": 2, \"55\": 1, \"65\": 1, \"56\": 1, \"58\": 2, \"59\": 1, \"45\": 1, \"92\": 1, \"67\": 1}, \"86\": {\"86\": 14, \"90\": 1, \"37\": 2, \"22\": 1, \"117\": 1, \"116\": 1, \"102\": 3, \"119\": 2, \"24\": 1, \"125\": 1, \"85\": 1}, \"11\": {\"11\": 45, \"78\": 2, \"126\": 6, \"109\": 9, \"88\": 1, \"36\": 12, \"43\": 5, \"113\": 4, \"0\": 4, \"110\": 4, \"10\": 8, \"27\": 3, \"108\": 12, \"70\": 2, \"118\": 2, \"87\": 7, \"12\": 1, \"24\": 2, \"122\": 2, \"30\": 1}, \"98\": {\"98\": 103, \"76\": 2, \"90\": 3, \"65\": 1, \"85\": 2, \"99\": 2, \"34\": 1, \"7\": 1, \"32\": 1, \"40\": 1, \"128\": 2, \"83\": 2, \"25\": 1, \"31\": 1, \"89\": 1, \"1\": 2, \"3\": 1, \"121\": 1}, \"42\": {\"42\": 13, \"117\": 1, \"121\": 1, \"46\": 1, \"68\": 1, \"29\": 2, \"13\": 1, \"85\": 1, \"92\": 1, \"112\": 1, \"98\": 1, \"124\": 2, \"73\": 1, \"5\": 1}, \"47\": {\"98\": 3, \"99\": 1, \"47\": 3, \"83\": 2, \"1\": 1, \"71\": 1, \"20\": 1}, \"49\": {\"49\": 14, \"101\": 1, \"15\": 2, \"62\": 1, \"23\": 1, \"51\": 1, \"60\": 1, \"26\": 2, \"7\": 1}, \"111\": {\"124\": 7, \"111\": 98, \"37\": 1, \"116\": 1, \"129\": 1, \"102\": 6, \"5\": 9, \"117\": 1, \"107\": 1, \"41\": 2, \"42\": 1, \"115\": 1, \"2\": 1, \"17\": 1, \"6\": 1}, \"36\": {\"36\": 71, \"24\": 1, \"27\": 3, \"87\": 3, \"109\": 3, \"108\": 15, \"10\": 5, \"122\": 1, \"118\": 2, \"126\": 1, \"30\": 2, \"11\": 5, \"0\": 1, \"110\": 2, \"39\": 1}, \"124\": {\"111\": 14, \"52\": 2, \"86\": 2, \"124\": 63, \"92\": 1, \"66\": 1, \"45\": 1, \"129\": 4, \"121\": 1, \"5\": 5, \"107\": 2, \"42\": 3, \"120\": 1, \"55\": 2, \"17\": 1, \"6\": 1, \"90\": 1, \"125\": 1}, \"122\": {\"93\": 1, \"122\": 17, \"113\": 8, \"21\": 1, \"0\": 6, \"118\": 4, \"30\": 4, \"87\": 3, \"7\": 2, \"109\": 1, \"94\": 1, \"11\": 1, \"96\": 1, \"108\": 1, \"15\": 2, \"8\": 1, \"62\": 1, \"110\": 2, \"88\": 1, \"70\": 1, \"39\": 1}, \"93\": {\"93\": 84, \"0\": 3, \"51\": 1, \"127\": 3, \"7\": 6, \"16\": 7, \"15\": 4, \"30\": 1, \"12\": 5, \"94\": 5, \"110\": 1, \"106\": 4, \"126\": 1, \"8\": 5, \"62\": 3, \"84\": 4, \"105\": 1, \"101\": 1, \"113\": 1, \"18\": 2}, \"89\": {\"92\": 4, \"45\": 1, \"9\": 1, \"42\": 2, \"89\": 9, \"73\": 1, \"5\": 1, \"98\": 1, \"117\": 1, \"100\": 1, \"25\": 1, \"41\": 1, \"103\": 1, \"19\": 1, \"90\": 1, \"95\": 1}, \"51\": {\"51\": 13, \"49\": 2, \"44\": 1}, \"73\": {\"73\": 25, \"55\": 1, \"107\": 3, \"32\": 1, \"19\": 1, \"9\": 1, \"89\": 2, \"81\": 2, \"21\": 1, \"85\": 2, \"98\": 1}, \"45\": {\"5\": 2, \"45\": 6, \"66\": 1, \"124\": 1, \"129\": 2, \"48\": 1, \"117\": 1, \"2\": 1, \"91\": 1}, \"5\": {\"5\": 75, \"113\": 1, \"68\": 1, \"73\": 1, \"85\": 2, \"129\": 1, \"67\": 1, \"124\": 4, \"70\": 2, \"90\": 3, \"111\": 5, \"102\": 2, \"117\": 9, \"88\": 2, \"42\": 2, \"29\": 1}, \"69\": {\"69\": 46, \"84\": 2, \"33\": 9, \"105\": 10, \"1\": 2, \"127\": 1, \"26\": 1, \"14\": 3, \"10\": 2, \"40\": 2, \"114\": 4, \"44\": 2}, \"26\": {\"26\": 76, \"15\": 1, \"62\": 15, \"12\": 2, \"33\": 7, \"84\": 6, \"18\": 7, \"8\": 2, \"94\": 1, \"93\": 2, \"127\": 4, \"49\": 1, \"40\": 1, \"30\": 1, \"3\": 1, \"105\": 1, \"16\": 2}, \"1\": {\"99\": 1, \"1\": 35, \"33\": 13, \"71\": 4, \"44\": 5, \"23\": 1, \"114\": 10, \"72\": 1, \"40\": 8, \"105\": 10, \"127\": 2, \"14\": 6, \"3\": 3, \"47\": 1, \"60\": 1, \"9\": 1, \"17\": 1, \"106\": 2, \"21\": 1, \"107\": 1, \"84\": 1}, \"92\": {\"89\": 3, \"128\": 2, \"92\": 11, \"72\": 1, \"107\": 1, \"28\": 1, \"34\": 2, \"73\": 1, \"54\": 1, \"98\": 1, \"19\": 2, \"105\": 2, \"99\": 1, \"29\": 1, \"40\": 1, \"57\": 1}, \"96\": {\"96\": 11, \"110\": 1, \"7\": 2, \"122\": 1, \"97\": 1, \"118\": 1, \"101\": 1, \"113\": 2}, \"85\": {\"85\": 20, \"91\": 1, \"42\": 1, \"29\": 2, \"5\": 3, \"117\": 3, \"73\": 1, \"129\": 4, \"17\": 1}, \"114\": {\"1\": 9, \"33\": 11, \"105\": 16, \"114\": 73, \"111\": 1, \"44\": 3, \"69\": 2, \"40\": 7, \"107\": 3, \"17\": 1}, \"50\": {\"50\": 8, \"116\": 1, \"124\": 1, \"2\": 1, \"104\": 1, \"95\": 1, \"48\": 1, \"32\": 2}, \"81\": {\"50\": 1, \"1\": 2, \"19\": 2, \"40\": 1, \"105\": 1, \"92\": 1, \"53\": 1, \"46\": 1, \"38\": 2, \"81\": 6, \"82\": 2, \"100\": 1, \"98\": 1, \"95\": 2, \"61\": 1, \"128\": 1, \"44\": 2, \"107\": 1, \"32\": 2, \"90\": 1}, \"2\": {\"50\": 1, \"2\": 9, \"92\": 1, \"28\": 1, \"91\": 2, \"117\": 1, \"124\": 1, \"52\": 1, \"120\": 1, \"64\": 1, \"22\": 1, \"111\": 1, \"129\": 3, \"102\": 1, \"55\": 1, \"6\": 2}, \"33\": {\"33\": 121, \"84\": 2, \"105\": 3, \"40\": 3, \"18\": 2, \"114\": 6, \"69\": 3, \"71\": 1, \"14\": 2, \"107\": 1, \"1\": 1, \"106\": 1}, \"31\": {\"17\": 1, \"31\": 12, \"98\": 1, \"99\": 2, \"53\": 1, \"72\": 2, \"34\": 1}, \"90\": {\"90\": 90, \"52\": 3, \"32\": 2, \"85\": 1, \"95\": 2, \"98\": 4, \"107\": 4, \"114\": 1, \"5\": 2, \"124\": 1, \"38\": 2, \"29\": 1, \"19\": 1, \"53\": 1, \"121\": 1, \"14\": 1, \"117\": 1}, \"17\": {\"116\": 1, \"86\": 2, \"128\": 1, \"120\": 1, \"104\": 2, \"17\": 4, \"78\": 1, \"24\": 1, \"115\": 2, \"111\": 1}, \"116\": {\"2\": 1, \"91\": 1, \"116\": 9, \"121\": 1, \"117\": 1, \"6\": 1, \"124\": 1, \"73\": 2, \"58\": 1, \"50\": 1, \"100\": 1, \"41\": 1, \"37\": 1, \"111\": 1, \"59\": 1, \"99\": 1, \"45\": 1, \"68\": 1, \"123\": 1}, \"91\": {\"91\": 11, \"92\": 1, \"128\": 1, \"77\": 1, \"55\": 2, \"2\": 3, \"65\": 1, \"99\": 1, \"41\": 2, \"81\": 1}, \"120\": {\"120\": 11, \"42\": 1, \"35\": 1, \"4\": 1, \"121\": 1, \"32\": 1, \"50\": 1, \"57\": 1, \"83\": 1, \"105\": 1}, \"128\": {\"128\": 12, \"58\": 1, \"92\": 2, \"91\": 1, \"38\": 1, \"120\": 1, \"2\": 1, \"56\": 1, \"98\": 3, \"89\": 1, \"107\": 2, \"81\": 1, \"55\": 1, \"53\": 1, \"95\": 1, \"19\": 1, \"73\": 1}, \"78\": {\"17\": 1, \"15\": 2, \"78\": 10, \"21\": 1, \"39\": 2}, \"58\": {\"120\": 2, \"58\": 4, \"98\": 1, \"85\": 1, \"117\": 1, \"73\": 2, \"57\": 1, \"32\": 1, \"64\": 1, \"68\": 1, \"56\": 1}, \"23\": {\"15\": 5, \"106\": 4, \"23\": 11, \"93\": 1, \"110\": 1, \"114\": 1, \"118\": 1, \"49\": 1, \"62\": 5, \"7\": 1, \"12\": 1}, \"15\": {\"15\": 68, \"93\": 6, \"0\": 2, \"7\": 4, \"10\": 1, \"36\": 1, \"106\": 2, \"101\": 1, \"12\": 3, \"94\": 3, \"8\": 7, \"122\": 1, \"110\": 2, \"88\": 1, \"127\": 2}, \"74\": {\"74\": 9, \"9\": 2, \"72\": 1, \"50\": 1, \"114\": 2, \"34\": 1}, \"34\": {\"34\": 13, \"40\": 1, \"20\": 1, \"92\": 3, \"1\": 1, \"100\": 1, \"83\": 2, \"44\": 1, \"49\": 1, \"25\": 1, \"54\": 1, \"0\": 1, \"31\": 1, \"12\": 1, \"53\": 1, \"81\": 1, \"114\": 1}, \"103\": {\"103\": 5, \"128\": 3, \"95\": 1, \"99\": 1, \"2\": 1, \"46\": 1, \"19\": 2, \"124\": 1, \"29\": 1}, \"106\": {\"101\": 1, \"106\": 62, \"62\": 3, \"127\": 3, \"7\": 3, \"84\": 8, \"16\": 4, \"12\": 7, \"26\": 2, \"96\": 1, \"15\": 3, \"93\": 1, \"18\": 1, \"8\": 1}, \"44\": {\"44\": 54, \"31\": 1, \"1\": 3, \"120\": 1, \"34\": 2, \"3\": 3, \"114\": 2, \"127\": 1, \"105\": 1, \"40\": 2, \"90\": 1, \"14\": 1}, \"9\": {\"9\": 22, \"74\": 1, \"2\": 1, \"72\": 2, \"107\": 2, \"114\": 1, \"100\": 1, \"86\": 1, \"82\": 1}, \"97\": {\"23\": 1, \"97\": 11, \"122\": 1, \"15\": 1, \"12\": 1, \"60\": 1, \"62\": 1, \"96\": 1, \"106\": 1, \"14\": 1}, \"123\": {\"68\": 2, \"6\": 1, \"123\": 6, \"63\": 1, \"124\": 4, \"104\": 1, \"64\": 1}, \"6\": {\"6\": 22, \"115\": 3, \"92\": 1, \"89\": 1, \"105\": 1, \"98\": 1, \"48\": 1, \"91\": 1, \"111\": 1}, \"68\": {\"123\": 3, \"68\": 6, \"115\": 2, \"117\": 1, \"42\": 1, \"102\": 1, \"116\": 1, \"120\": 1}, \"24\": {\"24\": 33, \"27\": 5, \"10\": 4, \"109\": 3, \"43\": 1, \"108\": 1, \"70\": 1}, \"21\": {\"21\": 42, \"92\": 1, \"70\": 3, \"56\": 1, \"88\": 1}, \"83\": {\"98\": 2, \"83\": 12, \"70\": 1, \"99\": 1, \"34\": 2, \"44\": 1, \"72\": 1, \"105\": 1, \"47\": 1, \"109\": 1, \"49\": 1}, \"60\": {\"23\": 2, \"24\": 1, \"62\": 2, \"60\": 11, \"127\": 1, \"51\": 1, \"84\": 1, \"96\": 1, \"7\": 1, \"49\": 2, \"101\": 1, \"110\": 1, \"118\": 1, \"70\": 1, \"97\": 1}, \"87\": {\"87\": 47, \"60\": 1, \"27\": 4, \"113\": 9, \"43\": 2, \"39\": 2, \"36\": 6, \"122\": 1, \"10\": 2, \"110\": 3, \"30\": 3, \"0\": 3, \"11\": 8, \"118\": 9, \"70\": 1, \"93\": 2, \"108\": 3, \"24\": 1, \"94\": 2, \"8\": 4, \"26\": 1, \"109\": 2, \"126\": 4}, \"30\": {\"30\": 40, \"108\": 4, \"58\": 1, \"113\": 5, \"24\": 2, \"117\": 1, \"36\": 7, \"27\": 1, \"11\": 5, \"122\": 2, \"87\": 7, \"110\": 1, \"8\": 6, \"129\": 1, \"43\": 1}, \"43\": {\"43\": 26, \"97\": 1, \"96\": 1, \"11\": 3, \"87\": 2, \"27\": 5, \"122\": 1, \"10\": 3, \"126\": 1, \"108\": 2, \"109\": 4, \"88\": 1, \"110\": 1, \"24\": 2, \"21\": 2, \"118\": 1}, \"115\": {\"123\": 1, \"115\": 11, \"104\": 1, \"80\": 1, \"13\": 1, \"102\": 1}, \"40\": {\"40\": 53, \"114\": 10, \"9\": 1, \"1\": 4, \"105\": 3, \"14\": 2, \"107\": 14, \"69\": 5, \"84\": 1, \"26\": 1, \"126\": 1, \"12\": 1, \"18\": 4, \"33\": 12, \"3\": 1, \"99\": 1, \"53\": 2, \"44\": 2, \"71\": 1, \"98\": 1}, \"112\": {\"66\": 1, \"112\": 5, \"50\": 1, \"48\": 1, \"5\": 1, \"64\": 1, \"77\": 1, \"29\": 1, \"59\": 1, \"56\": 1, \"68\": 1, \"98\": 1}, \"66\": {\"65\": 1, \"28\": 3, \"52\": 1, \"66\": 3, \"124\": 1, \"121\": 1, \"76\": 1, \"83\": 1, \"90\": 2, \"85\": 1, \"92\": 1}, \"110\": {\"118\": 3, \"110\": 33, \"113\": 12, \"0\": 3, \"94\": 4, \"7\": 1, \"43\": 3, \"11\": 3, \"8\": 3, \"15\": 3, \"27\": 2, \"30\": 3, \"24\": 1, \"87\": 5, \"10\": 1, \"122\": 5, \"60\": 1, \"93\": 3, \"36\": 2, \"108\": 1}, \"3\": {\"3\": 83, \"84\": 5, \"44\": 2, \"1\": 1, \"127\": 7, \"26\": 3, \"5\": 1, \"33\": 1, \"88\": 1, \"71\": 4, \"114\": 1, \"40\": 1, \"18\": 3, \"105\": 1}, \"20\": {\"20\": 5, \"98\": 1, \"34\": 4, \"47\": 2, \"1\": 1, \"60\": 1, \"99\": 1, \"40\": 1}, \"28\": {\"28\": 4, \"64\": 3, \"91\": 1, \"128\": 1, \"7\": 2, \"6\": 1, \"76\": 1, \"32\": 1, \"71\": 1, \"89\": 1}, \"84\": {\"84\": 34, \"7\": 4, \"26\": 4, \"14\": 3, \"93\": 6, \"101\": 1, \"18\": 8, \"33\": 5, \"44\": 2, \"71\": 4, \"39\": 2, \"106\": 6, \"62\": 5, \"89\": 1, \"3\": 3, \"10\": 1, \"127\": 8, \"16\": 1, \"105\": 2, \"94\": 2, \"23\": 2, \"95\": 1, \"12\": 1, \"0\": 2}, \"79\": {\"66\": 1, \"79\": 11}, \"118\": {\"118\": 42, \"30\": 4, \"93\": 1, \"87\": 6, \"24\": 1, \"110\": 4, \"122\": 3, \"8\": 1, \"113\": 6, \"11\": 6, \"0\": 6, \"12\": 1, \"70\": 1, \"10\": 1, \"15\": 2, \"16\": 2, \"36\": 3, \"126\": 2, \"108\": 2, \"101\": 1, \"109\": 1, \"7\": 2, \"62\": 1, \"88\": 1}, \"56\": {\"64\": 2, \"57\": 1, \"28\": 1, \"121\": 1, \"56\": 5, \"9\": 1, \"125\": 1}, \"48\": {\"48\": 7, \"104\": 2, \"80\": 1, \"77\": 1, \"120\": 1, \"2\": 1, \"86\": 1, \"79\": 1, \"102\": 1}, \"77\": {\"64\": 3, \"48\": 2, \"77\": 4, \"112\": 1, \"29\": 3, \"41\": 1, \"37\": 1, \"103\": 1}, \"14\": {\"14\": 34, \"54\": 1, \"114\": 4, \"127\": 3, \"62\": 1, \"71\": 2, \"33\": 9, \"1\": 5, \"40\": 4, \"105\": 5, \"69\": 8, \"16\": 1, \"18\": 1, \"118\": 1, \"3\": 1}, \"64\": {\"56\": 1, \"77\": 4, \"28\": 1, \"57\": 1, \"91\": 1, \"64\": 6, \"90\": 1, \"32\": 2, \"58\": 1, \"98\": 1, \"123\": 1}, \"67\": {\"67\": 13, \"39\": 1, \"55\": 1, \"103\": 1}, \"62\": {\"26\": 11, \"62\": 84, \"14\": 2, \"87\": 1, \"15\": 1, \"84\": 4, \"127\": 3, \"7\": 4, \"33\": 1, \"18\": 1, \"3\": 1, \"12\": 1, \"105\": 1, \"106\": 2, \"40\": 1, \"23\": 2, \"30\": 1, \"16\": 2, \"8\": 1}, \"75\": {\"75\": 10, \"23\": 1, \"44\": 1, \"76\": 2, \"35\": 2}, \"63\": {\"63\": 11, \"19\": 1, \"80\": 2, \"83\": 1, \"98\": 1}, \"7\": {\"62\": 4, \"7\": 73, \"84\": 4, \"93\": 4, \"23\": 1, \"106\": 11, \"101\": 2, \"12\": 9, \"3\": 1, \"16\": 3}, \"125\": {\"125\": 96, \"48\": 1, \"105\": 1, \"124\": 2, \"5\": 1, \"2\": 1, \"85\": 1, \"111\": 1}, \"37\": {\"48\": 2, \"37\": 9, \"86\": 1, \"91\": 1, \"116\": 1, \"28\": 1, \"129\": 1}, \"121\": {\"46\": 1, \"120\": 2, \"121\": 11, \"25\": 1, \"66\": 1, \"29\": 1, \"32\": 1, \"35\": 1, \"41\": 2, \"56\": 1, \"82\": 1, \"85\": 3, \"74\": 1, \"50\": 1, \"77\": 2, \"128\": 1, \"103\": 1}, \"16\": {\"16\": 54, \"12\": 5, \"7\": 7, \"18\": 1, \"127\": 1, \"106\": 13, \"84\": 2, \"15\": 1, \"30\": 1, \"62\": 9, \"26\": 3, \"88\": 1, \"40\": 1, \"96\": 1, \"93\": 1, \"109\": 1, \"105\": 1, \"108\": 1}, \"35\": {\"35\": 7, \"76\": 1, \"84\": 1, \"60\": 1, \"112\": 1, \"75\": 1}, \"32\": {\"76\": 2, \"32\": 14, \"121\": 2, \"29\": 1, \"90\": 2, \"46\": 1, \"64\": 1, \"117\": 1, \"85\": 2, \"72\": 1, \"98\": 1, \"128\": 1, \"95\": 1, \"129\": 1, \"81\": 1}, \"46\": {\"76\": 2, \"32\": 1, \"46\": 9, \"2\": 1, \"103\": 1, \"74\": 2}, \"70\": {\"70\": 53, \"88\": 7, \"21\": 1, \"24\": 2, \"27\": 3, \"10\": 2, \"39\": 3, \"126\": 1}, \"129\": {\"19\": 2, \"55\": 1, \"5\": 3, \"129\": 20, \"111\": 1, \"119\": 1, \"4\": 1, \"124\": 2, \"117\": 1}, \"95\": {\"95\": 21, \"70\": 1, \"112\": 1, \"61\": 1, \"100\": 1, \"105\": 1, \"9\": 2, \"114\": 1, \"40\": 1, \"29\": 1, \"17\": 1}, \"72\": {\"72\": 16, \"56\": 1, \"114\": 1, \"9\": 1, \"105\": 1, \"99\": 3, \"95\": 1, \"1\": 1, \"127\": 1, \"38\": 1, \"33\": 1}, \"19\": {\"19\": 12, \"66\": 1, \"64\": 2, \"128\": 2, \"50\": 1, \"41\": 1, \"92\": 2, \"95\": 1, \"82\": 1, \"74\": 1, \"46\": 1, \"32\": 2, \"98\": 1, \"90\": 2, \"121\": 2}, \"52\": {\"66\": 1, \"59\": 1, \"123\": 1, \"52\": 3, \"19\": 1, \"2\": 1, \"98\": 1, \"92\": 1, \"89\": 2, \"129\": 1, \"85\": 1, \"124\": 1, \"90\": 1}, \"100\": {\"100\": 6, \"19\": 1, \"81\": 2, \"39\": 1, \"29\": 2, \"46\": 1, \"9\": 1, \"95\": 1, \"92\": 1}, \"104\": {\"104\": 13, \"63\": 1, \"6\": 1, \"123\": 1}, \"59\": {\"48\": 2, \"59\": 10}, \"109\": {\"43\": 1, \"109\": 62, \"96\": 2, \"126\": 9, \"27\": 6, \"10\": 10, \"11\": 4, \"122\": 2, \"24\": 3, \"108\": 7, \"39\": 3, \"30\": 2, \"0\": 2, \"36\": 4, \"70\": 2, \"87\": 2, \"88\": 1, \"8\": 1, \"113\": 1, \"110\": 2}, \"88\": {\"88\": 107, \"39\": 1}, \"27\": {\"27\": 51, \"87\": 1, \"108\": 4, \"24\": 4, \"10\": 6, \"122\": 1, \"11\": 1, \"126\": 5, \"30\": 1, \"21\": 1, \"88\": 2, \"36\": 9, \"109\": 2, \"70\": 2, \"43\": 1, \"113\": 1, \"39\": 2}, \"113\": {\"96\": 3, \"110\": 7, \"113\": 58, \"30\": 4, \"122\": 3, \"109\": 4, \"0\": 2, \"8\": 6, \"118\": 6, \"15\": 3, \"11\": 5, \"36\": 4, \"87\": 7, \"12\": 1, \"108\": 2, \"43\": 1, \"82\": 1, \"93\": 2, \"127\": 1}, \"105\": {\"33\": 24, \"71\": 3, \"72\": 3, \"84\": 1, \"105\": 44, \"49\": 1, \"114\": 8, \"9\": 1, \"3\": 4, \"13\": 1, \"99\": 2, \"107\": 6, \"14\": 7, \"0\": 1, \"1\": 7, \"40\": 4, \"69\": 1, \"7\": 1, \"98\": 1, \"127\": 1, \"44\": 1, \"18\": 2}, \"71\": {\"71\": 47, \"33\": 4, \"44\": 3, \"84\": 1, \"105\": 1, \"127\": 6, \"14\": 1, \"3\": 2, \"18\": 1, \"4\": 1, \"40\": 1}, \"108\": {\"108\": 73, \"30\": 7, \"87\": 6, \"24\": 2, \"0\": 2, \"43\": 1, \"36\": 10, \"11\": 11, \"10\": 6, \"126\": 1, \"109\": 2, \"27\": 2, \"118\": 1}, \"41\": {\"48\": 1, \"55\": 2, \"121\": 1, \"124\": 2, \"41\": 7, \"34\": 1, \"85\": 1, \"86\": 1}, \"80\": {\"59\": 2, \"80\": 11, \"91\": 1, \"79\": 2}, \"13\": {\"13\": 5, \"6\": 1, \"116\": 2, \"80\": 1, \"115\": 2, \"104\": 1, \"85\": 1, \"86\": 1, \"119\": 1, \"111\": 1}, \"55\": {\"112\": 1, \"55\": 10, \"129\": 1, \"103\": 1, \"29\": 1, \"2\": 2}, \"0\": {\"15\": 1, \"122\": 6, \"0\": 66, \"39\": 1, \"110\": 2, \"113\": 7, \"87\": 5, \"8\": 5, \"40\": 1, \"118\": 1, \"96\": 1, \"43\": 1, \"23\": 1, \"94\": 3, \"36\": 1, \"53\": 1, \"30\": 1, \"106\": 1, \"108\": 1}, \"25\": {\"57\": 1, \"25\": 6, \"54\": 3, \"29\": 1, \"64\": 1, \"34\": 1, \"73\": 1, \"129\": 1, \"52\": 1}, \"53\": {\"53\": 14, \"31\": 2, \"107\": 2, \"99\": 1, \"3\": 1}, \"61\": {\"61\": 9, \"76\": 1, \"50\": 2, \"46\": 1, \"81\": 1, \"128\": 2}, \"38\": {\"38\": 13, \"32\": 1, \"92\": 2}, \"127\": {\"127\": 52, \"105\": 7, \"49\": 1, \"78\": 1, \"101\": 1, \"33\": 3, \"16\": 5, \"1\": 7, \"84\": 2, \"106\": 4, \"44\": 4, \"11\": 1, \"12\": 3, \"3\": 4, \"14\": 4, \"18\": 5, \"69\": 1, \"39\": 1, \"71\": 7, \"26\": 5, \"62\": 4, \"126\": 1, \"23\": 1, \"93\": 1, \"114\": 2, \"88\": 1}, \"4\": {\"4\": 78, \"17\": 1, \"125\": 6, \"117\": 3, \"124\": 2, \"42\": 1, \"111\": 1, \"88\": 1, \"102\": 1, \"40\": 1, \"108\": 1}, \"12\": {\"62\": 4, \"12\": 55, \"16\": 4, \"84\": 2, \"93\": 5, \"15\": 3, \"106\": 7, \"94\": 1, \"127\": 1, \"7\": 14, \"18\": 1, \"26\": 3, \"97\": 1, \"49\": 1, \"71\": 1, \"14\": 1}, \"126\": {\"39\": 12, \"11\": 4, \"126\": 58, \"10\": 11, \"27\": 2, \"21\": 2, \"108\": 10, \"30\": 2, \"109\": 8, \"36\": 5, \"88\": 4, \"78\": 2, \"70\": 2, \"24\": 1, \"122\": 1}, \"29\": {\"72\": 1, \"6\": 1, \"107\": 1, \"92\": 1, \"19\": 1, \"29\": 8, \"9\": 3, \"46\": 1, \"85\": 2, \"82\": 1, \"77\": 2, \"116\": 2, \"68\": 1, \"100\": 1, \"42\": 2, \"112\": 1, \"20\": 1, \"121\": 1, \"95\": 1}, \"107\": {\"92\": 1, \"69\": 4, \"107\": 73, \"99\": 3, \"98\": 5, \"9\": 1, \"105\": 11, \"44\": 4, \"40\": 11, \"1\": 5, \"90\": 1, \"113\": 1, \"114\": 8, \"33\": 3, \"100\": 1, \"47\": 1, \"81\": 2, \"34\": 1}, \"82\": {\"82\": 22, \"38\": 1, \"129\": 1, \"89\": 1, \"117\": 2, \"111\": 1}, \"94\": {\"101\": 1, \"94\": 54, \"15\": 10, \"110\": 2, \"8\": 7, \"0\": 3, \"30\": 1, \"93\": 2, \"106\": 1, \"7\": 2, \"88\": 1}, \"54\": {\"34\": 2, \"54\": 11, \"31\": 1, \"76\": 1, \"47\": 1}, \"10\": {\"10\": 77, \"126\": 13, \"24\": 3, \"27\": 9, \"11\": 4, \"70\": 1, \"39\": 3, \"109\": 9, \"36\": 5, \"88\": 1, \"108\": 2, \"118\": 1}, \"22\": {\"117\": 1, \"22\": 3, \"125\": 1, \"41\": 2, \"116\": 1, \"102\": 1, \"86\": 4, \"66\": 1, \"76\": 1, \"64\": 1}, \"119\": {\"119\": 5, \"123\": 1, \"102\": 2, \"125\": 4, \"86\": 1, \"45\": 1, \"48\": 2}}, \"C_1\": {\"24\": {\"26\": 2, \"23\": 17, \"24\": 63, \"54\": 5, \"49\": 1, \"53\": 4, \"15\": 3, \"55\": 10, \"39\": 1, \"38\": 1, \"51\": 1}, \"25\": {\"26\": 1, \"25\": 111, \"34\": 1, \"16\": 11, \"18\": 5, \"15\": 5, \"11\": 2, \"10\": 3, \"28\": 1}, \"45\": {\"46\": 6, \"56\": 16, \"45\": 73, \"5\": 23, \"6\": 6, \"50\": 7, \"44\": 12, \"4\": 1}, \"42\": {\"19\": 2, \"42\": 24, \"32\": 8, \"9\": 2, \"35\": 3, \"17\": 1}, \"2\": {\"9\": 3, \"2\": 24, \"52\": 2, \"36\": 3, \"14\": 1, \"48\": 2, \"8\": 1}, \"9\": {\"9\": 69, \"40\": 1, \"12\": 1, \"8\": 15, \"32\": 1, \"47\": 14, \"2\": 2, \"33\": 1, \"48\": 10, \"52\": 2, \"27\": 19, \"43\": 6, \"21\": 1, \"30\": 4, \"22\": 2, \"0\": 1, \"51\": 1}, \"21\": {\"21\": 68, \"52\": 6, \"27\": 2, \"12\": 2, \"9\": 2, \"13\": 2, \"22\": 12, \"1\": 1, \"48\": 2, \"3\": 4, \"30\": 2, \"20\": 10, \"0\": 7, \"8\": 2, \"47\": 2}, \"26\": {\"26\": 14, \"15\": 2, \"31\": 1, \"54\": 1, \"24\": 3, \"16\": 1, \"23\": 1, \"34\": 1}, \"49\": {\"49\": 21, \"37\": 2, \"41\": 1, \"55\": 2, \"32\": 2, \"43\": 2, \"7\": 1, \"24\": 1}, \"39\": {\"39\": 24, \"55\": 1, \"49\": 2, \"33\": 1}, \"46\": {\"46\": 58, \"44\": 10, \"50\": 14, \"56\": 10, \"45\": 11, \"20\": 1, \"6\": 8, \"3\": 2, \"4\": 6, \"30\": 6, \"5\": 4, \"0\": 5, \"57\": 1}, \"17\": {\"19\": 7, \"55\": 5, \"17\": 28, \"43\": 5, \"42\": 2, \"35\": 2, \"37\": 1, \"23\": 2, \"48\": 2, \"54\": 1, \"9\": 3, \"51\": 1, \"24\": 1, \"32\": 1, \"39\": 1, \"26\": 1, \"7\": 1}, \"19\": {\"19\": 95, \"15\": 6, \"33\": 1, \"35\": 6, \"17\": 6, \"38\": 1, \"23\": 8, \"39\": 1, \"42\": 5, \"55\": 7, \"8\": 1, \"43\": 14, \"31\": 1, \"24\": 1, \"51\": 1, \"1\": 2}, \"23\": {\"26\": 3, \"24\": 8, \"49\": 2, \"23\": 66, \"33\": 1, \"55\": 15, \"37\": 2, \"53\": 6, \"43\": 8, \"17\": 1, \"54\": 9, \"19\": 2, \"15\": 4, \"51\": 3, \"39\": 1, \"7\": 1}, \"1\": {\"1\": 68, \"29\": 5, \"48\": 5, \"9\": 3, \"27\": 6, \"8\": 2, \"57\": 2, \"47\": 5, \"40\": 3, \"13\": 1}, \"29\": {\"29\": 75, \"4\": 2, \"57\": 11, \"47\": 10, \"9\": 4, \"49\": 1, \"1\": 4, \"36\": 2, \"27\": 4, \"17\": 1, \"40\": 11, \"8\": 5, \"48\": 6, \"56\": 2, \"51\": 1, \"46\": 1}, \"56\": {\"56\": 85, \"45\": 18, \"5\": 6, \"50\": 4, \"46\": 6, \"44\": 14, \"27\": 2, \"57\": 3, \"12\": 2, \"22\": 1, \"40\": 1, \"52\": 1, \"30\": 1, \"6\": 4, \"4\": 1, \"8\": 1}, \"37\": {\"37\": 25, \"23\": 2, \"33\": 1, \"49\": 1, \"39\": 2, \"55\": 1}, \"33\": {\"42\": 3, \"33\": 22, \"32\": 1, \"38\": 2, \"43\": 1, \"49\": 2, \"39\": 1}, \"55\": {\"37\": 3, \"55\": 108, \"42\": 1, \"7\": 4, \"43\": 10, \"36\": 1, \"24\": 5, \"17\": 4, \"23\": 2, \"8\": 2, \"51\": 2}, \"30\": {\"0\": 19, \"30\": 68, \"40\": 1, \"51\": 1, \"44\": 3, \"22\": 2, \"50\": 5, \"27\": 3, \"8\": 2, \"48\": 1, \"47\": 2, \"57\": 1, \"46\": 4, \"6\": 1, \"56\": 1, \"9\": 1, \"20\": 1, \"3\": 4}, \"0\": {\"30\": 11, \"21\": 10, \"0\": 100, \"50\": 3, \"22\": 9, \"27\": 3, \"12\": 3, \"52\": 2, \"46\": 1, \"20\": 1, \"3\": 4, \"8\": 2, \"40\": 2, \"48\": 1}, \"36\": {\"32\": 3, \"12\": 2, \"41\": 1, \"36\": 40, \"2\": 2, \"51\": 1, \"13\": 4, \"43\": 2, \"22\": 1, \"9\": 3, \"8\": 2, \"7\": 1, \"49\": 1, \"48\": 1}, \"32\": {\"32\": 25, \"42\": 3, \"9\": 1, \"7\": 2, \"33\": 1}, \"31\": {\"31\": 25, \"38\": 2, \"39\": 1}, \"15\": {\"15\": 71, \"26\": 5, \"54\": 7, \"25\": 4, \"16\": 12, \"10\": 6, \"24\": 5, \"53\": 11, \"23\": 9, \"11\": 6, \"28\": 1, \"34\": 1}, \"12\": {\"12\": 94, \"52\": 3, \"20\": 12, \"22\": 2, \"3\": 3, \"13\": 1, \"30\": 1}, \"38\": {\"33\": 2, \"48\": 1, \"23\": 1, \"38\": 11, \"39\": 3, \"41\": 1, \"55\": 2, \"32\": 1, \"37\": 1, \"43\": 1}, \"40\": {\"40\": 57, \"44\": 13, \"0\": 3, \"30\": 1, \"4\": 12, \"56\": 15, \"57\": 16, \"8\": 3, \"9\": 2, \"1\": 2, \"13\": 3, \"27\": 4, \"47\": 5, \"46\": 2, \"29\": 2, \"45\": 4, \"22\": 1, \"48\": 1}, \"14\": {\"14\": 15, \"0\": 1, \"2\": 1, \"47\": 1, \"40\": 1, \"52\": 1, \"22\": 1, \"27\": 2, \"29\": 1}, \"13\": {\"14\": 2, \"13\": 130, \"12\": 2, \"52\": 4, \"51\": 1, \"9\": 2, \"22\": 5, \"36\": 3, \"3\": 1}, \"48\": {\"9\": 16, \"48\": 52, \"8\": 17, \"2\": 3, \"27\": 17, \"47\": 11, \"21\": 7, \"1\": 4, \"12\": 1, \"51\": 2, \"57\": 2, \"22\": 4, \"29\": 1, \"52\": 2, \"4\": 1, \"36\": 1, \"17\": 1, \"30\": 3, \"40\": 2, \"43\": 1}, \"34\": {\"34\": 20, \"23\": 2, \"33\": 2}, \"44\": {\"44\": 71, \"5\": 16, \"21\": 2, \"6\": 6, \"56\": 8, \"57\": 1, \"46\": 1, \"45\": 9, \"20\": 3, \"22\": 2, \"48\": 1, \"8\": 1, \"12\": 2, \"30\": 1, \"3\": 1, \"4\": 2, \"0\": 1, \"50\": 1, \"27\": 1}, \"5\": {\"5\": 120, \"56\": 1, \"6\": 6, \"46\": 4, \"45\": 11, \"50\": 8, \"44\": 2}, \"11\": {\"11\": 83, \"25\": 10, \"15\": 8, \"53\": 2, \"28\": 2, \"18\": 4, \"16\": 16, \"10\": 11, \"26\": 2, \"24\": 2}, \"7\": {\"7\": 21, \"33\": 2, \"42\": 1, \"32\": 1, \"55\": 1, \"49\": 1, \"43\": 1}, \"18\": {\"18\": 42, \"11\": 2, \"16\": 8, \"15\": 4, \"10\": 6, \"25\": 7, \"28\": 2, \"23\": 1}, \"52\": {\"52\": 102, \"9\": 2, \"21\": 5, \"22\": 10, \"48\": 2, \"12\": 1, \"27\": 4, \"30\": 1, \"47\": 1, \"2\": 1, \"0\": 1, \"8\": 2}, \"51\": {\"51\": 104, \"36\": 10, \"14\": 2, \"41\": 3, \"43\": 7, \"23\": 1, \"55\": 3, \"48\": 2, \"13\": 6, \"38\": 2, \"9\": 1, \"53\": 1}, \"41\": {\"41\": 17, \"51\": 4, \"49\": 1, \"36\": 1, \"13\": 1}, \"16\": {\"18\": 15, \"16\": 52, \"53\": 10, \"23\": 4, \"15\": 9, \"10\": 9, \"54\": 11, \"11\": 18, \"24\": 4, \"25\": 8}, \"22\": {\"22\": 59, \"14\": 2, \"2\": 2, \"52\": 10, \"21\": 21, \"30\": 3, \"9\": 3, \"13\": 9, \"0\": 10, \"8\": 3, \"20\": 3, \"12\": 4, \"3\": 3, \"40\": 1, \"27\": 1}, \"3\": {\"27\": 1, \"0\": 7, \"3\": 83, \"12\": 9, \"56\": 4, \"20\": 23, \"57\": 4, \"6\": 1, \"46\": 2, \"30\": 1, \"4\": 1, \"22\": 3, \"50\": 1}, \"54\": {\"54\": 104}, \"27\": {\"27\": 107, \"48\": 15, \"21\": 3, \"8\": 9, \"29\": 1, \"9\": 2, \"57\": 1, \"13\": 1, \"47\": 1, \"14\": 1, \"0\": 2, \"52\": 1}, \"20\": {\"20\": 94, \"13\": 2, \"12\": 8, \"27\": 1, \"0\": 5, \"3\": 20, \"52\": 4, \"48\": 1, \"22\": 4, \"21\": 1}, \"8\": {\"27\": 8, \"48\": 17, \"9\": 17, \"8\": 33, \"12\": 2, \"20\": 2, \"21\": 6, \"47\": 8, \"3\": 4, \"30\": 8, \"1\": 1, \"52\": 6, \"36\": 2, \"29\": 3, \"23\": 1, \"50\": 4, \"0\": 8, \"43\": 1, \"45\": 1, \"22\": 2, \"32\": 1, \"17\": 2, \"46\": 1}, \"50\": {\"50\": 107, \"12\": 1, \"46\": 6, \"6\": 10, \"0\": 2, \"30\": 6, \"45\": 4, \"44\": 4, \"56\": 4}, \"57\": {\"57\": 72, \"4\": 3, \"47\": 3, \"40\": 16, \"12\": 1, \"27\": 3, \"44\": 1, \"45\": 2, \"56\": 16, \"1\": 4, \"43\": 1, \"9\": 4, \"50\": 1, \"29\": 7, \"48\": 1, \"17\": 1, \"30\": 1, \"46\": 2, \"8\": 1}, \"4\": {\"44\": 2, \"4\": 86, \"0\": 1, \"29\": 3, \"50\": 1, \"40\": 7, \"52\": 2, \"57\": 9, \"6\": 1, \"56\": 6, \"46\": 4, \"45\": 3, \"27\": 3, \"48\": 2, \"8\": 1, \"9\": 1}, \"47\": {\"47\": 78, \"29\": 13, \"48\": 7, \"2\": 1, \"8\": 12, \"27\": 12, \"22\": 2, \"9\": 9, \"52\": 1, \"1\": 5, \"0\": 1, \"30\": 3, \"40\": 2}, \"10\": {\"11\": 4, \"10\": 51, \"28\": 3, \"53\": 6, \"16\": 14, \"15\": 8, \"54\": 8, \"25\": 2}, \"35\": {\"35\": 22, \"7\": 1, \"42\": 2, \"19\": 3, \"17\": 2, \"33\": 2, \"49\": 1, \"31\": 1, \"43\": 1, \"55\": 1}, \"53\": {\"41\": 1, \"53\": 59, \"55\": 10, \"39\": 1, \"23\": 19, \"24\": 9, \"36\": 1, \"37\": 1, \"54\": 7, \"7\": 2, \"16\": 3, \"17\": 2, \"51\": 3, \"15\": 4, \"10\": 2, \"28\": 1, \"11\": 1}, \"6\": {\"6\": 27, \"56\": 3, \"12\": 2, \"50\": 3, \"52\": 2, \"1\": 1, \"5\": 12, \"44\": 9, \"27\": 4, \"46\": 8, \"45\": 13, \"30\": 3, \"0\": 4, \"3\": 1, \"29\": 1, \"8\": 2, \"40\": 1}, \"43\": {\"43\": 133, \"17\": 1, \"36\": 1, \"55\": 4, \"42\": 1}, \"28\": {\"28\": 20, \"10\": 3, \"15\": 2, \"11\": 1, \"53\": 1, \"16\": 1}}, \"W_2\": {\"73\": {\"85\": 2, \"107\": 1, \"63\": 1, \"81\": 2, \"73\": 13, \"100\": 1, \"54\": 1, \"44\": 1, \"57\": 2, \"90\": 1, \"66\": 1, \"104\": 1, \"117\": 1}, \"40\": {\"40\": 44, \"100\": 2, \"95\": 5, \"27\": 1, \"3\": 7, \"9\": 1, \"75\": 1, \"72\": 4, \"107\": 3, \"44\": 2, \"71\": 2, \"114\": 9, \"69\": 13, \"18\": 5, \"1\": 10, \"33\": 9, \"127\": 1, \"0\": 1, \"88\": 2, \"98\": 3, \"14\": 1, \"7\": 1, \"70\": 1, \"84\": 2, \"36\": 1, \"108\": 1}, \"99\": {\"107\": 1, \"58\": 1, \"90\": 1, \"99\": 12, \"114\": 1, \"38\": 1, \"112\": 1, \"44\": 1, \"116\": 1, \"66\": 1, \"83\": 3, \"34\": 1, \"64\": 1, \"71\": 1, \"128\": 1, \"27\": 1, \"9\": 1, \"98\": 2}, \"5\": {\"5\": 71, \"119\": 1, \"103\": 1, \"129\": 1, \"111\": 7, \"117\": 14, \"124\": 8, \"109\": 1, \"122\": 1, \"39\": 1, \"50\": 1, \"123\": 1, \"116\": 1, \"88\": 1, \"70\": 1, \"102\": 1}, \"108\": {\"108\": 95, \"75\": 1, \"11\": 7, \"10\": 2, \"27\": 4, \"30\": 3, \"43\": 12, \"0\": 1, \"87\": 1, \"36\": 5, \"24\": 1}, \"128\": {\"40\": 1, \"58\": 1, \"64\": 1, \"98\": 1, \"34\": 1, \"46\": 1, \"128\": 9, \"83\": 1, \"92\": 2, \"82\": 1, \"100\": 1, \"114\": 1, \"21\": 1, \"99\": 1, \"110\": 1}, \"89\": {\"57\": 1, \"53\": 1, \"35\": 2, \"94\": 1, \"20\": 2, \"112\": 1, \"89\": 5, \"82\": 1, \"91\": 1, \"121\": 1, \"29\": 1, \"58\": 2, \"107\": 1, \"90\": 1, \"56\": 1, \"46\": 2, \"52\": 2, \"81\": 1, \"95\": 1, \"85\": 2, \"64\": 2, \"129\": 2, \"34\": 1, \"123\": 1}, \"107\": {\"107\": 30, \"108\": 2, \"95\": 2, \"31\": 2, \"114\": 4, \"1\": 1, \"118\": 1, \"51\": 1, \"32\": 2, \"44\": 3, \"21\": 2, \"10\": 1, \"89\": 1, \"42\": 1, \"92\": 2, \"126\": 1, \"82\": 2, \"99\": 2, \"15\": 1, \"71\": 1, \"70\": 2}, \"2\": {\"5\": 1, \"2\": 8, \"17\": 1, \"123\": 2, \"117\": 5, \"6\": 1, \"90\": 2, \"50\": 1, \"80\": 1, \"97\": 1, \"29\": 2, \"65\": 1, \"37\": 1, \"48\": 1, \"129\": 1, \"124\": 1, \"4\": 1, \"121\": 1}, \"78\": {\"78\": 35, \"70\": 3, \"126\": 1, \"21\": 2, \"109\": 2, \"10\": 1, \"24\": 2, \"88\": 2}, \"85\": {\"5\": 4, \"85\": 12, \"64\": 1, \"37\": 1, \"111\": 1, \"89\": 1, \"90\": 1, \"25\": 1, \"91\": 1, \"34\": 1, \"13\": 1, \"2\": 2, \"112\": 1, \"68\": 1, \"28\": 2, \"53\": 1}, \"44\": {\"44\": 81, \"58\": 1, \"14\": 1, \"74\": 1, \"54\": 1, \"114\": 2, \"75\": 1, \"89\": 1, \"3\": 2, \"127\": 3, \"33\": 2, \"83\": 1, \"34\": 1, \"40\": 1, \"95\": 1}, \"58\": {\"128\": 1, \"53\": 1, \"58\": 8, \"109\": 2, \"61\": 2, \"19\": 1, \"112\": 1, \"51\": 1, \"54\": 1, \"89\": 1, \"32\": 1}, \"57\": {\"89\": 1, \"57\": 5, \"19\": 2, \"24\": 1, \"103\": 2, \"73\": 2, \"91\": 1, \"64\": 1, \"88\": 1, \"52\": 1, \"54\": 1, \"92\": 1, \"5\": 1}, \"41\": {\"41\": 9, \"121\": 1, \"111\": 2, \"124\": 1, \"43\": 1, \"80\": 2, \"91\": 1, \"22\": 1, \"6\": 2}, \"53\": {\"128\": 1, \"44\": 2, \"56\": 1, \"32\": 1, \"98\": 1, \"53\": 3, \"83\": 1, \"58\": 2, \"91\": 1, \"34\": 1, \"51\": 2}, \"14\": {\"95\": 2, \"9\": 1, \"14\": 18, \"70\": 1, \"101\": 1, \"69\": 2, \"24\": 2, \"71\": 2, \"3\": 1, \"99\": 1, \"31\": 2, \"21\": 2, \"126\": 2, \"33\": 4, \"127\": 2, \"8\": 1, \"18\": 1, \"114\": 2, \"10\": 1}, \"83\": {\"9\": 1, \"83\": 19, \"20\": 1, \"81\": 1, \"98\": 1, \"123\": 1, \"56\": 1, \"14\": 1, \"99\": 2, \"34\": 2, \"75\": 1, \"52\": 1, \"114\": 2, \"7\": 1, \"51\": 1, \"32\": 1, \"107\": 2, \"106\": 1}, \"119\": {\"28\": 2, \"112\": 2, \"63\": 1, \"119\": 5, \"77\": 1, \"44\": 2, \"56\": 1, \"91\": 1, \"54\": 1, \"129\": 1, \"79\": 2, \"74\": 1}, \"95\": {\"9\": 2, \"54\": 1, \"35\": 1, \"95\": 13, \"127\": 5, \"114\": 2, \"100\": 2, \"49\": 1, \"71\": 1, \"40\": 1, \"84\": 1, \"106\": 1, \"14\": 2, \"69\": 1, \"88\": 1, \"1\": 1}, \"28\": {\"28\": 11, \"85\": 4, \"90\": 1, \"91\": 1, \"68\": 1, \"120\": 2}, \"19\": {\"83\": 1, \"85\": 1, \"121\": 1, \"54\": 1, \"82\": 3, \"19\": 10, \"75\": 1, \"9\": 1, \"58\": 2, \"67\": 1, \"92\": 2, \"57\": 1, \"112\": 1, \"68\": 1, \"100\": 1}, \"69\": {\"95\": 2, \"69\": 84, \"71\": 6, \"101\": 2, \"1\": 10, \"72\": 1, \"26\": 4, \"127\": 1, \"126\": 2, \"84\": 1, \"33\": 3, \"18\": 5, \"122\": 1, \"108\": 3, \"50\": 1, \"87\": 1, \"109\": 1, \"62\": 2, \"3\": 2}, \"93\": {\"69\": 4, \"93\": 56, \"36\": 3, \"16\": 6, \"110\": 2, \"101\": 4, \"113\": 5, \"15\": 9, \"58\": 1, \"122\": 4, \"118\": 3, \"12\": 2, \"39\": 1, \"11\": 1, \"7\": 4, \"0\": 2, \"105\": 6, \"3\": 2, \"40\": 3, \"18\": 6, \"8\": 2, \"106\": 1, \"102\": 1, \"1\": 1, \"62\": 1, \"26\": 1, \"109\": 1, \"126\": 1, \"30\": 1}, \"9\": {\"47\": 1, \"9\": 24, \"38\": 1, \"34\": 1, \"49\": 2, \"83\": 2, \"110\": 1}, \"118\": {\"43\": 3, \"93\": 3, \"27\": 3, \"118\": 21, \"30\": 5, \"0\": 3, \"122\": 5, \"15\": 3, \"8\": 4, \"36\": 3, \"26\": 2, \"7\": 2, \"16\": 2, \"126\": 2, \"113\": 2, \"12\": 1, \"108\": 1, \"111\": 1, \"87\": 1, \"109\": 1}, \"43\": {\"118\": 2, \"43\": 36, \"70\": 1, \"36\": 16, \"11\": 4, \"108\": 15, \"0\": 3, \"94\": 2, \"113\": 2, \"12\": 2, \"126\": 6, \"8\": 5, \"87\": 7, \"122\": 4, \"15\": 1, \"88\": 2, \"30\": 5, \"16\": 1, \"39\": 1, \"23\": 1}, \"47\": {\"47\": 5, \"19\": 1, \"92\": 2, \"64\": 1, \"25\": 1, \"128\": 2}, \"125\": {\"125\": 125, \"102\": 6, \"5\": 1, \"111\": 2, \"41\": 1, \"115\": 1, \"59\": 2, \"22\": 1, \"79\": 1, \"86\": 1, \"124\": 2, \"44\": 1}, \"29\": {\"83\": 1, \"29\": 19, \"90\": 1, \"89\": 1, \"91\": 2, \"77\": 3, \"129\": 1, \"68\": 1, \"57\": 2, \"46\": 1}, \"122\": {\"122\": 64, \"87\": 2, \"109\": 3, \"36\": 6, \"11\": 4, \"43\": 8, \"110\": 1, \"0\": 4, \"93\": 5, \"94\": 2, \"126\": 2, \"30\": 5, \"10\": 1, \"108\": 5, \"118\": 5, \"8\": 6, \"105\": 1, \"15\": 3, \"70\": 3, \"88\": 2, \"23\": 1, \"113\": 2, \"16\": 2, \"39\": 1, \"7\": 1, \"62\": 1}, \"46\": {\"63\": 2, \"54\": 1, \"46\": 9, \"19\": 2, \"67\": 2}, \"86\": {\"102\": 1, \"86\": 27, \"48\": 2, \"59\": 1, \"104\": 1}, \"70\": {\"78\": 3, \"70\": 58, \"24\": 14, \"126\": 6, \"10\": 1, \"109\": 8, \"88\": 12, \"21\": 4, \"27\": 2, \"39\": 9, \"87\": 3, \"43\": 3, \"108\": 1}, \"51\": {\"23\": 2, \"51\": 11, \"120\": 1, \"40\": 1, \"48\": 1, \"107\": 1, \"20\": 2, \"111\": 1}, \"23\": {\"23\": 9, \"30\": 2, \"94\": 3, \"118\": 1, \"15\": 2, \"7\": 4, \"93\": 3, \"105\": 1, \"96\": 2, \"113\": 3, \"97\": 2, \"12\": 1, \"107\": 1, \"3\": 3, \"0\": 2, \"87\": 2, \"49\": 1, \"62\": 1, \"72\": 1}, \"121\": {\"121\": 19, \"57\": 2, \"64\": 1, \"129\": 1, \"25\": 1, \"91\": 1, \"38\": 1, \"2\": 1, \"66\": 1, \"89\": 2, \"123\": 1, \"117\": 2, \"45\": 1, \"98\": 1, \"90\": 1}, \"63\": {\"21\": 1, \"63\": 8, \"77\": 1, \"46\": 1, \"103\": 1, \"17\": 1, \"19\": 1, \"2\": 1, \"117\": 1, \"22\": 1, \"57\": 1, \"104\": 1, \"39\": 1}, \"102\": {\"57\": 1, \"102\": 87, \"48\": 1, \"117\": 6, \"2\": 2, \"124\": 2, \"111\": 14, \"125\": 3, \"88\": 1, \"65\": 1, \"104\": 1, \"42\": 1, \"5\": 2}, \"21\": {\"21\": 47, \"78\": 1}, \"55\": {\"19\": 1, \"54\": 1, \"55\": 8, \"89\": 1, \"63\": 1, \"81\": 1, \"116\": 1, \"128\": 2}, \"54\": {\"46\": 1, \"51\": 1, \"35\": 1, \"54\": 8, \"74\": 1, \"68\": 1, \"107\": 2, \"19\": 1, \"9\": 2, \"31\": 1, \"75\": 1}, \"6\": {\"6\": 19, \"120\": 1, \"103\": 1, \"85\": 2, \"129\": 2, \"124\": 2, \"2\": 1, \"77\": 1, \"65\": 1, \"91\": 1, \"66\": 1}, \"109\": {\"109\": 47, \"24\": 7, \"70\": 6, \"88\": 16, \"78\": 5, \"126\": 7, \"43\": 2, \"108\": 1, \"87\": 3, \"90\": 1, \"39\": 4, \"10\": 1}, \"64\": {\"109\": 1, \"121\": 1, \"116\": 1, \"89\": 1, \"64\": 7, \"37\": 1, \"73\": 1, \"19\": 1, \"103\": 1, \"61\": 1}, \"20\": {\"20\": 9, \"95\": 2, \"83\": 1, \"53\": 1, \"7\": 1, \"49\": 1, \"60\": 1}, \"98\": {\"98\": 99, \"64\": 2, \"38\": 1, \"9\": 1, \"44\": 1, \"90\": 2, \"52\": 1, \"19\": 1, \"34\": 1, \"42\": 1, \"123\": 1, \"121\": 1, \"99\": 1, \"43\": 1}, \"92\": {\"98\": 1, \"6\": 1, \"20\": 1, \"92\": 6, \"114\": 1, \"19\": 2, \"107\": 1, \"81\": 1, \"82\": 2, \"85\": 1, \"32\": 1, \"42\": 2, \"101\": 1, \"76\": 1, \"111\": 1, \"64\": 1, \"57\": 2, \"66\": 1, \"103\": 1}, \"35\": {\"35\": 7, \"74\": 2, \"51\": 3}, \"113\": {\"113\": 46, \"24\": 1, \"122\": 1, \"108\": 1, \"16\": 4, \"94\": 1, \"78\": 1, \"93\": 2, \"126\": 1, \"7\": 2, \"23\": 1, \"8\": 2, \"18\": 1, \"118\": 1, \"11\": 1, \"105\": 1, \"110\": 2, \"21\": 1, \"15\": 1, \"70\": 1}, \"71\": {\"95\": 2, \"71\": 63, \"127\": 8, \"62\": 1, \"84\": 9, \"118\": 1, \"107\": 2, \"44\": 1, \"33\": 1, \"106\": 2, \"1\": 4, \"8\": 1, \"109\": 1, \"14\": 2, \"12\": 1, \"87\": 1}, \"94\": {\"94\": 30, \"87\": 2, \"23\": 1, \"36\": 2, \"78\": 1, \"96\": 1, \"8\": 10, \"113\": 2, \"30\": 2, \"12\": 1, \"118\": 2, \"60\": 1, \"39\": 1, \"126\": 2, \"127\": 1, \"0\": 3, \"88\": 1, \"24\": 1}, \"52\": {\"99\": 1, \"91\": 2, \"52\": 10, \"76\": 1, \"58\": 2, \"34\": 2, \"70\": 1, \"54\": 1}, \"116\": {\"125\": 1, \"64\": 1, \"41\": 2, \"116\": 7, \"111\": 2, \"112\": 3, \"123\": 1, \"124\": 2, \"66\": 1, \"59\": 1, \"54\": 2, \"121\": 1, \"119\": 1, \"79\": 1, \"102\": 2}, \"87\": {\"87\": 51, \"118\": 1, \"10\": 3, \"36\": 3, \"43\": 7, \"108\": 10, \"88\": 4, \"24\": 3, \"8\": 2, \"27\": 3, \"126\": 1, \"11\": 6, \"40\": 1, \"122\": 3, \"109\": 3, \"39\": 5, \"70\": 3, \"94\": 1, \"30\": 2}, \"90\": {\"92\": 1, \"52\": 1, \"77\": 3, \"90\": 113, \"76\": 2, \"53\": 1, \"83\": 1, \"73\": 1, \"29\": 1, \"111\": 2, \"98\": 7, \"33\": 3, \"123\": 1, \"68\": 2, \"85\": 1, \"25\": 1, \"121\": 4, \"9\": 1, \"40\": 2}, \"91\": {\"91\": 12, \"67\": 1, \"103\": 1, \"42\": 1, \"89\": 1, \"29\": 1, \"98\": 2, \"77\": 1, \"66\": 1, \"111\": 1, \"41\": 1, \"128\": 1, \"119\": 1, \"65\": 1, \"25\": 2}, \"84\": {\"84\": 35, \"62\": 12, \"71\": 3, \"127\": 4, \"109\": 3, \"18\": 8, \"33\": 5, \"1\": 2, \"7\": 1, \"40\": 3, \"3\": 4, \"69\": 3, \"106\": 1, \"26\": 3, \"78\": 1, \"105\": 3, \"93\": 1}, \"24\": {\"24\": 70, \"10\": 2, \"70\": 9, \"109\": 5, \"126\": 6, \"78\": 2, \"39\": 6, \"88\": 12}, \"33\": {\"33\": 99, \"18\": 1, \"69\": 10, \"87\": 1, \"40\": 3, \"1\": 7, \"62\": 2, \"84\": 6, \"127\": 1, \"88\": 1, \"71\": 1, \"114\": 1, \"108\": 1}, \"81\": {\"81\": 8, \"83\": 1, \"72\": 1, \"54\": 1, \"74\": 1, \"69\": 2, \"129\": 3, \"90\": 1, \"67\": 1, \"40\": 2, \"68\": 1, \"89\": 1, \"95\": 1}, \"115\": {\"73\": 2, \"104\": 1, \"4\": 2, \"115\": 5, \"85\": 1, \"86\": 1}, \"77\": {\"73\": 1, \"77\": 3, \"111\": 1, \"119\": 2, \"120\": 2, \"91\": 2, \"76\": 1, \"89\": 1, \"29\": 1, \"38\": 1, \"85\": 1}, \"106\": {\"106\": 61, \"3\": 7, \"14\": 5, \"12\": 7, \"21\": 1, \"33\": 1, \"84\": 5, \"101\": 17, \"24\": 2, \"93\": 1, \"62\": 1, \"15\": 1, \"102\": 1, \"127\": 3, \"71\": 5, \"26\": 2}, \"42\": {\"116\": 1, \"28\": 1, \"121\": 3, \"91\": 1, \"103\": 1, \"77\": 1, \"73\": 1, \"6\": 1, \"70\": 1, \"42\": 4, \"29\": 2, \"109\": 1, \"119\": 1, \"59\": 2, \"88\": 1, \"85\": 2, \"124\": 3, \"87\": 1}, \"38\": {\"38\": 6, \"28\": 1, \"9\": 2, \"52\": 1, \"40\": 1, \"97\": 1, \"114\": 2, \"119\": 1, \"44\": 1}, \"36\": {\"36\": 70, \"11\": 6, \"78\": 1, \"118\": 2, \"27\": 3, \"30\": 9, \"88\": 3, \"10\": 1, \"122\": 3, \"39\": 2, \"43\": 5, \"15\": 3, \"108\": 4, \"93\": 1, \"8\": 1}, \"79\": {\"79\": 11, \"63\": 1, \"59\": 1, \"104\": 1, \"124\": 1, \"86\": 1}, \"60\": {\"60\": 12, \"71\": 2, \"62\": 1, \"127\": 2, \"29\": 1, \"24\": 1, \"108\": 1, \"94\": 3, \"70\": 1, \"3\": 1, \"101\": 1, \"96\": 1, \"49\": 1}, \"80\": {\"80\": 10, \"116\": 1, \"104\": 1, \"29\": 1, \"86\": 2, \"125\": 1}, \"32\": {\"32\": 21, \"54\": 1, \"118\": 1, \"34\": 1, \"51\": 3, \"107\": 1, \"58\": 2, \"90\": 1, \"44\": 1, \"83\": 2, \"61\": 1, \"42\": 1}, \"0\": {\"0\": 72, \"71\": 1, \"101\": 1, \"24\": 1, \"30\": 3, \"93\": 5, \"15\": 10, \"8\": 8, \"7\": 1, \"18\": 1, \"110\": 2, \"23\": 1, \"94\": 4, \"122\": 1, \"16\": 1, \"106\": 3, \"118\": 1}, \"127\": {\"127\": 48, \"23\": 1, \"101\": 2, \"105\": 6, \"71\": 8, \"3\": 15, \"26\": 1, \"7\": 1, \"12\": 3, \"84\": 12, \"62\": 1, \"106\": 7, \"24\": 1, \"1\": 6, \"15\": 2, \"18\": 3, \"14\": 3, \"75\": 1, \"8\": 1, \"96\": 2}, \"114\": {\"114\": 87, \"95\": 5, \"90\": 1, \"71\": 1, \"81\": 1, \"107\": 3, \"110\": 1, \"33\": 2, \"40\": 9, \"14\": 1, \"106\": 2, \"117\": 1, \"1\": 2}, \"62\": {\"62\": 91, \"127\": 2, \"21\": 1, \"105\": 10, \"87\": 1, \"84\": 3, \"26\": 6, \"33\": 5, \"16\": 2, \"7\": 2, \"18\": 8, \"106\": 2, \"40\": 1, \"12\": 1, \"71\": 1, \"14\": 1, \"3\": 2, \"69\": 1}, \"129\": {\"129\": 17, \"73\": 1, \"13\": 1, \"121\": 1, \"91\": 2, \"28\": 1, \"111\": 1, \"6\": 2, \"64\": 2, \"103\": 1, \"19\": 1, \"124\": 1, \"2\": 1}, \"56\": {\"90\": 1, \"53\": 1, \"68\": 1, \"56\": 2, \"83\": 1, \"107\": 1, \"51\": 1, \"52\": 2, \"47\": 2}, \"76\": {\"76\": 7, \"0\": 1, \"44\": 2, \"90\": 2, \"92\": 1, \"127\": 1, \"29\": 2}, \"72\": {\"72\": 14, \"74\": 2, \"33\": 1, \"89\": 1, \"23\": 2, \"21\": 1, \"71\": 1, \"29\": 1, \"114\": 2, \"61\": 1, \"14\": 2}, \"88\": {\"88\": 85, \"126\": 6, \"21\": 2, \"70\": 8, \"24\": 10, \"109\": 5, \"39\": 6, \"78\": 1, \"87\": 1}, \"68\": {\"68\": 7, \"28\": 1, \"66\": 1, \"56\": 1, \"21\": 1, \"89\": 1, \"6\": 1, \"46\": 2, \"39\": 1}, \"67\": {\"68\": 1, \"67\": 4, \"73\": 1, \"78\": 1, \"28\": 1, \"21\": 1, \"65\": 2, \"117\": 3, \"108\": 1, \"48\": 1}, \"100\": {\"98\": 2, \"100\": 7, \"61\": 1, \"40\": 4, \"81\": 1, \"35\": 1}, \"34\": {\"34\": 15, \"38\": 1, \"95\": 2, \"107\": 2, \"81\": 1, \"83\": 2, \"21\": 1, \"44\": 1, \"47\": 1, \"24\": 1, \"54\": 2, \"58\": 1, \"53\": 1, \"98\": 1}, \"16\": {\"16\": 64, \"7\": 16, \"101\": 4, \"93\": 10, \"113\": 1, \"105\": 9, \"110\": 1, \"0\": 2, \"3\": 1, \"26\": 4, \"18\": 3, \"106\": 1, \"62\": 3, \"8\": 2, \"23\": 2, \"88\": 1}, \"126\": {\"126\": 62, \"70\": 6, \"108\": 7, \"10\": 7, \"88\": 5, \"27\": 4, \"87\": 4, \"39\": 7, \"78\": 2, \"24\": 8, \"43\": 1, \"109\": 5, \"11\": 2}, \"4\": {\"4\": 78, \"125\": 2, \"80\": 1, \"120\": 1, \"88\": 1, \"124\": 1, \"24\": 1, \"79\": 1, \"115\": 1, \"102\": 1}, \"101\": {\"101\": 107, \"7\": 6, \"12\": 5, \"106\": 10, \"62\": 1, \"16\": 1, \"3\": 6, \"93\": 3, \"49\": 1, \"60\": 1, \"23\": 1, \"105\": 2, \"114\": 1, \"26\": 1}, \"104\": {\"67\": 3, \"104\": 5, \"111\": 1, \"112\": 2, \"5\": 2, \"48\": 2, \"117\": 2, \"116\": 1, \"86\": 1, \"39\": 1}, \"30\": {\"78\": 1, \"30\": 40, \"23\": 2, \"111\": 1, \"14\": 2, \"8\": 6, \"118\": 5, \"94\": 2, \"36\": 9, \"93\": 4, \"122\": 10, \"108\": 6, \"105\": 2, \"7\": 1, \"11\": 4, \"15\": 5, \"43\": 5, \"12\": 1, \"24\": 1, \"27\": 1, \"0\": 1, \"26\": 1}, \"8\": {\"30\": 4, \"0\": 21, \"8\": 55, \"94\": 2, \"118\": 5, \"113\": 2, \"36\": 5, \"93\": 6, \"108\": 3, \"11\": 3, \"15\": 10, \"87\": 1, \"110\": 2, \"127\": 1, \"43\": 2, \"106\": 1, \"16\": 2, \"122\": 2, \"7\": 1}, \"82\": {\"82\": 23, \"19\": 2, \"103\": 1, \"108\": 1, \"9\": 1, \"107\": 1, \"117\": 1, \"57\": 1, \"42\": 1, \"44\": 1, \"95\": 1, \"5\": 1, \"70\": 1}, \"26\": {\"26\": 54, \"23\": 1, \"105\": 7, \"126\": 3, \"87\": 2, \"114\": 1, \"113\": 1, \"69\": 9, \"1\": 5, \"62\": 16, \"127\": 2, \"84\": 4, \"24\": 1, \"71\": 3, \"18\": 11, \"40\": 4, \"39\": 1, \"7\": 1, \"27\": 1, \"0\": 1, \"94\": 1, \"12\": 2, \"108\": 2, \"14\": 1, \"15\": 1, \"109\": 1, \"16\": 1, \"88\": 1}, \"96\": {\"30\": 1, \"3\": 1, \"12\": 4, \"60\": 1, \"23\": 1, \"15\": 1, \"7\": 1, \"107\": 1, \"101\": 3, \"27\": 2, \"36\": 1, \"62\": 1, \"87\": 1, \"106\": 1}, \"3\": {\"127\": 11, \"3\": 70, \"35\": 1, \"7\": 1, \"14\": 2, \"105\": 4, \"16\": 2, \"106\": 11, \"12\": 2, \"101\": 6, \"62\": 3, \"15\": 1, \"33\": 2, \"90\": 2, \"23\": 1, \"26\": 2, \"20\": 1, \"60\": 1, \"72\": 1, \"70\": 1, \"84\": 4, \"71\": 3, \"18\": 3, \"88\": 1}, \"25\": {\"25\": 8, \"21\": 1, \"19\": 1, \"78\": 1, \"61\": 1, \"112\": 1, \"128\": 1, \"129\": 1, \"91\": 1}, \"13\": {\"13\": 5, \"115\": 1, \"71\": 1, \"104\": 1, \"43\": 1, \"22\": 1, \"4\": 1, \"124\": 1, \"5\": 1, \"70\": 1, \"48\": 2}, \"37\": {\"115\": 1, \"13\": 1, \"65\": 2, \"17\": 1, \"37\": 4, \"89\": 1, \"43\": 1, \"85\": 1, \"2\": 1, \"73\": 1, \"59\": 2}, \"49\": {\"49\": 11, \"87\": 2, \"51\": 1, \"61\": 2, \"107\": 2, \"92\": 1, \"9\": 1, \"31\": 2, \"74\": 1, \"39\": 1}, \"111\": {\"111\": 95, \"86\": 1, \"41\": 1, \"85\": 1, \"5\": 11, \"124\": 11, \"2\": 2, \"102\": 3, \"80\": 1, \"65\": 2, \"104\": 1, \"117\": 4, \"90\": 1, \"125\": 2}, \"105\": {\"94\": 1, \"16\": 9, \"105\": 40, \"40\": 3, \"7\": 10, \"97\": 1, \"26\": 3, \"113\": 1, \"127\": 9, \"101\": 4, \"12\": 3, \"62\": 10, \"110\": 2, \"93\": 3, \"3\": 8, \"33\": 1, \"106\": 7, \"18\": 3, \"84\": 1, \"0\": 2, \"30\": 1, \"11\": 1, \"107\": 1, \"27\": 1, \"15\": 2, \"78\": 1, \"71\": 1, \"14\": 1, \"122\": 1, \"87\": 1}, \"17\": {\"37\": 2, \"17\": 2, \"78\": 1, \"70\": 2, \"63\": 1, \"48\": 4, \"111\": 2, \"65\": 2}, \"65\": {\"65\": 16, \"70\": 1, \"6\": 1, \"91\": 1, \"126\": 1}, \"123\": {\"37\": 1, \"123\": 7, \"91\": 2, \"5\": 1, \"17\": 1, \"22\": 1, \"90\": 1, \"129\": 1, \"6\": 1}, \"74\": {\"74\": 8, \"126\": 2, \"101\": 1, \"7\": 1, \"119\": 1, \"49\": 1, \"9\": 1, \"95\": 1}, \"97\": {\"97\": 5, \"7\": 5, \"66\": 1, \"93\": 1, \"23\": 3, \"119\": 1, \"107\": 1, \"8\": 1, \"12\": 1, \"90\": 1}, \"112\": {\"112\": 7, \"119\": 1, \"53\": 1, \"116\": 1, \"42\": 1, \"59\": 1, \"32\": 1, \"83\": 1, \"85\": 1, \"120\": 1}, \"120\": {\"112\": 2, \"91\": 2, \"120\": 6, \"4\": 1, \"29\": 2, \"96\": 1, \"117\": 2, \"47\": 1, \"92\": 1, \"59\": 1, \"90\": 1}, \"50\": {\"45\": 2, \"50\": 9, \"66\": 1, \"29\": 1, \"5\": 1, \"55\": 1, \"81\": 1}, \"59\": {\"112\": 1, \"24\": 1, \"120\": 2, \"59\": 7, \"116\": 2, \"125\": 2, \"85\": 1}, \"10\": {\"10\": 35, \"87\": 4, \"39\": 5, \"70\": 4, \"126\": 5, \"24\": 1, \"27\": 1, \"78\": 2, \"7\": 1, \"88\": 1, \"11\": 1}, \"45\": {\"50\": 1, \"111\": 1, \"45\": 6, \"91\": 2, \"37\": 1, \"117\": 1, \"88\": 1, \"5\": 2, \"32\": 1}, \"12\": {\"12\": 46, \"101\": 4, \"3\": 2, \"21\": 2, \"8\": 2, \"16\": 4, \"26\": 1, \"7\": 4, \"105\": 6, \"106\": 7, \"88\": 1, \"93\": 1, \"97\": 1, \"23\": 1, \"110\": 4, \"14\": 1, \"40\": 1}, \"75\": {\"51\": 2, \"98\": 1, \"75\": 5, \"109\": 1, \"127\": 1, \"14\": 1, \"9\": 1, \"1\": 1, \"112\": 1, \"54\": 2}, \"48\": {\"48\": 17, \"102\": 1, \"22\": 1, \"92\": 1}, \"61\": {\"38\": 2, \"57\": 1, \"24\": 1, \"42\": 1, \"114\": 1, \"27\": 1, \"61\": 8, \"9\": 1, \"58\": 1, \"88\": 1, \"8\": 2}, \"124\": {\"111\": 17, \"86\": 2, \"5\": 8, \"37\": 1, \"22\": 1, \"52\": 1, \"42\": 1, \"124\": 68, \"66\": 1, \"48\": 1, \"90\": 4, \"117\": 7, \"114\": 2, \"125\": 2, \"98\": 1, \"119\": 1, \"6\": 1, \"129\": 1, \"116\": 2, \"102\": 1, \"107\": 1}, \"11\": {\"108\": 4, \"36\": 9, \"11\": 41, \"0\": 1, \"27\": 7, \"10\": 1, \"88\": 2, \"87\": 2, \"8\": 5, \"30\": 3, \"15\": 1, \"94\": 1, \"43\": 1, \"122\": 2}, \"103\": {\"103\": 8, \"46\": 1, \"6\": 2, \"45\": 1, \"5\": 1, \"125\": 1, \"120\": 1, \"28\": 1}, \"7\": {\"7\": 80, \"97\": 1, \"16\": 13, \"10\": 1, \"23\": 1, \"106\": 5, \"15\": 1, \"109\": 1, \"93\": 5, \"78\": 2, \"84\": 1, \"12\": 1, \"105\": 6, \"110\": 1, \"62\": 1, \"39\": 1, \"0\": 4, \"3\": 1, \"8\": 2, \"26\": 2, \"101\": 2}, \"18\": {\"18\": 73, \"33\": 4, \"105\": 2, \"84\": 3, \"127\": 2, \"26\": 9, \"62\": 10, \"1\": 4, \"69\": 7, \"108\": 1, \"24\": 1, \"101\": 2, \"88\": 1, \"43\": 1}, \"31\": {\"31\": 9, \"1\": 2, \"127\": 1, \"81\": 1, \"40\": 1, \"89\": 2, \"17\": 1, \"25\": 1, \"92\": 2}, \"15\": {\"97\": 2, \"15\": 65, \"16\": 3, \"0\": 15, \"87\": 1, \"43\": 1, \"93\": 4, \"11\": 1, \"8\": 8, \"62\": 2, \"30\": 3, \"70\": 1, \"3\": 1, \"75\": 1, \"12\": 1, \"113\": 2, \"118\": 2, \"94\": 2, \"7\": 2, \"36\": 1}, \"1\": {\"1\": 49, \"69\": 8, \"78\": 1, \"71\": 2, \"18\": 10, \"26\": 5, \"40\": 9, \"3\": 1, \"114\": 5, \"33\": 11, \"109\": 2, \"84\": 5, \"127\": 7, \"101\": 2, \"62\": 1, \"51\": 1, \"108\": 1, \"46\": 1, \"49\": 1}, \"66\": {\"66\": 6, \"116\": 1, \"90\": 3, \"2\": 2, \"98\": 1, \"81\": 1, \"6\": 1, \"91\": 1, \"37\": 1, \"119\": 1, \"124\": 1, \"128\": 1}, \"110\": {\"36\": 1, \"110\": 22, \"70\": 1, \"30\": 1, \"124\": 1, \"109\": 1, \"113\": 1, \"7\": 2, \"10\": 1, \"8\": 1, \"3\": 1, \"24\": 1, \"49\": 1, \"27\": 1, \"62\": 3, \"87\": 1}, \"27\": {\"113\": 2, \"36\": 4, \"87\": 5, \"118\": 2, \"27\": 33, \"43\": 2, \"11\": 4, \"108\": 6, \"10\": 2, \"122\": 1, \"88\": 2, \"70\": 3, \"126\": 1, \"39\": 1}, \"22\": {\"22\": 10, \"121\": 1, \"16\": 1, \"48\": 3, \"111\": 1, \"75\": 1, \"6\": 1, \"125\": 2}, \"117\": {\"117\": 80, \"45\": 2, \"2\": 3, \"121\": 1, \"5\": 11, \"124\": 4, \"24\": 1, \"90\": 4, \"129\": 1, \"65\": 1, \"67\": 1, \"63\": 2, \"104\": 1, \"102\": 3, \"109\": 1, \"88\": 1, \"111\": 3}, \"39\": {\"109\": 7, \"126\": 14, \"39\": 38, \"78\": 1, \"24\": 7, \"70\": 9, \"87\": 7, \"88\": 12, \"108\": 3, \"43\": 3, \"10\": 2, \"11\": 1, \"36\": 2, \"21\": 1, \"114\": 1}}, \"W_1\": {\"60\": {\"105\": 1, \"60\": 8, \"14\": 1, \"23\": 1, \"11\": 1, \"101\": 1, \"71\": 1, \"84\": 1, \"36\": 1}, \"59\": {\"50\": 1, \"59\": 6, \"6\": 1, \"86\": 1, \"4\": 1, \"125\": 1, \"128\": 1}, \"107\": {\"50\": 1, \"107\": 83, \"72\": 1, \"76\": 1, \"98\": 5, \"92\": 1, \"120\": 1, \"81\": 1, \"32\": 1, \"82\": 3, \"40\": 6, \"33\": 4, \"114\": 4, \"14\": 4, \"30\": 1, \"73\": 1, \"89\": 2, \"85\": 1, \"128\": 1, \"19\": 1, \"125\": 1}, \"113\": {\"24\": 1, \"113\": 45, \"18\": 8, \"23\": 2, \"69\": 18, \"30\": 2, \"71\": 1, \"118\": 5, \"7\": 4, \"84\": 4, \"106\": 4, \"0\": 2, \"93\": 2, \"15\": 6, \"16\": 2, \"110\": 11, \"8\": 1, \"96\": 1, \"122\": 1, \"12\": 2, \"108\": 1, \"87\": 1}, \"6\": {\"6\": 13, \"77\": 1, \"126\": 1, \"86\": 1, \"37\": 1, \"111\": 2, \"42\": 1, \"124\": 2, \"21\": 1, \"80\": 1, \"116\": 2, \"120\": 1, \"59\": 1, \"88\": 1, \"91\": 2, \"68\": 1}, \"24\": {\"24\": 53, \"70\": 1, \"109\": 2, \"43\": 2, \"30\": 4, \"39\": 3, \"87\": 1, \"108\": 16, \"126\": 2, \"93\": 1, \"88\": 2, \"11\": 2, \"10\": 3}, \"50\": {\"50\": 4, \"107\": 1, \"74\": 1, \"120\": 1, \"92\": 1, \"67\": 1, \"5\": 1, \"75\": 1, \"39\": 1, \"81\": 2, \"25\": 1, \"40\": 1}, \"62\": {\"62\": 82, \"3\": 5, \"118\": 1, \"72\": 1, \"69\": 5, \"106\": 1, \"26\": 6, \"40\": 2, \"14\": 2, \"16\": 7, \"1\": 1, \"114\": 1, \"70\": 1, \"84\": 5}, \"48\": {\"59\": 1, \"48\": 9, \"46\": 1, \"80\": 1}, \"104\": {\"104\": 11, \"92\": 2, \"57\": 1, \"91\": 2}, \"105\": {\"62\": 5, \"49\": 1, \"14\": 2, \"1\": 5, \"105\": 31, \"3\": 3, \"33\": 3, \"101\": 2, \"18\": 2, \"106\": 3, \"40\": 5, \"39\": 1, \"84\": 5, \"114\": 1, \"93\": 1, \"26\": 1, \"127\": 5, \"100\": 1, \"71\": 2, \"16\": 3, \"36\": 1, \"4\": 1}, \"44\": {\"44\": 70, \"12\": 1, \"9\": 1, \"114\": 1, \"106\": 1, \"71\": 1, \"40\": 1}, \"49\": {\"49\": 9, \"107\": 1, \"34\": 2, \"74\": 1, \"51\": 1, \"95\": 3, \"50\": 1, \"100\": 1, \"35\": 1}, \"55\": {\"55\": 12}, \"4\": {\"4\": 94, \"48\": 1, \"13\": 1, \"124\": 1, \"125\": 1, \"79\": 1, \"102\": 1}, \"76\": {\"105\": 1, \"76\": 9, \"95\": 1, \"83\": 1, \"47\": 1, \"19\": 1, \"44\": 1, \"103\": 1}, \"85\": {\"32\": 3, \"85\": 17, \"73\": 1, \"81\": 2, \"42\": 1, \"107\": 2, \"92\": 1, \"103\": 1, \"66\": 1, \"19\": 2, \"40\": 1}, \"89\": {\"85\": 2, \"29\": 2, \"73\": 2, \"89\": 18, \"19\": 3, \"14\": 1, \"107\": 1, \"32\": 2, \"128\": 1, \"44\": 1, \"92\": 2, \"98\": 1}, \"74\": {\"74\": 7, \"100\": 1, \"29\": 1, \"33\": 1, \"49\": 1, \"19\": 1, \"103\": 1, \"34\": 1, \"90\": 1, \"1\": 1}, \"112\": {\"91\": 2, \"112\": 5, \"128\": 1, \"6\": 1, \"58\": 2, \"73\": 1, \"83\": 1, \"100\": 1, \"61\": 1, \"38\": 1}, \"79\": {\"80\": 2, \"79\": 8, \"6\": 1, \"55\": 1}, \"0\": {\"0\": 50, \"97\": 1, \"18\": 3, \"15\": 2, \"16\": 3, \"71\": 1, \"118\": 3, \"7\": 11, \"122\": 1, \"36\": 2, \"94\": 2, \"110\": 2, \"12\": 1, \"113\": 1, \"84\": 1}, \"91\": {\"91\": 20, \"64\": 1, \"90\": 1, \"2\": 1, \"66\": 2, \"77\": 1, \"28\": 2}, \"118\": {\"118\": 41, \"0\": 4, \"87\": 2, \"113\": 5, \"69\": 5, \"110\": 7, \"94\": 1, \"18\": 6, \"109\": 1, \"126\": 1, \"7\": 3, \"27\": 1, \"30\": 1, \"93\": 1, \"117\": 1, \"16\": 1, \"122\": 1, \"36\": 1, \"15\": 1}, \"80\": {\"80\": 13, \"37\": 1, \"115\": 1, \"119\": 1}, \"64\": {\"64\": 7, \"89\": 1, \"91\": 1, \"37\": 1, \"13\": 1, \"77\": 2, \"34\": 1, \"22\": 1, \"66\": 1}, \"97\": {\"97\": 10, \"30\": 1, \"88\": 1, \"27\": 1, \"10\": 1, \"24\": 1, \"93\": 1, \"11\": 1, \"94\": 1, \"126\": 2}, \"84\": {\"84\": 38, \"118\": 2, \"3\": 3, \"26\": 7, \"0\": 3, \"69\": 3, \"106\": 9, \"16\": 2, \"71\": 2, \"12\": 5, \"105\": 6, \"7\": 2, \"113\": 6, \"62\": 9, \"110\": 8, \"127\": 4, \"18\": 3, \"101\": 4, \"23\": 1, \"40\": 2, \"1\": 2, \"94\": 2, \"14\": 1}, \"38\": {\"89\": 1, \"38\": 8, \"112\": 2, \"128\": 1, \"54\": 2, \"95\": 1, \"98\": 1}, \"30\": {\"97\": 3, \"30\": 32, \"39\": 1, \"27\": 1, \"126\": 5, \"43\": 3, \"24\": 1, \"11\": 1, \"8\": 2, \"108\": 1, \"88\": 2}, \"32\": {\"32\": 16, \"81\": 1, \"126\": 1, \"85\": 3, \"52\": 1, \"95\": 1, \"83\": 1, \"98\": 2, \"19\": 2, \"89\": 1, \"15\": 1, \"10\": 2}, \"72\": {\"34\": 2, \"72\": 14, \"114\": 2, \"31\": 1, \"40\": 5, \"82\": 1, \"14\": 1, \"77\": 1, \"99\": 1, \"1\": 1, \"9\": 1, \"7\": 1, \"107\": 1}, \"33\": {\"33\": 97, \"99\": 1, \"14\": 7, \"42\": 1, \"114\": 13, \"72\": 1, \"40\": 2, \"105\": 1, \"1\": 5, \"107\": 1, \"101\": 1, \"74\": 1, \"70\": 1}, \"34\": {\"76\": 1, \"34\": 10, \"29\": 2, \"75\": 2, \"107\": 1, \"44\": 3, \"35\": 1, \"95\": 1, \"72\": 1, \"81\": 1, \"12\": 1, \"53\": 2, \"1\": 1, \"64\": 1, \"33\": 1, \"127\": 1, \"89\": 1, \"99\": 1}, \"28\": {\"28\": 10, \"76\": 1, \"22\": 2, \"29\": 1, \"89\": 1, \"66\": 2, \"37\": 1, \"95\": 1, \"90\": 1}, \"123\": {\"123\": 10, \"124\": 1, \"80\": 1, \"83\": 1, \"111\": 1, \"86\": 1, \"116\": 1}, \"2\": {\"112\": 2, \"98\": 1, \"104\": 1, \"65\": 1, \"68\": 2, \"17\": 3, \"54\": 2, \"109\": 1, \"42\": 2, \"91\": 1, \"2\": 8, \"89\": 1, \"13\": 1, \"25\": 1, \"111\": 1, \"41\": 1, \"129\": 1, \"21\": 1, \"116\": 1}, \"70\": {\"24\": 1, \"70\": 107, \"10\": 5, \"21\": 2, \"109\": 6, \"108\": 1, \"88\": 1, \"39\": 1}, \"127\": {\"127\": 62, \"101\": 10, \"16\": 2, \"78\": 1, \"87\": 1, \"1\": 6, \"26\": 3, \"3\": 2, \"14\": 4, \"106\": 3, \"84\": 1, \"71\": 2, \"105\": 2, \"35\": 2, \"62\": 2, \"114\": 3, \"40\": 1, \"8\": 1}, \"110\": {\"110\": 97, \"24\": 1, \"18\": 2, \"105\": 2, \"7\": 3, \"0\": 3, \"113\": 3, \"26\": 2, \"39\": 1, \"8\": 1, \"70\": 1, \"106\": 1, \"96\": 2, \"118\": 2, \"69\": 4, \"109\": 2, \"36\": 1}, \"126\": {\"126\": 90, \"43\": 4, \"39\": 5, \"93\": 14, \"108\": 4, \"87\": 2, \"30\": 2, \"24\": 2, \"88\": 2, \"122\": 2, \"11\": 6, \"27\": 2, \"97\": 1}, \"13\": {\"13\": 8, \"102\": 2, \"129\": 1, \"6\": 1, \"46\": 1, \"124\": 1, \"59\": 1, \"55\": 1}, \"15\": {\"15\": 59, \"84\": 1, \"94\": 5, \"8\": 8, \"0\": 4, \"87\": 4, \"7\": 9, \"122\": 1, \"18\": 2, \"27\": 1, \"113\": 3, \"36\": 4, \"118\": 1, \"126\": 1, \"11\": 1}, \"29\": {\"29\": 19, \"99\": 1, \"95\": 1, \"73\": 1, \"56\": 3, \"75\": 1, \"89\": 1, \"19\": 1}, \"18\": {\"18\": 60, \"0\": 3, \"84\": 5, \"109\": 1, \"12\": 1, \"23\": 1, \"110\": 7, \"113\": 2, \"36\": 3, \"106\": 2, \"62\": 1, \"118\": 7, \"69\": 4, \"7\": 6, \"16\": 2, \"26\": 3, \"8\": 5, \"87\": 3, \"127\": 1, \"43\": 1, \"94\": 1, \"122\": 1}, \"7\": {\"7\": 66, \"18\": 4, \"87\": 8, \"122\": 3, \"94\": 3, \"8\": 9, \"12\": 5, \"106\": 6, \"0\": 7, \"110\": 5, \"16\": 1, \"84\": 3, \"127\": 3, \"71\": 2, \"93\": 2, \"26\": 1, \"43\": 3, \"36\": 2, \"15\": 2, \"105\": 1, \"69\": 1, \"88\": 1, \"113\": 2, \"62\": 2}, \"56\": {\"98\": 1, \"77\": 1, \"42\": 2, \"75\": 2, \"95\": 1, \"47\": 2, \"83\": 1, \"28\": 1, \"56\": 1}, \"98\": {\"98\": 92, \"83\": 1, \"92\": 3, \"82\": 2, \"90\": 2, \"111\": 2, \"42\": 1, \"2\": 1, \"99\": 2, \"32\": 1, \"5\": 1}, \"99\": {\"29\": 1, \"103\": 1, \"9\": 2, \"99\": 9, \"92\": 1, \"72\": 1, \"81\": 1, \"53\": 1, \"32\": 1, \"31\": 1, \"77\": 2, \"89\": 1, \"25\": 1, \"34\": 1}, \"77\": {\"77\": 11, \"42\": 2, \"104\": 3}, \"103\": {\"15\": 1, \"103\": 6, \"128\": 1, \"121\": 1, \"83\": 2, \"19\": 1, \"94\": 1, \"90\": 1, \"120\": 1, \"85\": 1}, \"128\": {\"128\": 8, \"77\": 1, \"50\": 2, \"91\": 2, \"72\": 1, \"53\": 1, \"73\": 1, \"52\": 2, \"29\": 1, \"92\": 2, \"49\": 1, \"120\": 1, \"42\": 1}, \"3\": {\"3\": 55, \"40\": 2, \"106\": 2, \"44\": 1, \"127\": 5, \"84\": 5, \"62\": 3, \"93\": 1, \"117\": 2, \"14\": 1, \"26\": 1, \"105\": 1, \"1\": 1, \"101\": 1, \"16\": 3, \"12\": 2, \"15\": 1, \"36\": 1}, \"121\": {\"117\": 1, \"90\": 1, \"46\": 1, \"121\": 16, \"37\": 1, \"83\": 3, \"92\": 1, \"66\": 1, \"28\": 1, \"41\": 2, \"61\": 1, \"38\": 1, \"2\": 1, \"89\": 1}, \"42\": {\"120\": 1, \"42\": 16, \"98\": 1, \"111\": 1, \"61\": 1, \"41\": 2, \"129\": 1, \"28\": 1, \"2\": 1, \"38\": 1, \"68\": 1, \"121\": 1}, \"90\": {\"128\": 1, \"90\": 102, \"28\": 3, \"66\": 1, \"103\": 1, \"114\": 1, \"107\": 3, \"14\": 1, \"117\": 1, \"75\": 1, \"92\": 2, \"98\": 2, \"1\": 1}, \"37\": {\"37\": 11, \"42\": 1, \"57\": 1, \"77\": 1, \"83\": 2}, \"120\": {\"84\": 1, \"120\": 10, \"82\": 1, \"54\": 3, \"91\": 1, \"21\": 1, \"15\": 1, \"45\": 2}, \"117\": {\"117\": 76, \"129\": 5, \"58\": 1, \"116\": 3, \"2\": 1, \"61\": 1, \"5\": 9, \"86\": 1, \"66\": 1, \"124\": 6, \"111\": 9, \"102\": 2, \"68\": 2, \"98\": 1}, \"9\": {\"99\": 2, \"33\": 2, \"51\": 1, \"40\": 1, \"96\": 1, \"9\": 12, \"114\": 3, \"72\": 1, \"1\": 3, \"52\": 1, \"34\": 2, \"107\": 1, \"101\": 1, \"83\": 1}, \"108\": {\"108\": 82, \"24\": 17, \"39\": 3, \"10\": 3, \"30\": 1, \"88\": 11, \"43\": 1, \"70\": 1, \"87\": 2, \"15\": 1, \"11\": 2}, \"83\": {\"76\": 1, \"98\": 1, \"56\": 1, \"83\": 6, \"19\": 2, \"61\": 1, \"20\": 1, \"103\": 1, \"92\": 2, \"58\": 1, \"104\": 2, \"117\": 1, \"50\": 1, \"41\": 2, \"42\": 1, \"116\": 1, \"121\": 2, \"102\": 1}, \"14\": {\"14\": 56, \"8\": 1, \"33\": 9, \"9\": 2, \"105\": 5, \"101\": 5, \"40\": 5, \"1\": 6, \"71\": 1, \"15\": 1, \"72\": 1, \"127\": 1, \"3\": 2, \"107\": 1}, \"63\": {\"63\": 8, \"120\": 1, \"46\": 1, \"13\": 1, \"115\": 1, \"121\": 1, \"125\": 2, \"116\": 1}, \"11\": {\"11\": 41, \"87\": 2, \"88\": 7, \"39\": 5, \"24\": 3, \"122\": 3, \"93\": 18, \"10\": 5, \"43\": 16, \"126\": 6, \"113\": 1, \"27\": 3, \"94\": 2, \"18\": 1, \"97\": 1, \"108\": 3, \"8\": 1}, \"95\": {\"95\": 11, \"33\": 3, \"81\": 3, \"35\": 1, \"34\": 1, \"40\": 2, \"114\": 1, \"9\": 1, \"19\": 1, \"101\": 1, \"29\": 1, \"85\": 1, \"75\": 1, \"100\": 1, \"105\": 1, \"44\": 1, \"32\": 1, \"107\": 1, \"71\": 1, \"128\": 2}, \"26\": {\"26\": 75, \"113\": 4, \"62\": 14, \"7\": 1, \"8\": 3, \"69\": 2, \"106\": 1, \"84\": 6, \"16\": 10, \"105\": 5, \"70\": 1, \"110\": 2, \"93\": 1, \"127\": 3, \"11\": 1, \"114\": 1}, \"22\": {\"22\": 8, \"28\": 2, \"59\": 2, \"85\": 1, \"111\": 1, \"57\": 1, \"124\": 1}, \"102\": {\"2\": 2, \"102\": 90, \"111\": 2, \"129\": 3, \"46\": 1, \"117\": 12, \"119\": 1, \"115\": 1, \"116\": 1, \"124\": 3, \"125\": 3, \"86\": 1}, \"69\": {\"69\": 63, \"84\": 5, \"126\": 1, \"110\": 6, \"94\": 1, \"106\": 4, \"16\": 2, \"0\": 1, \"113\": 6, \"62\": 3, \"70\": 3, \"39\": 1, \"109\": 2, \"18\": 2, \"26\": 2, \"40\": 1, \"12\": 1, \"10\": 1, \"87\": 1}, \"1\": {\"1\": 68, \"14\": 5, \"127\": 7, \"51\": 1, \"105\": 7, \"72\": 1, \"71\": 3, \"26\": 3, \"40\": 12, \"114\": 5, \"62\": 3, \"101\": 6, \"84\": 1, \"20\": 1, \"100\": 1, \"3\": 2, \"44\": 1, \"107\": 2, \"106\": 1}, \"67\": {\"129\": 1, \"67\": 15}, \"57\": {\"57\": 8, \"111\": 2, \"6\": 1, \"80\": 1}, \"8\": {\"8\": 80, \"15\": 5, \"87\": 2, \"94\": 3, \"10\": 1, \"7\": 9, \"93\": 3, \"108\": 1, \"36\": 6, \"122\": 4, \"113\": 4, \"84\": 1, \"18\": 3, \"43\": 1, \"27\": 3, \"0\": 1, \"126\": 3, \"69\": 1, \"118\": 1, \"11\": 1, \"110\": 1}, \"109\": {\"109\": 103, \"78\": 2, \"70\": 8, \"24\": 1, \"10\": 6, \"21\": 1, \"30\": 1, \"108\": 1, \"88\": 1}, \"129\": {\"129\": 16, \"67\": 1, \"102\": 2, \"117\": 5, \"5\": 3, \"124\": 1}, \"111\": {\"91\": 1, \"111\": 92, \"22\": 1, \"119\": 2, \"124\": 6, \"117\": 7, \"86\": 1, \"5\": 5, \"98\": 2, \"123\": 1, \"68\": 2}, \"71\": {\"71\": 65, \"109\": 1, \"31\": 1, \"3\": 2, \"7\": 1, \"12\": 13, \"106\": 4, \"114\": 3, \"84\": 3, \"101\": 7, \"127\": 3, \"18\": 1, \"44\": 1, \"39\": 1, \"1\": 1, \"70\": 1}, \"47\": {\"19\": 3, \"120\": 2, \"52\": 2, \"54\": 1, \"73\": 2, \"9\": 1, \"82\": 1}, \"82\": {\"82\": 21, \"100\": 2, \"120\": 1, \"51\": 1, \"73\": 1, \"128\": 1, \"98\": 1, \"77\": 2, \"28\": 1, \"50\": 1, \"81\": 1, \"14\": 1, \"107\": 2}, \"27\": {\"27\": 46, \"11\": 3, \"30\": 2, \"96\": 1, \"43\": 9, \"16\": 1, \"122\": 7, \"126\": 5, \"94\": 2, \"93\": 6, \"36\": 1, \"24\": 1, \"18\": 1, \"8\": 2, \"87\": 2, \"88\": 1, \"10\": 1, \"39\": 1}, \"19\": {\"66\": 2, \"82\": 1, \"73\": 1, \"52\": 1, \"19\": 10, \"77\": 1, \"9\": 1, \"89\": 1, \"32\": 2, \"103\": 1, \"85\": 1, \"38\": 1, \"50\": 2, \"42\": 1, \"2\": 1, \"81\": 1}, \"122\": {\"87\": 3, \"122\": 43, \"10\": 1, \"24\": 2, \"21\": 1, \"108\": 2, \"113\": 2, \"0\": 3, \"110\": 5, \"7\": 4, \"62\": 2, \"26\": 1, \"15\": 1, \"8\": 4, \"43\": 4, \"88\": 2, \"126\": 1, \"118\": 2, \"93\": 1, \"94\": 1, \"109\": 1, \"27\": 1, \"36\": 1}, \"53\": {\"53\": 14, \"128\": 1, \"9\": 1, \"74\": 2, \"81\": 1, \"90\": 1}, \"87\": {\"122\": 4, \"27\": 4, \"15\": 4, \"94\": 6, \"118\": 5, \"87\": 40, \"8\": 5, \"113\": 1, \"93\": 7, \"69\": 3, \"21\": 1, \"126\": 2, \"43\": 4, \"70\": 1, \"110\": 2, \"62\": 1, \"108\": 1, \"39\": 2, \"0\": 2, \"7\": 3, \"11\": 3, \"52\": 1, \"97\": 1, \"36\": 2, \"24\": 1, \"18\": 1, \"30\": 1}, \"100\": {\"82\": 1, \"100\": 7, \"74\": 1, \"29\": 1, \"50\": 1, \"53\": 1, \"19\": 1, \"114\": 1, \"40\": 1, \"81\": 1}, \"66\": {\"47\": 2, \"129\": 2, \"66\": 3, \"89\": 2, \"22\": 1, \"103\": 1, \"76\": 1, \"75\": 1, \"99\": 1, \"64\": 2}, \"31\": {\"31\": 11, \"14\": 2, \"3\": 1, \"12\": 2}, \"58\": {\"45\": 1, \"58\": 8, \"123\": 2, \"92\": 1}, \"68\": {\"68\": 14, \"45\": 1, \"129\": 1}, \"88\": {\"88\": 62, \"27\": 1, \"78\": 1, \"108\": 5, \"109\": 3, \"24\": 5, \"39\": 4, \"93\": 2, \"126\": 4, \"10\": 14, \"70\": 5, \"114\": 1, \"43\": 3, \"30\": 2, \"11\": 2}, \"45\": {\"38\": 1, \"57\": 1, \"54\": 1, \"2\": 3, \"80\": 1, \"109\": 1, \"124\": 1, \"128\": 1, \"63\": 2}, \"114\": {\"114\": 80, \"81\": 1, \"105\": 3, \"107\": 9, \"40\": 9, \"3\": 1, \"1\": 5, \"33\": 12, \"14\": 1, \"98\": 1, \"95\": 1, \"49\": 1, \"9\": 1, \"71\": 2, \"85\": 1}, \"23\": {\"23\": 9, \"0\": 1, \"84\": 1, \"12\": 2, \"43\": 1, \"62\": 1, \"97\": 2, \"7\": 4, \"69\": 1, \"11\": 2}, \"65\": {\"58\": 1, \"65\": 3, \"2\": 1, \"129\": 1, \"77\": 2, \"46\": 1, \"124\": 2, \"70\": 1}, \"124\": {\"65\": 2, \"124\": 78, \"6\": 1, \"46\": 1, \"72\": 1, \"111\": 7, \"116\": 2, \"125\": 6, \"117\": 4, \"102\": 8, \"107\": 1, \"5\": 2, \"98\": 1, \"64\": 1, \"55\": 1, \"86\": 2}, \"10\": {\"10\": 75, \"39\": 4, \"109\": 8, \"24\": 7, \"126\": 2, \"108\": 6, \"5\": 1, \"70\": 5, \"88\": 10, \"21\": 1, \"30\": 1}, \"92\": {\"92\": 19, \"85\": 2, \"29\": 1, \"22\": 1, \"32\": 1, \"98\": 3, \"38\": 1}, \"40\": {\"40\": 61, \"84\": 3, \"75\": 1, \"95\": 1, \"33\": 11, \"100\": 2, \"14\": 4, \"71\": 4, \"73\": 1, \"127\": 3, \"114\": 14, \"16\": 5, \"1\": 12, \"107\": 4, \"62\": 1, \"105\": 7, \"10\": 1, \"101\": 5, \"20\": 1, \"34\": 1, \"9\": 1, \"70\": 1}, \"73\": {\"73\": 10, \"109\": 1, \"33\": 1, \"81\": 2, \"19\": 1, \"1\": 1, \"32\": 1, \"54\": 1, \"108\": 1, \"53\": 1}, \"94\": {\"94\": 49, \"43\": 3, \"97\": 1, \"36\": 7, \"8\": 7, \"7\": 1, \"110\": 3, \"87\": 2, \"15\": 9, \"0\": 3, \"27\": 1, \"18\": 1, \"23\": 1, \"113\": 1, \"93\": 1, \"122\": 2}, \"81\": {\"81\": 14, \"71\": 1, \"95\": 2, \"32\": 2, \"107\": 3, \"128\": 1, \"82\": 1, \"50\": 3, \"19\": 1}, \"101\": {\"101\": 87, \"127\": 5, \"107\": 1, \"98\": 1, \"84\": 1, \"40\": 2, \"1\": 3, \"16\": 1, \"44\": 2, \"106\": 3, \"14\": 2, \"90\": 1, \"3\": 1}, \"86\": {\"59\": 1, \"57\": 1, \"42\": 1, \"2\": 1, \"21\": 1, \"86\": 13, \"92\": 1, \"115\": 1, \"125\": 3, \"66\": 1, \"111\": 2, \"116\": 1, \"106\": 1, \"6\": 1, \"15\": 1, \"121\": 2, \"102\": 1, \"124\": 3}, \"78\": {\"27\": 1, \"109\": 2, \"78\": 7, \"126\": 3, \"30\": 1, \"36\": 2}, \"96\": {\"96\": 8, \"113\": 5, \"106\": 1, \"44\": 1, \"15\": 1, \"98\": 1, \"94\": 1, \"118\": 2}, \"5\": {\"5\": 57, \"68\": 1, \"117\": 8, \"111\": 5, \"70\": 1, \"109\": 2, \"124\": 2, \"46\": 2, \"24\": 1, \"67\": 1, \"58\": 1, \"6\": 1, \"129\": 1, \"121\": 1, \"120\": 1, \"22\": 2, \"102\": 1}, \"16\": {\"26\": 12, \"16\": 45, \"113\": 4, \"3\": 3, \"10\": 2, \"106\": 3, \"1\": 2, \"71\": 1, \"62\": 7, \"101\": 7, \"127\": 1, \"105\": 6, \"33\": 1, \"30\": 1, \"21\": 1, \"69\": 1, \"94\": 1, \"84\": 4, \"118\": 1, \"44\": 1, \"40\": 1, \"8\": 1, \"11\": 1, \"109\": 1}, \"35\": {\"127\": 2, \"84\": 1, \"35\": 6, \"96\": 1, \"101\": 1, \"15\": 1}, \"51\": {\"75\": 2, \"49\": 2, \"51\": 10, \"20\": 2}, \"46\": {\"102\": 1, \"46\": 6, \"6\": 2, \"124\": 1, \"57\": 1, \"123\": 1}, \"20\": {\"75\": 1, \"20\": 13, \"85\": 1, \"73\": 1}, \"116\": {\"46\": 2, \"129\": 2, \"47\": 1, \"116\": 10, \"68\": 1, \"124\": 3, \"102\": 1, \"86\": 5, \"90\": 1, \"45\": 1, \"112\": 2, \"50\": 1, \"125\": 1, \"109\": 1}, \"75\": {\"29\": 3, \"75\": 4, \"34\": 2, \"95\": 2, \"47\": 1, \"20\": 2, \"1\": 2}, \"43\": {\"43\": 43, \"126\": 5, \"10\": 2, \"87\": 7, \"18\": 2, \"15\": 5, \"94\": 3, \"36\": 7, \"30\": 4, \"93\": 18, \"108\": 4, \"11\": 5, \"27\": 5, \"109\": 2, \"122\": 4, \"8\": 2, \"110\": 1, \"7\": 2, \"118\": 3, \"39\": 2, \"113\": 1, \"69\": 1}, \"17\": {\"22\": 1, \"17\": 6, \"111\": 2, \"79\": 1, \"123\": 1, \"116\": 1, \"4\": 1, \"68\": 1, \"124\": 2}, \"12\": {\"16\": 2, \"12\": 69, \"110\": 3, \"7\": 2, \"106\": 8, \"71\": 5, \"10\": 1, \"44\": 1, \"84\": 3, \"105\": 3, \"101\": 2, \"14\": 2, \"8\": 1, \"0\": 1, \"18\": 1}, \"25\": {\"91\": 1, \"25\": 5, \"65\": 1, \"83\": 1, \"42\": 1, \"21\": 1, \"9\": 1, \"120\": 2, \"54\": 1, \"99\": 1, \"50\": 1}, \"54\": {\"120\": 2, \"83\": 1, \"54\": 5, \"82\": 1, \"89\": 1, \"73\": 2, \"38\": 1, \"11\": 1, \"95\": 1, \"91\": 1}, \"36\": {\"36\": 69, \"87\": 2, \"94\": 4, \"118\": 1, \"10\": 2, \"15\": 2, \"27\": 2, \"8\": 14, \"93\": 3, \"113\": 3, \"0\": 1, \"7\": 2, \"43\": 4, \"18\": 1, \"122\": 2}, \"52\": {\"32\": 1, \"52\": 16, \"66\": 1, \"77\": 1, \"37\": 1}, \"61\": {\"91\": 4, \"61\": 4, \"42\": 1, \"116\": 1, \"85\": 1, \"38\": 1}, \"106\": {\"127\": 5, \"106\": 54, \"113\": 4, \"105\": 1, \"26\": 5, \"84\": 15, \"7\": 4, \"71\": 2, \"15\": 1, \"110\": 4, \"12\": 6, \"3\": 1, \"69\": 4, \"101\": 2, \"62\": 3, \"16\": 4, \"18\": 1, \"1\": 1, \"8\": 1, \"87\": 1, \"36\": 1}, \"39\": {\"39\": 37, \"108\": 9, \"24\": 7, \"30\": 2, \"70\": 4, \"43\": 7, \"88\": 10, \"11\": 6, \"93\": 7, \"109\": 3, \"122\": 1, \"27\": 4, \"87\": 1, \"126\": 4, \"118\": 1, \"10\": 1}, \"119\": {\"119\": 11, \"102\": 2, \"80\": 1, \"2\": 1, \"123\": 1}, \"125\": {\"125\": 128, \"124\": 9, \"86\": 5, \"111\": 4, \"63\": 1, \"117\": 1}, \"93\": {\"93\": 73, \"15\": 2, \"27\": 2, \"39\": 2, \"10\": 3, \"43\": 13, \"94\": 5, \"11\": 17, \"88\": 4, \"122\": 3, \"87\": 2, \"8\": 6, \"126\": 8, \"30\": 1, \"24\": 2, \"108\": 3, \"36\": 2}, \"115\": {\"63\": 1, \"115\": 6, \"4\": 1, \"124\": 2, \"104\": 1, \"45\": 1}, \"21\": {\"21\": 32, \"118\": 3, \"116\": 1, \"24\": 2, \"70\": 2}, \"41\": {\"86\": 2, \"28\": 1, \"41\": 9, \"90\": 1, \"91\": 1, \"64\": 1, \"42\": 1}}, \"W_4\": {\"55\": {\"59\": 1, \"55\": 7, \"67\": 1, \"103\": 2, \"129\": 1, \"123\": 1, \"95\": 1, \"82\": 1, \"31\": 1}, \"9\": {\"112\": 1, \"9\": 9, \"99\": 2, \"35\": 1, \"89\": 1, \"5\": 2, \"34\": 2, \"53\": 1, \"90\": 1, \"16\": 1, \"33\": 1, \"73\": 1, \"77\": 2, \"32\": 1, \"38\": 1, \"14\": 1}, \"70\": {\"10\": 14, \"70\": 50, \"39\": 11, \"78\": 2, \"24\": 11, \"97\": 4, \"126\": 6, \"43\": 7, \"27\": 4, \"109\": 6, \"36\": 2, \"30\": 1, \"88\": 1, \"108\": 3}, \"112\": {\"55\": 1, \"112\": 6, \"52\": 1, \"61\": 1, \"19\": 2, \"129\": 1, \"77\": 1, \"47\": 1, \"81\": 1, \"32\": 1}, \"115\": {\"13\": 1, \"116\": 2, \"21\": 1, \"115\": 6, \"79\": 1, \"28\": 1, \"80\": 2, \"111\": 1, \"117\": 1}, \"56\": {\"55\": 1, \"83\": 1, \"56\": 3, \"90\": 2, \"58\": 1, \"91\": 1, \"120\": 1, \"17\": 1, \"19\": 1}, \"108\": {\"10\": 9, \"108\": 48, \"72\": 1, \"109\": 7, \"23\": 1, \"126\": 8, \"97\": 1, \"88\": 4, \"43\": 1, \"3\": 2, \"122\": 1, \"70\": 3, \"39\": 3, \"117\": 1, \"14\": 1, \"113\": 1}, \"117\": {\"117\": 80, \"79\": 2, \"45\": 1, \"6\": 1, \"33\": 1, \"124\": 6, \"1\": 2, \"102\": 4, \"111\": 10, \"90\": 4, \"22\": 1, \"119\": 1, \"17\": 1, \"115\": 1, \"86\": 1, \"67\": 2, \"50\": 2, \"19\": 1, \"64\": 1, \"105\": 1, \"125\": 1}, \"111\": {\"55\": 1, \"117\": 8, \"50\": 1, \"111\": 95, \"103\": 2, \"102\": 4, \"124\": 7, \"88\": 1, \"90\": 4, \"116\": 2, \"67\": 1, \"73\": 1, \"129\": 2, \"68\": 1, \"108\": 1, \"70\": 1}, \"71\": {\"71\": 61, \"43\": 1, \"44\": 2, \"127\": 6, \"96\": 1, \"18\": 3, \"3\": 7, \"14\": 7, \"99\": 1, \"122\": 1, \"33\": 1, \"16\": 2, \"57\": 2, \"12\": 1, \"85\": 1, \"49\": 1, \"94\": 1, \"113\": 1, \"84\": 1, \"70\": 1, \"10\": 2}, \"59\": {\"116\": 1, \"59\": 11}, \"10\": {\"108\": 12, \"10\": 79, \"24\": 8, \"70\": 5, \"27\": 2, \"126\": 8, \"39\": 3, \"36\": 1, \"88\": 4, \"109\": 1, \"78\": 1}, \"83\": {\"112\": 1, \"83\": 14, \"52\": 2, \"34\": 2, \"40\": 2, \"92\": 2, \"46\": 2, \"107\": 2, \"25\": 1}, \"116\": {\"55\": 1, \"116\": 5, \"58\": 2, \"48\": 1, \"19\": 1, \"79\": 3, \"124\": 1, \"9\": 1, \"121\": 1, \"66\": 2, \"115\": 1, \"82\": 1, \"65\": 1, \"102\": 2, \"117\": 3, \"111\": 2}, \"13\": {\"13\": 9, \"117\": 1, \"115\": 2, \"111\": 1, \"55\": 2, \"129\": 1}, \"4\": {\"115\": 3, \"4\": 91, \"102\": 2, \"125\": 6, \"124\": 1, \"88\": 1}, \"125\": {\"125\": 90, \"80\": 2, \"86\": 2, \"98\": 2, \"102\": 2, \"124\": 5, \"123\": 1, \"59\": 1, \"4\": 1}, \"102\": {\"17\": 3, \"102\": 99, \"37\": 1, \"48\": 1, \"2\": 1, \"124\": 6, \"129\": 1, \"111\": 3, \"4\": 1, \"117\": 5, \"70\": 1, \"125\": 1, \"108\": 1}, \"47\": {\"58\": 2, \"47\": 4, \"85\": 1, \"28\": 1, \"77\": 2, \"120\": 2}, \"28\": {\"28\": 11, \"103\": 1, \"79\": 2, \"56\": 1, \"59\": 1, \"64\": 1, \"100\": 1, \"19\": 1, \"32\": 1}, \"82\": {\"82\": 14, \"58\": 1, \"6\": 1, \"47\": 1, \"46\": 1, \"128\": 1, \"120\": 1, \"73\": 1, \"42\": 1, \"90\": 1, \"33\": 1, \"81\": 1, \"4\": 1, \"76\": 1, \"95\": 1, \"29\": 1, \"19\": 1, \"121\": 1, \"40\": 1}, \"60\": {\"113\": 2, \"5\": 2, \"127\": 1, \"60\": 11, \"53\": 1, \"36\": 3, \"84\": 1, \"96\": 3, \"94\": 2, \"8\": 1, \"101\": 1, \"11\": 4}, \"107\": {\"107\": 75, \"60\": 1, \"40\": 5, \"81\": 2, \"95\": 2, \"33\": 14, \"98\": 8, \"5\": 7, \"99\": 1, \"14\": 1, \"111\": 1, \"90\": 1, \"114\": 6, \"46\": 1, \"92\": 1, \"83\": 1, \"82\": 1, \"105\": 1, \"117\": 1, \"102\": 1, \"70\": 2, \"106\": 1}, \"75\": {\"75\": 8, \"82\": 1, \"99\": 3, \"34\": 1, \"32\": 1, \"83\": 1, \"25\": 1}, \"31\": {\"82\": 2, \"28\": 1, \"31\": 4, \"19\": 1, \"29\": 1, \"83\": 1, \"57\": 2, \"75\": 2, \"33\": 1, \"81\": 1}, \"92\": {\"31\": 1, \"28\": 1, \"92\": 11, \"9\": 1, \"54\": 1, \"91\": 1, \"34\": 1, \"5\": 2, \"63\": 2, \"74\": 1, \"11\": 1, \"82\": 1, \"128\": 1, \"22\": 1, \"56\": 1, \"76\": 1}, \"58\": {\"47\": 1, \"58\": 10, \"19\": 1, \"91\": 1, \"77\": 2, \"6\": 1}, \"113\": {\"113\": 46, \"62\": 2, \"21\": 1, \"8\": 6, \"0\": 3, \"122\": 4, \"110\": 15, \"10\": 1, \"30\": 4, \"87\": 8, \"94\": 2, \"118\": 6, \"26\": 1, \"39\": 1, \"36\": 6, \"7\": 3, \"70\": 2, \"93\": 4, \"15\": 4, \"11\": 1, \"109\": 2, \"43\": 1, \"88\": 1, \"101\": 1, \"27\": 1, \"126\": 1, \"108\": 1}, \"95\": {\"82\": 3, \"5\": 1, \"60\": 1, \"9\": 2, \"99\": 1, \"46\": 2, \"107\": 2, \"95\": 11, \"83\": 1, \"40\": 2, \"33\": 1, \"14\": 1, \"114\": 3, \"106\": 1}, \"14\": {\"14\": 56, \"126\": 1, \"105\": 5, \"26\": 1, \"69\": 5, \"71\": 5, \"114\": 5, \"44\": 4, \"33\": 4, \"18\": 6, \"127\": 3, \"84\": 4, \"3\": 7, \"5\": 2, \"88\": 1, \"10\": 1, \"93\": 1, \"40\": 1}, \"17\": {\"17\": 17, \"104\": 2, \"37\": 1}, \"104\": {\"50\": 1, \"67\": 1, \"86\": 2, \"68\": 1, \"104\": 6, \"111\": 1, \"45\": 1, \"79\": 2, \"17\": 1}, \"72\": {\"72\": 8, \"77\": 1, \"127\": 2, \"26\": 1, \"35\": 1, \"49\": 1, \"84\": 2, \"42\": 1, \"62\": 1, \"99\": 1, \"14\": 1, \"107\": 1, \"120\": 1, \"114\": 1, \"29\": 1, \"16\": 4, \"53\": 2, \"5\": 1, \"15\": 1}, \"69\": {\"69\": 63, \"18\": 10, \"88\": 1, \"84\": 8, \"71\": 5, \"60\": 1, \"40\": 3, \"14\": 8, \"114\": 4, \"44\": 4, \"101\": 1, \"3\": 1, \"105\": 8, \"33\": 2, \"83\": 1, \"21\": 1, \"39\": 1, \"93\": 1, \"108\": 1, \"1\": 2, \"127\": 2}, \"63\": {\"63\": 9, \"50\": 1, \"116\": 2, \"67\": 1, \"92\": 1, \"129\": 2}, \"12\": {\"12\": 63, \"51\": 1, \"106\": 8, \"84\": 5, \"3\": 1, \"26\": 3, \"7\": 1, \"8\": 2, \"93\": 1, \"127\": 5, \"90\": 1, \"18\": 1, \"72\": 1, \"42\": 1, \"62\": 2, \"118\": 1, \"110\": 1, \"11\": 1, \"88\": 1}, \"25\": {\"25\": 11, \"89\": 2, \"19\": 1, \"76\": 1, \"111\": 1}, \"67\": {\"63\": 2, \"67\": 10, \"103\": 1, \"31\": 2, \"58\": 1}, \"50\": {\"13\": 1, \"128\": 1, \"50\": 6, \"123\": 1, \"32\": 1, \"129\": 2, \"29\": 1, \"4\": 1, \"94\": 2}, \"43\": {\"108\": 7, \"43\": 57, \"36\": 11, \"94\": 1, \"10\": 3, \"70\": 2, \"27\": 5, \"8\": 1, \"24\": 2, \"87\": 3, \"110\": 2, \"113\": 1, \"122\": 4, \"15\": 3, \"11\": 1, \"39\": 1, \"97\": 1, \"88\": 2, \"109\": 3, \"30\": 2, \"62\": 1, \"0\": 2, \"126\": 1, \"118\": 3, \"102\": 1}, \"96\": {\"71\": 2, \"12\": 2, \"94\": 1, \"96\": 5, \"60\": 2, \"3\": 1, \"62\": 1, \"14\": 1, \"69\": 1, \"18\": 2, \"16\": 2}, \"128\": {\"128\": 8, \"77\": 1, \"58\": 1, \"75\": 1, \"47\": 1, \"46\": 5, \"73\": 1, \"61\": 1, \"54\": 1, \"83\": 1, \"89\": 2, \"74\": 1}, \"77\": {\"77\": 12}, \"54\": {\"54\": 13, \"74\": 1, \"92\": 2}, \"118\": {\"8\": 4, \"122\": 6, \"118\": 44, \"108\": 1, \"15\": 3, \"39\": 2, \"87\": 2, \"88\": 2, \"94\": 1, \"101\": 3, \"93\": 7, \"110\": 5, \"7\": 4, \"36\": 2, \"27\": 1, \"43\": 1, \"0\": 5, \"113\": 6, \"106\": 1, \"60\": 1, \"109\": 1, \"26\": 1, \"24\": 1, \"78\": 1, \"127\": 1, \"21\": 1, \"12\": 1, \"62\": 2, \"14\": 1, \"16\": 1}, \"30\": {\"30\": 38, \"8\": 1, \"36\": 11, \"93\": 1, \"0\": 4, \"122\": 3, \"87\": 4, \"15\": 2, \"43\": 4, \"110\": 1, \"26\": 2, \"27\": 1, \"118\": 3, \"94\": 1}, \"51\": {\"54\": 2, \"51\": 4, \"99\": 2, \"9\": 1, \"87\": 2, \"72\": 2, \"5\": 1, \"46\": 2}, \"122\": {\"12\": 1, \"122\": 21, \"8\": 5, \"110\": 3, \"118\": 2, \"62\": 1, \"0\": 5, \"39\": 2, \"113\": 3, \"43\": 4, \"11\": 6, \"87\": 4, \"126\": 1, \"101\": 3, \"15\": 3, \"7\": 5, \"94\": 1, \"27\": 3, \"108\": 4, \"30\": 1, \"36\": 1, \"93\": 3, \"70\": 1, \"24\": 1}, \"46\": {\"46\": 11, \"33\": 1, \"7\": 1, \"107\": 5, \"111\": 1, \"56\": 1}, \"79\": {\"79\": 12, \"123\": 1, \"116\": 2, \"65\": 1}, \"103\": {\"103\": 8, \"45\": 1, \"32\": 1, \"19\": 1, \"120\": 1, \"31\": 1, \"67\": 1, \"29\": 2}, \"74\": {\"28\": 1, \"74\": 9, \"76\": 1, \"72\": 1, \"67\": 1, \"61\": 1, \"89\": 2}, \"90\": {\"28\": 1, \"90\": 104, \"58\": 3, \"32\": 1, \"92\": 1, \"116\": 1, \"111\": 4, \"98\": 6, \"117\": 1, \"121\": 4, \"33\": 4, \"5\": 3, \"91\": 2, \"41\": 1, \"89\": 1, \"31\": 2, \"81\": 1, \"9\": 1, \"107\": 1, \"40\": 1, \"124\": 2, \"14\": 1}, \"8\": {\"8\": 57, \"122\": 1, \"43\": 1, \"36\": 2, \"30\": 1, \"24\": 1, \"71\": 1, \"62\": 1, \"93\": 15, \"0\": 4, \"11\": 10, \"7\": 8, \"101\": 8, \"110\": 3, \"26\": 1, \"15\": 17, \"94\": 6, \"113\": 1, \"118\": 2, \"90\": 1, \"88\": 1}, \"94\": {\"94\": 49, \"26\": 1, \"106\": 1, \"110\": 3, \"15\": 10, \"4\": 1, \"122\": 2, \"113\": 2, \"43\": 2, \"0\": 5, \"8\": 3, \"7\": 2, \"126\": 1, \"78\": 1, \"36\": 2, \"30\": 1, \"10\": 1, \"93\": 1}, \"7\": {\"94\": 2, \"7\": 52, \"72\": 2, \"87\": 2, \"62\": 2, \"60\": 1, \"26\": 2, \"0\": 6, \"12\": 3, \"101\": 8, \"15\": 9, \"122\": 6, \"11\": 6, \"39\": 1, \"8\": 2, \"10\": 1, \"93\": 9, \"118\": 2, \"24\": 1, \"16\": 1, \"106\": 1, \"3\": 2, \"113\": 1}, \"61\": {\"7\": 1, \"72\": 1, \"52\": 1, \"61\": 3, \"121\": 2, \"41\": 1, \"128\": 1, \"129\": 1, \"47\": 1, \"2\": 1, \"32\": 2, \"75\": 1}, \"26\": {\"26\": 58, \"18\": 4, \"106\": 4, \"71\": 4, \"97\": 1, \"81\": 1, \"110\": 1, \"51\": 1, \"84\": 7, \"16\": 7, \"62\": 1, \"113\": 1, \"44\": 2, \"105\": 2, \"69\": 5, \"12\": 7, \"94\": 1, \"5\": 1, \"10\": 1, \"127\": 2, \"35\": 1, \"8\": 1, \"24\": 1, \"36\": 1, \"101\": 3, \"93\": 1, \"7\": 1}, \"127\": {\"127\": 45, \"106\": 5, \"49\": 2, \"62\": 1, \"12\": 4, \"1\": 8, \"71\": 7, \"3\": 6, \"114\": 3, \"93\": 1, \"33\": 3, \"84\": 5, \"14\": 2, \"105\": 3, \"16\": 6, \"88\": 1, \"18\": 3, \"5\": 2, \"99\": 1}, \"23\": {\"7\": 1, \"93\": 1, \"21\": 1, \"5\": 1, \"87\": 1, \"88\": 2, \"70\": 4, \"108\": 2, \"23\": 3}, \"1\": {\"1\": 37, \"72\": 1, \"5\": 6, \"114\": 9, \"99\": 2, \"33\": 4, \"71\": 3, \"3\": 5, \"122\": 1, \"14\": 9, \"81\": 2, \"127\": 4, \"44\": 5, \"69\": 2, \"105\": 2, \"107\": 3, \"106\": 1, \"84\": 2, \"10\": 1, \"88\": 1, \"39\": 1, \"40\": 5, \"7\": 1, \"110\": 1}, \"93\": {\"93\": 51, \"15\": 7, \"8\": 12, \"101\": 11, \"11\": 6, \"26\": 3, \"113\": 5, \"118\": 6, \"7\": 9, \"122\": 3, \"30\": 1, \"127\": 1, \"12\": 2, \"106\": 2, \"0\": 4, \"87\": 2, \"110\": 2, \"16\": 3, \"1\": 1, \"62\": 3}, \"106\": {\"7\": 2, \"127\": 8, \"106\": 56, \"12\": 13, \"108\": 2, \"84\": 4, \"36\": 1, \"51\": 2, \"26\": 3, \"101\": 2, \"110\": 2, \"39\": 2, \"10\": 2, \"1\": 3, \"114\": 2, \"18\": 1, \"88\": 1, \"70\": 2, \"16\": 3, \"94\": 1, \"24\": 1, \"11\": 1, \"93\": 1, \"3\": 1}, \"110\": {\"110\": 41, \"43\": 3, \"122\": 9, \"94\": 4, \"11\": 5, \"62\": 1, \"36\": 6, \"8\": 7, \"113\": 10, \"118\": 2, \"27\": 1, \"30\": 1, \"87\": 7, \"10\": 2, \"15\": 5, \"0\": 6, \"26\": 1, \"93\": 4, \"101\": 2, \"7\": 1}, \"76\": {\"25\": 2, \"46\": 4, \"76\": 3, \"85\": 1, \"11\": 1, \"128\": 1, \"114\": 1, \"23\": 1, \"35\": 1, \"92\": 1}, \"36\": {\"36\": 87, \"110\": 1, \"94\": 1, \"43\": 6, \"109\": 2, \"113\": 1, \"27\": 5, \"87\": 3, \"0\": 3, \"30\": 4, \"10\": 1, \"122\": 1, \"118\": 1, \"126\": 1, \"108\": 1, \"62\": 2}, \"21\": {\"21\": 34, \"78\": 3, \"88\": 2, \"10\": 1}, \"37\": {\"37\": 6, \"100\": 1, \"91\": 1, \"123\": 1, \"48\": 2, \"13\": 1, \"120\": 2, \"86\": 1, \"79\": 1}, \"11\": {\"26\": 3, \"11\": 38, \"62\": 4, \"118\": 10, \"94\": 5, \"16\": 1, \"15\": 3, \"93\": 7, \"7\": 8, \"110\": 2, \"8\": 12, \"36\": 2, \"0\": 2, \"101\": 10, \"71\": 1, \"126\": 1, \"84\": 2, \"30\": 1, \"109\": 1, \"6\": 1, \"122\": 2, \"12\": 3, \"27\": 1}, \"109\": {\"109\": 61, \"27\": 3, \"108\": 6, \"39\": 7, \"70\": 7, \"43\": 3, \"126\": 10, \"30\": 2, \"10\": 5, \"24\": 2, \"113\": 1, \"87\": 2, \"36\": 2, \"97\": 2, \"21\": 1, \"15\": 1, \"88\": 1}, \"62\": {\"21\": 1, \"101\": 6, \"7\": 8, \"18\": 1, \"126\": 1, \"62\": 14, \"127\": 2, \"118\": 6, \"3\": 2, \"60\": 1, \"71\": 1, \"106\": 2, \"8\": 3, \"108\": 2, \"113\": 1, \"30\": 1, \"0\": 1, \"12\": 3, \"26\": 1, \"43\": 1, \"15\": 1, \"88\": 1}, \"89\": {\"95\": 1, \"19\": 1, \"40\": 4, \"100\": 2, \"52\": 1, \"120\": 1, \"53\": 1, \"89\": 6, \"5\": 4, \"107\": 3, \"66\": 1, \"90\": 2, \"73\": 1, \"60\": 1, \"25\": 1, \"121\": 1, \"98\": 1}, \"126\": {\"126\": 66, \"97\": 2, \"39\": 5, \"109\": 9, \"43\": 9, \"10\": 7, \"36\": 4, \"108\": 5, \"70\": 3, \"24\": 6, \"27\": 6, \"88\": 2}, \"101\": {\"101\": 51, \"118\": 7, \"62\": 3, \"7\": 12, \"8\": 12, \"93\": 8, \"0\": 2, \"88\": 2, \"12\": 4, \"87\": 1, \"126\": 1, \"30\": 1, \"122\": 3, \"106\": 1, \"15\": 4, \"127\": 2, \"26\": 2, \"60\": 1, \"110\": 1, \"16\": 3, \"11\": 4, \"111\": 1, \"102\": 1, \"3\": 1}, \"65\": {\"65\": 11, \"17\": 1}, \"19\": {\"19\": 13, \"128\": 1, \"31\": 1, \"112\": 1, \"57\": 2, \"54\": 1, \"53\": 1, \"56\": 3, \"9\": 1, \"72\": 1, \"92\": 1, \"111\": 2}, \"27\": {\"27\": 61, \"109\": 1, \"94\": 1, \"126\": 4, \"8\": 1, \"70\": 1, \"30\": 4, \"24\": 3, \"87\": 2, \"15\": 1, \"108\": 1, \"10\": 2, \"43\": 5, \"36\": 9, \"0\": 1, \"122\": 1, \"39\": 1, \"113\": 1}, \"5\": {\"5\": 83, \"21\": 1, \"1\": 10, \"3\": 2, \"101\": 3, \"69\": 4, \"14\": 2, \"33\": 5, \"114\": 14, \"40\": 3, \"88\": 2, \"107\": 3, \"49\": 1, \"105\": 1, \"44\": 1, \"98\": 1}, \"73\": {\"73\": 7, \"92\": 1, \"19\": 3, \"42\": 3, \"40\": 1, \"82\": 1, \"120\": 1, \"79\": 1, \"9\": 1, \"41\": 1, \"103\": 1, \"46\": 1, \"2\": 2}, \"6\": {\"73\": 1, \"6\": 18, \"129\": 1, \"59\": 1, \"91\": 1, \"58\": 1, \"116\": 1}, \"29\": {\"58\": 1, \"29\": 25, \"6\": 2, \"32\": 1, \"2\": 1, \"42\": 2}, \"114\": {\"114\": 67, \"72\": 1, \"99\": 3, \"49\": 2, \"5\": 8, \"44\": 3, \"40\": 3, \"1\": 9, \"3\": 4, \"69\": 5, \"33\": 2, \"84\": 3, \"71\": 2, \"127\": 2, \"107\": 2, \"14\": 7, \"74\": 1, \"95\": 1, \"27\": 1, \"105\": 1, \"101\": 1}, \"49\": {\"49\": 18, \"114\": 2, \"72\": 1, \"84\": 2, \"99\": 2, \"14\": 1, \"53\": 2, \"51\": 1, \"12\": 1, \"1\": 1, \"62\": 1}, \"16\": {\"16\": 49, \"69\": 1, \"26\": 11, \"18\": 5, \"7\": 2, \"84\": 11, \"71\": 5, \"122\": 1, \"96\": 1, \"101\": 1, \"1\": 2, \"12\": 2, \"105\": 3, \"106\": 2, \"127\": 2, \"0\": 1, \"3\": 2, \"5\": 1, \"70\": 1, \"11\": 2, \"95\": 1, \"72\": 1, \"14\": 3, \"88\": 2, \"15\": 1, \"62\": 1, \"114\": 2, \"36\": 1, \"113\": 1}, \"68\": {\"68\": 7, \"64\": 2, \"129\": 2, \"120\": 1, \"52\": 1, \"31\": 1, \"90\": 1, \"111\": 1}, \"98\": {\"98\": 104, \"58\": 1, \"9\": 3, \"11\": 1, \"120\": 1, \"33\": 2, \"106\": 1, \"75\": 2, \"81\": 1, \"85\": 1, \"3\": 1, \"90\": 1, \"107\": 1}, \"64\": {\"64\": 11, \"115\": 1, \"104\": 1, \"73\": 1, \"29\": 1, \"116\": 1}, \"121\": {\"98\": 5, \"61\": 1, \"121\": 13, \"34\": 1, \"91\": 1, \"107\": 1, \"90\": 3, \"92\": 1, \"56\": 1, \"99\": 1, \"42\": 1, \"89\": 1, \"38\": 1, \"5\": 1}, \"124\": {\"63\": 3, \"124\": 67, \"45\": 1, \"117\": 6, \"4\": 2, \"102\": 10, \"111\": 11, \"86\": 1, \"90\": 5, \"125\": 7, \"112\": 1}, \"97\": {\"97\": 10, \"126\": 2, \"70\": 4, \"94\": 1, \"108\": 1, \"43\": 1, \"109\": 1}, \"40\": {\"40\": 51, \"69\": 3, \"46\": 1, \"9\": 1, \"84\": 6, \"74\": 1, \"8\": 2, \"11\": 2, \"44\": 1, \"34\": 1, \"107\": 12, \"114\": 10, \"95\": 1, \"105\": 4, \"33\": 13, \"14\": 2, \"98\": 1, \"3\": 8, \"15\": 1, \"93\": 2, \"5\": 4, \"1\": 4, \"72\": 1, \"85\": 1, \"99\": 1, \"71\": 1, \"127\": 1}, \"119\": {\"119\": 7, \"100\": 1, \"29\": 1, \"80\": 1, \"32\": 1, \"92\": 2, \"123\": 1, \"52\": 2}, \"100\": {\"40\": 1, \"69\": 1, \"72\": 2, \"98\": 1, \"53\": 1, \"100\": 5, \"5\": 1, \"19\": 1, \"91\": 1, \"54\": 2, \"33\": 1, \"99\": 1, \"106\": 1, \"46\": 1}, \"87\": {\"108\": 1, \"43\": 9, \"87\": 44, \"110\": 11, \"122\": 1, \"118\": 6, \"30\": 4, \"109\": 2, \"8\": 2, \"0\": 6, \"113\": 8, \"36\": 4, \"15\": 3, \"94\": 3, \"27\": 1, \"10\": 2, \"93\": 5, \"62\": 1, \"70\": 1, \"101\": 2}, \"88\": {\"88\": 104, \"23\": 1, \"21\": 2, \"109\": 1, \"70\": 2, \"24\": 4, \"39\": 6, \"10\": 3, \"78\": 2, \"108\": 1, \"126\": 2}, \"52\": {\"52\": 9, \"47\": 1, \"78\": 1, \"38\": 1, \"89\": 2, \"54\": 1, \"74\": 1, \"66\": 1, \"75\": 1, \"85\": 1, \"126\": 1}, \"80\": {\"80\": 9, \"65\": 1, \"123\": 2, \"22\": 1, \"6\": 1, \"86\": 1, \"48\": 1}, \"105\": {\"14\": 5, \"18\": 3, \"105\": 33, \"5\": 6, \"95\": 2, \"15\": 2, \"8\": 1, \"43\": 1, \"86\": 1, \"127\": 4, \"40\": 6, \"81\": 1, \"71\": 7, \"101\": 1, \"33\": 2, \"70\": 1, \"69\": 2, \"114\": 6, \"26\": 3, \"12\": 3, \"107\": 2, \"88\": 2, \"44\": 3, \"10\": 2, \"84\": 1}, \"32\": {\"58\": 1, \"32\": 10, \"92\": 2, \"50\": 2, \"42\": 1, \"119\": 1, \"46\": 1, \"2\": 2, \"120\": 1, \"29\": 1, \"74\": 1, \"9\": 1, \"73\": 1, \"68\": 1, \"107\": 2}, \"35\": {\"99\": 1, \"95\": 1, \"81\": 2, \"9\": 1, \"32\": 1, \"35\": 3, \"52\": 1, \"5\": 2}, \"99\": {\"99\": 16, \"26\": 1, \"85\": 3, \"16\": 1, \"3\": 2, \"8\": 1, \"1\": 2, \"5\": 1, \"54\": 1, \"53\": 2, \"98\": 1, \"72\": 1, \"14\": 1, \"100\": 1, \"107\": 1, \"51\": 2, \"95\": 1, \"44\": 1, \"106\": 1}, \"18\": {\"72\": 2, \"18\": 72, \"106\": 3, \"35\": 2, \"16\": 3, \"127\": 1, \"69\": 10, \"34\": 1, \"95\": 1, \"105\": 6, \"26\": 3, \"14\": 3, \"84\": 6, \"114\": 1, \"126\": 1, \"44\": 2, \"24\": 1, \"71\": 1, \"8\": 1}, \"24\": {\"24\": 67, \"10\": 7, \"39\": 7, \"27\": 2, \"70\": 16, \"108\": 1, \"126\": 9, \"43\": 2, \"88\": 1}, \"85\": {\"85\": 18, \"70\": 1, \"46\": 1, \"9\": 1, \"38\": 1, \"34\": 1, \"72\": 1, \"98\": 2, \"107\": 2}, \"39\": {\"24\": 11, \"70\": 10, \"39\": 38, \"126\": 8, \"10\": 11, \"78\": 1, \"108\": 5, \"109\": 3, \"27\": 4, \"88\": 4, \"36\": 1, \"97\": 2, \"21\": 1, \"43\": 1}, \"123\": {\"91\": 1, \"123\": 7, \"125\": 2, \"57\": 1, \"6\": 1, \"55\": 1, \"45\": 2, \"68\": 1}, \"91\": {\"91\": 17, \"128\": 1, \"92\": 1, \"66\": 1, \"90\": 1, \"77\": 1, \"6\": 1, \"117\": 1}, \"78\": {\"78\": 33, \"21\": 1, \"88\": 2}, \"38\": {\"38\": 6, \"52\": 1, \"14\": 1, \"83\": 1, \"121\": 1, \"114\": 1, \"76\": 1, \"75\": 1, \"82\": 1, \"94\": 1, \"44\": 1}, \"15\": {\"122\": 5, \"8\": 13, \"0\": 10, \"15\": 55, \"30\": 3, \"11\": 4, \"94\": 10, \"118\": 2, \"10\": 2, \"87\": 2, \"7\": 8, \"93\": 4, \"27\": 1, \"110\": 2, \"113\": 4, \"36\": 1, \"78\": 1, \"39\": 1}, \"48\": {\"48\": 8, \"37\": 1, \"115\": 1, \"42\": 2, \"120\": 2, \"129\": 1, \"86\": 1}, \"45\": {\"103\": 2, \"45\": 9, \"57\": 2, \"120\": 2, \"31\": 1}, \"120\": {\"29\": 2, \"45\": 3, \"120\": 7, \"9\": 1, \"41\": 2, \"42\": 3, \"65\": 1, \"28\": 1}, \"44\": {\"1\": 5, \"44\": 29, \"35\": 1, \"16\": 2, \"69\": 1, \"40\": 3, \"11\": 1, \"5\": 3, \"3\": 5, \"84\": 4, \"18\": 3, \"14\": 3, \"71\": 1, \"127\": 1, \"95\": 1, \"117\": 1}, \"86\": {\"86\": 12, \"17\": 1, \"27\": 1, \"65\": 1, \"52\": 1, \"104\": 1, \"90\": 1, \"125\": 3, \"77\": 2, \"79\": 1, \"21\": 1, \"66\": 1, \"6\": 1, \"119\": 1}, \"20\": {\"40\": 2, \"20\": 9, \"96\": 1, \"83\": 3, \"105\": 1}, \"33\": {\"33\": 110, \"3\": 1, \"5\": 5, \"111\": 1, \"107\": 7, \"40\": 12, \"114\": 6, \"101\": 1, \"98\": 1, \"14\": 2, \"34\": 1, \"81\": 1, \"88\": 1, \"10\": 1}, \"129\": {\"129\": 7, \"55\": 1, \"52\": 1, \"73\": 1, \"111\": 1, \"2\": 3, \"120\": 2, \"41\": 1, \"91\": 4, \"98\": 1, \"115\": 1, \"65\": 1, \"57\": 1, \"59\": 1, \"48\": 1, \"63\": 1}, \"34\": {\"9\": 5, \"34\": 8, \"127\": 1, \"12\": 1, \"5\": 2, \"49\": 1, \"93\": 1, \"95\": 1, \"105\": 3, \"74\": 1, \"18\": 1, \"0\": 1, \"83\": 2, \"44\": 1, \"26\": 1, \"1\": 1, \"20\": 1}, \"81\": {\"40\": 5, \"49\": 1, \"54\": 1, \"32\": 1, \"81\": 15, \"72\": 1, \"89\": 1, \"101\": 1, \"9\": 1, \"114\": 6, \"105\": 1, \"21\": 1, \"33\": 1}, \"57\": {\"50\": 2, \"57\": 9, \"21\": 1, \"90\": 1, \"129\": 1, \"70\": 1, \"98\": 1}, \"0\": {\"106\": 4, \"0\": 50, \"110\": 14, \"113\": 14, \"15\": 2, \"8\": 4, \"122\": 4, \"7\": 4, \"30\": 2, \"88\": 1, \"118\": 2, \"93\": 5, \"11\": 2, \"94\": 7, \"70\": 1}, \"2\": {\"2\": 8, \"54\": 1, \"111\": 5, \"91\": 1, \"124\": 1, \"98\": 1, \"66\": 1, \"117\": 4, \"104\": 1, \"57\": 1, \"74\": 1, \"50\": 1, \"68\": 1, \"85\": 1}, \"42\": {\"42\": 16, \"119\": 1, \"41\": 1, \"64\": 1, \"29\": 2, \"52\": 1, \"28\": 2, \"90\": 1, \"61\": 1, \"19\": 1, \"111\": 1}, \"84\": {\"84\": 39, \"14\": 6, \"114\": 6, \"26\": 6, \"5\": 12, \"71\": 5, \"69\": 6, \"24\": 3, \"16\": 9, \"44\": 2, \"15\": 1, \"105\": 6, \"81\": 3, \"40\": 4, \"18\": 4, \"127\": 7, \"93\": 1, \"3\": 2, \"8\": 1, \"72\": 1, \"1\": 6, \"106\": 1, \"98\": 1}, \"3\": {\"3\": 66, \"127\": 8, \"69\": 2, \"44\": 3, \"71\": 8, \"21\": 1, \"114\": 5, \"1\": 1, \"14\": 7, \"84\": 7, \"12\": 1, \"10\": 1, \"105\": 2, \"5\": 2, \"7\": 2, \"107\": 1, \"99\": 2, \"78\": 1, \"49\": 1, \"122\": 1, \"88\": 1, \"93\": 1, \"8\": 1, \"98\": 1}, \"41\": {\"41\": 9, \"128\": 1, \"52\": 1, \"98\": 1, \"66\": 1, \"42\": 2, \"75\": 1}, \"53\": {\"53\": 12, \"41\": 1, \"70\": 1, \"99\": 1, \"72\": 1}, \"66\": {\"66\": 4, \"89\": 3, \"98\": 1, \"91\": 1, \"116\": 1, \"41\": 2, \"6\": 1, \"48\": 1, \"59\": 2}, \"22\": {\"22\": 7, \"2\": 2, \"34\": 1, \"104\": 2, \"76\": 2, \"6\": 1, \"121\": 1}}, \"C_5\": {\"35\": {\"35\": 27, \"55\": 3, \"17\": 1, \"2\": 1, \"49\": 1, \"38\": 1, \"39\": 1, \"36\": 1}, \"57\": {\"57\": 44, \"47\": 3, \"3\": 7, \"56\": 13, \"22\": 2, \"40\": 3, \"30\": 9, \"44\": 6, \"6\": 1, \"9\": 7, \"0\": 2, \"1\": 10, \"46\": 3, \"45\": 5, \"4\": 1, \"5\": 2, \"50\": 2, \"48\": 10, \"14\": 1, \"13\": 1}, \"20\": {\"12\": 2, \"20\": 76, \"21\": 17, \"52\": 11, \"56\": 5, \"8\": 11, \"47\": 2, \"9\": 1, \"0\": 8, \"46\": 4, \"57\": 2, \"13\": 1, \"43\": 1, \"3\": 2, \"29\": 1}, \"12\": {\"12\": 46, \"45\": 3, \"46\": 2, \"21\": 2, \"3\": 8, \"6\": 5, \"30\": 2, \"44\": 2, \"52\": 5, \"50\": 5, \"1\": 1, \"8\": 1, \"5\": 1, \"27\": 1, \"20\": 2, \"47\": 2, \"0\": 1, \"22\": 1, \"48\": 1, \"40\": 1, \"56\": 1, \"9\": 3}, \"32\": {\"32\": 15, \"48\": 6, \"29\": 3, \"27\": 2, \"2\": 1, \"56\": 1, \"23\": 1, \"14\": 1, \"47\": 2}, \"25\": {\"25\": 91, \"11\": 16, \"26\": 1, \"54\": 3, \"18\": 8, \"15\": 9, \"16\": 8, \"31\": 1, \"10\": 1}, \"44\": {\"5\": 16, \"44\": 87, \"30\": 6, \"46\": 2, \"45\": 1, \"21\": 3, \"12\": 2, \"9\": 13, \"57\": 5, \"4\": 6, \"40\": 1, \"52\": 1, \"6\": 1, \"47\": 1, \"0\": 1, \"1\": 1, \"20\": 1}, \"31\": {\"31\": 26, \"49\": 6, \"28\": 1, \"10\": 1, \"54\": 1, \"55\": 1}, \"11\": {\"11\": 74, \"23\": 4, \"16\": 16, \"54\": 9, \"10\": 6, \"25\": 12, \"26\": 4, \"53\": 1, \"18\": 1, \"15\": 21, \"24\": 2}, \"47\": {\"47\": 34, \"57\": 7, \"46\": 9, \"52\": 8, \"29\": 1, \"56\": 12, \"32\": 1, \"3\": 2, \"38\": 1, \"0\": 8, \"40\": 2, \"27\": 4, \"30\": 2, \"9\": 1, \"8\": 3, \"17\": 2, \"48\": 1, \"13\": 1, \"44\": 1}, \"23\": {\"37\": 2, \"23\": 39, \"7\": 1, \"51\": 6, \"55\": 14, \"54\": 11, \"43\": 7, \"36\": 2, \"42\": 4, \"17\": 3, \"11\": 7, \"15\": 12, \"53\": 4, \"16\": 1, \"38\": 3, \"26\": 2, \"10\": 1, \"13\": 1, \"24\": 4}, \"43\": {\"43\": 132, \"37\": 3, \"2\": 1, \"51\": 7, \"7\": 1}, \"37\": {\"37\": 19, \"39\": 2, \"35\": 1, \"36\": 1, \"7\": 1}, \"5\": {\"57\": 3, \"44\": 16, \"5\": 61, \"30\": 3, \"4\": 14, \"21\": 3, \"50\": 3, \"9\": 14, \"45\": 2, \"56\": 1, \"20\": 3, \"52\": 4, \"40\": 1}, \"45\": {\"44\": 8, \"45\": 73, \"9\": 4, \"12\": 1, \"4\": 2, \"30\": 10, \"5\": 1, \"6\": 8, \"3\": 2, \"50\": 15}, \"7\": {\"7\": 29, \"51\": 2, \"41\": 1}, \"13\": {\"47\": 2, \"13\": 87, \"14\": 3, \"7\": 1, \"51\": 19, \"8\": 4, \"48\": 1, \"36\": 1, \"56\": 1, \"27\": 2, \"20\": 3, \"43\": 9, \"29\": 1, \"21\": 2}, \"49\": {\"49\": 32, \"33\": 1, \"55\": 2, \"54\": 1}, \"46\": {\"46\": 63, \"57\": 2, \"47\": 2, \"56\": 5, \"22\": 1, \"12\": 10, \"3\": 14, \"20\": 4, \"50\": 6, \"8\": 4, \"52\": 13, \"48\": 1, \"0\": 12, \"30\": 5, \"5\": 1, \"44\": 2, \"6\": 2, \"21\": 1}, \"16\": {\"49\": 2, \"16\": 54, \"11\": 15, \"24\": 7, \"26\": 1, \"25\": 16, \"54\": 4, \"18\": 4, \"10\": 2, \"23\": 5, \"53\": 6, \"15\": 20}, \"54\": {\"54\": 93, \"23\": 3, \"24\": 8, \"53\": 3, \"55\": 1, \"35\": 1, \"10\": 1, \"36\": 1, \"16\": 1}, \"19\": {\"19\": 121, \"34\": 4, \"23\": 5, \"14\": 1, \"29\": 2, \"55\": 4, \"24\": 1, \"17\": 7, \"13\": 1, \"38\": 1, \"33\": 1, \"31\": 1, \"36\": 1, \"27\": 1, \"16\": 1}, \"55\": {\"49\": 5, \"31\": 2, \"55\": 81, \"2\": 1, \"42\": 7, \"34\": 1, \"23\": 16, \"17\": 9, \"54\": 5, \"53\": 4, \"24\": 3, \"19\": 5, \"36\": 5, \"43\": 1, \"15\": 2, \"51\": 1, \"39\": 2}, \"30\": {\"30\": 53, \"50\": 7, \"44\": 15, \"47\": 1, \"22\": 2, \"45\": 10, \"27\": 1, \"57\": 3, \"5\": 6, \"12\": 3, \"56\": 2, \"1\": 10, \"3\": 2, \"40\": 3, \"6\": 4, \"9\": 3, \"0\": 1, \"4\": 1, \"46\": 1}, \"34\": {\"47\": 1, \"34\": 19, \"14\": 2, \"41\": 1, \"35\": 1, \"55\": 2, \"23\": 2, \"17\": 4, \"53\": 1, \"7\": 1, \"2\": 1, \"13\": 1}, \"50\": {\"50\": 70, \"44\": 10, \"30\": 6, \"6\": 10, \"22\": 1, \"12\": 5, \"57\": 2, \"3\": 6, \"4\": 2, \"45\": 9, \"1\": 3, \"9\": 4, \"46\": 4, \"5\": 2}, \"3\": {\"50\": 10, \"3\": 36, \"0\": 6, \"44\": 1, \"47\": 4, \"22\": 1, \"46\": 8, \"40\": 2, \"12\": 4, \"30\": 4, \"57\": 5, \"6\": 8, \"45\": 2, \"52\": 5, \"27\": 1, \"9\": 1, \"56\": 1, \"20\": 1}, \"10\": {\"10\": 49, \"11\": 4, \"24\": 7, \"54\": 2, \"16\": 3, \"15\": 3}, \"27\": {\"32\": 6, \"27\": 49, \"47\": 5, \"1\": 15, \"8\": 2, \"2\": 1, \"44\": 1, \"48\": 14, \"14\": 1, \"57\": 9, \"12\": 2, \"30\": 1, \"29\": 9, \"9\": 2, \"40\": 11, \"17\": 3, \"4\": 3, \"53\": 1, \"56\": 1, \"55\": 2, \"36\": 1, \"23\": 1, \"19\": 1, \"13\": 1}, \"33\": {\"33\": 26, \"17\": 1, \"42\": 1, \"34\": 1, \"35\": 2, \"52\": 1}, \"56\": {\"56\": 71, \"47\": 3, \"27\": 3, \"48\": 7, \"12\": 2, \"29\": 2, \"1\": 11, \"57\": 13, \"17\": 1, \"3\": 1, \"13\": 1, \"46\": 8, \"8\": 6, \"0\": 7, \"52\": 1, \"40\": 1, \"20\": 4}, \"9\": {\"46\": 2, \"9\": 80, \"47\": 3, \"30\": 8, \"44\": 14, \"40\": 6, \"4\": 7, \"12\": 1, \"50\": 4, \"57\": 2, \"5\": 7, \"21\": 1, \"6\": 2, \"8\": 1, \"22\": 2, \"48\": 2, \"3\": 1, \"56\": 1, \"1\": 4, \"45\": 1, \"20\": 1}, \"14\": {\"32\": 2, \"14\": 13, \"43\": 2, \"29\": 2, \"38\": 3, \"2\": 3, \"39\": 1, \"41\": 1, \"48\": 5, \"8\": 1, \"17\": 3, \"37\": 2, \"47\": 2, \"27\": 1, \"13\": 2, \"34\": 1}, \"4\": {\"5\": 11, \"4\": 48, \"57\": 3, \"47\": 1, \"44\": 14, \"9\": 6, \"45\": 2, \"0\": 1, \"20\": 2, \"6\": 2, \"29\": 1, \"56\": 2, \"8\": 3, \"48\": 2, \"1\": 2}, \"42\": {\"42\": 22, \"39\": 1, \"2\": 4, \"24\": 1, \"36\": 4, \"55\": 5, \"10\": 1, \"23\": 1, \"26\": 1}, \"24\": {\"24\": 41, \"42\": 2, \"2\": 1, \"54\": 10, \"23\": 1, \"55\": 3, \"11\": 2, \"10\": 6, \"15\": 4, \"17\": 2, \"49\": 1, \"26\": 1, \"31\": 1, \"53\": 5}, \"39\": {\"2\": 3, \"38\": 2, \"39\": 6, \"55\": 1, \"42\": 1, \"17\": 3, \"37\": 1, \"36\": 3}, \"52\": {\"3\": 3, \"52\": 83, \"46\": 13, \"12\": 5, \"20\": 7, \"47\": 3, \"0\": 5, \"57\": 3, \"8\": 3, \"21\": 1, \"56\": 3, \"50\": 1}, \"2\": {\"2\": 18, \"38\": 1, \"36\": 1, \"37\": 3, \"17\": 1, \"41\": 1, \"42\": 1, \"14\": 1, \"34\": 1}, \"28\": {\"28\": 26, \"31\": 2, \"19\": 2, \"15\": 1, \"26\": 1}, \"53\": {\"26\": 1, \"37\": 1, \"43\": 5, \"53\": 68, \"49\": 1, \"28\": 1, \"54\": 6, \"16\": 2, \"24\": 4, \"36\": 5, \"11\": 2, \"55\": 10, \"15\": 5, \"51\": 2, \"23\": 5, \"42\": 1, \"31\": 1, \"2\": 2}, \"17\": {\"37\": 2, \"8\": 4, \"17\": 40, \"36\": 8, \"34\": 4, \"38\": 2, \"27\": 5, \"35\": 1, \"13\": 1, \"29\": 6, \"55\": 10, \"14\": 3, \"48\": 3, \"54\": 3, \"19\": 8, \"47\": 3, \"56\": 1, \"41\": 2, \"32\": 3, \"33\": 2, \"2\": 1, \"7\": 1, \"39\": 1, \"31\": 1, \"20\": 1}, \"29\": {\"29\": 66, \"34\": 2, \"47\": 3, \"40\": 5, \"48\": 14, \"1\": 7, \"27\": 21, \"56\": 3, \"8\": 3, \"13\": 3, \"7\": 1, \"14\": 2, \"17\": 1, \"51\": 1}, \"38\": {\"41\": 6, \"38\": 17, \"8\": 1, \"2\": 2, \"13\": 1, \"14\": 3, \"7\": 2}, \"15\": {\"53\": 13, \"26\": 1, \"15\": 85, \"31\": 1, \"25\": 4, \"18\": 1, \"54\": 6, \"16\": 16, \"19\": 1, \"24\": 4, \"11\": 6, \"42\": 1, \"23\": 4, \"10\": 1}, \"26\": {\"26\": 13, \"10\": 1, \"28\": 1, \"11\": 1, \"24\": 2, \"54\": 3, \"15\": 1, \"42\": 1, \"25\": 1}, \"21\": {\"21\": 92, \"52\": 13, \"46\": 3, \"47\": 2, \"20\": 19, \"57\": 2, \"56\": 3, \"5\": 2, \"7\": 1, \"8\": 4, \"12\": 2, \"51\": 1}, \"41\": {\"41\": 19, \"32\": 1, \"34\": 1, \"56\": 2, \"38\": 2, \"37\": 1, \"27\": 1, \"17\": 1}, \"48\": {\"46\": 4, \"47\": 6, \"57\": 17, \"1\": 11, \"48\": 51, \"2\": 1, \"22\": 1, \"5\": 2, \"13\": 2, \"34\": 2, \"29\": 12, \"0\": 3, \"3\": 1, \"40\": 10, \"9\": 1, \"56\": 3, \"43\": 2, \"27\": 5, \"8\": 1, \"51\": 1}, \"22\": {\"30\": 3, \"44\": 1, \"22\": 15, \"1\": 1, \"6\": 1, \"47\": 1, \"0\": 1, \"56\": 1, \"46\": 1, \"3\": 2, \"57\": 1}, \"8\": {\"0\": 7, \"8\": 65, \"1\": 1, \"38\": 1, \"56\": 4, \"3\": 1, \"20\": 25, \"14\": 1, \"13\": 3, \"52\": 15, \"21\": 11, \"46\": 1, \"43\": 2, \"48\": 3, \"5\": 1, \"29\": 1, \"33\": 1, \"47\": 3, \"34\": 1, \"27\": 1}, \"18\": {\"26\": 3, \"11\": 7, \"18\": 37, \"10\": 5, \"25\": 5, \"16\": 6, \"53\": 1}, \"0\": {\"8\": 3, \"0\": 64, \"57\": 11, \"46\": 13, \"52\": 3, \"3\": 3, \"56\": 6, \"12\": 3, \"6\": 1, \"20\": 4, \"47\": 7, \"1\": 2, \"45\": 1, \"30\": 1}, \"1\": {\"1\": 42, \"22\": 1, \"47\": 4, \"48\": 16, \"30\": 10, \"0\": 6, \"57\": 12, \"40\": 4, \"9\": 6, \"56\": 13, \"46\": 5, \"27\": 9, \"3\": 3, \"5\": 3, \"29\": 3, \"44\": 1}, \"40\": {\"40\": 55, \"4\": 5, \"0\": 1, \"48\": 9, \"44\": 6, \"46\": 1, \"1\": 5, \"5\": 5, \"30\": 1, \"57\": 9, \"9\": 15, \"6\": 4, \"56\": 4, \"29\": 1, \"47\": 2, \"27\": 1}, \"6\": {\"6\": 55, \"30\": 7, \"22\": 1, \"45\": 16, \"4\": 4, \"50\": 18, \"5\": 5, \"12\": 5, \"46\": 1, \"3\": 6, \"44\": 3, \"9\": 4, \"57\": 2, \"1\": 1}, \"51\": {\"51\": 85, \"43\": 7, \"36\": 2, \"38\": 2, \"35\": 1, \"13\": 21, \"8\": 8, \"20\": 4, \"55\": 3, \"53\": 3, \"21\": 1, \"41\": 1, \"2\": 1, \"42\": 1, \"23\": 1, \"56\": 1}, \"36\": {\"36\": 80, \"37\": 2, \"2\": 1, \"35\": 1, \"42\": 1, \"43\": 1, \"17\": 2, \"39\": 3, \"34\": 1}}}, \"per_domain_accuracy\": {\"O_50\": {\"accuracy\": 0.8916666666666667, \"source?\": true}, \"O_14\": {\"accuracy\": 0.41432291666666665, \"source?\": true}, \"O_32\": {\"accuracy\": 0.6278645833333333, \"source?\": true}, \"O_44\": {\"accuracy\": 0.7986979166666667, \"source?\": true}, \"O_8\": {\"accuracy\": 0.40729166666666666, \"source?\": true}, \"O_20\": {\"accuracy\": 0.21015625, \"source?\": true}, \"O_38\": {\"accuracy\": 0.8971354166666666, \"source?\": true}, \"O_26\": {\"accuracy\": 0.21276041666666667, \"source?\": true}, \"C_4\": {\"accuracy\": 0.53125, \"source?\": false}, \"C_2\": {\"accuracy\": 0.543188202247191, \"source?\": false}, \"C_3\": {\"accuracy\": 0.5375744047619048, \"source?\": false}, \"W_3\": {\"accuracy\": 0.5653657205240175, \"source?\": false}, \"C_1\": {\"accuracy\": 0.6040540540540541, \"source?\": false}, \"W_2\": {\"accuracy\": 0.537109375, \"source?\": false}, \"W_1\": {\"accuracy\": 0.5783898305084746, \"source?\": false}, \"W_4\": {\"accuracy\": 0.5122170781893004, \"source?\": false}, \"C_5\": {\"accuracy\": 0.5347416201117319, \"source?\": false}}}, \"history\": {\"epoch_indices\": [1, 2, 3, 4, 5], \"train_label_loss\": [0.47962719360920825, 1.9450595610068246, 0.348920973787816, 0.31177342039050665, 0.29556466721918523], \"source_val_label_loss\": [189.6869354248047, 0.37665870785713196, 0.34568142890930176, 0.2978430688381195, 0.2799695134162903], \"target_val_label_loss\": [17138.693359375, 4221.9814453125, 4267.81005859375, 5003.63623046875, 4455.951171875], \"source_val_acc_label\": [0.5574869791666667, 0.86474609375, 0.8929036458333334, 0.8978515625, 0.908203125], \"target_val_acc_label\": [0.549352029621503, 0.3763885079539221, 0.4025644541963796, 0.40217018650575975, 0.40007885353812395]}, \"dataset_metrics\": {\"source\": {\"train\": {\"n_unique_x\": 179200, \"n_unique_y\": 16, \"n_batch/episode\": 6720}, \"val\": {\"n_unique_x\": 38400, \"n_unique_y\": 16, \"n_batch/episode\": 960}, \"test\": {\"n_unique_x\": 38400, \"n_unique_y\": 16, \"n_batch/episode\": 960}}, \"target\": {\"train\": {\"n_unique_x\": 364205, \"n_unique_y\": 130, \"n_batch/episode\": 13140}, \"val\": {\"n_unique_x\": 77236, \"n_unique_y\": 130, \"n_batch/episode\": 1823}, \"test\": {\"n_unique_x\": 78478, \"n_unique_y\": 130, \"n_batch/episode\": 1857}}}}'"
      ]
     },
     "execution_count": 29,
     "metadata": {},
     "output_type": "execute_result"
    }
   ],
   "source": [
    "json.dumps(experiment)"
   ]
  }
 ],
 "metadata": {
  "celltoolbar": "Tags",
  "kernelspec": {
   "display_name": "Python 3 (ipykernel)",
   "language": "python",
   "name": "python3"
  },
  "language_info": {
   "codemirror_mode": {
    "name": "ipython",
    "version": 3
   },
   "file_extension": ".py",
   "mimetype": "text/x-python",
   "name": "python",
   "nbconvert_exporter": "python",
   "pygments_lexer": "ipython3",
   "version": "3.8.10"
  },
  "papermill": {
   "default_parameters": {},
   "duration": 1926.600068,
   "end_time": "2022-03-21T04:39:10.585340",
   "environment_variables": {},
   "exception": null,
   "input_path": "/mnt/wd500GB/CSC500/csc500-main/csc500-notebooks/templates/tl_ptn_template.ipynb",
   "output_path": "trial.ipynb",
   "parameters": {
    "parameters": {
     "BEST_MODEL_PATH": "./best_model.pth",
     "NUM_LOGS_PER_EPOCH": 10,
     "criteria_for_best": "target_accuracy",
     "dataset_seed": 500,
     "datasets": [
      {
       "domain_prefix": "C_",
       "domains": [
        1,
        2,
        3,
        4,
        5
       ],
       "episode_transforms": [],
       "labels": [
        "1-10.",
        "1-11.",
        "1-15.",
        "1-16.",
        "1-17.",
        "1-18.",
        "1-19.",
        "10-4.",
        "10-7.",
        "11-1.",
        "11-14.",
        "11-17.",
        "11-20.",
        "11-7.",
        "13-20.",
        "13-8.",
        "14-10.",
        "14-11.",
        "14-14.",
        "14-7.",
        "15-1.",
        "15-20.",
        "16-1.",
        "16-16.",
        "17-10.",
        "17-11.",
        "17-2.",
        "19-1.",
        "19-16.",
        "19-19.",
        "19-20.",
        "19-3.",
        "2-10.",
        "2-11.",
        "2-17.",
        "2-18.",
        "2-20.",
        "2-3.",
        "2-4.",
        "2-5.",
        "2-6.",
        "2-7.",
        "2-8.",
        "3-13.",
        "3-18.",
        "3-3.",
        "4-1.",
        "4-10.",
        "4-11.",
        "4-19.",
        "5-5.",
        "6-15.",
        "7-10.",
        "7-14.",
        "8-18.",
        "8-20.",
        "8-3.",
        "8-8."
       ],
       "num_examples_per_domain_per_label": -1,
       "pickle_path": "/mnt/wd500GB/CSC500/csc500-main/datasets/cores.stratified_ds.2022A.pkl",
       "source_or_target_dataset": "target",
       "x_transforms": [
        "take_200"
       ]
      },
      {
       "domain_prefix": "W_",
       "domains": [
        1,
        2,
        3,
        4
       ],
       "episode_transforms": [],
       "labels": [
        "1-10",
        "1-12",
        "1-14",
        "1-16",
        "1-18",
        "1-19",
        "1-8",
        "10-11",
        "10-17",
        "10-4",
        "10-7",
        "11-1",
        "11-10",
        "11-19",
        "11-20",
        "11-4",
        "11-7",
        "12-19",
        "12-20",
        "12-7",
        "13-14",
        "13-18",
        "13-19",
        "13-20",
        "13-3",
        "13-7",
        "14-10",
        "14-11",
        "14-12",
        "14-13",
        "14-14",
        "14-19",
        "14-20",
        "14-7",
        "14-8",
        "14-9",
        "15-1",
        "15-19",
        "15-6",
        "16-1",
        "16-16",
        "16-19",
        "16-20",
        "17-10",
        "17-11",
        "18-1",
        "18-10",
        "18-11",
        "18-12",
        "18-13",
        "18-14",
        "18-15",
        "18-16",
        "18-17",
        "18-19",
        "18-2",
        "18-20",
        "18-4",
        "18-5",
        "18-7",
        "18-8",
        "18-9",
        "19-1",
        "19-10",
        "19-11",
        "19-12",
        "19-13",
        "19-14",
        "19-15",
        "19-19",
        "19-2",
        "19-20",
        "19-3",
        "19-4",
        "19-6",
        "19-7",
        "19-8",
        "19-9",
        "2-1",
        "2-13",
        "2-15",
        "2-3",
        "2-4",
        "2-5",
        "2-6",
        "2-7",
        "2-8",
        "20-1",
        "20-12",
        "20-14",
        "20-15",
        "20-16",
        "20-18",
        "20-19",
        "20-20",
        "20-3",
        "20-4",
        "20-5",
        "20-7",
        "20-8",
        "3-1",
        "3-13",
        "3-18",
        "3-2",
        "3-8",
        "4-1",
        "4-10",
        "4-11",
        "5-1",
        "5-5",
        "6-1",
        "6-15",
        "6-6",
        "7-10",
        "7-11",
        "7-12",
        "7-13",
        "7-14",
        "7-7",
        "7-8",
        "7-9",
        "8-1",
        "8-13",
        "8-14",
        "8-18",
        "8-20",
        "8-3",
        "8-8",
        "9-1",
        "9-7"
       ],
       "num_examples_per_domain_per_label": -1,
       "pickle_path": "/mnt/wd500GB/CSC500/csc500-main/datasets/wisig.node3-19.stratified_ds.2022A.pkl",
       "source_or_target_dataset": "target",
       "x_transforms": [
        "take_200"
       ]
      },
      {
       "domain_prefix": "O_",
       "domains": [
        32,
        38,
        8,
        44,
        14,
        50,
        20,
        26
       ],
       "episode_transforms": [],
       "labels": [
        "3123D52",
        "3123D65",
        "3123D79",
        "3123D80",
        "3123D54",
        "3123D70",
        "3123D7B",
        "3123D89",
        "3123D58",
        "3123D76",
        "3123D7D",
        "3123EFE",
        "3123D64",
        "3123D78",
        "3123D7E",
        "3124E4A"
       ],
       "num_examples_per_domain_per_label": 2000,
       "pickle_path": "/mnt/wd500GB/CSC500/csc500-main/datasets/oracle.Run1_framed_2000Examples_stratified_ds.2022A.pkl",
       "source_or_target_dataset": "source",
       "x_transforms": [
        "take_200",
        "resample_20Msps_to_25Msps"
       ]
      }
     ],
     "device": "cuda",
     "experiment_name": "tl_3Av2:oracle.run1.framed -> cores+wisig",
     "lr": 0.0001,
     "n_epoch": 50,
     "n_query": 2,
     "n_shot": 3,
     "n_way": 16,
     "patience": 3,
     "seed": 500,
     "test_k_factor": 2,
     "torch_default_dtype": "torch.float32",
     "train_k_factor": 3,
     "val_k_factor": 2,
     "x_net": [
      {
       "class": "nnReshape",
       "kargs": {
        "shape": [
         -1,
         1,
         2,
         200
        ]
       }
      },
      {
       "class": "Conv2d",
       "kargs": {
        "bias": false,
        "in_channels": 1,
        "kernel_size": [
         1,
         7
        ],
        "out_channels": 256,
        "padding": [
         0,
         3
        ]
       }
      },
      {
       "class": "ReLU",
       "kargs": {
        "inplace": true
       }
      },
      {
       "class": "BatchNorm2d",
       "kargs": {
        "num_features": 256
       }
      },
      {
       "class": "Conv2d",
       "kargs": {
        "bias": true,
        "in_channels": 256,
        "kernel_size": [
         2,
         7
        ],
        "out_channels": 80,
        "padding": [
         0,
         3
        ]
       }
      },
      {
       "class": "ReLU",
       "kargs": {
        "inplace": true
       }
      },
      {
       "class": "BatchNorm2d",
       "kargs": {
        "num_features": 80
       }
      },
      {
       "class": "Flatten",
       "kargs": {}
      },
      {
       "class": "Linear",
       "kargs": {
        "in_features": 16000,
        "out_features": 256
       }
      },
      {
       "class": "ReLU",
       "kargs": {
        "inplace": true
       }
      },
      {
       "class": "BatchNorm1d",
       "kargs": {
        "num_features": 256
       }
      },
      {
       "class": "Linear",
       "kargs": {
        "in_features": 256,
        "out_features": 256
       }
      }
     ],
     "x_shape": [
      2,
      200
     ]
    }
   },
   "start_time": "2022-03-21T04:07:03.985272",
   "version": "2.3.4"
  }
 },
 "nbformat": 4,
 "nbformat_minor": 5
}