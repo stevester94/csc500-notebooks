{
 "cells": [
  {
   "cell_type": "markdown",
   "id": "9fea5f46",
   "metadata": {
    "papermill": {
     "duration": 0.015774,
     "end_time": "2022-03-21T01:52:06.902164",
     "exception": false,
     "start_time": "2022-03-21T01:52:06.886390",
     "status": "completed"
    },
    "tags": []
   },
   "source": [
    "# Transfer Learning Template"
   ]
  },
  {
   "cell_type": "code",
   "execution_count": 1,
   "id": "0902182a",
   "metadata": {
    "execution": {
     "iopub.execute_input": "2022-03-21T01:52:06.934984Z",
     "iopub.status.busy": "2022-03-21T01:52:06.934689Z",
     "iopub.status.idle": "2022-03-21T01:52:07.886020Z",
     "shell.execute_reply": "2022-03-21T01:52:07.885469Z"
    },
    "papermill": {
     "duration": 0.971079,
     "end_time": "2022-03-21T01:52:07.886146",
     "exception": false,
     "start_time": "2022-03-21T01:52:06.915067",
     "status": "completed"
    },
    "tags": []
   },
   "outputs": [],
   "source": [
    "%load_ext autoreload\n",
    "%autoreload 2\n",
    "%matplotlib inline\n",
    "\n",
    "    \n",
    "import os, json, sys, time, random\n",
    "import numpy as np\n",
    "import torch\n",
    "from torch.optim import Adam\n",
    "from  easydict import EasyDict\n",
    "import matplotlib.pyplot as plt\n",
    "\n",
    "from steves_models.steves_ptn import Steves_Prototypical_Network\n",
    "\n",
    "from steves_utils.lazy_iterable_wrapper import Lazy_Iterable_Wrapper\n",
    "from steves_utils.iterable_aggregator import Iterable_Aggregator\n",
    "from steves_utils.ptn_train_eval_test_jig import  PTN_Train_Eval_Test_Jig\n",
    "from steves_utils.torch_sequential_builder import build_sequential\n",
    "from steves_utils.torch_utils import get_dataset_metrics, ptn_confusion_by_domain_over_dataloader\n",
    "from steves_utils.utils_v2 import (per_domain_accuracy_from_confusion, get_datasets_base_path)\n",
    "from steves_utils.PTN.utils import independent_accuracy_assesment\n",
    "\n",
    "from torch.utils.data import DataLoader\n",
    "\n",
    "from steves_utils.stratified_dataset.episodic_accessor import Episodic_Accessor_Factory\n",
    "\n",
    "from steves_utils.ptn_do_report import (\n",
    "    get_loss_curve,\n",
    "    get_results_table,\n",
    "    get_parameters_table,\n",
    "    get_domain_accuracies,\n",
    ")\n",
    "\n",
    "from steves_utils.transforms import get_chained_transform"
   ]
  },
  {
   "cell_type": "markdown",
   "id": "41c840b4",
   "metadata": {
    "papermill": {
     "duration": 0.013338,
     "end_time": "2022-03-21T01:52:07.917556",
     "exception": false,
     "start_time": "2022-03-21T01:52:07.904218",
     "status": "completed"
    },
    "tags": []
   },
   "source": [
    "# Allowed Parameters\n",
    "These are allowed parameters, not defaults\n",
    "Each of these values need to be present in the injected parameters (the notebook will raise an exception if they are not present)\n",
    "\n",
    "Papermill uses the cell tag \"parameters\" to inject the real parameters below this cell.\n",
    "Enable tags to see what I mean"
   ]
  },
  {
   "cell_type": "code",
   "execution_count": 2,
   "id": "fd44eb83",
   "metadata": {
    "execution": {
     "iopub.execute_input": "2022-03-21T01:52:07.948552Z",
     "iopub.status.busy": "2022-03-21T01:52:07.948281Z",
     "iopub.status.idle": "2022-03-21T01:52:07.964840Z",
     "shell.execute_reply": "2022-03-21T01:52:07.965254Z"
    },
    "papermill": {
     "duration": 0.034356,
     "end_time": "2022-03-21T01:52:07.965401",
     "exception": false,
     "start_time": "2022-03-21T01:52:07.931045",
     "status": "completed"
    },
    "tags": []
   },
   "outputs": [],
   "source": [
    "required_parameters = {\n",
    "    \"experiment_name\",\n",
    "    \"lr\",\n",
    "    \"device\",\n",
    "    \"seed\",\n",
    "    \"dataset_seed\",\n",
    "    \"n_shot\",\n",
    "    \"n_query\",\n",
    "    \"n_way\",\n",
    "    \"train_k_factor\",\n",
    "    \"val_k_factor\",\n",
    "    \"test_k_factor\",\n",
    "    \"n_epoch\",\n",
    "    \"patience\",\n",
    "    \"criteria_for_best\",\n",
    "    \"x_net\",\n",
    "    \"datasets\",\n",
    "    \"torch_default_dtype\",\n",
    "    \"NUM_LOGS_PER_EPOCH\",\n",
    "    \"BEST_MODEL_PATH\",\n",
    "    \"x_shape\",\n",
    "}"
   ]
  },
  {
   "cell_type": "code",
   "execution_count": 3,
   "id": "fa3f0049",
   "metadata": {
    "execution": {
     "iopub.execute_input": "2022-03-21T01:52:08.006300Z",
     "iopub.status.busy": "2022-03-21T01:52:08.005743Z",
     "iopub.status.idle": "2022-03-21T01:52:08.019489Z",
     "shell.execute_reply": "2022-03-21T01:52:08.019093Z"
    },
    "papermill": {
     "duration": 0.037262,
     "end_time": "2022-03-21T01:52:08.019572",
     "exception": false,
     "start_time": "2022-03-21T01:52:07.982310",
     "status": "completed"
    },
    "tags": [
     "parameters"
    ]
   },
   "outputs": [],
   "source": [
    "from steves_utils.CORES.utils import (\n",
    "    ALL_NODES,\n",
    "    ALL_NODES_MINIMUM_1000_EXAMPLES,\n",
    "    ALL_DAYS\n",
    ")\n",
    "\n",
    "from steves_utils.ORACLE.utils_v2 import (\n",
    "    ALL_DISTANCES_FEET_NARROWED,\n",
    "    ALL_RUNS,\n",
    "    ALL_SERIAL_NUMBERS,\n",
    ")\n",
    "\n",
    "standalone_parameters = {}\n",
    "standalone_parameters[\"experiment_name\"] = \"STANDALONE PTN\"\n",
    "standalone_parameters[\"lr\"] = 0.001\n",
    "standalone_parameters[\"device\"] = \"cuda\"\n",
    "\n",
    "standalone_parameters[\"seed\"] = 1337\n",
    "standalone_parameters[\"dataset_seed\"] = 1337\n",
    "\n",
    "standalone_parameters[\"n_way\"] = 8\n",
    "standalone_parameters[\"n_shot\"] = 3\n",
    "standalone_parameters[\"n_query\"]  = 2\n",
    "standalone_parameters[\"train_k_factor\"] = 1\n",
    "standalone_parameters[\"val_k_factor\"] = 2\n",
    "standalone_parameters[\"test_k_factor\"] = 2\n",
    "\n",
    "\n",
    "standalone_parameters[\"n_epoch\"] = 50\n",
    "\n",
    "standalone_parameters[\"patience\"] = 10\n",
    "standalone_parameters[\"criteria_for_best\"] = \"source_loss\"\n",
    "\n",
    "standalone_parameters[\"datasets\"] = [\n",
    "    {\n",
    "        \"labels\": ALL_SERIAL_NUMBERS,\n",
    "        \"domains\": ALL_DISTANCES_FEET_NARROWED,\n",
    "        \"num_examples_per_domain_per_label\": 100,\n",
    "        \"pickle_path\": os.path.join(get_datasets_base_path(), \"oracle.Run1_framed_2000Examples_stratified_ds.2022A.pkl\"),\n",
    "        \"source_or_target_dataset\": \"source\",\n",
    "        \"x_transforms\": [\"unit_mag\", \"minus_two\"],\n",
    "        \"episode_transforms\": [],\n",
    "        \"domain_prefix\": \"ORACLE_\"\n",
    "    },\n",
    "    {\n",
    "        \"labels\": ALL_NODES,\n",
    "        \"domains\": ALL_DAYS,\n",
    "        \"num_examples_per_domain_per_label\": 100,\n",
    "        \"pickle_path\": os.path.join(get_datasets_base_path(), \"cores.stratified_ds.2022A.pkl\"),\n",
    "        \"source_or_target_dataset\": \"target\",\n",
    "        \"x_transforms\": [\"unit_power\", \"times_zero\"],\n",
    "        \"episode_transforms\": [],\n",
    "        \"domain_prefix\": \"CORES_\"\n",
    "    }   \n",
    "]\n",
    "\n",
    "standalone_parameters[\"torch_default_dtype\"] = \"torch.float32\" \n",
    "\n",
    "\n",
    "\n",
    "standalone_parameters[\"x_net\"] =     [\n",
    "    {\"class\": \"nnReshape\", \"kargs\": {\"shape\":[-1, 1, 2, 256]}},\n",
    "    {\"class\": \"Conv2d\", \"kargs\": { \"in_channels\":1, \"out_channels\":256, \"kernel_size\":(1,7), \"bias\":False, \"padding\":(0,3), },},\n",
    "    {\"class\": \"ReLU\", \"kargs\": {\"inplace\": True}},\n",
    "    {\"class\": \"BatchNorm2d\", \"kargs\": {\"num_features\":256}},\n",
    "\n",
    "    {\"class\": \"Conv2d\", \"kargs\": { \"in_channels\":256, \"out_channels\":80, \"kernel_size\":(2,7), \"bias\":True, \"padding\":(0,3), },},\n",
    "    {\"class\": \"ReLU\", \"kargs\": {\"inplace\": True}},\n",
    "    {\"class\": \"BatchNorm2d\", \"kargs\": {\"num_features\":80}},\n",
    "    {\"class\": \"Flatten\", \"kargs\": {}},\n",
    "\n",
    "    {\"class\": \"Linear\", \"kargs\": {\"in_features\": 80*256, \"out_features\": 256}}, # 80 units per IQ pair\n",
    "    {\"class\": \"ReLU\", \"kargs\": {\"inplace\": True}},\n",
    "    {\"class\": \"BatchNorm1d\", \"kargs\": {\"num_features\":256}},\n",
    "\n",
    "    {\"class\": \"Linear\", \"kargs\": {\"in_features\": 256, \"out_features\": 256}},\n",
    "]\n",
    "\n",
    "# Parameters relevant to results\n",
    "# These parameters will basically never need to change\n",
    "standalone_parameters[\"NUM_LOGS_PER_EPOCH\"] = 10\n",
    "standalone_parameters[\"BEST_MODEL_PATH\"] = \"./best_model.pth\"\n",
    "\n",
    "\n",
    "\n",
    "\n"
   ]
  },
  {
   "cell_type": "code",
   "execution_count": 4,
   "id": "b4e017f0",
   "metadata": {
    "execution": {
     "iopub.execute_input": "2022-03-21T01:52:08.065620Z",
     "iopub.status.busy": "2022-03-21T01:52:08.058808Z",
     "iopub.status.idle": "2022-03-21T01:52:08.080449Z",
     "shell.execute_reply": "2022-03-21T01:52:08.079984Z"
    },
    "papermill": {
     "duration": 0.042103,
     "end_time": "2022-03-21T01:52:08.080543",
     "exception": false,
     "start_time": "2022-03-21T01:52:08.038440",
     "status": "completed"
    },
    "tags": [
     "injected-parameters"
    ]
   },
   "outputs": [],
   "source": [
    "# Parameters\n",
    "parameters = {\n",
    "    \"experiment_name\": \"tl_3Av2:oracle.run1.framed -> cores+wisig\",\n",
    "    \"device\": \"cuda\",\n",
    "    \"lr\": 0.0001,\n",
    "    \"x_shape\": [2, 200],\n",
    "    \"n_shot\": 3,\n",
    "    \"n_query\": 2,\n",
    "    \"train_k_factor\": 3,\n",
    "    \"val_k_factor\": 2,\n",
    "    \"test_k_factor\": 2,\n",
    "    \"torch_default_dtype\": \"torch.float32\",\n",
    "    \"n_epoch\": 50,\n",
    "    \"patience\": 3,\n",
    "    \"criteria_for_best\": \"target_accuracy\",\n",
    "    \"x_net\": [\n",
    "        {\"class\": \"nnReshape\", \"kargs\": {\"shape\": [-1, 1, 2, 200]}},\n",
    "        {\n",
    "            \"class\": \"Conv2d\",\n",
    "            \"kargs\": {\n",
    "                \"in_channels\": 1,\n",
    "                \"out_channels\": 256,\n",
    "                \"kernel_size\": [1, 7],\n",
    "                \"bias\": False,\n",
    "                \"padding\": [0, 3],\n",
    "            },\n",
    "        },\n",
    "        {\"class\": \"ReLU\", \"kargs\": {\"inplace\": True}},\n",
    "        {\"class\": \"BatchNorm2d\", \"kargs\": {\"num_features\": 256}},\n",
    "        {\n",
    "            \"class\": \"Conv2d\",\n",
    "            \"kargs\": {\n",
    "                \"in_channels\": 256,\n",
    "                \"out_channels\": 80,\n",
    "                \"kernel_size\": [2, 7],\n",
    "                \"bias\": True,\n",
    "                \"padding\": [0, 3],\n",
    "            },\n",
    "        },\n",
    "        {\"class\": \"ReLU\", \"kargs\": {\"inplace\": True}},\n",
    "        {\"class\": \"BatchNorm2d\", \"kargs\": {\"num_features\": 80}},\n",
    "        {\"class\": \"Flatten\", \"kargs\": {}},\n",
    "        {\"class\": \"Linear\", \"kargs\": {\"in_features\": 16000, \"out_features\": 256}},\n",
    "        {\"class\": \"ReLU\", \"kargs\": {\"inplace\": True}},\n",
    "        {\"class\": \"BatchNorm1d\", \"kargs\": {\"num_features\": 256}},\n",
    "        {\"class\": \"Linear\", \"kargs\": {\"in_features\": 256, \"out_features\": 256}},\n",
    "    ],\n",
    "    \"NUM_LOGS_PER_EPOCH\": 10,\n",
    "    \"BEST_MODEL_PATH\": \"./best_model.pth\",\n",
    "    \"n_way\": 16,\n",
    "    \"datasets\": [\n",
    "        {\n",
    "            \"labels\": [\n",
    "                \"1-10.\",\n",
    "                \"1-11.\",\n",
    "                \"1-15.\",\n",
    "                \"1-16.\",\n",
    "                \"1-17.\",\n",
    "                \"1-18.\",\n",
    "                \"1-19.\",\n",
    "                \"10-4.\",\n",
    "                \"10-7.\",\n",
    "                \"11-1.\",\n",
    "                \"11-14.\",\n",
    "                \"11-17.\",\n",
    "                \"11-20.\",\n",
    "                \"11-7.\",\n",
    "                \"13-20.\",\n",
    "                \"13-8.\",\n",
    "                \"14-10.\",\n",
    "                \"14-11.\",\n",
    "                \"14-14.\",\n",
    "                \"14-7.\",\n",
    "                \"15-1.\",\n",
    "                \"15-20.\",\n",
    "                \"16-1.\",\n",
    "                \"16-16.\",\n",
    "                \"17-10.\",\n",
    "                \"17-11.\",\n",
    "                \"17-2.\",\n",
    "                \"19-1.\",\n",
    "                \"19-16.\",\n",
    "                \"19-19.\",\n",
    "                \"19-20.\",\n",
    "                \"19-3.\",\n",
    "                \"2-10.\",\n",
    "                \"2-11.\",\n",
    "                \"2-17.\",\n",
    "                \"2-18.\",\n",
    "                \"2-20.\",\n",
    "                \"2-3.\",\n",
    "                \"2-4.\",\n",
    "                \"2-5.\",\n",
    "                \"2-6.\",\n",
    "                \"2-7.\",\n",
    "                \"2-8.\",\n",
    "                \"3-13.\",\n",
    "                \"3-18.\",\n",
    "                \"3-3.\",\n",
    "                \"4-1.\",\n",
    "                \"4-10.\",\n",
    "                \"4-11.\",\n",
    "                \"4-19.\",\n",
    "                \"5-5.\",\n",
    "                \"6-15.\",\n",
    "                \"7-10.\",\n",
    "                \"7-14.\",\n",
    "                \"8-18.\",\n",
    "                \"8-20.\",\n",
    "                \"8-3.\",\n",
    "                \"8-8.\",\n",
    "            ],\n",
    "            \"domains\": [1, 2, 3, 4, 5],\n",
    "            \"num_examples_per_domain_per_label\": -1,\n",
    "            \"pickle_path\": \"/mnt/wd500GB/CSC500/csc500-main/datasets/cores.stratified_ds.2022A.pkl\",\n",
    "            \"source_or_target_dataset\": \"target\",\n",
    "            \"x_transforms\": [\"unit_power\", \"take_200\"],\n",
    "            \"episode_transforms\": [],\n",
    "            \"domain_prefix\": \"C_\",\n",
    "        },\n",
    "        {\n",
    "            \"labels\": [\n",
    "                \"1-10\",\n",
    "                \"1-12\",\n",
    "                \"1-14\",\n",
    "                \"1-16\",\n",
    "                \"1-18\",\n",
    "                \"1-19\",\n",
    "                \"1-8\",\n",
    "                \"10-11\",\n",
    "                \"10-17\",\n",
    "                \"10-4\",\n",
    "                \"10-7\",\n",
    "                \"11-1\",\n",
    "                \"11-10\",\n",
    "                \"11-19\",\n",
    "                \"11-20\",\n",
    "                \"11-4\",\n",
    "                \"11-7\",\n",
    "                \"12-19\",\n",
    "                \"12-20\",\n",
    "                \"12-7\",\n",
    "                \"13-14\",\n",
    "                \"13-18\",\n",
    "                \"13-19\",\n",
    "                \"13-20\",\n",
    "                \"13-3\",\n",
    "                \"13-7\",\n",
    "                \"14-10\",\n",
    "                \"14-11\",\n",
    "                \"14-12\",\n",
    "                \"14-13\",\n",
    "                \"14-14\",\n",
    "                \"14-19\",\n",
    "                \"14-20\",\n",
    "                \"14-7\",\n",
    "                \"14-8\",\n",
    "                \"14-9\",\n",
    "                \"15-1\",\n",
    "                \"15-19\",\n",
    "                \"15-6\",\n",
    "                \"16-1\",\n",
    "                \"16-16\",\n",
    "                \"16-19\",\n",
    "                \"16-20\",\n",
    "                \"17-10\",\n",
    "                \"17-11\",\n",
    "                \"18-1\",\n",
    "                \"18-10\",\n",
    "                \"18-11\",\n",
    "                \"18-12\",\n",
    "                \"18-13\",\n",
    "                \"18-14\",\n",
    "                \"18-15\",\n",
    "                \"18-16\",\n",
    "                \"18-17\",\n",
    "                \"18-19\",\n",
    "                \"18-2\",\n",
    "                \"18-20\",\n",
    "                \"18-4\",\n",
    "                \"18-5\",\n",
    "                \"18-7\",\n",
    "                \"18-8\",\n",
    "                \"18-9\",\n",
    "                \"19-1\",\n",
    "                \"19-10\",\n",
    "                \"19-11\",\n",
    "                \"19-12\",\n",
    "                \"19-13\",\n",
    "                \"19-14\",\n",
    "                \"19-15\",\n",
    "                \"19-19\",\n",
    "                \"19-2\",\n",
    "                \"19-20\",\n",
    "                \"19-3\",\n",
    "                \"19-4\",\n",
    "                \"19-6\",\n",
    "                \"19-7\",\n",
    "                \"19-8\",\n",
    "                \"19-9\",\n",
    "                \"2-1\",\n",
    "                \"2-13\",\n",
    "                \"2-15\",\n",
    "                \"2-3\",\n",
    "                \"2-4\",\n",
    "                \"2-5\",\n",
    "                \"2-6\",\n",
    "                \"2-7\",\n",
    "                \"2-8\",\n",
    "                \"20-1\",\n",
    "                \"20-12\",\n",
    "                \"20-14\",\n",
    "                \"20-15\",\n",
    "                \"20-16\",\n",
    "                \"20-18\",\n",
    "                \"20-19\",\n",
    "                \"20-20\",\n",
    "                \"20-3\",\n",
    "                \"20-4\",\n",
    "                \"20-5\",\n",
    "                \"20-7\",\n",
    "                \"20-8\",\n",
    "                \"3-1\",\n",
    "                \"3-13\",\n",
    "                \"3-18\",\n",
    "                \"3-2\",\n",
    "                \"3-8\",\n",
    "                \"4-1\",\n",
    "                \"4-10\",\n",
    "                \"4-11\",\n",
    "                \"5-1\",\n",
    "                \"5-5\",\n",
    "                \"6-1\",\n",
    "                \"6-15\",\n",
    "                \"6-6\",\n",
    "                \"7-10\",\n",
    "                \"7-11\",\n",
    "                \"7-12\",\n",
    "                \"7-13\",\n",
    "                \"7-14\",\n",
    "                \"7-7\",\n",
    "                \"7-8\",\n",
    "                \"7-9\",\n",
    "                \"8-1\",\n",
    "                \"8-13\",\n",
    "                \"8-14\",\n",
    "                \"8-18\",\n",
    "                \"8-20\",\n",
    "                \"8-3\",\n",
    "                \"8-8\",\n",
    "                \"9-1\",\n",
    "                \"9-7\",\n",
    "            ],\n",
    "            \"domains\": [1, 2, 3, 4],\n",
    "            \"num_examples_per_domain_per_label\": -1,\n",
    "            \"pickle_path\": \"/mnt/wd500GB/CSC500/csc500-main/datasets/wisig.node3-19.stratified_ds.2022A.pkl\",\n",
    "            \"source_or_target_dataset\": \"target\",\n",
    "            \"x_transforms\": [\"unit_power\", \"take_200\"],\n",
    "            \"episode_transforms\": [],\n",
    "            \"domain_prefix\": \"W_\",\n",
    "        },\n",
    "        {\n",
    "            \"labels\": [\n",
    "                \"3123D52\",\n",
    "                \"3123D65\",\n",
    "                \"3123D79\",\n",
    "                \"3123D80\",\n",
    "                \"3123D54\",\n",
    "                \"3123D70\",\n",
    "                \"3123D7B\",\n",
    "                \"3123D89\",\n",
    "                \"3123D58\",\n",
    "                \"3123D76\",\n",
    "                \"3123D7D\",\n",
    "                \"3123EFE\",\n",
    "                \"3123D64\",\n",
    "                \"3123D78\",\n",
    "                \"3123D7E\",\n",
    "                \"3124E4A\",\n",
    "            ],\n",
    "            \"domains\": [32, 38, 8, 44, 14, 50, 20, 26],\n",
    "            \"num_examples_per_domain_per_label\": 2000,\n",
    "            \"pickle_path\": \"/mnt/wd500GB/CSC500/csc500-main/datasets/oracle.Run1_framed_2000Examples_stratified_ds.2022A.pkl\",\n",
    "            \"source_or_target_dataset\": \"source\",\n",
    "            \"x_transforms\": [\"unit_power\", \"take_200\", \"resample_20Msps_to_25Msps\"],\n",
    "            \"episode_transforms\": [],\n",
    "            \"domain_prefix\": \"O_\",\n",
    "        },\n",
    "    ],\n",
    "    \"seed\": 7,\n",
    "    \"dataset_seed\": 7,\n",
    "}\n"
   ]
  },
  {
   "cell_type": "code",
   "execution_count": 5,
   "id": "8fa1cc33",
   "metadata": {
    "execution": {
     "iopub.execute_input": "2022-03-21T01:52:08.116676Z",
     "iopub.status.busy": "2022-03-21T01:52:08.116398Z",
     "iopub.status.idle": "2022-03-21T01:52:08.133815Z",
     "shell.execute_reply": "2022-03-21T01:52:08.133369Z"
    },
    "papermill": {
     "duration": 0.034981,
     "end_time": "2022-03-21T01:52:08.133926",
     "exception": false,
     "start_time": "2022-03-21T01:52:08.098945",
     "status": "completed"
    },
    "tags": []
   },
   "outputs": [],
   "source": [
    "# Set this to True if you want to run this template directly\n",
    "STANDALONE = False\n",
    "if STANDALONE:\n",
    "    print(\"parameters not injected, running with standalone_parameters\")\n",
    "    parameters = standalone_parameters\n",
    "\n",
    "if not 'parameters' in locals() and not 'parameters' in globals():\n",
    "    raise Exception(\"Parameter injection failed\")\n",
    "\n",
    "#Use an easy dict for all the parameters\n",
    "p = EasyDict(parameters)\n",
    "\n",
    "if \"x_shape\" not in p:\n",
    "    p.x_shape = [2,256] # Default to this if we dont supply x_shape\n",
    "\n",
    "\n",
    "supplied_keys = set(p.keys())\n",
    "\n",
    "if  supplied_keys != required_parameters:\n",
    "    print(\"Parameters are incorrect\")\n",
    "    if len(supplied_keys - required_parameters)>0: print(\"Shouldn't have:\", str(supplied_keys - required_parameters))\n",
    "    if len(required_parameters - supplied_keys)>0: print(\"Need to have:\", str(required_parameters - supplied_keys))\n",
    "    raise RuntimeError(\"Parameters are incorrect\")"
   ]
  },
  {
   "cell_type": "code",
   "execution_count": 6,
   "id": "3a028d58",
   "metadata": {
    "execution": {
     "iopub.execute_input": "2022-03-21T01:52:08.168698Z",
     "iopub.status.busy": "2022-03-21T01:52:08.168426Z",
     "iopub.status.idle": "2022-03-21T01:52:08.183474Z",
     "shell.execute_reply": "2022-03-21T01:52:08.183058Z"
    },
    "papermill": {
     "duration": 0.031239,
     "end_time": "2022-03-21T01:52:08.183569",
     "exception": false,
     "start_time": "2022-03-21T01:52:08.152330",
     "status": "completed"
    },
    "tags": []
   },
   "outputs": [],
   "source": [
    "###################################\n",
    "# Set the RNGs and make it all deterministic\n",
    "###################################\n",
    "np.random.seed(p.seed)\n",
    "random.seed(p.seed)\n",
    "torch.manual_seed(p.seed)\n",
    "\n",
    "torch.use_deterministic_algorithms(True) "
   ]
  },
  {
   "cell_type": "code",
   "execution_count": 7,
   "id": "b691acf6",
   "metadata": {
    "execution": {
     "iopub.execute_input": "2022-03-21T01:52:08.217914Z",
     "iopub.status.busy": "2022-03-21T01:52:08.217581Z",
     "iopub.status.idle": "2022-03-21T01:52:08.230721Z",
     "shell.execute_reply": "2022-03-21T01:52:08.230940Z"
    },
    "papermill": {
     "duration": 0.029878,
     "end_time": "2022-03-21T01:52:08.231012",
     "exception": false,
     "start_time": "2022-03-21T01:52:08.201134",
     "status": "completed"
    },
    "tags": []
   },
   "outputs": [],
   "source": [
    "###########################################\n",
    "# The stratified datasets honor this\n",
    "###########################################\n",
    "torch.set_default_dtype(eval(p.torch_default_dtype))"
   ]
  },
  {
   "cell_type": "code",
   "execution_count": 8,
   "id": "b5fba671",
   "metadata": {
    "execution": {
     "iopub.execute_input": "2022-03-21T01:52:08.264114Z",
     "iopub.status.busy": "2022-03-21T01:52:08.263775Z",
     "iopub.status.idle": "2022-03-21T01:52:08.301949Z",
     "shell.execute_reply": "2022-03-21T01:52:08.301525Z"
    },
    "papermill": {
     "duration": 0.054064,
     "end_time": "2022-03-21T01:52:08.302051",
     "exception": false,
     "start_time": "2022-03-21T01:52:08.247987",
     "status": "completed"
    },
    "tags": []
   },
   "outputs": [],
   "source": [
    "###################################\n",
    "# Build the network(s)\n",
    "# Note: It's critical to do this AFTER setting the RNG\n",
    "###################################\n",
    "x_net = build_sequential(p.x_net)"
   ]
  },
  {
   "cell_type": "code",
   "execution_count": 9,
   "id": "5d7e61cc",
   "metadata": {
    "execution": {
     "iopub.execute_input": "2022-03-21T01:52:08.338738Z",
     "iopub.status.busy": "2022-03-21T01:52:08.338476Z",
     "iopub.status.idle": "2022-03-21T01:52:08.353779Z",
     "shell.execute_reply": "2022-03-21T01:52:08.353320Z"
    },
    "papermill": {
     "duration": 0.03186,
     "end_time": "2022-03-21T01:52:08.353874",
     "exception": false,
     "start_time": "2022-03-21T01:52:08.322014",
     "status": "completed"
    },
    "tags": []
   },
   "outputs": [],
   "source": [
    "start_time_secs = time.time()"
   ]
  },
  {
   "cell_type": "code",
   "execution_count": 10,
   "id": "c6b67dfd",
   "metadata": {
    "execution": {
     "iopub.execute_input": "2022-03-21T01:52:08.390709Z",
     "iopub.status.busy": "2022-03-21T01:52:08.390143Z",
     "iopub.status.idle": "2022-03-21T01:52:08.405412Z",
     "shell.execute_reply": "2022-03-21T01:52:08.404981Z"
    },
    "papermill": {
     "duration": 0.033425,
     "end_time": "2022-03-21T01:52:08.405504",
     "exception": false,
     "start_time": "2022-03-21T01:52:08.372079",
     "status": "completed"
    },
    "tags": []
   },
   "outputs": [],
   "source": [
    "p.domains_source = []\n",
    "p.domains_target = []\n",
    "\n",
    "\n",
    "train_original_source = []\n",
    "val_original_source   = []\n",
    "test_original_source  = []\n",
    "\n",
    "train_original_target = []\n",
    "val_original_target   = []\n",
    "test_original_target  = []"
   ]
  },
  {
   "cell_type": "code",
   "execution_count": 11,
   "id": "e3d9c3d3",
   "metadata": {
    "execution": {
     "iopub.execute_input": "2022-03-21T01:52:08.439312Z",
     "iopub.status.busy": "2022-03-21T01:52:08.439024Z",
     "iopub.status.idle": "2022-03-21T01:52:08.454020Z",
     "shell.execute_reply": "2022-03-21T01:52:08.453558Z"
    },
    "papermill": {
     "duration": 0.030475,
     "end_time": "2022-03-21T01:52:08.454110",
     "exception": false,
     "start_time": "2022-03-21T01:52:08.423635",
     "status": "completed"
    },
    "tags": []
   },
   "outputs": [],
   "source": [
    "# global_x_transform_func = lambda x: normalize(x.to(torch.get_default_dtype()), \"unit_power\") # unit_power, unit_mag\n",
    "# global_x_transform_func = lambda x: normalize(x, \"unit_power\") # unit_power, unit_mag"
   ]
  },
  {
   "cell_type": "code",
   "execution_count": 12,
   "id": "acb78fd2",
   "metadata": {
    "execution": {
     "iopub.execute_input": "2022-03-21T01:52:08.492627Z",
     "iopub.status.busy": "2022-03-21T01:52:08.492247Z",
     "iopub.status.idle": "2022-03-21T01:52:08.506447Z",
     "shell.execute_reply": "2022-03-21T01:52:08.505986Z"
    },
    "papermill": {
     "duration": 0.034301,
     "end_time": "2022-03-21T01:52:08.506537",
     "exception": false,
     "start_time": "2022-03-21T01:52:08.472236",
     "status": "completed"
    },
    "tags": []
   },
   "outputs": [],
   "source": [
    "def add_dataset(\n",
    "    labels,\n",
    "    domains,\n",
    "    pickle_path,\n",
    "    x_transforms,\n",
    "    episode_transforms,\n",
    "    domain_prefix,\n",
    "    num_examples_per_domain_per_label,\n",
    "    source_or_target_dataset:str,\n",
    "    iterator_seed=p.seed,\n",
    "    dataset_seed=p.dataset_seed,\n",
    "    n_shot=p.n_shot,\n",
    "    n_way=p.n_way,\n",
    "    n_query=p.n_query,\n",
    "    train_val_test_k_factors=(p.train_k_factor,p.val_k_factor,p.test_k_factor),\n",
    "):\n",
    "   \n",
    "    if x_transforms == []: x_transform = None\n",
    "    else: x_transform = get_chained_transform(x_transforms)\n",
    "    \n",
    "    if episode_transforms == []: episode_transform = None\n",
    "    else: raise Exception(\"episode_transforms not implemented\")\n",
    "    \n",
    "    episode_transform = lambda tup, _prefix=domain_prefix: (_prefix + str(tup[0]), tup[1])\n",
    "\n",
    "\n",
    "    eaf = Episodic_Accessor_Factory(\n",
    "        labels=labels,\n",
    "        domains=domains,\n",
    "        num_examples_per_domain_per_label=num_examples_per_domain_per_label,\n",
    "        iterator_seed=iterator_seed,\n",
    "        dataset_seed=dataset_seed,\n",
    "        n_shot=n_shot,\n",
    "        n_way=n_way,\n",
    "        n_query=n_query,\n",
    "        train_val_test_k_factors=train_val_test_k_factors,\n",
    "        pickle_path=pickle_path,\n",
    "        x_transform_func=x_transform,\n",
    "    )\n",
    "\n",
    "    train, val, test = eaf.get_train(), eaf.get_val(), eaf.get_test()\n",
    "    train = Lazy_Iterable_Wrapper(train, episode_transform)\n",
    "    val = Lazy_Iterable_Wrapper(val, episode_transform)\n",
    "    test = Lazy_Iterable_Wrapper(test, episode_transform)\n",
    "\n",
    "    if source_or_target_dataset==\"source\":\n",
    "        train_original_source.append(train)\n",
    "        val_original_source.append(val)\n",
    "        test_original_source.append(test)\n",
    "\n",
    "        p.domains_source.extend(\n",
    "            [domain_prefix + str(u) for u in domains]\n",
    "        )\n",
    "    elif source_or_target_dataset==\"target\":\n",
    "        train_original_target.append(train)\n",
    "        val_original_target.append(val)\n",
    "        test_original_target.append(test)\n",
    "        p.domains_target.extend(\n",
    "            [domain_prefix + str(u) for u in domains]\n",
    "        )\n",
    "    else:\n",
    "        raise Exception(f\"invalid source_or_target_dataset: {source_or_target_dataset}\")\n",
    "    "
   ]
  },
  {
   "cell_type": "code",
   "execution_count": 13,
   "id": "fe266617",
   "metadata": {
    "execution": {
     "iopub.execute_input": "2022-03-21T01:52:08.541019Z",
     "iopub.status.busy": "2022-03-21T01:52:08.540599Z",
     "iopub.status.idle": "2022-03-21T01:53:19.799382Z",
     "shell.execute_reply": "2022-03-21T01:53:19.798952Z"
    },
    "papermill": {
     "duration": 71.274782,
     "end_time": "2022-03-21T01:53:19.799488",
     "exception": false,
     "start_time": "2022-03-21T01:52:08.524706",
     "status": "completed"
    },
    "tags": []
   },
   "outputs": [],
   "source": [
    "for ds in p.datasets:\n",
    "    add_dataset(**ds)"
   ]
  },
  {
   "cell_type": "code",
   "execution_count": 14,
   "id": "b90d65ac",
   "metadata": {
    "execution": {
     "iopub.execute_input": "2022-03-21T01:53:19.835390Z",
     "iopub.status.busy": "2022-03-21T01:53:19.835117Z",
     "iopub.status.idle": "2022-03-21T01:53:19.848476Z",
     "shell.execute_reply": "2022-03-21T01:53:19.848024Z"
    },
    "papermill": {
     "duration": 0.029321,
     "end_time": "2022-03-21T01:53:19.848566",
     "exception": false,
     "start_time": "2022-03-21T01:53:19.819245",
     "status": "completed"
    },
    "tags": []
   },
   "outputs": [],
   "source": [
    "# from steves_utils.CORES.utils import (\n",
    "#     ALL_NODES,\n",
    "#     ALL_NODES_MINIMUM_1000_EXAMPLES,\n",
    "#     ALL_DAYS\n",
    "# )\n",
    "\n",
    "# add_dataset(\n",
    "#     labels=ALL_NODES,\n",
    "#     domains = ALL_DAYS,\n",
    "#     num_examples_per_domain_per_label=100,\n",
    "#     pickle_path=os.path.join(get_datasets_base_path(), \"cores.stratified_ds.2022A.pkl\"),\n",
    "#     source_or_target_dataset=\"target\",\n",
    "#     x_transform_func=global_x_transform_func,\n",
    "#     domain_modifier=lambda u: f\"cores_{u}\"\n",
    "# )"
   ]
  },
  {
   "cell_type": "code",
   "execution_count": 15,
   "id": "76db484d",
   "metadata": {
    "execution": {
     "iopub.execute_input": "2022-03-21T01:53:19.890333Z",
     "iopub.status.busy": "2022-03-21T01:53:19.884020Z",
     "iopub.status.idle": "2022-03-21T01:53:19.897061Z",
     "shell.execute_reply": "2022-03-21T01:53:19.897453Z"
    },
    "papermill": {
     "duration": 0.029909,
     "end_time": "2022-03-21T01:53:19.897564",
     "exception": false,
     "start_time": "2022-03-21T01:53:19.867655",
     "status": "completed"
    },
    "tags": []
   },
   "outputs": [],
   "source": [
    "# from steves_utils.ORACLE.utils_v2 import (\n",
    "#     ALL_DISTANCES_FEET,\n",
    "#     ALL_RUNS,\n",
    "#     ALL_SERIAL_NUMBERS,\n",
    "# )\n",
    "\n",
    "\n",
    "# add_dataset(\n",
    "#     labels=ALL_SERIAL_NUMBERS,\n",
    "#     domains = list(set(ALL_DISTANCES_FEET) - {2,62}),\n",
    "#     num_examples_per_domain_per_label=100,\n",
    "#     pickle_path=os.path.join(get_datasets_base_path(), \"oracle.Run2_framed_2000Examples_stratified_ds.2022A.pkl\"),\n",
    "#     source_or_target_dataset=\"source\",\n",
    "#     x_transform_func=global_x_transform_func,\n",
    "#     domain_modifier=lambda u: f\"oracle1_{u}\"\n",
    "# )\n"
   ]
  },
  {
   "cell_type": "code",
   "execution_count": 16,
   "id": "97dea9d2",
   "metadata": {
    "execution": {
     "iopub.execute_input": "2022-03-21T01:53:19.931257Z",
     "iopub.status.busy": "2022-03-21T01:53:19.930997Z",
     "iopub.status.idle": "2022-03-21T01:53:19.941128Z",
     "shell.execute_reply": "2022-03-21T01:53:19.940773Z"
    },
    "papermill": {
     "duration": 0.025252,
     "end_time": "2022-03-21T01:53:19.941199",
     "exception": false,
     "start_time": "2022-03-21T01:53:19.915947",
     "status": "completed"
    },
    "tags": []
   },
   "outputs": [],
   "source": [
    "# from steves_utils.ORACLE.utils_v2 import (\n",
    "#     ALL_DISTANCES_FEET,\n",
    "#     ALL_RUNS,\n",
    "#     ALL_SERIAL_NUMBERS,\n",
    "# )\n",
    "\n",
    "\n",
    "# add_dataset(\n",
    "#     labels=ALL_SERIAL_NUMBERS,\n",
    "#     domains = list(set(ALL_DISTANCES_FEET) - {2,62,56}),\n",
    "#     num_examples_per_domain_per_label=100,\n",
    "#     pickle_path=os.path.join(get_datasets_base_path(), \"oracle.Run2_framed_2000Examples_stratified_ds.2022A.pkl\"),\n",
    "#     source_or_target_dataset=\"source\",\n",
    "#     x_transform_func=global_x_transform_func,\n",
    "#     domain_modifier=lambda u: f\"oracle2_{u}\"\n",
    "# )"
   ]
  },
  {
   "cell_type": "code",
   "execution_count": 17,
   "id": "6f289866",
   "metadata": {
    "execution": {
     "iopub.execute_input": "2022-03-21T01:53:19.979740Z",
     "iopub.status.busy": "2022-03-21T01:53:19.972515Z",
     "iopub.status.idle": "2022-03-21T01:53:19.986492Z",
     "shell.execute_reply": "2022-03-21T01:53:19.985978Z"
    },
    "papermill": {
     "duration": 0.029632,
     "end_time": "2022-03-21T01:53:19.986594",
     "exception": false,
     "start_time": "2022-03-21T01:53:19.956962",
     "status": "completed"
    },
    "tags": []
   },
   "outputs": [],
   "source": [
    "# add_dataset(\n",
    "#     labels=list(range(19)),\n",
    "#     domains = [0,1,2],\n",
    "#     num_examples_per_domain_per_label=100,\n",
    "#     pickle_path=os.path.join(get_datasets_base_path(), \"metehan.stratified_ds.2022A.pkl\"),\n",
    "#     source_or_target_dataset=\"target\",\n",
    "#     x_transform_func=global_x_transform_func,\n",
    "#     domain_modifier=lambda u: f\"met_{u}\"\n",
    "# )"
   ]
  },
  {
   "cell_type": "code",
   "execution_count": 18,
   "id": "86a863c3",
   "metadata": {
    "execution": {
     "iopub.execute_input": "2022-03-21T01:53:20.022123Z",
     "iopub.status.busy": "2022-03-21T01:53:20.021766Z",
     "iopub.status.idle": "2022-03-21T01:53:20.034842Z",
     "shell.execute_reply": "2022-03-21T01:53:20.034430Z"
    },
    "papermill": {
     "duration": 0.029719,
     "end_time": "2022-03-21T01:53:20.034931",
     "exception": false,
     "start_time": "2022-03-21T01:53:20.005212",
     "status": "completed"
    },
    "tags": []
   },
   "outputs": [],
   "source": [
    "# # from steves_utils.wisig.utils import (\n",
    "# #     ALL_NODES_MINIMUM_100_EXAMPLES,\n",
    "# #     ALL_NODES_MINIMUM_500_EXAMPLES,\n",
    "# #     ALL_NODES_MINIMUM_1000_EXAMPLES,\n",
    "# #     ALL_DAYS\n",
    "# # )\n",
    "\n",
    "# import steves_utils.wisig.utils as wisig\n",
    "\n",
    "\n",
    "# add_dataset(\n",
    "#     labels=wisig.ALL_NODES_MINIMUM_100_EXAMPLES,\n",
    "#     domains = wisig.ALL_DAYS,\n",
    "#     num_examples_per_domain_per_label=100,\n",
    "#     pickle_path=os.path.join(get_datasets_base_path(), \"wisig.node3-19.stratified_ds.2022A.pkl\"),\n",
    "#     source_or_target_dataset=\"target\",\n",
    "#     x_transform_func=global_x_transform_func,\n",
    "#     domain_modifier=lambda u: f\"wisig_{u}\"\n",
    "# )"
   ]
  },
  {
   "cell_type": "code",
   "execution_count": 19,
   "id": "fd5442bc",
   "metadata": {
    "execution": {
     "iopub.execute_input": "2022-03-21T01:53:20.071147Z",
     "iopub.status.busy": "2022-03-21T01:53:20.070887Z",
     "iopub.status.idle": "2022-03-21T01:53:20.082220Z",
     "shell.execute_reply": "2022-03-21T01:53:20.081830Z"
    },
    "papermill": {
     "duration": 0.029508,
     "end_time": "2022-03-21T01:53:20.082308",
     "exception": false,
     "start_time": "2022-03-21T01:53:20.052800",
     "status": "completed"
    },
    "tags": []
   },
   "outputs": [],
   "source": [
    "###################################\n",
    "# Build the dataset\n",
    "###################################\n",
    "train_original_source = Iterable_Aggregator(train_original_source, p.seed)\n",
    "val_original_source = Iterable_Aggregator(val_original_source, p.seed)\n",
    "test_original_source = Iterable_Aggregator(test_original_source, p.seed)\n",
    "\n",
    "\n",
    "train_original_target = Iterable_Aggregator(train_original_target, p.seed)\n",
    "val_original_target = Iterable_Aggregator(val_original_target, p.seed)\n",
    "test_original_target = Iterable_Aggregator(test_original_target, p.seed)\n",
    "\n",
    "# For CNN We only use X and Y. And we only train on the source.\n",
    "# Properly form the data using a transform lambda and Lazy_Iterable_Wrapper. Finally wrap them in a dataloader\n",
    "\n",
    "transform_lambda = lambda ex: ex[1] # Original is (<domain>, <episode>) so we strip down to episode only\n",
    "\n",
    "train_processed_source = Lazy_Iterable_Wrapper(train_original_source, transform_lambda)\n",
    "val_processed_source   = Lazy_Iterable_Wrapper(val_original_source, transform_lambda)\n",
    "test_processed_source  = Lazy_Iterable_Wrapper(test_original_source, transform_lambda)\n",
    "\n",
    "train_processed_target = Lazy_Iterable_Wrapper(train_original_target, transform_lambda)\n",
    "val_processed_target   = Lazy_Iterable_Wrapper(val_original_target, transform_lambda)\n",
    "test_processed_target  = Lazy_Iterable_Wrapper(test_original_target, transform_lambda)\n",
    "\n",
    "datasets = EasyDict({\n",
    "    \"source\": {\n",
    "        \"original\": {\"train\":train_original_source, \"val\":val_original_source, \"test\":test_original_source},\n",
    "        \"processed\": {\"train\":train_processed_source, \"val\":val_processed_source, \"test\":test_processed_source}\n",
    "    },\n",
    "    \"target\": {\n",
    "        \"original\": {\"train\":train_original_target, \"val\":val_original_target, \"test\":test_original_target},\n",
    "        \"processed\": {\"train\":train_processed_target, \"val\":val_processed_target, \"test\":test_processed_target}\n",
    "    },\n",
    "})"
   ]
  },
  {
   "cell_type": "code",
   "execution_count": 20,
   "id": "5b3c01fc",
   "metadata": {
    "execution": {
     "iopub.execute_input": "2022-03-21T01:53:20.122185Z",
     "iopub.status.busy": "2022-03-21T01:53:20.121922Z",
     "iopub.status.idle": "2022-03-21T01:53:29.057357Z",
     "shell.execute_reply": "2022-03-21T01:53:29.056857Z"
    },
    "papermill": {
     "duration": 8.956884,
     "end_time": "2022-03-21T01:53:29.057465",
     "exception": false,
     "start_time": "2022-03-21T01:53:20.100581",
     "status": "completed"
    },
    "tags": []
   },
   "outputs": [
    {
     "name": "stdout",
     "output_type": "stream",
     "text": [
      "{'O_32', 'O_8', 'O_44', 'O_26', 'O_38', 'O_20', 'O_14', 'O_50'}\n"
     ]
    },
    {
     "name": "stdout",
     "output_type": "stream",
     "text": [
      "{'C_1', 'W_2', 'C_3', 'C_4', 'C_5', 'W_4', 'C_2', 'W_3', 'W_1'}\n"
     ]
    },
    {
     "name": "stdout",
     "output_type": "stream",
     "text": [
      "tensor([[[ 8.5985e-01,  1.0273e+00, -5.1712e-01,  ...,  6.2292e-01,\n",
      "           6.3736e-01,  1.1674e+00],\n",
      "         [-5.4263e-01,  1.2698e-01,  9.5558e-01,  ...,  9.1222e-01,\n",
      "           7.3182e-01, -3.5609e-01]],\n",
      "\n",
      "        [[ 4.3494e-01,  1.1755e+00,  4.3359e-02,  ...,  5.3290e-01,\n",
      "          -4.6212e-01,  5.8476e-01],\n",
      "         [-3.6671e-01,  5.0357e-01,  5.9989e-01,  ...,  3.9506e-01,\n",
      "           1.1232e+00,  6.1414e-01]],\n",
      "\n",
      "        [[-3.3927e-01, -7.8919e-01,  2.0817e-01,  ..., -5.1654e-01,\n",
      "           9.7205e-01,  3.4605e-02],\n",
      "         [ 2.5446e-01, -7.8658e-01, -6.9448e-01,  ..., -4.6413e-01,\n",
      "          -9.3530e-01, -7.7223e-01]],\n",
      "\n",
      "        ...,\n",
      "\n",
      "        [[-4.2339e-01, -1.1305e+00, -1.0175e-01,  ..., -9.1360e-01,\n",
      "          -9.0403e-01, -1.1142e+00],\n",
      "         [ 1.0045e+00,  4.9193e-01, -9.7786e-01,  ..., -5.1049e-01,\n",
      "          -5.2751e-01,  5.7269e-01]],\n",
      "\n",
      "        [[ 5.1356e-01,  2.1001e-01, -5.9836e-01,  ..., -4.6290e-02,\n",
      "          -1.2088e+00, -2.8668e-01],\n",
      "         [-4.7083e-16,  1.1152e+00,  3.4624e-01,  ...,  7.1319e-01,\n",
      "           1.7580e-01,  7.6484e-01]],\n",
      "\n",
      "        [[ 9.1246e-01,  8.8735e-01, -6.8332e-01,  ...,  4.1526e-01,\n",
      "           6.0316e-01,  1.3569e+00],\n",
      "         [-5.1472e-01,  2.1114e-01,  8.7941e-01,  ...,  8.9658e-01,\n",
      "           6.6137e-01, -2.5093e-01]]])\n"
     ]
    }
   ],
   "source": [
    "from steves_utils.transforms import get_average_magnitude, get_average_power\n",
    "\n",
    "print(set([u for u,_ in val_original_source]))\n",
    "print(set([u for u,_ in val_original_target]))\n",
    "\n",
    "s_x, s_y, q_x, q_y, _ = next(iter(train_processed_source))\n",
    "print(s_x)\n",
    "\n",
    "# for ds in [\n",
    "#     train_processed_source,\n",
    "#     val_processed_source,\n",
    "#     test_processed_source,\n",
    "#     train_processed_target,\n",
    "#     val_processed_target,\n",
    "#     test_processed_target\n",
    "# ]:\n",
    "#     for s_x, s_y, q_x, q_y, _ in ds:\n",
    "#         for X in (s_x, q_x):\n",
    "#             for x in X:\n",
    "#                 assert np.isclose(get_average_magnitude(x.numpy()), 1.0)\n",
    "#                 assert np.isclose(get_average_power(x.numpy()), 1.0)\n",
    "                "
   ]
  },
  {
   "cell_type": "code",
   "execution_count": 21,
   "id": "bbdacba1",
   "metadata": {
    "execution": {
     "iopub.execute_input": "2022-03-21T01:53:29.096281Z",
     "iopub.status.busy": "2022-03-21T01:53:29.094739Z",
     "iopub.status.idle": "2022-03-21T01:53:29.145990Z",
     "shell.execute_reply": "2022-03-21T01:53:29.145489Z"
    },
    "papermill": {
     "duration": 0.070574,
     "end_time": "2022-03-21T01:53:29.146097",
     "exception": false,
     "start_time": "2022-03-21T01:53:29.075523",
     "status": "completed"
    },
    "tags": []
   },
   "outputs": [
    {
     "name": "stdout",
     "output_type": "stream",
     "text": [
      "(2, 200)\n"
     ]
    }
   ],
   "source": [
    "###################################\n",
    "# Build the model\n",
    "###################################\n",
    "# easfsl only wants a tuple for the shape\n",
    "model = Steves_Prototypical_Network(x_net, device=p.device, x_shape=tuple(p.x_shape))\n",
    "optimizer = Adam(params=model.parameters(), lr=p.lr)"
   ]
  },
  {
   "cell_type": "code",
   "execution_count": 22,
   "id": "22b39ac5",
   "metadata": {
    "execution": {
     "iopub.execute_input": "2022-03-21T01:53:29.183457Z",
     "iopub.status.busy": "2022-03-21T01:53:29.183188Z",
     "iopub.status.idle": "2022-03-21T02:13:05.429542Z",
     "shell.execute_reply": "2022-03-21T02:13:05.429217Z"
    },
    "papermill": {
     "duration": 1176.263122,
     "end_time": "2022-03-21T02:13:05.429622",
     "exception": false,
     "start_time": "2022-03-21T01:53:29.166500",
     "status": "completed"
    },
    "tags": []
   },
   "outputs": [
    {
     "name": "stdout",
     "output_type": "stream",
     "text": [
      "epoch: 1, [batch: 1 / 6720], examples_per_second: 46.2552, train_label_loss: 3.0249, \n"
     ]
    },
    {
     "name": "stdout",
     "output_type": "stream",
     "text": [
      "epoch: 1, [batch: 672 / 6720], examples_per_second: 3566.6516, train_label_loss: 1.7175, \n"
     ]
    },
    {
     "name": "stdout",
     "output_type": "stream",
     "text": [
      "epoch: 1, [batch: 1344 / 6720], examples_per_second: 3685.7301, train_label_loss: 0.8420, \n"
     ]
    },
    {
     "name": "stdout",
     "output_type": "stream",
     "text": [
      "epoch: 1, [batch: 2016 / 6720], examples_per_second: 3706.1793, train_label_loss: 1.0399, \n"
     ]
    },
    {
     "name": "stdout",
     "output_type": "stream",
     "text": [
      "epoch: 1, [batch: 2688 / 6720], examples_per_second: 3633.8340, train_label_loss: 0.8318, \n"
     ]
    },
    {
     "name": "stdout",
     "output_type": "stream",
     "text": [
      "epoch: 1, [batch: 3360 / 6720], examples_per_second: 3647.8965, train_label_loss: 0.6849, \n"
     ]
    },
    {
     "name": "stdout",
     "output_type": "stream",
     "text": [
      "epoch: 1, [batch: 4032 / 6720], examples_per_second: 3589.9038, train_label_loss: 1.0638, \n"
     ]
    },
    {
     "name": "stdout",
     "output_type": "stream",
     "text": [
      "epoch: 1, [batch: 4704 / 6720], examples_per_second: 3621.0962, train_label_loss: 1.7619, \n"
     ]
    },
    {
     "name": "stdout",
     "output_type": "stream",
     "text": [
      "epoch: 1, [batch: 5376 / 6720], examples_per_second: 3668.8647, train_label_loss: 1.2003, \n"
     ]
    },
    {
     "name": "stdout",
     "output_type": "stream",
     "text": [
      "epoch: 1, [batch: 6048 / 6720], examples_per_second: 3707.5611, train_label_loss: 0.7432, \n"
     ]
    },
    {
     "name": "stdout",
     "output_type": "stream",
     "text": [
      "=============================================================\n",
      "epoch: 1, source_val_acc_label: 0.6727, target_val_acc_label: 0.4068, source_val_label_loss: 8.4040, target_val_label_loss: 1905.3870, \n",
      "=============================================================\n"
     ]
    },
    {
     "name": "stdout",
     "output_type": "stream",
     "text": [
      "New best\n"
     ]
    },
    {
     "name": "stdout",
     "output_type": "stream",
     "text": [
      "epoch: 2, [batch: 1 / 6720], examples_per_second: 4.2823, train_label_loss: 1.3516, \n"
     ]
    },
    {
     "name": "stdout",
     "output_type": "stream",
     "text": [
      "epoch: 2, [batch: 672 / 6720], examples_per_second: 3627.9036, train_label_loss: 1.2457, \n"
     ]
    },
    {
     "name": "stdout",
     "output_type": "stream",
     "text": [
      "epoch: 2, [batch: 1344 / 6720], examples_per_second: 3697.3902, train_label_loss: 0.7220, \n"
     ]
    },
    {
     "name": "stdout",
     "output_type": "stream",
     "text": [
      "epoch: 2, [batch: 2016 / 6720], examples_per_second: 3466.3784, train_label_loss: 0.7077, \n"
     ]
    },
    {
     "name": "stdout",
     "output_type": "stream",
     "text": [
      "epoch: 2, [batch: 2688 / 6720], examples_per_second: 3669.2120, train_label_loss: 0.8017, \n"
     ]
    },
    {
     "name": "stdout",
     "output_type": "stream",
     "text": [
      "epoch: 2, [batch: 3360 / 6720], examples_per_second: 3598.2014, train_label_loss: 0.6697, \n"
     ]
    },
    {
     "name": "stdout",
     "output_type": "stream",
     "text": [
      "epoch: 2, [batch: 4032 / 6720], examples_per_second: 3626.0368, train_label_loss: 0.6621, \n"
     ]
    },
    {
     "name": "stdout",
     "output_type": "stream",
     "text": [
      "epoch: 2, [batch: 4704 / 6720], examples_per_second: 3671.5385, train_label_loss: 1.0813, \n"
     ]
    },
    {
     "name": "stdout",
     "output_type": "stream",
     "text": [
      "epoch: 2, [batch: 5376 / 6720], examples_per_second: 3685.9919, train_label_loss: 0.2703, \n"
     ]
    },
    {
     "name": "stdout",
     "output_type": "stream",
     "text": [
      "epoch: 2, [batch: 6048 / 6720], examples_per_second: 3732.3998, train_label_loss: 0.6606, \n"
     ]
    },
    {
     "name": "stdout",
     "output_type": "stream",
     "text": [
      "=============================================================\n",
      "epoch: 2, source_val_acc_label: 0.7225, target_val_acc_label: 0.5748, source_val_label_loss: 0.7473, target_val_label_loss: 383.7259, \n",
      "=============================================================\n"
     ]
    },
    {
     "name": "stdout",
     "output_type": "stream",
     "text": [
      "New best\n"
     ]
    },
    {
     "name": "stdout",
     "output_type": "stream",
     "text": [
      "epoch: 3, [batch: 1 / 6720], examples_per_second: 4.1221, train_label_loss: 0.3648, \n"
     ]
    },
    {
     "name": "stdout",
     "output_type": "stream",
     "text": [
      "epoch: 3, [batch: 672 / 6720], examples_per_second: 3658.9270, train_label_loss: 1.5990, \n"
     ]
    },
    {
     "name": "stdout",
     "output_type": "stream",
     "text": [
      "epoch: 3, [batch: 1344 / 6720], examples_per_second: 3696.8558, train_label_loss: 0.3473, \n"
     ]
    },
    {
     "name": "stdout",
     "output_type": "stream",
     "text": [
      "epoch: 3, [batch: 2016 / 6720], examples_per_second: 3708.4432, train_label_loss: 0.8653, \n"
     ]
    },
    {
     "name": "stdout",
     "output_type": "stream",
     "text": [
      "epoch: 3, [batch: 2688 / 6720], examples_per_second: 3651.0075, train_label_loss: 0.6264, \n"
     ]
    },
    {
     "name": "stdout",
     "output_type": "stream",
     "text": [
      "epoch: 3, [batch: 3360 / 6720], examples_per_second: 3701.0137, train_label_loss: 0.7834, \n"
     ]
    },
    {
     "name": "stdout",
     "output_type": "stream",
     "text": [
      "epoch: 3, [batch: 4032 / 6720], examples_per_second: 3716.5298, train_label_loss: 0.6837, \n"
     ]
    },
    {
     "name": "stdout",
     "output_type": "stream",
     "text": [
      "epoch: 3, [batch: 4704 / 6720], examples_per_second: 3686.4507, train_label_loss: 0.4134, \n"
     ]
    },
    {
     "name": "stdout",
     "output_type": "stream",
     "text": [
      "epoch: 3, [batch: 5376 / 6720], examples_per_second: 3732.0129, train_label_loss: 0.6688, \n"
     ]
    },
    {
     "name": "stdout",
     "output_type": "stream",
     "text": [
      "epoch: 3, [batch: 6048 / 6720], examples_per_second: 3726.8708, train_label_loss: 0.6796, \n"
     ]
    },
    {
     "name": "stdout",
     "output_type": "stream",
     "text": [
      "=============================================================\n",
      "epoch: 3, source_val_acc_label: 0.7508, target_val_acc_label: 0.6211, source_val_label_loss: 0.6691, target_val_label_loss: 308.8136, \n",
      "=============================================================\n"
     ]
    },
    {
     "name": "stdout",
     "output_type": "stream",
     "text": [
      "New best\n"
     ]
    },
    {
     "name": "stdout",
     "output_type": "stream",
     "text": [
      "epoch: 4, [batch: 1 / 6720], examples_per_second: 4.3218, train_label_loss: 0.6976, \n"
     ]
    },
    {
     "name": "stdout",
     "output_type": "stream",
     "text": [
      "epoch: 4, [batch: 672 / 6720], examples_per_second: 3703.3967, train_label_loss: 0.2456, \n"
     ]
    },
    {
     "name": "stdout",
     "output_type": "stream",
     "text": [
      "epoch: 4, [batch: 1344 / 6720], examples_per_second: 3737.9747, train_label_loss: 0.4052, \n"
     ]
    },
    {
     "name": "stdout",
     "output_type": "stream",
     "text": [
      "epoch: 4, [batch: 2016 / 6720], examples_per_second: 3737.1728, train_label_loss: 0.4275, \n"
     ]
    },
    {
     "name": "stdout",
     "output_type": "stream",
     "text": [
      "epoch: 4, [batch: 2688 / 6720], examples_per_second: 3695.0495, train_label_loss: 0.3371, \n"
     ]
    },
    {
     "name": "stdout",
     "output_type": "stream",
     "text": [
      "epoch: 4, [batch: 3360 / 6720], examples_per_second: 3743.8912, train_label_loss: 0.5194, \n"
     ]
    },
    {
     "name": "stdout",
     "output_type": "stream",
     "text": [
      "epoch: 4, [batch: 4032 / 6720], examples_per_second: 3714.9195, train_label_loss: 0.3733, \n"
     ]
    },
    {
     "name": "stdout",
     "output_type": "stream",
     "text": [
      "epoch: 4, [batch: 4704 / 6720], examples_per_second: 3712.6951, train_label_loss: 1.1313, \n"
     ]
    },
    {
     "name": "stdout",
     "output_type": "stream",
     "text": [
      "epoch: 4, [batch: 5376 / 6720], examples_per_second: 3731.1535, train_label_loss: 0.3226, \n"
     ]
    },
    {
     "name": "stdout",
     "output_type": "stream",
     "text": [
      "epoch: 4, [batch: 6048 / 6720], examples_per_second: 3736.7125, train_label_loss: 0.5498, \n"
     ]
    },
    {
     "name": "stdout",
     "output_type": "stream",
     "text": [
      "=============================================================\n",
      "epoch: 4, source_val_acc_label: 0.8176, target_val_acc_label: 0.6082, source_val_label_loss: 0.5026, target_val_label_loss: 375.3251, \n",
      "=============================================================\n"
     ]
    },
    {
     "name": "stdout",
     "output_type": "stream",
     "text": [
      "epoch: 5, [batch: 1 / 6720], examples_per_second: 4.3491, train_label_loss: 0.9767, \n"
     ]
    },
    {
     "name": "stdout",
     "output_type": "stream",
     "text": [
      "epoch: 5, [batch: 672 / 6720], examples_per_second: 3701.4335, train_label_loss: 0.7003, \n"
     ]
    },
    {
     "name": "stdout",
     "output_type": "stream",
     "text": [
      "epoch: 5, [batch: 1344 / 6720], examples_per_second: 3705.6132, train_label_loss: 0.2669, \n"
     ]
    },
    {
     "name": "stdout",
     "output_type": "stream",
     "text": [
      "epoch: 5, [batch: 2016 / 6720], examples_per_second: 3737.9517, train_label_loss: 0.2989, \n"
     ]
    },
    {
     "name": "stdout",
     "output_type": "stream",
     "text": [
      "epoch: 5, [batch: 2688 / 6720], examples_per_second: 3719.9017, train_label_loss: 0.2142, \n"
     ]
    },
    {
     "name": "stdout",
     "output_type": "stream",
     "text": [
      "epoch: 5, [batch: 3360 / 6720], examples_per_second: 3699.4529, train_label_loss: 0.5243, \n"
     ]
    },
    {
     "name": "stdout",
     "output_type": "stream",
     "text": [
      "epoch: 5, [batch: 4032 / 6720], examples_per_second: 3699.7650, train_label_loss: 0.5417, \n"
     ]
    },
    {
     "name": "stdout",
     "output_type": "stream",
     "text": [
      "epoch: 5, [batch: 4704 / 6720], examples_per_second: 3691.5933, train_label_loss: 0.3859, \n"
     ]
    },
    {
     "name": "stdout",
     "output_type": "stream",
     "text": [
      "epoch: 5, [batch: 5376 / 6720], examples_per_second: 3721.6147, train_label_loss: 0.5282, \n"
     ]
    },
    {
     "name": "stdout",
     "output_type": "stream",
     "text": [
      "epoch: 5, [batch: 6048 / 6720], examples_per_second: 3730.4651, train_label_loss: 0.1580, \n"
     ]
    },
    {
     "name": "stdout",
     "output_type": "stream",
     "text": [
      "=============================================================\n",
      "epoch: 5, source_val_acc_label: 0.8169, target_val_acc_label: 0.6162, source_val_label_loss: 0.5050, target_val_label_loss: 399.6592, \n",
      "=============================================================\n"
     ]
    },
    {
     "name": "stdout",
     "output_type": "stream",
     "text": [
      "epoch: 6, [batch: 1 / 6720], examples_per_second: 4.3737, train_label_loss: 0.4163, \n"
     ]
    },
    {
     "name": "stdout",
     "output_type": "stream",
     "text": [
      "epoch: 6, [batch: 672 / 6720], examples_per_second: 3700.9535, train_label_loss: 0.5230, \n"
     ]
    },
    {
     "name": "stdout",
     "output_type": "stream",
     "text": [
      "epoch: 6, [batch: 1344 / 6720], examples_per_second: 3639.9453, train_label_loss: 0.4190, \n"
     ]
    },
    {
     "name": "stdout",
     "output_type": "stream",
     "text": [
      "epoch: 6, [batch: 2016 / 6720], examples_per_second: 3752.4324, train_label_loss: 0.4908, \n"
     ]
    },
    {
     "name": "stdout",
     "output_type": "stream",
     "text": [
      "epoch: 6, [batch: 2688 / 6720], examples_per_second: 3729.7730, train_label_loss: 0.2392, \n"
     ]
    },
    {
     "name": "stdout",
     "output_type": "stream",
     "text": [
      "epoch: 6, [batch: 3360 / 6720], examples_per_second: 3732.2089, train_label_loss: 0.6843, \n"
     ]
    },
    {
     "name": "stdout",
     "output_type": "stream",
     "text": [
      "epoch: 6, [batch: 4032 / 6720], examples_per_second: 3749.5285, train_label_loss: 0.1528, \n"
     ]
    },
    {
     "name": "stdout",
     "output_type": "stream",
     "text": [
      "epoch: 6, [batch: 4704 / 6720], examples_per_second: 3722.4328, train_label_loss: 0.4061, \n"
     ]
    },
    {
     "name": "stdout",
     "output_type": "stream",
     "text": [
      "epoch: 6, [batch: 5376 / 6720], examples_per_second: 3725.8537, train_label_loss: 0.4784, \n"
     ]
    },
    {
     "name": "stdout",
     "output_type": "stream",
     "text": [
      "epoch: 6, [batch: 6048 / 6720], examples_per_second: 3753.5641, train_label_loss: 0.3597, \n"
     ]
    },
    {
     "name": "stdout",
     "output_type": "stream",
     "text": [
      "=============================================================\n",
      "epoch: 6, source_val_acc_label: 0.8326, target_val_acc_label: 0.6125, source_val_label_loss: 0.4638, target_val_label_loss: 391.4960, \n",
      "=============================================================\n"
     ]
    },
    {
     "name": "stdout",
     "output_type": "stream",
     "text": [
      "epoch: 7, [batch: 1 / 6720], examples_per_second: 4.3595, train_label_loss: 0.4097, \n"
     ]
    },
    {
     "name": "stdout",
     "output_type": "stream",
     "text": [
      "epoch: 7, [batch: 672 / 6720], examples_per_second: 3694.7148, train_label_loss: 0.2311, \n"
     ]
    },
    {
     "name": "stdout",
     "output_type": "stream",
     "text": [
      "epoch: 7, [batch: 1344 / 6720], examples_per_second: 3742.2565, train_label_loss: 0.4410, \n"
     ]
    },
    {
     "name": "stdout",
     "output_type": "stream",
     "text": [
      "epoch: 7, [batch: 2016 / 6720], examples_per_second: 3734.2668, train_label_loss: 0.3092, \n"
     ]
    },
    {
     "name": "stdout",
     "output_type": "stream",
     "text": [
      "epoch: 7, [batch: 2688 / 6720], examples_per_second: 3726.3311, train_label_loss: 0.0896, \n"
     ]
    },
    {
     "name": "stdout",
     "output_type": "stream",
     "text": [
      "epoch: 7, [batch: 3360 / 6720], examples_per_second: 3734.1791, train_label_loss: 0.1947, \n"
     ]
    },
    {
     "name": "stdout",
     "output_type": "stream",
     "text": [
      "epoch: 7, [batch: 4032 / 6720], examples_per_second: 3743.5163, train_label_loss: 0.1456, \n"
     ]
    },
    {
     "name": "stdout",
     "output_type": "stream",
     "text": [
      "epoch: 7, [batch: 4704 / 6720], examples_per_second: 3724.6651, train_label_loss: 0.4286, \n"
     ]
    },
    {
     "name": "stdout",
     "output_type": "stream",
     "text": [
      "epoch: 7, [batch: 5376 / 6720], examples_per_second: 3736.3212, train_label_loss: 0.4969, \n"
     ]
    },
    {
     "name": "stdout",
     "output_type": "stream",
     "text": [
      "epoch: 7, [batch: 6048 / 6720], examples_per_second: 3727.2562, train_label_loss: 0.5980, \n"
     ]
    },
    {
     "name": "stdout",
     "output_type": "stream",
     "text": [
      "=============================================================\n",
      "epoch: 7, source_val_acc_label: 0.8502, target_val_acc_label: 0.6052, source_val_label_loss: 0.4115, target_val_label_loss: 430.9455, \n",
      "=============================================================\n"
     ]
    },
    {
     "name": "stdout",
     "output_type": "stream",
     "text": [
      "Patience (3) exhausted\n"
     ]
    }
   ],
   "source": [
    "###################################\n",
    "# train\n",
    "###################################\n",
    "jig = PTN_Train_Eval_Test_Jig(model, p.BEST_MODEL_PATH, p.device)\n",
    "\n",
    "jig.train(\n",
    "    train_iterable=datasets.source.processed.train,\n",
    "    source_val_iterable=datasets.source.processed.val,\n",
    "    target_val_iterable=datasets.target.processed.val,\n",
    "    num_epochs=p.n_epoch,\n",
    "    num_logs_per_epoch=p.NUM_LOGS_PER_EPOCH,\n",
    "    patience=p.patience,\n",
    "    optimizer=optimizer,\n",
    "    criteria_for_best=p.criteria_for_best,\n",
    ")"
   ]
  },
  {
   "cell_type": "code",
   "execution_count": 23,
   "id": "31e8fabf",
   "metadata": {
    "execution": {
     "iopub.execute_input": "2022-03-21T02:13:05.490898Z",
     "iopub.status.busy": "2022-03-21T02:13:05.490344Z",
     "iopub.status.idle": "2022-03-21T02:13:05.510971Z",
     "shell.execute_reply": "2022-03-21T02:13:05.510558Z"
    },
    "papermill": {
     "duration": 0.051605,
     "end_time": "2022-03-21T02:13:05.511083",
     "exception": false,
     "start_time": "2022-03-21T02:13:05.459478",
     "status": "completed"
    },
    "tags": []
   },
   "outputs": [],
   "source": [
    "total_experiment_time_secs = time.time() - start_time_secs"
   ]
  },
  {
   "cell_type": "code",
   "execution_count": 24,
   "id": "87b9595b",
   "metadata": {
    "execution": {
     "iopub.execute_input": "2022-03-21T02:13:05.579403Z",
     "iopub.status.busy": "2022-03-21T02:13:05.579090Z",
     "iopub.status.idle": "2022-03-21T02:15:28.694657Z",
     "shell.execute_reply": "2022-03-21T02:15:28.694204Z"
    },
    "papermill": {
     "duration": 143.150464,
     "end_time": "2022-03-21T02:15:28.694768",
     "exception": false,
     "start_time": "2022-03-21T02:13:05.544304",
     "status": "completed"
    },
    "tags": []
   },
   "outputs": [],
   "source": [
    "###################################\n",
    "# Evaluate the model\n",
    "###################################\n",
    "source_test_label_accuracy, source_test_label_loss = jig.test(datasets.source.processed.test)\n",
    "target_test_label_accuracy, target_test_label_loss = jig.test(datasets.target.processed.test)\n",
    "\n",
    "source_val_label_accuracy, source_val_label_loss = jig.test(datasets.source.processed.val)\n",
    "target_val_label_accuracy, target_val_label_loss = jig.test(datasets.target.processed.val)\n",
    "\n",
    "history = jig.get_history()\n",
    "\n",
    "total_epochs_trained = len(history[\"epoch_indices\"])\n",
    "\n",
    "val_dl = Iterable_Aggregator((datasets.source.original.val,datasets.target.original.val))\n",
    "\n",
    "confusion = ptn_confusion_by_domain_over_dataloader(model, p.device, val_dl)\n",
    "per_domain_accuracy = per_domain_accuracy_from_confusion(confusion)\n",
    "\n",
    "# Add a key to per_domain_accuracy for if it was a source domain\n",
    "for domain, accuracy in per_domain_accuracy.items():\n",
    "    per_domain_accuracy[domain] = {\n",
    "        \"accuracy\": accuracy,\n",
    "        \"source?\": domain in p.domains_source\n",
    "    }\n",
    "\n",
    "# Do an independent accuracy assesment JUST TO BE SURE!\n",
    "# _source_test_label_accuracy = independent_accuracy_assesment(model, datasets.source.processed.test, p.device)\n",
    "# _target_test_label_accuracy = independent_accuracy_assesment(model, datasets.target.processed.test, p.device)\n",
    "# _source_val_label_accuracy = independent_accuracy_assesment(model, datasets.source.processed.val, p.device)\n",
    "# _target_val_label_accuracy = independent_accuracy_assesment(model, datasets.target.processed.val, p.device)\n",
    "\n",
    "# assert(_source_test_label_accuracy == source_test_label_accuracy)\n",
    "# assert(_target_test_label_accuracy == target_test_label_accuracy)\n",
    "# assert(_source_val_label_accuracy == source_val_label_accuracy)\n",
    "# assert(_target_val_label_accuracy == target_val_label_accuracy)\n",
    "\n",
    "experiment = {\n",
    "    \"experiment_name\": p.experiment_name,\n",
    "    \"parameters\": dict(p),\n",
    "    \"results\": {\n",
    "        \"source_test_label_accuracy\": source_test_label_accuracy,\n",
    "        \"source_test_label_loss\": source_test_label_loss,\n",
    "        \"target_test_label_accuracy\": target_test_label_accuracy,\n",
    "        \"target_test_label_loss\": target_test_label_loss,\n",
    "        \"source_val_label_accuracy\": source_val_label_accuracy,\n",
    "        \"source_val_label_loss\": source_val_label_loss,\n",
    "        \"target_val_label_accuracy\": target_val_label_accuracy,\n",
    "        \"target_val_label_loss\": target_val_label_loss,\n",
    "        \"total_epochs_trained\": total_epochs_trained,\n",
    "        \"total_experiment_time_secs\": total_experiment_time_secs,\n",
    "        \"confusion\": confusion,\n",
    "        \"per_domain_accuracy\": per_domain_accuracy,\n",
    "    },\n",
    "    \"history\": history,\n",
    "    \"dataset_metrics\": get_dataset_metrics(datasets, \"ptn\"),\n",
    "}"
   ]
  },
  {
   "cell_type": "code",
   "execution_count": 25,
   "id": "54a21829",
   "metadata": {
    "execution": {
     "iopub.execute_input": "2022-03-21T02:15:28.761437Z",
     "iopub.status.busy": "2022-03-21T02:15:28.761076Z",
     "iopub.status.idle": "2022-03-21T02:15:28.887984Z",
     "shell.execute_reply": "2022-03-21T02:15:28.888375Z"
    },
    "papermill": {
     "duration": 0.158511,
     "end_time": "2022-03-21T02:15:28.888499",
     "exception": false,
     "start_time": "2022-03-21T02:15:28.729988",
     "status": "completed"
    },
    "tags": []
   },
   "outputs": [
    {
     "data": {
      "image/png": "[encoded data removed]",
      "text/plain": [
       "<Figure size 1080x504 with 1 Axes>"
      ]
     },
     "metadata": {
      "needs_background": "light"
     },
     "output_type": "display_data"
    }
   ],
   "source": [
    "ax = get_loss_curve(experiment)\n",
    "plt.show()"
   ]
  },
  {
   "cell_type": "code",
   "execution_count": 26,
   "id": "fd8a0f60",
   "metadata": {
    "execution": {
     "iopub.execute_input": "2022-03-21T02:15:28.953326Z",
     "iopub.status.busy": "2022-03-21T02:15:28.952795Z",
     "iopub.status.idle": "2022-03-21T02:15:29.093967Z",
     "shell.execute_reply": "2022-03-21T02:15:29.094191Z"
    },
    "papermill": {
     "duration": 0.172785,
     "end_time": "2022-03-21T02:15:29.094263",
     "exception": false,
     "start_time": "2022-03-21T02:15:28.921478",
     "status": "completed"
    },
    "tags": []
   },
   "outputs": [
    {
     "data": {
      "text/plain": [
       "<AxesSubplot:title={'center':'Results'}>"
      ]
     },
     "execution_count": 26,
     "metadata": {},
     "output_type": "execute_result"
    },
    {
     "data": {
      "image/png": "[encoded data removed]",
      "text/plain": [
       "<Figure size 1080x504 with 1 Axes>"
      ]
     },
     "metadata": {
      "needs_background": "light"
     },
     "output_type": "display_data"
    }
   ],
   "source": [
    "get_results_table(experiment)"
   ]
  },
  {
   "cell_type": "code",
   "execution_count": 27,
   "id": "cf8dc689",
   "metadata": {
    "execution": {
     "iopub.execute_input": "2022-03-21T02:15:29.160008Z",
     "iopub.status.busy": "2022-03-21T02:15:29.159742Z",
     "iopub.status.idle": "2022-03-21T02:15:29.309006Z",
     "shell.execute_reply": "2022-03-21T02:15:29.308553Z"
    },
    "papermill": {
     "duration": 0.182791,
     "end_time": "2022-03-21T02:15:29.309100",
     "exception": false,
     "start_time": "2022-03-21T02:15:29.126309",
     "status": "completed"
    },
    "tags": []
   },
   "outputs": [
    {
     "data": {
      "text/plain": [
       "<AxesSubplot:title={'center':'Per Domain Validation Accuracy'}, xlabel='domain'>"
      ]
     },
     "execution_count": 27,
     "metadata": {},
     "output_type": "execute_result"
    },
    {
     "data": {
      "image/png": "[encoded data removed]",
      "text/plain": [
       "<Figure size 1080x504 with 1 Axes>"
      ]
     },
     "metadata": {
      "needs_background": "light"
     },
     "output_type": "display_data"
    }
   ],
   "source": [
    "get_domain_accuracies(experiment)"
   ]
  },
  {
   "cell_type": "code",
   "execution_count": 28,
   "id": "a74ae082",
   "metadata": {
    "execution": {
     "iopub.execute_input": "2022-03-21T02:15:29.382005Z",
     "iopub.status.busy": "2022-03-21T02:15:29.381492Z",
     "iopub.status.idle": "2022-03-21T02:15:29.393597Z",
     "shell.execute_reply": "2022-03-21T02:15:29.393897Z"
    },
    "papermill": {
     "duration": 0.047944,
     "end_time": "2022-03-21T02:15:29.394000",
     "exception": false,
     "start_time": "2022-03-21T02:15:29.346056",
     "status": "completed"
    },
    "tags": []
   },
   "outputs": [
    {
     "name": "stdout",
     "output_type": "stream",
     "text": [
      "Source Test Label Accuracy: 0.7576171875 Target Test Label Accuracy: 0.6241403721682848\n",
      "Source Val Label Accuracy: 0.7508463541666667 Target Val Label Accuracy: 0.6211409165751921\n"
     ]
    }
   ],
   "source": [
    "print(\"Source Test Label Accuracy:\", experiment[\"results\"][\"source_test_label_accuracy\"], \"Target Test Label Accuracy:\", experiment[\"results\"][\"target_test_label_accuracy\"])\n",
    "print(\"Source Val Label Accuracy:\", experiment[\"results\"][\"source_val_label_accuracy\"], \"Target Val Label Accuracy:\", experiment[\"results\"][\"target_val_label_accuracy\"])"
   ]
  },
  {
   "cell_type": "code",
   "execution_count": 29,
   "id": "dacca602",
   "metadata": {
    "execution": {
     "iopub.execute_input": "2022-03-21T02:15:29.464700Z",
     "iopub.status.busy": "2022-03-21T02:15:29.464443Z",
     "iopub.status.idle": "2022-03-21T02:15:29.486923Z",
     "shell.execute_reply": "2022-03-21T02:15:29.487239Z"
    },
    "papermill": {
     "duration": 0.057408,
     "end_time": "2022-03-21T02:15:29.487343",
     "exception": false,
     "start_time": "2022-03-21T02:15:29.429935",
     "status": "completed"
    },
    "tags": [
     "experiment_json"
    ]
   },
   "outputs": [
    {
     "data": {
      "text/plain": [
       "'{\"experiment_name\": \"tl_3Av2:oracle.run1.framed -> cores+wisig\", \"parameters\": {\"experiment_name\": \"tl_3Av2:oracle.run1.framed -> cores+wisig\", \"device\": \"cuda\", \"lr\": 0.0001, \"x_shape\": [2, 200], \"n_shot\": 3, \"n_query\": 2, \"train_k_factor\": 3, \"val_k_factor\": 2, \"test_k_factor\": 2, \"torch_default_dtype\": \"torch.float32\", \"n_epoch\": 50, \"patience\": 3, \"criteria_for_best\": \"target_accuracy\", \"x_net\": [{\"class\": \"nnReshape\", \"kargs\": {\"shape\": [-1, 1, 2, 200]}}, {\"class\": \"Conv2d\", \"kargs\": {\"in_channels\": 1, \"out_channels\": 256, \"kernel_size\": [1, 7], \"bias\": false, \"padding\": [0, 3]}}, {\"class\": \"ReLU\", \"kargs\": {\"inplace\": true}}, {\"class\": \"BatchNorm2d\", \"kargs\": {\"num_features\": 256}}, {\"class\": \"Conv2d\", \"kargs\": {\"in_channels\": 256, \"out_channels\": 80, \"kernel_size\": [2, 7], \"bias\": true, \"padding\": [0, 3]}}, {\"class\": \"ReLU\", \"kargs\": {\"inplace\": true}}, {\"class\": \"BatchNorm2d\", \"kargs\": {\"num_features\": 80}}, {\"class\": \"Flatten\", \"kargs\": {}}, {\"class\": \"Linear\", \"kargs\": {\"in_features\": 16000, \"out_features\": 256}}, {\"class\": \"ReLU\", \"kargs\": {\"inplace\": true}}, {\"class\": \"BatchNorm1d\", \"kargs\": {\"num_features\": 256}}, {\"class\": \"Linear\", \"kargs\": {\"in_features\": 256, \"out_features\": 256}}], \"NUM_LOGS_PER_EPOCH\": 10, \"BEST_MODEL_PATH\": \"./best_model.pth\", \"n_way\": 16, \"datasets\": [{\"labels\": [\"1-10.\", \"1-11.\", \"1-15.\", \"1-16.\", \"1-17.\", \"1-18.\", \"1-19.\", \"10-4.\", \"10-7.\", \"11-1.\", \"11-14.\", \"11-17.\", \"11-20.\", \"11-7.\", \"13-20.\", \"13-8.\", \"14-10.\", \"14-11.\", \"14-14.\", \"14-7.\", \"15-1.\", \"15-20.\", \"16-1.\", \"16-16.\", \"17-10.\", \"17-11.\", \"17-2.\", \"19-1.\", \"19-16.\", \"19-19.\", \"19-20.\", \"19-3.\", \"2-10.\", \"2-11.\", \"2-17.\", \"2-18.\", \"2-20.\", \"2-3.\", \"2-4.\", \"2-5.\", \"2-6.\", \"2-7.\", \"2-8.\", \"3-13.\", \"3-18.\", \"3-3.\", \"4-1.\", \"4-10.\", \"4-11.\", \"4-19.\", \"5-5.\", \"6-15.\", \"7-10.\", \"7-14.\", \"8-18.\", \"8-20.\", \"8-3.\", \"8-8.\"], \"domains\": [1, 2, 3, 4, 5], \"num_examples_per_domain_per_label\": -1, \"pickle_path\": \"/mnt/wd500GB/CSC500/csc500-main/datasets/cores.stratified_ds.2022A.pkl\", \"source_or_target_dataset\": \"target\", \"x_transforms\": [\"unit_power\", \"take_200\"], \"episode_transforms\": [], \"domain_prefix\": \"C_\"}, {\"labels\": [\"1-10\", \"1-12\", \"1-14\", \"1-16\", \"1-18\", \"1-19\", \"1-8\", \"10-11\", \"10-17\", \"10-4\", \"10-7\", \"11-1\", \"11-10\", \"11-19\", \"11-20\", \"11-4\", \"11-7\", \"12-19\", \"12-20\", \"12-7\", \"13-14\", \"13-18\", \"13-19\", \"13-20\", \"13-3\", \"13-7\", \"14-10\", \"14-11\", \"14-12\", \"14-13\", \"14-14\", \"14-19\", \"14-20\", \"14-7\", \"14-8\", \"14-9\", \"15-1\", \"15-19\", \"15-6\", \"16-1\", \"16-16\", \"16-19\", \"16-20\", \"17-10\", \"17-11\", \"18-1\", \"18-10\", \"18-11\", \"18-12\", \"18-13\", \"18-14\", \"18-15\", \"18-16\", \"18-17\", \"18-19\", \"18-2\", \"18-20\", \"18-4\", \"18-5\", \"18-7\", \"18-8\", \"18-9\", \"19-1\", \"19-10\", \"19-11\", \"19-12\", \"19-13\", \"19-14\", \"19-15\", \"19-19\", \"19-2\", \"19-20\", \"19-3\", \"19-4\", \"19-6\", \"19-7\", \"19-8\", \"19-9\", \"2-1\", \"2-13\", \"2-15\", \"2-3\", \"2-4\", \"2-5\", \"2-6\", \"2-7\", \"2-8\", \"20-1\", \"20-12\", \"20-14\", \"20-15\", \"20-16\", \"20-18\", \"20-19\", \"20-20\", \"20-3\", \"20-4\", \"20-5\", \"20-7\", \"20-8\", \"3-1\", \"3-13\", \"3-18\", \"3-2\", \"3-8\", \"4-1\", \"4-10\", \"4-11\", \"5-1\", \"5-5\", \"6-1\", \"6-15\", \"6-6\", \"7-10\", \"7-11\", \"7-12\", \"7-13\", \"7-14\", \"7-7\", \"7-8\", \"7-9\", \"8-1\", \"8-13\", \"8-14\", \"8-18\", \"8-20\", \"8-3\", \"8-8\", \"9-1\", \"9-7\"], \"domains\": [1, 2, 3, 4], \"num_examples_per_domain_per_label\": -1, \"pickle_path\": \"/mnt/wd500GB/CSC500/csc500-main/datasets/wisig.node3-19.stratified_ds.2022A.pkl\", \"source_or_target_dataset\": \"target\", \"x_transforms\": [\"unit_power\", \"take_200\"], \"episode_transforms\": [], \"domain_prefix\": \"W_\"}, {\"labels\": [\"3123D52\", \"3123D65\", \"3123D79\", \"3123D80\", \"3123D54\", \"3123D70\", \"3123D7B\", \"3123D89\", \"3123D58\", \"3123D76\", \"3123D7D\", \"3123EFE\", \"3123D64\", \"3123D78\", \"3123D7E\", \"3124E4A\"], \"domains\": [32, 38, 8, 44, 14, 50, 20, 26], \"num_examples_per_domain_per_label\": 2000, \"pickle_path\": \"/mnt/wd500GB/CSC500/csc500-main/datasets/oracle.Run1_framed_2000Examples_stratified_ds.2022A.pkl\", \"source_or_target_dataset\": \"source\", \"x_transforms\": [\"unit_power\", \"take_200\", \"resample_20Msps_to_25Msps\"], \"episode_transforms\": [], \"domain_prefix\": \"O_\"}], \"seed\": 7, \"dataset_seed\": 7, \"domains_source\": [\"O_32\", \"O_38\", \"O_8\", \"O_44\", \"O_14\", \"O_50\", \"O_20\", \"O_26\"], \"domains_target\": [\"C_1\", \"C_2\", \"C_3\", \"C_4\", \"C_5\", \"W_1\", \"W_2\", \"W_3\", \"W_4\"]}, \"results\": {\"source_test_label_accuracy\": 0.7576171875, \"source_test_label_loss\": 0.6549415588378906, \"target_test_label_accuracy\": 0.6241403721682848, \"target_test_label_loss\": 301.9165954589844, \"source_val_label_accuracy\": 0.7508463541666667, \"source_val_label_loss\": 0.6690633296966553, \"target_val_label_accuracy\": 0.6211409165751921, \"target_val_label_loss\": 308.8136291503906, \"total_epochs_trained\": 7, \"total_experiment_time_secs\": 1257.1567831039429, \"confusion\": {\"O_26\": {\"0\": {\"0\": 82, \"10\": 55, \"8\": 22, \"14\": 41, \"4\": 29, \"1\": 5, \"7\": 3, \"15\": 2, \"9\": 1}, \"4\": {\"14\": 51, \"4\": 108, \"7\": 18, \"1\": 16, \"0\": 19, \"8\": 22, \"10\": 6}, \"14\": {\"14\": 93, \"0\": 49, \"1\": 34, \"4\": 35, \"10\": 20, \"7\": 2, \"8\": 7}, \"12\": {\"12\": 240}, \"8\": {\"2\": 4, \"8\": 95, \"10\": 29, \"0\": 25, \"4\": 33, \"7\": 26, \"9\": 5, \"15\": 14, \"5\": 1, \"14\": 7, \"6\": 1}, \"7\": {\"7\": 148, \"3\": 27, \"4\": 21, \"8\": 11, \"2\": 20, \"14\": 4, \"0\": 5, \"10\": 2, \"15\": 1, \"1\": 1}, \"13\": {\"9\": 19, \"13\": 170, \"5\": 38, \"15\": 10, \"2\": 3}, \"5\": {\"5\": 174, \"13\": 20, \"9\": 7, \"15\": 19, \"2\": 16, \"7\": 3, \"8\": 1}, \"15\": {\"5\": 9, \"15\": 121, \"13\": 11, \"9\": 67, \"0\": 1, \"8\": 17, \"2\": 8, \"6\": 2, \"10\": 2, \"7\": 2}, \"10\": {\"10\": 104, \"14\": 25, \"0\": 59, \"8\": 29, \"4\": 6, \"6\": 11, \"1\": 2, \"15\": 3, \"7\": 1}, \"3\": {\"3\": 160, \"7\": 26, \"2\": 52, \"5\": 1, \"4\": 1}, \"9\": {\"9\": 118, \"15\": 82, \"13\": 10, \"5\": 8, \"6\": 19, \"7\": 1, \"8\": 2}, \"6\": {\"9\": 25, \"6\": 195, \"15\": 6, \"10\": 11, \"0\": 2, \"8\": 1}, \"1\": {\"1\": 175, \"14\": 38, \"4\": 19, \"0\": 2, \"7\": 1, \"8\": 2, \"3\": 1, \"10\": 2}, \"11\": {\"11\": 240}, \"2\": {\"3\": 67, \"5\": 36, \"2\": 92, \"7\": 28, \"9\": 1, \"15\": 7, \"8\": 6, \"13\": 3}}, \"O_44\": {\"1\": {\"1\": 132, \"3\": 16, \"12\": 59, \"2\": 14, \"10\": 18, \"7\": 1}, \"11\": {\"11\": 237, \"13\": 2, \"6\": 1}, \"3\": {\"3\": 229, \"1\": 11}, \"6\": {\"13\": 52, \"6\": 161, \"9\": 16, \"11\": 3, \"7\": 8}, \"7\": {\"2\": 43, \"7\": 147, \"9\": 40, \"6\": 6, \"13\": 2, \"3\": 1, \"1\": 1}, \"5\": {\"5\": 202, \"0\": 10, \"15\": 12, \"8\": 7, \"14\": 9}, \"2\": {\"2\": 177, \"9\": 3, \"7\": 36, \"10\": 12, \"1\": 10, \"12\": 1, \"3\": 1}, \"15\": {\"15\": 176, \"14\": 26, \"0\": 22, \"8\": 4, \"5\": 10, \"4\": 2}, \"10\": {\"10\": 197, \"1\": 17, \"2\": 17, \"12\": 9}, \"13\": {\"13\": 158, \"11\": 4, \"9\": 29, \"6\": 44, \"4\": 1, \"7\": 4}, \"8\": {\"0\": 102, \"8\": 124, \"5\": 4, \"15\": 10}, \"4\": {\"14\": 64, \"4\": 170, \"13\": 3, \"15\": 3}, \"9\": {\"9\": 119, \"13\": 30, \"6\": 16, \"2\": 4, \"7\": 69, \"11\": 1, \"3\": 1}, \"14\": {\"14\": 141, \"4\": 71, \"15\": 21, \"5\": 6, \"0\": 1}, \"0\": {\"0\": 144, \"15\": 10, \"8\": 71, \"5\": 15}, \"12\": {\"1\": 41, \"12\": 187, \"3\": 4, \"10\": 8}}, \"O_50\": {\"15\": {\"15\": 190, \"4\": 18, \"1\": 23, \"11\": 6, \"6\": 3}, \"4\": {\"4\": 139, \"5\": 34, \"1\": 22, \"15\": 34, \"6\": 4, \"7\": 6, \"13\": 1}, \"6\": {\"1\": 7, \"6\": 172, \"15\": 6, \"13\": 31, \"4\": 8, \"7\": 8, \"5\": 7, \"0\": 1}, \"2\": {\"2\": 210, \"0\": 29, \"14\": 1}, \"5\": {\"5\": 115, \"7\": 29, \"4\": 34, \"13\": 37, \"6\": 8, \"10\": 2, \"1\": 11, \"15\": 3, \"2\": 1}, \"9\": {\"9\": 230, \"11\": 8, \"12\": 2}, \"8\": {\"8\": 231, \"3\": 4, \"10\": 5}, \"12\": {\"12\": 223, \"11\": 6, \"14\": 3, \"9\": 8}, \"10\": {\"0\": 13, \"8\": 15, \"10\": 205, \"7\": 2, \"13\": 4, \"5\": 1}, \"1\": {\"1\": 157, \"5\": 6, \"6\": 6, \"15\": 43, \"2\": 3, \"4\": 21, \"11\": 2, \"13\": 1, \"0\": 1}, \"0\": {\"0\": 189, \"2\": 32, \"10\": 13, \"13\": 6}, \"3\": {\"3\": 236, \"8\": 4}, \"13\": {\"13\": 162, \"7\": 24, \"5\": 31, \"6\": 15, \"4\": 1, \"10\": 7}, \"11\": {\"11\": 219, \"9\": 4, \"15\": 10, \"12\": 4, \"4\": 1, \"14\": 2}, \"7\": {\"6\": 3, \"7\": 191, \"5\": 14, \"13\": 23, \"10\": 4, \"4\": 5}, \"14\": {\"14\": 237, \"12\": 3}}, \"O_38\": {\"15\": {\"8\": 20, \"15\": 189, \"5\": 3, \"1\": 16, \"13\": 11, \"10\": 1}, \"11\": {\"11\": 228, \"14\": 9, \"4\": 1, \"3\": 2}, \"10\": {\"10\": 208, \"8\": 6, \"13\": 16, \"2\": 2, \"7\": 4, \"5\": 1, \"0\": 3}, \"14\": {\"14\": 216, \"11\": 6, \"2\": 16, \"10\": 1, \"13\": 1}, \"6\": {\"6\": 227, \"5\": 3, \"9\": 10}, \"4\": {\"4\": 233, \"12\": 6, \"10\": 1}, \"13\": {\"13\": 182, \"2\": 13, \"8\": 4, \"15\": 21, \"10\": 17, \"1\": 2, \"5\": 1}, \"3\": {\"3\": 230, \"5\": 1, \"9\": 5, \"0\": 3, \"11\": 1}, \"7\": {\"7\": 188, \"0\": 15, \"5\": 29, \"8\": 8}, \"8\": {\"8\": 156, \"7\": 16, \"5\": 40, \"0\": 17, \"15\": 5, \"10\": 5, \"13\": 1}, \"1\": {\"1\": 227, \"15\": 13}, \"5\": {\"5\": 105, \"8\": 65, \"7\": 41, \"10\": 1, \"15\": 7, \"0\": 8, \"9\": 4, \"6\": 5, \"13\": 3, \"1\": 1}, \"0\": {\"7\": 24, \"8\": 27, \"0\": 160, \"10\": 11, \"5\": 5, \"3\": 7, \"15\": 1, \"4\": 1, \"13\": 2, \"12\": 1, \"9\": 1}, \"2\": {\"2\": 223, \"14\": 15, \"13\": 2}, \"12\": {\"12\": 238, \"4\": 2}, \"9\": {\"9\": 208, \"6\": 26, \"7\": 2, \"5\": 3, \"3\": 1}}, \"O_20\": {\"10\": {\"10\": 211, \"14\": 29}, \"7\": {\"7\": 176, \"2\": 35, \"8\": 9, \"9\": 11, \"3\": 6, \"6\": 2, \"13\": 1}, \"4\": {\"4\": 195, \"8\": 22, \"3\": 15, \"10\": 5, \"9\": 1, \"12\": 1, \"5\": 1}, \"13\": {\"13\": 213, \"2\": 16, \"9\": 3, \"15\": 5, \"12\": 1, \"1\": 2}, \"1\": {\"15\": 22, \"12\": 51, \"1\": 129, \"5\": 27, \"0\": 6, \"9\": 2, \"3\": 2, \"13\": 1}, \"0\": {\"15\": 50, \"0\": 124, \"5\": 54, \"8\": 4, \"1\": 3, \"2\": 3, \"7\": 1, \"9\": 1}, \"12\": {\"12\": 106, \"3\": 31, \"1\": 40, \"2\": 9, \"5\": 32, \"9\": 18, \"7\": 2, \"15\": 2}, \"5\": {\"15\": 14, \"12\": 12, \"0\": 45, \"1\": 35, \"5\": 129, \"3\": 5}, \"6\": {\"6\": 220, \"14\": 18, \"8\": 1, \"7\": 1}, \"2\": {\"9\": 68, \"7\": 49, \"8\": 3, \"2\": 94, \"12\": 7, \"13\": 9, \"1\": 1, \"3\": 9}, \"8\": {\"8\": 192, \"4\": 24, \"12\": 1, \"14\": 5, \"3\": 5, \"7\": 6, \"2\": 2, \"6\": 3, \"5\": 1, \"10\": 1}, \"11\": {\"11\": 240}, \"9\": {\"9\": 119, \"12\": 11, \"3\": 24, \"2\": 68, \"4\": 1, \"7\": 15, \"1\": 2}, \"14\": {\"14\": 188, \"6\": 23, \"8\": 9, \"10\": 20}, \"15\": {\"15\": 156, \"1\": 37, \"0\": 30, \"13\": 5, \"5\": 12}, \"3\": {\"3\": 118, \"12\": 38, \"1\": 5, \"9\": 33, \"2\": 18, \"7\": 10, \"8\": 5, \"4\": 12, \"0\": 1}}, \"O_14\": {\"14\": {\"14\": 188, \"2\": 24, \"6\": 6, \"13\": 18, \"3\": 4}, \"0\": {\"10\": 16, \"0\": 213, \"3\": 9, \"11\": 2}, \"4\": {\"4\": 176, \"5\": 49, \"3\": 6, \"2\": 4, \"1\": 5}, \"11\": {\"11\": 213, \"9\": 20, \"0\": 7}, \"13\": {\"6\": 96, \"13\": 78, \"14\": 37, \"2\": 21, \"7\": 1, \"4\": 1, \"5\": 6}, \"9\": {\"9\": 240}, \"3\": {\"3\": 217, \"2\": 8, \"14\": 3, \"4\": 9, \"5\": 1, \"0\": 2}, \"6\": {\"6\": 161, \"13\": 68, \"2\": 5, \"14\": 6}, \"1\": {\"1\": 208, \"5\": 27, \"4\": 4, \"3\": 1}, \"5\": {\"5\": 157, \"1\": 24, \"2\": 6, \"4\": 51, \"3\": 2}, \"12\": {\"12\": 240}, \"10\": {\"10\": 228, \"3\": 4, \"0\": 7, \"14\": 1}, \"8\": {\"8\": 240}, \"7\": {\"7\": 240}, \"15\": {\"15\": 240}, \"2\": {\"2\": 133, \"14\": 40, \"6\": 20, \"13\": 13, \"5\": 18, \"3\": 10, \"4\": 6}}, \"O_32\": {\"11\": {\"14\": 29, \"11\": 199, \"3\": 2, \"7\": 4, \"5\": 2, \"13\": 4}, \"1\": {\"1\": 240}, \"2\": {\"2\": 176, \"4\": 63, \"13\": 1}, \"0\": {\"0\": 170, \"8\": 34, \"5\": 7, \"7\": 9, \"4\": 4, \"13\": 5, \"14\": 9, \"2\": 1, \"11\": 1}, \"3\": {\"3\": 220, \"11\": 4, \"8\": 4, \"13\": 6, \"5\": 3, \"14\": 3}, \"8\": {\"13\": 15, \"8\": 189, \"0\": 27, \"3\": 5, \"5\": 4}, \"12\": {\"12\": 240}, \"5\": {\"5\": 110, \"7\": 62, \"3\": 12, \"13\": 27, \"4\": 11, \"0\": 5, \"8\": 5, \"14\": 5, \"11\": 3}, \"15\": {\"15\": 240}, \"7\": {\"7\": 130, \"4\": 29, \"5\": 44, \"2\": 4, \"11\": 5, \"13\": 9, \"14\": 14, \"8\": 3, \"0\": 2}, \"4\": {\"4\": 169, \"2\": 37, \"5\": 9, \"7\": 14, \"13\": 10, \"0\": 1}, \"14\": {\"14\": 143, \"0\": 21, \"11\": 53, \"8\": 5, \"2\": 1, \"7\": 8, \"3\": 3, \"5\": 4, \"13\": 2}, \"10\": {\"10\": 239, \"1\": 1}, \"6\": {\"6\": 240}, \"13\": {\"5\": 21, \"13\": 174, \"7\": 7, \"8\": 7, \"4\": 16, \"0\": 3, \"3\": 11, \"11\": 1}, \"9\": {\"9\": 240}}, \"O_8\": {\"9\": {\"9\": 240}, \"11\": {\"11\": 196, \"1\": 41, \"14\": 1, \"5\": 2}, \"8\": {\"8\": 237, \"15\": 3}, \"4\": {\"4\": 118, \"14\": 25, \"10\": 15, \"13\": 38, \"6\": 41, \"7\": 1, \"0\": 2}, \"13\": {\"10\": 21, \"6\": 24, \"14\": 11, \"4\": 44, \"0\": 55, \"13\": 84, \"7\": 1}, \"14\": {\"14\": 131, \"4\": 32, \"10\": 57, \"1\": 9, \"13\": 8, \"5\": 3}, \"2\": {\"2\": 212, \"12\": 5, \"3\": 12, \"7\": 8, \"15\": 3}, \"3\": {\"3\": 224, \"2\": 5, \"12\": 10, \"15\": 1}, \"1\": {\"1\": 196, \"11\": 36, \"5\": 8}, \"0\": {\"0\": 160, \"13\": 51, \"7\": 13, \"6\": 6, \"4\": 4, \"10\": 5, \"14\": 1}, \"5\": {\"5\": 218, \"1\": 7, \"11\": 2, \"14\": 5, \"10\": 8}, \"15\": {\"12\": 41, \"15\": 192, \"8\": 7}, \"10\": {\"14\": 58, \"10\": 149, \"13\": 19, \"4\": 10, \"5\": 4}, \"12\": {\"12\": 155, \"15\": 65, \"3\": 16, \"8\": 4}, \"6\": {\"0\": 5, \"4\": 31, \"6\": 136, \"13\": 7, \"7\": 61}, \"7\": {\"6\": 52, \"7\": 177, \"13\": 3, \"0\": 6, \"8\": 1, \"15\": 1}}, \"C_5\": {\"26\": {\"26\": 24}, \"7\": {\"7\": 32}, \"56\": {\"49\": 4, \"56\": 126, \"35\": 2, \"24\": 6, \"36\": 1, \"13\": 2, \"43\": 1}, \"36\": {\"47\": 4, \"36\": 40, \"39\": 2, \"54\": 13, \"43\": 4, \"23\": 4, \"18\": 1, \"52\": 1, \"3\": 5, \"15\": 4, \"0\": 1, \"57\": 3, \"14\": 1, \"20\": 1, \"11\": 1, \"46\": 3, \"48\": 3, \"29\": 1}, \"47\": {\"47\": 75, \"34\": 2, \"39\": 2, \"23\": 1, \"57\": 3, \"52\": 2, \"48\": 4, \"54\": 5, \"36\": 3, \"6\": 1, \"50\": 2}, \"2\": {\"2\": 27, \"36\": 1}, \"15\": {\"15\": 137, \"14\": 2, \"16\": 3, \"11\": 4, \"43\": 5, \"36\": 1}, \"14\": {\"45\": 1, \"47\": 5, \"11\": 3, \"14\": 8, \"43\": 1, \"34\": 2, \"19\": 3, \"12\": 1, \"9\": 1, \"17\": 1, \"0\": 3, \"23\": 2, \"25\": 1, \"48\": 1, \"28\": 2, \"36\": 4, \"54\": 1, \"33\": 1, \"29\": 1, \"39\": 1, \"46\": 1}, \"27\": {\"27\": 127, \"45\": 1, \"9\": 10, \"53\": 4, \"30\": 2, \"1\": 1, \"48\": 1}, \"40\": {\"40\": 71, \"49\": 1, \"55\": 2, \"5\": 11, \"10\": 2, \"44\": 17, \"3\": 3, \"29\": 3, \"4\": 5, \"0\": 1, \"56\": 4, \"37\": 1, \"35\": 1, \"43\": 1, \"24\": 1}, \"49\": {\"56\": 3, \"15\": 1, \"49\": 21, \"24\": 3, \"2\": 4, \"35\": 2, \"36\": 1, \"3\": 1}, \"45\": {\"30\": 6, \"45\": 26, \"26\": 1, \"51\": 6, \"0\": 1, \"6\": 13, \"18\": 2, \"27\": 10, \"50\": 4, \"25\": 2, \"53\": 4, \"1\": 17, \"8\": 2, \"17\": 5, \"48\": 12, \"4\": 1, \"55\": 3, \"5\": 1, \"57\": 2, \"54\": 2, \"32\": 2, \"52\": 1, \"9\": 1}, \"46\": {\"46\": 86, \"0\": 6, \"3\": 4, \"36\": 1, \"23\": 10, \"52\": 7, \"54\": 3, \"47\": 2, \"43\": 3, \"15\": 2, \"57\": 4, \"11\": 3, \"39\": 1, \"16\": 4}, \"11\": {\"15\": 12, \"11\": 94, \"16\": 10, \"0\": 1, \"52\": 6, \"46\": 2, \"47\": 1, \"43\": 4}, \"30\": {\"30\": 104, \"8\": 1, \"17\": 3, \"20\": 2, \"53\": 1, \"1\": 1}, \"0\": {\"15\": 12, \"0\": 65, \"11\": 11, \"43\": 3, \"16\": 3, \"46\": 12, \"3\": 9, \"36\": 3, \"57\": 5, \"47\": 1}, \"10\": {\"10\": 64, \"13\": 4}, \"1\": {\"1\": 120, \"32\": 2, \"48\": 16, \"53\": 4, \"6\": 1, \"8\": 4, \"41\": 1}, \"42\": {\"42\": 38, \"10\": 1, \"40\": 1}, \"54\": {\"54\": 112}, \"55\": {\"55\": 86, \"50\": 2, \"19\": 3, \"34\": 4, \"52\": 9, \"1\": 2, \"45\": 5, \"8\": 1, \"43\": 5, \"29\": 3, \"36\": 3, \"54\": 4, \"51\": 2, \"15\": 1, \"16\": 1, \"48\": 1, \"46\": 2, \"4\": 5, \"27\": 1, \"47\": 2, \"33\": 2, \"39\": 2, \"21\": 1, \"12\": 1, \"6\": 1, \"3\": 1, \"0\": 1, \"11\": 1}, \"23\": {\"39\": 6, \"23\": 100, \"18\": 2, \"57\": 1, \"54\": 8, \"52\": 3, \"46\": 1, \"3\": 3}, \"25\": {\"54\": 4, \"12\": 7, \"25\": 103, \"45\": 4, \"19\": 7, \"17\": 4, \"20\": 7, \"6\": 5, \"48\": 3, \"38\": 1, \"1\": 2, \"55\": 1, \"27\": 1, \"8\": 2, \"53\": 1}, \"28\": {\"28\": 30, \"34\": 1, \"33\": 1}, \"32\": {\"17\": 1, \"32\": 23, \"53\": 1, \"1\": 3, \"28\": 1, \"48\": 1, \"9\": 2}, \"9\": {\"9\": 90, \"27\": 27, \"45\": 1, \"33\": 1, \"53\": 3, \"17\": 1, \"55\": 1, \"50\": 3, \"20\": 3, \"30\": 1, \"32\": 1, \"1\": 4, \"21\": 1, \"51\": 2, \"29\": 1, \"19\": 1, \"25\": 1}, \"39\": {\"39\": 20}, \"3\": {\"39\": 2, \"3\": 29, \"47\": 8, \"57\": 12, \"16\": 1, \"2\": 1, \"14\": 2, \"11\": 4, \"52\": 7, \"0\": 7, \"43\": 2, \"46\": 10, \"6\": 1, \"54\": 7, \"36\": 2, \"25\": 1, \"49\": 1, \"24\": 2, \"15\": 1}, \"29\": {\"29\": 37, \"28\": 2, \"57\": 5, \"34\": 4, \"33\": 4, \"56\": 6, \"27\": 9, \"17\": 1, \"19\": 14, \"3\": 1, \"48\": 1, \"9\": 16, \"36\": 1, \"5\": 3, \"45\": 3, \"1\": 1, \"25\": 1, \"55\": 1, \"7\": 1, \"49\": 1, \"24\": 3, \"51\": 1, \"47\": 1, \"44\": 1}, \"17\": {\"32\": 1, \"17\": 72, \"41\": 2, \"1\": 4, \"8\": 10, \"25\": 3, \"30\": 12, \"20\": 3, \"51\": 2, \"55\": 1, \"6\": 1, \"38\": 1, \"53\": 1, \"27\": 1, \"48\": 2}, \"35\": {\"35\": 31, \"56\": 1, \"49\": 2, \"2\": 1, \"24\": 1}, \"44\": {\"33\": 1, \"44\": 89, \"24\": 2, \"9\": 2, \"34\": 1, \"5\": 15, \"19\": 7, \"29\": 9, \"13\": 6, \"22\": 3, \"3\": 1, \"36\": 1, \"40\": 4, \"56\": 2, \"50\": 2, \"55\": 2, \"27\": 1, \"47\": 1, \"4\": 1, \"45\": 1, \"6\": 1}, \"5\": {\"44\": 9, \"28\": 2, \"5\": 81, \"40\": 8, \"2\": 1, \"19\": 10, \"45\": 2, \"29\": 6, \"55\": 4, \"4\": 1, \"50\": 3, \"54\": 1}, \"33\": {\"33\": 15, \"7\": 3, \"0\": 1, \"32\": 4, \"9\": 2, \"27\": 2, \"19\": 2, \"57\": 1, \"28\": 2}, \"34\": {\"44\": 1, \"34\": 34, \"3\": 1}, \"13\": {\"10\": 7, \"13\": 128, \"56\": 2, \"35\": 1}, \"41\": {\"6\": 1, \"41\": 24, \"18\": 1, \"54\": 1, \"36\": 1}, \"6\": {\"6\": 70, \"18\": 1, \"38\": 1, \"8\": 5, \"48\": 16, \"20\": 4, \"1\": 5, \"54\": 6, \"21\": 1, \"50\": 4, \"45\": 7, \"17\": 2, \"53\": 1, \"32\": 2, \"25\": 1, \"36\": 1, \"51\": 1}, \"51\": {\"51\": 114, \"26\": 1, \"21\": 2, \"53\": 8, \"27\": 3, \"6\": 1, \"45\": 1, \"48\": 1, \"44\": 1, \"38\": 1, \"17\": 2, \"50\": 1, \"9\": 1, \"1\": 1}, \"50\": {\"6\": 10, \"9\": 12, \"32\": 1, \"39\": 1, \"50\": 29, \"54\": 10, \"12\": 2, \"27\": 7, \"34\": 4, \"20\": 1, \"36\": 2, \"53\": 4, \"55\": 3, \"1\": 5, \"48\": 10, \"17\": 3, \"43\": 1, \"0\": 1, \"51\": 8, \"30\": 1, \"25\": 3, \"21\": 5, \"46\": 6, \"52\": 3, \"57\": 3, \"7\": 1, \"28\": 1, \"18\": 1, \"45\": 5, \"4\": 1}, \"37\": {\"37\": 22, \"28\": 1, \"21\": 1}, \"19\": {\"7\": 2, \"57\": 2, \"19\": 84, \"32\": 1, \"53\": 1, \"27\": 14, \"29\": 4, \"9\": 16, \"45\": 3, \"6\": 1, \"50\": 4, \"51\": 3, \"3\": 1, \"55\": 2, \"4\": 1, \"1\": 1, \"33\": 1, \"5\": 1, \"48\": 1, \"44\": 1}, \"57\": {\"57\": 125, \"25\": 1, \"54\": 2, \"23\": 3, \"39\": 1}, \"21\": {\"21\": 131, \"51\": 9, \"20\": 1, \"25\": 1, \"43\": 1, \"53\": 1}, \"24\": {\"24\": 72, \"3\": 1, \"49\": 1, \"56\": 2, \"35\": 1, \"0\": 3}, \"8\": {\"8\": 113, \"30\": 5, \"20\": 4, \"17\": 5, \"1\": 3}, \"12\": {\"50\": 2, \"12\": 69, \"33\": 3, \"38\": 3, \"7\": 1, \"51\": 1, \"8\": 1, \"9\": 2, \"27\": 5, \"55\": 2, \"53\": 7}, \"48\": {\"48\": 100, \"20\": 5, \"1\": 20, \"6\": 4, \"45\": 1, \"32\": 1, \"53\": 1}, \"43\": {\"43\": 79, \"54\": 5, \"11\": 21, \"3\": 1, \"15\": 24, \"16\": 6, \"52\": 6, \"0\": 1, \"36\": 4, \"14\": 2, \"29\": 1}, \"53\": {\"53\": 125, \"27\": 1, \"51\": 4, \"30\": 2, \"6\": 5, \"9\": 1, \"7\": 1, \"20\": 2, \"1\": 4, \"48\": 3}, \"38\": {\"38\": 29, \"45\": 3}, \"16\": {\"16\": 130, \"46\": 5, \"47\": 1, \"11\": 4, \"3\": 1, \"54\": 1}, \"22\": {\"22\": 23, \"44\": 4, \"13\": 1}, \"4\": {\"4\": 48, \"36\": 2, \"33\": 1, \"5\": 4, \"43\": 1, \"52\": 3, \"21\": 6, \"55\": 8, \"19\": 6, \"54\": 7, \"29\": 2, \"46\": 1, \"9\": 3, \"7\": 1, \"31\": 2, \"50\": 2, \"40\": 1, \"45\": 2}, \"18\": {\"18\": 62, \"42\": 1, \"54\": 1}, \"20\": {\"20\": 102, \"39\": 1, \"48\": 5, \"8\": 9, \"6\": 8, \"17\": 3, \"1\": 6, \"25\": 3, \"54\": 2, \"53\": 1, \"41\": 1, \"30\": 2, \"45\": 1}, \"52\": {\"52\": 131, \"16\": 2, \"36\": 1, \"47\": 1, \"43\": 1, \"23\": 2, \"54\": 1, \"46\": 1}, \"31\": {\"3\": 3, \"31\": 24, \"11\": 2, \"15\": 1, \"28\": 1, \"54\": 1, \"18\": 1, \"46\": 3}}, \"W_4\": {\"71\": {\"71\": 66, \"87\": 1, \"27\": 1, \"55\": 1, \"1\": 1, \"127\": 6, \"105\": 5, \"111\": 1, \"114\": 2, \"90\": 1, \"8\": 1, \"4\": 1, \"11\": 2, \"43\": 2, \"70\": 3, \"95\": 1, \"84\": 1, \"0\": 4, \"33\": 2, \"108\": 1, \"40\": 1}, \"17\": {\"17\": 11, \"105\": 1, \"33\": 1, \"107\": 1, \"79\": 1, \"115\": 3, \"104\": 2}, \"105\": {\"105\": 37, \"95\": 1, \"1\": 5, \"82\": 2, \"4\": 3, \"114\": 5, \"88\": 2, \"72\": 1, \"107\": 5, \"90\": 1, \"118\": 1, \"40\": 6, \"8\": 2, \"71\": 5, \"33\": 2, \"12\": 1, \"87\": 5, \"101\": 1, \"113\": 1, \"110\": 1, \"117\": 2, \"109\": 1, \"0\": 1, \"129\": 2, \"77\": 1, \"46\": 1, \"128\": 1, \"124\": 1, \"7\": 1, \"10\": 1, \"126\": 1}, \"92\": {\"92\": 19, \"88\": 1, \"64\": 1, \"72\": 1, \"23\": 1, \"45\": 2, \"69\": 1, \"108\": 1, \"39\": 1}, \"100\": {\"109\": 1, \"100\": 6, \"38\": 4, \"5\": 3, \"88\": 2, \"120\": 2, \"21\": 1, \"7\": 1}, \"6\": {\"6\": 13, \"36\": 2, \"125\": 1, \"94\": 3, \"12\": 1, \"30\": 1, \"24\": 1, \"9\": 1, \"10\": 1}, \"36\": {\"6\": 2, \"36\": 53, \"54\": 3, \"127\": 2, \"75\": 1, \"52\": 1, \"24\": 8, \"10\": 9, \"12\": 1, \"129\": 1, \"97\": 2, \"94\": 11, \"0\": 3, \"98\": 4, \"15\": 4, \"125\": 9, \"4\": 2, \"111\": 6, \"93\": 1, \"106\": 2, \"34\": 1, \"26\": 1, \"114\": 1}, \"35\": {\"92\": 1, \"63\": 1, \"45\": 2, \"64\": 2, \"72\": 1, \"35\": 3, \"21\": 1, \"108\": 1}, \"63\": {\"63\": 15, \"118\": 1}, \"104\": {\"104\": 9, \"105\": 2, \"107\": 1, \"40\": 2, \"116\": 1, \"124\": 1}, \"114\": {\"105\": 9, \"27\": 1, \"43\": 4, \"114\": 60, \"50\": 2, \"1\": 7, \"40\": 2, \"87\": 2, \"127\": 2, \"106\": 1, \"94\": 1, \"102\": 1, \"101\": 2, \"4\": 3, \"3\": 3, \"0\": 1, \"111\": 1, \"107\": 2, \"12\": 2, \"17\": 1, \"55\": 1, \"83\": 1, \"53\": 1, \"129\": 1, \"33\": 2, \"88\": 1, \"71\": 5, \"93\": 1, \"11\": 1, \"24\": 1, \"70\": 1, \"113\": 1, \"5\": 2, \"7\": 1, \"110\": 1}, \"68\": {\"68\": 11, \"127\": 3, \"111\": 1, \"12\": 1}, \"109\": {\"109\": 26, \"63\": 1, \"96\": 1, \"21\": 6, \"80\": 1, \"113\": 8, \"72\": 2, \"118\": 1, \"81\": 1, \"90\": 5, \"69\": 5, \"84\": 6, \"18\": 11, \"117\": 5, \"108\": 1, \"114\": 1, \"16\": 5, \"87\": 1, \"122\": 3, \"88\": 2, \"93\": 6, \"39\": 4, \"44\": 3, \"62\": 2, \"110\": 4, \"0\": 1, \"14\": 1, \"26\": 1, \"11\": 1, \"43\": 1}, \"27\": {\"109\": 3, \"27\": 23, \"55\": 3, \"98\": 4, \"16\": 1, \"113\": 2, \"99\": 2, \"108\": 2, \"101\": 3, \"88\": 9, \"21\": 3, \"49\": 1, \"44\": 2, \"0\": 5, \"71\": 2, \"127\": 1, \"114\": 1, \"4\": 1, \"1\": 1, \"70\": 5, \"90\": 1, \"8\": 3, \"77\": 1, \"119\": 2, \"87\": 2, \"29\": 2, \"72\": 2, \"3\": 1, \"102\": 1, \"30\": 2, \"93\": 3, \"7\": 2, \"110\": 1, \"15\": 1, \"43\": 1, \"39\": 1}, \"79\": {\"79\": 11, \"67\": 1, \"1\": 1, \"55\": 1, \"17\": 2}, \"0\": {\"109\": 3, \"71\": 3, \"0\": 18, \"29\": 2, \"12\": 1, \"100\": 1, \"120\": 1, \"111\": 2, \"90\": 3, \"21\": 2, \"5\": 5, \"88\": 8, \"127\": 2, \"7\": 6, \"70\": 5, \"1\": 3, \"27\": 3, \"101\": 6, \"87\": 1, \"114\": 3, \"93\": 7, \"10\": 1, \"15\": 1, \"106\": 1, \"38\": 1, \"49\": 1, \"105\": 2, \"4\": 2, \"39\": 3, \"8\": 1, \"102\": 1, \"128\": 1, \"72\": 2, \"43\": 1, \"110\": 2, \"11\": 1}, \"28\": {\"116\": 1, \"28\": 10, \"20\": 1, \"109\": 2, \"79\": 2, \"10\": 1, \"22\": 1, \"57\": 1, \"89\": 1}, \"4\": {\"127\": 2, \"112\": 1, \"17\": 1, \"4\": 56, \"95\": 3, \"40\": 3, \"114\": 7, \"106\": 2, \"24\": 3, \"26\": 1, \"71\": 6, \"12\": 2, \"111\": 2, \"1\": 1, \"109\": 1, \"10\": 2, \"9\": 1, \"80\": 1, \"105\": 4, \"52\": 1, \"30\": 1, \"87\": 1, \"107\": 1, \"0\": 1}, \"106\": {\"106\": 45, \"34\": 1, \"95\": 1, \"2\": 1, \"111\": 2, \"97\": 1, \"12\": 8, \"24\": 3, \"10\": 4, \"94\": 3, \"36\": 3, \"127\": 5, \"125\": 6, \"124\": 2, \"113\": 1, \"15\": 5, \"105\": 1, \"71\": 3, \"114\": 1, \"108\": 2, \"30\": 1, \"0\": 1, \"107\": 1, \"98\": 1}, \"40\": {\"40\": 82, \"4\": 5, \"87\": 4, \"104\": 1, \"69\": 4, \"107\": 6, \"71\": 3, \"114\": 4, \"88\": 1, \"16\": 1, \"105\": 9, \"43\": 1, \"8\": 3, \"102\": 1, \"82\": 1, \"1\": 2, \"128\": 1, \"10\": 1, \"18\": 1, \"124\": 1, \"33\": 1, \"111\": 1}, \"127\": {\"127\": 78, \"95\": 2, \"111\": 4, \"38\": 1, \"4\": 2, \"129\": 1, \"71\": 5, \"11\": 1, \"8\": 1, \"105\": 1, \"9\": 1, \"101\": 4, \"30\": 1, \"114\": 1, \"106\": 1, \"98\": 1, \"1\": 1, \"15\": 1, \"12\": 1}, \"57\": {\"57\": 11, \"51\": 1, \"63\": 2, \"78\": 1, \"47\": 1}, \"60\": {\"7\": 1, \"60\": 12, \"93\": 1, \"56\": 1, \"99\": 3, \"128\": 1, \"11\": 3, \"42\": 1, \"114\": 1, \"74\": 2, \"71\": 1, \"113\": 2, \"43\": 1, \"101\": 1, \"27\": 1}, \"69\": {\"69\": 78, \"22\": 1, \"84\": 6, \"102\": 15, \"108\": 1, \"16\": 9, \"118\": 3, \"27\": 1, \"110\": 1, \"117\": 2, \"113\": 1, \"107\": 1, \"14\": 4, \"72\": 1}, \"84\": {\"84\": 56, \"83\": 1, \"35\": 1, \"2\": 2, \"81\": 2, \"16\": 10, \"104\": 1, \"102\": 5, \"26\": 5, \"8\": 1, \"69\": 7, \"39\": 2, \"113\": 1, \"18\": 4, \"43\": 1, \"33\": 6, \"117\": 5, \"109\": 3, \"118\": 5, \"63\": 1, \"14\": 8, \"49\": 1, \"122\": 2, \"82\": 1, \"107\": 1}, \"24\": {\"7\": 2, \"94\": 9, \"32\": 1, \"24\": 37, \"25\": 1, \"119\": 1, \"70\": 4, \"36\": 6, \"87\": 1, \"4\": 2, \"21\": 1, \"41\": 1, \"40\": 1, \"27\": 6, \"98\": 3, \"10\": 5, \"30\": 4, \"88\": 2, \"101\": 6, \"93\": 1, \"16\": 1, \"8\": 4, \"111\": 2, \"114\": 1, \"1\": 1, \"108\": 1, \"9\": 1, \"96\": 1, \"0\": 4, \"125\": 5, \"15\": 1, \"84\": 1, \"90\": 1, \"126\": 2}, \"94\": {\"69\": 1, \"94\": 49, \"6\": 2, \"36\": 8, \"125\": 10, \"98\": 1, \"106\": 4, \"111\": 1, \"15\": 5, \"85\": 1, \"52\": 1, \"54\": 1, \"10\": 1, \"110\": 1, \"24\": 1, \"126\": 1}, \"7\": {\"7\": 58, \"57\": 1, \"101\": 7, \"83\": 1, \"0\": 4, \"27\": 7, \"22\": 1, \"90\": 5, \"21\": 2, \"98\": 2, \"8\": 2, \"72\": 1, \"71\": 3, \"3\": 5, \"44\": 1, \"88\": 3, \"113\": 3, \"110\": 1, \"93\": 2, \"96\": 1, \"66\": 1, \"70\": 4, \"121\": 1, \"128\": 1, \"118\": 1, \"108\": 1, \"126\": 1}, \"96\": {\"57\": 2, \"28\": 2, \"96\": 3, \"119\": 1, \"59\": 1, \"128\": 1, \"58\": 1, \"113\": 1, \"76\": 2, \"12\": 1, \"21\": 2, \"122\": 2, \"63\": 1}, \"116\": {\"40\": 1, \"57\": 1, \"67\": 2, \"116\": 19, \"89\": 1, \"124\": 1, \"48\": 1, \"122\": 2}, \"47\": {\"47\": 6, \"60\": 1, \"51\": 2, \"65\": 1, \"119\": 1, \"58\": 1}, \"119\": {\"78\": 2, \"25\": 1, \"119\": 7, \"8\": 1, \"38\": 1, \"88\": 1, \"99\": 1, \"27\": 2}, \"74\": {\"37\": 1, \"78\": 1, \"74\": 9, \"21\": 1, \"93\": 2, \"60\": 1, \"27\": 1}, \"93\": {\"78\": 1, \"93\": 68, \"83\": 1, \"20\": 1, \"32\": 2, \"122\": 2, \"113\": 11, \"5\": 5, \"99\": 2, \"21\": 1, \"72\": 4, \"110\": 7, \"44\": 5, \"87\": 5, \"109\": 5, \"90\": 13, \"43\": 4, \"70\": 2, \"26\": 1, \"118\": 1, \"38\": 1, \"4\": 1, \"100\": 1, \"27\": 1, \"121\": 1, \"128\": 1, \"108\": 1, \"126\": 3, \"3\": 1}, \"2\": {\"109\": 2, \"21\": 2, \"2\": 8, \"11\": 1, \"14\": 1, \"122\": 1, \"84\": 1, \"16\": 1, \"69\": 1, \"81\": 1, \"102\": 1, \"63\": 1, \"32\": 1, \"126\": 1, \"39\": 3, \"26\": 2}, \"37\": {\"37\": 10, \"51\": 1, \"49\": 1, \"46\": 1, \"44\": 1, \"43\": 2}, \"15\": {\"9\": 2, \"15\": 59, \"58\": 2, \"111\": 6, \"125\": 3, \"34\": 2, \"94\": 3, \"26\": 1, \"10\": 5, \"106\": 6, \"36\": 2, \"98\": 5, \"101\": 3, \"4\": 1, \"8\": 3, \"71\": 1, \"105\": 1, \"24\": 4, \"27\": 1, \"0\": 2, \"68\": 1, \"97\": 1, \"52\": 1, \"91\": 1, \"110\": 1, \"12\": 2, \"6\": 1, \"3\": 1, \"69\": 1, \"127\": 3, \"70\": 1, \"126\": 1, \"30\": 1}, \"102\": {\"102\": 90, \"2\": 1, \"14\": 8, \"82\": 2, \"33\": 5, \"67\": 1, \"4\": 1, \"115\": 1, \"40\": 2, \"69\": 8, \"26\": 3, \"84\": 7, \"107\": 2, \"16\": 1, \"123\": 1, \"117\": 1, \"118\": 1, \"11\": 1}, \"87\": {\"87\": 15, \"78\": 1, \"71\": 7, \"121\": 3, \"128\": 2, \"99\": 3, \"7\": 1, \"105\": 7, \"107\": 15, \"70\": 2, \"40\": 8, \"88\": 6, \"39\": 1, \"114\": 7, \"11\": 4, \"8\": 1, \"44\": 3, \"90\": 7, \"113\": 4, \"126\": 2, \"43\": 1, \"102\": 3, \"93\": 3, \"82\": 1, \"96\": 1, \"108\": 3, \"1\": 1, \"118\": 1, \"72\": 1, \"33\": 1, \"110\": 4, \"109\": 2, \"27\": 1}, \"107\": {\"107\": 85, \"102\": 8, \"17\": 3, \"1\": 2, \"14\": 1, \"72\": 1, \"129\": 2, \"124\": 3, \"40\": 13, \"43\": 2, \"70\": 1, \"105\": 3, \"122\": 1, \"110\": 1, \"0\": 2, \"33\": 4, \"101\": 1, \"45\": 1, \"82\": 2, \"87\": 3, \"84\": 2, \"4\": 2, \"118\": 1}, \"61\": {\"61\": 7, \"119\": 1, \"64\": 2, \"31\": 2, \"65\": 1, \"38\": 1, \"123\": 1, \"21\": 1}, \"78\": {\"78\": 4, \"119\": 1, \"50\": 1, \"93\": 1, \"70\": 3, \"99\": 3, \"86\": 2, \"13\": 1, \"8\": 1, \"113\": 2, \"44\": 1, \"40\": 1, \"21\": 3, \"72\": 2, \"120\": 2, \"100\": 1, \"35\": 1, \"63\": 2, \"23\": 2, \"43\": 1, \"101\": 1}, \"9\": {\"9\": 23, \"111\": 1, \"12\": 1, \"51\": 1, \"97\": 1, \"127\": 1}, \"32\": {\"32\": 9, \"109\": 1, \"8\": 1, \"128\": 1, \"113\": 1, \"2\": 1, \"19\": 1, \"18\": 2, \"62\": 1, \"33\": 1, \"30\": 1, \"85\": 1, \"57\": 1, \"87\": 2, \"39\": 1, \"114\": 1, \"10\": 1, \"93\": 1}, \"14\": {\"62\": 3, \"119\": 1, \"14\": 42, \"83\": 1, \"93\": 1, \"122\": 1, \"67\": 2, \"109\": 3, \"11\": 6, \"16\": 4, \"40\": 3, \"101\": 1, \"118\": 9, \"82\": 1, \"33\": 4, \"73\": 2, \"102\": 9, \"18\": 3, \"44\": 1, \"84\": 6, \"69\": 2, \"108\": 1, \"39\": 2, \"26\": 1, \"3\": 1, \"127\": 1, \"110\": 1}, \"62\": {\"62\": 24, \"16\": 1, \"33\": 6, \"113\": 3, \"11\": 2, \"81\": 2, \"42\": 1, \"18\": 6, \"14\": 2, \"44\": 1, \"102\": 1, \"122\": 2, \"32\": 2, \"118\": 1, \"5\": 1, \"26\": 1, \"128\": 1, \"117\": 1, \"72\": 1, \"110\": 1}, \"1\": {\"25\": 1, \"119\": 1, \"1\": 37, \"43\": 4, \"0\": 3, \"114\": 9, \"70\": 2, \"71\": 9, \"8\": 2, \"101\": 1, \"33\": 3, \"110\": 3, \"108\": 2, \"105\": 7, \"125\": 1, \"27\": 2, \"87\": 5, \"40\": 4, \"95\": 2, \"107\": 1, \"88\": 1, \"4\": 1, \"36\": 1}, \"23\": {\"119\": 1, \"62\": 1, \"77\": 1, \"63\": 2, \"82\": 1, \"112\": 1, \"33\": 1, \"80\": 1, \"44\": 1, \"117\": 1, \"30\": 1, \"113\": 2, \"101\": 1, \"83\": 1}, \"95\": {\"95\": 19, \"105\": 1, \"101\": 1, \"4\": 4, \"71\": 1, \"55\": 2, \"127\": 1, \"87\": 1, \"86\": 1, \"70\": 1}, \"56\": {\"56\": 10, \"124\": 2}, \"91\": {\"91\": 15, \"101\": 1, \"7\": 1, \"82\": 1, \"112\": 3, \"44\": 1, \"53\": 2}, \"34\": {\"25\": 1, \"37\": 1, \"95\": 1, \"33\": 1, \"76\": 2, \"83\": 1, \"92\": 1, \"27\": 1, \"107\": 2, \"3\": 1, \"125\": 1, \"34\": 3, \"105\": 1, \"94\": 4, \"46\": 1, \"31\": 1, \"54\": 2, \"43\": 1, \"118\": 1, \"114\": 1, \"87\": 1, \"73\": 1, \"10\": 1, \"11\": 1}, \"25\": {\"25\": 16}, \"33\": {\"33\": 106, \"73\": 1, \"105\": 2, \"122\": 5, \"87\": 1, \"62\": 1, \"111\": 1, \"84\": 1, \"102\": 1, \"109\": 1, \"69\": 2, \"14\": 1, \"110\": 1}, \"16\": {\"26\": 9, \"16\": 54, \"67\": 1, \"18\": 8, \"2\": 1, \"117\": 17, \"8\": 1, \"62\": 2, \"69\": 6, \"84\": 4, \"102\": 6, \"44\": 1, \"118\": 4, \"93\": 1, \"14\": 3, \"81\": 1, \"122\": 1, \"39\": 1, \"113\": 1, \"90\": 2}, \"26\": {\"26\": 73, \"102\": 7, \"21\": 2, \"117\": 8, \"90\": 1, \"109\": 2, \"14\": 1, \"69\": 3, \"118\": 1, \"18\": 7, \"126\": 3, \"16\": 3, \"11\": 1, \"43\": 1, \"70\": 1, \"39\": 3, \"2\": 1, \"120\": 1, \"84\": 4, \"88\": 2, \"33\": 1}, \"5\": {\"5\": 91, \"26\": 1, \"83\": 1, \"93\": 8, \"90\": 1, \"10\": 1, \"78\": 1, \"87\": 4, \"32\": 1, \"118\": 2, \"3\": 3, \"44\": 2, \"88\": 1, \"70\": 1, \"1\": 1, \"8\": 1, \"11\": 2, \"43\": 3, \"39\": 1, \"38\": 1, \"123\": 1, \"22\": 1, \"100\": 1, \"71\": 1, \"102\": 1, \"14\": 1, \"109\": 2, \"108\": 1}, \"123\": {\"123\": 10, \"125\": 1, \"109\": 1, \"64\": 1, \"81\": 1, \"63\": 2}, \"8\": {\"8\": 62, \"128\": 2, \"19\": 1, \"22\": 1, \"127\": 1, \"90\": 3, \"11\": 3, \"42\": 1, \"113\": 5, \"3\": 2, \"7\": 3, \"4\": 1, \"0\": 6, \"21\": 1, \"101\": 9, \"98\": 3, \"70\": 3, \"106\": 1, \"108\": 1, \"27\": 1, \"39\": 1, \"88\": 2, \"85\": 1, \"114\": 1, \"5\": 1, \"109\": 1, \"1\": 1}, \"83\": {\"83\": 5, \"8\": 1, \"91\": 1, \"95\": 1, \"122\": 1, \"34\": 1, \"7\": 3, \"38\": 1, \"113\": 1, \"5\": 1, \"78\": 1, \"120\": 1, \"0\": 2, \"110\": 1, \"70\": 1, \"128\": 2, \"19\": 1, \"90\": 1, \"11\": 1, \"93\": 1}, \"125\": {\"125\": 101, \"25\": 1, \"24\": 11, \"36\": 5, \"6\": 5, \"94\": 8, \"10\": 1, \"15\": 1, \"82\": 1}, \"51\": {\"59\": 2, \"51\": 5, \"31\": 1, \"98\": 1, \"71\": 1, \"106\": 2, \"75\": 1, \"25\": 1, \"23\": 1, \"94\": 1}, \"22\": {\"93\": 1, \"22\": 6, \"5\": 1, \"90\": 1, \"128\": 1, \"79\": 1, \"21\": 1, \"0\": 1, \"89\": 2, \"44\": 1}, \"54\": {\"54\": 15, \"36\": 1}, \"66\": {\"66\": 7, \"93\": 2, \"99\": 1, \"20\": 1, \"126\": 1, \"38\": 1, \"35\": 1, \"80\": 2}, \"59\": {\"111\": 2, \"59\": 5, \"6\": 2, \"15\": 2, \"93\": 1}, \"111\": {\"111\": 82, \"6\": 1, \"52\": 1, \"55\": 1, \"12\": 10, \"9\": 1, \"30\": 2, \"29\": 2, \"1\": 2, \"8\": 1, \"15\": 2, \"10\": 2, \"4\": 4, \"127\": 6, \"5\": 1, \"36\": 1, \"27\": 2, \"101\": 1, \"68\": 1, \"97\": 1, \"95\": 1, \"11\": 1, \"0\": 1, \"114\": 1}, \"77\": {\"77\": 9, \"15\": 1, \"8\": 1, \"30\": 1}, \"103\": {\"103\": 10, \"107\": 2, \"30\": 1, \"34\": 1, \"4\": 1, \"95\": 1}, \"20\": {\"74\": 2, \"119\": 1, \"20\": 7, \"66\": 1, \"63\": 1, \"43\": 1, \"44\": 2, \"126\": 1}, \"124\": {\"124\": 63, \"107\": 6, \"129\": 1, \"116\": 1, \"12\": 3, \"60\": 1, \"43\": 2, \"4\": 4, \"27\": 1, \"10\": 3, \"90\": 1, \"87\": 1, \"111\": 2, \"18\": 1, \"98\": 1, \"24\": 2, \"105\": 2, \"40\": 3, \"33\": 1, \"106\": 6, \"59\": 1, \"56\": 1, \"71\": 1, \"0\": 2, \"36\": 1, \"102\": 2, \"1\": 2, \"108\": 2, \"8\": 1, \"114\": 1, \"93\": 1}, \"99\": {\"99\": 32, \"38\": 2, \"78\": 2, \"21\": 1, \"43\": 1, \"113\": 1, \"126\": 1}, \"120\": {\"96\": 1, \"120\": 13, \"100\": 1, \"99\": 1, \"113\": 2, \"21\": 1, \"93\": 1}, \"76\": {\"76\": 6, \"109\": 1, \"37\": 1, \"116\": 1, \"81\": 1, \"123\": 2, \"80\": 1, \"120\": 1, \"65\": 1, \"79\": 1}, \"110\": {\"119\": 4, \"74\": 1, \"93\": 5, \"120\": 1, \"22\": 1, \"128\": 1, \"110\": 31, \"2\": 2, \"33\": 5, \"18\": 2, \"122\": 3, \"113\": 5, \"44\": 1, \"14\": 4, \"16\": 1, \"108\": 2, \"88\": 4, \"43\": 6, \"39\": 2, \"90\": 8, \"5\": 2, \"118\": 2, \"84\": 2, \"126\": 4, \"99\": 2, \"87\": 3, \"72\": 1, \"0\": 1, \"109\": 3, \"102\": 2, \"11\": 3, \"3\": 2}, \"29\": {\"29\": 26, \"86\": 1, \"4\": 1, \"90\": 1, \"41\": 1, \"12\": 2}, \"118\": {\"96\": 1, \"109\": 7, \"102\": 9, \"93\": 5, \"126\": 3, \"45\": 1, \"44\": 1, \"43\": 1, \"108\": 2, \"69\": 7, \"73\": 3, \"107\": 4, \"118\": 22, \"90\": 4, \"26\": 1, \"113\": 4, \"33\": 4, \"5\": 2, \"16\": 2, \"18\": 3, \"110\": 3, \"84\": 4, \"117\": 1, \"99\": 3, \"21\": 2, \"62\": 3, \"122\": 1, \"14\": 4, \"82\": 1, \"39\": 1, \"88\": 1, \"87\": 2}, \"58\": {\"58\": 10, \"112\": 1, \"88\": 1, \"9\": 1, \"38\": 1, \"52\": 1, \"41\": 1}, \"13\": {\"13\": 9, \"83\": 1, \"122\": 1, \"14\": 2, \"94\": 1, \"117\": 2}, \"89\": {\"89\": 27, \"74\": 1, \"32\": 1, \"11\": 1, \"22\": 1, \"70\": 1}, \"31\": {\"31\": 9, \"89\": 1, \"107\": 1, \"115\": 1, \"80\": 1, \"4\": 1, \"92\": 1, \"33\": 1}, \"64\": {\"64\": 11, \"31\": 1, \"28\": 1, \"35\": 1, \"80\": 1, \"81\": 1}, \"65\": {\"65\": 10, \"63\": 1, \"81\": 1}, \"101\": {\"101\": 47, \"95\": 1, \"86\": 1, \"55\": 2, \"123\": 1, \"3\": 3, \"8\": 6, \"27\": 4, \"41\": 1, \"72\": 1, \"7\": 9, \"71\": 3, \"98\": 1, \"43\": 3, \"127\": 8, \"70\": 6, \"93\": 1, \"1\": 6, \"0\": 4, \"111\": 3, \"12\": 3, \"110\": 1, \"88\": 1, \"90\": 3, \"85\": 1, \"119\": 1, \"50\": 1, \"52\": 1, \"83\": 1, \"10\": 2, \"108\": 1, \"128\": 1, \"102\": 1, \"114\": 2, \"5\": 1}, \"126\": {\"126\": 48, \"99\": 3, \"63\": 2, \"2\": 1, \"10\": 1, \"21\": 5, \"113\": 11, \"93\": 9, \"87\": 1, \"44\": 3, \"16\": 1, \"118\": 2, \"88\": 4, \"110\": 8, \"90\": 4, \"108\": 2, \"0\": 2, \"72\": 2, \"109\": 7, \"122\": 1, \"43\": 1}, \"108\": {\"5\": 3, \"21\": 1, \"70\": 2, \"113\": 3, \"88\": 7, \"99\": 1, \"108\": 20, \"80\": 2, \"11\": 3, \"62\": 1, \"39\": 2, \"3\": 1, \"27\": 2, \"109\": 7, \"126\": 3, \"0\": 2, \"125\": 1, \"12\": 1, \"69\": 1, \"84\": 1, \"90\": 1, \"110\": 6, \"38\": 1, \"43\": 3, \"128\": 2, \"19\": 1, \"129\": 1, \"87\": 2, \"118\": 1, \"10\": 1, \"34\": 1, \"72\": 1, \"18\": 1, \"8\": 1, \"93\": 5}, \"45\": {\"45\": 9, \"92\": 2, \"14\": 1, \"121\": 1, \"37\": 2, \"26\": 1}, \"21\": {\"21\": 26, \"35\": 1, \"99\": 1, \"113\": 2, \"108\": 4, \"38\": 2, \"78\": 1, \"93\": 2, \"39\": 1}, \"30\": {\"108\": 1, \"30\": 20, \"72\": 1, \"85\": 1, \"111\": 2, \"8\": 3, \"113\": 1, \"12\": 4, \"97\": 2, \"51\": 1, \"106\": 2, \"41\": 1, \"88\": 4, \"18\": 1, \"10\": 2, \"127\": 5, \"0\": 1, \"98\": 4, \"27\": 1, \"101\": 2, \"7\": 1, \"15\": 3, \"68\": 2, \"58\": 1, \"87\": 2, \"77\": 1, \"1\": 1, \"6\": 2, \"70\": 1, \"125\": 1, \"36\": 1, \"110\": 1}, \"82\": {\"82\": 15, \"33\": 4, \"55\": 1, \"84\": 1, \"27\": 1, \"12\": 1, \"98\": 1, \"40\": 1, \"118\": 2, \"107\": 2, \"11\": 1, \"129\": 1, \"43\": 1}, \"85\": {\"83\": 1, \"85\": 8, \"77\": 4, \"112\": 2, \"5\": 1, \"100\": 1, \"91\": 3, \"86\": 1, \"27\": 1, \"97\": 2, \"98\": 1, \"101\": 2, \"8\": 1}, \"88\": {\"126\": 1, \"83\": 1, \"122\": 2, \"44\": 3, \"21\": 6, \"88\": 33, \"99\": 6, \"7\": 2, \"49\": 2, \"53\": 1, \"78\": 1, \"120\": 2, \"72\": 2, \"42\": 3, \"98\": 2, \"8\": 2, \"109\": 5, \"108\": 10, \"71\": 1, \"90\": 9, \"87\": 3, \"101\": 3, \"39\": 3, \"0\": 3, \"110\": 4, \"70\": 1, \"93\": 8, \"80\": 1, \"112\": 1, \"38\": 1, \"27\": 2, \"11\": 2, \"118\": 1, \"121\": 1, \"10\": 2, \"43\": 1, \"106\": 1}, \"41\": {\"15\": 2, \"127\": 1, \"98\": 2, \"97\": 1, \"111\": 1, \"41\": 3, \"72\": 1, \"30\": 3, \"34\": 1, \"52\": 1}, \"128\": {\"89\": 1, \"128\": 8, \"50\": 1, \"8\": 1, \"22\": 1, \"60\": 2, \"72\": 2, \"44\": 1, \"88\": 2, \"99\": 1, \"27\": 1, \"113\": 1, \"108\": 2}, \"39\": {\"2\": 2, \"43\": 2, \"102\": 1, \"39\": 24, \"109\": 5, \"69\": 1, \"84\": 3, \"44\": 2, \"21\": 2, \"18\": 5, \"113\": 7, \"62\": 2, \"93\": 3, \"16\": 3, \"70\": 2, \"117\": 6, \"108\": 5, \"90\": 8, \"14\": 4, \"110\": 1, \"26\": 3, \"88\": 1, \"126\": 2, \"87\": 1, \"81\": 1, \"32\": 1, \"27\": 1, \"72\": 2}, \"18\": {\"2\": 2, \"18\": 90, \"16\": 8, \"84\": 3, \"118\": 2, \"26\": 5, \"39\": 4, \"108\": 1, \"102\": 1, \"109\": 2, \"126\": 1, \"117\": 1}, \"113\": {\"39\": 2, \"43\": 2, \"113\": 65, \"26\": 3, \"93\": 4, \"53\": 1, \"62\": 4, \"128\": 3, \"80\": 3, \"109\": 8, \"44\": 3, \"108\": 2, \"126\": 3, \"110\": 6, \"90\": 4, \"16\": 1, \"88\": 4, \"119\": 1, \"23\": 1, \"120\": 1, \"87\": 1, \"118\": 1, \"122\": 1, \"18\": 2, \"5\": 1, \"11\": 1}, \"11\": {\"28\": 1, \"32\": 1, \"113\": 5, \"5\": 8, \"7\": 1, \"11\": 39, \"110\": 10, \"82\": 1, \"70\": 8, \"73\": 1, \"93\": 8, \"27\": 3, \"44\": 2, \"1\": 1, \"109\": 5, \"8\": 1, \"126\": 1, \"33\": 4, \"88\": 3, \"90\": 5, \"118\": 2, \"87\": 4, \"0\": 2, \"62\": 2, \"13\": 1, \"83\": 1, \"122\": 3, \"3\": 4, \"2\": 1, \"108\": 2, \"69\": 1, \"99\": 2, \"39\": 1, \"43\": 2, \"102\": 1, \"14\": 1}, \"43\": {\"84\": 4, \"33\": 9, \"90\": 5, \"38\": 1, \"43\": 19, \"93\": 2, \"50\": 2, \"118\": 2, \"110\": 3, \"82\": 1, \"105\": 3, \"113\": 6, \"72\": 2, \"71\": 4, \"40\": 6, \"87\": 3, \"108\": 1, \"16\": 1, \"109\": 6, \"88\": 8, \"126\": 2, \"39\": 5, \"124\": 1, \"107\": 4, \"10\": 1, \"21\": 4, \"102\": 2, \"129\": 1, \"49\": 1, \"89\": 1, \"99\": 1, \"121\": 2, \"114\": 1, \"70\": 1, \"11\": 2, \"3\": 1, \"1\": 2}, \"12\": {\"12\": 52, \"85\": 1, \"5\": 1, \"15\": 4, \"71\": 2, \"29\": 2, \"114\": 3, \"111\": 8, \"127\": 6, \"41\": 1, \"30\": 1, \"7\": 1, \"4\": 1, \"98\": 1, \"106\": 7, \"1\": 1, \"10\": 3, \"68\": 1, \"9\": 1, \"11\": 1, \"70\": 1, \"117\": 1}, \"122\": {\"14\": 7, \"122\": 12, \"93\": 1, \"80\": 1, \"115\": 2, \"13\": 2, \"10\": 1, \"109\": 4, \"33\": 4, \"129\": 2, \"113\": 4, \"21\": 1, \"88\": 3, \"16\": 3, \"117\": 5, \"126\": 5, \"90\": 2, \"118\": 3, \"108\": 3, \"44\": 3, \"73\": 2, \"99\": 1, \"11\": 2, \"42\": 1, \"39\": 2, \"102\": 3, \"121\": 1, \"110\": 1, \"26\": 1, \"116\": 1, \"87\": 1}, \"52\": {\"52\": 15, \"34\": 1, \"29\": 1, \"9\": 1, \"58\": 1, \"51\": 1}, \"44\": {\"44\": 49, \"93\": 6, \"90\": 2, \"43\": 2, \"5\": 1, \"88\": 1, \"99\": 2, \"108\": 1}, \"90\": {\"90\": 107, \"21\": 1, \"43\": 2, \"99\": 5, \"108\": 1, \"39\": 3, \"5\": 3, \"1\": 1, \"110\": 2, \"128\": 1, \"44\": 2, \"121\": 1, \"93\": 3, \"109\": 1, \"18\": 1}, \"112\": {\"112\": 14, \"3\": 1, \"88\": 1}, \"86\": {\"112\": 2, \"86\": 17, \"78\": 1, \"114\": 1, \"27\": 2, \"70\": 1, \"101\": 1, \"53\": 1, \"85\": 1, \"49\": 1}, \"3\": {\"3\": 64, \"78\": 2, \"71\": 2, \"114\": 3, \"7\": 6, \"70\": 6, \"5\": 4, \"1\": 4, \"113\": 1, \"43\": 4, \"101\": 2, \"39\": 1, \"0\": 3, \"87\": 3, \"8\": 2, \"46\": 1, \"85\": 1, \"49\": 1, \"105\": 2, \"27\": 1, \"88\": 1, \"90\": 2}, \"38\": {\"38\": 14, \"80\": 1, \"99\": 1}, \"121\": {\"38\": 2, \"113\": 3, \"116\": 2, \"45\": 1, \"22\": 1, \"126\": 1, \"121\": 5, \"122\": 1, \"72\": 2, \"44\": 3, \"69\": 3, \"120\": 2, \"128\": 1, \"119\": 2, \"39\": 1, \"107\": 1, \"93\": 1}, \"46\": {\"108\": 1, \"113\": 1, \"30\": 2, \"1\": 2, \"46\": 4, \"105\": 2, \"43\": 1, \"41\": 1, \"4\": 2, \"37\": 1, \"107\": 2, \"8\": 1}, \"70\": {\"113\": 7, \"111\": 1, \"99\": 2, \"70\": 18, \"86\": 2, \"60\": 1, \"71\": 4, \"98\": 6, \"11\": 1, \"114\": 12, \"39\": 1, \"21\": 2, \"3\": 3, \"93\": 4, \"106\": 3, \"90\": 9, \"108\": 1, \"10\": 3, \"8\": 5, \"0\": 5, \"88\": 2, \"1\": 2, \"105\": 1, \"101\": 3, \"109\": 5, \"40\": 2, \"68\": 1, \"119\": 1, \"89\": 1, \"63\": 1, \"127\": 1, \"49\": 1, \"7\": 3, \"12\": 1, \"24\": 2, \"122\": 1, \"43\": 1, \"110\": 1, \"33\": 1, \"126\": 1, \"124\": 1, \"87\": 1}, \"67\": {\"87\": 1, \"113\": 2, \"81\": 2, \"110\": 1, \"17\": 1, \"83\": 1, \"16\": 1, \"102\": 1, \"123\": 2, \"57\": 1, \"32\": 1, \"67\": 1, \"28\": 1}, \"53\": {\"53\": 16}, \"49\": {\"93\": 1, \"42\": 1, \"88\": 1, \"49\": 5, \"105\": 2, \"98\": 3, \"53\": 1, \"100\": 1, \"86\": 2, \"7\": 2, \"44\": 3, \"43\": 1, \"78\": 1, \"101\": 1, \"72\": 2, \"70\": 1, \"10\": 1, \"85\": 2, \"83\": 1}, \"42\": {\"93\": 2, \"53\": 2, \"72\": 3, \"52\": 1, \"7\": 2, \"124\": 1, \"60\": 2, \"21\": 1, \"80\": 2, \"44\": 1, \"128\": 1, \"99\": 2, \"89\": 1, \"11\": 1, \"108\": 1, \"87\": 1, \"42\": 3, \"116\": 1}, \"10\": {\"93\": 6, \"38\": 1, \"99\": 5, \"107\": 1, \"55\": 1, \"75\": 2, \"10\": 20, \"7\": 5, \"72\": 2, \"24\": 9, \"90\": 3, \"125\": 9, \"43\": 2, \"36\": 8, \"126\": 3, \"109\": 4, \"30\": 1, \"94\": 3, \"15\": 3, \"70\": 1, \"108\": 2, \"4\": 2, \"27\": 1, \"106\": 3, \"113\": 2, \"3\": 1, \"128\": 2, \"98\": 2, \"11\": 1, \"88\": 4, \"34\": 1, \"2\": 1, \"60\": 1, \"101\": 2, \"5\": 1, \"26\": 1, \"39\": 1, \"8\": 1}, \"50\": {\"50\": 12, \"87\": 1, \"86\": 1, \"84\": 1, \"30\": 1}, \"73\": {\"37\": 1, \"73\": 14, \"33\": 2, \"43\": 1, \"14\": 1, \"24\": 1, \"96\": 1, \"40\": 1, \"28\": 1, \"84\": 1}, \"115\": {\"115\": 6, \"88\": 1, \"40\": 2, \"87\": 2, \"103\": 1, \"109\": 1, \"96\": 1, \"120\": 1, \"102\": 1}, \"80\": {\"80\": 11, \"106\": 1, \"44\": 2, \"21\": 2}, \"19\": {\"19\": 3, \"4\": 3, \"38\": 1, \"46\": 1, \"103\": 1, \"113\": 2, \"52\": 1, \"128\": 1, \"72\": 1, \"99\": 2, \"10\": 2, \"40\": 1, \"90\": 1, \"101\": 1, \"107\": 1, \"105\": 2, \"93\": 2, \"7\": 1, \"126\": 1}, \"55\": {\"4\": 1, \"55\": 13, \"95\": 1, \"105\": 1}, \"72\": {\"72\": 23, \"128\": 1, \"19\": 1, \"106\": 1, \"80\": 1, \"113\": 1, \"43\": 1, \"93\": 2, \"101\": 1}, \"117\": {\"117\": 76, \"65\": 1, \"81\": 3, \"84\": 5, \"26\": 7, \"122\": 1, \"39\": 2, \"18\": 4, \"69\": 1, \"33\": 1, \"118\": 1, \"102\": 4, \"2\": 2, \"14\": 3, \"62\": 1, \"108\": 1, \"16\": 3}, \"81\": {\"81\": 18, \"63\": 2, \"99\": 1, \"80\": 2, \"113\": 2, \"16\": 1, \"67\": 1, \"21\": 1, \"18\": 2, \"109\": 4, \"118\": 1, \"122\": 1}, \"75\": {\"75\": 14, \"111\": 1, \"12\": 1}, \"98\": {\"29\": 1, \"98\": 83, \"70\": 4, \"30\": 7, \"10\": 2, \"27\": 4, \"0\": 2, \"15\": 3, \"101\": 4, \"1\": 1, \"8\": 1, \"25\": 2, \"52\": 1, \"24\": 1, \"106\": 2, \"108\": 1, \"111\": 1}, \"48\": {\"48\": 13, \"128\": 1, \"62\": 1, \"92\": 1}, \"129\": {\"114\": 2, \"129\": 8, \"127\": 1, \"105\": 3, \"10\": 2, \"116\": 1, \"33\": 1, \"93\": 1, \"32\": 1, \"81\": 1, \"3\": 1, \"110\": 1, \"101\": 1, \"2\": 2, \"4\": 1, \"118\": 1}, \"97\": {\"30\": 2, \"12\": 1, \"19\": 1, \"9\": 1, \"24\": 2, \"36\": 1, \"101\": 1, \"97\": 3, \"4\": 1, \"94\": 1, \"47\": 2, \"8\": 1, \"25\": 1, \"49\": 1, \"59\": 1}}, \"C_1\": {\"41\": {\"41\": 18, \"2\": 1, \"56\": 1, \"53\": 2, \"14\": 2}, \"40\": {\"40\": 73, \"4\": 13, \"44\": 1, \"13\": 1, \"29\": 14, \"46\": 2, \"56\": 2, \"50\": 1, \"3\": 1, \"57\": 1, \"19\": 1}, \"45\": {\"45\": 120, \"25\": 4, \"9\": 2, \"19\": 1, \"5\": 6, \"55\": 1, \"1\": 2, \"33\": 1, \"51\": 1}, \"51\": {\"53\": 8, \"51\": 132, \"1\": 1, \"5\": 1, \"57\": 1, \"19\": 2, \"48\": 1, \"16\": 1, \"50\": 1}, \"5\": {\"5\": 142, \"14\": 1, \"17\": 1, \"48\": 3, \"53\": 2, \"9\": 3, \"6\": 2}, \"30\": {\"30\": 108, \"9\": 6, \"17\": 1, \"5\": 1, \"26\": 1, \"8\": 1, \"18\": 2}, \"42\": {\"45\": 3, \"42\": 31, \"7\": 1, \"19\": 4, \"34\": 1}, \"46\": {\"5\": 19, \"48\": 9, \"2\": 3, \"17\": 5, \"13\": 2, \"46\": 40, \"6\": 5, \"37\": 2, \"14\": 1, \"45\": 5, \"9\": 1, \"51\": 3, \"29\": 3, \"4\": 5, \"50\": 7, \"53\": 3, \"44\": 1, \"8\": 4, \"23\": 2, \"54\": 2, \"57\": 2, \"19\": 3, \"55\": 1, \"1\": 1, \"7\": 1, \"42\": 2, \"56\": 3, \"20\": 1}, \"48\": {\"48\": 103, \"6\": 9, \"8\": 11, \"50\": 5, \"53\": 5, \"5\": 1}, \"53\": {\"53\": 124, \"17\": 2, \"2\": 3, \"14\": 2, \"1\": 2, \"19\": 5, \"48\": 2, \"45\": 1, \"6\": 2, \"8\": 1}, \"47\": {\"29\": 3, \"47\": 104, \"11\": 2, \"49\": 3, \"38\": 4, \"22\": 3, \"44\": 15, \"27\": 2, \"10\": 1, \"56\": 1, \"15\": 7, \"52\": 4, \"42\": 1, \"21\": 1, \"3\": 1}, \"49\": {\"49\": 20, \"52\": 5, \"38\": 1, \"24\": 2, \"39\": 1, \"11\": 1, \"22\": 2}, \"36\": {\"36\": 63, \"54\": 1}, \"32\": {\"32\": 31, \"7\": 1}, \"34\": {\"34\": 24}, \"29\": {\"46\": 6, \"29\": 90, \"19\": 2, \"1\": 3, \"56\": 6, \"44\": 7, \"47\": 5, \"40\": 5, \"11\": 2, \"3\": 1, \"4\": 10, \"57\": 2, \"55\": 1}, \"35\": {\"44\": 3, \"35\": 23, \"19\": 4, \"57\": 2, \"1\": 1, \"55\": 1, \"42\": 1, \"32\": 1}, \"3\": {\"3\": 110, \"55\": 4, \"24\": 3, \"29\": 4, \"40\": 3, \"44\": 2, \"47\": 5, \"4\": 1, \"21\": 1, \"52\": 1}, \"16\": {\"54\": 6, \"33\": 4, \"16\": 124, \"55\": 5, \"45\": 1}, \"26\": {\"26\": 17, \"25\": 2, \"32\": 1, \"17\": 3, \"7\": 1}, \"57\": {\"57\": 78, \"32\": 1, \"19\": 15, \"45\": 7, \"1\": 13, \"7\": 1, \"56\": 9, \"46\": 1, \"48\": 3, \"25\": 3, \"5\": 7, \"55\": 1, \"42\": 2, \"2\": 2, \"6\": 1}, \"44\": {\"44\": 36, \"11\": 4, \"46\": 2, \"49\": 1, \"15\": 9, \"57\": 13, \"22\": 4, \"2\": 1, \"19\": 4, \"47\": 12, \"56\": 13, \"1\": 7, \"45\": 2, \"54\": 1, \"29\": 1, \"35\": 4, \"23\": 3, \"27\": 1, \"5\": 1, \"25\": 1, \"21\": 2, \"52\": 2, \"53\": 1, \"48\": 1, \"51\": 2}, \"0\": {\"0\": 134, \"36\": 3, \"21\": 1, \"34\": 1, \"55\": 1, \"16\": 4, \"54\": 5, \"23\": 2, \"15\": 1}, \"4\": {\"4\": 99, \"20\": 1, \"46\": 9, \"29\": 15, \"13\": 2, \"12\": 2, \"56\": 1, \"21\": 1, \"40\": 1, \"54\": 1}, \"31\": {\"31\": 24, \"38\": 2, \"44\": 1, \"11\": 1}, \"11\": {\"11\": 90, \"52\": 6, \"38\": 3, \"22\": 17, \"51\": 2, \"21\": 5, \"15\": 12, \"12\": 2, \"23\": 2, \"24\": 1}, \"6\": {\"48\": 8, \"6\": 59, \"8\": 15, \"45\": 2, \"57\": 2, \"17\": 2, \"2\": 1, \"5\": 4, \"9\": 1, \"53\": 1, \"19\": 1}, \"54\": {\"54\": 97, \"55\": 5, \"5\": 1, \"16\": 1}, \"17\": {\"2\": 3, \"17\": 45, \"9\": 2, \"6\": 2, \"5\": 2, \"30\": 1, \"8\": 7, \"14\": 1, \"25\": 1}, \"20\": {\"20\": 110, \"36\": 1, \"12\": 11, \"13\": 3, \"51\": 3}, \"13\": {\"13\": 143, \"20\": 6, \"56\": 1}, \"33\": {\"33\": 31, \"37\": 1}, \"24\": {\"52\": 10, \"24\": 81, \"22\": 6, \"10\": 6, \"15\": 1, \"11\": 4}, \"52\": {\"24\": 21, \"39\": 3, \"52\": 67, \"27\": 7, \"49\": 3, \"11\": 9, \"22\": 14, \"10\": 6, \"15\": 2}, \"2\": {\"2\": 36}, \"19\": {\"19\": 123, \"1\": 4, \"6\": 1, \"2\": 4, \"17\": 1, \"18\": 1, \"45\": 1, \"5\": 4, \"57\": 10, \"48\": 1, \"30\": 1, \"14\": 2, \"9\": 1, \"8\": 1, \"51\": 1}, \"39\": {\"39\": 26, \"27\": 1, \"10\": 1}, \"8\": {\"8\": 129, \"30\": 5, \"6\": 3, \"48\": 1, \"53\": 1, \"5\": 1}, \"21\": {\"23\": 21, \"21\": 73, \"36\": 5, \"0\": 6, \"15\": 7, \"16\": 5, \"55\": 5, \"22\": 1, \"54\": 1}, \"10\": {\"10\": 77, \"49\": 1, \"27\": 2, \"24\": 8, \"52\": 4, \"11\": 2, \"38\": 1, \"22\": 1}, \"37\": {\"37\": 32}, \"25\": {\"25\": 132, \"9\": 2, \"5\": 2, \"17\": 3, \"48\": 1, \"26\": 2, \"6\": 2}, \"27\": {\"27\": 124, \"24\": 3, \"52\": 2, \"11\": 1}, \"23\": {\"23\": 113, \"37\": 1, \"34\": 1, \"21\": 6, \"16\": 4, \"36\": 6, \"55\": 4, \"25\": 1}, \"1\": {\"19\": 8, \"1\": 71, \"57\": 7, \"42\": 3, \"56\": 5, \"45\": 1, \"17\": 2, \"14\": 2, \"55\": 1}, \"50\": {\"50\": 143, \"17\": 1, \"48\": 7, \"6\": 1}, \"12\": {\"12\": 90, \"51\": 9, \"7\": 1, \"36\": 3, \"55\": 3, \"54\": 3, \"20\": 2, \"16\": 1, \"1\": 1, \"53\": 1, \"19\": 1, \"57\": 1}, \"18\": {\"18\": 61, \"32\": 1, \"30\": 2, \"25\": 3, \"9\": 3, \"34\": 1, \"55\": 1}, \"38\": {\"49\": 1, \"38\": 19, \"11\": 2, \"23\": 1, \"22\": 1}, \"14\": {\"57\": 1, \"30\": 2, \"56\": 1, \"18\": 5, \"9\": 3, \"19\": 1, \"14\": 9, \"8\": 1, \"34\": 1}, \"56\": {\"57\": 22, \"56\": 43, \"1\": 17, \"42\": 1, \"51\": 1, \"22\": 1, \"19\": 34, \"45\": 7, \"17\": 1, \"7\": 1, \"20\": 1, \"12\": 1, \"44\": 1, \"25\": 1, \"53\": 2, \"5\": 6, \"15\": 1, \"21\": 1}, \"55\": {\"55\": 118, \"54\": 14, \"23\": 3, \"42\": 5, \"7\": 2, \"36\": 1, \"9\": 1, \"45\": 6, \"21\": 1, \"5\": 7, \"30\": 1, \"15\": 1}, \"9\": {\"9\": 121, \"26\": 1, \"14\": 1, \"6\": 2, \"30\": 4, \"5\": 1, \"8\": 5, \"17\": 1, \"25\": 1, \"45\": 1}, \"15\": {\"15\": 114, \"37\": 1, \"21\": 7, \"22\": 5, \"0\": 4, \"55\": 2, \"23\": 6, \"34\": 1, \"36\": 3, \"54\": 1, \"16\": 2}, \"28\": {\"28\": 28}, \"7\": {\"7\": 28}, \"43\": {\"43\": 135, \"27\": 1}, \"22\": {\"22\": 80, \"21\": 4, \"47\": 1, \"24\": 3, \"52\": 7, \"11\": 18, \"0\": 5, \"15\": 10, \"23\": 2, \"51\": 1, \"49\": 2, \"10\": 1, \"16\": 2}}, \"W_1\": {\"105\": {\"93\": 2, \"105\": 38, \"114\": 10, \"84\": 5, \"9\": 1, \"5\": 6, \"83\": 1, \"24\": 1, \"40\": 7, \"122\": 1, \"107\": 2, \"110\": 1, \"106\": 1, \"127\": 1, \"46\": 1, \"72\": 1, \"129\": 1, \"4\": 2, \"87\": 1, \"124\": 1}, \"100\": {\"100\": 9, \"67\": 1, \"82\": 2, \"62\": 3, \"28\": 1}, \"112\": {\"112\": 13, \"88\": 1, \"37\": 1, \"59\": 1}, \"123\": {\"123\": 8, \"122\": 1, \"33\": 1, \"95\": 1, \"67\": 1, \"14\": 1, \"2\": 1, \"113\": 1, \"99\": 1}, \"13\": {\"100\": 1, \"13\": 9, \"26\": 3, \"11\": 2, \"33\": 1}, \"81\": {\"81\": 14, \"100\": 2, \"67\": 2, \"14\": 2, \"118\": 1, \"62\": 1, \"19\": 1, \"70\": 1, \"33\": 2, \"26\": 1, \"16\": 1}, \"124\": {\"81\": 1, \"124\": 66, \"72\": 2, \"4\": 4, \"40\": 7, \"108\": 2, \"7\": 1, \"107\": 5, \"24\": 1, \"70\": 1, \"84\": 6, \"15\": 1, \"8\": 2, \"110\": 2, \"102\": 2, \"114\": 5, \"12\": 1, \"88\": 1, \"93\": 2, \"127\": 1, \"83\": 1, \"34\": 1, \"10\": 1, \"87\": 1, \"33\": 1, \"106\": 1, \"90\": 1}, \"122\": {\"122\": 21, \"87\": 1, \"100\": 2, \"114\": 2, \"96\": 2, \"81\": 3, \"14\": 4, \"25\": 1, \"39\": 1, \"33\": 3, \"129\": 3, \"72\": 1, \"116\": 1, \"102\": 4, \"44\": 5, \"84\": 5, \"11\": 3, \"12\": 1, \"43\": 5, \"7\": 1, \"126\": 1, \"70\": 3, \"83\": 1, \"10\": 4, \"82\": 4, \"3\": 2, \"18\": 4}, \"111\": {\"111\": 83, \"88\": 4, \"32\": 3, \"127\": 6, \"26\": 1, \"27\": 1, \"10\": 1, \"71\": 4, \"98\": 2, \"106\": 2, \"0\": 1, \"12\": 2, \"110\": 2, \"70\": 1, \"6\": 2, \"15\": 1, \"4\": 1, \"101\": 1, \"105\": 1, \"11\": 1}, \"93\": {\"105\": 3, \"86\": 1, \"48\": 1, \"93\": 27, \"40\": 2, \"5\": 7, \"64\": 2, \"71\": 1, \"107\": 6, \"127\": 1, \"44\": 2, \"18\": 2, \"72\": 1, \"99\": 1, \"7\": 13, \"8\": 4, \"122\": 1, \"4\": 1, \"21\": 2, \"9\": 1, \"10\": 5, \"0\": 5, \"101\": 2, \"87\": 5, \"43\": 4, \"3\": 1, \"109\": 7, \"106\": 11, \"70\": 3, \"110\": 12, \"1\": 1, \"114\": 7, \"108\": 3, \"126\": 5, \"115\": 1, \"28\": 1, \"128\": 1, \"90\": 2, \"32\": 1, \"98\": 1, \"12\": 1}, \"106\": {\"86\": 1, \"106\": 51, \"127\": 9, \"47\": 1, \"31\": 1, \"17\": 3, \"4\": 6, \"93\": 5, \"12\": 5, \"89\": 1, \"107\": 5, \"110\": 8, \"105\": 3, \"111\": 1, \"114\": 1, \"101\": 2, \"71\": 2, \"18\": 1, \"5\": 1, \"32\": 1, \"68\": 2, \"27\": 1, \"44\": 1, \"98\": 2, \"113\": 1, \"39\": 1, \"88\": 2}, \"113\": {\"113\": 75, \"66\": 1, \"65\": 3, \"16\": 8, \"33\": 2, \"69\": 5, \"14\": 1, \"117\": 6, \"118\": 2, \"18\": 7, \"102\": 1, \"8\": 1, \"62\": 4, \"50\": 1, \"61\": 2, \"26\": 1, \"76\": 1, \"11\": 1, \"39\": 1, \"3\": 1}, \"95\": {\"95\": 21, \"104\": 1, \"38\": 2, \"7\": 1, \"113\": 1, \"8\": 1, \"11\": 1, \"33\": 1, \"67\": 1, \"18\": 1, \"118\": 2, \"124\": 1, \"117\": 1, \"109\": 1}, \"87\": {\"87\": 20, \"113\": 1, \"114\": 10, \"109\": 8, \"62\": 1, \"80\": 1, \"78\": 1, \"108\": 2, \"1\": 3, \"7\": 3, \"84\": 5, \"18\": 7, \"70\": 4, \"44\": 5, \"5\": 1, \"43\": 3, \"11\": 2, \"40\": 4, \"105\": 4, \"110\": 1, \"8\": 1, \"10\": 4, \"64\": 1, \"66\": 2, \"93\": 3, \"32\": 1, \"29\": 1, \"85\": 1, \"126\": 1, \"122\": 2, \"106\": 2, \"124\": 1, \"90\": 2}, \"86\": {\"106\": 1, \"86\": 8, \"53\": 2, \"96\": 1, \"72\": 1, \"70\": 3, \"27\": 1, \"85\": 1, \"91\": 1, \"126\": 3, \"31\": 2, \"0\": 1, \"108\": 3, \"52\": 1, \"83\": 1, \"103\": 1, \"8\": 1, \"97\": 1, \"93\": 2, \"10\": 1}, \"67\": {\"67\": 14, \"118\": 1, \"33\": 1}, \"85\": {\"85\": 19, \"55\": 3, \"103\": 1, \"86\": 3, \"70\": 1, \"52\": 1, \"1\": 1, \"5\": 1, \"87\": 2}, \"82\": {\"82\": 22, \"14\": 2, \"19\": 1, \"81\": 1, \"33\": 5, \"80\": 2, \"43\": 1, \"122\": 1, \"11\": 1}, \"115\": {\"115\": 11, \"10\": 1}, \"7\": {\"7\": 80, \"48\": 2, \"104\": 2, \"128\": 1, \"99\": 1, \"0\": 1, \"87\": 2, \"5\": 1, \"10\": 9, \"44\": 4, \"90\": 6, \"126\": 8, \"8\": 1, \"109\": 12, \"108\": 3, \"28\": 2, \"21\": 1, \"18\": 1, \"39\": 1, \"1\": 1, \"3\": 1, \"43\": 2}, \"44\": {\"44\": 51, \"109\": 10, \"108\": 1, \"18\": 1, \"7\": 3, \"76\": 2, \"64\": 1, \"66\": 1, \"28\": 1, \"126\": 2, \"10\": 3}, \"65\": {\"129\": 1, \"28\": 2, \"65\": 2, \"109\": 1, \"74\": 1, \"14\": 1, \"78\": 1, \"120\": 2, \"113\": 1}, \"129\": {\"16\": 1, \"82\": 1, \"78\": 2, \"84\": 1, \"129\": 8, \"72\": 1, \"27\": 1, \"117\": 2, \"39\": 1, \"33\": 2, \"1\": 1, \"7\": 1, \"69\": 2, \"11\": 1, \"10\": 1, \"92\": 1, \"110\": 1}, \"42\": {\"76\": 1, \"29\": 1, \"0\": 1, \"9\": 1, \"57\": 1, \"90\": 1, \"42\": 10, \"86\": 1, \"73\": 1, \"116\": 1, \"23\": 1, \"83\": 1, \"126\": 3, \"64\": 1, \"8\": 1, \"87\": 2}, \"28\": {\"44\": 2, \"7\": 1, \"28\": 11, \"48\": 2, \"45\": 1, \"64\": 1, \"104\": 1, \"66\": 1}, \"0\": {\"85\": 2, \"0\": 20, \"48\": 1, \"30\": 1, \"19\": 3, \"31\": 2, \"87\": 2, \"73\": 1, \"10\": 3, \"12\": 3, \"15\": 1, \"98\": 5, \"93\": 13, \"126\": 3, \"5\": 1, \"108\": 1, \"70\": 3, \"11\": 1, \"107\": 2, \"101\": 2, \"68\": 1, \"24\": 3, \"72\": 1, \"110\": 3, \"28\": 1, \"17\": 2, \"111\": 1, \"106\": 1, \"1\": 1}, \"10\": {\"28\": 2, \"10\": 62, \"20\": 1, \"44\": 7, \"57\": 3, \"11\": 2, \"126\": 6, \"24\": 2, \"21\": 1, \"18\": 3, \"7\": 6, \"70\": 2, \"93\": 1, \"108\": 7, \"8\": 1, \"90\": 4, \"64\": 1, \"87\": 2, \"32\": 1, \"0\": 1, \"98\": 1, \"109\": 2, \"43\": 2}, \"76\": {\"28\": 2, \"48\": 1, \"76\": 7, \"66\": 2, \"57\": 2, \"21\": 2}, \"88\": {\"88\": 31, \"71\": 2, \"6\": 2, \"108\": 3, \"127\": 2, \"98\": 6, \"35\": 1, \"125\": 12, \"27\": 7, \"30\": 3, \"10\": 2, \"70\": 4, \"12\": 3, \"101\": 9, \"106\": 2, \"94\": 3, \"0\": 1, \"36\": 11, \"90\": 1, \"110\": 4, \"24\": 7, \"93\": 5, \"89\": 1, \"15\": 2, \"126\": 1, \"8\": 1}, \"29\": {\"7\": 1, \"29\": 20, \"72\": 1, \"87\": 1, \"83\": 2, \"17\": 1, \"35\": 2}, \"16\": {\"129\": 2, \"16\": 60, \"102\": 6, \"118\": 9, \"26\": 6, \"69\": 4, \"117\": 6, \"113\": 1, \"33\": 1, \"93\": 1, \"18\": 3, \"61\": 1, \"44\": 1, \"11\": 1, \"39\": 1, \"62\": 4, \"14\": 1}, \"41\": {\"42\": 1, \"41\": 10, \"30\": 1, \"86\": 1, \"29\": 1, \"23\": 1, \"93\": 1}, \"27\": {\"75\": 2, \"51\": 1, \"27\": 39, \"85\": 1, \"97\": 1, \"56\": 2, \"22\": 1, \"94\": 5, \"88\": 3, \"15\": 3, \"98\": 7, \"71\": 4, \"127\": 1, \"111\": 4, \"36\": 3, \"24\": 5, \"101\": 1, \"5\": 1, \"37\": 1, \"49\": 1, \"126\": 1, \"4\": 1, \"125\": 2, \"106\": 1, \"110\": 1}, \"33\": {\"33\": 99, \"82\": 2, \"39\": 1, \"14\": 5, \"62\": 2, \"102\": 2, \"16\": 1, \"69\": 2, \"117\": 1, \"22\": 1, \"118\": 1, \"44\": 1, \"113\": 2}, \"75\": {\"75\": 16}, \"48\": {\"48\": 10, \"126\": 1, \"70\": 1}, \"56\": {\"56\": 7, \"27\": 1, \"92\": 2, \"51\": 1, \"36\": 1}, \"9\": {\"9\": 12, \"75\": 1, \"105\": 1, \"103\": 1, \"106\": 1, \"58\": 1, \"119\": 1, \"54\": 1, \"5\": 2, \"23\": 1, \"51\": 1, \"124\": 1, \"77\": 1, \"110\": 1, \"40\": 2, \"10\": 2, \"29\": 1, \"107\": 1}, \"1\": {\"1\": 83, \"78\": 1, \"87\": 6, \"114\": 2, \"126\": 2, \"96\": 1, \"106\": 1, \"122\": 3, \"128\": 1, \"93\": 3, \"108\": 1, \"70\": 1, \"43\": 5, \"41\": 1, \"104\": 1, \"84\": 8, \"18\": 1, \"90\": 1, \"10\": 1, \"8\": 2, \"124\": 1}, \"39\": {\"48\": 2, \"109\": 7, \"14\": 2, \"61\": 2, \"117\": 8, \"2\": 1, \"39\": 17, \"70\": 2, \"8\": 6, \"3\": 3, \"21\": 1, \"18\": 9, \"113\": 6, \"44\": 1, \"90\": 1, \"16\": 4, \"118\": 4, \"11\": 6, \"33\": 5, \"87\": 1, \"7\": 1, \"43\": 1, \"10\": 2, \"129\": 1, \"115\": 1, \"64\": 2, \"62\": 3, \"120\": 1, \"65\": 1, \"50\": 1, \"13\": 1, \"102\": 1}, \"50\": {\"39\": 2, \"50\": 12, \"11\": 1, \"126\": 1}, \"99\": {\"39\": 2, \"99\": 18, \"18\": 1, \"3\": 2, \"7\": 1}, \"90\": {\"90\": 94, \"57\": 2, \"7\": 5, \"44\": 2, \"21\": 1, \"93\": 1, \"43\": 1, \"108\": 1, \"109\": 8, \"10\": 2, \"126\": 2, \"20\": 1, \"48\": 1, \"18\": 1}, \"45\": {\"104\": 1, \"95\": 1, \"37\": 1, \"45\": 1, \"113\": 2, \"114\": 1, \"13\": 1, \"48\": 2, \"115\": 1, \"39\": 1}, \"5\": {\"5\": 48, \"32\": 2, \"105\": 3, \"101\": 2, \"93\": 8, \"40\": 2, \"70\": 1, \"4\": 5, \"87\": 3, \"0\": 3, \"84\": 2, \"108\": 1, \"8\": 1, \"110\": 2, \"72\": 1, \"55\": 1, \"98\": 1, \"86\": 1, \"114\": 1}, \"128\": {\"128\": 8, \"76\": 2, \"18\": 1, \"70\": 1, \"84\": 1, \"10\": 3, \"7\": 1, \"109\": 1, \"108\": 1, \"115\": 1, \"90\": 1, \"96\": 1, \"126\": 2}, \"2\": {\"128\": 2, \"115\": 1, \"2\": 11, \"74\": 1, \"70\": 1, \"122\": 1, \"50\": 2, \"66\": 1, \"18\": 1, \"39\": 1, \"21\": 1, \"45\": 1, \"10\": 1, \"11\": 2, \"113\": 1, \"121\": 1, \"126\": 1, \"19\": 2}, \"53\": {\"53\": 18, \"75\": 1, \"71\": 1}, \"104\": {\"104\": 12, \"57\": 2, \"108\": 2}, \"32\": {\"32\": 19, \"72\": 1, \"107\": 1, \"127\": 1, \"37\": 1, \"58\": 2, \"111\": 1, \"30\": 2, \"9\": 1, \"15\": 1, \"4\": 2}, \"92\": {\"92\": 23, \"127\": 1, \"46\": 2, \"88\": 1, \"111\": 1}, \"78\": {\"104\": 1, \"129\": 1, \"64\": 1, \"19\": 1, \"78\": 2, \"80\": 1, \"44\": 2, \"102\": 2, \"2\": 2, \"1\": 1, \"110\": 1, \"121\": 1}, \"19\": {\"81\": 3, \"64\": 3, \"115\": 2, \"74\": 2, \"100\": 1, \"3\": 3, \"90\": 1, \"57\": 1, \"89\": 1, \"19\": 2, \"41\": 1, \"6\": 1, \"2\": 1, \"126\": 2, \"84\": 2, \"129\": 1, \"30\": 1}, \"120\": {\"120\": 18, \"116\": 1, \"20\": 1}, \"43\": {\"64\": 2, \"81\": 2, \"21\": 1, \"66\": 1, \"11\": 6, \"3\": 4, \"43\": 20, \"84\": 10, \"7\": 7, \"128\": 1, \"114\": 13, \"18\": 7, \"87\": 5, \"1\": 10, \"109\": 13, \"122\": 1, \"105\": 1, \"93\": 5, \"108\": 2, \"126\": 3, \"10\": 1, \"39\": 2, \"44\": 2, \"40\": 2, \"99\": 1, \"62\": 1, \"90\": 1, \"70\": 2, \"8\": 1, \"110\": 1}, \"74\": {\"74\": 15, \"11\": 1}, \"11\": {\"19\": 2, \"28\": 2, \"64\": 1, \"11\": 36, \"122\": 5, \"3\": 4, \"18\": 6, \"33\": 4, \"44\": 2, \"14\": 4, \"8\": 7, \"113\": 1, \"39\": 7, \"43\": 4, \"93\": 5, \"1\": 3, \"87\": 1, \"108\": 1, \"10\": 3, \"7\": 4, \"109\": 6, \"69\": 2, \"90\": 7, \"70\": 3, \"74\": 2, \"2\": 1, \"48\": 2, \"65\": 1, \"128\": 1, \"78\": 1, \"84\": 1, \"5\": 1}, \"26\": {\"26\": 85, \"69\": 18, \"118\": 5, \"113\": 1, \"95\": 1, \"102\": 8, \"33\": 3, \"18\": 1, \"70\": 1, \"117\": 1, \"126\": 1, \"39\": 2, \"11\": 1, \"16\": 2, \"62\": 2}, \"125\": {\"56\": 1, \"125\": 112, \"88\": 6, \"36\": 6, \"27\": 3, \"59\": 1, \"94\": 2, \"71\": 1}, \"64\": {\"64\": 16}, \"127\": {\"127\": 76, \"58\": 1, \"36\": 1, \"98\": 1, \"106\": 4, \"12\": 5, \"4\": 2, \"111\": 6, \"94\": 2, \"71\": 1, \"110\": 2, \"107\": 1, \"15\": 1, \"108\": 1, \"68\": 2, \"69\": 1, \"125\": 1}, \"83\": {\"103\": 4, \"83\": 8, \"14\": 1, \"9\": 2, \"82\": 1, \"18\": 1, \"1\": 1, \"91\": 1, \"79\": 1, \"98\": 1, \"63\": 1, \"77\": 1, \"26\": 1, \"0\": 1, \"129\": 1, \"80\": 1, \"35\": 1}, \"118\": {\"67\": 1, \"48\": 1, \"13\": 2, \"14\": 1, \"102\": 4, \"66\": 1, \"118\": 30, \"16\": 12, \"33\": 3, \"113\": 2, \"39\": 1, \"10\": 2, \"26\": 4, \"18\": 3, \"117\": 2, \"8\": 2, \"69\": 7, \"81\": 1, \"129\": 1, \"62\": 2, \"70\": 1, \"90\": 1}, \"103\": {\"103\": 7, \"97\": 1, \"77\": 1, \"106\": 1, \"122\": 1, \"36\": 1, \"4\": 1, \"0\": 1, \"34\": 1, \"128\": 1}, \"55\": {\"30\": 1, \"55\": 7, \"40\": 1, \"108\": 1, \"5\": 1, \"83\": 1}, \"110\": {\"103\": 1, \"110\": 68, \"112\": 1, \"114\": 5, \"126\": 1, \"40\": 7, \"127\": 2, \"106\": 8, \"107\": 10, \"21\": 1, \"5\": 6, \"4\": 4, \"93\": 2, \"24\": 1, \"105\": 1, \"108\": 1, \"35\": 1, \"129\": 1, \"85\": 1, \"10\": 1, \"0\": 2, \"7\": 1}, \"30\": {\"6\": 2, \"41\": 1, \"112\": 1, \"30\": 12, \"51\": 5, \"98\": 1, \"59\": 1, \"53\": 2, \"91\": 2, \"15\": 3, \"88\": 4, \"87\": 1, \"24\": 1, \"85\": 1, \"12\": 2, \"94\": 2, \"0\": 1, \"71\": 1, \"77\": 1, \"75\": 1, \"127\": 1, \"9\": 2, \"101\": 3, \"7\": 1}, \"51\": {\"51\": 16}, \"6\": {\"51\": 1, \"6\": 14, \"71\": 4, \"75\": 1, \"15\": 2, \"49\": 1, \"94\": 2, \"12\": 3, \"27\": 1, \"92\": 1, \"111\": 1, \"88\": 1}, \"96\": {\"48\": 3, \"96\": 5, \"122\": 1, \"20\": 2, \"42\": 1, \"78\": 1, \"47\": 1, \"76\": 3, \"90\": 2, \"21\": 1}, \"114\": {\"114\": 78, \"80\": 1, \"87\": 4, \"121\": 1, \"40\": 6, \"84\": 20, \"54\": 1, \"9\": 1, \"105\": 3, \"5\": 2, \"107\": 5, \"14\": 2, \"106\": 2, \"1\": 1, \"70\": 2, \"24\": 2, \"110\": 3, \"122\": 2, \"39\": 1, \"0\": 3, \"33\": 1, \"4\": 1, \"113\": 1, \"43\": 1}, \"69\": {\"69\": 57, \"113\": 2, \"26\": 8, \"109\": 2, \"118\": 4, \"117\": 4, \"62\": 9, \"102\": 7, \"70\": 2, \"39\": 2, \"11\": 1, \"1\": 2, \"81\": 1, \"33\": 3, \"126\": 1, \"82\": 1, \"3\": 1, \"16\": 1}, \"60\": {\"60\": 8, \"48\": 1, \"45\": 1, \"42\": 1, \"57\": 1, \"25\": 3, \"120\": 1}, \"94\": {\"27\": 8, \"89\": 2, \"94\": 34, \"59\": 2, \"92\": 1, \"5\": 1, \"88\": 5, \"12\": 3, \"6\": 3, \"111\": 5, \"71\": 3, \"36\": 3, \"30\": 4, \"98\": 3, \"15\": 5, \"24\": 3, \"51\": 2, \"127\": 1, \"125\": 1, \"0\": 1, \"101\": 1, \"109\": 1}, \"79\": {\"79\": 10, \"114\": 1, \"83\": 1}, \"126\": {\"96\": 2, \"126\": 36, \"70\": 2, \"73\": 1, \"18\": 5, \"47\": 1, \"104\": 1, \"61\": 2, \"21\": 1, \"1\": 5, \"8\": 4, \"7\": 8, \"109\": 17, \"3\": 2, \"44\": 4, \"23\": 1, \"43\": 7, \"10\": 8, \"114\": 1, \"93\": 7, \"24\": 1, \"86\": 1, \"2\": 1, \"57\": 1, \"90\": 1, \"87\": 7, \"108\": 2, \"66\": 1, \"5\": 2, \"101\": 1, \"84\": 1}, \"68\": {\"110\": 2, \"68\": 8, \"97\": 1, \"111\": 1, \"127\": 3, \"4\": 1}, \"72\": {\"41\": 2, \"72\": 14, \"4\": 2, \"55\": 3, \"101\": 2, \"70\": 1, \"40\": 2, \"114\": 1, \"126\": 1, \"5\": 1, \"127\": 1, \"86\": 1, \"0\": 1}, \"63\": {\"63\": 12, \"121\": 1, \"118\": 1, \"99\": 1, \"50\": 1}, \"22\": {\"63\": 1, \"22\": 6, \"14\": 1, \"119\": 1, \"124\": 1, \"33\": 1, \"129\": 1, \"116\": 1, \"51\": 1, \"50\": 1, \"108\": 1}, \"121\": {\"64\": 2, \"38\": 1, \"66\": 3, \"61\": 3, \"123\": 1, \"20\": 2, \"121\": 6, \"57\": 1, \"118\": 3, \"8\": 1, \"90\": 1, \"11\": 2, \"78\": 2, \"108\": 2, \"18\": 1, \"15\": 1}, \"71\": {\"71\": 67, \"6\": 1, \"27\": 7, \"64\": 1, \"59\": 1, \"111\": 7, \"24\": 3, \"94\": 1, \"88\": 4, \"44\": 1, \"98\": 1, \"12\": 2, \"15\": 5, \"43\": 1, \"127\": 1, \"0\": 1, \"36\": 2, \"90\": 1, \"109\": 1}, \"54\": {\"54\": 14, \"94\": 1, \"32\": 1}, \"102\": {\"102\": 75, \"19\": 1, \"80\": 1, \"39\": 1, \"16\": 6, \"62\": 7, \"118\": 2, \"33\": 6, \"69\": 8, \"40\": 1, \"117\": 2, \"26\": 1, \"114\": 1, \"11\": 3, \"129\": 1, \"14\": 2, \"84\": 1, \"113\": 1}, \"73\": {\"73\": 8, \"71\": 1, \"126\": 2, \"125\": 1, \"106\": 1, \"18\": 1, \"21\": 1, \"128\": 1, \"55\": 2, \"108\": 1, \"36\": 1}, \"38\": {\"38\": 14, \"22\": 1, \"120\": 1}, \"4\": {\"4\": 45, \"32\": 3, \"49\": 2, \"30\": 1, \"93\": 2, \"40\": 9, \"107\": 4, \"91\": 1, \"105\": 7, \"24\": 2, \"5\": 1, \"84\": 1, \"3\": 2, \"111\": 1, \"114\": 2, \"101\": 1, \"124\": 1, \"17\": 1, \"97\": 2, \"12\": 2, \"106\": 5, \"9\": 1, \"89\": 1, \"87\": 1, \"90\": 1, \"98\": 1}, \"52\": {\"30\": 2, \"52\": 14, \"86\": 1, \"53\": 1, \"75\": 2}, \"70\": {\"70\": 26, \"64\": 3, \"20\": 3, \"15\": 2, \"57\": 1, \"98\": 5, \"27\": 2, \"109\": 7, \"24\": 8, \"23\": 2, \"21\": 3, \"124\": 1, \"44\": 2, \"11\": 5, \"12\": 3, \"7\": 3, \"5\": 1, \"88\": 3, \"18\": 5, \"10\": 3, \"90\": 6, \"43\": 1, \"0\": 2, \"14\": 1, \"110\": 2, \"87\": 1, \"108\": 6, \"93\": 6, \"47\": 1, \"30\": 1, \"106\": 2, \"89\": 1, \"83\": 1, \"105\": 1, \"49\": 1, \"34\": 1, \"4\": 2, \"126\": 2, \"101\": 2}, \"91\": {\"52\": 2, \"42\": 1, \"91\": 12, \"126\": 2, \"86\": 1, \"12\": 1, \"88\": 1, \"98\": 1, \"90\": 1, \"56\": 1, \"5\": 1, \"93\": 2, \"71\": 2}, \"77\": {\"77\": 12, \"104\": 1, \"61\": 1, \"5\": 1, \"9\": 1}, \"20\": {\"64\": 3, \"20\": 12, \"48\": 1}, \"59\": {\"59\": 11, \"51\": 1}, \"40\": {\"55\": 3, \"40\": 85, \"32\": 1, \"81\": 1, \"118\": 1, \"80\": 1, \"4\": 5, \"110\": 7, \"107\": 11, \"93\": 4, \"105\": 1, \"1\": 1, \"106\": 2, \"5\": 1, \"124\": 4, \"102\": 1, \"12\": 1, \"0\": 1, \"111\": 1, \"114\": 2, \"70\": 1, \"109\": 1}, \"98\": {\"98\": 63, \"97\": 1, \"101\": 8, \"23\": 2, \"91\": 1, \"24\": 9, \"127\": 2, \"70\": 3, \"108\": 1, \"111\": 3, \"8\": 1, \"5\": 1, \"71\": 1, \"106\": 2, \"10\": 1, \"41\": 1, \"15\": 1, \"110\": 1, \"12\": 2, \"94\": 2, \"87\": 1, \"27\": 1}, \"46\": {\"19\": 1, \"46\": 3, \"89\": 1, \"100\": 1, \"32\": 2, \"27\": 1, \"51\": 1, \"30\": 1, \"53\": 1}, \"34\": {\"34\": 5, \"71\": 1, \"27\": 3, \"12\": 1, \"103\": 1, \"51\": 2, \"89\": 1, \"61\": 1, \"7\": 1, \"119\": 1, \"111\": 1, \"128\": 2, \"15\": 1, \"22\": 1, \"90\": 1, \"37\": 1, \"97\": 1, \"25\": 1, \"14\": 1, \"13\": 1, \"68\": 1, \"112\": 1, \"35\": 1, \"43\": 1}, \"24\": {\"24\": 34, \"85\": 2, \"3\": 1, \"2\": 1, \"16\": 1, \"98\": 7, \"30\": 1, \"101\": 1, \"89\": 2, \"91\": 1, \"36\": 1, \"27\": 2, \"71\": 2, \"21\": 2, \"94\": 3, \"88\": 3, \"127\": 2, \"4\": 1, \"12\": 7, \"70\": 1, \"125\": 1, \"64\": 1, \"108\": 4, \"97\": 1, \"66\": 1, \"49\": 1, \"0\": 1, \"109\": 1, \"87\": 1, \"39\": 2, \"15\": 1, \"111\": 2}, \"62\": {\"62\": 80, \"80\": 1, \"69\": 13, \"118\": 3, \"113\": 2, \"117\": 1, \"109\": 1, \"87\": 1, \"33\": 7, \"38\": 1, \"102\": 6, \"125\": 1, \"18\": 1, \"16\": 1, \"8\": 1}, \"14\": {\"82\": 2, \"14\": 54, \"1\": 1, \"93\": 2, \"33\": 9, \"117\": 1, \"62\": 6, \"102\": 5, \"84\": 1, \"122\": 3, \"69\": 3, \"100\": 1, \"80\": 1, \"87\": 3, \"114\": 1, \"39\": 1, \"43\": 2}, \"12\": {\"37\": 2, \"12\": 48, \"31\": 2, \"34\": 1, \"94\": 3, \"0\": 4, \"30\": 3, \"6\": 1, \"44\": 1, \"111\": 5, \"127\": 5, \"106\": 1, \"24\": 6, \"5\": 1, \"98\": 4, \"15\": 2, \"110\": 2, \"101\": 2, \"93\": 1, \"73\": 1, \"51\": 1, \"68\": 1, \"89\": 1, \"66\": 1, \"4\": 1, \"11\": 1, \"70\": 1, \"39\": 1, \"90\": 1}, \"84\": {\"82\": 2, \"1\": 5, \"87\": 4, \"114\": 16, \"84\": 59, \"23\": 1, \"70\": 1, \"0\": 2, \"3\": 2, \"105\": 3, \"122\": 2, \"40\": 4, \"43\": 8, \"39\": 2, \"62\": 1, \"18\": 1, \"110\": 2, \"101\": 1, \"4\": 1, \"108\": 1, \"93\": 3, \"73\": 1, \"55\": 1, \"81\": 1, \"109\": 1, \"14\": 1, \"21\": 1, \"33\": 2, \"7\": 1, \"69\": 1, \"107\": 1, \"102\": 1, \"8\": 1}, \"37\": {\"37\": 15, \"58\": 1}, \"97\": {\"90\": 1, \"97\": 8, \"12\": 1, \"70\": 2, \"94\": 1, \"30\": 1, \"6\": 1, \"93\": 1, \"36\": 1, \"112\": 1, \"8\": 1, \"108\": 1}, \"57\": {\"57\": 10, \"120\": 1, \"48\": 1}, \"49\": {\"32\": 1, \"49\": 3, \"127\": 2, \"6\": 1, \"101\": 1, \"35\": 2, \"72\": 2, \"12\": 1, \"73\": 1, \"31\": 4, \"106\": 1, \"27\": 1}, \"17\": {\"114\": 1, \"17\": 5, \"32\": 1, \"101\": 1, \"40\": 1, \"105\": 2, \"106\": 1, \"2\": 1, \"15\": 1, \"19\": 1, \"107\": 1}, \"109\": {\"109\": 81, \"39\": 1, \"18\": 4, \"44\": 9, \"7\": 3, \"8\": 1, \"93\": 1, \"21\": 1, \"122\": 1, \"0\": 1, \"43\": 2, \"126\": 1}, \"80\": {\"14\": 3, \"102\": 1, \"80\": 12}, \"66\": {\"66\": 13, \"64\": 1, \"48\": 2}, \"101\": {\"101\": 79, \"17\": 1, \"85\": 1, \"53\": 1, \"87\": 2, \"93\": 7, \"4\": 2, \"24\": 2, \"70\": 1, \"110\": 1, \"114\": 1, \"126\": 4, \"84\": 2, \"72\": 2, \"0\": 5, \"29\": 1, \"12\": 1, \"98\": 3, \"19\": 1, \"86\": 2, \"1\": 1, \"5\": 1, \"117\": 1, \"107\": 1, \"43\": 1}, \"89\": {\"121\": 1, \"53\": 1, \"66\": 1, \"89\": 16, \"24\": 1, \"61\": 1, \"124\": 4, \"32\": 1, \"105\": 1, \"98\": 2, \"23\": 1, \"30\": 2, \"57\": 1, \"4\": 3}, \"31\": {\"71\": 1, \"31\": 12, \"0\": 2, \"49\": 1}, \"21\": {\"66\": 2, \"44\": 9, \"11\": 2, \"21\": 8, \"126\": 2, \"7\": 2, \"3\": 1, \"12\": 1, \"70\": 1, \"18\": 2, \"2\": 1, \"115\": 1, \"76\": 1, \"109\": 5, \"43\": 2}, \"23\": {\"66\": 4, \"18\": 2, \"101\": 1, \"114\": 2, \"70\": 1, \"84\": 1, \"8\": 1, \"1\": 1, \"109\": 1, \"111\": 1, \"76\": 1, \"108\": 1, \"57\": 1, \"41\": 1, \"79\": 1, \"86\": 1, \"61\": 1, \"0\": 1, \"52\": 1}, \"25\": {\"25\": 9, \"96\": 1, \"9\": 2, \"109\": 1, \"20\": 1, \"39\": 1, \"21\": 1}, \"107\": {\"107\": 78, \"106\": 5, \"40\": 6, \"110\": 6, \"87\": 2, \"117\": 1, \"4\": 4, \"105\": 1, \"114\": 5, \"98\": 1, \"93\": 1, \"70\": 1, \"125\": 1}, \"3\": {\"2\": 1, \"66\": 1, \"3\": 75, \"36\": 1, \"10\": 1, \"11\": 2, \"125\": 1, \"88\": 1, \"43\": 1, \"18\": 2, \"8\": 2}, \"61\": {\"61\": 8, \"18\": 2, \"20\": 1, \"27\": 1}, \"117\": {\"117\": 64, \"62\": 11, \"113\": 9, \"26\": 10, \"16\": 6, \"69\": 5, \"8\": 1, \"126\": 1, \"43\": 1, \"11\": 6, \"39\": 3, \"33\": 4, \"118\": 3, \"129\": 1, \"124\": 1}, \"119\": {\"116\": 2, \"119\": 12, \"33\": 1, \"98\": 1}, \"58\": {\"58\": 7, \"32\": 1, \"127\": 1, \"53\": 1, \"106\": 1, \"46\": 1}, \"47\": {\"47\": 7, \"107\": 1, \"124\": 1, \"29\": 1, \"0\": 1, \"55\": 1}, \"116\": {\"116\": 18, \"22\": 1, \"33\": 1, \"69\": 1, \"25\": 2, \"62\": 1, \"124\": 1, \"102\": 1, \"2\": 2, \"82\": 2, \"87\": 1, \"14\": 1}, \"18\": {\"18\": 95, \"70\": 2, \"44\": 4, \"109\": 4, \"87\": 1, \"39\": 4, \"7\": 2, \"11\": 3, \"113\": 1, \"23\": 1, \"78\": 1, \"76\": 2, \"3\": 1, \"21\": 2, \"122\": 1}, \"36\": {\"36\": 88, \"118\": 1, \"127\": 1, \"71\": 3, \"111\": 1, \"94\": 3, \"27\": 3, \"88\": 6, \"125\": 11, \"39\": 1, \"51\": 1, \"68\": 1, \"6\": 1, \"18\": 1}, \"108\": {\"0\": 5, \"5\": 1, \"98\": 2, \"10\": 5, \"104\": 1, \"52\": 1, \"44\": 1, \"108\": 28, \"27\": 1, \"7\": 9, \"126\": 7, \"11\": 1, \"93\": 7, \"114\": 1, \"1\": 2, \"43\": 1, \"109\": 2, \"125\": 2, \"101\": 3, \"4\": 1, \"90\": 3, \"70\": 8, \"88\": 2, \"12\": 2, \"29\": 1, \"57\": 2, \"73\": 1, \"83\": 1, \"91\": 1, \"112\": 1, \"3\": 2, \"87\": 1, \"18\": 1, \"24\": 3, \"122\": 1, \"8\": 1}, \"15\": {\"15\": 38, \"94\": 6, \"37\": 2, \"127\": 9, \"91\": 1, \"52\": 1, \"6\": 2, \"111\": 5, \"93\": 2, \"27\": 4, \"106\": 1, \"88\": 6, \"125\": 4, \"36\": 3, \"12\": 3, \"24\": 2, \"71\": 6, \"112\": 1, \"98\": 1, \"56\": 1, \"49\": 1, \"34\": 2, \"4\": 1, \"44\": 1, \"108\": 1}, \"8\": {\"8\": 50, \"90\": 3, \"11\": 8, \"128\": 1, \"10\": 6, \"7\": 8, \"24\": 1, \"21\": 1, \"122\": 1, \"44\": 1, \"126\": 5, \"39\": 1, \"109\": 5, \"108\": 3, \"93\": 4, \"20\": 1, \"70\": 4, \"18\": 4, \"84\": 1, \"3\": 2, \"1\": 1, \"43\": 2, \"114\": 1}, \"35\": {\"35\": 4, \"80\": 1, \"44\": 1, \"9\": 1, \"20\": 1, \"42\": 1, \"83\": 2, \"108\": 1}}, \"W_2\": {\"3\": {\"3\": 81, \"79\": 1, \"43\": 4, \"7\": 10, \"126\": 1, \"114\": 2, \"8\": 4, \"71\": 12, \"12\": 3, \"26\": 2, \"108\": 1, \"59\": 1, \"0\": 4, \"122\": 2, \"87\": 1, \"39\": 2, \"16\": 1}, \"127\": {\"127\": 89, \"49\": 1, \"68\": 1, \"21\": 1, \"114\": 6, \"12\": 5, \"5\": 1, \"101\": 1, \"111\": 11, \"0\": 2, \"30\": 1, \"97\": 1}, \"58\": {\"58\": 19, \"51\": 1}, \"114\": {\"114\": 79, \"127\": 5, \"5\": 6, \"85\": 1, \"101\": 1, \"12\": 2, \"4\": 1, \"111\": 4, \"122\": 2, \"120\": 1, \"54\": 2, \"71\": 1, \"21\": 1, \"3\": 1, \"0\": 1, \"98\": 2, \"124\": 1, \"7\": 1}, \"111\": {\"111\": 108, \"127\": 11, \"114\": 5, \"34\": 1, \"30\": 4, \"98\": 2, \"101\": 3, \"126\": 1, \"12\": 3, \"94\": 1, \"93\": 1, \"106\": 1, \"15\": 2, \"108\": 1}, \"105\": {\"86\": 1, \"105\": 66, \"40\": 14, \"129\": 1, \"85\": 1, \"74\": 1, \"70\": 4, \"5\": 1, \"110\": 1, \"11\": 1, \"33\": 7, \"84\": 3, \"128\": 1, \"107\": 4, \"114\": 3, \"126\": 2, \"12\": 1, \"71\": 1, \"1\": 7, \"102\": 1, \"90\": 1, \"43\": 1, \"18\": 1, \"95\": 1, \"78\": 1, \"4\": 4, \"62\": 1, \"87\": 1}, \"118\": {\"69\": 4, \"14\": 4, \"18\": 4, \"22\": 1, \"60\": 1, \"57\": 2, \"33\": 4, \"37\": 2, \"118\": 18, \"102\": 2, \"88\": 2, \"44\": 1, \"16\": 1, \"3\": 1, \"61\": 1, \"90\": 1, \"26\": 2, \"19\": 1, \"84\": 1, \"48\": 1, \"123\": 1, \"55\": 1, \"93\": 1, \"62\": 3, \"119\": 2, \"117\": 1, \"109\": 1, \"10\": 2, \"39\": 1, \"2\": 1}, \"23\": {\"23\": 16, \"99\": 2, \"42\": 1, \"87\": 1, \"109\": 2, \"90\": 2, \"122\": 2, \"93\": 3, \"44\": 1, \"88\": 3, \"10\": 1, \"83\": 1, \"119\": 1, \"113\": 1, \"21\": 2, \"3\": 1, \"108\": 1, \"61\": 1, \"126\": 1, \"62\": 1}, \"21\": {\"21\": 29, \"23\": 1, \"46\": 2, \"2\": 1, \"44\": 2, \"109\": 1, \"88\": 2, \"10\": 4, \"120\": 1, \"90\": 2, \"119\": 2, \"24\": 1}, \"20\": {\"20\": 13, \"21\": 3}, \"75\": {\"75\": 12, \"15\": 2, \"99\": 1, \"51\": 1}, \"86\": {\"86\": 19, \"55\": 2, \"82\": 1, \"114\": 1, \"5\": 1, \"40\": 1, \"19\": 2, \"37\": 1, \"85\": 2, \"4\": 1, \"95\": 1}, \"60\": {\"60\": 11, \"47\": 2, \"56\": 1, \"123\": 1, \"55\": 1, \"53\": 1, \"66\": 1, \"119\": 1, \"44\": 2, \"8\": 1, \"93\": 1, \"46\": 1, \"89\": 1, \"22\": 2, \"20\": 1}, \"69\": {\"69\": 94, \"14\": 1, \"31\": 1, \"37\": 2, \"102\": 10, \"118\": 2, \"72\": 2, \"26\": 12, \"43\": 2, \"18\": 3, \"117\": 3, \"88\": 2, \"44\": 2, \"122\": 1, \"82\": 1, \"109\": 1, \"90\": 1}, \"99\": {\"21\": 1, \"99\": 21, \"96\": 1, \"90\": 1, \"120\": 2, \"119\": 1, \"93\": 1, \"23\": 1, \"38\": 1, \"39\": 1, \"63\": 1}, \"14\": {\"14\": 15, \"67\": 1, \"81\": 1, \"117\": 1, \"80\": 1, \"102\": 1, \"78\": 2, \"122\": 2, \"69\": 2, \"118\": 4, \"62\": 3, \"44\": 1, \"108\": 1, \"110\": 1, \"82\": 1, \"26\": 2, \"88\": 3, \"84\": 2, \"37\": 1, \"113\": 1, \"32\": 1, \"33\": 1}, \"25\": {\"25\": 15, \"36\": 1}, \"52\": {\"52\": 15, \"59\": 1, \"11\": 1, \"112\": 1, \"128\": 1, \"49\": 1}, \"47\": {\"47\": 8, \"97\": 1, \"40\": 1, \"38\": 1, \"49\": 1}, \"48\": {\"48\": 9, \"118\": 3, \"72\": 1, \"27\": 1, \"82\": 1, \"117\": 1, \"2\": 1, \"14\": 1, \"65\": 1, \"121\": 1}, \"27\": {\"27\": 35, \"120\": 1, \"34\": 2, \"87\": 1, \"125\": 3, \"15\": 6, \"127\": 2, \"44\": 1, \"84\": 1, \"109\": 2, \"94\": 3, \"24\": 2, \"30\": 1, \"51\": 1, \"18\": 1, \"36\": 1, \"6\": 1, \"58\": 1, \"90\": 1, \"106\": 1, \"111\": 1}, \"78\": {\"20\": 2, \"67\": 1, \"56\": 1, \"119\": 2, \"83\": 2, \"110\": 1, \"109\": 2, \"90\": 3, \"44\": 2, \"1\": 3, \"88\": 1, \"118\": 1, \"40\": 1, \"113\": 1, \"10\": 3, \"2\": 1, \"129\": 2, \"38\": 2, \"78\": 3, \"85\": 1, \"55\": 1, \"8\": 1, \"5\": 1, \"60\": 1, \"126\": 1, \"32\": 1, \"117\": 1, \"105\": 2, \"70\": 3, \"62\": 1}, \"8\": {\"8\": 46, \"11\": 8, \"52\": 1, \"44\": 4, \"53\": 1, \"12\": 2, \"108\": 5, \"46\": 1, \"61\": 2, \"78\": 1, \"90\": 10, \"3\": 4, \"10\": 3, \"88\": 2, \"122\": 4, \"43\": 6, \"5\": 1, \"126\": 2, \"105\": 1, \"33\": 1, \"0\": 1, \"30\": 1, \"128\": 1, \"23\": 2, \"83\": 2, \"70\": 2, \"93\": 2, \"109\": 2, \"87\": 1, \"106\": 1, \"39\": 1, \"1\": 1}, \"90\": {\"90\": 130, \"16\": 2, \"88\": 5, \"10\": 3, \"116\": 1, \"126\": 4, \"39\": 1, \"21\": 1, \"44\": 8, \"61\": 1, \"109\": 1, \"69\": 1, \"70\": 1, \"87\": 1}, \"103\": {\"30\": 1, \"103\": 13, \"7\": 1, \"85\": 1}, \"120\": {\"120\": 14, \"20\": 1, \"88\": 1, \"44\": 1, \"42\": 1, \"99\": 2}, \"96\": {\"20\": 2, \"57\": 2, \"13\": 3, \"67\": 1, \"32\": 1, \"96\": 4, \"14\": 1, \"89\": 1, \"118\": 1, \"64\": 1, \"93\": 1, \"92\": 2}, \"30\": {\"30\": 38, \"111\": 7, \"68\": 1, \"125\": 1, \"42\": 2, \"122\": 1, \"71\": 2, \"3\": 5, \"0\": 3, \"108\": 5, \"15\": 7, \"36\": 2, \"7\": 3, \"106\": 3, \"127\": 2, \"98\": 2, \"40\": 1, \"114\": 1, \"8\": 1, \"79\": 1, \"24\": 2, \"51\": 1, \"49\": 4, \"93\": 1, \"54\": 1, \"11\": 3, \"29\": 1, \"101\": 1, \"94\": 2}, \"33\": {\"33\": 115, \"14\": 2, \"1\": 4, \"62\": 8, \"87\": 2, \"43\": 3, \"8\": 1, \"84\": 5, \"26\": 1, \"102\": 2, \"16\": 1, \"18\": 2}, \"35\": {\"52\": 1, \"35\": 9, \"94\": 1, \"54\": 1}, \"108\": {\"68\": 1, \"108\": 44, \"77\": 1, \"53\": 1, \"44\": 2, \"3\": 1, \"70\": 1, \"112\": 1, \"127\": 3, \"29\": 4, \"8\": 1, \"98\": 10, \"23\": 1, \"114\": 2, \"10\": 2, \"12\": 4, \"0\": 3, \"71\": 2, \"7\": 4, \"30\": 3, \"101\": 7, \"43\": 1, \"128\": 1, \"49\": 1, \"129\": 1, \"109\": 1, \"15\": 2, \"5\": 2, \"11\": 2, \"87\": 2, \"90\": 3, \"122\": 2}, \"112\": {\"108\": 1, \"112\": 8, \"42\": 1, \"52\": 2, \"8\": 1, \"35\": 1, \"0\": 1, \"3\": 1}, \"40\": {\"40\": 71, \"31\": 1, \"86\": 2, \"85\": 1, \"102\": 1, \"107\": 5, \"0\": 1, \"68\": 1, \"73\": 2, \"21\": 1, \"95\": 5, \"105\": 9, \"10\": 1, \"5\": 6, \"8\": 3, \"108\": 2, \"113\": 1, \"39\": 1, \"70\": 2, \"111\": 2, \"114\": 3, \"33\": 3, \"16\": 1, \"127\": 1, \"122\": 1, \"115\": 1, \"34\": 1, \"100\": 1, \"12\": 2, \"43\": 1, \"84\": 2, \"109\": 1, \"124\": 1, \"1\": 1, \"69\": 1, \"18\": 1}, \"102\": {\"80\": 1, \"102\": 79, \"18\": 2, \"105\": 2, \"69\": 9, \"84\": 2, \"26\": 9, \"88\": 1, \"62\": 5, \"90\": 1, \"39\": 1, \"117\": 1, \"72\": 1, \"33\": 1, \"70\": 1}, \"56\": {\"54\": 1, \"56\": 11}, \"93\": {\"87\": 8, \"93\": 75, \"44\": 6, \"63\": 1, \"126\": 1, \"21\": 2, \"23\": 1, \"10\": 1, \"109\": 5, \"70\": 4, \"88\": 3, \"39\": 5, \"43\": 3, \"16\": 8, \"90\": 6, \"38\": 1, \"99\": 3, \"62\": 1, \"102\": 1, \"33\": 1}, \"68\": {\"68\": 10, \"77\": 1, \"0\": 2, \"114\": 1, \"88\": 1, \"4\": 1}, \"70\": {\"93\": 1, \"105\": 8, \"70\": 23, \"24\": 1, \"123\": 1, \"119\": 1, \"73\": 3, \"84\": 8, \"44\": 9, \"50\": 2, \"82\": 1, \"85\": 2, \"126\": 2, \"122\": 2, \"88\": 6, \"17\": 1, \"23\": 1, \"1\": 4, \"10\": 4, \"71\": 1, \"87\": 4, \"107\": 1, \"109\": 4, \"43\": 3, \"90\": 15, \"33\": 6, \"108\": 1, \"83\": 1, \"124\": 2, \"63\": 2, \"80\": 1, \"62\": 1, \"40\": 2}, \"7\": {\"70\": 1, \"112\": 1, \"101\": 3, \"78\": 1, \"7\": 65, \"0\": 3, \"3\": 13, \"108\": 4, \"114\": 4, \"90\": 1, \"88\": 2, \"127\": 2, \"5\": 3, \"71\": 5, \"8\": 2, \"122\": 6, \"109\": 1, \"30\": 3, \"29\": 2, \"111\": 1, \"98\": 1}, \"87\": {\"93\": 6, \"20\": 2, \"1\": 2, \"33\": 6, \"119\": 1, \"2\": 2, \"38\": 1, \"116\": 1, \"87\": 29, \"44\": 9, \"62\": 9, \"70\": 1, \"10\": 4, \"16\": 3, \"126\": 2, \"90\": 2, \"109\": 7, \"84\": 3, \"88\": 9, \"102\": 3, \"92\": 1, \"46\": 1, \"63\": 1, \"19\": 1, \"53\": 2, \"40\": 1, \"39\": 1, \"18\": 1, \"105\": 1}, \"54\": {\"40\": 1, \"54\": 16, \"103\": 1, \"24\": 1, \"34\": 1}, \"71\": {\"112\": 1, \"71\": 58, \"12\": 1, \"3\": 7, \"0\": 2, \"11\": 3, \"122\": 5, \"101\": 1, \"5\": 4, \"111\": 1, \"88\": 1, \"36\": 1, \"114\": 3, \"7\": 5, \"39\": 2, \"52\": 1, \"21\": 1, \"78\": 1, \"4\": 1, \"108\": 1}, \"80\": {\"80\": 5, \"87\": 1, \"33\": 3, \"85\": 1, \"2\": 1, \"67\": 2, \"84\": 2, \"113\": 1}, \"18\": {\"18\": 89, \"118\": 2, \"117\": 7, \"13\": 1, \"67\": 1, \"65\": 1, \"69\": 2, \"81\": 1, \"126\": 1, \"39\": 4, \"113\": 1, \"26\": 2, \"16\": 1, \"33\": 1, \"62\": 2, \"93\": 2, \"2\": 1, \"43\": 2, \"44\": 1}, \"101\": {\"30\": 4, \"101\": 82, \"35\": 1, \"118\": 1, \"98\": 8, \"127\": 3, \"0\": 8, \"111\": 8, \"106\": 1, \"79\": 1, \"15\": 1, \"29\": 1, \"12\": 1, \"71\": 1, \"5\": 1}, \"92\": {\"85\": 1, \"92\": 20, \"84\": 1, \"19\": 1, \"71\": 1, \"87\": 1, \"31\": 1, \"48\": 1, \"73\": 1}, \"32\": {\"128\": 1, \"46\": 1, \"42\": 2, \"68\": 1, \"59\": 1, \"32\": 4, \"78\": 1, \"0\": 1, \"122\": 1, \"19\": 1, \"90\": 3, \"24\": 1, \"1\": 3, \"109\": 1, \"70\": 1, \"10\": 2, \"33\": 1, \"107\": 1, \"79\": 1, \"93\": 2, \"40\": 1, \"44\": 1, \"21\": 1, \"86\": 1, \"126\": 1, \"15\": 1}, \"128\": {\"30\": 2, \"128\": 11, \"5\": 1, \"126\": 3, \"67\": 1, \"122\": 1, \"8\": 1, \"52\": 1, \"19\": 1, \"11\": 1, \"129\": 1}, \"6\": {\"6\": 19, \"49\": 1, \"36\": 2, \"106\": 3, \"125\": 2, \"51\": 2, \"94\": 2, \"27\": 1}, \"51\": {\"6\": 2, \"111\": 1, \"54\": 1, \"15\": 1, \"125\": 1, \"51\": 10, \"58\": 1, \"36\": 1, \"127\": 1, \"10\": 1}, \"85\": {\"85\": 12, \"105\": 1, \"108\": 2, \"38\": 1, \"40\": 3, \"84\": 1, \"114\": 1, \"115\": 1, \"70\": 2, \"17\": 2, \"80\": 2, \"86\": 1, \"110\": 1, \"73\": 2}, \"46\": {\"128\": 1, \"32\": 1, \"46\": 10, \"66\": 1, \"42\": 1, \"63\": 1, \"44\": 1}, \"22\": {\"22\": 16, \"60\": 1, \"44\": 1, \"3\": 1, \"20\": 1}, \"1\": {\"60\": 1, \"129\": 2, \"1\": 80, \"14\": 2, \"5\": 1, \"78\": 1, \"33\": 4, \"39\": 1, \"43\": 4, \"109\": 1, \"44\": 1, \"105\": 4, \"85\": 2, \"74\": 1, \"32\": 1, \"42\": 1, \"80\": 1, \"122\": 4, \"118\": 1, \"62\": 1, \"70\": 4, \"16\": 1, \"26\": 1, \"84\": 1, \"126\": 1}, \"37\": {\"37\": 14, \"14\": 1, \"86\": 1}, \"44\": {\"20\": 3, \"44\": 79, \"38\": 3, \"119\": 4, \"126\": 2, \"10\": 6, \"23\": 2, \"88\": 1}, \"24\": {\"20\": 1, \"9\": 5, \"15\": 11, \"125\": 9, \"24\": 23, \"11\": 3, \"3\": 1, \"88\": 2, \"34\": 2, \"90\": 4, \"36\": 10, \"108\": 4, \"106\": 3, \"10\": 1, \"30\": 1, \"98\": 1, \"26\": 1, \"126\": 3, \"44\": 3, \"39\": 1, \"43\": 1, \"7\": 2, \"122\": 2, \"70\": 2, \"93\": 1, \"63\": 1, \"25\": 1, \"97\": 1, \"77\": 1, \"94\": 1, \"21\": 2, \"27\": 1, \"109\": 2, \"5\": 1, \"18\": 1, \"87\": 1, \"111\": 1, \"69\": 1}, \"9\": {\"9\": 29, \"125\": 1, \"24\": 1, \"36\": 1}, \"116\": {\"47\": 1, \"87\": 1, \"16\": 3, \"100\": 1, \"45\": 1, \"28\": 2, \"116\": 5, \"86\": 1, \"122\": 1, \"102\": 1, \"48\": 1, \"44\": 1, \"14\": 2, \"33\": 2, \"89\": 1, \"62\": 2, \"113\": 1, \"63\": 1}, \"64\": {\"64\": 10, \"48\": 2, \"14\": 1, \"80\": 1, \"92\": 2}, \"129\": {\"112\": 1, \"42\": 1, \"129\": 12, \"11\": 1, \"78\": 1, \"70\": 3, \"74\": 2, \"110\": 2, \"33\": 1, \"114\": 1, \"100\": 1, \"0\": 1, \"17\": 1, \"5\": 1, \"73\": 1, \"3\": 1, \"1\": 1}, \"42\": {\"23\": 1, \"44\": 2, \"93\": 2, \"119\": 1, \"98\": 1, \"42\": 5, \"120\": 1, \"87\": 2, \"53\": 1, \"110\": 1, \"30\": 1, \"39\": 1, \"35\": 1, \"77\": 1, \"123\": 2, \"21\": 1, \"28\": 1, \"126\": 1, \"90\": 1, \"71\": 1}, \"117\": {\"117\": 75, \"26\": 17, \"113\": 5, \"37\": 1, \"72\": 1, \"50\": 1, \"69\": 5, \"102\": 6, \"39\": 2, \"90\": 1, \"81\": 1, \"62\": 1, \"14\": 1, \"118\": 1, \"18\": 2}, \"88\": {\"38\": 2, \"88\": 55, \"53\": 4, \"44\": 10, \"90\": 10, \"10\": 12, \"21\": 6, \"87\": 7, \"23\": 1, \"16\": 3, \"70\": 4, \"43\": 2, \"32\": 1, \"126\": 1, \"109\": 2, \"33\": 1, \"93\": 2, \"117\": 1}, \"31\": {\"31\": 14, \"64\": 1, \"18\": 1, \"81\": 1, \"93\": 1, \"69\": 1, \"45\": 1}, \"113\": {\"113\": 40, \"39\": 5, \"117\": 3, \"81\": 1, \"74\": 2, \"93\": 2, \"33\": 1, \"84\": 2, \"21\": 2, \"18\": 6, \"16\": 1, \"44\": 1, \"83\": 2, \"87\": 1, \"88\": 1, \"126\": 1, \"26\": 1}, \"38\": {\"38\": 15, \"119\": 1}, \"83\": {\"88\": 1, \"25\": 1, \"78\": 1, \"119\": 2, \"60\": 2, \"83\": 26, \"44\": 1, \"123\": 1, \"21\": 1, \"115\": 1, \"10\": 1, \"125\": 1, \"90\": 1}, \"49\": {\"97\": 1, \"101\": 2, \"127\": 2, \"98\": 1, \"129\": 1, \"11\": 1, \"49\": 8, \"108\": 1, \"91\": 1, \"41\": 1, \"59\": 1, \"3\": 1, \"39\": 1, \"122\": 1, \"128\": 1}, \"97\": {\"97\": 11, \"101\": 1, \"15\": 1, \"27\": 1, \"24\": 1, \"0\": 1, \"127\": 1, \"52\": 1, \"108\": 2}, \"76\": {\"31\": 2, \"76\": 6, \"66\": 2, \"10\": 2, \"53\": 1, \"21\": 1, \"78\": 1, \"113\": 1}, \"29\": {\"29\": 22, \"71\": 3, \"115\": 1, \"111\": 1, \"24\": 1, \"15\": 1, \"108\": 1, \"8\": 1, \"98\": 1}, \"61\": {\"61\": 17, \"44\": 2, \"53\": 1}, \"125\": {\"125\": 134, \"27\": 1, \"106\": 2, \"10\": 1, \"6\": 1, \"36\": 7, \"9\": 1, \"15\": 1}, \"126\": {\"63\": 1, \"90\": 6, \"16\": 3, \"118\": 1, \"83\": 1, \"109\": 11, \"74\": 1, \"1\": 6, \"126\": 14, \"72\": 1, \"96\": 1, \"33\": 2, \"87\": 10, \"43\": 3, \"44\": 7, \"2\": 1, \"10\": 4, \"88\": 7, \"39\": 1, \"3\": 3, \"113\": 4, \"7\": 1, \"62\": 2, \"0\": 1, \"93\": 2, \"84\": 1, \"70\": 9, \"112\": 1, \"8\": 2, \"38\": 1, \"123\": 2, \"129\": 1, \"32\": 1, \"23\": 1, \"120\": 1, \"53\": 1, \"80\": 1, \"78\": 2, \"5\": 1, \"105\": 1}, \"55\": {\"55\": 15, \"110\": 1}, \"0\": {\"71\": 5, \"29\": 1, \"98\": 4, \"119\": 1, \"97\": 2, \"79\": 1, \"0\": 34, \"3\": 5, \"128\": 1, \"111\": 2, \"101\": 10, \"122\": 5, \"7\": 8, \"4\": 1, \"114\": 3, \"30\": 4, \"12\": 6, \"108\": 1, \"127\": 3, \"8\": 1, \"49\": 1, \"118\": 1, \"54\": 1, \"11\": 2, \"21\": 1, \"10\": 1, \"70\": 1, \"43\": 1, \"24\": 1}, \"15\": {\"25\": 3, \"15\": 66, \"106\": 5, \"27\": 1, \"111\": 10, \"90\": 1, \"36\": 11, \"24\": 2, \"41\": 1, \"34\": 1, \"9\": 1, \"44\": 1, \"125\": 4, \"127\": 2, \"88\": 1, \"98\": 3, \"30\": 3, \"58\": 1, \"101\": 2, \"94\": 1}, \"26\": {\"62\": 3, \"26\": 80, \"87\": 1, \"117\": 13, \"78\": 1, \"88\": 4, \"44\": 5, \"18\": 2, \"109\": 1, \"69\": 5, \"33\": 5, \"90\": 2, \"102\": 5, \"39\": 1, \"65\": 1, \"113\": 1, \"2\": 2, \"118\": 1, \"82\": 1, \"72\": 1, \"14\": 2, \"16\": 1}, \"63\": {\"63\": 20}, \"57\": {\"57\": 15, \"48\": 1, \"65\": 3, \"69\": 1}, \"39\": {\"63\": 3, \"118\": 2, \"119\": 1, \"21\": 2, \"13\": 1, \"113\": 4, \"39\": 17, \"10\": 4, \"109\": 4, \"117\": 1, \"23\": 1, \"126\": 1, \"87\": 5, \"26\": 8, \"44\": 6, \"88\": 9, \"62\": 5, \"105\": 1, \"33\": 7, \"93\": 4, \"70\": 3, \"90\": 7, \"102\": 3, \"16\": 2, \"20\": 1, \"38\": 2, \"61\": 1, \"18\": 2, \"2\": 1, \"124\": 1, \"84\": 2, \"43\": 1}, \"62\": {\"62\": 78, \"57\": 1, \"110\": 1, \"69\": 4, \"84\": 7, \"33\": 18, \"10\": 2, \"78\": 1, \"26\": 1, \"105\": 1, \"18\": 4, \"102\": 2, \"126\": 1, \"39\": 2, \"127\": 1, \"90\": 2, \"70\": 1, \"123\": 1, \"20\": 2, \"74\": 1, \"55\": 1, \"118\": 1, \"8\": 1, \"124\": 1, \"100\": 1, \"14\": 2, \"16\": 1, \"88\": 1}, \"82\": {\"82\": 25, \"38\": 1, \"31\": 2, \"32\": 1, \"87\": 2, \"14\": 1, \"33\": 1, \"10\": 1, \"117\": 2}, \"11\": {\"11\": 47, \"108\": 6, \"115\": 1, \"23\": 2, \"5\": 1, \"49\": 1, \"98\": 1, \"118\": 1, \"71\": 1, \"101\": 1, \"90\": 1, \"20\": 1, \"128\": 1, \"112\": 1, \"44\": 3, \"7\": 2, \"30\": 2, \"3\": 1, \"8\": 3, \"16\": 1, \"87\": 1, \"12\": 1}, \"4\": {\"4\": 48, \"104\": 1, \"107\": 5, \"73\": 1, \"100\": 1, \"17\": 2, \"40\": 8, \"114\": 6, \"127\": 3, \"30\": 1, \"101\": 1, \"5\": 1, \"7\": 1, \"53\": 1, \"12\": 1, \"34\": 1, \"124\": 1, \"3\": 1, \"105\": 3, \"109\": 1}, \"41\": {\"51\": 1, \"41\": 18, \"79\": 1}, \"72\": {\"72\": 11, \"16\": 1, \"44\": 2, \"118\": 3, \"117\": 3, \"87\": 1, \"83\": 1, \"81\": 1, \"69\": 1, \"26\": 2, \"62\": 1, \"10\": 1}, \"16\": {\"126\": 3, \"16\": 71, \"90\": 3, \"88\": 2, \"93\": 17, \"18\": 7, \"87\": 4, \"39\": 7, \"62\": 1, \"109\": 1, \"26\": 2, \"43\": 1, \"33\": 1, \"14\": 1, \"121\": 1, \"10\": 1, \"70\": 1}, \"81\": {\"57\": 2, \"81\": 12, \"2\": 1, \"113\": 2, \"122\": 1, \"62\": 1, \"14\": 1, \"48\": 1, \"13\": 1, \"54\": 1, \"65\": 1}, \"67\": {\"67\": 7, \"78\": 1, \"84\": 1, \"102\": 1, \"13\": 1, \"55\": 3, \"64\": 1, \"116\": 1}, \"123\": {\"123\": 11, \"119\": 1, \"38\": 2, \"78\": 2}, \"66\": {\"76\": 1, \"66\": 14, \"65\": 1, \"48\": 1, \"64\": 1, \"31\": 1, \"19\": 1}, \"36\": {\"36\": 62, \"14\": 1, \"51\": 1, \"9\": 2, \"15\": 7, \"125\": 13, \"127\": 2, \"44\": 1, \"24\": 10, \"113\": 1, \"106\": 3, \"109\": 1, \"6\": 3, \"94\": 2, \"39\": 1, \"27\": 4, \"30\": 3, \"98\": 1, \"111\": 4, \"23\": 1, \"75\": 1, \"32\": 1, \"18\": 1, \"126\": 1, \"69\": 1}, \"115\": {\"78\": 1, \"115\": 7, \"101\": 1, \"43\": 1, \"79\": 1, \"90\": 1}, \"77\": {\"77\": 9, \"27\": 1, \"101\": 1, \"108\": 2, \"68\": 1, \"97\": 1, \"0\": 1}, \"119\": {\"119\": 19, \"38\": 1}, \"65\": {\"65\": 10, \"74\": 2, \"121\": 1, \"113\": 1, \"48\": 1, \"126\": 2, \"81\": 1, \"118\": 2}, \"34\": {\"18\": 2, \"75\": 2, \"15\": 1, \"41\": 1, \"49\": 1, \"34\": 9, \"111\": 2, \"94\": 1, \"116\": 1, \"106\": 1, \"1\": 1, \"12\": 2, \"29\": 1, \"118\": 1, \"28\": 1, \"54\": 1, \"110\": 1, \"21\": 1, \"101\": 2}, \"107\": {\"55\": 1, \"107\": 40, \"0\": 1, \"69\": 1, \"24\": 1, \"113\": 2, \"5\": 4, \"124\": 1, \"40\": 6, \"94\": 1, \"103\": 1, \"17\": 1, \"4\": 1, \"73\": 1, \"58\": 1, \"43\": 1}, \"13\": {\"13\": 4, \"18\": 1, \"96\": 1, \"2\": 4, \"78\": 1, \"81\": 4, \"32\": 1}, \"110\": {\"25\": 1, \"110\": 14, \"74\": 1, \"85\": 1, \"105\": 2, \"88\": 1, \"0\": 1, \"2\": 1, \"12\": 1, \"5\": 3, \"1\": 2, \"73\": 2, \"33\": 1, \"129\": 2, \"120\": 1, \"23\": 1, \"3\": 1, \"44\": 1, \"43\": 1, \"84\": 1, \"24\": 1}, \"106\": {\"106\": 60, \"15\": 8, \"36\": 10, \"111\": 5, \"6\": 4, \"24\": 9, \"101\": 2, \"27\": 1, \"125\": 9, \"43\": 1, \"98\": 1, \"51\": 2, \"83\": 1, \"94\": 3, \"30\": 1, \"88\": 1}, \"89\": {\"89\": 18, \"4\": 1, \"60\": 1, \"83\": 1, \"87\": 1, \"32\": 3, \"121\": 1, \"96\": 1, \"34\": 1, \"10\": 1, \"46\": 1, \"19\": 1, \"76\": 2, \"119\": 1, \"86\": 1, \"116\": 1}, \"94\": {\"27\": 3, \"51\": 1, \"29\": 1, \"94\": 21, \"122\": 1, \"58\": 1, \"127\": 1, \"87\": 1, \"9\": 2, \"36\": 4, \"111\": 2, \"21\": 1, \"125\": 2, \"101\": 1, \"98\": 3, \"16\": 1, \"24\": 4, \"15\": 6, \"75\": 1, \"120\": 1, \"88\": 2, \"39\": 1, \"126\": 1, \"0\": 1, \"106\": 1}, \"98\": {\"98\": 82, \"101\": 9, \"97\": 1, \"123\": 1, \"21\": 1, \"92\": 1, \"71\": 1, \"108\": 4, \"3\": 1, \"106\": 1, \"30\": 2, \"102\": 1, \"114\": 1, \"44\": 1, \"26\": 1, \"88\": 1, \"0\": 3}, \"91\": {\"91\": 13, \"42\": 1, \"3\": 1, \"98\": 1, \"30\": 2, \"71\": 1, \"43\": 1, \"11\": 1, \"12\": 1, \"59\": 1, \"101\": 1, \"49\": 1, \"29\": 1, \"32\": 1, \"35\": 1}, \"84\": {\"84\": 48, \"118\": 1, \"67\": 1, \"102\": 5, \"14\": 4, \"62\": 9, \"87\": 1, \"18\": 1, \"8\": 2, \"43\": 1, \"126\": 1, \"40\": 2, \"33\": 7, \"1\": 4, \"122\": 1, \"78\": 1, \"124\": 1, \"93\": 1, \"88\": 1}, \"73\": {\"9\": 1, \"73\": 15, \"105\": 4, \"86\": 3, \"110\": 1, \"102\": 1, \"83\": 1, \"82\": 1, \"95\": 1}, \"104\": {\"104\": 12, \"44\": 1, \"4\": 1, \"95\": 2, \"19\": 1, \"42\": 1, \"114\": 1, \"38\": 1}, \"59\": {\"103\": 1, \"59\": 4, \"124\": 1, \"11\": 3, \"128\": 1, \"41\": 2, \"115\": 1, \"30\": 1, \"49\": 2}, \"74\": {\"74\": 14, \"126\": 1, \"99\": 1}, \"28\": {\"28\": 14, \"45\": 1, \"44\": 1, \"84\": 1, \"33\": 1, \"89\": 2}, \"95\": {\"95\": 22, \"4\": 1, \"119\": 1, \"40\": 5, \"73\": 3, \"30\": 1, \"105\": 2, \"5\": 1}, \"2\": {\"2\": 11, \"43\": 1, \"102\": 1, \"118\": 1, \"72\": 1, \"21\": 1, \"13\": 1, \"78\": 2, \"93\": 2, \"99\": 1, \"26\": 1, \"39\": 1, \"113\": 2, \"87\": 1, \"88\": 1, \"16\": 2, \"117\": 1, \"69\": 1}, \"5\": {\"101\": 2, \"5\": 82, \"105\": 3, \"32\": 1, \"127\": 1, \"0\": 3, \"114\": 3, \"110\": 1, \"107\": 1, \"10\": 1, \"122\": 1, \"4\": 3, \"71\": 5, \"11\": 1, \"7\": 1, \"108\": 1, \"88\": 1, \"26\": 1}, \"50\": {\"50\": 10, \"120\": 1, \"26\": 1, \"73\": 1, \"85\": 1, \"14\": 2}, \"109\": {\"2\": 1, \"88\": 8, \"119\": 2, \"109\": 31, \"6\": 1, \"21\": 3, \"44\": 10, \"39\": 8, \"126\": 1, \"118\": 2, \"23\": 1, \"93\": 5, \"90\": 5, \"18\": 2, \"10\": 6, \"87\": 4, \"70\": 5, \"32\": 1, \"62\": 1, \"16\": 2, \"33\": 1}, \"10\": {\"10\": 31, \"90\": 2, \"23\": 2, \"63\": 1, \"44\": 13, \"39\": 2, \"122\": 1, \"8\": 2, \"83\": 2, \"119\": 1, \"26\": 1, \"88\": 2}, \"45\": {\"45\": 11, \"38\": 1, \"87\": 1, \"121\": 1, \"119\": 1, \"117\": 1}, \"121\": {\"45\": 1, \"82\": 1, \"121\": 7, \"90\": 5, \"92\": 2, \"21\": 2, \"109\": 2, \"88\": 1, \"10\": 2, \"69\": 2, \"42\": 1, \"89\": 3, \"44\": 2, \"104\": 1, \"119\": 1, \"66\": 1, \"99\": 1, \"72\": 1}, \"124\": {\"85\": 1, \"124\": 76, \"28\": 1, \"40\": 3, \"4\": 3, \"107\": 1, \"89\": 1, \"5\": 2, \"125\": 2, \"30\": 3, \"70\": 1, \"122\": 1, \"111\": 3, \"108\": 2, \"51\": 1, \"86\": 1, \"11\": 1, \"95\": 1, \"54\": 1, \"7\": 1, \"24\": 2, \"12\": 1, \"98\": 1}, \"53\": {\"124\": 1, \"53\": 12, \"21\": 1, \"10\": 1, \"125\": 1}, \"79\": {\"79\": 12, \"49\": 1, \"24\": 1, \"3\": 2}, \"43\": {\"43\": 23, \"53\": 1, \"123\": 1, \"70\": 3, \"44\": 5, \"59\": 1, \"122\": 4, \"88\": 9, \"33\": 4, \"113\": 2, \"1\": 10, \"10\": 4, \"73\": 1, \"11\": 1, \"110\": 2, \"105\": 10, \"39\": 3, \"84\": 3, \"87\": 3, \"40\": 2, \"126\": 3, \"109\": 6, \"114\": 3, \"90\": 6, \"115\": 1, \"93\": 1, \"21\": 1, \"106\": 1}, \"122\": {\"110\": 1, \"87\": 6, \"84\": 1, \"90\": 9, \"12\": 1, \"120\": 1, \"43\": 12, \"122\": 27, \"78\": 2, \"1\": 5, \"44\": 3, \"107\": 2, \"11\": 4, \"127\": 1, \"108\": 5, \"88\": 5, \"23\": 1, \"0\": 4, \"10\": 1, \"5\": 8, \"126\": 2, \"109\": 1, \"111\": 1, \"3\": 2, \"105\": 6, \"39\": 1, \"8\": 3, \"114\": 3, \"98\": 1, \"101\": 1, \"123\": 1, \"119\": 1, \"62\": 1, \"29\": 1, \"71\": 4, \"95\": 1, \"4\": 1, \"93\": 2, \"7\": 3, \"70\": 1, \"40\": 1, \"16\": 1}, \"100\": {\"100\": 8, \"93\": 2, \"43\": 2, \"18\": 1, \"124\": 1, \"126\": 1, \"1\": 1}, \"19\": {\"122\": 2, \"105\": 2, \"78\": 1, \"40\": 1, \"19\": 6, \"44\": 5, \"12\": 1, \"10\": 1, \"102\": 1, \"123\": 1, \"107\": 1, \"20\": 2, \"24\": 1, \"109\": 1, \"120\": 1, \"14\": 1}, \"12\": {\"12\": 28, \"127\": 11, \"114\": 8, \"4\": 2, \"110\": 2, \"75\": 1, \"24\": 1, \"122\": 3, \"111\": 7, \"88\": 1, \"0\": 1, \"5\": 6, \"71\": 1, \"101\": 3, \"98\": 1, \"7\": 1, \"40\": 3, \"3\": 2, \"30\": 1, \"70\": 2, \"106\": 1, \"108\": 1, \"39\": 1}, \"17\": {\"17\": 5, \"114\": 1, \"110\": 3, \"4\": 1, \"0\": 1, \"20\": 1, \"107\": 3, \"85\": 1}}, \"C_3\": {\"1\": {\"1\": 76, \"7\": 1, \"47\": 5, \"6\": 1, \"57\": 1, \"3\": 3, \"54\": 2, \"37\": 1, \"2\": 2, \"43\": 1, \"5\": 2, \"15\": 1, \"9\": 2, \"11\": 2}, \"9\": {\"28\": 1, \"9\": 90, \"57\": 8, \"1\": 5, \"32\": 4, \"2\": 2, \"29\": 3, \"54\": 3, \"25\": 1, \"17\": 1, \"4\": 1, \"3\": 1, \"51\": 1, \"31\": 1, \"27\": 2}, \"22\": {\"49\": 2, \"22\": 110, \"56\": 3, \"10\": 2, \"24\": 10, \"43\": 3, \"55\": 2, \"14\": 3, \"1\": 1}, \"43\": {\"43\": 115, \"16\": 4, \"15\": 6, \"49\": 3, \"1\": 1, \"11\": 5, \"7\": 1, \"39\": 1}, \"49\": {\"49\": 18, \"23\": 1, \"43\": 1}, \"50\": {\"50\": 65, \"8\": 6, \"53\": 7, \"42\": 2, \"54\": 1, \"52\": 2, \"34\": 2, \"12\": 4, \"6\": 7, \"46\": 7, \"36\": 4, \"48\": 7, \"18\": 4, \"3\": 5, \"47\": 2, \"17\": 4, \"21\": 1, \"9\": 1, \"27\": 4, \"30\": 1, \"20\": 1, \"5\": 1}, \"53\": {\"53\": 115, \"51\": 7, \"3\": 2, \"9\": 1, \"20\": 1, \"36\": 6, \"2\": 1, \"27\": 1, \"8\": 2}, \"10\": {\"10\": 64}, \"48\": {\"48\": 92, \"42\": 3, \"40\": 1, \"41\": 1, \"34\": 2, \"50\": 1, \"55\": 1, \"3\": 2, \"6\": 6, \"7\": 2, \"29\": 1, \"52\": 2, \"46\": 2}, \"8\": {\"8\": 124, \"17\": 2, \"36\": 6, \"50\": 1, \"12\": 2, \"27\": 1, \"29\": 1, \"54\": 1}, \"31\": {\"31\": 25, \"5\": 1, \"57\": 2}, \"56\": {\"56\": 129, \"22\": 1, \"13\": 3, \"10\": 1}, \"25\": {\"50\": 10, \"48\": 1, \"25\": 67, \"9\": 1, \"33\": 2, \"6\": 1, \"47\": 2, \"12\": 6, \"17\": 11, \"18\": 5, \"20\": 7, \"57\": 3, \"3\": 8, \"30\": 2, \"29\": 1, \"4\": 2, \"19\": 2, \"38\": 1, \"2\": 1, \"54\": 5, \"27\": 1, \"0\": 1, \"46\": 2}, \"28\": {\"31\": 1, \"28\": 14, \"36\": 1, \"46\": 2, \"41\": 2, \"43\": 1, \"3\": 1, \"33\": 1, \"5\": 1, \"57\": 1, \"53\": 1, \"1\": 2}, \"38\": {\"38\": 28}, \"5\": {\"31\": 1, \"5\": 84, \"6\": 1, \"48\": 3, \"41\": 3, \"34\": 1, \"54\": 2, \"1\": 2, \"47\": 3, \"50\": 3, \"57\": 6, \"33\": 1, \"3\": 1, \"0\": 1, \"46\": 4}, \"12\": {\"12\": 78, \"38\": 1, \"54\": 3, \"36\": 3, \"3\": 1, \"8\": 4, \"20\": 1, \"17\": 1}, \"6\": {\"3\": 1, \"6\": 56, \"41\": 1, \"48\": 11, \"42\": 1, \"7\": 1, \"46\": 5, \"17\": 4, \"50\": 3, \"34\": 2, \"35\": 1, \"12\": 1, \"25\": 1}, \"19\": {\"19\": 112, \"40\": 4, \"35\": 3, \"29\": 8, \"1\": 6, \"31\": 1, \"45\": 2, \"50\": 1, \"44\": 2, \"15\": 1, \"53\": 1, \"4\": 4, \"9\": 1, \"46\": 1, \"57\": 2, \"3\": 1, \"21\": 1, \"43\": 1}, \"26\": {\"26\": 19, \"18\": 1, \"48\": 1, \"34\": 1, \"39\": 1, \"41\": 1}, \"32\": {\"32\": 27, \"27\": 1}, \"33\": {\"3\": 1, \"25\": 1, \"33\": 20, \"52\": 1, \"38\": 2, \"42\": 1, \"46\": 1, \"34\": 1}, \"3\": {\"6\": 7, \"48\": 13, \"36\": 2, \"12\": 3, \"46\": 7, \"27\": 7, \"3\": 29, \"21\": 1, \"47\": 5, \"51\": 3, \"50\": 6, \"18\": 2, \"53\": 4, \"20\": 4, \"54\": 5, \"42\": 3, \"38\": 1, \"34\": 2, \"17\": 2, \"32\": 1, \"4\": 2, \"57\": 2, \"9\": 6, \"52\": 1}, \"51\": {\"51\": 111, \"53\": 11, \"21\": 1, \"9\": 2, \"29\": 1, \"36\": 1, \"3\": 1}, \"16\": {\"16\": 117, \"52\": 6, \"15\": 5, \"3\": 1, \"6\": 2, \"23\": 2, \"48\": 2, \"11\": 2, \"41\": 1}, \"46\": {\"46\": 81, \"3\": 6, \"48\": 10, \"6\": 6, \"26\": 1, \"34\": 4, \"21\": 2, \"20\": 3, \"50\": 10, \"52\": 3, \"47\": 4, \"54\": 1, \"25\": 2, \"57\": 1, \"5\": 3, \"33\": 1, \"42\": 1, \"7\": 1}, \"7\": {\"7\": 23, \"11\": 2, \"43\": 1, \"15\": 3, \"52\": 3, \"41\": 2, \"16\": 2}, \"47\": {\"9\": 1, \"39\": 1, \"57\": 8, \"47\": 58, \"48\": 2, \"35\": 1, \"31\": 1, \"41\": 1, \"5\": 4, \"46\": 4, \"1\": 3, \"6\": 4, \"33\": 1, \"37\": 1, \"11\": 1, \"55\": 1}, \"39\": {\"39\": 14, \"18\": 2}, \"40\": {\"40\": 96, \"14\": 1, \"45\": 4, \"19\": 17, \"55\": 4, \"44\": 5, \"25\": 2, \"4\": 2, \"1\": 2, \"49\": 1, \"29\": 2}, \"14\": {\"35\": 5, \"14\": 12, \"29\": 2, \"28\": 1, \"10\": 3, \"57\": 8, \"13\": 2, \"31\": 1, \"4\": 1, \"19\": 1, \"43\": 1, \"22\": 2, \"56\": 1}, \"37\": {\"38\": 1, \"37\": 25, \"51\": 1, \"53\": 1}, \"2\": {\"2\": 29, \"54\": 1, \"21\": 1, \"12\": 1}, \"21\": {\"51\": 22, \"21\": 54, \"37\": 3, \"38\": 2, \"2\": 1, \"47\": 2, \"53\": 11, \"3\": 2, \"57\": 2, \"36\": 3, \"6\": 1, \"52\": 1, \"50\": 1, \"9\": 1, \"54\": 3, \"27\": 3, \"8\": 2, \"35\": 1, \"46\": 1, \"20\": 2, \"48\": 1, \"29\": 1}, \"35\": {\"35\": 28}, \"54\": {\"54\": 97, \"12\": 1, \"50\": 2}, \"52\": {\"52\": 110, \"34\": 1, \"50\": 1, \"48\": 2, \"33\": 1, \"46\": 1}, \"29\": {\"29\": 38, \"51\": 3, \"54\": 2, \"4\": 1, \"8\": 1, \"2\": 5, \"47\": 1, \"9\": 23, \"25\": 7, \"53\": 4, \"0\": 1, \"57\": 21, \"32\": 2, \"28\": 1, \"35\": 2, \"1\": 3, \"27\": 2, \"21\": 1}, \"20\": {\"20\": 106, \"54\": 5, \"46\": 2, \"12\": 3, \"17\": 3, \"50\": 5, \"3\": 1, \"27\": 2, \"6\": 1, \"38\": 1, \"25\": 2, \"8\": 1}, \"18\": {\"18\": 60, \"6\": 4, \"30\": 15, \"34\": 1, \"23\": 2, \"50\": 1, \"20\": 1}, \"11\": {\"11\": 114, \"7\": 2, \"46\": 1, \"52\": 4, \"15\": 13, \"16\": 7, \"23\": 1}, \"0\": {\"0\": 111, \"23\": 8, \"41\": 1, \"48\": 1, \"46\": 1, \"16\": 1, \"5\": 1}, \"36\": {\"36\": 100}, \"17\": {\"17\": 89, \"3\": 3, \"54\": 2, \"50\": 5, \"12\": 3, \"20\": 6}, \"30\": {\"30\": 107, \"18\": 5, \"54\": 2}, \"42\": {\"42\": 19, \"48\": 4, \"47\": 1, \"6\": 3, \"46\": 1}, \"45\": {\"45\": 41, \"32\": 1, \"12\": 3, \"44\": 3, \"19\": 3, \"50\": 1, \"4\": 1, \"51\": 1, \"54\": 1, \"9\": 1, \"35\": 1, \"36\": 1, \"55\": 1, \"0\": 1}, \"4\": {\"29\": 2, \"12\": 3, \"4\": 73, \"27\": 14, \"9\": 9, \"0\": 2, \"51\": 5, \"19\": 2, \"36\": 2, \"53\": 11, \"25\": 2, \"57\": 6, \"8\": 1, \"17\": 1, \"54\": 1, \"47\": 1, \"31\": 1, \"32\": 2, \"2\": 1, \"35\": 1, \"1\": 1, \"3\": 1, \"50\": 3, \"40\": 1, \"21\": 2}, \"23\": {\"23\": 132, \"52\": 2}, \"13\": {\"13\": 127, \"22\": 1}, \"15\": {\"15\": 103, \"23\": 2, \"16\": 10, \"11\": 9, \"7\": 2, \"43\": 1, \"48\": 1}, \"57\": {\"57\": 118, \"1\": 1, \"47\": 1, \"3\": 2, \"9\": 2}, \"27\": {\"36\": 2, \"27\": 127, \"32\": 1, \"53\": 1, \"17\": 2, \"3\": 1}, \"44\": {\"14\": 1, \"13\": 1, \"44\": 62, \"45\": 4, \"40\": 7, \"19\": 8, \"52\": 1, \"4\": 3, \"47\": 1}, \"34\": {\"34\": 30, \"48\": 1, \"42\": 1}, \"41\": {\"41\": 27, \"42\": 1}, \"24\": {\"24\": 103, \"14\": 1}, \"55\": {\"55\": 78, \"43\": 10, \"11\": 4, \"2\": 1, \"24\": 7, \"19\": 3, \"52\": 2, \"22\": 2, \"15\": 3, \"7\": 1, \"5\": 3, \"14\": 1, \"40\": 1, \"1\": 1, \"21\": 1}}, \"W_3\": {\"38\": {\"104\": 4, \"38\": 11, \"81\": 1}, \"88\": {\"88\": 30, \"92\": 3, \"128\": 2, \"94\": 1, \"21\": 3, \"120\": 1, \"0\": 2, \"29\": 2, \"39\": 2, \"109\": 3, \"11\": 4, \"118\": 1, \"8\": 5, \"44\": 3, \"30\": 3, \"90\": 6, \"73\": 1, \"105\": 1, \"110\": 5, \"111\": 1, \"108\": 8, \"87\": 1, \"126\": 4, \"10\": 2, \"113\": 4, \"12\": 1, \"31\": 2, \"65\": 1, \"43\": 1, \"1\": 1, \"15\": 1, \"36\": 2, \"85\": 1, \"70\": 1, \"4\": 1, \"16\": 1, \"117\": 1}, \"104\": {\"14\": 1, \"104\": 10, \"55\": 1, \"38\": 1, \"40\": 2, \"105\": 1}, \"11\": {\"88\": 4, \"16\": 12, \"120\": 2, \"92\": 4, \"43\": 3, \"99\": 1, \"44\": 11, \"90\": 8, \"14\": 2, \"32\": 2, \"26\": 2, \"18\": 4, \"126\": 10, \"102\": 1, \"117\": 3, \"11\": 28, \"62\": 5, \"84\": 3, \"39\": 3, \"108\": 1, \"69\": 1, \"93\": 3, \"109\": 4, \"107\": 2, \"113\": 3, \"10\": 4, \"33\": 5, \"31\": 1, \"80\": 1, \"118\": 3, \"63\": 1, \"21\": 1, \"70\": 1, \"110\": 1}, \"103\": {\"103\": 10, \"128\": 2, \"28\": 1, \"91\": 1, \"86\": 2}, \"124\": {\"104\": 1, \"124\": 68, \"59\": 1, \"66\": 1, \"12\": 4, \"111\": 4, \"24\": 1, \"127\": 3, \"4\": 6, \"30\": 2, \"27\": 3, \"5\": 1, \"36\": 6, \"40\": 2, \"107\": 1, \"88\": 1, \"105\": 2, \"73\": 1, \"0\": 1, \"71\": 2, \"70\": 1, \"60\": 1, \"85\": 1, \"3\": 1, \"90\": 1}, \"3\": {\"3\": 69, \"0\": 3, \"7\": 17, \"31\": 1, \"112\": 1, \"70\": 1, \"71\": 4, \"30\": 1, \"11\": 1, \"5\": 5, \"8\": 1, \"98\": 1, \"27\": 1, \"127\": 2, \"101\": 2, \"1\": 1, \"91\": 1, \"105\": 1, \"108\": 1, \"88\": 1, \"113\": 1}, \"74\": {\"74\": 9, \"128\": 1, \"116\": 1, \"67\": 1, \"25\": 1, \"21\": 1, \"43\": 2}, \"126\": {\"126\": 43, \"11\": 9, \"64\": 1, \"10\": 4, \"39\": 2, \"67\": 2, \"121\": 3, \"118\": 2, \"44\": 3, \"18\": 5, \"90\": 6, \"113\": 8, \"88\": 3, \"109\": 7, \"93\": 10, \"33\": 3, \"117\": 1, \"92\": 1, \"99\": 1, \"19\": 1, \"43\": 1, \"70\": 1, \"21\": 1, \"16\": 1, \"108\": 2, \"102\": 1}, \"123\": {\"123\": 14, \"18\": 1, \"61\": 1}, \"51\": {\"51\": 13, \"34\": 1, \"106\": 1, \"30\": 1}, \"14\": {\"14\": 41, \"16\": 3, \"69\": 4, \"32\": 1, \"105\": 1, \"84\": 1, \"102\": 8, \"62\": 8, \"109\": 1, \"118\": 5, \"40\": 1, \"33\": 1, \"116\": 1, \"122\": 1, \"2\": 1, \"113\": 1, \"1\": 1}, \"16\": {\"11\": 3, \"109\": 6, \"16\": 63, \"43\": 4, \"93\": 8, \"81\": 1, \"90\": 3, \"118\": 1, \"39\": 4, \"18\": 5, \"62\": 2, \"126\": 1, \"33\": 4, \"57\": 1, \"67\": 1, \"14\": 1, \"99\": 2, \"102\": 1, \"44\": 1, \"88\": 2, \"117\": 1, \"84\": 1}, \"22\": {\"22\": 13, \"33\": 1, \"87\": 1, \"116\": 1}, \"109\": {\"88\": 6, \"109\": 22, \"17\": 1, \"20\": 2, \"115\": 2, \"96\": 2, \"44\": 5, \"118\": 4, \"92\": 2, \"62\": 10, \"2\": 1, \"108\": 1, \"90\": 5, \"113\": 2, \"102\": 8, \"117\": 6, \"126\": 7, \"14\": 7, \"18\": 4, \"11\": 3, \"26\": 4, \"10\": 1, \"65\": 2, \"69\": 4, \"82\": 1, \"33\": 2, \"93\": 4, \"21\": 2, \"110\": 2}, \"27\": {\"51\": 1, \"27\": 44, \"94\": 5, \"12\": 2, \"49\": 2, \"98\": 5, \"106\": 3, \"0\": 2, \"125\": 3, \"15\": 8, \"108\": 4, \"36\": 3, \"124\": 2, \"54\": 1, \"7\": 1, \"113\": 2, \"73\": 3, \"30\": 1, \"101\": 1, \"24\": 2, \"111\": 1}, \"75\": {\"75\": 16}, \"66\": {\"23\": 1, \"10\": 1, \"66\": 13, \"78\": 1}, \"48\": {\"115\": 1, \"99\": 2, \"86\": 1, \"93\": 1, \"96\": 1, \"31\": 1, \"66\": 1, \"39\": 1, \"88\": 1, \"21\": 1, \"102\": 1, \"116\": 1, \"14\": 1, \"65\": 2}, \"6\": {\"75\": 2, \"6\": 22, \"37\": 1, \"73\": 2, \"97\": 1, \"36\": 2, \"12\": 1, \"127\": 1}, \"10\": {\"64\": 2, \"10\": 25, \"80\": 3, \"29\": 1, \"101\": 1, \"43\": 2, \"44\": 3, \"108\": 6, \"39\": 1, \"7\": 3, \"30\": 4, \"99\": 1, \"0\": 2, \"127\": 4, \"126\": 6, \"70\": 1, \"8\": 11, \"110\": 3, \"5\": 1, \"87\": 1, \"98\": 1, \"12\": 1, \"90\": 5, \"11\": 3, \"114\": 1, \"93\": 3, \"120\": 1, \"3\": 3, \"17\": 1, \"19\": 1, \"113\": 2, \"24\": 1, \"128\": 1, \"83\": 1, \"21\": 2, \"88\": 3, \"122\": 1}, \"99\": {\"64\": 2, \"29\": 1, \"54\": 1, \"99\": 15, \"44\": 5, \"21\": 2, \"90\": 6, \"10\": 1, \"96\": 1, \"70\": 1, \"23\": 1}, \"50\": {\"50\": 8, \"115\": 1, \"14\": 1, \"19\": 1, \"32\": 2, \"69\": 1, \"82\": 1, \"84\": 1}, \"54\": {\"54\": 15, \"27\": 1}, \"55\": {\"55\": 10, \"115\": 1, \"40\": 2, \"1\": 2, \"87\": 1}, \"53\": {\"53\": 12, \"99\": 1, \"43\": 2, \"122\": 1, \"119\": 1, \"114\": 1, \"20\": 1, \"50\": 1}, \"72\": {\"72\": 17, \"58\": 3, \"68\": 1, \"105\": 1, \"47\": 1, \"106\": 1, \"124\": 1, \"112\": 1, \"111\": 1, \"37\": 1}, \"64\": {\"64\": 15, \"92\": 3, \"80\": 2}, \"115\": {\"115\": 7, \"87\": 1, \"84\": 1, \"32\": 1, \"102\": 2, \"82\": 1, \"14\": 1, \"129\": 2}, \"23\": {\"126\": 2, \"23\": 8, \"81\": 1, \"0\": 1, \"63\": 1, \"2\": 2, \"93\": 1, \"128\": 1, \"110\": 1, \"31\": 1, \"14\": 1, \"99\": 1, \"108\": 1, \"103\": 1, \"96\": 1, \"7\": 1, \"76\": 1, \"127\": 1, \"15\": 1, \"114\": 1, \"118\": 1, \"19\": 2}, \"32\": {\"32\": 9, \"8\": 1, \"128\": 1, \"18\": 1, \"39\": 1, \"33\": 3, \"0\": 1, \"84\": 1, \"88\": 1, \"122\": 2, \"11\": 3, \"81\": 3, \"93\": 2, \"109\": 2, \"108\": 1}, \"15\": {\"15\": 52, \"94\": 9, \"37\": 3, \"6\": 5, \"92\": 1, \"106\": 6, \"27\": 5, \"30\": 2, \"98\": 1, \"125\": 1, \"12\": 1, \"111\": 3, \"117\": 1, \"36\": 5, \"52\": 2, \"63\": 1, \"7\": 1, \"75\": 1, \"24\": 2, \"124\": 1, \"8\": 1}, \"43\": {\"64\": 1, \"32\": 1, \"33\": 5, \"99\": 1, \"65\": 1, \"109\": 3, \"31\": 2, \"93\": 2, \"117\": 2, \"21\": 7, \"122\": 1, \"44\": 1, \"126\": 1, \"92\": 2, \"100\": 1, \"108\": 1, \"16\": 1, \"43\": 7, \"88\": 1, \"80\": 1, \"81\": 1, \"13\": 2, \"39\": 1, \"118\": 3, \"26\": 1, \"2\": 1, \"70\": 1, \"18\": 1, \"62\": 1, \"11\": 2}, \"114\": {\"114\": 74, \"30\": 3, \"87\": 5, \"122\": 2, \"46\": 1, \"1\": 9, \"34\": 1, \"110\": 4, \"108\": 2, \"7\": 2, \"5\": 5, \"18\": 1, \"9\": 1, \"84\": 2, \"71\": 2, \"105\": 3, \"126\": 1, \"23\": 1, \"95\": 1, \"32\": 1, \"3\": 2, \"8\": 1}, \"121\": {\"64\": 1, \"81\": 1, \"28\": 1, \"121\": 8, \"102\": 1, \"67\": 1, \"84\": 1, \"80\": 3, \"21\": 1, \"44\": 1, \"11\": 1, \"117\": 1, \"126\": 1, \"92\": 3, \"45\": 1, \"123\": 1, \"90\": 1, \"82\": 2, \"89\": 2}, \"79\": {\"79\": 9, \"81\": 1, \"45\": 2}, \"81\": {\"81\": 27, \"33\": 1, \"69\": 1, \"18\": 1, \"26\": 1, \"100\": 1}, \"8\": {\"8\": 45, \"86\": 1, \"5\": 5, \"108\": 13, \"10\": 13, \"30\": 4, \"44\": 3, \"73\": 1, \"101\": 3, \"0\": 3, \"98\": 7, \"87\": 1, \"110\": 2, \"3\": 1, \"12\": 4, \"7\": 8, \"111\": 2, \"127\": 2, \"88\": 3, \"99\": 1, \"15\": 2, \"91\": 1, \"70\": 1, \"90\": 2}, \"13\": {\"81\": 1, \"64\": 1, \"13\": 3, \"115\": 1, \"92\": 1, \"18\": 1, \"96\": 2, \"16\": 1, \"44\": 1, \"69\": 1, \"21\": 1, \"61\": 1, \"63\": 1}, \"90\": {\"64\": 1, \"90\": 105, \"92\": 1, \"21\": 4, \"96\": 3, \"39\": 2, \"10\": 3, \"126\": 6, \"110\": 5, \"113\": 6, \"93\": 5, \"44\": 7, \"43\": 1, \"88\": 4, \"29\": 1, \"109\": 1, \"11\": 1}, \"41\": {\"64\": 1, \"41\": 11, \"19\": 1, \"5\": 1, \"66\": 1, \"119\": 1}, \"107\": {\"107\": 74, \"102\": 5, \"128\": 1, \"129\": 2, \"84\": 6, \"86\": 1, \"88\": 1, \"105\": 5, \"62\": 6, \"40\": 21, \"11\": 2, \"4\": 1, \"26\": 1, \"50\": 2, \"69\": 1, \"87\": 2, \"39\": 1, \"118\": 2, \"8\": 1, \"109\": 1}, \"57\": {\"57\": 18, \"92\": 1, \"99\": 1}, \"33\": {\"33\": 97, \"18\": 2, \"14\": 1, \"109\": 1, \"39\": 3, \"93\": 4, \"62\": 4, \"11\": 2, \"117\": 1, \"16\": 2, \"92\": 1, \"84\": 2}, \"35\": {\"70\": 1, \"35\": 7, \"42\": 1, \"3\": 1, \"127\": 1, \"128\": 1}, \"29\": {\"99\": 2, \"29\": 21, \"31\": 2, \"110\": 1, \"44\": 3, \"10\": 1, \"128\": 1, \"21\": 1}, \"70\": {\"42\": 1, \"99\": 1, \"29\": 2, \"51\": 2, \"120\": 2, \"4\": 2, \"39\": 2, \"30\": 1, \"21\": 3, \"95\": 2, \"88\": 6, \"11\": 1, \"126\": 1, \"1\": 3, \"90\": 2, \"70\": 14, \"71\": 3, \"8\": 5, \"108\": 2, \"110\": 1, \"92\": 1, \"113\": 2, \"19\": 2, \"127\": 2, \"98\": 1, \"5\": 1, \"40\": 1, \"0\": 3, \"118\": 1, \"109\": 1, \"44\": 1}, \"42\": {\"43\": 1, \"42\": 5, \"7\": 1, \"97\": 2, \"36\": 1, \"3\": 1, \"78\": 1, \"71\": 1, \"90\": 1, \"15\": 2, \"99\": 1, \"72\": 1, \"56\": 1, \"4\": 1, \"73\": 1, \"117\": 1, \"49\": 1, \"95\": 1, \"0\": 1, \"108\": 1, \"104\": 1, \"86\": 1}, \"93\": {\"33\": 3, \"43\": 1, \"113\": 13, \"93\": 70, \"28\": 1, \"128\": 1, \"21\": 1, \"90\": 4, \"109\": 3, \"126\": 7, \"16\": 2, \"14\": 2, \"44\": 1, \"39\": 2, \"118\": 4, \"87\": 1, \"62\": 1, \"11\": 6, \"102\": 1, \"18\": 1, \"88\": 1}, \"86\": {\"70\": 3, \"86\": 16, \"101\": 1, \"108\": 1, \"122\": 1, \"10\": 2, \"30\": 1, \"7\": 1, \"114\": 2}, \"28\": {\"28\": 12, \"99\": 1, \"31\": 1, \"13\": 2}, \"1\": {\"1\": 49, \"3\": 3, \"129\": 2, \"108\": 4, \"5\": 5, \"114\": 11, \"87\": 6, \"110\": 6, \"105\": 7, \"85\": 1, \"100\": 2, \"71\": 1, \"127\": 3, \"43\": 1, \"18\": 1, \"9\": 2, \"40\": 1, \"101\": 1, \"90\": 1, \"109\": 1}, \"125\": {\"125\": 106, \"36\": 7, \"44\": 2, \"27\": 4, \"106\": 4, \"24\": 1}, \"69\": {\"69\": 70, \"82\": 5, \"2\": 1, \"26\": 1, \"117\": 1, \"102\": 2, \"107\": 1, \"39\": 1, \"87\": 1, \"62\": 1}, \"97\": {\"97\": 9, \"113\": 2, \"106\": 1, \"51\": 1, \"42\": 1, \"30\": 1, \"0\": 2, \"6\": 2, \"101\": 1}, \"117\": {\"117\": 65, \"33\": 5, \"63\": 1, \"67\": 1, \"109\": 3, \"84\": 1, \"102\": 2, \"39\": 7, \"16\": 3, \"18\": 6, \"62\": 2, \"11\": 4, \"26\": 3, \"93\": 1, \"74\": 2, \"21\": 1, \"81\": 2, \"118\": 1, \"14\": 1, \"126\": 1}, \"68\": {\"68\": 13, \"111\": 1, \"72\": 1, \"95\": 1}, \"30\": {\"68\": 2, \"125\": 1, \"103\": 1, \"72\": 2, \"83\": 1, \"12\": 4, \"108\": 8, \"58\": 1, \"1\": 1, \"36\": 4, \"111\": 9, \"15\": 4, \"7\": 2, \"4\": 1, \"30\": 14, \"73\": 2, \"10\": 2, \"8\": 4, \"27\": 1, \"3\": 1, \"98\": 3, \"88\": 1, \"39\": 1, \"25\": 1, \"49\": 1, \"37\": 1, \"91\": 1, \"43\": 1, \"24\": 3, \"0\": 2, \"90\": 1, \"106\": 1, \"44\": 1, \"70\": 1}, \"111\": {\"68\": 2, \"111\": 112, \"0\": 3, \"98\": 2, \"73\": 1, \"4\": 1, \"127\": 1, \"52\": 1, \"112\": 1, \"51\": 1, \"124\": 2, \"24\": 1, \"36\": 1, \"30\": 1, \"71\": 1, \"12\": 1}, \"47\": {\"47\": 10, \"125\": 1, \"114\": 1}, \"102\": {\"102\": 87, \"119\": 1, \"55\": 1, \"33\": 1, \"117\": 1, \"69\": 3, \"26\": 6, \"8\": 1, \"62\": 6, \"84\": 4, \"89\": 1, \"129\": 1, \"14\": 4, \"118\": 3, \"109\": 1, \"39\": 1, \"40\": 1, \"107\": 1}, \"65\": {\"65\": 8, \"28\": 2, \"57\": 1, \"92\": 1}, \"113\": {\"113\": 52, \"43\": 2, \"80\": 2, \"39\": 3, \"93\": 18, \"96\": 2, \"11\": 4, \"118\": 4, \"10\": 1, \"24\": 1, \"109\": 6, \"33\": 3, \"44\": 4, \"16\": 3, \"62\": 1, \"18\": 1, \"126\": 5, \"88\": 2, \"92\": 1, \"73\": 1, \"70\": 1, \"90\": 2, \"98\": 1}, \"36\": {\"30\": 5, \"36\": 40, \"94\": 13, \"95\": 1, \"6\": 2, \"15\": 9, \"98\": 4, \"111\": 4, \"7\": 2, \"125\": 5, \"27\": 10, \"124\": 1, \"108\": 1, \"127\": 1, \"73\": 1, \"54\": 2, \"71\": 1, \"99\": 1, \"97\": 2, \"70\": 1, \"106\": 2, \"12\": 3, \"3\": 2, \"126\": 1}, \"119\": {\"65\": 1, \"119\": 8, \"18\": 2, \"33\": 1, \"81\": 2, \"100\": 2}, \"46\": {\"46\": 10, \"3\": 1, \"9\": 2, \"19\": 2, \"40\": 1}, \"49\": {\"90\": 2, \"21\": 3, \"101\": 1, \"93\": 2, \"91\": 2, \"7\": 1, \"39\": 1, \"108\": 1, \"125\": 2, \"19\": 1, \"80\": 1, \"49\": 2, \"52\": 1, \"28\": 1, \"92\": 2, \"43\": 1}, \"0\": {\"58\": 1, \"3\": 3, \"97\": 2, \"83\": 2, \"0\": 34, \"23\": 1, \"73\": 8, \"110\": 1, \"7\": 11, \"12\": 5, \"70\": 2, \"111\": 5, \"101\": 2, \"88\": 3, \"108\": 5, \"30\": 8, \"15\": 3, \"69\": 1, \"10\": 3, \"35\": 2, \"65\": 2, \"114\": 2, \"5\": 2, \"29\": 1, \"127\": 2, \"8\": 2, \"98\": 1, \"4\": 1, \"1\": 1}, \"58\": {\"58\": 14, \"15\": 1, \"83\": 1}, \"63\": {\"33\": 2, \"117\": 1, \"122\": 1, \"39\": 2, \"81\": 2, \"11\": 2, \"31\": 1, \"45\": 1, \"18\": 1, \"63\": 3}, \"94\": {\"72\": 2, \"94\": 43, \"106\": 4, \"27\": 2, \"58\": 3, \"34\": 1, \"122\": 1, \"73\": 3, \"15\": 8, \"98\": 4, \"97\": 2, \"6\": 1, \"24\": 2, \"101\": 1, \"36\": 3, \"125\": 2, \"111\": 1, \"30\": 1}, \"17\": {\"46\": 1, \"17\": 4, \"38\": 1, \"11\": 1, \"93\": 1, \"121\": 2, \"127\": 1, \"32\": 1, \"86\": 1, \"126\": 1, \"115\": 1, \"114\": 1}, \"9\": {\"87\": 2, \"9\": 18, \"1\": 3, \"32\": 1, \"108\": 3, \"114\": 1, \"110\": 1, \"99\": 1, \"16\": 1, \"84\": 1}, \"87\": {\"87\": 30, \"80\": 1, \"71\": 2, \"39\": 1, \"57\": 1, \"110\": 5, \"82\": 1, \"11\": 2, \"88\": 4, \"114\": 7, \"129\": 1, \"90\": 9, \"40\": 2, \"21\": 2, \"109\": 2, \"122\": 2, \"84\": 9, \"14\": 3, \"44\": 3, \"4\": 2, \"3\": 1, \"8\": 2, \"113\": 2, \"102\": 1, \"62\": 3, \"124\": 1, \"16\": 2, \"10\": 2, \"53\": 1, \"64\": 1, \"74\": 1, \"96\": 2, \"2\": 1, \"43\": 2, \"1\": 2, \"118\": 1, \"93\": 2, \"70\": 1, \"126\": 1, \"33\": 1, \"105\": 1}, \"59\": {\"59\": 8, \"58\": 1, \"37\": 2, \"35\": 1}, \"105\": {\"68\": 1, \"105\": 65, \"85\": 1, \"53\": 1, \"71\": 6, \"5\": 10, \"1\": 9, \"4\": 6, \"40\": 4, \"108\": 3, \"8\": 1, \"107\": 1, \"10\": 1, \"101\": 1, \"9\": 1, \"87\": 1, \"114\": 4, \"30\": 1, \"127\": 3}, \"80\": {\"80\": 14, \"70\": 2}, \"120\": {\"120\": 18, \"80\": 1, \"92\": 1}, \"18\": {\"33\": 6, \"18\": 109, \"26\": 3, \"21\": 1, \"118\": 3, \"109\": 2, \"39\": 1, \"126\": 1, \"117\": 1, \"43\": 2, \"90\": 1, \"16\": 2}, \"78\": {\"81\": 1, \"80\": 1, \"20\": 1, \"5\": 1, \"4\": 1, \"21\": 1, \"68\": 2, \"123\": 1, \"78\": 1, \"17\": 1, \"118\": 1, \"100\": 1, \"70\": 1, \"96\": 1, \"110\": 1}, \"25\": {\"25\": 15, \"125\": 1}, \"19\": {\"120\": 1, \"72\": 1, \"85\": 1, \"106\": 1, \"31\": 1, \"19\": 6, \"107\": 2, \"93\": 2, \"29\": 1, \"73\": 1, \"15\": 1, \"44\": 1, \"124\": 2, \"52\": 1, \"80\": 2, \"46\": 1, \"105\": 2, \"57\": 1, \"55\": 1, \"111\": 1, \"21\": 1, \"83\": 1}, \"122\": {\"39\": 5, \"129\": 1, \"17\": 1, \"114\": 2, \"122\": 13, \"120\": 2, \"29\": 3, \"2\": 1, \"10\": 2, \"70\": 2, \"1\": 6, \"107\": 1, \"21\": 2, \"87\": 3, \"88\": 4, \"109\": 1, \"44\": 1, \"28\": 1, \"31\": 1, \"64\": 1, \"121\": 1, \"49\": 1, \"108\": 1, \"18\": 2, \"16\": 1, \"5\": 1}, \"39\": {\"120\": 1, \"122\": 3, \"81\": 2, \"80\": 2, \"113\": 10, \"39\": 15, \"70\": 2, \"44\": 10, \"21\": 2, \"31\": 1, \"14\": 1, \"26\": 2, \"43\": 1, \"74\": 1, \"84\": 3, \"109\": 5, \"16\": 3, \"90\": 4, \"87\": 3, \"10\": 5, \"126\": 8, \"88\": 5, \"102\": 1, \"18\": 4, \"117\": 1, \"118\": 1, \"92\": 1, \"63\": 1, \"19\": 2, \"11\": 2, \"93\": 4, \"62\": 1, \"33\": 1}, \"76\": {\"76\": 9, \"89\": 2, \"2\": 1, \"119\": 1, \"33\": 1, \"92\": 1, \"43\": 1}, \"89\": {\"117\": 1, \"79\": 2, \"89\": 20, \"104\": 1, \"43\": 1, \"88\": 1, \"21\": 1, \"18\": 1}, \"129\": {\"129\": 19, \"105\": 2, \"11\": 1, \"109\": 1, \"40\": 1, \"5\": 1, \"88\": 1, \"110\": 1, \"87\": 1, \"112\": 1, \"114\": 1, \"14\": 1, \"127\": 1}, \"26\": {\"80\": 2, \"26\": 51, \"84\": 2, \"14\": 4, \"102\": 11, \"81\": 2, \"117\": 11, \"110\": 1, \"18\": 3, \"69\": 2, \"109\": 3, \"70\": 1, \"118\": 3, \"62\": 4}, \"85\": {\"124\": 2, \"85\": 18, \"24\": 2, \"1\": 1, \"106\": 1, \"41\": 1, \"88\": 1, \"9\": 1, \"68\": 1, \"95\": 1, \"23\": 1, \"40\": 1, \"105\": 2, \"108\": 1, \"5\": 2}, \"71\": {\"128\": 1, \"71\": 42, \"95\": 2, \"70\": 1, \"102\": 1, \"3\": 2, \"98\": 1, \"8\": 2, \"114\": 1, \"127\": 3, \"5\": 3, \"32\": 1, \"1\": 1, \"9\": 1, \"105\": 2, \"18\": 1, \"0\": 1, \"12\": 1, \"4\": 1}, \"77\": {\"77\": 10, \"103\": 1, \"3\": 1, \"23\": 2, \"8\": 1, \"101\": 1}, \"128\": {\"128\": 18, \"32\": 1, \"29\": 1, \"90\": 1, \"10\": 1, \"92\": 3, \"121\": 1, \"64\": 1, \"86\": 1, \"108\": 1, \"43\": 1, \"103\": 1, \"113\": 1}, \"2\": {\"2\": 9, \"43\": 1, \"18\": 2, \"96\": 1, \"88\": 1, \"118\": 4, \"113\": 1, \"16\": 3, \"107\": 1, \"33\": 1, \"117\": 1, \"44\": 1, \"26\": 1, \"21\": 1}, \"56\": {\"70\": 1, \"56\": 6, \"95\": 2, \"42\": 2, \"112\": 1}, \"24\": {\"54\": 2, \"75\": 2, \"24\": 9, \"58\": 2, \"98\": 3, \"111\": 2, \"106\": 4, \"30\": 3, \"12\": 1, \"27\": 6, \"11\": 1, \"105\": 1, \"68\": 1, \"97\": 1, \"73\": 1, \"15\": 5, \"5\": 1, \"36\": 1, \"125\": 1, \"0\": 1}, \"101\": {\"2\": 2, \"70\": 1, \"24\": 1, \"101\": 20, \"3\": 4, \"112\": 2, \"10\": 1, \"111\": 1, \"0\": 4, \"105\": 1, \"26\": 1, \"30\": 3, \"8\": 1, \"12\": 2, \"88\": 1, \"7\": 2, \"114\": 1, \"99\": 1, \"5\": 2, \"1\": 1}, \"52\": {\"52\": 8, \"56\": 1, \"112\": 1, \"15\": 1, \"58\": 2, \"97\": 2, \"98\": 1}, \"84\": {\"84\": 45, \"14\": 6, \"86\": 1, \"129\": 2, \"43\": 2, \"33\": 8, \"18\": 4, \"100\": 4, \"118\": 5, \"109\": 2, \"40\": 4, \"102\": 4, \"110\": 2, \"108\": 1, \"11\": 1, \"74\": 2, \"55\": 1, \"62\": 5, \"32\": 1, \"16\": 2, \"122\": 1, \"1\": 1, \"70\": 1, \"87\": 3}, \"7\": {\"7\": 60, \"3\": 15, \"23\": 1, \"101\": 3, \"0\": 1, \"108\": 5, \"10\": 2, \"98\": 5, \"12\": 2, \"88\": 2, \"5\": 1, \"39\": 1, \"44\": 3, \"113\": 2, \"8\": 3, \"90\": 1, \"30\": 1, \"110\": 1, \"127\": 2, \"111\": 1}, \"82\": {\"69\": 2, \"82\": 20, \"118\": 1, \"22\": 1, \"40\": 1, \"14\": 2, \"70\": 1}, \"60\": {\"60\": 10, \"64\": 1, \"114\": 1, \"58\": 1, \"93\": 2, \"45\": 1, \"10\": 1, \"44\": 2, \"108\": 2, \"7\": 1, \"110\": 2, \"29\": 1, \"124\": 1, \"43\": 1, \"8\": 1}, \"45\": {\"64\": 1, \"45\": 8, \"69\": 1, \"18\": 1, \"118\": 1, \"39\": 1, \"16\": 1, \"79\": 1, \"117\": 1}, \"40\": {\"55\": 2, \"127\": 1, \"40\": 64, \"87\": 2, \"105\": 7, \"114\": 5, \"107\": 22, \"108\": 3, \"8\": 1, \"90\": 1, \"4\": 4, \"62\": 2, \"5\": 2, \"82\": 2, \"84\": 2, \"124\": 1, \"71\": 1, \"85\": 1, \"102\": 1}, \"20\": {\"116\": 2, \"20\": 10, \"21\": 1, \"43\": 1, \"48\": 1, \"23\": 1}, \"4\": {\"9\": 2, \"71\": 1, \"91\": 1, \"12\": 3, \"4\": 49, \"105\": 9, \"40\": 7, \"87\": 1, \"127\": 6, \"114\": 2, \"98\": 4, \"108\": 1, \"1\": 1, \"124\": 1, \"0\": 1, \"88\": 1, \"8\": 1, \"122\": 2, \"107\": 2, \"30\": 1}, \"116\": {\"116\": 5, \"20\": 1, \"11\": 2, \"45\": 1, \"50\": 1, \"33\": 2, \"88\": 1, \"109\": 1, \"93\": 2, \"67\": 1, \"118\": 1, \"22\": 3, \"14\": 3, \"53\": 1, \"17\": 1, \"41\": 2}, \"61\": {\"61\": 14, \"102\": 1, \"21\": 1}, \"5\": {\"5\": 67, \"127\": 8, \"3\": 3, \"46\": 1, \"1\": 6, \"30\": 1, \"105\": 11, \"71\": 2, \"108\": 1, \"7\": 2, \"4\": 2, \"95\": 1, \"114\": 3, \"98\": 2, \"18\": 1, \"126\": 1}, \"106\": {\"36\": 7, \"106\": 61, \"72\": 3, \"54\": 1, \"34\": 2, \"75\": 3, \"102\": 1, \"15\": 5, \"24\": 6, \"111\": 2, \"73\": 2, \"94\": 3, \"97\": 1, \"98\": 2, \"125\": 1}, \"12\": {\"12\": 45, \"83\": 1, \"3\": 2, \"95\": 2, \"51\": 1, \"98\": 7, \"4\": 3, \"114\": 2, \"5\": 4, \"7\": 4, \"73\": 1, \"111\": 8, \"0\": 4, \"30\": 2, \"105\": 1, \"8\": 2, \"108\": 1, \"112\": 1, \"42\": 1, \"101\": 1, \"106\": 2, \"127\": 2, \"71\": 2, \"6\": 1, \"24\": 1, \"85\": 1, \"15\": 2}, \"62\": {\"62\": 69, \"109\": 7, \"26\": 5, \"33\": 11, \"18\": 4, \"39\": 4, \"88\": 1, \"14\": 4, \"11\": 2, \"69\": 1, \"118\": 5, \"102\": 1, \"92\": 1, \"44\": 1, \"113\": 1, \"84\": 1, \"87\": 1, \"107\": 1}, \"34\": {\"28\": 1, \"94\": 4, \"115\": 1, \"114\": 1, \"18\": 2, \"2\": 1, \"88\": 1, \"106\": 1, \"6\": 2, \"34\": 1, \"100\": 1, \"124\": 1, \"87\": 1, \"15\": 2, \"82\": 1, \"25\": 1, \"39\": 1, \"118\": 1, \"36\": 3, \"62\": 1, \"32\": 1, \"107\": 1, \"129\": 2}, \"91\": {\"1\": 1, \"91\": 7, \"0\": 1, \"97\": 1, \"20\": 1, \"95\": 1, \"90\": 2, \"42\": 1, \"29\": 1, \"108\": 3, \"7\": 2, \"128\": 1, \"71\": 2}, \"112\": {\"112\": 10, \"13\": 1, \"5\": 1, \"51\": 2, \"83\": 1, \"52\": 1}, \"92\": {\"92\": 26, \"19\": 2, \"44\": 2, \"109\": 1, \"64\": 1}, \"95\": {\"127\": 1, \"95\": 30, \"112\": 1}, \"96\": {\"64\": 2, \"96\": 17, \"19\": 1}, \"127\": {\"127\": 68, \"35\": 2, \"95\": 3, \"105\": 3, \"126\": 2, \"0\": 3, \"88\": 1, \"4\": 2, \"98\": 2, \"108\": 3, \"3\": 1, \"5\": 7, \"12\": 1, \"7\": 1, \"111\": 1, \"72\": 1, \"58\": 1, \"1\": 1, \"71\": 3, \"9\": 1, \"102\": 1}, \"67\": {\"67\": 12, \"89\": 1, \"17\": 1, \"18\": 1, \"90\": 1}, \"83\": {\"83\": 20, \"0\": 1, \"6\": 1, \"19\": 1, \"27\": 1}, \"21\": {\"20\": 2, \"21\": 25, \"117\": 2, \"90\": 2, \"106\": 1, \"39\": 1, \"11\": 2, \"43\": 1, \"121\": 2, \"118\": 1, \"94\": 2, \"57\": 2, \"18\": 1, \"124\": 1, \"65\": 1, \"88\": 2}, \"98\": {\"98\": 93, \"30\": 4, \"37\": 1, \"101\": 1, \"7\": 4, \"12\": 3, \"0\": 9, \"8\": 2, \"108\": 1, \"44\": 1, \"111\": 1, \"51\": 1, \"114\": 1, \"124\": 1, \"5\": 1}, \"108\": {\"30\": 2, \"64\": 1, \"86\": 1, \"108\": 34, \"99\": 3, \"0\": 5, \"90\": 13, \"3\": 5, \"113\": 1, \"4\": 1, \"7\": 3, \"44\": 7, \"101\": 1, \"8\": 9, \"98\": 4, \"105\": 1, \"110\": 2, \"1\": 3, \"5\": 3, \"88\": 6, \"126\": 4, \"111\": 1, \"109\": 1, \"12\": 2, \"10\": 3, \"127\": 3, \"65\": 1, \"91\": 2, \"46\": 1, \"51\": 1, \"20\": 1, \"21\": 1, \"128\": 1, \"70\": 2, \"71\": 1, \"11\": 1, \"93\": 1}, \"31\": {\"31\": 17, \"70\": 1, \"92\": 2}, \"118\": {\"92\": 1, \"118\": 31, \"62\": 4, \"21\": 2, \"26\": 4, \"84\": 5, \"44\": 2, \"10\": 1, \"39\": 2, \"126\": 4, \"117\": 3, \"102\": 4, \"113\": 3, \"18\": 3, \"109\": 1, \"88\": 5, \"16\": 2, \"69\": 2, \"33\": 1, \"90\": 3, \"63\": 1, \"64\": 1, \"80\": 1, \"74\": 1, \"43\": 1, \"29\": 1, \"2\": 1, \"128\": 1, \"122\": 2, \"14\": 3, \"93\": 2, \"87\": 1, \"110\": 1}, \"110\": {\"110\": 16, \"128\": 1, \"114\": 5, \"84\": 4, \"129\": 3, \"62\": 3, \"70\": 1, \"39\": 2, \"87\": 8, \"126\": 2, \"71\": 2, \"9\": 3, \"8\": 1, \"118\": 1, \"44\": 4, \"105\": 4, \"90\": 5, \"11\": 1, \"1\": 4, \"88\": 5, \"5\": 1, \"16\": 1, \"113\": 3, \"19\": 1, \"43\": 1, \"80\": 1, \"96\": 1, \"60\": 1, \"91\": 1, \"127\": 2, \"33\": 1, \"93\": 2, \"3\": 1}, \"73\": {\"94\": 2, \"111\": 4, \"73\": 27, \"36\": 1, \"106\": 1, \"34\": 2, \"12\": 1, \"24\": 2}, \"44\": {\"44\": 55, \"99\": 1, \"43\": 1, \"39\": 2, \"88\": 2, \"109\": 1, \"11\": 1, \"92\": 4, \"70\": 2, \"26\": 1, \"93\": 1, \"90\": 1}, \"37\": {\"37\": 10, \"52\": 2, \"111\": 2, \"64\": 1, \"68\": 1}, \"100\": {\"100\": 12, \"87\": 1, \"110\": 1, \"11\": 2}}, \"C_4\": {\"52\": {\"52\": 110, \"47\": 2, \"3\": 1, \"23\": 1, \"41\": 2}, \"6\": {\"6\": 46, \"54\": 18, \"35\": 1, \"36\": 6, \"3\": 10, \"23\": 3, \"57\": 1, \"47\": 3, \"5\": 8, \"50\": 4, \"48\": 5, \"4\": 1, \"55\": 1, \"39\": 2, \"46\": 1, \"41\": 1, \"1\": 1}, \"14\": {\"49\": 2, \"14\": 6, \"31\": 1, \"51\": 1, \"22\": 2, \"38\": 1, \"35\": 1, \"29\": 2}, \"49\": {\"49\": 19, \"54\": 1}, \"0\": {\"0\": 59, \"11\": 2, \"43\": 1, \"15\": 3, \"5\": 3, \"52\": 1, \"54\": 2, \"47\": 3, \"32\": 1, \"46\": 3, \"57\": 2}, \"46\": {\"0\": 10, \"32\": 4, \"46\": 60, \"36\": 3, \"39\": 2, \"54\": 7, \"43\": 5, \"11\": 2, \"47\": 17, \"55\": 2, \"52\": 8, \"23\": 4, \"15\": 3, \"6\": 2, \"5\": 11, \"22\": 5, \"48\": 4, \"41\": 1, \"24\": 1, \"29\": 1, \"57\": 1, \"3\": 2, \"10\": 1}, \"41\": {\"41\": 33, \"52\": 2, \"18\": 1}, \"24\": {\"46\": 1, \"24\": 45, \"43\": 6, \"10\": 1, \"14\": 1, \"22\": 1, \"11\": 1}, \"25\": {\"25\": 78, \"49\": 1, \"8\": 4, \"3\": 9, \"42\": 1, \"50\": 9, \"20\": 9, \"6\": 3, \"12\": 2, \"23\": 1, \"57\": 2, \"36\": 7, \"18\": 8, \"54\": 3, \"48\": 4, \"21\": 5, \"17\": 2, \"9\": 1, \"29\": 1, \"28\": 1, \"27\": 1}, \"40\": {\"40\": 97, \"44\": 8, \"33\": 2, \"55\": 5, \"19\": 21, \"0\": 1, \"56\": 1, \"25\": 1, \"24\": 1, \"9\": 1}, \"38\": {\"10\": 1, \"14\": 1, \"38\": 37, \"13\": 1}, \"13\": {\"13\": 151, \"10\": 1}, \"9\": {\"6\": 1, \"9\": 39, \"33\": 1, \"4\": 20, \"27\": 16, \"50\": 4, \"17\": 8, \"29\": 7, \"21\": 3, \"53\": 2, \"57\": 1, \"28\": 1, \"12\": 1, \"20\": 2, \"25\": 1, \"8\": 1}, \"45\": {\"45\": 55, \"1\": 3, \"9\": 1, \"44\": 4, \"53\": 3, \"52\": 1, \"50\": 4, \"21\": 3, \"19\": 6, \"40\": 1, \"3\": 2, \"54\": 2, \"4\": 2, \"49\": 1, \"35\": 1, \"27\": 1, \"7\": 1, \"8\": 2, \"51\": 2, \"46\": 1}, \"43\": {\"43\": 81, \"15\": 13, \"11\": 15, \"52\": 7, \"0\": 3, \"5\": 1, \"49\": 2, \"41\": 2, \"6\": 1, \"24\": 1, \"22\": 2, \"16\": 7, \"46\": 3, \"23\": 4, \"39\": 1, \"20\": 1}, \"10\": {\"10\": 128, \"38\": 1, \"22\": 1}, \"15\": {\"15\": 97, \"11\": 14, \"16\": 11, \"46\": 2, \"0\": 1, \"52\": 1, \"55\": 2}, \"39\": {\"39\": 20}, \"4\": {\"4\": 116, \"9\": 6, \"57\": 1, \"51\": 2, \"53\": 1, \"50\": 1, \"17\": 1, \"27\": 3, \"29\": 1}, \"53\": {\"53\": 95, \"27\": 2, \"26\": 2, \"12\": 1, \"50\": 5, \"35\": 3, \"51\": 10, \"21\": 1, \"36\": 2, \"4\": 3, \"29\": 1, \"57\": 1, \"17\": 1, \"20\": 1, \"8\": 2, \"3\": 1, \"40\": 1}, \"1\": {\"1\": 32, \"32\": 1, \"49\": 1, \"6\": 1, \"5\": 2, \"57\": 1, \"44\": 1, \"54\": 1}, \"28\": {\"54\": 1, \"42\": 1, \"28\": 17, \"57\": 1, \"3\": 2, \"48\": 1, \"50\": 1, \"47\": 2, \"25\": 1, \"36\": 3, \"6\": 2}, \"54\": {\"54\": 103, \"6\": 2, \"48\": 1, \"3\": 2}, \"21\": {\"53\": 3, \"21\": 86, \"12\": 5, \"17\": 6, \"27\": 5, \"51\": 1, \"8\": 12, \"20\": 4, \"29\": 1, \"26\": 1, \"30\": 3, \"28\": 2, \"50\": 1, \"48\": 1, \"25\": 1}, \"7\": {\"7\": 21, \"24\": 1, \"0\": 1, \"1\": 1}, \"8\": {\"8\": 125, \"36\": 1, \"42\": 1, \"27\": 2, \"3\": 1, \"30\": 3, \"17\": 1, \"53\": 1, \"20\": 1}, \"42\": {\"42\": 32}, \"11\": {\"15\": 19, \"11\": 66, \"56\": 1, \"46\": 1, \"52\": 2, \"22\": 2, \"16\": 6, \"0\": 2, \"43\": 3, \"25\": 1, \"20\": 1}, \"33\": {\"33\": 19, \"32\": 4, \"29\": 4, \"54\": 1, \"53\": 2, \"12\": 1, \"35\": 1, \"57\": 3, \"28\": 1}, \"27\": {\"27\": 133, \"17\": 3, \"40\": 1, \"53\": 1, \"36\": 1, \"8\": 2, \"9\": 1}, \"19\": {\"29\": 8, \"19\": 96, \"33\": 3, \"1\": 2, \"25\": 2, \"45\": 8, \"57\": 2, \"44\": 5, \"6\": 2, \"9\": 5, \"21\": 1, \"35\": 3, \"49\": 1, \"18\": 1, \"5\": 1, \"51\": 1, \"48\": 1, \"4\": 1, \"55\": 1}, \"2\": {\"2\": 34, \"24\": 1, \"38\": 1}, \"3\": {\"4\": 2, \"3\": 57, \"6\": 10, \"34\": 1, \"39\": 1, \"54\": 9, \"48\": 7, \"36\": 5, \"46\": 1, \"47\": 5, \"27\": 1, \"8\": 5, \"5\": 4, \"53\": 3, \"21\": 1, \"50\": 1, \"25\": 1, \"20\": 3, \"26\": 1, \"42\": 1, \"23\": 1}, \"57\": {\"57\": 90, \"35\": 2, \"54\": 1, \"6\": 1, \"3\": 1, \"1\": 2, \"7\": 1, \"28\": 2}, \"20\": {\"20\": 84, \"8\": 4, \"42\": 2, \"3\": 5, \"6\": 1, \"48\": 3, \"55\": 1, \"36\": 1, \"21\": 1, \"30\": 1, \"28\": 1, \"50\": 3, \"54\": 1, \"17\": 1, \"27\": 2, \"25\": 1}, \"23\": {\"39\": 1, \"23\": 115, \"18\": 5, \"52\": 3, \"6\": 1, \"5\": 1, \"3\": 1, \"47\": 1}, \"22\": {\"22\": 94, \"38\": 2, \"43\": 9, \"14\": 2, \"0\": 2, \"11\": 2, \"10\": 5, \"15\": 2, \"16\": 1, \"24\": 5, \"41\": 1, \"46\": 1, \"56\": 2}, \"29\": {\"57\": 13, \"38\": 1, \"53\": 4, \"29\": 75, \"7\": 3, \"35\": 5, \"9\": 2, \"6\": 2, \"4\": 6, \"48\": 4, \"50\": 1, \"46\": 1, \"54\": 1, \"36\": 2, \"1\": 1, \"18\": 1, \"20\": 1, \"51\": 1}, \"36\": {\"36\": 85, \"3\": 3, \"44\": 1, \"45\": 1, \"48\": 2}, \"51\": {\"51\": 101, \"29\": 4, \"53\": 12, \"21\": 5, \"57\": 1, \"12\": 1, \"26\": 1, \"36\": 1, \"4\": 2, \"20\": 1, \"25\": 1, \"27\": 1, \"50\": 1}, \"31\": {\"31\": 28}, \"12\": {\"12\": 79, \"8\": 2, \"21\": 5, \"27\": 1, \"53\": 1, \"51\": 2, \"5\": 1, \"17\": 1}, \"56\": {\"38\": 5, \"56\": 107, \"14\": 1, \"10\": 7, \"13\": 7, \"22\": 3, \"15\": 2, \"40\": 1, \"29\": 1, \"55\": 4}, \"5\": {\"5\": 68, \"47\": 10, \"46\": 4, \"57\": 1, \"23\": 3, \"52\": 4, \"3\": 5, \"54\": 8, \"6\": 4, \"48\": 1}, \"35\": {\"35\": 37, \"19\": 1, \"40\": 1, \"57\": 1}, \"17\": {\"17\": 51, \"27\": 15, \"8\": 4, \"12\": 1, \"53\": 1, \"9\": 1, \"51\": 1, \"57\": 1, \"4\": 2, \"28\": 2, \"29\": 1}, \"32\": {\"32\": 24}, \"47\": {\"47\": 105, \"57\": 1, \"3\": 8, \"54\": 3, \"5\": 1, \"1\": 1, \"6\": 1}, \"18\": {\"18\": 91, \"6\": 1, \"23\": 6, \"5\": 2, \"36\": 3, \"13\": 1, \"54\": 3, \"8\": 1}, \"26\": {\"26\": 24}, \"50\": {\"50\": 18, \"27\": 4, \"26\": 1, \"54\": 6, \"4\": 11, \"36\": 6, \"12\": 3, \"42\": 2, \"6\": 6, \"53\": 8, \"51\": 11, \"48\": 9, \"5\": 1, \"29\": 1, \"25\": 3, \"21\": 3, \"3\": 13, \"20\": 6, \"28\": 2, \"9\": 1, \"8\": 2, \"39\": 1, \"17\": 2, \"23\": 2}, \"55\": {\"6\": 10, \"31\": 1, \"55\": 59, \"46\": 9, \"52\": 5, \"43\": 8, \"1\": 1, \"40\": 2, \"10\": 2, \"22\": 5, \"45\": 4, \"3\": 3, \"5\": 4, \"44\": 2, \"53\": 1, \"24\": 1, \"39\": 1, \"50\": 1, \"36\": 1, \"29\": 1, \"56\": 1, \"48\": 1, \"23\": 1}, \"34\": {\"34\": 23, \"3\": 1}, \"30\": {\"26\": 2, \"30\": 34, \"8\": 6, \"36\": 2}, \"37\": {\"37\": 24}, \"44\": {\"33\": 1, \"44\": 93, \"19\": 11, \"1\": 4, \"29\": 5, \"40\": 5, \"45\": 7, \"55\": 2, \"9\": 2, \"17\": 1, \"24\": 1}, \"48\": {\"48\": 99, \"36\": 2, \"54\": 3, \"3\": 6, \"1\": 1, \"6\": 4, \"28\": 1, \"29\": 1, \"47\": 1}, \"16\": {\"16\": 91, \"5\": 2, \"52\": 2, \"15\": 1}}, \"C_2\": {\"11\": {\"11\": 110, \"15\": 10, \"0\": 1, \"6\": 1, \"52\": 3, \"16\": 5}, \"21\": {\"21\": 103, \"47\": 1, \"54\": 3, \"20\": 1, \"17\": 3, \"3\": 1, \"6\": 1, \"25\": 2, \"36\": 2, \"51\": 2, \"53\": 1}, \"19\": {\"19\": 88, \"31\": 1, \"1\": 4, \"4\": 7, \"45\": 2, \"29\": 7, \"47\": 2, \"5\": 4, \"9\": 3, \"21\": 1, \"40\": 6, \"57\": 6, \"55\": 5, \"33\": 1, \"54\": 1, \"20\": 1, \"46\": 1}, \"20\": {\"20\": 114, \"8\": 4, \"27\": 1, \"9\": 1, \"51\": 3, \"53\": 2, \"17\": 1, \"3\": 1, \"45\": 1}, \"9\": {\"32\": 3, \"57\": 3, \"53\": 7, \"29\": 8, \"9\": 53, \"26\": 2, \"36\": 7, \"25\": 2, \"51\": 12, \"3\": 1, \"20\": 12, \"17\": 8, \"8\": 1, \"4\": 9, \"46\": 1, \"19\": 4, \"21\": 2, \"0\": 1, \"27\": 1, \"45\": 1, \"50\": 2}, \"10\": {\"10\": 111, \"22\": 1}, \"37\": {\"37\": 33, \"28\": 1, \"11\": 1, \"2\": 1}, \"32\": {\"32\": 26, \"12\": 1, \"17\": 1}, \"3\": {\"39\": 3, \"20\": 2, \"53\": 4, \"50\": 3, \"47\": 4, \"34\": 3, \"32\": 2, \"3\": 12, \"42\": 1, \"26\": 2, \"51\": 3, \"6\": 9, \"48\": 14, \"2\": 3, \"1\": 3, \"29\": 3, \"12\": 2, \"21\": 2, \"4\": 2, \"17\": 4, \"54\": 1, \"9\": 1, \"25\": 4, \"57\": 1, \"7\": 2, \"36\": 2}, \"39\": {\"39\": 28}, \"45\": {\"45\": 81, \"41\": 1, \"35\": 3, \"44\": 7, \"12\": 3, \"3\": 1, \"51\": 1, \"52\": 2, \"19\": 7, \"9\": 3, \"27\": 1, \"55\": 2, \"46\": 2, \"32\": 1, \"11\": 2, \"23\": 1, \"17\": 1, \"6\": 2, \"21\": 1, \"48\": 1, \"36\": 1, \"1\": 1, \"54\": 2, \"40\": 1}, \"50\": {\"20\": 1, \"50\": 63, \"48\": 11, \"6\": 5, \"12\": 12, \"36\": 8, \"42\": 1, \"17\": 2, \"7\": 1, \"27\": 2, \"47\": 2, \"53\": 7, \"1\": 5, \"54\": 6, \"51\": 2, \"25\": 1, \"8\": 4, \"57\": 1, \"3\": 2}, \"40\": {\"19\": 15, \"3\": 1, \"35\": 8, \"40\": 94, \"45\": 7, \"12\": 1, \"55\": 1, \"57\": 1, \"9\": 5, \"4\": 1, \"29\": 3, \"44\": 2, \"48\": 1}, \"46\": {\"39\": 3, \"21\": 3, \"46\": 40, \"47\": 14, \"48\": 15, \"52\": 6, \"16\": 2, \"7\": 4, \"43\": 1, \"54\": 4, \"6\": 9, \"50\": 2, \"3\": 6, \"1\": 10, \"57\": 2, \"15\": 1, \"11\": 2, \"34\": 1, \"42\": 1, \"4\": 1, \"23\": 1}, \"12\": {\"12\": 82, \"36\": 1, \"50\": 2, \"8\": 3, \"20\": 2, \"53\": 2}, \"13\": {\"13\": 116}, \"47\": {\"3\": 4, \"47\": 86, \"46\": 5, \"1\": 8, \"48\": 7, \"57\": 5, \"6\": 6, \"50\": 2, \"11\": 2, \"5\": 5, \"54\": 2}, \"15\": {\"15\": 130, \"28\": 1, \"11\": 3, \"16\": 7, \"52\": 1}, \"54\": {\"54\": 107, \"12\": 1}, \"48\": {\"48\": 136, \"42\": 1, \"34\": 1, \"50\": 2, \"3\": 2, \"6\": 5, \"1\": 1}, \"23\": {\"23\": 142}, \"29\": {\"54\": 1, \"29\": 45, \"57\": 16, \"33\": 3, \"28\": 1, \"32\": 3, \"9\": 9, \"51\": 10, \"4\": 8, \"12\": 1, \"47\": 3, \"19\": 2, \"17\": 10, \"53\": 3, \"1\": 8, \"26\": 1, \"42\": 1, \"0\": 1, \"3\": 1, \"20\": 1}, \"38\": {\"38\": 19, \"10\": 1}, \"53\": {\"53\": 105, \"51\": 18, \"26\": 1, \"36\": 7, \"20\": 3, \"21\": 1, \"50\": 1}, \"27\": {\"27\": 147, \"8\": 1, \"12\": 2}, \"43\": {\"43\": 125, \"52\": 1, \"16\": 5, \"11\": 5, \"15\": 3, \"46\": 2, \"28\": 2, \"56\": 1}, \"35\": {\"35\": 31, \"45\": 1}, \"0\": {\"0\": 41, \"15\": 1, \"23\": 2, \"7\": 2, \"57\": 1, \"50\": 1}, \"52\": {\"52\": 117, \"6\": 2, \"48\": 2, \"5\": 2, \"7\": 1}, \"8\": {\"8\": 103, \"20\": 2, \"27\": 11, \"54\": 1, \"36\": 2, \"53\": 1, \"17\": 1, \"12\": 5, \"50\": 2}, \"24\": {\"24\": 93, \"43\": 2, \"11\": 1}, \"18\": {\"18\": 39, \"30\": 4, \"23\": 1, \"6\": 1, \"25\": 2, \"7\": 1}, \"25\": {\"18\": 6, \"48\": 3, \"25\": 64, \"6\": 17, \"49\": 6, \"54\": 6, \"3\": 2, \"50\": 15, \"17\": 4, \"12\": 6, \"29\": 4, \"57\": 2, \"9\": 3, \"30\": 2, \"8\": 3, \"33\": 1, \"7\": 1, \"27\": 1, \"20\": 1, \"23\": 1}, \"57\": {\"57\": 131, \"1\": 1, \"47\": 3, \"42\": 1}, \"55\": {\"24\": 5, \"37\": 1, \"55\": 91, \"1\": 3, \"43\": 8, \"52\": 1, \"29\": 2, \"5\": 4, \"11\": 2, \"45\": 4, \"44\": 2, \"22\": 2, \"46\": 8, \"14\": 1}, \"36\": {\"36\": 115, \"8\": 1}, \"17\": {\"17\": 80, \"50\": 4, \"3\": 4, \"57\": 3, \"6\": 3, \"27\": 2, \"8\": 1, \"25\": 1, \"26\": 1, \"32\": 1, \"54\": 1, \"36\": 2, \"12\": 1}, \"2\": {\"2\": 30, \"52\": 1, \"7\": 1}, \"34\": {\"34\": 28}, \"1\": {\"1\": 87, \"15\": 1, \"42\": 1, \"57\": 5, \"7\": 2, \"46\": 5, \"11\": 1, \"3\": 2, \"16\": 2, \"52\": 2, \"6\": 1, \"47\": 1, \"50\": 2}, \"51\": {\"51\": 110, \"36\": 2, \"20\": 6, \"3\": 2, \"53\": 16}, \"31\": {\"31\": 27, \"47\": 1}, \"49\": {\"49\": 21, \"34\": 3}, \"14\": {\"13\": 2, \"29\": 5, \"22\": 2, \"9\": 1, \"14\": 6, \"6\": 1, \"26\": 1, \"33\": 1, \"10\": 1, \"4\": 1, \"38\": 1, \"31\": 1, \"53\": 1}, \"33\": {\"33\": 12, \"17\": 2, \"29\": 3, \"32\": 1, \"19\": 1, \"51\": 3, \"31\": 1, \"26\": 2, \"4\": 1, \"25\": 2}, \"41\": {\"49\": 1, \"41\": 16, \"39\": 3}, \"28\": {\"28\": 27, \"11\": 1}, \"5\": {\"31\": 2, \"5\": 81, \"47\": 13, \"7\": 1, \"0\": 2, \"48\": 3, \"15\": 2, \"57\": 5, \"11\": 1, \"3\": 1, \"25\": 1, \"1\": 4, \"50\": 1, \"52\": 2, \"54\": 1}, \"16\": {\"16\": 129, \"39\": 2, \"28\": 2, \"52\": 3, \"11\": 2, \"15\": 9, \"47\": 1, \"30\": 1, \"6\": 1}, \"4\": {\"4\": 46, \"51\": 18, \"9\": 14, \"29\": 10, \"12\": 2, \"20\": 11, \"47\": 1, \"57\": 7, \"1\": 2, \"53\": 9, \"8\": 1, \"32\": 2, \"26\": 2, \"0\": 1, \"3\": 1, \"36\": 1}, \"22\": {\"22\": 120, \"14\": 1, \"56\": 12, \"10\": 3}, \"6\": {\"3\": 8, \"6\": 72, \"34\": 2, \"27\": 1, \"7\": 2, \"17\": 2, \"12\": 2, \"48\": 13, \"25\": 2, \"8\": 1, \"47\": 2, \"50\": 3, \"54\": 2, \"46\": 6}, \"30\": {\"30\": 123, \"18\": 1}, \"26\": {\"26\": 24}, \"56\": {\"56\": 114, \"22\": 27, \"13\": 1}, \"42\": {\"42\": 26, \"57\": 4, \"11\": 1, \"50\": 1, \"6\": 1, \"34\": 1, \"46\": 1, \"5\": 1}, \"44\": {\"44\": 67, \"45\": 10, \"35\": 4, \"40\": 6, \"19\": 6, \"37\": 1, \"25\": 1, \"3\": 1, \"55\": 2, \"4\": 1, \"9\": 1}, \"7\": {\"39\": 1, \"7\": 29, \"48\": 5, \"6\": 1}}}, \"per_domain_accuracy\": {\"O_26\": {\"accuracy\": 0.6028645833333334, \"source?\": true}, \"O_44\": {\"accuracy\": 0.7033854166666667, \"source?\": true}, \"O_50\": {\"accuracy\": 0.8088541666666667, \"source?\": true}, \"O_38\": {\"accuracy\": 0.8380208333333333, \"source?\": true}, \"O_20\": {\"accuracy\": 0.6796875, \"source?\": true}, \"O_14\": {\"accuracy\": 0.8260416666666667, \"source?\": true}, \"O_32\": {\"accuracy\": 0.8122395833333333, \"source?\": true}, \"O_8\": {\"accuracy\": 0.7356770833333334, \"source?\": true}, \"C_5\": {\"accuracy\": 0.7107192737430168, \"source?\": false}, \"W_4\": {\"accuracy\": 0.46875, \"source?\": false}, \"C_1\": {\"accuracy\": 0.766983695652174, \"source?\": false}, \"W_1\": {\"accuracy\": 0.5097987288135594, \"source?\": false}, \"W_2\": {\"accuracy\": 0.5322960251046025, \"source?\": false}, \"C_3\": {\"accuracy\": 0.7678308823529412, \"source?\": false}, \"W_3\": {\"accuracy\": 0.5045032751091703, \"source?\": false}, \"C_4\": {\"accuracy\": 0.7326807228915663, \"source?\": false}, \"C_2\": {\"accuracy\": 0.7627840909090909, \"source?\": false}}}, \"history\": {\"epoch_indices\": [1, 2, 3, 4, 5, 6, 7], \"train_label_loss\": [0.9752365209117887, 0.8836356708513838, 0.6207542761805511, 0.53506153076998, 0.4878809932597159, 0.4478409576756392, 0.4146934370166578], \"source_val_label_loss\": [8.404033660888672, 0.7472689151763916, 0.6690633296966553, 0.5025743842124939, 0.504993736743927, 0.4638424813747406, 0.4115224778652191], \"target_val_label_loss\": [1905.386962890625, 383.7258605957031, 308.8136291503906, 375.32513427734375, 399.6592102050781, 391.49603271484375, 430.9455261230469], \"source_val_acc_label\": [0.67265625, 0.7224934895833334, 0.7508463541666667, 0.817578125, 0.8168619791666667, 0.8326497395833333, 0.8502278645833333], \"target_val_acc_label\": [0.4067988474204171, 0.5747976125137212, 0.6211409165751921, 0.6082430021953897, 0.616235592755214, 0.6125308726673985, 0.6051728869374314]}, \"dataset_metrics\": {\"source\": {\"train\": {\"n_unique_x\": 179200, \"n_unique_y\": 16, \"n_batch/episode\": 6720}, \"val\": {\"n_unique_x\": 38400, \"n_unique_y\": 16, \"n_batch/episode\": 960}, \"test\": {\"n_unique_x\": 38400, \"n_unique_y\": 16, \"n_batch/episode\": 960}}, \"target\": {\"train\": {\"n_unique_x\": 364204, \"n_unique_y\": 130, \"n_batch/episode\": 13168}, \"val\": {\"n_unique_x\": 77221, \"n_unique_y\": 130, \"n_batch/episode\": 1822}, \"test\": {\"n_unique_x\": 78360, \"n_unique_y\": 130, \"n_batch/episode\": 1854}}}}'"
      ]
     },
     "execution_count": 29,
     "metadata": {},
     "output_type": "execute_result"
    }
   ],
   "source": [
    "json.dumps(experiment)"
   ]
  }
 ],
 "metadata": {
  "celltoolbar": "Tags",
  "kernelspec": {
   "display_name": "Python 3 (ipykernel)",
   "language": "python",
   "name": "python3"
  },
  "language_info": {
   "codemirror_mode": {
    "name": "ipython",
    "version": 3
   },
   "file_extension": ".py",
   "mimetype": "text/x-python",
   "name": "python",
   "nbconvert_exporter": "python",
   "pygments_lexer": "ipython3",
   "version": "3.8.10"
  },
  "papermill": {
   "default_parameters": {},
   "duration": 1404.91728,
   "end_time": "2022-03-21T02:15:31.234047",
   "environment_variables": {},
   "exception": null,
   "input_path": "/mnt/wd500GB/CSC500/csc500-main/csc500-notebooks/templates/tl_ptn_template.ipynb",
   "output_path": "trial.ipynb",
   "parameters": {
    "parameters": {
     "BEST_MODEL_PATH": "./best_model.pth",
     "NUM_LOGS_PER_EPOCH": 10,
     "criteria_for_best": "target_accuracy",
     "dataset_seed": 7,
     "datasets": [
      {
       "domain_prefix": "C_",
       "domains": [
        1,
        2,
        3,
        4,
        5
       ],
       "episode_transforms": [],
       "labels": [
        "1-10.",
        "1-11.",
        "1-15.",
        "1-16.",
        "1-17.",
        "1-18.",
        "1-19.",
        "10-4.",
        "10-7.",
        "11-1.",
        "11-14.",
        "11-17.",
        "11-20.",
        "11-7.",
        "13-20.",
        "13-8.",
        "14-10.",
        "14-11.",
        "14-14.",
        "14-7.",
        "15-1.",
        "15-20.",
        "16-1.",
        "16-16.",
        "17-10.",
        "17-11.",
        "17-2.",
        "19-1.",
        "19-16.",
        "19-19.",
        "19-20.",
        "19-3.",
        "2-10.",
        "2-11.",
        "2-17.",
        "2-18.",
        "2-20.",
        "2-3.",
        "2-4.",
        "2-5.",
        "2-6.",
        "2-7.",
        "2-8.",
        "3-13.",
        "3-18.",
        "3-3.",
        "4-1.",
        "4-10.",
        "4-11.",
        "4-19.",
        "5-5.",
        "6-15.",
        "7-10.",
        "7-14.",
        "8-18.",
        "8-20.",
        "8-3.",
        "8-8."
       ],
       "num_examples_per_domain_per_label": -1,
       "pickle_path": "/mnt/wd500GB/CSC500/csc500-main/datasets/cores.stratified_ds.2022A.pkl",
       "source_or_target_dataset": "target",
       "x_transforms": [
        "unit_power",
        "take_200"
       ]
      },
      {
       "domain_prefix": "W_",
       "domains": [
        1,
        2,
        3,
        4
       ],
       "episode_transforms": [],
       "labels": [
        "1-10",
        "1-12",
        "1-14",
        "1-16",
        "1-18",
        "1-19",
        "1-8",
        "10-11",
        "10-17",
        "10-4",
        "10-7",
        "11-1",
        "11-10",
        "11-19",
        "11-20",
        "11-4",
        "11-7",
        "12-19",
        "12-20",
        "12-7",
        "13-14",
        "13-18",
        "13-19",
        "13-20",
        "13-3",
        "13-7",
        "14-10",
        "14-11",
        "14-12",
        "14-13",
        "14-14",
        "14-19",
        "14-20",
        "14-7",
        "14-8",
        "14-9",
        "15-1",
        "15-19",
        "15-6",
        "16-1",
        "16-16",
        "16-19",
        "16-20",
        "17-10",
        "17-11",
        "18-1",
        "18-10",
        "18-11",
        "18-12",
        "18-13",
        "18-14",
        "18-15",
        "18-16",
        "18-17",
        "18-19",
        "18-2",
        "18-20",
        "18-4",
        "18-5",
        "18-7",
        "18-8",
        "18-9",
        "19-1",
        "19-10",
        "19-11",
        "19-12",
        "19-13",
        "19-14",
        "19-15",
        "19-19",
        "19-2",
        "19-20",
        "19-3",
        "19-4",
        "19-6",
        "19-7",
        "19-8",
        "19-9",
        "2-1",
        "2-13",
        "2-15",
        "2-3",
        "2-4",
        "2-5",
        "2-6",
        "2-7",
        "2-8",
        "20-1",
        "20-12",
        "20-14",
        "20-15",
        "20-16",
        "20-18",
        "20-19",
        "20-20",
        "20-3",
        "20-4",
        "20-5",
        "20-7",
        "20-8",
        "3-1",
        "3-13",
        "3-18",
        "3-2",
        "3-8",
        "4-1",
        "4-10",
        "4-11",
        "5-1",
        "5-5",
        "6-1",
        "6-15",
        "6-6",
        "7-10",
        "7-11",
        "7-12",
        "7-13",
        "7-14",
        "7-7",
        "7-8",
        "7-9",
        "8-1",
        "8-13",
        "8-14",
        "8-18",
        "8-20",
        "8-3",
        "8-8",
        "9-1",
        "9-7"
       ],
       "num_examples_per_domain_per_label": -1,
       "pickle_path": "/mnt/wd500GB/CSC500/csc500-main/datasets/wisig.node3-19.stratified_ds.2022A.pkl",
       "source_or_target_dataset": "target",
       "x_transforms": [
        "unit_power",
        "take_200"
       ]
      },
      {
       "domain_prefix": "O_",
       "domains": [
        32,
        38,
        8,
        44,
        14,
        50,
        20,
        26
       ],
       "episode_transforms": [],
       "labels": [
        "3123D52",
        "3123D65",
        "3123D79",
        "3123D80",
        "3123D54",
        "3123D70",
        "3123D7B",
        "3123D89",
        "3123D58",
        "3123D76",
        "3123D7D",
        "3123EFE",
        "3123D64",
        "3123D78",
        "3123D7E",
        "3124E4A"
       ],
       "num_examples_per_domain_per_label": 2000,
       "pickle_path": "/mnt/wd500GB/CSC500/csc500-main/datasets/oracle.Run1_framed_2000Examples_stratified_ds.2022A.pkl",
       "source_or_target_dataset": "source",
       "x_transforms": [
        "unit_power",
        "take_200",
        "resample_20Msps_to_25Msps"
       ]
      }
     ],
     "device": "cuda",
     "experiment_name": "tl_3Av2:oracle.run1.framed -> cores+wisig",
     "lr": 0.0001,
     "n_epoch": 50,
     "n_query": 2,
     "n_shot": 3,
     "n_way": 16,
     "patience": 3,
     "seed": 7,
     "test_k_factor": 2,
     "torch_default_dtype": "torch.float32",
     "train_k_factor": 3,
     "val_k_factor": 2,
     "x_net": [
      {
       "class": "nnReshape",
       "kargs": {
        "shape": [
         -1,
         1,
         2,
         200
        ]
       }
      },
      {
       "class": "Conv2d",
       "kargs": {
        "bias": false,
        "in_channels": 1,
        "kernel_size": [
         1,
         7
        ],
        "out_channels": 256,
        "padding": [
         0,
         3
        ]
       }
      },
      {
       "class": "ReLU",
       "kargs": {
        "inplace": true
       }
      },
      {
       "class": "BatchNorm2d",
       "kargs": {
        "num_features": 256
       }
      },
      {
       "class": "Conv2d",
       "kargs": {
        "bias": true,
        "in_channels": 256,
        "kernel_size": [
         2,
         7
        ],
        "out_channels": 80,
        "padding": [
         0,
         3
        ]
       }
      },
      {
       "class": "ReLU",
       "kargs": {
        "inplace": true
       }
      },
      {
       "class": "BatchNorm2d",
       "kargs": {
        "num_features": 80
       }
      },
      {
       "class": "Flatten",
       "kargs": {}
      },
      {
       "class": "Linear",
       "kargs": {
        "in_features": 16000,
        "out_features": 256
       }
      },
      {
       "class": "ReLU",
       "kargs": {
        "inplace": true
       }
      },
      {
       "class": "BatchNorm1d",
       "kargs": {
        "num_features": 256
       }
      },
      {
       "class": "Linear",
       "kargs": {
        "in_features": 256,
        "out_features": 256
       }
      }
     ],
     "x_shape": [
      2,
      200
     ]
    }
   },
   "start_time": "2022-03-21T01:52:06.316767",
   "version": "2.3.4"
  }
 },
 "nbformat": 4,
 "nbformat_minor": 5
}