{
 "cells": [
  {
   "cell_type": "markdown",
   "id": "9fea5f46",
   "metadata": {
    "papermill": {
     "duration": 0.021846,
     "end_time": "2022-03-20T22:14:53.176976",
     "exception": false,
     "start_time": "2022-03-20T22:14:53.155130",
     "status": "completed"
    },
    "tags": []
   },
   "source": [
    "# Transfer Learning Template"
   ]
  },
  {
   "cell_type": "code",
   "execution_count": 1,
   "id": "0902182a",
   "metadata": {
    "execution": {
     "iopub.execute_input": "2022-03-20T22:14:53.216698Z",
     "iopub.status.busy": "2022-03-20T22:14:53.216188Z",
     "iopub.status.idle": "2022-03-20T22:14:54.117254Z",
     "shell.execute_reply": "2022-03-20T22:14:54.117475Z"
    },
    "papermill": {
     "duration": 0.927629,
     "end_time": "2022-03-20T22:14:54.117601",
     "exception": false,
     "start_time": "2022-03-20T22:14:53.189972",
     "status": "completed"
    },
    "tags": []
   },
   "outputs": [],
   "source": [
    "%load_ext autoreload\n",
    "%autoreload 2\n",
    "%matplotlib inline\n",
    "\n",
    "    \n",
    "import os, json, sys, time, random\n",
    "import numpy as np\n",
    "import torch\n",
    "from torch.optim import Adam\n",
    "from  easydict import EasyDict\n",
    "import matplotlib.pyplot as plt\n",
    "\n",
    "from steves_models.steves_ptn import Steves_Prototypical_Network\n",
    "\n",
    "from steves_utils.lazy_iterable_wrapper import Lazy_Iterable_Wrapper\n",
    "from steves_utils.iterable_aggregator import Iterable_Aggregator\n",
    "from steves_utils.ptn_train_eval_test_jig import  PTN_Train_Eval_Test_Jig\n",
    "from steves_utils.torch_sequential_builder import build_sequential\n",
    "from steves_utils.torch_utils import get_dataset_metrics, ptn_confusion_by_domain_over_dataloader\n",
    "from steves_utils.utils_v2 import (per_domain_accuracy_from_confusion, get_datasets_base_path)\n",
    "from steves_utils.PTN.utils import independent_accuracy_assesment\n",
    "\n",
    "from torch.utils.data import DataLoader\n",
    "\n",
    "from steves_utils.stratified_dataset.episodic_accessor import Episodic_Accessor_Factory\n",
    "\n",
    "from steves_utils.ptn_do_report import (\n",
    "    get_loss_curve,\n",
    "    get_results_table,\n",
    "    get_parameters_table,\n",
    "    get_domain_accuracies,\n",
    ")\n",
    "\n",
    "from steves_utils.transforms import get_chained_transform"
   ]
  },
  {
   "cell_type": "markdown",
   "id": "41c840b4",
   "metadata": {
    "papermill": {
     "duration": 0.013576,
     "end_time": "2022-03-20T22:14:54.145184",
     "exception": false,
     "start_time": "2022-03-20T22:14:54.131608",
     "status": "completed"
    },
    "tags": []
   },
   "source": [
    "# Allowed Parameters\n",
    "These are allowed parameters, not defaults\n",
    "Each of these values need to be present in the injected parameters (the notebook will raise an exception if they are not present)\n",
    "\n",
    "Papermill uses the cell tag \"parameters\" to inject the real parameters below this cell.\n",
    "Enable tags to see what I mean"
   ]
  },
  {
   "cell_type": "code",
   "execution_count": 2,
   "id": "fd44eb83",
   "metadata": {
    "execution": {
     "iopub.execute_input": "2022-03-20T22:14:54.174535Z",
     "iopub.status.busy": "2022-03-20T22:14:54.174068Z",
     "iopub.status.idle": "2022-03-20T22:14:54.185964Z",
     "shell.execute_reply": "2022-03-20T22:14:54.185585Z"
    },
    "papermill": {
     "duration": 0.027261,
     "end_time": "2022-03-20T22:14:54.186043",
     "exception": false,
     "start_time": "2022-03-20T22:14:54.158782",
     "status": "completed"
    },
    "tags": []
   },
   "outputs": [],
   "source": [
    "required_parameters = {\n",
    "    \"experiment_name\",\n",
    "    \"lr\",\n",
    "    \"device\",\n",
    "    \"seed\",\n",
    "    \"dataset_seed\",\n",
    "    \"n_shot\",\n",
    "    \"n_query\",\n",
    "    \"n_way\",\n",
    "    \"train_k_factor\",\n",
    "    \"val_k_factor\",\n",
    "    \"test_k_factor\",\n",
    "    \"n_epoch\",\n",
    "    \"patience\",\n",
    "    \"criteria_for_best\",\n",
    "    \"x_net\",\n",
    "    \"datasets\",\n",
    "    \"torch_default_dtype\",\n",
    "    \"NUM_LOGS_PER_EPOCH\",\n",
    "    \"BEST_MODEL_PATH\",\n",
    "    \"x_shape\",\n",
    "}"
   ]
  },
  {
   "cell_type": "code",
   "execution_count": 3,
   "id": "fa3f0049",
   "metadata": {
    "execution": {
     "iopub.execute_input": "2022-03-20T22:14:54.226047Z",
     "iopub.status.busy": "2022-03-20T22:14:54.224861Z",
     "iopub.status.idle": "2022-03-20T22:14:54.238145Z",
     "shell.execute_reply": "2022-03-20T22:14:54.237645Z"
    },
    "papermill": {
     "duration": 0.033573,
     "end_time": "2022-03-20T22:14:54.238248",
     "exception": false,
     "start_time": "2022-03-20T22:14:54.204675",
     "status": "completed"
    },
    "tags": [
     "parameters"
    ]
   },
   "outputs": [],
   "source": [
    "from steves_utils.CORES.utils import (\n",
    "    ALL_NODES,\n",
    "    ALL_NODES_MINIMUM_1000_EXAMPLES,\n",
    "    ALL_DAYS\n",
    ")\n",
    "\n",
    "from steves_utils.ORACLE.utils_v2 import (\n",
    "    ALL_DISTANCES_FEET_NARROWED,\n",
    "    ALL_RUNS,\n",
    "    ALL_SERIAL_NUMBERS,\n",
    ")\n",
    "\n",
    "standalone_parameters = {}\n",
    "standalone_parameters[\"experiment_name\"] = \"STANDALONE PTN\"\n",
    "standalone_parameters[\"lr\"] = 0.001\n",
    "standalone_parameters[\"device\"] = \"cuda\"\n",
    "\n",
    "standalone_parameters[\"seed\"] = 1337\n",
    "standalone_parameters[\"dataset_seed\"] = 1337\n",
    "\n",
    "standalone_parameters[\"n_way\"] = 8\n",
    "standalone_parameters[\"n_shot\"] = 3\n",
    "standalone_parameters[\"n_query\"]  = 2\n",
    "standalone_parameters[\"train_k_factor\"] = 1\n",
    "standalone_parameters[\"val_k_factor\"] = 2\n",
    "standalone_parameters[\"test_k_factor\"] = 2\n",
    "\n",
    "\n",
    "standalone_parameters[\"n_epoch\"] = 50\n",
    "\n",
    "standalone_parameters[\"patience\"] = 10\n",
    "standalone_parameters[\"criteria_for_best\"] = \"source_loss\"\n",
    "\n",
    "standalone_parameters[\"datasets\"] = [\n",
    "    {\n",
    "        \"labels\": ALL_SERIAL_NUMBERS,\n",
    "        \"domains\": ALL_DISTANCES_FEET_NARROWED,\n",
    "        \"num_examples_per_domain_per_label\": 100,\n",
    "        \"pickle_path\": os.path.join(get_datasets_base_path(), \"oracle.Run1_framed_2000Examples_stratified_ds.2022A.pkl\"),\n",
    "        \"source_or_target_dataset\": \"source\",\n",
    "        \"x_transforms\": [\"unit_mag\", \"minus_two\"],\n",
    "        \"episode_transforms\": [],\n",
    "        \"domain_prefix\": \"ORACLE_\"\n",
    "    },\n",
    "    {\n",
    "        \"labels\": ALL_NODES,\n",
    "        \"domains\": ALL_DAYS,\n",
    "        \"num_examples_per_domain_per_label\": 100,\n",
    "        \"pickle_path\": os.path.join(get_datasets_base_path(), \"cores.stratified_ds.2022A.pkl\"),\n",
    "        \"source_or_target_dataset\": \"target\",\n",
    "        \"x_transforms\": [\"unit_power\", \"times_zero\"],\n",
    "        \"episode_transforms\": [],\n",
    "        \"domain_prefix\": \"CORES_\"\n",
    "    }   \n",
    "]\n",
    "\n",
    "standalone_parameters[\"torch_default_dtype\"] = \"torch.float32\" \n",
    "\n",
    "\n",
    "\n",
    "standalone_parameters[\"x_net\"] =     [\n",
    "    {\"class\": \"nnReshape\", \"kargs\": {\"shape\":[-1, 1, 2, 256]}},\n",
    "    {\"class\": \"Conv2d\", \"kargs\": { \"in_channels\":1, \"out_channels\":256, \"kernel_size\":(1,7), \"bias\":False, \"padding\":(0,3), },},\n",
    "    {\"class\": \"ReLU\", \"kargs\": {\"inplace\": True}},\n",
    "    {\"class\": \"BatchNorm2d\", \"kargs\": {\"num_features\":256}},\n",
    "\n",
    "    {\"class\": \"Conv2d\", \"kargs\": { \"in_channels\":256, \"out_channels\":80, \"kernel_size\":(2,7), \"bias\":True, \"padding\":(0,3), },},\n",
    "    {\"class\": \"ReLU\", \"kargs\": {\"inplace\": True}},\n",
    "    {\"class\": \"BatchNorm2d\", \"kargs\": {\"num_features\":80}},\n",
    "    {\"class\": \"Flatten\", \"kargs\": {}},\n",
    "\n",
    "    {\"class\": \"Linear\", \"kargs\": {\"in_features\": 80*256, \"out_features\": 256}}, # 80 units per IQ pair\n",
    "    {\"class\": \"ReLU\", \"kargs\": {\"inplace\": True}},\n",
    "    {\"class\": \"BatchNorm1d\", \"kargs\": {\"num_features\":256}},\n",
    "\n",
    "    {\"class\": \"Linear\", \"kargs\": {\"in_features\": 256, \"out_features\": 256}},\n",
    "]\n",
    "\n",
    "# Parameters relevant to results\n",
    "# These parameters will basically never need to change\n",
    "standalone_parameters[\"NUM_LOGS_PER_EPOCH\"] = 10\n",
    "standalone_parameters[\"BEST_MODEL_PATH\"] = \"./best_model.pth\"\n",
    "\n",
    "\n",
    "\n",
    "\n"
   ]
  },
  {
   "cell_type": "code",
   "execution_count": 4,
   "id": "153f69f4",
   "metadata": {
    "execution": {
     "iopub.execute_input": "2022-03-20T22:14:54.279745Z",
     "iopub.status.busy": "2022-03-20T22:14:54.272309Z",
     "iopub.status.idle": "2022-03-20T22:14:54.293666Z",
     "shell.execute_reply": "2022-03-20T22:14:54.293169Z"
    },
    "papermill": {
     "duration": 0.036682,
     "end_time": "2022-03-20T22:14:54.293771",
     "exception": false,
     "start_time": "2022-03-20T22:14:54.257089",
     "status": "completed"
    },
    "tags": [
     "injected-parameters"
    ]
   },
   "outputs": [],
   "source": [
    "# Parameters\n",
    "parameters = {\n",
    "    \"experiment_name\": \"tl_3Av2:oracle.run1.framed -> cores+wisig\",\n",
    "    \"device\": \"cuda\",\n",
    "    \"lr\": 0.0001,\n",
    "    \"x_shape\": [2, 200],\n",
    "    \"n_shot\": 3,\n",
    "    \"n_query\": 2,\n",
    "    \"train_k_factor\": 3,\n",
    "    \"val_k_factor\": 2,\n",
    "    \"test_k_factor\": 2,\n",
    "    \"torch_default_dtype\": \"torch.float32\",\n",
    "    \"n_epoch\": 50,\n",
    "    \"patience\": 3,\n",
    "    \"criteria_for_best\": \"target_accuracy\",\n",
    "    \"x_net\": [\n",
    "        {\"class\": \"nnReshape\", \"kargs\": {\"shape\": [-1, 1, 2, 200]}},\n",
    "        {\n",
    "            \"class\": \"Conv2d\",\n",
    "            \"kargs\": {\n",
    "                \"in_channels\": 1,\n",
    "                \"out_channels\": 256,\n",
    "                \"kernel_size\": [1, 7],\n",
    "                \"bias\": False,\n",
    "                \"padding\": [0, 3],\n",
    "            },\n",
    "        },\n",
    "        {\"class\": \"ReLU\", \"kargs\": {\"inplace\": True}},\n",
    "        {\"class\": \"BatchNorm2d\", \"kargs\": {\"num_features\": 256}},\n",
    "        {\n",
    "            \"class\": \"Conv2d\",\n",
    "            \"kargs\": {\n",
    "                \"in_channels\": 256,\n",
    "                \"out_channels\": 80,\n",
    "                \"kernel_size\": [2, 7],\n",
    "                \"bias\": True,\n",
    "                \"padding\": [0, 3],\n",
    "            },\n",
    "        },\n",
    "        {\"class\": \"ReLU\", \"kargs\": {\"inplace\": True}},\n",
    "        {\"class\": \"BatchNorm2d\", \"kargs\": {\"num_features\": 80}},\n",
    "        {\"class\": \"Flatten\", \"kargs\": {}},\n",
    "        {\"class\": \"Linear\", \"kargs\": {\"in_features\": 16000, \"out_features\": 256}},\n",
    "        {\"class\": \"ReLU\", \"kargs\": {\"inplace\": True}},\n",
    "        {\"class\": \"BatchNorm1d\", \"kargs\": {\"num_features\": 256}},\n",
    "        {\"class\": \"Linear\", \"kargs\": {\"in_features\": 256, \"out_features\": 256}},\n",
    "    ],\n",
    "    \"NUM_LOGS_PER_EPOCH\": 10,\n",
    "    \"BEST_MODEL_PATH\": \"./best_model.pth\",\n",
    "    \"n_way\": 16,\n",
    "    \"datasets\": [\n",
    "        {\n",
    "            \"labels\": [\n",
    "                \"1-10.\",\n",
    "                \"1-11.\",\n",
    "                \"1-15.\",\n",
    "                \"1-16.\",\n",
    "                \"1-17.\",\n",
    "                \"1-18.\",\n",
    "                \"1-19.\",\n",
    "                \"10-4.\",\n",
    "                \"10-7.\",\n",
    "                \"11-1.\",\n",
    "                \"11-14.\",\n",
    "                \"11-17.\",\n",
    "                \"11-20.\",\n",
    "                \"11-7.\",\n",
    "                \"13-20.\",\n",
    "                \"13-8.\",\n",
    "                \"14-10.\",\n",
    "                \"14-11.\",\n",
    "                \"14-14.\",\n",
    "                \"14-7.\",\n",
    "                \"15-1.\",\n",
    "                \"15-20.\",\n",
    "                \"16-1.\",\n",
    "                \"16-16.\",\n",
    "                \"17-10.\",\n",
    "                \"17-11.\",\n",
    "                \"17-2.\",\n",
    "                \"19-1.\",\n",
    "                \"19-16.\",\n",
    "                \"19-19.\",\n",
    "                \"19-20.\",\n",
    "                \"19-3.\",\n",
    "                \"2-10.\",\n",
    "                \"2-11.\",\n",
    "                \"2-17.\",\n",
    "                \"2-18.\",\n",
    "                \"2-20.\",\n",
    "                \"2-3.\",\n",
    "                \"2-4.\",\n",
    "                \"2-5.\",\n",
    "                \"2-6.\",\n",
    "                \"2-7.\",\n",
    "                \"2-8.\",\n",
    "                \"3-13.\",\n",
    "                \"3-18.\",\n",
    "                \"3-3.\",\n",
    "                \"4-1.\",\n",
    "                \"4-10.\",\n",
    "                \"4-11.\",\n",
    "                \"4-19.\",\n",
    "                \"5-5.\",\n",
    "                \"6-15.\",\n",
    "                \"7-10.\",\n",
    "                \"7-14.\",\n",
    "                \"8-18.\",\n",
    "                \"8-20.\",\n",
    "                \"8-3.\",\n",
    "                \"8-8.\",\n",
    "            ],\n",
    "            \"domains\": [1, 2, 3, 4, 5],\n",
    "            \"num_examples_per_domain_per_label\": -1,\n",
    "            \"pickle_path\": \"/mnt/wd500GB/CSC500/csc500-main/datasets/cores.stratified_ds.2022A.pkl\",\n",
    "            \"source_or_target_dataset\": \"target\",\n",
    "            \"x_transforms\": [\"take_200\"],\n",
    "            \"episode_transforms\": [],\n",
    "            \"domain_prefix\": \"C_\",\n",
    "        },\n",
    "        {\n",
    "            \"labels\": [\n",
    "                \"1-10\",\n",
    "                \"1-12\",\n",
    "                \"1-14\",\n",
    "                \"1-16\",\n",
    "                \"1-18\",\n",
    "                \"1-19\",\n",
    "                \"1-8\",\n",
    "                \"10-11\",\n",
    "                \"10-17\",\n",
    "                \"10-4\",\n",
    "                \"10-7\",\n",
    "                \"11-1\",\n",
    "                \"11-10\",\n",
    "                \"11-19\",\n",
    "                \"11-20\",\n",
    "                \"11-4\",\n",
    "                \"11-7\",\n",
    "                \"12-19\",\n",
    "                \"12-20\",\n",
    "                \"12-7\",\n",
    "                \"13-14\",\n",
    "                \"13-18\",\n",
    "                \"13-19\",\n",
    "                \"13-20\",\n",
    "                \"13-3\",\n",
    "                \"13-7\",\n",
    "                \"14-10\",\n",
    "                \"14-11\",\n",
    "                \"14-12\",\n",
    "                \"14-13\",\n",
    "                \"14-14\",\n",
    "                \"14-19\",\n",
    "                \"14-20\",\n",
    "                \"14-7\",\n",
    "                \"14-8\",\n",
    "                \"14-9\",\n",
    "                \"15-1\",\n",
    "                \"15-19\",\n",
    "                \"15-6\",\n",
    "                \"16-1\",\n",
    "                \"16-16\",\n",
    "                \"16-19\",\n",
    "                \"16-20\",\n",
    "                \"17-10\",\n",
    "                \"17-11\",\n",
    "                \"18-1\",\n",
    "                \"18-10\",\n",
    "                \"18-11\",\n",
    "                \"18-12\",\n",
    "                \"18-13\",\n",
    "                \"18-14\",\n",
    "                \"18-15\",\n",
    "                \"18-16\",\n",
    "                \"18-17\",\n",
    "                \"18-19\",\n",
    "                \"18-2\",\n",
    "                \"18-20\",\n",
    "                \"18-4\",\n",
    "                \"18-5\",\n",
    "                \"18-7\",\n",
    "                \"18-8\",\n",
    "                \"18-9\",\n",
    "                \"19-1\",\n",
    "                \"19-10\",\n",
    "                \"19-11\",\n",
    "                \"19-12\",\n",
    "                \"19-13\",\n",
    "                \"19-14\",\n",
    "                \"19-15\",\n",
    "                \"19-19\",\n",
    "                \"19-2\",\n",
    "                \"19-20\",\n",
    "                \"19-3\",\n",
    "                \"19-4\",\n",
    "                \"19-6\",\n",
    "                \"19-7\",\n",
    "                \"19-8\",\n",
    "                \"19-9\",\n",
    "                \"2-1\",\n",
    "                \"2-13\",\n",
    "                \"2-15\",\n",
    "                \"2-3\",\n",
    "                \"2-4\",\n",
    "                \"2-5\",\n",
    "                \"2-6\",\n",
    "                \"2-7\",\n",
    "                \"2-8\",\n",
    "                \"20-1\",\n",
    "                \"20-12\",\n",
    "                \"20-14\",\n",
    "                \"20-15\",\n",
    "                \"20-16\",\n",
    "                \"20-18\",\n",
    "                \"20-19\",\n",
    "                \"20-20\",\n",
    "                \"20-3\",\n",
    "                \"20-4\",\n",
    "                \"20-5\",\n",
    "                \"20-7\",\n",
    "                \"20-8\",\n",
    "                \"3-1\",\n",
    "                \"3-13\",\n",
    "                \"3-18\",\n",
    "                \"3-2\",\n",
    "                \"3-8\",\n",
    "                \"4-1\",\n",
    "                \"4-10\",\n",
    "                \"4-11\",\n",
    "                \"5-1\",\n",
    "                \"5-5\",\n",
    "                \"6-1\",\n",
    "                \"6-15\",\n",
    "                \"6-6\",\n",
    "                \"7-10\",\n",
    "                \"7-11\",\n",
    "                \"7-12\",\n",
    "                \"7-13\",\n",
    "                \"7-14\",\n",
    "                \"7-7\",\n",
    "                \"7-8\",\n",
    "                \"7-9\",\n",
    "                \"8-1\",\n",
    "                \"8-13\",\n",
    "                \"8-14\",\n",
    "                \"8-18\",\n",
    "                \"8-20\",\n",
    "                \"8-3\",\n",
    "                \"8-8\",\n",
    "                \"9-1\",\n",
    "                \"9-7\",\n",
    "            ],\n",
    "            \"domains\": [1, 2, 3, 4],\n",
    "            \"num_examples_per_domain_per_label\": -1,\n",
    "            \"pickle_path\": \"/mnt/wd500GB/CSC500/csc500-main/datasets/wisig.node3-19.stratified_ds.2022A.pkl\",\n",
    "            \"source_or_target_dataset\": \"target\",\n",
    "            \"x_transforms\": [\"take_200\"],\n",
    "            \"episode_transforms\": [],\n",
    "            \"domain_prefix\": \"W_\",\n",
    "        },\n",
    "        {\n",
    "            \"labels\": [\n",
    "                \"3123D52\",\n",
    "                \"3123D65\",\n",
    "                \"3123D79\",\n",
    "                \"3123D80\",\n",
    "                \"3123D54\",\n",
    "                \"3123D70\",\n",
    "                \"3123D7B\",\n",
    "                \"3123D89\",\n",
    "                \"3123D58\",\n",
    "                \"3123D76\",\n",
    "                \"3123D7D\",\n",
    "                \"3123EFE\",\n",
    "                \"3123D64\",\n",
    "                \"3123D78\",\n",
    "                \"3123D7E\",\n",
    "                \"3124E4A\",\n",
    "            ],\n",
    "            \"domains\": [32, 38, 8, 44, 14, 50, 20, 26],\n",
    "            \"num_examples_per_domain_per_label\": 2000,\n",
    "            \"pickle_path\": \"/mnt/wd500GB/CSC500/csc500-main/datasets/oracle.Run1_framed_2000Examples_stratified_ds.2022A.pkl\",\n",
    "            \"source_or_target_dataset\": \"source\",\n",
    "            \"x_transforms\": [\"take_200\", \"resample_20Msps_to_25Msps\"],\n",
    "            \"episode_transforms\": [],\n",
    "            \"domain_prefix\": \"O_\",\n",
    "        },\n",
    "    ],\n",
    "    \"seed\": 1337,\n",
    "    \"dataset_seed\": 1337,\n",
    "}\n"
   ]
  },
  {
   "cell_type": "code",
   "execution_count": 5,
   "id": "8fa1cc33",
   "metadata": {
    "execution": {
     "iopub.execute_input": "2022-03-20T22:14:54.329839Z",
     "iopub.status.busy": "2022-03-20T22:14:54.329570Z",
     "iopub.status.idle": "2022-03-20T22:14:54.341445Z",
     "shell.execute_reply": "2022-03-20T22:14:54.340948Z"
    },
    "papermill": {
     "duration": 0.028819,
     "end_time": "2022-03-20T22:14:54.341546",
     "exception": false,
     "start_time": "2022-03-20T22:14:54.312727",
     "status": "completed"
    },
    "tags": []
   },
   "outputs": [],
   "source": [
    "# Set this to True if you want to run this template directly\n",
    "STANDALONE = False\n",
    "if STANDALONE:\n",
    "    print(\"parameters not injected, running with standalone_parameters\")\n",
    "    parameters = standalone_parameters\n",
    "\n",
    "if not 'parameters' in locals() and not 'parameters' in globals():\n",
    "    raise Exception(\"Parameter injection failed\")\n",
    "\n",
    "#Use an easy dict for all the parameters\n",
    "p = EasyDict(parameters)\n",
    "\n",
    "if \"x_shape\" not in p:\n",
    "    p.x_shape = [2,256] # Default to this if we dont supply x_shape\n",
    "\n",
    "\n",
    "supplied_keys = set(p.keys())\n",
    "\n",
    "if  supplied_keys != required_parameters:\n",
    "    print(\"Parameters are incorrect\")\n",
    "    if len(supplied_keys - required_parameters)>0: print(\"Shouldn't have:\", str(supplied_keys - required_parameters))\n",
    "    if len(required_parameters - supplied_keys)>0: print(\"Need to have:\", str(required_parameters - supplied_keys))\n",
    "    raise RuntimeError(\"Parameters are incorrect\")"
   ]
  },
  {
   "cell_type": "code",
   "execution_count": 6,
   "id": "3a028d58",
   "metadata": {
    "execution": {
     "iopub.execute_input": "2022-03-20T22:14:54.376407Z",
     "iopub.status.busy": "2022-03-20T22:14:54.376151Z",
     "iopub.status.idle": "2022-03-20T22:14:54.388131Z",
     "shell.execute_reply": "2022-03-20T22:14:54.387799Z"
    },
    "papermill": {
     "duration": 0.027748,
     "end_time": "2022-03-20T22:14:54.388209",
     "exception": false,
     "start_time": "2022-03-20T22:14:54.360461",
     "status": "completed"
    },
    "tags": []
   },
   "outputs": [],
   "source": [
    "###################################\n",
    "# Set the RNGs and make it all deterministic\n",
    "###################################\n",
    "np.random.seed(p.seed)\n",
    "random.seed(p.seed)\n",
    "torch.manual_seed(p.seed)\n",
    "\n",
    "torch.use_deterministic_algorithms(True) "
   ]
  },
  {
   "cell_type": "code",
   "execution_count": 7,
   "id": "b691acf6",
   "metadata": {
    "execution": {
     "iopub.execute_input": "2022-03-20T22:14:54.421904Z",
     "iopub.status.busy": "2022-03-20T22:14:54.421651Z",
     "iopub.status.idle": "2022-03-20T22:14:54.432520Z",
     "shell.execute_reply": "2022-03-20T22:14:54.432038Z"
    },
    "papermill": {
     "duration": 0.02626,
     "end_time": "2022-03-20T22:14:54.432619",
     "exception": false,
     "start_time": "2022-03-20T22:14:54.406359",
     "status": "completed"
    },
    "tags": []
   },
   "outputs": [],
   "source": [
    "###########################################\n",
    "# The stratified datasets honor this\n",
    "###########################################\n",
    "torch.set_default_dtype(eval(p.torch_default_dtype))"
   ]
  },
  {
   "cell_type": "code",
   "execution_count": 8,
   "id": "b5fba671",
   "metadata": {
    "execution": {
     "iopub.execute_input": "2022-03-20T22:14:54.467689Z",
     "iopub.status.busy": "2022-03-20T22:14:54.467435Z",
     "iopub.status.idle": "2022-03-20T22:14:54.499188Z",
     "shell.execute_reply": "2022-03-20T22:14:54.498668Z"
    },
    "papermill": {
     "duration": 0.047348,
     "end_time": "2022-03-20T22:14:54.499319",
     "exception": false,
     "start_time": "2022-03-20T22:14:54.451971",
     "status": "completed"
    },
    "tags": []
   },
   "outputs": [],
   "source": [
    "###################################\n",
    "# Build the network(s)\n",
    "# Note: It's critical to do this AFTER setting the RNG\n",
    "###################################\n",
    "x_net = build_sequential(p.x_net)"
   ]
  },
  {
   "cell_type": "code",
   "execution_count": 9,
   "id": "5d7e61cc",
   "metadata": {
    "execution": {
     "iopub.execute_input": "2022-03-20T22:14:54.535583Z",
     "iopub.status.busy": "2022-03-20T22:14:54.535332Z",
     "iopub.status.idle": "2022-03-20T22:14:54.550929Z",
     "shell.execute_reply": "2022-03-20T22:14:54.550441Z"
    },
    "papermill": {
     "duration": 0.031822,
     "end_time": "2022-03-20T22:14:54.551029",
     "exception": false,
     "start_time": "2022-03-20T22:14:54.519207",
     "status": "completed"
    },
    "tags": []
   },
   "outputs": [],
   "source": [
    "start_time_secs = time.time()"
   ]
  },
  {
   "cell_type": "code",
   "execution_count": 10,
   "id": "c6b67dfd",
   "metadata": {
    "execution": {
     "iopub.execute_input": "2022-03-20T22:14:54.585803Z",
     "iopub.status.busy": "2022-03-20T22:14:54.585550Z",
     "iopub.status.idle": "2022-03-20T22:14:54.596231Z",
     "shell.execute_reply": "2022-03-20T22:14:54.596006Z"
    },
    "papermill": {
     "duration": 0.026851,
     "end_time": "2022-03-20T22:14:54.596311",
     "exception": false,
     "start_time": "2022-03-20T22:14:54.569460",
     "status": "completed"
    },
    "tags": []
   },
   "outputs": [],
   "source": [
    "p.domains_source = []\n",
    "p.domains_target = []\n",
    "\n",
    "\n",
    "train_original_source = []\n",
    "val_original_source   = []\n",
    "test_original_source  = []\n",
    "\n",
    "train_original_target = []\n",
    "val_original_target   = []\n",
    "test_original_target  = []"
   ]
  },
  {
   "cell_type": "code",
   "execution_count": 11,
   "id": "e3d9c3d3",
   "metadata": {
    "execution": {
     "iopub.execute_input": "2022-03-20T22:14:54.635186Z",
     "iopub.status.busy": "2022-03-20T22:14:54.629561Z",
     "iopub.status.idle": "2022-03-20T22:14:54.643969Z",
     "shell.execute_reply": "2022-03-20T22:14:54.644178Z"
    },
    "papermill": {
     "duration": 0.030011,
     "end_time": "2022-03-20T22:14:54.644245",
     "exception": false,
     "start_time": "2022-03-20T22:14:54.614234",
     "status": "completed"
    },
    "tags": []
   },
   "outputs": [],
   "source": [
    "# global_x_transform_func = lambda x: normalize(x.to(torch.get_default_dtype()), \"unit_power\") # unit_power, unit_mag\n",
    "# global_x_transform_func = lambda x: normalize(x, \"unit_power\") # unit_power, unit_mag"
   ]
  },
  {
   "cell_type": "code",
   "execution_count": 12,
   "id": "acb78fd2",
   "metadata": {
    "execution": {
     "iopub.execute_input": "2022-03-20T22:14:54.682620Z",
     "iopub.status.busy": "2022-03-20T22:14:54.682349Z",
     "iopub.status.idle": "2022-03-20T22:14:54.693886Z",
     "shell.execute_reply": "2022-03-20T22:14:54.693477Z"
    },
    "papermill": {
     "duration": 0.030247,
     "end_time": "2022-03-20T22:14:54.693990",
     "exception": false,
     "start_time": "2022-03-20T22:14:54.663743",
     "status": "completed"
    },
    "tags": []
   },
   "outputs": [],
   "source": [
    "def add_dataset(\n",
    "    labels,\n",
    "    domains,\n",
    "    pickle_path,\n",
    "    x_transforms,\n",
    "    episode_transforms,\n",
    "    domain_prefix,\n",
    "    num_examples_per_domain_per_label,\n",
    "    source_or_target_dataset:str,\n",
    "    iterator_seed=p.seed,\n",
    "    dataset_seed=p.dataset_seed,\n",
    "    n_shot=p.n_shot,\n",
    "    n_way=p.n_way,\n",
    "    n_query=p.n_query,\n",
    "    train_val_test_k_factors=(p.train_k_factor,p.val_k_factor,p.test_k_factor),\n",
    "):\n",
    "   \n",
    "    if x_transforms == []: x_transform = None\n",
    "    else: x_transform = get_chained_transform(x_transforms)\n",
    "    \n",
    "    if episode_transforms == []: episode_transform = None\n",
    "    else: raise Exception(\"episode_transforms not implemented\")\n",
    "    \n",
    "    episode_transform = lambda tup, _prefix=domain_prefix: (_prefix + str(tup[0]), tup[1])\n",
    "\n",
    "\n",
    "    eaf = Episodic_Accessor_Factory(\n",
    "        labels=labels,\n",
    "        domains=domains,\n",
    "        num_examples_per_domain_per_label=num_examples_per_domain_per_label,\n",
    "        iterator_seed=iterator_seed,\n",
    "        dataset_seed=dataset_seed,\n",
    "        n_shot=n_shot,\n",
    "        n_way=n_way,\n",
    "        n_query=n_query,\n",
    "        train_val_test_k_factors=train_val_test_k_factors,\n",
    "        pickle_path=pickle_path,\n",
    "        x_transform_func=x_transform,\n",
    "    )\n",
    "\n",
    "    train, val, test = eaf.get_train(), eaf.get_val(), eaf.get_test()\n",
    "    train = Lazy_Iterable_Wrapper(train, episode_transform)\n",
    "    val = Lazy_Iterable_Wrapper(val, episode_transform)\n",
    "    test = Lazy_Iterable_Wrapper(test, episode_transform)\n",
    "\n",
    "    if source_or_target_dataset==\"source\":\n",
    "        train_original_source.append(train)\n",
    "        val_original_source.append(val)\n",
    "        test_original_source.append(test)\n",
    "\n",
    "        p.domains_source.extend(\n",
    "            [domain_prefix + str(u) for u in domains]\n",
    "        )\n",
    "    elif source_or_target_dataset==\"target\":\n",
    "        train_original_target.append(train)\n",
    "        val_original_target.append(val)\n",
    "        test_original_target.append(test)\n",
    "        p.domains_target.extend(\n",
    "            [domain_prefix + str(u) for u in domains]\n",
    "        )\n",
    "    else:\n",
    "        raise Exception(f\"invalid source_or_target_dataset: {source_or_target_dataset}\")\n",
    "    "
   ]
  },
  {
   "cell_type": "code",
   "execution_count": 13,
   "id": "fe266617",
   "metadata": {
    "execution": {
     "iopub.execute_input": "2022-03-20T22:14:54.729534Z",
     "iopub.status.busy": "2022-03-20T22:14:54.729276Z",
     "iopub.status.idle": "2022-03-20T22:15:12.569579Z",
     "shell.execute_reply": "2022-03-20T22:15:12.569114Z"
    },
    "papermill": {
     "duration": 17.856604,
     "end_time": "2022-03-20T22:15:12.569690",
     "exception": false,
     "start_time": "2022-03-20T22:14:54.713086",
     "status": "completed"
    },
    "tags": []
   },
   "outputs": [],
   "source": [
    "for ds in p.datasets:\n",
    "    add_dataset(**ds)"
   ]
  },
  {
   "cell_type": "code",
   "execution_count": 14,
   "id": "b90d65ac",
   "metadata": {
    "execution": {
     "iopub.execute_input": "2022-03-20T22:15:12.602524Z",
     "iopub.status.busy": "2022-03-20T22:15:12.602265Z",
     "iopub.status.idle": "2022-03-20T22:15:12.618135Z",
     "shell.execute_reply": "2022-03-20T22:15:12.617649Z"
    },
    "papermill": {
     "duration": 0.031617,
     "end_time": "2022-03-20T22:15:12.618236",
     "exception": false,
     "start_time": "2022-03-20T22:15:12.586619",
     "status": "completed"
    },
    "tags": []
   },
   "outputs": [],
   "source": [
    "# from steves_utils.CORES.utils import (\n",
    "#     ALL_NODES,\n",
    "#     ALL_NODES_MINIMUM_1000_EXAMPLES,\n",
    "#     ALL_DAYS\n",
    "# )\n",
    "\n",
    "# add_dataset(\n",
    "#     labels=ALL_NODES,\n",
    "#     domains = ALL_DAYS,\n",
    "#     num_examples_per_domain_per_label=100,\n",
    "#     pickle_path=os.path.join(get_datasets_base_path(), \"cores.stratified_ds.2022A.pkl\"),\n",
    "#     source_or_target_dataset=\"target\",\n",
    "#     x_transform_func=global_x_transform_func,\n",
    "#     domain_modifier=lambda u: f\"cores_{u}\"\n",
    "# )"
   ]
  },
  {
   "cell_type": "code",
   "execution_count": 15,
   "id": "76db484d",
   "metadata": {
    "execution": {
     "iopub.execute_input": "2022-03-20T22:15:12.653871Z",
     "iopub.status.busy": "2022-03-20T22:15:12.652629Z",
     "iopub.status.idle": "2022-03-20T22:15:12.667430Z",
     "shell.execute_reply": "2022-03-20T22:15:12.667115Z"
    },
    "papermill": {
     "duration": 0.030704,
     "end_time": "2022-03-20T22:15:12.667508",
     "exception": false,
     "start_time": "2022-03-20T22:15:12.636804",
     "status": "completed"
    },
    "tags": []
   },
   "outputs": [],
   "source": [
    "# from steves_utils.ORACLE.utils_v2 import (\n",
    "#     ALL_DISTANCES_FEET,\n",
    "#     ALL_RUNS,\n",
    "#     ALL_SERIAL_NUMBERS,\n",
    "# )\n",
    "\n",
    "\n",
    "# add_dataset(\n",
    "#     labels=ALL_SERIAL_NUMBERS,\n",
    "#     domains = list(set(ALL_DISTANCES_FEET) - {2,62}),\n",
    "#     num_examples_per_domain_per_label=100,\n",
    "#     pickle_path=os.path.join(get_datasets_base_path(), \"oracle.Run2_framed_2000Examples_stratified_ds.2022A.pkl\"),\n",
    "#     source_or_target_dataset=\"source\",\n",
    "#     x_transform_func=global_x_transform_func,\n",
    "#     domain_modifier=lambda u: f\"oracle1_{u}\"\n",
    "# )\n"
   ]
  },
  {
   "cell_type": "code",
   "execution_count": 16,
   "id": "97dea9d2",
   "metadata": {
    "execution": {
     "iopub.execute_input": "2022-03-20T22:15:12.701143Z",
     "iopub.status.busy": "2022-03-20T22:15:12.700887Z",
     "iopub.status.idle": "2022-03-20T22:15:12.711840Z",
     "shell.execute_reply": "2022-03-20T22:15:12.711585Z"
    },
    "papermill": {
     "duration": 0.026626,
     "end_time": "2022-03-20T22:15:12.711897",
     "exception": false,
     "start_time": "2022-03-20T22:15:12.685271",
     "status": "completed"
    },
    "tags": []
   },
   "outputs": [],
   "source": [
    "# from steves_utils.ORACLE.utils_v2 import (\n",
    "#     ALL_DISTANCES_FEET,\n",
    "#     ALL_RUNS,\n",
    "#     ALL_SERIAL_NUMBERS,\n",
    "# )\n",
    "\n",
    "\n",
    "# add_dataset(\n",
    "#     labels=ALL_SERIAL_NUMBERS,\n",
    "#     domains = list(set(ALL_DISTANCES_FEET) - {2,62,56}),\n",
    "#     num_examples_per_domain_per_label=100,\n",
    "#     pickle_path=os.path.join(get_datasets_base_path(), \"oracle.Run2_framed_2000Examples_stratified_ds.2022A.pkl\"),\n",
    "#     source_or_target_dataset=\"source\",\n",
    "#     x_transform_func=global_x_transform_func,\n",
    "#     domain_modifier=lambda u: f\"oracle2_{u}\"\n",
    "# )"
   ]
  },
  {
   "cell_type": "code",
   "execution_count": 17,
   "id": "6f289866",
   "metadata": {
    "execution": {
     "iopub.execute_input": "2022-03-20T22:15:12.744391Z",
     "iopub.status.busy": "2022-03-20T22:15:12.744120Z",
     "iopub.status.idle": "2022-03-20T22:15:12.758733Z",
     "shell.execute_reply": "2022-03-20T22:15:12.758328Z"
    },
    "papermill": {
     "duration": 0.029974,
     "end_time": "2022-03-20T22:15:12.758834",
     "exception": false,
     "start_time": "2022-03-20T22:15:12.728860",
     "status": "completed"
    },
    "tags": []
   },
   "outputs": [],
   "source": [
    "# add_dataset(\n",
    "#     labels=list(range(19)),\n",
    "#     domains = [0,1,2],\n",
    "#     num_examples_per_domain_per_label=100,\n",
    "#     pickle_path=os.path.join(get_datasets_base_path(), \"metehan.stratified_ds.2022A.pkl\"),\n",
    "#     source_or_target_dataset=\"target\",\n",
    "#     x_transform_func=global_x_transform_func,\n",
    "#     domain_modifier=lambda u: f\"met_{u}\"\n",
    "# )"
   ]
  },
  {
   "cell_type": "code",
   "execution_count": 18,
   "id": "86a863c3",
   "metadata": {
    "execution": {
     "iopub.execute_input": "2022-03-20T22:15:12.791364Z",
     "iopub.status.busy": "2022-03-20T22:15:12.791079Z",
     "iopub.status.idle": "2022-03-20T22:15:12.802252Z",
     "shell.execute_reply": "2022-03-20T22:15:12.802019Z"
    },
    "papermill": {
     "duration": 0.026951,
     "end_time": "2022-03-20T22:15:12.802308",
     "exception": false,
     "start_time": "2022-03-20T22:15:12.775357",
     "status": "completed"
    },
    "tags": []
   },
   "outputs": [],
   "source": [
    "# # from steves_utils.wisig.utils import (\n",
    "# #     ALL_NODES_MINIMUM_100_EXAMPLES,\n",
    "# #     ALL_NODES_MINIMUM_500_EXAMPLES,\n",
    "# #     ALL_NODES_MINIMUM_1000_EXAMPLES,\n",
    "# #     ALL_DAYS\n",
    "# # )\n",
    "\n",
    "# import steves_utils.wisig.utils as wisig\n",
    "\n",
    "\n",
    "# add_dataset(\n",
    "#     labels=wisig.ALL_NODES_MINIMUM_100_EXAMPLES,\n",
    "#     domains = wisig.ALL_DAYS,\n",
    "#     num_examples_per_domain_per_label=100,\n",
    "#     pickle_path=os.path.join(get_datasets_base_path(), \"wisig.node3-19.stratified_ds.2022A.pkl\"),\n",
    "#     source_or_target_dataset=\"target\",\n",
    "#     x_transform_func=global_x_transform_func,\n",
    "#     domain_modifier=lambda u: f\"wisig_{u}\"\n",
    "# )"
   ]
  },
  {
   "cell_type": "code",
   "execution_count": 19,
   "id": "fd5442bc",
   "metadata": {
    "execution": {
     "iopub.execute_input": "2022-03-20T22:15:12.836808Z",
     "iopub.status.busy": "2022-03-20T22:15:12.835700Z",
     "iopub.status.idle": "2022-03-20T22:15:12.849566Z",
     "shell.execute_reply": "2022-03-20T22:15:12.849309Z"
    },
    "papermill": {
     "duration": 0.033251,
     "end_time": "2022-03-20T22:15:12.849622",
     "exception": false,
     "start_time": "2022-03-20T22:15:12.816371",
     "status": "completed"
    },
    "tags": []
   },
   "outputs": [],
   "source": [
    "###################################\n",
    "# Build the dataset\n",
    "###################################\n",
    "train_original_source = Iterable_Aggregator(train_original_source, p.seed)\n",
    "val_original_source = Iterable_Aggregator(val_original_source, p.seed)\n",
    "test_original_source = Iterable_Aggregator(test_original_source, p.seed)\n",
    "\n",
    "\n",
    "train_original_target = Iterable_Aggregator(train_original_target, p.seed)\n",
    "val_original_target = Iterable_Aggregator(val_original_target, p.seed)\n",
    "test_original_target = Iterable_Aggregator(test_original_target, p.seed)\n",
    "\n",
    "# For CNN We only use X and Y. And we only train on the source.\n",
    "# Properly form the data using a transform lambda and Lazy_Iterable_Wrapper. Finally wrap them in a dataloader\n",
    "\n",
    "transform_lambda = lambda ex: ex[1] # Original is (<domain>, <episode>) so we strip down to episode only\n",
    "\n",
    "train_processed_source = Lazy_Iterable_Wrapper(train_original_source, transform_lambda)\n",
    "val_processed_source   = Lazy_Iterable_Wrapper(val_original_source, transform_lambda)\n",
    "test_processed_source  = Lazy_Iterable_Wrapper(test_original_source, transform_lambda)\n",
    "\n",
    "train_processed_target = Lazy_Iterable_Wrapper(train_original_target, transform_lambda)\n",
    "val_processed_target   = Lazy_Iterable_Wrapper(val_original_target, transform_lambda)\n",
    "test_processed_target  = Lazy_Iterable_Wrapper(test_original_target, transform_lambda)\n",
    "\n",
    "datasets = EasyDict({\n",
    "    \"source\": {\n",
    "        \"original\": {\"train\":train_original_source, \"val\":val_original_source, \"test\":test_original_source},\n",
    "        \"processed\": {\"train\":train_processed_source, \"val\":val_processed_source, \"test\":test_processed_source}\n",
    "    },\n",
    "    \"target\": {\n",
    "        \"original\": {\"train\":train_original_target, \"val\":val_original_target, \"test\":test_original_target},\n",
    "        \"processed\": {\"train\":train_processed_target, \"val\":val_processed_target, \"test\":test_processed_target}\n",
    "    },\n",
    "})"
   ]
  },
  {
   "cell_type": "code",
   "execution_count": 20,
   "id": "5b3c01fc",
   "metadata": {
    "execution": {
     "iopub.execute_input": "2022-03-20T22:15:12.882366Z",
     "iopub.status.busy": "2022-03-20T22:15:12.881590Z",
     "iopub.status.idle": "2022-03-20T22:15:21.596748Z",
     "shell.execute_reply": "2022-03-20T22:15:21.596269Z"
    },
    "papermill": {
     "duration": 8.732785,
     "end_time": "2022-03-20T22:15:21.596863",
     "exception": false,
     "start_time": "2022-03-20T22:15:12.864078",
     "status": "completed"
    },
    "tags": []
   },
   "outputs": [
    {
     "name": "stdout",
     "output_type": "stream",
     "text": [
      "{'O_50', 'O_26', 'O_38', 'O_32', 'O_20', 'O_44', 'O_8', 'O_14'}\n"
     ]
    },
    {
     "name": "stdout",
     "output_type": "stream",
     "text": [
      "{'W_1', 'C_1', 'C_5', 'C_3', 'W_3', 'C_4', 'W_2', 'W_4', 'C_2'}\n"
     ]
    },
    {
     "name": "stdout",
     "output_type": "stream",
     "text": [
      "tensor([[[-3.0519e-04,  3.5556e-03,  2.0206e-03,  ...,  2.1691e-03,\n",
      "           1.7273e-03,  2.3624e-03],\n",
      "         [-2.1058e-03, -1.8932e-03,  2.2942e-03,  ..., -3.7358e-04,\n",
      "           3.6849e-03,  3.8457e-04]],\n",
      "\n",
      "        [[-1.4649e-03,  1.4898e-03,  2.6404e-03,  ...,  3.7484e-03,\n",
      "           1.6746e-03,  6.1315e-05],\n",
      "         [-3.6927e-03, -2.5907e-03,  2.8652e-03,  ..., -1.4858e-03,\n",
      "          -2.0637e-03, -4.5108e-03]],\n",
      "\n",
      "        [[ 2.1363e-03, -1.7548e-04, -2.9306e-03,  ..., -2.7567e-03,\n",
      "          -3.0599e-03, -3.3251e-04],\n",
      "         [ 2.7161e-03,  3.5096e-03, -1.7432e-03,  ...,  1.5548e-03,\n",
      "           8.4818e-04,  3.8669e-03]],\n",
      "\n",
      "        ...,\n",
      "\n",
      "        [[ 4.7609e-03,  1.1404e-03, -5.8138e-03,  ..., -3.3979e-03,\n",
      "          -7.4494e-04,  4.4531e-03],\n",
      "         [ 2.6856e-03,  4.4305e-03, -2.3923e-04,  ...,  4.7568e-03,\n",
      "           3.5689e-03,  4.8476e-03]],\n",
      "\n",
      "        [[ 1.2207e-04, -4.9236e-03, -1.3816e-03,  ..., -4.1507e-03,\n",
      "          -4.0835e-03, -4.6269e-03],\n",
      "         [ 3.8148e-03,  3.7729e-03, -3.6135e-03,  ..., -6.0177e-04,\n",
      "          -3.3435e-03,  3.1819e-03]],\n",
      "\n",
      "        [[ 2.3194e-03,  2.2329e-03, -1.6715e-03,  ...,  2.3415e-03,\n",
      "          -5.6927e-03, -3.1427e-03],\n",
      "         [-1.9837e-03,  4.5080e-03,  3.5371e-03,  ...,  3.2161e-03,\n",
      "           1.3673e-03,  2.2193e-03]]])\n"
     ]
    }
   ],
   "source": [
    "from steves_utils.transforms import get_average_magnitude, get_average_power\n",
    "\n",
    "print(set([u for u,_ in val_original_source]))\n",
    "print(set([u for u,_ in val_original_target]))\n",
    "\n",
    "s_x, s_y, q_x, q_y, _ = next(iter(train_processed_source))\n",
    "print(s_x)\n",
    "\n",
    "# for ds in [\n",
    "#     train_processed_source,\n",
    "#     val_processed_source,\n",
    "#     test_processed_source,\n",
    "#     train_processed_target,\n",
    "#     val_processed_target,\n",
    "#     test_processed_target\n",
    "# ]:\n",
    "#     for s_x, s_y, q_x, q_y, _ in ds:\n",
    "#         for X in (s_x, q_x):\n",
    "#             for x in X:\n",
    "#                 assert np.isclose(get_average_magnitude(x.numpy()), 1.0)\n",
    "#                 assert np.isclose(get_average_power(x.numpy()), 1.0)\n",
    "                "
   ]
  },
  {
   "cell_type": "code",
   "execution_count": 21,
   "id": "bbdacba1",
   "metadata": {
    "execution": {
     "iopub.execute_input": "2022-03-20T22:15:21.634542Z",
     "iopub.status.busy": "2022-03-20T22:15:21.634257Z",
     "iopub.status.idle": "2022-03-20T22:15:21.684554Z",
     "shell.execute_reply": "2022-03-20T22:15:21.684912Z"
    },
    "papermill": {
     "duration": 0.069194,
     "end_time": "2022-03-20T22:15:21.685021",
     "exception": false,
     "start_time": "2022-03-20T22:15:21.615827",
     "status": "completed"
    },
    "tags": []
   },
   "outputs": [
    {
     "name": "stdout",
     "output_type": "stream",
     "text": [
      "(2, 200)\n"
     ]
    }
   ],
   "source": [
    "###################################\n",
    "# Build the model\n",
    "###################################\n",
    "# easfsl only wants a tuple for the shape\n",
    "model = Steves_Prototypical_Network(x_net, device=p.device, x_shape=tuple(p.x_shape))\n",
    "optimizer = Adam(params=model.parameters(), lr=p.lr)"
   ]
  },
  {
   "cell_type": "code",
   "execution_count": 22,
   "id": "22b39ac5",
   "metadata": {
    "execution": {
     "iopub.execute_input": "2022-03-20T22:15:21.723680Z",
     "iopub.status.busy": "2022-03-20T22:15:21.723416Z",
     "iopub.status.idle": "2022-03-20T22:29:14.407097Z",
     "shell.execute_reply": "2022-03-20T22:29:14.406864Z"
    },
    "papermill": {
     "duration": 832.702403,
     "end_time": "2022-03-20T22:29:14.407156",
     "exception": false,
     "start_time": "2022-03-20T22:15:21.704753",
     "status": "completed"
    },
    "tags": []
   },
   "outputs": [
    {
     "name": "stdout",
     "output_type": "stream",
     "text": [
      "epoch: 1, [batch: 1 / 6720], examples_per_second: 38.3156, train_label_loss: 2.8158, \n"
     ]
    },
    {
     "name": "stdout",
     "output_type": "stream",
     "text": [
      "epoch: 1, [batch: 672 / 6720], examples_per_second: 3724.8040, train_label_loss: 0.6144, \n"
     ]
    },
    {
     "name": "stdout",
     "output_type": "stream",
     "text": [
      "epoch: 1, [batch: 1344 / 6720], examples_per_second: 3750.2881, train_label_loss: 0.2989, \n"
     ]
    },
    {
     "name": "stdout",
     "output_type": "stream",
     "text": [
      "epoch: 1, [batch: 2016 / 6720], examples_per_second: 3755.9855, train_label_loss: 0.3581, \n"
     ]
    },
    {
     "name": "stdout",
     "output_type": "stream",
     "text": [
      "epoch: 1, [batch: 2688 / 6720], examples_per_second: 3725.1883, train_label_loss: 0.5247, \n"
     ]
    },
    {
     "name": "stdout",
     "output_type": "stream",
     "text": [
      "epoch: 1, [batch: 3360 / 6720], examples_per_second: 3704.9393, train_label_loss: 0.3171, \n"
     ]
    },
    {
     "name": "stdout",
     "output_type": "stream",
     "text": [
      "epoch: 1, [batch: 4032 / 6720], examples_per_second: 3733.4765, train_label_loss: 0.3099, \n"
     ]
    },
    {
     "name": "stdout",
     "output_type": "stream",
     "text": [
      "epoch: 1, [batch: 4704 / 6720], examples_per_second: 3707.2452, train_label_loss: 0.4397, \n"
     ]
    },
    {
     "name": "stdout",
     "output_type": "stream",
     "text": [
      "epoch: 1, [batch: 5376 / 6720], examples_per_second: 3726.4123, train_label_loss: 0.2699, \n"
     ]
    },
    {
     "name": "stdout",
     "output_type": "stream",
     "text": [
      "epoch: 1, [batch: 6048 / 6720], examples_per_second: 3730.5880, train_label_loss: 0.0496, \n"
     ]
    },
    {
     "name": "stdout",
     "output_type": "stream",
     "text": [
      "=============================================================\n",
      "epoch: 1, source_val_acc_label: 0.6286, target_val_acc_label: 0.6213, source_val_label_loss: 38.2453, target_val_label_loss: 7724.3794, \n",
      "=============================================================\n"
     ]
    },
    {
     "name": "stdout",
     "output_type": "stream",
     "text": [
      "New best\n"
     ]
    },
    {
     "name": "stdout",
     "output_type": "stream",
     "text": [
      "epoch: 2, [batch: 1 / 6720], examples_per_second: 4.3783, train_label_loss: 67.7132, \n"
     ]
    },
    {
     "name": "stdout",
     "output_type": "stream",
     "text": [
      "epoch: 2, [batch: 672 / 6720], examples_per_second: 3690.9008, train_label_loss: 0.7290, \n"
     ]
    },
    {
     "name": "stdout",
     "output_type": "stream",
     "text": [
      "epoch: 2, [batch: 1344 / 6720], examples_per_second: 3701.0306, train_label_loss: 0.4054, \n"
     ]
    },
    {
     "name": "stdout",
     "output_type": "stream",
     "text": [
      "epoch: 2, [batch: 2016 / 6720], examples_per_second: 3738.5837, train_label_loss: 0.6159, \n"
     ]
    },
    {
     "name": "stdout",
     "output_type": "stream",
     "text": [
      "epoch: 2, [batch: 2688 / 6720], examples_per_second: 3726.4704, train_label_loss: 0.4344, \n"
     ]
    },
    {
     "name": "stdout",
     "output_type": "stream",
     "text": [
      "epoch: 2, [batch: 3360 / 6720], examples_per_second: 3738.6357, train_label_loss: 0.3161, \n"
     ]
    },
    {
     "name": "stdout",
     "output_type": "stream",
     "text": [
      "epoch: 2, [batch: 4032 / 6720], examples_per_second: 3723.9704, train_label_loss: 0.2585, \n"
     ]
    },
    {
     "name": "stdout",
     "output_type": "stream",
     "text": [
      "epoch: 2, [batch: 4704 / 6720], examples_per_second: 3705.2487, train_label_loss: 0.3590, \n"
     ]
    },
    {
     "name": "stdout",
     "output_type": "stream",
     "text": [
      "epoch: 2, [batch: 5376 / 6720], examples_per_second: 3715.6278, train_label_loss: 0.5448, \n"
     ]
    },
    {
     "name": "stdout",
     "output_type": "stream",
     "text": [
      "epoch: 2, [batch: 6048 / 6720], examples_per_second: 3682.3151, train_label_loss: 0.4544, \n"
     ]
    },
    {
     "name": "stdout",
     "output_type": "stream",
     "text": [
      "=============================================================\n",
      "epoch: 2, source_val_acc_label: 0.8718, target_val_acc_label: 0.5147, source_val_label_loss: 0.3612, target_val_label_loss: 7993.5259, \n",
      "=============================================================\n"
     ]
    },
    {
     "name": "stdout",
     "output_type": "stream",
     "text": [
      "epoch: 3, [batch: 1 / 6720], examples_per_second: 4.3937, train_label_loss: 0.2866, \n"
     ]
    },
    {
     "name": "stdout",
     "output_type": "stream",
     "text": [
      "epoch: 3, [batch: 672 / 6720], examples_per_second: 3674.5369, train_label_loss: 0.2152, \n"
     ]
    },
    {
     "name": "stdout",
     "output_type": "stream",
     "text": [
      "epoch: 3, [batch: 1344 / 6720], examples_per_second: 3732.9232, train_label_loss: 0.2580, \n"
     ]
    },
    {
     "name": "stdout",
     "output_type": "stream",
     "text": [
      "epoch: 3, [batch: 2016 / 6720], examples_per_second: 3725.8712, train_label_loss: 0.2956, \n"
     ]
    },
    {
     "name": "stdout",
     "output_type": "stream",
     "text": [
      "epoch: 3, [batch: 2688 / 6720], examples_per_second: 3712.1677, train_label_loss: 0.1376, \n"
     ]
    },
    {
     "name": "stdout",
     "output_type": "stream",
     "text": [
      "epoch: 3, [batch: 3360 / 6720], examples_per_second: 3733.4856, train_label_loss: 0.3891, \n"
     ]
    },
    {
     "name": "stdout",
     "output_type": "stream",
     "text": [
      "epoch: 3, [batch: 4032 / 6720], examples_per_second: 3724.9511, train_label_loss: 0.3620, \n"
     ]
    },
    {
     "name": "stdout",
     "output_type": "stream",
     "text": [
      "epoch: 3, [batch: 4704 / 6720], examples_per_second: 3722.2100, train_label_loss: 0.1656, \n"
     ]
    },
    {
     "name": "stdout",
     "output_type": "stream",
     "text": [
      "epoch: 3, [batch: 5376 / 6720], examples_per_second: 3753.2970, train_label_loss: 0.3077, \n"
     ]
    },
    {
     "name": "stdout",
     "output_type": "stream",
     "text": [
      "epoch: 3, [batch: 6048 / 6720], examples_per_second: 3731.0354, train_label_loss: 0.2189, \n"
     ]
    },
    {
     "name": "stdout",
     "output_type": "stream",
     "text": [
      "=============================================================\n",
      "epoch: 3, source_val_acc_label: 0.8749, target_val_acc_label: 0.5468, source_val_label_loss: 0.3416, target_val_label_loss: 9437.9854, \n",
      "=============================================================\n"
     ]
    },
    {
     "name": "stdout",
     "output_type": "stream",
     "text": [
      "epoch: 4, [batch: 1 / 6720], examples_per_second: 4.3824, train_label_loss: 0.1423, \n"
     ]
    },
    {
     "name": "stdout",
     "output_type": "stream",
     "text": [
      "epoch: 4, [batch: 672 / 6720], examples_per_second: 3698.8772, train_label_loss: 0.2112, \n"
     ]
    },
    {
     "name": "stdout",
     "output_type": "stream",
     "text": [
      "epoch: 4, [batch: 1344 / 6720], examples_per_second: 3716.4697, train_label_loss: 0.3171, \n"
     ]
    },
    {
     "name": "stdout",
     "output_type": "stream",
     "text": [
      "epoch: 4, [batch: 2016 / 6720], examples_per_second: 3719.4901, train_label_loss: 0.3355, \n"
     ]
    },
    {
     "name": "stdout",
     "output_type": "stream",
     "text": [
      "epoch: 4, [batch: 2688 / 6720], examples_per_second: 3712.6474, train_label_loss: 0.4272, \n"
     ]
    },
    {
     "name": "stdout",
     "output_type": "stream",
     "text": [
      "epoch: 4, [batch: 3360 / 6720], examples_per_second: 3732.0931, train_label_loss: 0.2423, \n"
     ]
    },
    {
     "name": "stdout",
     "output_type": "stream",
     "text": [
      "epoch: 4, [batch: 4032 / 6720], examples_per_second: 3729.2254, train_label_loss: 0.3387, \n"
     ]
    },
    {
     "name": "stdout",
     "output_type": "stream",
     "text": [
      "epoch: 4, [batch: 4704 / 6720], examples_per_second: 3716.9687, train_label_loss: 0.3039, \n"
     ]
    },
    {
     "name": "stdout",
     "output_type": "stream",
     "text": [
      "epoch: 4, [batch: 5376 / 6720], examples_per_second: 3739.1883, train_label_loss: 0.2197, \n"
     ]
    },
    {
     "name": "stdout",
     "output_type": "stream",
     "text": [
      "epoch: 4, [batch: 6048 / 6720], examples_per_second: 3730.8746, train_label_loss: 0.1441, \n"
     ]
    },
    {
     "name": "stdout",
     "output_type": "stream",
     "text": [
      "=============================================================\n",
      "epoch: 4, source_val_acc_label: 0.8844, target_val_acc_label: 0.5566, source_val_label_loss: 0.3161, target_val_label_loss: 10543.4639, \n",
      "=============================================================\n"
     ]
    },
    {
     "name": "stdout",
     "output_type": "stream",
     "text": [
      "epoch: 5, [batch: 1 / 6720], examples_per_second: 4.3862, train_label_loss: 0.2282, \n"
     ]
    },
    {
     "name": "stdout",
     "output_type": "stream",
     "text": [
      "epoch: 5, [batch: 672 / 6720], examples_per_second: 3724.1592, train_label_loss: 0.1815, \n"
     ]
    },
    {
     "name": "stdout",
     "output_type": "stream",
     "text": [
      "epoch: 5, [batch: 1344 / 6720], examples_per_second: 3735.4448, train_label_loss: 0.6696, \n"
     ]
    },
    {
     "name": "stdout",
     "output_type": "stream",
     "text": [
      "epoch: 5, [batch: 2016 / 6720], examples_per_second: 3738.6468, train_label_loss: 0.3435, \n"
     ]
    },
    {
     "name": "stdout",
     "output_type": "stream",
     "text": [
      "epoch: 5, [batch: 2688 / 6720], examples_per_second: 3717.1399, train_label_loss: 0.1448, \n"
     ]
    },
    {
     "name": "stdout",
     "output_type": "stream",
     "text": [
      "epoch: 5, [batch: 3360 / 6720], examples_per_second: 3738.1422, train_label_loss: 0.1961, \n"
     ]
    },
    {
     "name": "stdout",
     "output_type": "stream",
     "text": [
      "epoch: 5, [batch: 4032 / 6720], examples_per_second: 3734.5679, train_label_loss: 0.2066, \n"
     ]
    },
    {
     "name": "stdout",
     "output_type": "stream",
     "text": [
      "epoch: 5, [batch: 4704 / 6720], examples_per_second: 3728.1218, train_label_loss: 0.2071, \n"
     ]
    },
    {
     "name": "stdout",
     "output_type": "stream",
     "text": [
      "epoch: 5, [batch: 5376 / 6720], examples_per_second: 3743.3470, train_label_loss: 0.2472, \n"
     ]
    },
    {
     "name": "stdout",
     "output_type": "stream",
     "text": [
      "epoch: 5, [batch: 6048 / 6720], examples_per_second: 3733.1089, train_label_loss: 0.3386, \n"
     ]
    },
    {
     "name": "stdout",
     "output_type": "stream",
     "text": [
      "=============================================================\n",
      "epoch: 5, source_val_acc_label: 0.9033, target_val_acc_label: 0.5033, source_val_label_loss: 0.2675, target_val_label_loss: 11278.0195, \n",
      "=============================================================\n"
     ]
    },
    {
     "name": "stdout",
     "output_type": "stream",
     "text": [
      "Patience (3) exhausted\n"
     ]
    }
   ],
   "source": [
    "###################################\n",
    "# train\n",
    "###################################\n",
    "jig = PTN_Train_Eval_Test_Jig(model, p.BEST_MODEL_PATH, p.device)\n",
    "\n",
    "jig.train(\n",
    "    train_iterable=datasets.source.processed.train,\n",
    "    source_val_iterable=datasets.source.processed.val,\n",
    "    target_val_iterable=datasets.target.processed.val,\n",
    "    num_epochs=p.n_epoch,\n",
    "    num_logs_per_epoch=p.NUM_LOGS_PER_EPOCH,\n",
    "    patience=p.patience,\n",
    "    optimizer=optimizer,\n",
    "    criteria_for_best=p.criteria_for_best,\n",
    ")"
   ]
  },
  {
   "cell_type": "code",
   "execution_count": 23,
   "id": "31e8fabf",
   "metadata": {
    "execution": {
     "iopub.execute_input": "2022-03-20T22:29:14.459944Z",
     "iopub.status.busy": "2022-03-20T22:29:14.459688Z",
     "iopub.status.idle": "2022-03-20T22:29:14.478169Z",
     "shell.execute_reply": "2022-03-20T22:29:14.478522Z"
    },
    "papermill": {
     "duration": 0.046481,
     "end_time": "2022-03-20T22:29:14.478632",
     "exception": false,
     "start_time": "2022-03-20T22:29:14.432151",
     "status": "completed"
    },
    "tags": []
   },
   "outputs": [],
   "source": [
    "total_experiment_time_secs = time.time() - start_time_secs"
   ]
  },
  {
   "cell_type": "code",
   "execution_count": 24,
   "id": "87b9595b",
   "metadata": {
    "execution": {
     "iopub.execute_input": "2022-03-20T22:29:14.538497Z",
     "iopub.status.busy": "2022-03-20T22:29:14.538213Z",
     "iopub.status.idle": "2022-03-20T22:31:33.601573Z",
     "shell.execute_reply": "2022-03-20T22:31:33.601075Z"
    },
    "papermill": {
     "duration": 139.094054,
     "end_time": "2022-03-20T22:31:33.601693",
     "exception": false,
     "start_time": "2022-03-20T22:29:14.507639",
     "status": "completed"
    },
    "tags": []
   },
   "outputs": [],
   "source": [
    "###################################\n",
    "# Evaluate the model\n",
    "###################################\n",
    "source_test_label_accuracy, source_test_label_loss = jig.test(datasets.source.processed.test)\n",
    "target_test_label_accuracy, target_test_label_loss = jig.test(datasets.target.processed.test)\n",
    "\n",
    "source_val_label_accuracy, source_val_label_loss = jig.test(datasets.source.processed.val)\n",
    "target_val_label_accuracy, target_val_label_loss = jig.test(datasets.target.processed.val)\n",
    "\n",
    "history = jig.get_history()\n",
    "\n",
    "total_epochs_trained = len(history[\"epoch_indices\"])\n",
    "\n",
    "val_dl = Iterable_Aggregator((datasets.source.original.val,datasets.target.original.val))\n",
    "\n",
    "confusion = ptn_confusion_by_domain_over_dataloader(model, p.device, val_dl)\n",
    "per_domain_accuracy = per_domain_accuracy_from_confusion(confusion)\n",
    "\n",
    "# Add a key to per_domain_accuracy for if it was a source domain\n",
    "for domain, accuracy in per_domain_accuracy.items():\n",
    "    per_domain_accuracy[domain] = {\n",
    "        \"accuracy\": accuracy,\n",
    "        \"source?\": domain in p.domains_source\n",
    "    }\n",
    "\n",
    "# Do an independent accuracy assesment JUST TO BE SURE!\n",
    "# _source_test_label_accuracy = independent_accuracy_assesment(model, datasets.source.processed.test, p.device)\n",
    "# _target_test_label_accuracy = independent_accuracy_assesment(model, datasets.target.processed.test, p.device)\n",
    "# _source_val_label_accuracy = independent_accuracy_assesment(model, datasets.source.processed.val, p.device)\n",
    "# _target_val_label_accuracy = independent_accuracy_assesment(model, datasets.target.processed.val, p.device)\n",
    "\n",
    "# assert(_source_test_label_accuracy == source_test_label_accuracy)\n",
    "# assert(_target_test_label_accuracy == target_test_label_accuracy)\n",
    "# assert(_source_val_label_accuracy == source_val_label_accuracy)\n",
    "# assert(_target_val_label_accuracy == target_val_label_accuracy)\n",
    "\n",
    "experiment = {\n",
    "    \"experiment_name\": p.experiment_name,\n",
    "    \"parameters\": dict(p),\n",
    "    \"results\": {\n",
    "        \"source_test_label_accuracy\": source_test_label_accuracy,\n",
    "        \"source_test_label_loss\": source_test_label_loss,\n",
    "        \"target_test_label_accuracy\": target_test_label_accuracy,\n",
    "        \"target_test_label_loss\": target_test_label_loss,\n",
    "        \"source_val_label_accuracy\": source_val_label_accuracy,\n",
    "        \"source_val_label_loss\": source_val_label_loss,\n",
    "        \"target_val_label_accuracy\": target_val_label_accuracy,\n",
    "        \"target_val_label_loss\": target_val_label_loss,\n",
    "        \"total_epochs_trained\": total_epochs_trained,\n",
    "        \"total_experiment_time_secs\": total_experiment_time_secs,\n",
    "        \"confusion\": confusion,\n",
    "        \"per_domain_accuracy\": per_domain_accuracy,\n",
    "    },\n",
    "    \"history\": history,\n",
    "    \"dataset_metrics\": get_dataset_metrics(datasets, \"ptn\"),\n",
    "}"
   ]
  },
  {
   "cell_type": "code",
   "execution_count": 25,
   "id": "54a21829",
   "metadata": {
    "execution": {
     "iopub.execute_input": "2022-03-20T22:31:33.658879Z",
     "iopub.status.busy": "2022-03-20T22:31:33.658617Z",
     "iopub.status.idle": "2022-03-20T22:31:33.774327Z",
     "shell.execute_reply": "2022-03-20T22:31:33.774742Z"
    },
    "papermill": {
     "duration": 0.14479,
     "end_time": "2022-03-20T22:31:33.774871",
     "exception": false,
     "start_time": "2022-03-20T22:31:33.630081",
     "status": "completed"
    },
    "tags": []
   },
   "outputs": [
    {
     "data": {
      "image/png": "[encoded data removed]",
      "text/plain": [
       "<Figure size 1080x504 with 1 Axes>"
      ]
     },
     "metadata": {
      "needs_background": "light"
     },
     "output_type": "display_data"
    }
   ],
   "source": [
    "ax = get_loss_curve(experiment)\n",
    "plt.show()"
   ]
  },
  {
   "cell_type": "code",
   "execution_count": 26,
   "id": "fd8a0f60",
   "metadata": {
    "execution": {
     "iopub.execute_input": "2022-03-20T22:31:33.834519Z",
     "iopub.status.busy": "2022-03-20T22:31:33.834235Z",
     "iopub.status.idle": "2022-03-20T22:31:33.973545Z",
     "shell.execute_reply": "2022-03-20T22:31:33.973750Z"
    },
    "papermill": {
     "duration": 0.171249,
     "end_time": "2022-03-20T22:31:33.973830",
     "exception": false,
     "start_time": "2022-03-20T22:31:33.802581",
     "status": "completed"
    },
    "tags": []
   },
   "outputs": [
    {
     "data": {
      "text/plain": [
       "<AxesSubplot:title={'center':'Results'}>"
      ]
     },
     "execution_count": 26,
     "metadata": {},
     "output_type": "execute_result"
    },
    {
     "data": {
      "image/png": "[encoded data removed]",
      "text/plain": [
       "<Figure size 1080x504 with 1 Axes>"
      ]
     },
     "metadata": {
      "needs_background": "light"
     },
     "output_type": "display_data"
    }
   ],
   "source": [
    "get_results_table(experiment)"
   ]
  },
  {
   "cell_type": "code",
   "execution_count": 27,
   "id": "cf8dc689",
   "metadata": {
    "execution": {
     "iopub.execute_input": "2022-03-20T22:31:34.030793Z",
     "iopub.status.busy": "2022-03-20T22:31:34.030536Z",
     "iopub.status.idle": "2022-03-20T22:31:34.180490Z",
     "shell.execute_reply": "2022-03-20T22:31:34.180880Z"
    },
    "papermill": {
     "duration": 0.179561,
     "end_time": "2022-03-20T22:31:34.181005",
     "exception": false,
     "start_time": "2022-03-20T22:31:34.001444",
     "status": "completed"
    },
    "tags": []
   },
   "outputs": [
    {
     "data": {
      "text/plain": [
       "<AxesSubplot:title={'center':'Per Domain Validation Accuracy'}, xlabel='domain'>"
      ]
     },
     "execution_count": 27,
     "metadata": {},
     "output_type": "execute_result"
    },
    {
     "data": {
      "image/png": "[encoded data removed]",
      "text/plain": [
       "<Figure size 1080x504 with 1 Axes>"
      ]
     },
     "metadata": {
      "needs_background": "light"
     },
     "output_type": "display_data"
    }
   ],
   "source": [
    "get_domain_accuracies(experiment)"
   ]
  },
  {
   "cell_type": "code",
   "execution_count": 28,
   "id": "a74ae082",
   "metadata": {
    "execution": {
     "iopub.execute_input": "2022-03-20T22:31:34.246689Z",
     "iopub.status.busy": "2022-03-20T22:31:34.246417Z",
     "iopub.status.idle": "2022-03-20T22:31:34.262996Z",
     "shell.execute_reply": "2022-03-20T22:31:34.262539Z"
    },
    "papermill": {
     "duration": 0.047268,
     "end_time": "2022-03-20T22:31:34.263087",
     "exception": false,
     "start_time": "2022-03-20T22:31:34.215819",
     "status": "completed"
    },
    "tags": []
   },
   "outputs": [
    {
     "name": "stdout",
     "output_type": "stream",
     "text": [
      "Source Test Label Accuracy: 0.6268229166666667 Target Test Label Accuracy: 0.6225638440860215\n",
      "Source Val Label Accuracy: 0.6286458333333333 Target Val Label Accuracy: 0.6213427197802198\n"
     ]
    }
   ],
   "source": [
    "print(\"Source Test Label Accuracy:\", experiment[\"results\"][\"source_test_label_accuracy\"], \"Target Test Label Accuracy:\", experiment[\"results\"][\"target_test_label_accuracy\"])\n",
    "print(\"Source Val Label Accuracy:\", experiment[\"results\"][\"source_val_label_accuracy\"], \"Target Val Label Accuracy:\", experiment[\"results\"][\"target_val_label_accuracy\"])"
   ]
  },
  {
   "cell_type": "code",
   "execution_count": 29,
   "id": "dacca602",
   "metadata": {
    "execution": {
     "iopub.execute_input": "2022-03-20T22:31:34.324771Z",
     "iopub.status.busy": "2022-03-20T22:31:34.324433Z",
     "iopub.status.idle": "2022-03-20T22:31:34.345293Z",
     "shell.execute_reply": "2022-03-20T22:31:34.345668Z"
    },
    "papermill": {
     "duration": 0.051287,
     "end_time": "2022-03-20T22:31:34.345775",
     "exception": false,
     "start_time": "2022-03-20T22:31:34.294488",
     "status": "completed"
    },
    "tags": [
     "experiment_json"
    ]
   },
   "outputs": [
    {
     "data": {
      "text/plain": [
       "'{\"experiment_name\": \"tl_3Av2:oracle.run1.framed -> cores+wisig\", \"parameters\": {\"experiment_name\": \"tl_3Av2:oracle.run1.framed -> cores+wisig\", \"device\": \"cuda\", \"lr\": 0.0001, \"x_shape\": [2, 200], \"n_shot\": 3, \"n_query\": 2, \"train_k_factor\": 3, \"val_k_factor\": 2, \"test_k_factor\": 2, \"torch_default_dtype\": \"torch.float32\", \"n_epoch\": 50, \"patience\": 3, \"criteria_for_best\": \"target_accuracy\", \"x_net\": [{\"class\": \"nnReshape\", \"kargs\": {\"shape\": [-1, 1, 2, 200]}}, {\"class\": \"Conv2d\", \"kargs\": {\"in_channels\": 1, \"out_channels\": 256, \"kernel_size\": [1, 7], \"bias\": false, \"padding\": [0, 3]}}, {\"class\": \"ReLU\", \"kargs\": {\"inplace\": true}}, {\"class\": \"BatchNorm2d\", \"kargs\": {\"num_features\": 256}}, {\"class\": \"Conv2d\", \"kargs\": {\"in_channels\": 256, \"out_channels\": 80, \"kernel_size\": [2, 7], \"bias\": true, \"padding\": [0, 3]}}, {\"class\": \"ReLU\", \"kargs\": {\"inplace\": true}}, {\"class\": \"BatchNorm2d\", \"kargs\": {\"num_features\": 80}}, {\"class\": \"Flatten\", \"kargs\": {}}, {\"class\": \"Linear\", \"kargs\": {\"in_features\": 16000, \"out_features\": 256}}, {\"class\": \"ReLU\", \"kargs\": {\"inplace\": true}}, {\"class\": \"BatchNorm1d\", \"kargs\": {\"num_features\": 256}}, {\"class\": \"Linear\", \"kargs\": {\"in_features\": 256, \"out_features\": 256}}], \"NUM_LOGS_PER_EPOCH\": 10, \"BEST_MODEL_PATH\": \"./best_model.pth\", \"n_way\": 16, \"datasets\": [{\"labels\": [\"1-10.\", \"1-11.\", \"1-15.\", \"1-16.\", \"1-17.\", \"1-18.\", \"1-19.\", \"10-4.\", \"10-7.\", \"11-1.\", \"11-14.\", \"11-17.\", \"11-20.\", \"11-7.\", \"13-20.\", \"13-8.\", \"14-10.\", \"14-11.\", \"14-14.\", \"14-7.\", \"15-1.\", \"15-20.\", \"16-1.\", \"16-16.\", \"17-10.\", \"17-11.\", \"17-2.\", \"19-1.\", \"19-16.\", \"19-19.\", \"19-20.\", \"19-3.\", \"2-10.\", \"2-11.\", \"2-17.\", \"2-18.\", \"2-20.\", \"2-3.\", \"2-4.\", \"2-5.\", \"2-6.\", \"2-7.\", \"2-8.\", \"3-13.\", \"3-18.\", \"3-3.\", \"4-1.\", \"4-10.\", \"4-11.\", \"4-19.\", \"5-5.\", \"6-15.\", \"7-10.\", \"7-14.\", \"8-18.\", \"8-20.\", \"8-3.\", \"8-8.\"], \"domains\": [1, 2, 3, 4, 5], \"num_examples_per_domain_per_label\": -1, \"pickle_path\": \"/mnt/wd500GB/CSC500/csc500-main/datasets/cores.stratified_ds.2022A.pkl\", \"source_or_target_dataset\": \"target\", \"x_transforms\": [\"take_200\"], \"episode_transforms\": [], \"domain_prefix\": \"C_\"}, {\"labels\": [\"1-10\", \"1-12\", \"1-14\", \"1-16\", \"1-18\", \"1-19\", \"1-8\", \"10-11\", \"10-17\", \"10-4\", \"10-7\", \"11-1\", \"11-10\", \"11-19\", \"11-20\", \"11-4\", \"11-7\", \"12-19\", \"12-20\", \"12-7\", \"13-14\", \"13-18\", \"13-19\", \"13-20\", \"13-3\", \"13-7\", \"14-10\", \"14-11\", \"14-12\", \"14-13\", \"14-14\", \"14-19\", \"14-20\", \"14-7\", \"14-8\", \"14-9\", \"15-1\", \"15-19\", \"15-6\", \"16-1\", \"16-16\", \"16-19\", \"16-20\", \"17-10\", \"17-11\", \"18-1\", \"18-10\", \"18-11\", \"18-12\", \"18-13\", \"18-14\", \"18-15\", \"18-16\", \"18-17\", \"18-19\", \"18-2\", \"18-20\", \"18-4\", \"18-5\", \"18-7\", \"18-8\", \"18-9\", \"19-1\", \"19-10\", \"19-11\", \"19-12\", \"19-13\", \"19-14\", \"19-15\", \"19-19\", \"19-2\", \"19-20\", \"19-3\", \"19-4\", \"19-6\", \"19-7\", \"19-8\", \"19-9\", \"2-1\", \"2-13\", \"2-15\", \"2-3\", \"2-4\", \"2-5\", \"2-6\", \"2-7\", \"2-8\", \"20-1\", \"20-12\", \"20-14\", \"20-15\", \"20-16\", \"20-18\", \"20-19\", \"20-20\", \"20-3\", \"20-4\", \"20-5\", \"20-7\", \"20-8\", \"3-1\", \"3-13\", \"3-18\", \"3-2\", \"3-8\", \"4-1\", \"4-10\", \"4-11\", \"5-1\", \"5-5\", \"6-1\", \"6-15\", \"6-6\", \"7-10\", \"7-11\", \"7-12\", \"7-13\", \"7-14\", \"7-7\", \"7-8\", \"7-9\", \"8-1\", \"8-13\", \"8-14\", \"8-18\", \"8-20\", \"8-3\", \"8-8\", \"9-1\", \"9-7\"], \"domains\": [1, 2, 3, 4], \"num_examples_per_domain_per_label\": -1, \"pickle_path\": \"/mnt/wd500GB/CSC500/csc500-main/datasets/wisig.node3-19.stratified_ds.2022A.pkl\", \"source_or_target_dataset\": \"target\", \"x_transforms\": [\"take_200\"], \"episode_transforms\": [], \"domain_prefix\": \"W_\"}, {\"labels\": [\"3123D52\", \"3123D65\", \"3123D79\", \"3123D80\", \"3123D54\", \"3123D70\", \"3123D7B\", \"3123D89\", \"3123D58\", \"3123D76\", \"3123D7D\", \"3123EFE\", \"3123D64\", \"3123D78\", \"3123D7E\", \"3124E4A\"], \"domains\": [32, 38, 8, 44, 14, 50, 20, 26], \"num_examples_per_domain_per_label\": 2000, \"pickle_path\": \"/mnt/wd500GB/CSC500/csc500-main/datasets/oracle.Run1_framed_2000Examples_stratified_ds.2022A.pkl\", \"source_or_target_dataset\": \"source\", \"x_transforms\": [\"take_200\", \"resample_20Msps_to_25Msps\"], \"episode_transforms\": [], \"domain_prefix\": \"O_\"}], \"seed\": 1337, \"dataset_seed\": 1337, \"domains_source\": [\"O_32\", \"O_38\", \"O_8\", \"O_44\", \"O_14\", \"O_50\", \"O_20\", \"O_26\"], \"domains_target\": [\"C_1\", \"C_2\", \"C_3\", \"C_4\", \"C_5\", \"W_1\", \"W_2\", \"W_3\", \"W_4\"]}, \"results\": {\"source_test_label_accuracy\": 0.6268229166666667, \"source_test_label_loss\": 38.57819747924805, \"target_test_label_accuracy\": 0.6225638440860215, \"target_test_label_loss\": 7779.271484375, \"source_val_label_accuracy\": 0.6286458333333333, \"source_val_label_loss\": 38.24528884887695, \"target_val_label_accuracy\": 0.6213427197802198, \"target_val_label_loss\": 7724.3798828125, \"total_epochs_trained\": 5, \"total_experiment_time_secs\": 859.9277780056, \"confusion\": {\"O_14\": {\"15\": {\"15\": 240}, \"3\": {\"3\": 229, \"0\": 7, \"6\": 2, \"14\": 2}, \"6\": {\"6\": 131, \"13\": 37, \"3\": 40, \"2\": 4, \"14\": 24, \"7\": 4}, \"1\": {\"4\": 42, \"1\": 198}, \"8\": {\"8\": 240}, \"10\": {\"10\": 240}, \"9\": {\"9\": 240}, \"13\": {\"14\": 32, \"5\": 30, \"2\": 34, \"6\": 70, \"15\": 14, \"13\": 32, \"3\": 22, \"4\": 2, \"7\": 4}, \"12\": {\"12\": 240}, \"5\": {\"5\": 205, \"2\": 23, \"4\": 4, \"14\": 2, \"0\": 1, \"7\": 3, \"13\": 2}, \"0\": {\"0\": 166, \"5\": 4, \"3\": 51, \"10\": 5, \"8\": 10, \"14\": 4}, \"2\": {\"4\": 26, \"5\": 72, \"7\": 11, \"6\": 17, \"13\": 12, \"14\": 31, \"2\": 58, \"3\": 13}, \"11\": {\"11\": 218, \"8\": 19, \"9\": 2, \"4\": 1}, \"14\": {\"14\": 167, \"3\": 12, \"2\": 29, \"13\": 18, \"5\": 2, \"7\": 7, \"6\": 3, \"0\": 2}, \"7\": {\"7\": 214, \"2\": 12, \"13\": 1, \"3\": 5, \"14\": 5, \"5\": 3}, \"4\": {\"4\": 236, \"5\": 4}}, \"O_20\": {\"3\": {\"1\": 4, \"3\": 170, \"5\": 31, \"8\": 16, \"9\": 18, \"0\": 1}, \"15\": {\"15\": 215, \"12\": 21, \"1\": 4}, \"8\": {\"8\": 215, \"14\": 14, \"3\": 11}, \"4\": {\"4\": 233, \"12\": 5, \"2\": 2}, \"14\": {\"14\": 234, \"8\": 6}, \"0\": {\"0\": 230, \"5\": 6, \"3\": 3, \"8\": 1}, \"7\": {\"7\": 221, \"2\": 12, \"9\": 6, \"4\": 1}, \"6\": {\"6\": 238, \"7\": 2}, \"10\": {\"10\": 240}, \"5\": {\"5\": 171, \"1\": 35, \"3\": 32, \"9\": 2}, \"2\": {\"2\": 201, \"12\": 28, \"15\": 2, \"4\": 1, \"13\": 1, \"7\": 7}, \"12\": {\"12\": 219, \"15\": 8, \"2\": 11, \"4\": 2}, \"9\": {\"9\": 227, \"1\": 2, \"7\": 5, \"3\": 6}, \"1\": {\"1\": 218, \"5\": 18, \"9\": 4}, \"11\": {\"11\": 240}, \"13\": {\"13\": 239, \"2\": 1}}, \"O_38\": {\"5\": {\"5\": 57, \"12\": 45, \"8\": 58, \"9\": 40, \"15\": 26, \"2\": 3, \"7\": 9, \"14\": 2}, \"8\": {\"7\": 27, \"5\": 43, \"8\": 49, \"15\": 33, \"12\": 42, \"9\": 37, \"2\": 9}, \"11\": {\"11\": 240}, \"1\": {\"6\": 85, \"1\": 155}, \"10\": {\"0\": 47, \"10\": 156, \"4\": 10, \"3\": 7, \"13\": 20}, \"15\": {\"15\": 177, \"12\": 34, \"1\": 8, \"8\": 8, \"6\": 7, \"5\": 6}, \"3\": {\"3\": 237, \"11\": 3}, \"7\": {\"9\": 22, \"2\": 49, \"7\": 136, \"14\": 20, \"5\": 3, \"8\": 6, \"0\": 4}, \"4\": {\"4\": 121, \"0\": 35, \"13\": 78, \"14\": 1, \"10\": 5}, \"14\": {\"9\": 1, \"14\": 130, \"2\": 81, \"7\": 17, \"13\": 5, \"4\": 2, \"0\": 4}, \"9\": {\"9\": 134, \"8\": 36, \"7\": 32, \"5\": 35, \"2\": 3}, \"12\": {\"12\": 192, \"5\": 23, \"8\": 20, \"15\": 4, \"9\": 1}, \"6\": {\"6\": 140, \"1\": 100}, \"2\": {\"14\": 79, \"2\": 104, \"7\": 47, \"8\": 3, \"9\": 1, \"13\": 2, \"0\": 2, \"4\": 1, \"5\": 1}, \"0\": {\"13\": 38, \"7\": 10, \"4\": 48, \"14\": 16, \"0\": 45, \"10\": 75, \"3\": 3, \"2\": 5}, \"13\": {\"4\": 89, \"0\": 50, \"13\": 83, \"14\": 8, \"10\": 9, \"2\": 1}}, \"O_8\": {\"9\": {\"9\": 234, \"1\": 1, \"3\": 4, \"11\": 1}, \"10\": {\"10\": 113, \"5\": 25, \"6\": 19, \"13\": 60, \"1\": 18, \"11\": 5}, \"13\": {\"13\": 175, \"10\": 35, \"7\": 22, \"1\": 2, \"5\": 3, \"6\": 3}, \"0\": {\"0\": 181, \"14\": 59}, \"1\": {\"1\": 103, \"6\": 11, \"5\": 24, \"11\": 46, \"10\": 33, \"13\": 10, \"4\": 13}, \"15\": {\"15\": 228, \"12\": 12}, \"5\": {\"5\": 94, \"13\": 27, \"10\": 74, \"1\": 22, \"11\": 17, \"4\": 5, \"9\": 1}, \"3\": {\"3\": 240}, \"6\": {\"6\": 190, \"7\": 39, \"11\": 6, \"8\": 1, \"4\": 2, \"10\": 1, \"1\": 1}, \"11\": {\"11\": 56, \"1\": 75, \"6\": 10, \"5\": 13, \"4\": 37, \"10\": 11, \"14\": 32, \"13\": 2, \"8\": 4}, \"8\": {\"8\": 130, \"14\": 7, \"6\": 53, \"4\": 43, \"11\": 6, \"7\": 1}, \"4\": {\"14\": 23, \"6\": 19, \"4\": 134, \"8\": 32, \"11\": 29, \"1\": 1, \"10\": 1, \"5\": 1}, \"12\": {\"12\": 203, \"15\": 37}, \"14\": {\"14\": 152, \"4\": 49, \"8\": 14, \"11\": 23, \"0\": 2}, \"2\": {\"3\": 47, \"15\": 9, \"2\": 176, \"12\": 8}, \"7\": {\"7\": 215, \"6\": 23, \"13\": 2}}, \"O_50\": {\"7\": {\"4\": 66, \"7\": 169, \"5\": 5}, \"3\": {\"3\": 140, \"5\": 20, \"6\": 51, \"12\": 3, \"15\": 12, \"9\": 3, \"11\": 11}, \"8\": {\"8\": 173, \"1\": 57, \"10\": 5, \"13\": 5}, \"2\": {\"2\": 124, \"0\": 39, \"14\": 77}, \"14\": {\"14\": 158, \"2\": 77, \"0\": 5}, \"4\": {\"7\": 89, \"4\": 120, \"5\": 29, \"15\": 1, \"3\": 1}, \"6\": {\"6\": 100, \"9\": 11, \"5\": 27, \"15\": 75, \"3\": 21, \"12\": 6}, \"15\": {\"6\": 74, \"5\": 23, \"9\": 37, \"15\": 80, \"12\": 14, \"3\": 12}, \"10\": {\"1\": 8, \"10\": 215, \"0\": 13, \"8\": 4}, \"11\": {\"11\": 178, \"12\": 51, \"9\": 1, \"15\": 1, \"5\": 3, \"6\": 1, \"13\": 5}, \"13\": {\"13\": 218, \"1\": 9, \"11\": 13}, \"9\": {\"15\": 50, \"9\": 100, \"5\": 14, \"12\": 57, \"6\": 14, \"11\": 5}, \"0\": {\"0\": 194, \"2\": 33, \"10\": 10, \"14\": 3}, \"1\": {\"8\": 54, \"1\": 118, \"13\": 27, \"10\": 40, \"0\": 1}, \"12\": {\"12\": 125, \"9\": 49, \"5\": 3, \"11\": 46, \"15\": 11, \"6\": 6}, \"5\": {\"5\": 89, \"4\": 34, \"7\": 32, \"12\": 8, \"11\": 21, \"6\": 20, \"13\": 6, \"15\": 21, \"9\": 4, \"3\": 5}}, \"O_32\": {\"8\": {\"2\": 28, \"8\": 81, \"0\": 49, \"14\": 56, \"5\": 6, \"7\": 19, \"1\": 1}, \"14\": {\"0\": 46, \"14\": 64, \"2\": 28, \"8\": 69, \"7\": 19, \"5\": 10, \"15\": 3, \"1\": 1}, \"2\": {\"2\": 184, \"4\": 52, \"8\": 4}, \"0\": {\"7\": 56, \"15\": 5, \"0\": 78, \"8\": 49, \"14\": 35, \"5\": 16, \"1\": 1}, \"1\": {\"8\": 6, \"1\": 232, \"2\": 2}, \"10\": {\"10\": 216, \"12\": 24}, \"11\": {\"11\": 204, \"9\": 26, \"13\": 1, \"12\": 9}, \"5\": {\"5\": 63, \"15\": 79, \"0\": 20, \"7\": 40, \"14\": 23, \"8\": 15}, \"15\": {\"7\": 55, \"15\": 97, \"5\": 69, \"0\": 17, \"8\": 1, \"14\": 1}, \"3\": {\"3\": 133, \"13\": 65, \"4\": 36, \"9\": 5, \"2\": 1}, \"12\": {\"12\": 211, \"9\": 7, \"10\": 18, \"11\": 4}, \"7\": {\"0\": 45, \"5\": 43, \"15\": 31, \"7\": 90, \"14\": 18, \"8\": 13}, \"13\": {\"3\": 72, \"13\": 108, \"9\": 33, \"11\": 6, \"4\": 18, \"2\": 3}, \"6\": {\"6\": 236, \"10\": 4}, \"4\": {\"2\": 57, \"4\": 147, \"3\": 25, \"13\": 10, \"9\": 1}, \"9\": {\"10\": 1, \"3\": 12, \"9\": 96, \"12\": 46, \"13\": 52, \"4\": 6, \"11\": 27}}, \"O_26\": {\"4\": {\"4\": 240}, \"12\": {\"13\": 9, \"3\": 4, \"7\": 45, \"4\": 2, \"8\": 55, \"9\": 35, \"12\": 51, \"2\": 39}, \"10\": {\"10\": 98, \"15\": 32, \"14\": 74, \"0\": 30, \"6\": 5, \"5\": 1}, \"0\": {\"0\": 156, \"10\": 34, \"2\": 22, \"14\": 16, \"12\": 2, \"15\": 3, \"8\": 4, \"9\": 3}, \"13\": {\"9\": 10, \"4\": 106, \"13\": 55, \"3\": 48, \"2\": 7, \"7\": 6, \"8\": 4, \"12\": 4}, \"9\": {\"0\": 12, \"3\": 38, \"9\": 28, \"4\": 5, \"8\": 29, \"12\": 34, \"2\": 54, \"7\": 24, \"13\": 16}, \"3\": {\"4\": 56, \"13\": 72, \"3\": 80, \"9\": 11, \"7\": 12, \"8\": 5, \"2\": 2, \"12\": 2}, \"2\": {\"0\": 29, \"9\": 32, \"2\": 65, \"7\": 24, \"8\": 41, \"12\": 31, \"3\": 7, \"14\": 3, \"15\": 1, \"13\": 6, \"10\": 1}, \"5\": {\"6\": 47, \"11\": 9, \"1\": 56, \"15\": 44, \"5\": 77, \"14\": 6, \"10\": 1}, \"14\": {\"14\": 77, \"10\": 90, \"0\": 28, \"1\": 3, \"15\": 35, \"6\": 5, \"5\": 2}, \"8\": {\"12\": 46, \"3\": 8, \"8\": 45, \"7\": 47, \"9\": 32, \"2\": 59, \"13\": 1, \"0\": 2}, \"7\": {\"7\": 50, \"12\": 45, \"9\": 34, \"8\": 46, \"13\": 22, \"3\": 24, \"2\": 19}, \"6\": {\"11\": 2, \"14\": 12, \"6\": 76, \"5\": 54, \"15\": 49, \"1\": 40, \"10\": 7}, \"11\": {\"11\": 172, \"5\": 8, \"1\": 47, \"10\": 1, \"6\": 8, \"15\": 4}, \"15\": {\"14\": 40, \"6\": 28, \"1\": 36, \"10\": 36, \"15\": 64, \"5\": 33, \"0\": 3}, \"1\": {\"11\": 56, \"5\": 39, \"1\": 43, \"6\": 43, \"15\": 38, \"10\": 9, \"14\": 12}}, \"O_44\": {\"12\": {\"12\": 139, \"3\": 101}, \"7\": {\"7\": 113, \"10\": 48, \"9\": 25, \"4\": 31, \"14\": 19, \"5\": 4}, \"5\": {\"5\": 64, \"7\": 19, \"14\": 42, \"8\": 14, \"4\": 48, \"15\": 38, \"2\": 3, \"9\": 10, \"10\": 2}, \"15\": {\"15\": 93, \"5\": 34, \"14\": 32, \"2\": 10, \"8\": 45, \"4\": 16, \"7\": 2, \"0\": 3, \"1\": 2, \"10\": 3}, \"8\": {\"0\": 41, \"8\": 105, \"5\": 7, \"15\": 40, \"2\": 27, \"1\": 14, \"14\": 4, \"9\": 1, \"4\": 1}, \"2\": {\"2\": 172, \"8\": 16, \"1\": 44, \"15\": 7, \"0\": 1}, \"13\": {\"13\": 172, \"6\": 63, \"9\": 5}, \"4\": {\"9\": 61, \"14\": 16, \"6\": 14, \"7\": 27, \"15\": 40, \"8\": 17, \"5\": 19, \"4\": 38, \"2\": 4, \"10\": 4}, \"0\": {\"0\": 195, \"1\": 19, \"8\": 25, \"2\": 1}, \"6\": {\"6\": 177, \"9\": 28, \"13\": 34, \"4\": 1}, \"9\": {\"5\": 8, \"10\": 16, \"14\": 22, \"6\": 34, \"9\": 40, \"13\": 33, \"7\": 45, \"4\": 27, \"15\": 15}, \"11\": {\"11\": 240}, \"10\": {\"7\": 72, \"9\": 27, \"2\": 3, \"10\": 89, \"4\": 15, \"1\": 10, \"14\": 14, \"15\": 5, \"5\": 4, \"6\": 1}, \"14\": {\"5\": 38, \"14\": 91, \"4\": 39, \"9\": 10, \"8\": 1, \"15\": 36, \"7\": 19, \"10\": 6}, \"1\": {\"1\": 162, \"2\": 50, \"0\": 22, \"8\": 6}, \"3\": {\"3\": 159, \"12\": 81}}, \"W_3\": {\"109\": {\"109\": 46, \"24\": 4, \"43\": 1, \"78\": 3, \"39\": 2, \"126\": 5, \"122\": 3, \"108\": 7, \"94\": 3, \"118\": 6, \"87\": 5, \"11\": 13, \"36\": 8, \"27\": 5, \"113\": 5, \"10\": 6, \"88\": 2, \"70\": 2, \"110\": 1, \"0\": 1}, \"127\": {\"127\": 101, \"106\": 2, \"14\": 3, \"3\": 3, \"71\": 6, \"110\": 1, \"26\": 4, \"84\": 3, \"16\": 1, \"108\": 1, \"93\": 1, \"7\": 1, \"105\": 1}, \"14\": {\"114\": 4, \"14\": 35, \"83\": 1, \"1\": 5, \"62\": 1, \"49\": 1, \"3\": 6, \"44\": 2, \"18\": 6, \"127\": 2, \"34\": 1, \"69\": 1, \"26\": 4, \"12\": 1, \"84\": 3, \"92\": 1, \"71\": 2, \"33\": 1, \"110\": 1, \"93\": 1, \"40\": 1}, \"7\": {\"84\": 1, \"7\": 61, \"106\": 9, \"122\": 1, \"15\": 4, \"30\": 1, \"110\": 1, \"0\": 3, \"94\": 2, \"12\": 3, \"26\": 1, \"118\": 2, \"3\": 2, \"8\": 3, \"87\": 3, \"93\": 8, \"101\": 1, \"88\": 1, \"16\": 2, \"113\": 1, \"62\": 2}, \"129\": {\"57\": 1, \"129\": 18, \"45\": 1, \"103\": 1, \"124\": 1, \"111\": 1, \"91\": 1, \"50\": 1, \"89\": 1, \"5\": 2, \"85\": 1, \"115\": 1, \"67\": 2}, \"57\": {\"57\": 14, \"129\": 2, \"55\": 1, \"92\": 2, \"128\": 1}, \"84\": {\"127\": 12, \"84\": 57, \"3\": 4, \"26\": 11, \"18\": 7, \"14\": 2, \"62\": 6, \"1\": 1, \"40\": 2, \"70\": 1, \"44\": 1, \"71\": 1, \"93\": 1, \"88\": 1, \"69\": 1}, \"114\": {\"127\": 4, \"114\": 83, \"99\": 1, \"6\": 1, \"44\": 2, \"40\": 5, \"98\": 3, \"105\": 9, \"1\": 10, \"64\": 1, \"69\": 1, \"70\": 1, \"33\": 3}, \"44\": {\"44\": 44, \"3\": 1, \"92\": 1, \"35\": 1, \"60\": 1, \"75\": 1, \"105\": 3, \"34\": 5, \"71\": 4, \"26\": 1, \"14\": 1, \"107\": 1, \"98\": 2, \"65\": 1, \"40\": 1, \"31\": 1, \"19\": 1, \"99\": 1, \"9\": 1}, \"21\": {\"21\": 41, \"126\": 2, \"90\": 1, \"39\": 1, \"108\": 2, \"12\": 1}, \"46\": {\"46\": 9, \"107\": 2, \"61\": 3, \"74\": 1, \"57\": 1}, \"100\": {\"107\": 3, \"100\": 7, \"68\": 1, \"72\": 1, \"1\": 1, \"29\": 1, \"19\": 2}, \"63\": {\"63\": 8, \"115\": 3, \"6\": 1, \"123\": 2, \"4\": 1, \"19\": 1}, \"24\": {\"21\": 1, \"24\": 29, \"39\": 2, \"78\": 1, \"10\": 6, \"27\": 4, \"109\": 1, \"126\": 1, \"11\": 1, \"108\": 1, \"88\": 1}, \"107\": {\"35\": 1, \"100\": 1, \"107\": 77, \"83\": 1, \"8\": 1, \"40\": 4, \"114\": 3, \"71\": 1, \"32\": 1, \"7\": 1, \"105\": 4, \"69\": 3, \"90\": 6, \"1\": 4, \"117\": 1, \"33\": 6, \"18\": 1, \"19\": 1, \"110\": 1}, \"35\": {\"114\": 2, \"35\": 8, \"44\": 1, \"27\": 1}, \"81\": {\"81\": 13, \"57\": 1, \"44\": 1, \"69\": 2, \"103\": 2, \"32\": 1, \"9\": 1, \"95\": 2, \"72\": 1, \"14\": 2, \"40\": 2, \"89\": 1, \"121\": 1, \"33\": 1, \"98\": 1}, \"64\": {\"64\": 12, \"59\": 1, \"120\": 1, \"76\": 1, \"28\": 2, \"124\": 1, \"35\": 1, \"66\": 1}, \"59\": {\"64\": 2, \"59\": 7, \"125\": 1, \"120\": 2}, \"33\": {\"33\": 94, \"105\": 4, \"114\": 3, \"107\": 2, \"111\": 1, \"1\": 4, \"69\": 1, \"40\": 1, \"18\": 3, \"3\": 1}, \"34\": {\"77\": 2, \"47\": 1, \"83\": 1, \"52\": 2, \"54\": 1, \"33\": 1, \"18\": 2, \"75\": 1, \"34\": 9, \"23\": 1, \"105\": 1, \"14\": 1, \"25\": 1, \"40\": 2, \"9\": 3, \"19\": 1, \"28\": 1, \"69\": 1}, \"36\": {\"36\": 71, \"122\": 1, \"10\": 7, \"126\": 5, \"43\": 1, \"11\": 4, \"24\": 1, \"108\": 12, \"21\": 1, \"125\": 1, \"30\": 4, \"8\": 2, \"70\": 1, \"27\": 2, \"0\": 2, \"88\": 1, \"109\": 1, \"87\": 1, \"111\": 1, \"110\": 1}, \"79\": {\"79\": 10, \"2\": 1, \"48\": 1}, \"80\": {\"124\": 1, \"80\": 13, \"125\": 1, \"102\": 1}, \"77\": {\"124\": 2, \"36\": 1, \"35\": 1, \"77\": 6, \"117\": 1, \"81\": 1, \"100\": 1, \"41\": 1, \"6\": 1, \"5\": 1}, \"22\": {\"80\": 1, \"22\": 6, \"59\": 2, \"116\": 1, \"37\": 2, \"76\": 1, \"83\": 1, \"61\": 1, \"50\": 1}, \"124\": {\"124\": 66, \"104\": 1, \"129\": 1, \"103\": 1, \"91\": 1, \"102\": 4, \"117\": 3, \"82\": 1, \"111\": 12, \"73\": 2, \"5\": 8, \"125\": 3, \"90\": 7, \"52\": 1, \"116\": 1, \"41\": 1, \"66\": 1, \"4\": 1, \"119\": 1, \"120\": 1, \"85\": 1, \"86\": 1, \"6\": 1, \"2\": 2, \"9\": 1, \"98\": 1}, \"2\": {\"2\": 9, \"102\": 1, \"46\": 1, \"5\": 3, \"89\": 1, \"86\": 1, \"115\": 1, \"85\": 1, \"60\": 1, \"55\": 3, \"124\": 1, \"116\": 2, \"82\": 2, \"91\": 1}, \"87\": {\"109\": 8, \"87\": 39, \"108\": 4, \"0\": 6, \"7\": 2, \"36\": 3, \"110\": 4, \"43\": 3, \"8\": 3, \"11\": 7, \"126\": 3, \"94\": 2, \"118\": 9, \"113\": 13, \"39\": 2, \"30\": 1, \"101\": 1, \"27\": 1, \"106\": 1}, \"105\": {\"105\": 73, \"1\": 7, \"40\": 10, \"114\": 12, \"3\": 2, \"14\": 1, \"98\": 2, \"69\": 2, \"94\": 1, \"84\": 1, \"107\": 1, \"33\": 9, \"8\": 1}, \"95\": {\"95\": 26, \"128\": 1, \"72\": 1, \"19\": 1, \"77\": 1, \"5\": 1, \"9\": 1}, \"43\": {\"43\": 19, \"113\": 4, \"27\": 1, \"11\": 4, \"21\": 1, \"36\": 3, \"24\": 1, \"109\": 3, \"122\": 1, \"87\": 5, \"39\": 1, \"70\": 2, \"108\": 1, \"0\": 1, \"30\": 2, \"88\": 1, \"118\": 2, \"78\": 2, \"126\": 1, \"10\": 1}, \"56\": {\"85\": 1, \"56\": 6, \"61\": 1, \"57\": 2, \"54\": 1, \"32\": 1}, \"18\": {\"18\": 91, \"75\": 1, \"26\": 11, \"73\": 1, \"84\": 3, \"62\": 5, \"69\": 1, \"3\": 3, \"21\": 1, \"114\": 2, \"98\": 1, \"12\": 1, \"39\": 1, \"33\": 2}, \"85\": {\"128\": 3, \"85\": 16, \"55\": 1, \"89\": 2, \"66\": 1, \"73\": 2, \"28\": 1, \"95\": 1, \"42\": 1, \"3\": 1, \"86\": 1, \"53\": 1, \"50\": 2, \"5\": 1, \"19\": 1, \"32\": 1}, \"113\": {\"110\": 12, \"113\": 49, \"8\": 5, \"36\": 2, \"108\": 2, \"122\": 7, \"93\": 5, \"16\": 4, \"118\": 7, \"0\": 4, \"15\": 1, \"11\": 2, \"87\": 6, \"69\": 2, \"10\": 2, \"94\": 2, \"30\": 4, \"97\": 1, \"43\": 3}, \"97\": {\"97\": 8, \"15\": 2, \"23\": 1, \"27\": 1, \"94\": 2, \"36\": 1, \"39\": 1, \"96\": 1, \"60\": 1, \"122\": 2}, \"86\": {\"123\": 1, \"59\": 1, \"86\": 11, \"89\": 1, \"32\": 1, \"42\": 1, \"24\": 1, \"104\": 2, \"48\": 2, \"67\": 2, \"37\": 2, \"2\": 1, \"16\": 1, \"111\": 1}, \"128\": {\"128\": 12, \"76\": 1, \"90\": 1, \"53\": 3, \"31\": 1, \"29\": 2, \"121\": 1, \"73\": 1, \"40\": 1, \"17\": 1, \"28\": 1, \"20\": 1, \"32\": 2, \"57\": 1, \"124\": 1, \"19\": 2}, \"123\": {\"123\": 6, \"67\": 3, \"80\": 1, \"48\": 1, \"77\": 2, \"121\": 1, \"37\": 1, \"63\": 1}, \"8\": {\"97\": 2, \"8\": 57, \"94\": 9, \"110\": 5, \"101\": 1, \"118\": 4, \"30\": 5, \"0\": 8, \"11\": 6, \"106\": 3, \"7\": 5, \"15\": 9, \"93\": 5, \"10\": 2, \"108\": 4, \"109\": 1, \"122\": 2, \"36\": 2}, \"110\": {\"110\": 28, \"8\": 4, \"88\": 1, \"118\": 5, \"93\": 13, \"122\": 2, \"78\": 1, \"30\": 4, \"87\": 6, \"99\": 1, \"98\": 1, \"39\": 2, \"7\": 5, \"126\": 2, \"108\": 1, \"113\": 4, \"27\": 2, \"15\": 4, \"2\": 1, \"84\": 1, \"24\": 1, \"62\": 1}, \"126\": {\"126\": 37, \"43\": 3, \"87\": 7, \"27\": 4, \"109\": 10, \"88\": 3, \"10\": 14, \"111\": 1, \"36\": 4, \"30\": 1, \"11\": 5, \"118\": 1, \"108\": 7, \"24\": 2, \"94\": 1, \"110\": 1, \"8\": 1, \"39\": 1, \"113\": 1}, \"42\": {\"42\": 15, \"64\": 2, \"77\": 2, \"103\": 1, \"54\": 1, \"91\": 1, \"20\": 1, \"90\": 2, \"120\": 3}, \"96\": {\"113\": 2, \"96\": 7, \"30\": 1, \"16\": 1, \"108\": 1, \"43\": 1, \"122\": 2, \"118\": 1, \"126\": 1, \"101\": 1, \"110\": 1, \"93\": 1}, \"83\": {\"54\": 2, \"65\": 1, \"83\": 16, \"47\": 2, \"72\": 1, \"31\": 1, \"51\": 1}, \"54\": {\"54\": 13, \"90\": 1, \"34\": 2}, \"65\": {\"42\": 2, \"48\": 1, \"61\": 1, \"65\": 1, \"92\": 1, \"55\": 1, \"29\": 1, \"35\": 1, \"103\": 1, \"64\": 1, \"115\": 1}, \"30\": {\"113\": 3, \"30\": 46, \"36\": 3, \"11\": 6, \"0\": 8, \"122\": 2, \"70\": 1, \"117\": 1, \"27\": 2, \"15\": 1, \"10\": 1, \"108\": 1, \"126\": 2, \"109\": 3, \"43\": 1, \"39\": 1, \"118\": 1, \"8\": 1}, \"121\": {\"83\": 2, \"68\": 1, \"11\": 3, \"29\": 1, \"90\": 1, \"128\": 1, \"5\": 1, \"21\": 1, \"32\": 1, \"85\": 3, \"121\": 6, \"117\": 1, \"19\": 1, \"65\": 1, \"52\": 1, \"129\": 1, \"41\": 1, \"6\": 1, \"109\": 1, \"57\": 1, \"73\": 1, \"95\": 1}, \"68\": {\"48\": 3, \"80\": 2, \"68\": 9, \"111\": 1, \"51\": 1}, \"45\": {\"48\": 1, \"65\": 1, \"119\": 1, \"45\": 8, \"129\": 3, \"63\": 1, \"83\": 1}, \"48\": {\"48\": 8, \"45\": 1, \"117\": 1, \"104\": 2, \"79\": 2, \"5\": 1, \"80\": 1}, \"4\": {\"4\": 69, \"59\": 2, \"91\": 1, \"125\": 4, \"111\": 6, \"90\": 2, \"70\": 1, \"124\": 3, \"102\": 4, \"63\": 1, \"11\": 1, \"117\": 2}, \"67\": {\"67\": 13, \"123\": 1, \"50\": 1, \"129\": 1}, \"103\": {\"65\": 1, \"61\": 1, \"32\": 2, \"103\": 5, \"58\": 1, \"86\": 1, \"85\": 1, \"38\": 2, \"5\": 1, \"37\": 1}, \"74\": {\"74\": 16}, \"1\": {\"14\": 1, \"1\": 59, \"44\": 1, \"3\": 2, \"40\": 7, \"105\": 9, \"127\": 1, \"114\": 15, \"36\": 1, \"71\": 3, \"7\": 1, \"27\": 2, \"99\": 1, \"33\": 3, \"84\": 1, \"98\": 1}, \"61\": {\"81\": 2, \"61\": 9, \"32\": 2, \"46\": 2, \"25\": 1}, \"101\": {\"101\": 34, \"60\": 2, \"93\": 2, \"23\": 2, \"70\": 1, \"15\": 1, \"94\": 1, \"3\": 1, \"71\": 2, \"12\": 2, \"7\": 3, \"113\": 1}, \"93\": {\"101\": 2, \"96\": 1, \"93\": 69, \"118\": 3, \"97\": 2, \"16\": 12, \"113\": 3, \"12\": 1, \"15\": 2, \"110\": 7, \"71\": 1, \"106\": 3, \"7\": 5, \"8\": 6, \"84\": 2, \"94\": 3, \"62\": 2, \"87\": 8, \"11\": 1, \"99\": 1, \"36\": 1, \"109\": 1, \"40\": 1, \"0\": 1}, \"26\": {\"26\": 74, \"12\": 1, \"69\": 5, \"127\": 6, \"44\": 2, \"62\": 3, \"84\": 3, \"3\": 6, \"18\": 15, \"14\": 2, \"126\": 1, \"40\": 1, \"8\": 1, \"71\": 3, \"93\": 1, \"33\": 3, \"1\": 1, \"16\": 1, \"106\": 1}, \"71\": {\"14\": 5, \"71\": 44, \"127\": 11, \"108\": 1, \"3\": 3, \"105\": 1, \"75\": 1, \"110\": 1, \"1\": 1}, \"15\": {\"126\": 1, \"15\": 68, \"43\": 1, \"101\": 2, \"97\": 1, \"12\": 5, \"106\": 3, \"87\": 3, \"39\": 1, \"8\": 8, \"118\": 2, \"30\": 1, \"113\": 1, \"36\": 1, \"49\": 1, \"94\": 2, \"70\": 1, \"109\": 1, \"110\": 1}, \"55\": {\"117\": 2, \"64\": 1, \"55\": 8, \"85\": 1, \"66\": 1, \"121\": 1, \"53\": 2}, \"104\": {\"102\": 1, \"104\": 8, \"5\": 2, \"52\": 1, \"22\": 1, \"123\": 2, \"124\": 1}, \"112\": {\"46\": 1, \"57\": 1, \"112\": 8, \"42\": 1, \"58\": 1, \"27\": 1, \"92\": 1, \"76\": 1, \"80\": 1}, \"102\": {\"102\": 85, \"119\": 3, \"129\": 1, \"125\": 4, \"111\": 10, \"124\": 9, \"90\": 1, \"115\": 4, \"67\": 2, \"86\": 1, \"117\": 2}, \"117\": {\"117\": 71, \"48\": 1, \"67\": 1, \"61\": 3, \"5\": 5, \"42\": 1, \"85\": 1, \"91\": 1, \"82\": 3, \"32\": 1, \"124\": 2, \"125\": 3, \"111\": 9, \"90\": 3, \"121\": 2, \"6\": 1, \"55\": 1, \"2\": 1, \"120\": 1, \"102\": 1}, \"119\": {\"102\": 1, \"104\": 1, \"119\": 8, \"45\": 1, \"129\": 2, \"55\": 1, \"79\": 1, \"13\": 1}, \"20\": {\"92\": 1, \"65\": 1, \"60\": 1, \"42\": 1, \"9\": 3, \"72\": 2, \"20\": 5, \"35\": 1, \"83\": 1}, \"120\": {\"64\": 1, \"92\": 2, \"35\": 1, \"119\": 1, \"41\": 2, \"120\": 8, \"29\": 1, \"75\": 1, \"59\": 1, \"90\": 1, \"42\": 1}, \"39\": {\"39\": 55, \"43\": 4, \"88\": 4, \"70\": 9, \"21\": 3, \"10\": 5, \"11\": 5, \"109\": 5, \"126\": 3, \"27\": 3, \"108\": 5, \"24\": 3, \"36\": 3, \"118\": 1}, \"49\": {\"49\": 15, \"7\": 2, \"8\": 2, \"93\": 1, \"106\": 3, \"12\": 1}, \"53\": {\"53\": 11, \"9\": 2, \"121\": 2, \"114\": 1, \"58\": 1, \"128\": 1, \"81\": 2}, \"92\": {\"114\": 3, \"39\": 1, \"85\": 3, \"128\": 1, \"52\": 1, \"92\": 11, \"34\": 1, \"84\": 1, \"71\": 1, \"127\": 2, \"107\": 1, \"74\": 1, \"64\": 1, \"95\": 2, \"57\": 1, \"42\": 1}, \"3\": {\"3\": 86, \"72\": 1, \"75\": 1, \"127\": 9, \"93\": 1, \"44\": 1, \"84\": 4, \"1\": 3, \"60\": 1, \"71\": 1, \"106\": 1, \"8\": 1, \"40\": 1, \"62\": 1, \"98\": 1, \"18\": 1, \"12\": 1, \"105\": 1}, \"47\": {\"34\": 1, \"15\": 1, \"47\": 6, \"90\": 2, \"25\": 2}, \"115\": {\"115\": 8, \"90\": 2, \"102\": 3, \"125\": 1, \"129\": 2}, \"58\": {\"58\": 7, \"76\": 1, \"31\": 1, \"19\": 1, \"103\": 1, \"86\": 1, \"55\": 1, \"28\": 1, \"128\": 1, \"92\": 1}, \"29\": {\"29\": 7, \"42\": 2, \"53\": 1, \"31\": 1, \"95\": 2, \"81\": 1, \"73\": 1, \"6\": 2, \"92\": 2, \"128\": 2, \"58\": 1, \"32\": 3, \"116\": 1, \"77\": 1, \"74\": 1, \"5\": 1, \"90\": 2, \"19\": 1}, \"12\": {\"15\": 2, \"12\": 70, \"7\": 3, \"60\": 1, \"62\": 1, \"106\": 10, \"16\": 4, \"93\": 2, \"110\": 3, \"23\": 2, \"3\": 2, \"97\": 2, \"49\": 1, \"0\": 1}, \"62\": {\"62\": 87, \"12\": 2, \"93\": 1, \"127\": 3, \"26\": 4, \"5\": 1, \"84\": 8, \"18\": 5, \"8\": 3, \"71\": 1, \"16\": 1, \"33\": 1, \"108\": 1}, \"11\": {\"11\": 43, \"108\": 13, \"36\": 7, \"96\": 1, \"70\": 1, \"30\": 9, \"0\": 6, \"110\": 3, \"109\": 8, \"8\": 5, \"39\": 3, \"118\": 8, \"94\": 1, \"113\": 6, \"126\": 8, \"10\": 3, \"87\": 8, \"43\": 4, \"27\": 2, \"15\": 1}, \"72\": {\"98\": 1, \"72\": 11, \"114\": 2, \"9\": 2, \"105\": 1, \"99\": 1, \"103\": 1, \"25\": 1, \"49\": 1, \"53\": 1, \"31\": 1, \"34\": 1, \"44\": 2, \"3\": 1, \"81\": 1}, \"98\": {\"98\": 94, \"99\": 2, \"34\": 2, \"3\": 1, \"90\": 1, \"83\": 1, \"44\": 1, \"93\": 2, \"1\": 1, \"107\": 1}, \"122\": {\"122\": 21, \"15\": 1, \"43\": 3, \"36\": 3, \"0\": 3, \"108\": 3, \"39\": 1, \"113\": 3, \"118\": 3, \"8\": 6, \"110\": 1, \"11\": 2, \"70\": 1, \"24\": 1, \"16\": 2, \"94\": 2, \"96\": 1, \"42\": 1, \"30\": 1, \"21\": 1}, \"17\": {\"11\": 1, \"115\": 1, \"51\": 1, \"17\": 3, \"118\": 2, \"63\": 1, \"126\": 1, \"104\": 3, \"102\": 1, \"31\": 1, \"119\": 1}, \"94\": {\"94\": 60, \"8\": 7, \"15\": 4, \"30\": 1, \"93\": 4, \"101\": 3, \"49\": 1, \"0\": 2, \"126\": 1, \"106\": 1}, \"106\": {\"3\": 2, \"106\": 51, \"101\": 1, \"16\": 2, \"93\": 2, \"88\": 2, \"7\": 4, \"30\": 1, \"23\": 2, \"12\": 4, \"84\": 4, \"127\": 5, \"62\": 2, \"1\": 1, \"49\": 1, \"15\": 3, \"94\": 1, \"8\": 1, \"11\": 1}, \"28\": {\"59\": 1, \"106\": 1, \"28\": 7, \"64\": 2, \"34\": 1, \"22\": 1, \"85\": 1, \"29\": 2}, \"69\": {\"69\": 55, \"88\": 1, \"1\": 4, \"40\": 2, \"27\": 3, \"114\": 3, \"93\": 1, \"53\": 1, \"14\": 1, \"33\": 7, \"71\": 1, \"11\": 1, \"70\": 1, \"15\": 1, \"18\": 2}, \"125\": {\"125\": 92, \"124\": 8, \"102\": 3, \"111\": 6, \"98\": 1, \"116\": 2, \"5\": 2}, \"19\": {\"74\": 2, \"19\": 12, \"25\": 1, \"52\": 1, \"42\": 1, \"95\": 3, \"40\": 1, \"121\": 1, \"128\": 1, \"110\": 1, \"53\": 1, \"34\": 1, \"44\": 1, \"32\": 1, \"28\": 1, \"92\": 1, \"29\": 1, \"107\": 1}, \"41\": {\"41\": 3, \"19\": 1, \"37\": 2, \"52\": 1, \"29\": 1, \"42\": 1, \"85\": 1, \"76\": 1, \"128\": 1, \"6\": 1, \"77\": 1, \"59\": 1, \"129\": 1}, \"60\": {\"60\": 18, \"101\": 1, \"93\": 2, \"27\": 1, \"97\": 3, \"106\": 1, \"96\": 1, \"15\": 1}, \"70\": {\"43\": 1, \"70\": 52, \"24\": 2, \"88\": 6, \"78\": 4, \"109\": 2, \"39\": 3, \"27\": 1, \"10\": 1}, \"27\": {\"108\": 11, \"27\": 54, \"36\": 3, \"87\": 1, \"43\": 1, \"126\": 1, \"70\": 4, \"24\": 2, \"109\": 4, \"11\": 2, \"10\": 9, \"39\": 2, \"6\": 1, \"30\": 1}, \"10\": {\"27\": 5, \"126\": 9, \"10\": 53, \"11\": 5, \"36\": 8, \"24\": 6, \"109\": 11, \"70\": 4, \"30\": 3, \"39\": 4, \"108\": 5, \"87\": 2, \"43\": 1, \"0\": 2}, \"108\": {\"10\": 16, \"108\": 61, \"27\": 4, \"11\": 12, \"39\": 3, \"70\": 2, \"36\": 17, \"109\": 6, \"110\": 2, \"0\": 3, \"87\": 6, \"126\": 3, \"24\": 2, \"21\": 1, \"43\": 1, \"118\": 1}, \"9\": {\"9\": 18, \"74\": 1, \"57\": 1, \"32\": 2, \"60\": 1, \"53\": 4, \"44\": 1, \"107\": 1, \"100\": 2, \"98\": 1}, \"25\": {\"25\": 12, \"47\": 1, \"39\": 1, \"54\": 1, \"66\": 1}, \"37\": {\"37\": 15, \"28\": 1}, \"0\": {\"0\": 82, \"108\": 5, \"94\": 6, \"30\": 2, \"10\": 2, \"8\": 3, \"87\": 4, \"118\": 1, \"11\": 3, \"109\": 1, \"110\": 3, \"113\": 2, \"36\": 2}, \"66\": {\"25\": 1, \"129\": 1, \"85\": 3, \"66\": 3, \"91\": 1, \"128\": 1, \"64\": 2, \"77\": 1, \"6\": 1, \"123\": 1, \"76\": 1}, \"51\": {\"51\": 13, \"99\": 2, \"54\": 1}, \"76\": {\"61\": 1, \"64\": 1, \"76\": 1, \"12\": 1, \"37\": 1, \"41\": 1, \"75\": 1, \"120\": 1, \"103\": 2, \"128\": 3, \"73\": 1, \"94\": 1, \"83\": 1}, \"32\": {\"32\": 13, \"64\": 2, \"90\": 1, \"9\": 1, \"81\": 2, \"107\": 3, \"34\": 2, \"55\": 1, \"65\": 1, \"53\": 1, \"52\": 1, \"100\": 1, \"103\": 1, \"33\": 1, \"105\": 1}, \"88\": {\"88\": 112}, \"31\": {\"31\": 11, \"44\": 1, \"99\": 1, \"75\": 4, \"29\": 1, \"103\": 1, \"12\": 1}, \"91\": {\"91\": 9, \"66\": 1, \"103\": 1, \"6\": 3, \"92\": 1, \"73\": 1, \"124\": 2, \"65\": 1, \"52\": 2, \"38\": 1, \"121\": 1, \"111\": 1}, \"90\": {\"76\": 1, \"128\": 1, \"90\": 94, \"107\": 4, \"53\": 1, \"72\": 1, \"29\": 1, \"105\": 1, \"1\": 3, \"114\": 3, \"40\": 3, \"111\": 2, \"33\": 1, \"124\": 2, \"98\": 4, \"6\": 1, \"9\": 1, \"74\": 1, \"120\": 1}, \"13\": {\"13\": 5, \"66\": 1, \"48\": 1, \"126\": 1, \"85\": 1, \"124\": 1, \"79\": 1, \"94\": 1, \"102\": 1, \"38\": 1, \"111\": 1, \"115\": 1}, \"50\": {\"50\": 10, \"117\": 1, \"82\": 1, \"100\": 1, \"124\": 1, \"116\": 1, \"103\": 1}, \"78\": {\"78\": 11, \"21\": 1, \"10\": 1, \"70\": 2, \"11\": 1}, \"116\": {\"116\": 8, \"37\": 1, \"111\": 2, \"85\": 1, \"82\": 2, \"81\": 1, \"90\": 1, \"5\": 1, \"125\": 4, \"91\": 1, \"104\": 1, \"29\": 1, \"86\": 1, \"2\": 2, \"117\": 1}, \"5\": {\"5\": 91, \"124\": 2, \"129\": 3, \"117\": 6, \"90\": 3, \"70\": 2, \"85\": 1, \"116\": 2, \"53\": 1, \"2\": 1}, \"75\": {\"75\": 15, \"99\": 1}, \"89\": {\"38\": 1, \"89\": 12, \"5\": 3, \"102\": 1, \"32\": 1, \"77\": 1, \"50\": 1, \"73\": 1, \"82\": 1, \"115\": 1, \"55\": 2, \"116\": 2, \"29\": 1}, \"16\": {\"25\": 2, \"16\": 50, \"12\": 4, \"106\": 2, \"14\": 2, \"23\": 4, \"26\": 7, \"15\": 1, \"62\": 5, \"84\": 10, \"39\": 1, \"69\": 1, \"7\": 6, \"18\": 2, \"93\": 8, \"27\": 1, \"127\": 1, \"94\": 1, \"8\": 5, \"110\": 1, \"101\": 1, \"113\": 1}, \"38\": {\"38\": 14, \"53\": 1, \"76\": 1}, \"118\": {\"110\": 7, \"97\": 1, \"118\": 38, \"0\": 2, \"122\": 3, \"8\": 4, \"24\": 1, \"113\": 11, \"109\": 3, \"30\": 2, \"39\": 1, \"36\": 3, \"7\": 1, \"70\": 1, \"94\": 1, \"87\": 3, \"11\": 4, \"93\": 4, \"27\": 3, \"101\": 2, \"43\": 2, \"62\": 1, \"15\": 1, \"10\": 1}, \"99\": {\"31\": 3, \"99\": 21, \"95\": 1, \"98\": 1, \"106\": 1, \"60\": 1, \"34\": 1, \"114\": 2, \"75\": 2, \"14\": 1, \"105\": 1, \"23\": 1}, \"52\": {\"52\": 6, \"55\": 1, \"124\": 1, \"38\": 1, \"14\": 1, \"128\": 1, \"25\": 1, \"103\": 1, \"35\": 1, \"85\": 1, \"111\": 1}, \"111\": {\"111\": 107, \"116\": 2, \"124\": 9, \"5\": 5, \"90\": 1, \"98\": 1, \"68\": 2, \"48\": 1}, \"23\": {\"33\": 1, \"97\": 1, \"109\": 1, \"23\": 8, \"71\": 1, \"8\": 1, \"127\": 2, \"16\": 4, \"122\": 2, \"12\": 2, \"118\": 1, \"15\": 2, \"11\": 1, \"87\": 1, \"94\": 1, \"26\": 1, \"62\": 1, \"84\": 1}, \"73\": {\"73\": 23, \"32\": 1, \"53\": 1, \"5\": 2, \"38\": 1, \"124\": 1, \"92\": 1, \"29\": 1, \"6\": 1, \"66\": 1, \"114\": 1, \"85\": 1, \"57\": 2, \"112\": 1, \"121\": 2}, \"82\": {\"42\": 1, \"82\": 21, \"24\": 1, \"121\": 1, \"89\": 2, \"85\": 1, \"122\": 1}, \"40\": {\"40\": 56, \"112\": 1, \"9\": 1, \"99\": 3, \"33\": 11, \"34\": 1, \"3\": 2, \"114\": 11, \"44\": 3, \"26\": 3, \"106\": 2, \"105\": 8, \"1\": 14, \"15\": 1, \"62\": 2, \"88\": 2, \"17\": 1, \"51\": 1, \"14\": 1, \"49\": 1, \"72\": 1, \"98\": 1, \"107\": 1}, \"6\": {\"91\": 2, \"42\": 1, \"6\": 19, \"90\": 2, \"73\": 1, \"125\": 2, \"124\": 1, \"64\": 1, \"58\": 1, \"32\": 1, \"2\": 1}}, \"W_4\": {\"28\": {\"90\": 1, \"28\": 11, \"103\": 1, \"117\": 2, \"6\": 1, \"61\": 1, \"86\": 1, \"91\": 2}, \"4\": {\"4\": 78, \"10\": 1, \"91\": 2, \"37\": 1, \"80\": 2, \"17\": 4, \"65\": 1, \"125\": 2, \"52\": 1, \"124\": 3, \"24\": 2, \"102\": 3, \"86\": 1, \"66\": 1, \"90\": 1, \"111\": 1}, \"72\": {\"12\": 2, \"72\": 13, \"106\": 1, \"47\": 1, \"105\": 1, \"94\": 1, \"44\": 1, \"34\": 2, \"8\": 1, \"3\": 3, \"35\": 1, \"127\": 1, \"96\": 1, \"55\": 1, \"89\": 1, \"99\": 1}, \"111\": {\"2\": 2, \"111\": 96, \"63\": 1, \"82\": 3, \"129\": 1, \"102\": 2, \"124\": 16, \"10\": 2, \"117\": 4, \"98\": 1, \"105\": 2, \"58\": 1, \"54\": 1, \"89\": 1, \"126\": 1, \"0\": 1, \"90\": 1}, \"108\": {\"43\": 5, \"108\": 39, \"97\": 1, \"109\": 10, \"126\": 5, \"78\": 1, \"36\": 3, \"39\": 5, \"24\": 4, \"88\": 2, \"27\": 3, \"10\": 5, \"94\": 1, \"98\": 1, \"87\": 1, \"110\": 1, \"70\": 4, \"11\": 1}, \"43\": {\"43\": 51, \"108\": 6, \"30\": 4, \"109\": 8, \"27\": 4, \"87\": 9, \"36\": 12, \"122\": 4, \"24\": 2, \"70\": 2, \"110\": 5, \"113\": 4, \"39\": 1, \"0\": 2, \"15\": 1, \"8\": 1, \"126\": 2, \"127\": 1, \"88\": 1}, \"96\": {\"12\": 1, \"96\": 2, \"14\": 2, \"98\": 3, \"3\": 2, \"110\": 2, \"60\": 2, \"94\": 1, \"1\": 1, \"71\": 1, \"127\": 1, \"72\": 1, \"7\": 1}, \"89\": {\"90\": 5, \"89\": 10, \"112\": 1, \"74\": 1, \"107\": 3, \"44\": 1, \"7\": 2, \"78\": 1, \"114\": 1, \"52\": 1, \"19\": 1, \"9\": 1, \"40\": 1, \"27\": 1, \"42\": 1, \"32\": 1}, \"31\": {\"45\": 1, \"90\": 1, \"31\": 7, \"2\": 1, \"19\": 1, \"56\": 1, \"46\": 1, \"99\": 1, \"98\": 1, \"73\": 1}, \"45\": {\"45\": 6, \"2\": 1, \"120\": 4, \"111\": 1, \"64\": 2, \"55\": 1, \"32\": 1}, \"2\": {\"90\": 1, \"45\": 1, \"2\": 8, \"86\": 1, \"63\": 2, \"48\": 1, \"42\": 1, \"61\": 2, \"44\": 2, \"41\": 1, \"50\": 1, \"73\": 1, \"28\": 2, \"91\": 1, \"92\": 1, \"107\": 2}, \"114\": {\"72\": 1, \"108\": 1, \"114\": 72, \"7\": 1, \"98\": 2, \"5\": 12, \"84\": 3, \"95\": 2, \"89\": 1, \"107\": 4, \"71\": 5, \"3\": 4, \"1\": 5, \"90\": 1, \"52\": 1, \"100\": 1, \"81\": 1, \"40\": 8, \"88\": 1, \"94\": 1, \"106\": 1}, \"11\": {\"12\": 1, \"11\": 47, \"3\": 2, \"24\": 1, \"122\": 3, \"108\": 1, \"101\": 10, \"0\": 4, \"118\": 13, \"94\": 2, \"93\": 8, \"7\": 4, \"87\": 6, \"30\": 2, \"110\": 7, \"62\": 2, \"8\": 6, \"15\": 5, \"16\": 2, \"84\": 1, \"36\": 1, \"126\": 1, \"113\": 4, \"106\": 2, \"27\": 1}, \"12\": {\"96\": 3, \"3\": 3, \"11\": 2, \"12\": 70, \"72\": 1, \"98\": 1, \"88\": 1, \"105\": 1, \"93\": 2, \"127\": 1, \"106\": 5, \"8\": 1, \"22\": 1, \"15\": 1, \"122\": 1, \"94\": 1, \"16\": 2, \"7\": 1, \"87\": 1, \"101\": 1}, \"14\": {\"14\": 47, \"72\": 4, \"18\": 6, \"39\": 1, \"127\": 9, \"106\": 2, \"1\": 2, \"26\": 13, \"84\": 3, \"93\": 1, \"44\": 1, \"109\": 1, \"105\": 3, \"71\": 7, \"3\": 4, \"69\": 2, \"47\": 1, \"49\": 1, \"99\": 1, \"113\": 1, \"11\": 1, \"12\": 1}, \"90\": {\"90\": 112, \"114\": 1, \"120\": 1, \"77\": 1, \"42\": 3, \"29\": 3, \"41\": 1, \"85\": 1, \"33\": 2, \"117\": 3, \"49\": 1, \"98\": 3, \"125\": 1, \"111\": 4, \"5\": 4, \"124\": 4, \"105\": 1, \"40\": 1, \"68\": 2, \"66\": 1, \"19\": 1, \"82\": 1, \"28\": 1, \"3\": 1}, \"10\": {\"10\": 76, \"21\": 3, \"70\": 9, \"24\": 10, \"78\": 2, \"36\": 3, \"27\": 1, \"108\": 4, \"88\": 13, \"3\": 1}, \"63\": {\"4\": 1, \"63\": 7, \"111\": 2, \"57\": 1, \"2\": 1, \"104\": 2, \"129\": 2}, \"85\": {\"85\": 18, \"60\": 1, \"51\": 1, \"89\": 1, \"25\": 1, \"75\": 3, \"9\": 1, \"78\": 1, \"98\": 1}, \"64\": {\"64\": 5, \"82\": 1, \"67\": 1, \"11\": 1, \"13\": 1, \"116\": 1, \"45\": 1, \"55\": 1, \"126\": 1, \"57\": 2, \"117\": 1}, \"82\": {\"3\": 1, \"58\": 1, \"107\": 4, \"61\": 1, \"74\": 1, \"82\": 8, \"84\": 1, \"6\": 1, \"43\": 1, \"44\": 1, \"35\": 2, \"31\": 1, \"120\": 1, \"121\": 1, \"33\": 2, \"19\": 2, \"129\": 1, \"128\": 2}, \"58\": {\"58\": 7, \"91\": 1, \"70\": 1, \"59\": 1, \"90\": 1, \"73\": 1, \"6\": 1, \"29\": 2, \"32\": 1}, \"3\": {\"3\": 66, \"85\": 1, \"94\": 1, \"40\": 3, \"21\": 2, \"71\": 10, \"44\": 3, \"52\": 1, \"81\": 1, \"98\": 1, \"69\": 3, \"84\": 5, \"99\": 1, \"62\": 1, \"106\": 2, \"5\": 2, \"105\": 9, \"127\": 9, \"16\": 3, \"20\": 1, \"96\": 1, \"72\": 2, \"88\": 2, \"49\": 1, \"11\": 1, \"14\": 3, \"114\": 1}, \"54\": {\"85\": 2, \"54\": 9, \"79\": 1, \"47\": 1, \"116\": 1, \"8\": 1, \"125\": 1}, \"121\": {\"64\": 1, \"85\": 2, \"19\": 3, \"121\": 15, \"75\": 1, \"61\": 1, \"98\": 1, \"28\": 2, \"112\": 2, \"90\": 3, \"45\": 1}, \"42\": {\"82\": 2, \"42\": 15, \"90\": 2, \"50\": 1, \"29\": 1, \"48\": 2, \"22\": 1, \"89\": 1, \"73\": 2, \"28\": 1}, \"98\": {\"98\": 90, \"85\": 3, \"75\": 1, \"121\": 3, \"52\": 2, \"8\": 1, \"90\": 1, \"5\": 4, \"69\": 1, \"40\": 1, \"126\": 1, \"61\": 1, \"3\": 1, \"100\": 1, \"9\": 3, \"19\": 1, \"82\": 1, \"128\": 1, \"106\": 1, \"107\": 2}, \"123\": {\"123\": 10, \"91\": 2, \"111\": 2, \"13\": 1, \"59\": 1}, \"91\": {\"91\": 17, \"68\": 1, \"116\": 1, \"2\": 2, \"6\": 1, \"99\": 1, \"66\": 1}, \"83\": {\"20\": 2, \"36\": 1, \"100\": 1, \"38\": 2, \"71\": 2, \"83\": 7, \"99\": 1, \"1\": 3, \"103\": 1, \"3\": 1, \"43\": 1, \"9\": 1, \"49\": 2, \"85\": 1, \"70\": 1, \"107\": 1}, \"99\": {\"60\": 2, \"99\": 19, \"51\": 1, \"83\": 1, \"74\": 1, \"89\": 1, \"72\": 2, \"34\": 4, \"49\": 3, \"105\": 1, \"3\": 1, \"73\": 1, \"20\": 1, \"14\": 2}, \"112\": {\"20\": 1, \"58\": 1, \"38\": 2, \"112\": 8, \"73\": 1, \"56\": 1, \"19\": 2}, \"119\": {\"112\": 2, \"119\": 6, \"6\": 1, \"117\": 1, \"66\": 1, \"42\": 1, \"29\": 2, \"2\": 1, \"116\": 1}, \"70\": {\"27\": 7, \"39\": 8, \"11\": 1, \"10\": 13, \"21\": 2, \"70\": 46, \"126\": 5, \"88\": 7, \"24\": 12, \"108\": 10, \"113\": 1, \"114\": 1, \"109\": 7, \"29\": 1, \"7\": 1, \"0\": 2}, \"20\": {\"83\": 2, \"5\": 1, \"20\": 7, \"84\": 1, \"23\": 1, \"99\": 1, \"36\": 1, \"92\": 1, \"3\": 1}, \"120\": {\"120\": 10, \"45\": 1, \"111\": 1, \"68\": 1, \"89\": 2, \"129\": 2, \"31\": 1, \"55\": 1, \"103\": 1}, \"7\": {\"7\": 39, \"106\": 5, \"72\": 1, \"8\": 7, \"113\": 3, \"12\": 4, \"118\": 4, \"15\": 2, \"101\": 10, \"43\": 4, \"93\": 4, \"71\": 1, \"0\": 5, \"39\": 1, \"87\": 4, \"16\": 2, \"110\": 2, \"122\": 2, \"94\": 3, \"62\": 4, \"108\": 1, \"109\": 2, \"11\": 9, \"60\": 1, \"78\": 1, \"14\": 1, \"30\": 2}, \"60\": {\"60\": 17, \"113\": 1, \"23\": 1, \"106\": 2, \"3\": 2, \"10\": 2, \"16\": 1, \"72\": 1, \"49\": 1, \"94\": 1, \"15\": 1, \"12\": 1, \"96\": 1}, \"113\": {\"7\": 1, \"113\": 51, \"8\": 6, \"62\": 1, \"97\": 1, \"101\": 3, \"30\": 2, \"87\": 7, \"93\": 6, \"39\": 1, \"60\": 1, \"0\": 2, \"15\": 5, \"110\": 6, \"43\": 3, \"11\": 4, \"118\": 6, \"109\": 2, \"24\": 3, \"126\": 2, \"27\": 2, \"122\": 1, \"94\": 1, \"16\": 1}, \"37\": {\"37\": 9, \"79\": 3, \"11\": 1, \"109\": 1, \"48\": 2}, \"124\": {\"37\": 2, \"124\": 54, \"48\": 1, \"116\": 2, \"102\": 12, \"111\": 18, \"90\": 8, \"3\": 1, \"125\": 6, \"117\": 2, \"120\": 1, \"41\": 1, \"17\": 1, \"68\": 1}, \"27\": {\"113\": 1, \"27\": 46, \"109\": 5, \"36\": 10, \"39\": 3, \"43\": 9, \"87\": 4, \"126\": 5, \"10\": 3, \"122\": 3, \"30\": 4, \"24\": 2, \"88\": 1, \"110\": 1, \"15\": 2, \"70\": 1}, \"86\": {\"116\": 4, \"86\": 11, \"80\": 1, \"37\": 2, \"29\": 1, \"123\": 2, \"104\": 1, \"124\": 1, \"50\": 1, \"48\": 1, \"6\": 1, \"66\": 1, \"17\": 1}, \"127\": {\"127\": 69, \"3\": 7, \"71\": 6, \"88\": 3, \"10\": 1, \"8\": 1, \"1\": 2, \"44\": 2, \"14\": 6, \"24\": 1, \"11\": 1, \"39\": 1, \"49\": 1, \"108\": 1, \"114\": 2, \"105\": 2, \"5\": 2}, \"62\": {\"62\": 28, \"71\": 1, \"10\": 1, \"101\": 4, \"110\": 5, \"88\": 1, \"118\": 3, \"84\": 1, \"16\": 6, \"39\": 1, \"93\": 1, \"15\": 1, \"108\": 1, \"109\": 1, \"26\": 2, \"8\": 1, \"127\": 1, \"14\": 1}, \"122\": {\"51\": 1, \"10\": 1, \"118\": 3, \"106\": 2, \"23\": 1, \"15\": 4, \"122\": 19, \"109\": 2, \"87\": 5, \"60\": 1, \"113\": 4, \"0\": 3, \"93\": 3, \"108\": 1, \"8\": 7, \"94\": 5, \"7\": 2, \"36\": 2, \"11\": 4, \"110\": 6, \"43\": 1, \"117\": 1, \"88\": 1, \"101\": 2, \"27\": 2, \"126\": 1}, \"51\": {\"106\": 2, \"74\": 1, \"30\": 1, \"21\": 1, \"60\": 1, \"76\": 1, \"44\": 1, \"83\": 1, \"71\": 1, \"51\": 1, \"97\": 1, \"62\": 1, \"35\": 1, \"20\": 1, \"24\": 1}, \"109\": {\"109\": 50, \"39\": 4, \"0\": 3, \"126\": 13, \"122\": 3, \"10\": 1, \"30\": 5, \"43\": 5, \"27\": 4, \"36\": 4, \"88\": 1, \"70\": 3, \"24\": 5, \"78\": 1, \"94\": 1, \"7\": 1, \"110\": 4, \"97\": 2, \"108\": 2, \"8\": 1, \"113\": 1}, \"106\": {\"106\": 52, \"51\": 1, \"20\": 1, \"39\": 1, \"118\": 1, \"12\": 10, \"14\": 4, \"7\": 2, \"0\": 3, \"122\": 1, \"93\": 2, \"3\": 2, \"88\": 3, \"84\": 4, \"101\": 4, \"127\": 5, \"8\": 1, \"16\": 3, \"109\": 1, \"94\": 1, \"60\": 2, \"62\": 2, \"78\": 2, \"71\": 2, \"105\": 1, \"87\": 1, \"24\": 1, \"15\": 1}, \"94\": {\"51\": 1, \"94\": 50, \"87\": 4, \"15\": 10, \"30\": 4, \"93\": 4, \"36\": 3, \"8\": 1, \"11\": 1, \"43\": 2, \"7\": 3, \"0\": 2, \"113\": 1, \"101\": 2}, \"38\": {\"89\": 3, \"40\": 1, \"3\": 2, \"112\": 1, \"38\": 6, \"41\": 1, \"128\": 2}, \"129\": {\"129\": 16, \"116\": 1, \"59\": 1, \"6\": 2, \"102\": 1, \"90\": 2, \"29\": 1, \"50\": 1, \"124\": 1, \"45\": 1, \"55\": 1}, \"116\": {\"86\": 2, \"116\": 13, \"67\": 3, \"48\": 1, \"80\": 1, \"73\": 1, \"120\": 1, \"57\": 2, \"66\": 1, \"123\": 1, \"129\": 1, \"63\": 1}, \"107\": {\"107\": 78, \"9\": 1, \"89\": 3, \"46\": 2, \"33\": 17, \"121\": 1, \"105\": 1, \"44\": 1, \"98\": 3, \"1\": 1, \"69\": 2, \"40\": 2, \"90\": 1, \"128\": 1, \"81\": 1, \"114\": 2, \"11\": 1}, \"30\": {\"101\": 1, \"30\": 49, \"87\": 5, \"36\": 7, \"24\": 2, \"0\": 1, \"27\": 3, \"8\": 2, \"109\": 2, \"94\": 1, \"43\": 1, \"21\": 1, \"113\": 1}, \"102\": {\"102\": 107, \"80\": 1, \"129\": 2, \"124\": 6, \"125\": 3, \"98\": 2, \"90\": 3, \"37\": 1, \"123\": 2, \"101\": 1, \"17\": 1, \"111\": 1, \"117\": 2}, \"74\": {\"85\": 1, \"74\": 3, \"32\": 1, \"82\": 3, \"89\": 4, \"95\": 2, \"19\": 2}, \"101\": {\"101\": 62, \"118\": 5, \"15\": 6, \"110\": 5, \"7\": 10, \"93\": 12, \"113\": 4, \"30\": 1, \"87\": 3, \"11\": 10, \"122\": 1, \"106\": 3, \"24\": 1, \"0\": 3, \"36\": 1, \"62\": 4, \"8\": 1}, \"117\": {\"119\": 1, \"117\": 63, \"2\": 1, \"6\": 1, \"79\": 1, \"73\": 1, \"42\": 1, \"50\": 1, \"66\": 1, \"126\": 1, \"29\": 1, \"104\": 1, \"10\": 2, \"55\": 1, \"4\": 1, \"125\": 8, \"111\": 6, \"124\": 4, \"102\": 7, \"33\": 2, \"90\": 7, \"114\": 1, \"105\": 1, \"129\": 1, \"86\": 1, \"92\": 1, \"121\": 1, \"83\": 1, \"69\": 2, \"40\": 3}, \"1\": {\"1\": 45, \"114\": 2, \"83\": 1, \"3\": 4, \"71\": 6, \"49\": 2, \"95\": 2, \"44\": 1, \"74\": 1, \"99\": 1, \"88\": 2, \"24\": 2, \"127\": 3, \"33\": 1, \"122\": 2, \"84\": 8, \"5\": 7, \"118\": 1, \"105\": 2, \"98\": 2, \"40\": 5, \"96\": 1, \"14\": 2, \"121\": 1, \"21\": 1, \"70\": 1, \"26\": 1, \"101\": 1}, \"84\": {\"51\": 2, \"84\": 48, \"95\": 1, \"69\": 8, \"87\": 1, \"127\": 1, \"5\": 9, \"18\": 13, \"44\": 5, \"16\": 2, \"122\": 2, \"105\": 6, \"3\": 2, \"7\": 1, \"114\": 2, \"1\": 7, \"109\": 1, \"88\": 2, \"26\": 5, \"89\": 1, \"71\": 3, \"110\": 1, \"40\": 3, \"70\": 1, \"14\": 3, \"94\": 1, \"12\": 1}, \"17\": {\"102\": 4, \"68\": 1, \"115\": 1, \"104\": 1, \"48\": 1, \"17\": 10, \"37\": 2}, \"6\": {\"119\": 3, \"6\": 9, \"91\": 2, \"68\": 2, \"100\": 1, \"41\": 1, \"103\": 1, \"56\": 2, \"90\": 2, \"38\": 1}, \"110\": {\"110\": 38, \"113\": 5, \"101\": 4, \"93\": 8, \"7\": 5, \"8\": 8, \"30\": 1, \"94\": 1, \"11\": 4, \"118\": 2, \"122\": 10, \"36\": 4, \"87\": 12, \"0\": 3, \"15\": 4, \"10\": 1, \"24\": 2, \"126\": 3, \"88\": 1, \"27\": 4, \"43\": 1, \"109\": 1, \"62\": 1, \"70\": 1}, \"77\": {\"77\": 11, \"119\": 1}, \"8\": {\"110\": 6, \"113\": 5, \"8\": 53, \"36\": 1, \"11\": 5, \"109\": 1, \"0\": 9, \"62\": 3, \"15\": 13, \"93\": 8, \"87\": 3, \"7\": 7, \"118\": 2, \"106\": 3, \"12\": 1, \"101\": 3, \"43\": 2, \"60\": 1, \"27\": 1, \"96\": 1, \"30\": 1, \"122\": 2, \"70\": 1}, \"73\": {\"103\": 2, \"95\": 1, \"47\": 1, \"116\": 1, \"73\": 5, \"107\": 2, \"10\": 1, \"114\": 1, \"111\": 1, \"61\": 1, \"40\": 1, \"92\": 1, \"6\": 1, \"31\": 1, \"119\": 1, \"46\": 1, \"112\": 1, \"120\": 1}, \"126\": {\"97\": 2, \"126\": 51, \"70\": 9, \"27\": 7, \"108\": 2, \"36\": 7, \"39\": 8, \"109\": 10, \"10\": 3, \"93\": 2, \"88\": 4, \"24\": 6, \"43\": 5, \"87\": 1, \"8\": 2, \"21\": 1, \"113\": 1, \"30\": 2, \"122\": 1}, \"57\": {\"57\": 13, \"47\": 1, \"121\": 1, \"64\": 1}, \"95\": {\"95\": 19, \"39\": 1, \"3\": 3, \"35\": 1, \"82\": 1, \"121\": 1, \"34\": 1, \"74\": 1, \"98\": 1, \"114\": 1, \"85\": 1, \"83\": 1}, \"103\": {\"77\": 1, \"103\": 4, \"9\": 2, \"17\": 2, \"47\": 2, \"50\": 2, \"63\": 1, \"124\": 1, \"120\": 1}, \"97\": {\"39\": 1, \"77\": 1, \"97\": 14, \"108\": 1, \"88\": 1, \"90\": 1, \"10\": 1}, \"39\": {\"39\": 28, \"97\": 4, \"10\": 15, \"43\": 2, \"70\": 7, \"126\": 7, \"30\": 1, \"27\": 6, \"87\": 2, \"88\": 6, \"122\": 1, \"108\": 7, \"24\": 9, \"7\": 1, \"36\": 1, \"21\": 2, \"109\": 1}, \"100\": {\"119\": 1, \"114\": 3, \"23\": 2, \"74\": 2, \"20\": 2, \"100\": 2, \"112\": 1, \"98\": 1, \"32\": 2, \"5\": 1, \"72\": 1, \"49\": 1, \"128\": 1}, \"40\": {\"40\": 60, \"95\": 1, \"83\": 2, \"25\": 1, \"9\": 1, \"1\": 4, \"81\": 1, \"98\": 4, \"14\": 1, \"24\": 1, \"5\": 6, \"114\": 9, \"84\": 2, \"15\": 1, \"8\": 1, \"69\": 3, \"34\": 1, \"23\": 1, \"74\": 1, \"26\": 1, \"99\": 1, \"44\": 2, \"105\": 1, \"3\": 1, \"18\": 1, \"122\": 1, \"33\": 1}, \"36\": {\"36\": 87, \"88\": 2, \"30\": 5, \"27\": 7, \"43\": 3, \"10\": 2, \"0\": 3, \"126\": 2, \"24\": 5, \"70\": 2, \"8\": 4, \"94\": 1, \"21\": 1, \"108\": 1, \"109\": 1}, \"19\": {\"5\": 1, \"19\": 13, \"91\": 1, \"107\": 1, \"120\": 1, \"73\": 1, \"121\": 2, \"32\": 3, \"41\": 2, \"90\": 2, \"54\": 1}, \"118\": {\"106\": 1, \"118\": 45, \"94\": 4, \"87\": 8, \"84\": 1, \"113\": 5, \"93\": 6, \"0\": 2, \"30\": 2, \"11\": 6, \"36\": 2, \"122\": 1, \"27\": 1, \"110\": 2, \"7\": 4, \"15\": 3, \"12\": 1, \"8\": 5, \"62\": 4, \"23\": 1, \"24\": 2, \"1\": 2, \"60\": 1, \"101\": 2, \"26\": 1}, \"56\": {\"121\": 1, \"56\": 4, \"76\": 1, \"90\": 1, \"81\": 1, \"29\": 2, \"85\": 1, \"117\": 1}, \"26\": {\"26\": 75, \"49\": 1, \"71\": 6, \"16\": 4, \"114\": 1, \"87\": 1, \"44\": 3, \"101\": 1, \"105\": 4, \"14\": 4, \"127\": 7, \"10\": 1, \"18\": 8, \"3\": 4, \"84\": 2, \"113\": 1, \"69\": 2, \"93\": 1}, \"5\": {\"5\": 84, \"44\": 3, \"95\": 2, \"84\": 4, \"33\": 1, \"1\": 10, \"122\": 2, \"114\": 9, \"3\": 5, \"11\": 1, \"40\": 5, \"98\": 1, \"19\": 1, \"74\": 1, \"105\": 1, \"117\": 1, \"127\": 2, \"43\": 1, \"71\": 1, \"108\": 1}, \"21\": {\"21\": 32, \"88\": 2, \"78\": 2, \"70\": 1, \"39\": 1, \"0\": 2}, \"22\": {\"22\": 9, \"42\": 1, \"36\": 1, \"123\": 1, \"28\": 2, \"125\": 1, \"91\": 1}, \"68\": {\"68\": 6, \"17\": 1, \"66\": 1, \"6\": 1, \"28\": 1, \"50\": 2, \"90\": 1, \"58\": 1, \"124\": 1, \"111\": 1}, \"9\": {\"107\": 1, \"72\": 1, \"38\": 2, \"83\": 2, \"52\": 1, \"3\": 3, \"75\": 3, \"9\": 10, \"14\": 1, \"128\": 1, \"49\": 1, \"99\": 2}, \"66\": {\"66\": 9, \"28\": 2, \"56\": 1, \"129\": 1, \"23\": 1, \"13\": 1, \"60\": 1}, \"87\": {\"30\": 4, \"23\": 1, \"87\": 40, \"62\": 1, \"110\": 10, \"43\": 3, \"113\": 11, \"24\": 2, \"118\": 7, \"27\": 2, \"93\": 4, \"0\": 5, \"94\": 3, \"127\": 1, \"36\": 6, \"8\": 4, \"11\": 2, \"122\": 6, \"7\": 3, \"106\": 2, \"101\": 4, \"109\": 1, \"15\": 1, \"16\": 1}, \"71\": {\"71\": 70, \"10\": 1, \"14\": 9, \"44\": 2, \"84\": 3, \"5\": 5, \"3\": 5, \"12\": 1, \"49\": 1, \"15\": 1, \"21\": 1, \"24\": 1, \"105\": 3, \"1\": 1}, \"115\": {\"115\": 8, \"79\": 2, \"17\": 2, \"13\": 1, \"116\": 2, \"102\": 1}, \"23\": {\"66\": 1, \"97\": 1, \"23\": 2, \"21\": 2, \"51\": 1, \"62\": 1, \"122\": 2, \"10\": 2, \"16\": 1, \"113\": 1, \"26\": 1, \"11\": 1}, \"33\": {\"33\": 104, \"35\": 2, \"5\": 1, \"0\": 1, \"107\": 7, \"69\": 1, \"90\": 1, \"124\": 1}, \"35\": {\"95\": 3, \"35\": 3, \"39\": 1, \"25\": 1, \"18\": 1, \"76\": 1, \"93\": 1, \"100\": 1}, \"125\": {\"79\": 3, \"125\": 97, \"117\": 5, \"111\": 4, \"4\": 3, \"124\": 10, \"98\": 1, \"102\": 1, \"90\": 2, \"50\": 1, \"22\": 2, \"115\": 1, \"64\": 1, \"10\": 1}, \"47\": {\"47\": 10, \"52\": 2}, \"79\": {\"115\": 2, \"125\": 1, \"79\": 8, \"48\": 1, \"102\": 1, \"80\": 1, \"86\": 2}, \"53\": {\"53\": 13, \"76\": 1, \"52\": 1, \"34\": 1}, \"67\": {\"67\": 8, \"107\": 1, \"13\": 2, \"33\": 1, \"64\": 1, \"45\": 1, \"111\": 1, \"126\": 1}, \"80\": {\"80\": 16}, \"105\": {\"105\": 37, \"88\": 1, \"26\": 2, \"71\": 4, \"78\": 1, \"1\": 5, \"10\": 1, \"3\": 3, \"18\": 4, \"114\": 1, \"84\": 11, \"90\": 2, \"5\": 5, \"14\": 5, \"7\": 1, \"106\": 1, \"40\": 3, \"0\": 1, \"127\": 2, \"96\": 1, \"95\": 1, \"62\": 1, \"8\": 1, \"44\": 1, \"39\": 1, \"69\": 2, \"110\": 1, \"102\": 1}, \"76\": {\"76\": 5, \"19\": 1, \"44\": 2, \"96\": 1, \"121\": 1, \"51\": 1, \"98\": 1, \"77\": 1, \"53\": 1, \"29\": 1, \"60\": 1}, \"46\": {\"46\": 10, \"111\": 1, \"107\": 1, \"73\": 1, \"33\": 1, \"76\": 2, \"120\": 1, \"35\": 2, \"32\": 1}, \"34\": {\"20\": 2, \"34\": 12, \"81\": 1, \"3\": 2, \"43\": 1, \"99\": 1, \"107\": 1, \"40\": 2, \"52\": 2, \"49\": 2, \"9\": 1, \"98\": 3, \"72\": 1, \"114\": 1}, \"32\": {\"90\": 1, \"77\": 1, \"74\": 2, \"48\": 2, \"114\": 1, \"98\": 1, \"59\": 1, \"32\": 7, \"82\": 1, \"33\": 1, \"46\": 2, \"100\": 1, \"19\": 1, \"9\": 1, \"34\": 1, \"121\": 2, \"107\": 1, \"5\": 1}, \"13\": {\"13\": 6, \"37\": 1, \"90\": 1, \"63\": 1, \"57\": 1, \"115\": 1, \"123\": 2, \"67\": 1, \"17\": 2}, \"78\": {\"78\": 34, \"88\": 2}, \"41\": {\"90\": 2, \"76\": 1, \"41\": 10, \"6\": 3}, \"69\": {\"69\": 85, \"114\": 6, \"84\": 8, \"12\": 1, \"18\": 10, \"88\": 2, \"105\": 6, \"40\": 2, \"3\": 1, \"16\": 1, \"82\": 1, \"78\": 1, \"71\": 1, \"27\": 1, \"44\": 2}, \"88\": {\"88\": 113, \"21\": 2, \"78\": 1, \"70\": 6, \"104\": 1, \"39\": 2, \"10\": 5, \"126\": 1, \"111\": 1}, \"15\": {\"15\": 54, \"122\": 1, \"94\": 4, \"7\": 7, \"93\": 9, \"101\": 10, \"87\": 2, \"43\": 1, \"0\": 4, \"8\": 9, \"36\": 5, \"24\": 1, \"118\": 3, \"113\": 6, \"126\": 1, \"110\": 2, \"88\": 1, \"11\": 1, \"62\": 2, \"1\": 1, \"21\": 1, \"27\": 1, \"30\": 1, \"10\": 1}, \"61\": {\"32\": 1, \"63\": 3, \"33\": 2, \"42\": 1, \"48\": 1, \"61\": 2, \"29\": 1, \"55\": 2, \"117\": 1, \"5\": 1, \"2\": 1}, \"0\": {\"0\": 47, \"12\": 1, \"8\": 6, \"87\": 14, \"39\": 1, \"7\": 3, \"11\": 2, \"101\": 5, \"118\": 6, \"94\": 5, \"110\": 5, \"122\": 1, \"113\": 8, \"15\": 4, \"24\": 1, \"108\": 2, \"36\": 1, \"70\": 1, \"3\": 1, \"93\": 2}, \"104\": {\"17\": 1, \"48\": 1, \"8\": 1, \"124\": 1, \"86\": 2, \"104\": 5, \"80\": 1, \"117\": 1, \"67\": 1, \"73\": 1, \"116\": 1}, \"48\": {\"48\": 6, \"115\": 1, \"79\": 2, \"123\": 1, \"125\": 1, \"6\": 1, \"65\": 2, \"22\": 1, \"98\": 1}, \"25\": {\"25\": 13, \"41\": 1, \"128\": 1, \"99\": 1}, \"75\": {\"75\": 13, \"19\": 1, \"98\": 1, \"32\": 1}, \"81\": {\"81\": 15, \"128\": 1, \"98\": 1, \"69\": 5, \"33\": 1, \"90\": 1, \"4\": 1, \"10\": 1, \"103\": 1, \"56\": 1, \"112\": 1, \"9\": 1, \"83\": 1, \"3\": 1, \"114\": 1, \"117\": 1, \"107\": 2}, \"50\": {\"117\": 3, \"57\": 3, \"111\": 1, \"86\": 1, \"129\": 1, \"50\": 3, \"63\": 2, \"64\": 2}, \"52\": {\"10\": 1, \"66\": 1, \"25\": 1, \"94\": 1, \"59\": 1, \"52\": 8, \"106\": 1, \"112\": 1, \"47\": 1, \"75\": 2, \"49\": 1, \"89\": 1}, \"16\": {\"16\": 51, \"72\": 3, \"14\": 4, \"60\": 1, \"84\": 6, \"12\": 1, \"127\": 6, \"114\": 2, \"34\": 1, \"44\": 1, \"18\": 3, \"71\": 4, \"26\": 13, \"8\": 1, \"10\": 1, \"3\": 3, \"106\": 4, \"15\": 1, \"98\": 1, \"93\": 1, \"35\": 1, \"62\": 1, \"49\": 1, \"94\": 1, \"1\": 3, \"105\": 1, \"5\": 1, \"69\": 1, \"101\": 1, \"118\": 1}, \"44\": {\"44\": 39, \"58\": 1, \"29\": 1, \"74\": 1, \"105\": 2, \"18\": 3, \"84\": 3, \"5\": 4, \"75\": 1, \"3\": 4, \"127\": 1, \"71\": 4}, \"29\": {\"42\": 1, \"21\": 1, \"29\": 25, \"32\": 1, \"121\": 1, \"58\": 1, \"91\": 1, \"36\": 1}, \"93\": {\"93\": 44, \"21\": 1, \"3\": 2, \"12\": 3, \"122\": 3, \"106\": 4, \"113\": 4, \"87\": 6, \"0\": 3, \"94\": 3, \"110\": 5, \"62\": 3, \"60\": 1, \"124\": 1, \"7\": 4, \"36\": 2, \"101\": 8, \"11\": 9, \"15\": 2, \"118\": 8, \"8\": 6, \"43\": 2}, \"18\": {\"18\": 87, \"3\": 2, \"71\": 3, \"69\": 4, \"98\": 1, \"84\": 1, \"107\": 1, \"72\": 1, \"26\": 3, \"14\": 7, \"118\": 1, \"5\": 1, \"93\": 1, \"1\": 1}, \"49\": {\"49\": 19, \"87\": 1, \"7\": 2, \"20\": 2, \"100\": 2, \"3\": 4, \"71\": 2}, \"55\": {\"59\": 2, \"55\": 5, \"82\": 2, \"29\": 1, \"124\": 1, \"90\": 1, \"117\": 1, \"32\": 2, \"111\": 1}, \"59\": {\"123\": 1, \"59\": 8, \"116\": 1, \"86\": 1, \"21\": 1}, \"128\": {\"128\": 9, \"19\": 1, \"98\": 3, \"5\": 1, \"33\": 1, \"124\": 1, \"90\": 1, \"34\": 1, \"121\": 1, \"46\": 1, \"9\": 1, \"112\": 1, \"38\": 1, \"107\": 1}, \"24\": {\"24\": 66, \"109\": 3, \"10\": 12, \"27\": 5, \"88\": 4, \"108\": 7, \"126\": 3, \"70\": 13, \"39\": 4, \"36\": 1, \"43\": 1, \"15\": 1}, \"65\": {\"65\": 12}, \"92\": {\"19\": 2, \"92\": 12, \"107\": 3, \"33\": 2, \"99\": 1, \"52\": 2, \"32\": 1, \"57\": 1, \"2\": 1, \"25\": 1, \"49\": 1, \"90\": 1}}, \"W_1\": {\"108\": {\"108\": 77, \"27\": 3, \"30\": 4, \"24\": 14, \"10\": 2, \"39\": 1, \"93\": 2, \"88\": 13, \"109\": 1, \"126\": 4, \"70\": 2, \"11\": 1}, \"40\": {\"40\": 82, \"74\": 1, \"9\": 1, \"14\": 9, \"1\": 12, \"105\": 6, \"127\": 6, \"107\": 3, \"36\": 2, \"90\": 1, \"62\": 1, \"26\": 1, \"32\": 2, \"114\": 4, \"33\": 3, \"101\": 1, \"84\": 1}, \"68\": {\"68\": 10, \"64\": 1, \"58\": 2, \"129\": 1, \"90\": 1, \"112\": 1}, \"23\": {\"23\": 8, \"7\": 1, \"96\": 2, \"88\": 1, \"44\": 1, \"8\": 1, \"0\": 2, \"12\": 2, \"1\": 1, \"43\": 3, \"36\": 1, \"110\": 1}, \"26\": {\"26\": 80, \"105\": 2, \"3\": 2, \"69\": 3, \"62\": 14, \"100\": 1, \"24\": 1, \"16\": 4, \"106\": 4, \"84\": 1, \"14\": 1, \"99\": 1, \"21\": 1, \"44\": 1, \"114\": 1, \"1\": 2, \"8\": 1}, \"64\": {\"64\": 11, \"121\": 1, \"90\": 1, \"37\": 1, \"19\": 2}, \"22\": {\"22\": 3, \"68\": 1, \"82\": 1, \"64\": 1, \"121\": 1, \"83\": 1, \"107\": 1, \"25\": 1, \"86\": 1, \"58\": 1, \"129\": 3, \"43\": 1}, \"3\": {\"89\": 1, \"3\": 63, \"84\": 2, \"62\": 1, \"94\": 1, \"106\": 6, \"1\": 2, \"127\": 7, \"111\": 1, \"116\": 1, \"114\": 1, \"101\": 1, \"8\": 1}, \"4\": {\"4\": 88, \"124\": 3, \"6\": 1, \"125\": 2, \"102\": 1, \"63\": 1, \"88\": 1, \"107\": 2, \"90\": 1}, \"70\": {\"70\": 96, \"108\": 5, \"88\": 2, \"21\": 3, \"109\": 10, \"24\": 2, \"10\": 2}, \"57\": {\"22\": 1, \"57\": 10, \"64\": 1}, \"79\": {\"79\": 8, \"68\": 1, \"65\": 1, \"67\": 2}, \"9\": {\"9\": 16, \"89\": 2, \"51\": 1, \"74\": 1, \"73\": 1, \"75\": 2, \"3\": 1, \"54\": 1, \"14\": 1, \"20\": 2, \"107\": 1, \"84\": 1, \"83\": 1, \"44\": 1}, \"89\": {\"89\": 18, \"53\": 1, \"28\": 1, \"99\": 1, \"29\": 1, \"75\": 1, \"72\": 1, \"19\": 2, \"90\": 2, \"73\": 2, \"103\": 1, \"82\": 1, \"25\": 1, \"85\": 2, \"107\": 1}, \"110\": {\"110\": 92, \"126\": 1, \"113\": 5, \"36\": 1, \"30\": 1, \"94\": 2, \"84\": 7, \"16\": 3, \"106\": 5, \"71\": 1, \"11\": 2, \"60\": 1, \"7\": 1, \"12\": 1, \"87\": 2, \"105\": 2, \"44\": 1}, \"102\": {\"102\": 93, \"57\": 2, \"22\": 1, \"17\": 1, \"13\": 1, \"124\": 4, \"71\": 1, \"125\": 4, \"126\": 1, \"117\": 2, \"111\": 5, \"119\": 2, \"63\": 1, \"67\": 1, \"90\": 1}, \"31\": {\"31\": 9, \"12\": 1, \"127\": 2, \"110\": 1, \"99\": 2, \"7\": 1}, \"58\": {\"58\": 8, \"68\": 1, \"41\": 1, \"77\": 1, \"124\": 1}, \"47\": {\"83\": 2, \"85\": 1, \"47\": 4, \"82\": 1, \"45\": 1, \"98\": 1, \"49\": 1, \"25\": 1}, \"24\": {\"11\": 5, \"10\": 8, \"24\": 56, \"109\": 3, \"108\": 10, \"30\": 1, \"70\": 2, \"88\": 6, \"36\": 1}, \"19\": {\"19\": 14, \"47\": 2, \"82\": 1, \"114\": 1, \"105\": 1, \"107\": 3, \"81\": 1, \"20\": 1, \"92\": 2, \"29\": 1, \"83\": 1}, \"11\": {\"11\": 50, \"39\": 7, \"126\": 12, \"97\": 3, \"43\": 8, \"122\": 4, \"87\": 7, \"27\": 8, \"24\": 2, \"108\": 2, \"109\": 1, \"94\": 2, \"93\": 12, \"36\": 4, \"10\": 2, \"15\": 2, \"88\": 2, \"30\": 2, \"18\": 1, \"8\": 1}, \"52\": {\"52\": 17, \"29\": 2, \"34\": 1}, \"17\": {\"115\": 1, \"17\": 5, \"68\": 1, \"27\": 1, \"63\": 2, \"129\": 1, \"102\": 1, \"45\": 1, \"37\": 1, \"48\": 1, \"4\": 1}, \"25\": {\"83\": 1, \"19\": 1, \"120\": 1, \"82\": 1, \"128\": 2, \"129\": 1, \"66\": 1, \"45\": 2, \"25\": 3, \"33\": 1, \"89\": 2}, \"69\": {\"69\": 76, \"113\": 2, \"62\": 3, \"26\": 2, \"84\": 4, \"110\": 3, \"16\": 5, \"18\": 2, \"70\": 2, \"109\": 1, \"106\": 3, \"3\": 1, \"39\": 1, \"87\": 1, \"36\": 2}, \"96\": {\"96\": 5, \"104\": 1, \"43\": 1, \"124\": 1, \"71\": 1, \"32\": 1, \"87\": 1, \"101\": 3, \"10\": 1, \"109\": 1, \"93\": 1, \"72\": 1, \"36\": 1, \"122\": 1}, \"109\": {\"109\": 82, \"70\": 17, \"108\": 8, \"10\": 2, \"24\": 2, \"88\": 3}, \"115\": {\"57\": 2, \"17\": 1, \"115\": 6, \"45\": 1, \"125\": 1, \"124\": 1}, \"83\": {\"19\": 1, \"69\": 1, \"91\": 1, \"71\": 1, \"33\": 2, \"83\": 4, \"109\": 1, \"120\": 1, \"86\": 1, \"34\": 1, \"90\": 1, \"107\": 1, \"64\": 1, \"55\": 1, \"89\": 1, \"81\": 1, \"96\": 1, \"32\": 1, \"100\": 1, \"111\": 1, \"29\": 1, \"114\": 1, \"5\": 1, \"48\": 1}, \"84\": {\"84\": 72, \"14\": 1, \"106\": 11, \"60\": 1, \"71\": 2, \"8\": 3, \"105\": 2, \"72\": 1, \"110\": 6, \"36\": 2, \"16\": 6, \"44\": 1, \"113\": 3, \"88\": 1, \"35\": 1, \"69\": 3, \"94\": 1, \"10\": 1, \"26\": 2, \"62\": 2, \"12\": 1, \"3\": 2, \"93\": 1, \"101\": 1, \"127\": 1}, \"119\": {\"111\": 4, \"119\": 7, \"116\": 2, \"102\": 1, \"57\": 1, \"63\": 1}, \"122\": {\"7\": 4, \"11\": 4, \"8\": 3, \"94\": 2, \"3\": 1, \"97\": 1, \"122\": 32, \"118\": 4, \"110\": 1, \"43\": 7, \"87\": 6, \"70\": 2, \"30\": 1, \"36\": 2, \"108\": 1, \"39\": 3, \"109\": 1, \"15\": 2, \"18\": 4, \"0\": 2, \"21\": 2, \"126\": 1, \"24\": 1, \"93\": 1}, \"99\": {\"85\": 1, \"53\": 3, \"99\": 10, \"29\": 1, \"31\": 1, \"127\": 1, \"49\": 4, \"73\": 1, \"9\": 1, \"1\": 1}, \"1\": {\"1\": 78, \"105\": 9, \"3\": 3, \"97\": 1, \"14\": 11, \"101\": 5, \"70\": 1, \"40\": 7, \"71\": 2, \"127\": 4, \"16\": 4, \"33\": 1, \"99\": 1, \"72\": 1, \"84\": 4, \"24\": 1, \"107\": 2, \"26\": 1}, \"74\": {\"74\": 6, \"85\": 1, \"20\": 4, \"114\": 1, \"1\": 1, \"107\": 1, \"19\": 1, \"16\": 1}, \"85\": {\"85\": 16, \"89\": 1, \"82\": 3, \"32\": 2, \"56\": 1, \"47\": 2, \"107\": 3, \"120\": 1, \"34\": 1, \"92\": 1, \"29\": 1}, \"127\": {\"127\": 79, \"88\": 1, \"84\": 4, \"14\": 1, \"1\": 9, \"40\": 2, \"10\": 1, \"3\": 3, \"71\": 2, \"105\": 1, \"107\": 2, \"106\": 2, \"101\": 1}, \"111\": {\"111\": 84, \"68\": 2, \"86\": 2, \"91\": 1, \"121\": 1, \"5\": 8, \"90\": 4, \"117\": 2, \"38\": 2, \"123\": 1, \"83\": 1, \"13\": 1, \"116\": 1, \"124\": 6, \"24\": 1, \"125\": 1, \"102\": 1, \"98\": 1}, \"53\": {\"53\": 14, \"9\": 1, \"121\": 1, \"76\": 2, \"32\": 2}, \"88\": {\"88\": 82, \"27\": 1, \"126\": 8, \"108\": 13, \"24\": 5, \"10\": 7, \"11\": 2, \"109\": 5, \"70\": 2, \"93\": 3, \"36\": 1, \"30\": 2, \"39\": 1}, \"65\": {\"65\": 5, \"111\": 1, \"79\": 1, \"21\": 1, \"28\": 1, \"55\": 1, \"2\": 1, \"112\": 1}, \"7\": {\"23\": 1, \"7\": 64, \"43\": 4, \"31\": 1, \"8\": 4, \"62\": 1, \"36\": 3, \"12\": 8, \"0\": 3, \"39\": 1, \"110\": 6, \"93\": 6, \"122\": 1, \"87\": 5, \"84\": 3, \"101\": 2, \"113\": 8, \"106\": 1, \"71\": 3, \"18\": 6, \"27\": 1, \"127\": 1, \"11\": 1}, \"16\": {\"16\": 41, \"60\": 2, \"84\": 9, \"71\": 4, \"101\": 5, \"26\": 12, \"3\": 4, \"106\": 5, \"12\": 4, \"69\": 8, \"44\": 1, \"62\": 3, \"110\": 2, \"113\": 2, \"14\": 2, \"94\": 1, \"39\": 1, \"24\": 1, \"127\": 1}, \"128\": {\"92\": 1, \"128\": 14, \"103\": 1, \"9\": 1, \"25\": 1, \"91\": 1, \"98\": 1, \"44\": 1, \"71\": 1, \"89\": 2}, \"34\": {\"114\": 2, \"53\": 3, \"56\": 2, \"9\": 1, \"49\": 2, \"34\": 3, \"92\": 1, \"83\": 1, \"15\": 1, \"128\": 1, \"127\": 2, \"96\": 2, \"27\": 2, \"1\": 2, \"75\": 3, \"29\": 1, \"52\": 1, \"10\": 1, \"44\": 1}, \"129\": {\"68\": 3, \"129\": 17, \"117\": 1, \"2\": 3, \"54\": 1, \"17\": 2, \"38\": 1}, \"43\": {\"27\": 4, \"118\": 4, \"30\": 2, \"43\": 58, \"96\": 1, \"10\": 1, \"110\": 3, \"126\": 5, \"93\": 4, \"11\": 8, \"94\": 7, \"87\": 9, \"8\": 5, \"36\": 4, \"7\": 3, \"122\": 1, \"108\": 3, \"15\": 2, \"39\": 1, \"18\": 2, \"70\": 1}, \"92\": {\"92\": 21, \"29\": 2, \"114\": 1, \"50\": 1, \"103\": 1, \"19\": 1, \"32\": 1}, \"28\": {\"53\": 1, \"92\": 1, \"28\": 7, \"37\": 1, \"19\": 1, \"91\": 1, \"104\": 2, \"57\": 1, \"38\": 1, \"124\": 2, \"66\": 1, \"83\": 1}, \"27\": {\"27\": 47, \"30\": 7, \"36\": 1, \"126\": 3, \"87\": 3, \"43\": 6, \"108\": 6, \"7\": 1, \"39\": 4, \"94\": 2, \"11\": 3, \"24\": 2, \"122\": 3, \"93\": 2, \"88\": 1, \"8\": 1}, \"114\": {\"114\": 98, \"40\": 2, \"98\": 2, \"50\": 1, \"1\": 2, \"24\": 1, \"107\": 9, \"33\": 4, \"14\": 2, \"44\": 1, \"128\": 1, \"105\": 1}, \"73\": {\"92\": 1, \"73\": 14, \"42\": 1, \"45\": 1, \"51\": 1, \"3\": 1, \"100\": 1}, \"0\": {\"0\": 60, \"43\": 1, \"27\": 1, \"23\": 1, \"35\": 1, \"113\": 2, \"110\": 5, \"118\": 3, \"8\": 2, \"7\": 4, \"94\": 1, \"15\": 1, \"44\": 1, \"87\": 1}, \"104\": {\"104\": 8, \"28\": 1, \"91\": 2, \"61\": 2, \"54\": 2, \"90\": 1}, \"118\": {\"118\": 44, \"96\": 1, \"27\": 1, \"0\": 1, \"122\": 1, \"109\": 1, \"113\": 7, \"12\": 2, \"18\": 5, \"16\": 2, \"110\": 2, \"43\": 1, \"7\": 3, \"69\": 3, \"60\": 1, \"87\": 1, \"3\": 1, \"84\": 2, \"39\": 1, \"36\": 1, \"15\": 1, \"8\": 1, \"26\": 1}, \"41\": {\"104\": 1, \"41\": 9, \"58\": 1, \"86\": 1, \"92\": 1, \"103\": 1, \"29\": 1, \"2\": 1}, \"91\": {\"104\": 2, \"53\": 1, \"91\": 15, \"6\": 1, \"92\": 1, \"42\": 5, \"129\": 1, \"111\": 1, \"22\": 1}, \"124\": {\"124\": 70, \"46\": 1, \"65\": 1, \"64\": 1, \"91\": 2, \"83\": 1, \"111\": 5, \"61\": 1, \"92\": 1, \"125\": 10, \"102\": 10, \"90\": 2, \"117\": 6, \"2\": 1, \"129\": 2, \"123\": 1, \"89\": 1, \"42\": 2, \"86\": 1, \"59\": 1, \"44\": 1, \"5\": 1}, \"81\": {\"53\": 1, \"81\": 14, \"14\": 2, \"25\": 1, \"3\": 1, \"77\": 2, \"32\": 1, \"114\": 1, \"83\": 1, \"103\": 1, \"66\": 1, \"107\": 1, \"76\": 1}, \"63\": {\"124\": 1, \"63\": 9, \"102\": 1, \"103\": 1, \"17\": 1, \"57\": 1, \"4\": 1, \"68\": 1}, \"76\": {\"53\": 2, \"76\": 1, \"1\": 1, \"32\": 1, \"71\": 2, \"128\": 1, \"56\": 1, \"60\": 1, \"49\": 1, \"52\": 2, \"98\": 1, \"72\": 1, \"91\": 1}, \"10\": {\"10\": 74, \"91\": 1, \"70\": 7, \"30\": 3, \"109\": 3, \"108\": 6, \"88\": 8, \"11\": 2, \"126\": 1, \"24\": 6, \"122\": 2, \"78\": 3, \"39\": 3, \"27\": 1}, \"51\": {\"51\": 12, \"31\": 1, \"44\": 1, \"72\": 1, \"90\": 1}, \"82\": {\"82\": 25, \"50\": 1, \"121\": 2, \"83\": 1, \"2\": 1, \"92\": 1, \"40\": 1, \"85\": 1, \"100\": 1, \"38\": 1, \"42\": 1}, \"56\": {\"56\": 2, \"103\": 3, \"53\": 1, \"112\": 2, \"92\": 2, \"91\": 1, \"99\": 1}, \"30\": {\"30\": 34, \"126\": 4, \"39\": 3, \"10\": 4, \"24\": 2, \"88\": 2, \"23\": 1, \"27\": 1, \"43\": 1}, \"21\": {\"21\": 30, \"109\": 3, \"22\": 1, \"83\": 1, \"37\": 1, \"6\": 1, \"44\": 1, \"70\": 2}, \"46\": {\"46\": 4, \"82\": 1, \"120\": 1, \"116\": 1, \"123\": 2, \"119\": 1, \"6\": 1, \"115\": 1}, \"33\": {\"33\": 125, \"72\": 1, \"40\": 1, \"81\": 1, \"20\": 1, \"114\": 7, \"36\": 1, \"107\": 1}, \"101\": {\"101\": 101, \"12\": 2, \"71\": 5, \"35\": 1, \"7\": 1, \"106\": 4, \"118\": 1, \"107\": 1, \"16\": 1, \"24\": 1, \"84\": 2, \"44\": 1, \"127\": 2, \"98\": 1}, \"105\": {\"3\": 3, \"105\": 46, \"97\": 1, \"26\": 1, \"11\": 1, \"14\": 9, \"127\": 4, \"1\": 8, \"12\": 1, \"62\": 3, \"106\": 2, \"40\": 1, \"84\": 1, \"16\": 2, \"114\": 1}, \"50\": {\"50\": 11, \"95\": 1, \"82\": 1, \"3\": 1, \"73\": 1, \"10\": 1}, \"116\": {\"116\": 14, \"95\": 2, \"123\": 2, \"33\": 1, \"124\": 2, \"128\": 1, \"5\": 1, \"119\": 1, \"58\": 1, \"100\": 1, \"54\": 1, \"82\": 1, \"107\": 1, \"117\": 2, \"102\": 1}, \"77\": {\"77\": 13, \"92\": 1, \"104\": 1, \"90\": 1}, \"75\": {\"75\": 9, \"76\": 1, \"92\": 1, \"73\": 1, \"29\": 1, \"71\": 2, \"1\": 1}, \"95\": {\"95\": 27, \"82\": 1, \"54\": 2, \"33\": 2, \"114\": 1, \"25\": 1, \"73\": 1, \"51\": 1}, \"120\": {\"120\": 8, \"82\": 2, \"129\": 3, \"121\": 1, \"54\": 1, \"56\": 1, \"111\": 2, \"5\": 2}, \"18\": {\"14\": 3, \"18\": 60, \"0\": 2, \"27\": 2, \"113\": 8, \"126\": 2, \"94\": 1, \"69\": 2, \"87\": 4, \"43\": 2, \"110\": 6, \"84\": 1, \"101\": 1, \"118\": 1, \"122\": 3, \"8\": 3, \"106\": 2, \"11\": 1, \"71\": 1, \"16\": 1, \"36\": 1, \"7\": 1}, \"14\": {\"3\": 5, \"14\": 53, \"9\": 1, \"74\": 4, \"43\": 1, \"127\": 5, \"71\": 2, \"1\": 10, \"40\": 7, \"105\": 1, \"98\": 2, \"111\": 1, \"122\": 1, \"69\": 1, \"16\": 1, \"106\": 1}, \"44\": {\"44\": 69, \"98\": 1, \"12\": 2, \"89\": 1, \"71\": 2, \"87\": 1}, \"98\": {\"98\": 82, \"128\": 2, \"72\": 2, \"84\": 1, \"107\": 2, \"90\": 2, \"40\": 2, \"71\": 1, \"1\": 1, \"101\": 1}, \"121\": {\"124\": 3, \"64\": 2, \"111\": 2, \"90\": 2, \"102\": 3, \"6\": 1, \"121\": 7, \"116\": 2, \"77\": 1, \"42\": 1, \"37\": 2, \"19\": 1, \"123\": 3, \"53\": 1, \"85\": 1}, \"113\": {\"113\": 58, \"44\": 4, \"3\": 2, \"110\": 8, \"0\": 2, \"126\": 2, \"122\": 1, \"8\": 3, \"36\": 3, \"18\": 6, \"84\": 3, \"69\": 5, \"127\": 1, \"93\": 1, \"26\": 1, \"15\": 2, \"118\": 1, \"16\": 3, \"108\": 1, \"11\": 1}, \"103\": {\"73\": 3, \"82\": 2, \"128\": 2, \"72\": 1, \"38\": 1, \"90\": 1, \"103\": 4, \"52\": 1, \"60\": 1}, \"62\": {\"113\": 1, \"44\": 2, \"9\": 1, \"69\": 1, \"62\": 88, \"21\": 1, \"84\": 5, \"15\": 1, \"26\": 8, \"101\": 2, \"105\": 2, \"10\": 1, \"40\": 1, \"70\": 1, \"3\": 2, \"106\": 1, \"14\": 1, \"88\": 1}, \"32\": {\"32\": 17, \"40\": 1, \"74\": 1, \"51\": 1, \"38\": 1, \"72\": 1, \"95\": 1, \"98\": 3, \"34\": 1, \"96\": 1, \"28\": 1, \"29\": 1, \"53\": 2}, \"71\": {\"71\": 63, \"9\": 1, \"101\": 17, \"127\": 6, \"3\": 1, \"12\": 4, \"14\": 2, \"70\": 1, \"84\": 2, \"118\": 2, \"51\": 1, \"23\": 1, \"110\": 1, \"105\": 1, \"44\": 1, \"1\": 1, \"16\": 2, \"106\": 1}, \"94\": {\"94\": 55, \"96\": 2, \"93\": 2, \"43\": 2, \"84\": 1, \"11\": 3, \"24\": 1, \"87\": 5, \"15\": 4, \"8\": 5, \"36\": 5, \"10\": 2, \"0\": 1, \"23\": 1, \"7\": 1, \"110\": 1, \"122\": 1}, \"49\": {\"49\": 10, \"32\": 1, \"40\": 1, \"77\": 1, \"14\": 1, \"96\": 2, \"31\": 1, \"9\": 1, \"72\": 2}, \"12\": {\"12\": 72, \"106\": 6, \"110\": 3, \"69\": 1, \"101\": 5, \"127\": 2, \"109\": 1, \"71\": 3, \"7\": 2, \"16\": 1, \"21\": 1, \"84\": 3, \"36\": 1, \"62\": 1, \"8\": 1, \"70\": 1}, \"90\": {\"90\": 103, \"66\": 2, \"89\": 2, \"83\": 1, \"121\": 2, \"1\": 2, \"44\": 2, \"98\": 5, \"107\": 1, \"26\": 1, \"77\": 1, \"112\": 1, \"124\": 1}, \"93\": {\"93\": 47, \"87\": 9, \"27\": 4, \"43\": 12, \"11\": 8, \"78\": 1, \"39\": 5, \"30\": 3, \"70\": 4, \"108\": 4, \"122\": 2, \"94\": 2, \"126\": 5, \"36\": 5, \"88\": 8, \"18\": 1, \"24\": 1, \"10\": 1, \"8\": 1, \"15\": 1}, \"13\": {\"111\": 1, \"102\": 6, \"13\": 7, \"58\": 2}, \"67\": {\"111\": 1, \"67\": 10, \"117\": 1, \"82\": 1, \"54\": 2, \"95\": 1}, \"20\": {\"20\": 12, \"52\": 1, \"109\": 1, \"98\": 1, \"122\": 1}, \"2\": {\"54\": 1, \"2\": 13, \"58\": 3, \"45\": 1, \"25\": 1, \"82\": 1, \"92\": 3, \"111\": 1, \"5\": 1, \"86\": 2, \"129\": 1, \"22\": 1, \"63\": 1, \"66\": 1, \"102\": 1}, \"5\": {\"5\": 79, \"111\": 3, \"110\": 1, \"21\": 1, \"120\": 1, \"117\": 2, \"105\": 1}, \"54\": {\"104\": 2, \"54\": 6, \"89\": 1, \"41\": 2, \"100\": 1, \"38\": 1, \"111\": 1, \"122\": 1, \"85\": 1}, \"37\": {\"37\": 14, \"86\": 1, \"64\": 1}, \"38\": {\"54\": 3, \"28\": 1, \"9\": 1, \"38\": 5, \"61\": 1, \"103\": 1, \"107\": 1, \"19\": 2, \"29\": 1}, \"86\": {\"2\": 1, \"119\": 1, \"29\": 2, \"83\": 1, \"6\": 5, \"125\": 2, \"86\": 14, \"111\": 2, \"25\": 1, \"109\": 1, \"22\": 3, \"28\": 2, \"97\": 1}, \"55\": {\"55\": 8, \"54\": 1, \"17\": 2, \"120\": 1}, \"97\": {\"97\": 9, \"43\": 1, \"24\": 2, \"87\": 3, \"92\": 1, \"91\": 1, \"30\": 1, \"11\": 1, \"10\": 1}, \"29\": {\"29\": 22, \"90\": 2, \"81\": 2, \"75\": 2}, \"48\": {\"63\": 1, \"48\": 10, \"79\": 1}, \"60\": {\"60\": 9, \"40\": 1, \"101\": 1, \"84\": 1, \"12\": 2, \"3\": 1, \"26\": 1}, \"36\": {\"36\": 68, \"15\": 7, \"122\": 1, \"108\": 2, \"94\": 6, \"27\": 3, \"7\": 6, \"0\": 4, \"88\": 5, \"43\": 2, \"11\": 3, \"93\": 3, \"8\": 5, \"10\": 1, \"23\": 1, \"30\": 2, \"87\": 1, \"39\": 1, \"126\": 1}, \"42\": {\"41\": 1, \"58\": 1, \"42\": 20, \"121\": 1, \"5\": 1, \"6\": 1, \"54\": 1, \"21\": 1, \"91\": 1}, \"66\": {\"66\": 7, \"52\": 1, \"90\": 2, \"86\": 2, \"89\": 1, \"42\": 2, \"125\": 1}, \"126\": {\"126\": 65, \"88\": 13, \"39\": 5, \"24\": 2, \"97\": 1, \"70\": 1, \"108\": 5, \"93\": 9, \"43\": 2, \"109\": 2, \"11\": 12, \"10\": 6, \"27\": 2, \"15\": 1, \"36\": 2}, \"39\": {\"126\": 14, \"39\": 32, \"11\": 13, \"88\": 5, \"21\": 1, \"30\": 6, \"27\": 1, \"122\": 1, \"43\": 3, \"94\": 1, \"87\": 7, \"24\": 2, \"93\": 8, \"108\": 2, \"70\": 5, \"10\": 2, \"18\": 1}, \"107\": {\"107\": 96, \"114\": 14, \"40\": 1, \"70\": 1, \"33\": 1, \"72\": 1, \"75\": 1, \"85\": 1, \"128\": 1, \"105\": 2, \"98\": 2, \"1\": 1, \"14\": 2}, \"59\": {\"28\": 2, \"59\": 6, \"42\": 1, \"73\": 1, \"2\": 1, \"90\": 1}, \"117\": {\"59\": 1, \"117\": 75, \"123\": 1, \"86\": 1, \"120\": 1, \"80\": 1, \"5\": 7, \"102\": 7, \"107\": 3, \"111\": 7, \"98\": 3, \"90\": 5, \"125\": 10, \"124\": 11, \"37\": 1, \"41\": 1, \"2\": 1, \"116\": 2}, \"6\": {\"28\": 2, \"121\": 2, \"111\": 1, \"6\": 20, \"128\": 1, \"116\": 1, \"42\": 1, \"68\": 1, \"112\": 1, \"66\": 1, \"91\": 1}, \"123\": {\"123\": 14, \"2\": 1, \"116\": 1}, \"8\": {\"8\": 58, \"122\": 1, \"109\": 1, \"15\": 13, \"94\": 10, \"0\": 4, \"30\": 1, \"36\": 2, \"87\": 5, \"12\": 1, \"126\": 4, \"7\": 7, \"88\": 1, \"11\": 2, \"18\": 5, \"93\": 4, \"43\": 1, \"110\": 3, \"108\": 1}, \"112\": {\"112\": 5, \"75\": 1, \"61\": 1, \"85\": 1, \"98\": 1, \"83\": 1, \"109\": 1, \"64\": 2, \"53\": 1, \"32\": 1, \"107\": 1}, \"80\": {\"4\": 1, \"117\": 1, \"80\": 12, \"85\": 1, \"37\": 1}, \"125\": {\"125\": 107, \"80\": 1, \"115\": 1, \"86\": 1, \"117\": 7, \"102\": 3, \"124\": 8, \"107\": 1, \"5\": 1, \"129\": 1, \"63\": 1, \"111\": 2, \"116\": 1, \"98\": 1}, \"61\": {\"58\": 1, \"45\": 1, \"61\": 5, \"6\": 1, \"34\": 1, \"124\": 1, \"121\": 1, \"92\": 1}, \"45\": {\"43\": 1, \"124\": 1, \"86\": 1, \"45\": 3, \"66\": 2, \"111\": 2, \"64\": 1, \"37\": 1}, \"72\": {\"3\": 2, \"72\": 13, \"7\": 1, \"34\": 1, \"114\": 2, \"127\": 2, \"40\": 1, \"51\": 2, \"45\": 2, \"74\": 2, \"9\": 2, \"76\": 2}, \"87\": {\"7\": 7, \"96\": 1, \"126\": 2, \"93\": 6, \"97\": 4, \"94\": 2, \"87\": 39, \"110\": 6, \"122\": 8, \"39\": 2, \"43\": 6, \"15\": 4, \"8\": 2, \"118\": 5, \"11\": 4, \"10\": 2, \"18\": 2, \"23\": 1, \"0\": 1, \"113\": 1, \"24\": 1, \"27\": 1, \"36\": 1}, \"106\": {\"84\": 8, \"35\": 1, \"106\": 87, \"101\": 9, \"127\": 2, \"16\": 2, \"12\": 5, \"7\": 1, \"44\": 1, \"105\": 1, \"113\": 1, \"3\": 1, \"71\": 2, \"8\": 2, \"88\": 1}, \"35\": {\"30\": 1, \"90\": 1, \"51\": 1, \"31\": 1, \"35\": 1, \"101\": 4, \"28\": 1, \"93\": 1, \"72\": 1}, \"78\": {\"70\": 3, \"109\": 1, \"78\": 3, \"24\": 2, \"10\": 6, \"21\": 1}, \"15\": {\"15\": 62, \"0\": 7, \"36\": 6, \"7\": 4, \"110\": 5, \"94\": 8, \"109\": 2, \"8\": 3, \"12\": 1, \"122\": 1, \"16\": 1, \"18\": 2, \"21\": 1, \"87\": 1}, \"100\": {\"100\": 8, \"62\": 1, \"44\": 1, \"98\": 1, \"60\": 1, \"73\": 1, \"95\": 2, \"82\": 1}}, \"C_3\": {\"43\": {\"43\": 127, \"55\": 1}, \"9\": {\"46\": 2, \"56\": 6, \"9\": 85, \"27\": 6, \"1\": 9, \"40\": 5, \"48\": 11, \"0\": 2, \"29\": 2, \"55\": 3, \"4\": 4, \"47\": 9, \"36\": 1, \"57\": 5}, \"6\": {\"6\": 56, \"3\": 7, \"12\": 9, \"45\": 5, \"30\": 4, \"22\": 1, \"0\": 2, \"5\": 2, \"50\": 2}, \"3\": {\"46\": 4, \"3\": 50, \"44\": 5, \"20\": 1, \"5\": 16, \"45\": 7, \"50\": 14, \"30\": 15, \"12\": 9, \"21\": 7, \"0\": 3, \"22\": 2, \"6\": 9, \"52\": 2}, \"16\": {\"24\": 3, \"16\": 62, \"53\": 16, \"25\": 19, \"11\": 16, \"10\": 5, \"54\": 5, \"18\": 2, \"15\": 5, \"43\": 1}, \"51\": {\"51\": 110, \"26\": 1, \"20\": 1, \"43\": 6, \"13\": 9, \"53\": 1}, \"31\": {\"31\": 27, \"55\": 1}, \"46\": {\"46\": 53, \"6\": 4, \"56\": 10, \"44\": 3, \"52\": 8, \"21\": 10, \"48\": 2, \"20\": 6, \"3\": 11, \"0\": 7, \"22\": 5, \"50\": 10, \"8\": 2, \"5\": 2, \"40\": 1}, \"19\": {\"19\": 121, \"54\": 2, \"15\": 1}, \"8\": {\"46\": 8, \"9\": 7, \"8\": 83, \"52\": 16, \"20\": 14, \"50\": 4, \"41\": 1, \"40\": 3, \"36\": 1, \"1\": 1, \"21\": 3, \"0\": 2, \"12\": 1, \"29\": 1, \"43\": 1, \"33\": 2, \"56\": 1, \"48\": 1, \"27\": 2}, \"18\": {\"16\": 4, \"18\": 61, \"54\": 5, \"15\": 5, \"25\": 8, \"23\": 1}, \"37\": {\"37\": 28}, \"24\": {\"24\": 104}, \"10\": {\"10\": 57, \"11\": 7}, \"44\": {\"44\": 65, \"0\": 5, \"47\": 1, \"3\": 1, \"9\": 1, \"56\": 2, \"22\": 2, \"12\": 1, \"1\": 1, \"45\": 2, \"5\": 4, \"40\": 2, \"6\": 1}, \"14\": {\"14\": 12, \"9\": 1, \"13\": 2, \"36\": 4, \"7\": 5, \"32\": 3, \"55\": 1, \"17\": 1, \"29\": 3, \"43\": 2, \"34\": 3, \"56\": 1, \"33\": 1, \"27\": 1}, \"38\": {\"38\": 27, \"33\": 1}, \"53\": {\"53\": 102, \"54\": 6, \"37\": 5, \"23\": 1, \"15\": 7, \"13\": 2, \"24\": 2, \"16\": 4, \"11\": 5, \"43\": 3, \"17\": 1, \"10\": 2}, \"20\": {\"46\": 5, \"21\": 12, \"52\": 14, \"20\": 87, \"8\": 9, \"3\": 2, \"40\": 2, \"47\": 1}, \"32\": {\"32\": 28}, \"36\": {\"36\": 90, \"17\": 6, \"55\": 3, \"34\": 1}, \"33\": {\"33\": 17, \"7\": 3, \"39\": 1, \"22\": 1, \"9\": 2, \"8\": 1, \"43\": 1, \"47\": 1, \"14\": 1}, \"56\": {\"9\": 2, \"56\": 95, \"29\": 1, \"48\": 4, \"0\": 5, \"47\": 5, \"27\": 1, \"30\": 1, \"22\": 11, \"44\": 2, \"8\": 2, \"40\": 5, \"52\": 1, \"4\": 1}, \"23\": {\"54\": 10, \"36\": 5, \"23\": 63, \"42\": 4, \"34\": 5, \"55\": 21, \"17\": 9, \"15\": 5, \"14\": 1, \"29\": 1, \"25\": 1, \"31\": 1, \"41\": 1, \"43\": 1, \"27\": 1, \"53\": 1}, \"54\": {\"54\": 86, \"53\": 1, \"24\": 4, \"37\": 2, \"15\": 3, \"23\": 3, \"25\": 1}, \"21\": {\"21\": 106, \"52\": 8, \"50\": 1, \"0\": 3, \"1\": 1, \"46\": 3, \"3\": 1, \"30\": 1, \"20\": 2}, \"28\": {\"28\": 21, \"18\": 1, \"31\": 2, \"17\": 1, \"54\": 1, \"35\": 2}, \"26\": {\"26\": 23, \"14\": 1}, \"48\": {\"48\": 60, \"26\": 1, \"22\": 2, \"47\": 9, \"1\": 10, \"40\": 6, \"0\": 1, \"9\": 17, \"56\": 3, \"27\": 3, \"29\": 1, \"14\": 1, \"8\": 2}, \"52\": {\"21\": 12, \"52\": 82, \"20\": 15, \"57\": 1, \"46\": 2, \"3\": 1, \"48\": 1, \"30\": 1, \"22\": 1, \"8\": 2}, \"39\": {\"14\": 2, \"39\": 12, \"33\": 1, \"55\": 1}, \"22\": {\"22\": 56, \"48\": 9, \"6\": 1, \"0\": 11, \"47\": 9, \"56\": 7, \"9\": 3, \"44\": 6, \"4\": 4, \"57\": 3, \"52\": 4, \"1\": 2, \"3\": 5, \"5\": 2, \"12\": 1, \"29\": 4, \"50\": 2, \"27\": 4, \"40\": 1, \"45\": 2, \"46\": 1, \"30\": 3}, \"13\": {\"13\": 114, \"7\": 2, \"51\": 7, \"29\": 1, \"43\": 4}, \"2\": {\"2\": 27, \"34\": 1, \"7\": 3, \"8\": 1}, \"34\": {\"35\": 2, \"34\": 24, \"17\": 3, \"55\": 1, \"36\": 1, \"43\": 1}, \"27\": {\"0\": 1, \"27\": 54, \"57\": 14, \"40\": 9, \"4\": 11, \"41\": 1, \"29\": 11, \"36\": 1, \"9\": 11, \"47\": 5, \"17\": 1, \"55\": 2, \"48\": 3, \"1\": 7, \"26\": 1}, \"45\": {\"45\": 34, \"5\": 5, \"0\": 3, \"3\": 2, \"50\": 2, \"44\": 3, \"12\": 3, \"30\": 5, \"6\": 1, \"52\": 2}, \"35\": {\"35\": 28}, \"29\": {\"29\": 79, \"47\": 2, \"32\": 1, \"27\": 12, \"4\": 13, \"17\": 2, \"1\": 5, \"57\": 7, \"36\": 1, \"34\": 1, \"9\": 4, \"55\": 1}, \"25\": {\"11\": 13, \"25\": 87, \"16\": 17, \"28\": 1, \"18\": 8, \"10\": 9, \"53\": 2, \"15\": 4, \"24\": 3}, \"0\": {\"0\": 86, \"5\": 10, \"56\": 5, \"8\": 2, \"44\": 1, \"30\": 8, \"22\": 3, \"45\": 3, \"1\": 1, \"50\": 2, \"27\": 2, \"3\": 1}, \"41\": {\"41\": 24, \"8\": 3, \"56\": 1}, \"11\": {\"25\": 9, \"11\": 91, \"16\": 19, \"10\": 12, \"53\": 7, \"18\": 1, \"15\": 3}, \"5\": {\"5\": 56, \"45\": 7, \"0\": 12, \"30\": 9, \"12\": 2, \"6\": 5, \"3\": 8, \"52\": 3, \"48\": 1, \"50\": 1, \"44\": 3, \"1\": 1}, \"1\": {\"1\": 39, \"57\": 8, \"27\": 6, \"47\": 6, \"48\": 9, \"29\": 2, \"9\": 8, \"40\": 7, \"4\": 13, \"17\": 1, \"30\": 1}, \"57\": {\"27\": 11, \"57\": 63, \"47\": 5, \"1\": 8, \"29\": 4, \"48\": 3, \"40\": 8, \"9\": 7, \"4\": 7}, \"17\": {\"17\": 72, \"29\": 6, \"36\": 12, \"10\": 1, \"55\": 8, \"23\": 3, \"34\": 1, \"32\": 2, \"14\": 2, \"15\": 1}, \"7\": {\"39\": 1, \"7\": 26, \"33\": 3, \"14\": 1, \"2\": 2, \"26\": 1, \"41\": 1, \"43\": 1}, \"12\": {\"12\": 46, \"6\": 6, \"0\": 3, \"5\": 13, \"30\": 2, \"46\": 2, \"45\": 3, \"3\": 9, \"50\": 6, \"44\": 1, \"22\": 1}, \"47\": {\"29\": 2, \"47\": 33, \"22\": 10, \"0\": 6, \"38\": 1, \"57\": 4, \"41\": 2, \"4\": 4, \"48\": 6, \"1\": 5, \"8\": 2, \"27\": 3, \"40\": 9, \"44\": 3, \"9\": 2}, \"40\": {\"47\": 4, \"40\": 60, \"56\": 3, \"9\": 23, \"4\": 5, \"1\": 10, \"48\": 11, \"22\": 3, \"57\": 8, \"29\": 1, \"8\": 3, \"27\": 3, \"0\": 2}, \"15\": {\"15\": 106, \"16\": 9, \"49\": 1, \"17\": 1, \"11\": 3, \"23\": 2, \"54\": 6, \"10\": 2, \"53\": 6, \"25\": 4, \"18\": 1, \"55\": 1}, \"42\": {\"42\": 19, \"55\": 4, \"26\": 1, \"29\": 1, \"35\": 2, \"43\": 1}, \"55\": {\"36\": 22, \"55\": 92, \"42\": 2, \"49\": 1, \"24\": 5, \"23\": 9, \"17\": 11, \"29\": 1, \"15\": 1, \"43\": 3, \"34\": 1, \"35\": 1, \"53\": 1}, \"49\": {\"49\": 12, \"33\": 1, \"7\": 2, \"38\": 1, \"2\": 1, \"43\": 1, \"24\": 2}, \"30\": {\"30\": 85, \"45\": 5, \"6\": 2, \"3\": 8, \"52\": 2, \"44\": 1, \"12\": 3, \"0\": 3, \"5\": 6, \"8\": 2, \"50\": 3}, \"50\": {\"50\": 49, \"22\": 9, \"6\": 7, \"44\": 1, \"0\": 8, \"47\": 3, \"12\": 9, \"3\": 14, \"56\": 8, \"5\": 6, \"30\": 9, \"20\": 1, \"48\": 1, \"57\": 2, \"46\": 4, \"45\": 1, \"21\": 2}, \"4\": {\"9\": 3, \"4\": 99, \"1\": 7, \"27\": 10, \"55\": 1, \"57\": 8, \"40\": 2, \"48\": 2, \"29\": 3, \"47\": 1}}, \"C_4\": {\"35\": {\"14\": 1, \"35\": 21, \"32\": 1, \"33\": 3, \"19\": 2, \"55\": 5, \"42\": 3, \"17\": 1, \"34\": 2, \"36\": 1}, \"25\": {\"25\": 83, \"16\": 7, \"24\": 1, \"11\": 15, \"18\": 13, \"10\": 6, \"15\": 7, \"53\": 1, \"54\": 1}, \"24\": {\"24\": 56}, \"48\": {\"48\": 90, \"57\": 10, \"1\": 3, \"9\": 9, \"29\": 2, \"8\": 3, \"13\": 2, \"27\": 8, \"47\": 5, \"4\": 2, \"44\": 2, \"40\": 2}, \"51\": {\"51\": 104, \"13\": 15, \"41\": 3, \"23\": 1, \"43\": 17, \"21\": 1, \"49\": 1, \"36\": 2}, \"13\": {\"13\": 114, \"27\": 1, \"29\": 2, \"51\": 2, \"9\": 1}, \"14\": {\"14\": 5, \"38\": 1, \"17\": 2, \"39\": 2, \"27\": 2, \"8\": 1, \"41\": 1, \"37\": 1, \"48\": 1}, \"32\": {\"14\": 3, \"32\": 12, \"23\": 3, \"49\": 1, \"2\": 1, \"24\": 1, \"17\": 1, \"38\": 2}, \"30\": {\"30\": 32, \"1\": 1, \"6\": 3, \"50\": 3, \"45\": 1, \"5\": 2, \"3\": 1, \"56\": 1}, \"34\": {\"14\": 1, \"34\": 21, \"42\": 1, \"33\": 1}, \"9\": {\"9\": 80, \"13\": 3, \"21\": 1, \"29\": 1, \"4\": 10, \"2\": 1, \"40\": 14, \"44\": 3, \"57\": 7, \"47\": 2, \"48\": 9, \"8\": 3, \"27\": 1, \"56\": 1}, \"1\": {\"1\": 24, \"47\": 1, \"48\": 6, \"57\": 2, \"27\": 2, \"40\": 2, \"9\": 1, \"4\": 2}, \"0\": {\"22\": 3, \"0\": 54, \"57\": 1, \"8\": 2, \"12\": 3, \"20\": 2, \"52\": 6, \"46\": 5, \"21\": 2, \"56\": 2}, \"38\": {\"32\": 2, \"38\": 28, \"55\": 3, \"36\": 2, \"39\": 2, \"23\": 1, \"2\": 2}, \"22\": {\"30\": 6, \"50\": 9, \"22\": 50, \"1\": 1, \"6\": 13, \"56\": 2, \"5\": 10, \"46\": 8, \"12\": 7, \"3\": 12, \"40\": 1, \"57\": 1, \"52\": 3, \"8\": 1, \"0\": 2, \"45\": 2}, \"40\": {\"40\": 60, \"20\": 3, \"48\": 16, \"56\": 8, \"47\": 5, \"4\": 1, \"8\": 1, \"52\": 1, \"9\": 18, \"1\": 4, \"57\": 1, \"44\": 1, \"29\": 1}, \"6\": {\"6\": 77, \"50\": 4, \"30\": 6, \"5\": 17, \"3\": 2, \"22\": 5, \"46\": 1}, \"16\": {\"11\": 7, \"16\": 62, \"53\": 5, \"10\": 5, \"25\": 5, \"18\": 3, \"15\": 5, \"54\": 2, \"31\": 2}, \"11\": {\"16\": 9, \"11\": 54, \"15\": 13, \"10\": 11, \"25\": 5, \"53\": 8, \"54\": 3, \"31\": 1}, \"20\": {\"20\": 90, \"8\": 3, \"21\": 14, \"0\": 5, \"12\": 3, \"46\": 2, \"22\": 1, \"27\": 1, \"52\": 1, \"3\": 1, \"9\": 1}, \"17\": {\"17\": 62, \"35\": 3, \"28\": 1, \"7\": 1, \"42\": 1, \"55\": 9, \"36\": 1, \"33\": 1, \"23\": 1}, \"26\": {\"34\": 1, \"19\": 1, \"26\": 16, \"28\": 2, \"23\": 2, \"35\": 2}, \"54\": {\"54\": 100, \"10\": 1, \"23\": 3, \"16\": 2, \"24\": 1, \"11\": 1}, \"55\": {\"55\": 107, \"17\": 5, \"33\": 5, \"23\": 9, \"49\": 1, \"35\": 4, \"7\": 4, \"42\": 5, \"36\": 6, \"54\": 2, \"43\": 1, \"32\": 2, \"11\": 1, \"24\": 1, \"53\": 1}, \"50\": {\"20\": 2, \"50\": 47, \"6\": 7, \"3\": 17, \"45\": 13, \"22\": 11, \"21\": 7, \"30\": 2, \"5\": 4, \"44\": 8, \"9\": 1, \"12\": 4, \"0\": 1, \"18\": 1, \"56\": 1, \"46\": 4, \"40\": 1, \"52\": 1}, \"19\": {\"19\": 135, \"28\": 3, \"15\": 1, \"16\": 1, \"54\": 1, \"55\": 1}, \"44\": {\"48\": 6, \"44\": 85, \"40\": 7, \"22\": 1, \"4\": 5, \"9\": 8, \"52\": 2, \"50\": 2, \"45\": 1, \"3\": 2, \"57\": 1, \"8\": 1, \"56\": 1}, \"47\": {\"47\": 44, \"1\": 2, \"29\": 10, \"48\": 8, \"40\": 6, \"56\": 13, \"44\": 9, \"57\": 8, \"27\": 5, \"9\": 7, \"4\": 5, \"50\": 1, \"8\": 2}, \"33\": {\"33\": 30, \"42\": 1, \"55\": 1, \"17\": 2, \"34\": 1, \"7\": 1}, \"5\": {\"50\": 4, \"6\": 19, \"5\": 51, \"30\": 9, \"46\": 4, \"45\": 3, \"3\": 5, \"22\": 9, \"12\": 4}, \"18\": {\"18\": 78, \"25\": 6, \"10\": 5, \"54\": 2, \"53\": 2, \"11\": 6, \"55\": 1, \"15\": 4, \"31\": 1, \"41\": 1, \"24\": 1, \"23\": 1}, \"21\": {\"21\": 95, \"0\": 2, \"20\": 10, \"6\": 3, \"50\": 4, \"46\": 2, \"52\": 3, \"12\": 2, \"57\": 1, \"3\": 2}, \"41\": {\"40\": 2, \"41\": 28, \"39\": 1, \"43\": 1, \"29\": 1, \"55\": 1, \"14\": 1, \"27\": 1}, \"23\": {\"39\": 2, \"41\": 1, \"32\": 3, \"23\": 69, \"10\": 3, \"15\": 2, \"49\": 1, \"24\": 5, \"2\": 1, \"17\": 4, \"42\": 1, \"54\": 12, \"55\": 8, \"36\": 10, \"11\": 1, \"53\": 1, \"38\": 1, \"50\": 1, \"27\": 1, \"29\": 1}, \"39\": {\"39\": 17, \"14\": 1, \"32\": 1, \"49\": 1}, \"37\": {\"37\": 22, \"51\": 2}, \"8\": {\"20\": 18, \"8\": 76, \"27\": 4, \"29\": 2, \"12\": 6, \"50\": 1, \"0\": 3, \"9\": 3, \"52\": 14, \"48\": 4, \"46\": 1, \"47\": 3, \"6\": 1, \"22\": 1, \"21\": 6, \"13\": 1}, \"49\": {\"49\": 9, \"35\": 1, \"17\": 2, \"32\": 3, \"55\": 1, \"39\": 2, \"2\": 1, \"42\": 1}, \"53\": {\"24\": 2, \"53\": 99, \"11\": 8, \"15\": 17, \"16\": 7, \"10\": 2, \"31\": 1, \"43\": 4}, \"31\": {\"54\": 2, \"31\": 24, \"11\": 1, \"10\": 1}, \"28\": {\"28\": 22, \"19\": 5, \"18\": 1, \"25\": 1, \"31\": 1, \"23\": 1, \"10\": 1}, \"3\": {\"3\": 76, \"12\": 3, \"45\": 2, \"21\": 1, \"6\": 6, \"5\": 2, \"50\": 12, \"22\": 8, \"46\": 9, \"8\": 1, \"30\": 2, \"0\": 1, \"20\": 1}, \"27\": {\"27\": 60, \"48\": 19, \"29\": 13, \"4\": 9, \"9\": 13, \"2\": 2, \"47\": 5, \"57\": 7, \"36\": 3, \"38\": 1, \"40\": 4, \"55\": 2}, \"46\": {\"6\": 7, \"46\": 44, \"8\": 7, \"3\": 15, \"50\": 12, \"5\": 11, \"45\": 1, \"56\": 3, \"22\": 12, \"0\": 5, \"12\": 3, \"20\": 1, \"21\": 1, \"47\": 3, \"52\": 1, \"9\": 1, \"40\": 1}, \"12\": {\"21\": 3, \"46\": 10, \"12\": 35, \"56\": 3, \"0\": 5, \"50\": 6, \"45\": 1, \"22\": 11, \"5\": 5, \"52\": 4, \"3\": 7, \"6\": 1, \"8\": 1}, \"7\": {\"7\": 17, \"36\": 1, \"39\": 1, \"13\": 1, \"34\": 2, \"23\": 2}, \"4\": {\"27\": 11, \"4\": 87, \"1\": 1, \"9\": 9, \"40\": 3, \"56\": 2, \"48\": 5, \"57\": 4, \"47\": 2, \"36\": 1, \"29\": 3, \"43\": 1, \"44\": 2, \"13\": 1}, \"42\": {\"42\": 19, \"23\": 1, \"33\": 4, \"35\": 2, \"17\": 3, \"28\": 1, \"55\": 1, \"26\": 1}, \"43\": {\"43\": 122, \"51\": 4, \"42\": 1, \"7\": 1, \"38\": 1, \"13\": 1}, \"29\": {\"29\": 95, \"27\": 11, \"57\": 4, \"4\": 5, \"36\": 1, \"47\": 1, \"1\": 2, \"48\": 1}, \"57\": {\"48\": 12, \"57\": 72, \"29\": 3, \"9\": 6, \"4\": 4, \"40\": 1, \"47\": 2}, \"52\": {\"46\": 4, \"8\": 8, \"52\": 81, \"0\": 4, \"47\": 1, \"9\": 1, \"50\": 1, \"12\": 4}, \"45\": {\"45\": 74, \"5\": 4, \"21\": 1, \"6\": 5, \"12\": 1, \"50\": 4, \"3\": 2, \"44\": 2, \"30\": 1, \"47\": 1, \"22\": 1}, \"36\": {\"36\": 82, \"39\": 1, \"17\": 2, \"41\": 1, \"55\": 4, \"23\": 1, \"54\": 1}, \"10\": {\"10\": 110, \"15\": 6, \"53\": 1, \"11\": 3, \"16\": 4, \"25\": 2}, \"15\": {\"15\": 79, \"53\": 18, \"11\": 14, \"16\": 6, \"54\": 3, \"23\": 2, \"25\": 2, \"24\": 1, \"10\": 6, \"18\": 1, \"43\": 2}, \"56\": {\"56\": 81, \"29\": 1, \"44\": 16, \"8\": 3, \"47\": 5, \"9\": 3, \"48\": 4, \"4\": 1, \"40\": 5, \"57\": 3, \"50\": 1, \"52\": 1}, \"2\": {\"2\": 31, \"14\": 1, \"55\": 1, \"29\": 1, \"39\": 1, \"43\": 1}}, \"W_2\": {\"91\": {\"91\": 17, \"45\": 1, \"116\": 2, \"125\": 1, \"42\": 1, \"121\": 1, \"9\": 1, \"37\": 1, \"47\": 1, \"75\": 1, \"24\": 1}, \"12\": {\"106\": 6, \"96\": 1, \"12\": 41, \"87\": 1, \"62\": 2, \"16\": 5, \"101\": 6, \"78\": 3, \"122\": 2, \"7\": 2, \"105\": 4, \"1\": 1, \"126\": 1, \"3\": 4, \"93\": 3, \"84\": 1, \"23\": 1, \"36\": 2, \"11\": 1, \"40\": 1}, \"101\": {\"101\": 133, \"106\": 6, \"23\": 1, \"12\": 2, \"7\": 3, \"93\": 1, \"109\": 1, \"26\": 1}, \"121\": {\"91\": 5, \"129\": 1, \"64\": 1, \"92\": 2, \"121\": 10, \"63\": 1, \"41\": 2, \"50\": 1, \"109\": 1, \"34\": 1, \"124\": 1, \"82\": 1, \"117\": 1, \"123\": 1, \"90\": 2, \"58\": 1, \"67\": 1, \"107\": 1, \"5\": 2}, \"118\": {\"118\": 27, \"12\": 1, \"15\": 5, \"0\": 5, \"58\": 2, \"88\": 1, \"94\": 2, \"113\": 3, \"30\": 1, \"122\": 4, \"27\": 1, \"16\": 2, \"109\": 1, \"8\": 1, \"87\": 4, \"43\": 1, \"11\": 3, \"110\": 1, \"36\": 1, \"26\": 2}, \"10\": {\"126\": 3, \"70\": 7, \"10\": 32, \"87\": 2, \"109\": 5, \"88\": 2, \"43\": 1, \"24\": 4, \"27\": 1, \"30\": 2, \"39\": 1}, \"117\": {\"117\": 73, \"120\": 2, \"90\": 3, \"2\": 1, \"104\": 1, \"116\": 1, \"125\": 7, \"5\": 13, \"111\": 6, \"127\": 1, \"124\": 4, \"65\": 1, \"108\": 1, \"13\": 2, \"73\": 1, \"44\": 1, \"4\": 2}, \"110\": {\"110\": 21, \"118\": 1, \"103\": 1, \"8\": 2, \"109\": 1, \"70\": 1, \"14\": 1, \"18\": 4, \"67\": 1, \"126\": 1, \"36\": 1, \"15\": 1, \"7\": 3, \"16\": 1}, \"97\": {\"97\": 11, \"15\": 2, \"0\": 2, \"12\": 3, \"106\": 1, \"94\": 1}, \"28\": {\"28\": 9, \"121\": 1, \"120\": 1, \"66\": 1, \"57\": 1, \"89\": 1, \"85\": 1, \"55\": 1, \"46\": 2, \"42\": 1, \"129\": 1}, \"88\": {\"88\": 79, \"24\": 6, \"70\": 12, \"43\": 1, \"126\": 5, \"78\": 3, \"10\": 1, \"39\": 3, \"109\": 7, \"87\": 1, \"21\": 4, \"108\": 2}, \"17\": {\"17\": 3, \"86\": 1, \"67\": 1, \"48\": 5, \"65\": 1, \"111\": 1, \"102\": 2, \"6\": 1, \"104\": 1}, \"126\": {\"10\": 5, \"126\": 52, \"24\": 5, \"27\": 1, \"78\": 2, \"108\": 9, \"70\": 11, \"88\": 7, \"43\": 3, \"11\": 1, \"90\": 1, \"39\": 7, \"87\": 4, \"109\": 2, \"122\": 3, \"41\": 1}, \"33\": {\"33\": 107, \"81\": 1, \"1\": 1, \"114\": 1, \"8\": 1, \"69\": 4, \"43\": 1, \"14\": 2, \"75\": 1, \"39\": 1, \"95\": 1, \"40\": 4, \"70\": 1, \"88\": 1, \"16\": 1}, \"86\": {\"17\": 1, \"86\": 20, \"42\": 1, \"125\": 2, \"6\": 1, \"37\": 1, \"124\": 1, \"102\": 1, \"13\": 2, \"116\": 1, \"2\": 1}, \"106\": {\"106\": 47, \"62\": 2, \"96\": 2, \"108\": 2, \"20\": 1, \"12\": 7, \"30\": 4, \"0\": 2, \"3\": 16, \"101\": 15, \"93\": 2, \"8\": 2, \"122\": 1, \"114\": 2, \"126\": 1, \"71\": 2, \"15\": 2, \"88\": 2, \"78\": 1, \"16\": 2, \"21\": 1, \"84\": 1, \"1\": 1, \"36\": 1, \"70\": 1}, \"54\": {\"54\": 10, \"61\": 1, \"31\": 1, \"51\": 1, \"5\": 1, \"91\": 1, \"100\": 2, \"2\": 1, \"32\": 1, \"14\": 1}, \"125\": {\"125\": 107, \"86\": 2, \"124\": 8, \"111\": 9, \"102\": 1, \"22\": 1, \"2\": 2, \"5\": 1, \"117\": 1}, \"83\": {\"32\": 1, \"106\": 1, \"51\": 1, \"6\": 2, \"89\": 1, \"8\": 1, \"52\": 2, \"90\": 3, \"93\": 1, \"83\": 17, \"84\": 2, \"54\": 1, \"25\": 1, \"119\": 2, \"0\": 1, \"42\": 1, \"96\": 1, \"109\": 1}, \"98\": {\"98\": 105, \"38\": 1, \"44\": 3, \"34\": 1, \"9\": 2, \"127\": 3, \"53\": 1, \"26\": 1, \"32\": 2, \"117\": 1}, \"11\": {\"11\": 51, \"27\": 6, \"122\": 3, \"36\": 5, \"0\": 1, \"30\": 3, \"24\": 1, \"94\": 2, \"108\": 5, \"39\": 1, \"88\": 1, \"43\": 1}, \"32\": {\"32\": 14, \"54\": 2, \"99\": 1, \"17\": 1, \"19\": 1, \"53\": 1, \"38\": 1, \"58\": 2, \"9\": 2, \"3\": 1, \"14\": 1, \"98\": 3, \"107\": 1, \"60\": 1, \"44\": 1, \"114\": 2, \"95\": 1}, \"42\": {\"42\": 16, \"121\": 1, \"29\": 3, \"91\": 1, \"99\": 1, \"129\": 2, \"123\": 2, \"6\": 1, \"46\": 1}, \"103\": {\"103\": 6, \"77\": 1, \"73\": 1, \"63\": 3, \"76\": 1, \"85\": 3, \"28\": 1}, \"87\": {\"11\": 4, \"87\": 43, \"122\": 2, \"30\": 5, \"10\": 3, \"108\": 7, \"109\": 4, \"36\": 4, \"39\": 6, \"70\": 2, \"43\": 9, \"88\": 1, \"24\": 3, \"8\": 2, \"110\": 2, \"126\": 9, \"113\": 1, \"94\": 2, \"27\": 2, \"78\": 1}, \"61\": {\"97\": 1, \"15\": 1, \"24\": 1, \"120\": 1, \"40\": 1, \"61\": 6, \"128\": 1, \"39\": 1, \"32\": 1, \"21\": 1, \"38\": 1, \"42\": 1, \"29\": 1, \"119\": 1, \"99\": 1}, \"13\": {\"13\": 3, \"59\": 1, \"78\": 1, \"80\": 3, \"116\": 2, \"37\": 1, \"41\": 1, \"117\": 1, \"65\": 1, \"102\": 1, \"27\": 1}, \"4\": {\"4\": 60, \"13\": 1, \"116\": 1, \"79\": 1, \"42\": 2, \"39\": 1, \"124\": 3, \"24\": 1, \"90\": 1, \"125\": 9, \"104\": 2, \"86\": 1, \"129\": 1, \"2\": 1, \"109\": 1}, \"15\": {\"15\": 67, \"118\": 2, \"36\": 2, \"88\": 1, \"94\": 3, \"108\": 2, \"101\": 2, \"12\": 2, \"23\": 3, \"7\": 3, \"8\": 13, \"39\": 2, \"0\": 3, \"106\": 2, \"93\": 1, \"30\": 2, \"16\": 1, \"122\": 5, \"105\": 1, \"43\": 2, \"70\": 1}, \"120\": {\"80\": 1, \"129\": 1, \"120\": 15, \"47\": 1, \"66\": 1, \"125\": 1}, \"80\": {\"80\": 10, \"116\": 1, \"13\": 1, \"17\": 1, \"104\": 2, \"111\": 1}, \"72\": {\"72\": 13, \"35\": 1, \"127\": 2, \"16\": 1, \"14\": 4, \"114\": 2, \"107\": 2, \"33\": 2, \"31\": 1}, \"64\": {\"64\": 7, \"92\": 1, \"0\": 1, \"111\": 1, \"55\": 1, \"85\": 1, \"67\": 1, \"63\": 2, \"45\": 1}, \"81\": {\"81\": 9, \"92\": 1, \"108\": 1, \"72\": 1, \"33\": 2, \"82\": 4, \"73\": 1, \"18\": 1, \"91\": 1, \"1\": 1, \"16\": 1, \"34\": 1}, \"102\": {\"102\": 90, \"6\": 2, \"117\": 1, \"86\": 3, \"5\": 1, \"125\": 5, \"44\": 1, \"111\": 5, \"80\": 1, \"104\": 1, \"91\": 1, \"124\": 1}, \"76\": {\"121\": 1, \"35\": 1, \"76\": 2, \"75\": 2, \"128\": 2, \"25\": 2, \"64\": 1, \"123\": 1, \"42\": 1, \"52\": 1, \"99\": 1, \"92\": 1}, \"49\": {\"72\": 3, \"49\": 13, \"66\": 1, \"121\": 1, \"60\": 1, \"51\": 1, \"75\": 1, \"8\": 1, \"90\": 1, \"1\": 1}, \"129\": {\"89\": 2, \"64\": 1, \"2\": 2, \"92\": 2, \"50\": 1, \"129\": 4, \"66\": 2, \"13\": 2, \"111\": 2, \"65\": 1, \"63\": 1, \"42\": 2, \"17\": 2, \"121\": 1, \"90\": 1, \"6\": 1, \"57\": 2, \"85\": 1, \"28\": 2}, \"89\": {\"64\": 1, \"76\": 1, \"82\": 3, \"89\": 5, \"44\": 1, \"28\": 1, \"72\": 1, \"49\": 1, \"103\": 1, \"52\": 1, \"111\": 2, \"66\": 1, \"38\": 1, \"109\": 1, \"27\": 2, \"126\": 1, \"19\": 1, \"92\": 2, \"20\": 1, \"13\": 1, \"85\": 1, \"99\": 2, \"9\": 1, \"67\": 1, \"117\": 1, \"5\": 1}, \"52\": {\"89\": 2, \"61\": 1, \"50\": 1, \"123\": 1, \"52\": 8, \"119\": 1, \"44\": 1, \"38\": 1, \"99\": 1, \"42\": 1, \"90\": 1, \"47\": 1}, \"35\": {\"35\": 11, \"49\": 1}, \"53\": {\"53\": 14, \"35\": 1, \"98\": 1}, \"26\": {\"26\": 61, \"18\": 17, \"84\": 7, \"32\": 1, \"1\": 4, \"114\": 1, \"69\": 4, \"127\": 4, \"3\": 2, \"62\": 18, \"101\": 1, \"24\": 2, \"44\": 1, \"8\": 1, \"71\": 1, \"78\": 1, \"12\": 1, \"36\": 1}, \"96\": {\"35\": 1, \"18\": 1, \"62\": 1, \"96\": 6, \"106\": 5, \"8\": 1, \"60\": 1, \"26\": 2, \"23\": 1, \"122\": 1}, \"27\": {\"11\": 8, \"27\": 27, \"21\": 3, \"94\": 1, \"126\": 2, \"109\": 2, \"70\": 3, \"30\": 1, \"24\": 3, \"122\": 1, \"108\": 5, \"88\": 3, \"43\": 2, \"39\": 2, \"36\": 3, \"10\": 1, \"78\": 1}, \"24\": {\"24\": 79, \"88\": 7, \"27\": 2, \"21\": 1, \"70\": 8, \"78\": 3, \"10\": 3, \"126\": 2, \"39\": 5, \"109\": 2}, \"82\": {\"82\": 28, \"89\": 1, \"108\": 1, \"46\": 1, \"39\": 1, \"21\": 1, \"81\": 1, \"117\": 1, \"10\": 1}, \"18\": {\"18\": 81, \"23\": 1, \"84\": 1, \"109\": 1, \"26\": 17, \"78\": 1, \"105\": 2, \"122\": 1, \"62\": 11, \"71\": 1, \"44\": 1, \"126\": 1, \"113\": 1, \"10\": 1, \"8\": 1, \"24\": 1, \"3\": 1, \"1\": 2, \"69\": 2}, \"69\": {\"18\": 2, \"33\": 15, \"69\": 77, \"1\": 4, \"105\": 1, \"3\": 2, \"70\": 2, \"95\": 2, \"99\": 1, \"84\": 2, \"26\": 1, \"44\": 2, \"40\": 3, \"15\": 1, \"88\": 2, \"62\": 5}, \"47\": {\"99\": 2, \"60\": 1, \"47\": 5, \"129\": 1, \"54\": 1, \"65\": 1, \"38\": 1}, \"85\": {\"2\": 4, \"63\": 1, \"85\": 14, \"73\": 2, \"96\": 1, \"41\": 1, \"104\": 2, \"5\": 2, \"68\": 1, \"92\": 1, \"45\": 1, \"103\": 1, \"75\": 1}, \"2\": {\"47\": 1, \"91\": 1, \"2\": 11, \"119\": 1, \"41\": 2, \"82\": 1, \"57\": 2, \"27\": 1, \"66\": 1, \"73\": 2, \"42\": 2, \"92\": 2, \"125\": 1, \"67\": 1, \"111\": 1, \"44\": 1, \"117\": 1}, \"67\": {\"67\": 13, \"115\": 2, \"24\": 1}, \"39\": {\"70\": 11, \"39\": 49, \"88\": 7, \"87\": 8, \"78\": 3, \"109\": 7, \"27\": 2, \"0\": 1, \"108\": 3, \"126\": 7, \"24\": 5, \"30\": 1, \"10\": 2, \"43\": 4, \"11\": 1, \"44\": 1}, \"99\": {\"99\": 18, \"49\": 1, \"54\": 1, \"98\": 4, \"38\": 1, \"61\": 1, \"52\": 1, \"20\": 1, \"77\": 1, \"114\": 1, \"53\": 1, \"9\": 1}, \"74\": {\"74\": 9, \"31\": 2, \"19\": 1, \"21\": 1, \"114\": 1, \"91\": 1, \"70\": 1}, \"105\": {\"105\": 66, \"62\": 4, \"3\": 4, \"60\": 1, \"23\": 3, \"16\": 9, \"101\": 2, \"106\": 5, \"8\": 3, \"0\": 2, \"12\": 4, \"71\": 3, \"7\": 5, \"26\": 5, \"93\": 6, \"18\": 3, \"109\": 3, \"88\": 1, \"14\": 2, \"36\": 1}, \"70\": {\"70\": 54, \"88\": 10, \"126\": 9, \"78\": 2, \"21\": 1, \"109\": 10, \"24\": 5, \"39\": 6, \"87\": 9, \"10\": 2, \"43\": 3, \"122\": 4, \"108\": 6, \"90\": 1}, \"55\": {\"99\": 1, \"2\": 1, \"73\": 1, \"55\": 9, \"54\": 1, \"107\": 1, \"121\": 2}, \"30\": {\"30\": 57, \"7\": 1, \"97\": 2, \"8\": 7, \"94\": 3, \"118\": 3, \"36\": 10, \"11\": 2, \"122\": 6, \"0\": 2, \"87\": 2, \"108\": 5, \"24\": 1, \"53\": 1, \"16\": 3, \"43\": 2, \"15\": 1, \"88\": 1, \"126\": 2, \"93\": 1}, \"60\": {\"60\": 14, \"108\": 2, \"21\": 1, \"0\": 2, \"96\": 1, \"106\": 1, \"8\": 1, \"94\": 1, \"97\": 3, \"105\": 1, \"72\": 1}, \"92\": {\"92\": 10, \"31\": 1, \"44\": 2, \"81\": 1, \"25\": 1, \"6\": 1, \"57\": 4, \"27\": 1, \"103\": 1, \"121\": 1, \"76\": 1, \"18\": 1, \"46\": 1, \"82\": 1, \"29\": 1}, \"45\": {\"63\": 3, \"45\": 5, \"117\": 1, \"5\": 1, \"129\": 1, \"64\": 1, \"67\": 1, \"22\": 1, \"103\": 1, \"88\": 1}, \"127\": {\"127\": 91, \"71\": 4, \"106\": 2, \"84\": 1, \"1\": 1, \"15\": 1, \"3\": 2, \"40\": 1, \"69\": 1, \"41\": 1, \"8\": 1, \"101\": 3, \"62\": 2, \"122\": 1}, \"9\": {\"108\": 1, \"9\": 23, \"77\": 1, \"98\": 4, \"10\": 1, \"44\": 2}, \"115\": {\"120\": 1, \"63\": 1, \"115\": 7, \"48\": 2, \"124\": 1}, \"73\": {\"73\": 22, \"90\": 1, \"1\": 1, \"57\": 2, \"19\": 1, \"54\": 1}, \"108\": {\"108\": 94, \"15\": 3, \"11\": 8, \"109\": 3, \"24\": 1, \"43\": 5, \"39\": 1, \"36\": 3, \"87\": 2, \"126\": 6, \"88\": 2, \"8\": 1, \"27\": 3, \"94\": 2, \"30\": 1, \"0\": 2, \"70\": 1}, \"114\": {\"114\": 89, \"32\": 1, \"44\": 1, \"107\": 2, \"40\": 3, \"88\": 1, \"83\": 1, \"84\": 4, \"1\": 2, \"127\": 2, \"100\": 3, \"14\": 2, \"70\": 1, \"12\": 1, \"39\": 1, \"69\": 2}, \"63\": {\"63\": 11, \"104\": 2, \"57\": 1, \"86\": 2, \"103\": 1, \"76\": 1, \"91\": 1, \"28\": 1}, \"93\": {\"110\": 3, \"71\": 1, \"93\": 58, \"14\": 1, \"39\": 1, \"94\": 2, \"7\": 12, \"101\": 4, \"0\": 3, \"12\": 3, \"8\": 1, \"36\": 2, \"106\": 2, \"113\": 4, \"16\": 9, \"108\": 3, \"105\": 7, \"62\": 1, \"24\": 1, \"23\": 2, \"43\": 2, \"69\": 1, \"1\": 1, \"118\": 1, \"26\": 1, \"122\": 1, \"87\": 1}, \"7\": {\"7\": 69, \"3\": 2, \"106\": 6, \"101\": 8, \"15\": 2, \"16\": 10, \"8\": 3, \"93\": 6, \"12\": 5, \"113\": 3, \"36\": 2, \"30\": 1, \"105\": 8, \"122\": 3, \"0\": 4}, \"31\": {\"31\": 9, \"128\": 1, \"78\": 1, \"95\": 1, \"107\": 2, \"1\": 3, \"74\": 1, \"72\": 1, \"44\": 1}, \"123\": {\"19\": 1, \"123\": 8, \"52\": 1, \"25\": 1, \"116\": 1, \"77\": 1, \"56\": 1, \"59\": 1, \"92\": 1}, \"128\": {\"19\": 2, \"61\": 1, \"128\": 8, \"44\": 2, \"95\": 1, \"32\": 4, \"9\": 2, \"100\": 1, \"74\": 1, \"81\": 1, \"107\": 1}, \"0\": {\"3\": 2, \"0\": 78, \"24\": 3, \"69\": 1, \"12\": 2, \"98\": 1, \"39\": 1, \"8\": 6, \"106\": 2, \"122\": 2, \"7\": 3, \"30\": 2, \"15\": 6, \"36\": 1, \"94\": 1, \"105\": 1, \"83\": 1, \"118\": 1, \"43\": 1, \"88\": 1}, \"3\": {\"7\": 2, \"3\": 106, \"23\": 1, \"94\": 2, \"127\": 1, \"71\": 6, \"12\": 2, \"33\": 1, \"106\": 2, \"40\": 1, \"8\": 2, \"1\": 2, \"105\": 1, \"72\": 1, \"49\": 1, \"15\": 1, \"101\": 2, \"84\": 1, \"44\": 1}, \"19\": {\"74\": 1, \"47\": 2, \"19\": 13, \"9\": 1, \"51\": 1, \"83\": 1, \"103\": 1, \"29\": 1, \"114\": 1, \"32\": 1, \"42\": 1, \"68\": 1, \"50\": 1, \"73\": 2}, \"57\": {\"111\": 1, \"64\": 1, \"68\": 2, \"25\": 1, \"57\": 11, \"52\": 1, \"85\": 1, \"24\": 1, \"29\": 1}, \"78\": {\"78\": 27, \"39\": 6, \"126\": 2, \"21\": 2, \"24\": 4, \"88\": 3, \"70\": 1, \"10\": 3}, \"95\": {\"95\": 23, \"100\": 2, \"107\": 2, \"3\": 2, \"88\": 1, \"31\": 1, \"1\": 2, \"114\": 1, \"127\": 1, \"69\": 1}, \"40\": {\"40\": 56, \"95\": 3, \"100\": 1, \"1\": 14, \"107\": 2, \"44\": 4, \"75\": 1, \"122\": 3, \"3\": 4, \"33\": 7, \"114\": 11, \"84\": 5, \"71\": 6, \"126\": 2, \"109\": 1, \"127\": 4, \"26\": 3, \"18\": 1, \"69\": 2, \"112\": 1, \"27\": 1, \"34\": 1, \"98\": 1, \"88\": 1, \"70\": 2, \"39\": 1, \"36\": 1, \"16\": 1}, \"14\": {\"78\": 2, \"40\": 1, \"14\": 18, \"3\": 1, \"12\": 1, \"84\": 2, \"1\": 4, \"33\": 3, \"69\": 1, \"71\": 1, \"95\": 2, \"62\": 1, \"70\": 3, \"18\": 2, \"27\": 1, \"88\": 1, \"44\": 1, \"127\": 1, \"9\": 1, \"49\": 1}, \"36\": {\"36\": 76, \"87\": 1, \"10\": 3, \"108\": 5, \"94\": 6, \"11\": 4, \"21\": 1, \"27\": 11, \"88\": 3, \"126\": 1, \"122\": 4, \"24\": 2, \"15\": 2, \"30\": 3, \"43\": 3, \"23\": 2, \"70\": 1}, \"56\": {\"56\": 3, \"54\": 1, \"100\": 1, \"19\": 3, \"114\": 1, \"90\": 1, \"119\": 2}, \"111\": {\"111\": 109, \"65\": 2, \"124\": 11, \"24\": 1, \"117\": 1, \"90\": 1, \"5\": 2, \"16\": 1}, \"59\": {\"56\": 1, \"59\": 11, \"126\": 1, \"22\": 1, \"89\": 1, \"78\": 1}, \"79\": {\"79\": 12, \"5\": 1, \"121\": 1, \"90\": 1, \"48\": 1}, \"62\": {\"62\": 70, \"105\": 4, \"18\": 4, \"84\": 6, \"12\": 2, \"1\": 2, \"39\": 1, \"8\": 2, \"40\": 1, \"26\": 12, \"3\": 4, \"127\": 1, \"122\": 1, \"71\": 2, \"44\": 2, \"69\": 3, \"24\": 1, \"23\": 1, \"43\": 1, \"7\": 1, \"106\": 1}, \"21\": {\"21\": 48}, \"48\": {\"48\": 12, \"115\": 1, \"104\": 2, \"86\": 2, \"125\": 1, \"65\": 1, \"116\": 1}, \"16\": {\"118\": 1, \"16\": 39, \"15\": 7, \"12\": 4, \"110\": 5, \"105\": 10, \"94\": 2, \"101\": 5, \"113\": 6, \"26\": 1, \"88\": 2, \"7\": 12, \"62\": 6, \"36\": 2, \"69\": 2, \"122\": 2, \"93\": 6, \"24\": 1, \"18\": 1, \"108\": 1, \"8\": 3, \"0\": 2, \"39\": 1, \"1\": 1, \"30\": 1, \"106\": 1}, \"50\": {\"50\": 9, \"114\": 1, \"129\": 1, \"42\": 1, \"55\": 1, \"85\": 1, \"81\": 2}, \"44\": {\"51\": 1, \"44\": 64, \"75\": 2, \"38\": 1, \"12\": 2, \"101\": 5, \"98\": 6, \"15\": 2, \"106\": 3, \"117\": 1, \"34\": 3, \"122\": 1, \"20\": 1, \"58\": 1, \"40\": 1, \"3\": 1, \"26\": 1}, \"5\": {\"65\": 1, \"123\": 1, \"5\": 87, \"85\": 1, \"90\": 1, \"111\": 7, \"124\": 3, \"43\": 1, \"73\": 1, \"2\": 2, \"91\": 1, \"120\": 1, \"102\": 1, \"117\": 1, \"109\": 1}, \"20\": {\"51\": 2, \"44\": 1, \"3\": 1, \"76\": 1, \"20\": 3, \"89\": 2, \"19\": 1, \"68\": 1, \"16\": 1, \"122\": 1, \"126\": 1, \"90\": 1}, \"1\": {\"1\": 69, \"114\": 2, \"97\": 1, \"12\": 1, \"33\": 6, \"101\": 1, \"40\": 13, \"71\": 9, \"44\": 1, \"127\": 7, \"3\": 2, \"14\": 1, \"26\": 1, \"95\": 2, \"84\": 1, \"126\": 1, \"69\": 2}, \"65\": {\"65\": 16, \"24\": 1, \"85\": 1, \"87\": 1, \"111\": 1}, \"116\": {\"116\": 22, \"50\": 1, \"37\": 1, \"65\": 1, \"28\": 1, \"82\": 1, \"5\": 1}, \"51\": {\"128\": 1, \"51\": 14, \"106\": 1, \"94\": 1, \"40\": 1, \"49\": 1, \"36\": 1}, \"75\": {\"75\": 11, \"20\": 1, \"24\": 1, \"83\": 2, \"49\": 1}, \"100\": {\"100\": 8, \"95\": 1, \"71\": 1, \"114\": 2, \"40\": 1, \"1\": 1, \"3\": 1, \"33\": 1}, \"113\": {\"113\": 41, \"11\": 2, \"15\": 3, \"12\": 2, \"7\": 5, \"101\": 1, \"18\": 1, \"122\": 4, \"16\": 5, \"93\": 1, \"10\": 1, \"87\": 1, \"97\": 1, \"118\": 1, \"105\": 3}, \"41\": {\"29\": 2, \"41\": 9, \"116\": 3, \"42\": 2, \"86\": 2, \"22\": 1, \"77\": 1}, \"29\": {\"29\": 25, \"119\": 1, \"42\": 1, \"120\": 1, \"6\": 3, \"19\": 1}, \"23\": {\"23\": 11, \"87\": 1, \"71\": 1, \"94\": 4, \"106\": 1, \"12\": 1, \"3\": 3, \"27\": 1, \"113\": 1, \"0\": 2, \"15\": 1, \"101\": 5, \"8\": 1, \"110\": 1, \"16\": 2, \"105\": 1, \"84\": 1, \"1\": 2, \"30\": 2, \"122\": 1, \"7\": 1}, \"124\": {\"124\": 63, \"64\": 1, \"9\": 1, \"111\": 17, \"90\": 4, \"98\": 3, \"117\": 6, \"102\": 6, \"5\": 10, \"116\": 3, \"86\": 2, \"91\": 1, \"120\": 1, \"21\": 1, \"114\": 1, \"44\": 1, \"4\": 2, \"125\": 1}, \"68\": {\"64\": 3, \"50\": 2, \"68\": 5, \"19\": 1, \"89\": 1, \"46\": 3, \"24\": 1}, \"71\": {\"71\": 68, \"24\": 1, \"60\": 1, \"127\": 9, \"84\": 2, \"34\": 1, \"7\": 1, \"122\": 1, \"3\": 3, \"105\": 1, \"40\": 4, \"114\": 1, \"49\": 1, \"51\": 1, \"62\": 1, \"1\": 2, \"18\": 1, \"8\": 1}, \"107\": {\"107\": 41, \"95\": 2, \"119\": 1, \"114\": 2, \"39\": 1, \"109\": 1, \"112\": 2, \"42\": 1, \"122\": 1, \"88\": 1, \"8\": 1, \"56\": 2, \"74\": 2, \"91\": 2, \"14\": 1, \"40\": 1, \"34\": 2}, \"94\": {\"94\": 32, \"23\": 3, \"0\": 5, \"109\": 1, \"36\": 4, \"30\": 2, \"122\": 4, \"15\": 2, \"8\": 3, \"7\": 2, \"70\": 1, \"24\": 1, \"88\": 2, \"27\": 1, \"43\": 1}, \"77\": {\"76\": 2, \"25\": 1, \"129\": 2, \"66\": 1, \"40\": 1, \"77\": 5, \"39\": 1, \"98\": 1, \"6\": 1, \"112\": 1}, \"8\": {\"71\": 1, \"8\": 67, \"0\": 11, \"108\": 4, \"122\": 7, \"94\": 3, \"23\": 2, \"7\": 3, \"36\": 6, \"43\": 1, \"30\": 1, \"93\": 1, \"15\": 10, \"113\": 1, \"118\": 1, \"16\": 2, \"126\": 1}, \"46\": {\"46\": 11, \"77\": 1, \"107\": 1, \"55\": 1, \"90\": 1, \"111\": 1}, \"25\": {\"25\": 8, \"6\": 3, \"123\": 2, \"76\": 1, \"29\": 2}, \"122\": {\"88\": 2, \"93\": 5, \"36\": 6, \"122\": 60, \"15\": 7, \"106\": 1, \"11\": 5, \"118\": 3, \"23\": 1, \"113\": 2, \"7\": 3, \"0\": 5, \"94\": 2, \"30\": 7, \"16\": 1, \"126\": 1, \"109\": 1, \"87\": 4, \"105\": 1, \"43\": 9, \"8\": 5, \"27\": 3, \"81\": 1, \"39\": 2, \"110\": 1, \"26\": 1, \"108\": 1}, \"58\": {\"19\": 2, \"66\": 1, \"65\": 1, \"49\": 2, \"58\": 6, \"83\": 1, \"32\": 1, \"39\": 1, \"98\": 1, \"87\": 1, \"103\": 1, \"24\": 1, \"111\": 1}, \"6\": {\"6\": 17, \"119\": 2, \"90\": 1, \"111\": 2, \"125\": 1, \"98\": 1, \"25\": 1, \"129\": 3, \"29\": 2, \"92\": 1, \"124\": 1}, \"109\": {\"109\": 46, \"70\": 7, \"21\": 1, \"24\": 15, \"39\": 9, \"88\": 15, \"126\": 3, \"78\": 2, \"10\": 1, \"87\": 1}, \"119\": {\"51\": 1, \"98\": 1, \"32\": 2, \"119\": 9, \"28\": 1, \"112\": 2, \"85\": 1, \"116\": 1, \"2\": 1, \"86\": 1}, \"34\": {\"98\": 5, \"29\": 1, \"34\": 6, \"88\": 1, \"1\": 2, \"107\": 3, \"90\": 3, \"9\": 1, \"124\": 1, \"47\": 1, \"87\": 1, \"89\": 1, \"44\": 3, \"91\": 1, \"74\": 1, \"81\": 1}, \"90\": {\"51\": 1, \"90\": 92, \"34\": 1, \"40\": 5, \"14\": 1, \"42\": 2, \"6\": 3, \"124\": 9, \"83\": 2, \"98\": 3, \"84\": 1, \"71\": 1, \"114\": 3, \"53\": 1, \"28\": 1, \"25\": 2, \"47\": 2, \"119\": 1, \"77\": 1, \"29\": 1, \"121\": 1, \"111\": 1, \"69\": 1, \"120\": 2, \"95\": 1, \"44\": 1}, \"38\": {\"89\": 3, \"44\": 1, \"66\": 1, \"77\": 1, \"38\": 3, \"51\": 2, \"25\": 1, \"99\": 1, \"112\": 2, \"98\": 1}, \"104\": {\"29\": 1, \"104\": 8, \"86\": 1, \"5\": 1, \"48\": 3, \"8\": 1, \"57\": 1, \"6\": 1, \"102\": 1, \"117\": 2}, \"84\": {\"84\": 47, \"108\": 1, \"62\": 1, \"96\": 1, \"26\": 8, \"3\": 1, \"122\": 2, \"1\": 7, \"95\": 1, \"40\": 2, \"18\": 6, \"127\": 2, \"33\": 2, \"106\": 1, \"99\": 1, \"69\": 1, \"114\": 1, \"126\": 1, \"23\": 1, \"101\": 1, \"71\": 2, \"8\": 1, \"105\": 1}, \"112\": {\"112\": 4, \"29\": 1, \"119\": 1, \"28\": 1, \"107\": 1, \"90\": 2, \"34\": 1, \"68\": 1, \"47\": 1, \"99\": 1, \"32\": 1, \"127\": 1}, \"66\": {\"28\": 3, \"63\": 1, \"65\": 1, \"66\": 6, \"39\": 1, \"116\": 1, \"89\": 1, \"90\": 1, \"87\": 1, \"4\": 1, \"86\": 1, \"5\": 2}, \"22\": {\"22\": 12, \"25\": 1, \"125\": 2, \"27\": 1, \"91\": 1, \"42\": 1, \"116\": 1, \"29\": 1}, \"37\": {\"37\": 7, \"28\": 1, \"82\": 1, \"50\": 1, \"5\": 1, \"117\": 1, \"13\": 2, \"76\": 1, \"80\": 1}, \"43\": {\"43\": 51, \"36\": 8, \"122\": 10, \"8\": 3, \"126\": 4, \"118\": 2, \"27\": 2, \"70\": 6, \"39\": 3, \"94\": 2, \"11\": 7, \"108\": 8, \"87\": 8, \"109\": 1, \"88\": 4, \"60\": 1, \"30\": 4}}, \"C_5\": {\"47\": {\"44\": 4, \"1\": 14, \"48\": 7, \"47\": 29, \"3\": 1, \"27\": 4, \"57\": 6, \"56\": 5, \"29\": 6, \"40\": 6, \"4\": 7, \"9\": 4, \"30\": 1, \"5\": 4, \"8\": 1, \"17\": 1}, \"53\": {\"53\": 118, \"37\": 1, \"54\": 12, \"24\": 3, \"31\": 2, \"10\": 1, \"23\": 3, \"43\": 6, \"55\": 1, \"15\": 2, \"11\": 1}, \"29\": {\"29\": 92, \"13\": 1, \"48\": 8, \"47\": 3, \"1\": 2, \"27\": 18, \"17\": 2}, \"52\": {\"47\": 1, \"52\": 114, \"8\": 1, \"20\": 5, \"12\": 3, \"30\": 1, \"5\": 1, \"0\": 3, \"48\": 1}, \"55\": {\"33\": 2, \"55\": 117, \"42\": 1, \"17\": 6, \"23\": 6, \"53\": 2, \"36\": 3, \"54\": 2, \"19\": 3, \"31\": 1, \"49\": 1}, \"17\": {\"17\": 69, \"29\": 2, \"34\": 3, \"41\": 4, \"32\": 6, \"49\": 1, \"36\": 3, \"31\": 1, \"35\": 1, \"55\": 11, \"23\": 4, \"40\": 1, \"48\": 2, \"27\": 6, \"54\": 2}, \"42\": {\"42\": 31, \"36\": 3, \"31\": 2, \"34\": 1, \"55\": 1, \"39\": 1, \"14\": 1}, \"33\": {\"33\": 28, \"55\": 2, \"35\": 1, \"34\": 1}, \"11\": {\"11\": 103, \"16\": 18, \"26\": 5, \"18\": 2, \"15\": 15, \"25\": 4, \"54\": 1}, \"19\": {\"19\": 114, \"33\": 1, \"15\": 1, \"16\": 1, \"23\": 1}, \"1\": {\"1\": 92, \"56\": 1, \"48\": 13, \"40\": 4, \"14\": 1, \"47\": 7, \"4\": 1, \"9\": 4, \"44\": 1, \"57\": 16, \"29\": 2, \"5\": 1, \"27\": 1}, \"44\": {\"44\": 71, \"22\": 2, \"40\": 3, \"5\": 14, \"4\": 10, \"9\": 16, \"46\": 2, \"57\": 7, \"30\": 8, \"52\": 1, \"0\": 1, \"21\": 1, \"1\": 4, \"6\": 1, \"20\": 1}, \"49\": {\"49\": 34, \"39\": 1, \"55\": 1}, \"4\": {\"4\": 35, \"56\": 3, \"5\": 12, \"48\": 1, \"44\": 11, \"9\": 11, \"46\": 1, \"1\": 6, \"47\": 3, \"50\": 1, \"8\": 3, \"20\": 1, \"30\": 4, \"22\": 2, \"57\": 2, \"27\": 1, \"40\": 2, \"29\": 1}, \"6\": {\"6\": 70, \"44\": 4, \"56\": 1, \"45\": 14, \"50\": 11, \"3\": 2, \"5\": 4, \"9\": 3, \"30\": 6, \"57\": 1}, \"39\": {\"39\": 18, \"17\": 1, \"35\": 1}, \"50\": {\"50\": 75, \"45\": 21, \"46\": 5, \"30\": 8, \"12\": 4, \"3\": 9, \"6\": 17, \"5\": 2, \"9\": 3, \"4\": 1, \"44\": 1, \"0\": 1, \"20\": 1}, \"56\": {\"56\": 85, \"44\": 3, \"22\": 2, \"57\": 16, \"47\": 2, \"9\": 2, \"8\": 2, \"4\": 3, \"40\": 8, \"48\": 1, \"1\": 2, \"5\": 3, \"50\": 1}, \"25\": {\"25\": 96, \"16\": 17, \"15\": 16, \"11\": 11, \"53\": 1, \"18\": 2, \"54\": 1}, \"28\": {\"28\": 31, \"19\": 1}, \"35\": {\"35\": 27, \"39\": 4, \"13\": 1, \"55\": 2, \"49\": 1, \"36\": 1}, \"24\": {\"24\": 76, \"37\": 1, \"36\": 1, \"54\": 2}, \"21\": {\"21\": 129, \"20\": 1, \"8\": 1, \"56\": 1}, \"45\": {\"50\": 10, \"45\": 89, \"9\": 1, \"6\": 15, \"3\": 2, \"46\": 1, \"30\": 3, \"5\": 1, \"0\": 1, \"56\": 1}, \"16\": {\"16\": 76, \"15\": 12, \"26\": 2, \"25\": 11, \"53\": 4, \"11\": 28, \"54\": 2, \"10\": 4, \"55\": 2, \"18\": 2, \"43\": 1}, \"37\": {\"37\": 21, \"14\": 1, \"2\": 1, \"38\": 1}, \"57\": {\"57\": 74, \"47\": 2, \"22\": 2, \"56\": 11, \"40\": 7, \"9\": 12, \"27\": 2, \"4\": 4, \"44\": 4, \"30\": 5, \"48\": 1, \"8\": 1, \"5\": 3, \"1\": 4}, \"34\": {\"34\": 29, \"41\": 2, \"49\": 1, \"17\": 1, \"33\": 1, \"32\": 1, \"29\": 1}, \"38\": {\"38\": 26, \"27\": 1, \"29\": 1, \"14\": 1, \"41\": 1, \"48\": 1, \"2\": 1}, \"48\": {\"57\": 5, \"47\": 6, \"48\": 77, \"34\": 1, \"41\": 1, \"4\": 2, \"29\": 7, \"1\": 14, \"27\": 7, \"9\": 3, \"13\": 1, \"8\": 1, \"5\": 1, \"2\": 1, \"40\": 2, \"17\": 1}, \"26\": {\"15\": 5, \"16\": 8, \"54\": 2, \"26\": 6, \"11\": 2, \"10\": 1}, \"9\": {\"57\": 11, \"44\": 14, \"5\": 17, \"9\": 71, \"21\": 2, \"52\": 3, \"4\": 11, \"30\": 6, \"27\": 1, \"20\": 3, \"40\": 2, \"8\": 2, \"48\": 2, \"22\": 2, \"1\": 3, \"47\": 1, \"29\": 1}, \"18\": {\"26\": 2, \"18\": 42, \"11\": 4, \"25\": 6, \"16\": 3, \"23\": 2, \"31\": 2, \"15\": 3}, \"3\": {\"45\": 8, \"3\": 49, \"46\": 10, \"50\": 11, \"57\": 2, \"12\": 4, \"0\": 4, \"6\": 5, \"52\": 2, \"40\": 1, \"9\": 1, \"5\": 2, \"30\": 1}, \"23\": {\"23\": 68, \"54\": 14, \"31\": 1, \"37\": 1, \"38\": 2, \"42\": 1, \"11\": 1, \"14\": 1, \"43\": 6, \"24\": 4, \"53\": 3, \"55\": 2, \"27\": 2, \"51\": 2, \"32\": 1, \"10\": 2, \"36\": 6, \"49\": 1, \"17\": 3, \"35\": 1, \"8\": 1, \"15\": 1}, \"15\": {\"15\": 112, \"10\": 7, \"26\": 3, \"11\": 20, \"18\": 1, \"43\": 1, \"16\": 6, \"25\": 1, \"53\": 2, \"24\": 1}, \"10\": {\"10\": 65, \"15\": 3}, \"46\": {\"46\": 99, \"0\": 16, \"4\": 1, \"1\": 1, \"12\": 4, \"3\": 10, \"57\": 1, \"6\": 2, \"52\": 1, \"40\": 1, \"5\": 1, \"44\": 1, \"56\": 1, \"8\": 1, \"30\": 1, \"45\": 1, \"50\": 2, \"9\": 2, \"22\": 1, \"47\": 1}, \"22\": {\"22\": 10, \"47\": 1, \"1\": 1, \"5\": 3, \"8\": 1, \"4\": 1, \"48\": 2, \"9\": 3, \"46\": 1, \"40\": 2, \"30\": 2, \"57\": 1}, \"54\": {\"54\": 98, \"37\": 2, \"26\": 1, \"53\": 5, \"23\": 4, \"24\": 1, \"16\": 1}, \"27\": {\"27\": 107, \"1\": 11, \"48\": 10, \"36\": 2, \"47\": 3, \"32\": 3, \"9\": 2, \"40\": 2, \"29\": 14, \"57\": 1, \"17\": 3, \"53\": 1, \"23\": 1}, \"41\": {\"48\": 3, \"41\": 18, \"1\": 2, \"34\": 1, \"27\": 1, \"47\": 2, \"32\": 1}, \"31\": {\"31\": 33, \"54\": 1, \"42\": 1, \"49\": 1}, \"0\": {\"0\": 91, \"46\": 21, \"52\": 4, \"12\": 1, \"20\": 1, \"56\": 1, \"50\": 2, \"5\": 1, \"9\": 1, \"44\": 1}, \"7\": {\"41\": 2, \"7\": 25, \"42\": 1, \"51\": 2, \"43\": 2}, \"2\": {\"2\": 26, \"14\": 2}, \"14\": {\"47\": 1, \"14\": 18, \"38\": 1, \"27\": 4, \"41\": 2, \"48\": 1, \"32\": 2, \"13\": 2, \"1\": 1, \"29\": 2, \"7\": 2, \"43\": 3, \"36\": 2, \"34\": 2, \"17\": 1}, \"40\": {\"47\": 3, \"40\": 76, \"4\": 4, \"0\": 1, \"52\": 4, \"57\": 9, \"1\": 10, \"9\": 4, \"8\": 1, \"48\": 1, \"5\": 1, \"56\": 7, \"12\": 2, \"21\": 1}, \"5\": {\"5\": 66, \"1\": 2, \"40\": 4, \"9\": 14, \"22\": 1, \"56\": 1, \"44\": 15, \"30\": 13, \"4\": 9, \"0\": 2, \"52\": 1}, \"12\": {\"12\": 54, \"57\": 3, \"52\": 5, \"0\": 5, \"9\": 5, \"30\": 2, \"50\": 3, \"5\": 3, \"45\": 3, \"47\": 2, \"44\": 2, \"8\": 2, \"3\": 3, \"40\": 1, \"20\": 1, \"46\": 1, \"6\": 1}, \"43\": {\"43\": 124, \"13\": 3, \"51\": 7, \"53\": 2, \"7\": 3, \"14\": 1, \"36\": 1, \"17\": 1}, \"13\": {\"13\": 128, \"7\": 3, \"29\": 4, \"43\": 8, \"48\": 1, \"1\": 1, \"27\": 2, \"20\": 1}, \"36\": {\"43\": 1, \"36\": 84, \"2\": 1, \"7\": 1, \"35\": 2, \"17\": 2, \"38\": 1}, \"8\": {\"2\": 1, \"8\": 90, \"52\": 21, \"20\": 16, \"29\": 7, \"27\": 1, \"0\": 4, \"1\": 1, \"5\": 1, \"17\": 1, \"48\": 1, \"46\": 3, \"40\": 2, \"14\": 1}, \"32\": {\"32\": 18, \"17\": 2, \"47\": 2, \"48\": 3, \"38\": 1, \"14\": 2, \"2\": 2, \"29\": 2}, \"30\": {\"30\": 92, \"44\": 6, \"2\": 1, \"48\": 1, \"8\": 1, \"29\": 1, \"9\": 6, \"4\": 5, \"5\": 1, \"6\": 1, \"57\": 5, \"22\": 1, \"40\": 1, \"47\": 1, \"45\": 1, \"50\": 2, \"56\": 1, \"13\": 1}, \"51\": {\"51\": 116, \"7\": 1, \"43\": 9, \"36\": 4, \"13\": 4, \"38\": 2, \"55\": 1, \"21\": 1}, \"20\": {\"46\": 3, \"20\": 93, \"12\": 3, \"50\": 3, \"52\": 13, \"0\": 2, \"8\": 9, \"13\": 2, \"21\": 6, \"3\": 1, \"14\": 1, \"56\": 1, \"29\": 1}}, \"C_1\": {\"46\": {\"46\": 68, \"56\": 18, \"45\": 6, \"30\": 12, \"44\": 12, \"50\": 11, \"6\": 1, \"20\": 2, \"40\": 1, \"0\": 3, \"3\": 3, \"5\": 1, \"48\": 1, \"22\": 1}, \"16\": {\"16\": 86, \"53\": 10, \"26\": 2, \"25\": 11, \"18\": 2, \"11\": 10, \"24\": 1, \"10\": 4, \"15\": 8}, \"26\": {\"26\": 19, \"15\": 2, \"23\": 1, \"54\": 2}, \"10\": {\"10\": 78, \"15\": 16, \"16\": 1, \"53\": 1}, \"9\": {\"9\": 81, \"47\": 5, \"57\": 6, \"2\": 5, \"1\": 2, \"8\": 18, \"48\": 17, \"32\": 1, \"30\": 2, \"27\": 7, \"4\": 5, \"40\": 4, \"14\": 1, \"13\": 1, \"43\": 1}, \"28\": {\"28\": 23, \"10\": 1, \"11\": 2, \"16\": 2}, \"51\": {\"51\": 146, \"41\": 2, \"49\": 1, \"55\": 6, \"13\": 1}, \"1\": {\"1\": 81, \"29\": 12, \"47\": 6, \"9\": 1}, \"55\": {\"55\": 104, \"31\": 1, \"7\": 2, \"37\": 6, \"24\": 8, \"38\": 1, \"42\": 3, \"17\": 3, \"29\": 3, \"43\": 4, \"23\": 9, \"39\": 1, \"32\": 1, \"48\": 1, \"9\": 1}, \"27\": {\"27\": 94, \"48\": 6, \"40\": 4, \"8\": 10, \"57\": 2, \"9\": 1, \"47\": 3, \"30\": 1, \"13\": 2, \"4\": 1}, \"22\": {\"22\": 103, \"40\": 1, \"52\": 7, \"12\": 2, \"21\": 3, \"20\": 2, \"3\": 2, \"14\": 1, \"27\": 1, \"4\": 2}, \"52\": {\"52\": 97, \"27\": 1, \"56\": 1, \"22\": 8, \"21\": 13, \"8\": 1, \"46\": 1, \"57\": 2, \"30\": 1, \"9\": 1}, \"3\": {\"27\": 2, \"3\": 70, \"46\": 3, \"0\": 4, \"21\": 4, \"30\": 5, \"40\": 5, \"12\": 18, \"20\": 18, \"44\": 2, \"4\": 4, \"45\": 2, \"6\": 1, \"57\": 2}, \"33\": {\"33\": 29, \"31\": 2, \"17\": 1}, \"47\": {\"47\": 89, \"1\": 7, \"48\": 9, \"57\": 3, \"29\": 7, \"40\": 1, \"8\": 4}, \"42\": {\"42\": 35, \"33\": 1, \"19\": 1, \"17\": 3}, \"12\": {\"12\": 107, \"3\": 3, \"22\": 3, \"20\": 2, \"27\": 1}, \"23\": {\"31\": 1, \"7\": 1, \"23\": 111, \"37\": 4, \"38\": 1, \"54\": 4, \"17\": 1, \"43\": 3, \"24\": 1, \"55\": 5}, \"49\": {\"49\": 20, \"8\": 2, \"2\": 2, \"43\": 2, \"48\": 2, \"36\": 1, \"23\": 1, \"55\": 1, \"38\": 1}, \"7\": {\"7\": 21, \"1\": 1, \"33\": 1, \"17\": 1, \"43\": 1, \"47\": 1, \"23\": 1, \"55\": 1}, \"4\": {\"46\": 2, \"4\": 82, \"48\": 6, \"30\": 6, \"40\": 13, \"47\": 5, \"1\": 2, \"21\": 1, \"57\": 4, \"56\": 2, \"8\": 3, \"22\": 1, \"27\": 3, \"13\": 1, \"6\": 1}, \"50\": {\"50\": 89, \"6\": 10, \"45\": 17, \"30\": 1, \"5\": 6, \"44\": 4, \"46\": 2, \"56\": 5}, \"19\": {\"19\": 147, \"35\": 4, \"17\": 2, \"25\": 1}, \"11\": {\"11\": 133, \"28\": 1, \"16\": 5, \"25\": 1}, \"31\": {\"23\": 3, \"31\": 21, \"55\": 2, \"7\": 1, \"2\": 1}, \"41\": {\"41\": 22, \"51\": 1, \"49\": 1}, \"56\": {\"46\": 18, \"56\": 87, \"6\": 1, \"50\": 7, \"27\": 1, \"44\": 10, \"30\": 6, \"40\": 2, \"4\": 1, \"45\": 4, \"57\": 1}, \"0\": {\"0\": 143, \"4\": 1, \"3\": 3, \"12\": 1}, \"57\": {\"57\": 97, \"4\": 7, \"8\": 3, \"9\": 3, \"40\": 12, \"47\": 1, \"48\": 2, \"27\": 2, \"13\": 1}, \"53\": {\"26\": 4, \"24\": 4, \"53\": 107, \"15\": 6, \"37\": 1, \"11\": 2, \"25\": 2, \"10\": 4, \"55\": 5, \"41\": 2, \"54\": 1, \"16\": 2}, \"43\": {\"43\": 130, \"29\": 1, \"38\": 2, \"32\": 4, \"37\": 1, \"2\": 1, \"9\": 1, \"23\": 1, \"55\": 2, \"48\": 1}, \"37\": {\"37\": 22, \"51\": 1, \"55\": 5, \"49\": 3, \"32\": 1}, \"2\": {\"9\": 5, \"2\": 25, \"48\": 1, \"8\": 3, \"47\": 1, \"4\": 1}, \"6\": {\"46\": 5, \"6\": 34, \"50\": 14, \"57\": 1, \"30\": 3, \"45\": 13, \"5\": 9, \"44\": 7, \"52\": 1, \"9\": 1, \"21\": 1, \"40\": 2, \"56\": 2, \"0\": 1, \"27\": 1, \"4\": 1}, \"13\": {\"13\": 138, \"36\": 7, \"14\": 2, \"52\": 1, \"12\": 1, \"22\": 1}, \"18\": {\"28\": 1, \"18\": 54, \"25\": 4, \"16\": 5, \"15\": 2, \"11\": 3, \"10\": 3}, \"36\": {\"36\": 55, \"13\": 3, \"2\": 1, \"52\": 1, \"38\": 1, \"49\": 2, \"0\": 1}, \"29\": {\"29\": 108, \"1\": 11, \"38\": 1, \"43\": 1, \"47\": 12, \"8\": 3, \"49\": 1, \"48\": 2, \"51\": 1}, \"39\": {\"39\": 23, \"48\": 1, \"2\": 1, \"7\": 1, \"43\": 2}, \"17\": {\"7\": 1, \"29\": 1, \"17\": 40, \"23\": 8, \"1\": 1, \"42\": 7, \"31\": 3, \"33\": 1, \"55\": 2}, \"21\": {\"52\": 8, \"21\": 109, \"22\": 1, \"12\": 2, \"0\": 1, \"9\": 1, \"27\": 1, \"3\": 1}, \"25\": {\"25\": 118, \"37\": 1, \"16\": 5, \"15\": 4, \"11\": 1, \"28\": 1, \"24\": 1, \"18\": 1}, \"45\": {\"45\": 97, \"6\": 2, \"50\": 13, \"44\": 10, \"5\": 7, \"40\": 1, \"56\": 6, \"30\": 1, \"46\": 3, \"0\": 1, \"21\": 1}, \"38\": {\"39\": 1, \"52\": 1, \"38\": 16, \"43\": 2, \"7\": 1, \"37\": 1, \"49\": 1, \"55\": 1}, \"30\": {\"46\": 11, \"8\": 1, \"30\": 79, \"40\": 4, \"27\": 1, \"57\": 4, \"50\": 7, \"4\": 1, \"48\": 2, \"6\": 4, \"56\": 5, \"5\": 1}, \"24\": {\"55\": 1, \"24\": 106, \"23\": 1}, \"20\": {\"20\": 123, \"12\": 5, \"0\": 1, \"3\": 6, \"21\": 4, \"52\": 1}, \"8\": {\"9\": 9, \"8\": 49, \"57\": 7, \"40\": 15, \"1\": 3, \"30\": 7, \"4\": 8, \"48\": 14, \"49\": 1, \"47\": 5, \"43\": 4, \"6\": 1, \"44\": 3, \"29\": 5, \"2\": 3, \"27\": 2, \"45\": 1, \"46\": 1, \"32\": 1, \"56\": 1}, \"35\": {\"39\": 1, \"35\": 31, \"42\": 2, \"17\": 2}, \"54\": {\"54\": 104}, \"5\": {\"5\": 144, \"6\": 1, \"46\": 1, \"45\": 2}, \"48\": {\"57\": 12, \"48\": 72, \"4\": 6, \"1\": 3, \"32\": 1, \"9\": 12, \"43\": 4, \"8\": 14, \"47\": 3, \"29\": 8, \"40\": 5, \"2\": 1, \"27\": 3}, \"15\": {\"15\": 95, \"10\": 16, \"53\": 11, \"54\": 14, \"25\": 1, \"16\": 1, \"26\": 3, \"23\": 1}, \"34\": {\"34\": 17, \"15\": 1, \"38\": 1, \"31\": 4, \"10\": 1}, \"14\": {\"56\": 1, \"32\": 1, \"36\": 3, \"57\": 2, \"12\": 1, \"14\": 5, \"22\": 2, \"9\": 1, \"40\": 1, \"13\": 3, \"30\": 1, \"8\": 2, \"49\": 1}, \"32\": {\"32\": 28, \"39\": 1, \"42\": 1, \"43\": 2}, \"40\": {\"8\": 9, \"40\": 80, \"57\": 23, \"4\": 11, \"29\": 2, \"14\": 1, \"22\": 1, \"27\": 6, \"30\": 4, \"52\": 1, \"9\": 2, \"56\": 2, \"46\": 1, \"48\": 3, \"21\": 1, \"47\": 1}, \"44\": {\"44\": 74, \"30\": 4, \"6\": 7, \"5\": 1, \"46\": 9, \"45\": 12, \"0\": 4, \"50\": 9, \"27\": 1, \"52\": 1, \"56\": 10, \"40\": 2, \"3\": 1, \"21\": 1}}, \"C_2\": {\"36\": {\"36\": 107, \"55\": 6, \"7\": 1, \"17\": 2}, \"5\": {\"5\": 55, \"44\": 8, \"6\": 18, \"12\": 5, \"52\": 1, \"3\": 11, \"45\": 10, \"0\": 1, \"30\": 4, \"50\": 3, \"46\": 3, \"22\": 1}, \"45\": {\"50\": 6, \"45\": 66, \"30\": 3, \"5\": 15, \"3\": 7, \"44\": 9, \"52\": 1, \"12\": 8, \"6\": 10, \"20\": 1, \"0\": 1, \"22\": 1}, \"49\": {\"49\": 17, \"28\": 2, \"43\": 1, \"36\": 1, \"42\": 1, \"39\": 1, \"7\": 1}, \"50\": {\"50\": 55, \"40\": 2, \"3\": 7, \"0\": 3, \"12\": 6, \"47\": 4, \"46\": 4, \"6\": 15, \"21\": 4, \"56\": 3, \"45\": 4, \"30\": 12, \"5\": 5, \"52\": 1, \"44\": 2, \"57\": 2, \"22\": 6, \"48\": 1}, \"4\": {\"4\": 87, \"9\": 27, \"1\": 8, \"29\": 5, \"36\": 1, \"48\": 2, \"57\": 3, \"32\": 1, \"47\": 1, \"40\": 2, \"27\": 1}, \"43\": {\"43\": 143, \"24\": 1, \"15\": 1, \"13\": 2, \"51\": 1}, \"41\": {\"41\": 19, \"8\": 1}, \"37\": {\"37\": 35, \"13\": 1}, \"12\": {\"44\": 1, \"50\": 6, \"12\": 51, \"5\": 3, \"3\": 8, \"0\": 1, \"30\": 7, \"45\": 7, \"46\": 2, \"6\": 6}, \"33\": {\"33\": 18, \"14\": 1, \"17\": 3, \"27\": 1, \"29\": 2, \"32\": 1, \"36\": 2}, \"7\": {\"7\": 34, \"23\": 1, \"17\": 1}, \"56\": {\"4\": 2, \"56\": 92, \"40\": 2, \"47\": 16, \"9\": 1, \"8\": 3, \"22\": 10, \"1\": 4, \"57\": 5, \"48\": 3, \"20\": 1, \"29\": 1}, \"14\": {\"41\": 2, \"8\": 4, \"14\": 8, \"56\": 2, \"51\": 1, \"29\": 2, \"2\": 1, \"17\": 2, \"43\": 1, \"36\": 1}, \"52\": {\"52\": 118, \"8\": 4, \"21\": 2}, \"44\": {\"45\": 12, \"44\": 68, \"5\": 4, \"48\": 2, \"56\": 1, \"22\": 1, \"40\": 1, \"12\": 2, \"47\": 4, \"30\": 1}, \"48\": {\"48\": 79, \"1\": 5, \"27\": 5, \"32\": 1, \"2\": 2, \"57\": 18, \"47\": 14, \"8\": 3, \"40\": 9, \"9\": 6, \"22\": 1, \"56\": 1}, \"20\": {\"20\": 79, \"38\": 1, \"21\": 14, \"2\": 1, \"52\": 14, \"48\": 1, \"8\": 9, \"46\": 5, \"27\": 1, \"12\": 1, \"40\": 1, \"51\": 1}, \"55\": {\"55\": 91, \"42\": 1, \"17\": 15, \"23\": 9, \"15\": 1, \"36\": 14, \"29\": 2, \"43\": 6, \"54\": 1, \"33\": 1, \"35\": 1, \"24\": 2}, \"32\": {\"32\": 27, \"17\": 1}, \"40\": {\"48\": 23, \"40\": 72, \"9\": 8, \"47\": 10, \"56\": 4, \"22\": 4, \"1\": 6, \"57\": 5, \"27\": 1, \"4\": 2, \"29\": 1}, \"54\": {\"54\": 99, \"28\": 1, \"15\": 4, \"53\": 1, \"24\": 2, \"23\": 1}, \"17\": {\"36\": 18, \"32\": 1, \"33\": 3, \"39\": 2, \"17\": 64, \"29\": 2, \"55\": 5, \"2\": 1, \"23\": 3, \"42\": 2, \"31\": 2, \"7\": 1}, \"38\": {\"38\": 19, \"13\": 1}, \"24\": {\"24\": 96}, \"1\": {\"1\": 50, \"40\": 6, \"57\": 8, \"32\": 1, \"4\": 9, \"41\": 1, \"9\": 6, \"47\": 7, \"48\": 10, \"27\": 7, \"8\": 3, \"22\": 1, \"14\": 1, \"29\": 1, \"20\": 1}, \"6\": {\"12\": 6, \"5\": 10, \"0\": 2, \"22\": 1, \"6\": 75, \"45\": 11, \"30\": 9, \"3\": 5, \"44\": 2, \"50\": 3}, \"34\": {\"34\": 21, \"19\": 1, \"35\": 2, \"49\": 1, \"31\": 2, \"7\": 1}, \"11\": {\"11\": 94, \"10\": 9, \"53\": 9, \"16\": 13, \"54\": 3, \"15\": 1, \"25\": 6, \"24\": 1}, \"9\": {\"9\": 84, \"4\": 29, \"29\": 7, \"1\": 6, \"27\": 5, \"20\": 1, \"57\": 6, \"55\": 1, \"40\": 5, \"51\": 1, \"47\": 2, \"8\": 1, \"48\": 1, \"56\": 1}, \"8\": {\"8\": 83, \"47\": 3, \"14\": 2, \"20\": 9, \"21\": 6, \"52\": 20, \"56\": 5, \"48\": 5, \"46\": 9, \"12\": 2, \"50\": 3, \"40\": 1, \"22\": 3, \"9\": 1}, \"22\": {\"56\": 16, \"22\": 45, \"47\": 11, \"57\": 6, \"3\": 3, \"48\": 7, \"44\": 2, \"12\": 1, \"40\": 8, \"8\": 3, \"0\": 5, \"9\": 5, \"46\": 4, \"1\": 6, \"27\": 4, \"20\": 3, \"30\": 1, \"5\": 3, \"52\": 1, \"4\": 2}, \"26\": {\"11\": 1, \"26\": 16, \"24\": 1, \"16\": 3, \"10\": 2, \"53\": 1}, \"23\": {\"23\": 75, \"28\": 2, \"54\": 7, \"2\": 1, \"7\": 1, \"24\": 2, \"55\": 18, \"36\": 13, \"27\": 2, \"17\": 8, \"10\": 2, \"15\": 5, \"32\": 1, \"42\": 1, \"31\": 2, \"29\": 3, \"43\": 2, \"4\": 1}, \"10\": {\"10\": 99, \"16\": 2, \"54\": 2, \"11\": 6, \"15\": 2, \"53\": 1}, \"18\": {\"18\": 36, \"15\": 2, \"28\": 5, \"25\": 2, \"16\": 1, \"11\": 1, \"54\": 1}, \"13\": {\"13\": 109, \"51\": 5, \"1\": 1, \"32\": 1}, \"30\": {\"1\": 2, \"30\": 97, \"3\": 6, \"12\": 7, \"50\": 1, \"5\": 2, \"56\": 2, \"6\": 4, \"8\": 1, \"0\": 1, \"46\": 1, \"45\": 2, \"44\": 2}, \"42\": {\"24\": 1, \"42\": 21, \"39\": 5, \"7\": 4, \"17\": 1, \"55\": 2, \"31\": 1, \"29\": 1}, \"31\": {\"42\": 1, \"31\": 24, \"7\": 2, \"36\": 1}, \"46\": {\"45\": 2, \"46\": 63, \"5\": 2, \"50\": 11, \"52\": 10, \"22\": 4, \"0\": 2, \"44\": 7, \"21\": 12, \"3\": 4, \"12\": 3, \"30\": 4, \"6\": 2, \"56\": 1, \"48\": 1}, \"57\": {\"40\": 5, \"57\": 82, \"47\": 11, \"48\": 10, \"9\": 6, \"1\": 8, \"27\": 11, \"56\": 5, \"0\": 1, \"4\": 3}, \"47\": {\"47\": 55, \"14\": 1, \"40\": 9, \"29\": 5, \"1\": 5, \"9\": 3, \"48\": 28, \"57\": 12, \"27\": 8, \"44\": 3, \"22\": 4, \"0\": 1, \"4\": 2, \"56\": 2}, \"35\": {\"19\": 1, \"35\": 28, \"34\": 3}, \"15\": {\"15\": 95, \"11\": 4, \"24\": 4, \"54\": 7, \"53\": 8, \"16\": 7, \"10\": 1, \"43\": 3, \"25\": 3}, \"25\": {\"25\": 88, \"26\": 1, \"15\": 2, \"11\": 14, \"16\": 21, \"54\": 2, \"53\": 3, \"10\": 2, \"18\": 3}, \"19\": {\"19\": 132, \"23\": 1, \"49\": 1, \"16\": 1, \"15\": 1}, \"51\": {\"51\": 101, \"55\": 2, \"13\": 12, \"43\": 12, \"14\": 1}, \"53\": {\"53\": 98, \"54\": 10, \"24\": 2, \"15\": 7, \"10\": 8, \"23\": 2, \"13\": 2, \"11\": 4, \"28\": 1}, \"21\": {\"21\": 114, \"48\": 1, \"46\": 1, \"1\": 1, \"52\": 2, \"40\": 1}, \"39\": {\"42\": 8, \"39\": 15, \"29\": 1, \"41\": 1, \"2\": 1, \"33\": 1, \"23\": 1}, \"2\": {\"2\": 24, \"38\": 2, \"13\": 1, \"55\": 1, \"32\": 1, \"33\": 2, \"29\": 1}, \"16\": {\"53\": 7, \"16\": 75, \"26\": 2, \"18\": 2, \"37\": 1, \"11\": 22, \"15\": 12, \"25\": 18, \"10\": 9, \"23\": 1, \"54\": 1}, \"0\": {\"0\": 29, \"5\": 3, \"45\": 5, \"22\": 1, \"56\": 2, \"50\": 1, \"57\": 1, \"44\": 2, \"47\": 2, \"3\": 1, \"40\": 1}, \"3\": {\"3\": 40, \"45\": 7, \"21\": 6, \"5\": 8, \"12\": 8, \"30\": 7, \"46\": 2, \"50\": 4, \"20\": 1, \"44\": 2, \"6\": 3, \"0\": 1, \"52\": 3}, \"27\": {\"27\": 53, \"47\": 18, \"48\": 12, \"57\": 23, \"29\": 9, \"9\": 6, \"1\": 13, \"56\": 2, \"4\": 4, \"22\": 2}, \"28\": {\"28\": 25, \"54\": 2, \"15\": 1}, \"29\": {\"29\": 101, \"1\": 1, \"47\": 2, \"32\": 3, \"13\": 1, \"4\": 5, \"9\": 6, \"36\": 1, \"27\": 4, \"40\": 1, \"55\": 2, \"48\": 1}}}, \"per_domain_accuracy\": {\"O_14\": {\"accuracy\": 0.7953125, \"source?\": true}, \"O_20\": {\"accuracy\": 0.9143229166666667, \"source?\": true}, \"O_38\": {\"accuracy\": 0.5614583333333333, \"source?\": true}, \"O_8\": {\"accuracy\": 0.6833333333333333, \"source?\": true}, \"O_50\": {\"accuracy\": 0.59921875, \"source?\": true}, \"O_32\": {\"accuracy\": 0.5833333333333334, \"source?\": true}, \"O_26\": {\"accuracy\": 0.35859375, \"source?\": true}, \"O_44\": {\"accuracy\": 0.53359375, \"source?\": true}, \"W_3\": {\"accuracy\": 0.5719572368421053, \"source?\": false}, \"W_4\": {\"accuracy\": 0.5186471193415638, \"source?\": false}, \"W_1\": {\"accuracy\": 0.6037234042553191, \"source?\": false}, \"C_3\": {\"accuracy\": 0.646984011627907, \"source?\": false}, \"C_4\": {\"accuracy\": 0.6625, \"source?\": false}, \"W_2\": {\"accuracy\": 0.5705094537815126, \"source?\": false}, \"C_5\": {\"accuracy\": 0.6852304469273743, \"source?\": false}, \"C_1\": {\"accuracy\": 0.7455601092896175, \"source?\": false}, \"C_2\": {\"accuracy\": 0.6613700564971752, \"source?\": false}}}, \"history\": {\"epoch_indices\": [1, 2, 3, 4, 5], \"train_label_loss\": [0.4872125271979409, 0.47116220396377945, 0.33376318012541606, 0.2961444980779474, 0.26974915735315463], \"source_val_label_loss\": [38.24528884887695, 0.36124372482299805, 0.3415519893169403, 0.31610313057899475, 0.2674556374549866], \"target_val_label_loss\": [7724.37939453125, 7993.52587890625, 9437.9853515625, 10543.4638671875, 11278.01953125], \"source_val_acc_label\": [0.6286458333333333, 0.8718098958333333, 0.8749348958333333, 0.8844401041666666, 0.9033203125], \"target_val_acc_label\": [0.6213427197802198, 0.5147149725274726, 0.546771978021978, 0.5566105769230769, 0.5032967032967033]}, \"dataset_metrics\": {\"source\": {\"train\": {\"n_unique_x\": 179200, \"n_unique_y\": 16, \"n_batch/episode\": 6720}, \"val\": {\"n_unique_x\": 38400, \"n_unique_y\": 16, \"n_batch/episode\": 960}, \"test\": {\"n_unique_x\": 38400, \"n_unique_y\": 16, \"n_batch/episode\": 960}}, \"target\": {\"train\": {\"n_unique_x\": 364179, \"n_unique_y\": 130, \"n_batch/episode\": 13159}, \"val\": {\"n_unique_x\": 77264, \"n_unique_y\": 130, \"n_batch/episode\": 1820}, \"test\": {\"n_unique_x\": 78450, \"n_unique_y\": 130, \"n_batch/episode\": 1860}}}}'"
      ]
     },
     "execution_count": 29,
     "metadata": {},
     "output_type": "execute_result"
    }
   ],
   "source": [
    "json.dumps(experiment)"
   ]
  }
 ],
 "metadata": {
  "celltoolbar": "Tags",
  "kernelspec": {
   "display_name": "Python 3 (ipykernel)",
   "language": "python",
   "name": "python3"
  },
  "language_info": {
   "codemirror_mode": {
    "name": "ipython",
    "version": 3
   },
   "file_extension": ".py",
   "mimetype": "text/x-python",
   "name": "python",
   "nbconvert_exporter": "python",
   "pygments_lexer": "ipython3",
   "version": "3.8.10"
  },
  "papermill": {
   "default_parameters": {},
   "duration": 1003.719469,
   "end_time": "2022-03-20T22:31:36.086780",
   "environment_variables": {},
   "exception": null,
   "input_path": "/mnt/wd500GB/CSC500/csc500-main/csc500-notebooks/templates/tl_ptn_template.ipynb",
   "output_path": "trial.ipynb",
   "parameters": {
    "parameters": {
     "BEST_MODEL_PATH": "./best_model.pth",
     "NUM_LOGS_PER_EPOCH": 10,
     "criteria_for_best": "target_accuracy",
     "dataset_seed": 1337,
     "datasets": [
      {
       "domain_prefix": "C_",
       "domains": [
        1,
        2,
        3,
        4,
        5
       ],
       "episode_transforms": [],
       "labels": [
        "1-10.",
        "1-11.",
        "1-15.",
        "1-16.",
        "1-17.",
        "1-18.",
        "1-19.",
        "10-4.",
        "10-7.",
        "11-1.",
        "11-14.",
        "11-17.",
        "11-20.",
        "11-7.",
        "13-20.",
        "13-8.",
        "14-10.",
        "14-11.",
        "14-14.",
        "14-7.",
        "15-1.",
        "15-20.",
        "16-1.",
        "16-16.",
        "17-10.",
        "17-11.",
        "17-2.",
        "19-1.",
        "19-16.",
        "19-19.",
        "19-20.",
        "19-3.",
        "2-10.",
        "2-11.",
        "2-17.",
        "2-18.",
        "2-20.",
        "2-3.",
        "2-4.",
        "2-5.",
        "2-6.",
        "2-7.",
        "2-8.",
        "3-13.",
        "3-18.",
        "3-3.",
        "4-1.",
        "4-10.",
        "4-11.",
        "4-19.",
        "5-5.",
        "6-15.",
        "7-10.",
        "7-14.",
        "8-18.",
        "8-20.",
        "8-3.",
        "8-8."
       ],
       "num_examples_per_domain_per_label": -1,
       "pickle_path": "/mnt/wd500GB/CSC500/csc500-main/datasets/cores.stratified_ds.2022A.pkl",
       "source_or_target_dataset": "target",
       "x_transforms": [
        "take_200"
       ]
      },
      {
       "domain_prefix": "W_",
       "domains": [
        1,
        2,
        3,
        4
       ],
       "episode_transforms": [],
       "labels": [
        "1-10",
        "1-12",
        "1-14",
        "1-16",
        "1-18",
        "1-19",
        "1-8",
        "10-11",
        "10-17",
        "10-4",
        "10-7",
        "11-1",
        "11-10",
        "11-19",
        "11-20",
        "11-4",
        "11-7",
        "12-19",
        "12-20",
        "12-7",
        "13-14",
        "13-18",
        "13-19",
        "13-20",
        "13-3",
        "13-7",
        "14-10",
        "14-11",
        "14-12",
        "14-13",
        "14-14",
        "14-19",
        "14-20",
        "14-7",
        "14-8",
        "14-9",
        "15-1",
        "15-19",
        "15-6",
        "16-1",
        "16-16",
        "16-19",
        "16-20",
        "17-10",
        "17-11",
        "18-1",
        "18-10",
        "18-11",
        "18-12",
        "18-13",
        "18-14",
        "18-15",
        "18-16",
        "18-17",
        "18-19",
        "18-2",
        "18-20",
        "18-4",
        "18-5",
        "18-7",
        "18-8",
        "18-9",
        "19-1",
        "19-10",
        "19-11",
        "19-12",
        "19-13",
        "19-14",
        "19-15",
        "19-19",
        "19-2",
        "19-20",
        "19-3",
        "19-4",
        "19-6",
        "19-7",
        "19-8",
        "19-9",
        "2-1",
        "2-13",
        "2-15",
        "2-3",
        "2-4",
        "2-5",
        "2-6",
        "2-7",
        "2-8",
        "20-1",
        "20-12",
        "20-14",
        "20-15",
        "20-16",
        "20-18",
        "20-19",
        "20-20",
        "20-3",
        "20-4",
        "20-5",
        "20-7",
        "20-8",
        "3-1",
        "3-13",
        "3-18",
        "3-2",
        "3-8",
        "4-1",
        "4-10",
        "4-11",
        "5-1",
        "5-5",
        "6-1",
        "6-15",
        "6-6",
        "7-10",
        "7-11",
        "7-12",
        "7-13",
        "7-14",
        "7-7",
        "7-8",
        "7-9",
        "8-1",
        "8-13",
        "8-14",
        "8-18",
        "8-20",
        "8-3",
        "8-8",
        "9-1",
        "9-7"
       ],
       "num_examples_per_domain_per_label": -1,
       "pickle_path": "/mnt/wd500GB/CSC500/csc500-main/datasets/wisig.node3-19.stratified_ds.2022A.pkl",
       "source_or_target_dataset": "target",
       "x_transforms": [
        "take_200"
       ]
      },
      {
       "domain_prefix": "O_",
       "domains": [
        32,
        38,
        8,
        44,
        14,
        50,
        20,
        26
       ],
       "episode_transforms": [],
       "labels": [
        "3123D52",
        "3123D65",
        "3123D79",
        "3123D80",
        "3123D54",
        "3123D70",
        "3123D7B",
        "3123D89",
        "3123D58",
        "3123D76",
        "3123D7D",
        "3123EFE",
        "3123D64",
        "3123D78",
        "3123D7E",
        "3124E4A"
       ],
       "num_examples_per_domain_per_label": 2000,
       "pickle_path": "/mnt/wd500GB/CSC500/csc500-main/datasets/oracle.Run1_framed_2000Examples_stratified_ds.2022A.pkl",
       "source_or_target_dataset": "source",
       "x_transforms": [
        "take_200",
        "resample_20Msps_to_25Msps"
       ]
      }
     ],
     "device": "cuda",
     "experiment_name": "tl_3Av2:oracle.run1.framed -> cores+wisig",
     "lr": 0.0001,
     "n_epoch": 50,
     "n_query": 2,
     "n_shot": 3,
     "n_way": 16,
     "patience": 3,
     "seed": 1337,
     "test_k_factor": 2,
     "torch_default_dtype": "torch.float32",
     "train_k_factor": 3,
     "val_k_factor": 2,
     "x_net": [
      {
       "class": "nnReshape",
       "kargs": {
        "shape": [
         -1,
         1,
         2,
         200
        ]
       }
      },
      {
       "class": "Conv2d",
       "kargs": {
        "bias": false,
        "in_channels": 1,
        "kernel_size": [
         1,
         7
        ],
        "out_channels": 256,
        "padding": [
         0,
         3
        ]
       }
      },
      {
       "class": "ReLU",
       "kargs": {
        "inplace": true
       }
      },
      {
       "class": "BatchNorm2d",
       "kargs": {
        "num_features": 256
       }
      },
      {
       "class": "Conv2d",
       "kargs": {
        "bias": true,
        "in_channels": 256,
        "kernel_size": [
         2,
         7
        ],
        "out_channels": 80,
        "padding": [
         0,
         3
        ]
       }
      },
      {
       "class": "ReLU",
       "kargs": {
        "inplace": true
       }
      },
      {
       "class": "BatchNorm2d",
       "kargs": {
        "num_features": 80
       }
      },
      {
       "class": "Flatten",
       "kargs": {}
      },
      {
       "class": "Linear",
       "kargs": {
        "in_features": 16000,
        "out_features": 256
       }
      },
      {
       "class": "ReLU",
       "kargs": {
        "inplace": true
       }
      },
      {
       "class": "BatchNorm1d",
       "kargs": {
        "num_features": 256
       }
      },
      {
       "class": "Linear",
       "kargs": {
        "in_features": 256,
        "out_features": 256
       }
      }
     ],
     "x_shape": [
      2,
      200
     ]
    }
   },
   "start_time": "2022-03-20T22:14:52.367311",
   "version": "2.3.4"
  }
 },
 "nbformat": 4,
 "nbformat_minor": 5
}