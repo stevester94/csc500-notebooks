{
 "cells": [
  {
   "cell_type": "markdown",
   "id": "9fea5f46",
   "metadata": {
    "papermill": {
     "duration": 0.017929,
     "end_time": "2022-03-21T00:50:50.882858",
     "exception": false,
     "start_time": "2022-03-21T00:50:50.864929",
     "status": "completed"
    },
    "tags": []
   },
   "source": [
    "# Transfer Learning Template"
   ]
  },
  {
   "cell_type": "code",
   "execution_count": 1,
   "id": "0902182a",
   "metadata": {
    "execution": {
     "iopub.execute_input": "2022-03-21T00:50:50.922145Z",
     "iopub.status.busy": "2022-03-21T00:50:50.919729Z",
     "iopub.status.idle": "2022-03-21T00:50:51.829828Z",
     "shell.execute_reply": "2022-03-21T00:50:51.829539Z"
    },
    "papermill": {
     "duration": 0.934403,
     "end_time": "2022-03-21T00:50:51.829897",
     "exception": false,
     "start_time": "2022-03-21T00:50:50.895494",
     "status": "completed"
    },
    "tags": []
   },
   "outputs": [],
   "source": [
    "%load_ext autoreload\n",
    "%autoreload 2\n",
    "%matplotlib inline\n",
    "\n",
    "    \n",
    "import os, json, sys, time, random\n",
    "import numpy as np\n",
    "import torch\n",
    "from torch.optim import Adam\n",
    "from  easydict import EasyDict\n",
    "import matplotlib.pyplot as plt\n",
    "\n",
    "from steves_models.steves_ptn import Steves_Prototypical_Network\n",
    "\n",
    "from steves_utils.lazy_iterable_wrapper import Lazy_Iterable_Wrapper\n",
    "from steves_utils.iterable_aggregator import Iterable_Aggregator\n",
    "from steves_utils.ptn_train_eval_test_jig import  PTN_Train_Eval_Test_Jig\n",
    "from steves_utils.torch_sequential_builder import build_sequential\n",
    "from steves_utils.torch_utils import get_dataset_metrics, ptn_confusion_by_domain_over_dataloader\n",
    "from steves_utils.utils_v2 import (per_domain_accuracy_from_confusion, get_datasets_base_path)\n",
    "from steves_utils.PTN.utils import independent_accuracy_assesment\n",
    "\n",
    "from torch.utils.data import DataLoader\n",
    "\n",
    "from steves_utils.stratified_dataset.episodic_accessor import Episodic_Accessor_Factory\n",
    "\n",
    "from steves_utils.ptn_do_report import (\n",
    "    get_loss_curve,\n",
    "    get_results_table,\n",
    "    get_parameters_table,\n",
    "    get_domain_accuracies,\n",
    ")\n",
    "\n",
    "from steves_utils.transforms import get_chained_transform"
   ]
  },
  {
   "cell_type": "markdown",
   "id": "41c840b4",
   "metadata": {
    "papermill": {
     "duration": 0.012595,
     "end_time": "2022-03-21T00:50:51.863405",
     "exception": false,
     "start_time": "2022-03-21T00:50:51.850810",
     "status": "completed"
    },
    "tags": []
   },
   "source": [
    "# Allowed Parameters\n",
    "These are allowed parameters, not defaults\n",
    "Each of these values need to be present in the injected parameters (the notebook will raise an exception if they are not present)\n",
    "\n",
    "Papermill uses the cell tag \"parameters\" to inject the real parameters below this cell.\n",
    "Enable tags to see what I mean"
   ]
  },
  {
   "cell_type": "code",
   "execution_count": 2,
   "id": "fd44eb83",
   "metadata": {
    "execution": {
     "iopub.execute_input": "2022-03-21T00:50:51.892065Z",
     "iopub.status.busy": "2022-03-21T00:50:51.891802Z",
     "iopub.status.idle": "2022-03-21T00:50:51.906428Z",
     "shell.execute_reply": "2022-03-21T00:50:51.906828Z"
    },
    "papermill": {
     "duration": 0.030798,
     "end_time": "2022-03-21T00:50:51.906950",
     "exception": false,
     "start_time": "2022-03-21T00:50:51.876152",
     "status": "completed"
    },
    "tags": []
   },
   "outputs": [],
   "source": [
    "required_parameters = {\n",
    "    \"experiment_name\",\n",
    "    \"lr\",\n",
    "    \"device\",\n",
    "    \"seed\",\n",
    "    \"dataset_seed\",\n",
    "    \"n_shot\",\n",
    "    \"n_query\",\n",
    "    \"n_way\",\n",
    "    \"train_k_factor\",\n",
    "    \"val_k_factor\",\n",
    "    \"test_k_factor\",\n",
    "    \"n_epoch\",\n",
    "    \"patience\",\n",
    "    \"criteria_for_best\",\n",
    "    \"x_net\",\n",
    "    \"datasets\",\n",
    "    \"torch_default_dtype\",\n",
    "    \"NUM_LOGS_PER_EPOCH\",\n",
    "    \"BEST_MODEL_PATH\",\n",
    "    \"x_shape\",\n",
    "}"
   ]
  },
  {
   "cell_type": "code",
   "execution_count": 3,
   "id": "fa3f0049",
   "metadata": {
    "execution": {
     "iopub.execute_input": "2022-03-21T00:50:51.943242Z",
     "iopub.status.busy": "2022-03-21T00:50:51.942950Z",
     "iopub.status.idle": "2022-03-21T00:50:51.955581Z",
     "shell.execute_reply": "2022-03-21T00:50:51.955971Z"
    },
    "papermill": {
     "duration": 0.031791,
     "end_time": "2022-03-21T00:50:51.956100",
     "exception": false,
     "start_time": "2022-03-21T00:50:51.924309",
     "status": "completed"
    },
    "tags": [
     "parameters"
    ]
   },
   "outputs": [],
   "source": [
    "from steves_utils.CORES.utils import (\n",
    "    ALL_NODES,\n",
    "    ALL_NODES_MINIMUM_1000_EXAMPLES,\n",
    "    ALL_DAYS\n",
    ")\n",
    "\n",
    "from steves_utils.ORACLE.utils_v2 import (\n",
    "    ALL_DISTANCES_FEET_NARROWED,\n",
    "    ALL_RUNS,\n",
    "    ALL_SERIAL_NUMBERS,\n",
    ")\n",
    "\n",
    "standalone_parameters = {}\n",
    "standalone_parameters[\"experiment_name\"] = \"STANDALONE PTN\"\n",
    "standalone_parameters[\"lr\"] = 0.001\n",
    "standalone_parameters[\"device\"] = \"cuda\"\n",
    "\n",
    "standalone_parameters[\"seed\"] = 1337\n",
    "standalone_parameters[\"dataset_seed\"] = 1337\n",
    "\n",
    "standalone_parameters[\"n_way\"] = 8\n",
    "standalone_parameters[\"n_shot\"] = 3\n",
    "standalone_parameters[\"n_query\"]  = 2\n",
    "standalone_parameters[\"train_k_factor\"] = 1\n",
    "standalone_parameters[\"val_k_factor\"] = 2\n",
    "standalone_parameters[\"test_k_factor\"] = 2\n",
    "\n",
    "\n",
    "standalone_parameters[\"n_epoch\"] = 50\n",
    "\n",
    "standalone_parameters[\"patience\"] = 10\n",
    "standalone_parameters[\"criteria_for_best\"] = \"source_loss\"\n",
    "\n",
    "standalone_parameters[\"datasets\"] = [\n",
    "    {\n",
    "        \"labels\": ALL_SERIAL_NUMBERS,\n",
    "        \"domains\": ALL_DISTANCES_FEET_NARROWED,\n",
    "        \"num_examples_per_domain_per_label\": 100,\n",
    "        \"pickle_path\": os.path.join(get_datasets_base_path(), \"oracle.Run1_framed_2000Examples_stratified_ds.2022A.pkl\"),\n",
    "        \"source_or_target_dataset\": \"source\",\n",
    "        \"x_transforms\": [\"unit_mag\", \"minus_two\"],\n",
    "        \"episode_transforms\": [],\n",
    "        \"domain_prefix\": \"ORACLE_\"\n",
    "    },\n",
    "    {\n",
    "        \"labels\": ALL_NODES,\n",
    "        \"domains\": ALL_DAYS,\n",
    "        \"num_examples_per_domain_per_label\": 100,\n",
    "        \"pickle_path\": os.path.join(get_datasets_base_path(), \"cores.stratified_ds.2022A.pkl\"),\n",
    "        \"source_or_target_dataset\": \"target\",\n",
    "        \"x_transforms\": [\"unit_power\", \"times_zero\"],\n",
    "        \"episode_transforms\": [],\n",
    "        \"domain_prefix\": \"CORES_\"\n",
    "    }   \n",
    "]\n",
    "\n",
    "standalone_parameters[\"torch_default_dtype\"] = \"torch.float32\" \n",
    "\n",
    "\n",
    "\n",
    "standalone_parameters[\"x_net\"] =     [\n",
    "    {\"class\": \"nnReshape\", \"kargs\": {\"shape\":[-1, 1, 2, 256]}},\n",
    "    {\"class\": \"Conv2d\", \"kargs\": { \"in_channels\":1, \"out_channels\":256, \"kernel_size\":(1,7), \"bias\":False, \"padding\":(0,3), },},\n",
    "    {\"class\": \"ReLU\", \"kargs\": {\"inplace\": True}},\n",
    "    {\"class\": \"BatchNorm2d\", \"kargs\": {\"num_features\":256}},\n",
    "\n",
    "    {\"class\": \"Conv2d\", \"kargs\": { \"in_channels\":256, \"out_channels\":80, \"kernel_size\":(2,7), \"bias\":True, \"padding\":(0,3), },},\n",
    "    {\"class\": \"ReLU\", \"kargs\": {\"inplace\": True}},\n",
    "    {\"class\": \"BatchNorm2d\", \"kargs\": {\"num_features\":80}},\n",
    "    {\"class\": \"Flatten\", \"kargs\": {}},\n",
    "\n",
    "    {\"class\": \"Linear\", \"kargs\": {\"in_features\": 80*256, \"out_features\": 256}}, # 80 units per IQ pair\n",
    "    {\"class\": \"ReLU\", \"kargs\": {\"inplace\": True}},\n",
    "    {\"class\": \"BatchNorm1d\", \"kargs\": {\"num_features\":256}},\n",
    "\n",
    "    {\"class\": \"Linear\", \"kargs\": {\"in_features\": 256, \"out_features\": 256}},\n",
    "]\n",
    "\n",
    "# Parameters relevant to results\n",
    "# These parameters will basically never need to change\n",
    "standalone_parameters[\"NUM_LOGS_PER_EPOCH\"] = 10\n",
    "standalone_parameters[\"BEST_MODEL_PATH\"] = \"./best_model.pth\"\n",
    "\n",
    "\n",
    "\n",
    "\n"
   ]
  },
  {
   "cell_type": "code",
   "execution_count": 4,
   "id": "f6edc467",
   "metadata": {
    "execution": {
     "iopub.execute_input": "2022-03-21T00:50:51.994769Z",
     "iopub.status.busy": "2022-03-21T00:50:51.991894Z",
     "iopub.status.idle": "2022-03-21T00:50:52.008486Z",
     "shell.execute_reply": "2022-03-21T00:50:52.008052Z"
    },
    "papermill": {
     "duration": 0.035684,
     "end_time": "2022-03-21T00:50:52.008588",
     "exception": false,
     "start_time": "2022-03-21T00:50:51.972904",
     "status": "completed"
    },
    "tags": [
     "injected-parameters"
    ]
   },
   "outputs": [],
   "source": [
    "# Parameters\n",
    "parameters = {\n",
    "    \"experiment_name\": \"tl_3Av2:oracle.run1.framed -> cores+wisig\",\n",
    "    \"device\": \"cuda\",\n",
    "    \"lr\": 0.0001,\n",
    "    \"x_shape\": [2, 200],\n",
    "    \"n_shot\": 3,\n",
    "    \"n_query\": 2,\n",
    "    \"train_k_factor\": 3,\n",
    "    \"val_k_factor\": 2,\n",
    "    \"test_k_factor\": 2,\n",
    "    \"torch_default_dtype\": \"torch.float32\",\n",
    "    \"n_epoch\": 50,\n",
    "    \"patience\": 3,\n",
    "    \"criteria_for_best\": \"target_accuracy\",\n",
    "    \"x_net\": [\n",
    "        {\"class\": \"nnReshape\", \"kargs\": {\"shape\": [-1, 1, 2, 200]}},\n",
    "        {\n",
    "            \"class\": \"Conv2d\",\n",
    "            \"kargs\": {\n",
    "                \"in_channels\": 1,\n",
    "                \"out_channels\": 256,\n",
    "                \"kernel_size\": [1, 7],\n",
    "                \"bias\": False,\n",
    "                \"padding\": [0, 3],\n",
    "            },\n",
    "        },\n",
    "        {\"class\": \"ReLU\", \"kargs\": {\"inplace\": True}},\n",
    "        {\"class\": \"BatchNorm2d\", \"kargs\": {\"num_features\": 256}},\n",
    "        {\n",
    "            \"class\": \"Conv2d\",\n",
    "            \"kargs\": {\n",
    "                \"in_channels\": 256,\n",
    "                \"out_channels\": 80,\n",
    "                \"kernel_size\": [2, 7],\n",
    "                \"bias\": True,\n",
    "                \"padding\": [0, 3],\n",
    "            },\n",
    "        },\n",
    "        {\"class\": \"ReLU\", \"kargs\": {\"inplace\": True}},\n",
    "        {\"class\": \"BatchNorm2d\", \"kargs\": {\"num_features\": 80}},\n",
    "        {\"class\": \"Flatten\", \"kargs\": {}},\n",
    "        {\"class\": \"Linear\", \"kargs\": {\"in_features\": 16000, \"out_features\": 256}},\n",
    "        {\"class\": \"ReLU\", \"kargs\": {\"inplace\": True}},\n",
    "        {\"class\": \"BatchNorm1d\", \"kargs\": {\"num_features\": 256}},\n",
    "        {\"class\": \"Linear\", \"kargs\": {\"in_features\": 256, \"out_features\": 256}},\n",
    "    ],\n",
    "    \"NUM_LOGS_PER_EPOCH\": 10,\n",
    "    \"BEST_MODEL_PATH\": \"./best_model.pth\",\n",
    "    \"n_way\": 16,\n",
    "    \"datasets\": [\n",
    "        {\n",
    "            \"labels\": [\n",
    "                \"1-10.\",\n",
    "                \"1-11.\",\n",
    "                \"1-15.\",\n",
    "                \"1-16.\",\n",
    "                \"1-17.\",\n",
    "                \"1-18.\",\n",
    "                \"1-19.\",\n",
    "                \"10-4.\",\n",
    "                \"10-7.\",\n",
    "                \"11-1.\",\n",
    "                \"11-14.\",\n",
    "                \"11-17.\",\n",
    "                \"11-20.\",\n",
    "                \"11-7.\",\n",
    "                \"13-20.\",\n",
    "                \"13-8.\",\n",
    "                \"14-10.\",\n",
    "                \"14-11.\",\n",
    "                \"14-14.\",\n",
    "                \"14-7.\",\n",
    "                \"15-1.\",\n",
    "                \"15-20.\",\n",
    "                \"16-1.\",\n",
    "                \"16-16.\",\n",
    "                \"17-10.\",\n",
    "                \"17-11.\",\n",
    "                \"17-2.\",\n",
    "                \"19-1.\",\n",
    "                \"19-16.\",\n",
    "                \"19-19.\",\n",
    "                \"19-20.\",\n",
    "                \"19-3.\",\n",
    "                \"2-10.\",\n",
    "                \"2-11.\",\n",
    "                \"2-17.\",\n",
    "                \"2-18.\",\n",
    "                \"2-20.\",\n",
    "                \"2-3.\",\n",
    "                \"2-4.\",\n",
    "                \"2-5.\",\n",
    "                \"2-6.\",\n",
    "                \"2-7.\",\n",
    "                \"2-8.\",\n",
    "                \"3-13.\",\n",
    "                \"3-18.\",\n",
    "                \"3-3.\",\n",
    "                \"4-1.\",\n",
    "                \"4-10.\",\n",
    "                \"4-11.\",\n",
    "                \"4-19.\",\n",
    "                \"5-5.\",\n",
    "                \"6-15.\",\n",
    "                \"7-10.\",\n",
    "                \"7-14.\",\n",
    "                \"8-18.\",\n",
    "                \"8-20.\",\n",
    "                \"8-3.\",\n",
    "                \"8-8.\",\n",
    "            ],\n",
    "            \"domains\": [1, 2, 3, 4, 5],\n",
    "            \"num_examples_per_domain_per_label\": -1,\n",
    "            \"pickle_path\": \"/mnt/wd500GB/CSC500/csc500-main/datasets/cores.stratified_ds.2022A.pkl\",\n",
    "            \"source_or_target_dataset\": \"target\",\n",
    "            \"x_transforms\": [\"unit_mag\", \"take_200\"],\n",
    "            \"episode_transforms\": [],\n",
    "            \"domain_prefix\": \"C_\",\n",
    "        },\n",
    "        {\n",
    "            \"labels\": [\n",
    "                \"1-10\",\n",
    "                \"1-12\",\n",
    "                \"1-14\",\n",
    "                \"1-16\",\n",
    "                \"1-18\",\n",
    "                \"1-19\",\n",
    "                \"1-8\",\n",
    "                \"10-11\",\n",
    "                \"10-17\",\n",
    "                \"10-4\",\n",
    "                \"10-7\",\n",
    "                \"11-1\",\n",
    "                \"11-10\",\n",
    "                \"11-19\",\n",
    "                \"11-20\",\n",
    "                \"11-4\",\n",
    "                \"11-7\",\n",
    "                \"12-19\",\n",
    "                \"12-20\",\n",
    "                \"12-7\",\n",
    "                \"13-14\",\n",
    "                \"13-18\",\n",
    "                \"13-19\",\n",
    "                \"13-20\",\n",
    "                \"13-3\",\n",
    "                \"13-7\",\n",
    "                \"14-10\",\n",
    "                \"14-11\",\n",
    "                \"14-12\",\n",
    "                \"14-13\",\n",
    "                \"14-14\",\n",
    "                \"14-19\",\n",
    "                \"14-20\",\n",
    "                \"14-7\",\n",
    "                \"14-8\",\n",
    "                \"14-9\",\n",
    "                \"15-1\",\n",
    "                \"15-19\",\n",
    "                \"15-6\",\n",
    "                \"16-1\",\n",
    "                \"16-16\",\n",
    "                \"16-19\",\n",
    "                \"16-20\",\n",
    "                \"17-10\",\n",
    "                \"17-11\",\n",
    "                \"18-1\",\n",
    "                \"18-10\",\n",
    "                \"18-11\",\n",
    "                \"18-12\",\n",
    "                \"18-13\",\n",
    "                \"18-14\",\n",
    "                \"18-15\",\n",
    "                \"18-16\",\n",
    "                \"18-17\",\n",
    "                \"18-19\",\n",
    "                \"18-2\",\n",
    "                \"18-20\",\n",
    "                \"18-4\",\n",
    "                \"18-5\",\n",
    "                \"18-7\",\n",
    "                \"18-8\",\n",
    "                \"18-9\",\n",
    "                \"19-1\",\n",
    "                \"19-10\",\n",
    "                \"19-11\",\n",
    "                \"19-12\",\n",
    "                \"19-13\",\n",
    "                \"19-14\",\n",
    "                \"19-15\",\n",
    "                \"19-19\",\n",
    "                \"19-2\",\n",
    "                \"19-20\",\n",
    "                \"19-3\",\n",
    "                \"19-4\",\n",
    "                \"19-6\",\n",
    "                \"19-7\",\n",
    "                \"19-8\",\n",
    "                \"19-9\",\n",
    "                \"2-1\",\n",
    "                \"2-13\",\n",
    "                \"2-15\",\n",
    "                \"2-3\",\n",
    "                \"2-4\",\n",
    "                \"2-5\",\n",
    "                \"2-6\",\n",
    "                \"2-7\",\n",
    "                \"2-8\",\n",
    "                \"20-1\",\n",
    "                \"20-12\",\n",
    "                \"20-14\",\n",
    "                \"20-15\",\n",
    "                \"20-16\",\n",
    "                \"20-18\",\n",
    "                \"20-19\",\n",
    "                \"20-20\",\n",
    "                \"20-3\",\n",
    "                \"20-4\",\n",
    "                \"20-5\",\n",
    "                \"20-7\",\n",
    "                \"20-8\",\n",
    "                \"3-1\",\n",
    "                \"3-13\",\n",
    "                \"3-18\",\n",
    "                \"3-2\",\n",
    "                \"3-8\",\n",
    "                \"4-1\",\n",
    "                \"4-10\",\n",
    "                \"4-11\",\n",
    "                \"5-1\",\n",
    "                \"5-5\",\n",
    "                \"6-1\",\n",
    "                \"6-15\",\n",
    "                \"6-6\",\n",
    "                \"7-10\",\n",
    "                \"7-11\",\n",
    "                \"7-12\",\n",
    "                \"7-13\",\n",
    "                \"7-14\",\n",
    "                \"7-7\",\n",
    "                \"7-8\",\n",
    "                \"7-9\",\n",
    "                \"8-1\",\n",
    "                \"8-13\",\n",
    "                \"8-14\",\n",
    "                \"8-18\",\n",
    "                \"8-20\",\n",
    "                \"8-3\",\n",
    "                \"8-8\",\n",
    "                \"9-1\",\n",
    "                \"9-7\",\n",
    "            ],\n",
    "            \"domains\": [1, 2, 3, 4],\n",
    "            \"num_examples_per_domain_per_label\": -1,\n",
    "            \"pickle_path\": \"/mnt/wd500GB/CSC500/csc500-main/datasets/wisig.node3-19.stratified_ds.2022A.pkl\",\n",
    "            \"source_or_target_dataset\": \"target\",\n",
    "            \"x_transforms\": [\"unit_mag\", \"take_200\"],\n",
    "            \"episode_transforms\": [],\n",
    "            \"domain_prefix\": \"W_\",\n",
    "        },\n",
    "        {\n",
    "            \"labels\": [\n",
    "                \"3123D52\",\n",
    "                \"3123D65\",\n",
    "                \"3123D79\",\n",
    "                \"3123D80\",\n",
    "                \"3123D54\",\n",
    "                \"3123D70\",\n",
    "                \"3123D7B\",\n",
    "                \"3123D89\",\n",
    "                \"3123D58\",\n",
    "                \"3123D76\",\n",
    "                \"3123D7D\",\n",
    "                \"3123EFE\",\n",
    "                \"3123D64\",\n",
    "                \"3123D78\",\n",
    "                \"3123D7E\",\n",
    "                \"3124E4A\",\n",
    "            ],\n",
    "            \"domains\": [32, 38, 8, 44, 14, 50, 20, 26],\n",
    "            \"num_examples_per_domain_per_label\": 2000,\n",
    "            \"pickle_path\": \"/mnt/wd500GB/CSC500/csc500-main/datasets/oracle.Run1_framed_2000Examples_stratified_ds.2022A.pkl\",\n",
    "            \"source_or_target_dataset\": \"source\",\n",
    "            \"x_transforms\": [\"unit_mag\", \"take_200\", \"resample_20Msps_to_25Msps\"],\n",
    "            \"episode_transforms\": [],\n",
    "            \"domain_prefix\": \"O_\",\n",
    "        },\n",
    "    ],\n",
    "    \"seed\": 154325,\n",
    "    \"dataset_seed\": 154325,\n",
    "}\n"
   ]
  },
  {
   "cell_type": "code",
   "execution_count": 5,
   "id": "8fa1cc33",
   "metadata": {
    "execution": {
     "iopub.execute_input": "2022-03-21T00:50:52.043996Z",
     "iopub.status.busy": "2022-03-21T00:50:52.043382Z",
     "iopub.status.idle": "2022-03-21T00:50:52.055041Z",
     "shell.execute_reply": "2022-03-21T00:50:52.054785Z"
    },
    "papermill": {
     "duration": 0.027319,
     "end_time": "2022-03-21T00:50:52.055098",
     "exception": false,
     "start_time": "2022-03-21T00:50:52.027779",
     "status": "completed"
    },
    "tags": []
   },
   "outputs": [],
   "source": [
    "# Set this to True if you want to run this template directly\n",
    "STANDALONE = False\n",
    "if STANDALONE:\n",
    "    print(\"parameters not injected, running with standalone_parameters\")\n",
    "    parameters = standalone_parameters\n",
    "\n",
    "if not 'parameters' in locals() and not 'parameters' in globals():\n",
    "    raise Exception(\"Parameter injection failed\")\n",
    "\n",
    "#Use an easy dict for all the parameters\n",
    "p = EasyDict(parameters)\n",
    "\n",
    "if \"x_shape\" not in p:\n",
    "    p.x_shape = [2,256] # Default to this if we dont supply x_shape\n",
    "\n",
    "\n",
    "supplied_keys = set(p.keys())\n",
    "\n",
    "if  supplied_keys != required_parameters:\n",
    "    print(\"Parameters are incorrect\")\n",
    "    if len(supplied_keys - required_parameters)>0: print(\"Shouldn't have:\", str(supplied_keys - required_parameters))\n",
    "    if len(required_parameters - supplied_keys)>0: print(\"Need to have:\", str(required_parameters - supplied_keys))\n",
    "    raise RuntimeError(\"Parameters are incorrect\")"
   ]
  },
  {
   "cell_type": "code",
   "execution_count": 6,
   "id": "3a028d58",
   "metadata": {
    "execution": {
     "iopub.execute_input": "2022-03-21T00:50:52.087678Z",
     "iopub.status.busy": "2022-03-21T00:50:52.087422Z",
     "iopub.status.idle": "2022-03-21T00:50:52.102698Z",
     "shell.execute_reply": "2022-03-21T00:50:52.102212Z"
    },
    "papermill": {
     "duration": 0.0298,
     "end_time": "2022-03-21T00:50:52.102799",
     "exception": false,
     "start_time": "2022-03-21T00:50:52.072999",
     "status": "completed"
    },
    "tags": []
   },
   "outputs": [],
   "source": [
    "###################################\n",
    "# Set the RNGs and make it all deterministic\n",
    "###################################\n",
    "np.random.seed(p.seed)\n",
    "random.seed(p.seed)\n",
    "torch.manual_seed(p.seed)\n",
    "\n",
    "torch.use_deterministic_algorithms(True) "
   ]
  },
  {
   "cell_type": "code",
   "execution_count": 7,
   "id": "b691acf6",
   "metadata": {
    "execution": {
     "iopub.execute_input": "2022-03-21T00:50:52.137576Z",
     "iopub.status.busy": "2022-03-21T00:50:52.136597Z",
     "iopub.status.idle": "2022-03-21T00:50:52.153200Z",
     "shell.execute_reply": "2022-03-21T00:50:52.152717Z"
    },
    "papermill": {
     "duration": 0.032629,
     "end_time": "2022-03-21T00:50:52.153300",
     "exception": false,
     "start_time": "2022-03-21T00:50:52.120671",
     "status": "completed"
    },
    "tags": []
   },
   "outputs": [],
   "source": [
    "###########################################\n",
    "# The stratified datasets honor this\n",
    "###########################################\n",
    "torch.set_default_dtype(eval(p.torch_default_dtype))"
   ]
  },
  {
   "cell_type": "code",
   "execution_count": 8,
   "id": "b5fba671",
   "metadata": {
    "execution": {
     "iopub.execute_input": "2022-03-21T00:50:52.186415Z",
     "iopub.status.busy": "2022-03-21T00:50:52.186168Z",
     "iopub.status.idle": "2022-03-21T00:50:52.218274Z",
     "shell.execute_reply": "2022-03-21T00:50:52.217830Z"
    },
    "papermill": {
     "duration": 0.046697,
     "end_time": "2022-03-21T00:50:52.218385",
     "exception": false,
     "start_time": "2022-03-21T00:50:52.171688",
     "status": "completed"
    },
    "tags": []
   },
   "outputs": [],
   "source": [
    "###################################\n",
    "# Build the network(s)\n",
    "# Note: It's critical to do this AFTER setting the RNG\n",
    "###################################\n",
    "x_net = build_sequential(p.x_net)"
   ]
  },
  {
   "cell_type": "code",
   "execution_count": 9,
   "id": "5d7e61cc",
   "metadata": {
    "execution": {
     "iopub.execute_input": "2022-03-21T00:50:52.254473Z",
     "iopub.status.busy": "2022-03-21T00:50:52.254027Z",
     "iopub.status.idle": "2022-03-21T00:50:52.270430Z",
     "shell.execute_reply": "2022-03-21T00:50:52.270008Z"
    },
    "papermill": {
     "duration": 0.032037,
     "end_time": "2022-03-21T00:50:52.270531",
     "exception": false,
     "start_time": "2022-03-21T00:50:52.238494",
     "status": "completed"
    },
    "tags": []
   },
   "outputs": [],
   "source": [
    "start_time_secs = time.time()"
   ]
  },
  {
   "cell_type": "code",
   "execution_count": 10,
   "id": "c6b67dfd",
   "metadata": {
    "execution": {
     "iopub.execute_input": "2022-03-21T00:50:52.304817Z",
     "iopub.status.busy": "2022-03-21T00:50:52.304558Z",
     "iopub.status.idle": "2022-03-21T00:50:52.321665Z",
     "shell.execute_reply": "2022-03-21T00:50:52.321191Z"
    },
    "papermill": {
     "duration": 0.032698,
     "end_time": "2022-03-21T00:50:52.321764",
     "exception": false,
     "start_time": "2022-03-21T00:50:52.289066",
     "status": "completed"
    },
    "tags": []
   },
   "outputs": [],
   "source": [
    "p.domains_source = []\n",
    "p.domains_target = []\n",
    "\n",
    "\n",
    "train_original_source = []\n",
    "val_original_source   = []\n",
    "test_original_source  = []\n",
    "\n",
    "train_original_target = []\n",
    "val_original_target   = []\n",
    "test_original_target  = []"
   ]
  },
  {
   "cell_type": "code",
   "execution_count": 11,
   "id": "e3d9c3d3",
   "metadata": {
    "execution": {
     "iopub.execute_input": "2022-03-21T00:50:52.354876Z",
     "iopub.status.busy": "2022-03-21T00:50:52.354625Z",
     "iopub.status.idle": "2022-03-21T00:50:52.368735Z",
     "shell.execute_reply": "2022-03-21T00:50:52.368273Z"
    },
    "papermill": {
     "duration": 0.029647,
     "end_time": "2022-03-21T00:50:52.368838",
     "exception": false,
     "start_time": "2022-03-21T00:50:52.339191",
     "status": "completed"
    },
    "tags": []
   },
   "outputs": [],
   "source": [
    "# global_x_transform_func = lambda x: normalize(x.to(torch.get_default_dtype()), \"unit_power\") # unit_power, unit_mag\n",
    "# global_x_transform_func = lambda x: normalize(x, \"unit_power\") # unit_power, unit_mag"
   ]
  },
  {
   "cell_type": "code",
   "execution_count": 12,
   "id": "acb78fd2",
   "metadata": {
    "execution": {
     "iopub.execute_input": "2022-03-21T00:50:52.408635Z",
     "iopub.status.busy": "2022-03-21T00:50:52.408265Z",
     "iopub.status.idle": "2022-03-21T00:50:52.422392Z",
     "shell.execute_reply": "2022-03-21T00:50:52.421907Z"
    },
    "papermill": {
     "duration": 0.034456,
     "end_time": "2022-03-21T00:50:52.422492",
     "exception": false,
     "start_time": "2022-03-21T00:50:52.388036",
     "status": "completed"
    },
    "tags": []
   },
   "outputs": [],
   "source": [
    "def add_dataset(\n",
    "    labels,\n",
    "    domains,\n",
    "    pickle_path,\n",
    "    x_transforms,\n",
    "    episode_transforms,\n",
    "    domain_prefix,\n",
    "    num_examples_per_domain_per_label,\n",
    "    source_or_target_dataset:str,\n",
    "    iterator_seed=p.seed,\n",
    "    dataset_seed=p.dataset_seed,\n",
    "    n_shot=p.n_shot,\n",
    "    n_way=p.n_way,\n",
    "    n_query=p.n_query,\n",
    "    train_val_test_k_factors=(p.train_k_factor,p.val_k_factor,p.test_k_factor),\n",
    "):\n",
    "   \n",
    "    if x_transforms == []: x_transform = None\n",
    "    else: x_transform = get_chained_transform(x_transforms)\n",
    "    \n",
    "    if episode_transforms == []: episode_transform = None\n",
    "    else: raise Exception(\"episode_transforms not implemented\")\n",
    "    \n",
    "    episode_transform = lambda tup, _prefix=domain_prefix: (_prefix + str(tup[0]), tup[1])\n",
    "\n",
    "\n",
    "    eaf = Episodic_Accessor_Factory(\n",
    "        labels=labels,\n",
    "        domains=domains,\n",
    "        num_examples_per_domain_per_label=num_examples_per_domain_per_label,\n",
    "        iterator_seed=iterator_seed,\n",
    "        dataset_seed=dataset_seed,\n",
    "        n_shot=n_shot,\n",
    "        n_way=n_way,\n",
    "        n_query=n_query,\n",
    "        train_val_test_k_factors=train_val_test_k_factors,\n",
    "        pickle_path=pickle_path,\n",
    "        x_transform_func=x_transform,\n",
    "    )\n",
    "\n",
    "    train, val, test = eaf.get_train(), eaf.get_val(), eaf.get_test()\n",
    "    train = Lazy_Iterable_Wrapper(train, episode_transform)\n",
    "    val = Lazy_Iterable_Wrapper(val, episode_transform)\n",
    "    test = Lazy_Iterable_Wrapper(test, episode_transform)\n",
    "\n",
    "    if source_or_target_dataset==\"source\":\n",
    "        train_original_source.append(train)\n",
    "        val_original_source.append(val)\n",
    "        test_original_source.append(test)\n",
    "\n",
    "        p.domains_source.extend(\n",
    "            [domain_prefix + str(u) for u in domains]\n",
    "        )\n",
    "    elif source_or_target_dataset==\"target\":\n",
    "        train_original_target.append(train)\n",
    "        val_original_target.append(val)\n",
    "        test_original_target.append(test)\n",
    "        p.domains_target.extend(\n",
    "            [domain_prefix + str(u) for u in domains]\n",
    "        )\n",
    "    else:\n",
    "        raise Exception(f\"invalid source_or_target_dataset: {source_or_target_dataset}\")\n",
    "    "
   ]
  },
  {
   "cell_type": "code",
   "execution_count": 13,
   "id": "fe266617",
   "metadata": {
    "execution": {
     "iopub.execute_input": "2022-03-21T00:50:52.456162Z",
     "iopub.status.busy": "2022-03-21T00:50:52.455915Z",
     "iopub.status.idle": "2022-03-21T00:52:00.176997Z",
     "shell.execute_reply": "2022-03-21T00:52:00.177390Z"
    },
    "papermill": {
     "duration": 67.737032,
     "end_time": "2022-03-21T00:52:00.177541",
     "exception": false,
     "start_time": "2022-03-21T00:50:52.440509",
     "status": "completed"
    },
    "tags": []
   },
   "outputs": [],
   "source": [
    "for ds in p.datasets:\n",
    "    add_dataset(**ds)"
   ]
  },
  {
   "cell_type": "code",
   "execution_count": 14,
   "id": "b90d65ac",
   "metadata": {
    "execution": {
     "iopub.execute_input": "2022-03-21T00:52:00.215279Z",
     "iopub.status.busy": "2022-03-21T00:52:00.214931Z",
     "iopub.status.idle": "2022-03-21T00:52:00.230130Z",
     "shell.execute_reply": "2022-03-21T00:52:00.229602Z"
    },
    "papermill": {
     "duration": 0.033174,
     "end_time": "2022-03-21T00:52:00.230246",
     "exception": false,
     "start_time": "2022-03-21T00:52:00.197072",
     "status": "completed"
    },
    "tags": []
   },
   "outputs": [],
   "source": [
    "# from steves_utils.CORES.utils import (\n",
    "#     ALL_NODES,\n",
    "#     ALL_NODES_MINIMUM_1000_EXAMPLES,\n",
    "#     ALL_DAYS\n",
    "# )\n",
    "\n",
    "# add_dataset(\n",
    "#     labels=ALL_NODES,\n",
    "#     domains = ALL_DAYS,\n",
    "#     num_examples_per_domain_per_label=100,\n",
    "#     pickle_path=os.path.join(get_datasets_base_path(), \"cores.stratified_ds.2022A.pkl\"),\n",
    "#     source_or_target_dataset=\"target\",\n",
    "#     x_transform_func=global_x_transform_func,\n",
    "#     domain_modifier=lambda u: f\"cores_{u}\"\n",
    "# )"
   ]
  },
  {
   "cell_type": "code",
   "execution_count": 15,
   "id": "76db484d",
   "metadata": {
    "execution": {
     "iopub.execute_input": "2022-03-21T00:52:00.267284Z",
     "iopub.status.busy": "2022-03-21T00:52:00.267010Z",
     "iopub.status.idle": "2022-03-21T00:52:00.281683Z",
     "shell.execute_reply": "2022-03-21T00:52:00.281331Z"
    },
    "papermill": {
     "duration": 0.032134,
     "end_time": "2022-03-21T00:52:00.281764",
     "exception": false,
     "start_time": "2022-03-21T00:52:00.249630",
     "status": "completed"
    },
    "tags": []
   },
   "outputs": [],
   "source": [
    "# from steves_utils.ORACLE.utils_v2 import (\n",
    "#     ALL_DISTANCES_FEET,\n",
    "#     ALL_RUNS,\n",
    "#     ALL_SERIAL_NUMBERS,\n",
    "# )\n",
    "\n",
    "\n",
    "# add_dataset(\n",
    "#     labels=ALL_SERIAL_NUMBERS,\n",
    "#     domains = list(set(ALL_DISTANCES_FEET) - {2,62}),\n",
    "#     num_examples_per_domain_per_label=100,\n",
    "#     pickle_path=os.path.join(get_datasets_base_path(), \"oracle.Run2_framed_2000Examples_stratified_ds.2022A.pkl\"),\n",
    "#     source_or_target_dataset=\"source\",\n",
    "#     x_transform_func=global_x_transform_func,\n",
    "#     domain_modifier=lambda u: f\"oracle1_{u}\"\n",
    "# )\n"
   ]
  },
  {
   "cell_type": "code",
   "execution_count": 16,
   "id": "97dea9d2",
   "metadata": {
    "execution": {
     "iopub.execute_input": "2022-03-21T00:52:00.322958Z",
     "iopub.status.busy": "2022-03-21T00:52:00.322558Z",
     "iopub.status.idle": "2022-03-21T00:52:00.335406Z",
     "shell.execute_reply": "2022-03-21T00:52:00.335005Z"
    },
    "papermill": {
     "duration": 0.035676,
     "end_time": "2022-03-21T00:52:00.335497",
     "exception": false,
     "start_time": "2022-03-21T00:52:00.299821",
     "status": "completed"
    },
    "tags": []
   },
   "outputs": [],
   "source": [
    "# from steves_utils.ORACLE.utils_v2 import (\n",
    "#     ALL_DISTANCES_FEET,\n",
    "#     ALL_RUNS,\n",
    "#     ALL_SERIAL_NUMBERS,\n",
    "# )\n",
    "\n",
    "\n",
    "# add_dataset(\n",
    "#     labels=ALL_SERIAL_NUMBERS,\n",
    "#     domains = list(set(ALL_DISTANCES_FEET) - {2,62,56}),\n",
    "#     num_examples_per_domain_per_label=100,\n",
    "#     pickle_path=os.path.join(get_datasets_base_path(), \"oracle.Run2_framed_2000Examples_stratified_ds.2022A.pkl\"),\n",
    "#     source_or_target_dataset=\"source\",\n",
    "#     x_transform_func=global_x_transform_func,\n",
    "#     domain_modifier=lambda u: f\"oracle2_{u}\"\n",
    "# )"
   ]
  },
  {
   "cell_type": "code",
   "execution_count": 17,
   "id": "6f289866",
   "metadata": {
    "execution": {
     "iopub.execute_input": "2022-03-21T00:52:00.370044Z",
     "iopub.status.busy": "2022-03-21T00:52:00.369550Z",
     "iopub.status.idle": "2022-03-21T00:52:00.386066Z",
     "shell.execute_reply": "2022-03-21T00:52:00.386374Z"
    },
    "papermill": {
     "duration": 0.034614,
     "end_time": "2022-03-21T00:52:00.386488",
     "exception": false,
     "start_time": "2022-03-21T00:52:00.351874",
     "status": "completed"
    },
    "tags": []
   },
   "outputs": [],
   "source": [
    "# add_dataset(\n",
    "#     labels=list(range(19)),\n",
    "#     domains = [0,1,2],\n",
    "#     num_examples_per_domain_per_label=100,\n",
    "#     pickle_path=os.path.join(get_datasets_base_path(), \"metehan.stratified_ds.2022A.pkl\"),\n",
    "#     source_or_target_dataset=\"target\",\n",
    "#     x_transform_func=global_x_transform_func,\n",
    "#     domain_modifier=lambda u: f\"met_{u}\"\n",
    "# )"
   ]
  },
  {
   "cell_type": "code",
   "execution_count": 18,
   "id": "86a863c3",
   "metadata": {
    "execution": {
     "iopub.execute_input": "2022-03-21T00:52:00.432344Z",
     "iopub.status.busy": "2022-03-21T00:52:00.431910Z",
     "iopub.status.idle": "2022-03-21T00:52:00.445297Z",
     "shell.execute_reply": "2022-03-21T00:52:00.444925Z"
    },
    "papermill": {
     "duration": 0.039908,
     "end_time": "2022-03-21T00:52:00.445400",
     "exception": false,
     "start_time": "2022-03-21T00:52:00.405492",
     "status": "completed"
    },
    "tags": []
   },
   "outputs": [],
   "source": [
    "# # from steves_utils.wisig.utils import (\n",
    "# #     ALL_NODES_MINIMUM_100_EXAMPLES,\n",
    "# #     ALL_NODES_MINIMUM_500_EXAMPLES,\n",
    "# #     ALL_NODES_MINIMUM_1000_EXAMPLES,\n",
    "# #     ALL_DAYS\n",
    "# # )\n",
    "\n",
    "# import steves_utils.wisig.utils as wisig\n",
    "\n",
    "\n",
    "# add_dataset(\n",
    "#     labels=wisig.ALL_NODES_MINIMUM_100_EXAMPLES,\n",
    "#     domains = wisig.ALL_DAYS,\n",
    "#     num_examples_per_domain_per_label=100,\n",
    "#     pickle_path=os.path.join(get_datasets_base_path(), \"wisig.node3-19.stratified_ds.2022A.pkl\"),\n",
    "#     source_or_target_dataset=\"target\",\n",
    "#     x_transform_func=global_x_transform_func,\n",
    "#     domain_modifier=lambda u: f\"wisig_{u}\"\n",
    "# )"
   ]
  },
  {
   "cell_type": "code",
   "execution_count": 19,
   "id": "fd5442bc",
   "metadata": {
    "execution": {
     "iopub.execute_input": "2022-03-21T00:52:00.489789Z",
     "iopub.status.busy": "2022-03-21T00:52:00.489354Z",
     "iopub.status.idle": "2022-03-21T00:52:00.506197Z",
     "shell.execute_reply": "2022-03-21T00:52:00.505829Z"
    },
    "papermill": {
     "duration": 0.042329,
     "end_time": "2022-03-21T00:52:00.506290",
     "exception": false,
     "start_time": "2022-03-21T00:52:00.463961",
     "status": "completed"
    },
    "tags": []
   },
   "outputs": [],
   "source": [
    "###################################\n",
    "# Build the dataset\n",
    "###################################\n",
    "train_original_source = Iterable_Aggregator(train_original_source, p.seed)\n",
    "val_original_source = Iterable_Aggregator(val_original_source, p.seed)\n",
    "test_original_source = Iterable_Aggregator(test_original_source, p.seed)\n",
    "\n",
    "\n",
    "train_original_target = Iterable_Aggregator(train_original_target, p.seed)\n",
    "val_original_target = Iterable_Aggregator(val_original_target, p.seed)\n",
    "test_original_target = Iterable_Aggregator(test_original_target, p.seed)\n",
    "\n",
    "# For CNN We only use X and Y. And we only train on the source.\n",
    "# Properly form the data using a transform lambda and Lazy_Iterable_Wrapper. Finally wrap them in a dataloader\n",
    "\n",
    "transform_lambda = lambda ex: ex[1] # Original is (<domain>, <episode>) so we strip down to episode only\n",
    "\n",
    "train_processed_source = Lazy_Iterable_Wrapper(train_original_source, transform_lambda)\n",
    "val_processed_source   = Lazy_Iterable_Wrapper(val_original_source, transform_lambda)\n",
    "test_processed_source  = Lazy_Iterable_Wrapper(test_original_source, transform_lambda)\n",
    "\n",
    "train_processed_target = Lazy_Iterable_Wrapper(train_original_target, transform_lambda)\n",
    "val_processed_target   = Lazy_Iterable_Wrapper(val_original_target, transform_lambda)\n",
    "test_processed_target  = Lazy_Iterable_Wrapper(test_original_target, transform_lambda)\n",
    "\n",
    "datasets = EasyDict({\n",
    "    \"source\": {\n",
    "        \"original\": {\"train\":train_original_source, \"val\":val_original_source, \"test\":test_original_source},\n",
    "        \"processed\": {\"train\":train_processed_source, \"val\":val_processed_source, \"test\":test_processed_source}\n",
    "    },\n",
    "    \"target\": {\n",
    "        \"original\": {\"train\":train_original_target, \"val\":val_original_target, \"test\":test_original_target},\n",
    "        \"processed\": {\"train\":train_processed_target, \"val\":val_processed_target, \"test\":test_processed_target}\n",
    "    },\n",
    "})"
   ]
  },
  {
   "cell_type": "code",
   "execution_count": 20,
   "id": "5b3c01fc",
   "metadata": {
    "execution": {
     "iopub.execute_input": "2022-03-21T00:52:00.546038Z",
     "iopub.status.busy": "2022-03-21T00:52:00.545401Z",
     "iopub.status.idle": "2022-03-21T00:52:09.471950Z",
     "shell.execute_reply": "2022-03-21T00:52:09.472254Z"
    },
    "papermill": {
     "duration": 8.946151,
     "end_time": "2022-03-21T00:52:09.472368",
     "exception": false,
     "start_time": "2022-03-21T00:52:00.526217",
     "status": "completed"
    },
    "tags": []
   },
   "outputs": [
    {
     "name": "stdout",
     "output_type": "stream",
     "text": [
      "{'O_20', 'O_38', 'O_14', 'O_50', 'O_26', 'O_8', 'O_32', 'O_44'}\n"
     ]
    },
    {
     "name": "stdout",
     "output_type": "stream",
     "text": [
      "{'W_3', 'C_4', 'C_1', 'C_2', 'C_5', 'W_2', 'W_1', 'C_3', 'W_4'}\n"
     ]
    },
    {
     "name": "stdout",
     "output_type": "stream",
     "text": [
      "tensor([[[-0.1976,  0.8964,  0.6179,  ...,  0.7206, -0.3259, -0.0401],\n",
      "         [-0.4141,  0.2221,  0.6058,  ..., -0.1632,  1.0459,  1.0451]],\n",
      "\n",
      "        [[ 0.0528,  1.2022,  0.4312,  ...,  0.5104,  0.3726,  0.9936],\n",
      "         [-0.4033, -0.4142,  0.2730,  ..., -0.2160,  1.1540,  0.4026]],\n",
      "\n",
      "        [[-0.6842, -0.4655,  0.6928,  ...,  0.4342,  0.8958, -0.3865],\n",
      "         [-0.4171, -1.1542,  0.1186,  ..., -0.6166, -0.7042, -1.1792]],\n",
      "\n",
      "        ...,\n",
      "\n",
      "        [[ 0.1044,  0.7266,  0.1941,  ...,  0.9745,  0.9595,  0.7222],\n",
      "         [-0.9009, -0.7415,  1.0205,  ...,  0.3168,  0.3631, -1.0011]],\n",
      "\n",
      "        [[-0.2632,  0.9271,  0.8168,  ...,  0.7683, -0.0289,  0.1322],\n",
      "         [-0.4929, -0.1107,  0.4974,  ..., -0.4560,  1.0749,  0.9414]],\n",
      "\n",
      "        [[-0.7664, -1.1655,  0.5360,  ..., -0.3593, -0.3861, -1.3174],\n",
      "         [ 0.5410,  0.0877, -0.7393,  ..., -0.9040, -0.9683,  0.1122]]])\n"
     ]
    }
   ],
   "source": [
    "from steves_utils.transforms import get_average_magnitude, get_average_power\n",
    "\n",
    "print(set([u for u,_ in val_original_source]))\n",
    "print(set([u for u,_ in val_original_target]))\n",
    "\n",
    "s_x, s_y, q_x, q_y, _ = next(iter(train_processed_source))\n",
    "print(s_x)\n",
    "\n",
    "# for ds in [\n",
    "#     train_processed_source,\n",
    "#     val_processed_source,\n",
    "#     test_processed_source,\n",
    "#     train_processed_target,\n",
    "#     val_processed_target,\n",
    "#     test_processed_target\n",
    "# ]:\n",
    "#     for s_x, s_y, q_x, q_y, _ in ds:\n",
    "#         for X in (s_x, q_x):\n",
    "#             for x in X:\n",
    "#                 assert np.isclose(get_average_magnitude(x.numpy()), 1.0)\n",
    "#                 assert np.isclose(get_average_power(x.numpy()), 1.0)\n",
    "                "
   ]
  },
  {
   "cell_type": "code",
   "execution_count": 21,
   "id": "bbdacba1",
   "metadata": {
    "execution": {
     "iopub.execute_input": "2022-03-21T00:52:09.511838Z",
     "iopub.status.busy": "2022-03-21T00:52:09.511512Z",
     "iopub.status.idle": "2022-03-21T00:52:09.564020Z",
     "shell.execute_reply": "2022-03-21T00:52:09.564342Z"
    },
    "papermill": {
     "duration": 0.072188,
     "end_time": "2022-03-21T00:52:09.564449",
     "exception": false,
     "start_time": "2022-03-21T00:52:09.492261",
     "status": "completed"
    },
    "tags": []
   },
   "outputs": [
    {
     "name": "stdout",
     "output_type": "stream",
     "text": [
      "(2, 200)\n"
     ]
    }
   ],
   "source": [
    "###################################\n",
    "# Build the model\n",
    "###################################\n",
    "# easfsl only wants a tuple for the shape\n",
    "model = Steves_Prototypical_Network(x_net, device=p.device, x_shape=tuple(p.x_shape))\n",
    "optimizer = Adam(params=model.parameters(), lr=p.lr)"
   ]
  },
  {
   "cell_type": "code",
   "execution_count": 22,
   "id": "22b39ac5",
   "metadata": {
    "execution": {
     "iopub.execute_input": "2022-03-21T00:52:09.604160Z",
     "iopub.status.busy": "2022-03-21T00:52:09.602155Z",
     "iopub.status.idle": "2022-03-21T01:18:33.349934Z",
     "shell.execute_reply": "2022-03-21T01:18:33.350318Z"
    },
    "papermill": {
     "duration": 1583.765147,
     "end_time": "2022-03-21T01:18:33.350438",
     "exception": false,
     "start_time": "2022-03-21T00:52:09.585291",
     "status": "completed"
    },
    "tags": []
   },
   "outputs": [
    {
     "name": "stdout",
     "output_type": "stream",
     "text": [
      "epoch: 1, [batch: 1 / 6720], examples_per_second: 43.6741, train_label_loss: 2.9635, \n"
     ]
    },
    {
     "name": "stdout",
     "output_type": "stream",
     "text": [
      "epoch: 1, [batch: 672 / 6720], examples_per_second: 3271.6466, train_label_loss: 1.1513, \n"
     ]
    },
    {
     "name": "stdout",
     "output_type": "stream",
     "text": [
      "epoch: 1, [batch: 1344 / 6720], examples_per_second: 3314.3227, train_label_loss: 0.8990, \n"
     ]
    },
    {
     "name": "stdout",
     "output_type": "stream",
     "text": [
      "epoch: 1, [batch: 2016 / 6720], examples_per_second: 3257.2009, train_label_loss: 0.6878, \n"
     ]
    },
    {
     "name": "stdout",
     "output_type": "stream",
     "text": [
      "epoch: 1, [batch: 2688 / 6720], examples_per_second: 3247.8165, train_label_loss: 1.1164, \n"
     ]
    },
    {
     "name": "stdout",
     "output_type": "stream",
     "text": [
      "epoch: 1, [batch: 3360 / 6720], examples_per_second: 3266.6740, train_label_loss: 0.8208, \n"
     ]
    },
    {
     "name": "stdout",
     "output_type": "stream",
     "text": [
      "epoch: 1, [batch: 4032 / 6720], examples_per_second: 3274.2077, train_label_loss: 1.0382, \n"
     ]
    },
    {
     "name": "stdout",
     "output_type": "stream",
     "text": [
      "epoch: 1, [batch: 4704 / 6720], examples_per_second: 3238.7917, train_label_loss: 0.6355, \n"
     ]
    },
    {
     "name": "stdout",
     "output_type": "stream",
     "text": [
      "epoch: 1, [batch: 5376 / 6720], examples_per_second: 3262.7363, train_label_loss: 0.6821, \n"
     ]
    },
    {
     "name": "stdout",
     "output_type": "stream",
     "text": [
      "epoch: 1, [batch: 6048 / 6720], examples_per_second: 3308.6831, train_label_loss: 0.7515, \n"
     ]
    },
    {
     "name": "stdout",
     "output_type": "stream",
     "text": [
      "=============================================================\n",
      "epoch: 1, source_val_acc_label: 0.6392, target_val_acc_label: 0.6329, source_val_label_loss: 1.0273, target_val_label_loss: 5.3882, \n",
      "=============================================================\n"
     ]
    },
    {
     "name": "stdout",
     "output_type": "stream",
     "text": [
      "New best\n"
     ]
    },
    {
     "name": "stdout",
     "output_type": "stream",
     "text": [
      "epoch: 2, [batch: 1 / 6720], examples_per_second: 3.9524, train_label_loss: 0.7467, \n"
     ]
    },
    {
     "name": "stdout",
     "output_type": "stream",
     "text": [
      "epoch: 2, [batch: 672 / 6720], examples_per_second: 3297.2437, train_label_loss: 0.9212, \n"
     ]
    },
    {
     "name": "stdout",
     "output_type": "stream",
     "text": [
      "epoch: 2, [batch: 1344 / 6720], examples_per_second: 3323.1939, train_label_loss: 1.2759, \n"
     ]
    },
    {
     "name": "stdout",
     "output_type": "stream",
     "text": [
      "epoch: 2, [batch: 2016 / 6720], examples_per_second: 3315.8221, train_label_loss: 0.4492, \n"
     ]
    },
    {
     "name": "stdout",
     "output_type": "stream",
     "text": [
      "epoch: 2, [batch: 2688 / 6720], examples_per_second: 3279.8253, train_label_loss: 0.6827, \n"
     ]
    },
    {
     "name": "stdout",
     "output_type": "stream",
     "text": [
      "epoch: 2, [batch: 3360 / 6720], examples_per_second: 3236.1878, train_label_loss: 0.5954, \n"
     ]
    },
    {
     "name": "stdout",
     "output_type": "stream",
     "text": [
      "epoch: 2, [batch: 4032 / 6720], examples_per_second: 3261.4014, train_label_loss: 0.5320, \n"
     ]
    },
    {
     "name": "stdout",
     "output_type": "stream",
     "text": [
      "epoch: 2, [batch: 4704 / 6720], examples_per_second: 3270.9407, train_label_loss: 0.3813, \n"
     ]
    },
    {
     "name": "stdout",
     "output_type": "stream",
     "text": [
      "epoch: 2, [batch: 5376 / 6720], examples_per_second: 3384.1937, train_label_loss: 1.2922, \n"
     ]
    },
    {
     "name": "stdout",
     "output_type": "stream",
     "text": [
      "epoch: 2, [batch: 6048 / 6720], examples_per_second: 3442.5683, train_label_loss: 0.4191, \n"
     ]
    },
    {
     "name": "stdout",
     "output_type": "stream",
     "text": [
      "=============================================================\n",
      "epoch: 2, source_val_acc_label: 0.7197, target_val_acc_label: 0.6654, source_val_label_loss: 0.7524, target_val_label_loss: 4.2073, \n",
      "=============================================================\n"
     ]
    },
    {
     "name": "stdout",
     "output_type": "stream",
     "text": [
      "New best\n"
     ]
    },
    {
     "name": "stdout",
     "output_type": "stream",
     "text": [
      "epoch: 3, [batch: 1 / 6720], examples_per_second: 4.1164, train_label_loss: 1.1471, \n"
     ]
    },
    {
     "name": "stdout",
     "output_type": "stream",
     "text": [
      "epoch: 3, [batch: 672 / 6720], examples_per_second: 3443.6067, train_label_loss: 0.6368, \n"
     ]
    },
    {
     "name": "stdout",
     "output_type": "stream",
     "text": [
      "epoch: 3, [batch: 1344 / 6720], examples_per_second: 3498.5825, train_label_loss: 1.0785, \n"
     ]
    },
    {
     "name": "stdout",
     "output_type": "stream",
     "text": [
      "epoch: 3, [batch: 2016 / 6720], examples_per_second: 3462.9142, train_label_loss: 0.8248, \n"
     ]
    },
    {
     "name": "stdout",
     "output_type": "stream",
     "text": [
      "epoch: 3, [batch: 2688 / 6720], examples_per_second: 3522.4313, train_label_loss: 0.3978, \n"
     ]
    },
    {
     "name": "stdout",
     "output_type": "stream",
     "text": [
      "epoch: 3, [batch: 3360 / 6720], examples_per_second: 3460.0744, train_label_loss: 0.3706, \n"
     ]
    },
    {
     "name": "stdout",
     "output_type": "stream",
     "text": [
      "epoch: 3, [batch: 4032 / 6720], examples_per_second: 3514.5511, train_label_loss: 0.7552, \n"
     ]
    },
    {
     "name": "stdout",
     "output_type": "stream",
     "text": [
      "epoch: 3, [batch: 4704 / 6720], examples_per_second: 3497.5711, train_label_loss: 0.4519, \n"
     ]
    },
    {
     "name": "stdout",
     "output_type": "stream",
     "text": [
      "epoch: 3, [batch: 5376 / 6720], examples_per_second: 3472.6845, train_label_loss: 0.2039, \n"
     ]
    },
    {
     "name": "stdout",
     "output_type": "stream",
     "text": [
      "epoch: 3, [batch: 6048 / 6720], examples_per_second: 3517.5032, train_label_loss: 0.6958, \n"
     ]
    },
    {
     "name": "stdout",
     "output_type": "stream",
     "text": [
      "=============================================================\n",
      "epoch: 3, source_val_acc_label: 0.7894, target_val_acc_label: 0.6637, source_val_label_loss: 0.5754, target_val_label_loss: 4.4914, \n",
      "=============================================================\n"
     ]
    },
    {
     "name": "stdout",
     "output_type": "stream",
     "text": [
      "epoch: 4, [batch: 1 / 6720], examples_per_second: 4.1234, train_label_loss: 0.4181, \n"
     ]
    },
    {
     "name": "stdout",
     "output_type": "stream",
     "text": [
      "epoch: 4, [batch: 672 / 6720], examples_per_second: 3432.8768, train_label_loss: 0.2927, \n"
     ]
    },
    {
     "name": "stdout",
     "output_type": "stream",
     "text": [
      "epoch: 4, [batch: 1344 / 6720], examples_per_second: 3460.3338, train_label_loss: 0.2859, \n"
     ]
    },
    {
     "name": "stdout",
     "output_type": "stream",
     "text": [
      "epoch: 4, [batch: 2016 / 6720], examples_per_second: 3434.8214, train_label_loss: 0.2425, \n"
     ]
    },
    {
     "name": "stdout",
     "output_type": "stream",
     "text": [
      "epoch: 4, [batch: 2688 / 6720], examples_per_second: 3478.9789, train_label_loss: 0.4571, \n"
     ]
    },
    {
     "name": "stdout",
     "output_type": "stream",
     "text": [
      "epoch: 4, [batch: 3360 / 6720], examples_per_second: 3458.3872, train_label_loss: 0.2929, \n"
     ]
    },
    {
     "name": "stdout",
     "output_type": "stream",
     "text": [
      "epoch: 4, [batch: 4032 / 6720], examples_per_second: 3455.7503, train_label_loss: 0.5805, \n"
     ]
    },
    {
     "name": "stdout",
     "output_type": "stream",
     "text": [
      "epoch: 4, [batch: 4704 / 6720], examples_per_second: 3461.8609, train_label_loss: 0.4072, \n"
     ]
    },
    {
     "name": "stdout",
     "output_type": "stream",
     "text": [
      "epoch: 4, [batch: 5376 / 6720], examples_per_second: 3467.9220, train_label_loss: 0.4692, \n"
     ]
    },
    {
     "name": "stdout",
     "output_type": "stream",
     "text": [
      "epoch: 4, [batch: 6048 / 6720], examples_per_second: 3459.6299, train_label_loss: 0.2572, \n"
     ]
    },
    {
     "name": "stdout",
     "output_type": "stream",
     "text": [
      "=============================================================\n",
      "epoch: 4, source_val_acc_label: 0.8251, target_val_acc_label: 0.6845, source_val_label_loss: 0.4812, target_val_label_loss: 4.4314, \n",
      "=============================================================\n"
     ]
    },
    {
     "name": "stdout",
     "output_type": "stream",
     "text": [
      "New best\n"
     ]
    },
    {
     "name": "stdout",
     "output_type": "stream",
     "text": [
      "epoch: 5, [batch: 1 / 6720], examples_per_second: 4.2591, train_label_loss: 0.6180, \n"
     ]
    },
    {
     "name": "stdout",
     "output_type": "stream",
     "text": [
      "epoch: 5, [batch: 672 / 6720], examples_per_second: 3640.7474, train_label_loss: 0.7746, \n"
     ]
    },
    {
     "name": "stdout",
     "output_type": "stream",
     "text": [
      "epoch: 5, [batch: 1344 / 6720], examples_per_second: 3535.6288, train_label_loss: 0.3425, \n"
     ]
    },
    {
     "name": "stdout",
     "output_type": "stream",
     "text": [
      "epoch: 5, [batch: 2016 / 6720], examples_per_second: 3566.3416, train_label_loss: 1.0826, \n"
     ]
    },
    {
     "name": "stdout",
     "output_type": "stream",
     "text": [
      "epoch: 5, [batch: 2688 / 6720], examples_per_second: 3528.3825, train_label_loss: 0.4838, \n"
     ]
    },
    {
     "name": "stdout",
     "output_type": "stream",
     "text": [
      "epoch: 5, [batch: 3360 / 6720], examples_per_second: 3673.3491, train_label_loss: 0.9726, \n"
     ]
    },
    {
     "name": "stdout",
     "output_type": "stream",
     "text": [
      "epoch: 5, [batch: 4032 / 6720], examples_per_second: 3549.0770, train_label_loss: 0.2152, \n"
     ]
    },
    {
     "name": "stdout",
     "output_type": "stream",
     "text": [
      "epoch: 5, [batch: 4704 / 6720], examples_per_second: 3561.7287, train_label_loss: 0.4642, \n"
     ]
    },
    {
     "name": "stdout",
     "output_type": "stream",
     "text": [
      "epoch: 5, [batch: 5376 / 6720], examples_per_second: 3710.6891, train_label_loss: 0.3210, \n"
     ]
    },
    {
     "name": "stdout",
     "output_type": "stream",
     "text": [
      "epoch: 5, [batch: 6048 / 6720], examples_per_second: 3649.3306, train_label_loss: 0.5090, \n"
     ]
    },
    {
     "name": "stdout",
     "output_type": "stream",
     "text": [
      "=============================================================\n",
      "epoch: 5, source_val_acc_label: 0.8359, target_val_acc_label: 0.6943, source_val_label_loss: 0.4499, target_val_label_loss: 4.8043, \n",
      "=============================================================\n"
     ]
    },
    {
     "name": "stdout",
     "output_type": "stream",
     "text": [
      "New best\n"
     ]
    },
    {
     "name": "stdout",
     "output_type": "stream",
     "text": [
      "epoch: 6, [batch: 1 / 6720], examples_per_second: 4.1755, train_label_loss: 0.3391, \n"
     ]
    },
    {
     "name": "stdout",
     "output_type": "stream",
     "text": [
      "epoch: 6, [batch: 672 / 6720], examples_per_second: 3568.5451, train_label_loss: 0.0984, \n"
     ]
    },
    {
     "name": "stdout",
     "output_type": "stream",
     "text": [
      "epoch: 6, [batch: 1344 / 6720], examples_per_second: 3636.0840, train_label_loss: 0.2995, \n"
     ]
    },
    {
     "name": "stdout",
     "output_type": "stream",
     "text": [
      "epoch: 6, [batch: 2016 / 6720], examples_per_second: 3584.1691, train_label_loss: 0.4193, \n"
     ]
    },
    {
     "name": "stdout",
     "output_type": "stream",
     "text": [
      "epoch: 6, [batch: 2688 / 6720], examples_per_second: 3622.3240, train_label_loss: 0.3678, \n"
     ]
    },
    {
     "name": "stdout",
     "output_type": "stream",
     "text": [
      "epoch: 6, [batch: 3360 / 6720], examples_per_second: 3690.4586, train_label_loss: 0.3914, \n"
     ]
    },
    {
     "name": "stdout",
     "output_type": "stream",
     "text": [
      "epoch: 6, [batch: 4032 / 6720], examples_per_second: 3696.2338, train_label_loss: 0.4038, \n"
     ]
    },
    {
     "name": "stdout",
     "output_type": "stream",
     "text": [
      "epoch: 6, [batch: 4704 / 6720], examples_per_second: 3659.6987, train_label_loss: 0.5132, \n"
     ]
    },
    {
     "name": "stdout",
     "output_type": "stream",
     "text": [
      "epoch: 6, [batch: 5376 / 6720], examples_per_second: 3564.3613, train_label_loss: 0.4771, \n"
     ]
    },
    {
     "name": "stdout",
     "output_type": "stream",
     "text": [
      "epoch: 6, [batch: 6048 / 6720], examples_per_second: 3625.3855, train_label_loss: 0.1672, \n"
     ]
    },
    {
     "name": "stdout",
     "output_type": "stream",
     "text": [
      "=============================================================\n",
      "epoch: 6, source_val_acc_label: 0.8408, target_val_acc_label: 0.6847, source_val_label_loss: 0.4351, target_val_label_loss: 5.4581, \n",
      "=============================================================\n"
     ]
    },
    {
     "name": "stdout",
     "output_type": "stream",
     "text": [
      "epoch: 7, [batch: 1 / 6720], examples_per_second: 4.2354, train_label_loss: 0.1705, \n"
     ]
    },
    {
     "name": "stdout",
     "output_type": "stream",
     "text": [
      "epoch: 7, [batch: 672 / 6720], examples_per_second: 3608.2513, train_label_loss: 0.1363, \n"
     ]
    },
    {
     "name": "stdout",
     "output_type": "stream",
     "text": [
      "epoch: 7, [batch: 1344 / 6720], examples_per_second: 3538.3259, train_label_loss: 0.3397, \n"
     ]
    },
    {
     "name": "stdout",
     "output_type": "stream",
     "text": [
      "epoch: 7, [batch: 2016 / 6720], examples_per_second: 3711.8664, train_label_loss: 0.2714, \n"
     ]
    },
    {
     "name": "stdout",
     "output_type": "stream",
     "text": [
      "epoch: 7, [batch: 2688 / 6720], examples_per_second: 3651.5684, train_label_loss: 0.0429, \n"
     ]
    },
    {
     "name": "stdout",
     "output_type": "stream",
     "text": [
      "epoch: 7, [batch: 3360 / 6720], examples_per_second: 3696.7247, train_label_loss: 0.0410, \n"
     ]
    },
    {
     "name": "stdout",
     "output_type": "stream",
     "text": [
      "epoch: 7, [batch: 4032 / 6720], examples_per_second: 3483.8945, train_label_loss: 0.1461, \n"
     ]
    },
    {
     "name": "stdout",
     "output_type": "stream",
     "text": [
      "epoch: 7, [batch: 4704 / 6720], examples_per_second: 3665.8074, train_label_loss: 0.2611, \n"
     ]
    },
    {
     "name": "stdout",
     "output_type": "stream",
     "text": [
      "epoch: 7, [batch: 5376 / 6720], examples_per_second: 3719.2037, train_label_loss: 0.4431, \n"
     ]
    },
    {
     "name": "stdout",
     "output_type": "stream",
     "text": [
      "epoch: 7, [batch: 6048 / 6720], examples_per_second: 3666.2124, train_label_loss: 0.3801, \n"
     ]
    },
    {
     "name": "stdout",
     "output_type": "stream",
     "text": [
      "=============================================================\n",
      "epoch: 7, source_val_acc_label: 0.8494, target_val_acc_label: 0.6916, source_val_label_loss: 0.4103, target_val_label_loss: 5.3311, \n",
      "=============================================================\n"
     ]
    },
    {
     "name": "stdout",
     "output_type": "stream",
     "text": [
      "epoch: 8, [batch: 1 / 6720], examples_per_second: 4.3020, train_label_loss: 0.4786, \n"
     ]
    },
    {
     "name": "stdout",
     "output_type": "stream",
     "text": [
      "epoch: 8, [batch: 672 / 6720], examples_per_second: 3649.6299, train_label_loss: 0.1512, \n"
     ]
    },
    {
     "name": "stdout",
     "output_type": "stream",
     "text": [
      "epoch: 8, [batch: 1344 / 6720], examples_per_second: 3702.1054, train_label_loss: 0.1046, \n"
     ]
    },
    {
     "name": "stdout",
     "output_type": "stream",
     "text": [
      "epoch: 8, [batch: 2016 / 6720], examples_per_second: 3687.2177, train_label_loss: 0.6704, \n"
     ]
    },
    {
     "name": "stdout",
     "output_type": "stream",
     "text": [
      "epoch: 8, [batch: 2688 / 6720], examples_per_second: 3669.4563, train_label_loss: 0.3147, \n"
     ]
    },
    {
     "name": "stdout",
     "output_type": "stream",
     "text": [
      "epoch: 8, [batch: 3360 / 6720], examples_per_second: 3687.2580, train_label_loss: 0.8579, \n"
     ]
    },
    {
     "name": "stdout",
     "output_type": "stream",
     "text": [
      "epoch: 8, [batch: 4032 / 6720], examples_per_second: 3683.6513, train_label_loss: 0.3359, \n"
     ]
    },
    {
     "name": "stdout",
     "output_type": "stream",
     "text": [
      "epoch: 8, [batch: 4704 / 6720], examples_per_second: 3573.0254, train_label_loss: 0.1194, \n"
     ]
    },
    {
     "name": "stdout",
     "output_type": "stream",
     "text": [
      "epoch: 8, [batch: 5376 / 6720], examples_per_second: 3514.5886, train_label_loss: 0.1124, \n"
     ]
    },
    {
     "name": "stdout",
     "output_type": "stream",
     "text": [
      "epoch: 8, [batch: 6048 / 6720], examples_per_second: 3681.0465, train_label_loss: 0.2356, \n"
     ]
    },
    {
     "name": "stdout",
     "output_type": "stream",
     "text": [
      "=============================================================\n",
      "epoch: 8, source_val_acc_label: 0.8628, target_val_acc_label: 0.6834, source_val_label_loss: 0.3801, target_val_label_loss: 5.9375, \n",
      "=============================================================\n"
     ]
    },
    {
     "name": "stdout",
     "output_type": "stream",
     "text": [
      "epoch: 9, [batch: 1 / 6720], examples_per_second: 4.3075, train_label_loss: 0.5060, \n"
     ]
    },
    {
     "name": "stdout",
     "output_type": "stream",
     "text": [
      "epoch: 9, [batch: 672 / 6720], examples_per_second: 3566.7401, train_label_loss: 0.6321, \n"
     ]
    },
    {
     "name": "stdout",
     "output_type": "stream",
     "text": [
      "epoch: 9, [batch: 1344 / 6720], examples_per_second: 3574.8506, train_label_loss: 0.0895, \n"
     ]
    },
    {
     "name": "stdout",
     "output_type": "stream",
     "text": [
      "epoch: 9, [batch: 2016 / 6720], examples_per_second: 3600.5621, train_label_loss: 0.3233, \n"
     ]
    },
    {
     "name": "stdout",
     "output_type": "stream",
     "text": [
      "epoch: 9, [batch: 2688 / 6720], examples_per_second: 3679.9867, train_label_loss: 0.2796, \n"
     ]
    },
    {
     "name": "stdout",
     "output_type": "stream",
     "text": [
      "epoch: 9, [batch: 3360 / 6720], examples_per_second: 3591.8134, train_label_loss: 0.4081, \n"
     ]
    },
    {
     "name": "stdout",
     "output_type": "stream",
     "text": [
      "epoch: 9, [batch: 4032 / 6720], examples_per_second: 3698.8087, train_label_loss: 0.0890, \n"
     ]
    },
    {
     "name": "stdout",
     "output_type": "stream",
     "text": [
      "epoch: 9, [batch: 4704 / 6720], examples_per_second: 3651.3754, train_label_loss: 0.0563, \n"
     ]
    },
    {
     "name": "stdout",
     "output_type": "stream",
     "text": [
      "epoch: 9, [batch: 5376 / 6720], examples_per_second: 3662.7855, train_label_loss: 0.0603, \n"
     ]
    },
    {
     "name": "stdout",
     "output_type": "stream",
     "text": [
      "epoch: 9, [batch: 6048 / 6720], examples_per_second: 3596.5290, train_label_loss: 0.3393, \n"
     ]
    },
    {
     "name": "stdout",
     "output_type": "stream",
     "text": [
      "=============================================================\n",
      "epoch: 9, source_val_acc_label: 0.8549, target_val_acc_label: 0.6695, source_val_label_loss: 0.3883, target_val_label_loss: 6.9813, \n",
      "=============================================================\n"
     ]
    },
    {
     "name": "stdout",
     "output_type": "stream",
     "text": [
      "Patience (3) exhausted\n"
     ]
    }
   ],
   "source": [
    "###################################\n",
    "# train\n",
    "###################################\n",
    "jig = PTN_Train_Eval_Test_Jig(model, p.BEST_MODEL_PATH, p.device)\n",
    "\n",
    "jig.train(\n",
    "    train_iterable=datasets.source.processed.train,\n",
    "    source_val_iterable=datasets.source.processed.val,\n",
    "    target_val_iterable=datasets.target.processed.val,\n",
    "    num_epochs=p.n_epoch,\n",
    "    num_logs_per_epoch=p.NUM_LOGS_PER_EPOCH,\n",
    "    patience=p.patience,\n",
    "    optimizer=optimizer,\n",
    "    criteria_for_best=p.criteria_for_best,\n",
    ")"
   ]
  },
  {
   "cell_type": "code",
   "execution_count": 23,
   "id": "31e8fabf",
   "metadata": {
    "execution": {
     "iopub.execute_input": "2022-03-21T01:18:33.421541Z",
     "iopub.status.busy": "2022-03-21T01:18:33.421286Z",
     "iopub.status.idle": "2022-03-21T01:18:33.441042Z",
     "shell.execute_reply": "2022-03-21T01:18:33.440582Z"
    },
    "papermill": {
     "duration": 0.055459,
     "end_time": "2022-03-21T01:18:33.441134",
     "exception": false,
     "start_time": "2022-03-21T01:18:33.385675",
     "status": "completed"
    },
    "tags": []
   },
   "outputs": [],
   "source": [
    "total_experiment_time_secs = time.time() - start_time_secs"
   ]
  },
  {
   "cell_type": "code",
   "execution_count": 24,
   "id": "87b9595b",
   "metadata": {
    "execution": {
     "iopub.execute_input": "2022-03-21T01:18:33.519138Z",
     "iopub.status.busy": "2022-03-21T01:18:33.515010Z",
     "iopub.status.idle": "2022-03-21T01:20:59.783065Z",
     "shell.execute_reply": "2022-03-21T01:20:59.783424Z"
    },
    "papermill": {
     "duration": 146.30496,
     "end_time": "2022-03-21T01:20:59.783539",
     "exception": false,
     "start_time": "2022-03-21T01:18:33.478579",
     "status": "completed"
    },
    "tags": []
   },
   "outputs": [],
   "source": [
    "###################################\n",
    "# Evaluate the model\n",
    "###################################\n",
    "source_test_label_accuracy, source_test_label_loss = jig.test(datasets.source.processed.test)\n",
    "target_test_label_accuracy, target_test_label_loss = jig.test(datasets.target.processed.test)\n",
    "\n",
    "source_val_label_accuracy, source_val_label_loss = jig.test(datasets.source.processed.val)\n",
    "target_val_label_accuracy, target_val_label_loss = jig.test(datasets.target.processed.val)\n",
    "\n",
    "history = jig.get_history()\n",
    "\n",
    "total_epochs_trained = len(history[\"epoch_indices\"])\n",
    "\n",
    "val_dl = Iterable_Aggregator((datasets.source.original.val,datasets.target.original.val))\n",
    "\n",
    "confusion = ptn_confusion_by_domain_over_dataloader(model, p.device, val_dl)\n",
    "per_domain_accuracy = per_domain_accuracy_from_confusion(confusion)\n",
    "\n",
    "# Add a key to per_domain_accuracy for if it was a source domain\n",
    "for domain, accuracy in per_domain_accuracy.items():\n",
    "    per_domain_accuracy[domain] = {\n",
    "        \"accuracy\": accuracy,\n",
    "        \"source?\": domain in p.domains_source\n",
    "    }\n",
    "\n",
    "# Do an independent accuracy assesment JUST TO BE SURE!\n",
    "# _source_test_label_accuracy = independent_accuracy_assesment(model, datasets.source.processed.test, p.device)\n",
    "# _target_test_label_accuracy = independent_accuracy_assesment(model, datasets.target.processed.test, p.device)\n",
    "# _source_val_label_accuracy = independent_accuracy_assesment(model, datasets.source.processed.val, p.device)\n",
    "# _target_val_label_accuracy = independent_accuracy_assesment(model, datasets.target.processed.val, p.device)\n",
    "\n",
    "# assert(_source_test_label_accuracy == source_test_label_accuracy)\n",
    "# assert(_target_test_label_accuracy == target_test_label_accuracy)\n",
    "# assert(_source_val_label_accuracy == source_val_label_accuracy)\n",
    "# assert(_target_val_label_accuracy == target_val_label_accuracy)\n",
    "\n",
    "experiment = {\n",
    "    \"experiment_name\": p.experiment_name,\n",
    "    \"parameters\": dict(p),\n",
    "    \"results\": {\n",
    "        \"source_test_label_accuracy\": source_test_label_accuracy,\n",
    "        \"source_test_label_loss\": source_test_label_loss,\n",
    "        \"target_test_label_accuracy\": target_test_label_accuracy,\n",
    "        \"target_test_label_loss\": target_test_label_loss,\n",
    "        \"source_val_label_accuracy\": source_val_label_accuracy,\n",
    "        \"source_val_label_loss\": source_val_label_loss,\n",
    "        \"target_val_label_accuracy\": target_val_label_accuracy,\n",
    "        \"target_val_label_loss\": target_val_label_loss,\n",
    "        \"total_epochs_trained\": total_epochs_trained,\n",
    "        \"total_experiment_time_secs\": total_experiment_time_secs,\n",
    "        \"confusion\": confusion,\n",
    "        \"per_domain_accuracy\": per_domain_accuracy,\n",
    "    },\n",
    "    \"history\": history,\n",
    "    \"dataset_metrics\": get_dataset_metrics(datasets, \"ptn\"),\n",
    "}"
   ]
  },
  {
   "cell_type": "code",
   "execution_count": 25,
   "id": "54a21829",
   "metadata": {
    "execution": {
     "iopub.execute_input": "2022-03-21T01:20:59.854503Z",
     "iopub.status.busy": "2022-03-21T01:20:59.854243Z",
     "iopub.status.idle": "2022-03-21T01:20:59.985800Z",
     "shell.execute_reply": "2022-03-21T01:20:59.985380Z"
    },
    "papermill": {
     "duration": 0.167291,
     "end_time": "2022-03-21T01:20:59.985904",
     "exception": false,
     "start_time": "2022-03-21T01:20:59.818613",
     "status": "completed"
    },
    "tags": []
   },
   "outputs": [
    {
     "data": {
      "image/png": "[encoded data removed]",
      "text/plain": [
       "<Figure size 1080x504 with 1 Axes>"
      ]
     },
     "metadata": {
      "needs_background": "light"
     },
     "output_type": "display_data"
    }
   ],
   "source": [
    "ax = get_loss_curve(experiment)\n",
    "plt.show()"
   ]
  },
  {
   "cell_type": "code",
   "execution_count": 26,
   "id": "fd8a0f60",
   "metadata": {
    "execution": {
     "iopub.execute_input": "2022-03-21T01:21:00.060412Z",
     "iopub.status.busy": "2022-03-21T01:21:00.060155Z",
     "iopub.status.idle": "2022-03-21T01:21:00.203873Z",
     "shell.execute_reply": "2022-03-21T01:21:00.204249Z"
    },
    "papermill": {
     "duration": 0.180096,
     "end_time": "2022-03-21T01:21:00.204365",
     "exception": false,
     "start_time": "2022-03-21T01:21:00.024269",
     "status": "completed"
    },
    "tags": []
   },
   "outputs": [
    {
     "data": {
      "text/plain": [
       "<AxesSubplot:title={'center':'Results'}>"
      ]
     },
     "execution_count": 26,
     "metadata": {},
     "output_type": "execute_result"
    },
    {
     "data": {
      "image/png": "[encoded data removed]",
      "text/plain": [
       "<Figure size 1080x504 with 1 Axes>"
      ]
     },
     "metadata": {
      "needs_background": "light"
     },
     "output_type": "display_data"
    }
   ],
   "source": [
    "get_results_table(experiment)"
   ]
  },
  {
   "cell_type": "code",
   "execution_count": 27,
   "id": "cf8dc689",
   "metadata": {
    "execution": {
     "iopub.execute_input": "2022-03-21T01:21:00.280427Z",
     "iopub.status.busy": "2022-03-21T01:21:00.279564Z",
     "iopub.status.idle": "2022-03-21T01:21:00.437304Z",
     "shell.execute_reply": "2022-03-21T01:21:00.437682Z"
    },
    "papermill": {
     "duration": 0.194604,
     "end_time": "2022-03-21T01:21:00.437804",
     "exception": false,
     "start_time": "2022-03-21T01:21:00.243200",
     "status": "completed"
    },
    "tags": []
   },
   "outputs": [
    {
     "data": {
      "text/plain": [
       "<AxesSubplot:title={'center':'Per Domain Validation Accuracy'}, xlabel='domain'>"
      ]
     },
     "execution_count": 27,
     "metadata": {},
     "output_type": "execute_result"
    },
    {
     "data": {
      "image/png": "[encoded data removed]",
      "text/plain": [
       "<Figure size 1080x504 with 1 Axes>"
      ]
     },
     "metadata": {
      "needs_background": "light"
     },
     "output_type": "display_data"
    }
   ],
   "source": [
    "get_domain_accuracies(experiment)"
   ]
  },
  {
   "cell_type": "code",
   "execution_count": 28,
   "id": "a74ae082",
   "metadata": {
    "execution": {
     "iopub.execute_input": "2022-03-21T01:21:00.520023Z",
     "iopub.status.busy": "2022-03-21T01:21:00.519760Z",
     "iopub.status.idle": "2022-03-21T01:21:00.537142Z",
     "shell.execute_reply": "2022-03-21T01:21:00.537512Z"
    },
    "papermill": {
     "duration": 0.058544,
     "end_time": "2022-03-21T01:21:00.537621",
     "exception": false,
     "start_time": "2022-03-21T01:21:00.479077",
     "status": "completed"
    },
    "tags": []
   },
   "outputs": [
    {
     "name": "stdout",
     "output_type": "stream",
     "text": [
      "Source Test Label Accuracy: 0.8349609375 Target Test Label Accuracy: 0.6963032919589854\n",
      "Source Val Label Accuracy: 0.8359049479166667 Target Val Label Accuracy: 0.6942762795817281\n"
     ]
    }
   ],
   "source": [
    "print(\"Source Test Label Accuracy:\", experiment[\"results\"][\"source_test_label_accuracy\"], \"Target Test Label Accuracy:\", experiment[\"results\"][\"target_test_label_accuracy\"])\n",
    "print(\"Source Val Label Accuracy:\", experiment[\"results\"][\"source_val_label_accuracy\"], \"Target Val Label Accuracy:\", experiment[\"results\"][\"target_val_label_accuracy\"])"
   ]
  },
  {
   "cell_type": "code",
   "execution_count": 29,
   "id": "dacca602",
   "metadata": {
    "execution": {
     "iopub.execute_input": "2022-03-21T01:21:00.615832Z",
     "iopub.status.busy": "2022-03-21T01:21:00.615447Z",
     "iopub.status.idle": "2022-03-21T01:21:00.636495Z",
     "shell.execute_reply": "2022-03-21T01:21:00.636871Z"
    },
    "papermill": {
     "duration": 0.059036,
     "end_time": "2022-03-21T01:21:00.636982",
     "exception": false,
     "start_time": "2022-03-21T01:21:00.577946",
     "status": "completed"
    },
    "tags": [
     "experiment_json"
    ]
   },
   "outputs": [
    {
     "data": {
      "text/plain": [
       "'{\"experiment_name\": \"tl_3Av2:oracle.run1.framed -> cores+wisig\", \"parameters\": {\"experiment_name\": \"tl_3Av2:oracle.run1.framed -> cores+wisig\", \"device\": \"cuda\", \"lr\": 0.0001, \"x_shape\": [2, 200], \"n_shot\": 3, \"n_query\": 2, \"train_k_factor\": 3, \"val_k_factor\": 2, \"test_k_factor\": 2, \"torch_default_dtype\": \"torch.float32\", \"n_epoch\": 50, \"patience\": 3, \"criteria_for_best\": \"target_accuracy\", \"x_net\": [{\"class\": \"nnReshape\", \"kargs\": {\"shape\": [-1, 1, 2, 200]}}, {\"class\": \"Conv2d\", \"kargs\": {\"in_channels\": 1, \"out_channels\": 256, \"kernel_size\": [1, 7], \"bias\": false, \"padding\": [0, 3]}}, {\"class\": \"ReLU\", \"kargs\": {\"inplace\": true}}, {\"class\": \"BatchNorm2d\", \"kargs\": {\"num_features\": 256}}, {\"class\": \"Conv2d\", \"kargs\": {\"in_channels\": 256, \"out_channels\": 80, \"kernel_size\": [2, 7], \"bias\": true, \"padding\": [0, 3]}}, {\"class\": \"ReLU\", \"kargs\": {\"inplace\": true}}, {\"class\": \"BatchNorm2d\", \"kargs\": {\"num_features\": 80}}, {\"class\": \"Flatten\", \"kargs\": {}}, {\"class\": \"Linear\", \"kargs\": {\"in_features\": 16000, \"out_features\": 256}}, {\"class\": \"ReLU\", \"kargs\": {\"inplace\": true}}, {\"class\": \"BatchNorm1d\", \"kargs\": {\"num_features\": 256}}, {\"class\": \"Linear\", \"kargs\": {\"in_features\": 256, \"out_features\": 256}}], \"NUM_LOGS_PER_EPOCH\": 10, \"BEST_MODEL_PATH\": \"./best_model.pth\", \"n_way\": 16, \"datasets\": [{\"labels\": [\"1-10.\", \"1-11.\", \"1-15.\", \"1-16.\", \"1-17.\", \"1-18.\", \"1-19.\", \"10-4.\", \"10-7.\", \"11-1.\", \"11-14.\", \"11-17.\", \"11-20.\", \"11-7.\", \"13-20.\", \"13-8.\", \"14-10.\", \"14-11.\", \"14-14.\", \"14-7.\", \"15-1.\", \"15-20.\", \"16-1.\", \"16-16.\", \"17-10.\", \"17-11.\", \"17-2.\", \"19-1.\", \"19-16.\", \"19-19.\", \"19-20.\", \"19-3.\", \"2-10.\", \"2-11.\", \"2-17.\", \"2-18.\", \"2-20.\", \"2-3.\", \"2-4.\", \"2-5.\", \"2-6.\", \"2-7.\", \"2-8.\", \"3-13.\", \"3-18.\", \"3-3.\", \"4-1.\", \"4-10.\", \"4-11.\", \"4-19.\", \"5-5.\", \"6-15.\", \"7-10.\", \"7-14.\", \"8-18.\", \"8-20.\", \"8-3.\", \"8-8.\"], \"domains\": [1, 2, 3, 4, 5], \"num_examples_per_domain_per_label\": -1, \"pickle_path\": \"/mnt/wd500GB/CSC500/csc500-main/datasets/cores.stratified_ds.2022A.pkl\", \"source_or_target_dataset\": \"target\", \"x_transforms\": [\"unit_mag\", \"take_200\"], \"episode_transforms\": [], \"domain_prefix\": \"C_\"}, {\"labels\": [\"1-10\", \"1-12\", \"1-14\", \"1-16\", \"1-18\", \"1-19\", \"1-8\", \"10-11\", \"10-17\", \"10-4\", \"10-7\", \"11-1\", \"11-10\", \"11-19\", \"11-20\", \"11-4\", \"11-7\", \"12-19\", \"12-20\", \"12-7\", \"13-14\", \"13-18\", \"13-19\", \"13-20\", \"13-3\", \"13-7\", \"14-10\", \"14-11\", \"14-12\", \"14-13\", \"14-14\", \"14-19\", \"14-20\", \"14-7\", \"14-8\", \"14-9\", \"15-1\", \"15-19\", \"15-6\", \"16-1\", \"16-16\", \"16-19\", \"16-20\", \"17-10\", \"17-11\", \"18-1\", \"18-10\", \"18-11\", \"18-12\", \"18-13\", \"18-14\", \"18-15\", \"18-16\", \"18-17\", \"18-19\", \"18-2\", \"18-20\", \"18-4\", \"18-5\", \"18-7\", \"18-8\", \"18-9\", \"19-1\", \"19-10\", \"19-11\", \"19-12\", \"19-13\", \"19-14\", \"19-15\", \"19-19\", \"19-2\", \"19-20\", \"19-3\", \"19-4\", \"19-6\", \"19-7\", \"19-8\", \"19-9\", \"2-1\", \"2-13\", \"2-15\", \"2-3\", \"2-4\", \"2-5\", \"2-6\", \"2-7\", \"2-8\", \"20-1\", \"20-12\", \"20-14\", \"20-15\", \"20-16\", \"20-18\", \"20-19\", \"20-20\", \"20-3\", \"20-4\", \"20-5\", \"20-7\", \"20-8\", \"3-1\", \"3-13\", \"3-18\", \"3-2\", \"3-8\", \"4-1\", \"4-10\", \"4-11\", \"5-1\", \"5-5\", \"6-1\", \"6-15\", \"6-6\", \"7-10\", \"7-11\", \"7-12\", \"7-13\", \"7-14\", \"7-7\", \"7-8\", \"7-9\", \"8-1\", \"8-13\", \"8-14\", \"8-18\", \"8-20\", \"8-3\", \"8-8\", \"9-1\", \"9-7\"], \"domains\": [1, 2, 3, 4], \"num_examples_per_domain_per_label\": -1, \"pickle_path\": \"/mnt/wd500GB/CSC500/csc500-main/datasets/wisig.node3-19.stratified_ds.2022A.pkl\", \"source_or_target_dataset\": \"target\", \"x_transforms\": [\"unit_mag\", \"take_200\"], \"episode_transforms\": [], \"domain_prefix\": \"W_\"}, {\"labels\": [\"3123D52\", \"3123D65\", \"3123D79\", \"3123D80\", \"3123D54\", \"3123D70\", \"3123D7B\", \"3123D89\", \"3123D58\", \"3123D76\", \"3123D7D\", \"3123EFE\", \"3123D64\", \"3123D78\", \"3123D7E\", \"3124E4A\"], \"domains\": [32, 38, 8, 44, 14, 50, 20, 26], \"num_examples_per_domain_per_label\": 2000, \"pickle_path\": \"/mnt/wd500GB/CSC500/csc500-main/datasets/oracle.Run1_framed_2000Examples_stratified_ds.2022A.pkl\", \"source_or_target_dataset\": \"source\", \"x_transforms\": [\"unit_mag\", \"take_200\", \"resample_20Msps_to_25Msps\"], \"episode_transforms\": [], \"domain_prefix\": \"O_\"}], \"seed\": 154325, \"dataset_seed\": 154325, \"domains_source\": [\"O_32\", \"O_38\", \"O_8\", \"O_44\", \"O_14\", \"O_50\", \"O_20\", \"O_26\"], \"domains_target\": [\"C_1\", \"C_2\", \"C_3\", \"C_4\", \"C_5\", \"W_1\", \"W_2\", \"W_3\", \"W_4\"]}, \"results\": {\"source_test_label_accuracy\": 0.8349609375, \"source_test_label_loss\": 0.45517462491989136, \"target_test_label_accuracy\": 0.6963032919589854, \"target_test_label_loss\": 4.786808013916016, \"source_val_label_accuracy\": 0.8359049479166667, \"source_val_label_loss\": 0.44987210631370544, \"target_val_label_accuracy\": 0.6942762795817281, \"target_val_label_loss\": 4.804250717163086, \"total_epochs_trained\": 9, \"total_experiment_time_secs\": 1661.1704568862915, \"confusion\": {\"O_8\": {\"13\": {\"10\": 27, \"13\": 126, \"4\": 48, \"0\": 29, \"6\": 6, \"7\": 2, \"14\": 2}, \"9\": {\"9\": 240}, \"15\": {\"15\": 223, \"12\": 15, \"8\": 2}, \"2\": {\"2\": 234, \"3\": 5, \"7\": 1}, \"3\": {\"3\": 234, \"12\": 3, \"2\": 3}, \"8\": {\"8\": 240}, \"5\": {\"5\": 227, \"10\": 2, \"14\": 7, \"1\": 4}, \"14\": {\"14\": 187, \"4\": 16, \"10\": 28, \"5\": 2, \"1\": 4, \"13\": 3}, \"1\": {\"1\": 230, \"11\": 8, \"14\": 2}, \"0\": {\"0\": 209, \"13\": 25, \"7\": 4, \"4\": 1, \"6\": 1}, \"10\": {\"10\": 213, \"14\": 19, \"13\": 5, \"4\": 3}, \"6\": {\"6\": 175, \"7\": 42, \"4\": 11, \"13\": 6, \"0\": 6}, \"11\": {\"11\": 221, \"1\": 19}, \"7\": {\"6\": 35, \"7\": 202, \"0\": 3}, \"4\": {\"4\": 171, \"13\": 36, \"0\": 3, \"6\": 13, \"14\": 13, \"10\": 4}, \"12\": {\"12\": 191, \"15\": 39, \"8\": 4, \"3\": 6}}, \"O_38\": {\"13\": {\"13\": 209, \"10\": 14, \"8\": 3, \"0\": 1, \"15\": 9, \"2\": 4}, \"12\": {\"12\": 238, \"4\": 2}, \"2\": {\"2\": 220, \"14\": 11, \"13\": 7, \"15\": 2}, \"9\": {\"9\": 226, \"6\": 10, \"5\": 4}, \"15\": {\"15\": 200, \"1\": 21, \"8\": 14, \"5\": 1, \"0\": 1, \"13\": 3}, \"5\": {\"5\": 147, \"8\": 46, \"9\": 5, \"7\": 31, \"0\": 2, \"6\": 5, \"13\": 2, \"10\": 1, \"15\": 1}, \"14\": {\"14\": 233, \"2\": 7}, \"0\": {\"0\": 183, \"7\": 13, \"3\": 7, \"8\": 23, \"10\": 11, \"13\": 2, \"5\": 1}, \"3\": {\"3\": 236, \"0\": 3, \"7\": 1}, \"1\": {\"1\": 230, \"15\": 10}, \"11\": {\"11\": 235, \"3\": 2, \"14\": 2, \"4\": 1}, \"7\": {\"7\": 213, \"5\": 14, \"0\": 4, \"8\": 8, \"10\": 1}, \"8\": {\"15\": 14, \"8\": 160, \"13\": 4, \"7\": 9, \"5\": 32, \"0\": 16, \"10\": 5}, \"4\": {\"4\": 240}, \"10\": {\"10\": 218, \"13\": 14, \"11\": 1, \"8\": 2, \"7\": 2, \"0\": 2, \"4\": 1}, \"6\": {\"6\": 238, \"9\": 2}}, \"O_26\": {\"10\": {\"10\": 102, \"0\": 68, \"8\": 30, \"14\": 23, \"6\": 8, \"15\": 1, \"1\": 1, \"4\": 7}, \"12\": {\"12\": 240}, \"1\": {\"1\": 211, \"10\": 4, \"7\": 1, \"14\": 15, \"4\": 6, \"3\": 1, \"8\": 2}, \"0\": {\"8\": 17, \"10\": 63, \"0\": 115, \"14\": 29, \"4\": 14, \"7\": 2}, \"15\": {\"15\": 159, \"9\": 53, \"2\": 2, \"0\": 2, \"10\": 3, \"13\": 8, \"6\": 5, \"8\": 6, \"7\": 1, \"5\": 1}, \"13\": {\"13\": 200, \"15\": 4, \"5\": 23, \"9\": 6, \"2\": 5, \"3\": 1, \"8\": 1}, \"8\": {\"8\": 126, \"0\": 26, \"10\": 35, \"14\": 12, \"7\": 13, \"4\": 15, \"9\": 2, \"2\": 4, \"15\": 5, \"6\": 2}, \"3\": {\"2\": 48, \"3\": 170, \"7\": 21, \"5\": 1}, \"11\": {\"11\": 240}, \"4\": {\"4\": 145, \"0\": 15, \"14\": 25, \"7\": 20, \"8\": 22, \"1\": 4, \"10\": 8, \"2\": 1}, \"6\": {\"6\": 206, \"9\": 20, \"15\": 7, \"8\": 3, \"10\": 4}, \"7\": {\"7\": 168, \"14\": 1, \"2\": 16, \"4\": 20, \"8\": 11, \"3\": 18, \"0\": 5, \"5\": 1}, \"14\": {\"14\": 134, \"1\": 23, \"8\": 8, \"10\": 13, \"0\": 34, \"4\": 26, \"7\": 2}, \"2\": {\"2\": 123, \"3\": 60, \"5\": 18, \"15\": 8, \"13\": 4, \"8\": 5, \"7\": 22}, \"5\": {\"5\": 211, \"13\": 14, \"2\": 12, \"7\": 1, \"8\": 1, \"9\": 1}, \"9\": {\"9\": 184, \"15\": 37, \"8\": 3, \"6\": 4, \"13\": 9, \"5\": 1, \"10\": 1, \"2\": 1}}, \"O_20\": {\"5\": {\"5\": 206, \"15\": 4, \"0\": 17, \"1\": 8, \"4\": 3, \"13\": 1, \"12\": 1}, \"15\": {\"15\": 210, \"1\": 13, \"0\": 14, \"13\": 2, \"5\": 1}, \"9\": {\"9\": 158, \"2\": 42, \"3\": 30, \"12\": 9, \"1\": 1}, \"7\": {\"4\": 2, \"7\": 214, \"2\": 12, \"9\": 4, \"8\": 5, \"3\": 3}, \"3\": {\"12\": 35, \"9\": 25, \"3\": 165, \"2\": 10, \"1\": 2, \"5\": 1, \"4\": 2}, \"8\": {\"8\": 217, \"7\": 5, \"4\": 17, \"2\": 1}, \"4\": {\"4\": 225, \"3\": 9, \"5\": 3, \"8\": 3}, \"6\": {\"6\": 233, \"14\": 7}, \"2\": {\"3\": 14, \"2\": 150, \"9\": 43, \"12\": 16, \"13\": 6, \"1\": 2, \"7\": 9}, \"12\": {\"12\": 142, \"3\": 40, \"1\": 40, \"9\": 8, \"5\": 3, \"2\": 5, \"13\": 1, \"4\": 1}, \"0\": {\"0\": 188, \"5\": 35, \"15\": 16, \"1\": 1}, \"13\": {\"13\": 230, \"2\": 5, \"15\": 2, \"12\": 1, \"7\": 1, \"5\": 1}, \"10\": {\"10\": 238, \"14\": 1, \"4\": 1}, \"11\": {\"11\": 240}, \"14\": {\"14\": 222, \"6\": 16, \"10\": 1, \"8\": 1}, \"1\": {\"1\": 178, \"12\": 44, \"5\": 12, \"3\": 3, \"15\": 2, \"2\": 1}}, \"O_50\": {\"1\": {\"1\": 206, \"15\": 22, \"4\": 4, \"11\": 2, \"5\": 2, \"0\": 1, \"6\": 2, \"13\": 1}, \"2\": {\"2\": 222, \"0\": 18}, \"8\": {\"8\": 235, \"3\": 4, \"10\": 1}, \"7\": {\"7\": 213, \"13\": 11, \"5\": 10, \"6\": 3, \"10\": 2, \"4\": 1}, \"14\": {\"14\": 239, \"1\": 1}, \"6\": {\"6\": 210, \"13\": 8, \"15\": 6, \"5\": 4, \"4\": 5, \"1\": 4, \"7\": 3}, \"3\": {\"3\": 239, \"8\": 1}, \"4\": {\"4\": 160, \"15\": 23, \"5\": 38, \"1\": 9, \"6\": 7, \"7\": 3}, \"12\": {\"12\": 225, \"9\": 10, \"11\": 4, \"14\": 1}, \"15\": {\"15\": 189, \"1\": 19, \"4\": 16, \"11\": 10, \"6\": 6}, \"11\": {\"11\": 210, \"1\": 1, \"15\": 19, \"14\": 1, \"12\": 3, \"9\": 6}, \"0\": {\"0\": 212, \"10\": 11, \"2\": 17}, \"9\": {\"9\": 229, \"11\": 7, \"12\": 4}, \"10\": {\"10\": 220, \"13\": 10, \"0\": 8, \"8\": 2}, \"5\": {\"13\": 17, \"5\": 150, \"4\": 33, \"15\": 2, \"7\": 24, \"1\": 10, \"6\": 2, \"3\": 2}, \"13\": {\"7\": 8, \"13\": 207, \"1\": 2, \"6\": 7, \"0\": 2, \"10\": 5, \"5\": 9}}, \"O_32\": {\"2\": {\"4\": 50, \"2\": 187, \"0\": 1, \"7\": 1, \"5\": 1}, \"6\": {\"6\": 240}, \"5\": {\"7\": 52, \"5\": 134, \"13\": 20, \"3\": 10, \"14\": 1, \"8\": 11, \"4\": 10, \"0\": 1, \"2\": 1}, \"12\": {\"12\": 240}, \"13\": {\"5\": 8, \"13\": 188, \"4\": 12, \"8\": 7, \"11\": 1, \"7\": 6, \"3\": 18}, \"9\": {\"9\": 240}, \"11\": {\"11\": 226, \"13\": 1, \"14\": 11, \"3\": 2}, \"1\": {\"1\": 240}, \"3\": {\"3\": 227, \"14\": 1, \"13\": 9, \"11\": 2, \"5\": 1}, \"7\": {\"7\": 152, \"4\": 16, \"13\": 4, \"5\": 49, \"14\": 10, \"11\": 3, \"8\": 2, \"3\": 1, \"2\": 1, \"0\": 2}, \"14\": {\"14\": 171, \"7\": 14, \"11\": 31, \"0\": 15, \"8\": 4, \"13\": 2, \"3\": 2, \"5\": 1}, \"8\": {\"8\": 195, \"13\": 10, \"0\": 15, \"11\": 1, \"3\": 7, \"14\": 4, \"7\": 1, \"5\": 7}, \"4\": {\"4\": 184, \"13\": 8, \"7\": 12, \"5\": 5, \"2\": 31}, \"0\": {\"0\": 187, \"8\": 26, \"7\": 3, \"14\": 17, \"5\": 3, \"2\": 1, \"4\": 1, \"13\": 1, \"11\": 1}, \"10\": {\"10\": 238, \"1\": 2}, \"15\": {\"15\": 240}}, \"O_44\": {\"13\": {\"13\": 162, \"6\": 41, \"9\": 32, \"7\": 3, \"11\": 2}, \"4\": {\"4\": 161, \"14\": 75, \"15\": 2, \"13\": 1, \"5\": 1}, \"6\": {\"6\": 160, \"9\": 29, \"13\": 46, \"7\": 4, \"11\": 1}, \"0\": {\"8\": 64, \"0\": 157, \"15\": 15, \"5\": 4}, \"10\": {\"10\": 204, \"1\": 20, \"2\": 13, \"12\": 3}, \"7\": {\"7\": 145, \"2\": 33, \"9\": 54, \"6\": 7, \"13\": 1}, \"14\": {\"14\": 150, \"4\": 68, \"15\": 15, \"5\": 7}, \"15\": {\"15\": 203, \"14\": 8, \"4\": 4, \"0\": 17, \"8\": 4, \"5\": 4}, \"5\": {\"5\": 204, \"0\": 20, \"15\": 6, \"8\": 4, \"14\": 6}, \"2\": {\"7\": 28, \"2\": 187, \"1\": 11, \"10\": 11, \"3\": 1, \"6\": 1, \"12\": 1}, \"9\": {\"9\": 141, \"13\": 30, \"7\": 43, \"6\": 20, \"2\": 4, \"10\": 2}, \"12\": {\"12\": 213, \"1\": 22, \"2\": 1, \"10\": 2, \"3\": 2}, \"8\": {\"8\": 142, \"0\": 78, \"15\": 12, \"5\": 8}, \"3\": {\"3\": 224, \"2\": 1, \"1\": 10, \"12\": 5}, \"1\": {\"1\": 155, \"3\": 17, \"12\": 41, \"10\": 17, \"2\": 9, \"7\": 1}, \"11\": {\"11\": 235, \"6\": 1, \"13\": 4}}, \"O_14\": {\"1\": {\"1\": 227, \"5\": 13}, \"15\": {\"15\": 240}, \"10\": {\"10\": 240}, \"2\": {\"3\": 16, \"2\": 151, \"14\": 42, \"5\": 19, \"6\": 7, \"13\": 4, \"4\": 1}, \"9\": {\"9\": 240}, \"5\": {\"2\": 12, \"5\": 188, \"1\": 13, \"4\": 25, \"3\": 2}, \"7\": {\"7\": 240}, \"13\": {\"13\": 153, \"14\": 18, \"6\": 61, \"4\": 2, \"2\": 4, \"5\": 2}, \"8\": {\"8\": 240}, \"6\": {\"13\": 38, \"6\": 199, \"14\": 2, \"2\": 1}, \"3\": {\"3\": 227, \"14\": 3, \"4\": 3, \"2\": 6, \"5\": 1}, \"12\": {\"12\": 240}, \"0\": {\"0\": 231, \"11\": 5, \"3\": 3, \"10\": 1}, \"4\": {\"4\": 221, \"5\": 11, \"1\": 5, \"2\": 2, \"3\": 1}, \"14\": {\"14\": 213, \"2\": 19, \"13\": 7, \"6\": 1}, \"11\": {\"11\": 232, \"9\": 8}}, \"C_2\": {\"21\": {\"21\": 99, \"34\": 1, \"53\": 6, \"3\": 1, \"46\": 3, \"54\": 2, \"51\": 4, \"8\": 1, \"50\": 1, \"17\": 1, \"1\": 1}, \"4\": {\"45\": 1, \"4\": 109, \"19\": 4, \"33\": 1, \"40\": 3, \"9\": 11, \"32\": 1}, \"6\": {\"6\": 84, \"18\": 4, \"17\": 5, \"50\": 2, \"52\": 2, \"30\": 4, \"1\": 1, \"0\": 1, \"3\": 5, \"47\": 2, \"46\": 5, \"54\": 1, \"36\": 2, \"8\": 1, \"55\": 1, \"29\": 1, \"48\": 1, \"23\": 1, \"57\": 1}, \"10\": {\"10\": 102, \"24\": 6, \"38\": 1, \"11\": 2, \"56\": 1}, \"33\": {\"33\": 25, \"19\": 1, \"14\": 1, \"29\": 1}, \"56\": {\"56\": 93, \"7\": 1, \"14\": 1, \"43\": 4, \"22\": 18, \"10\": 1, \"1\": 1, \"55\": 1, \"24\": 1, \"29\": 1}, \"20\": {\"20\": 122, \"8\": 3, \"54\": 4, \"53\": 2, \"50\": 1}, \"24\": {\"24\": 91, \"10\": 1, \"43\": 4}, \"45\": {\"4\": 9, \"27\": 10, \"45\": 68, \"26\": 1, \"54\": 5, \"12\": 10, \"36\": 3, \"48\": 1, \"50\": 4, \"51\": 3, \"20\": 2, \"6\": 1, \"44\": 1, \"8\": 2, \"40\": 4, \"32\": 1, \"3\": 1, \"53\": 1, \"9\": 1}, \"32\": {\"32\": 28}, \"27\": {\"27\": 144, \"17\": 2, \"50\": 1, \"36\": 1}, \"53\": {\"53\": 114, \"54\": 4, \"3\": 1, \"50\": 2, \"51\": 14, \"21\": 1}, \"8\": {\"8\": 147, \"50\": 6, \"36\": 2, \"20\": 1, \"54\": 2, \"27\": 1, \"6\": 1}, \"54\": {\"54\": 104, \"36\": 1, \"50\": 3}, \"50\": {\"50\": 82, \"25\": 7, \"36\": 9, \"3\": 2, \"46\": 2, \"54\": 9, \"6\": 3, \"53\": 3, \"51\": 3, \"8\": 6, \"48\": 2, \"34\": 1, \"26\": 1, \"2\": 1, \"29\": 1, \"21\": 1, \"45\": 1}, \"44\": {\"44\": 77, \"40\": 6, \"4\": 1, \"19\": 9, \"3\": 1, \"53\": 1, \"9\": 2, \"55\": 1, \"51\": 1, \"17\": 1}, \"5\": {\"5\": 103, \"1\": 4, \"6\": 2, \"23\": 1, \"46\": 3, \"50\": 1, \"47\": 4, \"28\": 1, \"55\": 1}, \"38\": {\"38\": 20}, \"19\": {\"19\": 113, \"2\": 1, \"4\": 2, \"29\": 1, \"9\": 8, \"51\": 1, \"40\": 2, \"54\": 1, \"44\": 2, \"46\": 1}, \"1\": {\"1\": 93, \"5\": 3, \"42\": 1, \"57\": 2, \"46\": 2, \"48\": 7, \"47\": 3, \"23\": 1}, \"30\": {\"30\": 137, \"18\": 6, \"2\": 1}, \"15\": {\"15\": 132, \"16\": 5, \"23\": 5, \"11\": 1, \"43\": 1}, \"23\": {\"23\": 124, \"52\": 6, \"18\": 9, \"5\": 2, \"30\": 3, \"0\": 2}, \"35\": {\"35\": 32}, \"22\": {\"22\": 109, \"56\": 18, \"43\": 1}, \"40\": {\"40\": 109, \"44\": 8, \"9\": 4, \"45\": 3, \"19\": 16}, \"46\": {\"46\": 69, \"39\": 5, \"34\": 1, \"2\": 1, \"5\": 2, \"17\": 2, \"55\": 4, \"21\": 2, \"23\": 2, \"47\": 1, \"7\": 2, \"6\": 6, \"50\": 6, \"0\": 2, \"36\": 1, \"57\": 3, \"54\": 3, \"25\": 2, \"3\": 1, \"48\": 3, \"42\": 1, \"51\": 1, \"1\": 1, \"9\": 1, \"53\": 1, \"52\": 3}, \"3\": {\"3\": 44, \"49\": 3, \"25\": 2, \"33\": 2, \"21\": 1, \"17\": 2, \"34\": 1, \"27\": 1, \"53\": 1, \"54\": 3, \"46\": 2, \"36\": 5, \"50\": 5, \"51\": 3, \"55\": 4, \"37\": 1, \"6\": 6, \"39\": 1, \"1\": 1, \"4\": 1, \"29\": 1, \"20\": 1, \"9\": 1}, \"48\": {\"48\": 139, \"47\": 3, \"6\": 3, \"46\": 1, \"1\": 1, \"39\": 1}, \"52\": {\"52\": 119, \"23\": 3, \"15\": 1, \"11\": 1}, \"2\": {\"2\": 29, \"46\": 1, \"41\": 1, \"21\": 1}, \"26\": {\"26\": 23, \"12\": 1}, \"17\": {\"17\": 102, \"20\": 1, \"55\": 1}, \"55\": {\"17\": 7, \"55\": 103, \"3\": 4, \"6\": 3, \"42\": 2, \"46\": 6, \"39\": 1, \"29\": 1, \"27\": 2, \"50\": 1, \"47\": 2, \"48\": 4, \"51\": 1, \"2\": 3, \"9\": 2, \"21\": 1, \"5\": 1}, \"51\": {\"51\": 99, \"2\": 1, \"21\": 6, \"54\": 3, \"50\": 1, \"53\": 10, \"20\": 1, \"25\": 1}, \"42\": {\"42\": 24, \"48\": 1, \"49\": 1, \"17\": 1, \"33\": 1, \"7\": 2, \"53\": 1, \"21\": 2, \"1\": 1, \"34\": 1, \"31\": 1}, \"41\": {\"41\": 18, \"23\": 1, \"46\": 1}, \"31\": {\"31\": 27, \"7\": 1}, \"16\": {\"16\": 124, \"28\": 2, \"43\": 1, \"15\": 3, \"52\": 3, \"24\": 1, \"23\": 2, \"11\": 1, \"30\": 1}, \"36\": {\"36\": 107, \"27\": 4, \"3\": 1, \"54\": 2, \"8\": 1, \"45\": 1}, \"49\": {\"49\": 15, \"7\": 1, \"34\": 5, \"39\": 1, \"2\": 1, \"50\": 1}, \"0\": {\"0\": 34, \"23\": 5, \"18\": 1, \"30\": 1, \"28\": 1, \"5\": 1, \"15\": 2, \"39\": 1, \"47\": 2}, \"18\": {\"18\": 40, \"30\": 7, \"23\": 1}, \"25\": {\"25\": 130, \"8\": 4, \"54\": 3, \"50\": 7, \"53\": 1, \"20\": 1}, \"9\": {\"9\": 110, \"46\": 1, \"19\": 5, \"40\": 2, \"4\": 1, \"29\": 1, \"51\": 1, \"20\": 1}, \"47\": {\"47\": 88, \"31\": 2, \"5\": 14, \"1\": 5, \"39\": 2, \"48\": 4, \"57\": 7, \"6\": 5, \"2\": 1, \"3\": 1, \"17\": 1, \"46\": 1, \"52\": 1}, \"7\": {\"7\": 34, \"5\": 1, \"47\": 1}, \"37\": {\"37\": 35, \"21\": 1}, \"13\": {\"13\": 115, \"29\": 1}, \"14\": {\"13\": 2, \"56\": 1, \"33\": 3, \"29\": 1, \"24\": 1, \"9\": 1, \"22\": 1, \"10\": 4, \"11\": 2, \"14\": 5, \"40\": 1, \"0\": 1, \"5\": 1}, \"34\": {\"34\": 26, \"6\": 1, \"49\": 1}, \"57\": {\"57\": 130, \"48\": 1, \"1\": 2, \"5\": 1, \"47\": 5, \"52\": 1}, \"11\": {\"11\": 118, \"16\": 3, \"43\": 4, \"15\": 6, \"52\": 4, \"23\": 2, \"24\": 1}, \"39\": {\"39\": 28}, \"12\": {\"12\": 91, \"27\": 1}, \"28\": {\"28\": 28}, \"29\": {\"29\": 107, \"55\": 5, \"33\": 1, \"17\": 3, \"9\": 4, \"19\": 6, \"46\": 1, \"39\": 1}, \"43\": {\"43\": 133, \"24\": 5, \"11\": 2}}, \"W_2\": {\"56\": {\"56\": 4, \"12\": 1, \"40\": 1, \"114\": 1, \"22\": 2, \"110\": 1, \"124\": 1, \"66\": 1}, \"12\": {\"49\": 2, \"12\": 38, \"41\": 1, \"3\": 2, \"68\": 2, \"111\": 5, \"108\": 2, \"95\": 2, \"29\": 2, \"88\": 1, \"107\": 1, \"40\": 1, \"42\": 1, \"127\": 2, \"0\": 6, \"8\": 1, \"7\": 3, \"123\": 1, \"30\": 1, \"71\": 6, \"5\": 1, \"78\": 1, \"114\": 2, \"11\": 1, \"106\": 1, \"109\": 1, \"70\": 1}, \"15\": {\"15\": 66, \"113\": 1, \"58\": 2, \"11\": 1, \"127\": 1, \"0\": 1, \"36\": 12, \"106\": 6, \"30\": 3, \"101\": 3, \"24\": 6, \"125\": 8, \"111\": 2, \"108\": 1, \"44\": 1, \"70\": 1, \"117\": 1}, \"26\": {\"117\": 6, \"82\": 1, \"26\": 81, \"102\": 7, \"69\": 16, \"113\": 1, \"18\": 9, \"127\": 1, \"39\": 1, \"3\": 1, \"21\": 1, \"92\": 1, \"81\": 1, \"109\": 2, \"99\": 1, \"4\": 1, \"43\": 1}, \"82\": {\"82\": 35, \"63\": 1}, \"9\": {\"9\": 29, \"77\": 1, \"125\": 1, \"41\": 1}, \"49\": {\"12\": 2, \"41\": 1, \"49\": 10, \"97\": 1, \"11\": 1, \"15\": 1, \"128\": 3, \"98\": 1, \"29\": 1, \"3\": 2, \"111\": 1}, \"55\": {\"82\": 1, \"85\": 1, \"55\": 10, \"72\": 1, \"50\": 1, \"37\": 2}, \"102\": {\"82\": 2, \"70\": 3, \"102\": 82, \"67\": 2, \"69\": 10, \"84\": 1, \"62\": 1, \"87\": 3, \"118\": 2, \"16\": 7, \"39\": 3, \"26\": 1, \"64\": 1, \"104\": 1, \"45\": 2, \"14\": 2, \"33\": 1}, \"85\": {\"85\": 16, \"1\": 1, \"37\": 1, \"40\": 1, \"80\": 1, \"86\": 1, \"105\": 2, \"83\": 1, \"29\": 1, \"50\": 1, \"36\": 1, \"55\": 1, \"126\": 1, \"95\": 1, \"4\": 1, \"14\": 1}, \"73\": {\"73\": 14, \"100\": 2, \"76\": 1, \"14\": 2, \"83\": 1, \"24\": 1, \"33\": 1, \"124\": 1, \"32\": 1, \"46\": 2, \"80\": 2}, \"47\": {\"102\": 1, \"56\": 1, \"47\": 6, \"15\": 1, \"84\": 1, \"94\": 1, \"60\": 1}, \"20\": {\"20\": 16}, \"117\": {\"117\": 83, \"18\": 14, \"26\": 6, \"87\": 1, \"69\": 1, \"39\": 2, \"118\": 1, \"113\": 3, \"40\": 1, \"93\": 1, \"21\": 3}, \"122\": {\"122\": 41, \"49\": 1, \"87\": 1, \"85\": 1, \"19\": 4, \"20\": 1, \"43\": 6, \"3\": 2, \"93\": 3, \"129\": 2, \"88\": 2, \"32\": 1, \"84\": 1, \"95\": 1, \"5\": 13, \"12\": 4, \"70\": 4, \"105\": 6, \"10\": 3, \"44\": 6, \"108\": 3, \"7\": 3, \"8\": 9, \"40\": 1, \"127\": 1, \"114\": 3, \"39\": 1, \"128\": 1, \"103\": 1, \"74\": 2, \"73\": 1, \"24\": 2, \"78\": 1, \"98\": 2, \"4\": 1, \"27\": 2, \"0\": 1, \"1\": 1, \"90\": 1}, \"113\": {\"26\": 6, \"13\": 2, \"113\": 40, \"21\": 2, \"109\": 3, \"88\": 1, \"39\": 4, \"117\": 2, \"18\": 4, \"11\": 1, \"62\": 1, \"69\": 3, \"72\": 1, \"40\": 1, \"23\": 1}, \"87\": {\"21\": 4, \"126\": 5, \"87\": 18, \"53\": 1, \"33\": 13, \"83\": 1, \"109\": 8, \"1\": 4, \"84\": 7, \"14\": 4, \"62\": 8, \"90\": 3, \"16\": 5, \"107\": 2, \"93\": 3, \"124\": 1, \"39\": 2, \"69\": 1, \"40\": 2, \"88\": 3, \"7\": 2, \"116\": 2, \"44\": 1, \"100\": 3, \"118\": 3, \"119\": 2, \"102\": 1, \"43\": 1, \"70\": 2}, \"21\": {\"21\": 41, \"88\": 3, \"78\": 1, \"87\": 1, \"120\": 1, \"10\": 1}, \"106\": {\"12\": 4, \"106\": 70, \"9\": 1, \"15\": 8, \"30\": 5, \"125\": 2, \"127\": 1, \"99\": 1, \"6\": 1, \"36\": 7, \"0\": 4, \"94\": 3, \"70\": 1, \"111\": 5, \"90\": 2, \"29\": 1, \"11\": 2, \"24\": 1, \"21\": 1}, \"3\": {\"3\": 94, \"115\": 1, \"128\": 2, \"71\": 7, \"114\": 10, \"70\": 1, \"88\": 1, \"108\": 1, \"44\": 1, \"7\": 7, \"123\": 2, \"49\": 1, \"111\": 3, \"4\": 1, \"78\": 1, \"39\": 2, \"30\": 1}, \"126\": {\"126\": 44, \"23\": 2, \"13\": 1, \"44\": 4, \"38\": 1, \"73\": 1, \"4\": 2, \"90\": 3, \"17\": 1, \"40\": 4, \"71\": 1, \"95\": 2, \"1\": 2, \"87\": 8, \"14\": 3, \"107\": 1, \"109\": 3, \"88\": 7, \"43\": 6, \"70\": 5, \"8\": 3, \"16\": 1, \"119\": 1, \"5\": 1, \"91\": 1, \"86\": 2, \"85\": 1, \"105\": 1, \"10\": 2, \"124\": 1, \"39\": 1, \"122\": 1, \"7\": 1, \"93\": 1, \"108\": 1}, \"41\": {\"41\": 13, \"97\": 1, \"43\": 1, \"51\": 1, \"77\": 2, \"98\": 2}, \"76\": {\"50\": 1, \"76\": 5, \"116\": 1, \"28\": 2, \"64\": 2, \"95\": 1, \"104\": 1, \"57\": 1, \"47\": 1, \"93\": 1}, \"60\": {\"60\": 14, \"84\": 1, \"83\": 2, \"109\": 1, \"1\": 1, \"23\": 2, \"27\": 2, \"47\": 1, \"42\": 1, \"95\": 1, \"40\": 1, \"32\": 1}, \"94\": {\"106\": 3, \"94\": 19, \"58\": 1, \"120\": 1, \"18\": 1, \"128\": 2, \"6\": 3, \"75\": 1, \"20\": 1, \"127\": 2, \"83\": 1, \"15\": 6, \"125\": 5, \"101\": 2, \"30\": 1, \"111\": 2, \"24\": 1, \"126\": 2, \"98\": 5, \"36\": 3, \"108\": 1, \"27\": 1}, \"50\": {\"50\": 13, \"55\": 1, \"0\": 1, \"124\": 1}, \"97\": {\"97\": 14, \"6\": 2, \"36\": 1, \"101\": 2, \"108\": 1}, \"115\": {\"115\": 12}, \"38\": {\"38\": 16}, \"43\": {\"3\": 4, \"70\": 8, \"20\": 1, \"5\": 8, \"44\": 4, \"114\": 1, \"43\": 28, \"34\": 1, \"40\": 6, \"122\": 3, \"67\": 1, \"107\": 1, \"90\": 2, \"109\": 3, \"46\": 2, \"33\": 4, \"84\": 3, \"126\": 2, \"1\": 13, \"88\": 4, \"87\": 1, \"113\": 1, \"105\": 10, \"124\": 3, \"95\": 1, \"110\": 3, \"78\": 2, \"98\": 1, \"30\": 1, \"101\": 1, \"7\": 1}, \"67\": {\"67\": 12, \"102\": 2, \"50\": 2}, \"18\": {\"18\": 72, \"13\": 1, \"65\": 1, \"117\": 20, \"21\": 1, \"39\": 2, \"69\": 8, \"118\": 2, \"26\": 13, \"33\": 1, \"113\": 2, \"81\": 1, \"87\": 1, \"4\": 1, \"94\": 1, \"88\": 1}, \"23\": {\"23\": 12, \"128\": 1, \"126\": 2, \"48\": 1, \"26\": 1, \"71\": 2, \"122\": 2, \"117\": 1, \"11\": 1, \"54\": 1, \"83\": 1, \"7\": 2, \"29\": 1, \"87\": 1, \"95\": 1, \"121\": 1, \"129\": 1, \"41\": 1, \"3\": 2, \"57\": 1, \"31\": 1, \"53\": 1, \"32\": 1, \"24\": 1, \"78\": 1, \"70\": 1, \"43\": 1, \"108\": 1}, \"63\": {\"16\": 2, \"63\": 18}, \"127\": {\"3\": 5, \"127\": 94, \"111\": 8, \"16\": 1, \"106\": 2, \"30\": 1, \"0\": 1, \"5\": 2, \"108\": 2, \"39\": 1, \"113\": 1, \"71\": 1, \"4\": 1, \"114\": 1, \"122\": 1, \"26\": 1, \"36\": 1}, \"72\": {\"72\": 15, \"121\": 1, \"69\": 1, \"84\": 2, \"81\": 2, \"113\": 1, \"118\": 2, \"77\": 1, \"15\": 1, \"37\": 1, \"26\": 1}, \"128\": {\"7\": 1, \"127\": 1, \"128\": 7, \"29\": 1, \"19\": 1, \"122\": 2, \"86\": 1, \"107\": 1, \"53\": 2, \"30\": 1, \"11\": 1, \"10\": 1, \"42\": 1, \"111\": 1, \"85\": 1, \"87\": 1}, \"7\": {\"7\": 90, \"120\": 1, \"91\": 1, \"79\": 1, \"10\": 1, \"43\": 1, \"71\": 1, \"108\": 2, \"3\": 10, \"127\": 4, \"30\": 3, \"8\": 1, \"111\": 1, \"34\": 1, \"4\": 1, \"26\": 1, \"122\": 3, \"0\": 2, \"18\": 1, \"44\": 1, \"88\": 1}, \"108\": {\"108\": 61, \"8\": 7, \"98\": 11, \"42\": 2, \"29\": 2, \"106\": 3, \"3\": 3, \"30\": 8, \"0\": 3, \"107\": 2, \"11\": 4, \"114\": 2, \"44\": 7, \"122\": 3, \"126\": 1, \"24\": 2, \"111\": 3, \"71\": 4, \"41\": 2, \"5\": 2, \"4\": 1, \"12\": 1}, \"16\": {\"16\": 55, \"128\": 1, \"102\": 9, \"84\": 2, \"63\": 2, \"118\": 4, \"1\": 1, \"43\": 1, \"14\": 1, \"70\": 6, \"18\": 1, \"87\": 3, \"40\": 2, \"69\": 6, \"88\": 2, \"39\": 4, \"96\": 2, \"26\": 1, \"13\": 1, \"2\": 1, \"83\": 1, \"77\": 1, \"31\": 1, \"11\": 1, \"21\": 3, \"62\": 1, \"27\": 1}, \"29\": {\"29\": 30, \"7\": 1, \"128\": 1}, \"61\": {\"61\": 17, \"108\": 1, \"32\": 1, \"126\": 1}, \"104\": {\"61\": 2, \"100\": 1, \"104\": 10, \"86\": 2, \"19\": 1, \"40\": 1, \"73\": 1, \"95\": 1, \"31\": 1}, \"120\": {\"120\": 20}, \"124\": {\"34\": 1, \"61\": 2, \"73\": 2, \"86\": 2, \"124\": 50, \"17\": 2, \"104\": 2, \"36\": 1, \"84\": 4, \"95\": 2, \"4\": 5, \"114\": 2, \"39\": 1, \"12\": 2, \"43\": 7, \"40\": 3, \"29\": 1, \"105\": 4, \"108\": 1, \"5\": 8, \"1\": 4, \"122\": 4, \"71\": 1, \"116\": 1, \"107\": 2, \"70\": 2, \"24\": 1, \"47\": 1, \"27\": 1, \"14\": 1, \"8\": 3, \"33\": 1}, \"34\": {\"128\": 1, \"29\": 1, \"8\": 1, \"34\": 9, \"56\": 1, \"53\": 1, \"98\": 2, \"1\": 1, \"112\": 1, \"106\": 1, \"68\": 1, \"93\": 2, \"122\": 1, \"108\": 2, \"54\": 2, \"103\": 1, \"105\": 1, \"79\": 1, \"87\": 1, \"24\": 1}, \"84\": {\"84\": 41, \"75\": 1, \"85\": 2, \"50\": 1, \"33\": 15, \"78\": 1, \"40\": 6, \"43\": 1, \"118\": 1, \"124\": 3, \"90\": 1, \"1\": 3, \"70\": 2, \"87\": 2, \"30\": 1, \"95\": 1, \"16\": 1, \"73\": 1, \"13\": 1, \"14\": 1, \"62\": 2, \"105\": 1, \"107\": 2, \"101\": 1}, \"103\": {\"104\": 1, \"103\": 14, \"108\": 1}, \"100\": {\"84\": 1, \"100\": 9, \"116\": 1, \"1\": 2, \"33\": 1, \"45\": 1, \"72\": 1}, \"40\": {\"84\": 5, \"40\": 70, \"129\": 1, \"105\": 10, \"11\": 1, \"95\": 4, \"4\": 4, \"33\": 6, \"110\": 1, \"30\": 1, \"19\": 1, \"107\": 4, \"12\": 1, \"43\": 4, \"70\": 2, \"5\": 7, \"21\": 1, \"113\": 1, \"8\": 3, \"1\": 2, \"109\": 1, \"122\": 2, \"14\": 1, \"60\": 1, \"16\": 1, \"117\": 1, \"39\": 2, \"88\": 1, \"62\": 1}, \"35\": {\"35\": 9, \"126\": 1, \"3\": 1, \"24\": 1}, \"96\": {\"100\": 1, \"96\": 3, \"48\": 1, \"47\": 1, \"63\": 2, \"78\": 2, \"39\": 1, \"55\": 2, \"83\": 1, \"65\": 1, \"86\": 1, \"72\": 1, \"81\": 1, \"121\": 2}, \"101\": {\"35\": 1, \"101\": 97, \"97\": 1, \"6\": 2, \"15\": 4, \"125\": 1, \"98\": 2, \"0\": 3, \"30\": 1, \"111\": 2, \"36\": 1, \"11\": 1, \"93\": 1, \"106\": 1, \"108\": 1, \"24\": 1}, \"71\": {\"71\": 73, \"103\": 1, \"0\": 2, \"3\": 5, \"127\": 6, \"54\": 1, \"5\": 2, \"87\": 1, \"10\": 1, \"124\": 1, \"44\": 1, \"114\": 3, \"18\": 1, \"105\": 1, \"8\": 1}, \"81\": {\"81\": 12, \"64\": 1, \"88\": 1, \"10\": 1, \"113\": 1, \"121\": 1, \"70\": 1, \"18\": 1, \"51\": 1, \"2\": 1, \"45\": 1, \"31\": 1, \"82\": 1}, \"74\": {\"107\": 2, \"27\": 1, \"74\": 5, \"50\": 1, \"70\": 1, \"73\": 4, \"29\": 1, \"122\": 1}, \"119\": {\"119\": 17, \"70\": 1, \"87\": 2}, \"5\": {\"5\": 77, \"43\": 1, \"107\": 1, \"17\": 1, \"95\": 1, \"4\": 7, \"1\": 2, \"108\": 1, \"114\": 4, \"18\": 2, \"105\": 2, \"129\": 1, \"91\": 1, \"126\": 1, \"40\": 1, \"110\": 1, \"71\": 2, \"122\": 2, \"44\": 1, \"8\": 1, \"70\": 1, \"127\": 1}, \"68\": {\"68\": 10, \"114\": 2, \"127\": 2, \"30\": 1, \"79\": 1}, \"37\": {\"109\": 1, \"37\": 8, \"100\": 1, \"5\": 1, \"14\": 2, \"32\": 1, \"118\": 1, \"48\": 1}, \"58\": {\"58\": 18, \"34\": 2}, \"109\": {\"109\": 18, \"37\": 2, \"57\": 1, \"78\": 4, \"21\": 5, \"63\": 2, \"65\": 1, \"118\": 6, \"80\": 1, \"88\": 10, \"44\": 1, \"113\": 1, \"43\": 1, \"39\": 5, \"108\": 1, \"102\": 5, \"18\": 1, \"12\": 1, \"87\": 6, \"90\": 2, \"26\": 1, \"126\": 6, \"84\": 1, \"62\": 5, \"70\": 2, \"85\": 1, \"14\": 1, \"69\": 1, \"33\": 3, \"99\": 1, \"93\": 2, \"0\": 1, \"16\": 1}, \"107\": {\"107\": 26, \"24\": 1, \"108\": 1, \"105\": 1, \"71\": 1, \"36\": 1, \"32\": 2, \"125\": 1, \"95\": 3, \"4\": 3, \"1\": 1, \"0\": 1, \"40\": 6, \"62\": 2, \"106\": 1, \"5\": 2, \"110\": 5, \"11\": 1, \"91\": 2, \"70\": 2, \"124\": 1}, \"13\": {\"100\": 1, \"81\": 1, \"72\": 1, \"55\": 1, \"109\": 1, \"13\": 4, \"9\": 1, \"117\": 1, \"82\": 1, \"120\": 1, \"26\": 1, \"102\": 2}, \"52\": {\"52\": 11, \"91\": 1, \"128\": 1, \"53\": 1, \"7\": 1, \"112\": 2, \"0\": 1, \"119\": 1, \"77\": 1}, \"77\": {\"77\": 8, \"91\": 2, \"49\": 1, \"22\": 1, \"34\": 1, \"0\": 2, \"12\": 1}, \"95\": {\"95\": 20, \"126\": 1, \"17\": 1, \"12\": 1, \"60\": 1, \"107\": 3, \"13\": 1, \"110\": 2, \"129\": 1, \"29\": 1, \"4\": 2, \"55\": 1, \"85\": 1}, \"44\": {\"44\": 94, \"123\": 1, \"30\": 1, \"126\": 1, \"70\": 1, \"61\": 1, \"122\": 1}, \"88\": {\"88\": 52, \"126\": 6, \"43\": 3, \"59\": 1, \"70\": 5, \"14\": 2, \"39\": 7, \"19\": 1, \"62\": 2, \"78\": 2, \"26\": 1, \"93\": 5, \"21\": 3, \"109\": 8, \"36\": 1, \"113\": 1, \"44\": 5, \"16\": 1, \"20\": 2, \"102\": 1, \"87\": 3, \"32\": 1, \"84\": 2, \"8\": 1, \"0\": 1, \"1\": 3, \"69\": 1, \"105\": 1}, \"91\": {\"35\": 2, \"71\": 3, \"112\": 1, \"42\": 2, \"91\": 8, \"29\": 1, \"80\": 1, \"51\": 1, \"24\": 1, \"15\": 1, \"129\": 1, \"34\": 1, \"11\": 1, \"126\": 1, \"97\": 1, \"124\": 1, \"28\": 1}, \"93\": {\"116\": 3, \"126\": 2, \"93\": 55, \"20\": 1, \"90\": 2, \"43\": 1, \"23\": 2, \"84\": 5, \"88\": 8, \"124\": 2, \"33\": 21, \"0\": 1, \"62\": 10, \"21\": 1, \"87\": 9, \"122\": 1, \"70\": 2, \"24\": 1, \"109\": 1, \"86\": 1, \"102\": 3, \"118\": 1, \"117\": 1, \"8\": 1, \"1\": 3}, \"8\": {\"108\": 7, \"85\": 1, \"8\": 60, \"128\": 1, \"126\": 5, \"29\": 3, \"24\": 2, \"12\": 4, \"78\": 2, \"1\": 1, \"0\": 2, \"40\": 1, \"4\": 1, \"113\": 1, \"70\": 2, \"122\": 9, \"87\": 3, \"111\": 1, \"10\": 2, \"11\": 1, \"32\": 2, \"98\": 2, \"109\": 1, \"93\": 3, \"7\": 1, \"3\": 1, \"124\": 2, \"5\": 2, \"30\": 1}, \"1\": {\"73\": 1, \"1\": 62, \"27\": 1, \"110\": 1, \"40\": 10, \"87\": 5, \"84\": 7, \"5\": 4, \"70\": 2, \"4\": 1, \"124\": 2, \"33\": 5, \"62\": 1, \"43\": 1, \"105\": 6, \"122\": 2, \"117\": 1, \"8\": 1, \"93\": 1}, \"45\": {\"100\": 1, \"45\": 6, \"21\": 1, \"82\": 2, \"14\": 1, \"64\": 1, \"102\": 2, \"27\": 1, \"70\": 1}, \"111\": {\"108\": 4, \"111\": 80, \"127\": 15, \"71\": 1, \"8\": 2, \"11\": 2, \"114\": 7, \"62\": 1, \"30\": 1, \"0\": 2, \"129\": 1, \"128\": 1, \"98\": 1, \"21\": 1, \"12\": 2, \"7\": 2, \"3\": 2, \"106\": 1}, \"116\": {\"116\": 16, \"45\": 1, \"66\": 1, \"86\": 1, \"70\": 1, \"80\": 2, \"14\": 1, \"73\": 1, \"16\": 1, \"76\": 1, \"33\": 1, \"84\": 1}, \"48\": {\"13\": 2, \"48\": 13, \"118\": 1, \"67\": 1, \"89\": 2, \"102\": 1}, \"57\": {\"65\": 1, \"48\": 3, \"57\": 12, \"44\": 1, \"92\": 2, \"20\": 1}, \"10\": {\"44\": 3, \"10\": 28, \"30\": 2, \"119\": 1, \"126\": 5, \"59\": 1, \"12\": 2, \"0\": 1, \"99\": 1, \"7\": 4, \"3\": 2, \"71\": 1, \"53\": 1, \"115\": 1, \"129\": 1, \"108\": 1, \"77\": 1, \"4\": 1, \"26\": 1, \"122\": 1, \"98\": 1}, \"129\": {\"94\": 1, \"85\": 1, \"34\": 2, \"32\": 1, \"129\": 13, \"122\": 1, \"107\": 3, \"71\": 1, \"24\": 1, \"8\": 1, \"5\": 1, \"84\": 1, \"3\": 2, \"73\": 1, \"114\": 2}, \"98\": {\"98\": 82, \"71\": 1, \"30\": 3, \"51\": 1, \"11\": 8, \"88\": 1, \"106\": 1, \"0\": 8, \"18\": 2, \"101\": 1, \"108\": 5, \"111\": 1, \"29\": 1, \"36\": 1, \"24\": 1, \"15\": 1}, \"65\": {\"65\": 16, \"20\": 1, \"121\": 1, \"18\": 2}, \"6\": {\"49\": 1, \"75\": 1, \"101\": 2, \"6\": 10, \"71\": 1, \"0\": 1, \"125\": 4, \"30\": 1, \"41\": 1, \"106\": 1, \"29\": 2, \"25\": 3, \"68\": 1, \"112\": 1, \"97\": 2}, \"75\": {\"75\": 12, \"25\": 1, \"126\": 1, \"125\": 2}, \"14\": {\"37\": 1, \"84\": 3, \"14\": 24, \"70\": 1, \"102\": 2, \"62\": 3, \"61\": 1, \"4\": 2, \"122\": 2, \"107\": 1, \"39\": 1, \"118\": 2, \"55\": 2, \"95\": 1, \"32\": 1, \"78\": 1}, \"30\": {\"97\": 1, \"30\": 35, \"111\": 4, \"127\": 2, \"106\": 10, \"94\": 2, \"15\": 6, \"0\": 9, \"29\": 1, \"98\": 7, \"107\": 1, \"71\": 1, \"40\": 1, \"122\": 1, \"8\": 4, \"88\": 1, \"11\": 3, \"12\": 2, \"93\": 1, \"101\": 2, \"1\": 1, \"43\": 1, \"24\": 1, \"39\": 3, \"68\": 1, \"34\": 1, \"128\": 1, \"4\": 1, \"108\": 1, \"7\": 4, \"36\": 3}, \"83\": {\"83\": 29, \"99\": 1, \"61\": 1, \"23\": 2, \"126\": 1, \"43\": 1, \"118\": 1, \"87\": 2, \"116\": 1, \"109\": 1}, \"69\": {\"69\": 99, \"72\": 2, \"102\": 4, \"88\": 2, \"26\": 6, \"39\": 3, \"117\": 2, \"113\": 3, \"18\": 1, \"16\": 2, \"7\": 1, \"82\": 1, \"93\": 1, \"33\": 1}, \"125\": {\"106\": 6, \"125\": 109, \"24\": 6, \"0\": 1, \"36\": 6, \"101\": 3, \"30\": 2, \"15\": 8, \"114\": 2, \"71\": 1, \"127\": 1, \"109\": 1}, \"31\": {\"31\": 9, \"64\": 1, \"116\": 1, \"92\": 1, \"50\": 1, \"102\": 2, \"67\": 1, \"80\": 1, \"5\": 1, \"62\": 1, \"72\": 1}, \"118\": {\"118\": 23, \"129\": 1, \"119\": 2, \"11\": 1, \"67\": 2, \"60\": 2, \"110\": 1, \"84\": 4, \"92\": 1, \"82\": 2, \"109\": 1, \"16\": 3, \"70\": 1, \"14\": 1, \"88\": 2, \"87\": 2, \"32\": 1, \"100\": 1, \"55\": 1, \"102\": 3, \"45\": 1, \"86\": 2, \"24\": 1, \"23\": 1, \"69\": 1, \"78\": 1, \"124\": 1, \"40\": 1, \"33\": 2, \"43\": 1, \"1\": 1}, \"53\": {\"53\": 15, \"52\": 1}, \"54\": {\"54\": 16, \"85\": 1, \"122\": 1, \"71\": 1, \"103\": 1}, \"92\": {\"92\": 19, \"50\": 1, \"57\": 1, \"55\": 1, \"116\": 1, \"89\": 2, \"13\": 1, \"82\": 2}, \"19\": {\"8\": 3, \"17\": 1, \"19\": 15, \"85\": 1, \"129\": 2, \"122\": 1, \"40\": 1, \"107\": 1, \"102\": 1, \"12\": 1, \"43\": 1}, \"27\": {\"27\": 24, \"41\": 3, \"15\": 8, \"25\": 1, \"49\": 1, \"24\": 6, \"106\": 4, \"94\": 1, \"6\": 2, \"98\": 1, \"29\": 2, \"109\": 1, \"8\": 3, \"125\": 2, \"36\": 3, \"77\": 1, \"96\": 1, \"87\": 1, \"11\": 1, \"107\": 1, \"124\": 1}, \"17\": {\"17\": 6, \"85\": 2, \"21\": 1, \"107\": 1, \"74\": 2, \"33\": 1, \"95\": 1, \"4\": 2}, \"4\": {\"41\": 1, \"4\": 35, \"32\": 5, \"0\": 2, \"8\": 9, \"95\": 2, \"5\": 5, \"114\": 4, \"71\": 3, \"3\": 2, \"1\": 1, \"111\": 2, \"33\": 1, \"12\": 2, \"40\": 3, \"105\": 1, \"127\": 1, \"16\": 1, \"122\": 4, \"110\": 1, \"126\": 1, \"43\": 1, \"107\": 1}, \"36\": {\"94\": 2, \"27\": 7, \"3\": 1, \"36\": 80, \"106\": 7, \"15\": 8, \"34\": 1, \"125\": 6, \"78\": 1, \"6\": 1, \"39\": 2, \"24\": 4, \"101\": 1, \"88\": 1, \"0\": 1, \"90\": 1, \"108\": 2, \"43\": 1, \"30\": 1}, \"90\": {\"90\": 124, \"11\": 1, \"33\": 1, \"69\": 1, \"126\": 3, \"70\": 2, \"118\": 1, \"87\": 2, \"88\": 1}, \"64\": {\"64\": 12, \"69\": 1, \"102\": 2, \"17\": 1}, \"66\": {\"66\": 13, \"116\": 1, \"22\": 1, \"83\": 1, \"124\": 1, \"45\": 1, \"100\": 1, \"86\": 1}, \"46\": {\"46\": 8, \"109\": 2, \"126\": 2, \"14\": 2, \"122\": 1, \"90\": 1}, \"86\": {\"74\": 2, \"19\": 2, \"86\": 16, \"1\": 1, \"2\": 1, \"40\": 1, \"36\": 1, \"32\": 1, \"105\": 2, \"80\": 1, \"107\": 3, \"62\": 1}, \"114\": {\"114\": 77, \"71\": 7, \"127\": 8, \"3\": 3, \"117\": 1, \"111\": 5, \"105\": 2, \"5\": 2, \"8\": 1, \"107\": 1, \"7\": 1, \"24\": 1, \"87\": 1}, \"32\": {\"32\": 18, \"61\": 2, \"85\": 2, \"40\": 2, \"75\": 1, \"86\": 1, \"78\": 1, \"0\": 1, \"122\": 1, \"10\": 1, \"19\": 1, \"42\": 1, \"93\": 1, \"27\": 1, \"8\": 1, \"62\": 1}, \"78\": {\"78\": 11, \"44\": 4, \"70\": 1, \"14\": 1, \"40\": 5, \"23\": 1, \"43\": 1, \"85\": 1, \"19\": 1, \"109\": 5, \"87\": 1, \"84\": 1, \"107\": 1, \"95\": 1, \"62\": 1, \"42\": 1, \"8\": 1, \"129\": 1, \"24\": 1, \"10\": 1, \"93\": 1, \"99\": 1, \"21\": 2, \"88\": 2, \"1\": 1}, \"33\": {\"96\": 1, \"33\": 101, \"105\": 5, \"62\": 5, \"93\": 6, \"0\": 1, \"1\": 9, \"8\": 1, \"126\": 1, \"40\": 1, \"5\": 1, \"16\": 1, \"23\": 1, \"84\": 1, \"39\": 1, \"102\": 2}, \"70\": {\"43\": 5, \"110\": 1, \"109\": 2, \"122\": 3, \"86\": 1, \"70\": 37, \"73\": 1, \"95\": 1, \"40\": 6, \"118\": 1, \"1\": 5, \"84\": 1, \"87\": 6, \"88\": 9, \"18\": 1, \"105\": 6, \"12\": 1, \"62\": 6, \"33\": 6, \"16\": 1, \"5\": 1, \"39\": 2, \"19\": 1, \"20\": 1, \"10\": 1, \"99\": 1, \"119\": 2, \"60\": 1, \"4\": 1, \"71\": 1, \"21\": 2, \"107\": 2, \"117\": 2, \"108\": 1, \"8\": 1, \"124\": 1, \"44\": 1, \"126\": 2}, \"0\": {\"111\": 5, \"0\": 55, \"11\": 8, \"79\": 2, \"7\": 6, \"71\": 4, \"122\": 1, \"30\": 9, \"3\": 1, \"108\": 5, \"29\": 2, \"98\": 4, \"117\": 2, \"125\": 1, \"69\": 1, \"106\": 1, \"12\": 1, \"77\": 1, \"128\": 1, \"70\": 1, \"101\": 2, \"8\": 1, \"127\": 1, \"39\": 1}, \"110\": {\"110\": 20, \"70\": 2, \"1\": 3, \"34\": 1, \"124\": 1, \"40\": 1, \"33\": 4, \"117\": 1, \"75\": 1, \"95\": 2, \"71\": 2, \"5\": 1, \"30\": 1}, \"2\": {\"69\": 3, \"27\": 1, \"113\": 2, \"2\": 13, \"26\": 2, \"88\": 2, \"16\": 1, \"117\": 1, \"63\": 1, \"72\": 2, \"102\": 1, \"82\": 1, \"36\": 1, \"81\": 1}, \"28\": {\"28\": 15, \"88\": 1, \"64\": 1, \"66\": 1, \"62\": 1, \"78\": 1}, \"51\": {\"51\": 17, \"97\": 1, \"58\": 1, \"34\": 1}, \"79\": {\"79\": 10, \"114\": 1, \"0\": 1, \"53\": 1, \"68\": 2, \"34\": 1}, \"42\": {\"42\": 17, \"79\": 1, \"129\": 1, \"30\": 1, \"71\": 3, \"12\": 1, \"115\": 1, \"122\": 2, \"125\": 1}, \"112\": {\"42\": 2, \"112\": 11, \"114\": 1, \"3\": 1, \"61\": 1}, \"89\": {\"86\": 2, \"50\": 1, \"27\": 1, \"121\": 3, \"92\": 1, \"15\": 1, \"90\": 1, \"89\": 16, \"64\": 1, \"81\": 1, \"48\": 1, \"93\": 1, \"72\": 1, \"26\": 2, \"16\": 1, \"109\": 2}, \"59\": {\"110\": 2, \"114\": 2, \"59\": 4, \"54\": 3, \"10\": 1, \"29\": 3, \"91\": 1}, \"105\": {\"86\": 5, \"32\": 1, \"105\": 57, \"124\": 1, \"107\": 4, \"5\": 4, \"95\": 3, \"4\": 3, \"70\": 2, \"1\": 6, \"43\": 5, \"87\": 3, \"40\": 9, \"122\": 5, \"26\": 1, \"62\": 5, \"8\": 3, \"33\": 6, \"39\": 1, \"91\": 1, \"84\": 1, \"126\": 1, \"0\": 1}, \"121\": {\"121\": 19, \"99\": 3, \"15\": 1, \"43\": 1, \"89\": 2, \"113\": 1, \"22\": 1, \"26\": 1, \"66\": 1, \"23\": 2, \"72\": 1, \"93\": 1, \"39\": 1, \"12\": 1}, \"11\": {\"11\": 40, \"126\": 1, \"23\": 1, \"48\": 1, \"44\": 2, \"123\": 1, \"6\": 1, \"8\": 2, \"24\": 1, \"101\": 3, \"0\": 6, \"122\": 2, \"30\": 2, \"106\": 1, \"98\": 3, \"108\": 3, \"51\": 1, \"97\": 1, \"49\": 2, \"16\": 1, \"3\": 1, \"91\": 1, \"128\": 1, \"20\": 1, \"18\": 1}, \"99\": {\"99\": 25, \"78\": 1, \"65\": 2, \"12\": 1, \"1\": 1, \"17\": 1, \"57\": 1}, \"25\": {\"25\": 15, \"125\": 1}, \"62\": {\"62\": 88, \"20\": 1, \"22\": 1, \"84\": 2, \"33\": 6, \"88\": 2, \"1\": 2, \"102\": 1, \"105\": 2, \"90\": 2, \"93\": 1, \"40\": 4, \"70\": 2, \"50\": 1, \"14\": 1, \"113\": 1, \"43\": 3, \"118\": 2, \"78\": 1, \"124\": 1, \"87\": 1, \"126\": 1, \"122\": 2}, \"123\": {\"123\": 13, \"30\": 1, \"10\": 2}, \"24\": {\"24\": 30, \"44\": 5, \"27\": 2, \"4\": 1, \"125\": 16, \"29\": 3, \"36\": 4, \"15\": 5, \"99\": 1, \"83\": 1, \"8\": 4, \"106\": 7, \"108\": 3, \"62\": 1, \"98\": 10, \"122\": 2, \"26\": 1, \"111\": 4, \"114\": 1, \"9\": 2, \"126\": 3, \"11\": 2, \"77\": 1, \"0\": 1, \"109\": 1, \"30\": 1}, \"80\": {\"80\": 10, \"86\": 3, \"60\": 1, \"128\": 1, \"16\": 1}, \"39\": {\"18\": 5, \"39\": 38, \"109\": 6, \"102\": 5, \"113\": 3, \"88\": 5, \"69\": 3, \"117\": 3, \"2\": 1, \"118\": 3, \"87\": 2, \"93\": 4, \"70\": 3, \"16\": 5, \"7\": 2, \"90\": 1, \"72\": 1, \"78\": 3, \"40\": 1, \"21\": 1, \"36\": 1, \"5\": 1, \"43\": 1, \"1\": 1, \"26\": 1}, \"22\": {\"22\": 12, \"122\": 1, \"83\": 1, \"60\": 2, \"108\": 1, \"128\": 1, \"87\": 1, \"119\": 1}}, \"C_5\": {\"12\": {\"12\": 73, \"9\": 1, \"38\": 3, \"32\": 1, \"30\": 4, \"55\": 5, \"45\": 1, \"6\": 2, \"17\": 1, \"7\": 4, \"4\": 1}, \"8\": {\"8\": 130, \"6\": 2, \"50\": 3, \"20\": 4, \"53\": 2, \"1\": 1}, \"29\": {\"29\": 107, \"28\": 2, \"33\": 1, \"47\": 2, \"35\": 1, \"22\": 2, \"44\": 8, \"40\": 1, \"54\": 1, \"15\": 1, \"43\": 1, \"19\": 1, \"14\": 1, \"34\": 1, \"52\": 2}, \"57\": {\"57\": 115, \"46\": 7, \"47\": 2, \"25\": 1, \"3\": 1}, \"38\": {\"38\": 32}, \"23\": {\"23\": 103, \"42\": 2, \"3\": 5, \"47\": 1, \"54\": 2, \"36\": 5, \"18\": 2, \"52\": 4}, \"56\": {\"56\": 125, \"10\": 1, \"24\": 2, \"35\": 2, \"15\": 3, \"11\": 3, \"13\": 2}, \"49\": {\"49\": 33, \"36\": 2, \"14\": 1}, \"4\": {\"4\": 80, \"26\": 2, \"12\": 2, \"9\": 4, \"45\": 5, \"55\": 1, \"17\": 1, \"7\": 1, \"19\": 1, \"5\": 1, \"30\": 1, \"50\": 1}, \"48\": {\"48\": 119, \"1\": 5, \"20\": 1, \"17\": 3, \"6\": 5, \"45\": 1, \"9\": 2}, \"21\": {\"21\": 133, \"53\": 5, \"51\": 3, \"50\": 2, \"52\": 1}, \"30\": {\"30\": 118, \"6\": 2, \"25\": 1, \"17\": 6, \"45\": 1}, \"1\": {\"30\": 3, \"48\": 15, \"1\": 117, \"47\": 1, \"14\": 1, \"23\": 2, \"18\": 1, \"50\": 2, \"54\": 2, \"17\": 1, \"6\": 3}, \"34\": {\"34\": 35, \"23\": 1}, \"35\": {\"35\": 36}, \"55\": {\"48\": 2, \"55\": 104, \"45\": 4, \"9\": 12, \"30\": 2, \"27\": 9, \"17\": 4, \"6\": 10, \"25\": 2, \"20\": 1, \"4\": 1, \"5\": 1}, \"5\": {\"5\": 99, \"48\": 1, \"44\": 6, \"45\": 1, \"40\": 5, \"19\": 7, \"25\": 1, \"22\": 1, \"50\": 1}, \"52\": {\"52\": 108, \"46\": 3, \"43\": 3, \"54\": 3, \"3\": 1, \"23\": 7, \"36\": 1}, \"6\": {\"6\": 99, \"1\": 12, \"9\": 1, \"39\": 1, \"17\": 5, \"25\": 3, \"45\": 2, \"8\": 2, \"27\": 1, \"50\": 1, \"20\": 1}, \"36\": {\"36\": 76, \"52\": 1, \"47\": 8, \"54\": 7}, \"41\": {\"41\": 27, \"50\": 1}, \"3\": {\"3\": 43, \"36\": 12, \"47\": 7, \"43\": 1, \"0\": 11, \"57\": 2, \"46\": 10, \"11\": 4, \"49\": 3, \"52\": 1, \"54\": 2, \"31\": 2, \"23\": 2}, \"28\": {\"28\": 27, \"14\": 1, \"44\": 2, \"43\": 1, \"49\": 1}, \"18\": {\"18\": 56, \"23\": 4, \"54\": 1, \"42\": 2, \"36\": 1}, \"25\": {\"25\": 124, \"32\": 1, \"20\": 4, \"45\": 1, \"1\": 1, \"50\": 4, \"53\": 1}, \"47\": {\"3\": 2, \"47\": 76, \"23\": 4, \"54\": 2, \"2\": 1, \"57\": 3, \"31\": 3, \"19\": 2, \"36\": 3, \"50\": 1, \"1\": 2, \"46\": 1}, \"13\": {\"13\": 137, \"2\": 1, \"24\": 8, \"31\": 1, \"34\": 1, \"5\": 1, \"14\": 2, \"56\": 2, \"44\": 2, \"29\": 2, \"3\": 1, \"43\": 2}, \"11\": {\"11\": 112, \"0\": 5, \"43\": 1, \"23\": 1, \"16\": 6, \"3\": 4, \"15\": 9, \"52\": 5, \"46\": 1}, \"53\": {\"53\": 114, \"6\": 1, \"50\": 3, \"20\": 15, \"8\": 4, \"54\": 1, \"55\": 1, \"27\": 1, \"51\": 2, \"4\": 1, \"1\": 1}, \"33\": {\"33\": 24, \"19\": 5, \"44\": 1, \"29\": 2}, \"46\": {\"46\": 110, \"2\": 2, \"47\": 3, \"24\": 1, \"0\": 14, \"42\": 3, \"50\": 1, \"3\": 4, \"57\": 1, \"23\": 3, \"52\": 1, \"14\": 2, \"11\": 1, \"36\": 1, \"54\": 1}, \"50\": {\"50\": 73, \"27\": 5, \"54\": 5, \"33\": 1, \"1\": 5, \"41\": 2, \"6\": 5, \"53\": 4, \"29\": 2, \"34\": 1, \"32\": 1, \"48\": 5, \"45\": 3, \"9\": 10, \"25\": 9, \"8\": 3, \"19\": 3, \"51\": 9, \"20\": 1, \"47\": 1}, \"10\": {\"10\": 66, \"13\": 2}, \"15\": {\"15\": 129, \"24\": 3, \"11\": 2, \"16\": 2, \"0\": 2}, \"44\": {\"44\": 106, \"34\": 2, \"19\": 12, \"40\": 7, \"29\": 8, \"54\": 1, \"51\": 1, \"5\": 2, \"13\": 1}, \"2\": {\"13\": 1, \"2\": 27}, \"7\": {\"7\": 30, \"55\": 1, \"17\": 1}, \"43\": {\"43\": 135, \"13\": 2, \"52\": 1}, \"32\": {\"32\": 27, \"53\": 1, \"55\": 1, \"1\": 1, \"48\": 2}, \"0\": {\"3\": 4, \"0\": 97, \"46\": 12, \"11\": 8, \"57\": 1, \"24\": 1, \"43\": 1}, \"39\": {\"39\": 20}, \"26\": {\"26\": 24}, \"27\": {\"27\": 81, \"48\": 2, \"19\": 4, \"9\": 16, \"17\": 4, \"55\": 3, \"20\": 1, \"32\": 1}, \"54\": {\"54\": 112}, \"17\": {\"17\": 104, \"6\": 2, \"48\": 2, \"30\": 6, \"1\": 2}, \"14\": {\"43\": 2, \"48\": 1, \"23\": 1, \"2\": 3, \"37\": 3, \"56\": 1, \"14\": 14, \"3\": 1, \"50\": 1, \"9\": 2, \"32\": 1, \"20\": 2, \"21\": 2, \"27\": 1, \"13\": 2, \"45\": 1, \"52\": 2, \"54\": 1, \"11\": 1, \"33\": 1, \"34\": 1}, \"16\": {\"43\": 5, \"16\": 123, \"24\": 4, \"11\": 8, \"15\": 3, \"46\": 1, \"52\": 4}, \"9\": {\"9\": 115, \"33\": 1, \"12\": 3, \"32\": 3, \"4\": 1, \"6\": 1, \"27\": 12, \"19\": 1, \"45\": 2, \"53\": 2, \"17\": 1, \"48\": 3, \"5\": 2, \"50\": 1}, \"19\": {\"19\": 139, \"33\": 2, \"50\": 1, \"5\": 4, \"44\": 3, \"40\": 1, \"29\": 2}, \"20\": {\"20\": 120, \"53\": 7, \"8\": 7, \"51\": 4}, \"37\": {\"37\": 23, \"14\": 1}, \"24\": {\"24\": 75, \"43\": 1, \"11\": 3, \"15\": 1}, \"40\": {\"40\": 73, \"53\": 1, \"36\": 1, \"29\": 6, \"33\": 2, \"5\": 9, \"19\": 7, \"44\": 9, \"6\": 1, \"9\": 5, \"51\": 1, \"7\": 1, \"13\": 1, \"1\": 1, \"47\": 1, \"50\": 1, \"54\": 2}, \"45\": {\"6\": 12, \"45\": 65, \"26\": 1, \"4\": 2, \"25\": 4, \"9\": 10, \"55\": 9, \"50\": 6, \"27\": 5, \"53\": 2, \"30\": 4, \"32\": 1, \"8\": 2, \"1\": 1}, \"22\": {\"22\": 25, \"29\": 1, \"44\": 1, \"28\": 1}, \"42\": {\"42\": 38, \"56\": 2}, \"51\": {\"51\": 102, \"50\": 3, \"21\": 4, \"9\": 2, \"53\": 4, \"27\": 1, \"20\": 1, \"5\": 1}, \"31\": {\"31\": 36}}, \"C_1\": {\"27\": {\"27\": 138, \"31\": 1, \"15\": 1, \"21\": 1, \"10\": 1}, \"2\": {\"2\": 35, \"48\": 1}, \"33\": {\"33\": 32}, \"45\": {\"45\": 150, \"42\": 3, \"1\": 1, \"17\": 1, \"57\": 1}, \"38\": {\"38\": 21, \"34\": 1, \"28\": 1, \"37\": 1}, \"4\": {\"4\": 122, \"2\": 1, \"46\": 4, \"51\": 1, \"6\": 1, \"48\": 1, \"40\": 1, \"50\": 1}, \"31\": {\"31\": 25, \"22\": 3}, \"55\": {\"55\": 110, \"37\": 1, \"45\": 4, \"54\": 9, \"9\": 3, \"42\": 1, \"19\": 2, \"20\": 1, \"13\": 3, \"38\": 1, \"34\": 2, \"56\": 1, \"3\": 1, \"0\": 1}, \"32\": {\"38\": 2, \"32\": 30}, \"57\": {\"57\": 86, \"19\": 14, \"1\": 16, \"47\": 3, \"56\": 17, \"55\": 1, \"7\": 1, \"29\": 2}, \"14\": {\"14\": 12, \"30\": 1, \"8\": 5, \"9\": 3, \"51\": 2, \"53\": 1}, \"16\": {\"16\": 129, \"54\": 4, \"0\": 6, \"22\": 1}, \"34\": {\"34\": 24}, \"56\": {\"45\": 6, \"56\": 63, \"19\": 12, \"57\": 19, \"1\": 7, \"44\": 7, \"47\": 7, \"42\": 1, \"20\": 1, \"55\": 2, \"29\": 1}, \"24\": {\"24\": 89, \"22\": 11, \"49\": 2, \"11\": 4, \"52\": 2}, \"30\": {\"55\": 1, \"30\": 101, \"17\": 1, \"2\": 1, \"7\": 1, \"46\": 2, \"9\": 3, \"8\": 2}, \"17\": {\"17\": 60, \"48\": 1, \"5\": 1, \"53\": 1, \"6\": 1}, \"13\": {\"13\": 123, \"51\": 3, \"3\": 8, \"20\": 1, \"55\": 2, \"46\": 1}, \"39\": {\"39\": 27, \"27\": 1}, \"50\": {\"50\": 146}, \"20\": {\"20\": 129, \"12\": 5, \"45\": 1, \"51\": 1, \"13\": 1, \"3\": 1, \"41\": 1, \"55\": 1}, \"41\": {\"41\": 24}, \"53\": {\"53\": 114, \"14\": 2, \"55\": 1, \"25\": 2, \"9\": 4, \"7\": 1, \"45\": 1, \"51\": 1}, \"48\": {\"48\": 127, \"17\": 1, \"6\": 5, \"50\": 2, \"5\": 6, \"2\": 1}, \"36\": {\"36\": 60, \"22\": 2, \"16\": 2}, \"8\": {\"17\": 5, \"8\": 126, \"9\": 2, \"30\": 3, \"6\": 1, \"25\": 1, \"45\": 1, \"48\": 1}, \"15\": {\"15\": 106, \"11\": 9, \"21\": 2, \"10\": 4, \"23\": 8, \"22\": 1, \"36\": 2}, \"40\": {\"40\": 135, \"7\": 1, \"17\": 1, \"4\": 5, \"29\": 5, \"46\": 3, \"6\": 1, \"53\": 1, \"25\": 1, \"13\": 2, \"50\": 1}, \"37\": {\"37\": 32}, \"21\": {\"21\": 118, \"23\": 1, \"15\": 1}, \"35\": {\"35\": 34, \"44\": 2}, \"49\": {\"49\": 25, \"34\": 1, \"28\": 2, \"54\": 2, \"24\": 2}, \"26\": {\"26\": 24}, \"28\": {\"28\": 28}, \"12\": {\"12\": 106, \"42\": 1, \"20\": 5, \"14\": 1, \"51\": 2, \"53\": 1}, \"5\": {\"5\": 127, \"6\": 3, \"25\": 1, \"50\": 5, \"48\": 16}, \"29\": {\"29\": 101, \"45\": 7, \"57\": 8, \"3\": 2, \"1\": 5, \"47\": 1, \"20\": 2, \"19\": 3, \"44\": 4, \"40\": 2, \"55\": 3, \"56\": 1, \"46\": 1}, \"47\": {\"47\": 105, \"57\": 2, \"44\": 9, \"28\": 1, \"19\": 6, \"54\": 1, \"1\": 1, \"56\": 7, \"49\": 1, \"22\": 1, \"52\": 1, \"27\": 2, \"55\": 2, \"3\": 1}, \"10\": {\"10\": 75, \"21\": 1, \"24\": 4, \"11\": 8, \"15\": 6, \"22\": 1, \"23\": 1}, \"18\": {\"18\": 66, \"26\": 3, \"50\": 1, \"54\": 1, \"8\": 1}, \"9\": {\"9\": 126}, \"3\": {\"3\": 88, \"45\": 12, \"51\": 1, \"42\": 1, \"13\": 11, \"57\": 3, \"7\": 2, \"55\": 6, \"44\": 4, \"54\": 1, \"25\": 2, \"29\": 4, \"20\": 2, \"40\": 1, \"56\": 1, \"1\": 1}, \"52\": {\"52\": 117, \"11\": 1, \"0\": 1, \"16\": 1, \"55\": 1, \"47\": 2, \"22\": 5, \"24\": 2, \"44\": 1, \"15\": 1}, \"25\": {\"25\": 132, \"9\": 2, \"8\": 2}, \"19\": {\"19\": 139, \"57\": 4, \"45\": 1, \"56\": 3, \"55\": 2, \"1\": 4, \"29\": 1, \"20\": 1, \"44\": 1}, \"11\": {\"11\": 101, \"15\": 14, \"22\": 10, \"10\": 4, \"24\": 4, \"36\": 1, \"21\": 1, \"27\": 1}, \"7\": {\"7\": 28}, \"23\": {\"23\": 133, \"21\": 1, \"15\": 2}, \"44\": {\"1\": 4, \"44\": 74, \"56\": 9, \"45\": 7, \"55\": 3, \"57\": 6, \"54\": 4, \"3\": 3, \"47\": 9, \"24\": 3, \"20\": 1, \"19\": 6, \"35\": 1, \"52\": 2}, \"42\": {\"42\": 39, \"45\": 1}, \"54\": {\"16\": 1, \"54\": 101, \"32\": 2}, \"1\": {\"1\": 75, \"56\": 8, \"57\": 10, \"55\": 1, \"19\": 3, \"45\": 1, \"35\": 1, \"0\": 1}, \"46\": {\"6\": 2, \"46\": 90, \"8\": 2, \"17\": 2, \"4\": 3, \"30\": 1, \"48\": 7, \"20\": 1, \"50\": 6, \"40\": 3, \"5\": 7, \"3\": 1, \"53\": 1, \"12\": 1, \"25\": 1}, \"6\": {\"6\": 72, \"46\": 4, \"17\": 6, \"8\": 6, \"48\": 1, \"25\": 3, \"50\": 2, \"5\": 1, \"2\": 1}, \"43\": {\"43\": 140, \"39\": 1, \"10\": 1, \"27\": 1, \"24\": 1}, \"51\": {\"51\": 130, \"20\": 6, \"13\": 1, \"53\": 4, \"55\": 1}, \"22\": {\"22\": 127, \"24\": 6, \"36\": 1, \"0\": 1, \"54\": 1}, \"0\": {\"0\": 124, \"54\": 3, \"22\": 1}}, \"W_4\": {\"32\": {\"32\": 16, \"83\": 1, \"11\": 1, \"14\": 1, \"129\": 1, \"13\": 1, \"69\": 1, \"71\": 1, \"104\": 1, \"108\": 2, \"84\": 1, \"40\": 1}, \"22\": {\"22\": 11, \"20\": 3, \"54\": 1, \"60\": 1}, \"69\": {\"69\": 92, \"122\": 1, \"13\": 1, \"6\": 1, \"14\": 2, \"84\": 7, \"113\": 1, \"118\": 4, \"109\": 1, \"43\": 1, \"94\": 1, \"44\": 1, \"105\": 2, \"126\": 2, \"102\": 2, \"16\": 1}, \"65\": {\"63\": 1, \"65\": 8, \"2\": 1, \"16\": 1, \"81\": 1}, \"91\": {\"53\": 1, \"3\": 2, \"91\": 11, \"30\": 1, \"77\": 1, \"70\": 2, \"42\": 1, \"85\": 1, \"79\": 1, \"59\": 1, \"111\": 1, \"37\": 1}, \"63\": {\"63\": 14, \"16\": 1, \"117\": 1}, \"127\": {\"63\": 1, \"127\": 73, \"101\": 9, \"36\": 1, \"12\": 4, \"1\": 1, \"71\": 1, \"0\": 2, \"111\": 4, \"34\": 2, \"55\": 1, \"16\": 1, \"106\": 1, \"86\": 1, \"4\": 2, \"3\": 2, \"18\": 1, \"7\": 1}, \"11\": {\"32\": 2, \"88\": 5, \"11\": 49, \"82\": 1, \"99\": 2, \"5\": 7, \"102\": 1, \"72\": 4, \"83\": 1, \"122\": 2, \"43\": 9, \"0\": 1, \"14\": 5, \"114\": 1, \"62\": 1, \"81\": 1, \"105\": 3, \"108\": 3, \"27\": 1, \"113\": 1, \"110\": 5, \"1\": 4, \"107\": 2, \"118\": 3, \"90\": 1, \"87\": 4, \"70\": 1, \"93\": 4, \"40\": 4, \"60\": 1, \"109\": 3, \"7\": 2, \"8\": 1, \"33\": 2, \"24\": 1}, \"12\": {\"12\": 56, \"111\": 6, \"8\": 2, \"15\": 5, \"95\": 1, \"78\": 1, \"101\": 2, \"109\": 1, \"36\": 2, \"127\": 3, \"106\": 4, \"4\": 1, \"126\": 1, \"88\": 1, \"10\": 1, \"114\": 1, \"86\": 1, \"9\": 1, \"27\": 1, \"7\": 2, \"108\": 1, \"26\": 2, \"0\": 4}, \"111\": {\"127\": 12, \"53\": 1, \"68\": 2, \"111\": 70, \"95\": 2, \"71\": 4, \"49\": 3, \"1\": 2, \"15\": 2, \"98\": 1, \"114\": 2, \"0\": 4, \"27\": 1, \"8\": 2, \"106\": 2, \"10\": 1, \"70\": 3, \"26\": 1, \"58\": 1, \"83\": 1, \"55\": 1, \"12\": 5, \"126\": 1, \"4\": 1, \"101\": 1, \"87\": 1, \"7\": 1}, \"53\": {\"53\": 11, \"91\": 1, \"121\": 1, \"85\": 2, \"30\": 1}, \"73\": {\"73\": 14, \"51\": 1, \"17\": 2, \"40\": 1, \"102\": 1, \"10\": 1, \"107\": 1, \"5\": 2, \"108\": 1}, \"3\": {\"3\": 83, \"90\": 2, \"83\": 1, \"41\": 1, \"82\": 1, \"49\": 4, \"121\": 1, \"71\": 9, \"5\": 4, \"0\": 1, \"111\": 2, \"88\": 2, \"105\": 2, \"1\": 3, \"110\": 1, \"4\": 3, \"11\": 1, \"114\": 4, \"95\": 1, \"128\": 1, \"70\": 3, \"29\": 1, \"39\": 1, \"127\": 1, \"93\": 1, \"33\": 2}, \"83\": {\"83\": 19, \"11\": 1, \"60\": 1, \"128\": 3, \"19\": 1, \"4\": 1, \"50\": 1, \"72\": 1}, \"88\": {\"88\": 52, \"3\": 1, \"8\": 9, \"70\": 6, \"110\": 2, \"97\": 1, \"11\": 1, \"23\": 1, \"60\": 1, \"4\": 2, \"7\": 3, \"43\": 2, \"12\": 3, \"5\": 2, \"122\": 2, \"98\": 3, \"1\": 3, \"10\": 5, \"109\": 5, \"113\": 4, \"114\": 5, \"87\": 4, \"126\": 1, \"96\": 1, \"108\": 2, \"72\": 1, \"27\": 2, \"128\": 1, \"49\": 1, \"101\": 1, \"93\": 3}, \"87\": {\"73\": 3, \"87\": 36, \"78\": 1, \"119\": 2, \"114\": 12, \"1\": 8, \"88\": 7, \"124\": 6, \"108\": 6, \"107\": 3, \"105\": 6, \"33\": 6, \"43\": 1, \"90\": 2, \"106\": 1, \"3\": 4, \"93\": 2, \"70\": 6, \"8\": 1, \"40\": 2, \"110\": 3, \"111\": 1, \"71\": 1, \"22\": 1, \"11\": 3, \"116\": 2, \"19\": 1, \"82\": 1, \"7\": 2, \"27\": 1, \"24\": 1}, \"2\": {\"16\": 3, \"122\": 1, \"2\": 12, \"14\": 2, \"51\": 1, \"18\": 1, \"81\": 1, \"26\": 2, \"99\": 2, \"11\": 2, \"105\": 1}, \"86\": {\"86\": 17, \"85\": 1, \"95\": 1, \"4\": 1, \"68\": 1, \"105\": 2, \"42\": 1, \"101\": 1, \"0\": 1, \"70\": 1, \"98\": 1}, \"16\": {\"65\": 2, \"88\": 1, \"16\": 63, \"64\": 1, \"63\": 2, \"117\": 10, \"127\": 1, \"21\": 1, \"18\": 6, \"26\": 7, \"109\": 5, \"126\": 1, \"70\": 1, \"113\": 4, \"108\": 1, \"69\": 5, \"84\": 4, \"118\": 1, \"2\": 1, \"102\": 2, \"39\": 3}, \"21\": {\"21\": 31, \"10\": 1, \"123\": 2, \"126\": 4, \"60\": 1, \"87\": 1}, \"96\": {\"96\": 9, \"92\": 1, \"78\": 2, \"102\": 2, \"121\": 1, \"8\": 1, \"44\": 2, \"16\": 2}, \"100\": {\"100\": 13, \"86\": 1, \"42\": 1, \"89\": 1, \"3\": 2, \"87\": 1, \"4\": 1}, \"7\": {\"3\": 3, \"7\": 74, \"98\": 4, \"70\": 6, \"128\": 2, \"15\": 1, \"108\": 1, \"72\": 1, \"0\": 8, \"27\": 3, \"8\": 1, \"24\": 1, \"101\": 4, \"23\": 1, \"4\": 1, \"97\": 1, \"49\": 1, \"111\": 2, \"71\": 1, \"11\": 1, \"10\": 1, \"114\": 1, \"16\": 1}, \"75\": {\"75\": 11, \"6\": 1, \"54\": 1, \"125\": 1, \"15\": 2}, \"10\": {\"7\": 1, \"10\": 32, \"29\": 3, \"54\": 2, \"110\": 1, \"27\": 6, \"12\": 4, \"34\": 3, \"15\": 5, \"71\": 1, \"94\": 3, \"88\": 2, \"30\": 3, \"39\": 1, \"0\": 1, \"72\": 1, \"108\": 2, \"14\": 1, \"24\": 14, \"106\": 1, \"98\": 5, \"36\": 8, \"85\": 2, \"59\": 2, \"97\": 1, \"52\": 1, \"41\": 1, \"43\": 1, \"51\": 1, \"70\": 6, \"126\": 1, \"111\": 1, \"6\": 1, \"8\": 3, \"117\": 1, \"87\": 1, \"125\": 1}, \"43\": {\"3\": 2, \"43\": 35, \"110\": 3, \"126\": 3, \"108\": 4, \"19\": 1, \"78\": 1, \"113\": 1, \"109\": 3, \"33\": 8, \"5\": 5, \"1\": 3, \"44\": 2, \"88\": 10, \"114\": 3, \"40\": 2, \"70\": 1, \"14\": 3, \"90\": 3, \"107\": 2, \"7\": 3, \"118\": 1, \"105\": 4, \"73\": 1, \"102\": 1, \"46\": 1, \"66\": 2, \"34\": 1, \"11\": 4, \"17\": 1, \"93\": 2, \"87\": 2, \"15\": 1, \"124\": 1}, \"92\": {\"92\": 10, \"96\": 1, \"122\": 1, \"128\": 1, \"48\": 2, \"31\": 1, \"13\": 2, \"45\": 2, \"115\": 1, \"126\": 1, \"121\": 1, \"81\": 2, \"67\": 1, \"118\": 1, \"117\": 1}, \"62\": {\"62\": 19, \"88\": 2, \"50\": 2, \"33\": 2, \"11\": 3, \"116\": 1, \"44\": 1, \"122\": 4, \"113\": 2, \"102\": 3, \"124\": 1, \"118\": 4, \"107\": 2, \"43\": 1, \"126\": 1, \"14\": 4, \"19\": 1, \"60\": 1, \"84\": 2, \"69\": 4}, \"31\": {\"31\": 9, \"118\": 1, \"84\": 1, \"122\": 1, \"28\": 2, \"16\": 1, \"104\": 1}, \"0\": {\"0\": 39, \"91\": 1, \"32\": 1, \"82\": 1, \"10\": 4, \"95\": 2, \"71\": 3, \"70\": 3, \"49\": 1, \"127\": 5, \"4\": 4, \"12\": 7, \"8\": 5, \"7\": 3, \"3\": 3, \"106\": 4, \"101\": 8, \"27\": 2, \"111\": 4, \"98\": 4, \"87\": 1, \"42\": 1, \"34\": 1, \"110\": 2, \"39\": 1, \"43\": 1, \"1\": 1, \"24\": 1, \"15\": 1}, \"45\": {\"118\": 1, \"45\": 9, \"50\": 1, \"104\": 2, \"28\": 2, \"113\": 1}, \"85\": {\"85\": 24, \"30\": 1, \"98\": 1, \"54\": 1, \"12\": 1}, \"119\": {\"119\": 16}, \"46\": {\"8\": 1, \"46\": 17, \"4\": 1, \"129\": 1}, \"71\": {\"46\": 1, \"71\": 56, \"114\": 9, \"3\": 15, \"4\": 3, \"129\": 2, \"49\": 1, \"95\": 2, \"105\": 2, \"0\": 2, \"127\": 2, \"87\": 2, \"43\": 1, \"12\": 1, \"18\": 1, \"36\": 1, \"111\": 1, \"1\": 1, \"113\": 1}, \"8\": {\"85\": 4, \"12\": 3, \"8\": 70, \"101\": 3, \"10\": 4, \"0\": 6, \"70\": 3, \"98\": 15, \"27\": 8, \"88\": 3, \"126\": 3, \"7\": 3, \"15\": 1, \"16\": 1, \"24\": 1, \"106\": 3, \"3\": 2, \"29\": 1}, \"118\": {\"31\": 1, \"38\": 1, \"78\": 1, \"102\": 6, \"118\": 34, \"40\": 2, \"122\": 3, \"107\": 4, \"43\": 2, \"111\": 1, \"62\": 3, \"0\": 1, \"7\": 2, \"90\": 1, \"108\": 3, \"69\": 13, \"113\": 4, \"11\": 3, \"110\": 3, \"88\": 2, \"5\": 1, \"33\": 2, \"39\": 1, \"84\": 2, \"14\": 5, \"127\": 1, \"115\": 2, \"28\": 1, \"32\": 1, \"36\": 1, \"106\": 1, \"124\": 1, \"16\": 1, \"117\": 1, \"70\": 1}, \"1\": {\"1\": 62, \"87\": 1, \"40\": 2, \"114\": 10, \"42\": 2, \"94\": 2, \"82\": 1, \"129\": 3, \"3\": 5, \"33\": 1, \"105\": 5, \"4\": 1, \"124\": 1, \"126\": 3, \"71\": 3, \"21\": 1, \"43\": 1, \"113\": 1, \"24\": 2, \"5\": 1}, \"38\": {\"38\": 15, \"80\": 1}, \"30\": {\"9\": 1, \"8\": 2, \"30\": 28, \"59\": 1, \"101\": 3, \"27\": 3, \"36\": 1, \"12\": 4, \"125\": 2, \"111\": 2, \"15\": 3, \"98\": 1, \"24\": 3, \"10\": 5, \"7\": 2, \"127\": 1, \"91\": 1, \"70\": 1, \"6\": 2, \"51\": 1, \"21\": 1, \"53\": 1, \"126\": 1, \"119\": 1, \"108\": 1, \"29\": 1, \"11\": 1, \"94\": 2}, \"66\": {\"66\": 8, \"88\": 1, \"19\": 3, \"20\": 2, \"22\": 1, \"90\": 1}, \"9\": {\"9\": 18, \"0\": 2, \"34\": 1, \"15\": 1, \"94\": 1, \"30\": 1, \"53\": 1, \"127\": 1, \"24\": 1, \"49\": 1}, \"5\": {\"5\": 81, \"46\": 2, \"68\": 1, \"122\": 2, \"3\": 9, \"108\": 2, \"33\": 1, \"100\": 1, \"1\": 4, \"114\": 4, \"44\": 3, \"43\": 4, \"105\": 1, \"93\": 4, \"11\": 4, \"14\": 1, \"49\": 2, \"83\": 1, \"72\": 1, \"17\": 1, \"110\": 1, \"52\": 1, \"71\": 1, \"70\": 1, \"27\": 1, \"87\": 1, \"40\": 1}, \"24\": {\"24\": 38, \"41\": 1, \"59\": 1, \"53\": 1, \"88\": 3, \"36\": 13, \"72\": 1, \"94\": 9, \"8\": 9, \"18\": 1, \"4\": 1, \"12\": 1, \"7\": 3, \"11\": 1, \"26\": 1, \"27\": 6, \"10\": 11, \"70\": 2, \"126\": 1, \"125\": 3, \"98\": 3, \"6\": 1, \"15\": 5, \"106\": 1, \"101\": 1, \"93\": 1, \"111\": 1}, \"97\": {\"88\": 1, \"24\": 2, \"125\": 1, \"47\": 1, \"97\": 8, \"70\": 1, \"94\": 1, \"25\": 2, \"27\": 1, \"56\": 1, \"111\": 1}, \"67\": {\"16\": 1, \"67\": 9, \"33\": 1, \"126\": 1, \"48\": 1, \"13\": 1, \"81\": 1, \"113\": 1}, \"19\": {\"10\": 1, \"71\": 1, \"19\": 9, \"32\": 1, \"0\": 2, \"70\": 1, \"8\": 2, \"82\": 1, \"93\": 1, \"83\": 2, \"5\": 2, \"111\": 1, \"43\": 1, \"95\": 1, \"44\": 1, \"127\": 1}, \"77\": {\"10\": 1, \"77\": 11}, \"26\": {\"16\": 4, \"26\": 80, \"102\": 1, \"96\": 1, \"117\": 8, \"18\": 14, \"126\": 3, \"113\": 2, \"108\": 1, \"43\": 1, \"2\": 1, \"39\": 1, \"122\": 1}, \"115\": {\"24\": 1, \"19\": 1, \"115\": 3, \"33\": 1, \"87\": 1, \"4\": 1, \"37\": 1, \"110\": 1, \"118\": 2, \"27\": 1, \"114\": 1, \"92\": 2}, \"50\": {\"50\": 8, \"5\": 1, \"14\": 4, \"71\": 2, \"33\": 1}, \"120\": {\"120\": 11, \"28\": 3, \"82\": 1, \"74\": 1, \"37\": 1, \"102\": 1, \"124\": 2}, \"102\": {\"102\": 67, \"118\": 2, \"17\": 1, \"84\": 11, \"45\": 3, \"99\": 1, \"40\": 4, \"109\": 4, \"69\": 14, \"33\": 4, \"72\": 1, \"110\": 1, \"11\": 2, \"39\": 1, \"127\": 1, \"117\": 1, \"16\": 1, \"107\": 1, \"44\": 1, \"115\": 1, \"122\": 4, \"14\": 1, \"88\": 1}, \"29\": {\"29\": 26, \"85\": 1, \"101\": 1, \"98\": 1, \"30\": 1, \"15\": 1, \"27\": 1}, \"44\": {\"44\": 39, \"122\": 3, \"0\": 1, \"78\": 1, \"3\": 1, \"93\": 4, \"43\": 2, \"110\": 1, \"14\": 1, \"73\": 1, \"83\": 1, \"33\": 2, \"105\": 4, \"99\": 1, \"11\": 1, \"5\": 1}, \"124\": {\"104\": 1, \"105\": 2, \"124\": 41, \"32\": 2, \"20\": 2, \"73\": 1, \"64\": 1, \"8\": 2, \"44\": 2, \"7\": 1, \"93\": 2, \"87\": 7, \"89\": 1, \"116\": 1, \"43\": 4, \"4\": 2, \"33\": 1, \"1\": 3, \"88\": 1, \"108\": 1, \"14\": 2, \"110\": 2, \"5\": 1, \"11\": 7, \"107\": 7, \"114\": 1, \"127\": 1, \"78\": 1, \"52\": 1, \"72\": 1, \"118\": 1, \"82\": 1, \"40\": 8, \"3\": 1, \"106\": 1, \"71\": 1, \"0\": 1, \"109\": 1, \"102\": 1}, \"78\": {\"78\": 15, \"118\": 1, \"21\": 2, \"113\": 1, \"99\": 1, \"93\": 2, \"88\": 3, \"121\": 1, \"62\": 1, \"111\": 1, \"26\": 1, \"4\": 1, \"65\": 1, \"43\": 2, \"38\": 1, \"8\": 1, \"90\": 1}, \"104\": {\"104\": 9, \"102\": 1, \"14\": 1, \"40\": 1, \"84\": 2, \"70\": 1, \"64\": 1}, \"105\": {\"107\": 5, \"105\": 39, \"1\": 11, \"95\": 1, \"40\": 6, \"33\": 3, \"121\": 1, \"110\": 1, \"27\": 1, \"3\": 2, \"71\": 2, \"114\": 9, \"43\": 2, \"122\": 1, \"78\": 1, \"82\": 1, \"87\": 4, \"4\": 2, \"11\": 3, \"5\": 1, \"36\": 1, \"88\": 1, \"101\": 1, \"18\": 1}, \"28\": {\"31\": 1, \"28\": 13, \"124\": 1, \"110\": 1, \"14\": 1, \"50\": 1, \"76\": 2}, \"37\": {\"37\": 13, \"124\": 1, \"32\": 1, \"19\": 1}, \"107\": {\"107\": 72, \"105\": 2, \"40\": 13, \"115\": 1, \"102\": 2, \"5\": 4, \"43\": 1, \"33\": 9, \"84\": 2, \"108\": 1, \"11\": 4, \"110\": 2, \"109\": 1, \"1\": 1, \"118\": 4, \"46\": 2, \"83\": 1, \"17\": 1, \"114\": 2, \"87\": 2, \"88\": 1, \"62\": 1, \"70\": 1, \"7\": 1, \"113\": 1}, \"6\": {\"29\": 2, \"75\": 2, \"10\": 1, \"6\": 14, \"36\": 1, \"30\": 1, \"24\": 1, \"94\": 1, \"111\": 1}, \"17\": {\"104\": 3, \"8\": 1, \"17\": 10, \"34\": 1, \"46\": 1, \"40\": 1, \"110\": 2, \"32\": 1}, \"57\": {\"57\": 12, \"28\": 1, \"120\": 1, \"14\": 1, \"110\": 1}, \"121\": {\"64\": 3, \"57\": 1, \"121\": 17, \"71\": 1, \"117\": 2, \"78\": 1, \"18\": 1, \"79\": 1, \"21\": 1, \"39\": 1, \"31\": 1, \"92\": 1, \"116\": 1}, \"58\": {\"58\": 11, \"111\": 1, \"15\": 1, \"94\": 2, \"98\": 1}, \"64\": {\"96\": 1, \"64\": 12, \"16\": 2, \"93\": 1}, \"82\": {\"82\": 17, \"70\": 1, \"40\": 1, \"89\": 1, \"87\": 1, \"50\": 2, \"106\": 2, \"105\": 1, \"114\": 1, \"1\": 2, \"129\": 1, \"111\": 1, \"32\": 1}, \"39\": {\"18\": 6, \"23\": 1, \"39\": 46, \"57\": 2, \"38\": 1, \"117\": 5, \"62\": 2, \"113\": 4, \"2\": 1, \"126\": 7, \"43\": 1, \"84\": 1, \"122\": 2, \"16\": 5, \"26\": 3, \"88\": 3, \"109\": 2, \"118\": 1, \"63\": 2, \"121\": 1, \"0\": 2, \"78\": 1, \"7\": 1}, \"110\": {\"99\": 2, \"110\": 28, \"17\": 1, \"34\": 1, \"129\": 1, \"26\": 1, \"19\": 1, \"60\": 1, \"88\": 11, \"93\": 5, \"33\": 13, \"108\": 8, \"0\": 4, \"109\": 1, \"27\": 1, \"43\": 7, \"90\": 3, \"16\": 1, \"107\": 6, \"7\": 1, \"102\": 1, \"39\": 1, \"5\": 3, \"118\": 2, \"87\": 2, \"21\": 1, \"70\": 2, \"9\": 2, \"73\": 1, \"105\": 2, \"11\": 2, \"82\": 1, \"24\": 1, \"40\": 1, \"126\": 1, \"1\": 1, \"124\": 1, \"71\": 1, \"3\": 1}, \"114\": {\"114\": 79, \"4\": 3, \"82\": 2, \"1\": 7, \"71\": 7, \"88\": 2, \"8\": 2, \"87\": 5, \"93\": 2, \"5\": 1, \"118\": 1, \"43\": 1, \"40\": 2, \"11\": 1, \"103\": 1, \"105\": 1, \"24\": 1, \"39\": 1, \"129\": 2, \"107\": 1, \"3\": 3, \"110\": 1, \"124\": 2}, \"20\": {\"20\": 12, \"114\": 1, \"74\": 1, \"111\": 1, \"3\": 1}, \"117\": {\"18\": 12, \"23\": 1, \"63\": 1, \"117\": 58, \"26\": 7, \"39\": 3, \"113\": 5, \"105\": 1, \"2\": 1, \"81\": 3, \"122\": 1, \"109\": 1, \"16\": 7, \"69\": 2, \"84\": 3, \"118\": 2, \"126\": 2, \"35\": 1, \"62\": 2, \"108\": 1}, \"18\": {\"18\": 92, \"26\": 8, \"117\": 9, \"39\": 1, \"16\": 6, \"81\": 1, \"126\": 2, \"92\": 1}, \"99\": {\"99\": 32, \"60\": 1, \"108\": 3, \"43\": 1, \"110\": 1, \"120\": 1, \"11\": 1}, \"23\": {\"117\": 1, \"32\": 1, \"91\": 3, \"123\": 1, \"56\": 1, \"122\": 1, \"39\": 2, \"23\": 1, \"129\": 1, \"48\": 1, \"21\": 1, \"7\": 1, \"70\": 1}, \"128\": {\"128\": 8, \"0\": 1, \"93\": 1, \"29\": 1, \"49\": 1, \"7\": 1, \"88\": 1, \"27\": 3, \"4\": 1, \"70\": 1, \"38\": 1, \"100\": 1, \"1\": 1, \"120\": 1, \"11\": 1}, \"60\": {\"128\": 1, \"66\": 1, \"60\": 13, \"38\": 1, \"88\": 1, \"89\": 3, \"19\": 1, \"8\": 1, \"22\": 1, \"11\": 3, \"108\": 1, \"87\": 1, \"99\": 1, \"82\": 1, \"72\": 1, \"111\": 1}, \"70\": {\"8\": 4, \"70\": 34, \"125\": 1, \"5\": 2, \"26\": 1, \"88\": 8, \"99\": 1, \"55\": 1, \"4\": 4, \"95\": 2, \"78\": 2, \"3\": 2, \"24\": 1, \"109\": 3, \"71\": 3, \"98\": 3, \"1\": 3, \"0\": 4, \"14\": 1, \"111\": 2, \"114\": 7, \"10\": 2, \"106\": 4, \"118\": 1, \"27\": 3, \"108\": 1, \"110\": 2, \"101\": 1, \"87\": 1, \"113\": 2, \"43\": 1, \"49\": 3, \"93\": 2, \"56\": 1, \"127\": 1, \"38\": 2, \"15\": 1, \"60\": 1, \"12\": 1, \"126\": 1}, \"122\": {\"122\": 19, \"88\": 5, \"40\": 3, \"110\": 2, \"43\": 3, \"99\": 1, \"60\": 1, \"0\": 1, \"105\": 2, \"33\": 5, \"107\": 2, \"78\": 1, \"108\": 3, \"90\": 1, \"84\": 4, \"102\": 6, \"109\": 1, \"72\": 2, \"106\": 1, \"126\": 2, \"14\": 8, \"11\": 2, \"44\": 4, \"121\": 1, \"69\": 2, \"118\": 2}, \"101\": {\"101\": 64, \"128\": 2, \"70\": 5, \"53\": 1, \"91\": 1, \"129\": 1, \"78\": 1, \"41\": 1, \"82\": 1, \"85\": 1, \"111\": 6, \"1\": 1, \"7\": 5, \"36\": 1, \"0\": 6, \"15\": 2, \"127\": 6, \"98\": 4, \"10\": 6, \"113\": 1, \"106\": 1, \"86\": 2, \"12\": 5, \"8\": 2, \"4\": 1, \"30\": 1, \"39\": 1, \"93\": 1, \"3\": 1, \"27\": 1}, \"33\": {\"33\": 103, \"128\": 1, \"92\": 1, \"40\": 8, \"14\": 1, \"107\": 6, \"110\": 5, \"43\": 2, \"105\": 1, \"84\": 2, \"44\": 1, \"90\": 1}, \"40\": {\"40\": 74, \"33\": 9, \"17\": 1, \"11\": 3, \"43\": 5, \"39\": 1, \"105\": 2, \"1\": 3, \"110\": 1, \"107\": 20, \"126\": 1, \"32\": 1, \"16\": 1, \"113\": 2, \"88\": 1, \"14\": 2, \"87\": 3}, \"41\": {\"24\": 1, \"30\": 1, \"106\": 4, \"36\": 1, \"52\": 1, \"41\": 6, \"98\": 1, \"21\": 1}, \"59\": {\"59\": 10, \"125\": 1, \"41\": 1}, \"4\": {\"4\": 36, \"55\": 2, \"97\": 1, \"39\": 4, \"95\": 1, \"85\": 1, \"11\": 1, \"71\": 7, \"27\": 3, \"114\": 5, \"124\": 1, \"101\": 1, \"12\": 1, \"5\": 3, \"105\": 2, \"1\": 9, \"8\": 6, \"72\": 1, \"127\": 4, \"62\": 1, \"70\": 4, \"108\": 1, \"86\": 1, \"106\": 1, \"56\": 1, \"111\": 2, \"26\": 1, \"3\": 1, \"109\": 1, \"88\": 1}, \"112\": {\"24\": 1, \"41\": 1, \"112\": 7, \"98\": 1, \"106\": 3, \"53\": 1, \"123\": 1, \"85\": 1}, \"36\": {\"30\": 3, \"41\": 1, \"36\": 69, \"106\": 5, \"94\": 5, \"98\": 1, \"49\": 1, \"125\": 10, \"18\": 1, \"4\": 1, \"15\": 4, \"24\": 11, \"8\": 2, \"27\": 3, \"39\": 1, \"10\": 4, \"111\": 1, \"55\": 1, \"51\": 1, \"29\": 1, \"9\": 1, \"71\": 1}, \"48\": {\"48\": 10, \"67\": 1, \"117\": 1, \"96\": 1, \"28\": 1, \"63\": 1, \"108\": 1}, \"126\": {\"126\": 70, \"48\": 1, \"67\": 1, \"113\": 14, \"81\": 1, \"2\": 1, \"39\": 5, \"62\": 1, \"26\": 3, \"106\": 1, \"127\": 2, \"117\": 2, \"18\": 3, \"16\": 3, \"108\": 1, \"109\": 1, \"8\": 1, \"84\": 3, \"122\": 1, \"93\": 1}, \"125\": {\"125\": 75, \"10\": 6, \"75\": 1, \"15\": 8, \"47\": 1, \"98\": 1, \"34\": 1, \"30\": 2, \"36\": 7, \"94\": 8, \"111\": 1, \"24\": 2, \"113\": 1, \"58\": 1, \"51\": 1, \"9\": 2, \"71\": 2, \"18\": 1, \"88\": 1}, \"84\": {\"102\": 12, \"116\": 2, \"84\": 57, \"121\": 1, \"122\": 3, \"107\": 6, \"72\": 1, \"14\": 5, \"39\": 1, \"118\": 7, \"108\": 1, \"113\": 5, \"33\": 6, \"69\": 10, \"126\": 2, \"104\": 2, \"62\": 1, \"10\": 1, \"40\": 1, \"11\": 2, \"18\": 1, \"88\": 1}, \"80\": {\"80\": 15, \"4\": 1}, \"49\": {\"49\": 16, \"12\": 1, \"79\": 1, \"34\": 1, \"127\": 1, \"83\": 1, \"27\": 1, \"3\": 1, \"7\": 1, \"87\": 1, \"5\": 1, \"29\": 1, \"8\": 1, \"71\": 2, \"86\": 1, \"60\": 1}, \"47\": {\"125\": 1, \"47\": 9, \"6\": 2}, \"95\": {\"95\": 14, \"110\": 1, \"4\": 1, \"103\": 2, \"27\": 1, \"49\": 4, \"101\": 1, \"46\": 1, \"87\": 1, \"71\": 1, \"127\": 1, \"114\": 2, \"0\": 1, \"3\": 1}, \"54\": {\"54\": 15, \"6\": 1}, \"25\": {\"125\": 1, \"25\": 15}, \"116\": {\"116\": 12, \"69\": 2, \"107\": 1, \"14\": 1, \"33\": 2, \"126\": 1, \"72\": 1, \"79\": 1, \"104\": 1, \"88\": 1, \"44\": 1, \"37\": 1, \"122\": 1, \"93\": 1, \"40\": 1}, \"74\": {\"74\": 11, \"50\": 2, \"60\": 1, \"116\": 1, \"124\": 1}, \"35\": {\"102\": 1, \"35\": 6, \"16\": 1, \"78\": 2, \"117\": 2}, \"15\": {\"70\": 1, \"15\": 62, \"9\": 4, \"94\": 4, \"12\": 6, \"29\": 2, \"10\": 8, \"8\": 5, \"0\": 4, \"30\": 3, \"106\": 2, \"27\": 1, \"90\": 2, \"7\": 3, \"98\": 3, \"101\": 1, \"111\": 5, \"53\": 1, \"91\": 1, \"58\": 1, \"19\": 1, \"125\": 2, \"24\": 2, \"68\": 1, \"39\": 1, \"36\": 1, \"127\": 1}, \"108\": {\"108\": 31, \"50\": 2, \"43\": 2, \"32\": 1, \"88\": 5, \"44\": 1, \"109\": 2, \"40\": 1, \"39\": 1, \"78\": 3, \"0\": 1, \"94\": 1, \"1\": 1, \"90\": 3, \"124\": 1, \"24\": 2, \"18\": 1, \"11\": 7, \"70\": 5, \"14\": 2, \"30\": 1, \"83\": 1, \"110\": 2, \"21\": 1, \"37\": 1, \"126\": 1, \"60\": 1, \"19\": 1, \"121\": 1, \"73\": 1, \"99\": 1, \"87\": 1, \"122\": 2, \"27\": 1, \"5\": 1, \"93\": 1, \"117\": 1}, \"34\": {\"15\": 2, \"3\": 2, \"10\": 1, \"25\": 1, \"55\": 1, \"34\": 2, \"66\": 1, \"83\": 1, \"36\": 2, \"1\": 2, \"79\": 1, \"72\": 1, \"89\": 1, \"114\": 1, \"103\": 1, \"95\": 1, \"52\": 2, \"124\": 1, \"33\": 1, \"42\": 1, \"94\": 1, \"71\": 1, \"43\": 1, \"107\": 1, \"24\": 2}, \"81\": {\"81\": 18, \"18\": 4, \"114\": 1, \"2\": 3, \"117\": 2, \"127\": 1, \"113\": 1, \"16\": 1, \"63\": 1, \"57\": 1, \"13\": 1, \"99\": 1, \"62\": 1}, \"93\": {\"3\": 2, \"93\": 46, \"115\": 1, \"119\": 1, \"7\": 1, \"29\": 1, \"19\": 1, \"40\": 2, \"44\": 3, \"88\": 4, \"33\": 8, \"5\": 14, \"87\": 4, \"114\": 2, \"108\": 5, \"27\": 1, \"110\": 7, \"24\": 1, \"43\": 6, \"111\": 2, \"113\": 1, \"42\": 2, \"105\": 1, \"78\": 1, \"129\": 2, \"70\": 2, \"1\": 1, \"73\": 2, \"116\": 1, \"11\": 3}, \"55\": {\"97\": 2, \"4\": 1, \"42\": 1, \"112\": 1, \"55\": 8, \"129\": 1, \"127\": 2}, \"27\": {\"97\": 2, \"27\": 41, \"10\": 2, \"106\": 5, \"98\": 10, \"119\": 2, \"8\": 12, \"12\": 2, \"70\": 1, \"39\": 1, \"4\": 2, \"3\": 1, \"24\": 4, \"0\": 5, \"111\": 2, \"53\": 1, \"83\": 1, \"128\": 1, \"36\": 1, \"43\": 1, \"7\": 2, \"93\": 1}, \"109\": {\"11\": 5, \"109\": 27, \"90\": 2, \"39\": 4, \"70\": 1, \"69\": 13, \"40\": 3, \"116\": 4, \"43\": 4, \"62\": 2, \"126\": 2, \"44\": 1, \"118\": 3, \"113\": 5, \"102\": 6, \"110\": 2, \"16\": 3, \"33\": 1, \"107\": 3, \"0\": 1, \"14\": 4, \"84\": 8, \"117\": 1, \"88\": 1, \"32\": 1, \"108\": 2, \"93\": 1}, \"106\": {\"55\": 3, \"106\": 55, \"0\": 4, \"112\": 1, \"85\": 1, \"70\": 1, \"12\": 9, \"27\": 4, \"4\": 3, \"8\": 2, \"7\": 2, \"87\": 1, \"101\": 2, \"16\": 1, \"113\": 1, \"10\": 3, \"88\": 2, \"1\": 1, \"111\": 3, \"41\": 1, \"29\": 2, \"36\": 2, \"95\": 1, \"26\": 1, \"127\": 1, \"42\": 1, \"126\": 3, \"3\": 1, \"15\": 2, \"105\": 1, \"24\": 1}, \"68\": {\"77\": 1, \"68\": 5, \"53\": 2, \"111\": 1, \"29\": 1, \"55\": 1, \"58\": 1, \"127\": 1, \"121\": 1, \"87\": 1, \"86\": 1}, \"76\": {\"18\": 1, \"76\": 9, \"22\": 1, \"23\": 1, \"28\": 2, \"78\": 1, \"122\": 1}, \"103\": {\"17\": 2, \"103\": 8, \"121\": 1, \"95\": 1, \"40\": 1, \"127\": 1, \"1\": 2}, \"42\": {\"42\": 14, \"73\": 2, \"100\": 3, \"3\": 2, \"12\": 2, \"19\": 1, \"103\": 1, \"119\": 1, \"1\": 1, \"71\": 1}, \"129\": {\"82\": 1, \"129\": 7, \"114\": 3, \"73\": 2, \"33\": 2, \"50\": 1, \"87\": 3, \"3\": 1, \"19\": 1, \"105\": 1, \"122\": 1, \"14\": 1, \"93\": 1, \"40\": 1, \"4\": 2}, \"94\": {\"94\": 49, \"24\": 4, \"29\": 1, \"39\": 2, \"4\": 1, \"36\": 8, \"6\": 1, \"125\": 5, \"10\": 3, \"15\": 6, \"3\": 1, \"58\": 2, \"21\": 1, \"126\": 1, \"11\": 1, \"109\": 1, \"113\": 1}, \"123\": {\"123\": 13, \"18\": 1, \"21\": 1, \"13\": 1}, \"61\": {\"61\": 6, \"123\": 3, \"92\": 1, \"117\": 1, \"18\": 1, \"39\": 1, \"126\": 1, \"57\": 2}, \"51\": {\"39\": 1, \"51\": 2, \"25\": 1, \"90\": 1, \"121\": 1, \"11\": 2, \"36\": 2, \"21\": 2, \"9\": 1, \"6\": 1, \"106\": 2}, \"98\": {\"4\": 1, \"98\": 76, \"86\": 3, \"69\": 1, \"27\": 4, \"70\": 3, \"0\": 1, \"127\": 1, \"15\": 3, \"111\": 4, \"101\": 3, \"114\": 1, \"18\": 1, \"11\": 1, \"7\": 4, \"8\": 2, \"125\": 3, \"42\": 1, \"39\": 2, \"90\": 1, \"10\": 1, \"88\": 1}, \"56\": {\"42\": 1, \"73\": 1, \"40\": 1, \"3\": 1, \"56\": 4, \"1\": 1, \"110\": 1, \"22\": 2}, \"14\": {\"32\": 2, \"14\": 50, \"118\": 10, \"84\": 5, \"122\": 6, \"33\": 3, \"11\": 6, \"102\": 5, \"62\": 2, \"124\": 1, \"16\": 1, \"43\": 1, \"107\": 5, \"23\": 1, \"70\": 1, \"93\": 1, \"60\": 1, \"110\": 1, \"105\": 1, \"40\": 2, \"69\": 5, \"27\": 1, \"39\": 1}, \"90\": {\"90\": 126, \"83\": 1, \"43\": 3, \"3\": 1, \"93\": 3, \"18\": 1, \"111\": 1, \"66\": 1, \"101\": 1}, \"13\": {\"13\": 8, \"109\": 1, \"69\": 1, \"32\": 1, \"14\": 2, \"16\": 2, \"99\": 1}, \"89\": {\"89\": 22, \"95\": 1, \"87\": 3, \"71\": 1, \"94\": 1, \"3\": 1, \"10\": 2, \"60\": 1}, \"52\": {\"52\": 15, \"99\": 1, \"10\": 2, \"34\": 1, \"127\": 1}, \"72\": {\"72\": 24, \"11\": 1, \"80\": 1, \"109\": 1, \"44\": 1, \"108\": 1, \"27\": 2, \"32\": 1}, \"79\": {\"79\": 12, \"46\": 3, \"14\": 1}, \"113\": {\"113\": 51, \"117\": 5, \"116\": 1, \"84\": 14, \"26\": 1, \"51\": 1, \"62\": 1, \"14\": 1, \"3\": 2, \"109\": 5, \"18\": 1, \"102\": 5, \"118\": 3, \"24\": 1, \"126\": 16, \"88\": 2, \"16\": 3, \"69\": 2, \"39\": 5, \"2\": 1, \"87\": 1, \"122\": 1, \"36\": 1, \"110\": 2}}, \"C_4\": {\"32\": {\"46\": 2, \"32\": 22}, \"2\": {\"2\": 33, \"1\": 1, \"15\": 1, \"24\": 1}, \"41\": {\"41\": 36}, \"11\": {\"11\": 71, \"57\": 1, \"52\": 3, \"15\": 19, \"35\": 1, \"24\": 4, \"0\": 1, \"29\": 1, \"46\": 1}, \"57\": {\"57\": 95, \"1\": 1, \"29\": 3, \"56\": 1}, \"6\": {\"6\": 72, \"3\": 15, \"42\": 1, \"55\": 4, \"48\": 3, \"27\": 1, \"36\": 5, \"54\": 3, \"17\": 1, \"25\": 1, \"39\": 1, \"9\": 1, \"16\": 1, \"50\": 1, \"46\": 2}, \"23\": {\"23\": 124, \"52\": 1, \"18\": 6, \"5\": 2, \"46\": 2, \"0\": 1}, \"52\": {\"52\": 104, \"23\": 8, \"41\": 1, \"32\": 1, \"18\": 2}, \"38\": {\"38\": 39, \"22\": 1}, \"50\": {\"50\": 77, \"51\": 6, \"4\": 2, \"27\": 9, \"53\": 8, \"9\": 6, \"28\": 1, \"26\": 2, \"17\": 1, \"8\": 3, \"19\": 3, \"6\": 2, \"54\": 1, \"25\": 4, \"20\": 3, \"3\": 4}, \"55\": {\"55\": 108, \"4\": 5, \"28\": 1, \"48\": 7, \"36\": 1, \"5\": 5, \"17\": 5, \"6\": 4, \"3\": 4, \"29\": 2, \"54\": 5, \"39\": 1, \"47\": 1, \"50\": 1, \"21\": 1, \"27\": 1}, \"46\": {\"49\": 3, \"1\": 2, \"52\": 2, \"42\": 1, \"46\": 85, \"47\": 9, \"15\": 2, \"5\": 14, \"24\": 1, \"41\": 2, \"23\": 5, \"0\": 9, \"36\": 1, \"48\": 1, \"11\": 3, \"54\": 5, \"6\": 1, \"22\": 3, \"32\": 1, \"18\": 1, \"3\": 1, \"43\": 1, \"55\": 1}, \"37\": {\"37\": 22, \"53\": 1, \"39\": 1}, \"20\": {\"50\": 3, \"20\": 103, \"53\": 2, \"6\": 1, \"21\": 6, \"25\": 1, \"36\": 1, \"55\": 1}, \"49\": {\"49\": 19, \"1\": 1}, \"45\": {\"45\": 80, \"12\": 5, \"4\": 2, \"50\": 2, \"17\": 1, \"9\": 3, \"30\": 1, \"51\": 1, \"27\": 1}, \"54\": {\"54\": 105, \"36\": 2, \"6\": 1}, \"3\": {\"3\": 97, \"34\": 1, \"39\": 1, \"6\": 14, \"50\": 2, \"55\": 4, \"54\": 2, \"21\": 1, \"36\": 2}, \"13\": {\"13\": 147, \"22\": 1, \"56\": 2, \"46\": 1, \"10\": 1}, \"18\": {\"23\": 9, \"18\": 94, \"47\": 3, \"25\": 1, \"46\": 1}, \"21\": {\"21\": 120, \"25\": 2, \"45\": 1, \"50\": 2, \"53\": 1}, \"43\": {\"43\": 140, \"11\": 2, \"24\": 2}, \"47\": {\"47\": 97, \"42\": 2, \"1\": 2, \"5\": 9, \"18\": 1, \"55\": 1, \"57\": 1, \"23\": 1, \"7\": 1, \"46\": 4, \"54\": 1}, \"4\": {\"4\": 120, \"51\": 3, \"20\": 1, \"17\": 4, \"53\": 1, \"36\": 1, \"19\": 1, \"25\": 1}, \"12\": {\"12\": 92}, \"9\": {\"9\": 115, \"17\": 1, \"40\": 1, \"4\": 1, \"53\": 2, \"27\": 1, \"51\": 1, \"19\": 1, \"50\": 4, \"36\": 1}, \"7\": {\"7\": 22, \"49\": 1, \"1\": 1}, \"56\": {\"56\": 98, \"1\": 1, \"24\": 1, \"35\": 3, \"29\": 3, \"22\": 2, \"46\": 1, \"13\": 1, \"10\": 1, \"47\": 1}, \"28\": {\"28\": 30, \"48\": 1, \"55\": 1}, \"44\": {\"44\": 100, \"4\": 10, \"40\": 9, \"19\": 8, \"9\": 1, \"29\": 1, \"54\": 1, \"53\": 2}, \"24\": {\"24\": 50, \"43\": 2, \"16\": 2, \"10\": 1, \"6\": 1}, \"33\": {\"33\": 30, \"19\": 4, \"40\": 1, \"44\": 1}, \"35\": {\"47\": 1, \"35\": 37, \"29\": 1, \"55\": 1}, \"51\": {\"51\": 110, \"53\": 21, \"27\": 1, \"54\": 1, \"21\": 1, \"25\": 1, \"20\": 2, \"50\": 1}, \"39\": {\"39\": 19, \"23\": 1}, \"36\": {\"36\": 87, \"53\": 1, \"44\": 1, \"27\": 1, \"6\": 2}, \"19\": {\"19\": 113, \"55\": 4, \"44\": 5, \"40\": 12, \"4\": 2, \"34\": 1, \"6\": 1, \"48\": 1, \"53\": 1}, \"0\": {\"15\": 1, \"0\": 59, \"49\": 1, \"46\": 4, \"24\": 1, \"5\": 7, \"36\": 1, \"54\": 2, \"2\": 1, \"22\": 2, \"1\": 1}, \"15\": {\"15\": 127, \"52\": 1, \"43\": 1, \"16\": 3, \"11\": 2, \"5\": 1, \"46\": 1}, \"29\": {\"29\": 110, \"1\": 1, \"33\": 1, \"35\": 1, \"55\": 1, \"17\": 2, \"19\": 2, \"3\": 1, \"57\": 2, \"56\": 1, \"6\": 2}, \"30\": {\"30\": 39, \"8\": 4, \"25\": 1}, \"1\": {\"1\": 38, \"7\": 2}, \"22\": {\"46\": 2, \"22\": 110, \"38\": 2, \"13\": 2, \"0\": 1, \"10\": 5, \"5\": 2, \"56\": 1, \"14\": 1, \"43\": 2}, \"40\": {\"28\": 1, \"40\": 91, \"51\": 2, \"19\": 30, \"4\": 7, \"44\": 7, \"9\": 2, \"33\": 4, \"53\": 2}, \"8\": {\"8\": 120, \"30\": 2, \"20\": 4, \"50\": 2}, \"53\": {\"53\": 100, \"39\": 1, \"3\": 2, \"51\": 24, \"21\": 1, \"54\": 7, \"25\": 1, \"6\": 1, \"20\": 1}, \"34\": {\"34\": 23, \"55\": 1}, \"10\": {\"10\": 118, \"57\": 1, \"24\": 1, \"13\": 1, \"22\": 1}, \"31\": {\"31\": 28}, \"17\": {\"17\": 75, \"48\": 1, \"27\": 2, \"4\": 1, \"50\": 1}, \"16\": {\"16\": 83, \"43\": 1, \"0\": 2, \"52\": 2, \"11\": 3, \"46\": 1, \"15\": 4}, \"42\": {\"42\": 32}, \"27\": {\"27\": 131, \"50\": 4, \"17\": 2, \"53\": 1, \"25\": 2, \"6\": 1, \"4\": 1}, \"14\": {\"22\": 1, \"39\": 2, \"5\": 1, \"29\": 1, \"16\": 1, \"40\": 1, \"11\": 1, \"43\": 2, \"33\": 1, \"14\": 4, \"35\": 1}, \"25\": {\"25\": 115, \"8\": 1, \"3\": 1, \"50\": 2, \"20\": 2, \"27\": 1}, \"48\": {\"48\": 114, \"36\": 1, \"5\": 1, \"6\": 2, \"3\": 3, \"54\": 3, \"55\": 7, \"47\": 1}, \"26\": {\"3\": 2, \"26\": 20, \"28\": 1, \"50\": 1}, \"5\": {\"5\": 88, \"46\": 4, \"47\": 9, \"54\": 1, \"36\": 1, \"39\": 1, \"3\": 2, \"32\": 1, \"23\": 1}}, \"W_1\": {\"68\": {\"101\": 1, \"111\": 1, \"68\": 9, \"5\": 1, \"86\": 1, \"91\": 1, \"31\": 2}, \"7\": {\"7\": 124, \"104\": 2, \"87\": 2, \"90\": 2, \"108\": 3, \"43\": 2, \"1\": 1, \"126\": 4, \"93\": 2}, \"125\": {\"125\": 88, \"36\": 5, \"6\": 1, \"15\": 3, \"12\": 2, \"88\": 5, \"71\": 6, \"30\": 2, \"98\": 1, \"92\": 1, \"94\": 3, \"27\": 1}, \"111\": {\"111\": 67, \"108\": 5, \"68\": 1, \"106\": 2, \"32\": 1, \"127\": 13, \"58\": 1, \"109\": 1, \"101\": 8, \"71\": 1, \"88\": 3, \"126\": 2, \"21\": 1, \"107\": 1, \"0\": 2, \"110\": 1, \"7\": 2, \"98\": 2, \"24\": 2, \"12\": 3, \"93\": 1}, \"101\": {\"101\": 112, \"12\": 1, \"108\": 1, \"88\": 1, \"106\": 4, \"32\": 2, \"113\": 1, \"72\": 1, \"107\": 1}, \"11\": {\"60\": 2, \"11\": 58, \"69\": 3, \"109\": 3, \"70\": 2, \"87\": 1, \"102\": 6, \"14\": 11, \"82\": 3, \"39\": 4, \"84\": 2, \"3\": 1, \"124\": 4, \"44\": 1, \"122\": 11, \"8\": 3, \"33\": 3, \"62\": 1, \"126\": 2, \"43\": 1, \"105\": 2, \"81\": 1, \"80\": 2, \"50\": 2, \"28\": 1, \"78\": 1, \"2\": 1, \"18\": 1, \"93\": 1, \"90\": 1, \"1\": 1}, \"76\": {\"76\": 12, \"109\": 2, \"90\": 2}, \"5\": {\"5\": 61, \"108\": 3, \"17\": 1, \"107\": 4, \"90\": 1, \"55\": 2, \"9\": 1, \"93\": 2, \"114\": 4, \"1\": 2, \"84\": 2, \"47\": 1, \"34\": 1, \"4\": 1, \"18\": 1, \"40\": 1}, \"123\": {\"123\": 11, \"21\": 1, \"25\": 1, \"119\": 1, \"95\": 1, \"19\": 1}, \"85\": {\"85\": 27, \"52\": 1, \"106\": 1, \"49\": 1, \"10\": 2}, \"34\": {\"68\": 2, \"34\": 9, \"41\": 1, \"22\": 1, \"87\": 1, \"128\": 2, \"85\": 3, \"75\": 2, \"17\": 1, \"6\": 1, \"29\": 1, \"71\": 2, \"31\": 1, \"116\": 1, \"0\": 1, \"92\": 1, \"89\": 2}, \"42\": {\"34\": 1, \"42\": 19, \"22\": 2, \"105\": 1, \"116\": 1, \"5\": 1, \"124\": 1, \"99\": 1, \"84\": 1}, \"81\": {\"11\": 2, \"81\": 22, \"82\": 1, \"8\": 1, \"14\": 1, \"78\": 1}, \"127\": {\"34\": 1, \"68\": 1, \"127\": 90, \"111\": 6, \"107\": 1, \"98\": 1, \"125\": 1, \"36\": 1, \"12\": 1, \"30\": 1, \"72\": 1, \"88\": 1, \"110\": 1, \"106\": 1}, \"60\": {\"34\": 1, \"42\": 2, \"60\": 6, \"100\": 1, \"83\": 1, \"86\": 1, \"120\": 1, \"89\": 1, \"3\": 1, \"32\": 1}, \"77\": {\"77\": 14, \"5\": 1, \"79\": 1}, \"65\": {\"100\": 1, \"83\": 1, \"65\": 4, \"19\": 1, \"45\": 2, \"116\": 1, \"23\": 1, \"4\": 1}, \"44\": {\"44\": 67, \"21\": 1, \"10\": 2, \"70\": 3, \"108\": 1, \"52\": 1, \"7\": 1}, \"100\": {\"21\": 1, \"100\": 11, \"60\": 1, \"67\": 1, \"124\": 2}, \"80\": {\"21\": 1, \"80\": 12, \"83\": 1, \"116\": 1, \"11\": 1}, \"83\": {\"83\": 13, \"96\": 1, \"65\": 1, \"54\": 2, \"46\": 1, \"99\": 1, \"18\": 1, \"88\": 1, \"79\": 1, \"82\": 1, \"114\": 1, \"69\": 1, \"129\": 2, \"70\": 1}, \"51\": {\"51\": 15, \"37\": 1}, \"93\": {\"44\": 4, \"126\": 7, \"93\": 30, \"103\": 1, \"72\": 3, \"5\": 10, \"86\": 2, \"70\": 8, \"110\": 9, \"107\": 7, \"7\": 4, \"84\": 3, \"10\": 4, \"8\": 2, \"4\": 5, \"0\": 1, \"87\": 2, \"105\": 2, \"114\": 1, \"117\": 1, \"106\": 6, \"98\": 1, \"43\": 5, \"55\": 2, \"21\": 3, \"104\": 2, \"85\": 1, \"35\": 1, \"109\": 2, \"40\": 1, \"90\": 1, \"111\": 1, \"108\": 2}, \"31\": {\"31\": 13, \"41\": 1, \"35\": 1, \"98\": 1}, \"33\": {\"33\": 110, \"100\": 1, \"82\": 5, \"69\": 1, \"70\": 1, \"14\": 2, \"11\": 3, \"93\": 1, \"102\": 1, \"114\": 1}, \"113\": {\"113\": 80, \"123\": 1, \"13\": 1, \"95\": 1, \"26\": 11, \"118\": 8, \"16\": 10, \"69\": 1, \"117\": 7, \"2\": 1, \"43\": 2, \"39\": 1}, \"126\": {\"31\": 1, \"10\": 3, \"72\": 2, \"126\": 55, \"86\": 4, \"70\": 7, \"2\": 1, \"44\": 4, \"8\": 4, \"93\": 4, \"21\": 1, \"5\": 1, \"24\": 1, \"107\": 1, \"109\": 3, \"108\": 8, \"87\": 1, \"90\": 2, \"1\": 4, \"3\": 1, \"98\": 1, \"101\": 8, \"43\": 1, \"7\": 3, \"32\": 1, \"26\": 1, \"110\": 1}, \"10\": {\"10\": 57, \"85\": 3, \"98\": 3, \"44\": 3, \"108\": 7, \"111\": 3, \"7\": 1, \"0\": 1, \"12\": 9, \"88\": 1, \"15\": 1, \"72\": 1, \"109\": 2, \"87\": 1, \"23\": 1, \"52\": 2, \"28\": 1, \"64\": 1, \"27\": 1, \"106\": 1, \"101\": 8, \"8\": 1, \"70\": 4, \"93\": 2, \"24\": 1, \"11\": 1, \"126\": 1, \"127\": 1, \"43\": 1}, \"21\": {\"21\": 21, \"109\": 3, \"117\": 1, \"2\": 2, \"44\": 2, \"126\": 1, \"18\": 1, \"72\": 1, \"64\": 1, \"37\": 1, \"10\": 1, \"118\": 1, \"30\": 1, \"108\": 1, \"71\": 1, \"93\": 1}, \"90\": {\"90\": 114, \"70\": 2, \"42\": 1, \"21\": 1, \"7\": 6, \"126\": 2, \"109\": 2, \"113\": 1, \"3\": 1, \"12\": 1, \"108\": 1}, \"38\": {\"96\": 1, \"38\": 10, \"11\": 1, \"20\": 1, \"124\": 1, \"33\": 2}, \"96\": {\"66\": 1, \"19\": 2, \"44\": 3, \"96\": 7, \"70\": 1, \"109\": 1, \"106\": 1, \"122\": 1, \"7\": 1, \"28\": 1, \"11\": 1}, \"6\": {\"37\": 1, \"6\": 18, \"94\": 2, \"12\": 2, \"112\": 3, \"27\": 1, \"30\": 1, \"125\": 1, \"53\": 1, \"15\": 2}, \"121\": {\"121\": 24, \"113\": 1, \"95\": 5, \"119\": 1, \"120\": 1}, \"37\": {\"37\": 16}, \"88\": {\"88\": 51, \"27\": 7, \"127\": 1, \"125\": 9, \"36\": 15, \"24\": 10, \"15\": 7, \"32\": 1, \"10\": 2, \"108\": 6, \"111\": 2, \"106\": 2, \"126\": 6, \"70\": 2, \"98\": 1, \"94\": 1, \"101\": 2, \"12\": 1}, \"54\": {\"54\": 16}, \"92\": {\"92\": 28}, \"19\": {\"19\": 14, \"65\": 1, \"87\": 1, \"82\": 2, \"50\": 1, \"3\": 2, \"8\": 3, \"62\": 1, \"108\": 1, \"115\": 1, \"14\": 1}, \"47\": {\"73\": 2, \"47\": 7, \"40\": 1, \"87\": 1, \"5\": 1}, \"94\": {\"92\": 3, \"15\": 5, \"6\": 3, \"94\": 52, \"30\": 1, \"24\": 5, \"71\": 4, \"36\": 3, \"18\": 1, \"12\": 1, \"111\": 1, \"4\": 2, \"27\": 2, \"49\": 1, \"125\": 2, \"44\": 1, \"34\": 1, \"88\": 1, \"99\": 1, \"127\": 1, \"113\": 1}, \"66\": {\"66\": 14, \"99\": 2}, \"73\": {\"73\": 13, \"4\": 1, \"59\": 1, \"84\": 2, \"5\": 3}, \"75\": {\"75\": 11, \"112\": 1, \"98\": 1, \"91\": 1, \"85\": 1, \"71\": 1}, \"28\": {\"78\": 2, \"28\": 14, \"61\": 1, \"94\": 1, \"128\": 1, \"96\": 1}, \"20\": {\"20\": 12, \"74\": 1, \"19\": 1, \"78\": 2}, \"78\": {\"121\": 1, \"78\": 6, \"87\": 3, \"102\": 2, \"109\": 1, \"64\": 2, \"28\": 1}, \"71\": {\"71\": 64, \"12\": 4, \"69\": 1, \"15\": 5, \"30\": 3, \"111\": 1, \"24\": 2, \"94\": 6, \"88\": 2, \"36\": 2, \"117\": 1, \"98\": 1, \"125\": 2, \"112\": 1, \"4\": 1, \"39\": 1, \"0\": 1, \"27\": 5, \"70\": 1}, \"13\": {\"39\": 1, \"118\": 1, \"13\": 10, \"16\": 2, \"63\": 1, \"102\": 1}, \"118\": {\"118\": 41, \"69\": 5, \"63\": 1, \"26\": 9, \"2\": 2, \"113\": 4, \"122\": 1, \"16\": 6, \"39\": 4, \"117\": 4, \"11\": 1, \"60\": 1, \"99\": 1, \"18\": 2, \"90\": 1, \"93\": 1}, \"72\": {\"72\": 20, \"70\": 1, \"9\": 3, \"5\": 2, \"114\": 1, \"110\": 2, \"1\": 1, \"27\": 1, \"4\": 1}, \"24\": {\"24\": 49, \"97\": 1, \"86\": 1, \"88\": 8, \"27\": 8, \"71\": 4, \"70\": 2, \"113\": 1, \"30\": 1, \"101\": 2, \"15\": 1, \"108\": 3, \"36\": 1, \"18\": 1, \"93\": 1, \"41\": 2, \"44\": 1, \"7\": 3, \"10\": 2}, \"41\": {\"28\": 1, \"41\": 13, \"108\": 2}, \"102\": {\"102\": 77, \"117\": 2, \"100\": 2, \"2\": 2, \"33\": 11, \"62\": 7, \"69\": 6, \"18\": 1, \"3\": 1, \"14\": 3, \"11\": 2, \"116\": 1, \"109\": 1, \"39\": 1, \"43\": 1, \"27\": 1, \"87\": 1}, \"8\": {\"39\": 1, \"8\": 82, \"78\": 1, \"122\": 3, \"70\": 4, \"128\": 1, \"11\": 7, \"109\": 4, \"126\": 5, \"5\": 1, \"87\": 2, \"14\": 4, \"4\": 3, \"101\": 1, \"90\": 3, \"66\": 1, \"105\": 1, \"28\": 1, \"34\": 1, \"124\": 2, \"43\": 1, \"108\": 6, \"1\": 3}, \"39\": {\"39\": 38, \"13\": 1, \"21\": 6, \"16\": 6, \"66\": 1, \"11\": 4, \"102\": 3, \"118\": 6, \"69\": 3, \"18\": 6, \"70\": 1, \"109\": 2, \"117\": 11, \"88\": 1, \"33\": 2, \"26\": 1, \"61\": 1, \"62\": 1, \"126\": 1, \"98\": 1}, \"97\": {\"40\": 1, \"97\": 10, \"30\": 1, \"70\": 1, \"6\": 2, \"52\": 1, \"98\": 1, \"31\": 1, \"2\": 1, \"92\": 1}, \"48\": {\"48\": 11, \"44\": 1}, \"57\": {\"57\": 9, \"104\": 2, \"128\": 1}, \"29\": {\"29\": 22, \"19\": 1, \"109\": 1, \"57\": 1, \"43\": 1, \"11\": 1, \"83\": 1}, \"119\": {\"119\": 15, \"16\": 1}, \"89\": {\"29\": 3, \"42\": 1, \"89\": 16, \"60\": 2, \"83\": 1, \"9\": 4, \"19\": 1, \"128\": 1, \"56\": 1, \"70\": 1, \"79\": 1, \"129\": 1, \"5\": 2, \"84\": 1}, \"40\": {\"40\": 90, \"129\": 2, \"114\": 14, \"29\": 1, \"5\": 1, \"105\": 4, \"107\": 6, \"84\": 2, \"4\": 2, \"87\": 2, \"126\": 2, \"9\": 1, \"1\": 3, \"110\": 3, \"8\": 3, \"93\": 2, \"101\": 1, \"124\": 1}, \"22\": {\"97\": 1, \"29\": 1, \"22\": 7, \"8\": 1, \"47\": 2, \"90\": 2, \"19\": 1, \"124\": 1}, \"53\": {\"53\": 14, \"6\": 1, \"27\": 3, \"88\": 1, \"98\": 1}, \"108\": {\"66\": 1, \"48\": 1, \"7\": 4, \"108\": 45, \"10\": 8, \"0\": 2, \"21\": 1, \"109\": 3, \"58\": 1, \"70\": 11, \"72\": 1, \"101\": 7, \"44\": 6, \"24\": 3, \"40\": 2, \"11\": 1, \"93\": 5, \"8\": 1, \"4\": 3, \"126\": 8, \"88\": 1, \"86\": 1, \"32\": 1, \"97\": 1, \"85\": 1, \"122\": 1, \"43\": 1, \"90\": 2, \"71\": 1}, \"23\": {\"109\": 1, \"23\": 7, \"95\": 1, \"28\": 1, \"35\": 1, \"122\": 1, \"110\": 1, \"97\": 1, \"70\": 1, \"74\": 1, \"64\": 1, \"104\": 2, \"41\": 2, \"9\": 1, \"7\": 1, \"34\": 1}, \"109\": {\"109\": 78, \"21\": 2, \"128\": 1, \"99\": 1, \"7\": 5, \"3\": 4, \"90\": 6, \"108\": 4, \"44\": 2, \"70\": 4, \"126\": 3, \"101\": 1, \"57\": 1, \"76\": 1, \"43\": 2, \"10\": 1}, \"112\": {\"41\": 1, \"112\": 9, \"6\": 2, \"75\": 2, \"71\": 2}, \"35\": {\"23\": 2, \"34\": 1, \"35\": 8, \"4\": 1}, \"3\": {\"3\": 71, \"96\": 1, \"5\": 2, \"114\": 3, \"84\": 3, \"36\": 3, \"11\": 1, \"126\": 1, \"60\": 1, \"70\": 1, \"71\": 1}, \"103\": {\"103\": 9, \"15\": 1, \"17\": 1, \"0\": 1, \"47\": 2, \"58\": 1, \"93\": 1}, \"4\": {\"4\": 35, \"103\": 1, \"40\": 8, \"93\": 7, \"107\": 6, \"105\": 2, \"1\": 3, \"43\": 1, \"0\": 1, \"87\": 3, \"8\": 4, \"101\": 4, \"108\": 1, \"114\": 5, \"39\": 1, \"126\": 2, \"110\": 2, \"25\": 1, \"84\": 4, \"72\": 2, \"23\": 1, \"86\": 1, \"96\": 1, \"128\": 1, \"70\": 1, \"106\": 1, \"5\": 1}, \"87\": {\"87\": 20, \"78\": 3, \"110\": 4, \"43\": 4, \"84\": 14, \"45\": 1, \"5\": 1, \"93\": 6, \"70\": 6, \"44\": 2, \"16\": 1, \"1\": 5, \"10\": 2, \"105\": 8, \"4\": 3, \"40\": 4, \"114\": 7, \"122\": 3, \"28\": 1, \"128\": 1, \"102\": 1, \"23\": 1, \"124\": 2, \"108\": 1, \"8\": 1, \"109\": 1, \"24\": 1, \"106\": 1, \"3\": 1, \"126\": 2}, \"25\": {\"25\": 7, \"120\": 1, \"129\": 1, \"119\": 2, \"116\": 1, \"100\": 1, \"124\": 2, \"113\": 1}, \"15\": {\"15\": 52, \"31\": 1, \"88\": 8, \"44\": 2, \"127\": 4, \"12\": 5, \"36\": 4, \"69\": 1, \"98\": 1, \"111\": 4, \"108\": 2, \"27\": 5, \"0\": 2, \"86\": 1, \"101\": 1, \"71\": 1, \"121\": 1, \"94\": 2, \"24\": 4, \"7\": 1, \"117\": 1, \"106\": 1}, \"95\": {\"95\": 20, \"39\": 1, \"10\": 1, \"18\": 3, \"120\": 1, \"117\": 2, \"113\": 1, \"26\": 1, \"38\": 1, \"21\": 1, \"119\": 1, \"121\": 1, \"16\": 2}, \"120\": {\"120\": 13, \"29\": 1, \"121\": 3, \"62\": 2, \"123\": 1}, \"59\": {\"51\": 2, \"59\": 6, \"37\": 1, \"36\": 1, \"41\": 1, \"118\": 1}, \"49\": {\"49\": 7, \"52\": 2, \"127\": 3, \"68\": 1, \"86\": 1, \"109\": 1, \"111\": 1, \"106\": 1, \"101\": 1, \"126\": 1, \"32\": 1}, \"52\": {\"52\": 11, \"87\": 1, \"10\": 1, \"109\": 1, \"98\": 2, \"92\": 1, \"41\": 1, \"24\": 1, \"19\": 1}, \"45\": {\"87\": 1, \"78\": 1, \"80\": 1, \"7\": 1, \"41\": 2, \"36\": 1, \"128\": 1, \"33\": 1, \"32\": 2, \"38\": 1}, \"107\": {\"107\": 95, \"111\": 3, \"9\": 1, \"110\": 5, \"4\": 2, \"93\": 2, \"5\": 3, \"127\": 1, \"84\": 2, \"129\": 1, \"114\": 1, \"55\": 1, \"0\": 1, \"40\": 2, \"106\": 2, \"126\": 1, \"7\": 1}, \"106\": {\"106\": 84, \"10\": 1, \"111\": 7, \"110\": 7, \"93\": 5, \"5\": 1, \"40\": 2, \"44\": 1, \"101\": 4, \"107\": 6, \"43\": 1, \"17\": 2, \"89\": 2, \"0\": 3, \"24\": 1, \"87\": 1, \"4\": 2, \"70\": 1, \"84\": 3}, \"18\": {\"18\": 96, \"13\": 1, \"2\": 1, \"109\": 1, \"39\": 4, \"117\": 5, \"11\": 4, \"122\": 2, \"102\": 3, \"113\": 1, \"116\": 1, \"21\": 1, \"16\": 1, \"118\": 2, \"110\": 1}, \"64\": {\"64\": 16}, \"86\": {\"86\": 28, \"101\": 1, \"88\": 1, \"106\": 2, \"76\": 1, \"108\": 1, \"44\": 2}, \"14\": {\"33\": 8, \"14\": 66, \"80\": 1, \"126\": 2, \"74\": 1, \"43\": 1, \"124\": 1, \"102\": 2, \"108\": 1, \"8\": 3, \"84\": 1, \"19\": 3, \"129\": 2, \"82\": 1, \"11\": 2, \"62\": 1}, \"115\": {\"115\": 8, \"114\": 2, \"101\": 2}, \"0\": {\"0\": 44, \"52\": 2, \"32\": 1, \"84\": 1, \"5\": 1, \"58\": 1, \"126\": 1, \"110\": 3, \"10\": 4, \"101\": 10, \"12\": 2, \"4\": 4, \"88\": 1, \"24\": 1, \"7\": 1, \"85\": 1, \"28\": 1, \"122\": 1, \"108\": 1, \"106\": 2, \"93\": 1}, \"104\": {\"104\": 14, \"7\": 2}, \"61\": {\"61\": 10, \"129\": 1, \"14\": 1}, \"129\": {\"25\": 1, \"23\": 1, \"102\": 1, \"117\": 1, \"129\": 10, \"43\": 2, \"5\": 2, \"62\": 1, \"80\": 2, \"122\": 1, \"100\": 1, \"105\": 1, \"3\": 1, \"83\": 1, \"114\": 2}, \"122\": {\"122\": 26, \"81\": 1, \"60\": 1, \"129\": 2, \"70\": 3, \"108\": 1, \"33\": 4, \"44\": 2, \"102\": 1, \"62\": 1, \"14\": 7, \"40\": 2, \"3\": 1, \"124\": 3, \"84\": 3, \"1\": 1, \"11\": 1, \"43\": 3, \"109\": 1, \"16\": 1, \"90\": 1, \"8\": 1, \"74\": 1, \"82\": 3, \"50\": 1, \"65\": 1, \"38\": 2, \"126\": 1, \"39\": 2, \"10\": 1, \"105\": 3, \"87\": 1, \"114\": 3, \"69\": 1, \"18\": 1}, \"67\": {\"67\": 13, \"21\": 1, \"62\": 1, \"11\": 1}, \"128\": {\"104\": 1, \"128\": 11, \"93\": 1, \"41\": 1, \"86\": 2, \"72\": 1, \"109\": 1, \"57\": 2, \"78\": 1, \"0\": 1, \"126\": 1, \"87\": 1}, \"26\": {\"117\": 9, \"26\": 98, \"118\": 6, \"69\": 1, \"16\": 12, \"113\": 3, \"124\": 1, \"63\": 1, \"121\": 1, \"2\": 1, \"33\": 1}, \"117\": {\"13\": 1, \"117\": 89, \"26\": 11, \"63\": 2, \"121\": 1, \"113\": 5, \"16\": 7, \"116\": 1, \"118\": 6, \"69\": 2, \"18\": 1, \"11\": 4, \"2\": 1, \"39\": 5}, \"91\": {\"91\": 7, \"34\": 2, \"77\": 2, \"86\": 1, \"12\": 3, \"9\": 3, \"53\": 1, \"32\": 1, \"107\": 2, \"0\": 1, \"27\": 1, \"71\": 1, \"5\": 1, \"75\": 1, \"94\": 1}, \"12\": {\"12\": 65, \"53\": 1, \"110\": 1, \"127\": 7, \"101\": 4, \"30\": 1, \"98\": 5, \"111\": 5, \"11\": 1, \"90\": 3, \"88\": 1, \"15\": 1, \"0\": 2, \"94\": 1, \"52\": 1, \"31\": 2, \"122\": 1, \"106\": 1, \"107\": 1}, \"50\": {\"50\": 9, \"122\": 1, \"102\": 1, \"129\": 2, \"65\": 2, \"69\": 1}, \"99\": {\"99\": 23, \"96\": 1}, \"110\": {\"110\": 76, \"1\": 1, \"107\": 10, \"4\": 3, \"105\": 1, \"84\": 1, \"106\": 5, \"93\": 2, \"70\": 1, \"87\": 1, \"40\": 2, \"111\": 1}, \"43\": {\"43\": 21, \"87\": 7, \"10\": 1, \"84\": 13, \"103\": 1, \"126\": 6, \"90\": 2, \"109\": 4, \"36\": 1, \"114\": 11, \"40\": 9, \"108\": 4, \"105\": 1, \"93\": 4, \"39\": 1, \"3\": 1, \"125\": 1, \"1\": 4, \"98\": 1, \"11\": 4, \"23\": 2, \"9\": 1, \"5\": 3, \"4\": 1, \"122\": 1, \"124\": 1, \"8\": 1, \"7\": 1, \"44\": 2, \"24\": 1, \"15\": 1, \"110\": 1, \"70\": 3}, \"82\": {\"81\": 1, \"82\": 19, \"69\": 1, \"62\": 1, \"102\": 2, \"3\": 1, \"33\": 6, \"11\": 1, \"61\": 1, \"8\": 1, \"14\": 2}, \"1\": {\"1\": 61, \"129\": 1, \"55\": 1, \"5\": 3, \"114\": 11, \"14\": 1, \"84\": 5, \"93\": 2, \"4\": 2, \"3\": 2, \"43\": 1, \"11\": 1, \"124\": 1, \"105\": 1, \"40\": 1, \"126\": 1, \"110\": 1}, \"46\": {\"112\": 1, \"80\": 2, \"46\": 3, \"38\": 1, \"85\": 1, \"54\": 1, \"127\": 1, \"29\": 1, \"94\": 1}, \"16\": {\"16\": 70, \"39\": 2, \"113\": 6, \"122\": 1, \"118\": 2, \"109\": 1, \"26\": 12, \"117\": 9, \"13\": 2, \"14\": 1, \"102\": 2}, \"74\": {\"74\": 14, \"14\": 2}, \"32\": {\"32\": 18, \"111\": 2, \"49\": 2, \"127\": 1, \"101\": 3, \"70\": 1, \"86\": 1, \"4\": 2, \"91\": 1, \"126\": 1}, \"62\": {\"62\": 86, \"67\": 3, \"82\": 2, \"33\": 7, \"69\": 8, \"102\": 6, \"109\": 1, \"8\": 1, \"11\": 2, \"124\": 1, \"14\": 1, \"94\": 1, \"70\": 1}, \"27\": {\"27\": 36, \"34\": 1, \"17\": 1, \"112\": 1, \"111\": 2, \"86\": 3, \"70\": 3, \"24\": 4, \"71\": 3, \"94\": 4, \"110\": 1, \"125\": 4, \"88\": 5, \"101\": 5, \"108\": 1, \"15\": 6, \"12\": 3, \"106\": 2, \"23\": 1, \"37\": 1, \"30\": 2, \"69\": 1, \"21\": 1, \"36\": 1}, \"17\": {\"17\": 12, \"23\": 1, \"128\": 1, \"129\": 1, \"19\": 1}, \"36\": {\"36\": 106, \"15\": 4, \"88\": 10, \"71\": 1, \"12\": 1, \"111\": 2, \"125\": 6, \"39\": 1, \"27\": 2, \"98\": 1}, \"2\": {\"39\": 4, \"78\": 1, \"128\": 2, \"118\": 1, \"96\": 2, \"62\": 1, \"2\": 10, \"8\": 1, \"102\": 1, \"18\": 3, \"16\": 1, \"21\": 1, \"109\": 1, \"14\": 1, \"1\": 1, \"11\": 1}, \"70\": {\"70\": 50, \"109\": 6, \"86\": 1, \"128\": 1, \"107\": 1, \"102\": 1, \"4\": 4, \"126\": 4, \"108\": 15, \"110\": 1, \"11\": 5, \"24\": 2, \"21\": 1, \"44\": 7, \"8\": 4, \"84\": 1, \"7\": 2, \"87\": 1, \"10\": 7, \"5\": 1, \"32\": 1, \"43\": 2, \"93\": 3, \"106\": 1, \"101\": 1, \"90\": 2, \"39\": 1, \"88\": 1, \"18\": 1}, \"9\": {\"9\": 18, \"93\": 1, \"87\": 4, \"43\": 1, \"114\": 2, \"84\": 1, \"72\": 1, \"89\": 1, \"106\": 1, \"35\": 1, \"124\": 1}, \"114\": {\"114\": 72, \"40\": 18, \"84\": 11, \"1\": 7, \"105\": 6, \"4\": 3, \"43\": 2, \"70\": 1, \"124\": 1, \"110\": 2, \"72\": 2, \"129\": 2, \"87\": 2, \"93\": 1}, \"79\": {\"79\": 8, \"83\": 1, \"77\": 2, \"103\": 1}, \"56\": {\"17\": 1, \"56\": 7, \"114\": 1, \"129\": 1, \"112\": 1, \"9\": 1}, \"124\": {\"124\": 46, \"70\": 2, \"114\": 3, \"47\": 1, \"107\": 1, \"33\": 5, \"84\": 2, \"11\": 6, \"105\": 4, \"14\": 3, \"7\": 1, \"40\": 6, \"8\": 3, \"110\": 1, \"1\": 2, \"80\": 1, \"120\": 1, \"54\": 1, \"78\": 1, \"42\": 2, \"122\": 2, \"43\": 1, \"99\": 1, \"3\": 1, \"126\": 1, \"87\": 2, \"62\": 1, \"18\": 1}, \"84\": {\"114\": 19, \"84\": 65, \"40\": 6, \"11\": 1, \"93\": 3, \"9\": 1, \"87\": 1, \"105\": 8, \"27\": 1, \"101\": 1, \"5\": 3, \"107\": 3, \"7\": 1, \"3\": 4, \"1\": 5, \"110\": 1, \"43\": 5, \"4\": 2, \"103\": 1, \"80\": 1, \"129\": 1, \"89\": 1}, \"69\": {\"69\": 71, \"16\": 2, \"33\": 6, \"82\": 2, \"3\": 1, \"102\": 9, \"11\": 1, \"26\": 2, \"8\": 1, \"62\": 4, \"39\": 3, \"117\": 1, \"122\": 2, \"118\": 1, \"109\": 1, \"87\": 1}, \"58\": {\"58\": 6, \"32\": 2, \"70\": 1, \"103\": 1, \"15\": 1, \"49\": 1}, \"30\": {\"30\": 23, \"94\": 1, \"24\": 6, \"12\": 4, \"88\": 3, \"27\": 3, \"0\": 2, \"125\": 1, \"36\": 1, \"19\": 1, \"15\": 2, \"127\": 1, \"86\": 1, \"10\": 1, \"53\": 1, \"6\": 1}, \"55\": {\"5\": 3, \"55\": 6, \"93\": 2, \"23\": 1}, \"105\": {\"105\": 46, \"107\": 1, \"49\": 1, \"1\": 4, \"9\": 2, \"84\": 8, \"93\": 1, \"40\": 5, \"5\": 3, \"4\": 1, \"43\": 3, \"114\": 4, \"103\": 1, \"74\": 1, \"55\": 1, \"129\": 2}, \"63\": {\"120\": 1, \"63\": 9, \"69\": 1, \"18\": 1, \"121\": 1, \"11\": 2, \"13\": 1}, \"98\": {\"68\": 2, \"75\": 1, \"98\": 54, \"88\": 2, \"12\": 6, \"94\": 3, \"111\": 3, \"0\": 1, \"127\": 4, \"10\": 8, \"101\": 4, \"5\": 1, \"24\": 3, \"126\": 5, \"52\": 2, \"31\": 1, \"30\": 1, \"41\": 1, \"106\": 1, \"108\": 1, \"107\": 1, \"70\": 1, \"125\": 1, \"7\": 1}, \"116\": {\"116\": 21, \"80\": 1, \"121\": 1, \"114\": 1, \"33\": 1, \"102\": 1, \"120\": 2, \"82\": 1, \"18\": 1, \"129\": 1, \"3\": 1}}, \"W_3\": {\"76\": {\"76\": 7, \"66\": 1, \"120\": 1, \"38\": 1, \"116\": 1, \"69\": 1, \"45\": 2, \"79\": 2}, \"6\": {\"94\": 1, \"15\": 1, \"58\": 2, \"36\": 1, \"75\": 2, \"111\": 1, \"6\": 13, \"27\": 2, \"106\": 1, \"59\": 1, \"112\": 1, \"12\": 2, \"29\": 1, \"14\": 1, \"91\": 1, \"101\": 1}, \"108\": {\"108\": 47, \"46\": 2, \"85\": 1, \"124\": 2, \"86\": 2, \"32\": 1, \"24\": 1, \"88\": 4, \"8\": 7, \"12\": 5, \"110\": 1, \"87\": 3, \"70\": 6, \"111\": 1, \"10\": 10, \"105\": 1, \"114\": 1, \"3\": 2, \"98\": 4, \"90\": 1, \"11\": 1, \"1\": 2, \"7\": 1}, \"29\": {\"29\": 26, \"128\": 1, \"122\": 1, \"27\": 1, \"4\": 1, \"31\": 1, \"103\": 1}, \"83\": {\"83\": 21, \"98\": 1, \"8\": 1, \"91\": 1}, \"18\": {\"18\": 107, \"67\": 1, \"118\": 1, \"26\": 4, \"81\": 6, \"39\": 1, \"113\": 1, \"117\": 4, \"78\": 2, \"109\": 1}, \"54\": {\"54\": 16}, \"15\": {\"83\": 1, \"15\": 59, \"98\": 3, \"128\": 1, \"27\": 6, \"106\": 4, \"24\": 3, \"4\": 1, \"30\": 1, \"36\": 5, \"3\": 1, \"108\": 1, \"111\": 4, \"0\": 1, \"34\": 1, \"6\": 1, \"42\": 1, \"94\": 1, \"8\": 7, \"70\": 1, \"12\": 1}, \"100\": {\"100\": 12, \"74\": 1, \"98\": 1, \"48\": 1, \"50\": 1}, \"90\": {\"29\": 1, \"90\": 120, \"92\": 2, \"44\": 5, \"110\": 3, \"23\": 1, \"87\": 1, \"88\": 1, \"109\": 1, \"122\": 1}, \"26\": {\"26\": 101, \"63\": 2, \"69\": 2, \"96\": 1, \"39\": 2, \"2\": 1, \"113\": 2, \"18\": 5, \"118\": 3, \"5\": 1, \"109\": 3, \"126\": 2, \"117\": 1, \"16\": 2, \"82\": 1, \"102\": 2, \"3\": 1}, \"115\": {\"100\": 1, \"76\": 1, \"57\": 1, \"29\": 1, \"40\": 2, \"87\": 2, \"74\": 2, \"84\": 2, \"104\": 1, \"44\": 1, \"86\": 1, \"115\": 1}, \"94\": {\"94\": 57, \"15\": 2, \"37\": 2, \"83\": 2, \"97\": 1, \"30\": 2, \"106\": 2, \"125\": 2, \"27\": 2, \"36\": 3, \"6\": 2, \"8\": 1, \"108\": 1, \"24\": 3, \"118\": 1, \"111\": 1}, \"46\": {\"46\": 8, \"9\": 1, \"127\": 1, \"86\": 1, \"103\": 1, \"34\": 1, \"8\": 1, \"29\": 2}, \"121\": {\"121\": 19, \"116\": 2, \"43\": 1, \"48\": 1, \"38\": 2, \"21\": 2, \"39\": 3, \"2\": 1, \"81\": 1}, \"109\": {\"26\": 3, \"115\": 1, \"109\": 34, \"102\": 9, \"80\": 1, \"21\": 1, \"82\": 2, \"16\": 6, \"69\": 4, \"33\": 3, \"88\": 9, \"2\": 1, \"118\": 10, \"90\": 2, \"39\": 3, \"113\": 4, \"87\": 2, \"93\": 3, \"114\": 1, \"117\": 5, \"14\": 4, \"27\": 1, \"11\": 3, \"84\": 1, \"63\": 1, \"123\": 1, \"64\": 1, \"31\": 1, \"43\": 4, \"23\": 1, \"70\": 1, \"62\": 4, \"3\": 1}, \"101\": {\"101\": 34, \"0\": 4, \"91\": 1, \"36\": 1, \"8\": 2, \"3\": 2, \"58\": 1, \"12\": 2, \"125\": 1, \"30\": 1, \"15\": 1, \"86\": 1, \"98\": 1}, \"99\": {\"99\": 27, \"10\": 1, \"8\": 1, \"108\": 1, \"46\": 1, \"85\": 2, \"7\": 1, \"128\": 1, \"19\": 1}, \"8\": {\"8\": 60, \"0\": 3, \"77\": 1, \"98\": 6, \"12\": 7, \"106\": 7, \"110\": 1, \"10\": 9, \"111\": 5, \"15\": 4, \"7\": 4, \"4\": 3, \"5\": 1, \"125\": 1, \"70\": 2, \"114\": 1, \"112\": 1, \"68\": 2, \"99\": 2, \"49\": 1, \"86\": 1, \"27\": 1, \"88\": 1, \"30\": 1, \"108\": 3}, \"102\": {\"62\": 3, \"102\": 63, \"93\": 2, \"118\": 3, \"33\": 4, \"69\": 2, \"107\": 1, \"14\": 6, \"16\": 7, \"11\": 4, \"109\": 3, \"82\": 2, \"117\": 1, \"87\": 3}, \"122\": {\"113\": 1, \"9\": 2, \"87\": 1, \"40\": 6, \"88\": 7, \"122\": 20, \"110\": 1, \"99\": 1, \"60\": 1, \"84\": 4, \"1\": 1, \"32\": 2, \"10\": 1, \"96\": 1, \"126\": 1, \"129\": 1, \"29\": 2, \"23\": 2, \"107\": 1, \"70\": 1, \"62\": 1, \"86\": 1, \"90\": 1}, \"36\": {\"36\": 73, \"125\": 3, \"72\": 1, \"27\": 6, \"12\": 1, \"98\": 3, \"108\": 2, \"15\": 6, \"30\": 3, \"8\": 4, \"94\": 2, \"10\": 2, \"0\": 2, \"106\": 4, \"83\": 1, \"24\": 1, \"114\": 2}, \"113\": {\"102\": 4, \"120\": 1, \"113\": 65, \"88\": 4, \"11\": 3, \"126\": 5, \"36\": 1, \"109\": 5, \"117\": 1, \"33\": 8, \"93\": 5, \"5\": 1, \"114\": 2, \"27\": 2, \"84\": 1, \"39\": 1, \"69\": 1, \"43\": 3, \"118\": 3, \"110\": 1, \"26\": 1, \"62\": 1, \"16\": 1}, \"123\": {\"123\": 10, \"102\": 1, \"63\": 2, \"18\": 2, \"113\": 1}, \"120\": {\"120\": 20}, \"125\": {\"125\": 71, \"54\": 1, \"42\": 1, \"94\": 2, \"27\": 4, \"72\": 1, \"106\": 7, \"36\": 4, \"3\": 1, \"101\": 1, \"12\": 4, \"30\": 1, \"15\": 3, \"56\": 1, \"6\": 2, \"111\": 1, \"88\": 1, \"73\": 1, \"24\": 1}, \"89\": {\"89\": 18, \"18\": 1, \"69\": 2, \"107\": 1, \"16\": 1, \"30\": 1, \"63\": 1, \"102\": 1, \"62\": 1, \"26\": 1}, \"9\": {\"9\": 21, \"87\": 2, \"95\": 1, \"10\": 1, \"28\": 1, \"124\": 2, \"1\": 1, \"105\": 1, \"129\": 1, \"110\": 1}, \"31\": {\"31\": 20}, \"62\": {\"62\": 60, \"113\": 1, \"33\": 11, \"14\": 6, \"40\": 2, \"107\": 4, \"105\": 1, \"84\": 12, \"90\": 1, \"93\": 4, \"16\": 1, \"102\": 2, \"74\": 1, \"96\": 1, \"87\": 1, \"32\": 1, \"11\": 1, \"126\": 1, \"109\": 1, \"110\": 1, \"4\": 1}, \"49\": {\"29\": 1, \"101\": 2, \"41\": 1, \"124\": 1, \"99\": 1, \"71\": 1, \"49\": 3, \"80\": 2, \"44\": 1, \"70\": 4, \"58\": 2, \"92\": 1, \"98\": 1, \"6\": 1, \"90\": 2}, \"23\": {\"18\": 2, \"7\": 1, \"23\": 5, \"85\": 1, \"70\": 2, \"46\": 1, \"26\": 1, \"110\": 1, \"113\": 1, \"34\": 1, \"109\": 1, \"2\": 2, \"69\": 2, \"95\": 1, \"103\": 1, \"126\": 1, \"121\": 1, \"89\": 1, \"108\": 1, \"43\": 1, \"3\": 1, \"125\": 1, \"21\": 2}, \"55\": {\"55\": 12, \"88\": 1, \"105\": 1, \"19\": 1, \"122\": 1}, \"128\": {\"7\": 3, \"29\": 1, \"74\": 1, \"128\": 10, \"9\": 2, \"44\": 1, \"87\": 1, \"10\": 1, \"127\": 1, \"5\": 2, \"1\": 2, \"4\": 1, \"41\": 1, \"19\": 2, \"92\": 1, \"23\": 1, \"108\": 1}, \"71\": {\"71\": 55, \"77\": 1, \"96\": 1, \"127\": 4, \"4\": 2, \"105\": 1, \"114\": 2, \"5\": 1, \"3\": 1}, \"51\": {\"51\": 15, \"101\": 1}, \"7\": {\"7\": 76, \"10\": 1, \"49\": 1, \"71\": 1, \"99\": 2, \"3\": 2, \"127\": 4, \"108\": 3, \"98\": 2, \"0\": 2, \"8\": 5, \"30\": 1, \"91\": 1, \"58\": 1, \"95\": 1, \"111\": 1, \"15\": 1, \"5\": 1}, \"117\": {\"78\": 1, \"117\": 54, \"43\": 1, \"26\": 11, \"102\": 2, \"109\": 2, \"126\": 3, \"118\": 4, \"39\": 10, \"69\": 3, \"18\": 8, \"113\": 2, \"2\": 1, \"16\": 1, \"14\": 1}, \"28\": {\"28\": 16}, \"127\": {\"127\": 99, \"9\": 2, \"71\": 4, \"3\": 3, \"1\": 1, \"70\": 1, \"5\": 7, \"0\": 1, \"114\": 2, \"55\": 2, \"17\": 1, \"85\": 1, \"111\": 1, \"105\": 3}, \"57\": {\"57\": 15, \"29\": 1, \"80\": 1, \"74\": 1, \"17\": 2}, \"78\": {\"78\": 7, \"55\": 1, \"101\": 1, \"42\": 1, \"110\": 1, \"92\": 1, \"54\": 1, \"40\": 1, \"21\": 1, \"120\": 1}, \"87\": {\"84\": 11, \"96\": 1, \"87\": 41, \"105\": 5, \"33\": 11, \"62\": 1, \"104\": 1, \"40\": 9, \"129\": 2, \"113\": 1, \"1\": 2, \"108\": 2, \"107\": 1, \"88\": 5, \"109\": 3, \"16\": 1, \"110\": 4, \"11\": 3, \"90\": 4, \"27\": 1, \"5\": 1, \"34\": 1, \"100\": 1, \"78\": 1, \"60\": 1, \"124\": 2, \"117\": 1, \"114\": 2, \"102\": 1}, \"40\": {\"40\": 62, \"105\": 3, \"62\": 3, \"129\": 1, \"32\": 2, \"39\": 1, \"24\": 1, \"107\": 16, \"110\": 3, \"4\": 2, \"14\": 2, \"16\": 2, \"1\": 5, \"11\": 2, \"87\": 2, \"84\": 5, \"93\": 1, \"74\": 1, \"34\": 1, \"92\": 1, \"33\": 7, \"29\": 2, \"124\": 2, \"114\": 1}, \"81\": {\"81\": 22, \"2\": 1, \"39\": 2, \"26\": 3, \"18\": 4}, \"2\": {\"115\": 1, \"96\": 1, \"117\": 1, \"43\": 1, \"18\": 2, \"2\": 14, \"113\": 1, \"118\": 1, \"63\": 1, \"109\": 2, \"39\": 1, \"69\": 1, \"11\": 1}, \"58\": {\"58\": 10, \"19\": 1, \"71\": 1, \"111\": 1, \"101\": 1, \"97\": 2}, \"68\": {\"68\": 7, \"77\": 2, \"105\": 1, \"72\": 1, \"2\": 1, \"111\": 2, \"127\": 1, \"65\": 1}, \"20\": {\"9\": 1, \"96\": 1, \"90\": 3, \"1\": 1, \"122\": 1, \"20\": 7, \"60\": 1, \"36\": 1}, \"35\": {\"35\": 8, \"68\": 1, \"112\": 1, \"65\": 1, \"95\": 1}, \"96\": {\"96\": 10, \"23\": 1, \"101\": 1, \"118\": 1, \"16\": 2, \"11\": 1, \"87\": 1, \"113\": 1, \"43\": 1, \"13\": 1}, \"84\": {\"84\": 68, \"107\": 5, \"33\": 6, \"1\": 2, \"11\": 1, \"62\": 6, \"108\": 1, \"93\": 6, \"87\": 2, \"27\": 1, \"40\": 1, \"16\": 2, \"14\": 3, \"95\": 1, \"129\": 1, \"122\": 1, \"90\": 1}, \"13\": {\"64\": 1, \"13\": 2, \"18\": 1, \"61\": 1, \"122\": 1, \"69\": 2, \"80\": 1, \"62\": 1, \"81\": 2, \"107\": 1, \"23\": 1, \"39\": 1, \"26\": 1}, \"64\": {\"64\": 19, \"21\": 1}, \"112\": {\"112\": 9, \"111\": 1, \"75\": 1, \"42\": 2, \"52\": 1, \"94\": 1, \"108\": 1}, \"103\": {\"103\": 14, \"99\": 1, \"49\": 1}, \"65\": {\"65\": 9, \"23\": 1, \"16\": 1, \"128\": 1}, \"118\": {\"115\": 1, \"64\": 1, \"16\": 6, \"127\": 1, \"11\": 3, \"88\": 4, \"69\": 5, \"118\": 29, \"78\": 1, \"63\": 2, \"45\": 1, \"26\": 8, \"39\": 4, \"102\": 7, \"113\": 4, \"109\": 6, \"117\": 3, \"93\": 4, \"27\": 1, \"20\": 2, \"126\": 1, \"70\": 1, \"82\": 1, \"62\": 3, \"10\": 1}, \"88\": {\"64\": 1, \"65\": 1, \"88\": 63, \"21\": 4, \"86\": 2, \"109\": 4, \"19\": 1, \"39\": 3, \"0\": 1, \"29\": 3, \"70\": 5, \"126\": 1, \"108\": 5, \"8\": 1, \"7\": 1, \"36\": 2, \"118\": 1, \"13\": 1, \"99\": 1, \"96\": 2, \"111\": 1, \"87\": 1, \"4\": 1, \"44\": 1, \"113\": 1, \"106\": 1, \"10\": 2, \"105\": 1}, \"85\": {\"85\": 18, \"70\": 1, \"34\": 1, \"68\": 1, \"49\": 1, \"124\": 1, \"19\": 3, \"114\": 1, \"55\": 1, \"100\": 1, \"87\": 2, \"5\": 2, \"105\": 2, \"1\": 1}, \"5\": {\"85\": 1, \"5\": 67, \"10\": 1, \"114\": 8, \"71\": 2, \"126\": 2, \"108\": 2, \"127\": 6, \"8\": 1, \"1\": 3, \"105\": 10, \"3\": 2, \"4\": 3, \"18\": 1, \"28\": 1, \"19\": 1, \"129\": 1}, \"93\": {\"93\": 59, \"50\": 1, \"120\": 1, \"102\": 6, \"62\": 7, \"43\": 2, \"74\": 1, \"17\": 1, \"113\": 2, \"107\": 3, \"40\": 2, \"33\": 14, \"36\": 1, \"84\": 11, \"109\": 5, \"118\": 2, \"27\": 1, \"16\": 7, \"11\": 5, \"100\": 1, \"88\": 2, \"14\": 1, \"3\": 1, \"87\": 2}, \"43\": {\"48\": 2, \"43\": 12, \"39\": 4, \"88\": 2, \"109\": 1, \"74\": 2, \"16\": 3, \"117\": 1, \"26\": 1, \"96\": 1, \"69\": 2, \"23\": 1, \"2\": 1, \"21\": 3, \"93\": 2, \"33\": 3, \"32\": 2, \"64\": 1, \"118\": 2, \"84\": 1, \"81\": 1, \"87\": 2, \"62\": 1, \"70\": 1, \"113\": 1, \"90\": 1, \"110\": 1, \"126\": 1}, \"67\": {\"67\": 15, \"43\": 1}, \"48\": {\"67\": 2, \"48\": 1, \"14\": 1, \"12\": 1, \"0\": 2, \"63\": 1, \"7\": 2, \"101\": 1, \"119\": 1, \"69\": 1, \"19\": 1, \"51\": 1, \"61\": 1}, \"73\": {\"73\": 24, \"58\": 1, \"101\": 1, \"92\": 1, \"98\": 1, \"0\": 1, \"125\": 2, \"30\": 2, \"3\": 1, \"34\": 1, \"8\": 1, \"106\": 1, \"122\": 1, \"94\": 2}, \"34\": {\"48\": 2, \"34\": 9, \"37\": 1, \"45\": 1, \"91\": 2, \"87\": 1, \"125\": 1, \"23\": 1, \"106\": 2, \"9\": 1, \"93\": 2, \"88\": 1, \"30\": 1, \"52\": 1, \"36\": 2, \"0\": 2, \"27\": 1, \"62\": 1}, \"91\": {\"34\": 1, \"5\": 1, \"91\": 6, \"9\": 1, \"66\": 1, \"49\": 2, \"101\": 3, \"39\": 1, \"8\": 1, \"23\": 1, \"53\": 2, \"68\": 1, \"0\": 1, \"98\": 1, \"74\": 1}, \"105\": {\"5\": 8, \"105\": 72, \"110\": 3, \"55\": 1, \"41\": 1, \"124\": 3, \"71\": 1, \"108\": 1, \"107\": 1, \"4\": 6, \"1\": 9, \"40\": 4, \"114\": 10, \"19\": 1, \"68\": 1, \"32\": 1, \"85\": 1}, \"10\": {\"10\": 51, \"91\": 1, \"7\": 5, \"72\": 1, \"70\": 3, \"0\": 3, \"128\": 1, \"12\": 3, \"108\": 10, \"111\": 2, \"122\": 2, \"106\": 4, \"4\": 2, \"8\": 6, \"98\": 2, \"88\": 2, \"15\": 2, \"90\": 1, \"65\": 1, \"30\": 1, \"44\": 1, \"101\": 1, \"5\": 1}, \"61\": {\"18\": 1, \"61\": 11, \"81\": 1, \"117\": 1, \"121\": 2}, \"74\": {\"74\": 12, \"19\": 1, \"62\": 2, \"14\": 1}, \"4\": {\"4\": 32, \"48\": 1, \"9\": 1, \"49\": 1, \"42\": 1, \"114\": 9, \"8\": 3, \"40\": 5, \"5\": 6, \"1\": 3, \"105\": 12, \"127\": 3, \"10\": 3, \"108\": 7, \"124\": 2, \"111\": 1, \"70\": 3, \"3\": 1, \"110\": 1, \"88\": 1}, \"37\": {\"37\": 16}, \"19\": {\"19\": 23, \"4\": 1, \"37\": 1, \"129\": 1, \"108\": 1, \"90\": 1, \"31\": 1, \"105\": 1, \"8\": 1, \"128\": 1}, \"44\": {\"44\": 51, \"3\": 2, \"19\": 2, \"32\": 1, \"43\": 1, \"92\": 1, \"29\": 3, \"88\": 1, \"87\": 2, \"90\": 2, \"122\": 2, \"110\": 2, \"129\": 1, \"27\": 1}, \"52\": {\"52\": 14, \"25\": 1, \"58\": 1}, \"92\": {\"92\": 25, \"31\": 1, \"80\": 1, \"122\": 1, \"120\": 1, \"90\": 1, \"57\": 2}, \"33\": {\"33\": 111, \"44\": 1, \"102\": 4, \"84\": 2, \"62\": 5, \"40\": 1, \"115\": 1, \"16\": 1, \"117\": 1, \"93\": 1}, \"45\": {\"90\": 1, \"33\": 1, \"102\": 1, \"45\": 8, \"16\": 1, \"104\": 1, \"22\": 1, \"69\": 1, \"82\": 1}, \"11\": {\"45\": 2, \"67\": 1, \"17\": 2, \"109\": 6, \"88\": 6, \"64\": 1, \"107\": 4, \"33\": 2, \"113\": 2, \"11\": 40, \"39\": 3, \"16\": 14, \"62\": 8, \"87\": 2, \"93\": 10, \"90\": 1, \"118\": 2, \"43\": 3, \"102\": 1, \"50\": 2, \"53\": 1, \"122\": 1, \"32\": 1, \"14\": 2, \"82\": 1, \"92\": 1, \"38\": 2, \"40\": 2, \"69\": 1, \"8\": 1, \"84\": 2, \"70\": 1}, \"129\": {\"11\": 2, \"129\": 11, \"9\": 2, \"19\": 3, \"122\": 1, \"40\": 1, \"84\": 3, \"114\": 5, \"1\": 1, \"87\": 1, \"5\": 1, \"105\": 1}, \"116\": {\"9\": 1, \"116\": 16, \"50\": 1, \"38\": 1, \"109\": 1, \"119\": 1, \"66\": 2, \"113\": 1, \"76\": 1, \"13\": 2, \"107\": 1}, \"75\": {\"75\": 15, \"125\": 1}, \"41\": {\"41\": 9, \"88\": 1, \"79\": 1, \"105\": 1, \"124\": 1, \"8\": 1, \"68\": 1, \"49\": 1}, \"21\": {\"21\": 38, \"43\": 2, \"39\": 2, \"126\": 4, \"108\": 1, \"94\": 1}, \"69\": {\"69\": 57, \"117\": 1, \"82\": 3, \"11\": 1, \"14\": 3, \"26\": 9, \"93\": 2, \"102\": 6, \"110\": 1, \"126\": 1}, \"16\": {\"16\": 46, \"127\": 1, \"93\": 5, \"11\": 7, \"43\": 2, \"32\": 1, \"109\": 3, \"102\": 4, \"87\": 1, \"62\": 2, \"40\": 1, \"118\": 5, \"101\": 1, \"84\": 7, \"33\": 4, \"107\": 3, \"96\": 1, \"116\": 2, \"14\": 8, \"126\": 1, \"10\": 1, \"117\": 2}, \"25\": {\"25\": 14, \"75\": 1, \"37\": 1}, \"12\": {\"12\": 54, \"111\": 8, \"30\": 3, \"98\": 5, \"0\": 4, \"15\": 5, \"4\": 1, \"3\": 2, \"114\": 2, \"127\": 3, \"7\": 1, \"1\": 1, \"103\": 1, \"65\": 2, \"37\": 1, \"72\": 2, \"46\": 1, \"83\": 1, \"108\": 2, \"88\": 1, \"106\": 3, \"10\": 1}, \"72\": {\"72\": 22, \"68\": 2, \"111\": 1, \"95\": 1, \"27\": 1, \"98\": 1}, \"0\": {\"0\": 72, \"30\": 7, \"49\": 2, \"98\": 5, \"12\": 6, \"111\": 1, \"110\": 1, \"101\": 1, \"3\": 1, \"7\": 2, \"127\": 1, \"10\": 4, \"106\": 2, \"91\": 1, \"35\": 2, \"72\": 2, \"126\": 1, \"125\": 1, \"86\": 1, \"36\": 1, \"108\": 1, \"8\": 1}, \"50\": {\"93\": 1, \"107\": 1, \"14\": 2, \"50\": 8, \"9\": 1, \"53\": 1, \"16\": 1, \"100\": 1}, \"107\": {\"93\": 4, \"107\": 97, \"23\": 1, \"84\": 8, \"14\": 1, \"40\": 17, \"29\": 1, \"33\": 5, \"1\": 2, \"16\": 1, \"62\": 1, \"11\": 1, \"4\": 1}, \"124\": {\"53\": 2, \"5\": 3, \"124\": 67, \"47\": 1, \"77\": 1, \"41\": 2, \"56\": 1, \"71\": 1, \"108\": 1, \"22\": 1, \"100\": 1, \"122\": 1, \"32\": 1, \"40\": 3, \"127\": 6, \"15\": 1, \"29\": 2, \"4\": 4, \"105\": 3, \"1\": 5, \"110\": 2, \"10\": 2, \"88\": 1, \"107\": 1, \"55\": 1, \"72\": 1, \"9\": 1, \"87\": 1, \"125\": 1, \"8\": 3, \"114\": 2, \"111\": 1}, \"53\": {\"53\": 8, \"43\": 1, \"79\": 1, \"71\": 1, \"85\": 1, \"16\": 1, \"120\": 1, \"88\": 1, \"48\": 3, \"34\": 1, \"11\": 1}, \"66\": {\"66\": 9, \"20\": 2, \"9\": 1, \"34\": 1, \"22\": 1, \"74\": 1, \"88\": 1}, \"47\": {\"95\": 1, \"47\": 7, \"105\": 1, \"124\": 2, \"88\": 1}, \"24\": {\"24\": 24, \"128\": 1, \"25\": 2, \"37\": 1, \"83\": 2, \"34\": 2, \"36\": 6, \"30\": 1, \"73\": 1, \"7\": 1, \"65\": 1, \"52\": 1, \"108\": 1, \"70\": 1, \"111\": 1, \"125\": 1, \"39\": 1}, \"95\": {\"95\": 28, \"39\": 1, \"127\": 1, \"103\": 2}, \"98\": {\"98\": 78, \"51\": 2, \"99\": 2, \"83\": 1, \"70\": 1, \"108\": 2, \"8\": 7, \"12\": 1, \"0\": 4, \"10\": 2, \"91\": 1, \"30\": 1, \"113\": 1, \"3\": 1, \"105\": 1, \"106\": 1}, \"63\": {\"63\": 12, \"123\": 2, \"2\": 1, \"16\": 1}, \"3\": {\"71\": 3, \"3\": 84, \"68\": 1, \"111\": 1, \"39\": 1, \"70\": 1, \"108\": 2, \"4\": 1, \"0\": 2, \"10\": 1, \"7\": 3, \"88\": 2, \"114\": 2, \"58\": 1, \"127\": 5, \"5\": 2, \"30\": 1, \"8\": 1, \"106\": 1, \"18\": 1}, \"14\": {\"50\": 2, \"14\": 53, \"82\": 1, \"69\": 2, \"93\": 4, \"40\": 3, \"62\": 3, \"102\": 2, \"11\": 2, \"108\": 1, \"74\": 1, \"9\": 1, \"129\": 1, \"33\": 2, \"16\": 1, \"84\": 1}, \"1\": {\"110\": 5, \"1\": 59, \"3\": 1, \"32\": 1, \"40\": 2, \"5\": 8, \"105\": 6, \"84\": 1, \"107\": 2, \"124\": 2, \"7\": 1, \"114\": 8, \"87\": 2, \"60\": 1, \"128\": 1, \"122\": 2, \"4\": 6}, \"38\": {\"38\": 11, \"32\": 1, \"45\": 1, \"78\": 1, \"69\": 2}, \"110\": {\"110\": 25, \"1\": 4, \"88\": 5, \"34\": 2, \"32\": 1, \"8\": 2, \"23\": 1, \"71\": 2, \"40\": 1, \"24\": 1, \"105\": 6, \"90\": 1, \"128\": 1, \"122\": 2, \"70\": 4, \"4\": 1, \"5\": 6, \"87\": 2, \"18\": 1, \"108\": 4, \"10\": 3, \"39\": 1, \"114\": 7, \"129\": 1, \"60\": 2, \"7\": 1, \"124\": 1, \"27\": 1, \"127\": 1, \"125\": 1, \"126\": 1}, \"17\": {\"67\": 1, \"110\": 1, \"39\": 1, \"100\": 1, \"19\": 1, \"129\": 1, \"17\": 1, \"1\": 1, \"109\": 1, \"44\": 1, \"40\": 1, \"127\": 1, \"74\": 2, \"4\": 1, \"120\": 1}, \"30\": {\"30\": 40, \"25\": 1, \"8\": 5, \"97\": 1, \"60\": 1, \"98\": 7, \"0\": 7, \"15\": 2, \"4\": 1, \"108\": 1, \"106\": 4, \"73\": 1, \"10\": 1, \"93\": 1, \"3\": 1, \"127\": 1, \"103\": 1, \"27\": 1, \"19\": 1, \"85\": 1, \"24\": 1, \"111\": 2, \"94\": 2}, \"56\": {\"56\": 7, \"27\": 1, \"57\": 1, \"41\": 1, \"129\": 1, \"125\": 1}, \"27\": {\"24\": 3, \"27\": 41, \"83\": 1, \"15\": 5, \"101\": 1, \"0\": 1, \"36\": 13, \"111\": 1, \"30\": 3, \"128\": 1, \"7\": 2, \"125\": 4, \"98\": 2, \"106\": 5, \"8\": 2, \"108\": 2, \"12\": 1, \"51\": 1, \"124\": 1, \"94\": 1, \"29\": 1, \"6\": 1, \"86\": 1, \"126\": 1, \"39\": 1}, \"104\": {\"104\": 9, \"107\": 2, \"82\": 2, \"9\": 1, \"41\": 1, \"100\": 1}, \"97\": {\"112\": 1, \"72\": 1, \"97\": 7, \"42\": 1, \"49\": 1, \"34\": 1, \"111\": 2, \"47\": 1, \"83\": 1, \"12\": 1, \"73\": 2, \"36\": 1}, \"42\": {\"103\": 1, \"56\": 1, \"25\": 1, \"42\": 5, \"125\": 2, \"95\": 1, \"97\": 1, \"72\": 1, \"124\": 1, \"49\": 1, \"129\": 1, \"3\": 1, \"112\": 1, \"8\": 1, \"70\": 1, \"58\": 1, \"108\": 1, \"34\": 1, \"27\": 1, \"10\": 1, \"0\": 1, \"36\": 1, \"5\": 1}, \"39\": {\"23\": 1, \"39\": 52, \"123\": 1, \"63\": 1, \"81\": 4, \"8\": 2, \"43\": 4, \"126\": 6, \"14\": 2, \"117\": 7, \"118\": 4, \"113\": 6, \"11\": 1, \"109\": 4, \"2\": 2, \"82\": 1, \"21\": 2, \"26\": 2, \"18\": 2, \"93\": 1, \"5\": 2, \"16\": 1}, \"70\": {\"23\": 1, \"10\": 2, \"70\": 19, \"53\": 1, \"31\": 1, \"110\": 1, \"86\": 1, \"127\": 3, \"88\": 9, \"128\": 1, \"8\": 7, \"90\": 4, \"7\": 1, \"4\": 1, \"1\": 1, \"36\": 1, \"108\": 5, \"3\": 2, \"49\": 1, \"120\": 1, \"98\": 2, \"91\": 1, \"28\": 1, \"126\": 1, \"0\": 1, \"124\": 1, \"71\": 1, \"105\": 1}, \"86\": {\"77\": 1, \"52\": 1, \"86\": 11, \"108\": 3, \"32\": 2, \"110\": 1, \"7\": 3, \"3\": 1, \"0\": 1, \"10\": 2, \"114\": 1, \"8\": 1}, \"119\": {\"119\": 14, \"69\": 1, \"48\": 1}, \"77\": {\"77\": 14, \"65\": 1, \"128\": 1}, \"59\": {\"24\": 1, \"59\": 7, \"98\": 1, \"8\": 1, \"51\": 1, \"37\": 1}, \"22\": {\"76\": 1, \"53\": 1, \"45\": 1, \"22\": 10, \"57\": 1, \"100\": 1, \"48\": 1}, \"79\": {\"79\": 10, \"33\": 1, \"17\": 1}, \"80\": {\"80\": 16}, \"111\": {\"111\": 88, \"112\": 1, \"94\": 1, \"77\": 1, \"71\": 3, \"3\": 7, \"114\": 1, \"98\": 1, \"127\": 7, \"32\": 1, \"128\": 1, \"8\": 3, \"106\": 1, \"108\": 2, \"16\": 1, \"4\": 1, \"68\": 1, \"10\": 2, \"124\": 1, \"12\": 3, \"73\": 2, \"5\": 2, \"85\": 1}, \"82\": {\"107\": 1, \"82\": 21, \"69\": 5, \"33\": 1}, \"126\": {\"126\": 80, \"78\": 1, \"39\": 8, \"21\": 7, \"121\": 3, \"117\": 4, \"70\": 1, \"18\": 10, \"62\": 1, \"113\": 3, \"88\": 3, \"26\": 2, \"109\": 1}, \"32\": {\"32\": 17, \"33\": 1, \"16\": 2, \"102\": 1, \"94\": 1, \"43\": 1, \"20\": 1, \"108\": 2, \"96\": 1, \"19\": 1, \"93\": 1, \"44\": 1, \"10\": 1, \"122\": 1}, \"106\": {\"106\": 57, \"109\": 1, \"15\": 14, \"30\": 3, \"111\": 4, \"8\": 2, \"27\": 4, \"0\": 3, \"36\": 5, \"52\": 1, \"73\": 1, \"12\": 4, \"39\": 1}, \"60\": {\"60\": 16, \"101\": 1, \"45\": 1, \"22\": 3, \"85\": 1, \"114\": 1, \"70\": 1, \"110\": 1, \"24\": 1, \"5\": 1, \"56\": 1}, \"114\": {\"114\": 66, \"4\": 3, \"1\": 7, \"105\": 9, \"5\": 8, \"8\": 2, \"124\": 1, \"129\": 1, \"56\": 1, \"83\": 1, \"9\": 1, \"86\": 1, \"40\": 2, \"127\": 1, \"71\": 1, \"44\": 1, \"3\": 1, \"39\": 1}}, \"C_3\": {\"14\": {\"29\": 2, \"9\": 1, \"24\": 5, \"43\": 4, \"14\": 8, \"4\": 2, \"10\": 2, \"49\": 1, \"1\": 2, \"15\": 1, \"19\": 1, \"56\": 2, \"21\": 1, \"44\": 3, \"40\": 1, \"5\": 1, \"50\": 1, \"37\": 1, \"23\": 1}, \"18\": {\"18\": 70, \"30\": 3, \"46\": 2, \"23\": 7, \"26\": 1, \"34\": 1}, \"30\": {\"30\": 119, \"6\": 1}, \"16\": {\"23\": 12, \"16\": 134, \"43\": 1, \"11\": 2, \"18\": 2, \"52\": 1, \"15\": 4}, \"1\": {\"1\": 85, \"28\": 2, \"5\": 2, \"9\": 2, \"57\": 6, \"46\": 1, \"47\": 1, \"3\": 1}, \"20\": {\"20\": 127, \"54\": 2, \"8\": 2, \"53\": 1}, \"7\": {\"7\": 32, \"24\": 1, \"15\": 1, \"43\": 1, \"0\": 1}, \"52\": {\"52\": 124, \"0\": 2, \"46\": 1, \"23\": 2, \"48\": 1}, \"9\": {\"9\": 126, \"3\": 1, \"21\": 1, \"17\": 3, \"46\": 3, \"29\": 4, \"55\": 1, \"53\": 1}, \"23\": {\"23\": 122, \"15\": 2, \"47\": 1, \"18\": 7, \"9\": 1, \"52\": 3, \"16\": 4, \"0\": 4}, \"55\": {\"55\": 113, \"6\": 4, \"42\": 1, \"31\": 1, \"5\": 8, \"46\": 2, \"3\": 12, \"9\": 1, \"17\": 5, \"27\": 5, \"47\": 2, \"1\": 1, \"50\": 4, \"26\": 1, \"48\": 2, \"54\": 1, \"23\": 1}, \"29\": {\"29\": 106, \"9\": 12, \"42\": 1, \"35\": 2, \"5\": 1, \"19\": 2, \"55\": 2}, \"56\": {\"56\": 120, \"10\": 1, \"24\": 5, \"22\": 5, \"13\": 1, \"14\": 1, \"43\": 1}, \"3\": {\"6\": 10, \"55\": 9, \"3\": 43, \"46\": 10, \"50\": 11, \"48\": 5, \"9\": 8, \"37\": 2, \"51\": 2, \"36\": 4, \"21\": 6, \"29\": 2, \"53\": 2, \"54\": 2, \"1\": 1, \"30\": 1, \"25\": 4, \"57\": 1, \"33\": 1}, \"42\": {\"3\": 2, \"42\": 14, \"57\": 3, \"17\": 4, \"46\": 1, \"48\": 3, \"6\": 1}, \"6\": {\"6\": 65, \"33\": 1, \"26\": 1, \"27\": 3, \"3\": 8, \"46\": 3, \"54\": 2, \"52\": 1, \"50\": 2, \"2\": 1, \"36\": 1}, \"5\": {\"5\": 92, \"31\": 1, \"39\": 1, \"28\": 2, \"47\": 6, \"3\": 2, \"0\": 2, \"1\": 5, \"57\": 3, \"46\": 1, \"23\": 1}, \"27\": {\"27\": 123, \"54\": 2, \"17\": 4, \"9\": 8, \"6\": 1, \"25\": 3, \"29\": 1, \"3\": 1, \"50\": 1}, \"47\": {\"46\": 4, \"47\": 63, \"39\": 1, \"31\": 2, \"34\": 2, \"41\": 1, \"57\": 5, \"22\": 1, \"23\": 1, \"6\": 1, \"48\": 5, \"5\": 2, \"1\": 2, \"44\": 1, \"55\": 1}, \"39\": {\"39\": 15, \"46\": 1}, \"34\": {\"34\": 32}, \"4\": {\"4\": 106, \"2\": 1, \"32\": 1, \"45\": 1, \"19\": 4, \"27\": 4, \"40\": 5, \"25\": 2, \"53\": 1, \"9\": 1}, \"24\": {\"24\": 97, \"49\": 1, \"7\": 1, \"10\": 3, \"11\": 1, \"43\": 1}, \"46\": {\"41\": 1, \"46\": 61, \"55\": 5, \"21\": 2, \"23\": 4, \"37\": 2, \"53\": 1, \"50\": 3, \"6\": 8, \"52\": 3, \"15\": 2, \"3\": 8, \"36\": 1, \"47\": 2, \"16\": 2, \"0\": 4, \"11\": 2, \"48\": 1, \"39\": 1, \"34\": 1, \"7\": 1, \"17\": 2, \"18\": 1}, \"50\": {\"50\": 83, \"54\": 2, \"53\": 9, \"25\": 5, \"36\": 2, \"3\": 9, \"51\": 2, \"6\": 6, \"57\": 1, \"8\": 1, \"46\": 2, \"48\": 1, \"17\": 1, \"21\": 1, \"27\": 1}, \"38\": {\"38\": 27, \"25\": 1}, \"54\": {\"54\": 99, \"36\": 1}, \"35\": {\"35\": 27, \"31\": 1}, \"2\": {\"2\": 32}, \"41\": {\"41\": 27, \"48\": 1}, \"57\": {\"57\": 102, \"34\": 1, \"1\": 7, \"47\": 2, \"48\": 1, \"9\": 2, \"3\": 2, \"22\": 1}, \"25\": {\"25\": 137, \"50\": 10, \"46\": 1, \"54\": 1, \"8\": 1}, \"48\": {\"48\": 105, \"3\": 1, \"47\": 1, \"17\": 2, \"9\": 1, \"46\": 1, \"39\": 1, \"5\": 1, \"6\": 2, \"23\": 1}, \"33\": {\"33\": 24, \"17\": 1, \"55\": 1, \"6\": 1, \"48\": 1}, \"45\": {\"45\": 37, \"36\": 2, \"50\": 2, \"4\": 5, \"54\": 4, \"32\": 2, \"21\": 1, \"12\": 3, \"42\": 1, \"53\": 1, \"27\": 1, \"19\": 1}, \"13\": {\"13\": 126}, \"36\": {\"36\": 96, \"3\": 1, \"27\": 3}, \"43\": {\"43\": 127, \"7\": 1, \"11\": 2, \"49\": 1, \"24\": 1}, \"28\": {\"28\": 19, \"1\": 1, \"55\": 2, \"52\": 1, \"57\": 1, \"48\": 1, \"5\": 1, \"0\": 1, \"9\": 1}, \"0\": {\"0\": 112, \"43\": 2, \"23\": 5, \"11\": 1, \"26\": 1, \"7\": 1, \"57\": 1, \"15\": 1}, \"12\": {\"12\": 86, \"38\": 2, \"2\": 1, \"54\": 2, \"36\": 1}, \"31\": {\"31\": 25, \"5\": 1, \"35\": 1, \"22\": 1}, \"40\": {\"40\": 79, \"4\": 8, \"19\": 20, \"45\": 1, \"55\": 2, \"44\": 5, \"53\": 1}, \"44\": {\"3\": 1, \"44\": 67, \"36\": 1, \"19\": 9, \"51\": 1, \"4\": 2, \"40\": 4, \"27\": 1, \"9\": 1, \"54\": 1}, \"32\": {\"32\": 28}, \"26\": {\"26\": 22, \"3\": 1, \"34\": 1}, \"8\": {\"8\": 111, \"54\": 3, \"20\": 1, \"50\": 1}, \"10\": {\"10\": 61, \"14\": 1, \"24\": 2}, \"15\": {\"15\": 131, \"55\": 1, \"48\": 1, \"6\": 1, \"43\": 1, \"46\": 1, \"16\": 3, \"23\": 3}, \"21\": {\"50\": 5, \"55\": 1, \"21\": 91, \"25\": 2, \"51\": 11, \"54\": 1, \"27\": 2, \"53\": 4, \"1\": 1, \"48\": 1, \"57\": 1, \"9\": 1, \"36\": 1, \"20\": 1, \"3\": 1, \"33\": 1, \"46\": 1, \"17\": 2}, \"37\": {\"37\": 28}, \"17\": {\"17\": 106, \"55\": 1, \"9\": 1}, \"51\": {\"51\": 101, \"27\": 1, \"3\": 1, \"21\": 8, \"53\": 9, \"9\": 2, \"50\": 2}, \"53\": {\"53\": 126, \"21\": 3, \"54\": 5, \"50\": 4, \"36\": 1, \"51\": 4, \"25\": 1}, \"19\": {\"19\": 110, \"9\": 2, \"50\": 3, \"4\": 4, \"44\": 5, \"29\": 2, \"40\": 6, \"27\": 2, \"6\": 1, \"55\": 1}, \"49\": {\"49\": 20}, \"11\": {\"11\": 118, \"52\": 6, \"15\": 7, \"16\": 2, \"43\": 2, \"24\": 3}, \"22\": {\"22\": 109, \"7\": 2, \"5\": 2, \"56\": 7, \"1\": 2, \"46\": 1, \"28\": 1, \"43\": 1, \"24\": 2, \"57\": 1, \"13\": 2}}}, \"per_domain_accuracy\": {\"O_8\": {\"accuracy\": 0.8653645833333333, \"source?\": true}, \"O_38\": {\"accuracy\": 0.8921875, \"source?\": true}, \"O_26\": {\"accuracy\": 0.7119791666666667, \"source?\": true}, \"O_20\": {\"accuracy\": 0.8375, \"source?\": true}, \"O_50\": {\"accuracy\": 0.8765625, \"source?\": true}, \"O_32\": {\"accuracy\": 0.8565104166666667, \"source?\": true}, \"O_44\": {\"accuracy\": 0.7403645833333333, \"source?\": true}, \"O_14\": {\"accuracy\": 0.9067708333333333, \"source?\": true}, \"C_2\": {\"accuracy\": 0.8442826704545454, \"source?\": false}, \"W_2\": {\"accuracy\": 0.5505514705882353, \"source?\": false}, \"C_5\": {\"accuracy\": 0.8200491573033708, \"source?\": false}, \"C_1\": {\"accuracy\": 0.8621222527472527, \"source?\": false}, \"W_4\": {\"accuracy\": 0.5064300411522634, \"source?\": false}, \"C_4\": {\"accuracy\": 0.8491766467065869, \"source?\": false}, \"W_1\": {\"accuracy\": 0.5952127659574468, \"source?\": false}, \"W_3\": {\"accuracy\": 0.5754405286343612, \"source?\": false}, \"C_3\": {\"accuracy\": 0.8399122807017544, \"source?\": false}}}, \"history\": {\"epoch_indices\": [1, 2, 3, 4, 5, 6, 7, 8, 9], \"train_label_loss\": [1.0074747934627035, 0.7425984419272503, 0.5862481626493502, 0.5139358170053345, 0.4596150091572088, 0.4219859128851177, 0.3829011858770779, 0.34228790735055337, 0.30851580390548666], \"source_val_label_loss\": [1.0273417234420776, 0.7523697018623352, 0.5753718018531799, 0.4812420904636383, 0.44987210631370544, 0.43514272570610046, 0.4103274345397949, 0.3800636827945709, 0.3882611095905304], \"target_val_label_loss\": [5.388185024261475, 4.207306385040283, 4.491420745849609, 4.431421279907227, 4.804250240325928, 5.458095550537109, 5.331064224243164, 5.937479019165039, 6.981300354003906], \"source_val_acc_label\": [0.6392252604166667, 0.7196614583333333, 0.7894205729166667, 0.8251302083333333, 0.8359049479166667, 0.8407877604166667, 0.8494466145833334, 0.86279296875, 0.8549479166666667], \"target_val_acc_label\": [0.632859796367639, 0.6653996973032471, 0.6636626307099615, 0.6845074298293891, 0.6942762795817281, 0.684696615299945, 0.6915760869565217, 0.6833723170060539, 0.6695273802971932]}, \"dataset_metrics\": {\"source\": {\"train\": {\"n_unique_x\": 179200, \"n_unique_y\": 16, \"n_batch/episode\": 6720}, \"val\": {\"n_unique_x\": 38400, \"n_unique_y\": 16, \"n_batch/episode\": 960}, \"test\": {\"n_unique_x\": 38400, \"n_unique_y\": 16, \"n_batch/episode\": 960}}, \"target\": {\"train\": {\"n_unique_x\": 364101, \"n_unique_y\": 130, \"n_batch/episode\": 13150}, \"val\": {\"n_unique_x\": 77154, \"n_unique_y\": 130, \"n_batch/episode\": 1817}, \"test\": {\"n_unique_x\": 78411, \"n_unique_y\": 130, \"n_batch/episode\": 1853}}}}'"
      ]
     },
     "execution_count": 29,
     "metadata": {},
     "output_type": "execute_result"
    }
   ],
   "source": [
    "json.dumps(experiment)"
   ]
  }
 ],
 "metadata": {
  "celltoolbar": "Tags",
  "kernelspec": {
   "display_name": "Python 3 (ipykernel)",
   "language": "python",
   "name": "python3"
  },
  "language_info": {
   "codemirror_mode": {
    "name": "ipython",
    "version": 3
   },
   "file_extension": ".py",
   "mimetype": "text/x-python",
   "name": "python",
   "nbconvert_exporter": "python",
   "pygments_lexer": "ipython3",
   "version": "3.8.10"
  },
  "papermill": {
   "default_parameters": {},
   "duration": 1812.029161,
   "end_time": "2022-03-21T01:21:02.290837",
   "environment_variables": {},
   "exception": null,
   "input_path": "/mnt/wd500GB/CSC500/csc500-main/csc500-notebooks/templates/tl_ptn_template.ipynb",
   "output_path": "trial.ipynb",
   "parameters": {
    "parameters": {
     "BEST_MODEL_PATH": "./best_model.pth",
     "NUM_LOGS_PER_EPOCH": 10,
     "criteria_for_best": "target_accuracy",
     "dataset_seed": 154325,
     "datasets": [
      {
       "domain_prefix": "C_",
       "domains": [
        1,
        2,
        3,
        4,
        5
       ],
       "episode_transforms": [],
       "labels": [
        "1-10.",
        "1-11.",
        "1-15.",
        "1-16.",
        "1-17.",
        "1-18.",
        "1-19.",
        "10-4.",
        "10-7.",
        "11-1.",
        "11-14.",
        "11-17.",
        "11-20.",
        "11-7.",
        "13-20.",
        "13-8.",
        "14-10.",
        "14-11.",
        "14-14.",
        "14-7.",
        "15-1.",
        "15-20.",
        "16-1.",
        "16-16.",
        "17-10.",
        "17-11.",
        "17-2.",
        "19-1.",
        "19-16.",
        "19-19.",
        "19-20.",
        "19-3.",
        "2-10.",
        "2-11.",
        "2-17.",
        "2-18.",
        "2-20.",
        "2-3.",
        "2-4.",
        "2-5.",
        "2-6.",
        "2-7.",
        "2-8.",
        "3-13.",
        "3-18.",
        "3-3.",
        "4-1.",
        "4-10.",
        "4-11.",
        "4-19.",
        "5-5.",
        "6-15.",
        "7-10.",
        "7-14.",
        "8-18.",
        "8-20.",
        "8-3.",
        "8-8."
       ],
       "num_examples_per_domain_per_label": -1,
       "pickle_path": "/mnt/wd500GB/CSC500/csc500-main/datasets/cores.stratified_ds.2022A.pkl",
       "source_or_target_dataset": "target",
       "x_transforms": [
        "unit_mag",
        "take_200"
       ]
      },
      {
       "domain_prefix": "W_",
       "domains": [
        1,
        2,
        3,
        4
       ],
       "episode_transforms": [],
       "labels": [
        "1-10",
        "1-12",
        "1-14",
        "1-16",
        "1-18",
        "1-19",
        "1-8",
        "10-11",
        "10-17",
        "10-4",
        "10-7",
        "11-1",
        "11-10",
        "11-19",
        "11-20",
        "11-4",
        "11-7",
        "12-19",
        "12-20",
        "12-7",
        "13-14",
        "13-18",
        "13-19",
        "13-20",
        "13-3",
        "13-7",
        "14-10",
        "14-11",
        "14-12",
        "14-13",
        "14-14",
        "14-19",
        "14-20",
        "14-7",
        "14-8",
        "14-9",
        "15-1",
        "15-19",
        "15-6",
        "16-1",
        "16-16",
        "16-19",
        "16-20",
        "17-10",
        "17-11",
        "18-1",
        "18-10",
        "18-11",
        "18-12",
        "18-13",
        "18-14",
        "18-15",
        "18-16",
        "18-17",
        "18-19",
        "18-2",
        "18-20",
        "18-4",
        "18-5",
        "18-7",
        "18-8",
        "18-9",
        "19-1",
        "19-10",
        "19-11",
        "19-12",
        "19-13",
        "19-14",
        "19-15",
        "19-19",
        "19-2",
        "19-20",
        "19-3",
        "19-4",
        "19-6",
        "19-7",
        "19-8",
        "19-9",
        "2-1",
        "2-13",
        "2-15",
        "2-3",
        "2-4",
        "2-5",
        "2-6",
        "2-7",
        "2-8",
        "20-1",
        "20-12",
        "20-14",
        "20-15",
        "20-16",
        "20-18",
        "20-19",
        "20-20",
        "20-3",
        "20-4",
        "20-5",
        "20-7",
        "20-8",
        "3-1",
        "3-13",
        "3-18",
        "3-2",
        "3-8",
        "4-1",
        "4-10",
        "4-11",
        "5-1",
        "5-5",
        "6-1",
        "6-15",
        "6-6",
        "7-10",
        "7-11",
        "7-12",
        "7-13",
        "7-14",
        "7-7",
        "7-8",
        "7-9",
        "8-1",
        "8-13",
        "8-14",
        "8-18",
        "8-20",
        "8-3",
        "8-8",
        "9-1",
        "9-7"
       ],
       "num_examples_per_domain_per_label": -1,
       "pickle_path": "/mnt/wd500GB/CSC500/csc500-main/datasets/wisig.node3-19.stratified_ds.2022A.pkl",
       "source_or_target_dataset": "target",
       "x_transforms": [
        "unit_mag",
        "take_200"
       ]
      },
      {
       "domain_prefix": "O_",
       "domains": [
        32,
        38,
        8,
        44,
        14,
        50,
        20,
        26
       ],
       "episode_transforms": [],
       "labels": [
        "3123D52",
        "3123D65",
        "3123D79",
        "3123D80",
        "3123D54",
        "3123D70",
        "3123D7B",
        "3123D89",
        "3123D58",
        "3123D76",
        "3123D7D",
        "3123EFE",
        "3123D64",
        "3123D78",
        "3123D7E",
        "3124E4A"
       ],
       "num_examples_per_domain_per_label": 2000,
       "pickle_path": "/mnt/wd500GB/CSC500/csc500-main/datasets/oracle.Run1_framed_2000Examples_stratified_ds.2022A.pkl",
       "source_or_target_dataset": "source",
       "x_transforms": [
        "unit_mag",
        "take_200",
        "resample_20Msps_to_25Msps"
       ]
      }
     ],
     "device": "cuda",
     "experiment_name": "tl_3Av2:oracle.run1.framed -> cores+wisig",
     "lr": 0.0001,
     "n_epoch": 50,
     "n_query": 2,
     "n_shot": 3,
     "n_way": 16,
     "patience": 3,
     "seed": 154325,
     "test_k_factor": 2,
     "torch_default_dtype": "torch.float32",
     "train_k_factor": 3,
     "val_k_factor": 2,
     "x_net": [
      {
       "class": "nnReshape",
       "kargs": {
        "shape": [
         -1,
         1,
         2,
         200
        ]
       }
      },
      {
       "class": "Conv2d",
       "kargs": {
        "bias": false,
        "in_channels": 1,
        "kernel_size": [
         1,
         7
        ],
        "out_channels": 256,
        "padding": [
         0,
         3
        ]
       }
      },
      {
       "class": "ReLU",
       "kargs": {
        "inplace": true
       }
      },
      {
       "class": "BatchNorm2d",
       "kargs": {
        "num_features": 256
       }
      },
      {
       "class": "Conv2d",
       "kargs": {
        "bias": true,
        "in_channels": 256,
        "kernel_size": [
         2,
         7
        ],
        "out_channels": 80,
        "padding": [
         0,
         3
        ]
       }
      },
      {
       "class": "ReLU",
       "kargs": {
        "inplace": true
       }
      },
      {
       "class": "BatchNorm2d",
       "kargs": {
        "num_features": 80
       }
      },
      {
       "class": "Flatten",
       "kargs": {}
      },
      {
       "class": "Linear",
       "kargs": {
        "in_features": 16000,
        "out_features": 256
       }
      },
      {
       "class": "ReLU",
       "kargs": {
        "inplace": true
       }
      },
      {
       "class": "BatchNorm1d",
       "kargs": {
        "num_features": 256
       }
      },
      {
       "class": "Linear",
       "kargs": {
        "in_features": 256,
        "out_features": 256
       }
      }
     ],
     "x_shape": [
      2,
      200
     ]
    }
   },
   "start_time": "2022-03-21T00:50:50.261676",
   "version": "2.3.4"
  }
 },
 "nbformat": 4,
 "nbformat_minor": 5
}