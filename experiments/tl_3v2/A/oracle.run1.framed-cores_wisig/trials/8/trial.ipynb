{
 "cells": [
  {
   "cell_type": "markdown",
   "id": "9fea5f46",
   "metadata": {
    "papermill": {
     "duration": 0.013442,
     "end_time": "2022-03-21T01:21:03.057877",
     "exception": false,
     "start_time": "2022-03-21T01:21:03.044435",
     "status": "completed"
    },
    "tags": []
   },
   "source": [
    "# Transfer Learning Template"
   ]
  },
  {
   "cell_type": "code",
   "execution_count": 1,
   "id": "0902182a",
   "metadata": {
    "execution": {
     "iopub.execute_input": "2022-03-21T01:21:03.098283Z",
     "iopub.status.busy": "2022-03-21T01:21:03.090427Z",
     "iopub.status.idle": "2022-03-21T01:21:04.107324Z",
     "shell.execute_reply": "2022-03-21T01:21:04.106807Z"
    },
    "papermill": {
     "duration": 1.036643,
     "end_time": "2022-03-21T01:21:04.107434",
     "exception": false,
     "start_time": "2022-03-21T01:21:03.070791",
     "status": "completed"
    },
    "tags": []
   },
   "outputs": [],
   "source": [
    "%load_ext autoreload\n",
    "%autoreload 2\n",
    "%matplotlib inline\n",
    "\n",
    "    \n",
    "import os, json, sys, time, random\n",
    "import numpy as np\n",
    "import torch\n",
    "from torch.optim import Adam\n",
    "from  easydict import EasyDict\n",
    "import matplotlib.pyplot as plt\n",
    "\n",
    "from steves_models.steves_ptn import Steves_Prototypical_Network\n",
    "\n",
    "from steves_utils.lazy_iterable_wrapper import Lazy_Iterable_Wrapper\n",
    "from steves_utils.iterable_aggregator import Iterable_Aggregator\n",
    "from steves_utils.ptn_train_eval_test_jig import  PTN_Train_Eval_Test_Jig\n",
    "from steves_utils.torch_sequential_builder import build_sequential\n",
    "from steves_utils.torch_utils import get_dataset_metrics, ptn_confusion_by_domain_over_dataloader\n",
    "from steves_utils.utils_v2 import (per_domain_accuracy_from_confusion, get_datasets_base_path)\n",
    "from steves_utils.PTN.utils import independent_accuracy_assesment\n",
    "\n",
    "from torch.utils.data import DataLoader\n",
    "\n",
    "from steves_utils.stratified_dataset.episodic_accessor import Episodic_Accessor_Factory\n",
    "\n",
    "from steves_utils.ptn_do_report import (\n",
    "    get_loss_curve,\n",
    "    get_results_table,\n",
    "    get_parameters_table,\n",
    "    get_domain_accuracies,\n",
    ")\n",
    "\n",
    "from steves_utils.transforms import get_chained_transform"
   ]
  },
  {
   "cell_type": "markdown",
   "id": "41c840b4",
   "metadata": {
    "papermill": {
     "duration": 0.014289,
     "end_time": "2022-03-21T01:21:04.138904",
     "exception": false,
     "start_time": "2022-03-21T01:21:04.124615",
     "status": "completed"
    },
    "tags": []
   },
   "source": [
    "# Allowed Parameters\n",
    "These are allowed parameters, not defaults\n",
    "Each of these values need to be present in the injected parameters (the notebook will raise an exception if they are not present)\n",
    "\n",
    "Papermill uses the cell tag \"parameters\" to inject the real parameters below this cell.\n",
    "Enable tags to see what I mean"
   ]
  },
  {
   "cell_type": "code",
   "execution_count": 2,
   "id": "fd44eb83",
   "metadata": {
    "execution": {
     "iopub.execute_input": "2022-03-21T01:21:04.168085Z",
     "iopub.status.busy": "2022-03-21T01:21:04.167819Z",
     "iopub.status.idle": "2022-03-21T01:21:04.181435Z",
     "shell.execute_reply": "2022-03-21T01:21:04.181749Z"
    },
    "papermill": {
     "duration": 0.029754,
     "end_time": "2022-03-21T01:21:04.181860",
     "exception": false,
     "start_time": "2022-03-21T01:21:04.152106",
     "status": "completed"
    },
    "tags": []
   },
   "outputs": [],
   "source": [
    "required_parameters = {\n",
    "    \"experiment_name\",\n",
    "    \"lr\",\n",
    "    \"device\",\n",
    "    \"seed\",\n",
    "    \"dataset_seed\",\n",
    "    \"n_shot\",\n",
    "    \"n_query\",\n",
    "    \"n_way\",\n",
    "    \"train_k_factor\",\n",
    "    \"val_k_factor\",\n",
    "    \"test_k_factor\",\n",
    "    \"n_epoch\",\n",
    "    \"patience\",\n",
    "    \"criteria_for_best\",\n",
    "    \"x_net\",\n",
    "    \"datasets\",\n",
    "    \"torch_default_dtype\",\n",
    "    \"NUM_LOGS_PER_EPOCH\",\n",
    "    \"BEST_MODEL_PATH\",\n",
    "    \"x_shape\",\n",
    "}"
   ]
  },
  {
   "cell_type": "code",
   "execution_count": 3,
   "id": "fa3f0049",
   "metadata": {
    "execution": {
     "iopub.execute_input": "2022-03-21T01:21:04.223215Z",
     "iopub.status.busy": "2022-03-21T01:21:04.222928Z",
     "iopub.status.idle": "2022-03-21T01:21:04.236191Z",
     "shell.execute_reply": "2022-03-21T01:21:04.236585Z"
    },
    "papermill": {
     "duration": 0.037549,
     "end_time": "2022-03-21T01:21:04.236717",
     "exception": false,
     "start_time": "2022-03-21T01:21:04.199168",
     "status": "completed"
    },
    "tags": [
     "parameters"
    ]
   },
   "outputs": [],
   "source": [
    "from steves_utils.CORES.utils import (\n",
    "    ALL_NODES,\n",
    "    ALL_NODES_MINIMUM_1000_EXAMPLES,\n",
    "    ALL_DAYS\n",
    ")\n",
    "\n",
    "from steves_utils.ORACLE.utils_v2 import (\n",
    "    ALL_DISTANCES_FEET_NARROWED,\n",
    "    ALL_RUNS,\n",
    "    ALL_SERIAL_NUMBERS,\n",
    ")\n",
    "\n",
    "standalone_parameters = {}\n",
    "standalone_parameters[\"experiment_name\"] = \"STANDALONE PTN\"\n",
    "standalone_parameters[\"lr\"] = 0.001\n",
    "standalone_parameters[\"device\"] = \"cuda\"\n",
    "\n",
    "standalone_parameters[\"seed\"] = 1337\n",
    "standalone_parameters[\"dataset_seed\"] = 1337\n",
    "\n",
    "standalone_parameters[\"n_way\"] = 8\n",
    "standalone_parameters[\"n_shot\"] = 3\n",
    "standalone_parameters[\"n_query\"]  = 2\n",
    "standalone_parameters[\"train_k_factor\"] = 1\n",
    "standalone_parameters[\"val_k_factor\"] = 2\n",
    "standalone_parameters[\"test_k_factor\"] = 2\n",
    "\n",
    "\n",
    "standalone_parameters[\"n_epoch\"] = 50\n",
    "\n",
    "standalone_parameters[\"patience\"] = 10\n",
    "standalone_parameters[\"criteria_for_best\"] = \"source_loss\"\n",
    "\n",
    "standalone_parameters[\"datasets\"] = [\n",
    "    {\n",
    "        \"labels\": ALL_SERIAL_NUMBERS,\n",
    "        \"domains\": ALL_DISTANCES_FEET_NARROWED,\n",
    "        \"num_examples_per_domain_per_label\": 100,\n",
    "        \"pickle_path\": os.path.join(get_datasets_base_path(), \"oracle.Run1_framed_2000Examples_stratified_ds.2022A.pkl\"),\n",
    "        \"source_or_target_dataset\": \"source\",\n",
    "        \"x_transforms\": [\"unit_mag\", \"minus_two\"],\n",
    "        \"episode_transforms\": [],\n",
    "        \"domain_prefix\": \"ORACLE_\"\n",
    "    },\n",
    "    {\n",
    "        \"labels\": ALL_NODES,\n",
    "        \"domains\": ALL_DAYS,\n",
    "        \"num_examples_per_domain_per_label\": 100,\n",
    "        \"pickle_path\": os.path.join(get_datasets_base_path(), \"cores.stratified_ds.2022A.pkl\"),\n",
    "        \"source_or_target_dataset\": \"target\",\n",
    "        \"x_transforms\": [\"unit_power\", \"times_zero\"],\n",
    "        \"episode_transforms\": [],\n",
    "        \"domain_prefix\": \"CORES_\"\n",
    "    }   \n",
    "]\n",
    "\n",
    "standalone_parameters[\"torch_default_dtype\"] = \"torch.float32\" \n",
    "\n",
    "\n",
    "\n",
    "standalone_parameters[\"x_net\"] =     [\n",
    "    {\"class\": \"nnReshape\", \"kargs\": {\"shape\":[-1, 1, 2, 256]}},\n",
    "    {\"class\": \"Conv2d\", \"kargs\": { \"in_channels\":1, \"out_channels\":256, \"kernel_size\":(1,7), \"bias\":False, \"padding\":(0,3), },},\n",
    "    {\"class\": \"ReLU\", \"kargs\": {\"inplace\": True}},\n",
    "    {\"class\": \"BatchNorm2d\", \"kargs\": {\"num_features\":256}},\n",
    "\n",
    "    {\"class\": \"Conv2d\", \"kargs\": { \"in_channels\":256, \"out_channels\":80, \"kernel_size\":(2,7), \"bias\":True, \"padding\":(0,3), },},\n",
    "    {\"class\": \"ReLU\", \"kargs\": {\"inplace\": True}},\n",
    "    {\"class\": \"BatchNorm2d\", \"kargs\": {\"num_features\":80}},\n",
    "    {\"class\": \"Flatten\", \"kargs\": {}},\n",
    "\n",
    "    {\"class\": \"Linear\", \"kargs\": {\"in_features\": 80*256, \"out_features\": 256}}, # 80 units per IQ pair\n",
    "    {\"class\": \"ReLU\", \"kargs\": {\"inplace\": True}},\n",
    "    {\"class\": \"BatchNorm1d\", \"kargs\": {\"num_features\":256}},\n",
    "\n",
    "    {\"class\": \"Linear\", \"kargs\": {\"in_features\": 256, \"out_features\": 256}},\n",
    "]\n",
    "\n",
    "# Parameters relevant to results\n",
    "# These parameters will basically never need to change\n",
    "standalone_parameters[\"NUM_LOGS_PER_EPOCH\"] = 10\n",
    "standalone_parameters[\"BEST_MODEL_PATH\"] = \"./best_model.pth\"\n",
    "\n",
    "\n",
    "\n",
    "\n"
   ]
  },
  {
   "cell_type": "code",
   "execution_count": 4,
   "id": "3632d5cc",
   "metadata": {
    "execution": {
     "iopub.execute_input": "2022-03-21T01:21:04.278422Z",
     "iopub.status.busy": "2022-03-21T01:21:04.277958Z",
     "iopub.status.idle": "2022-03-21T01:21:04.291337Z",
     "shell.execute_reply": "2022-03-21T01:21:04.290902Z"
    },
    "papermill": {
     "duration": 0.040131,
     "end_time": "2022-03-21T01:21:04.291429",
     "exception": false,
     "start_time": "2022-03-21T01:21:04.251298",
     "status": "completed"
    },
    "tags": [
     "injected-parameters"
    ]
   },
   "outputs": [],
   "source": [
    "# Parameters\n",
    "parameters = {\n",
    "    \"experiment_name\": \"tl_3Av2:oracle.run1.framed -> cores+wisig\",\n",
    "    \"device\": \"cuda\",\n",
    "    \"lr\": 0.0001,\n",
    "    \"x_shape\": [2, 200],\n",
    "    \"n_shot\": 3,\n",
    "    \"n_query\": 2,\n",
    "    \"train_k_factor\": 3,\n",
    "    \"val_k_factor\": 2,\n",
    "    \"test_k_factor\": 2,\n",
    "    \"torch_default_dtype\": \"torch.float32\",\n",
    "    \"n_epoch\": 50,\n",
    "    \"patience\": 3,\n",
    "    \"criteria_for_best\": \"target_accuracy\",\n",
    "    \"x_net\": [\n",
    "        {\"class\": \"nnReshape\", \"kargs\": {\"shape\": [-1, 1, 2, 200]}},\n",
    "        {\n",
    "            \"class\": \"Conv2d\",\n",
    "            \"kargs\": {\n",
    "                \"in_channels\": 1,\n",
    "                \"out_channels\": 256,\n",
    "                \"kernel_size\": [1, 7],\n",
    "                \"bias\": False,\n",
    "                \"padding\": [0, 3],\n",
    "            },\n",
    "        },\n",
    "        {\"class\": \"ReLU\", \"kargs\": {\"inplace\": True}},\n",
    "        {\"class\": \"BatchNorm2d\", \"kargs\": {\"num_features\": 256}},\n",
    "        {\n",
    "            \"class\": \"Conv2d\",\n",
    "            \"kargs\": {\n",
    "                \"in_channels\": 256,\n",
    "                \"out_channels\": 80,\n",
    "                \"kernel_size\": [2, 7],\n",
    "                \"bias\": True,\n",
    "                \"padding\": [0, 3],\n",
    "            },\n",
    "        },\n",
    "        {\"class\": \"ReLU\", \"kargs\": {\"inplace\": True}},\n",
    "        {\"class\": \"BatchNorm2d\", \"kargs\": {\"num_features\": 80}},\n",
    "        {\"class\": \"Flatten\", \"kargs\": {}},\n",
    "        {\"class\": \"Linear\", \"kargs\": {\"in_features\": 16000, \"out_features\": 256}},\n",
    "        {\"class\": \"ReLU\", \"kargs\": {\"inplace\": True}},\n",
    "        {\"class\": \"BatchNorm1d\", \"kargs\": {\"num_features\": 256}},\n",
    "        {\"class\": \"Linear\", \"kargs\": {\"in_features\": 256, \"out_features\": 256}},\n",
    "    ],\n",
    "    \"NUM_LOGS_PER_EPOCH\": 10,\n",
    "    \"BEST_MODEL_PATH\": \"./best_model.pth\",\n",
    "    \"n_way\": 16,\n",
    "    \"datasets\": [\n",
    "        {\n",
    "            \"labels\": [\n",
    "                \"1-10.\",\n",
    "                \"1-11.\",\n",
    "                \"1-15.\",\n",
    "                \"1-16.\",\n",
    "                \"1-17.\",\n",
    "                \"1-18.\",\n",
    "                \"1-19.\",\n",
    "                \"10-4.\",\n",
    "                \"10-7.\",\n",
    "                \"11-1.\",\n",
    "                \"11-14.\",\n",
    "                \"11-17.\",\n",
    "                \"11-20.\",\n",
    "                \"11-7.\",\n",
    "                \"13-20.\",\n",
    "                \"13-8.\",\n",
    "                \"14-10.\",\n",
    "                \"14-11.\",\n",
    "                \"14-14.\",\n",
    "                \"14-7.\",\n",
    "                \"15-1.\",\n",
    "                \"15-20.\",\n",
    "                \"16-1.\",\n",
    "                \"16-16.\",\n",
    "                \"17-10.\",\n",
    "                \"17-11.\",\n",
    "                \"17-2.\",\n",
    "                \"19-1.\",\n",
    "                \"19-16.\",\n",
    "                \"19-19.\",\n",
    "                \"19-20.\",\n",
    "                \"19-3.\",\n",
    "                \"2-10.\",\n",
    "                \"2-11.\",\n",
    "                \"2-17.\",\n",
    "                \"2-18.\",\n",
    "                \"2-20.\",\n",
    "                \"2-3.\",\n",
    "                \"2-4.\",\n",
    "                \"2-5.\",\n",
    "                \"2-6.\",\n",
    "                \"2-7.\",\n",
    "                \"2-8.\",\n",
    "                \"3-13.\",\n",
    "                \"3-18.\",\n",
    "                \"3-3.\",\n",
    "                \"4-1.\",\n",
    "                \"4-10.\",\n",
    "                \"4-11.\",\n",
    "                \"4-19.\",\n",
    "                \"5-5.\",\n",
    "                \"6-15.\",\n",
    "                \"7-10.\",\n",
    "                \"7-14.\",\n",
    "                \"8-18.\",\n",
    "                \"8-20.\",\n",
    "                \"8-3.\",\n",
    "                \"8-8.\",\n",
    "            ],\n",
    "            \"domains\": [1, 2, 3, 4, 5],\n",
    "            \"num_examples_per_domain_per_label\": -1,\n",
    "            \"pickle_path\": \"/mnt/wd500GB/CSC500/csc500-main/datasets/cores.stratified_ds.2022A.pkl\",\n",
    "            \"source_or_target_dataset\": \"target\",\n",
    "            \"x_transforms\": [\"take_200\"],\n",
    "            \"episode_transforms\": [],\n",
    "            \"domain_prefix\": \"C_\",\n",
    "        },\n",
    "        {\n",
    "            \"labels\": [\n",
    "                \"1-10\",\n",
    "                \"1-12\",\n",
    "                \"1-14\",\n",
    "                \"1-16\",\n",
    "                \"1-18\",\n",
    "                \"1-19\",\n",
    "                \"1-8\",\n",
    "                \"10-11\",\n",
    "                \"10-17\",\n",
    "                \"10-4\",\n",
    "                \"10-7\",\n",
    "                \"11-1\",\n",
    "                \"11-10\",\n",
    "                \"11-19\",\n",
    "                \"11-20\",\n",
    "                \"11-4\",\n",
    "                \"11-7\",\n",
    "                \"12-19\",\n",
    "                \"12-20\",\n",
    "                \"12-7\",\n",
    "                \"13-14\",\n",
    "                \"13-18\",\n",
    "                \"13-19\",\n",
    "                \"13-20\",\n",
    "                \"13-3\",\n",
    "                \"13-7\",\n",
    "                \"14-10\",\n",
    "                \"14-11\",\n",
    "                \"14-12\",\n",
    "                \"14-13\",\n",
    "                \"14-14\",\n",
    "                \"14-19\",\n",
    "                \"14-20\",\n",
    "                \"14-7\",\n",
    "                \"14-8\",\n",
    "                \"14-9\",\n",
    "                \"15-1\",\n",
    "                \"15-19\",\n",
    "                \"15-6\",\n",
    "                \"16-1\",\n",
    "                \"16-16\",\n",
    "                \"16-19\",\n",
    "                \"16-20\",\n",
    "                \"17-10\",\n",
    "                \"17-11\",\n",
    "                \"18-1\",\n",
    "                \"18-10\",\n",
    "                \"18-11\",\n",
    "                \"18-12\",\n",
    "                \"18-13\",\n",
    "                \"18-14\",\n",
    "                \"18-15\",\n",
    "                \"18-16\",\n",
    "                \"18-17\",\n",
    "                \"18-19\",\n",
    "                \"18-2\",\n",
    "                \"18-20\",\n",
    "                \"18-4\",\n",
    "                \"18-5\",\n",
    "                \"18-7\",\n",
    "                \"18-8\",\n",
    "                \"18-9\",\n",
    "                \"19-1\",\n",
    "                \"19-10\",\n",
    "                \"19-11\",\n",
    "                \"19-12\",\n",
    "                \"19-13\",\n",
    "                \"19-14\",\n",
    "                \"19-15\",\n",
    "                \"19-19\",\n",
    "                \"19-2\",\n",
    "                \"19-20\",\n",
    "                \"19-3\",\n",
    "                \"19-4\",\n",
    "                \"19-6\",\n",
    "                \"19-7\",\n",
    "                \"19-8\",\n",
    "                \"19-9\",\n",
    "                \"2-1\",\n",
    "                \"2-13\",\n",
    "                \"2-15\",\n",
    "                \"2-3\",\n",
    "                \"2-4\",\n",
    "                \"2-5\",\n",
    "                \"2-6\",\n",
    "                \"2-7\",\n",
    "                \"2-8\",\n",
    "                \"20-1\",\n",
    "                \"20-12\",\n",
    "                \"20-14\",\n",
    "                \"20-15\",\n",
    "                \"20-16\",\n",
    "                \"20-18\",\n",
    "                \"20-19\",\n",
    "                \"20-20\",\n",
    "                \"20-3\",\n",
    "                \"20-4\",\n",
    "                \"20-5\",\n",
    "                \"20-7\",\n",
    "                \"20-8\",\n",
    "                \"3-1\",\n",
    "                \"3-13\",\n",
    "                \"3-18\",\n",
    "                \"3-2\",\n",
    "                \"3-8\",\n",
    "                \"4-1\",\n",
    "                \"4-10\",\n",
    "                \"4-11\",\n",
    "                \"5-1\",\n",
    "                \"5-5\",\n",
    "                \"6-1\",\n",
    "                \"6-15\",\n",
    "                \"6-6\",\n",
    "                \"7-10\",\n",
    "                \"7-11\",\n",
    "                \"7-12\",\n",
    "                \"7-13\",\n",
    "                \"7-14\",\n",
    "                \"7-7\",\n",
    "                \"7-8\",\n",
    "                \"7-9\",\n",
    "                \"8-1\",\n",
    "                \"8-13\",\n",
    "                \"8-14\",\n",
    "                \"8-18\",\n",
    "                \"8-20\",\n",
    "                \"8-3\",\n",
    "                \"8-8\",\n",
    "                \"9-1\",\n",
    "                \"9-7\",\n",
    "            ],\n",
    "            \"domains\": [1, 2, 3, 4],\n",
    "            \"num_examples_per_domain_per_label\": -1,\n",
    "            \"pickle_path\": \"/mnt/wd500GB/CSC500/csc500-main/datasets/wisig.node3-19.stratified_ds.2022A.pkl\",\n",
    "            \"source_or_target_dataset\": \"target\",\n",
    "            \"x_transforms\": [\"take_200\"],\n",
    "            \"episode_transforms\": [],\n",
    "            \"domain_prefix\": \"W_\",\n",
    "        },\n",
    "        {\n",
    "            \"labels\": [\n",
    "                \"3123D52\",\n",
    "                \"3123D65\",\n",
    "                \"3123D79\",\n",
    "                \"3123D80\",\n",
    "                \"3123D54\",\n",
    "                \"3123D70\",\n",
    "                \"3123D7B\",\n",
    "                \"3123D89\",\n",
    "                \"3123D58\",\n",
    "                \"3123D76\",\n",
    "                \"3123D7D\",\n",
    "                \"3123EFE\",\n",
    "                \"3123D64\",\n",
    "                \"3123D78\",\n",
    "                \"3123D7E\",\n",
    "                \"3124E4A\",\n",
    "            ],\n",
    "            \"domains\": [32, 38, 8, 44, 14, 50, 20, 26],\n",
    "            \"num_examples_per_domain_per_label\": 2000,\n",
    "            \"pickle_path\": \"/mnt/wd500GB/CSC500/csc500-main/datasets/oracle.Run1_framed_2000Examples_stratified_ds.2022A.pkl\",\n",
    "            \"source_or_target_dataset\": \"source\",\n",
    "            \"x_transforms\": [\"take_200\", \"resample_20Msps_to_25Msps\"],\n",
    "            \"episode_transforms\": [],\n",
    "            \"domain_prefix\": \"O_\",\n",
    "        },\n",
    "    ],\n",
    "    \"seed\": 154325,\n",
    "    \"dataset_seed\": 154325,\n",
    "}\n"
   ]
  },
  {
   "cell_type": "code",
   "execution_count": 5,
   "id": "8fa1cc33",
   "metadata": {
    "execution": {
     "iopub.execute_input": "2022-03-21T01:21:04.324653Z",
     "iopub.status.busy": "2022-03-21T01:21:04.324397Z",
     "iopub.status.idle": "2022-03-21T01:21:04.337955Z",
     "shell.execute_reply": "2022-03-21T01:21:04.338421Z"
    },
    "papermill": {
     "duration": 0.030247,
     "end_time": "2022-03-21T01:21:04.338529",
     "exception": false,
     "start_time": "2022-03-21T01:21:04.308282",
     "status": "completed"
    },
    "tags": []
   },
   "outputs": [],
   "source": [
    "# Set this to True if you want to run this template directly\n",
    "STANDALONE = False\n",
    "if STANDALONE:\n",
    "    print(\"parameters not injected, running with standalone_parameters\")\n",
    "    parameters = standalone_parameters\n",
    "\n",
    "if not 'parameters' in locals() and not 'parameters' in globals():\n",
    "    raise Exception(\"Parameter injection failed\")\n",
    "\n",
    "#Use an easy dict for all the parameters\n",
    "p = EasyDict(parameters)\n",
    "\n",
    "if \"x_shape\" not in p:\n",
    "    p.x_shape = [2,256] # Default to this if we dont supply x_shape\n",
    "\n",
    "\n",
    "supplied_keys = set(p.keys())\n",
    "\n",
    "if  supplied_keys != required_parameters:\n",
    "    print(\"Parameters are incorrect\")\n",
    "    if len(supplied_keys - required_parameters)>0: print(\"Shouldn't have:\", str(supplied_keys - required_parameters))\n",
    "    if len(required_parameters - supplied_keys)>0: print(\"Need to have:\", str(required_parameters - supplied_keys))\n",
    "    raise RuntimeError(\"Parameters are incorrect\")"
   ]
  },
  {
   "cell_type": "code",
   "execution_count": 6,
   "id": "3a028d58",
   "metadata": {
    "execution": {
     "iopub.execute_input": "2022-03-21T01:21:04.371008Z",
     "iopub.status.busy": "2022-03-21T01:21:04.370754Z",
     "iopub.status.idle": "2022-03-21T01:21:04.381170Z",
     "shell.execute_reply": "2022-03-21T01:21:04.380717Z"
    },
    "papermill": {
     "duration": 0.02545,
     "end_time": "2022-03-21T01:21:04.381260",
     "exception": false,
     "start_time": "2022-03-21T01:21:04.355810",
     "status": "completed"
    },
    "tags": []
   },
   "outputs": [],
   "source": [
    "###################################\n",
    "# Set the RNGs and make it all deterministic\n",
    "###################################\n",
    "np.random.seed(p.seed)\n",
    "random.seed(p.seed)\n",
    "torch.manual_seed(p.seed)\n",
    "\n",
    "torch.use_deterministic_algorithms(True) "
   ]
  },
  {
   "cell_type": "code",
   "execution_count": 7,
   "id": "b691acf6",
   "metadata": {
    "execution": {
     "iopub.execute_input": "2022-03-21T01:21:04.413122Z",
     "iopub.status.busy": "2022-03-21T01:21:04.412871Z",
     "iopub.status.idle": "2022-03-21T01:21:04.425890Z",
     "shell.execute_reply": "2022-03-21T01:21:04.426239Z"
    },
    "papermill": {
     "duration": 0.028556,
     "end_time": "2022-03-21T01:21:04.426347",
     "exception": false,
     "start_time": "2022-03-21T01:21:04.397791",
     "status": "completed"
    },
    "tags": []
   },
   "outputs": [],
   "source": [
    "###########################################\n",
    "# The stratified datasets honor this\n",
    "###########################################\n",
    "torch.set_default_dtype(eval(p.torch_default_dtype))"
   ]
  },
  {
   "cell_type": "code",
   "execution_count": 8,
   "id": "b5fba671",
   "metadata": {
    "execution": {
     "iopub.execute_input": "2022-03-21T01:21:04.458951Z",
     "iopub.status.busy": "2022-03-21T01:21:04.458689Z",
     "iopub.status.idle": "2022-03-21T01:21:04.494109Z",
     "shell.execute_reply": "2022-03-21T01:21:04.494540Z"
    },
    "papermill": {
     "duration": 0.051169,
     "end_time": "2022-03-21T01:21:04.494663",
     "exception": false,
     "start_time": "2022-03-21T01:21:04.443494",
     "status": "completed"
    },
    "tags": []
   },
   "outputs": [],
   "source": [
    "###################################\n",
    "# Build the network(s)\n",
    "# Note: It's critical to do this AFTER setting the RNG\n",
    "###################################\n",
    "x_net = build_sequential(p.x_net)"
   ]
  },
  {
   "cell_type": "code",
   "execution_count": 9,
   "id": "5d7e61cc",
   "metadata": {
    "execution": {
     "iopub.execute_input": "2022-03-21T01:21:04.527669Z",
     "iopub.status.busy": "2022-03-21T01:21:04.527419Z",
     "iopub.status.idle": "2022-03-21T01:21:04.538577Z",
     "shell.execute_reply": "2022-03-21T01:21:04.538006Z"
    },
    "papermill": {
     "duration": 0.026582,
     "end_time": "2022-03-21T01:21:04.538668",
     "exception": false,
     "start_time": "2022-03-21T01:21:04.512086",
     "status": "completed"
    },
    "tags": []
   },
   "outputs": [],
   "source": [
    "start_time_secs = time.time()"
   ]
  },
  {
   "cell_type": "code",
   "execution_count": 10,
   "id": "c6b67dfd",
   "metadata": {
    "execution": {
     "iopub.execute_input": "2022-03-21T01:21:04.572176Z",
     "iopub.status.busy": "2022-03-21T01:21:04.571925Z",
     "iopub.status.idle": "2022-03-21T01:21:04.586174Z",
     "shell.execute_reply": "2022-03-21T01:21:04.585732Z"
    },
    "papermill": {
     "duration": 0.029986,
     "end_time": "2022-03-21T01:21:04.586266",
     "exception": false,
     "start_time": "2022-03-21T01:21:04.556280",
     "status": "completed"
    },
    "tags": []
   },
   "outputs": [],
   "source": [
    "p.domains_source = []\n",
    "p.domains_target = []\n",
    "\n",
    "\n",
    "train_original_source = []\n",
    "val_original_source   = []\n",
    "test_original_source  = []\n",
    "\n",
    "train_original_target = []\n",
    "val_original_target   = []\n",
    "test_original_target  = []"
   ]
  },
  {
   "cell_type": "code",
   "execution_count": 11,
   "id": "e3d9c3d3",
   "metadata": {
    "execution": {
     "iopub.execute_input": "2022-03-21T01:21:04.619160Z",
     "iopub.status.busy": "2022-03-21T01:21:04.618902Z",
     "iopub.status.idle": "2022-03-21T01:21:04.628424Z",
     "shell.execute_reply": "2022-03-21T01:21:04.628857Z"
    },
    "papermill": {
     "duration": 0.024758,
     "end_time": "2022-03-21T01:21:04.628965",
     "exception": false,
     "start_time": "2022-03-21T01:21:04.604207",
     "status": "completed"
    },
    "tags": []
   },
   "outputs": [],
   "source": [
    "# global_x_transform_func = lambda x: normalize(x.to(torch.get_default_dtype()), \"unit_power\") # unit_power, unit_mag\n",
    "# global_x_transform_func = lambda x: normalize(x, \"unit_power\") # unit_power, unit_mag"
   ]
  },
  {
   "cell_type": "code",
   "execution_count": 12,
   "id": "acb78fd2",
   "metadata": {
    "execution": {
     "iopub.execute_input": "2022-03-21T01:21:04.667921Z",
     "iopub.status.busy": "2022-03-21T01:21:04.667663Z",
     "iopub.status.idle": "2022-03-21T01:21:04.680736Z",
     "shell.execute_reply": "2022-03-21T01:21:04.680344Z"
    },
    "papermill": {
     "duration": 0.033561,
     "end_time": "2022-03-21T01:21:04.680825",
     "exception": false,
     "start_time": "2022-03-21T01:21:04.647264",
     "status": "completed"
    },
    "tags": []
   },
   "outputs": [],
   "source": [
    "def add_dataset(\n",
    "    labels,\n",
    "    domains,\n",
    "    pickle_path,\n",
    "    x_transforms,\n",
    "    episode_transforms,\n",
    "    domain_prefix,\n",
    "    num_examples_per_domain_per_label,\n",
    "    source_or_target_dataset:str,\n",
    "    iterator_seed=p.seed,\n",
    "    dataset_seed=p.dataset_seed,\n",
    "    n_shot=p.n_shot,\n",
    "    n_way=p.n_way,\n",
    "    n_query=p.n_query,\n",
    "    train_val_test_k_factors=(p.train_k_factor,p.val_k_factor,p.test_k_factor),\n",
    "):\n",
    "   \n",
    "    if x_transforms == []: x_transform = None\n",
    "    else: x_transform = get_chained_transform(x_transforms)\n",
    "    \n",
    "    if episode_transforms == []: episode_transform = None\n",
    "    else: raise Exception(\"episode_transforms not implemented\")\n",
    "    \n",
    "    episode_transform = lambda tup, _prefix=domain_prefix: (_prefix + str(tup[0]), tup[1])\n",
    "\n",
    "\n",
    "    eaf = Episodic_Accessor_Factory(\n",
    "        labels=labels,\n",
    "        domains=domains,\n",
    "        num_examples_per_domain_per_label=num_examples_per_domain_per_label,\n",
    "        iterator_seed=iterator_seed,\n",
    "        dataset_seed=dataset_seed,\n",
    "        n_shot=n_shot,\n",
    "        n_way=n_way,\n",
    "        n_query=n_query,\n",
    "        train_val_test_k_factors=train_val_test_k_factors,\n",
    "        pickle_path=pickle_path,\n",
    "        x_transform_func=x_transform,\n",
    "    )\n",
    "\n",
    "    train, val, test = eaf.get_train(), eaf.get_val(), eaf.get_test()\n",
    "    train = Lazy_Iterable_Wrapper(train, episode_transform)\n",
    "    val = Lazy_Iterable_Wrapper(val, episode_transform)\n",
    "    test = Lazy_Iterable_Wrapper(test, episode_transform)\n",
    "\n",
    "    if source_or_target_dataset==\"source\":\n",
    "        train_original_source.append(train)\n",
    "        val_original_source.append(val)\n",
    "        test_original_source.append(test)\n",
    "\n",
    "        p.domains_source.extend(\n",
    "            [domain_prefix + str(u) for u in domains]\n",
    "        )\n",
    "    elif source_or_target_dataset==\"target\":\n",
    "        train_original_target.append(train)\n",
    "        val_original_target.append(val)\n",
    "        test_original_target.append(test)\n",
    "        p.domains_target.extend(\n",
    "            [domain_prefix + str(u) for u in domains]\n",
    "        )\n",
    "    else:\n",
    "        raise Exception(f\"invalid source_or_target_dataset: {source_or_target_dataset}\")\n",
    "    "
   ]
  },
  {
   "cell_type": "code",
   "execution_count": 13,
   "id": "fe266617",
   "metadata": {
    "execution": {
     "iopub.execute_input": "2022-03-21T01:21:04.715327Z",
     "iopub.status.busy": "2022-03-21T01:21:04.715059Z",
     "iopub.status.idle": "2022-03-21T01:21:23.484507Z",
     "shell.execute_reply": "2022-03-21T01:21:23.484099Z"
    },
    "papermill": {
     "duration": 18.785129,
     "end_time": "2022-03-21T01:21:23.484615",
     "exception": false,
     "start_time": "2022-03-21T01:21:04.699486",
     "status": "completed"
    },
    "tags": []
   },
   "outputs": [],
   "source": [
    "for ds in p.datasets:\n",
    "    add_dataset(**ds)"
   ]
  },
  {
   "cell_type": "code",
   "execution_count": 14,
   "id": "b90d65ac",
   "metadata": {
    "execution": {
     "iopub.execute_input": "2022-03-21T01:21:23.519529Z",
     "iopub.status.busy": "2022-03-21T01:21:23.519266Z",
     "iopub.status.idle": "2022-03-21T01:21:23.533703Z",
     "shell.execute_reply": "2022-03-21T01:21:23.534059Z"
    },
    "papermill": {
     "duration": 0.030547,
     "end_time": "2022-03-21T01:21:23.534170",
     "exception": false,
     "start_time": "2022-03-21T01:21:23.503623",
     "status": "completed"
    },
    "tags": []
   },
   "outputs": [],
   "source": [
    "# from steves_utils.CORES.utils import (\n",
    "#     ALL_NODES,\n",
    "#     ALL_NODES_MINIMUM_1000_EXAMPLES,\n",
    "#     ALL_DAYS\n",
    "# )\n",
    "\n",
    "# add_dataset(\n",
    "#     labels=ALL_NODES,\n",
    "#     domains = ALL_DAYS,\n",
    "#     num_examples_per_domain_per_label=100,\n",
    "#     pickle_path=os.path.join(get_datasets_base_path(), \"cores.stratified_ds.2022A.pkl\"),\n",
    "#     source_or_target_dataset=\"target\",\n",
    "#     x_transform_func=global_x_transform_func,\n",
    "#     domain_modifier=lambda u: f\"cores_{u}\"\n",
    "# )"
   ]
  },
  {
   "cell_type": "code",
   "execution_count": 15,
   "id": "76db484d",
   "metadata": {
    "execution": {
     "iopub.execute_input": "2022-03-21T01:21:23.567660Z",
     "iopub.status.busy": "2022-03-21T01:21:23.567406Z",
     "iopub.status.idle": "2022-03-21T01:21:23.577851Z",
     "shell.execute_reply": "2022-03-21T01:21:23.577397Z"
    },
    "papermill": {
     "duration": 0.025731,
     "end_time": "2022-03-21T01:21:23.577940",
     "exception": false,
     "start_time": "2022-03-21T01:21:23.552209",
     "status": "completed"
    },
    "tags": []
   },
   "outputs": [],
   "source": [
    "# from steves_utils.ORACLE.utils_v2 import (\n",
    "#     ALL_DISTANCES_FEET,\n",
    "#     ALL_RUNS,\n",
    "#     ALL_SERIAL_NUMBERS,\n",
    "# )\n",
    "\n",
    "\n",
    "# add_dataset(\n",
    "#     labels=ALL_SERIAL_NUMBERS,\n",
    "#     domains = list(set(ALL_DISTANCES_FEET) - {2,62}),\n",
    "#     num_examples_per_domain_per_label=100,\n",
    "#     pickle_path=os.path.join(get_datasets_base_path(), \"oracle.Run2_framed_2000Examples_stratified_ds.2022A.pkl\"),\n",
    "#     source_or_target_dataset=\"source\",\n",
    "#     x_transform_func=global_x_transform_func,\n",
    "#     domain_modifier=lambda u: f\"oracle1_{u}\"\n",
    "# )\n"
   ]
  },
  {
   "cell_type": "code",
   "execution_count": 16,
   "id": "97dea9d2",
   "metadata": {
    "execution": {
     "iopub.execute_input": "2022-03-21T01:21:23.612077Z",
     "iopub.status.busy": "2022-03-21T01:21:23.611822Z",
     "iopub.status.idle": "2022-03-21T01:21:23.622318Z",
     "shell.execute_reply": "2022-03-21T01:21:23.621861Z"
    },
    "papermill": {
     "duration": 0.026104,
     "end_time": "2022-03-21T01:21:23.622410",
     "exception": false,
     "start_time": "2022-03-21T01:21:23.596306",
     "status": "completed"
    },
    "tags": []
   },
   "outputs": [],
   "source": [
    "# from steves_utils.ORACLE.utils_v2 import (\n",
    "#     ALL_DISTANCES_FEET,\n",
    "#     ALL_RUNS,\n",
    "#     ALL_SERIAL_NUMBERS,\n",
    "# )\n",
    "\n",
    "\n",
    "# add_dataset(\n",
    "#     labels=ALL_SERIAL_NUMBERS,\n",
    "#     domains = list(set(ALL_DISTANCES_FEET) - {2,62,56}),\n",
    "#     num_examples_per_domain_per_label=100,\n",
    "#     pickle_path=os.path.join(get_datasets_base_path(), \"oracle.Run2_framed_2000Examples_stratified_ds.2022A.pkl\"),\n",
    "#     source_or_target_dataset=\"source\",\n",
    "#     x_transform_func=global_x_transform_func,\n",
    "#     domain_modifier=lambda u: f\"oracle2_{u}\"\n",
    "# )"
   ]
  },
  {
   "cell_type": "code",
   "execution_count": 17,
   "id": "6f289866",
   "metadata": {
    "execution": {
     "iopub.execute_input": "2022-03-21T01:21:23.656405Z",
     "iopub.status.busy": "2022-03-21T01:21:23.656149Z",
     "iopub.status.idle": "2022-03-21T01:21:23.668098Z",
     "shell.execute_reply": "2022-03-21T01:21:23.667659Z"
    },
    "papermill": {
     "duration": 0.027651,
     "end_time": "2022-03-21T01:21:23.668189",
     "exception": false,
     "start_time": "2022-03-21T01:21:23.640538",
     "status": "completed"
    },
    "tags": []
   },
   "outputs": [],
   "source": [
    "# add_dataset(\n",
    "#     labels=list(range(19)),\n",
    "#     domains = [0,1,2],\n",
    "#     num_examples_per_domain_per_label=100,\n",
    "#     pickle_path=os.path.join(get_datasets_base_path(), \"metehan.stratified_ds.2022A.pkl\"),\n",
    "#     source_or_target_dataset=\"target\",\n",
    "#     x_transform_func=global_x_transform_func,\n",
    "#     domain_modifier=lambda u: f\"met_{u}\"\n",
    "# )"
   ]
  },
  {
   "cell_type": "code",
   "execution_count": 18,
   "id": "86a863c3",
   "metadata": {
    "execution": {
     "iopub.execute_input": "2022-03-21T01:21:23.702225Z",
     "iopub.status.busy": "2022-03-21T01:21:23.701972Z",
     "iopub.status.idle": "2022-03-21T01:21:23.713563Z",
     "shell.execute_reply": "2022-03-21T01:21:23.713082Z"
    },
    "papermill": {
     "duration": 0.027991,
     "end_time": "2022-03-21T01:21:23.713657",
     "exception": false,
     "start_time": "2022-03-21T01:21:23.685666",
     "status": "completed"
    },
    "tags": []
   },
   "outputs": [],
   "source": [
    "# # from steves_utils.wisig.utils import (\n",
    "# #     ALL_NODES_MINIMUM_100_EXAMPLES,\n",
    "# #     ALL_NODES_MINIMUM_500_EXAMPLES,\n",
    "# #     ALL_NODES_MINIMUM_1000_EXAMPLES,\n",
    "# #     ALL_DAYS\n",
    "# # )\n",
    "\n",
    "# import steves_utils.wisig.utils as wisig\n",
    "\n",
    "\n",
    "# add_dataset(\n",
    "#     labels=wisig.ALL_NODES_MINIMUM_100_EXAMPLES,\n",
    "#     domains = wisig.ALL_DAYS,\n",
    "#     num_examples_per_domain_per_label=100,\n",
    "#     pickle_path=os.path.join(get_datasets_base_path(), \"wisig.node3-19.stratified_ds.2022A.pkl\"),\n",
    "#     source_or_target_dataset=\"target\",\n",
    "#     x_transform_func=global_x_transform_func,\n",
    "#     domain_modifier=lambda u: f\"wisig_{u}\"\n",
    "# )"
   ]
  },
  {
   "cell_type": "code",
   "execution_count": 19,
   "id": "fd5442bc",
   "metadata": {
    "execution": {
     "iopub.execute_input": "2022-03-21T01:21:23.751365Z",
     "iopub.status.busy": "2022-03-21T01:21:23.751074Z",
     "iopub.status.idle": "2022-03-21T01:21:23.766198Z",
     "shell.execute_reply": "2022-03-21T01:21:23.766568Z"
    },
    "papermill": {
     "duration": 0.034325,
     "end_time": "2022-03-21T01:21:23.766674",
     "exception": false,
     "start_time": "2022-03-21T01:21:23.732349",
     "status": "completed"
    },
    "tags": []
   },
   "outputs": [],
   "source": [
    "###################################\n",
    "# Build the dataset\n",
    "###################################\n",
    "train_original_source = Iterable_Aggregator(train_original_source, p.seed)\n",
    "val_original_source = Iterable_Aggregator(val_original_source, p.seed)\n",
    "test_original_source = Iterable_Aggregator(test_original_source, p.seed)\n",
    "\n",
    "\n",
    "train_original_target = Iterable_Aggregator(train_original_target, p.seed)\n",
    "val_original_target = Iterable_Aggregator(val_original_target, p.seed)\n",
    "test_original_target = Iterable_Aggregator(test_original_target, p.seed)\n",
    "\n",
    "# For CNN We only use X and Y. And we only train on the source.\n",
    "# Properly form the data using a transform lambda and Lazy_Iterable_Wrapper. Finally wrap them in a dataloader\n",
    "\n",
    "transform_lambda = lambda ex: ex[1] # Original is (<domain>, <episode>) so we strip down to episode only\n",
    "\n",
    "train_processed_source = Lazy_Iterable_Wrapper(train_original_source, transform_lambda)\n",
    "val_processed_source   = Lazy_Iterable_Wrapper(val_original_source, transform_lambda)\n",
    "test_processed_source  = Lazy_Iterable_Wrapper(test_original_source, transform_lambda)\n",
    "\n",
    "train_processed_target = Lazy_Iterable_Wrapper(train_original_target, transform_lambda)\n",
    "val_processed_target   = Lazy_Iterable_Wrapper(val_original_target, transform_lambda)\n",
    "test_processed_target  = Lazy_Iterable_Wrapper(test_original_target, transform_lambda)\n",
    "\n",
    "datasets = EasyDict({\n",
    "    \"source\": {\n",
    "        \"original\": {\"train\":train_original_source, \"val\":val_original_source, \"test\":test_original_source},\n",
    "        \"processed\": {\"train\":train_processed_source, \"val\":val_processed_source, \"test\":test_processed_source}\n",
    "    },\n",
    "    \"target\": {\n",
    "        \"original\": {\"train\":train_original_target, \"val\":val_original_target, \"test\":test_original_target},\n",
    "        \"processed\": {\"train\":train_processed_target, \"val\":val_processed_target, \"test\":test_processed_target}\n",
    "    },\n",
    "})"
   ]
  },
  {
   "cell_type": "code",
   "execution_count": 20,
   "id": "5b3c01fc",
   "metadata": {
    "execution": {
     "iopub.execute_input": "2022-03-21T01:21:23.802596Z",
     "iopub.status.busy": "2022-03-21T01:21:23.802344Z",
     "iopub.status.idle": "2022-03-21T01:21:32.651903Z",
     "shell.execute_reply": "2022-03-21T01:21:32.652418Z"
    },
    "papermill": {
     "duration": 8.867475,
     "end_time": "2022-03-21T01:21:32.652559",
     "exception": false,
     "start_time": "2022-03-21T01:21:23.785084",
     "status": "completed"
    },
    "tags": []
   },
   "outputs": [
    {
     "name": "stdout",
     "output_type": "stream",
     "text": [
      "{'O_14', 'O_44', 'O_32', 'O_50', 'O_26', 'O_20', 'O_8', 'O_38'}\n"
     ]
    },
    {
     "name": "stdout",
     "output_type": "stream",
     "text": [
      "{'W_2', 'C_3', 'W_1', 'C_5', 'C_2', 'C_1', 'W_3', 'C_4', 'W_4'}\n"
     ]
    },
    {
     "name": "stdout",
     "output_type": "stream",
     "text": [
      "tensor([[[-0.0013,  0.0058,  0.0040,  ...,  0.0047, -0.0021, -0.0003],\n",
      "         [-0.0027,  0.0014,  0.0039,  ..., -0.0011,  0.0068,  0.0068]],\n",
      "\n",
      "        [[ 0.0003,  0.0076,  0.0027,  ...,  0.0032,  0.0024,  0.0063],\n",
      "         [-0.0026, -0.0026,  0.0017,  ..., -0.0014,  0.0073,  0.0026]],\n",
      "\n",
      "        [[-0.0045, -0.0030,  0.0045,  ...,  0.0028,  0.0058, -0.0025],\n",
      "         [-0.0027, -0.0075,  0.0008,  ..., -0.0040, -0.0046, -0.0077]],\n",
      "\n",
      "        ...,\n",
      "\n",
      "        [[ 0.0006,  0.0040,  0.0011,  ...,  0.0054,  0.0053,  0.0040],\n",
      "         [-0.0050, -0.0041,  0.0057,  ...,  0.0018,  0.0020, -0.0056]],\n",
      "\n",
      "        [[-0.0014,  0.0051,  0.0045,  ...,  0.0042, -0.0002,  0.0007],\n",
      "         [-0.0027, -0.0006,  0.0027,  ..., -0.0025,  0.0059,  0.0051]],\n",
      "\n",
      "        [[-0.0042, -0.0063,  0.0029,  ..., -0.0019, -0.0021, -0.0071],\n",
      "         [ 0.0029,  0.0005, -0.0040,  ..., -0.0049, -0.0052,  0.0006]]])\n"
     ]
    }
   ],
   "source": [
    "from steves_utils.transforms import get_average_magnitude, get_average_power\n",
    "\n",
    "print(set([u for u,_ in val_original_source]))\n",
    "print(set([u for u,_ in val_original_target]))\n",
    "\n",
    "s_x, s_y, q_x, q_y, _ = next(iter(train_processed_source))\n",
    "print(s_x)\n",
    "\n",
    "# for ds in [\n",
    "#     train_processed_source,\n",
    "#     val_processed_source,\n",
    "#     test_processed_source,\n",
    "#     train_processed_target,\n",
    "#     val_processed_target,\n",
    "#     test_processed_target\n",
    "# ]:\n",
    "#     for s_x, s_y, q_x, q_y, _ in ds:\n",
    "#         for X in (s_x, q_x):\n",
    "#             for x in X:\n",
    "#                 assert np.isclose(get_average_magnitude(x.numpy()), 1.0)\n",
    "#                 assert np.isclose(get_average_power(x.numpy()), 1.0)\n",
    "                "
   ]
  },
  {
   "cell_type": "code",
   "execution_count": 21,
   "id": "bbdacba1",
   "metadata": {
    "execution": {
     "iopub.execute_input": "2022-03-21T01:21:32.691500Z",
     "iopub.status.busy": "2022-03-21T01:21:32.691210Z",
     "iopub.status.idle": "2022-03-21T01:21:32.748746Z",
     "shell.execute_reply": "2022-03-21T01:21:32.748365Z"
    },
    "papermill": {
     "duration": 0.07548,
     "end_time": "2022-03-21T01:21:32.748844",
     "exception": false,
     "start_time": "2022-03-21T01:21:32.673364",
     "status": "completed"
    },
    "tags": []
   },
   "outputs": [
    {
     "name": "stdout",
     "output_type": "stream",
     "text": [
      "(2, 200)\n"
     ]
    }
   ],
   "source": [
    "###################################\n",
    "# Build the model\n",
    "###################################\n",
    "# easfsl only wants a tuple for the shape\n",
    "model = Steves_Prototypical_Network(x_net, device=p.device, x_shape=tuple(p.x_shape))\n",
    "optimizer = Adam(params=model.parameters(), lr=p.lr)"
   ]
  },
  {
   "cell_type": "code",
   "execution_count": 22,
   "id": "22b39ac5",
   "metadata": {
    "execution": {
     "iopub.execute_input": "2022-03-21T01:21:32.787262Z",
     "iopub.status.busy": "2022-03-21T01:21:32.787001Z",
     "iopub.status.idle": "2022-03-21T01:49:41.827336Z",
     "shell.execute_reply": "2022-03-21T01:49:41.827085Z"
    },
    "papermill": {
     "duration": 1689.058421,
     "end_time": "2022-03-21T01:49:41.827398",
     "exception": false,
     "start_time": "2022-03-21T01:21:32.768977",
     "status": "completed"
    },
    "tags": []
   },
   "outputs": [
    {
     "name": "stdout",
     "output_type": "stream",
     "text": [
      "epoch: 1, [batch: 1 / 6720], examples_per_second: 38.1518, train_label_loss: 2.8356, \n"
     ]
    },
    {
     "name": "stdout",
     "output_type": "stream",
     "text": [
      "epoch: 1, [batch: 672 / 6720], examples_per_second: 3572.6011, train_label_loss: 0.5005, \n"
     ]
    },
    {
     "name": "stdout",
     "output_type": "stream",
     "text": [
      "epoch: 1, [batch: 1344 / 6720], examples_per_second: 3604.8364, train_label_loss: 0.5161, \n"
     ]
    },
    {
     "name": "stdout",
     "output_type": "stream",
     "text": [
      "epoch: 1, [batch: 2016 / 6720], examples_per_second: 3673.1817, train_label_loss: 0.8285, \n"
     ]
    },
    {
     "name": "stdout",
     "output_type": "stream",
     "text": [
      "epoch: 1, [batch: 2688 / 6720], examples_per_second: 3595.3802, train_label_loss: 0.5793, \n"
     ]
    },
    {
     "name": "stdout",
     "output_type": "stream",
     "text": [
      "epoch: 1, [batch: 3360 / 6720], examples_per_second: 3674.8548, train_label_loss: 0.4607, \n"
     ]
    },
    {
     "name": "stdout",
     "output_type": "stream",
     "text": [
      "epoch: 1, [batch: 4032 / 6720], examples_per_second: 3662.0518, train_label_loss: 0.5261, \n"
     ]
    },
    {
     "name": "stdout",
     "output_type": "stream",
     "text": [
      "epoch: 1, [batch: 4704 / 6720], examples_per_second: 3577.9016, train_label_loss: 0.3130, \n"
     ]
    },
    {
     "name": "stdout",
     "output_type": "stream",
     "text": [
      "epoch: 1, [batch: 5376 / 6720], examples_per_second: 3547.0296, train_label_loss: 0.3594, \n"
     ]
    },
    {
     "name": "stdout",
     "output_type": "stream",
     "text": [
      "epoch: 1, [batch: 6048 / 6720], examples_per_second: 3644.5756, train_label_loss: 0.2144, \n"
     ]
    },
    {
     "name": "stdout",
     "output_type": "stream",
     "text": [
      "=============================================================\n",
      "epoch: 1, source_val_acc_label: 0.5788, target_val_acc_label: 0.5788, source_val_label_loss: 147.5978, target_val_label_loss: 11830.4375, \n",
      "=============================================================\n"
     ]
    },
    {
     "name": "stdout",
     "output_type": "stream",
     "text": [
      "New best\n"
     ]
    },
    {
     "name": "stdout",
     "output_type": "stream",
     "text": [
      "epoch: 2, [batch: 1 / 6720], examples_per_second: 4.2740, train_label_loss: 269.6432, \n"
     ]
    },
    {
     "name": "stdout",
     "output_type": "stream",
     "text": [
      "epoch: 2, [batch: 672 / 6720], examples_per_second: 3602.1474, train_label_loss: 0.5462, \n"
     ]
    },
    {
     "name": "stdout",
     "output_type": "stream",
     "text": [
      "epoch: 2, [batch: 1344 / 6720], examples_per_second: 3612.7646, train_label_loss: 0.8148, \n"
     ]
    },
    {
     "name": "stdout",
     "output_type": "stream",
     "text": [
      "epoch: 2, [batch: 2016 / 6720], examples_per_second: 3681.5741, train_label_loss: 0.2385, \n"
     ]
    },
    {
     "name": "stdout",
     "output_type": "stream",
     "text": [
      "epoch: 2, [batch: 2688 / 6720], examples_per_second: 3630.7331, train_label_loss: 0.4347, \n"
     ]
    },
    {
     "name": "stdout",
     "output_type": "stream",
     "text": [
      "epoch: 2, [batch: 3360 / 6720], examples_per_second: 3662.2332, train_label_loss: 0.3569, \n"
     ]
    },
    {
     "name": "stdout",
     "output_type": "stream",
     "text": [
      "epoch: 2, [batch: 4032 / 6720], examples_per_second: 3694.9594, train_label_loss: 1.3174, \n"
     ]
    },
    {
     "name": "stdout",
     "output_type": "stream",
     "text": [
      "epoch: 2, [batch: 4704 / 6720], examples_per_second: 3634.5060, train_label_loss: 0.4122, \n"
     ]
    },
    {
     "name": "stdout",
     "output_type": "stream",
     "text": [
      "epoch: 2, [batch: 5376 / 6720], examples_per_second: 3724.3070, train_label_loss: 0.4897, \n"
     ]
    },
    {
     "name": "stdout",
     "output_type": "stream",
     "text": [
      "epoch: 2, [batch: 6048 / 6720], examples_per_second: 3732.0914, train_label_loss: 0.2557, \n"
     ]
    },
    {
     "name": "stdout",
     "output_type": "stream",
     "text": [
      "=============================================================\n",
      "epoch: 2, source_val_acc_label: 0.8142, target_val_acc_label: 0.3496, source_val_label_loss: 0.5935, target_val_label_loss: 5538.8330, \n",
      "=============================================================\n"
     ]
    },
    {
     "name": "stdout",
     "output_type": "stream",
     "text": [
      "epoch: 3, [batch: 1 / 6720], examples_per_second: 4.3313, train_label_loss: 1.1822, \n"
     ]
    },
    {
     "name": "stdout",
     "output_type": "stream",
     "text": [
      "epoch: 3, [batch: 672 / 6720], examples_per_second: 3689.8714, train_label_loss: 0.0598, \n"
     ]
    },
    {
     "name": "stdout",
     "output_type": "stream",
     "text": [
      "epoch: 3, [batch: 1344 / 6720], examples_per_second: 3484.7494, train_label_loss: 0.2723, \n"
     ]
    },
    {
     "name": "stdout",
     "output_type": "stream",
     "text": [
      "epoch: 3, [batch: 2016 / 6720], examples_per_second: 3573.6266, train_label_loss: 0.5914, \n"
     ]
    },
    {
     "name": "stdout",
     "output_type": "stream",
     "text": [
      "epoch: 3, [batch: 2688 / 6720], examples_per_second: 3607.1029, train_label_loss: 0.3292, \n"
     ]
    },
    {
     "name": "stdout",
     "output_type": "stream",
     "text": [
      "epoch: 3, [batch: 3360 / 6720], examples_per_second: 3577.8589, train_label_loss: 0.1297, \n"
     ]
    },
    {
     "name": "stdout",
     "output_type": "stream",
     "text": [
      "epoch: 3, [batch: 4032 / 6720], examples_per_second: 3653.1274, train_label_loss: 0.4014, \n"
     ]
    },
    {
     "name": "stdout",
     "output_type": "stream",
     "text": [
      "epoch: 3, [batch: 4704 / 6720], examples_per_second: 3574.4085, train_label_loss: 0.2825, \n"
     ]
    },
    {
     "name": "stdout",
     "output_type": "stream",
     "text": [
      "epoch: 3, [batch: 5376 / 6720], examples_per_second: 3645.6640, train_label_loss: 0.3064, \n"
     ]
    },
    {
     "name": "stdout",
     "output_type": "stream",
     "text": [
      "epoch: 3, [batch: 6048 / 6720], examples_per_second: 3662.6011, train_label_loss: 0.3788, \n"
     ]
    },
    {
     "name": "stdout",
     "output_type": "stream",
     "text": [
      "=============================================================\n",
      "epoch: 3, source_val_acc_label: 0.8906, target_val_acc_label: 0.3901, source_val_label_loss: 0.3305, target_val_label_loss: 5207.3271, \n",
      "=============================================================\n"
     ]
    },
    {
     "name": "stdout",
     "output_type": "stream",
     "text": [
      "epoch: 4, [batch: 1 / 6720], examples_per_second: 4.2763, train_label_loss: 0.2154, \n"
     ]
    },
    {
     "name": "stdout",
     "output_type": "stream",
     "text": [
      "epoch: 4, [batch: 672 / 6720], examples_per_second: 3660.6153, train_label_loss: 1.3495, \n"
     ]
    },
    {
     "name": "stdout",
     "output_type": "stream",
     "text": [
      "epoch: 4, [batch: 1344 / 6720], examples_per_second: 3643.0930, train_label_loss: 2.2874, \n"
     ]
    },
    {
     "name": "stdout",
     "output_type": "stream",
     "text": [
      "epoch: 4, [batch: 2016 / 6720], examples_per_second: 3535.5570, train_label_loss: 0.2304, \n"
     ]
    },
    {
     "name": "stdout",
     "output_type": "stream",
     "text": [
      "epoch: 4, [batch: 2688 / 6720], examples_per_second: 3678.6038, train_label_loss: 0.2812, \n"
     ]
    },
    {
     "name": "stdout",
     "output_type": "stream",
     "text": [
      "epoch: 4, [batch: 3360 / 6720], examples_per_second: 3641.4233, train_label_loss: 0.1217, \n"
     ]
    },
    {
     "name": "stdout",
     "output_type": "stream",
     "text": [
      "epoch: 4, [batch: 4032 / 6720], examples_per_second: 3657.3220, train_label_loss: 0.2917, \n"
     ]
    },
    {
     "name": "stdout",
     "output_type": "stream",
     "text": [
      "epoch: 4, [batch: 4704 / 6720], examples_per_second: 3685.7117, train_label_loss: 0.3971, \n"
     ]
    },
    {
     "name": "stdout",
     "output_type": "stream",
     "text": [
      "epoch: 4, [batch: 5376 / 6720], examples_per_second: 3718.3364, train_label_loss: 0.1941, \n"
     ]
    },
    {
     "name": "stdout",
     "output_type": "stream",
     "text": [
      "epoch: 4, [batch: 6048 / 6720], examples_per_second: 3739.7584, train_label_loss: 0.4527, \n"
     ]
    },
    {
     "name": "stdout",
     "output_type": "stream",
     "text": [
      "=============================================================\n",
      "epoch: 4, source_val_acc_label: 0.9004, target_val_acc_label: 0.4058, source_val_label_loss: 0.3128, target_val_label_loss: 5393.5024, \n",
      "=============================================================\n"
     ]
    },
    {
     "name": "stdout",
     "output_type": "stream",
     "text": [
      "epoch: 5, [batch: 1 / 6720], examples_per_second: 4.3788, train_label_loss: 0.4634, \n"
     ]
    },
    {
     "name": "stdout",
     "output_type": "stream",
     "text": [
      "epoch: 5, [batch: 672 / 6720], examples_per_second: 3680.8919, train_label_loss: 0.3541, \n"
     ]
    },
    {
     "name": "stdout",
     "output_type": "stream",
     "text": [
      "epoch: 5, [batch: 1344 / 6720], examples_per_second: 3701.9652, train_label_loss: 0.2968, \n"
     ]
    },
    {
     "name": "stdout",
     "output_type": "stream",
     "text": [
      "epoch: 5, [batch: 2016 / 6720], examples_per_second: 3737.1415, train_label_loss: 0.3684, \n"
     ]
    },
    {
     "name": "stdout",
     "output_type": "stream",
     "text": [
      "epoch: 5, [batch: 2688 / 6720], examples_per_second: 3729.2474, train_label_loss: 0.1304, \n"
     ]
    },
    {
     "name": "stdout",
     "output_type": "stream",
     "text": [
      "epoch: 5, [batch: 3360 / 6720], examples_per_second: 3713.1644, train_label_loss: 0.6740, \n"
     ]
    },
    {
     "name": "stdout",
     "output_type": "stream",
     "text": [
      "epoch: 5, [batch: 4032 / 6720], examples_per_second: 3704.0195, train_label_loss: 0.1147, \n"
     ]
    },
    {
     "name": "stdout",
     "output_type": "stream",
     "text": [
      "epoch: 5, [batch: 4704 / 6720], examples_per_second: 3709.5430, train_label_loss: 0.1690, \n"
     ]
    },
    {
     "name": "stdout",
     "output_type": "stream",
     "text": [
      "epoch: 5, [batch: 5376 / 6720], examples_per_second: 3716.2241, train_label_loss: 0.1704, \n"
     ]
    },
    {
     "name": "stdout",
     "output_type": "stream",
     "text": [
      "epoch: 5, [batch: 6048 / 6720], examples_per_second: 3720.5737, train_label_loss: 0.3128, \n"
     ]
    },
    {
     "name": "stdout",
     "output_type": "stream",
     "text": [
      "=============================================================\n",
      "epoch: 5, source_val_acc_label: 0.8962, target_val_acc_label: 0.7263, source_val_label_loss: 0.3013, target_val_label_loss: 125.2758, \n",
      "=============================================================\n"
     ]
    },
    {
     "name": "stdout",
     "output_type": "stream",
     "text": [
      "New best\n"
     ]
    },
    {
     "name": "stdout",
     "output_type": "stream",
     "text": [
      "epoch: 6, [batch: 1 / 6720], examples_per_second: 4.3187, train_label_loss: 0.1238, \n"
     ]
    },
    {
     "name": "stdout",
     "output_type": "stream",
     "text": [
      "epoch: 6, [batch: 672 / 6720], examples_per_second: 3484.3019, train_label_loss: 0.2674, \n"
     ]
    },
    {
     "name": "stdout",
     "output_type": "stream",
     "text": [
      "epoch: 6, [batch: 1344 / 6720], examples_per_second: 3523.4049, train_label_loss: 0.2937, \n"
     ]
    },
    {
     "name": "stdout",
     "output_type": "stream",
     "text": [
      "epoch: 6, [batch: 2016 / 6720], examples_per_second: 3612.1956, train_label_loss: 0.3609, \n"
     ]
    },
    {
     "name": "stdout",
     "output_type": "stream",
     "text": [
      "epoch: 6, [batch: 2688 / 6720], examples_per_second: 3626.1347, train_label_loss: 0.2789, \n"
     ]
    },
    {
     "name": "stdout",
     "output_type": "stream",
     "text": [
      "epoch: 6, [batch: 3360 / 6720], examples_per_second: 3593.6530, train_label_loss: 0.3183, \n"
     ]
    },
    {
     "name": "stdout",
     "output_type": "stream",
     "text": [
      "epoch: 6, [batch: 4032 / 6720], examples_per_second: 3679.2591, train_label_loss: 0.4444, \n"
     ]
    },
    {
     "name": "stdout",
     "output_type": "stream",
     "text": [
      "epoch: 6, [batch: 4704 / 6720], examples_per_second: 3716.6299, train_label_loss: 0.1479, \n"
     ]
    },
    {
     "name": "stdout",
     "output_type": "stream",
     "text": [
      "epoch: 6, [batch: 5376 / 6720], examples_per_second: 3737.8832, train_label_loss: 0.1577, \n"
     ]
    },
    {
     "name": "stdout",
     "output_type": "stream",
     "text": [
      "epoch: 6, [batch: 6048 / 6720], examples_per_second: 3724.2805, train_label_loss: 0.2509, \n"
     ]
    },
    {
     "name": "stdout",
     "output_type": "stream",
     "text": [
      "=============================================================\n",
      "epoch: 6, source_val_acc_label: 0.9100, target_val_acc_label: 0.7807, source_val_label_loss: 0.2594, target_val_label_loss: 67.1027, \n",
      "=============================================================\n"
     ]
    },
    {
     "name": "stdout",
     "output_type": "stream",
     "text": [
      "New best\n"
     ]
    },
    {
     "name": "stdout",
     "output_type": "stream",
     "text": [
      "epoch: 7, [batch: 1 / 6720], examples_per_second: 4.3747, train_label_loss: 0.2220, \n"
     ]
    },
    {
     "name": "stdout",
     "output_type": "stream",
     "text": [
      "epoch: 7, [batch: 672 / 6720], examples_per_second: 3692.2471, train_label_loss: 0.1720, \n"
     ]
    },
    {
     "name": "stdout",
     "output_type": "stream",
     "text": [
      "epoch: 7, [batch: 1344 / 6720], examples_per_second: 3721.0706, train_label_loss: 0.0718, \n"
     ]
    },
    {
     "name": "stdout",
     "output_type": "stream",
     "text": [
      "epoch: 7, [batch: 2016 / 6720], examples_per_second: 3736.0720, train_label_loss: 0.1618, \n"
     ]
    },
    {
     "name": "stdout",
     "output_type": "stream",
     "text": [
      "epoch: 7, [batch: 2688 / 6720], examples_per_second: 3727.6700, train_label_loss: 0.0548, \n"
     ]
    },
    {
     "name": "stdout",
     "output_type": "stream",
     "text": [
      "epoch: 7, [batch: 3360 / 6720], examples_per_second: 3735.0386, train_label_loss: 0.0170, \n"
     ]
    },
    {
     "name": "stdout",
     "output_type": "stream",
     "text": [
      "epoch: 7, [batch: 4032 / 6720], examples_per_second: 3736.1218, train_label_loss: 0.1504, \n"
     ]
    },
    {
     "name": "stdout",
     "output_type": "stream",
     "text": [
      "epoch: 7, [batch: 4704 / 6720], examples_per_second: 3718.5321, train_label_loss: 0.1878, \n"
     ]
    },
    {
     "name": "stdout",
     "output_type": "stream",
     "text": [
      "epoch: 7, [batch: 5376 / 6720], examples_per_second: 3733.0926, train_label_loss: 0.2727, \n"
     ]
    },
    {
     "name": "stdout",
     "output_type": "stream",
     "text": [
      "epoch: 7, [batch: 6048 / 6720], examples_per_second: 3735.6025, train_label_loss: 0.0949, \n"
     ]
    },
    {
     "name": "stdout",
     "output_type": "stream",
     "text": [
      "=============================================================\n",
      "epoch: 7, source_val_acc_label: 0.9113, target_val_acc_label: 0.7778, source_val_label_loss: 0.2516, target_val_label_loss: 74.4223, \n",
      "=============================================================\n"
     ]
    },
    {
     "name": "stdout",
     "output_type": "stream",
     "text": [
      "epoch: 8, [batch: 1 / 6720], examples_per_second: 4.3968, train_label_loss: 0.1481, \n"
     ]
    },
    {
     "name": "stdout",
     "output_type": "stream",
     "text": [
      "epoch: 8, [batch: 672 / 6720], examples_per_second: 3694.1540, train_label_loss: 0.1527, \n"
     ]
    },
    {
     "name": "stdout",
     "output_type": "stream",
     "text": [
      "epoch: 8, [batch: 1344 / 6720], examples_per_second: 3736.0831, train_label_loss: 0.2120, \n"
     ]
    },
    {
     "name": "stdout",
     "output_type": "stream",
     "text": [
      "epoch: 8, [batch: 2016 / 6720], examples_per_second: 3744.0159, train_label_loss: 0.2418, \n"
     ]
    },
    {
     "name": "stdout",
     "output_type": "stream",
     "text": [
      "epoch: 8, [batch: 2688 / 6720], examples_per_second: 3709.8365, train_label_loss: 0.2446, \n"
     ]
    },
    {
     "name": "stdout",
     "output_type": "stream",
     "text": [
      "epoch: 8, [batch: 3360 / 6720], examples_per_second: 3736.1310, train_label_loss: 0.7251, \n"
     ]
    },
    {
     "name": "stdout",
     "output_type": "stream",
     "text": [
      "epoch: 8, [batch: 4032 / 6720], examples_per_second: 3746.2647, train_label_loss: 0.0585, \n"
     ]
    },
    {
     "name": "stdout",
     "output_type": "stream",
     "text": [
      "epoch: 8, [batch: 4704 / 6720], examples_per_second: 3705.9199, train_label_loss: 0.0628, \n"
     ]
    },
    {
     "name": "stdout",
     "output_type": "stream",
     "text": [
      "epoch: 8, [batch: 5376 / 6720], examples_per_second: 3630.9937, train_label_loss: 0.1773, \n"
     ]
    },
    {
     "name": "stdout",
     "output_type": "stream",
     "text": [
      "epoch: 8, [batch: 6048 / 6720], examples_per_second: 3569.4918, train_label_loss: 0.1508, \n"
     ]
    },
    {
     "name": "stdout",
     "output_type": "stream",
     "text": [
      "=============================================================\n",
      "epoch: 8, source_val_acc_label: 0.9118, target_val_acc_label: 0.7039, source_val_label_loss: 0.2432, target_val_label_loss: 130.3780, \n",
      "=============================================================\n"
     ]
    },
    {
     "name": "stdout",
     "output_type": "stream",
     "text": [
      "epoch: 9, [batch: 1 / 6720], examples_per_second: 4.3424, train_label_loss: 0.4401, \n"
     ]
    },
    {
     "name": "stdout",
     "output_type": "stream",
     "text": [
      "epoch: 9, [batch: 672 / 6720], examples_per_second: 3555.3246, train_label_loss: 0.2772, \n"
     ]
    },
    {
     "name": "stdout",
     "output_type": "stream",
     "text": [
      "epoch: 9, [batch: 1344 / 6720], examples_per_second: 3550.8172, train_label_loss: 0.5067, \n"
     ]
    },
    {
     "name": "stdout",
     "output_type": "stream",
     "text": [
      "epoch: 9, [batch: 2016 / 6720], examples_per_second: 3670.2327, train_label_loss: 0.4329, \n"
     ]
    },
    {
     "name": "stdout",
     "output_type": "stream",
     "text": [
      "epoch: 9, [batch: 2688 / 6720], examples_per_second: 3698.3800, train_label_loss: 0.3008, \n"
     ]
    },
    {
     "name": "stdout",
     "output_type": "stream",
     "text": [
      "epoch: 9, [batch: 3360 / 6720], examples_per_second: 3635.5877, train_label_loss: 0.3839, \n"
     ]
    },
    {
     "name": "stdout",
     "output_type": "stream",
     "text": [
      "epoch: 9, [batch: 4032 / 6720], examples_per_second: 3592.5507, train_label_loss: 0.2240, \n"
     ]
    },
    {
     "name": "stdout",
     "output_type": "stream",
     "text": [
      "epoch: 9, [batch: 4704 / 6720], examples_per_second: 3648.8818, train_label_loss: 0.3371, \n"
     ]
    },
    {
     "name": "stdout",
     "output_type": "stream",
     "text": [
      "epoch: 9, [batch: 5376 / 6720], examples_per_second: 3744.5730, train_label_loss: 0.1287, \n"
     ]
    },
    {
     "name": "stdout",
     "output_type": "stream",
     "text": [
      "epoch: 9, [batch: 6048 / 6720], examples_per_second: 3696.5084, train_label_loss: 0.1956, \n"
     ]
    },
    {
     "name": "stdout",
     "output_type": "stream",
     "text": [
      "=============================================================\n",
      "epoch: 9, source_val_acc_label: 0.9263, target_val_acc_label: 0.7419, source_val_label_loss: 0.2082, target_val_label_loss: 101.5576, \n",
      "=============================================================\n"
     ]
    },
    {
     "name": "stdout",
     "output_type": "stream",
     "text": [
      "epoch: 10, [batch: 1 / 6720], examples_per_second: 4.3594, train_label_loss: 0.2378, \n"
     ]
    },
    {
     "name": "stdout",
     "output_type": "stream",
     "text": [
      "epoch: 10, [batch: 672 / 6720], examples_per_second: 3623.7583, train_label_loss: 0.1611, \n"
     ]
    },
    {
     "name": "stdout",
     "output_type": "stream",
     "text": [
      "epoch: 10, [batch: 1344 / 6720], examples_per_second: 3717.6290, train_label_loss: 0.0290, \n"
     ]
    },
    {
     "name": "stdout",
     "output_type": "stream",
     "text": [
      "epoch: 10, [batch: 2016 / 6720], examples_per_second: 3770.7879, train_label_loss: 0.1398, \n"
     ]
    },
    {
     "name": "stdout",
     "output_type": "stream",
     "text": [
      "epoch: 10, [batch: 2688 / 6720], examples_per_second: 3710.9759, train_label_loss: 0.0398, \n"
     ]
    },
    {
     "name": "stdout",
     "output_type": "stream",
     "text": [
      "epoch: 10, [batch: 3360 / 6720], examples_per_second: 3724.0162, train_label_loss: 0.2953, \n"
     ]
    },
    {
     "name": "stdout",
     "output_type": "stream",
     "text": [
      "epoch: 10, [batch: 4032 / 6720], examples_per_second: 3717.4013, train_label_loss: 0.2965, \n"
     ]
    },
    {
     "name": "stdout",
     "output_type": "stream",
     "text": [
      "epoch: 10, [batch: 4704 / 6720], examples_per_second: 3718.9109, train_label_loss: 0.0534, \n"
     ]
    },
    {
     "name": "stdout",
     "output_type": "stream",
     "text": [
      "epoch: 10, [batch: 5376 / 6720], examples_per_second: 3737.8998, train_label_loss: 0.1307, \n"
     ]
    },
    {
     "name": "stdout",
     "output_type": "stream",
     "text": [
      "epoch: 10, [batch: 6048 / 6720], examples_per_second: 3634.3260, train_label_loss: 0.0946, \n"
     ]
    },
    {
     "name": "stdout",
     "output_type": "stream",
     "text": [
      "=============================================================\n",
      "epoch: 10, source_val_acc_label: 0.9231, target_val_acc_label: 0.7327, source_val_label_loss: 0.2186, target_val_label_loss: 114.1160, \n",
      "=============================================================\n"
     ]
    },
    {
     "name": "stdout",
     "output_type": "stream",
     "text": [
      "Patience (3) exhausted\n"
     ]
    }
   ],
   "source": [
    "###################################\n",
    "# train\n",
    "###################################\n",
    "jig = PTN_Train_Eval_Test_Jig(model, p.BEST_MODEL_PATH, p.device)\n",
    "\n",
    "jig.train(\n",
    "    train_iterable=datasets.source.processed.train,\n",
    "    source_val_iterable=datasets.source.processed.val,\n",
    "    target_val_iterable=datasets.target.processed.val,\n",
    "    num_epochs=p.n_epoch,\n",
    "    num_logs_per_epoch=p.NUM_LOGS_PER_EPOCH,\n",
    "    patience=p.patience,\n",
    "    optimizer=optimizer,\n",
    "    criteria_for_best=p.criteria_for_best,\n",
    ")"
   ]
  },
  {
   "cell_type": "code",
   "execution_count": 23,
   "id": "31e8fabf",
   "metadata": {
    "execution": {
     "iopub.execute_input": "2022-03-21T01:49:41.910702Z",
     "iopub.status.busy": "2022-03-21T01:49:41.903017Z",
     "iopub.status.idle": "2022-03-21T01:49:41.925915Z",
     "shell.execute_reply": "2022-03-21T01:49:41.925461Z"
    },
    "papermill": {
     "duration": 0.062291,
     "end_time": "2022-03-21T01:49:41.926030",
     "exception": false,
     "start_time": "2022-03-21T01:49:41.863739",
     "status": "completed"
    },
    "tags": []
   },
   "outputs": [],
   "source": [
    "total_experiment_time_secs = time.time() - start_time_secs"
   ]
  },
  {
   "cell_type": "code",
   "execution_count": 24,
   "id": "87b9595b",
   "metadata": {
    "execution": {
     "iopub.execute_input": "2022-03-21T01:49:42.007787Z",
     "iopub.status.busy": "2022-03-21T01:49:42.003728Z",
     "iopub.status.idle": "2022-03-21T01:52:03.589102Z",
     "shell.execute_reply": "2022-03-21T01:52:03.588841Z"
    },
    "papermill": {
     "duration": 141.622961,
     "end_time": "2022-03-21T01:52:03.589171",
     "exception": false,
     "start_time": "2022-03-21T01:49:41.966210",
     "status": "completed"
    },
    "tags": []
   },
   "outputs": [],
   "source": [
    "###################################\n",
    "# Evaluate the model\n",
    "###################################\n",
    "source_test_label_accuracy, source_test_label_loss = jig.test(datasets.source.processed.test)\n",
    "target_test_label_accuracy, target_test_label_loss = jig.test(datasets.target.processed.test)\n",
    "\n",
    "source_val_label_accuracy, source_val_label_loss = jig.test(datasets.source.processed.val)\n",
    "target_val_label_accuracy, target_val_label_loss = jig.test(datasets.target.processed.val)\n",
    "\n",
    "history = jig.get_history()\n",
    "\n",
    "total_epochs_trained = len(history[\"epoch_indices\"])\n",
    "\n",
    "val_dl = Iterable_Aggregator((datasets.source.original.val,datasets.target.original.val))\n",
    "\n",
    "confusion = ptn_confusion_by_domain_over_dataloader(model, p.device, val_dl)\n",
    "per_domain_accuracy = per_domain_accuracy_from_confusion(confusion)\n",
    "\n",
    "# Add a key to per_domain_accuracy for if it was a source domain\n",
    "for domain, accuracy in per_domain_accuracy.items():\n",
    "    per_domain_accuracy[domain] = {\n",
    "        \"accuracy\": accuracy,\n",
    "        \"source?\": domain in p.domains_source\n",
    "    }\n",
    "\n",
    "# Do an independent accuracy assesment JUST TO BE SURE!\n",
    "# _source_test_label_accuracy = independent_accuracy_assesment(model, datasets.source.processed.test, p.device)\n",
    "# _target_test_label_accuracy = independent_accuracy_assesment(model, datasets.target.processed.test, p.device)\n",
    "# _source_val_label_accuracy = independent_accuracy_assesment(model, datasets.source.processed.val, p.device)\n",
    "# _target_val_label_accuracy = independent_accuracy_assesment(model, datasets.target.processed.val, p.device)\n",
    "\n",
    "# assert(_source_test_label_accuracy == source_test_label_accuracy)\n",
    "# assert(_target_test_label_accuracy == target_test_label_accuracy)\n",
    "# assert(_source_val_label_accuracy == source_val_label_accuracy)\n",
    "# assert(_target_val_label_accuracy == target_val_label_accuracy)\n",
    "\n",
    "experiment = {\n",
    "    \"experiment_name\": p.experiment_name,\n",
    "    \"parameters\": dict(p),\n",
    "    \"results\": {\n",
    "        \"source_test_label_accuracy\": source_test_label_accuracy,\n",
    "        \"source_test_label_loss\": source_test_label_loss,\n",
    "        \"target_test_label_accuracy\": target_test_label_accuracy,\n",
    "        \"target_test_label_loss\": target_test_label_loss,\n",
    "        \"source_val_label_accuracy\": source_val_label_accuracy,\n",
    "        \"source_val_label_loss\": source_val_label_loss,\n",
    "        \"target_val_label_accuracy\": target_val_label_accuracy,\n",
    "        \"target_val_label_loss\": target_val_label_loss,\n",
    "        \"total_epochs_trained\": total_epochs_trained,\n",
    "        \"total_experiment_time_secs\": total_experiment_time_secs,\n",
    "        \"confusion\": confusion,\n",
    "        \"per_domain_accuracy\": per_domain_accuracy,\n",
    "    },\n",
    "    \"history\": history,\n",
    "    \"dataset_metrics\": get_dataset_metrics(datasets, \"ptn\"),\n",
    "}"
   ]
  },
  {
   "cell_type": "code",
   "execution_count": 25,
   "id": "54a21829",
   "metadata": {
    "execution": {
     "iopub.execute_input": "2022-03-21T01:52:03.660698Z",
     "iopub.status.busy": "2022-03-21T01:52:03.660442Z",
     "iopub.status.idle": "2022-03-21T01:52:03.778965Z",
     "shell.execute_reply": "2022-03-21T01:52:03.778426Z"
    },
    "papermill": {
     "duration": 0.154812,
     "end_time": "2022-03-21T01:52:03.779068",
     "exception": false,
     "start_time": "2022-03-21T01:52:03.624256",
     "status": "completed"
    },
    "tags": []
   },
   "outputs": [
    {
     "data": {
      "image/png": "[encoded data removed]",
      "text/plain": [
       "<Figure size 1080x504 with 1 Axes>"
      ]
     },
     "metadata": {
      "needs_background": "light"
     },
     "output_type": "display_data"
    }
   ],
   "source": [
    "ax = get_loss_curve(experiment)\n",
    "plt.show()"
   ]
  },
  {
   "cell_type": "code",
   "execution_count": 26,
   "id": "fd8a0f60",
   "metadata": {
    "execution": {
     "iopub.execute_input": "2022-03-21T01:52:03.855302Z",
     "iopub.status.busy": "2022-03-21T01:52:03.855038Z",
     "iopub.status.idle": "2022-03-21T01:52:04.001048Z",
     "shell.execute_reply": "2022-03-21T01:52:04.000786Z"
    },
    "papermill": {
     "duration": 0.182976,
     "end_time": "2022-03-21T01:52:04.001104",
     "exception": false,
     "start_time": "2022-03-21T01:52:03.818128",
     "status": "completed"
    },
    "tags": []
   },
   "outputs": [
    {
     "data": {
      "text/plain": [
       "<AxesSubplot:title={'center':'Results'}>"
      ]
     },
     "execution_count": 26,
     "metadata": {},
     "output_type": "execute_result"
    },
    {
     "data": {
      "image/png": "[encoded data removed]",
      "text/plain": [
       "<Figure size 1080x504 with 1 Axes>"
      ]
     },
     "metadata": {
      "needs_background": "light"
     },
     "output_type": "display_data"
    }
   ],
   "source": [
    "get_results_table(experiment)"
   ]
  },
  {
   "cell_type": "code",
   "execution_count": 27,
   "id": "cf8dc689",
   "metadata": {
    "execution": {
     "iopub.execute_input": "2022-03-21T01:52:04.077129Z",
     "iopub.status.busy": "2022-03-21T01:52:04.076876Z",
     "iopub.status.idle": "2022-03-21T01:52:04.236227Z",
     "shell.execute_reply": "2022-03-21T01:52:04.236582Z"
    },
    "papermill": {
     "duration": 0.198614,
     "end_time": "2022-03-21T01:52:04.236697",
     "exception": false,
     "start_time": "2022-03-21T01:52:04.038083",
     "status": "completed"
    },
    "tags": []
   },
   "outputs": [
    {
     "data": {
      "text/plain": [
       "<AxesSubplot:title={'center':'Per Domain Validation Accuracy'}, xlabel='domain'>"
      ]
     },
     "execution_count": 27,
     "metadata": {},
     "output_type": "execute_result"
    },
    {
     "data": {
      "image/png": "[encoded data removed]",
      "text/plain": [
       "<Figure size 1080x504 with 1 Axes>"
      ]
     },
     "metadata": {
      "needs_background": "light"
     },
     "output_type": "display_data"
    }
   ],
   "source": [
    "get_domain_accuracies(experiment)"
   ]
  },
  {
   "cell_type": "code",
   "execution_count": 28,
   "id": "a74ae082",
   "metadata": {
    "execution": {
     "iopub.execute_input": "2022-03-21T01:52:04.316311Z",
     "iopub.status.busy": "2022-03-21T01:52:04.316051Z",
     "iopub.status.idle": "2022-03-21T01:52:04.333752Z",
     "shell.execute_reply": "2022-03-21T01:52:04.333301Z"
    },
    "papermill": {
     "duration": 0.056934,
     "end_time": "2022-03-21T01:52:04.333844",
     "exception": false,
     "start_time": "2022-03-21T01:52:04.276910",
     "status": "completed"
    },
    "tags": []
   },
   "outputs": [
    {
     "name": "stdout",
     "output_type": "stream",
     "text": [
      "Source Test Label Accuracy: 0.9068033854166667 Target Test Label Accuracy: 0.778804641122504\n",
      "Source Val Label Accuracy: 0.9099934895833334 Target Val Label Accuracy: 0.7807340396257567\n"
     ]
    }
   ],
   "source": [
    "print(\"Source Test Label Accuracy:\", experiment[\"results\"][\"source_test_label_accuracy\"], \"Target Test Label Accuracy:\", experiment[\"results\"][\"target_test_label_accuracy\"])\n",
    "print(\"Source Val Label Accuracy:\", experiment[\"results\"][\"source_val_label_accuracy\"], \"Target Val Label Accuracy:\", experiment[\"results\"][\"target_val_label_accuracy\"])"
   ]
  },
  {
   "cell_type": "code",
   "execution_count": 29,
   "id": "dacca602",
   "metadata": {
    "execution": {
     "iopub.execute_input": "2022-03-21T01:52:04.415206Z",
     "iopub.status.busy": "2022-03-21T01:52:04.414955Z",
     "iopub.status.idle": "2022-03-21T01:52:04.434551Z",
     "shell.execute_reply": "2022-03-21T01:52:04.434858Z"
    },
    "papermill": {
     "duration": 0.059431,
     "end_time": "2022-03-21T01:52:04.434967",
     "exception": false,
     "start_time": "2022-03-21T01:52:04.375536",
     "status": "completed"
    },
    "tags": [
     "experiment_json"
    ]
   },
   "outputs": [
    {
     "data": {
      "text/plain": [
       "'{\"experiment_name\": \"tl_3Av2:oracle.run1.framed -> cores+wisig\", \"parameters\": {\"experiment_name\": \"tl_3Av2:oracle.run1.framed -> cores+wisig\", \"device\": \"cuda\", \"lr\": 0.0001, \"x_shape\": [2, 200], \"n_shot\": 3, \"n_query\": 2, \"train_k_factor\": 3, \"val_k_factor\": 2, \"test_k_factor\": 2, \"torch_default_dtype\": \"torch.float32\", \"n_epoch\": 50, \"patience\": 3, \"criteria_for_best\": \"target_accuracy\", \"x_net\": [{\"class\": \"nnReshape\", \"kargs\": {\"shape\": [-1, 1, 2, 200]}}, {\"class\": \"Conv2d\", \"kargs\": {\"in_channels\": 1, \"out_channels\": 256, \"kernel_size\": [1, 7], \"bias\": false, \"padding\": [0, 3]}}, {\"class\": \"ReLU\", \"kargs\": {\"inplace\": true}}, {\"class\": \"BatchNorm2d\", \"kargs\": {\"num_features\": 256}}, {\"class\": \"Conv2d\", \"kargs\": {\"in_channels\": 256, \"out_channels\": 80, \"kernel_size\": [2, 7], \"bias\": true, \"padding\": [0, 3]}}, {\"class\": \"ReLU\", \"kargs\": {\"inplace\": true}}, {\"class\": \"BatchNorm2d\", \"kargs\": {\"num_features\": 80}}, {\"class\": \"Flatten\", \"kargs\": {}}, {\"class\": \"Linear\", \"kargs\": {\"in_features\": 16000, \"out_features\": 256}}, {\"class\": \"ReLU\", \"kargs\": {\"inplace\": true}}, {\"class\": \"BatchNorm1d\", \"kargs\": {\"num_features\": 256}}, {\"class\": \"Linear\", \"kargs\": {\"in_features\": 256, \"out_features\": 256}}], \"NUM_LOGS_PER_EPOCH\": 10, \"BEST_MODEL_PATH\": \"./best_model.pth\", \"n_way\": 16, \"datasets\": [{\"labels\": [\"1-10.\", \"1-11.\", \"1-15.\", \"1-16.\", \"1-17.\", \"1-18.\", \"1-19.\", \"10-4.\", \"10-7.\", \"11-1.\", \"11-14.\", \"11-17.\", \"11-20.\", \"11-7.\", \"13-20.\", \"13-8.\", \"14-10.\", \"14-11.\", \"14-14.\", \"14-7.\", \"15-1.\", \"15-20.\", \"16-1.\", \"16-16.\", \"17-10.\", \"17-11.\", \"17-2.\", \"19-1.\", \"19-16.\", \"19-19.\", \"19-20.\", \"19-3.\", \"2-10.\", \"2-11.\", \"2-17.\", \"2-18.\", \"2-20.\", \"2-3.\", \"2-4.\", \"2-5.\", \"2-6.\", \"2-7.\", \"2-8.\", \"3-13.\", \"3-18.\", \"3-3.\", \"4-1.\", \"4-10.\", \"4-11.\", \"4-19.\", \"5-5.\", \"6-15.\", \"7-10.\", \"7-14.\", \"8-18.\", \"8-20.\", \"8-3.\", \"8-8.\"], \"domains\": [1, 2, 3, 4, 5], \"num_examples_per_domain_per_label\": -1, \"pickle_path\": \"/mnt/wd500GB/CSC500/csc500-main/datasets/cores.stratified_ds.2022A.pkl\", \"source_or_target_dataset\": \"target\", \"x_transforms\": [\"take_200\"], \"episode_transforms\": [], \"domain_prefix\": \"C_\"}, {\"labels\": [\"1-10\", \"1-12\", \"1-14\", \"1-16\", \"1-18\", \"1-19\", \"1-8\", \"10-11\", \"10-17\", \"10-4\", \"10-7\", \"11-1\", \"11-10\", \"11-19\", \"11-20\", \"11-4\", \"11-7\", \"12-19\", \"12-20\", \"12-7\", \"13-14\", \"13-18\", \"13-19\", \"13-20\", \"13-3\", \"13-7\", \"14-10\", \"14-11\", \"14-12\", \"14-13\", \"14-14\", \"14-19\", \"14-20\", \"14-7\", \"14-8\", \"14-9\", \"15-1\", \"15-19\", \"15-6\", \"16-1\", \"16-16\", \"16-19\", \"16-20\", \"17-10\", \"17-11\", \"18-1\", \"18-10\", \"18-11\", \"18-12\", \"18-13\", \"18-14\", \"18-15\", \"18-16\", \"18-17\", \"18-19\", \"18-2\", \"18-20\", \"18-4\", \"18-5\", \"18-7\", \"18-8\", \"18-9\", \"19-1\", \"19-10\", \"19-11\", \"19-12\", \"19-13\", \"19-14\", \"19-15\", \"19-19\", \"19-2\", \"19-20\", \"19-3\", \"19-4\", \"19-6\", \"19-7\", \"19-8\", \"19-9\", \"2-1\", \"2-13\", \"2-15\", \"2-3\", \"2-4\", \"2-5\", \"2-6\", \"2-7\", \"2-8\", \"20-1\", \"20-12\", \"20-14\", \"20-15\", \"20-16\", \"20-18\", \"20-19\", \"20-20\", \"20-3\", \"20-4\", \"20-5\", \"20-7\", \"20-8\", \"3-1\", \"3-13\", \"3-18\", \"3-2\", \"3-8\", \"4-1\", \"4-10\", \"4-11\", \"5-1\", \"5-5\", \"6-1\", \"6-15\", \"6-6\", \"7-10\", \"7-11\", \"7-12\", \"7-13\", \"7-14\", \"7-7\", \"7-8\", \"7-9\", \"8-1\", \"8-13\", \"8-14\", \"8-18\", \"8-20\", \"8-3\", \"8-8\", \"9-1\", \"9-7\"], \"domains\": [1, 2, 3, 4], \"num_examples_per_domain_per_label\": -1, \"pickle_path\": \"/mnt/wd500GB/CSC500/csc500-main/datasets/wisig.node3-19.stratified_ds.2022A.pkl\", \"source_or_target_dataset\": \"target\", \"x_transforms\": [\"take_200\"], \"episode_transforms\": [], \"domain_prefix\": \"W_\"}, {\"labels\": [\"3123D52\", \"3123D65\", \"3123D79\", \"3123D80\", \"3123D54\", \"3123D70\", \"3123D7B\", \"3123D89\", \"3123D58\", \"3123D76\", \"3123D7D\", \"3123EFE\", \"3123D64\", \"3123D78\", \"3123D7E\", \"3124E4A\"], \"domains\": [32, 38, 8, 44, 14, 50, 20, 26], \"num_examples_per_domain_per_label\": 2000, \"pickle_path\": \"/mnt/wd500GB/CSC500/csc500-main/datasets/oracle.Run1_framed_2000Examples_stratified_ds.2022A.pkl\", \"source_or_target_dataset\": \"source\", \"x_transforms\": [\"take_200\", \"resample_20Msps_to_25Msps\"], \"episode_transforms\": [], \"domain_prefix\": \"O_\"}], \"seed\": 154325, \"dataset_seed\": 154325, \"domains_source\": [\"O_32\", \"O_38\", \"O_8\", \"O_44\", \"O_14\", \"O_50\", \"O_20\", \"O_26\"], \"domains_target\": [\"C_1\", \"C_2\", \"C_3\", \"C_4\", \"C_5\", \"W_1\", \"W_2\", \"W_3\", \"W_4\"]}, \"results\": {\"source_test_label_accuracy\": 0.9068033854166667, \"source_test_label_loss\": 0.2679370045661926, \"target_test_label_accuracy\": 0.778804641122504, \"target_test_label_loss\": 70.97637176513672, \"source_val_label_accuracy\": 0.9099934895833334, \"source_val_label_loss\": 0.2593686580657959, \"target_val_label_accuracy\": 0.7807340396257567, \"target_val_label_loss\": 67.10275268554688, \"total_epochs_trained\": 10, \"total_experiment_time_secs\": 1717.3869280815125, \"confusion\": {\"O_8\": {\"13\": {\"13\": 197, \"10\": 22, \"7\": 19, \"6\": 2}, \"9\": {\"9\": 240}, \"15\": {\"15\": 227, \"12\": 13}, \"2\": {\"2\": 213, \"3\": 23, \"12\": 4}, \"3\": {\"3\": 240}, \"8\": {\"8\": 240}, \"5\": {\"1\": 16, \"5\": 201, \"10\": 17, \"11\": 4, \"14\": 2}, \"14\": {\"14\": 233, \"4\": 7}, \"1\": {\"1\": 218, \"11\": 17, \"5\": 4, \"10\": 1}, \"0\": {\"0\": 240}, \"10\": {\"10\": 217, \"13\": 20, \"5\": 2, \"4\": 1}, \"6\": {\"6\": 212, \"7\": 28}, \"11\": {\"11\": 182, \"1\": 53, \"14\": 5}, \"7\": {\"7\": 225, \"6\": 15}, \"4\": {\"4\": 239, \"6\": 1}, \"12\": {\"12\": 186, \"15\": 54}}, \"O_38\": {\"13\": {\"13\": 230, \"10\": 10}, \"12\": {\"12\": 240}, \"2\": {\"2\": 231, \"14\": 9}, \"9\": {\"9\": 234, \"5\": 4, \"7\": 2}, \"15\": {\"15\": 234, \"2\": 1, \"5\": 4, \"8\": 1}, \"5\": {\"5\": 154, \"8\": 55, \"7\": 17, \"9\": 11, \"0\": 1, \"15\": 2}, \"14\": {\"14\": 232, \"2\": 8}, \"0\": {\"7\": 6, \"0\": 206, \"8\": 4, \"10\": 19, \"5\": 1, \"13\": 4}, \"3\": {\"3\": 240}, \"1\": {\"1\": 240}, \"11\": {\"11\": 240}, \"7\": {\"7\": 230, \"0\": 3, \"5\": 3, \"8\": 4}, \"8\": {\"8\": 183, \"5\": 49, \"7\": 7, \"15\": 1}, \"4\": {\"4\": 240}, \"10\": {\"10\": 234, \"0\": 3, \"4\": 1, \"13\": 2}, \"6\": {\"6\": 240}}, \"O_26\": {\"10\": {\"10\": 181, \"14\": 38, \"0\": 14, \"15\": 6, \"6\": 1}, \"12\": {\"12\": 240}, \"1\": {\"1\": 217, \"10\": 4, \"14\": 18, \"0\": 1}, \"0\": {\"0\": 175, \"10\": 36, \"15\": 1, \"8\": 6, \"14\": 22}, \"15\": {\"6\": 22, \"15\": 200, \"5\": 11, \"14\": 2, \"10\": 5}, \"13\": {\"13\": 209, \"3\": 3, \"2\": 17, \"9\": 11}, \"8\": {\"8\": 193, \"9\": 16, \"7\": 25, \"0\": 3, \"2\": 3}, \"3\": {\"3\": 219, \"2\": 7, \"7\": 14}, \"11\": {\"11\": 240}, \"4\": {\"4\": 240}, \"6\": {\"6\": 225, \"15\": 12, \"10\": 3}, \"7\": {\"2\": 16, \"7\": 192, \"8\": 20, \"3\": 11, \"9\": 1}, \"14\": {\"10\": 35, \"14\": 183, \"1\": 6, \"0\": 15, \"15\": 1}, \"2\": {\"2\": 152, \"8\": 12, \"7\": 29, \"9\": 6, \"3\": 37, \"13\": 2, \"0\": 2}, \"5\": {\"5\": 231, \"15\": 9}, \"9\": {\"9\": 182, \"8\": 24, \"2\": 14, \"13\": 20}}, \"O_20\": {\"5\": {\"5\": 208, \"1\": 23, \"3\": 8, \"9\": 1}, \"15\": {\"15\": 217, \"1\": 17, \"5\": 1, \"13\": 2, \"12\": 3}, \"9\": {\"9\": 191, \"3\": 27, \"1\": 4, \"7\": 8, \"2\": 10}, \"7\": {\"7\": 212, \"2\": 14, \"9\": 13, \"3\": 1}, \"3\": {\"3\": 179, \"8\": 7, \"1\": 11, \"9\": 33, \"5\": 6, \"7\": 4}, \"8\": {\"8\": 233, \"3\": 6, \"14\": 1}, \"4\": {\"4\": 238, \"12\": 2}, \"6\": {\"6\": 240}, \"2\": {\"2\": 184, \"12\": 18, \"7\": 24, \"13\": 2, \"9\": 11, \"4\": 1}, \"12\": {\"12\": 207, \"4\": 4, \"2\": 18, \"15\": 7, \"1\": 2, \"7\": 1, \"5\": 1}, \"0\": {\"0\": 239, \"5\": 1}, \"13\": {\"13\": 232, \"2\": 7, \"12\": 1}, \"10\": {\"10\": 240}, \"11\": {\"11\": 240}, \"14\": {\"14\": 239, \"6\": 1}, \"1\": {\"9\": 3, \"1\": 197, \"5\": 32, \"3\": 3, \"15\": 4, \"12\": 1}}, \"O_50\": {\"1\": {\"1\": 233, \"5\": 4, \"13\": 3}, \"2\": {\"2\": 231, \"0\": 9}, \"8\": {\"8\": 240}, \"7\": {\"7\": 234, \"4\": 3, \"5\": 3}, \"14\": {\"14\": 240}, \"6\": {\"6\": 225, \"15\": 11, \"5\": 4}, \"3\": {\"3\": 240}, \"4\": {\"4\": 209, \"15\": 6, \"7\": 14, \"5\": 8, \"6\": 2, \"11\": 1}, \"12\": {\"12\": 232, \"9\": 5, \"11\": 3}, \"15\": {\"15\": 227, \"6\": 7, \"11\": 5, \"5\": 1}, \"11\": {\"11\": 232, \"15\": 3, \"9\": 3, \"12\": 2}, \"0\": {\"0\": 231, \"10\": 2, \"2\": 7}, \"9\": {\"9\": 225, \"12\": 8, \"11\": 7}, \"10\": {\"10\": 240}, \"5\": {\"5\": 171, \"1\": 1, \"4\": 9, \"6\": 17, \"7\": 33, \"13\": 2, \"15\": 5, \"11\": 2}, \"13\": {\"13\": 239, \"5\": 1}}, \"O_32\": {\"2\": {\"2\": 224, \"4\": 16}, \"6\": {\"6\": 240}, \"5\": {\"5\": 165, \"0\": 5, \"7\": 53, \"8\": 14, \"14\": 3}, \"12\": {\"12\": 240}, \"13\": {\"13\": 214, \"3\": 15, \"4\": 10, \"11\": 1}, \"9\": {\"9\": 240}, \"11\": {\"11\": 239, \"13\": 1}, \"1\": {\"1\": 240}, \"3\": {\"3\": 239, \"13\": 1}, \"7\": {\"7\": 199, \"14\": 3, \"5\": 36, \"8\": 1, \"0\": 1}, \"14\": {\"14\": 194, \"7\": 17, \"3\": 1, \"0\": 21, \"8\": 5, \"5\": 1, \"13\": 1}, \"8\": {\"8\": 213, \"0\": 17, \"14\": 4, \"5\": 5, \"3\": 1}, \"4\": {\"4\": 224, \"13\": 1, \"2\": 15}, \"0\": {\"0\": 201, \"8\": 19, \"7\": 10, \"5\": 3, \"14\": 7}, \"10\": {\"10\": 240}, \"15\": {\"15\": 239, \"8\": 1}}, \"O_44\": {\"13\": {\"13\": 208, \"6\": 24, \"9\": 7, \"11\": 1}, \"4\": {\"4\": 188, \"14\": 45, \"15\": 5, \"9\": 1, \"5\": 1}, \"6\": {\"6\": 206, \"13\": 21, \"9\": 11, \"7\": 2}, \"0\": {\"0\": 216, \"8\": 23, \"15\": 1}, \"10\": {\"10\": 235, \"1\": 3, \"2\": 1, \"7\": 1}, \"7\": {\"7\": 225, \"10\": 4, \"9\": 11}, \"14\": {\"14\": 203, \"4\": 15, \"15\": 17, \"5\": 5}, \"15\": {\"15\": 202, \"5\": 16, \"14\": 13, \"0\": 2, \"8\": 6, \"4\": 1}, \"5\": {\"5\": 215, \"14\": 10, \"15\": 12, \"4\": 1, \"8\": 2}, \"2\": {\"2\": 226, \"1\": 9, \"7\": 2, \"9\": 1, \"10\": 2}, \"9\": {\"7\": 44, \"9\": 152, \"6\": 33, \"13\": 10, \"2\": 1}, \"12\": {\"12\": 239, \"3\": 1}, \"8\": {\"8\": 180, \"0\": 55, \"15\": 2, \"5\": 3}, \"3\": {\"3\": 238, \"12\": 2}, \"1\": {\"1\": 233, \"2\": 7}, \"11\": {\"11\": 240}}, \"O_14\": {\"1\": {\"1\": 240}, \"15\": {\"15\": 240}, \"10\": {\"10\": 240}, \"2\": {\"5\": 19, \"6\": 13, \"4\": 8, \"14\": 31, \"2\": 155, \"13\": 10, \"3\": 4}, \"9\": {\"9\": 240}, \"5\": {\"2\": 9, \"5\": 227, \"7\": 2, \"4\": 1, \"3\": 1}, \"7\": {\"7\": 239, \"5\": 1}, \"13\": {\"6\": 92, \"13\": 71, \"14\": 54, \"4\": 2, \"2\": 10, \"3\": 8, \"15\": 3}, \"8\": {\"8\": 240}, \"6\": {\"13\": 48, \"6\": 174, \"2\": 4, \"14\": 14}, \"3\": {\"3\": 235, \"14\": 2, \"13\": 3}, \"12\": {\"12\": 240}, \"0\": {\"0\": 229, \"3\": 9, \"10\": 2}, \"4\": {\"4\": 236, \"5\": 3, \"2\": 1}, \"14\": {\"14\": 210, \"2\": 6, \"13\": 21, \"3\": 3}, \"11\": {\"11\": 240}}, \"C_2\": {\"21\": {\"21\": 109, \"3\": 3, \"40\": 1, \"46\": 3, \"50\": 3, \"48\": 1}, \"4\": {\"4\": 102, \"9\": 18, \"40\": 7, \"29\": 2, \"44\": 1}, \"6\": {\"6\": 99, \"3\": 9, \"46\": 8, \"45\": 4, \"12\": 4}, \"10\": {\"10\": 110, \"11\": 2}, \"33\": {\"33\": 26, \"29\": 2}, \"56\": {\"56\": 81, \"0\": 4, \"1\": 10, \"22\": 19, \"47\": 5, \"57\": 1, \"52\": 1, \"5\": 1}, \"20\": {\"20\": 123, \"8\": 7, \"52\": 2}, \"24\": {\"24\": 95, \"43\": 1}, \"45\": {\"44\": 4, \"6\": 14, \"3\": 5, \"45\": 74, \"12\": 8, \"5\": 7, \"50\": 10, \"46\": 4, \"40\": 2}, \"32\": {\"32\": 28}, \"27\": {\"27\": 148}, \"53\": {\"53\": 134, \"54\": 2}, \"8\": {\"8\": 155, \"20\": 4, \"27\": 1}, \"54\": {\"54\": 98, \"36\": 2, \"8\": 1, \"51\": 5, \"23\": 2}, \"50\": {\"50\": 93, \"21\": 4, \"12\": 9, \"6\": 10, \"3\": 6, \"45\": 3, \"30\": 2, \"46\": 5, \"44\": 1, \"5\": 1}, \"44\": {\"44\": 88, \"40\": 4, \"21\": 2, \"45\": 4, \"50\": 1, \"3\": 1}, \"5\": {\"5\": 114, \"46\": 4, \"21\": 1, \"3\": 1}, \"38\": {\"38\": 20}, \"19\": {\"19\": 125, \"54\": 2, \"35\": 2, \"34\": 1, \"55\": 1, \"31\": 1}, \"1\": {\"1\": 95, \"56\": 3, \"30\": 5, \"48\": 2, \"47\": 4, \"57\": 2, \"22\": 1}, \"30\": {\"30\": 142, \"50\": 2}, \"15\": {\"15\": 142, \"16\": 1, \"28\": 1}, \"23\": {\"23\": 146}, \"35\": {\"35\": 32}, \"22\": {\"22\": 90, \"1\": 8, \"56\": 16, \"47\": 4, \"5\": 3, \"40\": 2, \"55\": 1, \"46\": 2, \"6\": 1, \"52\": 1}, \"40\": {\"40\": 130, \"1\": 1, \"4\": 1, \"45\": 1, \"44\": 1, \"9\": 3, \"29\": 2, \"56\": 1}, \"46\": {\"46\": 92, \"5\": 10, \"21\": 6, \"3\": 5, \"30\": 1, \"45\": 1, \"12\": 1, \"50\": 5, \"6\": 4, \"52\": 1}, \"3\": {\"3\": 63, \"5\": 3, \"21\": 2, \"6\": 6, \"44\": 3, \"46\": 7, \"12\": 2, \"50\": 1, \"45\": 4, \"52\": 1}, \"48\": {\"48\": 139, \"1\": 1, \"50\": 1, \"57\": 2, \"47\": 4, \"30\": 1}, \"52\": {\"52\": 122, \"48\": 1, \"57\": 1}, \"2\": {\"2\": 29, \"1\": 1, \"52\": 1, \"21\": 1}, \"26\": {\"26\": 22, \"36\": 1, \"17\": 1}, \"17\": {\"17\": 93, \"32\": 5, \"36\": 3, \"29\": 2, \"20\": 1}, \"55\": {\"42\": 3, \"55\": 112, \"13\": 1, \"7\": 2, \"40\": 4, \"17\": 1, \"43\": 3, \"57\": 2, \"29\": 1, \"47\": 4, \"41\": 1, \"2\": 4, \"56\": 2, \"23\": 2, \"36\": 2}, \"51\": {\"51\": 118, \"54\": 2, \"20\": 2}, \"42\": {\"17\": 1, \"42\": 27, \"55\": 2, \"33\": 1, \"31\": 3, \"23\": 1, \"39\": 1}, \"41\": {\"41\": 19, \"1\": 1}, \"31\": {\"31\": 20, \"14\": 1, \"42\": 4, \"7\": 1, \"55\": 2}, \"16\": {\"16\": 138}, \"36\": {\"36\": 111, \"33\": 2, \"27\": 1, \"29\": 2}, \"49\": {\"49\": 15, \"7\": 1, \"34\": 3, \"42\": 1, \"23\": 3, \"55\": 1}, \"0\": {\"0\": 47, \"40\": 1}, \"18\": {\"18\": 48}, \"25\": {\"18\": 6, \"25\": 124, \"15\": 8, \"16\": 6, \"19\": 1, \"7\": 1}, \"9\": {\"9\": 90, \"40\": 4, \"4\": 10, \"30\": 1, \"48\": 3, \"27\": 3, \"57\": 1, \"29\": 8, \"51\": 1, \"8\": 1}, \"47\": {\"47\": 100, \"14\": 1, \"48\": 7, \"40\": 7, \"5\": 2, \"1\": 5, \"57\": 8, \"30\": 1, \"22\": 1}, \"7\": {\"7\": 34, \"31\": 1, \"55\": 1}, \"37\": {\"37\": 36}, \"13\": {\"13\": 115, \"56\": 1}, \"14\": {\"41\": 2, \"56\": 4, \"14\": 9, \"29\": 1, \"33\": 3, \"1\": 1, \"46\": 1, \"47\": 1, \"0\": 2}, \"34\": {\"34\": 27, \"49\": 1}, \"57\": {\"57\": 139, \"48\": 1}, \"11\": {\"11\": 129, \"16\": 2, \"15\": 4, \"10\": 3}, \"39\": {\"39\": 26, \"2\": 1, \"14\": 1}, \"12\": {\"12\": 90, \"3\": 1, \"50\": 1}, \"28\": {\"28\": 28}, \"29\": {\"29\": 87, \"4\": 6, \"9\": 14, \"1\": 4, \"57\": 4, \"40\": 8, \"8\": 1, \"7\": 1, \"48\": 2, \"20\": 1}, \"43\": {\"43\": 140}}, \"W_2\": {\"56\": {\"56\": 5, \"49\": 2, \"40\": 1, \"114\": 1, \"95\": 1, \"107\": 1, \"28\": 1}, \"12\": {\"12\": 52, \"97\": 1, \"36\": 4, \"10\": 1, \"105\": 8, \"88\": 2, \"101\": 1, \"0\": 3, \"127\": 2, \"8\": 2, \"40\": 2, \"7\": 4, \"71\": 2, \"78\": 1, \"44\": 1, \"106\": 1, \"70\": 1}, \"15\": {\"15\": 80, \"122\": 3, \"94\": 6, \"0\": 8, \"60\": 1, \"27\": 1, \"30\": 2, \"36\": 3, \"106\": 2, \"23\": 1, \"101\": 2, \"7\": 2, \"78\": 1, \"12\": 2, \"70\": 1, \"88\": 1}, \"26\": {\"113\": 2, \"26\": 85, \"33\": 6, \"31\": 1, \"18\": 13, \"69\": 14, \"87\": 2, \"24\": 2, \"43\": 1, \"21\": 1, \"118\": 1, \"126\": 1, \"40\": 2, \"88\": 1}, \"82\": {\"82\": 35, \"13\": 1}, \"9\": {\"9\": 29, \"75\": 1, \"58\": 1, \"51\": 1}, \"49\": {\"49\": 13, \"3\": 2, \"97\": 1, \"29\": 1, \"75\": 2, \"16\": 1, \"128\": 1, \"71\": 1, \"101\": 2}, \"55\": {\"73\": 2, \"55\": 11, \"50\": 1, \"82\": 2}, \"102\": {\"82\": 2, \"20\": 1, \"102\": 102, \"67\": 1, \"129\": 1, \"5\": 2, \"2\": 4, \"26\": 1, \"16\": 1, \"111\": 1, \"48\": 2, \"121\": 1, \"45\": 1, \"116\": 1, \"117\": 3}, \"85\": {\"85\": 26, \"73\": 1, \"125\": 1, \"123\": 1, \"37\": 1, \"128\": 1, \"95\": 1}, \"73\": {\"73\": 16, \"76\": 1, \"5\": 1, \"96\": 1, \"83\": 1, \"9\": 1, \"64\": 1, \"32\": 1, \"68\": 1, \"46\": 2, \"112\": 2}, \"47\": {\"9\": 1, \"56\": 1, \"3\": 1, \"47\": 8, \"27\": 1}, \"20\": {\"20\": 9, \"100\": 1, \"0\": 2, \"122\": 1, \"88\": 1, \"38\": 1, \"72\": 1}, \"117\": {\"117\": 100, \"99\": 1, \"2\": 2, \"21\": 2, \"102\": 4, \"65\": 1, \"121\": 1, \"18\": 1, \"89\": 1, \"16\": 1, \"70\": 1, \"33\": 1}, \"122\": {\"122\": 64, \"15\": 1, \"21\": 1, \"84\": 1, \"8\": 10, \"43\": 12, \"36\": 3, \"88\": 2, \"30\": 8, \"118\": 2, \"0\": 3, \"87\": 4, \"7\": 2, \"108\": 8, \"24\": 6, \"16\": 1, \"70\": 1, \"110\": 1, \"11\": 3, \"39\": 2, \"27\": 2, \"12\": 1, \"105\": 2}, \"113\": {\"26\": 6, \"113\": 41, \"21\": 2, \"62\": 2, \"88\": 1, \"109\": 2, \"8\": 3, \"118\": 3, \"18\": 4, \"27\": 1, \"71\": 1, \"72\": 1, \"32\": 1, \"93\": 1, \"39\": 1, \"16\": 1, \"23\": 1}, \"87\": {\"21\": 2, \"87\": 54, \"118\": 9, \"126\": 5, \"109\": 7, \"70\": 7, \"43\": 6, \"30\": 1, \"27\": 1, \"108\": 2, \"1\": 1, \"122\": 2, \"88\": 3, \"24\": 3, \"8\": 3, \"93\": 2, \"11\": 1, \"36\": 1, \"10\": 1, \"39\": 1}, \"21\": {\"21\": 47, \"78\": 1}, \"106\": {\"106\": 82, \"8\": 1, \"15\": 4, \"30\": 3, \"10\": 1, \"12\": 8, \"70\": 2, \"0\": 3, \"71\": 1, \"24\": 1, \"36\": 2, \"60\": 1, \"101\": 7, \"7\": 2, \"44\": 1, \"21\": 1}, \"3\": {\"3\": 90, \"74\": 1, \"71\": 12, \"12\": 4, \"1\": 2, \"88\": 1, \"0\": 1, \"44\": 1, \"7\": 4, \"127\": 6, \"24\": 1, \"105\": 2, \"36\": 2, \"101\": 1, \"40\": 5, \"110\": 1, \"39\": 2}, \"126\": {\"126\": 66, \"88\": 6, \"10\": 6, \"87\": 5, \"70\": 10, \"24\": 6, \"78\": 2, \"30\": 1, \"43\": 6, \"108\": 4, \"109\": 4, \"39\": 2, \"11\": 1, \"27\": 1}, \"41\": {\"41\": 9, \"76\": 1, \"58\": 1, \"52\": 1, \"90\": 1, \"25\": 2, \"6\": 1, \"77\": 2, \"83\": 2}, \"76\": {\"3\": 1, \"76\": 4, \"90\": 1, \"28\": 2, \"64\": 2, \"72\": 1, \"84\": 2, \"33\": 1, \"47\": 1, \"77\": 1}, \"60\": {\"122\": 2, \"3\": 1, \"60\": 17, \"43\": 1, \"110\": 2, \"10\": 1, \"0\": 1, \"118\": 1, \"93\": 2}, \"94\": {\"97\": 1, \"94\": 32, \"7\": 1, \"88\": 1, \"109\": 1, \"108\": 1, \"27\": 5, \"43\": 1, \"15\": 6, \"30\": 3, \"24\": 1, \"36\": 2, \"126\": 2, \"8\": 3, \"106\": 2, \"11\": 1, \"122\": 1}, \"50\": {\"50\": 14, \"20\": 1, \"67\": 1}, \"97\": {\"97\": 15, \"94\": 1, \"36\": 2, \"101\": 2}, \"115\": {\"115\": 12}, \"38\": {\"38\": 16}, \"43\": {\"23\": 2, \"70\": 7, \"43\": 64, \"122\": 8, \"126\": 6, \"11\": 6, \"87\": 5, \"88\": 3, \"39\": 1, \"30\": 3, \"24\": 2, \"3\": 1, \"27\": 2, \"78\": 1, \"0\": 1, \"118\": 1, \"108\": 2, \"10\": 1, \"109\": 3, \"8\": 2, \"36\": 1, \"93\": 1, \"105\": 1}, \"67\": {\"67\": 11, \"102\": 1, \"50\": 2, \"116\": 1, \"57\": 1}, \"18\": {\"72\": 2, \"18\": 86, \"26\": 19, \"21\": 2, \"69\": 10, \"10\": 2, \"70\": 2, \"113\": 1, \"39\": 1, \"33\": 1, \"78\": 1, \"88\": 1}, \"23\": {\"43\": 2, \"128\": 1, \"23\": 19, \"93\": 1, \"26\": 1, \"122\": 4, \"11\": 1, \"78\": 1, \"0\": 4, \"108\": 1, \"15\": 1, \"101\": 1, \"84\": 1, \"33\": 1, \"24\": 2, \"31\": 1, \"8\": 1, \"16\": 1}, \"63\": {\"63\": 15, \"31\": 1, \"82\": 1, \"92\": 1, \"2\": 2}, \"127\": {\"3\": 4, \"127\": 98, \"106\": 3, \"71\": 1, \"126\": 1, \"0\": 2, \"40\": 3, \"101\": 2, \"105\": 1, \"90\": 1, \"98\": 1, \"60\": 1, \"36\": 1, \"12\": 2, \"114\": 1, \"8\": 1, \"109\": 1}, \"72\": {\"72\": 15, \"27\": 1, \"69\": 1, \"84\": 2, \"33\": 4, \"100\": 2, \"43\": 1, \"129\": 1, \"20\": 1}, \"128\": {\"127\": 2, \"128\": 13, \"53\": 3, \"9\": 1, \"49\": 1, \"29\": 1, \"98\": 1, \"71\": 1, \"109\": 1}, \"7\": {\"7\": 102, \"88\": 2, \"0\": 3, \"110\": 2, \"12\": 7, \"36\": 1, \"127\": 1, \"106\": 2, \"3\": 1, \"101\": 1, \"60\": 1, \"10\": 1, \"109\": 1, \"122\": 1, \"108\": 1, \"1\": 1}, \"108\": {\"108\": 83, \"8\": 1, \"10\": 1, \"36\": 3, \"126\": 4, \"11\": 12, \"30\": 11, \"43\": 2, \"24\": 8, \"122\": 3, \"94\": 2, \"78\": 1, \"70\": 1, \"109\": 1, \"27\": 1}, \"16\": {\"16\": 50, \"128\": 1, \"122\": 9, \"84\": 4, \"23\": 3, \"118\": 2, \"1\": 1, \"8\": 4, \"26\": 1, \"18\": 1, \"70\": 3, \"105\": 4, \"88\": 2, \"62\": 7, \"126\": 1, \"93\": 9, \"108\": 1, \"32\": 1, \"110\": 1, \"87\": 1, \"30\": 2, \"43\": 1, \"21\": 2, \"113\": 1, \"106\": 1, \"40\": 1}, \"29\": {\"29\": 28, \"91\": 1, \"59\": 1, \"107\": 1, \"42\": 1}, \"61\": {\"61\": 17, \"32\": 1, \"126\": 1, \"84\": 1}, \"104\": {\"103\": 1, \"104\": 14, \"124\": 2, \"19\": 1, \"68\": 1, \"64\": 1}, \"120\": {\"120\": 19, \"90\": 1}, \"124\": {\"104\": 3, \"103\": 1, \"73\": 3, \"86\": 4, \"124\": 71, \"17\": 2, \"22\": 1, \"32\": 1, \"111\": 8, \"113\": 1, \"107\": 3, \"29\": 1, \"98\": 3, \"5\": 11, \"116\": 1, \"66\": 1, \"42\": 2, \"41\": 1, \"92\": 1, \"94\": 1, \"89\": 1, \"3\": 1, \"90\": 1, \"127\": 1}, \"34\": {\"128\": 2, \"8\": 1, \"34\": 12, \"54\": 3, \"53\": 1, \"98\": 2, \"1\": 1, \"110\": 2, \"41\": 1, \"36\": 1, \"112\": 1, \"77\": 1, \"33\": 1, \"114\": 1, \"83\": 1, \"71\": 1}, \"84\": {\"40\": 5, \"69\": 2, \"9\": 1, \"84\": 54, \"62\": 11, \"87\": 2, \"33\": 5, \"118\": 1, \"11\": 1, \"36\": 1, \"1\": 1, \"105\": 1, \"109\": 1, \"124\": 1, \"126\": 1, \"27\": 1, \"71\": 1, \"16\": 2}, \"103\": {\"104\": 1, \"115\": 1, \"103\": 11, \"124\": 1, \"111\": 1, \"41\": 1}, \"100\": {\"100\": 12, \"1\": 2, \"33\": 1, \"72\": 1}, \"40\": {\"40\": 83, \"11\": 1, \"127\": 3, \"71\": 7, \"1\": 7, \"12\": 4, \"70\": 1, \"107\": 3, \"21\": 2, \"39\": 3, \"7\": 1, \"114\": 2, \"84\": 4, \"105\": 5, \"69\": 1, \"3\": 5, \"109\": 1, \"95\": 1, \"88\": 2, \"16\": 1, \"33\": 1, \"62\": 2}, \"35\": {\"35\": 10, \"7\": 1, \"94\": 1}, \"96\": {\"84\": 2, \"96\": 5, \"7\": 2, \"30\": 1, \"70\": 1, \"62\": 2, \"83\": 1, \"23\": 1, \"31\": 1, \"72\": 2, \"121\": 1, \"118\": 1}, \"101\": {\"101\": 100, \"97\": 1, \"105\": 4, \"106\": 7, \"8\": 1, \"127\": 2, \"36\": 1, \"26\": 1, \"15\": 1, \"0\": 2}, \"71\": {\"40\": 4, \"0\": 2, \"71\": 75, \"127\": 5, \"107\": 1, \"126\": 1, \"10\": 1, \"3\": 1, \"93\": 1, \"74\": 2, \"114\": 3, \"18\": 1, \"78\": 1, \"70\": 1, \"8\": 1}, \"81\": {\"81\": 15, \"31\": 1, \"90\": 1, \"53\": 1, \"65\": 1, \"9\": 1, \"2\": 1, \"26\": 1, \"82\": 2}, \"74\": {\"74\": 11, \"36\": 1, \"14\": 2, \"122\": 1, \"127\": 1}, \"119\": {\"119\": 16, \"53\": 1, \"34\": 1, \"63\": 1, \"38\": 1}, \"5\": {\"5\": 96, \"41\": 1, \"17\": 1, \"43\": 1, \"111\": 3, \"40\": 1, \"109\": 1, \"70\": 1, \"129\": 1, \"124\": 2, \"126\": 1, \"98\": 2, \"90\": 1}, \"68\": {\"68\": 14, \"85\": 2}, \"37\": {\"109\": 1, \"5\": 1, \"73\": 2, \"37\": 6, \"55\": 1, \"85\": 2, \"64\": 1, \"48\": 2}, \"58\": {\"9\": 2, \"58\": 16, \"34\": 2}, \"109\": {\"109\": 55, \"10\": 3, \"78\": 9, \"21\": 5, \"39\": 5, \"70\": 3, \"88\": 11, \"126\": 6, \"87\": 2, \"43\": 1}, \"107\": {\"107\": 37, \"128\": 1, \"71\": 1, \"36\": 1, \"114\": 3, \"78\": 1, \"32\": 1, \"95\": 2, \"108\": 1, \"0\": 1, \"69\": 2, \"74\": 1, \"64\": 1, \"44\": 1, \"49\": 1, \"110\": 2, \"127\": 2, \"40\": 4, \"33\": 1}, \"13\": {\"13\": 11, \"109\": 1, \"118\": 1, \"126\": 1, \"102\": 2}, \"52\": {\"77\": 3, \"52\": 9, \"9\": 2, \"103\": 1, \"75\": 1, \"98\": 2, \"112\": 1, \"124\": 1}, \"77\": {\"58\": 2, \"77\": 8, \"22\": 1, \"52\": 2, \"91\": 2, \"114\": 1}, \"95\": {\"7\": 2, \"95\": 21, \"40\": 2, \"12\": 1, \"105\": 1, \"60\": 1, \"107\": 5, \"54\": 1, \"101\": 1, \"3\": 1}, \"44\": {\"44\": 97, \"3\": 1, \"1\": 1, \"49\": 1}, \"88\": {\"88\": 89, \"78\": 3, \"109\": 11, \"70\": 6, \"39\": 3, \"126\": 5, \"21\": 3, \"43\": 2}, \"91\": {\"91\": 19, \"42\": 2, \"29\": 3, \"52\": 2, \"126\": 1, \"28\": 1}, \"93\": {\"23\": 5, \"8\": 3, \"93\": 67, \"70\": 1, \"105\": 3, \"126\": 5, \"43\": 2, \"78\": 1, \"118\": 6, \"88\": 2, \"14\": 1, \"21\": 1, \"36\": 2, \"84\": 2, \"108\": 2, \"62\": 8, \"16\": 10, \"122\": 1, \"24\": 1, \"87\": 7, \"27\": 1, \"110\": 1, \"7\": 1, \"109\": 1, \"18\": 1, \"26\": 2, \"39\": 1}, \"8\": {\"108\": 5, \"8\": 44, \"126\": 1, \"12\": 3, \"10\": 3, \"94\": 1, \"93\": 8, \"43\": 2, \"0\": 12, \"7\": 4, \"15\": 3, \"30\": 7, \"113\": 1, \"122\": 11, \"87\": 4, \"70\": 1, \"106\": 1, \"11\": 4, \"40\": 1, \"105\": 2, \"23\": 1, \"118\": 1, \"3\": 1, \"36\": 2, \"88\": 1}, \"1\": {\"1\": 72, \"95\": 1, \"27\": 1, \"40\": 10, \"24\": 2, \"84\": 6, \"3\": 5, \"33\": 3, \"62\": 4, \"127\": 2, \"44\": 1, \"105\": 5, \"93\": 1, \"109\": 1}, \"45\": {\"45\": 9, \"21\": 1, \"82\": 3, \"64\": 1, \"94\": 1, \"44\": 1}, \"111\": {\"111\": 117, \"6\": 1, \"24\": 1, \"124\": 1, \"98\": 2, \"5\": 1, \"129\": 1, \"42\": 1, \"21\": 1}, \"116\": {\"45\": 1, \"116\": 9, \"66\": 2, \"81\": 1, \"89\": 2, \"86\": 1, \"48\": 3, \"46\": 2, \"52\": 1, \"103\": 1, \"65\": 1, \"42\": 2, \"69\": 1, \"90\": 1}, \"48\": {\"13\": 2, \"48\": 16, \"89\": 2}, \"57\": {\"85\": 1, \"57\": 13, \"78\": 1, \"92\": 2, \"64\": 2, \"88\": 1}, \"10\": {\"10\": 46, \"126\": 8, \"108\": 2, \"70\": 2, \"0\": 1, \"27\": 1}, \"129\": {\"57\": 1, \"85\": 1, \"129\": 17, \"125\": 1, \"76\": 1, \"107\": 1, \"17\": 1, \"9\": 1, \"123\": 1, \"5\": 1, \"41\": 1, \"73\": 3, \"86\": 1, \"111\": 1}, \"98\": {\"98\": 113, \"88\": 1, \"70\": 1, \"29\": 2, \"39\": 1}, \"65\": {\"65\": 18, \"57\": 1, \"109\": 1}, \"6\": {\"6\": 27, \"91\": 1, \"111\": 3, \"25\": 1}, \"75\": {\"75\": 13, \"49\": 1, \"126\": 1, \"128\": 1}, \"14\": {\"14\": 32, \"78\": 2, \"69\": 1, \"12\": 1, \"84\": 2, \"7\": 1, \"1\": 1, \"16\": 1, \"62\": 1, \"74\": 1, \"3\": 1, \"95\": 1, \"40\": 3}, \"30\": {\"30\": 68, \"122\": 7, \"36\": 6, \"27\": 2, \"11\": 7, \"109\": 1, \"15\": 1, \"88\": 2, \"126\": 2, \"0\": 1, \"70\": 1, \"8\": 6, \"24\": 1, \"39\": 3, \"12\": 1, \"108\": 2, \"43\": 1}, \"83\": {\"83\": 29, \"61\": 1, \"84\": 1, \"18\": 1, \"16\": 1, \"127\": 1, \"72\": 2, \"62\": 1, \"93\": 2, \"44\": 1}, \"69\": {\"69\": 99, \"72\": 3, \"60\": 1, \"18\": 6, \"26\": 6, \"109\": 1, \"33\": 8, \"24\": 1, \"126\": 1, \"88\": 1, \"16\": 1}, \"125\": {\"129\": 1, \"125\": 113, \"89\": 1, \"6\": 4, \"22\": 1, \"124\": 2, \"111\": 10, \"107\": 2, \"114\": 2, \"17\": 1, \"79\": 1, \"54\": 2, \"42\": 1, \"83\": 1, \"16\": 1, \"98\": 1, \"33\": 1, \"5\": 1}, \"31\": {\"31\": 14, \"81\": 1, \"33\": 1, \"67\": 1, \"127\": 1, \"72\": 2}, \"118\": {\"118\": 32, \"87\": 5, \"39\": 1, \"93\": 1, \"11\": 3, \"23\": 1, \"109\": 2, \"78\": 3, \"126\": 1, \"84\": 2, \"105\": 4, \"16\": 6, \"8\": 1, \"108\": 2, \"0\": 1, \"24\": 1, \"21\": 1, \"113\": 1}, \"53\": {\"53\": 16}, \"54\": {\"54\": 15, \"83\": 1, \"71\": 1, \"59\": 1, \"19\": 1, \"103\": 1}, \"92\": {\"31\": 2, \"92\": 17, \"55\": 2, \"85\": 1, \"116\": 1, \"73\": 1, \"46\": 2, \"82\": 1, \"107\": 1}, \"19\": {\"128\": 1, \"85\": 1, \"19\": 20, \"14\": 1, \"32\": 1, \"127\": 1, \"114\": 1, \"71\": 1, \"98\": 1}, \"27\": {\"27\": 33, \"11\": 5, \"94\": 3, \"24\": 4, \"15\": 1, \"10\": 2, \"36\": 6, \"30\": 6, \"8\": 3, \"43\": 2, \"108\": 3}, \"17\": {\"17\": 9, \"21\": 1, \"43\": 1, \"79\": 1, \"111\": 1, \"129\": 1, \"5\": 1, \"4\": 1}, \"4\": {\"4\": 73, \"22\": 1, \"111\": 3, \"124\": 1, \"24\": 1, \"125\": 2, \"85\": 1, \"102\": 1, \"32\": 1, \"5\": 2, \"44\": 1, \"107\": 1}, \"36\": {\"27\": 6, \"36\": 88, \"15\": 5, \"108\": 8, \"94\": 2, \"78\": 1, \"8\": 1, \"0\": 1, \"88\": 3, \"44\": 1, \"10\": 1, \"30\": 7, \"11\": 2, \"122\": 1, \"70\": 1}, \"90\": {\"90\": 121, \"46\": 1, \"33\": 4, \"1\": 2, \"84\": 1, \"18\": 1, \"69\": 1, \"44\": 1, \"38\": 1, \"99\": 2, \"3\": 1}, \"64\": {\"64\": 11, \"40\": 1, \"67\": 1, \"63\": 1, \"24\": 1, \"31\": 1}, \"66\": {\"66\": 10, \"127\": 1, \"90\": 1, \"56\": 1, \"28\": 1, \"100\": 2, \"61\": 1, \"68\": 2, \"103\": 1}, \"46\": {\"46\": 10, \"90\": 2, \"109\": 1, \"14\": 1, \"74\": 1, \"24\": 1}, \"86\": {\"86\": 23, \"50\": 1, \"128\": 1, \"98\": 1, \"104\": 1, \"19\": 1, \"41\": 1, \"4\": 1, \"111\": 2}, \"114\": {\"114\": 90, \"95\": 2, \"71\": 4, \"127\": 7, \"10\": 1, \"106\": 1, \"40\": 1, \"105\": 2, \"93\": 1, \"87\": 1}, \"32\": {\"32\": 19, \"61\": 2, \"40\": 5, \"53\": 1, \"19\": 1, \"111\": 1, \"95\": 1, \"107\": 1, \"0\": 1, \"68\": 2, \"34\": 1, \"14\": 1}, \"78\": {\"78\": 32, \"70\": 1, \"43\": 3, \"88\": 4, \"126\": 1, \"109\": 2, \"21\": 3, \"24\": 1, \"108\": 1}, \"33\": {\"96\": 1, \"33\": 118, \"84\": 1, \"88\": 1, \"1\": 8, \"126\": 1, \"40\": 1, \"69\": 1, \"62\": 3, \"122\": 1, \"15\": 1, \"12\": 1}, \"70\": {\"70\": 61, \"43\": 3, \"109\": 7, \"53\": 1, \"78\": 2, \"88\": 19, \"94\": 1, \"24\": 7, \"87\": 6, \"10\": 3, \"126\": 5, \"39\": 3, \"30\": 1, \"21\": 2, \"108\": 2, \"27\": 1}, \"0\": {\"0\": 79, \"7\": 7, \"106\": 4, \"93\": 1, \"110\": 2, \"24\": 2, \"122\": 3, \"15\": 4, \"30\": 4, \"12\": 1, \"44\": 1, \"36\": 1, \"18\": 1, \"11\": 1, \"109\": 1, \"8\": 2, \"43\": 1, \"69\": 1}, \"110\": {\"110\": 24, \"0\": 1, \"7\": 7, \"87\": 1, \"16\": 1, \"42\": 1, \"10\": 1, \"93\": 2, \"84\": 1, \"30\": 1}, \"2\": {\"57\": 1, \"2\": 17, \"99\": 1, \"0\": 1, \"82\": 2, \"29\": 1, \"117\": 1, \"102\": 3, \"63\": 1, \"65\": 1, \"67\": 1, \"55\": 1, \"48\": 1}, \"28\": {\"28\": 15, \"34\": 1, \"64\": 1, \"66\": 1, \"107\": 1, \"32\": 1}, \"51\": {\"51\": 15, \"97\": 1, \"75\": 1, \"49\": 1, \"58\": 1, \"27\": 1}, \"79\": {\"79\": 16}, \"42\": {\"42\": 22, \"29\": 2, \"59\": 1, \"119\": 1, \"85\": 1, \"34\": 1}, \"112\": {\"42\": 2, \"112\": 14}, \"89\": {\"89\": 18, \"50\": 1, \"123\": 1, \"92\": 1, \"116\": 1, \"90\": 3, \"64\": 2, \"81\": 2, \"124\": 1, \"82\": 1, \"46\": 3, \"33\": 2}, \"59\": {\"59\": 10, \"124\": 2, \"79\": 1, \"22\": 1, \"6\": 1, \"91\": 1}, \"105\": {\"0\": 2, \"93\": 4, \"105\": 83, \"110\": 1, \"15\": 2, \"12\": 2, \"84\": 3, \"118\": 1, \"8\": 3, \"36\": 2, \"7\": 5, \"87\": 1, \"40\": 2, \"122\": 3, \"16\": 2, \"24\": 1, \"3\": 3, \"39\": 1, \"127\": 1, \"43\": 1, \"62\": 1, \"1\": 1, \"126\": 2, \"33\": 1}, \"121\": {\"121\": 20, \"92\": 1, \"90\": 1, \"93\": 1, \"22\": 2, \"81\": 2, \"113\": 1, \"36\": 1, \"26\": 1, \"66\": 1, \"23\": 1, \"57\": 1, \"38\": 1, \"83\": 1, \"99\": 1}, \"11\": {\"11\": 57, \"43\": 1, \"126\": 2, \"30\": 5, \"36\": 3, \"10\": 3, \"108\": 6, \"88\": 1, \"27\": 1, \"39\": 1}, \"99\": {\"78\": 1, \"99\": 22, \"96\": 1, \"83\": 1, \"113\": 1, \"90\": 1, \"10\": 1, \"1\": 1, \"18\": 1, \"87\": 1, \"93\": 1}, \"25\": {\"75\": 1, \"52\": 1, \"25\": 13, \"41\": 1}, \"62\": {\"62\": 93, \"43\": 3, \"60\": 1, \"84\": 3, \"88\": 1, \"1\": 5, \"93\": 4, \"126\": 1, \"8\": 1, \"105\": 2, \"108\": 1, \"39\": 1, \"118\": 2, \"78\": 1, \"24\": 2, \"122\": 2, \"16\": 2, \"87\": 1, \"40\": 1, \"3\": 1}, \"123\": {\"123\": 11, \"46\": 1, \"44\": 1, \"29\": 1, \"25\": 1, \"28\": 1}, \"24\": {\"24\": 94, \"10\": 3, \"78\": 3, \"30\": 3, \"108\": 5, \"126\": 1, \"70\": 1, \"43\": 1, \"109\": 1}, \"80\": {\"80\": 13, \"111\": 1, \"82\": 1, \"73\": 1}, \"39\": {\"39\": 58, \"109\": 10, \"87\": 3, \"88\": 13, \"70\": 8, \"126\": 2, \"24\": 1, \"78\": 3, \"108\": 1, \"21\": 1}, \"22\": {\"22\": 10, \"116\": 1, \"129\": 1, \"92\": 1, \"69\": 2, \"59\": 1, \"76\": 2, \"126\": 1, \"124\": 1}}, \"C_5\": {\"12\": {\"12\": 74, \"9\": 1, \"6\": 7, \"20\": 2, \"30\": 4, \"3\": 1, \"45\": 2, \"50\": 2, \"40\": 1, \"1\": 2}, \"8\": {\"8\": 141, \"20\": 1}, \"29\": {\"29\": 101, \"36\": 4, \"56\": 4, \"47\": 1, \"39\": 1, \"49\": 1, \"5\": 4, \"55\": 1, \"40\": 4, \"52\": 2, \"21\": 1, \"22\": 3, \"48\": 3, \"9\": 2}, \"57\": {\"57\": 125, \"47\": 1}, \"38\": {\"38\": 32}, \"23\": {\"23\": 122, \"42\": 1, \"54\": 1}, \"56\": {\"56\": 127, \"0\": 1, \"46\": 3, \"22\": 2, \"40\": 2, \"52\": 3}, \"49\": {\"49\": 34, \"36\": 2}, \"4\": {\"4\": 65, \"5\": 10, \"30\": 2, \"1\": 4, \"9\": 9, \"12\": 3, \"50\": 2, \"40\": 3, \"47\": 1, \"44\": 1}, \"48\": {\"48\": 106, \"30\": 6, \"1\": 13, \"57\": 4, \"9\": 6, \"8\": 1}, \"21\": {\"21\": 143, \"30\": 1}, \"30\": {\"30\": 126, \"1\": 2}, \"1\": {\"48\": 6, \"30\": 3, \"1\": 135, \"9\": 2, \"47\": 1, \"12\": 1}, \"34\": {\"34\": 34, \"33\": 2}, \"35\": {\"49\": 5, \"35\": 29, \"56\": 1, \"36\": 1}, \"55\": {\"34\": 4, \"23\": 4, \"55\": 108, \"8\": 1, \"33\": 1, \"29\": 5, \"36\": 5, \"17\": 7, \"27\": 5, \"54\": 4, \"40\": 1, \"19\": 3, \"2\": 2, \"1\": 1, \"4\": 1}, \"5\": {\"5\": 97, \"6\": 3, \"4\": 2, \"44\": 10, \"50\": 1, \"40\": 6, \"1\": 2, \"22\": 1}, \"52\": {\"52\": 124, \"46\": 2}, \"6\": {\"6\": 94, \"50\": 13, \"45\": 18, \"1\": 1, \"12\": 2}, \"36\": {\"36\": 90, \"14\": 1, \"13\": 1}, \"41\": {\"41\": 27, \"36\": 1}, \"3\": {\"3\": 78, \"46\": 12, \"44\": 1, \"0\": 5, \"4\": 1, \"22\": 1, \"6\": 1, \"40\": 1}, \"28\": {\"28\": 28, \"19\": 2, \"42\": 1, \"16\": 1}, \"18\": {\"18\": 64}, \"25\": {\"25\": 115, \"18\": 5, \"53\": 5, \"16\": 6, \"11\": 3, \"42\": 1, \"19\": 1}, \"47\": {\"47\": 83, \"52\": 4, \"57\": 6, \"40\": 3, \"48\": 1, \"3\": 1, \"29\": 1, \"1\": 1}, \"13\": {\"13\": 148, \"2\": 1, \"36\": 2, \"40\": 2, \"14\": 1, \"56\": 4, \"44\": 1, \"47\": 1}, \"11\": {\"11\": 108, \"15\": 27, \"10\": 1, \"16\": 8}, \"53\": {\"53\": 139, \"55\": 2, \"27\": 1, \"51\": 1, \"17\": 1}, \"33\": {\"33\": 28, \"19\": 2, \"29\": 1, \"34\": 1}, \"46\": {\"46\": 130, \"0\": 11, \"3\": 1, \"52\": 6}, \"50\": {\"50\": 98, \"44\": 2, \"6\": 14, \"3\": 2, \"5\": 6, \"45\": 22, \"46\": 1, \"12\": 3}, \"10\": {\"10\": 68}, \"15\": {\"11\": 15, \"15\": 119, \"10\": 1, \"16\": 3}, \"44\": {\"44\": 124, \"3\": 1, \"5\": 11, \"50\": 2, \"45\": 1, \"56\": 1}, \"2\": {\"2\": 28}, \"7\": {\"7\": 30, \"30\": 1, \"17\": 1}, \"43\": {\"43\": 138}, \"32\": {\"32\": 31, \"7\": 1}, \"0\": {\"3\": 2, \"0\": 116, \"46\": 6}, \"39\": {\"39\": 15, \"7\": 1, \"14\": 2, \"36\": 1, \"49\": 1}, \"26\": {\"26\": 22, \"38\": 2}, \"27\": {\"27\": 106, \"48\": 2, \"9\": 2, \"8\": 1, \"29\": 1}, \"54\": {\"54\": 111, \"23\": 1}, \"17\": {\"17\": 116}, \"14\": {\"36\": 3, \"48\": 2, \"14\": 22, \"0\": 2, \"13\": 2, \"37\": 2, \"21\": 1, \"32\": 3, \"27\": 1, \"52\": 4, \"2\": 1, \"46\": 1}, \"16\": {\"16\": 139, \"15\": 4, \"11\": 5}, \"9\": {\"1\": 6, \"9\": 120, \"12\": 2, \"6\": 1, \"4\": 2, \"30\": 4, \"5\": 2, \"52\": 1, \"48\": 6, \"21\": 3, \"40\": 1}, \"19\": {\"19\": 145, \"33\": 3, \"28\": 1, \"17\": 1, \"29\": 2}, \"20\": {\"20\": 135, \"21\": 2, \"8\": 1}, \"37\": {\"37\": 24}, \"24\": {\"24\": 80}, \"40\": {\"40\": 105, \"6\": 1, \"12\": 1, \"29\": 2, \"44\": 4, \"45\": 3, \"3\": 1, \"52\": 2, \"56\": 1, \"4\": 1, \"21\": 1}, \"45\": {\"6\": 14, \"45\": 91, \"50\": 15, \"5\": 2, \"44\": 2}, \"22\": {\"22\": 23, \"56\": 1, \"44\": 2, \"5\": 2}, \"42\": {\"42\": 38, \"35\": 1, \"43\": 1}, \"51\": {\"51\": 114, \"27\": 1, \"55\": 1, \"8\": 2}, \"31\": {\"31\": 32, \"49\": 3, \"35\": 1}}, \"C_1\": {\"27\": {\"27\": 138, \"36\": 1, \"22\": 1, \"21\": 2}, \"2\": {\"2\": 36}, \"33\": {\"33\": 32}, \"45\": {\"45\": 152, \"56\": 3, \"46\": 1}, \"38\": {\"38\": 21, \"32\": 1, \"21\": 1, \"36\": 1}, \"4\": {\"4\": 114, \"14\": 1, \"50\": 3, \"29\": 4, \"1\": 2, \"6\": 2, \"56\": 2, \"46\": 2, \"57\": 1, \"40\": 1}, \"31\": {\"38\": 2, \"31\": 22, \"24\": 2, \"36\": 2}, \"55\": {\"55\": 123, \"1\": 4, \"33\": 1, \"27\": 1, \"17\": 1, \"54\": 2, \"13\": 2, \"38\": 1, \"43\": 1, \"37\": 1, \"8\": 1, \"36\": 1, \"47\": 1}, \"32\": {\"32\": 32}, \"57\": {\"57\": 136, \"13\": 1, \"14\": 1, \"1\": 2}, \"14\": {\"14\": 12, \"30\": 1, \"8\": 6, \"12\": 2, \"9\": 2, \"13\": 1}, \"16\": {\"16\": 140}, \"34\": {\"34\": 24}, \"56\": {\"56\": 113, \"45\": 4, \"6\": 1, \"40\": 2, \"44\": 6}, \"24\": {\"24\": 108}, \"30\": {\"30\": 109, \"46\": 2, \"57\": 1}, \"17\": {\"17\": 62, \"9\": 1, \"42\": 1}, \"13\": {\"13\": 132, \"12\": 3, \"6\": 1, \"20\": 1, \"45\": 1}, \"39\": {\"39\": 26, \"21\": 1, \"27\": 1}, \"50\": {\"50\": 143, \"6\": 2, \"46\": 1}, \"20\": {\"20\": 133, \"12\": 6, \"3\": 1}, \"41\": {\"41\": 23, \"13\": 1}, \"53\": {\"53\": 126}, \"48\": {\"48\": 129, \"8\": 7, \"9\": 5, \"2\": 1}, \"36\": {\"36\": 64}, \"8\": {\"48\": 7, \"8\": 131, \"9\": 1, \"40\": 1}, \"15\": {\"15\": 128, \"10\": 4}, \"40\": {\"57\": 13, \"40\": 110, \"50\": 2, \"29\": 4, \"6\": 2, \"56\": 5, \"4\": 14, \"47\": 1, \"45\": 1, \"1\": 3, \"13\": 1}, \"37\": {\"37\": 32}, \"21\": {\"21\": 120}, \"35\": {\"35\": 31, \"31\": 1, \"42\": 4}, \"49\": {\"49\": 32}, \"26\": {\"26\": 22, \"53\": 1, \"16\": 1}, \"28\": {\"28\": 28}, \"12\": {\"12\": 105, \"20\": 9, \"5\": 1, \"0\": 1}, \"5\": {\"5\": 152}, \"29\": {\"29\": 90, \"4\": 6, \"47\": 12, \"57\": 6, \"1\": 11, \"20\": 2, \"40\": 9, \"6\": 1, \"50\": 1, \"52\": 1, \"46\": 1}, \"47\": {\"47\": 102, \"57\": 10, \"29\": 11, \"1\": 2, \"27\": 4, \"56\": 1, \"21\": 3, \"40\": 3, \"44\": 1, \"22\": 2, \"52\": 1}, \"10\": {\"10\": 89, \"11\": 5, \"15\": 2}, \"18\": {\"18\": 71, \"46\": 1}, \"9\": {\"9\": 125, \"48\": 1}, \"3\": {\"12\": 8, \"3\": 85, \"46\": 5, \"20\": 8, \"45\": 9, \"22\": 6, \"44\": 10, \"56\": 4, \"40\": 1, \"5\": 2, \"0\": 2}, \"52\": {\"52\": 98, \"22\": 25, \"0\": 2, \"21\": 5, \"56\": 1, \"27\": 1}, \"25\": {\"25\": 119, \"18\": 2, \"26\": 1, \"16\": 11, \"19\": 1, \"51\": 1, \"17\": 1}, \"19\": {\"19\": 142, \"25\": 4, \"42\": 2, \"17\": 3, \"35\": 1, \"51\": 1, \"26\": 1, \"47\": 1, \"55\": 1}, \"11\": {\"11\": 124, \"10\": 8, \"15\": 4}, \"7\": {\"7\": 28}, \"23\": {\"23\": 136}, \"44\": {\"44\": 99, \"56\": 7, \"45\": 13, \"46\": 5, \"5\": 3, \"3\": 4, \"20\": 1}, \"42\": {\"42\": 40}, \"54\": {\"54\": 103, \"37\": 1}, \"1\": {\"1\": 92, \"40\": 1, \"47\": 1, \"57\": 2, \"48\": 2, \"4\": 1, \"8\": 1}, \"46\": {\"46\": 92, \"44\": 4, \"45\": 9, \"20\": 3, \"56\": 2, \"5\": 9, \"50\": 7, \"6\": 1, \"40\": 1}, \"6\": {\"6\": 70, \"50\": 14, \"45\": 3, \"46\": 5, \"5\": 2, \"30\": 2}, \"43\": {\"43\": 143, \"24\": 1}, \"51\": {\"51\": 141, \"9\": 1}, \"22\": {\"22\": 125, \"52\": 8, \"21\": 1, \"27\": 1, \"56\": 1}, \"0\": {\"0\": 125, \"44\": 1, \"21\": 1, \"45\": 1}}, \"C_4\": {\"32\": {\"32\": 24}, \"2\": {\"2\": 36}, \"41\": {\"41\": 35, \"36\": 1}, \"11\": {\"11\": 82, \"55\": 1, \"15\": 17, \"24\": 1, \"19\": 1}, \"57\": {\"57\": 100}, \"6\": {\"6\": 99, \"3\": 8, \"5\": 5}, \"23\": {\"23\": 136}, \"52\": {\"52\": 115, \"47\": 1}, \"38\": {\"38\": 39, \"14\": 1}, \"50\": {\"50\": 94, \"6\": 7, \"5\": 8, \"30\": 2, \"3\": 11, \"12\": 4, \"46\": 1, \"20\": 1, \"21\": 2, \"45\": 2}, \"55\": {\"49\": 5, \"55\": 118, \"23\": 2, \"41\": 3, \"29\": 2, \"36\": 4, \"35\": 4, \"17\": 2, \"43\": 2, \"54\": 3, \"7\": 2, \"47\": 2, \"40\": 2, \"27\": 1}, \"46\": {\"46\": 122, \"3\": 5, \"22\": 15, \"40\": 2, \"5\": 6, \"56\": 1, \"0\": 3}, \"37\": {\"2\": 3, \"37\": 20, \"52\": 1}, \"20\": {\"50\": 1, \"20\": 115, \"21\": 2}, \"49\": {\"49\": 16, \"4\": 1, \"55\": 2, \"35\": 1}, \"45\": {\"45\": 65, \"21\": 1, \"3\": 2, \"44\": 9, \"50\": 9, \"5\": 1, \"48\": 1, \"40\": 3, \"12\": 2, \"6\": 2, \"20\": 1}, \"54\": {\"54\": 105, \"36\": 2, \"51\": 1}, \"3\": {\"3\": 102, \"50\": 4, \"6\": 14, \"5\": 4}, \"13\": {\"13\": 147, \"2\": 1, \"56\": 3, \"48\": 1}, \"18\": {\"18\": 106, \"25\": 2}, \"21\": {\"21\": 118, \"12\": 4, \"45\": 1, \"50\": 2, \"20\": 1}, \"43\": {\"43\": 144}, \"47\": {\"47\": 114, \"46\": 2, \"57\": 1, \"40\": 1, \"22\": 1, \"48\": 1}, \"4\": {\"4\": 115, \"51\": 3, \"9\": 7, \"20\": 1, \"52\": 1, \"8\": 1, \"48\": 3, \"12\": 1}, \"12\": {\"21\": 6, \"12\": 78, \"50\": 3, \"30\": 4, \"40\": 1}, \"9\": {\"9\": 99, \"4\": 8, \"27\": 1, \"47\": 1, \"29\": 2, \"48\": 12, \"20\": 2, \"30\": 1, \"50\": 1, \"8\": 1}, \"7\": {\"7\": 23, \"49\": 1}, \"56\": {\"56\": 96, \"1\": 2, \"22\": 5, \"48\": 1, \"40\": 4, \"46\": 1, \"44\": 2, \"47\": 1}, \"28\": {\"28\": 22, \"34\": 2, \"7\": 5, \"26\": 1, \"42\": 1, \"25\": 1}, \"44\": {\"44\": 114, \"45\": 5, \"4\": 2, \"56\": 1, \"29\": 1, \"48\": 3, \"40\": 3, \"6\": 1, \"20\": 1, \"46\": 1}, \"24\": {\"24\": 56}, \"33\": {\"33\": 36}, \"35\": {\"55\": 6, \"35\": 28, \"4\": 1, \"33\": 1, \"28\": 1, \"49\": 2, \"14\": 1}, \"51\": {\"36\": 1, \"51\": 124, \"8\": 2, \"44\": 1, \"54\": 8, \"20\": 2}, \"39\": {\"39\": 14, \"48\": 1, \"57\": 1, \"36\": 2, \"20\": 2}, \"36\": {\"36\": 89, \"53\": 1, \"57\": 1, \"27\": 1}, \"19\": {\"19\": 133, \"26\": 1, \"55\": 2, \"7\": 1, \"23\": 2, \"53\": 1}, \"0\": {\"0\": 71, \"46\": 5, \"52\": 1, \"22\": 3}, \"15\": {\"15\": 129, \"16\": 3, \"11\": 3, \"36\": 1}, \"29\": {\"29\": 100, \"4\": 10, \"57\": 5, \"40\": 3, \"9\": 3, \"47\": 1, \"52\": 1, \"48\": 1}, \"30\": {\"30\": 44}, \"1\": {\"1\": 40}, \"22\": {\"46\": 9, \"22\": 113, \"3\": 2, \"0\": 1, \"5\": 2, \"52\": 1}, \"40\": {\"40\": 134, \"52\": 1, \"29\": 1, \"44\": 4, \"48\": 1, \"4\": 2, \"20\": 1, \"46\": 1, \"45\": 1}, \"8\": {\"8\": 128}, \"53\": {\"53\": 136, \"54\": 1, \"51\": 1}, \"34\": {\"34\": 22, \"42\": 2}, \"10\": {\"10\": 120, \"19\": 1, \"15\": 1}, \"31\": {\"31\": 27, \"39\": 1}, \"17\": {\"17\": 76, \"33\": 1, \"42\": 1, \"51\": 1, \"55\": 1}, \"16\": {\"16\": 96}, \"42\": {\"42\": 32}, \"27\": {\"27\": 117, \"54\": 2, \"36\": 2, \"9\": 10, \"4\": 2, \"51\": 4, \"48\": 3, \"8\": 1, \"57\": 1}, \"14\": {\"14\": 11, \"39\": 2, \"0\": 1, \"29\": 1, \"52\": 1}, \"25\": {\"53\": 3, \"25\": 111, \"18\": 5, \"16\": 2, \"19\": 1}, \"48\": {\"48\": 119, \"12\": 1, \"8\": 2, \"52\": 1, \"27\": 1, \"57\": 3, \"40\": 1, \"9\": 2, \"21\": 1, \"45\": 1}, \"26\": {\"41\": 1, \"26\": 18, \"23\": 1, \"17\": 2, \"42\": 1, \"19\": 1}, \"5\": {\"5\": 94, \"6\": 2, \"46\": 4, \"3\": 8}}, \"W_4\": {\"32\": {\"32\": 17, \"83\": 2, \"82\": 2, \"16\": 1, \"13\": 1, \"19\": 1, \"72\": 1, \"31\": 1, \"5\": 1, \"38\": 1}, \"22\": {\"22\": 13, \"54\": 1, \"60\": 1, \"116\": 1}, \"69\": {\"69\": 100, \"108\": 1, \"24\": 2, \"14\": 1, \"84\": 5, \"39\": 1, \"18\": 1, \"70\": 2, \"107\": 1, \"44\": 2, \"126\": 1, \"16\": 1, \"26\": 2}, \"65\": {\"63\": 1, \"65\": 10, \"2\": 1}, \"91\": {\"91\": 23, \"75\": 1}, \"63\": {\"63\": 10, \"117\": 2, \"102\": 1, \"48\": 2, \"120\": 1}, \"127\": {\"88\": 1, \"127\": 86, \"49\": 2, \"107\": 1, \"101\": 1, \"12\": 3, \"71\": 3, \"3\": 3, \"34\": 2, \"96\": 1, \"106\": 1, \"114\": 2, \"11\": 1, \"0\": 1}, \"11\": {\"87\": 17, \"43\": 5, \"11\": 52, \"110\": 6, \"101\": 3, \"8\": 6, \"70\": 2, \"118\": 10, \"0\": 3, \"88\": 2, \"109\": 1, \"27\": 3, \"7\": 4, \"93\": 11, \"36\": 2, \"122\": 4, \"62\": 1, \"99\": 1, \"106\": 2, \"30\": 1, \"15\": 2}, \"12\": {\"12\": 73, \"8\": 2, \"106\": 7, \"78\": 1, \"24\": 3, \"127\": 5, \"60\": 1, \"11\": 1, \"90\": 1, \"7\": 2, \"40\": 1, \"70\": 1, \"15\": 2}, \"111\": {\"111\": 112, \"98\": 2, \"124\": 5, \"40\": 1, \"78\": 1, \"68\": 1, \"17\": 1, \"91\": 1, \"3\": 1, \"55\": 1, \"126\": 1, \"125\": 1}, \"53\": {\"53\": 14, \"128\": 1, \"85\": 1}, \"73\": {\"73\": 12, \"114\": 2, \"51\": 1, \"103\": 1, \"112\": 1, \"67\": 1, \"40\": 1, \"45\": 1, \"41\": 1, \"82\": 2, \"98\": 1}, \"3\": {\"3\": 69, \"99\": 4, \"19\": 1, \"52\": 2, \"36\": 1, \"49\": 4, \"21\": 1, \"71\": 12, \"11\": 3, \"94\": 2, \"12\": 2, \"105\": 7, \"5\": 5, \"108\": 1, \"1\": 2, \"127\": 3, \"114\": 3, \"72\": 2, \"60\": 1, \"9\": 1, \"14\": 2, \"109\": 1, \"40\": 2, \"39\": 1, \"87\": 1, \"70\": 1, \"107\": 1, \"93\": 1}, \"83\": {\"83\": 14, \"99\": 1, \"38\": 1, \"3\": 1, \"72\": 1, \"128\": 3, \"49\": 1, \"110\": 1, \"9\": 2, \"95\": 1, \"85\": 2}, \"88\": {\"88\": 111, \"10\": 7, \"21\": 3, \"70\": 3, \"108\": 3, \"43\": 1, \"24\": 1, \"78\": 1}, \"87\": {\"87\": 65, \"78\": 1, \"93\": 3, \"118\": 5, \"88\": 2, \"109\": 4, \"108\": 1, \"0\": 2, \"70\": 9, \"27\": 4, \"110\": 4, \"126\": 2, \"105\": 3, \"11\": 13, \"8\": 2, \"24\": 2, \"10\": 3, \"30\": 2, \"113\": 1, \"7\": 3, \"43\": 1}, \"2\": {\"2\": 18, \"44\": 1, \"116\": 3, \"82\": 1, \"104\": 1, \"64\": 1, \"117\": 1, \"90\": 1, \"99\": 1}, \"86\": {\"86\": 15, \"4\": 2, \"68\": 1, \"125\": 1, \"105\": 2, \"124\": 3, \"79\": 1, \"128\": 2, \"102\": 1}, \"16\": {\"16\": 60, \"21\": 1, \"11\": 3, \"69\": 5, \"26\": 12, \"0\": 2, \"84\": 13, \"18\": 3, \"106\": 1, \"27\": 1, \"113\": 6, \"14\": 4, \"33\": 1, \"107\": 1, \"110\": 1, \"10\": 1, \"114\": 1, \"96\": 1, \"118\": 1, \"82\": 1, \"109\": 1, \"40\": 1, \"24\": 1}, \"21\": {\"21\": 36, \"10\": 1, \"108\": 1, \"97\": 1, \"70\": 1}, \"96\": {\"62\": 1, \"96\": 3, \"78\": 1, \"120\": 1, \"26\": 1, \"110\": 1, \"118\": 2, \"43\": 2, \"39\": 2, \"93\": 2, \"16\": 1, \"3\": 1, \"1\": 1, \"14\": 1}, \"100\": {\"100\": 11, \"7\": 1, \"1\": 1, \"3\": 1, \"89\": 1, \"114\": 2, \"5\": 1, \"8\": 1, \"99\": 1}, \"7\": {\"11\": 1, \"7\": 82, \"70\": 1, \"101\": 7, \"15\": 1, \"109\": 1, \"0\": 10, \"106\": 1, \"27\": 1, \"8\": 8, \"93\": 1, \"36\": 1, \"23\": 1, \"110\": 1, \"87\": 1, \"24\": 1, \"43\": 1}, \"75\": {\"75\": 13, \"29\": 1, \"15\": 1, \"34\": 1}, \"10\": {\"10\": 85, \"44\": 1, \"88\": 3, \"108\": 2, \"27\": 5, \"24\": 14, \"70\": 8, \"105\": 1, \"36\": 1, \"43\": 1, \"12\": 2, \"126\": 1}, \"43\": {\"11\": 6, \"43\": 54, \"126\": 2, \"113\": 1, \"78\": 2, \"109\": 9, \"108\": 4, \"122\": 5, \"27\": 8, \"88\": 2, \"24\": 2, \"87\": 5, \"118\": 1, \"93\": 3, \"30\": 1, \"39\": 5, \"70\": 1, \"106\": 4, \"10\": 3, \"36\": 1, \"0\": 1}, \"92\": {\"86\": 1, \"92\": 12, \"40\": 1, \"48\": 2, \"31\": 1, \"54\": 1, \"57\": 1, \"45\": 2, \"90\": 1, \"33\": 1, \"82\": 1, \"81\": 2, \"67\": 1, \"74\": 1}, \"62\": {\"62\": 31, \"43\": 2, \"3\": 2, \"72\": 2, \"44\": 1, \"39\": 1, \"84\": 6, \"27\": 1, \"122\": 1, \"88\": 1, \"118\": 3, \"126\": 2, \"108\": 1, \"14\": 4, \"99\": 1, \"11\": 1}, \"31\": {\"45\": 1, \"46\": 1, \"107\": 2, \"33\": 2, \"31\": 7, \"129\": 1, \"28\": 1, \"3\": 1}, \"0\": {\"0\": 60, \"8\": 8, \"11\": 2, \"7\": 10, \"36\": 2, \"110\": 4, \"43\": 3, \"15\": 7, \"106\": 1, \"30\": 2, \"87\": 1, \"101\": 4, \"27\": 4, \"70\": 3, \"12\": 1, \"88\": 1, \"94\": 1}, \"45\": {\"45\": 12, \"34\": 1, \"28\": 1, \"102\": 1, \"95\": 1}, \"85\": {\"85\": 26, \"54\": 1, \"53\": 1}, \"119\": {\"119\": 16}, \"46\": {\"1\": 1, \"46\": 14, \"95\": 4, \"34\": 1}, \"71\": {\"71\": 65, \"3\": 16, \"40\": 5, \"114\": 4, \"1\": 2, \"105\": 1, \"127\": 6, \"12\": 2, \"14\": 1, \"108\": 1, \"126\": 1}, \"8\": {\"0\": 7, \"12\": 2, \"8\": 62, \"101\": 7, \"106\": 4, \"113\": 1, \"7\": 14, \"15\": 8, \"94\": 2, \"30\": 8, \"36\": 3, \"10\": 2, \"27\": 2, \"24\": 3, \"126\": 1, \"87\": 1, \"11\": 2, \"110\": 1, \"3\": 1, \"70\": 1, \"93\": 2}, \"118\": {\"0\": 2, \"118\": 54, \"8\": 1, \"16\": 2, \"126\": 4, \"62\": 3, \"88\": 1, \"3\": 1, \"109\": 1, \"84\": 1, \"113\": 4, \"11\": 9, \"14\": 4, \"39\": 3, \"5\": 1, \"105\": 2, \"87\": 4, \"93\": 2, \"43\": 2, \"110\": 4, \"10\": 1, \"122\": 1, \"36\": 1, \"106\": 1, \"24\": 1, \"70\": 2}, \"1\": {\"1\": 71, \"114\": 7, \"14\": 2, \"85\": 1, \"5\": 2, \"33\": 1, \"3\": 4, \"128\": 1, \"105\": 5, \"10\": 2, \"126\": 1, \"71\": 5, \"127\": 2, \"21\": 1, \"108\": 1, \"40\": 2}, \"38\": {\"38\": 15, \"108\": 1}, \"30\": {\"30\": 49, \"27\": 4, \"101\": 1, \"8\": 9, \"106\": 2, \"88\": 1, \"15\": 3, \"108\": 1, \"93\": 1, \"21\": 1, \"126\": 1, \"36\": 1, \"94\": 1, \"7\": 1}, \"66\": {\"66\": 6, \"92\": 1, \"19\": 4, \"89\": 1, \"28\": 1, \"48\": 1, \"22\": 1, \"52\": 1}, \"9\": {\"9\": 20, \"0\": 1, \"20\": 1, \"34\": 1, \"127\": 1, \"85\": 1, \"53\": 1, \"29\": 1, \"12\": 1}, \"5\": {\"5\": 87, \"1\": 7, \"3\": 7, \"100\": 3, \"114\": 8, \"107\": 3, \"71\": 3, \"14\": 2, \"84\": 1, \"49\": 1, \"44\": 1, \"97\": 1, \"60\": 1, \"52\": 1, \"40\": 7, \"105\": 2, \"62\": 1}, \"24\": {\"24\": 73, \"36\": 8, \"88\": 4, \"70\": 5, \"27\": 6, \"30\": 1, \"10\": 21, \"15\": 1, \"108\": 1}, \"97\": {\"77\": 1, \"24\": 3, \"97\": 11, \"70\": 1, \"27\": 2, \"88\": 2}, \"67\": {\"67\": 12, \"123\": 2, \"48\": 1, \"92\": 1}, \"19\": {\"77\": 1, \"19\": 10, \"71\": 1, \"98\": 1, \"42\": 2, \"85\": 2, \"40\": 1, \"82\": 1, \"31\": 1, \"41\": 1, \"83\": 2, \"57\": 1, \"69\": 1, \"52\": 1, \"44\": 1, \"54\": 1}, \"77\": {\"77\": 11, \"29\": 1}, \"26\": {\"26\": 76, \"96\": 1, \"16\": 9, \"84\": 4, \"18\": 14, \"88\": 1, \"110\": 2, \"108\": 2, \"118\": 1, \"5\": 1, \"93\": 2, \"69\": 2, \"78\": 1, \"36\": 1, \"43\": 1}, \"115\": {\"24\": 1, \"115\": 9, \"68\": 1, \"64\": 1, \"37\": 2, \"120\": 1, \"86\": 1}, \"50\": {\"50\": 10, \"115\": 1, \"129\": 3, \"57\": 1, \"37\": 1}, \"120\": {\"120\": 12, \"19\": 1, \"82\": 1, \"73\": 1, \"37\": 1, \"28\": 1, \"102\": 1, \"115\": 1, \"90\": 1}, \"102\": {\"102\": 110, \"57\": 1, \"48\": 1, \"45\": 3, \"99\": 1, \"63\": 1, \"129\": 2, \"84\": 1, \"39\": 1, \"117\": 2, \"26\": 1, \"13\": 1, \"115\": 1, \"18\": 1, \"5\": 1}, \"29\": {\"29\": 27, \"42\": 1, \"98\": 4}, \"44\": {\"44\": 39, \"43\": 1, \"99\": 2, \"105\": 5, \"84\": 4, \"1\": 2, \"5\": 3, \"18\": 1, \"14\": 2, \"107\": 1, \"83\": 1, \"32\": 1, \"3\": 1, \"62\": 1}, \"124\": {\"104\": 1, \"29\": 1, \"124\": 62, \"32\": 2, \"82\": 1, \"37\": 2, \"73\": 1, \"96\": 1, \"83\": 2, \"89\": 1, \"116\": 2, \"111\": 14, \"1\": 1, \"33\": 3, \"125\": 3, \"3\": 2, \"90\": 1, \"98\": 6, \"52\": 1, \"115\": 1, \"42\": 2, \"129\": 2, \"107\": 2, \"5\": 1, \"40\": 3}, \"78\": {\"78\": 27, \"21\": 3, \"70\": 1, \"88\": 4, \"108\": 1}, \"104\": {\"104\": 11, \"17\": 2, \"116\": 2, \"55\": 1}, \"105\": {\"44\": 1, \"105\": 34, \"14\": 2, \"72\": 1, \"1\": 12, \"128\": 1, \"71\": 6, \"3\": 10, \"95\": 1, \"70\": 1, \"10\": 1, \"40\": 5, \"114\": 6, \"127\": 4, \"107\": 1, \"5\": 6, \"96\": 1, \"78\": 1, \"94\": 1, \"11\": 1, \"84\": 1, \"88\": 1, \"36\": 1, \"110\": 1}, \"28\": {\"17\": 1, \"28\": 12, \"41\": 1, \"73\": 1, \"25\": 1, \"120\": 1, \"74\": 1, \"64\": 1, \"112\": 1}, \"37\": {\"17\": 1, \"124\": 1, \"37\": 14}, \"107\": {\"107\": 85, \"105\": 3, \"40\": 11, \"69\": 1, \"5\": 5, \"101\": 2, \"33\": 9, \"18\": 1, \"11\": 1, \"108\": 1, \"3\": 1, \"14\": 1, \"114\": 5, \"46\": 2, \"51\": 1, \"84\": 1, \"16\": 1, \"88\": 1}, \"6\": {\"6\": 21, \"75\": 1, \"98\": 1, \"111\": 1}, \"17\": {\"104\": 4, \"17\": 14, \"129\": 1, \"111\": 1}, \"57\": {\"57\": 14, \"28\": 1, \"64\": 1}, \"121\": {\"57\": 2, \"121\": 15, \"74\": 2, \"33\": 3, \"21\": 1, \"18\": 1, \"69\": 1, \"110\": 1, \"64\": 2, \"31\": 1, \"92\": 2, \"116\": 1}, \"58\": {\"58\": 14, \"49\": 1, \"98\": 1}, \"64\": {\"96\": 1, \"64\": 10, \"115\": 1, \"116\": 1, \"28\": 1, \"74\": 1, \"41\": 1}, \"82\": {\"82\": 24, \"91\": 1, \"19\": 1, \"89\": 1, \"40\": 1, \"107\": 1, \"114\": 1, \"32\": 2}, \"39\": {\"110\": 2, \"39\": 57, \"113\": 2, \"21\": 1, \"108\": 1, \"122\": 3, \"109\": 11, \"10\": 1, \"126\": 5, \"27\": 1, \"88\": 6, \"70\": 1, \"118\": 2, \"0\": 2, \"78\": 2, \"24\": 1, \"43\": 2}, \"110\": {\"11\": 9, \"110\": 34, \"87\": 10, \"7\": 2, \"0\": 5, \"61\": 1, \"27\": 5, \"43\": 7, \"60\": 1, \"93\": 13, \"101\": 1, \"108\": 5, \"126\": 1, \"39\": 2, \"118\": 7, \"62\": 3, \"24\": 1, \"70\": 3, \"113\": 3, \"8\": 3, \"5\": 1, \"21\": 1, \"56\": 1, \"122\": 1, \"10\": 1, \"88\": 3}, \"114\": {\"114\": 88, \"34\": 1, \"74\": 1, \"20\": 1, \"1\": 7, \"40\": 7, \"8\": 3, \"71\": 4, \"36\": 1, \"5\": 2, \"106\": 1, \"127\": 4, \"109\": 1, \"107\": 1, \"105\": 1, \"3\": 2, \"118\": 1, \"110\": 2}, \"20\": {\"20\": 11, \"49\": 4, \"114\": 1}, \"117\": {\"117\": 83, \"32\": 1, \"63\": 1, \"57\": 2, \"121\": 2, \"2\": 1, \"102\": 7, \"33\": 2, \"26\": 4, \"113\": 1, \"84\": 1, \"65\": 2, \"80\": 1, \"67\": 1, \"92\": 1, \"99\": 1, \"44\": 1, \"18\": 2}, \"18\": {\"18\": 93, \"26\": 8, \"113\": 2, \"44\": 2, \"39\": 1, \"16\": 3, \"84\": 5, \"69\": 3, \"88\": 1, \"33\": 2}, \"99\": {\"20\": 2, \"99\": 32, \"60\": 1, \"71\": 2, \"14\": 1, \"72\": 2}, \"23\": {\"39\": 3, \"0\": 3, \"11\": 1, \"23\": 2, \"106\": 1, \"108\": 1, \"78\": 1, \"93\": 1, \"21\": 1, \"88\": 2}, \"128\": {\"128\": 17, \"9\": 1, \"83\": 2, \"85\": 1, \"114\": 2, \"99\": 1}, \"60\": {\"101\": 3, \"60\": 16, \"39\": 1, \"38\": 1, \"70\": 1, \"94\": 1, \"0\": 1, \"8\": 1, \"108\": 1, \"27\": 1, \"11\": 1, \"30\": 1, \"87\": 1, \"72\": 1, \"36\": 1}, \"70\": {\"70\": 77, \"109\": 1, \"24\": 5, \"10\": 9, \"87\": 1, \"88\": 4, \"108\": 6, \"0\": 1, \"27\": 5, \"36\": 2, \"43\": 3, \"78\": 1, \"21\": 1, \"11\": 1, \"30\": 1, \"39\": 1, \"101\": 1}, \"122\": {\"88\": 1, \"60\": 1, \"122\": 39, \"23\": 1, \"43\": 3, \"39\": 7, \"70\": 2, \"0\": 1, \"105\": 1, \"118\": 4, \"62\": 4, \"110\": 1, \"3\": 1, \"11\": 3, \"30\": 1, \"109\": 2, \"10\": 2, \"5\": 1, \"108\": 1, \"87\": 5, \"94\": 1, \"93\": 1, \"27\": 1}, \"101\": {\"101\": 74, \"15\": 5, \"11\": 1, \"94\": 4, \"78\": 1, \"127\": 5, \"7\": 6, \"0\": 6, \"30\": 2, \"106\": 4, \"8\": 9, \"43\": 1, \"36\": 2, \"60\": 1, \"87\": 2, \"88\": 1, \"93\": 1, \"12\": 5, \"110\": 1, \"1\": 1}, \"33\": {\"33\": 114, \"40\": 6, \"116\": 1, \"107\": 7, \"5\": 2, \"69\": 1, \"98\": 1}, \"40\": {\"40\": 72, \"44\": 1, \"99\": 1, \"1\": 11, \"71\": 5, \"108\": 2, \"105\": 1, \"33\": 5, \"114\": 7, \"110\": 1, \"107\": 9, \"3\": 2, \"118\": 1, \"126\": 1, \"127\": 2, \"109\": 1, \"5\": 3, \"106\": 1, \"88\": 2, \"14\": 2}, \"41\": {\"41\": 9, \"56\": 1, \"52\": 1, \"105\": 1, \"9\": 1, \"58\": 2, \"21\": 1}, \"59\": {\"59\": 11, \"119\": 1}, \"4\": {\"4\": 72, \"37\": 1, \"39\": 2, \"115\": 1, \"67\": 1, \"27\": 1, \"124\": 3, \"108\": 2, \"89\": 1, \"125\": 5, \"98\": 2, \"24\": 1, \"102\": 2, \"86\": 2, \"79\": 1, \"111\": 3, \"56\": 1, \"29\": 1, \"109\": 1, \"88\": 1}, \"112\": {\"41\": 1, \"112\": 10, \"55\": 1, \"53\": 1, \"29\": 2, \"43\": 1}, \"36\": {\"30\": 7, \"36\": 98, \"27\": 4, \"51\": 1, \"88\": 2, \"0\": 1, \"24\": 4, \"94\": 3, \"70\": 2, \"10\": 3, \"15\": 1, \"8\": 2}, \"48\": {\"48\": 12, \"19\": 1, \"90\": 2, \"63\": 1}, \"126\": {\"126\": 74, \"10\": 2, \"113\": 8, \"39\": 6, \"24\": 1, \"122\": 4, \"43\": 3, \"109\": 7, \"0\": 1, \"27\": 1, \"88\": 1, \"110\": 2, \"70\": 2, \"118\": 2, \"93\": 2}, \"125\": {\"125\": 93, \"6\": 1, \"37\": 2, \"86\": 2, \"111\": 11, \"124\": 2, \"107\": 4, \"5\": 1, \"98\": 1, \"40\": 1, \"4\": 2, \"18\": 1, \"3\": 1}, \"84\": {\"84\": 68, \"21\": 1, \"69\": 11, \"26\": 9, \"44\": 4, \"72\": 1, \"88\": 6, \"39\": 1, \"14\": 3, \"16\": 10, \"10\": 1, \"126\": 1, \"18\": 2, \"5\": 1, \"118\": 1, \"107\": 1, \"60\": 1, \"114\": 1, \"40\": 3, \"0\": 1, \"113\": 1}, \"80\": {\"80\": 16}, \"49\": {\"49\": 20, \"106\": 2, \"8\": 2, \"127\": 1, \"30\": 1, \"3\": 2, \"72\": 2, \"60\": 1, \"99\": 1}, \"47\": {\"54\": 1, \"112\": 1, \"47\": 5, \"124\": 1, \"91\": 1, \"75\": 1, \"6\": 1, \"25\": 1}, \"95\": {\"95\": 15, \"90\": 1, \"54\": 1, \"1\": 1, \"46\": 2, \"51\": 1, \"83\": 2, \"40\": 1, \"41\": 1, \"5\": 1, \"127\": 2, \"114\": 2, \"107\": 2}, \"54\": {\"25\": 2, \"54\": 11, \"58\": 1, \"98\": 1, \"125\": 1}, \"25\": {\"25\": 16}, \"116\": {\"116\": 15, \"92\": 2, \"115\": 2, \"90\": 1, \"79\": 2, \"104\": 1, \"64\": 1, \"50\": 1, \"66\": 1, \"41\": 2}, \"74\": {\"74\": 13, \"60\": 1, \"128\": 2}, \"35\": {\"35\": 7, \"16\": 1, \"33\": 1, \"60\": 1, \"117\": 1, \"110\": 1}, \"15\": {\"15\": 82, \"7\": 5, \"12\": 3, \"94\": 7, \"8\": 7, \"30\": 6, \"101\": 2, \"106\": 2, \"0\": 5, \"36\": 3, \"105\": 1, \"110\": 1, \"87\": 1, \"21\": 1, \"88\": 1, \"93\": 1}, \"108\": {\"108\": 51, \"70\": 11, \"88\": 4, \"39\": 4, \"109\": 5, \"21\": 1, \"1\": 1, \"122\": 1, \"10\": 3, \"98\": 2, \"126\": 1, \"43\": 2, \"24\": 3, \"105\": 1, \"91\": 1, \"110\": 1}, \"34\": {\"85\": 1, \"9\": 1, \"25\": 2, \"99\": 2, \"34\": 9, \"66\": 1, \"127\": 1, \"3\": 2, \"1\": 1, \"71\": 2, \"89\": 1, \"128\": 1, \"114\": 2, \"14\": 3, \"44\": 2, \"5\": 1}, \"81\": {\"18\": 4, \"114\": 1, \"81\": 21, \"84\": 1, \"16\": 3, \"44\": 2, \"117\": 1, \"57\": 1, \"33\": 1, \"121\": 1}, \"93\": {\"93\": 66, \"87\": 7, \"122\": 6, \"118\": 5, \"62\": 3, \"70\": 1, \"8\": 1, \"108\": 2, \"110\": 7, \"24\": 2, \"7\": 3, \"5\": 1, \"105\": 2, \"113\": 1, \"10\": 1, \"36\": 1, \"11\": 10, \"30\": 1, \"39\": 1, \"101\": 1, \"88\": 1, \"43\": 3, \"15\": 2}, \"55\": {\"114\": 1, \"73\": 1, \"42\": 1, \"112\": 1, \"55\": 8, \"129\": 1, \"68\": 1, \"111\": 1, \"95\": 1}, \"27\": {\"27\": 71, \"97\": 2, \"10\": 2, \"70\": 3, \"88\": 1, \"0\": 4, \"24\": 8, \"125\": 1, \"36\": 2, \"43\": 1, \"8\": 1, \"124\": 1, \"108\": 1, \"87\": 1, \"15\": 1}, \"109\": {\"11\": 3, \"109\": 58, \"97\": 1, \"39\": 6, \"126\": 6, \"70\": 4, \"43\": 9, \"87\": 5, \"88\": 3, \"110\": 1, \"108\": 3, \"0\": 2, \"16\": 2, \"122\": 2, \"118\": 2, \"10\": 1, \"27\": 1, \"93\": 1}, \"106\": {\"106\": 68, \"0\": 3, \"7\": 2, \"21\": 1, \"1\": 1, \"12\": 13, \"101\": 6, \"109\": 2, \"27\": 2, \"36\": 2, \"30\": 1, \"49\": 2, \"53\": 1, \"126\": 2, \"72\": 1, \"10\": 2, \"3\": 1, \"94\": 1, \"15\": 1, \"24\": 2, \"127\": 1, \"8\": 1}, \"68\": {\"47\": 1, \"68\": 11, \"111\": 1, \"24\": 1, \"98\": 2}, \"76\": {\"36\": 1, \"76\": 6, \"34\": 1, \"5\": 1, \"92\": 2, \"90\": 1, \"38\": 1, \"78\": 1, \"107\": 1, \"122\": 1}, \"103\": {\"42\": 2, \"103\": 9, \"10\": 1, \"95\": 2, \"46\": 1, \"52\": 1}, \"42\": {\"42\": 21, \"100\": 2, \"103\": 1, \"119\": 1, \"98\": 1, \"114\": 2}, \"129\": {\"82\": 2, \"129\": 17, \"73\": 1, \"120\": 1, \"50\": 2, \"29\": 1, \"37\": 1, \"6\": 1, \"45\": 1, \"111\": 1}, \"94\": {\"15\": 11, \"94\": 54, \"39\": 1, \"36\": 8, \"24\": 1, \"8\": 2, \"122\": 1, \"88\": 1, \"21\": 1, \"27\": 1, \"126\": 1, \"30\": 1, \"101\": 1, \"109\": 1, \"0\": 1, \"108\": 1, \"106\": 1}, \"123\": {\"123\": 13, \"52\": 1, \"92\": 1, \"67\": 1}, \"61\": {\"61\": 7, \"76\": 1, \"92\": 1, \"117\": 1, \"26\": 1, \"67\": 2, \"19\": 1, \"57\": 2}, \"51\": {\"39\": 1, \"53\": 2, \"51\": 2, \"97\": 1, \"27\": 2, \"82\": 1, \"21\": 1, \"72\": 1, \"70\": 1, \"122\": 1, \"9\": 1, \"106\": 2}, \"98\": {\"35\": 1, \"112\": 1, \"98\": 103, \"102\": 2, \"71\": 1, \"34\": 2, \"101\": 2, \"14\": 1, \"121\": 1, \"3\": 1, \"113\": 1, \"8\": 1, \"7\": 1}, \"56\": {\"42\": 2, \"73\": 1, \"68\": 1, \"56\": 3, \"1\": 2, \"83\": 1, \"22\": 2}, \"14\": {\"14\": 86, \"1\": 2, \"3\": 2, \"5\": 5, \"12\": 1, \"44\": 1, \"109\": 1, \"126\": 1, \"69\": 2, \"105\": 1, \"114\": 1, \"118\": 1, \"113\": 2, \"78\": 1, \"87\": 1, \"60\": 1, \"36\": 1, \"62\": 1, \"88\": 1}, \"90\": {\"90\": 127, \"76\": 2, \"120\": 2, \"19\": 1, \"33\": 2, \"1\": 1, \"66\": 1, \"101\": 1, \"5\": 1}, \"13\": {\"13\": 12, \"50\": 2, \"129\": 1, \"81\": 1}, \"89\": {\"89\": 20, \"114\": 1, \"93\": 1, \"5\": 1, \"40\": 1, \"94\": 1, \"4\": 1, \"3\": 1, \"33\": 1, \"47\": 2, \"19\": 1, \"52\": 1}, \"52\": {\"52\": 17, \"90\": 1, \"127\": 1, \"89\": 1}, \"72\": {\"14\": 2, \"71\": 1, \"11\": 1, \"72\": 17, \"109\": 1, \"93\": 2, \"7\": 3, \"0\": 1, \"12\": 1, \"99\": 2, \"106\": 1}, \"79\": {\"116\": 1, \"79\": 12, \"124\": 1, \"102\": 1, \"89\": 1}, \"113\": {\"110\": 4, \"113\": 54, \"126\": 16, \"7\": 2, \"26\": 1, \"62\": 2, \"36\": 1, \"43\": 5, \"84\": 1, \"118\": 7, \"107\": 1, \"16\": 6, \"108\": 2, \"109\": 6, \"93\": 5, \"11\": 3, \"78\": 1, \"70\": 1, \"122\": 1, \"87\": 1, \"39\": 3, \"88\": 3}}, \"C_3\": {\"14\": {\"14\": 20, \"7\": 2, \"29\": 1, \"46\": 1, \"47\": 2, \"40\": 4, \"56\": 5, \"57\": 2, \"52\": 2, \"41\": 1}, \"18\": {\"18\": 83, \"25\": 1}, \"30\": {\"30\": 119, \"50\": 1}, \"16\": {\"16\": 154, \"15\": 2}, \"1\": {\"1\": 90, \"9\": 1, \"20\": 1, \"57\": 6, \"47\": 1, \"22\": 1}, \"20\": {\"20\": 130, \"8\": 2}, \"7\": {\"7\": 34, \"14\": 1, \"0\": 1}, \"52\": {\"52\": 126, \"0\": 1, \"30\": 1, \"46\": 1, \"48\": 1}, \"9\": {\"9\": 120, \"20\": 2, \"33\": 1, \"27\": 6, \"8\": 1, \"54\": 1, \"57\": 3, \"29\": 1, \"2\": 1, \"32\": 2, \"4\": 2}, \"23\": {\"23\": 143, \"36\": 1}, \"55\": {\"55\": 123, \"7\": 1, \"39\": 3, \"31\": 2, \"23\": 5, \"49\": 3, \"14\": 2, \"40\": 1, \"1\": 2, \"43\": 3, \"29\": 4, \"0\": 1, \"47\": 1, \"26\": 1, \"36\": 5, \"57\": 4, \"56\": 1, \"48\": 2}, \"29\": {\"9\": 7, \"29\": 88, \"4\": 10, \"40\": 9, \"48\": 1, \"36\": 1, \"57\": 2, \"47\": 2, \"27\": 4, \"1\": 2}, \"56\": {\"56\": 109, \"1\": 2, \"7\": 1, \"22\": 15, \"40\": 2, \"52\": 1, \"3\": 1, \"5\": 1, \"0\": 2}, \"3\": {\"6\": 11, \"3\": 66, \"46\": 13, \"5\": 13, \"21\": 8, \"45\": 2, \"12\": 3, \"52\": 1, \"22\": 1, \"50\": 6}, \"42\": {\"42\": 26, \"55\": 2}, \"6\": {\"6\": 75, \"3\": 8, \"45\": 2, \"50\": 2, \"5\": 1}, \"5\": {\"5\": 111, \"12\": 1, \"3\": 1, \"6\": 1, \"46\": 1, \"50\": 1}, \"27\": {\"27\": 131, \"4\": 1, \"30\": 1, \"48\": 2, \"29\": 2, \"57\": 2, \"33\": 1, \"40\": 1, \"20\": 1, \"9\": 2}, \"47\": {\"47\": 70, \"41\": 3, \"57\": 1, \"40\": 2, \"0\": 2, \"52\": 1, \"48\": 9, \"46\": 1, \"29\": 1, \"56\": 1, \"20\": 1}, \"39\": {\"39\": 14, \"40\": 1, \"41\": 1}, \"34\": {\"34\": 30, \"23\": 2}, \"4\": {\"4\": 93, \"2\": 1, \"9\": 13, \"40\": 9, \"29\": 4, \"47\": 1, \"8\": 2, \"44\": 1, \"30\": 1, \"27\": 1}, \"24\": {\"24\": 104}, \"46\": {\"50\": 8, \"5\": 7, \"21\": 5, \"46\": 80, \"3\": 13, \"6\": 2, \"12\": 3}, \"50\": {\"5\": 2, \"50\": 78, \"46\": 5, \"21\": 5, \"3\": 12, \"12\": 7, \"6\": 8, \"45\": 2, \"52\": 1, \"30\": 4, \"40\": 2}, \"38\": {\"38\": 28}, \"54\": {\"54\": 96, \"8\": 1, \"23\": 2, \"20\": 1}, \"35\": {\"35\": 27, \"34\": 1}, \"2\": {\"2\": 32}, \"41\": {\"41\": 28}, \"57\": {\"57\": 113, \"29\": 3, \"9\": 1, \"48\": 1}, \"25\": {\"25\": 134, \"16\": 9, \"15\": 3, \"18\": 3, \"11\": 1}, \"48\": {\"48\": 107, \"52\": 2, \"1\": 2, \"20\": 1, \"47\": 3, \"33\": 1}, \"33\": {\"52\": 2, \"33\": 25, \"47\": 1}, \"45\": {\"45\": 43, \"6\": 7, \"50\": 3, \"21\": 1, \"44\": 2, \"12\": 2, \"30\": 2}, \"13\": {\"13\": 126}, \"36\": {\"36\": 97, \"29\": 1, \"27\": 1, \"17\": 1}, \"43\": {\"43\": 132}, \"28\": {\"28\": 21, \"55\": 1, \"35\": 2, \"26\": 1, \"31\": 1, \"25\": 2}, \"0\": {\"0\": 124}, \"12\": {\"12\": 85, \"3\": 3, \"50\": 4}, \"31\": {\"31\": 22, \"55\": 1, \"39\": 1, \"42\": 1, \"35\": 1, \"49\": 1, \"34\": 1}, \"40\": {\"4\": 3, \"40\": 100, \"48\": 2, \"29\": 5, \"45\": 1, \"52\": 2, \"44\": 3}, \"44\": {\"44\": 81, \"3\": 2, \"45\": 1, \"40\": 1, \"47\": 1, \"22\": 1, \"12\": 1}, \"32\": {\"32\": 28}, \"26\": {\"26\": 23, \"34\": 1}, \"8\": {\"8\": 116}, \"10\": {\"10\": 64}, \"15\": {\"15\": 139, \"31\": 1, \"16\": 1, \"43\": 1}, \"21\": {\"46\": 3, \"5\": 2, \"21\": 109, \"12\": 1, \"44\": 1, \"50\": 5, \"40\": 1, \"3\": 3, \"30\": 1, \"45\": 1, \"52\": 1}, \"37\": {\"37\": 28}, \"17\": {\"17\": 107, \"32\": 1}, \"51\": {\"51\": 117, \"40\": 1, \"54\": 5, \"8\": 1}, \"53\": {\"53\": 142, \"54\": 1, \"51\": 1}, \"19\": {\"19\": 130, \"34\": 1, \"51\": 1, \"25\": 2, \"29\": 2}, \"49\": {\"49\": 18, \"14\": 1, \"55\": 1}, \"11\": {\"11\": 132, \"15\": 5, \"16\": 1}, \"22\": {\"22\": 92, \"5\": 4, \"0\": 4, \"56\": 19, \"1\": 4, \"3\": 1, \"46\": 2, \"7\": 1, \"50\": 1, \"52\": 2}}, \"W_1\": {\"68\": {\"77\": 1, \"68\": 12, \"86\": 1, \"104\": 2}, \"7\": {\"7\": 133, \"23\": 1, \"87\": 1, \"8\": 3, \"110\": 1, \"0\": 2, \"43\": 1}, \"125\": {\"125\": 93, \"111\": 11, \"17\": 1, \"6\": 1, \"107\": 3, \"5\": 3, \"32\": 1, \"114\": 1, \"98\": 1, \"37\": 2, \"4\": 1}, \"111\": {\"111\": 97, \"46\": 1, \"68\": 2, \"112\": 1, \"90\": 1, \"98\": 5, \"125\": 1, \"107\": 2, \"114\": 1, \"106\": 1, \"21\": 1, \"5\": 4, \"124\": 1, \"40\": 2}, \"101\": {\"101\": 107, \"12\": 12, \"110\": 1, \"106\": 2, \"24\": 1, \"44\": 1}, \"11\": {\"60\": 1, \"11\": 73, \"39\": 4, \"24\": 2, \"109\": 2, \"87\": 5, \"8\": 6, \"122\": 8, \"43\": 13, \"126\": 7, \"108\": 1, \"88\": 1, \"93\": 5, \"23\": 1, \"78\": 1, \"96\": 1, \"18\": 1, \"70\": 2, \"10\": 2}, \"76\": {\"7\": 1, \"76\": 9, \"41\": 1, \"23\": 1, \"34\": 1, \"87\": 1, \"11\": 1, \"42\": 1}, \"5\": {\"5\": 72, \"54\": 2, \"124\": 2, \"0\": 1, \"55\": 2, \"85\": 1, \"114\": 1, \"111\": 3, \"104\": 1, \"98\": 1, \"39\": 1, \"107\": 1}, \"123\": {\"123\": 12, \"90\": 1, \"128\": 1, \"121\": 1, \"19\": 1}, \"85\": {\"85\": 25, \"52\": 1, \"73\": 1, \"86\": 1, \"32\": 1, \"92\": 1, \"19\": 2}, \"34\": {\"101\": 2, \"34\": 11, \"89\": 3, \"35\": 2, \"128\": 1, \"75\": 3, \"84\": 1, \"107\": 1, \"105\": 1, \"31\": 1, \"19\": 1, \"76\": 1, \"38\": 1, \"49\": 1, \"60\": 2}, \"42\": {\"34\": 2, \"42\": 20, \"22\": 1, \"104\": 1, \"82\": 2, \"56\": 1, \"85\": 1}, \"81\": {\"101\": 1, \"81\": 15, \"100\": 1, \"31\": 1, \"82\": 1, \"40\": 1, \"69\": 1, \"50\": 2, \"128\": 3, \"1\": 1, \"33\": 1}, \"127\": {\"60\": 1, \"101\": 1, \"127\": 94, \"106\": 2, \"40\": 1, \"84\": 2, \"126\": 1, \"105\": 2, \"15\": 1, \"88\": 1, \"44\": 1, \"36\": 1}, \"60\": {\"60\": 11, \"99\": 1, \"30\": 1, \"118\": 1, \"3\": 1, \"94\": 1}, \"77\": {\"77\": 14, \"28\": 1, \"104\": 1}, \"65\": {\"123\": 2, \"65\": 6, \"119\": 1, \"28\": 1, \"50\": 1, \"16\": 1}, \"44\": {\"44\": 75, \"12\": 1}, \"100\": {\"44\": 1, \"100\": 12, \"60\": 1, \"19\": 2}, \"80\": {\"51\": 1, \"80\": 11, \"116\": 3, \"32\": 1}, \"83\": {\"83\": 12, \"47\": 1, \"73\": 1, \"54\": 2, \"29\": 1, \"106\": 1, \"10\": 1, \"77\": 1, \"79\": 1, \"105\": 1, \"25\": 1, \"114\": 1, \"85\": 1, \"129\": 1, \"127\": 1, \"35\": 1}, \"51\": {\"51\": 14, \"31\": 2}, \"93\": {\"126\": 12, \"93\": 57, \"27\": 8, \"87\": 8, \"70\": 5, \"0\": 4, \"7\": 4, \"108\": 8, \"94\": 1, \"10\": 5, \"43\": 7, \"109\": 3, \"8\": 2, \"24\": 3, \"11\": 1, \"110\": 1, \"122\": 1, \"21\": 1, \"30\": 2, \"88\": 1}, \"31\": {\"31\": 14, \"34\": 2}, \"33\": {\"33\": 120, \"82\": 1, \"64\": 1, \"0\": 1, \"41\": 1, \"114\": 2}, \"113\": {\"126\": 1, \"113\": 78, \"44\": 1, \"18\": 1, \"26\": 10, \"118\": 7, \"109\": 1, \"69\": 2, \"16\": 13, \"70\": 3, \"108\": 1, \"106\": 1, \"93\": 1, \"11\": 1, \"43\": 1, \"62\": 1, \"39\": 1}, \"126\": {\"93\": 8, \"126\": 81, \"78\": 1, \"96\": 1, \"70\": 3, \"108\": 11, \"10\": 5, \"24\": 4, \"11\": 1, \"88\": 2, \"109\": 1, \"27\": 1, \"43\": 5}, \"10\": {\"10\": 86, \"97\": 1, \"70\": 5, \"108\": 12, \"109\": 5, \"126\": 4, \"24\": 3, \"30\": 1, \"93\": 2, \"43\": 1}, \"21\": {\"21\": 36, \"109\": 3, \"10\": 1}, \"90\": {\"90\": 116, \"44\": 1, \"3\": 3, \"1\": 2, \"64\": 1, \"42\": 1, \"105\": 1, \"14\": 2, \"114\": 2, \"18\": 1, \"62\": 1, \"40\": 1}, \"38\": {\"96\": 1, \"38\": 4, \"89\": 1, \"128\": 2, \"20\": 1, \"114\": 1, \"29\": 2, \"45\": 2, \"49\": 2}, \"96\": {\"94\": 1, \"88\": 1, \"44\": 2, \"96\": 9, \"70\": 1, \"106\": 1, \"0\": 1, \"11\": 2, \"12\": 1, \"24\": 1}, \"6\": {\"6\": 28, \"112\": 3, \"89\": 1}, \"121\": {\"121\": 20, \"65\": 2, \"95\": 3, \"119\": 2, \"60\": 1, \"2\": 1, \"63\": 1, \"116\": 2}, \"37\": {\"37\": 16}, \"88\": {\"94\": 1, \"88\": 81, \"108\": 13, \"24\": 15, \"10\": 6, \"27\": 4, \"126\": 5, \"109\": 1}, \"54\": {\"54\": 15, \"107\": 1}, \"92\": {\"92\": 17, \"89\": 3, \"72\": 1, \"56\": 1, \"49\": 1, \"37\": 2, \"19\": 1, \"91\": 1, \"53\": 1}, \"19\": {\"73\": 1, \"19\": 14, \"82\": 2, \"50\": 1, \"107\": 3, \"62\": 1, \"89\": 1, \"85\": 1, \"114\": 1, \"52\": 1, \"40\": 1, \"3\": 1}, \"47\": {\"73\": 2, \"47\": 3, \"40\": 1, \"105\": 2, \"9\": 1, \"56\": 1, \"34\": 2}, \"94\": {\"88\": 7, \"94\": 50, \"30\": 1, \"36\": 13, \"0\": 3, \"15\": 5, \"12\": 1, \"24\": 1, \"27\": 3, \"8\": 3, \"126\": 2, \"44\": 1, \"93\": 1, \"43\": 1}, \"66\": {\"66\": 12, \"42\": 1, \"2\": 1, \"99\": 2}, \"73\": {\"73\": 13, \"29\": 1, \"10\": 1, \"98\": 2, \"25\": 1, \"103\": 2}, \"75\": {\"75\": 14, \"9\": 1, \"34\": 1}, \"28\": {\"28\": 10, \"25\": 1, \"99\": 1, \"38\": 3, \"76\": 1, \"75\": 1, \"64\": 2, \"42\": 1}, \"20\": {\"20\": 9, \"19\": 4, \"18\": 2, \"99\": 1}, \"78\": {\"21\": 2, \"78\": 11, \"87\": 2, \"10\": 1}, \"71\": {\"71\": 74, \"106\": 2, \"109\": 1, \"101\": 5, \"110\": 2, \"8\": 1, \"27\": 1, \"0\": 2, \"127\": 2, \"11\": 1, \"36\": 5, \"15\": 1, \"21\": 1, \"12\": 4, \"44\": 2}, \"13\": {\"123\": 1, \"102\": 2, \"13\": 12, \"63\": 1}, \"118\": {\"118\": 44, \"69\": 7, \"126\": 1, \"27\": 2, \"113\": 8, \"11\": 1, \"109\": 1, \"18\": 4, \"16\": 2, \"39\": 2, \"43\": 2, \"84\": 2, \"62\": 2, \"10\": 2, \"3\": 1, \"122\": 1, \"87\": 1, \"8\": 1}, \"72\": {\"72\": 20, \"101\": 1, \"12\": 1, \"9\": 1, \"75\": 1, \"29\": 1, \"114\": 1, \"127\": 1, \"107\": 1, \"40\": 1, \"1\": 1, \"27\": 1, \"14\": 1}, \"24\": {\"24\": 64, \"88\": 10, \"108\": 14, \"39\": 1, \"93\": 2, \"30\": 1}, \"41\": {\"41\": 13, \"112\": 1, \"92\": 1, \"91\": 1}, \"102\": {\"102\": 99, \"117\": 10, \"2\": 2, \"16\": 1, \"116\": 2, \"73\": 1, \"82\": 2, \"113\": 1, \"127\": 1, \"118\": 1}, \"8\": {\"21\": 1, \"78\": 2, \"8\": 70, \"122\": 7, \"35\": 1, \"87\": 5, \"30\": 3, \"27\": 2, \"11\": 11, \"93\": 8, \"126\": 3, \"44\": 1, \"0\": 3, \"106\": 1, \"39\": 1, \"108\": 5, \"43\": 9, \"110\": 1, \"7\": 2, \"70\": 1, \"10\": 1}, \"39\": {\"39\": 54, \"78\": 1, \"11\": 11, \"70\": 5, \"21\": 3, \"118\": 2, \"122\": 3, \"10\": 2, \"43\": 5, \"93\": 1, \"109\": 3, \"111\": 1, \"126\": 2, \"24\": 1, \"36\": 1, \"8\": 1}, \"97\": {\"97\": 13, \"30\": 2, \"93\": 2, \"11\": 2, \"28\": 1}, \"48\": {\"48\": 12}, \"57\": {\"57\": 10, \"104\": 2}, \"29\": {\"29\": 22, \"53\": 1, \"90\": 1, \"75\": 1, \"128\": 1, \"92\": 1, \"83\": 1}, \"119\": {\"119\": 15, \"95\": 1}, \"89\": {\"29\": 2, \"89\": 23, \"60\": 1, \"9\": 4, \"25\": 1, \"19\": 1, \"83\": 1, \"34\": 2, \"84\": 1}, \"40\": {\"40\": 94, \"1\": 4, \"9\": 2, \"114\": 8, \"29\": 1, \"105\": 5, \"110\": 2, \"14\": 1, \"107\": 5, \"84\": 2, \"101\": 5, \"106\": 3, \"31\": 1, \"7\": 1, \"3\": 3, \"127\": 1, \"8\": 1, \"12\": 1}, \"22\": {\"108\": 1, \"42\": 1, \"22\": 6, \"34\": 1, \"79\": 1, \"47\": 2, \"38\": 1, \"120\": 2, \"124\": 1}, \"53\": {\"53\": 16, \"89\": 2, \"92\": 1, \"6\": 1}, \"108\": {\"108\": 77, \"10\": 15, \"126\": 11, \"24\": 8, \"88\": 6, \"30\": 1, \"70\": 5, \"109\": 1}, \"23\": {\"23\": 14, \"87\": 2, \"8\": 2, \"94\": 1, \"30\": 1, \"27\": 1, \"7\": 2, \"36\": 1}, \"109\": {\"109\": 92, \"21\": 1, \"70\": 18, \"108\": 3, \"10\": 2}, \"112\": {\"112\": 9, \"6\": 2, \"91\": 1, \"41\": 1, \"92\": 1, \"58\": 1, \"86\": 1}, \"35\": {\"23\": 1, \"89\": 1, \"35\": 6, \"34\": 1, \"8\": 1, \"36\": 1, \"110\": 1}, \"3\": {\"3\": 65, \"62\": 9, \"18\": 1, \"74\": 1, \"84\": 3, \"1\": 1, \"40\": 1, \"111\": 2, \"60\": 1, \"14\": 2, \"44\": 1, \"90\": 1}, \"103\": {\"103\": 14, \"92\": 1, \"52\": 1}, \"4\": {\"4\": 82, \"124\": 3, \"125\": 1, \"1\": 1, \"111\": 1, \"109\": 1, \"84\": 1, \"17\": 1, \"48\": 2, \"37\": 1, \"86\": 2, \"6\": 2, \"5\": 1, \"114\": 1}, \"87\": {\"23\": 3, \"78\": 2, \"87\": 36, \"109\": 4, \"43\": 12, \"8\": 3, \"126\": 4, \"97\": 1, \"70\": 1, \"11\": 8, \"7\": 3, \"93\": 6, \"0\": 4, \"39\": 1, \"110\": 5, \"122\": 4, \"88\": 2, \"96\": 2, \"108\": 1, \"27\": 1, \"15\": 1, \"106\": 1, \"12\": 2, \"10\": 1}, \"25\": {\"87\": 1, \"103\": 1, \"25\": 3, \"104\": 1, \"119\": 1, \"129\": 2, \"128\": 1, \"82\": 1, \"83\": 1, \"5\": 1, \"19\": 1, \"114\": 1, \"11\": 1}, \"15\": {\"94\": 9, \"23\": 1, \"15\": 67, \"30\": 1, \"88\": 1, \"8\": 3, \"43\": 1, \"36\": 11, \"70\": 1, \"0\": 1, \"108\": 1, \"27\": 2, \"21\": 1, \"7\": 1, \"24\": 2, \"109\": 1}, \"95\": {\"100\": 1, \"120\": 1, \"95\": 17, \"34\": 1, \"89\": 1, \"18\": 2, \"66\": 1, \"60\": 1, \"117\": 1, \"90\": 2, \"26\": 2, \"38\": 1, \"114\": 1, \"76\": 1, \"33\": 3}, \"120\": {\"120\": 17, \"90\": 1, \"123\": 1, \"8\": 1}, \"59\": {\"59\": 7, \"41\": 1, \"50\": 1, \"111\": 1, \"86\": 2}, \"49\": {\"49\": 7, \"52\": 1, \"127\": 3, \"1\": 1, \"32\": 1, \"106\": 1, \"53\": 3, \"72\": 2, \"34\": 1}, \"52\": {\"52\": 17, \"35\": 1, \"109\": 1, \"24\": 1}, \"45\": {\"85\": 1, \"45\": 2, \"119\": 2, \"41\": 2, \"92\": 1, \"61\": 1, \"74\": 2, \"93\": 1}, \"107\": {\"107\": 119, \"40\": 3, \"127\": 1, \"106\": 1}, \"106\": {\"106\": 87, \"10\": 1, \"110\": 11, \"101\": 8, \"12\": 5, \"84\": 9, \"94\": 1, \"1\": 1, \"60\": 2, \"8\": 2, \"40\": 1, \"87\": 1, \"127\": 2, \"113\": 1, \"36\": 1, \"71\": 1}, \"18\": {\"18\": 97, \"109\": 2, \"69\": 3, \"62\": 5, \"118\": 1, \"8\": 1, \"122\": 2, \"3\": 2, \"44\": 1, \"23\": 1, \"87\": 2, \"27\": 1, \"113\": 2, \"110\": 2, \"84\": 1, \"106\": 1}, \"64\": {\"64\": 16}, \"86\": {\"86\": 32, \"48\": 1, \"108\": 1, \"112\": 1, \"91\": 1}, \"14\": {\"14\": 81, \"33\": 1, \"72\": 1, \"105\": 2, \"1\": 3, \"12\": 2, \"108\": 1, \"84\": 1, \"69\": 1, \"19\": 2, \"3\": 1}, \"115\": {\"115\": 12}, \"0\": {\"0\": 59, \"87\": 4, \"7\": 6, \"15\": 1, \"126\": 1, \"69\": 1, \"110\": 3, \"12\": 2, \"94\": 1, \"10\": 1, \"122\": 1, \"8\": 3, \"36\": 1}, \"104\": {\"104\": 16}, \"61\": {\"61\": 7, \"81\": 1, \"128\": 4}, \"129\": {\"67\": 2, \"102\": 1, \"129\": 15, \"73\": 2, \"25\": 2, \"5\": 2, \"80\": 1, \"0\": 1, \"117\": 1, \"83\": 1}, \"122\": {\"122\": 33, \"23\": 1, \"126\": 4, \"97\": 1, \"70\": 3, \"108\": 2, \"109\": 1, \"93\": 7, \"43\": 4, \"7\": 7, \"11\": 3, \"105\": 2, \"24\": 1, \"84\": 2, \"8\": 4, \"36\": 1, \"88\": 1, \"96\": 1, \"10\": 1, \"0\": 2, \"30\": 1, \"87\": 3, \"39\": 2, \"62\": 1}, \"67\": {\"67\": 14, \"21\": 1, \"11\": 1}, \"128\": {\"34\": 2, \"128\": 12, \"72\": 3, \"85\": 2, \"98\": 1, \"7\": 1, \"26\": 1, \"51\": 1, \"16\": 1}, \"26\": {\"26\": 93, \"33\": 5, \"69\": 4, \"16\": 9, \"62\": 8, \"118\": 2, \"10\": 1, \"113\": 7, \"36\": 1, \"43\": 1, \"126\": 1, \"18\": 1, \"90\": 1}, \"117\": {\"13\": 1, \"117\": 106, \"63\": 2, \"121\": 1, \"128\": 2, \"120\": 1, \"116\": 2, \"102\": 6, \"114\": 2, \"106\": 1, \"3\": 1, \"26\": 2, \"67\": 1, \"42\": 1, \"81\": 1, \"2\": 1, \"113\": 3, \"16\": 1, \"33\": 1}, \"91\": {\"91\": 23, \"77\": 1, \"98\": 2, \"53\": 1, \"103\": 1}, \"12\": {\"12\": 80, \"110\": 4, \"15\": 2, \"70\": 2, \"101\": 10, \"108\": 3, \"0\": 2, \"106\": 1}, \"50\": {\"50\": 14, \"82\": 1, \"129\": 1}, \"99\": {\"99\": 24}, \"110\": {\"110\": 90, \"12\": 1, \"106\": 4, \"84\": 3, \"15\": 1, \"27\": 1, \"126\": 1, \"11\": 1, \"87\": 2}, \"43\": {\"43\": 54, \"87\": 12, \"10\": 3, \"126\": 9, \"24\": 4, \"108\": 5, \"122\": 4, \"93\": 4, \"8\": 5, \"36\": 2, \"27\": 2, \"88\": 1, \"11\": 7, \"7\": 1, \"70\": 2, \"39\": 1}, \"82\": {\"82\": 29, \"114\": 2, \"33\": 2, \"2\": 1, \"128\": 1, \"66\": 1}, \"1\": {\"1\": 68, \"40\": 8, \"101\": 3, \"99\": 1, \"105\": 3, \"14\": 2, \"84\": 3, \"18\": 1, \"3\": 2, \"11\": 1, \"39\": 1, \"126\": 1, \"114\": 2}, \"46\": {\"112\": 1, \"111\": 1, \"46\": 5, \"55\": 1, \"85\": 1, \"86\": 1, \"17\": 1, \"77\": 1}, \"16\": {\"16\": 70, \"69\": 5, \"113\": 9, \"11\": 1, \"70\": 1, \"9\": 1, \"26\": 13, \"62\": 4, \"3\": 1, \"118\": 1, \"109\": 1, \"87\": 1}, \"74\": {\"74\": 14, \"73\": 1, \"18\": 1}, \"32\": {\"32\": 23, \"49\": 2, \"53\": 1, \"101\": 1, \"51\": 2, \"9\": 1, \"91\": 1, \"89\": 1}, \"62\": {\"62\": 94, \"1\": 2, \"14\": 2, \"69\": 7, \"84\": 1, \"26\": 2, \"70\": 1, \"16\": 2, \"3\": 3, \"105\": 1, \"90\": 1, \"11\": 1, \"18\": 2, \"8\": 1}, \"27\": {\"27\": 52, \"70\": 2, \"126\": 4, \"24\": 4, \"30\": 5, \"0\": 1, \"43\": 1, \"88\": 4, \"94\": 4, \"93\": 4, \"15\": 1, \"110\": 1, \"23\": 2, \"122\": 1, \"87\": 1, \"21\": 1, \"108\": 2, \"12\": 2}, \"17\": {\"5\": 2, \"17\": 7, \"124\": 2, \"58\": 1, \"85\": 1, \"45\": 1, \"129\": 1, \"86\": 1}, \"36\": {\"36\": 104, \"94\": 5, \"30\": 2, \"15\": 7, \"8\": 4, \"27\": 2, \"93\": 2, \"88\": 3, \"106\": 1, \"126\": 2, \"10\": 1, \"39\": 1}, \"2\": {\"2\": 14, \"72\": 1, \"128\": 2, \"107\": 1, \"120\": 1, \"33\": 3, \"82\": 2, \"114\": 2, \"57\": 1, \"28\": 1, \"117\": 3, \"122\": 1}, \"70\": {\"70\": 103, \"109\": 11, \"126\": 2, \"108\": 3, \"10\": 8, \"93\": 1}, \"9\": {\"9\": 17, \"29\": 1, \"105\": 1, \"90\": 1, \"1\": 2, \"127\": 1, \"72\": 2, \"76\": 1, \"89\": 1, \"106\": 2, \"71\": 1, \"12\": 2}, \"114\": {\"114\": 103, \"40\": 14, \"107\": 5, \"105\": 1, \"8\": 1, \"1\": 2, \"72\": 2, \"100\": 1, \"83\": 1}, \"79\": {\"79\": 8, \"86\": 2, \"77\": 1, \"104\": 1}, \"56\": {\"107\": 2, \"56\": 8, \"127\": 1, \"92\": 1}, \"124\": {\"124\": 58, \"5\": 9, \"45\": 1, \"59\": 1, \"32\": 2, \"90\": 1, \"128\": 1, \"91\": 1, \"98\": 6, \"107\": 1, \"111\": 9, \"33\": 3, \"80\": 2, \"85\": 1, \"73\": 1, \"6\": 1, \"12\": 1, \"114\": 3}, \"84\": {\"84\": 98, \"11\": 2, \"9\": 1, \"27\": 1, \"87\": 1, \"40\": 2, \"43\": 1, \"105\": 7, \"110\": 3, \"7\": 2, \"3\": 4, \"106\": 6, \"1\": 3, \"14\": 1, \"126\": 1, \"93\": 1}, \"69\": {\"69\": 81, \"109\": 1, \"118\": 2, \"3\": 3, \"26\": 3, \"90\": 1, \"113\": 2, \"84\": 1, \"62\": 5, \"122\": 3, \"44\": 1, \"18\": 1, \"70\": 1, \"7\": 1, \"87\": 2}, \"58\": {\"58\": 10, \"91\": 1, \"86\": 1}, \"30\": {\"30\": 45, \"24\": 1, \"88\": 2, \"108\": 1, \"93\": 1, \"10\": 1, \"27\": 1}, \"55\": {\"55\": 5, \"5\": 4, \"46\": 1, \"68\": 2}, \"105\": {\"105\": 65, \"49\": 1, \"1\": 4, \"84\": 6, \"14\": 1, \"127\": 2, \"114\": 1, \"76\": 1, \"40\": 2, \"101\": 1}, \"63\": {\"63\": 14, \"117\": 1, \"13\": 1}, \"98\": {\"98\": 103, \"77\": 2, \"91\": 1, \"109\": 1, \"111\": 1}, \"116\": {\"116\": 19, \"121\": 1, \"5\": 2, \"90\": 1, \"102\": 1, \"21\": 1, \"120\": 2, \"82\": 1, \"2\": 2, \"129\": 1, \"17\": 1}}, \"W_3\": {\"76\": {\"90\": 5, \"66\": 2, \"120\": 1, \"76\": 4, \"69\": 1, \"67\": 1, \"26\": 1, \"114\": 1}, \"6\": {\"54\": 1, \"46\": 1, \"111\": 4, \"58\": 1, \"6\": 16, \"73\": 1, \"37\": 1, \"42\": 1, \"72\": 1, \"125\": 2, \"59\": 1, \"34\": 1, \"69\": 1}, \"108\": {\"108\": 66, \"70\": 5, \"30\": 2, \"8\": 3, \"23\": 1, \"24\": 2, \"87\": 3, \"36\": 4, \"10\": 14, \"11\": 4, \"27\": 1, \"0\": 1}, \"29\": {\"29\": 28, \"111\": 1, \"64\": 1, \"103\": 2}, \"83\": {\"83\": 21, \"98\": 2, \"7\": 1}, \"18\": {\"26\": 14, \"18\": 103, \"118\": 1, \"69\": 1, \"88\": 1, \"78\": 1, \"61\": 1, \"33\": 2, \"84\": 1, \"109\": 1, \"93\": 2}, \"54\": {\"54\": 16}, \"15\": {\"15\": 67, \"94\": 11, \"27\": 2, \"36\": 3, \"7\": 1, \"106\": 1, \"12\": 2, \"30\": 3, \"0\": 3, \"108\": 1, \"101\": 3, \"24\": 1, \"8\": 5, \"110\": 1}, \"100\": {\"100\": 10, \"3\": 1, \"53\": 1, \"44\": 1, \"107\": 2, \"57\": 1}, \"90\": {\"29\": 2, \"90\": 122, \"99\": 1, \"86\": 2, \"44\": 1, \"1\": 1, \"114\": 2, \"20\": 1, \"32\": 1, \"33\": 1, \"107\": 2}, \"26\": {\"26\": 88, \"16\": 3, \"18\": 11, \"84\": 7, \"33\": 4, \"69\": 6, \"70\": 1, \"14\": 1, \"88\": 1, \"109\": 1, \"90\": 1, \"93\": 2, \"87\": 1, \"126\": 1, \"62\": 3, \"30\": 1}, \"115\": {\"115\": 9, \"100\": 1, \"29\": 1, \"68\": 2, \"104\": 2, \"86\": 1}, \"94\": {\"94\": 54, \"15\": 8, \"0\": 3, \"24\": 2, \"27\": 2, \"49\": 1, \"30\": 1, \"36\": 4, \"8\": 3, \"70\": 1, \"108\": 1, \"101\": 1, \"106\": 2, \"44\": 1}, \"46\": {\"46\": 9, \"9\": 2, \"83\": 1, \"103\": 1, \"53\": 2, \"35\": 1}, \"121\": {\"121\": 21, \"50\": 1, \"82\": 1, \"38\": 2, \"61\": 1, \"2\": 1, \"69\": 1, \"62\": 1, \"18\": 1, \"81\": 2}, \"109\": {\"108\": 2, \"109\": 62, \"118\": 13, \"21\": 2, \"87\": 10, \"113\": 6, \"70\": 3, \"43\": 5, \"126\": 5, \"8\": 1, \"39\": 5, \"88\": 7, \"27\": 1, \"11\": 5, \"110\": 1}, \"101\": {\"101\": 34, \"7\": 4, \"0\": 2, \"36\": 1, \"12\": 2, \"98\": 1, \"3\": 1, \"34\": 1, \"97\": 1, \"94\": 1, \"87\": 2, \"15\": 2}, \"99\": {\"99\": 33, \"8\": 1, \"83\": 1, \"23\": 1}, \"8\": {\"8\": 61, \"122\": 1, \"7\": 4, \"12\": 3, \"36\": 5, \"23\": 1, \"10\": 4, \"30\": 8, \"15\": 3, \"0\": 18, \"94\": 6, \"27\": 3, \"88\": 1, \"110\": 2, \"11\": 1, \"87\": 4, \"106\": 1, \"109\": 1, \"108\": 1}, \"102\": {\"89\": 2, \"102\": 86, \"123\": 1, \"5\": 5, \"107\": 1, \"117\": 6, \"90\": 1, \"82\": 2}, \"122\": {\"36\": 1, \"8\": 1, \"20\": 1, \"87\": 2, \"88\": 2, \"11\": 2, \"110\": 2, \"122\": 35, \"43\": 3, \"30\": 5, \"10\": 2, \"27\": 1, \"3\": 1, \"23\": 1, \"108\": 1}, \"36\": {\"36\": 83, \"108\": 9, \"27\": 5, \"0\": 8, \"30\": 3, \"8\": 1, \"10\": 4, \"24\": 1, \"70\": 1, \"124\": 1}, \"113\": {\"62\": 2, \"113\": 62, \"87\": 3, \"21\": 1, \"60\": 1, \"88\": 2, \"126\": 6, \"109\": 7, \"11\": 6, \"10\": 3, \"93\": 14, \"27\": 2, \"118\": 7, \"70\": 1, \"39\": 1, \"26\": 1, \"16\": 1}, \"123\": {\"102\": 1, \"120\": 1, \"123\": 14}, \"120\": {\"120\": 14, \"18\": 1, \"53\": 1, \"64\": 1, \"121\": 2, \"92\": 1}, \"125\": {\"125\": 80, \"85\": 2, \"111\": 7, \"6\": 1, \"86\": 1, \"5\": 1, \"4\": 3, \"124\": 10, \"103\": 1, \"56\": 1, \"32\": 1}, \"89\": {\"89\": 13, \"76\": 1, \"116\": 2, \"69\": 1, \"18\": 1, \"33\": 1, \"127\": 1, \"123\": 1, \"102\": 2, \"44\": 2, \"53\": 1, \"92\": 1, \"107\": 1}, \"9\": {\"9\": 24, \"40\": 1, \"95\": 1, \"24\": 1, \"28\": 1, \"90\": 1, \"105\": 1, \"5\": 1, \"107\": 1}, \"31\": {\"31\": 18, \"38\": 1, \"53\": 1}, \"62\": {\"62\": 69, \"78\": 1, \"40\": 1, \"118\": 1, \"26\": 4, \"84\": 21, \"93\": 1, \"14\": 4, \"113\": 1, \"16\": 2, \"108\": 1, \"96\": 1, \"87\": 1, \"69\": 1, \"60\": 1, \"27\": 1, \"109\": 1, \"88\": 1, \"12\": 1}, \"49\": {\"49\": 18, \"101\": 2, \"8\": 1, \"12\": 1, \"94\": 1, \"6\": 1}, \"23\": {\"23\": 14, \"49\": 2, \"30\": 1, \"34\": 1, \"0\": 1, \"113\": 1, \"8\": 2, \"18\": 1, \"36\": 2, \"109\": 1, \"69\": 2, \"122\": 3, \"60\": 1}, \"55\": {\"55\": 14, \"76\": 1, \"19\": 1}, \"128\": {\"128\": 13, \"28\": 1, \"74\": 1, \"44\": 2, \"9\": 4, \"71\": 2, \"107\": 1, \"1\": 1, \"65\": 1, \"24\": 1, \"53\": 1, \"40\": 1, \"92\": 1, \"19\": 1, \"99\": 1}, \"71\": {\"127\": 6, \"71\": 55, \"124\": 1, \"105\": 3, \"114\": 2, \"3\": 1}, \"51\": {\"49\": 2, \"51\": 12, \"7\": 1, \"15\": 1}, \"7\": {\"7\": 86, \"10\": 1, \"94\": 2, \"101\": 2, \"106\": 3, \"15\": 4, \"12\": 2, \"0\": 3, \"97\": 2, \"49\": 1}, \"117\": {\"117\": 72, \"2\": 2, \"102\": 10, \"26\": 2, \"69\": 1, \"44\": 2, \"90\": 1, \"107\": 1, \"113\": 1, \"18\": 2, \"16\": 1, \"89\": 1, \"129\": 2, \"33\": 1, \"81\": 2, \"32\": 1, \"126\": 1, \"14\": 1}, \"28\": {\"28\": 14, \"66\": 1, \"90\": 1}, \"127\": {\"71\": 5, \"127\": 108, \"3\": 4, \"30\": 1, \"105\": 3, \"7\": 1, \"0\": 1, \"88\": 1, \"40\": 1, \"23\": 1, \"118\": 1, \"1\": 1}, \"57\": {\"57\": 16, \"29\": 1, \"112\": 1, \"31\": 1, \"46\": 1}, \"78\": {\"78\": 13, \"11\": 1, \"51\": 1, \"21\": 1}, \"87\": {\"87\": 68, \"96\": 2, \"10\": 7, \"30\": 1, \"113\": 1, \"11\": 7, \"110\": 10, \"88\": 2, \"93\": 2, \"109\": 4, \"118\": 1, \"108\": 3, \"126\": 3, \"27\": 2, \"78\": 1, \"70\": 1, \"21\": 1, \"8\": 3, \"39\": 1}, \"40\": {\"40\": 59, \"105\": 13, \"44\": 1, \"62\": 2, \"32\": 1, \"23\": 2, \"60\": 1, \"107\": 10, \"14\": 7, \"16\": 5, \"1\": 9, \"8\": 2, \"127\": 2, \"26\": 1, \"34\": 1, \"49\": 1, \"71\": 1, \"7\": 2, \"33\": 3, \"114\": 5}, \"81\": {\"81\": 25, \"84\": 1, \"61\": 1, \"92\": 1, \"120\": 1, \"69\": 1, \"26\": 2}, \"2\": {\"2\": 18, \"90\": 1, \"117\": 1, \"67\": 1, \"86\": 1, \"119\": 2, \"45\": 1, \"54\": 1, \"121\": 1, \"62\": 1}, \"58\": {\"58\": 14, \"65\": 1, \"1\": 1}, \"68\": {\"68\": 9, \"103\": 1, \"85\": 1, \"108\": 1, \"111\": 2, \"41\": 2}, \"20\": {\"99\": 5, \"35\": 2, \"20\": 4, \"31\": 2, \"60\": 1, \"103\": 1, \"1\": 1}, \"35\": {\"35\": 10, \"40\": 1, \"105\": 1}, \"96\": {\"96\": 12, \"10\": 1, \"78\": 1, \"122\": 1, \"16\": 1, \"11\": 1, \"87\": 1, \"113\": 1, \"43\": 1}, \"84\": {\"84\": 86, \"93\": 7, \"62\": 10, \"10\": 1, \"16\": 1, \"49\": 1, \"109\": 1, \"44\": 1}, \"13\": {\"88\": 2, \"13\": 6, \"61\": 1, \"123\": 1, \"63\": 1, \"80\": 1, \"81\": 1, \"119\": 1, \"24\": 1, \"21\": 1}, \"64\": {\"64\": 18, \"18\": 1, \"31\": 1}, \"112\": {\"112\": 9, \"57\": 3, \"47\": 1, \"42\": 1, \"95\": 1, \"66\": 1}, \"103\": {\"103\": 14, \"19\": 2}, \"65\": {\"65\": 10, \"63\": 1, \"24\": 1}, \"118\": {\"118\": 44, \"16\": 3, \"21\": 1, \"11\": 10, \"109\": 6, \"96\": 2, \"108\": 1, \"39\": 8, \"126\": 7, \"113\": 5, \"87\": 5, \"93\": 1, \"88\": 1, \"27\": 1, \"40\": 1, \"110\": 2, \"43\": 2}, \"88\": {\"88\": 96, \"21\": 5, \"70\": 8, \"124\": 1, \"10\": 1, \"114\": 1}, \"85\": {\"85\": 27, \"19\": 4, \"124\": 1, \"95\": 1, \"5\": 2, \"128\": 1}, \"5\": {\"5\": 100, \"73\": 1, \"21\": 1, \"124\": 3, \"87\": 1, \"72\": 1, \"129\": 1, \"88\": 1, \"107\": 2, \"111\": 1}, \"93\": {\"93\": 88, \"0\": 1, \"16\": 8, \"113\": 9, \"110\": 2, \"126\": 1, \"62\": 8, \"8\": 4, \"88\": 1, \"108\": 1, \"84\": 2, \"109\": 1, \"27\": 1, \"11\": 3, \"96\": 1, \"118\": 2, \"15\": 1, \"87\": 2, \"90\": 1, \"14\": 1}, \"43\": {\"10\": 4, \"43\": 20, \"39\": 6, \"113\": 2, \"27\": 1, \"88\": 1, \"7\": 1, \"109\": 8, \"70\": 3, \"21\": 2, \"93\": 1, \"96\": 1, \"87\": 2, \"16\": 1, \"108\": 1, \"11\": 1, \"126\": 1}, \"67\": {\"67\": 14, \"76\": 1, \"43\": 1}, \"48\": {\"48\": 5, \"82\": 1, \"124\": 2, \"37\": 3, \"63\": 1, \"58\": 1, \"90\": 1, \"59\": 2}, \"73\": {\"73\": 29, \"58\": 2, \"75\": 1, \"92\": 1, \"98\": 2, \"1\": 1, \"103\": 2, \"114\": 1, \"90\": 1}, \"34\": {\"105\": 1, \"34\": 10, \"20\": 1, \"25\": 1, \"72\": 3, \"107\": 1, \"83\": 1, \"84\": 1, \"71\": 1, \"9\": 1, \"90\": 1, \"88\": 1, \"95\": 1, \"53\": 1, \"52\": 1, \"54\": 4, \"29\": 1, \"40\": 1}, \"91\": {\"112\": 1, \"73\": 1, \"91\": 13, \"85\": 1, \"19\": 2, \"34\": 1, \"8\": 1, \"65\": 1, \"56\": 1, \"25\": 1, \"71\": 1}, \"105\": {\"105\": 81, \"38\": 2, \"40\": 12, \"71\": 2, \"1\": 9, \"8\": 1, \"3\": 1, \"114\": 11, \"56\": 1, \"12\": 1, \"72\": 1, \"127\": 1, \"107\": 1}, \"10\": {\"10\": 73, \"30\": 2, \"70\": 5, \"108\": 16, \"24\": 3, \"0\": 1, \"88\": 2, \"27\": 2, \"36\": 1, \"110\": 1}, \"61\": {\"120\": 1, \"61\": 10, \"45\": 1, \"117\": 1, \"121\": 2, \"31\": 1}, \"74\": {\"74\": 14, \"105\": 1, \"41\": 1}, \"4\": {\"4\": 74, \"37\": 1, \"104\": 1, \"124\": 2, \"111\": 5, \"125\": 5, \"40\": 1, \"5\": 2, \"17\": 1, \"52\": 1, \"6\": 1, \"88\": 1, \"98\": 1}, \"37\": {\"19\": 1, \"37\": 13, \"52\": 1, \"124\": 1}, \"19\": {\"19\": 23, \"74\": 1, \"103\": 1, \"66\": 1, \"44\": 1, \"9\": 1, \"90\": 1, \"20\": 1, \"32\": 1, \"29\": 1}, \"44\": {\"44\": 59, \"53\": 1, \"14\": 2, \"27\": 1, \"1\": 3, \"122\": 2, \"7\": 1, \"40\": 1, \"110\": 1, \"90\": 1}, \"52\": {\"52\": 12, \"25\": 2, \"54\": 1, \"114\": 1}, \"92\": {\"92\": 30, \"128\": 1, \"69\": 1}, \"33\": {\"33\": 115, \"84\": 1, \"14\": 3, \"69\": 5, \"40\": 1, \"62\": 1, \"107\": 2}, \"45\": {\"90\": 1, \"129\": 1, \"45\": 12, \"82\": 2}, \"11\": {\"10\": 7, \"11\": 73, \"109\": 10, \"108\": 3, \"122\": 2, \"39\": 4, \"21\": 2, \"87\": 6, \"88\": 3, \"70\": 2, \"118\": 4, \"43\": 4, \"96\": 1, \"36\": 1, \"110\": 2, \"126\": 3, \"8\": 1}, \"129\": {\"20\": 1, \"129\": 20, \"104\": 3, \"48\": 1, \"4\": 1, \"42\": 2, \"19\": 2, \"5\": 2}, \"116\": {\"61\": 1, \"41\": 1, \"116\": 15, \"50\": 1, \"38\": 2, \"17\": 1, \"119\": 1, \"66\": 1, \"22\": 1, \"117\": 1, \"76\": 1, \"89\": 1, \"129\": 1}, \"75\": {\"72\": 1, \"12\": 1, \"75\": 13, \"99\": 1}, \"41\": {\"9\": 1, \"41\": 6, \"56\": 1, \"112\": 2, \"77\": 2, \"124\": 1, \"42\": 1, \"68\": 1, \"25\": 1}, \"21\": {\"21\": 44, \"88\": 2, \"108\": 1, \"86\": 1}, \"69\": {\"69\": 69, \"88\": 2, \"33\": 8, \"56\": 1, \"14\": 1, \"18\": 1, \"1\": 1, \"122\": 1}, \"16\": {\"16\": 63, \"88\": 1, \"3\": 1, \"118\": 7, \"62\": 8, \"87\": 1, \"93\": 6, \"113\": 1, \"84\": 7, \"96\": 1, \"97\": 1, \"90\": 1, \"109\": 2, \"14\": 3, \"21\": 1, \"43\": 1, \"11\": 1, \"26\": 1, \"36\": 1}, \"25\": {\"25\": 11, \"72\": 1, \"58\": 2, \"37\": 1, \"98\": 1}, \"12\": {\"12\": 58, \"94\": 2, \"71\": 1, \"7\": 12, \"0\": 5, \"15\": 5, \"36\": 2, \"106\": 9, \"101\": 1, \"27\": 1, \"1\": 1, \"16\": 1, \"60\": 1, \"49\": 1, \"97\": 2, \"108\": 1, \"88\": 1}, \"72\": {\"75\": 1, \"12\": 1, \"72\": 25, \"56\": 1}, \"0\": {\"0\": 81, \"30\": 7, \"60\": 1, \"94\": 2, \"24\": 1, \"8\": 9, \"10\": 3, \"108\": 4, \"27\": 4, \"15\": 2, \"110\": 1, \"36\": 1}, \"50\": {\"5\": 1, \"50\": 8, \"9\": 1, \"129\": 1, \"104\": 1, \"103\": 1, \"100\": 1, \"82\": 2}, \"107\": {\"19\": 1, \"107\": 102, \"84\": 1, \"14\": 2, \"40\": 12, \"127\": 1, \"1\": 2, \"16\": 1, \"105\": 6, \"114\": 5, \"62\": 1, \"33\": 3, \"69\": 1, \"93\": 2}, \"124\": {\"5\": 10, \"124\": 77, \"111\": 9, \"41\": 1, \"54\": 1, \"98\": 4, \"91\": 2, \"128\": 1, \"29\": 1, \"4\": 1, \"125\": 6, \"77\": 2, \"104\": 1, \"23\": 1, \"26\": 1, \"129\": 1, \"114\": 2, \"16\": 1, \"105\": 2}, \"53\": {\"53\": 11, \"56\": 1, \"1\": 2, \"99\": 1, \"60\": 1, \"88\": 1, \"34\": 1, \"95\": 1, \"40\": 1}, \"66\": {\"124\": 1, \"66\": 9, \"116\": 2, \"19\": 1, \"85\": 1, \"57\": 1, \"112\": 1}, \"47\": {\"47\": 8, \"105\": 1, \"99\": 1, \"30\": 1, \"15\": 1}, \"24\": {\"24\": 40, \"10\": 2, \"27\": 1, \"36\": 2, \"49\": 2, \"39\": 1}, \"95\": {\"9\": 2, \"70\": 1, \"95\": 26, \"101\": 1, \"44\": 1, \"107\": 1}, \"98\": {\"98\": 101, \"99\": 2, \"44\": 1, \"51\": 1, \"33\": 1}, \"63\": {\"63\": 14, \"123\": 1, \"2\": 1}, \"3\": {\"71\": 5, \"3\": 70, \"105\": 1, \"1\": 4, \"44\": 2, \"70\": 1, \"122\": 1, \"127\": 17, \"108\": 1, \"40\": 1, \"0\": 2, \"106\": 1, \"114\": 1, \"109\": 1, \"101\": 2, \"7\": 1, \"93\": 1, \"94\": 1, \"12\": 1, \"8\": 1, \"11\": 1}, \"14\": {\"14\": 61, \"69\": 2, \"16\": 2, \"40\": 2, \"62\": 4, \"84\": 3, \"118\": 1, \"93\": 2, \"105\": 1, \"26\": 1, \"33\": 1}, \"1\": {\"105\": 8, \"38\": 1, \"1\": 64, \"3\": 3, \"71\": 1, \"44\": 1, \"127\": 7, \"40\": 6, \"107\": 2, \"8\": 2, \"109\": 1, \"114\": 7, \"60\": 1, \"7\": 1, \"12\": 1, \"0\": 1, \"118\": 1}, \"38\": {\"38\": 10, \"107\": 2, \"129\": 1, \"44\": 1, \"7\": 1, \"34\": 1}, \"110\": {\"110\": 46, \"11\": 1, \"88\": 2, \"12\": 2, \"36\": 2, \"23\": 1, \"24\": 1, \"0\": 2, \"30\": 2, \"122\": 4, \"87\": 7, \"7\": 1, \"27\": 1, \"109\": 1, \"8\": 2, \"108\": 6, \"10\": 3, \"43\": 1, \"70\": 1, \"60\": 2, \"39\": 1, \"98\": 1, \"118\": 2}, \"17\": {\"11\": 1, \"17\": 5, \"81\": 1, \"129\": 2, \"111\": 1, \"45\": 1, \"41\": 2, \"79\": 1, \"124\": 1, \"120\": 1}, \"30\": {\"30\": 56, \"27\": 7, \"10\": 1, \"24\": 4, \"0\": 5, \"8\": 3, \"107\": 1, \"108\": 1, \"7\": 1, \"36\": 2, \"122\": 1, \"110\": 1, \"15\": 1}, \"56\": {\"52\": 1, \"25\": 1, \"57\": 2, \"54\": 1, \"56\": 5, \"95\": 1, \"28\": 1}, \"27\": {\"10\": 4, \"27\": 62, \"70\": 3, \"36\": 16, \"30\": 2, \"108\": 3, \"11\": 1, \"24\": 3, \"0\": 1, \"39\": 1}, \"104\": {\"104\": 14, \"129\": 1, \"68\": 1}, \"97\": {\"97\": 13, \"49\": 2, \"94\": 1, \"47\": 1, \"7\": 2, \"12\": 1}, \"42\": {\"42\": 17, \"56\": 1, \"25\": 1, \"21\": 1, \"95\": 2, \"129\": 1, \"34\": 1, \"112\": 1, \"58\": 1, \"57\": 1, \"98\": 1}, \"39\": {\"39\": 64, \"21\": 4, \"126\": 9, \"88\": 4, \"10\": 3, \"70\": 5, \"118\": 3, \"109\": 7, \"87\": 1, \"11\": 4, \"24\": 2, \"113\": 2}, \"70\": {\"70\": 60, \"27\": 1, \"10\": 1, \"88\": 8, \"36\": 1, \"21\": 1}, \"86\": {\"55\": 1, \"52\": 1, \"124\": 3, \"86\": 17, \"91\": 2, \"5\": 2, \"111\": 2}, \"119\": {\"119\": 12, \"102\": 1, \"123\": 1, \"48\": 1, \"45\": 1}, \"77\": {\"77\": 16}, \"59\": {\"59\": 11, \"37\": 1}, \"22\": {\"22\": 9, \"103\": 1, \"45\": 2, \"129\": 1, \"100\": 1, \"48\": 2}, \"79\": {\"79\": 10, \"86\": 1, \"17\": 1}, \"80\": {\"80\": 16}, \"111\": {\"111\": 112, \"112\": 1, \"49\": 1, \"85\": 3, \"6\": 1, \"98\": 1, \"86\": 1, \"128\": 1, \"40\": 1, \"114\": 1, \"124\": 2, \"68\": 1, \"37\": 1, \"5\": 2, \"44\": 1, \"125\": 1, \"105\": 1}, \"82\": {\"82\": 28}, \"126\": {\"126\": 67, \"109\": 10, \"118\": 6, \"39\": 9, \"21\": 3, \"43\": 4, \"113\": 9, \"70\": 2, \"11\": 6, \"87\": 3, \"121\": 1, \"88\": 3, \"110\": 1}, \"32\": {\"33\": 2, \"69\": 1, \"32\": 22, \"40\": 1, \"98\": 2, \"19\": 1, \"38\": 1, \"107\": 1, \"94\": 1}, \"106\": {\"106\": 67, \"70\": 1, \"8\": 4, \"15\": 12, \"12\": 6, \"7\": 3, \"94\": 1, \"27\": 1, \"0\": 3, \"88\": 1, \"3\": 1}, \"60\": {\"60\": 12, \"78\": 1, \"30\": 1, \"122\": 1, \"93\": 2, \"43\": 1, \"118\": 2, \"110\": 1, \"7\": 1, \"36\": 1, \"70\": 4, \"8\": 1}, \"114\": {\"114\": 65, \"1\": 7, \"127\": 4, \"105\": 19, \"8\": 1, \"0\": 1, \"3\": 3, \"40\": 2, \"56\": 1, \"83\": 1, \"71\": 1, \"44\": 1, \"12\": 1, \"39\": 1}}}, \"per_domain_accuracy\": {\"O_8\": {\"accuracy\": 0.9140625, \"source?\": true}, \"O_38\": {\"accuracy\": 0.9395833333333333, \"source?\": true}, \"O_26\": {\"accuracy\": 0.85390625, \"source?\": true}, \"O_20\": {\"accuracy\": 0.9104166666666667, \"source?\": true}, \"O_50\": {\"accuracy\": 0.9502604166666667, \"source?\": true}, \"O_32\": {\"accuracy\": 0.9247395833333333, \"source?\": true}, \"O_44\": {\"accuracy\": 0.8869791666666667, \"source?\": true}, \"O_14\": {\"accuracy\": 0.9, \"source?\": true}, \"C_2\": {\"accuracy\": 0.8856534090909091, \"source?\": false}, \"W_2\": {\"accuracy\": 0.6773897058823529, \"source?\": false}, \"C_5\": {\"accuracy\": 0.8857092696629213, \"source?\": false}, \"C_1\": {\"accuracy\": 0.9065934065934066, \"source?\": false}, \"C_4\": {\"accuracy\": 0.9013847305389222, \"source?\": false}, \"W_4\": {\"accuracy\": 0.6328446502057613, \"source?\": false}, \"C_3\": {\"accuracy\": 0.8923611111111112, \"source?\": false}, \"W_1\": {\"accuracy\": 0.7095744680851064, \"source?\": false}, \"W_3\": {\"accuracy\": 0.6836453744493393, \"source?\": false}}}, \"history\": {\"epoch_indices\": [1, 2, 3, 4, 5, 6, 7, 8, 9, 10], \"train_label_loss\": [0.4803039982277412, 1.6710370270646222, 0.3437114057679927, 0.5929281527933199, 0.32491433053454827, 0.27573800567936685, 0.24845152328932835, 0.22848679568290078, 0.21480236305949454, 0.20113971323201743], \"source_val_label_loss\": [147.59779357910156, 0.5934680104255676, 0.3305334150791168, 0.31282761693000793, 0.3013400733470917, 0.2593686580657959, 0.25158804655075073, 0.243186816573143, 0.2081756442785263, 0.21861815452575684], \"target_val_label_loss\": [11830.4375, 5538.8330078125, 5207.3271484375, 5393.50244140625, 125.27580261230469, 67.10274505615234, 74.4222640991211, 130.3779754638672, 101.55757904052734, 114.1159896850586], \"source_val_acc_label\": [0.57880859375, 0.8142252604166667, 0.8905598958333333, 0.9004231770833333, 0.8962239583333333, 0.9099934895833334, 0.9112955729166666, 0.9117838541666666, 0.92626953125, 0.9231119791666667], \"target_val_acc_label\": [0.5788387451843698, 0.3495631535498074, 0.3901176389653275, 0.40583723170060537, 0.7262830214639515, 0.7807340396257567, 0.777827462850853, 0.7039075399009356, 0.7418994221243809, 0.7326809301045679]}, \"dataset_metrics\": {\"source\": {\"train\": {\"n_unique_x\": 179200, \"n_unique_y\": 16, \"n_batch/episode\": 6720}, \"val\": {\"n_unique_x\": 38400, \"n_unique_y\": 16, \"n_batch/episode\": 960}, \"test\": {\"n_unique_x\": 38400, \"n_unique_y\": 16, \"n_batch/episode\": 960}}, \"target\": {\"train\": {\"n_unique_x\": 364101, \"n_unique_y\": 130, \"n_batch/episode\": 13150}, \"val\": {\"n_unique_x\": 77154, \"n_unique_y\": 130, \"n_batch/episode\": 1817}, \"test\": {\"n_unique_x\": 78411, \"n_unique_y\": 130, \"n_batch/episode\": 1853}}}}'"
      ]
     },
     "execution_count": 29,
     "metadata": {},
     "output_type": "execute_result"
    }
   ],
   "source": [
    "json.dumps(experiment)"
   ]
  }
 ],
 "metadata": {
  "celltoolbar": "Tags",
  "kernelspec": {
   "display_name": "Python 3 (ipykernel)",
   "language": "python",
   "name": "python3"
  },
  "language_info": {
   "codemirror_mode": {
    "name": "ipython",
    "version": 3
   },
   "file_extension": ".py",
   "mimetype": "text/x-python",
   "name": "python",
   "nbconvert_exporter": "python",
   "pygments_lexer": "ipython3",
   "version": "3.8.10"
  },
  "papermill": {
   "default_parameters": {},
   "duration": 1863.765202,
   "end_time": "2022-03-21T01:52:06.187020",
   "environment_variables": {},
   "exception": null,
   "input_path": "/mnt/wd500GB/CSC500/csc500-main/csc500-notebooks/templates/tl_ptn_template.ipynb",
   "output_path": "trial.ipynb",
   "parameters": {
    "parameters": {
     "BEST_MODEL_PATH": "./best_model.pth",
     "NUM_LOGS_PER_EPOCH": 10,
     "criteria_for_best": "target_accuracy",
     "dataset_seed": 154325,
     "datasets": [
      {
       "domain_prefix": "C_",
       "domains": [
        1,
        2,
        3,
        4,
        5
       ],
       "episode_transforms": [],
       "labels": [
        "1-10.",
        "1-11.",
        "1-15.",
        "1-16.",
        "1-17.",
        "1-18.",
        "1-19.",
        "10-4.",
        "10-7.",
        "11-1.",
        "11-14.",
        "11-17.",
        "11-20.",
        "11-7.",
        "13-20.",
        "13-8.",
        "14-10.",
        "14-11.",
        "14-14.",
        "14-7.",
        "15-1.",
        "15-20.",
        "16-1.",
        "16-16.",
        "17-10.",
        "17-11.",
        "17-2.",
        "19-1.",
        "19-16.",
        "19-19.",
        "19-20.",
        "19-3.",
        "2-10.",
        "2-11.",
        "2-17.",
        "2-18.",
        "2-20.",
        "2-3.",
        "2-4.",
        "2-5.",
        "2-6.",
        "2-7.",
        "2-8.",
        "3-13.",
        "3-18.",
        "3-3.",
        "4-1.",
        "4-10.",
        "4-11.",
        "4-19.",
        "5-5.",
        "6-15.",
        "7-10.",
        "7-14.",
        "8-18.",
        "8-20.",
        "8-3.",
        "8-8."
       ],
       "num_examples_per_domain_per_label": -1,
       "pickle_path": "/mnt/wd500GB/CSC500/csc500-main/datasets/cores.stratified_ds.2022A.pkl",
       "source_or_target_dataset": "target",
       "x_transforms": [
        "take_200"
       ]
      },
      {
       "domain_prefix": "W_",
       "domains": [
        1,
        2,
        3,
        4
       ],
       "episode_transforms": [],
       "labels": [
        "1-10",
        "1-12",
        "1-14",
        "1-16",
        "1-18",
        "1-19",
        "1-8",
        "10-11",
        "10-17",
        "10-4",
        "10-7",
        "11-1",
        "11-10",
        "11-19",
        "11-20",
        "11-4",
        "11-7",
        "12-19",
        "12-20",
        "12-7",
        "13-14",
        "13-18",
        "13-19",
        "13-20",
        "13-3",
        "13-7",
        "14-10",
        "14-11",
        "14-12",
        "14-13",
        "14-14",
        "14-19",
        "14-20",
        "14-7",
        "14-8",
        "14-9",
        "15-1",
        "15-19",
        "15-6",
        "16-1",
        "16-16",
        "16-19",
        "16-20",
        "17-10",
        "17-11",
        "18-1",
        "18-10",
        "18-11",
        "18-12",
        "18-13",
        "18-14",
        "18-15",
        "18-16",
        "18-17",
        "18-19",
        "18-2",
        "18-20",
        "18-4",
        "18-5",
        "18-7",
        "18-8",
        "18-9",
        "19-1",
        "19-10",
        "19-11",
        "19-12",
        "19-13",
        "19-14",
        "19-15",
        "19-19",
        "19-2",
        "19-20",
        "19-3",
        "19-4",
        "19-6",
        "19-7",
        "19-8",
        "19-9",
        "2-1",
        "2-13",
        "2-15",
        "2-3",
        "2-4",
        "2-5",
        "2-6",
        "2-7",
        "2-8",
        "20-1",
        "20-12",
        "20-14",
        "20-15",
        "20-16",
        "20-18",
        "20-19",
        "20-20",
        "20-3",
        "20-4",
        "20-5",
        "20-7",
        "20-8",
        "3-1",
        "3-13",
        "3-18",
        "3-2",
        "3-8",
        "4-1",
        "4-10",
        "4-11",
        "5-1",
        "5-5",
        "6-1",
        "6-15",
        "6-6",
        "7-10",
        "7-11",
        "7-12",
        "7-13",
        "7-14",
        "7-7",
        "7-8",
        "7-9",
        "8-1",
        "8-13",
        "8-14",
        "8-18",
        "8-20",
        "8-3",
        "8-8",
        "9-1",
        "9-7"
       ],
       "num_examples_per_domain_per_label": -1,
       "pickle_path": "/mnt/wd500GB/CSC500/csc500-main/datasets/wisig.node3-19.stratified_ds.2022A.pkl",
       "source_or_target_dataset": "target",
       "x_transforms": [
        "take_200"
       ]
      },
      {
       "domain_prefix": "O_",
       "domains": [
        32,
        38,
        8,
        44,
        14,
        50,
        20,
        26
       ],
       "episode_transforms": [],
       "labels": [
        "3123D52",
        "3123D65",
        "3123D79",
        "3123D80",
        "3123D54",
        "3123D70",
        "3123D7B",
        "3123D89",
        "3123D58",
        "3123D76",
        "3123D7D",
        "3123EFE",
        "3123D64",
        "3123D78",
        "3123D7E",
        "3124E4A"
       ],
       "num_examples_per_domain_per_label": 2000,
       "pickle_path": "/mnt/wd500GB/CSC500/csc500-main/datasets/oracle.Run1_framed_2000Examples_stratified_ds.2022A.pkl",
       "source_or_target_dataset": "source",
       "x_transforms": [
        "take_200",
        "resample_20Msps_to_25Msps"
       ]
      }
     ],
     "device": "cuda",
     "experiment_name": "tl_3Av2:oracle.run1.framed -> cores+wisig",
     "lr": 0.0001,
     "n_epoch": 50,
     "n_query": 2,
     "n_shot": 3,
     "n_way": 16,
     "patience": 3,
     "seed": 154325,
     "test_k_factor": 2,
     "torch_default_dtype": "torch.float32",
     "train_k_factor": 3,
     "val_k_factor": 2,
     "x_net": [
      {
       "class": "nnReshape",
       "kargs": {
        "shape": [
         -1,
         1,
         2,
         200
        ]
       }
      },
      {
       "class": "Conv2d",
       "kargs": {
        "bias": false,
        "in_channels": 1,
        "kernel_size": [
         1,
         7
        ],
        "out_channels": 256,
        "padding": [
         0,
         3
        ]
       }
      },
      {
       "class": "ReLU",
       "kargs": {
        "inplace": true
       }
      },
      {
       "class": "BatchNorm2d",
       "kargs": {
        "num_features": 256
       }
      },
      {
       "class": "Conv2d",
       "kargs": {
        "bias": true,
        "in_channels": 256,
        "kernel_size": [
         2,
         7
        ],
        "out_channels": 80,
        "padding": [
         0,
         3
        ]
       }
      },
      {
       "class": "ReLU",
       "kargs": {
        "inplace": true
       }
      },
      {
       "class": "BatchNorm2d",
       "kargs": {
        "num_features": 80
       }
      },
      {
       "class": "Flatten",
       "kargs": {}
      },
      {
       "class": "Linear",
       "kargs": {
        "in_features": 16000,
        "out_features": 256
       }
      },
      {
       "class": "ReLU",
       "kargs": {
        "inplace": true
       }
      },
      {
       "class": "BatchNorm1d",
       "kargs": {
        "num_features": 256
       }
      },
      {
       "class": "Linear",
       "kargs": {
        "in_features": 256,
        "out_features": 256
       }
      }
     ],
     "x_shape": [
      2,
      200
     ]
    }
   },
   "start_time": "2022-03-21T01:21:02.421818",
   "version": "2.3.4"
  }
 },
 "nbformat": 4,
 "nbformat_minor": 5
}