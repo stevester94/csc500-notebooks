{
 "cells": [
  {
   "cell_type": "markdown",
   "id": "9fea5f46",
   "metadata": {
    "papermill": {
     "duration": 0.017983,
     "end_time": "2022-03-25T11:04:37.646678",
     "exception": false,
     "start_time": "2022-03-25T11:04:37.628695",
     "status": "completed"
    },
    "tags": []
   },
   "source": [
    "# Transfer Learning Template"
   ]
  },
  {
   "cell_type": "code",
   "execution_count": 1,
   "id": "0902182a",
   "metadata": {
    "execution": {
     "iopub.execute_input": "2022-03-25T11:04:37.686314Z",
     "iopub.status.busy": "2022-03-25T11:04:37.685758Z",
     "iopub.status.idle": "2022-03-25T11:04:38.588766Z",
     "shell.execute_reply": "2022-03-25T11:04:38.588460Z"
    },
    "papermill": {
     "duration": 0.929333,
     "end_time": "2022-03-25T11:04:38.588838",
     "exception": false,
     "start_time": "2022-03-25T11:04:37.659505",
     "status": "completed"
    },
    "tags": []
   },
   "outputs": [],
   "source": [
    "%load_ext autoreload\n",
    "%autoreload 2\n",
    "%matplotlib inline\n",
    "\n",
    "    \n",
    "import os, json, sys, time, random\n",
    "import numpy as np\n",
    "import torch\n",
    "from torch.optim import Adam\n",
    "from  easydict import EasyDict\n",
    "import matplotlib.pyplot as plt\n",
    "\n",
    "from steves_models.steves_ptn import Steves_Prototypical_Network\n",
    "\n",
    "from steves_utils.lazy_iterable_wrapper import Lazy_Iterable_Wrapper\n",
    "from steves_utils.iterable_aggregator import Iterable_Aggregator\n",
    "from steves_utils.ptn_train_eval_test_jig import  PTN_Train_Eval_Test_Jig\n",
    "from steves_utils.torch_sequential_builder import build_sequential\n",
    "from steves_utils.torch_utils import get_dataset_metrics, ptn_confusion_by_domain_over_dataloader\n",
    "from steves_utils.utils_v2 import (per_domain_accuracy_from_confusion, get_datasets_base_path)\n",
    "from steves_utils.PTN.utils import independent_accuracy_assesment\n",
    "\n",
    "from torch.utils.data import DataLoader\n",
    "\n",
    "from steves_utils.stratified_dataset.episodic_accessor import Episodic_Accessor_Factory\n",
    "\n",
    "from steves_utils.ptn_do_report import (\n",
    "    get_loss_curve,\n",
    "    get_results_table,\n",
    "    get_parameters_table,\n",
    "    get_domain_accuracies,\n",
    ")\n",
    "\n",
    "from steves_utils.transforms import get_chained_transform"
   ]
  },
  {
   "cell_type": "markdown",
   "id": "41c840b4",
   "metadata": {
    "papermill": {
     "duration": 0.01246,
     "end_time": "2022-03-25T11:04:38.614443",
     "exception": false,
     "start_time": "2022-03-25T11:04:38.601983",
     "status": "completed"
    },
    "tags": []
   },
   "source": [
    "# Allowed Parameters\n",
    "These are allowed parameters, not defaults\n",
    "Each of these values need to be present in the injected parameters (the notebook will raise an exception if they are not present)\n",
    "\n",
    "Papermill uses the cell tag \"parameters\" to inject the real parameters below this cell.\n",
    "Enable tags to see what I mean"
   ]
  },
  {
   "cell_type": "code",
   "execution_count": 2,
   "id": "fd44eb83",
   "metadata": {
    "execution": {
     "iopub.execute_input": "2022-03-25T11:04:38.642089Z",
     "iopub.status.busy": "2022-03-25T11:04:38.641647Z",
     "iopub.status.idle": "2022-03-25T11:04:38.652921Z",
     "shell.execute_reply": "2022-03-25T11:04:38.652676Z"
    },
    "papermill": {
     "duration": 0.026052,
     "end_time": "2022-03-25T11:04:38.652978",
     "exception": false,
     "start_time": "2022-03-25T11:04:38.626926",
     "status": "completed"
    },
    "tags": []
   },
   "outputs": [],
   "source": [
    "required_parameters = {\n",
    "    \"experiment_name\",\n",
    "    \"lr\",\n",
    "    \"device\",\n",
    "    \"seed\",\n",
    "    \"dataset_seed\",\n",
    "    \"n_shot\",\n",
    "    \"n_query\",\n",
    "    \"n_way\",\n",
    "    \"train_k_factor\",\n",
    "    \"val_k_factor\",\n",
    "    \"test_k_factor\",\n",
    "    \"n_epoch\",\n",
    "    \"patience\",\n",
    "    \"criteria_for_best\",\n",
    "    \"x_net\",\n",
    "    \"datasets\",\n",
    "    \"torch_default_dtype\",\n",
    "    \"NUM_LOGS_PER_EPOCH\",\n",
    "    \"BEST_MODEL_PATH\",\n",
    "    \"x_shape\",\n",
    "}"
   ]
  },
  {
   "cell_type": "code",
   "execution_count": 3,
   "id": "fa3f0049",
   "metadata": {
    "execution": {
     "iopub.execute_input": "2022-03-25T11:04:38.684909Z",
     "iopub.status.busy": "2022-03-25T11:04:38.684451Z",
     "iopub.status.idle": "2022-03-25T11:04:38.697296Z",
     "shell.execute_reply": "2022-03-25T11:04:38.697016Z"
    },
    "papermill": {
     "duration": 0.031605,
     "end_time": "2022-03-25T11:04:38.697359",
     "exception": false,
     "start_time": "2022-03-25T11:04:38.665754",
     "status": "completed"
    },
    "tags": [
     "parameters"
    ]
   },
   "outputs": [],
   "source": [
    "from steves_utils.CORES.utils import (\n",
    "    ALL_NODES,\n",
    "    ALL_NODES_MINIMUM_1000_EXAMPLES,\n",
    "    ALL_DAYS\n",
    ")\n",
    "\n",
    "from steves_utils.ORACLE.utils_v2 import (\n",
    "    ALL_DISTANCES_FEET_NARROWED,\n",
    "    ALL_RUNS,\n",
    "    ALL_SERIAL_NUMBERS,\n",
    ")\n",
    "\n",
    "standalone_parameters = {}\n",
    "standalone_parameters[\"experiment_name\"] = \"STANDALONE PTN\"\n",
    "standalone_parameters[\"lr\"] = 0.001\n",
    "standalone_parameters[\"device\"] = \"cuda\"\n",
    "\n",
    "standalone_parameters[\"seed\"] = 1337\n",
    "standalone_parameters[\"dataset_seed\"] = 1337\n",
    "\n",
    "standalone_parameters[\"n_way\"] = 8\n",
    "standalone_parameters[\"n_shot\"] = 3\n",
    "standalone_parameters[\"n_query\"]  = 2\n",
    "standalone_parameters[\"train_k_factor\"] = 1\n",
    "standalone_parameters[\"val_k_factor\"] = 2\n",
    "standalone_parameters[\"test_k_factor\"] = 2\n",
    "\n",
    "\n",
    "standalone_parameters[\"n_epoch\"] = 50\n",
    "\n",
    "standalone_parameters[\"patience\"] = 10\n",
    "standalone_parameters[\"criteria_for_best\"] = \"source_loss\"\n",
    "\n",
    "standalone_parameters[\"datasets\"] = [\n",
    "    {\n",
    "        \"labels\": ALL_SERIAL_NUMBERS,\n",
    "        \"domains\": ALL_DISTANCES_FEET_NARROWED,\n",
    "        \"num_examples_per_domain_per_label\": 100,\n",
    "        \"pickle_path\": os.path.join(get_datasets_base_path(), \"oracle.Run1_framed_2000Examples_stratified_ds.2022A.pkl\"),\n",
    "        \"source_or_target_dataset\": \"source\",\n",
    "        \"x_transforms\": [\"unit_mag\", \"minus_two\"],\n",
    "        \"episode_transforms\": [],\n",
    "        \"domain_prefix\": \"ORACLE_\"\n",
    "    },\n",
    "    {\n",
    "        \"labels\": ALL_NODES,\n",
    "        \"domains\": ALL_DAYS,\n",
    "        \"num_examples_per_domain_per_label\": 100,\n",
    "        \"pickle_path\": os.path.join(get_datasets_base_path(), \"cores.stratified_ds.2022A.pkl\"),\n",
    "        \"source_or_target_dataset\": \"target\",\n",
    "        \"x_transforms\": [\"unit_power\", \"times_zero\"],\n",
    "        \"episode_transforms\": [],\n",
    "        \"domain_prefix\": \"CORES_\"\n",
    "    }   \n",
    "]\n",
    "\n",
    "standalone_parameters[\"torch_default_dtype\"] = \"torch.float32\" \n",
    "\n",
    "\n",
    "\n",
    "standalone_parameters[\"x_net\"] =     [\n",
    "    {\"class\": \"nnReshape\", \"kargs\": {\"shape\":[-1, 1, 2, 256]}},\n",
    "    {\"class\": \"Conv2d\", \"kargs\": { \"in_channels\":1, \"out_channels\":256, \"kernel_size\":(1,7), \"bias\":False, \"padding\":(0,3), },},\n",
    "    {\"class\": \"ReLU\", \"kargs\": {\"inplace\": True}},\n",
    "    {\"class\": \"BatchNorm2d\", \"kargs\": {\"num_features\":256}},\n",
    "\n",
    "    {\"class\": \"Conv2d\", \"kargs\": { \"in_channels\":256, \"out_channels\":80, \"kernel_size\":(2,7), \"bias\":True, \"padding\":(0,3), },},\n",
    "    {\"class\": \"ReLU\", \"kargs\": {\"inplace\": True}},\n",
    "    {\"class\": \"BatchNorm2d\", \"kargs\": {\"num_features\":80}},\n",
    "    {\"class\": \"Flatten\", \"kargs\": {}},\n",
    "\n",
    "    {\"class\": \"Linear\", \"kargs\": {\"in_features\": 80*256, \"out_features\": 256}}, # 80 units per IQ pair\n",
    "    {\"class\": \"ReLU\", \"kargs\": {\"inplace\": True}},\n",
    "    {\"class\": \"BatchNorm1d\", \"kargs\": {\"num_features\":256}},\n",
    "\n",
    "    {\"class\": \"Linear\", \"kargs\": {\"in_features\": 256, \"out_features\": 256}},\n",
    "]\n",
    "\n",
    "# Parameters relevant to results\n",
    "# These parameters will basically never need to change\n",
    "standalone_parameters[\"NUM_LOGS_PER_EPOCH\"] = 10\n",
    "standalone_parameters[\"BEST_MODEL_PATH\"] = \"./best_model.pth\"\n",
    "\n",
    "\n",
    "\n",
    "\n"
   ]
  },
  {
   "cell_type": "code",
   "execution_count": 4,
   "id": "7c187ab6",
   "metadata": {
    "execution": {
     "iopub.execute_input": "2022-03-25T11:04:38.729984Z",
     "iopub.status.busy": "2022-03-25T11:04:38.729513Z",
     "iopub.status.idle": "2022-03-25T11:04:38.743309Z",
     "shell.execute_reply": "2022-03-25T11:04:38.743066Z"
    },
    "papermill": {
     "duration": 0.03282,
     "end_time": "2022-03-25T11:04:38.743367",
     "exception": false,
     "start_time": "2022-03-25T11:04:38.710547",
     "status": "completed"
    },
    "tags": [
     "injected-parameters"
    ]
   },
   "outputs": [],
   "source": [
    "# Parameters\n",
    "parameters = {\n",
    "    \"experiment_name\": \"tl_3Av2:oracle.run1.framed -> cores\",\n",
    "    \"device\": \"cuda\",\n",
    "    \"lr\": 0.0001,\n",
    "    \"x_shape\": [2, 200],\n",
    "    \"n_shot\": 3,\n",
    "    \"n_query\": 2,\n",
    "    \"train_k_factor\": 3,\n",
    "    \"val_k_factor\": 2,\n",
    "    \"test_k_factor\": 2,\n",
    "    \"torch_default_dtype\": \"torch.float32\",\n",
    "    \"n_epoch\": 50,\n",
    "    \"patience\": 3,\n",
    "    \"criteria_for_best\": \"target_accuracy\",\n",
    "    \"x_net\": [\n",
    "        {\"class\": \"nnReshape\", \"kargs\": {\"shape\": [-1, 1, 2, 200]}},\n",
    "        {\n",
    "            \"class\": \"Conv2d\",\n",
    "            \"kargs\": {\n",
    "                \"in_channels\": 1,\n",
    "                \"out_channels\": 256,\n",
    "                \"kernel_size\": [1, 7],\n",
    "                \"bias\": False,\n",
    "                \"padding\": [0, 3],\n",
    "            },\n",
    "        },\n",
    "        {\"class\": \"ReLU\", \"kargs\": {\"inplace\": True}},\n",
    "        {\"class\": \"BatchNorm2d\", \"kargs\": {\"num_features\": 256}},\n",
    "        {\n",
    "            \"class\": \"Conv2d\",\n",
    "            \"kargs\": {\n",
    "                \"in_channels\": 256,\n",
    "                \"out_channels\": 80,\n",
    "                \"kernel_size\": [2, 7],\n",
    "                \"bias\": True,\n",
    "                \"padding\": [0, 3],\n",
    "            },\n",
    "        },\n",
    "        {\"class\": \"ReLU\", \"kargs\": {\"inplace\": True}},\n",
    "        {\"class\": \"BatchNorm2d\", \"kargs\": {\"num_features\": 80}},\n",
    "        {\"class\": \"Flatten\", \"kargs\": {}},\n",
    "        {\"class\": \"Linear\", \"kargs\": {\"in_features\": 16000, \"out_features\": 256}},\n",
    "        {\"class\": \"ReLU\", \"kargs\": {\"inplace\": True}},\n",
    "        {\"class\": \"BatchNorm1d\", \"kargs\": {\"num_features\": 256}},\n",
    "        {\"class\": \"Linear\", \"kargs\": {\"in_features\": 256, \"out_features\": 256}},\n",
    "    ],\n",
    "    \"NUM_LOGS_PER_EPOCH\": 10,\n",
    "    \"BEST_MODEL_PATH\": \"./best_model.pth\",\n",
    "    \"n_way\": 16,\n",
    "    \"datasets\": [\n",
    "        {\n",
    "            \"labels\": [\n",
    "                \"1-10.\",\n",
    "                \"1-11.\",\n",
    "                \"1-15.\",\n",
    "                \"1-16.\",\n",
    "                \"1-17.\",\n",
    "                \"1-18.\",\n",
    "                \"1-19.\",\n",
    "                \"10-4.\",\n",
    "                \"10-7.\",\n",
    "                \"11-1.\",\n",
    "                \"11-14.\",\n",
    "                \"11-17.\",\n",
    "                \"11-20.\",\n",
    "                \"11-7.\",\n",
    "                \"13-20.\",\n",
    "                \"13-8.\",\n",
    "                \"14-10.\",\n",
    "                \"14-11.\",\n",
    "                \"14-14.\",\n",
    "                \"14-7.\",\n",
    "                \"15-1.\",\n",
    "                \"15-20.\",\n",
    "                \"16-1.\",\n",
    "                \"16-16.\",\n",
    "                \"17-10.\",\n",
    "                \"17-11.\",\n",
    "                \"17-2.\",\n",
    "                \"19-1.\",\n",
    "                \"19-16.\",\n",
    "                \"19-19.\",\n",
    "                \"19-20.\",\n",
    "                \"19-3.\",\n",
    "                \"2-10.\",\n",
    "                \"2-11.\",\n",
    "                \"2-17.\",\n",
    "                \"2-18.\",\n",
    "                \"2-20.\",\n",
    "                \"2-3.\",\n",
    "                \"2-4.\",\n",
    "                \"2-5.\",\n",
    "                \"2-6.\",\n",
    "                \"2-7.\",\n",
    "                \"2-8.\",\n",
    "                \"3-13.\",\n",
    "                \"3-18.\",\n",
    "                \"3-3.\",\n",
    "                \"4-1.\",\n",
    "                \"4-10.\",\n",
    "                \"4-11.\",\n",
    "                \"4-19.\",\n",
    "                \"5-5.\",\n",
    "                \"6-15.\",\n",
    "                \"7-10.\",\n",
    "                \"7-14.\",\n",
    "                \"8-18.\",\n",
    "                \"8-20.\",\n",
    "                \"8-3.\",\n",
    "                \"8-8.\",\n",
    "            ],\n",
    "            \"domains\": [1, 2, 3, 4, 5],\n",
    "            \"num_examples_per_domain_per_label\": -1,\n",
    "            \"pickle_path\": \"/mnt/wd500GB/CSC500/csc500-main/datasets/cores.stratified_ds.2022A.pkl\",\n",
    "            \"source_or_target_dataset\": \"target\",\n",
    "            \"x_transforms\": [\"unit_mag\", \"take_200\"],\n",
    "            \"episode_transforms\": [],\n",
    "            \"domain_prefix\": \"C_\",\n",
    "        },\n",
    "        {\n",
    "            \"labels\": [\n",
    "                \"3123D52\",\n",
    "                \"3123D65\",\n",
    "                \"3123D79\",\n",
    "                \"3123D80\",\n",
    "                \"3123D54\",\n",
    "                \"3123D70\",\n",
    "                \"3123D7B\",\n",
    "                \"3123D89\",\n",
    "                \"3123D58\",\n",
    "                \"3123D76\",\n",
    "                \"3123D7D\",\n",
    "                \"3123EFE\",\n",
    "                \"3123D64\",\n",
    "                \"3123D78\",\n",
    "                \"3123D7E\",\n",
    "                \"3124E4A\",\n",
    "            ],\n",
    "            \"domains\": [32, 38, 8, 44, 14, 50, 20, 26],\n",
    "            \"num_examples_per_domain_per_label\": 2000,\n",
    "            \"pickle_path\": \"/mnt/wd500GB/CSC500/csc500-main/datasets/oracle.Run1_framed_2000Examples_stratified_ds.2022A.pkl\",\n",
    "            \"source_or_target_dataset\": \"source\",\n",
    "            \"x_transforms\": [\"unit_mag\", \"take_200\", \"resample_20Msps_to_25Msps\"],\n",
    "            \"episode_transforms\": [],\n",
    "            \"domain_prefix\": \"O_\",\n",
    "        },\n",
    "    ],\n",
    "    \"seed\": 154325,\n",
    "    \"dataset_seed\": 154325,\n",
    "}\n"
   ]
  },
  {
   "cell_type": "code",
   "execution_count": 5,
   "id": "8fa1cc33",
   "metadata": {
    "execution": {
     "iopub.execute_input": "2022-03-25T11:04:38.772097Z",
     "iopub.status.busy": "2022-03-25T11:04:38.771707Z",
     "iopub.status.idle": "2022-03-25T11:04:38.783301Z",
     "shell.execute_reply": "2022-03-25T11:04:38.783073Z"
    },
    "papermill": {
     "duration": 0.027148,
     "end_time": "2022-03-25T11:04:38.783358",
     "exception": false,
     "start_time": "2022-03-25T11:04:38.756210",
     "status": "completed"
    },
    "tags": []
   },
   "outputs": [],
   "source": [
    "# Set this to True if you want to run this template directly\n",
    "STANDALONE = False\n",
    "if STANDALONE:\n",
    "    print(\"parameters not injected, running with standalone_parameters\")\n",
    "    parameters = standalone_parameters\n",
    "\n",
    "if not 'parameters' in locals() and not 'parameters' in globals():\n",
    "    raise Exception(\"Parameter injection failed\")\n",
    "\n",
    "#Use an easy dict for all the parameters\n",
    "p = EasyDict(parameters)\n",
    "\n",
    "if \"x_shape\" not in p:\n",
    "    p.x_shape = [2,256] # Default to this if we dont supply x_shape\n",
    "\n",
    "\n",
    "supplied_keys = set(p.keys())\n",
    "\n",
    "if  supplied_keys != required_parameters:\n",
    "    print(\"Parameters are incorrect\")\n",
    "    if len(supplied_keys - required_parameters)>0: print(\"Shouldn't have:\", str(supplied_keys - required_parameters))\n",
    "    if len(required_parameters - supplied_keys)>0: print(\"Need to have:\", str(required_parameters - supplied_keys))\n",
    "    raise RuntimeError(\"Parameters are incorrect\")"
   ]
  },
  {
   "cell_type": "code",
   "execution_count": 6,
   "id": "3a028d58",
   "metadata": {
    "execution": {
     "iopub.execute_input": "2022-03-25T11:04:38.815268Z",
     "iopub.status.busy": "2022-03-25T11:04:38.814865Z",
     "iopub.status.idle": "2022-03-25T11:04:38.827282Z",
     "shell.execute_reply": "2022-03-25T11:04:38.827011Z"
    },
    "papermill": {
     "duration": 0.027349,
     "end_time": "2022-03-25T11:04:38.827338",
     "exception": false,
     "start_time": "2022-03-25T11:04:38.799989",
     "status": "completed"
    },
    "tags": []
   },
   "outputs": [],
   "source": [
    "###################################\n",
    "# Set the RNGs and make it all deterministic\n",
    "###################################\n",
    "np.random.seed(p.seed)\n",
    "random.seed(p.seed)\n",
    "torch.manual_seed(p.seed)\n",
    "\n",
    "torch.use_deterministic_algorithms(True) "
   ]
  },
  {
   "cell_type": "code",
   "execution_count": 7,
   "id": "b691acf6",
   "metadata": {
    "execution": {
     "iopub.execute_input": "2022-03-25T11:04:38.857761Z",
     "iopub.status.busy": "2022-03-25T11:04:38.857356Z",
     "iopub.status.idle": "2022-03-25T11:04:38.868561Z",
     "shell.execute_reply": "2022-03-25T11:04:38.868290Z"
    },
    "papermill": {
     "duration": 0.025672,
     "end_time": "2022-03-25T11:04:38.868617",
     "exception": false,
     "start_time": "2022-03-25T11:04:38.842945",
     "status": "completed"
    },
    "tags": []
   },
   "outputs": [],
   "source": [
    "###########################################\n",
    "# The stratified datasets honor this\n",
    "###########################################\n",
    "torch.set_default_dtype(eval(p.torch_default_dtype))"
   ]
  },
  {
   "cell_type": "code",
   "execution_count": 8,
   "id": "b5fba671",
   "metadata": {
    "execution": {
     "iopub.execute_input": "2022-03-25T11:04:38.896671Z",
     "iopub.status.busy": "2022-03-25T11:04:38.896270Z",
     "iopub.status.idle": "2022-03-25T11:04:38.928936Z",
     "shell.execute_reply": "2022-03-25T11:04:38.928657Z"
    },
    "papermill": {
     "duration": 0.047368,
     "end_time": "2022-03-25T11:04:38.929000",
     "exception": false,
     "start_time": "2022-03-25T11:04:38.881632",
     "status": "completed"
    },
    "tags": []
   },
   "outputs": [],
   "source": [
    "###################################\n",
    "# Build the network(s)\n",
    "# Note: It's critical to do this AFTER setting the RNG\n",
    "###################################\n",
    "x_net = build_sequential(p.x_net)"
   ]
  },
  {
   "cell_type": "code",
   "execution_count": 9,
   "id": "5d7e61cc",
   "metadata": {
    "execution": {
     "iopub.execute_input": "2022-03-25T11:04:38.957870Z",
     "iopub.status.busy": "2022-03-25T11:04:38.957473Z",
     "iopub.status.idle": "2022-03-25T11:04:38.968933Z",
     "shell.execute_reply": "2022-03-25T11:04:38.968687Z"
    },
    "papermill": {
     "duration": 0.026491,
     "end_time": "2022-03-25T11:04:38.968989",
     "exception": false,
     "start_time": "2022-03-25T11:04:38.942498",
     "status": "completed"
    },
    "tags": []
   },
   "outputs": [],
   "source": [
    "start_time_secs = time.time()"
   ]
  },
  {
   "cell_type": "code",
   "execution_count": 10,
   "id": "c6b67dfd",
   "metadata": {
    "execution": {
     "iopub.execute_input": "2022-03-25T11:04:38.997717Z",
     "iopub.status.busy": "2022-03-25T11:04:38.997227Z",
     "iopub.status.idle": "2022-03-25T11:04:39.008476Z",
     "shell.execute_reply": "2022-03-25T11:04:39.008203Z"
    },
    "papermill": {
     "duration": 0.026317,
     "end_time": "2022-03-25T11:04:39.008532",
     "exception": false,
     "start_time": "2022-03-25T11:04:38.982215",
     "status": "completed"
    },
    "tags": []
   },
   "outputs": [],
   "source": [
    "p.domains_source = []\n",
    "p.domains_target = []\n",
    "\n",
    "\n",
    "train_original_source = []\n",
    "val_original_source   = []\n",
    "test_original_source  = []\n",
    "\n",
    "train_original_target = []\n",
    "val_original_target   = []\n",
    "test_original_target  = []"
   ]
  },
  {
   "cell_type": "code",
   "execution_count": 11,
   "id": "e3d9c3d3",
   "metadata": {
    "execution": {
     "iopub.execute_input": "2022-03-25T11:04:39.037045Z",
     "iopub.status.busy": "2022-03-25T11:04:39.036670Z",
     "iopub.status.idle": "2022-03-25T11:04:39.047539Z",
     "shell.execute_reply": "2022-03-25T11:04:39.047302Z"
    },
    "papermill": {
     "duration": 0.025765,
     "end_time": "2022-03-25T11:04:39.047595",
     "exception": false,
     "start_time": "2022-03-25T11:04:39.021830",
     "status": "completed"
    },
    "tags": []
   },
   "outputs": [],
   "source": [
    "# global_x_transform_func = lambda x: normalize(x.to(torch.get_default_dtype()), \"unit_power\") # unit_power, unit_mag\n",
    "# global_x_transform_func = lambda x: normalize(x, \"unit_power\") # unit_power, unit_mag"
   ]
  },
  {
   "cell_type": "code",
   "execution_count": 12,
   "id": "acb78fd2",
   "metadata": {
    "execution": {
     "iopub.execute_input": "2022-03-25T11:04:39.079034Z",
     "iopub.status.busy": "2022-03-25T11:04:39.078619Z",
     "iopub.status.idle": "2022-03-25T11:04:39.090403Z",
     "shell.execute_reply": "2022-03-25T11:04:39.090148Z"
    },
    "papermill": {
     "duration": 0.029582,
     "end_time": "2022-03-25T11:04:39.090461",
     "exception": false,
     "start_time": "2022-03-25T11:04:39.060879",
     "status": "completed"
    },
    "tags": []
   },
   "outputs": [],
   "source": [
    "def add_dataset(\n",
    "    labels,\n",
    "    domains,\n",
    "    pickle_path,\n",
    "    x_transforms,\n",
    "    episode_transforms,\n",
    "    domain_prefix,\n",
    "    num_examples_per_domain_per_label,\n",
    "    source_or_target_dataset:str,\n",
    "    iterator_seed=p.seed,\n",
    "    dataset_seed=p.dataset_seed,\n",
    "    n_shot=p.n_shot,\n",
    "    n_way=p.n_way,\n",
    "    n_query=p.n_query,\n",
    "    train_val_test_k_factors=(p.train_k_factor,p.val_k_factor,p.test_k_factor),\n",
    "):\n",
    "   \n",
    "    if x_transforms == []: x_transform = None\n",
    "    else: x_transform = get_chained_transform(x_transforms)\n",
    "    \n",
    "    if episode_transforms == []: episode_transform = None\n",
    "    else: raise Exception(\"episode_transforms not implemented\")\n",
    "    \n",
    "    episode_transform = lambda tup, _prefix=domain_prefix: (_prefix + str(tup[0]), tup[1])\n",
    "\n",
    "\n",
    "    eaf = Episodic_Accessor_Factory(\n",
    "        labels=labels,\n",
    "        domains=domains,\n",
    "        num_examples_per_domain_per_label=num_examples_per_domain_per_label,\n",
    "        iterator_seed=iterator_seed,\n",
    "        dataset_seed=dataset_seed,\n",
    "        n_shot=n_shot,\n",
    "        n_way=n_way,\n",
    "        n_query=n_query,\n",
    "        train_val_test_k_factors=train_val_test_k_factors,\n",
    "        pickle_path=pickle_path,\n",
    "        x_transform_func=x_transform,\n",
    "    )\n",
    "\n",
    "    train, val, test = eaf.get_train(), eaf.get_val(), eaf.get_test()\n",
    "    train = Lazy_Iterable_Wrapper(train, episode_transform)\n",
    "    val = Lazy_Iterable_Wrapper(val, episode_transform)\n",
    "    test = Lazy_Iterable_Wrapper(test, episode_transform)\n",
    "\n",
    "    if source_or_target_dataset==\"source\":\n",
    "        train_original_source.append(train)\n",
    "        val_original_source.append(val)\n",
    "        test_original_source.append(test)\n",
    "\n",
    "        p.domains_source.extend(\n",
    "            [domain_prefix + str(u) for u in domains]\n",
    "        )\n",
    "    elif source_or_target_dataset==\"target\":\n",
    "        train_original_target.append(train)\n",
    "        val_original_target.append(val)\n",
    "        test_original_target.append(test)\n",
    "        p.domains_target.extend(\n",
    "            [domain_prefix + str(u) for u in domains]\n",
    "        )\n",
    "    else:\n",
    "        raise Exception(f\"invalid source_or_target_dataset: {source_or_target_dataset}\")\n",
    "    "
   ]
  },
  {
   "cell_type": "code",
   "execution_count": 13,
   "id": "fe266617",
   "metadata": {
    "execution": {
     "iopub.execute_input": "2022-03-25T11:04:39.120675Z",
     "iopub.status.busy": "2022-03-25T11:04:39.120273Z",
     "iopub.status.idle": "2022-03-25T11:05:29.075760Z",
     "shell.execute_reply": "2022-03-25T11:05:29.076162Z"
    },
    "papermill": {
     "duration": 49.970894,
     "end_time": "2022-03-25T11:05:29.076297",
     "exception": false,
     "start_time": "2022-03-25T11:04:39.105403",
     "status": "completed"
    },
    "tags": []
   },
   "outputs": [],
   "source": [
    "for ds in p.datasets:\n",
    "    add_dataset(**ds)"
   ]
  },
  {
   "cell_type": "code",
   "execution_count": 14,
   "id": "b90d65ac",
   "metadata": {
    "execution": {
     "iopub.execute_input": "2022-03-25T11:05:29.111336Z",
     "iopub.status.busy": "2022-03-25T11:05:29.110935Z",
     "iopub.status.idle": "2022-03-25T11:05:29.121265Z",
     "shell.execute_reply": "2022-03-25T11:05:29.121469Z"
    },
    "papermill": {
     "duration": 0.026038,
     "end_time": "2022-03-25T11:05:29.121540",
     "exception": false,
     "start_time": "2022-03-25T11:05:29.095502",
     "status": "completed"
    },
    "tags": []
   },
   "outputs": [],
   "source": [
    "# from steves_utils.CORES.utils import (\n",
    "#     ALL_NODES,\n",
    "#     ALL_NODES_MINIMUM_1000_EXAMPLES,\n",
    "#     ALL_DAYS\n",
    "# )\n",
    "\n",
    "# add_dataset(\n",
    "#     labels=ALL_NODES,\n",
    "#     domains = ALL_DAYS,\n",
    "#     num_examples_per_domain_per_label=100,\n",
    "#     pickle_path=os.path.join(get_datasets_base_path(), \"cores.stratified_ds.2022A.pkl\"),\n",
    "#     source_or_target_dataset=\"target\",\n",
    "#     x_transform_func=global_x_transform_func,\n",
    "#     domain_modifier=lambda u: f\"cores_{u}\"\n",
    "# )"
   ]
  },
  {
   "cell_type": "code",
   "execution_count": 15,
   "id": "76db484d",
   "metadata": {
    "execution": {
     "iopub.execute_input": "2022-03-25T11:05:29.150669Z",
     "iopub.status.busy": "2022-03-25T11:05:29.150270Z",
     "iopub.status.idle": "2022-03-25T11:05:29.160668Z",
     "shell.execute_reply": "2022-03-25T11:05:29.160873Z"
    },
    "papermill": {
     "duration": 0.025617,
     "end_time": "2022-03-25T11:05:29.160944",
     "exception": false,
     "start_time": "2022-03-25T11:05:29.135327",
     "status": "completed"
    },
    "tags": []
   },
   "outputs": [],
   "source": [
    "# from steves_utils.ORACLE.utils_v2 import (\n",
    "#     ALL_DISTANCES_FEET,\n",
    "#     ALL_RUNS,\n",
    "#     ALL_SERIAL_NUMBERS,\n",
    "# )\n",
    "\n",
    "\n",
    "# add_dataset(\n",
    "#     labels=ALL_SERIAL_NUMBERS,\n",
    "#     domains = list(set(ALL_DISTANCES_FEET) - {2,62}),\n",
    "#     num_examples_per_domain_per_label=100,\n",
    "#     pickle_path=os.path.join(get_datasets_base_path(), \"oracle.Run2_framed_2000Examples_stratified_ds.2022A.pkl\"),\n",
    "#     source_or_target_dataset=\"source\",\n",
    "#     x_transform_func=global_x_transform_func,\n",
    "#     domain_modifier=lambda u: f\"oracle1_{u}\"\n",
    "# )\n"
   ]
  },
  {
   "cell_type": "code",
   "execution_count": 16,
   "id": "97dea9d2",
   "metadata": {
    "execution": {
     "iopub.execute_input": "2022-03-25T11:05:29.191302Z",
     "iopub.status.busy": "2022-03-25T11:05:29.190904Z",
     "iopub.status.idle": "2022-03-25T11:05:29.201451Z",
     "shell.execute_reply": "2022-03-25T11:05:29.201228Z"
    },
    "papermill": {
     "duration": 0.025425,
     "end_time": "2022-03-25T11:05:29.201504",
     "exception": false,
     "start_time": "2022-03-25T11:05:29.176079",
     "status": "completed"
    },
    "tags": []
   },
   "outputs": [],
   "source": [
    "# from steves_utils.ORACLE.utils_v2 import (\n",
    "#     ALL_DISTANCES_FEET,\n",
    "#     ALL_RUNS,\n",
    "#     ALL_SERIAL_NUMBERS,\n",
    "# )\n",
    "\n",
    "\n",
    "# add_dataset(\n",
    "#     labels=ALL_SERIAL_NUMBERS,\n",
    "#     domains = list(set(ALL_DISTANCES_FEET) - {2,62,56}),\n",
    "#     num_examples_per_domain_per_label=100,\n",
    "#     pickle_path=os.path.join(get_datasets_base_path(), \"oracle.Run2_framed_2000Examples_stratified_ds.2022A.pkl\"),\n",
    "#     source_or_target_dataset=\"source\",\n",
    "#     x_transform_func=global_x_transform_func,\n",
    "#     domain_modifier=lambda u: f\"oracle2_{u}\"\n",
    "# )"
   ]
  },
  {
   "cell_type": "code",
   "execution_count": 17,
   "id": "6f289866",
   "metadata": {
    "execution": {
     "iopub.execute_input": "2022-03-25T11:05:29.230129Z",
     "iopub.status.busy": "2022-03-25T11:05:29.229859Z",
     "iopub.status.idle": "2022-03-25T11:05:29.245644Z",
     "shell.execute_reply": "2022-03-25T11:05:29.245837Z"
    },
    "papermill": {
     "duration": 0.030891,
     "end_time": "2022-03-25T11:05:29.245904",
     "exception": false,
     "start_time": "2022-03-25T11:05:29.215013",
     "status": "completed"
    },
    "tags": []
   },
   "outputs": [],
   "source": [
    "# add_dataset(\n",
    "#     labels=list(range(19)),\n",
    "#     domains = [0,1,2],\n",
    "#     num_examples_per_domain_per_label=100,\n",
    "#     pickle_path=os.path.join(get_datasets_base_path(), \"metehan.stratified_ds.2022A.pkl\"),\n",
    "#     source_or_target_dataset=\"target\",\n",
    "#     x_transform_func=global_x_transform_func,\n",
    "#     domain_modifier=lambda u: f\"met_{u}\"\n",
    "# )"
   ]
  },
  {
   "cell_type": "code",
   "execution_count": 18,
   "id": "86a863c3",
   "metadata": {
    "execution": {
     "iopub.execute_input": "2022-03-25T11:05:29.275441Z",
     "iopub.status.busy": "2022-03-25T11:05:29.275127Z",
     "iopub.status.idle": "2022-03-25T11:05:29.290365Z",
     "shell.execute_reply": "2022-03-25T11:05:29.290571Z"
    },
    "papermill": {
     "duration": 0.031252,
     "end_time": "2022-03-25T11:05:29.290636",
     "exception": false,
     "start_time": "2022-03-25T11:05:29.259384",
     "status": "completed"
    },
    "tags": []
   },
   "outputs": [],
   "source": [
    "# # from steves_utils.wisig.utils import (\n",
    "# #     ALL_NODES_MINIMUM_100_EXAMPLES,\n",
    "# #     ALL_NODES_MINIMUM_500_EXAMPLES,\n",
    "# #     ALL_NODES_MINIMUM_1000_EXAMPLES,\n",
    "# #     ALL_DAYS\n",
    "# # )\n",
    "\n",
    "# import steves_utils.wisig.utils as wisig\n",
    "\n",
    "\n",
    "# add_dataset(\n",
    "#     labels=wisig.ALL_NODES_MINIMUM_100_EXAMPLES,\n",
    "#     domains = wisig.ALL_DAYS,\n",
    "#     num_examples_per_domain_per_label=100,\n",
    "#     pickle_path=os.path.join(get_datasets_base_path(), \"wisig.node3-19.stratified_ds.2022A.pkl\"),\n",
    "#     source_or_target_dataset=\"target\",\n",
    "#     x_transform_func=global_x_transform_func,\n",
    "#     domain_modifier=lambda u: f\"wisig_{u}\"\n",
    "# )"
   ]
  },
  {
   "cell_type": "code",
   "execution_count": 19,
   "id": "fd5442bc",
   "metadata": {
    "execution": {
     "iopub.execute_input": "2022-03-25T11:05:29.323233Z",
     "iopub.status.busy": "2022-03-25T11:05:29.322979Z",
     "iopub.status.idle": "2022-03-25T11:05:29.335892Z",
     "shell.execute_reply": "2022-03-25T11:05:29.336101Z"
    },
    "papermill": {
     "duration": 0.031872,
     "end_time": "2022-03-25T11:05:29.336169",
     "exception": false,
     "start_time": "2022-03-25T11:05:29.304297",
     "status": "completed"
    },
    "tags": []
   },
   "outputs": [],
   "source": [
    "###################################\n",
    "# Build the dataset\n",
    "###################################\n",
    "train_original_source = Iterable_Aggregator(train_original_source, p.seed)\n",
    "val_original_source = Iterable_Aggregator(val_original_source, p.seed)\n",
    "test_original_source = Iterable_Aggregator(test_original_source, p.seed)\n",
    "\n",
    "\n",
    "train_original_target = Iterable_Aggregator(train_original_target, p.seed)\n",
    "val_original_target = Iterable_Aggregator(val_original_target, p.seed)\n",
    "test_original_target = Iterable_Aggregator(test_original_target, p.seed)\n",
    "\n",
    "# For CNN We only use X and Y. And we only train on the source.\n",
    "# Properly form the data using a transform lambda and Lazy_Iterable_Wrapper. Finally wrap them in a dataloader\n",
    "\n",
    "transform_lambda = lambda ex: ex[1] # Original is (<domain>, <episode>) so we strip down to episode only\n",
    "\n",
    "train_processed_source = Lazy_Iterable_Wrapper(train_original_source, transform_lambda)\n",
    "val_processed_source   = Lazy_Iterable_Wrapper(val_original_source, transform_lambda)\n",
    "test_processed_source  = Lazy_Iterable_Wrapper(test_original_source, transform_lambda)\n",
    "\n",
    "train_processed_target = Lazy_Iterable_Wrapper(train_original_target, transform_lambda)\n",
    "val_processed_target   = Lazy_Iterable_Wrapper(val_original_target, transform_lambda)\n",
    "test_processed_target  = Lazy_Iterable_Wrapper(test_original_target, transform_lambda)\n",
    "\n",
    "datasets = EasyDict({\n",
    "    \"source\": {\n",
    "        \"original\": {\"train\":train_original_source, \"val\":val_original_source, \"test\":test_original_source},\n",
    "        \"processed\": {\"train\":train_processed_source, \"val\":val_processed_source, \"test\":test_processed_source}\n",
    "    },\n",
    "    \"target\": {\n",
    "        \"original\": {\"train\":train_original_target, \"val\":val_original_target, \"test\":test_original_target},\n",
    "        \"processed\": {\"train\":train_processed_target, \"val\":val_processed_target, \"test\":test_processed_target}\n",
    "    },\n",
    "})"
   ]
  },
  {
   "cell_type": "code",
   "execution_count": 20,
   "id": "5b3c01fc",
   "metadata": {
    "execution": {
     "iopub.execute_input": "2022-03-25T11:05:29.366399Z",
     "iopub.status.busy": "2022-03-25T11:05:29.366150Z",
     "iopub.status.idle": "2022-03-25T11:05:35.572124Z",
     "shell.execute_reply": "2022-03-25T11:05:35.572562Z"
    },
    "papermill": {
     "duration": 6.222604,
     "end_time": "2022-03-25T11:05:35.572668",
     "exception": false,
     "start_time": "2022-03-25T11:05:29.350064",
     "status": "completed"
    },
    "tags": []
   },
   "outputs": [
    {
     "name": "stdout",
     "output_type": "stream",
     "text": [
      "{'O_38', 'O_44', 'O_14', 'O_20', 'O_32', 'O_8', 'O_26', 'O_50'}\n"
     ]
    },
    {
     "name": "stdout",
     "output_type": "stream",
     "text": [
      "{'C_5', 'C_2', 'C_3', 'C_1', 'C_4'}\n"
     ]
    },
    {
     "name": "stdout",
     "output_type": "stream",
     "text": [
      "tensor([[[-0.1976,  0.8964,  0.6179,  ...,  0.7206, -0.3259, -0.0401],\n",
      "         [-0.4141,  0.2221,  0.6058,  ..., -0.1632,  1.0459,  1.0451]],\n",
      "\n",
      "        [[ 0.0528,  1.2022,  0.4312,  ...,  0.5104,  0.3726,  0.9936],\n",
      "         [-0.4033, -0.4142,  0.2730,  ..., -0.2160,  1.1540,  0.4026]],\n",
      "\n",
      "        [[-0.6842, -0.4655,  0.6928,  ...,  0.4342,  0.8958, -0.3865],\n",
      "         [-0.4171, -1.1542,  0.1186,  ..., -0.6166, -0.7042, -1.1792]],\n",
      "\n",
      "        ...,\n",
      "\n",
      "        [[ 0.1044,  0.7266,  0.1941,  ...,  0.9745,  0.9595,  0.7222],\n",
      "         [-0.9009, -0.7415,  1.0205,  ...,  0.3168,  0.3631, -1.0011]],\n",
      "\n",
      "        [[-0.2632,  0.9271,  0.8168,  ...,  0.7683, -0.0289,  0.1322],\n",
      "         [-0.4929, -0.1107,  0.4974,  ..., -0.4560,  1.0749,  0.9414]],\n",
      "\n",
      "        [[-0.7664, -1.1655,  0.5360,  ..., -0.3593, -0.3861, -1.3174],\n",
      "         [ 0.5410,  0.0877, -0.7393,  ..., -0.9040, -0.9683,  0.1122]]])\n"
     ]
    }
   ],
   "source": [
    "from steves_utils.transforms import get_average_magnitude, get_average_power\n",
    "\n",
    "print(set([u for u,_ in val_original_source]))\n",
    "print(set([u for u,_ in val_original_target]))\n",
    "\n",
    "s_x, s_y, q_x, q_y, _ = next(iter(train_processed_source))\n",
    "print(s_x)\n",
    "\n",
    "# for ds in [\n",
    "#     train_processed_source,\n",
    "#     val_processed_source,\n",
    "#     test_processed_source,\n",
    "#     train_processed_target,\n",
    "#     val_processed_target,\n",
    "#     test_processed_target\n",
    "# ]:\n",
    "#     for s_x, s_y, q_x, q_y, _ in ds:\n",
    "#         for X in (s_x, q_x):\n",
    "#             for x in X:\n",
    "#                 assert np.isclose(get_average_magnitude(x.numpy()), 1.0)\n",
    "#                 assert np.isclose(get_average_power(x.numpy()), 1.0)\n",
    "                "
   ]
  },
  {
   "cell_type": "code",
   "execution_count": 21,
   "id": "bbdacba1",
   "metadata": {
    "execution": {
     "iopub.execute_input": "2022-03-25T11:05:35.611783Z",
     "iopub.status.busy": "2022-03-25T11:05:35.611520Z",
     "iopub.status.idle": "2022-03-25T11:05:35.662352Z",
     "shell.execute_reply": "2022-03-25T11:05:35.662731Z"
    },
    "papermill": {
     "duration": 0.069068,
     "end_time": "2022-03-25T11:05:35.662854",
     "exception": false,
     "start_time": "2022-03-25T11:05:35.593786",
     "status": "completed"
    },
    "tags": []
   },
   "outputs": [
    {
     "name": "stdout",
     "output_type": "stream",
     "text": [
      "(2, 200)\n"
     ]
    }
   ],
   "source": [
    "###################################\n",
    "# Build the model\n",
    "###################################\n",
    "# easfsl only wants a tuple for the shape\n",
    "model = Steves_Prototypical_Network(x_net, device=p.device, x_shape=tuple(p.x_shape))\n",
    "optimizer = Adam(params=model.parameters(), lr=p.lr)"
   ]
  },
  {
   "cell_type": "code",
   "execution_count": 22,
   "id": "22b39ac5",
   "metadata": {
    "execution": {
     "iopub.execute_input": "2022-03-25T11:05:35.697953Z",
     "iopub.status.busy": "2022-03-25T11:05:35.697694Z",
     "iopub.status.idle": "2022-03-25T11:27:25.341648Z",
     "shell.execute_reply": "2022-03-25T11:27:25.341419Z"
    },
    "papermill": {
     "duration": 1309.660851,
     "end_time": "2022-03-25T11:27:25.341704",
     "exception": false,
     "start_time": "2022-03-25T11:05:35.680853",
     "status": "completed"
    },
    "tags": []
   },
   "outputs": [
    {
     "name": "stdout",
     "output_type": "stream",
     "text": [
      "epoch: 1, [batch: 1 / 6720], examples_per_second: 48.3151, train_label_loss: 2.9680, \n"
     ]
    },
    {
     "name": "stdout",
     "output_type": "stream",
     "text": [
      "epoch: 1, [batch: 672 / 6720], examples_per_second: 3613.6352, train_label_loss: 1.0843, \n"
     ]
    },
    {
     "name": "stdout",
     "output_type": "stream",
     "text": [
      "epoch: 1, [batch: 1344 / 6720], examples_per_second: 3659.0817, train_label_loss: 0.9390, \n"
     ]
    },
    {
     "name": "stdout",
     "output_type": "stream",
     "text": [
      "epoch: 1, [batch: 2016 / 6720], examples_per_second: 3659.8922, train_label_loss: 0.7501, \n"
     ]
    },
    {
     "name": "stdout",
     "output_type": "stream",
     "text": [
      "epoch: 1, [batch: 2688 / 6720], examples_per_second: 3642.4538, train_label_loss: 0.8955, \n"
     ]
    },
    {
     "name": "stdout",
     "output_type": "stream",
     "text": [
      "epoch: 1, [batch: 3360 / 6720], examples_per_second: 3619.0597, train_label_loss: 0.8415, \n"
     ]
    },
    {
     "name": "stdout",
     "output_type": "stream",
     "text": [
      "epoch: 1, [batch: 4032 / 6720], examples_per_second: 3620.5706, train_label_loss: 1.0185, \n"
     ]
    },
    {
     "name": "stdout",
     "output_type": "stream",
     "text": [
      "epoch: 1, [batch: 4704 / 6720], examples_per_second: 3589.4809, train_label_loss: 0.5921, \n"
     ]
    },
    {
     "name": "stdout",
     "output_type": "stream",
     "text": [
      "epoch: 1, [batch: 5376 / 6720], examples_per_second: 3652.5076, train_label_loss: 0.6405, \n"
     ]
    },
    {
     "name": "stdout",
     "output_type": "stream",
     "text": [
      "epoch: 1, [batch: 6048 / 6720], examples_per_second: 3586.9025, train_label_loss: 0.7593, \n"
     ]
    },
    {
     "name": "stdout",
     "output_type": "stream",
     "text": [
      "=============================================================\n",
      "epoch: 1, source_val_acc_label: 0.6336, target_val_acc_label: 0.8167, source_val_label_loss: 1.0314, target_val_label_loss: 1.2760, \n",
      "=============================================================\n"
     ]
    },
    {
     "name": "stdout",
     "output_type": "stream",
     "text": [
      "New best\n"
     ]
    },
    {
     "name": "stdout",
     "output_type": "stream",
     "text": [
      "epoch: 2, [batch: 1 / 6720], examples_per_second: 5.2384, train_label_loss: 0.7764, \n"
     ]
    },
    {
     "name": "stdout",
     "output_type": "stream",
     "text": [
      "epoch: 2, [batch: 672 / 6720], examples_per_second: 3592.0474, train_label_loss: 0.8921, \n"
     ]
    },
    {
     "name": "stdout",
     "output_type": "stream",
     "text": [
      "epoch: 2, [batch: 1344 / 6720], examples_per_second: 3596.9473, train_label_loss: 1.1506, \n"
     ]
    },
    {
     "name": "stdout",
     "output_type": "stream",
     "text": [
      "epoch: 2, [batch: 2016 / 6720], examples_per_second: 3632.0126, train_label_loss: 0.5021, \n"
     ]
    },
    {
     "name": "stdout",
     "output_type": "stream",
     "text": [
      "epoch: 2, [batch: 2688 / 6720], examples_per_second: 3632.6110, train_label_loss: 0.6922, \n"
     ]
    },
    {
     "name": "stdout",
     "output_type": "stream",
     "text": [
      "epoch: 2, [batch: 3360 / 6720], examples_per_second: 3640.2236, train_label_loss: 0.6246, \n"
     ]
    },
    {
     "name": "stdout",
     "output_type": "stream",
     "text": [
      "epoch: 2, [batch: 4032 / 6720], examples_per_second: 3648.7970, train_label_loss: 0.4785, \n"
     ]
    },
    {
     "name": "stdout",
     "output_type": "stream",
     "text": [
      "epoch: 2, [batch: 4704 / 6720], examples_per_second: 3628.0147, train_label_loss: 0.3743, \n"
     ]
    },
    {
     "name": "stdout",
     "output_type": "stream",
     "text": [
      "epoch: 2, [batch: 5376 / 6720], examples_per_second: 3616.2127, train_label_loss: 1.2575, \n"
     ]
    },
    {
     "name": "stdout",
     "output_type": "stream",
     "text": [
      "epoch: 2, [batch: 6048 / 6720], examples_per_second: 3629.7059, train_label_loss: 0.4121, \n"
     ]
    },
    {
     "name": "stdout",
     "output_type": "stream",
     "text": [
      "=============================================================\n",
      "epoch: 2, source_val_acc_label: 0.7387, target_val_acc_label: 0.8229, source_val_label_loss: 0.7056, target_val_label_loss: 1.2529, \n",
      "=============================================================\n"
     ]
    },
    {
     "name": "stdout",
     "output_type": "stream",
     "text": [
      "New best\n"
     ]
    },
    {
     "name": "stdout",
     "output_type": "stream",
     "text": [
      "epoch: 3, [batch: 1 / 6720], examples_per_second: 5.2647, train_label_loss: 1.0468, \n"
     ]
    },
    {
     "name": "stdout",
     "output_type": "stream",
     "text": [
      "epoch: 3, [batch: 672 / 6720], examples_per_second: 3625.6714, train_label_loss: 0.6263, \n"
     ]
    },
    {
     "name": "stdout",
     "output_type": "stream",
     "text": [
      "epoch: 3, [batch: 1344 / 6720], examples_per_second: 3624.7242, train_label_loss: 1.0539, \n"
     ]
    },
    {
     "name": "stdout",
     "output_type": "stream",
     "text": [
      "epoch: 3, [batch: 2016 / 6720], examples_per_second: 3646.9007, train_label_loss: 0.7040, \n"
     ]
    },
    {
     "name": "stdout",
     "output_type": "stream",
     "text": [
      "epoch: 3, [batch: 2688 / 6720], examples_per_second: 3623.5473, train_label_loss: 0.3872, \n"
     ]
    },
    {
     "name": "stdout",
     "output_type": "stream",
     "text": [
      "epoch: 3, [batch: 3360 / 6720], examples_per_second: 3634.1675, train_label_loss: 0.3337, \n"
     ]
    },
    {
     "name": "stdout",
     "output_type": "stream",
     "text": [
      "epoch: 3, [batch: 4032 / 6720], examples_per_second: 3646.5513, train_label_loss: 0.7470, \n"
     ]
    },
    {
     "name": "stdout",
     "output_type": "stream",
     "text": [
      "epoch: 3, [batch: 4704 / 6720], examples_per_second: 3619.4913, train_label_loss: 0.4194, \n"
     ]
    },
    {
     "name": "stdout",
     "output_type": "stream",
     "text": [
      "epoch: 3, [batch: 5376 / 6720], examples_per_second: 3649.5735, train_label_loss: 0.2052, \n"
     ]
    },
    {
     "name": "stdout",
     "output_type": "stream",
     "text": [
      "epoch: 3, [batch: 6048 / 6720], examples_per_second: 3655.3646, train_label_loss: 0.7214, \n"
     ]
    },
    {
     "name": "stdout",
     "output_type": "stream",
     "text": [
      "=============================================================\n",
      "epoch: 3, source_val_acc_label: 0.7846, target_val_acc_label: 0.8347, source_val_label_loss: 0.5830, target_val_label_loss: 1.3202, \n",
      "=============================================================\n"
     ]
    },
    {
     "name": "stdout",
     "output_type": "stream",
     "text": [
      "New best\n"
     ]
    },
    {
     "name": "stdout",
     "output_type": "stream",
     "text": [
      "epoch: 4, [batch: 1 / 6720], examples_per_second: 5.2421, train_label_loss: 0.5276, \n"
     ]
    },
    {
     "name": "stdout",
     "output_type": "stream",
     "text": [
      "epoch: 4, [batch: 672 / 6720], examples_per_second: 3614.8244, train_label_loss: 0.3847, \n"
     ]
    },
    {
     "name": "stdout",
     "output_type": "stream",
     "text": [
      "epoch: 4, [batch: 1344 / 6720], examples_per_second: 3638.2049, train_label_loss: 0.3111, \n"
     ]
    },
    {
     "name": "stdout",
     "output_type": "stream",
     "text": [
      "epoch: 4, [batch: 2016 / 6720], examples_per_second: 3641.9578, train_label_loss: 0.1962, \n"
     ]
    },
    {
     "name": "stdout",
     "output_type": "stream",
     "text": [
      "epoch: 4, [batch: 2688 / 6720], examples_per_second: 3617.4926, train_label_loss: 0.4812, \n"
     ]
    },
    {
     "name": "stdout",
     "output_type": "stream",
     "text": [
      "epoch: 4, [batch: 3360 / 6720], examples_per_second: 3616.9308, train_label_loss: 0.3078, \n"
     ]
    },
    {
     "name": "stdout",
     "output_type": "stream",
     "text": [
      "epoch: 4, [batch: 4032 / 6720], examples_per_second: 3625.7042, train_label_loss: 0.5122, \n"
     ]
    },
    {
     "name": "stdout",
     "output_type": "stream",
     "text": [
      "epoch: 4, [batch: 4704 / 6720], examples_per_second: 3622.8365, train_label_loss: 0.3647, \n"
     ]
    },
    {
     "name": "stdout",
     "output_type": "stream",
     "text": [
      "epoch: 4, [batch: 5376 / 6720], examples_per_second: 3641.6481, train_label_loss: 0.4420, \n"
     ]
    },
    {
     "name": "stdout",
     "output_type": "stream",
     "text": [
      "epoch: 4, [batch: 6048 / 6720], examples_per_second: 3634.6023, train_label_loss: 0.2934, \n"
     ]
    },
    {
     "name": "stdout",
     "output_type": "stream",
     "text": [
      "=============================================================\n",
      "epoch: 4, source_val_acc_label: 0.8267, target_val_acc_label: 0.8438, source_val_label_loss: 0.4746, target_val_label_loss: 1.3444, \n",
      "=============================================================\n"
     ]
    },
    {
     "name": "stdout",
     "output_type": "stream",
     "text": [
      "New best\n"
     ]
    },
    {
     "name": "stdout",
     "output_type": "stream",
     "text": [
      "epoch: 5, [batch: 1 / 6720], examples_per_second: 5.2337, train_label_loss: 0.6608, \n"
     ]
    },
    {
     "name": "stdout",
     "output_type": "stream",
     "text": [
      "epoch: 5, [batch: 672 / 6720], examples_per_second: 3612.7578, train_label_loss: 0.7443, \n"
     ]
    },
    {
     "name": "stdout",
     "output_type": "stream",
     "text": [
      "epoch: 5, [batch: 1344 / 6720], examples_per_second: 3626.8938, train_label_loss: 0.3348, \n"
     ]
    },
    {
     "name": "stdout",
     "output_type": "stream",
     "text": [
      "epoch: 5, [batch: 2016 / 6720], examples_per_second: 3642.8123, train_label_loss: 1.0473, \n"
     ]
    },
    {
     "name": "stdout",
     "output_type": "stream",
     "text": [
      "epoch: 5, [batch: 2688 / 6720], examples_per_second: 3620.6754, train_label_loss: 0.4690, \n"
     ]
    },
    {
     "name": "stdout",
     "output_type": "stream",
     "text": [
      "epoch: 5, [batch: 3360 / 6720], examples_per_second: 3633.2705, train_label_loss: 0.9316, \n"
     ]
    },
    {
     "name": "stdout",
     "output_type": "stream",
     "text": [
      "epoch: 5, [batch: 4032 / 6720], examples_per_second: 3625.7537, train_label_loss: 0.2102, \n"
     ]
    },
    {
     "name": "stdout",
     "output_type": "stream",
     "text": [
      "epoch: 5, [batch: 4704 / 6720], examples_per_second: 3631.1370, train_label_loss: 0.4855, \n"
     ]
    },
    {
     "name": "stdout",
     "output_type": "stream",
     "text": [
      "epoch: 5, [batch: 5376 / 6720], examples_per_second: 3647.6586, train_label_loss: 0.3616, \n"
     ]
    },
    {
     "name": "stdout",
     "output_type": "stream",
     "text": [
      "epoch: 5, [batch: 6048 / 6720], examples_per_second: 3637.5224, train_label_loss: 0.6564, \n"
     ]
    },
    {
     "name": "stdout",
     "output_type": "stream",
     "text": [
      "=============================================================\n",
      "epoch: 5, source_val_acc_label: 0.8357, target_val_acc_label: 0.8426, source_val_label_loss: 0.4446, target_val_label_loss: 1.4735, \n",
      "=============================================================\n"
     ]
    },
    {
     "name": "stdout",
     "output_type": "stream",
     "text": [
      "epoch: 6, [batch: 1 / 6720], examples_per_second: 5.2628, train_label_loss: 0.4268, \n"
     ]
    },
    {
     "name": "stdout",
     "output_type": "stream",
     "text": [
      "epoch: 6, [batch: 672 / 6720], examples_per_second: 3621.7853, train_label_loss: 0.1192, \n"
     ]
    },
    {
     "name": "stdout",
     "output_type": "stream",
     "text": [
      "epoch: 6, [batch: 1344 / 6720], examples_per_second: 3639.5083, train_label_loss: 0.2576, \n"
     ]
    },
    {
     "name": "stdout",
     "output_type": "stream",
     "text": [
      "epoch: 6, [batch: 2016 / 6720], examples_per_second: 3641.6442, train_label_loss: 0.4395, \n"
     ]
    },
    {
     "name": "stdout",
     "output_type": "stream",
     "text": [
      "epoch: 6, [batch: 2688 / 6720], examples_per_second: 3631.7107, train_label_loss: 0.4919, \n"
     ]
    },
    {
     "name": "stdout",
     "output_type": "stream",
     "text": [
      "epoch: 6, [batch: 3360 / 6720], examples_per_second: 3621.2250, train_label_loss: 0.4250, \n"
     ]
    },
    {
     "name": "stdout",
     "output_type": "stream",
     "text": [
      "epoch: 6, [batch: 4032 / 6720], examples_per_second: 3620.1587, train_label_loss: 0.4169, \n"
     ]
    },
    {
     "name": "stdout",
     "output_type": "stream",
     "text": [
      "epoch: 6, [batch: 4704 / 6720], examples_per_second: 3620.1419, train_label_loss: 0.4818, \n"
     ]
    },
    {
     "name": "stdout",
     "output_type": "stream",
     "text": [
      "epoch: 6, [batch: 5376 / 6720], examples_per_second: 3638.7124, train_label_loss: 0.4624, \n"
     ]
    },
    {
     "name": "stdout",
     "output_type": "stream",
     "text": [
      "epoch: 6, [batch: 6048 / 6720], examples_per_second: 3634.9162, train_label_loss: 0.2458, \n"
     ]
    },
    {
     "name": "stdout",
     "output_type": "stream",
     "text": [
      "=============================================================\n",
      "epoch: 6, source_val_acc_label: 0.8477, target_val_acc_label: 0.8397, source_val_label_loss: 0.4171, target_val_label_loss: 1.6513, \n",
      "=============================================================\n"
     ]
    },
    {
     "name": "stdout",
     "output_type": "stream",
     "text": [
      "epoch: 7, [batch: 1 / 6720], examples_per_second: 5.2901, train_label_loss: 0.1233, \n"
     ]
    },
    {
     "name": "stdout",
     "output_type": "stream",
     "text": [
      "epoch: 7, [batch: 672 / 6720], examples_per_second: 3633.4920, train_label_loss: 0.1418, \n"
     ]
    },
    {
     "name": "stdout",
     "output_type": "stream",
     "text": [
      "epoch: 7, [batch: 1344 / 6720], examples_per_second: 3627.0808, train_label_loss: 0.3078, \n"
     ]
    },
    {
     "name": "stdout",
     "output_type": "stream",
     "text": [
      "epoch: 7, [batch: 2016 / 6720], examples_per_second: 3621.2162, train_label_loss: 0.3412, \n"
     ]
    },
    {
     "name": "stdout",
     "output_type": "stream",
     "text": [
      "epoch: 7, [batch: 2688 / 6720], examples_per_second: 3613.3751, train_label_loss: 0.0560, \n"
     ]
    },
    {
     "name": "stdout",
     "output_type": "stream",
     "text": [
      "epoch: 7, [batch: 3360 / 6720], examples_per_second: 3651.2405, train_label_loss: 0.0752, \n"
     ]
    },
    {
     "name": "stdout",
     "output_type": "stream",
     "text": [
      "epoch: 7, [batch: 4032 / 6720], examples_per_second: 3635.9320, train_label_loss: 0.1273, \n"
     ]
    },
    {
     "name": "stdout",
     "output_type": "stream",
     "text": [
      "epoch: 7, [batch: 4704 / 6720], examples_per_second: 3615.4704, train_label_loss: 0.2577, \n"
     ]
    },
    {
     "name": "stdout",
     "output_type": "stream",
     "text": [
      "epoch: 7, [batch: 5376 / 6720], examples_per_second: 3623.3654, train_label_loss: 0.4192, \n"
     ]
    },
    {
     "name": "stdout",
     "output_type": "stream",
     "text": [
      "epoch: 7, [batch: 6048 / 6720], examples_per_second: 3630.0489, train_label_loss: 0.3177, \n"
     ]
    },
    {
     "name": "stdout",
     "output_type": "stream",
     "text": [
      "=============================================================\n",
      "epoch: 7, source_val_acc_label: 0.8418, target_val_acc_label: 0.8311, source_val_label_loss: 0.4260, target_val_label_loss: 1.7631, \n",
      "=============================================================\n"
     ]
    },
    {
     "name": "stdout",
     "output_type": "stream",
     "text": [
      "epoch: 8, [batch: 1 / 6720], examples_per_second: 5.2624, train_label_loss: 0.4563, \n"
     ]
    },
    {
     "name": "stdout",
     "output_type": "stream",
     "text": [
      "epoch: 8, [batch: 672 / 6720], examples_per_second: 3622.5897, train_label_loss: 0.1927, \n"
     ]
    },
    {
     "name": "stdout",
     "output_type": "stream",
     "text": [
      "epoch: 8, [batch: 1344 / 6720], examples_per_second: 3625.5261, train_label_loss: 0.1269, \n"
     ]
    },
    {
     "name": "stdout",
     "output_type": "stream",
     "text": [
      "epoch: 8, [batch: 2016 / 6720], examples_per_second: 3635.5600, train_label_loss: 0.6458, \n"
     ]
    },
    {
     "name": "stdout",
     "output_type": "stream",
     "text": [
      "epoch: 8, [batch: 2688 / 6720], examples_per_second: 3630.9814, train_label_loss: 0.4002, \n"
     ]
    },
    {
     "name": "stdout",
     "output_type": "stream",
     "text": [
      "epoch: 8, [batch: 3360 / 6720], examples_per_second: 3639.3982, train_label_loss: 0.9917, \n"
     ]
    },
    {
     "name": "stdout",
     "output_type": "stream",
     "text": [
      "epoch: 8, [batch: 4032 / 6720], examples_per_second: 3646.4078, train_label_loss: 0.3703, \n"
     ]
    },
    {
     "name": "stdout",
     "output_type": "stream",
     "text": [
      "epoch: 8, [batch: 4704 / 6720], examples_per_second: 3649.8906, train_label_loss: 0.1004, \n"
     ]
    },
    {
     "name": "stdout",
     "output_type": "stream",
     "text": [
      "epoch: 8, [batch: 5376 / 6720], examples_per_second: 3641.2107, train_label_loss: 0.1279, \n"
     ]
    },
    {
     "name": "stdout",
     "output_type": "stream",
     "text": [
      "epoch: 8, [batch: 6048 / 6720], examples_per_second: 3655.2427, train_label_loss: 0.2519, \n"
     ]
    },
    {
     "name": "stdout",
     "output_type": "stream",
     "text": [
      "=============================================================\n",
      "epoch: 8, source_val_acc_label: 0.8631, target_val_acc_label: 0.8336, source_val_label_loss: 0.3774, target_val_label_loss: 1.9151, \n",
      "=============================================================\n"
     ]
    },
    {
     "name": "stdout",
     "output_type": "stream",
     "text": [
      "Patience (3) exhausted\n"
     ]
    }
   ],
   "source": [
    "###################################\n",
    "# train\n",
    "###################################\n",
    "jig = PTN_Train_Eval_Test_Jig(model, p.BEST_MODEL_PATH, p.device)\n",
    "\n",
    "jig.train(\n",
    "    train_iterable=datasets.source.processed.train,\n",
    "    source_val_iterable=datasets.source.processed.val,\n",
    "    target_val_iterable=datasets.target.processed.val,\n",
    "    num_epochs=p.n_epoch,\n",
    "    num_logs_per_epoch=p.NUM_LOGS_PER_EPOCH,\n",
    "    patience=p.patience,\n",
    "    optimizer=optimizer,\n",
    "    criteria_for_best=p.criteria_for_best,\n",
    ")"
   ]
  },
  {
   "cell_type": "code",
   "execution_count": 23,
   "id": "31e8fabf",
   "metadata": {
    "execution": {
     "iopub.execute_input": "2022-03-25T11:27:25.404894Z",
     "iopub.status.busy": "2022-03-25T11:27:25.404642Z",
     "iopub.status.idle": "2022-03-25T11:27:25.422576Z",
     "shell.execute_reply": "2022-03-25T11:27:25.422199Z"
    },
    "papermill": {
     "duration": 0.051062,
     "end_time": "2022-03-25T11:27:25.422667",
     "exception": false,
     "start_time": "2022-03-25T11:27:25.371605",
     "status": "completed"
    },
    "tags": []
   },
   "outputs": [],
   "source": [
    "total_experiment_time_secs = time.time() - start_time_secs"
   ]
  },
  {
   "cell_type": "code",
   "execution_count": 24,
   "id": "87b9595b",
   "metadata": {
    "execution": {
     "iopub.execute_input": "2022-03-25T11:27:25.493545Z",
     "iopub.status.busy": "2022-03-25T11:27:25.493253Z",
     "iopub.status.idle": "2022-03-25T11:28:57.635335Z",
     "shell.execute_reply": "2022-03-25T11:28:57.635737Z"
    },
    "papermill": {
     "duration": 92.177675,
     "end_time": "2022-03-25T11:28:57.635858",
     "exception": false,
     "start_time": "2022-03-25T11:27:25.458183",
     "status": "completed"
    },
    "tags": []
   },
   "outputs": [],
   "source": [
    "###################################\n",
    "# Evaluate the model\n",
    "###################################\n",
    "source_test_label_accuracy, source_test_label_loss = jig.test(datasets.source.processed.test)\n",
    "target_test_label_accuracy, target_test_label_loss = jig.test(datasets.target.processed.test)\n",
    "\n",
    "source_val_label_accuracy, source_val_label_loss = jig.test(datasets.source.processed.val)\n",
    "target_val_label_accuracy, target_val_label_loss = jig.test(datasets.target.processed.val)\n",
    "\n",
    "history = jig.get_history()\n",
    "\n",
    "total_epochs_trained = len(history[\"epoch_indices\"])\n",
    "\n",
    "val_dl = Iterable_Aggregator((datasets.source.original.val,datasets.target.original.val))\n",
    "\n",
    "confusion = ptn_confusion_by_domain_over_dataloader(model, p.device, val_dl)\n",
    "per_domain_accuracy = per_domain_accuracy_from_confusion(confusion)\n",
    "\n",
    "# Add a key to per_domain_accuracy for if it was a source domain\n",
    "for domain, accuracy in per_domain_accuracy.items():\n",
    "    per_domain_accuracy[domain] = {\n",
    "        \"accuracy\": accuracy,\n",
    "        \"source?\": domain in p.domains_source\n",
    "    }\n",
    "\n",
    "# Do an independent accuracy assesment JUST TO BE SURE!\n",
    "# _source_test_label_accuracy = independent_accuracy_assesment(model, datasets.source.processed.test, p.device)\n",
    "# _target_test_label_accuracy = independent_accuracy_assesment(model, datasets.target.processed.test, p.device)\n",
    "# _source_val_label_accuracy = independent_accuracy_assesment(model, datasets.source.processed.val, p.device)\n",
    "# _target_val_label_accuracy = independent_accuracy_assesment(model, datasets.target.processed.val, p.device)\n",
    "\n",
    "# assert(_source_test_label_accuracy == source_test_label_accuracy)\n",
    "# assert(_target_test_label_accuracy == target_test_label_accuracy)\n",
    "# assert(_source_val_label_accuracy == source_val_label_accuracy)\n",
    "# assert(_target_val_label_accuracy == target_val_label_accuracy)\n",
    "\n",
    "experiment = {\n",
    "    \"experiment_name\": p.experiment_name,\n",
    "    \"parameters\": dict(p),\n",
    "    \"results\": {\n",
    "        \"source_test_label_accuracy\": source_test_label_accuracy,\n",
    "        \"source_test_label_loss\": source_test_label_loss,\n",
    "        \"target_test_label_accuracy\": target_test_label_accuracy,\n",
    "        \"target_test_label_loss\": target_test_label_loss,\n",
    "        \"source_val_label_accuracy\": source_val_label_accuracy,\n",
    "        \"source_val_label_loss\": source_val_label_loss,\n",
    "        \"target_val_label_accuracy\": target_val_label_accuracy,\n",
    "        \"target_val_label_loss\": target_val_label_loss,\n",
    "        \"total_epochs_trained\": total_epochs_trained,\n",
    "        \"total_experiment_time_secs\": total_experiment_time_secs,\n",
    "        \"confusion\": confusion,\n",
    "        \"per_domain_accuracy\": per_domain_accuracy,\n",
    "    },\n",
    "    \"history\": history,\n",
    "    \"dataset_metrics\": get_dataset_metrics(datasets, \"ptn\"),\n",
    "}"
   ]
  },
  {
   "cell_type": "code",
   "execution_count": 25,
   "id": "54a21829",
   "metadata": {
    "execution": {
     "iopub.execute_input": "2022-03-25T11:28:57.702468Z",
     "iopub.status.busy": "2022-03-25T11:28:57.702208Z",
     "iopub.status.idle": "2022-03-25T11:28:57.831704Z",
     "shell.execute_reply": "2022-03-25T11:28:57.832080Z"
    },
    "papermill": {
     "duration": 0.162564,
     "end_time": "2022-03-25T11:28:57.832188",
     "exception": false,
     "start_time": "2022-03-25T11:28:57.669624",
     "status": "completed"
    },
    "tags": []
   },
   "outputs": [
    {
     "data": {
      "image/png": "[encoded data removed]",
      "text/plain": [
       "<Figure size 1080x504 with 1 Axes>"
      ]
     },
     "metadata": {
      "needs_background": "light"
     },
     "output_type": "display_data"
    }
   ],
   "source": [
    "ax = get_loss_curve(experiment)\n",
    "plt.show()"
   ]
  },
  {
   "cell_type": "code",
   "execution_count": 26,
   "id": "fd8a0f60",
   "metadata": {
    "execution": {
     "iopub.execute_input": "2022-03-25T11:28:57.902382Z",
     "iopub.status.busy": "2022-03-25T11:28:57.902118Z",
     "iopub.status.idle": "2022-03-25T11:28:58.048445Z",
     "shell.execute_reply": "2022-03-25T11:28:58.048853Z"
    },
    "papermill": {
     "duration": 0.180334,
     "end_time": "2022-03-25T11:28:58.048971",
     "exception": false,
     "start_time": "2022-03-25T11:28:57.868637",
     "status": "completed"
    },
    "tags": []
   },
   "outputs": [
    {
     "data": {
      "text/plain": [
       "<AxesSubplot:title={'center':'Results'}>"
      ]
     },
     "execution_count": 26,
     "metadata": {},
     "output_type": "execute_result"
    },
    {
     "data": {
      "image/png": "[encoded data removed]",
      "text/plain": [
       "<Figure size 1080x504 with 1 Axes>"
      ]
     },
     "metadata": {
      "needs_background": "light"
     },
     "output_type": "display_data"
    }
   ],
   "source": [
    "get_results_table(experiment)"
   ]
  },
  {
   "cell_type": "code",
   "execution_count": 27,
   "id": "cf8dc689",
   "metadata": {
    "execution": {
     "iopub.execute_input": "2022-03-25T11:28:58.122298Z",
     "iopub.status.busy": "2022-03-25T11:28:58.122042Z",
     "iopub.status.idle": "2022-03-25T11:28:58.264183Z",
     "shell.execute_reply": "2022-03-25T11:28:58.263687Z"
    },
    "papermill": {
     "duration": 0.177159,
     "end_time": "2022-03-25T11:28:58.264281",
     "exception": false,
     "start_time": "2022-03-25T11:28:58.087122",
     "status": "completed"
    },
    "tags": []
   },
   "outputs": [
    {
     "data": {
      "text/plain": [
       "<AxesSubplot:title={'center':'Per Domain Validation Accuracy'}, xlabel='domain'>"
      ]
     },
     "execution_count": 27,
     "metadata": {},
     "output_type": "execute_result"
    },
    {
     "data": {
      "image/png": "[encoded data removed]",
      "text/plain": [
       "<Figure size 1080x504 with 1 Axes>"
      ]
     },
     "metadata": {
      "needs_background": "light"
     },
     "output_type": "display_data"
    }
   ],
   "source": [
    "get_domain_accuracies(experiment)"
   ]
  },
  {
   "cell_type": "code",
   "execution_count": 28,
   "id": "a74ae082",
   "metadata": {
    "execution": {
     "iopub.execute_input": "2022-03-25T11:28:58.339327Z",
     "iopub.status.busy": "2022-03-25T11:28:58.339076Z",
     "iopub.status.idle": "2022-03-25T11:28:58.353549Z",
     "shell.execute_reply": "2022-03-25T11:28:58.353200Z"
    },
    "papermill": {
     "duration": 0.050629,
     "end_time": "2022-03-25T11:28:58.353619",
     "exception": false,
     "start_time": "2022-03-25T11:28:58.302990",
     "status": "completed"
    },
    "tags": []
   },
   "outputs": [
    {
     "name": "stdout",
     "output_type": "stream",
     "text": [
      "Source Test Label Accuracy: 0.8236002604166667 Target Test Label Accuracy: 0.8433300671892497\n",
      "Source Val Label Accuracy: 0.82666015625 Target Val Label Accuracy: 0.8437857551487414\n"
     ]
    }
   ],
   "source": [
    "print(\"Source Test Label Accuracy:\", experiment[\"results\"][\"source_test_label_accuracy\"], \"Target Test Label Accuracy:\", experiment[\"results\"][\"target_test_label_accuracy\"])\n",
    "print(\"Source Val Label Accuracy:\", experiment[\"results\"][\"source_val_label_accuracy\"], \"Target Val Label Accuracy:\", experiment[\"results\"][\"target_val_label_accuracy\"])"
   ]
  },
  {
   "cell_type": "code",
   "execution_count": 29,
   "id": "dacca602",
   "metadata": {
    "execution": {
     "iopub.execute_input": "2022-03-25T11:28:58.426931Z",
     "iopub.status.busy": "2022-03-25T11:28:58.426674Z",
     "iopub.status.idle": "2022-03-25T11:28:58.439761Z",
     "shell.execute_reply": "2022-03-25T11:28:58.440134Z"
    },
    "papermill": {
     "duration": 0.049008,
     "end_time": "2022-03-25T11:28:58.440239",
     "exception": false,
     "start_time": "2022-03-25T11:28:58.391231",
     "status": "completed"
    },
    "tags": [
     "experiment_json"
    ]
   },
   "outputs": [
    {
     "data": {
      "text/plain": [
       "'{\"experiment_name\": \"tl_3Av2:oracle.run1.framed -> cores\", \"parameters\": {\"experiment_name\": \"tl_3Av2:oracle.run1.framed -> cores\", \"device\": \"cuda\", \"lr\": 0.0001, \"x_shape\": [2, 200], \"n_shot\": 3, \"n_query\": 2, \"train_k_factor\": 3, \"val_k_factor\": 2, \"test_k_factor\": 2, \"torch_default_dtype\": \"torch.float32\", \"n_epoch\": 50, \"patience\": 3, \"criteria_for_best\": \"target_accuracy\", \"x_net\": [{\"class\": \"nnReshape\", \"kargs\": {\"shape\": [-1, 1, 2, 200]}}, {\"class\": \"Conv2d\", \"kargs\": {\"in_channels\": 1, \"out_channels\": 256, \"kernel_size\": [1, 7], \"bias\": false, \"padding\": [0, 3]}}, {\"class\": \"ReLU\", \"kargs\": {\"inplace\": true}}, {\"class\": \"BatchNorm2d\", \"kargs\": {\"num_features\": 256}}, {\"class\": \"Conv2d\", \"kargs\": {\"in_channels\": 256, \"out_channels\": 80, \"kernel_size\": [2, 7], \"bias\": true, \"padding\": [0, 3]}}, {\"class\": \"ReLU\", \"kargs\": {\"inplace\": true}}, {\"class\": \"BatchNorm2d\", \"kargs\": {\"num_features\": 80}}, {\"class\": \"Flatten\", \"kargs\": {}}, {\"class\": \"Linear\", \"kargs\": {\"in_features\": 16000, \"out_features\": 256}}, {\"class\": \"ReLU\", \"kargs\": {\"inplace\": true}}, {\"class\": \"BatchNorm1d\", \"kargs\": {\"num_features\": 256}}, {\"class\": \"Linear\", \"kargs\": {\"in_features\": 256, \"out_features\": 256}}], \"NUM_LOGS_PER_EPOCH\": 10, \"BEST_MODEL_PATH\": \"./best_model.pth\", \"n_way\": 16, \"datasets\": [{\"labels\": [\"1-10.\", \"1-11.\", \"1-15.\", \"1-16.\", \"1-17.\", \"1-18.\", \"1-19.\", \"10-4.\", \"10-7.\", \"11-1.\", \"11-14.\", \"11-17.\", \"11-20.\", \"11-7.\", \"13-20.\", \"13-8.\", \"14-10.\", \"14-11.\", \"14-14.\", \"14-7.\", \"15-1.\", \"15-20.\", \"16-1.\", \"16-16.\", \"17-10.\", \"17-11.\", \"17-2.\", \"19-1.\", \"19-16.\", \"19-19.\", \"19-20.\", \"19-3.\", \"2-10.\", \"2-11.\", \"2-17.\", \"2-18.\", \"2-20.\", \"2-3.\", \"2-4.\", \"2-5.\", \"2-6.\", \"2-7.\", \"2-8.\", \"3-13.\", \"3-18.\", \"3-3.\", \"4-1.\", \"4-10.\", \"4-11.\", \"4-19.\", \"5-5.\", \"6-15.\", \"7-10.\", \"7-14.\", \"8-18.\", \"8-20.\", \"8-3.\", \"8-8.\"], \"domains\": [1, 2, 3, 4, 5], \"num_examples_per_domain_per_label\": -1, \"pickle_path\": \"/mnt/wd500GB/CSC500/csc500-main/datasets/cores.stratified_ds.2022A.pkl\", \"source_or_target_dataset\": \"target\", \"x_transforms\": [\"unit_mag\", \"take_200\"], \"episode_transforms\": [], \"domain_prefix\": \"C_\"}, {\"labels\": [\"3123D52\", \"3123D65\", \"3123D79\", \"3123D80\", \"3123D54\", \"3123D70\", \"3123D7B\", \"3123D89\", \"3123D58\", \"3123D76\", \"3123D7D\", \"3123EFE\", \"3123D64\", \"3123D78\", \"3123D7E\", \"3124E4A\"], \"domains\": [32, 38, 8, 44, 14, 50, 20, 26], \"num_examples_per_domain_per_label\": 2000, \"pickle_path\": \"/mnt/wd500GB/CSC500/csc500-main/datasets/oracle.Run1_framed_2000Examples_stratified_ds.2022A.pkl\", \"source_or_target_dataset\": \"source\", \"x_transforms\": [\"unit_mag\", \"take_200\", \"resample_20Msps_to_25Msps\"], \"episode_transforms\": [], \"domain_prefix\": \"O_\"}], \"seed\": 154325, \"dataset_seed\": 154325, \"domains_source\": [\"O_32\", \"O_38\", \"O_8\", \"O_44\", \"O_14\", \"O_50\", \"O_20\", \"O_26\"], \"domains_target\": [\"C_1\", \"C_2\", \"C_3\", \"C_4\", \"C_5\"]}, \"results\": {\"source_test_label_accuracy\": 0.8236002604166667, \"source_test_label_loss\": 0.48368319869041443, \"target_test_label_accuracy\": 0.8433300671892497, \"target_test_label_loss\": 1.330163836479187, \"source_val_label_accuracy\": 0.82666015625, \"source_val_label_loss\": 0.4746141731739044, \"target_val_label_accuracy\": 0.8437857551487414, \"target_val_label_loss\": 1.344351053237915, \"total_epochs_trained\": 8, \"total_experiment_time_secs\": 1366.4531807899475, \"confusion\": {\"O_8\": {\"13\": {\"10\": 29, \"13\": 110, \"4\": 41, \"0\": 46, \"14\": 10, \"6\": 3, \"7\": 1}, \"9\": {\"9\": 240}, \"15\": {\"15\": 226, \"12\": 13, \"8\": 1}, \"2\": {\"2\": 228, \"3\": 8, \"7\": 4}, \"3\": {\"3\": 233, \"12\": 3, \"2\": 4}, \"8\": {\"8\": 240}, \"5\": {\"5\": 232, \"14\": 3, \"10\": 2, \"1\": 3}, \"14\": {\"10\": 27, \"4\": 22, \"14\": 184, \"1\": 4, \"5\": 2, \"13\": 1}, \"1\": {\"1\": 237, \"14\": 2, \"11\": 1}, \"0\": {\"0\": 212, \"13\": 18, \"6\": 4, \"4\": 1, \"7\": 4, \"14\": 1}, \"10\": {\"10\": 217, \"14\": 13, \"13\": 6, \"4\": 4}, \"6\": {\"6\": 167, \"7\": 51, \"4\": 16, \"13\": 2, \"0\": 4}, \"11\": {\"11\": 229, \"1\": 11}, \"7\": {\"6\": 37, \"7\": 199, \"0\": 4}, \"4\": {\"4\": 177, \"6\": 14, \"13\": 32, \"10\": 2, \"14\": 15}, \"12\": {\"12\": 182, \"15\": 42, \"8\": 4, \"3\": 12}}, \"O_38\": {\"13\": {\"13\": 209, \"10\": 15, \"8\": 2, \"2\": 6, \"15\": 8}, \"12\": {\"12\": 235, \"4\": 5}, \"2\": {\"2\": 225, \"14\": 11, \"15\": 1, \"13\": 3}, \"9\": {\"9\": 219, \"6\": 15, \"5\": 5, \"3\": 1}, \"15\": {\"15\": 197, \"1\": 24, \"8\": 13, \"5\": 3, \"13\": 3}, \"5\": {\"5\": 129, \"8\": 51, \"6\": 5, \"15\": 6, \"7\": 33, \"0\": 6, \"9\": 6, \"10\": 2, \"13\": 1, \"1\": 1}, \"14\": {\"14\": 234, \"2\": 6}, \"0\": {\"0\": 177, \"10\": 8, \"3\": 13, \"7\": 16, \"8\": 23, \"9\": 1, \"13\": 1, \"5\": 1}, \"3\": {\"3\": 238, \"0\": 2}, \"1\": {\"1\": 228, \"15\": 12}, \"11\": {\"11\": 231, \"3\": 3, \"14\": 1, \"10\": 4, \"4\": 1}, \"7\": {\"7\": 213, \"0\": 4, \"5\": 17, \"8\": 6}, \"8\": {\"15\": 10, \"5\": 32, \"8\": 163, \"7\": 9, \"0\": 18, \"10\": 6, \"13\": 2}, \"4\": {\"4\": 239, \"12\": 1}, \"10\": {\"10\": 215, \"13\": 14, \"0\": 4, \"11\": 1, \"4\": 2, \"7\": 2, \"8\": 2}, \"6\": {\"9\": 4, \"6\": 236}}, \"O_26\": {\"10\": {\"0\": 57, \"10\": 122, \"8\": 23, \"15\": 3, \"14\": 21, \"1\": 1, \"6\": 8, \"4\": 3, \"9\": 1, \"7\": 1}, \"12\": {\"12\": 240}, \"1\": {\"1\": 196, \"14\": 24, \"7\": 3, \"4\": 8, \"10\": 6, \"8\": 2, \"3\": 1}, \"0\": {\"6\": 2, \"10\": 58, \"0\": 105, \"8\": 14, \"7\": 4, \"14\": 41, \"4\": 15, \"15\": 1}, \"15\": {\"6\": 8, \"15\": 150, \"9\": 50, \"8\": 11, \"5\": 3, \"7\": 5, \"13\": 6, \"2\": 5, \"0\": 1, \"10\": 1}, \"13\": {\"13\": 188, \"5\": 33, \"9\": 5, \"2\": 9, \"15\": 5}, \"8\": {\"8\": 122, \"6\": 4, \"4\": 16, \"9\": 1, \"0\": 24, \"14\": 10, \"10\": 36, \"7\": 16, \"15\": 10, \"2\": 1}, \"3\": {\"2\": 55, \"3\": 169, \"5\": 1, \"7\": 15}, \"11\": {\"11\": 240}, \"4\": {\"4\": 131, \"0\": 19, \"1\": 5, \"7\": 14, \"8\": 28, \"14\": 37, \"10\": 5, \"2\": 1}, \"6\": {\"6\": 213, \"9\": 17, \"8\": 2, \"10\": 2, \"15\": 6}, \"7\": {\"7\": 177, \"4\": 26, \"2\": 19, \"8\": 6, \"3\": 11, \"0\": 1}, \"14\": {\"0\": 35, \"1\": 23, \"14\": 119, \"10\": 12, \"4\": 38, \"7\": 4, \"8\": 9}, \"2\": {\"2\": 127, \"3\": 56, \"5\": 24, \"15\": 8, \"8\": 4, \"7\": 17, \"9\": 2, \"13\": 2}, \"5\": {\"5\": 209, \"15\": 1, \"13\": 16, \"2\": 10, \"9\": 3, \"7\": 1}, \"9\": {\"9\": 172, \"6\": 5, \"15\": 47, \"8\": 2, \"13\": 9, \"5\": 2, \"2\": 3}}, \"O_20\": {\"5\": {\"5\": 214, \"0\": 16, \"1\": 4, \"4\": 2, \"3\": 1, \"12\": 3}, \"15\": {\"15\": 210, \"0\": 14, \"1\": 11, \"5\": 5}, \"9\": {\"9\": 168, \"2\": 37, \"3\": 16, \"12\": 13, \"7\": 3, \"13\": 2, \"1\": 1}, \"7\": {\"4\": 2, \"7\": 217, \"9\": 2, \"3\": 5, \"2\": 12, \"8\": 2}, \"3\": {\"3\": 155, \"9\": 16, \"2\": 16, \"1\": 2, \"12\": 40, \"7\": 9, \"4\": 2}, \"8\": {\"8\": 220, \"7\": 7, \"4\": 11, \"6\": 1, \"14\": 1}, \"4\": {\"4\": 227, \"3\": 8, \"8\": 4, \"12\": 1}, \"6\": {\"6\": 227, \"14\": 13}, \"2\": {\"3\": 13, \"9\": 41, \"12\": 11, \"2\": 154, \"13\": 3, \"7\": 18}, \"12\": {\"12\": 144, \"3\": 41, \"1\": 41, \"13\": 1, \"2\": 7, \"5\": 3, \"7\": 1, \"9\": 2}, \"0\": {\"0\": 170, \"5\": 44, \"12\": 2, \"15\": 21, \"8\": 1, \"13\": 1, \"1\": 1}, \"13\": {\"13\": 220, \"2\": 15, \"15\": 1, \"12\": 2, \"5\": 1, \"1\": 1}, \"10\": {\"10\": 239, \"14\": 1}, \"11\": {\"11\": 240}, \"14\": {\"14\": 224, \"6\": 14, \"10\": 2}, \"1\": {\"1\": 190, \"12\": 35, \"15\": 7, \"5\": 6, \"3\": 1, \"13\": 1}}, \"O_50\": {\"1\": {\"1\": 196, \"15\": 27, \"6\": 3, \"4\": 8, \"11\": 2, \"5\": 2, \"0\": 1, \"13\": 1}, \"2\": {\"2\": 217, \"0\": 22, \"6\": 1}, \"8\": {\"8\": 233, \"3\": 6, \"10\": 1}, \"7\": {\"7\": 203, \"13\": 14, \"6\": 8, \"5\": 12, \"10\": 2, \"4\": 1}, \"14\": {\"14\": 240}, \"6\": {\"7\": 5, \"6\": 205, \"13\": 13, \"4\": 4, \"15\": 5, \"1\": 4, \"5\": 4}, \"3\": {\"3\": 239, \"8\": 1}, \"4\": {\"4\": 158, \"6\": 4, \"5\": 42, \"15\": 23, \"1\": 9, \"7\": 3, \"13\": 1}, \"12\": {\"12\": 220, \"11\": 6, \"9\": 13, \"14\": 1}, \"15\": {\"15\": 196, \"1\": 18, \"4\": 16, \"11\": 6, \"6\": 4}, \"11\": {\"11\": 215, \"15\": 17, \"14\": 1, \"12\": 2, \"9\": 5}, \"0\": {\"0\": 208, \"10\": 10, \"2\": 21, \"13\": 1}, \"9\": {\"9\": 218, \"12\": 8, \"11\": 14}, \"10\": {\"10\": 221, \"13\": 10, \"0\": 6, \"8\": 3}, \"5\": {\"5\": 149, \"13\": 23, \"4\": 31, \"1\": 12, \"6\": 3, \"7\": 21, \"10\": 1}, \"13\": {\"7\": 12, \"13\": 199, \"1\": 1, \"6\": 11, \"5\": 10, \"0\": 3, \"10\": 4}}, \"O_32\": {\"2\": {\"2\": 189, \"7\": 2, \"4\": 46, \"13\": 1, \"5\": 2}, \"6\": {\"6\": 240}, \"5\": {\"7\": 50, \"13\": 24, \"3\": 16, \"5\": 119, \"8\": 13, \"4\": 13, \"14\": 3, \"0\": 1, \"11\": 1}, \"12\": {\"12\": 240}, \"13\": {\"13\": 180, \"5\": 9, \"3\": 21, \"8\": 7, \"4\": 12, \"7\": 11}, \"9\": {\"9\": 238, \"12\": 2}, \"11\": {\"11\": 220, \"14\": 18, \"3\": 2}, \"1\": {\"1\": 240}, \"3\": {\"3\": 228, \"8\": 2, \"13\": 5, \"11\": 2, \"5\": 3}, \"7\": {\"7\": 147, \"4\": 13, \"5\": 50, \"3\": 1, \"14\": 11, \"11\": 5, \"13\": 8, \"8\": 2, \"0\": 3}, \"14\": {\"14\": 155, \"7\": 16, \"11\": 36, \"0\": 19, \"8\": 7, \"3\": 5, \"5\": 2}, \"8\": {\"8\": 196, \"5\": 10, \"13\": 10, \"0\": 17, \"14\": 5, \"7\": 2}, \"4\": {\"4\": 165, \"13\": 13, \"7\": 22, \"2\": 35, \"5\": 5}, \"0\": {\"0\": 199, \"8\": 18, \"13\": 3, \"14\": 12, \"7\": 5, \"5\": 3}, \"10\": {\"10\": 238, \"1\": 2}, \"15\": {\"15\": 240}}, \"O_44\": {\"13\": {\"13\": 160, \"6\": 43, \"9\": 31, \"4\": 1, \"11\": 4, \"7\": 1}, \"4\": {\"4\": 166, \"14\": 71, \"15\": 2, \"13\": 1}, \"6\": {\"6\": 165, \"13\": 41, \"9\": 28, \"11\": 2, \"7\": 4}, \"0\": {\"8\": 66, \"0\": 158, \"5\": 5, \"15\": 11}, \"10\": {\"10\": 198, \"1\": 20, \"2\": 15, \"12\": 7}, \"7\": {\"9\": 46, \"2\": 37, \"7\": 151, \"6\": 5, \"13\": 1}, \"14\": {\"15\": 11, \"4\": 69, \"14\": 150, \"5\": 10}, \"15\": {\"15\": 193, \"5\": 8, \"14\": 17, \"0\": 16, \"4\": 1, \"8\": 5}, \"5\": {\"5\": 211, \"0\": 15, \"14\": 6, \"8\": 2, \"15\": 6}, \"2\": {\"7\": 34, \"2\": 180, \"1\": 10, \"10\": 14, \"3\": 1, \"6\": 1}, \"9\": {\"9\": 139, \"7\": 42, \"13\": 25, \"6\": 29, \"2\": 5}, \"12\": {\"12\": 200, \"1\": 33, \"10\": 6, \"3\": 1}, \"8\": {\"8\": 145, \"0\": 83, \"15\": 7, \"5\": 5}, \"3\": {\"3\": 225, \"1\": 12, \"12\": 2, \"2\": 1}, \"1\": {\"12\": 30, \"3\": 16, \"1\": 165, \"2\": 10, \"10\": 18, \"7\": 1}, \"11\": {\"11\": 237, \"6\": 1, \"13\": 2}}, \"O_14\": {\"1\": {\"5\": 10, \"1\": 230}, \"15\": {\"15\": 240}, \"10\": {\"10\": 240}, \"2\": {\"3\": 19, \"2\": 149, \"14\": 39, \"5\": 16, \"6\": 8, \"13\": 7, \"15\": 1, \"4\": 1}, \"9\": {\"9\": 240}, \"5\": {\"2\": 10, \"5\": 183, \"4\": 23, \"1\": 20, \"3\": 2, \"7\": 2}, \"7\": {\"7\": 240}, \"13\": {\"13\": 113, \"15\": 2, \"6\": 76, \"14\": 30, \"2\": 13, \"4\": 2, \"5\": 2, \"3\": 2}, \"8\": {\"8\": 240}, \"6\": {\"6\": 181, \"13\": 53, \"14\": 3, \"2\": 3}, \"3\": {\"3\": 227, \"2\": 7, \"14\": 4, \"4\": 2}, \"12\": {\"12\": 240}, \"0\": {\"0\": 230, \"11\": 2, \"10\": 5, \"3\": 3}, \"4\": {\"4\": 216, \"5\": 20, \"1\": 1, \"13\": 1, \"2\": 2}, \"14\": {\"14\": 205, \"2\": 23, \"6\": 2, \"13\": 9, \"3\": 1}, \"11\": {\"11\": 227, \"9\": 11, \"0\": 2}}, \"C_2\": {\"21\": {\"21\": 101, \"34\": 1, \"53\": 6, \"3\": 1, \"54\": 3, \"51\": 3, \"46\": 2, \"50\": 1, \"17\": 1, \"1\": 1}, \"4\": {\"4\": 117, \"9\": 10, \"40\": 2, \"45\": 1}, \"6\": {\"6\": 81, \"48\": 12, \"39\": 2, \"34\": 3, \"17\": 6, \"46\": 6, \"50\": 3, \"3\": 4, \"30\": 2, \"4\": 1, \"18\": 2, \"54\": 1, \"23\": 1}, \"10\": {\"10\": 104, \"24\": 6, \"11\": 2}, \"33\": {\"33\": 26, \"19\": 1, \"29\": 1}, \"56\": {\"56\": 100, \"14\": 1, \"22\": 14, \"10\": 2, \"44\": 1, \"24\": 1, \"43\": 2, \"1\": 1}, \"20\": {\"20\": 118, \"12\": 1, \"8\": 4, \"53\": 6, \"50\": 2, \"51\": 1}, \"24\": {\"24\": 90, \"10\": 2, \"43\": 4}, \"45\": {\"4\": 15, \"54\": 9, \"45\": 55, \"3\": 3, \"36\": 4, \"12\": 7, \"27\": 4, \"48\": 1, \"50\": 5, \"6\": 3, \"51\": 4, \"8\": 1, \"40\": 4, \"53\": 2, \"20\": 1, \"19\": 1, \"9\": 5, \"32\": 1, \"25\": 3}, \"32\": {\"32\": 28}, \"27\": {\"27\": 144, \"8\": 3, \"36\": 1}, \"53\": {\"53\": 127, \"51\": 9}, \"8\": {\"8\": 148, \"50\": 5, \"20\": 1, \"54\": 2, \"12\": 2, \"27\": 2}, \"54\": {\"50\": 6, \"54\": 102}, \"50\": {\"50\": 84, \"54\": 13, \"8\": 3, \"6\": 10, \"3\": 3, \"42\": 1, \"53\": 3, \"36\": 7, \"25\": 3, \"34\": 1, \"12\": 1, \"26\": 1, \"27\": 2, \"46\": 1, \"45\": 1}, \"44\": {\"44\": 85, \"40\": 3, \"19\": 8, \"3\": 1, \"53\": 1, \"9\": 1, \"51\": 1}, \"5\": {\"5\": 93, \"42\": 1, \"1\": 4, \"47\": 6, \"46\": 4, \"57\": 5, \"3\": 1, \"55\": 5, \"28\": 1}, \"38\": {\"38\": 19, \"10\": 1}, \"19\": {\"19\": 114, \"55\": 2, \"4\": 4, \"9\": 8, \"40\": 2, \"52\": 1, \"44\": 1}, \"1\": {\"1\": 90, \"47\": 9, \"42\": 1, \"57\": 2, \"46\": 2, \"50\": 1, \"55\": 3, \"5\": 2, \"3\": 1, \"48\": 1}, \"30\": {\"30\": 139, \"52\": 1, \"18\": 2, \"3\": 1, \"23\": 1}, \"15\": {\"15\": 126, \"16\": 6, \"23\": 7, \"11\": 3, \"43\": 2}, \"23\": {\"23\": 136, \"18\": 5, \"48\": 1, \"30\": 3, \"15\": 1}, \"35\": {\"35\": 32}, \"22\": {\"22\": 105, \"56\": 21, \"10\": 1, \"43\": 1}, \"40\": {\"40\": 116, \"44\": 4, \"9\": 2, \"19\": 15, \"45\": 1, \"4\": 1, \"29\": 1}, \"46\": {\"46\": 87, \"39\": 5, \"49\": 1, \"2\": 1, \"47\": 1, \"17\": 1, \"55\": 3, \"51\": 1, \"57\": 5, \"1\": 2, \"50\": 4, \"0\": 2, \"6\": 2, \"3\": 1, \"7\": 1, \"9\": 1, \"48\": 4, \"52\": 1, \"53\": 2, \"5\": 1}, \"3\": {\"3\": 49, \"49\": 2, \"25\": 1, \"36\": 2, \"33\": 1, \"51\": 4, \"17\": 2, \"34\": 2, \"4\": 5, \"53\": 2, \"54\": 2, \"46\": 5, \"6\": 8, \"39\": 1, \"9\": 2, \"55\": 1, \"7\": 1, \"29\": 1, \"20\": 1}, \"48\": {\"52\": 7, \"48\": 126, \"2\": 2, \"23\": 2, \"18\": 1, \"3\": 1, \"6\": 4, \"46\": 1, \"57\": 1, \"28\": 1, \"0\": 1, \"47\": 1}, \"52\": {\"52\": 121, \"23\": 1, \"15\": 1, \"11\": 1}, \"2\": {\"2\": 31, \"21\": 1}, \"26\": {\"26\": 22, \"25\": 1, \"12\": 1}, \"17\": {\"17\": 98, \"48\": 4, \"45\": 1, \"6\": 1}, \"55\": {\"42\": 1, \"55\": 116, \"47\": 6, \"7\": 2, \"46\": 7, \"5\": 4, \"1\": 2, \"2\": 3, \"48\": 2, \"31\": 1}, \"51\": {\"51\": 107, \"53\": 11, \"21\": 2, \"54\": 2}, \"42\": {\"42\": 26, \"55\": 1, \"17\": 2, \"9\": 1, \"7\": 1, \"2\": 1, \"21\": 1, \"1\": 1, \"49\": 1, \"31\": 1}, \"41\": {\"41\": 19, \"46\": 1}, \"31\": {\"31\": 26, \"5\": 1, \"7\": 1}, \"16\": {\"16\": 115, \"28\": 4, \"18\": 2, \"43\": 1, \"15\": 2, \"11\": 4, \"52\": 3, \"47\": 2, \"46\": 2, \"23\": 3}, \"36\": {\"36\": 115, \"54\": 1}, \"49\": {\"49\": 16, \"6\": 1, \"34\": 5, \"2\": 1, \"50\": 1}, \"0\": {\"0\": 36, \"23\": 3, \"28\": 2, \"48\": 1, \"5\": 1, \"15\": 1, \"47\": 3, \"39\": 1}, \"18\": {\"18\": 41, \"30\": 5, \"23\": 2}, \"25\": {\"25\": 135, \"3\": 3, \"34\": 1, \"6\": 2, \"50\": 5}, \"9\": {\"9\": 114, \"46\": 1, \"40\": 2, \"19\": 2, \"29\": 1, \"51\": 1, \"20\": 1}, \"47\": {\"47\": 91, \"14\": 1, \"1\": 4, \"39\": 2, \"7\": 1, \"5\": 14, \"55\": 1, \"57\": 8, \"46\": 6, \"2\": 1, \"52\": 2, \"48\": 1}, \"7\": {\"7\": 33, \"5\": 1, \"31\": 1, \"47\": 1}, \"37\": {\"37\": 36}, \"13\": {\"13\": 114, \"38\": 1, \"29\": 1}, \"14\": {\"13\": 2, \"56\": 1, \"33\": 1, \"29\": 1, \"24\": 1, \"40\": 2, \"9\": 1, \"10\": 4, \"14\": 7, \"11\": 1, \"43\": 1, \"5\": 2}, \"34\": {\"34\": 26, \"6\": 1, \"49\": 1}, \"57\": {\"57\": 133, \"5\": 2, \"47\": 2, \"52\": 2, \"1\": 1}, \"11\": {\"11\": 110, \"16\": 8, \"15\": 4, \"43\": 5, \"5\": 2, \"52\": 6, \"47\": 1, \"24\": 2}, \"39\": {\"39\": 28}, \"12\": {\"12\": 91, \"8\": 1}, \"28\": {\"28\": 28}, \"29\": {\"29\": 115, \"55\": 3, \"9\": 7, \"46\": 1, \"50\": 1, \"1\": 1}, \"43\": {\"43\": 134, \"24\": 4, \"11\": 2}}, \"C_5\": {\"12\": {\"12\": 74, \"1\": 2, \"38\": 3, \"6\": 2, \"32\": 1, \"30\": 5, \"45\": 1, \"17\": 2, \"8\": 1, \"7\": 4, \"55\": 1}, \"8\": {\"8\": 128, \"6\": 3, \"17\": 3, \"20\": 4, \"53\": 3, \"51\": 1}, \"29\": {\"29\": 107, \"35\": 3, \"47\": 1, \"28\": 2, \"22\": 1, \"44\": 5, \"5\": 1, \"15\": 1, \"50\": 2, \"40\": 1, \"19\": 6, \"36\": 1, \"43\": 1}, \"57\": {\"57\": 119, \"47\": 3, \"18\": 1, \"46\": 3}, \"38\": {\"38\": 32}, \"23\": {\"23\": 120, \"18\": 2, \"52\": 1, \"54\": 1}, \"56\": {\"56\": 121, \"10\": 2, \"35\": 2, \"15\": 3, \"24\": 3, \"11\": 5, \"13\": 2}, \"49\": {\"49\": 35, \"31\": 1}, \"4\": {\"4\": 88, \"26\": 2, \"12\": 1, \"9\": 2, \"45\": 1, \"55\": 1, \"50\": 1, \"7\": 1, \"19\": 2, \"25\": 1}, \"48\": {\"48\": 103, \"32\": 2, \"27\": 2, \"1\": 12, \"6\": 9, \"55\": 3, \"17\": 2, \"45\": 1, \"9\": 2}, \"21\": {\"21\": 137, \"53\": 3, \"50\": 2, \"52\": 1, \"51\": 1}, \"30\": {\"30\": 113, \"45\": 2, \"6\": 2, \"25\": 1, \"1\": 2, \"17\": 5, \"8\": 3}, \"1\": {\"48\": 23, \"1\": 98, \"47\": 1, \"18\": 4, \"9\": 7, \"54\": 3, \"52\": 1, \"23\": 2, \"6\": 6, \"27\": 2, \"55\": 1}, \"34\": {\"34\": 35, \"52\": 1}, \"35\": {\"35\": 33, \"56\": 1, \"31\": 2}, \"55\": {\"48\": 3, \"55\": 114, \"32\": 1, \"9\": 12, \"50\": 1, \"27\": 9, \"45\": 2, \"1\": 4, \"19\": 1, \"17\": 2, \"20\": 1, \"6\": 2}, \"5\": {\"5\": 101, \"44\": 8, \"50\": 1, \"40\": 6, \"29\": 2, \"19\": 3, \"22\": 1}, \"52\": {\"52\": 116, \"46\": 4, \"54\": 2, \"43\": 1, \"23\": 2, \"36\": 1}, \"6\": {\"1\": 16, \"6\": 85, \"50\": 4, \"9\": 1, \"39\": 1, \"25\": 5, \"45\": 3, \"17\": 4, \"48\": 5, \"8\": 1, \"27\": 1, \"55\": 1, \"20\": 1}, \"36\": {\"3\": 4, \"36\": 77, \"47\": 4, \"57\": 1, \"54\": 6}, \"41\": {\"41\": 27, \"36\": 1}, \"3\": {\"36\": 8, \"3\": 54, \"46\": 12, \"43\": 1, \"0\": 9, \"57\": 3, \"49\": 3, \"47\": 8, \"14\": 1, \"52\": 1}, \"28\": {\"28\": 27, \"14\": 1, \"19\": 1, \"36\": 1, \"47\": 1, \"44\": 1}, \"18\": {\"18\": 56, \"23\": 3, \"54\": 1, \"42\": 2, \"39\": 1, \"57\": 1}, \"25\": {\"25\": 116, \"47\": 1, \"20\": 6, \"45\": 2, \"50\": 4, \"6\": 4, \"8\": 2, \"9\": 1}, \"47\": {\"3\": 4, \"47\": 78, \"36\": 4, \"54\": 3, \"57\": 3, \"23\": 2, \"49\": 1, \"19\": 2, \"50\": 1, \"52\": 2}, \"13\": {\"13\": 139, \"2\": 1, \"24\": 7, \"22\": 1, \"40\": 1, \"5\": 2, \"11\": 1, \"56\": 2, \"44\": 2, \"10\": 1, \"29\": 1, \"43\": 2}, \"11\": {\"11\": 114, \"43\": 8, \"16\": 5, \"15\": 7, \"0\": 2, \"46\": 1, \"52\": 3, \"2\": 1, \"3\": 3}, \"53\": {\"53\": 132, \"20\": 6, \"30\": 1, \"27\": 1, \"8\": 1, \"51\": 1, \"4\": 1, \"50\": 1}, \"33\": {\"33\": 26, \"19\": 5, \"29\": 1}, \"46\": {\"46\": 113, \"2\": 2, \"47\": 3, \"24\": 1, \"0\": 10, \"36\": 2, \"3\": 8, \"57\": 1, \"23\": 1, \"52\": 1, \"14\": 2, \"31\": 2, \"54\": 1, \"16\": 1}, \"50\": {\"50\": 57, \"27\": 5, \"25\": 12, \"8\": 1, \"33\": 1, \"54\": 7, \"41\": 1, \"39\": 1, \"53\": 3, \"29\": 2, \"40\": 1, \"32\": 1, \"48\": 2, \"45\": 3, \"9\": 10, \"20\": 6, \"55\": 4, \"36\": 2, \"19\": 5, \"1\": 1, \"6\": 8, \"51\": 11, \"47\": 1, \"14\": 1, \"21\": 1, \"44\": 1}, \"10\": {\"10\": 67, \"13\": 1}, \"15\": {\"15\": 122, \"11\": 8, \"24\": 3, \"43\": 2, \"16\": 3}, \"44\": {\"44\": 106, \"35\": 1, \"19\": 4, \"5\": 6, \"40\": 11, \"29\": 9, \"54\": 1, \"13\": 2}, \"2\": {\"13\": 1, \"2\": 23, \"49\": 1, \"35\": 1, \"47\": 1, \"31\": 1}, \"7\": {\"7\": 27, \"26\": 1, \"51\": 2, \"55\": 1, \"32\": 1}, \"43\": {\"43\": 123, \"11\": 4, \"3\": 1, \"13\": 1, \"15\": 1, \"52\": 3, \"24\": 2, \"16\": 3}, \"32\": {\"32\": 24, \"53\": 1, \"55\": 1, \"45\": 2, \"1\": 2, \"48\": 2}, \"0\": {\"3\": 6, \"0\": 93, \"46\": 11, \"24\": 3, \"11\": 5, \"14\": 1, \"57\": 1, \"54\": 1, \"47\": 2, \"43\": 1}, \"39\": {\"39\": 20}, \"26\": {\"26\": 22, \"38\": 2}, \"27\": {\"27\": 80, \"17\": 1, \"9\": 18, \"50\": 2, \"55\": 8, \"48\": 2, \"45\": 1}, \"54\": {\"54\": 112}, \"17\": {\"17\": 103, \"6\": 2, \"48\": 3, \"30\": 7, \"1\": 1}, \"14\": {\"43\": 2, \"34\": 3, \"14\": 20, \"2\": 2, \"37\": 2, \"28\": 1, \"3\": 1, \"50\": 2, \"1\": 1, \"20\": 1, \"27\": 1, \"45\": 1, \"52\": 2, \"11\": 1, \"54\": 1, \"46\": 1, \"33\": 1, \"21\": 1}, \"16\": {\"43\": 4, \"16\": 119, \"23\": 1, \"11\": 7, \"46\": 6, \"15\": 4, \"52\": 3, \"24\": 1, \"54\": 1, \"3\": 2}, \"9\": {\"9\": 128, \"12\": 1, \"32\": 2, \"4\": 2, \"53\": 2, \"45\": 1, \"20\": 1, \"27\": 4, \"17\": 1, \"21\": 1, \"55\": 2, \"48\": 2, \"50\": 1}, \"19\": {\"19\": 142, \"33\": 2, \"29\": 6, \"50\": 1, \"5\": 1}, \"20\": {\"20\": 113, \"53\": 12, \"8\": 4, \"51\": 8, \"21\": 1}, \"37\": {\"37\": 23, \"14\": 1}, \"24\": {\"24\": 74, \"43\": 1, \"15\": 2, \"11\": 3}, \"40\": {\"40\": 79, \"28\": 1, \"4\": 2, \"29\": 7, \"33\": 1, \"5\": 9, \"44\": 10, \"19\": 6, \"9\": 2, \"51\": 1, \"34\": 1, \"7\": 1, \"47\": 1, \"21\": 1}, \"45\": {\"53\": 2, \"6\": 9, \"45\": 63, \"26\": 1, \"4\": 2, \"25\": 10, \"9\": 11, \"27\": 7, \"50\": 6, \"55\": 4, \"30\": 2, \"20\": 1, \"39\": 1, \"32\": 1, \"19\": 1, \"8\": 2, \"1\": 1}, \"22\": {\"22\": 25, \"44\": 2, \"35\": 1}, \"42\": {\"42\": 38, \"56\": 2}, \"51\": {\"51\": 107, \"50\": 1, \"45\": 2, \"9\": 2, \"53\": 4, \"21\": 1, \"5\": 1}, \"31\": {\"31\": 33, \"49\": 2, \"46\": 1}}, \"C_1\": {\"27\": {\"27\": 138, \"31\": 1, \"11\": 1, \"22\": 1, \"15\": 1}, \"2\": {\"2\": 36}, \"33\": {\"33\": 32}, \"45\": {\"33\": 1, \"45\": 146, \"42\": 4, \"1\": 1, \"56\": 1, \"19\": 1, \"25\": 1, \"57\": 1}, \"38\": {\"38\": 17, \"34\": 2, \"0\": 2, \"28\": 1, \"52\": 1, \"32\": 1}, \"4\": {\"4\": 126, \"2\": 1, \"51\": 2, \"46\": 1, \"40\": 1, \"53\": 1}, \"31\": {\"31\": 25, \"22\": 3}, \"55\": {\"55\": 111, \"45\": 3, \"54\": 13, \"9\": 1, \"42\": 1, \"33\": 1, \"24\": 1, \"19\": 1, \"1\": 3, \"13\": 1, \"34\": 1, \"52\": 1, \"56\": 1, \"0\": 1}, \"32\": {\"38\": 2, \"32\": 30}, \"57\": {\"57\": 95, \"19\": 14, \"1\": 11, \"56\": 17, \"3\": 1, \"55\": 1, \"7\": 1}, \"14\": {\"14\": 10, \"30\": 1, \"8\": 5, \"51\": 3, \"9\": 4, \"53\": 1}, \"16\": {\"16\": 121, \"37\": 1, \"54\": 4, \"0\": 6, \"55\": 6, \"36\": 1, \"22\": 1}, \"34\": {\"34\": 24}, \"56\": {\"55\": 5, \"57\": 21, \"56\": 65, \"19\": 14, \"45\": 2, \"1\": 6, \"29\": 1, \"22\": 1, \"47\": 1, \"44\": 6, \"49\": 2, \"28\": 1, \"24\": 1}, \"24\": {\"24\": 89, \"22\": 11, \"11\": 5, \"52\": 1, \"49\": 1, \"55\": 1}, \"30\": {\"45\": 1, \"30\": 101, \"17\": 1, \"2\": 1, \"18\": 1, \"46\": 2, \"9\": 3, \"8\": 2}, \"17\": {\"17\": 59, \"8\": 2, \"5\": 1, \"46\": 1, \"2\": 1}, \"13\": {\"13\": 121, \"51\": 6, \"3\": 6, \"20\": 2, \"55\": 1, \"12\": 1, \"40\": 1}, \"39\": {\"39\": 25, \"27\": 2, \"28\": 1}, \"50\": {\"50\": 145, \"5\": 1}, \"20\": {\"20\": 119, \"12\": 6, \"51\": 8, \"13\": 5, \"28\": 1, \"55\": 1}, \"41\": {\"41\": 24}, \"53\": {\"53\": 124, \"14\": 2}, \"48\": {\"48\": 125, \"8\": 2, \"17\": 1, \"6\": 6, \"50\": 5, \"5\": 2, \"2\": 1}, \"36\": {\"36\": 54, \"23\": 1, \"55\": 1, \"22\": 3, \"16\": 3, \"15\": 1, \"0\": 1}, \"8\": {\"17\": 5, \"8\": 118, \"14\": 1, \"6\": 4, \"30\": 4, \"48\": 3, \"5\": 3, \"46\": 1, \"9\": 1}, \"15\": {\"24\": 1, \"15\": 102, \"11\": 7, \"21\": 4, \"23\": 12, \"22\": 5, \"52\": 1}, \"40\": {\"40\": 137, \"12\": 1, \"51\": 1, \"4\": 4, \"29\": 6, \"56\": 1, \"55\": 1, \"53\": 1, \"20\": 1, \"13\": 2, \"46\": 1}, \"37\": {\"37\": 32}, \"21\": {\"21\": 119, \"15\": 1}, \"35\": {\"35\": 33, \"1\": 1, \"44\": 2}, \"49\": {\"49\": 30, \"28\": 1, \"23\": 1}, \"26\": {\"26\": 24}, \"28\": {\"28\": 28}, \"12\": {\"12\": 105, \"13\": 2, \"32\": 1, \"20\": 5, \"14\": 1, \"51\": 2}, \"5\": {\"5\": 105, \"14\": 1, \"6\": 6, \"46\": 5, \"48\": 16, \"17\": 2, \"25\": 3, \"53\": 2, \"8\": 4, \"50\": 5, \"9\": 2, \"2\": 1}, \"29\": {\"29\": 89, \"35\": 1, \"47\": 4, \"3\": 3, \"57\": 8, \"20\": 2, \"56\": 9, \"1\": 2, \"44\": 9, \"40\": 8, \"45\": 1, \"55\": 2, \"19\": 1, \"46\": 1}, \"47\": {\"47\": 109, \"57\": 1, \"44\": 11, \"19\": 4, \"56\": 5, \"39\": 1, \"22\": 1, \"43\": 2, \"52\": 2, \"27\": 1, \"55\": 2, \"3\": 1}, \"10\": {\"10\": 78, \"21\": 1, \"24\": 2, \"43\": 1, \"11\": 5, \"15\": 7, \"23\": 2}, \"18\": {\"18\": 63, \"7\": 1, \"33\": 1, \"26\": 2, \"9\": 1, \"50\": 1, \"30\": 1, \"54\": 1, \"8\": 1}, \"9\": {\"9\": 126}, \"3\": {\"3\": 91, \"12\": 2, \"29\": 7, \"13\": 11, \"45\": 4, \"7\": 1, \"44\": 6, \"47\": 1, \"54\": 2, \"51\": 4, \"52\": 1, \"25\": 2, \"40\": 1, \"20\": 1, \"42\": 1, \"1\": 1, \"55\": 3, \"57\": 1}, \"52\": {\"52\": 117, \"24\": 3, \"11\": 2, \"22\": 7, \"0\": 1, \"55\": 1, \"15\": 1}, \"25\": {\"25\": 129, \"9\": 5, \"45\": 2}, \"19\": {\"19\": 135, \"57\": 4, \"1\": 5, \"45\": 1, \"56\": 6, \"55\": 2, \"29\": 1, \"26\": 1, \"44\": 1}, \"11\": {\"11\": 95, \"10\": 5, \"15\": 17, \"22\": 11, \"24\": 5, \"52\": 1, \"21\": 1, \"45\": 1}, \"7\": {\"7\": 28}, \"23\": {\"23\": 132, \"15\": 3, \"22\": 1}, \"44\": {\"1\": 3, \"44\": 82, \"56\": 7, \"28\": 1, \"24\": 5, \"57\": 4, \"55\": 3, \"45\": 3, \"35\": 2, \"54\": 1, \"3\": 4, \"47\": 8, \"20\": 1, \"19\": 5, \"52\": 1, \"29\": 1, \"22\": 1}, \"42\": {\"42\": 35, \"57\": 1, \"45\": 3, \"56\": 1}, \"54\": {\"54\": 103, \"55\": 1}, \"1\": {\"1\": 83, \"56\": 4, \"57\": 6, \"19\": 3, \"55\": 1, \"45\": 1, \"35\": 1, \"0\": 1}, \"46\": {\"6\": 6, \"46\": 85, \"14\": 1, \"5\": 6, \"17\": 3, \"4\": 2, \"9\": 2, \"30\": 1, \"48\": 7, \"20\": 1, \"50\": 2, \"40\": 3, \"8\": 4, \"25\": 2, \"3\": 1, \"51\": 1, \"12\": 1}, \"6\": {\"2\": 2, \"46\": 4, \"6\": 66, \"17\": 5, \"8\": 9, \"48\": 2, \"50\": 2, \"5\": 3, \"30\": 2, \"25\": 1}, \"43\": {\"43\": 138, \"39\": 2, \"52\": 1, \"27\": 2, \"24\": 1}, \"51\": {\"51\": 131, \"20\": 5, \"13\": 1, \"12\": 1, \"55\": 1, \"53\": 3}, \"22\": {\"22\": 126, \"15\": 1, \"24\": 4, \"11\": 2, \"36\": 1, \"27\": 1, \"23\": 1}, \"0\": {\"0\": 120, \"54\": 3, \"24\": 1, \"16\": 1, \"22\": 2, \"15\": 1}}, \"C_4\": {\"32\": {\"46\": 1, \"32\": 23}, \"2\": {\"2\": 33, \"13\": 1, \"1\": 1, \"24\": 1}, \"41\": {\"41\": 36}, \"11\": {\"11\": 67, \"57\": 1, \"52\": 1, \"35\": 1, \"24\": 5, \"15\": 21, \"29\": 1, \"46\": 1, \"43\": 3, \"3\": 1}, \"57\": {\"57\": 98, \"1\": 2}, \"6\": {\"6\": 67, \"3\": 17, \"55\": 2, \"47\": 2, \"48\": 3, \"52\": 1, \"36\": 4, \"54\": 3, \"17\": 2, \"5\": 3, \"31\": 1, \"39\": 1, \"9\": 1, \"16\": 1, \"4\": 1, \"46\": 2, \"25\": 1}, \"23\": {\"23\": 128, \"18\": 6, \"5\": 1, \"41\": 1}, \"52\": {\"52\": 105, \"23\": 6, \"47\": 1, \"0\": 1, \"18\": 2, \"54\": 1}, \"38\": {\"38\": 40}, \"50\": {\"20\": 7, \"50\": 46, \"28\": 2, \"51\": 12, \"4\": 5, \"9\": 5, \"34\": 2, \"26\": 1, \"53\": 9, \"17\": 4, \"8\": 4, \"36\": 1, \"3\": 7, \"54\": 1, \"6\": 5, \"27\": 6, \"48\": 5, \"25\": 4, \"19\": 1, \"21\": 2, \"12\": 2, \"45\": 1}, \"55\": {\"55\": 140, \"28\": 1, \"29\": 1, \"5\": 3, \"4\": 1, \"47\": 3, \"35\": 1, \"54\": 1, \"48\": 1}, \"46\": {\"52\": 1, \"49\": 2, \"1\": 4, \"46\": 93, \"47\": 11, \"5\": 16, \"24\": 3, \"22\": 2, \"0\": 9, \"48\": 1, \"11\": 2, \"54\": 2, \"6\": 2, \"23\": 1, \"32\": 1, \"16\": 3, \"55\": 1}, \"37\": {\"37\": 22, \"53\": 1, \"55\": 1}, \"20\": {\"50\": 5, \"20\": 101, \"53\": 5, \"30\": 1, \"6\": 1, \"51\": 2, \"21\": 3}, \"49\": {\"49\": 19, \"1\": 1}, \"45\": {\"45\": 75, \"12\": 5, \"8\": 1, \"4\": 3, \"53\": 1, \"17\": 1, \"9\": 6, \"50\": 1, \"30\": 1, \"51\": 1, \"27\": 1}, \"54\": {\"54\": 106, \"25\": 2}, \"3\": {\"3\": 99, \"53\": 1, \"50\": 1, \"54\": 3, \"6\": 15, \"36\": 1, \"21\": 1, \"25\": 2, \"18\": 1}, \"13\": {\"13\": 149, \"56\": 2, \"10\": 1}, \"18\": {\"23\": 10, \"18\": 93, \"54\": 2, \"47\": 1, \"6\": 1, \"5\": 1}, \"21\": {\"21\": 121, \"51\": 1, \"20\": 2, \"45\": 1, \"53\": 1}, \"43\": {\"43\": 142, \"11\": 1, \"24\": 1}, \"47\": {\"55\": 4, \"47\": 100, \"1\": 1, \"46\": 5, \"5\": 5, \"57\": 1, \"32\": 1, \"54\": 3}, \"4\": {\"4\": 117, \"9\": 8, \"51\": 3, \"20\": 1, \"53\": 2, \"50\": 1}, \"12\": {\"12\": 84, \"21\": 4, \"50\": 2, \"17\": 1, \"27\": 1}, \"9\": {\"9\": 118, \"26\": 1, \"53\": 1, \"4\": 1, \"51\": 2, \"50\": 4, \"30\": 1}, \"7\": {\"7\": 23, \"49\": 1}, \"56\": {\"56\": 100, \"22\": 3, \"35\": 4, \"29\": 1, \"43\": 1, \"13\": 1, \"10\": 1, \"19\": 1}, \"28\": {\"28\": 27, \"26\": 1, \"55\": 4}, \"44\": {\"44\": 106, \"19\": 13, \"40\": 7, \"29\": 1, \"4\": 3, \"53\": 2}, \"24\": {\"24\": 49, \"43\": 2, \"16\": 1, \"0\": 1, \"10\": 1, \"15\": 1, \"6\": 1}, \"33\": {\"33\": 31, \"19\": 3, \"40\": 1, \"44\": 1}, \"35\": {\"55\": 2, \"35\": 36, \"29\": 2}, \"51\": {\"51\": 109, \"53\": 22, \"44\": 1, \"54\": 1, \"20\": 4, \"50\": 1}, \"39\": {\"39\": 14, \"47\": 1, \"23\": 1, \"18\": 2, \"54\": 1, \"42\": 1}, \"36\": {\"36\": 88, \"53\": 1, \"4\": 1, \"34\": 2}, \"19\": {\"19\": 113, \"55\": 4, \"44\": 5, \"40\": 12, \"4\": 2, \"42\": 1, \"29\": 1, \"9\": 1, \"53\": 1}, \"0\": {\"0\": 55, \"46\": 11, \"24\": 3, \"55\": 2, \"5\": 5, \"6\": 1, \"47\": 2, \"22\": 1}, \"15\": {\"15\": 121, \"11\": 6, \"52\": 1, \"43\": 2, \"16\": 5, \"5\": 1}, \"29\": {\"29\": 107, \"1\": 1, \"57\": 4, \"55\": 1, \"19\": 2, \"3\": 1, \"31\": 1, \"56\": 1, \"28\": 2, \"40\": 1, \"6\": 1, \"4\": 1, \"47\": 1}, \"30\": {\"30\": 39, \"8\": 3, \"27\": 1, \"50\": 1}, \"1\": {\"1\": 40}, \"22\": {\"46\": 2, \"22\": 107, \"38\": 6, \"43\": 4, \"24\": 2, \"11\": 1, \"57\": 1, \"10\": 3, \"14\": 1, \"13\": 1}, \"40\": {\"28\": 1, \"40\": 94, \"51\": 2, \"19\": 33, \"4\": 3, \"44\": 9, \"33\": 2, \"53\": 2}, \"8\": {\"8\": 121, \"30\": 2, \"27\": 2, \"50\": 3}, \"53\": {\"53\": 117, \"51\": 17, \"20\": 2, \"50\": 2}, \"34\": {\"34\": 23, \"25\": 1}, \"10\": {\"10\": 117, \"44\": 1, \"24\": 1, \"13\": 2, \"22\": 1}, \"31\": {\"31\": 28}, \"17\": {\"17\": 75, \"48\": 3, \"4\": 1, \"53\": 1}, \"16\": {\"16\": 72, \"41\": 1, \"52\": 2, \"43\": 2, \"0\": 1, \"47\": 1, \"54\": 1, \"11\": 5, \"15\": 9, \"46\": 2}, \"42\": {\"42\": 32}, \"27\": {\"27\": 133, \"50\": 5, \"53\": 1, \"20\": 1, \"25\": 2}, \"14\": {\"22\": 1, \"3\": 2, \"5\": 2, \"14\": 4, \"16\": 1, \"40\": 1, \"11\": 1, \"43\": 2, \"33\": 1, \"35\": 1}, \"25\": {\"25\": 94, \"20\": 7, \"6\": 6, \"3\": 4, \"21\": 2, \"54\": 1, \"50\": 6, \"55\": 2}, \"48\": {\"48\": 110, \"36\": 1, \"47\": 3, \"6\": 4, \"54\": 3, \"5\": 1, \"55\": 2, \"23\": 3, \"17\": 1, \"52\": 1, \"57\": 1, \"3\": 2}, \"26\": {\"3\": 2, \"26\": 19, \"28\": 2, \"50\": 1}, \"5\": {\"5\": 73, \"15\": 1, \"47\": 12, \"41\": 1, \"46\": 6, \"54\": 3, \"6\": 2, \"11\": 1, \"55\": 2, \"3\": 1, \"32\": 1, \"1\": 1, \"43\": 2, \"52\": 1, \"0\": 1}}, \"C_3\": {\"14\": {\"29\": 1, \"1\": 3, \"24\": 4, \"43\": 4, \"14\": 10, \"40\": 3, \"4\": 2, \"15\": 1, \"10\": 1, \"56\": 3, \"21\": 1, \"44\": 3, \"22\": 1, \"28\": 1, \"37\": 1, \"47\": 1}, \"18\": {\"18\": 71, \"30\": 3, \"46\": 1, \"23\": 7, \"26\": 1, \"34\": 1}, \"30\": {\"30\": 117, \"18\": 2, \"6\": 1}, \"16\": {\"23\": 11, \"16\": 131, \"43\": 2, \"11\": 3, \"18\": 2, \"52\": 1, \"15\": 4, \"48\": 2}, \"1\": {\"1\": 80, \"57\": 9, \"28\": 1, \"9\": 4, \"47\": 2, \"29\": 1, \"5\": 2, \"3\": 1}, \"20\": {\"20\": 125, \"12\": 2, \"54\": 1, \"50\": 4}, \"7\": {\"7\": 33, \"24\": 1, \"43\": 1, \"0\": 1}, \"52\": {\"52\": 125, \"0\": 2, \"15\": 1, \"23\": 1, \"48\": 1}, \"9\": {\"9\": 127, \"20\": 1, \"53\": 2, \"5\": 1, \"54\": 1, \"29\": 4, \"2\": 1, \"3\": 1, \"57\": 2}, \"23\": {\"18\": 4, \"23\": 132, \"9\": 1, \"48\": 1, \"15\": 1, \"0\": 3, \"16\": 2}, \"55\": {\"55\": 139, \"42\": 1, \"5\": 9, \"46\": 1, \"9\": 1, \"48\": 4, \"29\": 1, \"3\": 2, \"47\": 1, \"1\": 2, \"28\": 1, \"31\": 1, \"6\": 1}, \"29\": {\"29\": 114, \"9\": 8, \"42\": 1, \"5\": 1, \"55\": 1, \"3\": 1}, \"56\": {\"14\": 2, \"56\": 120, \"10\": 1, \"22\": 9, \"24\": 2}, \"3\": {\"6\": 13, \"3\": 51, \"55\": 5, \"21\": 6, \"50\": 5, \"42\": 1, \"26\": 1, \"48\": 5, \"9\": 7, \"51\": 4, \"29\": 2, \"46\": 7, \"53\": 4, \"54\": 2, \"1\": 1, \"36\": 1, \"25\": 4, \"57\": 1, \"20\": 2, \"33\": 1, \"27\": 1}, \"42\": {\"3\": 2, \"42\": 13, \"57\": 2, \"9\": 1, \"1\": 2, \"46\": 1, \"48\": 3, \"47\": 2, \"6\": 1, \"29\": 1}, \"6\": {\"6\": 71, \"33\": 1, \"48\": 1, \"27\": 4, \"3\": 5, \"46\": 1, \"55\": 1, \"54\": 1, \"25\": 1, \"50\": 2}, \"5\": {\"5\": 77, \"47\": 8, \"39\": 1, \"55\": 3, \"28\": 3, \"34\": 1, \"49\": 1, \"1\": 11, \"46\": 2, \"0\": 2, \"57\": 5, \"6\": 1, \"16\": 1}, \"27\": {\"27\": 123, \"4\": 3, \"17\": 2, \"3\": 3, \"6\": 1, \"9\": 2, \"25\": 1, \"48\": 1, \"54\": 1, \"32\": 1, \"36\": 2, \"50\": 4}, \"47\": {\"46\": 6, \"47\": 67, \"39\": 1, \"57\": 5, \"9\": 1, \"6\": 1, \"48\": 3, \"5\": 2, \"34\": 1, \"1\": 3, \"44\": 1, \"55\": 1}, \"39\": {\"39\": 15, \"46\": 1}, \"34\": {\"34\": 31, \"48\": 1}, \"4\": {\"4\": 113, \"2\": 1, \"32\": 1, \"27\": 1, \"9\": 3, \"8\": 1, \"19\": 2, \"53\": 1, \"45\": 1, \"50\": 1, \"3\": 1}, \"24\": {\"24\": 98, \"49\": 1, \"7\": 1, \"10\": 3, \"43\": 1}, \"46\": {\"50\": 2, \"46\": 77, \"55\": 2, \"37\": 3, \"53\": 2, \"48\": 4, \"6\": 7, \"52\": 1, \"47\": 2, \"3\": 11, \"17\": 1, \"16\": 1, \"0\": 1, \"33\": 2, \"39\": 1, \"23\": 1}, \"50\": {\"46\": 2, \"34\": 1, \"50\": 70, \"33\": 1, \"53\": 12, \"2\": 1, \"25\": 4, \"20\": 2, \"17\": 2, \"3\": 10, \"12\": 2, \"6\": 6, \"36\": 1, \"27\": 5, \"8\": 2, \"38\": 1, \"54\": 2, \"48\": 2}, \"38\": {\"38\": 26, \"54\": 1, \"25\": 1}, \"54\": {\"54\": 98, \"50\": 2}, \"35\": {\"35\": 27, \"31\": 1}, \"2\": {\"2\": 30, \"50\": 1, \"54\": 1}, \"41\": {\"41\": 27, \"48\": 1}, \"57\": {\"57\": 106, \"1\": 5, \"47\": 1, \"55\": 1, \"9\": 2, \"5\": 1, \"48\": 2}, \"25\": {\"25\": 141, \"50\": 6, \"20\": 1, \"3\": 2}, \"48\": {\"48\": 99, \"39\": 2, \"17\": 2, \"3\": 1, \"46\": 3, \"6\": 3, \"5\": 1, \"34\": 1, \"52\": 2, \"57\": 1, \"23\": 1}, \"33\": {\"39\": 3, \"33\": 20, \"2\": 1, \"46\": 1, \"50\": 1, \"6\": 2}, \"45\": {\"36\": 2, \"25\": 1, \"50\": 3, \"8\": 1, \"45\": 35, \"4\": 5, \"54\": 4, \"32\": 1, \"53\": 3, \"21\": 1, \"12\": 1, \"42\": 1, \"40\": 1, \"19\": 1}, \"13\": {\"13\": 126}, \"36\": {\"36\": 98, \"17\": 1, \"27\": 1}, \"43\": {\"43\": 126, \"7\": 3, \"11\": 2, \"24\": 1}, \"28\": {\"28\": 20, \"55\": 2, \"47\": 1, \"57\": 1, \"1\": 1, \"5\": 1, \"0\": 1, \"9\": 1}, \"0\": {\"0\": 112, \"43\": 2, \"23\": 4, \"15\": 2, \"7\": 1, \"46\": 1, \"57\": 1, \"48\": 1}, \"12\": {\"12\": 74, \"38\": 3, \"17\": 5, \"20\": 2, \"27\": 1, \"54\": 3, \"8\": 3, \"36\": 1}, \"31\": {\"31\": 25, \"5\": 1, \"35\": 1, \"28\": 1}, \"40\": {\"40\": 86, \"4\": 6, \"45\": 1, \"19\": 15, \"44\": 6, \"53\": 1, \"3\": 1}, \"44\": {\"35\": 1, \"44\": 70, \"19\": 7, \"3\": 1, \"40\": 6, \"51\": 1, \"22\": 1, \"55\": 1}, \"32\": {\"32\": 28}, \"26\": {\"26\": 20, \"34\": 2, \"6\": 2}, \"8\": {\"8\": 113, \"54\": 1, \"50\": 2}, \"10\": {\"10\": 60, \"14\": 1, \"24\": 3}, \"15\": {\"15\": 127, \"55\": 2, \"47\": 1, \"6\": 1, \"23\": 4, \"11\": 2, \"16\": 3, \"0\": 1, \"48\": 1}, \"21\": {\"50\": 5, \"33\": 3, \"21\": 95, \"51\": 8, \"53\": 5, \"54\": 2, \"17\": 2, \"1\": 1, \"57\": 3, \"25\": 1, \"9\": 1, \"46\": 1, \"48\": 1}, \"37\": {\"37\": 28}, \"17\": {\"17\": 107, \"6\": 1}, \"51\": {\"51\": 107, \"17\": 1, \"21\": 4, \"53\": 10, \"9\": 2}, \"53\": {\"53\": 138, \"21\": 2, \"2\": 1, \"51\": 2, \"54\": 1}, \"19\": {\"19\": 114, \"9\": 2, \"50\": 3, \"29\": 5, \"40\": 6, \"27\": 1, \"4\": 3, \"44\": 1, \"55\": 1}, \"49\": {\"49\": 18, \"43\": 1, \"24\": 1}, \"11\": {\"11\": 114, \"7\": 1, \"16\": 4, \"52\": 5, \"15\": 6, \"43\": 5, \"24\": 1, \"5\": 2}, \"22\": {\"22\": 112, \"31\": 1, \"13\": 4, \"56\": 8, \"55\": 2, \"5\": 1, \"1\": 1, \"24\": 1}}}, \"per_domain_accuracy\": {\"O_8\": {\"accuracy\": 0.8627604166666667, \"source?\": true}, \"O_38\": {\"accuracy\": 0.8822916666666667, \"source?\": true}, \"O_26\": {\"accuracy\": 0.6979166666666666, \"source?\": true}, \"O_20\": {\"accuracy\": 0.83828125, \"source?\": true}, \"O_50\": {\"accuracy\": 0.8638020833333333, \"source?\": true}, \"O_32\": {\"accuracy\": 0.8421875, \"source?\": true}, \"O_44\": {\"accuracy\": 0.7403645833333333, \"source?\": true}, \"O_14\": {\"accuracy\": 0.8856770833333333, \"source?\": true}, \"C_2\": {\"accuracy\": 0.8568892045454546, \"source?\": false}, \"C_5\": {\"accuracy\": 0.8182935393258427, \"source?\": false}, \"C_1\": {\"accuracy\": 0.8509615384615384, \"source?\": false}, \"C_4\": {\"accuracy\": 0.8418787425149701, \"source?\": false}, \"C_3\": {\"accuracy\": 0.8510599415204678, \"source?\": false}}}, \"history\": {\"epoch_indices\": [1, 2, 3, 4, 5, 6, 7, 8], \"train_label_loss\": [0.9954300858080387, 0.7220416213452284, 0.5760113149703968, 0.5039263722924737, 0.4527882832861949, 0.4156134988306024, 0.383214835806783, 0.3496747114321416], \"source_val_label_loss\": [1.0313857793807983, 0.7056272029876709, 0.5830031037330627, 0.4746141731739044, 0.4445632994174957, 0.4170629382133484, 0.4259965419769287, 0.3774474263191223], \"target_val_label_loss\": [1.276023507118225, 1.2528728246688843, 1.3201756477355957, 1.344351053237915, 1.4734995365142822, 1.651287317276001, 1.7631171941757202, 1.9150937795639038], \"source_val_acc_label\": [0.63359375, 0.7387369791666667, 0.7846354166666667, 0.82666015625, 0.8356770833333333, 0.84765625, 0.841796875, 0.8630859375], \"target_val_acc_label\": [0.816683352402746, 0.8228689931350115, 0.8347397025171625, 0.8437857551487414, 0.8425700800915332, 0.8396739130434783, 0.8310926773455377, 0.8336312929061785]}, \"dataset_metrics\": {\"source\": {\"train\": {\"n_unique_x\": 179200, \"n_unique_y\": 16, \"n_batch/episode\": 6720}, \"val\": {\"n_unique_x\": 38400, \"n_unique_y\": 16, \"n_batch/episode\": 960}, \"test\": {\"n_unique_x\": 38400, \"n_unique_y\": 16, \"n_batch/episode\": 960}}, \"target\": {\"train\": {\"n_unique_x\": 175127, \"n_unique_y\": 58, \"n_batch/episode\": 6303}, \"val\": {\"n_unique_x\": 37135, \"n_unique_y\": 58, \"n_batch/episode\": 874}, \"test\": {\"n_unique_x\": 37673, \"n_unique_y\": 58, \"n_batch/episode\": 893}}}}'"
      ]
     },
     "execution_count": 29,
     "metadata": {},
     "output_type": "execute_result"
    }
   ],
   "source": [
    "json.dumps(experiment)"
   ]
  }
 ],
 "metadata": {
  "celltoolbar": "Tags",
  "kernelspec": {
   "display_name": "Python 3 (ipykernel)",
   "language": "python",
   "name": "python3"
  },
  "language_info": {
   "codemirror_mode": {
    "name": "ipython",
    "version": 3
   },
   "file_extension": ".py",
   "mimetype": "text/x-python",
   "name": "python",
   "nbconvert_exporter": "python",
   "pygments_lexer": "ipython3",
   "version": "3.8.10"
  },
  "papermill": {
   "default_parameters": {},
   "duration": 1462.612898,
   "end_time": "2022-03-25T11:28:59.686143",
   "environment_variables": {},
   "exception": null,
   "input_path": "/mnt/wd500GB/CSC500/csc500-main/csc500-notebooks/templates/tl_ptn_template.ipynb",
   "output_path": "trial.ipynb",
   "parameters": {
    "parameters": {
     "BEST_MODEL_PATH": "./best_model.pth",
     "NUM_LOGS_PER_EPOCH": 10,
     "criteria_for_best": "target_accuracy",
     "dataset_seed": 154325,
     "datasets": [
      {
       "domain_prefix": "C_",
       "domains": [
        1,
        2,
        3,
        4,
        5
       ],
       "episode_transforms": [],
       "labels": [
        "1-10.",
        "1-11.",
        "1-15.",
        "1-16.",
        "1-17.",
        "1-18.",
        "1-19.",
        "10-4.",
        "10-7.",
        "11-1.",
        "11-14.",
        "11-17.",
        "11-20.",
        "11-7.",
        "13-20.",
        "13-8.",
        "14-10.",
        "14-11.",
        "14-14.",
        "14-7.",
        "15-1.",
        "15-20.",
        "16-1.",
        "16-16.",
        "17-10.",
        "17-11.",
        "17-2.",
        "19-1.",
        "19-16.",
        "19-19.",
        "19-20.",
        "19-3.",
        "2-10.",
        "2-11.",
        "2-17.",
        "2-18.",
        "2-20.",
        "2-3.",
        "2-4.",
        "2-5.",
        "2-6.",
        "2-7.",
        "2-8.",
        "3-13.",
        "3-18.",
        "3-3.",
        "4-1.",
        "4-10.",
        "4-11.",
        "4-19.",
        "5-5.",
        "6-15.",
        "7-10.",
        "7-14.",
        "8-18.",
        "8-20.",
        "8-3.",
        "8-8."
       ],
       "num_examples_per_domain_per_label": -1,
       "pickle_path": "/mnt/wd500GB/CSC500/csc500-main/datasets/cores.stratified_ds.2022A.pkl",
       "source_or_target_dataset": "target",
       "x_transforms": [
        "unit_mag",
        "take_200"
       ]
      },
      {
       "domain_prefix": "O_",
       "domains": [
        32,
        38,
        8,
        44,
        14,
        50,
        20,
        26
       ],
       "episode_transforms": [],
       "labels": [
        "3123D52",
        "3123D65",
        "3123D79",
        "3123D80",
        "3123D54",
        "3123D70",
        "3123D7B",
        "3123D89",
        "3123D58",
        "3123D76",
        "3123D7D",
        "3123EFE",
        "3123D64",
        "3123D78",
        "3123D7E",
        "3124E4A"
       ],
       "num_examples_per_domain_per_label": 2000,
       "pickle_path": "/mnt/wd500GB/CSC500/csc500-main/datasets/oracle.Run1_framed_2000Examples_stratified_ds.2022A.pkl",
       "source_or_target_dataset": "source",
       "x_transforms": [
        "unit_mag",
        "take_200",
        "resample_20Msps_to_25Msps"
       ]
      }
     ],
     "device": "cuda",
     "experiment_name": "tl_3Av2:oracle.run1.framed -> cores",
     "lr": 0.0001,
     "n_epoch": 50,
     "n_query": 2,
     "n_shot": 3,
     "n_way": 16,
     "patience": 3,
     "seed": 154325,
     "test_k_factor": 2,
     "torch_default_dtype": "torch.float32",
     "train_k_factor": 3,
     "val_k_factor": 2,
     "x_net": [
      {
       "class": "nnReshape",
       "kargs": {
        "shape": [
         -1,
         1,
         2,
         200
        ]
       }
      },
      {
       "class": "Conv2d",
       "kargs": {
        "bias": false,
        "in_channels": 1,
        "kernel_size": [
         1,
         7
        ],
        "out_channels": 256,
        "padding": [
         0,
         3
        ]
       }
      },
      {
       "class": "ReLU",
       "kargs": {
        "inplace": true
       }
      },
      {
       "class": "BatchNorm2d",
       "kargs": {
        "num_features": 256
       }
      },
      {
       "class": "Conv2d",
       "kargs": {
        "bias": true,
        "in_channels": 256,
        "kernel_size": [
         2,
         7
        ],
        "out_channels": 80,
        "padding": [
         0,
         3
        ]
       }
      },
      {
       "class": "ReLU",
       "kargs": {
        "inplace": true
       }
      },
      {
       "class": "BatchNorm2d",
       "kargs": {
        "num_features": 80
       }
      },
      {
       "class": "Flatten",
       "kargs": {}
      },
      {
       "class": "Linear",
       "kargs": {
        "in_features": 16000,
        "out_features": 256
       }
      },
      {
       "class": "ReLU",
       "kargs": {
        "inplace": true
       }
      },
      {
       "class": "BatchNorm1d",
       "kargs": {
        "num_features": 256
       }
      },
      {
       "class": "Linear",
       "kargs": {
        "in_features": 256,
        "out_features": 256
       }
      }
     ],
     "x_shape": [
      2,
      200
     ]
    }
   },
   "start_time": "2022-03-25T11:04:37.073245",
   "version": "2.3.4"
  }
 },
 "nbformat": 4,
 "nbformat_minor": 5
}