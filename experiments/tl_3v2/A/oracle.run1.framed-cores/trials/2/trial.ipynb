{
 "cells": [
  {
   "cell_type": "markdown",
   "id": "9fea5f46",
   "metadata": {
    "papermill": {
     "duration": 0.018634,
     "end_time": "2022-03-25T08:42:06.754313",
     "exception": false,
     "start_time": "2022-03-25T08:42:06.735679",
     "status": "completed"
    },
    "tags": []
   },
   "source": [
    "# Transfer Learning Template"
   ]
  },
  {
   "cell_type": "code",
   "execution_count": 1,
   "id": "0902182a",
   "metadata": {
    "execution": {
     "iopub.execute_input": "2022-03-25T08:42:06.791452Z",
     "iopub.status.busy": "2022-03-25T08:42:06.786823Z",
     "iopub.status.idle": "2022-03-25T08:42:07.687747Z",
     "shell.execute_reply": "2022-03-25T08:42:07.687460Z"
    },
    "papermill": {
     "duration": 0.920934,
     "end_time": "2022-03-25T08:42:07.687814",
     "exception": false,
     "start_time": "2022-03-25T08:42:06.766880",
     "status": "completed"
    },
    "tags": []
   },
   "outputs": [],
   "source": [
    "%load_ext autoreload\n",
    "%autoreload 2\n",
    "%matplotlib inline\n",
    "\n",
    "    \n",
    "import os, json, sys, time, random\n",
    "import numpy as np\n",
    "import torch\n",
    "from torch.optim import Adam\n",
    "from  easydict import EasyDict\n",
    "import matplotlib.pyplot as plt\n",
    "\n",
    "from steves_models.steves_ptn import Steves_Prototypical_Network\n",
    "\n",
    "from steves_utils.lazy_iterable_wrapper import Lazy_Iterable_Wrapper\n",
    "from steves_utils.iterable_aggregator import Iterable_Aggregator\n",
    "from steves_utils.ptn_train_eval_test_jig import  PTN_Train_Eval_Test_Jig\n",
    "from steves_utils.torch_sequential_builder import build_sequential\n",
    "from steves_utils.torch_utils import get_dataset_metrics, ptn_confusion_by_domain_over_dataloader\n",
    "from steves_utils.utils_v2 import (per_domain_accuracy_from_confusion, get_datasets_base_path)\n",
    "from steves_utils.PTN.utils import independent_accuracy_assesment\n",
    "\n",
    "from torch.utils.data import DataLoader\n",
    "\n",
    "from steves_utils.stratified_dataset.episodic_accessor import Episodic_Accessor_Factory\n",
    "\n",
    "from steves_utils.ptn_do_report import (\n",
    "    get_loss_curve,\n",
    "    get_results_table,\n",
    "    get_parameters_table,\n",
    "    get_domain_accuracies,\n",
    ")\n",
    "\n",
    "from steves_utils.transforms import get_chained_transform"
   ]
  },
  {
   "cell_type": "markdown",
   "id": "41c840b4",
   "metadata": {
    "papermill": {
     "duration": 0.01251,
     "end_time": "2022-03-25T08:42:07.717743",
     "exception": false,
     "start_time": "2022-03-25T08:42:07.705233",
     "status": "completed"
    },
    "tags": []
   },
   "source": [
    "# Allowed Parameters\n",
    "These are allowed parameters, not defaults\n",
    "Each of these values need to be present in the injected parameters (the notebook will raise an exception if they are not present)\n",
    "\n",
    "Papermill uses the cell tag \"parameters\" to inject the real parameters below this cell.\n",
    "Enable tags to see what I mean"
   ]
  },
  {
   "cell_type": "code",
   "execution_count": 2,
   "id": "fd44eb83",
   "metadata": {
    "execution": {
     "iopub.execute_input": "2022-03-25T08:42:07.746140Z",
     "iopub.status.busy": "2022-03-25T08:42:07.745816Z",
     "iopub.status.idle": "2022-03-25T08:42:07.761003Z",
     "shell.execute_reply": "2022-03-25T08:42:07.760597Z"
    },
    "papermill": {
     "duration": 0.030942,
     "end_time": "2022-03-25T08:42:07.761106",
     "exception": false,
     "start_time": "2022-03-25T08:42:07.730164",
     "status": "completed"
    },
    "tags": []
   },
   "outputs": [],
   "source": [
    "required_parameters = {\n",
    "    \"experiment_name\",\n",
    "    \"lr\",\n",
    "    \"device\",\n",
    "    \"seed\",\n",
    "    \"dataset_seed\",\n",
    "    \"n_shot\",\n",
    "    \"n_query\",\n",
    "    \"n_way\",\n",
    "    \"train_k_factor\",\n",
    "    \"val_k_factor\",\n",
    "    \"test_k_factor\",\n",
    "    \"n_epoch\",\n",
    "    \"patience\",\n",
    "    \"criteria_for_best\",\n",
    "    \"x_net\",\n",
    "    \"datasets\",\n",
    "    \"torch_default_dtype\",\n",
    "    \"NUM_LOGS_PER_EPOCH\",\n",
    "    \"BEST_MODEL_PATH\",\n",
    "    \"x_shape\",\n",
    "}"
   ]
  },
  {
   "cell_type": "code",
   "execution_count": 3,
   "id": "fa3f0049",
   "metadata": {
    "execution": {
     "iopub.execute_input": "2022-03-25T08:42:07.801599Z",
     "iopub.status.busy": "2022-03-25T08:42:07.801299Z",
     "iopub.status.idle": "2022-03-25T08:42:07.819971Z",
     "shell.execute_reply": "2022-03-25T08:42:07.819506Z"
    },
    "papermill": {
     "duration": 0.039726,
     "end_time": "2022-03-25T08:42:07.820077",
     "exception": false,
     "start_time": "2022-03-25T08:42:07.780351",
     "status": "completed"
    },
    "tags": [
     "parameters"
    ]
   },
   "outputs": [],
   "source": [
    "from steves_utils.CORES.utils import (\n",
    "    ALL_NODES,\n",
    "    ALL_NODES_MINIMUM_1000_EXAMPLES,\n",
    "    ALL_DAYS\n",
    ")\n",
    "\n",
    "from steves_utils.ORACLE.utils_v2 import (\n",
    "    ALL_DISTANCES_FEET_NARROWED,\n",
    "    ALL_RUNS,\n",
    "    ALL_SERIAL_NUMBERS,\n",
    ")\n",
    "\n",
    "standalone_parameters = {}\n",
    "standalone_parameters[\"experiment_name\"] = \"STANDALONE PTN\"\n",
    "standalone_parameters[\"lr\"] = 0.001\n",
    "standalone_parameters[\"device\"] = \"cuda\"\n",
    "\n",
    "standalone_parameters[\"seed\"] = 1337\n",
    "standalone_parameters[\"dataset_seed\"] = 1337\n",
    "\n",
    "standalone_parameters[\"n_way\"] = 8\n",
    "standalone_parameters[\"n_shot\"] = 3\n",
    "standalone_parameters[\"n_query\"]  = 2\n",
    "standalone_parameters[\"train_k_factor\"] = 1\n",
    "standalone_parameters[\"val_k_factor\"] = 2\n",
    "standalone_parameters[\"test_k_factor\"] = 2\n",
    "\n",
    "\n",
    "standalone_parameters[\"n_epoch\"] = 50\n",
    "\n",
    "standalone_parameters[\"patience\"] = 10\n",
    "standalone_parameters[\"criteria_for_best\"] = \"source_loss\"\n",
    "\n",
    "standalone_parameters[\"datasets\"] = [\n",
    "    {\n",
    "        \"labels\": ALL_SERIAL_NUMBERS,\n",
    "        \"domains\": ALL_DISTANCES_FEET_NARROWED,\n",
    "        \"num_examples_per_domain_per_label\": 100,\n",
    "        \"pickle_path\": os.path.join(get_datasets_base_path(), \"oracle.Run1_framed_2000Examples_stratified_ds.2022A.pkl\"),\n",
    "        \"source_or_target_dataset\": \"source\",\n",
    "        \"x_transforms\": [\"unit_mag\", \"minus_two\"],\n",
    "        \"episode_transforms\": [],\n",
    "        \"domain_prefix\": \"ORACLE_\"\n",
    "    },\n",
    "    {\n",
    "        \"labels\": ALL_NODES,\n",
    "        \"domains\": ALL_DAYS,\n",
    "        \"num_examples_per_domain_per_label\": 100,\n",
    "        \"pickle_path\": os.path.join(get_datasets_base_path(), \"cores.stratified_ds.2022A.pkl\"),\n",
    "        \"source_or_target_dataset\": \"target\",\n",
    "        \"x_transforms\": [\"unit_power\", \"times_zero\"],\n",
    "        \"episode_transforms\": [],\n",
    "        \"domain_prefix\": \"CORES_\"\n",
    "    }   \n",
    "]\n",
    "\n",
    "standalone_parameters[\"torch_default_dtype\"] = \"torch.float32\" \n",
    "\n",
    "\n",
    "\n",
    "standalone_parameters[\"x_net\"] =     [\n",
    "    {\"class\": \"nnReshape\", \"kargs\": {\"shape\":[-1, 1, 2, 256]}},\n",
    "    {\"class\": \"Conv2d\", \"kargs\": { \"in_channels\":1, \"out_channels\":256, \"kernel_size\":(1,7), \"bias\":False, \"padding\":(0,3), },},\n",
    "    {\"class\": \"ReLU\", \"kargs\": {\"inplace\": True}},\n",
    "    {\"class\": \"BatchNorm2d\", \"kargs\": {\"num_features\":256}},\n",
    "\n",
    "    {\"class\": \"Conv2d\", \"kargs\": { \"in_channels\":256, \"out_channels\":80, \"kernel_size\":(2,7), \"bias\":True, \"padding\":(0,3), },},\n",
    "    {\"class\": \"ReLU\", \"kargs\": {\"inplace\": True}},\n",
    "    {\"class\": \"BatchNorm2d\", \"kargs\": {\"num_features\":80}},\n",
    "    {\"class\": \"Flatten\", \"kargs\": {}},\n",
    "\n",
    "    {\"class\": \"Linear\", \"kargs\": {\"in_features\": 80*256, \"out_features\": 256}}, # 80 units per IQ pair\n",
    "    {\"class\": \"ReLU\", \"kargs\": {\"inplace\": True}},\n",
    "    {\"class\": \"BatchNorm1d\", \"kargs\": {\"num_features\":256}},\n",
    "\n",
    "    {\"class\": \"Linear\", \"kargs\": {\"in_features\": 256, \"out_features\": 256}},\n",
    "]\n",
    "\n",
    "# Parameters relevant to results\n",
    "# These parameters will basically never need to change\n",
    "standalone_parameters[\"NUM_LOGS_PER_EPOCH\"] = 10\n",
    "standalone_parameters[\"BEST_MODEL_PATH\"] = \"./best_model.pth\"\n",
    "\n",
    "\n",
    "\n",
    "\n"
   ]
  },
  {
   "cell_type": "code",
   "execution_count": 4,
   "id": "039a2bd7",
   "metadata": {
    "execution": {
     "iopub.execute_input": "2022-03-25T08:42:07.862081Z",
     "iopub.status.busy": "2022-03-25T08:42:07.857590Z",
     "iopub.status.idle": "2022-03-25T08:42:07.874824Z",
     "shell.execute_reply": "2022-03-25T08:42:07.874322Z"
    },
    "papermill": {
     "duration": 0.036693,
     "end_time": "2022-03-25T08:42:07.874933",
     "exception": false,
     "start_time": "2022-03-25T08:42:07.838240",
     "status": "completed"
    },
    "tags": [
     "injected-parameters"
    ]
   },
   "outputs": [],
   "source": [
    "# Parameters\n",
    "parameters = {\n",
    "    \"experiment_name\": \"tl_3Av2:oracle.run1.framed -> cores\",\n",
    "    \"device\": \"cuda\",\n",
    "    \"lr\": 0.0001,\n",
    "    \"x_shape\": [2, 200],\n",
    "    \"n_shot\": 3,\n",
    "    \"n_query\": 2,\n",
    "    \"train_k_factor\": 3,\n",
    "    \"val_k_factor\": 2,\n",
    "    \"test_k_factor\": 2,\n",
    "    \"torch_default_dtype\": \"torch.float32\",\n",
    "    \"n_epoch\": 50,\n",
    "    \"patience\": 3,\n",
    "    \"criteria_for_best\": \"target_accuracy\",\n",
    "    \"x_net\": [\n",
    "        {\"class\": \"nnReshape\", \"kargs\": {\"shape\": [-1, 1, 2, 200]}},\n",
    "        {\n",
    "            \"class\": \"Conv2d\",\n",
    "            \"kargs\": {\n",
    "                \"in_channels\": 1,\n",
    "                \"out_channels\": 256,\n",
    "                \"kernel_size\": [1, 7],\n",
    "                \"bias\": False,\n",
    "                \"padding\": [0, 3],\n",
    "            },\n",
    "        },\n",
    "        {\"class\": \"ReLU\", \"kargs\": {\"inplace\": True}},\n",
    "        {\"class\": \"BatchNorm2d\", \"kargs\": {\"num_features\": 256}},\n",
    "        {\n",
    "            \"class\": \"Conv2d\",\n",
    "            \"kargs\": {\n",
    "                \"in_channels\": 256,\n",
    "                \"out_channels\": 80,\n",
    "                \"kernel_size\": [2, 7],\n",
    "                \"bias\": True,\n",
    "                \"padding\": [0, 3],\n",
    "            },\n",
    "        },\n",
    "        {\"class\": \"ReLU\", \"kargs\": {\"inplace\": True}},\n",
    "        {\"class\": \"BatchNorm2d\", \"kargs\": {\"num_features\": 80}},\n",
    "        {\"class\": \"Flatten\", \"kargs\": {}},\n",
    "        {\"class\": \"Linear\", \"kargs\": {\"in_features\": 16000, \"out_features\": 256}},\n",
    "        {\"class\": \"ReLU\", \"kargs\": {\"inplace\": True}},\n",
    "        {\"class\": \"BatchNorm1d\", \"kargs\": {\"num_features\": 256}},\n",
    "        {\"class\": \"Linear\", \"kargs\": {\"in_features\": 256, \"out_features\": 256}},\n",
    "    ],\n",
    "    \"NUM_LOGS_PER_EPOCH\": 10,\n",
    "    \"BEST_MODEL_PATH\": \"./best_model.pth\",\n",
    "    \"n_way\": 16,\n",
    "    \"datasets\": [\n",
    "        {\n",
    "            \"labels\": [\n",
    "                \"1-10.\",\n",
    "                \"1-11.\",\n",
    "                \"1-15.\",\n",
    "                \"1-16.\",\n",
    "                \"1-17.\",\n",
    "                \"1-18.\",\n",
    "                \"1-19.\",\n",
    "                \"10-4.\",\n",
    "                \"10-7.\",\n",
    "                \"11-1.\",\n",
    "                \"11-14.\",\n",
    "                \"11-17.\",\n",
    "                \"11-20.\",\n",
    "                \"11-7.\",\n",
    "                \"13-20.\",\n",
    "                \"13-8.\",\n",
    "                \"14-10.\",\n",
    "                \"14-11.\",\n",
    "                \"14-14.\",\n",
    "                \"14-7.\",\n",
    "                \"15-1.\",\n",
    "                \"15-20.\",\n",
    "                \"16-1.\",\n",
    "                \"16-16.\",\n",
    "                \"17-10.\",\n",
    "                \"17-11.\",\n",
    "                \"17-2.\",\n",
    "                \"19-1.\",\n",
    "                \"19-16.\",\n",
    "                \"19-19.\",\n",
    "                \"19-20.\",\n",
    "                \"19-3.\",\n",
    "                \"2-10.\",\n",
    "                \"2-11.\",\n",
    "                \"2-17.\",\n",
    "                \"2-18.\",\n",
    "                \"2-20.\",\n",
    "                \"2-3.\",\n",
    "                \"2-4.\",\n",
    "                \"2-5.\",\n",
    "                \"2-6.\",\n",
    "                \"2-7.\",\n",
    "                \"2-8.\",\n",
    "                \"3-13.\",\n",
    "                \"3-18.\",\n",
    "                \"3-3.\",\n",
    "                \"4-1.\",\n",
    "                \"4-10.\",\n",
    "                \"4-11.\",\n",
    "                \"4-19.\",\n",
    "                \"5-5.\",\n",
    "                \"6-15.\",\n",
    "                \"7-10.\",\n",
    "                \"7-14.\",\n",
    "                \"8-18.\",\n",
    "                \"8-20.\",\n",
    "                \"8-3.\",\n",
    "                \"8-8.\",\n",
    "            ],\n",
    "            \"domains\": [1, 2, 3, 4, 5],\n",
    "            \"num_examples_per_domain_per_label\": -1,\n",
    "            \"pickle_path\": \"/mnt/wd500GB/CSC500/csc500-main/datasets/cores.stratified_ds.2022A.pkl\",\n",
    "            \"source_or_target_dataset\": \"target\",\n",
    "            \"x_transforms\": [\"take_200\"],\n",
    "            \"episode_transforms\": [],\n",
    "            \"domain_prefix\": \"C_\",\n",
    "        },\n",
    "        {\n",
    "            \"labels\": [\n",
    "                \"3123D52\",\n",
    "                \"3123D65\",\n",
    "                \"3123D79\",\n",
    "                \"3123D80\",\n",
    "                \"3123D54\",\n",
    "                \"3123D70\",\n",
    "                \"3123D7B\",\n",
    "                \"3123D89\",\n",
    "                \"3123D58\",\n",
    "                \"3123D76\",\n",
    "                \"3123D7D\",\n",
    "                \"3123EFE\",\n",
    "                \"3123D64\",\n",
    "                \"3123D78\",\n",
    "                \"3123D7E\",\n",
    "                \"3124E4A\",\n",
    "            ],\n",
    "            \"domains\": [32, 38, 8, 44, 14, 50, 20, 26],\n",
    "            \"num_examples_per_domain_per_label\": 2000,\n",
    "            \"pickle_path\": \"/mnt/wd500GB/CSC500/csc500-main/datasets/oracle.Run1_framed_2000Examples_stratified_ds.2022A.pkl\",\n",
    "            \"source_or_target_dataset\": \"source\",\n",
    "            \"x_transforms\": [\"take_200\", \"resample_20Msps_to_25Msps\"],\n",
    "            \"episode_transforms\": [],\n",
    "            \"domain_prefix\": \"O_\",\n",
    "        },\n",
    "    ],\n",
    "    \"seed\": 1337,\n",
    "    \"dataset_seed\": 1337,\n",
    "}\n"
   ]
  },
  {
   "cell_type": "code",
   "execution_count": 5,
   "id": "8fa1cc33",
   "metadata": {
    "execution": {
     "iopub.execute_input": "2022-03-25T08:42:07.910113Z",
     "iopub.status.busy": "2022-03-25T08:42:07.909836Z",
     "iopub.status.idle": "2022-03-25T08:42:07.928235Z",
     "shell.execute_reply": "2022-03-25T08:42:07.927819Z"
    },
    "papermill": {
     "duration": 0.034758,
     "end_time": "2022-03-25T08:42:07.928332",
     "exception": false,
     "start_time": "2022-03-25T08:42:07.893574",
     "status": "completed"
    },
    "tags": []
   },
   "outputs": [],
   "source": [
    "# Set this to True if you want to run this template directly\n",
    "STANDALONE = False\n",
    "if STANDALONE:\n",
    "    print(\"parameters not injected, running with standalone_parameters\")\n",
    "    parameters = standalone_parameters\n",
    "\n",
    "if not 'parameters' in locals() and not 'parameters' in globals():\n",
    "    raise Exception(\"Parameter injection failed\")\n",
    "\n",
    "#Use an easy dict for all the parameters\n",
    "p = EasyDict(parameters)\n",
    "\n",
    "if \"x_shape\" not in p:\n",
    "    p.x_shape = [2,256] # Default to this if we dont supply x_shape\n",
    "\n",
    "\n",
    "supplied_keys = set(p.keys())\n",
    "\n",
    "if  supplied_keys != required_parameters:\n",
    "    print(\"Parameters are incorrect\")\n",
    "    if len(supplied_keys - required_parameters)>0: print(\"Shouldn't have:\", str(supplied_keys - required_parameters))\n",
    "    if len(required_parameters - supplied_keys)>0: print(\"Need to have:\", str(required_parameters - supplied_keys))\n",
    "    raise RuntimeError(\"Parameters are incorrect\")"
   ]
  },
  {
   "cell_type": "code",
   "execution_count": 6,
   "id": "3a028d58",
   "metadata": {
    "execution": {
     "iopub.execute_input": "2022-03-25T08:42:07.960601Z",
     "iopub.status.busy": "2022-03-25T08:42:07.959786Z",
     "iopub.status.idle": "2022-03-25T08:42:07.975327Z",
     "shell.execute_reply": "2022-03-25T08:42:07.974908Z"
    },
    "papermill": {
     "duration": 0.030904,
     "end_time": "2022-03-25T08:42:07.975424",
     "exception": false,
     "start_time": "2022-03-25T08:42:07.944520",
     "status": "completed"
    },
    "tags": []
   },
   "outputs": [],
   "source": [
    "###################################\n",
    "# Set the RNGs and make it all deterministic\n",
    "###################################\n",
    "np.random.seed(p.seed)\n",
    "random.seed(p.seed)\n",
    "torch.manual_seed(p.seed)\n",
    "\n",
    "torch.use_deterministic_algorithms(True) "
   ]
  },
  {
   "cell_type": "code",
   "execution_count": 7,
   "id": "b691acf6",
   "metadata": {
    "execution": {
     "iopub.execute_input": "2022-03-25T08:42:08.009300Z",
     "iopub.status.busy": "2022-03-25T08:42:08.009049Z",
     "iopub.status.idle": "2022-03-25T08:42:08.025146Z",
     "shell.execute_reply": "2022-03-25T08:42:08.024729Z"
    },
    "papermill": {
     "duration": 0.031087,
     "end_time": "2022-03-25T08:42:08.025240",
     "exception": false,
     "start_time": "2022-03-25T08:42:07.994153",
     "status": "completed"
    },
    "tags": []
   },
   "outputs": [],
   "source": [
    "###########################################\n",
    "# The stratified datasets honor this\n",
    "###########################################\n",
    "torch.set_default_dtype(eval(p.torch_default_dtype))"
   ]
  },
  {
   "cell_type": "code",
   "execution_count": 8,
   "id": "b5fba671",
   "metadata": {
    "execution": {
     "iopub.execute_input": "2022-03-25T08:42:08.058418Z",
     "iopub.status.busy": "2022-03-25T08:42:08.058166Z",
     "iopub.status.idle": "2022-03-25T08:42:08.093877Z",
     "shell.execute_reply": "2022-03-25T08:42:08.093435Z"
    },
    "papermill": {
     "duration": 0.051101,
     "end_time": "2022-03-25T08:42:08.093982",
     "exception": false,
     "start_time": "2022-03-25T08:42:08.042881",
     "status": "completed"
    },
    "tags": []
   },
   "outputs": [],
   "source": [
    "###################################\n",
    "# Build the network(s)\n",
    "# Note: It's critical to do this AFTER setting the RNG\n",
    "###################################\n",
    "x_net = build_sequential(p.x_net)"
   ]
  },
  {
   "cell_type": "code",
   "execution_count": 9,
   "id": "5d7e61cc",
   "metadata": {
    "execution": {
     "iopub.execute_input": "2022-03-25T08:42:08.127396Z",
     "iopub.status.busy": "2022-03-25T08:42:08.127144Z",
     "iopub.status.idle": "2022-03-25T08:42:08.144106Z",
     "shell.execute_reply": "2022-03-25T08:42:08.143693Z"
    },
    "papermill": {
     "duration": 0.032254,
     "end_time": "2022-03-25T08:42:08.144204",
     "exception": false,
     "start_time": "2022-03-25T08:42:08.111950",
     "status": "completed"
    },
    "tags": []
   },
   "outputs": [],
   "source": [
    "start_time_secs = time.time()"
   ]
  },
  {
   "cell_type": "code",
   "execution_count": 10,
   "id": "c6b67dfd",
   "metadata": {
    "execution": {
     "iopub.execute_input": "2022-03-25T08:42:08.178403Z",
     "iopub.status.busy": "2022-03-25T08:42:08.178107Z",
     "iopub.status.idle": "2022-03-25T08:42:08.193671Z",
     "shell.execute_reply": "2022-03-25T08:42:08.193258Z"
    },
    "papermill": {
     "duration": 0.031084,
     "end_time": "2022-03-25T08:42:08.193766",
     "exception": false,
     "start_time": "2022-03-25T08:42:08.162682",
     "status": "completed"
    },
    "tags": []
   },
   "outputs": [],
   "source": [
    "p.domains_source = []\n",
    "p.domains_target = []\n",
    "\n",
    "\n",
    "train_original_source = []\n",
    "val_original_source   = []\n",
    "test_original_source  = []\n",
    "\n",
    "train_original_target = []\n",
    "val_original_target   = []\n",
    "test_original_target  = []"
   ]
  },
  {
   "cell_type": "code",
   "execution_count": 11,
   "id": "e3d9c3d3",
   "metadata": {
    "execution": {
     "iopub.execute_input": "2022-03-25T08:42:08.226745Z",
     "iopub.status.busy": "2022-03-25T08:42:08.226488Z",
     "iopub.status.idle": "2022-03-25T08:42:08.241547Z",
     "shell.execute_reply": "2022-03-25T08:42:08.241131Z"
    },
    "papermill": {
     "duration": 0.029994,
     "end_time": "2022-03-25T08:42:08.241643",
     "exception": false,
     "start_time": "2022-03-25T08:42:08.211649",
     "status": "completed"
    },
    "tags": []
   },
   "outputs": [],
   "source": [
    "# global_x_transform_func = lambda x: normalize(x.to(torch.get_default_dtype()), \"unit_power\") # unit_power, unit_mag\n",
    "# global_x_transform_func = lambda x: normalize(x, \"unit_power\") # unit_power, unit_mag"
   ]
  },
  {
   "cell_type": "code",
   "execution_count": 12,
   "id": "acb78fd2",
   "metadata": {
    "execution": {
     "iopub.execute_input": "2022-03-25T08:42:08.278722Z",
     "iopub.status.busy": "2022-03-25T08:42:08.277800Z",
     "iopub.status.idle": "2022-03-25T08:42:08.292100Z",
     "shell.execute_reply": "2022-03-25T08:42:08.291685Z"
    },
    "papermill": {
     "duration": 0.034973,
     "end_time": "2022-03-25T08:42:08.292197",
     "exception": false,
     "start_time": "2022-03-25T08:42:08.257224",
     "status": "completed"
    },
    "tags": []
   },
   "outputs": [],
   "source": [
    "def add_dataset(\n",
    "    labels,\n",
    "    domains,\n",
    "    pickle_path,\n",
    "    x_transforms,\n",
    "    episode_transforms,\n",
    "    domain_prefix,\n",
    "    num_examples_per_domain_per_label,\n",
    "    source_or_target_dataset:str,\n",
    "    iterator_seed=p.seed,\n",
    "    dataset_seed=p.dataset_seed,\n",
    "    n_shot=p.n_shot,\n",
    "    n_way=p.n_way,\n",
    "    n_query=p.n_query,\n",
    "    train_val_test_k_factors=(p.train_k_factor,p.val_k_factor,p.test_k_factor),\n",
    "):\n",
    "   \n",
    "    if x_transforms == []: x_transform = None\n",
    "    else: x_transform = get_chained_transform(x_transforms)\n",
    "    \n",
    "    if episode_transforms == []: episode_transform = None\n",
    "    else: raise Exception(\"episode_transforms not implemented\")\n",
    "    \n",
    "    episode_transform = lambda tup, _prefix=domain_prefix: (_prefix + str(tup[0]), tup[1])\n",
    "\n",
    "\n",
    "    eaf = Episodic_Accessor_Factory(\n",
    "        labels=labels,\n",
    "        domains=domains,\n",
    "        num_examples_per_domain_per_label=num_examples_per_domain_per_label,\n",
    "        iterator_seed=iterator_seed,\n",
    "        dataset_seed=dataset_seed,\n",
    "        n_shot=n_shot,\n",
    "        n_way=n_way,\n",
    "        n_query=n_query,\n",
    "        train_val_test_k_factors=train_val_test_k_factors,\n",
    "        pickle_path=pickle_path,\n",
    "        x_transform_func=x_transform,\n",
    "    )\n",
    "\n",
    "    train, val, test = eaf.get_train(), eaf.get_val(), eaf.get_test()\n",
    "    train = Lazy_Iterable_Wrapper(train, episode_transform)\n",
    "    val = Lazy_Iterable_Wrapper(val, episode_transform)\n",
    "    test = Lazy_Iterable_Wrapper(test, episode_transform)\n",
    "\n",
    "    if source_or_target_dataset==\"source\":\n",
    "        train_original_source.append(train)\n",
    "        val_original_source.append(val)\n",
    "        test_original_source.append(test)\n",
    "\n",
    "        p.domains_source.extend(\n",
    "            [domain_prefix + str(u) for u in domains]\n",
    "        )\n",
    "    elif source_or_target_dataset==\"target\":\n",
    "        train_original_target.append(train)\n",
    "        val_original_target.append(val)\n",
    "        test_original_target.append(test)\n",
    "        p.domains_target.extend(\n",
    "            [domain_prefix + str(u) for u in domains]\n",
    "        )\n",
    "    else:\n",
    "        raise Exception(f\"invalid source_or_target_dataset: {source_or_target_dataset}\")\n",
    "    "
   ]
  },
  {
   "cell_type": "code",
   "execution_count": 13,
   "id": "fe266617",
   "metadata": {
    "execution": {
     "iopub.execute_input": "2022-03-25T08:42:08.323976Z",
     "iopub.status.busy": "2022-03-25T08:42:08.323713Z",
     "iopub.status.idle": "2022-03-25T08:42:24.161871Z",
     "shell.execute_reply": "2022-03-25T08:42:24.161421Z"
    },
    "papermill": {
     "duration": 15.853419,
     "end_time": "2022-03-25T08:42:24.161975",
     "exception": false,
     "start_time": "2022-03-25T08:42:08.308556",
     "status": "completed"
    },
    "tags": []
   },
   "outputs": [],
   "source": [
    "for ds in p.datasets:\n",
    "    add_dataset(**ds)"
   ]
  },
  {
   "cell_type": "code",
   "execution_count": 14,
   "id": "b90d65ac",
   "metadata": {
    "execution": {
     "iopub.execute_input": "2022-03-25T08:42:24.194746Z",
     "iopub.status.busy": "2022-03-25T08:42:24.194487Z",
     "iopub.status.idle": "2022-03-25T08:42:24.209946Z",
     "shell.execute_reply": "2022-03-25T08:42:24.209467Z"
    },
    "papermill": {
     "duration": 0.0303,
     "end_time": "2022-03-25T08:42:24.210054",
     "exception": false,
     "start_time": "2022-03-25T08:42:24.179754",
     "status": "completed"
    },
    "tags": []
   },
   "outputs": [],
   "source": [
    "# from steves_utils.CORES.utils import (\n",
    "#     ALL_NODES,\n",
    "#     ALL_NODES_MINIMUM_1000_EXAMPLES,\n",
    "#     ALL_DAYS\n",
    "# )\n",
    "\n",
    "# add_dataset(\n",
    "#     labels=ALL_NODES,\n",
    "#     domains = ALL_DAYS,\n",
    "#     num_examples_per_domain_per_label=100,\n",
    "#     pickle_path=os.path.join(get_datasets_base_path(), \"cores.stratified_ds.2022A.pkl\"),\n",
    "#     source_or_target_dataset=\"target\",\n",
    "#     x_transform_func=global_x_transform_func,\n",
    "#     domain_modifier=lambda u: f\"cores_{u}\"\n",
    "# )"
   ]
  },
  {
   "cell_type": "code",
   "execution_count": 15,
   "id": "76db484d",
   "metadata": {
    "execution": {
     "iopub.execute_input": "2022-03-25T08:42:24.243368Z",
     "iopub.status.busy": "2022-03-25T08:42:24.243112Z",
     "iopub.status.idle": "2022-03-25T08:42:24.259654Z",
     "shell.execute_reply": "2022-03-25T08:42:24.259178Z"
    },
    "papermill": {
     "duration": 0.032111,
     "end_time": "2022-03-25T08:42:24.259750",
     "exception": false,
     "start_time": "2022-03-25T08:42:24.227639",
     "status": "completed"
    },
    "tags": []
   },
   "outputs": [],
   "source": [
    "# from steves_utils.ORACLE.utils_v2 import (\n",
    "#     ALL_DISTANCES_FEET,\n",
    "#     ALL_RUNS,\n",
    "#     ALL_SERIAL_NUMBERS,\n",
    "# )\n",
    "\n",
    "\n",
    "# add_dataset(\n",
    "#     labels=ALL_SERIAL_NUMBERS,\n",
    "#     domains = list(set(ALL_DISTANCES_FEET) - {2,62}),\n",
    "#     num_examples_per_domain_per_label=100,\n",
    "#     pickle_path=os.path.join(get_datasets_base_path(), \"oracle.Run2_framed_2000Examples_stratified_ds.2022A.pkl\"),\n",
    "#     source_or_target_dataset=\"source\",\n",
    "#     x_transform_func=global_x_transform_func,\n",
    "#     domain_modifier=lambda u: f\"oracle1_{u}\"\n",
    "# )\n"
   ]
  },
  {
   "cell_type": "code",
   "execution_count": 16,
   "id": "97dea9d2",
   "metadata": {
    "execution": {
     "iopub.execute_input": "2022-03-25T08:42:24.294802Z",
     "iopub.status.busy": "2022-03-25T08:42:24.294130Z",
     "iopub.status.idle": "2022-03-25T08:42:24.309291Z",
     "shell.execute_reply": "2022-03-25T08:42:24.308825Z"
    },
    "papermill": {
     "duration": 0.030633,
     "end_time": "2022-03-25T08:42:24.309386",
     "exception": false,
     "start_time": "2022-03-25T08:42:24.278753",
     "status": "completed"
    },
    "tags": []
   },
   "outputs": [],
   "source": [
    "# from steves_utils.ORACLE.utils_v2 import (\n",
    "#     ALL_DISTANCES_FEET,\n",
    "#     ALL_RUNS,\n",
    "#     ALL_SERIAL_NUMBERS,\n",
    "# )\n",
    "\n",
    "\n",
    "# add_dataset(\n",
    "#     labels=ALL_SERIAL_NUMBERS,\n",
    "#     domains = list(set(ALL_DISTANCES_FEET) - {2,62,56}),\n",
    "#     num_examples_per_domain_per_label=100,\n",
    "#     pickle_path=os.path.join(get_datasets_base_path(), \"oracle.Run2_framed_2000Examples_stratified_ds.2022A.pkl\"),\n",
    "#     source_or_target_dataset=\"source\",\n",
    "#     x_transform_func=global_x_transform_func,\n",
    "#     domain_modifier=lambda u: f\"oracle2_{u}\"\n",
    "# )"
   ]
  },
  {
   "cell_type": "code",
   "execution_count": 17,
   "id": "6f289866",
   "metadata": {
    "execution": {
     "iopub.execute_input": "2022-03-25T08:42:24.344366Z",
     "iopub.status.busy": "2022-03-25T08:42:24.343559Z",
     "iopub.status.idle": "2022-03-25T08:42:24.359867Z",
     "shell.execute_reply": "2022-03-25T08:42:24.359452Z"
    },
    "papermill": {
     "duration": 0.031827,
     "end_time": "2022-03-25T08:42:24.359962",
     "exception": false,
     "start_time": "2022-03-25T08:42:24.328135",
     "status": "completed"
    },
    "tags": []
   },
   "outputs": [],
   "source": [
    "# add_dataset(\n",
    "#     labels=list(range(19)),\n",
    "#     domains = [0,1,2],\n",
    "#     num_examples_per_domain_per_label=100,\n",
    "#     pickle_path=os.path.join(get_datasets_base_path(), \"metehan.stratified_ds.2022A.pkl\"),\n",
    "#     source_or_target_dataset=\"target\",\n",
    "#     x_transform_func=global_x_transform_func,\n",
    "#     domain_modifier=lambda u: f\"met_{u}\"\n",
    "# )"
   ]
  },
  {
   "cell_type": "code",
   "execution_count": 18,
   "id": "86a863c3",
   "metadata": {
    "execution": {
     "iopub.execute_input": "2022-03-25T08:42:24.394494Z",
     "iopub.status.busy": "2022-03-25T08:42:24.394218Z",
     "iopub.status.idle": "2022-03-25T08:42:24.409559Z",
     "shell.execute_reply": "2022-03-25T08:42:24.409087Z"
    },
    "papermill": {
     "duration": 0.031113,
     "end_time": "2022-03-25T08:42:24.409654",
     "exception": false,
     "start_time": "2022-03-25T08:42:24.378541",
     "status": "completed"
    },
    "tags": []
   },
   "outputs": [],
   "source": [
    "# # from steves_utils.wisig.utils import (\n",
    "# #     ALL_NODES_MINIMUM_100_EXAMPLES,\n",
    "# #     ALL_NODES_MINIMUM_500_EXAMPLES,\n",
    "# #     ALL_NODES_MINIMUM_1000_EXAMPLES,\n",
    "# #     ALL_DAYS\n",
    "# # )\n",
    "\n",
    "# import steves_utils.wisig.utils as wisig\n",
    "\n",
    "\n",
    "# add_dataset(\n",
    "#     labels=wisig.ALL_NODES_MINIMUM_100_EXAMPLES,\n",
    "#     domains = wisig.ALL_DAYS,\n",
    "#     num_examples_per_domain_per_label=100,\n",
    "#     pickle_path=os.path.join(get_datasets_base_path(), \"wisig.node3-19.stratified_ds.2022A.pkl\"),\n",
    "#     source_or_target_dataset=\"target\",\n",
    "#     x_transform_func=global_x_transform_func,\n",
    "#     domain_modifier=lambda u: f\"wisig_{u}\"\n",
    "# )"
   ]
  },
  {
   "cell_type": "code",
   "execution_count": 19,
   "id": "fd5442bc",
   "metadata": {
    "execution": {
     "iopub.execute_input": "2022-03-25T08:42:24.454704Z",
     "iopub.status.busy": "2022-03-25T08:42:24.447678Z",
     "iopub.status.idle": "2022-03-25T08:42:24.463585Z",
     "shell.execute_reply": "2022-03-25T08:42:24.463168Z"
    },
    "papermill": {
     "duration": 0.034893,
     "end_time": "2022-03-25T08:42:24.463682",
     "exception": false,
     "start_time": "2022-03-25T08:42:24.428789",
     "status": "completed"
    },
    "tags": []
   },
   "outputs": [],
   "source": [
    "###################################\n",
    "# Build the dataset\n",
    "###################################\n",
    "train_original_source = Iterable_Aggregator(train_original_source, p.seed)\n",
    "val_original_source = Iterable_Aggregator(val_original_source, p.seed)\n",
    "test_original_source = Iterable_Aggregator(test_original_source, p.seed)\n",
    "\n",
    "\n",
    "train_original_target = Iterable_Aggregator(train_original_target, p.seed)\n",
    "val_original_target = Iterable_Aggregator(val_original_target, p.seed)\n",
    "test_original_target = Iterable_Aggregator(test_original_target, p.seed)\n",
    "\n",
    "# For CNN We only use X and Y. And we only train on the source.\n",
    "# Properly form the data using a transform lambda and Lazy_Iterable_Wrapper. Finally wrap them in a dataloader\n",
    "\n",
    "transform_lambda = lambda ex: ex[1] # Original is (<domain>, <episode>) so we strip down to episode only\n",
    "\n",
    "train_processed_source = Lazy_Iterable_Wrapper(train_original_source, transform_lambda)\n",
    "val_processed_source   = Lazy_Iterable_Wrapper(val_original_source, transform_lambda)\n",
    "test_processed_source  = Lazy_Iterable_Wrapper(test_original_source, transform_lambda)\n",
    "\n",
    "train_processed_target = Lazy_Iterable_Wrapper(train_original_target, transform_lambda)\n",
    "val_processed_target   = Lazy_Iterable_Wrapper(val_original_target, transform_lambda)\n",
    "test_processed_target  = Lazy_Iterable_Wrapper(test_original_target, transform_lambda)\n",
    "\n",
    "datasets = EasyDict({\n",
    "    \"source\": {\n",
    "        \"original\": {\"train\":train_original_source, \"val\":val_original_source, \"test\":test_original_source},\n",
    "        \"processed\": {\"train\":train_processed_source, \"val\":val_processed_source, \"test\":test_processed_source}\n",
    "    },\n",
    "    \"target\": {\n",
    "        \"original\": {\"train\":train_original_target, \"val\":val_original_target, \"test\":test_original_target},\n",
    "        \"processed\": {\"train\":train_processed_target, \"val\":val_processed_target, \"test\":test_processed_target}\n",
    "    },\n",
    "})"
   ]
  },
  {
   "cell_type": "code",
   "execution_count": 20,
   "id": "5b3c01fc",
   "metadata": {
    "execution": {
     "iopub.execute_input": "2022-03-25T08:42:24.505795Z",
     "iopub.status.busy": "2022-03-25T08:42:24.498180Z",
     "iopub.status.idle": "2022-03-25T08:42:30.674841Z",
     "shell.execute_reply": "2022-03-25T08:42:30.675272Z"
    },
    "papermill": {
     "duration": 6.194242,
     "end_time": "2022-03-25T08:42:30.675413",
     "exception": false,
     "start_time": "2022-03-25T08:42:24.481171",
     "status": "completed"
    },
    "tags": []
   },
   "outputs": [
    {
     "name": "stdout",
     "output_type": "stream",
     "text": [
      "{'O_14', 'O_8', 'O_26', 'O_38', 'O_20', 'O_32', 'O_44', 'O_50'}\n"
     ]
    },
    {
     "name": "stdout",
     "output_type": "stream",
     "text": [
      "{'C_2', 'C_1', 'C_4', 'C_3', 'C_5'}\n"
     ]
    },
    {
     "name": "stdout",
     "output_type": "stream",
     "text": [
      "tensor([[[-3.0519e-04,  3.5556e-03,  2.0206e-03,  ...,  2.1691e-03,\n",
      "           1.7273e-03,  2.3624e-03],\n",
      "         [-2.1058e-03, -1.8932e-03,  2.2942e-03,  ..., -3.7358e-04,\n",
      "           3.6849e-03,  3.8457e-04]],\n",
      "\n",
      "        [[-1.4649e-03,  1.4898e-03,  2.6404e-03,  ...,  3.7484e-03,\n",
      "           1.6746e-03,  6.1315e-05],\n",
      "         [-3.6927e-03, -2.5907e-03,  2.8652e-03,  ..., -1.4858e-03,\n",
      "          -2.0637e-03, -4.5108e-03]],\n",
      "\n",
      "        [[ 2.1363e-03, -1.7548e-04, -2.9306e-03,  ..., -2.7567e-03,\n",
      "          -3.0599e-03, -3.3251e-04],\n",
      "         [ 2.7161e-03,  3.5096e-03, -1.7432e-03,  ...,  1.5548e-03,\n",
      "           8.4818e-04,  3.8669e-03]],\n",
      "\n",
      "        ...,\n",
      "\n",
      "        [[ 4.7609e-03,  1.1404e-03, -5.8138e-03,  ..., -3.3979e-03,\n",
      "          -7.4494e-04,  4.4531e-03],\n",
      "         [ 2.6856e-03,  4.4305e-03, -2.3923e-04,  ...,  4.7568e-03,\n",
      "           3.5689e-03,  4.8476e-03]],\n",
      "\n",
      "        [[ 1.2207e-04, -4.9236e-03, -1.3816e-03,  ..., -4.1507e-03,\n",
      "          -4.0835e-03, -4.6269e-03],\n",
      "         [ 3.8148e-03,  3.7729e-03, -3.6135e-03,  ..., -6.0177e-04,\n",
      "          -3.3435e-03,  3.1819e-03]],\n",
      "\n",
      "        [[ 2.3194e-03,  2.2329e-03, -1.6715e-03,  ...,  2.3415e-03,\n",
      "          -5.6927e-03, -3.1427e-03],\n",
      "         [-1.9837e-03,  4.5080e-03,  3.5371e-03,  ...,  3.2161e-03,\n",
      "           1.3673e-03,  2.2193e-03]]])\n"
     ]
    }
   ],
   "source": [
    "from steves_utils.transforms import get_average_magnitude, get_average_power\n",
    "\n",
    "print(set([u for u,_ in val_original_source]))\n",
    "print(set([u for u,_ in val_original_target]))\n",
    "\n",
    "s_x, s_y, q_x, q_y, _ = next(iter(train_processed_source))\n",
    "print(s_x)\n",
    "\n",
    "# for ds in [\n",
    "#     train_processed_source,\n",
    "#     val_processed_source,\n",
    "#     test_processed_source,\n",
    "#     train_processed_target,\n",
    "#     val_processed_target,\n",
    "#     test_processed_target\n",
    "# ]:\n",
    "#     for s_x, s_y, q_x, q_y, _ in ds:\n",
    "#         for X in (s_x, q_x):\n",
    "#             for x in X:\n",
    "#                 assert np.isclose(get_average_magnitude(x.numpy()), 1.0)\n",
    "#                 assert np.isclose(get_average_power(x.numpy()), 1.0)\n",
    "                "
   ]
  },
  {
   "cell_type": "code",
   "execution_count": 21,
   "id": "bbdacba1",
   "metadata": {
    "execution": {
     "iopub.execute_input": "2022-03-25T08:42:30.723238Z",
     "iopub.status.busy": "2022-03-25T08:42:30.716046Z",
     "iopub.status.idle": "2022-03-25T08:42:30.766274Z",
     "shell.execute_reply": "2022-03-25T08:42:30.765774Z"
    },
    "papermill": {
     "duration": 0.069886,
     "end_time": "2022-03-25T08:42:30.766377",
     "exception": false,
     "start_time": "2022-03-25T08:42:30.696491",
     "status": "completed"
    },
    "tags": []
   },
   "outputs": [
    {
     "name": "stdout",
     "output_type": "stream",
     "text": [
      "(2, 200)\n"
     ]
    }
   ],
   "source": [
    "###################################\n",
    "# Build the model\n",
    "###################################\n",
    "# easfsl only wants a tuple for the shape\n",
    "model = Steves_Prototypical_Network(x_net, device=p.device, x_shape=tuple(p.x_shape))\n",
    "optimizer = Adam(params=model.parameters(), lr=p.lr)"
   ]
  },
  {
   "cell_type": "code",
   "execution_count": 22,
   "id": "22b39ac5",
   "metadata": {
    "execution": {
     "iopub.execute_input": "2022-03-25T08:42:30.803405Z",
     "iopub.status.busy": "2022-03-25T08:42:30.803149Z",
     "iopub.status.idle": "2022-03-25T08:56:05.413748Z",
     "shell.execute_reply": "2022-03-25T08:56:05.413514Z"
    },
    "papermill": {
     "duration": 814.628619,
     "end_time": "2022-03-25T08:56:05.413804",
     "exception": false,
     "start_time": "2022-03-25T08:42:30.785185",
     "status": "completed"
    },
    "tags": []
   },
   "outputs": [
    {
     "name": "stdout",
     "output_type": "stream",
     "text": [
      "epoch: 1, [batch: 1 / 6720], examples_per_second: 49.3482, train_label_loss: 2.8024, \n"
     ]
    },
    {
     "name": "stdout",
     "output_type": "stream",
     "text": [
      "epoch: 1, [batch: 672 / 6720], examples_per_second: 3641.4292, train_label_loss: 0.6131, \n"
     ]
    },
    {
     "name": "stdout",
     "output_type": "stream",
     "text": [
      "epoch: 1, [batch: 1344 / 6720], examples_per_second: 3660.9049, train_label_loss: 0.3190, \n"
     ]
    },
    {
     "name": "stdout",
     "output_type": "stream",
     "text": [
      "epoch: 1, [batch: 2016 / 6720], examples_per_second: 3645.2590, train_label_loss: 0.3707, \n"
     ]
    },
    {
     "name": "stdout",
     "output_type": "stream",
     "text": [
      "epoch: 1, [batch: 2688 / 6720], examples_per_second: 3609.1384, train_label_loss: 0.6989, \n"
     ]
    },
    {
     "name": "stdout",
     "output_type": "stream",
     "text": [
      "epoch: 1, [batch: 3360 / 6720], examples_per_second: 3634.2642, train_label_loss: 0.1750, \n"
     ]
    },
    {
     "name": "stdout",
     "output_type": "stream",
     "text": [
      "epoch: 1, [batch: 4032 / 6720], examples_per_second: 3638.1290, train_label_loss: 0.2799, \n"
     ]
    },
    {
     "name": "stdout",
     "output_type": "stream",
     "text": [
      "epoch: 1, [batch: 4704 / 6720], examples_per_second: 3620.8251, train_label_loss: 0.4640, \n"
     ]
    },
    {
     "name": "stdout",
     "output_type": "stream",
     "text": [
      "epoch: 1, [batch: 5376 / 6720], examples_per_second: 3646.4233, train_label_loss: 0.2622, \n"
     ]
    },
    {
     "name": "stdout",
     "output_type": "stream",
     "text": [
      "epoch: 1, [batch: 6048 / 6720], examples_per_second: 3635.8012, train_label_loss: 0.0500, \n"
     ]
    },
    {
     "name": "stdout",
     "output_type": "stream",
     "text": [
      "=============================================================\n",
      "epoch: 1, source_val_acc_label: 0.5788, target_val_acc_label: 0.7023, source_val_label_loss: 74.3560, target_val_label_loss: 4453.9468, \n",
      "=============================================================\n"
     ]
    },
    {
     "name": "stdout",
     "output_type": "stream",
     "text": [
      "New best\n"
     ]
    },
    {
     "name": "stdout",
     "output_type": "stream",
     "text": [
      "epoch: 2, [batch: 1 / 6720], examples_per_second: 5.3002, train_label_loss: 88.4238, \n"
     ]
    },
    {
     "name": "stdout",
     "output_type": "stream",
     "text": [
      "epoch: 2, [batch: 672 / 6720], examples_per_second: 3645.1535, train_label_loss: 0.7664, \n"
     ]
    },
    {
     "name": "stdout",
     "output_type": "stream",
     "text": [
      "epoch: 2, [batch: 1344 / 6720], examples_per_second: 3647.5765, train_label_loss: 0.4625, \n"
     ]
    },
    {
     "name": "stdout",
     "output_type": "stream",
     "text": [
      "epoch: 2, [batch: 2016 / 6720], examples_per_second: 3654.9499, train_label_loss: 0.6187, \n"
     ]
    },
    {
     "name": "stdout",
     "output_type": "stream",
     "text": [
      "epoch: 2, [batch: 2688 / 6720], examples_per_second: 3636.2460, train_label_loss: 0.4699, \n"
     ]
    },
    {
     "name": "stdout",
     "output_type": "stream",
     "text": [
      "epoch: 2, [batch: 3360 / 6720], examples_per_second: 3644.4690, train_label_loss: 0.3393, \n"
     ]
    },
    {
     "name": "stdout",
     "output_type": "stream",
     "text": [
      "epoch: 2, [batch: 4032 / 6720], examples_per_second: 3664.1379, train_label_loss: 0.2792, \n"
     ]
    },
    {
     "name": "stdout",
     "output_type": "stream",
     "text": [
      "epoch: 2, [batch: 4704 / 6720], examples_per_second: 3635.6757, train_label_loss: 0.4620, \n"
     ]
    },
    {
     "name": "stdout",
     "output_type": "stream",
     "text": [
      "epoch: 2, [batch: 5376 / 6720], examples_per_second: 3651.1326, train_label_loss: 0.6150, \n"
     ]
    },
    {
     "name": "stdout",
     "output_type": "stream",
     "text": [
      "epoch: 2, [batch: 6048 / 6720], examples_per_second: 3652.2358, train_label_loss: 0.3673, \n"
     ]
    },
    {
     "name": "stdout",
     "output_type": "stream",
     "text": [
      "=============================================================\n",
      "epoch: 2, source_val_acc_label: 0.8684, target_val_acc_label: 0.5376, source_val_label_loss: 0.3650, target_val_label_loss: 5172.0181, \n",
      "=============================================================\n"
     ]
    },
    {
     "name": "stdout",
     "output_type": "stream",
     "text": [
      "epoch: 3, [batch: 1 / 6720], examples_per_second: 5.2712, train_label_loss: 0.3288, \n"
     ]
    },
    {
     "name": "stdout",
     "output_type": "stream",
     "text": [
      "epoch: 3, [batch: 672 / 6720], examples_per_second: 3641.6466, train_label_loss: 0.2697, \n"
     ]
    },
    {
     "name": "stdout",
     "output_type": "stream",
     "text": [
      "epoch: 3, [batch: 1344 / 6720], examples_per_second: 3653.7755, train_label_loss: 0.2600, \n"
     ]
    },
    {
     "name": "stdout",
     "output_type": "stream",
     "text": [
      "epoch: 3, [batch: 2016 / 6720], examples_per_second: 3653.1404, train_label_loss: 0.2793, \n"
     ]
    },
    {
     "name": "stdout",
     "output_type": "stream",
     "text": [
      "epoch: 3, [batch: 2688 / 6720], examples_per_second: 3617.5937, train_label_loss: 0.1058, \n"
     ]
    },
    {
     "name": "stdout",
     "output_type": "stream",
     "text": [
      "epoch: 3, [batch: 3360 / 6720], examples_per_second: 3641.4601, train_label_loss: 0.3645, \n"
     ]
    },
    {
     "name": "stdout",
     "output_type": "stream",
     "text": [
      "epoch: 3, [batch: 4032 / 6720], examples_per_second: 3641.9596, train_label_loss: 0.3680, \n"
     ]
    },
    {
     "name": "stdout",
     "output_type": "stream",
     "text": [
      "epoch: 3, [batch: 4704 / 6720], examples_per_second: 3639.9851, train_label_loss: 0.2035, \n"
     ]
    },
    {
     "name": "stdout",
     "output_type": "stream",
     "text": [
      "epoch: 3, [batch: 5376 / 6720], examples_per_second: 3661.9087, train_label_loss: 0.3073, \n"
     ]
    },
    {
     "name": "stdout",
     "output_type": "stream",
     "text": [
      "epoch: 3, [batch: 6048 / 6720], examples_per_second: 3648.5303, train_label_loss: 0.2098, \n"
     ]
    },
    {
     "name": "stdout",
     "output_type": "stream",
     "text": [
      "=============================================================\n",
      "epoch: 3, source_val_acc_label: 0.8808, target_val_acc_label: 0.4654, source_val_label_loss: 0.3326, target_val_label_loss: 8205.0137, \n",
      "=============================================================\n"
     ]
    },
    {
     "name": "stdout",
     "output_type": "stream",
     "text": [
      "epoch: 4, [batch: 1 / 6720], examples_per_second: 5.2794, train_label_loss: 0.1598, \n"
     ]
    },
    {
     "name": "stdout",
     "output_type": "stream",
     "text": [
      "epoch: 4, [batch: 672 / 6720], examples_per_second: 3642.9707, train_label_loss: 0.2849, \n"
     ]
    },
    {
     "name": "stdout",
     "output_type": "stream",
     "text": [
      "epoch: 4, [batch: 1344 / 6720], examples_per_second: 3665.2844, train_label_loss: 0.3744, \n"
     ]
    },
    {
     "name": "stdout",
     "output_type": "stream",
     "text": [
      "epoch: 4, [batch: 2016 / 6720], examples_per_second: 3652.9122, train_label_loss: 0.3403, \n"
     ]
    },
    {
     "name": "stdout",
     "output_type": "stream",
     "text": [
      "epoch: 4, [batch: 2688 / 6720], examples_per_second: 3642.3100, train_label_loss: 0.4128, \n"
     ]
    },
    {
     "name": "stdout",
     "output_type": "stream",
     "text": [
      "epoch: 4, [batch: 3360 / 6720], examples_per_second: 3654.1449, train_label_loss: 0.2036, \n"
     ]
    },
    {
     "name": "stdout",
     "output_type": "stream",
     "text": [
      "epoch: 4, [batch: 4032 / 6720], examples_per_second: 3661.9100, train_label_loss: 0.4133, \n"
     ]
    },
    {
     "name": "stdout",
     "output_type": "stream",
     "text": [
      "epoch: 4, [batch: 4704 / 6720], examples_per_second: 3642.8734, train_label_loss: 0.2695, \n"
     ]
    },
    {
     "name": "stdout",
     "output_type": "stream",
     "text": [
      "epoch: 4, [batch: 5376 / 6720], examples_per_second: 3651.5997, train_label_loss: 0.1735, \n"
     ]
    },
    {
     "name": "stdout",
     "output_type": "stream",
     "text": [
      "epoch: 4, [batch: 6048 / 6720], examples_per_second: 3641.0009, train_label_loss: 0.1595, \n"
     ]
    },
    {
     "name": "stdout",
     "output_type": "stream",
     "text": [
      "=============================================================\n",
      "epoch: 4, source_val_acc_label: 0.8850, target_val_acc_label: 0.5054, source_val_label_loss: 0.3130, target_val_label_loss: 8371.9961, \n",
      "=============================================================\n"
     ]
    },
    {
     "name": "stdout",
     "output_type": "stream",
     "text": [
      "epoch: 5, [batch: 1 / 6720], examples_per_second: 5.3066, train_label_loss: 0.2289, \n"
     ]
    },
    {
     "name": "stdout",
     "output_type": "stream",
     "text": [
      "epoch: 5, [batch: 672 / 6720], examples_per_second: 3644.9337, train_label_loss: 0.1824, \n"
     ]
    },
    {
     "name": "stdout",
     "output_type": "stream",
     "text": [
      "epoch: 5, [batch: 1344 / 6720], examples_per_second: 3644.7435, train_label_loss: 0.7109, \n"
     ]
    },
    {
     "name": "stdout",
     "output_type": "stream",
     "text": [
      "epoch: 5, [batch: 2016 / 6720], examples_per_second: 3665.7762, train_label_loss: 0.4558, \n"
     ]
    },
    {
     "name": "stdout",
     "output_type": "stream",
     "text": [
      "epoch: 5, [batch: 2688 / 6720], examples_per_second: 3637.3324, train_label_loss: 0.1452, \n"
     ]
    },
    {
     "name": "stdout",
     "output_type": "stream",
     "text": [
      "epoch: 5, [batch: 3360 / 6720], examples_per_second: 3664.4146, train_label_loss: 0.2005, \n"
     ]
    },
    {
     "name": "stdout",
     "output_type": "stream",
     "text": [
      "epoch: 5, [batch: 4032 / 6720], examples_per_second: 3645.2936, train_label_loss: 0.1293, \n"
     ]
    },
    {
     "name": "stdout",
     "output_type": "stream",
     "text": [
      "epoch: 5, [batch: 4704 / 6720], examples_per_second: 3633.1715, train_label_loss: 0.2146, \n"
     ]
    },
    {
     "name": "stdout",
     "output_type": "stream",
     "text": [
      "epoch: 5, [batch: 5376 / 6720], examples_per_second: 3652.5483, train_label_loss: 0.2596, \n"
     ]
    },
    {
     "name": "stdout",
     "output_type": "stream",
     "text": [
      "epoch: 5, [batch: 6048 / 6720], examples_per_second: 3654.0388, train_label_loss: 0.3670, \n"
     ]
    },
    {
     "name": "stdout",
     "output_type": "stream",
     "text": [
      "=============================================================\n",
      "epoch: 5, source_val_acc_label: 0.9016, target_val_acc_label: 0.5046, source_val_label_loss: 0.2721, target_val_label_loss: 9325.3916, \n",
      "=============================================================\n"
     ]
    },
    {
     "name": "stdout",
     "output_type": "stream",
     "text": [
      "Patience (3) exhausted\n"
     ]
    }
   ],
   "source": [
    "###################################\n",
    "# train\n",
    "###################################\n",
    "jig = PTN_Train_Eval_Test_Jig(model, p.BEST_MODEL_PATH, p.device)\n",
    "\n",
    "jig.train(\n",
    "    train_iterable=datasets.source.processed.train,\n",
    "    source_val_iterable=datasets.source.processed.val,\n",
    "    target_val_iterable=datasets.target.processed.val,\n",
    "    num_epochs=p.n_epoch,\n",
    "    num_logs_per_epoch=p.NUM_LOGS_PER_EPOCH,\n",
    "    patience=p.patience,\n",
    "    optimizer=optimizer,\n",
    "    criteria_for_best=p.criteria_for_best,\n",
    ")"
   ]
  },
  {
   "cell_type": "code",
   "execution_count": 23,
   "id": "31e8fabf",
   "metadata": {
    "execution": {
     "iopub.execute_input": "2022-03-25T08:56:05.464773Z",
     "iopub.status.busy": "2022-03-25T08:56:05.464524Z",
     "iopub.status.idle": "2022-03-25T08:56:05.482120Z",
     "shell.execute_reply": "2022-03-25T08:56:05.481701Z"
    },
    "papermill": {
     "duration": 0.044201,
     "end_time": "2022-03-25T08:56:05.482209",
     "exception": false,
     "start_time": "2022-03-25T08:56:05.438008",
     "status": "completed"
    },
    "tags": []
   },
   "outputs": [],
   "source": [
    "total_experiment_time_secs = time.time() - start_time_secs"
   ]
  },
  {
   "cell_type": "code",
   "execution_count": 24,
   "id": "87b9595b",
   "metadata": {
    "execution": {
     "iopub.execute_input": "2022-03-25T08:56:05.550531Z",
     "iopub.status.busy": "2022-03-25T08:56:05.546547Z",
     "iopub.status.idle": "2022-03-25T08:57:36.515276Z",
     "shell.execute_reply": "2022-03-25T08:57:36.514783Z"
    },
    "papermill": {
     "duration": 90.994968,
     "end_time": "2022-03-25T08:57:36.515392",
     "exception": false,
     "start_time": "2022-03-25T08:56:05.520424",
     "status": "completed"
    },
    "tags": []
   },
   "outputs": [],
   "source": [
    "###################################\n",
    "# Evaluate the model\n",
    "###################################\n",
    "source_test_label_accuracy, source_test_label_loss = jig.test(datasets.source.processed.test)\n",
    "target_test_label_accuracy, target_test_label_loss = jig.test(datasets.target.processed.test)\n",
    "\n",
    "source_val_label_accuracy, source_val_label_loss = jig.test(datasets.source.processed.val)\n",
    "target_val_label_accuracy, target_val_label_loss = jig.test(datasets.target.processed.val)\n",
    "\n",
    "history = jig.get_history()\n",
    "\n",
    "total_epochs_trained = len(history[\"epoch_indices\"])\n",
    "\n",
    "val_dl = Iterable_Aggregator((datasets.source.original.val,datasets.target.original.val))\n",
    "\n",
    "confusion = ptn_confusion_by_domain_over_dataloader(model, p.device, val_dl)\n",
    "per_domain_accuracy = per_domain_accuracy_from_confusion(confusion)\n",
    "\n",
    "# Add a key to per_domain_accuracy for if it was a source domain\n",
    "for domain, accuracy in per_domain_accuracy.items():\n",
    "    per_domain_accuracy[domain] = {\n",
    "        \"accuracy\": accuracy,\n",
    "        \"source?\": domain in p.domains_source\n",
    "    }\n",
    "\n",
    "# Do an independent accuracy assesment JUST TO BE SURE!\n",
    "# _source_test_label_accuracy = independent_accuracy_assesment(model, datasets.source.processed.test, p.device)\n",
    "# _target_test_label_accuracy = independent_accuracy_assesment(model, datasets.target.processed.test, p.device)\n",
    "# _source_val_label_accuracy = independent_accuracy_assesment(model, datasets.source.processed.val, p.device)\n",
    "# _target_val_label_accuracy = independent_accuracy_assesment(model, datasets.target.processed.val, p.device)\n",
    "\n",
    "# assert(_source_test_label_accuracy == source_test_label_accuracy)\n",
    "# assert(_target_test_label_accuracy == target_test_label_accuracy)\n",
    "# assert(_source_val_label_accuracy == source_val_label_accuracy)\n",
    "# assert(_target_val_label_accuracy == target_val_label_accuracy)\n",
    "\n",
    "experiment = {\n",
    "    \"experiment_name\": p.experiment_name,\n",
    "    \"parameters\": dict(p),\n",
    "    \"results\": {\n",
    "        \"source_test_label_accuracy\": source_test_label_accuracy,\n",
    "        \"source_test_label_loss\": source_test_label_loss,\n",
    "        \"target_test_label_accuracy\": target_test_label_accuracy,\n",
    "        \"target_test_label_loss\": target_test_label_loss,\n",
    "        \"source_val_label_accuracy\": source_val_label_accuracy,\n",
    "        \"source_val_label_loss\": source_val_label_loss,\n",
    "        \"target_val_label_accuracy\": target_val_label_accuracy,\n",
    "        \"target_val_label_loss\": target_val_label_loss,\n",
    "        \"total_epochs_trained\": total_epochs_trained,\n",
    "        \"total_experiment_time_secs\": total_experiment_time_secs,\n",
    "        \"confusion\": confusion,\n",
    "        \"per_domain_accuracy\": per_domain_accuracy,\n",
    "    },\n",
    "    \"history\": history,\n",
    "    \"dataset_metrics\": get_dataset_metrics(datasets, \"ptn\"),\n",
    "}"
   ]
  },
  {
   "cell_type": "code",
   "execution_count": 25,
   "id": "54a21829",
   "metadata": {
    "execution": {
     "iopub.execute_input": "2022-03-25T08:57:36.568761Z",
     "iopub.status.busy": "2022-03-25T08:57:36.568504Z",
     "iopub.status.idle": "2022-03-25T08:57:36.681924Z",
     "shell.execute_reply": "2022-03-25T08:57:36.682357Z"
    },
    "papermill": {
     "duration": 0.140569,
     "end_time": "2022-03-25T08:57:36.682488",
     "exception": false,
     "start_time": "2022-03-25T08:57:36.541919",
     "status": "completed"
    },
    "tags": []
   },
   "outputs": [
    {
     "data": {
      "image/png": "[encoded data removed]",
      "text/plain": [
       "<Figure size 1080x504 with 1 Axes>"
      ]
     },
     "metadata": {
      "needs_background": "light"
     },
     "output_type": "display_data"
    }
   ],
   "source": [
    "ax = get_loss_curve(experiment)\n",
    "plt.show()"
   ]
  },
  {
   "cell_type": "code",
   "execution_count": 26,
   "id": "fd8a0f60",
   "metadata": {
    "execution": {
     "iopub.execute_input": "2022-03-25T08:57:36.741118Z",
     "iopub.status.busy": "2022-03-25T08:57:36.740860Z",
     "iopub.status.idle": "2022-03-25T08:57:36.883372Z",
     "shell.execute_reply": "2022-03-25T08:57:36.883590Z"
    },
    "papermill": {
     "duration": 0.170206,
     "end_time": "2022-03-25T08:57:36.883668",
     "exception": false,
     "start_time": "2022-03-25T08:57:36.713462",
     "status": "completed"
    },
    "tags": []
   },
   "outputs": [
    {
     "data": {
      "text/plain": [
       "<AxesSubplot:title={'center':'Results'}>"
      ]
     },
     "execution_count": 26,
     "metadata": {},
     "output_type": "execute_result"
    },
    {
     "data": {
      "image/png": "[encoded data removed]",
      "text/plain": [
       "<Figure size 1080x504 with 1 Axes>"
      ]
     },
     "metadata": {
      "needs_background": "light"
     },
     "output_type": "display_data"
    }
   ],
   "source": [
    "get_results_table(experiment)"
   ]
  },
  {
   "cell_type": "code",
   "execution_count": 27,
   "id": "cf8dc689",
   "metadata": {
    "execution": {
     "iopub.execute_input": "2022-03-25T08:57:36.939977Z",
     "iopub.status.busy": "2022-03-25T08:57:36.939163Z",
     "iopub.status.idle": "2022-03-25T08:57:37.075371Z",
     "shell.execute_reply": "2022-03-25T08:57:37.075789Z"
    },
    "papermill": {
     "duration": 0.164933,
     "end_time": "2022-03-25T08:57:37.075917",
     "exception": false,
     "start_time": "2022-03-25T08:57:36.910984",
     "status": "completed"
    },
    "tags": []
   },
   "outputs": [
    {
     "data": {
      "text/plain": [
       "<AxesSubplot:title={'center':'Per Domain Validation Accuracy'}, xlabel='domain'>"
      ]
     },
     "execution_count": 27,
     "metadata": {},
     "output_type": "execute_result"
    },
    {
     "data": {
      "image/png": "[encoded data removed]",
      "text/plain": [
       "<Figure size 1080x504 with 1 Axes>"
      ]
     },
     "metadata": {
      "needs_background": "light"
     },
     "output_type": "display_data"
    }
   ],
   "source": [
    "get_domain_accuracies(experiment)"
   ]
  },
  {
   "cell_type": "code",
   "execution_count": 28,
   "id": "a74ae082",
   "metadata": {
    "execution": {
     "iopub.execute_input": "2022-03-25T08:57:37.140101Z",
     "iopub.status.busy": "2022-03-25T08:57:37.139841Z",
     "iopub.status.idle": "2022-03-25T08:57:37.155077Z",
     "shell.execute_reply": "2022-03-25T08:57:37.155458Z"
    },
    "papermill": {
     "duration": 0.046261,
     "end_time": "2022-03-25T08:57:37.155581",
     "exception": false,
     "start_time": "2022-03-25T08:57:37.109320",
     "status": "completed"
    },
    "tags": []
   },
   "outputs": [
    {
     "name": "stdout",
     "output_type": "stream",
     "text": [
      "Source Test Label Accuracy: 0.58076171875 Target Test Label Accuracy: 0.7036335578002245\n",
      "Source Val Label Accuracy: 0.5787760416666666 Target Val Label Accuracy: 0.7023401826484018\n"
     ]
    }
   ],
   "source": [
    "print(\"Source Test Label Accuracy:\", experiment[\"results\"][\"source_test_label_accuracy\"], \"Target Test Label Accuracy:\", experiment[\"results\"][\"target_test_label_accuracy\"])\n",
    "print(\"Source Val Label Accuracy:\", experiment[\"results\"][\"source_val_label_accuracy\"], \"Target Val Label Accuracy:\", experiment[\"results\"][\"target_val_label_accuracy\"])"
   ]
  },
  {
   "cell_type": "code",
   "execution_count": 29,
   "id": "dacca602",
   "metadata": {
    "execution": {
     "iopub.execute_input": "2022-03-25T08:57:37.218237Z",
     "iopub.status.busy": "2022-03-25T08:57:37.217970Z",
     "iopub.status.idle": "2022-03-25T08:57:37.237906Z",
     "shell.execute_reply": "2022-03-25T08:57:37.238343Z"
    },
    "papermill": {
     "duration": 0.04964,
     "end_time": "2022-03-25T08:57:37.238468",
     "exception": false,
     "start_time": "2022-03-25T08:57:37.188828",
     "status": "completed"
    },
    "tags": [
     "experiment_json"
    ]
   },
   "outputs": [
    {
     "data": {
      "text/plain": [
       "'{\"experiment_name\": \"tl_3Av2:oracle.run1.framed -> cores\", \"parameters\": {\"experiment_name\": \"tl_3Av2:oracle.run1.framed -> cores\", \"device\": \"cuda\", \"lr\": 0.0001, \"x_shape\": [2, 200], \"n_shot\": 3, \"n_query\": 2, \"train_k_factor\": 3, \"val_k_factor\": 2, \"test_k_factor\": 2, \"torch_default_dtype\": \"torch.float32\", \"n_epoch\": 50, \"patience\": 3, \"criteria_for_best\": \"target_accuracy\", \"x_net\": [{\"class\": \"nnReshape\", \"kargs\": {\"shape\": [-1, 1, 2, 200]}}, {\"class\": \"Conv2d\", \"kargs\": {\"in_channels\": 1, \"out_channels\": 256, \"kernel_size\": [1, 7], \"bias\": false, \"padding\": [0, 3]}}, {\"class\": \"ReLU\", \"kargs\": {\"inplace\": true}}, {\"class\": \"BatchNorm2d\", \"kargs\": {\"num_features\": 256}}, {\"class\": \"Conv2d\", \"kargs\": {\"in_channels\": 256, \"out_channels\": 80, \"kernel_size\": [2, 7], \"bias\": true, \"padding\": [0, 3]}}, {\"class\": \"ReLU\", \"kargs\": {\"inplace\": true}}, {\"class\": \"BatchNorm2d\", \"kargs\": {\"num_features\": 80}}, {\"class\": \"Flatten\", \"kargs\": {}}, {\"class\": \"Linear\", \"kargs\": {\"in_features\": 16000, \"out_features\": 256}}, {\"class\": \"ReLU\", \"kargs\": {\"inplace\": true}}, {\"class\": \"BatchNorm1d\", \"kargs\": {\"num_features\": 256}}, {\"class\": \"Linear\", \"kargs\": {\"in_features\": 256, \"out_features\": 256}}], \"NUM_LOGS_PER_EPOCH\": 10, \"BEST_MODEL_PATH\": \"./best_model.pth\", \"n_way\": 16, \"datasets\": [{\"labels\": [\"1-10.\", \"1-11.\", \"1-15.\", \"1-16.\", \"1-17.\", \"1-18.\", \"1-19.\", \"10-4.\", \"10-7.\", \"11-1.\", \"11-14.\", \"11-17.\", \"11-20.\", \"11-7.\", \"13-20.\", \"13-8.\", \"14-10.\", \"14-11.\", \"14-14.\", \"14-7.\", \"15-1.\", \"15-20.\", \"16-1.\", \"16-16.\", \"17-10.\", \"17-11.\", \"17-2.\", \"19-1.\", \"19-16.\", \"19-19.\", \"19-20.\", \"19-3.\", \"2-10.\", \"2-11.\", \"2-17.\", \"2-18.\", \"2-20.\", \"2-3.\", \"2-4.\", \"2-5.\", \"2-6.\", \"2-7.\", \"2-8.\", \"3-13.\", \"3-18.\", \"3-3.\", \"4-1.\", \"4-10.\", \"4-11.\", \"4-19.\", \"5-5.\", \"6-15.\", \"7-10.\", \"7-14.\", \"8-18.\", \"8-20.\", \"8-3.\", \"8-8.\"], \"domains\": [1, 2, 3, 4, 5], \"num_examples_per_domain_per_label\": -1, \"pickle_path\": \"/mnt/wd500GB/CSC500/csc500-main/datasets/cores.stratified_ds.2022A.pkl\", \"source_or_target_dataset\": \"target\", \"x_transforms\": [\"take_200\"], \"episode_transforms\": [], \"domain_prefix\": \"C_\"}, {\"labels\": [\"3123D52\", \"3123D65\", \"3123D79\", \"3123D80\", \"3123D54\", \"3123D70\", \"3123D7B\", \"3123D89\", \"3123D58\", \"3123D76\", \"3123D7D\", \"3123EFE\", \"3123D64\", \"3123D78\", \"3123D7E\", \"3124E4A\"], \"domains\": [32, 38, 8, 44, 14, 50, 20, 26], \"num_examples_per_domain_per_label\": 2000, \"pickle_path\": \"/mnt/wd500GB/CSC500/csc500-main/datasets/oracle.Run1_framed_2000Examples_stratified_ds.2022A.pkl\", \"source_or_target_dataset\": \"source\", \"x_transforms\": [\"take_200\", \"resample_20Msps_to_25Msps\"], \"episode_transforms\": [], \"domain_prefix\": \"O_\"}], \"seed\": 1337, \"dataset_seed\": 1337, \"domains_source\": [\"O_32\", \"O_38\", \"O_8\", \"O_44\", \"O_14\", \"O_50\", \"O_20\", \"O_26\"], \"domains_target\": [\"C_1\", \"C_2\", \"C_3\", \"C_4\", \"C_5\"]}, \"results\": {\"source_test_label_accuracy\": 0.58076171875, \"source_test_label_loss\": 74.66057586669922, \"target_test_label_accuracy\": 0.7036335578002245, \"target_test_label_loss\": 4499.75341796875, \"source_val_label_accuracy\": 0.5787760416666666, \"source_val_label_loss\": 74.3559799194336, \"target_val_label_accuracy\": 0.7023401826484018, \"target_val_label_loss\": 4453.94677734375, \"total_epochs_trained\": 5, \"total_experiment_time_secs\": 837.3385875225067, \"confusion\": {\"O_14\": {\"15\": {\"15\": 240}, \"3\": {\"7\": 64, \"6\": 39, \"13\": 21, \"3\": 66, \"14\": 8, \"0\": 36, \"2\": 6}, \"6\": {\"6\": 67, \"3\": 36, \"7\": 32, \"13\": 48, \"14\": 31, \"0\": 18, \"2\": 8}, \"1\": {\"1\": 240}, \"8\": {\"8\": 238, \"0\": 2}, \"10\": {\"10\": 240}, \"9\": {\"9\": 240}, \"13\": {\"5\": 33, \"14\": 36, \"2\": 39, \"7\": 21, \"15\": 20, \"6\": 31, \"13\": 44, \"3\": 10, \"0\": 5, \"4\": 1}, \"12\": {\"12\": 240}, \"5\": {\"5\": 210, \"2\": 14, \"14\": 8, \"4\": 6, \"13\": 2}, \"0\": {\"0\": 95, \"14\": 37, \"7\": 21, \"5\": 12, \"10\": 11, \"2\": 9, \"13\": 11, \"3\": 22, \"8\": 13, \"6\": 9}, \"2\": {\"4\": 28, \"5\": 79, \"14\": 27, \"7\": 22, \"6\": 10, \"2\": 53, \"13\": 9, \"3\": 9, \"0\": 3}, \"11\": {\"11\": 188, \"8\": 39, \"4\": 5, \"10\": 4, \"9\": 2, \"5\": 2}, \"14\": {\"2\": 32, \"14\": 141, \"7\": 37, \"5\": 8, \"13\": 17, \"0\": 2, \"3\": 3}, \"7\": {\"7\": 181, \"2\": 18, \"5\": 10, \"14\": 20, \"13\": 3, \"3\": 5, \"6\": 1, \"0\": 2}, \"4\": {\"4\": 236, \"5\": 4}}, \"O_20\": {\"3\": {\"1\": 3, \"3\": 167, \"5\": 28, \"8\": 17, \"9\": 24, \"0\": 1}, \"15\": {\"15\": 211, \"1\": 4, \"12\": 25}, \"8\": {\"8\": 224, \"14\": 11, \"3\": 5}, \"4\": {\"4\": 237, \"12\": 3}, \"14\": {\"14\": 234, \"8\": 6}, \"0\": {\"0\": 232, \"5\": 5, \"3\": 3}, \"7\": {\"7\": 219, \"2\": 12, \"9\": 7, \"6\": 1, \"4\": 1}, \"6\": {\"6\": 238, \"7\": 2}, \"10\": {\"10\": 240}, \"5\": {\"5\": 177, \"1\": 28, \"3\": 33, \"9\": 2}, \"2\": {\"2\": 203, \"15\": 3, \"12\": 25, \"4\": 2, \"13\": 2, \"7\": 5}, \"12\": {\"12\": 215, \"15\": 13, \"2\": 9, \"4\": 3}, \"9\": {\"9\": 224, \"1\": 5, \"7\": 6, \"3\": 5}, \"1\": {\"1\": 217, \"5\": 20, \"9\": 3}, \"11\": {\"11\": 240}, \"13\": {\"13\": 237, \"2\": 3}}, \"O_38\": {\"5\": {\"8\": 61, \"12\": 52, \"2\": 14, \"5\": 58, \"9\": 26, \"15\": 15, \"14\": 7, \"7\": 7}, \"8\": {\"7\": 11, \"8\": 57, \"12\": 65, \"5\": 40, \"9\": 23, \"14\": 7, \"2\": 23, \"15\": 14}, \"11\": {\"11\": 216, \"3\": 24}, \"1\": {\"1\": 148, \"6\": 92}, \"10\": {\"0\": 55, \"10\": 154, \"4\": 18, \"13\": 12, \"3\": 1}, \"15\": {\"15\": 161, \"12\": 42, \"6\": 22, \"8\": 5, \"1\": 5, \"5\": 5}, \"3\": {\"3\": 227, \"11\": 13}, \"7\": {\"7\": 131, \"9\": 31, \"14\": 34, \"5\": 2, \"8\": 2, \"13\": 17, \"2\": 17, \"0\": 5, \"4\": 1}, \"4\": {\"4\": 122, \"13\": 77, \"10\": 9, \"0\": 31, \"7\": 1}, \"14\": {\"5\": 2, \"14\": 98, \"2\": 74, \"9\": 7, \"7\": 47, \"13\": 5, \"8\": 5, \"0\": 2}, \"9\": {\"8\": 29, \"14\": 18, \"5\": 29, \"9\": 103, \"2\": 20, \"7\": 40, \"0\": 1}, \"12\": {\"12\": 174, \"5\": 35, \"8\": 22, \"15\": 9}, \"6\": {\"1\": 114, \"6\": 125, \"15\": 1}, \"2\": {\"14\": 61, \"2\": 106, \"9\": 23, \"7\": 17, \"8\": 20, \"5\": 13}, \"0\": {\"4\": 51, \"7\": 24, \"14\": 2, \"0\": 44, \"10\": 68, \"13\": 42, \"3\": 8, \"9\": 1}, \"13\": {\"4\": 70, \"13\": 107, \"7\": 21, \"0\": 31, \"10\": 6, \"14\": 5}}, \"O_8\": {\"9\": {\"9\": 240}, \"10\": {\"5\": 35, \"10\": 99, \"1\": 46, \"13\": 46, \"11\": 9, \"6\": 5}, \"13\": {\"13\": 160, \"10\": 51, \"7\": 21, \"5\": 6, \"6\": 1, \"1\": 1}, \"0\": {\"0\": 217, \"14\": 23}, \"1\": {\"11\": 54, \"1\": 137, \"5\": 27, \"10\": 13, \"13\": 9}, \"15\": {\"15\": 227, \"12\": 13}, \"5\": {\"5\": 145, \"13\": 16, \"1\": 27, \"10\": 41, \"11\": 10, \"9\": 1}, \"3\": {\"3\": 239, \"2\": 1}, \"6\": {\"6\": 220, \"7\": 20}, \"11\": {\"5\": 9, \"11\": 106, \"1\": 91, \"10\": 8, \"4\": 26}, \"8\": {\"8\": 123, \"14\": 32, \"6\": 56, \"4\": 29}, \"4\": {\"14\": 11, \"4\": 213, \"6\": 3, \"8\": 10, \"11\": 3}, \"12\": {\"12\": 197, \"15\": 43}, \"14\": {\"14\": 143, \"4\": 74, \"8\": 22, \"0\": 1}, \"2\": {\"3\": 46, \"15\": 5, \"2\": 181, \"12\": 8}, \"7\": {\"7\": 215, \"6\": 24, \"13\": 1}}, \"O_50\": {\"7\": {\"5\": 13, \"7\": 139, \"4\": 85, \"9\": 3}, \"3\": {\"3\": 173, \"11\": 26, \"6\": 20, \"13\": 14, \"5\": 5, \"15\": 2}, \"8\": {\"8\": 189, \"1\": 22, \"10\": 29}, \"2\": {\"2\": 105, \"14\": 84, \"0\": 51}, \"14\": {\"0\": 70, \"2\": 84, \"14\": 78, \"10\": 8}, \"4\": {\"4\": 124, \"7\": 101, \"5\": 10, \"9\": 5}, \"6\": {\"12\": 27, \"6\": 72, \"9\": 14, \"5\": 36, \"11\": 28, \"3\": 5, \"15\": 58}, \"15\": {\"15\": 53, \"5\": 38, \"9\": 51, \"12\": 38, \"6\": 46, \"4\": 1, \"11\": 13}, \"10\": {\"8\": 28, \"0\": 34, \"10\": 172, \"14\": 6}, \"11\": {\"11\": 145, \"3\": 28, \"15\": 11, \"12\": 34, \"6\": 17, \"9\": 2, \"5\": 3}, \"13\": {\"3\": 10, \"13\": 183, \"1\": 43, \"11\": 4}, \"9\": {\"15\": 45, \"9\": 103, \"11\": 4, \"12\": 33, \"5\": 30, \"6\": 13, \"7\": 9, \"4\": 3}, \"0\": {\"0\": 123, \"10\": 37, \"14\": 56, \"2\": 24}, \"1\": {\"8\": 43, \"1\": 117, \"13\": 62, \"10\": 15, \"0\": 1, \"3\": 2}, \"12\": {\"6\": 30, \"12\": 65, \"5\": 10, \"9\": 44, \"3\": 2, \"11\": 44, \"15\": 45}, \"5\": {\"5\": 60, \"9\": 27, \"4\": 19, \"15\": 21, \"3\": 9, \"6\": 27, \"13\": 8, \"11\": 21, \"7\": 43, \"12\": 4, \"1\": 1}}, \"O_32\": {\"8\": {\"2\": 19, \"8\": 71, \"0\": 53, \"15\": 4, \"14\": 39, \"7\": 37, \"5\": 13, \"4\": 4}, \"14\": {\"5\": 16, \"14\": 59, \"7\": 37, \"0\": 41, \"2\": 22, \"8\": 49, \"3\": 1, \"15\": 11, \"4\": 4}, \"2\": {\"13\": 12, \"2\": 114, \"4\": 71, \"3\": 21, \"1\": 17, \"14\": 1, \"0\": 1, \"8\": 3}, \"0\": {\"5\": 22, \"14\": 45, \"0\": 68, \"8\": 56, \"7\": 39, \"15\": 8, \"2\": 1, \"4\": 1}, \"1\": {\"13\": 35, \"1\": 157, \"4\": 24, \"2\": 21, \"9\": 2, \"3\": 1}, \"10\": {\"10\": 213, \"12\": 18, \"6\": 9}, \"11\": {\"11\": 106, \"9\": 106, \"13\": 23, \"12\": 4, \"1\": 1}, \"5\": {\"5\": 52, \"15\": 85, \"8\": 24, \"14\": 11, \"7\": 40, \"0\": 27, \"2\": 1}, \"15\": {\"5\": 63, \"0\": 15, \"15\": 116, \"8\": 4, \"7\": 38, \"14\": 4}, \"3\": {\"13\": 61, \"3\": 78, \"4\": 53, \"2\": 36, \"1\": 9, \"8\": 2, \"9\": 1}, \"12\": {\"12\": 207, \"10\": 16, \"9\": 16, \"11\": 1}, \"7\": {\"0\": 45, \"5\": 54, \"14\": 22, \"8\": 27, \"7\": 67, \"15\": 25}, \"13\": {\"1\": 16, \"13\": 104, \"4\": 28, \"9\": 15, \"3\": 42, \"2\": 13, \"11\": 22}, \"6\": {\"6\": 226, \"10\": 14}, \"4\": {\"13\": 27, \"2\": 67, \"4\": 68, \"3\": 51, \"1\": 26, \"14\": 1}, \"9\": {\"12\": 41, \"11\": 90, \"9\": 74, \"13\": 26, \"1\": 9}}, \"O_26\": {\"4\": {\"4\": 240}, \"12\": {\"13\": 43, \"7\": 31, \"3\": 56, \"9\": 29, \"12\": 68, \"8\": 11, \"2\": 2}, \"10\": {\"10\": 59, \"11\": 3, \"0\": 65, \"14\": 56, \"15\": 28, \"6\": 14, \"2\": 4, \"1\": 5, \"5\": 6}, \"0\": {\"0\": 96, \"10\": 41, \"2\": 48, \"5\": 1, \"14\": 26, \"15\": 10, \"7\": 2, \"8\": 9, \"11\": 1, \"6\": 4, \"9\": 2}, \"13\": {\"0\": 5, \"4\": 54, \"9\": 12, \"12\": 42, \"13\": 71, \"2\": 5, \"3\": 37, \"7\": 6, \"8\": 8}, \"9\": {\"9\": 30, \"12\": 23, \"3\": 36, \"13\": 14, \"8\": 39, \"7\": 43, \"2\": 39, \"0\": 13, \"4\": 3}, \"3\": {\"12\": 57, \"13\": 40, \"3\": 59, \"7\": 27, \"8\": 18, \"9\": 30, \"4\": 5, \"2\": 4}, \"2\": {\"2\": 77, \"0\": 54, \"12\": 8, \"8\": 34, \"7\": 33, \"9\": 18, \"10\": 7, \"15\": 1, \"3\": 3, \"14\": 4, \"13\": 1}, \"5\": {\"1\": 46, \"11\": 51, \"6\": 36, \"5\": 54, \"15\": 38, \"14\": 10, \"10\": 5}, \"14\": {\"1\": 6, \"0\": 51, \"14\": 55, \"15\": 30, \"10\": 56, \"5\": 5, \"6\": 32, \"11\": 3, \"7\": 1, \"2\": 1}, \"8\": {\"7\": 55, \"8\": 58, \"3\": 18, \"2\": 46, \"9\": 25, \"0\": 12, \"13\": 6, \"12\": 20}, \"7\": {\"3\": 36, \"8\": 48, \"2\": 29, \"7\": 52, \"12\": 35, \"9\": 34, \"13\": 6}, \"6\": {\"15\": 41, \"10\": 20, \"11\": 18, \"6\": 49, \"5\": 41, \"14\": 39, \"1\": 30, \"0\": 2}, \"11\": {\"11\": 103, \"1\": 49, \"5\": 35, \"15\": 21, \"14\": 6, \"6\": 19, \"10\": 7}, \"15\": {\"10\": 29, \"6\": 26, \"5\": 40, \"14\": 43, \"1\": 26, \"15\": 36, \"11\": 21, \"0\": 19}, \"1\": {\"11\": 64, \"14\": 19, \"5\": 49, \"15\": 23, \"1\": 47, \"6\": 29, \"10\": 7, \"0\": 2}}, \"O_44\": {\"12\": {\"12\": 124, \"3\": 109, \"0\": 7}, \"7\": {\"9\": 36, \"7\": 102, \"10\": 75, \"4\": 21, \"14\": 6}, \"5\": {\"5\": 64, \"9\": 2, \"15\": 42, \"14\": 72, \"4\": 34, \"8\": 14, \"1\": 6, \"2\": 5, \"7\": 1}, \"15\": {\"5\": 52, \"2\": 13, \"15\": 82, \"8\": 48, \"4\": 15, \"1\": 13, \"14\": 14, \"7\": 1, \"0\": 2}, \"8\": {\"0\": 55, \"8\": 126, \"5\": 7, \"15\": 40, \"1\": 9, \"2\": 1, \"12\": 1, \"3\": 1}, \"2\": {\"1\": 62, \"14\": 22, \"2\": 108, \"15\": 20, \"5\": 10, \"4\": 11, \"9\": 1, \"8\": 4, \"7\": 1, \"10\": 1}, \"13\": {\"13\": 139, \"6\": 83, \"9\": 16, \"11\": 2}, \"4\": {\"4\": 45, \"14\": 16, \"7\": 55, \"15\": 30, \"9\": 36, \"8\": 7, \"5\": 21, \"6\": 1, \"10\": 13, \"1\": 9, \"2\": 7}, \"0\": {\"0\": 201, \"8\": 29, \"3\": 10}, \"6\": {\"6\": 133, \"13\": 72, \"9\": 28, \"10\": 3, \"7\": 3, \"4\": 1}, \"9\": {\"4\": 23, \"14\": 15, \"10\": 32, \"13\": 33, \"9\": 41, \"7\": 60, \"6\": 24, \"5\": 6, \"2\": 6}, \"11\": {\"11\": 240}, \"10\": {\"7\": 74, \"9\": 46, \"10\": 79, \"6\": 20, \"4\": 5, \"2\": 4, \"14\": 5, \"1\": 6, \"8\": 1}, \"14\": {\"14\": 85, \"4\": 58, \"5\": 51, \"15\": 24, \"1\": 3, \"9\": 6, \"10\": 3, \"2\": 8, \"7\": 2}, \"1\": {\"1\": 125, \"15\": 20, \"2\": 75, \"8\": 13, \"4\": 3, \"14\": 2, \"5\": 2}, \"3\": {\"3\": 124, \"0\": 20, \"12\": 96}}, \"C_3\": {\"43\": {\"43\": 128}, \"9\": {\"9\": 79, \"46\": 1, \"56\": 4, \"48\": 13, \"4\": 15, \"27\": 4, \"1\": 3, \"22\": 3, \"29\": 4, \"47\": 4, \"57\": 8, \"52\": 1, \"0\": 3, \"20\": 3, \"55\": 2, \"40\": 2, \"36\": 1}, \"6\": {\"6\": 50, \"12\": 7, \"45\": 10, \"44\": 6, \"50\": 3, \"3\": 5, \"5\": 6, \"30\": 1}, \"3\": {\"46\": 3, \"3\": 53, \"20\": 1, \"5\": 17, \"30\": 9, \"6\": 10, \"50\": 13, \"45\": 3, \"44\": 5, \"21\": 7, \"22\": 4, \"12\": 11, \"47\": 1, \"0\": 2, \"4\": 2, \"52\": 3}, \"16\": {\"10\": 8, \"16\": 74, \"53\": 5, \"25\": 18, \"11\": 18, \"54\": 6, \"15\": 3, \"43\": 1, \"18\": 1}, \"51\": {\"51\": 118, \"13\": 10}, \"31\": {\"31\": 28}, \"46\": {\"46\": 80, \"3\": 12, \"52\": 9, \"21\": 5, \"47\": 2, \"20\": 4, \"30\": 2, \"0\": 2, \"8\": 1, \"50\": 10, \"5\": 3, \"22\": 1, \"6\": 1, \"12\": 1, \"1\": 1}, \"19\": {\"19\": 100, \"31\": 2, \"55\": 6, \"29\": 2, \"17\": 5, \"54\": 2, \"15\": 1, \"35\": 1, \"36\": 2, \"43\": 1, \"57\": 1, \"23\": 1}, \"8\": {\"8\": 111, \"20\": 17, \"52\": 17, \"41\": 1, \"36\": 1, \"46\": 3, \"21\": 1, \"33\": 1}, \"18\": {\"18\": 62, \"54\": 2, \"15\": 10, \"16\": 3, \"25\": 6, \"11\": 1}, \"37\": {\"37\": 28}, \"24\": {\"24\": 103, \"43\": 1}, \"10\": {\"10\": 60, \"11\": 4}, \"44\": {\"44\": 51, \"22\": 3, \"45\": 4, \"3\": 2, \"6\": 14, \"1\": 1, \"0\": 1, \"40\": 1, \"5\": 6, \"12\": 1, \"4\": 1, \"56\": 1, \"30\": 2}, \"14\": {\"14\": 15, \"13\": 1, \"36\": 3, \"7\": 4, \"56\": 1, \"55\": 4, \"43\": 1, \"51\": 1, \"57\": 1, \"34\": 3, \"29\": 1, \"41\": 1, \"33\": 2, \"32\": 1, \"27\": 1}, \"38\": {\"38\": 27, \"33\": 1}, \"53\": {\"53\": 134, \"43\": 2, \"11\": 2, \"17\": 1, \"37\": 1}, \"20\": {\"20\": 101, \"46\": 2, \"52\": 19, \"21\": 2, \"8\": 8}, \"32\": {\"32\": 28}, \"36\": {\"36\": 96, \"17\": 1, \"14\": 1, \"34\": 2}, \"33\": {\"33\": 16, \"39\": 1, \"7\": 2, \"22\": 1, \"9\": 2, \"41\": 2, \"43\": 1, \"47\": 1, \"14\": 1, \"48\": 1}, \"56\": {\"56\": 109, \"47\": 1, \"1\": 3, \"22\": 13, \"40\": 5, \"9\": 1, \"8\": 1, \"52\": 1, \"4\": 2}, \"23\": {\"23\": 75, \"36\": 4, \"42\": 4, \"34\": 5, \"55\": 19, \"17\": 9, \"29\": 3, \"54\": 2, \"47\": 1, \"15\": 3, \"24\": 1, \"19\": 2, \"27\": 1, \"43\": 1}, \"54\": {\"54\": 95, \"15\": 1, \"24\": 2, \"10\": 1, \"23\": 1}, \"21\": {\"21\": 112, \"50\": 1, \"0\": 1, \"1\": 1, \"52\": 3, \"46\": 2, \"56\": 1, \"3\": 1, \"5\": 1, \"20\": 3}, \"28\": {\"28\": 19, \"18\": 1, \"31\": 3, \"15\": 1, \"17\": 2, \"35\": 2}, \"26\": {\"26\": 23, \"7\": 1}, \"48\": {\"48\": 54, \"20\": 2, \"47\": 8, \"56\": 3, \"27\": 6, \"40\": 2, \"1\": 10, \"0\": 4, \"9\": 12, \"30\": 1, \"4\": 4, \"57\": 3, \"29\": 1, \"8\": 3, \"22\": 2, \"52\": 1}, \"52\": {\"52\": 93, \"46\": 3, \"21\": 2, \"20\": 13, \"27\": 1, \"4\": 1, \"57\": 2, \"30\": 1, \"8\": 2}, \"39\": {\"33\": 2, \"14\": 2, \"39\": 11, \"36\": 1}, \"22\": {\"22\": 101, \"1\": 3, \"20\": 2, \"56\": 14, \"40\": 3, \"46\": 1, \"52\": 3, \"3\": 1, \"48\": 2, \"4\": 4, \"9\": 4, \"47\": 1, \"8\": 1}, \"13\": {\"13\": 111, \"51\": 15, \"29\": 1, \"7\": 1}, \"2\": {\"2\": 28, \"13\": 1, \"21\": 1, \"38\": 1, \"8\": 1}, \"34\": {\"35\": 2, \"34\": 25, \"17\": 2, \"55\": 1, \"36\": 1, \"14\": 1}, \"27\": {\"0\": 13, \"27\": 51, \"57\": 15, \"47\": 6, \"41\": 1, \"29\": 9, \"1\": 7, \"40\": 2, \"48\": 12, \"9\": 6, \"20\": 1, \"56\": 1, \"3\": 1, \"33\": 1, \"4\": 4, \"55\": 1, \"30\": 1}, \"45\": {\"45\": 30, \"3\": 7, \"50\": 3, \"44\": 4, \"12\": 2, \"30\": 3, \"6\": 5, \"5\": 5, \"52\": 1}, \"35\": {\"35\": 28}, \"29\": {\"29\": 67, \"0\": 1, \"56\": 2, \"47\": 8, \"32\": 3, \"4\": 7, \"36\": 4, \"57\": 8, \"17\": 1, \"9\": 11, \"1\": 4, \"27\": 6, \"34\": 1, \"14\": 1, \"48\": 1, \"20\": 2, \"52\": 1}, \"25\": {\"11\": 13, \"25\": 105, \"18\": 6, \"16\": 17, \"10\": 2, \"24\": 1}, \"0\": {\"0\": 72, \"5\": 4, \"47\": 6, \"27\": 3, \"56\": 1, \"1\": 5, \"48\": 5, \"9\": 3, \"20\": 1, \"6\": 2, \"30\": 11, \"22\": 4, \"52\": 3, \"4\": 2, \"57\": 1, \"12\": 1}, \"41\": {\"41\": 23, \"52\": 1, \"8\": 4}, \"11\": {\"25\": 2, \"11\": 113, \"16\": 21, \"10\": 6}, \"5\": {\"5\": 65, \"44\": 13, \"47\": 1, \"45\": 4, \"6\": 7, \"0\": 1, \"22\": 1, \"30\": 4, \"50\": 1, \"4\": 2, \"40\": 1, \"3\": 4, \"52\": 2, \"12\": 2}, \"1\": {\"1\": 55, \"0\": 5, \"4\": 10, \"40\": 6, \"48\": 6, \"9\": 4, \"36\": 1, \"22\": 2, \"56\": 1, \"21\": 1, \"47\": 2, \"57\": 4, \"29\": 1, \"30\": 1, \"20\": 1}, \"57\": {\"57\": 45, \"47\": 8, \"27\": 12, \"32\": 2, \"29\": 10, \"36\": 2, \"48\": 10, \"9\": 12, \"4\": 5, \"56\": 1, \"1\": 5, \"40\": 3, \"0\": 1}, \"17\": {\"17\": 75, \"29\": 3, \"10\": 1, \"34\": 2, \"9\": 1, \"36\": 13, \"47\": 1, \"57\": 1, \"55\": 6, \"23\": 2, \"32\": 2, \"24\": 1}, \"7\": {\"39\": 1, \"7\": 29, \"33\": 3, \"14\": 1, \"26\": 1, \"43\": 1}, \"12\": {\"12\": 52, \"6\": 10, \"0\": 4, \"44\": 3, \"5\": 9, \"45\": 2, \"3\": 6, \"50\": 5, \"46\": 1}, \"47\": {\"29\": 4, \"56\": 3, \"40\": 4, \"0\": 20, \"47\": 22, \"38\": 1, \"57\": 5, \"4\": 3, \"30\": 8, \"48\": 3, \"20\": 1, \"12\": 1, \"6\": 1, \"1\": 3, \"5\": 3, \"9\": 4, \"3\": 1, \"22\": 1, \"27\": 3, \"8\": 1}, \"40\": {\"40\": 75, \"14\": 1, \"56\": 8, \"1\": 5, \"22\": 5, \"57\": 3, \"29\": 4, \"0\": 4, \"46\": 1, \"4\": 10, \"6\": 2, \"9\": 8, \"20\": 3, \"5\": 2, \"47\": 2, \"3\": 1, \"8\": 1, \"27\": 1}, \"15\": {\"15\": 126, \"16\": 6, \"17\": 1, \"10\": 2, \"54\": 3, \"18\": 1, \"23\": 1, \"43\": 1, \"11\": 1}, \"42\": {\"42\": 16, \"55\": 6, \"35\": 2, \"29\": 1, \"49\": 1, \"27\": 1, \"43\": 1}, \"55\": {\"55\": 83, \"26\": 1, \"23\": 7, \"36\": 15, \"24\": 6, \"34\": 3, \"17\": 11, \"57\": 2, \"19\": 3, \"51\": 2, \"43\": 6, \"29\": 4, \"49\": 1, \"31\": 1, \"39\": 1, \"1\": 1, \"13\": 1, \"56\": 1, \"53\": 1}, \"49\": {\"49\": 13, \"33\": 1, \"7\": 2, \"38\": 1, \"55\": 2, \"24\": 1}, \"30\": {\"30\": 92, \"0\": 7, \"3\": 4, \"52\": 2, \"44\": 1, \"47\": 1, \"5\": 2, \"12\": 1, \"8\": 2, \"6\": 4, \"45\": 2, \"50\": 2}, \"50\": {\"12\": 7, \"50\": 87, \"3\": 8, \"6\": 1, \"46\": 12, \"47\": 1, \"5\": 6, \"30\": 4, \"40\": 1, \"52\": 1, \"0\": 2, \"22\": 1, \"45\": 2, \"4\": 1}, \"4\": {\"9\": 11, \"4\": 57, \"27\": 3, \"40\": 7, \"30\": 2, \"47\": 3, \"22\": 5, \"52\": 1, \"0\": 8, \"3\": 1, \"48\": 7, \"1\": 10, \"5\": 6, \"57\": 4, \"56\": 2, \"29\": 6, \"12\": 1, \"21\": 1, \"50\": 1}}, \"C_4\": {\"35\": {\"14\": 2, \"32\": 2, \"35\": 22, \"57\": 1, \"49\": 3, \"33\": 4, \"19\": 1, \"17\": 1, \"42\": 1, \"36\": 1, \"7\": 1, \"27\": 1}, \"25\": {\"25\": 102, \"16\": 7, \"11\": 8, \"10\": 7, \"18\": 9, \"15\": 1}, \"24\": {\"24\": 52, \"54\": 3, \"43\": 1}, \"48\": {\"1\": 2, \"48\": 72, \"47\": 13, \"57\": 5, \"4\": 9, \"9\": 10, \"29\": 10, \"2\": 1, \"8\": 2, \"36\": 1, \"27\": 6, \"40\": 1, \"44\": 2, \"22\": 2, \"20\": 2}, \"51\": {\"51\": 143, \"43\": 1}, \"13\": {\"13\": 114, \"57\": 1, \"43\": 1, \"29\": 1, \"51\": 1, \"9\": 1, \"56\": 1}, \"14\": {\"40\": 2, \"38\": 2, \"14\": 3, \"27\": 3, \"39\": 3, \"8\": 1, \"13\": 1, \"48\": 1}, \"32\": {\"14\": 2, \"32\": 15, \"49\": 2, \"17\": 1, \"24\": 1, \"55\": 1, \"38\": 2}, \"30\": {\"30\": 34, \"1\": 1, \"6\": 3, \"22\": 1, \"50\": 2, \"5\": 2, \"0\": 1}, \"34\": {\"32\": 1, \"34\": 21, \"42\": 1, \"17\": 1}, \"9\": {\"9\": 61, \"13\": 3, \"2\": 3, \"4\": 18, \"40\": 3, \"45\": 1, \"27\": 4, \"57\": 7, \"29\": 9, \"48\": 12, \"22\": 1, \"47\": 6, \"8\": 3, \"1\": 4, \"46\": 1}, \"1\": {\"1\": 37, \"48\": 1, \"47\": 2}, \"0\": {\"0\": 61, \"8\": 2, \"52\": 9, \"20\": 1, \"12\": 3, \"46\": 4}, \"38\": {\"38\": 33, \"55\": 2, \"32\": 1, \"49\": 2, \"14\": 1, \"36\": 1}, \"22\": {\"30\": 2, \"22\": 70, \"44\": 5, \"50\": 4, \"46\": 7, \"6\": 2, \"5\": 10, \"0\": 4, \"3\": 14, \"56\": 3, \"12\": 2, \"52\": 2, \"48\": 1, \"45\": 2}, \"40\": {\"40\": 70, \"20\": 3, \"44\": 4, \"9\": 3, \"22\": 3, \"56\": 19, \"29\": 4, \"8\": 2, \"52\": 2, \"57\": 5, \"48\": 3, \"1\": 1, \"4\": 1}, \"6\": {\"6\": 68, \"50\": 3, \"5\": 17, \"30\": 10, \"45\": 3, \"3\": 9, \"44\": 1, \"46\": 1}, \"16\": {\"16\": 74, \"53\": 2, \"25\": 5, \"11\": 6, \"15\": 4, \"54\": 2, \"10\": 3}, \"11\": {\"16\": 9, \"11\": 78, \"15\": 10, \"54\": 3, \"25\": 1, \"31\": 1, \"10\": 2}, \"20\": {\"20\": 108, \"8\": 4, \"4\": 1, \"21\": 8, \"27\": 1}, \"17\": {\"17\": 55, \"35\": 3, \"49\": 1, \"27\": 2, \"55\": 6, \"24\": 1, \"26\": 2, \"19\": 4, \"42\": 1, \"36\": 1, \"32\": 1, \"33\": 1, \"23\": 1, \"9\": 1}, \"26\": {\"55\": 2, \"19\": 1, \"26\": 16, \"28\": 2, \"39\": 1, \"42\": 2}, \"54\": {\"54\": 98, \"10\": 3, \"15\": 3, \"24\": 3, \"11\": 1}, \"55\": {\"17\": 16, \"55\": 73, \"41\": 2, \"32\": 4, \"23\": 11, \"38\": 2, \"49\": 2, \"42\": 4, \"2\": 2, \"36\": 13, \"13\": 2, \"19\": 10, \"54\": 2, \"35\": 2, \"7\": 1, \"24\": 1, \"27\": 3, \"4\": 1, \"43\": 1, \"29\": 2}, \"50\": {\"20\": 2, \"50\": 60, \"3\": 20, \"5\": 7, \"21\": 7, \"45\": 7, \"12\": 4, \"30\": 2, \"44\": 8, \"22\": 5, \"6\": 8, \"18\": 1, \"52\": 1}, \"19\": {\"19\": 117, \"17\": 3, \"38\": 1, \"35\": 1, \"33\": 1, \"55\": 10, \"15\": 1, \"53\": 1, \"29\": 1, \"28\": 1, \"24\": 1, \"43\": 1, \"7\": 1, \"57\": 1, \"54\": 1}, \"44\": {\"44\": 71, \"6\": 2, \"5\": 11, \"9\": 2, \"40\": 2, \"22\": 4, \"45\": 11, \"30\": 1, \"52\": 1, \"8\": 1, \"3\": 4, \"48\": 2, \"46\": 2, \"4\": 4, \"21\": 1, \"12\": 1, \"29\": 1, \"50\": 1}, \"47\": {\"47\": 53, \"48\": 6, \"29\": 10, \"12\": 2, \"57\": 11, \"50\": 1, \"9\": 3, \"22\": 7, \"0\": 1, \"4\": 11, \"46\": 6, \"56\": 1, \"3\": 3, \"27\": 1, \"5\": 1, \"52\": 1, \"44\": 1, \"8\": 1}, \"33\": {\"33\": 34, \"35\": 1, \"7\": 1}, \"5\": {\"5\": 52, \"6\": 17, \"50\": 3, \"30\": 9, \"45\": 10, \"44\": 4, \"3\": 5, \"22\": 7, \"46\": 1}, \"18\": {\"18\": 78, \"25\": 7, \"15\": 8, \"10\": 3, \"55\": 1, \"54\": 1, \"11\": 5, \"43\": 1, \"31\": 1, \"41\": 1, \"24\": 1, \"23\": 1}, \"21\": {\"21\": 74, \"50\": 4, \"12\": 9, \"20\": 11, \"3\": 3, \"0\": 4, \"52\": 5, \"46\": 4, \"44\": 1, \"5\": 1, \"22\": 2, \"8\": 3, \"57\": 1, \"45\": 1, \"4\": 1}, \"41\": {\"21\": 1, \"48\": 1, \"41\": 27, \"39\": 1, \"43\": 1, \"29\": 1, \"28\": 1, \"14\": 1, \"27\": 1, \"36\": 1}, \"23\": {\"23\": 80, \"15\": 1, \"32\": 1, \"49\": 1, \"24\": 5, \"17\": 5, \"42\": 1, \"55\": 10, \"54\": 8, \"36\": 6, \"11\": 1, \"39\": 1, \"41\": 1, \"2\": 1, \"38\": 2, \"50\": 1, \"27\": 1, \"16\": 1, \"10\": 1}, \"39\": {\"39\": 18, \"2\": 1, \"14\": 1}, \"37\": {\"37\": 19, \"41\": 1, \"24\": 1, \"51\": 1, \"53\": 2}, \"8\": {\"8\": 103, \"12\": 2, \"20\": 6, \"9\": 4, \"0\": 2, \"21\": 17, \"27\": 1, \"52\": 7, \"36\": 1, \"46\": 1}, \"49\": {\"49\": 10, \"35\": 1, \"38\": 2, \"32\": 3, \"26\": 1, \"39\": 1, \"17\": 2}, \"53\": {\"53\": 137, \"10\": 2, \"11\": 1}, \"31\": {\"54\": 2, \"31\": 23, \"24\": 1, \"11\": 1, \"16\": 1}, \"28\": {\"19\": 5, \"28\": 22, \"25\": 1, \"31\": 1, \"23\": 1, \"11\": 1, \"10\": 1}, \"3\": {\"3\": 67, \"50\": 14, \"12\": 3, \"45\": 6, \"21\": 1, \"5\": 6, \"6\": 7, \"30\": 3, \"44\": 6, \"46\": 3, \"22\": 5, \"8\": 1, \"0\": 1, \"20\": 1}, \"27\": {\"17\": 1, \"27\": 63, \"48\": 14, \"57\": 11, \"29\": 8, \"4\": 4, \"1\": 4, \"9\": 10, \"2\": 2, \"47\": 10, \"20\": 1, \"46\": 2, \"43\": 2, \"51\": 2, \"40\": 1, \"39\": 1, \"22\": 1, \"13\": 1}, \"46\": {\"6\": 2, \"46\": 61, \"8\": 5, \"3\": 11, \"22\": 10, \"30\": 1, \"4\": 5, \"56\": 2, \"0\": 4, \"44\": 5, \"50\": 3, \"21\": 4, \"5\": 6, \"12\": 3, \"47\": 2, \"1\": 1, \"52\": 1, \"9\": 1, \"48\": 1}, \"12\": {\"12\": 54, \"46\": 3, \"56\": 2, \"21\": 6, \"50\": 4, \"30\": 1, \"52\": 2, \"0\": 3, \"22\": 2, \"20\": 1, \"8\": 3, \"3\": 7, \"4\": 1, \"44\": 1, \"6\": 1, \"5\": 1}, \"7\": {\"7\": 17, \"36\": 1, \"23\": 1, \"33\": 1, \"13\": 1, \"19\": 2, \"35\": 1}, \"4\": {\"5\": 5, \"4\": 55, \"45\": 3, \"48\": 5, \"27\": 2, \"29\": 10, \"44\": 7, \"30\": 2, \"3\": 2, \"56\": 2, \"57\": 4, \"22\": 7, \"9\": 8, \"47\": 9, \"20\": 1, \"0\": 1, \"46\": 4, \"50\": 3, \"13\": 1, \"40\": 1}, \"42\": {\"42\": 26, \"55\": 1, \"17\": 2, \"28\": 1, \"49\": 1, \"26\": 1}, \"43\": {\"43\": 127, \"19\": 2, \"38\": 1}, \"29\": {\"29\": 61, \"14\": 1, \"1\": 2, \"27\": 5, \"48\": 16, \"57\": 8, \"9\": 6, \"47\": 5, \"4\": 6, \"40\": 7, \"36\": 1, \"56\": 2}, \"57\": {\"48\": 10, \"57\": 59, \"47\": 10, \"29\": 6, \"40\": 2, \"4\": 7, \"9\": 4, \"56\": 2}, \"52\": {\"52\": 86, \"8\": 8, \"47\": 1, \"12\": 2, \"46\": 3, \"0\": 2, \"20\": 1, \"9\": 1}, \"45\": {\"45\": 41, \"5\": 5, \"21\": 1, \"30\": 5, \"6\": 9, \"4\": 5, \"3\": 7, \"22\": 4, \"44\": 8, \"48\": 1, \"52\": 1, \"50\": 6, \"47\": 2, \"40\": 1}, \"36\": {\"36\": 87, \"39\": 1, \"41\": 1, \"55\": 2, \"43\": 1}, \"10\": {\"10\": 116, \"15\": 9, \"53\": 1}, \"15\": {\"15\": 108, \"11\": 15, \"54\": 4, \"16\": 3, \"18\": 1, \"10\": 3}, \"56\": {\"56\": 90, \"21\": 1, \"48\": 6, \"8\": 2, \"47\": 4, \"40\": 12, \"4\": 2, \"29\": 4, \"20\": 1, \"52\": 1, \"44\": 1}, \"2\": {\"2\": 30, \"14\": 1, \"39\": 2, \"29\": 1, \"43\": 1, \"36\": 1}}, \"C_5\": {\"47\": {\"1\": 15, \"4\": 2, \"47\": 37, \"57\": 7, \"3\": 5, \"56\": 3, \"27\": 3, \"46\": 4, \"48\": 3, \"9\": 4, \"30\": 8, \"29\": 3, \"0\": 3, \"41\": 1, \"12\": 1, \"8\": 1}, \"53\": {\"53\": 149, \"10\": 1}, \"29\": {\"29\": 81, \"13\": 1, \"48\": 10, \"9\": 3, \"47\": 3, \"56\": 7, \"1\": 3, \"40\": 2, \"57\": 5, \"8\": 3, \"27\": 7, \"0\": 1}, \"52\": {\"47\": 2, \"52\": 122, \"8\": 1, \"12\": 1, \"1\": 1, \"20\": 2, \"27\": 1}, \"55\": {\"17\": 23, \"55\": 67, \"42\": 2, \"36\": 3, \"34\": 2, \"23\": 8, \"27\": 4, \"19\": 14, \"35\": 2, \"29\": 4, \"8\": 1, \"51\": 1, \"43\": 6, \"41\": 1, \"37\": 1, \"49\": 1, \"13\": 2, \"56\": 1, \"54\": 1}, \"17\": {\"17\": 73, \"1\": 1, \"41\": 2, \"34\": 2, \"32\": 2, \"49\": 1, \"36\": 2, \"31\": 1, \"33\": 2, \"35\": 1, \"57\": 3, \"55\": 8, \"47\": 1, \"29\": 1, \"23\": 3, \"27\": 8, \"48\": 2, \"54\": 1, \"19\": 2}, \"42\": {\"42\": 34, \"55\": 1, \"37\": 1, \"14\": 1, \"31\": 1, \"38\": 2}, \"33\": {\"33\": 24, \"19\": 2, \"55\": 1, \"41\": 1, \"35\": 2, \"32\": 1, \"34\": 1}, \"11\": {\"11\": 123, \"16\": 12, \"25\": 3, \"15\": 8, \"26\": 1, \"10\": 1}, \"19\": {\"17\": 10, \"19\": 96, \"32\": 1, \"29\": 4, \"15\": 1, \"28\": 1, \"55\": 2, \"36\": 1, \"34\": 1, \"16\": 1}, \"1\": {\"4\": 1, \"1\": 75, \"45\": 1, \"48\": 11, \"3\": 2, \"14\": 1, \"57\": 12, \"27\": 3, \"47\": 8, \"6\": 2, \"9\": 4, \"44\": 3, \"30\": 12, \"29\": 3, \"40\": 2, \"5\": 1, \"56\": 2, \"21\": 1}, \"44\": {\"44\": 101, \"4\": 8, \"5\": 5, \"20\": 2, \"45\": 5, \"9\": 3, \"50\": 5, \"52\": 1, \"21\": 2, \"6\": 8, \"22\": 1, \"46\": 1}, \"49\": {\"49\": 33, \"39\": 1, \"36\": 1, \"55\": 1}, \"4\": {\"44\": 9, \"45\": 22, \"6\": 6, \"5\": 3, \"9\": 3, \"4\": 35, \"57\": 2, \"13\": 1, \"52\": 3, \"50\": 3, \"8\": 3, \"21\": 2, \"40\": 2, \"1\": 2, \"22\": 2, \"3\": 1, \"46\": 1}, \"6\": {\"44\": 8, \"6\": 80, \"30\": 6, \"45\": 11, \"50\": 4, \"3\": 2, \"5\": 1, \"1\": 1, \"4\": 2, \"9\": 1}, \"39\": {\"39\": 15, \"17\": 1, \"2\": 4}, \"50\": {\"52\": 4, \"45\": 18, \"3\": 5, \"50\": 62, \"30\": 4, \"12\": 7, \"5\": 5, \"44\": 19, \"6\": 14, \"4\": 8, \"9\": 1, \"20\": 1}, \"56\": {\"56\": 100, \"47\": 3, \"46\": 1, \"9\": 3, \"29\": 3, \"8\": 2, \"1\": 3, \"40\": 8, \"48\": 3, \"57\": 3, \"0\": 1}, \"25\": {\"25\": 105, \"16\": 15, \"15\": 7, \"11\": 16, \"18\": 1}, \"28\": {\"28\": 28, \"11\": 1, \"19\": 1, \"31\": 1, \"10\": 1}, \"35\": {\"35\": 33, \"17\": 1, \"13\": 1, \"55\": 1}, \"24\": {\"24\": 75, \"37\": 1, \"32\": 1, \"23\": 2, \"54\": 1}, \"21\": {\"21\": 131, \"20\": 1}, \"45\": {\"45\": 90, \"6\": 15, \"30\": 2, \"3\": 3, \"44\": 2, \"50\": 9, \"4\": 2, \"9\": 1}, \"16\": {\"16\": 104, \"26\": 1, \"11\": 21, \"10\": 3, \"53\": 3, \"55\": 2, \"15\": 5, \"25\": 5}, \"37\": {\"37\": 18, \"36\": 1, \"49\": 3, \"2\": 1, \"38\": 1}, \"57\": {\"57\": 56, \"48\": 11, \"1\": 20, \"27\": 11, \"9\": 6, \"30\": 10, \"47\": 5, \"0\": 2, \"40\": 1, \"56\": 3, \"6\": 1, \"29\": 3, \"46\": 2, \"4\": 1}, \"34\": {\"17\": 1, \"34\": 25, \"41\": 4, \"49\": 1, \"33\": 2, \"27\": 2, \"55\": 1}, \"38\": {\"38\": 27, \"27\": 1, \"8\": 1, \"32\": 2, \"2\": 1}, \"48\": {\"57\": 20, \"34\": 1, \"1\": 13, \"29\": 9, \"48\": 51, \"20\": 5, \"13\": 1, \"32\": 1, \"47\": 6, \"27\": 7, \"30\": 2, \"56\": 3, \"8\": 2, \"9\": 4, \"3\": 1, \"2\": 1, \"55\": 1, \"4\": 1, \"21\": 1}, \"26\": {\"15\": 3, \"10\": 3, \"16\": 8, \"54\": 2, \"26\": 6, \"11\": 2}, \"9\": {\"48\": 4, \"57\": 11, \"44\": 8, \"9\": 65, \"40\": 4, \"3\": 5, \"5\": 5, \"4\": 8, \"21\": 3, \"52\": 3, \"30\": 11, \"6\": 7, \"1\": 8, \"0\": 2, \"20\": 2, \"56\": 3, \"27\": 1, \"47\": 1, \"50\": 1}, \"18\": {\"26\": 2, \"18\": 44, \"11\": 3, \"25\": 6, \"15\": 4, \"16\": 1, \"23\": 1, \"53\": 1, \"24\": 2}, \"3\": {\"9\": 3, \"3\": 55, \"46\": 10, \"5\": 1, \"1\": 4, \"40\": 2, \"30\": 7, \"6\": 8, \"0\": 4, \"4\": 2, \"50\": 1, \"45\": 1, \"56\": 1, \"52\": 1}, \"23\": {\"23\": 76, \"54\": 8, \"24\": 8, \"36\": 5, \"38\": 3, \"42\": 1, \"11\": 1, \"43\": 4, \"55\": 7, \"27\": 2, \"21\": 1, \"32\": 1, \"10\": 1, \"13\": 2, \"17\": 2, \"8\": 1, \"15\": 1}, \"15\": {\"15\": 136, \"11\": 10, \"43\": 1, \"16\": 3, \"24\": 1, \"10\": 1, \"53\": 2}, \"10\": {\"10\": 65, \"15\": 2, \"54\": 1}, \"46\": {\"46\": 103, \"0\": 14, \"12\": 2, \"3\": 8, \"8\": 2, \"57\": 2, \"1\": 1, \"52\": 1, \"40\": 1, \"6\": 1, \"30\": 4, \"5\": 1, \"47\": 3, \"9\": 3, \"4\": 1, \"56\": 1}, \"22\": {\"22\": 22, \"8\": 1, \"5\": 2, \"56\": 1, \"4\": 2}, \"54\": {\"54\": 103, \"37\": 2, \"26\": 1, \"53\": 1, \"43\": 1, \"24\": 2, \"23\": 1, \"15\": 1}, \"27\": {\"27\": 75, \"1\": 8, \"57\": 26, \"30\": 3, \"36\": 1, \"48\": 9, \"32\": 3, \"9\": 4, \"17\": 7, \"47\": 8, \"29\": 4, \"56\": 4, \"46\": 1, \"0\": 2, \"51\": 2, \"13\": 1, \"23\": 1, \"43\": 1}, \"41\": {\"48\": 2, \"41\": 18, \"1\": 3, \"34\": 2, \"32\": 2, \"27\": 1}, \"31\": {\"31\": 36}, \"0\": {\"0\": 86, \"46\": 16, \"44\": 2, \"9\": 5, \"47\": 2, \"52\": 4, \"1\": 4, \"8\": 1, \"30\": 1, \"5\": 1, \"56\": 1, \"3\": 1}, \"7\": {\"41\": 2, \"7\": 23, \"51\": 4, \"35\": 1, \"43\": 2}, \"2\": {\"2\": 24, \"39\": 2, \"14\": 1, \"36\": 1}, \"14\": {\"47\": 3, \"14\": 12, \"36\": 3, \"32\": 4, \"27\": 3, \"41\": 2, \"48\": 1, \"29\": 2, \"13\": 3, \"1\": 2, \"55\": 3, \"43\": 1, \"7\": 2, \"57\": 2, \"17\": 1}, \"40\": {\"1\": 4, \"40\": 67, \"5\": 5, \"3\": 2, \"56\": 15, \"4\": 2, \"9\": 4, \"21\": 5, \"27\": 1, \"48\": 5, \"44\": 2, \"29\": 4, \"52\": 2, \"8\": 1, \"12\": 1, \"6\": 3, \"30\": 1}, \"5\": {\"5\": 55, \"44\": 21, \"45\": 2, \"46\": 3, \"56\": 5, \"22\": 2, \"4\": 14, \"3\": 5, \"47\": 1, \"40\": 6, \"9\": 4, \"52\": 1, \"6\": 5, \"1\": 2, \"30\": 1, \"12\": 1}, \"12\": {\"12\": 63, \"57\": 1, \"52\": 5, \"9\": 3, \"8\": 2, \"45\": 3, \"44\": 3, \"20\": 3, \"50\": 3, \"27\": 1, \"46\": 1, \"40\": 1, \"47\": 1, \"5\": 1, \"56\": 1, \"3\": 1, \"21\": 1, \"4\": 1, \"6\": 1}, \"43\": {\"43\": 129, \"53\": 3, \"51\": 6, \"7\": 1, \"13\": 2, \"17\": 1}, \"13\": {\"13\": 129, \"7\": 4, \"29\": 5, \"20\": 3, \"51\": 2, \"36\": 2, \"1\": 1, \"27\": 1, \"47\": 1}, \"36\": {\"43\": 2, \"36\": 78, \"8\": 1, \"7\": 2, \"13\": 1, \"14\": 3, \"17\": 1, \"55\": 1, \"2\": 1, \"39\": 1, \"51\": 1}, \"8\": {\"2\": 1, \"8\": 119, \"52\": 14, \"48\": 4, \"20\": 9, \"27\": 1, \"29\": 2}, \"32\": {\"32\": 14, \"29\": 2, \"0\": 1, \"8\": 1, \"47\": 4, \"48\": 3, \"14\": 3, \"41\": 1, \"43\": 2, \"40\": 1}, \"30\": {\"6\": 9, \"30\": 82, \"20\": 2, \"48\": 2, \"50\": 5, \"29\": 1, \"9\": 4, \"3\": 3, \"1\": 5, \"57\": 5, \"45\": 4, \"44\": 2, \"4\": 1, \"47\": 1, \"27\": 1, \"21\": 1}, \"51\": {\"51\": 121, \"43\": 12, \"13\": 2, \"14\": 1, \"7\": 2}, \"20\": {\"20\": 130, \"8\": 1, \"12\": 1, \"52\": 3, \"21\": 3}}, \"C_1\": {\"46\": {\"46\": 61, \"6\": 6, \"56\": 10, \"44\": 13, \"22\": 2, \"5\": 9, \"45\": 15, \"20\": 1, \"4\": 3, \"50\": 11, \"0\": 3, \"3\": 4, \"30\": 2}, \"16\": {\"16\": 108, \"26\": 2, \"10\": 2, \"11\": 12, \"53\": 6, \"25\": 1, \"28\": 1, \"15\": 2}, \"26\": {\"26\": 19, \"15\": 3, \"54\": 2}, \"10\": {\"10\": 84, \"15\": 12}, \"9\": {\"9\": 86, \"42\": 1, \"33\": 2, \"57\": 1, \"2\": 3, \"48\": 28, \"1\": 5, \"32\": 1, \"30\": 3, \"8\": 14, \"27\": 4, \"47\": 6, \"43\": 2}, \"28\": {\"28\": 25, \"16\": 3}, \"51\": {\"51\": 155, \"41\": 1}, \"1\": {\"1\": 71, \"27\": 3, \"57\": 6, \"29\": 7, \"48\": 4, \"47\": 6, \"8\": 1, \"9\": 1, \"12\": 1}, \"55\": {\"55\": 101, \"41\": 1, \"7\": 2, \"37\": 5, \"24\": 14, \"51\": 7, \"42\": 3, \"1\": 3, \"23\": 1, \"9\": 4, \"8\": 1, \"43\": 2, \"52\": 1, \"54\": 1, \"17\": 1, \"19\": 1}, \"27\": {\"47\": 7, \"27\": 106, \"22\": 3, \"43\": 1, \"12\": 1, \"52\": 1, \"29\": 2, \"40\": 3}, \"22\": {\"22\": 112, \"45\": 1, \"52\": 5, \"21\": 3, \"14\": 1, \"27\": 2}, \"52\": {\"52\": 78, \"27\": 2, \"0\": 6, \"57\": 3, \"22\": 22, \"6\": 1, \"21\": 8, \"47\": 1, \"12\": 1, \"29\": 1, \"4\": 3}, \"3\": {\"46\": 4, \"3\": 76, \"45\": 6, \"52\": 2, \"22\": 1, \"4\": 5, \"0\": 2, \"20\": 21, \"6\": 3, \"12\": 12, \"47\": 1, \"56\": 4, \"50\": 1, \"5\": 2}, \"33\": {\"33\": 28, \"31\": 2, \"32\": 1, \"17\": 1}, \"47\": {\"1\": 8, \"27\": 14, \"47\": 67, \"57\": 7, \"48\": 1, \"29\": 14, \"52\": 1, \"40\": 5, \"56\": 1, \"8\": 2}, \"42\": {\"42\": 35, \"33\": 1, \"19\": 2, \"17\": 2}, \"12\": {\"12\": 112, \"3\": 2, \"20\": 1, \"27\": 1}, \"23\": {\"23\": 123, \"55\": 2, \"24\": 1, \"43\": 2, \"37\": 1, \"39\": 1, \"19\": 2}, \"49\": {\"7\": 2, \"21\": 1, \"49\": 19, \"2\": 2, \"43\": 1, \"8\": 1, \"36\": 2, \"52\": 1, \"55\": 2, \"14\": 1}, \"7\": {\"7\": 19, \"55\": 2, \"48\": 2, \"33\": 1, \"22\": 1, \"38\": 1, \"47\": 1, \"49\": 1}, \"4\": {\"56\": 16, \"46\": 9, \"45\": 14, \"4\": 61, \"6\": 3, \"29\": 2, \"5\": 4, \"44\": 9, \"21\": 1, \"3\": 1, \"13\": 2, \"57\": 3, \"0\": 2, \"20\": 1, \"30\": 2, \"40\": 1, \"50\": 1}, \"50\": {\"50\": 103, \"45\": 11, \"6\": 8, \"44\": 2, \"30\": 1, \"5\": 3, \"4\": 1, \"46\": 3, \"56\": 2}, \"19\": {\"31\": 2, \"42\": 9, \"19\": 107, \"39\": 1, \"17\": 5, \"33\": 1, \"35\": 4, \"1\": 3, \"43\": 13, \"48\": 2, \"47\": 2, \"32\": 1, \"23\": 3, \"15\": 1}, \"11\": {\"11\": 139, \"16\": 1}, \"31\": {\"31\": 27, \"38\": 1}, \"41\": {\"41\": 21, \"51\": 1, \"49\": 2}, \"56\": {\"56\": 69, \"6\": 7, \"45\": 11, \"46\": 3, \"5\": 8, \"44\": 10, \"57\": 3, \"4\": 9, \"50\": 4, \"27\": 1, \"0\": 2, \"30\": 3, \"40\": 6, \"29\": 2}, \"0\": {\"0\": 147, \"4\": 1}, \"57\": {\"57\": 65, \"29\": 14, \"8\": 2, \"40\": 9, \"47\": 10, \"4\": 4, \"1\": 3, \"30\": 4, \"56\": 9, \"20\": 1, \"27\": 4, \"6\": 2, \"13\": 1}, \"53\": {\"53\": 138, \"10\": 1, \"15\": 1}, \"43\": {\"43\": 132, \"29\": 2, \"38\": 2, \"32\": 1, \"48\": 2, \"8\": 2, \"9\": 2, \"23\": 1}, \"37\": {\"37\": 26, \"55\": 2, \"49\": 2, \"38\": 1, \"32\": 1}, \"2\": {\"52\": 3, \"2\": 21, \"0\": 2, \"21\": 6, \"36\": 2, \"14\": 1, \"13\": 1}, \"6\": {\"46\": 4, \"6\": 32, \"50\": 13, \"0\": 2, \"30\": 1, \"4\": 4, \"44\": 13, \"56\": 4, \"5\": 6, \"52\": 2, \"47\": 1, \"21\": 1, \"40\": 2, \"45\": 11}, \"13\": {\"13\": 146, \"36\": 2, \"14\": 2}, \"18\": {\"11\": 5, \"18\": 56, \"25\": 1, \"16\": 6, \"15\": 2, \"28\": 1, \"10\": 1}, \"36\": {\"36\": 62, \"49\": 2}, \"29\": {\"29\": 62, \"1\": 8, \"57\": 10, \"45\": 2, \"13\": 1, \"47\": 14, \"40\": 8, \"4\": 5, \"56\": 4, \"30\": 8, \"27\": 6, \"3\": 1, \"43\": 2, \"8\": 3, \"6\": 1, \"42\": 1, \"49\": 1, \"48\": 2, \"51\": 1}, \"39\": {\"39\": 24, \"48\": 1, \"1\": 1, \"7\": 1, \"43\": 1}, \"17\": {\"17\": 38, \"19\": 4, \"40\": 4, \"1\": 1, \"42\": 7, \"23\": 6, \"31\": 2, \"35\": 1, \"9\": 1}, \"21\": {\"21\": 121, \"52\": 1, \"29\": 1, \"40\": 1}, \"25\": {\"25\": 122, \"18\": 1, \"16\": 4, \"15\": 3, \"11\": 1, \"10\": 1}, \"45\": {\"45\": 66, \"6\": 4, \"50\": 17, \"57\": 1, \"4\": 15, \"44\": 7, \"5\": 13, \"56\": 13, \"46\": 2, \"40\": 2, \"30\": 1, \"21\": 1}, \"38\": {\"39\": 2, \"38\": 16, \"43\": 2, \"7\": 3, \"14\": 1}, \"30\": {\"45\": 2, \"29\": 2, \"30\": 91, \"57\": 5, \"46\": 3, \"56\": 4, \"48\": 2, \"6\": 3, \"50\": 6, \"4\": 2}, \"24\": {\"24\": 108}, \"20\": {\"20\": 128, \"12\": 5, \"52\": 1, \"3\": 6}, \"8\": {\"9\": 9, \"8\": 66, \"57\": 9, \"45\": 2, \"30\": 10, \"48\": 14, \"49\": 1, \"43\": 5, \"4\": 4, \"6\": 3, \"29\": 5, \"47\": 5, \"27\": 1, \"46\": 2, \"40\": 1, \"2\": 1, \"1\": 1, \"56\": 1}, \"35\": {\"39\": 1, \"35\": 31, \"42\": 1, \"17\": 1, \"19\": 2}, \"54\": {\"54\": 104}, \"5\": {\"5\": 144, \"44\": 1, \"6\": 1, \"45\": 2}, \"48\": {\"57\": 3, \"8\": 18, \"48\": 78, \"30\": 5, \"1\": 3, \"9\": 19, \"43\": 6, \"52\": 1, \"29\": 5, \"56\": 3, \"4\": 1, \"47\": 1, \"27\": 1}, \"15\": {\"15\": 126, \"10\": 9, \"54\": 4, \"26\": 2, \"23\": 1}, \"34\": {\"34\": 16, \"23\": 3, \"15\": 1, \"38\": 1, \"31\": 2, \"10\": 1}, \"14\": {\"46\": 1, \"14\": 6, \"36\": 3, \"57\": 1, \"12\": 2, \"7\": 1, \"22\": 1, \"45\": 1, \"3\": 1, \"13\": 2, \"30\": 1, \"8\": 2, \"48\": 1, \"49\": 1}, \"32\": {\"32\": 26, \"39\": 1, \"43\": 2, \"9\": 2, \"42\": 1}, \"40\": {\"8\": 1, \"40\": 50, \"29\": 14, \"45\": 5, \"57\": 19, \"44\": 4, \"56\": 16, \"14\": 1, \"46\": 3, \"12\": 3, \"1\": 3, \"4\": 5, \"6\": 3, \"30\": 2, \"47\": 11, \"20\": 2, \"3\": 1, \"22\": 1, \"27\": 2, \"5\": 1, \"52\": 1}, \"44\": {\"44\": 60, \"6\": 5, \"4\": 9, \"5\": 25, \"0\": 5, \"56\": 7, \"45\": 12, \"52\": 2, \"40\": 2, \"3\": 1, \"46\": 5, \"50\": 1, \"20\": 1, \"21\": 1}}, \"C_2\": {\"36\": {\"36\": 113, \"55\": 2, \"17\": 1}, \"5\": {\"45\": 5, \"44\": 4, \"12\": 2, \"5\": 85, \"4\": 1, \"52\": 1, \"6\": 11, \"3\": 3, \"30\": 1, \"50\": 3, \"46\": 2, \"0\": 1, \"1\": 1}, \"45\": {\"44\": 14, \"45\": 66, \"3\": 6, \"5\": 11, \"12\": 5, \"52\": 1, \"50\": 2, \"6\": 17, \"30\": 1, \"20\": 1, \"46\": 2, \"8\": 2}, \"49\": {\"49\": 18, \"43\": 1, \"35\": 1, \"39\": 2, \"23\": 1, \"17\": 1}, \"50\": {\"50\": 94, \"1\": 3, \"3\": 3, \"46\": 3, \"12\": 10, \"0\": 1, \"6\": 4, \"21\": 2, \"45\": 3, \"5\": 3, \"52\": 1, \"30\": 2, \"44\": 1, \"22\": 2, \"8\": 1, \"48\": 2, \"4\": 1}, \"4\": {\"4\": 62, \"48\": 10, \"9\": 16, \"56\": 4, \"0\": 5, \"5\": 4, \"40\": 6, \"6\": 1, \"1\": 7, \"30\": 6, \"52\": 1, \"3\": 3, \"22\": 2, \"45\": 1, \"47\": 4, \"57\": 2, \"46\": 1, \"8\": 1, \"44\": 2}, \"43\": {\"43\": 146, \"15\": 1, \"51\": 1}, \"41\": {\"41\": 17, \"52\": 1, \"2\": 2}, \"37\": {\"37\": 33, \"10\": 2, \"53\": 1}, \"12\": {\"5\": 5, \"12\": 60, \"50\": 6, \"3\": 5, \"46\": 6, \"30\": 1, \"44\": 2, \"6\": 6, \"45\": 1}, \"33\": {\"33\": 18, \"9\": 1, \"14\": 1, \"17\": 4, \"27\": 1, \"29\": 2, \"32\": 1}, \"7\": {\"7\": 31, \"31\": 1, \"23\": 2, \"17\": 2}, \"56\": {\"4\": 1, \"56\": 111, \"32\": 1, \"9\": 1, \"8\": 2, \"22\": 15, \"40\": 1, \"47\": 4, \"29\": 2, \"2\": 1, \"1\": 1}, \"14\": {\"41\": 2, \"8\": 2, \"14\": 12, \"51\": 1, \"29\": 2, \"2\": 1, \"56\": 3, \"43\": 1}, \"52\": {\"52\": 123, \"21\": 1}, \"44\": {\"4\": 4, \"44\": 61, \"6\": 3, \"5\": 12, \"45\": 14, \"9\": 2}, \"48\": {\"48\": 70, \"4\": 3, \"1\": 11, \"57\": 19, \"52\": 1, \"9\": 9, \"2\": 2, \"47\": 19, \"8\": 3, \"46\": 1, \"27\": 1, \"0\": 1, \"30\": 1, \"20\": 1, \"40\": 2}, \"20\": {\"20\": 110, \"38\": 1, \"2\": 1, \"52\": 9, \"21\": 4, \"8\": 3}, \"55\": {\"55\": 80, \"42\": 1, \"29\": 5, \"24\": 1, \"17\": 13, \"15\": 1, \"36\": 11, \"2\": 1, \"43\": 13, \"27\": 4, \"51\": 1, \"57\": 2, \"56\": 4, \"23\": 2, \"54\": 1, \"31\": 1, \"35\": 1, \"19\": 1, \"14\": 1}, \"32\": {\"36\": 1, \"17\": 1, \"32\": 24, \"29\": 1, \"7\": 1}, \"40\": {\"1\": 7, \"40\": 71, \"48\": 3, \"0\": 3, \"56\": 13, \"6\": 2, \"9\": 13, \"29\": 5, \"4\": 8, \"5\": 2, \"52\": 1, \"47\": 2, \"30\": 2, \"22\": 1, \"8\": 1, \"45\": 1, \"44\": 1}, \"54\": {\"54\": 106, \"24\": 1, \"15\": 1}, \"17\": {\"17\": 61, \"36\": 12, \"33\": 2, \"7\": 5, \"29\": 5, \"49\": 1, \"34\": 1, \"42\": 4, \"19\": 4, \"55\": 4, \"23\": 2, \"32\": 1, \"31\": 2}, \"38\": {\"38\": 20}, \"24\": {\"24\": 96}, \"1\": {\"1\": 74, \"48\": 6, \"57\": 4, \"41\": 1, \"0\": 5, \"40\": 3, \"8\": 2, \"22\": 2, \"9\": 3, \"47\": 6, \"56\": 1, \"20\": 2, \"52\": 1, \"4\": 1, \"14\": 1}, \"6\": {\"5\": 10, \"44\": 8, \"12\": 6, \"6\": 70, \"45\": 17, \"3\": 5, \"50\": 6, \"30\": 2}, \"34\": {\"34\": 27, \"42\": 1}, \"11\": {\"11\": 106, \"10\": 5, \"53\": 2, \"16\": 17, \"15\": 2, \"54\": 2, \"25\": 2}, \"9\": {\"9\": 78, \"40\": 16, \"29\": 13, \"48\": 4, \"1\": 3, \"57\": 7, \"22\": 3, \"36\": 2, \"4\": 16, \"20\": 1, \"55\": 2, \"51\": 1, \"47\": 1, \"8\": 1, \"56\": 2}, \"8\": {\"8\": 117, \"2\": 2, \"21\": 6, \"52\": 18, \"20\": 4, \"46\": 3, \"29\": 1, \"50\": 1}, \"22\": {\"22\": 101, \"48\": 3, \"1\": 4, \"40\": 7, \"56\": 7, \"52\": 7, \"20\": 1, \"4\": 3, \"57\": 2, \"29\": 1}, \"26\": {\"11\": 1, \"26\": 19, \"24\": 1, \"10\": 2, \"37\": 1}, \"23\": {\"23\": 79, \"28\": 1, \"55\": 13, \"7\": 2, \"24\": 3, \"29\": 2, \"36\": 9, \"27\": 7, \"17\": 10, \"15\": 3, \"19\": 5, \"32\": 1, \"42\": 1, \"49\": 2, \"34\": 4, \"10\": 1, \"43\": 1, \"47\": 1, \"54\": 1}, \"10\": {\"10\": 96, \"54\": 4, \"11\": 7, \"15\": 4, \"53\": 1}, \"18\": {\"18\": 36, \"15\": 2, \"28\": 3, \"25\": 3, \"16\": 2, \"11\": 1, \"54\": 1}, \"13\": {\"13\": 111, \"51\": 3, \"1\": 1, \"32\": 1}, \"30\": {\"1\": 3, \"30\": 92, \"12\": 5, \"47\": 5, \"5\": 2, \"3\": 3, \"20\": 1, \"36\": 1, \"6\": 7, \"27\": 1, \"22\": 1, \"44\": 2, \"0\": 2, \"8\": 1, \"45\": 1, \"48\": 1}, \"42\": {\"24\": 1, \"42\": 23, \"7\": 2, \"39\": 1, \"17\": 3, \"55\": 1, \"31\": 1, \"35\": 1, \"27\": 1, \"1\": 1, \"29\": 1}, \"31\": {\"31\": 28}, \"46\": {\"30\": 3, \"46\": 76, \"5\": 3, \"52\": 11, \"1\": 2, \"21\": 9, \"12\": 4, \"6\": 5, \"3\": 4, \"45\": 2, \"50\": 6, \"44\": 2, \"4\": 1}, \"57\": {\"48\": 13, \"57\": 68, \"27\": 10, \"1\": 4, \"29\": 10, \"40\": 2, \"56\": 4, \"4\": 8, \"9\": 9, \"47\": 13, \"0\": 1}, \"47\": {\"5\": 1, \"14\": 1, \"40\": 11, \"47\": 41, \"32\": 3, \"0\": 6, \"30\": 23, \"29\": 7, \"48\": 11, \"46\": 1, \"27\": 2, \"57\": 10, \"4\": 5, \"6\": 3, \"1\": 3, \"36\": 1, \"9\": 5, \"12\": 1, \"22\": 1, \"56\": 2}, \"35\": {\"33\": 5, \"35\": 21, \"36\": 2, \"23\": 1, \"40\": 1, \"42\": 1, \"31\": 1}, \"15\": {\"15\": 103, \"11\": 5, \"24\": 6, \"28\": 2, \"54\": 4, \"16\": 4, \"10\": 1, \"43\": 4, \"25\": 3}, \"25\": {\"25\": 99, \"16\": 22, \"53\": 1, \"54\": 1, \"11\": 7, \"10\": 2, \"15\": 1, \"18\": 3}, \"19\": {\"33\": 1, \"19\": 104, \"35\": 1, \"55\": 6, \"54\": 1, \"31\": 1, \"29\": 1, \"36\": 2, \"17\": 7, \"23\": 7, \"43\": 1, \"7\": 2, \"11\": 1, \"15\": 1}, \"51\": {\"51\": 119, \"43\": 3, \"13\": 6}, \"53\": {\"53\": 128, \"10\": 3, \"23\": 2, \"16\": 1}, \"21\": {\"21\": 114, \"4\": 1, \"46\": 1, \"1\": 1, \"52\": 2, \"40\": 1}, \"39\": {\"42\": 2, \"39\": 23, \"29\": 1, \"41\": 1, \"33\": 1}, \"2\": {\"40\": 1, \"2\": 13, \"38\": 2, \"13\": 1, \"27\": 3, \"56\": 3, \"29\": 4, \"1\": 1, \"9\": 2, \"36\": 2}, \"16\": {\"53\": 3, \"16\": 90, \"15\": 7, \"54\": 2, \"11\": 22, \"25\": 17, \"10\": 8, \"24\": 1}, \"0\": {\"0\": 28, \"1\": 3, \"5\": 3, \"47\": 2, \"48\": 1, \"44\": 1, \"45\": 1, \"22\": 1, \"56\": 1, \"29\": 1, \"57\": 2, \"30\": 3, \"9\": 1}, \"3\": {\"3\": 33, \"5\": 9, \"21\": 7, \"45\": 9, \"22\": 2, \"12\": 8, \"50\": 5, \"6\": 7, \"30\": 3, \"52\": 4, \"40\": 1, \"44\": 2, \"46\": 1, \"4\": 1}, \"27\": {\"27\": 85, \"47\": 13, \"36\": 1, \"57\": 16, \"29\": 7, \"48\": 10, \"1\": 4, \"2\": 2, \"30\": 1, \"55\": 1, \"9\": 1, \"56\": 1}, \"28\": {\"28\": 25, \"15\": 3}, \"29\": {\"29\": 82, \"56\": 3, \"48\": 2, \"9\": 9, \"32\": 2, \"47\": 3, \"13\": 1, \"4\": 3, \"1\": 5, \"8\": 1, \"57\": 7, \"36\": 1, \"20\": 2, \"33\": 1, \"40\": 5, \"51\": 1}}}, \"per_domain_accuracy\": {\"O_14\": {\"accuracy\": 0.7080729166666667, \"source?\": true}, \"O_20\": {\"accuracy\": 0.9153645833333334, \"source?\": true}, \"O_38\": {\"accuracy\": 0.52890625, \"source?\": true}, \"O_8\": {\"accuracy\": 0.7453125, \"source?\": true}, \"O_50\": {\"accuracy\": 0.49505208333333334, \"source?\": true}, \"O_32\": {\"accuracy\": 0.4635416666666667, \"source?\": true}, \"O_26\": {\"accuracy\": 0.30052083333333335, \"source?\": true}, \"O_44\": {\"accuracy\": 0.4734375, \"source?\": true}, \"C_3\": {\"accuracy\": 0.6865915697674418, \"source?\": false}, \"C_4\": {\"accuracy\": 0.6829545454545455, \"source?\": false}, \"C_5\": {\"accuracy\": 0.6958798882681564, \"source?\": false}, \"C_1\": {\"accuracy\": 0.7377049180327869, \"source?\": false}, \"C_2\": {\"accuracy\": 0.7056850282485876, \"source?\": false}}}, \"history\": {\"epoch_indices\": [1, 2, 3, 4, 5], \"train_label_loss\": [0.47417159468833625, 0.5901555614734423, 0.3897345763681057, 0.3103302161655544, 0.2805398902137919], \"source_val_label_loss\": [74.3559799194336, 0.3650378882884979, 0.332570880651474, 0.31298431754112244, 0.2721298336982727], \"target_val_label_loss\": [4453.94677734375, 5172.01806640625, 8205.013671875, 8371.99609375, 9325.3916015625], \"source_val_acc_label\": [0.5787760416666666, 0.8683919270833333, 0.8807942708333333, 0.8849934895833333, 0.9015625], \"target_val_acc_label\": [0.7023401826484018, 0.5376355593607306, 0.4653966894977169, 0.505386700913242, 0.5045662100456622]}, \"dataset_metrics\": {\"source\": {\"train\": {\"n_unique_x\": 179200, \"n_unique_y\": 16, \"n_batch/episode\": 6720}, \"val\": {\"n_unique_x\": 38400, \"n_unique_y\": 16, \"n_batch/episode\": 960}, \"test\": {\"n_unique_x\": 38400, \"n_unique_y\": 16, \"n_batch/episode\": 960}}, \"target\": {\"train\": {\"n_unique_x\": 175212, \"n_unique_y\": 58, \"n_batch/episode\": 6322}, \"val\": {\"n_unique_x\": 37196, \"n_unique_y\": 58, \"n_batch/episode\": 876}, \"test\": {\"n_unique_x\": 37634, \"n_unique_y\": 58, \"n_batch/episode\": 891}}}}'"
      ]
     },
     "execution_count": 29,
     "metadata": {},
     "output_type": "execute_result"
    }
   ],
   "source": [
    "json.dumps(experiment)"
   ]
  }
 ],
 "metadata": {
  "celltoolbar": "Tags",
  "kernelspec": {
   "display_name": "Python 3 (ipykernel)",
   "language": "python",
   "name": "python3"
  },
  "language_info": {
   "codemirror_mode": {
    "name": "ipython",
    "version": 3
   },
   "file_extension": ".py",
   "mimetype": "text/x-python",
   "name": "python",
   "nbconvert_exporter": "python",
   "pygments_lexer": "ipython3",
   "version": "3.8.10"
  },
  "papermill": {
   "default_parameters": {},
   "duration": 932.540179,
   "end_time": "2022-03-25T08:57:38.679640",
   "environment_variables": {},
   "exception": null,
   "input_path": "/mnt/wd500GB/CSC500/csc500-main/csc500-notebooks/templates/tl_ptn_template.ipynb",
   "output_path": "trial.ipynb",
   "parameters": {
    "parameters": {
     "BEST_MODEL_PATH": "./best_model.pth",
     "NUM_LOGS_PER_EPOCH": 10,
     "criteria_for_best": "target_accuracy",
     "dataset_seed": 1337,
     "datasets": [
      {
       "domain_prefix": "C_",
       "domains": [
        1,
        2,
        3,
        4,
        5
       ],
       "episode_transforms": [],
       "labels": [
        "1-10.",
        "1-11.",
        "1-15.",
        "1-16.",
        "1-17.",
        "1-18.",
        "1-19.",
        "10-4.",
        "10-7.",
        "11-1.",
        "11-14.",
        "11-17.",
        "11-20.",
        "11-7.",
        "13-20.",
        "13-8.",
        "14-10.",
        "14-11.",
        "14-14.",
        "14-7.",
        "15-1.",
        "15-20.",
        "16-1.",
        "16-16.",
        "17-10.",
        "17-11.",
        "17-2.",
        "19-1.",
        "19-16.",
        "19-19.",
        "19-20.",
        "19-3.",
        "2-10.",
        "2-11.",
        "2-17.",
        "2-18.",
        "2-20.",
        "2-3.",
        "2-4.",
        "2-5.",
        "2-6.",
        "2-7.",
        "2-8.",
        "3-13.",
        "3-18.",
        "3-3.",
        "4-1.",
        "4-10.",
        "4-11.",
        "4-19.",
        "5-5.",
        "6-15.",
        "7-10.",
        "7-14.",
        "8-18.",
        "8-20.",
        "8-3.",
        "8-8."
       ],
       "num_examples_per_domain_per_label": -1,
       "pickle_path": "/mnt/wd500GB/CSC500/csc500-main/datasets/cores.stratified_ds.2022A.pkl",
       "source_or_target_dataset": "target",
       "x_transforms": [
        "take_200"
       ]
      },
      {
       "domain_prefix": "O_",
       "domains": [
        32,
        38,
        8,
        44,
        14,
        50,
        20,
        26
       ],
       "episode_transforms": [],
       "labels": [
        "3123D52",
        "3123D65",
        "3123D79",
        "3123D80",
        "3123D54",
        "3123D70",
        "3123D7B",
        "3123D89",
        "3123D58",
        "3123D76",
        "3123D7D",
        "3123EFE",
        "3123D64",
        "3123D78",
        "3123D7E",
        "3124E4A"
       ],
       "num_examples_per_domain_per_label": 2000,
       "pickle_path": "/mnt/wd500GB/CSC500/csc500-main/datasets/oracle.Run1_framed_2000Examples_stratified_ds.2022A.pkl",
       "source_or_target_dataset": "source",
       "x_transforms": [
        "take_200",
        "resample_20Msps_to_25Msps"
       ]
      }
     ],
     "device": "cuda",
     "experiment_name": "tl_3Av2:oracle.run1.framed -> cores",
     "lr": 0.0001,
     "n_epoch": 50,
     "n_query": 2,
     "n_shot": 3,
     "n_way": 16,
     "patience": 3,
     "seed": 1337,
     "test_k_factor": 2,
     "torch_default_dtype": "torch.float32",
     "train_k_factor": 3,
     "val_k_factor": 2,
     "x_net": [
      {
       "class": "nnReshape",
       "kargs": {
        "shape": [
         -1,
         1,
         2,
         200
        ]
       }
      },
      {
       "class": "Conv2d",
       "kargs": {
        "bias": false,
        "in_channels": 1,
        "kernel_size": [
         1,
         7
        ],
        "out_channels": 256,
        "padding": [
         0,
         3
        ]
       }
      },
      {
       "class": "ReLU",
       "kargs": {
        "inplace": true
       }
      },
      {
       "class": "BatchNorm2d",
       "kargs": {
        "num_features": 256
       }
      },
      {
       "class": "Conv2d",
       "kargs": {
        "bias": true,
        "in_channels": 256,
        "kernel_size": [
         2,
         7
        ],
        "out_channels": 80,
        "padding": [
         0,
         3
        ]
       }
      },
      {
       "class": "ReLU",
       "kargs": {
        "inplace": true
       }
      },
      {
       "class": "BatchNorm2d",
       "kargs": {
        "num_features": 80
       }
      },
      {
       "class": "Flatten",
       "kargs": {}
      },
      {
       "class": "Linear",
       "kargs": {
        "in_features": 16000,
        "out_features": 256
       }
      },
      {
       "class": "ReLU",
       "kargs": {
        "inplace": true
       }
      },
      {
       "class": "BatchNorm1d",
       "kargs": {
        "num_features": 256
       }
      },
      {
       "class": "Linear",
       "kargs": {
        "in_features": 256,
        "out_features": 256
       }
      }
     ],
     "x_shape": [
      2,
      200
     ]
    }
   },
   "start_time": "2022-03-25T08:42:06.139461",
   "version": "2.3.4"
  }
 },
 "nbformat": 4,
 "nbformat_minor": 5
}