{
 "cells": [
  {
   "cell_type": "markdown",
   "id": "9fea5f46",
   "metadata": {
    "papermill": {
     "duration": 0.013908,
     "end_time": "2022-03-25T10:16:26.196847",
     "exception": false,
     "start_time": "2022-03-25T10:16:26.182939",
     "status": "completed"
    },
    "tags": []
   },
   "source": [
    "# Transfer Learning Template"
   ]
  },
  {
   "cell_type": "code",
   "execution_count": 1,
   "id": "0902182a",
   "metadata": {
    "execution": {
     "iopub.execute_input": "2022-03-25T10:16:26.235134Z",
     "iopub.status.busy": "2022-03-25T10:16:26.234536Z",
     "iopub.status.idle": "2022-03-25T10:16:27.162410Z",
     "shell.execute_reply": "2022-03-25T10:16:27.161840Z"
    },
    "papermill": {
     "duration": 0.952891,
     "end_time": "2022-03-25T10:16:27.162529",
     "exception": false,
     "start_time": "2022-03-25T10:16:26.209638",
     "status": "completed"
    },
    "tags": []
   },
   "outputs": [],
   "source": [
    "%load_ext autoreload\n",
    "%autoreload 2\n",
    "%matplotlib inline\n",
    "\n",
    "    \n",
    "import os, json, sys, time, random\n",
    "import numpy as np\n",
    "import torch\n",
    "from torch.optim import Adam\n",
    "from  easydict import EasyDict\n",
    "import matplotlib.pyplot as plt\n",
    "\n",
    "from steves_models.steves_ptn import Steves_Prototypical_Network\n",
    "\n",
    "from steves_utils.lazy_iterable_wrapper import Lazy_Iterable_Wrapper\n",
    "from steves_utils.iterable_aggregator import Iterable_Aggregator\n",
    "from steves_utils.ptn_train_eval_test_jig import  PTN_Train_Eval_Test_Jig\n",
    "from steves_utils.torch_sequential_builder import build_sequential\n",
    "from steves_utils.torch_utils import get_dataset_metrics, ptn_confusion_by_domain_over_dataloader\n",
    "from steves_utils.utils_v2 import (per_domain_accuracy_from_confusion, get_datasets_base_path)\n",
    "from steves_utils.PTN.utils import independent_accuracy_assesment\n",
    "\n",
    "from torch.utils.data import DataLoader\n",
    "\n",
    "from steves_utils.stratified_dataset.episodic_accessor import Episodic_Accessor_Factory\n",
    "\n",
    "from steves_utils.ptn_do_report import (\n",
    "    get_loss_curve,\n",
    "    get_results_table,\n",
    "    get_parameters_table,\n",
    "    get_domain_accuracies,\n",
    ")\n",
    "\n",
    "from steves_utils.transforms import get_chained_transform"
   ]
  },
  {
   "cell_type": "markdown",
   "id": "41c840b4",
   "metadata": {
    "papermill": {
     "duration": 0.013282,
     "end_time": "2022-03-25T10:16:27.193785",
     "exception": false,
     "start_time": "2022-03-25T10:16:27.180503",
     "status": "completed"
    },
    "tags": []
   },
   "source": [
    "# Allowed Parameters\n",
    "These are allowed parameters, not defaults\n",
    "Each of these values need to be present in the injected parameters (the notebook will raise an exception if they are not present)\n",
    "\n",
    "Papermill uses the cell tag \"parameters\" to inject the real parameters below this cell.\n",
    "Enable tags to see what I mean"
   ]
  },
  {
   "cell_type": "code",
   "execution_count": 2,
   "id": "fd44eb83",
   "metadata": {
    "execution": {
     "iopub.execute_input": "2022-03-25T10:16:27.220398Z",
     "iopub.status.busy": "2022-03-25T10:16:27.220141Z",
     "iopub.status.idle": "2022-03-25T10:16:27.230652Z",
     "shell.execute_reply": "2022-03-25T10:16:27.230405Z"
    },
    "papermill": {
     "duration": 0.024698,
     "end_time": "2022-03-25T10:16:27.230701",
     "exception": false,
     "start_time": "2022-03-25T10:16:27.206003",
     "status": "completed"
    },
    "tags": []
   },
   "outputs": [],
   "source": [
    "required_parameters = {\n",
    "    \"experiment_name\",\n",
    "    \"lr\",\n",
    "    \"device\",\n",
    "    \"seed\",\n",
    "    \"dataset_seed\",\n",
    "    \"n_shot\",\n",
    "    \"n_query\",\n",
    "    \"n_way\",\n",
    "    \"train_k_factor\",\n",
    "    \"val_k_factor\",\n",
    "    \"test_k_factor\",\n",
    "    \"n_epoch\",\n",
    "    \"patience\",\n",
    "    \"criteria_for_best\",\n",
    "    \"x_net\",\n",
    "    \"datasets\",\n",
    "    \"torch_default_dtype\",\n",
    "    \"NUM_LOGS_PER_EPOCH\",\n",
    "    \"BEST_MODEL_PATH\",\n",
    "    \"x_shape\",\n",
    "}"
   ]
  },
  {
   "cell_type": "code",
   "execution_count": 3,
   "id": "fa3f0049",
   "metadata": {
    "execution": {
     "iopub.execute_input": "2022-03-25T10:16:27.269056Z",
     "iopub.status.busy": "2022-03-25T10:16:27.268232Z",
     "iopub.status.idle": "2022-03-25T10:16:27.280958Z",
     "shell.execute_reply": "2022-03-25T10:16:27.280568Z"
    },
    "papermill": {
     "duration": 0.035366,
     "end_time": "2022-03-25T10:16:27.281045",
     "exception": false,
     "start_time": "2022-03-25T10:16:27.245679",
     "status": "completed"
    },
    "tags": [
     "parameters"
    ]
   },
   "outputs": [],
   "source": [
    "from steves_utils.CORES.utils import (\n",
    "    ALL_NODES,\n",
    "    ALL_NODES_MINIMUM_1000_EXAMPLES,\n",
    "    ALL_DAYS\n",
    ")\n",
    "\n",
    "from steves_utils.ORACLE.utils_v2 import (\n",
    "    ALL_DISTANCES_FEET_NARROWED,\n",
    "    ALL_RUNS,\n",
    "    ALL_SERIAL_NUMBERS,\n",
    ")\n",
    "\n",
    "standalone_parameters = {}\n",
    "standalone_parameters[\"experiment_name\"] = \"STANDALONE PTN\"\n",
    "standalone_parameters[\"lr\"] = 0.001\n",
    "standalone_parameters[\"device\"] = \"cuda\"\n",
    "\n",
    "standalone_parameters[\"seed\"] = 1337\n",
    "standalone_parameters[\"dataset_seed\"] = 1337\n",
    "\n",
    "standalone_parameters[\"n_way\"] = 8\n",
    "standalone_parameters[\"n_shot\"] = 3\n",
    "standalone_parameters[\"n_query\"]  = 2\n",
    "standalone_parameters[\"train_k_factor\"] = 1\n",
    "standalone_parameters[\"val_k_factor\"] = 2\n",
    "standalone_parameters[\"test_k_factor\"] = 2\n",
    "\n",
    "\n",
    "standalone_parameters[\"n_epoch\"] = 50\n",
    "\n",
    "standalone_parameters[\"patience\"] = 10\n",
    "standalone_parameters[\"criteria_for_best\"] = \"source_loss\"\n",
    "\n",
    "standalone_parameters[\"datasets\"] = [\n",
    "    {\n",
    "        \"labels\": ALL_SERIAL_NUMBERS,\n",
    "        \"domains\": ALL_DISTANCES_FEET_NARROWED,\n",
    "        \"num_examples_per_domain_per_label\": 100,\n",
    "        \"pickle_path\": os.path.join(get_datasets_base_path(), \"oracle.Run1_framed_2000Examples_stratified_ds.2022A.pkl\"),\n",
    "        \"source_or_target_dataset\": \"source\",\n",
    "        \"x_transforms\": [\"unit_mag\", \"minus_two\"],\n",
    "        \"episode_transforms\": [],\n",
    "        \"domain_prefix\": \"ORACLE_\"\n",
    "    },\n",
    "    {\n",
    "        \"labels\": ALL_NODES,\n",
    "        \"domains\": ALL_DAYS,\n",
    "        \"num_examples_per_domain_per_label\": 100,\n",
    "        \"pickle_path\": os.path.join(get_datasets_base_path(), \"cores.stratified_ds.2022A.pkl\"),\n",
    "        \"source_or_target_dataset\": \"target\",\n",
    "        \"x_transforms\": [\"unit_power\", \"times_zero\"],\n",
    "        \"episode_transforms\": [],\n",
    "        \"domain_prefix\": \"CORES_\"\n",
    "    }   \n",
    "]\n",
    "\n",
    "standalone_parameters[\"torch_default_dtype\"] = \"torch.float32\" \n",
    "\n",
    "\n",
    "\n",
    "standalone_parameters[\"x_net\"] =     [\n",
    "    {\"class\": \"nnReshape\", \"kargs\": {\"shape\":[-1, 1, 2, 256]}},\n",
    "    {\"class\": \"Conv2d\", \"kargs\": { \"in_channels\":1, \"out_channels\":256, \"kernel_size\":(1,7), \"bias\":False, \"padding\":(0,3), },},\n",
    "    {\"class\": \"ReLU\", \"kargs\": {\"inplace\": True}},\n",
    "    {\"class\": \"BatchNorm2d\", \"kargs\": {\"num_features\":256}},\n",
    "\n",
    "    {\"class\": \"Conv2d\", \"kargs\": { \"in_channels\":256, \"out_channels\":80, \"kernel_size\":(2,7), \"bias\":True, \"padding\":(0,3), },},\n",
    "    {\"class\": \"ReLU\", \"kargs\": {\"inplace\": True}},\n",
    "    {\"class\": \"BatchNorm2d\", \"kargs\": {\"num_features\":80}},\n",
    "    {\"class\": \"Flatten\", \"kargs\": {}},\n",
    "\n",
    "    {\"class\": \"Linear\", \"kargs\": {\"in_features\": 80*256, \"out_features\": 256}}, # 80 units per IQ pair\n",
    "    {\"class\": \"ReLU\", \"kargs\": {\"inplace\": True}},\n",
    "    {\"class\": \"BatchNorm1d\", \"kargs\": {\"num_features\":256}},\n",
    "\n",
    "    {\"class\": \"Linear\", \"kargs\": {\"in_features\": 256, \"out_features\": 256}},\n",
    "]\n",
    "\n",
    "# Parameters relevant to results\n",
    "# These parameters will basically never need to change\n",
    "standalone_parameters[\"NUM_LOGS_PER_EPOCH\"] = 10\n",
    "standalone_parameters[\"BEST_MODEL_PATH\"] = \"./best_model.pth\"\n",
    "\n",
    "\n",
    "\n",
    "\n"
   ]
  },
  {
   "cell_type": "code",
   "execution_count": 4,
   "id": "3b6d849a",
   "metadata": {
    "execution": {
     "iopub.execute_input": "2022-03-25T10:16:27.321443Z",
     "iopub.status.busy": "2022-03-25T10:16:27.317725Z",
     "iopub.status.idle": "2022-03-25T10:16:27.333674Z",
     "shell.execute_reply": "2022-03-25T10:16:27.333229Z"
    },
    "papermill": {
     "duration": 0.035233,
     "end_time": "2022-03-25T10:16:27.333760",
     "exception": false,
     "start_time": "2022-03-25T10:16:27.298527",
     "status": "completed"
    },
    "tags": [
     "injected-parameters"
    ]
   },
   "outputs": [],
   "source": [
    "# Parameters\n",
    "parameters = {\n",
    "    \"experiment_name\": \"tl_3Av2:oracle.run1.framed -> cores\",\n",
    "    \"device\": \"cuda\",\n",
    "    \"lr\": 0.0001,\n",
    "    \"x_shape\": [2, 200],\n",
    "    \"n_shot\": 3,\n",
    "    \"n_query\": 2,\n",
    "    \"train_k_factor\": 3,\n",
    "    \"val_k_factor\": 2,\n",
    "    \"test_k_factor\": 2,\n",
    "    \"torch_default_dtype\": \"torch.float32\",\n",
    "    \"n_epoch\": 50,\n",
    "    \"patience\": 3,\n",
    "    \"criteria_for_best\": \"target_accuracy\",\n",
    "    \"x_net\": [\n",
    "        {\"class\": \"nnReshape\", \"kargs\": {\"shape\": [-1, 1, 2, 200]}},\n",
    "        {\n",
    "            \"class\": \"Conv2d\",\n",
    "            \"kargs\": {\n",
    "                \"in_channels\": 1,\n",
    "                \"out_channels\": 256,\n",
    "                \"kernel_size\": [1, 7],\n",
    "                \"bias\": False,\n",
    "                \"padding\": [0, 3],\n",
    "            },\n",
    "        },\n",
    "        {\"class\": \"ReLU\", \"kargs\": {\"inplace\": True}},\n",
    "        {\"class\": \"BatchNorm2d\", \"kargs\": {\"num_features\": 256}},\n",
    "        {\n",
    "            \"class\": \"Conv2d\",\n",
    "            \"kargs\": {\n",
    "                \"in_channels\": 256,\n",
    "                \"out_channels\": 80,\n",
    "                \"kernel_size\": [2, 7],\n",
    "                \"bias\": True,\n",
    "                \"padding\": [0, 3],\n",
    "            },\n",
    "        },\n",
    "        {\"class\": \"ReLU\", \"kargs\": {\"inplace\": True}},\n",
    "        {\"class\": \"BatchNorm2d\", \"kargs\": {\"num_features\": 80}},\n",
    "        {\"class\": \"Flatten\", \"kargs\": {}},\n",
    "        {\"class\": \"Linear\", \"kargs\": {\"in_features\": 16000, \"out_features\": 256}},\n",
    "        {\"class\": \"ReLU\", \"kargs\": {\"inplace\": True}},\n",
    "        {\"class\": \"BatchNorm1d\", \"kargs\": {\"num_features\": 256}},\n",
    "        {\"class\": \"Linear\", \"kargs\": {\"in_features\": 256, \"out_features\": 256}},\n",
    "    ],\n",
    "    \"NUM_LOGS_PER_EPOCH\": 10,\n",
    "    \"BEST_MODEL_PATH\": \"./best_model.pth\",\n",
    "    \"n_way\": 16,\n",
    "    \"datasets\": [\n",
    "        {\n",
    "            \"labels\": [\n",
    "                \"1-10.\",\n",
    "                \"1-11.\",\n",
    "                \"1-15.\",\n",
    "                \"1-16.\",\n",
    "                \"1-17.\",\n",
    "                \"1-18.\",\n",
    "                \"1-19.\",\n",
    "                \"10-4.\",\n",
    "                \"10-7.\",\n",
    "                \"11-1.\",\n",
    "                \"11-14.\",\n",
    "                \"11-17.\",\n",
    "                \"11-20.\",\n",
    "                \"11-7.\",\n",
    "                \"13-20.\",\n",
    "                \"13-8.\",\n",
    "                \"14-10.\",\n",
    "                \"14-11.\",\n",
    "                \"14-14.\",\n",
    "                \"14-7.\",\n",
    "                \"15-1.\",\n",
    "                \"15-20.\",\n",
    "                \"16-1.\",\n",
    "                \"16-16.\",\n",
    "                \"17-10.\",\n",
    "                \"17-11.\",\n",
    "                \"17-2.\",\n",
    "                \"19-1.\",\n",
    "                \"19-16.\",\n",
    "                \"19-19.\",\n",
    "                \"19-20.\",\n",
    "                \"19-3.\",\n",
    "                \"2-10.\",\n",
    "                \"2-11.\",\n",
    "                \"2-17.\",\n",
    "                \"2-18.\",\n",
    "                \"2-20.\",\n",
    "                \"2-3.\",\n",
    "                \"2-4.\",\n",
    "                \"2-5.\",\n",
    "                \"2-6.\",\n",
    "                \"2-7.\",\n",
    "                \"2-8.\",\n",
    "                \"3-13.\",\n",
    "                \"3-18.\",\n",
    "                \"3-3.\",\n",
    "                \"4-1.\",\n",
    "                \"4-10.\",\n",
    "                \"4-11.\",\n",
    "                \"4-19.\",\n",
    "                \"5-5.\",\n",
    "                \"6-15.\",\n",
    "                \"7-10.\",\n",
    "                \"7-14.\",\n",
    "                \"8-18.\",\n",
    "                \"8-20.\",\n",
    "                \"8-3.\",\n",
    "                \"8-8.\",\n",
    "            ],\n",
    "            \"domains\": [1, 2, 3, 4, 5],\n",
    "            \"num_examples_per_domain_per_label\": -1,\n",
    "            \"pickle_path\": \"/mnt/wd500GB/CSC500/csc500-main/datasets/cores.stratified_ds.2022A.pkl\",\n",
    "            \"source_or_target_dataset\": \"target\",\n",
    "            \"x_transforms\": [\"take_200\"],\n",
    "            \"episode_transforms\": [],\n",
    "            \"domain_prefix\": \"C_\",\n",
    "        },\n",
    "        {\n",
    "            \"labels\": [\n",
    "                \"3123D52\",\n",
    "                \"3123D65\",\n",
    "                \"3123D79\",\n",
    "                \"3123D80\",\n",
    "                \"3123D54\",\n",
    "                \"3123D70\",\n",
    "                \"3123D7B\",\n",
    "                \"3123D89\",\n",
    "                \"3123D58\",\n",
    "                \"3123D76\",\n",
    "                \"3123D7D\",\n",
    "                \"3123EFE\",\n",
    "                \"3123D64\",\n",
    "                \"3123D78\",\n",
    "                \"3123D7E\",\n",
    "                \"3124E4A\",\n",
    "            ],\n",
    "            \"domains\": [32, 38, 8, 44, 14, 50, 20, 26],\n",
    "            \"num_examples_per_domain_per_label\": 2000,\n",
    "            \"pickle_path\": \"/mnt/wd500GB/CSC500/csc500-main/datasets/oracle.Run1_framed_2000Examples_stratified_ds.2022A.pkl\",\n",
    "            \"source_or_target_dataset\": \"source\",\n",
    "            \"x_transforms\": [\"take_200\", \"resample_20Msps_to_25Msps\"],\n",
    "            \"episode_transforms\": [],\n",
    "            \"domain_prefix\": \"O_\",\n",
    "        },\n",
    "    ],\n",
    "    \"seed\": 420,\n",
    "    \"dataset_seed\": 420,\n",
    "}\n"
   ]
  },
  {
   "cell_type": "code",
   "execution_count": 5,
   "id": "8fa1cc33",
   "metadata": {
    "execution": {
     "iopub.execute_input": "2022-03-25T10:16:27.368126Z",
     "iopub.status.busy": "2022-03-25T10:16:27.367876Z",
     "iopub.status.idle": "2022-03-25T10:16:27.381852Z",
     "shell.execute_reply": "2022-03-25T10:16:27.381465Z"
    },
    "papermill": {
     "duration": 0.031482,
     "end_time": "2022-03-25T10:16:27.381938",
     "exception": false,
     "start_time": "2022-03-25T10:16:27.350456",
     "status": "completed"
    },
    "tags": []
   },
   "outputs": [],
   "source": [
    "# Set this to True if you want to run this template directly\n",
    "STANDALONE = False\n",
    "if STANDALONE:\n",
    "    print(\"parameters not injected, running with standalone_parameters\")\n",
    "    parameters = standalone_parameters\n",
    "\n",
    "if not 'parameters' in locals() and not 'parameters' in globals():\n",
    "    raise Exception(\"Parameter injection failed\")\n",
    "\n",
    "#Use an easy dict for all the parameters\n",
    "p = EasyDict(parameters)\n",
    "\n",
    "if \"x_shape\" not in p:\n",
    "    p.x_shape = [2,256] # Default to this if we dont supply x_shape\n",
    "\n",
    "\n",
    "supplied_keys = set(p.keys())\n",
    "\n",
    "if  supplied_keys != required_parameters:\n",
    "    print(\"Parameters are incorrect\")\n",
    "    if len(supplied_keys - required_parameters)>0: print(\"Shouldn't have:\", str(supplied_keys - required_parameters))\n",
    "    if len(required_parameters - supplied_keys)>0: print(\"Need to have:\", str(required_parameters - supplied_keys))\n",
    "    raise RuntimeError(\"Parameters are incorrect\")"
   ]
  },
  {
   "cell_type": "code",
   "execution_count": 6,
   "id": "3a028d58",
   "metadata": {
    "execution": {
     "iopub.execute_input": "2022-03-25T10:16:27.415495Z",
     "iopub.status.busy": "2022-03-25T10:16:27.415250Z",
     "iopub.status.idle": "2022-03-25T10:16:27.429205Z",
     "shell.execute_reply": "2022-03-25T10:16:27.428763Z"
    },
    "papermill": {
     "duration": 0.028938,
     "end_time": "2022-03-25T10:16:27.429292",
     "exception": false,
     "start_time": "2022-03-25T10:16:27.400354",
     "status": "completed"
    },
    "tags": []
   },
   "outputs": [],
   "source": [
    "###################################\n",
    "# Set the RNGs and make it all deterministic\n",
    "###################################\n",
    "np.random.seed(p.seed)\n",
    "random.seed(p.seed)\n",
    "torch.manual_seed(p.seed)\n",
    "\n",
    "torch.use_deterministic_algorithms(True) "
   ]
  },
  {
   "cell_type": "code",
   "execution_count": 7,
   "id": "b691acf6",
   "metadata": {
    "execution": {
     "iopub.execute_input": "2022-03-25T10:16:27.463726Z",
     "iopub.status.busy": "2022-03-25T10:16:27.462459Z",
     "iopub.status.idle": "2022-03-25T10:16:27.475498Z",
     "shell.execute_reply": "2022-03-25T10:16:27.475110Z"
    },
    "papermill": {
     "duration": 0.029504,
     "end_time": "2022-03-25T10:16:27.475583",
     "exception": false,
     "start_time": "2022-03-25T10:16:27.446079",
     "status": "completed"
    },
    "tags": []
   },
   "outputs": [],
   "source": [
    "###########################################\n",
    "# The stratified datasets honor this\n",
    "###########################################\n",
    "torch.set_default_dtype(eval(p.torch_default_dtype))"
   ]
  },
  {
   "cell_type": "code",
   "execution_count": 8,
   "id": "b5fba671",
   "metadata": {
    "execution": {
     "iopub.execute_input": "2022-03-25T10:16:27.511929Z",
     "iopub.status.busy": "2022-03-25T10:16:27.508217Z",
     "iopub.status.idle": "2022-03-25T10:16:27.543779Z",
     "shell.execute_reply": "2022-03-25T10:16:27.543563Z"
    },
    "papermill": {
     "duration": 0.050351,
     "end_time": "2022-03-25T10:16:27.543828",
     "exception": false,
     "start_time": "2022-03-25T10:16:27.493477",
     "status": "completed"
    },
    "tags": []
   },
   "outputs": [],
   "source": [
    "###################################\n",
    "# Build the network(s)\n",
    "# Note: It's critical to do this AFTER setting the RNG\n",
    "###################################\n",
    "x_net = build_sequential(p.x_net)"
   ]
  },
  {
   "cell_type": "code",
   "execution_count": 9,
   "id": "5d7e61cc",
   "metadata": {
    "execution": {
     "iopub.execute_input": "2022-03-25T10:16:27.574366Z",
     "iopub.status.busy": "2022-03-25T10:16:27.572143Z",
     "iopub.status.idle": "2022-03-25T10:16:27.587809Z",
     "shell.execute_reply": "2022-03-25T10:16:27.587367Z"
    },
    "papermill": {
     "duration": 0.030906,
     "end_time": "2022-03-25T10:16:27.587896",
     "exception": false,
     "start_time": "2022-03-25T10:16:27.556990",
     "status": "completed"
    },
    "tags": []
   },
   "outputs": [],
   "source": [
    "start_time_secs = time.time()"
   ]
  },
  {
   "cell_type": "code",
   "execution_count": 10,
   "id": "c6b67dfd",
   "metadata": {
    "execution": {
     "iopub.execute_input": "2022-03-25T10:16:27.624271Z",
     "iopub.status.busy": "2022-03-25T10:16:27.623611Z",
     "iopub.status.idle": "2022-03-25T10:16:27.635478Z",
     "shell.execute_reply": "2022-03-25T10:16:27.635880Z"
    },
    "papermill": {
     "duration": 0.030222,
     "end_time": "2022-03-25T10:16:27.636001",
     "exception": false,
     "start_time": "2022-03-25T10:16:27.605779",
     "status": "completed"
    },
    "tags": []
   },
   "outputs": [],
   "source": [
    "p.domains_source = []\n",
    "p.domains_target = []\n",
    "\n",
    "\n",
    "train_original_source = []\n",
    "val_original_source   = []\n",
    "test_original_source  = []\n",
    "\n",
    "train_original_target = []\n",
    "val_original_target   = []\n",
    "test_original_target  = []"
   ]
  },
  {
   "cell_type": "code",
   "execution_count": 11,
   "id": "e3d9c3d3",
   "metadata": {
    "execution": {
     "iopub.execute_input": "2022-03-25T10:16:27.669538Z",
     "iopub.status.busy": "2022-03-25T10:16:27.669294Z",
     "iopub.status.idle": "2022-03-25T10:16:27.684039Z",
     "shell.execute_reply": "2022-03-25T10:16:27.683653Z"
    },
    "papermill": {
     "duration": 0.029352,
     "end_time": "2022-03-25T10:16:27.684125",
     "exception": false,
     "start_time": "2022-03-25T10:16:27.654773",
     "status": "completed"
    },
    "tags": []
   },
   "outputs": [],
   "source": [
    "# global_x_transform_func = lambda x: normalize(x.to(torch.get_default_dtype()), \"unit_power\") # unit_power, unit_mag\n",
    "# global_x_transform_func = lambda x: normalize(x, \"unit_power\") # unit_power, unit_mag"
   ]
  },
  {
   "cell_type": "code",
   "execution_count": 12,
   "id": "acb78fd2",
   "metadata": {
    "execution": {
     "iopub.execute_input": "2022-03-25T10:16:27.721909Z",
     "iopub.status.busy": "2022-03-25T10:16:27.721655Z",
     "iopub.status.idle": "2022-03-25T10:16:27.736538Z",
     "shell.execute_reply": "2022-03-25T10:16:27.736082Z"
    },
    "papermill": {
     "duration": 0.034303,
     "end_time": "2022-03-25T10:16:27.736624",
     "exception": false,
     "start_time": "2022-03-25T10:16:27.702321",
     "status": "completed"
    },
    "tags": []
   },
   "outputs": [],
   "source": [
    "def add_dataset(\n",
    "    labels,\n",
    "    domains,\n",
    "    pickle_path,\n",
    "    x_transforms,\n",
    "    episode_transforms,\n",
    "    domain_prefix,\n",
    "    num_examples_per_domain_per_label,\n",
    "    source_or_target_dataset:str,\n",
    "    iterator_seed=p.seed,\n",
    "    dataset_seed=p.dataset_seed,\n",
    "    n_shot=p.n_shot,\n",
    "    n_way=p.n_way,\n",
    "    n_query=p.n_query,\n",
    "    train_val_test_k_factors=(p.train_k_factor,p.val_k_factor,p.test_k_factor),\n",
    "):\n",
    "   \n",
    "    if x_transforms == []: x_transform = None\n",
    "    else: x_transform = get_chained_transform(x_transforms)\n",
    "    \n",
    "    if episode_transforms == []: episode_transform = None\n",
    "    else: raise Exception(\"episode_transforms not implemented\")\n",
    "    \n",
    "    episode_transform = lambda tup, _prefix=domain_prefix: (_prefix + str(tup[0]), tup[1])\n",
    "\n",
    "\n",
    "    eaf = Episodic_Accessor_Factory(\n",
    "        labels=labels,\n",
    "        domains=domains,\n",
    "        num_examples_per_domain_per_label=num_examples_per_domain_per_label,\n",
    "        iterator_seed=iterator_seed,\n",
    "        dataset_seed=dataset_seed,\n",
    "        n_shot=n_shot,\n",
    "        n_way=n_way,\n",
    "        n_query=n_query,\n",
    "        train_val_test_k_factors=train_val_test_k_factors,\n",
    "        pickle_path=pickle_path,\n",
    "        x_transform_func=x_transform,\n",
    "    )\n",
    "\n",
    "    train, val, test = eaf.get_train(), eaf.get_val(), eaf.get_test()\n",
    "    train = Lazy_Iterable_Wrapper(train, episode_transform)\n",
    "    val = Lazy_Iterable_Wrapper(val, episode_transform)\n",
    "    test = Lazy_Iterable_Wrapper(test, episode_transform)\n",
    "\n",
    "    if source_or_target_dataset==\"source\":\n",
    "        train_original_source.append(train)\n",
    "        val_original_source.append(val)\n",
    "        test_original_source.append(test)\n",
    "\n",
    "        p.domains_source.extend(\n",
    "            [domain_prefix + str(u) for u in domains]\n",
    "        )\n",
    "    elif source_or_target_dataset==\"target\":\n",
    "        train_original_target.append(train)\n",
    "        val_original_target.append(val)\n",
    "        test_original_target.append(test)\n",
    "        p.domains_target.extend(\n",
    "            [domain_prefix + str(u) for u in domains]\n",
    "        )\n",
    "    else:\n",
    "        raise Exception(f\"invalid source_or_target_dataset: {source_or_target_dataset}\")\n",
    "    "
   ]
  },
  {
   "cell_type": "code",
   "execution_count": 13,
   "id": "fe266617",
   "metadata": {
    "execution": {
     "iopub.execute_input": "2022-03-25T10:16:27.770123Z",
     "iopub.status.busy": "2022-03-25T10:16:27.769847Z",
     "iopub.status.idle": "2022-03-25T10:16:44.104240Z",
     "shell.execute_reply": "2022-03-25T10:16:44.103757Z"
    },
    "papermill": {
     "duration": 16.349917,
     "end_time": "2022-03-25T10:16:44.104339",
     "exception": false,
     "start_time": "2022-03-25T10:16:27.754422",
     "status": "completed"
    },
    "tags": []
   },
   "outputs": [],
   "source": [
    "for ds in p.datasets:\n",
    "    add_dataset(**ds)"
   ]
  },
  {
   "cell_type": "code",
   "execution_count": 14,
   "id": "b90d65ac",
   "metadata": {
    "execution": {
     "iopub.execute_input": "2022-03-25T10:16:44.138342Z",
     "iopub.status.busy": "2022-03-25T10:16:44.138082Z",
     "iopub.status.idle": "2022-03-25T10:16:44.154466Z",
     "shell.execute_reply": "2022-03-25T10:16:44.154024Z"
    },
    "papermill": {
     "duration": 0.031887,
     "end_time": "2022-03-25T10:16:44.154569",
     "exception": false,
     "start_time": "2022-03-25T10:16:44.122682",
     "status": "completed"
    },
    "tags": []
   },
   "outputs": [],
   "source": [
    "# from steves_utils.CORES.utils import (\n",
    "#     ALL_NODES,\n",
    "#     ALL_NODES_MINIMUM_1000_EXAMPLES,\n",
    "#     ALL_DAYS\n",
    "# )\n",
    "\n",
    "# add_dataset(\n",
    "#     labels=ALL_NODES,\n",
    "#     domains = ALL_DAYS,\n",
    "#     num_examples_per_domain_per_label=100,\n",
    "#     pickle_path=os.path.join(get_datasets_base_path(), \"cores.stratified_ds.2022A.pkl\"),\n",
    "#     source_or_target_dataset=\"target\",\n",
    "#     x_transform_func=global_x_transform_func,\n",
    "#     domain_modifier=lambda u: f\"cores_{u}\"\n",
    "# )"
   ]
  },
  {
   "cell_type": "code",
   "execution_count": 15,
   "id": "76db484d",
   "metadata": {
    "execution": {
     "iopub.execute_input": "2022-03-25T10:16:44.198719Z",
     "iopub.status.busy": "2022-03-25T10:16:44.196868Z",
     "iopub.status.idle": "2022-03-25T10:16:44.202985Z",
     "shell.execute_reply": "2022-03-25T10:16:44.202570Z"
    },
    "papermill": {
     "duration": 0.029706,
     "end_time": "2022-03-25T10:16:44.203077",
     "exception": false,
     "start_time": "2022-03-25T10:16:44.173371",
     "status": "completed"
    },
    "tags": []
   },
   "outputs": [],
   "source": [
    "# from steves_utils.ORACLE.utils_v2 import (\n",
    "#     ALL_DISTANCES_FEET,\n",
    "#     ALL_RUNS,\n",
    "#     ALL_SERIAL_NUMBERS,\n",
    "# )\n",
    "\n",
    "\n",
    "# add_dataset(\n",
    "#     labels=ALL_SERIAL_NUMBERS,\n",
    "#     domains = list(set(ALL_DISTANCES_FEET) - {2,62}),\n",
    "#     num_examples_per_domain_per_label=100,\n",
    "#     pickle_path=os.path.join(get_datasets_base_path(), \"oracle.Run2_framed_2000Examples_stratified_ds.2022A.pkl\"),\n",
    "#     source_or_target_dataset=\"source\",\n",
    "#     x_transform_func=global_x_transform_func,\n",
    "#     domain_modifier=lambda u: f\"oracle1_{u}\"\n",
    "# )\n"
   ]
  },
  {
   "cell_type": "code",
   "execution_count": 16,
   "id": "97dea9d2",
   "metadata": {
    "execution": {
     "iopub.execute_input": "2022-03-25T10:16:44.237825Z",
     "iopub.status.busy": "2022-03-25T10:16:44.237524Z",
     "iopub.status.idle": "2022-03-25T10:16:44.252521Z",
     "shell.execute_reply": "2022-03-25T10:16:44.252124Z"
    },
    "papermill": {
     "duration": 0.030208,
     "end_time": "2022-03-25T10:16:44.252607",
     "exception": false,
     "start_time": "2022-03-25T10:16:44.222399",
     "status": "completed"
    },
    "tags": []
   },
   "outputs": [],
   "source": [
    "# from steves_utils.ORACLE.utils_v2 import (\n",
    "#     ALL_DISTANCES_FEET,\n",
    "#     ALL_RUNS,\n",
    "#     ALL_SERIAL_NUMBERS,\n",
    "# )\n",
    "\n",
    "\n",
    "# add_dataset(\n",
    "#     labels=ALL_SERIAL_NUMBERS,\n",
    "#     domains = list(set(ALL_DISTANCES_FEET) - {2,62,56}),\n",
    "#     num_examples_per_domain_per_label=100,\n",
    "#     pickle_path=os.path.join(get_datasets_base_path(), \"oracle.Run2_framed_2000Examples_stratified_ds.2022A.pkl\"),\n",
    "#     source_or_target_dataset=\"source\",\n",
    "#     x_transform_func=global_x_transform_func,\n",
    "#     domain_modifier=lambda u: f\"oracle2_{u}\"\n",
    "# )"
   ]
  },
  {
   "cell_type": "code",
   "execution_count": 17,
   "id": "6f289866",
   "metadata": {
    "execution": {
     "iopub.execute_input": "2022-03-25T10:16:44.291979Z",
     "iopub.status.busy": "2022-03-25T10:16:44.291733Z",
     "iopub.status.idle": "2022-03-25T10:16:44.298345Z",
     "shell.execute_reply": "2022-03-25T10:16:44.298750Z"
    },
    "papermill": {
     "duration": 0.028279,
     "end_time": "2022-03-25T10:16:44.298868",
     "exception": false,
     "start_time": "2022-03-25T10:16:44.270589",
     "status": "completed"
    },
    "tags": []
   },
   "outputs": [],
   "source": [
    "# add_dataset(\n",
    "#     labels=list(range(19)),\n",
    "#     domains = [0,1,2],\n",
    "#     num_examples_per_domain_per_label=100,\n",
    "#     pickle_path=os.path.join(get_datasets_base_path(), \"metehan.stratified_ds.2022A.pkl\"),\n",
    "#     source_or_target_dataset=\"target\",\n",
    "#     x_transform_func=global_x_transform_func,\n",
    "#     domain_modifier=lambda u: f\"met_{u}\"\n",
    "# )"
   ]
  },
  {
   "cell_type": "code",
   "execution_count": 18,
   "id": "86a863c3",
   "metadata": {
    "execution": {
     "iopub.execute_input": "2022-03-25T10:16:44.331449Z",
     "iopub.status.busy": "2022-03-25T10:16:44.331202Z",
     "iopub.status.idle": "2022-03-25T10:16:44.342676Z",
     "shell.execute_reply": "2022-03-25T10:16:44.342329Z"
    },
    "papermill": {
     "duration": 0.026663,
     "end_time": "2022-03-25T10:16:44.342743",
     "exception": false,
     "start_time": "2022-03-25T10:16:44.316080",
     "status": "completed"
    },
    "tags": []
   },
   "outputs": [],
   "source": [
    "# # from steves_utils.wisig.utils import (\n",
    "# #     ALL_NODES_MINIMUM_100_EXAMPLES,\n",
    "# #     ALL_NODES_MINIMUM_500_EXAMPLES,\n",
    "# #     ALL_NODES_MINIMUM_1000_EXAMPLES,\n",
    "# #     ALL_DAYS\n",
    "# # )\n",
    "\n",
    "# import steves_utils.wisig.utils as wisig\n",
    "\n",
    "\n",
    "# add_dataset(\n",
    "#     labels=wisig.ALL_NODES_MINIMUM_100_EXAMPLES,\n",
    "#     domains = wisig.ALL_DAYS,\n",
    "#     num_examples_per_domain_per_label=100,\n",
    "#     pickle_path=os.path.join(get_datasets_base_path(), \"wisig.node3-19.stratified_ds.2022A.pkl\"),\n",
    "#     source_or_target_dataset=\"target\",\n",
    "#     x_transform_func=global_x_transform_func,\n",
    "#     domain_modifier=lambda u: f\"wisig_{u}\"\n",
    "# )"
   ]
  },
  {
   "cell_type": "code",
   "execution_count": 19,
   "id": "fd5442bc",
   "metadata": {
    "execution": {
     "iopub.execute_input": "2022-03-25T10:16:44.379093Z",
     "iopub.status.busy": "2022-03-25T10:16:44.378839Z",
     "iopub.status.idle": "2022-03-25T10:16:44.393332Z",
     "shell.execute_reply": "2022-03-25T10:16:44.393679Z"
    },
    "papermill": {
     "duration": 0.032946,
     "end_time": "2022-03-25T10:16:44.393782",
     "exception": false,
     "start_time": "2022-03-25T10:16:44.360836",
     "status": "completed"
    },
    "tags": []
   },
   "outputs": [],
   "source": [
    "###################################\n",
    "# Build the dataset\n",
    "###################################\n",
    "train_original_source = Iterable_Aggregator(train_original_source, p.seed)\n",
    "val_original_source = Iterable_Aggregator(val_original_source, p.seed)\n",
    "test_original_source = Iterable_Aggregator(test_original_source, p.seed)\n",
    "\n",
    "\n",
    "train_original_target = Iterable_Aggregator(train_original_target, p.seed)\n",
    "val_original_target = Iterable_Aggregator(val_original_target, p.seed)\n",
    "test_original_target = Iterable_Aggregator(test_original_target, p.seed)\n",
    "\n",
    "# For CNN We only use X and Y. And we only train on the source.\n",
    "# Properly form the data using a transform lambda and Lazy_Iterable_Wrapper. Finally wrap them in a dataloader\n",
    "\n",
    "transform_lambda = lambda ex: ex[1] # Original is (<domain>, <episode>) so we strip down to episode only\n",
    "\n",
    "train_processed_source = Lazy_Iterable_Wrapper(train_original_source, transform_lambda)\n",
    "val_processed_source   = Lazy_Iterable_Wrapper(val_original_source, transform_lambda)\n",
    "test_processed_source  = Lazy_Iterable_Wrapper(test_original_source, transform_lambda)\n",
    "\n",
    "train_processed_target = Lazy_Iterable_Wrapper(train_original_target, transform_lambda)\n",
    "val_processed_target   = Lazy_Iterable_Wrapper(val_original_target, transform_lambda)\n",
    "test_processed_target  = Lazy_Iterable_Wrapper(test_original_target, transform_lambda)\n",
    "\n",
    "datasets = EasyDict({\n",
    "    \"source\": {\n",
    "        \"original\": {\"train\":train_original_source, \"val\":val_original_source, \"test\":test_original_source},\n",
    "        \"processed\": {\"train\":train_processed_source, \"val\":val_processed_source, \"test\":test_processed_source}\n",
    "    },\n",
    "    \"target\": {\n",
    "        \"original\": {\"train\":train_original_target, \"val\":val_original_target, \"test\":test_original_target},\n",
    "        \"processed\": {\"train\":train_processed_target, \"val\":val_processed_target, \"test\":test_processed_target}\n",
    "    },\n",
    "})"
   ]
  },
  {
   "cell_type": "code",
   "execution_count": 20,
   "id": "5b3c01fc",
   "metadata": {
    "execution": {
     "iopub.execute_input": "2022-03-25T10:16:44.434580Z",
     "iopub.status.busy": "2022-03-25T10:16:44.428149Z",
     "iopub.status.idle": "2022-03-25T10:16:50.599935Z",
     "shell.execute_reply": "2022-03-25T10:16:50.600201Z"
    },
    "papermill": {
     "duration": 6.189131,
     "end_time": "2022-03-25T10:16:50.600290",
     "exception": false,
     "start_time": "2022-03-25T10:16:44.411159",
     "status": "completed"
    },
    "tags": []
   },
   "outputs": [
    {
     "name": "stdout",
     "output_type": "stream",
     "text": [
      "{'O_26', 'O_8', 'O_14', 'O_44', 'O_38', 'O_50', 'O_32', 'O_20'}\n"
     ]
    },
    {
     "name": "stdout",
     "output_type": "stream",
     "text": [
      "{'C_1', 'C_5', 'C_4', 'C_2', 'C_3'}\n"
     ]
    },
    {
     "name": "stdout",
     "output_type": "stream",
     "text": [
      "tensor([[[ 2.1668e-03,  1.9356e-03, -2.0440e-03,  ...,  4.0062e-04,\n",
      "          -3.5633e-03,  1.6687e-04],\n",
      "         [ 5.1881e-04,  4.2070e-03,  1.3198e-03,  ...,  2.7346e-03,\n",
      "           2.0436e-03,  2.7066e-03]],\n",
      "\n",
      "        [[-2.1973e-03,  9.0551e-04,  2.6879e-03,  ...,  1.6112e-03,\n",
      "           3.8851e-03,  2.1429e-03],\n",
      "         [-1.6480e-03, -4.1460e-03,  6.8800e-04,  ..., -1.7057e-03,\n",
      "           1.1608e-03, -2.1020e-03]],\n",
      "\n",
      "        [[-1.2207e-04,  3.7047e-03,  1.5631e-03,  ...,  2.5664e-03,\n",
      "           1.4505e-03,  2.5121e-03],\n",
      "         [-1.9227e-03, -1.3189e-03,  2.2181e-03,  ...,  1.4671e-05,\n",
      "           3.6921e-03,  4.5015e-05]],\n",
      "\n",
      "        ...,\n",
      "\n",
      "        [[ 2.9908e-03,  1.8943e-03, -2.9748e-03,  ..., -4.6612e-05,\n",
      "          -5.1257e-03, -4.8283e-04],\n",
      "         [ 7.0193e-04,  4.8741e-03,  1.1802e-03,  ...,  3.4314e-03,\n",
      "           2.4493e-03,  4.1666e-03]],\n",
      "\n",
      "        [[ 4.4862e-03,  3.5262e-03, -4.5896e-03,  ..., -7.6992e-04,\n",
      "          -1.6533e-03,  4.6432e-03],\n",
      "         [ 4.5778e-04,  4.0197e-03,  1.2869e-03,  ...,  4.4552e-03,\n",
      "           3.6509e-03,  3.1152e-03]],\n",
      "\n",
      "        [[ 3.9064e-03,  4.2895e-03, -3.1423e-03,  ...,  2.4494e-03,\n",
      "           2.2762e-03,  5.3046e-03],\n",
      "         [-3.1434e-03,  6.8323e-04,  5.0160e-03,  ...,  4.5379e-03,\n",
      "           2.4855e-03, -1.8031e-03]]])\n"
     ]
    }
   ],
   "source": [
    "from steves_utils.transforms import get_average_magnitude, get_average_power\n",
    "\n",
    "print(set([u for u,_ in val_original_source]))\n",
    "print(set([u for u,_ in val_original_target]))\n",
    "\n",
    "s_x, s_y, q_x, q_y, _ = next(iter(train_processed_source))\n",
    "print(s_x)\n",
    "\n",
    "# for ds in [\n",
    "#     train_processed_source,\n",
    "#     val_processed_source,\n",
    "#     test_processed_source,\n",
    "#     train_processed_target,\n",
    "#     val_processed_target,\n",
    "#     test_processed_target\n",
    "# ]:\n",
    "#     for s_x, s_y, q_x, q_y, _ in ds:\n",
    "#         for X in (s_x, q_x):\n",
    "#             for x in X:\n",
    "#                 assert np.isclose(get_average_magnitude(x.numpy()), 1.0)\n",
    "#                 assert np.isclose(get_average_power(x.numpy()), 1.0)\n",
    "                "
   ]
  },
  {
   "cell_type": "code",
   "execution_count": 21,
   "id": "bbdacba1",
   "metadata": {
    "execution": {
     "iopub.execute_input": "2022-03-25T10:16:50.640986Z",
     "iopub.status.busy": "2022-03-25T10:16:50.640722Z",
     "iopub.status.idle": "2022-03-25T10:16:50.696387Z",
     "shell.execute_reply": "2022-03-25T10:16:50.695962Z"
    },
    "papermill": {
     "duration": 0.073118,
     "end_time": "2022-03-25T10:16:50.696489",
     "exception": false,
     "start_time": "2022-03-25T10:16:50.623371",
     "status": "completed"
    },
    "tags": []
   },
   "outputs": [
    {
     "name": "stdout",
     "output_type": "stream",
     "text": [
      "(2, 200)\n"
     ]
    }
   ],
   "source": [
    "###################################\n",
    "# Build the model\n",
    "###################################\n",
    "# easfsl only wants a tuple for the shape\n",
    "model = Steves_Prototypical_Network(x_net, device=p.device, x_shape=tuple(p.x_shape))\n",
    "optimizer = Adam(params=model.parameters(), lr=p.lr)"
   ]
  },
  {
   "cell_type": "code",
   "execution_count": 22,
   "id": "22b39ac5",
   "metadata": {
    "execution": {
     "iopub.execute_input": "2022-03-25T10:16:50.735414Z",
     "iopub.status.busy": "2022-03-25T10:16:50.735156Z",
     "iopub.status.idle": "2022-03-25T10:30:29.754765Z",
     "shell.execute_reply": "2022-03-25T10:30:29.754535Z"
    },
    "papermill": {
     "duration": 819.037066,
     "end_time": "2022-03-25T10:30:29.754822",
     "exception": false,
     "start_time": "2022-03-25T10:16:50.717756",
     "status": "completed"
    },
    "tags": []
   },
   "outputs": [
    {
     "name": "stdout",
     "output_type": "stream",
     "text": [
      "epoch: 1, [batch: 1 / 6720], examples_per_second: 49.9866, train_label_loss: 2.9266, \n"
     ]
    },
    {
     "name": "stdout",
     "output_type": "stream",
     "text": [
      "epoch: 1, [batch: 672 / 6720], examples_per_second: 3605.7379, train_label_loss: 0.6885, \n"
     ]
    },
    {
     "name": "stdout",
     "output_type": "stream",
     "text": [
      "epoch: 1, [batch: 1344 / 6720], examples_per_second: 3624.5269, train_label_loss: 0.5103, \n"
     ]
    },
    {
     "name": "stdout",
     "output_type": "stream",
     "text": [
      "epoch: 1, [batch: 2016 / 6720], examples_per_second: 3634.4284, train_label_loss: 0.6018, \n"
     ]
    },
    {
     "name": "stdout",
     "output_type": "stream",
     "text": [
      "epoch: 1, [batch: 2688 / 6720], examples_per_second: 3628.2294, train_label_loss: 0.8162, \n"
     ]
    },
    {
     "name": "stdout",
     "output_type": "stream",
     "text": [
      "epoch: 1, [batch: 3360 / 6720], examples_per_second: 3631.5003, train_label_loss: 0.3621, \n"
     ]
    },
    {
     "name": "stdout",
     "output_type": "stream",
     "text": [
      "epoch: 1, [batch: 4032 / 6720], examples_per_second: 3623.2171, train_label_loss: 0.1292, \n"
     ]
    },
    {
     "name": "stdout",
     "output_type": "stream",
     "text": [
      "epoch: 1, [batch: 4704 / 6720], examples_per_second: 3606.3821, train_label_loss: 0.3418, \n"
     ]
    },
    {
     "name": "stdout",
     "output_type": "stream",
     "text": [
      "epoch: 1, [batch: 5376 / 6720], examples_per_second: 3613.4624, train_label_loss: 0.2402, \n"
     ]
    },
    {
     "name": "stdout",
     "output_type": "stream",
     "text": [
      "epoch: 1, [batch: 6048 / 6720], examples_per_second: 3627.4431, train_label_loss: 0.3097, \n"
     ]
    },
    {
     "name": "stdout",
     "output_type": "stream",
     "text": [
      "=============================================================\n",
      "epoch: 1, source_val_acc_label: 0.6386, target_val_acc_label: 0.5207, source_val_label_loss: 7.8551, target_val_label_loss: 2428.2446, \n",
      "=============================================================\n"
     ]
    },
    {
     "name": "stdout",
     "output_type": "stream",
     "text": [
      "New best\n"
     ]
    },
    {
     "name": "stdout",
     "output_type": "stream",
     "text": [
      "epoch: 2, [batch: 1 / 6720], examples_per_second: 5.2855, train_label_loss: 0.3848, \n"
     ]
    },
    {
     "name": "stdout",
     "output_type": "stream",
     "text": [
      "epoch: 2, [batch: 672 / 6720], examples_per_second: 3582.6468, train_label_loss: 0.1578, \n"
     ]
    },
    {
     "name": "stdout",
     "output_type": "stream",
     "text": [
      "epoch: 2, [batch: 1344 / 6720], examples_per_second: 3630.6906, train_label_loss: 0.4618, \n"
     ]
    },
    {
     "name": "stdout",
     "output_type": "stream",
     "text": [
      "epoch: 2, [batch: 2016 / 6720], examples_per_second: 3635.3025, train_label_loss: 0.2778, \n"
     ]
    },
    {
     "name": "stdout",
     "output_type": "stream",
     "text": [
      "epoch: 2, [batch: 2688 / 6720], examples_per_second: 3601.1448, train_label_loss: 0.3802, \n"
     ]
    },
    {
     "name": "stdout",
     "output_type": "stream",
     "text": [
      "epoch: 2, [batch: 3360 / 6720], examples_per_second: 3639.7926, train_label_loss: 0.3858, \n"
     ]
    },
    {
     "name": "stdout",
     "output_type": "stream",
     "text": [
      "epoch: 2, [batch: 4032 / 6720], examples_per_second: 3626.2994, train_label_loss: 0.4125, \n"
     ]
    },
    {
     "name": "stdout",
     "output_type": "stream",
     "text": [
      "epoch: 2, [batch: 4704 / 6720], examples_per_second: 3583.6943, train_label_loss: 0.5202, \n"
     ]
    },
    {
     "name": "stdout",
     "output_type": "stream",
     "text": [
      "epoch: 2, [batch: 5376 / 6720], examples_per_second: 3624.2846, train_label_loss: 0.4111, \n"
     ]
    },
    {
     "name": "stdout",
     "output_type": "stream",
     "text": [
      "epoch: 2, [batch: 6048 / 6720], examples_per_second: 3624.6650, train_label_loss: 0.2280, \n"
     ]
    },
    {
     "name": "stdout",
     "output_type": "stream",
     "text": [
      "=============================================================\n",
      "epoch: 2, source_val_acc_label: 0.8572, target_val_acc_label: 0.4034, source_val_label_loss: 0.4074, target_val_label_loss: 2897.0835, \n",
      "=============================================================\n"
     ]
    },
    {
     "name": "stdout",
     "output_type": "stream",
     "text": [
      "epoch: 3, [batch: 1 / 6720], examples_per_second: 5.2806, train_label_loss: 0.3508, \n"
     ]
    },
    {
     "name": "stdout",
     "output_type": "stream",
     "text": [
      "epoch: 3, [batch: 672 / 6720], examples_per_second: 3603.3761, train_label_loss: 0.3254, \n"
     ]
    },
    {
     "name": "stdout",
     "output_type": "stream",
     "text": [
      "epoch: 3, [batch: 1344 / 6720], examples_per_second: 3632.2904, train_label_loss: 0.4305, \n"
     ]
    },
    {
     "name": "stdout",
     "output_type": "stream",
     "text": [
      "epoch: 3, [batch: 2016 / 6720], examples_per_second: 3636.8505, train_label_loss: 0.2535, \n"
     ]
    },
    {
     "name": "stdout",
     "output_type": "stream",
     "text": [
      "epoch: 3, [batch: 2688 / 6720], examples_per_second: 3611.5959, train_label_loss: 0.3175, \n"
     ]
    },
    {
     "name": "stdout",
     "output_type": "stream",
     "text": [
      "epoch: 3, [batch: 3360 / 6720], examples_per_second: 3631.6899, train_label_loss: 0.5079, \n"
     ]
    },
    {
     "name": "stdout",
     "output_type": "stream",
     "text": [
      "epoch: 3, [batch: 4032 / 6720], examples_per_second: 3636.2470, train_label_loss: 0.4907, \n"
     ]
    },
    {
     "name": "stdout",
     "output_type": "stream",
     "text": [
      "epoch: 3, [batch: 4704 / 6720], examples_per_second: 3607.1679, train_label_loss: 0.2083, \n"
     ]
    },
    {
     "name": "stdout",
     "output_type": "stream",
     "text": [
      "epoch: 3, [batch: 5376 / 6720], examples_per_second: 3630.3525, train_label_loss: 0.2364, \n"
     ]
    },
    {
     "name": "stdout",
     "output_type": "stream",
     "text": [
      "epoch: 3, [batch: 6048 / 6720], examples_per_second: 3636.6485, train_label_loss: 0.4636, \n"
     ]
    },
    {
     "name": "stdout",
     "output_type": "stream",
     "text": [
      "=============================================================\n",
      "epoch: 3, source_val_acc_label: 0.8832, target_val_acc_label: 0.4119, source_val_label_loss: 0.3304, target_val_label_loss: 3029.9326, \n",
      "=============================================================\n"
     ]
    },
    {
     "name": "stdout",
     "output_type": "stream",
     "text": [
      "epoch: 4, [batch: 1 / 6720], examples_per_second: 5.3104, train_label_loss: 0.2891, \n"
     ]
    },
    {
     "name": "stdout",
     "output_type": "stream",
     "text": [
      "epoch: 4, [batch: 672 / 6720], examples_per_second: 3611.3875, train_label_loss: 0.2555, \n"
     ]
    },
    {
     "name": "stdout",
     "output_type": "stream",
     "text": [
      "epoch: 4, [batch: 1344 / 6720], examples_per_second: 3577.6113, train_label_loss: 0.1995, \n"
     ]
    },
    {
     "name": "stdout",
     "output_type": "stream",
     "text": [
      "epoch: 4, [batch: 2016 / 6720], examples_per_second: 3605.6294, train_label_loss: 0.1526, \n"
     ]
    },
    {
     "name": "stdout",
     "output_type": "stream",
     "text": [
      "epoch: 4, [batch: 2688 / 6720], examples_per_second: 3621.7772, train_label_loss: 0.4013, \n"
     ]
    },
    {
     "name": "stdout",
     "output_type": "stream",
     "text": [
      "epoch: 4, [batch: 3360 / 6720], examples_per_second: 3628.4830, train_label_loss: 0.2815, \n"
     ]
    },
    {
     "name": "stdout",
     "output_type": "stream",
     "text": [
      "epoch: 4, [batch: 4032 / 6720], examples_per_second: 3645.8639, train_label_loss: 0.2693, \n"
     ]
    },
    {
     "name": "stdout",
     "output_type": "stream",
     "text": [
      "epoch: 4, [batch: 4704 / 6720], examples_per_second: 3616.2865, train_label_loss: 0.4313, \n"
     ]
    },
    {
     "name": "stdout",
     "output_type": "stream",
     "text": [
      "epoch: 4, [batch: 5376 / 6720], examples_per_second: 3638.5513, train_label_loss: 0.3523, \n"
     ]
    },
    {
     "name": "stdout",
     "output_type": "stream",
     "text": [
      "epoch: 4, [batch: 6048 / 6720], examples_per_second: 3653.5783, train_label_loss: 0.0727, \n"
     ]
    },
    {
     "name": "stdout",
     "output_type": "stream",
     "text": [
      "=============================================================\n",
      "epoch: 4, source_val_acc_label: 0.8879, target_val_acc_label: 0.4177, source_val_label_loss: 0.3125, target_val_label_loss: 3212.4377, \n",
      "=============================================================\n"
     ]
    },
    {
     "name": "stdout",
     "output_type": "stream",
     "text": [
      "epoch: 5, [batch: 1 / 6720], examples_per_second: 5.2990, train_label_loss: 0.4216, \n"
     ]
    },
    {
     "name": "stdout",
     "output_type": "stream",
     "text": [
      "epoch: 5, [batch: 672 / 6720], examples_per_second: 3611.9856, train_label_loss: 0.3962, \n"
     ]
    },
    {
     "name": "stdout",
     "output_type": "stream",
     "text": [
      "epoch: 5, [batch: 1344 / 6720], examples_per_second: 3620.0039, train_label_loss: 0.2001, \n"
     ]
    },
    {
     "name": "stdout",
     "output_type": "stream",
     "text": [
      "epoch: 5, [batch: 2016 / 6720], examples_per_second: 3631.5588, train_label_loss: 0.1977, \n"
     ]
    },
    {
     "name": "stdout",
     "output_type": "stream",
     "text": [
      "epoch: 5, [batch: 2688 / 6720], examples_per_second: 3616.1877, train_label_loss: 0.2094, \n"
     ]
    },
    {
     "name": "stdout",
     "output_type": "stream",
     "text": [
      "epoch: 5, [batch: 3360 / 6720], examples_per_second: 3628.2225, train_label_loss: 0.2298, \n"
     ]
    },
    {
     "name": "stdout",
     "output_type": "stream",
     "text": [
      "epoch: 5, [batch: 4032 / 6720], examples_per_second: 3632.1337, train_label_loss: 0.5165, \n"
     ]
    },
    {
     "name": "stdout",
     "output_type": "stream",
     "text": [
      "epoch: 5, [batch: 4704 / 6720], examples_per_second: 3613.4358, train_label_loss: 0.2321, \n"
     ]
    },
    {
     "name": "stdout",
     "output_type": "stream",
     "text": [
      "epoch: 5, [batch: 5376 / 6720], examples_per_second: 3626.2368, train_label_loss: 0.4140, \n"
     ]
    },
    {
     "name": "stdout",
     "output_type": "stream",
     "text": [
      "epoch: 5, [batch: 6048 / 6720], examples_per_second: 3628.4683, train_label_loss: 0.3449, \n"
     ]
    },
    {
     "name": "stdout",
     "output_type": "stream",
     "text": [
      "=============================================================\n",
      "epoch: 5, source_val_acc_label: 0.9081, target_val_acc_label: 0.4351, source_val_label_loss: 0.2625, target_val_label_loss: 3366.3889, \n",
      "=============================================================\n"
     ]
    },
    {
     "name": "stdout",
     "output_type": "stream",
     "text": [
      "Patience (3) exhausted\n"
     ]
    }
   ],
   "source": [
    "###################################\n",
    "# train\n",
    "###################################\n",
    "jig = PTN_Train_Eval_Test_Jig(model, p.BEST_MODEL_PATH, p.device)\n",
    "\n",
    "jig.train(\n",
    "    train_iterable=datasets.source.processed.train,\n",
    "    source_val_iterable=datasets.source.processed.val,\n",
    "    target_val_iterable=datasets.target.processed.val,\n",
    "    num_epochs=p.n_epoch,\n",
    "    num_logs_per_epoch=p.NUM_LOGS_PER_EPOCH,\n",
    "    patience=p.patience,\n",
    "    optimizer=optimizer,\n",
    "    criteria_for_best=p.criteria_for_best,\n",
    ")"
   ]
  },
  {
   "cell_type": "code",
   "execution_count": 23,
   "id": "31e8fabf",
   "metadata": {
    "execution": {
     "iopub.execute_input": "2022-03-25T10:30:29.807585Z",
     "iopub.status.busy": "2022-03-25T10:30:29.807318Z",
     "iopub.status.idle": "2022-03-25T10:30:29.825617Z",
     "shell.execute_reply": "2022-03-25T10:30:29.825149Z"
    },
    "papermill": {
     "duration": 0.045948,
     "end_time": "2022-03-25T10:30:29.825707",
     "exception": false,
     "start_time": "2022-03-25T10:30:29.779759",
     "status": "completed"
    },
    "tags": []
   },
   "outputs": [],
   "source": [
    "total_experiment_time_secs = time.time() - start_time_secs"
   ]
  },
  {
   "cell_type": "code",
   "execution_count": 24,
   "id": "87b9595b",
   "metadata": {
    "execution": {
     "iopub.execute_input": "2022-03-25T10:30:29.885232Z",
     "iopub.status.busy": "2022-03-25T10:30:29.884727Z",
     "iopub.status.idle": "2022-03-25T10:32:00.006290Z",
     "shell.execute_reply": "2022-03-25T10:32:00.006704Z"
    },
    "papermill": {
     "duration": 90.152737,
     "end_time": "2022-03-25T10:32:00.006845",
     "exception": false,
     "start_time": "2022-03-25T10:30:29.854108",
     "status": "completed"
    },
    "tags": []
   },
   "outputs": [],
   "source": [
    "###################################\n",
    "# Evaluate the model\n",
    "###################################\n",
    "source_test_label_accuracy, source_test_label_loss = jig.test(datasets.source.processed.test)\n",
    "target_test_label_accuracy, target_test_label_loss = jig.test(datasets.target.processed.test)\n",
    "\n",
    "source_val_label_accuracy, source_val_label_loss = jig.test(datasets.source.processed.val)\n",
    "target_val_label_accuracy, target_val_label_loss = jig.test(datasets.target.processed.val)\n",
    "\n",
    "history = jig.get_history()\n",
    "\n",
    "total_epochs_trained = len(history[\"epoch_indices\"])\n",
    "\n",
    "val_dl = Iterable_Aggregator((datasets.source.original.val,datasets.target.original.val))\n",
    "\n",
    "confusion = ptn_confusion_by_domain_over_dataloader(model, p.device, val_dl)\n",
    "per_domain_accuracy = per_domain_accuracy_from_confusion(confusion)\n",
    "\n",
    "# Add a key to per_domain_accuracy for if it was a source domain\n",
    "for domain, accuracy in per_domain_accuracy.items():\n",
    "    per_domain_accuracy[domain] = {\n",
    "        \"accuracy\": accuracy,\n",
    "        \"source?\": domain in p.domains_source\n",
    "    }\n",
    "\n",
    "# Do an independent accuracy assesment JUST TO BE SURE!\n",
    "# _source_test_label_accuracy = independent_accuracy_assesment(model, datasets.source.processed.test, p.device)\n",
    "# _target_test_label_accuracy = independent_accuracy_assesment(model, datasets.target.processed.test, p.device)\n",
    "# _source_val_label_accuracy = independent_accuracy_assesment(model, datasets.source.processed.val, p.device)\n",
    "# _target_val_label_accuracy = independent_accuracy_assesment(model, datasets.target.processed.val, p.device)\n",
    "\n",
    "# assert(_source_test_label_accuracy == source_test_label_accuracy)\n",
    "# assert(_target_test_label_accuracy == target_test_label_accuracy)\n",
    "# assert(_source_val_label_accuracy == source_val_label_accuracy)\n",
    "# assert(_target_val_label_accuracy == target_val_label_accuracy)\n",
    "\n",
    "experiment = {\n",
    "    \"experiment_name\": p.experiment_name,\n",
    "    \"parameters\": dict(p),\n",
    "    \"results\": {\n",
    "        \"source_test_label_accuracy\": source_test_label_accuracy,\n",
    "        \"source_test_label_loss\": source_test_label_loss,\n",
    "        \"target_test_label_accuracy\": target_test_label_accuracy,\n",
    "        \"target_test_label_loss\": target_test_label_loss,\n",
    "        \"source_val_label_accuracy\": source_val_label_accuracy,\n",
    "        \"source_val_label_loss\": source_val_label_loss,\n",
    "        \"target_val_label_accuracy\": target_val_label_accuracy,\n",
    "        \"target_val_label_loss\": target_val_label_loss,\n",
    "        \"total_epochs_trained\": total_epochs_trained,\n",
    "        \"total_experiment_time_secs\": total_experiment_time_secs,\n",
    "        \"confusion\": confusion,\n",
    "        \"per_domain_accuracy\": per_domain_accuracy,\n",
    "    },\n",
    "    \"history\": history,\n",
    "    \"dataset_metrics\": get_dataset_metrics(datasets, \"ptn\"),\n",
    "}"
   ]
  },
  {
   "cell_type": "code",
   "execution_count": 25,
   "id": "54a21829",
   "metadata": {
    "execution": {
     "iopub.execute_input": "2022-03-25T10:32:00.061682Z",
     "iopub.status.busy": "2022-03-25T10:32:00.061278Z",
     "iopub.status.idle": "2022-03-25T10:32:00.179327Z",
     "shell.execute_reply": "2022-03-25T10:32:00.179054Z"
    },
    "papermill": {
     "duration": 0.144587,
     "end_time": "2022-03-25T10:32:00.179387",
     "exception": false,
     "start_time": "2022-03-25T10:32:00.034800",
     "status": "completed"
    },
    "tags": []
   },
   "outputs": [
    {
     "data": {
      "image/png": "[encoded data removed]",
      "text/plain": [
       "<Figure size 1080x504 with 1 Axes>"
      ]
     },
     "metadata": {
      "needs_background": "light"
     },
     "output_type": "display_data"
    }
   ],
   "source": [
    "ax = get_loss_curve(experiment)\n",
    "plt.show()"
   ]
  },
  {
   "cell_type": "code",
   "execution_count": 26,
   "id": "fd8a0f60",
   "metadata": {
    "execution": {
     "iopub.execute_input": "2022-03-25T10:32:00.232152Z",
     "iopub.status.busy": "2022-03-25T10:32:00.231224Z",
     "iopub.status.idle": "2022-03-25T10:32:00.374033Z",
     "shell.execute_reply": "2022-03-25T10:32:00.374262Z"
    },
    "papermill": {
     "duration": 0.169524,
     "end_time": "2022-03-25T10:32:00.374343",
     "exception": false,
     "start_time": "2022-03-25T10:32:00.204819",
     "status": "completed"
    },
    "tags": []
   },
   "outputs": [
    {
     "data": {
      "text/plain": [
       "<AxesSubplot:title={'center':'Results'}>"
      ]
     },
     "execution_count": 26,
     "metadata": {},
     "output_type": "execute_result"
    },
    {
     "data": {
      "image/png": "[encoded data removed]",
      "text/plain": [
       "<Figure size 1080x504 with 1 Axes>"
      ]
     },
     "metadata": {
      "needs_background": "light"
     },
     "output_type": "display_data"
    }
   ],
   "source": [
    "get_results_table(experiment)"
   ]
  },
  {
   "cell_type": "code",
   "execution_count": 27,
   "id": "cf8dc689",
   "metadata": {
    "execution": {
     "iopub.execute_input": "2022-03-25T10:32:00.431158Z",
     "iopub.status.busy": "2022-03-25T10:32:00.430390Z",
     "iopub.status.idle": "2022-03-25T10:32:00.566752Z",
     "shell.execute_reply": "2022-03-25T10:32:00.567171Z"
    },
    "papermill": {
     "duration": 0.165033,
     "end_time": "2022-03-25T10:32:00.567302",
     "exception": false,
     "start_time": "2022-03-25T10:32:00.402269",
     "status": "completed"
    },
    "tags": []
   },
   "outputs": [
    {
     "data": {
      "text/plain": [
       "<AxesSubplot:title={'center':'Per Domain Validation Accuracy'}, xlabel='domain'>"
      ]
     },
     "execution_count": 27,
     "metadata": {},
     "output_type": "execute_result"
    },
    {
     "data": {
      "image/png": "[encoded data removed]",
      "text/plain": [
       "<Figure size 1080x504 with 1 Axes>"
      ]
     },
     "metadata": {
      "needs_background": "light"
     },
     "output_type": "display_data"
    }
   ],
   "source": [
    "get_domain_accuracies(experiment)"
   ]
  },
  {
   "cell_type": "code",
   "execution_count": 28,
   "id": "a74ae082",
   "metadata": {
    "execution": {
     "iopub.execute_input": "2022-03-25T10:32:00.628328Z",
     "iopub.status.busy": "2022-03-25T10:32:00.627023Z",
     "iopub.status.idle": "2022-03-25T10:32:00.645463Z",
     "shell.execute_reply": "2022-03-25T10:32:00.645020Z"
    },
    "papermill": {
     "duration": 0.046752,
     "end_time": "2022-03-25T10:32:00.645565",
     "exception": false,
     "start_time": "2022-03-25T10:32:00.598813",
     "status": "completed"
    },
    "tags": []
   },
   "outputs": [
    {
     "name": "stdout",
     "output_type": "stream",
     "text": [
      "Source Test Label Accuracy: 0.6402994791666666 Target Test Label Accuracy: 0.5146374153498872\n",
      "Source Val Label Accuracy: 0.6386067708333333 Target Val Label Accuracy: 0.5206785714285714\n"
     ]
    }
   ],
   "source": [
    "print(\"Source Test Label Accuracy:\", experiment[\"results\"][\"source_test_label_accuracy\"], \"Target Test Label Accuracy:\", experiment[\"results\"][\"target_test_label_accuracy\"])\n",
    "print(\"Source Val Label Accuracy:\", experiment[\"results\"][\"source_val_label_accuracy\"], \"Target Val Label Accuracy:\", experiment[\"results\"][\"target_val_label_accuracy\"])"
   ]
  },
  {
   "cell_type": "code",
   "execution_count": 29,
   "id": "dacca602",
   "metadata": {
    "execution": {
     "iopub.execute_input": "2022-03-25T10:32:00.706248Z",
     "iopub.status.busy": "2022-03-25T10:32:00.705975Z",
     "iopub.status.idle": "2022-03-25T10:32:00.724868Z",
     "shell.execute_reply": "2022-03-25T10:32:00.725275Z"
    },
    "papermill": {
     "duration": 0.048845,
     "end_time": "2022-03-25T10:32:00.725400",
     "exception": false,
     "start_time": "2022-03-25T10:32:00.676555",
     "status": "completed"
    },
    "tags": [
     "experiment_json"
    ]
   },
   "outputs": [
    {
     "data": {
      "text/plain": [
       "'{\"experiment_name\": \"tl_3Av2:oracle.run1.framed -> cores\", \"parameters\": {\"experiment_name\": \"tl_3Av2:oracle.run1.framed -> cores\", \"device\": \"cuda\", \"lr\": 0.0001, \"x_shape\": [2, 200], \"n_shot\": 3, \"n_query\": 2, \"train_k_factor\": 3, \"val_k_factor\": 2, \"test_k_factor\": 2, \"torch_default_dtype\": \"torch.float32\", \"n_epoch\": 50, \"patience\": 3, \"criteria_for_best\": \"target_accuracy\", \"x_net\": [{\"class\": \"nnReshape\", \"kargs\": {\"shape\": [-1, 1, 2, 200]}}, {\"class\": \"Conv2d\", \"kargs\": {\"in_channels\": 1, \"out_channels\": 256, \"kernel_size\": [1, 7], \"bias\": false, \"padding\": [0, 3]}}, {\"class\": \"ReLU\", \"kargs\": {\"inplace\": true}}, {\"class\": \"BatchNorm2d\", \"kargs\": {\"num_features\": 256}}, {\"class\": \"Conv2d\", \"kargs\": {\"in_channels\": 256, \"out_channels\": 80, \"kernel_size\": [2, 7], \"bias\": true, \"padding\": [0, 3]}}, {\"class\": \"ReLU\", \"kargs\": {\"inplace\": true}}, {\"class\": \"BatchNorm2d\", \"kargs\": {\"num_features\": 80}}, {\"class\": \"Flatten\", \"kargs\": {}}, {\"class\": \"Linear\", \"kargs\": {\"in_features\": 16000, \"out_features\": 256}}, {\"class\": \"ReLU\", \"kargs\": {\"inplace\": true}}, {\"class\": \"BatchNorm1d\", \"kargs\": {\"num_features\": 256}}, {\"class\": \"Linear\", \"kargs\": {\"in_features\": 256, \"out_features\": 256}}], \"NUM_LOGS_PER_EPOCH\": 10, \"BEST_MODEL_PATH\": \"./best_model.pth\", \"n_way\": 16, \"datasets\": [{\"labels\": [\"1-10.\", \"1-11.\", \"1-15.\", \"1-16.\", \"1-17.\", \"1-18.\", \"1-19.\", \"10-4.\", \"10-7.\", \"11-1.\", \"11-14.\", \"11-17.\", \"11-20.\", \"11-7.\", \"13-20.\", \"13-8.\", \"14-10.\", \"14-11.\", \"14-14.\", \"14-7.\", \"15-1.\", \"15-20.\", \"16-1.\", \"16-16.\", \"17-10.\", \"17-11.\", \"17-2.\", \"19-1.\", \"19-16.\", \"19-19.\", \"19-20.\", \"19-3.\", \"2-10.\", \"2-11.\", \"2-17.\", \"2-18.\", \"2-20.\", \"2-3.\", \"2-4.\", \"2-5.\", \"2-6.\", \"2-7.\", \"2-8.\", \"3-13.\", \"3-18.\", \"3-3.\", \"4-1.\", \"4-10.\", \"4-11.\", \"4-19.\", \"5-5.\", \"6-15.\", \"7-10.\", \"7-14.\", \"8-18.\", \"8-20.\", \"8-3.\", \"8-8.\"], \"domains\": [1, 2, 3, 4, 5], \"num_examples_per_domain_per_label\": -1, \"pickle_path\": \"/mnt/wd500GB/CSC500/csc500-main/datasets/cores.stratified_ds.2022A.pkl\", \"source_or_target_dataset\": \"target\", \"x_transforms\": [\"take_200\"], \"episode_transforms\": [], \"domain_prefix\": \"C_\"}, {\"labels\": [\"3123D52\", \"3123D65\", \"3123D79\", \"3123D80\", \"3123D54\", \"3123D70\", \"3123D7B\", \"3123D89\", \"3123D58\", \"3123D76\", \"3123D7D\", \"3123EFE\", \"3123D64\", \"3123D78\", \"3123D7E\", \"3124E4A\"], \"domains\": [32, 38, 8, 44, 14, 50, 20, 26], \"num_examples_per_domain_per_label\": 2000, \"pickle_path\": \"/mnt/wd500GB/CSC500/csc500-main/datasets/oracle.Run1_framed_2000Examples_stratified_ds.2022A.pkl\", \"source_or_target_dataset\": \"source\", \"x_transforms\": [\"take_200\", \"resample_20Msps_to_25Msps\"], \"episode_transforms\": [], \"domain_prefix\": \"O_\"}], \"seed\": 420, \"dataset_seed\": 420, \"domains_source\": [\"O_32\", \"O_38\", \"O_8\", \"O_44\", \"O_14\", \"O_50\", \"O_20\", \"O_26\"], \"domains_target\": [\"C_1\", \"C_2\", \"C_3\", \"C_4\", \"C_5\"]}, \"results\": {\"source_test_label_accuracy\": 0.6402994791666666, \"source_test_label_loss\": 7.783384799957275, \"target_test_label_accuracy\": 0.5146374153498872, \"target_test_label_loss\": 2470.9873046875, \"source_val_label_accuracy\": 0.6386067708333333, \"source_val_label_loss\": 7.855135440826416, \"target_val_label_accuracy\": 0.5206785714285714, \"target_val_label_loss\": 2428.24462890625, \"total_epochs_trained\": 5, \"total_experiment_time_secs\": 842.23756980896, \"confusion\": {\"O_14\": {\"15\": {\"15\": 240}, \"5\": {\"5\": 228, \"4\": 3, \"7\": 3, \"2\": 4, \"3\": 2}, \"7\": {\"7\": 239, \"5\": 1}, \"4\": {\"4\": 234, \"2\": 1, \"5\": 5}, \"10\": {\"10\": 240}, \"11\": {\"11\": 239, \"15\": 1}, \"12\": {\"12\": 240}, \"0\": {\"0\": 228, \"10\": 4, \"3\": 8}, \"14\": {\"13\": 24, \"14\": 200, \"6\": 4, \"3\": 1, \"2\": 11}, \"8\": {\"8\": 240}, \"13\": {\"6\": 89, \"14\": 81, \"13\": 48, \"15\": 15, \"2\": 7}, \"6\": {\"6\": 142, \"13\": 61, \"14\": 24, \"2\": 12, \"3\": 1}, \"1\": {\"1\": 240}, \"3\": {\"3\": 240}, \"9\": {\"9\": 240}, \"2\": {\"2\": 121, \"13\": 6, \"3\": 8, \"5\": 26, \"14\": 42, \"6\": 19, \"4\": 18}}, \"O_20\": {\"4\": {\"4\": 237, \"12\": 2, \"10\": 1}, \"10\": {\"10\": 240}, \"15\": {\"15\": 192, \"1\": 25, \"12\": 22, \"2\": 1}, \"0\": {\"0\": 233, \"3\": 2, \"5\": 4, \"8\": 1}, \"6\": {\"6\": 239, \"7\": 1}, \"3\": {\"3\": 189, \"1\": 3, \"9\": 18, \"5\": 21, \"8\": 8, \"7\": 1}, \"7\": {\"7\": 197, \"2\": 26, \"9\": 15, \"3\": 1, \"4\": 1}, \"2\": {\"7\": 30, \"2\": 184, \"12\": 12, \"9\": 6, \"15\": 1, \"13\": 6, \"1\": 1}, \"8\": {\"8\": 224, \"14\": 8, \"3\": 8}, \"11\": {\"11\": 240}, \"14\": {\"14\": 235, \"6\": 3, \"8\": 2}, \"12\": {\"12\": 215, \"2\": 13, \"4\": 2, \"15\": 9, \"9\": 1}, \"13\": {\"13\": 238, \"2\": 2}, \"9\": {\"7\": 8, \"9\": 205, \"2\": 4, \"3\": 18, \"1\": 5}, \"5\": {\"1\": 48, \"5\": 174, \"3\": 16, \"9\": 2}, \"1\": {\"1\": 194, \"5\": 35, \"15\": 6, \"9\": 4, \"3\": 1}}, \"O_50\": {\"5\": {\"7\": 33, \"5\": 67, \"4\": 43, \"3\": 26, \"6\": 13, \"11\": 23, \"15\": 18, \"1\": 1, \"12\": 3, \"13\": 7, \"9\": 6}, \"12\": {\"12\": 75, \"9\": 34, \"11\": 73, \"6\": 21, \"5\": 6, \"15\": 16, \"3\": 12, \"13\": 3}, \"14\": {\"14\": 131, \"2\": 88, \"0\": 21}, \"4\": {\"4\": 84, \"7\": 108, \"15\": 7, \"5\": 30, \"6\": 4, \"3\": 7}, \"13\": {\"13\": 181, \"11\": 26, \"8\": 12, \"1\": 19, \"5\": 1, \"12\": 1}, \"10\": {\"8\": 15, \"10\": 171, \"0\": 34, \"1\": 18, \"2\": 2}, \"9\": {\"9\": 49, \"15\": 42, \"12\": 60, \"6\": 30, \"3\": 31, \"5\": 19, \"11\": 8, \"4\": 1}, \"15\": {\"11\": 2, \"5\": 18, \"3\": 41, \"15\": 46, \"9\": 40, \"6\": 59, \"12\": 34}, \"6\": {\"5\": 29, \"7\": 1, \"15\": 44, \"9\": 45, \"3\": 52, \"6\": 45, \"12\": 22, \"11\": 2}, \"2\": {\"2\": 97, \"0\": 70, \"14\": 73}, \"0\": {\"2\": 48, \"0\": 146, \"14\": 18, \"10\": 28}, \"11\": {\"12\": 51, \"13\": 27, \"11\": 145, \"15\": 5, \"6\": 2, \"5\": 2, \"9\": 7, \"3\": 1}, \"3\": {\"5\": 31, \"15\": 29, \"12\": 17, \"3\": 69, \"6\": 50, \"9\": 40, \"11\": 3, \"4\": 1}, \"8\": {\"8\": 128, \"1\": 88, \"10\": 10, \"13\": 14}, \"7\": {\"4\": 84, \"7\": 143, \"5\": 13}, \"1\": {\"8\": 104, \"1\": 70, \"13\": 30, \"10\": 35, \"0\": 1}}, \"O_26\": {\"7\": {\"8\": 32, \"7\": 181, \"2\": 17, \"9\": 4, \"3\": 6}, \"6\": {\"6\": 155, \"15\": 48, \"5\": 29, \"10\": 1, \"14\": 6, \"1\": 1}, \"14\": {\"1\": 13, \"10\": 59, \"14\": 150, \"6\": 3, \"15\": 2, \"0\": 13}, \"15\": {\"0\": 7, \"15\": 118, \"6\": 49, \"5\": 55, \"10\": 9, \"11\": 1, \"1\": 1}, \"5\": {\"15\": 48, \"5\": 157, \"6\": 32, \"10\": 1, \"1\": 1, \"11\": 1}, \"10\": {\"10\": 141, \"0\": 30, \"14\": 54, \"15\": 11, \"5\": 1, \"6\": 3}, \"4\": {\"4\": 240}, \"11\": {\"11\": 194, \"5\": 20, \"6\": 11, \"1\": 3, \"15\": 12}, \"13\": {\"13\": 219, \"9\": 17, \"2\": 3, \"3\": 1}, \"2\": {\"9\": 35, \"2\": 110, \"7\": 54, \"3\": 11, \"0\": 12, \"8\": 17, \"15\": 1}, \"0\": {\"10\": 35, \"0\": 183, \"14\": 15, \"2\": 3, \"8\": 1, \"15\": 3}, \"12\": {\"12\": 240}, \"3\": {\"3\": 223, \"7\": 15, \"2\": 2}, \"9\": {\"9\": 155, \"8\": 39, \"7\": 6, \"2\": 23, \"13\": 17}, \"8\": {\"8\": 179, \"9\": 18, \"7\": 35, \"2\": 8}, \"1\": {\"1\": 196, \"14\": 32, \"10\": 7, \"6\": 5}}, \"O_32\": {\"7\": {\"5\": 55, \"0\": 47, \"7\": 59, \"15\": 36, \"8\": 17, \"14\": 19, \"1\": 7}, \"2\": {\"2\": 117, \"4\": 73, \"1\": 28, \"8\": 2, \"13\": 1, \"3\": 11, \"14\": 8}, \"5\": {\"15\": 82, \"7\": 43, \"5\": 59, \"0\": 25, \"1\": 10, \"14\": 11, \"8\": 10}, \"6\": {\"6\": 240}, \"13\": {\"4\": 21, \"13\": 64, \"12\": 8, \"9\": 54, \"3\": 65, \"11\": 25, \"2\": 3}, \"4\": {\"4\": 81, \"2\": 74, \"3\": 65, \"9\": 4, \"13\": 13, \"1\": 2, \"14\": 1}, \"3\": {\"3\": 94, \"9\": 29, \"13\": 52, \"4\": 50, \"2\": 14, \"11\": 1}, \"0\": {\"14\": 41, \"0\": 59, \"7\": 43, \"5\": 35, \"15\": 7, \"8\": 40, \"1\": 15}, \"9\": {\"3\": 37, \"11\": 36, \"9\": 49, \"13\": 56, \"4\": 8, \"12\": 45, \"2\": 1, \"10\": 8}, \"12\": {\"12\": 195, \"11\": 16, \"10\": 28, \"9\": 1}, \"8\": {\"8\": 46, \"7\": 20, \"14\": 51, \"0\": 52, \"1\": 43, \"5\": 12, \"2\": 10, \"4\": 2, \"15\": 4}, \"14\": {\"0\": 43, \"8\": 35, \"7\": 29, \"5\": 21, \"14\": 32, \"1\": 47, \"2\": 17, \"15\": 8, \"4\": 7, \"3\": 1}, \"15\": {\"5\": 69, \"14\": 3, \"0\": 19, \"15\": 107, \"7\": 36, \"8\": 6}, \"11\": {\"12\": 105, \"11\": 105, \"9\": 24, \"13\": 3, \"10\": 3}, \"10\": {\"10\": 240}, \"1\": {\"1\": 107, \"0\": 15, \"5\": 5, \"2\": 22, \"8\": 47, \"14\": 40, \"4\": 1, \"7\": 3}}, \"O_44\": {\"11\": {\"11\": 240}, \"7\": {\"10\": 46, \"6\": 4, \"5\": 30, \"9\": 40, \"7\": 65, \"14\": 30, \"4\": 21, \"15\": 4}, \"6\": {\"13\": 60, \"6\": 148, \"9\": 27, \"7\": 1, \"4\": 4}, \"12\": {\"3\": 111, \"12\": 129}, \"4\": {\"15\": 30, \"9\": 61, \"5\": 18, \"7\": 33, \"4\": 28, \"2\": 14, \"8\": 14, \"6\": 16, \"14\": 12, \"10\": 13, \"1\": 1}, \"13\": {\"6\": 58, \"13\": 171, \"9\": 8, \"4\": 1, \"11\": 2}, \"8\": {\"15\": 51, \"2\": 59, \"8\": 52, \"0\": 24, \"1\": 20, \"5\": 14, \"4\": 8, \"10\": 5, \"14\": 5, \"7\": 1, \"9\": 1}, \"5\": {\"9\": 22, \"5\": 47, \"4\": 26, \"7\": 42, \"15\": 22, \"14\": 43, \"8\": 7, \"2\": 5, \"10\": 25, \"6\": 1}, \"14\": {\"5\": 50, \"14\": 52, \"15\": 23, \"10\": 39, \"4\": 26, \"9\": 15, \"7\": 32, \"8\": 3}, \"3\": {\"12\": 106, \"3\": 132, \"1\": 1, \"0\": 1}, \"10\": {\"9\": 39, \"10\": 42, \"15\": 11, \"7\": 39, \"14\": 34, \"4\": 29, \"2\": 5, \"8\": 6, \"0\": 4, \"5\": 29, \"1\": 2}, \"1\": {\"2\": 55, \"1\": 94, \"8\": 19, \"0\": 70, \"15\": 1, \"4\": 1}, \"2\": {\"0\": 16, \"15\": 31, \"2\": 103, \"8\": 49, \"1\": 34, \"5\": 2, \"4\": 4, \"14\": 1}, \"15\": {\"15\": 69, \"2\": 38, \"14\": 28, \"8\": 42, \"10\": 14, \"0\": 3, \"5\": 21, \"7\": 8, \"4\": 16, \"1\": 1}, \"9\": {\"9\": 47, \"14\": 22, \"6\": 42, \"10\": 13, \"7\": 29, \"8\": 3, \"15\": 9, \"5\": 20, \"13\": 33, \"4\": 21, \"2\": 1}, \"0\": {\"0\": 105, \"1\": 86, \"2\": 26, \"8\": 22, \"15\": 1}}, \"O_8\": {\"10\": {\"10\": 202, \"13\": 23, \"5\": 11, \"4\": 2, \"6\": 2}, \"6\": {\"7\": 23, \"6\": 217}, \"13\": {\"6\": 3, \"13\": 187, \"5\": 1, \"10\": 36, \"7\": 13}, \"3\": {\"3\": 240}, \"9\": {\"9\": 240}, \"1\": {\"5\": 10, \"1\": 182, \"11\": 48}, \"5\": {\"5\": 187, \"1\": 20, \"10\": 26, \"11\": 6, \"4\": 1}, \"11\": {\"1\": 94, \"5\": 1, \"11\": 135, \"14\": 5, \"4\": 5}, \"4\": {\"4\": 238, \"14\": 1, \"6\": 1}, \"14\": {\"14\": 210, \"4\": 30}, \"12\": {\"12\": 181, \"15\": 59}, \"7\": {\"7\": 217, \"6\": 21, \"13\": 2}, \"0\": {\"14\": 112, \"0\": 128}, \"15\": {\"15\": 203, \"12\": 37}, \"2\": {\"3\": 27, \"2\": 201, \"12\": 9, \"15\": 3}, \"8\": {\"8\": 236, \"6\": 3, \"11\": 1}}, \"O_38\": {\"4\": {\"4\": 121, \"13\": 58, \"0\": 58, \"14\": 2, \"10\": 1}, \"7\": {\"14\": 41, \"7\": 116, \"8\": 4, \"2\": 56, \"9\": 18, \"5\": 4, \"0\": 1}, \"12\": {\"12\": 161, \"5\": 35, \"8\": 41, \"15\": 2, \"9\": 1}, \"10\": {\"10\": 161, \"4\": 13, \"0\": 45, \"13\": 18, \"3\": 3}, \"0\": {\"4\": 32, \"0\": 33, \"7\": 3, \"3\": 6, \"14\": 27, \"13\": 37, \"10\": 92, \"2\": 10}, \"1\": {\"6\": 103, \"1\": 136, \"15\": 1}, \"5\": {\"9\": 65, \"5\": 41, \"8\": 45, \"12\": 51, \"15\": 24, \"7\": 9, \"2\": 4, \"14\": 1}, \"15\": {\"5\": 11, \"15\": 174, \"1\": 9, \"8\": 5, \"12\": 40, \"6\": 1}, \"9\": {\"8\": 45, \"9\": 103, \"2\": 11, \"5\": 30, \"7\": 41, \"12\": 8, \"14\": 2}, \"11\": {\"11\": 238, \"3\": 2}, \"14\": {\"4\": 15, \"14\": 93, \"2\": 75, \"7\": 37, \"13\": 8, \"0\": 10, \"8\": 1, \"9\": 1}, \"6\": {\"6\": 140, \"1\": 100}, \"8\": {\"9\": 46, \"12\": 47, \"5\": 42, \"8\": 43, \"14\": 5, \"15\": 23, \"2\": 11, \"7\": 23}, \"3\": {\"3\": 236, \"11\": 4}, \"2\": {\"14\": 86, \"7\": 54, \"2\": 89, \"9\": 2, \"0\": 3, \"13\": 1, \"4\": 1, \"8\": 4}, \"13\": {\"13\": 68, \"14\": 11, \"4\": 60, \"0\": 81, \"10\": 15, \"2\": 4, \"7\": 1}}, \"C_4\": {\"42\": {\"51\": 1, \"42\": 21, \"54\": 1, \"34\": 2, \"23\": 1, \"41\": 4, \"15\": 1, \"17\": 1}, \"0\": {\"46\": 9, \"40\": 3, \"0\": 42, \"3\": 2, \"1\": 3, \"21\": 3, \"56\": 5, \"12\": 6, \"52\": 3, \"47\": 1, \"5\": 1, \"4\": 2}, \"1\": {\"1\": 21, \"0\": 2, \"47\": 3, \"40\": 2, \"9\": 1, \"56\": 3, \"48\": 3, \"52\": 1, \"46\": 2, \"12\": 1, \"57\": 1}, \"39\": {\"39\": 12, \"36\": 3, \"38\": 1, \"14\": 1, \"35\": 2, \"13\": 1}, \"28\": {\"42\": 1, \"28\": 13, \"41\": 1, \"34\": 1, \"15\": 2, \"11\": 2, \"23\": 1, \"10\": 1, \"18\": 3, \"17\": 1, \"32\": 1, \"26\": 3, \"19\": 1, \"37\": 1}, \"53\": {\"10\": 8, \"53\": 74, \"26\": 1, \"15\": 5, \"11\": 5, \"23\": 14, \"54\": 2, \"27\": 1, \"51\": 4, \"43\": 4, \"19\": 2, \"16\": 2, \"31\": 1, \"17\": 1}, \"19\": {\"34\": 2, \"33\": 2, \"51\": 3, \"7\": 2, \"17\": 8, \"49\": 1, \"19\": 73, \"10\": 3, \"55\": 11, \"24\": 3, \"23\": 6, \"15\": 1, \"36\": 3, \"43\": 8, \"13\": 6, \"27\": 1, \"14\": 1, \"32\": 3, \"29\": 2, \"37\": 1, \"41\": 1, \"54\": 2, \"53\": 1}, \"34\": {\"53\": 2, \"51\": 1, \"34\": 12, \"11\": 1, \"17\": 1, \"23\": 1, \"28\": 1, \"36\": 2, \"15\": 2, \"43\": 1}, \"33\": {\"33\": 30, \"43\": 2, \"17\": 1, \"55\": 1, \"49\": 1, \"7\": 1}, \"32\": {\"32\": 15, \"55\": 1, \"41\": 2, \"13\": 1, \"14\": 1, \"43\": 1, \"37\": 3}, \"10\": {\"28\": 2, \"10\": 107, \"11\": 4, \"15\": 7, \"31\": 4, \"23\": 4, \"26\": 1, \"24\": 1, \"54\": 3, \"16\": 1, \"53\": 2}, \"46\": {\"5\": 5, \"46\": 32, \"20\": 2, \"21\": 8, \"50\": 9, \"1\": 2, \"57\": 2, \"30\": 2, \"56\": 18, \"12\": 7, \"22\": 5, \"40\": 9, \"52\": 1, \"0\": 5, \"6\": 6, \"4\": 6, \"47\": 3, \"45\": 2, \"3\": 2, \"44\": 2, \"9\": 4, \"48\": 2}, \"20\": {\"1\": 1, \"40\": 2, \"12\": 1, \"8\": 10, \"52\": 14, \"20\": 43, \"4\": 4, \"47\": 6, \"9\": 8, \"51\": 1, \"27\": 10, \"21\": 9, \"57\": 1, \"48\": 4, \"3\": 1, \"56\": 2, \"29\": 2, \"13\": 2, \"46\": 1}, \"5\": {\"5\": 52, \"30\": 6, \"3\": 6, \"6\": 11, \"45\": 7, \"44\": 8, \"9\": 1, \"12\": 3, \"50\": 4, \"22\": 5, \"40\": 1, \"1\": 1, \"46\": 2, \"0\": 1}, \"40\": {\"20\": 1, \"0\": 7, \"3\": 9, \"40\": 34, \"48\": 10, \"22\": 7, \"47\": 4, \"57\": 1, \"1\": 1, \"50\": 8, \"56\": 9, \"52\": 2, \"4\": 7, \"9\": 5, \"29\": 6, \"46\": 8, \"12\": 3, \"45\": 1, \"8\": 1}, \"51\": {\"33\": 1, \"51\": 70, \"27\": 7, \"36\": 3, \"2\": 2, \"8\": 14, \"32\": 1, \"48\": 2, \"43\": 14, \"41\": 2, \"17\": 6, \"38\": 1, \"47\": 6, \"19\": 7, \"55\": 3, \"37\": 1, \"29\": 1, \"49\": 1, \"57\": 1, \"9\": 1}, \"37\": {\"37\": 17, \"32\": 1, \"41\": 2, \"13\": 1, \"43\": 1, \"17\": 1, \"55\": 1}, \"17\": {\"51\": 6, \"41\": 2, \"33\": 2, \"17\": 35, \"27\": 3, \"24\": 2, \"34\": 1, \"49\": 2, \"55\": 2, \"23\": 4, \"8\": 6, \"19\": 2, \"29\": 1, \"15\": 2, \"42\": 1, \"43\": 3, \"37\": 1, \"38\": 2, \"47\": 1, \"20\": 1, \"36\": 1}, \"45\": {\"30\": 5, \"45\": 46, \"46\": 1, \"50\": 3, \"56\": 2, \"6\": 6, \"5\": 10, \"3\": 8, \"12\": 1, \"22\": 4, \"44\": 8, \"9\": 1, \"4\": 1}, \"13\": {\"13\": 137, \"14\": 2, \"29\": 1, \"2\": 1, \"27\": 1}, \"27\": {\"27\": 43, \"17\": 1, \"57\": 13, \"30\": 1, \"8\": 11, \"9\": 24, \"47\": 2, \"4\": 9, \"52\": 7, \"51\": 6, \"40\": 1, \"21\": 3, \"19\": 1, \"20\": 8, \"13\": 1, \"43\": 1, \"29\": 4, \"48\": 6, \"55\": 1, \"39\": 1}, \"24\": {\"24\": 43, \"32\": 1, \"37\": 3, \"19\": 4, \"38\": 1, \"10\": 1, \"54\": 3}, \"30\": {\"45\": 2, \"30\": 18, \"5\": 6, \"0\": 1, \"21\": 1, \"46\": 3, \"4\": 1, \"1\": 1, \"29\": 1, \"3\": 1, \"9\": 1, \"47\": 1, \"48\": 1, \"44\": 4, \"12\": 1, \"27\": 1}, \"31\": {\"31\": 18, \"11\": 2, \"10\": 2, \"16\": 2, \"24\": 1, \"19\": 2, \"41\": 1}, \"41\": {\"51\": 3, \"41\": 20, \"37\": 2, \"17\": 2, \"42\": 3, \"38\": 1, \"35\": 1, \"53\": 1, \"29\": 1, \"33\": 1, \"19\": 1}, \"36\": {\"36\": 73, \"38\": 3, \"39\": 1, \"43\": 4, \"55\": 2, \"51\": 1, \"27\": 1, \"7\": 1, \"35\": 4, \"33\": 1, \"19\": 1}, \"16\": {\"16\": 45, \"15\": 9, \"23\": 5, \"34\": 1, \"11\": 8, \"53\": 6, \"18\": 4, \"25\": 4, \"10\": 9, \"54\": 2, \"19\": 2, \"17\": 1}, \"22\": {\"44\": 6, \"22\": 43, \"3\": 22, \"40\": 2, \"1\": 3, \"29\": 2, \"6\": 9, \"56\": 9, \"46\": 4, \"5\": 9, \"4\": 2, \"48\": 2, \"27\": 1, \"45\": 5, \"50\": 7, \"12\": 1, \"0\": 1}, \"44\": {\"44\": 48, \"30\": 2, \"12\": 1, \"3\": 7, \"5\": 10, \"46\": 6, \"6\": 15, \"56\": 2, \"45\": 7, \"52\": 1, \"22\": 7, \"0\": 2, \"29\": 3, \"40\": 4, \"4\": 1, \"50\": 13, \"47\": 3}, \"9\": {\"45\": 2, \"12\": 8, \"8\": 6, \"47\": 7, \"27\": 12, \"30\": 2, \"6\": 2, \"9\": 46, \"20\": 3, \"57\": 6, \"22\": 2, \"21\": 10, \"4\": 15, \"52\": 2, \"48\": 3, \"36\": 1, \"29\": 2, \"3\": 3, \"46\": 2, \"50\": 3, \"5\": 2, \"13\": 1}, \"57\": {\"47\": 6, \"9\": 12, \"57\": 34, \"27\": 6, \"48\": 3, \"20\": 7, \"13\": 1, \"1\": 1, \"21\": 6, \"8\": 6, \"12\": 2, \"29\": 7, \"52\": 5, \"46\": 1, \"4\": 2, \"56\": 1}, \"8\": {\"57\": 5, \"8\": 47, \"14\": 1, \"20\": 12, \"52\": 12, \"48\": 15, \"1\": 1, \"29\": 6, \"27\": 17, \"21\": 5, \"9\": 7, \"47\": 7, \"56\": 1, \"43\": 1, \"51\": 1}, \"23\": {\"23\": 33, \"24\": 2, \"28\": 2, \"34\": 1, \"54\": 7, \"15\": 5, \"17\": 6, \"43\": 9, \"10\": 24, \"53\": 13, \"51\": 6, \"16\": 3, \"11\": 6, \"36\": 4, \"19\": 6, \"48\": 1, \"8\": 2, \"29\": 2}, \"47\": {\"47\": 28, \"12\": 7, \"48\": 6, \"29\": 6, \"4\": 8, \"13\": 5, \"56\": 5, \"2\": 3, \"52\": 11, \"0\": 1, \"40\": 7, \"21\": 9, \"57\": 5, \"20\": 3, \"46\": 2, \"9\": 4, \"27\": 5, \"8\": 2, \"51\": 2, \"50\": 1}, \"43\": {\"36\": 4, \"43\": 101, \"49\": 1, \"32\": 2, \"33\": 1, \"39\": 1, \"51\": 4, \"17\": 7, \"41\": 1, \"35\": 2, \"19\": 6, \"55\": 7, \"23\": 1}, \"49\": {\"49\": 5, \"43\": 2, \"34\": 1, \"51\": 1, \"19\": 1, \"35\": 3, \"33\": 3, \"14\": 2, \"17\": 1, \"39\": 1}, \"3\": {\"3\": 67, \"6\": 6, \"22\": 12, \"44\": 6, \"5\": 6, \"50\": 11, \"9\": 1, \"45\": 8, \"0\": 1, \"46\": 4, \"40\": 2}, \"12\": {\"12\": 41, \"0\": 3, \"21\": 11, \"9\": 8, \"30\": 1, \"5\": 4, \"29\": 2, \"46\": 4, \"48\": 3, \"47\": 3, \"45\": 1, \"52\": 6, \"56\": 1, \"1\": 1, \"4\": 1, \"57\": 1, \"40\": 1}, \"38\": {\"7\": 1, \"36\": 3, \"14\": 1, \"38\": 22, \"39\": 2, \"2\": 5, \"35\": 1, \"55\": 1, \"49\": 1, \"32\": 1, \"43\": 2}, \"7\": {\"24\": 3, \"38\": 3, \"55\": 3, \"7\": 10, \"35\": 2, \"19\": 2, \"39\": 1}, \"14\": {\"14\": 8, \"51\": 1, \"36\": 2, \"29\": 4, \"43\": 1}, \"15\": {\"34\": 2, \"15\": 77, \"11\": 11, \"53\": 20, \"23\": 18, \"16\": 2, \"17\": 1, \"10\": 4, \"25\": 4, \"18\": 1, \"37\": 2, \"28\": 1, \"42\": 1, \"54\": 1, \"36\": 1}, \"25\": {\"28\": 2, \"15\": 14, \"25\": 72, \"42\": 1, \"11\": 5, \"23\": 7, \"18\": 11, \"16\": 7, \"53\": 7, \"10\": 2}, \"26\": {\"15\": 1, \"38\": 2, \"26\": 17, \"35\": 3, \"7\": 1}, \"21\": {\"21\": 77, \"48\": 5, \"22\": 1, \"0\": 1, \"30\": 1, \"46\": 5, \"12\": 9, \"9\": 7, \"52\": 10, \"20\": 4, \"4\": 4, \"27\": 2, \"50\": 3, \"5\": 1, \"56\": 1, \"47\": 1}, \"48\": {\"48\": 58, \"57\": 8, \"2\": 1, \"27\": 2, \"29\": 4, \"46\": 1, \"12\": 9, \"8\": 6, \"13\": 4, \"52\": 12, \"4\": 9, \"43\": 1, \"20\": 10, \"21\": 2, \"47\": 2, \"9\": 11, \"51\": 1, \"0\": 1, \"3\": 2}, \"56\": {\"40\": 14, \"1\": 7, \"56\": 81, \"3\": 3, \"50\": 3, \"22\": 2, \"0\": 7, \"44\": 2, \"57\": 1, \"13\": 4, \"29\": 1, \"27\": 2, \"14\": 1, \"6\": 1, \"47\": 2, \"46\": 3}, \"11\": {\"11\": 49, \"15\": 15, \"28\": 1, \"10\": 7, \"55\": 1, \"23\": 9, \"16\": 10, \"25\": 3, \"24\": 3, \"31\": 4, \"54\": 1, \"18\": 1}, \"2\": {\"39\": 3, \"2\": 25, \"8\": 1, \"13\": 2, \"19\": 1, \"38\": 1, \"27\": 1, \"36\": 2}, \"6\": {\"6\": 64, \"5\": 12, \"30\": 5, \"22\": 6, \"45\": 10, \"50\": 5, \"3\": 7, \"46\": 1, \"44\": 2}, \"55\": {\"36\": 13, \"7\": 1, \"35\": 4, \"55\": 61, \"33\": 4, \"24\": 8, \"38\": 2, \"43\": 14, \"54\": 4, \"23\": 6, \"19\": 13, \"15\": 2, \"13\": 3, \"51\": 3, \"17\": 1, \"10\": 1}, \"54\": {\"54\": 92, \"26\": 2, \"16\": 2, \"42\": 1, \"55\": 1, \"23\": 1, \"11\": 1, \"35\": 1, \"36\": 1, \"24\": 2, \"19\": 3, \"43\": 1}, \"29\": {\"48\": 11, \"29\": 42, \"35\": 1, \"47\": 10, \"8\": 5, \"12\": 4, \"51\": 1, \"9\": 4, \"56\": 1, \"22\": 1, \"52\": 5, \"13\": 10, \"57\": 5, \"36\": 2, \"21\": 4, \"46\": 2, \"40\": 4, \"43\": 2, \"4\": 4, \"30\": 1, \"0\": 3, \"20\": 1, \"27\": 1}, \"50\": {\"50\": 51, \"46\": 11, \"45\": 6, \"12\": 1, \"6\": 17, \"22\": 4, \"5\": 5, \"3\": 11, \"44\": 8, \"30\": 1, \"40\": 3, \"56\": 1, \"4\": 3}, \"52\": {\"21\": 10, \"48\": 6, \"52\": 66, \"30\": 2, \"12\": 3, \"8\": 2, \"20\": 7, \"27\": 2, \"29\": 4, \"46\": 2, \"47\": 3, \"4\": 1, \"57\": 5, \"22\": 1, \"9\": 2}, \"35\": {\"55\": 5, \"35\": 18, \"38\": 2, \"26\": 1, \"39\": 3, \"7\": 2, \"2\": 3, \"49\": 1, \"43\": 1, \"33\": 1, \"13\": 1, \"36\": 2}, \"4\": {\"8\": 2, \"6\": 12, \"4\": 30, \"13\": 5, \"9\": 15, \"27\": 8, \"21\": 3, \"52\": 2, \"45\": 8, \"5\": 3, \"29\": 2, \"3\": 3, \"46\": 3, \"48\": 3, \"50\": 10, \"56\": 2, \"44\": 4, \"20\": 1, \"57\": 3, \"22\": 1}, \"18\": {\"18\": 77, \"23\": 2, \"25\": 13, \"11\": 1, \"53\": 4, \"15\": 3, \"10\": 3, \"16\": 4, \"19\": 1}}, \"C_5\": {\"43\": {\"43\": 130, \"19\": 1, \"17\": 3, \"13\": 5, \"51\": 4, \"29\": 1, \"55\": 1, \"34\": 2, \"2\": 4, \"15\": 1}, \"35\": {\"35\": 25, \"36\": 5, \"39\": 2, \"26\": 1, \"55\": 2, \"34\": 1}, \"54\": {\"31\": 3, \"54\": 86, \"24\": 8, \"49\": 1, \"36\": 1, \"17\": 2, \"10\": 4, \"53\": 2, \"23\": 1, \"28\": 1, \"42\": 1, \"11\": 1, \"19\": 1}, \"22\": {\"22\": 17, \"3\": 1, \"0\": 1, \"40\": 3, \"12\": 1, \"4\": 1, \"52\": 1, \"9\": 1, \"45\": 1, \"46\": 1}, \"16\": {\"16\": 60, \"26\": 1, \"28\": 1, \"11\": 21, \"18\": 3, \"42\": 2, \"15\": 13, \"23\": 7, \"25\": 22, \"53\": 11, \"10\": 1, \"19\": 2, \"54\": 1, \"24\": 1}, \"5\": {\"5\": 54, \"22\": 1, \"4\": 12, \"6\": 10, \"40\": 3, \"50\": 11, \"3\": 2, \"45\": 13, \"44\": 10, \"12\": 4, \"56\": 2, \"30\": 4, \"0\": 1, \"1\": 1}, \"28\": {\"28\": 20, \"16\": 3, \"23\": 2, \"24\": 2, \"31\": 4, \"54\": 1}, \"14\": {\"14\": 20, \"32\": 4, \"30\": 1, \"47\": 3, \"56\": 5, \"43\": 1, \"27\": 2, \"41\": 1, \"36\": 2, \"2\": 1, \"29\": 2, \"39\": 1, \"40\": 1}, \"51\": {\"51\": 85, \"38\": 1, \"8\": 9, \"41\": 1, \"17\": 1, \"19\": 3, \"55\": 4, \"24\": 1, \"43\": 1, \"1\": 1, \"27\": 9, \"53\": 2, \"37\": 2, \"20\": 5, \"32\": 1, \"48\": 2}, \"19\": {\"19\": 59, \"43\": 11, \"34\": 5, \"23\": 13, \"33\": 2, \"28\": 2, \"37\": 2, \"51\": 8, \"14\": 4, \"15\": 3, \"54\": 2, \"17\": 4, \"24\": 4, \"55\": 11, \"13\": 5, \"53\": 3, \"11\": 2}, \"31\": {\"31\": 26, \"54\": 4, \"24\": 1, \"49\": 3, \"10\": 2}, \"10\": {\"10\": 57, \"24\": 4, \"54\": 3, \"31\": 1, \"15\": 2, \"11\": 1}, \"21\": {\"21\": 79, \"57\": 5, \"20\": 16, \"52\": 9, \"9\": 2, \"48\": 5, \"8\": 5, \"27\": 4, \"56\": 2, \"46\": 3, \"30\": 4, \"1\": 1, \"13\": 1}, \"3\": {\"3\": 34, \"57\": 4, \"0\": 5, \"46\": 2, \"22\": 3, \"12\": 2, \"30\": 7, \"50\": 5, \"45\": 5, \"40\": 5, \"4\": 7, \"9\": 4, \"56\": 6, \"6\": 4, \"44\": 1, \"1\": 1, \"5\": 2, \"47\": 2, \"48\": 1}, \"57\": {\"21\": 10, \"12\": 6, \"32\": 1, \"57\": 43, \"9\": 13, \"8\": 3, \"14\": 1, \"20\": 5, \"48\": 6, \"56\": 2, \"27\": 6, \"17\": 1, \"52\": 4, \"30\": 8, \"1\": 9, \"50\": 4, \"46\": 2, \"47\": 2, \"40\": 1, \"0\": 1, \"6\": 1, \"3\": 2, \"51\": 1}, \"9\": {\"9\": 38, \"21\": 2, \"4\": 4, \"1\": 5, \"45\": 15, \"30\": 20, \"46\": 6, \"6\": 14, \"20\": 5, \"8\": 1, \"50\": 8, \"56\": 4, \"3\": 4, \"57\": 3, \"12\": 3, \"5\": 3, \"52\": 4, \"48\": 3, \"0\": 1, \"27\": 2, \"44\": 1}, \"8\": {\"8\": 55, \"34\": 2, \"1\": 3, \"7\": 2, \"32\": 3, \"57\": 8, \"41\": 2, \"20\": 14, \"52\": 7, \"43\": 5, \"27\": 8, \"48\": 8, \"21\": 7, \"29\": 4, \"51\": 2, \"13\": 2}, \"46\": {\"46\": 57, \"52\": 8, \"3\": 2, \"12\": 3, \"1\": 10, \"47\": 4, \"57\": 8, \"40\": 3, \"30\": 9, \"0\": 6, \"9\": 13, \"14\": 1, \"6\": 1, \"5\": 1, \"56\": 6, \"29\": 2, \"48\": 2, \"27\": 1, \"50\": 3}, \"23\": {\"28\": 3, \"34\": 1, \"7\": 2, \"24\": 5, \"54\": 9, \"23\": 40, \"31\": 2, \"38\": 3, \"17\": 4, \"10\": 4, \"42\": 5, \"15\": 7, \"48\": 1, \"20\": 1, \"53\": 7, \"19\": 5, \"16\": 3, \"11\": 5, \"51\": 9, \"8\": 2, \"37\": 1, \"55\": 1, \"13\": 2, \"43\": 2}, \"37\": {\"34\": 1, \"37\": 21, \"17\": 1, \"33\": 1}, \"34\": {\"34\": 21, \"32\": 2, \"41\": 1, \"8\": 2, \"17\": 2, \"36\": 1, \"43\": 1, \"7\": 1, \"23\": 1, \"51\": 4}, \"4\": {\"40\": 4, \"4\": 26, \"45\": 19, \"56\": 5, \"9\": 4, \"44\": 2, \"1\": 2, \"5\": 7, \"48\": 1, \"50\": 7, \"30\": 4, \"47\": 2, \"3\": 3, \"6\": 6, \"29\": 2, \"57\": 2, \"46\": 1, \"12\": 2, \"0\": 1}, \"6\": {\"6\": 47, \"30\": 9, \"44\": 11, \"5\": 7, \"50\": 17, \"40\": 6, \"3\": 8, \"4\": 2, \"56\": 1, \"45\": 13, \"9\": 3, \"12\": 4}, \"48\": {\"37\": 1, \"21\": 11, \"52\": 8, \"12\": 1, \"48\": 30, \"8\": 8, \"57\": 14, \"13\": 8, \"27\": 15, \"29\": 3, \"3\": 2, \"56\": 1, \"34\": 1, \"20\": 5, \"46\": 3, \"9\": 2, \"17\": 1, \"1\": 12, \"14\": 1, \"30\": 2, \"40\": 3, \"43\": 1, \"35\": 1, \"47\": 1, \"36\": 1}, \"44\": {\"44\": 71, \"5\": 11, \"6\": 9, \"45\": 18, \"46\": 1, \"22\": 1, \"40\": 1, \"12\": 3, \"4\": 8, \"56\": 2, \"50\": 10, \"9\": 2, \"1\": 1}, \"40\": {\"40\": 62, \"22\": 3, \"0\": 9, \"6\": 3, \"47\": 5, \"12\": 3, \"44\": 3, \"46\": 4, \"56\": 10, \"3\": 6, \"29\": 3, \"4\": 4, \"50\": 3, \"9\": 3, \"5\": 1, \"48\": 1, \"1\": 1}, \"12\": {\"30\": 14, \"48\": 3, \"22\": 2, \"12\": 31, \"3\": 5, \"57\": 2, \"0\": 1, \"46\": 4, \"9\": 9, \"5\": 3, \"45\": 4, \"47\": 1, \"50\": 4, \"1\": 2, \"6\": 5, \"21\": 1, \"20\": 1, \"52\": 1, \"56\": 3}, \"30\": {\"21\": 4, \"30\": 50, \"4\": 2, \"12\": 7, \"45\": 4, \"9\": 10, \"46\": 1, \"44\": 3, \"20\": 4, \"50\": 11, \"47\": 1, \"6\": 7, \"57\": 3, \"3\": 6, \"27\": 2, \"48\": 3, \"52\": 5, \"1\": 2, \"56\": 1, \"0\": 1, \"5\": 1}, \"39\": {\"35\": 2, \"2\": 2, \"39\": 8, \"36\": 6, \"14\": 1, \"13\": 1}, \"45\": {\"45\": 84, \"5\": 10, \"3\": 3, \"6\": 11, \"44\": 3, \"50\": 7, \"40\": 1, \"30\": 3, \"4\": 1, \"9\": 1}, \"36\": {\"35\": 4, \"36\": 81, \"2\": 1, \"7\": 1, \"39\": 2, \"43\": 1, \"13\": 1, \"55\": 1}, \"27\": {\"32\": 1, \"52\": 11, \"20\": 9, \"27\": 38, \"57\": 14, \"48\": 15, \"33\": 1, \"1\": 4, \"8\": 13, \"30\": 2, \"14\": 3, \"56\": 1, \"9\": 3, \"17\": 2, \"51\": 4, \"43\": 5, \"55\": 1, \"21\": 5, \"13\": 2, \"46\": 2, \"29\": 2, \"54\": 1, \"19\": 1}, \"32\": {\"27\": 5, \"20\": 3, \"32\": 17, \"8\": 1, \"21\": 2, \"7\": 2, \"34\": 1, \"36\": 1}, \"52\": {\"52\": 61, \"57\": 12, \"12\": 2, \"1\": 9, \"56\": 2, \"48\": 2, \"20\": 10, \"27\": 3, \"46\": 14, \"30\": 3, \"21\": 8, \"47\": 1, \"0\": 1, \"8\": 1, \"9\": 1}, \"0\": {\"0\": 56, \"46\": 11, \"22\": 1, \"4\": 3, \"56\": 11, \"47\": 5, \"30\": 4, \"3\": 6, \"1\": 8, \"12\": 6, \"29\": 2, \"52\": 3, \"5\": 1, \"48\": 1, \"40\": 4, \"57\": 2}, \"26\": {\"26\": 15, \"31\": 2, \"28\": 3, \"23\": 1, \"15\": 3}, \"1\": {\"30\": 11, \"1\": 43, \"9\": 9, \"0\": 6, \"52\": 12, \"29\": 6, \"57\": 11, \"3\": 7, \"48\": 5, \"46\": 7, \"56\": 9, \"20\": 1, \"47\": 5, \"27\": 6, \"40\": 1, \"12\": 2, \"5\": 1, \"21\": 3, \"45\": 2, \"13\": 1}, \"53\": {\"53\": 68, \"24\": 2, \"42\": 6, \"16\": 5, \"15\": 9, \"11\": 6, \"26\": 1, \"17\": 8, \"10\": 5, \"51\": 13, \"34\": 2, \"19\": 8, \"23\": 4, \"13\": 1, \"54\": 1, \"43\": 3, \"37\": 1, \"38\": 1, \"31\": 1, \"29\": 1}, \"25\": {\"18\": 3, \"25\": 82, \"42\": 1, \"26\": 3, \"15\": 6, \"11\": 16, \"16\": 20, \"53\": 9, \"23\": 3, \"10\": 1}, \"24\": {\"24\": 60, \"54\": 9, \"55\": 4, \"19\": 4, \"31\": 1, \"17\": 1, \"36\": 1}, \"7\": {\"7\": 29, \"8\": 2, \"2\": 1}, \"18\": {\"18\": 42, \"15\": 5, \"16\": 7, \"10\": 2, \"25\": 4, \"11\": 2, \"54\": 1, \"23\": 1}, \"20\": {\"20\": 65, \"30\": 5, \"46\": 10, \"21\": 13, \"12\": 2, \"52\": 8, \"8\": 8, \"9\": 2, \"57\": 6, \"34\": 1, \"3\": 3, \"29\": 2, \"27\": 6, \"47\": 3, \"13\": 2, \"1\": 1, \"32\": 1, \"43\": 1, \"40\": 1, \"48\": 4}, \"33\": {\"33\": 18, \"24\": 1, \"55\": 3, \"19\": 1, \"2\": 1, \"17\": 3, \"35\": 1, \"34\": 1, \"37\": 1, \"7\": 1, \"43\": 1}, \"55\": {\"55\": 76, \"24\": 6, \"2\": 5, \"14\": 1, \"31\": 2, \"37\": 1, \"15\": 1, \"54\": 8, \"13\": 4, \"17\": 2, \"43\": 11, \"19\": 10, \"23\": 3, \"49\": 2, \"33\": 1, \"34\": 2, \"51\": 1, \"29\": 1, \"35\": 2, \"10\": 1}, \"41\": {\"41\": 14, \"23\": 1, \"7\": 2, \"27\": 1, \"51\": 1, \"14\": 4, \"38\": 3, \"48\": 1, \"20\": 1}, \"42\": {\"42\": 24, \"38\": 5, \"53\": 1, \"23\": 5, \"16\": 1, \"17\": 2, \"41\": 1, \"51\": 1}, \"49\": {\"49\": 36}, \"13\": {\"13\": 138, \"27\": 2, \"14\": 2, \"29\": 3, \"48\": 1, \"56\": 1, \"46\": 1}, \"38\": {\"38\": 20, \"41\": 5, \"23\": 1, \"8\": 1, \"17\": 1, \"32\": 1, \"55\": 1, \"51\": 1, \"14\": 1}, \"2\": {\"2\": 17, \"13\": 3, \"43\": 2, \"39\": 1, \"55\": 1, \"8\": 1, \"37\": 1, \"14\": 2}, \"47\": {\"12\": 2, \"57\": 6, \"56\": 5, \"29\": 11, \"52\": 9, \"47\": 32, \"0\": 5, \"46\": 5, \"32\": 1, \"30\": 1, \"3\": 2, \"1\": 7, \"9\": 1, \"27\": 3, \"13\": 5, \"48\": 1, \"40\": 2, \"2\": 1, \"43\": 1}, \"17\": {\"34\": 2, \"41\": 1, \"32\": 1, \"17\": 44, \"48\": 4, \"27\": 2, \"35\": 1, \"54\": 6, \"37\": 1, \"38\": 5, \"23\": 4, \"7\": 1, \"49\": 1, \"51\": 5, \"53\": 3, \"8\": 2, \"43\": 7, \"55\": 5, \"24\": 3, \"19\": 5, \"31\": 2, \"42\": 1, \"33\": 2, \"21\": 1, \"20\": 5, \"47\": 1, \"13\": 1}, \"11\": {\"11\": 99, \"16\": 14, \"10\": 8, \"15\": 19, \"26\": 1, \"23\": 2, \"25\": 6, \"54\": 2, \"53\": 2, \"24\": 1}, \"29\": {\"29\": 53, \"27\": 1, \"2\": 3, \"0\": 3, \"56\": 18, \"47\": 16, \"13\": 19, \"46\": 3, \"40\": 3, \"43\": 3, \"48\": 4, \"1\": 2, \"4\": 1, \"9\": 2, \"8\": 1}, \"50\": {\"50\": 58, \"5\": 11, \"6\": 18, \"4\": 6, \"45\": 17, \"3\": 5, \"44\": 8, \"0\": 1, \"52\": 1, \"22\": 1, \"30\": 6, \"9\": 4, \"12\": 1, \"40\": 1}, \"56\": {\"56\": 81, \"5\": 1, \"27\": 2, \"0\": 16, \"30\": 1, \"12\": 1, \"44\": 2, \"40\": 7, \"29\": 13, \"47\": 5, \"1\": 6, \"9\": 3, \"52\": 1, \"48\": 2, \"3\": 2, \"4\": 1, \"6\": 1, \"13\": 1, \"21\": 1, \"46\": 1}, \"15\": {\"15\": 95, \"53\": 8, \"16\": 6, \"19\": 3, \"23\": 7, \"11\": 15, \"26\": 3, \"35\": 1, \"24\": 1, \"10\": 1, \"25\": 2}}, \"C_2\": {\"49\": {\"37\": 3, \"39\": 1, \"49\": 16, \"36\": 1, \"23\": 2, \"53\": 1}, \"13\": {\"38\": 3, \"13\": 113}, \"37\": {\"37\": 33, \"43\": 2, \"42\": 1}, \"41\": {\"41\": 16, \"22\": 1, \"38\": 2, \"47\": 1}, \"15\": {\"15\": 76, \"37\": 1, \"34\": 1, \"16\": 6, \"53\": 24, \"49\": 2, \"25\": 2, \"11\": 8, \"10\": 4, \"43\": 4, \"23\": 6, \"28\": 2, \"19\": 3, \"26\": 2, \"17\": 1}, \"56\": {\"56\": 117, \"22\": 12, \"13\": 1, \"11\": 1, \"40\": 2, \"1\": 3, \"29\": 1, \"47\": 5}, \"14\": {\"38\": 4, \"14\": 11, \"55\": 2, \"13\": 1, \"41\": 1, \"36\": 2, \"56\": 1, \"2\": 1, \"20\": 1}, \"3\": {\"6\": 14, \"30\": 2, \"3\": 31, \"44\": 8, \"45\": 6, \"0\": 1, \"46\": 4, \"22\": 3, \"12\": 2, \"5\": 5, \"40\": 1, \"21\": 4, \"50\": 6, \"1\": 3, \"47\": 2}, \"38\": {\"38\": 14, \"13\": 1, \"2\": 2, \"36\": 1, \"14\": 1, \"43\": 1}, \"43\": {\"43\": 104, \"37\": 1, \"17\": 6, \"23\": 3, \"55\": 10, \"36\": 5, \"13\": 2, \"42\": 2, \"51\": 2, \"35\": 1, \"19\": 2}, \"33\": {\"43\": 1, \"33\": 18, \"35\": 1, \"38\": 1, \"40\": 3, \"41\": 2, \"55\": 1, \"14\": 1}, \"47\": {\"3\": 1, \"56\": 12, \"40\": 17, \"55\": 1, \"48\": 21, \"47\": 38, \"4\": 3, \"0\": 2, \"12\": 4, \"29\": 8, \"13\": 5, \"30\": 2, \"50\": 3, \"57\": 5, \"46\": 3, \"1\": 3, \"52\": 2, \"38\": 1, \"9\": 4, \"27\": 2, \"22\": 1}, \"30\": {\"30\": 64, \"57\": 8, \"45\": 3, \"0\": 1, \"20\": 1, \"5\": 6, \"52\": 9, \"9\": 6, \"29\": 1, \"21\": 19, \"56\": 2, \"50\": 7, \"12\": 1, \"22\": 1, \"6\": 2, \"4\": 5, \"44\": 1, \"32\": 1, \"48\": 3, \"27\": 1, \"3\": 1, \"47\": 1}, \"39\": {\"39\": 18, \"7\": 2, \"35\": 1, \"31\": 3, \"55\": 1, \"36\": 2, \"42\": 1}, \"12\": {\"3\": 7, \"12\": 46, \"5\": 3, \"50\": 6, \"0\": 1, \"46\": 4, \"29\": 1, \"30\": 3, \"21\": 5, \"6\": 7, \"45\": 3, \"40\": 2, \"44\": 1, \"4\": 1, \"1\": 1, \"47\": 1}, \"6\": {\"3\": 11, \"6\": 58, \"0\": 1, \"46\": 11, \"5\": 11, \"45\": 16, \"40\": 1, \"1\": 3, \"50\": 3, \"12\": 2, \"44\": 5, \"21\": 2}, \"51\": {\"51\": 53, \"32\": 4, \"36\": 8, \"55\": 7, \"8\": 7, \"20\": 7, \"17\": 6, \"27\": 11, \"43\": 10, \"9\": 1, \"29\": 2, \"19\": 3, \"48\": 1, \"57\": 2, \"23\": 2, \"47\": 1, \"4\": 1, \"42\": 1, \"33\": 1, \"52\": 2, \"13\": 2, \"24\": 1, \"15\": 1}, \"5\": {\"5\": 63, \"44\": 8, \"47\": 1, \"3\": 3, \"6\": 15, \"4\": 3, \"45\": 16, \"46\": 3, \"50\": 4, \"21\": 1, \"12\": 1, \"40\": 1, \"30\": 1}, \"34\": {\"34\": 20, \"49\": 3, \"15\": 1, \"23\": 2, \"53\": 1, \"35\": 1}, \"35\": {\"35\": 21, \"51\": 1, \"31\": 2, \"2\": 2, \"13\": 2, \"42\": 1, \"33\": 2, \"14\": 1}, \"0\": {\"12\": 4, \"40\": 2, \"30\": 5, \"4\": 4, \"46\": 1, \"21\": 6, \"47\": 3, \"50\": 5, \"0\": 6, \"45\": 3, \"3\": 3, \"6\": 1, \"48\": 2, \"9\": 2, \"57\": 1}, \"7\": {\"7\": 28, \"24\": 2, \"31\": 4, \"42\": 1, \"39\": 1}, \"24\": {\"24\": 83, \"42\": 1, \"37\": 4, \"19\": 2, \"43\": 1, \"54\": 2, \"7\": 1, \"34\": 1, \"23\": 1}, \"8\": {\"35\": 2, \"8\": 52, \"33\": 2, \"52\": 15, \"0\": 1, \"13\": 4, \"20\": 13, \"27\": 7, \"1\": 2, \"57\": 10, \"48\": 5, \"4\": 3, \"56\": 2, \"51\": 2, \"41\": 1, \"17\": 1, \"32\": 1, \"36\": 1, \"9\": 4, \"21\": 2, \"29\": 3, \"30\": 1, \"55\": 2}, \"20\": {\"20\": 48, \"35\": 1, \"9\": 7, \"32\": 3, \"8\": 18, \"52\": 8, \"27\": 9, \"30\": 7, \"29\": 2, \"57\": 5, \"4\": 1, \"51\": 2, \"21\": 2, \"48\": 4, \"50\": 3, \"41\": 2, \"47\": 1, \"56\": 1}, \"36\": {\"36\": 110, \"34\": 1, \"55\": 5}, \"42\": {\"42\": 16, \"35\": 1, \"33\": 1, \"19\": 4, \"17\": 2, \"55\": 1, \"23\": 1, \"13\": 1, \"37\": 4, \"24\": 2, \"39\": 2, \"31\": 1}, \"1\": {\"0\": 2, \"33\": 1, \"1\": 34, \"40\": 7, \"52\": 7, \"14\": 1, \"48\": 13, \"32\": 1, \"57\": 5, \"50\": 7, \"46\": 7, \"13\": 4, \"9\": 1, \"29\": 5, \"12\": 2, \"22\": 4, \"47\": 2, \"56\": 1, \"4\": 6, \"3\": 1, \"20\": 1}, \"4\": {\"4\": 50, \"5\": 5, \"57\": 7, \"45\": 7, \"20\": 2, \"12\": 10, \"30\": 8, \"13\": 2, \"52\": 7, \"48\": 7, \"9\": 10, \"50\": 6, \"44\": 3, \"40\": 6, \"36\": 1, \"8\": 1, \"27\": 1, \"29\": 2, \"56\": 1, \"21\": 5, \"6\": 2, \"3\": 1, \"47\": 2, \"38\": 1, \"0\": 1}, \"28\": {\"28\": 24, \"54\": 1, \"10\": 2, \"24\": 1}, \"50\": {\"50\": 28, \"22\": 12, \"30\": 20, \"1\": 5, \"4\": 10, \"56\": 8, \"21\": 7, \"0\": 4, \"5\": 9, \"46\": 4, \"12\": 8, \"29\": 1, \"6\": 2, \"40\": 4, \"45\": 3, \"47\": 2, \"48\": 1, \"3\": 4, \"20\": 2, \"44\": 2}, \"45\": {\"45\": 55, \"22\": 2, \"3\": 6, \"30\": 5, \"44\": 11, \"5\": 16, \"6\": 17, \"50\": 7, \"46\": 4, \"21\": 2, \"12\": 3}, \"18\": {\"18\": 35, \"16\": 4, \"28\": 1, \"11\": 1, \"19\": 1, \"24\": 1, \"25\": 4, \"53\": 1}, \"57\": {\"8\": 8, \"57\": 30, \"32\": 2, \"30\": 18, \"4\": 8, \"48\": 7, \"20\": 4, \"29\": 5, \"52\": 11, \"9\": 8, \"1\": 2, \"56\": 2, \"12\": 1, \"47\": 3, \"50\": 1, \"40\": 4, \"21\": 2, \"0\": 1, \"27\": 3}, \"46\": {\"46\": 68, \"0\": 3, \"22\": 10, \"44\": 1, \"6\": 4, \"3\": 3, \"30\": 2, \"5\": 3, \"40\": 1, \"1\": 5, \"12\": 6, \"50\": 13, \"4\": 2, \"45\": 1, \"21\": 5, \"56\": 1}, \"23\": {\"26\": 3, \"15\": 6, \"43\": 6, \"10\": 17, \"23\": 35, \"51\": 10, \"24\": 3, \"33\": 2, \"42\": 2, \"53\": 7, \"32\": 2, \"54\": 8, \"34\": 4, \"37\": 2, \"55\": 3, \"19\": 8, \"11\": 11, \"17\": 11, \"49\": 1, \"16\": 1, \"28\": 1, \"7\": 1, \"29\": 2, \"8\": 2}, \"27\": {\"27\": 53, \"48\": 8, \"47\": 1, \"20\": 12, \"52\": 12, \"51\": 6, \"33\": 1, \"56\": 1, \"8\": 10, \"29\": 8, \"9\": 4, \"57\": 13, \"13\": 2, \"50\": 1, \"4\": 4, \"17\": 2}, \"19\": {\"31\": 2, \"26\": 2, \"19\": 63, \"54\": 4, \"17\": 8, \"55\": 8, \"42\": 1, \"49\": 1, \"43\": 9, \"13\": 2, \"35\": 2, \"36\": 3, \"51\": 5, \"29\": 2, \"23\": 6, \"10\": 2, \"53\": 4, \"24\": 3, \"16\": 4, \"37\": 2, \"15\": 1}, \"22\": {\"22\": 78, \"1\": 16, \"56\": 9, \"47\": 13, \"20\": 1, \"46\": 8, \"48\": 1, \"40\": 5, \"50\": 4, \"30\": 1}, \"17\": {\"41\": 2, \"32\": 2, \"37\": 1, \"8\": 2, \"17\": 46, \"29\": 6, \"13\": 5, \"27\": 7, \"43\": 6, \"19\": 7, \"24\": 4, \"23\": 5, \"51\": 5, \"48\": 1, \"55\": 2, \"2\": 1, \"42\": 1, \"47\": 1}, \"55\": {\"13\": 8, \"55\": 71, \"39\": 3, \"2\": 3, \"42\": 1, \"31\": 2, \"36\": 15, \"19\": 7, \"43\": 10, \"24\": 5, \"29\": 3, \"23\": 2, \"17\": 1, \"47\": 1, \"38\": 2, \"34\": 2}, \"44\": {\"44\": 50, \"12\": 1, \"5\": 13, \"4\": 3, \"45\": 9, \"6\": 9, \"22\": 2, \"21\": 1, \"3\": 5, \"47\": 1, \"40\": 1, \"1\": 2, \"52\": 2, \"46\": 1}, \"26\": {\"23\": 3, \"26\": 12, \"11\": 3, \"34\": 1, \"24\": 1, \"15\": 3, \"16\": 1}, \"31\": {\"31\": 20, \"55\": 2, \"19\": 3, \"39\": 3}, \"16\": {\"11\": 19, \"25\": 9, \"16\": 72, \"53\": 5, \"15\": 12, \"54\": 2, \"19\": 2, \"23\": 2, \"43\": 1, \"37\": 1, \"10\": 3, \"24\": 1, \"18\": 1}, \"11\": {\"11\": 66, \"54\": 2, \"53\": 6, \"28\": 1, \"19\": 3, \"10\": 8, \"37\": 2, \"16\": 11, \"15\": 19, \"23\": 4, \"25\": 4, \"24\": 2}, \"25\": {\"25\": 79, \"11\": 8, \"16\": 16, \"18\": 2, \"53\": 7, \"15\": 8, \"10\": 3, \"49\": 1, \"37\": 1, \"43\": 1}, \"54\": {\"54\": 97, \"7\": 1, \"19\": 4, \"10\": 4, \"28\": 1, \"23\": 1}, \"32\": {\"32\": 24, \"8\": 2, \"29\": 1, \"20\": 1}, \"52\": {\"30\": 8, \"52\": 70, \"9\": 7, \"48\": 9, \"21\": 5, \"57\": 5, \"4\": 2, \"0\": 1, \"20\": 6, \"27\": 2, \"50\": 3, \"40\": 1, \"12\": 2, \"29\": 1, \"46\": 1, \"1\": 1}, \"40\": {\"40\": 48, \"56\": 6, \"0\": 3, \"4\": 8, \"47\": 16, \"30\": 6, \"21\": 7, \"22\": 3, \"33\": 1, \"1\": 3, \"29\": 3, \"46\": 2, \"57\": 6, \"12\": 3, \"50\": 5, \"5\": 2, \"52\": 3, \"48\": 2, \"8\": 1, \"27\": 1, \"45\": 1, \"9\": 2}, \"2\": {\"38\": 3, \"14\": 3, \"36\": 2, \"2\": 19, \"35\": 1, \"55\": 2, \"48\": 2}, \"10\": {\"54\": 7, \"10\": 93, \"28\": 1, \"42\": 1, \"24\": 3, \"53\": 1, \"15\": 1, \"11\": 2, \"23\": 1}, \"53\": {\"23\": 19, \"53\": 68, \"49\": 4, \"54\": 3, \"15\": 14, \"34\": 1, \"16\": 1, \"43\": 5, \"17\": 5, \"51\": 6, \"10\": 2, \"26\": 3, \"19\": 1, \"11\": 4}, \"9\": {\"30\": 9, \"20\": 4, \"9\": 57, \"52\": 9, \"4\": 20, \"50\": 2, \"48\": 7, \"44\": 1, \"29\": 11, \"13\": 3, \"12\": 6, \"21\": 4, \"8\": 2, \"51\": 1, \"27\": 3, \"43\": 1, \"56\": 1, \"57\": 2, \"40\": 4, \"47\": 1, \"2\": 1, \"1\": 1}, \"21\": {\"21\": 82, \"30\": 20, \"9\": 1, \"47\": 1, \"4\": 2, \"44\": 1, \"40\": 1, \"12\": 3, \"50\": 5, \"0\": 2, \"1\": 1, \"46\": 1}, \"48\": {\"48\": 56, \"57\": 16, \"1\": 3, \"40\": 9, \"47\": 5, \"32\": 1, \"9\": 14, \"21\": 2, \"20\": 4, \"30\": 3, \"4\": 5, \"52\": 4, \"55\": 2, \"27\": 1, \"56\": 1, \"13\": 3, \"14\": 1, \"8\": 5, \"12\": 1, \"29\": 1, \"50\": 1}, \"29\": {\"29\": 60, \"35\": 1, \"30\": 3, \"47\": 5, \"56\": 5, \"9\": 6, \"27\": 7, \"40\": 2, \"13\": 5, \"4\": 7, \"55\": 3, \"52\": 4, \"57\": 4, \"8\": 3, \"20\": 2, \"1\": 2, \"48\": 5, \"0\": 1, \"21\": 1, \"36\": 1, \"51\": 1}}, \"C_1\": {\"9\": {\"9\": 100, \"30\": 3, \"36\": 4, \"51\": 5, \"12\": 5, \"8\": 11, \"42\": 1, \"48\": 6, \"1\": 1, \"57\": 1, \"29\": 1, \"43\": 1, \"2\": 1, \"20\": 1, \"13\": 1}, \"25\": {\"25\": 79, \"34\": 1, \"26\": 2, \"28\": 1, \"18\": 2, \"15\": 6, \"53\": 2, \"16\": 14, \"11\": 16, \"19\": 2, \"55\": 1, \"17\": 1, \"10\": 1}, \"41\": {\"17\": 1, \"41\": 20, \"51\": 1, \"42\": 1, \"2\": 1}, \"29\": {\"4\": 2, \"57\": 13, \"29\": 40, \"3\": 3, \"46\": 10, \"22\": 11, \"32\": 1, \"2\": 2, \"49\": 1, \"40\": 10, \"21\": 6, \"13\": 1, \"1\": 5, \"52\": 6, \"0\": 7, \"48\": 2, \"51\": 1, \"56\": 3, \"47\": 6, \"8\": 1, \"43\": 3, \"6\": 2, \"44\": 1, \"27\": 2, \"50\": 1}, \"46\": {\"50\": 8, \"4\": 8, \"46\": 41, \"45\": 8, \"56\": 13, \"5\": 6, \"40\": 8, \"6\": 5, \"44\": 10, \"3\": 9, \"0\": 4, \"57\": 2, \"20\": 2, \"22\": 2, \"29\": 1, \"30\": 1}, \"4\": {\"6\": 5, \"57\": 4, \"29\": 2, \"4\": 59, \"45\": 13, \"30\": 3, \"56\": 3, \"36\": 1, \"5\": 11, \"40\": 3, \"1\": 1, \"44\": 11, \"27\": 2, \"50\": 4, \"13\": 1, \"47\": 1, \"52\": 3, \"46\": 3, \"21\": 1, \"22\": 1}, \"31\": {\"31\": 26, \"24\": 1, \"38\": 1}, \"36\": {\"36\": 31, \"17\": 2, \"42\": 1, \"14\": 3, \"1\": 5, \"32\": 1, \"2\": 4, \"35\": 1, \"13\": 1, \"43\": 1, \"8\": 5, \"49\": 1, \"12\": 1, \"51\": 2, \"9\": 3, \"48\": 1, \"29\": 1}, \"20\": {\"20\": 94, \"50\": 8, \"12\": 5, \"3\": 6, \"21\": 2, \"30\": 4, \"29\": 1, \"40\": 1, \"0\": 4, \"56\": 1, \"22\": 1, \"57\": 1}, \"7\": {\"7\": 21, \"47\": 1, \"38\": 2, \"55\": 2, \"29\": 1, \"8\": 1}, \"6\": {\"57\": 3, \"50\": 10, \"6\": 17, \"40\": 5, \"27\": 6, \"45\": 5, \"8\": 1, \"56\": 4, \"52\": 3, \"22\": 1, \"46\": 3, \"44\": 5, \"3\": 3, \"0\": 4, \"12\": 1, \"5\": 11, \"4\": 6, \"30\": 3, \"20\": 3, \"29\": 2}, \"16\": {\"16\": 69, \"25\": 17, \"26\": 2, \"15\": 18, \"11\": 19, \"10\": 2, \"53\": 3, \"54\": 1, \"19\": 4, \"37\": 1, \"18\": 1, \"23\": 1}, \"17\": {\"17\": 20, \"41\": 2, \"23\": 4, \"37\": 3, \"33\": 1, \"51\": 11, \"48\": 2, \"19\": 5, \"36\": 4, \"1\": 1, \"55\": 1, \"54\": 1, \"7\": 1, \"42\": 2, \"49\": 1, \"9\": 1, \"35\": 1, \"24\": 3}, \"50\": {\"29\": 2, \"50\": 98, \"45\": 7, \"57\": 2, \"3\": 4, \"20\": 3, \"46\": 6, \"12\": 2, \"30\": 3, \"44\": 3, \"4\": 2, \"6\": 6, \"40\": 1, \"0\": 1, \"52\": 1, \"1\": 1, \"22\": 1, \"56\": 4, \"5\": 1}, \"57\": {\"50\": 22, \"20\": 7, \"12\": 3, \"57\": 44, \"13\": 5, \"22\": 5, \"30\": 9, \"14\": 1, \"21\": 11, \"6\": 3, \"56\": 6, \"40\": 3, \"1\": 3, \"46\": 3, \"48\": 3, \"4\": 4, \"44\": 2, \"8\": 1, \"0\": 4, \"47\": 1, \"3\": 3, \"45\": 1}, \"23\": {\"23\": 82, \"17\": 6, \"33\": 2, \"24\": 9, \"37\": 4, \"15\": 6, \"51\": 2, \"19\": 9, \"55\": 3, \"54\": 7, \"35\": 1, \"42\": 2, \"53\": 2, \"43\": 1}, \"3\": {\"22\": 4, \"3\": 46, \"20\": 21, \"6\": 4, \"50\": 7, \"40\": 3, \"0\": 13, \"56\": 3, \"46\": 2, \"52\": 6, \"57\": 2, \"4\": 1, \"30\": 6, \"21\": 3, \"44\": 1, \"12\": 2, \"29\": 2}, \"53\": {\"41\": 3, \"53\": 81, \"23\": 12, \"26\": 2, \"19\": 10, \"51\": 8, \"10\": 2, \"42\": 1, \"8\": 1, \"24\": 2, \"15\": 6, \"54\": 2, \"9\": 3, \"34\": 1, \"16\": 1, \"28\": 2, \"17\": 2, \"11\": 1}, \"49\": {\"13\": 1, \"49\": 14, \"36\": 4, \"39\": 1, \"7\": 3, \"51\": 1, \"55\": 1, \"17\": 1, \"43\": 1, \"32\": 2, \"2\": 1, \"48\": 1, \"24\": 1}, \"56\": {\"56\": 48, \"45\": 14, \"46\": 15, \"5\": 8, \"57\": 5, \"44\": 12, \"22\": 3, \"0\": 11, \"6\": 7, \"52\": 3, \"3\": 9, \"50\": 9, \"4\": 2, \"40\": 6}, \"51\": {\"51\": 108, \"43\": 2, \"37\": 1, \"8\": 2, \"17\": 2, \"42\": 1, \"9\": 6, \"36\": 2, \"13\": 4, \"48\": 5, \"55\": 5, \"41\": 1, \"23\": 1, \"24\": 1, \"19\": 1}, \"26\": {\"26\": 17, \"53\": 3, \"23\": 1, \"15\": 1, \"34\": 1, \"19\": 1}, \"43\": {\"43\": 136, \"55\": 4, \"49\": 2, \"32\": 1, \"29\": 1}, \"22\": {\"22\": 86, \"57\": 4, \"21\": 11, \"40\": 3, \"47\": 5, \"3\": 1, \"6\": 2, \"12\": 1, \"52\": 12, \"1\": 2, \"56\": 1, \"27\": 4, \"20\": 1, \"29\": 1, \"13\": 1, \"0\": 1}, \"45\": {\"45\": 64, \"56\": 7, \"44\": 11, \"50\": 15, \"4\": 6, \"5\": 23, \"57\": 2, \"20\": 1, \"46\": 4, \"3\": 2, \"6\": 4, \"40\": 2, \"0\": 2, \"30\": 3}, \"13\": {\"9\": 3, \"13\": 82, \"29\": 4, \"1\": 6, \"2\": 3, \"14\": 1, \"8\": 6, \"48\": 7, \"0\": 2, \"40\": 2, \"22\": 6, \"12\": 9, \"30\": 4, \"21\": 5, \"27\": 2, \"20\": 1, \"47\": 5, \"57\": 2, \"36\": 2}, \"12\": {\"12\": 96, \"57\": 2, \"3\": 6, \"30\": 2, \"0\": 4, \"40\": 1, \"27\": 1, \"21\": 1, \"9\": 1, \"29\": 1, \"20\": 1}, \"54\": {\"54\": 103, \"24\": 1}, \"24\": {\"24\": 93, \"23\": 7, \"31\": 3, \"55\": 2, \"19\": 3}, \"44\": {\"45\": 9, \"44\": 58, \"3\": 8, \"57\": 1, \"50\": 2, \"5\": 31, \"52\": 2, \"56\": 8, \"4\": 8, \"46\": 2, \"21\": 2, \"6\": 3, \"22\": 1, \"0\": 1}, \"28\": {\"28\": 22, \"34\": 1, \"10\": 2, \"19\": 1, \"24\": 2}, \"33\": {\"33\": 26, \"39\": 1, \"23\": 1, \"35\": 2, \"42\": 2}, \"38\": {\"31\": 2, \"42\": 1, \"38\": 10, \"24\": 1, \"39\": 4, \"7\": 3, \"55\": 1, \"1\": 1, \"37\": 1}, \"0\": {\"0\": 88, \"57\": 3, \"21\": 7, \"3\": 12, \"12\": 4, \"46\": 3, \"30\": 5, \"20\": 7, \"40\": 2, \"22\": 3, \"56\": 1, \"50\": 4, \"4\": 1, \"14\": 1, \"6\": 2, \"45\": 1}, \"47\": {\"47\": 93, \"27\": 28, \"22\": 9, \"4\": 2, \"52\": 12, \"1\": 1, \"29\": 6, \"21\": 2, \"13\": 1}, \"42\": {\"33\": 1, \"17\": 5, \"42\": 20, \"32\": 2, \"48\": 2, \"51\": 6, \"49\": 2, \"41\": 1, \"36\": 1}, \"34\": {\"34\": 21, \"24\": 2, \"23\": 1}, \"48\": {\"48\": 56, \"36\": 5, \"8\": 15, \"30\": 5, \"40\": 1, \"57\": 3, \"2\": 1, \"9\": 24, \"0\": 2, \"14\": 1, \"23\": 1, \"1\": 5, \"19\": 1, \"21\": 2, \"55\": 1, \"47\": 2, \"13\": 4, \"49\": 1, \"29\": 3, \"12\": 3, \"51\": 5, \"43\": 1}, \"35\": {\"35\": 12, \"36\": 1, \"37\": 3, \"49\": 1, \"55\": 1, \"23\": 4, \"32\": 1, \"17\": 1, \"33\": 1, \"10\": 1, \"13\": 1, \"19\": 3, \"31\": 2, \"42\": 2, \"15\": 1, \"51\": 1}, \"2\": {\"36\": 7, \"29\": 4, \"2\": 18, \"47\": 2, \"13\": 1, \"9\": 1, \"14\": 2, \"8\": 1}, \"30\": {\"20\": 10, \"30\": 71, \"14\": 2, \"50\": 6, \"32\": 1, \"0\": 6, \"12\": 8, \"3\": 2, \"45\": 1, \"8\": 4, \"57\": 4, \"40\": 2, \"4\": 1, \"13\": 1, \"56\": 1}, \"18\": {\"18\": 52, \"10\": 2, \"25\": 7, \"16\": 3, \"15\": 3, \"11\": 4, \"26\": 1}, \"37\": {\"49\": 1, \"37\": 25, \"43\": 2, \"7\": 1, \"23\": 1, \"32\": 1, \"35\": 1}, \"1\": {\"30\": 1, \"36\": 6, \"1\": 37, \"57\": 7, \"2\": 2, \"51\": 1, \"12\": 4, \"22\": 3, \"29\": 1, \"8\": 2, \"13\": 8, \"3\": 5, \"0\": 2, \"48\": 6, \"47\": 5, \"4\": 1, \"14\": 1, \"40\": 2, \"43\": 2, \"20\": 1, \"50\": 1, \"27\": 1, \"21\": 1}, \"11\": {\"11\": 101, \"25\": 15, \"16\": 16, \"10\": 2, \"15\": 4}, \"55\": {\"43\": 5, \"55\": 106, \"39\": 3, \"33\": 4, \"32\": 2, \"24\": 7, \"23\": 2, \"8\": 1}, \"15\": {\"15\": 102, \"23\": 2, \"26\": 1, \"54\": 5, \"28\": 1, \"10\": 9, \"16\": 8, \"11\": 13, \"19\": 4, \"25\": 2, \"53\": 3}, \"10\": {\"10\": 74, \"54\": 4, \"19\": 1, \"16\": 2, \"15\": 8, \"28\": 2, \"11\": 2, \"34\": 2, \"53\": 1}, \"27\": {\"27\": 126, \"47\": 17, \"21\": 1, \"40\": 1, \"1\": 1, \"29\": 11, \"22\": 2, \"52\": 1}, \"19\": {\"23\": 14, \"19\": 59, \"55\": 6, \"17\": 5, \"9\": 5, \"33\": 1, \"41\": 2, \"24\": 6, \"37\": 2, \"32\": 1, \"10\": 4, \"36\": 2, \"15\": 7, \"16\": 1, \"1\": 3, \"51\": 13, \"54\": 3, \"53\": 4, \"25\": 1, \"8\": 2, \"35\": 1, \"34\": 1, \"43\": 1, \"11\": 2}, \"14\": {\"30\": 5, \"14\": 7, \"3\": 1, \"57\": 1, \"36\": 3, \"13\": 1, \"48\": 1, \"20\": 1, \"8\": 1, \"4\": 1, \"1\": 2}, \"8\": {\"30\": 13, \"9\": 16, \"8\": 32, \"40\": 2, \"12\": 13, \"0\": 1, \"49\": 1, \"57\": 6, \"48\": 15, \"36\": 8, \"14\": 2, \"1\": 5, \"3\": 2, \"20\": 14, \"13\": 4, \"46\": 1, \"29\": 2, \"2\": 2, \"50\": 1}, \"5\": {\"5\": 104, \"45\": 10, \"44\": 10, \"4\": 3, \"6\": 4, \"46\": 1, \"40\": 2, \"56\": 2}, \"39\": {\"39\": 19, \"33\": 1, \"32\": 2, \"7\": 1, \"38\": 2, \"42\": 1, \"55\": 2}, \"52\": {\"52\": 71, \"22\": 18, \"21\": 8, \"27\": 7, \"29\": 6, \"40\": 4, \"13\": 2, \"47\": 1, \"8\": 1, \"12\": 2, \"6\": 1, \"57\": 1}, \"21\": {\"21\": 93, \"22\": 10, \"14\": 1, \"36\": 1, \"1\": 2, \"12\": 2, \"6\": 1, \"8\": 1, \"57\": 1, \"29\": 3, \"52\": 4, \"13\": 2, \"40\": 1, \"0\": 1, \"3\": 1}, \"40\": {\"6\": 8, \"57\": 12, \"40\": 28, \"47\": 8, \"21\": 5, \"14\": 1, \"27\": 5, \"29\": 9, \"12\": 2, \"45\": 11, \"46\": 9, \"0\": 8, \"56\": 6, \"3\": 5, \"4\": 6, \"22\": 6, \"13\": 2, \"44\": 5, \"52\": 4, \"5\": 4, \"30\": 1, \"50\": 6, \"20\": 1}, \"32\": {\"32\": 32}}, \"C_3\": {\"56\": {\"56\": 89, \"46\": 2, \"47\": 3, \"50\": 3, \"22\": 9, \"40\": 6, \"9\": 4, \"13\": 1, \"48\": 1, \"29\": 1, \"4\": 1}, \"4\": {\"12\": 11, \"44\": 1, \"48\": 11, \"30\": 13, \"22\": 2, \"8\": 3, \"1\": 2, \"27\": 14, \"47\": 1, \"4\": 34, \"13\": 3, \"40\": 4, \"7\": 1, \"57\": 6, \"9\": 6, \"5\": 2, \"45\": 1, \"52\": 3, \"55\": 1, \"20\": 2, \"56\": 2, \"3\": 2, \"21\": 6, \"50\": 7, \"35\": 1, \"41\": 1, \"0\": 3, \"46\": 3}, \"34\": {\"34\": 16, \"33\": 4, \"7\": 3, \"38\": 1, \"1\": 2, \"55\": 1, \"17\": 1, \"8\": 1, \"43\": 1, \"2\": 2}, \"52\": {\"52\": 75, \"20\": 15, \"9\": 9, \"4\": 4, \"21\": 7, \"32\": 2, \"1\": 2, \"57\": 4, \"30\": 7, \"27\": 4, \"50\": 1, \"29\": 2, \"46\": 1, \"48\": 1, \"0\": 1, \"12\": 1}, \"32\": {\"32\": 19, \"8\": 2, \"9\": 2, \"57\": 4, \"34\": 1}, \"46\": {\"12\": 4, \"46\": 58, \"30\": 6, \"22\": 11, \"0\": 9, \"50\": 10, \"52\": 3, \"6\": 1, \"5\": 2, \"1\": 1, \"21\": 6, \"48\": 2, \"44\": 2, \"56\": 4, \"3\": 6, \"40\": 5, \"47\": 3, \"4\": 3}, \"12\": {\"46\": 9, \"22\": 2, \"30\": 9, \"5\": 15, \"6\": 3, \"45\": 7, \"12\": 29, \"3\": 6, \"0\": 3, \"50\": 4, \"21\": 2, \"40\": 1, \"1\": 1, \"47\": 1}, \"20\": {\"52\": 21, \"29\": 1, \"20\": 57, \"12\": 1, \"27\": 12, \"46\": 2, \"8\": 11, \"57\": 8, \"40\": 1, \"4\": 2, \"9\": 4, \"21\": 4, \"0\": 2, \"56\": 1, \"48\": 1, \"3\": 2, \"47\": 1, \"50\": 1}, \"54\": {\"10\": 2, \"54\": 84, \"28\": 1, \"19\": 1, \"55\": 1, \"17\": 1, \"23\": 3, \"24\": 2, \"31\": 1, \"43\": 1, \"16\": 3}, \"22\": {\"22\": 44, \"12\": 3, \"44\": 1, \"56\": 12, \"4\": 4, \"47\": 6, \"50\": 10, \"7\": 1, \"41\": 3, \"1\": 7, \"46\": 15, \"48\": 4, \"6\": 6, \"9\": 3, \"3\": 5, \"0\": 8, \"40\": 4, \"21\": 1, \"14\": 1, \"57\": 1, \"13\": 1}, \"26\": {\"26\": 20, \"51\": 1, \"38\": 2, \"2\": 1}, \"31\": {\"31\": 23, \"23\": 1, \"24\": 1, \"43\": 1, \"17\": 1, \"55\": 1}, \"10\": {\"10\": 57, \"54\": 4, \"53\": 1, \"11\": 2}, \"27\": {\"27\": 43, \"48\": 10, \"4\": 5, \"57\": 10, \"36\": 2, \"9\": 10, \"1\": 3, \"32\": 1, \"29\": 7, \"52\": 9, \"0\": 4, \"13\": 4, \"20\": 9, \"8\": 7, \"55\": 3, \"47\": 3, \"51\": 2, \"17\": 1, \"56\": 3, \"40\": 2, \"21\": 1, \"7\": 1, \"33\": 1, \"34\": 1, \"22\": 1, \"50\": 1}, \"40\": {\"4\": 10, \"40\": 42, \"46\": 3, \"22\": 5, \"29\": 6, \"30\": 4, \"45\": 2, \"57\": 5, \"47\": 2, \"56\": 7, \"50\": 10, \"1\": 6, \"0\": 12, \"3\": 6, \"48\": 5, \"21\": 3, \"9\": 1, \"5\": 1, \"27\": 2, \"32\": 1, \"20\": 1, \"12\": 1, \"44\": 1}, \"28\": {\"28\": 9, \"31\": 1, \"16\": 2, \"23\": 5, \"18\": 2, \"42\": 2, \"25\": 1, \"11\": 3, \"24\": 2, \"15\": 1}, \"5\": {\"12\": 7, \"5\": 61, \"30\": 7, \"4\": 2, \"44\": 12, \"21\": 3, \"50\": 5, \"22\": 2, \"45\": 7, \"46\": 3, \"3\": 3, \"6\": 2, \"56\": 1, \"0\": 1}, \"30\": {\"52\": 6, \"50\": 4, \"5\": 9, \"12\": 4, \"30\": 56, \"21\": 17, \"20\": 4, \"46\": 4, \"29\": 1, \"0\": 1, \"57\": 1, \"4\": 4, \"40\": 1, \"3\": 2, \"9\": 2, \"27\": 1, \"45\": 1, \"47\": 1, \"6\": 1}, \"7\": {\"13\": 1, \"29\": 3, \"7\": 20, \"56\": 1, \"2\": 1, \"39\": 1, \"14\": 1, \"47\": 2, \"41\": 1, \"36\": 2, \"27\": 1, \"43\": 1, \"55\": 1}, \"18\": {\"49\": 1, \"18\": 59, \"28\": 1, \"25\": 9, \"15\": 2, \"16\": 7, \"23\": 1, \"11\": 2, \"17\": 1, \"19\": 1}, \"39\": {\"49\": 2, \"7\": 1, \"14\": 1, \"55\": 3, \"39\": 5, \"36\": 2, \"29\": 1, \"41\": 1}, \"50\": {\"22\": 9, \"5\": 8, \"40\": 3, \"6\": 4, \"52\": 2, \"30\": 11, \"3\": 7, \"4\": 4, \"12\": 8, \"50\": 28, \"21\": 19, \"0\": 6, \"46\": 6, \"45\": 3, \"1\": 4, \"44\": 3, \"56\": 8, \"47\": 1, \"48\": 1, \"27\": 1}, \"49\": {\"43\": 1, \"49\": 7, \"36\": 1, \"37\": 1, \"24\": 5, \"39\": 2, \"35\": 1, \"12\": 1, \"19\": 1}, \"43\": {\"43\": 92, \"33\": 1, \"17\": 5, \"13\": 4, \"55\": 7, \"19\": 5, \"36\": 3, \"7\": 1, \"37\": 1, \"42\": 1, \"26\": 1, \"23\": 1}, \"29\": {\"52\": 3, \"29\": 45, \"0\": 2, \"40\": 5, \"46\": 2, \"4\": 5, \"27\": 5, \"55\": 4, \"1\": 2, \"48\": 3, \"56\": 1, \"23\": 1, \"22\": 2, \"47\": 1, \"8\": 10, \"30\": 1, \"9\": 6, \"20\": 6, \"57\": 5, \"32\": 1, \"36\": 1, \"13\": 2, \"50\": 1}, \"35\": {\"49\": 1, \"35\": 22, \"55\": 3, \"13\": 1, \"31\": 1}, \"13\": {\"7\": 4, \"39\": 1, \"13\": 110, \"33\": 1, \"2\": 2, \"14\": 1, \"8\": 1, \"57\": 1, \"36\": 2, \"43\": 1}, \"36\": {\"36\": 93, \"55\": 2, \"13\": 2, \"43\": 1, \"42\": 1, \"49\": 1}, \"11\": {\"16\": 16, \"53\": 2, \"11\": 85, \"10\": 7, \"23\": 6, \"15\": 17, \"24\": 2, \"25\": 4, \"54\": 3, \"19\": 3, \"17\": 1}, \"57\": {\"9\": 12, \"57\": 34, \"33\": 1, \"21\": 2, \"52\": 8, \"27\": 14, \"0\": 5, \"47\": 3, \"29\": 5, \"20\": 9, \"8\": 5, \"40\": 3, \"30\": 7, \"4\": 7, \"48\": 4, \"32\": 2, \"38\": 1, \"1\": 1, \"17\": 1}, \"9\": {\"57\": 6, \"9\": 52, \"52\": 18, \"50\": 2, \"4\": 13, \"20\": 11, \"40\": 3, \"0\": 5, \"46\": 1, \"30\": 2, \"21\": 3, \"27\": 9, \"12\": 1, \"38\": 1, \"36\": 1, \"32\": 1, \"48\": 1}, \"25\": {\"25\": 83, \"53\": 12, \"16\": 11, \"49\": 1, \"18\": 3, \"54\": 2, \"15\": 9, \"11\": 7, \"37\": 1, \"10\": 1}, \"16\": {\"16\": 58, \"11\": 18, \"18\": 6, \"53\": 12, \"10\": 4, \"15\": 14, \"19\": 1, \"25\": 6, \"23\": 3, \"24\": 2, \"54\": 2}, \"53\": {\"16\": 3, \"26\": 2, \"53\": 61, \"28\": 1, \"15\": 13, \"19\": 7, \"11\": 5, \"25\": 1, \"17\": 6, \"23\": 8, \"51\": 6, \"24\": 1, \"54\": 3, \"8\": 1}, \"33\": {\"36\": 2, \"57\": 2, \"38\": 2, \"51\": 1, \"33\": 11, \"9\": 1, \"48\": 2, \"32\": 1, \"27\": 3, \"47\": 1, \"13\": 1, \"35\": 1}, \"51\": {\"51\": 86, \"43\": 3, \"33\": 1, \"34\": 3, \"48\": 2, \"35\": 1, \"14\": 1, \"17\": 7, \"27\": 1, \"8\": 16, \"23\": 1, \"55\": 4, \"19\": 1, \"29\": 1}, \"44\": {\"6\": 5, \"5\": 13, \"44\": 45, \"45\": 8, \"3\": 3, \"30\": 2, \"12\": 2, \"22\": 2, \"50\": 4, \"47\": 2, \"0\": 1, \"4\": 1}, \"48\": {\"27\": 7, \"48\": 46, \"4\": 9, \"0\": 7, \"57\": 11, \"52\": 6, \"29\": 1, \"1\": 3, \"20\": 3, \"36\": 1, \"47\": 4, \"3\": 2, \"13\": 5, \"56\": 1, \"46\": 1, \"14\": 1, \"40\": 1, \"9\": 2, \"8\": 3}, \"6\": {\"44\": 1, \"5\": 7, \"6\": 56, \"3\": 9, \"30\": 4, \"45\": 3, \"12\": 1, \"50\": 3, \"21\": 1, \"0\": 1, \"22\": 2}, \"23\": {\"38\": 1, \"55\": 3, \"17\": 11, \"23\": 63, \"2\": 1, \"28\": 2, \"37\": 1, \"51\": 3, \"11\": 7, \"32\": 1, \"24\": 6, \"54\": 4, \"36\": 2, \"15\": 8, \"53\": 9, \"29\": 1, \"10\": 3, \"43\": 5, \"13\": 1, \"19\": 4, \"9\": 2, \"8\": 3, \"34\": 1, \"42\": 1, \"25\": 1}, \"1\": {\"57\": 4, \"1\": 31, \"4\": 2, \"48\": 5, \"46\": 6, \"14\": 2, \"22\": 9, \"50\": 3, \"21\": 2, \"47\": 7, \"9\": 2, \"0\": 8, \"40\": 8, \"13\": 3, \"3\": 2, \"34\": 1, \"29\": 1, \"52\": 2, \"43\": 1, \"56\": 1}, \"17\": {\"33\": 2, \"55\": 5, \"17\": 52, \"37\": 1, \"7\": 2, \"23\": 3, \"19\": 2, \"24\": 1, \"34\": 1, \"31\": 2, \"51\": 12, \"29\": 4, \"36\": 2, \"8\": 8, \"27\": 2, \"43\": 5, \"38\": 1, \"57\": 1, \"20\": 1, \"52\": 1}, \"21\": {\"3\": 4, \"21\": 68, \"30\": 19, \"52\": 1, \"12\": 2, \"5\": 2, \"40\": 1, \"56\": 2, \"0\": 4, \"46\": 5, \"50\": 11, \"1\": 2, \"48\": 1}, \"14\": {\"41\": 2, \"39\": 2, \"14\": 21, \"33\": 1, \"35\": 1, \"29\": 1, \"46\": 1, \"1\": 1, \"8\": 1, \"55\": 2, \"13\": 1, \"47\": 1, \"12\": 2, \"40\": 1, \"2\": 2}, \"55\": {\"17\": 7, \"36\": 10, \"24\": 3, \"55\": 82, \"34\": 1, \"38\": 1, \"23\": 2, \"13\": 8, \"19\": 3, \"43\": 18, \"8\": 1, \"39\": 4, \"35\": 1, \"7\": 1, \"31\": 1, \"2\": 1}, \"41\": {\"41\": 28}, \"3\": {\"1\": 1, \"3\": 59, \"50\": 15, \"5\": 7, \"45\": 3, \"12\": 9, \"40\": 2, \"22\": 5, \"44\": 6, \"6\": 9, \"30\": 7, \"0\": 4, \"46\": 7, \"21\": 4}, \"38\": {\"38\": 27, \"33\": 1}, \"2\": {\"2\": 24, \"39\": 1, \"24\": 1, \"13\": 1, \"31\": 1, \"41\": 1, \"34\": 2, \"36\": 1}, \"8\": {\"8\": 48, \"32\": 1, \"20\": 21, \"36\": 1, \"9\": 9, \"1\": 5, \"40\": 3, \"48\": 2, \"29\": 4, \"57\": 3, \"0\": 4, \"13\": 8, \"21\": 1, \"30\": 1, \"52\": 15, \"17\": 4, \"51\": 2, \"27\": 4, \"7\": 1, \"34\": 1, \"2\": 1, \"4\": 2, \"50\": 1}, \"37\": {\"37\": 28}, \"45\": {\"5\": 10, \"12\": 10, \"44\": 5, \"50\": 4, \"30\": 1, \"45\": 19, \"6\": 3, \"46\": 2, \"0\": 1, \"1\": 1, \"21\": 2, \"3\": 2}, \"42\": {\"24\": 4, \"49\": 3, \"42\": 12, \"39\": 1, \"43\": 1, \"36\": 1, \"31\": 2, \"35\": 1, \"17\": 2, \"23\": 1}, \"24\": {\"24\": 96, \"42\": 3, \"31\": 1, \"19\": 3, \"23\": 1}, \"15\": {\"15\": 73, \"11\": 15, \"26\": 1, \"37\": 1, \"16\": 6, \"23\": 10, \"10\": 4, \"53\": 16, \"43\": 1, \"25\": 3, \"17\": 1, \"24\": 1, \"18\": 1, \"42\": 1, \"28\": 2}, \"0\": {\"40\": 12, \"0\": 28, \"46\": 11, \"30\": 16, \"27\": 1, \"12\": 8, \"57\": 2, \"1\": 6, \"50\": 3, \"4\": 5, \"47\": 4, \"5\": 2, \"48\": 3, \"3\": 4, \"44\": 2, \"21\": 11, \"9\": 2, \"22\": 1, \"20\": 1, \"6\": 1, \"29\": 1}, \"47\": {\"40\": 4, \"52\": 4, \"47\": 26, \"41\": 2, \"4\": 4, \"50\": 3, \"30\": 2, \"57\": 1, \"48\": 6, \"0\": 9, \"27\": 2, \"3\": 1, \"1\": 6, \"56\": 5, \"13\": 1, \"46\": 7, \"7\": 2, \"29\": 3, \"21\": 2, \"22\": 1, \"9\": 1}, \"19\": {\"19\": 52, \"24\": 11, \"13\": 6, \"23\": 15, \"36\": 4, \"55\": 4, \"51\": 4, \"17\": 2, \"54\": 1, \"43\": 2, \"11\": 1, \"53\": 6, \"9\": 1, \"15\": 2, \"31\": 1, \"7\": 2, \"49\": 1, \"2\": 2, \"10\": 1, \"26\": 1, \"8\": 1}}}, \"per_domain_accuracy\": {\"O_14\": {\"accuracy\": 0.8747395833333333, \"source?\": true}, \"O_20\": {\"accuracy\": 0.8947916666666667, \"source?\": true}, \"O_50\": {\"accuracy\": 0.42890625, \"source?\": true}, \"O_26\": {\"accuracy\": 0.73984375, \"source?\": true}, \"O_32\": {\"accuracy\": 0.43072916666666666, \"source?\": true}, \"O_44\": {\"accuracy\": 0.396875, \"source?\": true}, \"O_8\": {\"accuracy\": 0.834375, \"source?\": true}, \"O_38\": {\"accuracy\": 0.50859375, \"source?\": true}, \"C_4\": {\"accuracy\": 0.49326347305389223, \"source?\": false}, \"C_5\": {\"accuracy\": 0.5059357541899442, \"source?\": false}, \"C_2\": {\"accuracy\": 0.5207142857142857, \"source?\": false}, \"C_1\": {\"accuracy\": 0.5737092391304348, \"source?\": false}, \"C_3\": {\"accuracy\": 0.5056985294117647, \"source?\": false}}}, \"history\": {\"epoch_indices\": [1, 2, 3, 4, 5], \"train_label_loss\": [0.47479133878479757, 0.47655393070835134, 0.32881482829605896, 0.3014596384700521, 0.2737454706004688], \"source_val_label_loss\": [7.855135440826416, 0.4074200987815857, 0.3304387927055359, 0.312504380941391, 0.26252463459968567], \"target_val_label_loss\": [2428.24462890625, 2897.08349609375, 3029.9326171875, 3212.437744140625, 3366.388916015625], \"source_val_acc_label\": [0.6386067708333333, 0.8571940104166667, 0.8831705729166667, 0.8879231770833333, 0.90810546875], \"target_val_acc_label\": [0.5206785714285714, 0.40339285714285716, 0.4118928571428571, 0.41767857142857145, 0.43507142857142855]}, \"dataset_metrics\": {\"source\": {\"train\": {\"n_unique_x\": 179200, \"n_unique_y\": 16, \"n_batch/episode\": 6720}, \"val\": {\"n_unique_x\": 38400, \"n_unique_y\": 16, \"n_batch/episode\": 960}, \"test\": {\"n_unique_x\": 38400, \"n_unique_y\": 16, \"n_batch/episode\": 960}}, \"target\": {\"train\": {\"n_unique_x\": 175158, \"n_unique_y\": 58, \"n_batch/episode\": 6317}, \"val\": {\"n_unique_x\": 37216, \"n_unique_y\": 58, \"n_batch/episode\": 875}, \"test\": {\"n_unique_x\": 37596, \"n_unique_y\": 58, \"n_batch/episode\": 886}}}}'"
      ]
     },
     "execution_count": 29,
     "metadata": {},
     "output_type": "execute_result"
    }
   ],
   "source": [
    "json.dumps(experiment)"
   ]
  }
 ],
 "metadata": {
  "celltoolbar": "Tags",
  "kernelspec": {
   "display_name": "Python 3 (ipykernel)",
   "language": "python",
   "name": "python3"
  },
  "language_info": {
   "codemirror_mode": {
    "name": "ipython",
    "version": 3
   },
   "file_extension": ".py",
   "mimetype": "text/x-python",
   "name": "python",
   "nbconvert_exporter": "python",
   "pygments_lexer": "ipython3",
   "version": "3.8.10"
  },
  "papermill": {
   "default_parameters": {},
   "duration": 936.729664,
   "end_time": "2022-03-25T10:32:02.165439",
   "environment_variables": {},
   "exception": null,
   "input_path": "/mnt/wd500GB/CSC500/csc500-main/csc500-notebooks/templates/tl_ptn_template.ipynb",
   "output_path": "trial.ipynb",
   "parameters": {
    "parameters": {
     "BEST_MODEL_PATH": "./best_model.pth",
     "NUM_LOGS_PER_EPOCH": 10,
     "criteria_for_best": "target_accuracy",
     "dataset_seed": 420,
     "datasets": [
      {
       "domain_prefix": "C_",
       "domains": [
        1,
        2,
        3,
        4,
        5
       ],
       "episode_transforms": [],
       "labels": [
        "1-10.",
        "1-11.",
        "1-15.",
        "1-16.",
        "1-17.",
        "1-18.",
        "1-19.",
        "10-4.",
        "10-7.",
        "11-1.",
        "11-14.",
        "11-17.",
        "11-20.",
        "11-7.",
        "13-20.",
        "13-8.",
        "14-10.",
        "14-11.",
        "14-14.",
        "14-7.",
        "15-1.",
        "15-20.",
        "16-1.",
        "16-16.",
        "17-10.",
        "17-11.",
        "17-2.",
        "19-1.",
        "19-16.",
        "19-19.",
        "19-20.",
        "19-3.",
        "2-10.",
        "2-11.",
        "2-17.",
        "2-18.",
        "2-20.",
        "2-3.",
        "2-4.",
        "2-5.",
        "2-6.",
        "2-7.",
        "2-8.",
        "3-13.",
        "3-18.",
        "3-3.",
        "4-1.",
        "4-10.",
        "4-11.",
        "4-19.",
        "5-5.",
        "6-15.",
        "7-10.",
        "7-14.",
        "8-18.",
        "8-20.",
        "8-3.",
        "8-8."
       ],
       "num_examples_per_domain_per_label": -1,
       "pickle_path": "/mnt/wd500GB/CSC500/csc500-main/datasets/cores.stratified_ds.2022A.pkl",
       "source_or_target_dataset": "target",
       "x_transforms": [
        "take_200"
       ]
      },
      {
       "domain_prefix": "O_",
       "domains": [
        32,
        38,
        8,
        44,
        14,
        50,
        20,
        26
       ],
       "episode_transforms": [],
       "labels": [
        "3123D52",
        "3123D65",
        "3123D79",
        "3123D80",
        "3123D54",
        "3123D70",
        "3123D7B",
        "3123D89",
        "3123D58",
        "3123D76",
        "3123D7D",
        "3123EFE",
        "3123D64",
        "3123D78",
        "3123D7E",
        "3124E4A"
       ],
       "num_examples_per_domain_per_label": 2000,
       "pickle_path": "/mnt/wd500GB/CSC500/csc500-main/datasets/oracle.Run1_framed_2000Examples_stratified_ds.2022A.pkl",
       "source_or_target_dataset": "source",
       "x_transforms": [
        "take_200",
        "resample_20Msps_to_25Msps"
       ]
      }
     ],
     "device": "cuda",
     "experiment_name": "tl_3Av2:oracle.run1.framed -> cores",
     "lr": 0.0001,
     "n_epoch": 50,
     "n_query": 2,
     "n_shot": 3,
     "n_way": 16,
     "patience": 3,
     "seed": 420,
     "test_k_factor": 2,
     "torch_default_dtype": "torch.float32",
     "train_k_factor": 3,
     "val_k_factor": 2,
     "x_net": [
      {
       "class": "nnReshape",
       "kargs": {
        "shape": [
         -1,
         1,
         2,
         200
        ]
       }
      },
      {
       "class": "Conv2d",
       "kargs": {
        "bias": false,
        "in_channels": 1,
        "kernel_size": [
         1,
         7
        ],
        "out_channels": 256,
        "padding": [
         0,
         3
        ]
       }
      },
      {
       "class": "ReLU",
       "kargs": {
        "inplace": true
       }
      },
      {
       "class": "BatchNorm2d",
       "kargs": {
        "num_features": 256
       }
      },
      {
       "class": "Conv2d",
       "kargs": {
        "bias": true,
        "in_channels": 256,
        "kernel_size": [
         2,
         7
        ],
        "out_channels": 80,
        "padding": [
         0,
         3
        ]
       }
      },
      {
       "class": "ReLU",
       "kargs": {
        "inplace": true
       }
      },
      {
       "class": "BatchNorm2d",
       "kargs": {
        "num_features": 80
       }
      },
      {
       "class": "Flatten",
       "kargs": {}
      },
      {
       "class": "Linear",
       "kargs": {
        "in_features": 16000,
        "out_features": 256
       }
      },
      {
       "class": "ReLU",
       "kargs": {
        "inplace": true
       }
      },
      {
       "class": "BatchNorm1d",
       "kargs": {
        "num_features": 256
       }
      },
      {
       "class": "Linear",
       "kargs": {
        "in_features": 256,
        "out_features": 256
       }
      }
     ],
     "x_shape": [
      2,
      200
     ]
    }
   },
   "start_time": "2022-03-25T10:16:25.435775",
   "version": "2.3.4"
  }
 },
 "nbformat": 4,
 "nbformat_minor": 5
}