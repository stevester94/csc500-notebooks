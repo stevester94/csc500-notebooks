{
 "cells": [
  {
   "cell_type": "markdown",
   "id": "9fea5f46",
   "metadata": {
    "papermill": {
     "duration": 0.020056,
     "end_time": "2022-03-25T09:35:43.630328",
     "exception": false,
     "start_time": "2022-03-25T09:35:43.610272",
     "status": "completed"
    },
    "tags": []
   },
   "source": [
    "# Transfer Learning Template"
   ]
  },
  {
   "cell_type": "code",
   "execution_count": 1,
   "id": "0902182a",
   "metadata": {
    "execution": {
     "iopub.execute_input": "2022-03-25T09:35:43.666256Z",
     "iopub.status.busy": "2022-03-25T09:35:43.665972Z",
     "iopub.status.idle": "2022-03-25T09:35:44.586371Z",
     "shell.execute_reply": "2022-03-25T09:35:44.586775Z"
    },
    "papermill": {
     "duration": 0.942801,
     "end_time": "2022-03-25T09:35:44.586965",
     "exception": false,
     "start_time": "2022-03-25T09:35:43.644164",
     "status": "completed"
    },
    "tags": []
   },
   "outputs": [],
   "source": [
    "%load_ext autoreload\n",
    "%autoreload 2\n",
    "%matplotlib inline\n",
    "\n",
    "    \n",
    "import os, json, sys, time, random\n",
    "import numpy as np\n",
    "import torch\n",
    "from torch.optim import Adam\n",
    "from  easydict import EasyDict\n",
    "import matplotlib.pyplot as plt\n",
    "\n",
    "from steves_models.steves_ptn import Steves_Prototypical_Network\n",
    "\n",
    "from steves_utils.lazy_iterable_wrapper import Lazy_Iterable_Wrapper\n",
    "from steves_utils.iterable_aggregator import Iterable_Aggregator\n",
    "from steves_utils.ptn_train_eval_test_jig import  PTN_Train_Eval_Test_Jig\n",
    "from steves_utils.torch_sequential_builder import build_sequential\n",
    "from steves_utils.torch_utils import get_dataset_metrics, ptn_confusion_by_domain_over_dataloader\n",
    "from steves_utils.utils_v2 import (per_domain_accuracy_from_confusion, get_datasets_base_path)\n",
    "from steves_utils.PTN.utils import independent_accuracy_assesment\n",
    "\n",
    "from torch.utils.data import DataLoader\n",
    "\n",
    "from steves_utils.stratified_dataset.episodic_accessor import Episodic_Accessor_Factory\n",
    "\n",
    "from steves_utils.ptn_do_report import (\n",
    "    get_loss_curve,\n",
    "    get_results_table,\n",
    "    get_parameters_table,\n",
    "    get_domain_accuracies,\n",
    ")\n",
    "\n",
    "from steves_utils.transforms import get_chained_transform"
   ]
  },
  {
   "cell_type": "markdown",
   "id": "41c840b4",
   "metadata": {
    "papermill": {
     "duration": 0.014116,
     "end_time": "2022-03-25T09:35:44.618222",
     "exception": false,
     "start_time": "2022-03-25T09:35:44.604106",
     "status": "completed"
    },
    "tags": []
   },
   "source": [
    "# Allowed Parameters\n",
    "These are allowed parameters, not defaults\n",
    "Each of these values need to be present in the injected parameters (the notebook will raise an exception if they are not present)\n",
    "\n",
    "Papermill uses the cell tag \"parameters\" to inject the real parameters below this cell.\n",
    "Enable tags to see what I mean"
   ]
  },
  {
   "cell_type": "code",
   "execution_count": 2,
   "id": "fd44eb83",
   "metadata": {
    "execution": {
     "iopub.execute_input": "2022-03-25T09:35:44.646550Z",
     "iopub.status.busy": "2022-03-25T09:35:44.645029Z",
     "iopub.status.idle": "2022-03-25T09:35:44.662956Z",
     "shell.execute_reply": "2022-03-25T09:35:44.663362Z"
    },
    "papermill": {
     "duration": 0.032386,
     "end_time": "2022-03-25T09:35:44.663487",
     "exception": false,
     "start_time": "2022-03-25T09:35:44.631101",
     "status": "completed"
    },
    "tags": []
   },
   "outputs": [],
   "source": [
    "required_parameters = {\n",
    "    \"experiment_name\",\n",
    "    \"lr\",\n",
    "    \"device\",\n",
    "    \"seed\",\n",
    "    \"dataset_seed\",\n",
    "    \"n_shot\",\n",
    "    \"n_query\",\n",
    "    \"n_way\",\n",
    "    \"train_k_factor\",\n",
    "    \"val_k_factor\",\n",
    "    \"test_k_factor\",\n",
    "    \"n_epoch\",\n",
    "    \"patience\",\n",
    "    \"criteria_for_best\",\n",
    "    \"x_net\",\n",
    "    \"datasets\",\n",
    "    \"torch_default_dtype\",\n",
    "    \"NUM_LOGS_PER_EPOCH\",\n",
    "    \"BEST_MODEL_PATH\",\n",
    "    \"x_shape\",\n",
    "}"
   ]
  },
  {
   "cell_type": "code",
   "execution_count": 3,
   "id": "fa3f0049",
   "metadata": {
    "execution": {
     "iopub.execute_input": "2022-03-25T09:35:44.703452Z",
     "iopub.status.busy": "2022-03-25T09:35:44.702992Z",
     "iopub.status.idle": "2022-03-25T09:35:44.715435Z",
     "shell.execute_reply": "2022-03-25T09:35:44.715660Z"
    },
    "papermill": {
     "duration": 0.035094,
     "end_time": "2022-03-25T09:35:44.715739",
     "exception": false,
     "start_time": "2022-03-25T09:35:44.680645",
     "status": "completed"
    },
    "tags": [
     "parameters"
    ]
   },
   "outputs": [],
   "source": [
    "from steves_utils.CORES.utils import (\n",
    "    ALL_NODES,\n",
    "    ALL_NODES_MINIMUM_1000_EXAMPLES,\n",
    "    ALL_DAYS\n",
    ")\n",
    "\n",
    "from steves_utils.ORACLE.utils_v2 import (\n",
    "    ALL_DISTANCES_FEET_NARROWED,\n",
    "    ALL_RUNS,\n",
    "    ALL_SERIAL_NUMBERS,\n",
    ")\n",
    "\n",
    "standalone_parameters = {}\n",
    "standalone_parameters[\"experiment_name\"] = \"STANDALONE PTN\"\n",
    "standalone_parameters[\"lr\"] = 0.001\n",
    "standalone_parameters[\"device\"] = \"cuda\"\n",
    "\n",
    "standalone_parameters[\"seed\"] = 1337\n",
    "standalone_parameters[\"dataset_seed\"] = 1337\n",
    "\n",
    "standalone_parameters[\"n_way\"] = 8\n",
    "standalone_parameters[\"n_shot\"] = 3\n",
    "standalone_parameters[\"n_query\"]  = 2\n",
    "standalone_parameters[\"train_k_factor\"] = 1\n",
    "standalone_parameters[\"val_k_factor\"] = 2\n",
    "standalone_parameters[\"test_k_factor\"] = 2\n",
    "\n",
    "\n",
    "standalone_parameters[\"n_epoch\"] = 50\n",
    "\n",
    "standalone_parameters[\"patience\"] = 10\n",
    "standalone_parameters[\"criteria_for_best\"] = \"source_loss\"\n",
    "\n",
    "standalone_parameters[\"datasets\"] = [\n",
    "    {\n",
    "        \"labels\": ALL_SERIAL_NUMBERS,\n",
    "        \"domains\": ALL_DISTANCES_FEET_NARROWED,\n",
    "        \"num_examples_per_domain_per_label\": 100,\n",
    "        \"pickle_path\": os.path.join(get_datasets_base_path(), \"oracle.Run1_framed_2000Examples_stratified_ds.2022A.pkl\"),\n",
    "        \"source_or_target_dataset\": \"source\",\n",
    "        \"x_transforms\": [\"unit_mag\", \"minus_two\"],\n",
    "        \"episode_transforms\": [],\n",
    "        \"domain_prefix\": \"ORACLE_\"\n",
    "    },\n",
    "    {\n",
    "        \"labels\": ALL_NODES,\n",
    "        \"domains\": ALL_DAYS,\n",
    "        \"num_examples_per_domain_per_label\": 100,\n",
    "        \"pickle_path\": os.path.join(get_datasets_base_path(), \"cores.stratified_ds.2022A.pkl\"),\n",
    "        \"source_or_target_dataset\": \"target\",\n",
    "        \"x_transforms\": [\"unit_power\", \"times_zero\"],\n",
    "        \"episode_transforms\": [],\n",
    "        \"domain_prefix\": \"CORES_\"\n",
    "    }   \n",
    "]\n",
    "\n",
    "standalone_parameters[\"torch_default_dtype\"] = \"torch.float32\" \n",
    "\n",
    "\n",
    "\n",
    "standalone_parameters[\"x_net\"] =     [\n",
    "    {\"class\": \"nnReshape\", \"kargs\": {\"shape\":[-1, 1, 2, 256]}},\n",
    "    {\"class\": \"Conv2d\", \"kargs\": { \"in_channels\":1, \"out_channels\":256, \"kernel_size\":(1,7), \"bias\":False, \"padding\":(0,3), },},\n",
    "    {\"class\": \"ReLU\", \"kargs\": {\"inplace\": True}},\n",
    "    {\"class\": \"BatchNorm2d\", \"kargs\": {\"num_features\":256}},\n",
    "\n",
    "    {\"class\": \"Conv2d\", \"kargs\": { \"in_channels\":256, \"out_channels\":80, \"kernel_size\":(2,7), \"bias\":True, \"padding\":(0,3), },},\n",
    "    {\"class\": \"ReLU\", \"kargs\": {\"inplace\": True}},\n",
    "    {\"class\": \"BatchNorm2d\", \"kargs\": {\"num_features\":80}},\n",
    "    {\"class\": \"Flatten\", \"kargs\": {}},\n",
    "\n",
    "    {\"class\": \"Linear\", \"kargs\": {\"in_features\": 80*256, \"out_features\": 256}}, # 80 units per IQ pair\n",
    "    {\"class\": \"ReLU\", \"kargs\": {\"inplace\": True}},\n",
    "    {\"class\": \"BatchNorm1d\", \"kargs\": {\"num_features\":256}},\n",
    "\n",
    "    {\"class\": \"Linear\", \"kargs\": {\"in_features\": 256, \"out_features\": 256}},\n",
    "]\n",
    "\n",
    "# Parameters relevant to results\n",
    "# These parameters will basically never need to change\n",
    "standalone_parameters[\"NUM_LOGS_PER_EPOCH\"] = 10\n",
    "standalone_parameters[\"BEST_MODEL_PATH\"] = \"./best_model.pth\"\n",
    "\n",
    "\n",
    "\n",
    "\n"
   ]
  },
  {
   "cell_type": "code",
   "execution_count": 4,
   "id": "1ffa775f",
   "metadata": {
    "execution": {
     "iopub.execute_input": "2022-03-25T09:35:44.749553Z",
     "iopub.status.busy": "2022-03-25T09:35:44.749082Z",
     "iopub.status.idle": "2022-03-25T09:35:44.761445Z",
     "shell.execute_reply": "2022-03-25T09:35:44.761666Z"
    },
    "papermill": {
     "duration": 0.031468,
     "end_time": "2022-03-25T09:35:44.761743",
     "exception": false,
     "start_time": "2022-03-25T09:35:44.730275",
     "status": "completed"
    },
    "tags": [
     "injected-parameters"
    ]
   },
   "outputs": [],
   "source": [
    "# Parameters\n",
    "parameters = {\n",
    "    \"experiment_name\": \"tl_3Av2:oracle.run1.framed -> cores\",\n",
    "    \"device\": \"cuda\",\n",
    "    \"lr\": 0.0001,\n",
    "    \"x_shape\": [2, 200],\n",
    "    \"n_shot\": 3,\n",
    "    \"n_query\": 2,\n",
    "    \"train_k_factor\": 3,\n",
    "    \"val_k_factor\": 2,\n",
    "    \"test_k_factor\": 2,\n",
    "    \"torch_default_dtype\": \"torch.float32\",\n",
    "    \"n_epoch\": 50,\n",
    "    \"patience\": 3,\n",
    "    \"criteria_for_best\": \"target_accuracy\",\n",
    "    \"x_net\": [\n",
    "        {\"class\": \"nnReshape\", \"kargs\": {\"shape\": [-1, 1, 2, 200]}},\n",
    "        {\n",
    "            \"class\": \"Conv2d\",\n",
    "            \"kargs\": {\n",
    "                \"in_channels\": 1,\n",
    "                \"out_channels\": 256,\n",
    "                \"kernel_size\": [1, 7],\n",
    "                \"bias\": False,\n",
    "                \"padding\": [0, 3],\n",
    "            },\n",
    "        },\n",
    "        {\"class\": \"ReLU\", \"kargs\": {\"inplace\": True}},\n",
    "        {\"class\": \"BatchNorm2d\", \"kargs\": {\"num_features\": 256}},\n",
    "        {\n",
    "            \"class\": \"Conv2d\",\n",
    "            \"kargs\": {\n",
    "                \"in_channels\": 256,\n",
    "                \"out_channels\": 80,\n",
    "                \"kernel_size\": [2, 7],\n",
    "                \"bias\": True,\n",
    "                \"padding\": [0, 3],\n",
    "            },\n",
    "        },\n",
    "        {\"class\": \"ReLU\", \"kargs\": {\"inplace\": True}},\n",
    "        {\"class\": \"BatchNorm2d\", \"kargs\": {\"num_features\": 80}},\n",
    "        {\"class\": \"Flatten\", \"kargs\": {}},\n",
    "        {\"class\": \"Linear\", \"kargs\": {\"in_features\": 16000, \"out_features\": 256}},\n",
    "        {\"class\": \"ReLU\", \"kargs\": {\"inplace\": True}},\n",
    "        {\"class\": \"BatchNorm1d\", \"kargs\": {\"num_features\": 256}},\n",
    "        {\"class\": \"Linear\", \"kargs\": {\"in_features\": 256, \"out_features\": 256}},\n",
    "    ],\n",
    "    \"NUM_LOGS_PER_EPOCH\": 10,\n",
    "    \"BEST_MODEL_PATH\": \"./best_model.pth\",\n",
    "    \"n_way\": 16,\n",
    "    \"datasets\": [\n",
    "        {\n",
    "            \"labels\": [\n",
    "                \"1-10.\",\n",
    "                \"1-11.\",\n",
    "                \"1-15.\",\n",
    "                \"1-16.\",\n",
    "                \"1-17.\",\n",
    "                \"1-18.\",\n",
    "                \"1-19.\",\n",
    "                \"10-4.\",\n",
    "                \"10-7.\",\n",
    "                \"11-1.\",\n",
    "                \"11-14.\",\n",
    "                \"11-17.\",\n",
    "                \"11-20.\",\n",
    "                \"11-7.\",\n",
    "                \"13-20.\",\n",
    "                \"13-8.\",\n",
    "                \"14-10.\",\n",
    "                \"14-11.\",\n",
    "                \"14-14.\",\n",
    "                \"14-7.\",\n",
    "                \"15-1.\",\n",
    "                \"15-20.\",\n",
    "                \"16-1.\",\n",
    "                \"16-16.\",\n",
    "                \"17-10.\",\n",
    "                \"17-11.\",\n",
    "                \"17-2.\",\n",
    "                \"19-1.\",\n",
    "                \"19-16.\",\n",
    "                \"19-19.\",\n",
    "                \"19-20.\",\n",
    "                \"19-3.\",\n",
    "                \"2-10.\",\n",
    "                \"2-11.\",\n",
    "                \"2-17.\",\n",
    "                \"2-18.\",\n",
    "                \"2-20.\",\n",
    "                \"2-3.\",\n",
    "                \"2-4.\",\n",
    "                \"2-5.\",\n",
    "                \"2-6.\",\n",
    "                \"2-7.\",\n",
    "                \"2-8.\",\n",
    "                \"3-13.\",\n",
    "                \"3-18.\",\n",
    "                \"3-3.\",\n",
    "                \"4-1.\",\n",
    "                \"4-10.\",\n",
    "                \"4-11.\",\n",
    "                \"4-19.\",\n",
    "                \"5-5.\",\n",
    "                \"6-15.\",\n",
    "                \"7-10.\",\n",
    "                \"7-14.\",\n",
    "                \"8-18.\",\n",
    "                \"8-20.\",\n",
    "                \"8-3.\",\n",
    "                \"8-8.\",\n",
    "            ],\n",
    "            \"domains\": [1, 2, 3, 4, 5],\n",
    "            \"num_examples_per_domain_per_label\": -1,\n",
    "            \"pickle_path\": \"/mnt/wd500GB/CSC500/csc500-main/datasets/cores.stratified_ds.2022A.pkl\",\n",
    "            \"source_or_target_dataset\": \"target\",\n",
    "            \"x_transforms\": [\"unit_mag\", \"take_200\"],\n",
    "            \"episode_transforms\": [],\n",
    "            \"domain_prefix\": \"C_\",\n",
    "        },\n",
    "        {\n",
    "            \"labels\": [\n",
    "                \"3123D52\",\n",
    "                \"3123D65\",\n",
    "                \"3123D79\",\n",
    "                \"3123D80\",\n",
    "                \"3123D54\",\n",
    "                \"3123D70\",\n",
    "                \"3123D7B\",\n",
    "                \"3123D89\",\n",
    "                \"3123D58\",\n",
    "                \"3123D76\",\n",
    "                \"3123D7D\",\n",
    "                \"3123EFE\",\n",
    "                \"3123D64\",\n",
    "                \"3123D78\",\n",
    "                \"3123D7E\",\n",
    "                \"3124E4A\",\n",
    "            ],\n",
    "            \"domains\": [32, 38, 8, 44, 14, 50, 20, 26],\n",
    "            \"num_examples_per_domain_per_label\": 2000,\n",
    "            \"pickle_path\": \"/mnt/wd500GB/CSC500/csc500-main/datasets/oracle.Run1_framed_2000Examples_stratified_ds.2022A.pkl\",\n",
    "            \"source_or_target_dataset\": \"source\",\n",
    "            \"x_transforms\": [\"unit_mag\", \"take_200\", \"resample_20Msps_to_25Msps\"],\n",
    "            \"episode_transforms\": [],\n",
    "            \"domain_prefix\": \"O_\",\n",
    "        },\n",
    "    ],\n",
    "    \"seed\": 420,\n",
    "    \"dataset_seed\": 420,\n",
    "}\n"
   ]
  },
  {
   "cell_type": "code",
   "execution_count": 5,
   "id": "8fa1cc33",
   "metadata": {
    "execution": {
     "iopub.execute_input": "2022-03-25T09:35:44.792246Z",
     "iopub.status.busy": "2022-03-25T09:35:44.791832Z",
     "iopub.status.idle": "2022-03-25T09:35:44.803172Z",
     "shell.execute_reply": "2022-03-25T09:35:44.803392Z"
    },
    "papermill": {
     "duration": 0.02706,
     "end_time": "2022-03-25T09:35:44.803463",
     "exception": false,
     "start_time": "2022-03-25T09:35:44.776403",
     "status": "completed"
    },
    "tags": []
   },
   "outputs": [],
   "source": [
    "# Set this to True if you want to run this template directly\n",
    "STANDALONE = False\n",
    "if STANDALONE:\n",
    "    print(\"parameters not injected, running with standalone_parameters\")\n",
    "    parameters = standalone_parameters\n",
    "\n",
    "if not 'parameters' in locals() and not 'parameters' in globals():\n",
    "    raise Exception(\"Parameter injection failed\")\n",
    "\n",
    "#Use an easy dict for all the parameters\n",
    "p = EasyDict(parameters)\n",
    "\n",
    "if \"x_shape\" not in p:\n",
    "    p.x_shape = [2,256] # Default to this if we dont supply x_shape\n",
    "\n",
    "\n",
    "supplied_keys = set(p.keys())\n",
    "\n",
    "if  supplied_keys != required_parameters:\n",
    "    print(\"Parameters are incorrect\")\n",
    "    if len(supplied_keys - required_parameters)>0: print(\"Shouldn't have:\", str(supplied_keys - required_parameters))\n",
    "    if len(required_parameters - supplied_keys)>0: print(\"Need to have:\", str(required_parameters - supplied_keys))\n",
    "    raise RuntimeError(\"Parameters are incorrect\")"
   ]
  },
  {
   "cell_type": "code",
   "execution_count": 6,
   "id": "3a028d58",
   "metadata": {
    "execution": {
     "iopub.execute_input": "2022-03-25T09:35:44.831526Z",
     "iopub.status.busy": "2022-03-25T09:35:44.831122Z",
     "iopub.status.idle": "2022-03-25T09:35:44.842153Z",
     "shell.execute_reply": "2022-03-25T09:35:44.842376Z"
    },
    "papermill": {
     "duration": 0.026082,
     "end_time": "2022-03-25T09:35:44.842448",
     "exception": false,
     "start_time": "2022-03-25T09:35:44.816366",
     "status": "completed"
    },
    "tags": []
   },
   "outputs": [],
   "source": [
    "###################################\n",
    "# Set the RNGs and make it all deterministic\n",
    "###################################\n",
    "np.random.seed(p.seed)\n",
    "random.seed(p.seed)\n",
    "torch.manual_seed(p.seed)\n",
    "\n",
    "torch.use_deterministic_algorithms(True) "
   ]
  },
  {
   "cell_type": "code",
   "execution_count": 7,
   "id": "b691acf6",
   "metadata": {
    "execution": {
     "iopub.execute_input": "2022-03-25T09:35:44.873621Z",
     "iopub.status.busy": "2022-03-25T09:35:44.873231Z",
     "iopub.status.idle": "2022-03-25T09:35:44.884422Z",
     "shell.execute_reply": "2022-03-25T09:35:44.884189Z"
    },
    "papermill": {
     "duration": 0.025645,
     "end_time": "2022-03-25T09:35:44.884479",
     "exception": false,
     "start_time": "2022-03-25T09:35:44.858834",
     "status": "completed"
    },
    "tags": []
   },
   "outputs": [],
   "source": [
    "###########################################\n",
    "# The stratified datasets honor this\n",
    "###########################################\n",
    "torch.set_default_dtype(eval(p.torch_default_dtype))"
   ]
  },
  {
   "cell_type": "code",
   "execution_count": 8,
   "id": "b5fba671",
   "metadata": {
    "execution": {
     "iopub.execute_input": "2022-03-25T09:35:44.912674Z",
     "iopub.status.busy": "2022-03-25T09:35:44.912270Z",
     "iopub.status.idle": "2022-03-25T09:35:44.944081Z",
     "shell.execute_reply": "2022-03-25T09:35:44.944302Z"
    },
    "papermill": {
     "duration": 0.04683,
     "end_time": "2022-03-25T09:35:44.944384",
     "exception": false,
     "start_time": "2022-03-25T09:35:44.897554",
     "status": "completed"
    },
    "tags": []
   },
   "outputs": [],
   "source": [
    "###################################\n",
    "# Build the network(s)\n",
    "# Note: It's critical to do this AFTER setting the RNG\n",
    "###################################\n",
    "x_net = build_sequential(p.x_net)"
   ]
  },
  {
   "cell_type": "code",
   "execution_count": 9,
   "id": "5d7e61cc",
   "metadata": {
    "execution": {
     "iopub.execute_input": "2022-03-25T09:35:44.973197Z",
     "iopub.status.busy": "2022-03-25T09:35:44.972798Z",
     "iopub.status.idle": "2022-03-25T09:35:44.984059Z",
     "shell.execute_reply": "2022-03-25T09:35:44.983823Z"
    },
    "papermill": {
     "duration": 0.026261,
     "end_time": "2022-03-25T09:35:44.984117",
     "exception": false,
     "start_time": "2022-03-25T09:35:44.957856",
     "status": "completed"
    },
    "tags": []
   },
   "outputs": [],
   "source": [
    "start_time_secs = time.time()"
   ]
  },
  {
   "cell_type": "code",
   "execution_count": 10,
   "id": "c6b67dfd",
   "metadata": {
    "execution": {
     "iopub.execute_input": "2022-03-25T09:35:45.013115Z",
     "iopub.status.busy": "2022-03-25T09:35:45.012710Z",
     "iopub.status.idle": "2022-03-25T09:35:45.023940Z",
     "shell.execute_reply": "2022-03-25T09:35:45.023703Z"
    },
    "papermill": {
     "duration": 0.026525,
     "end_time": "2022-03-25T09:35:45.023998",
     "exception": false,
     "start_time": "2022-03-25T09:35:44.997473",
     "status": "completed"
    },
    "tags": []
   },
   "outputs": [],
   "source": [
    "p.domains_source = []\n",
    "p.domains_target = []\n",
    "\n",
    "\n",
    "train_original_source = []\n",
    "val_original_source   = []\n",
    "test_original_source  = []\n",
    "\n",
    "train_original_target = []\n",
    "val_original_target   = []\n",
    "test_original_target  = []"
   ]
  },
  {
   "cell_type": "code",
   "execution_count": 11,
   "id": "e3d9c3d3",
   "metadata": {
    "execution": {
     "iopub.execute_input": "2022-03-25T09:35:45.052138Z",
     "iopub.status.busy": "2022-03-25T09:35:45.051745Z",
     "iopub.status.idle": "2022-03-25T09:35:45.062987Z",
     "shell.execute_reply": "2022-03-25T09:35:45.062717Z"
    },
    "papermill": {
     "duration": 0.025677,
     "end_time": "2022-03-25T09:35:45.063044",
     "exception": false,
     "start_time": "2022-03-25T09:35:45.037367",
     "status": "completed"
    },
    "tags": []
   },
   "outputs": [],
   "source": [
    "# global_x_transform_func = lambda x: normalize(x.to(torch.get_default_dtype()), \"unit_power\") # unit_power, unit_mag\n",
    "# global_x_transform_func = lambda x: normalize(x, \"unit_power\") # unit_power, unit_mag"
   ]
  },
  {
   "cell_type": "code",
   "execution_count": 12,
   "id": "acb78fd2",
   "metadata": {
    "execution": {
     "iopub.execute_input": "2022-03-25T09:35:45.097039Z",
     "iopub.status.busy": "2022-03-25T09:35:45.096626Z",
     "iopub.status.idle": "2022-03-25T09:35:45.109294Z",
     "shell.execute_reply": "2022-03-25T09:35:45.109515Z"
    },
    "papermill": {
     "duration": 0.030694,
     "end_time": "2022-03-25T09:35:45.109589",
     "exception": false,
     "start_time": "2022-03-25T09:35:45.078895",
     "status": "completed"
    },
    "tags": []
   },
   "outputs": [],
   "source": [
    "def add_dataset(\n",
    "    labels,\n",
    "    domains,\n",
    "    pickle_path,\n",
    "    x_transforms,\n",
    "    episode_transforms,\n",
    "    domain_prefix,\n",
    "    num_examples_per_domain_per_label,\n",
    "    source_or_target_dataset:str,\n",
    "    iterator_seed=p.seed,\n",
    "    dataset_seed=p.dataset_seed,\n",
    "    n_shot=p.n_shot,\n",
    "    n_way=p.n_way,\n",
    "    n_query=p.n_query,\n",
    "    train_val_test_k_factors=(p.train_k_factor,p.val_k_factor,p.test_k_factor),\n",
    "):\n",
    "   \n",
    "    if x_transforms == []: x_transform = None\n",
    "    else: x_transform = get_chained_transform(x_transforms)\n",
    "    \n",
    "    if episode_transforms == []: episode_transform = None\n",
    "    else: raise Exception(\"episode_transforms not implemented\")\n",
    "    \n",
    "    episode_transform = lambda tup, _prefix=domain_prefix: (_prefix + str(tup[0]), tup[1])\n",
    "\n",
    "\n",
    "    eaf = Episodic_Accessor_Factory(\n",
    "        labels=labels,\n",
    "        domains=domains,\n",
    "        num_examples_per_domain_per_label=num_examples_per_domain_per_label,\n",
    "        iterator_seed=iterator_seed,\n",
    "        dataset_seed=dataset_seed,\n",
    "        n_shot=n_shot,\n",
    "        n_way=n_way,\n",
    "        n_query=n_query,\n",
    "        train_val_test_k_factors=train_val_test_k_factors,\n",
    "        pickle_path=pickle_path,\n",
    "        x_transform_func=x_transform,\n",
    "    )\n",
    "\n",
    "    train, val, test = eaf.get_train(), eaf.get_val(), eaf.get_test()\n",
    "    train = Lazy_Iterable_Wrapper(train, episode_transform)\n",
    "    val = Lazy_Iterable_Wrapper(val, episode_transform)\n",
    "    test = Lazy_Iterable_Wrapper(test, episode_transform)\n",
    "\n",
    "    if source_or_target_dataset==\"source\":\n",
    "        train_original_source.append(train)\n",
    "        val_original_source.append(val)\n",
    "        test_original_source.append(test)\n",
    "\n",
    "        p.domains_source.extend(\n",
    "            [domain_prefix + str(u) for u in domains]\n",
    "        )\n",
    "    elif source_or_target_dataset==\"target\":\n",
    "        train_original_target.append(train)\n",
    "        val_original_target.append(val)\n",
    "        test_original_target.append(test)\n",
    "        p.domains_target.extend(\n",
    "            [domain_prefix + str(u) for u in domains]\n",
    "        )\n",
    "    else:\n",
    "        raise Exception(f\"invalid source_or_target_dataset: {source_or_target_dataset}\")\n",
    "    "
   ]
  },
  {
   "cell_type": "code",
   "execution_count": 13,
   "id": "fe266617",
   "metadata": {
    "execution": {
     "iopub.execute_input": "2022-03-25T09:35:45.138367Z",
     "iopub.status.busy": "2022-03-25T09:35:45.137947Z",
     "iopub.status.idle": "2022-03-25T09:36:34.356729Z",
     "shell.execute_reply": "2022-03-25T09:36:34.356251Z"
    },
    "papermill": {
     "duration": 49.233636,
     "end_time": "2022-03-25T09:36:34.356834",
     "exception": false,
     "start_time": "2022-03-25T09:35:45.123198",
     "status": "completed"
    },
    "tags": []
   },
   "outputs": [],
   "source": [
    "for ds in p.datasets:\n",
    "    add_dataset(**ds)"
   ]
  },
  {
   "cell_type": "code",
   "execution_count": 14,
   "id": "b90d65ac",
   "metadata": {
    "execution": {
     "iopub.execute_input": "2022-03-25T09:36:34.392166Z",
     "iopub.status.busy": "2022-03-25T09:36:34.391911Z",
     "iopub.status.idle": "2022-03-25T09:36:34.402981Z",
     "shell.execute_reply": "2022-03-25T09:36:34.402660Z"
    },
    "papermill": {
     "duration": 0.025586,
     "end_time": "2022-03-25T09:36:34.403057",
     "exception": false,
     "start_time": "2022-03-25T09:36:34.377471",
     "status": "completed"
    },
    "tags": []
   },
   "outputs": [],
   "source": [
    "# from steves_utils.CORES.utils import (\n",
    "#     ALL_NODES,\n",
    "#     ALL_NODES_MINIMUM_1000_EXAMPLES,\n",
    "#     ALL_DAYS\n",
    "# )\n",
    "\n",
    "# add_dataset(\n",
    "#     labels=ALL_NODES,\n",
    "#     domains = ALL_DAYS,\n",
    "#     num_examples_per_domain_per_label=100,\n",
    "#     pickle_path=os.path.join(get_datasets_base_path(), \"cores.stratified_ds.2022A.pkl\"),\n",
    "#     source_or_target_dataset=\"target\",\n",
    "#     x_transform_func=global_x_transform_func,\n",
    "#     domain_modifier=lambda u: f\"cores_{u}\"\n",
    "# )"
   ]
  },
  {
   "cell_type": "code",
   "execution_count": 15,
   "id": "76db484d",
   "metadata": {
    "execution": {
     "iopub.execute_input": "2022-03-25T09:36:34.434464Z",
     "iopub.status.busy": "2022-03-25T09:36:34.434215Z",
     "iopub.status.idle": "2022-03-25T09:36:34.448920Z",
     "shell.execute_reply": "2022-03-25T09:36:34.449297Z"
    },
    "papermill": {
     "duration": 0.030276,
     "end_time": "2022-03-25T09:36:34.449418",
     "exception": false,
     "start_time": "2022-03-25T09:36:34.419142",
     "status": "completed"
    },
    "tags": []
   },
   "outputs": [],
   "source": [
    "# from steves_utils.ORACLE.utils_v2 import (\n",
    "#     ALL_DISTANCES_FEET,\n",
    "#     ALL_RUNS,\n",
    "#     ALL_SERIAL_NUMBERS,\n",
    "# )\n",
    "\n",
    "\n",
    "# add_dataset(\n",
    "#     labels=ALL_SERIAL_NUMBERS,\n",
    "#     domains = list(set(ALL_DISTANCES_FEET) - {2,62}),\n",
    "#     num_examples_per_domain_per_label=100,\n",
    "#     pickle_path=os.path.join(get_datasets_base_path(), \"oracle.Run2_framed_2000Examples_stratified_ds.2022A.pkl\"),\n",
    "#     source_or_target_dataset=\"source\",\n",
    "#     x_transform_func=global_x_transform_func,\n",
    "#     domain_modifier=lambda u: f\"oracle1_{u}\"\n",
    "# )\n"
   ]
  },
  {
   "cell_type": "code",
   "execution_count": 16,
   "id": "97dea9d2",
   "metadata": {
    "execution": {
     "iopub.execute_input": "2022-03-25T09:36:34.483436Z",
     "iopub.status.busy": "2022-03-25T09:36:34.483188Z",
     "iopub.status.idle": "2022-03-25T09:36:34.499016Z",
     "shell.execute_reply": "2022-03-25T09:36:34.499411Z"
    },
    "papermill": {
     "duration": 0.031207,
     "end_time": "2022-03-25T09:36:34.499533",
     "exception": false,
     "start_time": "2022-03-25T09:36:34.468326",
     "status": "completed"
    },
    "tags": []
   },
   "outputs": [],
   "source": [
    "# from steves_utils.ORACLE.utils_v2 import (\n",
    "#     ALL_DISTANCES_FEET,\n",
    "#     ALL_RUNS,\n",
    "#     ALL_SERIAL_NUMBERS,\n",
    "# )\n",
    "\n",
    "\n",
    "# add_dataset(\n",
    "#     labels=ALL_SERIAL_NUMBERS,\n",
    "#     domains = list(set(ALL_DISTANCES_FEET) - {2,62,56}),\n",
    "#     num_examples_per_domain_per_label=100,\n",
    "#     pickle_path=os.path.join(get_datasets_base_path(), \"oracle.Run2_framed_2000Examples_stratified_ds.2022A.pkl\"),\n",
    "#     source_or_target_dataset=\"source\",\n",
    "#     x_transform_func=global_x_transform_func,\n",
    "#     domain_modifier=lambda u: f\"oracle2_{u}\"\n",
    "# )"
   ]
  },
  {
   "cell_type": "code",
   "execution_count": 17,
   "id": "6f289866",
   "metadata": {
    "execution": {
     "iopub.execute_input": "2022-03-25T09:36:34.533608Z",
     "iopub.status.busy": "2022-03-25T09:36:34.533364Z",
     "iopub.status.idle": "2022-03-25T09:36:34.548516Z",
     "shell.execute_reply": "2022-03-25T09:36:34.548100Z"
    },
    "papermill": {
     "duration": 0.030099,
     "end_time": "2022-03-25T09:36:34.548614",
     "exception": false,
     "start_time": "2022-03-25T09:36:34.518515",
     "status": "completed"
    },
    "tags": []
   },
   "outputs": [],
   "source": [
    "# add_dataset(\n",
    "#     labels=list(range(19)),\n",
    "#     domains = [0,1,2],\n",
    "#     num_examples_per_domain_per_label=100,\n",
    "#     pickle_path=os.path.join(get_datasets_base_path(), \"metehan.stratified_ds.2022A.pkl\"),\n",
    "#     source_or_target_dataset=\"target\",\n",
    "#     x_transform_func=global_x_transform_func,\n",
    "#     domain_modifier=lambda u: f\"met_{u}\"\n",
    "# )"
   ]
  },
  {
   "cell_type": "code",
   "execution_count": 18,
   "id": "86a863c3",
   "metadata": {
    "execution": {
     "iopub.execute_input": "2022-03-25T09:36:34.582557Z",
     "iopub.status.busy": "2022-03-25T09:36:34.582308Z",
     "iopub.status.idle": "2022-03-25T09:36:34.598269Z",
     "shell.execute_reply": "2022-03-25T09:36:34.598665Z"
    },
    "papermill": {
     "duration": 0.0318,
     "end_time": "2022-03-25T09:36:34.598781",
     "exception": false,
     "start_time": "2022-03-25T09:36:34.566981",
     "status": "completed"
    },
    "tags": []
   },
   "outputs": [],
   "source": [
    "# # from steves_utils.wisig.utils import (\n",
    "# #     ALL_NODES_MINIMUM_100_EXAMPLES,\n",
    "# #     ALL_NODES_MINIMUM_500_EXAMPLES,\n",
    "# #     ALL_NODES_MINIMUM_1000_EXAMPLES,\n",
    "# #     ALL_DAYS\n",
    "# # )\n",
    "\n",
    "# import steves_utils.wisig.utils as wisig\n",
    "\n",
    "\n",
    "# add_dataset(\n",
    "#     labels=wisig.ALL_NODES_MINIMUM_100_EXAMPLES,\n",
    "#     domains = wisig.ALL_DAYS,\n",
    "#     num_examples_per_domain_per_label=100,\n",
    "#     pickle_path=os.path.join(get_datasets_base_path(), \"wisig.node3-19.stratified_ds.2022A.pkl\"),\n",
    "#     source_or_target_dataset=\"target\",\n",
    "#     x_transform_func=global_x_transform_func,\n",
    "#     domain_modifier=lambda u: f\"wisig_{u}\"\n",
    "# )"
   ]
  },
  {
   "cell_type": "code",
   "execution_count": 19,
   "id": "fd5442bc",
   "metadata": {
    "execution": {
     "iopub.execute_input": "2022-03-25T09:36:34.637065Z",
     "iopub.status.busy": "2022-03-25T09:36:34.636777Z",
     "iopub.status.idle": "2022-03-25T09:36:34.652650Z",
     "shell.execute_reply": "2022-03-25T09:36:34.653045Z"
    },
    "papermill": {
     "duration": 0.034872,
     "end_time": "2022-03-25T09:36:34.653164",
     "exception": false,
     "start_time": "2022-03-25T09:36:34.618292",
     "status": "completed"
    },
    "tags": []
   },
   "outputs": [],
   "source": [
    "###################################\n",
    "# Build the dataset\n",
    "###################################\n",
    "train_original_source = Iterable_Aggregator(train_original_source, p.seed)\n",
    "val_original_source = Iterable_Aggregator(val_original_source, p.seed)\n",
    "test_original_source = Iterable_Aggregator(test_original_source, p.seed)\n",
    "\n",
    "\n",
    "train_original_target = Iterable_Aggregator(train_original_target, p.seed)\n",
    "val_original_target = Iterable_Aggregator(val_original_target, p.seed)\n",
    "test_original_target = Iterable_Aggregator(test_original_target, p.seed)\n",
    "\n",
    "# For CNN We only use X and Y. And we only train on the source.\n",
    "# Properly form the data using a transform lambda and Lazy_Iterable_Wrapper. Finally wrap them in a dataloader\n",
    "\n",
    "transform_lambda = lambda ex: ex[1] # Original is (<domain>, <episode>) so we strip down to episode only\n",
    "\n",
    "train_processed_source = Lazy_Iterable_Wrapper(train_original_source, transform_lambda)\n",
    "val_processed_source   = Lazy_Iterable_Wrapper(val_original_source, transform_lambda)\n",
    "test_processed_source  = Lazy_Iterable_Wrapper(test_original_source, transform_lambda)\n",
    "\n",
    "train_processed_target = Lazy_Iterable_Wrapper(train_original_target, transform_lambda)\n",
    "val_processed_target   = Lazy_Iterable_Wrapper(val_original_target, transform_lambda)\n",
    "test_processed_target  = Lazy_Iterable_Wrapper(test_original_target, transform_lambda)\n",
    "\n",
    "datasets = EasyDict({\n",
    "    \"source\": {\n",
    "        \"original\": {\"train\":train_original_source, \"val\":val_original_source, \"test\":test_original_source},\n",
    "        \"processed\": {\"train\":train_processed_source, \"val\":val_processed_source, \"test\":test_processed_source}\n",
    "    },\n",
    "    \"target\": {\n",
    "        \"original\": {\"train\":train_original_target, \"val\":val_original_target, \"test\":test_original_target},\n",
    "        \"processed\": {\"train\":train_processed_target, \"val\":val_processed_target, \"test\":test_processed_target}\n",
    "    },\n",
    "})"
   ]
  },
  {
   "cell_type": "code",
   "execution_count": 20,
   "id": "5b3c01fc",
   "metadata": {
    "execution": {
     "iopub.execute_input": "2022-03-25T09:36:34.688150Z",
     "iopub.status.busy": "2022-03-25T09:36:34.687902Z",
     "iopub.status.idle": "2022-03-25T09:36:41.003801Z",
     "shell.execute_reply": "2022-03-25T09:36:41.004057Z"
    },
    "papermill": {
     "duration": 6.33263,
     "end_time": "2022-03-25T09:36:41.004135",
     "exception": false,
     "start_time": "2022-03-25T09:36:34.671505",
     "status": "completed"
    },
    "tags": []
   },
   "outputs": [
    {
     "name": "stdout",
     "output_type": "stream",
     "text": [
      "{'O_8', 'O_26', 'O_44', 'O_32', 'O_20', 'O_14', 'O_50', 'O_38'}\n"
     ]
    },
    {
     "name": "stdout",
     "output_type": "stream",
     "text": [
      "{'C_5', 'C_3', 'C_1', 'C_4', 'C_2'}\n"
     ]
    },
    {
     "name": "stdout",
     "output_type": "stream",
     "text": [
      "tensor([[[ 0.6771,  0.6049, -0.6388,  ...,  0.1252, -1.1136,  0.0521],\n",
      "         [ 0.1621,  1.3147,  0.4124,  ...,  0.8546,  0.6386,  0.8458]],\n",
      "\n",
      "        [[-0.6997,  0.2883,  0.8559,  ...,  0.5130,  1.2371,  0.6823],\n",
      "         [-0.5248, -1.3202,  0.2191,  ..., -0.5431,  0.3696, -0.6693]],\n",
      "\n",
      "        [[-0.0389,  1.1807,  0.4981,  ...,  0.8179,  0.4623,  0.8006],\n",
      "         [-0.6127, -0.4203,  0.7069,  ...,  0.0047,  1.1766,  0.0143]],\n",
      "\n",
      "        ...,\n",
      "\n",
      "        [[ 0.7358,  0.4660, -0.7318,  ..., -0.0115, -1.2610, -0.1188],\n",
      "         [ 0.1727,  1.1991,  0.2903,  ...,  0.8442,  0.6025,  1.0250]],\n",
      "\n",
      "        [[ 0.9985,  0.7848, -1.0215,  ..., -0.1714, -0.3680,  1.0334],\n",
      "         [ 0.1019,  0.8947,  0.2864,  ...,  0.9916,  0.8126,  0.6934]],\n",
      "\n",
      "        [[ 0.8913,  0.9787, -0.7169,  ...,  0.5588,  0.5193,  1.2103],\n",
      "         [-0.7172,  0.1559,  1.1444,  ...,  1.0353,  0.5671, -0.4114]]])\n"
     ]
    }
   ],
   "source": [
    "from steves_utils.transforms import get_average_magnitude, get_average_power\n",
    "\n",
    "print(set([u for u,_ in val_original_source]))\n",
    "print(set([u for u,_ in val_original_target]))\n",
    "\n",
    "s_x, s_y, q_x, q_y, _ = next(iter(train_processed_source))\n",
    "print(s_x)\n",
    "\n",
    "# for ds in [\n",
    "#     train_processed_source,\n",
    "#     val_processed_source,\n",
    "#     test_processed_source,\n",
    "#     train_processed_target,\n",
    "#     val_processed_target,\n",
    "#     test_processed_target\n",
    "# ]:\n",
    "#     for s_x, s_y, q_x, q_y, _ in ds:\n",
    "#         for X in (s_x, q_x):\n",
    "#             for x in X:\n",
    "#                 assert np.isclose(get_average_magnitude(x.numpy()), 1.0)\n",
    "#                 assert np.isclose(get_average_power(x.numpy()), 1.0)\n",
    "                "
   ]
  },
  {
   "cell_type": "code",
   "execution_count": 21,
   "id": "bbdacba1",
   "metadata": {
    "execution": {
     "iopub.execute_input": "2022-03-25T09:36:41.043035Z",
     "iopub.status.busy": "2022-03-25T09:36:41.038370Z",
     "iopub.status.idle": "2022-03-25T09:36:41.087552Z",
     "shell.execute_reply": "2022-03-25T09:36:41.087089Z"
    },
    "papermill": {
     "duration": 0.068794,
     "end_time": "2022-03-25T09:36:41.087657",
     "exception": false,
     "start_time": "2022-03-25T09:36:41.018863",
     "status": "completed"
    },
    "tags": []
   },
   "outputs": [
    {
     "name": "stdout",
     "output_type": "stream",
     "text": [
      "(2, 200)\n"
     ]
    }
   ],
   "source": [
    "###################################\n",
    "# Build the model\n",
    "###################################\n",
    "# easfsl only wants a tuple for the shape\n",
    "model = Steves_Prototypical_Network(x_net, device=p.device, x_shape=tuple(p.x_shape))\n",
    "optimizer = Adam(params=model.parameters(), lr=p.lr)"
   ]
  },
  {
   "cell_type": "code",
   "execution_count": 22,
   "id": "22b39ac5",
   "metadata": {
    "execution": {
     "iopub.execute_input": "2022-03-25T09:36:41.125755Z",
     "iopub.status.busy": "2022-03-25T09:36:41.125389Z",
     "iopub.status.idle": "2022-03-25T10:14:51.345847Z",
     "shell.execute_reply": "2022-03-25T10:14:51.345599Z"
    },
    "papermill": {
     "duration": 2290.237863,
     "end_time": "2022-03-25T10:14:51.345908",
     "exception": false,
     "start_time": "2022-03-25T09:36:41.108045",
     "status": "completed"
    },
    "tags": []
   },
   "outputs": [
    {
     "name": "stdout",
     "output_type": "stream",
     "text": [
      "epoch: 1, [batch: 1 / 6720], examples_per_second: 48.4530, train_label_loss: 3.0260, \n"
     ]
    },
    {
     "name": "stdout",
     "output_type": "stream",
     "text": [
      "epoch: 1, [batch: 672 / 6720], examples_per_second: 3642.6094, train_label_loss: 1.2497, \n"
     ]
    },
    {
     "name": "stdout",
     "output_type": "stream",
     "text": [
      "epoch: 1, [batch: 1344 / 6720], examples_per_second: 3663.5280, train_label_loss: 1.1374, \n"
     ]
    },
    {
     "name": "stdout",
     "output_type": "stream",
     "text": [
      "epoch: 1, [batch: 2016 / 6720], examples_per_second: 3644.3398, train_label_loss: 1.1968, \n"
     ]
    },
    {
     "name": "stdout",
     "output_type": "stream",
     "text": [
      "epoch: 1, [batch: 2688 / 6720], examples_per_second: 3638.9121, train_label_loss: 0.9034, \n"
     ]
    },
    {
     "name": "stdout",
     "output_type": "stream",
     "text": [
      "epoch: 1, [batch: 3360 / 6720], examples_per_second: 3647.7718, train_label_loss: 1.0103, \n"
     ]
    },
    {
     "name": "stdout",
     "output_type": "stream",
     "text": [
      "epoch: 1, [batch: 4032 / 6720], examples_per_second: 3636.6913, train_label_loss: 1.0238, \n"
     ]
    },
    {
     "name": "stdout",
     "output_type": "stream",
     "text": [
      "epoch: 1, [batch: 4704 / 6720], examples_per_second: 3615.8405, train_label_loss: 0.7759, \n"
     ]
    },
    {
     "name": "stdout",
     "output_type": "stream",
     "text": [
      "epoch: 1, [batch: 5376 / 6720], examples_per_second: 3641.7774, train_label_loss: 1.5270, \n"
     ]
    },
    {
     "name": "stdout",
     "output_type": "stream",
     "text": [
      "epoch: 1, [batch: 6048 / 6720], examples_per_second: 3633.1705, train_label_loss: 0.6569, \n"
     ]
    },
    {
     "name": "stdout",
     "output_type": "stream",
     "text": [
      "=============================================================\n",
      "epoch: 1, source_val_acc_label: 0.6872, target_val_acc_label: 0.4497, source_val_label_loss: 9.3789, target_val_label_loss: 2186.7937, \n",
      "=============================================================\n"
     ]
    },
    {
     "name": "stdout",
     "output_type": "stream",
     "text": [
      "New best\n"
     ]
    },
    {
     "name": "stdout",
     "output_type": "stream",
     "text": [
      "epoch: 2, [batch: 1 / 6720], examples_per_second: 5.2447, train_label_loss: 1.3254, \n"
     ]
    },
    {
     "name": "stdout",
     "output_type": "stream",
     "text": [
      "epoch: 2, [batch: 672 / 6720], examples_per_second: 3619.9631, train_label_loss: 1.0862, \n"
     ]
    },
    {
     "name": "stdout",
     "output_type": "stream",
     "text": [
      "epoch: 2, [batch: 1344 / 6720], examples_per_second: 3623.4401, train_label_loss: 0.8669, \n"
     ]
    },
    {
     "name": "stdout",
     "output_type": "stream",
     "text": [
      "epoch: 2, [batch: 2016 / 6720], examples_per_second: 3642.0346, train_label_loss: 0.9204, \n"
     ]
    },
    {
     "name": "stdout",
     "output_type": "stream",
     "text": [
      "epoch: 2, [batch: 2688 / 6720], examples_per_second: 3629.9965, train_label_loss: 0.8509, \n"
     ]
    },
    {
     "name": "stdout",
     "output_type": "stream",
     "text": [
      "epoch: 2, [batch: 3360 / 6720], examples_per_second: 3640.6331, train_label_loss: 0.7381, \n"
     ]
    },
    {
     "name": "stdout",
     "output_type": "stream",
     "text": [
      "epoch: 2, [batch: 4032 / 6720], examples_per_second: 3639.0050, train_label_loss: 0.5970, \n"
     ]
    },
    {
     "name": "stdout",
     "output_type": "stream",
     "text": [
      "epoch: 2, [batch: 4704 / 6720], examples_per_second: 3625.2668, train_label_loss: 0.8624, \n"
     ]
    },
    {
     "name": "stdout",
     "output_type": "stream",
     "text": [
      "epoch: 2, [batch: 5376 / 6720], examples_per_second: 3645.6884, train_label_loss: 1.1326, \n"
     ]
    },
    {
     "name": "stdout",
     "output_type": "stream",
     "text": [
      "epoch: 2, [batch: 6048 / 6720], examples_per_second: 3637.8888, train_label_loss: 0.4752, \n"
     ]
    },
    {
     "name": "stdout",
     "output_type": "stream",
     "text": [
      "=============================================================\n",
      "epoch: 2, source_val_acc_label: 0.7354, target_val_acc_label: 0.6608, source_val_label_loss: 0.7190, target_val_label_loss: 90.5121, \n",
      "=============================================================\n"
     ]
    },
    {
     "name": "stdout",
     "output_type": "stream",
     "text": [
      "New best\n"
     ]
    },
    {
     "name": "stdout",
     "output_type": "stream",
     "text": [
      "epoch: 3, [batch: 1 / 6720], examples_per_second: 5.2283, train_label_loss: 0.4704, \n"
     ]
    },
    {
     "name": "stdout",
     "output_type": "stream",
     "text": [
      "epoch: 3, [batch: 672 / 6720], examples_per_second: 3604.8873, train_label_loss: 0.7772, \n"
     ]
    },
    {
     "name": "stdout",
     "output_type": "stream",
     "text": [
      "epoch: 3, [batch: 1344 / 6720], examples_per_second: 3612.3451, train_label_loss: 1.0618, \n"
     ]
    },
    {
     "name": "stdout",
     "output_type": "stream",
     "text": [
      "epoch: 3, [batch: 2016 / 6720], examples_per_second: 3644.4731, train_label_loss: 0.6208, \n"
     ]
    },
    {
     "name": "stdout",
     "output_type": "stream",
     "text": [
      "epoch: 3, [batch: 2688 / 6720], examples_per_second: 3625.1548, train_label_loss: 0.5768, \n"
     ]
    },
    {
     "name": "stdout",
     "output_type": "stream",
     "text": [
      "epoch: 3, [batch: 3360 / 6720], examples_per_second: 3640.0393, train_label_loss: 0.7054, \n"
     ]
    },
    {
     "name": "stdout",
     "output_type": "stream",
     "text": [
      "epoch: 3, [batch: 4032 / 6720], examples_per_second: 3636.3190, train_label_loss: 0.4113, \n"
     ]
    },
    {
     "name": "stdout",
     "output_type": "stream",
     "text": [
      "epoch: 3, [batch: 4704 / 6720], examples_per_second: 3600.8738, train_label_loss: 0.6215, \n"
     ]
    },
    {
     "name": "stdout",
     "output_type": "stream",
     "text": [
      "epoch: 3, [batch: 5376 / 6720], examples_per_second: 3644.9106, train_label_loss: 0.5176, \n"
     ]
    },
    {
     "name": "stdout",
     "output_type": "stream",
     "text": [
      "epoch: 3, [batch: 6048 / 6720], examples_per_second: 3647.0177, train_label_loss: 0.4136, \n"
     ]
    },
    {
     "name": "stdout",
     "output_type": "stream",
     "text": [
      "=============================================================\n",
      "epoch: 3, source_val_acc_label: 0.7915, target_val_acc_label: 0.6412, source_val_label_loss: 0.5856, target_val_label_loss: 133.9307, \n",
      "=============================================================\n"
     ]
    },
    {
     "name": "stdout",
     "output_type": "stream",
     "text": [
      "epoch: 4, [batch: 1 / 6720], examples_per_second: 5.2398, train_label_loss: 0.5130, \n"
     ]
    },
    {
     "name": "stdout",
     "output_type": "stream",
     "text": [
      "epoch: 4, [batch: 672 / 6720], examples_per_second: 3631.2581, train_label_loss: 0.6958, \n"
     ]
    },
    {
     "name": "stdout",
     "output_type": "stream",
     "text": [
      "epoch: 4, [batch: 1344 / 6720], examples_per_second: 3650.9019, train_label_loss: 0.2770, \n"
     ]
    },
    {
     "name": "stdout",
     "output_type": "stream",
     "text": [
      "epoch: 4, [batch: 2016 / 6720], examples_per_second: 3648.3496, train_label_loss: 0.4266, \n"
     ]
    },
    {
     "name": "stdout",
     "output_type": "stream",
     "text": [
      "epoch: 4, [batch: 2688 / 6720], examples_per_second: 3615.8345, train_label_loss: 0.7588, \n"
     ]
    },
    {
     "name": "stdout",
     "output_type": "stream",
     "text": [
      "epoch: 4, [batch: 3360 / 6720], examples_per_second: 3645.8749, train_label_loss: 0.8949, \n"
     ]
    },
    {
     "name": "stdout",
     "output_type": "stream",
     "text": [
      "epoch: 4, [batch: 4032 / 6720], examples_per_second: 3658.4211, train_label_loss: 0.3996, \n"
     ]
    },
    {
     "name": "stdout",
     "output_type": "stream",
     "text": [
      "epoch: 4, [batch: 4704 / 6720], examples_per_second: 3627.4518, train_label_loss: 0.5719, \n"
     ]
    },
    {
     "name": "stdout",
     "output_type": "stream",
     "text": [
      "epoch: 4, [batch: 5376 / 6720], examples_per_second: 3661.4031, train_label_loss: 0.6182, \n"
     ]
    },
    {
     "name": "stdout",
     "output_type": "stream",
     "text": [
      "epoch: 4, [batch: 6048 / 6720], examples_per_second: 3648.2043, train_label_loss: 0.4982, \n"
     ]
    },
    {
     "name": "stdout",
     "output_type": "stream",
     "text": [
      "=============================================================\n",
      "epoch: 4, source_val_acc_label: 0.7858, target_val_acc_label: 0.6855, source_val_label_loss: 0.5820, target_val_label_loss: 107.2168, \n",
      "=============================================================\n"
     ]
    },
    {
     "name": "stdout",
     "output_type": "stream",
     "text": [
      "New best\n"
     ]
    },
    {
     "name": "stdout",
     "output_type": "stream",
     "text": [
      "epoch: 5, [batch: 1 / 6720], examples_per_second: 5.2764, train_label_loss: 0.4466, \n"
     ]
    },
    {
     "name": "stdout",
     "output_type": "stream",
     "text": [
      "epoch: 5, [batch: 672 / 6720], examples_per_second: 3646.9105, train_label_loss: 0.9272, \n"
     ]
    },
    {
     "name": "stdout",
     "output_type": "stream",
     "text": [
      "epoch: 5, [batch: 1344 / 6720], examples_per_second: 3648.8907, train_label_loss: 0.5483, \n"
     ]
    },
    {
     "name": "stdout",
     "output_type": "stream",
     "text": [
      "epoch: 5, [batch: 2016 / 6720], examples_per_second: 3649.4282, train_label_loss: 0.3389, \n"
     ]
    },
    {
     "name": "stdout",
     "output_type": "stream",
     "text": [
      "epoch: 5, [batch: 2688 / 6720], examples_per_second: 3629.0948, train_label_loss: 1.0753, \n"
     ]
    },
    {
     "name": "stdout",
     "output_type": "stream",
     "text": [
      "epoch: 5, [batch: 3360 / 6720], examples_per_second: 3652.4267, train_label_loss: 0.3395, \n"
     ]
    },
    {
     "name": "stdout",
     "output_type": "stream",
     "text": [
      "epoch: 5, [batch: 4032 / 6720], examples_per_second: 3641.9671, train_label_loss: 0.4265, \n"
     ]
    },
    {
     "name": "stdout",
     "output_type": "stream",
     "text": [
      "epoch: 5, [batch: 4704 / 6720], examples_per_second: 3629.7553, train_label_loss: 0.4757, \n"
     ]
    },
    {
     "name": "stdout",
     "output_type": "stream",
     "text": [
      "epoch: 5, [batch: 5376 / 6720], examples_per_second: 3644.1933, train_label_loss: 0.4271, \n"
     ]
    },
    {
     "name": "stdout",
     "output_type": "stream",
     "text": [
      "epoch: 5, [batch: 6048 / 6720], examples_per_second: 3638.3200, train_label_loss: 0.2123, \n"
     ]
    },
    {
     "name": "stdout",
     "output_type": "stream",
     "text": [
      "=============================================================\n",
      "epoch: 5, source_val_acc_label: 0.8308, target_val_acc_label: 0.6746, source_val_label_loss: 0.4775, target_val_label_loss: 149.4437, \n",
      "=============================================================\n"
     ]
    },
    {
     "name": "stdout",
     "output_type": "stream",
     "text": [
      "epoch: 6, [batch: 1 / 6720], examples_per_second: 5.2851, train_label_loss: 0.1460, \n"
     ]
    },
    {
     "name": "stdout",
     "output_type": "stream",
     "text": [
      "epoch: 6, [batch: 672 / 6720], examples_per_second: 3627.3360, train_label_loss: 0.3153, \n"
     ]
    },
    {
     "name": "stdout",
     "output_type": "stream",
     "text": [
      "epoch: 6, [batch: 1344 / 6720], examples_per_second: 3643.1693, train_label_loss: 0.6532, \n"
     ]
    },
    {
     "name": "stdout",
     "output_type": "stream",
     "text": [
      "epoch: 6, [batch: 2016 / 6720], examples_per_second: 3651.3601, train_label_loss: 0.8308, \n"
     ]
    },
    {
     "name": "stdout",
     "output_type": "stream",
     "text": [
      "epoch: 6, [batch: 2688 / 6720], examples_per_second: 3618.9413, train_label_loss: 0.1840, \n"
     ]
    },
    {
     "name": "stdout",
     "output_type": "stream",
     "text": [
      "epoch: 6, [batch: 3360 / 6720], examples_per_second: 3604.8621, train_label_loss: 0.2402, \n"
     ]
    },
    {
     "name": "stdout",
     "output_type": "stream",
     "text": [
      "epoch: 6, [batch: 4032 / 6720], examples_per_second: 3588.8370, train_label_loss: 0.4182, \n"
     ]
    },
    {
     "name": "stdout",
     "output_type": "stream",
     "text": [
      "epoch: 6, [batch: 4704 / 6720], examples_per_second: 3585.3280, train_label_loss: 0.6233, \n"
     ]
    },
    {
     "name": "stdout",
     "output_type": "stream",
     "text": [
      "epoch: 6, [batch: 5376 / 6720], examples_per_second: 3637.1970, train_label_loss: 0.9558, \n"
     ]
    },
    {
     "name": "stdout",
     "output_type": "stream",
     "text": [
      "epoch: 6, [batch: 6048 / 6720], examples_per_second: 3658.3453, train_label_loss: 0.8609, \n"
     ]
    },
    {
     "name": "stdout",
     "output_type": "stream",
     "text": [
      "=============================================================\n",
      "epoch: 6, source_val_acc_label: 0.8444, target_val_acc_label: 0.6804, source_val_label_loss: 0.4437, target_val_label_loss: 149.0600, \n",
      "=============================================================\n"
     ]
    },
    {
     "name": "stdout",
     "output_type": "stream",
     "text": [
      "epoch: 7, [batch: 1 / 6720], examples_per_second: 5.2730, train_label_loss: 0.2038, \n"
     ]
    },
    {
     "name": "stdout",
     "output_type": "stream",
     "text": [
      "epoch: 7, [batch: 672 / 6720], examples_per_second: 3586.1930, train_label_loss: 0.8596, \n"
     ]
    },
    {
     "name": "stdout",
     "output_type": "stream",
     "text": [
      "epoch: 7, [batch: 1344 / 6720], examples_per_second: 3651.6705, train_label_loss: 0.2427, \n"
     ]
    },
    {
     "name": "stdout",
     "output_type": "stream",
     "text": [
      "epoch: 7, [batch: 2016 / 6720], examples_per_second: 3630.3778, train_label_loss: 0.3040, \n"
     ]
    },
    {
     "name": "stdout",
     "output_type": "stream",
     "text": [
      "epoch: 7, [batch: 2688 / 6720], examples_per_second: 3616.8301, train_label_loss: 0.2797, \n"
     ]
    },
    {
     "name": "stdout",
     "output_type": "stream",
     "text": [
      "epoch: 7, [batch: 3360 / 6720], examples_per_second: 3644.3592, train_label_loss: 0.2424, \n"
     ]
    },
    {
     "name": "stdout",
     "output_type": "stream",
     "text": [
      "epoch: 7, [batch: 4032 / 6720], examples_per_second: 3645.7410, train_label_loss: 0.3658, \n"
     ]
    },
    {
     "name": "stdout",
     "output_type": "stream",
     "text": [
      "epoch: 7, [batch: 4704 / 6720], examples_per_second: 3623.1202, train_label_loss: 0.8086, \n"
     ]
    },
    {
     "name": "stdout",
     "output_type": "stream",
     "text": [
      "epoch: 7, [batch: 5376 / 6720], examples_per_second: 3632.3182, train_label_loss: 0.4364, \n"
     ]
    },
    {
     "name": "stdout",
     "output_type": "stream",
     "text": [
      "epoch: 7, [batch: 6048 / 6720], examples_per_second: 3640.6809, train_label_loss: 0.5719, \n"
     ]
    },
    {
     "name": "stdout",
     "output_type": "stream",
     "text": [
      "=============================================================\n",
      "epoch: 7, source_val_acc_label: 0.8330, target_val_acc_label: 0.6939, source_val_label_loss: 0.4546, target_val_label_loss: 128.9844, \n",
      "=============================================================\n"
     ]
    },
    {
     "name": "stdout",
     "output_type": "stream",
     "text": [
      "New best\n"
     ]
    },
    {
     "name": "stdout",
     "output_type": "stream",
     "text": [
      "epoch: 8, [batch: 1 / 6720], examples_per_second: 5.2671, train_label_loss: 0.2555, \n"
     ]
    },
    {
     "name": "stdout",
     "output_type": "stream",
     "text": [
      "epoch: 8, [batch: 672 / 6720], examples_per_second: 3593.9246, train_label_loss: 0.2225, \n"
     ]
    },
    {
     "name": "stdout",
     "output_type": "stream",
     "text": [
      "epoch: 8, [batch: 1344 / 6720], examples_per_second: 3617.1014, train_label_loss: 0.1977, \n"
     ]
    },
    {
     "name": "stdout",
     "output_type": "stream",
     "text": [
      "epoch: 8, [batch: 2016 / 6720], examples_per_second: 3612.1488, train_label_loss: 0.3766, \n"
     ]
    },
    {
     "name": "stdout",
     "output_type": "stream",
     "text": [
      "epoch: 8, [batch: 2688 / 6720], examples_per_second: 3596.0587, train_label_loss: 0.1038, \n"
     ]
    },
    {
     "name": "stdout",
     "output_type": "stream",
     "text": [
      "epoch: 8, [batch: 3360 / 6720], examples_per_second: 3638.5125, train_label_loss: 0.3970, \n"
     ]
    },
    {
     "name": "stdout",
     "output_type": "stream",
     "text": [
      "epoch: 8, [batch: 4032 / 6720], examples_per_second: 3633.2386, train_label_loss: 0.1575, \n"
     ]
    },
    {
     "name": "stdout",
     "output_type": "stream",
     "text": [
      "epoch: 8, [batch: 4704 / 6720], examples_per_second: 3629.6857, train_label_loss: 0.6182, \n"
     ]
    },
    {
     "name": "stdout",
     "output_type": "stream",
     "text": [
      "epoch: 8, [batch: 5376 / 6720], examples_per_second: 3644.7635, train_label_loss: 0.0863, \n"
     ]
    },
    {
     "name": "stdout",
     "output_type": "stream",
     "text": [
      "epoch: 8, [batch: 6048 / 6720], examples_per_second: 3637.1267, train_label_loss: 0.1974, \n"
     ]
    },
    {
     "name": "stdout",
     "output_type": "stream",
     "text": [
      "=============================================================\n",
      "epoch: 8, source_val_acc_label: 0.8454, target_val_acc_label: 0.7124, source_val_label_loss: 0.4232, target_val_label_loss: 131.4773, \n",
      "=============================================================\n"
     ]
    },
    {
     "name": "stdout",
     "output_type": "stream",
     "text": [
      "New best\n"
     ]
    },
    {
     "name": "stdout",
     "output_type": "stream",
     "text": [
      "epoch: 9, [batch: 1 / 6720], examples_per_second: 5.2723, train_label_loss: 0.6390, \n"
     ]
    },
    {
     "name": "stdout",
     "output_type": "stream",
     "text": [
      "epoch: 9, [batch: 672 / 6720], examples_per_second: 3618.6116, train_label_loss: 0.4384, \n"
     ]
    },
    {
     "name": "stdout",
     "output_type": "stream",
     "text": [
      "epoch: 9, [batch: 1344 / 6720], examples_per_second: 3636.5885, train_label_loss: 0.4276, \n"
     ]
    },
    {
     "name": "stdout",
     "output_type": "stream",
     "text": [
      "epoch: 9, [batch: 2016 / 6720], examples_per_second: 3651.4737, train_label_loss: 0.5421, \n"
     ]
    },
    {
     "name": "stdout",
     "output_type": "stream",
     "text": [
      "epoch: 9, [batch: 2688 / 6720], examples_per_second: 3633.4064, train_label_loss: 0.3458, \n"
     ]
    },
    {
     "name": "stdout",
     "output_type": "stream",
     "text": [
      "epoch: 9, [batch: 3360 / 6720], examples_per_second: 3638.8327, train_label_loss: 0.7032, \n"
     ]
    },
    {
     "name": "stdout",
     "output_type": "stream",
     "text": [
      "epoch: 9, [batch: 4032 / 6720], examples_per_second: 3613.6169, train_label_loss: 0.4228, \n"
     ]
    },
    {
     "name": "stdout",
     "output_type": "stream",
     "text": [
      "epoch: 9, [batch: 4704 / 6720], examples_per_second: 3607.9848, train_label_loss: 0.2700, \n"
     ]
    },
    {
     "name": "stdout",
     "output_type": "stream",
     "text": [
      "epoch: 9, [batch: 5376 / 6720], examples_per_second: 3613.5156, train_label_loss: 0.0881, \n"
     ]
    },
    {
     "name": "stdout",
     "output_type": "stream",
     "text": [
      "epoch: 9, [batch: 6048 / 6720], examples_per_second: 3608.2667, train_label_loss: 0.6766, \n"
     ]
    },
    {
     "name": "stdout",
     "output_type": "stream",
     "text": [
      "=============================================================\n",
      "epoch: 9, source_val_acc_label: 0.8694, target_val_acc_label: 0.7005, source_val_label_loss: 0.3569, target_val_label_loss: 142.4998, \n",
      "=============================================================\n"
     ]
    },
    {
     "name": "stdout",
     "output_type": "stream",
     "text": [
      "epoch: 10, [batch: 1 / 6720], examples_per_second: 5.2554, train_label_loss: 0.0454, \n"
     ]
    },
    {
     "name": "stdout",
     "output_type": "stream",
     "text": [
      "epoch: 10, [batch: 672 / 6720], examples_per_second: 3627.9833, train_label_loss: 0.3598, \n"
     ]
    },
    {
     "name": "stdout",
     "output_type": "stream",
     "text": [
      "epoch: 10, [batch: 1344 / 6720], examples_per_second: 3647.1302, train_label_loss: 0.3253, \n"
     ]
    },
    {
     "name": "stdout",
     "output_type": "stream",
     "text": [
      "epoch: 10, [batch: 2016 / 6720], examples_per_second: 3639.8956, train_label_loss: 0.3531, \n"
     ]
    },
    {
     "name": "stdout",
     "output_type": "stream",
     "text": [
      "epoch: 10, [batch: 2688 / 6720], examples_per_second: 3625.5567, train_label_loss: 0.0766, \n"
     ]
    },
    {
     "name": "stdout",
     "output_type": "stream",
     "text": [
      "epoch: 10, [batch: 3360 / 6720], examples_per_second: 3647.0042, train_label_loss: 0.5580, \n"
     ]
    },
    {
     "name": "stdout",
     "output_type": "stream",
     "text": [
      "epoch: 10, [batch: 4032 / 6720], examples_per_second: 3640.0899, train_label_loss: 0.1209, \n"
     ]
    },
    {
     "name": "stdout",
     "output_type": "stream",
     "text": [
      "epoch: 10, [batch: 4704 / 6720], examples_per_second: 3622.0746, train_label_loss: 0.5237, \n"
     ]
    },
    {
     "name": "stdout",
     "output_type": "stream",
     "text": [
      "epoch: 10, [batch: 5376 / 6720], examples_per_second: 3632.6673, train_label_loss: 0.1641, \n"
     ]
    },
    {
     "name": "stdout",
     "output_type": "stream",
     "text": [
      "epoch: 10, [batch: 6048 / 6720], examples_per_second: 3641.2821, train_label_loss: 0.1312, \n"
     ]
    },
    {
     "name": "stdout",
     "output_type": "stream",
     "text": [
      "=============================================================\n",
      "epoch: 10, source_val_acc_label: 0.8701, target_val_acc_label: 0.7180, source_val_label_loss: 0.3644, target_val_label_loss: 159.8764, \n",
      "=============================================================\n"
     ]
    },
    {
     "name": "stdout",
     "output_type": "stream",
     "text": [
      "New best\n"
     ]
    },
    {
     "name": "stdout",
     "output_type": "stream",
     "text": [
      "epoch: 11, [batch: 1 / 6720], examples_per_second: 5.2473, train_label_loss: 0.2483, \n"
     ]
    },
    {
     "name": "stdout",
     "output_type": "stream",
     "text": [
      "epoch: 11, [batch: 672 / 6720], examples_per_second: 3617.0201, train_label_loss: 0.3099, \n"
     ]
    },
    {
     "name": "stdout",
     "output_type": "stream",
     "text": [
      "epoch: 11, [batch: 1344 / 6720], examples_per_second: 3618.2379, train_label_loss: 0.3962, \n"
     ]
    },
    {
     "name": "stdout",
     "output_type": "stream",
     "text": [
      "epoch: 11, [batch: 2016 / 6720], examples_per_second: 3607.4363, train_label_loss: 0.5412, \n"
     ]
    },
    {
     "name": "stdout",
     "output_type": "stream",
     "text": [
      "epoch: 11, [batch: 2688 / 6720], examples_per_second: 3611.9339, train_label_loss: 0.0964, \n"
     ]
    },
    {
     "name": "stdout",
     "output_type": "stream",
     "text": [
      "epoch: 11, [batch: 3360 / 6720], examples_per_second: 3644.3860, train_label_loss: 0.9127, \n"
     ]
    },
    {
     "name": "stdout",
     "output_type": "stream",
     "text": [
      "epoch: 11, [batch: 4032 / 6720], examples_per_second: 3637.0483, train_label_loss: 0.2986, \n"
     ]
    },
    {
     "name": "stdout",
     "output_type": "stream",
     "text": [
      "epoch: 11, [batch: 4704 / 6720], examples_per_second: 3613.3735, train_label_loss: 0.6437, \n"
     ]
    },
    {
     "name": "stdout",
     "output_type": "stream",
     "text": [
      "epoch: 11, [batch: 5376 / 6720], examples_per_second: 3625.0077, train_label_loss: 0.0887, \n"
     ]
    },
    {
     "name": "stdout",
     "output_type": "stream",
     "text": [
      "epoch: 11, [batch: 6048 / 6720], examples_per_second: 3631.5581, train_label_loss: 0.0678, \n"
     ]
    },
    {
     "name": "stdout",
     "output_type": "stream",
     "text": [
      "=============================================================\n",
      "epoch: 11, source_val_acc_label: 0.8777, target_val_acc_label: 0.7103, source_val_label_loss: 0.3374, target_val_label_loss: 174.6684, \n",
      "=============================================================\n"
     ]
    },
    {
     "name": "stdout",
     "output_type": "stream",
     "text": [
      "epoch: 12, [batch: 1 / 6720], examples_per_second: 5.2700, train_label_loss: 0.2509, \n"
     ]
    },
    {
     "name": "stdout",
     "output_type": "stream",
     "text": [
      "epoch: 12, [batch: 672 / 6720], examples_per_second: 3605.9026, train_label_loss: 0.7722, \n"
     ]
    },
    {
     "name": "stdout",
     "output_type": "stream",
     "text": [
      "epoch: 12, [batch: 1344 / 6720], examples_per_second: 3638.8583, train_label_loss: 0.0572, \n"
     ]
    },
    {
     "name": "stdout",
     "output_type": "stream",
     "text": [
      "epoch: 12, [batch: 2016 / 6720], examples_per_second: 3655.7360, train_label_loss: 0.3146, \n"
     ]
    },
    {
     "name": "stdout",
     "output_type": "stream",
     "text": [
      "epoch: 12, [batch: 2688 / 6720], examples_per_second: 3622.4747, train_label_loss: 0.1887, \n"
     ]
    },
    {
     "name": "stdout",
     "output_type": "stream",
     "text": [
      "epoch: 12, [batch: 3360 / 6720], examples_per_second: 3643.0627, train_label_loss: 0.4087, \n"
     ]
    },
    {
     "name": "stdout",
     "output_type": "stream",
     "text": [
      "epoch: 12, [batch: 4032 / 6720], examples_per_second: 3644.6086, train_label_loss: 0.8877, \n"
     ]
    },
    {
     "name": "stdout",
     "output_type": "stream",
     "text": [
      "epoch: 12, [batch: 4704 / 6720], examples_per_second: 3627.7191, train_label_loss: 0.0430, \n"
     ]
    },
    {
     "name": "stdout",
     "output_type": "stream",
     "text": [
      "epoch: 12, [batch: 5376 / 6720], examples_per_second: 3640.5512, train_label_loss: 0.1791, \n"
     ]
    },
    {
     "name": "stdout",
     "output_type": "stream",
     "text": [
      "epoch: 12, [batch: 6048 / 6720], examples_per_second: 3644.3749, train_label_loss: 0.6176, \n"
     ]
    },
    {
     "name": "stdout",
     "output_type": "stream",
     "text": [
      "=============================================================\n",
      "epoch: 12, source_val_acc_label: 0.8744, target_val_acc_label: 0.7070, source_val_label_loss: 0.3476, target_val_label_loss: 166.3929, \n",
      "=============================================================\n"
     ]
    },
    {
     "name": "stdout",
     "output_type": "stream",
     "text": [
      "epoch: 13, [batch: 1 / 6720], examples_per_second: 5.2613, train_label_loss: 0.1468, \n"
     ]
    },
    {
     "name": "stdout",
     "output_type": "stream",
     "text": [
      "epoch: 13, [batch: 672 / 6720], examples_per_second: 3616.7413, train_label_loss: 0.3064, \n"
     ]
    },
    {
     "name": "stdout",
     "output_type": "stream",
     "text": [
      "epoch: 13, [batch: 1344 / 6720], examples_per_second: 3630.3827, train_label_loss: 0.0953, \n"
     ]
    },
    {
     "name": "stdout",
     "output_type": "stream",
     "text": [
      "epoch: 13, [batch: 2016 / 6720], examples_per_second: 3646.5005, train_label_loss: 0.2580, \n"
     ]
    },
    {
     "name": "stdout",
     "output_type": "stream",
     "text": [
      "epoch: 13, [batch: 2688 / 6720], examples_per_second: 3643.4866, train_label_loss: 0.2783, \n"
     ]
    },
    {
     "name": "stdout",
     "output_type": "stream",
     "text": [
      "epoch: 13, [batch: 3360 / 6720], examples_per_second: 3648.8269, train_label_loss: 0.3998, \n"
     ]
    },
    {
     "name": "stdout",
     "output_type": "stream",
     "text": [
      "epoch: 13, [batch: 4032 / 6720], examples_per_second: 3658.6317, train_label_loss: 0.3520, \n"
     ]
    },
    {
     "name": "stdout",
     "output_type": "stream",
     "text": [
      "epoch: 13, [batch: 4704 / 6720], examples_per_second: 3638.7408, train_label_loss: 0.0466, \n"
     ]
    },
    {
     "name": "stdout",
     "output_type": "stream",
     "text": [
      "epoch: 13, [batch: 5376 / 6720], examples_per_second: 3641.9806, train_label_loss: 0.2698, \n"
     ]
    },
    {
     "name": "stdout",
     "output_type": "stream",
     "text": [
      "epoch: 13, [batch: 6048 / 6720], examples_per_second: 3647.0176, train_label_loss: 0.3401, \n"
     ]
    },
    {
     "name": "stdout",
     "output_type": "stream",
     "text": [
      "=============================================================\n",
      "epoch: 13, source_val_acc_label: 0.8785, target_val_acc_label: 0.7109, source_val_label_loss: 0.3437, target_val_label_loss: 187.2563, \n",
      "=============================================================\n"
     ]
    },
    {
     "name": "stdout",
     "output_type": "stream",
     "text": [
      "epoch: 14, [batch: 1 / 6720], examples_per_second: 5.2800, train_label_loss: 0.3206, \n"
     ]
    },
    {
     "name": "stdout",
     "output_type": "stream",
     "text": [
      "epoch: 14, [batch: 672 / 6720], examples_per_second: 3609.2813, train_label_loss: 0.0230, \n"
     ]
    },
    {
     "name": "stdout",
     "output_type": "stream",
     "text": [
      "epoch: 14, [batch: 1344 / 6720], examples_per_second: 3598.0720, train_label_loss: 0.5684, \n"
     ]
    },
    {
     "name": "stdout",
     "output_type": "stream",
     "text": [
      "epoch: 14, [batch: 2016 / 6720], examples_per_second: 3638.5908, train_label_loss: 0.2506, \n"
     ]
    },
    {
     "name": "stdout",
     "output_type": "stream",
     "text": [
      "epoch: 14, [batch: 2688 / 6720], examples_per_second: 3628.3454, train_label_loss: 0.1331, \n"
     ]
    },
    {
     "name": "stdout",
     "output_type": "stream",
     "text": [
      "epoch: 14, [batch: 3360 / 6720], examples_per_second: 3643.9040, train_label_loss: 0.3070, \n"
     ]
    },
    {
     "name": "stdout",
     "output_type": "stream",
     "text": [
      "epoch: 14, [batch: 4032 / 6720], examples_per_second: 3656.1750, train_label_loss: 0.2052, \n"
     ]
    },
    {
     "name": "stdout",
     "output_type": "stream",
     "text": [
      "epoch: 14, [batch: 4704 / 6720], examples_per_second: 3624.0734, train_label_loss: 0.1542, \n"
     ]
    },
    {
     "name": "stdout",
     "output_type": "stream",
     "text": [
      "epoch: 14, [batch: 5376 / 6720], examples_per_second: 3631.0575, train_label_loss: 0.1401, \n"
     ]
    },
    {
     "name": "stdout",
     "output_type": "stream",
     "text": [
      "epoch: 14, [batch: 6048 / 6720], examples_per_second: 3634.1174, train_label_loss: 0.7231, \n"
     ]
    },
    {
     "name": "stdout",
     "output_type": "stream",
     "text": [
      "=============================================================\n",
      "epoch: 14, source_val_acc_label: 0.8835, target_val_acc_label: 0.7093, source_val_label_loss: 0.3206, target_val_label_loss: 176.1643, \n",
      "=============================================================\n"
     ]
    },
    {
     "name": "stdout",
     "output_type": "stream",
     "text": [
      "Patience (3) exhausted\n"
     ]
    }
   ],
   "source": [
    "###################################\n",
    "# train\n",
    "###################################\n",
    "jig = PTN_Train_Eval_Test_Jig(model, p.BEST_MODEL_PATH, p.device)\n",
    "\n",
    "jig.train(\n",
    "    train_iterable=datasets.source.processed.train,\n",
    "    source_val_iterable=datasets.source.processed.val,\n",
    "    target_val_iterable=datasets.target.processed.val,\n",
    "    num_epochs=p.n_epoch,\n",
    "    num_logs_per_epoch=p.NUM_LOGS_PER_EPOCH,\n",
    "    patience=p.patience,\n",
    "    optimizer=optimizer,\n",
    "    criteria_for_best=p.criteria_for_best,\n",
    ")"
   ]
  },
  {
   "cell_type": "code",
   "execution_count": 23,
   "id": "31e8fabf",
   "metadata": {
    "execution": {
     "iopub.execute_input": "2022-03-25T10:14:51.434062Z",
     "iopub.status.busy": "2022-03-25T10:14:51.433793Z",
     "iopub.status.idle": "2022-03-25T10:14:51.452233Z",
     "shell.execute_reply": "2022-03-25T10:14:51.451856Z"
    },
    "papermill": {
     "duration": 0.064243,
     "end_time": "2022-03-25T10:14:51.452325",
     "exception": false,
     "start_time": "2022-03-25T10:14:51.388082",
     "status": "completed"
    },
    "tags": []
   },
   "outputs": [],
   "source": [
    "total_experiment_time_secs = time.time() - start_time_secs"
   ]
  },
  {
   "cell_type": "code",
   "execution_count": 24,
   "id": "87b9595b",
   "metadata": {
    "execution": {
     "iopub.execute_input": "2022-03-25T10:14:51.547902Z",
     "iopub.status.busy": "2022-03-25T10:14:51.547634Z",
     "iopub.status.idle": "2022-03-25T10:16:23.129885Z",
     "shell.execute_reply": "2022-03-25T10:16:23.129619Z"
    },
    "papermill": {
     "duration": 91.630281,
     "end_time": "2022-03-25T10:16:23.129952",
     "exception": false,
     "start_time": "2022-03-25T10:14:51.499671",
     "status": "completed"
    },
    "tags": []
   },
   "outputs": [],
   "source": [
    "###################################\n",
    "# Evaluate the model\n",
    "###################################\n",
    "source_test_label_accuracy, source_test_label_loss = jig.test(datasets.source.processed.test)\n",
    "target_test_label_accuracy, target_test_label_loss = jig.test(datasets.target.processed.test)\n",
    "\n",
    "source_val_label_accuracy, source_val_label_loss = jig.test(datasets.source.processed.val)\n",
    "target_val_label_accuracy, target_val_label_loss = jig.test(datasets.target.processed.val)\n",
    "\n",
    "history = jig.get_history()\n",
    "\n",
    "total_epochs_trained = len(history[\"epoch_indices\"])\n",
    "\n",
    "val_dl = Iterable_Aggregator((datasets.source.original.val,datasets.target.original.val))\n",
    "\n",
    "confusion = ptn_confusion_by_domain_over_dataloader(model, p.device, val_dl)\n",
    "per_domain_accuracy = per_domain_accuracy_from_confusion(confusion)\n",
    "\n",
    "# Add a key to per_domain_accuracy for if it was a source domain\n",
    "for domain, accuracy in per_domain_accuracy.items():\n",
    "    per_domain_accuracy[domain] = {\n",
    "        \"accuracy\": accuracy,\n",
    "        \"source?\": domain in p.domains_source\n",
    "    }\n",
    "\n",
    "# Do an independent accuracy assesment JUST TO BE SURE!\n",
    "# _source_test_label_accuracy = independent_accuracy_assesment(model, datasets.source.processed.test, p.device)\n",
    "# _target_test_label_accuracy = independent_accuracy_assesment(model, datasets.target.processed.test, p.device)\n",
    "# _source_val_label_accuracy = independent_accuracy_assesment(model, datasets.source.processed.val, p.device)\n",
    "# _target_val_label_accuracy = independent_accuracy_assesment(model, datasets.target.processed.val, p.device)\n",
    "\n",
    "# assert(_source_test_label_accuracy == source_test_label_accuracy)\n",
    "# assert(_target_test_label_accuracy == target_test_label_accuracy)\n",
    "# assert(_source_val_label_accuracy == source_val_label_accuracy)\n",
    "# assert(_target_val_label_accuracy == target_val_label_accuracy)\n",
    "\n",
    "experiment = {\n",
    "    \"experiment_name\": p.experiment_name,\n",
    "    \"parameters\": dict(p),\n",
    "    \"results\": {\n",
    "        \"source_test_label_accuracy\": source_test_label_accuracy,\n",
    "        \"source_test_label_loss\": source_test_label_loss,\n",
    "        \"target_test_label_accuracy\": target_test_label_accuracy,\n",
    "        \"target_test_label_loss\": target_test_label_loss,\n",
    "        \"source_val_label_accuracy\": source_val_label_accuracy,\n",
    "        \"source_val_label_loss\": source_val_label_loss,\n",
    "        \"target_val_label_accuracy\": target_val_label_accuracy,\n",
    "        \"target_val_label_loss\": target_val_label_loss,\n",
    "        \"total_epochs_trained\": total_epochs_trained,\n",
    "        \"total_experiment_time_secs\": total_experiment_time_secs,\n",
    "        \"confusion\": confusion,\n",
    "        \"per_domain_accuracy\": per_domain_accuracy,\n",
    "    },\n",
    "    \"history\": history,\n",
    "    \"dataset_metrics\": get_dataset_metrics(datasets, \"ptn\"),\n",
    "}"
   ]
  },
  {
   "cell_type": "code",
   "execution_count": 25,
   "id": "54a21829",
   "metadata": {
    "execution": {
     "iopub.execute_input": "2022-03-25T10:16:23.221620Z",
     "iopub.status.busy": "2022-03-25T10:16:23.221364Z",
     "iopub.status.idle": "2022-03-25T10:16:23.340091Z",
     "shell.execute_reply": "2022-03-25T10:16:23.340475Z"
    },
    "papermill": {
     "duration": 0.164542,
     "end_time": "2022-03-25T10:16:23.340593",
     "exception": false,
     "start_time": "2022-03-25T10:16:23.176051",
     "status": "completed"
    },
    "tags": []
   },
   "outputs": [
    {
     "data": {
      "image/png": "[encoded data removed]",
      "text/plain": [
       "<Figure size 1080x504 with 1 Axes>"
      ]
     },
     "metadata": {
      "needs_background": "light"
     },
     "output_type": "display_data"
    }
   ],
   "source": [
    "ax = get_loss_curve(experiment)\n",
    "plt.show()"
   ]
  },
  {
   "cell_type": "code",
   "execution_count": 26,
   "id": "fd8a0f60",
   "metadata": {
    "execution": {
     "iopub.execute_input": "2022-03-25T10:16:23.434109Z",
     "iopub.status.busy": "2022-03-25T10:16:23.433834Z",
     "iopub.status.idle": "2022-03-25T10:16:23.577285Z",
     "shell.execute_reply": "2022-03-25T10:16:23.576972Z"
    },
    "papermill": {
     "duration": 0.188634,
     "end_time": "2022-03-25T10:16:23.577354",
     "exception": false,
     "start_time": "2022-03-25T10:16:23.388720",
     "status": "completed"
    },
    "tags": []
   },
   "outputs": [
    {
     "data": {
      "text/plain": [
       "<AxesSubplot:title={'center':'Results'}>"
      ]
     },
     "execution_count": 26,
     "metadata": {},
     "output_type": "execute_result"
    },
    {
     "data": {
      "image/png": "[encoded data removed]",
      "text/plain": [
       "<Figure size 1080x504 with 1 Axes>"
      ]
     },
     "metadata": {
      "needs_background": "light"
     },
     "output_type": "display_data"
    }
   ],
   "source": [
    "get_results_table(experiment)"
   ]
  },
  {
   "cell_type": "code",
   "execution_count": 27,
   "id": "cf8dc689",
   "metadata": {
    "execution": {
     "iopub.execute_input": "2022-03-25T10:16:23.679044Z",
     "iopub.status.busy": "2022-03-25T10:16:23.678791Z",
     "iopub.status.idle": "2022-03-25T10:16:23.815289Z",
     "shell.execute_reply": "2022-03-25T10:16:23.814909Z"
    },
    "papermill": {
     "duration": 0.182764,
     "end_time": "2022-03-25T10:16:23.815383",
     "exception": false,
     "start_time": "2022-03-25T10:16:23.632619",
     "status": "completed"
    },
    "tags": []
   },
   "outputs": [
    {
     "data": {
      "text/plain": [
       "<AxesSubplot:title={'center':'Per Domain Validation Accuracy'}, xlabel='domain'>"
      ]
     },
     "execution_count": 27,
     "metadata": {},
     "output_type": "execute_result"
    },
    {
     "data": {
      "image/png": "[encoded data removed]",
      "text/plain": [
       "<Figure size 1080x504 with 1 Axes>"
      ]
     },
     "metadata": {
      "needs_background": "light"
     },
     "output_type": "display_data"
    }
   ],
   "source": [
    "get_domain_accuracies(experiment)"
   ]
  },
  {
   "cell_type": "code",
   "execution_count": 28,
   "id": "a74ae082",
   "metadata": {
    "execution": {
     "iopub.execute_input": "2022-03-25T10:16:23.913446Z",
     "iopub.status.busy": "2022-03-25T10:16:23.913191Z",
     "iopub.status.idle": "2022-03-25T10:16:23.929247Z",
     "shell.execute_reply": "2022-03-25T10:16:23.928871Z"
    },
    "papermill": {
     "duration": 0.063653,
     "end_time": "2022-03-25T10:16:23.929337",
     "exception": false,
     "start_time": "2022-03-25T10:16:23.865684",
     "status": "completed"
    },
    "tags": []
   },
   "outputs": [
    {
     "name": "stdout",
     "output_type": "stream",
     "text": [
      "Source Test Label Accuracy: 0.8717122395833333 Target Test Label Accuracy: 0.7204430022573364\n",
      "Source Val Label Accuracy: 0.8701497395833333 Target Val Label Accuracy: 0.7180357142857143\n"
     ]
    }
   ],
   "source": [
    "print(\"Source Test Label Accuracy:\", experiment[\"results\"][\"source_test_label_accuracy\"], \"Target Test Label Accuracy:\", experiment[\"results\"][\"target_test_label_accuracy\"])\n",
    "print(\"Source Val Label Accuracy:\", experiment[\"results\"][\"source_val_label_accuracy\"], \"Target Val Label Accuracy:\", experiment[\"results\"][\"target_val_label_accuracy\"])"
   ]
  },
  {
   "cell_type": "code",
   "execution_count": 29,
   "id": "dacca602",
   "metadata": {
    "execution": {
     "iopub.execute_input": "2022-03-25T10:16:24.026550Z",
     "iopub.status.busy": "2022-03-25T10:16:24.026297Z",
     "iopub.status.idle": "2022-03-25T10:16:24.043151Z",
     "shell.execute_reply": "2022-03-25T10:16:24.043467Z"
    },
    "papermill": {
     "duration": 0.064543,
     "end_time": "2022-03-25T10:16:24.043550",
     "exception": false,
     "start_time": "2022-03-25T10:16:23.979007",
     "status": "completed"
    },
    "tags": [
     "experiment_json"
    ]
   },
   "outputs": [
    {
     "data": {
      "text/plain": [
       "'{\"experiment_name\": \"tl_3Av2:oracle.run1.framed -> cores\", \"parameters\": {\"experiment_name\": \"tl_3Av2:oracle.run1.framed -> cores\", \"device\": \"cuda\", \"lr\": 0.0001, \"x_shape\": [2, 200], \"n_shot\": 3, \"n_query\": 2, \"train_k_factor\": 3, \"val_k_factor\": 2, \"test_k_factor\": 2, \"torch_default_dtype\": \"torch.float32\", \"n_epoch\": 50, \"patience\": 3, \"criteria_for_best\": \"target_accuracy\", \"x_net\": [{\"class\": \"nnReshape\", \"kargs\": {\"shape\": [-1, 1, 2, 200]}}, {\"class\": \"Conv2d\", \"kargs\": {\"in_channels\": 1, \"out_channels\": 256, \"kernel_size\": [1, 7], \"bias\": false, \"padding\": [0, 3]}}, {\"class\": \"ReLU\", \"kargs\": {\"inplace\": true}}, {\"class\": \"BatchNorm2d\", \"kargs\": {\"num_features\": 256}}, {\"class\": \"Conv2d\", \"kargs\": {\"in_channels\": 256, \"out_channels\": 80, \"kernel_size\": [2, 7], \"bias\": true, \"padding\": [0, 3]}}, {\"class\": \"ReLU\", \"kargs\": {\"inplace\": true}}, {\"class\": \"BatchNorm2d\", \"kargs\": {\"num_features\": 80}}, {\"class\": \"Flatten\", \"kargs\": {}}, {\"class\": \"Linear\", \"kargs\": {\"in_features\": 16000, \"out_features\": 256}}, {\"class\": \"ReLU\", \"kargs\": {\"inplace\": true}}, {\"class\": \"BatchNorm1d\", \"kargs\": {\"num_features\": 256}}, {\"class\": \"Linear\", \"kargs\": {\"in_features\": 256, \"out_features\": 256}}], \"NUM_LOGS_PER_EPOCH\": 10, \"BEST_MODEL_PATH\": \"./best_model.pth\", \"n_way\": 16, \"datasets\": [{\"labels\": [\"1-10.\", \"1-11.\", \"1-15.\", \"1-16.\", \"1-17.\", \"1-18.\", \"1-19.\", \"10-4.\", \"10-7.\", \"11-1.\", \"11-14.\", \"11-17.\", \"11-20.\", \"11-7.\", \"13-20.\", \"13-8.\", \"14-10.\", \"14-11.\", \"14-14.\", \"14-7.\", \"15-1.\", \"15-20.\", \"16-1.\", \"16-16.\", \"17-10.\", \"17-11.\", \"17-2.\", \"19-1.\", \"19-16.\", \"19-19.\", \"19-20.\", \"19-3.\", \"2-10.\", \"2-11.\", \"2-17.\", \"2-18.\", \"2-20.\", \"2-3.\", \"2-4.\", \"2-5.\", \"2-6.\", \"2-7.\", \"2-8.\", \"3-13.\", \"3-18.\", \"3-3.\", \"4-1.\", \"4-10.\", \"4-11.\", \"4-19.\", \"5-5.\", \"6-15.\", \"7-10.\", \"7-14.\", \"8-18.\", \"8-20.\", \"8-3.\", \"8-8.\"], \"domains\": [1, 2, 3, 4, 5], \"num_examples_per_domain_per_label\": -1, \"pickle_path\": \"/mnt/wd500GB/CSC500/csc500-main/datasets/cores.stratified_ds.2022A.pkl\", \"source_or_target_dataset\": \"target\", \"x_transforms\": [\"unit_mag\", \"take_200\"], \"episode_transforms\": [], \"domain_prefix\": \"C_\"}, {\"labels\": [\"3123D52\", \"3123D65\", \"3123D79\", \"3123D80\", \"3123D54\", \"3123D70\", \"3123D7B\", \"3123D89\", \"3123D58\", \"3123D76\", \"3123D7D\", \"3123EFE\", \"3123D64\", \"3123D78\", \"3123D7E\", \"3124E4A\"], \"domains\": [32, 38, 8, 44, 14, 50, 20, 26], \"num_examples_per_domain_per_label\": 2000, \"pickle_path\": \"/mnt/wd500GB/CSC500/csc500-main/datasets/oracle.Run1_framed_2000Examples_stratified_ds.2022A.pkl\", \"source_or_target_dataset\": \"source\", \"x_transforms\": [\"unit_mag\", \"take_200\", \"resample_20Msps_to_25Msps\"], \"episode_transforms\": [], \"domain_prefix\": \"O_\"}], \"seed\": 420, \"dataset_seed\": 420, \"domains_source\": [\"O_32\", \"O_38\", \"O_8\", \"O_44\", \"O_14\", \"O_50\", \"O_20\", \"O_26\"], \"domains_target\": [\"C_1\", \"C_2\", \"C_3\", \"C_4\", \"C_5\"]}, \"results\": {\"source_test_label_accuracy\": 0.8717122395833333, \"source_test_label_loss\": 0.3722551763057709, \"target_test_label_accuracy\": 0.7204430022573364, \"target_test_label_loss\": 156.3294677734375, \"source_val_label_accuracy\": 0.8701497395833333, \"source_val_label_loss\": 0.364393949508667, \"target_val_label_accuracy\": 0.7180357142857143, \"target_val_label_loss\": 159.87637329101562, \"total_epochs_trained\": 14, \"total_experiment_time_secs\": 2346.467604160309, \"confusion\": {\"O_14\": {\"15\": {\"15\": 240}, \"5\": {\"5\": 225, \"4\": 6, \"3\": 4, \"7\": 2, \"1\": 3}, \"7\": {\"7\": 239, \"5\": 1}, \"4\": {\"4\": 233, \"5\": 3, \"1\": 2, \"13\": 1, \"3\": 1}, \"10\": {\"10\": 240}, \"11\": {\"11\": 230, \"9\": 6, \"0\": 4}, \"12\": {\"12\": 240}, \"0\": {\"0\": 233, \"10\": 5, \"3\": 1, \"8\": 1}, \"14\": {\"14\": 220, \"13\": 5, \"2\": 14, \"3\": 1}, \"8\": {\"8\": 240}, \"13\": {\"6\": 60, \"13\": 168, \"14\": 2, \"2\": 7, \"5\": 3}, \"6\": {\"6\": 190, \"2\": 6, \"13\": 43, \"14\": 1}, \"1\": {\"1\": 234, \"5\": 5, \"2\": 1}, \"3\": {\"3\": 232, \"2\": 3, \"14\": 3, \"0\": 1, \"4\": 1}, \"9\": {\"9\": 240}, \"2\": {\"2\": 165, \"13\": 9, \"4\": 2, \"3\": 17, \"6\": 14, \"14\": 27, \"5\": 6}}, \"O_20\": {\"4\": {\"4\": 231, \"3\": 3, \"12\": 1, \"8\": 3, \"10\": 1, \"7\": 1}, \"10\": {\"10\": 240}, \"15\": {\"15\": 213, \"13\": 2, \"1\": 14, \"0\": 11}, \"0\": {\"0\": 216, \"15\": 20, \"5\": 3, \"8\": 1}, \"6\": {\"6\": 233, \"14\": 7}, \"3\": {\"3\": 162, \"9\": 21, \"2\": 11, \"7\": 4, \"12\": 38, \"1\": 1, \"10\": 1, \"4\": 1, \"5\": 1}, \"7\": {\"7\": 214, \"8\": 2, \"3\": 4, \"2\": 14, \"9\": 4, \"6\": 2}, \"2\": {\"2\": 158, \"7\": 19, \"9\": 36, \"3\": 11, \"12\": 10, \"13\": 5, \"1\": 1}, \"8\": {\"8\": 223, \"14\": 1, \"7\": 10, \"4\": 6}, \"11\": {\"11\": 240}, \"14\": {\"14\": 228, \"10\": 5, \"6\": 6, \"8\": 1}, \"12\": {\"12\": 149, \"3\": 34, \"2\": 10, \"1\": 40, \"9\": 6, \"15\": 1}, \"13\": {\"13\": 238, \"12\": 1, \"2\": 1}, \"9\": {\"9\": 170, \"2\": 43, \"3\": 15, \"12\": 8, \"7\": 4}, \"5\": {\"5\": 236, \"0\": 2, \"1\": 2}, \"1\": {\"1\": 179, \"15\": 15, \"12\": 37, \"9\": 3, \"3\": 4, \"2\": 2}}, \"O_50\": {\"5\": {\"5\": 200, \"7\": 19, \"13\": 7, \"4\": 12, \"6\": 1, \"1\": 1}, \"12\": {\"12\": 224, \"11\": 9, \"9\": 5, \"14\": 2}, \"14\": {\"14\": 240}, \"4\": {\"4\": 182, \"7\": 5, \"5\": 15, \"1\": 3, \"15\": 29, \"6\": 3, \"13\": 3}, \"13\": {\"10\": 8, \"13\": 207, \"6\": 11, \"5\": 5, \"7\": 7, \"1\": 2}, \"10\": {\"10\": 228, \"13\": 1, \"0\": 8, \"8\": 3}, \"9\": {\"9\": 224, \"12\": 10, \"11\": 6}, \"15\": {\"15\": 215, \"1\": 12, \"4\": 6, \"6\": 2, \"11\": 3, \"5\": 2}, \"6\": {\"6\": 215, \"7\": 4, \"1\": 3, \"13\": 8, \"5\": 2, \"15\": 4, \"4\": 4}, \"2\": {\"2\": 216, \"0\": 24}, \"0\": {\"0\": 209, \"2\": 21, \"10\": 10}, \"11\": {\"11\": 219, \"9\": 4, \"12\": 4, \"15\": 13}, \"3\": {\"3\": 238, \"8\": 2}, \"8\": {\"8\": 233, \"3\": 3, \"10\": 4}, \"7\": {\"7\": 223, \"13\": 4, \"5\": 6, \"6\": 6, \"4\": 1}, \"1\": {\"1\": 219, \"5\": 1, \"15\": 16, \"11\": 1, \"4\": 1, \"13\": 1, \"6\": 1}}, \"O_26\": {\"7\": {\"7\": 183, \"4\": 13, \"2\": 13, \"3\": 16, \"0\": 6, \"1\": 1, \"8\": 7, \"14\": 1}, \"6\": {\"6\": 210, \"10\": 9, \"9\": 5, \"15\": 14, \"8\": 1, \"0\": 1}, \"14\": {\"14\": 196, \"10\": 5, \"0\": 8, \"1\": 12, \"4\": 7, \"8\": 11, \"7\": 1}, \"15\": {\"13\": 6, \"15\": 182, \"9\": 32, \"8\": 6, \"6\": 4, \"7\": 3, \"10\": 4, \"2\": 2, \"0\": 1}, \"5\": {\"5\": 233, \"2\": 5, \"15\": 2}, \"10\": {\"10\": 138, \"6\": 7, \"8\": 23, \"14\": 7, \"4\": 3, \"0\": 60, \"1\": 2}, \"4\": {\"4\": 184, \"0\": 18, \"14\": 6, \"1\": 5, \"8\": 14, \"7\": 11, \"10\": 2}, \"11\": {\"11\": 240}, \"13\": {\"13\": 217, \"9\": 5, \"2\": 10, \"3\": 2, \"5\": 6}, \"2\": {\"7\": 28, \"2\": 126, \"3\": 70, \"1\": 1, \"8\": 5, \"9\": 2, \"5\": 3, \"13\": 3, \"15\": 2}, \"0\": {\"0\": 99, \"8\": 17, \"10\": 84, \"14\": 13, \"4\": 17, \"6\": 2, \"7\": 3, \"15\": 2, \"1\": 3}, \"12\": {\"12\": 240}, \"3\": {\"3\": 193, \"2\": 38, \"4\": 1, \"7\": 8}, \"9\": {\"15\": 25, \"9\": 207, \"6\": 2, \"8\": 2, \"13\": 4}, \"8\": {\"7\": 20, \"0\": 23, \"8\": 125, \"10\": 33, \"4\": 24, \"1\": 1, \"14\": 6, \"15\": 5, \"2\": 2, \"6\": 1}, \"1\": {\"1\": 211, \"0\": 4, \"14\": 14, \"4\": 9, \"8\": 2}}, \"O_32\": {\"7\": {\"7\": 178, \"14\": 11, \"2\": 3, \"0\": 5, \"4\": 17, \"5\": 20, \"13\": 6}, \"2\": {\"2\": 200, \"4\": 39, \"7\": 1}, \"5\": {\"5\": 181, \"7\": 31, \"8\": 6, \"13\": 8, \"2\": 1, \"4\": 4, \"0\": 1, \"14\": 5, \"3\": 3}, \"6\": {\"6\": 240}, \"13\": {\"13\": 182, \"3\": 20, \"8\": 12, \"7\": 7, \"5\": 5, \"4\": 12, \"11\": 1, \"14\": 1}, \"4\": {\"2\": 35, \"4\": 187, \"13\": 9, \"7\": 9}, \"3\": {\"3\": 227, \"8\": 4, \"5\": 1, \"13\": 7, \"7\": 1}, \"0\": {\"0\": 193, \"8\": 32, \"14\": 8, \"13\": 3, \"7\": 4}, \"9\": {\"9\": 239, \"12\": 1}, \"12\": {\"12\": 240}, \"8\": {\"8\": 204, \"0\": 24, \"13\": 6, \"3\": 2, \"14\": 2, \"5\": 2}, \"14\": {\"14\": 199, \"0\": 6, \"8\": 4, \"11\": 22, \"7\": 5, \"5\": 3, \"13\": 1}, \"15\": {\"15\": 240}, \"11\": {\"11\": 235, \"14\": 4, \"3\": 1}, \"10\": {\"10\": 240}, \"1\": {\"1\": 239, \"10\": 1}}, \"O_44\": {\"11\": {\"11\": 234, \"6\": 5, \"13\": 1}, \"7\": {\"9\": 53, \"7\": 163, \"2\": 16, \"6\": 7, \"13\": 1}, \"6\": {\"6\": 188, \"13\": 33, \"7\": 3, \"9\": 15, \"11\": 1}, \"12\": {\"12\": 211, \"1\": 25, \"3\": 3, \"10\": 1}, \"4\": {\"4\": 194, \"15\": 7, \"14\": 39}, \"13\": {\"13\": 175, \"6\": 40, \"9\": 21, \"11\": 4}, \"8\": {\"0\": 62, \"8\": 170, \"5\": 6, \"15\": 2}, \"5\": {\"5\": 224, \"15\": 5, \"14\": 7, \"0\": 3, \"8\": 1}, \"14\": {\"14\": 162, \"15\": 12, \"4\": 61, \"5\": 5}, \"3\": {\"3\": 229, \"1\": 9, \"12\": 2}, \"10\": {\"10\": 192, \"1\": 19, \"7\": 1, \"2\": 23, \"12\": 5}, \"1\": {\"1\": 175, \"10\": 13, \"2\": 18, \"12\": 23, \"3\": 11}, \"2\": {\"2\": 199, \"10\": 6, \"7\": 23, \"1\": 12}, \"15\": {\"15\": 192, \"4\": 7, \"14\": 12, \"0\": 19, \"8\": 6, \"5\": 4}, \"9\": {\"9\": 128, \"7\": 50, \"6\": 28, \"13\": 34}, \"0\": {\"8\": 60, \"0\": 167, \"15\": 13}}, \"O_8\": {\"10\": {\"10\": 206, \"14\": 17, \"4\": 4, \"13\": 13}, \"6\": {\"6\": 183, \"4\": 24, \"0\": 4, \"7\": 24, \"13\": 5}, \"13\": {\"6\": 12, \"13\": 121, \"10\": 37, \"4\": 43, \"0\": 21, \"14\": 5, \"7\": 1}, \"3\": {\"3\": 237, \"2\": 3}, \"9\": {\"9\": 240}, \"1\": {\"1\": 233, \"11\": 4, \"14\": 2, \"5\": 1}, \"5\": {\"5\": 239, \"1\": 1}, \"11\": {\"11\": 232, \"1\": 8}, \"4\": {\"4\": 189, \"10\": 3, \"6\": 13, \"13\": 31, \"0\": 3, \"14\": 1}, \"14\": {\"14\": 212, \"10\": 19, \"13\": 4, \"1\": 3, \"4\": 1, \"5\": 1}, \"12\": {\"12\": 208, \"15\": 19, \"8\": 6, \"3\": 7}, \"7\": {\"7\": 202, \"6\": 33, \"0\": 4, \"15\": 1}, \"0\": {\"0\": 213, \"13\": 15, \"7\": 7, \"4\": 3, \"6\": 2}, \"15\": {\"15\": 224, \"12\": 11, \"8\": 5}, \"2\": {\"3\": 4, \"2\": 227, \"15\": 2, \"7\": 5, \"12\": 2}, \"8\": {\"8\": 239, \"15\": 1}}, \"O_38\": {\"4\": {\"4\": 236, \"10\": 3, \"12\": 1}, \"7\": {\"7\": 217, \"0\": 9, \"5\": 8, \"10\": 1, \"8\": 5}, \"12\": {\"12\": 240}, \"10\": {\"10\": 206, \"0\": 10, \"13\": 20, \"4\": 2, \"7\": 1, \"14\": 1}, \"0\": {\"0\": 202, \"8\": 16, \"7\": 9, \"5\": 2, \"4\": 1, \"3\": 4, \"10\": 5, \"13\": 1}, \"1\": {\"1\": 230, \"15\": 10}, \"5\": {\"8\": 30, \"7\": 18, \"5\": 179, \"0\": 2, \"13\": 3, \"9\": 5, \"6\": 3}, \"15\": {\"15\": 198, \"5\": 4, \"8\": 23, \"13\": 3, \"1\": 12}, \"9\": {\"9\": 235, \"6\": 2, \"5\": 1, \"7\": 1, \"3\": 1}, \"11\": {\"11\": 237, \"9\": 1, \"14\": 2}, \"14\": {\"14\": 230, \"2\": 10}, \"6\": {\"6\": 240}, \"8\": {\"8\": 191, \"7\": 16, \"13\": 3, \"5\": 19, \"15\": 5, \"10\": 1, \"0\": 5}, \"3\": {\"3\": 235, \"9\": 2, \"13\": 1, \"0\": 2}, \"2\": {\"2\": 223, \"13\": 7, \"14\": 10}, \"13\": {\"13\": 225, \"10\": 6, \"2\": 6, \"0\": 2, \"14\": 1}}, \"C_4\": {\"42\": {\"42\": 32}, \"0\": {\"46\": 6, \"32\": 3, \"0\": 55, \"1\": 1, \"24\": 1, \"43\": 6, \"11\": 1, \"55\": 1, \"22\": 2, \"49\": 2, \"56\": 2}, \"1\": {\"34\": 1, \"1\": 22, \"28\": 1, \"50\": 1, \"47\": 3, \"5\": 1, \"42\": 1, \"6\": 3, \"29\": 3, \"11\": 1, \"48\": 1, \"54\": 1, \"52\": 1}, \"39\": {\"39\": 13, \"36\": 2, \"8\": 1, \"28\": 1, \"26\": 1, \"9\": 1, \"47\": 1}, \"28\": {\"42\": 3, \"5\": 2, \"28\": 8, \"27\": 3, \"33\": 3, \"48\": 2, \"29\": 2, \"9\": 2, \"32\": 1, \"4\": 2, \"19\": 3, \"0\": 1}, \"53\": {\"53\": 81, \"51\": 19, \"21\": 14, \"49\": 1, \"20\": 4, \"8\": 2, \"54\": 1, \"12\": 1, \"46\": 1}, \"19\": {\"19\": 93, \"34\": 1, \"51\": 5, \"9\": 2, \"57\": 2, \"29\": 16, \"44\": 7, \"50\": 4, \"6\": 1, \"3\": 2, \"45\": 3, \"27\": 2, \"25\": 1, \"4\": 1, \"28\": 2, \"8\": 1, \"20\": 1}, \"34\": {\"34\": 8, \"27\": 4, \"54\": 2, \"29\": 1, \"48\": 1, \"36\": 3, \"42\": 1, \"5\": 1, \"4\": 2, \"28\": 1}, \"33\": {\"40\": 4, \"33\": 24, \"44\": 2, \"35\": 3, \"29\": 1, \"13\": 1, \"7\": 1}, \"32\": {\"32\": 21, \"39\": 1, \"6\": 1, \"45\": 1}, \"10\": {\"10\": 136}, \"46\": {\"42\": 2, \"0\": 6, \"46\": 37, \"14\": 1, \"47\": 5, \"22\": 6, \"3\": 8, \"41\": 1, \"11\": 3, \"1\": 2, \"17\": 1, \"6\": 10, \"51\": 2, \"4\": 3, \"54\": 4, \"36\": 3, \"23\": 2, \"15\": 4, \"56\": 10, \"53\": 3, \"43\": 1, \"18\": 6, \"40\": 1, \"55\": 2, \"25\": 1, \"20\": 1, \"39\": 1, \"35\": 1, \"5\": 2, \"50\": 2, \"52\": 1, \"48\": 2}, \"20\": {\"20\": 101, \"49\": 1, \"1\": 1, \"53\": 3, \"51\": 1, \"36\": 1, \"17\": 1, \"55\": 2, \"46\": 2, \"21\": 3, \"29\": 1, \"8\": 4, \"50\": 1}, \"5\": {\"42\": 3, \"5\": 30, \"36\": 7, \"16\": 5, \"51\": 1, \"48\": 5, \"53\": 2, \"54\": 5, \"47\": 9, \"0\": 3, \"3\": 2, \"23\": 13, \"52\": 8, \"6\": 4, \"45\": 1, \"46\": 2, \"30\": 1, \"7\": 1, \"44\": 1, \"18\": 1, \"27\": 1, \"15\": 1, \"55\": 1, \"50\": 1}, \"40\": {\"0\": 1, \"40\": 85, \"33\": 7, \"35\": 2, \"6\": 1, \"55\": 4, \"19\": 9, \"29\": 4, \"56\": 1, \"46\": 1, \"44\": 5, \"3\": 1, \"36\": 1, \"43\": 1, \"25\": 1}, \"51\": {\"53\": 24, \"51\": 89, \"21\": 16, \"20\": 6, \"54\": 2, \"52\": 1, \"50\": 1, \"8\": 1, \"9\": 1, \"12\": 1, \"48\": 1, \"15\": 1}, \"37\": {\"37\": 22, \"35\": 1, \"56\": 1}, \"17\": {\"17\": 80}, \"45\": {\"45\": 51, \"12\": 6, \"27\": 7, \"50\": 2, \"9\": 17, \"8\": 1, \"54\": 2, \"20\": 1, \"51\": 5, \"53\": 1, \"30\": 2, \"4\": 1}, \"13\": {\"13\": 141, \"56\": 1}, \"27\": {\"27\": 130, \"30\": 3, \"54\": 1, \"9\": 6, \"8\": 1, \"21\": 1, \"17\": 2}, \"24\": {\"24\": 43, \"0\": 2, \"43\": 1, \"10\": 4, \"2\": 1, \"22\": 5}, \"30\": {\"30\": 38, \"8\": 5, \"20\": 1}, \"31\": {\"31\": 27, \"55\": 1}, \"41\": {\"30\": 2, \"41\": 13, \"48\": 2, \"36\": 1, \"23\": 8, \"54\": 2, \"5\": 1, \"38\": 1, \"13\": 1, \"3\": 1, \"20\": 1, \"52\": 2, \"47\": 1}, \"36\": {\"36\": 77, \"8\": 5, \"50\": 2, \"23\": 2, \"5\": 1, \"48\": 3, \"42\": 2}, \"16\": {\"16\": 85, \"15\": 4, \"52\": 2, \"23\": 1, \"44\": 1, \"18\": 2, \"43\": 1}, \"22\": {\"13\": 2, \"22\": 92, \"43\": 2, \"35\": 1, \"49\": 1, \"24\": 6, \"56\": 11, \"46\": 2, \"10\": 1, \"55\": 2, \"0\": 3, \"37\": 1, \"28\": 1, \"7\": 1, \"29\": 1, \"50\": 1}, \"44\": {\"44\": 64, \"41\": 1, \"28\": 1, \"40\": 4, \"26\": 2, \"50\": 4, \"57\": 3, \"19\": 15, \"6\": 3, \"43\": 3, \"55\": 6, \"3\": 7, \"29\": 8, \"5\": 3, \"46\": 2, \"33\": 1, \"4\": 1, \"54\": 1, \"45\": 2, \"25\": 1}, \"9\": {\"45\": 3, \"9\": 101, \"8\": 3, \"54\": 2, \"4\": 6, \"48\": 4, \"27\": 7, \"12\": 2, \"3\": 2, \"29\": 1, \"50\": 4, \"57\": 3, \"51\": 2}, \"57\": {\"57\": 36, \"16\": 2, \"48\": 11, \"4\": 5, \"24\": 1, \"15\": 1, \"9\": 6, \"42\": 3, \"47\": 7, \"51\": 1, \"17\": 3, \"19\": 6, \"36\": 3, \"52\": 3, \"18\": 2, \"29\": 4, \"50\": 1, \"28\": 2, \"20\": 2, \"6\": 1}, \"8\": {\"8\": 126, \"30\": 3, \"20\": 6, \"27\": 3}, \"23\": {\"23\": 127, \"52\": 1, \"18\": 4}, \"47\": {\"47\": 83, \"42\": 3, \"23\": 8, \"54\": 3, \"52\": 2, \"18\": 5, \"17\": 2, \"3\": 1, \"46\": 1, \"25\": 1, \"16\": 3, \"29\": 1, \"48\": 5, \"51\": 1, \"57\": 1}, \"43\": {\"0\": 9, \"43\": 124, \"1\": 1, \"24\": 1, \"10\": 1, \"46\": 2}, \"49\": {\"49\": 19, \"35\": 1}, \"3\": {\"3\": 51, \"8\": 6, \"36\": 10, \"21\": 1, \"6\": 4, \"57\": 2, \"30\": 2, \"5\": 2, \"26\": 1, \"11\": 1, \"12\": 2, \"54\": 5, \"52\": 1, \"27\": 3, \"50\": 13, \"29\": 1, \"51\": 3, \"44\": 1, \"9\": 1, \"48\": 1, \"20\": 5, \"53\": 4, \"17\": 1, \"45\": 2, \"18\": 1}, \"12\": {\"12\": 86, \"20\": 1, \"27\": 4, \"30\": 1}, \"38\": {\"38\": 38, \"22\": 2}, \"7\": {\"7\": 20, \"19\": 1, \"40\": 3}, \"14\": {\"14\": 7, \"49\": 3, \"10\": 1, \"0\": 1, \"35\": 3, \"56\": 1}, \"15\": {\"15\": 130, \"52\": 4, \"24\": 1, \"23\": 1, \"16\": 8, \"54\": 1, \"22\": 1}, \"25\": {\"57\": 3, \"51\": 4, \"25\": 42, \"36\": 6, \"8\": 20, \"50\": 7, \"27\": 7, \"12\": 2, \"45\": 1, \"20\": 9, \"29\": 2, \"53\": 12, \"3\": 4, \"46\": 1, \"44\": 1, \"54\": 1, \"6\": 1, \"47\": 2, \"21\": 1, \"55\": 2}, \"26\": {\"27\": 1, \"26\": 21, \"9\": 1, \"4\": 1}, \"21\": {\"21\": 128, \"20\": 4}, \"48\": {\"48\": 138, \"54\": 1, \"42\": 1, \"17\": 1, \"23\": 1, \"20\": 1, \"53\": 1}, \"56\": {\"56\": 118, \"22\": 8, \"2\": 2, \"10\": 5, \"24\": 1}, \"11\": {\"11\": 80, \"32\": 1, \"1\": 1, \"36\": 1, \"8\": 1, \"16\": 3, \"54\": 3, \"27\": 1, \"12\": 1, \"15\": 3, \"5\": 2, \"46\": 2, \"25\": 1, \"3\": 1, \"48\": 2, \"52\": 1}, \"2\": {\"2\": 30, \"56\": 1, \"43\": 1, \"10\": 4}, \"6\": {\"48\": 14, \"6\": 16, \"17\": 6, \"39\": 1, \"1\": 2, \"51\": 2, \"8\": 5, \"47\": 6, \"54\": 3, \"3\": 2, \"27\": 4, \"45\": 4, \"36\": 9, \"55\": 1, \"23\": 7, \"52\": 1, \"20\": 5, \"44\": 2, \"12\": 1, \"50\": 4, \"4\": 1, \"9\": 1, \"57\": 1, \"28\": 1, \"53\": 3, \"42\": 1, \"41\": 1, \"25\": 1, \"5\": 2, \"0\": 1, \"29\": 1, \"16\": 2, \"18\": 1}, \"55\": {\"55\": 70, \"7\": 1, \"35\": 4, \"40\": 4, \"5\": 4, \"24\": 1, \"41\": 2, \"6\": 2, \"43\": 5, \"46\": 11, \"50\": 2, \"22\": 3, \"3\": 6, \"19\": 2, \"44\": 13, \"10\": 3, \"56\": 2, \"14\": 1, \"0\": 3, \"25\": 1}, \"54\": {\"54\": 45, \"47\": 7, \"23\": 8, \"27\": 1, \"41\": 1, \"52\": 9, \"42\": 3, \"48\": 5, \"36\": 12, \"18\": 1, \"20\": 5, \"8\": 3, \"53\": 1, \"50\": 1, \"5\": 2, \"6\": 1, \"21\": 2, \"9\": 1}, \"29\": {\"48\": 4, \"28\": 3, \"1\": 1, \"4\": 6, \"54\": 4, \"37\": 1, \"15\": 2, \"29\": 39, \"19\": 11, \"8\": 4, \"41\": 3, \"9\": 5, \"50\": 3, \"22\": 1, \"6\": 5, \"5\": 2, \"47\": 1, \"27\": 3, \"45\": 7, \"55\": 2, \"43\": 1, \"44\": 3, \"21\": 2, \"53\": 1, \"51\": 1, \"42\": 1, \"16\": 1, \"17\": 1, \"52\": 2, \"57\": 2, \"40\": 1, \"46\": 1}, \"50\": {\"53\": 11, \"50\": 46, \"51\": 2, \"45\": 6, \"12\": 1, \"21\": 2, \"17\": 1, \"3\": 8, \"27\": 9, \"20\": 3, \"44\": 3, \"54\": 4, \"29\": 2, \"6\": 4, \"4\": 1, \"9\": 6, \"8\": 3, \"48\": 3, \"46\": 1, \"25\": 3, \"36\": 2, \"5\": 1}, \"52\": {\"52\": 96, \"18\": 8, \"23\": 12}, \"35\": {\"35\": 30, \"49\": 2, \"55\": 4, \"7\": 1, \"44\": 1, \"41\": 1, \"6\": 1}, \"4\": {\"4\": 95, \"1\": 1, \"54\": 1, \"9\": 7, \"27\": 2, \"8\": 1, \"48\": 3, \"53\": 1, \"25\": 1, \"28\": 2, \"17\": 4, \"16\": 1, \"50\": 1}, \"18\": {\"18\": 106, \"23\": 2}}, \"C_5\": {\"43\": {\"43\": 138, \"11\": 8, \"3\": 2, \"0\": 2, \"14\": 1, \"15\": 1}, \"35\": {\"35\": 35, \"36\": 1}, \"54\": {\"54\": 74, \"23\": 11, \"1\": 1, \"57\": 3, \"52\": 10, \"20\": 4, \"46\": 1, \"6\": 3, \"8\": 1, \"53\": 1, \"18\": 2, \"45\": 1}, \"22\": {\"22\": 26, \"40\": 1, \"24\": 1}, \"16\": {\"16\": 137, \"23\": 6, \"0\": 1, \"18\": 1, \"52\": 1}, \"5\": {\"5\": 103, \"40\": 2, \"47\": 1, \"3\": 1, \"29\": 8, \"25\": 4, \"9\": 1, \"43\": 1, \"36\": 1, \"49\": 2, \"44\": 2, \"50\": 2}, \"28\": {\"5\": 2, \"57\": 1, \"4\": 3, \"28\": 20, \"39\": 1, \"45\": 1, \"12\": 1, \"8\": 1, \"55\": 1, \"49\": 1}, \"14\": {\"43\": 3, \"14\": 14, \"0\": 1, \"55\": 2, \"33\": 1, \"50\": 4, \"19\": 2, \"45\": 1, \"11\": 3, \"44\": 1, \"3\": 1, \"6\": 1, \"31\": 1, \"36\": 2, \"2\": 1, \"41\": 1, \"39\": 2, \"47\": 1, \"49\": 1, \"28\": 1}, \"51\": {\"51\": 119, \"20\": 1, \"53\": 7, \"16\": 1}, \"19\": {\"9\": 15, \"19\": 73, \"48\": 4, \"32\": 2, \"42\": 1, \"34\": 6, \"16\": 3, \"27\": 17, \"57\": 7, \"1\": 4, \"25\": 1, \"47\": 3, \"51\": 1, \"4\": 1, \"55\": 1, \"52\": 1}, \"31\": {\"31\": 32, \"3\": 1, \"44\": 1, \"14\": 1, \"9\": 1}, \"10\": {\"10\": 68}, \"21\": {\"54\": 5, \"21\": 104, \"53\": 12, \"20\": 2, \"52\": 2, \"6\": 1, \"18\": 1, \"45\": 1, \"16\": 1, \"51\": 2, \"9\": 1, \"26\": 1, \"46\": 1, \"23\": 1, \"8\": 1}, \"3\": {\"14\": 4, \"39\": 2, \"22\": 3, \"3\": 21, \"18\": 2, \"35\": 1, \"46\": 5, \"8\": 1, \"21\": 5, \"40\": 3, \"50\": 5, \"47\": 4, \"24\": 4, \"57\": 4, \"11\": 4, \"56\": 5, \"25\": 5, \"30\": 1, \"13\": 4, \"52\": 2, \"9\": 1, \"55\": 1, \"42\": 1, \"20\": 1, \"15\": 2, \"51\": 1, \"10\": 1, \"54\": 1, \"19\": 1, \"48\": 1, \"36\": 1, \"17\": 1, \"45\": 1, \"0\": 1}, \"57\": {\"54\": 1, \"9\": 2, \"57\": 121, \"53\": 1, \"27\": 1, \"52\": 1, \"42\": 2, \"55\": 1, \"23\": 2}, \"9\": {\"9\": 67, \"19\": 3, \"27\": 28, \"4\": 2, \"48\": 14, \"44\": 1, \"32\": 2, \"35\": 1, \"33\": 1, \"30\": 2, \"50\": 4, \"1\": 10, \"29\": 2, \"47\": 1, \"20\": 1, \"57\": 1, \"54\": 1, \"5\": 1, \"2\": 1, \"53\": 1, \"8\": 1, \"21\": 1}, \"8\": {\"8\": 116, \"47\": 1, \"20\": 10, \"1\": 1, \"6\": 2, \"53\": 2}, \"46\": {\"21\": 5, \"23\": 13, \"46\": 35, \"52\": 19, \"16\": 10, \"20\": 2, \"57\": 11, \"22\": 1, \"31\": 1, \"18\": 4, \"17\": 1, \"33\": 1, \"50\": 1, \"53\": 1, \"34\": 1, \"0\": 1, \"54\": 17, \"6\": 2, \"40\": 1, \"1\": 3, \"11\": 1, \"56\": 4, \"45\": 1, \"42\": 1, \"4\": 1, \"3\": 1, \"48\": 1}, \"23\": {\"23\": 120, \"18\": 3, \"29\": 1}, \"37\": {\"37\": 23, \"31\": 1}, \"34\": {\"48\": 2, \"34\": 29, \"32\": 1, \"57\": 1, \"21\": 1, \"47\": 1, \"30\": 1}, \"4\": {\"28\": 5, \"9\": 6, \"4\": 26, \"27\": 10, \"51\": 3, \"11\": 1, \"45\": 11, \"1\": 1, \"7\": 1, \"48\": 4, \"12\": 3, \"50\": 2, \"33\": 3, \"55\": 5, \"34\": 4, \"30\": 6, \"5\": 1, \"47\": 1, \"25\": 1, \"6\": 1, \"19\": 1, \"20\": 2, \"8\": 1, \"17\": 1}, \"6\": {\"34\": 1, \"8\": 5, \"32\": 1, \"6\": 56, \"54\": 1, \"17\": 14, \"12\": 1, \"20\": 3, \"53\": 4, \"1\": 14, \"30\": 9, \"9\": 2, \"55\": 4, \"23\": 1, \"27\": 3, \"38\": 1, \"41\": 1, \"57\": 1, \"45\": 3, \"47\": 1, \"48\": 2}, \"48\": {\"6\": 1, \"48\": 114, \"20\": 2, \"4\": 1, \"1\": 12, \"17\": 2, \"53\": 2, \"52\": 1, \"3\": 1}, \"44\": {\"44\": 111, \"14\": 1, \"29\": 13, \"36\": 3, \"3\": 1, \"40\": 2, \"25\": 1, \"5\": 4, \"56\": 1, \"50\": 1}, \"40\": {\"40\": 94, \"44\": 7, \"49\": 1, \"5\": 6, \"11\": 1, \"36\": 2, \"29\": 11, \"35\": 1, \"22\": 1}, \"12\": {\"12\": 63, \"30\": 6, \"38\": 2, \"17\": 1, \"8\": 7, \"20\": 3, \"27\": 2, \"53\": 1, \"45\": 1, \"26\": 1, \"51\": 5, \"54\": 2, \"48\": 1, \"6\": 1}, \"30\": {\"30\": 115, \"6\": 3, \"26\": 1, \"8\": 7, \"9\": 1, \"1\": 1}, \"39\": {\"39\": 12, \"48\": 1, \"41\": 3, \"34\": 1, \"8\": 1, \"47\": 1, \"6\": 1}, \"45\": {\"32\": 5, \"30\": 4, \"45\": 33, \"26\": 1, \"27\": 11, \"17\": 3, \"54\": 1, \"41\": 2, \"34\": 2, \"50\": 6, \"9\": 6, \"46\": 1, \"6\": 8, \"48\": 5, \"4\": 4, \"8\": 14, \"20\": 5, \"47\": 2, \"25\": 1, \"1\": 4, \"39\": 1, \"12\": 1, \"55\": 1, \"21\": 1, \"53\": 1, \"19\": 1}, \"36\": {\"44\": 2, \"36\": 76, \"2\": 1, \"0\": 2, \"35\": 1, \"31\": 1, \"49\": 2, \"24\": 1, \"3\": 2, \"43\": 1, \"56\": 2, \"5\": 1}, \"27\": {\"32\": 3, \"27\": 103, \"9\": 14, \"30\": 1, \"50\": 1, \"55\": 1, \"48\": 9, \"21\": 1, \"1\": 4, \"53\": 2, \"45\": 1}, \"32\": {\"32\": 29, \"9\": 2, \"12\": 1}, \"52\": {\"52\": 119, \"23\": 6, \"20\": 1, \"53\": 1, \"18\": 1, \"54\": 2}, \"0\": {\"0\": 81, \"36\": 2, \"49\": 2, \"2\": 3, \"31\": 4, \"14\": 3, \"33\": 1, \"3\": 5, \"44\": 1, \"56\": 10, \"29\": 2, \"46\": 1, \"43\": 1, \"24\": 3, \"11\": 4, \"5\": 1}, \"26\": {\"26\": 24}, \"1\": {\"1\": 121, \"42\": 2, \"48\": 9, \"8\": 2, \"54\": 2, \"52\": 1, \"23\": 3, \"57\": 1, \"44\": 2, \"53\": 2, \"17\": 1, \"6\": 2}, \"53\": {\"53\": 137, \"51\": 4, \"25\": 1, \"20\": 1, \"33\": 1, \"50\": 1, \"9\": 1}, \"25\": {\"1\": 2, \"20\": 12, \"28\": 1, \"25\": 47, \"9\": 3, \"54\": 7, \"32\": 2, \"53\": 6, \"57\": 1, \"6\": 10, \"14\": 1, \"18\": 1, \"48\": 3, \"30\": 9, \"8\": 16, \"47\": 2, \"11\": 1, \"19\": 7, \"50\": 3, \"45\": 2, \"55\": 4, \"38\": 1, \"3\": 1, \"17\": 1, \"27\": 1}, \"24\": {\"24\": 64, \"13\": 3, \"56\": 3, \"43\": 1, \"10\": 3, \"0\": 4, \"42\": 1, \"36\": 1}, \"7\": {\"7\": 31, \"48\": 1}, \"18\": {\"18\": 64}, \"20\": {\"20\": 135, \"53\": 5, \"51\": 1, \"6\": 1, \"27\": 1, \"8\": 1}, \"33\": {\"33\": 18, \"5\": 5, \"28\": 4, \"55\": 1, \"50\": 1, \"47\": 1, \"4\": 1, \"41\": 1}, \"55\": {\"28\": 1, \"30\": 13, \"55\": 55, \"48\": 4, \"57\": 1, \"47\": 4, \"45\": 9, \"27\": 6, \"50\": 1, \"9\": 6, \"8\": 8, \"6\": 10, \"19\": 4, \"25\": 3, \"1\": 2, \"33\": 1, \"17\": 4, \"4\": 3, \"34\": 1, \"12\": 1, \"54\": 2, \"46\": 1}, \"41\": {\"42\": 1, \"30\": 1, \"41\": 20, \"5\": 1, \"48\": 2, \"25\": 1, \"54\": 1, \"23\": 1}, \"42\": {\"42\": 33, \"23\": 3, \"40\": 1, \"57\": 1, \"6\": 2}, \"49\": {\"49\": 31, \"44\": 1, \"29\": 1, \"36\": 2, \"14\": 1}, \"13\": {\"13\": 142, \"10\": 4, \"31\": 1, \"56\": 1}, \"38\": {\"38\": 32}, \"2\": {\"2\": 22, \"29\": 2, \"49\": 1, \"31\": 1, \"40\": 1, \"43\": 1}, \"47\": {\"47\": 24, \"57\": 18, \"39\": 1, \"28\": 1, \"52\": 3, \"54\": 6, \"17\": 1, \"32\": 1, \"50\": 5, \"23\": 6, \"48\": 8, \"34\": 4, \"1\": 5, \"27\": 1, \"45\": 2, \"9\": 2, \"8\": 1, \"16\": 1, \"55\": 1, \"4\": 1, \"42\": 2, \"25\": 2, \"30\": 2, \"33\": 1, \"6\": 1}, \"17\": {\"17\": 114, \"51\": 1, \"20\": 1}, \"11\": {\"3\": 4, \"11\": 119, \"8\": 1, \"46\": 11, \"55\": 1, \"15\": 14, \"21\": 2, \"35\": 1, \"1\": 1}, \"29\": {\"49\": 3, \"29\": 103, \"5\": 11, \"3\": 4, \"0\": 4, \"36\": 2, \"44\": 3, \"11\": 1, \"56\": 1}, \"50\": {\"32\": 2, \"7\": 1, \"39\": 1, \"50\": 47, \"23\": 1, \"2\": 2, \"12\": 2, \"4\": 2, \"6\": 5, \"27\": 5, \"30\": 5, \"55\": 12, \"9\": 7, \"47\": 3, \"5\": 1, \"21\": 6, \"3\": 5, \"54\": 1, \"29\": 1, \"8\": 5, \"45\": 7, \"1\": 2, \"25\": 3, \"14\": 1, \"11\": 1, \"46\": 3, \"19\": 1, \"53\": 1, \"17\": 1, \"57\": 1, \"0\": 1, \"44\": 1, \"48\": 1}, \"56\": {\"56\": 136, \"0\": 6, \"49\": 1, \"36\": 1, \"24\": 2, \"31\": 1, \"44\": 1}, \"15\": {\"15\": 125, \"9\": 2, \"48\": 1, \"19\": 1, \"46\": 2, \"11\": 4, \"52\": 2, \"6\": 1, \"16\": 1, \"21\": 2, \"30\": 1}}, \"C_2\": {\"49\": {\"49\": 15, \"28\": 1, \"32\": 1, \"6\": 1, \"36\": 1, \"48\": 1, \"8\": 2, \"50\": 2}, \"13\": {\"13\": 115, \"24\": 1}, \"37\": {\"37\": 35, \"38\": 1}, \"41\": {\"41\": 19, \"30\": 1}, \"15\": {\"15\": 136, \"16\": 5, \"23\": 1}, \"56\": {\"56\": 126, \"22\": 8, \"24\": 5, \"10\": 1, \"14\": 1, \"13\": 1}, \"14\": {\"56\": 5, \"14\": 6, \"55\": 1, \"24\": 1, \"10\": 2, \"22\": 1, \"13\": 1, \"31\": 2, \"40\": 1, \"42\": 1, \"38\": 1, \"43\": 2}, \"3\": {\"47\": 5, \"41\": 2, \"50\": 4, \"27\": 7, \"45\": 4, \"3\": 14, \"39\": 2, \"8\": 8, \"29\": 2, \"49\": 1, \"57\": 4, \"36\": 3, \"6\": 2, \"9\": 3, \"54\": 3, \"5\": 2, \"53\": 4, \"19\": 2, \"1\": 5, \"46\": 2, \"0\": 1, \"4\": 2, \"51\": 2, \"48\": 1, \"25\": 2, \"34\": 2, \"11\": 1, \"55\": 1, \"21\": 1}, \"38\": {\"38\": 20}, \"43\": {\"43\": 132, \"10\": 6}, \"33\": {\"3\": 1, \"39\": 1, \"33\": 17, \"35\": 3, \"40\": 1, \"19\": 2, \"5\": 2, \"44\": 1}, \"47\": {\"47\": 39, \"41\": 2, \"39\": 1, \"27\": 8, \"46\": 3, \"53\": 2, \"23\": 2, \"54\": 2, \"4\": 5, \"17\": 7, \"28\": 1, \"0\": 1, \"16\": 3, \"45\": 5, \"36\": 1, \"15\": 1, \"29\": 4, \"3\": 2, \"52\": 4, \"48\": 15, \"1\": 8, \"6\": 2, \"50\": 5, \"57\": 4, \"8\": 2, \"19\": 1, \"21\": 1, \"11\": 1, \"18\": 1, \"34\": 1, \"20\": 1, \"12\": 1, \"25\": 1, \"9\": 1}, \"30\": {\"30\": 142, \"36\": 1, \"12\": 1}, \"39\": {\"39\": 25, \"47\": 1, \"41\": 1, \"29\": 1}, \"12\": {\"12\": 89, \"54\": 1, \"27\": 1, \"8\": 1}, \"6\": {\"6\": 62, \"3\": 2, \"48\": 23, \"50\": 1, \"5\": 1, \"27\": 2, \"17\": 5, \"30\": 2, \"54\": 12, \"8\": 2, \"1\": 1, \"23\": 1, \"9\": 1, \"46\": 1, \"34\": 1, \"18\": 2, \"49\": 1, \"21\": 1, \"25\": 1, \"12\": 2}, \"51\": {\"51\": 108, \"53\": 14, \"54\": 2, \"20\": 2, \"50\": 1, \"27\": 1, \"26\": 1, \"21\": 5}, \"5\": {\"5\": 73, \"42\": 2, \"57\": 8, \"1\": 3, \"29\": 4, \"47\": 6, \"9\": 4, \"3\": 3, \"4\": 4, \"55\": 1, \"40\": 1, \"0\": 1, \"53\": 1, \"44\": 1, \"27\": 1, \"46\": 1, \"45\": 2, \"22\": 1, \"25\": 3}, \"34\": {\"36\": 3, \"34\": 20, \"8\": 2, \"4\": 1, \"16\": 1, \"32\": 1}, \"35\": {\"35\": 27, \"33\": 2, \"7\": 1, \"39\": 1, \"4\": 1}, \"0\": {\"0\": 8, \"57\": 3, \"2\": 1, \"15\": 9, \"48\": 5, \"16\": 3, \"49\": 1, \"6\": 1, \"18\": 2, \"23\": 9, \"53\": 1, \"17\": 2, \"21\": 1, \"47\": 2}, \"7\": {\"35\": 1, \"7\": 31, \"2\": 1, \"45\": 1, \"33\": 1, \"1\": 1}, \"24\": {\"24\": 63, \"38\": 1, \"14\": 1, \"56\": 4, \"10\": 15, \"22\": 6, \"43\": 6}, \"8\": {\"12\": 1, \"8\": 121, \"36\": 1, \"51\": 2, \"20\": 6, \"50\": 1, \"25\": 1, \"54\": 1, \"27\": 2}, \"20\": {\"20\": 115, \"8\": 4, \"53\": 1, \"51\": 4}, \"36\": {\"36\": 108, \"32\": 1, \"27\": 3, \"54\": 4}, \"42\": {\"42\": 24, \"34\": 1, \"45\": 1, \"29\": 1, \"2\": 1, \"39\": 1, \"47\": 2, \"46\": 1, \"5\": 2, \"3\": 1, \"25\": 1}, \"1\": {\"0\": 4, \"34\": 1, \"1\": 41, \"27\": 2, \"6\": 5, \"39\": 1, \"2\": 1, \"36\": 3, \"48\": 17, \"23\": 5, \"52\": 3, \"47\": 8, \"25\": 1, \"17\": 6, \"19\": 2, \"5\": 3, \"29\": 1, \"4\": 2, \"49\": 1, \"9\": 1, \"45\": 1, \"57\": 1, \"50\": 2}, \"4\": {\"4\": 117, \"49\": 1, \"27\": 8, \"45\": 4, \"9\": 7, \"6\": 1, \"51\": 1, \"17\": 2, \"32\": 2, \"34\": 1, \"1\": 1, \"12\": 2, \"3\": 1}, \"28\": {\"28\": 19, \"30\": 2, \"23\": 3, \"21\": 1, \"52\": 2, \"17\": 1}, \"50\": {\"50\": 39, \"8\": 23, \"27\": 10, \"54\": 9, \"39\": 2, \"6\": 3, \"20\": 3, \"53\": 11, \"44\": 1, \"3\": 2, \"52\": 2, \"36\": 4, \"12\": 4, \"30\": 2, \"5\": 3, \"40\": 1, \"45\": 4, \"25\": 3, \"48\": 1, \"2\": 1, \"34\": 2, \"17\": 1, \"1\": 2, \"51\": 1, \"46\": 1, \"21\": 1}, \"45\": {\"50\": 7, \"45\": 23, \"54\": 5, \"3\": 3, \"2\": 2, \"36\": 4, \"4\": 25, \"8\": 4, \"6\": 3, \"12\": 4, \"27\": 6, \"11\": 3, \"57\": 2, \"40\": 1, \"19\": 2, \"17\": 2, \"9\": 13, \"25\": 4, \"53\": 4, \"47\": 1, \"20\": 1, \"29\": 4, \"51\": 2, \"0\": 1, \"52\": 1, \"1\": 1}, \"18\": {\"18\": 45, \"30\": 3}, \"57\": {\"57\": 58, \"30\": 4, \"48\": 17, \"4\": 9, \"0\": 1, \"29\": 3, \"16\": 1, \"17\": 8, \"9\": 4, \"6\": 5, \"52\": 3, \"36\": 2, \"23\": 1, \"21\": 1, \"19\": 1, \"54\": 2}, \"46\": {\"42\": 3, \"25\": 4, \"47\": 3, \"39\": 2, \"2\": 5, \"46\": 26, \"21\": 8, \"27\": 1, \"53\": 2, \"52\": 5, \"44\": 1, \"19\": 3, \"11\": 6, \"23\": 2, \"49\": 1, \"6\": 5, \"28\": 3, \"50\": 6, \"55\": 2, \"45\": 8, \"5\": 1, \"40\": 1, \"9\": 4, \"48\": 1, \"4\": 1, \"1\": 4, \"57\": 4, \"43\": 1, \"3\": 7, \"22\": 3, \"24\": 1, \"20\": 1, \"36\": 1, \"29\": 1, \"12\": 1}, \"23\": {\"23\": 145, \"41\": 1, \"18\": 2}, \"27\": {\"27\": 137, \"8\": 1}, \"19\": {\"19\": 81, \"7\": 2, \"2\": 1, \"3\": 3, \"44\": 1, \"47\": 6, \"0\": 2, \"49\": 2, \"36\": 2, \"27\": 6, \"4\": 4, \"50\": 4, \"45\": 2, \"40\": 3, \"29\": 6, \"1\": 4, \"5\": 1, \"11\": 1, \"9\": 2, \"25\": 1}, \"22\": {\"22\": 102, \"55\": 4, \"56\": 15, \"14\": 2, \"24\": 4, \"43\": 5, \"10\": 1, \"13\": 2, \"38\": 1}, \"17\": {\"17\": 101, \"45\": 1, \"18\": 1, \"48\": 1}, \"55\": {\"44\": 10, \"31\": 4, \"55\": 87, \"46\": 5, \"10\": 4, \"43\": 9, \"29\": 2, \"24\": 3, \"5\": 6, \"40\": 1, \"22\": 3, \"25\": 2}, \"44\": {\"44\": 61, \"35\": 5, \"5\": 9, \"40\": 3, \"19\": 9, \"50\": 1, \"7\": 2, \"55\": 4, \"46\": 1, \"31\": 1, \"33\": 1, \"29\": 2, \"3\": 1}, \"26\": {\"26\": 24}, \"31\": {\"31\": 28}, \"16\": {\"16\": 120, \"23\": 7, \"15\": 3}, \"11\": {\"11\": 97, \"3\": 1, \"18\": 1, \"0\": 2, \"16\": 13, \"9\": 4, \"57\": 1, \"52\": 4, \"15\": 5}, \"25\": {\"54\": 17, \"25\": 35, \"32\": 1, \"30\": 1, \"8\": 15, \"27\": 7, \"53\": 9, \"36\": 3, \"12\": 4, \"5\": 2, \"47\": 2, \"50\": 6, \"45\": 5, \"4\": 3, \"19\": 1, \"20\": 6, \"39\": 2, \"1\": 1, \"51\": 2, \"21\": 1, \"6\": 1, \"29\": 1, \"46\": 1}, \"54\": {\"54\": 106, \"53\": 1, \"12\": 1}, \"32\": {\"32\": 28}, \"52\": {\"52\": 104, \"18\": 4, \"15\": 4, \"16\": 5, \"23\": 6, \"46\": 1}, \"40\": {\"40\": 82, \"57\": 4, \"33\": 7, \"55\": 2, \"35\": 3, \"19\": 11, \"3\": 1, \"44\": 7, \"5\": 3, \"29\": 6, \"47\": 1, \"50\": 1, \"45\": 2, \"39\": 1, \"43\": 1}, \"2\": {\"54\": 3, \"45\": 1, \"36\": 3, \"2\": 14, \"11\": 1, \"27\": 2, \"21\": 1, \"30\": 2, \"46\": 1, \"50\": 3, \"34\": 1}, \"10\": {\"10\": 110}, \"53\": {\"53\": 101, \"51\": 17, \"20\": 9, \"21\": 4, \"8\": 3, \"25\": 1, \"54\": 1}, \"9\": {\"4\": 18, \"9\": 83, \"48\": 7, \"17\": 11, \"29\": 5, \"57\": 2, \"45\": 4, \"19\": 3, \"51\": 4, \"0\": 1, \"6\": 1, \"27\": 4, \"11\": 1, \"1\": 1, \"8\": 1, \"21\": 2, \"47\": 1, \"25\": 1}, \"21\": {\"21\": 81, \"2\": 1, \"51\": 16, \"48\": 1, \"53\": 11, \"52\": 1, \"29\": 1, \"1\": 1, \"25\": 1, \"6\": 1, \"20\": 3, \"54\": 1, \"50\": 1}, \"48\": {\"48\": 130, \"17\": 2, \"6\": 1, \"41\": 1, \"52\": 1, \"54\": 1, \"9\": 1, \"16\": 1}, \"29\": {\"29\": 52, \"7\": 2, \"0\": 1, \"17\": 3, \"54\": 1, \"23\": 1, \"49\": 1, \"19\": 8, \"9\": 16, \"40\": 4, \"33\": 1, \"5\": 3, \"12\": 1, \"4\": 14, \"27\": 4, \"57\": 4, \"48\": 1, \"45\": 2, \"34\": 1, \"47\": 2, \"6\": 2, \"46\": 2, \"25\": 1, \"8\": 1}}, \"C_1\": {\"9\": {\"9\": 141, \"17\": 1}, \"25\": {\"25\": 76, \"9\": 4, \"41\": 2, \"4\": 4, \"8\": 9, \"51\": 2, \"46\": 5, \"1\": 4, \"30\": 4, \"45\": 4, \"5\": 3, \"19\": 1, \"53\": 1, \"44\": 1, \"33\": 1, \"14\": 1, \"48\": 1, \"57\": 1, \"50\": 3, \"56\": 1}, \"41\": {\"41\": 22, \"51\": 1, \"2\": 1}, \"29\": {\"29\": 96, \"35\": 3, \"40\": 12, \"32\": 1, \"44\": 4, \"25\": 2, \"56\": 8, \"52\": 2, \"46\": 2, \"47\": 2, \"4\": 1, \"55\": 3, \"42\": 2, \"50\": 2}, \"46\": {\"50\": 16, \"1\": 1, \"48\": 11, \"5\": 12, \"4\": 14, \"46\": 36, \"14\": 1, \"8\": 16, \"30\": 2, \"6\": 8, \"17\": 1, \"57\": 2, \"41\": 1, \"51\": 3, \"16\": 1, \"19\": 1, \"45\": 1, \"56\": 1}, \"4\": {\"46\": 9, \"36\": 2, \"4\": 62, \"53\": 4, \"48\": 10, \"57\": 4, \"8\": 6, \"50\": 14, \"17\": 3, \"1\": 1, \"5\": 2, \"6\": 5, \"37\": 1, \"33\": 5, \"7\": 1, \"2\": 2, \"45\": 1}, \"31\": {\"31\": 27, \"38\": 1}, \"36\": {\"16\": 6, \"36\": 44, \"14\": 2, \"51\": 3, \"23\": 1, \"9\": 3, \"18\": 1, \"19\": 2, \"45\": 1, \"8\": 1}, \"20\": {\"20\": 105, \"12\": 10, \"13\": 4, \"57\": 2, \"54\": 4, \"50\": 1, \"25\": 1, \"51\": 1}, \"7\": {\"7\": 24, \"33\": 2, \"51\": 1, \"9\": 1}, \"6\": {\"50\": 7, \"6\": 49, \"2\": 2, \"26\": 1, \"4\": 1, \"5\": 7, \"8\": 5, \"51\": 1, \"48\": 16, \"53\": 3, \"17\": 2, \"9\": 1, \"46\": 1}, \"16\": {\"16\": 135, \"18\": 3}, \"17\": {\"17\": 62, \"8\": 1, \"48\": 1}, \"50\": {\"50\": 148}, \"57\": {\"17\": 3, \"50\": 2, \"56\": 17, \"57\": 47, \"45\": 12, \"33\": 3, \"42\": 4, \"19\": 20, \"30\": 2, \"37\": 1, \"8\": 6, \"16\": 1, \"18\": 1, \"53\": 7, \"4\": 3, \"48\": 4, \"13\": 2, \"1\": 3, \"51\": 1, \"6\": 3, \"46\": 1, \"54\": 1}, \"23\": {\"36\": 7, \"16\": 13, \"23\": 93, \"21\": 6, \"1\": 4, \"51\": 1, \"54\": 2, \"19\": 3, \"9\": 2, \"34\": 1, \"5\": 1, \"18\": 1, \"45\": 1, \"15\": 1}, \"3\": {\"3\": 103, \"24\": 4, \"55\": 3, \"28\": 1, \"44\": 6, \"0\": 1, \"47\": 1, \"52\": 6, \"29\": 1}, \"53\": {\"53\": 139, \"2\": 1}, \"49\": {\"49\": 30, \"28\": 2}, \"56\": {\"56\": 70, \"50\": 6, \"46\": 5, \"57\": 9, \"33\": 4, \"4\": 6, \"42\": 4, \"34\": 1, \"51\": 5, \"19\": 2, \"8\": 4, \"32\": 1, \"1\": 7, \"25\": 2, \"55\": 1, \"40\": 8, \"44\": 1, \"48\": 5, \"16\": 3, \"53\": 1, \"29\": 3, \"37\": 1, \"45\": 2, \"20\": 1}, \"51\": {\"51\": 74, \"13\": 1, \"18\": 5, \"17\": 4, \"53\": 25, \"16\": 19, \"36\": 1, \"6\": 2, \"9\": 2, \"50\": 1, \"4\": 1, \"2\": 2, \"42\": 2, \"1\": 1, \"20\": 1, \"57\": 1}, \"26\": {\"26\": 18, \"53\": 4, \"41\": 1, \"14\": 1}, \"43\": {\"43\": 138, \"27\": 5, \"24\": 1}, \"22\": {\"22\": 96, \"32\": 1, \"28\": 2, \"43\": 1, \"52\": 8, \"11\": 12, \"0\": 1, \"31\": 1, \"21\": 1, \"10\": 2, \"49\": 1, \"24\": 8, \"15\": 1, \"27\": 1}, \"45\": {\"45\": 84, \"30\": 7, \"53\": 6, \"26\": 2, \"4\": 2, \"17\": 3, \"57\": 1, \"42\": 1, \"8\": 12, \"46\": 3, \"19\": 3, \"48\": 1, \"9\": 10, \"5\": 7, \"56\": 1, \"1\": 1, \"16\": 1, \"50\": 1}, \"13\": {\"13\": 130, \"46\": 2, \"12\": 6, \"20\": 14}, \"12\": {\"12\": 89, \"54\": 7, \"56\": 1, \"51\": 5, \"20\": 6, \"50\": 1, \"53\": 1, \"0\": 1, \"41\": 1, \"36\": 2, \"44\": 1, \"13\": 1}, \"54\": {\"41\": 2, \"54\": 83, \"46\": 2, \"8\": 1, \"20\": 5, \"45\": 1, \"19\": 2, \"53\": 2, \"51\": 3, \"14\": 1, \"18\": 1, \"4\": 1}, \"24\": {\"24\": 80, \"27\": 2, \"39\": 2, \"32\": 2, \"31\": 3, \"43\": 1, \"52\": 5, \"11\": 1, \"3\": 2, \"44\": 1, \"22\": 7, \"47\": 2}, \"44\": {\"47\": 13, \"31\": 1, \"44\": 100, \"35\": 4, \"29\": 7, \"22\": 3, \"25\": 1, \"55\": 1, \"11\": 1, \"49\": 1, \"10\": 1, \"40\": 2, \"3\": 1}, \"28\": {\"28\": 25, \"52\": 3}, \"33\": {\"33\": 23, \"45\": 3, \"9\": 3, \"34\": 1, \"46\": 1, \"4\": 1}, \"38\": {\"28\": 1, \"24\": 2, \"38\": 20, \"39\": 1}, \"0\": {\"0\": 124, \"32\": 1, \"44\": 4, \"13\": 3, \"11\": 5, \"55\": 2, \"22\": 2, \"47\": 2, \"29\": 1}, \"47\": {\"44\": 17, \"47\": 121, \"49\": 1, \"11\": 2, \"10\": 1, \"12\": 1, \"0\": 1, \"52\": 2, \"22\": 2, \"29\": 1, \"25\": 2, \"32\": 2, \"20\": 1}, \"42\": {\"36\": 2, \"42\": 9, \"18\": 3, \"53\": 2, \"0\": 2, \"46\": 1, \"51\": 1, \"33\": 1, \"30\": 2, \"16\": 1, \"48\": 1, \"9\": 4, \"17\": 1, \"14\": 2, \"45\": 3, \"8\": 1, \"4\": 1, \"5\": 1, \"26\": 2}, \"34\": {\"33\": 3, \"34\": 10, \"6\": 1, \"30\": 2, \"26\": 2, \"14\": 2, \"53\": 2, \"45\": 1, \"46\": 1}, \"48\": {\"48\": 109, \"2\": 3, \"6\": 8, \"17\": 3, \"8\": 12, \"50\": 2, \"53\": 3, \"46\": 1, \"5\": 1}, \"35\": {\"35\": 33, \"44\": 1, \"31\": 1, \"32\": 1}, \"2\": {\"2\": 30, \"6\": 1, \"48\": 2, \"53\": 2, \"14\": 1}, \"30\": {\"30\": 116, \"26\": 1, \"9\": 3}, \"18\": {\"18\": 72}, \"37\": {\"56\": 1, \"37\": 22, \"6\": 3, \"19\": 1, \"53\": 1, \"42\": 1, \"45\": 1, \"25\": 1, \"48\": 1}, \"1\": {\"30\": 1, \"56\": 2, \"1\": 41, \"19\": 10, \"33\": 1, \"48\": 4, \"37\": 2, \"8\": 6, \"36\": 2, \"9\": 2, \"53\": 2, \"17\": 2, \"57\": 10, \"16\": 1, \"51\": 3, \"46\": 3, \"45\": 4, \"6\": 2, \"5\": 1, \"4\": 1}, \"11\": {\"11\": 137, \"22\": 1}, \"55\": {\"35\": 1, \"55\": 99, \"32\": 1, \"13\": 6, \"56\": 1, \"42\": 1, \"46\": 2, \"11\": 3, \"15\": 2, \"44\": 4, \"25\": 1, \"20\": 2, \"51\": 1, \"12\": 2, \"40\": 1, \"29\": 1, \"1\": 1, \"8\": 1}, \"15\": {\"15\": 137, \"11\": 1, \"23\": 5, \"21\": 5, \"54\": 2}, \"10\": {\"10\": 88, \"22\": 4, \"11\": 4}, \"27\": {\"27\": 157, \"24\": 1, \"43\": 1, \"52\": 1}, \"19\": {\"19\": 103, \"45\": 9, \"17\": 3, \"26\": 2, \"42\": 2, \"1\": 4, \"51\": 2, \"18\": 2, \"9\": 3, \"16\": 7, \"53\": 4, \"4\": 1, \"57\": 3, \"36\": 1}, \"14\": {\"8\": 3, \"14\": 8, \"53\": 1, \"50\": 1, \"5\": 2, \"36\": 1, \"2\": 2, \"17\": 1, \"6\": 2, \"26\": 1, \"42\": 1, \"1\": 1}, \"8\": {\"48\": 6, \"8\": 124, \"6\": 2, \"17\": 1, \"30\": 7}, \"5\": {\"5\": 128, \"6\": 4, \"8\": 1, \"48\": 1, \"33\": 1, \"50\": 1}, \"39\": {\"39\": 28}, \"52\": {\"52\": 100, \"39\": 2, \"0\": 1, \"47\": 2, \"24\": 5, \"22\": 7, \"29\": 1, \"27\": 1, \"43\": 2, \"38\": 1}, \"21\": {\"21\": 120, \"23\": 4}, \"40\": {\"40\": 85, \"44\": 2, \"56\": 19, \"51\": 2, \"42\": 1, \"35\": 4, \"55\": 2, \"4\": 1, \"52\": 2, \"1\": 6, \"13\": 2, \"0\": 3, \"29\": 6, \"25\": 5, \"46\": 1, \"37\": 1, \"57\": 7, \"45\": 1, \"47\": 2}, \"32\": {\"55\": 1, \"32\": 26, \"12\": 3, \"35\": 1, \"44\": 1}}, \"C_3\": {\"56\": {\"56\": 118, \"22\": 1, \"24\": 1}, \"4\": {\"4\": 102, \"27\": 15, \"51\": 3, \"47\": 4, \"2\": 1, \"3\": 1, \"45\": 2, \"8\": 6, \"46\": 1, \"9\": 7, \"53\": 1, \"17\": 2, \"50\": 1}, \"34\": {\"34\": 32}, \"52\": {\"52\": 125, \"18\": 3, \"15\": 4, \"23\": 3, \"16\": 1}, \"32\": {\"32\": 24, \"12\": 2, \"27\": 1, \"47\": 1}, \"46\": {\"52\": 13, \"26\": 1, \"28\": 1, \"46\": 29, \"34\": 2, \"17\": 1, \"23\": 3, \"42\": 2, \"38\": 3, \"9\": 11, \"50\": 5, \"53\": 6, \"48\": 6, \"36\": 2, \"45\": 1, \"11\": 2, \"21\": 7, \"15\": 2, \"54\": 7, \"20\": 5, \"55\": 8, \"16\": 3, \"6\": 1, \"41\": 1, \"31\": 1, \"47\": 2, \"4\": 2, \"2\": 1, \"19\": 1, \"51\": 1, \"25\": 2, \"27\": 1, \"3\": 2, \"0\": 1}, \"12\": {\"12\": 75, \"54\": 7, \"27\": 1, \"20\": 2, \"17\": 1, \"8\": 6}, \"20\": {\"20\": 124, \"54\": 3, \"50\": 2, \"8\": 2, \"53\": 1}, \"54\": {\"54\": 96, \"12\": 2, \"30\": 2}, \"22\": {\"22\": 84, \"49\": 3, \"56\": 11, \"43\": 6, \"14\": 5, \"31\": 4, \"55\": 11, \"10\": 3, \"13\": 3, \"24\": 5, \"37\": 1, \"28\": 2, \"35\": 1, \"17\": 1}, \"26\": {\"26\": 9, \"34\": 1, \"6\": 1, \"48\": 5, \"23\": 1, \"15\": 3, \"33\": 1, \"41\": 2, \"30\": 1}, \"31\": {\"31\": 28}, \"10\": {\"10\": 64}, \"27\": {\"27\": 124, \"4\": 2, \"6\": 1, \"47\": 1, \"9\": 3, \"46\": 2, \"8\": 3, \"36\": 4, \"30\": 2, \"17\": 1, \"50\": 1}, \"40\": {\"28\": 2, \"40\": 91, \"44\": 8, \"50\": 4, \"55\": 3, \"46\": 4, \"37\": 3, \"29\": 5, \"19\": 3, \"47\": 1, \"3\": 3, \"0\": 1, \"31\": 1, \"6\": 1, \"42\": 1, \"57\": 2, \"22\": 1, \"4\": 1, \"5\": 1}, \"28\": {\"28\": 12, \"14\": 1, \"39\": 2, \"22\": 1, \"44\": 2, \"43\": 1, \"0\": 2, \"55\": 1, \"5\": 2, \"57\": 1, \"29\": 2, \"42\": 1}, \"5\": {\"5\": 57, \"52\": 3, \"26\": 1, \"53\": 4, \"39\": 1, \"4\": 4, \"7\": 1, \"33\": 2, \"35\": 1, \"41\": 2, \"57\": 11, \"46\": 2, \"47\": 3, \"0\": 6, \"29\": 1, \"54\": 1, \"8\": 4, \"19\": 3, \"27\": 2, \"37\": 1, \"48\": 3, \"55\": 2, \"3\": 1}, \"30\": {\"30\": 117, \"50\": 1, \"52\": 2}, \"7\": {\"7\": 32, \"11\": 2, \"37\": 1, \"25\": 1}, \"18\": {\"18\": 84}, \"39\": {\"39\": 10, \"3\": 1, \"5\": 3, \"45\": 1, \"0\": 1}, \"50\": {\"7\": 1, \"12\": 4, \"2\": 4, \"8\": 16, \"50\": 38, \"38\": 1, \"25\": 5, \"47\": 1, \"20\": 10, \"36\": 1, \"6\": 3, \"27\": 3, \"54\": 15, \"51\": 2, \"3\": 7, \"21\": 3, \"46\": 5, \"9\": 2, \"53\": 7, \"28\": 1, \"37\": 1, \"48\": 3, \"30\": 2, \"17\": 1}, \"49\": {\"49\": 17, \"22\": 1, \"24\": 1, \"14\": 1}, \"43\": {\"43\": 121, \"12\": 1}, \"29\": {\"20\": 2, \"29\": 40, \"34\": 1, \"4\": 10, \"3\": 1, \"46\": 4, \"21\": 3, \"5\": 3, \"36\": 2, \"48\": 3, \"6\": 1, \"0\": 2, \"19\": 6, \"57\": 4, \"53\": 2, \"1\": 1, \"9\": 10, \"17\": 3, \"50\": 1, \"27\": 6, \"44\": 2, \"40\": 2, \"51\": 2, \"11\": 1, \"52\": 1, \"25\": 1}, \"35\": {\"35\": 26, \"55\": 1, \"43\": 1}, \"13\": {\"13\": 122, \"22\": 2}, \"36\": {\"36\": 98, \"21\": 1, \"32\": 1}, \"11\": {\"25\": 3, \"11\": 87, \"17\": 2, \"48\": 5, \"34\": 2, \"27\": 3, \"52\": 4, \"30\": 2, \"23\": 1, \"16\": 6, \"46\": 1, \"15\": 10, \"36\": 3, \"20\": 4, \"29\": 1, \"57\": 2, \"33\": 1, \"51\": 1, \"0\": 1, \"9\": 4, \"6\": 2, \"4\": 1}, \"57\": {\"9\": 16, \"57\": 40, \"39\": 1, \"34\": 3, \"27\": 8, \"38\": 1, \"48\": 12, \"51\": 3, \"29\": 8, \"54\": 3, \"16\": 2, \"4\": 4, \"5\": 5, \"30\": 3, \"0\": 5, \"52\": 2, \"20\": 1, \"3\": 1, \"17\": 2, \"46\": 1, \"32\": 1, \"19\": 1, \"6\": 1}, \"9\": {\"9\": 72, \"4\": 11, \"34\": 3, \"17\": 10, \"45\": 2, \"18\": 2, \"52\": 5, \"20\": 1, \"27\": 6, \"57\": 4, \"21\": 2, \"19\": 1, \"25\": 1, \"30\": 1, \"15\": 1, \"32\": 1, \"23\": 1, \"12\": 1, \"48\": 4, \"16\": 1}, \"25\": {\"53\": 6, \"25\": 45, \"12\": 4, \"33\": 2, \"2\": 2, \"4\": 1, \"8\": 14, \"46\": 4, \"50\": 12, \"3\": 4, \"20\": 6, \"21\": 2, \"5\": 1, \"36\": 5, \"54\": 12, \"27\": 2, \"6\": 3, \"47\": 2, \"38\": 1, \"1\": 1, \"30\": 1}, \"16\": {\"16\": 110, \"6\": 1, \"18\": 3, \"23\": 5, \"15\": 4, \"52\": 3}, \"53\": {\"53\": 94, \"51\": 10, \"25\": 1, \"12\": 1, \"8\": 2, \"54\": 2, \"21\": 5, \"20\": 3}, \"33\": {\"25\": 1, \"26\": 1, \"6\": 2, \"41\": 7, \"11\": 1, \"36\": 1, \"48\": 6, \"17\": 2, \"33\": 4, \"54\": 1, \"38\": 1, \"46\": 1}, \"51\": {\"51\": 123, \"53\": 2, \"12\": 1, \"20\": 1, \"21\": 1}, \"44\": {\"44\": 53, \"35\": 2, \"5\": 10, \"39\": 1, \"29\": 2, \"19\": 3, \"1\": 1, \"47\": 1, \"40\": 3, \"55\": 2, \"46\": 2, \"3\": 4, \"42\": 1, \"48\": 1, \"50\": 1, \"57\": 1}, \"48\": {\"48\": 99, \"23\": 1, \"30\": 1, \"17\": 3, \"50\": 1, \"52\": 2, \"15\": 1, \"41\": 1, \"34\": 1, \"18\": 1, \"55\": 1, \"54\": 2}, \"6\": {\"48\": 13, \"5\": 4, \"41\": 2, \"4\": 2, \"2\": 2, \"46\": 2, \"19\": 1, \"34\": 1, \"6\": 12, \"18\": 3, \"42\": 1, \"45\": 1, \"27\": 4, \"50\": 1, \"54\": 5, \"36\": 1, \"3\": 4, \"17\": 11, \"25\": 4, \"52\": 2, \"20\": 1, \"30\": 4, \"0\": 1, \"38\": 1, \"47\": 3, \"53\": 1, \"9\": 1}, \"23\": {\"23\": 142, \"18\": 2}, \"1\": {\"21\": 1, \"41\": 1, \"48\": 9, \"5\": 4, \"1\": 33, \"36\": 5, \"42\": 1, \"47\": 7, \"33\": 2, \"52\": 3, \"9\": 1, \"19\": 4, \"3\": 5, \"57\": 3, \"23\": 1, \"6\": 2, \"50\": 2, \"27\": 3, \"25\": 1, \"29\": 3, \"46\": 4, \"12\": 1, \"16\": 1, \"15\": 1, \"0\": 1, \"8\": 1}, \"17\": {\"41\": 1, \"38\": 1, \"17\": 104, \"30\": 2}, \"21\": {\"21\": 57, \"51\": 14, \"38\": 2, \"12\": 3, \"32\": 1, \"30\": 3, \"53\": 13, \"27\": 3, \"36\": 1, \"50\": 5, \"57\": 1, \"8\": 1, \"20\": 6, \"41\": 1, \"46\": 1, \"9\": 3, \"29\": 2, \"52\": 3, \"54\": 1, \"6\": 1}, \"14\": {\"55\": 5, \"14\": 12, \"22\": 8, \"24\": 3, \"46\": 1, \"10\": 5, \"13\": 2, \"28\": 1, \"43\": 1, \"12\": 1, \"40\": 1}, \"55\": {\"14\": 1, \"55\": 110, \"22\": 4, \"44\": 6, \"43\": 3, \"40\": 4, \"19\": 1, \"3\": 1, \"35\": 5, \"42\": 1, \"46\": 5, \"10\": 1, \"24\": 1, \"50\": 1}, \"41\": {\"21\": 1, \"41\": 20, \"6\": 1, \"52\": 2, \"18\": 2, \"23\": 1, \"48\": 1}, \"3\": {\"34\": 1, \"38\": 1, \"2\": 1, \"3\": 46, \"47\": 3, \"27\": 8, \"4\": 8, \"45\": 4, \"25\": 4, \"19\": 3, \"21\": 4, \"50\": 7, \"1\": 1, \"6\": 5, \"51\": 2, \"8\": 9, \"44\": 1, \"29\": 3, \"36\": 1, \"9\": 3, \"46\": 2, \"48\": 2, \"52\": 1, \"53\": 3, \"26\": 1, \"5\": 5, \"11\": 2, \"20\": 2, \"57\": 2, \"54\": 1, \"0\": 1, \"40\": 1}, \"38\": {\"38\": 26, \"20\": 1, \"54\": 1}, \"2\": {\"2\": 23, \"8\": 1, \"50\": 2, \"51\": 1, \"21\": 3, \"12\": 2}, \"8\": {\"8\": 133, \"36\": 2, \"12\": 2, \"6\": 1, \"53\": 2, \"20\": 1, \"54\": 1}, \"37\": {\"37\": 28}, \"45\": {\"45\": 17, \"12\": 8, \"4\": 7, \"34\": 1, \"54\": 2, \"19\": 1, \"8\": 3, \"3\": 1, \"21\": 1, \"36\": 1, \"46\": 2, \"50\": 2, \"9\": 2, \"27\": 5, \"41\": 1, \"57\": 1, \"32\": 2, \"20\": 2, \"53\": 1}, \"42\": {\"42\": 17, \"5\": 1, \"3\": 4, \"7\": 2, \"21\": 1, \"0\": 3}, \"24\": {\"24\": 87, \"10\": 5, \"14\": 1, \"22\": 6, \"56\": 4, \"43\": 1}, \"15\": {\"15\": 127, \"16\": 7, \"52\": 2}, \"0\": {\"0\": 40, \"15\": 9, \"23\": 7, \"18\": 2, \"34\": 3, \"50\": 2, \"57\": 5, \"30\": 1, \"1\": 5, \"51\": 1, \"48\": 9, \"11\": 1, \"29\": 4, \"36\": 8, \"52\": 3, \"19\": 2, \"20\": 4, \"8\": 3, \"27\": 6, \"4\": 2, \"12\": 1, \"6\": 1, \"9\": 2, \"5\": 1, \"16\": 2}, \"47\": {\"47\": 24, \"22\": 1, \"14\": 1, \"5\": 4, \"34\": 4, \"23\": 4, \"46\": 2, \"16\": 1, \"52\": 1, \"48\": 10, \"1\": 4, \"15\": 4, \"8\": 1, \"27\": 1, \"36\": 1, \"9\": 5, \"57\": 3, \"17\": 3, \"25\": 1, \"29\": 3, \"3\": 2, \"33\": 1, \"20\": 1, \"0\": 4, \"19\": 1, \"55\": 1, \"4\": 1, \"30\": 2, \"18\": 1}, \"19\": {\"19\": 61, \"4\": 6, \"1\": 7, \"36\": 2, \"29\": 7, \"57\": 6, \"46\": 1, \"0\": 5, \"47\": 1, \"50\": 3, \"5\": 3, \"6\": 1, \"8\": 4, \"27\": 2, \"9\": 2, \"45\": 3, \"40\": 1, \"26\": 1, \"52\": 3, \"16\": 1}}}, \"per_domain_accuracy\": {\"O_14\": {\"accuracy\": 0.9294270833333333, \"source?\": true}, \"O_20\": {\"accuracy\": 0.8671875, \"source?\": true}, \"O_50\": {\"accuracy\": 0.909375, \"source?\": true}, \"O_26\": {\"accuracy\": 0.7770833333333333, \"source?\": true}, \"O_32\": {\"accuracy\": 0.8916666666666667, \"source?\": true}, \"O_44\": {\"accuracy\": 0.78203125, \"source?\": true}, \"O_8\": {\"accuracy\": 0.88671875, \"source?\": true}, \"O_38\": {\"accuracy\": 0.9177083333333333, \"source?\": true}, \"C_4\": {\"accuracy\": 0.7009730538922155, \"source?\": false}, \"C_5\": {\"accuracy\": 0.7246857541899442, \"source?\": false}, \"C_2\": {\"accuracy\": 0.7083928571428572, \"source?\": false}, \"C_1\": {\"accuracy\": 0.7635869565217391, \"source?\": false}, \"C_3\": {\"accuracy\": 0.6884191176470589, \"source?\": false}}}, \"history\": {\"epoch_indices\": [1, 2, 3, 4, 5, 6, 7, 8, 9, 10, 11, 12, 13, 14], \"train_label_loss\": [0.9924351131011333, 0.974724343097547, 0.6395098106303652, 0.5490340733540333, 0.49010334325998667, 0.4419184404830005, 0.4095162148867357, 0.3798029938906742, 0.3368600377422159, 0.3090497605858781, 0.285174456531448, 0.2823403403728056, 0.2585850324113077, 0.26739902044466274], \"source_val_label_loss\": [9.378910064697266, 0.71901535987854, 0.5856305956840515, 0.5820236802101135, 0.47748857736587524, 0.4437420070171356, 0.45458388328552246, 0.4232478141784668, 0.3569129407405853, 0.364393949508667, 0.3374031186103821, 0.347555011510849, 0.3436649441719055, 0.3206048309803009], \"target_val_label_loss\": [2186.793701171875, 90.51212310791016, 133.93067932128906, 107.21676635742188, 149.4436798095703, 149.0599822998047, 128.98435974121094, 131.477294921875, 142.4998321533203, 159.87637329101562, 174.66835021972656, 166.39291381835938, 187.25631713867188, 176.1642608642578], \"source_val_acc_label\": [0.6871744791666666, 0.7353841145833333, 0.79150390625, 0.7858072916666666, 0.8307942708333333, 0.8443684895833333, 0.8329752604166667, 0.8453776041666666, 0.8693684895833333, 0.8701497395833333, 0.8776692708333333, 0.8743815104166667, 0.8784830729166667, 0.88349609375], \"target_val_acc_label\": [0.4496785714285714, 0.6608214285714286, 0.64125, 0.6855357142857142, 0.6746428571428571, 0.6803571428571429, 0.6939285714285715, 0.7123571428571429, 0.7004642857142858, 0.7180357142857143, 0.7102857142857143, 0.7070357142857143, 0.7108571428571429, 0.7093214285714285]}, \"dataset_metrics\": {\"source\": {\"train\": {\"n_unique_x\": 179200, \"n_unique_y\": 16, \"n_batch/episode\": 6720}, \"val\": {\"n_unique_x\": 38400, \"n_unique_y\": 16, \"n_batch/episode\": 960}, \"test\": {\"n_unique_x\": 38400, \"n_unique_y\": 16, \"n_batch/episode\": 960}}, \"target\": {\"train\": {\"n_unique_x\": 175158, \"n_unique_y\": 58, \"n_batch/episode\": 6317}, \"val\": {\"n_unique_x\": 37216, \"n_unique_y\": 58, \"n_batch/episode\": 875}, \"test\": {\"n_unique_x\": 37596, \"n_unique_y\": 58, \"n_batch/episode\": 886}}}}'"
      ]
     },
     "execution_count": 29,
     "metadata": {},
     "output_type": "execute_result"
    }
   ],
   "source": [
    "json.dumps(experiment)"
   ]
  }
 ],
 "metadata": {
  "celltoolbar": "Tags",
  "kernelspec": {
   "display_name": "Python 3 (ipykernel)",
   "language": "python",
   "name": "python3"
  },
  "language_info": {
   "codemirror_mode": {
    "name": "ipython",
    "version": 3
   },
   "file_extension": ".py",
   "mimetype": "text/x-python",
   "name": "python",
   "nbconvert_exporter": "python",
   "pygments_lexer": "ipython3",
   "version": "3.8.10"
  },
  "papermill": {
   "default_parameters": {},
   "duration": 2442.377884,
   "end_time": "2022-03-25T10:16:25.302927",
   "environment_variables": {},
   "exception": null,
   "input_path": "/mnt/wd500GB/CSC500/csc500-main/csc500-notebooks/templates/tl_ptn_template.ipynb",
   "output_path": "trial.ipynb",
   "parameters": {
    "parameters": {
     "BEST_MODEL_PATH": "./best_model.pth",
     "NUM_LOGS_PER_EPOCH": 10,
     "criteria_for_best": "target_accuracy",
     "dataset_seed": 420,
     "datasets": [
      {
       "domain_prefix": "C_",
       "domains": [
        1,
        2,
        3,
        4,
        5
       ],
       "episode_transforms": [],
       "labels": [
        "1-10.",
        "1-11.",
        "1-15.",
        "1-16.",
        "1-17.",
        "1-18.",
        "1-19.",
        "10-4.",
        "10-7.",
        "11-1.",
        "11-14.",
        "11-17.",
        "11-20.",
        "11-7.",
        "13-20.",
        "13-8.",
        "14-10.",
        "14-11.",
        "14-14.",
        "14-7.",
        "15-1.",
        "15-20.",
        "16-1.",
        "16-16.",
        "17-10.",
        "17-11.",
        "17-2.",
        "19-1.",
        "19-16.",
        "19-19.",
        "19-20.",
        "19-3.",
        "2-10.",
        "2-11.",
        "2-17.",
        "2-18.",
        "2-20.",
        "2-3.",
        "2-4.",
        "2-5.",
        "2-6.",
        "2-7.",
        "2-8.",
        "3-13.",
        "3-18.",
        "3-3.",
        "4-1.",
        "4-10.",
        "4-11.",
        "4-19.",
        "5-5.",
        "6-15.",
        "7-10.",
        "7-14.",
        "8-18.",
        "8-20.",
        "8-3.",
        "8-8."
       ],
       "num_examples_per_domain_per_label": -1,
       "pickle_path": "/mnt/wd500GB/CSC500/csc500-main/datasets/cores.stratified_ds.2022A.pkl",
       "source_or_target_dataset": "target",
       "x_transforms": [
        "unit_mag",
        "take_200"
       ]
      },
      {
       "domain_prefix": "O_",
       "domains": [
        32,
        38,
        8,
        44,
        14,
        50,
        20,
        26
       ],
       "episode_transforms": [],
       "labels": [
        "3123D52",
        "3123D65",
        "3123D79",
        "3123D80",
        "3123D54",
        "3123D70",
        "3123D7B",
        "3123D89",
        "3123D58",
        "3123D76",
        "3123D7D",
        "3123EFE",
        "3123D64",
        "3123D78",
        "3123D7E",
        "3124E4A"
       ],
       "num_examples_per_domain_per_label": 2000,
       "pickle_path": "/mnt/wd500GB/CSC500/csc500-main/datasets/oracle.Run1_framed_2000Examples_stratified_ds.2022A.pkl",
       "source_or_target_dataset": "source",
       "x_transforms": [
        "unit_mag",
        "take_200",
        "resample_20Msps_to_25Msps"
       ]
      }
     ],
     "device": "cuda",
     "experiment_name": "tl_3Av2:oracle.run1.framed -> cores",
     "lr": 0.0001,
     "n_epoch": 50,
     "n_query": 2,
     "n_shot": 3,
     "n_way": 16,
     "patience": 3,
     "seed": 420,
     "test_k_factor": 2,
     "torch_default_dtype": "torch.float32",
     "train_k_factor": 3,
     "val_k_factor": 2,
     "x_net": [
      {
       "class": "nnReshape",
       "kargs": {
        "shape": [
         -1,
         1,
         2,
         200
        ]
       }
      },
      {
       "class": "Conv2d",
       "kargs": {
        "bias": false,
        "in_channels": 1,
        "kernel_size": [
         1,
         7
        ],
        "out_channels": 256,
        "padding": [
         0,
         3
        ]
       }
      },
      {
       "class": "ReLU",
       "kargs": {
        "inplace": true
       }
      },
      {
       "class": "BatchNorm2d",
       "kargs": {
        "num_features": 256
       }
      },
      {
       "class": "Conv2d",
       "kargs": {
        "bias": true,
        "in_channels": 256,
        "kernel_size": [
         2,
         7
        ],
        "out_channels": 80,
        "padding": [
         0,
         3
        ]
       }
      },
      {
       "class": "ReLU",
       "kargs": {
        "inplace": true
       }
      },
      {
       "class": "BatchNorm2d",
       "kargs": {
        "num_features": 80
       }
      },
      {
       "class": "Flatten",
       "kargs": {}
      },
      {
       "class": "Linear",
       "kargs": {
        "in_features": 16000,
        "out_features": 256
       }
      },
      {
       "class": "ReLU",
       "kargs": {
        "inplace": true
       }
      },
      {
       "class": "BatchNorm1d",
       "kargs": {
        "num_features": 256
       }
      },
      {
       "class": "Linear",
       "kargs": {
        "in_features": 256,
        "out_features": 256
       }
      }
     ],
     "x_shape": [
      2,
      200
     ]
    }
   },
   "start_time": "2022-03-25T09:35:42.925043",
   "version": "2.3.4"
  }
 },
 "nbformat": 4,
 "nbformat_minor": 5
}