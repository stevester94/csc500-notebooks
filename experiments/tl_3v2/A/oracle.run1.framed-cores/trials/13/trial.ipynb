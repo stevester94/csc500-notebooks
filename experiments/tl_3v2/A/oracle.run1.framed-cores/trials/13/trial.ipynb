{
 "cells": [
  {
   "cell_type": "markdown",
   "id": "9fea5f46",
   "metadata": {
    "papermill": {
     "duration": 0.012641,
     "end_time": "2022-03-25T13:53:55.585502",
     "exception": false,
     "start_time": "2022-03-25T13:53:55.572861",
     "status": "completed"
    },
    "tags": []
   },
   "source": [
    "# Transfer Learning Template"
   ]
  },
  {
   "cell_type": "code",
   "execution_count": 1,
   "id": "0902182a",
   "metadata": {
    "execution": {
     "iopub.execute_input": "2022-03-25T13:53:55.622929Z",
     "iopub.status.busy": "2022-03-25T13:53:55.622572Z",
     "iopub.status.idle": "2022-03-25T13:53:56.524344Z",
     "shell.execute_reply": "2022-03-25T13:53:56.524571Z"
    },
    "papermill": {
     "duration": 0.926847,
     "end_time": "2022-03-25T13:53:56.524689",
     "exception": false,
     "start_time": "2022-03-25T13:53:55.597842",
     "status": "completed"
    },
    "tags": []
   },
   "outputs": [],
   "source": [
    "%load_ext autoreload\n",
    "%autoreload 2\n",
    "%matplotlib inline\n",
    "\n",
    "    \n",
    "import os, json, sys, time, random\n",
    "import numpy as np\n",
    "import torch\n",
    "from torch.optim import Adam\n",
    "from  easydict import EasyDict\n",
    "import matplotlib.pyplot as plt\n",
    "\n",
    "from steves_models.steves_ptn import Steves_Prototypical_Network\n",
    "\n",
    "from steves_utils.lazy_iterable_wrapper import Lazy_Iterable_Wrapper\n",
    "from steves_utils.iterable_aggregator import Iterable_Aggregator\n",
    "from steves_utils.ptn_train_eval_test_jig import  PTN_Train_Eval_Test_Jig\n",
    "from steves_utils.torch_sequential_builder import build_sequential\n",
    "from steves_utils.torch_utils import get_dataset_metrics, ptn_confusion_by_domain_over_dataloader\n",
    "from steves_utils.utils_v2 import (per_domain_accuracy_from_confusion, get_datasets_base_path)\n",
    "from steves_utils.PTN.utils import independent_accuracy_assesment\n",
    "\n",
    "from torch.utils.data import DataLoader\n",
    "\n",
    "from steves_utils.stratified_dataset.episodic_accessor import Episodic_Accessor_Factory\n",
    "\n",
    "from steves_utils.ptn_do_report import (\n",
    "    get_loss_curve,\n",
    "    get_results_table,\n",
    "    get_parameters_table,\n",
    "    get_domain_accuracies,\n",
    ")\n",
    "\n",
    "from steves_utils.transforms import get_chained_transform"
   ]
  },
  {
   "cell_type": "markdown",
   "id": "41c840b4",
   "metadata": {
    "papermill": {
     "duration": 0.012348,
     "end_time": "2022-03-25T13:53:56.553665",
     "exception": false,
     "start_time": "2022-03-25T13:53:56.541317",
     "status": "completed"
    },
    "tags": []
   },
   "source": [
    "# Allowed Parameters\n",
    "These are allowed parameters, not defaults\n",
    "Each of these values need to be present in the injected parameters (the notebook will raise an exception if they are not present)\n",
    "\n",
    "Papermill uses the cell tag \"parameters\" to inject the real parameters below this cell.\n",
    "Enable tags to see what I mean"
   ]
  },
  {
   "cell_type": "code",
   "execution_count": 2,
   "id": "fd44eb83",
   "metadata": {
    "execution": {
     "iopub.execute_input": "2022-03-25T13:53:56.581210Z",
     "iopub.status.busy": "2022-03-25T13:53:56.579685Z",
     "iopub.status.idle": "2022-03-25T13:53:56.596105Z",
     "shell.execute_reply": "2022-03-25T13:53:56.596509Z"
    },
    "papermill": {
     "duration": 0.0307,
     "end_time": "2022-03-25T13:53:56.596629",
     "exception": false,
     "start_time": "2022-03-25T13:53:56.565929",
     "status": "completed"
    },
    "tags": []
   },
   "outputs": [],
   "source": [
    "required_parameters = {\n",
    "    \"experiment_name\",\n",
    "    \"lr\",\n",
    "    \"device\",\n",
    "    \"seed\",\n",
    "    \"dataset_seed\",\n",
    "    \"n_shot\",\n",
    "    \"n_query\",\n",
    "    \"n_way\",\n",
    "    \"train_k_factor\",\n",
    "    \"val_k_factor\",\n",
    "    \"test_k_factor\",\n",
    "    \"n_epoch\",\n",
    "    \"patience\",\n",
    "    \"criteria_for_best\",\n",
    "    \"x_net\",\n",
    "    \"datasets\",\n",
    "    \"torch_default_dtype\",\n",
    "    \"NUM_LOGS_PER_EPOCH\",\n",
    "    \"BEST_MODEL_PATH\",\n",
    "    \"x_shape\",\n",
    "}"
   ]
  },
  {
   "cell_type": "code",
   "execution_count": 3,
   "id": "fa3f0049",
   "metadata": {
    "execution": {
     "iopub.execute_input": "2022-03-25T13:53:56.630518Z",
     "iopub.status.busy": "2022-03-25T13:53:56.630230Z",
     "iopub.status.idle": "2022-03-25T13:53:56.643211Z",
     "shell.execute_reply": "2022-03-25T13:53:56.642803Z"
    },
    "papermill": {
     "duration": 0.031126,
     "end_time": "2022-03-25T13:53:56.643317",
     "exception": false,
     "start_time": "2022-03-25T13:53:56.612191",
     "status": "completed"
    },
    "tags": [
     "parameters"
    ]
   },
   "outputs": [],
   "source": [
    "from steves_utils.CORES.utils import (\n",
    "    ALL_NODES,\n",
    "    ALL_NODES_MINIMUM_1000_EXAMPLES,\n",
    "    ALL_DAYS\n",
    ")\n",
    "\n",
    "from steves_utils.ORACLE.utils_v2 import (\n",
    "    ALL_DISTANCES_FEET_NARROWED,\n",
    "    ALL_RUNS,\n",
    "    ALL_SERIAL_NUMBERS,\n",
    ")\n",
    "\n",
    "standalone_parameters = {}\n",
    "standalone_parameters[\"experiment_name\"] = \"STANDALONE PTN\"\n",
    "standalone_parameters[\"lr\"] = 0.001\n",
    "standalone_parameters[\"device\"] = \"cuda\"\n",
    "\n",
    "standalone_parameters[\"seed\"] = 1337\n",
    "standalone_parameters[\"dataset_seed\"] = 1337\n",
    "\n",
    "standalone_parameters[\"n_way\"] = 8\n",
    "standalone_parameters[\"n_shot\"] = 3\n",
    "standalone_parameters[\"n_query\"]  = 2\n",
    "standalone_parameters[\"train_k_factor\"] = 1\n",
    "standalone_parameters[\"val_k_factor\"] = 2\n",
    "standalone_parameters[\"test_k_factor\"] = 2\n",
    "\n",
    "\n",
    "standalone_parameters[\"n_epoch\"] = 50\n",
    "\n",
    "standalone_parameters[\"patience\"] = 10\n",
    "standalone_parameters[\"criteria_for_best\"] = \"source_loss\"\n",
    "\n",
    "standalone_parameters[\"datasets\"] = [\n",
    "    {\n",
    "        \"labels\": ALL_SERIAL_NUMBERS,\n",
    "        \"domains\": ALL_DISTANCES_FEET_NARROWED,\n",
    "        \"num_examples_per_domain_per_label\": 100,\n",
    "        \"pickle_path\": os.path.join(get_datasets_base_path(), \"oracle.Run1_framed_2000Examples_stratified_ds.2022A.pkl\"),\n",
    "        \"source_or_target_dataset\": \"source\",\n",
    "        \"x_transforms\": [\"unit_mag\", \"minus_two\"],\n",
    "        \"episode_transforms\": [],\n",
    "        \"domain_prefix\": \"ORACLE_\"\n",
    "    },\n",
    "    {\n",
    "        \"labels\": ALL_NODES,\n",
    "        \"domains\": ALL_DAYS,\n",
    "        \"num_examples_per_domain_per_label\": 100,\n",
    "        \"pickle_path\": os.path.join(get_datasets_base_path(), \"cores.stratified_ds.2022A.pkl\"),\n",
    "        \"source_or_target_dataset\": \"target\",\n",
    "        \"x_transforms\": [\"unit_power\", \"times_zero\"],\n",
    "        \"episode_transforms\": [],\n",
    "        \"domain_prefix\": \"CORES_\"\n",
    "    }   \n",
    "]\n",
    "\n",
    "standalone_parameters[\"torch_default_dtype\"] = \"torch.float32\" \n",
    "\n",
    "\n",
    "\n",
    "standalone_parameters[\"x_net\"] =     [\n",
    "    {\"class\": \"nnReshape\", \"kargs\": {\"shape\":[-1, 1, 2, 256]}},\n",
    "    {\"class\": \"Conv2d\", \"kargs\": { \"in_channels\":1, \"out_channels\":256, \"kernel_size\":(1,7), \"bias\":False, \"padding\":(0,3), },},\n",
    "    {\"class\": \"ReLU\", \"kargs\": {\"inplace\": True}},\n",
    "    {\"class\": \"BatchNorm2d\", \"kargs\": {\"num_features\":256}},\n",
    "\n",
    "    {\"class\": \"Conv2d\", \"kargs\": { \"in_channels\":256, \"out_channels\":80, \"kernel_size\":(2,7), \"bias\":True, \"padding\":(0,3), },},\n",
    "    {\"class\": \"ReLU\", \"kargs\": {\"inplace\": True}},\n",
    "    {\"class\": \"BatchNorm2d\", \"kargs\": {\"num_features\":80}},\n",
    "    {\"class\": \"Flatten\", \"kargs\": {}},\n",
    "\n",
    "    {\"class\": \"Linear\", \"kargs\": {\"in_features\": 80*256, \"out_features\": 256}}, # 80 units per IQ pair\n",
    "    {\"class\": \"ReLU\", \"kargs\": {\"inplace\": True}},\n",
    "    {\"class\": \"BatchNorm1d\", \"kargs\": {\"num_features\":256}},\n",
    "\n",
    "    {\"class\": \"Linear\", \"kargs\": {\"in_features\": 256, \"out_features\": 256}},\n",
    "]\n",
    "\n",
    "# Parameters relevant to results\n",
    "# These parameters will basically never need to change\n",
    "standalone_parameters[\"NUM_LOGS_PER_EPOCH\"] = 10\n",
    "standalone_parameters[\"BEST_MODEL_PATH\"] = \"./best_model.pth\"\n",
    "\n",
    "\n",
    "\n",
    "\n"
   ]
  },
  {
   "cell_type": "code",
   "execution_count": 4,
   "id": "4cddc9cc",
   "metadata": {
    "execution": {
     "iopub.execute_input": "2022-03-25T13:53:56.679854Z",
     "iopub.status.busy": "2022-03-25T13:53:56.675235Z",
     "iopub.status.idle": "2022-03-25T13:53:56.691922Z",
     "shell.execute_reply": "2022-03-25T13:53:56.692303Z"
    },
    "papermill": {
     "duration": 0.030831,
     "end_time": "2022-03-25T13:53:56.692427",
     "exception": false,
     "start_time": "2022-03-25T13:53:56.661596",
     "status": "completed"
    },
    "tags": [
     "injected-parameters"
    ]
   },
   "outputs": [],
   "source": [
    "# Parameters\n",
    "parameters = {\n",
    "    \"experiment_name\": \"tl_3Av2:oracle.run1.framed -> cores\",\n",
    "    \"device\": \"cuda\",\n",
    "    \"lr\": 0.0001,\n",
    "    \"x_shape\": [2, 200],\n",
    "    \"n_shot\": 3,\n",
    "    \"n_query\": 2,\n",
    "    \"train_k_factor\": 3,\n",
    "    \"val_k_factor\": 2,\n",
    "    \"test_k_factor\": 2,\n",
    "    \"torch_default_dtype\": \"torch.float32\",\n",
    "    \"n_epoch\": 50,\n",
    "    \"patience\": 3,\n",
    "    \"criteria_for_best\": \"target_accuracy\",\n",
    "    \"x_net\": [\n",
    "        {\"class\": \"nnReshape\", \"kargs\": {\"shape\": [-1, 1, 2, 200]}},\n",
    "        {\n",
    "            \"class\": \"Conv2d\",\n",
    "            \"kargs\": {\n",
    "                \"in_channels\": 1,\n",
    "                \"out_channels\": 256,\n",
    "                \"kernel_size\": [1, 7],\n",
    "                \"bias\": False,\n",
    "                \"padding\": [0, 3],\n",
    "            },\n",
    "        },\n",
    "        {\"class\": \"ReLU\", \"kargs\": {\"inplace\": True}},\n",
    "        {\"class\": \"BatchNorm2d\", \"kargs\": {\"num_features\": 256}},\n",
    "        {\n",
    "            \"class\": \"Conv2d\",\n",
    "            \"kargs\": {\n",
    "                \"in_channels\": 256,\n",
    "                \"out_channels\": 80,\n",
    "                \"kernel_size\": [2, 7],\n",
    "                \"bias\": True,\n",
    "                \"padding\": [0, 3],\n",
    "            },\n",
    "        },\n",
    "        {\"class\": \"ReLU\", \"kargs\": {\"inplace\": True}},\n",
    "        {\"class\": \"BatchNorm2d\", \"kargs\": {\"num_features\": 80}},\n",
    "        {\"class\": \"Flatten\", \"kargs\": {}},\n",
    "        {\"class\": \"Linear\", \"kargs\": {\"in_features\": 16000, \"out_features\": 256}},\n",
    "        {\"class\": \"ReLU\", \"kargs\": {\"inplace\": True}},\n",
    "        {\"class\": \"BatchNorm1d\", \"kargs\": {\"num_features\": 256}},\n",
    "        {\"class\": \"Linear\", \"kargs\": {\"in_features\": 256, \"out_features\": 256}},\n",
    "    ],\n",
    "    \"NUM_LOGS_PER_EPOCH\": 10,\n",
    "    \"BEST_MODEL_PATH\": \"./best_model.pth\",\n",
    "    \"n_way\": 16,\n",
    "    \"datasets\": [\n",
    "        {\n",
    "            \"labels\": [\n",
    "                \"1-10.\",\n",
    "                \"1-11.\",\n",
    "                \"1-15.\",\n",
    "                \"1-16.\",\n",
    "                \"1-17.\",\n",
    "                \"1-18.\",\n",
    "                \"1-19.\",\n",
    "                \"10-4.\",\n",
    "                \"10-7.\",\n",
    "                \"11-1.\",\n",
    "                \"11-14.\",\n",
    "                \"11-17.\",\n",
    "                \"11-20.\",\n",
    "                \"11-7.\",\n",
    "                \"13-20.\",\n",
    "                \"13-8.\",\n",
    "                \"14-10.\",\n",
    "                \"14-11.\",\n",
    "                \"14-14.\",\n",
    "                \"14-7.\",\n",
    "                \"15-1.\",\n",
    "                \"15-20.\",\n",
    "                \"16-1.\",\n",
    "                \"16-16.\",\n",
    "                \"17-10.\",\n",
    "                \"17-11.\",\n",
    "                \"17-2.\",\n",
    "                \"19-1.\",\n",
    "                \"19-16.\",\n",
    "                \"19-19.\",\n",
    "                \"19-20.\",\n",
    "                \"19-3.\",\n",
    "                \"2-10.\",\n",
    "                \"2-11.\",\n",
    "                \"2-17.\",\n",
    "                \"2-18.\",\n",
    "                \"2-20.\",\n",
    "                \"2-3.\",\n",
    "                \"2-4.\",\n",
    "                \"2-5.\",\n",
    "                \"2-6.\",\n",
    "                \"2-7.\",\n",
    "                \"2-8.\",\n",
    "                \"3-13.\",\n",
    "                \"3-18.\",\n",
    "                \"3-3.\",\n",
    "                \"4-1.\",\n",
    "                \"4-10.\",\n",
    "                \"4-11.\",\n",
    "                \"4-19.\",\n",
    "                \"5-5.\",\n",
    "                \"6-15.\",\n",
    "                \"7-10.\",\n",
    "                \"7-14.\",\n",
    "                \"8-18.\",\n",
    "                \"8-20.\",\n",
    "                \"8-3.\",\n",
    "                \"8-8.\",\n",
    "            ],\n",
    "            \"domains\": [1, 2, 3, 4, 5],\n",
    "            \"num_examples_per_domain_per_label\": -1,\n",
    "            \"pickle_path\": \"/mnt/wd500GB/CSC500/csc500-main/datasets/cores.stratified_ds.2022A.pkl\",\n",
    "            \"source_or_target_dataset\": \"target\",\n",
    "            \"x_transforms\": [\"unit_mag\", \"take_200\"],\n",
    "            \"episode_transforms\": [],\n",
    "            \"domain_prefix\": \"C_\",\n",
    "        },\n",
    "        {\n",
    "            \"labels\": [\n",
    "                \"3123D52\",\n",
    "                \"3123D65\",\n",
    "                \"3123D79\",\n",
    "                \"3123D80\",\n",
    "                \"3123D54\",\n",
    "                \"3123D70\",\n",
    "                \"3123D7B\",\n",
    "                \"3123D89\",\n",
    "                \"3123D58\",\n",
    "                \"3123D76\",\n",
    "                \"3123D7D\",\n",
    "                \"3123EFE\",\n",
    "                \"3123D64\",\n",
    "                \"3123D78\",\n",
    "                \"3123D7E\",\n",
    "                \"3124E4A\",\n",
    "            ],\n",
    "            \"domains\": [32, 38, 8, 44, 14, 50, 20, 26],\n",
    "            \"num_examples_per_domain_per_label\": 2000,\n",
    "            \"pickle_path\": \"/mnt/wd500GB/CSC500/csc500-main/datasets/oracle.Run1_framed_2000Examples_stratified_ds.2022A.pkl\",\n",
    "            \"source_or_target_dataset\": \"source\",\n",
    "            \"x_transforms\": [\"unit_mag\", \"take_200\", \"resample_20Msps_to_25Msps\"],\n",
    "            \"episode_transforms\": [],\n",
    "            \"domain_prefix\": \"O_\",\n",
    "        },\n",
    "    ],\n",
    "    \"seed\": 500,\n",
    "    \"dataset_seed\": 500,\n",
    "}\n"
   ]
  },
  {
   "cell_type": "code",
   "execution_count": 5,
   "id": "8fa1cc33",
   "metadata": {
    "execution": {
     "iopub.execute_input": "2022-03-25T13:53:56.727265Z",
     "iopub.status.busy": "2022-03-25T13:53:56.727009Z",
     "iopub.status.idle": "2022-03-25T13:53:56.738418Z",
     "shell.execute_reply": "2022-03-25T13:53:56.738202Z"
    },
    "papermill": {
     "duration": 0.027642,
     "end_time": "2022-03-25T13:53:56.738476",
     "exception": false,
     "start_time": "2022-03-25T13:53:56.710834",
     "status": "completed"
    },
    "tags": []
   },
   "outputs": [],
   "source": [
    "# Set this to True if you want to run this template directly\n",
    "STANDALONE = False\n",
    "if STANDALONE:\n",
    "    print(\"parameters not injected, running with standalone_parameters\")\n",
    "    parameters = standalone_parameters\n",
    "\n",
    "if not 'parameters' in locals() and not 'parameters' in globals():\n",
    "    raise Exception(\"Parameter injection failed\")\n",
    "\n",
    "#Use an easy dict for all the parameters\n",
    "p = EasyDict(parameters)\n",
    "\n",
    "if \"x_shape\" not in p:\n",
    "    p.x_shape = [2,256] # Default to this if we dont supply x_shape\n",
    "\n",
    "\n",
    "supplied_keys = set(p.keys())\n",
    "\n",
    "if  supplied_keys != required_parameters:\n",
    "    print(\"Parameters are incorrect\")\n",
    "    if len(supplied_keys - required_parameters)>0: print(\"Shouldn't have:\", str(supplied_keys - required_parameters))\n",
    "    if len(required_parameters - supplied_keys)>0: print(\"Need to have:\", str(required_parameters - supplied_keys))\n",
    "    raise RuntimeError(\"Parameters are incorrect\")"
   ]
  },
  {
   "cell_type": "code",
   "execution_count": 6,
   "id": "3a028d58",
   "metadata": {
    "execution": {
     "iopub.execute_input": "2022-03-25T13:53:56.769515Z",
     "iopub.status.busy": "2022-03-25T13:53:56.769264Z",
     "iopub.status.idle": "2022-03-25T13:53:56.782787Z",
     "shell.execute_reply": "2022-03-25T13:53:56.782364Z"
    },
    "papermill": {
     "duration": 0.027901,
     "end_time": "2022-03-25T13:53:56.782886",
     "exception": false,
     "start_time": "2022-03-25T13:53:56.754985",
     "status": "completed"
    },
    "tags": []
   },
   "outputs": [],
   "source": [
    "###################################\n",
    "# Set the RNGs and make it all deterministic\n",
    "###################################\n",
    "np.random.seed(p.seed)\n",
    "random.seed(p.seed)\n",
    "torch.manual_seed(p.seed)\n",
    "\n",
    "torch.use_deterministic_algorithms(True) "
   ]
  },
  {
   "cell_type": "code",
   "execution_count": 7,
   "id": "b691acf6",
   "metadata": {
    "execution": {
     "iopub.execute_input": "2022-03-25T13:53:56.814217Z",
     "iopub.status.busy": "2022-03-25T13:53:56.813410Z",
     "iopub.status.idle": "2022-03-25T13:53:56.829357Z",
     "shell.execute_reply": "2022-03-25T13:53:56.828936Z"
    },
    "papermill": {
     "duration": 0.029819,
     "end_time": "2022-03-25T13:53:56.829456",
     "exception": false,
     "start_time": "2022-03-25T13:53:56.799637",
     "status": "completed"
    },
    "tags": []
   },
   "outputs": [],
   "source": [
    "###########################################\n",
    "# The stratified datasets honor this\n",
    "###########################################\n",
    "torch.set_default_dtype(eval(p.torch_default_dtype))"
   ]
  },
  {
   "cell_type": "code",
   "execution_count": 8,
   "id": "b5fba671",
   "metadata": {
    "execution": {
     "iopub.execute_input": "2022-03-25T13:53:56.862209Z",
     "iopub.status.busy": "2022-03-25T13:53:56.861925Z",
     "iopub.status.idle": "2022-03-25T13:53:56.897695Z",
     "shell.execute_reply": "2022-03-25T13:53:56.898093Z"
    },
    "papermill": {
     "duration": 0.050724,
     "end_time": "2022-03-25T13:53:56.898230",
     "exception": false,
     "start_time": "2022-03-25T13:53:56.847506",
     "status": "completed"
    },
    "tags": []
   },
   "outputs": [],
   "source": [
    "###################################\n",
    "# Build the network(s)\n",
    "# Note: It's critical to do this AFTER setting the RNG\n",
    "###################################\n",
    "x_net = build_sequential(p.x_net)"
   ]
  },
  {
   "cell_type": "code",
   "execution_count": 9,
   "id": "5d7e61cc",
   "metadata": {
    "execution": {
     "iopub.execute_input": "2022-03-25T13:53:56.930575Z",
     "iopub.status.busy": "2022-03-25T13:53:56.929848Z",
     "iopub.status.idle": "2022-03-25T13:53:56.943797Z",
     "shell.execute_reply": "2022-03-25T13:53:56.944174Z"
    },
    "papermill": {
     "duration": 0.028543,
     "end_time": "2022-03-25T13:53:56.944299",
     "exception": false,
     "start_time": "2022-03-25T13:53:56.915756",
     "status": "completed"
    },
    "tags": []
   },
   "outputs": [],
   "source": [
    "start_time_secs = time.time()"
   ]
  },
  {
   "cell_type": "code",
   "execution_count": 10,
   "id": "c6b67dfd",
   "metadata": {
    "execution": {
     "iopub.execute_input": "2022-03-25T13:53:56.978973Z",
     "iopub.status.busy": "2022-03-25T13:53:56.978719Z",
     "iopub.status.idle": "2022-03-25T13:53:56.993720Z",
     "shell.execute_reply": "2022-03-25T13:53:56.993485Z"
    },
    "papermill": {
     "duration": 0.030872,
     "end_time": "2022-03-25T13:53:56.993783",
     "exception": false,
     "start_time": "2022-03-25T13:53:56.962911",
     "status": "completed"
    },
    "tags": []
   },
   "outputs": [],
   "source": [
    "p.domains_source = []\n",
    "p.domains_target = []\n",
    "\n",
    "\n",
    "train_original_source = []\n",
    "val_original_source   = []\n",
    "test_original_source  = []\n",
    "\n",
    "train_original_target = []\n",
    "val_original_target   = []\n",
    "test_original_target  = []"
   ]
  },
  {
   "cell_type": "code",
   "execution_count": 11,
   "id": "e3d9c3d3",
   "metadata": {
    "execution": {
     "iopub.execute_input": "2022-03-25T13:53:57.022786Z",
     "iopub.status.busy": "2022-03-25T13:53:57.022385Z",
     "iopub.status.idle": "2022-03-25T13:53:57.033790Z",
     "shell.execute_reply": "2022-03-25T13:53:57.033545Z"
    },
    "papermill": {
     "duration": 0.026721,
     "end_time": "2022-03-25T13:53:57.033852",
     "exception": false,
     "start_time": "2022-03-25T13:53:57.007131",
     "status": "completed"
    },
    "tags": []
   },
   "outputs": [],
   "source": [
    "# global_x_transform_func = lambda x: normalize(x.to(torch.get_default_dtype()), \"unit_power\") # unit_power, unit_mag\n",
    "# global_x_transform_func = lambda x: normalize(x, \"unit_power\") # unit_power, unit_mag"
   ]
  },
  {
   "cell_type": "code",
   "execution_count": 12,
   "id": "acb78fd2",
   "metadata": {
    "execution": {
     "iopub.execute_input": "2022-03-25T13:53:57.066658Z",
     "iopub.status.busy": "2022-03-25T13:53:57.066239Z",
     "iopub.status.idle": "2022-03-25T13:53:57.078221Z",
     "shell.execute_reply": "2022-03-25T13:53:57.077960Z"
    },
    "papermill": {
     "duration": 0.029687,
     "end_time": "2022-03-25T13:53:57.078279",
     "exception": false,
     "start_time": "2022-03-25T13:53:57.048592",
     "status": "completed"
    },
    "tags": []
   },
   "outputs": [],
   "source": [
    "def add_dataset(\n",
    "    labels,\n",
    "    domains,\n",
    "    pickle_path,\n",
    "    x_transforms,\n",
    "    episode_transforms,\n",
    "    domain_prefix,\n",
    "    num_examples_per_domain_per_label,\n",
    "    source_or_target_dataset:str,\n",
    "    iterator_seed=p.seed,\n",
    "    dataset_seed=p.dataset_seed,\n",
    "    n_shot=p.n_shot,\n",
    "    n_way=p.n_way,\n",
    "    n_query=p.n_query,\n",
    "    train_val_test_k_factors=(p.train_k_factor,p.val_k_factor,p.test_k_factor),\n",
    "):\n",
    "   \n",
    "    if x_transforms == []: x_transform = None\n",
    "    else: x_transform = get_chained_transform(x_transforms)\n",
    "    \n",
    "    if episode_transforms == []: episode_transform = None\n",
    "    else: raise Exception(\"episode_transforms not implemented\")\n",
    "    \n",
    "    episode_transform = lambda tup, _prefix=domain_prefix: (_prefix + str(tup[0]), tup[1])\n",
    "\n",
    "\n",
    "    eaf = Episodic_Accessor_Factory(\n",
    "        labels=labels,\n",
    "        domains=domains,\n",
    "        num_examples_per_domain_per_label=num_examples_per_domain_per_label,\n",
    "        iterator_seed=iterator_seed,\n",
    "        dataset_seed=dataset_seed,\n",
    "        n_shot=n_shot,\n",
    "        n_way=n_way,\n",
    "        n_query=n_query,\n",
    "        train_val_test_k_factors=train_val_test_k_factors,\n",
    "        pickle_path=pickle_path,\n",
    "        x_transform_func=x_transform,\n",
    "    )\n",
    "\n",
    "    train, val, test = eaf.get_train(), eaf.get_val(), eaf.get_test()\n",
    "    train = Lazy_Iterable_Wrapper(train, episode_transform)\n",
    "    val = Lazy_Iterable_Wrapper(val, episode_transform)\n",
    "    test = Lazy_Iterable_Wrapper(test, episode_transform)\n",
    "\n",
    "    if source_or_target_dataset==\"source\":\n",
    "        train_original_source.append(train)\n",
    "        val_original_source.append(val)\n",
    "        test_original_source.append(test)\n",
    "\n",
    "        p.domains_source.extend(\n",
    "            [domain_prefix + str(u) for u in domains]\n",
    "        )\n",
    "    elif source_or_target_dataset==\"target\":\n",
    "        train_original_target.append(train)\n",
    "        val_original_target.append(val)\n",
    "        test_original_target.append(test)\n",
    "        p.domains_target.extend(\n",
    "            [domain_prefix + str(u) for u in domains]\n",
    "        )\n",
    "    else:\n",
    "        raise Exception(f\"invalid source_or_target_dataset: {source_or_target_dataset}\")\n",
    "    "
   ]
  },
  {
   "cell_type": "code",
   "execution_count": 13,
   "id": "fe266617",
   "metadata": {
    "execution": {
     "iopub.execute_input": "2022-03-25T13:53:57.106570Z",
     "iopub.status.busy": "2022-03-25T13:53:57.106306Z",
     "iopub.status.idle": "2022-03-25T13:54:46.282609Z",
     "shell.execute_reply": "2022-03-25T13:54:46.283025Z"
    },
    "papermill": {
     "duration": 49.191486,
     "end_time": "2022-03-25T13:54:46.283157",
     "exception": false,
     "start_time": "2022-03-25T13:53:57.091671",
     "status": "completed"
    },
    "tags": []
   },
   "outputs": [],
   "source": [
    "for ds in p.datasets:\n",
    "    add_dataset(**ds)"
   ]
  },
  {
   "cell_type": "code",
   "execution_count": 14,
   "id": "b90d65ac",
   "metadata": {
    "execution": {
     "iopub.execute_input": "2022-03-25T13:54:46.318442Z",
     "iopub.status.busy": "2022-03-25T13:54:46.318151Z",
     "iopub.status.idle": "2022-03-25T13:54:46.334846Z",
     "shell.execute_reply": "2022-03-25T13:54:46.334361Z"
    },
    "papermill": {
     "duration": 0.031816,
     "end_time": "2022-03-25T13:54:46.334944",
     "exception": false,
     "start_time": "2022-03-25T13:54:46.303128",
     "status": "completed"
    },
    "tags": []
   },
   "outputs": [],
   "source": [
    "# from steves_utils.CORES.utils import (\n",
    "#     ALL_NODES,\n",
    "#     ALL_NODES_MINIMUM_1000_EXAMPLES,\n",
    "#     ALL_DAYS\n",
    "# )\n",
    "\n",
    "# add_dataset(\n",
    "#     labels=ALL_NODES,\n",
    "#     domains = ALL_DAYS,\n",
    "#     num_examples_per_domain_per_label=100,\n",
    "#     pickle_path=os.path.join(get_datasets_base_path(), \"cores.stratified_ds.2022A.pkl\"),\n",
    "#     source_or_target_dataset=\"target\",\n",
    "#     x_transform_func=global_x_transform_func,\n",
    "#     domain_modifier=lambda u: f\"cores_{u}\"\n",
    "# )"
   ]
  },
  {
   "cell_type": "code",
   "execution_count": 15,
   "id": "76db484d",
   "metadata": {
    "execution": {
     "iopub.execute_input": "2022-03-25T13:54:46.373299Z",
     "iopub.status.busy": "2022-03-25T13:54:46.371068Z",
     "iopub.status.idle": "2022-03-25T13:54:46.381973Z",
     "shell.execute_reply": "2022-03-25T13:54:46.381750Z"
    },
    "papermill": {
     "duration": 0.025827,
     "end_time": "2022-03-25T13:54:46.382043",
     "exception": false,
     "start_time": "2022-03-25T13:54:46.356216",
     "status": "completed"
    },
    "tags": []
   },
   "outputs": [],
   "source": [
    "# from steves_utils.ORACLE.utils_v2 import (\n",
    "#     ALL_DISTANCES_FEET,\n",
    "#     ALL_RUNS,\n",
    "#     ALL_SERIAL_NUMBERS,\n",
    "# )\n",
    "\n",
    "\n",
    "# add_dataset(\n",
    "#     labels=ALL_SERIAL_NUMBERS,\n",
    "#     domains = list(set(ALL_DISTANCES_FEET) - {2,62}),\n",
    "#     num_examples_per_domain_per_label=100,\n",
    "#     pickle_path=os.path.join(get_datasets_base_path(), \"oracle.Run2_framed_2000Examples_stratified_ds.2022A.pkl\"),\n",
    "#     source_or_target_dataset=\"source\",\n",
    "#     x_transform_func=global_x_transform_func,\n",
    "#     domain_modifier=lambda u: f\"oracle1_{u}\"\n",
    "# )\n"
   ]
  },
  {
   "cell_type": "code",
   "execution_count": 16,
   "id": "97dea9d2",
   "metadata": {
    "execution": {
     "iopub.execute_input": "2022-03-25T13:54:46.418467Z",
     "iopub.status.busy": "2022-03-25T13:54:46.417961Z",
     "iopub.status.idle": "2022-03-25T13:54:46.431253Z",
     "shell.execute_reply": "2022-03-25T13:54:46.431640Z"
    },
    "papermill": {
     "duration": 0.02953,
     "end_time": "2022-03-25T13:54:46.431763",
     "exception": false,
     "start_time": "2022-03-25T13:54:46.402233",
     "status": "completed"
    },
    "tags": []
   },
   "outputs": [],
   "source": [
    "# from steves_utils.ORACLE.utils_v2 import (\n",
    "#     ALL_DISTANCES_FEET,\n",
    "#     ALL_RUNS,\n",
    "#     ALL_SERIAL_NUMBERS,\n",
    "# )\n",
    "\n",
    "\n",
    "# add_dataset(\n",
    "#     labels=ALL_SERIAL_NUMBERS,\n",
    "#     domains = list(set(ALL_DISTANCES_FEET) - {2,62,56}),\n",
    "#     num_examples_per_domain_per_label=100,\n",
    "#     pickle_path=os.path.join(get_datasets_base_path(), \"oracle.Run2_framed_2000Examples_stratified_ds.2022A.pkl\"),\n",
    "#     source_or_target_dataset=\"source\",\n",
    "#     x_transform_func=global_x_transform_func,\n",
    "#     domain_modifier=lambda u: f\"oracle2_{u}\"\n",
    "# )"
   ]
  },
  {
   "cell_type": "code",
   "execution_count": 17,
   "id": "6f289866",
   "metadata": {
    "execution": {
     "iopub.execute_input": "2022-03-25T13:54:46.465780Z",
     "iopub.status.busy": "2022-03-25T13:54:46.465533Z",
     "iopub.status.idle": "2022-03-25T13:54:46.480319Z",
     "shell.execute_reply": "2022-03-25T13:54:46.480711Z"
    },
    "papermill": {
     "duration": 0.030118,
     "end_time": "2022-03-25T13:54:46.480827",
     "exception": false,
     "start_time": "2022-03-25T13:54:46.450709",
     "status": "completed"
    },
    "tags": []
   },
   "outputs": [],
   "source": [
    "# add_dataset(\n",
    "#     labels=list(range(19)),\n",
    "#     domains = [0,1,2],\n",
    "#     num_examples_per_domain_per_label=100,\n",
    "#     pickle_path=os.path.join(get_datasets_base_path(), \"metehan.stratified_ds.2022A.pkl\"),\n",
    "#     source_or_target_dataset=\"target\",\n",
    "#     x_transform_func=global_x_transform_func,\n",
    "#     domain_modifier=lambda u: f\"met_{u}\"\n",
    "# )"
   ]
  },
  {
   "cell_type": "code",
   "execution_count": 18,
   "id": "86a863c3",
   "metadata": {
    "execution": {
     "iopub.execute_input": "2022-03-25T13:54:46.514279Z",
     "iopub.status.busy": "2022-03-25T13:54:46.513672Z",
     "iopub.status.idle": "2022-03-25T13:54:46.529048Z",
     "shell.execute_reply": "2022-03-25T13:54:46.528631Z"
    },
    "papermill": {
     "duration": 0.030112,
     "end_time": "2022-03-25T13:54:46.529146",
     "exception": false,
     "start_time": "2022-03-25T13:54:46.499034",
     "status": "completed"
    },
    "tags": []
   },
   "outputs": [],
   "source": [
    "# # from steves_utils.wisig.utils import (\n",
    "# #     ALL_NODES_MINIMUM_100_EXAMPLES,\n",
    "# #     ALL_NODES_MINIMUM_500_EXAMPLES,\n",
    "# #     ALL_NODES_MINIMUM_1000_EXAMPLES,\n",
    "# #     ALL_DAYS\n",
    "# # )\n",
    "\n",
    "# import steves_utils.wisig.utils as wisig\n",
    "\n",
    "\n",
    "# add_dataset(\n",
    "#     labels=wisig.ALL_NODES_MINIMUM_100_EXAMPLES,\n",
    "#     domains = wisig.ALL_DAYS,\n",
    "#     num_examples_per_domain_per_label=100,\n",
    "#     pickle_path=os.path.join(get_datasets_base_path(), \"wisig.node3-19.stratified_ds.2022A.pkl\"),\n",
    "#     source_or_target_dataset=\"target\",\n",
    "#     x_transform_func=global_x_transform_func,\n",
    "#     domain_modifier=lambda u: f\"wisig_{u}\"\n",
    "# )"
   ]
  },
  {
   "cell_type": "code",
   "execution_count": 19,
   "id": "fd5442bc",
   "metadata": {
    "execution": {
     "iopub.execute_input": "2022-03-25T13:54:46.566546Z",
     "iopub.status.busy": "2022-03-25T13:54:46.566260Z",
     "iopub.status.idle": "2022-03-25T13:54:46.581623Z",
     "shell.execute_reply": "2022-03-25T13:54:46.582017Z"
    },
    "papermill": {
     "duration": 0.034268,
     "end_time": "2022-03-25T13:54:46.582146",
     "exception": false,
     "start_time": "2022-03-25T13:54:46.547878",
     "status": "completed"
    },
    "tags": []
   },
   "outputs": [],
   "source": [
    "###################################\n",
    "# Build the dataset\n",
    "###################################\n",
    "train_original_source = Iterable_Aggregator(train_original_source, p.seed)\n",
    "val_original_source = Iterable_Aggregator(val_original_source, p.seed)\n",
    "test_original_source = Iterable_Aggregator(test_original_source, p.seed)\n",
    "\n",
    "\n",
    "train_original_target = Iterable_Aggregator(train_original_target, p.seed)\n",
    "val_original_target = Iterable_Aggregator(val_original_target, p.seed)\n",
    "test_original_target = Iterable_Aggregator(test_original_target, p.seed)\n",
    "\n",
    "# For CNN We only use X and Y. And we only train on the source.\n",
    "# Properly form the data using a transform lambda and Lazy_Iterable_Wrapper. Finally wrap them in a dataloader\n",
    "\n",
    "transform_lambda = lambda ex: ex[1] # Original is (<domain>, <episode>) so we strip down to episode only\n",
    "\n",
    "train_processed_source = Lazy_Iterable_Wrapper(train_original_source, transform_lambda)\n",
    "val_processed_source   = Lazy_Iterable_Wrapper(val_original_source, transform_lambda)\n",
    "test_processed_source  = Lazy_Iterable_Wrapper(test_original_source, transform_lambda)\n",
    "\n",
    "train_processed_target = Lazy_Iterable_Wrapper(train_original_target, transform_lambda)\n",
    "val_processed_target   = Lazy_Iterable_Wrapper(val_original_target, transform_lambda)\n",
    "test_processed_target  = Lazy_Iterable_Wrapper(test_original_target, transform_lambda)\n",
    "\n",
    "datasets = EasyDict({\n",
    "    \"source\": {\n",
    "        \"original\": {\"train\":train_original_source, \"val\":val_original_source, \"test\":test_original_source},\n",
    "        \"processed\": {\"train\":train_processed_source, \"val\":val_processed_source, \"test\":test_processed_source}\n",
    "    },\n",
    "    \"target\": {\n",
    "        \"original\": {\"train\":train_original_target, \"val\":val_original_target, \"test\":test_original_target},\n",
    "        \"processed\": {\"train\":train_processed_target, \"val\":val_processed_target, \"test\":test_processed_target}\n",
    "    },\n",
    "})"
   ]
  },
  {
   "cell_type": "code",
   "execution_count": 20,
   "id": "5b3c01fc",
   "metadata": {
    "execution": {
     "iopub.execute_input": "2022-03-25T13:54:46.615772Z",
     "iopub.status.busy": "2022-03-25T13:54:46.615519Z",
     "iopub.status.idle": "2022-03-25T13:54:52.918799Z",
     "shell.execute_reply": "2022-03-25T13:54:52.919224Z"
    },
    "papermill": {
     "duration": 6.319164,
     "end_time": "2022-03-25T13:54:52.919336",
     "exception": false,
     "start_time": "2022-03-25T13:54:46.600172",
     "status": "completed"
    },
    "tags": []
   },
   "outputs": [
    {
     "name": "stdout",
     "output_type": "stream",
     "text": [
      "{'O_20', 'O_44', 'O_8', 'O_38', 'O_14', 'O_50', 'O_32', 'O_26'}\n"
     ]
    },
    {
     "name": "stdout",
     "output_type": "stream",
     "text": [
      "{'C_2', 'C_1', 'C_3', 'C_5', 'C_4'}\n"
     ]
    },
    {
     "name": "stdout",
     "output_type": "stream",
     "text": [
      "tensor([[[ 0.5423,  1.1944, -0.2807,  ...,  0.4041, -0.0787,  1.0690],\n",
      "         [-0.4198,  0.2945,  0.3174,  ...,  0.6411,  1.0944,  0.1693]],\n",
      "\n",
      "        [[ 0.1078,  1.3450,  0.2456,  ...,  0.3707,  0.0437,  1.1405],\n",
      "         [-0.6826, -0.1237,  0.5266,  ...,  0.4243,  1.2597,  0.1902]],\n",
      "\n",
      "        [[-1.0305, -0.1004,  1.5317,  ...,  0.2312, -1.0015, -1.2624],\n",
      "         [-0.3073, -0.3391,  0.0166,  ..., -1.0276, -0.7892, -0.7877]],\n",
      "\n",
      "        ...,\n",
      "\n",
      "        [[-0.3504,  0.1759,  0.4702,  ...,  0.6580,  1.3111,  0.6339],\n",
      "         [-0.2867, -1.2798, -0.1023,  ..., -0.9140,  0.1498, -0.5437]],\n",
      "\n",
      "        [[ 0.5686, -0.2772, -0.7440,  ..., -0.8192, -1.0076, -0.0458],\n",
      "         [ 0.9067,  1.3000, -0.4746,  ...,  0.1979, -0.0920,  1.0664]],\n",
      "\n",
      "        [[ 0.4492, -0.5145, -0.8789,  ..., -1.1034, -0.9434, -0.2885],\n",
      "         [ 1.0532,  1.2647, -0.7126,  ...,  0.1576,  0.2106,  1.4365]]])\n"
     ]
    }
   ],
   "source": [
    "from steves_utils.transforms import get_average_magnitude, get_average_power\n",
    "\n",
    "print(set([u for u,_ in val_original_source]))\n",
    "print(set([u for u,_ in val_original_target]))\n",
    "\n",
    "s_x, s_y, q_x, q_y, _ = next(iter(train_processed_source))\n",
    "print(s_x)\n",
    "\n",
    "# for ds in [\n",
    "#     train_processed_source,\n",
    "#     val_processed_source,\n",
    "#     test_processed_source,\n",
    "#     train_processed_target,\n",
    "#     val_processed_target,\n",
    "#     test_processed_target\n",
    "# ]:\n",
    "#     for s_x, s_y, q_x, q_y, _ in ds:\n",
    "#         for X in (s_x, q_x):\n",
    "#             for x in X:\n",
    "#                 assert np.isclose(get_average_magnitude(x.numpy()), 1.0)\n",
    "#                 assert np.isclose(get_average_power(x.numpy()), 1.0)\n",
    "                "
   ]
  },
  {
   "cell_type": "code",
   "execution_count": 21,
   "id": "bbdacba1",
   "metadata": {
    "execution": {
     "iopub.execute_input": "2022-03-25T13:54:52.955199Z",
     "iopub.status.busy": "2022-03-25T13:54:52.954937Z",
     "iopub.status.idle": "2022-03-25T13:54:53.002150Z",
     "shell.execute_reply": "2022-03-25T13:54:53.002550Z"
    },
    "papermill": {
     "duration": 0.065169,
     "end_time": "2022-03-25T13:54:53.002705",
     "exception": false,
     "start_time": "2022-03-25T13:54:52.937536",
     "status": "completed"
    },
    "tags": []
   },
   "outputs": [
    {
     "name": "stdout",
     "output_type": "stream",
     "text": [
      "(2, 200)\n"
     ]
    }
   ],
   "source": [
    "###################################\n",
    "# Build the model\n",
    "###################################\n",
    "# easfsl only wants a tuple for the shape\n",
    "model = Steves_Prototypical_Network(x_net, device=p.device, x_shape=tuple(p.x_shape))\n",
    "optimizer = Adam(params=model.parameters(), lr=p.lr)"
   ]
  },
  {
   "cell_type": "code",
   "execution_count": 22,
   "id": "22b39ac5",
   "metadata": {
    "execution": {
     "iopub.execute_input": "2022-03-25T13:54:53.038702Z",
     "iopub.status.busy": "2022-03-25T13:54:53.038419Z",
     "iopub.status.idle": "2022-03-25T14:11:11.808830Z",
     "shell.execute_reply": "2022-03-25T14:11:11.808601Z"
    },
    "papermill": {
     "duration": 978.787755,
     "end_time": "2022-03-25T14:11:11.808886",
     "exception": false,
     "start_time": "2022-03-25T13:54:53.021131",
     "status": "completed"
    },
    "tags": []
   },
   "outputs": [
    {
     "name": "stdout",
     "output_type": "stream",
     "text": [
      "epoch: 1, [batch: 1 / 6720], examples_per_second: 48.0917, train_label_loss: 2.9250, \n"
     ]
    },
    {
     "name": "stdout",
     "output_type": "stream",
     "text": [
      "epoch: 1, [batch: 672 / 6720], examples_per_second: 3623.3847, train_label_loss: 1.6146, \n"
     ]
    },
    {
     "name": "stdout",
     "output_type": "stream",
     "text": [
      "epoch: 1, [batch: 1344 / 6720], examples_per_second: 3635.7817, train_label_loss: 0.9865, \n"
     ]
    },
    {
     "name": "stdout",
     "output_type": "stream",
     "text": [
      "epoch: 1, [batch: 2016 / 6720], examples_per_second: 3665.4815, train_label_loss: 0.8108, \n"
     ]
    },
    {
     "name": "stdout",
     "output_type": "stream",
     "text": [
      "epoch: 1, [batch: 2688 / 6720], examples_per_second: 3643.7456, train_label_loss: 0.8515, \n"
     ]
    },
    {
     "name": "stdout",
     "output_type": "stream",
     "text": [
      "epoch: 1, [batch: 3360 / 6720], examples_per_second: 3648.8548, train_label_loss: 0.8246, \n"
     ]
    },
    {
     "name": "stdout",
     "output_type": "stream",
     "text": [
      "epoch: 1, [batch: 4032 / 6720], examples_per_second: 3645.4439, train_label_loss: 0.8890, \n"
     ]
    },
    {
     "name": "stdout",
     "output_type": "stream",
     "text": [
      "epoch: 1, [batch: 4704 / 6720], examples_per_second: 3626.0938, train_label_loss: 0.6836, \n"
     ]
    },
    {
     "name": "stdout",
     "output_type": "stream",
     "text": [
      "epoch: 1, [batch: 5376 / 6720], examples_per_second: 3628.2342, train_label_loss: 0.6816, \n"
     ]
    },
    {
     "name": "stdout",
     "output_type": "stream",
     "text": [
      "epoch: 1, [batch: 6048 / 6720], examples_per_second: 3625.2727, train_label_loss: 0.8949, \n"
     ]
    },
    {
     "name": "stdout",
     "output_type": "stream",
     "text": [
      "=============================================================\n",
      "epoch: 1, source_val_acc_label: 0.6404, target_val_acc_label: 0.6888, source_val_label_loss: 1.1408, target_val_label_loss: 6.7854, \n",
      "=============================================================\n"
     ]
    },
    {
     "name": "stdout",
     "output_type": "stream",
     "text": [
      "New best\n"
     ]
    },
    {
     "name": "stdout",
     "output_type": "stream",
     "text": [
      "epoch: 2, [batch: 1 / 6720], examples_per_second: 5.2867, train_label_loss: 1.0619, \n"
     ]
    },
    {
     "name": "stdout",
     "output_type": "stream",
     "text": [
      "epoch: 2, [batch: 672 / 6720], examples_per_second: 3626.5789, train_label_loss: 1.2216, \n"
     ]
    },
    {
     "name": "stdout",
     "output_type": "stream",
     "text": [
      "epoch: 2, [batch: 1344 / 6720], examples_per_second: 3641.3172, train_label_loss: 1.0093, \n"
     ]
    },
    {
     "name": "stdout",
     "output_type": "stream",
     "text": [
      "epoch: 2, [batch: 2016 / 6720], examples_per_second: 3641.4903, train_label_loss: 0.6802, \n"
     ]
    },
    {
     "name": "stdout",
     "output_type": "stream",
     "text": [
      "epoch: 2, [batch: 2688 / 6720], examples_per_second: 3626.5267, train_label_loss: 0.5659, \n"
     ]
    },
    {
     "name": "stdout",
     "output_type": "stream",
     "text": [
      "epoch: 2, [batch: 3360 / 6720], examples_per_second: 3639.3143, train_label_loss: 0.5326, \n"
     ]
    },
    {
     "name": "stdout",
     "output_type": "stream",
     "text": [
      "epoch: 2, [batch: 4032 / 6720], examples_per_second: 3650.6657, train_label_loss: 1.0223, \n"
     ]
    },
    {
     "name": "stdout",
     "output_type": "stream",
     "text": [
      "epoch: 2, [batch: 4704 / 6720], examples_per_second: 3636.4102, train_label_loss: 0.6498, \n"
     ]
    },
    {
     "name": "stdout",
     "output_type": "stream",
     "text": [
      "epoch: 2, [batch: 5376 / 6720], examples_per_second: 3650.2622, train_label_loss: 1.0227, \n"
     ]
    },
    {
     "name": "stdout",
     "output_type": "stream",
     "text": [
      "epoch: 2, [batch: 6048 / 6720], examples_per_second: 3648.8375, train_label_loss: 0.4291, \n"
     ]
    },
    {
     "name": "stdout",
     "output_type": "stream",
     "text": [
      "=============================================================\n",
      "epoch: 2, source_val_acc_label: 0.7737, target_val_acc_label: 0.8565, source_val_label_loss: 0.6217, target_val_label_loss: 1.2600, \n",
      "=============================================================\n"
     ]
    },
    {
     "name": "stdout",
     "output_type": "stream",
     "text": [
      "New best\n"
     ]
    },
    {
     "name": "stdout",
     "output_type": "stream",
     "text": [
      "epoch: 3, [batch: 1 / 6720], examples_per_second: 5.2679, train_label_loss: 1.1752, \n"
     ]
    },
    {
     "name": "stdout",
     "output_type": "stream",
     "text": [
      "epoch: 3, [batch: 672 / 6720], examples_per_second: 3635.5735, train_label_loss: 0.3538, \n"
     ]
    },
    {
     "name": "stdout",
     "output_type": "stream",
     "text": [
      "epoch: 3, [batch: 1344 / 6720], examples_per_second: 3643.3034, train_label_loss: 0.3036, \n"
     ]
    },
    {
     "name": "stdout",
     "output_type": "stream",
     "text": [
      "epoch: 3, [batch: 2016 / 6720], examples_per_second: 3644.7647, train_label_loss: 0.3648, \n"
     ]
    },
    {
     "name": "stdout",
     "output_type": "stream",
     "text": [
      "epoch: 3, [batch: 2688 / 6720], examples_per_second: 3633.1564, train_label_loss: 0.4210, \n"
     ]
    },
    {
     "name": "stdout",
     "output_type": "stream",
     "text": [
      "epoch: 3, [batch: 3360 / 6720], examples_per_second: 3653.5011, train_label_loss: 0.3512, \n"
     ]
    },
    {
     "name": "stdout",
     "output_type": "stream",
     "text": [
      "epoch: 3, [batch: 4032 / 6720], examples_per_second: 3647.5296, train_label_loss: 0.5624, \n"
     ]
    },
    {
     "name": "stdout",
     "output_type": "stream",
     "text": [
      "epoch: 3, [batch: 4704 / 6720], examples_per_second: 3629.8749, train_label_loss: 0.6232, \n"
     ]
    },
    {
     "name": "stdout",
     "output_type": "stream",
     "text": [
      "epoch: 3, [batch: 5376 / 6720], examples_per_second: 3639.0171, train_label_loss: 0.9136, \n"
     ]
    },
    {
     "name": "stdout",
     "output_type": "stream",
     "text": [
      "epoch: 3, [batch: 6048 / 6720], examples_per_second: 3649.9669, train_label_loss: 0.8504, \n"
     ]
    },
    {
     "name": "stdout",
     "output_type": "stream",
     "text": [
      "=============================================================\n",
      "epoch: 3, source_val_acc_label: 0.7937, target_val_acc_label: 0.8509, source_val_label_loss: 0.5638, target_val_label_loss: 1.2554, \n",
      "=============================================================\n"
     ]
    },
    {
     "name": "stdout",
     "output_type": "stream",
     "text": [
      "epoch: 4, [batch: 1 / 6720], examples_per_second: 5.2807, train_label_loss: 0.5434, \n"
     ]
    },
    {
     "name": "stdout",
     "output_type": "stream",
     "text": [
      "epoch: 4, [batch: 672 / 6720], examples_per_second: 3629.1244, train_label_loss: 0.5496, \n"
     ]
    },
    {
     "name": "stdout",
     "output_type": "stream",
     "text": [
      "epoch: 4, [batch: 1344 / 6720], examples_per_second: 3654.0376, train_label_loss: 0.5667, \n"
     ]
    },
    {
     "name": "stdout",
     "output_type": "stream",
     "text": [
      "epoch: 4, [batch: 2016 / 6720], examples_per_second: 3637.8969, train_label_loss: 0.4134, \n"
     ]
    },
    {
     "name": "stdout",
     "output_type": "stream",
     "text": [
      "epoch: 4, [batch: 2688 / 6720], examples_per_second: 3636.1411, train_label_loss: 0.6470, \n"
     ]
    },
    {
     "name": "stdout",
     "output_type": "stream",
     "text": [
      "epoch: 4, [batch: 3360 / 6720], examples_per_second: 3652.3574, train_label_loss: 0.8829, \n"
     ]
    },
    {
     "name": "stdout",
     "output_type": "stream",
     "text": [
      "epoch: 4, [batch: 4032 / 6720], examples_per_second: 3647.6378, train_label_loss: 0.7123, \n"
     ]
    },
    {
     "name": "stdout",
     "output_type": "stream",
     "text": [
      "epoch: 4, [batch: 4704 / 6720], examples_per_second: 3636.2065, train_label_loss: 1.2010, \n"
     ]
    },
    {
     "name": "stdout",
     "output_type": "stream",
     "text": [
      "epoch: 4, [batch: 5376 / 6720], examples_per_second: 3640.3509, train_label_loss: 0.5879, \n"
     ]
    },
    {
     "name": "stdout",
     "output_type": "stream",
     "text": [
      "epoch: 4, [batch: 6048 / 6720], examples_per_second: 3650.8359, train_label_loss: 0.5103, \n"
     ]
    },
    {
     "name": "stdout",
     "output_type": "stream",
     "text": [
      "=============================================================\n",
      "epoch: 4, source_val_acc_label: 0.8316, target_val_acc_label: 0.8442, source_val_label_loss: 0.4616, target_val_label_loss: 1.4660, \n",
      "=============================================================\n"
     ]
    },
    {
     "name": "stdout",
     "output_type": "stream",
     "text": [
      "epoch: 5, [batch: 1 / 6720], examples_per_second: 5.2847, train_label_loss: 0.4857, \n"
     ]
    },
    {
     "name": "stdout",
     "output_type": "stream",
     "text": [
      "epoch: 5, [batch: 672 / 6720], examples_per_second: 3627.1220, train_label_loss: 0.5535, \n"
     ]
    },
    {
     "name": "stdout",
     "output_type": "stream",
     "text": [
      "epoch: 5, [batch: 1344 / 6720], examples_per_second: 3645.6220, train_label_loss: 0.3051, \n"
     ]
    },
    {
     "name": "stdout",
     "output_type": "stream",
     "text": [
      "epoch: 5, [batch: 2016 / 6720], examples_per_second: 3653.1226, train_label_loss: 0.2720, \n"
     ]
    },
    {
     "name": "stdout",
     "output_type": "stream",
     "text": [
      "epoch: 5, [batch: 2688 / 6720], examples_per_second: 3645.9978, train_label_loss: 0.2702, \n"
     ]
    },
    {
     "name": "stdout",
     "output_type": "stream",
     "text": [
      "epoch: 5, [batch: 3360 / 6720], examples_per_second: 3652.8384, train_label_loss: 0.4186, \n"
     ]
    },
    {
     "name": "stdout",
     "output_type": "stream",
     "text": [
      "epoch: 5, [batch: 4032 / 6720], examples_per_second: 3663.8115, train_label_loss: 0.2116, \n"
     ]
    },
    {
     "name": "stdout",
     "output_type": "stream",
     "text": [
      "epoch: 5, [batch: 4704 / 6720], examples_per_second: 3653.4832, train_label_loss: 0.3480, \n"
     ]
    },
    {
     "name": "stdout",
     "output_type": "stream",
     "text": [
      "epoch: 5, [batch: 5376 / 6720], examples_per_second: 3653.3224, train_label_loss: 0.2525, \n"
     ]
    },
    {
     "name": "stdout",
     "output_type": "stream",
     "text": [
      "epoch: 5, [batch: 6048 / 6720], examples_per_second: 3656.3908, train_label_loss: 0.5997, \n"
     ]
    },
    {
     "name": "stdout",
     "output_type": "stream",
     "text": [
      "=============================================================\n",
      "epoch: 5, source_val_acc_label: 0.8363, target_val_acc_label: 0.8458, source_val_label_loss: 0.4435, target_val_label_loss: 1.5277, \n",
      "=============================================================\n"
     ]
    },
    {
     "name": "stdout",
     "output_type": "stream",
     "text": [
      "epoch: 6, [batch: 1 / 6720], examples_per_second: 5.2696, train_label_loss: 0.8046, \n"
     ]
    },
    {
     "name": "stdout",
     "output_type": "stream",
     "text": [
      "epoch: 6, [batch: 672 / 6720], examples_per_second: 3624.6749, train_label_loss: 0.3145, \n"
     ]
    },
    {
     "name": "stdout",
     "output_type": "stream",
     "text": [
      "epoch: 6, [batch: 1344 / 6720], examples_per_second: 3638.1970, train_label_loss: 0.4046, \n"
     ]
    },
    {
     "name": "stdout",
     "output_type": "stream",
     "text": [
      "epoch: 6, [batch: 2016 / 6720], examples_per_second: 3637.1268, train_label_loss: 0.5522, \n"
     ]
    },
    {
     "name": "stdout",
     "output_type": "stream",
     "text": [
      "epoch: 6, [batch: 2688 / 6720], examples_per_second: 3642.8477, train_label_loss: 0.3223, \n"
     ]
    },
    {
     "name": "stdout",
     "output_type": "stream",
     "text": [
      "epoch: 6, [batch: 3360 / 6720], examples_per_second: 3642.8041, train_label_loss: 0.4802, \n"
     ]
    },
    {
     "name": "stdout",
     "output_type": "stream",
     "text": [
      "epoch: 6, [batch: 4032 / 6720], examples_per_second: 3647.5952, train_label_loss: 0.3561, \n"
     ]
    },
    {
     "name": "stdout",
     "output_type": "stream",
     "text": [
      "epoch: 6, [batch: 4704 / 6720], examples_per_second: 3633.5966, train_label_loss: 0.4179, \n"
     ]
    },
    {
     "name": "stdout",
     "output_type": "stream",
     "text": [
      "epoch: 6, [batch: 5376 / 6720], examples_per_second: 3651.5480, train_label_loss: 0.1367, \n"
     ]
    },
    {
     "name": "stdout",
     "output_type": "stream",
     "text": [
      "epoch: 6, [batch: 6048 / 6720], examples_per_second: 3649.6350, train_label_loss: 0.6587, \n"
     ]
    },
    {
     "name": "stdout",
     "output_type": "stream",
     "text": [
      "=============================================================\n",
      "epoch: 6, source_val_acc_label: 0.8479, target_val_acc_label: 0.8350, source_val_label_loss: 0.4199, target_val_label_loss: 1.7354, \n",
      "=============================================================\n"
     ]
    },
    {
     "name": "stdout",
     "output_type": "stream",
     "text": [
      "Patience (3) exhausted\n"
     ]
    }
   ],
   "source": [
    "###################################\n",
    "# train\n",
    "###################################\n",
    "jig = PTN_Train_Eval_Test_Jig(model, p.BEST_MODEL_PATH, p.device)\n",
    "\n",
    "jig.train(\n",
    "    train_iterable=datasets.source.processed.train,\n",
    "    source_val_iterable=datasets.source.processed.val,\n",
    "    target_val_iterable=datasets.target.processed.val,\n",
    "    num_epochs=p.n_epoch,\n",
    "    num_logs_per_epoch=p.NUM_LOGS_PER_EPOCH,\n",
    "    patience=p.patience,\n",
    "    optimizer=optimizer,\n",
    "    criteria_for_best=p.criteria_for_best,\n",
    ")"
   ]
  },
  {
   "cell_type": "code",
   "execution_count": 23,
   "id": "31e8fabf",
   "metadata": {
    "execution": {
     "iopub.execute_input": "2022-03-25T14:11:11.864422Z",
     "iopub.status.busy": "2022-03-25T14:11:11.864175Z",
     "iopub.status.idle": "2022-03-25T14:11:11.883658Z",
     "shell.execute_reply": "2022-03-25T14:11:11.883285Z"
    },
    "papermill": {
     "duration": 0.048809,
     "end_time": "2022-03-25T14:11:11.883747",
     "exception": false,
     "start_time": "2022-03-25T14:11:11.834938",
     "status": "completed"
    },
    "tags": []
   },
   "outputs": [],
   "source": [
    "total_experiment_time_secs = time.time() - start_time_secs"
   ]
  },
  {
   "cell_type": "code",
   "execution_count": 24,
   "id": "87b9595b",
   "metadata": {
    "execution": {
     "iopub.execute_input": "2022-03-25T14:11:11.947028Z",
     "iopub.status.busy": "2022-03-25T14:11:11.946766Z",
     "iopub.status.idle": "2022-03-25T14:12:43.151342Z",
     "shell.execute_reply": "2022-03-25T14:12:43.151800Z"
    },
    "papermill": {
     "duration": 91.236857,
     "end_time": "2022-03-25T14:12:43.151942",
     "exception": false,
     "start_time": "2022-03-25T14:11:11.915085",
     "status": "completed"
    },
    "tags": []
   },
   "outputs": [],
   "source": [
    "###################################\n",
    "# Evaluate the model\n",
    "###################################\n",
    "source_test_label_accuracy, source_test_label_loss = jig.test(datasets.source.processed.test)\n",
    "target_test_label_accuracy, target_test_label_loss = jig.test(datasets.target.processed.test)\n",
    "\n",
    "source_val_label_accuracy, source_val_label_loss = jig.test(datasets.source.processed.val)\n",
    "target_val_label_accuracy, target_val_label_loss = jig.test(datasets.target.processed.val)\n",
    "\n",
    "history = jig.get_history()\n",
    "\n",
    "total_epochs_trained = len(history[\"epoch_indices\"])\n",
    "\n",
    "val_dl = Iterable_Aggregator((datasets.source.original.val,datasets.target.original.val))\n",
    "\n",
    "confusion = ptn_confusion_by_domain_over_dataloader(model, p.device, val_dl)\n",
    "per_domain_accuracy = per_domain_accuracy_from_confusion(confusion)\n",
    "\n",
    "# Add a key to per_domain_accuracy for if it was a source domain\n",
    "for domain, accuracy in per_domain_accuracy.items():\n",
    "    per_domain_accuracy[domain] = {\n",
    "        \"accuracy\": accuracy,\n",
    "        \"source?\": domain in p.domains_source\n",
    "    }\n",
    "\n",
    "# Do an independent accuracy assesment JUST TO BE SURE!\n",
    "# _source_test_label_accuracy = independent_accuracy_assesment(model, datasets.source.processed.test, p.device)\n",
    "# _target_test_label_accuracy = independent_accuracy_assesment(model, datasets.target.processed.test, p.device)\n",
    "# _source_val_label_accuracy = independent_accuracy_assesment(model, datasets.source.processed.val, p.device)\n",
    "# _target_val_label_accuracy = independent_accuracy_assesment(model, datasets.target.processed.val, p.device)\n",
    "\n",
    "# assert(_source_test_label_accuracy == source_test_label_accuracy)\n",
    "# assert(_target_test_label_accuracy == target_test_label_accuracy)\n",
    "# assert(_source_val_label_accuracy == source_val_label_accuracy)\n",
    "# assert(_target_val_label_accuracy == target_val_label_accuracy)\n",
    "\n",
    "experiment = {\n",
    "    \"experiment_name\": p.experiment_name,\n",
    "    \"parameters\": dict(p),\n",
    "    \"results\": {\n",
    "        \"source_test_label_accuracy\": source_test_label_accuracy,\n",
    "        \"source_test_label_loss\": source_test_label_loss,\n",
    "        \"target_test_label_accuracy\": target_test_label_accuracy,\n",
    "        \"target_test_label_loss\": target_test_label_loss,\n",
    "        \"source_val_label_accuracy\": source_val_label_accuracy,\n",
    "        \"source_val_label_loss\": source_val_label_loss,\n",
    "        \"target_val_label_accuracy\": target_val_label_accuracy,\n",
    "        \"target_val_label_loss\": target_val_label_loss,\n",
    "        \"total_epochs_trained\": total_epochs_trained,\n",
    "        \"total_experiment_time_secs\": total_experiment_time_secs,\n",
    "        \"confusion\": confusion,\n",
    "        \"per_domain_accuracy\": per_domain_accuracy,\n",
    "    },\n",
    "    \"history\": history,\n",
    "    \"dataset_metrics\": get_dataset_metrics(datasets, \"ptn\"),\n",
    "}"
   ]
  },
  {
   "cell_type": "code",
   "execution_count": 25,
   "id": "54a21829",
   "metadata": {
    "execution": {
     "iopub.execute_input": "2022-03-25T14:12:43.215235Z",
     "iopub.status.busy": "2022-03-25T14:12:43.214974Z",
     "iopub.status.idle": "2022-03-25T14:12:43.334734Z",
     "shell.execute_reply": "2022-03-25T14:12:43.335119Z"
    },
    "papermill": {
     "duration": 0.149047,
     "end_time": "2022-03-25T14:12:43.335230",
     "exception": false,
     "start_time": "2022-03-25T14:12:43.186183",
     "status": "completed"
    },
    "tags": []
   },
   "outputs": [
    {
     "data": {
      "image/png": "[encoded data removed]",
      "text/plain": [
       "<Figure size 1080x504 with 1 Axes>"
      ]
     },
     "metadata": {
      "needs_background": "light"
     },
     "output_type": "display_data"
    }
   ],
   "source": [
    "ax = get_loss_curve(experiment)\n",
    "plt.show()"
   ]
  },
  {
   "cell_type": "code",
   "execution_count": 26,
   "id": "fd8a0f60",
   "metadata": {
    "execution": {
     "iopub.execute_input": "2022-03-25T14:12:43.395887Z",
     "iopub.status.busy": "2022-03-25T14:12:43.395387Z",
     "iopub.status.idle": "2022-03-25T14:12:43.536830Z",
     "shell.execute_reply": "2022-03-25T14:12:43.537041Z"
    },
    "papermill": {
     "duration": 0.171129,
     "end_time": "2022-03-25T14:12:43.537106",
     "exception": false,
     "start_time": "2022-03-25T14:12:43.365977",
     "status": "completed"
    },
    "tags": []
   },
   "outputs": [
    {
     "data": {
      "text/plain": [
       "<AxesSubplot:title={'center':'Results'}>"
      ]
     },
     "execution_count": 26,
     "metadata": {},
     "output_type": "execute_result"
    },
    {
     "data": {
      "image/png": "[encoded data removed]",
      "text/plain": [
       "<Figure size 1080x504 with 1 Axes>"
      ]
     },
     "metadata": {
      "needs_background": "light"
     },
     "output_type": "display_data"
    }
   ],
   "source": [
    "get_results_table(experiment)"
   ]
  },
  {
   "cell_type": "code",
   "execution_count": 27,
   "id": "cf8dc689",
   "metadata": {
    "execution": {
     "iopub.execute_input": "2022-03-25T14:12:43.597525Z",
     "iopub.status.busy": "2022-03-25T14:12:43.597268Z",
     "iopub.status.idle": "2022-03-25T14:12:43.730253Z",
     "shell.execute_reply": "2022-03-25T14:12:43.729790Z"
    },
    "papermill": {
     "duration": 0.164145,
     "end_time": "2022-03-25T14:12:43.730347",
     "exception": false,
     "start_time": "2022-03-25T14:12:43.566202",
     "status": "completed"
    },
    "tags": []
   },
   "outputs": [
    {
     "data": {
      "text/plain": [
       "<AxesSubplot:title={'center':'Per Domain Validation Accuracy'}, xlabel='domain'>"
      ]
     },
     "execution_count": 27,
     "metadata": {},
     "output_type": "execute_result"
    },
    {
     "data": {
      "image/png": "[encoded data removed]",
      "text/plain": [
       "<Figure size 1080x504 with 1 Axes>"
      ]
     },
     "metadata": {
      "needs_background": "light"
     },
     "output_type": "display_data"
    }
   ],
   "source": [
    "get_domain_accuracies(experiment)"
   ]
  },
  {
   "cell_type": "code",
   "execution_count": 28,
   "id": "a74ae082",
   "metadata": {
    "execution": {
     "iopub.execute_input": "2022-03-25T14:12:43.795609Z",
     "iopub.status.busy": "2022-03-25T14:12:43.795349Z",
     "iopub.status.idle": "2022-03-25T14:12:43.810697Z",
     "shell.execute_reply": "2022-03-25T14:12:43.810339Z"
    },
    "papermill": {
     "duration": 0.047438,
     "end_time": "2022-03-25T14:12:43.810767",
     "exception": false,
     "start_time": "2022-03-25T14:12:43.763329",
     "status": "completed"
    },
    "tags": []
   },
   "outputs": [
    {
     "name": "stdout",
     "output_type": "stream",
     "text": [
      "Source Test Label Accuracy: 0.7744466145833333 Target Test Label Accuracy: 0.858497191011236\n",
      "Source Val Label Accuracy: 0.77373046875 Target Val Label Accuracy: 0.8565\n"
     ]
    }
   ],
   "source": [
    "print(\"Source Test Label Accuracy:\", experiment[\"results\"][\"source_test_label_accuracy\"], \"Target Test Label Accuracy:\", experiment[\"results\"][\"target_test_label_accuracy\"])\n",
    "print(\"Source Val Label Accuracy:\", experiment[\"results\"][\"source_val_label_accuracy\"], \"Target Val Label Accuracy:\", experiment[\"results\"][\"target_val_label_accuracy\"])"
   ]
  },
  {
   "cell_type": "code",
   "execution_count": 29,
   "id": "dacca602",
   "metadata": {
    "execution": {
     "iopub.execute_input": "2022-03-25T14:12:43.877413Z",
     "iopub.status.busy": "2022-03-25T14:12:43.877159Z",
     "iopub.status.idle": "2022-03-25T14:12:43.892323Z",
     "shell.execute_reply": "2022-03-25T14:12:43.892693Z"
    },
    "papermill": {
     "duration": 0.047715,
     "end_time": "2022-03-25T14:12:43.892800",
     "exception": false,
     "start_time": "2022-03-25T14:12:43.845085",
     "status": "completed"
    },
    "tags": [
     "experiment_json"
    ]
   },
   "outputs": [
    {
     "data": {
      "text/plain": [
       "'{\"experiment_name\": \"tl_3Av2:oracle.run1.framed -> cores\", \"parameters\": {\"experiment_name\": \"tl_3Av2:oracle.run1.framed -> cores\", \"device\": \"cuda\", \"lr\": 0.0001, \"x_shape\": [2, 200], \"n_shot\": 3, \"n_query\": 2, \"train_k_factor\": 3, \"val_k_factor\": 2, \"test_k_factor\": 2, \"torch_default_dtype\": \"torch.float32\", \"n_epoch\": 50, \"patience\": 3, \"criteria_for_best\": \"target_accuracy\", \"x_net\": [{\"class\": \"nnReshape\", \"kargs\": {\"shape\": [-1, 1, 2, 200]}}, {\"class\": \"Conv2d\", \"kargs\": {\"in_channels\": 1, \"out_channels\": 256, \"kernel_size\": [1, 7], \"bias\": false, \"padding\": [0, 3]}}, {\"class\": \"ReLU\", \"kargs\": {\"inplace\": true}}, {\"class\": \"BatchNorm2d\", \"kargs\": {\"num_features\": 256}}, {\"class\": \"Conv2d\", \"kargs\": {\"in_channels\": 256, \"out_channels\": 80, \"kernel_size\": [2, 7], \"bias\": true, \"padding\": [0, 3]}}, {\"class\": \"ReLU\", \"kargs\": {\"inplace\": true}}, {\"class\": \"BatchNorm2d\", \"kargs\": {\"num_features\": 80}}, {\"class\": \"Flatten\", \"kargs\": {}}, {\"class\": \"Linear\", \"kargs\": {\"in_features\": 16000, \"out_features\": 256}}, {\"class\": \"ReLU\", \"kargs\": {\"inplace\": true}}, {\"class\": \"BatchNorm1d\", \"kargs\": {\"num_features\": 256}}, {\"class\": \"Linear\", \"kargs\": {\"in_features\": 256, \"out_features\": 256}}], \"NUM_LOGS_PER_EPOCH\": 10, \"BEST_MODEL_PATH\": \"./best_model.pth\", \"n_way\": 16, \"datasets\": [{\"labels\": [\"1-10.\", \"1-11.\", \"1-15.\", \"1-16.\", \"1-17.\", \"1-18.\", \"1-19.\", \"10-4.\", \"10-7.\", \"11-1.\", \"11-14.\", \"11-17.\", \"11-20.\", \"11-7.\", \"13-20.\", \"13-8.\", \"14-10.\", \"14-11.\", \"14-14.\", \"14-7.\", \"15-1.\", \"15-20.\", \"16-1.\", \"16-16.\", \"17-10.\", \"17-11.\", \"17-2.\", \"19-1.\", \"19-16.\", \"19-19.\", \"19-20.\", \"19-3.\", \"2-10.\", \"2-11.\", \"2-17.\", \"2-18.\", \"2-20.\", \"2-3.\", \"2-4.\", \"2-5.\", \"2-6.\", \"2-7.\", \"2-8.\", \"3-13.\", \"3-18.\", \"3-3.\", \"4-1.\", \"4-10.\", \"4-11.\", \"4-19.\", \"5-5.\", \"6-15.\", \"7-10.\", \"7-14.\", \"8-18.\", \"8-20.\", \"8-3.\", \"8-8.\"], \"domains\": [1, 2, 3, 4, 5], \"num_examples_per_domain_per_label\": -1, \"pickle_path\": \"/mnt/wd500GB/CSC500/csc500-main/datasets/cores.stratified_ds.2022A.pkl\", \"source_or_target_dataset\": \"target\", \"x_transforms\": [\"unit_mag\", \"take_200\"], \"episode_transforms\": [], \"domain_prefix\": \"C_\"}, {\"labels\": [\"3123D52\", \"3123D65\", \"3123D79\", \"3123D80\", \"3123D54\", \"3123D70\", \"3123D7B\", \"3123D89\", \"3123D58\", \"3123D76\", \"3123D7D\", \"3123EFE\", \"3123D64\", \"3123D78\", \"3123D7E\", \"3124E4A\"], \"domains\": [32, 38, 8, 44, 14, 50, 20, 26], \"num_examples_per_domain_per_label\": 2000, \"pickle_path\": \"/mnt/wd500GB/CSC500/csc500-main/datasets/oracle.Run1_framed_2000Examples_stratified_ds.2022A.pkl\", \"source_or_target_dataset\": \"source\", \"x_transforms\": [\"unit_mag\", \"take_200\", \"resample_20Msps_to_25Msps\"], \"episode_transforms\": [], \"domain_prefix\": \"O_\"}], \"seed\": 500, \"dataset_seed\": 500, \"domains_source\": [\"O_32\", \"O_38\", \"O_8\", \"O_44\", \"O_14\", \"O_50\", \"O_20\", \"O_26\"], \"domains_target\": [\"C_1\", \"C_2\", \"C_3\", \"C_4\", \"C_5\"]}, \"results\": {\"source_test_label_accuracy\": 0.7744466145833333, \"source_test_label_loss\": 0.6282280087471008, \"target_test_label_accuracy\": 0.858497191011236, \"target_test_label_loss\": 1.1934806108474731, \"source_val_label_accuracy\": 0.77373046875, \"source_val_label_loss\": 0.6217381954193115, \"target_val_label_accuracy\": 0.8565, \"target_val_label_loss\": 1.2600467205047607, \"total_epochs_trained\": 6, \"total_experiment_time_secs\": 1034.939257144928, \"confusion\": {\"O_50\": {\"7\": {\"13\": 31, \"7\": 176, \"10\": 10, \"5\": 16, \"6\": 7}, \"10\": {\"10\": 221, \"7\": 4, \"8\": 6, \"0\": 2, \"13\": 7}, \"0\": {\"0\": 202, \"10\": 15, \"2\": 21, \"6\": 1, \"13\": 1}, \"11\": {\"11\": 219, \"14\": 2, \"9\": 6, \"15\": 10, \"12\": 1, \"1\": 1, \"4\": 1}, \"2\": {\"2\": 216, \"0\": 24}, \"14\": {\"14\": 232, \"11\": 7, \"12\": 1}, \"9\": {\"11\": 15, \"9\": 211, \"12\": 14}, \"13\": {\"7\": 19, \"13\": 180, \"10\": 9, \"5\": 21, \"6\": 9, \"0\": 1, \"1\": 1}, \"8\": {\"8\": 234, \"3\": 2, \"10\": 4}, \"15\": {\"15\": 190, \"1\": 23, \"6\": 8, \"4\": 15, \"11\": 4}, \"4\": {\"4\": 126, \"1\": 32, \"15\": 28, \"13\": 6, \"5\": 33, \"6\": 6, \"7\": 9}, \"5\": {\"5\": 102, \"6\": 12, \"4\": 20, \"7\": 40, \"13\": 43, \"1\": 19, \"15\": 2, \"10\": 2}, \"3\": {\"3\": 238, \"8\": 2}, \"1\": {\"1\": 159, \"4\": 20, \"15\": 46, \"6\": 9, \"5\": 4, \"13\": 1, \"11\": 1}, \"6\": {\"1\": 10, \"6\": 186, \"13\": 17, \"4\": 8, \"15\": 4, \"5\": 11, \"7\": 3, \"2\": 1}, \"12\": {\"12\": 217, \"11\": 6, \"9\": 14, \"14\": 3}}, \"O_14\": {\"14\": {\"14\": 196, \"2\": 22, \"13\": 15, \"3\": 4, \"6\": 3}, \"6\": {\"6\": 168, \"13\": 63, \"14\": 7, \"2\": 2}, \"5\": {\"4\": 60, \"1\": 26, \"5\": 144, \"14\": 1, \"2\": 9}, \"15\": {\"15\": 238, \"7\": 2}, \"11\": {\"11\": 217, \"9\": 18, \"0\": 5}, \"8\": {\"8\": 240}, \"12\": {\"12\": 240}, \"1\": {\"1\": 206, \"5\": 31, \"4\": 3}, \"2\": {\"13\": 10, \"6\": 24, \"5\": 23, \"2\": 119, \"14\": 47, \"3\": 8, \"4\": 8, \"1\": 1}, \"13\": {\"14\": 51, \"6\": 75, \"13\": 96, \"2\": 14, \"4\": 1, \"5\": 3}, \"3\": {\"3\": 224, \"4\": 10, \"2\": 2, \"14\": 4}, \"0\": {\"0\": 223, \"3\": 5, \"11\": 4, \"10\": 6, \"14\": 1, \"8\": 1}, \"9\": {\"9\": 240}, \"4\": {\"4\": 207, \"5\": 24, \"13\": 1, \"3\": 3, \"1\": 3, \"2\": 2}, \"7\": {\"7\": 239, \"15\": 1}, \"10\": {\"10\": 239, \"0\": 1}}, \"O_32\": {\"4\": {\"4\": 153, \"2\": 44, \"5\": 10, \"13\": 8, \"7\": 21, \"8\": 1, \"0\": 3}, \"14\": {\"14\": 120, \"11\": 75, \"7\": 20, \"0\": 9, \"8\": 5, \"3\": 3, \"5\": 5, \"13\": 3}, \"5\": {\"5\": 107, \"13\": 28, \"7\": 51, \"4\": 13, \"3\": 19, \"2\": 2, \"0\": 6, \"14\": 4, \"8\": 9, \"11\": 1}, \"10\": {\"10\": 239, \"1\": 1}, \"13\": {\"4\": 9, \"13\": 159, \"8\": 14, \"11\": 3, \"5\": 29, \"7\": 14, \"3\": 9, \"0\": 3}, \"9\": {\"9\": 239, \"12\": 1}, \"6\": {\"6\": 240}, \"3\": {\"3\": 227, \"13\": 7, \"11\": 3, \"8\": 1, \"5\": 2}, \"15\": {\"15\": 240}, \"7\": {\"7\": 150, \"5\": 26, \"14\": 22, \"4\": 15, \"0\": 1, \"2\": 6, \"11\": 12, \"13\": 7, \"8\": 1}, \"12\": {\"12\": 240}, \"8\": {\"8\": 183, \"0\": 22, \"13\": 17, \"5\": 10, \"7\": 1, \"3\": 5, \"14\": 2}, \"11\": {\"11\": 208, \"14\": 28, \"7\": 2, \"13\": 1, \"3\": 1}, \"2\": {\"2\": 179, \"4\": 52, \"5\": 1, \"0\": 2, \"7\": 6}, \"1\": {\"1\": 240}, \"0\": {\"0\": 187, \"5\": 5, \"14\": 7, \"13\": 2, \"8\": 28, \"4\": 4, \"7\": 7}}, \"O_44\": {\"8\": {\"0\": 84, \"8\": 141, \"5\": 8, \"15\": 7}, \"11\": {\"11\": 225, \"13\": 10, \"6\": 5}, \"14\": {\"14\": 149, \"4\": 66, \"5\": 3, \"15\": 21, \"0\": 1}, \"10\": {\"10\": 189, \"1\": 22, \"12\": 8, \"2\": 20, \"7\": 1}, \"3\": {\"3\": 224, \"1\": 8, \"12\": 5, \"2\": 3}, \"15\": {\"15\": 188, \"0\": 14, \"14\": 23, \"5\": 12, \"4\": 1, \"8\": 2}, \"2\": {\"7\": 31, \"2\": 181, \"6\": 1, \"1\": 11, \"10\": 13, \"3\": 1, \"9\": 2}, \"12\": {\"12\": 195, \"1\": 38, \"10\": 7}, \"4\": {\"4\": 164, \"14\": 74, \"15\": 2}, \"1\": {\"1\": 136, \"12\": 56, \"10\": 25, \"3\": 16, \"2\": 6, \"7\": 1}, \"0\": {\"0\": 147, \"8\": 66, \"5\": 12, \"15\": 15}, \"9\": {\"13\": 18, \"9\": 121, \"7\": 69, \"6\": 26, \"2\": 6}, \"5\": {\"5\": 177, \"0\": 23, \"14\": 16, \"15\": 13, \"8\": 8, \"4\": 3}, \"6\": {\"6\": 171, \"9\": 23, \"13\": 36, \"2\": 1, \"7\": 8, \"11\": 1}, \"7\": {\"7\": 149, \"9\": 51, \"2\": 32, \"10\": 1, \"6\": 5, \"13\": 1, \"3\": 1}, \"13\": {\"13\": 164, \"7\": 4, \"6\": 43, \"11\": 4, \"9\": 25}}, \"O_8\": {\"13\": {\"13\": 101, \"0\": 54, \"4\": 36, \"6\": 11, \"14\": 19, \"10\": 19}, \"3\": {\"3\": 234, \"2\": 3, \"12\": 3}, \"15\": {\"3\": 2, \"15\": 208, \"12\": 28, \"8\": 2}, \"4\": {\"4\": 185, \"13\": 31, \"14\": 16, \"6\": 7, \"0\": 1}, \"7\": {\"7\": 190, \"6\": 43, \"0\": 6, \"13\": 1}, \"2\": {\"2\": 223, \"3\": 13, \"7\": 4}, \"1\": {\"1\": 221, \"11\": 17, \"14\": 2}, \"0\": {\"0\": 200, \"13\": 27, \"10\": 1, \"7\": 2, \"6\": 5, \"4\": 4, \"14\": 1}, \"12\": {\"12\": 163, \"3\": 16, \"15\": 59, \"8\": 2}, \"6\": {\"13\": 3, \"4\": 20, \"6\": 176, \"7\": 38, \"0\": 3}, \"11\": {\"11\": 187, \"1\": 52, \"5\": 1}, \"9\": {\"9\": 240}, \"5\": {\"5\": 226, \"14\": 1, \"1\": 3, \"10\": 10}, \"10\": {\"10\": 193, \"14\": 34, \"13\": 11, \"4\": 1, \"5\": 1}, \"14\": {\"14\": 162, \"10\": 31, \"4\": 25, \"1\": 5, \"13\": 17}, \"8\": {\"8\": 235, \"15\": 5}}, \"O_20\": {\"6\": {\"6\": 223, \"8\": 1, \"14\": 15, \"7\": 1}, \"11\": {\"11\": 240}, \"5\": {\"5\": 168, \"15\": 5, \"0\": 29, \"1\": 14, \"3\": 6, \"2\": 1, \"12\": 16, \"4\": 1}, \"14\": {\"14\": 222, \"6\": 11, \"8\": 3, \"10\": 4}, \"2\": {\"2\": 129, \"13\": 13, \"9\": 52, \"12\": 10, \"3\": 10, \"7\": 24, \"1\": 2}, \"7\": {\"2\": 15, \"7\": 214, \"9\": 5, \"3\": 2, \"6\": 1, \"8\": 3}, \"3\": {\"12\": 49, \"3\": 128, \"2\": 11, \"9\": 26, \"7\": 9, \"4\": 10, \"0\": 1, \"1\": 2, \"5\": 3, \"8\": 1}, \"4\": {\"4\": 207, \"3\": 6, \"8\": 22, \"10\": 3, \"7\": 1, \"5\": 1}, \"9\": {\"9\": 124, \"3\": 42, \"7\": 4, \"2\": 45, \"12\": 21, \"1\": 2, \"13\": 2}, \"12\": {\"3\": 36, \"1\": 40, \"5\": 26, \"12\": 107, \"9\": 18, \"2\": 11, \"15\": 1, \"13\": 1}, \"0\": {\"5\": 47, \"15\": 48, \"0\": 142, \"1\": 2, \"13\": 1}, \"10\": {\"10\": 233, \"14\": 5, \"4\": 2}, \"8\": {\"8\": 208, \"4\": 15, \"10\": 1, \"7\": 10, \"6\": 2, \"14\": 4}, \"13\": {\"13\": 223, \"7\": 1, \"2\": 10, \"15\": 4, \"9\": 1, \"0\": 1}, \"1\": {\"12\": 39, \"1\": 151, \"5\": 21, \"15\": 20, \"0\": 4, \"9\": 4, \"13\": 1}, \"15\": {\"15\": 173, \"13\": 3, \"0\": 28, \"5\": 10, \"1\": 24, \"9\": 1, \"2\": 1}}, \"O_38\": {\"3\": {\"3\": 217, \"9\": 11, \"0\": 8, \"7\": 3, \"5\": 1}, \"8\": {\"5\": 40, \"8\": 160, \"7\": 13, \"15\": 7, \"0\": 12, \"10\": 4, \"13\": 4}, \"0\": {\"0\": 141, \"7\": 26, \"10\": 9, \"8\": 47, \"3\": 11, \"5\": 5, \"13\": 1}, \"2\": {\"14\": 16, \"2\": 223, \"13\": 1}, \"4\": {\"4\": 235, \"12\": 5}, \"7\": {\"7\": 192, \"5\": 26, \"0\": 11, \"8\": 11}, \"12\": {\"12\": 237, \"4\": 3}, \"6\": {\"6\": 230, \"9\": 8, \"5\": 2}, \"15\": {\"15\": 179, \"13\": 20, \"8\": 9, \"1\": 26, \"10\": 3, \"5\": 2, \"0\": 1}, \"11\": {\"11\": 220, \"14\": 15, \"4\": 3, \"0\": 1, \"10\": 1}, \"9\": {\"9\": 206, \"6\": 26, \"5\": 4, \"8\": 1, \"3\": 3}, \"14\": {\"11\": 9, \"14\": 218, \"2\": 11, \"12\": 1, \"10\": 1}, \"10\": {\"10\": 188, \"13\": 12, \"7\": 8, \"0\": 10, \"8\": 10, \"14\": 3, \"4\": 4, \"12\": 3, \"15\": 1, \"11\": 1}, \"5\": {\"5\": 119, \"8\": 59, \"0\": 5, \"7\": 37, \"6\": 6, \"15\": 9, \"10\": 1, \"13\": 1, \"9\": 3}, \"1\": {\"1\": 235, \"15\": 5}, \"13\": {\"10\": 19, \"13\": 179, \"8\": 8, \"15\": 20, \"1\": 3, \"2\": 7, \"5\": 1, \"0\": 3}}, \"O_26\": {\"5\": {\"5\": 169, \"2\": 18, \"13\": 28, \"9\": 8, \"15\": 12, \"3\": 3, \"8\": 2}, \"8\": {\"10\": 43, \"14\": 4, \"8\": 120, \"4\": 24, \"15\": 7, \"0\": 12, \"3\": 1, \"7\": 19, \"2\": 2, \"9\": 5, \"6\": 3}, \"4\": {\"4\": 96, \"10\": 15, \"7\": 15, \"14\": 61, \"8\": 17, \"0\": 21, \"1\": 15}, \"12\": {\"12\": 240}, \"6\": {\"6\": 193, \"10\": 13, \"15\": 6, \"9\": 20, \"8\": 2, \"0\": 6}, \"7\": {\"3\": 38, \"7\": 159, \"4\": 17, \"8\": 12, \"2\": 11, \"14\": 3}, \"10\": {\"10\": 102, \"0\": 61, \"6\": 11, \"15\": 3, \"4\": 9, \"8\": 35, \"14\": 14, \"1\": 4, \"7\": 1}, \"0\": {\"4\": 33, \"0\": 84, \"10\": 58, \"14\": 43, \"8\": 16, \"7\": 5, \"1\": 1}, \"15\": {\"15\": 111, \"13\": 13, \"9\": 82, \"6\": 10, \"5\": 6, \"8\": 7, \"2\": 5, \"3\": 1, \"7\": 3, \"0\": 1, \"10\": 1}, \"9\": {\"6\": 21, \"9\": 119, \"15\": 76, \"8\": 8, \"10\": 2, \"0\": 2, \"2\": 2, \"13\": 8, \"5\": 2}, \"11\": {\"11\": 239, \"12\": 1}, \"14\": {\"4\": 46, \"14\": 119, \"1\": 29, \"0\": 30, \"10\": 12, \"7\": 2, \"8\": 2}, \"2\": {\"2\": 111, \"3\": 87, \"8\": 5, \"9\": 2, \"5\": 15, \"15\": 8, \"7\": 11, \"13\": 1}, \"13\": {\"5\": 48, \"13\": 165, \"15\": 8, \"9\": 13, \"6\": 2, \"2\": 4}, \"3\": {\"3\": 175, \"2\": 43, \"5\": 1, \"7\": 21}, \"1\": {\"14\": 39, \"1\": 175, \"4\": 15, \"10\": 3, \"7\": 2, \"8\": 4, \"0\": 2}}, \"C_4\": {\"38\": {\"38\": 38, \"4\": 1, \"7\": 1}, \"3\": {\"3\": 90, \"34\": 1, \"6\": 15, \"54\": 3, \"36\": 8, \"50\": 1, \"53\": 3, \"29\": 1, \"48\": 2}, \"24\": {\"24\": 48, \"15\": 1, \"43\": 6, \"22\": 1}, \"49\": {\"49\": 20}, \"7\": {\"7\": 21, \"46\": 1, \"32\": 1, \"47\": 1}, \"17\": {\"4\": 5, \"17\": 63, \"26\": 1, \"28\": 1, \"25\": 1, \"27\": 5, \"21\": 1, \"50\": 3}, \"43\": {\"43\": 146, \"11\": 2}, \"30\": {\"30\": 38, \"26\": 1, \"8\": 3, \"12\": 1, \"50\": 1}, \"44\": {\"44\": 105, \"19\": 15, \"4\": 5, \"40\": 5, \"51\": 1, \"9\": 1}, \"23\": {\"23\": 130, \"52\": 6, \"18\": 6, \"39\": 1, \"41\": 1}, \"37\": {\"37\": 24}, \"4\": {\"4\": 129, \"50\": 1, \"9\": 1, \"53\": 1}, \"57\": {\"57\": 98, \"47\": 1, \"1\": 1}, \"16\": {\"43\": 2, \"16\": 78, \"5\": 1, \"11\": 5, \"46\": 3, \"15\": 4, \"52\": 1, \"47\": 1, \"50\": 1}, \"18\": {\"18\": 86, \"23\": 13, \"34\": 2, \"50\": 2, \"46\": 2, \"39\": 2, \"20\": 1}, \"20\": {\"20\": 120, \"53\": 1, \"25\": 1, \"8\": 2}, \"45\": {\"45\": 85, \"50\": 3, \"12\": 4, \"25\": 1, \"27\": 3}, \"15\": {\"15\": 111, \"16\": 5, \"43\": 6, \"57\": 2, \"11\": 6, \"31\": 1, \"46\": 1}, \"52\": {\"52\": 114, \"23\": 2}, \"19\": {\"40\": 12, \"19\": 108, \"26\": 2, \"50\": 3, \"44\": 10, \"27\": 1, \"33\": 2, \"51\": 1, \"4\": 1}, \"54\": {\"54\": 103, \"39\": 3, \"36\": 1, \"3\": 1}, \"56\": {\"56\": 116, \"13\": 3, \"22\": 2, \"43\": 1, \"10\": 2, \"29\": 2, \"7\": 3, \"24\": 1}, \"40\": {\"40\": 91, \"19\": 28, \"51\": 2, \"53\": 1, \"44\": 11, \"29\": 1}, \"28\": {\"28\": 20, \"21\": 1, \"26\": 8, \"25\": 2, \"53\": 1}, \"2\": {\"2\": 36}, \"9\": {\"17\": 4, \"9\": 103, \"45\": 1, \"4\": 5, \"21\": 1, \"25\": 2, \"19\": 1, \"50\": 2, \"27\": 1}, \"0\": {\"0\": 69, \"15\": 2, \"5\": 1, \"11\": 2, \"43\": 5, \"22\": 1}, \"36\": {\"36\": 82, \"6\": 2, \"34\": 2, \"48\": 1, \"3\": 1, \"46\": 1, \"20\": 1, \"12\": 1, \"50\": 1}, \"55\": {\"55\": 117, \"35\": 2, \"47\": 1, \"5\": 1, \"29\": 2, \"48\": 2, \"6\": 3, \"53\": 1, \"42\": 1}, \"35\": {\"35\": 39, \"29\": 1}, \"39\": {\"39\": 19, \"54\": 1}, \"31\": {\"31\": 28}, \"14\": {\"43\": 2, \"33\": 5, \"14\": 4, \"10\": 1, \"24\": 3, \"38\": 1}, \"12\": {\"12\": 91, \"27\": 1}, \"6\": {\"6\": 59, \"28\": 2, \"3\": 14, \"18\": 5, \"50\": 3, \"55\": 1, \"34\": 1, \"25\": 3, \"4\": 1, \"29\": 1, \"54\": 2, \"5\": 2, \"48\": 5, \"23\": 2, \"36\": 8, \"26\": 1, \"47\": 1, \"17\": 1}, \"26\": {\"26\": 23, \"54\": 1}, \"50\": {\"50\": 76, \"26\": 3, \"3\": 2, \"8\": 5, \"25\": 6, \"30\": 1, \"27\": 15, \"9\": 2, \"21\": 5, \"51\": 2, \"6\": 2, \"36\": 1, \"20\": 5, \"4\": 3, \"53\": 2, \"48\": 1, \"18\": 1}, \"21\": {\"21\": 116, \"27\": 1, \"8\": 3, \"25\": 1, \"50\": 1}, \"46\": {\"46\": 114, \"5\": 10, \"1\": 1, \"47\": 10, \"6\": 1, \"52\": 2, \"32\": 1, \"16\": 1}, \"51\": {\"50\": 1, \"51\": 128, \"20\": 2, \"53\": 8, \"44\": 1}, \"41\": {\"41\": 29, \"5\": 2, \"18\": 1, \"23\": 2, \"52\": 2}, \"34\": {\"34\": 21, \"54\": 1, \"36\": 2}, \"47\": {\"47\": 87, \"5\": 15, \"55\": 2, \"57\": 4, \"16\": 1, \"39\": 2, \"42\": 1, \"23\": 4, \"1\": 1, \"46\": 3}, \"5\": {\"5\": 83, \"46\": 6, \"47\": 10, \"6\": 2, \"49\": 1, \"54\": 3, \"32\": 1, \"36\": 1, \"48\": 1}, \"1\": {\"1\": 39, \"47\": 1}, \"48\": {\"48\": 118, \"3\": 3, \"36\": 3, \"47\": 2, \"54\": 1, \"6\": 2, \"55\": 2, \"20\": 1, \"51\": 1, \"4\": 1}, \"29\": {\"29\": 111, \"35\": 5, \"36\": 1, \"48\": 1}, \"22\": {\"22\": 121, \"10\": 1, \"43\": 3, \"38\": 2, \"24\": 1}, \"10\": {\"10\": 131, \"56\": 1}, \"32\": {\"32\": 21, \"49\": 2, \"39\": 1}, \"13\": {\"13\": 106, \"10\": 6}, \"42\": {\"42\": 32}, \"27\": {\"27\": 131, \"6\": 1, \"17\": 2, \"50\": 2, \"21\": 2}, \"8\": {\"8\": 136, \"30\": 3, \"50\": 1, \"21\": 1, \"27\": 1}, \"33\": {\"33\": 34, \"19\": 1, \"17\": 1}, \"25\": {\"25\": 82, \"21\": 12, \"50\": 5, \"53\": 6, \"8\": 9, \"27\": 3, \"20\": 6, \"3\": 2, \"9\": 1, \"6\": 3, \"30\": 1, \"17\": 1, \"18\": 1}, \"11\": {\"11\": 76, \"43\": 7, \"15\": 14, \"0\": 2, \"55\": 1, \"24\": 2, \"16\": 2}, \"53\": {\"8\": 1, \"53\": 86, \"50\": 2, \"51\": 12, \"48\": 3, \"9\": 2, \"20\": 3, \"6\": 2, \"3\": 1}}, \"C_2\": {\"32\": {\"32\": 28}, \"17\": {\"17\": 92, \"3\": 6, \"42\": 1, \"4\": 1, \"50\": 2, \"25\": 2}, \"38\": {\"38\": 19, \"43\": 1}, \"2\": {\"2\": 31, \"21\": 1}, \"43\": {\"43\": 141, \"21\": 1, \"24\": 2}, \"56\": {\"43\": 1, \"56\": 135, \"10\": 3, \"24\": 2, \"14\": 1, \"22\": 2}, \"37\": {\"37\": 36}, \"49\": {\"49\": 21, \"34\": 2, \"48\": 1}, \"0\": {\"0\": 44, \"41\": 1, \"39\": 1, \"5\": 1, \"28\": 1}, \"29\": {\"29\": 118, \"36\": 1, \"17\": 2, \"55\": 1, \"21\": 1, \"33\": 2, \"53\": 1, \"47\": 1, \"19\": 1}, \"35\": {\"35\": 32}, \"18\": {\"18\": 44, \"23\": 1, \"41\": 2, \"30\": 1}, \"25\": {\"25\": 90, \"8\": 5, \"26\": 1, \"53\": 2, \"20\": 10, \"50\": 12, \"27\": 3, \"51\": 2, \"12\": 3, \"3\": 4, \"54\": 2, \"17\": 1, \"6\": 1}, \"23\": {\"23\": 118, \"52\": 3, \"30\": 3}, \"15\": {\"15\": 139, \"11\": 1, \"23\": 1, \"16\": 4, \"52\": 1}, \"21\": {\"21\": 109, \"17\": 1, \"46\": 4, \"48\": 1, \"2\": 1, \"51\": 1, \"29\": 1, \"54\": 1, \"53\": 1}, \"51\": {\"51\": 116, \"53\": 6, \"20\": 1, \"45\": 1, \"54\": 1, \"50\": 1, \"3\": 2}, \"20\": {\"20\": 133, \"4\": 1, \"40\": 1, \"12\": 1, \"54\": 1, \"45\": 1}, \"7\": {\"7\": 34, \"48\": 1, \"5\": 1}, \"50\": {\"50\": 88, \"8\": 6, \"6\": 6, \"54\": 9, \"36\": 7, \"25\": 6, \"3\": 8, \"53\": 5, \"21\": 1}, \"31\": {\"31\": 24, \"1\": 3, \"5\": 1}, \"30\": {\"30\": 134, \"2\": 1, \"23\": 3, \"18\": 1, \"6\": 1}, \"19\": {\"19\": 128, \"44\": 12, \"9\": 3, \"33\": 2, \"40\": 6, \"51\": 2, \"32\": 1, \"17\": 2}, \"9\": {\"9\": 127, \"40\": 5, \"19\": 5, \"20\": 1, \"3\": 1, \"53\": 1, \"4\": 3, \"33\": 1}, \"52\": {\"23\": 5, \"52\": 114, \"39\": 1, \"57\": 1, \"1\": 1, \"16\": 2}, \"45\": {\"45\": 76, \"35\": 3, \"26\": 2, \"4\": 9, \"27\": 7, \"40\": 12, \"54\": 2, \"20\": 3, \"12\": 2, \"17\": 1, \"8\": 5, \"25\": 3, \"53\": 1, \"50\": 1, \"9\": 1}, \"8\": {\"20\": 1, \"8\": 144, \"27\": 3, \"12\": 5, \"25\": 1}, \"55\": {\"55\": 146, \"2\": 2, \"42\": 4, \"7\": 1, \"3\": 1, \"29\": 1, \"47\": 3, \"46\": 2}, \"12\": {\"12\": 86, \"27\": 2, \"8\": 2, \"26\": 2}, \"40\": {\"40\": 117, \"19\": 11, \"33\": 1, \"44\": 2, \"51\": 1, \"4\": 7, \"45\": 1}, \"28\": {\"28\": 28}, \"36\": {\"36\": 113, \"27\": 1, \"50\": 1, \"17\": 1}, \"39\": {\"39\": 24, \"52\": 1, \"32\": 1, \"23\": 1, \"6\": 1}, \"46\": {\"46\": 78, \"2\": 1, \"57\": 1, \"6\": 10, \"39\": 2, \"50\": 1, \"48\": 17, \"7\": 3, \"47\": 3, \"3\": 2, \"53\": 1, \"5\": 1, \"42\": 1, \"17\": 1}, \"14\": {\"56\": 1, \"40\": 1, \"14\": 6, \"9\": 4, \"10\": 4, \"33\": 2, \"43\": 1, \"4\": 1, \"29\": 2, \"44\": 2}, \"57\": {\"57\": 138, \"48\": 3, \"7\": 1}, \"34\": {\"34\": 24, \"26\": 1, \"48\": 2, \"25\": 1}, \"1\": {\"1\": 105, \"31\": 2, \"47\": 3, \"57\": 1, \"55\": 1}, \"53\": {\"53\": 129, \"54\": 2, \"51\": 5}, \"48\": {\"48\": 115, \"49\": 2, \"34\": 1, \"39\": 1, \"6\": 4, \"3\": 1, \"46\": 3, \"50\": 1, \"47\": 2}, \"3\": {\"53\": 5, \"49\": 4, \"17\": 4, \"6\": 13, \"51\": 1, \"50\": 2, \"18\": 1, \"48\": 8, \"46\": 4, \"54\": 1, \"2\": 3, \"36\": 2, \"42\": 1, \"30\": 2, \"29\": 6, \"3\": 26, \"21\": 2, \"32\": 1, \"39\": 1, \"19\": 2, \"9\": 1, \"4\": 1, \"20\": 1}, \"16\": {\"16\": 134, \"52\": 2, \"11\": 2, \"23\": 4, \"15\": 8, \"0\": 1, \"53\": 1}, \"6\": {\"6\": 93, \"36\": 2, \"49\": 2, \"17\": 2, \"3\": 4, \"48\": 7, \"23\": 2, \"50\": 4, \"25\": 1, \"34\": 1, \"18\": 4, \"54\": 1, \"8\": 1}, \"10\": {\"10\": 111, \"14\": 1}, \"13\": {\"13\": 116}, \"26\": {\"26\": 22, \"25\": 1, \"20\": 1}, \"24\": {\"24\": 85, \"17\": 1, \"10\": 5, \"43\": 3, \"38\": 1, \"21\": 1}, \"44\": {\"44\": 85, \"32\": 1, \"19\": 9, \"40\": 3, \"53\": 1, \"45\": 1}, \"27\": {\"27\": 142, \"8\": 8}, \"22\": {\"22\": 123, \"10\": 1, \"24\": 1, \"43\": 1, \"56\": 1, \"28\": 1}, \"33\": {\"33\": 26, \"9\": 2}, \"47\": {\"55\": 7, \"46\": 7, \"47\": 82, \"57\": 9, \"1\": 2, \"5\": 5, \"48\": 1, \"52\": 2, \"31\": 1, \"39\": 2}, \"5\": {\"5\": 110, \"17\": 2, \"47\": 2, \"1\": 2, \"57\": 1, \"31\": 1, \"6\": 1, \"52\": 1}, \"4\": {\"4\": 130, \"9\": 5, \"40\": 1, \"20\": 1, \"51\": 1}, \"41\": {\"41\": 19, \"52\": 1}, \"11\": {\"11\": 136, \"16\": 7, \"15\": 5, \"52\": 1, \"43\": 1}, \"54\": {\"54\": 100, \"50\": 4, \"8\": 1, \"6\": 1, \"3\": 1, \"25\": 1}, \"42\": {\"42\": 32, \"3\": 1, \"46\": 1, \"2\": 1, \"55\": 1}}, \"C_3\": {\"5\": {\"5\": 105, \"2\": 1, \"31\": 2, \"34\": 1, \"46\": 1, \"48\": 1, \"28\": 2, \"41\": 1, \"47\": 1, \"1\": 1}, \"32\": {\"32\": 26, \"9\": 1, \"45\": 1}, \"33\": {\"33\": 23, \"18\": 1, \"42\": 1, \"21\": 2, \"3\": 1}, \"49\": {\"49\": 19, \"15\": 1}, \"39\": {\"39\": 16}, \"11\": {\"52\": 2, \"11\": 122, \"15\": 12, \"16\": 4, \"7\": 1, \"49\": 1}, \"8\": {\"8\": 111, \"12\": 2, \"54\": 2, \"4\": 1}, \"26\": {\"26\": 24}, \"51\": {\"51\": 109, \"2\": 1, \"53\": 4, \"20\": 3, \"21\": 3, \"54\": 1, \"50\": 1}, \"4\": {\"4\": 145, \"54\": 1}, \"52\": {\"52\": 110, \"23\": 1, \"16\": 1, \"18\": 3, \"6\": 1, \"11\": 1, \"48\": 1}, \"47\": {\"47\": 65, \"31\": 1, \"9\": 2, \"46\": 1, \"52\": 2, \"48\": 6, \"4\": 1, \"5\": 3, \"3\": 3, \"51\": 1, \"34\": 1, \"57\": 1, \"16\": 1, \"55\": 2, \"1\": 2}, \"17\": {\"17\": 84, \"36\": 3, \"6\": 2, \"25\": 6, \"27\": 2, \"50\": 5, \"38\": 1, \"24\": 1, \"42\": 1, \"3\": 1, \"46\": 1, \"54\": 1}, \"53\": {\"53\": 131, \"21\": 3, \"2\": 1, \"27\": 1}, \"2\": {\"2\": 31, \"12\": 1}, \"12\": {\"12\": 80, \"8\": 4, \"25\": 4, \"54\": 2, \"27\": 1, \"38\": 1}, \"37\": {\"37\": 28}, \"9\": {\"9\": 135, \"17\": 2, \"41\": 1, \"53\": 3, \"29\": 6, \"50\": 1}, \"13\": {\"13\": 125, \"40\": 1, \"55\": 1, \"44\": 1}, \"54\": {\"54\": 87, \"12\": 4, \"8\": 3, \"50\": 2, \"32\": 1, \"25\": 2, \"20\": 1}, \"31\": {\"31\": 23, \"1\": 5}, \"34\": {\"34\": 31, \"41\": 1}, \"24\": {\"24\": 100, \"7\": 1, \"43\": 3}, \"7\": {\"7\": 34, \"43\": 2}, \"50\": {\"50\": 69, \"54\": 6, \"36\": 6, \"25\": 10, \"6\": 6, \"21\": 1, \"53\": 7, \"3\": 2, \"17\": 4, \"46\": 1, \"8\": 2, \"38\": 2, \"52\": 1, \"23\": 1}, \"46\": {\"46\": 85, \"9\": 2, \"6\": 4, \"3\": 17, \"52\": 2, \"48\": 12, \"50\": 1, \"41\": 1, \"34\": 3, \"23\": 1}, \"44\": {\"21\": 1, \"44\": 71, \"14\": 2, \"19\": 8, \"40\": 5, \"36\": 1}, \"40\": {\"40\": 95, \"44\": 6, \"19\": 9, \"53\": 1, \"51\": 2, \"45\": 1, \"4\": 2}, \"21\": {\"21\": 101, \"3\": 4, \"50\": 3, \"25\": 2, \"54\": 1, \"51\": 3, \"1\": 1, \"53\": 8, \"46\": 1, \"17\": 1, \"29\": 1, \"6\": 1, \"55\": 1}, \"45\": {\"32\": 1, \"40\": 4, \"45\": 30, \"4\": 4, \"12\": 4, \"25\": 6, \"8\": 2, \"27\": 3, \"54\": 2, \"51\": 1, \"53\": 1, \"30\": 1, \"44\": 1}, \"16\": {\"16\": 107, \"52\": 5, \"23\": 5, \"21\": 1, \"15\": 7, \"11\": 1}, \"14\": {\"9\": 2, \"10\": 6, \"56\": 4, \"14\": 6, \"19\": 5, \"4\": 4, \"44\": 2, \"24\": 5, \"29\": 2, \"43\": 2, \"11\": 1, \"32\": 1}, \"36\": {\"36\": 96, \"27\": 2, \"6\": 2}, \"56\": {\"56\": 111, \"24\": 1, \"10\": 1, \"22\": 1}, \"10\": {\"10\": 63, \"24\": 1}, \"18\": {\"18\": 79, \"30\": 3, \"6\": 2}, \"48\": {\"48\": 109, \"47\": 3, \"6\": 1, \"46\": 2, \"41\": 1}, \"38\": {\"38\": 25, \"53\": 2, \"4\": 1}, \"27\": {\"27\": 117, \"25\": 2, \"50\": 1, \"38\": 1, \"54\": 1, \"9\": 2, \"17\": 1, \"32\": 1, \"3\": 2, \"36\": 1, \"53\": 1}, \"42\": {\"42\": 19, \"33\": 1, \"41\": 2, \"25\": 1, \"50\": 1, \"6\": 2, \"3\": 1, \"17\": 1}, \"15\": {\"15\": 122, \"9\": 2, \"16\": 8, \"2\": 1, \"4\": 1}, \"1\": {\"1\": 87, \"31\": 3, \"57\": 4, \"46\": 2, \"48\": 2, \"41\": 1, \"23\": 1}, \"28\": {\"37\": 1, \"28\": 24, \"5\": 3}, \"43\": {\"43\": 136}, \"0\": {\"0\": 115, \"23\": 5, \"15\": 1, \"7\": 1, \"49\": 1, \"5\": 1}, \"57\": {\"57\": 123, \"1\": 1}, \"3\": {\"3\": 58, \"41\": 4, \"35\": 1, \"48\": 11, \"27\": 12, \"18\": 3, \"30\": 2, \"51\": 4, \"50\": 3, \"21\": 7, \"6\": 10, \"29\": 4, \"46\": 9, \"17\": 5, \"9\": 8, \"53\": 4, \"20\": 1, \"42\": 1, \"36\": 1}, \"29\": {\"29\": 104, \"21\": 1, \"9\": 15, \"1\": 1, \"36\": 1, \"55\": 1, \"35\": 1}, \"41\": {\"41\": 24, \"3\": 2, \"46\": 1, \"53\": 1}, \"25\": {\"27\": 5, \"25\": 92, \"32\": 1, \"12\": 4, \"6\": 3, \"51\": 5, \"53\": 3, \"17\": 5, \"20\": 5, \"50\": 12, \"54\": 7, \"38\": 2, \"8\": 2}, \"6\": {\"41\": 2, \"27\": 2, \"48\": 3, \"6\": 53, \"26\": 1, \"46\": 2, \"42\": 2, \"23\": 2, \"3\": 8, \"50\": 3, \"20\": 2, \"12\": 2, \"18\": 2, \"54\": 1, \"47\": 1, \"36\": 2}, \"35\": {\"35\": 28}, \"20\": {\"20\": 119, \"50\": 2, \"54\": 1, \"38\": 1, \"3\": 2, \"8\": 1}, \"23\": {\"23\": 133, \"39\": 1}, \"22\": {\"22\": 132, \"13\": 3, \"11\": 1, \"56\": 1, \"35\": 1, \"14\": 1, \"55\": 1}, \"19\": {\"19\": 104, \"9\": 2, \"44\": 3, \"4\": 3, \"40\": 3, \"53\": 1}, \"55\": {\"55\": 121, \"1\": 2, \"47\": 1}, \"30\": {\"30\": 113, \"48\": 2, \"3\": 1, \"18\": 1, \"6\": 1, \"46\": 2}}, \"C_1\": {\"24\": {\"24\": 73, \"11\": 8, \"22\": 17, \"10\": 5, \"52\": 2, \"15\": 3}, \"25\": {\"26\": 1, \"25\": 123, \"6\": 2, \"30\": 2, \"46\": 4, \"5\": 3, \"17\": 2, \"14\": 1, \"50\": 1, \"48\": 1}, \"45\": {\"45\": 141, \"42\": 3}, \"42\": {\"42\": 36, \"45\": 3, \"57\": 1}, \"2\": {\"2\": 34, \"5\": 1, \"8\": 1}, \"9\": {\"9\": 137, \"46\": 1, \"30\": 5, \"18\": 1, \"5\": 3, \"17\": 1, \"25\": 1, \"4\": 1}, \"21\": {\"21\": 122, \"15\": 1, \"23\": 1}, \"26\": {\"25\": 1, \"26\": 22, \"45\": 1}, \"49\": {\"49\": 29, \"22\": 1, \"54\": 1, \"24\": 1}, \"39\": {\"39\": 28}, \"46\": {\"46\": 81, \"48\": 12, \"41\": 2, \"5\": 12, \"17\": 4, \"13\": 1, \"6\": 4, \"8\": 5, \"50\": 5, \"40\": 1, \"25\": 3, \"4\": 4, \"2\": 1, \"29\": 1}, \"17\": {\"46\": 2, \"17\": 56, \"5\": 3, \"6\": 2, \"8\": 1}, \"19\": {\"19\": 110, \"57\": 12, \"35\": 1, \"1\": 10, \"56\": 22, \"44\": 1}, \"23\": {\"23\": 132}, \"1\": {\"1\": 68, \"56\": 9, \"19\": 13, \"57\": 9, \"13\": 1}, \"29\": {\"29\": 131, \"13\": 1, \"1\": 2, \"19\": 3, \"57\": 1, \"51\": 1, \"3\": 1}, \"56\": {\"56\": 79, \"57\": 28, \"19\": 22, \"1\": 4, \"44\": 7, \"55\": 1, \"45\": 3, \"47\": 1, \"51\": 2, \"41\": 1, \"42\": 1, \"13\": 1}, \"37\": {\"37\": 32}, \"33\": {\"33\": 32}, \"55\": {\"55\": 126, \"42\": 1, \"33\": 2, \"54\": 6, \"45\": 6, \"44\": 1}, \"30\": {\"30\": 115, \"53\": 1, \"25\": 1, \"9\": 3}, \"0\": {\"0\": 136, \"34\": 3, \"36\": 2, \"54\": 6, \"55\": 3, \"16\": 2}, \"36\": {\"36\": 63, \"38\": 1}, \"32\": {\"32\": 27, \"55\": 2, \"29\": 1, \"33\": 1, \"34\": 1}, \"31\": {\"31\": 25, \"11\": 2, \"24\": 1}, \"15\": {\"15\": 125, \"11\": 6, \"22\": 4, \"24\": 1, \"23\": 1, \"21\": 1}, \"12\": {\"12\": 92, \"20\": 19, \"14\": 1, \"51\": 2, \"13\": 1, \"19\": 1}, \"38\": {\"38\": 22, \"33\": 2}, \"40\": {\"40\": 130, \"4\": 9, \"3\": 1, \"13\": 3, \"29\": 2, \"46\": 1}, \"14\": {\"14\": 16, \"13\": 1, \"7\": 1, \"26\": 1, \"30\": 2, \"51\": 1, \"17\": 1, \"8\": 1}, \"13\": {\"13\": 144, \"51\": 5, \"12\": 1}, \"48\": {\"48\": 133, \"2\": 1, \"50\": 2, \"8\": 5, \"6\": 6, \"46\": 1}, \"34\": {\"34\": 24}, \"44\": {\"44\": 94, \"47\": 18, \"45\": 2, \"1\": 2, \"56\": 3, \"20\": 5, \"55\": 3, \"12\": 1, \"19\": 2}, \"5\": {\"5\": 104, \"2\": 3, \"48\": 11, \"9\": 8, \"6\": 7, \"53\": 1, \"8\": 12, \"46\": 1, \"14\": 1, \"25\": 3, \"50\": 1}, \"11\": {\"11\": 107, \"15\": 9, \"24\": 5, \"22\": 15, \"52\": 1, \"10\": 3}, \"7\": {\"7\": 27, \"34\": 1}, \"18\": {\"18\": 72}, \"52\": {\"52\": 110, \"0\": 2, \"11\": 4, \"31\": 1, \"24\": 5, \"22\": 3, \"27\": 2, \"55\": 2, \"49\": 2, \"54\": 1}, \"51\": {\"51\": 132, \"12\": 2, \"25\": 1, \"53\": 2, \"14\": 1, \"13\": 1, \"20\": 3}, \"41\": {\"41\": 24}, \"16\": {\"16\": 125, \"54\": 7, \"36\": 1, \"55\": 5, \"0\": 2}, \"22\": {\"22\": 95, \"24\": 14, \"23\": 1, \"11\": 10, \"31\": 1, \"36\": 1, \"47\": 1, \"52\": 1, \"15\": 8, \"38\": 1, \"55\": 1}, \"3\": {\"20\": 2, \"54\": 1, \"3\": 116, \"12\": 2, \"29\": 3, \"37\": 1, \"44\": 2, \"57\": 1, \"19\": 2, \"5\": 1, \"42\": 2, \"13\": 3, \"51\": 1, \"56\": 2, \"55\": 1}, \"54\": {\"54\": 101, \"38\": 1, \"55\": 1, \"0\": 1}, \"27\": {\"27\": 140, \"21\": 2, \"23\": 1, \"52\": 1}, \"20\": {\"20\": 122, \"12\": 11, \"3\": 2, \"45\": 1, \"42\": 1, \"51\": 2, \"13\": 1}, \"8\": {\"8\": 110, \"17\": 3, \"5\": 9, \"30\": 2, \"48\": 10, \"25\": 1, \"6\": 2, \"46\": 1}, \"50\": {\"50\": 143, \"48\": 1}, \"57\": {\"57\": 91, \"19\": 15, \"56\": 19, \"42\": 2, \"1\": 9, \"12\": 2, \"44\": 1, \"55\": 1}, \"4\": {\"4\": 127, \"46\": 2, \"40\": 3}, \"47\": {\"47\": 126, \"56\": 1, \"44\": 16, \"35\": 2, \"3\": 1}, \"10\": {\"10\": 91, \"15\": 2, \"52\": 1, \"24\": 1, \"21\": 1}, \"35\": {\"35\": 36}, \"53\": {\"53\": 119, \"5\": 3, \"51\": 1, \"14\": 1, \"25\": 2}, \"6\": {\"8\": 8, \"6\": 60, \"2\": 1, \"53\": 2, \"5\": 8, \"17\": 4, \"48\": 9, \"46\": 2, \"25\": 1, \"4\": 1}, \"43\": {\"43\": 136, \"27\": 3, \"15\": 1}, \"28\": {\"28\": 27, \"24\": 1}}, \"C_5\": {\"35\": {\"35\": 36}, \"57\": {\"57\": 124, \"54\": 3, \"18\": 1, \"47\": 1, \"36\": 1, \"23\": 2}, \"20\": {\"20\": 134, \"51\": 1, \"45\": 1, \"53\": 3, \"50\": 1, \"8\": 1, \"6\": 1, \"25\": 2}, \"12\": {\"12\": 82, \"38\": 2, \"20\": 1, \"30\": 3, \"17\": 1, \"45\": 2, \"7\": 1, \"27\": 3, \"55\": 1}, \"32\": {\"32\": 21, \"45\": 1, \"27\": 5, \"12\": 1, \"53\": 1, \"9\": 1, \"50\": 1, \"48\": 1}, \"25\": {\"25\": 111, \"8\": 1, \"48\": 3, \"7\": 1, \"30\": 1, \"12\": 3, \"6\": 6, \"55\": 3, \"53\": 5, \"1\": 1, \"17\": 2, \"27\": 1}, \"44\": {\"44\": 133, \"21\": 4, \"5\": 2, \"18\": 1, \"29\": 2, \"40\": 2, \"33\": 1, \"19\": 2, \"46\": 1}, \"31\": {\"31\": 34, \"49\": 1, \"28\": 1}, \"11\": {\"11\": 113, \"16\": 11, \"24\": 1, \"43\": 11, \"19\": 1, \"52\": 1, \"0\": 1, \"15\": 10, \"31\": 1}, \"47\": {\"47\": 68, \"31\": 2, \"3\": 4, \"54\": 3, \"57\": 2, \"14\": 1, \"41\": 1, \"36\": 8, \"46\": 3, \"1\": 3, \"50\": 2, \"25\": 1, \"39\": 1, \"34\": 1}, \"23\": {\"23\": 118, \"52\": 1, \"18\": 1, \"3\": 3, \"47\": 1}, \"43\": {\"43\": 136, \"36\": 1, \"2\": 1, \"11\": 2, \"52\": 4}, \"37\": {\"37\": 24}, \"5\": {\"5\": 102, \"40\": 7, \"51\": 4, \"19\": 9, \"50\": 3, \"29\": 1, \"27\": 1, \"21\": 1}, \"45\": {\"12\": 1, \"45\": 54, \"30\": 7, \"48\": 1, \"38\": 2, \"8\": 8, \"17\": 15, \"32\": 1, \"53\": 1, \"55\": 3, \"4\": 4, \"20\": 2, \"27\": 3, \"40\": 3, \"19\": 3, \"9\": 9, \"6\": 1, \"7\": 1, \"33\": 1, \"1\": 1, \"25\": 2, \"5\": 1}, \"7\": {\"7\": 29, \"4\": 1, \"17\": 1, \"20\": 1}, \"13\": {\"13\": 109, \"24\": 4, \"14\": 2, \"15\": 7, \"40\": 1, \"56\": 3, \"57\": 1, \"21\": 4, \"43\": 1, \"44\": 1, \"10\": 1, \"11\": 1, \"19\": 1}, \"49\": {\"49\": 35, \"34\": 1}, \"46\": {\"3\": 11, \"46\": 122, \"36\": 3, \"52\": 4, \"5\": 1, \"23\": 3, \"16\": 2, \"31\": 1, \"50\": 1}, \"16\": {\"16\": 114, \"3\": 5, \"52\": 2, \"43\": 7, \"46\": 4, \"11\": 3, \"25\": 1}, \"54\": {\"54\": 110, \"36\": 2}, \"19\": {\"19\": 136, \"5\": 8, \"44\": 1, \"40\": 3, \"9\": 2, \"29\": 1, \"55\": 1}, \"55\": {\"55\": 102, \"45\": 12, \"48\": 3, \"32\": 2, \"6\": 2, \"17\": 2, \"30\": 6, \"53\": 1, \"4\": 1, \"1\": 7, \"25\": 2, \"50\": 7, \"9\": 1, \"19\": 1, \"27\": 1}, \"30\": {\"30\": 110, \"45\": 2, \"17\": 7, \"8\": 4, \"6\": 2, \"48\": 3}, \"34\": {\"34\": 31, \"49\": 1, \"14\": 1, \"19\": 1, \"54\": 1, \"9\": 1}, \"50\": {\"20\": 6, \"19\": 2, \"50\": 43, \"53\": 9, \"51\": 10, \"21\": 3, \"7\": 1, \"34\": 2, \"27\": 9, \"8\": 4, \"55\": 4, \"1\": 10, \"17\": 1, \"6\": 7, \"48\": 9, \"45\": 1, \"9\": 3, \"23\": 1, \"25\": 3, \"33\": 1, \"14\": 1, \"47\": 2, \"32\": 1, \"5\": 1}, \"3\": {\"3\": 68, \"57\": 1, \"54\": 1, \"46\": 14, \"47\": 3, \"36\": 9, \"23\": 1, \"42\": 1, \"16\": 1, \"43\": 1}, \"10\": {\"10\": 66, \"47\": 1, \"44\": 1}, \"27\": {\"27\": 107, \"55\": 3, \"9\": 17, \"6\": 1, \"33\": 1, \"48\": 3, \"50\": 5, \"45\": 2, \"20\": 2, \"53\": 1}, \"33\": {\"33\": 32}, \"56\": {\"56\": 139, \"13\": 1, \"10\": 2}, \"9\": {\"27\": 14, \"9\": 117, \"55\": 3, \"45\": 5, \"12\": 1, \"50\": 1, \"20\": 1, \"5\": 2, \"51\": 2, \"6\": 1, \"19\": 1, \"4\": 1, \"53\": 1}, \"14\": {\"31\": 4, \"14\": 10, \"54\": 3, \"43\": 3, \"35\": 1, \"21\": 2, \"36\": 2, \"32\": 1, \"48\": 2, \"50\": 2, \"17\": 1, \"37\": 2, \"47\": 2, \"2\": 1, \"27\": 1, \"34\": 1, \"51\": 2, \"33\": 1, \"9\": 1, \"15\": 1, \"16\": 1}, \"4\": {\"4\": 87, \"7\": 1, \"5\": 2, \"45\": 3, \"12\": 1, \"51\": 3, \"9\": 2, \"19\": 1}, \"42\": {\"42\": 35, \"39\": 2, \"18\": 2, \"9\": 1}, \"24\": {\"10\": 3, \"24\": 75, \"0\": 1, \"15\": 1}, \"39\": {\"39\": 19, \"36\": 1}, \"52\": {\"52\": 118, \"57\": 2, \"36\": 2, \"23\": 3, \"46\": 4, \"3\": 1}, \"2\": {\"2\": 27, \"52\": 1}, \"28\": {\"28\": 31, \"29\": 1}, \"53\": {\"53\": 117, \"48\": 2, \"25\": 1, \"6\": 1, \"51\": 1}, \"17\": {\"26\": 2, \"17\": 92, \"30\": 4, \"6\": 7, \"48\": 5, \"25\": 2, \"45\": 2, \"8\": 2}, \"29\": {\"29\": 122, \"36\": 1, \"47\": 1, \"34\": 1, \"44\": 5, \"21\": 1, \"1\": 1}, \"38\": {\"38\": 31, \"45\": 1}, \"15\": {\"15\": 133, \"24\": 4, \"11\": 7}, \"26\": {\"26\": 20, \"45\": 2, \"38\": 1, \"12\": 1}, \"21\": {\"21\": 142, \"51\": 1, \"50\": 1}, \"41\": {\"41\": 24, \"1\": 2, \"39\": 1, \"7\": 1}, \"48\": {\"48\": 101, \"25\": 6, \"32\": 1, \"45\": 2, \"20\": 3, \"6\": 1, \"53\": 2, \"1\": 10, \"17\": 5, \"50\": 3, \"30\": 1, \"8\": 1}, \"22\": {\"22\": 26, \"44\": 1, \"34\": 1}, \"8\": {\"8\": 147, \"17\": 1}, \"18\": {\"18\": 57, \"42\": 5, \"23\": 2}, \"0\": {\"11\": 2, \"0\": 104, \"57\": 2, \"3\": 1, \"24\": 4, \"15\": 8, \"16\": 1}, \"1\": {\"39\": 1, \"1\": 95, \"48\": 24, \"54\": 2, \"18\": 2, \"17\": 1, \"50\": 2, \"45\": 1, \"6\": 3, \"8\": 1, \"25\": 1, \"47\": 1, \"30\": 1, \"27\": 2, \"20\": 1}, \"40\": {\"40\": 75, \"5\": 21, \"44\": 5, \"19\": 19, \"51\": 1, \"32\": 1, \"20\": 1, \"9\": 1}, \"6\": {\"6\": 77, \"1\": 6, \"20\": 2, \"17\": 7, \"45\": 7, \"48\": 6, \"8\": 11, \"30\": 3, \"53\": 2, \"55\": 2, \"25\": 2, \"50\": 2, \"42\": 1}, \"51\": {\"51\": 126, \"48\": 1, \"21\": 2, \"20\": 7, \"53\": 6}, \"36\": {\"36\": 91, \"47\": 1}}}, \"per_domain_accuracy\": {\"O_50\": {\"accuracy\": 0.8096354166666667, \"source?\": true}, \"O_14\": {\"accuracy\": 0.8427083333333333, \"source?\": true}, \"O_32\": {\"accuracy\": 0.81015625, \"source?\": true}, \"O_44\": {\"accuracy\": 0.70859375, \"source?\": true}, \"O_8\": {\"accuracy\": 0.81875, \"source?\": true}, \"O_20\": {\"accuracy\": 0.753125, \"source?\": true}, \"O_38\": {\"accuracy\": 0.8278645833333333, \"source?\": true}, \"O_26\": {\"accuracy\": 0.6190104166666667, \"source?\": true}, \"C_4\": {\"accuracy\": 0.8579545454545454, \"source?\": false}, \"C_2\": {\"accuracy\": 0.8771067415730337, \"source?\": false}, \"C_3\": {\"accuracy\": 0.8621651785714286, \"source?\": false}, \"C_1\": {\"accuracy\": 0.8579391891891892, \"source?\": false}, \"C_5\": {\"accuracy\": 0.8278631284916201, \"source?\": false}}}, \"history\": {\"epoch_indices\": [1, 2, 3, 4, 5, 6], \"train_label_loss\": [0.9984140276864526, 0.740828199017172, 0.5818567561307213, 0.5137065272878057, 0.46458140531044806, 0.41722453011621147], \"source_val_label_loss\": [1.140848159790039, 0.6217381954193115, 0.5637723207473755, 0.4615967571735382, 0.4435279369354248, 0.4198969006538391], \"target_val_label_loss\": [6.785364151000977, 1.2600467205047607, 1.255380392074585, 1.4659680128097534, 1.5277422666549683, 1.7353625297546387], \"source_val_acc_label\": [0.6403645833333333, 0.77373046875, 0.79365234375, 0.8316080729166667, 0.8362955729166667, 0.8478515625], \"target_val_acc_label\": [0.6887857142857143, 0.8565, 0.8508928571428571, 0.8441785714285714, 0.8457857142857143, 0.8350357142857143]}, \"dataset_metrics\": {\"source\": {\"train\": {\"n_unique_x\": 179200, \"n_unique_y\": 16, \"n_batch/episode\": 6720}, \"val\": {\"n_unique_x\": 38400, \"n_unique_y\": 16, \"n_batch/episode\": 960}, \"test\": {\"n_unique_x\": 38400, \"n_unique_y\": 16, \"n_batch/episode\": 960}}, \"target\": {\"train\": {\"n_unique_x\": 175197, \"n_unique_y\": 58, \"n_batch/episode\": 6309}, \"val\": {\"n_unique_x\": 37166, \"n_unique_y\": 58, \"n_batch/episode\": 875}, \"test\": {\"n_unique_x\": 37642, \"n_unique_y\": 58, \"n_batch/episode\": 890}}}}'"
      ]
     },
     "execution_count": 29,
     "metadata": {},
     "output_type": "execute_result"
    }
   ],
   "source": [
    "json.dumps(experiment)"
   ]
  }
 ],
 "metadata": {
  "celltoolbar": "Tags",
  "kernelspec": {
   "display_name": "Python 3 (ipykernel)",
   "language": "python",
   "name": "python3"
  },
  "language_info": {
   "codemirror_mode": {
    "name": "ipython",
    "version": 3
   },
   "file_extension": ".py",
   "mimetype": "text/x-python",
   "name": "python",
   "nbconvert_exporter": "python",
   "pygments_lexer": "ipython3",
   "version": "3.8.10"
  },
  "papermill": {
   "default_parameters": {},
   "duration": 1130.290741,
   "end_time": "2022-03-25T14:12:45.135215",
   "environment_variables": {},
   "exception": null,
   "input_path": "/mnt/wd500GB/CSC500/csc500-main/csc500-notebooks/templates/tl_ptn_template.ipynb",
   "output_path": "trial.ipynb",
   "parameters": {
    "parameters": {
     "BEST_MODEL_PATH": "./best_model.pth",
     "NUM_LOGS_PER_EPOCH": 10,
     "criteria_for_best": "target_accuracy",
     "dataset_seed": 500,
     "datasets": [
      {
       "domain_prefix": "C_",
       "domains": [
        1,
        2,
        3,
        4,
        5
       ],
       "episode_transforms": [],
       "labels": [
        "1-10.",
        "1-11.",
        "1-15.",
        "1-16.",
        "1-17.",
        "1-18.",
        "1-19.",
        "10-4.",
        "10-7.",
        "11-1.",
        "11-14.",
        "11-17.",
        "11-20.",
        "11-7.",
        "13-20.",
        "13-8.",
        "14-10.",
        "14-11.",
        "14-14.",
        "14-7.",
        "15-1.",
        "15-20.",
        "16-1.",
        "16-16.",
        "17-10.",
        "17-11.",
        "17-2.",
        "19-1.",
        "19-16.",
        "19-19.",
        "19-20.",
        "19-3.",
        "2-10.",
        "2-11.",
        "2-17.",
        "2-18.",
        "2-20.",
        "2-3.",
        "2-4.",
        "2-5.",
        "2-6.",
        "2-7.",
        "2-8.",
        "3-13.",
        "3-18.",
        "3-3.",
        "4-1.",
        "4-10.",
        "4-11.",
        "4-19.",
        "5-5.",
        "6-15.",
        "7-10.",
        "7-14.",
        "8-18.",
        "8-20.",
        "8-3.",
        "8-8."
       ],
       "num_examples_per_domain_per_label": -1,
       "pickle_path": "/mnt/wd500GB/CSC500/csc500-main/datasets/cores.stratified_ds.2022A.pkl",
       "source_or_target_dataset": "target",
       "x_transforms": [
        "unit_mag",
        "take_200"
       ]
      },
      {
       "domain_prefix": "O_",
       "domains": [
        32,
        38,
        8,
        44,
        14,
        50,
        20,
        26
       ],
       "episode_transforms": [],
       "labels": [
        "3123D52",
        "3123D65",
        "3123D79",
        "3123D80",
        "3123D54",
        "3123D70",
        "3123D7B",
        "3123D89",
        "3123D58",
        "3123D76",
        "3123D7D",
        "3123EFE",
        "3123D64",
        "3123D78",
        "3123D7E",
        "3124E4A"
       ],
       "num_examples_per_domain_per_label": 2000,
       "pickle_path": "/mnt/wd500GB/CSC500/csc500-main/datasets/oracle.Run1_framed_2000Examples_stratified_ds.2022A.pkl",
       "source_or_target_dataset": "source",
       "x_transforms": [
        "unit_mag",
        "take_200",
        "resample_20Msps_to_25Msps"
       ]
      }
     ],
     "device": "cuda",
     "experiment_name": "tl_3Av2:oracle.run1.framed -> cores",
     "lr": 0.0001,
     "n_epoch": 50,
     "n_query": 2,
     "n_shot": 3,
     "n_way": 16,
     "patience": 3,
     "seed": 500,
     "test_k_factor": 2,
     "torch_default_dtype": "torch.float32",
     "train_k_factor": 3,
     "val_k_factor": 2,
     "x_net": [
      {
       "class": "nnReshape",
       "kargs": {
        "shape": [
         -1,
         1,
         2,
         200
        ]
       }
      },
      {
       "class": "Conv2d",
       "kargs": {
        "bias": false,
        "in_channels": 1,
        "kernel_size": [
         1,
         7
        ],
        "out_channels": 256,
        "padding": [
         0,
         3
        ]
       }
      },
      {
       "class": "ReLU",
       "kargs": {
        "inplace": true
       }
      },
      {
       "class": "BatchNorm2d",
       "kargs": {
        "num_features": 256
       }
      },
      {
       "class": "Conv2d",
       "kargs": {
        "bias": true,
        "in_channels": 256,
        "kernel_size": [
         2,
         7
        ],
        "out_channels": 80,
        "padding": [
         0,
         3
        ]
       }
      },
      {
       "class": "ReLU",
       "kargs": {
        "inplace": true
       }
      },
      {
       "class": "BatchNorm2d",
       "kargs": {
        "num_features": 80
       }
      },
      {
       "class": "Flatten",
       "kargs": {}
      },
      {
       "class": "Linear",
       "kargs": {
        "in_features": 16000,
        "out_features": 256
       }
      },
      {
       "class": "ReLU",
       "kargs": {
        "inplace": true
       }
      },
      {
       "class": "BatchNorm1d",
       "kargs": {
        "num_features": 256
       }
      },
      {
       "class": "Linear",
       "kargs": {
        "in_features": 256,
        "out_features": 256
       }
      }
     ],
     "x_shape": [
      2,
      200
     ]
    }
   },
   "start_time": "2022-03-25T13:53:54.844474",
   "version": "2.3.4"
  }
 },
 "nbformat": 4,
 "nbformat_minor": 5
}